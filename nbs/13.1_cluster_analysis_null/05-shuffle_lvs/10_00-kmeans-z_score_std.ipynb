{
 "cells": [
  {
   "cell_type": "markdown",
   "id": "66c94a85",
   "metadata": {
    "papermill": {
     "duration": 0.01353,
     "end_time": "2022-11-25T05:00:32.253711",
     "exception": false,
     "start_time": "2022-11-25T05:00:32.240181",
     "status": "completed"
    },
    "tags": []
   },
   "source": [
    "# Description"
   ]
  },
  {
   "cell_type": "markdown",
   "id": "3e1f0d84",
   "metadata": {
    "papermill": {
     "duration": 0.012529,
     "end_time": "2022-11-25T05:00:32.278972",
     "exception": false,
     "start_time": "2022-11-25T05:00:32.266443",
     "status": "completed"
    },
    "tags": []
   },
   "source": [
    "Runs k-means on the z_score_std version of the data."
   ]
  },
  {
   "cell_type": "markdown",
   "id": "a35cceef",
   "metadata": {
    "papermill": {
     "duration": 0.012484,
     "end_time": "2022-11-25T05:00:32.304688",
     "exception": false,
     "start_time": "2022-11-25T05:00:32.292204",
     "status": "completed"
    },
    "tags": []
   },
   "source": [
    "# Environment variables"
   ]
  },
  {
   "cell_type": "code",
   "execution_count": 1,
   "id": "5bfbc3a8",
   "metadata": {
    "execution": {
     "iopub.execute_input": "2022-11-25T05:00:32.328590Z",
     "iopub.status.busy": "2022-11-25T05:00:32.328067Z",
     "iopub.status.idle": "2022-11-25T05:00:32.347814Z",
     "shell.execute_reply": "2022-11-25T05:00:32.347333Z"
    },
    "papermill": {
     "duration": 0.031311,
     "end_time": "2022-11-25T05:00:32.348723",
     "exception": false,
     "start_time": "2022-11-25T05:00:32.317412",
     "status": "completed"
    },
    "tags": []
   },
   "outputs": [
    {
     "data": {
      "text/plain": [
       "10"
      ]
     },
     "metadata": {},
     "output_type": "display_data"
    }
   ],
   "source": [
    "from IPython.display import display\n",
    "\n",
    "import conf\n",
    "\n",
    "N_JOBS = conf.GENERAL[\"N_JOBS\"]\n",
    "display(N_JOBS)"
   ]
  },
  {
   "cell_type": "code",
   "execution_count": 2,
   "id": "fd08b2f5",
   "metadata": {
    "execution": {
     "iopub.execute_input": "2022-11-25T05:00:32.362605Z",
     "iopub.status.busy": "2022-11-25T05:00:32.362223Z",
     "iopub.status.idle": "2022-11-25T05:00:32.368415Z",
     "shell.execute_reply": "2022-11-25T05:00:32.367950Z"
    },
    "papermill": {
     "duration": 0.013966,
     "end_time": "2022-11-25T05:00:32.369215",
     "exception": false,
     "start_time": "2022-11-25T05:00:32.355249",
     "status": "completed"
    },
    "tags": []
   },
   "outputs": [
    {
     "name": "stdout",
     "output_type": "stream",
     "text": [
      "env: MKL_NUM_THREADS=10\n",
      "env: OPEN_BLAS_NUM_THREADS=10\n",
      "env: NUMEXPR_NUM_THREADS=10\n",
      "env: OMP_NUM_THREADS=10\n"
     ]
    }
   ],
   "source": [
    "%env MKL_NUM_THREADS=$N_JOBS\n",
    "%env OPEN_BLAS_NUM_THREADS=$N_JOBS\n",
    "%env NUMEXPR_NUM_THREADS=$N_JOBS\n",
    "%env OMP_NUM_THREADS=$N_JOBS"
   ]
  },
  {
   "cell_type": "markdown",
   "id": "f678aeb0",
   "metadata": {
    "papermill": {
     "duration": 0.006771,
     "end_time": "2022-11-25T05:00:32.382470",
     "exception": false,
     "start_time": "2022-11-25T05:00:32.375699",
     "status": "completed"
    },
    "tags": []
   },
   "source": [
    "# Modules loading"
   ]
  },
  {
   "cell_type": "code",
   "execution_count": 3,
   "id": "426b89ab",
   "metadata": {
    "execution": {
     "iopub.execute_input": "2022-11-25T05:00:32.396038Z",
     "iopub.status.busy": "2022-11-25T05:00:32.395806Z",
     "iopub.status.idle": "2022-11-25T05:00:32.409277Z",
     "shell.execute_reply": "2022-11-25T05:00:32.408820Z"
    },
    "papermill": {
     "duration": 0.021298,
     "end_time": "2022-11-25T05:00:32.410208",
     "exception": false,
     "start_time": "2022-11-25T05:00:32.388910",
     "status": "completed"
    },
    "tags": []
   },
   "outputs": [],
   "source": [
    "%load_ext autoreload\n",
    "%autoreload 2"
   ]
  },
  {
   "cell_type": "code",
   "execution_count": 4,
   "id": "be2e621b",
   "metadata": {
    "execution": {
     "iopub.execute_input": "2022-11-25T05:00:32.424235Z",
     "iopub.status.busy": "2022-11-25T05:00:32.423903Z",
     "iopub.status.idle": "2022-11-25T05:00:32.920491Z",
     "shell.execute_reply": "2022-11-25T05:00:32.920068Z"
    },
    "papermill": {
     "duration": 0.504677,
     "end_time": "2022-11-25T05:00:32.921624",
     "exception": false,
     "start_time": "2022-11-25T05:00:32.416947",
     "status": "completed"
    },
    "tags": []
   },
   "outputs": [],
   "source": [
    "from pathlib import Path\n",
    "\n",
    "import numpy as np\n",
    "import pandas as pd\n",
    "import matplotlib.pyplot as plt\n",
    "import seaborn as sns\n",
    "\n",
    "from utils import generate_result_set_name"
   ]
  },
  {
   "cell_type": "markdown",
   "id": "1afd3315",
   "metadata": {
    "papermill": {
     "duration": 0.009525,
     "end_time": "2022-11-25T05:00:32.938049",
     "exception": false,
     "start_time": "2022-11-25T05:00:32.928524",
     "status": "completed"
    },
    "tags": []
   },
   "source": [
    "# Settings"
   ]
  },
  {
   "cell_type": "code",
   "execution_count": 5,
   "id": "cf04fc00",
   "metadata": {
    "execution": {
     "iopub.execute_input": "2022-11-25T05:00:32.952154Z",
     "iopub.status.busy": "2022-11-25T05:00:32.951898Z",
     "iopub.status.idle": "2022-11-25T05:00:32.963796Z",
     "shell.execute_reply": "2022-11-25T05:00:32.963420Z"
    },
    "papermill": {
     "duration": 0.019851,
     "end_time": "2022-11-25T05:00:32.964694",
     "exception": false,
     "start_time": "2022-11-25T05:00:32.944843",
     "status": "completed"
    },
    "tags": []
   },
   "outputs": [],
   "source": [
    "np.random.seed(0)"
   ]
  },
  {
   "cell_type": "code",
   "execution_count": 6,
   "id": "cec0eb37",
   "metadata": {
    "execution": {
     "iopub.execute_input": "2022-11-25T05:00:32.999241Z",
     "iopub.status.busy": "2022-11-25T05:00:32.998896Z",
     "iopub.status.idle": "2022-11-25T05:00:33.010684Z",
     "shell.execute_reply": "2022-11-25T05:00:33.010329Z"
    },
    "papermill": {
     "duration": 0.020308,
     "end_time": "2022-11-25T05:00:33.011589",
     "exception": false,
     "start_time": "2022-11-25T05:00:32.991281",
     "status": "completed"
    },
    "tags": []
   },
   "outputs": [],
   "source": [
    "INITIAL_RANDOM_STATE = 0"
   ]
  },
  {
   "cell_type": "code",
   "execution_count": 7,
   "id": "f2c54434-a0b7-4e73-8d9e-f5d3844f72fc",
   "metadata": {
    "execution": {
     "iopub.execute_input": "2022-11-25T05:00:33.026587Z",
     "iopub.status.busy": "2022-11-25T05:00:33.026275Z",
     "iopub.status.idle": "2022-11-25T05:00:33.046272Z",
     "shell.execute_reply": "2022-11-25T05:00:33.045794Z"
    },
    "papermill": {
     "duration": 0.029487,
     "end_time": "2022-11-25T05:00:33.047778",
     "exception": false,
     "start_time": "2022-11-25T05:00:33.018291",
     "status": "completed"
    },
    "tags": []
   },
   "outputs": [],
   "source": [
    "NULL_DIR = conf.RESULTS[\"CLUSTERING_NULL_DIR\"] / \"shuffle_lvs\""
   ]
  },
  {
   "cell_type": "markdown",
   "id": "e572a4bf",
   "metadata": {
    "papermill": {
     "duration": 0.013309,
     "end_time": "2022-11-25T05:00:33.074230",
     "exception": false,
     "start_time": "2022-11-25T05:00:33.060921",
     "status": "completed"
    },
    "tags": []
   },
   "source": [
    "## Input data"
   ]
  },
  {
   "cell_type": "code",
   "execution_count": 8,
   "id": "5f7a64c8",
   "metadata": {
    "execution": {
     "iopub.execute_input": "2022-11-25T05:00:33.099871Z",
     "iopub.status.busy": "2022-11-25T05:00:33.099552Z",
     "iopub.status.idle": "2022-11-25T05:00:33.110706Z",
     "shell.execute_reply": "2022-11-25T05:00:33.110348Z"
    },
    "papermill": {
     "duration": 0.024605,
     "end_time": "2022-11-25T05:00:33.111582",
     "exception": false,
     "start_time": "2022-11-25T05:00:33.086977",
     "status": "completed"
    },
    "tags": []
   },
   "outputs": [],
   "source": [
    "INPUT_SUBSET = \"z_score_std\""
   ]
  },
  {
   "cell_type": "code",
   "execution_count": 9,
   "id": "9da5bd24",
   "metadata": {
    "execution": {
     "iopub.execute_input": "2022-11-25T05:00:33.125567Z",
     "iopub.status.busy": "2022-11-25T05:00:33.125356Z",
     "iopub.status.idle": "2022-11-25T05:00:33.136293Z",
     "shell.execute_reply": "2022-11-25T05:00:33.135934Z"
    },
    "papermill": {
     "duration": 0.018674,
     "end_time": "2022-11-25T05:00:33.137166",
     "exception": false,
     "start_time": "2022-11-25T05:00:33.118492",
     "status": "completed"
    },
    "tags": []
   },
   "outputs": [],
   "source": [
    "INPUT_STEM = \"projection-smultixcan-efo_partial-mashr-zscores\""
   ]
  },
  {
   "cell_type": "code",
   "execution_count": 10,
   "id": "cd01420f",
   "metadata": {
    "execution": {
     "iopub.execute_input": "2022-11-25T05:00:33.150776Z",
     "iopub.status.busy": "2022-11-25T05:00:33.150680Z",
     "iopub.status.idle": "2022-11-25T05:00:33.163699Z",
     "shell.execute_reply": "2022-11-25T05:00:33.163343Z"
    },
    "papermill": {
     "duration": 0.020716,
     "end_time": "2022-11-25T05:00:33.164552",
     "exception": false,
     "start_time": "2022-11-25T05:00:33.143836",
     "status": "completed"
    },
    "tags": []
   },
   "outputs": [
    {
     "data": {
      "text/plain": [
       "PosixPath('/opt/data/results/clustering/null_sims/shuffle_lvs/data_transformations/z_score_std/z_score_std-projection-smultixcan-efo_partial-mashr-zscores.pkl')"
      ]
     },
     "metadata": {},
     "output_type": "display_data"
    },
    {
     "data": {
      "text/plain": [
       "'z_score_std-projection-smultixcan-efo_partial-mashr-zscores'"
      ]
     },
     "metadata": {},
     "output_type": "display_data"
    }
   ],
   "source": [
    "input_filepath = Path(\n",
    "    NULL_DIR,\n",
    "    \"data_transformations\",\n",
    "    INPUT_SUBSET,\n",
    "    f\"{INPUT_SUBSET}-{INPUT_STEM}.pkl\",\n",
    ").resolve()\n",
    "display(input_filepath)\n",
    "\n",
    "assert input_filepath.exists(), \"Input file does not exist\"\n",
    "\n",
    "input_filepath_stem = input_filepath.stem\n",
    "display(input_filepath_stem)"
   ]
  },
  {
   "cell_type": "markdown",
   "id": "7f098ebe",
   "metadata": {
    "papermill": {
     "duration": 0.006435,
     "end_time": "2022-11-25T05:00:33.177968",
     "exception": false,
     "start_time": "2022-11-25T05:00:33.171533",
     "status": "completed"
    },
    "tags": []
   },
   "source": [
    "## Clustering"
   ]
  },
  {
   "cell_type": "code",
   "execution_count": 11,
   "id": "985066d7",
   "metadata": {
    "execution": {
     "iopub.execute_input": "2022-11-25T05:00:33.191993Z",
     "iopub.status.busy": "2022-11-25T05:00:33.191715Z",
     "iopub.status.idle": "2022-11-25T05:00:33.251433Z",
     "shell.execute_reply": "2022-11-25T05:00:33.251036Z"
    },
    "papermill": {
     "duration": 0.068041,
     "end_time": "2022-11-25T05:00:33.252538",
     "exception": false,
     "start_time": "2022-11-25T05:00:33.184497",
     "status": "completed"
    },
    "tags": []
   },
   "outputs": [],
   "source": [
    "from sklearn.cluster import KMeans"
   ]
  },
  {
   "cell_type": "code",
   "execution_count": 12,
   "id": "694048cb",
   "metadata": {
    "execution": {
     "iopub.execute_input": "2022-11-25T05:00:33.266564Z",
     "iopub.status.busy": "2022-11-25T05:00:33.266466Z",
     "iopub.status.idle": "2022-11-25T05:00:33.279128Z",
     "shell.execute_reply": "2022-11-25T05:00:33.278758Z"
    },
    "papermill": {
     "duration": 0.020551,
     "end_time": "2022-11-25T05:00:33.279991",
     "exception": false,
     "start_time": "2022-11-25T05:00:33.259440",
     "status": "completed"
    },
    "tags": []
   },
   "outputs": [],
   "source": [
    "CLUSTERING_ATTRIBUTES_TO_SAVE = [\"n_clusters\"]"
   ]
  },
  {
   "cell_type": "code",
   "execution_count": 13,
   "id": "7cca6d0c",
   "metadata": {
    "execution": {
     "iopub.execute_input": "2022-11-25T05:00:33.294336Z",
     "iopub.status.busy": "2022-11-25T05:00:33.293992Z",
     "iopub.status.idle": "2022-11-25T05:00:33.307248Z",
     "shell.execute_reply": "2022-11-25T05:00:33.306881Z"
    },
    "papermill": {
     "duration": 0.021429,
     "end_time": "2022-11-25T05:00:33.308093",
     "exception": false,
     "start_time": "2022-11-25T05:00:33.286664",
     "status": "completed"
    },
    "tags": []
   },
   "outputs": [
    {
     "data": {
      "text/plain": [
       "{'K_MIN': 2, 'K_MAX': 60, 'N_REPS_PER_K': 5, 'KMEANS_N_INIT': 10}"
      ]
     },
     "metadata": {},
     "output_type": "display_data"
    }
   ],
   "source": [
    "CLUSTERING_OPTIONS = {}\n",
    "\n",
    "CLUSTERING_OPTIONS[\"K_MIN\"] = 2\n",
    "CLUSTERING_OPTIONS[\"K_MAX\"] = 60  # sqrt(3749)\n",
    "CLUSTERING_OPTIONS[\"N_REPS_PER_K\"] = 5\n",
    "CLUSTERING_OPTIONS[\"KMEANS_N_INIT\"] = 10\n",
    "\n",
    "display(CLUSTERING_OPTIONS)"
   ]
  },
  {
   "cell_type": "code",
   "execution_count": 14,
   "id": "4eba8b8a",
   "metadata": {
    "execution": {
     "iopub.execute_input": "2022-11-25T05:00:33.322039Z",
     "iopub.status.busy": "2022-11-25T05:00:33.321754Z",
     "iopub.status.idle": "2022-11-25T05:00:33.335836Z",
     "shell.execute_reply": "2022-11-25T05:00:33.335470Z"
    },
    "papermill": {
     "duration": 0.021906,
     "end_time": "2022-11-25T05:00:33.336730",
     "exception": false,
     "start_time": "2022-11-25T05:00:33.314824",
     "status": "completed"
    },
    "tags": []
   },
   "outputs": [],
   "source": [
    "CLUSTERERS = {}\n",
    "\n",
    "idx = 0\n",
    "random_state = INITIAL_RANDOM_STATE\n",
    "\n",
    "for k in range(CLUSTERING_OPTIONS[\"K_MIN\"], CLUSTERING_OPTIONS[\"K_MAX\"] + 1):\n",
    "    for i in range(CLUSTERING_OPTIONS[\"N_REPS_PER_K\"]):\n",
    "        clus = KMeans(\n",
    "            n_clusters=k,\n",
    "            n_init=CLUSTERING_OPTIONS[\"KMEANS_N_INIT\"],\n",
    "            random_state=random_state,\n",
    "        )\n",
    "\n",
    "        method_name = type(clus).__name__\n",
    "        CLUSTERERS[f\"{method_name} #{idx}\"] = clus\n",
    "\n",
    "        random_state = random_state + 1\n",
    "        idx = idx + 1"
   ]
  },
  {
   "cell_type": "code",
   "execution_count": 15,
   "id": "7e8150ff",
   "metadata": {
    "execution": {
     "iopub.execute_input": "2022-11-25T05:00:33.351060Z",
     "iopub.status.busy": "2022-11-25T05:00:33.350820Z",
     "iopub.status.idle": "2022-11-25T05:00:33.363480Z",
     "shell.execute_reply": "2022-11-25T05:00:33.363131Z"
    },
    "papermill": {
     "duration": 0.020484,
     "end_time": "2022-11-25T05:00:33.364316",
     "exception": false,
     "start_time": "2022-11-25T05:00:33.343832",
     "status": "completed"
    },
    "tags": []
   },
   "outputs": [
    {
     "data": {
      "text/plain": [
       "295"
      ]
     },
     "metadata": {},
     "output_type": "display_data"
    }
   ],
   "source": [
    "display(len(CLUSTERERS))"
   ]
  },
  {
   "cell_type": "code",
   "execution_count": 16,
   "id": "1212a649",
   "metadata": {
    "execution": {
     "iopub.execute_input": "2022-11-25T05:00:33.378678Z",
     "iopub.status.busy": "2022-11-25T05:00:33.378426Z",
     "iopub.status.idle": "2022-11-25T05:00:33.393436Z",
     "shell.execute_reply": "2022-11-25T05:00:33.392960Z"
    },
    "papermill": {
     "duration": 0.023212,
     "end_time": "2022-11-25T05:00:33.394313",
     "exception": false,
     "start_time": "2022-11-25T05:00:33.371101",
     "status": "completed"
    },
    "tags": []
   },
   "outputs": [
    {
     "data": {
      "text/plain": [
       "('KMeans #0', KMeans(n_clusters=2, random_state=0))"
      ]
     },
     "metadata": {},
     "output_type": "display_data"
    },
    {
     "data": {
      "text/plain": [
       "('KMeans #1', KMeans(n_clusters=2, random_state=1))"
      ]
     },
     "metadata": {},
     "output_type": "display_data"
    }
   ],
   "source": [
    "_iter = iter(CLUSTERERS.items())\n",
    "display(next(_iter))\n",
    "display(next(_iter))"
   ]
  },
  {
   "cell_type": "code",
   "execution_count": 17,
   "id": "3f13d728",
   "metadata": {
    "execution": {
     "iopub.execute_input": "2022-11-25T05:00:33.409719Z",
     "iopub.status.busy": "2022-11-25T05:00:33.409224Z",
     "iopub.status.idle": "2022-11-25T05:00:33.431287Z",
     "shell.execute_reply": "2022-11-25T05:00:33.430823Z"
    },
    "papermill": {
     "duration": 0.030652,
     "end_time": "2022-11-25T05:00:33.432200",
     "exception": false,
     "start_time": "2022-11-25T05:00:33.401548",
     "status": "completed"
    },
    "tags": []
   },
   "outputs": [
    {
     "data": {
      "text/plain": [
       "'KMeans'"
      ]
     },
     "metadata": {},
     "output_type": "display_data"
    }
   ],
   "source": [
    "clustering_method_name = method_name\n",
    "display(clustering_method_name)"
   ]
  },
  {
   "cell_type": "markdown",
   "id": "675cc397",
   "metadata": {
    "papermill": {
     "duration": 0.007255,
     "end_time": "2022-11-25T05:00:33.446856",
     "exception": false,
     "start_time": "2022-11-25T05:00:33.439601",
     "status": "completed"
    },
    "tags": []
   },
   "source": [
    "## Output directory"
   ]
  },
  {
   "cell_type": "code",
   "execution_count": 18,
   "id": "2625738a",
   "metadata": {
    "execution": {
     "iopub.execute_input": "2022-11-25T05:00:33.462078Z",
     "iopub.status.busy": "2022-11-25T05:00:33.461585Z",
     "iopub.status.idle": "2022-11-25T05:00:33.484688Z",
     "shell.execute_reply": "2022-11-25T05:00:33.484228Z"
    },
    "papermill": {
     "duration": 0.031695,
     "end_time": "2022-11-25T05:00:33.485561",
     "exception": false,
     "start_time": "2022-11-25T05:00:33.453866",
     "status": "completed"
    },
    "tags": []
   },
   "outputs": [
    {
     "data": {
      "text/plain": [
       "PosixPath('/opt/data/results/clustering/null_sims/shuffle_lvs/runs/z_score_std-projection-smultixcan-efo_partial-mashr-zscores')"
      ]
     },
     "metadata": {},
     "output_type": "display_data"
    }
   ],
   "source": [
    "# output dir for this notebook\n",
    "RESULTS_DIR = Path(\n",
    "    NULL_DIR,\n",
    "    \"runs\",\n",
    "    f\"{INPUT_SUBSET}-{INPUT_STEM}\",\n",
    ").resolve()\n",
    "RESULTS_DIR.mkdir(parents=True, exist_ok=True)\n",
    "\n",
    "display(RESULTS_DIR)"
   ]
  },
  {
   "cell_type": "markdown",
   "id": "ccd9f1b1",
   "metadata": {
    "papermill": {
     "duration": 0.006721,
     "end_time": "2022-11-25T05:00:33.499689",
     "exception": false,
     "start_time": "2022-11-25T05:00:33.492968",
     "status": "completed"
    },
    "tags": []
   },
   "source": [
    "# Load input file"
   ]
  },
  {
   "cell_type": "code",
   "execution_count": 19,
   "id": "692acecd",
   "metadata": {
    "execution": {
     "iopub.execute_input": "2022-11-25T05:00:33.514463Z",
     "iopub.status.busy": "2022-11-25T05:00:33.514148Z",
     "iopub.status.idle": "2022-11-25T05:00:33.551971Z",
     "shell.execute_reply": "2022-11-25T05:00:33.551411Z"
    },
    "papermill": {
     "duration": 0.046568,
     "end_time": "2022-11-25T05:00:33.553137",
     "exception": false,
     "start_time": "2022-11-25T05:00:33.506569",
     "status": "completed"
    },
    "tags": []
   },
   "outputs": [],
   "source": [
    "data = pd.read_pickle(input_filepath)"
   ]
  },
  {
   "cell_type": "code",
   "execution_count": 20,
   "id": "f899584d",
   "metadata": {
    "execution": {
     "iopub.execute_input": "2022-11-25T05:00:33.568125Z",
     "iopub.status.busy": "2022-11-25T05:00:33.567755Z",
     "iopub.status.idle": "2022-11-25T05:00:33.588936Z",
     "shell.execute_reply": "2022-11-25T05:00:33.588482Z"
    },
    "papermill": {
     "duration": 0.029419,
     "end_time": "2022-11-25T05:00:33.589770",
     "exception": false,
     "start_time": "2022-11-25T05:00:33.560351",
     "status": "completed"
    },
    "tags": []
   },
   "outputs": [
    {
     "data": {
      "text/plain": [
       "(3752, 987)"
      ]
     },
     "execution_count": 20,
     "metadata": {},
     "output_type": "execute_result"
    }
   ],
   "source": [
    "data.shape"
   ]
  },
  {
   "cell_type": "code",
   "execution_count": 21,
   "id": "70696d8c",
   "metadata": {
    "execution": {
     "iopub.execute_input": "2022-11-25T05:00:33.605044Z",
     "iopub.status.busy": "2022-11-25T05:00:33.604675Z",
     "iopub.status.idle": "2022-11-25T05:00:33.643127Z",
     "shell.execute_reply": "2022-11-25T05:00:33.642653Z"
    },
    "papermill": {
     "duration": 0.04697,
     "end_time": "2022-11-25T05:00:33.644216",
     "exception": false,
     "start_time": "2022-11-25T05:00:33.597246",
     "status": "completed"
    },
    "tags": []
   },
   "outputs": [
    {
     "data": {
      "text/html": [
       "<div>\n",
       "<style scoped>\n",
       "    .dataframe tbody tr th:only-of-type {\n",
       "        vertical-align: middle;\n",
       "    }\n",
       "\n",
       "    .dataframe tbody tr th {\n",
       "        vertical-align: top;\n",
       "    }\n",
       "\n",
       "    .dataframe thead th {\n",
       "        text-align: right;\n",
       "    }\n",
       "</style>\n",
       "<table border=\"1\" class=\"dataframe\">\n",
       "  <thead>\n",
       "    <tr style=\"text-align: right;\">\n",
       "      <th></th>\n",
       "      <th>LV1</th>\n",
       "      <th>LV2</th>\n",
       "      <th>LV3</th>\n",
       "      <th>LV4</th>\n",
       "      <th>LV5</th>\n",
       "      <th>LV6</th>\n",
       "      <th>LV7</th>\n",
       "      <th>LV8</th>\n",
       "      <th>LV9</th>\n",
       "      <th>LV10</th>\n",
       "      <th>...</th>\n",
       "      <th>LV978</th>\n",
       "      <th>LV979</th>\n",
       "      <th>LV980</th>\n",
       "      <th>LV981</th>\n",
       "      <th>LV982</th>\n",
       "      <th>LV983</th>\n",
       "      <th>LV984</th>\n",
       "      <th>LV985</th>\n",
       "      <th>LV986</th>\n",
       "      <th>LV987</th>\n",
       "    </tr>\n",
       "  </thead>\n",
       "  <tbody>\n",
       "    <tr>\n",
       "      <th>100001_raw-Food_weight</th>\n",
       "      <td>-2.408007</td>\n",
       "      <td>-1.745911</td>\n",
       "      <td>1.383013</td>\n",
       "      <td>0.158718</td>\n",
       "      <td>-0.240933</td>\n",
       "      <td>-0.304911</td>\n",
       "      <td>1.823117</td>\n",
       "      <td>-0.716278</td>\n",
       "      <td>-1.769346</td>\n",
       "      <td>-0.043794</td>\n",
       "      <td>...</td>\n",
       "      <td>0.399227</td>\n",
       "      <td>0.849885</td>\n",
       "      <td>-0.593292</td>\n",
       "      <td>0.636568</td>\n",
       "      <td>0.409726</td>\n",
       "      <td>-0.871713</td>\n",
       "      <td>1.638770</td>\n",
       "      <td>0.285165</td>\n",
       "      <td>0.585307</td>\n",
       "      <td>0.592347</td>\n",
       "    </tr>\n",
       "    <tr>\n",
       "      <th>100002_raw-Energy</th>\n",
       "      <td>-0.508508</td>\n",
       "      <td>0.514427</td>\n",
       "      <td>-0.792865</td>\n",
       "      <td>-0.091775</td>\n",
       "      <td>-0.013409</td>\n",
       "      <td>0.194047</td>\n",
       "      <td>1.353713</td>\n",
       "      <td>0.117286</td>\n",
       "      <td>-0.323516</td>\n",
       "      <td>-1.641116</td>\n",
       "      <td>...</td>\n",
       "      <td>-0.038535</td>\n",
       "      <td>-1.139394</td>\n",
       "      <td>-0.951591</td>\n",
       "      <td>1.197872</td>\n",
       "      <td>0.893819</td>\n",
       "      <td>-0.820655</td>\n",
       "      <td>0.928634</td>\n",
       "      <td>-0.716778</td>\n",
       "      <td>-0.085735</td>\n",
       "      <td>-1.208965</td>\n",
       "    </tr>\n",
       "    <tr>\n",
       "      <th>100003_raw-Protein</th>\n",
       "      <td>-0.284597</td>\n",
       "      <td>-0.325076</td>\n",
       "      <td>-1.412980</td>\n",
       "      <td>1.255510</td>\n",
       "      <td>0.343603</td>\n",
       "      <td>-2.471878</td>\n",
       "      <td>-0.149640</td>\n",
       "      <td>-0.715178</td>\n",
       "      <td>-0.548948</td>\n",
       "      <td>1.210352</td>\n",
       "      <td>...</td>\n",
       "      <td>1.006094</td>\n",
       "      <td>0.595064</td>\n",
       "      <td>1.774559</td>\n",
       "      <td>-0.335165</td>\n",
       "      <td>0.394177</td>\n",
       "      <td>-0.188345</td>\n",
       "      <td>-1.864716</td>\n",
       "      <td>-0.124875</td>\n",
       "      <td>1.253625</td>\n",
       "      <td>0.804944</td>\n",
       "    </tr>\n",
       "    <tr>\n",
       "      <th>100004_raw-Fat</th>\n",
       "      <td>-0.427503</td>\n",
       "      <td>-0.096524</td>\n",
       "      <td>-0.348654</td>\n",
       "      <td>-1.250087</td>\n",
       "      <td>-0.253145</td>\n",
       "      <td>-0.236606</td>\n",
       "      <td>-0.600627</td>\n",
       "      <td>0.277239</td>\n",
       "      <td>-0.844748</td>\n",
       "      <td>-0.998437</td>\n",
       "      <td>...</td>\n",
       "      <td>0.249993</td>\n",
       "      <td>-1.520660</td>\n",
       "      <td>0.037241</td>\n",
       "      <td>0.514992</td>\n",
       "      <td>0.512538</td>\n",
       "      <td>-1.083619</td>\n",
       "      <td>0.310643</td>\n",
       "      <td>-1.719033</td>\n",
       "      <td>-0.970770</td>\n",
       "      <td>-2.628077</td>\n",
       "    </tr>\n",
       "    <tr>\n",
       "      <th>100005_raw-Carbohydrate</th>\n",
       "      <td>-1.502621</td>\n",
       "      <td>-1.083034</td>\n",
       "      <td>0.531159</td>\n",
       "      <td>0.332981</td>\n",
       "      <td>-1.240640</td>\n",
       "      <td>-0.852565</td>\n",
       "      <td>-0.003171</td>\n",
       "      <td>0.561912</td>\n",
       "      <td>-0.772413</td>\n",
       "      <td>-0.372739</td>\n",
       "      <td>...</td>\n",
       "      <td>-0.577730</td>\n",
       "      <td>-1.163380</td>\n",
       "      <td>0.000251</td>\n",
       "      <td>-0.345607</td>\n",
       "      <td>-1.610004</td>\n",
       "      <td>0.194078</td>\n",
       "      <td>0.605594</td>\n",
       "      <td>1.182825</td>\n",
       "      <td>-1.567705</td>\n",
       "      <td>-0.011902</td>\n",
       "    </tr>\n",
       "  </tbody>\n",
       "</table>\n",
       "<p>5 rows × 987 columns</p>\n",
       "</div>"
      ],
      "text/plain": [
       "                              LV1       LV2       LV3       LV4       LV5  \\\n",
       "100001_raw-Food_weight  -2.408007 -1.745911  1.383013  0.158718 -0.240933   \n",
       "100002_raw-Energy       -0.508508  0.514427 -0.792865 -0.091775 -0.013409   \n",
       "100003_raw-Protein      -0.284597 -0.325076 -1.412980  1.255510  0.343603   \n",
       "100004_raw-Fat          -0.427503 -0.096524 -0.348654 -1.250087 -0.253145   \n",
       "100005_raw-Carbohydrate -1.502621 -1.083034  0.531159  0.332981 -1.240640   \n",
       "\n",
       "                              LV6       LV7       LV8       LV9      LV10  \\\n",
       "100001_raw-Food_weight  -0.304911  1.823117 -0.716278 -1.769346 -0.043794   \n",
       "100002_raw-Energy        0.194047  1.353713  0.117286 -0.323516 -1.641116   \n",
       "100003_raw-Protein      -2.471878 -0.149640 -0.715178 -0.548948  1.210352   \n",
       "100004_raw-Fat          -0.236606 -0.600627  0.277239 -0.844748 -0.998437   \n",
       "100005_raw-Carbohydrate -0.852565 -0.003171  0.561912 -0.772413 -0.372739   \n",
       "\n",
       "                         ...     LV978     LV979     LV980     LV981  \\\n",
       "100001_raw-Food_weight   ...  0.399227  0.849885 -0.593292  0.636568   \n",
       "100002_raw-Energy        ... -0.038535 -1.139394 -0.951591  1.197872   \n",
       "100003_raw-Protein       ...  1.006094  0.595064  1.774559 -0.335165   \n",
       "100004_raw-Fat           ...  0.249993 -1.520660  0.037241  0.514992   \n",
       "100005_raw-Carbohydrate  ... -0.577730 -1.163380  0.000251 -0.345607   \n",
       "\n",
       "                            LV982     LV983     LV984     LV985     LV986  \\\n",
       "100001_raw-Food_weight   0.409726 -0.871713  1.638770  0.285165  0.585307   \n",
       "100002_raw-Energy        0.893819 -0.820655  0.928634 -0.716778 -0.085735   \n",
       "100003_raw-Protein       0.394177 -0.188345 -1.864716 -0.124875  1.253625   \n",
       "100004_raw-Fat           0.512538 -1.083619  0.310643 -1.719033 -0.970770   \n",
       "100005_raw-Carbohydrate -1.610004  0.194078  0.605594  1.182825 -1.567705   \n",
       "\n",
       "                            LV987  \n",
       "100001_raw-Food_weight   0.592347  \n",
       "100002_raw-Energy       -1.208965  \n",
       "100003_raw-Protein       0.804944  \n",
       "100004_raw-Fat          -2.628077  \n",
       "100005_raw-Carbohydrate -0.011902  \n",
       "\n",
       "[5 rows x 987 columns]"
      ]
     },
     "execution_count": 21,
     "metadata": {},
     "output_type": "execute_result"
    }
   ],
   "source": [
    "data.head()"
   ]
  },
  {
   "cell_type": "code",
   "execution_count": 22,
   "id": "5ee9a303",
   "metadata": {
    "execution": {
     "iopub.execute_input": "2022-11-25T05:00:33.666876Z",
     "iopub.status.busy": "2022-11-25T05:00:33.666570Z",
     "iopub.status.idle": "2022-11-25T05:00:33.695096Z",
     "shell.execute_reply": "2022-11-25T05:00:33.694570Z"
    },
    "papermill": {
     "duration": 0.041446,
     "end_time": "2022-11-25T05:00:33.696468",
     "exception": false,
     "start_time": "2022-11-25T05:00:33.655022",
     "status": "completed"
    },
    "tags": []
   },
   "outputs": [],
   "source": [
    "assert not data.isna().any().any()"
   ]
  },
  {
   "cell_type": "markdown",
   "id": "93d26b49",
   "metadata": {
    "papermill": {
     "duration": 0.010385,
     "end_time": "2022-11-25T05:00:33.717728",
     "exception": false,
     "start_time": "2022-11-25T05:00:33.707343",
     "status": "completed"
    },
    "tags": []
   },
   "source": [
    "# Clustering"
   ]
  },
  {
   "cell_type": "markdown",
   "id": "ffaba945",
   "metadata": {
    "papermill": {
     "duration": 0.010116,
     "end_time": "2022-11-25T05:00:33.738793",
     "exception": false,
     "start_time": "2022-11-25T05:00:33.728677",
     "status": "completed"
    },
    "tags": []
   },
   "source": [
    "## Generate ensemble"
   ]
  },
  {
   "cell_type": "code",
   "execution_count": 23,
   "id": "2343113e",
   "metadata": {
    "execution": {
     "iopub.execute_input": "2022-11-25T05:00:33.760188Z",
     "iopub.status.busy": "2022-11-25T05:00:33.759760Z",
     "iopub.status.idle": "2022-11-25T05:00:33.785033Z",
     "shell.execute_reply": "2022-11-25T05:00:33.784563Z"
    },
    "papermill": {
     "duration": 0.036931,
     "end_time": "2022-11-25T05:00:33.785985",
     "exception": false,
     "start_time": "2022-11-25T05:00:33.749054",
     "status": "completed"
    },
    "tags": []
   },
   "outputs": [],
   "source": [
    "from clustering.ensembles.utils import generate_ensemble"
   ]
  },
  {
   "cell_type": "code",
   "execution_count": 24,
   "id": "899ddf11",
   "metadata": {
    "execution": {
     "iopub.execute_input": "2022-11-25T05:00:33.801751Z",
     "iopub.status.busy": "2022-11-25T05:00:33.801398Z",
     "iopub.status.idle": "2022-11-25T05:09:05.283236Z",
     "shell.execute_reply": "2022-11-25T05:09:05.282905Z"
    },
    "papermill": {
     "duration": 511.49126,
     "end_time": "2022-11-25T05:09:05.284606",
     "exception": false,
     "start_time": "2022-11-25T05:00:33.793346",
     "status": "completed"
    },
    "tags": []
   },
   "outputs": [
    {
     "name": "stderr",
     "output_type": "stream",
     "text": [
      "100%|██████████| 295/295 [08:31<00:00,  1.73s/it]\n"
     ]
    }
   ],
   "source": [
    "ensemble = generate_ensemble(\n",
    "    data,\n",
    "    CLUSTERERS,\n",
    "    attributes=CLUSTERING_ATTRIBUTES_TO_SAVE,\n",
    ")"
   ]
  },
  {
   "cell_type": "code",
   "execution_count": 25,
   "id": "f04eae96",
   "metadata": {
    "execution": {
     "iopub.execute_input": "2022-11-25T05:09:05.342476Z",
     "iopub.status.busy": "2022-11-25T05:09:05.342373Z",
     "iopub.status.idle": "2022-11-25T05:09:05.354771Z",
     "shell.execute_reply": "2022-11-25T05:09:05.354507Z"
    },
    "papermill": {
     "duration": 0.041276,
     "end_time": "2022-11-25T05:09:05.355941",
     "exception": false,
     "start_time": "2022-11-25T05:09:05.314665",
     "status": "completed"
    },
    "tags": []
   },
   "outputs": [
    {
     "data": {
      "text/plain": [
       "(295, 3)"
      ]
     },
     "execution_count": 25,
     "metadata": {},
     "output_type": "execute_result"
    }
   ],
   "source": [
    "# the number should be close to 295 (the number of partitions generated by k-means/spectral clustering)\n",
    "ensemble.shape"
   ]
  },
  {
   "cell_type": "code",
   "execution_count": 26,
   "id": "4f54d2fc",
   "metadata": {
    "execution": {
     "iopub.execute_input": "2022-11-25T05:09:05.404672Z",
     "iopub.status.busy": "2022-11-25T05:09:05.404575Z",
     "iopub.status.idle": "2022-11-25T05:09:05.434019Z",
     "shell.execute_reply": "2022-11-25T05:09:05.433560Z"
    },
    "papermill": {
     "duration": 0.051036,
     "end_time": "2022-11-25T05:09:05.434823",
     "exception": false,
     "start_time": "2022-11-25T05:09:05.383787",
     "status": "completed"
    },
    "tags": []
   },
   "outputs": [
    {
     "data": {
      "text/html": [
       "<div>\n",
       "<style scoped>\n",
       "    .dataframe tbody tr th:only-of-type {\n",
       "        vertical-align: middle;\n",
       "    }\n",
       "\n",
       "    .dataframe tbody tr th {\n",
       "        vertical-align: top;\n",
       "    }\n",
       "\n",
       "    .dataframe thead th {\n",
       "        text-align: right;\n",
       "    }\n",
       "</style>\n",
       "<table border=\"1\" class=\"dataframe\">\n",
       "  <thead>\n",
       "    <tr style=\"text-align: right;\">\n",
       "      <th></th>\n",
       "      <th>clusterer_params</th>\n",
       "      <th>partition</th>\n",
       "      <th>n_clusters</th>\n",
       "    </tr>\n",
       "    <tr>\n",
       "      <th>clusterer_id</th>\n",
       "      <th></th>\n",
       "      <th></th>\n",
       "      <th></th>\n",
       "    </tr>\n",
       "  </thead>\n",
       "  <tbody>\n",
       "    <tr>\n",
       "      <th>KMeans #0</th>\n",
       "      <td>{'algorithm': 'auto', 'copy_x': True, 'init': ...</td>\n",
       "      <td>[0.0, 0.0, 1.0, 1.0, 1.0, 0.0, 0.0, 1.0, 1.0, ...</td>\n",
       "      <td>2</td>\n",
       "    </tr>\n",
       "    <tr>\n",
       "      <th>KMeans #1</th>\n",
       "      <td>{'algorithm': 'auto', 'copy_x': True, 'init': ...</td>\n",
       "      <td>[0.0, 1.0, 1.0, 0.0, 0.0, 1.0, 1.0, 0.0, 0.0, ...</td>\n",
       "      <td>2</td>\n",
       "    </tr>\n",
       "    <tr>\n",
       "      <th>KMeans #2</th>\n",
       "      <td>{'algorithm': 'auto', 'copy_x': True, 'init': ...</td>\n",
       "      <td>[0.0, 0.0, 0.0, 1.0, 1.0, 0.0, 0.0, 1.0, 0.0, ...</td>\n",
       "      <td>2</td>\n",
       "    </tr>\n",
       "    <tr>\n",
       "      <th>KMeans #3</th>\n",
       "      <td>{'algorithm': 'auto', 'copy_x': True, 'init': ...</td>\n",
       "      <td>[0.0, 1.0, 0.0, 0.0, 0.0, 1.0, 1.0, 0.0, 1.0, ...</td>\n",
       "      <td>2</td>\n",
       "    </tr>\n",
       "    <tr>\n",
       "      <th>KMeans #4</th>\n",
       "      <td>{'algorithm': 'auto', 'copy_x': True, 'init': ...</td>\n",
       "      <td>[0.0, 1.0, 1.0, 0.0, 1.0, 1.0, 1.0, 1.0, 1.0, ...</td>\n",
       "      <td>2</td>\n",
       "    </tr>\n",
       "  </tbody>\n",
       "</table>\n",
       "</div>"
      ],
      "text/plain": [
       "                                               clusterer_params  \\\n",
       "clusterer_id                                                      \n",
       "KMeans #0     {'algorithm': 'auto', 'copy_x': True, 'init': ...   \n",
       "KMeans #1     {'algorithm': 'auto', 'copy_x': True, 'init': ...   \n",
       "KMeans #2     {'algorithm': 'auto', 'copy_x': True, 'init': ...   \n",
       "KMeans #3     {'algorithm': 'auto', 'copy_x': True, 'init': ...   \n",
       "KMeans #4     {'algorithm': 'auto', 'copy_x': True, 'init': ...   \n",
       "\n",
       "                                                      partition  n_clusters  \n",
       "clusterer_id                                                                 \n",
       "KMeans #0     [0.0, 0.0, 1.0, 1.0, 1.0, 0.0, 0.0, 1.0, 1.0, ...           2  \n",
       "KMeans #1     [0.0, 1.0, 1.0, 0.0, 0.0, 1.0, 1.0, 0.0, 0.0, ...           2  \n",
       "KMeans #2     [0.0, 0.0, 0.0, 1.0, 1.0, 0.0, 0.0, 1.0, 0.0, ...           2  \n",
       "KMeans #3     [0.0, 1.0, 0.0, 0.0, 0.0, 1.0, 1.0, 0.0, 1.0, ...           2  \n",
       "KMeans #4     [0.0, 1.0, 1.0, 0.0, 1.0, 1.0, 1.0, 1.0, 1.0, ...           2  "
      ]
     },
     "execution_count": 26,
     "metadata": {},
     "output_type": "execute_result"
    }
   ],
   "source": [
    "ensemble.head()"
   ]
  },
  {
   "cell_type": "code",
   "execution_count": 27,
   "id": "b03486bc",
   "metadata": {
    "execution": {
     "iopub.execute_input": "2022-11-25T05:09:05.464969Z",
     "iopub.status.busy": "2022-11-25T05:09:05.464669Z",
     "iopub.status.idle": "2022-11-25T05:09:05.486154Z",
     "shell.execute_reply": "2022-11-25T05:09:05.485723Z"
    },
    "papermill": {
     "duration": 0.037578,
     "end_time": "2022-11-25T05:09:05.486961",
     "exception": false,
     "start_time": "2022-11-25T05:09:05.449383",
     "status": "completed"
    },
    "tags": []
   },
   "outputs": [
    {
     "data": {
      "text/plain": [
       "60    5\n",
       "16    5\n",
       "28    5\n",
       "27    5\n",
       "26    5\n",
       "Name: n_clusters, dtype: int64"
      ]
     },
     "execution_count": 27,
     "metadata": {},
     "output_type": "execute_result"
    }
   ],
   "source": [
    "ensemble[\"n_clusters\"].value_counts().head()"
   ]
  },
  {
   "cell_type": "code",
   "execution_count": 28,
   "id": "acae8e2a",
   "metadata": {
    "execution": {
     "iopub.execute_input": "2022-11-25T05:09:05.517334Z",
     "iopub.status.busy": "2022-11-25T05:09:05.517010Z",
     "iopub.status.idle": "2022-11-25T05:09:05.539689Z",
     "shell.execute_reply": "2022-11-25T05:09:05.539261Z"
    },
    "papermill": {
     "duration": 0.038616,
     "end_time": "2022-11-25T05:09:05.540482",
     "exception": false,
     "start_time": "2022-11-25T05:09:05.501866",
     "status": "completed"
    },
    "tags": []
   },
   "outputs": [
    {
     "data": {
      "text/plain": [
       "count    295.000000\n",
       "mean      31.000000\n",
       "std       17.058323\n",
       "min        2.000000\n",
       "25%       16.000000\n",
       "50%       31.000000\n",
       "75%       46.000000\n",
       "max       60.000000\n",
       "Name: n_clusters, dtype: float64"
      ]
     },
     "metadata": {},
     "output_type": "display_data"
    }
   ],
   "source": [
    "ensemble_stats = ensemble[\"n_clusters\"].describe()\n",
    "display(ensemble_stats)"
   ]
  },
  {
   "cell_type": "markdown",
   "id": "6e19388b",
   "metadata": {
    "papermill": {
     "duration": 0.014669,
     "end_time": "2022-11-25T05:09:05.570010",
     "exception": false,
     "start_time": "2022-11-25T05:09:05.555341",
     "status": "completed"
    },
    "tags": []
   },
   "source": [
    "## Testing"
   ]
  },
  {
   "cell_type": "code",
   "execution_count": 29,
   "id": "bfc77e0e",
   "metadata": {
    "execution": {
     "iopub.execute_input": "2022-11-25T05:09:05.600404Z",
     "iopub.status.busy": "2022-11-25T05:09:05.600011Z",
     "iopub.status.idle": "2022-11-25T05:09:05.619371Z",
     "shell.execute_reply": "2022-11-25T05:09:05.618932Z"
    },
    "papermill": {
     "duration": 0.03545,
     "end_time": "2022-11-25T05:09:05.620192",
     "exception": false,
     "start_time": "2022-11-25T05:09:05.584742",
     "status": "completed"
    },
    "tags": []
   },
   "outputs": [],
   "source": [
    "assert ensemble_stats[\"min\"] > 1"
   ]
  },
  {
   "cell_type": "code",
   "execution_count": 30,
   "id": "9ab563a6",
   "metadata": {
    "execution": {
     "iopub.execute_input": "2022-11-25T05:09:05.650573Z",
     "iopub.status.busy": "2022-11-25T05:09:05.650186Z",
     "iopub.status.idle": "2022-11-25T05:09:05.669534Z",
     "shell.execute_reply": "2022-11-25T05:09:05.669099Z"
    },
    "papermill": {
     "duration": 0.035373,
     "end_time": "2022-11-25T05:09:05.670363",
     "exception": false,
     "start_time": "2022-11-25T05:09:05.634990",
     "status": "completed"
    },
    "tags": []
   },
   "outputs": [],
   "source": [
    "assert not ensemble[\"n_clusters\"].isna().any()"
   ]
  },
  {
   "cell_type": "code",
   "execution_count": 31,
   "id": "e6fba9fc",
   "metadata": {
    "execution": {
     "iopub.execute_input": "2022-11-25T05:09:05.700873Z",
     "iopub.status.busy": "2022-11-25T05:09:05.700572Z",
     "iopub.status.idle": "2022-11-25T05:09:05.719658Z",
     "shell.execute_reply": "2022-11-25T05:09:05.719219Z"
    },
    "papermill": {
     "duration": 0.035163,
     "end_time": "2022-11-25T05:09:05.720503",
     "exception": false,
     "start_time": "2022-11-25T05:09:05.685340",
     "status": "completed"
    },
    "tags": []
   },
   "outputs": [],
   "source": [
    "assert ensemble.shape[0] == len(CLUSTERERS)"
   ]
  },
  {
   "cell_type": "code",
   "execution_count": 32,
   "id": "215f06e4",
   "metadata": {
    "execution": {
     "iopub.execute_input": "2022-11-25T05:09:05.751414Z",
     "iopub.status.busy": "2022-11-25T05:09:05.751086Z",
     "iopub.status.idle": "2022-11-25T05:09:05.793299Z",
     "shell.execute_reply": "2022-11-25T05:09:05.792854Z"
    },
    "papermill": {
     "duration": 0.058782,
     "end_time": "2022-11-25T05:09:05.794187",
     "exception": false,
     "start_time": "2022-11-25T05:09:05.735405",
     "status": "completed"
    },
    "tags": []
   },
   "outputs": [],
   "source": [
    "# all partitions have the right size\n",
    "assert np.all(\n",
    "    [part[\"partition\"].shape[0] == data.shape[0] for idx, part in ensemble.iterrows()]\n",
    ")"
   ]
  },
  {
   "cell_type": "code",
   "execution_count": 33,
   "id": "e9ff921c",
   "metadata": {
    "execution": {
     "iopub.execute_input": "2022-11-25T05:09:05.824205Z",
     "iopub.status.busy": "2022-11-25T05:09:05.823889Z",
     "iopub.status.idle": "2022-11-25T05:09:05.869603Z",
     "shell.execute_reply": "2022-11-25T05:09:05.869109Z"
    },
    "papermill": {
     "duration": 0.061509,
     "end_time": "2022-11-25T05:09:05.870432",
     "exception": false,
     "start_time": "2022-11-25T05:09:05.808923",
     "status": "completed"
    },
    "tags": []
   },
   "outputs": [],
   "source": [
    "# no partition has negative clusters (noisy points)\n",
    "assert not np.any([(part[\"partition\"] < 0).any() for idx, part in ensemble.iterrows()])"
   ]
  },
  {
   "cell_type": "markdown",
   "id": "d8468470",
   "metadata": {
    "papermill": {
     "duration": 0.014405,
     "end_time": "2022-11-25T05:09:05.899440",
     "exception": false,
     "start_time": "2022-11-25T05:09:05.885035",
     "status": "completed"
    },
    "tags": []
   },
   "source": [
    "## Add clustering quality measures"
   ]
  },
  {
   "cell_type": "code",
   "execution_count": 34,
   "id": "b53f2c17",
   "metadata": {
    "execution": {
     "iopub.execute_input": "2022-11-25T05:09:05.929274Z",
     "iopub.status.busy": "2022-11-25T05:09:05.928927Z",
     "iopub.status.idle": "2022-11-25T05:09:05.948340Z",
     "shell.execute_reply": "2022-11-25T05:09:05.947891Z"
    },
    "papermill": {
     "duration": 0.035367,
     "end_time": "2022-11-25T05:09:05.949254",
     "exception": false,
     "start_time": "2022-11-25T05:09:05.913887",
     "status": "completed"
    },
    "tags": []
   },
   "outputs": [],
   "source": [
    "from sklearn.metrics import calinski_harabasz_score"
   ]
  },
  {
   "cell_type": "code",
   "execution_count": 35,
   "id": "1a17d7b7",
   "metadata": {
    "execution": {
     "iopub.execute_input": "2022-11-25T05:09:05.979146Z",
     "iopub.status.busy": "2022-11-25T05:09:05.978819Z",
     "iopub.status.idle": "2022-11-25T05:09:10.966749Z",
     "shell.execute_reply": "2022-11-25T05:09:10.966288Z"
    },
    "papermill": {
     "duration": 5.004309,
     "end_time": "2022-11-25T05:09:10.968228",
     "exception": false,
     "start_time": "2022-11-25T05:09:05.963919",
     "status": "completed"
    },
    "tags": []
   },
   "outputs": [],
   "source": [
    "ensemble = ensemble.assign(\n",
    "    ch_score=ensemble[\"partition\"].apply(lambda x: calinski_harabasz_score(data, x))\n",
    ")"
   ]
  },
  {
   "cell_type": "code",
   "execution_count": 36,
   "id": "52922d4b",
   "metadata": {
    "execution": {
     "iopub.execute_input": "2022-11-25T05:09:11.025386Z",
     "iopub.status.busy": "2022-11-25T05:09:11.025286Z",
     "iopub.status.idle": "2022-11-25T05:09:11.038176Z",
     "shell.execute_reply": "2022-11-25T05:09:11.037856Z"
    },
    "papermill": {
     "duration": 0.042539,
     "end_time": "2022-11-25T05:09:11.039386",
     "exception": false,
     "start_time": "2022-11-25T05:09:10.996847",
     "status": "completed"
    },
    "tags": []
   },
   "outputs": [
    {
     "data": {
      "text/plain": [
       "(295, 4)"
      ]
     },
     "execution_count": 36,
     "metadata": {},
     "output_type": "execute_result"
    }
   ],
   "source": [
    "ensemble.shape"
   ]
  },
  {
   "cell_type": "code",
   "execution_count": 37,
   "id": "4a8d48ac",
   "metadata": {
    "execution": {
     "iopub.execute_input": "2022-11-25T05:09:11.090714Z",
     "iopub.status.busy": "2022-11-25T05:09:11.090632Z",
     "iopub.status.idle": "2022-11-25T05:09:11.119571Z",
     "shell.execute_reply": "2022-11-25T05:09:11.119079Z"
    },
    "papermill": {
     "duration": 0.053242,
     "end_time": "2022-11-25T05:09:11.120409",
     "exception": false,
     "start_time": "2022-11-25T05:09:11.067167",
     "status": "completed"
    },
    "tags": []
   },
   "outputs": [
    {
     "data": {
      "text/html": [
       "<div>\n",
       "<style scoped>\n",
       "    .dataframe tbody tr th:only-of-type {\n",
       "        vertical-align: middle;\n",
       "    }\n",
       "\n",
       "    .dataframe tbody tr th {\n",
       "        vertical-align: top;\n",
       "    }\n",
       "\n",
       "    .dataframe thead th {\n",
       "        text-align: right;\n",
       "    }\n",
       "</style>\n",
       "<table border=\"1\" class=\"dataframe\">\n",
       "  <thead>\n",
       "    <tr style=\"text-align: right;\">\n",
       "      <th></th>\n",
       "      <th>clusterer_params</th>\n",
       "      <th>partition</th>\n",
       "      <th>n_clusters</th>\n",
       "      <th>ch_score</th>\n",
       "    </tr>\n",
       "    <tr>\n",
       "      <th>clusterer_id</th>\n",
       "      <th></th>\n",
       "      <th></th>\n",
       "      <th></th>\n",
       "      <th></th>\n",
       "    </tr>\n",
       "  </thead>\n",
       "  <tbody>\n",
       "    <tr>\n",
       "      <th>KMeans #0</th>\n",
       "      <td>{'algorithm': 'auto', 'copy_x': True, 'init': ...</td>\n",
       "      <td>[0.0, 0.0, 1.0, 1.0, 1.0, 0.0, 0.0, 1.0, 1.0, ...</td>\n",
       "      <td>2</td>\n",
       "      <td>5.522721</td>\n",
       "    </tr>\n",
       "    <tr>\n",
       "      <th>KMeans #1</th>\n",
       "      <td>{'algorithm': 'auto', 'copy_x': True, 'init': ...</td>\n",
       "      <td>[0.0, 1.0, 1.0, 0.0, 0.0, 1.0, 1.0, 0.0, 0.0, ...</td>\n",
       "      <td>2</td>\n",
       "      <td>5.543418</td>\n",
       "    </tr>\n",
       "    <tr>\n",
       "      <th>KMeans #2</th>\n",
       "      <td>{'algorithm': 'auto', 'copy_x': True, 'init': ...</td>\n",
       "      <td>[0.0, 0.0, 0.0, 1.0, 1.0, 0.0, 0.0, 1.0, 0.0, ...</td>\n",
       "      <td>2</td>\n",
       "      <td>5.648999</td>\n",
       "    </tr>\n",
       "    <tr>\n",
       "      <th>KMeans #3</th>\n",
       "      <td>{'algorithm': 'auto', 'copy_x': True, 'init': ...</td>\n",
       "      <td>[0.0, 1.0, 0.0, 0.0, 0.0, 1.0, 1.0, 0.0, 1.0, ...</td>\n",
       "      <td>2</td>\n",
       "      <td>5.503176</td>\n",
       "    </tr>\n",
       "    <tr>\n",
       "      <th>KMeans #4</th>\n",
       "      <td>{'algorithm': 'auto', 'copy_x': True, 'init': ...</td>\n",
       "      <td>[0.0, 1.0, 1.0, 0.0, 1.0, 1.0, 1.0, 1.0, 1.0, ...</td>\n",
       "      <td>2</td>\n",
       "      <td>5.478692</td>\n",
       "    </tr>\n",
       "  </tbody>\n",
       "</table>\n",
       "</div>"
      ],
      "text/plain": [
       "                                               clusterer_params  \\\n",
       "clusterer_id                                                      \n",
       "KMeans #0     {'algorithm': 'auto', 'copy_x': True, 'init': ...   \n",
       "KMeans #1     {'algorithm': 'auto', 'copy_x': True, 'init': ...   \n",
       "KMeans #2     {'algorithm': 'auto', 'copy_x': True, 'init': ...   \n",
       "KMeans #3     {'algorithm': 'auto', 'copy_x': True, 'init': ...   \n",
       "KMeans #4     {'algorithm': 'auto', 'copy_x': True, 'init': ...   \n",
       "\n",
       "                                                      partition  n_clusters  \\\n",
       "clusterer_id                                                                  \n",
       "KMeans #0     [0.0, 0.0, 1.0, 1.0, 1.0, 0.0, 0.0, 1.0, 1.0, ...           2   \n",
       "KMeans #1     [0.0, 1.0, 1.0, 0.0, 0.0, 1.0, 1.0, 0.0, 0.0, ...           2   \n",
       "KMeans #2     [0.0, 0.0, 0.0, 1.0, 1.0, 0.0, 0.0, 1.0, 0.0, ...           2   \n",
       "KMeans #3     [0.0, 1.0, 0.0, 0.0, 0.0, 1.0, 1.0, 0.0, 1.0, ...           2   \n",
       "KMeans #4     [0.0, 1.0, 1.0, 0.0, 1.0, 1.0, 1.0, 1.0, 1.0, ...           2   \n",
       "\n",
       "              ch_score  \n",
       "clusterer_id            \n",
       "KMeans #0     5.522721  \n",
       "KMeans #1     5.543418  \n",
       "KMeans #2     5.648999  \n",
       "KMeans #3     5.503176  \n",
       "KMeans #4     5.478692  "
      ]
     },
     "execution_count": 37,
     "metadata": {},
     "output_type": "execute_result"
    }
   ],
   "source": [
    "ensemble.head()"
   ]
  },
  {
   "cell_type": "markdown",
   "id": "442b5727",
   "metadata": {
    "papermill": {
     "duration": 0.014514,
     "end_time": "2022-11-25T05:09:11.149769",
     "exception": false,
     "start_time": "2022-11-25T05:09:11.135255",
     "status": "completed"
    },
    "tags": []
   },
   "source": [
    "## Save"
   ]
  },
  {
   "cell_type": "code",
   "execution_count": 38,
   "id": "eb9a43fc",
   "metadata": {
    "execution": {
     "iopub.execute_input": "2022-11-25T05:09:11.180087Z",
     "iopub.status.busy": "2022-11-25T05:09:11.179771Z",
     "iopub.status.idle": "2022-11-25T05:09:11.200072Z",
     "shell.execute_reply": "2022-11-25T05:09:11.199584Z"
    },
    "papermill": {
     "duration": 0.036362,
     "end_time": "2022-11-25T05:09:11.200876",
     "exception": false,
     "start_time": "2022-11-25T05:09:11.164514",
     "status": "completed"
    },
    "tags": []
   },
   "outputs": [
    {
     "data": {
      "text/plain": [
       "PosixPath('/opt/data/results/clustering/null_sims/shuffle_lvs/runs/z_score_std-projection-smultixcan-efo_partial-mashr-zscores/KMeans-KMEANS_N_INIT_10-K_MAX_60-K_MIN_2-N_REPS_PER_K_5.pkl')"
      ]
     },
     "metadata": {},
     "output_type": "display_data"
    }
   ],
   "source": [
    "output_filename = Path(\n",
    "    RESULTS_DIR,\n",
    "    generate_result_set_name(\n",
    "        CLUSTERING_OPTIONS,\n",
    "        prefix=f\"{clustering_method_name}-\",\n",
    "        suffix=\".pkl\",\n",
    "    ),\n",
    ").resolve()\n",
    "display(output_filename)"
   ]
  },
  {
   "cell_type": "code",
   "execution_count": 39,
   "id": "cc452e68",
   "metadata": {
    "execution": {
     "iopub.execute_input": "2022-11-25T05:09:11.231376Z",
     "iopub.status.busy": "2022-11-25T05:09:11.231062Z",
     "iopub.status.idle": "2022-11-25T05:09:11.262053Z",
     "shell.execute_reply": "2022-11-25T05:09:11.261530Z"
    },
    "papermill": {
     "duration": 0.047451,
     "end_time": "2022-11-25T05:09:11.263090",
     "exception": false,
     "start_time": "2022-11-25T05:09:11.215639",
     "status": "completed"
    },
    "tags": []
   },
   "outputs": [],
   "source": [
    "ensemble.to_pickle(output_filename)"
   ]
  },
  {
   "cell_type": "markdown",
   "id": "0c21fea1",
   "metadata": {
    "papermill": {
     "duration": 0.022089,
     "end_time": "2022-11-25T05:09:11.307549",
     "exception": false,
     "start_time": "2022-11-25T05:09:11.285460",
     "status": "completed"
    },
    "tags": []
   },
   "source": [
    "# Cluster quality"
   ]
  },
  {
   "cell_type": "code",
   "execution_count": 40,
   "id": "48236231",
   "metadata": {
    "execution": {
     "iopub.execute_input": "2022-11-25T05:09:11.341405Z",
     "iopub.status.busy": "2022-11-25T05:09:11.341084Z",
     "iopub.status.idle": "2022-11-25T05:09:11.368745Z",
     "shell.execute_reply": "2022-11-25T05:09:11.368245Z"
    },
    "papermill": {
     "duration": 0.044147,
     "end_time": "2022-11-25T05:09:11.369549",
     "exception": false,
     "start_time": "2022-11-25T05:09:11.325402",
     "status": "completed"
    },
    "tags": []
   },
   "outputs": [
    {
     "data": {
      "text/html": [
       "<div>\n",
       "<style scoped>\n",
       "    .dataframe tbody tr th:only-of-type {\n",
       "        vertical-align: middle;\n",
       "    }\n",
       "\n",
       "    .dataframe tbody tr th {\n",
       "        vertical-align: top;\n",
       "    }\n",
       "\n",
       "    .dataframe thead th {\n",
       "        text-align: right;\n",
       "    }\n",
       "</style>\n",
       "<table border=\"1\" class=\"dataframe\">\n",
       "  <thead>\n",
       "    <tr style=\"text-align: right;\">\n",
       "      <th></th>\n",
       "      <th>ch_score</th>\n",
       "    </tr>\n",
       "    <tr>\n",
       "      <th>n_clusters</th>\n",
       "      <th></th>\n",
       "    </tr>\n",
       "  </thead>\n",
       "  <tbody>\n",
       "    <tr>\n",
       "      <th>2</th>\n",
       "      <td>5.539401</td>\n",
       "    </tr>\n",
       "    <tr>\n",
       "      <th>3</th>\n",
       "      <td>4.805684</td>\n",
       "    </tr>\n",
       "    <tr>\n",
       "      <th>4</th>\n",
       "      <td>4.348712</td>\n",
       "    </tr>\n",
       "    <tr>\n",
       "      <th>5</th>\n",
       "      <td>3.915325</td>\n",
       "    </tr>\n",
       "    <tr>\n",
       "      <th>6</th>\n",
       "      <td>3.604700</td>\n",
       "    </tr>\n",
       "    <tr>\n",
       "      <th>7</th>\n",
       "      <td>3.388169</td>\n",
       "    </tr>\n",
       "    <tr>\n",
       "      <th>8</th>\n",
       "      <td>3.140720</td>\n",
       "    </tr>\n",
       "    <tr>\n",
       "      <th>9</th>\n",
       "      <td>2.958463</td>\n",
       "    </tr>\n",
       "    <tr>\n",
       "      <th>10</th>\n",
       "      <td>2.795160</td>\n",
       "    </tr>\n",
       "    <tr>\n",
       "      <th>11</th>\n",
       "      <td>2.433458</td>\n",
       "    </tr>\n",
       "    <tr>\n",
       "      <th>12</th>\n",
       "      <td>2.649291</td>\n",
       "    </tr>\n",
       "    <tr>\n",
       "      <th>13</th>\n",
       "      <td>2.539953</td>\n",
       "    </tr>\n",
       "    <tr>\n",
       "      <th>14</th>\n",
       "      <td>2.279994</td>\n",
       "    </tr>\n",
       "    <tr>\n",
       "      <th>15</th>\n",
       "      <td>2.356872</td>\n",
       "    </tr>\n",
       "    <tr>\n",
       "      <th>16</th>\n",
       "      <td>2.259621</td>\n",
       "    </tr>\n",
       "    <tr>\n",
       "      <th>17</th>\n",
       "      <td>2.111241</td>\n",
       "    </tr>\n",
       "    <tr>\n",
       "      <th>18</th>\n",
       "      <td>2.153464</td>\n",
       "    </tr>\n",
       "    <tr>\n",
       "      <th>19</th>\n",
       "      <td>1.892787</td>\n",
       "    </tr>\n",
       "    <tr>\n",
       "      <th>20</th>\n",
       "      <td>1.827892</td>\n",
       "    </tr>\n",
       "    <tr>\n",
       "      <th>21</th>\n",
       "      <td>1.904655</td>\n",
       "    </tr>\n",
       "    <tr>\n",
       "      <th>22</th>\n",
       "      <td>1.841902</td>\n",
       "    </tr>\n",
       "    <tr>\n",
       "      <th>23</th>\n",
       "      <td>1.846271</td>\n",
       "    </tr>\n",
       "    <tr>\n",
       "      <th>24</th>\n",
       "      <td>1.797184</td>\n",
       "    </tr>\n",
       "    <tr>\n",
       "      <th>25</th>\n",
       "      <td>1.694009</td>\n",
       "    </tr>\n",
       "    <tr>\n",
       "      <th>26</th>\n",
       "      <td>1.803134</td>\n",
       "    </tr>\n",
       "    <tr>\n",
       "      <th>27</th>\n",
       "      <td>1.743750</td>\n",
       "    </tr>\n",
       "    <tr>\n",
       "      <th>28</th>\n",
       "      <td>1.785322</td>\n",
       "    </tr>\n",
       "    <tr>\n",
       "      <th>29</th>\n",
       "      <td>1.801577</td>\n",
       "    </tr>\n",
       "    <tr>\n",
       "      <th>30</th>\n",
       "      <td>1.553328</td>\n",
       "    </tr>\n",
       "    <tr>\n",
       "      <th>31</th>\n",
       "      <td>1.653801</td>\n",
       "    </tr>\n",
       "    <tr>\n",
       "      <th>32</th>\n",
       "      <td>1.596692</td>\n",
       "    </tr>\n",
       "    <tr>\n",
       "      <th>33</th>\n",
       "      <td>1.685046</td>\n",
       "    </tr>\n",
       "    <tr>\n",
       "      <th>34</th>\n",
       "      <td>1.630540</td>\n",
       "    </tr>\n",
       "    <tr>\n",
       "      <th>35</th>\n",
       "      <td>1.596878</td>\n",
       "    </tr>\n",
       "    <tr>\n",
       "      <th>36</th>\n",
       "      <td>1.595915</td>\n",
       "    </tr>\n",
       "    <tr>\n",
       "      <th>37</th>\n",
       "      <td>1.625678</td>\n",
       "    </tr>\n",
       "    <tr>\n",
       "      <th>38</th>\n",
       "      <td>1.570203</td>\n",
       "    </tr>\n",
       "    <tr>\n",
       "      <th>39</th>\n",
       "      <td>1.607962</td>\n",
       "    </tr>\n",
       "    <tr>\n",
       "      <th>40</th>\n",
       "      <td>1.615240</td>\n",
       "    </tr>\n",
       "    <tr>\n",
       "      <th>41</th>\n",
       "      <td>1.669465</td>\n",
       "    </tr>\n",
       "    <tr>\n",
       "      <th>42</th>\n",
       "      <td>1.584341</td>\n",
       "    </tr>\n",
       "    <tr>\n",
       "      <th>43</th>\n",
       "      <td>1.594074</td>\n",
       "    </tr>\n",
       "    <tr>\n",
       "      <th>44</th>\n",
       "      <td>1.569645</td>\n",
       "    </tr>\n",
       "    <tr>\n",
       "      <th>45</th>\n",
       "      <td>1.631369</td>\n",
       "    </tr>\n",
       "    <tr>\n",
       "      <th>46</th>\n",
       "      <td>1.533425</td>\n",
       "    </tr>\n",
       "    <tr>\n",
       "      <th>47</th>\n",
       "      <td>1.577638</td>\n",
       "    </tr>\n",
       "    <tr>\n",
       "      <th>48</th>\n",
       "      <td>1.597666</td>\n",
       "    </tr>\n",
       "    <tr>\n",
       "      <th>49</th>\n",
       "      <td>1.555227</td>\n",
       "    </tr>\n",
       "    <tr>\n",
       "      <th>50</th>\n",
       "      <td>1.533257</td>\n",
       "    </tr>\n",
       "    <tr>\n",
       "      <th>51</th>\n",
       "      <td>1.519895</td>\n",
       "    </tr>\n",
       "    <tr>\n",
       "      <th>52</th>\n",
       "      <td>1.526594</td>\n",
       "    </tr>\n",
       "    <tr>\n",
       "      <th>53</th>\n",
       "      <td>1.565408</td>\n",
       "    </tr>\n",
       "    <tr>\n",
       "      <th>54</th>\n",
       "      <td>1.544978</td>\n",
       "    </tr>\n",
       "    <tr>\n",
       "      <th>55</th>\n",
       "      <td>1.581472</td>\n",
       "    </tr>\n",
       "    <tr>\n",
       "      <th>56</th>\n",
       "      <td>1.609632</td>\n",
       "    </tr>\n",
       "    <tr>\n",
       "      <th>57</th>\n",
       "      <td>1.584283</td>\n",
       "    </tr>\n",
       "    <tr>\n",
       "      <th>58</th>\n",
       "      <td>1.544288</td>\n",
       "    </tr>\n",
       "    <tr>\n",
       "      <th>59</th>\n",
       "      <td>1.611463</td>\n",
       "    </tr>\n",
       "    <tr>\n",
       "      <th>60</th>\n",
       "      <td>1.576285</td>\n",
       "    </tr>\n",
       "  </tbody>\n",
       "</table>\n",
       "</div>"
      ],
      "text/plain": [
       "            ch_score\n",
       "n_clusters          \n",
       "2           5.539401\n",
       "3           4.805684\n",
       "4           4.348712\n",
       "5           3.915325\n",
       "6           3.604700\n",
       "7           3.388169\n",
       "8           3.140720\n",
       "9           2.958463\n",
       "10          2.795160\n",
       "11          2.433458\n",
       "12          2.649291\n",
       "13          2.539953\n",
       "14          2.279994\n",
       "15          2.356872\n",
       "16          2.259621\n",
       "17          2.111241\n",
       "18          2.153464\n",
       "19          1.892787\n",
       "20          1.827892\n",
       "21          1.904655\n",
       "22          1.841902\n",
       "23          1.846271\n",
       "24          1.797184\n",
       "25          1.694009\n",
       "26          1.803134\n",
       "27          1.743750\n",
       "28          1.785322\n",
       "29          1.801577\n",
       "30          1.553328\n",
       "31          1.653801\n",
       "32          1.596692\n",
       "33          1.685046\n",
       "34          1.630540\n",
       "35          1.596878\n",
       "36          1.595915\n",
       "37          1.625678\n",
       "38          1.570203\n",
       "39          1.607962\n",
       "40          1.615240\n",
       "41          1.669465\n",
       "42          1.584341\n",
       "43          1.594074\n",
       "44          1.569645\n",
       "45          1.631369\n",
       "46          1.533425\n",
       "47          1.577638\n",
       "48          1.597666\n",
       "49          1.555227\n",
       "50          1.533257\n",
       "51          1.519895\n",
       "52          1.526594\n",
       "53          1.565408\n",
       "54          1.544978\n",
       "55          1.581472\n",
       "56          1.609632\n",
       "57          1.584283\n",
       "58          1.544288\n",
       "59          1.611463\n",
       "60          1.576285"
      ]
     },
     "metadata": {},
     "output_type": "display_data"
    }
   ],
   "source": [
    "with pd.option_context(\"display.max_rows\", None, \"display.max_columns\", None):\n",
    "    _df = ensemble.groupby([\"n_clusters\"]).mean()\n",
    "    display(_df)"
   ]
  },
  {
   "cell_type": "code",
   "execution_count": 41,
   "id": "ff408360",
   "metadata": {
    "execution": {
     "iopub.execute_input": "2022-11-25T05:09:11.400495Z",
     "iopub.status.busy": "2022-11-25T05:09:11.400332Z",
     "iopub.status.idle": "2022-11-25T05:09:13.430400Z",
     "shell.execute_reply": "2022-11-25T05:09:13.429941Z"
    },
    "papermill": {
     "duration": 2.04724,
     "end_time": "2022-11-25T05:09:13.431943",
     "exception": false,
     "start_time": "2022-11-25T05:09:11.384703",
     "status": "completed"
    },
    "tags": []
   },
   "outputs": [
    {
     "data": {
      "image/png": "[encoded data removed]",
      "text/plain": [
       "<Figure size 1008x432 with 1 Axes>"
      ]
     },
     "metadata": {},
     "output_type": "display_data"
    }
   ],
   "source": [
    "with sns.plotting_context(\"talk\", font_scale=0.75), sns.axes_style(\n",
    "    \"whitegrid\", {\"grid.linestyle\": \"--\"}\n",
    "):\n",
    "    fig = plt.figure(figsize=(14, 6))\n",
    "    ax = sns.pointplot(data=ensemble, x=\"n_clusters\", y=\"ch_score\")\n",
    "    ax.set_ylabel(\"Calinski-Harabasz index\")\n",
    "    ax.set_xlabel(\"Number of clusters ($k$)\")\n",
    "    ax.set_xticklabels(ax.get_xticklabels(), rotation=45)\n",
    "    plt.grid(True)\n",
    "    plt.tight_layout()"
   ]
  },
  {
   "cell_type": "markdown",
   "id": "73ff0803",
   "metadata": {
    "papermill": {
     "duration": 0.029723,
     "end_time": "2022-11-25T05:09:13.492414",
     "exception": false,
     "start_time": "2022-11-25T05:09:13.462691",
     "status": "completed"
    },
    "tags": []
   },
   "source": [
    "# Stability"
   ]
  },
  {
   "cell_type": "markdown",
   "id": "a5be8ae2",
   "metadata": {
    "papermill": {
     "duration": 0.015374,
     "end_time": "2022-11-25T05:09:13.532695",
     "exception": false,
     "start_time": "2022-11-25T05:09:13.517321",
     "status": "completed"
    },
    "tags": []
   },
   "source": [
    "## Group ensemble by n_clusters"
   ]
  },
  {
   "cell_type": "code",
   "execution_count": 42,
   "id": "a6c3df9b",
   "metadata": {
    "execution": {
     "iopub.execute_input": "2022-11-25T05:09:13.564445Z",
     "iopub.status.busy": "2022-11-25T05:09:13.564237Z",
     "iopub.status.idle": "2022-11-25T05:09:13.605178Z",
     "shell.execute_reply": "2022-11-25T05:09:13.604599Z"
    },
    "papermill": {
     "duration": 0.058251,
     "end_time": "2022-11-25T05:09:13.606438",
     "exception": false,
     "start_time": "2022-11-25T05:09:13.548187",
     "status": "completed"
    },
    "tags": []
   },
   "outputs": [],
   "source": [
    "parts = ensemble.groupby(\"n_clusters\").apply(\n",
    "    lambda x: np.concatenate(x[\"partition\"].apply(lambda x: x.reshape(1, -1)), axis=0)\n",
    ")"
   ]
  },
  {
   "cell_type": "code",
   "execution_count": 43,
   "id": "2a394747",
   "metadata": {
    "execution": {
     "iopub.execute_input": "2022-11-25T05:09:13.638299Z",
     "iopub.status.busy": "2022-11-25T05:09:13.638143Z",
     "iopub.status.idle": "2022-11-25T05:09:13.675935Z",
     "shell.execute_reply": "2022-11-25T05:09:13.675481Z"
    },
    "papermill": {
     "duration": 0.054798,
     "end_time": "2022-11-25T05:09:13.676765",
     "exception": false,
     "start_time": "2022-11-25T05:09:13.621967",
     "status": "completed"
    },
    "tags": []
   },
   "outputs": [
    {
     "data": {
      "text/plain": [
       "n_clusters\n",
       "2    [[0.0, 0.0, 1.0, 1.0, 1.0, 0.0, 0.0, 1.0, 1.0,...\n",
       "3    [[1.0, 1.0, 0.0, 0.0, 1.0, 2.0, 1.0, 1.0, 0.0,...\n",
       "4    [[3.0, 0.0, 2.0, 0.0, 0.0, 0.0, 3.0, 2.0, 2.0,...\n",
       "5    [[4.0, 0.0, 1.0, 4.0, 2.0, 1.0, 3.0, 0.0, 2.0,...\n",
       "6    [[5.0, 2.0, 2.0, 0.0, 0.0, 5.0, 0.0, 5.0, 5.0,...\n",
       "dtype: object"
      ]
     },
     "execution_count": 43,
     "metadata": {},
     "output_type": "execute_result"
    }
   ],
   "source": [
    "parts.head()"
   ]
  },
  {
   "cell_type": "code",
   "execution_count": 44,
   "id": "a5ab1871",
   "metadata": {
    "execution": {
     "iopub.execute_input": "2022-11-25T05:09:13.709821Z",
     "iopub.status.busy": "2022-11-25T05:09:13.709647Z",
     "iopub.status.idle": "2022-11-25T05:09:13.731376Z",
     "shell.execute_reply": "2022-11-25T05:09:13.730868Z"
    },
    "papermill": {
     "duration": 0.039686,
     "end_time": "2022-11-25T05:09:13.732765",
     "exception": false,
     "start_time": "2022-11-25T05:09:13.693079",
     "status": "completed"
    },
    "tags": []
   },
   "outputs": [],
   "source": [
    "assert np.all(\n",
    "    [\n",
    "        parts.loc[k].shape == (CLUSTERING_OPTIONS[\"N_REPS_PER_K\"], data.shape[0])\n",
    "        for k in parts.index\n",
    "    ]\n",
    ")"
   ]
  },
  {
   "cell_type": "markdown",
   "id": "016ca2f8",
   "metadata": {
    "papermill": {
     "duration": 0.015472,
     "end_time": "2022-11-25T05:09:13.764075",
     "exception": false,
     "start_time": "2022-11-25T05:09:13.748603",
     "status": "completed"
    },
    "tags": []
   },
   "source": [
    "## Compute stability"
   ]
  },
  {
   "cell_type": "code",
   "execution_count": 45,
   "id": "998827ed",
   "metadata": {
    "execution": {
     "iopub.execute_input": "2022-11-25T05:09:13.795980Z",
     "iopub.status.busy": "2022-11-25T05:09:13.795823Z",
     "iopub.status.idle": "2022-11-25T05:09:13.814936Z",
     "shell.execute_reply": "2022-11-25T05:09:13.814432Z"
    },
    "papermill": {
     "duration": 0.036698,
     "end_time": "2022-11-25T05:09:13.816261",
     "exception": false,
     "start_time": "2022-11-25T05:09:13.779563",
     "status": "completed"
    },
    "tags": []
   },
   "outputs": [],
   "source": [
    "from sklearn.metrics import adjusted_rand_score as ari\n",
    "from scipy.spatial.distance import pdist"
   ]
  },
  {
   "cell_type": "code",
   "execution_count": 46,
   "id": "dac8f1ca",
   "metadata": {
    "execution": {
     "iopub.execute_input": "2022-11-25T05:09:13.848531Z",
     "iopub.status.busy": "2022-11-25T05:09:13.848130Z",
     "iopub.status.idle": "2022-11-25T05:09:14.361736Z",
     "shell.execute_reply": "2022-11-25T05:09:14.361269Z"
    },
    "papermill": {
     "duration": 0.53101,
     "end_time": "2022-11-25T05:09:14.362932",
     "exception": false,
     "start_time": "2022-11-25T05:09:13.831922",
     "status": "completed"
    },
    "tags": []
   },
   "outputs": [],
   "source": [
    "parts_ari = pd.Series(\n",
    "    {k: pdist(parts.loc[k], metric=ari) for k in parts.index}, name=\"k\"\n",
    ")"
   ]
  },
  {
   "cell_type": "code",
   "execution_count": 47,
   "id": "84419a75",
   "metadata": {
    "execution": {
     "iopub.execute_input": "2022-11-25T05:09:14.394896Z",
     "iopub.status.busy": "2022-11-25T05:09:14.394807Z",
     "iopub.status.idle": "2022-11-25T05:09:14.413396Z",
     "shell.execute_reply": "2022-11-25T05:09:14.412997Z"
    },
    "papermill": {
     "duration": 0.035435,
     "end_time": "2022-11-25T05:09:14.414189",
     "exception": false,
     "start_time": "2022-11-25T05:09:14.378754",
     "status": "completed"
    },
    "tags": []
   },
   "outputs": [
    {
     "data": {
      "text/plain": [
       "45    0.020830\n",
       "52    0.020179\n",
       "47    0.015444\n",
       "58    0.013875\n",
       "25    0.012781\n",
       "48    0.012345\n",
       "54    0.010744\n",
       "15    0.010417\n",
       "44    0.009578\n",
       "55    0.009397\n",
       "33    0.008738\n",
       "36    0.008384\n",
       "49    0.008133\n",
       "46    0.008035\n",
       "23    0.007828\n",
       "Name: k, dtype: float64"
      ]
     },
     "metadata": {},
     "output_type": "display_data"
    }
   ],
   "source": [
    "parts_ari_stability = parts_ari.apply(lambda x: x.mean())\n",
    "display(parts_ari_stability.sort_values(ascending=False).head(15))"
   ]
  },
  {
   "cell_type": "code",
   "execution_count": 48,
   "id": "47858bf6",
   "metadata": {
    "execution": {
     "iopub.execute_input": "2022-11-25T05:09:14.446384Z",
     "iopub.status.busy": "2022-11-25T05:09:14.446262Z",
     "iopub.status.idle": "2022-11-25T05:09:14.466933Z",
     "shell.execute_reply": "2022-11-25T05:09:14.466397Z"
    },
    "papermill": {
     "duration": 0.038238,
     "end_time": "2022-11-25T05:09:14.468207",
     "exception": false,
     "start_time": "2022-11-25T05:09:14.429969",
     "status": "completed"
    },
    "tags": []
   },
   "outputs": [],
   "source": [
    "parts_ari_df = pd.DataFrame.from_records(parts_ari.tolist()).set_index(\n",
    "    parts_ari.index.copy()\n",
    ")"
   ]
  },
  {
   "cell_type": "code",
   "execution_count": 49,
   "id": "ba200d26",
   "metadata": {
    "execution": {
     "iopub.execute_input": "2022-11-25T05:09:14.500565Z",
     "iopub.status.busy": "2022-11-25T05:09:14.500193Z",
     "iopub.status.idle": "2022-11-25T05:09:14.519744Z",
     "shell.execute_reply": "2022-11-25T05:09:14.519300Z"
    },
    "papermill": {
     "duration": 0.036665,
     "end_time": "2022-11-25T05:09:14.520546",
     "exception": false,
     "start_time": "2022-11-25T05:09:14.483881",
     "status": "completed"
    },
    "tags": []
   },
   "outputs": [
    {
     "data": {
      "text/plain": [
       "(59, 10)"
      ]
     },
     "execution_count": 49,
     "metadata": {},
     "output_type": "execute_result"
    }
   ],
   "source": [
    "parts_ari_df.shape"
   ]
  },
  {
   "cell_type": "code",
   "execution_count": 50,
   "id": "d30a7b2f",
   "metadata": {
    "execution": {
     "iopub.execute_input": "2022-11-25T05:09:14.552893Z",
     "iopub.status.busy": "2022-11-25T05:09:14.552567Z",
     "iopub.status.idle": "2022-11-25T05:09:14.572460Z",
     "shell.execute_reply": "2022-11-25T05:09:14.571969Z"
    },
    "papermill": {
     "duration": 0.037029,
     "end_time": "2022-11-25T05:09:14.573300",
     "exception": false,
     "start_time": "2022-11-25T05:09:14.536271",
     "status": "completed"
    },
    "tags": []
   },
   "outputs": [],
   "source": [
    "assert (\n",
    "    int(\n",
    "        (CLUSTERING_OPTIONS[\"N_REPS_PER_K\"] * (CLUSTERING_OPTIONS[\"N_REPS_PER_K\"] - 1))\n",
    "        / 2\n",
    "    )\n",
    "    == parts_ari_df.shape[1]\n",
    ")"
   ]
  },
  {
   "cell_type": "code",
   "execution_count": 51,
   "id": "e8d17b33",
   "metadata": {
    "execution": {
     "iopub.execute_input": "2022-11-25T05:09:14.624347Z",
     "iopub.status.busy": "2022-11-25T05:09:14.623995Z",
     "iopub.status.idle": "2022-11-25T05:09:14.650313Z",
     "shell.execute_reply": "2022-11-25T05:09:14.649866Z"
    },
    "papermill": {
     "duration": 0.043399,
     "end_time": "2022-11-25T05:09:14.651143",
     "exception": false,
     "start_time": "2022-11-25T05:09:14.607744",
     "status": "completed"
    },
    "tags": []
   },
   "outputs": [
    {
     "data": {
      "text/html": [
       "<div>\n",
       "<style scoped>\n",
       "    .dataframe tbody tr th:only-of-type {\n",
       "        vertical-align: middle;\n",
       "    }\n",
       "\n",
       "    .dataframe tbody tr th {\n",
       "        vertical-align: top;\n",
       "    }\n",
       "\n",
       "    .dataframe thead th {\n",
       "        text-align: right;\n",
       "    }\n",
       "</style>\n",
       "<table border=\"1\" class=\"dataframe\">\n",
       "  <thead>\n",
       "    <tr style=\"text-align: right;\">\n",
       "      <th></th>\n",
       "      <th>0</th>\n",
       "      <th>1</th>\n",
       "      <th>2</th>\n",
       "      <th>3</th>\n",
       "      <th>4</th>\n",
       "      <th>5</th>\n",
       "      <th>6</th>\n",
       "      <th>7</th>\n",
       "      <th>8</th>\n",
       "      <th>9</th>\n",
       "    </tr>\n",
       "  </thead>\n",
       "  <tbody>\n",
       "    <tr>\n",
       "      <th>2</th>\n",
       "      <td>0.032741</td>\n",
       "      <td>0.024926</td>\n",
       "      <td>0.000265</td>\n",
       "      <td>-0.000304</td>\n",
       "      <td>-0.000503</td>\n",
       "      <td>0.003248</td>\n",
       "      <td>-0.000397</td>\n",
       "      <td>0.001737</td>\n",
       "      <td>0.004729</td>\n",
       "      <td>0.008789</td>\n",
       "    </tr>\n",
       "    <tr>\n",
       "      <th>3</th>\n",
       "      <td>0.005968</td>\n",
       "      <td>-0.000516</td>\n",
       "      <td>0.008970</td>\n",
       "      <td>0.003864</td>\n",
       "      <td>0.008951</td>\n",
       "      <td>0.008181</td>\n",
       "      <td>0.009740</td>\n",
       "      <td>0.001057</td>\n",
       "      <td>-0.000117</td>\n",
       "      <td>0.009255</td>\n",
       "    </tr>\n",
       "    <tr>\n",
       "      <th>4</th>\n",
       "      <td>0.006505</td>\n",
       "      <td>0.007198</td>\n",
       "      <td>0.002503</td>\n",
       "      <td>0.004006</td>\n",
       "      <td>0.001796</td>\n",
       "      <td>0.006499</td>\n",
       "      <td>0.003297</td>\n",
       "      <td>0.006263</td>\n",
       "      <td>0.002237</td>\n",
       "      <td>0.008726</td>\n",
       "    </tr>\n",
       "    <tr>\n",
       "      <th>5</th>\n",
       "      <td>0.005383</td>\n",
       "      <td>0.022783</td>\n",
       "      <td>0.003036</td>\n",
       "      <td>0.004971</td>\n",
       "      <td>0.005542</td>\n",
       "      <td>0.006965</td>\n",
       "      <td>0.003163</td>\n",
       "      <td>0.006563</td>\n",
       "      <td>0.005212</td>\n",
       "      <td>0.001480</td>\n",
       "    </tr>\n",
       "    <tr>\n",
       "      <th>6</th>\n",
       "      <td>0.005440</td>\n",
       "      <td>0.003493</td>\n",
       "      <td>0.003661</td>\n",
       "      <td>0.008507</td>\n",
       "      <td>0.003592</td>\n",
       "      <td>0.002984</td>\n",
       "      <td>0.003591</td>\n",
       "      <td>0.004391</td>\n",
       "      <td>0.001128</td>\n",
       "      <td>0.002698</td>\n",
       "    </tr>\n",
       "  </tbody>\n",
       "</table>\n",
       "</div>"
      ],
      "text/plain": [
       "          0         1         2         3         4         5         6  \\\n",
       "2  0.032741  0.024926  0.000265 -0.000304 -0.000503  0.003248 -0.000397   \n",
       "3  0.005968 -0.000516  0.008970  0.003864  0.008951  0.008181  0.009740   \n",
       "4  0.006505  0.007198  0.002503  0.004006  0.001796  0.006499  0.003297   \n",
       "5  0.005383  0.022783  0.003036  0.004971  0.005542  0.006965  0.003163   \n",
       "6  0.005440  0.003493  0.003661  0.008507  0.003592  0.002984  0.003591   \n",
       "\n",
       "          7         8         9  \n",
       "2  0.001737  0.004729  0.008789  \n",
       "3  0.001057 -0.000117  0.009255  \n",
       "4  0.006263  0.002237  0.008726  \n",
       "5  0.006563  0.005212  0.001480  \n",
       "6  0.004391  0.001128  0.002698  "
      ]
     },
     "execution_count": 51,
     "metadata": {},
     "output_type": "execute_result"
    }
   ],
   "source": [
    "parts_ari_df.head()"
   ]
  },
  {
   "cell_type": "markdown",
   "id": "0f2ad37d",
   "metadata": {
    "papermill": {
     "duration": 0.015583,
     "end_time": "2022-11-25T05:09:14.682577",
     "exception": false,
     "start_time": "2022-11-25T05:09:14.666994",
     "status": "completed"
    },
    "tags": []
   },
   "source": [
    "## Save"
   ]
  },
  {
   "cell_type": "code",
   "execution_count": 52,
   "id": "4067f2f9",
   "metadata": {
    "execution": {
     "iopub.execute_input": "2022-11-25T05:09:14.714744Z",
     "iopub.status.busy": "2022-11-25T05:09:14.714591Z",
     "iopub.status.idle": "2022-11-25T05:09:14.735205Z",
     "shell.execute_reply": "2022-11-25T05:09:14.734756Z"
    },
    "papermill": {
     "duration": 0.037646,
     "end_time": "2022-11-25T05:09:14.736002",
     "exception": false,
     "start_time": "2022-11-25T05:09:14.698356",
     "status": "completed"
    },
    "tags": []
   },
   "outputs": [
    {
     "data": {
      "text/plain": [
       "PosixPath('/opt/data/results/clustering/null_sims/shuffle_lvs/runs/z_score_std-projection-smultixcan-efo_partial-mashr-zscores/KMeans-stability-KMEANS_N_INIT_10-K_MAX_60-K_MIN_2-N_REPS_PER_K_5.pkl')"
      ]
     },
     "metadata": {},
     "output_type": "display_data"
    }
   ],
   "source": [
    "output_filename = Path(\n",
    "    RESULTS_DIR,\n",
    "    generate_result_set_name(\n",
    "        CLUSTERING_OPTIONS,\n",
    "        prefix=f\"{clustering_method_name}-stability-\",\n",
    "        suffix=\".pkl\",\n",
    "    ),\n",
    ").resolve()\n",
    "display(output_filename)"
   ]
  },
  {
   "cell_type": "code",
   "execution_count": 53,
   "id": "3eb1c18f",
   "metadata": {
    "execution": {
     "iopub.execute_input": "2022-11-25T05:09:14.768478Z",
     "iopub.status.busy": "2022-11-25T05:09:14.768318Z",
     "iopub.status.idle": "2022-11-25T05:09:14.787420Z",
     "shell.execute_reply": "2022-11-25T05:09:14.786972Z"
    },
    "papermill": {
     "duration": 0.03679,
     "end_time": "2022-11-25T05:09:14.788804",
     "exception": false,
     "start_time": "2022-11-25T05:09:14.752014",
     "status": "completed"
    },
    "tags": []
   },
   "outputs": [],
   "source": [
    "parts_ari_df.to_pickle(output_filename)"
   ]
  },
  {
   "cell_type": "markdown",
   "id": "ed3e8473",
   "metadata": {
    "papermill": {
     "duration": 0.015682,
     "end_time": "2022-11-25T05:09:14.820368",
     "exception": false,
     "start_time": "2022-11-25T05:09:14.804686",
     "status": "completed"
    },
    "tags": []
   },
   "source": [
    "## Stability plot"
   ]
  },
  {
   "cell_type": "code",
   "execution_count": 54,
   "id": "7979db7a",
   "metadata": {
    "execution": {
     "iopub.execute_input": "2022-11-25T05:09:14.852673Z",
     "iopub.status.busy": "2022-11-25T05:09:14.852525Z",
     "iopub.status.idle": "2022-11-25T05:09:14.873520Z",
     "shell.execute_reply": "2022-11-25T05:09:14.873064Z"
    },
    "papermill": {
     "duration": 0.03825,
     "end_time": "2022-11-25T05:09:14.874426",
     "exception": false,
     "start_time": "2022-11-25T05:09:14.836176",
     "status": "completed"
    },
    "tags": []
   },
   "outputs": [],
   "source": [
    "parts_ari_df_plot = (\n",
    "    parts_ari_df.stack()\n",
    "    .reset_index()\n",
    "    .rename(columns={\"level_0\": \"k\", \"level_1\": \"idx\", 0: \"ari\"})\n",
    ")"
   ]
  },
  {
   "cell_type": "code",
   "execution_count": 55,
   "id": "0c6dd8aa",
   "metadata": {
    "execution": {
     "iopub.execute_input": "2022-11-25T05:09:14.906820Z",
     "iopub.status.busy": "2022-11-25T05:09:14.906671Z",
     "iopub.status.idle": "2022-11-25T05:09:14.926966Z",
     "shell.execute_reply": "2022-11-25T05:09:14.926523Z"
    },
    "papermill": {
     "duration": 0.03741,
     "end_time": "2022-11-25T05:09:14.927784",
     "exception": false,
     "start_time": "2022-11-25T05:09:14.890374",
     "status": "completed"
    },
    "tags": []
   },
   "outputs": [
    {
     "data": {
      "text/plain": [
       "k        int64\n",
       "idx      int64\n",
       "ari    float64\n",
       "dtype: object"
      ]
     },
     "execution_count": 55,
     "metadata": {},
     "output_type": "execute_result"
    }
   ],
   "source": [
    "parts_ari_df_plot.dtypes"
   ]
  },
  {
   "cell_type": "code",
   "execution_count": 56,
   "id": "e8f841c8",
   "metadata": {
    "execution": {
     "iopub.execute_input": "2022-11-25T05:09:14.960557Z",
     "iopub.status.busy": "2022-11-25T05:09:14.960186Z",
     "iopub.status.idle": "2022-11-25T05:09:14.982478Z",
     "shell.execute_reply": "2022-11-25T05:09:14.982034Z"
    },
    "papermill": {
     "duration": 0.039481,
     "end_time": "2022-11-25T05:09:14.983298",
     "exception": false,
     "start_time": "2022-11-25T05:09:14.943817",
     "status": "completed"
    },
    "tags": []
   },
   "outputs": [
    {
     "data": {
      "text/html": [
       "<div>\n",
       "<style scoped>\n",
       "    .dataframe tbody tr th:only-of-type {\n",
       "        vertical-align: middle;\n",
       "    }\n",
       "\n",
       "    .dataframe tbody tr th {\n",
       "        vertical-align: top;\n",
       "    }\n",
       "\n",
       "    .dataframe thead th {\n",
       "        text-align: right;\n",
       "    }\n",
       "</style>\n",
       "<table border=\"1\" class=\"dataframe\">\n",
       "  <thead>\n",
       "    <tr style=\"text-align: right;\">\n",
       "      <th></th>\n",
       "      <th>k</th>\n",
       "      <th>idx</th>\n",
       "      <th>ari</th>\n",
       "    </tr>\n",
       "  </thead>\n",
       "  <tbody>\n",
       "    <tr>\n",
       "      <th>0</th>\n",
       "      <td>2</td>\n",
       "      <td>0</td>\n",
       "      <td>0.032741</td>\n",
       "    </tr>\n",
       "    <tr>\n",
       "      <th>1</th>\n",
       "      <td>2</td>\n",
       "      <td>1</td>\n",
       "      <td>0.024926</td>\n",
       "    </tr>\n",
       "    <tr>\n",
       "      <th>2</th>\n",
       "      <td>2</td>\n",
       "      <td>2</td>\n",
       "      <td>0.000265</td>\n",
       "    </tr>\n",
       "    <tr>\n",
       "      <th>3</th>\n",
       "      <td>2</td>\n",
       "      <td>3</td>\n",
       "      <td>-0.000304</td>\n",
       "    </tr>\n",
       "    <tr>\n",
       "      <th>4</th>\n",
       "      <td>2</td>\n",
       "      <td>4</td>\n",
       "      <td>-0.000503</td>\n",
       "    </tr>\n",
       "  </tbody>\n",
       "</table>\n",
       "</div>"
      ],
      "text/plain": [
       "   k  idx       ari\n",
       "0  2    0  0.032741\n",
       "1  2    1  0.024926\n",
       "2  2    2  0.000265\n",
       "3  2    3 -0.000304\n",
       "4  2    4 -0.000503"
      ]
     },
     "execution_count": 56,
     "metadata": {},
     "output_type": "execute_result"
    }
   ],
   "source": [
    "parts_ari_df_plot.head()"
   ]
  },
  {
   "cell_type": "code",
   "execution_count": 57,
   "id": "554b37cb",
   "metadata": {
    "execution": {
     "iopub.execute_input": "2022-11-25T05:09:15.015906Z",
     "iopub.status.busy": "2022-11-25T05:09:15.015755Z",
     "iopub.status.idle": "2022-11-25T05:09:16.900824Z",
     "shell.execute_reply": "2022-11-25T05:09:16.900385Z"
    },
    "papermill": {
     "duration": 1.903473,
     "end_time": "2022-11-25T05:09:16.902743",
     "exception": false,
     "start_time": "2022-11-25T05:09:14.999270",
     "status": "completed"
    },
    "tags": []
   },
   "outputs": [
    {
     "data": {
      "image/png": "[encoded data removed]",
      "text/plain": [
       "<Figure size 1008x432 with 1 Axes>"
      ]
     },
     "metadata": {},
     "output_type": "display_data"
    }
   ],
   "source": [
    "# with sns.axes_style('whitegrid', {'grid.linestyle': '--'}):\n",
    "with sns.plotting_context(\"talk\", font_scale=0.75), sns.axes_style(\n",
    "    \"whitegrid\", {\"grid.linestyle\": \"--\"}\n",
    "):\n",
    "    fig = plt.figure(figsize=(14, 6))\n",
    "    ax = sns.pointplot(data=parts_ari_df_plot, x=\"k\", y=\"ari\")\n",
    "    ax.set_ylabel(\"Averange ARI\")\n",
    "    ax.set_xlabel(\"Number of clusters ($k$)\")\n",
    "    ax.set_xticklabels(ax.get_xticklabels(), rotation=45)\n",
    "    #     ax.set_ylim(0.0, 1.0)\n",
    "    #     ax.set_xlim(CLUSTERING_OPTIONS['K_MIN'], CLUSTERING_OPTIONS['K_MAX'])\n",
    "    plt.grid(True)\n",
    "    plt.tight_layout()"
   ]
  },
  {
   "cell_type": "code",
   "execution_count": null,
   "id": "ca79492b",
   "metadata": {
    "papermill": {
     "duration": 0.031576,
     "end_time": "2022-11-25T05:09:16.967078",
     "exception": false,
     "start_time": "2022-11-25T05:09:16.935502",
     "status": "completed"
    },
    "tags": []
   },
   "outputs": [],
   "source": []
  }
 ],
 "metadata": {
  "jupytext": {
   "cell_metadata_filter": "all,-execution,-papermill,-trusted",
   "formats": "ipynb,py//py:percent"
  },
  "kernelspec": {
   "display_name": "Python 3 (ipykernel)",
   "language": "python",
   "name": "python3"
  },
  "language_info": {
   "codemirror_mode": {
    "name": "ipython",
    "version": 3
   },
   "file_extension": ".py",
   "mimetype": "text/x-python",
   "name": "python",
   "nbconvert_exporter": "python",
   "pygments_lexer": "ipython3",
   "version": "3.8.13"
  },
  "papermill": {
   "default_parameters": {},
   "duration": 525.948048,
   "end_time": "2022-11-25T05:09:17.307851",
   "environment_variables": {},
   "exception": null,
   "input_path": "nbs/13.1_cluster_analysis_null/05-shuffle_lvs/10_00-kmeans-z_score_std.ipynb",
   "output_path": "nbs/13.1_cluster_analysis_null/05-shuffle_lvs/10_00-kmeans-z_score_std.run.ipynb",
   "parameters": {},
   "start_time": "2022-11-25T05:00:31.359803",
   "version": "2.2.2"
  },
  "toc-autonumbering": true,
  "toc-showcode": false,
  "toc-showmarkdowntxt": false,
  "toc-showtags": false
 },
 "nbformat": 4,
 "nbformat_minor": 5
}
