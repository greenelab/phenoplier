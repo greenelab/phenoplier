{
 "cells": [
  {
   "cell_type": "markdown",
   "id": "f36c3b1a",
   "metadata": {
    "papermill": {
     "duration": 0.006145,
     "end_time": "2022-11-25T04:57:49.037303",
     "exception": false,
     "start_time": "2022-11-25T04:57:49.031158",
     "status": "completed"
    },
    "tags": []
   },
   "source": [
    "# Description"
   ]
  },
  {
   "cell_type": "markdown",
   "id": "4bc3faf0",
   "metadata": {
    "papermill": {
     "duration": 0.005236,
     "end_time": "2022-11-25T04:57:49.051986",
     "exception": false,
     "start_time": "2022-11-25T04:57:49.046750",
     "status": "completed"
    },
    "tags": []
   },
   "source": [
    "It gets the PCA transformation of an input file."
   ]
  },
  {
   "cell_type": "markdown",
   "id": "61764c85",
   "metadata": {
    "papermill": {
     "duration": 0.005184,
     "end_time": "2022-11-25T04:57:49.062494",
     "exception": false,
     "start_time": "2022-11-25T04:57:49.057310",
     "status": "completed"
    },
    "tags": []
   },
   "source": [
    "# Modules loading"
   ]
  },
  {
   "cell_type": "code",
   "execution_count": 1,
   "id": "0ebf5ca9",
   "metadata": {
    "execution": {
     "iopub.execute_input": "2022-11-25T04:57:49.074403Z",
     "iopub.status.busy": "2022-11-25T04:57:49.074056Z",
     "iopub.status.idle": "2022-11-25T04:57:49.092519Z",
     "shell.execute_reply": "2022-11-25T04:57:49.092042Z"
    },
    "papermill": {
     "duration": 0.026168,
     "end_time": "2022-11-25T04:57:49.093935",
     "exception": false,
     "start_time": "2022-11-25T04:57:49.067767",
     "status": "completed"
    },
    "tags": []
   },
   "outputs": [],
   "source": [
    "%load_ext autoreload\n",
    "%autoreload 2"
   ]
  },
  {
   "cell_type": "code",
   "execution_count": 2,
   "id": "34a3a8ae",
   "metadata": {
    "execution": {
     "iopub.execute_input": "2022-11-25T04:57:49.107794Z",
     "iopub.status.busy": "2022-11-25T04:57:49.107371Z",
     "iopub.status.idle": "2022-11-25T04:57:49.620908Z",
     "shell.execute_reply": "2022-11-25T04:57:49.620486Z"
    },
    "papermill": {
     "duration": 0.522078,
     "end_time": "2022-11-25T04:57:49.622534",
     "exception": false,
     "start_time": "2022-11-25T04:57:49.100456",
     "status": "completed"
    },
    "tags": []
   },
   "outputs": [],
   "source": [
    "from pathlib import Path\n",
    "from IPython.display import display\n",
    "\n",
    "import numpy as np\n",
    "import pandas as pd\n",
    "import seaborn as sns\n",
    "\n",
    "import conf\n",
    "from utils import generate_result_set_name"
   ]
  },
  {
   "cell_type": "markdown",
   "id": "6c0331c5",
   "metadata": {
    "papermill": {
     "duration": 0.009466,
     "end_time": "2022-11-25T04:57:49.637525",
     "exception": false,
     "start_time": "2022-11-25T04:57:49.628059",
     "status": "completed"
    },
    "tags": []
   },
   "source": [
    "# Settings"
   ]
  },
  {
   "cell_type": "code",
   "execution_count": 3,
   "id": "f9a0d79e",
   "metadata": {
    "execution": {
     "iopub.execute_input": "2022-11-25T04:57:49.648742Z",
     "iopub.status.busy": "2022-11-25T04:57:49.648579Z",
     "iopub.status.idle": "2022-11-25T04:57:49.659677Z",
     "shell.execute_reply": "2022-11-25T04:57:49.659321Z"
    },
    "papermill": {
     "duration": 0.018148,
     "end_time": "2022-11-25T04:57:49.660964",
     "exception": false,
     "start_time": "2022-11-25T04:57:49.642816",
     "status": "completed"
    },
    "tags": []
   },
   "outputs": [],
   "source": [
    "np.random.seed(0)"
   ]
  },
  {
   "cell_type": "code",
   "execution_count": 4,
   "id": "48d5dfe7-151d-480b-a70d-281340ef4266",
   "metadata": {
    "execution": {
     "iopub.execute_input": "2022-11-25T04:57:49.672264Z",
     "iopub.status.busy": "2022-11-25T04:57:49.672057Z",
     "iopub.status.idle": "2022-11-25T04:57:49.682222Z",
     "shell.execute_reply": "2022-11-25T04:57:49.681864Z"
    },
    "papermill": {
     "duration": 0.017125,
     "end_time": "2022-11-25T04:57:49.683467",
     "exception": false,
     "start_time": "2022-11-25T04:57:49.666342",
     "status": "completed"
    },
    "tags": []
   },
   "outputs": [],
   "source": [
    "NULL_DIR = conf.RESULTS[\"CLUSTERING_NULL_DIR\"] / \"shuffle_lvs\""
   ]
  },
  {
   "cell_type": "markdown",
   "id": "ac4f35c9",
   "metadata": {
    "papermill": {
     "duration": 0.005975,
     "end_time": "2022-11-25T04:57:49.694871",
     "exception": false,
     "start_time": "2022-11-25T04:57:49.688896",
     "status": "completed"
    },
    "tags": []
   },
   "source": [
    "## Input data"
   ]
  },
  {
   "cell_type": "code",
   "execution_count": 5,
   "id": "86a25d2c",
   "metadata": {
    "execution": {
     "iopub.execute_input": "2022-11-25T04:57:49.705966Z",
     "iopub.status.busy": "2022-11-25T04:57:49.705878Z",
     "iopub.status.idle": "2022-11-25T04:57:49.715958Z",
     "shell.execute_reply": "2022-11-25T04:57:49.715598Z"
    },
    "papermill": {
     "duration": 0.016922,
     "end_time": "2022-11-25T04:57:49.717152",
     "exception": false,
     "start_time": "2022-11-25T04:57:49.700230",
     "status": "completed"
    },
    "tags": []
   },
   "outputs": [],
   "source": [
    "INPUT_FILEPATH_STEM = \"projection-smultixcan-efo_partial-mashr-zscores\""
   ]
  },
  {
   "cell_type": "code",
   "execution_count": 6,
   "id": "52835e24",
   "metadata": {
    "execution": {
     "iopub.execute_input": "2022-11-25T04:57:49.728636Z",
     "iopub.status.busy": "2022-11-25T04:57:49.728311Z",
     "iopub.status.idle": "2022-11-25T04:57:49.740890Z",
     "shell.execute_reply": "2022-11-25T04:57:49.740537Z"
    },
    "papermill": {
     "duration": 0.020027,
     "end_time": "2022-11-25T04:57:49.742533",
     "exception": false,
     "start_time": "2022-11-25T04:57:49.722506",
     "status": "completed"
    },
    "tags": []
   },
   "outputs": [
    {
     "data": {
      "text/plain": [
       "PosixPath('/opt/data/results/clustering/null_sims/shuffle_lvs/data_transformations/z_score_std/z_score_std-projection-smultixcan-efo_partial-mashr-zscores.pkl')"
      ]
     },
     "metadata": {},
     "output_type": "display_data"
    },
    {
     "data": {
      "text/plain": [
       "'z_score_std-projection-smultixcan-efo_partial-mashr-zscores'"
      ]
     },
     "metadata": {},
     "output_type": "display_data"
    }
   ],
   "source": [
    "INPUT_FILEPATH = Path(\n",
    "    NULL_DIR,\n",
    "    \"data_transformations\",\n",
    "    \"z_score_std\",\n",
    "    f\"z_score_std-{INPUT_FILEPATH_STEM}.pkl\",\n",
    ").resolve()\n",
    "display(INPUT_FILEPATH)\n",
    "\n",
    "input_filepath_stem = INPUT_FILEPATH.stem\n",
    "display(input_filepath_stem)"
   ]
  },
  {
   "cell_type": "markdown",
   "id": "a3f7b534",
   "metadata": {
    "papermill": {
     "duration": 0.005383,
     "end_time": "2022-11-25T04:57:49.753485",
     "exception": false,
     "start_time": "2022-11-25T04:57:49.748102",
     "status": "completed"
    },
    "tags": []
   },
   "source": [
    "## Output folder"
   ]
  },
  {
   "cell_type": "code",
   "execution_count": 7,
   "id": "bae91f0b",
   "metadata": {
    "execution": {
     "iopub.execute_input": "2022-11-25T04:57:49.765470Z",
     "iopub.status.busy": "2022-11-25T04:57:49.765383Z",
     "iopub.status.idle": "2022-11-25T04:57:49.776804Z",
     "shell.execute_reply": "2022-11-25T04:57:49.776438Z"
    },
    "papermill": {
     "duration": 0.018927,
     "end_time": "2022-11-25T04:57:49.778064",
     "exception": false,
     "start_time": "2022-11-25T04:57:49.759137",
     "status": "completed"
    },
    "tags": []
   },
   "outputs": [
    {
     "data": {
      "text/plain": [
       "PosixPath('/opt/data/results/clustering/null_sims/shuffle_lvs/data_transformations/pca')"
      ]
     },
     "metadata": {},
     "output_type": "display_data"
    }
   ],
   "source": [
    "# output dir for this notebook\n",
    "RESULTS_DIR = Path(NULL_DIR, \"data_transformations\", \"pca\").resolve()\n",
    "RESULTS_DIR.mkdir(parents=True, exist_ok=True)\n",
    "\n",
    "display(RESULTS_DIR)"
   ]
  },
  {
   "cell_type": "markdown",
   "id": "aa4bf388",
   "metadata": {
    "papermill": {
     "duration": 0.005634,
     "end_time": "2022-11-25T04:57:49.789524",
     "exception": false,
     "start_time": "2022-11-25T04:57:49.783890",
     "status": "completed"
    },
    "tags": []
   },
   "source": [
    "## PCA options"
   ]
  },
  {
   "cell_type": "code",
   "execution_count": 8,
   "id": "219413f4",
   "metadata": {
    "execution": {
     "iopub.execute_input": "2022-11-25T04:57:49.801308Z",
     "iopub.status.busy": "2022-11-25T04:57:49.801150Z",
     "iopub.status.idle": "2022-11-25T04:57:49.811497Z",
     "shell.execute_reply": "2022-11-25T04:57:49.811152Z"
    },
    "papermill": {
     "duration": 0.017549,
     "end_time": "2022-11-25T04:57:49.812718",
     "exception": false,
     "start_time": "2022-11-25T04:57:49.795169",
     "status": "completed"
    },
    "tags": []
   },
   "outputs": [],
   "source": [
    "# parameters of the dimentionality reduction steps\n",
    "DR_OPTIONS = {\n",
    "    \"n_components\": 50,\n",
    "    \"svd_solver\": \"full\",\n",
    "    \"random_state\": 0,\n",
    "}"
   ]
  },
  {
   "cell_type": "code",
   "execution_count": 9,
   "id": "2cdd68b4",
   "metadata": {
    "execution": {
     "iopub.execute_input": "2022-11-25T04:57:49.824661Z",
     "iopub.status.busy": "2022-11-25T04:57:49.824417Z",
     "iopub.status.idle": "2022-11-25T04:57:49.835099Z",
     "shell.execute_reply": "2022-11-25T04:57:49.834754Z"
    },
    "papermill": {
     "duration": 0.017874,
     "end_time": "2022-11-25T04:57:49.836342",
     "exception": false,
     "start_time": "2022-11-25T04:57:49.818468",
     "status": "completed"
    },
    "tags": []
   },
   "outputs": [
    {
     "data": {
      "text/plain": [
       "{'n_components': 50, 'svd_solver': 'full', 'random_state': 0}"
      ]
     },
     "metadata": {},
     "output_type": "display_data"
    }
   ],
   "source": [
    "# dictionary containing all options/settings (used to generate filenames)\n",
    "ALL_OPTIONS = DR_OPTIONS.copy()\n",
    "\n",
    "display(ALL_OPTIONS)"
   ]
  },
  {
   "cell_type": "markdown",
   "id": "2b1d12de",
   "metadata": {
    "papermill": {
     "duration": 0.006216,
     "end_time": "2022-11-25T04:57:49.848347",
     "exception": false,
     "start_time": "2022-11-25T04:57:49.842131",
     "status": "completed"
    },
    "tags": []
   },
   "source": [
    "# Load input file"
   ]
  },
  {
   "cell_type": "code",
   "execution_count": 10,
   "id": "882cf22b",
   "metadata": {
    "execution": {
     "iopub.execute_input": "2022-11-25T04:57:49.860149Z",
     "iopub.status.busy": "2022-11-25T04:57:49.860064Z",
     "iopub.status.idle": "2022-11-25T04:57:49.882040Z",
     "shell.execute_reply": "2022-11-25T04:57:49.881676Z"
    },
    "papermill": {
     "duration": 0.029196,
     "end_time": "2022-11-25T04:57:49.883247",
     "exception": false,
     "start_time": "2022-11-25T04:57:49.854051",
     "status": "completed"
    },
    "tags": []
   },
   "outputs": [],
   "source": [
    "data = pd.read_pickle(INPUT_FILEPATH)"
   ]
  },
  {
   "cell_type": "code",
   "execution_count": 11,
   "id": "50eb1e50",
   "metadata": {
    "execution": {
     "iopub.execute_input": "2022-11-25T04:57:49.895195Z",
     "iopub.status.busy": "2022-11-25T04:57:49.895106Z",
     "iopub.status.idle": "2022-11-25T04:57:49.906699Z",
     "shell.execute_reply": "2022-11-25T04:57:49.906416Z"
    },
    "papermill": {
     "duration": 0.018845,
     "end_time": "2022-11-25T04:57:49.907913",
     "exception": false,
     "start_time": "2022-11-25T04:57:49.889068",
     "status": "completed"
    },
    "tags": []
   },
   "outputs": [
    {
     "data": {
      "text/plain": [
       "(3752, 987)"
      ]
     },
     "metadata": {},
     "output_type": "display_data"
    }
   ],
   "source": [
    "display(data.shape)"
   ]
  },
  {
   "cell_type": "code",
   "execution_count": 12,
   "id": "cfec0915",
   "metadata": {
    "execution": {
     "iopub.execute_input": "2022-11-25T04:57:49.920130Z",
     "iopub.status.busy": "2022-11-25T04:57:49.919838Z",
     "iopub.status.idle": "2022-11-25T04:57:49.939352Z",
     "shell.execute_reply": "2022-11-25T04:57:49.939036Z"
    },
    "papermill": {
     "duration": 0.026873,
     "end_time": "2022-11-25T04:57:49.940579",
     "exception": false,
     "start_time": "2022-11-25T04:57:49.913706",
     "status": "completed"
    },
    "tags": []
   },
   "outputs": [
    {
     "data": {
      "text/html": [
       "<div>\n",
       "<style scoped>\n",
       "    .dataframe tbody tr th:only-of-type {\n",
       "        vertical-align: middle;\n",
       "    }\n",
       "\n",
       "    .dataframe tbody tr th {\n",
       "        vertical-align: top;\n",
       "    }\n",
       "\n",
       "    .dataframe thead th {\n",
       "        text-align: right;\n",
       "    }\n",
       "</style>\n",
       "<table border=\"1\" class=\"dataframe\">\n",
       "  <thead>\n",
       "    <tr style=\"text-align: right;\">\n",
       "      <th></th>\n",
       "      <th>LV1</th>\n",
       "      <th>LV2</th>\n",
       "      <th>LV3</th>\n",
       "      <th>LV4</th>\n",
       "      <th>LV5</th>\n",
       "      <th>LV6</th>\n",
       "      <th>LV7</th>\n",
       "      <th>LV8</th>\n",
       "      <th>LV9</th>\n",
       "      <th>LV10</th>\n",
       "      <th>...</th>\n",
       "      <th>LV978</th>\n",
       "      <th>LV979</th>\n",
       "      <th>LV980</th>\n",
       "      <th>LV981</th>\n",
       "      <th>LV982</th>\n",
       "      <th>LV983</th>\n",
       "      <th>LV984</th>\n",
       "      <th>LV985</th>\n",
       "      <th>LV986</th>\n",
       "      <th>LV987</th>\n",
       "    </tr>\n",
       "  </thead>\n",
       "  <tbody>\n",
       "    <tr>\n",
       "      <th>100001_raw-Food_weight</th>\n",
       "      <td>-2.408007</td>\n",
       "      <td>-1.745911</td>\n",
       "      <td>1.383013</td>\n",
       "      <td>0.158718</td>\n",
       "      <td>-0.240933</td>\n",
       "      <td>-0.304911</td>\n",
       "      <td>1.823117</td>\n",
       "      <td>-0.716278</td>\n",
       "      <td>-1.769346</td>\n",
       "      <td>-0.043794</td>\n",
       "      <td>...</td>\n",
       "      <td>0.399227</td>\n",
       "      <td>0.849885</td>\n",
       "      <td>-0.593292</td>\n",
       "      <td>0.636568</td>\n",
       "      <td>0.409726</td>\n",
       "      <td>-0.871713</td>\n",
       "      <td>1.638770</td>\n",
       "      <td>0.285165</td>\n",
       "      <td>0.585307</td>\n",
       "      <td>0.592347</td>\n",
       "    </tr>\n",
       "    <tr>\n",
       "      <th>100002_raw-Energy</th>\n",
       "      <td>-0.508508</td>\n",
       "      <td>0.514427</td>\n",
       "      <td>-0.792865</td>\n",
       "      <td>-0.091775</td>\n",
       "      <td>-0.013409</td>\n",
       "      <td>0.194047</td>\n",
       "      <td>1.353713</td>\n",
       "      <td>0.117286</td>\n",
       "      <td>-0.323516</td>\n",
       "      <td>-1.641116</td>\n",
       "      <td>...</td>\n",
       "      <td>-0.038535</td>\n",
       "      <td>-1.139394</td>\n",
       "      <td>-0.951591</td>\n",
       "      <td>1.197872</td>\n",
       "      <td>0.893819</td>\n",
       "      <td>-0.820655</td>\n",
       "      <td>0.928634</td>\n",
       "      <td>-0.716778</td>\n",
       "      <td>-0.085735</td>\n",
       "      <td>-1.208965</td>\n",
       "    </tr>\n",
       "    <tr>\n",
       "      <th>100003_raw-Protein</th>\n",
       "      <td>-0.284597</td>\n",
       "      <td>-0.325076</td>\n",
       "      <td>-1.412980</td>\n",
       "      <td>1.255510</td>\n",
       "      <td>0.343603</td>\n",
       "      <td>-2.471878</td>\n",
       "      <td>-0.149640</td>\n",
       "      <td>-0.715178</td>\n",
       "      <td>-0.548948</td>\n",
       "      <td>1.210352</td>\n",
       "      <td>...</td>\n",
       "      <td>1.006094</td>\n",
       "      <td>0.595064</td>\n",
       "      <td>1.774559</td>\n",
       "      <td>-0.335165</td>\n",
       "      <td>0.394177</td>\n",
       "      <td>-0.188345</td>\n",
       "      <td>-1.864716</td>\n",
       "      <td>-0.124875</td>\n",
       "      <td>1.253625</td>\n",
       "      <td>0.804944</td>\n",
       "    </tr>\n",
       "    <tr>\n",
       "      <th>100004_raw-Fat</th>\n",
       "      <td>-0.427503</td>\n",
       "      <td>-0.096524</td>\n",
       "      <td>-0.348654</td>\n",
       "      <td>-1.250087</td>\n",
       "      <td>-0.253145</td>\n",
       "      <td>-0.236606</td>\n",
       "      <td>-0.600627</td>\n",
       "      <td>0.277239</td>\n",
       "      <td>-0.844748</td>\n",
       "      <td>-0.998437</td>\n",
       "      <td>...</td>\n",
       "      <td>0.249993</td>\n",
       "      <td>-1.520660</td>\n",
       "      <td>0.037241</td>\n",
       "      <td>0.514992</td>\n",
       "      <td>0.512538</td>\n",
       "      <td>-1.083619</td>\n",
       "      <td>0.310643</td>\n",
       "      <td>-1.719033</td>\n",
       "      <td>-0.970770</td>\n",
       "      <td>-2.628077</td>\n",
       "    </tr>\n",
       "    <tr>\n",
       "      <th>100005_raw-Carbohydrate</th>\n",
       "      <td>-1.502621</td>\n",
       "      <td>-1.083034</td>\n",
       "      <td>0.531159</td>\n",
       "      <td>0.332981</td>\n",
       "      <td>-1.240640</td>\n",
       "      <td>-0.852565</td>\n",
       "      <td>-0.003171</td>\n",
       "      <td>0.561912</td>\n",
       "      <td>-0.772413</td>\n",
       "      <td>-0.372739</td>\n",
       "      <td>...</td>\n",
       "      <td>-0.577730</td>\n",
       "      <td>-1.163380</td>\n",
       "      <td>0.000251</td>\n",
       "      <td>-0.345607</td>\n",
       "      <td>-1.610004</td>\n",
       "      <td>0.194078</td>\n",
       "      <td>0.605594</td>\n",
       "      <td>1.182825</td>\n",
       "      <td>-1.567705</td>\n",
       "      <td>-0.011902</td>\n",
       "    </tr>\n",
       "  </tbody>\n",
       "</table>\n",
       "<p>5 rows × 987 columns</p>\n",
       "</div>"
      ],
      "text/plain": [
       "                              LV1       LV2       LV3       LV4       LV5  \\\n",
       "100001_raw-Food_weight  -2.408007 -1.745911  1.383013  0.158718 -0.240933   \n",
       "100002_raw-Energy       -0.508508  0.514427 -0.792865 -0.091775 -0.013409   \n",
       "100003_raw-Protein      -0.284597 -0.325076 -1.412980  1.255510  0.343603   \n",
       "100004_raw-Fat          -0.427503 -0.096524 -0.348654 -1.250087 -0.253145   \n",
       "100005_raw-Carbohydrate -1.502621 -1.083034  0.531159  0.332981 -1.240640   \n",
       "\n",
       "                              LV6       LV7       LV8       LV9      LV10  \\\n",
       "100001_raw-Food_weight  -0.304911  1.823117 -0.716278 -1.769346 -0.043794   \n",
       "100002_raw-Energy        0.194047  1.353713  0.117286 -0.323516 -1.641116   \n",
       "100003_raw-Protein      -2.471878 -0.149640 -0.715178 -0.548948  1.210352   \n",
       "100004_raw-Fat          -0.236606 -0.600627  0.277239 -0.844748 -0.998437   \n",
       "100005_raw-Carbohydrate -0.852565 -0.003171  0.561912 -0.772413 -0.372739   \n",
       "\n",
       "                         ...     LV978     LV979     LV980     LV981  \\\n",
       "100001_raw-Food_weight   ...  0.399227  0.849885 -0.593292  0.636568   \n",
       "100002_raw-Energy        ... -0.038535 -1.139394 -0.951591  1.197872   \n",
       "100003_raw-Protein       ...  1.006094  0.595064  1.774559 -0.335165   \n",
       "100004_raw-Fat           ...  0.249993 -1.520660  0.037241  0.514992   \n",
       "100005_raw-Carbohydrate  ... -0.577730 -1.163380  0.000251 -0.345607   \n",
       "\n",
       "                            LV982     LV983     LV984     LV985     LV986  \\\n",
       "100001_raw-Food_weight   0.409726 -0.871713  1.638770  0.285165  0.585307   \n",
       "100002_raw-Energy        0.893819 -0.820655  0.928634 -0.716778 -0.085735   \n",
       "100003_raw-Protein       0.394177 -0.188345 -1.864716 -0.124875  1.253625   \n",
       "100004_raw-Fat           0.512538 -1.083619  0.310643 -1.719033 -0.970770   \n",
       "100005_raw-Carbohydrate -1.610004  0.194078  0.605594  1.182825 -1.567705   \n",
       "\n",
       "                            LV987  \n",
       "100001_raw-Food_weight   0.592347  \n",
       "100002_raw-Energy       -1.208965  \n",
       "100003_raw-Protein       0.804944  \n",
       "100004_raw-Fat          -2.628077  \n",
       "100005_raw-Carbohydrate -0.011902  \n",
       "\n",
       "[5 rows x 987 columns]"
      ]
     },
     "metadata": {},
     "output_type": "display_data"
    }
   ],
   "source": [
    "display(data.head())"
   ]
  },
  {
   "cell_type": "markdown",
   "id": "8073a7a3",
   "metadata": {
    "papermill": {
     "duration": 0.006334,
     "end_time": "2022-11-25T04:57:49.953023",
     "exception": false,
     "start_time": "2022-11-25T04:57:49.946689",
     "status": "completed"
    },
    "tags": []
   },
   "source": [
    "# PCA"
   ]
  },
  {
   "cell_type": "code",
   "execution_count": 13,
   "id": "e38b4bb8",
   "metadata": {
    "execution": {
     "iopub.execute_input": "2022-11-25T04:57:49.966055Z",
     "iopub.status.busy": "2022-11-25T04:57:49.965772Z",
     "iopub.status.idle": "2022-11-25T04:57:49.977582Z",
     "shell.execute_reply": "2022-11-25T04:57:49.977231Z"
    },
    "papermill": {
     "duration": 0.019558,
     "end_time": "2022-11-25T04:57:49.978787",
     "exception": false,
     "start_time": "2022-11-25T04:57:49.959229",
     "status": "completed"
    },
    "tags": []
   },
   "outputs": [],
   "source": [
    "from data.dimreduction import get_pca_proj"
   ]
  },
  {
   "cell_type": "code",
   "execution_count": 14,
   "id": "9bfe11cf",
   "metadata": {
    "execution": {
     "iopub.execute_input": "2022-11-25T04:57:49.991770Z",
     "iopub.status.busy": "2022-11-25T04:57:49.991501Z",
     "iopub.status.idle": "2022-11-25T04:57:50.985966Z",
     "shell.execute_reply": "2022-11-25T04:57:50.985599Z"
    },
    "papermill": {
     "duration": 1.002385,
     "end_time": "2022-11-25T04:57:50.987265",
     "exception": false,
     "start_time": "2022-11-25T04:57:49.984880",
     "status": "completed"
    },
    "tags": []
   },
   "outputs": [
    {
     "data": {
      "text/plain": [
       "\"PCA object: PCA(n_components=50, random_state=0, svd_solver='full')\""
      ]
     },
     "metadata": {},
     "output_type": "display_data"
    }
   ],
   "source": [
    "dr_data = get_pca_proj(data, DR_OPTIONS)"
   ]
  },
  {
   "cell_type": "code",
   "execution_count": 15,
   "id": "c92db57e",
   "metadata": {
    "execution": {
     "iopub.execute_input": "2022-11-25T04:57:51.002955Z",
     "iopub.status.busy": "2022-11-25T04:57:51.002739Z",
     "iopub.status.idle": "2022-11-25T04:57:51.019091Z",
     "shell.execute_reply": "2022-11-25T04:57:51.018819Z"
    },
    "papermill": {
     "duration": 0.027298,
     "end_time": "2022-11-25T04:57:51.019799",
     "exception": false,
     "start_time": "2022-11-25T04:57:50.992501",
     "status": "completed"
    },
    "tags": []
   },
   "outputs": [
    {
     "data": {
      "text/plain": [
       "(3752, 50)"
      ]
     },
     "metadata": {},
     "output_type": "display_data"
    }
   ],
   "source": [
    "display(dr_data.shape)"
   ]
  },
  {
   "cell_type": "code",
   "execution_count": 16,
   "id": "3e38ea5a",
   "metadata": {
    "execution": {
     "iopub.execute_input": "2022-11-25T04:57:51.026712Z",
     "iopub.status.busy": "2022-11-25T04:57:51.026620Z",
     "iopub.status.idle": "2022-11-25T04:57:51.046242Z",
     "shell.execute_reply": "2022-11-25T04:57:51.045983Z"
    },
    "papermill": {
     "duration": 0.023842,
     "end_time": "2022-11-25T04:57:51.046966",
     "exception": false,
     "start_time": "2022-11-25T04:57:51.023124",
     "status": "completed"
    },
    "tags": []
   },
   "outputs": [
    {
     "data": {
      "text/html": [
       "<div>\n",
       "<style scoped>\n",
       "    .dataframe tbody tr th:only-of-type {\n",
       "        vertical-align: middle;\n",
       "    }\n",
       "\n",
       "    .dataframe tbody tr th {\n",
       "        vertical-align: top;\n",
       "    }\n",
       "\n",
       "    .dataframe thead th {\n",
       "        text-align: right;\n",
       "    }\n",
       "</style>\n",
       "<table border=\"1\" class=\"dataframe\">\n",
       "  <thead>\n",
       "    <tr style=\"text-align: right;\">\n",
       "      <th></th>\n",
       "      <th>PCA1</th>\n",
       "      <th>PCA2</th>\n",
       "      <th>PCA3</th>\n",
       "      <th>PCA4</th>\n",
       "      <th>PCA5</th>\n",
       "      <th>PCA6</th>\n",
       "      <th>PCA7</th>\n",
       "      <th>PCA8</th>\n",
       "      <th>PCA9</th>\n",
       "      <th>PCA10</th>\n",
       "      <th>...</th>\n",
       "      <th>PCA41</th>\n",
       "      <th>PCA42</th>\n",
       "      <th>PCA43</th>\n",
       "      <th>PCA44</th>\n",
       "      <th>PCA45</th>\n",
       "      <th>PCA46</th>\n",
       "      <th>PCA47</th>\n",
       "      <th>PCA48</th>\n",
       "      <th>PCA49</th>\n",
       "      <th>PCA50</th>\n",
       "    </tr>\n",
       "  </thead>\n",
       "  <tbody>\n",
       "    <tr>\n",
       "      <th>100001_raw-Food_weight</th>\n",
       "      <td>0.373237</td>\n",
       "      <td>-0.155188</td>\n",
       "      <td>-1.554390</td>\n",
       "      <td>-0.103733</td>\n",
       "      <td>-1.807074</td>\n",
       "      <td>-0.957108</td>\n",
       "      <td>0.330335</td>\n",
       "      <td>0.638391</td>\n",
       "      <td>0.905023</td>\n",
       "      <td>-0.704551</td>\n",
       "      <td>...</td>\n",
       "      <td>0.161732</td>\n",
       "      <td>0.488682</td>\n",
       "      <td>0.761158</td>\n",
       "      <td>0.667089</td>\n",
       "      <td>-0.078934</td>\n",
       "      <td>0.840971</td>\n",
       "      <td>-0.622958</td>\n",
       "      <td>1.075964</td>\n",
       "      <td>3.244039</td>\n",
       "      <td>-0.933407</td>\n",
       "    </tr>\n",
       "    <tr>\n",
       "      <th>100002_raw-Energy</th>\n",
       "      <td>1.384398</td>\n",
       "      <td>0.511267</td>\n",
       "      <td>-0.273603</td>\n",
       "      <td>-0.074591</td>\n",
       "      <td>-1.151167</td>\n",
       "      <td>-0.069438</td>\n",
       "      <td>1.242634</td>\n",
       "      <td>-0.439543</td>\n",
       "      <td>0.650348</td>\n",
       "      <td>2.456117</td>\n",
       "      <td>...</td>\n",
       "      <td>0.051967</td>\n",
       "      <td>0.993820</td>\n",
       "      <td>-0.166350</td>\n",
       "      <td>1.497041</td>\n",
       "      <td>-0.875754</td>\n",
       "      <td>2.632726</td>\n",
       "      <td>0.613299</td>\n",
       "      <td>0.041232</td>\n",
       "      <td>4.032974</td>\n",
       "      <td>-0.230092</td>\n",
       "    </tr>\n",
       "    <tr>\n",
       "      <th>100003_raw-Protein</th>\n",
       "      <td>-1.247583</td>\n",
       "      <td>2.905641</td>\n",
       "      <td>-1.524196</td>\n",
       "      <td>0.683773</td>\n",
       "      <td>0.766860</td>\n",
       "      <td>-2.478057</td>\n",
       "      <td>-0.201110</td>\n",
       "      <td>1.045590</td>\n",
       "      <td>-0.844712</td>\n",
       "      <td>2.426349</td>\n",
       "      <td>...</td>\n",
       "      <td>0.027646</td>\n",
       "      <td>-1.903636</td>\n",
       "      <td>-0.819195</td>\n",
       "      <td>0.616887</td>\n",
       "      <td>-0.647462</td>\n",
       "      <td>0.170956</td>\n",
       "      <td>2.106036</td>\n",
       "      <td>-2.186258</td>\n",
       "      <td>0.485333</td>\n",
       "      <td>-1.136366</td>\n",
       "    </tr>\n",
       "    <tr>\n",
       "      <th>100004_raw-Fat</th>\n",
       "      <td>-0.695167</td>\n",
       "      <td>0.046286</td>\n",
       "      <td>0.730428</td>\n",
       "      <td>0.240547</td>\n",
       "      <td>1.621534</td>\n",
       "      <td>-1.335187</td>\n",
       "      <td>-1.510894</td>\n",
       "      <td>1.790966</td>\n",
       "      <td>-0.682884</td>\n",
       "      <td>-1.572835</td>\n",
       "      <td>...</td>\n",
       "      <td>-2.997557</td>\n",
       "      <td>-0.489466</td>\n",
       "      <td>0.442809</td>\n",
       "      <td>1.217098</td>\n",
       "      <td>-1.604667</td>\n",
       "      <td>-0.776865</td>\n",
       "      <td>-0.983076</td>\n",
       "      <td>0.080423</td>\n",
       "      <td>2.476131</td>\n",
       "      <td>0.431179</td>\n",
       "    </tr>\n",
       "    <tr>\n",
       "      <th>100005_raw-Carbohydrate</th>\n",
       "      <td>0.770055</td>\n",
       "      <td>-0.499034</td>\n",
       "      <td>0.053157</td>\n",
       "      <td>0.479019</td>\n",
       "      <td>2.048336</td>\n",
       "      <td>0.984552</td>\n",
       "      <td>-0.090767</td>\n",
       "      <td>0.053451</td>\n",
       "      <td>-0.614035</td>\n",
       "      <td>1.304292</td>\n",
       "      <td>...</td>\n",
       "      <td>-0.280231</td>\n",
       "      <td>-0.892308</td>\n",
       "      <td>-0.522105</td>\n",
       "      <td>-0.358232</td>\n",
       "      <td>1.690968</td>\n",
       "      <td>0.049799</td>\n",
       "      <td>-0.633466</td>\n",
       "      <td>-0.812035</td>\n",
       "      <td>0.901284</td>\n",
       "      <td>2.461845</td>\n",
       "    </tr>\n",
       "  </tbody>\n",
       "</table>\n",
       "<p>5 rows × 50 columns</p>\n",
       "</div>"
      ],
      "text/plain": [
       "                             PCA1      PCA2      PCA3      PCA4      PCA5  \\\n",
       "100001_raw-Food_weight   0.373237 -0.155188 -1.554390 -0.103733 -1.807074   \n",
       "100002_raw-Energy        1.384398  0.511267 -0.273603 -0.074591 -1.151167   \n",
       "100003_raw-Protein      -1.247583  2.905641 -1.524196  0.683773  0.766860   \n",
       "100004_raw-Fat          -0.695167  0.046286  0.730428  0.240547  1.621534   \n",
       "100005_raw-Carbohydrate  0.770055 -0.499034  0.053157  0.479019  2.048336   \n",
       "\n",
       "                             PCA6      PCA7      PCA8      PCA9     PCA10  \\\n",
       "100001_raw-Food_weight  -0.957108  0.330335  0.638391  0.905023 -0.704551   \n",
       "100002_raw-Energy       -0.069438  1.242634 -0.439543  0.650348  2.456117   \n",
       "100003_raw-Protein      -2.478057 -0.201110  1.045590 -0.844712  2.426349   \n",
       "100004_raw-Fat          -1.335187 -1.510894  1.790966 -0.682884 -1.572835   \n",
       "100005_raw-Carbohydrate  0.984552 -0.090767  0.053451 -0.614035  1.304292   \n",
       "\n",
       "                         ...     PCA41     PCA42     PCA43     PCA44  \\\n",
       "100001_raw-Food_weight   ...  0.161732  0.488682  0.761158  0.667089   \n",
       "100002_raw-Energy        ...  0.051967  0.993820 -0.166350  1.497041   \n",
       "100003_raw-Protein       ...  0.027646 -1.903636 -0.819195  0.616887   \n",
       "100004_raw-Fat           ... -2.997557 -0.489466  0.442809  1.217098   \n",
       "100005_raw-Carbohydrate  ... -0.280231 -0.892308 -0.522105 -0.358232   \n",
       "\n",
       "                            PCA45     PCA46     PCA47     PCA48     PCA49  \\\n",
       "100001_raw-Food_weight  -0.078934  0.840971 -0.622958  1.075964  3.244039   \n",
       "100002_raw-Energy       -0.875754  2.632726  0.613299  0.041232  4.032974   \n",
       "100003_raw-Protein      -0.647462  0.170956  2.106036 -2.186258  0.485333   \n",
       "100004_raw-Fat          -1.604667 -0.776865 -0.983076  0.080423  2.476131   \n",
       "100005_raw-Carbohydrate  1.690968  0.049799 -0.633466 -0.812035  0.901284   \n",
       "\n",
       "                            PCA50  \n",
       "100001_raw-Food_weight  -0.933407  \n",
       "100002_raw-Energy       -0.230092  \n",
       "100003_raw-Protein      -1.136366  \n",
       "100004_raw-Fat           0.431179  \n",
       "100005_raw-Carbohydrate  2.461845  \n",
       "\n",
       "[5 rows x 50 columns]"
      ]
     },
     "metadata": {},
     "output_type": "display_data"
    }
   ],
   "source": [
    "display(dr_data.head())"
   ]
  },
  {
   "cell_type": "markdown",
   "id": "e868e0ff",
   "metadata": {
    "papermill": {
     "duration": 0.003345,
     "end_time": "2022-11-25T04:57:51.053765",
     "exception": false,
     "start_time": "2022-11-25T04:57:51.050420",
     "status": "completed"
    },
    "tags": []
   },
   "source": [
    "## Plot"
   ]
  },
  {
   "cell_type": "code",
   "execution_count": 17,
   "id": "5dbec6bf",
   "metadata": {
    "execution": {
     "iopub.execute_input": "2022-11-25T04:57:51.061260Z",
     "iopub.status.busy": "2022-11-25T04:57:51.060920Z",
     "iopub.status.idle": "2022-11-25T04:57:54.011879Z",
     "shell.execute_reply": "2022-11-25T04:57:54.011568Z"
    },
    "papermill": {
     "duration": 2.955929,
     "end_time": "2022-11-25T04:57:54.013061",
     "exception": false,
     "start_time": "2022-11-25T04:57:51.057132",
     "status": "completed"
    },
    "tags": []
   },
   "outputs": [
    {
     "name": "stderr",
     "output_type": "stream",
     "text": [
      "[2022-11-25 04:57:51,708 - numexpr.utils] INFO: Note: NumExpr detected 48 cores but \"NUMEXPR_MAX_THREADS\" not set, so enforcing safe limit of 8.\n",
      "[2022-11-25 04:57:51,708 - numexpr.utils] INFO: NumExpr defaulting to 8 threads.\n"
     ]
    },
    {
     "data": {
      "image/png": "[encoded data removed]",
      "text/plain": [
       "<Figure size 900x900 with 30 Axes>"
      ]
     },
     "metadata": {
      "needs_background": "light"
     },
     "output_type": "display_data"
    }
   ],
   "source": [
    "g = sns.pairplot(data=dr_data.iloc[:, :5])"
   ]
  },
  {
   "cell_type": "markdown",
   "id": "f076ef80",
   "metadata": {
    "papermill": {
     "duration": 0.010015,
     "end_time": "2022-11-25T04:57:54.029221",
     "exception": false,
     "start_time": "2022-11-25T04:57:54.019206",
     "status": "completed"
    },
    "tags": []
   },
   "source": [
    "# Save"
   ]
  },
  {
   "cell_type": "code",
   "execution_count": 18,
   "id": "7f7f081a",
   "metadata": {
    "execution": {
     "iopub.execute_input": "2022-11-25T04:57:54.041294Z",
     "iopub.status.busy": "2022-11-25T04:57:54.041088Z",
     "iopub.status.idle": "2022-11-25T04:57:54.054845Z",
     "shell.execute_reply": "2022-11-25T04:57:54.054566Z"
    },
    "papermill": {
     "duration": 0.020784,
     "end_time": "2022-11-25T04:57:54.055664",
     "exception": false,
     "start_time": "2022-11-25T04:57:54.034880",
     "status": "completed"
    },
    "tags": []
   },
   "outputs": [
    {
     "data": {
      "text/plain": [
       "PosixPath('/opt/data/results/clustering/null_sims/shuffle_lvs/data_transformations/pca/pca-z_score_std-projection-smultixcan-efo_partial-mashr-zscores-n_components_50-random_state_0-svd_solver_full.pkl')"
      ]
     },
     "metadata": {},
     "output_type": "display_data"
    }
   ],
   "source": [
    "output_file = Path(\n",
    "    RESULTS_DIR,\n",
    "    generate_result_set_name(\n",
    "        ALL_OPTIONS, prefix=f\"pca-{input_filepath_stem}-\", suffix=\".pkl\"\n",
    "    ),\n",
    ").resolve()\n",
    "\n",
    "display(output_file)"
   ]
  },
  {
   "cell_type": "code",
   "execution_count": 19,
   "id": "ffb6eb7e",
   "metadata": {
    "execution": {
     "iopub.execute_input": "2022-11-25T04:57:54.067736Z",
     "iopub.status.busy": "2022-11-25T04:57:54.067635Z",
     "iopub.status.idle": "2022-11-25T04:57:54.120101Z",
     "shell.execute_reply": "2022-11-25T04:57:54.119766Z"
    },
    "papermill": {
     "duration": 0.059675,
     "end_time": "2022-11-25T04:57:54.121306",
     "exception": false,
     "start_time": "2022-11-25T04:57:54.061631",
     "status": "completed"
    },
    "tags": []
   },
   "outputs": [],
   "source": [
    "dr_data.to_pickle(output_file)"
   ]
  },
  {
   "cell_type": "code",
   "execution_count": null,
   "id": "4c6e1f83",
   "metadata": {
    "papermill": {
     "duration": 0.004407,
     "end_time": "2022-11-25T04:57:54.130696",
     "exception": false,
     "start_time": "2022-11-25T04:57:54.126289",
     "status": "completed"
    },
    "tags": []
   },
   "outputs": [],
   "source": []
  }
 ],
 "metadata": {
  "jupytext": {
   "cell_metadata_filter": "all,-execution,-papermill,-trusted",
   "formats": "ipynb,py//py:percent"
  },
  "kernelspec": {
   "display_name": "Python 3 (ipykernel)",
   "language": "python",
   "name": "python3"
  },
  "language_info": {
   "codemirror_mode": {
    "name": "ipython",
    "version": 3
   },
   "file_extension": ".py",
   "mimetype": "text/x-python",
   "name": "python",
   "nbconvert_exporter": "python",
   "pygments_lexer": "ipython3",
   "version": "3.8.13"
  },
  "papermill": {
   "default_parameters": {},
   "duration": 6.395749,
   "end_time": "2022-11-25T04:57:54.552864",
   "environment_variables": {},
   "exception": null,
   "input_path": "nbs/13.1_cluster_analysis_null/05-shuffle_lvs/05_02-data_transformation-pca.ipynb",
   "output_path": "nbs/13.1_cluster_analysis_null/05-shuffle_lvs/05_02-data_transformation-pca.run.ipynb",
   "parameters": {},
   "start_time": "2022-11-25T04:57:48.157115",
   "version": "2.2.2"
  },
  "toc-autonumbering": true,
  "toc-showcode": false,
  "toc-showmarkdowntxt": false,
  "toc-showtags": false
 },
 "nbformat": 4,
 "nbformat_minor": 5
}
