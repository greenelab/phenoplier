{
 "cells": [
  {
   "cell_type": "markdown",
   "id": "06dc1753",
   "metadata": {
    "papermill": {
     "duration": 0.007299,
     "end_time": "2022-11-27T02:57:30.763479",
     "exception": false,
     "start_time": "2022-11-27T02:57:30.756180",
     "status": "completed"
    },
    "tags": []
   },
   "source": [
    "# Description"
   ]
  },
  {
   "cell_type": "markdown",
   "id": "10381e29",
   "metadata": {
    "papermill": {
     "duration": 0.0064,
     "end_time": "2022-11-27T02:57:30.779652",
     "exception": false,
     "start_time": "2022-11-27T02:57:30.773252",
     "status": "completed"
    },
    "tags": []
   },
   "source": [
    "It combines all clustering solutions generated into a single consolidated solution using consensus clustering."
   ]
  },
  {
   "cell_type": "markdown",
   "id": "e2d2fd52",
   "metadata": {
    "papermill": {
     "duration": 0.006413,
     "end_time": "2022-11-27T02:57:30.792706",
     "exception": false,
     "start_time": "2022-11-27T02:57:30.786293",
     "status": "completed"
    },
    "tags": []
   },
   "source": [
    "# Environment variables"
   ]
  },
  {
   "cell_type": "code",
   "execution_count": 1,
   "id": "d87128e1",
   "metadata": {
    "execution": {
     "iopub.execute_input": "2022-11-27T02:57:30.807155Z",
     "iopub.status.busy": "2022-11-27T02:57:30.806748Z",
     "iopub.status.idle": "2022-11-27T02:57:30.820223Z",
     "shell.execute_reply": "2022-11-27T02:57:30.819737Z"
    },
    "papermill": {
     "duration": 0.022664,
     "end_time": "2022-11-27T02:57:30.822031",
     "exception": false,
     "start_time": "2022-11-27T02:57:30.799367",
     "status": "completed"
    },
    "tags": []
   },
   "outputs": [
    {
     "data": {
      "text/plain": [
       "1"
      ]
     },
     "metadata": {},
     "output_type": "display_data"
    }
   ],
   "source": [
    "from IPython.display import display\n",
    "\n",
    "# set numpy n_jobs to 1, since I'll be using n_jobs later\n",
    "NUMPY_N_JOBS = 1\n",
    "display(NUMPY_N_JOBS)"
   ]
  },
  {
   "cell_type": "code",
   "execution_count": 2,
   "id": "89b4a7d2",
   "metadata": {
    "execution": {
     "iopub.execute_input": "2022-11-27T02:57:30.837152Z",
     "iopub.status.busy": "2022-11-27T02:57:30.836879Z",
     "iopub.status.idle": "2022-11-27T02:57:30.842624Z",
     "shell.execute_reply": "2022-11-27T02:57:30.842112Z"
    },
    "papermill": {
     "duration": 0.014781,
     "end_time": "2022-11-27T02:57:30.844303",
     "exception": false,
     "start_time": "2022-11-27T02:57:30.829522",
     "status": "completed"
    },
    "tags": []
   },
   "outputs": [
    {
     "name": "stdout",
     "output_type": "stream",
     "text": [
      "env: MKL_NUM_THREADS=1\n",
      "env: OPEN_BLAS_NUM_THREADS=1\n",
      "env: NUMEXPR_NUM_THREADS=1\n",
      "env: OMP_NUM_THREADS=1\n"
     ]
    }
   ],
   "source": [
    "%env MKL_NUM_THREADS=$NUMPY_N_JOBS\n",
    "%env OPEN_BLAS_NUM_THREADS=$NUMPY_N_JOBS\n",
    "%env NUMEXPR_NUM_THREADS=$NUMPY_N_JOBS\n",
    "%env OMP_NUM_THREADS=$NUMPY_N_JOBS"
   ]
  },
  {
   "cell_type": "markdown",
   "id": "96bc4080",
   "metadata": {
    "papermill": {
     "duration": 0.006701,
     "end_time": "2022-11-27T02:57:30.857983",
     "exception": false,
     "start_time": "2022-11-27T02:57:30.851282",
     "status": "completed"
    },
    "tags": []
   },
   "source": [
    "# Modules loading"
   ]
  },
  {
   "cell_type": "code",
   "execution_count": 3,
   "id": "184d030c",
   "metadata": {
    "execution": {
     "iopub.execute_input": "2022-11-27T02:57:30.872552Z",
     "iopub.status.busy": "2022-11-27T02:57:30.872271Z",
     "iopub.status.idle": "2022-11-27T02:57:30.885326Z",
     "shell.execute_reply": "2022-11-27T02:57:30.884937Z"
    },
    "papermill": {
     "duration": 0.021819,
     "end_time": "2022-11-27T02:57:30.886751",
     "exception": false,
     "start_time": "2022-11-27T02:57:30.864932",
     "status": "completed"
    },
    "tags": []
   },
   "outputs": [],
   "source": [
    "%load_ext autoreload\n",
    "%autoreload 2"
   ]
  },
  {
   "cell_type": "code",
   "execution_count": 4,
   "id": "7ea55b51",
   "metadata": {
    "execution": {
     "iopub.execute_input": "2022-11-27T02:57:30.901774Z",
     "iopub.status.busy": "2022-11-27T02:57:30.901522Z",
     "iopub.status.idle": "2022-11-27T02:57:31.083577Z",
     "shell.execute_reply": "2022-11-27T02:57:31.083267Z"
    },
    "papermill": {
     "duration": 0.191068,
     "end_time": "2022-11-27T02:57:31.085234",
     "exception": false,
     "start_time": "2022-11-27T02:57:30.894166",
     "status": "completed"
    },
    "tags": []
   },
   "outputs": [],
   "source": [
    "from pathlib import Path\n",
    "\n",
    "import numpy as np\n",
    "import pandas as pd\n",
    "\n",
    "import conf"
   ]
  },
  {
   "cell_type": "markdown",
   "id": "b89d4d82",
   "metadata": {
    "papermill": {
     "duration": 0.010085,
     "end_time": "2022-11-27T02:57:31.102918",
     "exception": false,
     "start_time": "2022-11-27T02:57:31.092833",
     "status": "completed"
    },
    "tags": []
   },
   "source": [
    "# Settings"
   ]
  },
  {
   "cell_type": "code",
   "execution_count": 5,
   "id": "a79a89bf",
   "metadata": {
    "execution": {
     "iopub.execute_input": "2022-11-27T02:57:31.117800Z",
     "iopub.status.busy": "2022-11-27T02:57:31.117707Z",
     "iopub.status.idle": "2022-11-27T02:57:31.127058Z",
     "shell.execute_reply": "2022-11-27T02:57:31.126845Z"
    },
    "papermill": {
     "duration": 0.017665,
     "end_time": "2022-11-27T02:57:31.127854",
     "exception": false,
     "start_time": "2022-11-27T02:57:31.110189",
     "status": "completed"
    },
    "tags": []
   },
   "outputs": [],
   "source": [
    "np.random.seed(0)"
   ]
  },
  {
   "cell_type": "code",
   "execution_count": 6,
   "id": "724f9ee9",
   "metadata": {
    "execution": {
     "iopub.execute_input": "2022-11-27T02:57:31.135702Z",
     "iopub.status.busy": "2022-11-27T02:57:31.135580Z",
     "iopub.status.idle": "2022-11-27T02:57:31.144436Z",
     "shell.execute_reply": "2022-11-27T02:57:31.144147Z"
    },
    "papermill": {
     "duration": 0.013628,
     "end_time": "2022-11-27T02:57:31.145255",
     "exception": false,
     "start_time": "2022-11-27T02:57:31.131627",
     "status": "completed"
    },
    "tags": []
   },
   "outputs": [],
   "source": [
    "RANDOM_STATES_ITER = iter(np.random.randint(0, np.iinfo(np.int32).max, size=100000))"
   ]
  },
  {
   "cell_type": "code",
   "execution_count": 7,
   "id": "a834068b",
   "metadata": {
    "execution": {
     "iopub.execute_input": "2022-11-27T02:57:31.153397Z",
     "iopub.status.busy": "2022-11-27T02:57:31.153307Z",
     "iopub.status.idle": "2022-11-27T02:57:31.163861Z",
     "shell.execute_reply": "2022-11-27T02:57:31.163512Z"
    },
    "papermill": {
     "duration": 0.015936,
     "end_time": "2022-11-27T02:57:31.164989",
     "exception": false,
     "start_time": "2022-11-27T02:57:31.149053",
     "status": "completed"
    },
    "tags": []
   },
   "outputs": [],
   "source": [
    "# n_init parameter for DeltaSpectralClustering\n",
    "# a high number should produce more stable final solutions\n",
    "SC_N_INIT = 50"
   ]
  },
  {
   "cell_type": "code",
   "execution_count": 8,
   "id": "dd5d7da7-ed65-496b-88bf-e5e99fdfae4e",
   "metadata": {
    "execution": {
     "iopub.execute_input": "2022-11-27T02:57:31.176243Z",
     "iopub.status.busy": "2022-11-27T02:57:31.176075Z",
     "iopub.status.idle": "2022-11-27T02:57:31.189128Z",
     "shell.execute_reply": "2022-11-27T02:57:31.188731Z"
    },
    "papermill": {
     "duration": 0.020087,
     "end_time": "2022-11-27T02:57:31.190502",
     "exception": false,
     "start_time": "2022-11-27T02:57:31.170415",
     "status": "completed"
    },
    "tags": []
   },
   "outputs": [],
   "source": [
    "NULL_DIR = conf.RESULTS[\"CLUSTERING_NULL_DIR\"] / \"shuffle_lvs\""
   ]
  },
  {
   "cell_type": "markdown",
   "id": "9129c9a0",
   "metadata": {
    "papermill": {
     "duration": 0.006516,
     "end_time": "2022-11-27T02:57:31.204005",
     "exception": false,
     "start_time": "2022-11-27T02:57:31.197489",
     "status": "completed"
    },
    "tags": []
   },
   "source": [
    "## Consensus clustering"
   ]
  },
  {
   "cell_type": "code",
   "execution_count": 9,
   "id": "eb9485c3",
   "metadata": {
    "execution": {
     "iopub.execute_input": "2022-11-27T02:57:31.218860Z",
     "iopub.status.busy": "2022-11-27T02:57:31.218522Z",
     "iopub.status.idle": "2022-11-27T02:57:31.233130Z",
     "shell.execute_reply": "2022-11-27T02:57:31.232652Z"
    },
    "papermill": {
     "duration": 0.023692,
     "end_time": "2022-11-27T02:57:31.234503",
     "exception": false,
     "start_time": "2022-11-27T02:57:31.210811",
     "status": "completed"
    },
    "tags": []
   },
   "outputs": [
    {
     "data": {
      "text/plain": [
       "{'K_MIN': 2, 'K_MAX': 60}"
      ]
     },
     "metadata": {},
     "output_type": "display_data"
    }
   ],
   "source": [
    "CLUSTERING_OPTIONS = {}\n",
    "\n",
    "CLUSTERING_OPTIONS[\"K_MIN\"] = 2\n",
    "CLUSTERING_OPTIONS[\"K_MAX\"] = 60\n",
    "\n",
    "display(CLUSTERING_OPTIONS)"
   ]
  },
  {
   "cell_type": "code",
   "execution_count": 10,
   "id": "00a151fc",
   "metadata": {
    "execution": {
     "iopub.execute_input": "2022-11-27T02:57:31.249254Z",
     "iopub.status.busy": "2022-11-27T02:57:31.248866Z",
     "iopub.status.idle": "2022-11-27T02:57:31.263702Z",
     "shell.execute_reply": "2022-11-27T02:57:31.263234Z"
    },
    "papermill": {
     "duration": 0.02355,
     "end_time": "2022-11-27T02:57:31.265097",
     "exception": false,
     "start_time": "2022-11-27T02:57:31.241547",
     "status": "completed"
    },
    "tags": []
   },
   "outputs": [
    {
     "data": {
      "text/plain": [
       "PosixPath('/opt/data/results/clustering/null_sims/shuffle_lvs/consensus_clustering')"
      ]
     },
     "metadata": {},
     "output_type": "display_data"
    }
   ],
   "source": [
    "# output dir for this notebook\n",
    "RESULTS_DIR = Path(NULL_DIR, \"consensus_clustering\").resolve()\n",
    "RESULTS_DIR.mkdir(parents=True, exist_ok=True)\n",
    "\n",
    "display(RESULTS_DIR)"
   ]
  },
  {
   "cell_type": "markdown",
   "id": "9d4247a6",
   "metadata": {
    "papermill": {
     "duration": 0.006708,
     "end_time": "2022-11-27T02:57:31.278910",
     "exception": false,
     "start_time": "2022-11-27T02:57:31.272202",
     "status": "completed"
    },
    "tags": []
   },
   "source": [
    "# Load ensemble"
   ]
  },
  {
   "cell_type": "code",
   "execution_count": 11,
   "id": "2f15465a",
   "metadata": {
    "execution": {
     "iopub.execute_input": "2022-11-27T02:57:31.293922Z",
     "iopub.status.busy": "2022-11-27T02:57:31.293637Z",
     "iopub.status.idle": "2022-11-27T02:57:31.308140Z",
     "shell.execute_reply": "2022-11-27T02:57:31.307668Z"
    },
    "papermill": {
     "duration": 0.023696,
     "end_time": "2022-11-27T02:57:31.309531",
     "exception": false,
     "start_time": "2022-11-27T02:57:31.285835",
     "status": "completed"
    },
    "tags": []
   },
   "outputs": [
    {
     "data": {
      "text/plain": [
       "PosixPath('/opt/data/results/clustering/null_sims/shuffle_lvs/consensus_clustering/ensemble.npy')"
      ]
     },
     "metadata": {},
     "output_type": "display_data"
    }
   ],
   "source": [
    "output_file = Path(RESULTS_DIR, \"ensemble.npy\").resolve()\n",
    "display(output_file)"
   ]
  },
  {
   "cell_type": "code",
   "execution_count": 12,
   "id": "6e287d3f",
   "metadata": {
    "execution": {
     "iopub.execute_input": "2022-11-27T02:57:31.324569Z",
     "iopub.status.busy": "2022-11-27T02:57:31.324262Z",
     "iopub.status.idle": "2022-11-27T02:57:31.361486Z",
     "shell.execute_reply": "2022-11-27T02:57:31.361037Z"
    },
    "papermill": {
     "duration": 0.046314,
     "end_time": "2022-11-27T02:57:31.363086",
     "exception": false,
     "start_time": "2022-11-27T02:57:31.316772",
     "status": "completed"
    },
    "tags": []
   },
   "outputs": [],
   "source": [
    "full_ensemble = np.load(output_file)"
   ]
  },
  {
   "cell_type": "code",
   "execution_count": 13,
   "id": "3e717627",
   "metadata": {
    "execution": {
     "iopub.execute_input": "2022-11-27T02:57:31.378560Z",
     "iopub.status.busy": "2022-11-27T02:57:31.378139Z",
     "iopub.status.idle": "2022-11-27T02:57:31.392828Z",
     "shell.execute_reply": "2022-11-27T02:57:31.392329Z"
    },
    "papermill": {
     "duration": 0.02367,
     "end_time": "2022-11-27T02:57:31.394190",
     "exception": false,
     "start_time": "2022-11-27T02:57:31.370520",
     "status": "completed"
    },
    "tags": []
   },
   "outputs": [
    {
     "data": {
      "text/plain": [
       "(3831, 3752)"
      ]
     },
     "metadata": {},
     "output_type": "display_data"
    }
   ],
   "source": [
    "display(full_ensemble.shape)"
   ]
  },
  {
   "cell_type": "markdown",
   "id": "fe7e0223",
   "metadata": {
    "papermill": {
     "duration": 0.007447,
     "end_time": "2022-11-27T02:57:31.408937",
     "exception": false,
     "start_time": "2022-11-27T02:57:31.401490",
     "status": "completed"
    },
    "tags": []
   },
   "source": [
    "# Load ensemble coassociation distance matrix"
   ]
  },
  {
   "cell_type": "code",
   "execution_count": 14,
   "id": "b4b14bcc",
   "metadata": {
    "execution": {
     "iopub.execute_input": "2022-11-27T02:57:31.424129Z",
     "iopub.status.busy": "2022-11-27T02:57:31.423791Z",
     "iopub.status.idle": "2022-11-27T02:57:31.438675Z",
     "shell.execute_reply": "2022-11-27T02:57:31.438197Z"
    },
    "papermill": {
     "duration": 0.023914,
     "end_time": "2022-11-27T02:57:31.440043",
     "exception": false,
     "start_time": "2022-11-27T02:57:31.416129",
     "status": "completed"
    },
    "tags": []
   },
   "outputs": [
    {
     "data": {
      "text/plain": [
       "PosixPath('/opt/data/results/clustering/null_sims/shuffle_lvs/consensus_clustering/ensemble_coassoc_matrix.npy')"
      ]
     },
     "metadata": {},
     "output_type": "display_data"
    }
   ],
   "source": [
    "output_file = Path(RESULTS_DIR, \"ensemble_coassoc_matrix.npy\").resolve()\n",
    "display(output_file)"
   ]
  },
  {
   "cell_type": "code",
   "execution_count": 15,
   "id": "ab4c71bf",
   "metadata": {
    "execution": {
     "iopub.execute_input": "2022-11-27T02:57:31.455469Z",
     "iopub.status.busy": "2022-11-27T02:57:31.455134Z",
     "iopub.status.idle": "2022-11-27T02:57:31.492234Z",
     "shell.execute_reply": "2022-11-27T02:57:31.491799Z"
    },
    "papermill": {
     "duration": 0.046423,
     "end_time": "2022-11-27T02:57:31.493852",
     "exception": false,
     "start_time": "2022-11-27T02:57:31.447429",
     "status": "completed"
    },
    "tags": []
   },
   "outputs": [],
   "source": [
    "ensemble_coassoc_matrix = np.load(output_file)"
   ]
  },
  {
   "cell_type": "code",
   "execution_count": 16,
   "id": "bb6f223f",
   "metadata": {
    "execution": {
     "iopub.execute_input": "2022-11-27T02:57:31.510283Z",
     "iopub.status.busy": "2022-11-27T02:57:31.509984Z",
     "iopub.status.idle": "2022-11-27T02:57:31.524627Z",
     "shell.execute_reply": "2022-11-27T02:57:31.524143Z"
    },
    "papermill": {
     "duration": 0.024494,
     "end_time": "2022-11-27T02:57:31.526028",
     "exception": false,
     "start_time": "2022-11-27T02:57:31.501534",
     "status": "completed"
    },
    "tags": []
   },
   "outputs": [
    {
     "data": {
      "text/plain": [
       "(3752, 3752)"
      ]
     },
     "metadata": {},
     "output_type": "display_data"
    }
   ],
   "source": [
    "display(ensemble_coassoc_matrix.shape)"
   ]
  },
  {
   "cell_type": "code",
   "execution_count": 17,
   "id": "9d0e1e3e",
   "metadata": {
    "execution": {
     "iopub.execute_input": "2022-11-27T02:57:31.541593Z",
     "iopub.status.busy": "2022-11-27T02:57:31.541339Z",
     "iopub.status.idle": "2022-11-27T02:57:31.555894Z",
     "shell.execute_reply": "2022-11-27T02:57:31.555422Z"
    },
    "papermill": {
     "duration": 0.023739,
     "end_time": "2022-11-27T02:57:31.557265",
     "exception": false,
     "start_time": "2022-11-27T02:57:31.533526",
     "status": "completed"
    },
    "tags": []
   },
   "outputs": [
    {
     "data": {
      "text/plain": [
       "array([[0.        , 0.49197002, 0.43842495, ..., 0.57504616, 0.46243079,\n",
       "        0.75184794],\n",
       "       [0.49197002, 0.        , 0.47500668, ..., 0.61569363, 0.54710921,\n",
       "        0.7467167 ],\n",
       "       [0.43842495, 0.47500668, 0.        , ..., 0.59254363, 0.47172304,\n",
       "        0.69542207],\n",
       "       ...,\n",
       "       [0.57504616, 0.61569363, 0.59254363, ..., 0.        , 0.47823793,\n",
       "        0.76293559],\n",
       "       [0.46243079, 0.54710921, 0.47172304, ..., 0.47823793, 0.        ,\n",
       "        0.71145723],\n",
       "       [0.75184794, 0.7467167 , 0.69542207, ..., 0.76293559, 0.71145723,\n",
       "        0.        ]])"
      ]
     },
     "metadata": {},
     "output_type": "display_data"
    }
   ],
   "source": [
    "display(ensemble_coassoc_matrix)"
   ]
  },
  {
   "cell_type": "markdown",
   "id": "7a2e8760",
   "metadata": {
    "papermill": {
     "duration": 0.007208,
     "end_time": "2022-11-27T02:57:31.572010",
     "exception": false,
     "start_time": "2022-11-27T02:57:31.564802",
     "status": "completed"
    },
    "tags": []
   },
   "source": [
    "# Consensus clustering"
   ]
  },
  {
   "cell_type": "code",
   "execution_count": 18,
   "id": "0fec4774",
   "metadata": {
    "execution": {
     "iopub.execute_input": "2022-11-27T02:57:31.611279Z",
     "iopub.status.busy": "2022-11-27T02:57:31.611113Z",
     "iopub.status.idle": "2022-11-27T02:57:31.779505Z",
     "shell.execute_reply": "2022-11-27T02:57:31.779186Z"
    },
    "papermill": {
     "duration": 0.175766,
     "end_time": "2022-11-27T02:57:31.780577",
     "exception": false,
     "start_time": "2022-11-27T02:57:31.604811",
     "status": "completed"
    },
    "tags": []
   },
   "outputs": [],
   "source": [
    "from concurrent.futures import ProcessPoolExecutor, as_completed\n",
    "\n",
    "from tqdm import tqdm\n",
    "\n",
    "from clustering.ensembles.utils import (\n",
    "    run_method_and_compute_agreement,\n",
    ")\n",
    "from clustering.ensembles.eac import (\n",
    "    eac_single_coassoc_matrix,\n",
    "    eac_complete_coassoc_matrix,\n",
    "    eac_average_coassoc_matrix,\n",
    ")\n",
    "from clustering.ensembles.spectral import scc"
   ]
  },
  {
   "cell_type": "markdown",
   "id": "c61cdb8d",
   "metadata": {
    "papermill": {
     "duration": 0.009479,
     "end_time": "2022-11-27T02:57:31.794388",
     "exception": false,
     "start_time": "2022-11-27T02:57:31.784909",
     "status": "completed"
    },
    "tags": []
   },
   "source": [
    "Define spectral consensus clustering methods with delta values found in pre-analysis:"
   ]
  },
  {
   "cell_type": "code",
   "execution_count": 19,
   "id": "52cb4bb6",
   "metadata": {
    "execution": {
     "iopub.execute_input": "2022-11-27T02:57:31.803462Z",
     "iopub.status.busy": "2022-11-27T02:57:31.803327Z",
     "iopub.status.idle": "2022-11-27T02:57:31.816038Z",
     "shell.execute_reply": "2022-11-27T02:57:31.815758Z"
    },
    "papermill": {
     "duration": 0.018432,
     "end_time": "2022-11-27T02:57:31.816872",
     "exception": false,
     "start_time": "2022-11-27T02:57:31.798440",
     "status": "completed"
    },
    "tags": []
   },
   "outputs": [],
   "source": [
    "def scc_020(coassoc_distance_matrix, k, **kwargs):\n",
    "    return scc(\n",
    "        coassoc_distance_matrix,\n",
    "        k,\n",
    "        delta=0.20,\n",
    "        ensemble_is_coassoc_matrix=True,\n",
    "        **kwargs\n",
    "    )\n",
    "\n",
    "\n",
    "def scc_025(coassoc_distance_matrix, k, **kwargs):\n",
    "    return scc(\n",
    "        coassoc_distance_matrix,\n",
    "        k,\n",
    "        delta=0.25,\n",
    "        ensemble_is_coassoc_matrix=True,\n",
    "        **kwargs\n",
    "    )\n",
    "\n",
    "\n",
    "def scc_030(coassoc_distance_matrix, k, **kwargs):\n",
    "    return scc(\n",
    "        coassoc_distance_matrix,\n",
    "        k,\n",
    "        delta=0.30,\n",
    "        ensemble_is_coassoc_matrix=True,\n",
    "        **kwargs\n",
    "    )\n",
    "\n",
    "\n",
    "def scc_050(coassoc_distance_matrix, k, **kwargs):\n",
    "    return scc(\n",
    "        coassoc_distance_matrix,\n",
    "        k,\n",
    "        delta=0.50,\n",
    "        ensemble_is_coassoc_matrix=True,\n",
    "        **kwargs\n",
    "    )"
   ]
  },
  {
   "cell_type": "code",
   "execution_count": 20,
   "id": "709aed1b",
   "metadata": {
    "execution": {
     "iopub.execute_input": "2022-11-27T02:57:31.825573Z",
     "iopub.status.busy": "2022-11-27T02:57:31.825456Z",
     "iopub.status.idle": "2022-11-27T02:57:31.836960Z",
     "shell.execute_reply": "2022-11-27T02:57:31.836677Z"
    },
    "papermill": {
     "duration": 0.016677,
     "end_time": "2022-11-27T02:57:31.837751",
     "exception": false,
     "start_time": "2022-11-27T02:57:31.821074",
     "status": "completed"
    },
    "tags": []
   },
   "outputs": [
    {
     "data": {
      "text/plain": [
       "{<function clustering.ensembles.eac.eac_average_coassoc_matrix(coassoc_matrix, k, **kwargs)>,\n",
       " <function clustering.ensembles.eac.eac_complete_coassoc_matrix(coassoc_matrix, k, **kwargs)>,\n",
       " <function clustering.ensembles.eac.eac_single_coassoc_matrix(coassoc_matrix, k, **kwargs)>,\n",
       " <function __main__.scc_020(coassoc_distance_matrix, k, **kwargs)>,\n",
       " <function __main__.scc_025(coassoc_distance_matrix, k, **kwargs)>,\n",
       " <function __main__.scc_030(coassoc_distance_matrix, k, **kwargs)>,\n",
       " <function __main__.scc_050(coassoc_distance_matrix, k, **kwargs)>}"
      ]
     },
     "metadata": {},
     "output_type": "display_data"
    }
   ],
   "source": [
    "all_consensus_methods = set(\n",
    "    (\n",
    "        eac_single_coassoc_matrix,\n",
    "        eac_complete_coassoc_matrix,\n",
    "        eac_average_coassoc_matrix,\n",
    "        scc_020,\n",
    "        scc_025,\n",
    "        scc_030,\n",
    "        scc_050,\n",
    "    )\n",
    ")\n",
    "display(all_consensus_methods)"
   ]
  },
  {
   "cell_type": "code",
   "execution_count": 21,
   "id": "cfd2a85a",
   "metadata": {
    "execution": {
     "iopub.execute_input": "2022-11-27T02:57:31.846476Z",
     "iopub.status.busy": "2022-11-27T02:57:31.846355Z",
     "iopub.status.idle": "2022-11-27T03:20:07.911161Z",
     "shell.execute_reply": "2022-11-27T03:20:07.910897Z"
    },
    "papermill": {
     "duration": 1356.069928,
     "end_time": "2022-11-27T03:20:07.911869",
     "exception": false,
     "start_time": "2022-11-27T02:57:31.841941",
     "status": "completed"
    },
    "tags": []
   },
   "outputs": [
    {
     "name": "stderr",
     "output_type": "stream",
     "text": [
      "100%|█████████████████████████████████████████████████████████████| 413/413 [22:35<00:00,  3.28s/it]\n"
     ]
    }
   ],
   "source": [
    "consensus_results = []\n",
    "\n",
    "with ProcessPoolExecutor(max_workers=conf.GENERAL[\"N_JOBS\"]) as executor:\n",
    "    tasks = {\n",
    "        executor.submit(\n",
    "            run_method_and_compute_agreement,\n",
    "            m,\n",
    "            ensemble_coassoc_matrix,\n",
    "            full_ensemble,\n",
    "            k,\n",
    "            n_init=SC_N_INIT,\n",
    "            random_state=next(RANDOM_STATES_ITER),\n",
    "        ): (m.__name__, k)\n",
    "        for m in all_consensus_methods\n",
    "        for k in range(CLUSTERING_OPTIONS[\"K_MIN\"], CLUSTERING_OPTIONS[\"K_MAX\"] + 1)\n",
    "    }\n",
    "\n",
    "    for future in tqdm(as_completed(tasks), total=len(tasks), disable=False, ncols=100):\n",
    "        method_name, k = tasks[future]\n",
    "        part, performance_values = future.result()\n",
    "\n",
    "        method_results = {\n",
    "            \"method\": method_name,\n",
    "            \"partition\": part,\n",
    "            \"k\": k,\n",
    "        }\n",
    "        method_results.update(performance_values)\n",
    "\n",
    "        consensus_results.append(method_results)"
   ]
  },
  {
   "cell_type": "code",
   "execution_count": 22,
   "id": "d35578c2",
   "metadata": {
    "execution": {
     "iopub.execute_input": "2022-11-27T03:20:07.944423Z",
     "iopub.status.busy": "2022-11-27T03:20:07.944160Z",
     "iopub.status.idle": "2022-11-27T03:20:07.959276Z",
     "shell.execute_reply": "2022-11-27T03:20:07.958985Z"
    },
    "papermill": {
     "duration": 0.031785,
     "end_time": "2022-11-27T03:20:07.959979",
     "exception": false,
     "start_time": "2022-11-27T03:20:07.928194",
     "status": "completed"
    },
    "tags": []
   },
   "outputs": [],
   "source": [
    "consensus_results = pd.DataFrame(consensus_results)"
   ]
  },
  {
   "cell_type": "code",
   "execution_count": 23,
   "id": "c6382de6",
   "metadata": {
    "execution": {
     "iopub.execute_input": "2022-11-27T03:20:07.991999Z",
     "iopub.status.busy": "2022-11-27T03:20:07.991828Z",
     "iopub.status.idle": "2022-11-27T03:20:08.003361Z",
     "shell.execute_reply": "2022-11-27T03:20:08.003160Z"
    },
    "papermill": {
     "duration": 0.028187,
     "end_time": "2022-11-27T03:20:08.004015",
     "exception": false,
     "start_time": "2022-11-27T03:20:07.975828",
     "status": "completed"
    },
    "tags": []
   },
   "outputs": [
    {
     "data": {
      "text/plain": [
       "(413, 12)"
      ]
     },
     "metadata": {},
     "output_type": "display_data"
    }
   ],
   "source": [
    "display(consensus_results.shape)"
   ]
  },
  {
   "cell_type": "code",
   "execution_count": 24,
   "id": "5cf6a697",
   "metadata": {
    "execution": {
     "iopub.execute_input": "2022-11-27T03:20:08.035367Z",
     "iopub.status.busy": "2022-11-27T03:20:08.035149Z",
     "iopub.status.idle": "2022-11-27T03:20:08.067420Z",
     "shell.execute_reply": "2022-11-27T03:20:08.067035Z"
    },
    "papermill": {
     "duration": 0.048588,
     "end_time": "2022-11-27T03:20:08.068180",
     "exception": false,
     "start_time": "2022-11-27T03:20:08.019592",
     "status": "completed"
    },
    "tags": []
   },
   "outputs": [
    {
     "data": {
      "text/html": [
       "<div>\n",
       "<style scoped>\n",
       "    .dataframe tbody tr th:only-of-type {\n",
       "        vertical-align: middle;\n",
       "    }\n",
       "\n",
       "    .dataframe tbody tr th {\n",
       "        vertical-align: top;\n",
       "    }\n",
       "\n",
       "    .dataframe thead th {\n",
       "        text-align: right;\n",
       "    }\n",
       "</style>\n",
       "<table border=\"1\" class=\"dataframe\">\n",
       "  <thead>\n",
       "    <tr style=\"text-align: right;\">\n",
       "      <th></th>\n",
       "      <th>method</th>\n",
       "      <th>partition</th>\n",
       "      <th>k</th>\n",
       "      <th>ari_mean</th>\n",
       "      <th>ari_median</th>\n",
       "      <th>ari_std</th>\n",
       "      <th>ami_mean</th>\n",
       "      <th>ami_median</th>\n",
       "      <th>ami_std</th>\n",
       "      <th>nmi_mean</th>\n",
       "      <th>nmi_median</th>\n",
       "      <th>nmi_std</th>\n",
       "    </tr>\n",
       "  </thead>\n",
       "  <tbody>\n",
       "    <tr>\n",
       "      <th>0</th>\n",
       "      <td>scc_030</td>\n",
       "      <td>[1, 1, 1, 1, 1, 1, 1, 1, 1, 1, 1, 1, 1, 1, 1, ...</td>\n",
       "      <td>2</td>\n",
       "      <td>0.031635</td>\n",
       "      <td>0.000160</td>\n",
       "      <td>0.075404</td>\n",
       "      <td>0.101767</td>\n",
       "      <td>0.000505</td>\n",
       "      <td>0.157779</td>\n",
       "      <td>0.106014</td>\n",
       "      <td>0.009944</td>\n",
       "      <td>0.155998</td>\n",
       "    </tr>\n",
       "    <tr>\n",
       "      <th>1</th>\n",
       "      <td>scc_030</td>\n",
       "      <td>[1, 1, 1, 1, 1, 1, 1, 1, 1, 1, 1, 1, 1, 1, 1, ...</td>\n",
       "      <td>3</td>\n",
       "      <td>0.051898</td>\n",
       "      <td>0.000073</td>\n",
       "      <td>0.110869</td>\n",
       "      <td>0.143359</td>\n",
       "      <td>0.000675</td>\n",
       "      <td>0.220852</td>\n",
       "      <td>0.148842</td>\n",
       "      <td>0.011363</td>\n",
       "      <td>0.218589</td>\n",
       "    </tr>\n",
       "    <tr>\n",
       "      <th>2</th>\n",
       "      <td>scc_030</td>\n",
       "      <td>[3, 3, 3, 3, 3, 3, 3, 3, 3, 3, 3, 3, 3, 3, 3, ...</td>\n",
       "      <td>4</td>\n",
       "      <td>0.061330</td>\n",
       "      <td>0.000016</td>\n",
       "      <td>0.119374</td>\n",
       "      <td>0.163701</td>\n",
       "      <td>0.000836</td>\n",
       "      <td>0.249698</td>\n",
       "      <td>0.170085</td>\n",
       "      <td>0.013278</td>\n",
       "      <td>0.247121</td>\n",
       "    </tr>\n",
       "    <tr>\n",
       "      <th>3</th>\n",
       "      <td>scc_030</td>\n",
       "      <td>[1, 1, 1, 1, 1, 1, 1, 1, 1, 1, 1, 1, 1, 1, 1, ...</td>\n",
       "      <td>5</td>\n",
       "      <td>0.083099</td>\n",
       "      <td>0.001115</td>\n",
       "      <td>0.152281</td>\n",
       "      <td>0.184872</td>\n",
       "      <td>0.002492</td>\n",
       "      <td>0.280919</td>\n",
       "      <td>0.191957</td>\n",
       "      <td>0.012744</td>\n",
       "      <td>0.278043</td>\n",
       "    </tr>\n",
       "    <tr>\n",
       "      <th>4</th>\n",
       "      <td>scc_030</td>\n",
       "      <td>[1, 1, 1, 1, 1, 1, 1, 1, 1, 1, 1, 1, 1, 1, 1, ...</td>\n",
       "      <td>6</td>\n",
       "      <td>0.100830</td>\n",
       "      <td>0.000728</td>\n",
       "      <td>0.179658</td>\n",
       "      <td>0.198811</td>\n",
       "      <td>0.001834</td>\n",
       "      <td>0.302531</td>\n",
       "      <td>0.206519</td>\n",
       "      <td>0.013906</td>\n",
       "      <td>0.299334</td>\n",
       "    </tr>\n",
       "  </tbody>\n",
       "</table>\n",
       "</div>"
      ],
      "text/plain": [
       "    method                                          partition  k  ari_mean  \\\n",
       "0  scc_030  [1, 1, 1, 1, 1, 1, 1, 1, 1, 1, 1, 1, 1, 1, 1, ...  2  0.031635   \n",
       "1  scc_030  [1, 1, 1, 1, 1, 1, 1, 1, 1, 1, 1, 1, 1, 1, 1, ...  3  0.051898   \n",
       "2  scc_030  [3, 3, 3, 3, 3, 3, 3, 3, 3, 3, 3, 3, 3, 3, 3, ...  4  0.061330   \n",
       "3  scc_030  [1, 1, 1, 1, 1, 1, 1, 1, 1, 1, 1, 1, 1, 1, 1, ...  5  0.083099   \n",
       "4  scc_030  [1, 1, 1, 1, 1, 1, 1, 1, 1, 1, 1, 1, 1, 1, 1, ...  6  0.100830   \n",
       "\n",
       "   ari_median   ari_std  ami_mean  ami_median   ami_std  nmi_mean  nmi_median  \\\n",
       "0    0.000160  0.075404  0.101767    0.000505  0.157779  0.106014    0.009944   \n",
       "1    0.000073  0.110869  0.143359    0.000675  0.220852  0.148842    0.011363   \n",
       "2    0.000016  0.119374  0.163701    0.000836  0.249698  0.170085    0.013278   \n",
       "3    0.001115  0.152281  0.184872    0.002492  0.280919  0.191957    0.012744   \n",
       "4    0.000728  0.179658  0.198811    0.001834  0.302531  0.206519    0.013906   \n",
       "\n",
       "    nmi_std  \n",
       "0  0.155998  \n",
       "1  0.218589  \n",
       "2  0.247121  \n",
       "3  0.278043  \n",
       "4  0.299334  "
      ]
     },
     "execution_count": 24,
     "metadata": {},
     "output_type": "execute_result"
    }
   ],
   "source": [
    "consensus_results.head()"
   ]
  },
  {
   "cell_type": "markdown",
   "id": "317ad2de",
   "metadata": {
    "papermill": {
     "duration": 0.014657,
     "end_time": "2022-11-27T03:20:08.097927",
     "exception": false,
     "start_time": "2022-11-27T03:20:08.083270",
     "status": "completed"
    },
    "tags": []
   },
   "source": [
    "## Testing"
   ]
  },
  {
   "cell_type": "code",
   "execution_count": 25,
   "id": "bf6b3816",
   "metadata": {
    "execution": {
     "iopub.execute_input": "2022-11-27T03:20:08.128103Z",
     "iopub.status.busy": "2022-11-27T03:20:08.127916Z",
     "iopub.status.idle": "2022-11-27T03:20:08.146776Z",
     "shell.execute_reply": "2022-11-27T03:20:08.146384Z"
    },
    "papermill": {
     "duration": 0.034984,
     "end_time": "2022-11-27T03:20:08.147613",
     "exception": false,
     "start_time": "2022-11-27T03:20:08.112629",
     "status": "completed"
    },
    "tags": []
   },
   "outputs": [],
   "source": [
    "assert not consensus_results.isna().any().any()"
   ]
  },
  {
   "cell_type": "code",
   "execution_count": 26,
   "id": "9a0afa52",
   "metadata": {
    "execution": {
     "iopub.execute_input": "2022-11-27T03:20:08.178059Z",
     "iopub.status.busy": "2022-11-27T03:20:08.177687Z",
     "iopub.status.idle": "2022-11-27T03:20:08.230255Z",
     "shell.execute_reply": "2022-11-27T03:20:08.229941Z"
    },
    "papermill": {
     "duration": 0.068503,
     "end_time": "2022-11-27T03:20:08.230966",
     "exception": false,
     "start_time": "2022-11-27T03:20:08.162463",
     "status": "completed"
    },
    "tags": []
   },
   "outputs": [
    {
     "data": {
      "text/plain": [
       "0       2\n",
       "1       3\n",
       "2       4\n",
       "3       5\n",
       "4       6\n",
       "       ..\n",
       "408    56\n",
       "409    57\n",
       "410    58\n",
       "411    59\n",
       "412    60\n",
       "Name: partition, Length: 413, dtype: int64"
      ]
     },
     "metadata": {},
     "output_type": "display_data"
    }
   ],
   "source": [
    "# check that the number of clusters in the partitions are the expected ones\n",
    "_real_k_values = consensus_results[\"partition\"].apply(lambda x: np.unique(x).shape[0])\n",
    "display(_real_k_values)\n",
    "assert np.all(consensus_results[\"k\"].values == _real_k_values.values)"
   ]
  },
  {
   "cell_type": "markdown",
   "id": "e5e7e55a",
   "metadata": {
    "papermill": {
     "duration": 0.014833,
     "end_time": "2022-11-27T03:20:08.260360",
     "exception": false,
     "start_time": "2022-11-27T03:20:08.245527",
     "status": "completed"
    },
    "tags": []
   },
   "source": [
    "## Save"
   ]
  },
  {
   "cell_type": "code",
   "execution_count": 27,
   "id": "44b7ab49",
   "metadata": {
    "execution": {
     "iopub.execute_input": "2022-11-27T03:20:08.290757Z",
     "iopub.status.busy": "2022-11-27T03:20:08.290459Z",
     "iopub.status.idle": "2022-11-27T03:20:08.309646Z",
     "shell.execute_reply": "2022-11-27T03:20:08.309268Z"
    },
    "papermill": {
     "duration": 0.035116,
     "end_time": "2022-11-27T03:20:08.310366",
     "exception": false,
     "start_time": "2022-11-27T03:20:08.275250",
     "status": "completed"
    },
    "tags": []
   },
   "outputs": [
    {
     "data": {
      "text/plain": [
       "PosixPath('/opt/data/results/clustering/null_sims/shuffle_lvs/consensus_clustering/consensus_clustering_runs.pkl')"
      ]
     },
     "metadata": {},
     "output_type": "display_data"
    }
   ],
   "source": [
    "output_file = Path(RESULTS_DIR, \"consensus_clustering_runs.pkl\").resolve()\n",
    "display(output_file)"
   ]
  },
  {
   "cell_type": "code",
   "execution_count": 28,
   "id": "69a17dbb",
   "metadata": {
    "execution": {
     "iopub.execute_input": "2022-11-27T03:20:08.341046Z",
     "iopub.status.busy": "2022-11-27T03:20:08.340752Z",
     "iopub.status.idle": "2022-11-27T03:20:08.378659Z",
     "shell.execute_reply": "2022-11-27T03:20:08.378301Z"
    },
    "papermill": {
     "duration": 0.054164,
     "end_time": "2022-11-27T03:20:08.379515",
     "exception": false,
     "start_time": "2022-11-27T03:20:08.325351",
     "status": "completed"
    },
    "tags": []
   },
   "outputs": [],
   "source": [
    "consensus_results.to_pickle(output_file)"
   ]
  },
  {
   "cell_type": "code",
   "execution_count": null,
   "id": "0006ed8c",
   "metadata": {
    "papermill": {
     "duration": 0.014626,
     "end_time": "2022-11-27T03:20:08.408978",
     "exception": false,
     "start_time": "2022-11-27T03:20:08.394352",
     "status": "completed"
    },
    "tags": []
   },
   "outputs": [],
   "source": []
  }
 ],
 "metadata": {
  "jupytext": {
   "cell_metadata_filter": "all,-execution,-papermill,-trusted",
   "formats": "ipynb,py//py:percent"
  },
  "kernelspec": {
   "display_name": "Python 3 (ipykernel)",
   "language": "python",
   "name": "python3"
  },
  "language_info": {
   "codemirror_mode": {
    "name": "ipython",
    "version": 3
   },
   "file_extension": ".py",
   "mimetype": "text/x-python",
   "name": "python",
   "nbconvert_exporter": "python",
   "pygments_lexer": "ipython3",
   "version": "3.8.13"
  },
  "papermill": {
   "default_parameters": {},
   "duration": 1358.757955,
   "end_time": "2022-11-27T03:20:08.638845",
   "environment_variables": {},
   "exception": null,
   "input_path": "nbs/13.1_cluster_analysis_null/05-shuffle_lvs/20_01-combine_ensemble.ipynb",
   "output_path": "nbs/13.1_cluster_analysis_null/05-shuffle_lvs/20_01-combine_ensemble.run.ipynb",
   "parameters": {},
   "start_time": "2022-11-27T02:57:29.880890",
   "version": "2.2.2"
  },
  "toc-autonumbering": true,
  "toc-showcode": false,
  "toc-showmarkdowntxt": false,
  "toc-showtags": false
 },
 "nbformat": 4,
 "nbformat_minor": 5
}
