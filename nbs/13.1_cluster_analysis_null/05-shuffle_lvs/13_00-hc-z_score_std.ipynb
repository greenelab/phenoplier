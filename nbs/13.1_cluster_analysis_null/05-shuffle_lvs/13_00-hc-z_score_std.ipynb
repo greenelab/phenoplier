{
 "cells": [
  {
   "cell_type": "markdown",
   "id": "68fbe0d0",
   "metadata": {
    "papermill": {
     "duration": 0.013247,
     "end_time": "2022-11-26T04:38:11.671187",
     "exception": false,
     "start_time": "2022-11-26T04:38:11.657940",
     "status": "completed"
    },
    "tags": []
   },
   "source": [
    "# Description"
   ]
  },
  {
   "cell_type": "markdown",
   "id": "a8bfa51b",
   "metadata": {
    "papermill": {
     "duration": 0.011997,
     "end_time": "2022-11-26T04:38:11.695543",
     "exception": false,
     "start_time": "2022-11-26T04:38:11.683546",
     "status": "completed"
    },
    "tags": []
   },
   "source": [
    "Runs hierarchical clustering on the z_score_std version of the data."
   ]
  },
  {
   "cell_type": "markdown",
   "id": "2215b13c",
   "metadata": {
    "papermill": {
     "duration": 0.01237,
     "end_time": "2022-11-26T04:38:11.720708",
     "exception": false,
     "start_time": "2022-11-26T04:38:11.708338",
     "status": "completed"
    },
    "tags": []
   },
   "source": [
    "# Environment variables"
   ]
  },
  {
   "cell_type": "code",
   "execution_count": 1,
   "id": "ba7c8bd5",
   "metadata": {
    "execution": {
     "iopub.execute_input": "2022-11-26T04:38:11.743967Z",
     "iopub.status.busy": "2022-11-26T04:38:11.743454Z",
     "iopub.status.idle": "2022-11-26T04:38:11.762148Z",
     "shell.execute_reply": "2022-11-26T04:38:11.761704Z"
    },
    "papermill": {
     "duration": 0.030178,
     "end_time": "2022-11-26T04:38:11.762993",
     "exception": false,
     "start_time": "2022-11-26T04:38:11.732815",
     "status": "completed"
    },
    "tags": []
   },
   "outputs": [
    {
     "data": {
      "text/plain": [
       "10"
      ]
     },
     "metadata": {},
     "output_type": "display_data"
    }
   ],
   "source": [
    "from IPython.display import display\n",
    "\n",
    "import conf\n",
    "\n",
    "N_JOBS = conf.GENERAL[\"N_JOBS\"]\n",
    "display(N_JOBS)"
   ]
  },
  {
   "cell_type": "code",
   "execution_count": 2,
   "id": "6e9e2996",
   "metadata": {
    "execution": {
     "iopub.execute_input": "2022-11-26T04:38:11.776681Z",
     "iopub.status.busy": "2022-11-26T04:38:11.776286Z",
     "iopub.status.idle": "2022-11-26T04:38:11.782155Z",
     "shell.execute_reply": "2022-11-26T04:38:11.781688Z"
    },
    "papermill": {
     "duration": 0.013522,
     "end_time": "2022-11-26T04:38:11.782949",
     "exception": false,
     "start_time": "2022-11-26T04:38:11.769427",
     "status": "completed"
    },
    "tags": []
   },
   "outputs": [
    {
     "name": "stdout",
     "output_type": "stream",
     "text": [
      "env: MKL_NUM_THREADS=10\n",
      "env: OPEN_BLAS_NUM_THREADS=10\n",
      "env: NUMEXPR_NUM_THREADS=10\n",
      "env: OMP_NUM_THREADS=10\n"
     ]
    }
   ],
   "source": [
    "%env MKL_NUM_THREADS=$N_JOBS\n",
    "%env OPEN_BLAS_NUM_THREADS=$N_JOBS\n",
    "%env NUMEXPR_NUM_THREADS=$N_JOBS\n",
    "%env OMP_NUM_THREADS=$N_JOBS"
   ]
  },
  {
   "cell_type": "markdown",
   "id": "e4902098",
   "metadata": {
    "papermill": {
     "duration": 0.00666,
     "end_time": "2022-11-26T04:38:11.796065",
     "exception": false,
     "start_time": "2022-11-26T04:38:11.789405",
     "status": "completed"
    },
    "tags": []
   },
   "source": [
    "# Modules loading"
   ]
  },
  {
   "cell_type": "code",
   "execution_count": 3,
   "id": "ff49a3fd",
   "metadata": {
    "execution": {
     "iopub.execute_input": "2022-11-26T04:38:11.809734Z",
     "iopub.status.busy": "2022-11-26T04:38:11.809386Z",
     "iopub.status.idle": "2022-11-26T04:38:11.822107Z",
     "shell.execute_reply": "2022-11-26T04:38:11.821664Z"
    },
    "papermill": {
     "duration": 0.020359,
     "end_time": "2022-11-26T04:38:11.822836",
     "exception": false,
     "start_time": "2022-11-26T04:38:11.802477",
     "status": "completed"
    },
    "tags": []
   },
   "outputs": [],
   "source": [
    "%load_ext autoreload\n",
    "%autoreload 2"
   ]
  },
  {
   "cell_type": "code",
   "execution_count": 4,
   "id": "b6179936",
   "metadata": {
    "execution": {
     "iopub.execute_input": "2022-11-26T04:38:11.836885Z",
     "iopub.status.busy": "2022-11-26T04:38:11.836531Z",
     "iopub.status.idle": "2022-11-26T04:38:12.297707Z",
     "shell.execute_reply": "2022-11-26T04:38:12.297312Z"
    },
    "papermill": {
     "duration": 0.469779,
     "end_time": "2022-11-26T04:38:12.299333",
     "exception": false,
     "start_time": "2022-11-26T04:38:11.829554",
     "status": "completed"
    },
    "tags": []
   },
   "outputs": [],
   "source": [
    "from pathlib import Path\n",
    "\n",
    "import numpy as np\n",
    "import pandas as pd\n",
    "import matplotlib.pyplot as plt\n",
    "import seaborn as sns\n",
    "\n",
    "from utils import generate_result_set_name"
   ]
  },
  {
   "cell_type": "markdown",
   "id": "8bb5b886",
   "metadata": {
    "papermill": {
     "duration": 0.013142,
     "end_time": "2022-11-26T04:38:12.350439",
     "exception": false,
     "start_time": "2022-11-26T04:38:12.337297",
     "status": "completed"
    },
    "tags": []
   },
   "source": [
    "# Settings"
   ]
  },
  {
   "cell_type": "code",
   "execution_count": 5,
   "id": "998be2be",
   "metadata": {
    "execution": {
     "iopub.execute_input": "2022-11-26T04:38:12.375771Z",
     "iopub.status.busy": "2022-11-26T04:38:12.375527Z",
     "iopub.status.idle": "2022-11-26T04:38:12.392298Z",
     "shell.execute_reply": "2022-11-26T04:38:12.391841Z"
    },
    "papermill": {
     "duration": 0.030674,
     "end_time": "2022-11-26T04:38:12.393370",
     "exception": false,
     "start_time": "2022-11-26T04:38:12.362696",
     "status": "completed"
    },
    "tags": []
   },
   "outputs": [],
   "source": [
    "np.random.seed(0)"
   ]
  },
  {
   "cell_type": "code",
   "execution_count": 6,
   "id": "29730a5e-744e-4e72-86c5-143628265ad4",
   "metadata": {
    "execution": {
     "iopub.execute_input": "2022-11-26T04:38:12.414214Z",
     "iopub.status.busy": "2022-11-26T04:38:12.413804Z",
     "iopub.status.idle": "2022-11-26T04:38:12.431278Z",
     "shell.execute_reply": "2022-11-26T04:38:12.430813Z"
    },
    "papermill": {
     "duration": 0.028982,
     "end_time": "2022-11-26T04:38:12.432351",
     "exception": false,
     "start_time": "2022-11-26T04:38:12.403369",
     "status": "completed"
    },
    "tags": []
   },
   "outputs": [],
   "source": [
    "NULL_DIR = conf.RESULTS[\"CLUSTERING_NULL_DIR\"] / \"shuffle_lvs\""
   ]
  },
  {
   "cell_type": "markdown",
   "id": "ab0c12ad",
   "metadata": {
    "papermill": {
     "duration": 0.009951,
     "end_time": "2022-11-26T04:38:12.452054",
     "exception": false,
     "start_time": "2022-11-26T04:38:12.442103",
     "status": "completed"
    },
    "tags": []
   },
   "source": [
    "## Input data"
   ]
  },
  {
   "cell_type": "code",
   "execution_count": 7,
   "id": "486fc495",
   "metadata": {
    "execution": {
     "iopub.execute_input": "2022-11-26T04:38:12.472263Z",
     "iopub.status.busy": "2022-11-26T04:38:12.471919Z",
     "iopub.status.idle": "2022-11-26T04:38:12.489230Z",
     "shell.execute_reply": "2022-11-26T04:38:12.488755Z"
    },
    "papermill": {
     "duration": 0.028604,
     "end_time": "2022-11-26T04:38:12.490361",
     "exception": false,
     "start_time": "2022-11-26T04:38:12.461757",
     "status": "completed"
    },
    "tags": []
   },
   "outputs": [],
   "source": [
    "INPUT_SUBSET = \"z_score_std\""
   ]
  },
  {
   "cell_type": "code",
   "execution_count": 8,
   "id": "708d3403",
   "metadata": {
    "execution": {
     "iopub.execute_input": "2022-11-26T04:38:12.511009Z",
     "iopub.status.busy": "2022-11-26T04:38:12.510646Z",
     "iopub.status.idle": "2022-11-26T04:38:12.527530Z",
     "shell.execute_reply": "2022-11-26T04:38:12.527082Z"
    },
    "papermill": {
     "duration": 0.028528,
     "end_time": "2022-11-26T04:38:12.528585",
     "exception": false,
     "start_time": "2022-11-26T04:38:12.500057",
     "status": "completed"
    },
    "tags": []
   },
   "outputs": [],
   "source": [
    "INPUT_STEM = \"projection-smultixcan-efo_partial-mashr-zscores\""
   ]
  },
  {
   "cell_type": "code",
   "execution_count": 9,
   "id": "5efd00a3",
   "metadata": {
    "execution": {
     "iopub.execute_input": "2022-11-26T04:38:12.548871Z",
     "iopub.status.busy": "2022-11-26T04:38:12.548517Z",
     "iopub.status.idle": "2022-11-26T04:38:12.569311Z",
     "shell.execute_reply": "2022-11-26T04:38:12.568870Z"
    },
    "papermill": {
     "duration": 0.032021,
     "end_time": "2022-11-26T04:38:12.570343",
     "exception": false,
     "start_time": "2022-11-26T04:38:12.538322",
     "status": "completed"
    },
    "tags": []
   },
   "outputs": [
    {
     "data": {
      "text/plain": [
       "PosixPath('/opt/data/results/clustering/null_sims/shuffle_lvs/data_transformations/z_score_std/z_score_std-projection-smultixcan-efo_partial-mashr-zscores.pkl')"
      ]
     },
     "metadata": {},
     "output_type": "display_data"
    },
    {
     "data": {
      "text/plain": [
       "'z_score_std-projection-smultixcan-efo_partial-mashr-zscores'"
      ]
     },
     "metadata": {},
     "output_type": "display_data"
    }
   ],
   "source": [
    "input_filepath = Path(\n",
    "    NULL_DIR,\n",
    "    \"data_transformations\",\n",
    "    INPUT_SUBSET,\n",
    "    f\"{INPUT_SUBSET}-{INPUT_STEM}.pkl\",\n",
    ").resolve()\n",
    "display(input_filepath)\n",
    "\n",
    "assert input_filepath.exists(), \"Input file does not exist\"\n",
    "\n",
    "input_filepath_stem = input_filepath.stem\n",
    "display(input_filepath_stem)"
   ]
  },
  {
   "cell_type": "markdown",
   "id": "f380a980",
   "metadata": {
    "papermill": {
     "duration": 0.009699,
     "end_time": "2022-11-26T04:38:12.590864",
     "exception": false,
     "start_time": "2022-11-26T04:38:12.581165",
     "status": "completed"
    },
    "tags": []
   },
   "source": [
    "## Clustering"
   ]
  },
  {
   "cell_type": "code",
   "execution_count": 10,
   "id": "87788b76",
   "metadata": {
    "execution": {
     "iopub.execute_input": "2022-11-26T04:38:12.611717Z",
     "iopub.status.busy": "2022-11-26T04:38:12.611305Z",
     "iopub.status.idle": "2022-11-26T04:38:12.703034Z",
     "shell.execute_reply": "2022-11-26T04:38:12.702638Z"
    },
    "papermill": {
     "duration": 0.103519,
     "end_time": "2022-11-26T04:38:12.704263",
     "exception": false,
     "start_time": "2022-11-26T04:38:12.600744",
     "status": "completed"
    },
    "tags": []
   },
   "outputs": [],
   "source": [
    "from sklearn.cluster import AgglomerativeClustering"
   ]
  },
  {
   "cell_type": "code",
   "execution_count": 11,
   "id": "62e7aa53",
   "metadata": {
    "execution": {
     "iopub.execute_input": "2022-11-26T04:38:12.729929Z",
     "iopub.status.busy": "2022-11-26T04:38:12.729776Z",
     "iopub.status.idle": "2022-11-26T04:38:12.741650Z",
     "shell.execute_reply": "2022-11-26T04:38:12.741310Z"
    },
    "papermill": {
     "duration": 0.025861,
     "end_time": "2022-11-26T04:38:12.742790",
     "exception": false,
     "start_time": "2022-11-26T04:38:12.716929",
     "status": "completed"
    },
    "tags": []
   },
   "outputs": [],
   "source": [
    "CLUSTERING_ATTRIBUTES_TO_SAVE = [\"n_clusters\"]"
   ]
  },
  {
   "cell_type": "code",
   "execution_count": 12,
   "id": "1f6bc16f",
   "metadata": {
    "execution": {
     "iopub.execute_input": "2022-11-26T04:38:12.768952Z",
     "iopub.status.busy": "2022-11-26T04:38:12.768854Z",
     "iopub.status.idle": "2022-11-26T04:38:12.788916Z",
     "shell.execute_reply": "2022-11-26T04:38:12.788467Z"
    },
    "papermill": {
     "duration": 0.034242,
     "end_time": "2022-11-26T04:38:12.790198",
     "exception": false,
     "start_time": "2022-11-26T04:38:12.755956",
     "status": "completed"
    },
    "tags": []
   },
   "outputs": [
    {
     "data": {
      "text/plain": [
       "{'K_MIN': 2,\n",
       " 'K_MAX': 75,\n",
       " 'LINKAGE': {'average', 'complete', 'single', 'ward'},\n",
       " 'AFFINITY': 'euclidean'}"
      ]
     },
     "metadata": {},
     "output_type": "display_data"
    }
   ],
   "source": [
    "CLUSTERING_OPTIONS = {}\n",
    "\n",
    "CLUSTERING_OPTIONS[\"K_MIN\"] = 2\n",
    "CLUSTERING_OPTIONS[\"K_MAX\"] = 75  # sqrt(3749) + some more to get closer to 295\n",
    "CLUSTERING_OPTIONS[\"LINKAGE\"] = {\"ward\", \"complete\", \"average\", \"single\"}\n",
    "CLUSTERING_OPTIONS[\"AFFINITY\"] = \"euclidean\"\n",
    "\n",
    "display(CLUSTERING_OPTIONS)"
   ]
  },
  {
   "cell_type": "code",
   "execution_count": 13,
   "id": "315c78ec",
   "metadata": {
    "execution": {
     "iopub.execute_input": "2022-11-26T04:38:12.816752Z",
     "iopub.status.busy": "2022-11-26T04:38:12.816478Z",
     "iopub.status.idle": "2022-11-26T04:38:12.842706Z",
     "shell.execute_reply": "2022-11-26T04:38:12.842123Z"
    },
    "papermill": {
     "duration": 0.041526,
     "end_time": "2022-11-26T04:38:12.844440",
     "exception": false,
     "start_time": "2022-11-26T04:38:12.802914",
     "status": "completed"
    },
    "tags": []
   },
   "outputs": [],
   "source": [
    "CLUSTERERS = {}\n",
    "\n",
    "idx = 0\n",
    "\n",
    "for k in range(CLUSTERING_OPTIONS[\"K_MIN\"], CLUSTERING_OPTIONS[\"K_MAX\"] + 1):\n",
    "    for linkage in CLUSTERING_OPTIONS[\"LINKAGE\"]:\n",
    "        if linkage == \"ward\":\n",
    "            affinity = \"euclidean\"\n",
    "        else:\n",
    "            affinity = \"precomputed\"\n",
    "\n",
    "        clus = AgglomerativeClustering(\n",
    "            n_clusters=k,\n",
    "            affinity=affinity,\n",
    "            linkage=linkage,\n",
    "        )\n",
    "\n",
    "        method_name = type(clus).__name__\n",
    "        CLUSTERERS[f\"{method_name} #{idx}\"] = clus\n",
    "\n",
    "        idx = idx + 1"
   ]
  },
  {
   "cell_type": "code",
   "execution_count": 14,
   "id": "60d8d262",
   "metadata": {
    "execution": {
     "iopub.execute_input": "2022-11-26T04:38:12.867458Z",
     "iopub.status.busy": "2022-11-26T04:38:12.867016Z",
     "iopub.status.idle": "2022-11-26T04:38:12.890232Z",
     "shell.execute_reply": "2022-11-26T04:38:12.889752Z"
    },
    "papermill": {
     "duration": 0.035006,
     "end_time": "2022-11-26T04:38:12.891314",
     "exception": false,
     "start_time": "2022-11-26T04:38:12.856308",
     "status": "completed"
    },
    "tags": []
   },
   "outputs": [
    {
     "data": {
      "text/plain": [
       "296"
      ]
     },
     "metadata": {},
     "output_type": "display_data"
    }
   ],
   "source": [
    "display(len(CLUSTERERS))"
   ]
  },
  {
   "cell_type": "code",
   "execution_count": 15,
   "id": "6fb8a132",
   "metadata": {
    "execution": {
     "iopub.execute_input": "2022-11-26T04:38:12.912824Z",
     "iopub.status.busy": "2022-11-26T04:38:12.912455Z",
     "iopub.status.idle": "2022-11-26T04:38:12.936874Z",
     "shell.execute_reply": "2022-11-26T04:38:12.936361Z"
    },
    "papermill": {
     "duration": 0.036712,
     "end_time": "2022-11-26T04:38:12.938127",
     "exception": false,
     "start_time": "2022-11-26T04:38:12.901415",
     "status": "completed"
    },
    "tags": []
   },
   "outputs": [
    {
     "data": {
      "text/plain": [
       "('AgglomerativeClustering #0',\n",
       " AgglomerativeClustering(affinity='precomputed', linkage='complete'))"
      ]
     },
     "metadata": {},
     "output_type": "display_data"
    },
    {
     "data": {
      "text/plain": [
       "('AgglomerativeClustering #1',\n",
       " AgglomerativeClustering(affinity='precomputed', linkage='single'))"
      ]
     },
     "metadata": {},
     "output_type": "display_data"
    }
   ],
   "source": [
    "_iter = iter(CLUSTERERS.items())\n",
    "display(next(_iter))\n",
    "display(next(_iter))"
   ]
  },
  {
   "cell_type": "code",
   "execution_count": 16,
   "id": "bb2626f1",
   "metadata": {
    "execution": {
     "iopub.execute_input": "2022-11-26T04:38:12.965278Z",
     "iopub.status.busy": "2022-11-26T04:38:12.964843Z",
     "iopub.status.idle": "2022-11-26T04:38:12.985793Z",
     "shell.execute_reply": "2022-11-26T04:38:12.985115Z"
    },
    "papermill": {
     "duration": 0.03588,
     "end_time": "2022-11-26T04:38:12.987232",
     "exception": false,
     "start_time": "2022-11-26T04:38:12.951352",
     "status": "completed"
    },
    "tags": []
   },
   "outputs": [
    {
     "data": {
      "text/plain": [
       "'AgglomerativeClustering'"
      ]
     },
     "metadata": {},
     "output_type": "display_data"
    }
   ],
   "source": [
    "clustering_method_name = method_name\n",
    "display(clustering_method_name)"
   ]
  },
  {
   "cell_type": "markdown",
   "id": "f4af2a9c",
   "metadata": {
    "papermill": {
     "duration": 0.012931,
     "end_time": "2022-11-26T04:38:13.014211",
     "exception": false,
     "start_time": "2022-11-26T04:38:13.001280",
     "status": "completed"
    },
    "tags": []
   },
   "source": [
    "## Output directory"
   ]
  },
  {
   "cell_type": "code",
   "execution_count": 17,
   "id": "1aedeed4",
   "metadata": {
    "execution": {
     "iopub.execute_input": "2022-11-26T04:38:13.041326Z",
     "iopub.status.busy": "2022-11-26T04:38:13.040861Z",
     "iopub.status.idle": "2022-11-26T04:38:13.062198Z",
     "shell.execute_reply": "2022-11-26T04:38:13.061752Z"
    },
    "papermill": {
     "duration": 0.035857,
     "end_time": "2022-11-26T04:38:13.062990",
     "exception": false,
     "start_time": "2022-11-26T04:38:13.027133",
     "status": "completed"
    },
    "tags": []
   },
   "outputs": [
    {
     "data": {
      "text/plain": [
       "PosixPath('/opt/data/results/clustering/null_sims/shuffle_lvs/runs/z_score_std-projection-smultixcan-efo_partial-mashr-zscores')"
      ]
     },
     "metadata": {},
     "output_type": "display_data"
    }
   ],
   "source": [
    "# output dir for this notebook\n",
    "RESULTS_DIR = Path(\n",
    "    NULL_DIR,\n",
    "    \"runs\",\n",
    "    f\"{INPUT_SUBSET}-{INPUT_STEM}\",\n",
    ").resolve()\n",
    "RESULTS_DIR.mkdir(parents=True, exist_ok=True)\n",
    "\n",
    "display(RESULTS_DIR)"
   ]
  },
  {
   "cell_type": "markdown",
   "id": "fc9025a8",
   "metadata": {
    "papermill": {
     "duration": 0.006717,
     "end_time": "2022-11-26T04:38:13.076473",
     "exception": false,
     "start_time": "2022-11-26T04:38:13.069756",
     "status": "completed"
    },
    "tags": []
   },
   "source": [
    "# Load input file"
   ]
  },
  {
   "cell_type": "code",
   "execution_count": 18,
   "id": "beb21224",
   "metadata": {
    "execution": {
     "iopub.execute_input": "2022-11-26T04:38:13.091155Z",
     "iopub.status.busy": "2022-11-26T04:38:13.090808Z",
     "iopub.status.idle": "2022-11-26T04:38:13.126280Z",
     "shell.execute_reply": "2022-11-26T04:38:13.125762Z"
    },
    "papermill": {
     "duration": 0.04365,
     "end_time": "2022-11-26T04:38:13.127173",
     "exception": false,
     "start_time": "2022-11-26T04:38:13.083523",
     "status": "completed"
    },
    "tags": []
   },
   "outputs": [],
   "source": [
    "data = pd.read_pickle(input_filepath)"
   ]
  },
  {
   "cell_type": "code",
   "execution_count": 19,
   "id": "82d7cb7b",
   "metadata": {
    "execution": {
     "iopub.execute_input": "2022-11-26T04:38:13.141831Z",
     "iopub.status.busy": "2022-11-26T04:38:13.141367Z",
     "iopub.status.idle": "2022-11-26T04:38:13.161702Z",
     "shell.execute_reply": "2022-11-26T04:38:13.161266Z"
    },
    "papermill": {
     "duration": 0.028429,
     "end_time": "2022-11-26T04:38:13.162470",
     "exception": false,
     "start_time": "2022-11-26T04:38:13.134041",
     "status": "completed"
    },
    "tags": []
   },
   "outputs": [
    {
     "data": {
      "text/plain": [
       "(3752, 987)"
      ]
     },
     "execution_count": 19,
     "metadata": {},
     "output_type": "execute_result"
    }
   ],
   "source": [
    "data.shape"
   ]
  },
  {
   "cell_type": "code",
   "execution_count": 20,
   "id": "81a72af1",
   "metadata": {
    "execution": {
     "iopub.execute_input": "2022-11-26T04:38:13.177315Z",
     "iopub.status.busy": "2022-11-26T04:38:13.177002Z",
     "iopub.status.idle": "2022-11-26T04:38:13.212548Z",
     "shell.execute_reply": "2022-11-26T04:38:13.212086Z"
    },
    "papermill": {
     "duration": 0.043653,
     "end_time": "2022-11-26T04:38:13.213327",
     "exception": false,
     "start_time": "2022-11-26T04:38:13.169674",
     "status": "completed"
    },
    "tags": []
   },
   "outputs": [
    {
     "data": {
      "text/html": [
       "<div>\n",
       "<style scoped>\n",
       "    .dataframe tbody tr th:only-of-type {\n",
       "        vertical-align: middle;\n",
       "    }\n",
       "\n",
       "    .dataframe tbody tr th {\n",
       "        vertical-align: top;\n",
       "    }\n",
       "\n",
       "    .dataframe thead th {\n",
       "        text-align: right;\n",
       "    }\n",
       "</style>\n",
       "<table border=\"1\" class=\"dataframe\">\n",
       "  <thead>\n",
       "    <tr style=\"text-align: right;\">\n",
       "      <th></th>\n",
       "      <th>LV1</th>\n",
       "      <th>LV2</th>\n",
       "      <th>LV3</th>\n",
       "      <th>LV4</th>\n",
       "      <th>LV5</th>\n",
       "      <th>LV6</th>\n",
       "      <th>LV7</th>\n",
       "      <th>LV8</th>\n",
       "      <th>LV9</th>\n",
       "      <th>LV10</th>\n",
       "      <th>...</th>\n",
       "      <th>LV978</th>\n",
       "      <th>LV979</th>\n",
       "      <th>LV980</th>\n",
       "      <th>LV981</th>\n",
       "      <th>LV982</th>\n",
       "      <th>LV983</th>\n",
       "      <th>LV984</th>\n",
       "      <th>LV985</th>\n",
       "      <th>LV986</th>\n",
       "      <th>LV987</th>\n",
       "    </tr>\n",
       "  </thead>\n",
       "  <tbody>\n",
       "    <tr>\n",
       "      <th>100001_raw-Food_weight</th>\n",
       "      <td>-2.408007</td>\n",
       "      <td>-1.745911</td>\n",
       "      <td>1.383013</td>\n",
       "      <td>0.158718</td>\n",
       "      <td>-0.240933</td>\n",
       "      <td>-0.304911</td>\n",
       "      <td>1.823117</td>\n",
       "      <td>-0.716278</td>\n",
       "      <td>-1.769346</td>\n",
       "      <td>-0.043794</td>\n",
       "      <td>...</td>\n",
       "      <td>0.399227</td>\n",
       "      <td>0.849885</td>\n",
       "      <td>-0.593292</td>\n",
       "      <td>0.636568</td>\n",
       "      <td>0.409726</td>\n",
       "      <td>-0.871713</td>\n",
       "      <td>1.638770</td>\n",
       "      <td>0.285165</td>\n",
       "      <td>0.585307</td>\n",
       "      <td>0.592347</td>\n",
       "    </tr>\n",
       "    <tr>\n",
       "      <th>100002_raw-Energy</th>\n",
       "      <td>-0.508508</td>\n",
       "      <td>0.514427</td>\n",
       "      <td>-0.792865</td>\n",
       "      <td>-0.091775</td>\n",
       "      <td>-0.013409</td>\n",
       "      <td>0.194047</td>\n",
       "      <td>1.353713</td>\n",
       "      <td>0.117286</td>\n",
       "      <td>-0.323516</td>\n",
       "      <td>-1.641116</td>\n",
       "      <td>...</td>\n",
       "      <td>-0.038535</td>\n",
       "      <td>-1.139394</td>\n",
       "      <td>-0.951591</td>\n",
       "      <td>1.197872</td>\n",
       "      <td>0.893819</td>\n",
       "      <td>-0.820655</td>\n",
       "      <td>0.928634</td>\n",
       "      <td>-0.716778</td>\n",
       "      <td>-0.085735</td>\n",
       "      <td>-1.208965</td>\n",
       "    </tr>\n",
       "    <tr>\n",
       "      <th>100003_raw-Protein</th>\n",
       "      <td>-0.284597</td>\n",
       "      <td>-0.325076</td>\n",
       "      <td>-1.412980</td>\n",
       "      <td>1.255510</td>\n",
       "      <td>0.343603</td>\n",
       "      <td>-2.471878</td>\n",
       "      <td>-0.149640</td>\n",
       "      <td>-0.715178</td>\n",
       "      <td>-0.548948</td>\n",
       "      <td>1.210352</td>\n",
       "      <td>...</td>\n",
       "      <td>1.006094</td>\n",
       "      <td>0.595064</td>\n",
       "      <td>1.774559</td>\n",
       "      <td>-0.335165</td>\n",
       "      <td>0.394177</td>\n",
       "      <td>-0.188345</td>\n",
       "      <td>-1.864716</td>\n",
       "      <td>-0.124875</td>\n",
       "      <td>1.253625</td>\n",
       "      <td>0.804944</td>\n",
       "    </tr>\n",
       "    <tr>\n",
       "      <th>100004_raw-Fat</th>\n",
       "      <td>-0.427503</td>\n",
       "      <td>-0.096524</td>\n",
       "      <td>-0.348654</td>\n",
       "      <td>-1.250087</td>\n",
       "      <td>-0.253145</td>\n",
       "      <td>-0.236606</td>\n",
       "      <td>-0.600627</td>\n",
       "      <td>0.277239</td>\n",
       "      <td>-0.844748</td>\n",
       "      <td>-0.998437</td>\n",
       "      <td>...</td>\n",
       "      <td>0.249993</td>\n",
       "      <td>-1.520660</td>\n",
       "      <td>0.037241</td>\n",
       "      <td>0.514992</td>\n",
       "      <td>0.512538</td>\n",
       "      <td>-1.083619</td>\n",
       "      <td>0.310643</td>\n",
       "      <td>-1.719033</td>\n",
       "      <td>-0.970770</td>\n",
       "      <td>-2.628077</td>\n",
       "    </tr>\n",
       "    <tr>\n",
       "      <th>100005_raw-Carbohydrate</th>\n",
       "      <td>-1.502621</td>\n",
       "      <td>-1.083034</td>\n",
       "      <td>0.531159</td>\n",
       "      <td>0.332981</td>\n",
       "      <td>-1.240640</td>\n",
       "      <td>-0.852565</td>\n",
       "      <td>-0.003171</td>\n",
       "      <td>0.561912</td>\n",
       "      <td>-0.772413</td>\n",
       "      <td>-0.372739</td>\n",
       "      <td>...</td>\n",
       "      <td>-0.577730</td>\n",
       "      <td>-1.163380</td>\n",
       "      <td>0.000251</td>\n",
       "      <td>-0.345607</td>\n",
       "      <td>-1.610004</td>\n",
       "      <td>0.194078</td>\n",
       "      <td>0.605594</td>\n",
       "      <td>1.182825</td>\n",
       "      <td>-1.567705</td>\n",
       "      <td>-0.011902</td>\n",
       "    </tr>\n",
       "  </tbody>\n",
       "</table>\n",
       "<p>5 rows × 987 columns</p>\n",
       "</div>"
      ],
      "text/plain": [
       "                              LV1       LV2       LV3       LV4       LV5  \\\n",
       "100001_raw-Food_weight  -2.408007 -1.745911  1.383013  0.158718 -0.240933   \n",
       "100002_raw-Energy       -0.508508  0.514427 -0.792865 -0.091775 -0.013409   \n",
       "100003_raw-Protein      -0.284597 -0.325076 -1.412980  1.255510  0.343603   \n",
       "100004_raw-Fat          -0.427503 -0.096524 -0.348654 -1.250087 -0.253145   \n",
       "100005_raw-Carbohydrate -1.502621 -1.083034  0.531159  0.332981 -1.240640   \n",
       "\n",
       "                              LV6       LV7       LV8       LV9      LV10  \\\n",
       "100001_raw-Food_weight  -0.304911  1.823117 -0.716278 -1.769346 -0.043794   \n",
       "100002_raw-Energy        0.194047  1.353713  0.117286 -0.323516 -1.641116   \n",
       "100003_raw-Protein      -2.471878 -0.149640 -0.715178 -0.548948  1.210352   \n",
       "100004_raw-Fat          -0.236606 -0.600627  0.277239 -0.844748 -0.998437   \n",
       "100005_raw-Carbohydrate -0.852565 -0.003171  0.561912 -0.772413 -0.372739   \n",
       "\n",
       "                         ...     LV978     LV979     LV980     LV981  \\\n",
       "100001_raw-Food_weight   ...  0.399227  0.849885 -0.593292  0.636568   \n",
       "100002_raw-Energy        ... -0.038535 -1.139394 -0.951591  1.197872   \n",
       "100003_raw-Protein       ...  1.006094  0.595064  1.774559 -0.335165   \n",
       "100004_raw-Fat           ...  0.249993 -1.520660  0.037241  0.514992   \n",
       "100005_raw-Carbohydrate  ... -0.577730 -1.163380  0.000251 -0.345607   \n",
       "\n",
       "                            LV982     LV983     LV984     LV985     LV986  \\\n",
       "100001_raw-Food_weight   0.409726 -0.871713  1.638770  0.285165  0.585307   \n",
       "100002_raw-Energy        0.893819 -0.820655  0.928634 -0.716778 -0.085735   \n",
       "100003_raw-Protein       0.394177 -0.188345 -1.864716 -0.124875  1.253625   \n",
       "100004_raw-Fat           0.512538 -1.083619  0.310643 -1.719033 -0.970770   \n",
       "100005_raw-Carbohydrate -1.610004  0.194078  0.605594  1.182825 -1.567705   \n",
       "\n",
       "                            LV987  \n",
       "100001_raw-Food_weight   0.592347  \n",
       "100002_raw-Energy       -1.208965  \n",
       "100003_raw-Protein       0.804944  \n",
       "100004_raw-Fat          -2.628077  \n",
       "100005_raw-Carbohydrate -0.011902  \n",
       "\n",
       "[5 rows x 987 columns]"
      ]
     },
     "execution_count": 20,
     "metadata": {},
     "output_type": "execute_result"
    }
   ],
   "source": [
    "data.head()"
   ]
  },
  {
   "cell_type": "code",
   "execution_count": 21,
   "id": "8beca865",
   "metadata": {
    "execution": {
     "iopub.execute_input": "2022-11-26T04:38:13.235573Z",
     "iopub.status.busy": "2022-11-26T04:38:13.235100Z",
     "iopub.status.idle": "2022-11-26T04:38:13.261412Z",
     "shell.execute_reply": "2022-11-26T04:38:13.260893Z"
    },
    "papermill": {
     "duration": 0.03875,
     "end_time": "2022-11-26T04:38:13.262478",
     "exception": false,
     "start_time": "2022-11-26T04:38:13.223728",
     "status": "completed"
    },
    "tags": []
   },
   "outputs": [],
   "source": [
    "assert not data.isna().any().any()"
   ]
  },
  {
   "cell_type": "markdown",
   "id": "be43b722",
   "metadata": {
    "papermill": {
     "duration": 0.010699,
     "end_time": "2022-11-26T04:38:13.283757",
     "exception": false,
     "start_time": "2022-11-26T04:38:13.273058",
     "status": "completed"
    },
    "tags": []
   },
   "source": [
    "# Clustering"
   ]
  },
  {
   "cell_type": "markdown",
   "id": "7a99e047",
   "metadata": {
    "papermill": {
     "duration": 0.010372,
     "end_time": "2022-11-26T04:38:13.304744",
     "exception": false,
     "start_time": "2022-11-26T04:38:13.294372",
     "status": "completed"
    },
    "tags": []
   },
   "source": [
    "## Generate ensemble"
   ]
  },
  {
   "cell_type": "code",
   "execution_count": 22,
   "id": "1baf0a35",
   "metadata": {
    "execution": {
     "iopub.execute_input": "2022-11-26T04:38:13.326503Z",
     "iopub.status.busy": "2022-11-26T04:38:13.326250Z",
     "iopub.status.idle": "2022-11-26T04:38:13.350597Z",
     "shell.execute_reply": "2022-11-26T04:38:13.350132Z"
    },
    "papermill": {
     "duration": 0.036062,
     "end_time": "2022-11-26T04:38:13.351474",
     "exception": false,
     "start_time": "2022-11-26T04:38:13.315412",
     "status": "completed"
    },
    "tags": []
   },
   "outputs": [],
   "source": [
    "from sklearn.metrics import pairwise_distances\n",
    "from clustering.ensembles.utils import generate_ensemble"
   ]
  },
  {
   "cell_type": "code",
   "execution_count": 23,
   "id": "79c7fe87",
   "metadata": {
    "execution": {
     "iopub.execute_input": "2022-11-26T04:38:13.366482Z",
     "iopub.status.busy": "2022-11-26T04:38:13.366172Z",
     "iopub.status.idle": "2022-11-26T04:38:13.522254Z",
     "shell.execute_reply": "2022-11-26T04:38:13.521851Z"
    },
    "papermill": {
     "duration": 0.165368,
     "end_time": "2022-11-26T04:38:13.523893",
     "exception": false,
     "start_time": "2022-11-26T04:38:13.358525",
     "status": "completed"
    },
    "tags": []
   },
   "outputs": [],
   "source": [
    "data_dist = pairwise_distances(data, metric=CLUSTERING_OPTIONS[\"AFFINITY\"])"
   ]
  },
  {
   "cell_type": "code",
   "execution_count": 24,
   "id": "d2a6d0b8",
   "metadata": {
    "execution": {
     "iopub.execute_input": "2022-11-26T04:38:13.555002Z",
     "iopub.status.busy": "2022-11-26T04:38:13.554828Z",
     "iopub.status.idle": "2022-11-26T04:38:13.571460Z",
     "shell.execute_reply": "2022-11-26T04:38:13.571079Z"
    },
    "papermill": {
     "duration": 0.0342,
     "end_time": "2022-11-26T04:38:13.572675",
     "exception": false,
     "start_time": "2022-11-26T04:38:13.538475",
     "status": "completed"
    },
    "tags": []
   },
   "outputs": [
    {
     "data": {
      "text/plain": [
       "(3752, 3752)"
      ]
     },
     "execution_count": 24,
     "metadata": {},
     "output_type": "execute_result"
    }
   ],
   "source": [
    "data_dist.shape"
   ]
  },
  {
   "cell_type": "code",
   "execution_count": 25,
   "id": "c2008ceb",
   "metadata": {
    "execution": {
     "iopub.execute_input": "2022-11-26T04:38:13.600534Z",
     "iopub.status.busy": "2022-11-26T04:38:13.600229Z",
     "iopub.status.idle": "2022-11-26T04:38:14.031919Z",
     "shell.execute_reply": "2022-11-26T04:38:14.031484Z"
    },
    "papermill": {
     "duration": 0.446612,
     "end_time": "2022-11-26T04:38:14.033135",
     "exception": false,
     "start_time": "2022-11-26T04:38:13.586523",
     "status": "completed"
    },
    "tags": []
   },
   "outputs": [
    {
     "data": {
      "text/plain": [
       "count            14077504.0\n",
       "mean     44.282964827108536\n",
       "std      3.6081888872223002\n",
       "min                     0.0\n",
       "25%      43.065701593577415\n",
       "50%       43.99565511661875\n",
       "75%      44.953600800379995\n",
       "max       91.89243711532622\n",
       "dtype: object"
      ]
     },
     "execution_count": 25,
     "metadata": {},
     "output_type": "execute_result"
    }
   ],
   "source": [
    "pd.Series(data_dist.flatten()).describe().apply(str)"
   ]
  },
  {
   "cell_type": "code",
   "execution_count": 26,
   "id": "e2e59656",
   "metadata": {
    "execution": {
     "iopub.execute_input": "2022-11-26T04:38:14.061408Z",
     "iopub.status.busy": "2022-11-26T04:38:14.061309Z",
     "iopub.status.idle": "2022-11-26T04:54:58.188539Z",
     "shell.execute_reply": "2022-11-26T04:54:58.188178Z"
    },
    "papermill": {
     "duration": 1004.142605,
     "end_time": "2022-11-26T04:54:58.189872",
     "exception": false,
     "start_time": "2022-11-26T04:38:14.047267",
     "status": "completed"
    },
    "tags": []
   },
   "outputs": [
    {
     "name": "stderr",
     "output_type": "stream",
     "text": [
      "100%|██████████| 296/296 [16:44<00:00,  3.39s/it]\n"
     ]
    }
   ],
   "source": [
    "ensemble = generate_ensemble(\n",
    "    data_dist,\n",
    "    CLUSTERERS,\n",
    "    attributes=CLUSTERING_ATTRIBUTES_TO_SAVE,\n",
    "    affinity_matrix=data_dist,\n",
    ")"
   ]
  },
  {
   "cell_type": "code",
   "execution_count": 27,
   "id": "0c3cba03",
   "metadata": {
    "execution": {
     "iopub.execute_input": "2022-11-26T04:54:58.247183Z",
     "iopub.status.busy": "2022-11-26T04:54:58.247078Z",
     "iopub.status.idle": "2022-11-26T04:54:58.268159Z",
     "shell.execute_reply": "2022-11-26T04:54:58.267687Z"
    },
    "papermill": {
     "duration": 0.050498,
     "end_time": "2022-11-26T04:54:58.269461",
     "exception": false,
     "start_time": "2022-11-26T04:54:58.218963",
     "status": "completed"
    },
    "tags": []
   },
   "outputs": [
    {
     "data": {
      "text/plain": [
       "(296, 3)"
      ]
     },
     "execution_count": 27,
     "metadata": {},
     "output_type": "execute_result"
    }
   ],
   "source": [
    "# the number should be close to 295 (the number of partitions generated by k-means/spectral clustering)\n",
    "ensemble.shape"
   ]
  },
  {
   "cell_type": "code",
   "execution_count": 28,
   "id": "fb85ab52",
   "metadata": {
    "execution": {
     "iopub.execute_input": "2022-11-26T04:54:58.323792Z",
     "iopub.status.busy": "2022-11-26T04:54:58.323632Z",
     "iopub.status.idle": "2022-11-26T04:54:58.355019Z",
     "shell.execute_reply": "2022-11-26T04:54:58.354569Z"
    },
    "papermill": {
     "duration": 0.05795,
     "end_time": "2022-11-26T04:54:58.355844",
     "exception": false,
     "start_time": "2022-11-26T04:54:58.297894",
     "status": "completed"
    },
    "tags": []
   },
   "outputs": [
    {
     "data": {
      "text/html": [
       "<div>\n",
       "<style scoped>\n",
       "    .dataframe tbody tr th:only-of-type {\n",
       "        vertical-align: middle;\n",
       "    }\n",
       "\n",
       "    .dataframe tbody tr th {\n",
       "        vertical-align: top;\n",
       "    }\n",
       "\n",
       "    .dataframe thead th {\n",
       "        text-align: right;\n",
       "    }\n",
       "</style>\n",
       "<table border=\"1\" class=\"dataframe\">\n",
       "  <thead>\n",
       "    <tr style=\"text-align: right;\">\n",
       "      <th></th>\n",
       "      <th>clusterer_params</th>\n",
       "      <th>partition</th>\n",
       "      <th>n_clusters</th>\n",
       "    </tr>\n",
       "    <tr>\n",
       "      <th>clusterer_id</th>\n",
       "      <th></th>\n",
       "      <th></th>\n",
       "      <th></th>\n",
       "    </tr>\n",
       "  </thead>\n",
       "  <tbody>\n",
       "    <tr>\n",
       "      <th>AgglomerativeClustering #0</th>\n",
       "      <td>{'affinity': 'precomputed', 'compute_full_tree...</td>\n",
       "      <td>[0.0, 0.0, 0.0, 0.0, 0.0, 0.0, 0.0, 0.0, 0.0, ...</td>\n",
       "      <td>2</td>\n",
       "    </tr>\n",
       "    <tr>\n",
       "      <th>AgglomerativeClustering #1</th>\n",
       "      <td>{'affinity': 'precomputed', 'compute_full_tree...</td>\n",
       "      <td>[0.0, 0.0, 0.0, 0.0, 0.0, 0.0, 0.0, 0.0, 0.0, ...</td>\n",
       "      <td>2</td>\n",
       "    </tr>\n",
       "    <tr>\n",
       "      <th>AgglomerativeClustering #2</th>\n",
       "      <td>{'affinity': 'precomputed', 'compute_full_tree...</td>\n",
       "      <td>[0.0, 0.0, 0.0, 0.0, 0.0, 0.0, 0.0, 0.0, 0.0, ...</td>\n",
       "      <td>2</td>\n",
       "    </tr>\n",
       "    <tr>\n",
       "      <th>AgglomerativeClustering #3</th>\n",
       "      <td>{'affinity': 'euclidean', 'compute_full_tree':...</td>\n",
       "      <td>[0.0, 0.0, 0.0, 0.0, 0.0, 0.0, 0.0, 0.0, 0.0, ...</td>\n",
       "      <td>2</td>\n",
       "    </tr>\n",
       "    <tr>\n",
       "      <th>AgglomerativeClustering #4</th>\n",
       "      <td>{'affinity': 'precomputed', 'compute_full_tree...</td>\n",
       "      <td>[0.0, 0.0, 0.0, 0.0, 0.0, 0.0, 0.0, 0.0, 0.0, ...</td>\n",
       "      <td>3</td>\n",
       "    </tr>\n",
       "  </tbody>\n",
       "</table>\n",
       "</div>"
      ],
      "text/plain": [
       "                                                             clusterer_params  \\\n",
       "clusterer_id                                                                    \n",
       "AgglomerativeClustering #0  {'affinity': 'precomputed', 'compute_full_tree...   \n",
       "AgglomerativeClustering #1  {'affinity': 'precomputed', 'compute_full_tree...   \n",
       "AgglomerativeClustering #2  {'affinity': 'precomputed', 'compute_full_tree...   \n",
       "AgglomerativeClustering #3  {'affinity': 'euclidean', 'compute_full_tree':...   \n",
       "AgglomerativeClustering #4  {'affinity': 'precomputed', 'compute_full_tree...   \n",
       "\n",
       "                                                                    partition  \\\n",
       "clusterer_id                                                                    \n",
       "AgglomerativeClustering #0  [0.0, 0.0, 0.0, 0.0, 0.0, 0.0, 0.0, 0.0, 0.0, ...   \n",
       "AgglomerativeClustering #1  [0.0, 0.0, 0.0, 0.0, 0.0, 0.0, 0.0, 0.0, 0.0, ...   \n",
       "AgglomerativeClustering #2  [0.0, 0.0, 0.0, 0.0, 0.0, 0.0, 0.0, 0.0, 0.0, ...   \n",
       "AgglomerativeClustering #3  [0.0, 0.0, 0.0, 0.0, 0.0, 0.0, 0.0, 0.0, 0.0, ...   \n",
       "AgglomerativeClustering #4  [0.0, 0.0, 0.0, 0.0, 0.0, 0.0, 0.0, 0.0, 0.0, ...   \n",
       "\n",
       "                            n_clusters  \n",
       "clusterer_id                            \n",
       "AgglomerativeClustering #0           2  \n",
       "AgglomerativeClustering #1           2  \n",
       "AgglomerativeClustering #2           2  \n",
       "AgglomerativeClustering #3           2  \n",
       "AgglomerativeClustering #4           3  "
      ]
     },
     "execution_count": 28,
     "metadata": {},
     "output_type": "execute_result"
    }
   ],
   "source": [
    "ensemble.head()"
   ]
  },
  {
   "cell_type": "code",
   "execution_count": 29,
   "id": "3918f066",
   "metadata": {
    "execution": {
     "iopub.execute_input": "2022-11-26T04:54:58.386215Z",
     "iopub.status.busy": "2022-11-26T04:54:58.385969Z",
     "iopub.status.idle": "2022-11-26T04:54:58.408081Z",
     "shell.execute_reply": "2022-11-26T04:54:58.407640Z"
    },
    "papermill": {
     "duration": 0.038191,
     "end_time": "2022-11-26T04:54:58.408899",
     "exception": false,
     "start_time": "2022-11-26T04:54:58.370708",
     "status": "completed"
    },
    "tags": []
   },
   "outputs": [
    {
     "data": {
      "text/plain": [
       "75    4\n",
       "20    4\n",
       "22    4\n",
       "23    4\n",
       "24    4\n",
       "Name: n_clusters, dtype: int64"
      ]
     },
     "execution_count": 29,
     "metadata": {},
     "output_type": "execute_result"
    }
   ],
   "source": [
    "ensemble[\"n_clusters\"].value_counts().head()"
   ]
  },
  {
   "cell_type": "code",
   "execution_count": 30,
   "id": "10139d3e",
   "metadata": {
    "execution": {
     "iopub.execute_input": "2022-11-26T04:54:58.439537Z",
     "iopub.status.busy": "2022-11-26T04:54:58.439283Z",
     "iopub.status.idle": "2022-11-26T04:54:58.462547Z",
     "shell.execute_reply": "2022-11-26T04:54:58.462108Z"
    },
    "papermill": {
     "duration": 0.039463,
     "end_time": "2022-11-26T04:54:58.463373",
     "exception": false,
     "start_time": "2022-11-26T04:54:58.423910",
     "status": "completed"
    },
    "tags": []
   },
   "outputs": [
    {
     "data": {
      "text/plain": [
       "count    296.000000\n",
       "mean      38.500000\n",
       "std       21.396182\n",
       "min        2.000000\n",
       "25%       20.000000\n",
       "50%       38.500000\n",
       "75%       57.000000\n",
       "max       75.000000\n",
       "Name: n_clusters, dtype: float64"
      ]
     },
     "metadata": {},
     "output_type": "display_data"
    }
   ],
   "source": [
    "ensemble_stats = ensemble[\"n_clusters\"].describe()\n",
    "display(ensemble_stats)"
   ]
  },
  {
   "cell_type": "markdown",
   "id": "f0e0e4ff",
   "metadata": {
    "papermill": {
     "duration": 0.014804,
     "end_time": "2022-11-26T04:54:58.492963",
     "exception": false,
     "start_time": "2022-11-26T04:54:58.478159",
     "status": "completed"
    },
    "tags": []
   },
   "source": [
    "## Testing"
   ]
  },
  {
   "cell_type": "code",
   "execution_count": 31,
   "id": "761ee0a2",
   "metadata": {
    "execution": {
     "iopub.execute_input": "2022-11-26T04:54:58.523684Z",
     "iopub.status.busy": "2022-11-26T04:54:58.523428Z",
     "iopub.status.idle": "2022-11-26T04:54:58.543442Z",
     "shell.execute_reply": "2022-11-26T04:54:58.543007Z"
    },
    "papermill": {
     "duration": 0.036363,
     "end_time": "2022-11-26T04:54:58.544346",
     "exception": false,
     "start_time": "2022-11-26T04:54:58.507983",
     "status": "completed"
    },
    "tags": []
   },
   "outputs": [],
   "source": [
    "assert ensemble_stats[\"min\"] > 1"
   ]
  },
  {
   "cell_type": "code",
   "execution_count": 32,
   "id": "f66f0512",
   "metadata": {
    "execution": {
     "iopub.execute_input": "2022-11-26T04:54:58.575202Z",
     "iopub.status.busy": "2022-11-26T04:54:58.574955Z",
     "iopub.status.idle": "2022-11-26T04:54:58.594838Z",
     "shell.execute_reply": "2022-11-26T04:54:58.594392Z"
    },
    "papermill": {
     "duration": 0.036381,
     "end_time": "2022-11-26T04:54:58.595777",
     "exception": false,
     "start_time": "2022-11-26T04:54:58.559396",
     "status": "completed"
    },
    "tags": []
   },
   "outputs": [],
   "source": [
    "assert not ensemble[\"n_clusters\"].isna().any()"
   ]
  },
  {
   "cell_type": "code",
   "execution_count": 33,
   "id": "bbe90764",
   "metadata": {
    "execution": {
     "iopub.execute_input": "2022-11-26T04:54:58.626585Z",
     "iopub.status.busy": "2022-11-26T04:54:58.626325Z",
     "iopub.status.idle": "2022-11-26T04:54:58.645760Z",
     "shell.execute_reply": "2022-11-26T04:54:58.645322Z"
    },
    "papermill": {
     "duration": 0.035856,
     "end_time": "2022-11-26T04:54:58.646593",
     "exception": false,
     "start_time": "2022-11-26T04:54:58.610737",
     "status": "completed"
    },
    "tags": []
   },
   "outputs": [],
   "source": [
    "assert ensemble.shape[0] == len(CLUSTERERS)"
   ]
  },
  {
   "cell_type": "code",
   "execution_count": 34,
   "id": "8d8de903",
   "metadata": {
    "execution": {
     "iopub.execute_input": "2022-11-26T04:54:58.677291Z",
     "iopub.status.busy": "2022-11-26T04:54:58.677036Z",
     "iopub.status.idle": "2022-11-26T04:54:58.721621Z",
     "shell.execute_reply": "2022-11-26T04:54:58.721164Z"
    },
    "papermill": {
     "duration": 0.060791,
     "end_time": "2022-11-26T04:54:58.722446",
     "exception": false,
     "start_time": "2022-11-26T04:54:58.661655",
     "status": "completed"
    },
    "tags": []
   },
   "outputs": [],
   "source": [
    "# all partitions have the right size\n",
    "assert np.all(\n",
    "    [part[\"partition\"].shape[0] == data.shape[0] for idx, part in ensemble.iterrows()]\n",
    ")"
   ]
  },
  {
   "cell_type": "code",
   "execution_count": 35,
   "id": "cb4156be",
   "metadata": {
    "execution": {
     "iopub.execute_input": "2022-11-26T04:54:58.753419Z",
     "iopub.status.busy": "2022-11-26T04:54:58.753164Z",
     "iopub.status.idle": "2022-11-26T04:54:58.801150Z",
     "shell.execute_reply": "2022-11-26T04:54:58.800664Z"
    },
    "papermill": {
     "duration": 0.06443,
     "end_time": "2022-11-26T04:54:58.802055",
     "exception": false,
     "start_time": "2022-11-26T04:54:58.737625",
     "status": "completed"
    },
    "tags": []
   },
   "outputs": [],
   "source": [
    "# no partition has negative clusters (noisy points)\n",
    "assert not np.any([(part[\"partition\"] < 0).any() for idx, part in ensemble.iterrows()])"
   ]
  },
  {
   "cell_type": "markdown",
   "id": "328d1bce-1a66-45c7-96ce-43378be06284",
   "metadata": {
    "papermill": {
     "duration": 0.014743,
     "end_time": "2022-11-26T04:54:58.831990",
     "exception": false,
     "start_time": "2022-11-26T04:54:58.817247",
     "status": "completed"
    },
    "tags": []
   },
   "source": [
    "## Add clustering quality measures"
   ]
  },
  {
   "cell_type": "code",
   "execution_count": 36,
   "id": "159e339e-14e3-4bb9-8ab4-f71e166678eb",
   "metadata": {
    "execution": {
     "iopub.execute_input": "2022-11-26T04:54:58.862709Z",
     "iopub.status.busy": "2022-11-26T04:54:58.862450Z",
     "iopub.status.idle": "2022-11-26T04:54:58.883108Z",
     "shell.execute_reply": "2022-11-26T04:54:58.882649Z"
    },
    "papermill": {
     "duration": 0.037069,
     "end_time": "2022-11-26T04:54:58.884047",
     "exception": false,
     "start_time": "2022-11-26T04:54:58.846978",
     "status": "completed"
    },
    "tags": []
   },
   "outputs": [],
   "source": [
    "from sklearn.metrics import calinski_harabasz_score"
   ]
  },
  {
   "cell_type": "code",
   "execution_count": 37,
   "id": "f9e9a3f0-751a-498c-ae20-65cac607d783",
   "metadata": {
    "execution": {
     "iopub.execute_input": "2022-11-26T04:54:58.914684Z",
     "iopub.status.busy": "2022-11-26T04:54:58.914469Z",
     "iopub.status.idle": "2022-11-26T04:55:04.417089Z",
     "shell.execute_reply": "2022-11-26T04:55:04.416697Z"
    },
    "papermill": {
     "duration": 5.519766,
     "end_time": "2022-11-26T04:55:04.418671",
     "exception": false,
     "start_time": "2022-11-26T04:54:58.898905",
     "status": "completed"
    },
    "tags": []
   },
   "outputs": [],
   "source": [
    "ensemble = ensemble.assign(\n",
    "    ch_score=ensemble[\"partition\"].apply(lambda x: calinski_harabasz_score(data, x))\n",
    ")"
   ]
  },
  {
   "cell_type": "code",
   "execution_count": 38,
   "id": "21539397-cc67-45e0-b8ed-ca5810bde593",
   "metadata": {
    "execution": {
     "iopub.execute_input": "2022-11-26T04:55:04.480294Z",
     "iopub.status.busy": "2022-11-26T04:55:04.480197Z",
     "iopub.status.idle": "2022-11-26T04:55:04.500286Z",
     "shell.execute_reply": "2022-11-26T04:55:04.499827Z"
    },
    "papermill": {
     "duration": 0.051925,
     "end_time": "2022-11-26T04:55:04.501611",
     "exception": false,
     "start_time": "2022-11-26T04:55:04.449686",
     "status": "completed"
    },
    "tags": []
   },
   "outputs": [
    {
     "data": {
      "text/plain": [
       "(296, 4)"
      ]
     },
     "execution_count": 38,
     "metadata": {},
     "output_type": "execute_result"
    }
   ],
   "source": [
    "ensemble.shape"
   ]
  },
  {
   "cell_type": "code",
   "execution_count": 39,
   "id": "555a166b-1aec-4c86-8769-d37cd7386706",
   "metadata": {
    "execution": {
     "iopub.execute_input": "2022-11-26T04:55:04.556827Z",
     "iopub.status.busy": "2022-11-26T04:55:04.556564Z",
     "iopub.status.idle": "2022-11-26T04:55:04.589287Z",
     "shell.execute_reply": "2022-11-26T04:55:04.588839Z"
    },
    "papermill": {
     "duration": 0.059031,
     "end_time": "2022-11-26T04:55:04.590150",
     "exception": false,
     "start_time": "2022-11-26T04:55:04.531119",
     "status": "completed"
    },
    "tags": []
   },
   "outputs": [
    {
     "data": {
      "text/html": [
       "<div>\n",
       "<style scoped>\n",
       "    .dataframe tbody tr th:only-of-type {\n",
       "        vertical-align: middle;\n",
       "    }\n",
       "\n",
       "    .dataframe tbody tr th {\n",
       "        vertical-align: top;\n",
       "    }\n",
       "\n",
       "    .dataframe thead th {\n",
       "        text-align: right;\n",
       "    }\n",
       "</style>\n",
       "<table border=\"1\" class=\"dataframe\">\n",
       "  <thead>\n",
       "    <tr style=\"text-align: right;\">\n",
       "      <th></th>\n",
       "      <th>clusterer_params</th>\n",
       "      <th>partition</th>\n",
       "      <th>n_clusters</th>\n",
       "      <th>ch_score</th>\n",
       "    </tr>\n",
       "    <tr>\n",
       "      <th>clusterer_id</th>\n",
       "      <th></th>\n",
       "      <th></th>\n",
       "      <th></th>\n",
       "      <th></th>\n",
       "    </tr>\n",
       "  </thead>\n",
       "  <tbody>\n",
       "    <tr>\n",
       "      <th>AgglomerativeClustering #0</th>\n",
       "      <td>{'affinity': 'precomputed', 'compute_full_tree...</td>\n",
       "      <td>[0.0, 0.0, 0.0, 0.0, 0.0, 0.0, 0.0, 0.0, 0.0, ...</td>\n",
       "      <td>2</td>\n",
       "      <td>4.526108</td>\n",
       "    </tr>\n",
       "    <tr>\n",
       "      <th>AgglomerativeClustering #1</th>\n",
       "      <td>{'affinity': 'precomputed', 'compute_full_tree...</td>\n",
       "      <td>[0.0, 0.0, 0.0, 0.0, 0.0, 0.0, 0.0, 0.0, 0.0, ...</td>\n",
       "      <td>2</td>\n",
       "      <td>4.526108</td>\n",
       "    </tr>\n",
       "    <tr>\n",
       "      <th>AgglomerativeClustering #2</th>\n",
       "      <td>{'affinity': 'precomputed', 'compute_full_tree...</td>\n",
       "      <td>[0.0, 0.0, 0.0, 0.0, 0.0, 0.0, 0.0, 0.0, 0.0, ...</td>\n",
       "      <td>2</td>\n",
       "      <td>4.526108</td>\n",
       "    </tr>\n",
       "    <tr>\n",
       "      <th>AgglomerativeClustering #3</th>\n",
       "      <td>{'affinity': 'euclidean', 'compute_full_tree':...</td>\n",
       "      <td>[0.0, 0.0, 0.0, 0.0, 0.0, 0.0, 0.0, 0.0, 0.0, ...</td>\n",
       "      <td>2</td>\n",
       "      <td>1.903606</td>\n",
       "    </tr>\n",
       "    <tr>\n",
       "      <th>AgglomerativeClustering #4</th>\n",
       "      <td>{'affinity': 'precomputed', 'compute_full_tree...</td>\n",
       "      <td>[0.0, 0.0, 0.0, 0.0, 0.0, 0.0, 0.0, 0.0, 0.0, ...</td>\n",
       "      <td>3</td>\n",
       "      <td>4.385023</td>\n",
       "    </tr>\n",
       "  </tbody>\n",
       "</table>\n",
       "</div>"
      ],
      "text/plain": [
       "                                                             clusterer_params  \\\n",
       "clusterer_id                                                                    \n",
       "AgglomerativeClustering #0  {'affinity': 'precomputed', 'compute_full_tree...   \n",
       "AgglomerativeClustering #1  {'affinity': 'precomputed', 'compute_full_tree...   \n",
       "AgglomerativeClustering #2  {'affinity': 'precomputed', 'compute_full_tree...   \n",
       "AgglomerativeClustering #3  {'affinity': 'euclidean', 'compute_full_tree':...   \n",
       "AgglomerativeClustering #4  {'affinity': 'precomputed', 'compute_full_tree...   \n",
       "\n",
       "                                                                    partition  \\\n",
       "clusterer_id                                                                    \n",
       "AgglomerativeClustering #0  [0.0, 0.0, 0.0, 0.0, 0.0, 0.0, 0.0, 0.0, 0.0, ...   \n",
       "AgglomerativeClustering #1  [0.0, 0.0, 0.0, 0.0, 0.0, 0.0, 0.0, 0.0, 0.0, ...   \n",
       "AgglomerativeClustering #2  [0.0, 0.0, 0.0, 0.0, 0.0, 0.0, 0.0, 0.0, 0.0, ...   \n",
       "AgglomerativeClustering #3  [0.0, 0.0, 0.0, 0.0, 0.0, 0.0, 0.0, 0.0, 0.0, ...   \n",
       "AgglomerativeClustering #4  [0.0, 0.0, 0.0, 0.0, 0.0, 0.0, 0.0, 0.0, 0.0, ...   \n",
       "\n",
       "                            n_clusters  ch_score  \n",
       "clusterer_id                                      \n",
       "AgglomerativeClustering #0           2  4.526108  \n",
       "AgglomerativeClustering #1           2  4.526108  \n",
       "AgglomerativeClustering #2           2  4.526108  \n",
       "AgglomerativeClustering #3           2  1.903606  \n",
       "AgglomerativeClustering #4           3  4.385023  "
      ]
     },
     "execution_count": 39,
     "metadata": {},
     "output_type": "execute_result"
    }
   ],
   "source": [
    "ensemble.head()"
   ]
  },
  {
   "cell_type": "markdown",
   "id": "d1571fcd",
   "metadata": {
    "papermill": {
     "duration": 0.014974,
     "end_time": "2022-11-26T04:55:04.621104",
     "exception": false,
     "start_time": "2022-11-26T04:55:04.606130",
     "status": "completed"
    },
    "tags": []
   },
   "source": [
    "## Save"
   ]
  },
  {
   "cell_type": "code",
   "execution_count": 40,
   "id": "1eac08b4",
   "metadata": {
    "execution": {
     "iopub.execute_input": "2022-11-26T04:55:04.652330Z",
     "iopub.status.busy": "2022-11-26T04:55:04.652061Z",
     "iopub.status.idle": "2022-11-26T04:55:04.674806Z",
     "shell.execute_reply": "2022-11-26T04:55:04.674373Z"
    },
    "papermill": {
     "duration": 0.039402,
     "end_time": "2022-11-26T04:55:04.675658",
     "exception": false,
     "start_time": "2022-11-26T04:55:04.636256",
     "status": "completed"
    },
    "tags": []
   },
   "outputs": [
    {
     "data": {
      "text/plain": [
       "PosixPath('/opt/data/results/clustering/null_sims/shuffle_lvs/runs/z_score_std-projection-smultixcan-efo_partial-mashr-zscores/AgglomerativeClustering-AFFINITY_euclidean-K_MAX_75-K_MIN_2.pkl')"
      ]
     },
     "metadata": {},
     "output_type": "display_data"
    }
   ],
   "source": [
    "output_filename = Path(\n",
    "    RESULTS_DIR,\n",
    "    generate_result_set_name(\n",
    "        {k: v for k, v in CLUSTERING_OPTIONS.items() if k != \"LINKAGE\"},\n",
    "        prefix=f\"{clustering_method_name}-\",\n",
    "        suffix=\".pkl\",\n",
    "    ),\n",
    ").resolve()\n",
    "display(output_filename)"
   ]
  },
  {
   "cell_type": "code",
   "execution_count": 41,
   "id": "f5e2c9ac",
   "metadata": {
    "execution": {
     "iopub.execute_input": "2022-11-26T04:55:04.707361Z",
     "iopub.status.busy": "2022-11-26T04:55:04.707106Z",
     "iopub.status.idle": "2022-11-26T04:55:04.740623Z",
     "shell.execute_reply": "2022-11-26T04:55:04.740110Z"
    },
    "papermill": {
     "duration": 0.050308,
     "end_time": "2022-11-26T04:55:04.741707",
     "exception": false,
     "start_time": "2022-11-26T04:55:04.691399",
     "status": "completed"
    },
    "tags": []
   },
   "outputs": [],
   "source": [
    "ensemble.to_pickle(output_filename)"
   ]
  },
  {
   "cell_type": "markdown",
   "id": "89f0c69b-2db4-487c-9966-6448c13c097e",
   "metadata": {
    "papermill": {
     "duration": 0.015108,
     "end_time": "2022-11-26T04:55:04.772527",
     "exception": false,
     "start_time": "2022-11-26T04:55:04.757419",
     "status": "completed"
    },
    "tags": []
   },
   "source": [
    "# Cluster quality"
   ]
  },
  {
   "cell_type": "code",
   "execution_count": 42,
   "id": "8441d1a4-f48a-4cf3-9b12-8adf1989c959",
   "metadata": {
    "execution": {
     "iopub.execute_input": "2022-11-26T04:55:04.803839Z",
     "iopub.status.busy": "2022-11-26T04:55:04.803576Z",
     "iopub.status.idle": "2022-11-26T04:55:04.832932Z",
     "shell.execute_reply": "2022-11-26T04:55:04.832492Z"
    },
    "papermill": {
     "duration": 0.046178,
     "end_time": "2022-11-26T04:55:04.833799",
     "exception": false,
     "start_time": "2022-11-26T04:55:04.787621",
     "status": "completed"
    },
    "tags": []
   },
   "outputs": [
    {
     "data": {
      "text/html": [
       "<div>\n",
       "<style scoped>\n",
       "    .dataframe tbody tr th:only-of-type {\n",
       "        vertical-align: middle;\n",
       "    }\n",
       "\n",
       "    .dataframe tbody tr th {\n",
       "        vertical-align: top;\n",
       "    }\n",
       "\n",
       "    .dataframe thead th {\n",
       "        text-align: right;\n",
       "    }\n",
       "</style>\n",
       "<table border=\"1\" class=\"dataframe\">\n",
       "  <thead>\n",
       "    <tr style=\"text-align: right;\">\n",
       "      <th></th>\n",
       "      <th>ch_score</th>\n",
       "    </tr>\n",
       "    <tr>\n",
       "      <th>n_clusters</th>\n",
       "      <th></th>\n",
       "    </tr>\n",
       "  </thead>\n",
       "  <tbody>\n",
       "    <tr>\n",
       "      <th>2</th>\n",
       "      <td>3.870482</td>\n",
       "    </tr>\n",
       "    <tr>\n",
       "      <th>3</th>\n",
       "      <td>3.601644</td>\n",
       "    </tr>\n",
       "    <tr>\n",
       "      <th>4</th>\n",
       "      <td>3.588018</td>\n",
       "    </tr>\n",
       "    <tr>\n",
       "      <th>5</th>\n",
       "      <td>3.499925</td>\n",
       "    </tr>\n",
       "    <tr>\n",
       "      <th>6</th>\n",
       "      <td>3.377480</td>\n",
       "    </tr>\n",
       "    <tr>\n",
       "      <th>7</th>\n",
       "      <td>3.390275</td>\n",
       "    </tr>\n",
       "    <tr>\n",
       "      <th>8</th>\n",
       "      <td>3.274477</td>\n",
       "    </tr>\n",
       "    <tr>\n",
       "      <th>9</th>\n",
       "      <td>3.193639</td>\n",
       "    </tr>\n",
       "    <tr>\n",
       "      <th>10</th>\n",
       "      <td>3.149039</td>\n",
       "    </tr>\n",
       "    <tr>\n",
       "      <th>11</th>\n",
       "      <td>3.089926</td>\n",
       "    </tr>\n",
       "    <tr>\n",
       "      <th>12</th>\n",
       "      <td>3.031795</td>\n",
       "    </tr>\n",
       "    <tr>\n",
       "      <th>13</th>\n",
       "      <td>2.967450</td>\n",
       "    </tr>\n",
       "    <tr>\n",
       "      <th>14</th>\n",
       "      <td>2.934922</td>\n",
       "    </tr>\n",
       "    <tr>\n",
       "      <th>15</th>\n",
       "      <td>2.928891</td>\n",
       "    </tr>\n",
       "    <tr>\n",
       "      <th>16</th>\n",
       "      <td>2.945639</td>\n",
       "    </tr>\n",
       "    <tr>\n",
       "      <th>17</th>\n",
       "      <td>2.904408</td>\n",
       "    </tr>\n",
       "    <tr>\n",
       "      <th>18</th>\n",
       "      <td>2.875051</td>\n",
       "    </tr>\n",
       "    <tr>\n",
       "      <th>19</th>\n",
       "      <td>2.847967</td>\n",
       "    </tr>\n",
       "    <tr>\n",
       "      <th>20</th>\n",
       "      <td>2.826070</td>\n",
       "    </tr>\n",
       "    <tr>\n",
       "      <th>21</th>\n",
       "      <td>2.798836</td>\n",
       "    </tr>\n",
       "    <tr>\n",
       "      <th>22</th>\n",
       "      <td>2.776227</td>\n",
       "    </tr>\n",
       "    <tr>\n",
       "      <th>23</th>\n",
       "      <td>2.747137</td>\n",
       "    </tr>\n",
       "    <tr>\n",
       "      <th>24</th>\n",
       "      <td>2.721644</td>\n",
       "    </tr>\n",
       "    <tr>\n",
       "      <th>25</th>\n",
       "      <td>2.714270</td>\n",
       "    </tr>\n",
       "    <tr>\n",
       "      <th>26</th>\n",
       "      <td>2.700370</td>\n",
       "    </tr>\n",
       "    <tr>\n",
       "      <th>27</th>\n",
       "      <td>2.679104</td>\n",
       "    </tr>\n",
       "    <tr>\n",
       "      <th>28</th>\n",
       "      <td>2.651755</td>\n",
       "    </tr>\n",
       "    <tr>\n",
       "      <th>29</th>\n",
       "      <td>2.624474</td>\n",
       "    </tr>\n",
       "    <tr>\n",
       "      <th>30</th>\n",
       "      <td>2.623979</td>\n",
       "    </tr>\n",
       "    <tr>\n",
       "      <th>31</th>\n",
       "      <td>2.621230</td>\n",
       "    </tr>\n",
       "    <tr>\n",
       "      <th>32</th>\n",
       "      <td>2.602546</td>\n",
       "    </tr>\n",
       "    <tr>\n",
       "      <th>33</th>\n",
       "      <td>2.583835</td>\n",
       "    </tr>\n",
       "    <tr>\n",
       "      <th>34</th>\n",
       "      <td>2.560135</td>\n",
       "    </tr>\n",
       "    <tr>\n",
       "      <th>35</th>\n",
       "      <td>2.566687</td>\n",
       "    </tr>\n",
       "    <tr>\n",
       "      <th>36</th>\n",
       "      <td>2.549553</td>\n",
       "    </tr>\n",
       "    <tr>\n",
       "      <th>37</th>\n",
       "      <td>2.537891</td>\n",
       "    </tr>\n",
       "    <tr>\n",
       "      <th>38</th>\n",
       "      <td>2.520505</td>\n",
       "    </tr>\n",
       "    <tr>\n",
       "      <th>39</th>\n",
       "      <td>2.514660</td>\n",
       "    </tr>\n",
       "    <tr>\n",
       "      <th>40</th>\n",
       "      <td>2.500637</td>\n",
       "    </tr>\n",
       "    <tr>\n",
       "      <th>41</th>\n",
       "      <td>2.491920</td>\n",
       "    </tr>\n",
       "    <tr>\n",
       "      <th>42</th>\n",
       "      <td>2.479969</td>\n",
       "    </tr>\n",
       "    <tr>\n",
       "      <th>43</th>\n",
       "      <td>2.461875</td>\n",
       "    </tr>\n",
       "    <tr>\n",
       "      <th>44</th>\n",
       "      <td>2.449307</td>\n",
       "    </tr>\n",
       "    <tr>\n",
       "      <th>45</th>\n",
       "      <td>2.437757</td>\n",
       "    </tr>\n",
       "    <tr>\n",
       "      <th>46</th>\n",
       "      <td>2.437987</td>\n",
       "    </tr>\n",
       "    <tr>\n",
       "      <th>47</th>\n",
       "      <td>2.434574</td>\n",
       "    </tr>\n",
       "    <tr>\n",
       "      <th>48</th>\n",
       "      <td>2.423556</td>\n",
       "    </tr>\n",
       "    <tr>\n",
       "      <th>49</th>\n",
       "      <td>2.421173</td>\n",
       "    </tr>\n",
       "    <tr>\n",
       "      <th>50</th>\n",
       "      <td>2.423227</td>\n",
       "    </tr>\n",
       "    <tr>\n",
       "      <th>51</th>\n",
       "      <td>2.412962</td>\n",
       "    </tr>\n",
       "    <tr>\n",
       "      <th>52</th>\n",
       "      <td>2.406960</td>\n",
       "    </tr>\n",
       "    <tr>\n",
       "      <th>53</th>\n",
       "      <td>2.396010</td>\n",
       "    </tr>\n",
       "    <tr>\n",
       "      <th>54</th>\n",
       "      <td>2.390327</td>\n",
       "    </tr>\n",
       "    <tr>\n",
       "      <th>55</th>\n",
       "      <td>2.378167</td>\n",
       "    </tr>\n",
       "    <tr>\n",
       "      <th>56</th>\n",
       "      <td>2.376386</td>\n",
       "    </tr>\n",
       "    <tr>\n",
       "      <th>57</th>\n",
       "      <td>2.367160</td>\n",
       "    </tr>\n",
       "    <tr>\n",
       "      <th>58</th>\n",
       "      <td>2.362626</td>\n",
       "    </tr>\n",
       "    <tr>\n",
       "      <th>59</th>\n",
       "      <td>2.352856</td>\n",
       "    </tr>\n",
       "    <tr>\n",
       "      <th>60</th>\n",
       "      <td>2.345641</td>\n",
       "    </tr>\n",
       "    <tr>\n",
       "      <th>61</th>\n",
       "      <td>2.343912</td>\n",
       "    </tr>\n",
       "    <tr>\n",
       "      <th>62</th>\n",
       "      <td>2.335160</td>\n",
       "    </tr>\n",
       "    <tr>\n",
       "      <th>63</th>\n",
       "      <td>2.332453</td>\n",
       "    </tr>\n",
       "    <tr>\n",
       "      <th>64</th>\n",
       "      <td>2.330494</td>\n",
       "    </tr>\n",
       "    <tr>\n",
       "      <th>65</th>\n",
       "      <td>2.328457</td>\n",
       "    </tr>\n",
       "    <tr>\n",
       "      <th>66</th>\n",
       "      <td>2.322027</td>\n",
       "    </tr>\n",
       "    <tr>\n",
       "      <th>67</th>\n",
       "      <td>2.319534</td>\n",
       "    </tr>\n",
       "    <tr>\n",
       "      <th>68</th>\n",
       "      <td>2.316525</td>\n",
       "    </tr>\n",
       "    <tr>\n",
       "      <th>69</th>\n",
       "      <td>2.305949</td>\n",
       "    </tr>\n",
       "    <tr>\n",
       "      <th>70</th>\n",
       "      <td>2.302729</td>\n",
       "    </tr>\n",
       "    <tr>\n",
       "      <th>71</th>\n",
       "      <td>2.299541</td>\n",
       "    </tr>\n",
       "    <tr>\n",
       "      <th>72</th>\n",
       "      <td>2.295825</td>\n",
       "    </tr>\n",
       "    <tr>\n",
       "      <th>73</th>\n",
       "      <td>2.291959</td>\n",
       "    </tr>\n",
       "    <tr>\n",
       "      <th>74</th>\n",
       "      <td>2.287387</td>\n",
       "    </tr>\n",
       "    <tr>\n",
       "      <th>75</th>\n",
       "      <td>2.282583</td>\n",
       "    </tr>\n",
       "  </tbody>\n",
       "</table>\n",
       "</div>"
      ],
      "text/plain": [
       "            ch_score\n",
       "n_clusters          \n",
       "2           3.870482\n",
       "3           3.601644\n",
       "4           3.588018\n",
       "5           3.499925\n",
       "6           3.377480\n",
       "7           3.390275\n",
       "8           3.274477\n",
       "9           3.193639\n",
       "10          3.149039\n",
       "11          3.089926\n",
       "12          3.031795\n",
       "13          2.967450\n",
       "14          2.934922\n",
       "15          2.928891\n",
       "16          2.945639\n",
       "17          2.904408\n",
       "18          2.875051\n",
       "19          2.847967\n",
       "20          2.826070\n",
       "21          2.798836\n",
       "22          2.776227\n",
       "23          2.747137\n",
       "24          2.721644\n",
       "25          2.714270\n",
       "26          2.700370\n",
       "27          2.679104\n",
       "28          2.651755\n",
       "29          2.624474\n",
       "30          2.623979\n",
       "31          2.621230\n",
       "32          2.602546\n",
       "33          2.583835\n",
       "34          2.560135\n",
       "35          2.566687\n",
       "36          2.549553\n",
       "37          2.537891\n",
       "38          2.520505\n",
       "39          2.514660\n",
       "40          2.500637\n",
       "41          2.491920\n",
       "42          2.479969\n",
       "43          2.461875\n",
       "44          2.449307\n",
       "45          2.437757\n",
       "46          2.437987\n",
       "47          2.434574\n",
       "48          2.423556\n",
       "49          2.421173\n",
       "50          2.423227\n",
       "51          2.412962\n",
       "52          2.406960\n",
       "53          2.396010\n",
       "54          2.390327\n",
       "55          2.378167\n",
       "56          2.376386\n",
       "57          2.367160\n",
       "58          2.362626\n",
       "59          2.352856\n",
       "60          2.345641\n",
       "61          2.343912\n",
       "62          2.335160\n",
       "63          2.332453\n",
       "64          2.330494\n",
       "65          2.328457\n",
       "66          2.322027\n",
       "67          2.319534\n",
       "68          2.316525\n",
       "69          2.305949\n",
       "70          2.302729\n",
       "71          2.299541\n",
       "72          2.295825\n",
       "73          2.291959\n",
       "74          2.287387\n",
       "75          2.282583"
      ]
     },
     "metadata": {},
     "output_type": "display_data"
    }
   ],
   "source": [
    "with pd.option_context(\"display.max_rows\", None, \"display.max_columns\", None):\n",
    "    _df = ensemble.groupby([\"n_clusters\"]).mean()\n",
    "    display(_df)"
   ]
  },
  {
   "cell_type": "code",
   "execution_count": 43,
   "id": "e500c731-76e0-4474-b265-7a688b47d23e",
   "metadata": {
    "execution": {
     "iopub.execute_input": "2022-11-26T04:55:04.866100Z",
     "iopub.status.busy": "2022-11-26T04:55:04.865838Z",
     "iopub.status.idle": "2022-11-26T04:55:07.365903Z",
     "shell.execute_reply": "2022-11-26T04:55:07.365532Z"
    },
    "papermill": {
     "duration": 2.517856,
     "end_time": "2022-11-26T04:55:07.367695",
     "exception": false,
     "start_time": "2022-11-26T04:55:04.849839",
     "status": "completed"
    },
    "tags": []
   },
   "outputs": [
    {
     "data": {
      "image/png": "[encoded data removed]",
      "text/plain": [
       "<Figure size 1008x432 with 1 Axes>"
      ]
     },
     "metadata": {},
     "output_type": "display_data"
    }
   ],
   "source": [
    "with sns.plotting_context(\"talk\", font_scale=0.75), sns.axes_style(\n",
    "    \"whitegrid\", {\"grid.linestyle\": \"--\"}\n",
    "):\n",
    "    fig = plt.figure(figsize=(14, 6))\n",
    "    ax = sns.pointplot(data=ensemble, x=\"n_clusters\", y=\"ch_score\")\n",
    "    ax.set_ylabel(\"Calinski-Harabasz index\")\n",
    "    ax.set_xlabel(\"Number of clusters ($k$)\")\n",
    "    ax.set_xticklabels(ax.get_xticklabels(), rotation=45)\n",
    "    plt.grid(True)\n",
    "    plt.tight_layout()"
   ]
  },
  {
   "cell_type": "markdown",
   "id": "07d30580-9ff5-4276-a0a6-edd157f18ce5",
   "metadata": {
    "papermill": {
     "duration": 0.032556,
     "end_time": "2022-11-26T04:55:07.433848",
     "exception": false,
     "start_time": "2022-11-26T04:55:07.401292",
     "status": "completed"
    },
    "tags": []
   },
   "source": [
    "# Stability"
   ]
  },
  {
   "cell_type": "markdown",
   "id": "ec541c9a-d0f6-492b-a217-0c9e720cd700",
   "metadata": {
    "papermill": {
     "duration": 0.016164,
     "end_time": "2022-11-26T04:55:07.491243",
     "exception": false,
     "start_time": "2022-11-26T04:55:07.475079",
     "status": "completed"
    },
    "tags": []
   },
   "source": [
    "## Group ensemble by n_clusters"
   ]
  },
  {
   "cell_type": "code",
   "execution_count": 44,
   "id": "be312999-42d5-458e-9ac8-4db0be07f260",
   "metadata": {
    "execution": {
     "iopub.execute_input": "2022-11-26T04:55:07.524156Z",
     "iopub.status.busy": "2022-11-26T04:55:07.523931Z",
     "iopub.status.idle": "2022-11-26T04:55:07.565483Z",
     "shell.execute_reply": "2022-11-26T04:55:07.564963Z"
    },
    "papermill": {
     "duration": 0.059343,
     "end_time": "2022-11-26T04:55:07.566537",
     "exception": false,
     "start_time": "2022-11-26T04:55:07.507194",
     "status": "completed"
    },
    "tags": []
   },
   "outputs": [],
   "source": [
    "parts = ensemble.groupby(\"n_clusters\").apply(\n",
    "    lambda x: np.concatenate(x[\"partition\"].apply(lambda x: x.reshape(1, -1)), axis=0)\n",
    ")"
   ]
  },
  {
   "cell_type": "code",
   "execution_count": 45,
   "id": "28c175e2-ac09-465e-b2af-6872e50f22c5",
   "metadata": {
    "execution": {
     "iopub.execute_input": "2022-11-26T04:55:07.600795Z",
     "iopub.status.busy": "2022-11-26T04:55:07.600511Z",
     "iopub.status.idle": "2022-11-26T04:55:07.637622Z",
     "shell.execute_reply": "2022-11-26T04:55:07.637157Z"
    },
    "papermill": {
     "duration": 0.054875,
     "end_time": "2022-11-26T04:55:07.638462",
     "exception": false,
     "start_time": "2022-11-26T04:55:07.583587",
     "status": "completed"
    },
    "tags": []
   },
   "outputs": [
    {
     "data": {
      "text/plain": [
       "n_clusters\n",
       "2    [[0.0, 0.0, 0.0, 0.0, 0.0, 0.0, 0.0, 0.0, 0.0,...\n",
       "3    [[0.0, 0.0, 0.0, 0.0, 0.0, 0.0, 0.0, 0.0, 0.0,...\n",
       "4    [[0.0, 0.0, 0.0, 0.0, 0.0, 0.0, 0.0, 0.0, 0.0,...\n",
       "5    [[0.0, 0.0, 0.0, 0.0, 0.0, 0.0, 0.0, 0.0, 0.0,...\n",
       "6    [[0.0, 0.0, 0.0, 0.0, 0.0, 0.0, 0.0, 0.0, 0.0,...\n",
       "dtype: object"
      ]
     },
     "execution_count": 45,
     "metadata": {},
     "output_type": "execute_result"
    }
   ],
   "source": [
    "parts.head()"
   ]
  },
  {
   "cell_type": "code",
   "execution_count": 46,
   "id": "6462ff3f-ce3e-4a62-8ba7-21f8744a4b3f",
   "metadata": {
    "execution": {
     "iopub.execute_input": "2022-11-26T04:55:07.672673Z",
     "iopub.status.busy": "2022-11-26T04:55:07.672390Z",
     "iopub.status.idle": "2022-11-26T04:55:07.695367Z",
     "shell.execute_reply": "2022-11-26T04:55:07.694898Z"
    },
    "papermill": {
     "duration": 0.040747,
     "end_time": "2022-11-26T04:55:07.696242",
     "exception": false,
     "start_time": "2022-11-26T04:55:07.655495",
     "status": "completed"
    },
    "tags": []
   },
   "outputs": [],
   "source": [
    "assert np.all(\n",
    "    [\n",
    "        parts.loc[k].shape == (len(CLUSTERING_OPTIONS[\"LINKAGE\"]), data.shape[0])\n",
    "        for k in parts.index\n",
    "    ]\n",
    ")"
   ]
  },
  {
   "cell_type": "markdown",
   "id": "b2c5f0d2-6f10-460d-9caa-09517a2a6819",
   "metadata": {
    "papermill": {
     "duration": 0.016146,
     "end_time": "2022-11-26T04:55:07.729822",
     "exception": false,
     "start_time": "2022-11-26T04:55:07.713676",
     "status": "completed"
    },
    "tags": []
   },
   "source": [
    "## Compute stability"
   ]
  },
  {
   "cell_type": "code",
   "execution_count": 47,
   "id": "9d1325b0-c35d-4bd8-bf89-01dd4d2cc7a9",
   "metadata": {
    "execution": {
     "iopub.execute_input": "2022-11-26T04:55:07.763256Z",
     "iopub.status.busy": "2022-11-26T04:55:07.762964Z",
     "iopub.status.idle": "2022-11-26T04:55:07.784142Z",
     "shell.execute_reply": "2022-11-26T04:55:07.783677Z"
    },
    "papermill": {
     "duration": 0.038938,
     "end_time": "2022-11-26T04:55:07.784993",
     "exception": false,
     "start_time": "2022-11-26T04:55:07.746055",
     "status": "completed"
    },
    "tags": []
   },
   "outputs": [],
   "source": [
    "from sklearn.metrics import adjusted_rand_score as ari\n",
    "from scipy.spatial.distance import pdist"
   ]
  },
  {
   "cell_type": "code",
   "execution_count": 48,
   "id": "bd4dbefe-6935-4443-9880-7881f5ecaa56",
   "metadata": {
    "execution": {
     "iopub.execute_input": "2022-11-26T04:55:07.818896Z",
     "iopub.status.busy": "2022-11-26T04:55:07.818648Z",
     "iopub.status.idle": "2022-11-26T04:55:08.177138Z",
     "shell.execute_reply": "2022-11-26T04:55:08.176740Z"
    },
    "papermill": {
     "duration": 0.376647,
     "end_time": "2022-11-26T04:55:08.178528",
     "exception": false,
     "start_time": "2022-11-26T04:55:07.801881",
     "status": "completed"
    },
    "tags": []
   },
   "outputs": [],
   "source": [
    "parts_ari = pd.Series(\n",
    "    {k: pdist(parts.loc[k], metric=ari) for k in parts.index}, name=\"k\"\n",
    ")"
   ]
  },
  {
   "cell_type": "code",
   "execution_count": 49,
   "id": "1cda5ab7-3ddd-4e92-9b1f-fd50cc11217f",
   "metadata": {
    "execution": {
     "iopub.execute_input": "2022-11-26T04:55:08.213756Z",
     "iopub.status.busy": "2022-11-26T04:55:08.213644Z",
     "iopub.status.idle": "2022-11-26T04:55:08.228690Z",
     "shell.execute_reply": "2022-11-26T04:55:08.228336Z"
    },
    "papermill": {
     "duration": 0.032429,
     "end_time": "2022-11-26T04:55:08.229398",
     "exception": false,
     "start_time": "2022-11-26T04:55:08.196969",
     "status": "completed"
    },
    "tags": []
   },
   "outputs": [
    {
     "data": {
      "text/plain": [
       "5     0.510360\n",
       "4     0.507821\n",
       "2     0.505535\n",
       "3     0.505015\n",
       "7     0.502361\n",
       "6     0.501940\n",
       "16    0.491550\n",
       "59    0.479578\n",
       "28    0.478730\n",
       "70    0.478629\n",
       "25    0.476387\n",
       "69    0.476084\n",
       "61    0.475345\n",
       "58    0.473561\n",
       "68    0.473506\n",
       "Name: k, dtype: float64"
      ]
     },
     "metadata": {},
     "output_type": "display_data"
    }
   ],
   "source": [
    "parts_ari_stability = parts_ari.apply(lambda x: x.mean())\n",
    "display(parts_ari_stability.sort_values(ascending=False).head(15))"
   ]
  },
  {
   "cell_type": "code",
   "execution_count": 50,
   "id": "76d4edf3-18ef-44be-9f2e-2674a201a6f8",
   "metadata": {
    "execution": {
     "iopub.execute_input": "2022-11-26T04:55:08.263074Z",
     "iopub.status.busy": "2022-11-26T04:55:08.262860Z",
     "iopub.status.idle": "2022-11-26T04:55:08.276302Z",
     "shell.execute_reply": "2022-11-26T04:55:08.275926Z"
    },
    "papermill": {
     "duration": 0.030833,
     "end_time": "2022-11-26T04:55:08.277062",
     "exception": false,
     "start_time": "2022-11-26T04:55:08.246229",
     "status": "completed"
    },
    "tags": []
   },
   "outputs": [],
   "source": [
    "parts_ari_df = pd.DataFrame.from_records(parts_ari.tolist()).set_index(\n",
    "    parts_ari.index.copy()\n",
    ")"
   ]
  },
  {
   "cell_type": "code",
   "execution_count": 51,
   "id": "8ed06986-00ae-4748-95ac-e22d40854d79",
   "metadata": {
    "execution": {
     "iopub.execute_input": "2022-11-26T04:55:08.310912Z",
     "iopub.status.busy": "2022-11-26T04:55:08.310711Z",
     "iopub.status.idle": "2022-11-26T04:55:08.328903Z",
     "shell.execute_reply": "2022-11-26T04:55:08.328455Z"
    },
    "papermill": {
     "duration": 0.035606,
     "end_time": "2022-11-26T04:55:08.329686",
     "exception": false,
     "start_time": "2022-11-26T04:55:08.294080",
     "status": "completed"
    },
    "tags": []
   },
   "outputs": [
    {
     "data": {
      "text/plain": [
       "(74, 6)"
      ]
     },
     "execution_count": 51,
     "metadata": {},
     "output_type": "execute_result"
    }
   ],
   "source": [
    "parts_ari_df.shape"
   ]
  },
  {
   "cell_type": "code",
   "execution_count": 52,
   "id": "e7c90e3c-e1e2-45e4-b774-6b3d03f25454",
   "metadata": {
    "execution": {
     "iopub.execute_input": "2022-11-26T04:55:08.363275Z",
     "iopub.status.busy": "2022-11-26T04:55:08.363054Z",
     "iopub.status.idle": "2022-11-26T04:55:08.384400Z",
     "shell.execute_reply": "2022-11-26T04:55:08.383910Z"
    },
    "papermill": {
     "duration": 0.03891,
     "end_time": "2022-11-26T04:55:08.385243",
     "exception": false,
     "start_time": "2022-11-26T04:55:08.346333",
     "status": "completed"
    },
    "tags": []
   },
   "outputs": [],
   "source": [
    "assert (\n",
    "    int(\n",
    "        (len(CLUSTERING_OPTIONS[\"LINKAGE\"]) * (len(CLUSTERING_OPTIONS[\"LINKAGE\"]) - 1))\n",
    "        / 2\n",
    "    )\n",
    "    == parts_ari_df.shape[1]\n",
    ")"
   ]
  },
  {
   "cell_type": "code",
   "execution_count": 53,
   "id": "baeadcc4-4179-42ce-9b80-6a89b2544d0d",
   "metadata": {
    "execution": {
     "iopub.execute_input": "2022-11-26T04:55:08.419045Z",
     "iopub.status.busy": "2022-11-26T04:55:08.418783Z",
     "iopub.status.idle": "2022-11-26T04:55:08.447715Z",
     "shell.execute_reply": "2022-11-26T04:55:08.447272Z"
    },
    "papermill": {
     "duration": 0.046485,
     "end_time": "2022-11-26T04:55:08.448539",
     "exception": false,
     "start_time": "2022-11-26T04:55:08.402054",
     "status": "completed"
    },
    "tags": []
   },
   "outputs": [
    {
     "data": {
      "text/html": [
       "<div>\n",
       "<style scoped>\n",
       "    .dataframe tbody tr th:only-of-type {\n",
       "        vertical-align: middle;\n",
       "    }\n",
       "\n",
       "    .dataframe tbody tr th {\n",
       "        vertical-align: top;\n",
       "    }\n",
       "\n",
       "    .dataframe thead th {\n",
       "        text-align: right;\n",
       "    }\n",
       "</style>\n",
       "<table border=\"1\" class=\"dataframe\">\n",
       "  <thead>\n",
       "    <tr style=\"text-align: right;\">\n",
       "      <th></th>\n",
       "      <th>0</th>\n",
       "      <th>1</th>\n",
       "      <th>2</th>\n",
       "      <th>3</th>\n",
       "      <th>4</th>\n",
       "      <th>5</th>\n",
       "    </tr>\n",
       "  </thead>\n",
       "  <tbody>\n",
       "    <tr>\n",
       "      <th>2</th>\n",
       "      <td>1.0</td>\n",
       "      <td>1.0</td>\n",
       "      <td>0.011070</td>\n",
       "      <td>1.0</td>\n",
       "      <td>0.011070</td>\n",
       "      <td>0.011070</td>\n",
       "    </tr>\n",
       "    <tr>\n",
       "      <th>3</th>\n",
       "      <td>1.0</td>\n",
       "      <td>1.0</td>\n",
       "      <td>0.010030</td>\n",
       "      <td>1.0</td>\n",
       "      <td>0.010030</td>\n",
       "      <td>0.010030</td>\n",
       "    </tr>\n",
       "    <tr>\n",
       "      <th>4</th>\n",
       "      <td>1.0</td>\n",
       "      <td>1.0</td>\n",
       "      <td>0.015642</td>\n",
       "      <td>1.0</td>\n",
       "      <td>0.015642</td>\n",
       "      <td>0.015642</td>\n",
       "    </tr>\n",
       "    <tr>\n",
       "      <th>5</th>\n",
       "      <td>1.0</td>\n",
       "      <td>1.0</td>\n",
       "      <td>0.020719</td>\n",
       "      <td>1.0</td>\n",
       "      <td>0.020719</td>\n",
       "      <td>0.020719</td>\n",
       "    </tr>\n",
       "    <tr>\n",
       "      <th>6</th>\n",
       "      <td>1.0</td>\n",
       "      <td>1.0</td>\n",
       "      <td>0.003880</td>\n",
       "      <td>1.0</td>\n",
       "      <td>0.003880</td>\n",
       "      <td>0.003880</td>\n",
       "    </tr>\n",
       "  </tbody>\n",
       "</table>\n",
       "</div>"
      ],
      "text/plain": [
       "     0    1         2    3         4         5\n",
       "2  1.0  1.0  0.011070  1.0  0.011070  0.011070\n",
       "3  1.0  1.0  0.010030  1.0  0.010030  0.010030\n",
       "4  1.0  1.0  0.015642  1.0  0.015642  0.015642\n",
       "5  1.0  1.0  0.020719  1.0  0.020719  0.020719\n",
       "6  1.0  1.0  0.003880  1.0  0.003880  0.003880"
      ]
     },
     "execution_count": 53,
     "metadata": {},
     "output_type": "execute_result"
    }
   ],
   "source": [
    "parts_ari_df.head()"
   ]
  },
  {
   "cell_type": "markdown",
   "id": "24bf3dd6-1b53-4452-9596-a97ed469d0bd",
   "metadata": {
    "papermill": {
     "duration": 0.016508,
     "end_time": "2022-11-26T04:55:08.482792",
     "exception": false,
     "start_time": "2022-11-26T04:55:08.466284",
     "status": "completed"
    },
    "tags": []
   },
   "source": [
    "## Save"
   ]
  },
  {
   "cell_type": "code",
   "execution_count": 54,
   "id": "b353c6e9-dabf-4511-8138-152d98ef3c12",
   "metadata": {
    "execution": {
     "iopub.execute_input": "2022-11-26T04:55:08.516477Z",
     "iopub.status.busy": "2022-11-26T04:55:08.516188Z",
     "iopub.status.idle": "2022-11-26T04:55:08.538590Z",
     "shell.execute_reply": "2022-11-26T04:55:08.538152Z"
    },
    "papermill": {
     "duration": 0.040209,
     "end_time": "2022-11-26T04:55:08.539394",
     "exception": false,
     "start_time": "2022-11-26T04:55:08.499185",
     "status": "completed"
    },
    "tags": []
   },
   "outputs": [
    {
     "data": {
      "text/plain": [
       "PosixPath('/opt/data/results/clustering/null_sims/shuffle_lvs/runs/z_score_std-projection-smultixcan-efo_partial-mashr-zscores/AgglomerativeClustering-stability-AFFINITY_euclidean-K_MAX_75-K_MIN_2-LINKAGE_complete_single_average_ward.pkl')"
      ]
     },
     "metadata": {},
     "output_type": "display_data"
    }
   ],
   "source": [
    "output_filename = Path(\n",
    "    RESULTS_DIR,\n",
    "    generate_result_set_name(\n",
    "        CLUSTERING_OPTIONS,\n",
    "        prefix=f\"{clustering_method_name}-stability-\",\n",
    "        suffix=\".pkl\",\n",
    "    ),\n",
    ").resolve()\n",
    "display(output_filename)"
   ]
  },
  {
   "cell_type": "code",
   "execution_count": 55,
   "id": "95ea3201-bf46-441f-9bc3-fb0957261bf3",
   "metadata": {
    "execution": {
     "iopub.execute_input": "2022-11-26T04:55:08.573678Z",
     "iopub.status.busy": "2022-11-26T04:55:08.573420Z",
     "iopub.status.idle": "2022-11-26T04:55:08.594728Z",
     "shell.execute_reply": "2022-11-26T04:55:08.594276Z"
    },
    "papermill": {
     "duration": 0.039227,
     "end_time": "2022-11-26T04:55:08.595570",
     "exception": false,
     "start_time": "2022-11-26T04:55:08.556343",
     "status": "completed"
    },
    "tags": []
   },
   "outputs": [],
   "source": [
    "parts_ari_df.to_pickle(output_filename)"
   ]
  },
  {
   "cell_type": "markdown",
   "id": "484d7192-d088-4981-b3f6-14ae4a1fafc7",
   "metadata": {
    "papermill": {
     "duration": 0.017455,
     "end_time": "2022-11-26T04:55:08.629916",
     "exception": false,
     "start_time": "2022-11-26T04:55:08.612461",
     "status": "completed"
    },
    "tags": []
   },
   "source": [
    "## Stability plot"
   ]
  },
  {
   "cell_type": "code",
   "execution_count": 56,
   "id": "1b441002-3ca4-4235-96a4-a17fa0b4a649",
   "metadata": {
    "execution": {
     "iopub.execute_input": "2022-11-26T04:55:08.664369Z",
     "iopub.status.busy": "2022-11-26T04:55:08.664081Z",
     "iopub.status.idle": "2022-11-26T04:55:08.687740Z",
     "shell.execute_reply": "2022-11-26T04:55:08.687286Z"
    },
    "papermill": {
     "duration": 0.042083,
     "end_time": "2022-11-26T04:55:08.688630",
     "exception": false,
     "start_time": "2022-11-26T04:55:08.646547",
     "status": "completed"
    },
    "tags": []
   },
   "outputs": [],
   "source": [
    "parts_ari_df_plot = (\n",
    "    parts_ari_df.stack()\n",
    "    .reset_index()\n",
    "    .rename(columns={\"level_0\": \"k\", \"level_1\": \"idx\", 0: \"ari\"})\n",
    ")"
   ]
  },
  {
   "cell_type": "code",
   "execution_count": 57,
   "id": "fecfabbc-0639-467a-a87b-6547c2920ec5",
   "metadata": {
    "execution": {
     "iopub.execute_input": "2022-11-26T04:55:08.722952Z",
     "iopub.status.busy": "2022-11-26T04:55:08.722688Z",
     "iopub.status.idle": "2022-11-26T04:55:08.745356Z",
     "shell.execute_reply": "2022-11-26T04:55:08.744905Z"
    },
    "papermill": {
     "duration": 0.04045,
     "end_time": "2022-11-26T04:55:08.746167",
     "exception": false,
     "start_time": "2022-11-26T04:55:08.705717",
     "status": "completed"
    },
    "tags": []
   },
   "outputs": [
    {
     "data": {
      "text/plain": [
       "k        int64\n",
       "idx      int64\n",
       "ari    float64\n",
       "dtype: object"
      ]
     },
     "execution_count": 57,
     "metadata": {},
     "output_type": "execute_result"
    }
   ],
   "source": [
    "parts_ari_df_plot.dtypes"
   ]
  },
  {
   "cell_type": "code",
   "execution_count": 58,
   "id": "922c2b02-0b98-4fff-8f8e-164b40335aa2",
   "metadata": {
    "execution": {
     "iopub.execute_input": "2022-11-26T04:55:08.780425Z",
     "iopub.status.busy": "2022-11-26T04:55:08.780153Z",
     "iopub.status.idle": "2022-11-26T04:55:08.804624Z",
     "shell.execute_reply": "2022-11-26T04:55:08.804165Z"
    },
    "papermill": {
     "duration": 0.042262,
     "end_time": "2022-11-26T04:55:08.805444",
     "exception": false,
     "start_time": "2022-11-26T04:55:08.763182",
     "status": "completed"
    },
    "tags": []
   },
   "outputs": [
    {
     "data": {
      "text/html": [
       "<div>\n",
       "<style scoped>\n",
       "    .dataframe tbody tr th:only-of-type {\n",
       "        vertical-align: middle;\n",
       "    }\n",
       "\n",
       "    .dataframe tbody tr th {\n",
       "        vertical-align: top;\n",
       "    }\n",
       "\n",
       "    .dataframe thead th {\n",
       "        text-align: right;\n",
       "    }\n",
       "</style>\n",
       "<table border=\"1\" class=\"dataframe\">\n",
       "  <thead>\n",
       "    <tr style=\"text-align: right;\">\n",
       "      <th></th>\n",
       "      <th>k</th>\n",
       "      <th>idx</th>\n",
       "      <th>ari</th>\n",
       "    </tr>\n",
       "  </thead>\n",
       "  <tbody>\n",
       "    <tr>\n",
       "      <th>0</th>\n",
       "      <td>2</td>\n",
       "      <td>0</td>\n",
       "      <td>1.00000</td>\n",
       "    </tr>\n",
       "    <tr>\n",
       "      <th>1</th>\n",
       "      <td>2</td>\n",
       "      <td>1</td>\n",
       "      <td>1.00000</td>\n",
       "    </tr>\n",
       "    <tr>\n",
       "      <th>2</th>\n",
       "      <td>2</td>\n",
       "      <td>2</td>\n",
       "      <td>0.01107</td>\n",
       "    </tr>\n",
       "    <tr>\n",
       "      <th>3</th>\n",
       "      <td>2</td>\n",
       "      <td>3</td>\n",
       "      <td>1.00000</td>\n",
       "    </tr>\n",
       "    <tr>\n",
       "      <th>4</th>\n",
       "      <td>2</td>\n",
       "      <td>4</td>\n",
       "      <td>0.01107</td>\n",
       "    </tr>\n",
       "  </tbody>\n",
       "</table>\n",
       "</div>"
      ],
      "text/plain": [
       "   k  idx      ari\n",
       "0  2    0  1.00000\n",
       "1  2    1  1.00000\n",
       "2  2    2  0.01107\n",
       "3  2    3  1.00000\n",
       "4  2    4  0.01107"
      ]
     },
     "execution_count": 58,
     "metadata": {},
     "output_type": "execute_result"
    }
   ],
   "source": [
    "parts_ari_df_plot.head()"
   ]
  },
  {
   "cell_type": "code",
   "execution_count": 59,
   "id": "bb3fa2e6-205a-4d72-a1ad-3b9072fcfe73",
   "metadata": {
    "execution": {
     "iopub.execute_input": "2022-11-26T04:55:08.839996Z",
     "iopub.status.busy": "2022-11-26T04:55:08.839728Z",
     "iopub.status.idle": "2022-11-26T04:55:11.191813Z",
     "shell.execute_reply": "2022-11-26T04:55:11.191448Z"
    },
    "papermill": {
     "duration": 2.370962,
     "end_time": "2022-11-26T04:55:11.193612",
     "exception": false,
     "start_time": "2022-11-26T04:55:08.822650",
     "status": "completed"
    },
    "tags": []
   },
   "outputs": [
    {
     "data": {
      "image/png": "[encoded data removed]",
      "text/plain": [
       "<Figure size 1008x432 with 1 Axes>"
      ]
     },
     "metadata": {},
     "output_type": "display_data"
    }
   ],
   "source": [
    "# with sns.axes_style('whitegrid', {'grid.linestyle': '--'}):\n",
    "with sns.plotting_context(\"talk\", font_scale=0.75), sns.axes_style(\n",
    "    \"whitegrid\", {\"grid.linestyle\": \"--\"}\n",
    "):\n",
    "    fig = plt.figure(figsize=(14, 6))\n",
    "    ax = sns.pointplot(data=parts_ari_df_plot, x=\"k\", y=\"ari\")\n",
    "    ax.set_ylabel(\"Averange ARI\")\n",
    "    ax.set_xlabel(\"Number of clusters ($k$)\")\n",
    "    ax.set_xticklabels(ax.get_xticklabels(), rotation=45)\n",
    "    #     ax.set_ylim(0.0, 1.0)\n",
    "    #     ax.set_xlim(CLUSTERING_OPTIONS['K_MIN'], CLUSTERING_OPTIONS['K_MAX'])\n",
    "    plt.grid(True)\n",
    "    plt.tight_layout()"
   ]
  },
  {
   "cell_type": "code",
   "execution_count": null,
   "id": "e59b0b69",
   "metadata": {
    "papermill": {
     "duration": 0.034427,
     "end_time": "2022-11-26T04:55:11.263929",
     "exception": false,
     "start_time": "2022-11-26T04:55:11.229502",
     "status": "completed"
    },
    "tags": []
   },
   "outputs": [],
   "source": []
  }
 ],
 "metadata": {
  "jupytext": {
   "cell_metadata_filter": "all,-execution,-papermill,-trusted",
   "formats": "ipynb,py//py:percent"
  },
  "kernelspec": {
   "display_name": "Python 3 (ipykernel)",
   "language": "python",
   "name": "python3"
  },
  "language_info": {
   "codemirror_mode": {
    "name": "ipython",
    "version": 3
   },
   "file_extension": ".py",
   "mimetype": "text/x-python",
   "name": "python",
   "nbconvert_exporter": "python",
   "pygments_lexer": "ipython3",
   "version": "3.8.13"
  },
  "papermill": {
   "default_parameters": {},
   "duration": 1020.821693,
   "end_time": "2022-11-26T04:55:11.604688",
   "environment_variables": {},
   "exception": null,
   "input_path": "nbs/13.1_cluster_analysis_null/05-shuffle_lvs/13_00-hc-z_score_std.ipynb",
   "output_path": "nbs/13.1_cluster_analysis_null/05-shuffle_lvs/13_00-hc-z_score_std.run.ipynb",
   "parameters": {},
   "start_time": "2022-11-26T04:38:10.782995",
   "version": "2.2.2"
  },
  "toc-autonumbering": true,
  "toc-showcode": false,
  "toc-showmarkdowntxt": false,
  "toc-showtags": false
 },
 "nbformat": 4,
 "nbformat_minor": 5
}
