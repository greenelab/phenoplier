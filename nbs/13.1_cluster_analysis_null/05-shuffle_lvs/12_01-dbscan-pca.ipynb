{
 "cells": [
  {
   "cell_type": "markdown",
   "id": "e228da09",
   "metadata": {
    "papermill": {
     "duration": 0.009522,
     "end_time": "2022-11-26T00:38:38.067462",
     "exception": false,
     "start_time": "2022-11-26T00:38:38.057940",
     "status": "completed"
    },
    "tags": []
   },
   "source": [
    "# Description"
   ]
  },
  {
   "cell_type": "markdown",
   "id": "4a619567",
   "metadata": {
    "papermill": {
     "duration": 0.008904,
     "end_time": "2022-11-26T00:38:38.086171",
     "exception": false,
     "start_time": "2022-11-26T00:38:38.077267",
     "status": "completed"
    },
    "tags": []
   },
   "source": [
    "It runs DBSCAN on the `pca` version of the data.\n",
    "\n",
    "The notebook explores different values for `min_samples` and `eps` (the main parameters of DBSCAN)."
   ]
  },
  {
   "cell_type": "markdown",
   "id": "dc36a13e",
   "metadata": {
    "papermill": {
     "duration": 0.008939,
     "end_time": "2022-11-26T00:38:38.103672",
     "exception": false,
     "start_time": "2022-11-26T00:38:38.094733",
     "status": "completed"
    },
    "tags": []
   },
   "source": [
    "# Environment variables"
   ]
  },
  {
   "cell_type": "code",
   "execution_count": 1,
   "id": "a78ef632",
   "metadata": {
    "execution": {
     "iopub.execute_input": "2022-11-26T00:38:38.123031Z",
     "iopub.status.busy": "2022-11-26T00:38:38.122622Z",
     "iopub.status.idle": "2022-11-26T00:38:38.141552Z",
     "shell.execute_reply": "2022-11-26T00:38:38.141043Z"
    },
    "papermill": {
     "duration": 0.030568,
     "end_time": "2022-11-26T00:38:38.142947",
     "exception": false,
     "start_time": "2022-11-26T00:38:38.112379",
     "status": "completed"
    },
    "tags": []
   },
   "outputs": [
    {
     "data": {
      "text/plain": [
       "10"
      ]
     },
     "metadata": {},
     "output_type": "display_data"
    }
   ],
   "source": [
    "from IPython.display import display\n",
    "\n",
    "import conf\n",
    "\n",
    "N_JOBS = conf.GENERAL[\"N_JOBS\"]\n",
    "display(N_JOBS)"
   ]
  },
  {
   "cell_type": "code",
   "execution_count": 2,
   "id": "f93855a7",
   "metadata": {
    "execution": {
     "iopub.execute_input": "2022-11-26T00:38:38.163554Z",
     "iopub.status.busy": "2022-11-26T00:38:38.163198Z",
     "iopub.status.idle": "2022-11-26T00:38:38.169384Z",
     "shell.execute_reply": "2022-11-26T00:38:38.168813Z"
    },
    "papermill": {
     "duration": 0.017345,
     "end_time": "2022-11-26T00:38:38.170658",
     "exception": false,
     "start_time": "2022-11-26T00:38:38.153313",
     "status": "completed"
    },
    "tags": []
   },
   "outputs": [
    {
     "name": "stdout",
     "output_type": "stream",
     "text": [
      "env: MKL_NUM_THREADS=10\n",
      "env: OPEN_BLAS_NUM_THREADS=10\n",
      "env: NUMEXPR_NUM_THREADS=10\n",
      "env: OMP_NUM_THREADS=10\n"
     ]
    }
   ],
   "source": [
    "%env MKL_NUM_THREADS=$N_JOBS\n",
    "%env OPEN_BLAS_NUM_THREADS=$N_JOBS\n",
    "%env NUMEXPR_NUM_THREADS=$N_JOBS\n",
    "%env OMP_NUM_THREADS=$N_JOBS"
   ]
  },
  {
   "cell_type": "markdown",
   "id": "7e400e8b",
   "metadata": {
    "papermill": {
     "duration": 0.008795,
     "end_time": "2022-11-26T00:38:38.188418",
     "exception": false,
     "start_time": "2022-11-26T00:38:38.179623",
     "status": "completed"
    },
    "tags": []
   },
   "source": [
    "# Modules loading"
   ]
  },
  {
   "cell_type": "code",
   "execution_count": 3,
   "id": "2d57cf4d",
   "metadata": {
    "execution": {
     "iopub.execute_input": "2022-11-26T00:38:38.206286Z",
     "iopub.status.busy": "2022-11-26T00:38:38.206111Z",
     "iopub.status.idle": "2022-11-26T00:38:38.219639Z",
     "shell.execute_reply": "2022-11-26T00:38:38.219179Z"
    },
    "papermill": {
     "duration": 0.02287,
     "end_time": "2022-11-26T00:38:38.220559",
     "exception": false,
     "start_time": "2022-11-26T00:38:38.197689",
     "status": "completed"
    },
    "tags": []
   },
   "outputs": [],
   "source": [
    "%load_ext autoreload\n",
    "%autoreload 2"
   ]
  },
  {
   "cell_type": "code",
   "execution_count": 4,
   "id": "cd0adcf2",
   "metadata": {
    "execution": {
     "iopub.execute_input": "2022-11-26T00:38:38.230751Z",
     "iopub.status.busy": "2022-11-26T00:38:38.230341Z",
     "iopub.status.idle": "2022-11-26T00:38:38.717884Z",
     "shell.execute_reply": "2022-11-26T00:38:38.717490Z"
    },
    "papermill": {
     "duration": 0.493911,
     "end_time": "2022-11-26T00:38:38.719320",
     "exception": false,
     "start_time": "2022-11-26T00:38:38.225409",
     "status": "completed"
    },
    "tags": []
   },
   "outputs": [],
   "source": [
    "from pathlib import Path\n",
    "\n",
    "import numpy as np\n",
    "import pandas as pd\n",
    "from sklearn.neighbors import NearestNeighbors\n",
    "from sklearn.metrics import pairwise_distances\n",
    "from sklearn.cluster import DBSCAN\n",
    "import matplotlib.pyplot as plt\n",
    "\n",
    "from utils import generate_result_set_name\n",
    "from clustering.ensembles.utils import generate_ensemble"
   ]
  },
  {
   "cell_type": "markdown",
   "id": "d22a7bbd",
   "metadata": {
    "papermill": {
     "duration": 0.00972,
     "end_time": "2022-11-26T00:38:38.738001",
     "exception": false,
     "start_time": "2022-11-26T00:38:38.728281",
     "status": "completed"
    },
    "tags": []
   },
   "source": [
    "# Global settings"
   ]
  },
  {
   "cell_type": "code",
   "execution_count": 5,
   "id": "69cc230a",
   "metadata": {
    "execution": {
     "iopub.execute_input": "2022-11-26T00:38:38.757301Z",
     "iopub.status.busy": "2022-11-26T00:38:38.757201Z",
     "iopub.status.idle": "2022-11-26T00:38:38.776980Z",
     "shell.execute_reply": "2022-11-26T00:38:38.776512Z"
    },
    "papermill": {
     "duration": 0.031274,
     "end_time": "2022-11-26T00:38:38.778365",
     "exception": false,
     "start_time": "2022-11-26T00:38:38.747091",
     "status": "completed"
    },
    "tags": []
   },
   "outputs": [],
   "source": [
    "np.random.seed(0)"
   ]
  },
  {
   "cell_type": "code",
   "execution_count": 6,
   "id": "535b5d88",
   "metadata": {
    "execution": {
     "iopub.execute_input": "2022-11-26T00:38:38.798073Z",
     "iopub.status.busy": "2022-11-26T00:38:38.797752Z",
     "iopub.status.idle": "2022-11-26T00:38:38.816740Z",
     "shell.execute_reply": "2022-11-26T00:38:38.816288Z"
    },
    "papermill": {
     "duration": 0.029914,
     "end_time": "2022-11-26T00:38:38.818052",
     "exception": false,
     "start_time": "2022-11-26T00:38:38.788138",
     "status": "completed"
    },
    "tags": []
   },
   "outputs": [],
   "source": [
    "CLUSTERING_ATTRIBUTES_TO_SAVE = [\"n_clusters\"]"
   ]
  },
  {
   "cell_type": "code",
   "execution_count": 7,
   "id": "8de6c8e2-98f2-45b3-9062-d7b00b007b22",
   "metadata": {
    "execution": {
     "iopub.execute_input": "2022-11-26T00:38:38.836576Z",
     "iopub.status.busy": "2022-11-26T00:38:38.836173Z",
     "iopub.status.idle": "2022-11-26T00:38:38.854387Z",
     "shell.execute_reply": "2022-11-26T00:38:38.853963Z"
    },
    "papermill": {
     "duration": 0.028872,
     "end_time": "2022-11-26T00:38:38.855688",
     "exception": false,
     "start_time": "2022-11-26T00:38:38.826816",
     "status": "completed"
    },
    "tags": []
   },
   "outputs": [],
   "source": [
    "NULL_DIR = conf.RESULTS[\"CLUSTERING_NULL_DIR\"] / \"shuffle_lvs\""
   ]
  },
  {
   "cell_type": "markdown",
   "id": "ca3232af",
   "metadata": {
    "papermill": {
     "duration": 0.008749,
     "end_time": "2022-11-26T00:38:38.873398",
     "exception": false,
     "start_time": "2022-11-26T00:38:38.864649",
     "status": "completed"
    },
    "tags": []
   },
   "source": [
    "# Settings"
   ]
  },
  {
   "cell_type": "code",
   "execution_count": 8,
   "id": "9255164b",
   "metadata": {
    "execution": {
     "iopub.execute_input": "2022-11-26T00:38:38.915723Z",
     "iopub.status.busy": "2022-11-26T00:38:38.915384Z",
     "iopub.status.idle": "2022-11-26T00:38:38.936549Z",
     "shell.execute_reply": "2022-11-26T00:38:38.936102Z"
    },
    "papermill": {
     "duration": 0.055173,
     "end_time": "2022-11-26T00:38:38.937511",
     "exception": false,
     "start_time": "2022-11-26T00:38:38.882338",
     "status": "completed"
    },
    "tags": []
   },
   "outputs": [],
   "source": [
    "# these parameter values are taken from the pre-analysis notebook for this clustering method and data version\n",
    "k_values = np.arange(2, 125 + 1, 1)\n",
    "\n",
    "eps_range_per_k = {\n",
    "    k: (10, 20)\n",
    "    if k < 5\n",
    "    else (11, 25)\n",
    "    if k < 10\n",
    "    else (12, 30)\n",
    "    if k < 15\n",
    "    else (13, 35)\n",
    "    if k < 20\n",
    "    else (14, 40)\n",
    "    for k in k_values\n",
    "}"
   ]
  },
  {
   "cell_type": "markdown",
   "id": "81ee2c29",
   "metadata": {
    "papermill": {
     "duration": 0.004261,
     "end_time": "2022-11-26T00:38:38.946254",
     "exception": false,
     "start_time": "2022-11-26T00:38:38.941993",
     "status": "completed"
    },
    "tags": []
   },
   "source": [
    "# Data version: pca"
   ]
  },
  {
   "cell_type": "markdown",
   "id": "c5bc3e25",
   "metadata": {
    "papermill": {
     "duration": 0.004861,
     "end_time": "2022-11-26T00:38:38.956101",
     "exception": false,
     "start_time": "2022-11-26T00:38:38.951240",
     "status": "completed"
    },
    "tags": []
   },
   "source": [
    "## Settings"
   ]
  },
  {
   "cell_type": "code",
   "execution_count": 9,
   "id": "e36f811b",
   "metadata": {
    "execution": {
     "iopub.execute_input": "2022-11-26T00:38:38.965621Z",
     "iopub.status.busy": "2022-11-26T00:38:38.965303Z",
     "iopub.status.idle": "2022-11-26T00:38:38.984338Z",
     "shell.execute_reply": "2022-11-26T00:38:38.983946Z"
    },
    "papermill": {
     "duration": 0.024807,
     "end_time": "2022-11-26T00:38:38.985196",
     "exception": false,
     "start_time": "2022-11-26T00:38:38.960389",
     "status": "completed"
    },
    "tags": []
   },
   "outputs": [],
   "source": [
    "INPUT_SUBSET = \"pca\""
   ]
  },
  {
   "cell_type": "code",
   "execution_count": 10,
   "id": "ab42356f",
   "metadata": {
    "execution": {
     "iopub.execute_input": "2022-11-26T00:38:38.995043Z",
     "iopub.status.busy": "2022-11-26T00:38:38.994779Z",
     "iopub.status.idle": "2022-11-26T00:38:39.013662Z",
     "shell.execute_reply": "2022-11-26T00:38:39.013228Z"
    },
    "papermill": {
     "duration": 0.024488,
     "end_time": "2022-11-26T00:38:39.014424",
     "exception": false,
     "start_time": "2022-11-26T00:38:38.989936",
     "status": "completed"
    },
    "tags": []
   },
   "outputs": [],
   "source": [
    "INPUT_STEM = \"z_score_std-projection-smultixcan-efo_partial-mashr-zscores\""
   ]
  },
  {
   "cell_type": "code",
   "execution_count": 11,
   "id": "12ff12d9",
   "metadata": {
    "execution": {
     "iopub.execute_input": "2022-11-26T00:38:39.023934Z",
     "iopub.status.busy": "2022-11-26T00:38:39.023668Z",
     "iopub.status.idle": "2022-11-26T00:38:39.042368Z",
     "shell.execute_reply": "2022-11-26T00:38:39.041995Z"
    },
    "papermill": {
     "duration": 0.024438,
     "end_time": "2022-11-26T00:38:39.043244",
     "exception": false,
     "start_time": "2022-11-26T00:38:39.018806",
     "status": "completed"
    },
    "tags": []
   },
   "outputs": [],
   "source": [
    "# parameters of the dimentionality reduction steps\n",
    "DR_OPTIONS = {\n",
    "    \"n_components\": 50,\n",
    "    \"svd_solver\": \"full\",\n",
    "    \"random_state\": 0,\n",
    "}"
   ]
  },
  {
   "cell_type": "code",
   "execution_count": 12,
   "id": "4bdcae74",
   "metadata": {
    "execution": {
     "iopub.execute_input": "2022-11-26T00:38:39.053180Z",
     "iopub.status.busy": "2022-11-26T00:38:39.052770Z",
     "iopub.status.idle": "2022-11-26T00:38:39.073598Z",
     "shell.execute_reply": "2022-11-26T00:38:39.073228Z"
    },
    "papermill": {
     "duration": 0.026625,
     "end_time": "2022-11-26T00:38:39.074312",
     "exception": false,
     "start_time": "2022-11-26T00:38:39.047687",
     "status": "completed"
    },
    "tags": []
   },
   "outputs": [
    {
     "data": {
      "text/plain": [
       "PosixPath('/opt/data/results/clustering/null_sims/shuffle_lvs/data_transformations/pca/pca-z_score_std-projection-smultixcan-efo_partial-mashr-zscores-n_components_50-random_state_0-svd_solver_full.pkl')"
      ]
     },
     "metadata": {},
     "output_type": "display_data"
    },
    {
     "data": {
      "text/plain": [
       "'pca-z_score_std-projection-smultixcan-efo_partial-mashr-zscores-n_components_50-random_state_0-svd_solver_full'"
      ]
     },
     "metadata": {},
     "output_type": "display_data"
    }
   ],
   "source": [
    "input_filepath = Path(\n",
    "    NULL_DIR,\n",
    "    \"data_transformations\",\n",
    "    INPUT_SUBSET,\n",
    "    generate_result_set_name(\n",
    "        DR_OPTIONS, prefix=f\"{INPUT_SUBSET}-{INPUT_STEM}-\", suffix=\".pkl\"\n",
    "    ),\n",
    ").resolve()\n",
    "display(input_filepath)\n",
    "\n",
    "assert input_filepath.exists(), \"Input file does not exist\"\n",
    "\n",
    "input_filepath_stem = input_filepath.stem\n",
    "display(input_filepath_stem)"
   ]
  },
  {
   "cell_type": "code",
   "execution_count": 13,
   "id": "05d25510",
   "metadata": {
    "execution": {
     "iopub.execute_input": "2022-11-26T00:38:39.084040Z",
     "iopub.status.busy": "2022-11-26T00:38:39.083757Z",
     "iopub.status.idle": "2022-11-26T00:38:39.103930Z",
     "shell.execute_reply": "2022-11-26T00:38:39.103551Z"
    },
    "papermill": {
     "duration": 0.025857,
     "end_time": "2022-11-26T00:38:39.104660",
     "exception": false,
     "start_time": "2022-11-26T00:38:39.078803",
     "status": "completed"
    },
    "tags": []
   },
   "outputs": [
    {
     "data": {
      "text/plain": [
       "PosixPath('/opt/data/results/clustering/null_sims/shuffle_lvs/runs/pca-z_score_std-projection-smultixcan-efo_partial-mashr-zscores')"
      ]
     },
     "metadata": {},
     "output_type": "display_data"
    }
   ],
   "source": [
    "# output dir for this notebook\n",
    "RESULTS_DIR = Path(\n",
    "    NULL_DIR,\n",
    "    \"runs\",\n",
    "    f\"{INPUT_SUBSET}-{INPUT_STEM}\",\n",
    ").resolve()\n",
    "RESULTS_DIR.mkdir(parents=True, exist_ok=True)\n",
    "\n",
    "display(RESULTS_DIR)"
   ]
  },
  {
   "cell_type": "markdown",
   "id": "03894166",
   "metadata": {
    "papermill": {
     "duration": 0.004425,
     "end_time": "2022-11-26T00:38:39.113605",
     "exception": false,
     "start_time": "2022-11-26T00:38:39.109180",
     "status": "completed"
    },
    "tags": []
   },
   "source": [
    "## Load input file"
   ]
  },
  {
   "cell_type": "code",
   "execution_count": 14,
   "id": "d886fbca",
   "metadata": {
    "execution": {
     "iopub.execute_input": "2022-11-26T00:38:39.123650Z",
     "iopub.status.busy": "2022-11-26T00:38:39.123362Z",
     "iopub.status.idle": "2022-11-26T00:38:39.143830Z",
     "shell.execute_reply": "2022-11-26T00:38:39.143426Z"
    },
    "papermill": {
     "duration": 0.026374,
     "end_time": "2022-11-26T00:38:39.144693",
     "exception": false,
     "start_time": "2022-11-26T00:38:39.118319",
     "status": "completed"
    },
    "tags": []
   },
   "outputs": [],
   "source": [
    "data = pd.read_pickle(input_filepath)"
   ]
  },
  {
   "cell_type": "code",
   "execution_count": 15,
   "id": "2b49f668",
   "metadata": {
    "execution": {
     "iopub.execute_input": "2022-11-26T00:38:39.154664Z",
     "iopub.status.busy": "2022-11-26T00:38:39.154323Z",
     "iopub.status.idle": "2022-11-26T00:38:39.173650Z",
     "shell.execute_reply": "2022-11-26T00:38:39.173281Z"
    },
    "papermill": {
     "duration": 0.025113,
     "end_time": "2022-11-26T00:38:39.174378",
     "exception": false,
     "start_time": "2022-11-26T00:38:39.149265",
     "status": "completed"
    },
    "tags": []
   },
   "outputs": [
    {
     "data": {
      "text/plain": [
       "(3752, 50)"
      ]
     },
     "execution_count": 15,
     "metadata": {},
     "output_type": "execute_result"
    }
   ],
   "source": [
    "data.shape"
   ]
  },
  {
   "cell_type": "code",
   "execution_count": 16,
   "id": "aab573c6",
   "metadata": {
    "execution": {
     "iopub.execute_input": "2022-11-26T00:38:39.184474Z",
     "iopub.status.busy": "2022-11-26T00:38:39.184213Z",
     "iopub.status.idle": "2022-11-26T00:38:39.218974Z",
     "shell.execute_reply": "2022-11-26T00:38:39.218594Z"
    },
    "papermill": {
     "duration": 0.04095,
     "end_time": "2022-11-26T00:38:39.220204",
     "exception": false,
     "start_time": "2022-11-26T00:38:39.179254",
     "status": "completed"
    },
    "tags": []
   },
   "outputs": [
    {
     "data": {
      "text/html": [
       "<div>\n",
       "<style scoped>\n",
       "    .dataframe tbody tr th:only-of-type {\n",
       "        vertical-align: middle;\n",
       "    }\n",
       "\n",
       "    .dataframe tbody tr th {\n",
       "        vertical-align: top;\n",
       "    }\n",
       "\n",
       "    .dataframe thead th {\n",
       "        text-align: right;\n",
       "    }\n",
       "</style>\n",
       "<table border=\"1\" class=\"dataframe\">\n",
       "  <thead>\n",
       "    <tr style=\"text-align: right;\">\n",
       "      <th></th>\n",
       "      <th>PCA1</th>\n",
       "      <th>PCA2</th>\n",
       "      <th>PCA3</th>\n",
       "      <th>PCA4</th>\n",
       "      <th>PCA5</th>\n",
       "      <th>PCA6</th>\n",
       "      <th>PCA7</th>\n",
       "      <th>PCA8</th>\n",
       "      <th>PCA9</th>\n",
       "      <th>PCA10</th>\n",
       "      <th>...</th>\n",
       "      <th>PCA41</th>\n",
       "      <th>PCA42</th>\n",
       "      <th>PCA43</th>\n",
       "      <th>PCA44</th>\n",
       "      <th>PCA45</th>\n",
       "      <th>PCA46</th>\n",
       "      <th>PCA47</th>\n",
       "      <th>PCA48</th>\n",
       "      <th>PCA49</th>\n",
       "      <th>PCA50</th>\n",
       "    </tr>\n",
       "  </thead>\n",
       "  <tbody>\n",
       "    <tr>\n",
       "      <th>100001_raw-Food_weight</th>\n",
       "      <td>0.373237</td>\n",
       "      <td>-0.155188</td>\n",
       "      <td>-1.554390</td>\n",
       "      <td>-0.103733</td>\n",
       "      <td>-1.807074</td>\n",
       "      <td>-0.957108</td>\n",
       "      <td>0.330335</td>\n",
       "      <td>0.638391</td>\n",
       "      <td>0.905023</td>\n",
       "      <td>-0.704551</td>\n",
       "      <td>...</td>\n",
       "      <td>0.161732</td>\n",
       "      <td>0.488682</td>\n",
       "      <td>0.761158</td>\n",
       "      <td>0.667089</td>\n",
       "      <td>-0.078934</td>\n",
       "      <td>0.840971</td>\n",
       "      <td>-0.622958</td>\n",
       "      <td>1.075964</td>\n",
       "      <td>3.244039</td>\n",
       "      <td>-0.933407</td>\n",
       "    </tr>\n",
       "    <tr>\n",
       "      <th>100002_raw-Energy</th>\n",
       "      <td>1.384398</td>\n",
       "      <td>0.511267</td>\n",
       "      <td>-0.273603</td>\n",
       "      <td>-0.074591</td>\n",
       "      <td>-1.151167</td>\n",
       "      <td>-0.069438</td>\n",
       "      <td>1.242634</td>\n",
       "      <td>-0.439543</td>\n",
       "      <td>0.650348</td>\n",
       "      <td>2.456117</td>\n",
       "      <td>...</td>\n",
       "      <td>0.051967</td>\n",
       "      <td>0.993820</td>\n",
       "      <td>-0.166350</td>\n",
       "      <td>1.497041</td>\n",
       "      <td>-0.875754</td>\n",
       "      <td>2.632726</td>\n",
       "      <td>0.613299</td>\n",
       "      <td>0.041232</td>\n",
       "      <td>4.032974</td>\n",
       "      <td>-0.230092</td>\n",
       "    </tr>\n",
       "    <tr>\n",
       "      <th>100003_raw-Protein</th>\n",
       "      <td>-1.247583</td>\n",
       "      <td>2.905641</td>\n",
       "      <td>-1.524196</td>\n",
       "      <td>0.683773</td>\n",
       "      <td>0.766860</td>\n",
       "      <td>-2.478057</td>\n",
       "      <td>-0.201110</td>\n",
       "      <td>1.045590</td>\n",
       "      <td>-0.844712</td>\n",
       "      <td>2.426349</td>\n",
       "      <td>...</td>\n",
       "      <td>0.027646</td>\n",
       "      <td>-1.903636</td>\n",
       "      <td>-0.819195</td>\n",
       "      <td>0.616887</td>\n",
       "      <td>-0.647462</td>\n",
       "      <td>0.170956</td>\n",
       "      <td>2.106036</td>\n",
       "      <td>-2.186258</td>\n",
       "      <td>0.485333</td>\n",
       "      <td>-1.136366</td>\n",
       "    </tr>\n",
       "    <tr>\n",
       "      <th>100004_raw-Fat</th>\n",
       "      <td>-0.695167</td>\n",
       "      <td>0.046286</td>\n",
       "      <td>0.730428</td>\n",
       "      <td>0.240547</td>\n",
       "      <td>1.621534</td>\n",
       "      <td>-1.335187</td>\n",
       "      <td>-1.510894</td>\n",
       "      <td>1.790966</td>\n",
       "      <td>-0.682884</td>\n",
       "      <td>-1.572835</td>\n",
       "      <td>...</td>\n",
       "      <td>-2.997557</td>\n",
       "      <td>-0.489466</td>\n",
       "      <td>0.442809</td>\n",
       "      <td>1.217098</td>\n",
       "      <td>-1.604667</td>\n",
       "      <td>-0.776865</td>\n",
       "      <td>-0.983076</td>\n",
       "      <td>0.080423</td>\n",
       "      <td>2.476131</td>\n",
       "      <td>0.431179</td>\n",
       "    </tr>\n",
       "    <tr>\n",
       "      <th>100005_raw-Carbohydrate</th>\n",
       "      <td>0.770055</td>\n",
       "      <td>-0.499034</td>\n",
       "      <td>0.053157</td>\n",
       "      <td>0.479019</td>\n",
       "      <td>2.048336</td>\n",
       "      <td>0.984552</td>\n",
       "      <td>-0.090767</td>\n",
       "      <td>0.053451</td>\n",
       "      <td>-0.614035</td>\n",
       "      <td>1.304292</td>\n",
       "      <td>...</td>\n",
       "      <td>-0.280231</td>\n",
       "      <td>-0.892308</td>\n",
       "      <td>-0.522105</td>\n",
       "      <td>-0.358232</td>\n",
       "      <td>1.690968</td>\n",
       "      <td>0.049799</td>\n",
       "      <td>-0.633466</td>\n",
       "      <td>-0.812035</td>\n",
       "      <td>0.901284</td>\n",
       "      <td>2.461845</td>\n",
       "    </tr>\n",
       "  </tbody>\n",
       "</table>\n",
       "<p>5 rows × 50 columns</p>\n",
       "</div>"
      ],
      "text/plain": [
       "                             PCA1      PCA2      PCA3      PCA4      PCA5  \\\n",
       "100001_raw-Food_weight   0.373237 -0.155188 -1.554390 -0.103733 -1.807074   \n",
       "100002_raw-Energy        1.384398  0.511267 -0.273603 -0.074591 -1.151167   \n",
       "100003_raw-Protein      -1.247583  2.905641 -1.524196  0.683773  0.766860   \n",
       "100004_raw-Fat          -0.695167  0.046286  0.730428  0.240547  1.621534   \n",
       "100005_raw-Carbohydrate  0.770055 -0.499034  0.053157  0.479019  2.048336   \n",
       "\n",
       "                             PCA6      PCA7      PCA8      PCA9     PCA10  \\\n",
       "100001_raw-Food_weight  -0.957108  0.330335  0.638391  0.905023 -0.704551   \n",
       "100002_raw-Energy       -0.069438  1.242634 -0.439543  0.650348  2.456117   \n",
       "100003_raw-Protein      -2.478057 -0.201110  1.045590 -0.844712  2.426349   \n",
       "100004_raw-Fat          -1.335187 -1.510894  1.790966 -0.682884 -1.572835   \n",
       "100005_raw-Carbohydrate  0.984552 -0.090767  0.053451 -0.614035  1.304292   \n",
       "\n",
       "                         ...     PCA41     PCA42     PCA43     PCA44  \\\n",
       "100001_raw-Food_weight   ...  0.161732  0.488682  0.761158  0.667089   \n",
       "100002_raw-Energy        ...  0.051967  0.993820 -0.166350  1.497041   \n",
       "100003_raw-Protein       ...  0.027646 -1.903636 -0.819195  0.616887   \n",
       "100004_raw-Fat           ... -2.997557 -0.489466  0.442809  1.217098   \n",
       "100005_raw-Carbohydrate  ... -0.280231 -0.892308 -0.522105 -0.358232   \n",
       "\n",
       "                            PCA45     PCA46     PCA47     PCA48     PCA49  \\\n",
       "100001_raw-Food_weight  -0.078934  0.840971 -0.622958  1.075964  3.244039   \n",
       "100002_raw-Energy       -0.875754  2.632726  0.613299  0.041232  4.032974   \n",
       "100003_raw-Protein      -0.647462  0.170956  2.106036 -2.186258  0.485333   \n",
       "100004_raw-Fat          -1.604667 -0.776865 -0.983076  0.080423  2.476131   \n",
       "100005_raw-Carbohydrate  1.690968  0.049799 -0.633466 -0.812035  0.901284   \n",
       "\n",
       "                            PCA50  \n",
       "100001_raw-Food_weight  -0.933407  \n",
       "100002_raw-Energy       -0.230092  \n",
       "100003_raw-Protein      -1.136366  \n",
       "100004_raw-Fat           0.431179  \n",
       "100005_raw-Carbohydrate  2.461845  \n",
       "\n",
       "[5 rows x 50 columns]"
      ]
     },
     "execution_count": 16,
     "metadata": {},
     "output_type": "execute_result"
    }
   ],
   "source": [
    "data.head()"
   ]
  },
  {
   "cell_type": "code",
   "execution_count": 17,
   "id": "281e0668",
   "metadata": {
    "execution": {
     "iopub.execute_input": "2022-11-26T00:38:39.240040Z",
     "iopub.status.busy": "2022-11-26T00:38:39.239741Z",
     "iopub.status.idle": "2022-11-26T00:38:39.258970Z",
     "shell.execute_reply": "2022-11-26T00:38:39.258567Z"
    },
    "papermill": {
     "duration": 0.030423,
     "end_time": "2022-11-26T00:38:39.260199",
     "exception": false,
     "start_time": "2022-11-26T00:38:39.229776",
     "status": "completed"
    },
    "tags": []
   },
   "outputs": [],
   "source": [
    "assert not data.isna().any().any()"
   ]
  },
  {
   "cell_type": "markdown",
   "id": "1151daad",
   "metadata": {
    "papermill": {
     "duration": 0.009649,
     "end_time": "2022-11-26T00:38:39.279814",
     "exception": false,
     "start_time": "2022-11-26T00:38:39.270165",
     "status": "completed"
    },
    "tags": []
   },
   "source": [
    "## Clustering"
   ]
  },
  {
   "cell_type": "markdown",
   "id": "be317922",
   "metadata": {
    "papermill": {
     "duration": 0.009767,
     "end_time": "2022-11-26T00:38:39.298780",
     "exception": false,
     "start_time": "2022-11-26T00:38:39.289013",
     "status": "completed"
    },
    "tags": []
   },
   "source": [
    "### Generate clusterers"
   ]
  },
  {
   "cell_type": "code",
   "execution_count": 18,
   "id": "e7fb55aa",
   "metadata": {
    "execution": {
     "iopub.execute_input": "2022-11-26T00:38:39.319868Z",
     "iopub.status.busy": "2022-11-26T00:38:39.319575Z",
     "iopub.status.idle": "2022-11-26T00:38:39.347177Z",
     "shell.execute_reply": "2022-11-26T00:38:39.346805Z"
    },
    "papermill": {
     "duration": 0.038321,
     "end_time": "2022-11-26T00:38:39.347892",
     "exception": false,
     "start_time": "2022-11-26T00:38:39.309571",
     "status": "completed"
    },
    "tags": []
   },
   "outputs": [
    {
     "data": {
      "text/plain": [
       "{'K_RANGE': array([  2,   3,   4,   5,   6,   7,   8,   9,  10,  11,  12,  13,  14,\n",
       "         15,  16,  17,  18,  19,  20,  21,  22,  23,  24,  25,  26,  27,\n",
       "         28,  29,  30,  31,  32,  33,  34,  35,  36,  37,  38,  39,  40,\n",
       "         41,  42,  43,  44,  45,  46,  47,  48,  49,  50,  51,  52,  53,\n",
       "         54,  55,  56,  57,  58,  59,  60,  61,  62,  63,  64,  65,  66,\n",
       "         67,  68,  69,  70,  71,  72,  73,  74,  75,  76,  77,  78,  79,\n",
       "         80,  81,  82,  83,  84,  85,  86,  87,  88,  89,  90,  91,  92,\n",
       "         93,  94,  95,  96,  97,  98,  99, 100, 101, 102, 103, 104, 105,\n",
       "        106, 107, 108, 109, 110, 111, 112, 113, 114, 115, 116, 117, 118,\n",
       "        119, 120, 121, 122, 123, 124, 125]),\n",
       " 'EPS_RANGE_PER_K': {2: (10, 20),\n",
       "  3: (10, 20),\n",
       "  4: (10, 20),\n",
       "  5: (11, 25),\n",
       "  6: (11, 25),\n",
       "  7: (11, 25),\n",
       "  8: (11, 25),\n",
       "  9: (11, 25),\n",
       "  10: (12, 30),\n",
       "  11: (12, 30),\n",
       "  12: (12, 30),\n",
       "  13: (12, 30),\n",
       "  14: (12, 30),\n",
       "  15: (13, 35),\n",
       "  16: (13, 35),\n",
       "  17: (13, 35),\n",
       "  18: (13, 35),\n",
       "  19: (13, 35),\n",
       "  20: (14, 40),\n",
       "  21: (14, 40),\n",
       "  22: (14, 40),\n",
       "  23: (14, 40),\n",
       "  24: (14, 40),\n",
       "  25: (14, 40),\n",
       "  26: (14, 40),\n",
       "  27: (14, 40),\n",
       "  28: (14, 40),\n",
       "  29: (14, 40),\n",
       "  30: (14, 40),\n",
       "  31: (14, 40),\n",
       "  32: (14, 40),\n",
       "  33: (14, 40),\n",
       "  34: (14, 40),\n",
       "  35: (14, 40),\n",
       "  36: (14, 40),\n",
       "  37: (14, 40),\n",
       "  38: (14, 40),\n",
       "  39: (14, 40),\n",
       "  40: (14, 40),\n",
       "  41: (14, 40),\n",
       "  42: (14, 40),\n",
       "  43: (14, 40),\n",
       "  44: (14, 40),\n",
       "  45: (14, 40),\n",
       "  46: (14, 40),\n",
       "  47: (14, 40),\n",
       "  48: (14, 40),\n",
       "  49: (14, 40),\n",
       "  50: (14, 40),\n",
       "  51: (14, 40),\n",
       "  52: (14, 40),\n",
       "  53: (14, 40),\n",
       "  54: (14, 40),\n",
       "  55: (14, 40),\n",
       "  56: (14, 40),\n",
       "  57: (14, 40),\n",
       "  58: (14, 40),\n",
       "  59: (14, 40),\n",
       "  60: (14, 40),\n",
       "  61: (14, 40),\n",
       "  62: (14, 40),\n",
       "  63: (14, 40),\n",
       "  64: (14, 40),\n",
       "  65: (14, 40),\n",
       "  66: (14, 40),\n",
       "  67: (14, 40),\n",
       "  68: (14, 40),\n",
       "  69: (14, 40),\n",
       "  70: (14, 40),\n",
       "  71: (14, 40),\n",
       "  72: (14, 40),\n",
       "  73: (14, 40),\n",
       "  74: (14, 40),\n",
       "  75: (14, 40),\n",
       "  76: (14, 40),\n",
       "  77: (14, 40),\n",
       "  78: (14, 40),\n",
       "  79: (14, 40),\n",
       "  80: (14, 40),\n",
       "  81: (14, 40),\n",
       "  82: (14, 40),\n",
       "  83: (14, 40),\n",
       "  84: (14, 40),\n",
       "  85: (14, 40),\n",
       "  86: (14, 40),\n",
       "  87: (14, 40),\n",
       "  88: (14, 40),\n",
       "  89: (14, 40),\n",
       "  90: (14, 40),\n",
       "  91: (14, 40),\n",
       "  92: (14, 40),\n",
       "  93: (14, 40),\n",
       "  94: (14, 40),\n",
       "  95: (14, 40),\n",
       "  96: (14, 40),\n",
       "  97: (14, 40),\n",
       "  98: (14, 40),\n",
       "  99: (14, 40),\n",
       "  100: (14, 40),\n",
       "  101: (14, 40),\n",
       "  102: (14, 40),\n",
       "  103: (14, 40),\n",
       "  104: (14, 40),\n",
       "  105: (14, 40),\n",
       "  106: (14, 40),\n",
       "  107: (14, 40),\n",
       "  108: (14, 40),\n",
       "  109: (14, 40),\n",
       "  110: (14, 40),\n",
       "  111: (14, 40),\n",
       "  112: (14, 40),\n",
       "  113: (14, 40),\n",
       "  114: (14, 40),\n",
       "  115: (14, 40),\n",
       "  116: (14, 40),\n",
       "  117: (14, 40),\n",
       "  118: (14, 40),\n",
       "  119: (14, 40),\n",
       "  120: (14, 40),\n",
       "  121: (14, 40),\n",
       "  122: (14, 40),\n",
       "  123: (14, 40),\n",
       "  124: (14, 40),\n",
       "  125: (14, 40)},\n",
       " 'EPS_STEP': 33,\n",
       " 'METRIC': 'euclidean'}"
      ]
     },
     "metadata": {},
     "output_type": "display_data"
    }
   ],
   "source": [
    "CLUSTERING_OPTIONS = {}\n",
    "\n",
    "# K_RANGE is the min_samples parameter in DBSCAN (sklearn)\n",
    "CLUSTERING_OPTIONS[\"K_RANGE\"] = k_values\n",
    "CLUSTERING_OPTIONS[\"EPS_RANGE_PER_K\"] = eps_range_per_k\n",
    "CLUSTERING_OPTIONS[\"EPS_STEP\"] = 33\n",
    "CLUSTERING_OPTIONS[\"METRIC\"] = \"euclidean\"\n",
    "\n",
    "display(CLUSTERING_OPTIONS)"
   ]
  },
  {
   "cell_type": "code",
   "execution_count": 19,
   "id": "215059b1",
   "metadata": {
    "execution": {
     "iopub.execute_input": "2022-11-26T00:38:39.358227Z",
     "iopub.status.busy": "2022-11-26T00:38:39.357945Z",
     "iopub.status.idle": "2022-11-26T00:38:39.400783Z",
     "shell.execute_reply": "2022-11-26T00:38:39.400347Z"
    },
    "papermill": {
     "duration": 0.048972,
     "end_time": "2022-11-26T00:38:39.401676",
     "exception": false,
     "start_time": "2022-11-26T00:38:39.352704",
     "status": "completed"
    },
    "tags": []
   },
   "outputs": [],
   "source": [
    "CLUSTERERS = {}\n",
    "\n",
    "idx = 0\n",
    "\n",
    "for k in CLUSTERING_OPTIONS[\"K_RANGE\"]:\n",
    "    eps_range = CLUSTERING_OPTIONS[\"EPS_RANGE_PER_K\"][k]\n",
    "    eps_values = np.linspace(eps_range[0], eps_range[1], CLUSTERING_OPTIONS[\"EPS_STEP\"])\n",
    "\n",
    "    for eps in eps_values:\n",
    "        clus = DBSCAN(min_samples=k, eps=eps, metric=\"precomputed\", n_jobs=N_JOBS)\n",
    "\n",
    "        method_name = type(clus).__name__\n",
    "        CLUSTERERS[f\"{method_name} #{idx}\"] = clus\n",
    "\n",
    "        idx = idx + 1"
   ]
  },
  {
   "cell_type": "code",
   "execution_count": 20,
   "id": "41fecacf",
   "metadata": {
    "execution": {
     "iopub.execute_input": "2022-11-26T00:38:39.412819Z",
     "iopub.status.busy": "2022-11-26T00:38:39.412469Z",
     "iopub.status.idle": "2022-11-26T00:38:39.431726Z",
     "shell.execute_reply": "2022-11-26T00:38:39.431359Z"
    },
    "papermill": {
     "duration": 0.025282,
     "end_time": "2022-11-26T00:38:39.432436",
     "exception": false,
     "start_time": "2022-11-26T00:38:39.407154",
     "status": "completed"
    },
    "tags": []
   },
   "outputs": [
    {
     "data": {
      "text/plain": [
       "4092"
      ]
     },
     "metadata": {},
     "output_type": "display_data"
    }
   ],
   "source": [
    "display(len(CLUSTERERS))"
   ]
  },
  {
   "cell_type": "code",
   "execution_count": 21,
   "id": "1ca2bd25",
   "metadata": {
    "execution": {
     "iopub.execute_input": "2022-11-26T00:38:39.443069Z",
     "iopub.status.busy": "2022-11-26T00:38:39.442808Z",
     "iopub.status.idle": "2022-11-26T00:38:39.463006Z",
     "shell.execute_reply": "2022-11-26T00:38:39.462642Z"
    },
    "papermill": {
     "duration": 0.026487,
     "end_time": "2022-11-26T00:38:39.463751",
     "exception": false,
     "start_time": "2022-11-26T00:38:39.437264",
     "status": "completed"
    },
    "tags": []
   },
   "outputs": [
    {
     "data": {
      "text/plain": [
       "('DBSCAN #0', DBSCAN(eps=10.0, metric='precomputed', min_samples=2, n_jobs=10))"
      ]
     },
     "metadata": {},
     "output_type": "display_data"
    },
    {
     "data": {
      "text/plain": [
       "('DBSCAN #1',\n",
       " DBSCAN(eps=10.3125, metric='precomputed', min_samples=2, n_jobs=10))"
      ]
     },
     "metadata": {},
     "output_type": "display_data"
    }
   ],
   "source": [
    "_iter = iter(CLUSTERERS.items())\n",
    "display(next(_iter))\n",
    "display(next(_iter))"
   ]
  },
  {
   "cell_type": "code",
   "execution_count": 22,
   "id": "933bfb2e",
   "metadata": {
    "execution": {
     "iopub.execute_input": "2022-11-26T00:38:39.474514Z",
     "iopub.status.busy": "2022-11-26T00:38:39.474259Z",
     "iopub.status.idle": "2022-11-26T00:38:39.492866Z",
     "shell.execute_reply": "2022-11-26T00:38:39.492398Z"
    },
    "papermill": {
     "duration": 0.024907,
     "end_time": "2022-11-26T00:38:39.493660",
     "exception": false,
     "start_time": "2022-11-26T00:38:39.468753",
     "status": "completed"
    },
    "tags": []
   },
   "outputs": [
    {
     "data": {
      "text/plain": [
       "'DBSCAN'"
      ]
     },
     "metadata": {},
     "output_type": "display_data"
    }
   ],
   "source": [
    "clustering_method_name = method_name\n",
    "display(clustering_method_name)"
   ]
  },
  {
   "cell_type": "markdown",
   "id": "46618e8d",
   "metadata": {
    "papermill": {
     "duration": 0.005157,
     "end_time": "2022-11-26T00:38:39.503844",
     "exception": false,
     "start_time": "2022-11-26T00:38:39.498687",
     "status": "completed"
    },
    "tags": []
   },
   "source": [
    "### Generate ensemble"
   ]
  },
  {
   "cell_type": "code",
   "execution_count": 23,
   "id": "60660b30",
   "metadata": {
    "execution": {
     "iopub.execute_input": "2022-11-26T00:38:39.514612Z",
     "iopub.status.busy": "2022-11-26T00:38:39.514368Z",
     "iopub.status.idle": "2022-11-26T00:38:39.627736Z",
     "shell.execute_reply": "2022-11-26T00:38:39.627307Z"
    },
    "papermill": {
     "duration": 0.120384,
     "end_time": "2022-11-26T00:38:39.629271",
     "exception": false,
     "start_time": "2022-11-26T00:38:39.508887",
     "status": "completed"
    },
    "tags": []
   },
   "outputs": [],
   "source": [
    "data_dist = pairwise_distances(data, metric=CLUSTERING_OPTIONS[\"METRIC\"])"
   ]
  },
  {
   "cell_type": "code",
   "execution_count": 24,
   "id": "e1b802a3",
   "metadata": {
    "execution": {
     "iopub.execute_input": "2022-11-26T00:38:39.651396Z",
     "iopub.status.busy": "2022-11-26T00:38:39.651234Z",
     "iopub.status.idle": "2022-11-26T00:38:39.663662Z",
     "shell.execute_reply": "2022-11-26T00:38:39.663336Z"
    },
    "papermill": {
     "duration": 0.024263,
     "end_time": "2022-11-26T00:38:39.664886",
     "exception": false,
     "start_time": "2022-11-26T00:38:39.640623",
     "status": "completed"
    },
    "tags": []
   },
   "outputs": [
    {
     "data": {
      "text/plain": [
       "(3752, 3752)"
      ]
     },
     "execution_count": 24,
     "metadata": {},
     "output_type": "execute_result"
    }
   ],
   "source": [
    "data_dist.shape"
   ]
  },
  {
   "cell_type": "code",
   "execution_count": 25,
   "id": "08a2b671",
   "metadata": {
    "execution": {
     "iopub.execute_input": "2022-11-26T00:38:39.687431Z",
     "iopub.status.busy": "2022-11-26T00:38:39.687106Z",
     "iopub.status.idle": "2022-11-26T00:38:40.154502Z",
     "shell.execute_reply": "2022-11-26T00:38:40.154139Z"
    },
    "papermill": {
     "duration": 0.480679,
     "end_time": "2022-11-26T00:38:40.155852",
     "exception": false,
     "start_time": "2022-11-26T00:38:39.675173",
     "status": "completed"
    },
    "tags": []
   },
   "outputs": [
    {
     "data": {
      "text/plain": [
       "count            14077504.0\n",
       "mean     14.210400512875133\n",
       "std      3.7431499846458824\n",
       "min                     0.0\n",
       "25%      12.590219844612502\n",
       "50%      13.663326910678162\n",
       "75%      14.819153120142502\n",
       "max        78.5971223232246\n",
       "dtype: object"
      ]
     },
     "execution_count": 25,
     "metadata": {},
     "output_type": "execute_result"
    }
   ],
   "source": [
    "pd.Series(data_dist.flatten()).describe().apply(str)"
   ]
  },
  {
   "cell_type": "code",
   "execution_count": 26,
   "id": "183513e3",
   "metadata": {
    "execution": {
     "iopub.execute_input": "2022-11-26T00:38:40.177514Z",
     "iopub.status.busy": "2022-11-26T00:38:40.177416Z",
     "iopub.status.idle": "2022-11-26T00:49:00.963258Z",
     "shell.execute_reply": "2022-11-26T00:49:00.962967Z"
    },
    "papermill": {
     "duration": 620.798009,
     "end_time": "2022-11-26T00:49:00.964575",
     "exception": false,
     "start_time": "2022-11-26T00:38:40.166566",
     "status": "completed"
    },
    "tags": []
   },
   "outputs": [
    {
     "name": "stderr",
     "output_type": "stream",
     "text": [
      "100%|██████████| 4092/4092 [10:20<00:00,  6.59it/s]\n"
     ]
    }
   ],
   "source": [
    "ensemble = generate_ensemble(\n",
    "    data_dist,\n",
    "    CLUSTERERS,\n",
    "    attributes=CLUSTERING_ATTRIBUTES_TO_SAVE,\n",
    ")"
   ]
  },
  {
   "cell_type": "code",
   "execution_count": 27,
   "id": "4cab4b7d",
   "metadata": {
    "execution": {
     "iopub.execute_input": "2022-11-26T00:49:01.217749Z",
     "iopub.status.busy": "2022-11-26T00:49:01.217463Z",
     "iopub.status.idle": "2022-11-26T00:49:01.237030Z",
     "shell.execute_reply": "2022-11-26T00:49:01.236656Z"
    },
    "papermill": {
     "duration": 0.128124,
     "end_time": "2022-11-26T00:49:01.237794",
     "exception": false,
     "start_time": "2022-11-26T00:49:01.109670",
     "status": "completed"
    },
    "tags": []
   },
   "outputs": [
    {
     "data": {
      "text/plain": [
       "(1, 3)"
      ]
     },
     "execution_count": 27,
     "metadata": {},
     "output_type": "execute_result"
    }
   ],
   "source": [
    "ensemble.shape"
   ]
  },
  {
   "cell_type": "code",
   "execution_count": 28,
   "id": "3a7de57b",
   "metadata": {
    "execution": {
     "iopub.execute_input": "2022-11-26T00:49:01.451645Z",
     "iopub.status.busy": "2022-11-26T00:49:01.451369Z",
     "iopub.status.idle": "2022-11-26T00:49:01.474585Z",
     "shell.execute_reply": "2022-11-26T00:49:01.474210Z"
    },
    "papermill": {
     "duration": 0.131192,
     "end_time": "2022-11-26T00:49:01.475320",
     "exception": false,
     "start_time": "2022-11-26T00:49:01.344128",
     "status": "completed"
    },
    "tags": []
   },
   "outputs": [
    {
     "data": {
      "text/html": [
       "<div>\n",
       "<style scoped>\n",
       "    .dataframe tbody tr th:only-of-type {\n",
       "        vertical-align: middle;\n",
       "    }\n",
       "\n",
       "    .dataframe tbody tr th {\n",
       "        vertical-align: top;\n",
       "    }\n",
       "\n",
       "    .dataframe thead th {\n",
       "        text-align: right;\n",
       "    }\n",
       "</style>\n",
       "<table border=\"1\" class=\"dataframe\">\n",
       "  <thead>\n",
       "    <tr style=\"text-align: right;\">\n",
       "      <th></th>\n",
       "      <th>clusterer_params</th>\n",
       "      <th>partition</th>\n",
       "      <th>n_clusters</th>\n",
       "    </tr>\n",
       "    <tr>\n",
       "      <th>clusterer_id</th>\n",
       "      <th></th>\n",
       "      <th></th>\n",
       "      <th></th>\n",
       "    </tr>\n",
       "  </thead>\n",
       "  <tbody>\n",
       "    <tr>\n",
       "      <th>DBSCAN #0</th>\n",
       "      <td>{'algorithm': 'auto', 'eps': 10.0, 'leaf_size'...</td>\n",
       "      <td>[0.0, 0.0, 0.0, 0.0, 0.0, 0.0, 0.0, 0.0, 0.0, ...</td>\n",
       "      <td>2</td>\n",
       "    </tr>\n",
       "  </tbody>\n",
       "</table>\n",
       "</div>"
      ],
      "text/plain": [
       "                                               clusterer_params  \\\n",
       "clusterer_id                                                      \n",
       "DBSCAN #0     {'algorithm': 'auto', 'eps': 10.0, 'leaf_size'...   \n",
       "\n",
       "                                                      partition  n_clusters  \n",
       "clusterer_id                                                                 \n",
       "DBSCAN #0     [0.0, 0.0, 0.0, 0.0, 0.0, 0.0, 0.0, 0.0, 0.0, ...           2  "
      ]
     },
     "execution_count": 28,
     "metadata": {},
     "output_type": "execute_result"
    }
   ],
   "source": [
    "ensemble.head()"
   ]
  },
  {
   "cell_type": "code",
   "execution_count": 29,
   "id": "e23a2583",
   "metadata": {
    "execution": {
     "iopub.execute_input": "2022-11-26T00:49:01.709822Z",
     "iopub.status.busy": "2022-11-26T00:49:01.709481Z",
     "iopub.status.idle": "2022-11-26T00:49:01.729613Z",
     "shell.execute_reply": "2022-11-26T00:49:01.729242Z"
    },
    "papermill": {
     "duration": 0.148185,
     "end_time": "2022-11-26T00:49:01.730366",
     "exception": false,
     "start_time": "2022-11-26T00:49:01.582181",
     "status": "completed"
    },
    "tags": []
   },
   "outputs": [
    {
     "data": {
      "text/plain": [
       "2    1\n",
       "Name: n_clusters, dtype: int64"
      ]
     },
     "execution_count": 29,
     "metadata": {},
     "output_type": "execute_result"
    }
   ],
   "source": [
    "ensemble[\"n_clusters\"].value_counts().head()"
   ]
  },
  {
   "cell_type": "code",
   "execution_count": 30,
   "id": "ef6a6969",
   "metadata": {
    "execution": {
     "iopub.execute_input": "2022-11-26T00:49:01.945543Z",
     "iopub.status.busy": "2022-11-26T00:49:01.945271Z",
     "iopub.status.idle": "2022-11-26T00:49:01.966627Z",
     "shell.execute_reply": "2022-11-26T00:49:01.966253Z"
    },
    "papermill": {
     "duration": 0.129499,
     "end_time": "2022-11-26T00:49:01.967393",
     "exception": false,
     "start_time": "2022-11-26T00:49:01.837894",
     "status": "completed"
    },
    "tags": []
   },
   "outputs": [
    {
     "data": {
      "text/plain": [
       "count    1.0\n",
       "mean     2.0\n",
       "std      NaN\n",
       "min      2.0\n",
       "25%      2.0\n",
       "50%      2.0\n",
       "75%      2.0\n",
       "max      2.0\n",
       "Name: n_clusters, dtype: float64"
      ]
     },
     "metadata": {},
     "output_type": "display_data"
    }
   ],
   "source": [
    "ensemble_stats = ensemble[\"n_clusters\"].describe()\n",
    "display(ensemble_stats)"
   ]
  },
  {
   "cell_type": "code",
   "execution_count": 31,
   "id": "572f8940",
   "metadata": {
    "execution": {
     "iopub.execute_input": "2022-11-26T00:49:02.181792Z",
     "iopub.status.busy": "2022-11-26T00:49:02.181452Z",
     "iopub.status.idle": "2022-11-26T00:49:02.199543Z",
     "shell.execute_reply": "2022-11-26T00:49:02.199164Z"
    },
    "papermill": {
     "duration": 0.125787,
     "end_time": "2022-11-26T00:49:02.200368",
     "exception": false,
     "start_time": "2022-11-26T00:49:02.074581",
     "status": "completed"
    },
    "tags": []
   },
   "outputs": [],
   "source": [
    "assert (\n",
    "    ensemble.shape[0] > 0\n",
    "), \"Ensemble is empty, stopping here (this is not actually an error if running null simulations)\""
   ]
  },
  {
   "cell_type": "markdown",
   "id": "52c416fb",
   "metadata": {
    "papermill": {
     "duration": 0.106101,
     "end_time": "2022-11-26T00:49:02.433726",
     "exception": false,
     "start_time": "2022-11-26T00:49:02.327625",
     "status": "completed"
    },
    "tags": []
   },
   "source": [
    "### Testing"
   ]
  },
  {
   "cell_type": "code",
   "execution_count": 32,
   "id": "1b683f7d",
   "metadata": {
    "execution": {
     "iopub.execute_input": "2022-11-26T00:49:02.647717Z",
     "iopub.status.busy": "2022-11-26T00:49:02.647327Z",
     "iopub.status.idle": "2022-11-26T00:49:02.665381Z",
     "shell.execute_reply": "2022-11-26T00:49:02.664996Z"
    },
    "papermill": {
     "duration": 0.125622,
     "end_time": "2022-11-26T00:49:02.666115",
     "exception": false,
     "start_time": "2022-11-26T00:49:02.540493",
     "status": "completed"
    },
    "tags": []
   },
   "outputs": [],
   "source": [
    "assert ensemble_stats[\"min\"] > 1"
   ]
  },
  {
   "cell_type": "code",
   "execution_count": 33,
   "id": "a633efef",
   "metadata": {
    "execution": {
     "iopub.execute_input": "2022-11-26T00:49:02.879568Z",
     "iopub.status.busy": "2022-11-26T00:49:02.879195Z",
     "iopub.status.idle": "2022-11-26T00:49:02.897884Z",
     "shell.execute_reply": "2022-11-26T00:49:02.897495Z"
    },
    "papermill": {
     "duration": 0.1261,
     "end_time": "2022-11-26T00:49:02.898619",
     "exception": false,
     "start_time": "2022-11-26T00:49:02.772519",
     "status": "completed"
    },
    "tags": []
   },
   "outputs": [],
   "source": [
    "assert not ensemble[\"n_clusters\"].isna().any()"
   ]
  },
  {
   "cell_type": "code",
   "execution_count": 34,
   "id": "15957519",
   "metadata": {
    "execution": {
     "iopub.execute_input": "2022-11-26T00:49:03.133555Z",
     "iopub.status.busy": "2022-11-26T00:49:03.133173Z",
     "iopub.status.idle": "2022-11-26T00:49:03.151017Z",
     "shell.execute_reply": "2022-11-26T00:49:03.150637Z"
    },
    "papermill": {
     "duration": 0.125508,
     "end_time": "2022-11-26T00:49:03.151875",
     "exception": false,
     "start_time": "2022-11-26T00:49:03.026367",
     "status": "completed"
    },
    "tags": []
   },
   "outputs": [],
   "source": [
    "# assert ensemble.shape[0] == len(CLUSTERERS)"
   ]
  },
  {
   "cell_type": "code",
   "execution_count": 35,
   "id": "dddbbb82",
   "metadata": {
    "execution": {
     "iopub.execute_input": "2022-11-26T00:49:03.365643Z",
     "iopub.status.busy": "2022-11-26T00:49:03.365266Z",
     "iopub.status.idle": "2022-11-26T00:49:03.384635Z",
     "shell.execute_reply": "2022-11-26T00:49:03.384217Z"
    },
    "papermill": {
     "duration": 0.126948,
     "end_time": "2022-11-26T00:49:03.385412",
     "exception": false,
     "start_time": "2022-11-26T00:49:03.258464",
     "status": "completed"
    },
    "tags": []
   },
   "outputs": [],
   "source": [
    "# all partitions have the right size\n",
    "assert np.all(\n",
    "    [part[\"partition\"].shape[0] == data.shape[0] for idx, part in ensemble.iterrows()]\n",
    ")"
   ]
  },
  {
   "cell_type": "code",
   "execution_count": 36,
   "id": "5fd6233c",
   "metadata": {
    "execution": {
     "iopub.execute_input": "2022-11-26T00:49:03.599503Z",
     "iopub.status.busy": "2022-11-26T00:49:03.599130Z",
     "iopub.status.idle": "2022-11-26T00:49:03.618164Z",
     "shell.execute_reply": "2022-11-26T00:49:03.617780Z"
    },
    "papermill": {
     "duration": 0.12683,
     "end_time": "2022-11-26T00:49:03.618899",
     "exception": false,
     "start_time": "2022-11-26T00:49:03.492069",
     "status": "completed"
    },
    "tags": []
   },
   "outputs": [],
   "source": [
    "# no partition has negative clusters (noisy points)\n",
    "assert not np.any([(part[\"partition\"] < 0).any() for idx, part in ensemble.iterrows()])"
   ]
  },
  {
   "cell_type": "markdown",
   "id": "92be62a2",
   "metadata": {
    "papermill": {
     "duration": 0.127933,
     "end_time": "2022-11-26T00:49:03.854208",
     "exception": false,
     "start_time": "2022-11-26T00:49:03.726275",
     "status": "completed"
    },
    "tags": []
   },
   "source": [
    "### Save"
   ]
  },
  {
   "cell_type": "code",
   "execution_count": 37,
   "id": "aa126bc3",
   "metadata": {
    "execution": {
     "iopub.execute_input": "2022-11-26T00:49:04.067113Z",
     "iopub.status.busy": "2022-11-26T00:49:04.066962Z",
     "iopub.status.idle": "2022-11-26T00:49:04.086999Z",
     "shell.execute_reply": "2022-11-26T00:49:04.086636Z"
    },
    "papermill": {
     "duration": 0.127344,
     "end_time": "2022-11-26T00:49:04.087735",
     "exception": false,
     "start_time": "2022-11-26T00:49:03.960391",
     "status": "completed"
    },
    "tags": []
   },
   "outputs": [
    {
     "data": {
      "text/plain": [
       "PosixPath('/opt/data/results/clustering/null_sims/shuffle_lvs/runs/pca-z_score_std-projection-smultixcan-efo_partial-mashr-zscores/DBSCAN.pkl')"
      ]
     },
     "metadata": {},
     "output_type": "display_data"
    }
   ],
   "source": [
    "output_filename = Path(\n",
    "    RESULTS_DIR,\n",
    "    generate_result_set_name(\n",
    "        {},\n",
    "        #         CLUSTERING_OPTIONS,\n",
    "        prefix=f\"{clustering_method_name}\",\n",
    "        suffix=\".pkl\",\n",
    "    ),\n",
    ").resolve()\n",
    "display(output_filename)"
   ]
  },
  {
   "cell_type": "code",
   "execution_count": 38,
   "id": "91116287",
   "metadata": {
    "execution": {
     "iopub.execute_input": "2022-11-26T00:49:04.301526Z",
     "iopub.status.busy": "2022-11-26T00:49:04.301381Z",
     "iopub.status.idle": "2022-11-26T00:49:04.319838Z",
     "shell.execute_reply": "2022-11-26T00:49:04.319458Z"
    },
    "papermill": {
     "duration": 0.126103,
     "end_time": "2022-11-26T00:49:04.320587",
     "exception": false,
     "start_time": "2022-11-26T00:49:04.194484",
     "status": "completed"
    },
    "tags": []
   },
   "outputs": [],
   "source": [
    "ensemble.to_pickle(output_filename)"
   ]
  },
  {
   "cell_type": "code",
   "execution_count": null,
   "id": "fdaba467",
   "metadata": {
    "papermill": {
     "duration": 0.127652,
     "end_time": "2022-11-26T00:49:04.555549",
     "exception": false,
     "start_time": "2022-11-26T00:49:04.427897",
     "status": "completed"
    },
    "tags": []
   },
   "outputs": [],
   "source": []
  }
 ],
 "metadata": {
  "jupytext": {
   "cell_metadata_filter": "all,-execution,-papermill,-trusted",
   "formats": "ipynb,py//py:percent"
  },
  "kernelspec": {
   "display_name": "Python 3 (ipykernel)",
   "language": "python",
   "name": "python3"
  },
  "language_info": {
   "codemirror_mode": {
    "name": "ipython",
    "version": 3
   },
   "file_extension": ".py",
   "mimetype": "text/x-python",
   "name": "python",
   "nbconvert_exporter": "python",
   "pygments_lexer": "ipython3",
   "version": "3.8.13"
  },
  "papermill": {
   "default_parameters": {},
   "duration": 627.797759,
   "end_time": "2022-11-26T00:49:04.978640",
   "environment_variables": {},
   "exception": null,
   "input_path": "nbs/13.1_cluster_analysis_null/05-shuffle_lvs/12_01-dbscan-pca.ipynb",
   "output_path": "nbs/13.1_cluster_analysis_null/05-shuffle_lvs/12_01-dbscan-pca.run.ipynb",
   "parameters": {},
   "start_time": "2022-11-26T00:38:37.180881",
   "version": "2.2.2"
  },
  "toc-autonumbering": true,
  "toc-showcode": false,
  "toc-showmarkdowntxt": false,
  "toc-showtags": false
 },
 "nbformat": 4,
 "nbformat_minor": 5
}
