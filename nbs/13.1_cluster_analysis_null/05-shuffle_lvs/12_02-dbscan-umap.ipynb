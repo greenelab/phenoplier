{
 "cells": [
  {
   "cell_type": "markdown",
   "id": "80589afc",
   "metadata": {
    "papermill": {
     "duration": 0.00912,
     "end_time": "2022-11-26T03:08:54.080447",
     "exception": false,
     "start_time": "2022-11-26T03:08:54.071327",
     "status": "completed"
    },
    "tags": []
   },
   "source": [
    "# Description"
   ]
  },
  {
   "cell_type": "markdown",
   "id": "f6fbffad",
   "metadata": {
    "papermill": {
     "duration": 0.008045,
     "end_time": "2022-11-26T03:08:54.098000",
     "exception": false,
     "start_time": "2022-11-26T03:08:54.089955",
     "status": "completed"
    },
    "tags": []
   },
   "source": [
    "It runs DBSCAN on the `umap` version of the data.\n",
    "\n",
    "The notebook explores different values for `min_samples` and `eps` (the main parameters of DBSCAN)."
   ]
  },
  {
   "cell_type": "markdown",
   "id": "cf697dfd",
   "metadata": {
    "papermill": {
     "duration": 0.008765,
     "end_time": "2022-11-26T03:08:54.114986",
     "exception": false,
     "start_time": "2022-11-26T03:08:54.106221",
     "status": "completed"
    },
    "tags": []
   },
   "source": [
    "# Environment variables"
   ]
  },
  {
   "cell_type": "code",
   "execution_count": 1,
   "id": "b38f0174",
   "metadata": {
    "execution": {
     "iopub.execute_input": "2022-11-26T03:08:54.132389Z",
     "iopub.status.busy": "2022-11-26T03:08:54.132102Z",
     "iopub.status.idle": "2022-11-26T03:08:54.150310Z",
     "shell.execute_reply": "2022-11-26T03:08:54.149868Z"
    },
    "papermill": {
     "duration": 0.028519,
     "end_time": "2022-11-26T03:08:54.151713",
     "exception": false,
     "start_time": "2022-11-26T03:08:54.123194",
     "status": "completed"
    },
    "tags": []
   },
   "outputs": [
    {
     "data": {
      "text/plain": [
       "10"
      ]
     },
     "metadata": {},
     "output_type": "display_data"
    }
   ],
   "source": [
    "from IPython.display import display\n",
    "\n",
    "import conf\n",
    "\n",
    "N_JOBS = conf.GENERAL[\"N_JOBS\"]\n",
    "display(N_JOBS)"
   ]
  },
  {
   "cell_type": "code",
   "execution_count": 2,
   "id": "4d043e0e",
   "metadata": {
    "execution": {
     "iopub.execute_input": "2022-11-26T03:08:54.169330Z",
     "iopub.status.busy": "2022-11-26T03:08:54.169028Z",
     "iopub.status.idle": "2022-11-26T03:08:54.174921Z",
     "shell.execute_reply": "2022-11-26T03:08:54.174448Z"
    },
    "papermill": {
     "duration": 0.01605,
     "end_time": "2022-11-26T03:08:54.176222",
     "exception": false,
     "start_time": "2022-11-26T03:08:54.160172",
     "status": "completed"
    },
    "tags": []
   },
   "outputs": [
    {
     "name": "stdout",
     "output_type": "stream",
     "text": [
      "env: MKL_NUM_THREADS=10\n",
      "env: OPEN_BLAS_NUM_THREADS=10\n",
      "env: NUMEXPR_NUM_THREADS=10\n",
      "env: OMP_NUM_THREADS=10\n"
     ]
    }
   ],
   "source": [
    "%env MKL_NUM_THREADS=$N_JOBS\n",
    "%env OPEN_BLAS_NUM_THREADS=$N_JOBS\n",
    "%env NUMEXPR_NUM_THREADS=$N_JOBS\n",
    "%env OMP_NUM_THREADS=$N_JOBS"
   ]
  },
  {
   "cell_type": "markdown",
   "id": "fc1eccf7",
   "metadata": {
    "papermill": {
     "duration": 0.008264,
     "end_time": "2022-11-26T03:08:54.193448",
     "exception": false,
     "start_time": "2022-11-26T03:08:54.185184",
     "status": "completed"
    },
    "tags": []
   },
   "source": [
    "# Modules loading"
   ]
  },
  {
   "cell_type": "code",
   "execution_count": 3,
   "id": "1717be8c",
   "metadata": {
    "execution": {
     "iopub.execute_input": "2022-11-26T03:08:54.210873Z",
     "iopub.status.busy": "2022-11-26T03:08:54.210536Z",
     "iopub.status.idle": "2022-11-26T03:08:54.223352Z",
     "shell.execute_reply": "2022-11-26T03:08:54.222885Z"
    },
    "papermill": {
     "duration": 0.022352,
     "end_time": "2022-11-26T03:08:54.224239",
     "exception": false,
     "start_time": "2022-11-26T03:08:54.201887",
     "status": "completed"
    },
    "tags": []
   },
   "outputs": [],
   "source": [
    "%load_ext autoreload\n",
    "%autoreload 2"
   ]
  },
  {
   "cell_type": "code",
   "execution_count": 4,
   "id": "895656d4",
   "metadata": {
    "execution": {
     "iopub.execute_input": "2022-11-26T03:08:54.234273Z",
     "iopub.status.busy": "2022-11-26T03:08:54.233872Z",
     "iopub.status.idle": "2022-11-26T03:08:54.714390Z",
     "shell.execute_reply": "2022-11-26T03:08:54.713989Z"
    },
    "papermill": {
     "duration": 0.486616,
     "end_time": "2022-11-26T03:08:54.715328",
     "exception": false,
     "start_time": "2022-11-26T03:08:54.228712",
     "status": "completed"
    },
    "tags": []
   },
   "outputs": [],
   "source": [
    "from pathlib import Path\n",
    "\n",
    "import numpy as np\n",
    "import pandas as pd\n",
    "from sklearn.neighbors import NearestNeighbors\n",
    "from sklearn.metrics import pairwise_distances\n",
    "from sklearn.cluster import DBSCAN\n",
    "import matplotlib.pyplot as plt\n",
    "\n",
    "from utils import generate_result_set_name\n",
    "from clustering.ensembles.utils import generate_ensemble"
   ]
  },
  {
   "cell_type": "markdown",
   "id": "417425a2",
   "metadata": {
    "papermill": {
     "duration": 0.009529,
     "end_time": "2022-11-26T03:08:54.729365",
     "exception": false,
     "start_time": "2022-11-26T03:08:54.719836",
     "status": "completed"
    },
    "tags": []
   },
   "source": [
    "# Global settings"
   ]
  },
  {
   "cell_type": "code",
   "execution_count": 5,
   "id": "34ea787d",
   "metadata": {
    "execution": {
     "iopub.execute_input": "2022-11-26T03:08:54.738943Z",
     "iopub.status.busy": "2022-11-26T03:08:54.738739Z",
     "iopub.status.idle": "2022-11-26T03:08:54.750152Z",
     "shell.execute_reply": "2022-11-26T03:08:54.749819Z"
    },
    "papermill": {
     "duration": 0.017018,
     "end_time": "2022-11-26T03:08:54.750950",
     "exception": false,
     "start_time": "2022-11-26T03:08:54.733932",
     "status": "completed"
    },
    "tags": []
   },
   "outputs": [],
   "source": [
    "np.random.seed(0)"
   ]
  },
  {
   "cell_type": "code",
   "execution_count": 6,
   "id": "e756c5da",
   "metadata": {
    "execution": {
     "iopub.execute_input": "2022-11-26T03:08:54.760838Z",
     "iopub.status.busy": "2022-11-26T03:08:54.760687Z",
     "iopub.status.idle": "2022-11-26T03:08:54.771045Z",
     "shell.execute_reply": "2022-11-26T03:08:54.770707Z"
    },
    "papermill": {
     "duration": 0.015842,
     "end_time": "2022-11-26T03:08:54.771776",
     "exception": false,
     "start_time": "2022-11-26T03:08:54.755934",
     "status": "completed"
    },
    "tags": []
   },
   "outputs": [],
   "source": [
    "CLUSTERING_ATTRIBUTES_TO_SAVE = [\"n_clusters\"]"
   ]
  },
  {
   "cell_type": "code",
   "execution_count": 7,
   "id": "af603d64-0744-40f1-bc64-8d578c178a16",
   "metadata": {
    "execution": {
     "iopub.execute_input": "2022-11-26T03:08:54.781175Z",
     "iopub.status.busy": "2022-11-26T03:08:54.780942Z",
     "iopub.status.idle": "2022-11-26T03:08:54.791177Z",
     "shell.execute_reply": "2022-11-26T03:08:54.790846Z"
    },
    "papermill": {
     "duration": 0.015757,
     "end_time": "2022-11-26T03:08:54.791982",
     "exception": false,
     "start_time": "2022-11-26T03:08:54.776225",
     "status": "completed"
    },
    "tags": []
   },
   "outputs": [],
   "source": [
    "NULL_DIR = conf.RESULTS[\"CLUSTERING_NULL_DIR\"] / \"shuffle_lvs\""
   ]
  },
  {
   "cell_type": "markdown",
   "id": "8f15357f",
   "metadata": {
    "papermill": {
     "duration": 0.004498,
     "end_time": "2022-11-26T03:08:54.800996",
     "exception": false,
     "start_time": "2022-11-26T03:08:54.796498",
     "status": "completed"
    },
    "tags": []
   },
   "source": [
    "# Settings"
   ]
  },
  {
   "cell_type": "code",
   "execution_count": 8,
   "id": "750092ae",
   "metadata": {
    "execution": {
     "iopub.execute_input": "2022-11-26T03:08:54.830450Z",
     "iopub.status.busy": "2022-11-26T03:08:54.830099Z",
     "iopub.status.idle": "2022-11-26T03:08:54.849689Z",
     "shell.execute_reply": "2022-11-26T03:08:54.849238Z"
    },
    "papermill": {
     "duration": 0.045066,
     "end_time": "2022-11-26T03:08:54.850497",
     "exception": false,
     "start_time": "2022-11-26T03:08:54.805431",
     "status": "completed"
    },
    "tags": []
   },
   "outputs": [],
   "source": [
    "# these parameter values are taken from the pre-analysis notebook for this clustering method and data version\n",
    "k_values = np.arange(2, 125 + 1, 1)\n",
    "\n",
    "eps_range_per_k = {\n",
    "    k: (0.23, 0.80)\n",
    "    if k < 5\n",
    "    else (0.30, 0.80)\n",
    "    if k < 10\n",
    "    else (0.40, 2.50)\n",
    "    if k < 20\n",
    "    else (0.40, 7.00)\n",
    "    if k < 50\n",
    "    else (0.50, 10.00)\n",
    "    for k in k_values\n",
    "}"
   ]
  },
  {
   "cell_type": "markdown",
   "id": "27d596ba",
   "metadata": {
    "papermill": {
     "duration": 0.004877,
     "end_time": "2022-11-26T03:08:54.859862",
     "exception": false,
     "start_time": "2022-11-26T03:08:54.854985",
     "status": "completed"
    },
    "tags": []
   },
   "source": [
    "# Data version: umap"
   ]
  },
  {
   "cell_type": "markdown",
   "id": "33e28553",
   "metadata": {
    "papermill": {
     "duration": 0.004293,
     "end_time": "2022-11-26T03:08:54.868574",
     "exception": false,
     "start_time": "2022-11-26T03:08:54.864281",
     "status": "completed"
    },
    "tags": []
   },
   "source": [
    "## Settings"
   ]
  },
  {
   "cell_type": "code",
   "execution_count": 9,
   "id": "0254cfcd",
   "metadata": {
    "execution": {
     "iopub.execute_input": "2022-11-26T03:08:54.878220Z",
     "iopub.status.busy": "2022-11-26T03:08:54.877871Z",
     "iopub.status.idle": "2022-11-26T03:08:54.895636Z",
     "shell.execute_reply": "2022-11-26T03:08:54.895199Z"
    },
    "papermill": {
     "duration": 0.023438,
     "end_time": "2022-11-26T03:08:54.896421",
     "exception": false,
     "start_time": "2022-11-26T03:08:54.872983",
     "status": "completed"
    },
    "tags": []
   },
   "outputs": [],
   "source": [
    "INPUT_SUBSET = \"umap\""
   ]
  },
  {
   "cell_type": "code",
   "execution_count": 10,
   "id": "acd1436b",
   "metadata": {
    "execution": {
     "iopub.execute_input": "2022-11-26T03:08:54.906270Z",
     "iopub.status.busy": "2022-11-26T03:08:54.905924Z",
     "iopub.status.idle": "2022-11-26T03:08:54.923519Z",
     "shell.execute_reply": "2022-11-26T03:08:54.923081Z"
    },
    "papermill": {
     "duration": 0.023363,
     "end_time": "2022-11-26T03:08:54.924404",
     "exception": false,
     "start_time": "2022-11-26T03:08:54.901041",
     "status": "completed"
    },
    "tags": []
   },
   "outputs": [],
   "source": [
    "INPUT_STEM = \"z_score_std-projection-smultixcan-efo_partial-mashr-zscores\""
   ]
  },
  {
   "cell_type": "code",
   "execution_count": 11,
   "id": "9e49e98c",
   "metadata": {
    "execution": {
     "iopub.execute_input": "2022-11-26T03:08:54.934043Z",
     "iopub.status.busy": "2022-11-26T03:08:54.933725Z",
     "iopub.status.idle": "2022-11-26T03:08:54.951713Z",
     "shell.execute_reply": "2022-11-26T03:08:54.951262Z"
    },
    "papermill": {
     "duration": 0.023762,
     "end_time": "2022-11-26T03:08:54.952628",
     "exception": false,
     "start_time": "2022-11-26T03:08:54.928866",
     "status": "completed"
    },
    "tags": []
   },
   "outputs": [],
   "source": [
    "# parameters of the dimentionality reduction steps\n",
    "DR_OPTIONS = {\n",
    "    \"n_components\": 50,\n",
    "    \"metric\": \"euclidean\",\n",
    "    \"n_neighbors\": 15,\n",
    "    \"random_state\": 0,\n",
    "}"
   ]
  },
  {
   "cell_type": "code",
   "execution_count": 12,
   "id": "e1c15698",
   "metadata": {
    "execution": {
     "iopub.execute_input": "2022-11-26T03:08:54.962664Z",
     "iopub.status.busy": "2022-11-26T03:08:54.962272Z",
     "iopub.status.idle": "2022-11-26T03:08:54.982918Z",
     "shell.execute_reply": "2022-11-26T03:08:54.982483Z"
    },
    "papermill": {
     "duration": 0.026616,
     "end_time": "2022-11-26T03:08:54.983696",
     "exception": false,
     "start_time": "2022-11-26T03:08:54.957080",
     "status": "completed"
    },
    "tags": []
   },
   "outputs": [
    {
     "data": {
      "text/plain": [
       "PosixPath('/opt/data/results/clustering/null_sims/shuffle_lvs/data_transformations/umap/umap-z_score_std-projection-smultixcan-efo_partial-mashr-zscores-metric_euclidean-n_components_50-n_neighbors_15-random_state_0.pkl')"
      ]
     },
     "metadata": {},
     "output_type": "display_data"
    },
    {
     "data": {
      "text/plain": [
       "'umap-z_score_std-projection-smultixcan-efo_partial-mashr-zscores-metric_euclidean-n_components_50-n_neighbors_15-random_state_0'"
      ]
     },
     "metadata": {},
     "output_type": "display_data"
    }
   ],
   "source": [
    "input_filepath = Path(\n",
    "    NULL_DIR,\n",
    "    \"data_transformations\",\n",
    "    INPUT_SUBSET,\n",
    "    generate_result_set_name(\n",
    "        DR_OPTIONS, prefix=f\"{INPUT_SUBSET}-{INPUT_STEM}-\", suffix=\".pkl\"\n",
    "    ),\n",
    ").resolve()\n",
    "display(input_filepath)\n",
    "\n",
    "assert input_filepath.exists(), \"Input file does not exist\"\n",
    "\n",
    "input_filepath_stem = input_filepath.stem\n",
    "display(input_filepath_stem)"
   ]
  },
  {
   "cell_type": "code",
   "execution_count": 13,
   "id": "a0f32d44",
   "metadata": {
    "execution": {
     "iopub.execute_input": "2022-11-26T03:08:54.993569Z",
     "iopub.status.busy": "2022-11-26T03:08:54.993249Z",
     "iopub.status.idle": "2022-11-26T03:08:55.012458Z",
     "shell.execute_reply": "2022-11-26T03:08:55.012014Z"
    },
    "papermill": {
     "duration": 0.024984,
     "end_time": "2022-11-26T03:08:55.013251",
     "exception": false,
     "start_time": "2022-11-26T03:08:54.988267",
     "status": "completed"
    },
    "tags": []
   },
   "outputs": [
    {
     "data": {
      "text/plain": [
       "PosixPath('/opt/data/results/clustering/null_sims/shuffle_lvs/runs/umap-z_score_std-projection-smultixcan-efo_partial-mashr-zscores')"
      ]
     },
     "metadata": {},
     "output_type": "display_data"
    }
   ],
   "source": [
    "# output dir for this notebook\n",
    "RESULTS_DIR = Path(\n",
    "    NULL_DIR,\n",
    "    \"runs\",\n",
    "    f\"{INPUT_SUBSET}-{INPUT_STEM}\",\n",
    ").resolve()\n",
    "RESULTS_DIR.mkdir(parents=True, exist_ok=True)\n",
    "\n",
    "display(RESULTS_DIR)"
   ]
  },
  {
   "cell_type": "markdown",
   "id": "39b97d01",
   "metadata": {
    "papermill": {
     "duration": 0.004794,
     "end_time": "2022-11-26T03:08:55.022656",
     "exception": false,
     "start_time": "2022-11-26T03:08:55.017862",
     "status": "completed"
    },
    "tags": []
   },
   "source": [
    "## Load input file"
   ]
  },
  {
   "cell_type": "code",
   "execution_count": 14,
   "id": "9d7fa587",
   "metadata": {
    "execution": {
     "iopub.execute_input": "2022-11-26T03:08:55.032644Z",
     "iopub.status.busy": "2022-11-26T03:08:55.032303Z",
     "iopub.status.idle": "2022-11-26T03:08:55.052147Z",
     "shell.execute_reply": "2022-11-26T03:08:55.051669Z"
    },
    "papermill": {
     "duration": 0.025713,
     "end_time": "2022-11-26T03:08:55.052934",
     "exception": false,
     "start_time": "2022-11-26T03:08:55.027221",
     "status": "completed"
    },
    "tags": []
   },
   "outputs": [],
   "source": [
    "data = pd.read_pickle(input_filepath)"
   ]
  },
  {
   "cell_type": "code",
   "execution_count": 15,
   "id": "97513d49",
   "metadata": {
    "execution": {
     "iopub.execute_input": "2022-11-26T03:08:55.063049Z",
     "iopub.status.busy": "2022-11-26T03:08:55.062709Z",
     "iopub.status.idle": "2022-11-26T03:08:55.081910Z",
     "shell.execute_reply": "2022-11-26T03:08:55.081468Z"
    },
    "papermill": {
     "duration": 0.025164,
     "end_time": "2022-11-26T03:08:55.082712",
     "exception": false,
     "start_time": "2022-11-26T03:08:55.057548",
     "status": "completed"
    },
    "tags": []
   },
   "outputs": [
    {
     "data": {
      "text/plain": [
       "(3752, 50)"
      ]
     },
     "execution_count": 15,
     "metadata": {},
     "output_type": "execute_result"
    }
   ],
   "source": [
    "data.shape"
   ]
  },
  {
   "cell_type": "code",
   "execution_count": 16,
   "id": "b7946d13",
   "metadata": {
    "execution": {
     "iopub.execute_input": "2022-11-26T03:08:55.093311Z",
     "iopub.status.busy": "2022-11-26T03:08:55.092864Z",
     "iopub.status.idle": "2022-11-26T03:08:55.129883Z",
     "shell.execute_reply": "2022-11-26T03:08:55.129425Z"
    },
    "papermill": {
     "duration": 0.043021,
     "end_time": "2022-11-26T03:08:55.130702",
     "exception": false,
     "start_time": "2022-11-26T03:08:55.087681",
     "status": "completed"
    },
    "tags": []
   },
   "outputs": [
    {
     "data": {
      "text/html": [
       "<div>\n",
       "<style scoped>\n",
       "    .dataframe tbody tr th:only-of-type {\n",
       "        vertical-align: middle;\n",
       "    }\n",
       "\n",
       "    .dataframe tbody tr th {\n",
       "        vertical-align: top;\n",
       "    }\n",
       "\n",
       "    .dataframe thead th {\n",
       "        text-align: right;\n",
       "    }\n",
       "</style>\n",
       "<table border=\"1\" class=\"dataframe\">\n",
       "  <thead>\n",
       "    <tr style=\"text-align: right;\">\n",
       "      <th></th>\n",
       "      <th>UMAP1</th>\n",
       "      <th>UMAP2</th>\n",
       "      <th>UMAP3</th>\n",
       "      <th>UMAP4</th>\n",
       "      <th>UMAP5</th>\n",
       "      <th>UMAP6</th>\n",
       "      <th>UMAP7</th>\n",
       "      <th>UMAP8</th>\n",
       "      <th>UMAP9</th>\n",
       "      <th>UMAP10</th>\n",
       "      <th>...</th>\n",
       "      <th>UMAP41</th>\n",
       "      <th>UMAP42</th>\n",
       "      <th>UMAP43</th>\n",
       "      <th>UMAP44</th>\n",
       "      <th>UMAP45</th>\n",
       "      <th>UMAP46</th>\n",
       "      <th>UMAP47</th>\n",
       "      <th>UMAP48</th>\n",
       "      <th>UMAP49</th>\n",
       "      <th>UMAP50</th>\n",
       "    </tr>\n",
       "  </thead>\n",
       "  <tbody>\n",
       "    <tr>\n",
       "      <th>100001_raw-Food_weight</th>\n",
       "      <td>7.348012</td>\n",
       "      <td>4.577476</td>\n",
       "      <td>4.003544</td>\n",
       "      <td>7.175258</td>\n",
       "      <td>4.628082</td>\n",
       "      <td>4.668375</td>\n",
       "      <td>4.184439</td>\n",
       "      <td>5.524602</td>\n",
       "      <td>5.236019</td>\n",
       "      <td>4.051960</td>\n",
       "      <td>...</td>\n",
       "      <td>7.420596</td>\n",
       "      <td>8.645991</td>\n",
       "      <td>8.978471</td>\n",
       "      <td>0.844213</td>\n",
       "      <td>0.445817</td>\n",
       "      <td>8.147386</td>\n",
       "      <td>0.880679</td>\n",
       "      <td>9.326646</td>\n",
       "      <td>5.905894</td>\n",
       "      <td>9.498857</td>\n",
       "    </tr>\n",
       "    <tr>\n",
       "      <th>100002_raw-Energy</th>\n",
       "      <td>7.310478</td>\n",
       "      <td>4.624479</td>\n",
       "      <td>4.003817</td>\n",
       "      <td>7.205625</td>\n",
       "      <td>4.674837</td>\n",
       "      <td>4.623739</td>\n",
       "      <td>4.303133</td>\n",
       "      <td>5.513216</td>\n",
       "      <td>5.319317</td>\n",
       "      <td>3.911008</td>\n",
       "      <td>...</td>\n",
       "      <td>7.434267</td>\n",
       "      <td>8.683359</td>\n",
       "      <td>8.898481</td>\n",
       "      <td>0.940067</td>\n",
       "      <td>0.438958</td>\n",
       "      <td>8.215672</td>\n",
       "      <td>0.835403</td>\n",
       "      <td>9.336117</td>\n",
       "      <td>5.906696</td>\n",
       "      <td>9.496916</td>\n",
       "    </tr>\n",
       "    <tr>\n",
       "      <th>100003_raw-Protein</th>\n",
       "      <td>7.372120</td>\n",
       "      <td>4.567552</td>\n",
       "      <td>3.956281</td>\n",
       "      <td>7.172141</td>\n",
       "      <td>4.637493</td>\n",
       "      <td>4.662377</td>\n",
       "      <td>4.164535</td>\n",
       "      <td>5.569874</td>\n",
       "      <td>5.245649</td>\n",
       "      <td>3.992713</td>\n",
       "      <td>...</td>\n",
       "      <td>7.414976</td>\n",
       "      <td>8.643587</td>\n",
       "      <td>8.971425</td>\n",
       "      <td>0.866410</td>\n",
       "      <td>0.448116</td>\n",
       "      <td>8.160679</td>\n",
       "      <td>0.888818</td>\n",
       "      <td>9.330538</td>\n",
       "      <td>5.882386</td>\n",
       "      <td>9.454537</td>\n",
       "    </tr>\n",
       "    <tr>\n",
       "      <th>100004_raw-Fat</th>\n",
       "      <td>7.246791</td>\n",
       "      <td>4.422901</td>\n",
       "      <td>3.999165</td>\n",
       "      <td>6.995014</td>\n",
       "      <td>4.689552</td>\n",
       "      <td>4.778102</td>\n",
       "      <td>4.283790</td>\n",
       "      <td>5.544029</td>\n",
       "      <td>5.273340</td>\n",
       "      <td>4.024833</td>\n",
       "      <td>...</td>\n",
       "      <td>7.451052</td>\n",
       "      <td>8.683681</td>\n",
       "      <td>8.907457</td>\n",
       "      <td>0.842343</td>\n",
       "      <td>0.455955</td>\n",
       "      <td>8.174278</td>\n",
       "      <td>0.874224</td>\n",
       "      <td>9.339664</td>\n",
       "      <td>5.891949</td>\n",
       "      <td>9.500463</td>\n",
       "    </tr>\n",
       "    <tr>\n",
       "      <th>100005_raw-Carbohydrate</th>\n",
       "      <td>7.340907</td>\n",
       "      <td>4.559629</td>\n",
       "      <td>4.066139</td>\n",
       "      <td>7.116928</td>\n",
       "      <td>4.623105</td>\n",
       "      <td>4.678367</td>\n",
       "      <td>4.169051</td>\n",
       "      <td>5.549784</td>\n",
       "      <td>5.156203</td>\n",
       "      <td>4.129416</td>\n",
       "      <td>...</td>\n",
       "      <td>7.460930</td>\n",
       "      <td>8.663488</td>\n",
       "      <td>8.955309</td>\n",
       "      <td>0.796839</td>\n",
       "      <td>0.432522</td>\n",
       "      <td>8.127192</td>\n",
       "      <td>0.873220</td>\n",
       "      <td>9.321359</td>\n",
       "      <td>5.902341</td>\n",
       "      <td>9.528457</td>\n",
       "    </tr>\n",
       "  </tbody>\n",
       "</table>\n",
       "<p>5 rows × 50 columns</p>\n",
       "</div>"
      ],
      "text/plain": [
       "                            UMAP1     UMAP2     UMAP3     UMAP4     UMAP5  \\\n",
       "100001_raw-Food_weight   7.348012  4.577476  4.003544  7.175258  4.628082   \n",
       "100002_raw-Energy        7.310478  4.624479  4.003817  7.205625  4.674837   \n",
       "100003_raw-Protein       7.372120  4.567552  3.956281  7.172141  4.637493   \n",
       "100004_raw-Fat           7.246791  4.422901  3.999165  6.995014  4.689552   \n",
       "100005_raw-Carbohydrate  7.340907  4.559629  4.066139  7.116928  4.623105   \n",
       "\n",
       "                            UMAP6     UMAP7     UMAP8     UMAP9    UMAP10  \\\n",
       "100001_raw-Food_weight   4.668375  4.184439  5.524602  5.236019  4.051960   \n",
       "100002_raw-Energy        4.623739  4.303133  5.513216  5.319317  3.911008   \n",
       "100003_raw-Protein       4.662377  4.164535  5.569874  5.245649  3.992713   \n",
       "100004_raw-Fat           4.778102  4.283790  5.544029  5.273340  4.024833   \n",
       "100005_raw-Carbohydrate  4.678367  4.169051  5.549784  5.156203  4.129416   \n",
       "\n",
       "                         ...    UMAP41    UMAP42    UMAP43    UMAP44  \\\n",
       "100001_raw-Food_weight   ...  7.420596  8.645991  8.978471  0.844213   \n",
       "100002_raw-Energy        ...  7.434267  8.683359  8.898481  0.940067   \n",
       "100003_raw-Protein       ...  7.414976  8.643587  8.971425  0.866410   \n",
       "100004_raw-Fat           ...  7.451052  8.683681  8.907457  0.842343   \n",
       "100005_raw-Carbohydrate  ...  7.460930  8.663488  8.955309  0.796839   \n",
       "\n",
       "                           UMAP45    UMAP46    UMAP47    UMAP48    UMAP49  \\\n",
       "100001_raw-Food_weight   0.445817  8.147386  0.880679  9.326646  5.905894   \n",
       "100002_raw-Energy        0.438958  8.215672  0.835403  9.336117  5.906696   \n",
       "100003_raw-Protein       0.448116  8.160679  0.888818  9.330538  5.882386   \n",
       "100004_raw-Fat           0.455955  8.174278  0.874224  9.339664  5.891949   \n",
       "100005_raw-Carbohydrate  0.432522  8.127192  0.873220  9.321359  5.902341   \n",
       "\n",
       "                           UMAP50  \n",
       "100001_raw-Food_weight   9.498857  \n",
       "100002_raw-Energy        9.496916  \n",
       "100003_raw-Protein       9.454537  \n",
       "100004_raw-Fat           9.500463  \n",
       "100005_raw-Carbohydrate  9.528457  \n",
       "\n",
       "[5 rows x 50 columns]"
      ]
     },
     "execution_count": 16,
     "metadata": {},
     "output_type": "execute_result"
    }
   ],
   "source": [
    "data.head()"
   ]
  },
  {
   "cell_type": "code",
   "execution_count": 17,
   "id": "d1c24e81",
   "metadata": {
    "execution": {
     "iopub.execute_input": "2022-11-26T03:08:55.141268Z",
     "iopub.status.busy": "2022-11-26T03:08:55.140921Z",
     "iopub.status.idle": "2022-11-26T03:08:55.160761Z",
     "shell.execute_reply": "2022-11-26T03:08:55.160279Z"
    },
    "papermill": {
     "duration": 0.02602,
     "end_time": "2022-11-26T03:08:55.161587",
     "exception": false,
     "start_time": "2022-11-26T03:08:55.135567",
     "status": "completed"
    },
    "tags": []
   },
   "outputs": [],
   "source": [
    "assert not data.isna().any().any()"
   ]
  },
  {
   "cell_type": "markdown",
   "id": "a7e58baf",
   "metadata": {
    "papermill": {
     "duration": 0.004698,
     "end_time": "2022-11-26T03:08:55.171432",
     "exception": false,
     "start_time": "2022-11-26T03:08:55.166734",
     "status": "completed"
    },
    "tags": []
   },
   "source": [
    "## Clustering"
   ]
  },
  {
   "cell_type": "markdown",
   "id": "bde20f6e",
   "metadata": {
    "papermill": {
     "duration": 0.004707,
     "end_time": "2022-11-26T03:08:55.180897",
     "exception": false,
     "start_time": "2022-11-26T03:08:55.176190",
     "status": "completed"
    },
    "tags": []
   },
   "source": [
    "### Generate clusterers"
   ]
  },
  {
   "cell_type": "code",
   "execution_count": 18,
   "id": "62d4d79d",
   "metadata": {
    "execution": {
     "iopub.execute_input": "2022-11-26T03:08:55.191528Z",
     "iopub.status.busy": "2022-11-26T03:08:55.191159Z",
     "iopub.status.idle": "2022-11-26T03:08:55.217551Z",
     "shell.execute_reply": "2022-11-26T03:08:55.217104Z"
    },
    "papermill": {
     "duration": 0.032571,
     "end_time": "2022-11-26T03:08:55.218373",
     "exception": false,
     "start_time": "2022-11-26T03:08:55.185802",
     "status": "completed"
    },
    "tags": []
   },
   "outputs": [
    {
     "data": {
      "text/plain": [
       "{'K_RANGE': array([  2,   3,   4,   5,   6,   7,   8,   9,  10,  11,  12,  13,  14,\n",
       "         15,  16,  17,  18,  19,  20,  21,  22,  23,  24,  25,  26,  27,\n",
       "         28,  29,  30,  31,  32,  33,  34,  35,  36,  37,  38,  39,  40,\n",
       "         41,  42,  43,  44,  45,  46,  47,  48,  49,  50,  51,  52,  53,\n",
       "         54,  55,  56,  57,  58,  59,  60,  61,  62,  63,  64,  65,  66,\n",
       "         67,  68,  69,  70,  71,  72,  73,  74,  75,  76,  77,  78,  79,\n",
       "         80,  81,  82,  83,  84,  85,  86,  87,  88,  89,  90,  91,  92,\n",
       "         93,  94,  95,  96,  97,  98,  99, 100, 101, 102, 103, 104, 105,\n",
       "        106, 107, 108, 109, 110, 111, 112, 113, 114, 115, 116, 117, 118,\n",
       "        119, 120, 121, 122, 123, 124, 125]),\n",
       " 'EPS_RANGE_PER_K': {2: (0.23, 0.8),\n",
       "  3: (0.23, 0.8),\n",
       "  4: (0.23, 0.8),\n",
       "  5: (0.3, 0.8),\n",
       "  6: (0.3, 0.8),\n",
       "  7: (0.3, 0.8),\n",
       "  8: (0.3, 0.8),\n",
       "  9: (0.3, 0.8),\n",
       "  10: (0.4, 2.5),\n",
       "  11: (0.4, 2.5),\n",
       "  12: (0.4, 2.5),\n",
       "  13: (0.4, 2.5),\n",
       "  14: (0.4, 2.5),\n",
       "  15: (0.4, 2.5),\n",
       "  16: (0.4, 2.5),\n",
       "  17: (0.4, 2.5),\n",
       "  18: (0.4, 2.5),\n",
       "  19: (0.4, 2.5),\n",
       "  20: (0.4, 7.0),\n",
       "  21: (0.4, 7.0),\n",
       "  22: (0.4, 7.0),\n",
       "  23: (0.4, 7.0),\n",
       "  24: (0.4, 7.0),\n",
       "  25: (0.4, 7.0),\n",
       "  26: (0.4, 7.0),\n",
       "  27: (0.4, 7.0),\n",
       "  28: (0.4, 7.0),\n",
       "  29: (0.4, 7.0),\n",
       "  30: (0.4, 7.0),\n",
       "  31: (0.4, 7.0),\n",
       "  32: (0.4, 7.0),\n",
       "  33: (0.4, 7.0),\n",
       "  34: (0.4, 7.0),\n",
       "  35: (0.4, 7.0),\n",
       "  36: (0.4, 7.0),\n",
       "  37: (0.4, 7.0),\n",
       "  38: (0.4, 7.0),\n",
       "  39: (0.4, 7.0),\n",
       "  40: (0.4, 7.0),\n",
       "  41: (0.4, 7.0),\n",
       "  42: (0.4, 7.0),\n",
       "  43: (0.4, 7.0),\n",
       "  44: (0.4, 7.0),\n",
       "  45: (0.4, 7.0),\n",
       "  46: (0.4, 7.0),\n",
       "  47: (0.4, 7.0),\n",
       "  48: (0.4, 7.0),\n",
       "  49: (0.4, 7.0),\n",
       "  50: (0.5, 10.0),\n",
       "  51: (0.5, 10.0),\n",
       "  52: (0.5, 10.0),\n",
       "  53: (0.5, 10.0),\n",
       "  54: (0.5, 10.0),\n",
       "  55: (0.5, 10.0),\n",
       "  56: (0.5, 10.0),\n",
       "  57: (0.5, 10.0),\n",
       "  58: (0.5, 10.0),\n",
       "  59: (0.5, 10.0),\n",
       "  60: (0.5, 10.0),\n",
       "  61: (0.5, 10.0),\n",
       "  62: (0.5, 10.0),\n",
       "  63: (0.5, 10.0),\n",
       "  64: (0.5, 10.0),\n",
       "  65: (0.5, 10.0),\n",
       "  66: (0.5, 10.0),\n",
       "  67: (0.5, 10.0),\n",
       "  68: (0.5, 10.0),\n",
       "  69: (0.5, 10.0),\n",
       "  70: (0.5, 10.0),\n",
       "  71: (0.5, 10.0),\n",
       "  72: (0.5, 10.0),\n",
       "  73: (0.5, 10.0),\n",
       "  74: (0.5, 10.0),\n",
       "  75: (0.5, 10.0),\n",
       "  76: (0.5, 10.0),\n",
       "  77: (0.5, 10.0),\n",
       "  78: (0.5, 10.0),\n",
       "  79: (0.5, 10.0),\n",
       "  80: (0.5, 10.0),\n",
       "  81: (0.5, 10.0),\n",
       "  82: (0.5, 10.0),\n",
       "  83: (0.5, 10.0),\n",
       "  84: (0.5, 10.0),\n",
       "  85: (0.5, 10.0),\n",
       "  86: (0.5, 10.0),\n",
       "  87: (0.5, 10.0),\n",
       "  88: (0.5, 10.0),\n",
       "  89: (0.5, 10.0),\n",
       "  90: (0.5, 10.0),\n",
       "  91: (0.5, 10.0),\n",
       "  92: (0.5, 10.0),\n",
       "  93: (0.5, 10.0),\n",
       "  94: (0.5, 10.0),\n",
       "  95: (0.5, 10.0),\n",
       "  96: (0.5, 10.0),\n",
       "  97: (0.5, 10.0),\n",
       "  98: (0.5, 10.0),\n",
       "  99: (0.5, 10.0),\n",
       "  100: (0.5, 10.0),\n",
       "  101: (0.5, 10.0),\n",
       "  102: (0.5, 10.0),\n",
       "  103: (0.5, 10.0),\n",
       "  104: (0.5, 10.0),\n",
       "  105: (0.5, 10.0),\n",
       "  106: (0.5, 10.0),\n",
       "  107: (0.5, 10.0),\n",
       "  108: (0.5, 10.0),\n",
       "  109: (0.5, 10.0),\n",
       "  110: (0.5, 10.0),\n",
       "  111: (0.5, 10.0),\n",
       "  112: (0.5, 10.0),\n",
       "  113: (0.5, 10.0),\n",
       "  114: (0.5, 10.0),\n",
       "  115: (0.5, 10.0),\n",
       "  116: (0.5, 10.0),\n",
       "  117: (0.5, 10.0),\n",
       "  118: (0.5, 10.0),\n",
       "  119: (0.5, 10.0),\n",
       "  120: (0.5, 10.0),\n",
       "  121: (0.5, 10.0),\n",
       "  122: (0.5, 10.0),\n",
       "  123: (0.5, 10.0),\n",
       "  124: (0.5, 10.0),\n",
       "  125: (0.5, 10.0)},\n",
       " 'EPS_STEP': 33,\n",
       " 'METRIC': 'euclidean'}"
      ]
     },
     "metadata": {},
     "output_type": "display_data"
    }
   ],
   "source": [
    "CLUSTERING_OPTIONS = {}\n",
    "\n",
    "# K_RANGE is the min_samples parameter in DBSCAN (sklearn)\n",
    "CLUSTERING_OPTIONS[\"K_RANGE\"] = k_values\n",
    "CLUSTERING_OPTIONS[\"EPS_RANGE_PER_K\"] = eps_range_per_k\n",
    "CLUSTERING_OPTIONS[\"EPS_STEP\"] = 33\n",
    "CLUSTERING_OPTIONS[\"METRIC\"] = \"euclidean\"\n",
    "\n",
    "display(CLUSTERING_OPTIONS)"
   ]
  },
  {
   "cell_type": "code",
   "execution_count": 19,
   "id": "f84cdcfc",
   "metadata": {
    "execution": {
     "iopub.execute_input": "2022-11-26T03:08:55.229293Z",
     "iopub.status.busy": "2022-11-26T03:08:55.228946Z",
     "iopub.status.idle": "2022-11-26T03:08:55.268790Z",
     "shell.execute_reply": "2022-11-26T03:08:55.268311Z"
    },
    "papermill": {
     "duration": 0.046488,
     "end_time": "2022-11-26T03:08:55.269789",
     "exception": false,
     "start_time": "2022-11-26T03:08:55.223301",
     "status": "completed"
    },
    "tags": []
   },
   "outputs": [],
   "source": [
    "CLUSTERERS = {}\n",
    "\n",
    "idx = 0\n",
    "\n",
    "for k in CLUSTERING_OPTIONS[\"K_RANGE\"]:\n",
    "    eps_range = CLUSTERING_OPTIONS[\"EPS_RANGE_PER_K\"][k]\n",
    "    eps_values = np.linspace(eps_range[0], eps_range[1], CLUSTERING_OPTIONS[\"EPS_STEP\"])\n",
    "\n",
    "    for eps in eps_values:\n",
    "        clus = DBSCAN(min_samples=k, eps=eps, metric=\"precomputed\", n_jobs=N_JOBS)\n",
    "\n",
    "        method_name = type(clus).__name__\n",
    "        CLUSTERERS[f\"{method_name} #{idx}\"] = clus\n",
    "\n",
    "        idx = idx + 1"
   ]
  },
  {
   "cell_type": "code",
   "execution_count": 20,
   "id": "d2096f2f",
   "metadata": {
    "execution": {
     "iopub.execute_input": "2022-11-26T03:08:55.285315Z",
     "iopub.status.busy": "2022-11-26T03:08:55.285035Z",
     "iopub.status.idle": "2022-11-26T03:08:55.304005Z",
     "shell.execute_reply": "2022-11-26T03:08:55.303545Z"
    },
    "papermill": {
     "duration": 0.027853,
     "end_time": "2022-11-26T03:08:55.305034",
     "exception": false,
     "start_time": "2022-11-26T03:08:55.277181",
     "status": "completed"
    },
    "tags": []
   },
   "outputs": [
    {
     "data": {
      "text/plain": [
       "4092"
      ]
     },
     "metadata": {},
     "output_type": "display_data"
    }
   ],
   "source": [
    "display(len(CLUSTERERS))"
   ]
  },
  {
   "cell_type": "code",
   "execution_count": 21,
   "id": "ebdbd9fc",
   "metadata": {
    "execution": {
     "iopub.execute_input": "2022-11-26T03:08:55.321061Z",
     "iopub.status.busy": "2022-11-26T03:08:55.320713Z",
     "iopub.status.idle": "2022-11-26T03:08:55.341061Z",
     "shell.execute_reply": "2022-11-26T03:08:55.340612Z"
    },
    "papermill": {
     "duration": 0.029648,
     "end_time": "2022-11-26T03:08:55.342134",
     "exception": false,
     "start_time": "2022-11-26T03:08:55.312486",
     "status": "completed"
    },
    "tags": []
   },
   "outputs": [
    {
     "data": {
      "text/plain": [
       "('DBSCAN #0', DBSCAN(eps=0.23, metric='precomputed', min_samples=2, n_jobs=10))"
      ]
     },
     "metadata": {},
     "output_type": "display_data"
    },
    {
     "data": {
      "text/plain": [
       "('DBSCAN #1',\n",
       " DBSCAN(eps=0.24781250000000002, metric='precomputed', min_samples=2, n_jobs=10))"
      ]
     },
     "metadata": {},
     "output_type": "display_data"
    }
   ],
   "source": [
    "_iter = iter(CLUSTERERS.items())\n",
    "display(next(_iter))\n",
    "display(next(_iter))"
   ]
  },
  {
   "cell_type": "code",
   "execution_count": 22,
   "id": "5327f6bb",
   "metadata": {
    "execution": {
     "iopub.execute_input": "2022-11-26T03:08:55.358306Z",
     "iopub.status.busy": "2022-11-26T03:08:55.357990Z",
     "iopub.status.idle": "2022-11-26T03:08:55.376462Z",
     "shell.execute_reply": "2022-11-26T03:08:55.376010Z"
    },
    "papermill": {
     "duration": 0.02761,
     "end_time": "2022-11-26T03:08:55.377523",
     "exception": false,
     "start_time": "2022-11-26T03:08:55.349913",
     "status": "completed"
    },
    "tags": []
   },
   "outputs": [
    {
     "data": {
      "text/plain": [
       "'DBSCAN'"
      ]
     },
     "metadata": {},
     "output_type": "display_data"
    }
   ],
   "source": [
    "clustering_method_name = method_name\n",
    "display(clustering_method_name)"
   ]
  },
  {
   "cell_type": "markdown",
   "id": "c461a442",
   "metadata": {
    "papermill": {
     "duration": 0.007489,
     "end_time": "2022-11-26T03:08:55.392943",
     "exception": false,
     "start_time": "2022-11-26T03:08:55.385454",
     "status": "completed"
    },
    "tags": []
   },
   "source": [
    "### Generate ensemble"
   ]
  },
  {
   "cell_type": "code",
   "execution_count": 23,
   "id": "5db582ca",
   "metadata": {
    "execution": {
     "iopub.execute_input": "2022-11-26T03:08:55.409238Z",
     "iopub.status.busy": "2022-11-26T03:08:55.408883Z",
     "iopub.status.idle": "2022-11-26T03:08:55.525864Z",
     "shell.execute_reply": "2022-11-26T03:08:55.525387Z"
    },
    "papermill": {
     "duration": 0.126772,
     "end_time": "2022-11-26T03:08:55.527323",
     "exception": false,
     "start_time": "2022-11-26T03:08:55.400551",
     "status": "completed"
    },
    "tags": []
   },
   "outputs": [],
   "source": [
    "data_dist = pairwise_distances(data, metric=CLUSTERING_OPTIONS[\"METRIC\"])"
   ]
  },
  {
   "cell_type": "code",
   "execution_count": 24,
   "id": "4f7a25d5",
   "metadata": {
    "execution": {
     "iopub.execute_input": "2022-11-26T03:08:55.548823Z",
     "iopub.status.busy": "2022-11-26T03:08:55.548679Z",
     "iopub.status.idle": "2022-11-26T03:08:55.561178Z",
     "shell.execute_reply": "2022-11-26T03:08:55.560778Z"
    },
    "papermill": {
     "duration": 0.024406,
     "end_time": "2022-11-26T03:08:55.562428",
     "exception": false,
     "start_time": "2022-11-26T03:08:55.538022",
     "status": "completed"
    },
    "tags": []
   },
   "outputs": [
    {
     "data": {
      "text/plain": [
       "(3752, 3752)"
      ]
     },
     "execution_count": 24,
     "metadata": {},
     "output_type": "execute_result"
    }
   ],
   "source": [
    "data_dist.shape"
   ]
  },
  {
   "cell_type": "code",
   "execution_count": 25,
   "id": "2da87d4a",
   "metadata": {
    "execution": {
     "iopub.execute_input": "2022-11-26T03:08:55.583938Z",
     "iopub.status.busy": "2022-11-26T03:08:55.583815Z",
     "iopub.status.idle": "2022-11-26T03:08:55.858167Z",
     "shell.execute_reply": "2022-11-26T03:08:55.857772Z"
    },
    "papermill": {
     "duration": 0.28645,
     "end_time": "2022-11-26T03:08:55.859242",
     "exception": false,
     "start_time": "2022-11-26T03:08:55.572792",
     "status": "completed"
    },
    "tags": []
   },
   "outputs": [
    {
     "data": {
      "text/plain": [
       "count            14077504.0\n",
       "mean      3.277536392211914\n",
       "std      1.2617443799972534\n",
       "min                     0.0\n",
       "25%        2.33499538898468\n",
       "50%       3.572208523750305\n",
       "75%       4.346373558044434\n",
       "max       5.757095813751221\n",
       "dtype: object"
      ]
     },
     "execution_count": 25,
     "metadata": {},
     "output_type": "execute_result"
    }
   ],
   "source": [
    "pd.Series(data_dist.flatten()).describe().apply(str)"
   ]
  },
  {
   "cell_type": "code",
   "execution_count": 26,
   "id": "354f27d5",
   "metadata": {
    "execution": {
     "iopub.execute_input": "2022-11-26T03:08:55.877648Z",
     "iopub.status.busy": "2022-11-26T03:08:55.877510Z",
     "iopub.status.idle": "2022-11-26T03:15:55.763729Z",
     "shell.execute_reply": "2022-11-26T03:15:55.763322Z"
    },
    "papermill": {
     "duration": 419.897758,
     "end_time": "2022-11-26T03:15:55.765097",
     "exception": false,
     "start_time": "2022-11-26T03:08:55.867339",
     "status": "completed"
    },
    "tags": []
   },
   "outputs": [
    {
     "name": "stderr",
     "output_type": "stream",
     "text": [
      "100%|██████████| 4092/4092 [06:59<00:00,  9.75it/s]\n"
     ]
    }
   ],
   "source": [
    "ensemble = generate_ensemble(\n",
    "    data_dist,\n",
    "    CLUSTERERS,\n",
    "    attributes=CLUSTERING_ATTRIBUTES_TO_SAVE,\n",
    ")"
   ]
  },
  {
   "cell_type": "code",
   "execution_count": 27,
   "id": "743a7ac4",
   "metadata": {
    "execution": {
     "iopub.execute_input": "2022-11-26T03:15:55.957311Z",
     "iopub.status.busy": "2022-11-26T03:15:55.957144Z",
     "iopub.status.idle": "2022-11-26T03:15:55.969399Z",
     "shell.execute_reply": "2022-11-26T03:15:55.969130Z"
    },
    "papermill": {
     "duration": 0.090503,
     "end_time": "2022-11-26T03:15:55.970118",
     "exception": false,
     "start_time": "2022-11-26T03:15:55.879615",
     "status": "completed"
    },
    "tags": []
   },
   "outputs": [
    {
     "data": {
      "text/plain": [
       "(287, 3)"
      ]
     },
     "execution_count": 27,
     "metadata": {},
     "output_type": "execute_result"
    }
   ],
   "source": [
    "ensemble.shape"
   ]
  },
  {
   "cell_type": "code",
   "execution_count": 28,
   "id": "67ae0a58",
   "metadata": {
    "execution": {
     "iopub.execute_input": "2022-11-26T03:15:56.124163Z",
     "iopub.status.busy": "2022-11-26T03:15:56.123921Z",
     "iopub.status.idle": "2022-11-26T03:15:56.154196Z",
     "shell.execute_reply": "2022-11-26T03:15:56.153817Z"
    },
    "papermill": {
     "duration": 0.108237,
     "end_time": "2022-11-26T03:15:56.154978",
     "exception": false,
     "start_time": "2022-11-26T03:15:56.046741",
     "status": "completed"
    },
    "tags": []
   },
   "outputs": [
    {
     "data": {
      "text/html": [
       "<div>\n",
       "<style scoped>\n",
       "    .dataframe tbody tr th:only-of-type {\n",
       "        vertical-align: middle;\n",
       "    }\n",
       "\n",
       "    .dataframe tbody tr th {\n",
       "        vertical-align: top;\n",
       "    }\n",
       "\n",
       "    .dataframe thead th {\n",
       "        text-align: right;\n",
       "    }\n",
       "</style>\n",
       "<table border=\"1\" class=\"dataframe\">\n",
       "  <thead>\n",
       "    <tr style=\"text-align: right;\">\n",
       "      <th></th>\n",
       "      <th>clusterer_params</th>\n",
       "      <th>partition</th>\n",
       "      <th>n_clusters</th>\n",
       "    </tr>\n",
       "    <tr>\n",
       "      <th>clusterer_id</th>\n",
       "      <th></th>\n",
       "      <th></th>\n",
       "      <th></th>\n",
       "    </tr>\n",
       "  </thead>\n",
       "  <tbody>\n",
       "    <tr>\n",
       "      <th>DBSCAN #0</th>\n",
       "      <td>{'algorithm': 'auto', 'eps': 0.23, 'leaf_size'...</td>\n",
       "      <td>[0.0, nan, nan, nan, 0.0, nan, nan, nan, nan, ...</td>\n",
       "      <td>16</td>\n",
       "    </tr>\n",
       "    <tr>\n",
       "      <th>DBSCAN #1</th>\n",
       "      <td>{'algorithm': 'auto', 'eps': 0.247812500000000...</td>\n",
       "      <td>[0.0, nan, nan, nan, 0.0, nan, nan, nan, nan, ...</td>\n",
       "      <td>14</td>\n",
       "    </tr>\n",
       "    <tr>\n",
       "      <th>DBSCAN #2</th>\n",
       "      <td>{'algorithm': 'auto', 'eps': 0.265625, 'leaf_s...</td>\n",
       "      <td>[0.0, nan, nan, nan, 0.0, nan, nan, 0.0, nan, ...</td>\n",
       "      <td>9</td>\n",
       "    </tr>\n",
       "    <tr>\n",
       "      <th>DBSCAN #3</th>\n",
       "      <td>{'algorithm': 'auto', 'eps': 0.2834375, 'leaf_...</td>\n",
       "      <td>[0.0, nan, 0.0, nan, 0.0, nan, nan, 0.0, nan, ...</td>\n",
       "      <td>6</td>\n",
       "    </tr>\n",
       "    <tr>\n",
       "      <th>DBSCAN #4</th>\n",
       "      <td>{'algorithm': 'auto', 'eps': 0.30125, 'leaf_si...</td>\n",
       "      <td>[0.0, nan, 0.0, 0.0, 0.0, nan, nan, 0.0, nan, ...</td>\n",
       "      <td>2</td>\n",
       "    </tr>\n",
       "  </tbody>\n",
       "</table>\n",
       "</div>"
      ],
      "text/plain": [
       "                                               clusterer_params  \\\n",
       "clusterer_id                                                      \n",
       "DBSCAN #0     {'algorithm': 'auto', 'eps': 0.23, 'leaf_size'...   \n",
       "DBSCAN #1     {'algorithm': 'auto', 'eps': 0.247812500000000...   \n",
       "DBSCAN #2     {'algorithm': 'auto', 'eps': 0.265625, 'leaf_s...   \n",
       "DBSCAN #3     {'algorithm': 'auto', 'eps': 0.2834375, 'leaf_...   \n",
       "DBSCAN #4     {'algorithm': 'auto', 'eps': 0.30125, 'leaf_si...   \n",
       "\n",
       "                                                      partition  n_clusters  \n",
       "clusterer_id                                                                 \n",
       "DBSCAN #0     [0.0, nan, nan, nan, 0.0, nan, nan, nan, nan, ...          16  \n",
       "DBSCAN #1     [0.0, nan, nan, nan, 0.0, nan, nan, nan, nan, ...          14  \n",
       "DBSCAN #2     [0.0, nan, nan, nan, 0.0, nan, nan, 0.0, nan, ...           9  \n",
       "DBSCAN #3     [0.0, nan, 0.0, nan, 0.0, nan, nan, 0.0, nan, ...           6  \n",
       "DBSCAN #4     [0.0, nan, 0.0, 0.0, 0.0, nan, nan, 0.0, nan, ...           2  "
      ]
     },
     "execution_count": 28,
     "metadata": {},
     "output_type": "execute_result"
    }
   ],
   "source": [
    "ensemble.head()"
   ]
  },
  {
   "cell_type": "code",
   "execution_count": 29,
   "id": "6d4a10cc",
   "metadata": {
    "execution": {
     "iopub.execute_input": "2022-11-26T03:15:56.308494Z",
     "iopub.status.busy": "2022-11-26T03:15:56.308315Z",
     "iopub.status.idle": "2022-11-26T03:15:56.328773Z",
     "shell.execute_reply": "2022-11-26T03:15:56.328396Z"
    },
    "papermill": {
     "duration": 0.098322,
     "end_time": "2022-11-26T03:15:56.329551",
     "exception": false,
     "start_time": "2022-11-26T03:15:56.231229",
     "status": "completed"
    },
    "tags": []
   },
   "outputs": [
    {
     "data": {
      "text/plain": [
       "2    237\n",
       "5      9\n",
       "8      7\n",
       "6      7\n",
       "7      6\n",
       "Name: n_clusters, dtype: int64"
      ]
     },
     "execution_count": 29,
     "metadata": {},
     "output_type": "execute_result"
    }
   ],
   "source": [
    "ensemble[\"n_clusters\"].value_counts().head()"
   ]
  },
  {
   "cell_type": "code",
   "execution_count": 30,
   "id": "386fc623",
   "metadata": {
    "execution": {
     "iopub.execute_input": "2022-11-26T03:15:56.504080Z",
     "iopub.status.busy": "2022-11-26T03:15:56.503749Z",
     "iopub.status.idle": "2022-11-26T03:15:56.526208Z",
     "shell.execute_reply": "2022-11-26T03:15:56.525833Z"
    },
    "papermill": {
     "duration": 0.121203,
     "end_time": "2022-11-26T03:15:56.526974",
     "exception": false,
     "start_time": "2022-11-26T03:15:56.405771",
     "status": "completed"
    },
    "tags": []
   },
   "outputs": [
    {
     "data": {
      "text/plain": [
       "count    287.000000\n",
       "mean       2.790941\n",
       "std        2.078408\n",
       "min        2.000000\n",
       "25%        2.000000\n",
       "50%        2.000000\n",
       "75%        2.000000\n",
       "max       16.000000\n",
       "Name: n_clusters, dtype: float64"
      ]
     },
     "metadata": {},
     "output_type": "display_data"
    }
   ],
   "source": [
    "ensemble_stats = ensemble[\"n_clusters\"].describe()\n",
    "display(ensemble_stats)"
   ]
  },
  {
   "cell_type": "code",
   "execution_count": 31,
   "id": "cef9fa77",
   "metadata": {
    "execution": {
     "iopub.execute_input": "2022-11-26T03:15:56.680257Z",
     "iopub.status.busy": "2022-11-26T03:15:56.679901Z",
     "iopub.status.idle": "2022-11-26T03:15:56.698261Z",
     "shell.execute_reply": "2022-11-26T03:15:56.697876Z"
    },
    "papermill": {
     "duration": 0.095925,
     "end_time": "2022-11-26T03:15:56.699116",
     "exception": false,
     "start_time": "2022-11-26T03:15:56.603191",
     "status": "completed"
    },
    "tags": []
   },
   "outputs": [],
   "source": [
    "assert (\n",
    "    ensemble.shape[0] > 0\n",
    "), \"Ensemble is empty, stopping here (this is not actually an error if running null simulations)\""
   ]
  },
  {
   "cell_type": "markdown",
   "id": "df03398a",
   "metadata": {
    "papermill": {
     "duration": 0.075946,
     "end_time": "2022-11-26T03:15:56.851198",
     "exception": false,
     "start_time": "2022-11-26T03:15:56.775252",
     "status": "completed"
    },
    "tags": []
   },
   "source": [
    "### Testing"
   ]
  },
  {
   "cell_type": "code",
   "execution_count": 32,
   "id": "6bbebef5",
   "metadata": {
    "execution": {
     "iopub.execute_input": "2022-11-26T03:15:57.006073Z",
     "iopub.status.busy": "2022-11-26T03:15:57.005684Z",
     "iopub.status.idle": "2022-11-26T03:15:57.025084Z",
     "shell.execute_reply": "2022-11-26T03:15:57.024690Z"
    },
    "papermill": {
     "duration": 0.098164,
     "end_time": "2022-11-26T03:15:57.025870",
     "exception": false,
     "start_time": "2022-11-26T03:15:56.927706",
     "status": "completed"
    },
    "tags": []
   },
   "outputs": [],
   "source": [
    "assert ensemble_stats[\"min\"] > 1"
   ]
  },
  {
   "cell_type": "code",
   "execution_count": 33,
   "id": "13bfd3fd",
   "metadata": {
    "execution": {
     "iopub.execute_input": "2022-11-26T03:15:57.200868Z",
     "iopub.status.busy": "2022-11-26T03:15:57.200475Z",
     "iopub.status.idle": "2022-11-26T03:15:57.219259Z",
     "shell.execute_reply": "2022-11-26T03:15:57.218880Z"
    },
    "papermill": {
     "duration": 0.116383,
     "end_time": "2022-11-26T03:15:57.220099",
     "exception": false,
     "start_time": "2022-11-26T03:15:57.103716",
     "status": "completed"
    },
    "tags": []
   },
   "outputs": [],
   "source": [
    "assert not ensemble[\"n_clusters\"].isna().any()"
   ]
  },
  {
   "cell_type": "code",
   "execution_count": 34,
   "id": "f3ececba",
   "metadata": {
    "execution": {
     "iopub.execute_input": "2022-11-26T03:15:57.372791Z",
     "iopub.status.busy": "2022-11-26T03:15:57.372637Z",
     "iopub.status.idle": "2022-11-26T03:15:57.390365Z",
     "shell.execute_reply": "2022-11-26T03:15:57.389987Z"
    },
    "papermill": {
     "duration": 0.0951,
     "end_time": "2022-11-26T03:15:57.391224",
     "exception": false,
     "start_time": "2022-11-26T03:15:57.296124",
     "status": "completed"
    },
    "tags": []
   },
   "outputs": [],
   "source": [
    "# assert ensemble.shape[0] == len(CLUSTERERS)"
   ]
  },
  {
   "cell_type": "code",
   "execution_count": 35,
   "id": "db86bded",
   "metadata": {
    "execution": {
     "iopub.execute_input": "2022-11-26T03:15:57.545263Z",
     "iopub.status.busy": "2022-11-26T03:15:57.544909Z",
     "iopub.status.idle": "2022-11-26T03:15:57.586387Z",
     "shell.execute_reply": "2022-11-26T03:15:57.586000Z"
    },
    "papermill": {
     "duration": 0.119386,
     "end_time": "2022-11-26T03:15:57.587145",
     "exception": false,
     "start_time": "2022-11-26T03:15:57.467759",
     "status": "completed"
    },
    "tags": []
   },
   "outputs": [],
   "source": [
    "# all partitions have the right size\n",
    "assert np.all(\n",
    "    [part[\"partition\"].shape[0] == data.shape[0] for idx, part in ensemble.iterrows()]\n",
    ")"
   ]
  },
  {
   "cell_type": "code",
   "execution_count": 36,
   "id": "e0663b13",
   "metadata": {
    "execution": {
     "iopub.execute_input": "2022-11-26T03:15:57.743938Z",
     "iopub.status.busy": "2022-11-26T03:15:57.743626Z",
     "iopub.status.idle": "2022-11-26T03:15:57.788190Z",
     "shell.execute_reply": "2022-11-26T03:15:57.787779Z"
    },
    "papermill": {
     "duration": 0.122303,
     "end_time": "2022-11-26T03:15:57.789081",
     "exception": false,
     "start_time": "2022-11-26T03:15:57.666778",
     "status": "completed"
    },
    "tags": []
   },
   "outputs": [],
   "source": [
    "# no partition has negative clusters (noisy points)\n",
    "assert not np.any([(part[\"partition\"] < 0).any() for idx, part in ensemble.iterrows()])"
   ]
  },
  {
   "cell_type": "markdown",
   "id": "a39424f4",
   "metadata": {
    "papermill": {
     "duration": 0.075359,
     "end_time": "2022-11-26T03:15:57.961279",
     "exception": false,
     "start_time": "2022-11-26T03:15:57.885920",
     "status": "completed"
    },
    "tags": []
   },
   "source": [
    "### Save"
   ]
  },
  {
   "cell_type": "code",
   "execution_count": 37,
   "id": "7b804a12",
   "metadata": {
    "execution": {
     "iopub.execute_input": "2022-11-26T03:15:58.114517Z",
     "iopub.status.busy": "2022-11-26T03:15:58.114089Z",
     "iopub.status.idle": "2022-11-26T03:15:58.134475Z",
     "shell.execute_reply": "2022-11-26T03:15:58.134103Z"
    },
    "papermill": {
     "duration": 0.098118,
     "end_time": "2022-11-26T03:15:58.135217",
     "exception": false,
     "start_time": "2022-11-26T03:15:58.037099",
     "status": "completed"
    },
    "tags": []
   },
   "outputs": [
    {
     "data": {
      "text/plain": [
       "PosixPath('/opt/data/results/clustering/null_sims/shuffle_lvs/runs/umap-z_score_std-projection-smultixcan-efo_partial-mashr-zscores/DBSCAN.pkl')"
      ]
     },
     "metadata": {},
     "output_type": "display_data"
    }
   ],
   "source": [
    "output_filename = Path(\n",
    "    RESULTS_DIR,\n",
    "    generate_result_set_name(\n",
    "        {},\n",
    "        #         CLUSTERING_OPTIONS,\n",
    "        prefix=f\"{clustering_method_name}\",\n",
    "        suffix=\".pkl\",\n",
    "    ),\n",
    ").resolve()\n",
    "display(output_filename)"
   ]
  },
  {
   "cell_type": "code",
   "execution_count": 38,
   "id": "45336963",
   "metadata": {
    "execution": {
     "iopub.execute_input": "2022-11-26T03:15:58.288825Z",
     "iopub.status.busy": "2022-11-26T03:15:58.288668Z",
     "iopub.status.idle": "2022-11-26T03:15:58.319704Z",
     "shell.execute_reply": "2022-11-26T03:15:58.319266Z"
    },
    "papermill": {
     "duration": 0.109147,
     "end_time": "2022-11-26T03:15:58.320601",
     "exception": false,
     "start_time": "2022-11-26T03:15:58.211454",
     "status": "completed"
    },
    "tags": []
   },
   "outputs": [],
   "source": [
    "ensemble.to_pickle(output_filename)"
   ]
  },
  {
   "cell_type": "code",
   "execution_count": null,
   "id": "33572324",
   "metadata": {
    "papermill": {
     "duration": 0.075568,
     "end_time": "2022-11-26T03:15:58.472084",
     "exception": false,
     "start_time": "2022-11-26T03:15:58.396516",
     "status": "completed"
    },
    "tags": []
   },
   "outputs": [],
   "source": []
  }
 ],
 "metadata": {
  "jupytext": {
   "cell_metadata_filter": "all,-execution,-papermill,-trusted",
   "formats": "ipynb,py//py:percent"
  },
  "kernelspec": {
   "display_name": "Python 3 (ipykernel)",
   "language": "python",
   "name": "python3"
  },
  "language_info": {
   "codemirror_mode": {
    "name": "ipython",
    "version": 3
   },
   "file_extension": ".py",
   "mimetype": "text/x-python",
   "name": "python",
   "nbconvert_exporter": "python",
   "pygments_lexer": "ipython3",
   "version": "3.8.13"
  },
  "papermill": {
   "default_parameters": {},
   "duration": 425.775688,
   "end_time": "2022-11-26T03:15:58.884929",
   "environment_variables": {},
   "exception": null,
   "input_path": "nbs/13.1_cluster_analysis_null/05-shuffle_lvs/12_02-dbscan-umap.ipynb",
   "output_path": "nbs/13.1_cluster_analysis_null/05-shuffle_lvs/12_02-dbscan-umap.run.ipynb",
   "parameters": {},
   "start_time": "2022-11-26T03:08:53.109241",
   "version": "2.2.2"
  },
  "toc-autonumbering": true,
  "toc-showcode": false,
  "toc-showmarkdowntxt": false,
  "toc-showtags": false
 },
 "nbformat": 4,
 "nbformat_minor": 5
}
