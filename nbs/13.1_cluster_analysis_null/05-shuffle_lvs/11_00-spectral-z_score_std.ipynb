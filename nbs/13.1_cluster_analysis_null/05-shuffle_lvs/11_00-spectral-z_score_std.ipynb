{
 "cells": [
  {
   "cell_type": "markdown",
   "id": "e6114bcb",
   "metadata": {
    "papermill": {
     "duration": 0.013296,
     "end_time": "2022-11-25T05:13:30.815241",
     "exception": false,
     "start_time": "2022-11-25T05:13:30.801945",
     "status": "completed"
    },
    "tags": []
   },
   "source": [
    "# Description"
   ]
  },
  {
   "cell_type": "markdown",
   "id": "9e9a79a6",
   "metadata": {
    "papermill": {
     "duration": 0.011632,
     "end_time": "2022-11-25T05:13:30.838791",
     "exception": false,
     "start_time": "2022-11-25T05:13:30.827159",
     "status": "completed"
    },
    "tags": []
   },
   "source": [
    "Runs spectral clustering on the z_score_std version of the data."
   ]
  },
  {
   "cell_type": "markdown",
   "id": "f26d1044",
   "metadata": {
    "papermill": {
     "duration": 0.011923,
     "end_time": "2022-11-25T05:13:30.862592",
     "exception": false,
     "start_time": "2022-11-25T05:13:30.850669",
     "status": "completed"
    },
    "tags": []
   },
   "source": [
    "# Environment variables"
   ]
  },
  {
   "cell_type": "code",
   "execution_count": 1,
   "id": "2e3a323b",
   "metadata": {
    "execution": {
     "iopub.execute_input": "2022-11-25T05:13:30.886171Z",
     "iopub.status.busy": "2022-11-25T05:13:30.885979Z",
     "iopub.status.idle": "2022-11-25T05:13:30.904390Z",
     "shell.execute_reply": "2022-11-25T05:13:30.903879Z"
    },
    "papermill": {
     "duration": 0.030876,
     "end_time": "2022-11-25T05:13:30.905266",
     "exception": false,
     "start_time": "2022-11-25T05:13:30.874390",
     "status": "completed"
    },
    "tags": []
   },
   "outputs": [
    {
     "data": {
      "text/plain": [
       "10"
      ]
     },
     "metadata": {},
     "output_type": "display_data"
    }
   ],
   "source": [
    "from IPython.display import display\n",
    "\n",
    "import conf\n",
    "\n",
    "N_JOBS = conf.GENERAL[\"N_JOBS\"]\n",
    "display(N_JOBS)"
   ]
  },
  {
   "cell_type": "code",
   "execution_count": 2,
   "id": "8372510c",
   "metadata": {
    "execution": {
     "iopub.execute_input": "2022-11-25T05:13:30.918649Z",
     "iopub.status.busy": "2022-11-25T05:13:30.918499Z",
     "iopub.status.idle": "2022-11-25T05:13:30.924419Z",
     "shell.execute_reply": "2022-11-25T05:13:30.923928Z"
    },
    "papermill": {
     "duration": 0.013629,
     "end_time": "2022-11-25T05:13:30.925264",
     "exception": false,
     "start_time": "2022-11-25T05:13:30.911635",
     "status": "completed"
    },
    "tags": []
   },
   "outputs": [
    {
     "name": "stdout",
     "output_type": "stream",
     "text": [
      "env: MKL_NUM_THREADS=10\n",
      "env: OPEN_BLAS_NUM_THREADS=10\n",
      "env: NUMEXPR_NUM_THREADS=10\n",
      "env: OMP_NUM_THREADS=10\n"
     ]
    }
   ],
   "source": [
    "%env MKL_NUM_THREADS=$N_JOBS\n",
    "%env OPEN_BLAS_NUM_THREADS=$N_JOBS\n",
    "%env NUMEXPR_NUM_THREADS=$N_JOBS\n",
    "%env OMP_NUM_THREADS=$N_JOBS"
   ]
  },
  {
   "cell_type": "markdown",
   "id": "810b29c6",
   "metadata": {
    "papermill": {
     "duration": 0.006339,
     "end_time": "2022-11-25T05:13:30.937941",
     "exception": false,
     "start_time": "2022-11-25T05:13:30.931602",
     "status": "completed"
    },
    "tags": []
   },
   "source": [
    "# Modules loading"
   ]
  },
  {
   "cell_type": "code",
   "execution_count": 3,
   "id": "695a702f",
   "metadata": {
    "execution": {
     "iopub.execute_input": "2022-11-25T05:13:30.951866Z",
     "iopub.status.busy": "2022-11-25T05:13:30.951505Z",
     "iopub.status.idle": "2022-11-25T05:13:30.964413Z",
     "shell.execute_reply": "2022-11-25T05:13:30.963886Z"
    },
    "papermill": {
     "duration": 0.02089,
     "end_time": "2022-11-25T05:13:30.965463",
     "exception": false,
     "start_time": "2022-11-25T05:13:30.944573",
     "status": "completed"
    },
    "tags": []
   },
   "outputs": [],
   "source": [
    "%load_ext autoreload\n",
    "%autoreload 2"
   ]
  },
  {
   "cell_type": "code",
   "execution_count": 4,
   "id": "1fe8f458",
   "metadata": {
    "execution": {
     "iopub.execute_input": "2022-11-25T05:13:30.978973Z",
     "iopub.status.busy": "2022-11-25T05:13:30.978817Z",
     "iopub.status.idle": "2022-11-25T05:13:31.433935Z",
     "shell.execute_reply": "2022-11-25T05:13:31.433524Z"
    },
    "papermill": {
     "duration": 0.463642,
     "end_time": "2022-11-25T05:13:31.435335",
     "exception": false,
     "start_time": "2022-11-25T05:13:30.971693",
     "status": "completed"
    },
    "tags": []
   },
   "outputs": [],
   "source": [
    "from pathlib import Path\n",
    "\n",
    "import numpy as np\n",
    "import pandas as pd\n",
    "import matplotlib.pyplot as plt\n",
    "import seaborn as sns\n",
    "\n",
    "from utils import generate_result_set_name"
   ]
  },
  {
   "cell_type": "markdown",
   "id": "10f14cd6",
   "metadata": {
    "papermill": {
     "duration": 0.011623,
     "end_time": "2022-11-25T05:13:31.458875",
     "exception": false,
     "start_time": "2022-11-25T05:13:31.447252",
     "status": "completed"
    },
    "tags": []
   },
   "source": [
    "# Settings"
   ]
  },
  {
   "cell_type": "code",
   "execution_count": 5,
   "id": "6d7d50c8",
   "metadata": {
    "execution": {
     "iopub.execute_input": "2022-11-25T05:13:31.483590Z",
     "iopub.status.busy": "2022-11-25T05:13:31.483488Z",
     "iopub.status.idle": "2022-11-25T05:13:31.494245Z",
     "shell.execute_reply": "2022-11-25T05:13:31.493896Z"
    },
    "papermill": {
     "duration": 0.024766,
     "end_time": "2022-11-25T05:13:31.495449",
     "exception": false,
     "start_time": "2022-11-25T05:13:31.470683",
     "status": "completed"
    },
    "tags": []
   },
   "outputs": [],
   "source": [
    "np.random.seed(0)"
   ]
  },
  {
   "cell_type": "code",
   "execution_count": 6,
   "id": "dc7e4745",
   "metadata": {
    "execution": {
     "iopub.execute_input": "2022-11-25T05:13:31.544692Z",
     "iopub.status.busy": "2022-11-25T05:13:31.544594Z",
     "iopub.status.idle": "2022-11-25T05:13:31.560194Z",
     "shell.execute_reply": "2022-11-25T05:13:31.559736Z"
    },
    "papermill": {
     "duration": 0.028101,
     "end_time": "2022-11-25T05:13:31.561039",
     "exception": false,
     "start_time": "2022-11-25T05:13:31.532938",
     "status": "completed"
    },
    "tags": []
   },
   "outputs": [],
   "source": [
    "INITIAL_RANDOM_STATE = 30000"
   ]
  },
  {
   "cell_type": "code",
   "execution_count": 7,
   "id": "5f64fcf5-ebe4-45ed-949a-b961e25f546f",
   "metadata": {
    "execution": {
     "iopub.execute_input": "2022-11-25T05:13:31.574549Z",
     "iopub.status.busy": "2022-11-25T05:13:31.574398Z",
     "iopub.status.idle": "2022-11-25T05:13:31.591068Z",
     "shell.execute_reply": "2022-11-25T05:13:31.590608Z"
    },
    "papermill": {
     "duration": 0.024341,
     "end_time": "2022-11-25T05:13:31.591953",
     "exception": false,
     "start_time": "2022-11-25T05:13:31.567612",
     "status": "completed"
    },
    "tags": []
   },
   "outputs": [],
   "source": [
    "NULL_DIR = conf.RESULTS[\"CLUSTERING_NULL_DIR\"] / \"shuffle_lvs\""
   ]
  },
  {
   "cell_type": "markdown",
   "id": "ffcbae0e",
   "metadata": {
    "papermill": {
     "duration": 0.006087,
     "end_time": "2022-11-25T05:13:31.604278",
     "exception": false,
     "start_time": "2022-11-25T05:13:31.598191",
     "status": "completed"
    },
    "tags": []
   },
   "source": [
    "## Input data"
   ]
  },
  {
   "cell_type": "code",
   "execution_count": 8,
   "id": "8e43efdd",
   "metadata": {
    "execution": {
     "iopub.execute_input": "2022-11-25T05:13:31.617634Z",
     "iopub.status.busy": "2022-11-25T05:13:31.617482Z",
     "iopub.status.idle": "2022-11-25T05:13:31.633862Z",
     "shell.execute_reply": "2022-11-25T05:13:31.633409Z"
    },
    "papermill": {
     "duration": 0.024001,
     "end_time": "2022-11-25T05:13:31.634771",
     "exception": false,
     "start_time": "2022-11-25T05:13:31.610770",
     "status": "completed"
    },
    "tags": []
   },
   "outputs": [],
   "source": [
    "INPUT_SUBSET = \"z_score_std\""
   ]
  },
  {
   "cell_type": "code",
   "execution_count": 9,
   "id": "249ac745",
   "metadata": {
    "execution": {
     "iopub.execute_input": "2022-11-25T05:13:31.648232Z",
     "iopub.status.busy": "2022-11-25T05:13:31.647895Z",
     "iopub.status.idle": "2022-11-25T05:13:31.664247Z",
     "shell.execute_reply": "2022-11-25T05:13:31.663797Z"
    },
    "papermill": {
     "duration": 0.024113,
     "end_time": "2022-11-25T05:13:31.665135",
     "exception": false,
     "start_time": "2022-11-25T05:13:31.641022",
     "status": "completed"
    },
    "tags": []
   },
   "outputs": [],
   "source": [
    "INPUT_STEM = \"projection-smultixcan-efo_partial-mashr-zscores\""
   ]
  },
  {
   "cell_type": "code",
   "execution_count": 10,
   "id": "e2284187",
   "metadata": {
    "execution": {
     "iopub.execute_input": "2022-11-25T05:13:31.678267Z",
     "iopub.status.busy": "2022-11-25T05:13:31.678116Z",
     "iopub.status.idle": "2022-11-25T05:13:31.697028Z",
     "shell.execute_reply": "2022-11-25T05:13:31.696581Z"
    },
    "papermill": {
     "duration": 0.026446,
     "end_time": "2022-11-25T05:13:31.697845",
     "exception": false,
     "start_time": "2022-11-25T05:13:31.671399",
     "status": "completed"
    },
    "tags": []
   },
   "outputs": [
    {
     "data": {
      "text/plain": [
       "PosixPath('/opt/data/results/clustering/null_sims/shuffle_lvs/data_transformations/z_score_std/z_score_std-projection-smultixcan-efo_partial-mashr-zscores.pkl')"
      ]
     },
     "metadata": {},
     "output_type": "display_data"
    },
    {
     "data": {
      "text/plain": [
       "'z_score_std-projection-smultixcan-efo_partial-mashr-zscores'"
      ]
     },
     "metadata": {},
     "output_type": "display_data"
    }
   ],
   "source": [
    "input_filepath = Path(\n",
    "    NULL_DIR,\n",
    "    \"data_transformations\",\n",
    "    INPUT_SUBSET,\n",
    "    f\"{INPUT_SUBSET}-{INPUT_STEM}.pkl\",\n",
    ").resolve()\n",
    "display(input_filepath)\n",
    "\n",
    "assert input_filepath.exists(), \"Input file does not exist\"\n",
    "\n",
    "input_filepath_stem = input_filepath.stem\n",
    "display(input_filepath_stem)"
   ]
  },
  {
   "cell_type": "markdown",
   "id": "95134d20",
   "metadata": {
    "papermill": {
     "duration": 0.006299,
     "end_time": "2022-11-25T05:13:31.710431",
     "exception": false,
     "start_time": "2022-11-25T05:13:31.704132",
     "status": "completed"
    },
    "tags": []
   },
   "source": [
    "## Clustering"
   ]
  },
  {
   "cell_type": "code",
   "execution_count": 11,
   "id": "4a2e3595",
   "metadata": {
    "execution": {
     "iopub.execute_input": "2022-11-25T05:13:31.723871Z",
     "iopub.status.busy": "2022-11-25T05:13:31.723534Z",
     "iopub.status.idle": "2022-11-25T05:13:31.809174Z",
     "shell.execute_reply": "2022-11-25T05:13:31.808768Z"
    },
    "papermill": {
     "duration": 0.093646,
     "end_time": "2022-11-25T05:13:31.810384",
     "exception": false,
     "start_time": "2022-11-25T05:13:31.716738",
     "status": "completed"
    },
    "tags": []
   },
   "outputs": [],
   "source": [
    "from sklearn.cluster import SpectralClustering"
   ]
  },
  {
   "cell_type": "code",
   "execution_count": 12,
   "id": "2498716e",
   "metadata": {
    "execution": {
     "iopub.execute_input": "2022-11-25T05:13:31.835562Z",
     "iopub.status.busy": "2022-11-25T05:13:31.835410Z",
     "iopub.status.idle": "2022-11-25T05:13:31.847395Z",
     "shell.execute_reply": "2022-11-25T05:13:31.847051Z"
    },
    "papermill": {
     "duration": 0.025663,
     "end_time": "2022-11-25T05:13:31.848622",
     "exception": false,
     "start_time": "2022-11-25T05:13:31.822959",
     "status": "completed"
    },
    "tags": []
   },
   "outputs": [],
   "source": [
    "CLUSTERING_ATTRIBUTES_TO_SAVE = [\"n_clusters\"]"
   ]
  },
  {
   "cell_type": "code",
   "execution_count": 13,
   "id": "0769dc6f",
   "metadata": {
    "execution": {
     "iopub.execute_input": "2022-11-25T05:13:31.873224Z",
     "iopub.status.busy": "2022-11-25T05:13:31.873127Z",
     "iopub.status.idle": "2022-11-25T05:13:31.892273Z",
     "shell.execute_reply": "2022-11-25T05:13:31.891833Z"
    },
    "papermill": {
     "duration": 0.032831,
     "end_time": "2022-11-25T05:13:31.893606",
     "exception": false,
     "start_time": "2022-11-25T05:13:31.860775",
     "status": "completed"
    },
    "tags": []
   },
   "outputs": [
    {
     "data": {
      "text/plain": [
       "{'K_MIN': 2,\n",
       " 'K_MAX': 60,\n",
       " 'N_REPS_PER_K': 5,\n",
       " 'KMEANS_N_INIT': 10,\n",
       " 'GAMMA': 0.001,\n",
       " 'AFFINITY': 'rbf'}"
      ]
     },
     "metadata": {},
     "output_type": "display_data"
    }
   ],
   "source": [
    "CLUSTERING_OPTIONS = {}\n",
    "\n",
    "CLUSTERING_OPTIONS[\"K_MIN\"] = 2\n",
    "CLUSTERING_OPTIONS[\"K_MAX\"] = 60  # sqrt(3749)\n",
    "CLUSTERING_OPTIONS[\"N_REPS_PER_K\"] = 5\n",
    "CLUSTERING_OPTIONS[\"KMEANS_N_INIT\"] = 10\n",
    "CLUSTERING_OPTIONS[\"GAMMA\"] = 1.0e-03\n",
    "CLUSTERING_OPTIONS[\"AFFINITY\"] = \"rbf\"\n",
    "\n",
    "display(CLUSTERING_OPTIONS)"
   ]
  },
  {
   "cell_type": "code",
   "execution_count": 14,
   "id": "c1f431fb",
   "metadata": {
    "execution": {
     "iopub.execute_input": "2022-11-25T05:13:31.919173Z",
     "iopub.status.busy": "2022-11-25T05:13:31.918839Z",
     "iopub.status.idle": "2022-11-25T05:13:31.940645Z",
     "shell.execute_reply": "2022-11-25T05:13:31.940178Z"
    },
    "papermill": {
     "duration": 0.035891,
     "end_time": "2022-11-25T05:13:31.942016",
     "exception": false,
     "start_time": "2022-11-25T05:13:31.906125",
     "status": "completed"
    },
    "tags": []
   },
   "outputs": [],
   "source": [
    "CLUSTERERS = {}\n",
    "\n",
    "idx = 0\n",
    "random_state = INITIAL_RANDOM_STATE\n",
    "\n",
    "for k in range(CLUSTERING_OPTIONS[\"K_MIN\"], CLUSTERING_OPTIONS[\"K_MAX\"] + 1):\n",
    "    for i in range(CLUSTERING_OPTIONS[\"N_REPS_PER_K\"]):\n",
    "        clus = SpectralClustering(\n",
    "            eigen_solver=\"arpack\",\n",
    "            n_clusters=k,\n",
    "            n_init=CLUSTERING_OPTIONS[\"KMEANS_N_INIT\"],\n",
    "            affinity=CLUSTERING_OPTIONS[\"AFFINITY\"],\n",
    "            gamma=CLUSTERING_OPTIONS[\"GAMMA\"],\n",
    "            random_state=random_state,\n",
    "        )\n",
    "\n",
    "        method_name = type(clus).__name__\n",
    "        CLUSTERERS[f\"{method_name} #{idx}\"] = clus\n",
    "\n",
    "        random_state = random_state + 1\n",
    "        idx = idx + 1"
   ]
  },
  {
   "cell_type": "code",
   "execution_count": 15,
   "id": "d4834a14",
   "metadata": {
    "execution": {
     "iopub.execute_input": "2022-11-25T05:13:31.967475Z",
     "iopub.status.busy": "2022-11-25T05:13:31.967139Z",
     "iopub.status.idle": "2022-11-25T05:13:31.986062Z",
     "shell.execute_reply": "2022-11-25T05:13:31.985620Z"
    },
    "papermill": {
     "duration": 0.033131,
     "end_time": "2022-11-25T05:13:31.987351",
     "exception": false,
     "start_time": "2022-11-25T05:13:31.954220",
     "status": "completed"
    },
    "tags": []
   },
   "outputs": [
    {
     "data": {
      "text/plain": [
       "295"
      ]
     },
     "metadata": {},
     "output_type": "display_data"
    }
   ],
   "source": [
    "display(len(CLUSTERERS))"
   ]
  },
  {
   "cell_type": "code",
   "execution_count": 16,
   "id": "7bb148cc",
   "metadata": {
    "execution": {
     "iopub.execute_input": "2022-11-25T05:13:32.012932Z",
     "iopub.status.busy": "2022-11-25T05:13:32.012591Z",
     "iopub.status.idle": "2022-11-25T05:13:32.033919Z",
     "shell.execute_reply": "2022-11-25T05:13:32.033476Z"
    },
    "papermill": {
     "duration": 0.035509,
     "end_time": "2022-11-25T05:13:32.035264",
     "exception": false,
     "start_time": "2022-11-25T05:13:31.999755",
     "status": "completed"
    },
    "tags": []
   },
   "outputs": [
    {
     "data": {
      "text/plain": [
       "('SpectralClustering #0',\n",
       " SpectralClustering(eigen_solver='arpack', gamma=0.001, n_clusters=2,\n",
       "                    random_state=30000))"
      ]
     },
     "metadata": {},
     "output_type": "display_data"
    },
    {
     "data": {
      "text/plain": [
       "('SpectralClustering #1',\n",
       " SpectralClustering(eigen_solver='arpack', gamma=0.001, n_clusters=2,\n",
       "                    random_state=30001))"
      ]
     },
     "metadata": {},
     "output_type": "display_data"
    }
   ],
   "source": [
    "_iter = iter(CLUSTERERS.items())\n",
    "display(next(_iter))\n",
    "display(next(_iter))"
   ]
  },
  {
   "cell_type": "code",
   "execution_count": 17,
   "id": "92619f83",
   "metadata": {
    "execution": {
     "iopub.execute_input": "2022-11-25T05:13:32.061553Z",
     "iopub.status.busy": "2022-11-25T05:13:32.061217Z",
     "iopub.status.idle": "2022-11-25T05:13:32.080199Z",
     "shell.execute_reply": "2022-11-25T05:13:32.079753Z"
    },
    "papermill": {
     "duration": 0.033485,
     "end_time": "2022-11-25T05:13:32.081561",
     "exception": false,
     "start_time": "2022-11-25T05:13:32.048076",
     "status": "completed"
    },
    "tags": []
   },
   "outputs": [
    {
     "data": {
      "text/plain": [
       "'SpectralClustering'"
      ]
     },
     "metadata": {},
     "output_type": "display_data"
    }
   ],
   "source": [
    "clustering_method_name = method_name\n",
    "display(clustering_method_name)"
   ]
  },
  {
   "cell_type": "markdown",
   "id": "b0bc30ae",
   "metadata": {
    "papermill": {
     "duration": 0.01264,
     "end_time": "2022-11-25T05:13:32.106888",
     "exception": false,
     "start_time": "2022-11-25T05:13:32.094248",
     "status": "completed"
    },
    "tags": []
   },
   "source": [
    "## Output directory"
   ]
  },
  {
   "cell_type": "code",
   "execution_count": 18,
   "id": "1acd4fab",
   "metadata": {
    "execution": {
     "iopub.execute_input": "2022-11-25T05:13:32.132163Z",
     "iopub.status.busy": "2022-11-25T05:13:32.131829Z",
     "iopub.status.idle": "2022-11-25T05:13:32.151592Z",
     "shell.execute_reply": "2022-11-25T05:13:32.151149Z"
    },
    "papermill": {
     "duration": 0.032998,
     "end_time": "2022-11-25T05:13:32.152418",
     "exception": false,
     "start_time": "2022-11-25T05:13:32.119420",
     "status": "completed"
    },
    "tags": []
   },
   "outputs": [
    {
     "data": {
      "text/plain": [
       "PosixPath('/opt/data/results/clustering/null_sims/shuffle_lvs/runs/z_score_std-projection-smultixcan-efo_partial-mashr-zscores')"
      ]
     },
     "metadata": {},
     "output_type": "display_data"
    }
   ],
   "source": [
    "# output dir for this notebook\n",
    "RESULTS_DIR = Path(\n",
    "    NULL_DIR,\n",
    "    \"runs\",\n",
    "    f\"{INPUT_SUBSET}-{INPUT_STEM}\",\n",
    ").resolve()\n",
    "RESULTS_DIR.mkdir(parents=True, exist_ok=True)\n",
    "\n",
    "display(RESULTS_DIR)"
   ]
  },
  {
   "cell_type": "markdown",
   "id": "93d0ea08",
   "metadata": {
    "papermill": {
     "duration": 0.006481,
     "end_time": "2022-11-25T05:13:32.165690",
     "exception": false,
     "start_time": "2022-11-25T05:13:32.159209",
     "status": "completed"
    },
    "tags": []
   },
   "source": [
    "# Load input file"
   ]
  },
  {
   "cell_type": "code",
   "execution_count": 19,
   "id": "1f832cf4",
   "metadata": {
    "execution": {
     "iopub.execute_input": "2022-11-25T05:13:32.179722Z",
     "iopub.status.busy": "2022-11-25T05:13:32.179466Z",
     "iopub.status.idle": "2022-11-25T05:13:32.215448Z",
     "shell.execute_reply": "2022-11-25T05:13:32.214917Z"
    },
    "papermill": {
     "duration": 0.044094,
     "end_time": "2022-11-25T05:13:32.216394",
     "exception": false,
     "start_time": "2022-11-25T05:13:32.172300",
     "status": "completed"
    },
    "tags": []
   },
   "outputs": [],
   "source": [
    "data = pd.read_pickle(input_filepath)"
   ]
  },
  {
   "cell_type": "code",
   "execution_count": 20,
   "id": "a4f834a9",
   "metadata": {
    "execution": {
     "iopub.execute_input": "2022-11-25T05:13:32.230929Z",
     "iopub.status.busy": "2022-11-25T05:13:32.230594Z",
     "iopub.status.idle": "2022-11-25T05:13:32.250934Z",
     "shell.execute_reply": "2022-11-25T05:13:32.250491Z"
    },
    "papermill": {
     "duration": 0.028391,
     "end_time": "2022-11-25T05:13:32.251763",
     "exception": false,
     "start_time": "2022-11-25T05:13:32.223372",
     "status": "completed"
    },
    "tags": []
   },
   "outputs": [
    {
     "data": {
      "text/plain": [
       "(3752, 987)"
      ]
     },
     "execution_count": 20,
     "metadata": {},
     "output_type": "execute_result"
    }
   ],
   "source": [
    "data.shape"
   ]
  },
  {
   "cell_type": "code",
   "execution_count": 21,
   "id": "f87fed6a",
   "metadata": {
    "execution": {
     "iopub.execute_input": "2022-11-25T05:13:32.266047Z",
     "iopub.status.busy": "2022-11-25T05:13:32.265717Z",
     "iopub.status.idle": "2022-11-25T05:13:32.301428Z",
     "shell.execute_reply": "2022-11-25T05:13:32.300969Z"
    },
    "papermill": {
     "duration": 0.043759,
     "end_time": "2022-11-25T05:13:32.302248",
     "exception": false,
     "start_time": "2022-11-25T05:13:32.258489",
     "status": "completed"
    },
    "tags": []
   },
   "outputs": [
    {
     "data": {
      "text/html": [
       "<div>\n",
       "<style scoped>\n",
       "    .dataframe tbody tr th:only-of-type {\n",
       "        vertical-align: middle;\n",
       "    }\n",
       "\n",
       "    .dataframe tbody tr th {\n",
       "        vertical-align: top;\n",
       "    }\n",
       "\n",
       "    .dataframe thead th {\n",
       "        text-align: right;\n",
       "    }\n",
       "</style>\n",
       "<table border=\"1\" class=\"dataframe\">\n",
       "  <thead>\n",
       "    <tr style=\"text-align: right;\">\n",
       "      <th></th>\n",
       "      <th>LV1</th>\n",
       "      <th>LV2</th>\n",
       "      <th>LV3</th>\n",
       "      <th>LV4</th>\n",
       "      <th>LV5</th>\n",
       "      <th>LV6</th>\n",
       "      <th>LV7</th>\n",
       "      <th>LV8</th>\n",
       "      <th>LV9</th>\n",
       "      <th>LV10</th>\n",
       "      <th>...</th>\n",
       "      <th>LV978</th>\n",
       "      <th>LV979</th>\n",
       "      <th>LV980</th>\n",
       "      <th>LV981</th>\n",
       "      <th>LV982</th>\n",
       "      <th>LV983</th>\n",
       "      <th>LV984</th>\n",
       "      <th>LV985</th>\n",
       "      <th>LV986</th>\n",
       "      <th>LV987</th>\n",
       "    </tr>\n",
       "  </thead>\n",
       "  <tbody>\n",
       "    <tr>\n",
       "      <th>100001_raw-Food_weight</th>\n",
       "      <td>-2.408007</td>\n",
       "      <td>-1.745911</td>\n",
       "      <td>1.383013</td>\n",
       "      <td>0.158718</td>\n",
       "      <td>-0.240933</td>\n",
       "      <td>-0.304911</td>\n",
       "      <td>1.823117</td>\n",
       "      <td>-0.716278</td>\n",
       "      <td>-1.769346</td>\n",
       "      <td>-0.043794</td>\n",
       "      <td>...</td>\n",
       "      <td>0.399227</td>\n",
       "      <td>0.849885</td>\n",
       "      <td>-0.593292</td>\n",
       "      <td>0.636568</td>\n",
       "      <td>0.409726</td>\n",
       "      <td>-0.871713</td>\n",
       "      <td>1.638770</td>\n",
       "      <td>0.285165</td>\n",
       "      <td>0.585307</td>\n",
       "      <td>0.592347</td>\n",
       "    </tr>\n",
       "    <tr>\n",
       "      <th>100002_raw-Energy</th>\n",
       "      <td>-0.508508</td>\n",
       "      <td>0.514427</td>\n",
       "      <td>-0.792865</td>\n",
       "      <td>-0.091775</td>\n",
       "      <td>-0.013409</td>\n",
       "      <td>0.194047</td>\n",
       "      <td>1.353713</td>\n",
       "      <td>0.117286</td>\n",
       "      <td>-0.323516</td>\n",
       "      <td>-1.641116</td>\n",
       "      <td>...</td>\n",
       "      <td>-0.038535</td>\n",
       "      <td>-1.139394</td>\n",
       "      <td>-0.951591</td>\n",
       "      <td>1.197872</td>\n",
       "      <td>0.893819</td>\n",
       "      <td>-0.820655</td>\n",
       "      <td>0.928634</td>\n",
       "      <td>-0.716778</td>\n",
       "      <td>-0.085735</td>\n",
       "      <td>-1.208965</td>\n",
       "    </tr>\n",
       "    <tr>\n",
       "      <th>100003_raw-Protein</th>\n",
       "      <td>-0.284597</td>\n",
       "      <td>-0.325076</td>\n",
       "      <td>-1.412980</td>\n",
       "      <td>1.255510</td>\n",
       "      <td>0.343603</td>\n",
       "      <td>-2.471878</td>\n",
       "      <td>-0.149640</td>\n",
       "      <td>-0.715178</td>\n",
       "      <td>-0.548948</td>\n",
       "      <td>1.210352</td>\n",
       "      <td>...</td>\n",
       "      <td>1.006094</td>\n",
       "      <td>0.595064</td>\n",
       "      <td>1.774559</td>\n",
       "      <td>-0.335165</td>\n",
       "      <td>0.394177</td>\n",
       "      <td>-0.188345</td>\n",
       "      <td>-1.864716</td>\n",
       "      <td>-0.124875</td>\n",
       "      <td>1.253625</td>\n",
       "      <td>0.804944</td>\n",
       "    </tr>\n",
       "    <tr>\n",
       "      <th>100004_raw-Fat</th>\n",
       "      <td>-0.427503</td>\n",
       "      <td>-0.096524</td>\n",
       "      <td>-0.348654</td>\n",
       "      <td>-1.250087</td>\n",
       "      <td>-0.253145</td>\n",
       "      <td>-0.236606</td>\n",
       "      <td>-0.600627</td>\n",
       "      <td>0.277239</td>\n",
       "      <td>-0.844748</td>\n",
       "      <td>-0.998437</td>\n",
       "      <td>...</td>\n",
       "      <td>0.249993</td>\n",
       "      <td>-1.520660</td>\n",
       "      <td>0.037241</td>\n",
       "      <td>0.514992</td>\n",
       "      <td>0.512538</td>\n",
       "      <td>-1.083619</td>\n",
       "      <td>0.310643</td>\n",
       "      <td>-1.719033</td>\n",
       "      <td>-0.970770</td>\n",
       "      <td>-2.628077</td>\n",
       "    </tr>\n",
       "    <tr>\n",
       "      <th>100005_raw-Carbohydrate</th>\n",
       "      <td>-1.502621</td>\n",
       "      <td>-1.083034</td>\n",
       "      <td>0.531159</td>\n",
       "      <td>0.332981</td>\n",
       "      <td>-1.240640</td>\n",
       "      <td>-0.852565</td>\n",
       "      <td>-0.003171</td>\n",
       "      <td>0.561912</td>\n",
       "      <td>-0.772413</td>\n",
       "      <td>-0.372739</td>\n",
       "      <td>...</td>\n",
       "      <td>-0.577730</td>\n",
       "      <td>-1.163380</td>\n",
       "      <td>0.000251</td>\n",
       "      <td>-0.345607</td>\n",
       "      <td>-1.610004</td>\n",
       "      <td>0.194078</td>\n",
       "      <td>0.605594</td>\n",
       "      <td>1.182825</td>\n",
       "      <td>-1.567705</td>\n",
       "      <td>-0.011902</td>\n",
       "    </tr>\n",
       "  </tbody>\n",
       "</table>\n",
       "<p>5 rows × 987 columns</p>\n",
       "</div>"
      ],
      "text/plain": [
       "                              LV1       LV2       LV3       LV4       LV5  \\\n",
       "100001_raw-Food_weight  -2.408007 -1.745911  1.383013  0.158718 -0.240933   \n",
       "100002_raw-Energy       -0.508508  0.514427 -0.792865 -0.091775 -0.013409   \n",
       "100003_raw-Protein      -0.284597 -0.325076 -1.412980  1.255510  0.343603   \n",
       "100004_raw-Fat          -0.427503 -0.096524 -0.348654 -1.250087 -0.253145   \n",
       "100005_raw-Carbohydrate -1.502621 -1.083034  0.531159  0.332981 -1.240640   \n",
       "\n",
       "                              LV6       LV7       LV8       LV9      LV10  \\\n",
       "100001_raw-Food_weight  -0.304911  1.823117 -0.716278 -1.769346 -0.043794   \n",
       "100002_raw-Energy        0.194047  1.353713  0.117286 -0.323516 -1.641116   \n",
       "100003_raw-Protein      -2.471878 -0.149640 -0.715178 -0.548948  1.210352   \n",
       "100004_raw-Fat          -0.236606 -0.600627  0.277239 -0.844748 -0.998437   \n",
       "100005_raw-Carbohydrate -0.852565 -0.003171  0.561912 -0.772413 -0.372739   \n",
       "\n",
       "                         ...     LV978     LV979     LV980     LV981  \\\n",
       "100001_raw-Food_weight   ...  0.399227  0.849885 -0.593292  0.636568   \n",
       "100002_raw-Energy        ... -0.038535 -1.139394 -0.951591  1.197872   \n",
       "100003_raw-Protein       ...  1.006094  0.595064  1.774559 -0.335165   \n",
       "100004_raw-Fat           ...  0.249993 -1.520660  0.037241  0.514992   \n",
       "100005_raw-Carbohydrate  ... -0.577730 -1.163380  0.000251 -0.345607   \n",
       "\n",
       "                            LV982     LV983     LV984     LV985     LV986  \\\n",
       "100001_raw-Food_weight   0.409726 -0.871713  1.638770  0.285165  0.585307   \n",
       "100002_raw-Energy        0.893819 -0.820655  0.928634 -0.716778 -0.085735   \n",
       "100003_raw-Protein       0.394177 -0.188345 -1.864716 -0.124875  1.253625   \n",
       "100004_raw-Fat           0.512538 -1.083619  0.310643 -1.719033 -0.970770   \n",
       "100005_raw-Carbohydrate -1.610004  0.194078  0.605594  1.182825 -1.567705   \n",
       "\n",
       "                            LV987  \n",
       "100001_raw-Food_weight   0.592347  \n",
       "100002_raw-Energy       -1.208965  \n",
       "100003_raw-Protein       0.804944  \n",
       "100004_raw-Fat          -2.628077  \n",
       "100005_raw-Carbohydrate -0.011902  \n",
       "\n",
       "[5 rows x 987 columns]"
      ]
     },
     "execution_count": 21,
     "metadata": {},
     "output_type": "execute_result"
    }
   ],
   "source": [
    "data.head()"
   ]
  },
  {
   "cell_type": "code",
   "execution_count": 22,
   "id": "a293936e",
   "metadata": {
    "execution": {
     "iopub.execute_input": "2022-11-25T05:13:32.316776Z",
     "iopub.status.busy": "2022-11-25T05:13:32.316417Z",
     "iopub.status.idle": "2022-11-25T05:13:32.342559Z",
     "shell.execute_reply": "2022-11-25T05:13:32.342034Z"
    },
    "papermill": {
     "duration": 0.034571,
     "end_time": "2022-11-25T05:13:32.343646",
     "exception": false,
     "start_time": "2022-11-25T05:13:32.309075",
     "status": "completed"
    },
    "tags": []
   },
   "outputs": [],
   "source": [
    "assert not data.isna().any().any()"
   ]
  },
  {
   "cell_type": "markdown",
   "id": "3226dada",
   "metadata": {
    "papermill": {
     "duration": 0.012837,
     "end_time": "2022-11-25T05:13:32.369875",
     "exception": false,
     "start_time": "2022-11-25T05:13:32.357038",
     "status": "completed"
    },
    "tags": []
   },
   "source": [
    "# Clustering"
   ]
  },
  {
   "cell_type": "markdown",
   "id": "cc6d4b0b",
   "metadata": {
    "papermill": {
     "duration": 0.013003,
     "end_time": "2022-11-25T05:13:32.395943",
     "exception": false,
     "start_time": "2022-11-25T05:13:32.382940",
     "status": "completed"
    },
    "tags": []
   },
   "source": [
    "## Generate ensemble"
   ]
  },
  {
   "cell_type": "code",
   "execution_count": 23,
   "id": "228c0041",
   "metadata": {
    "execution": {
     "iopub.execute_input": "2022-11-25T05:13:32.418303Z",
     "iopub.status.busy": "2022-11-25T05:13:32.417952Z",
     "iopub.status.idle": "2022-11-25T05:13:32.441943Z",
     "shell.execute_reply": "2022-11-25T05:13:32.441480Z"
    },
    "papermill": {
     "duration": 0.03383,
     "end_time": "2022-11-25T05:13:32.442826",
     "exception": false,
     "start_time": "2022-11-25T05:13:32.408996",
     "status": "completed"
    },
    "tags": []
   },
   "outputs": [],
   "source": [
    "from clustering.ensembles.utils import generate_ensemble"
   ]
  },
  {
   "cell_type": "code",
   "execution_count": 24,
   "id": "cf4263e9",
   "metadata": {
    "execution": {
     "iopub.execute_input": "2022-11-25T05:13:32.457334Z",
     "iopub.status.busy": "2022-11-25T05:13:32.456999Z",
     "iopub.status.idle": "2022-11-25T05:25:00.967786Z",
     "shell.execute_reply": "2022-11-25T05:25:00.967417Z"
    },
    "papermill": {
     "duration": 688.519341,
     "end_time": "2022-11-25T05:25:00.969069",
     "exception": false,
     "start_time": "2022-11-25T05:13:32.449728",
     "status": "completed"
    },
    "tags": []
   },
   "outputs": [
    {
     "name": "stderr",
     "output_type": "stream",
     "text": [
      "100%|██████████| 295/295 [11:28<00:00,  2.33s/it]\n"
     ]
    }
   ],
   "source": [
    "ensemble = generate_ensemble(\n",
    "    data,\n",
    "    CLUSTERERS,\n",
    "    attributes=CLUSTERING_ATTRIBUTES_TO_SAVE,\n",
    ")"
   ]
  },
  {
   "cell_type": "code",
   "execution_count": 25,
   "id": "b6e54451",
   "metadata": {
    "execution": {
     "iopub.execute_input": "2022-11-25T05:25:01.028506Z",
     "iopub.status.busy": "2022-11-25T05:25:01.028409Z",
     "iopub.status.idle": "2022-11-25T05:25:01.047974Z",
     "shell.execute_reply": "2022-11-25T05:25:01.047525Z"
    },
    "papermill": {
     "duration": 0.050647,
     "end_time": "2022-11-25T05:25:01.049223",
     "exception": false,
     "start_time": "2022-11-25T05:25:00.998576",
     "status": "completed"
    },
    "tags": []
   },
   "outputs": [
    {
     "data": {
      "text/plain": [
       "(295, 3)"
      ]
     },
     "execution_count": 25,
     "metadata": {},
     "output_type": "execute_result"
    }
   ],
   "source": [
    "# the number should be close to 295 (the number of partitions generated by k-means/spectral clustering)\n",
    "ensemble.shape"
   ]
  },
  {
   "cell_type": "code",
   "execution_count": 26,
   "id": "09393ac6",
   "metadata": {
    "execution": {
     "iopub.execute_input": "2022-11-25T05:25:01.102727Z",
     "iopub.status.busy": "2022-11-25T05:25:01.102267Z",
     "iopub.status.idle": "2022-11-25T05:25:01.132308Z",
     "shell.execute_reply": "2022-11-25T05:25:01.131855Z"
    },
    "papermill": {
     "duration": 0.054557,
     "end_time": "2022-11-25T05:25:01.133046",
     "exception": false,
     "start_time": "2022-11-25T05:25:01.078489",
     "status": "completed"
    },
    "tags": []
   },
   "outputs": [
    {
     "data": {
      "text/html": [
       "<div>\n",
       "<style scoped>\n",
       "    .dataframe tbody tr th:only-of-type {\n",
       "        vertical-align: middle;\n",
       "    }\n",
       "\n",
       "    .dataframe tbody tr th {\n",
       "        vertical-align: top;\n",
       "    }\n",
       "\n",
       "    .dataframe thead th {\n",
       "        text-align: right;\n",
       "    }\n",
       "</style>\n",
       "<table border=\"1\" class=\"dataframe\">\n",
       "  <thead>\n",
       "    <tr style=\"text-align: right;\">\n",
       "      <th></th>\n",
       "      <th>clusterer_params</th>\n",
       "      <th>partition</th>\n",
       "      <th>n_clusters</th>\n",
       "    </tr>\n",
       "    <tr>\n",
       "      <th>clusterer_id</th>\n",
       "      <th></th>\n",
       "      <th></th>\n",
       "      <th></th>\n",
       "    </tr>\n",
       "  </thead>\n",
       "  <tbody>\n",
       "    <tr>\n",
       "      <th>SpectralClustering #0</th>\n",
       "      <td>{'affinity': 'rbf', 'assign_labels': 'kmeans',...</td>\n",
       "      <td>[1.0, 0.0, 1.0, 1.0, 0.0, 0.0, 0.0, 1.0, 1.0, ...</td>\n",
       "      <td>2</td>\n",
       "    </tr>\n",
       "    <tr>\n",
       "      <th>SpectralClustering #1</th>\n",
       "      <td>{'affinity': 'rbf', 'assign_labels': 'kmeans',...</td>\n",
       "      <td>[1.0, 0.0, 1.0, 1.0, 0.0, 0.0, 0.0, 1.0, 1.0, ...</td>\n",
       "      <td>2</td>\n",
       "    </tr>\n",
       "    <tr>\n",
       "      <th>SpectralClustering #2</th>\n",
       "      <td>{'affinity': 'rbf', 'assign_labels': 'kmeans',...</td>\n",
       "      <td>[0.0, 1.0, 0.0, 0.0, 1.0, 1.0, 1.0, 0.0, 0.0, ...</td>\n",
       "      <td>2</td>\n",
       "    </tr>\n",
       "    <tr>\n",
       "      <th>SpectralClustering #3</th>\n",
       "      <td>{'affinity': 'rbf', 'assign_labels': 'kmeans',...</td>\n",
       "      <td>[0.0, 1.0, 0.0, 0.0, 1.0, 1.0, 1.0, 0.0, 0.0, ...</td>\n",
       "      <td>2</td>\n",
       "    </tr>\n",
       "    <tr>\n",
       "      <th>SpectralClustering #4</th>\n",
       "      <td>{'affinity': 'rbf', 'assign_labels': 'kmeans',...</td>\n",
       "      <td>[1.0, 0.0, 1.0, 1.0, 0.0, 0.0, 0.0, 1.0, 1.0, ...</td>\n",
       "      <td>2</td>\n",
       "    </tr>\n",
       "  </tbody>\n",
       "</table>\n",
       "</div>"
      ],
      "text/plain": [
       "                                                        clusterer_params  \\\n",
       "clusterer_id                                                               \n",
       "SpectralClustering #0  {'affinity': 'rbf', 'assign_labels': 'kmeans',...   \n",
       "SpectralClustering #1  {'affinity': 'rbf', 'assign_labels': 'kmeans',...   \n",
       "SpectralClustering #2  {'affinity': 'rbf', 'assign_labels': 'kmeans',...   \n",
       "SpectralClustering #3  {'affinity': 'rbf', 'assign_labels': 'kmeans',...   \n",
       "SpectralClustering #4  {'affinity': 'rbf', 'assign_labels': 'kmeans',...   \n",
       "\n",
       "                                                               partition  \\\n",
       "clusterer_id                                                               \n",
       "SpectralClustering #0  [1.0, 0.0, 1.0, 1.0, 0.0, 0.0, 0.0, 1.0, 1.0, ...   \n",
       "SpectralClustering #1  [1.0, 0.0, 1.0, 1.0, 0.0, 0.0, 0.0, 1.0, 1.0, ...   \n",
       "SpectralClustering #2  [0.0, 1.0, 0.0, 0.0, 1.0, 1.0, 1.0, 0.0, 0.0, ...   \n",
       "SpectralClustering #3  [0.0, 1.0, 0.0, 0.0, 1.0, 1.0, 1.0, 0.0, 0.0, ...   \n",
       "SpectralClustering #4  [1.0, 0.0, 1.0, 1.0, 0.0, 0.0, 0.0, 1.0, 1.0, ...   \n",
       "\n",
       "                       n_clusters  \n",
       "clusterer_id                       \n",
       "SpectralClustering #0           2  \n",
       "SpectralClustering #1           2  \n",
       "SpectralClustering #2           2  \n",
       "SpectralClustering #3           2  \n",
       "SpectralClustering #4           2  "
      ]
     },
     "execution_count": 26,
     "metadata": {},
     "output_type": "execute_result"
    }
   ],
   "source": [
    "ensemble.head()"
   ]
  },
  {
   "cell_type": "code",
   "execution_count": 27,
   "id": "5dc7ef62",
   "metadata": {
    "execution": {
     "iopub.execute_input": "2022-11-25T05:25:01.162919Z",
     "iopub.status.busy": "2022-11-25T05:25:01.162621Z",
     "iopub.status.idle": "2022-11-25T05:25:01.183447Z",
     "shell.execute_reply": "2022-11-25T05:25:01.183074Z"
    },
    "papermill": {
     "duration": 0.036602,
     "end_time": "2022-11-25T05:25:01.184198",
     "exception": false,
     "start_time": "2022-11-25T05:25:01.147596",
     "status": "completed"
    },
    "tags": []
   },
   "outputs": [
    {
     "data": {
      "text/plain": [
       "60    5\n",
       "16    5\n",
       "28    5\n",
       "27    5\n",
       "26    5\n",
       "Name: n_clusters, dtype: int64"
      ]
     },
     "execution_count": 27,
     "metadata": {},
     "output_type": "execute_result"
    }
   ],
   "source": [
    "ensemble[\"n_clusters\"].value_counts().head()"
   ]
  },
  {
   "cell_type": "code",
   "execution_count": 28,
   "id": "b950b179",
   "metadata": {
    "execution": {
     "iopub.execute_input": "2022-11-25T05:25:01.214196Z",
     "iopub.status.busy": "2022-11-25T05:25:01.213909Z",
     "iopub.status.idle": "2022-11-25T05:25:01.235872Z",
     "shell.execute_reply": "2022-11-25T05:25:01.235435Z"
    },
    "papermill": {
     "duration": 0.037877,
     "end_time": "2022-11-25T05:25:01.236628",
     "exception": false,
     "start_time": "2022-11-25T05:25:01.198751",
     "status": "completed"
    },
    "tags": []
   },
   "outputs": [
    {
     "data": {
      "text/plain": [
       "count    295.000000\n",
       "mean      31.000000\n",
       "std       17.058323\n",
       "min        2.000000\n",
       "25%       16.000000\n",
       "50%       31.000000\n",
       "75%       46.000000\n",
       "max       60.000000\n",
       "Name: n_clusters, dtype: float64"
      ]
     },
     "metadata": {},
     "output_type": "display_data"
    }
   ],
   "source": [
    "ensemble_stats = ensemble[\"n_clusters\"].describe()\n",
    "display(ensemble_stats)"
   ]
  },
  {
   "cell_type": "markdown",
   "id": "db1f5758",
   "metadata": {
    "papermill": {
     "duration": 0.014518,
     "end_time": "2022-11-25T05:25:01.265792",
     "exception": false,
     "start_time": "2022-11-25T05:25:01.251274",
     "status": "completed"
    },
    "tags": []
   },
   "source": [
    "## Testing"
   ]
  },
  {
   "cell_type": "code",
   "execution_count": 29,
   "id": "fb13f8e0",
   "metadata": {
    "execution": {
     "iopub.execute_input": "2022-11-25T05:25:01.295827Z",
     "iopub.status.busy": "2022-11-25T05:25:01.295678Z",
     "iopub.status.idle": "2022-11-25T05:25:01.314427Z",
     "shell.execute_reply": "2022-11-25T05:25:01.314039Z"
    },
    "papermill": {
     "duration": 0.034696,
     "end_time": "2022-11-25T05:25:01.315193",
     "exception": false,
     "start_time": "2022-11-25T05:25:01.280497",
     "status": "completed"
    },
    "tags": []
   },
   "outputs": [],
   "source": [
    "assert ensemble_stats[\"min\"] > 1"
   ]
  },
  {
   "cell_type": "code",
   "execution_count": 30,
   "id": "6088526f",
   "metadata": {
    "execution": {
     "iopub.execute_input": "2022-11-25T05:25:01.345266Z",
     "iopub.status.busy": "2022-11-25T05:25:01.344956Z",
     "iopub.status.idle": "2022-11-25T05:25:01.363536Z",
     "shell.execute_reply": "2022-11-25T05:25:01.363151Z"
    },
    "papermill": {
     "duration": 0.034566,
     "end_time": "2022-11-25T05:25:01.364366",
     "exception": false,
     "start_time": "2022-11-25T05:25:01.329800",
     "status": "completed"
    },
    "tags": []
   },
   "outputs": [],
   "source": [
    "assert not ensemble[\"n_clusters\"].isna().any()"
   ]
  },
  {
   "cell_type": "code",
   "execution_count": 31,
   "id": "ca073971",
   "metadata": {
    "execution": {
     "iopub.execute_input": "2022-11-25T05:25:01.394528Z",
     "iopub.status.busy": "2022-11-25T05:25:01.394222Z",
     "iopub.status.idle": "2022-11-25T05:25:01.412667Z",
     "shell.execute_reply": "2022-11-25T05:25:01.412270Z"
    },
    "papermill": {
     "duration": 0.034341,
     "end_time": "2022-11-25T05:25:01.413454",
     "exception": false,
     "start_time": "2022-11-25T05:25:01.379113",
     "status": "completed"
    },
    "tags": []
   },
   "outputs": [],
   "source": [
    "assert ensemble.shape[0] == len(CLUSTERERS)"
   ]
  },
  {
   "cell_type": "code",
   "execution_count": 32,
   "id": "0229cdc5",
   "metadata": {
    "execution": {
     "iopub.execute_input": "2022-11-25T05:25:01.443471Z",
     "iopub.status.busy": "2022-11-25T05:25:01.443087Z",
     "iopub.status.idle": "2022-11-25T05:25:01.485423Z",
     "shell.execute_reply": "2022-11-25T05:25:01.484967Z"
    },
    "papermill": {
     "duration": 0.058276,
     "end_time": "2022-11-25T05:25:01.486193",
     "exception": false,
     "start_time": "2022-11-25T05:25:01.427917",
     "status": "completed"
    },
    "tags": []
   },
   "outputs": [],
   "source": [
    "# all partitions have the right size\n",
    "assert np.all(\n",
    "    [part[\"partition\"].shape[0] == data.shape[0] for idx, part in ensemble.iterrows()]\n",
    ")"
   ]
  },
  {
   "cell_type": "code",
   "execution_count": 33,
   "id": "78af0a18",
   "metadata": {
    "execution": {
     "iopub.execute_input": "2022-11-25T05:25:01.516350Z",
     "iopub.status.busy": "2022-11-25T05:25:01.516036Z",
     "iopub.status.idle": "2022-11-25T05:25:01.561748Z",
     "shell.execute_reply": "2022-11-25T05:25:01.561326Z"
    },
    "papermill": {
     "duration": 0.061583,
     "end_time": "2022-11-25T05:25:01.562628",
     "exception": false,
     "start_time": "2022-11-25T05:25:01.501045",
     "status": "completed"
    },
    "tags": []
   },
   "outputs": [],
   "source": [
    "# no partition has negative clusters (noisy points)\n",
    "assert not np.any([(part[\"partition\"] < 0).any() for idx, part in ensemble.iterrows()])"
   ]
  },
  {
   "cell_type": "markdown",
   "id": "a3bb54b4",
   "metadata": {
    "papermill": {
     "duration": 0.014553,
     "end_time": "2022-11-25T05:25:01.591732",
     "exception": false,
     "start_time": "2022-11-25T05:25:01.577179",
     "status": "completed"
    },
    "tags": []
   },
   "source": [
    "## Add clustering quality measures"
   ]
  },
  {
   "cell_type": "code",
   "execution_count": 34,
   "id": "98237d43",
   "metadata": {
    "execution": {
     "iopub.execute_input": "2022-11-25T05:25:01.621781Z",
     "iopub.status.busy": "2022-11-25T05:25:01.621479Z",
     "iopub.status.idle": "2022-11-25T05:25:01.641019Z",
     "shell.execute_reply": "2022-11-25T05:25:01.640573Z"
    },
    "papermill": {
     "duration": 0.035492,
     "end_time": "2022-11-25T05:25:01.641777",
     "exception": false,
     "start_time": "2022-11-25T05:25:01.606285",
     "status": "completed"
    },
    "tags": []
   },
   "outputs": [],
   "source": [
    "from sklearn.metrics import calinski_harabasz_score"
   ]
  },
  {
   "cell_type": "code",
   "execution_count": 35,
   "id": "cf71c996",
   "metadata": {
    "execution": {
     "iopub.execute_input": "2022-11-25T05:25:01.671688Z",
     "iopub.status.busy": "2022-11-25T05:25:01.671324Z",
     "iopub.status.idle": "2022-11-25T05:25:05.998169Z",
     "shell.execute_reply": "2022-11-25T05:25:05.997774Z"
    },
    "papermill": {
     "duration": 4.343327,
     "end_time": "2022-11-25T05:25:05.999672",
     "exception": false,
     "start_time": "2022-11-25T05:25:01.656345",
     "status": "completed"
    },
    "tags": []
   },
   "outputs": [],
   "source": [
    "ensemble = ensemble.assign(\n",
    "    ch_score=ensemble[\"partition\"].apply(lambda x: calinski_harabasz_score(data, x))\n",
    ")"
   ]
  },
  {
   "cell_type": "code",
   "execution_count": 36,
   "id": "735ab2f4",
   "metadata": {
    "execution": {
     "iopub.execute_input": "2022-11-25T05:25:06.056810Z",
     "iopub.status.busy": "2022-11-25T05:25:06.056703Z",
     "iopub.status.idle": "2022-11-25T05:25:06.069365Z",
     "shell.execute_reply": "2022-11-25T05:25:06.069074Z"
    },
    "papermill": {
     "duration": 0.04208,
     "end_time": "2022-11-25T05:25:06.070541",
     "exception": false,
     "start_time": "2022-11-25T05:25:06.028461",
     "status": "completed"
    },
    "tags": []
   },
   "outputs": [
    {
     "data": {
      "text/plain": [
       "(295, 4)"
      ]
     },
     "execution_count": 36,
     "metadata": {},
     "output_type": "execute_result"
    }
   ],
   "source": [
    "ensemble.shape"
   ]
  },
  {
   "cell_type": "code",
   "execution_count": 37,
   "id": "d3c18721",
   "metadata": {
    "execution": {
     "iopub.execute_input": "2022-11-25T05:25:06.120968Z",
     "iopub.status.busy": "2022-11-25T05:25:06.120874Z",
     "iopub.status.idle": "2022-11-25T05:25:06.150638Z",
     "shell.execute_reply": "2022-11-25T05:25:06.150258Z"
    },
    "papermill": {
     "duration": 0.051454,
     "end_time": "2022-11-25T05:25:06.151409",
     "exception": false,
     "start_time": "2022-11-25T05:25:06.099955",
     "status": "completed"
    },
    "tags": []
   },
   "outputs": [
    {
     "data": {
      "text/html": [
       "<div>\n",
       "<style scoped>\n",
       "    .dataframe tbody tr th:only-of-type {\n",
       "        vertical-align: middle;\n",
       "    }\n",
       "\n",
       "    .dataframe tbody tr th {\n",
       "        vertical-align: top;\n",
       "    }\n",
       "\n",
       "    .dataframe thead th {\n",
       "        text-align: right;\n",
       "    }\n",
       "</style>\n",
       "<table border=\"1\" class=\"dataframe\">\n",
       "  <thead>\n",
       "    <tr style=\"text-align: right;\">\n",
       "      <th></th>\n",
       "      <th>clusterer_params</th>\n",
       "      <th>partition</th>\n",
       "      <th>n_clusters</th>\n",
       "      <th>ch_score</th>\n",
       "    </tr>\n",
       "    <tr>\n",
       "      <th>clusterer_id</th>\n",
       "      <th></th>\n",
       "      <th></th>\n",
       "      <th></th>\n",
       "      <th></th>\n",
       "    </tr>\n",
       "  </thead>\n",
       "  <tbody>\n",
       "    <tr>\n",
       "      <th>SpectralClustering #0</th>\n",
       "      <td>{'affinity': 'rbf', 'assign_labels': 'kmeans',...</td>\n",
       "      <td>[1.0, 0.0, 1.0, 1.0, 0.0, 0.0, 0.0, 1.0, 1.0, ...</td>\n",
       "      <td>2</td>\n",
       "      <td>5.796699</td>\n",
       "    </tr>\n",
       "    <tr>\n",
       "      <th>SpectralClustering #1</th>\n",
       "      <td>{'affinity': 'rbf', 'assign_labels': 'kmeans',...</td>\n",
       "      <td>[1.0, 0.0, 1.0, 1.0, 0.0, 0.0, 0.0, 1.0, 1.0, ...</td>\n",
       "      <td>2</td>\n",
       "      <td>5.796699</td>\n",
       "    </tr>\n",
       "    <tr>\n",
       "      <th>SpectralClustering #2</th>\n",
       "      <td>{'affinity': 'rbf', 'assign_labels': 'kmeans',...</td>\n",
       "      <td>[0.0, 1.0, 0.0, 0.0, 1.0, 1.0, 1.0, 0.0, 0.0, ...</td>\n",
       "      <td>2</td>\n",
       "      <td>5.796699</td>\n",
       "    </tr>\n",
       "    <tr>\n",
       "      <th>SpectralClustering #3</th>\n",
       "      <td>{'affinity': 'rbf', 'assign_labels': 'kmeans',...</td>\n",
       "      <td>[0.0, 1.0, 0.0, 0.0, 1.0, 1.0, 1.0, 0.0, 0.0, ...</td>\n",
       "      <td>2</td>\n",
       "      <td>5.796699</td>\n",
       "    </tr>\n",
       "    <tr>\n",
       "      <th>SpectralClustering #4</th>\n",
       "      <td>{'affinity': 'rbf', 'assign_labels': 'kmeans',...</td>\n",
       "      <td>[1.0, 0.0, 1.0, 1.0, 0.0, 0.0, 0.0, 1.0, 1.0, ...</td>\n",
       "      <td>2</td>\n",
       "      <td>5.798022</td>\n",
       "    </tr>\n",
       "  </tbody>\n",
       "</table>\n",
       "</div>"
      ],
      "text/plain": [
       "                                                        clusterer_params  \\\n",
       "clusterer_id                                                               \n",
       "SpectralClustering #0  {'affinity': 'rbf', 'assign_labels': 'kmeans',...   \n",
       "SpectralClustering #1  {'affinity': 'rbf', 'assign_labels': 'kmeans',...   \n",
       "SpectralClustering #2  {'affinity': 'rbf', 'assign_labels': 'kmeans',...   \n",
       "SpectralClustering #3  {'affinity': 'rbf', 'assign_labels': 'kmeans',...   \n",
       "SpectralClustering #4  {'affinity': 'rbf', 'assign_labels': 'kmeans',...   \n",
       "\n",
       "                                                               partition  \\\n",
       "clusterer_id                                                               \n",
       "SpectralClustering #0  [1.0, 0.0, 1.0, 1.0, 0.0, 0.0, 0.0, 1.0, 1.0, ...   \n",
       "SpectralClustering #1  [1.0, 0.0, 1.0, 1.0, 0.0, 0.0, 0.0, 1.0, 1.0, ...   \n",
       "SpectralClustering #2  [0.0, 1.0, 0.0, 0.0, 1.0, 1.0, 1.0, 0.0, 0.0, ...   \n",
       "SpectralClustering #3  [0.0, 1.0, 0.0, 0.0, 1.0, 1.0, 1.0, 0.0, 0.0, ...   \n",
       "SpectralClustering #4  [1.0, 0.0, 1.0, 1.0, 0.0, 0.0, 0.0, 1.0, 1.0, ...   \n",
       "\n",
       "                       n_clusters  ch_score  \n",
       "clusterer_id                                 \n",
       "SpectralClustering #0           2  5.796699  \n",
       "SpectralClustering #1           2  5.796699  \n",
       "SpectralClustering #2           2  5.796699  \n",
       "SpectralClustering #3           2  5.796699  \n",
       "SpectralClustering #4           2  5.798022  "
      ]
     },
     "execution_count": 37,
     "metadata": {},
     "output_type": "execute_result"
    }
   ],
   "source": [
    "ensemble.head()"
   ]
  },
  {
   "cell_type": "markdown",
   "id": "4396b3e8",
   "metadata": {
    "papermill": {
     "duration": 0.01447,
     "end_time": "2022-11-25T05:25:06.180472",
     "exception": false,
     "start_time": "2022-11-25T05:25:06.166002",
     "status": "completed"
    },
    "tags": []
   },
   "source": [
    "## Save"
   ]
  },
  {
   "cell_type": "code",
   "execution_count": 38,
   "id": "f511de0b",
   "metadata": {
    "execution": {
     "iopub.execute_input": "2022-11-25T05:25:06.210698Z",
     "iopub.status.busy": "2022-11-25T05:25:06.210331Z",
     "iopub.status.idle": "2022-11-25T05:25:06.230747Z",
     "shell.execute_reply": "2022-11-25T05:25:06.230317Z"
    },
    "papermill": {
     "duration": 0.036484,
     "end_time": "2022-11-25T05:25:06.231496",
     "exception": false,
     "start_time": "2022-11-25T05:25:06.195012",
     "status": "completed"
    },
    "tags": []
   },
   "outputs": [
    {
     "data": {
      "text/plain": [
       "PosixPath('/opt/data/results/clustering/null_sims/shuffle_lvs/runs/z_score_std-projection-smultixcan-efo_partial-mashr-zscores/SpectralClustering-AFFINITY_rbf-GAMMA_0001-KMEANS_N_INIT_10-K_MAX_60-K_MIN_2-N_REPS_PER_K_5.pkl')"
      ]
     },
     "metadata": {},
     "output_type": "display_data"
    }
   ],
   "source": [
    "output_filename = Path(\n",
    "    RESULTS_DIR,\n",
    "    generate_result_set_name(\n",
    "        CLUSTERING_OPTIONS,\n",
    "        prefix=f\"{clustering_method_name}-\",\n",
    "        suffix=\".pkl\",\n",
    "    ),\n",
    ").resolve()\n",
    "display(output_filename)"
   ]
  },
  {
   "cell_type": "code",
   "execution_count": 39,
   "id": "cdaaf970",
   "metadata": {
    "execution": {
     "iopub.execute_input": "2022-11-25T05:25:06.261934Z",
     "iopub.status.busy": "2022-11-25T05:25:06.261499Z",
     "iopub.status.idle": "2022-11-25T05:25:06.291944Z",
     "shell.execute_reply": "2022-11-25T05:25:06.291446Z"
    },
    "papermill": {
     "duration": 0.046405,
     "end_time": "2022-11-25T05:25:06.292750",
     "exception": false,
     "start_time": "2022-11-25T05:25:06.246345",
     "status": "completed"
    },
    "tags": []
   },
   "outputs": [],
   "source": [
    "ensemble.to_pickle(output_filename)"
   ]
  },
  {
   "cell_type": "markdown",
   "id": "c357d2f8",
   "metadata": {
    "papermill": {
     "duration": 0.014617,
     "end_time": "2022-11-25T05:25:06.321835",
     "exception": false,
     "start_time": "2022-11-25T05:25:06.307218",
     "status": "completed"
    },
    "tags": []
   },
   "source": [
    "# Cluster quality"
   ]
  },
  {
   "cell_type": "code",
   "execution_count": 40,
   "id": "f1cd37d2",
   "metadata": {
    "execution": {
     "iopub.execute_input": "2022-11-25T05:25:06.351969Z",
     "iopub.status.busy": "2022-11-25T05:25:06.351554Z",
     "iopub.status.idle": "2022-11-25T05:25:06.378907Z",
     "shell.execute_reply": "2022-11-25T05:25:06.378468Z"
    },
    "papermill": {
     "duration": 0.043203,
     "end_time": "2022-11-25T05:25:06.379656",
     "exception": false,
     "start_time": "2022-11-25T05:25:06.336453",
     "status": "completed"
    },
    "tags": []
   },
   "outputs": [
    {
     "data": {
      "text/html": [
       "<div>\n",
       "<style scoped>\n",
       "    .dataframe tbody tr th:only-of-type {\n",
       "        vertical-align: middle;\n",
       "    }\n",
       "\n",
       "    .dataframe tbody tr th {\n",
       "        vertical-align: top;\n",
       "    }\n",
       "\n",
       "    .dataframe thead th {\n",
       "        text-align: right;\n",
       "    }\n",
       "</style>\n",
       "<table border=\"1\" class=\"dataframe\">\n",
       "  <thead>\n",
       "    <tr style=\"text-align: right;\">\n",
       "      <th></th>\n",
       "      <th>ch_score</th>\n",
       "    </tr>\n",
       "    <tr>\n",
       "      <th>n_clusters</th>\n",
       "      <th></th>\n",
       "    </tr>\n",
       "  </thead>\n",
       "  <tbody>\n",
       "    <tr>\n",
       "      <th>2</th>\n",
       "      <td>5.796964</td>\n",
       "    </tr>\n",
       "    <tr>\n",
       "      <th>3</th>\n",
       "      <td>5.091757</td>\n",
       "    </tr>\n",
       "    <tr>\n",
       "      <th>4</th>\n",
       "      <td>4.610350</td>\n",
       "    </tr>\n",
       "    <tr>\n",
       "      <th>5</th>\n",
       "      <td>4.259859</td>\n",
       "    </tr>\n",
       "    <tr>\n",
       "      <th>6</th>\n",
       "      <td>4.003459</td>\n",
       "    </tr>\n",
       "    <tr>\n",
       "      <th>7</th>\n",
       "      <td>3.770181</td>\n",
       "    </tr>\n",
       "    <tr>\n",
       "      <th>8</th>\n",
       "      <td>3.592424</td>\n",
       "    </tr>\n",
       "    <tr>\n",
       "      <th>9</th>\n",
       "      <td>3.431341</td>\n",
       "    </tr>\n",
       "    <tr>\n",
       "      <th>10</th>\n",
       "      <td>3.302479</td>\n",
       "    </tr>\n",
       "    <tr>\n",
       "      <th>11</th>\n",
       "      <td>3.196401</td>\n",
       "    </tr>\n",
       "    <tr>\n",
       "      <th>12</th>\n",
       "      <td>3.095076</td>\n",
       "    </tr>\n",
       "    <tr>\n",
       "      <th>13</th>\n",
       "      <td>3.020240</td>\n",
       "    </tr>\n",
       "    <tr>\n",
       "      <th>14</th>\n",
       "      <td>2.936936</td>\n",
       "    </tr>\n",
       "    <tr>\n",
       "      <th>15</th>\n",
       "      <td>2.860513</td>\n",
       "    </tr>\n",
       "    <tr>\n",
       "      <th>16</th>\n",
       "      <td>2.793064</td>\n",
       "    </tr>\n",
       "    <tr>\n",
       "      <th>17</th>\n",
       "      <td>2.738203</td>\n",
       "    </tr>\n",
       "    <tr>\n",
       "      <th>18</th>\n",
       "      <td>2.677772</td>\n",
       "    </tr>\n",
       "    <tr>\n",
       "      <th>19</th>\n",
       "      <td>2.627999</td>\n",
       "    </tr>\n",
       "    <tr>\n",
       "      <th>20</th>\n",
       "      <td>2.582382</td>\n",
       "    </tr>\n",
       "    <tr>\n",
       "      <th>21</th>\n",
       "      <td>2.529819</td>\n",
       "    </tr>\n",
       "    <tr>\n",
       "      <th>22</th>\n",
       "      <td>2.502635</td>\n",
       "    </tr>\n",
       "    <tr>\n",
       "      <th>23</th>\n",
       "      <td>2.460788</td>\n",
       "    </tr>\n",
       "    <tr>\n",
       "      <th>24</th>\n",
       "      <td>2.425118</td>\n",
       "    </tr>\n",
       "    <tr>\n",
       "      <th>25</th>\n",
       "      <td>2.399736</td>\n",
       "    </tr>\n",
       "    <tr>\n",
       "      <th>26</th>\n",
       "      <td>2.365994</td>\n",
       "    </tr>\n",
       "    <tr>\n",
       "      <th>27</th>\n",
       "      <td>2.344402</td>\n",
       "    </tr>\n",
       "    <tr>\n",
       "      <th>28</th>\n",
       "      <td>2.309007</td>\n",
       "    </tr>\n",
       "    <tr>\n",
       "      <th>29</th>\n",
       "      <td>2.283423</td>\n",
       "    </tr>\n",
       "    <tr>\n",
       "      <th>30</th>\n",
       "      <td>2.257110</td>\n",
       "    </tr>\n",
       "    <tr>\n",
       "      <th>31</th>\n",
       "      <td>2.233664</td>\n",
       "    </tr>\n",
       "    <tr>\n",
       "      <th>32</th>\n",
       "      <td>2.211203</td>\n",
       "    </tr>\n",
       "    <tr>\n",
       "      <th>33</th>\n",
       "      <td>2.189819</td>\n",
       "    </tr>\n",
       "    <tr>\n",
       "      <th>34</th>\n",
       "      <td>2.170126</td>\n",
       "    </tr>\n",
       "    <tr>\n",
       "      <th>35</th>\n",
       "      <td>2.144296</td>\n",
       "    </tr>\n",
       "    <tr>\n",
       "      <th>36</th>\n",
       "      <td>2.135438</td>\n",
       "    </tr>\n",
       "    <tr>\n",
       "      <th>37</th>\n",
       "      <td>2.117290</td>\n",
       "    </tr>\n",
       "    <tr>\n",
       "      <th>38</th>\n",
       "      <td>2.097873</td>\n",
       "    </tr>\n",
       "    <tr>\n",
       "      <th>39</th>\n",
       "      <td>2.083661</td>\n",
       "    </tr>\n",
       "    <tr>\n",
       "      <th>40</th>\n",
       "      <td>2.073936</td>\n",
       "    </tr>\n",
       "    <tr>\n",
       "      <th>41</th>\n",
       "      <td>2.049888</td>\n",
       "    </tr>\n",
       "    <tr>\n",
       "      <th>42</th>\n",
       "      <td>2.037041</td>\n",
       "    </tr>\n",
       "    <tr>\n",
       "      <th>43</th>\n",
       "      <td>2.027454</td>\n",
       "    </tr>\n",
       "    <tr>\n",
       "      <th>44</th>\n",
       "      <td>2.002815</td>\n",
       "    </tr>\n",
       "    <tr>\n",
       "      <th>45</th>\n",
       "      <td>2.010742</td>\n",
       "    </tr>\n",
       "    <tr>\n",
       "      <th>46</th>\n",
       "      <td>1.983942</td>\n",
       "    </tr>\n",
       "    <tr>\n",
       "      <th>47</th>\n",
       "      <td>1.973407</td>\n",
       "    </tr>\n",
       "    <tr>\n",
       "      <th>48</th>\n",
       "      <td>1.965888</td>\n",
       "    </tr>\n",
       "    <tr>\n",
       "      <th>49</th>\n",
       "      <td>1.959922</td>\n",
       "    </tr>\n",
       "    <tr>\n",
       "      <th>50</th>\n",
       "      <td>1.945655</td>\n",
       "    </tr>\n",
       "    <tr>\n",
       "      <th>51</th>\n",
       "      <td>1.936121</td>\n",
       "    </tr>\n",
       "    <tr>\n",
       "      <th>52</th>\n",
       "      <td>1.918941</td>\n",
       "    </tr>\n",
       "    <tr>\n",
       "      <th>53</th>\n",
       "      <td>1.916190</td>\n",
       "    </tr>\n",
       "    <tr>\n",
       "      <th>54</th>\n",
       "      <td>1.892907</td>\n",
       "    </tr>\n",
       "    <tr>\n",
       "      <th>55</th>\n",
       "      <td>1.890514</td>\n",
       "    </tr>\n",
       "    <tr>\n",
       "      <th>56</th>\n",
       "      <td>1.889909</td>\n",
       "    </tr>\n",
       "    <tr>\n",
       "      <th>57</th>\n",
       "      <td>1.930325</td>\n",
       "    </tr>\n",
       "    <tr>\n",
       "      <th>58</th>\n",
       "      <td>1.891712</td>\n",
       "    </tr>\n",
       "    <tr>\n",
       "      <th>59</th>\n",
       "      <td>1.853900</td>\n",
       "    </tr>\n",
       "    <tr>\n",
       "      <th>60</th>\n",
       "      <td>1.874390</td>\n",
       "    </tr>\n",
       "  </tbody>\n",
       "</table>\n",
       "</div>"
      ],
      "text/plain": [
       "            ch_score\n",
       "n_clusters          \n",
       "2           5.796964\n",
       "3           5.091757\n",
       "4           4.610350\n",
       "5           4.259859\n",
       "6           4.003459\n",
       "7           3.770181\n",
       "8           3.592424\n",
       "9           3.431341\n",
       "10          3.302479\n",
       "11          3.196401\n",
       "12          3.095076\n",
       "13          3.020240\n",
       "14          2.936936\n",
       "15          2.860513\n",
       "16          2.793064\n",
       "17          2.738203\n",
       "18          2.677772\n",
       "19          2.627999\n",
       "20          2.582382\n",
       "21          2.529819\n",
       "22          2.502635\n",
       "23          2.460788\n",
       "24          2.425118\n",
       "25          2.399736\n",
       "26          2.365994\n",
       "27          2.344402\n",
       "28          2.309007\n",
       "29          2.283423\n",
       "30          2.257110\n",
       "31          2.233664\n",
       "32          2.211203\n",
       "33          2.189819\n",
       "34          2.170126\n",
       "35          2.144296\n",
       "36          2.135438\n",
       "37          2.117290\n",
       "38          2.097873\n",
       "39          2.083661\n",
       "40          2.073936\n",
       "41          2.049888\n",
       "42          2.037041\n",
       "43          2.027454\n",
       "44          2.002815\n",
       "45          2.010742\n",
       "46          1.983942\n",
       "47          1.973407\n",
       "48          1.965888\n",
       "49          1.959922\n",
       "50          1.945655\n",
       "51          1.936121\n",
       "52          1.918941\n",
       "53          1.916190\n",
       "54          1.892907\n",
       "55          1.890514\n",
       "56          1.889909\n",
       "57          1.930325\n",
       "58          1.891712\n",
       "59          1.853900\n",
       "60          1.874390"
      ]
     },
     "metadata": {},
     "output_type": "display_data"
    }
   ],
   "source": [
    "with pd.option_context(\"display.max_rows\", None, \"display.max_columns\", None):\n",
    "    _df = ensemble.groupby([\"n_clusters\"]).mean()\n",
    "    display(_df)"
   ]
  },
  {
   "cell_type": "code",
   "execution_count": 41,
   "id": "4dd8e721",
   "metadata": {
    "execution": {
     "iopub.execute_input": "2022-11-25T05:25:06.410419Z",
     "iopub.status.busy": "2022-11-25T05:25:06.410043Z",
     "iopub.status.idle": "2022-11-25T05:25:08.429864Z",
     "shell.execute_reply": "2022-11-25T05:25:08.429508Z"
    },
    "papermill": {
     "duration": 2.036963,
     "end_time": "2022-11-25T05:25:08.431574",
     "exception": false,
     "start_time": "2022-11-25T05:25:06.394611",
     "status": "completed"
    },
    "tags": []
   },
   "outputs": [
    {
     "data": {
      "image/png": "[encoded data removed]",
      "text/plain": [
       "<Figure size 1008x432 with 1 Axes>"
      ]
     },
     "metadata": {},
     "output_type": "display_data"
    }
   ],
   "source": [
    "with sns.plotting_context(\"talk\", font_scale=0.75), sns.axes_style(\n",
    "    \"whitegrid\", {\"grid.linestyle\": \"--\"}\n",
    "):\n",
    "    fig = plt.figure(figsize=(14, 6))\n",
    "    ax = sns.pointplot(data=ensemble, x=\"n_clusters\", y=\"ch_score\")\n",
    "    ax.set_ylabel(\"Calinski-Harabasz index\")\n",
    "    ax.set_xlabel(\"Number of clusters ($k$)\")\n",
    "    ax.set_xticklabels(ax.get_xticklabels(), rotation=45)\n",
    "    plt.grid(True)\n",
    "    plt.tight_layout()"
   ]
  },
  {
   "cell_type": "markdown",
   "id": "c09625a6",
   "metadata": {
    "papermill": {
     "duration": 0.033117,
     "end_time": "2022-11-25T05:25:08.495314",
     "exception": false,
     "start_time": "2022-11-25T05:25:08.462197",
     "status": "completed"
    },
    "tags": []
   },
   "source": [
    "# Stability"
   ]
  },
  {
   "cell_type": "markdown",
   "id": "c70994d2",
   "metadata": {
    "papermill": {
     "duration": 0.015228,
     "end_time": "2022-11-25T05:25:08.533813",
     "exception": false,
     "start_time": "2022-11-25T05:25:08.518585",
     "status": "completed"
    },
    "tags": []
   },
   "source": [
    "## Group ensemble by n_clusters"
   ]
  },
  {
   "cell_type": "code",
   "execution_count": 42,
   "id": "3aa1711c",
   "metadata": {
    "execution": {
     "iopub.execute_input": "2022-11-25T05:25:08.565428Z",
     "iopub.status.busy": "2022-11-25T05:25:08.565303Z",
     "iopub.status.idle": "2022-11-25T05:25:08.596861Z",
     "shell.execute_reply": "2022-11-25T05:25:08.596360Z"
    },
    "papermill": {
     "duration": 0.048411,
     "end_time": "2022-11-25T05:25:08.597655",
     "exception": false,
     "start_time": "2022-11-25T05:25:08.549244",
     "status": "completed"
    },
    "tags": []
   },
   "outputs": [],
   "source": [
    "parts = ensemble.groupby(\"n_clusters\").apply(\n",
    "    lambda x: np.concatenate(x[\"partition\"].apply(lambda x: x.reshape(1, -1)), axis=0)\n",
    ")"
   ]
  },
  {
   "cell_type": "code",
   "execution_count": 43,
   "id": "0fb0b446",
   "metadata": {
    "execution": {
     "iopub.execute_input": "2022-11-25T05:25:08.629209Z",
     "iopub.status.busy": "2022-11-25T05:25:08.629086Z",
     "iopub.status.idle": "2022-11-25T05:25:08.667138Z",
     "shell.execute_reply": "2022-11-25T05:25:08.666758Z"
    },
    "papermill": {
     "duration": 0.054765,
     "end_time": "2022-11-25T05:25:08.667900",
     "exception": false,
     "start_time": "2022-11-25T05:25:08.613135",
     "status": "completed"
    },
    "tags": []
   },
   "outputs": [
    {
     "data": {
      "text/plain": [
       "n_clusters\n",
       "2    [[1.0, 0.0, 1.0, 1.0, 0.0, 0.0, 0.0, 1.0, 1.0,...\n",
       "3    [[0.0, 2.0, 0.0, 1.0, 2.0, 2.0, 2.0, 0.0, 0.0,...\n",
       "4    [[1.0, 2.0, 0.0, 3.0, 2.0, 2.0, 3.0, 0.0, 0.0,...\n",
       "5    [[1.0, 3.0, 1.0, 4.0, 3.0, 3.0, 4.0, 4.0, 4.0,...\n",
       "6    [[4.0, 0.0, 4.0, 1.0, 0.0, 0.0, 1.0, 3.0, 4.0,...\n",
       "dtype: object"
      ]
     },
     "execution_count": 43,
     "metadata": {},
     "output_type": "execute_result"
    }
   ],
   "source": [
    "parts.head()"
   ]
  },
  {
   "cell_type": "code",
   "execution_count": 44,
   "id": "56948378",
   "metadata": {
    "execution": {
     "iopub.execute_input": "2022-11-25T05:25:08.699810Z",
     "iopub.status.busy": "2022-11-25T05:25:08.699361Z",
     "iopub.status.idle": "2022-11-25T05:25:08.719903Z",
     "shell.execute_reply": "2022-11-25T05:25:08.719452Z"
    },
    "papermill": {
     "duration": 0.037411,
     "end_time": "2022-11-25T05:25:08.720809",
     "exception": false,
     "start_time": "2022-11-25T05:25:08.683398",
     "status": "completed"
    },
    "tags": []
   },
   "outputs": [],
   "source": [
    "assert np.all(\n",
    "    [\n",
    "        parts.loc[k].shape == (CLUSTERING_OPTIONS[\"N_REPS_PER_K\"], data.shape[0])\n",
    "        for k in parts.index\n",
    "    ]\n",
    ")"
   ]
  },
  {
   "cell_type": "markdown",
   "id": "69b93bcd",
   "metadata": {
    "papermill": {
     "duration": 0.015455,
     "end_time": "2022-11-25T05:25:08.751914",
     "exception": false,
     "start_time": "2022-11-25T05:25:08.736459",
     "status": "completed"
    },
    "tags": []
   },
   "source": [
    "## Compute stability"
   ]
  },
  {
   "cell_type": "code",
   "execution_count": 45,
   "id": "8f57bd9b",
   "metadata": {
    "execution": {
     "iopub.execute_input": "2022-11-25T05:25:08.783988Z",
     "iopub.status.busy": "2022-11-25T05:25:08.783555Z",
     "iopub.status.idle": "2022-11-25T05:25:08.802469Z",
     "shell.execute_reply": "2022-11-25T05:25:08.802020Z"
    },
    "papermill": {
     "duration": 0.035809,
     "end_time": "2022-11-25T05:25:08.803268",
     "exception": false,
     "start_time": "2022-11-25T05:25:08.767459",
     "status": "completed"
    },
    "tags": []
   },
   "outputs": [],
   "source": [
    "from sklearn.metrics import adjusted_rand_score as ari\n",
    "from scipy.spatial.distance import pdist"
   ]
  },
  {
   "cell_type": "code",
   "execution_count": 46,
   "id": "8a7485af",
   "metadata": {
    "execution": {
     "iopub.execute_input": "2022-11-25T05:25:08.835096Z",
     "iopub.status.busy": "2022-11-25T05:25:08.834949Z",
     "iopub.status.idle": "2022-11-25T05:25:09.558221Z",
     "shell.execute_reply": "2022-11-25T05:25:09.557837Z"
    },
    "papermill": {
     "duration": 0.740634,
     "end_time": "2022-11-25T05:25:09.559469",
     "exception": false,
     "start_time": "2022-11-25T05:25:08.818835",
     "status": "completed"
    },
    "tags": []
   },
   "outputs": [],
   "source": [
    "parts_ari = pd.Series(\n",
    "    {k: pdist(parts.loc[k], metric=ari) for k in parts.index}, name=\"k\"\n",
    ")"
   ]
  },
  {
   "cell_type": "code",
   "execution_count": 47,
   "id": "412edc9b",
   "metadata": {
    "execution": {
     "iopub.execute_input": "2022-11-25T05:25:09.591730Z",
     "iopub.status.busy": "2022-11-25T05:25:09.591633Z",
     "iopub.status.idle": "2022-11-25T05:25:09.605554Z",
     "shell.execute_reply": "2022-11-25T05:25:09.605220Z"
    },
    "papermill": {
     "duration": 0.030553,
     "end_time": "2022-11-25T05:25:09.606289",
     "exception": false,
     "start_time": "2022-11-25T05:25:09.575736",
     "status": "completed"
    },
    "tags": []
   },
   "outputs": [
    {
     "data": {
      "text/plain": [
       "2     0.999574\n",
       "3     0.977291\n",
       "4     0.841627\n",
       "5     0.502060\n",
       "6     0.479311\n",
       "8     0.344300\n",
       "7     0.329545\n",
       "10    0.230773\n",
       "9     0.225252\n",
       "11    0.210636\n",
       "13    0.193708\n",
       "14    0.180981\n",
       "15    0.166199\n",
       "12    0.161325\n",
       "16    0.132900\n",
       "Name: k, dtype: float64"
      ]
     },
     "metadata": {},
     "output_type": "display_data"
    }
   ],
   "source": [
    "parts_ari_stability = parts_ari.apply(lambda x: x.mean())\n",
    "display(parts_ari_stability.sort_values(ascending=False).head(15))"
   ]
  },
  {
   "cell_type": "code",
   "execution_count": 48,
   "id": "7727b8d3",
   "metadata": {
    "execution": {
     "iopub.execute_input": "2022-11-25T05:25:09.637988Z",
     "iopub.status.busy": "2022-11-25T05:25:09.637894Z",
     "iopub.status.idle": "2022-11-25T05:25:09.650005Z",
     "shell.execute_reply": "2022-11-25T05:25:09.649664Z"
    },
    "papermill": {
     "duration": 0.028848,
     "end_time": "2022-11-25T05:25:09.650784",
     "exception": false,
     "start_time": "2022-11-25T05:25:09.621936",
     "status": "completed"
    },
    "tags": []
   },
   "outputs": [],
   "source": [
    "parts_ari_df = pd.DataFrame.from_records(parts_ari.tolist()).set_index(\n",
    "    parts_ari.index.copy()\n",
    ")"
   ]
  },
  {
   "cell_type": "code",
   "execution_count": 49,
   "id": "946310a9",
   "metadata": {
    "execution": {
     "iopub.execute_input": "2022-11-25T05:25:09.682489Z",
     "iopub.status.busy": "2022-11-25T05:25:09.682408Z",
     "iopub.status.idle": "2022-11-25T05:25:09.701157Z",
     "shell.execute_reply": "2022-11-25T05:25:09.700720Z"
    },
    "papermill": {
     "duration": 0.035485,
     "end_time": "2022-11-25T05:25:09.701940",
     "exception": false,
     "start_time": "2022-11-25T05:25:09.666455",
     "status": "completed"
    },
    "tags": []
   },
   "outputs": [
    {
     "data": {
      "text/plain": [
       "(59, 10)"
      ]
     },
     "execution_count": 49,
     "metadata": {},
     "output_type": "execute_result"
    }
   ],
   "source": [
    "parts_ari_df.shape"
   ]
  },
  {
   "cell_type": "code",
   "execution_count": 50,
   "id": "e59fce10",
   "metadata": {
    "execution": {
     "iopub.execute_input": "2022-11-25T05:25:09.734181Z",
     "iopub.status.busy": "2022-11-25T05:25:09.733828Z",
     "iopub.status.idle": "2022-11-25T05:25:09.752826Z",
     "shell.execute_reply": "2022-11-25T05:25:09.752345Z"
    },
    "papermill": {
     "duration": 0.03599,
     "end_time": "2022-11-25T05:25:09.753634",
     "exception": false,
     "start_time": "2022-11-25T05:25:09.717644",
     "status": "completed"
    },
    "tags": []
   },
   "outputs": [],
   "source": [
    "assert (\n",
    "    int(\n",
    "        (CLUSTERING_OPTIONS[\"N_REPS_PER_K\"] * (CLUSTERING_OPTIONS[\"N_REPS_PER_K\"] - 1))\n",
    "        / 2\n",
    "    )\n",
    "    == parts_ari_df.shape[1]\n",
    ")"
   ]
  },
  {
   "cell_type": "code",
   "execution_count": 51,
   "id": "0d668875",
   "metadata": {
    "execution": {
     "iopub.execute_input": "2022-11-25T05:25:09.785714Z",
     "iopub.status.busy": "2022-11-25T05:25:09.785355Z",
     "iopub.status.idle": "2022-11-25T05:25:09.811900Z",
     "shell.execute_reply": "2022-11-25T05:25:09.811459Z"
    },
    "papermill": {
     "duration": 0.043471,
     "end_time": "2022-11-25T05:25:09.812676",
     "exception": false,
     "start_time": "2022-11-25T05:25:09.769205",
     "status": "completed"
    },
    "tags": []
   },
   "outputs": [
    {
     "data": {
      "text/html": [
       "<div>\n",
       "<style scoped>\n",
       "    .dataframe tbody tr th:only-of-type {\n",
       "        vertical-align: middle;\n",
       "    }\n",
       "\n",
       "    .dataframe tbody tr th {\n",
       "        vertical-align: top;\n",
       "    }\n",
       "\n",
       "    .dataframe thead th {\n",
       "        text-align: right;\n",
       "    }\n",
       "</style>\n",
       "<table border=\"1\" class=\"dataframe\">\n",
       "  <thead>\n",
       "    <tr style=\"text-align: right;\">\n",
       "      <th></th>\n",
       "      <th>0</th>\n",
       "      <th>1</th>\n",
       "      <th>2</th>\n",
       "      <th>3</th>\n",
       "      <th>4</th>\n",
       "      <th>5</th>\n",
       "      <th>6</th>\n",
       "      <th>7</th>\n",
       "      <th>8</th>\n",
       "      <th>9</th>\n",
       "    </tr>\n",
       "  </thead>\n",
       "  <tbody>\n",
       "    <tr>\n",
       "      <th>2</th>\n",
       "      <td>1.000000</td>\n",
       "      <td>1.000000</td>\n",
       "      <td>1.000000</td>\n",
       "      <td>0.998934</td>\n",
       "      <td>1.000000</td>\n",
       "      <td>1.000000</td>\n",
       "      <td>0.998934</td>\n",
       "      <td>1.000000</td>\n",
       "      <td>0.998934</td>\n",
       "      <td>0.998934</td>\n",
       "    </tr>\n",
       "    <tr>\n",
       "      <th>3</th>\n",
       "      <td>0.977693</td>\n",
       "      <td>0.990409</td>\n",
       "      <td>0.972985</td>\n",
       "      <td>0.977721</td>\n",
       "      <td>0.982512</td>\n",
       "      <td>0.969903</td>\n",
       "      <td>0.976187</td>\n",
       "      <td>0.963606</td>\n",
       "      <td>0.968299</td>\n",
       "      <td>0.993597</td>\n",
       "    </tr>\n",
       "    <tr>\n",
       "      <th>4</th>\n",
       "      <td>0.971306</td>\n",
       "      <td>0.836152</td>\n",
       "      <td>0.959248</td>\n",
       "      <td>0.764471</td>\n",
       "      <td>0.829268</td>\n",
       "      <td>0.979269</td>\n",
       "      <td>0.756869</td>\n",
       "      <td>0.839582</td>\n",
       "      <td>0.726811</td>\n",
       "      <td>0.753296</td>\n",
       "    </tr>\n",
       "    <tr>\n",
       "      <th>5</th>\n",
       "      <td>0.448300</td>\n",
       "      <td>0.882765</td>\n",
       "      <td>0.467902</td>\n",
       "      <td>0.497508</td>\n",
       "      <td>0.459133</td>\n",
       "      <td>0.588442</td>\n",
       "      <td>0.291708</td>\n",
       "      <td>0.510578</td>\n",
       "      <td>0.487567</td>\n",
       "      <td>0.386699</td>\n",
       "    </tr>\n",
       "    <tr>\n",
       "      <th>6</th>\n",
       "      <td>0.374549</td>\n",
       "      <td>0.341080</td>\n",
       "      <td>0.753508</td>\n",
       "      <td>0.784718</td>\n",
       "      <td>0.462210</td>\n",
       "      <td>0.434527</td>\n",
       "      <td>0.371331</td>\n",
       "      <td>0.328934</td>\n",
       "      <td>0.305650</td>\n",
       "      <td>0.636598</td>\n",
       "    </tr>\n",
       "  </tbody>\n",
       "</table>\n",
       "</div>"
      ],
      "text/plain": [
       "          0         1         2         3         4         5         6  \\\n",
       "2  1.000000  1.000000  1.000000  0.998934  1.000000  1.000000  0.998934   \n",
       "3  0.977693  0.990409  0.972985  0.977721  0.982512  0.969903  0.976187   \n",
       "4  0.971306  0.836152  0.959248  0.764471  0.829268  0.979269  0.756869   \n",
       "5  0.448300  0.882765  0.467902  0.497508  0.459133  0.588442  0.291708   \n",
       "6  0.374549  0.341080  0.753508  0.784718  0.462210  0.434527  0.371331   \n",
       "\n",
       "          7         8         9  \n",
       "2  1.000000  0.998934  0.998934  \n",
       "3  0.963606  0.968299  0.993597  \n",
       "4  0.839582  0.726811  0.753296  \n",
       "5  0.510578  0.487567  0.386699  \n",
       "6  0.328934  0.305650  0.636598  "
      ]
     },
     "execution_count": 51,
     "metadata": {},
     "output_type": "execute_result"
    }
   ],
   "source": [
    "parts_ari_df.head()"
   ]
  },
  {
   "cell_type": "markdown",
   "id": "f2e14e72",
   "metadata": {
    "papermill": {
     "duration": 0.01571,
     "end_time": "2022-11-25T05:25:09.844160",
     "exception": false,
     "start_time": "2022-11-25T05:25:09.828450",
     "status": "completed"
    },
    "tags": []
   },
   "source": [
    "## Save"
   ]
  },
  {
   "cell_type": "code",
   "execution_count": 52,
   "id": "b1241e70",
   "metadata": {
    "execution": {
     "iopub.execute_input": "2022-11-25T05:25:09.876646Z",
     "iopub.status.busy": "2022-11-25T05:25:09.876260Z",
     "iopub.status.idle": "2022-11-25T05:25:09.896597Z",
     "shell.execute_reply": "2022-11-25T05:25:09.896194Z"
    },
    "papermill": {
     "duration": 0.037354,
     "end_time": "2022-11-25T05:25:09.897381",
     "exception": false,
     "start_time": "2022-11-25T05:25:09.860027",
     "status": "completed"
    },
    "tags": []
   },
   "outputs": [
    {
     "data": {
      "text/plain": [
       "PosixPath('/opt/data/results/clustering/null_sims/shuffle_lvs/runs/z_score_std-projection-smultixcan-efo_partial-mashr-zscores/SpectralClustering-stability-AFFINITY_rbf-GAMMA_0001-KMEANS_N_INIT_10-K_MAX_60-K_MIN_2-N_REPS_PER_K_5.pkl')"
      ]
     },
     "metadata": {},
     "output_type": "display_data"
    }
   ],
   "source": [
    "output_filename = Path(\n",
    "    RESULTS_DIR,\n",
    "    generate_result_set_name(\n",
    "        CLUSTERING_OPTIONS,\n",
    "        prefix=f\"{clustering_method_name}-stability-\",\n",
    "        suffix=\".pkl\",\n",
    "    ),\n",
    ").resolve()\n",
    "display(output_filename)"
   ]
  },
  {
   "cell_type": "code",
   "execution_count": 53,
   "id": "c8995ca8",
   "metadata": {
    "execution": {
     "iopub.execute_input": "2022-11-25T05:25:09.929940Z",
     "iopub.status.busy": "2022-11-25T05:25:09.929573Z",
     "iopub.status.idle": "2022-11-25T05:25:09.948858Z",
     "shell.execute_reply": "2022-11-25T05:25:09.948366Z"
    },
    "papermill": {
     "duration": 0.036387,
     "end_time": "2022-11-25T05:25:09.949649",
     "exception": false,
     "start_time": "2022-11-25T05:25:09.913262",
     "status": "completed"
    },
    "tags": []
   },
   "outputs": [],
   "source": [
    "parts_ari_df.to_pickle(output_filename)"
   ]
  },
  {
   "cell_type": "markdown",
   "id": "789417b1",
   "metadata": {
    "papermill": {
     "duration": 0.015812,
     "end_time": "2022-11-25T05:25:09.981287",
     "exception": false,
     "start_time": "2022-11-25T05:25:09.965475",
     "status": "completed"
    },
    "tags": []
   },
   "source": [
    "## Stability plot"
   ]
  },
  {
   "cell_type": "code",
   "execution_count": 54,
   "id": "d4da6b21",
   "metadata": {
    "execution": {
     "iopub.execute_input": "2022-11-25T05:25:10.013980Z",
     "iopub.status.busy": "2022-11-25T05:25:10.013625Z",
     "iopub.status.idle": "2022-11-25T05:25:10.034930Z",
     "shell.execute_reply": "2022-11-25T05:25:10.034538Z"
    },
    "papermill": {
     "duration": 0.038622,
     "end_time": "2022-11-25T05:25:10.035790",
     "exception": false,
     "start_time": "2022-11-25T05:25:09.997168",
     "status": "completed"
    },
    "tags": []
   },
   "outputs": [],
   "source": [
    "parts_ari_df_plot = (\n",
    "    parts_ari_df.stack()\n",
    "    .reset_index()\n",
    "    .rename(columns={\"level_0\": \"k\", \"level_1\": \"idx\", 0: \"ari\"})\n",
    ")"
   ]
  },
  {
   "cell_type": "code",
   "execution_count": 55,
   "id": "a273a1ca",
   "metadata": {
    "execution": {
     "iopub.execute_input": "2022-11-25T05:25:10.068412Z",
     "iopub.status.busy": "2022-11-25T05:25:10.067957Z",
     "iopub.status.idle": "2022-11-25T05:25:10.088297Z",
     "shell.execute_reply": "2022-11-25T05:25:10.087922Z"
    },
    "papermill": {
     "duration": 0.037442,
     "end_time": "2022-11-25T05:25:10.089099",
     "exception": false,
     "start_time": "2022-11-25T05:25:10.051657",
     "status": "completed"
    },
    "tags": []
   },
   "outputs": [
    {
     "data": {
      "text/plain": [
       "k        int64\n",
       "idx      int64\n",
       "ari    float64\n",
       "dtype: object"
      ]
     },
     "execution_count": 55,
     "metadata": {},
     "output_type": "execute_result"
    }
   ],
   "source": [
    "parts_ari_df_plot.dtypes"
   ]
  },
  {
   "cell_type": "code",
   "execution_count": 56,
   "id": "0525e33d",
   "metadata": {
    "execution": {
     "iopub.execute_input": "2022-11-25T05:25:10.121607Z",
     "iopub.status.busy": "2022-11-25T05:25:10.121461Z",
     "iopub.status.idle": "2022-11-25T05:25:10.143714Z",
     "shell.execute_reply": "2022-11-25T05:25:10.143340Z"
    },
    "papermill": {
     "duration": 0.039523,
     "end_time": "2022-11-25T05:25:10.144515",
     "exception": false,
     "start_time": "2022-11-25T05:25:10.104992",
     "status": "completed"
    },
    "tags": []
   },
   "outputs": [
    {
     "data": {
      "text/html": [
       "<div>\n",
       "<style scoped>\n",
       "    .dataframe tbody tr th:only-of-type {\n",
       "        vertical-align: middle;\n",
       "    }\n",
       "\n",
       "    .dataframe tbody tr th {\n",
       "        vertical-align: top;\n",
       "    }\n",
       "\n",
       "    .dataframe thead th {\n",
       "        text-align: right;\n",
       "    }\n",
       "</style>\n",
       "<table border=\"1\" class=\"dataframe\">\n",
       "  <thead>\n",
       "    <tr style=\"text-align: right;\">\n",
       "      <th></th>\n",
       "      <th>k</th>\n",
       "      <th>idx</th>\n",
       "      <th>ari</th>\n",
       "    </tr>\n",
       "  </thead>\n",
       "  <tbody>\n",
       "    <tr>\n",
       "      <th>0</th>\n",
       "      <td>2</td>\n",
       "      <td>0</td>\n",
       "      <td>1.000000</td>\n",
       "    </tr>\n",
       "    <tr>\n",
       "      <th>1</th>\n",
       "      <td>2</td>\n",
       "      <td>1</td>\n",
       "      <td>1.000000</td>\n",
       "    </tr>\n",
       "    <tr>\n",
       "      <th>2</th>\n",
       "      <td>2</td>\n",
       "      <td>2</td>\n",
       "      <td>1.000000</td>\n",
       "    </tr>\n",
       "    <tr>\n",
       "      <th>3</th>\n",
       "      <td>2</td>\n",
       "      <td>3</td>\n",
       "      <td>0.998934</td>\n",
       "    </tr>\n",
       "    <tr>\n",
       "      <th>4</th>\n",
       "      <td>2</td>\n",
       "      <td>4</td>\n",
       "      <td>1.000000</td>\n",
       "    </tr>\n",
       "  </tbody>\n",
       "</table>\n",
       "</div>"
      ],
      "text/plain": [
       "   k  idx       ari\n",
       "0  2    0  1.000000\n",
       "1  2    1  1.000000\n",
       "2  2    2  1.000000\n",
       "3  2    3  0.998934\n",
       "4  2    4  1.000000"
      ]
     },
     "execution_count": 56,
     "metadata": {},
     "output_type": "execute_result"
    }
   ],
   "source": [
    "parts_ari_df_plot.head()"
   ]
  },
  {
   "cell_type": "code",
   "execution_count": 57,
   "id": "d029cbd9",
   "metadata": {
    "execution": {
     "iopub.execute_input": "2022-11-25T05:25:10.177413Z",
     "iopub.status.busy": "2022-11-25T05:25:10.176996Z",
     "iopub.status.idle": "2022-11-25T05:25:12.122990Z",
     "shell.execute_reply": "2022-11-25T05:25:12.122636Z"
    },
    "papermill": {
     "duration": 1.964761,
     "end_time": "2022-11-25T05:25:12.125239",
     "exception": false,
     "start_time": "2022-11-25T05:25:10.160478",
     "status": "completed"
    },
    "tags": []
   },
   "outputs": [
    {
     "data": {
      "image/png": "[encoded data removed]",
      "text/plain": [
       "<Figure size 1008x432 with 1 Axes>"
      ]
     },
     "metadata": {},
     "output_type": "display_data"
    }
   ],
   "source": [
    "# with sns.axes_style('whitegrid', {'grid.linestyle': '--'}):\n",
    "with sns.plotting_context(\"talk\", font_scale=0.75), sns.axes_style(\n",
    "    \"whitegrid\", {\"grid.linestyle\": \"--\"}\n",
    "):\n",
    "    fig = plt.figure(figsize=(14, 6))\n",
    "    ax = sns.pointplot(data=parts_ari_df_plot, x=\"k\", y=\"ari\")\n",
    "    ax.set_ylabel(\"Averange ARI\")\n",
    "    ax.set_xlabel(\"Number of clusters ($k$)\")\n",
    "    ax.set_xticklabels(ax.get_xticklabels(), rotation=45)\n",
    "    #     ax.set_ylim(0.0, 1.0)\n",
    "    #     ax.set_xlim(CLUSTERING_OPTIONS['K_MIN'], CLUSTERING_OPTIONS['K_MAX'])\n",
    "    plt.grid(True)\n",
    "    plt.tight_layout()"
   ]
  },
  {
   "cell_type": "code",
   "execution_count": null,
   "id": "ba2aaa43",
   "metadata": {
    "papermill": {
     "duration": 0.031538,
     "end_time": "2022-11-25T05:25:12.190275",
     "exception": false,
     "start_time": "2022-11-25T05:25:12.158737",
     "status": "completed"
    },
    "tags": []
   },
   "outputs": [],
   "source": []
  }
 ],
 "metadata": {
  "jupytext": {
   "cell_metadata_filter": "all,-execution,-papermill,-trusted",
   "formats": "ipynb,py//py:percent"
  },
  "kernelspec": {
   "display_name": "Python 3 (ipykernel)",
   "language": "python",
   "name": "python3"
  },
  "language_info": {
   "codemirror_mode": {
    "name": "ipython",
    "version": 3
   },
   "file_extension": ".py",
   "mimetype": "text/x-python",
   "name": "python",
   "nbconvert_exporter": "python",
   "pygments_lexer": "ipython3",
   "version": "3.8.13"
  },
  "papermill": {
   "default_parameters": {},
   "duration": 702.691566,
   "end_time": "2022-11-25T05:25:12.529036",
   "environment_variables": {},
   "exception": null,
   "input_path": "nbs/13.1_cluster_analysis_null/05-shuffle_lvs/11_00-spectral-z_score_std.ipynb",
   "output_path": "nbs/13.1_cluster_analysis_null/05-shuffle_lvs/11_00-spectral-z_score_std.run.ipynb",
   "parameters": {},
   "start_time": "2022-11-25T05:13:29.837470",
   "version": "2.2.2"
  },
  "toc-autonumbering": true,
  "toc-showcode": false,
  "toc-showmarkdowntxt": false,
  "toc-showtags": false
 },
 "nbformat": 4,
 "nbformat_minor": 5
}
