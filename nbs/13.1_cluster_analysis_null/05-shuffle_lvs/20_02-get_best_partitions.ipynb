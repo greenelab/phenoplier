{
 "cells": [
  {
   "cell_type": "markdown",
   "id": "d323644a",
   "metadata": {
    "papermill": {
     "duration": 0.009783,
     "end_time": "2022-11-27T03:20:11.092648",
     "exception": false,
     "start_time": "2022-11-27T03:20:11.082865",
     "status": "completed"
    },
    "tags": []
   },
   "source": [
    "# Description"
   ]
  },
  {
   "cell_type": "markdown",
   "id": "edf982cc",
   "metadata": {
    "papermill": {
     "duration": 0.008693,
     "end_time": "2022-11-27T03:20:11.111499",
     "exception": false,
     "start_time": "2022-11-27T03:20:11.102806",
     "status": "completed"
    },
    "tags": []
   },
   "source": [
    "It analyzes how consensus partitions generated before agree with the ensemble, and selects the best ones for downstream analyses."
   ]
  },
  {
   "cell_type": "markdown",
   "id": "072e1ea6",
   "metadata": {
    "papermill": {
     "duration": 0.008652,
     "end_time": "2022-11-27T03:20:11.129003",
     "exception": false,
     "start_time": "2022-11-27T03:20:11.120351",
     "status": "completed"
    },
    "tags": []
   },
   "source": [
    "# Modules loading"
   ]
  },
  {
   "cell_type": "code",
   "execution_count": 1,
   "id": "98449f60",
   "metadata": {
    "execution": {
     "iopub.execute_input": "2022-11-27T03:20:11.148433Z",
     "iopub.status.busy": "2022-11-27T03:20:11.147954Z",
     "iopub.status.idle": "2022-11-27T03:20:11.165566Z",
     "shell.execute_reply": "2022-11-27T03:20:11.165040Z"
    },
    "papermill": {
     "duration": 0.029172,
     "end_time": "2022-11-27T03:20:11.167008",
     "exception": false,
     "start_time": "2022-11-27T03:20:11.137836",
     "status": "completed"
    },
    "tags": []
   },
   "outputs": [],
   "source": [
    "%load_ext autoreload\n",
    "%autoreload 2"
   ]
  },
  {
   "cell_type": "code",
   "execution_count": 2,
   "id": "cb11ab4f",
   "metadata": {
    "execution": {
     "iopub.execute_input": "2022-11-27T03:20:11.186195Z",
     "iopub.status.busy": "2022-11-27T03:20:11.186012Z",
     "iopub.status.idle": "2022-11-27T03:20:11.661548Z",
     "shell.execute_reply": "2022-11-27T03:20:11.661123Z"
    },
    "papermill": {
     "duration": 0.486282,
     "end_time": "2022-11-27T03:20:11.662632",
     "exception": false,
     "start_time": "2022-11-27T03:20:11.176350",
     "status": "completed"
    },
    "tags": []
   },
   "outputs": [],
   "source": [
    "from pathlib import Path\n",
    "from IPython.display import display\n",
    "\n",
    "import pandas as pd\n",
    "import matplotlib.pyplot as plt\n",
    "import seaborn as sns\n",
    "\n",
    "import conf"
   ]
  },
  {
   "cell_type": "markdown",
   "id": "0b2fcc60",
   "metadata": {
    "papermill": {
     "duration": 0.004881,
     "end_time": "2022-11-27T03:20:11.672524",
     "exception": false,
     "start_time": "2022-11-27T03:20:11.667643",
     "status": "completed"
    },
    "tags": []
   },
   "source": [
    "# Load consensus clustering results"
   ]
  },
  {
   "cell_type": "code",
   "execution_count": 3,
   "id": "1cc9f4db-5c4f-4485-a9ff-17f270cdbfc5",
   "metadata": {
    "execution": {
     "iopub.execute_input": "2022-11-27T03:20:11.682704Z",
     "iopub.status.busy": "2022-11-27T03:20:11.682441Z",
     "iopub.status.idle": "2022-11-27T03:20:11.693691Z",
     "shell.execute_reply": "2022-11-27T03:20:11.693313Z"
    },
    "papermill": {
     "duration": 0.017234,
     "end_time": "2022-11-27T03:20:11.694486",
     "exception": false,
     "start_time": "2022-11-27T03:20:11.677252",
     "status": "completed"
    },
    "tags": []
   },
   "outputs": [],
   "source": [
    "NULL_DIR = conf.RESULTS[\"CLUSTERING_NULL_DIR\"] / \"shuffle_lvs\""
   ]
  },
  {
   "cell_type": "code",
   "execution_count": 4,
   "id": "2fb67b26",
   "metadata": {
    "execution": {
     "iopub.execute_input": "2022-11-27T03:20:11.704911Z",
     "iopub.status.busy": "2022-11-27T03:20:11.704653Z",
     "iopub.status.idle": "2022-11-27T03:20:11.717042Z",
     "shell.execute_reply": "2022-11-27T03:20:11.716685Z"
    },
    "papermill": {
     "duration": 0.018411,
     "end_time": "2022-11-27T03:20:11.717766",
     "exception": false,
     "start_time": "2022-11-27T03:20:11.699355",
     "status": "completed"
    },
    "tags": []
   },
   "outputs": [
    {
     "data": {
      "text/plain": [
       "PosixPath('/opt/data/results/clustering/null_sims/shuffle_lvs/consensus_clustering')"
      ]
     },
     "metadata": {},
     "output_type": "display_data"
    }
   ],
   "source": [
    "CONSENSUS_CLUSTERING_DIR = Path(NULL_DIR, \"consensus_clustering\").resolve()\n",
    "\n",
    "display(CONSENSUS_CLUSTERING_DIR)"
   ]
  },
  {
   "cell_type": "code",
   "execution_count": 5,
   "id": "74226d69",
   "metadata": {
    "execution": {
     "iopub.execute_input": "2022-11-27T03:20:11.728147Z",
     "iopub.status.busy": "2022-11-27T03:20:11.727905Z",
     "iopub.status.idle": "2022-11-27T03:20:11.739169Z",
     "shell.execute_reply": "2022-11-27T03:20:11.738822Z"
    },
    "papermill": {
     "duration": 0.017157,
     "end_time": "2022-11-27T03:20:11.739899",
     "exception": false,
     "start_time": "2022-11-27T03:20:11.722742",
     "status": "completed"
    },
    "tags": []
   },
   "outputs": [
    {
     "data": {
      "text/plain": [
       "PosixPath('/opt/data/results/clustering/null_sims/shuffle_lvs/consensus_clustering/consensus_clustering_runs.pkl')"
      ]
     },
     "metadata": {},
     "output_type": "display_data"
    }
   ],
   "source": [
    "input_file = Path(CONSENSUS_CLUSTERING_DIR, \"consensus_clustering_runs.pkl\").resolve()\n",
    "display(input_file)"
   ]
  },
  {
   "cell_type": "code",
   "execution_count": 6,
   "id": "1b601aa2",
   "metadata": {
    "execution": {
     "iopub.execute_input": "2022-11-27T03:20:11.750652Z",
     "iopub.status.busy": "2022-11-27T03:20:11.750405Z",
     "iopub.status.idle": "2022-11-27T03:20:11.766779Z",
     "shell.execute_reply": "2022-11-27T03:20:11.766358Z"
    },
    "papermill": {
     "duration": 0.022874,
     "end_time": "2022-11-27T03:20:11.767736",
     "exception": false,
     "start_time": "2022-11-27T03:20:11.744862",
     "status": "completed"
    },
    "tags": []
   },
   "outputs": [],
   "source": [
    "consensus_clustering_results = pd.read_pickle(input_file)"
   ]
  },
  {
   "cell_type": "code",
   "execution_count": 7,
   "id": "f13715cf",
   "metadata": {
    "execution": {
     "iopub.execute_input": "2022-11-27T03:20:11.778244Z",
     "iopub.status.busy": "2022-11-27T03:20:11.778098Z",
     "iopub.status.idle": "2022-11-27T03:20:11.790384Z",
     "shell.execute_reply": "2022-11-27T03:20:11.790025Z"
    },
    "papermill": {
     "duration": 0.018259,
     "end_time": "2022-11-27T03:20:11.791147",
     "exception": false,
     "start_time": "2022-11-27T03:20:11.772888",
     "status": "completed"
    },
    "tags": []
   },
   "outputs": [
    {
     "data": {
      "text/plain": [
       "(413, 12)"
      ]
     },
     "execution_count": 7,
     "metadata": {},
     "output_type": "execute_result"
    }
   ],
   "source": [
    "consensus_clustering_results.shape"
   ]
  },
  {
   "cell_type": "code",
   "execution_count": 8,
   "id": "85e33247",
   "metadata": {
    "execution": {
     "iopub.execute_input": "2022-11-27T03:20:11.801650Z",
     "iopub.status.busy": "2022-11-27T03:20:11.801544Z",
     "iopub.status.idle": "2022-11-27T03:20:11.823462Z",
     "shell.execute_reply": "2022-11-27T03:20:11.823093Z"
    },
    "papermill": {
     "duration": 0.028026,
     "end_time": "2022-11-27T03:20:11.824184",
     "exception": false,
     "start_time": "2022-11-27T03:20:11.796158",
     "status": "completed"
    },
    "tags": []
   },
   "outputs": [
    {
     "data": {
      "text/html": [
       "<div>\n",
       "<style scoped>\n",
       "    .dataframe tbody tr th:only-of-type {\n",
       "        vertical-align: middle;\n",
       "    }\n",
       "\n",
       "    .dataframe tbody tr th {\n",
       "        vertical-align: top;\n",
       "    }\n",
       "\n",
       "    .dataframe thead th {\n",
       "        text-align: right;\n",
       "    }\n",
       "</style>\n",
       "<table border=\"1\" class=\"dataframe\">\n",
       "  <thead>\n",
       "    <tr style=\"text-align: right;\">\n",
       "      <th></th>\n",
       "      <th>method</th>\n",
       "      <th>partition</th>\n",
       "      <th>k</th>\n",
       "      <th>ari_mean</th>\n",
       "      <th>ari_median</th>\n",
       "      <th>ari_std</th>\n",
       "      <th>ami_mean</th>\n",
       "      <th>ami_median</th>\n",
       "      <th>ami_std</th>\n",
       "      <th>nmi_mean</th>\n",
       "      <th>nmi_median</th>\n",
       "      <th>nmi_std</th>\n",
       "    </tr>\n",
       "  </thead>\n",
       "  <tbody>\n",
       "    <tr>\n",
       "      <th>0</th>\n",
       "      <td>scc_030</td>\n",
       "      <td>[1, 1, 1, 1, 1, 1, 1, 1, 1, 1, 1, 1, 1, 1, 1, ...</td>\n",
       "      <td>2</td>\n",
       "      <td>0.031635</td>\n",
       "      <td>0.000160</td>\n",
       "      <td>0.075404</td>\n",
       "      <td>0.101767</td>\n",
       "      <td>0.000505</td>\n",
       "      <td>0.157779</td>\n",
       "      <td>0.106014</td>\n",
       "      <td>0.009944</td>\n",
       "      <td>0.155998</td>\n",
       "    </tr>\n",
       "    <tr>\n",
       "      <th>1</th>\n",
       "      <td>scc_030</td>\n",
       "      <td>[1, 1, 1, 1, 1, 1, 1, 1, 1, 1, 1, 1, 1, 1, 1, ...</td>\n",
       "      <td>3</td>\n",
       "      <td>0.051898</td>\n",
       "      <td>0.000073</td>\n",
       "      <td>0.110869</td>\n",
       "      <td>0.143359</td>\n",
       "      <td>0.000675</td>\n",
       "      <td>0.220852</td>\n",
       "      <td>0.148842</td>\n",
       "      <td>0.011363</td>\n",
       "      <td>0.218589</td>\n",
       "    </tr>\n",
       "    <tr>\n",
       "      <th>2</th>\n",
       "      <td>scc_030</td>\n",
       "      <td>[3, 3, 3, 3, 3, 3, 3, 3, 3, 3, 3, 3, 3, 3, 3, ...</td>\n",
       "      <td>4</td>\n",
       "      <td>0.061330</td>\n",
       "      <td>0.000016</td>\n",
       "      <td>0.119374</td>\n",
       "      <td>0.163701</td>\n",
       "      <td>0.000836</td>\n",
       "      <td>0.249698</td>\n",
       "      <td>0.170085</td>\n",
       "      <td>0.013278</td>\n",
       "      <td>0.247121</td>\n",
       "    </tr>\n",
       "    <tr>\n",
       "      <th>3</th>\n",
       "      <td>scc_030</td>\n",
       "      <td>[1, 1, 1, 1, 1, 1, 1, 1, 1, 1, 1, 1, 1, 1, 1, ...</td>\n",
       "      <td>5</td>\n",
       "      <td>0.083099</td>\n",
       "      <td>0.001115</td>\n",
       "      <td>0.152281</td>\n",
       "      <td>0.184872</td>\n",
       "      <td>0.002492</td>\n",
       "      <td>0.280919</td>\n",
       "      <td>0.191957</td>\n",
       "      <td>0.012744</td>\n",
       "      <td>0.278043</td>\n",
       "    </tr>\n",
       "    <tr>\n",
       "      <th>4</th>\n",
       "      <td>scc_030</td>\n",
       "      <td>[1, 1, 1, 1, 1, 1, 1, 1, 1, 1, 1, 1, 1, 1, 1, ...</td>\n",
       "      <td>6</td>\n",
       "      <td>0.100830</td>\n",
       "      <td>0.000728</td>\n",
       "      <td>0.179658</td>\n",
       "      <td>0.198811</td>\n",
       "      <td>0.001834</td>\n",
       "      <td>0.302531</td>\n",
       "      <td>0.206519</td>\n",
       "      <td>0.013906</td>\n",
       "      <td>0.299334</td>\n",
       "    </tr>\n",
       "  </tbody>\n",
       "</table>\n",
       "</div>"
      ],
      "text/plain": [
       "    method                                          partition  k  ari_mean  \\\n",
       "0  scc_030  [1, 1, 1, 1, 1, 1, 1, 1, 1, 1, 1, 1, 1, 1, 1, ...  2  0.031635   \n",
       "1  scc_030  [1, 1, 1, 1, 1, 1, 1, 1, 1, 1, 1, 1, 1, 1, 1, ...  3  0.051898   \n",
       "2  scc_030  [3, 3, 3, 3, 3, 3, 3, 3, 3, 3, 3, 3, 3, 3, 3, ...  4  0.061330   \n",
       "3  scc_030  [1, 1, 1, 1, 1, 1, 1, 1, 1, 1, 1, 1, 1, 1, 1, ...  5  0.083099   \n",
       "4  scc_030  [1, 1, 1, 1, 1, 1, 1, 1, 1, 1, 1, 1, 1, 1, 1, ...  6  0.100830   \n",
       "\n",
       "   ari_median   ari_std  ami_mean  ami_median   ami_std  nmi_mean  nmi_median  \\\n",
       "0    0.000160  0.075404  0.101767    0.000505  0.157779  0.106014    0.009944   \n",
       "1    0.000073  0.110869  0.143359    0.000675  0.220852  0.148842    0.011363   \n",
       "2    0.000016  0.119374  0.163701    0.000836  0.249698  0.170085    0.013278   \n",
       "3    0.001115  0.152281  0.184872    0.002492  0.280919  0.191957    0.012744   \n",
       "4    0.000728  0.179658  0.198811    0.001834  0.302531  0.206519    0.013906   \n",
       "\n",
       "    nmi_std  \n",
       "0  0.155998  \n",
       "1  0.218589  \n",
       "2  0.247121  \n",
       "3  0.278043  \n",
       "4  0.299334  "
      ]
     },
     "execution_count": 8,
     "metadata": {},
     "output_type": "execute_result"
    }
   ],
   "source": [
    "consensus_clustering_results.head()"
   ]
  },
  {
   "cell_type": "markdown",
   "id": "d0bb472d",
   "metadata": {
    "papermill": {
     "duration": 0.004982,
     "end_time": "2022-11-27T03:20:11.834437",
     "exception": false,
     "start_time": "2022-11-27T03:20:11.829455",
     "status": "completed"
    },
    "tags": []
   },
   "source": [
    "# Explore clustering indexes"
   ]
  },
  {
   "cell_type": "code",
   "execution_count": 9,
   "id": "bc6cc016",
   "metadata": {
    "execution": {
     "iopub.execute_input": "2022-11-27T03:20:11.864625Z",
     "iopub.status.busy": "2022-11-27T03:20:11.864316Z",
     "iopub.status.idle": "2022-11-27T03:20:11.916066Z",
     "shell.execute_reply": "2022-11-27T03:20:11.915662Z"
    },
    "papermill": {
     "duration": 0.077546,
     "end_time": "2022-11-27T03:20:11.917054",
     "exception": false,
     "start_time": "2022-11-27T03:20:11.839508",
     "status": "completed"
    },
    "tags": []
   },
   "outputs": [],
   "source": [
    "_col = \"ari_mean\"\n",
    "\n",
    "_best_parts_by_ari = (\n",
    "    consensus_clustering_results.groupby(\"k\")\n",
    "    .apply(lambda x: x.sort_values(_col, ascending=False).head(1))\n",
    "    .sort_values(_col, ascending=False)[[\"method\", \"k\", _col]]\n",
    "    .rename(columns={_col: \"index_value\"})\n",
    ")"
   ]
  },
  {
   "cell_type": "code",
   "execution_count": 10,
   "id": "964a75d6",
   "metadata": {
    "execution": {
     "iopub.execute_input": "2022-11-27T03:20:11.927860Z",
     "iopub.status.busy": "2022-11-27T03:20:11.927695Z",
     "iopub.status.idle": "2022-11-27T03:20:11.966378Z",
     "shell.execute_reply": "2022-11-27T03:20:11.965975Z"
    },
    "papermill": {
     "duration": 0.044986,
     "end_time": "2022-11-27T03:20:11.967321",
     "exception": false,
     "start_time": "2022-11-27T03:20:11.922335",
     "status": "completed"
    },
    "tags": []
   },
   "outputs": [],
   "source": [
    "_col = \"ami_mean\"\n",
    "\n",
    "_best_parts_by_ami = (\n",
    "    consensus_clustering_results.groupby(\"k\")\n",
    "    .apply(lambda x: x.sort_values(_col, ascending=False).head(1))\n",
    "    .sort_values(_col, ascending=False)[[\"method\", \"k\", _col]]\n",
    "    .rename(columns={_col: \"index_value\"})\n",
    ")"
   ]
  },
  {
   "cell_type": "code",
   "execution_count": 11,
   "id": "66d3c71a",
   "metadata": {
    "execution": {
     "iopub.execute_input": "2022-11-27T03:20:11.978565Z",
     "iopub.status.busy": "2022-11-27T03:20:11.978465Z",
     "iopub.status.idle": "2022-11-27T03:20:12.016377Z",
     "shell.execute_reply": "2022-11-27T03:20:12.015974Z"
    },
    "papermill": {
     "duration": 0.044551,
     "end_time": "2022-11-27T03:20:12.017232",
     "exception": false,
     "start_time": "2022-11-27T03:20:11.972681",
     "status": "completed"
    },
    "tags": []
   },
   "outputs": [],
   "source": [
    "_col = \"nmi_mean\"\n",
    "\n",
    "_best_parts_by_nmi = (\n",
    "    consensus_clustering_results.groupby(\"k\")\n",
    "    .apply(lambda x: x.sort_values(_col, ascending=False).head(1))\n",
    "    .sort_values(_col, ascending=False)[[\"method\", \"k\", _col]]\n",
    "    .rename(columns={_col: \"index_value\"})\n",
    ")"
   ]
  },
  {
   "cell_type": "code",
   "execution_count": 12,
   "id": "eb927a75",
   "metadata": {
    "execution": {
     "iopub.execute_input": "2022-11-27T03:20:12.028102Z",
     "iopub.status.busy": "2022-11-27T03:20:12.027846Z",
     "iopub.status.idle": "2022-11-27T03:20:12.039905Z",
     "shell.execute_reply": "2022-11-27T03:20:12.039555Z"
    },
    "papermill": {
     "duration": 0.018176,
     "end_time": "2022-11-27T03:20:12.040664",
     "exception": false,
     "start_time": "2022-11-27T03:20:12.022488",
     "status": "completed"
    },
    "tags": []
   },
   "outputs": [
    {
     "data": {
      "text/html": [
       "<svg  width=\"165\" height=\"55\"><rect x=\"0\" y=\"0\" width=\"55\" height=\"55\" style=\"fill:#0173b2;stroke-width:2;stroke:rgb(255,255,255)\"/><rect x=\"55\" y=\"0\" width=\"55\" height=\"55\" style=\"fill:#de8f05;stroke-width:2;stroke:rgb(255,255,255)\"/><rect x=\"110\" y=\"0\" width=\"55\" height=\"55\" style=\"fill:#029e73;stroke-width:2;stroke:rgb(255,255,255)\"/></svg>"
      ],
      "text/plain": [
       "[(0.00392156862745098, 0.45098039215686275, 0.6980392156862745),\n",
       " (0.8705882352941177, 0.5607843137254902, 0.0196078431372549),\n",
       " (0.00784313725490196, 0.6196078431372549, 0.45098039215686275)]"
      ]
     },
     "metadata": {},
     "output_type": "display_data"
    }
   ],
   "source": [
    "_indexes_colors = sns.color_palette(\"colorblind\", 3)\n",
    "display(_indexes_colors)"
   ]
  },
  {
   "cell_type": "code",
   "execution_count": 13,
   "id": "96937023",
   "metadata": {
    "execution": {
     "iopub.execute_input": "2022-11-27T03:20:12.051690Z",
     "iopub.status.busy": "2022-11-27T03:20:12.051456Z",
     "iopub.status.idle": "2022-11-27T03:20:13.421840Z",
     "shell.execute_reply": "2022-11-27T03:20:13.421360Z"
    },
    "papermill": {
     "duration": 1.37822,
     "end_time": "2022-11-27T03:20:13.424052",
     "exception": false,
     "start_time": "2022-11-27T03:20:12.045832",
     "status": "completed"
    },
    "tags": []
   },
   "outputs": [
    {
     "data": {
      "image/png": "[encoded data removed]",
      "text/plain": [
       "<Figure size 864x432 with 1 Axes>"
      ]
     },
     "metadata": {},
     "output_type": "display_data"
    }
   ],
   "source": [
    "with sns.plotting_context(\"talk\", font_scale=0.75), sns.axes_style(\n",
    "    \"whitegrid\", {\"grid.linestyle\": \"--\"}\n",
    "):\n",
    "    fig, ax = plt.subplots(figsize=(12, 6))\n",
    "\n",
    "    ax = sns.pointplot(\n",
    "        data=_best_parts_by_ari,\n",
    "        x=\"k\",\n",
    "        y=\"index_value\",\n",
    "        color=_indexes_colors[0],\n",
    "        ci=None,\n",
    "    )\n",
    "    ax = sns.pointplot(\n",
    "        data=_best_parts_by_ami,\n",
    "        x=\"k\",\n",
    "        y=\"index_value\",\n",
    "        color=_indexes_colors[1],\n",
    "        ci=None,\n",
    "    )\n",
    "    ax = sns.pointplot(\n",
    "        data=_best_parts_by_nmi,\n",
    "        x=\"k\",\n",
    "        y=\"index_value\",\n",
    "        color=_indexes_colors[2],\n",
    "        ci=None,\n",
    "    )\n",
    "\n",
    "    ax.set_ylabel(f\"Agreement with ensemble\")\n",
    "    ax.set_xlabel(\"Number of clusters ($k$)\")\n",
    "    ax.set_xticklabels(ax.get_xticklabels(), rotation=45)\n",
    "    plt.legend(labels=[\"ARI\", \"AMI\", \"NMI\"])\n",
    "    plt.grid(True)\n",
    "    plt.tight_layout()"
   ]
  },
  {
   "cell_type": "markdown",
   "id": "0aa6a0e0",
   "metadata": {
    "papermill": {
     "duration": 0.011599,
     "end_time": "2022-11-27T03:20:13.448273",
     "exception": false,
     "start_time": "2022-11-27T03:20:13.436674",
     "status": "completed"
    },
    "tags": []
   },
   "source": [
    "AMI and NMI show the same trend for higher `k`. That's surprising. I would have expected that AMI has the same pattern as ARI, since both are adjusted-for-chance, and should not show higher values for higher `k` as it is expected for a not adjusted-for-chance index as NMI.\n",
    "\n",
    "**CONCLUSION:** I will pick ARI for the follow up analysis."
   ]
  },
  {
   "cell_type": "markdown",
   "id": "6b314bea",
   "metadata": {
    "papermill": {
     "duration": 0.011515,
     "end_time": "2022-11-27T03:20:13.471826",
     "exception": false,
     "start_time": "2022-11-27T03:20:13.460311",
     "status": "completed"
    },
    "tags": []
   },
   "source": [
    "# Explore best partition per k"
   ]
  },
  {
   "cell_type": "code",
   "execution_count": 14,
   "id": "4996defe",
   "metadata": {
    "execution": {
     "iopub.execute_input": "2022-11-27T03:20:13.495705Z",
     "iopub.status.busy": "2022-11-27T03:20:13.495590Z",
     "iopub.status.idle": "2022-11-27T03:20:13.507734Z",
     "shell.execute_reply": "2022-11-27T03:20:13.507289Z"
    },
    "papermill": {
     "duration": 0.025286,
     "end_time": "2022-11-27T03:20:13.509054",
     "exception": false,
     "start_time": "2022-11-27T03:20:13.483768",
     "status": "completed"
    },
    "tags": []
   },
   "outputs": [],
   "source": [
    "_selected_measure = \"ARI\"\n",
    "_mean_column, _median_column = \"ari_mean\", \"ari_median\""
   ]
  },
  {
   "cell_type": "code",
   "execution_count": 15,
   "id": "fc30cd3d",
   "metadata": {
    "execution": {
     "iopub.execute_input": "2022-11-27T03:20:13.533546Z",
     "iopub.status.busy": "2022-11-27T03:20:13.533454Z",
     "iopub.status.idle": "2022-11-27T03:20:13.616299Z",
     "shell.execute_reply": "2022-11-27T03:20:13.615847Z"
    },
    "papermill": {
     "duration": 0.096395,
     "end_time": "2022-11-27T03:20:13.617615",
     "exception": false,
     "start_time": "2022-11-27T03:20:13.521220",
     "status": "completed"
    },
    "tags": []
   },
   "outputs": [
    {
     "data": {
      "text/html": [
       "<div>\n",
       "<style scoped>\n",
       "    .dataframe tbody tr th:only-of-type {\n",
       "        vertical-align: middle;\n",
       "    }\n",
       "\n",
       "    .dataframe tbody tr th {\n",
       "        vertical-align: top;\n",
       "    }\n",
       "\n",
       "    .dataframe thead th {\n",
       "        text-align: right;\n",
       "    }\n",
       "</style>\n",
       "<table border=\"1\" class=\"dataframe\">\n",
       "  <thead>\n",
       "    <tr style=\"text-align: right;\">\n",
       "      <th></th>\n",
       "      <th></th>\n",
       "      <th>method</th>\n",
       "      <th>k</th>\n",
       "      <th>ari_mean</th>\n",
       "    </tr>\n",
       "    <tr>\n",
       "      <th>k</th>\n",
       "      <th></th>\n",
       "      <th></th>\n",
       "      <th></th>\n",
       "      <th></th>\n",
       "    </tr>\n",
       "  </thead>\n",
       "  <tbody>\n",
       "    <tr>\n",
       "      <th>31</th>\n",
       "      <th>206</th>\n",
       "      <td>scc_020</td>\n",
       "      <td>31</td>\n",
       "      <td>0.170033</td>\n",
       "    </tr>\n",
       "    <tr>\n",
       "      <th>30</th>\n",
       "      <th>28</th>\n",
       "      <td>scc_030</td>\n",
       "      <td>30</td>\n",
       "      <td>0.169966</td>\n",
       "    </tr>\n",
       "    <tr>\n",
       "      <th>32</th>\n",
       "      <th>207</th>\n",
       "      <td>scc_020</td>\n",
       "      <td>32</td>\n",
       "      <td>0.169805</td>\n",
       "    </tr>\n",
       "    <tr>\n",
       "      <th>29</th>\n",
       "      <th>263</th>\n",
       "      <td>scc_050</td>\n",
       "      <td>29</td>\n",
       "      <td>0.169667</td>\n",
       "    </tr>\n",
       "    <tr>\n",
       "      <th>34</th>\n",
       "      <th>268</th>\n",
       "      <td>scc_050</td>\n",
       "      <td>34</td>\n",
       "      <td>0.169527</td>\n",
       "    </tr>\n",
       "    <tr>\n",
       "      <th>33</th>\n",
       "      <th>208</th>\n",
       "      <td>scc_020</td>\n",
       "      <td>33</td>\n",
       "      <td>0.169327</td>\n",
       "    </tr>\n",
       "    <tr>\n",
       "      <th>28</th>\n",
       "      <th>262</th>\n",
       "      <td>scc_050</td>\n",
       "      <td>28</td>\n",
       "      <td>0.168865</td>\n",
       "    </tr>\n",
       "    <tr>\n",
       "      <th>27</th>\n",
       "      <th>261</th>\n",
       "      <td>scc_050</td>\n",
       "      <td>27</td>\n",
       "      <td>0.168820</td>\n",
       "    </tr>\n",
       "    <tr>\n",
       "      <th>35</th>\n",
       "      <th>33</th>\n",
       "      <td>scc_030</td>\n",
       "      <td>35</td>\n",
       "      <td>0.168620</td>\n",
       "    </tr>\n",
       "    <tr>\n",
       "      <th>26</th>\n",
       "      <th>201</th>\n",
       "      <td>scc_020</td>\n",
       "      <td>26</td>\n",
       "      <td>0.168390</td>\n",
       "    </tr>\n",
       "  </tbody>\n",
       "</table>\n",
       "</div>"
      ],
      "text/plain": [
       "         method   k  ari_mean\n",
       "k                            \n",
       "31 206  scc_020  31  0.170033\n",
       "30 28   scc_030  30  0.169966\n",
       "32 207  scc_020  32  0.169805\n",
       "29 263  scc_050  29  0.169667\n",
       "34 268  scc_050  34  0.169527\n",
       "33 208  scc_020  33  0.169327\n",
       "28 262  scc_050  28  0.168865\n",
       "27 261  scc_050  27  0.168820\n",
       "35 33   scc_030  35  0.168620\n",
       "26 201  scc_020  26  0.168390"
      ]
     },
     "metadata": {},
     "output_type": "display_data"
    }
   ],
   "source": [
    "best_parts_by_mean = (\n",
    "    consensus_clustering_results.groupby(\"k\")\n",
    "    .apply(lambda x: x.sort_values(_mean_column, ascending=False).head(1))\n",
    "    .sort_values(_mean_column, ascending=False)[[\"method\", \"k\", _mean_column]]\n",
    ")\n",
    "display(best_parts_by_mean.head(10))"
   ]
  },
  {
   "cell_type": "code",
   "execution_count": 16,
   "id": "122bb205",
   "metadata": {
    "execution": {
     "iopub.execute_input": "2022-11-27T03:20:13.642921Z",
     "iopub.status.busy": "2022-11-27T03:20:13.642811Z",
     "iopub.status.idle": "2022-11-27T03:20:13.683438Z",
     "shell.execute_reply": "2022-11-27T03:20:13.683060Z"
    },
    "papermill": {
     "duration": 0.054406,
     "end_time": "2022-11-27T03:20:13.684715",
     "exception": false,
     "start_time": "2022-11-27T03:20:13.630309",
     "status": "completed"
    },
    "tags": []
   },
   "outputs": [
    {
     "data": {
      "text/html": [
       "<div>\n",
       "<style scoped>\n",
       "    .dataframe tbody tr th:only-of-type {\n",
       "        vertical-align: middle;\n",
       "    }\n",
       "\n",
       "    .dataframe tbody tr th {\n",
       "        vertical-align: top;\n",
       "    }\n",
       "\n",
       "    .dataframe thead th {\n",
       "        text-align: right;\n",
       "    }\n",
       "</style>\n",
       "<table border=\"1\" class=\"dataframe\">\n",
       "  <thead>\n",
       "    <tr style=\"text-align: right;\">\n",
       "      <th></th>\n",
       "      <th></th>\n",
       "      <th>method</th>\n",
       "      <th>k</th>\n",
       "      <th>ari_median</th>\n",
       "    </tr>\n",
       "    <tr>\n",
       "      <th>k</th>\n",
       "      <th></th>\n",
       "      <th></th>\n",
       "      <th></th>\n",
       "      <th></th>\n",
       "    </tr>\n",
       "  </thead>\n",
       "  <tbody>\n",
       "    <tr>\n",
       "      <th>7</th>\n",
       "      <th>299</th>\n",
       "      <td>eac_complete_coassoc_matrix</td>\n",
       "      <td>7</td>\n",
       "      <td>0.018245</td>\n",
       "    </tr>\n",
       "    <tr>\n",
       "      <th>6</th>\n",
       "      <th>297</th>\n",
       "      <td>eac_complete_coassoc_matrix</td>\n",
       "      <td>6</td>\n",
       "      <td>0.017915</td>\n",
       "    </tr>\n",
       "    <tr>\n",
       "      <th>12</th>\n",
       "      <th>305</th>\n",
       "      <td>eac_complete_coassoc_matrix</td>\n",
       "      <td>12</td>\n",
       "      <td>0.017873</td>\n",
       "    </tr>\n",
       "    <tr>\n",
       "      <th>11</th>\n",
       "      <th>304</th>\n",
       "      <td>eac_complete_coassoc_matrix</td>\n",
       "      <td>11</td>\n",
       "      <td>0.017834</td>\n",
       "    </tr>\n",
       "    <tr>\n",
       "      <th>9</th>\n",
       "      <th>301</th>\n",
       "      <td>eac_complete_coassoc_matrix</td>\n",
       "      <td>9</td>\n",
       "      <td>0.017725</td>\n",
       "    </tr>\n",
       "    <tr>\n",
       "      <th>10</th>\n",
       "      <th>303</th>\n",
       "      <td>eac_complete_coassoc_matrix</td>\n",
       "      <td>10</td>\n",
       "      <td>0.017710</td>\n",
       "    </tr>\n",
       "    <tr>\n",
       "      <th>8</th>\n",
       "      <th>300</th>\n",
       "      <td>eac_complete_coassoc_matrix</td>\n",
       "      <td>8</td>\n",
       "      <td>0.017609</td>\n",
       "    </tr>\n",
       "    <tr>\n",
       "      <th>5</th>\n",
       "      <th>295</th>\n",
       "      <td>eac_complete_coassoc_matrix</td>\n",
       "      <td>5</td>\n",
       "      <td>0.015247</td>\n",
       "    </tr>\n",
       "    <tr>\n",
       "      <th>13</th>\n",
       "      <th>306</th>\n",
       "      <td>eac_complete_coassoc_matrix</td>\n",
       "      <td>13</td>\n",
       "      <td>0.008200</td>\n",
       "    </tr>\n",
       "    <tr>\n",
       "      <th>4</th>\n",
       "      <th>293</th>\n",
       "      <td>eac_complete_coassoc_matrix</td>\n",
       "      <td>4</td>\n",
       "      <td>0.007400</td>\n",
       "    </tr>\n",
       "  </tbody>\n",
       "</table>\n",
       "</div>"
      ],
      "text/plain": [
       "                             method   k  ari_median\n",
       "k                                                  \n",
       "7  299  eac_complete_coassoc_matrix   7    0.018245\n",
       "6  297  eac_complete_coassoc_matrix   6    0.017915\n",
       "12 305  eac_complete_coassoc_matrix  12    0.017873\n",
       "11 304  eac_complete_coassoc_matrix  11    0.017834\n",
       "9  301  eac_complete_coassoc_matrix   9    0.017725\n",
       "10 303  eac_complete_coassoc_matrix  10    0.017710\n",
       "8  300  eac_complete_coassoc_matrix   8    0.017609\n",
       "5  295  eac_complete_coassoc_matrix   5    0.015247\n",
       "13 306  eac_complete_coassoc_matrix  13    0.008200\n",
       "4  293  eac_complete_coassoc_matrix   4    0.007400"
      ]
     },
     "metadata": {},
     "output_type": "display_data"
    }
   ],
   "source": [
    "best_parts_by_median = (\n",
    "    consensus_clustering_results.groupby(\"k\")\n",
    "    .apply(lambda x: x.sort_values(_median_column, ascending=False).head(1))\n",
    "    .sort_values(_median_column, ascending=False)[[\"method\", \"k\", _median_column]]\n",
    ")\n",
    "display(best_parts_by_median.head(10))"
   ]
  },
  {
   "cell_type": "code",
   "execution_count": 17,
   "id": "016d57e3",
   "metadata": {
    "execution": {
     "iopub.execute_input": "2022-11-27T03:20:13.710431Z",
     "iopub.status.busy": "2022-11-27T03:20:13.710336Z",
     "iopub.status.idle": "2022-11-27T03:20:14.951378Z",
     "shell.execute_reply": "2022-11-27T03:20:14.950925Z"
    },
    "papermill": {
     "duration": 1.255014,
     "end_time": "2022-11-27T03:20:14.952672",
     "exception": false,
     "start_time": "2022-11-27T03:20:13.697658",
     "status": "completed"
    },
    "tags": []
   },
   "outputs": [
    {
     "data": {
      "image/png": "[encoded data removed]",
      "text/plain": [
       "<Figure size 864x432 with 1 Axes>"
      ]
     },
     "metadata": {},
     "output_type": "display_data"
    }
   ],
   "source": [
    "with sns.plotting_context(\"talk\", font_scale=0.75), sns.axes_style(\n",
    "    \"whitegrid\", {\"grid.linestyle\": \"--\"}\n",
    "):\n",
    "    fig, ax = plt.subplots(figsize=(12, 6))\n",
    "\n",
    "    ax = sns.pointplot(\n",
    "        data=best_parts_by_mean,\n",
    "        x=\"k\",\n",
    "        y=_mean_column,\n",
    "        ci=None,\n",
    "        color=_indexes_colors[0],\n",
    "        label=\"Mean\",\n",
    "    )\n",
    "    ax = sns.pointplot(\n",
    "        data=best_parts_by_median,\n",
    "        x=\"k\",\n",
    "        y=_median_column,\n",
    "        ci=None,\n",
    "        color=_indexes_colors[1],\n",
    "        label=\"Median\",\n",
    "        ax=ax,\n",
    "    )\n",
    "    ax.set_ylabel(f\"Agreement with ensemble ({_selected_measure})\")\n",
    "    ax.set_xlabel(\"Number of clusters ($k$)\")\n",
    "    ax.set_xticklabels(ax.get_xticklabels(), rotation=45)\n",
    "    plt.legend(labels=[\"Mean\", \"Median\"])\n",
    "    plt.grid(True)\n",
    "    plt.tight_layout()"
   ]
  },
  {
   "cell_type": "markdown",
   "id": "d22c9c1c",
   "metadata": {
    "papermill": {
     "duration": 0.011653,
     "end_time": "2022-11-27T03:20:14.975989",
     "exception": false,
     "start_time": "2022-11-27T03:20:14.964336",
     "status": "completed"
    },
    "tags": []
   },
   "source": [
    "Both central tendency measures (the mean and the median) have the same behevior: higher agreement on lower/medium k values, and lower agreement on higher k values."
   ]
  },
  {
   "cell_type": "markdown",
   "id": "e9b797d6",
   "metadata": {
    "papermill": {
     "duration": 0.013356,
     "end_time": "2022-11-27T03:20:15.002964",
     "exception": false,
     "start_time": "2022-11-27T03:20:14.989608",
     "status": "completed"
    },
    "tags": []
   },
   "source": [
    "# Which consensus method performs better?"
   ]
  },
  {
   "cell_type": "markdown",
   "id": "940d6ad5",
   "metadata": {
    "papermill": {
     "duration": 0.012694,
     "end_time": "2022-11-27T03:20:15.029227",
     "exception": false,
     "start_time": "2022-11-27T03:20:15.016533",
     "status": "completed"
    },
    "tags": []
   },
   "source": [
    "For this comparison, I take the partitions with an agreement higher than the 75th percentile. From this set, I count how many times each method won."
   ]
  },
  {
   "cell_type": "markdown",
   "id": "5a4cdc1e",
   "metadata": {
    "papermill": {
     "duration": 0.006636,
     "end_time": "2022-11-27T03:20:15.043829",
     "exception": false,
     "start_time": "2022-11-27T03:20:15.037193",
     "status": "completed"
    },
    "tags": []
   },
   "source": [
    "## Using best by mean"
   ]
  },
  {
   "cell_type": "code",
   "execution_count": 18,
   "id": "c510f8cc",
   "metadata": {
    "execution": {
     "iopub.execute_input": "2022-11-27T03:20:15.058234Z",
     "iopub.status.busy": "2022-11-27T03:20:15.058089Z",
     "iopub.status.idle": "2022-11-27T03:20:15.078316Z",
     "shell.execute_reply": "2022-11-27T03:20:15.077823Z"
    },
    "papermill": {
     "duration": 0.028425,
     "end_time": "2022-11-27T03:20:15.079113",
     "exception": false,
     "start_time": "2022-11-27T03:20:15.050688",
     "status": "completed"
    },
    "tags": []
   },
   "outputs": [
    {
     "data": {
      "text/plain": [
       "count    59.000000\n",
       "mean      0.153939\n",
       "std       0.025946\n",
       "min       0.073780\n",
       "25%       0.156037\n",
       "50%       0.166446\n",
       "75%       0.166780\n",
       "max       0.170033\n",
       "Name: ari_mean, dtype: float64"
      ]
     },
     "metadata": {},
     "output_type": "display_data"
    }
   ],
   "source": [
    "_stats_data = best_parts_by_mean[_mean_column].describe()\n",
    "display(_stats_data)"
   ]
  },
  {
   "cell_type": "code",
   "execution_count": 19,
   "id": "fbe3c58a",
   "metadata": {
    "execution": {
     "iopub.execute_input": "2022-11-27T03:20:15.093984Z",
     "iopub.status.busy": "2022-11-27T03:20:15.093811Z",
     "iopub.status.idle": "2022-11-27T03:20:15.116523Z",
     "shell.execute_reply": "2022-11-27T03:20:15.115975Z"
    },
    "papermill": {
     "duration": 0.030968,
     "end_time": "2022-11-27T03:20:15.117334",
     "exception": false,
     "start_time": "2022-11-27T03:20:15.086366",
     "status": "completed"
    },
    "tags": []
   },
   "outputs": [
    {
     "data": {
      "text/plain": [
       "scc_050                       6\n",
       "scc_020                       4\n",
       "scc_030                       4\n",
       "eac_average_coassoc_matrix    1\n",
       "Name: method, dtype: int64"
      ]
     },
     "execution_count": 19,
     "metadata": {},
     "output_type": "execute_result"
    }
   ],
   "source": [
    "best_parts_by_mean[best_parts_by_mean[_mean_column] > _stats_data[\"75%\"]][\n",
    "    \"method\"\n",
    "].value_counts()"
   ]
  },
  {
   "cell_type": "markdown",
   "id": "abaf7152",
   "metadata": {
    "papermill": {
     "duration": 0.006791,
     "end_time": "2022-11-27T03:20:15.131396",
     "exception": false,
     "start_time": "2022-11-27T03:20:15.124605",
     "status": "completed"
    },
    "tags": []
   },
   "source": [
    "SCC picked the \"best partition\" 14 times, whereas EAC (hierarhical clustering) did it only once."
   ]
  },
  {
   "cell_type": "markdown",
   "id": "c88678af",
   "metadata": {
    "papermill": {
     "duration": 0.006838,
     "end_time": "2022-11-27T03:20:15.145163",
     "exception": false,
     "start_time": "2022-11-27T03:20:15.138325",
     "status": "completed"
    },
    "tags": []
   },
   "source": [
    "## Using best by median"
   ]
  },
  {
   "cell_type": "code",
   "execution_count": 20,
   "id": "cacac7e7",
   "metadata": {
    "execution": {
     "iopub.execute_input": "2022-11-27T03:20:15.159883Z",
     "iopub.status.busy": "2022-11-27T03:20:15.159712Z",
     "iopub.status.idle": "2022-11-27T03:20:15.183143Z",
     "shell.execute_reply": "2022-11-27T03:20:15.182572Z"
    },
    "papermill": {
     "duration": 0.031868,
     "end_time": "2022-11-27T03:20:15.184006",
     "exception": false,
     "start_time": "2022-11-27T03:20:15.152138",
     "status": "completed"
    },
    "tags": []
   },
   "outputs": [
    {
     "data": {
      "text/plain": [
       "count    59.000000\n",
       "mean      0.004001\n",
       "std       0.005667\n",
       "min       0.000815\n",
       "25%       0.000859\n",
       "50%       0.001185\n",
       "75%       0.003311\n",
       "max       0.018245\n",
       "Name: ari_median, dtype: float64"
      ]
     },
     "metadata": {},
     "output_type": "display_data"
    }
   ],
   "source": [
    "_stats_data = best_parts_by_median[_median_column].describe()\n",
    "display(_stats_data)"
   ]
  },
  {
   "cell_type": "code",
   "execution_count": 21,
   "id": "a0d116dd",
   "metadata": {
    "execution": {
     "iopub.execute_input": "2022-11-27T03:20:15.199415Z",
     "iopub.status.busy": "2022-11-27T03:20:15.199223Z",
     "iopub.status.idle": "2022-11-27T03:20:15.221760Z",
     "shell.execute_reply": "2022-11-27T03:20:15.221282Z"
    },
    "papermill": {
     "duration": 0.031119,
     "end_time": "2022-11-27T03:20:15.222581",
     "exception": false,
     "start_time": "2022-11-27T03:20:15.191462",
     "status": "completed"
    },
    "tags": []
   },
   "outputs": [
    {
     "data": {
      "text/plain": [
       "eac_complete_coassoc_matrix    15\n",
       "Name: method, dtype: int64"
      ]
     },
     "execution_count": 21,
     "metadata": {},
     "output_type": "execute_result"
    }
   ],
   "source": [
    "best_parts_by_median[best_parts_by_median[_median_column] > _stats_data[\"75%\"]][\n",
    "    \"method\"\n",
    "].value_counts()"
   ]
  },
  {
   "cell_type": "markdown",
   "id": "a42d7b35",
   "metadata": {
    "papermill": {
     "duration": 0.006876,
     "end_time": "2022-11-27T03:20:15.236877",
     "exception": false,
     "start_time": "2022-11-27T03:20:15.230001",
     "status": "completed"
    },
    "tags": []
   },
   "source": [
    "If we use the \"best partitions by median\", EAC (HC) picked the best one 5 times, whereas SCC did it 10 times."
   ]
  },
  {
   "cell_type": "markdown",
   "id": "1d6bcaa8",
   "metadata": {
    "papermill": {
     "duration": 0.006997,
     "end_time": "2022-11-27T03:20:15.250817",
     "exception": false,
     "start_time": "2022-11-27T03:20:15.243820",
     "status": "completed"
    },
    "tags": []
   },
   "source": [
    "**CONCLUSION:** we select SCC as the method for follow up analysis."
   ]
  },
  {
   "cell_type": "markdown",
   "id": "6ae2234f",
   "metadata": {
    "papermill": {
     "duration": 0.006916,
     "end_time": "2022-11-27T03:20:15.264761",
     "exception": false,
     "start_time": "2022-11-27T03:20:15.257845",
     "status": "completed"
    },
    "tags": []
   },
   "source": [
    "# Select best partition per k"
   ]
  },
  {
   "cell_type": "code",
   "execution_count": 22,
   "id": "c0250a74",
   "metadata": {
    "execution": {
     "iopub.execute_input": "2022-11-27T03:20:15.279730Z",
     "iopub.status.busy": "2022-11-27T03:20:15.279365Z",
     "iopub.status.idle": "2022-11-27T03:20:15.298550Z",
     "shell.execute_reply": "2022-11-27T03:20:15.298074Z"
    },
    "papermill": {
     "duration": 0.027627,
     "end_time": "2022-11-27T03:20:15.299384",
     "exception": false,
     "start_time": "2022-11-27T03:20:15.271757",
     "status": "completed"
    },
    "tags": []
   },
   "outputs": [],
   "source": [
    "_selected_stat = \"Median\"\n",
    "_measure_col = _median_column"
   ]
  },
  {
   "cell_type": "code",
   "execution_count": 23,
   "id": "dffc41bf",
   "metadata": {
    "execution": {
     "iopub.execute_input": "2022-11-27T03:20:15.314759Z",
     "iopub.status.busy": "2022-11-27T03:20:15.314284Z",
     "iopub.status.idle": "2022-11-27T03:20:15.383249Z",
     "shell.execute_reply": "2022-11-27T03:20:15.382852Z"
    },
    "papermill": {
     "duration": 0.07755,
     "end_time": "2022-11-27T03:20:15.384226",
     "exception": false,
     "start_time": "2022-11-27T03:20:15.306676",
     "status": "completed"
    },
    "tags": []
   },
   "outputs": [],
   "source": [
    "best_parts = (\n",
    "    consensus_clustering_results[\n",
    "        consensus_clustering_results[\"method\"].str.startswith(\"scc_\")\n",
    "    ]\n",
    "    .groupby(\"k\")\n",
    "    .apply(lambda x: x.sort_values(_measure_col, ascending=False).head(1))\n",
    "    .sort_values(_measure_col, ascending=False)[\n",
    "        [\"method\", \"k\", \"partition\", _measure_col]\n",
    "    ]\n",
    ")"
   ]
  },
  {
   "cell_type": "code",
   "execution_count": 24,
   "id": "156e0fad",
   "metadata": {
    "execution": {
     "iopub.execute_input": "2022-11-27T03:20:15.399355Z",
     "iopub.status.busy": "2022-11-27T03:20:15.399252Z",
     "iopub.status.idle": "2022-11-27T03:20:15.411402Z",
     "shell.execute_reply": "2022-11-27T03:20:15.411022Z"
    },
    "papermill": {
     "duration": 0.020336,
     "end_time": "2022-11-27T03:20:15.412204",
     "exception": false,
     "start_time": "2022-11-27T03:20:15.391868",
     "status": "completed"
    },
    "tags": []
   },
   "outputs": [],
   "source": [
    "best_parts = best_parts.set_index(\"k\")"
   ]
  },
  {
   "cell_type": "code",
   "execution_count": 25,
   "id": "92944fc9",
   "metadata": {
    "execution": {
     "iopub.execute_input": "2022-11-27T03:20:15.427171Z",
     "iopub.status.busy": "2022-11-27T03:20:15.427061Z",
     "iopub.status.idle": "2022-11-27T03:20:15.438937Z",
     "shell.execute_reply": "2022-11-27T03:20:15.438580Z"
    },
    "papermill": {
     "duration": 0.019999,
     "end_time": "2022-11-27T03:20:15.439674",
     "exception": false,
     "start_time": "2022-11-27T03:20:15.419675",
     "status": "completed"
    },
    "tags": []
   },
   "outputs": [
    {
     "data": {
      "text/plain": [
       "(59, 3)"
      ]
     },
     "execution_count": 25,
     "metadata": {},
     "output_type": "execute_result"
    }
   ],
   "source": [
    "best_parts.shape"
   ]
  },
  {
   "cell_type": "code",
   "execution_count": 26,
   "id": "d4b6880f",
   "metadata": {
    "execution": {
     "iopub.execute_input": "2022-11-27T03:20:15.454559Z",
     "iopub.status.busy": "2022-11-27T03:20:15.454470Z",
     "iopub.status.idle": "2022-11-27T03:20:15.492559Z",
     "shell.execute_reply": "2022-11-27T03:20:15.492076Z"
    },
    "papermill": {
     "duration": 0.04634,
     "end_time": "2022-11-27T03:20:15.493382",
     "exception": false,
     "start_time": "2022-11-27T03:20:15.447042",
     "status": "completed"
    },
    "tags": []
   },
   "outputs": [
    {
     "data": {
      "text/html": [
       "<div>\n",
       "<style scoped>\n",
       "    .dataframe tbody tr th:only-of-type {\n",
       "        vertical-align: middle;\n",
       "    }\n",
       "\n",
       "    .dataframe tbody tr th {\n",
       "        vertical-align: top;\n",
       "    }\n",
       "\n",
       "    .dataframe thead th {\n",
       "        text-align: right;\n",
       "    }\n",
       "</style>\n",
       "<table border=\"1\" class=\"dataframe\">\n",
       "  <thead>\n",
       "    <tr style=\"text-align: right;\">\n",
       "      <th></th>\n",
       "      <th>method</th>\n",
       "      <th>partition</th>\n",
       "      <th>ari_median</th>\n",
       "    </tr>\n",
       "    <tr>\n",
       "      <th>k</th>\n",
       "      <th></th>\n",
       "      <th></th>\n",
       "      <th></th>\n",
       "    </tr>\n",
       "  </thead>\n",
       "  <tbody>\n",
       "    <tr>\n",
       "      <th>6</th>\n",
       "      <td>scc_020</td>\n",
       "      <td>[0, 0, 0, 0, 0, 0, 0, 0, 0, 0, 0, 0, 0, 0, 0, ...</td>\n",
       "      <td>0.001353</td>\n",
       "    </tr>\n",
       "    <tr>\n",
       "      <th>5</th>\n",
       "      <td>scc_025</td>\n",
       "      <td>[1, 1, 1, 1, 1, 1, 1, 1, 1, 1, 1, 1, 1, 1, 1, ...</td>\n",
       "      <td>0.001128</td>\n",
       "    </tr>\n",
       "    <tr>\n",
       "      <th>12</th>\n",
       "      <td>scc_020</td>\n",
       "      <td>[0, 0, 0, 0, 0, 0, 0, 0, 0, 0, 0, 0, 0, 0, 0, ...</td>\n",
       "      <td>0.000970</td>\n",
       "    </tr>\n",
       "    <tr>\n",
       "      <th>2</th>\n",
       "      <td>scc_020</td>\n",
       "      <td>[1, 1, 1, 1, 1, 1, 1, 1, 1, 1, 1, 1, 1, 1, 1, ...</td>\n",
       "      <td>0.000833</td>\n",
       "    </tr>\n",
       "    <tr>\n",
       "      <th>13</th>\n",
       "      <td>scc_020</td>\n",
       "      <td>[7, 7, 7, 7, 7, 7, 7, 7, 7, 7, 7, 7, 7, 7, 7, ...</td>\n",
       "      <td>0.000758</td>\n",
       "    </tr>\n",
       "    <tr>\n",
       "      <th>10</th>\n",
       "      <td>scc_050</td>\n",
       "      <td>[5, 5, 5, 5, 5, 5, 5, 5, 5, 5, 5, 5, 5, 5, 5, ...</td>\n",
       "      <td>0.000708</td>\n",
       "    </tr>\n",
       "    <tr>\n",
       "      <th>11</th>\n",
       "      <td>scc_025</td>\n",
       "      <td>[2, 2, 2, 2, 2, 2, 2, 2, 2, 2, 2, 2, 2, 2, 2, ...</td>\n",
       "      <td>0.000707</td>\n",
       "    </tr>\n",
       "    <tr>\n",
       "      <th>14</th>\n",
       "      <td>scc_020</td>\n",
       "      <td>[5, 5, 5, 5, 5, 5, 5, 5, 5, 5, 5, 5, 5, 5, 5, ...</td>\n",
       "      <td>0.000669</td>\n",
       "    </tr>\n",
       "    <tr>\n",
       "      <th>39</th>\n",
       "      <td>scc_050</td>\n",
       "      <td>[5, 5, 5, 5, 5, 5, 5, 5, 5, 5, 5, 5, 5, 5, 5, ...</td>\n",
       "      <td>0.000640</td>\n",
       "    </tr>\n",
       "    <tr>\n",
       "      <th>15</th>\n",
       "      <td>scc_020</td>\n",
       "      <td>[1, 1, 1, 1, 1, 1, 1, 1, 1, 1, 1, 1, 1, 1, 1, ...</td>\n",
       "      <td>0.000629</td>\n",
       "    </tr>\n",
       "  </tbody>\n",
       "</table>\n",
       "</div>"
      ],
      "text/plain": [
       "     method                                          partition  ari_median\n",
       "k                                                                         \n",
       "6   scc_020  [0, 0, 0, 0, 0, 0, 0, 0, 0, 0, 0, 0, 0, 0, 0, ...    0.001353\n",
       "5   scc_025  [1, 1, 1, 1, 1, 1, 1, 1, 1, 1, 1, 1, 1, 1, 1, ...    0.001128\n",
       "12  scc_020  [0, 0, 0, 0, 0, 0, 0, 0, 0, 0, 0, 0, 0, 0, 0, ...    0.000970\n",
       "2   scc_020  [1, 1, 1, 1, 1, 1, 1, 1, 1, 1, 1, 1, 1, 1, 1, ...    0.000833\n",
       "13  scc_020  [7, 7, 7, 7, 7, 7, 7, 7, 7, 7, 7, 7, 7, 7, 7, ...    0.000758\n",
       "10  scc_050  [5, 5, 5, 5, 5, 5, 5, 5, 5, 5, 5, 5, 5, 5, 5, ...    0.000708\n",
       "11  scc_025  [2, 2, 2, 2, 2, 2, 2, 2, 2, 2, 2, 2, 2, 2, 2, ...    0.000707\n",
       "14  scc_020  [5, 5, 5, 5, 5, 5, 5, 5, 5, 5, 5, 5, 5, 5, 5, ...    0.000669\n",
       "39  scc_050  [5, 5, 5, 5, 5, 5, 5, 5, 5, 5, 5, 5, 5, 5, 5, ...    0.000640\n",
       "15  scc_020  [1, 1, 1, 1, 1, 1, 1, 1, 1, 1, 1, 1, 1, 1, 1, ...    0.000629"
      ]
     },
     "execution_count": 26,
     "metadata": {},
     "output_type": "execute_result"
    }
   ],
   "source": [
    "# show partitions with top values\n",
    "best_parts.head(10)"
   ]
  },
  {
   "cell_type": "code",
   "execution_count": 27,
   "id": "3c3fe720",
   "metadata": {
    "execution": {
     "iopub.execute_input": "2022-11-27T03:20:15.515831Z",
     "iopub.status.busy": "2022-11-27T03:20:15.515644Z",
     "iopub.status.idle": "2022-11-27T03:20:15.605979Z",
     "shell.execute_reply": "2022-11-27T03:20:15.605611Z"
    },
    "papermill": {
     "duration": 0.102911,
     "end_time": "2022-11-27T03:20:15.607224",
     "exception": false,
     "start_time": "2022-11-27T03:20:15.504313",
     "status": "completed"
    },
    "tags": []
   },
   "outputs": [
    {
     "data": {
      "text/html": [
       "<div>\n",
       "<style scoped>\n",
       "    .dataframe tbody tr th:only-of-type {\n",
       "        vertical-align: middle;\n",
       "    }\n",
       "\n",
       "    .dataframe tbody tr th {\n",
       "        vertical-align: top;\n",
       "    }\n",
       "\n",
       "    .dataframe thead th {\n",
       "        text-align: right;\n",
       "    }\n",
       "</style>\n",
       "<table border=\"1\" class=\"dataframe\">\n",
       "  <thead>\n",
       "    <tr style=\"text-align: right;\">\n",
       "      <th></th>\n",
       "      <th>method</th>\n",
       "      <th>partition</th>\n",
       "      <th>ari_median</th>\n",
       "    </tr>\n",
       "    <tr>\n",
       "      <th>k</th>\n",
       "      <th></th>\n",
       "      <th></th>\n",
       "      <th></th>\n",
       "    </tr>\n",
       "  </thead>\n",
       "  <tbody>\n",
       "    <tr>\n",
       "      <th>2</th>\n",
       "      <td>scc_020</td>\n",
       "      <td>[1, 1, 1, 1, 1, 1, 1, 1, 1, 1, 1, 1, 1, 1, 1, ...</td>\n",
       "      <td>0.000833</td>\n",
       "    </tr>\n",
       "    <tr>\n",
       "      <th>3</th>\n",
       "      <td>scc_030</td>\n",
       "      <td>[1, 1, 1, 1, 1, 1, 1, 1, 1, 1, 1, 1, 1, 1, 1, ...</td>\n",
       "      <td>0.000073</td>\n",
       "    </tr>\n",
       "    <tr>\n",
       "      <th>4</th>\n",
       "      <td>scc_050</td>\n",
       "      <td>[2, 2, 2, 2, 2, 2, 2, 2, 2, 2, 2, 2, 2, 2, 2, ...</td>\n",
       "      <td>0.000165</td>\n",
       "    </tr>\n",
       "    <tr>\n",
       "      <th>5</th>\n",
       "      <td>scc_025</td>\n",
       "      <td>[1, 1, 1, 1, 1, 1, 1, 1, 1, 1, 1, 1, 1, 1, 1, ...</td>\n",
       "      <td>0.001128</td>\n",
       "    </tr>\n",
       "    <tr>\n",
       "      <th>6</th>\n",
       "      <td>scc_020</td>\n",
       "      <td>[0, 0, 0, 0, 0, 0, 0, 0, 0, 0, 0, 0, 0, 0, 0, ...</td>\n",
       "      <td>0.001353</td>\n",
       "    </tr>\n",
       "    <tr>\n",
       "      <th>7</th>\n",
       "      <td>scc_020</td>\n",
       "      <td>[1, 1, 1, 1, 1, 1, 1, 1, 1, 1, 1, 1, 1, 1, 1, ...</td>\n",
       "      <td>0.000439</td>\n",
       "    </tr>\n",
       "    <tr>\n",
       "      <th>8</th>\n",
       "      <td>scc_020</td>\n",
       "      <td>[4, 4, 4, 4, 4, 4, 4, 4, 4, 4, 4, 4, 4, 4, 4, ...</td>\n",
       "      <td>0.000450</td>\n",
       "    </tr>\n",
       "    <tr>\n",
       "      <th>9</th>\n",
       "      <td>scc_025</td>\n",
       "      <td>[4, 4, 4, 4, 4, 4, 4, 4, 4, 4, 4, 4, 4, 4, 4, ...</td>\n",
       "      <td>0.000463</td>\n",
       "    </tr>\n",
       "    <tr>\n",
       "      <th>10</th>\n",
       "      <td>scc_050</td>\n",
       "      <td>[5, 5, 5, 5, 5, 5, 5, 5, 5, 5, 5, 5, 5, 5, 5, ...</td>\n",
       "      <td>0.000708</td>\n",
       "    </tr>\n",
       "    <tr>\n",
       "      <th>11</th>\n",
       "      <td>scc_025</td>\n",
       "      <td>[2, 2, 2, 2, 2, 2, 2, 2, 2, 2, 2, 2, 2, 2, 2, ...</td>\n",
       "      <td>0.000707</td>\n",
       "    </tr>\n",
       "    <tr>\n",
       "      <th>12</th>\n",
       "      <td>scc_020</td>\n",
       "      <td>[0, 0, 0, 0, 0, 0, 0, 0, 0, 0, 0, 0, 0, 0, 0, ...</td>\n",
       "      <td>0.000970</td>\n",
       "    </tr>\n",
       "    <tr>\n",
       "      <th>13</th>\n",
       "      <td>scc_020</td>\n",
       "      <td>[7, 7, 7, 7, 7, 7, 7, 7, 7, 7, 7, 7, 7, 7, 7, ...</td>\n",
       "      <td>0.000758</td>\n",
       "    </tr>\n",
       "    <tr>\n",
       "      <th>14</th>\n",
       "      <td>scc_020</td>\n",
       "      <td>[5, 5, 5, 5, 5, 5, 5, 5, 5, 5, 5, 5, 5, 5, 5, ...</td>\n",
       "      <td>0.000669</td>\n",
       "    </tr>\n",
       "    <tr>\n",
       "      <th>15</th>\n",
       "      <td>scc_020</td>\n",
       "      <td>[1, 1, 1, 1, 1, 1, 1, 1, 1, 1, 1, 1, 1, 1, 1, ...</td>\n",
       "      <td>0.000629</td>\n",
       "    </tr>\n",
       "    <tr>\n",
       "      <th>16</th>\n",
       "      <td>scc_020</td>\n",
       "      <td>[7, 7, 7, 7, 7, 7, 7, 7, 7, 7, 7, 7, 7, 7, 7, ...</td>\n",
       "      <td>0.000612</td>\n",
       "    </tr>\n",
       "    <tr>\n",
       "      <th>17</th>\n",
       "      <td>scc_020</td>\n",
       "      <td>[16, 16, 16, 16, 16, 16, 16, 16, 16, 16, 16, 1...</td>\n",
       "      <td>0.000595</td>\n",
       "    </tr>\n",
       "    <tr>\n",
       "      <th>18</th>\n",
       "      <td>scc_020</td>\n",
       "      <td>[13, 13, 13, 13, 13, 13, 13, 13, 13, 13, 13, 1...</td>\n",
       "      <td>0.000550</td>\n",
       "    </tr>\n",
       "    <tr>\n",
       "      <th>19</th>\n",
       "      <td>scc_020</td>\n",
       "      <td>[3, 3, 3, 3, 3, 3, 3, 3, 3, 3, 3, 3, 3, 3, 3, ...</td>\n",
       "      <td>0.000519</td>\n",
       "    </tr>\n",
       "    <tr>\n",
       "      <th>20</th>\n",
       "      <td>scc_020</td>\n",
       "      <td>[16, 16, 16, 16, 16, 16, 16, 16, 16, 16, 16, 1...</td>\n",
       "      <td>0.000494</td>\n",
       "    </tr>\n",
       "    <tr>\n",
       "      <th>21</th>\n",
       "      <td>scc_020</td>\n",
       "      <td>[20, 20, 20, 20, 20, 20, 20, 20, 20, 20, 20, 2...</td>\n",
       "      <td>0.000438</td>\n",
       "    </tr>\n",
       "    <tr>\n",
       "      <th>22</th>\n",
       "      <td>scc_020</td>\n",
       "      <td>[17, 17, 17, 17, 17, 17, 17, 17, 17, 17, 17, 1...</td>\n",
       "      <td>0.000381</td>\n",
       "    </tr>\n",
       "    <tr>\n",
       "      <th>23</th>\n",
       "      <td>scc_020</td>\n",
       "      <td>[17, 17, 17, 17, 17, 17, 17, 17, 17, 17, 17, 1...</td>\n",
       "      <td>0.000436</td>\n",
       "    </tr>\n",
       "    <tr>\n",
       "      <th>24</th>\n",
       "      <td>scc_020</td>\n",
       "      <td>[16, 16, 16, 16, 16, 16, 16, 16, 16, 16, 16, 1...</td>\n",
       "      <td>0.000466</td>\n",
       "    </tr>\n",
       "    <tr>\n",
       "      <th>25</th>\n",
       "      <td>scc_020</td>\n",
       "      <td>[15, 15, 15, 15, 15, 15, 15, 15, 15, 15, 15, 1...</td>\n",
       "      <td>0.000418</td>\n",
       "    </tr>\n",
       "    <tr>\n",
       "      <th>26</th>\n",
       "      <td>scc_025</td>\n",
       "      <td>[21, 21, 21, 21, 21, 21, 21, 21, 21, 21, 21, 2...</td>\n",
       "      <td>0.000429</td>\n",
       "    </tr>\n",
       "    <tr>\n",
       "      <th>27</th>\n",
       "      <td>scc_030</td>\n",
       "      <td>[17, 17, 17, 17, 17, 17, 17, 17, 17, 17, 17, 1...</td>\n",
       "      <td>0.000425</td>\n",
       "    </tr>\n",
       "    <tr>\n",
       "      <th>28</th>\n",
       "      <td>scc_025</td>\n",
       "      <td>[18, 18, 18, 18, 18, 18, 18, 18, 18, 18, 18, 1...</td>\n",
       "      <td>0.000433</td>\n",
       "    </tr>\n",
       "    <tr>\n",
       "      <th>29</th>\n",
       "      <td>scc_020</td>\n",
       "      <td>[13, 13, 13, 13, 13, 13, 13, 13, 13, 13, 13, 1...</td>\n",
       "      <td>0.000404</td>\n",
       "    </tr>\n",
       "    <tr>\n",
       "      <th>30</th>\n",
       "      <td>scc_025</td>\n",
       "      <td>[13, 13, 13, 13, 13, 13, 13, 13, 13, 13, 13, 1...</td>\n",
       "      <td>0.000428</td>\n",
       "    </tr>\n",
       "    <tr>\n",
       "      <th>31</th>\n",
       "      <td>scc_020</td>\n",
       "      <td>[17, 17, 17, 17, 17, 17, 17, 17, 17, 17, 17, 1...</td>\n",
       "      <td>0.000437</td>\n",
       "    </tr>\n",
       "    <tr>\n",
       "      <th>32</th>\n",
       "      <td>scc_025</td>\n",
       "      <td>[19, 19, 19, 19, 19, 19, 19, 19, 19, 19, 19, 1...</td>\n",
       "      <td>0.000556</td>\n",
       "    </tr>\n",
       "    <tr>\n",
       "      <th>33</th>\n",
       "      <td>scc_025</td>\n",
       "      <td>[20, 20, 20, 20, 20, 20, 20, 20, 20, 20, 20, 2...</td>\n",
       "      <td>0.000524</td>\n",
       "    </tr>\n",
       "    <tr>\n",
       "      <th>34</th>\n",
       "      <td>scc_020</td>\n",
       "      <td>[15, 15, 15, 15, 15, 15, 15, 15, 15, 15, 15, 1...</td>\n",
       "      <td>0.000513</td>\n",
       "    </tr>\n",
       "    <tr>\n",
       "      <th>35</th>\n",
       "      <td>scc_020</td>\n",
       "      <td>[16, 16, 16, 16, 16, 16, 16, 16, 16, 16, 16, 1...</td>\n",
       "      <td>0.000517</td>\n",
       "    </tr>\n",
       "    <tr>\n",
       "      <th>36</th>\n",
       "      <td>scc_025</td>\n",
       "      <td>[5, 5, 5, 5, 5, 5, 5, 5, 5, 5, 5, 5, 5, 5, 5, ...</td>\n",
       "      <td>0.000525</td>\n",
       "    </tr>\n",
       "    <tr>\n",
       "      <th>37</th>\n",
       "      <td>scc_050</td>\n",
       "      <td>[14, 14, 14, 14, 14, 14, 14, 14, 14, 14, 14, 1...</td>\n",
       "      <td>0.000577</td>\n",
       "    </tr>\n",
       "    <tr>\n",
       "      <th>38</th>\n",
       "      <td>scc_050</td>\n",
       "      <td>[21, 21, 21, 21, 21, 21, 21, 21, 21, 21, 21, 2...</td>\n",
       "      <td>0.000527</td>\n",
       "    </tr>\n",
       "    <tr>\n",
       "      <th>39</th>\n",
       "      <td>scc_050</td>\n",
       "      <td>[5, 5, 5, 5, 5, 5, 5, 5, 5, 5, 5, 5, 5, 5, 5, ...</td>\n",
       "      <td>0.000640</td>\n",
       "    </tr>\n",
       "    <tr>\n",
       "      <th>40</th>\n",
       "      <td>scc_050</td>\n",
       "      <td>[21, 21, 21, 21, 21, 21, 21, 21, 21, 21, 21, 2...</td>\n",
       "      <td>0.000535</td>\n",
       "    </tr>\n",
       "    <tr>\n",
       "      <th>41</th>\n",
       "      <td>scc_050</td>\n",
       "      <td>[19, 19, 19, 19, 19, 19, 19, 19, 19, 19, 19, 1...</td>\n",
       "      <td>0.000518</td>\n",
       "    </tr>\n",
       "    <tr>\n",
       "      <th>42</th>\n",
       "      <td>scc_050</td>\n",
       "      <td>[18, 18, 18, 18, 18, 18, 18, 18, 18, 18, 18, 1...</td>\n",
       "      <td>0.000530</td>\n",
       "    </tr>\n",
       "    <tr>\n",
       "      <th>43</th>\n",
       "      <td>scc_050</td>\n",
       "      <td>[11, 11, 11, 11, 11, 11, 11, 11, 11, 11, 11, 1...</td>\n",
       "      <td>0.000529</td>\n",
       "    </tr>\n",
       "    <tr>\n",
       "      <th>44</th>\n",
       "      <td>scc_050</td>\n",
       "      <td>[2, 2, 2, 2, 2, 2, 2, 2, 2, 2, 2, 2, 2, 2, 2, ...</td>\n",
       "      <td>0.000574</td>\n",
       "    </tr>\n",
       "    <tr>\n",
       "      <th>45</th>\n",
       "      <td>scc_050</td>\n",
       "      <td>[11, 11, 11, 11, 11, 11, 11, 11, 11, 11, 11, 1...</td>\n",
       "      <td>0.000535</td>\n",
       "    </tr>\n",
       "    <tr>\n",
       "      <th>46</th>\n",
       "      <td>scc_030</td>\n",
       "      <td>[13, 13, 13, 13, 13, 13, 13, 13, 13, 13, 13, 1...</td>\n",
       "      <td>0.000515</td>\n",
       "    </tr>\n",
       "    <tr>\n",
       "      <th>47</th>\n",
       "      <td>scc_025</td>\n",
       "      <td>[5, 5, 5, 5, 5, 5, 5, 5, 5, 5, 5, 5, 5, 5, 5, ...</td>\n",
       "      <td>0.000550</td>\n",
       "    </tr>\n",
       "    <tr>\n",
       "      <th>48</th>\n",
       "      <td>scc_050</td>\n",
       "      <td>[24, 24, 24, 24, 24, 24, 24, 24, 24, 24, 24, 2...</td>\n",
       "      <td>0.000544</td>\n",
       "    </tr>\n",
       "    <tr>\n",
       "      <th>49</th>\n",
       "      <td>scc_050</td>\n",
       "      <td>[8, 8, 8, 8, 8, 8, 8, 8, 8, 8, 8, 8, 8, 8, 8, ...</td>\n",
       "      <td>0.000536</td>\n",
       "    </tr>\n",
       "    <tr>\n",
       "      <th>50</th>\n",
       "      <td>scc_050</td>\n",
       "      <td>[11, 11, 11, 11, 11, 11, 11, 11, 11, 11, 11, 1...</td>\n",
       "      <td>0.000507</td>\n",
       "    </tr>\n",
       "    <tr>\n",
       "      <th>51</th>\n",
       "      <td>scc_050</td>\n",
       "      <td>[5, 5, 5, 5, 5, 5, 5, 5, 5, 5, 5, 5, 5, 5, 5, ...</td>\n",
       "      <td>0.000516</td>\n",
       "    </tr>\n",
       "    <tr>\n",
       "      <th>52</th>\n",
       "      <td>scc_050</td>\n",
       "      <td>[5, 5, 0, 0, 5, 0, 5, 5, 0, 0, 5, 5, 5, 0, 5, ...</td>\n",
       "      <td>0.000525</td>\n",
       "    </tr>\n",
       "    <tr>\n",
       "      <th>53</th>\n",
       "      <td>scc_030</td>\n",
       "      <td>[5, 5, 5, 5, 5, 5, 5, 5, 5, 5, 5, 5, 5, 5, 5, ...</td>\n",
       "      <td>0.000506</td>\n",
       "    </tr>\n",
       "    <tr>\n",
       "      <th>54</th>\n",
       "      <td>scc_050</td>\n",
       "      <td>[0, 0, 0, 0, 0, 0, 0, 0, 0, 0, 0, 0, 0, 0, 0, ...</td>\n",
       "      <td>0.000491</td>\n",
       "    </tr>\n",
       "    <tr>\n",
       "      <th>55</th>\n",
       "      <td>scc_050</td>\n",
       "      <td>[6, 6, 6, 6, 6, 6, 6, 6, 6, 6, 6, 6, 6, 6, 6, ...</td>\n",
       "      <td>0.000490</td>\n",
       "    </tr>\n",
       "    <tr>\n",
       "      <th>56</th>\n",
       "      <td>scc_050</td>\n",
       "      <td>[15, 15, 15, 15, 15, 15, 15, 15, 15, 15, 15, 1...</td>\n",
       "      <td>0.000473</td>\n",
       "    </tr>\n",
       "    <tr>\n",
       "      <th>57</th>\n",
       "      <td>scc_050</td>\n",
       "      <td>[27, 27, 27, 27, 27, 27, 27, 27, 27, 27, 27, 2...</td>\n",
       "      <td>0.000474</td>\n",
       "    </tr>\n",
       "    <tr>\n",
       "      <th>58</th>\n",
       "      <td>scc_050</td>\n",
       "      <td>[10, 10, 10, 10, 10, 10, 10, 10, 10, 10, 10, 1...</td>\n",
       "      <td>0.000457</td>\n",
       "    </tr>\n",
       "    <tr>\n",
       "      <th>59</th>\n",
       "      <td>scc_050</td>\n",
       "      <td>[12, 12, 12, 12, 12, 12, 12, 12, 12, 12, 12, 1...</td>\n",
       "      <td>0.000458</td>\n",
       "    </tr>\n",
       "    <tr>\n",
       "      <th>60</th>\n",
       "      <td>scc_050</td>\n",
       "      <td>[8, 8, 8, 8, 8, 8, 8, 8, 8, 8, 8, 8, 8, 8, 8, ...</td>\n",
       "      <td>0.000450</td>\n",
       "    </tr>\n",
       "  </tbody>\n",
       "</table>\n",
       "</div>"
      ],
      "text/plain": [
       "     method                                          partition  ari_median\n",
       "k                                                                         \n",
       "2   scc_020  [1, 1, 1, 1, 1, 1, 1, 1, 1, 1, 1, 1, 1, 1, 1, ...    0.000833\n",
       "3   scc_030  [1, 1, 1, 1, 1, 1, 1, 1, 1, 1, 1, 1, 1, 1, 1, ...    0.000073\n",
       "4   scc_050  [2, 2, 2, 2, 2, 2, 2, 2, 2, 2, 2, 2, 2, 2, 2, ...    0.000165\n",
       "5   scc_025  [1, 1, 1, 1, 1, 1, 1, 1, 1, 1, 1, 1, 1, 1, 1, ...    0.001128\n",
       "6   scc_020  [0, 0, 0, 0, 0, 0, 0, 0, 0, 0, 0, 0, 0, 0, 0, ...    0.001353\n",
       "7   scc_020  [1, 1, 1, 1, 1, 1, 1, 1, 1, 1, 1, 1, 1, 1, 1, ...    0.000439\n",
       "8   scc_020  [4, 4, 4, 4, 4, 4, 4, 4, 4, 4, 4, 4, 4, 4, 4, ...    0.000450\n",
       "9   scc_025  [4, 4, 4, 4, 4, 4, 4, 4, 4, 4, 4, 4, 4, 4, 4, ...    0.000463\n",
       "10  scc_050  [5, 5, 5, 5, 5, 5, 5, 5, 5, 5, 5, 5, 5, 5, 5, ...    0.000708\n",
       "11  scc_025  [2, 2, 2, 2, 2, 2, 2, 2, 2, 2, 2, 2, 2, 2, 2, ...    0.000707\n",
       "12  scc_020  [0, 0, 0, 0, 0, 0, 0, 0, 0, 0, 0, 0, 0, 0, 0, ...    0.000970\n",
       "13  scc_020  [7, 7, 7, 7, 7, 7, 7, 7, 7, 7, 7, 7, 7, 7, 7, ...    0.000758\n",
       "14  scc_020  [5, 5, 5, 5, 5, 5, 5, 5, 5, 5, 5, 5, 5, 5, 5, ...    0.000669\n",
       "15  scc_020  [1, 1, 1, 1, 1, 1, 1, 1, 1, 1, 1, 1, 1, 1, 1, ...    0.000629\n",
       "16  scc_020  [7, 7, 7, 7, 7, 7, 7, 7, 7, 7, 7, 7, 7, 7, 7, ...    0.000612\n",
       "17  scc_020  [16, 16, 16, 16, 16, 16, 16, 16, 16, 16, 16, 1...    0.000595\n",
       "18  scc_020  [13, 13, 13, 13, 13, 13, 13, 13, 13, 13, 13, 1...    0.000550\n",
       "19  scc_020  [3, 3, 3, 3, 3, 3, 3, 3, 3, 3, 3, 3, 3, 3, 3, ...    0.000519\n",
       "20  scc_020  [16, 16, 16, 16, 16, 16, 16, 16, 16, 16, 16, 1...    0.000494\n",
       "21  scc_020  [20, 20, 20, 20, 20, 20, 20, 20, 20, 20, 20, 2...    0.000438\n",
       "22  scc_020  [17, 17, 17, 17, 17, 17, 17, 17, 17, 17, 17, 1...    0.000381\n",
       "23  scc_020  [17, 17, 17, 17, 17, 17, 17, 17, 17, 17, 17, 1...    0.000436\n",
       "24  scc_020  [16, 16, 16, 16, 16, 16, 16, 16, 16, 16, 16, 1...    0.000466\n",
       "25  scc_020  [15, 15, 15, 15, 15, 15, 15, 15, 15, 15, 15, 1...    0.000418\n",
       "26  scc_025  [21, 21, 21, 21, 21, 21, 21, 21, 21, 21, 21, 2...    0.000429\n",
       "27  scc_030  [17, 17, 17, 17, 17, 17, 17, 17, 17, 17, 17, 1...    0.000425\n",
       "28  scc_025  [18, 18, 18, 18, 18, 18, 18, 18, 18, 18, 18, 1...    0.000433\n",
       "29  scc_020  [13, 13, 13, 13, 13, 13, 13, 13, 13, 13, 13, 1...    0.000404\n",
       "30  scc_025  [13, 13, 13, 13, 13, 13, 13, 13, 13, 13, 13, 1...    0.000428\n",
       "31  scc_020  [17, 17, 17, 17, 17, 17, 17, 17, 17, 17, 17, 1...    0.000437\n",
       "32  scc_025  [19, 19, 19, 19, 19, 19, 19, 19, 19, 19, 19, 1...    0.000556\n",
       "33  scc_025  [20, 20, 20, 20, 20, 20, 20, 20, 20, 20, 20, 2...    0.000524\n",
       "34  scc_020  [15, 15, 15, 15, 15, 15, 15, 15, 15, 15, 15, 1...    0.000513\n",
       "35  scc_020  [16, 16, 16, 16, 16, 16, 16, 16, 16, 16, 16, 1...    0.000517\n",
       "36  scc_025  [5, 5, 5, 5, 5, 5, 5, 5, 5, 5, 5, 5, 5, 5, 5, ...    0.000525\n",
       "37  scc_050  [14, 14, 14, 14, 14, 14, 14, 14, 14, 14, 14, 1...    0.000577\n",
       "38  scc_050  [21, 21, 21, 21, 21, 21, 21, 21, 21, 21, 21, 2...    0.000527\n",
       "39  scc_050  [5, 5, 5, 5, 5, 5, 5, 5, 5, 5, 5, 5, 5, 5, 5, ...    0.000640\n",
       "40  scc_050  [21, 21, 21, 21, 21, 21, 21, 21, 21, 21, 21, 2...    0.000535\n",
       "41  scc_050  [19, 19, 19, 19, 19, 19, 19, 19, 19, 19, 19, 1...    0.000518\n",
       "42  scc_050  [18, 18, 18, 18, 18, 18, 18, 18, 18, 18, 18, 1...    0.000530\n",
       "43  scc_050  [11, 11, 11, 11, 11, 11, 11, 11, 11, 11, 11, 1...    0.000529\n",
       "44  scc_050  [2, 2, 2, 2, 2, 2, 2, 2, 2, 2, 2, 2, 2, 2, 2, ...    0.000574\n",
       "45  scc_050  [11, 11, 11, 11, 11, 11, 11, 11, 11, 11, 11, 1...    0.000535\n",
       "46  scc_030  [13, 13, 13, 13, 13, 13, 13, 13, 13, 13, 13, 1...    0.000515\n",
       "47  scc_025  [5, 5, 5, 5, 5, 5, 5, 5, 5, 5, 5, 5, 5, 5, 5, ...    0.000550\n",
       "48  scc_050  [24, 24, 24, 24, 24, 24, 24, 24, 24, 24, 24, 2...    0.000544\n",
       "49  scc_050  [8, 8, 8, 8, 8, 8, 8, 8, 8, 8, 8, 8, 8, 8, 8, ...    0.000536\n",
       "50  scc_050  [11, 11, 11, 11, 11, 11, 11, 11, 11, 11, 11, 1...    0.000507\n",
       "51  scc_050  [5, 5, 5, 5, 5, 5, 5, 5, 5, 5, 5, 5, 5, 5, 5, ...    0.000516\n",
       "52  scc_050  [5, 5, 0, 0, 5, 0, 5, 5, 0, 0, 5, 5, 5, 0, 5, ...    0.000525\n",
       "53  scc_030  [5, 5, 5, 5, 5, 5, 5, 5, 5, 5, 5, 5, 5, 5, 5, ...    0.000506\n",
       "54  scc_050  [0, 0, 0, 0, 0, 0, 0, 0, 0, 0, 0, 0, 0, 0, 0, ...    0.000491\n",
       "55  scc_050  [6, 6, 6, 6, 6, 6, 6, 6, 6, 6, 6, 6, 6, 6, 6, ...    0.000490\n",
       "56  scc_050  [15, 15, 15, 15, 15, 15, 15, 15, 15, 15, 15, 1...    0.000473\n",
       "57  scc_050  [27, 27, 27, 27, 27, 27, 27, 27, 27, 27, 27, 2...    0.000474\n",
       "58  scc_050  [10, 10, 10, 10, 10, 10, 10, 10, 10, 10, 10, 1...    0.000457\n",
       "59  scc_050  [12, 12, 12, 12, 12, 12, 12, 12, 12, 12, 12, 1...    0.000458\n",
       "60  scc_050  [8, 8, 8, 8, 8, 8, 8, 8, 8, 8, 8, 8, 8, 8, 8, ...    0.000450"
      ]
     },
     "execution_count": 27,
     "metadata": {},
     "output_type": "execute_result"
    }
   ],
   "source": [
    "best_parts.sort_values(\"k\")"
   ]
  },
  {
   "cell_type": "markdown",
   "id": "0f126fac",
   "metadata": {
    "papermill": {
     "duration": 0.014784,
     "end_time": "2022-11-27T03:20:15.637349",
     "exception": false,
     "start_time": "2022-11-27T03:20:15.622565",
     "status": "completed"
    },
    "tags": []
   },
   "source": [
    "## Select partitions with highest agreement"
   ]
  },
  {
   "cell_type": "markdown",
   "id": "76158b88",
   "metadata": {
    "papermill": {
     "duration": 0.014665,
     "end_time": "2022-11-27T03:20:15.666897",
     "exception": false,
     "start_time": "2022-11-27T03:20:15.652232",
     "status": "completed"
    },
    "tags": []
   },
   "source": [
    "We do not expect all partitions with different `k` to be good ones. Thus, here I select the partitions with an ensemble agreement that pass a relative high threshold (75th percentile)."
   ]
  },
  {
   "cell_type": "code",
   "execution_count": 28,
   "id": "85412401",
   "metadata": {
    "execution": {
     "iopub.execute_input": "2022-11-27T03:20:15.691281Z",
     "iopub.status.busy": "2022-11-27T03:20:15.691113Z",
     "iopub.status.idle": "2022-11-27T03:20:15.705045Z",
     "shell.execute_reply": "2022-11-27T03:20:15.704681Z"
    },
    "papermill": {
     "duration": 0.023954,
     "end_time": "2022-11-27T03:20:15.705746",
     "exception": false,
     "start_time": "2022-11-27T03:20:15.681792",
     "status": "completed"
    },
    "tags": []
   },
   "outputs": [
    {
     "data": {
      "text/plain": [
       "count    59.000000\n",
       "mean      0.000541\n",
       "std       0.000186\n",
       "min       0.000073\n",
       "25%       0.000454\n",
       "50%       0.000517\n",
       "75%       0.000553\n",
       "max       0.001353\n",
       "Name: ari_median, dtype: float64"
      ]
     },
     "metadata": {},
     "output_type": "display_data"
    }
   ],
   "source": [
    "best_parts_stats = best_parts[_measure_col].describe()\n",
    "display(best_parts_stats)"
   ]
  },
  {
   "cell_type": "code",
   "execution_count": 29,
   "id": "63ee5ba4",
   "metadata": {
    "execution": {
     "iopub.execute_input": "2022-11-27T03:20:15.722599Z",
     "iopub.status.busy": "2022-11-27T03:20:15.722163Z",
     "iopub.status.idle": "2022-11-27T03:20:15.743767Z",
     "shell.execute_reply": "2022-11-27T03:20:15.743295Z"
    },
    "papermill": {
     "duration": 0.030942,
     "end_time": "2022-11-27T03:20:15.744579",
     "exception": false,
     "start_time": "2022-11-27T03:20:15.713637",
     "status": "completed"
    },
    "tags": []
   },
   "outputs": [
    {
     "data": {
      "text/plain": [
       "0.0005530366490891596"
      ]
     },
     "metadata": {},
     "output_type": "display_data"
    }
   ],
   "source": [
    "best_threshold = best_parts_stats[\"75%\"]\n",
    "best_threshold_description = \"75th percentile\"\n",
    "display(best_threshold)\n",
    "\n",
    "best_parts = best_parts.assign(\n",
    "    selected=best_parts[_measure_col].apply(lambda x: x >= best_threshold)\n",
    ")"
   ]
  },
  {
   "cell_type": "code",
   "execution_count": 30,
   "id": "b4a7cc09",
   "metadata": {
    "execution": {
     "iopub.execute_input": "2022-11-27T03:20:15.761359Z",
     "iopub.status.busy": "2022-11-27T03:20:15.760872Z",
     "iopub.status.idle": "2022-11-27T03:20:15.782623Z",
     "shell.execute_reply": "2022-11-27T03:20:15.782119Z"
    },
    "papermill": {
     "duration": 0.031037,
     "end_time": "2022-11-27T03:20:15.783685",
     "exception": false,
     "start_time": "2022-11-27T03:20:15.752648",
     "status": "completed"
    },
    "tags": []
   },
   "outputs": [
    {
     "data": {
      "text/plain": [
       "(59, 4)"
      ]
     },
     "execution_count": 30,
     "metadata": {},
     "output_type": "execute_result"
    }
   ],
   "source": [
    "best_parts.shape"
   ]
  },
  {
   "cell_type": "code",
   "execution_count": 31,
   "id": "b55298ec",
   "metadata": {
    "execution": {
     "iopub.execute_input": "2022-11-27T03:20:15.802558Z",
     "iopub.status.busy": "2022-11-27T03:20:15.802185Z",
     "iopub.status.idle": "2022-11-27T03:20:15.834637Z",
     "shell.execute_reply": "2022-11-27T03:20:15.834165Z"
    },
    "papermill": {
     "duration": 0.04174,
     "end_time": "2022-11-27T03:20:15.835456",
     "exception": false,
     "start_time": "2022-11-27T03:20:15.793716",
     "status": "completed"
    },
    "tags": []
   },
   "outputs": [
    {
     "data": {
      "text/html": [
       "<div>\n",
       "<style scoped>\n",
       "    .dataframe tbody tr th:only-of-type {\n",
       "        vertical-align: middle;\n",
       "    }\n",
       "\n",
       "    .dataframe tbody tr th {\n",
       "        vertical-align: top;\n",
       "    }\n",
       "\n",
       "    .dataframe thead th {\n",
       "        text-align: right;\n",
       "    }\n",
       "</style>\n",
       "<table border=\"1\" class=\"dataframe\">\n",
       "  <thead>\n",
       "    <tr style=\"text-align: right;\">\n",
       "      <th></th>\n",
       "      <th>method</th>\n",
       "      <th>partition</th>\n",
       "      <th>ari_median</th>\n",
       "      <th>selected</th>\n",
       "    </tr>\n",
       "    <tr>\n",
       "      <th>k</th>\n",
       "      <th></th>\n",
       "      <th></th>\n",
       "      <th></th>\n",
       "      <th></th>\n",
       "    </tr>\n",
       "  </thead>\n",
       "  <tbody>\n",
       "    <tr>\n",
       "      <th>6</th>\n",
       "      <td>scc_020</td>\n",
       "      <td>[0, 0, 0, 0, 0, 0, 0, 0, 0, 0, 0, 0, 0, 0, 0, ...</td>\n",
       "      <td>0.001353</td>\n",
       "      <td>True</td>\n",
       "    </tr>\n",
       "    <tr>\n",
       "      <th>5</th>\n",
       "      <td>scc_025</td>\n",
       "      <td>[1, 1, 1, 1, 1, 1, 1, 1, 1, 1, 1, 1, 1, 1, 1, ...</td>\n",
       "      <td>0.001128</td>\n",
       "      <td>True</td>\n",
       "    </tr>\n",
       "    <tr>\n",
       "      <th>12</th>\n",
       "      <td>scc_020</td>\n",
       "      <td>[0, 0, 0, 0, 0, 0, 0, 0, 0, 0, 0, 0, 0, 0, 0, ...</td>\n",
       "      <td>0.000970</td>\n",
       "      <td>True</td>\n",
       "    </tr>\n",
       "    <tr>\n",
       "      <th>2</th>\n",
       "      <td>scc_020</td>\n",
       "      <td>[1, 1, 1, 1, 1, 1, 1, 1, 1, 1, 1, 1, 1, 1, 1, ...</td>\n",
       "      <td>0.000833</td>\n",
       "      <td>True</td>\n",
       "    </tr>\n",
       "    <tr>\n",
       "      <th>13</th>\n",
       "      <td>scc_020</td>\n",
       "      <td>[7, 7, 7, 7, 7, 7, 7, 7, 7, 7, 7, 7, 7, 7, 7, ...</td>\n",
       "      <td>0.000758</td>\n",
       "      <td>True</td>\n",
       "    </tr>\n",
       "  </tbody>\n",
       "</table>\n",
       "</div>"
      ],
      "text/plain": [
       "     method                                          partition  ari_median  \\\n",
       "k                                                                            \n",
       "6   scc_020  [0, 0, 0, 0, 0, 0, 0, 0, 0, 0, 0, 0, 0, 0, 0, ...    0.001353   \n",
       "5   scc_025  [1, 1, 1, 1, 1, 1, 1, 1, 1, 1, 1, 1, 1, 1, 1, ...    0.001128   \n",
       "12  scc_020  [0, 0, 0, 0, 0, 0, 0, 0, 0, 0, 0, 0, 0, 0, 0, ...    0.000970   \n",
       "2   scc_020  [1, 1, 1, 1, 1, 1, 1, 1, 1, 1, 1, 1, 1, 1, 1, ...    0.000833   \n",
       "13  scc_020  [7, 7, 7, 7, 7, 7, 7, 7, 7, 7, 7, 7, 7, 7, 7, ...    0.000758   \n",
       "\n",
       "    selected  \n",
       "k             \n",
       "6       True  \n",
       "5       True  \n",
       "12      True  \n",
       "2       True  \n",
       "13      True  "
      ]
     },
     "execution_count": 31,
     "metadata": {},
     "output_type": "execute_result"
    }
   ],
   "source": [
    "best_parts.head()"
   ]
  },
  {
   "cell_type": "markdown",
   "id": "0469ff1e",
   "metadata": {
    "papermill": {
     "duration": 0.007708,
     "end_time": "2022-11-27T03:20:15.851460",
     "exception": false,
     "start_time": "2022-11-27T03:20:15.843752",
     "status": "completed"
    },
    "tags": []
   },
   "source": [
    "## Save best partitions per k"
   ]
  },
  {
   "cell_type": "code",
   "execution_count": 32,
   "id": "28b07ee0",
   "metadata": {
    "execution": {
     "iopub.execute_input": "2022-11-27T03:20:15.869987Z",
     "iopub.status.busy": "2022-11-27T03:20:15.869806Z",
     "iopub.status.idle": "2022-11-27T03:20:15.890518Z",
     "shell.execute_reply": "2022-11-27T03:20:15.890049Z"
    },
    "papermill": {
     "duration": 0.032137,
     "end_time": "2022-11-27T03:20:15.891350",
     "exception": false,
     "start_time": "2022-11-27T03:20:15.859213",
     "status": "completed"
    },
    "tags": []
   },
   "outputs": [
    {
     "data": {
      "text/plain": [
       "PosixPath('/opt/data/results/clustering/null_sims/shuffle_lvs/consensus_clustering/best_partitions_by_k.pkl')"
      ]
     },
     "metadata": {},
     "output_type": "display_data"
    }
   ],
   "source": [
    "output_file = Path(CONSENSUS_CLUSTERING_DIR, \"best_partitions_by_k.pkl\").resolve()\n",
    "display(output_file)"
   ]
  },
  {
   "cell_type": "code",
   "execution_count": 33,
   "id": "1a314210",
   "metadata": {
    "execution": {
     "iopub.execute_input": "2022-11-27T03:20:15.908678Z",
     "iopub.status.busy": "2022-11-27T03:20:15.908311Z",
     "iopub.status.idle": "2022-11-27T03:20:15.930101Z",
     "shell.execute_reply": "2022-11-27T03:20:15.929591Z"
    },
    "papermill": {
     "duration": 0.031091,
     "end_time": "2022-11-27T03:20:15.931055",
     "exception": false,
     "start_time": "2022-11-27T03:20:15.899964",
     "status": "completed"
    },
    "tags": []
   },
   "outputs": [],
   "source": [
    "best_parts.to_pickle(output_file)"
   ]
  },
  {
   "cell_type": "markdown",
   "id": "9bc2f328",
   "metadata": {
    "papermill": {
     "duration": 0.007651,
     "end_time": "2022-11-27T03:20:15.946774",
     "exception": false,
     "start_time": "2022-11-27T03:20:15.939123",
     "status": "completed"
    },
    "tags": []
   },
   "source": [
    "# Plot of selected best partitions"
   ]
  },
  {
   "cell_type": "code",
   "execution_count": 34,
   "id": "854b2bfd",
   "metadata": {
    "execution": {
     "iopub.execute_input": "2022-11-27T03:20:15.963036Z",
     "iopub.status.busy": "2022-11-27T03:20:15.962871Z",
     "iopub.status.idle": "2022-11-27T03:20:15.995714Z",
     "shell.execute_reply": "2022-11-27T03:20:15.995238Z"
    },
    "papermill": {
     "duration": 0.042056,
     "end_time": "2022-11-27T03:20:15.996549",
     "exception": false,
     "start_time": "2022-11-27T03:20:15.954493",
     "status": "completed"
    },
    "tags": []
   },
   "outputs": [
    {
     "data": {
      "text/html": [
       "<div>\n",
       "<style scoped>\n",
       "    .dataframe tbody tr th:only-of-type {\n",
       "        vertical-align: middle;\n",
       "    }\n",
       "\n",
       "    .dataframe tbody tr th {\n",
       "        vertical-align: top;\n",
       "    }\n",
       "\n",
       "    .dataframe thead th {\n",
       "        text-align: right;\n",
       "    }\n",
       "</style>\n",
       "<table border=\"1\" class=\"dataframe\">\n",
       "  <thead>\n",
       "    <tr style=\"text-align: right;\">\n",
       "      <th></th>\n",
       "      <th>k</th>\n",
       "      <th>method</th>\n",
       "      <th>partition</th>\n",
       "      <th>ari_median</th>\n",
       "      <th>selected</th>\n",
       "    </tr>\n",
       "  </thead>\n",
       "  <tbody>\n",
       "    <tr>\n",
       "      <th>0</th>\n",
       "      <td>6</td>\n",
       "      <td>scc_020</td>\n",
       "      <td>[0, 0, 0, 0, 0, 0, 0, 0, 0, 0, 0, 0, 0, 0, 0, ...</td>\n",
       "      <td>0.001353</td>\n",
       "      <td>True</td>\n",
       "    </tr>\n",
       "    <tr>\n",
       "      <th>1</th>\n",
       "      <td>5</td>\n",
       "      <td>scc_025</td>\n",
       "      <td>[1, 1, 1, 1, 1, 1, 1, 1, 1, 1, 1, 1, 1, 1, 1, ...</td>\n",
       "      <td>0.001128</td>\n",
       "      <td>True</td>\n",
       "    </tr>\n",
       "    <tr>\n",
       "      <th>2</th>\n",
       "      <td>12</td>\n",
       "      <td>scc_020</td>\n",
       "      <td>[0, 0, 0, 0, 0, 0, 0, 0, 0, 0, 0, 0, 0, 0, 0, ...</td>\n",
       "      <td>0.000970</td>\n",
       "      <td>True</td>\n",
       "    </tr>\n",
       "    <tr>\n",
       "      <th>3</th>\n",
       "      <td>2</td>\n",
       "      <td>scc_020</td>\n",
       "      <td>[1, 1, 1, 1, 1, 1, 1, 1, 1, 1, 1, 1, 1, 1, 1, ...</td>\n",
       "      <td>0.000833</td>\n",
       "      <td>True</td>\n",
       "    </tr>\n",
       "    <tr>\n",
       "      <th>4</th>\n",
       "      <td>13</td>\n",
       "      <td>scc_020</td>\n",
       "      <td>[7, 7, 7, 7, 7, 7, 7, 7, 7, 7, 7, 7, 7, 7, 7, ...</td>\n",
       "      <td>0.000758</td>\n",
       "      <td>True</td>\n",
       "    </tr>\n",
       "  </tbody>\n",
       "</table>\n",
       "</div>"
      ],
      "text/plain": [
       "    k   method                                          partition  ari_median  \\\n",
       "0   6  scc_020  [0, 0, 0, 0, 0, 0, 0, 0, 0, 0, 0, 0, 0, 0, 0, ...    0.001353   \n",
       "1   5  scc_025  [1, 1, 1, 1, 1, 1, 1, 1, 1, 1, 1, 1, 1, 1, 1, ...    0.001128   \n",
       "2  12  scc_020  [0, 0, 0, 0, 0, 0, 0, 0, 0, 0, 0, 0, 0, 0, 0, ...    0.000970   \n",
       "3   2  scc_020  [1, 1, 1, 1, 1, 1, 1, 1, 1, 1, 1, 1, 1, 1, 1, ...    0.000833   \n",
       "4  13  scc_020  [7, 7, 7, 7, 7, 7, 7, 7, 7, 7, 7, 7, 7, 7, 7, ...    0.000758   \n",
       "\n",
       "   selected  \n",
       "0      True  \n",
       "1      True  \n",
       "2      True  \n",
       "3      True  \n",
       "4      True  "
      ]
     },
     "metadata": {},
     "output_type": "display_data"
    }
   ],
   "source": [
    "plot_data = best_parts.reset_index()\n",
    "display(plot_data.head(5))"
   ]
  },
  {
   "cell_type": "code",
   "execution_count": 35,
   "id": "1ee1a588",
   "metadata": {
    "execution": {
     "iopub.execute_input": "2022-11-27T03:20:16.013348Z",
     "iopub.status.busy": "2022-11-27T03:20:16.013187Z",
     "iopub.status.idle": "2022-11-27T03:20:17.270424Z",
     "shell.execute_reply": "2022-11-27T03:20:17.269962Z"
    },
    "papermill": {
     "duration": 1.267533,
     "end_time": "2022-11-27T03:20:17.272277",
     "exception": false,
     "start_time": "2022-11-27T03:20:16.004744",
     "status": "completed"
    },
    "tags": []
   },
   "outputs": [
    {
     "data": {
      "image/png": "[encoded data removed]",
      "text/plain": [
       "<Figure size 864x432 with 1 Axes>"
      ]
     },
     "metadata": {},
     "output_type": "display_data"
    }
   ],
   "source": [
    "with sns.plotting_context(\"talk\", font_scale=0.75), sns.axes_style(\n",
    "    \"whitegrid\", {\"grid.linestyle\": \"--\"}\n",
    "), sns.color_palette(\"muted\"):\n",
    "    current_palette = iter(sns.color_palette())\n",
    "\n",
    "    fig, ax = plt.subplots(figsize=(12, 6))\n",
    "    ax = sns.pointplot(\n",
    "        data=plot_data, x=\"k\", y=_measure_col, color=next(current_palette)\n",
    "    )\n",
    "    ax.axhline(\n",
    "        best_threshold,\n",
    "        ls=\"--\",\n",
    "        color=next(current_palette),\n",
    "        label=best_threshold_description,\n",
    "    )\n",
    "    ax.set_ylabel(f\"Agreement with ensemble\\n({_selected_stat} {_selected_measure})\")\n",
    "    ax.set_xlabel(\"Number of clusters ($k$)\")\n",
    "    ax.set_xticklabels(ax.get_xticklabels(), rotation=45)\n",
    "    plt.legend()\n",
    "    plt.grid(True)\n",
    "    plt.tight_layout()"
   ]
  },
  {
   "cell_type": "markdown",
   "id": "b9b3ca3a",
   "metadata": {
    "papermill": {
     "duration": 0.016671,
     "end_time": "2022-11-27T03:20:17.306825",
     "exception": false,
     "start_time": "2022-11-27T03:20:17.290154",
     "status": "completed"
    },
    "tags": []
   },
   "source": [
    "The horizontal line in the plot is the median of the average agreement value; partitions above that line are marked as selected for downstream analysis"
   ]
  },
  {
   "cell_type": "code",
   "execution_count": 36,
   "id": "dfae640f",
   "metadata": {
    "execution": {
     "iopub.execute_input": "2022-11-27T03:20:17.341311Z",
     "iopub.status.busy": "2022-11-27T03:20:17.341186Z",
     "iopub.status.idle": "2022-11-27T03:20:17.368895Z",
     "shell.execute_reply": "2022-11-27T03:20:17.368453Z"
    },
    "papermill": {
     "duration": 0.046194,
     "end_time": "2022-11-27T03:20:17.369938",
     "exception": false,
     "start_time": "2022-11-27T03:20:17.323744",
     "status": "completed"
    },
    "tags": []
   },
   "outputs": [
    {
     "data": {
      "text/html": [
       "<div>\n",
       "<style scoped>\n",
       "    .dataframe tbody tr th:only-of-type {\n",
       "        vertical-align: middle;\n",
       "    }\n",
       "\n",
       "    .dataframe tbody tr th {\n",
       "        vertical-align: top;\n",
       "    }\n",
       "\n",
       "    .dataframe thead th {\n",
       "        text-align: right;\n",
       "    }\n",
       "</style>\n",
       "<table border=\"1\" class=\"dataframe\">\n",
       "  <thead>\n",
       "    <tr style=\"text-align: right;\">\n",
       "      <th></th>\n",
       "      <th>k</th>\n",
       "      <th>method</th>\n",
       "      <th>partition</th>\n",
       "      <th>ari_median</th>\n",
       "      <th>selected</th>\n",
       "    </tr>\n",
       "  </thead>\n",
       "  <tbody>\n",
       "    <tr>\n",
       "      <th>3</th>\n",
       "      <td>2</td>\n",
       "      <td>scc_020</td>\n",
       "      <td>[1, 1, 1, 1, 1, 1, 1, 1, 1, 1, 1, 1, 1, 1, 1, ...</td>\n",
       "      <td>0.000833</td>\n",
       "      <td>True</td>\n",
       "    </tr>\n",
       "    <tr>\n",
       "      <th>1</th>\n",
       "      <td>5</td>\n",
       "      <td>scc_025</td>\n",
       "      <td>[1, 1, 1, 1, 1, 1, 1, 1, 1, 1, 1, 1, 1, 1, 1, ...</td>\n",
       "      <td>0.001128</td>\n",
       "      <td>True</td>\n",
       "    </tr>\n",
       "    <tr>\n",
       "      <th>0</th>\n",
       "      <td>6</td>\n",
       "      <td>scc_020</td>\n",
       "      <td>[0, 0, 0, 0, 0, 0, 0, 0, 0, 0, 0, 0, 0, 0, 0, ...</td>\n",
       "      <td>0.001353</td>\n",
       "      <td>True</td>\n",
       "    </tr>\n",
       "    <tr>\n",
       "      <th>5</th>\n",
       "      <td>10</td>\n",
       "      <td>scc_050</td>\n",
       "      <td>[5, 5, 5, 5, 5, 5, 5, 5, 5, 5, 5, 5, 5, 5, 5, ...</td>\n",
       "      <td>0.000708</td>\n",
       "      <td>True</td>\n",
       "    </tr>\n",
       "    <tr>\n",
       "      <th>6</th>\n",
       "      <td>11</td>\n",
       "      <td>scc_025</td>\n",
       "      <td>[2, 2, 2, 2, 2, 2, 2, 2, 2, 2, 2, 2, 2, 2, 2, ...</td>\n",
       "      <td>0.000707</td>\n",
       "      <td>True</td>\n",
       "    </tr>\n",
       "    <tr>\n",
       "      <th>2</th>\n",
       "      <td>12</td>\n",
       "      <td>scc_020</td>\n",
       "      <td>[0, 0, 0, 0, 0, 0, 0, 0, 0, 0, 0, 0, 0, 0, 0, ...</td>\n",
       "      <td>0.000970</td>\n",
       "      <td>True</td>\n",
       "    </tr>\n",
       "    <tr>\n",
       "      <th>4</th>\n",
       "      <td>13</td>\n",
       "      <td>scc_020</td>\n",
       "      <td>[7, 7, 7, 7, 7, 7, 7, 7, 7, 7, 7, 7, 7, 7, 7, ...</td>\n",
       "      <td>0.000758</td>\n",
       "      <td>True</td>\n",
       "    </tr>\n",
       "    <tr>\n",
       "      <th>7</th>\n",
       "      <td>14</td>\n",
       "      <td>scc_020</td>\n",
       "      <td>[5, 5, 5, 5, 5, 5, 5, 5, 5, 5, 5, 5, 5, 5, 5, ...</td>\n",
       "      <td>0.000669</td>\n",
       "      <td>True</td>\n",
       "    </tr>\n",
       "    <tr>\n",
       "      <th>9</th>\n",
       "      <td>15</td>\n",
       "      <td>scc_020</td>\n",
       "      <td>[1, 1, 1, 1, 1, 1, 1, 1, 1, 1, 1, 1, 1, 1, 1, ...</td>\n",
       "      <td>0.000629</td>\n",
       "      <td>True</td>\n",
       "    </tr>\n",
       "    <tr>\n",
       "      <th>10</th>\n",
       "      <td>16</td>\n",
       "      <td>scc_020</td>\n",
       "      <td>[7, 7, 7, 7, 7, 7, 7, 7, 7, 7, 7, 7, 7, 7, 7, ...</td>\n",
       "      <td>0.000612</td>\n",
       "      <td>True</td>\n",
       "    </tr>\n",
       "    <tr>\n",
       "      <th>11</th>\n",
       "      <td>17</td>\n",
       "      <td>scc_020</td>\n",
       "      <td>[16, 16, 16, 16, 16, 16, 16, 16, 16, 16, 16, 1...</td>\n",
       "      <td>0.000595</td>\n",
       "      <td>True</td>\n",
       "    </tr>\n",
       "    <tr>\n",
       "      <th>14</th>\n",
       "      <td>32</td>\n",
       "      <td>scc_025</td>\n",
       "      <td>[19, 19, 19, 19, 19, 19, 19, 19, 19, 19, 19, 1...</td>\n",
       "      <td>0.000556</td>\n",
       "      <td>True</td>\n",
       "    </tr>\n",
       "    <tr>\n",
       "      <th>12</th>\n",
       "      <td>37</td>\n",
       "      <td>scc_050</td>\n",
       "      <td>[14, 14, 14, 14, 14, 14, 14, 14, 14, 14, 14, 1...</td>\n",
       "      <td>0.000577</td>\n",
       "      <td>True</td>\n",
       "    </tr>\n",
       "    <tr>\n",
       "      <th>8</th>\n",
       "      <td>39</td>\n",
       "      <td>scc_050</td>\n",
       "      <td>[5, 5, 5, 5, 5, 5, 5, 5, 5, 5, 5, 5, 5, 5, 5, ...</td>\n",
       "      <td>0.000640</td>\n",
       "      <td>True</td>\n",
       "    </tr>\n",
       "    <tr>\n",
       "      <th>13</th>\n",
       "      <td>44</td>\n",
       "      <td>scc_050</td>\n",
       "      <td>[2, 2, 2, 2, 2, 2, 2, 2, 2, 2, 2, 2, 2, 2, 2, ...</td>\n",
       "      <td>0.000574</td>\n",
       "      <td>True</td>\n",
       "    </tr>\n",
       "  </tbody>\n",
       "</table>\n",
       "</div>"
      ],
      "text/plain": [
       "     k   method                                          partition  \\\n",
       "3    2  scc_020  [1, 1, 1, 1, 1, 1, 1, 1, 1, 1, 1, 1, 1, 1, 1, ...   \n",
       "1    5  scc_025  [1, 1, 1, 1, 1, 1, 1, 1, 1, 1, 1, 1, 1, 1, 1, ...   \n",
       "0    6  scc_020  [0, 0, 0, 0, 0, 0, 0, 0, 0, 0, 0, 0, 0, 0, 0, ...   \n",
       "5   10  scc_050  [5, 5, 5, 5, 5, 5, 5, 5, 5, 5, 5, 5, 5, 5, 5, ...   \n",
       "6   11  scc_025  [2, 2, 2, 2, 2, 2, 2, 2, 2, 2, 2, 2, 2, 2, 2, ...   \n",
       "2   12  scc_020  [0, 0, 0, 0, 0, 0, 0, 0, 0, 0, 0, 0, 0, 0, 0, ...   \n",
       "4   13  scc_020  [7, 7, 7, 7, 7, 7, 7, 7, 7, 7, 7, 7, 7, 7, 7, ...   \n",
       "7   14  scc_020  [5, 5, 5, 5, 5, 5, 5, 5, 5, 5, 5, 5, 5, 5, 5, ...   \n",
       "9   15  scc_020  [1, 1, 1, 1, 1, 1, 1, 1, 1, 1, 1, 1, 1, 1, 1, ...   \n",
       "10  16  scc_020  [7, 7, 7, 7, 7, 7, 7, 7, 7, 7, 7, 7, 7, 7, 7, ...   \n",
       "11  17  scc_020  [16, 16, 16, 16, 16, 16, 16, 16, 16, 16, 16, 1...   \n",
       "14  32  scc_025  [19, 19, 19, 19, 19, 19, 19, 19, 19, 19, 19, 1...   \n",
       "12  37  scc_050  [14, 14, 14, 14, 14, 14, 14, 14, 14, 14, 14, 1...   \n",
       "8   39  scc_050  [5, 5, 5, 5, 5, 5, 5, 5, 5, 5, 5, 5, 5, 5, 5, ...   \n",
       "13  44  scc_050  [2, 2, 2, 2, 2, 2, 2, 2, 2, 2, 2, 2, 2, 2, 2, ...   \n",
       "\n",
       "    ari_median  selected  \n",
       "3     0.000833      True  \n",
       "1     0.001128      True  \n",
       "0     0.001353      True  \n",
       "5     0.000708      True  \n",
       "6     0.000707      True  \n",
       "2     0.000970      True  \n",
       "4     0.000758      True  \n",
       "7     0.000669      True  \n",
       "9     0.000629      True  \n",
       "10    0.000612      True  \n",
       "11    0.000595      True  \n",
       "14    0.000556      True  \n",
       "12    0.000577      True  \n",
       "8     0.000640      True  \n",
       "13    0.000574      True  "
      ]
     },
     "execution_count": 36,
     "metadata": {},
     "output_type": "execute_result"
    }
   ],
   "source": [
    "# this list shows the selected final partitions, and which methods achieved the highest agreement\n",
    "plot_data[plot_data[\"selected\"]].sort_values(\"k\")"
   ]
  },
  {
   "cell_type": "markdown",
   "id": "bbad5687",
   "metadata": {
    "papermill": {
     "duration": 0.016922,
     "end_time": "2022-11-27T03:20:17.403507",
     "exception": false,
     "start_time": "2022-11-27T03:20:17.386585",
     "status": "completed"
    },
    "tags": []
   },
   "source": [
    "From the two evidence accumulation approaches (EAC) we are using, the spectral clustering based one does it better for almost all `k` values, whereas the hierarchical clustering based approach seems to do a little bit better for lower `k`."
   ]
  },
  {
   "cell_type": "code",
   "execution_count": null,
   "id": "fa99f669",
   "metadata": {
    "papermill": {
     "duration": 0.010454,
     "end_time": "2022-11-27T03:20:17.431033",
     "exception": false,
     "start_time": "2022-11-27T03:20:17.420579",
     "status": "completed"
    },
    "tags": []
   },
   "outputs": [],
   "source": []
  }
 ],
 "metadata": {
  "jupytext": {
   "cell_metadata_filter": "all,-execution,-papermill,-trusted",
   "formats": "ipynb,py//py:percent"
  },
  "kernelspec": {
   "display_name": "Python 3 (ipykernel)",
   "language": "python",
   "name": "python3"
  },
  "language_info": {
   "codemirror_mode": {
    "name": "ipython",
    "version": 3
   },
   "file_extension": ".py",
   "mimetype": "text/x-python",
   "name": "python",
   "nbconvert_exporter": "python",
   "pygments_lexer": "ipython3",
   "version": "3.8.13"
  },
  "papermill": {
   "default_parameters": {},
   "duration": 7.547505,
   "end_time": "2022-11-27T03:20:17.755628",
   "environment_variables": {},
   "exception": null,
   "input_path": "nbs/13.1_cluster_analysis_null/05-shuffle_lvs/20_02-get_best_partitions.ipynb",
   "output_path": "nbs/13.1_cluster_analysis_null/05-shuffle_lvs/20_02-get_best_partitions.run.ipynb",
   "parameters": {},
   "start_time": "2022-11-27T03:20:10.208123",
   "version": "2.2.2"
  },
  "toc-autonumbering": true,
  "toc-showcode": false,
  "toc-showmarkdowntxt": false,
  "toc-showtags": false
 },
 "nbformat": 4,
 "nbformat_minor": 5
}
