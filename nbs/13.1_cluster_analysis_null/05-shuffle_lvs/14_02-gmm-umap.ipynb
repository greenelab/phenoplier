{
 "cells": [
  {
   "cell_type": "markdown",
   "id": "f8d8dc7d",
   "metadata": {
    "papermill": {
     "duration": 0.014174,
     "end_time": "2022-11-26T13:36:43.355473",
     "exception": false,
     "start_time": "2022-11-26T13:36:43.341299",
     "status": "completed"
    },
    "tags": []
   },
   "source": [
    "# Description"
   ]
  },
  {
   "cell_type": "markdown",
   "id": "165a1531",
   "metadata": {
    "papermill": {
     "duration": 0.012413,
     "end_time": "2022-11-26T13:36:43.380631",
     "exception": false,
     "start_time": "2022-11-26T13:36:43.368218",
     "status": "completed"
    },
    "tags": []
   },
   "source": [
    "Runs gaussian mixture model on the umap version of the data."
   ]
  },
  {
   "cell_type": "markdown",
   "id": "8ccb6232",
   "metadata": {
    "papermill": {
     "duration": 0.012468,
     "end_time": "2022-11-26T13:36:43.405905",
     "exception": false,
     "start_time": "2022-11-26T13:36:43.393437",
     "status": "completed"
    },
    "tags": []
   },
   "source": [
    "# Environment variables"
   ]
  },
  {
   "cell_type": "code",
   "execution_count": 1,
   "id": "2f07b8ce",
   "metadata": {
    "execution": {
     "iopub.execute_input": "2022-11-26T13:36:43.428836Z",
     "iopub.status.busy": "2022-11-26T13:36:43.428436Z",
     "iopub.status.idle": "2022-11-26T13:36:43.447375Z",
     "shell.execute_reply": "2022-11-26T13:36:43.447061Z"
    },
    "papermill": {
     "duration": 0.029953,
     "end_time": "2022-11-26T13:36:43.448472",
     "exception": false,
     "start_time": "2022-11-26T13:36:43.418519",
     "status": "completed"
    },
    "tags": []
   },
   "outputs": [
    {
     "data": {
      "text/plain": [
       "10"
      ]
     },
     "metadata": {},
     "output_type": "display_data"
    }
   ],
   "source": [
    "from IPython.display import display\n",
    "\n",
    "import conf\n",
    "\n",
    "N_JOBS = conf.GENERAL[\"N_JOBS\"]\n",
    "display(N_JOBS)"
   ]
  },
  {
   "cell_type": "code",
   "execution_count": 2,
   "id": "b0e90b22",
   "metadata": {
    "execution": {
     "iopub.execute_input": "2022-11-26T13:36:43.468931Z",
     "iopub.status.busy": "2022-11-26T13:36:43.468691Z",
     "iopub.status.idle": "2022-11-26T13:36:43.474428Z",
     "shell.execute_reply": "2022-11-26T13:36:43.474038Z"
    },
    "papermill": {
     "duration": 0.016797,
     "end_time": "2022-11-26T13:36:43.475463",
     "exception": false,
     "start_time": "2022-11-26T13:36:43.458666",
     "status": "completed"
    },
    "tags": []
   },
   "outputs": [
    {
     "name": "stdout",
     "output_type": "stream",
     "text": [
      "env: MKL_NUM_THREADS=10\n",
      "env: OPEN_BLAS_NUM_THREADS=10\n",
      "env: NUMEXPR_NUM_THREADS=10\n",
      "env: OMP_NUM_THREADS=10\n"
     ]
    }
   ],
   "source": [
    "%env MKL_NUM_THREADS=$N_JOBS\n",
    "%env OPEN_BLAS_NUM_THREADS=$N_JOBS\n",
    "%env NUMEXPR_NUM_THREADS=$N_JOBS\n",
    "%env OMP_NUM_THREADS=$N_JOBS"
   ]
  },
  {
   "cell_type": "markdown",
   "id": "50c90694",
   "metadata": {
    "papermill": {
     "duration": 0.006596,
     "end_time": "2022-11-26T13:36:43.490237",
     "exception": false,
     "start_time": "2022-11-26T13:36:43.483641",
     "status": "completed"
    },
    "tags": []
   },
   "source": [
    "# Modules loading"
   ]
  },
  {
   "cell_type": "code",
   "execution_count": 3,
   "id": "9c7f9159",
   "metadata": {
    "execution": {
     "iopub.execute_input": "2022-11-26T13:36:43.504016Z",
     "iopub.status.busy": "2022-11-26T13:36:43.503762Z",
     "iopub.status.idle": "2022-11-26T13:36:43.516739Z",
     "shell.execute_reply": "2022-11-26T13:36:43.516365Z"
    },
    "papermill": {
     "duration": 0.020864,
     "end_time": "2022-11-26T13:36:43.517625",
     "exception": false,
     "start_time": "2022-11-26T13:36:43.496761",
     "status": "completed"
    },
    "tags": []
   },
   "outputs": [],
   "source": [
    "%load_ext autoreload\n",
    "%autoreload 2"
   ]
  },
  {
   "cell_type": "code",
   "execution_count": 4,
   "id": "ac743c8e",
   "metadata": {
    "execution": {
     "iopub.execute_input": "2022-11-26T13:36:43.531884Z",
     "iopub.status.busy": "2022-11-26T13:36:43.531627Z",
     "iopub.status.idle": "2022-11-26T13:36:44.010256Z",
     "shell.execute_reply": "2022-11-26T13:36:44.009923Z"
    },
    "papermill": {
     "duration": 0.487059,
     "end_time": "2022-11-26T13:36:44.011412",
     "exception": false,
     "start_time": "2022-11-26T13:36:43.524353",
     "status": "completed"
    },
    "tags": []
   },
   "outputs": [],
   "source": [
    "from pathlib import Path\n",
    "\n",
    "import numpy as np\n",
    "import pandas as pd\n",
    "import matplotlib.pyplot as plt\n",
    "import seaborn as sns\n",
    "\n",
    "from utils import generate_result_set_name"
   ]
  },
  {
   "cell_type": "markdown",
   "id": "7d5a2193",
   "metadata": {
    "papermill": {
     "duration": 0.009808,
     "end_time": "2022-11-26T13:36:44.028225",
     "exception": false,
     "start_time": "2022-11-26T13:36:44.018417",
     "status": "completed"
    },
    "tags": []
   },
   "source": [
    "# Settings"
   ]
  },
  {
   "cell_type": "code",
   "execution_count": 5,
   "id": "d4b2dcdb",
   "metadata": {
    "execution": {
     "iopub.execute_input": "2022-11-26T13:36:44.041937Z",
     "iopub.status.busy": "2022-11-26T13:36:44.041801Z",
     "iopub.status.idle": "2022-11-26T13:36:44.056396Z",
     "shell.execute_reply": "2022-11-26T13:36:44.055987Z"
    },
    "papermill": {
     "duration": 0.022946,
     "end_time": "2022-11-26T13:36:44.057772",
     "exception": false,
     "start_time": "2022-11-26T13:36:44.034826",
     "status": "completed"
    },
    "tags": []
   },
   "outputs": [],
   "source": [
    "np.random.seed(0)"
   ]
  },
  {
   "cell_type": "code",
   "execution_count": 6,
   "id": "247617a0",
   "metadata": {
    "execution": {
     "iopub.execute_input": "2022-11-26T13:36:44.110147Z",
     "iopub.status.busy": "2022-11-26T13:36:44.109736Z",
     "iopub.status.idle": "2022-11-26T13:36:44.129189Z",
     "shell.execute_reply": "2022-11-26T13:36:44.128792Z"
    },
    "papermill": {
     "duration": 0.034703,
     "end_time": "2022-11-26T13:36:44.130639",
     "exception": false,
     "start_time": "2022-11-26T13:36:44.095936",
     "status": "completed"
    },
    "tags": []
   },
   "outputs": [],
   "source": [
    "INITIAL_RANDOM_STATE = 80000"
   ]
  },
  {
   "cell_type": "code",
   "execution_count": 7,
   "id": "382af8c5-681a-4716-b432-fb7781b7ca9f",
   "metadata": {
    "execution": {
     "iopub.execute_input": "2022-11-26T13:36:44.157734Z",
     "iopub.status.busy": "2022-11-26T13:36:44.157454Z",
     "iopub.status.idle": "2022-11-26T13:36:44.176717Z",
     "shell.execute_reply": "2022-11-26T13:36:44.176304Z"
    },
    "papermill": {
     "duration": 0.033967,
     "end_time": "2022-11-26T13:36:44.178177",
     "exception": false,
     "start_time": "2022-11-26T13:36:44.144210",
     "status": "completed"
    },
    "tags": []
   },
   "outputs": [],
   "source": [
    "NULL_DIR = conf.RESULTS[\"CLUSTERING_NULL_DIR\"] / \"shuffle_lvs\""
   ]
  },
  {
   "cell_type": "markdown",
   "id": "b366f01b",
   "metadata": {
    "papermill": {
     "duration": 0.012613,
     "end_time": "2022-11-26T13:36:44.203928",
     "exception": false,
     "start_time": "2022-11-26T13:36:44.191315",
     "status": "completed"
    },
    "tags": []
   },
   "source": [
    "## Input data"
   ]
  },
  {
   "cell_type": "code",
   "execution_count": 8,
   "id": "336323cb",
   "metadata": {
    "execution": {
     "iopub.execute_input": "2022-11-26T13:36:44.227800Z",
     "iopub.status.busy": "2022-11-26T13:36:44.227559Z",
     "iopub.status.idle": "2022-11-26T13:36:44.238671Z",
     "shell.execute_reply": "2022-11-26T13:36:44.238387Z"
    },
    "papermill": {
     "duration": 0.02226,
     "end_time": "2022-11-26T13:36:44.239508",
     "exception": false,
     "start_time": "2022-11-26T13:36:44.217248",
     "status": "completed"
    },
    "tags": []
   },
   "outputs": [],
   "source": [
    "INPUT_SUBSET = \"umap\""
   ]
  },
  {
   "cell_type": "code",
   "execution_count": 9,
   "id": "ef1f9044",
   "metadata": {
    "execution": {
     "iopub.execute_input": "2022-11-26T13:36:44.253645Z",
     "iopub.status.busy": "2022-11-26T13:36:44.253468Z",
     "iopub.status.idle": "2022-11-26T13:36:44.264423Z",
     "shell.execute_reply": "2022-11-26T13:36:44.264132Z"
    },
    "papermill": {
     "duration": 0.018966,
     "end_time": "2022-11-26T13:36:44.265252",
     "exception": false,
     "start_time": "2022-11-26T13:36:44.246286",
     "status": "completed"
    },
    "tags": []
   },
   "outputs": [],
   "source": [
    "INPUT_STEM = \"z_score_std-projection-smultixcan-efo_partial-mashr-zscores\""
   ]
  },
  {
   "cell_type": "code",
   "execution_count": 10,
   "id": "cd37efc2",
   "metadata": {
    "execution": {
     "iopub.execute_input": "2022-11-26T13:36:44.279144Z",
     "iopub.status.busy": "2022-11-26T13:36:44.278941Z",
     "iopub.status.idle": "2022-11-26T13:36:44.289770Z",
     "shell.execute_reply": "2022-11-26T13:36:44.289483Z"
    },
    "papermill": {
     "duration": 0.018596,
     "end_time": "2022-11-26T13:36:44.290623",
     "exception": false,
     "start_time": "2022-11-26T13:36:44.272027",
     "status": "completed"
    },
    "tags": []
   },
   "outputs": [],
   "source": [
    "DR_OPTIONS = {\n",
    "    \"n_components\": 50,\n",
    "    \"metric\": \"euclidean\",\n",
    "    \"n_neighbors\": 15,\n",
    "    \"random_state\": 0,\n",
    "}"
   ]
  },
  {
   "cell_type": "code",
   "execution_count": 11,
   "id": "dd942eae",
   "metadata": {
    "execution": {
     "iopub.execute_input": "2022-11-26T13:36:44.305126Z",
     "iopub.status.busy": "2022-11-26T13:36:44.304920Z",
     "iopub.status.idle": "2022-11-26T13:36:44.318209Z",
     "shell.execute_reply": "2022-11-26T13:36:44.317929Z"
    },
    "papermill": {
     "duration": 0.021505,
     "end_time": "2022-11-26T13:36:44.318994",
     "exception": false,
     "start_time": "2022-11-26T13:36:44.297489",
     "status": "completed"
    },
    "tags": []
   },
   "outputs": [
    {
     "data": {
      "text/plain": [
       "PosixPath('/opt/data/results/clustering/null_sims/shuffle_lvs/data_transformations/umap/umap-z_score_std-projection-smultixcan-efo_partial-mashr-zscores-metric_euclidean-n_components_50-n_neighbors_15-random_state_0.pkl')"
      ]
     },
     "metadata": {},
     "output_type": "display_data"
    },
    {
     "data": {
      "text/plain": [
       "'umap-z_score_std-projection-smultixcan-efo_partial-mashr-zscores-metric_euclidean-n_components_50-n_neighbors_15-random_state_0'"
      ]
     },
     "metadata": {},
     "output_type": "display_data"
    }
   ],
   "source": [
    "input_filepath = Path(\n",
    "    NULL_DIR,\n",
    "    \"data_transformations\",\n",
    "    INPUT_SUBSET,\n",
    "    generate_result_set_name(\n",
    "        DR_OPTIONS, prefix=f\"{INPUT_SUBSET}-{INPUT_STEM}-\", suffix=\".pkl\"\n",
    "    ),\n",
    ").resolve()\n",
    "display(input_filepath)\n",
    "\n",
    "assert input_filepath.exists(), \"Input file does not exist\"\n",
    "\n",
    "input_filepath_stem = input_filepath.stem\n",
    "display(input_filepath_stem)"
   ]
  },
  {
   "cell_type": "markdown",
   "id": "44054e0b",
   "metadata": {
    "papermill": {
     "duration": 0.00644,
     "end_time": "2022-11-26T13:36:44.332414",
     "exception": false,
     "start_time": "2022-11-26T13:36:44.325974",
     "status": "completed"
    },
    "tags": []
   },
   "source": [
    "## Clustering"
   ]
  },
  {
   "cell_type": "code",
   "execution_count": 12,
   "id": "b41607ca",
   "metadata": {
    "execution": {
     "iopub.execute_input": "2022-11-26T13:36:44.346447Z",
     "iopub.status.busy": "2022-11-26T13:36:44.346281Z",
     "iopub.status.idle": "2022-11-26T13:36:44.408315Z",
     "shell.execute_reply": "2022-11-26T13:36:44.407993Z"
    },
    "papermill": {
     "duration": 0.070237,
     "end_time": "2022-11-26T13:36:44.409425",
     "exception": false,
     "start_time": "2022-11-26T13:36:44.339188",
     "status": "completed"
    },
    "tags": []
   },
   "outputs": [],
   "source": [
    "from sklearn.mixture import GaussianMixture"
   ]
  },
  {
   "cell_type": "code",
   "execution_count": 13,
   "id": "1dbc8573",
   "metadata": {
    "execution": {
     "iopub.execute_input": "2022-11-26T13:36:44.424098Z",
     "iopub.status.busy": "2022-11-26T13:36:44.423982Z",
     "iopub.status.idle": "2022-11-26T13:36:44.436550Z",
     "shell.execute_reply": "2022-11-26T13:36:44.436250Z"
    },
    "papermill": {
     "duration": 0.02087,
     "end_time": "2022-11-26T13:36:44.437396",
     "exception": false,
     "start_time": "2022-11-26T13:36:44.416526",
     "status": "completed"
    },
    "tags": []
   },
   "outputs": [],
   "source": [
    "CLUSTERING_ATTRIBUTES_TO_SAVE = [\"n_clusters\"]"
   ]
  },
  {
   "cell_type": "code",
   "execution_count": 14,
   "id": "c37726d0",
   "metadata": {
    "execution": {
     "iopub.execute_input": "2022-11-26T13:36:44.451595Z",
     "iopub.status.busy": "2022-11-26T13:36:44.451433Z",
     "iopub.status.idle": "2022-11-26T13:36:44.464960Z",
     "shell.execute_reply": "2022-11-26T13:36:44.464652Z"
    },
    "papermill": {
     "duration": 0.021443,
     "end_time": "2022-11-26T13:36:44.465764",
     "exception": false,
     "start_time": "2022-11-26T13:36:44.444321",
     "status": "completed"
    },
    "tags": []
   },
   "outputs": [
    {
     "data": {
      "text/plain": [
       "{'K_MIN': 2,\n",
       " 'K_MAX': 60,\n",
       " 'N_REPS_PER_K': 5,\n",
       " 'N_INIT': 10,\n",
       " 'COVARIANCE_TYPE': 'full'}"
      ]
     },
     "metadata": {},
     "output_type": "display_data"
    }
   ],
   "source": [
    "CLUSTERING_OPTIONS = {}\n",
    "\n",
    "CLUSTERING_OPTIONS[\"K_MIN\"] = 2\n",
    "CLUSTERING_OPTIONS[\"K_MAX\"] = 60  # sqrt(3749)\n",
    "CLUSTERING_OPTIONS[\"N_REPS_PER_K\"] = 5\n",
    "CLUSTERING_OPTIONS[\"N_INIT\"] = 10\n",
    "CLUSTERING_OPTIONS[\"COVARIANCE_TYPE\"] = \"full\"\n",
    "\n",
    "display(CLUSTERING_OPTIONS)"
   ]
  },
  {
   "cell_type": "code",
   "execution_count": 15,
   "id": "6554dcb5",
   "metadata": {
    "execution": {
     "iopub.execute_input": "2022-11-26T13:36:44.480405Z",
     "iopub.status.busy": "2022-11-26T13:36:44.480196Z",
     "iopub.status.idle": "2022-11-26T13:36:44.494340Z",
     "shell.execute_reply": "2022-11-26T13:36:44.494051Z"
    },
    "papermill": {
     "duration": 0.022465,
     "end_time": "2022-11-26T13:36:44.495228",
     "exception": false,
     "start_time": "2022-11-26T13:36:44.472763",
     "status": "completed"
    },
    "tags": []
   },
   "outputs": [],
   "source": [
    "CLUSTERERS = {}\n",
    "\n",
    "idx = 0\n",
    "random_state = INITIAL_RANDOM_STATE\n",
    "\n",
    "for k in range(CLUSTERING_OPTIONS[\"K_MIN\"], CLUSTERING_OPTIONS[\"K_MAX\"] + 1):\n",
    "    for i in range(CLUSTERING_OPTIONS[\"N_REPS_PER_K\"]):\n",
    "        clus = GaussianMixture(\n",
    "            n_components=k,\n",
    "            n_init=CLUSTERING_OPTIONS[\"N_INIT\"],\n",
    "            covariance_type=CLUSTERING_OPTIONS[\"COVARIANCE_TYPE\"],\n",
    "            random_state=random_state,\n",
    "        )\n",
    "\n",
    "        method_name = type(clus).__name__\n",
    "        CLUSTERERS[f\"{method_name} #{idx}\"] = clus\n",
    "\n",
    "        random_state = random_state + 1\n",
    "        idx = idx + 1"
   ]
  },
  {
   "cell_type": "code",
   "execution_count": 16,
   "id": "f1fd2292",
   "metadata": {
    "execution": {
     "iopub.execute_input": "2022-11-26T13:36:44.509623Z",
     "iopub.status.busy": "2022-11-26T13:36:44.509343Z",
     "iopub.status.idle": "2022-11-26T13:36:44.522383Z",
     "shell.execute_reply": "2022-11-26T13:36:44.522093Z"
    },
    "papermill": {
     "duration": 0.020917,
     "end_time": "2022-11-26T13:36:44.523199",
     "exception": false,
     "start_time": "2022-11-26T13:36:44.502282",
     "status": "completed"
    },
    "tags": []
   },
   "outputs": [
    {
     "data": {
      "text/plain": [
       "295"
      ]
     },
     "metadata": {},
     "output_type": "display_data"
    }
   ],
   "source": [
    "display(len(CLUSTERERS))"
   ]
  },
  {
   "cell_type": "code",
   "execution_count": 17,
   "id": "41e8f0e1",
   "metadata": {
    "execution": {
     "iopub.execute_input": "2022-11-26T13:36:44.537799Z",
     "iopub.status.busy": "2022-11-26T13:36:44.537612Z",
     "iopub.status.idle": "2022-11-26T13:36:44.551645Z",
     "shell.execute_reply": "2022-11-26T13:36:44.551348Z"
    },
    "papermill": {
     "duration": 0.021871,
     "end_time": "2022-11-26T13:36:44.552450",
     "exception": false,
     "start_time": "2022-11-26T13:36:44.530579",
     "status": "completed"
    },
    "tags": []
   },
   "outputs": [
    {
     "data": {
      "text/plain": [
       "('GaussianMixture #0',\n",
       " GaussianMixture(n_components=2, n_init=10, random_state=80000))"
      ]
     },
     "metadata": {},
     "output_type": "display_data"
    },
    {
     "data": {
      "text/plain": [
       "('GaussianMixture #1',\n",
       " GaussianMixture(n_components=2, n_init=10, random_state=80001))"
      ]
     },
     "metadata": {},
     "output_type": "display_data"
    }
   ],
   "source": [
    "_iter = iter(CLUSTERERS.items())\n",
    "display(next(_iter))\n",
    "display(next(_iter))"
   ]
  },
  {
   "cell_type": "code",
   "execution_count": 18,
   "id": "0e51a2c9",
   "metadata": {
    "execution": {
     "iopub.execute_input": "2022-11-26T13:36:44.567260Z",
     "iopub.status.busy": "2022-11-26T13:36:44.567068Z",
     "iopub.status.idle": "2022-11-26T13:36:44.579881Z",
     "shell.execute_reply": "2022-11-26T13:36:44.579602Z"
    },
    "papermill": {
     "duration": 0.021138,
     "end_time": "2022-11-26T13:36:44.580690",
     "exception": false,
     "start_time": "2022-11-26T13:36:44.559552",
     "status": "completed"
    },
    "tags": []
   },
   "outputs": [
    {
     "data": {
      "text/plain": [
       "'GaussianMixture'"
      ]
     },
     "metadata": {},
     "output_type": "display_data"
    }
   ],
   "source": [
    "clustering_method_name = method_name\n",
    "display(clustering_method_name)"
   ]
  },
  {
   "cell_type": "markdown",
   "id": "8fd89c0d",
   "metadata": {
    "papermill": {
     "duration": 0.006838,
     "end_time": "2022-11-26T13:36:44.594722",
     "exception": false,
     "start_time": "2022-11-26T13:36:44.587884",
     "status": "completed"
    },
    "tags": []
   },
   "source": [
    "## Output directory"
   ]
  },
  {
   "cell_type": "code",
   "execution_count": 19,
   "id": "a073be42",
   "metadata": {
    "execution": {
     "iopub.execute_input": "2022-11-26T13:36:44.609958Z",
     "iopub.status.busy": "2022-11-26T13:36:44.609622Z",
     "iopub.status.idle": "2022-11-26T13:36:44.631957Z",
     "shell.execute_reply": "2022-11-26T13:36:44.631441Z"
    },
    "papermill": {
     "duration": 0.030825,
     "end_time": "2022-11-26T13:36:44.632844",
     "exception": false,
     "start_time": "2022-11-26T13:36:44.602019",
     "status": "completed"
    },
    "tags": []
   },
   "outputs": [
    {
     "data": {
      "text/plain": [
       "PosixPath('/opt/data/results/clustering/null_sims/shuffle_lvs/runs/umap-z_score_std-projection-smultixcan-efo_partial-mashr-zscores')"
      ]
     },
     "metadata": {},
     "output_type": "display_data"
    }
   ],
   "source": [
    "# output dir for this notebook\n",
    "RESULTS_DIR = Path(\n",
    "    NULL_DIR,\n",
    "    \"runs\",\n",
    "    f\"{INPUT_SUBSET}-{INPUT_STEM}\",\n",
    ").resolve()\n",
    "RESULTS_DIR.mkdir(parents=True, exist_ok=True)\n",
    "\n",
    "display(RESULTS_DIR)"
   ]
  },
  {
   "cell_type": "markdown",
   "id": "12437872",
   "metadata": {
    "papermill": {
     "duration": 0.006875,
     "end_time": "2022-11-26T13:36:44.646887",
     "exception": false,
     "start_time": "2022-11-26T13:36:44.640012",
     "status": "completed"
    },
    "tags": []
   },
   "source": [
    "# Load input file"
   ]
  },
  {
   "cell_type": "code",
   "execution_count": 20,
   "id": "75e511b2",
   "metadata": {
    "execution": {
     "iopub.execute_input": "2022-11-26T13:36:44.661899Z",
     "iopub.status.busy": "2022-11-26T13:36:44.661637Z",
     "iopub.status.idle": "2022-11-26T13:36:44.684641Z",
     "shell.execute_reply": "2022-11-26T13:36:44.684082Z"
    },
    "papermill": {
     "duration": 0.031406,
     "end_time": "2022-11-26T13:36:44.685586",
     "exception": false,
     "start_time": "2022-11-26T13:36:44.654180",
     "status": "completed"
    },
    "tags": []
   },
   "outputs": [],
   "source": [
    "data = pd.read_pickle(input_filepath)"
   ]
  },
  {
   "cell_type": "code",
   "execution_count": 21,
   "id": "3e20d8ef",
   "metadata": {
    "execution": {
     "iopub.execute_input": "2022-11-26T13:36:44.700973Z",
     "iopub.status.busy": "2022-11-26T13:36:44.700637Z",
     "iopub.status.idle": "2022-11-26T13:36:44.722562Z",
     "shell.execute_reply": "2022-11-26T13:36:44.722052Z"
    },
    "papermill": {
     "duration": 0.030622,
     "end_time": "2022-11-26T13:36:44.723442",
     "exception": false,
     "start_time": "2022-11-26T13:36:44.692820",
     "status": "completed"
    },
    "tags": []
   },
   "outputs": [
    {
     "data": {
      "text/plain": [
       "(3752, 50)"
      ]
     },
     "execution_count": 21,
     "metadata": {},
     "output_type": "execute_result"
    }
   ],
   "source": [
    "data.shape"
   ]
  },
  {
   "cell_type": "code",
   "execution_count": 22,
   "id": "1c9da2db",
   "metadata": {
    "execution": {
     "iopub.execute_input": "2022-11-26T13:36:44.738487Z",
     "iopub.status.busy": "2022-11-26T13:36:44.738233Z",
     "iopub.status.idle": "2022-11-26T13:36:44.776927Z",
     "shell.execute_reply": "2022-11-26T13:36:44.776404Z"
    },
    "papermill": {
     "duration": 0.047278,
     "end_time": "2022-11-26T13:36:44.777943",
     "exception": false,
     "start_time": "2022-11-26T13:36:44.730665",
     "status": "completed"
    },
    "tags": []
   },
   "outputs": [
    {
     "data": {
      "text/html": [
       "<div>\n",
       "<style scoped>\n",
       "    .dataframe tbody tr th:only-of-type {\n",
       "        vertical-align: middle;\n",
       "    }\n",
       "\n",
       "    .dataframe tbody tr th {\n",
       "        vertical-align: top;\n",
       "    }\n",
       "\n",
       "    .dataframe thead th {\n",
       "        text-align: right;\n",
       "    }\n",
       "</style>\n",
       "<table border=\"1\" class=\"dataframe\">\n",
       "  <thead>\n",
       "    <tr style=\"text-align: right;\">\n",
       "      <th></th>\n",
       "      <th>UMAP1</th>\n",
       "      <th>UMAP2</th>\n",
       "      <th>UMAP3</th>\n",
       "      <th>UMAP4</th>\n",
       "      <th>UMAP5</th>\n",
       "      <th>UMAP6</th>\n",
       "      <th>UMAP7</th>\n",
       "      <th>UMAP8</th>\n",
       "      <th>UMAP9</th>\n",
       "      <th>UMAP10</th>\n",
       "      <th>...</th>\n",
       "      <th>UMAP41</th>\n",
       "      <th>UMAP42</th>\n",
       "      <th>UMAP43</th>\n",
       "      <th>UMAP44</th>\n",
       "      <th>UMAP45</th>\n",
       "      <th>UMAP46</th>\n",
       "      <th>UMAP47</th>\n",
       "      <th>UMAP48</th>\n",
       "      <th>UMAP49</th>\n",
       "      <th>UMAP50</th>\n",
       "    </tr>\n",
       "  </thead>\n",
       "  <tbody>\n",
       "    <tr>\n",
       "      <th>100001_raw-Food_weight</th>\n",
       "      <td>7.348012</td>\n",
       "      <td>4.577476</td>\n",
       "      <td>4.003544</td>\n",
       "      <td>7.175258</td>\n",
       "      <td>4.628082</td>\n",
       "      <td>4.668375</td>\n",
       "      <td>4.184439</td>\n",
       "      <td>5.524602</td>\n",
       "      <td>5.236019</td>\n",
       "      <td>4.051960</td>\n",
       "      <td>...</td>\n",
       "      <td>7.420596</td>\n",
       "      <td>8.645991</td>\n",
       "      <td>8.978471</td>\n",
       "      <td>0.844213</td>\n",
       "      <td>0.445817</td>\n",
       "      <td>8.147386</td>\n",
       "      <td>0.880679</td>\n",
       "      <td>9.326646</td>\n",
       "      <td>5.905894</td>\n",
       "      <td>9.498857</td>\n",
       "    </tr>\n",
       "    <tr>\n",
       "      <th>100002_raw-Energy</th>\n",
       "      <td>7.310478</td>\n",
       "      <td>4.624479</td>\n",
       "      <td>4.003817</td>\n",
       "      <td>7.205625</td>\n",
       "      <td>4.674837</td>\n",
       "      <td>4.623739</td>\n",
       "      <td>4.303133</td>\n",
       "      <td>5.513216</td>\n",
       "      <td>5.319317</td>\n",
       "      <td>3.911008</td>\n",
       "      <td>...</td>\n",
       "      <td>7.434267</td>\n",
       "      <td>8.683359</td>\n",
       "      <td>8.898481</td>\n",
       "      <td>0.940067</td>\n",
       "      <td>0.438958</td>\n",
       "      <td>8.215672</td>\n",
       "      <td>0.835403</td>\n",
       "      <td>9.336117</td>\n",
       "      <td>5.906696</td>\n",
       "      <td>9.496916</td>\n",
       "    </tr>\n",
       "    <tr>\n",
       "      <th>100003_raw-Protein</th>\n",
       "      <td>7.372120</td>\n",
       "      <td>4.567552</td>\n",
       "      <td>3.956281</td>\n",
       "      <td>7.172141</td>\n",
       "      <td>4.637493</td>\n",
       "      <td>4.662377</td>\n",
       "      <td>4.164535</td>\n",
       "      <td>5.569874</td>\n",
       "      <td>5.245649</td>\n",
       "      <td>3.992713</td>\n",
       "      <td>...</td>\n",
       "      <td>7.414976</td>\n",
       "      <td>8.643587</td>\n",
       "      <td>8.971425</td>\n",
       "      <td>0.866410</td>\n",
       "      <td>0.448116</td>\n",
       "      <td>8.160679</td>\n",
       "      <td>0.888818</td>\n",
       "      <td>9.330538</td>\n",
       "      <td>5.882386</td>\n",
       "      <td>9.454537</td>\n",
       "    </tr>\n",
       "    <tr>\n",
       "      <th>100004_raw-Fat</th>\n",
       "      <td>7.246791</td>\n",
       "      <td>4.422901</td>\n",
       "      <td>3.999165</td>\n",
       "      <td>6.995014</td>\n",
       "      <td>4.689552</td>\n",
       "      <td>4.778102</td>\n",
       "      <td>4.283790</td>\n",
       "      <td>5.544029</td>\n",
       "      <td>5.273340</td>\n",
       "      <td>4.024833</td>\n",
       "      <td>...</td>\n",
       "      <td>7.451052</td>\n",
       "      <td>8.683681</td>\n",
       "      <td>8.907457</td>\n",
       "      <td>0.842343</td>\n",
       "      <td>0.455955</td>\n",
       "      <td>8.174278</td>\n",
       "      <td>0.874224</td>\n",
       "      <td>9.339664</td>\n",
       "      <td>5.891949</td>\n",
       "      <td>9.500463</td>\n",
       "    </tr>\n",
       "    <tr>\n",
       "      <th>100005_raw-Carbohydrate</th>\n",
       "      <td>7.340907</td>\n",
       "      <td>4.559629</td>\n",
       "      <td>4.066139</td>\n",
       "      <td>7.116928</td>\n",
       "      <td>4.623105</td>\n",
       "      <td>4.678367</td>\n",
       "      <td>4.169051</td>\n",
       "      <td>5.549784</td>\n",
       "      <td>5.156203</td>\n",
       "      <td>4.129416</td>\n",
       "      <td>...</td>\n",
       "      <td>7.460930</td>\n",
       "      <td>8.663488</td>\n",
       "      <td>8.955309</td>\n",
       "      <td>0.796839</td>\n",
       "      <td>0.432522</td>\n",
       "      <td>8.127192</td>\n",
       "      <td>0.873220</td>\n",
       "      <td>9.321359</td>\n",
       "      <td>5.902341</td>\n",
       "      <td>9.528457</td>\n",
       "    </tr>\n",
       "  </tbody>\n",
       "</table>\n",
       "<p>5 rows × 50 columns</p>\n",
       "</div>"
      ],
      "text/plain": [
       "                            UMAP1     UMAP2     UMAP3     UMAP4     UMAP5  \\\n",
       "100001_raw-Food_weight   7.348012  4.577476  4.003544  7.175258  4.628082   \n",
       "100002_raw-Energy        7.310478  4.624479  4.003817  7.205625  4.674837   \n",
       "100003_raw-Protein       7.372120  4.567552  3.956281  7.172141  4.637493   \n",
       "100004_raw-Fat           7.246791  4.422901  3.999165  6.995014  4.689552   \n",
       "100005_raw-Carbohydrate  7.340907  4.559629  4.066139  7.116928  4.623105   \n",
       "\n",
       "                            UMAP6     UMAP7     UMAP8     UMAP9    UMAP10  \\\n",
       "100001_raw-Food_weight   4.668375  4.184439  5.524602  5.236019  4.051960   \n",
       "100002_raw-Energy        4.623739  4.303133  5.513216  5.319317  3.911008   \n",
       "100003_raw-Protein       4.662377  4.164535  5.569874  5.245649  3.992713   \n",
       "100004_raw-Fat           4.778102  4.283790  5.544029  5.273340  4.024833   \n",
       "100005_raw-Carbohydrate  4.678367  4.169051  5.549784  5.156203  4.129416   \n",
       "\n",
       "                         ...    UMAP41    UMAP42    UMAP43    UMAP44  \\\n",
       "100001_raw-Food_weight   ...  7.420596  8.645991  8.978471  0.844213   \n",
       "100002_raw-Energy        ...  7.434267  8.683359  8.898481  0.940067   \n",
       "100003_raw-Protein       ...  7.414976  8.643587  8.971425  0.866410   \n",
       "100004_raw-Fat           ...  7.451052  8.683681  8.907457  0.842343   \n",
       "100005_raw-Carbohydrate  ...  7.460930  8.663488  8.955309  0.796839   \n",
       "\n",
       "                           UMAP45    UMAP46    UMAP47    UMAP48    UMAP49  \\\n",
       "100001_raw-Food_weight   0.445817  8.147386  0.880679  9.326646  5.905894   \n",
       "100002_raw-Energy        0.438958  8.215672  0.835403  9.336117  5.906696   \n",
       "100003_raw-Protein       0.448116  8.160679  0.888818  9.330538  5.882386   \n",
       "100004_raw-Fat           0.455955  8.174278  0.874224  9.339664  5.891949   \n",
       "100005_raw-Carbohydrate  0.432522  8.127192  0.873220  9.321359  5.902341   \n",
       "\n",
       "                           UMAP50  \n",
       "100001_raw-Food_weight   9.498857  \n",
       "100002_raw-Energy        9.496916  \n",
       "100003_raw-Protein       9.454537  \n",
       "100004_raw-Fat           9.500463  \n",
       "100005_raw-Carbohydrate  9.528457  \n",
       "\n",
       "[5 rows x 50 columns]"
      ]
     },
     "execution_count": 22,
     "metadata": {},
     "output_type": "execute_result"
    }
   ],
   "source": [
    "data.head()"
   ]
  },
  {
   "cell_type": "code",
   "execution_count": 23,
   "id": "cb9ef077",
   "metadata": {
    "execution": {
     "iopub.execute_input": "2022-11-26T13:36:44.800594Z",
     "iopub.status.busy": "2022-11-26T13:36:44.800240Z",
     "iopub.status.idle": "2022-11-26T13:36:44.822014Z",
     "shell.execute_reply": "2022-11-26T13:36:44.821488Z"
    },
    "papermill": {
     "duration": 0.034021,
     "end_time": "2022-11-26T13:36:44.823219",
     "exception": false,
     "start_time": "2022-11-26T13:36:44.789198",
     "status": "completed"
    },
    "tags": []
   },
   "outputs": [],
   "source": [
    "assert not data.isna().any().any()"
   ]
  },
  {
   "cell_type": "markdown",
   "id": "5d241f55",
   "metadata": {
    "papermill": {
     "duration": 0.010891,
     "end_time": "2022-11-26T13:36:44.845122",
     "exception": false,
     "start_time": "2022-11-26T13:36:44.834231",
     "status": "completed"
    },
    "tags": []
   },
   "source": [
    "# Clustering"
   ]
  },
  {
   "cell_type": "markdown",
   "id": "218c37c6",
   "metadata": {
    "papermill": {
     "duration": 0.010286,
     "end_time": "2022-11-26T13:36:44.865936",
     "exception": false,
     "start_time": "2022-11-26T13:36:44.855650",
     "status": "completed"
    },
    "tags": []
   },
   "source": [
    "## Generate ensemble"
   ]
  },
  {
   "cell_type": "code",
   "execution_count": 24,
   "id": "6580ed0f",
   "metadata": {
    "execution": {
     "iopub.execute_input": "2022-11-26T13:36:44.885754Z",
     "iopub.status.busy": "2022-11-26T13:36:44.885488Z",
     "iopub.status.idle": "2022-11-26T13:36:44.911721Z",
     "shell.execute_reply": "2022-11-26T13:36:44.911191Z"
    },
    "papermill": {
     "duration": 0.036332,
     "end_time": "2022-11-26T13:36:44.912784",
     "exception": false,
     "start_time": "2022-11-26T13:36:44.876452",
     "status": "completed"
    },
    "tags": []
   },
   "outputs": [],
   "source": [
    "from clustering.ensembles.utils import generate_ensemble"
   ]
  },
  {
   "cell_type": "code",
   "execution_count": 25,
   "id": "e952262e",
   "metadata": {
    "execution": {
     "iopub.execute_input": "2022-11-26T13:36:44.928580Z",
     "iopub.status.busy": "2022-11-26T13:36:44.928307Z",
     "iopub.status.idle": "2022-11-26T14:30:45.221407Z",
     "shell.execute_reply": "2022-11-26T14:30:45.221142Z"
    },
    "papermill": {
     "duration": 3240.310559,
     "end_time": "2022-11-26T14:30:45.231102",
     "exception": false,
     "start_time": "2022-11-26T13:36:44.920543",
     "status": "completed"
    },
    "tags": []
   },
   "outputs": [
    {
     "name": "stderr",
     "output_type": "stream",
     "text": [
      "100%|██████████| 295/295 [54:00<00:00, 10.98s/it]\n"
     ]
    }
   ],
   "source": [
    "ensemble = generate_ensemble(\n",
    "    data,\n",
    "    CLUSTERERS,\n",
    "    attributes=CLUSTERING_ATTRIBUTES_TO_SAVE,\n",
    ")"
   ]
  },
  {
   "cell_type": "code",
   "execution_count": 26,
   "id": "7fb8e659",
   "metadata": {
    "execution": {
     "iopub.execute_input": "2022-11-26T14:30:45.285833Z",
     "iopub.status.busy": "2022-11-26T14:30:45.285712Z",
     "iopub.status.idle": "2022-11-26T14:30:45.298261Z",
     "shell.execute_reply": "2022-11-26T14:30:45.298025Z"
    },
    "papermill": {
     "duration": 0.043583,
     "end_time": "2022-11-26T14:30:45.298968",
     "exception": false,
     "start_time": "2022-11-26T14:30:45.255385",
     "status": "completed"
    },
    "tags": []
   },
   "outputs": [
    {
     "data": {
      "text/plain": [
       "(295, 3)"
      ]
     },
     "execution_count": 26,
     "metadata": {},
     "output_type": "execute_result"
    }
   ],
   "source": [
    "# the number should be close to 295 (the number of partitions generated by k-means/spectral clustering)\n",
    "ensemble.shape"
   ]
  },
  {
   "cell_type": "code",
   "execution_count": 27,
   "id": "b58e9215",
   "metadata": {
    "execution": {
     "iopub.execute_input": "2022-11-26T14:30:45.329934Z",
     "iopub.status.busy": "2022-11-26T14:30:45.329766Z",
     "iopub.status.idle": "2022-11-26T14:30:45.354146Z",
     "shell.execute_reply": "2022-11-26T14:30:45.353850Z"
    },
    "papermill": {
     "duration": 0.040567,
     "end_time": "2022-11-26T14:30:45.354861",
     "exception": false,
     "start_time": "2022-11-26T14:30:45.314294",
     "status": "completed"
    },
    "tags": []
   },
   "outputs": [
    {
     "data": {
      "text/html": [
       "<div>\n",
       "<style scoped>\n",
       "    .dataframe tbody tr th:only-of-type {\n",
       "        vertical-align: middle;\n",
       "    }\n",
       "\n",
       "    .dataframe tbody tr th {\n",
       "        vertical-align: top;\n",
       "    }\n",
       "\n",
       "    .dataframe thead th {\n",
       "        text-align: right;\n",
       "    }\n",
       "</style>\n",
       "<table border=\"1\" class=\"dataframe\">\n",
       "  <thead>\n",
       "    <tr style=\"text-align: right;\">\n",
       "      <th></th>\n",
       "      <th>clusterer_params</th>\n",
       "      <th>partition</th>\n",
       "      <th>n_clusters</th>\n",
       "    </tr>\n",
       "    <tr>\n",
       "      <th>clusterer_id</th>\n",
       "      <th></th>\n",
       "      <th></th>\n",
       "      <th></th>\n",
       "    </tr>\n",
       "  </thead>\n",
       "  <tbody>\n",
       "    <tr>\n",
       "      <th>GaussianMixture #0</th>\n",
       "      <td>{'covariance_type': 'full', 'init_params': 'km...</td>\n",
       "      <td>[0.0, 0.0, 0.0, 0.0, 0.0, 0.0, 0.0, 0.0, 0.0, ...</td>\n",
       "      <td>2</td>\n",
       "    </tr>\n",
       "    <tr>\n",
       "      <th>GaussianMixture #1</th>\n",
       "      <td>{'covariance_type': 'full', 'init_params': 'km...</td>\n",
       "      <td>[1.0, 1.0, 1.0, 1.0, 1.0, 1.0, 1.0, 1.0, 1.0, ...</td>\n",
       "      <td>2</td>\n",
       "    </tr>\n",
       "    <tr>\n",
       "      <th>GaussianMixture #2</th>\n",
       "      <td>{'covariance_type': 'full', 'init_params': 'km...</td>\n",
       "      <td>[1.0, 1.0, 1.0, 1.0, 1.0, 1.0, 1.0, 1.0, 1.0, ...</td>\n",
       "      <td>2</td>\n",
       "    </tr>\n",
       "    <tr>\n",
       "      <th>GaussianMixture #3</th>\n",
       "      <td>{'covariance_type': 'full', 'init_params': 'km...</td>\n",
       "      <td>[1.0, 1.0, 1.0, 1.0, 1.0, 1.0, 1.0, 1.0, 1.0, ...</td>\n",
       "      <td>2</td>\n",
       "    </tr>\n",
       "    <tr>\n",
       "      <th>GaussianMixture #4</th>\n",
       "      <td>{'covariance_type': 'full', 'init_params': 'km...</td>\n",
       "      <td>[0.0, 0.0, 0.0, 0.0, 0.0, 0.0, 0.0, 0.0, 0.0, ...</td>\n",
       "      <td>2</td>\n",
       "    </tr>\n",
       "  </tbody>\n",
       "</table>\n",
       "</div>"
      ],
      "text/plain": [
       "                                                     clusterer_params  \\\n",
       "clusterer_id                                                            \n",
       "GaussianMixture #0  {'covariance_type': 'full', 'init_params': 'km...   \n",
       "GaussianMixture #1  {'covariance_type': 'full', 'init_params': 'km...   \n",
       "GaussianMixture #2  {'covariance_type': 'full', 'init_params': 'km...   \n",
       "GaussianMixture #3  {'covariance_type': 'full', 'init_params': 'km...   \n",
       "GaussianMixture #4  {'covariance_type': 'full', 'init_params': 'km...   \n",
       "\n",
       "                                                            partition  \\\n",
       "clusterer_id                                                            \n",
       "GaussianMixture #0  [0.0, 0.0, 0.0, 0.0, 0.0, 0.0, 0.0, 0.0, 0.0, ...   \n",
       "GaussianMixture #1  [1.0, 1.0, 1.0, 1.0, 1.0, 1.0, 1.0, 1.0, 1.0, ...   \n",
       "GaussianMixture #2  [1.0, 1.0, 1.0, 1.0, 1.0, 1.0, 1.0, 1.0, 1.0, ...   \n",
       "GaussianMixture #3  [1.0, 1.0, 1.0, 1.0, 1.0, 1.0, 1.0, 1.0, 1.0, ...   \n",
       "GaussianMixture #4  [0.0, 0.0, 0.0, 0.0, 0.0, 0.0, 0.0, 0.0, 0.0, ...   \n",
       "\n",
       "                    n_clusters  \n",
       "clusterer_id                    \n",
       "GaussianMixture #0           2  \n",
       "GaussianMixture #1           2  \n",
       "GaussianMixture #2           2  \n",
       "GaussianMixture #3           2  \n",
       "GaussianMixture #4           2  "
      ]
     },
     "execution_count": 27,
     "metadata": {},
     "output_type": "execute_result"
    }
   ],
   "source": [
    "ensemble.head()"
   ]
  },
  {
   "cell_type": "code",
   "execution_count": 28,
   "id": "64471fed",
   "metadata": {
    "execution": {
     "iopub.execute_input": "2022-11-26T14:30:45.386331Z",
     "iopub.status.busy": "2022-11-26T14:30:45.386123Z",
     "iopub.status.idle": "2022-11-26T14:30:45.408066Z",
     "shell.execute_reply": "2022-11-26T14:30:45.407721Z"
    },
    "papermill": {
     "duration": 0.038521,
     "end_time": "2022-11-26T14:30:45.408828",
     "exception": false,
     "start_time": "2022-11-26T14:30:45.370307",
     "status": "completed"
    },
    "tags": []
   },
   "outputs": [
    {
     "data": {
      "text/plain": [
       "60    5\n",
       "16    5\n",
       "28    5\n",
       "27    5\n",
       "26    5\n",
       "Name: n_clusters, dtype: int64"
      ]
     },
     "execution_count": 28,
     "metadata": {},
     "output_type": "execute_result"
    }
   ],
   "source": [
    "ensemble[\"n_clusters\"].value_counts().head()"
   ]
  },
  {
   "cell_type": "code",
   "execution_count": 29,
   "id": "1042cc8f",
   "metadata": {
    "execution": {
     "iopub.execute_input": "2022-11-26T14:30:45.439779Z",
     "iopub.status.busy": "2022-11-26T14:30:45.439535Z",
     "iopub.status.idle": "2022-11-26T14:30:45.462470Z",
     "shell.execute_reply": "2022-11-26T14:30:45.462129Z"
    },
    "papermill": {
     "duration": 0.039168,
     "end_time": "2022-11-26T14:30:45.463221",
     "exception": false,
     "start_time": "2022-11-26T14:30:45.424053",
     "status": "completed"
    },
    "tags": []
   },
   "outputs": [
    {
     "data": {
      "text/plain": [
       "count    295.000000\n",
       "mean      31.000000\n",
       "std       17.058323\n",
       "min        2.000000\n",
       "25%       16.000000\n",
       "50%       31.000000\n",
       "75%       46.000000\n",
       "max       60.000000\n",
       "Name: n_clusters, dtype: float64"
      ]
     },
     "metadata": {},
     "output_type": "display_data"
    }
   ],
   "source": [
    "ensemble_stats = ensemble[\"n_clusters\"].describe()\n",
    "display(ensemble_stats)"
   ]
  },
  {
   "cell_type": "markdown",
   "id": "13772ff4",
   "metadata": {
    "papermill": {
     "duration": 0.014892,
     "end_time": "2022-11-26T14:30:45.493040",
     "exception": false,
     "start_time": "2022-11-26T14:30:45.478148",
     "status": "completed"
    },
    "tags": []
   },
   "source": [
    "## Testing"
   ]
  },
  {
   "cell_type": "code",
   "execution_count": 30,
   "id": "985f813c",
   "metadata": {
    "execution": {
     "iopub.execute_input": "2022-11-26T14:30:45.523687Z",
     "iopub.status.busy": "2022-11-26T14:30:45.523543Z",
     "iopub.status.idle": "2022-11-26T14:30:45.543437Z",
     "shell.execute_reply": "2022-11-26T14:30:45.543070Z"
    },
    "papermill": {
     "duration": 0.036194,
     "end_time": "2022-11-26T14:30:45.544260",
     "exception": false,
     "start_time": "2022-11-26T14:30:45.508066",
     "status": "completed"
    },
    "tags": []
   },
   "outputs": [],
   "source": [
    "assert ensemble_stats[\"min\"] > 1"
   ]
  },
  {
   "cell_type": "code",
   "execution_count": 31,
   "id": "9a90a7b1",
   "metadata": {
    "execution": {
     "iopub.execute_input": "2022-11-26T14:30:45.575452Z",
     "iopub.status.busy": "2022-11-26T14:30:45.575159Z",
     "iopub.status.idle": "2022-11-26T14:30:45.595188Z",
     "shell.execute_reply": "2022-11-26T14:30:45.594829Z"
    },
    "papermill": {
     "duration": 0.036284,
     "end_time": "2022-11-26T14:30:45.596003",
     "exception": false,
     "start_time": "2022-11-26T14:30:45.559719",
     "status": "completed"
    },
    "tags": []
   },
   "outputs": [],
   "source": [
    "assert not ensemble[\"n_clusters\"].isna().any()"
   ]
  },
  {
   "cell_type": "code",
   "execution_count": 32,
   "id": "22e96604",
   "metadata": {
    "execution": {
     "iopub.execute_input": "2022-11-26T14:30:45.627208Z",
     "iopub.status.busy": "2022-11-26T14:30:45.626909Z",
     "iopub.status.idle": "2022-11-26T14:30:45.646463Z",
     "shell.execute_reply": "2022-11-26T14:30:45.646111Z"
    },
    "papermill": {
     "duration": 0.036121,
     "end_time": "2022-11-26T14:30:45.647302",
     "exception": false,
     "start_time": "2022-11-26T14:30:45.611181",
     "status": "completed"
    },
    "tags": []
   },
   "outputs": [],
   "source": [
    "assert ensemble.shape[0] == len(CLUSTERERS)"
   ]
  },
  {
   "cell_type": "code",
   "execution_count": 33,
   "id": "d6a54942",
   "metadata": {
    "execution": {
     "iopub.execute_input": "2022-11-26T14:30:45.678586Z",
     "iopub.status.busy": "2022-11-26T14:30:45.678300Z",
     "iopub.status.idle": "2022-11-26T14:30:45.722882Z",
     "shell.execute_reply": "2022-11-26T14:30:45.722508Z"
    },
    "papermill": {
     "duration": 0.060948,
     "end_time": "2022-11-26T14:30:45.723683",
     "exception": false,
     "start_time": "2022-11-26T14:30:45.662735",
     "status": "completed"
    },
    "tags": []
   },
   "outputs": [],
   "source": [
    "# all partitions have the right size\n",
    "assert np.all(\n",
    "    [part[\"partition\"].shape[0] == data.shape[0] for idx, part in ensemble.iterrows()]\n",
    ")"
   ]
  },
  {
   "cell_type": "code",
   "execution_count": 34,
   "id": "6d9809b4",
   "metadata": {
    "execution": {
     "iopub.execute_input": "2022-11-26T14:30:45.754814Z",
     "iopub.status.busy": "2022-11-26T14:30:45.754607Z",
     "iopub.status.idle": "2022-11-26T14:30:45.803668Z",
     "shell.execute_reply": "2022-11-26T14:30:45.803273Z"
    },
    "papermill": {
     "duration": 0.065592,
     "end_time": "2022-11-26T14:30:45.804528",
     "exception": false,
     "start_time": "2022-11-26T14:30:45.738936",
     "status": "completed"
    },
    "tags": []
   },
   "outputs": [],
   "source": [
    "# no partition has negative clusters (noisy points)\n",
    "assert not np.any([(part[\"partition\"] < 0).any() for idx, part in ensemble.iterrows()])"
   ]
  },
  {
   "cell_type": "markdown",
   "id": "be56bd86",
   "metadata": {
    "papermill": {
     "duration": 0.015249,
     "end_time": "2022-11-26T14:30:45.834923",
     "exception": false,
     "start_time": "2022-11-26T14:30:45.819674",
     "status": "completed"
    },
    "tags": []
   },
   "source": [
    "## Add clustering quality measures"
   ]
  },
  {
   "cell_type": "code",
   "execution_count": 35,
   "id": "3789c847",
   "metadata": {
    "execution": {
     "iopub.execute_input": "2022-11-26T14:30:45.865782Z",
     "iopub.status.busy": "2022-11-26T14:30:45.865615Z",
     "iopub.status.idle": "2022-11-26T14:30:45.886208Z",
     "shell.execute_reply": "2022-11-26T14:30:45.885852Z"
    },
    "papermill": {
     "duration": 0.037494,
     "end_time": "2022-11-26T14:30:45.887417",
     "exception": false,
     "start_time": "2022-11-26T14:30:45.849923",
     "status": "completed"
    },
    "tags": []
   },
   "outputs": [],
   "source": [
    "from sklearn.metrics import calinski_harabasz_score"
   ]
  },
  {
   "cell_type": "code",
   "execution_count": 36,
   "id": "20a6e027",
   "metadata": {
    "execution": {
     "iopub.execute_input": "2022-11-26T14:30:45.940849Z",
     "iopub.status.busy": "2022-11-26T14:30:45.940691Z",
     "iopub.status.idle": "2022-11-26T14:30:46.663034Z",
     "shell.execute_reply": "2022-11-26T14:30:46.662665Z"
    },
    "papermill": {
     "duration": 0.748854,
     "end_time": "2022-11-26T14:30:46.664587",
     "exception": false,
     "start_time": "2022-11-26T14:30:45.915733",
     "status": "completed"
    },
    "tags": []
   },
   "outputs": [],
   "source": [
    "ensemble = ensemble.assign(\n",
    "    ch_score=ensemble[\"partition\"].apply(lambda x: calinski_harabasz_score(data, x))\n",
    ")"
   ]
  },
  {
   "cell_type": "code",
   "execution_count": 37,
   "id": "dbb85abc",
   "metadata": {
    "execution": {
     "iopub.execute_input": "2022-11-26T14:30:46.696534Z",
     "iopub.status.busy": "2022-11-26T14:30:46.696289Z",
     "iopub.status.idle": "2022-11-26T14:30:46.714771Z",
     "shell.execute_reply": "2022-11-26T14:30:46.714392Z"
    },
    "papermill": {
     "duration": 0.035161,
     "end_time": "2022-11-26T14:30:46.715516",
     "exception": false,
     "start_time": "2022-11-26T14:30:46.680355",
     "status": "completed"
    },
    "tags": []
   },
   "outputs": [
    {
     "data": {
      "text/plain": [
       "(295, 4)"
      ]
     },
     "execution_count": 37,
     "metadata": {},
     "output_type": "execute_result"
    }
   ],
   "source": [
    "ensemble.shape"
   ]
  },
  {
   "cell_type": "code",
   "execution_count": 38,
   "id": "3bb3b1bd",
   "metadata": {
    "execution": {
     "iopub.execute_input": "2022-11-26T14:30:46.747211Z",
     "iopub.status.busy": "2022-11-26T14:30:46.746866Z",
     "iopub.status.idle": "2022-11-26T14:30:46.780555Z",
     "shell.execute_reply": "2022-11-26T14:30:46.780124Z"
    },
    "papermill": {
     "duration": 0.050181,
     "end_time": "2022-11-26T14:30:46.781369",
     "exception": false,
     "start_time": "2022-11-26T14:30:46.731188",
     "status": "completed"
    },
    "tags": []
   },
   "outputs": [
    {
     "data": {
      "text/html": [
       "<div>\n",
       "<style scoped>\n",
       "    .dataframe tbody tr th:only-of-type {\n",
       "        vertical-align: middle;\n",
       "    }\n",
       "\n",
       "    .dataframe tbody tr th {\n",
       "        vertical-align: top;\n",
       "    }\n",
       "\n",
       "    .dataframe thead th {\n",
       "        text-align: right;\n",
       "    }\n",
       "</style>\n",
       "<table border=\"1\" class=\"dataframe\">\n",
       "  <thead>\n",
       "    <tr style=\"text-align: right;\">\n",
       "      <th></th>\n",
       "      <th>clusterer_params</th>\n",
       "      <th>partition</th>\n",
       "      <th>n_clusters</th>\n",
       "      <th>ch_score</th>\n",
       "    </tr>\n",
       "    <tr>\n",
       "      <th>clusterer_id</th>\n",
       "      <th></th>\n",
       "      <th></th>\n",
       "      <th></th>\n",
       "      <th></th>\n",
       "    </tr>\n",
       "  </thead>\n",
       "  <tbody>\n",
       "    <tr>\n",
       "      <th>GaussianMixture #0</th>\n",
       "      <td>{'covariance_type': 'full', 'init_params': 'km...</td>\n",
       "      <td>[0.0, 0.0, 0.0, 0.0, 0.0, 0.0, 0.0, 0.0, 0.0, ...</td>\n",
       "      <td>2</td>\n",
       "      <td>2056.625113</td>\n",
       "    </tr>\n",
       "    <tr>\n",
       "      <th>GaussianMixture #1</th>\n",
       "      <td>{'covariance_type': 'full', 'init_params': 'km...</td>\n",
       "      <td>[1.0, 1.0, 1.0, 1.0, 1.0, 1.0, 1.0, 1.0, 1.0, ...</td>\n",
       "      <td>2</td>\n",
       "      <td>2056.625113</td>\n",
       "    </tr>\n",
       "    <tr>\n",
       "      <th>GaussianMixture #2</th>\n",
       "      <td>{'covariance_type': 'full', 'init_params': 'km...</td>\n",
       "      <td>[1.0, 1.0, 1.0, 1.0, 1.0, 1.0, 1.0, 1.0, 1.0, ...</td>\n",
       "      <td>2</td>\n",
       "      <td>2056.625113</td>\n",
       "    </tr>\n",
       "    <tr>\n",
       "      <th>GaussianMixture #3</th>\n",
       "      <td>{'covariance_type': 'full', 'init_params': 'km...</td>\n",
       "      <td>[1.0, 1.0, 1.0, 1.0, 1.0, 1.0, 1.0, 1.0, 1.0, ...</td>\n",
       "      <td>2</td>\n",
       "      <td>2056.625113</td>\n",
       "    </tr>\n",
       "    <tr>\n",
       "      <th>GaussianMixture #4</th>\n",
       "      <td>{'covariance_type': 'full', 'init_params': 'km...</td>\n",
       "      <td>[0.0, 0.0, 0.0, 0.0, 0.0, 0.0, 0.0, 0.0, 0.0, ...</td>\n",
       "      <td>2</td>\n",
       "      <td>2056.625113</td>\n",
       "    </tr>\n",
       "  </tbody>\n",
       "</table>\n",
       "</div>"
      ],
      "text/plain": [
       "                                                     clusterer_params  \\\n",
       "clusterer_id                                                            \n",
       "GaussianMixture #0  {'covariance_type': 'full', 'init_params': 'km...   \n",
       "GaussianMixture #1  {'covariance_type': 'full', 'init_params': 'km...   \n",
       "GaussianMixture #2  {'covariance_type': 'full', 'init_params': 'km...   \n",
       "GaussianMixture #3  {'covariance_type': 'full', 'init_params': 'km...   \n",
       "GaussianMixture #4  {'covariance_type': 'full', 'init_params': 'km...   \n",
       "\n",
       "                                                            partition  \\\n",
       "clusterer_id                                                            \n",
       "GaussianMixture #0  [0.0, 0.0, 0.0, 0.0, 0.0, 0.0, 0.0, 0.0, 0.0, ...   \n",
       "GaussianMixture #1  [1.0, 1.0, 1.0, 1.0, 1.0, 1.0, 1.0, 1.0, 1.0, ...   \n",
       "GaussianMixture #2  [1.0, 1.0, 1.0, 1.0, 1.0, 1.0, 1.0, 1.0, 1.0, ...   \n",
       "GaussianMixture #3  [1.0, 1.0, 1.0, 1.0, 1.0, 1.0, 1.0, 1.0, 1.0, ...   \n",
       "GaussianMixture #4  [0.0, 0.0, 0.0, 0.0, 0.0, 0.0, 0.0, 0.0, 0.0, ...   \n",
       "\n",
       "                    n_clusters     ch_score  \n",
       "clusterer_id                                 \n",
       "GaussianMixture #0           2  2056.625113  \n",
       "GaussianMixture #1           2  2056.625113  \n",
       "GaussianMixture #2           2  2056.625113  \n",
       "GaussianMixture #3           2  2056.625113  \n",
       "GaussianMixture #4           2  2056.625113  "
      ]
     },
     "execution_count": 38,
     "metadata": {},
     "output_type": "execute_result"
    }
   ],
   "source": [
    "ensemble.head()"
   ]
  },
  {
   "cell_type": "markdown",
   "id": "d5672a74",
   "metadata": {
    "papermill": {
     "duration": 0.015184,
     "end_time": "2022-11-26T14:30:46.812449",
     "exception": false,
     "start_time": "2022-11-26T14:30:46.797265",
     "status": "completed"
    },
    "tags": []
   },
   "source": [
    "## Save"
   ]
  },
  {
   "cell_type": "code",
   "execution_count": 39,
   "id": "08fa1af0",
   "metadata": {
    "execution": {
     "iopub.execute_input": "2022-11-26T14:30:46.843852Z",
     "iopub.status.busy": "2022-11-26T14:30:46.843514Z",
     "iopub.status.idle": "2022-11-26T14:30:46.866027Z",
     "shell.execute_reply": "2022-11-26T14:30:46.865600Z"
    },
    "papermill": {
     "duration": 0.039064,
     "end_time": "2022-11-26T14:30:46.866848",
     "exception": false,
     "start_time": "2022-11-26T14:30:46.827784",
     "status": "completed"
    },
    "tags": []
   },
   "outputs": [
    {
     "data": {
      "text/plain": [
       "PosixPath('/opt/data/results/clustering/null_sims/shuffle_lvs/runs/umap-z_score_std-projection-smultixcan-efo_partial-mashr-zscores/GaussianMixture-COVARIANCE_TYPE_full-K_MAX_60-K_MIN_2-N_INIT_10-N_REPS_PER_K_5.pkl')"
      ]
     },
     "metadata": {},
     "output_type": "display_data"
    }
   ],
   "source": [
    "output_filename = Path(\n",
    "    RESULTS_DIR,\n",
    "    generate_result_set_name(\n",
    "        CLUSTERING_OPTIONS,\n",
    "        prefix=f\"{clustering_method_name}-\",\n",
    "        suffix=\".pkl\",\n",
    "    ),\n",
    ").resolve()\n",
    "display(output_filename)"
   ]
  },
  {
   "cell_type": "code",
   "execution_count": 40,
   "id": "7c4c78e7",
   "metadata": {
    "execution": {
     "iopub.execute_input": "2022-11-26T14:30:46.898959Z",
     "iopub.status.busy": "2022-11-26T14:30:46.898640Z",
     "iopub.status.idle": "2022-11-26T14:30:46.938951Z",
     "shell.execute_reply": "2022-11-26T14:30:46.938458Z"
    },
    "papermill": {
     "duration": 0.057297,
     "end_time": "2022-11-26T14:30:46.939989",
     "exception": false,
     "start_time": "2022-11-26T14:30:46.882692",
     "status": "completed"
    },
    "tags": []
   },
   "outputs": [],
   "source": [
    "ensemble.to_pickle(output_filename)"
   ]
  },
  {
   "cell_type": "markdown",
   "id": "15a3be9a",
   "metadata": {
    "papermill": {
     "duration": 0.015344,
     "end_time": "2022-11-26T14:30:46.971122",
     "exception": false,
     "start_time": "2022-11-26T14:30:46.955778",
     "status": "completed"
    },
    "tags": []
   },
   "source": [
    "# Cluster quality"
   ]
  },
  {
   "cell_type": "code",
   "execution_count": 41,
   "id": "d889f4a4",
   "metadata": {
    "execution": {
     "iopub.execute_input": "2022-11-26T14:30:47.002823Z",
     "iopub.status.busy": "2022-11-26T14:30:47.002476Z",
     "iopub.status.idle": "2022-11-26T14:30:47.031314Z",
     "shell.execute_reply": "2022-11-26T14:30:47.030891Z"
    },
    "papermill": {
     "duration": 0.04554,
     "end_time": "2022-11-26T14:30:47.032102",
     "exception": false,
     "start_time": "2022-11-26T14:30:46.986562",
     "status": "completed"
    },
    "tags": []
   },
   "outputs": [
    {
     "data": {
      "text/html": [
       "<div>\n",
       "<style scoped>\n",
       "    .dataframe tbody tr th:only-of-type {\n",
       "        vertical-align: middle;\n",
       "    }\n",
       "\n",
       "    .dataframe tbody tr th {\n",
       "        vertical-align: top;\n",
       "    }\n",
       "\n",
       "    .dataframe thead th {\n",
       "        text-align: right;\n",
       "    }\n",
       "</style>\n",
       "<table border=\"1\" class=\"dataframe\">\n",
       "  <thead>\n",
       "    <tr style=\"text-align: right;\">\n",
       "      <th></th>\n",
       "      <th>ch_score</th>\n",
       "    </tr>\n",
       "    <tr>\n",
       "      <th>n_clusters</th>\n",
       "      <th></th>\n",
       "    </tr>\n",
       "  </thead>\n",
       "  <tbody>\n",
       "    <tr>\n",
       "      <th>2</th>\n",
       "      <td>2056.625113</td>\n",
       "    </tr>\n",
       "    <tr>\n",
       "      <th>3</th>\n",
       "      <td>2519.418943</td>\n",
       "    </tr>\n",
       "    <tr>\n",
       "      <th>4</th>\n",
       "      <td>2879.211223</td>\n",
       "    </tr>\n",
       "    <tr>\n",
       "      <th>5</th>\n",
       "      <td>2950.532753</td>\n",
       "    </tr>\n",
       "    <tr>\n",
       "      <th>6</th>\n",
       "      <td>3271.162795</td>\n",
       "    </tr>\n",
       "    <tr>\n",
       "      <th>7</th>\n",
       "      <td>3174.627145</td>\n",
       "    </tr>\n",
       "    <tr>\n",
       "      <th>8</th>\n",
       "      <td>3369.413328</td>\n",
       "    </tr>\n",
       "    <tr>\n",
       "      <th>9</th>\n",
       "      <td>3408.150272</td>\n",
       "    </tr>\n",
       "    <tr>\n",
       "      <th>10</th>\n",
       "      <td>3526.445376</td>\n",
       "    </tr>\n",
       "    <tr>\n",
       "      <th>11</th>\n",
       "      <td>3650.207092</td>\n",
       "    </tr>\n",
       "    <tr>\n",
       "      <th>12</th>\n",
       "      <td>3646.967259</td>\n",
       "    </tr>\n",
       "    <tr>\n",
       "      <th>13</th>\n",
       "      <td>3796.737759</td>\n",
       "    </tr>\n",
       "    <tr>\n",
       "      <th>14</th>\n",
       "      <td>3884.189600</td>\n",
       "    </tr>\n",
       "    <tr>\n",
       "      <th>15</th>\n",
       "      <td>3965.283564</td>\n",
       "    </tr>\n",
       "    <tr>\n",
       "      <th>16</th>\n",
       "      <td>4017.652900</td>\n",
       "    </tr>\n",
       "    <tr>\n",
       "      <th>17</th>\n",
       "      <td>4072.168670</td>\n",
       "    </tr>\n",
       "    <tr>\n",
       "      <th>18</th>\n",
       "      <td>4200.851911</td>\n",
       "    </tr>\n",
       "    <tr>\n",
       "      <th>19</th>\n",
       "      <td>4194.997963</td>\n",
       "    </tr>\n",
       "    <tr>\n",
       "      <th>20</th>\n",
       "      <td>4241.330057</td>\n",
       "    </tr>\n",
       "    <tr>\n",
       "      <th>21</th>\n",
       "      <td>4223.869220</td>\n",
       "    </tr>\n",
       "    <tr>\n",
       "      <th>22</th>\n",
       "      <td>4270.014564</td>\n",
       "    </tr>\n",
       "    <tr>\n",
       "      <th>23</th>\n",
       "      <td>4298.970080</td>\n",
       "    </tr>\n",
       "    <tr>\n",
       "      <th>24</th>\n",
       "      <td>4334.869223</td>\n",
       "    </tr>\n",
       "    <tr>\n",
       "      <th>25</th>\n",
       "      <td>4351.671004</td>\n",
       "    </tr>\n",
       "    <tr>\n",
       "      <th>26</th>\n",
       "      <td>4398.337892</td>\n",
       "    </tr>\n",
       "    <tr>\n",
       "      <th>27</th>\n",
       "      <td>4447.241360</td>\n",
       "    </tr>\n",
       "    <tr>\n",
       "      <th>28</th>\n",
       "      <td>4475.651853</td>\n",
       "    </tr>\n",
       "    <tr>\n",
       "      <th>29</th>\n",
       "      <td>4517.778019</td>\n",
       "    </tr>\n",
       "    <tr>\n",
       "      <th>30</th>\n",
       "      <td>4470.843794</td>\n",
       "    </tr>\n",
       "    <tr>\n",
       "      <th>31</th>\n",
       "      <td>4570.066421</td>\n",
       "    </tr>\n",
       "    <tr>\n",
       "      <th>32</th>\n",
       "      <td>4697.865860</td>\n",
       "    </tr>\n",
       "    <tr>\n",
       "      <th>33</th>\n",
       "      <td>4729.165771</td>\n",
       "    </tr>\n",
       "    <tr>\n",
       "      <th>34</th>\n",
       "      <td>4747.440128</td>\n",
       "    </tr>\n",
       "    <tr>\n",
       "      <th>35</th>\n",
       "      <td>4761.087122</td>\n",
       "    </tr>\n",
       "    <tr>\n",
       "      <th>36</th>\n",
       "      <td>4817.444024</td>\n",
       "    </tr>\n",
       "    <tr>\n",
       "      <th>37</th>\n",
       "      <td>4825.163863</td>\n",
       "    </tr>\n",
       "    <tr>\n",
       "      <th>38</th>\n",
       "      <td>4832.711322</td>\n",
       "    </tr>\n",
       "    <tr>\n",
       "      <th>39</th>\n",
       "      <td>4851.554591</td>\n",
       "    </tr>\n",
       "    <tr>\n",
       "      <th>40</th>\n",
       "      <td>4877.262176</td>\n",
       "    </tr>\n",
       "    <tr>\n",
       "      <th>41</th>\n",
       "      <td>4873.917722</td>\n",
       "    </tr>\n",
       "    <tr>\n",
       "      <th>42</th>\n",
       "      <td>4837.873714</td>\n",
       "    </tr>\n",
       "    <tr>\n",
       "      <th>43</th>\n",
       "      <td>4863.809457</td>\n",
       "    </tr>\n",
       "    <tr>\n",
       "      <th>44</th>\n",
       "      <td>4899.367602</td>\n",
       "    </tr>\n",
       "    <tr>\n",
       "      <th>45</th>\n",
       "      <td>4879.227204</td>\n",
       "    </tr>\n",
       "    <tr>\n",
       "      <th>46</th>\n",
       "      <td>4901.189062</td>\n",
       "    </tr>\n",
       "    <tr>\n",
       "      <th>47</th>\n",
       "      <td>4918.023141</td>\n",
       "    </tr>\n",
       "    <tr>\n",
       "      <th>48</th>\n",
       "      <td>4874.843854</td>\n",
       "    </tr>\n",
       "    <tr>\n",
       "      <th>49</th>\n",
       "      <td>4865.472567</td>\n",
       "    </tr>\n",
       "    <tr>\n",
       "      <th>50</th>\n",
       "      <td>4835.434299</td>\n",
       "    </tr>\n",
       "    <tr>\n",
       "      <th>51</th>\n",
       "      <td>4835.454619</td>\n",
       "    </tr>\n",
       "    <tr>\n",
       "      <th>52</th>\n",
       "      <td>4819.888380</td>\n",
       "    </tr>\n",
       "    <tr>\n",
       "      <th>53</th>\n",
       "      <td>4807.538368</td>\n",
       "    </tr>\n",
       "    <tr>\n",
       "      <th>54</th>\n",
       "      <td>4749.657633</td>\n",
       "    </tr>\n",
       "    <tr>\n",
       "      <th>55</th>\n",
       "      <td>4769.958742</td>\n",
       "    </tr>\n",
       "    <tr>\n",
       "      <th>56</th>\n",
       "      <td>4762.456475</td>\n",
       "    </tr>\n",
       "    <tr>\n",
       "      <th>57</th>\n",
       "      <td>4712.524641</td>\n",
       "    </tr>\n",
       "    <tr>\n",
       "      <th>58</th>\n",
       "      <td>4699.016130</td>\n",
       "    </tr>\n",
       "    <tr>\n",
       "      <th>59</th>\n",
       "      <td>4680.683392</td>\n",
       "    </tr>\n",
       "    <tr>\n",
       "      <th>60</th>\n",
       "      <td>4641.405743</td>\n",
       "    </tr>\n",
       "  </tbody>\n",
       "</table>\n",
       "</div>"
      ],
      "text/plain": [
       "               ch_score\n",
       "n_clusters             \n",
       "2           2056.625113\n",
       "3           2519.418943\n",
       "4           2879.211223\n",
       "5           2950.532753\n",
       "6           3271.162795\n",
       "7           3174.627145\n",
       "8           3369.413328\n",
       "9           3408.150272\n",
       "10          3526.445376\n",
       "11          3650.207092\n",
       "12          3646.967259\n",
       "13          3796.737759\n",
       "14          3884.189600\n",
       "15          3965.283564\n",
       "16          4017.652900\n",
       "17          4072.168670\n",
       "18          4200.851911\n",
       "19          4194.997963\n",
       "20          4241.330057\n",
       "21          4223.869220\n",
       "22          4270.014564\n",
       "23          4298.970080\n",
       "24          4334.869223\n",
       "25          4351.671004\n",
       "26          4398.337892\n",
       "27          4447.241360\n",
       "28          4475.651853\n",
       "29          4517.778019\n",
       "30          4470.843794\n",
       "31          4570.066421\n",
       "32          4697.865860\n",
       "33          4729.165771\n",
       "34          4747.440128\n",
       "35          4761.087122\n",
       "36          4817.444024\n",
       "37          4825.163863\n",
       "38          4832.711322\n",
       "39          4851.554591\n",
       "40          4877.262176\n",
       "41          4873.917722\n",
       "42          4837.873714\n",
       "43          4863.809457\n",
       "44          4899.367602\n",
       "45          4879.227204\n",
       "46          4901.189062\n",
       "47          4918.023141\n",
       "48          4874.843854\n",
       "49          4865.472567\n",
       "50          4835.434299\n",
       "51          4835.454619\n",
       "52          4819.888380\n",
       "53          4807.538368\n",
       "54          4749.657633\n",
       "55          4769.958742\n",
       "56          4762.456475\n",
       "57          4712.524641\n",
       "58          4699.016130\n",
       "59          4680.683392\n",
       "60          4641.405743"
      ]
     },
     "metadata": {},
     "output_type": "display_data"
    }
   ],
   "source": [
    "with pd.option_context(\"display.max_rows\", None, \"display.max_columns\", None):\n",
    "    _df = ensemble.groupby([\"n_clusters\"]).mean()\n",
    "    display(_df)"
   ]
  },
  {
   "cell_type": "code",
   "execution_count": 42,
   "id": "e348f467",
   "metadata": {
    "execution": {
     "iopub.execute_input": "2022-11-26T14:30:47.064723Z",
     "iopub.status.busy": "2022-11-26T14:30:47.064405Z",
     "iopub.status.idle": "2022-11-26T14:30:49.173779Z",
     "shell.execute_reply": "2022-11-26T14:30:49.173441Z"
    },
    "papermill": {
     "duration": 2.127621,
     "end_time": "2022-11-26T14:30:49.175708",
     "exception": false,
     "start_time": "2022-11-26T14:30:47.048087",
     "status": "completed"
    },
    "tags": []
   },
   "outputs": [
    {
     "data": {
      "image/png": "[encoded data removed]",
      "text/plain": [
       "<Figure size 1008x432 with 1 Axes>"
      ]
     },
     "metadata": {},
     "output_type": "display_data"
    }
   ],
   "source": [
    "with sns.plotting_context(\"talk\", font_scale=0.75), sns.axes_style(\n",
    "    \"whitegrid\", {\"grid.linestyle\": \"--\"}\n",
    "):\n",
    "    fig = plt.figure(figsize=(14, 6))\n",
    "    ax = sns.pointplot(data=ensemble, x=\"n_clusters\", y=\"ch_score\")\n",
    "    ax.set_ylabel(\"Calinski-Harabasz index\")\n",
    "    ax.set_xlabel(\"Number of clusters ($k$)\")\n",
    "    ax.set_xticklabels(ax.get_xticklabels(), rotation=45)\n",
    "    plt.grid(True)\n",
    "    plt.tight_layout()"
   ]
  },
  {
   "cell_type": "markdown",
   "id": "1a8318c4",
   "metadata": {
    "papermill": {
     "duration": 0.030471,
     "end_time": "2022-11-26T14:30:49.239131",
     "exception": false,
     "start_time": "2022-11-26T14:30:49.208660",
     "status": "completed"
    },
    "tags": []
   },
   "source": [
    "# Stability"
   ]
  },
  {
   "cell_type": "markdown",
   "id": "b6e9954d",
   "metadata": {
    "papermill": {
     "duration": 0.015792,
     "end_time": "2022-11-26T14:30:49.279205",
     "exception": false,
     "start_time": "2022-11-26T14:30:49.263413",
     "status": "completed"
    },
    "tags": []
   },
   "source": [
    "## Group ensemble by n_clusters"
   ]
  },
  {
   "cell_type": "code",
   "execution_count": 43,
   "id": "1db60b69",
   "metadata": {
    "execution": {
     "iopub.execute_input": "2022-11-26T14:30:49.312536Z",
     "iopub.status.busy": "2022-11-26T14:30:49.312104Z",
     "iopub.status.idle": "2022-11-26T14:30:49.353379Z",
     "shell.execute_reply": "2022-11-26T14:30:49.352933Z"
    },
    "papermill": {
     "duration": 0.059194,
     "end_time": "2022-11-26T14:30:49.354410",
     "exception": false,
     "start_time": "2022-11-26T14:30:49.295216",
     "status": "completed"
    },
    "tags": []
   },
   "outputs": [],
   "source": [
    "parts = ensemble.groupby(\"n_clusters\").apply(\n",
    "    lambda x: np.concatenate(x[\"partition\"].apply(lambda x: x.reshape(1, -1)), axis=0)\n",
    ")"
   ]
  },
  {
   "cell_type": "code",
   "execution_count": 44,
   "id": "bbce47da",
   "metadata": {
    "execution": {
     "iopub.execute_input": "2022-11-26T14:30:49.388503Z",
     "iopub.status.busy": "2022-11-26T14:30:49.388134Z",
     "iopub.status.idle": "2022-11-26T14:30:49.428167Z",
     "shell.execute_reply": "2022-11-26T14:30:49.427769Z"
    },
    "papermill": {
     "duration": 0.057664,
     "end_time": "2022-11-26T14:30:49.428979",
     "exception": false,
     "start_time": "2022-11-26T14:30:49.371315",
     "status": "completed"
    },
    "tags": []
   },
   "outputs": [
    {
     "data": {
      "text/plain": [
       "n_clusters\n",
       "2    [[0.0, 0.0, 0.0, 0.0, 0.0, 0.0, 0.0, 0.0, 0.0,...\n",
       "3    [[1.0, 1.0, 1.0, 1.0, 1.0, 1.0, 1.0, 1.0, 1.0,...\n",
       "4    [[1.0, 1.0, 1.0, 1.0, 1.0, 1.0, 1.0, 1.0, 1.0,...\n",
       "5    [[0.0, 0.0, 0.0, 0.0, 0.0, 0.0, 0.0, 0.0, 0.0,...\n",
       "6    [[1.0, 1.0, 1.0, 1.0, 1.0, 1.0, 1.0, 1.0, 1.0,...\n",
       "dtype: object"
      ]
     },
     "execution_count": 44,
     "metadata": {},
     "output_type": "execute_result"
    }
   ],
   "source": [
    "parts.head()"
   ]
  },
  {
   "cell_type": "code",
   "execution_count": 45,
   "id": "eac62cb4",
   "metadata": {
    "execution": {
     "iopub.execute_input": "2022-11-26T14:30:49.463237Z",
     "iopub.status.busy": "2022-11-26T14:30:49.462884Z",
     "iopub.status.idle": "2022-11-26T14:30:49.485155Z",
     "shell.execute_reply": "2022-11-26T14:30:49.484715Z"
    },
    "papermill": {
     "duration": 0.04023,
     "end_time": "2022-11-26T14:30:49.486000",
     "exception": false,
     "start_time": "2022-11-26T14:30:49.445770",
     "status": "completed"
    },
    "tags": []
   },
   "outputs": [],
   "source": [
    "assert np.all(\n",
    "    [\n",
    "        parts.loc[k].shape == (CLUSTERING_OPTIONS[\"N_REPS_PER_K\"], data.shape[0])\n",
    "        for k in parts.index\n",
    "    ]\n",
    ")"
   ]
  },
  {
   "cell_type": "markdown",
   "id": "cae052c7",
   "metadata": {
    "papermill": {
     "duration": 0.016148,
     "end_time": "2022-11-26T14:30:49.519024",
     "exception": false,
     "start_time": "2022-11-26T14:30:49.502876",
     "status": "completed"
    },
    "tags": []
   },
   "source": [
    "## Compute stability"
   ]
  },
  {
   "cell_type": "code",
   "execution_count": 46,
   "id": "518567a5",
   "metadata": {
    "execution": {
     "iopub.execute_input": "2022-11-26T14:30:49.552043Z",
     "iopub.status.busy": "2022-11-26T14:30:49.551746Z",
     "iopub.status.idle": "2022-11-26T14:30:49.572395Z",
     "shell.execute_reply": "2022-11-26T14:30:49.571991Z"
    },
    "papermill": {
     "duration": 0.038283,
     "end_time": "2022-11-26T14:30:49.573275",
     "exception": false,
     "start_time": "2022-11-26T14:30:49.534992",
     "status": "completed"
    },
    "tags": []
   },
   "outputs": [],
   "source": [
    "from sklearn.metrics import adjusted_rand_score as ari\n",
    "from scipy.spatial.distance import pdist"
   ]
  },
  {
   "cell_type": "code",
   "execution_count": 47,
   "id": "75c9cf56",
   "metadata": {
    "execution": {
     "iopub.execute_input": "2022-11-26T14:30:49.607081Z",
     "iopub.status.busy": "2022-11-26T14:30:49.606786Z",
     "iopub.status.idle": "2022-11-26T14:30:50.062144Z",
     "shell.execute_reply": "2022-11-26T14:30:50.061816Z"
    },
    "papermill": {
     "duration": 0.473484,
     "end_time": "2022-11-26T14:30:50.063511",
     "exception": false,
     "start_time": "2022-11-26T14:30:49.590027",
     "status": "completed"
    },
    "tags": []
   },
   "outputs": [],
   "source": [
    "parts_ari = pd.Series(\n",
    "    {k: pdist(parts.loc[k], metric=ari) for k in parts.index}, name=\"k\"\n",
    ")"
   ]
  },
  {
   "cell_type": "code",
   "execution_count": 48,
   "id": "7236a9fb",
   "metadata": {
    "execution": {
     "iopub.execute_input": "2022-11-26T14:30:50.097974Z",
     "iopub.status.busy": "2022-11-26T14:30:50.097741Z",
     "iopub.status.idle": "2022-11-26T14:30:50.112420Z",
     "shell.execute_reply": "2022-11-26T14:30:50.112038Z"
    },
    "papermill": {
     "duration": 0.032076,
     "end_time": "2022-11-26T14:30:50.113117",
     "exception": false,
     "start_time": "2022-11-26T14:30:50.081041",
     "status": "completed"
    },
    "tags": []
   },
   "outputs": [
    {
     "data": {
      "text/plain": [
       "2     1.000000\n",
       "3     1.000000\n",
       "4     1.000000\n",
       "6     0.998206\n",
       "8     0.994356\n",
       "5     0.990827\n",
       "14    0.972458\n",
       "15    0.927688\n",
       "11    0.916702\n",
       "18    0.882063\n",
       "10    0.871317\n",
       "7     0.860063\n",
       "13    0.846216\n",
       "20    0.822290\n",
       "19    0.821152\n",
       "Name: k, dtype: float64"
      ]
     },
     "metadata": {},
     "output_type": "display_data"
    }
   ],
   "source": [
    "parts_ari_stability = parts_ari.apply(lambda x: x.mean())\n",
    "display(parts_ari_stability.sort_values(ascending=False).head(15))"
   ]
  },
  {
   "cell_type": "code",
   "execution_count": 49,
   "id": "7ee84b0f",
   "metadata": {
    "execution": {
     "iopub.execute_input": "2022-11-26T14:30:50.146377Z",
     "iopub.status.busy": "2022-11-26T14:30:50.146283Z",
     "iopub.status.idle": "2022-11-26T14:30:50.164494Z",
     "shell.execute_reply": "2022-11-26T14:30:50.164092Z"
    },
    "papermill": {
     "duration": 0.03541,
     "end_time": "2022-11-26T14:30:50.165301",
     "exception": false,
     "start_time": "2022-11-26T14:30:50.129891",
     "status": "completed"
    },
    "tags": []
   },
   "outputs": [],
   "source": [
    "parts_ari_df = pd.DataFrame.from_records(parts_ari.tolist()).set_index(\n",
    "    parts_ari.index.copy()\n",
    ")"
   ]
  },
  {
   "cell_type": "code",
   "execution_count": 50,
   "id": "7b368012",
   "metadata": {
    "execution": {
     "iopub.execute_input": "2022-11-26T14:30:50.199091Z",
     "iopub.status.busy": "2022-11-26T14:30:50.198829Z",
     "iopub.status.idle": "2022-11-26T14:30:50.220181Z",
     "shell.execute_reply": "2022-11-26T14:30:50.219750Z"
    },
    "papermill": {
     "duration": 0.038911,
     "end_time": "2022-11-26T14:30:50.221000",
     "exception": false,
     "start_time": "2022-11-26T14:30:50.182089",
     "status": "completed"
    },
    "tags": []
   },
   "outputs": [
    {
     "data": {
      "text/plain": [
       "(59, 10)"
      ]
     },
     "execution_count": 50,
     "metadata": {},
     "output_type": "execute_result"
    }
   ],
   "source": [
    "parts_ari_df.shape"
   ]
  },
  {
   "cell_type": "code",
   "execution_count": 51,
   "id": "dfab87b1",
   "metadata": {
    "execution": {
     "iopub.execute_input": "2022-11-26T14:30:50.254814Z",
     "iopub.status.busy": "2022-11-26T14:30:50.254499Z",
     "iopub.status.idle": "2022-11-26T14:30:50.275699Z",
     "shell.execute_reply": "2022-11-26T14:30:50.275246Z"
    },
    "papermill": {
     "duration": 0.038635,
     "end_time": "2022-11-26T14:30:50.276551",
     "exception": false,
     "start_time": "2022-11-26T14:30:50.237916",
     "status": "completed"
    },
    "tags": []
   },
   "outputs": [],
   "source": [
    "assert (\n",
    "    int(\n",
    "        (CLUSTERING_OPTIONS[\"N_REPS_PER_K\"] * (CLUSTERING_OPTIONS[\"N_REPS_PER_K\"] - 1))\n",
    "        / 2\n",
    "    )\n",
    "    == parts_ari_df.shape[1]\n",
    ")"
   ]
  },
  {
   "cell_type": "code",
   "execution_count": 52,
   "id": "389ab608",
   "metadata": {
    "execution": {
     "iopub.execute_input": "2022-11-26T14:30:50.310497Z",
     "iopub.status.busy": "2022-11-26T14:30:50.310169Z",
     "iopub.status.idle": "2022-11-26T14:30:50.339725Z",
     "shell.execute_reply": "2022-11-26T14:30:50.339294Z"
    },
    "papermill": {
     "duration": 0.047034,
     "end_time": "2022-11-26T14:30:50.340541",
     "exception": false,
     "start_time": "2022-11-26T14:30:50.293507",
     "status": "completed"
    },
    "tags": []
   },
   "outputs": [
    {
     "data": {
      "text/html": [
       "<div>\n",
       "<style scoped>\n",
       "    .dataframe tbody tr th:only-of-type {\n",
       "        vertical-align: middle;\n",
       "    }\n",
       "\n",
       "    .dataframe tbody tr th {\n",
       "        vertical-align: top;\n",
       "    }\n",
       "\n",
       "    .dataframe thead th {\n",
       "        text-align: right;\n",
       "    }\n",
       "</style>\n",
       "<table border=\"1\" class=\"dataframe\">\n",
       "  <thead>\n",
       "    <tr style=\"text-align: right;\">\n",
       "      <th></th>\n",
       "      <th>0</th>\n",
       "      <th>1</th>\n",
       "      <th>2</th>\n",
       "      <th>3</th>\n",
       "      <th>4</th>\n",
       "      <th>5</th>\n",
       "      <th>6</th>\n",
       "      <th>7</th>\n",
       "      <th>8</th>\n",
       "      <th>9</th>\n",
       "    </tr>\n",
       "  </thead>\n",
       "  <tbody>\n",
       "    <tr>\n",
       "      <th>2</th>\n",
       "      <td>1.0</td>\n",
       "      <td>1.000000</td>\n",
       "      <td>1.000000</td>\n",
       "      <td>1.000000</td>\n",
       "      <td>1.000000</td>\n",
       "      <td>1.000000</td>\n",
       "      <td>1.000000</td>\n",
       "      <td>1.000000</td>\n",
       "      <td>1.000000</td>\n",
       "      <td>1.000000</td>\n",
       "    </tr>\n",
       "    <tr>\n",
       "      <th>3</th>\n",
       "      <td>1.0</td>\n",
       "      <td>1.000000</td>\n",
       "      <td>1.000000</td>\n",
       "      <td>1.000000</td>\n",
       "      <td>1.000000</td>\n",
       "      <td>1.000000</td>\n",
       "      <td>1.000000</td>\n",
       "      <td>1.000000</td>\n",
       "      <td>1.000000</td>\n",
       "      <td>1.000000</td>\n",
       "    </tr>\n",
       "    <tr>\n",
       "      <th>4</th>\n",
       "      <td>1.0</td>\n",
       "      <td>1.000000</td>\n",
       "      <td>1.000000</td>\n",
       "      <td>1.000000</td>\n",
       "      <td>1.000000</td>\n",
       "      <td>1.000000</td>\n",
       "      <td>1.000000</td>\n",
       "      <td>1.000000</td>\n",
       "      <td>1.000000</td>\n",
       "      <td>1.000000</td>\n",
       "    </tr>\n",
       "    <tr>\n",
       "      <th>5</th>\n",
       "      <td>1.0</td>\n",
       "      <td>0.984736</td>\n",
       "      <td>0.994171</td>\n",
       "      <td>0.984736</td>\n",
       "      <td>0.984736</td>\n",
       "      <td>0.994171</td>\n",
       "      <td>0.984736</td>\n",
       "      <td>0.990494</td>\n",
       "      <td>1.000000</td>\n",
       "      <td>0.990494</td>\n",
       "    </tr>\n",
       "    <tr>\n",
       "      <th>6</th>\n",
       "      <td>1.0</td>\n",
       "      <td>0.995516</td>\n",
       "      <td>1.000000</td>\n",
       "      <td>1.000000</td>\n",
       "      <td>0.995516</td>\n",
       "      <td>1.000000</td>\n",
       "      <td>1.000000</td>\n",
       "      <td>0.995516</td>\n",
       "      <td>0.995516</td>\n",
       "      <td>1.000000</td>\n",
       "    </tr>\n",
       "  </tbody>\n",
       "</table>\n",
       "</div>"
      ],
      "text/plain": [
       "     0         1         2         3         4         5         6         7  \\\n",
       "2  1.0  1.000000  1.000000  1.000000  1.000000  1.000000  1.000000  1.000000   \n",
       "3  1.0  1.000000  1.000000  1.000000  1.000000  1.000000  1.000000  1.000000   \n",
       "4  1.0  1.000000  1.000000  1.000000  1.000000  1.000000  1.000000  1.000000   \n",
       "5  1.0  0.984736  0.994171  0.984736  0.984736  0.994171  0.984736  0.990494   \n",
       "6  1.0  0.995516  1.000000  1.000000  0.995516  1.000000  1.000000  0.995516   \n",
       "\n",
       "          8         9  \n",
       "2  1.000000  1.000000  \n",
       "3  1.000000  1.000000  \n",
       "4  1.000000  1.000000  \n",
       "5  1.000000  0.990494  \n",
       "6  0.995516  1.000000  "
      ]
     },
     "execution_count": 52,
     "metadata": {},
     "output_type": "execute_result"
    }
   ],
   "source": [
    "parts_ari_df.head()"
   ]
  },
  {
   "cell_type": "markdown",
   "id": "a4edf5c1",
   "metadata": {
    "papermill": {
     "duration": 0.01611,
     "end_time": "2022-11-26T14:30:50.373711",
     "exception": false,
     "start_time": "2022-11-26T14:30:50.357601",
     "status": "completed"
    },
    "tags": []
   },
   "source": [
    "## Save"
   ]
  },
  {
   "cell_type": "code",
   "execution_count": 53,
   "id": "c0451c36",
   "metadata": {
    "execution": {
     "iopub.execute_input": "2022-11-26T14:30:50.407511Z",
     "iopub.status.busy": "2022-11-26T14:30:50.407207Z",
     "iopub.status.idle": "2022-11-26T14:30:50.429339Z",
     "shell.execute_reply": "2022-11-26T14:30:50.428914Z"
    },
    "papermill": {
     "duration": 0.039988,
     "end_time": "2022-11-26T14:30:50.430160",
     "exception": false,
     "start_time": "2022-11-26T14:30:50.390172",
     "status": "completed"
    },
    "tags": []
   },
   "outputs": [
    {
     "data": {
      "text/plain": [
       "PosixPath('/opt/data/results/clustering/null_sims/shuffle_lvs/runs/umap-z_score_std-projection-smultixcan-efo_partial-mashr-zscores/GaussianMixture-stability-COVARIANCE_TYPE_full-K_MAX_60-K_MIN_2-N_INIT_10-N_REPS_PER_K_5.pkl')"
      ]
     },
     "metadata": {},
     "output_type": "display_data"
    }
   ],
   "source": [
    "output_filename = Path(\n",
    "    RESULTS_DIR,\n",
    "    generate_result_set_name(\n",
    "        CLUSTERING_OPTIONS,\n",
    "        prefix=f\"{clustering_method_name}-stability-\",\n",
    "        suffix=\".pkl\",\n",
    "    ),\n",
    ").resolve()\n",
    "display(output_filename)"
   ]
  },
  {
   "cell_type": "code",
   "execution_count": 54,
   "id": "93c7c0c4",
   "metadata": {
    "execution": {
     "iopub.execute_input": "2022-11-26T14:30:50.464633Z",
     "iopub.status.busy": "2022-11-26T14:30:50.464332Z",
     "iopub.status.idle": "2022-11-26T14:30:50.477352Z",
     "shell.execute_reply": "2022-11-26T14:30:50.477017Z"
    },
    "papermill": {
     "duration": 0.030958,
     "end_time": "2022-11-26T14:30:50.478206",
     "exception": false,
     "start_time": "2022-11-26T14:30:50.447248",
     "status": "completed"
    },
    "tags": []
   },
   "outputs": [],
   "source": [
    "parts_ari_df.to_pickle(output_filename)"
   ]
  },
  {
   "cell_type": "markdown",
   "id": "f0c802eb",
   "metadata": {
    "papermill": {
     "duration": 0.01632,
     "end_time": "2022-11-26T14:30:50.511833",
     "exception": false,
     "start_time": "2022-11-26T14:30:50.495513",
     "status": "completed"
    },
    "tags": []
   },
   "source": [
    "## Stability plot"
   ]
  },
  {
   "cell_type": "code",
   "execution_count": 55,
   "id": "e21a1797",
   "metadata": {
    "execution": {
     "iopub.execute_input": "2022-11-26T14:30:50.545615Z",
     "iopub.status.busy": "2022-11-26T14:30:50.545498Z",
     "iopub.status.idle": "2022-11-26T14:30:50.559984Z",
     "shell.execute_reply": "2022-11-26T14:30:50.559649Z"
    },
    "papermill": {
     "duration": 0.032395,
     "end_time": "2022-11-26T14:30:50.560877",
     "exception": false,
     "start_time": "2022-11-26T14:30:50.528482",
     "status": "completed"
    },
    "tags": []
   },
   "outputs": [],
   "source": [
    "parts_ari_df_plot = (\n",
    "    parts_ari_df.stack()\n",
    "    .reset_index()\n",
    "    .rename(columns={\"level_0\": \"k\", \"level_1\": \"idx\", 0: \"ari\"})\n",
    ")"
   ]
  },
  {
   "cell_type": "code",
   "execution_count": 56,
   "id": "b65cbe48",
   "metadata": {
    "execution": {
     "iopub.execute_input": "2022-11-26T14:30:50.595122Z",
     "iopub.status.busy": "2022-11-26T14:30:50.595022Z",
     "iopub.status.idle": "2022-11-26T14:30:50.608909Z",
     "shell.execute_reply": "2022-11-26T14:30:50.608563Z"
    },
    "papermill": {
     "duration": 0.031561,
     "end_time": "2022-11-26T14:30:50.609704",
     "exception": false,
     "start_time": "2022-11-26T14:30:50.578143",
     "status": "completed"
    },
    "tags": []
   },
   "outputs": [
    {
     "data": {
      "text/plain": [
       "k        int64\n",
       "idx      int64\n",
       "ari    float64\n",
       "dtype: object"
      ]
     },
     "execution_count": 56,
     "metadata": {},
     "output_type": "execute_result"
    }
   ],
   "source": [
    "parts_ari_df_plot.dtypes"
   ]
  },
  {
   "cell_type": "code",
   "execution_count": 57,
   "id": "fe79fb67",
   "metadata": {
    "execution": {
     "iopub.execute_input": "2022-11-26T14:30:50.643752Z",
     "iopub.status.busy": "2022-11-26T14:30:50.643603Z",
     "iopub.status.idle": "2022-11-26T14:30:50.658673Z",
     "shell.execute_reply": "2022-11-26T14:30:50.658343Z"
    },
    "papermill": {
     "duration": 0.032586,
     "end_time": "2022-11-26T14:30:50.659500",
     "exception": false,
     "start_time": "2022-11-26T14:30:50.626914",
     "status": "completed"
    },
    "tags": []
   },
   "outputs": [
    {
     "data": {
      "text/html": [
       "<div>\n",
       "<style scoped>\n",
       "    .dataframe tbody tr th:only-of-type {\n",
       "        vertical-align: middle;\n",
       "    }\n",
       "\n",
       "    .dataframe tbody tr th {\n",
       "        vertical-align: top;\n",
       "    }\n",
       "\n",
       "    .dataframe thead th {\n",
       "        text-align: right;\n",
       "    }\n",
       "</style>\n",
       "<table border=\"1\" class=\"dataframe\">\n",
       "  <thead>\n",
       "    <tr style=\"text-align: right;\">\n",
       "      <th></th>\n",
       "      <th>k</th>\n",
       "      <th>idx</th>\n",
       "      <th>ari</th>\n",
       "    </tr>\n",
       "  </thead>\n",
       "  <tbody>\n",
       "    <tr>\n",
       "      <th>0</th>\n",
       "      <td>2</td>\n",
       "      <td>0</td>\n",
       "      <td>1.0</td>\n",
       "    </tr>\n",
       "    <tr>\n",
       "      <th>1</th>\n",
       "      <td>2</td>\n",
       "      <td>1</td>\n",
       "      <td>1.0</td>\n",
       "    </tr>\n",
       "    <tr>\n",
       "      <th>2</th>\n",
       "      <td>2</td>\n",
       "      <td>2</td>\n",
       "      <td>1.0</td>\n",
       "    </tr>\n",
       "    <tr>\n",
       "      <th>3</th>\n",
       "      <td>2</td>\n",
       "      <td>3</td>\n",
       "      <td>1.0</td>\n",
       "    </tr>\n",
       "    <tr>\n",
       "      <th>4</th>\n",
       "      <td>2</td>\n",
       "      <td>4</td>\n",
       "      <td>1.0</td>\n",
       "    </tr>\n",
       "  </tbody>\n",
       "</table>\n",
       "</div>"
      ],
      "text/plain": [
       "   k  idx  ari\n",
       "0  2    0  1.0\n",
       "1  2    1  1.0\n",
       "2  2    2  1.0\n",
       "3  2    3  1.0\n",
       "4  2    4  1.0"
      ]
     },
     "execution_count": 57,
     "metadata": {},
     "output_type": "execute_result"
    }
   ],
   "source": [
    "parts_ari_df_plot.head()"
   ]
  },
  {
   "cell_type": "code",
   "execution_count": 58,
   "id": "8221e03b",
   "metadata": {
    "execution": {
     "iopub.execute_input": "2022-11-26T14:30:50.694174Z",
     "iopub.status.busy": "2022-11-26T14:30:50.693888Z",
     "iopub.status.idle": "2022-11-26T14:30:52.623728Z",
     "shell.execute_reply": "2022-11-26T14:30:52.623317Z"
    },
    "papermill": {
     "duration": 1.947973,
     "end_time": "2022-11-26T14:30:52.624764",
     "exception": false,
     "start_time": "2022-11-26T14:30:50.676791",
     "status": "completed"
    },
    "tags": []
   },
   "outputs": [
    {
     "data": {
      "image/png": "[encoded data removed]",
      "text/plain": [
       "<Figure size 1008x432 with 1 Axes>"
      ]
     },
     "metadata": {},
     "output_type": "display_data"
    }
   ],
   "source": [
    "# with sns.axes_style('whitegrid', {'grid.linestyle': '--'}):\n",
    "with sns.plotting_context(\"talk\", font_scale=0.75), sns.axes_style(\n",
    "    \"whitegrid\", {\"grid.linestyle\": \"--\"}\n",
    "):\n",
    "    fig = plt.figure(figsize=(14, 6))\n",
    "    ax = sns.pointplot(data=parts_ari_df_plot, x=\"k\", y=\"ari\")\n",
    "    ax.set_ylabel(\"Averange ARI\")\n",
    "    ax.set_xlabel(\"Number of clusters ($k$)\")\n",
    "    ax.set_xticklabels(ax.get_xticklabels(), rotation=45)\n",
    "    #     ax.set_ylim(0.0, 1.0)\n",
    "    #     ax.set_xlim(CLUSTERING_OPTIONS['K_MIN'], CLUSTERING_OPTIONS['K_MAX'])\n",
    "    plt.grid(True)\n",
    "    plt.tight_layout()"
   ]
  },
  {
   "cell_type": "code",
   "execution_count": null,
   "id": "9d303339",
   "metadata": {
    "papermill": {
     "duration": 0.017563,
     "end_time": "2022-11-26T14:30:52.661131",
     "exception": false,
     "start_time": "2022-11-26T14:30:52.643568",
     "status": "completed"
    },
    "tags": []
   },
   "outputs": [],
   "source": []
  }
 ],
 "metadata": {
  "jupytext": {
   "cell_metadata_filter": "all,-execution,-papermill,-trusted",
   "formats": "ipynb,py//py:percent"
  },
  "kernelspec": {
   "display_name": "Python 3 (ipykernel)",
   "language": "python",
   "name": "python3"
  },
  "language_info": {
   "codemirror_mode": {
    "name": "ipython",
    "version": 3
   },
   "file_extension": ".py",
   "mimetype": "text/x-python",
   "name": "python",
   "nbconvert_exporter": "python",
   "pygments_lexer": "ipython3",
   "version": "3.8.13"
  },
  "papermill": {
   "default_parameters": {},
   "duration": 3250.530684,
   "end_time": "2022-11-26T14:30:52.995657",
   "environment_variables": {},
   "exception": null,
   "input_path": "nbs/13.1_cluster_analysis_null/05-shuffle_lvs/14_02-gmm-umap.ipynb",
   "output_path": "nbs/13.1_cluster_analysis_null/05-shuffle_lvs/14_02-gmm-umap.run.ipynb",
   "parameters": {},
   "start_time": "2022-11-26T13:36:42.464973",
   "version": "2.2.2"
  },
  "toc-autonumbering": true,
  "toc-showcode": false,
  "toc-showmarkdowntxt": false,
  "toc-showtags": false
 },
 "nbformat": 4,
 "nbformat_minor": 5
}
