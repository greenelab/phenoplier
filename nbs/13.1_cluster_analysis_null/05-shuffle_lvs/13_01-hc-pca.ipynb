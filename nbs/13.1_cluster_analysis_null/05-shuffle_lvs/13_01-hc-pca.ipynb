{
 "cells": [
  {
   "cell_type": "markdown",
   "id": "18079208",
   "metadata": {
    "papermill": {
     "duration": 0.013357,
     "end_time": "2022-11-26T04:55:14.076472",
     "exception": false,
     "start_time": "2022-11-26T04:55:14.063115",
     "status": "completed"
    },
    "tags": []
   },
   "source": [
    "# Description"
   ]
  },
  {
   "cell_type": "markdown",
   "id": "92119f64",
   "metadata": {
    "papermill": {
     "duration": 0.012157,
     "end_time": "2022-11-26T04:55:14.100937",
     "exception": false,
     "start_time": "2022-11-26T04:55:14.088780",
     "status": "completed"
    },
    "tags": []
   },
   "source": [
    "Runs hierarchical clustering on the pca version of the data."
   ]
  },
  {
   "cell_type": "markdown",
   "id": "8ea5c0d6",
   "metadata": {
    "papermill": {
     "duration": 0.01242,
     "end_time": "2022-11-26T04:55:14.126001",
     "exception": false,
     "start_time": "2022-11-26T04:55:14.113581",
     "status": "completed"
    },
    "tags": []
   },
   "source": [
    "# Environment variables"
   ]
  },
  {
   "cell_type": "code",
   "execution_count": 1,
   "id": "a6b4302f",
   "metadata": {
    "execution": {
     "iopub.execute_input": "2022-11-26T04:55:14.150269Z",
     "iopub.status.busy": "2022-11-26T04:55:14.149837Z",
     "iopub.status.idle": "2022-11-26T04:55:14.167785Z",
     "shell.execute_reply": "2022-11-26T04:55:14.167398Z"
    },
    "papermill": {
     "duration": 0.030547,
     "end_time": "2022-11-26T04:55:14.168625",
     "exception": false,
     "start_time": "2022-11-26T04:55:14.138078",
     "status": "completed"
    },
    "tags": []
   },
   "outputs": [
    {
     "data": {
      "text/plain": [
       "10"
      ]
     },
     "metadata": {},
     "output_type": "display_data"
    }
   ],
   "source": [
    "from IPython.display import display\n",
    "\n",
    "import conf\n",
    "\n",
    "N_JOBS = conf.GENERAL[\"N_JOBS\"]\n",
    "display(N_JOBS)"
   ]
  },
  {
   "cell_type": "code",
   "execution_count": 2,
   "id": "0f15653d",
   "metadata": {
    "execution": {
     "iopub.execute_input": "2022-11-26T04:55:14.183230Z",
     "iopub.status.busy": "2022-11-26T04:55:14.182960Z",
     "iopub.status.idle": "2022-11-26T04:55:14.189216Z",
     "shell.execute_reply": "2022-11-26T04:55:14.188690Z"
    },
    "papermill": {
     "duration": 0.014638,
     "end_time": "2022-11-26T04:55:14.190013",
     "exception": false,
     "start_time": "2022-11-26T04:55:14.175375",
     "status": "completed"
    },
    "tags": []
   },
   "outputs": [
    {
     "name": "stdout",
     "output_type": "stream",
     "text": [
      "env: MKL_NUM_THREADS=10\n",
      "env: OPEN_BLAS_NUM_THREADS=10\n",
      "env: NUMEXPR_NUM_THREADS=10\n",
      "env: OMP_NUM_THREADS=10\n"
     ]
    }
   ],
   "source": [
    "%env MKL_NUM_THREADS=$N_JOBS\n",
    "%env OPEN_BLAS_NUM_THREADS=$N_JOBS\n",
    "%env NUMEXPR_NUM_THREADS=$N_JOBS\n",
    "%env OMP_NUM_THREADS=$N_JOBS"
   ]
  },
  {
   "cell_type": "markdown",
   "id": "111f3992",
   "metadata": {
    "papermill": {
     "duration": 0.006677,
     "end_time": "2022-11-26T04:55:14.203105",
     "exception": false,
     "start_time": "2022-11-26T04:55:14.196428",
     "status": "completed"
    },
    "tags": []
   },
   "source": [
    "# Modules loading"
   ]
  },
  {
   "cell_type": "code",
   "execution_count": 3,
   "id": "a1140981",
   "metadata": {
    "execution": {
     "iopub.execute_input": "2022-11-26T04:55:14.217042Z",
     "iopub.status.busy": "2022-11-26T04:55:14.216648Z",
     "iopub.status.idle": "2022-11-26T04:55:14.229476Z",
     "shell.execute_reply": "2022-11-26T04:55:14.229056Z"
    },
    "papermill": {
     "duration": 0.020699,
     "end_time": "2022-11-26T04:55:14.230269",
     "exception": false,
     "start_time": "2022-11-26T04:55:14.209570",
     "status": "completed"
    },
    "tags": []
   },
   "outputs": [],
   "source": [
    "%load_ext autoreload\n",
    "%autoreload 2"
   ]
  },
  {
   "cell_type": "code",
   "execution_count": 4,
   "id": "28deaf49",
   "metadata": {
    "execution": {
     "iopub.execute_input": "2022-11-26T04:55:14.244187Z",
     "iopub.status.busy": "2022-11-26T04:55:14.243836Z",
     "iopub.status.idle": "2022-11-26T04:55:14.698646Z",
     "shell.execute_reply": "2022-11-26T04:55:14.698296Z"
    },
    "papermill": {
     "duration": 0.463077,
     "end_time": "2022-11-26T04:55:14.700013",
     "exception": false,
     "start_time": "2022-11-26T04:55:14.236936",
     "status": "completed"
    },
    "tags": []
   },
   "outputs": [],
   "source": [
    "from pathlib import Path\n",
    "\n",
    "import numpy as np\n",
    "import pandas as pd\n",
    "import matplotlib.pyplot as plt\n",
    "import seaborn as sns\n",
    "\n",
    "from utils import generate_result_set_name"
   ]
  },
  {
   "cell_type": "markdown",
   "id": "8310908a",
   "metadata": {
    "papermill": {
     "duration": 0.01282,
     "end_time": "2022-11-26T04:55:14.751250",
     "exception": false,
     "start_time": "2022-11-26T04:55:14.738430",
     "status": "completed"
    },
    "tags": []
   },
   "source": [
    "# Settings"
   ]
  },
  {
   "cell_type": "code",
   "execution_count": 5,
   "id": "9144be05",
   "metadata": {
    "execution": {
     "iopub.execute_input": "2022-11-26T04:55:14.776739Z",
     "iopub.status.busy": "2022-11-26T04:55:14.776427Z",
     "iopub.status.idle": "2022-11-26T04:55:14.787360Z",
     "shell.execute_reply": "2022-11-26T04:55:14.787071Z"
    },
    "papermill": {
     "duration": 0.025015,
     "end_time": "2022-11-26T04:55:14.788574",
     "exception": false,
     "start_time": "2022-11-26T04:55:14.763559",
     "status": "completed"
    },
    "tags": []
   },
   "outputs": [],
   "source": [
    "np.random.seed(0)"
   ]
  },
  {
   "cell_type": "code",
   "execution_count": 6,
   "id": "10f6375d-04d2-4873-98e4-e5afdf9a79cd",
   "metadata": {
    "execution": {
     "iopub.execute_input": "2022-11-26T04:55:14.813918Z",
     "iopub.status.busy": "2022-11-26T04:55:14.813834Z",
     "iopub.status.idle": "2022-11-26T04:55:14.829486Z",
     "shell.execute_reply": "2022-11-26T04:55:14.829023Z"
    },
    "papermill": {
     "duration": 0.030411,
     "end_time": "2022-11-26T04:55:14.831681",
     "exception": false,
     "start_time": "2022-11-26T04:55:14.801270",
     "status": "completed"
    },
    "tags": []
   },
   "outputs": [],
   "source": [
    "NULL_DIR = conf.RESULTS[\"CLUSTERING_NULL_DIR\"] / \"shuffle_lvs\""
   ]
  },
  {
   "cell_type": "markdown",
   "id": "54d1d37c",
   "metadata": {
    "papermill": {
     "duration": 0.012569,
     "end_time": "2022-11-26T04:55:14.857266",
     "exception": false,
     "start_time": "2022-11-26T04:55:14.844697",
     "status": "completed"
    },
    "tags": []
   },
   "source": [
    "## Input data"
   ]
  },
  {
   "cell_type": "code",
   "execution_count": 7,
   "id": "e8436e39",
   "metadata": {
    "execution": {
     "iopub.execute_input": "2022-11-26T04:55:14.877954Z",
     "iopub.status.busy": "2022-11-26T04:55:14.877610Z",
     "iopub.status.idle": "2022-11-26T04:55:14.894959Z",
     "shell.execute_reply": "2022-11-26T04:55:14.894557Z"
    },
    "papermill": {
     "duration": 0.026432,
     "end_time": "2022-11-26T04:55:14.895861",
     "exception": false,
     "start_time": "2022-11-26T04:55:14.869429",
     "status": "completed"
    },
    "tags": []
   },
   "outputs": [],
   "source": [
    "INPUT_SUBSET = \"pca\""
   ]
  },
  {
   "cell_type": "code",
   "execution_count": 8,
   "id": "033d2a57",
   "metadata": {
    "execution": {
     "iopub.execute_input": "2022-11-26T04:55:14.910676Z",
     "iopub.status.busy": "2022-11-26T04:55:14.910320Z",
     "iopub.status.idle": "2022-11-26T04:55:14.926878Z",
     "shell.execute_reply": "2022-11-26T04:55:14.926499Z"
    },
    "papermill": {
     "duration": 0.025455,
     "end_time": "2022-11-26T04:55:14.927721",
     "exception": false,
     "start_time": "2022-11-26T04:55:14.902266",
     "status": "completed"
    },
    "tags": []
   },
   "outputs": [],
   "source": [
    "INPUT_STEM = \"z_score_std-projection-smultixcan-efo_partial-mashr-zscores\""
   ]
  },
  {
   "cell_type": "code",
   "execution_count": 9,
   "id": "29886ee3",
   "metadata": {
    "execution": {
     "iopub.execute_input": "2022-11-26T04:55:14.941325Z",
     "iopub.status.busy": "2022-11-26T04:55:14.941015Z",
     "iopub.status.idle": "2022-11-26T04:55:14.957650Z",
     "shell.execute_reply": "2022-11-26T04:55:14.957272Z"
    },
    "papermill": {
     "duration": 0.024346,
     "end_time": "2022-11-26T04:55:14.958467",
     "exception": false,
     "start_time": "2022-11-26T04:55:14.934121",
     "status": "completed"
    },
    "tags": []
   },
   "outputs": [],
   "source": [
    "# parameters of the dimentionality reduction steps\n",
    "DR_OPTIONS = {\n",
    "    \"n_components\": 50,\n",
    "    \"svd_solver\": \"full\",\n",
    "    \"random_state\": 0,\n",
    "}"
   ]
  },
  {
   "cell_type": "code",
   "execution_count": 10,
   "id": "0db56678",
   "metadata": {
    "execution": {
     "iopub.execute_input": "2022-11-26T04:55:14.972618Z",
     "iopub.status.busy": "2022-11-26T04:55:14.972189Z",
     "iopub.status.idle": "2022-11-26T04:55:14.991154Z",
     "shell.execute_reply": "2022-11-26T04:55:14.990779Z"
    },
    "papermill": {
     "duration": 0.026596,
     "end_time": "2022-11-26T04:55:14.991879",
     "exception": false,
     "start_time": "2022-11-26T04:55:14.965283",
     "status": "completed"
    },
    "tags": []
   },
   "outputs": [
    {
     "data": {
      "text/plain": [
       "PosixPath('/opt/data/results/clustering/null_sims/shuffle_lvs/data_transformations/pca/pca-z_score_std-projection-smultixcan-efo_partial-mashr-zscores-n_components_50-random_state_0-svd_solver_full.pkl')"
      ]
     },
     "metadata": {},
     "output_type": "display_data"
    },
    {
     "data": {
      "text/plain": [
       "'pca-z_score_std-projection-smultixcan-efo_partial-mashr-zscores-n_components_50-random_state_0-svd_solver_full'"
      ]
     },
     "metadata": {},
     "output_type": "display_data"
    }
   ],
   "source": [
    "input_filepath = Path(\n",
    "    NULL_DIR,\n",
    "    \"data_transformations\",\n",
    "    INPUT_SUBSET,\n",
    "    generate_result_set_name(\n",
    "        DR_OPTIONS, prefix=f\"{INPUT_SUBSET}-{INPUT_STEM}-\", suffix=\".pkl\"\n",
    "    ),\n",
    ").resolve()\n",
    "display(input_filepath)\n",
    "\n",
    "assert input_filepath.exists(), \"Input file does not exist\"\n",
    "\n",
    "input_filepath_stem = input_filepath.stem\n",
    "display(input_filepath_stem)"
   ]
  },
  {
   "cell_type": "markdown",
   "id": "b5ffb1a6",
   "metadata": {
    "papermill": {
     "duration": 0.006657,
     "end_time": "2022-11-26T04:55:15.005113",
     "exception": false,
     "start_time": "2022-11-26T04:55:14.998456",
     "status": "completed"
    },
    "tags": []
   },
   "source": [
    "## Clustering"
   ]
  },
  {
   "cell_type": "code",
   "execution_count": 11,
   "id": "bab5805f",
   "metadata": {
    "execution": {
     "iopub.execute_input": "2022-11-26T04:55:15.018817Z",
     "iopub.status.busy": "2022-11-26T04:55:15.018666Z",
     "iopub.status.idle": "2022-11-26T04:55:15.104431Z",
     "shell.execute_reply": "2022-11-26T04:55:15.104084Z"
    },
    "papermill": {
     "duration": 0.093588,
     "end_time": "2022-11-26T04:55:15.105250",
     "exception": false,
     "start_time": "2022-11-26T04:55:15.011662",
     "status": "completed"
    },
    "tags": []
   },
   "outputs": [],
   "source": [
    "from sklearn.cluster import AgglomerativeClustering"
   ]
  },
  {
   "cell_type": "code",
   "execution_count": 12,
   "id": "dd14e903",
   "metadata": {
    "execution": {
     "iopub.execute_input": "2022-11-26T04:55:15.119209Z",
     "iopub.status.busy": "2022-11-26T04:55:15.119050Z",
     "iopub.status.idle": "2022-11-26T04:55:15.130926Z",
     "shell.execute_reply": "2022-11-26T04:55:15.130649Z"
    },
    "papermill": {
     "duration": 0.019574,
     "end_time": "2022-11-26T04:55:15.131707",
     "exception": false,
     "start_time": "2022-11-26T04:55:15.112133",
     "status": "completed"
    },
    "tags": []
   },
   "outputs": [],
   "source": [
    "CLUSTERING_ATTRIBUTES_TO_SAVE = [\"n_clusters\"]"
   ]
  },
  {
   "cell_type": "code",
   "execution_count": 13,
   "id": "ff7bf878",
   "metadata": {
    "execution": {
     "iopub.execute_input": "2022-11-26T04:55:15.145364Z",
     "iopub.status.busy": "2022-11-26T04:55:15.145267Z",
     "iopub.status.idle": "2022-11-26T04:55:15.160994Z",
     "shell.execute_reply": "2022-11-26T04:55:15.160633Z"
    },
    "papermill": {
     "duration": 0.023351,
     "end_time": "2022-11-26T04:55:15.161732",
     "exception": false,
     "start_time": "2022-11-26T04:55:15.138381",
     "status": "completed"
    },
    "tags": []
   },
   "outputs": [
    {
     "data": {
      "text/plain": [
       "{'K_MIN': 2,\n",
       " 'K_MAX': 75,\n",
       " 'LINKAGE': {'average', 'complete', 'single', 'ward'},\n",
       " 'AFFINITY': 'euclidean'}"
      ]
     },
     "metadata": {},
     "output_type": "display_data"
    }
   ],
   "source": [
    "CLUSTERING_OPTIONS = {}\n",
    "\n",
    "CLUSTERING_OPTIONS[\"K_MIN\"] = 2\n",
    "CLUSTERING_OPTIONS[\"K_MAX\"] = 75  # sqrt(3749) + some more to get closer to 295\n",
    "CLUSTERING_OPTIONS[\"LINKAGE\"] = {\"ward\", \"complete\", \"average\", \"single\"}\n",
    "CLUSTERING_OPTIONS[\"AFFINITY\"] = \"euclidean\"\n",
    "\n",
    "display(CLUSTERING_OPTIONS)"
   ]
  },
  {
   "cell_type": "code",
   "execution_count": 14,
   "id": "fbb70ae2",
   "metadata": {
    "execution": {
     "iopub.execute_input": "2022-11-26T04:55:15.175744Z",
     "iopub.status.busy": "2022-11-26T04:55:15.175475Z",
     "iopub.status.idle": "2022-11-26T04:55:15.194983Z",
     "shell.execute_reply": "2022-11-26T04:55:15.194591Z"
    },
    "papermill": {
     "duration": 0.027321,
     "end_time": "2022-11-26T04:55:15.195823",
     "exception": false,
     "start_time": "2022-11-26T04:55:15.168502",
     "status": "completed"
    },
    "tags": []
   },
   "outputs": [],
   "source": [
    "CLUSTERERS = {}\n",
    "\n",
    "idx = 0\n",
    "\n",
    "for k in range(CLUSTERING_OPTIONS[\"K_MIN\"], CLUSTERING_OPTIONS[\"K_MAX\"] + 1):\n",
    "    for linkage in CLUSTERING_OPTIONS[\"LINKAGE\"]:\n",
    "        if linkage == \"ward\":\n",
    "            affinity = \"euclidean\"\n",
    "        else:\n",
    "            affinity = \"precomputed\"\n",
    "\n",
    "        clus = AgglomerativeClustering(\n",
    "            n_clusters=k,\n",
    "            affinity=affinity,\n",
    "            linkage=linkage,\n",
    "        )\n",
    "\n",
    "        method_name = type(clus).__name__\n",
    "        CLUSTERERS[f\"{method_name} #{idx}\"] = clus\n",
    "\n",
    "        idx = idx + 1"
   ]
  },
  {
   "cell_type": "code",
   "execution_count": 15,
   "id": "5511fb5f",
   "metadata": {
    "execution": {
     "iopub.execute_input": "2022-11-26T04:55:15.210102Z",
     "iopub.status.busy": "2022-11-26T04:55:15.209756Z",
     "iopub.status.idle": "2022-11-26T04:55:15.228196Z",
     "shell.execute_reply": "2022-11-26T04:55:15.227821Z"
    },
    "papermill": {
     "duration": 0.026498,
     "end_time": "2022-11-26T04:55:15.229007",
     "exception": false,
     "start_time": "2022-11-26T04:55:15.202509",
     "status": "completed"
    },
    "tags": []
   },
   "outputs": [
    {
     "data": {
      "text/plain": [
       "296"
      ]
     },
     "metadata": {},
     "output_type": "display_data"
    }
   ],
   "source": [
    "display(len(CLUSTERERS))"
   ]
  },
  {
   "cell_type": "code",
   "execution_count": 16,
   "id": "bfc324af",
   "metadata": {
    "execution": {
     "iopub.execute_input": "2022-11-26T04:55:15.243110Z",
     "iopub.status.busy": "2022-11-26T04:55:15.242789Z",
     "iopub.status.idle": "2022-11-26T04:55:15.263318Z",
     "shell.execute_reply": "2022-11-26T04:55:15.262935Z"
    },
    "papermill": {
     "duration": 0.028393,
     "end_time": "2022-11-26T04:55:15.264072",
     "exception": false,
     "start_time": "2022-11-26T04:55:15.235679",
     "status": "completed"
    },
    "tags": []
   },
   "outputs": [
    {
     "data": {
      "text/plain": [
       "('AgglomerativeClustering #0',\n",
       " AgglomerativeClustering(affinity='precomputed', linkage='complete'))"
      ]
     },
     "metadata": {},
     "output_type": "display_data"
    },
    {
     "data": {
      "text/plain": [
       "('AgglomerativeClustering #1',\n",
       " AgglomerativeClustering(affinity='precomputed', linkage='single'))"
      ]
     },
     "metadata": {},
     "output_type": "display_data"
    }
   ],
   "source": [
    "_iter = iter(CLUSTERERS.items())\n",
    "display(next(_iter))\n",
    "display(next(_iter))"
   ]
  },
  {
   "cell_type": "code",
   "execution_count": 17,
   "id": "4b26ef27",
   "metadata": {
    "execution": {
     "iopub.execute_input": "2022-11-26T04:55:15.278563Z",
     "iopub.status.busy": "2022-11-26T04:55:15.278274Z",
     "iopub.status.idle": "2022-11-26T04:55:15.296845Z",
     "shell.execute_reply": "2022-11-26T04:55:15.296468Z"
    },
    "papermill": {
     "duration": 0.026506,
     "end_time": "2022-11-26T04:55:15.297570",
     "exception": false,
     "start_time": "2022-11-26T04:55:15.271064",
     "status": "completed"
    },
    "tags": []
   },
   "outputs": [
    {
     "data": {
      "text/plain": [
       "'AgglomerativeClustering'"
      ]
     },
     "metadata": {},
     "output_type": "display_data"
    }
   ],
   "source": [
    "clustering_method_name = method_name\n",
    "display(clustering_method_name)"
   ]
  },
  {
   "cell_type": "markdown",
   "id": "fc3853d7",
   "metadata": {
    "papermill": {
     "duration": 0.006856,
     "end_time": "2022-11-26T04:55:15.311273",
     "exception": false,
     "start_time": "2022-11-26T04:55:15.304417",
     "status": "completed"
    },
    "tags": []
   },
   "source": [
    "## Output directory"
   ]
  },
  {
   "cell_type": "code",
   "execution_count": 18,
   "id": "8a786027",
   "metadata": {
    "execution": {
     "iopub.execute_input": "2022-11-26T04:55:15.325671Z",
     "iopub.status.busy": "2022-11-26T04:55:15.325296Z",
     "iopub.status.idle": "2022-11-26T04:55:15.344438Z",
     "shell.execute_reply": "2022-11-26T04:55:15.344056Z"
    },
    "papermill": {
     "duration": 0.027168,
     "end_time": "2022-11-26T04:55:15.345220",
     "exception": false,
     "start_time": "2022-11-26T04:55:15.318052",
     "status": "completed"
    },
    "tags": []
   },
   "outputs": [
    {
     "data": {
      "text/plain": [
       "PosixPath('/opt/data/results/clustering/null_sims/shuffle_lvs/runs/pca-z_score_std-projection-smultixcan-efo_partial-mashr-zscores')"
      ]
     },
     "metadata": {},
     "output_type": "display_data"
    }
   ],
   "source": [
    "# output dir for this notebook\n",
    "RESULTS_DIR = Path(\n",
    "    NULL_DIR,\n",
    "    \"runs\",\n",
    "    f\"{INPUT_SUBSET}-{INPUT_STEM}\",\n",
    ").resolve()\n",
    "RESULTS_DIR.mkdir(parents=True, exist_ok=True)\n",
    "\n",
    "display(RESULTS_DIR)"
   ]
  },
  {
   "cell_type": "markdown",
   "id": "6a9d2924",
   "metadata": {
    "papermill": {
     "duration": 0.00671,
     "end_time": "2022-11-26T04:55:15.358947",
     "exception": false,
     "start_time": "2022-11-26T04:55:15.352237",
     "status": "completed"
    },
    "tags": []
   },
   "source": [
    "# Load input file"
   ]
  },
  {
   "cell_type": "code",
   "execution_count": 19,
   "id": "90da4ce9",
   "metadata": {
    "execution": {
     "iopub.execute_input": "2022-11-26T04:55:15.373435Z",
     "iopub.status.busy": "2022-11-26T04:55:15.373139Z",
     "iopub.status.idle": "2022-11-26T04:55:15.393764Z",
     "shell.execute_reply": "2022-11-26T04:55:15.393348Z"
    },
    "papermill": {
     "duration": 0.02884,
     "end_time": "2022-11-26T04:55:15.394621",
     "exception": false,
     "start_time": "2022-11-26T04:55:15.365781",
     "status": "completed"
    },
    "tags": []
   },
   "outputs": [],
   "source": [
    "data = pd.read_pickle(input_filepath)"
   ]
  },
  {
   "cell_type": "code",
   "execution_count": 20,
   "id": "4d4abcd8",
   "metadata": {
    "execution": {
     "iopub.execute_input": "2022-11-26T04:55:15.409396Z",
     "iopub.status.busy": "2022-11-26T04:55:15.409059Z",
     "iopub.status.idle": "2022-11-26T04:55:15.428384Z",
     "shell.execute_reply": "2022-11-26T04:55:15.427997Z"
    },
    "papermill": {
     "duration": 0.027398,
     "end_time": "2022-11-26T04:55:15.429118",
     "exception": false,
     "start_time": "2022-11-26T04:55:15.401720",
     "status": "completed"
    },
    "tags": []
   },
   "outputs": [
    {
     "data": {
      "text/plain": [
       "(3752, 50)"
      ]
     },
     "execution_count": 20,
     "metadata": {},
     "output_type": "execute_result"
    }
   ],
   "source": [
    "data.shape"
   ]
  },
  {
   "cell_type": "code",
   "execution_count": 21,
   "id": "09327061",
   "metadata": {
    "execution": {
     "iopub.execute_input": "2022-11-26T04:55:15.444004Z",
     "iopub.status.busy": "2022-11-26T04:55:15.443710Z",
     "iopub.status.idle": "2022-11-26T04:55:15.478983Z",
     "shell.execute_reply": "2022-11-26T04:55:15.478589Z"
    },
    "papermill": {
     "duration": 0.043542,
     "end_time": "2022-11-26T04:55:15.479716",
     "exception": false,
     "start_time": "2022-11-26T04:55:15.436174",
     "status": "completed"
    },
    "tags": []
   },
   "outputs": [
    {
     "data": {
      "text/html": [
       "<div>\n",
       "<style scoped>\n",
       "    .dataframe tbody tr th:only-of-type {\n",
       "        vertical-align: middle;\n",
       "    }\n",
       "\n",
       "    .dataframe tbody tr th {\n",
       "        vertical-align: top;\n",
       "    }\n",
       "\n",
       "    .dataframe thead th {\n",
       "        text-align: right;\n",
       "    }\n",
       "</style>\n",
       "<table border=\"1\" class=\"dataframe\">\n",
       "  <thead>\n",
       "    <tr style=\"text-align: right;\">\n",
       "      <th></th>\n",
       "      <th>PCA1</th>\n",
       "      <th>PCA2</th>\n",
       "      <th>PCA3</th>\n",
       "      <th>PCA4</th>\n",
       "      <th>PCA5</th>\n",
       "      <th>PCA6</th>\n",
       "      <th>PCA7</th>\n",
       "      <th>PCA8</th>\n",
       "      <th>PCA9</th>\n",
       "      <th>PCA10</th>\n",
       "      <th>...</th>\n",
       "      <th>PCA41</th>\n",
       "      <th>PCA42</th>\n",
       "      <th>PCA43</th>\n",
       "      <th>PCA44</th>\n",
       "      <th>PCA45</th>\n",
       "      <th>PCA46</th>\n",
       "      <th>PCA47</th>\n",
       "      <th>PCA48</th>\n",
       "      <th>PCA49</th>\n",
       "      <th>PCA50</th>\n",
       "    </tr>\n",
       "  </thead>\n",
       "  <tbody>\n",
       "    <tr>\n",
       "      <th>100001_raw-Food_weight</th>\n",
       "      <td>0.373237</td>\n",
       "      <td>-0.155188</td>\n",
       "      <td>-1.554390</td>\n",
       "      <td>-0.103733</td>\n",
       "      <td>-1.807074</td>\n",
       "      <td>-0.957108</td>\n",
       "      <td>0.330335</td>\n",
       "      <td>0.638391</td>\n",
       "      <td>0.905023</td>\n",
       "      <td>-0.704551</td>\n",
       "      <td>...</td>\n",
       "      <td>0.161732</td>\n",
       "      <td>0.488682</td>\n",
       "      <td>0.761158</td>\n",
       "      <td>0.667089</td>\n",
       "      <td>-0.078934</td>\n",
       "      <td>0.840971</td>\n",
       "      <td>-0.622958</td>\n",
       "      <td>1.075964</td>\n",
       "      <td>3.244039</td>\n",
       "      <td>-0.933407</td>\n",
       "    </tr>\n",
       "    <tr>\n",
       "      <th>100002_raw-Energy</th>\n",
       "      <td>1.384398</td>\n",
       "      <td>0.511267</td>\n",
       "      <td>-0.273603</td>\n",
       "      <td>-0.074591</td>\n",
       "      <td>-1.151167</td>\n",
       "      <td>-0.069438</td>\n",
       "      <td>1.242634</td>\n",
       "      <td>-0.439543</td>\n",
       "      <td>0.650348</td>\n",
       "      <td>2.456117</td>\n",
       "      <td>...</td>\n",
       "      <td>0.051967</td>\n",
       "      <td>0.993820</td>\n",
       "      <td>-0.166350</td>\n",
       "      <td>1.497041</td>\n",
       "      <td>-0.875754</td>\n",
       "      <td>2.632726</td>\n",
       "      <td>0.613299</td>\n",
       "      <td>0.041232</td>\n",
       "      <td>4.032974</td>\n",
       "      <td>-0.230092</td>\n",
       "    </tr>\n",
       "    <tr>\n",
       "      <th>100003_raw-Protein</th>\n",
       "      <td>-1.247583</td>\n",
       "      <td>2.905641</td>\n",
       "      <td>-1.524196</td>\n",
       "      <td>0.683773</td>\n",
       "      <td>0.766860</td>\n",
       "      <td>-2.478057</td>\n",
       "      <td>-0.201110</td>\n",
       "      <td>1.045590</td>\n",
       "      <td>-0.844712</td>\n",
       "      <td>2.426349</td>\n",
       "      <td>...</td>\n",
       "      <td>0.027646</td>\n",
       "      <td>-1.903636</td>\n",
       "      <td>-0.819195</td>\n",
       "      <td>0.616887</td>\n",
       "      <td>-0.647462</td>\n",
       "      <td>0.170956</td>\n",
       "      <td>2.106036</td>\n",
       "      <td>-2.186258</td>\n",
       "      <td>0.485333</td>\n",
       "      <td>-1.136366</td>\n",
       "    </tr>\n",
       "    <tr>\n",
       "      <th>100004_raw-Fat</th>\n",
       "      <td>-0.695167</td>\n",
       "      <td>0.046286</td>\n",
       "      <td>0.730428</td>\n",
       "      <td>0.240547</td>\n",
       "      <td>1.621534</td>\n",
       "      <td>-1.335187</td>\n",
       "      <td>-1.510894</td>\n",
       "      <td>1.790966</td>\n",
       "      <td>-0.682884</td>\n",
       "      <td>-1.572835</td>\n",
       "      <td>...</td>\n",
       "      <td>-2.997557</td>\n",
       "      <td>-0.489466</td>\n",
       "      <td>0.442809</td>\n",
       "      <td>1.217098</td>\n",
       "      <td>-1.604667</td>\n",
       "      <td>-0.776865</td>\n",
       "      <td>-0.983076</td>\n",
       "      <td>0.080423</td>\n",
       "      <td>2.476131</td>\n",
       "      <td>0.431179</td>\n",
       "    </tr>\n",
       "    <tr>\n",
       "      <th>100005_raw-Carbohydrate</th>\n",
       "      <td>0.770055</td>\n",
       "      <td>-0.499034</td>\n",
       "      <td>0.053157</td>\n",
       "      <td>0.479019</td>\n",
       "      <td>2.048336</td>\n",
       "      <td>0.984552</td>\n",
       "      <td>-0.090767</td>\n",
       "      <td>0.053451</td>\n",
       "      <td>-0.614035</td>\n",
       "      <td>1.304292</td>\n",
       "      <td>...</td>\n",
       "      <td>-0.280231</td>\n",
       "      <td>-0.892308</td>\n",
       "      <td>-0.522105</td>\n",
       "      <td>-0.358232</td>\n",
       "      <td>1.690968</td>\n",
       "      <td>0.049799</td>\n",
       "      <td>-0.633466</td>\n",
       "      <td>-0.812035</td>\n",
       "      <td>0.901284</td>\n",
       "      <td>2.461845</td>\n",
       "    </tr>\n",
       "  </tbody>\n",
       "</table>\n",
       "<p>5 rows × 50 columns</p>\n",
       "</div>"
      ],
      "text/plain": [
       "                             PCA1      PCA2      PCA3      PCA4      PCA5  \\\n",
       "100001_raw-Food_weight   0.373237 -0.155188 -1.554390 -0.103733 -1.807074   \n",
       "100002_raw-Energy        1.384398  0.511267 -0.273603 -0.074591 -1.151167   \n",
       "100003_raw-Protein      -1.247583  2.905641 -1.524196  0.683773  0.766860   \n",
       "100004_raw-Fat          -0.695167  0.046286  0.730428  0.240547  1.621534   \n",
       "100005_raw-Carbohydrate  0.770055 -0.499034  0.053157  0.479019  2.048336   \n",
       "\n",
       "                             PCA6      PCA7      PCA8      PCA9     PCA10  \\\n",
       "100001_raw-Food_weight  -0.957108  0.330335  0.638391  0.905023 -0.704551   \n",
       "100002_raw-Energy       -0.069438  1.242634 -0.439543  0.650348  2.456117   \n",
       "100003_raw-Protein      -2.478057 -0.201110  1.045590 -0.844712  2.426349   \n",
       "100004_raw-Fat          -1.335187 -1.510894  1.790966 -0.682884 -1.572835   \n",
       "100005_raw-Carbohydrate  0.984552 -0.090767  0.053451 -0.614035  1.304292   \n",
       "\n",
       "                         ...     PCA41     PCA42     PCA43     PCA44  \\\n",
       "100001_raw-Food_weight   ...  0.161732  0.488682  0.761158  0.667089   \n",
       "100002_raw-Energy        ...  0.051967  0.993820 -0.166350  1.497041   \n",
       "100003_raw-Protein       ...  0.027646 -1.903636 -0.819195  0.616887   \n",
       "100004_raw-Fat           ... -2.997557 -0.489466  0.442809  1.217098   \n",
       "100005_raw-Carbohydrate  ... -0.280231 -0.892308 -0.522105 -0.358232   \n",
       "\n",
       "                            PCA45     PCA46     PCA47     PCA48     PCA49  \\\n",
       "100001_raw-Food_weight  -0.078934  0.840971 -0.622958  1.075964  3.244039   \n",
       "100002_raw-Energy       -0.875754  2.632726  0.613299  0.041232  4.032974   \n",
       "100003_raw-Protein      -0.647462  0.170956  2.106036 -2.186258  0.485333   \n",
       "100004_raw-Fat          -1.604667 -0.776865 -0.983076  0.080423  2.476131   \n",
       "100005_raw-Carbohydrate  1.690968  0.049799 -0.633466 -0.812035  0.901284   \n",
       "\n",
       "                            PCA50  \n",
       "100001_raw-Food_weight  -0.933407  \n",
       "100002_raw-Energy       -0.230092  \n",
       "100003_raw-Protein      -1.136366  \n",
       "100004_raw-Fat           0.431179  \n",
       "100005_raw-Carbohydrate  2.461845  \n",
       "\n",
       "[5 rows x 50 columns]"
      ]
     },
     "execution_count": 21,
     "metadata": {},
     "output_type": "execute_result"
    }
   ],
   "source": [
    "data.head()"
   ]
  },
  {
   "cell_type": "code",
   "execution_count": 22,
   "id": "45dbd777",
   "metadata": {
    "execution": {
     "iopub.execute_input": "2022-11-26T04:55:15.494668Z",
     "iopub.status.busy": "2022-11-26T04:55:15.494356Z",
     "iopub.status.idle": "2022-11-26T04:55:15.513921Z",
     "shell.execute_reply": "2022-11-26T04:55:15.513517Z"
    },
    "papermill": {
     "duration": 0.028051,
     "end_time": "2022-11-26T04:55:15.514873",
     "exception": false,
     "start_time": "2022-11-26T04:55:15.486822",
     "status": "completed"
    },
    "tags": []
   },
   "outputs": [],
   "source": [
    "assert not data.isna().any().any()"
   ]
  },
  {
   "cell_type": "markdown",
   "id": "5065d6fe",
   "metadata": {
    "papermill": {
     "duration": 0.007169,
     "end_time": "2022-11-26T04:55:15.529439",
     "exception": false,
     "start_time": "2022-11-26T04:55:15.522270",
     "status": "completed"
    },
    "tags": []
   },
   "source": [
    "# Clustering"
   ]
  },
  {
   "cell_type": "markdown",
   "id": "13906733",
   "metadata": {
    "papermill": {
     "duration": 0.00695,
     "end_time": "2022-11-26T04:55:15.543865",
     "exception": false,
     "start_time": "2022-11-26T04:55:15.536915",
     "status": "completed"
    },
    "tags": []
   },
   "source": [
    "## Generate ensemble"
   ]
  },
  {
   "cell_type": "code",
   "execution_count": 23,
   "id": "652837ed",
   "metadata": {
    "execution": {
     "iopub.execute_input": "2022-11-26T04:55:15.559232Z",
     "iopub.status.busy": "2022-11-26T04:55:15.558773Z",
     "iopub.status.idle": "2022-11-26T04:55:15.582313Z",
     "shell.execute_reply": "2022-11-26T04:55:15.581903Z"
    },
    "papermill": {
     "duration": 0.032262,
     "end_time": "2022-11-26T04:55:15.583158",
     "exception": false,
     "start_time": "2022-11-26T04:55:15.550896",
     "status": "completed"
    },
    "tags": []
   },
   "outputs": [],
   "source": [
    "from sklearn.metrics import pairwise_distances\n",
    "from clustering.ensembles.utils import generate_ensemble"
   ]
  },
  {
   "cell_type": "code",
   "execution_count": 24,
   "id": "8a1b7d1b",
   "metadata": {
    "execution": {
     "iopub.execute_input": "2022-11-26T04:55:15.598143Z",
     "iopub.status.busy": "2022-11-26T04:55:15.597779Z",
     "iopub.status.idle": "2022-11-26T04:55:15.707213Z",
     "shell.execute_reply": "2022-11-26T04:55:15.706861Z"
    },
    "papermill": {
     "duration": 0.118155,
     "end_time": "2022-11-26T04:55:15.708404",
     "exception": false,
     "start_time": "2022-11-26T04:55:15.590249",
     "status": "completed"
    },
    "tags": []
   },
   "outputs": [],
   "source": [
    "data_dist = pairwise_distances(data, metric=CLUSTERING_OPTIONS[\"AFFINITY\"])"
   ]
  },
  {
   "cell_type": "code",
   "execution_count": 25,
   "id": "7cd0e1b9",
   "metadata": {
    "execution": {
     "iopub.execute_input": "2022-11-26T04:55:15.726505Z",
     "iopub.status.busy": "2022-11-26T04:55:15.726407Z",
     "iopub.status.idle": "2022-11-26T04:55:15.738831Z",
     "shell.execute_reply": "2022-11-26T04:55:15.738562Z"
    },
    "papermill": {
     "duration": 0.023167,
     "end_time": "2022-11-26T04:55:15.739520",
     "exception": false,
     "start_time": "2022-11-26T04:55:15.716353",
     "status": "completed"
    },
    "tags": []
   },
   "outputs": [
    {
     "data": {
      "text/plain": [
       "(3752, 3752)"
      ]
     },
     "execution_count": 25,
     "metadata": {},
     "output_type": "execute_result"
    }
   ],
   "source": [
    "data_dist.shape"
   ]
  },
  {
   "cell_type": "code",
   "execution_count": 26,
   "id": "9fdb9bb6",
   "metadata": {
    "execution": {
     "iopub.execute_input": "2022-11-26T04:55:15.754281Z",
     "iopub.status.busy": "2022-11-26T04:55:15.754188Z",
     "iopub.status.idle": "2022-11-26T04:55:16.219028Z",
     "shell.execute_reply": "2022-11-26T04:55:16.218740Z"
    },
    "papermill": {
     "duration": 0.473564,
     "end_time": "2022-11-26T04:55:16.220357",
     "exception": false,
     "start_time": "2022-11-26T04:55:15.746793",
     "status": "completed"
    },
    "tags": []
   },
   "outputs": [
    {
     "data": {
      "text/plain": [
       "count            14077504.0\n",
       "mean     14.210400512875133\n",
       "std      3.7431499846458824\n",
       "min                     0.0\n",
       "25%      12.590219844612502\n",
       "50%      13.663326910678162\n",
       "75%      14.819153120142502\n",
       "max        78.5971223232246\n",
       "dtype: object"
      ]
     },
     "execution_count": 26,
     "metadata": {},
     "output_type": "execute_result"
    }
   ],
   "source": [
    "pd.Series(data_dist.flatten()).describe().apply(str)"
   ]
  },
  {
   "cell_type": "code",
   "execution_count": 27,
   "id": "41f4836c",
   "metadata": {
    "execution": {
     "iopub.execute_input": "2022-11-26T04:55:16.248721Z",
     "iopub.status.busy": "2022-11-26T04:55:16.248624Z",
     "iopub.status.idle": "2022-11-26T05:12:18.422417Z",
     "shell.execute_reply": "2022-11-26T05:12:18.421988Z"
    },
    "papermill": {
     "duration": 1022.189828,
     "end_time": "2022-11-26T05:12:18.423967",
     "exception": false,
     "start_time": "2022-11-26T04:55:16.234139",
     "status": "completed"
    },
    "tags": []
   },
   "outputs": [
    {
     "name": "stderr",
     "output_type": "stream",
     "text": [
      "100%|██████████| 296/296 [17:02<00:00,  3.45s/it]\n"
     ]
    }
   ],
   "source": [
    "ensemble = generate_ensemble(\n",
    "    data_dist,\n",
    "    CLUSTERERS,\n",
    "    attributes=CLUSTERING_ATTRIBUTES_TO_SAVE,\n",
    "    affinity_matrix=data_dist,\n",
    ")"
   ]
  },
  {
   "cell_type": "code",
   "execution_count": 28,
   "id": "9190fefb",
   "metadata": {
    "execution": {
     "iopub.execute_input": "2022-11-26T05:12:18.457265Z",
     "iopub.status.busy": "2022-11-26T05:12:18.457015Z",
     "iopub.status.idle": "2022-11-26T05:12:18.470409Z",
     "shell.execute_reply": "2022-11-26T05:12:18.470046Z"
    },
    "papermill": {
     "duration": 0.030926,
     "end_time": "2022-11-26T05:12:18.471291",
     "exception": false,
     "start_time": "2022-11-26T05:12:18.440365",
     "status": "completed"
    },
    "tags": []
   },
   "outputs": [
    {
     "data": {
      "text/plain": [
       "(296, 3)"
      ]
     },
     "execution_count": 28,
     "metadata": {},
     "output_type": "execute_result"
    }
   ],
   "source": [
    "# the number should be close to 295 (the number of partitions generated by k-means/spectral clustering)\n",
    "ensemble.shape"
   ]
  },
  {
   "cell_type": "code",
   "execution_count": 29,
   "id": "dd2403cc",
   "metadata": {
    "execution": {
     "iopub.execute_input": "2022-11-26T05:12:18.504274Z",
     "iopub.status.busy": "2022-11-26T05:12:18.503985Z",
     "iopub.status.idle": "2022-11-26T05:12:18.535943Z",
     "shell.execute_reply": "2022-11-26T05:12:18.535466Z"
    },
    "papermill": {
     "duration": 0.049838,
     "end_time": "2022-11-26T05:12:18.537468",
     "exception": false,
     "start_time": "2022-11-26T05:12:18.487630",
     "status": "completed"
    },
    "tags": []
   },
   "outputs": [
    {
     "data": {
      "text/html": [
       "<div>\n",
       "<style scoped>\n",
       "    .dataframe tbody tr th:only-of-type {\n",
       "        vertical-align: middle;\n",
       "    }\n",
       "\n",
       "    .dataframe tbody tr th {\n",
       "        vertical-align: top;\n",
       "    }\n",
       "\n",
       "    .dataframe thead th {\n",
       "        text-align: right;\n",
       "    }\n",
       "</style>\n",
       "<table border=\"1\" class=\"dataframe\">\n",
       "  <thead>\n",
       "    <tr style=\"text-align: right;\">\n",
       "      <th></th>\n",
       "      <th>clusterer_params</th>\n",
       "      <th>partition</th>\n",
       "      <th>n_clusters</th>\n",
       "    </tr>\n",
       "    <tr>\n",
       "      <th>clusterer_id</th>\n",
       "      <th></th>\n",
       "      <th></th>\n",
       "      <th></th>\n",
       "    </tr>\n",
       "  </thead>\n",
       "  <tbody>\n",
       "    <tr>\n",
       "      <th>AgglomerativeClustering #0</th>\n",
       "      <td>{'affinity': 'precomputed', 'compute_full_tree...</td>\n",
       "      <td>[1.0, 1.0, 1.0, 1.0, 1.0, 1.0, 1.0, 1.0, 1.0, ...</td>\n",
       "      <td>2</td>\n",
       "    </tr>\n",
       "    <tr>\n",
       "      <th>AgglomerativeClustering #1</th>\n",
       "      <td>{'affinity': 'precomputed', 'compute_full_tree...</td>\n",
       "      <td>[0.0, 0.0, 0.0, 0.0, 0.0, 0.0, 0.0, 0.0, 0.0, ...</td>\n",
       "      <td>2</td>\n",
       "    </tr>\n",
       "    <tr>\n",
       "      <th>AgglomerativeClustering #2</th>\n",
       "      <td>{'affinity': 'precomputed', 'compute_full_tree...</td>\n",
       "      <td>[0.0, 0.0, 0.0, 0.0, 0.0, 0.0, 0.0, 0.0, 0.0, ...</td>\n",
       "      <td>2</td>\n",
       "    </tr>\n",
       "    <tr>\n",
       "      <th>AgglomerativeClustering #3</th>\n",
       "      <td>{'affinity': 'euclidean', 'compute_full_tree':...</td>\n",
       "      <td>[0.0, 0.0, 0.0, 0.0, 0.0, 0.0, 0.0, 0.0, 0.0, ...</td>\n",
       "      <td>2</td>\n",
       "    </tr>\n",
       "    <tr>\n",
       "      <th>AgglomerativeClustering #4</th>\n",
       "      <td>{'affinity': 'precomputed', 'compute_full_tree...</td>\n",
       "      <td>[0.0, 0.0, 0.0, 0.0, 0.0, 0.0, 0.0, 0.0, 0.0, ...</td>\n",
       "      <td>3</td>\n",
       "    </tr>\n",
       "  </tbody>\n",
       "</table>\n",
       "</div>"
      ],
      "text/plain": [
       "                                                             clusterer_params  \\\n",
       "clusterer_id                                                                    \n",
       "AgglomerativeClustering #0  {'affinity': 'precomputed', 'compute_full_tree...   \n",
       "AgglomerativeClustering #1  {'affinity': 'precomputed', 'compute_full_tree...   \n",
       "AgglomerativeClustering #2  {'affinity': 'precomputed', 'compute_full_tree...   \n",
       "AgglomerativeClustering #3  {'affinity': 'euclidean', 'compute_full_tree':...   \n",
       "AgglomerativeClustering #4  {'affinity': 'precomputed', 'compute_full_tree...   \n",
       "\n",
       "                                                                    partition  \\\n",
       "clusterer_id                                                                    \n",
       "AgglomerativeClustering #0  [1.0, 1.0, 1.0, 1.0, 1.0, 1.0, 1.0, 1.0, 1.0, ...   \n",
       "AgglomerativeClustering #1  [0.0, 0.0, 0.0, 0.0, 0.0, 0.0, 0.0, 0.0, 0.0, ...   \n",
       "AgglomerativeClustering #2  [0.0, 0.0, 0.0, 0.0, 0.0, 0.0, 0.0, 0.0, 0.0, ...   \n",
       "AgglomerativeClustering #3  [0.0, 0.0, 0.0, 0.0, 0.0, 0.0, 0.0, 0.0, 0.0, ...   \n",
       "AgglomerativeClustering #4  [0.0, 0.0, 0.0, 0.0, 0.0, 0.0, 0.0, 0.0, 0.0, ...   \n",
       "\n",
       "                            n_clusters  \n",
       "clusterer_id                            \n",
       "AgglomerativeClustering #0           2  \n",
       "AgglomerativeClustering #1           2  \n",
       "AgglomerativeClustering #2           2  \n",
       "AgglomerativeClustering #3           2  \n",
       "AgglomerativeClustering #4           3  "
      ]
     },
     "execution_count": 29,
     "metadata": {},
     "output_type": "execute_result"
    }
   ],
   "source": [
    "ensemble.head()"
   ]
  },
  {
   "cell_type": "code",
   "execution_count": 30,
   "id": "3ba1e908",
   "metadata": {
    "execution": {
     "iopub.execute_input": "2022-11-26T05:12:18.570580Z",
     "iopub.status.busy": "2022-11-26T05:12:18.570289Z",
     "iopub.status.idle": "2022-11-26T05:12:18.592990Z",
     "shell.execute_reply": "2022-11-26T05:12:18.592519Z"
    },
    "papermill": {
     "duration": 0.040233,
     "end_time": "2022-11-26T05:12:18.593890",
     "exception": false,
     "start_time": "2022-11-26T05:12:18.553657",
     "status": "completed"
    },
    "tags": []
   },
   "outputs": [
    {
     "data": {
      "text/plain": [
       "75    4\n",
       "20    4\n",
       "22    4\n",
       "23    4\n",
       "24    4\n",
       "Name: n_clusters, dtype: int64"
      ]
     },
     "execution_count": 30,
     "metadata": {},
     "output_type": "execute_result"
    }
   ],
   "source": [
    "ensemble[\"n_clusters\"].value_counts().head()"
   ]
  },
  {
   "cell_type": "code",
   "execution_count": 31,
   "id": "0240c3b2",
   "metadata": {
    "execution": {
     "iopub.execute_input": "2022-11-26T05:12:18.628811Z",
     "iopub.status.busy": "2022-11-26T05:12:18.628534Z",
     "iopub.status.idle": "2022-11-26T05:12:18.654929Z",
     "shell.execute_reply": "2022-11-26T05:12:18.654388Z"
    },
    "papermill": {
     "duration": 0.045004,
     "end_time": "2022-11-26T05:12:18.655875",
     "exception": false,
     "start_time": "2022-11-26T05:12:18.610871",
     "status": "completed"
    },
    "tags": []
   },
   "outputs": [
    {
     "data": {
      "text/plain": [
       "count    296.000000\n",
       "mean      38.500000\n",
       "std       21.396182\n",
       "min        2.000000\n",
       "25%       20.000000\n",
       "50%       38.500000\n",
       "75%       57.000000\n",
       "max       75.000000\n",
       "Name: n_clusters, dtype: float64"
      ]
     },
     "metadata": {},
     "output_type": "display_data"
    }
   ],
   "source": [
    "ensemble_stats = ensemble[\"n_clusters\"].describe()\n",
    "display(ensemble_stats)"
   ]
  },
  {
   "cell_type": "markdown",
   "id": "0792f1fd",
   "metadata": {
    "papermill": {
     "duration": 0.017029,
     "end_time": "2022-11-26T05:12:18.690692",
     "exception": false,
     "start_time": "2022-11-26T05:12:18.673663",
     "status": "completed"
    },
    "tags": []
   },
   "source": [
    "## Testing"
   ]
  },
  {
   "cell_type": "code",
   "execution_count": 32,
   "id": "9d67e045",
   "metadata": {
    "execution": {
     "iopub.execute_input": "2022-11-26T05:12:18.726061Z",
     "iopub.status.busy": "2022-11-26T05:12:18.725780Z",
     "iopub.status.idle": "2022-11-26T05:12:18.747056Z",
     "shell.execute_reply": "2022-11-26T05:12:18.746563Z"
    },
    "papermill": {
     "duration": 0.040139,
     "end_time": "2022-11-26T05:12:18.748442",
     "exception": false,
     "start_time": "2022-11-26T05:12:18.708303",
     "status": "completed"
    },
    "tags": []
   },
   "outputs": [],
   "source": [
    "assert ensemble_stats[\"min\"] > 1"
   ]
  },
  {
   "cell_type": "code",
   "execution_count": 33,
   "id": "10c60382",
   "metadata": {
    "execution": {
     "iopub.execute_input": "2022-11-26T05:12:18.783465Z",
     "iopub.status.busy": "2022-11-26T05:12:18.783186Z",
     "iopub.status.idle": "2022-11-26T05:12:18.804363Z",
     "shell.execute_reply": "2022-11-26T05:12:18.803859Z"
    },
    "papermill": {
     "duration": 0.039841,
     "end_time": "2022-11-26T05:12:18.805746",
     "exception": false,
     "start_time": "2022-11-26T05:12:18.765905",
     "status": "completed"
    },
    "tags": []
   },
   "outputs": [],
   "source": [
    "assert not ensemble[\"n_clusters\"].isna().any()"
   ]
  },
  {
   "cell_type": "code",
   "execution_count": 34,
   "id": "cd88d917",
   "metadata": {
    "execution": {
     "iopub.execute_input": "2022-11-26T05:12:18.840488Z",
     "iopub.status.busy": "2022-11-26T05:12:18.840191Z",
     "iopub.status.idle": "2022-11-26T05:12:18.862038Z",
     "shell.execute_reply": "2022-11-26T05:12:18.861504Z"
    },
    "papermill": {
     "duration": 0.041121,
     "end_time": "2022-11-26T05:12:18.863270",
     "exception": false,
     "start_time": "2022-11-26T05:12:18.822149",
     "status": "completed"
    },
    "tags": []
   },
   "outputs": [],
   "source": [
    "assert ensemble.shape[0] == len(CLUSTERERS)"
   ]
  },
  {
   "cell_type": "code",
   "execution_count": 35,
   "id": "337fcbba",
   "metadata": {
    "execution": {
     "iopub.execute_input": "2022-11-26T05:12:18.897185Z",
     "iopub.status.busy": "2022-11-26T05:12:18.896922Z",
     "iopub.status.idle": "2022-11-26T05:12:18.940840Z",
     "shell.execute_reply": "2022-11-26T05:12:18.940333Z"
    },
    "papermill": {
     "duration": 0.062064,
     "end_time": "2022-11-26T05:12:18.942044",
     "exception": false,
     "start_time": "2022-11-26T05:12:18.879980",
     "status": "completed"
    },
    "tags": []
   },
   "outputs": [],
   "source": [
    "# all partitions have the right size\n",
    "assert np.all(\n",
    "    [part[\"partition\"].shape[0] == data.shape[0] for idx, part in ensemble.iterrows()]\n",
    ")"
   ]
  },
  {
   "cell_type": "code",
   "execution_count": 36,
   "id": "9669d7f4",
   "metadata": {
    "execution": {
     "iopub.execute_input": "2022-11-26T05:12:18.976219Z",
     "iopub.status.busy": "2022-11-26T05:12:18.975959Z",
     "iopub.status.idle": "2022-11-26T05:12:19.024750Z",
     "shell.execute_reply": "2022-11-26T05:12:19.024196Z"
    },
    "papermill": {
     "duration": 0.066807,
     "end_time": "2022-11-26T05:12:19.025928",
     "exception": false,
     "start_time": "2022-11-26T05:12:18.959121",
     "status": "completed"
    },
    "tags": []
   },
   "outputs": [],
   "source": [
    "# no partition has negative clusters (noisy points)\n",
    "assert not np.any([(part[\"partition\"] < 0).any() for idx, part in ensemble.iterrows()])"
   ]
  },
  {
   "cell_type": "markdown",
   "id": "56ec66a3",
   "metadata": {
    "papermill": {
     "duration": 0.017267,
     "end_time": "2022-11-26T05:12:19.058662",
     "exception": false,
     "start_time": "2022-11-26T05:12:19.041395",
     "status": "completed"
    },
    "tags": []
   },
   "source": [
    "## Add clustering quality measures"
   ]
  },
  {
   "cell_type": "code",
   "execution_count": 37,
   "id": "430d7093",
   "metadata": {
    "execution": {
     "iopub.execute_input": "2022-11-26T05:12:19.092046Z",
     "iopub.status.busy": "2022-11-26T05:12:19.091770Z",
     "iopub.status.idle": "2022-11-26T05:12:19.112236Z",
     "shell.execute_reply": "2022-11-26T05:12:19.111756Z"
    },
    "papermill": {
     "duration": 0.038505,
     "end_time": "2022-11-26T05:12:19.113245",
     "exception": false,
     "start_time": "2022-11-26T05:12:19.074740",
     "status": "completed"
    },
    "tags": []
   },
   "outputs": [],
   "source": [
    "from sklearn.metrics import calinski_harabasz_score"
   ]
  },
  {
   "cell_type": "code",
   "execution_count": 38,
   "id": "2987623f",
   "metadata": {
    "execution": {
     "iopub.execute_input": "2022-11-26T05:12:19.146819Z",
     "iopub.status.busy": "2022-11-26T05:12:19.146664Z",
     "iopub.status.idle": "2022-11-26T05:12:19.899576Z",
     "shell.execute_reply": "2022-11-26T05:12:19.899192Z"
    },
    "papermill": {
     "duration": 0.771958,
     "end_time": "2022-11-26T05:12:19.901206",
     "exception": false,
     "start_time": "2022-11-26T05:12:19.129248",
     "status": "completed"
    },
    "tags": []
   },
   "outputs": [],
   "source": [
    "ensemble = ensemble.assign(\n",
    "    ch_score=ensemble[\"partition\"].apply(lambda x: calinski_harabasz_score(data, x))\n",
    ")"
   ]
  },
  {
   "cell_type": "code",
   "execution_count": 39,
   "id": "70da485c",
   "metadata": {
    "execution": {
     "iopub.execute_input": "2022-11-26T05:12:19.938285Z",
     "iopub.status.busy": "2022-11-26T05:12:19.938004Z",
     "iopub.status.idle": "2022-11-26T05:12:19.959502Z",
     "shell.execute_reply": "2022-11-26T05:12:19.959051Z"
    },
    "papermill": {
     "duration": 0.039379,
     "end_time": "2022-11-26T05:12:19.960290",
     "exception": false,
     "start_time": "2022-11-26T05:12:19.920911",
     "status": "completed"
    },
    "tags": []
   },
   "outputs": [
    {
     "data": {
      "text/plain": [
       "(296, 4)"
      ]
     },
     "execution_count": 39,
     "metadata": {},
     "output_type": "execute_result"
    }
   ],
   "source": [
    "ensemble.shape"
   ]
  },
  {
   "cell_type": "code",
   "execution_count": 40,
   "id": "5e4038c0",
   "metadata": {
    "execution": {
     "iopub.execute_input": "2022-11-26T05:12:19.993163Z",
     "iopub.status.busy": "2022-11-26T05:12:19.992916Z",
     "iopub.status.idle": "2022-11-26T05:12:20.024468Z",
     "shell.execute_reply": "2022-11-26T05:12:20.024013Z"
    },
    "papermill": {
     "duration": 0.048987,
     "end_time": "2022-11-26T05:12:20.025235",
     "exception": false,
     "start_time": "2022-11-26T05:12:19.976248",
     "status": "completed"
    },
    "tags": []
   },
   "outputs": [
    {
     "data": {
      "text/html": [
       "<div>\n",
       "<style scoped>\n",
       "    .dataframe tbody tr th:only-of-type {\n",
       "        vertical-align: middle;\n",
       "    }\n",
       "\n",
       "    .dataframe tbody tr th {\n",
       "        vertical-align: top;\n",
       "    }\n",
       "\n",
       "    .dataframe thead th {\n",
       "        text-align: right;\n",
       "    }\n",
       "</style>\n",
       "<table border=\"1\" class=\"dataframe\">\n",
       "  <thead>\n",
       "    <tr style=\"text-align: right;\">\n",
       "      <th></th>\n",
       "      <th>clusterer_params</th>\n",
       "      <th>partition</th>\n",
       "      <th>n_clusters</th>\n",
       "      <th>ch_score</th>\n",
       "    </tr>\n",
       "    <tr>\n",
       "      <th>clusterer_id</th>\n",
       "      <th></th>\n",
       "      <th></th>\n",
       "      <th></th>\n",
       "      <th></th>\n",
       "    </tr>\n",
       "  </thead>\n",
       "  <tbody>\n",
       "    <tr>\n",
       "      <th>AgglomerativeClustering #0</th>\n",
       "      <td>{'affinity': 'precomputed', 'compute_full_tree...</td>\n",
       "      <td>[1.0, 1.0, 1.0, 1.0, 1.0, 1.0, 1.0, 1.0, 1.0, ...</td>\n",
       "      <td>2</td>\n",
       "      <td>28.684857</td>\n",
       "    </tr>\n",
       "    <tr>\n",
       "      <th>AgglomerativeClustering #1</th>\n",
       "      <td>{'affinity': 'precomputed', 'compute_full_tree...</td>\n",
       "      <td>[0.0, 0.0, 0.0, 0.0, 0.0, 0.0, 0.0, 0.0, 0.0, ...</td>\n",
       "      <td>2</td>\n",
       "      <td>32.238119</td>\n",
       "    </tr>\n",
       "    <tr>\n",
       "      <th>AgglomerativeClustering #2</th>\n",
       "      <td>{'affinity': 'precomputed', 'compute_full_tree...</td>\n",
       "      <td>[0.0, 0.0, 0.0, 0.0, 0.0, 0.0, 0.0, 0.0, 0.0, ...</td>\n",
       "      <td>2</td>\n",
       "      <td>32.238119</td>\n",
       "    </tr>\n",
       "    <tr>\n",
       "      <th>AgglomerativeClustering #3</th>\n",
       "      <td>{'affinity': 'euclidean', 'compute_full_tree':...</td>\n",
       "      <td>[0.0, 0.0, 0.0, 0.0, 0.0, 0.0, 0.0, 0.0, 0.0, ...</td>\n",
       "      <td>2</td>\n",
       "      <td>12.896277</td>\n",
       "    </tr>\n",
       "    <tr>\n",
       "      <th>AgglomerativeClustering #4</th>\n",
       "      <td>{'affinity': 'precomputed', 'compute_full_tree...</td>\n",
       "      <td>[0.0, 0.0, 0.0, 0.0, 0.0, 0.0, 0.0, 0.0, 0.0, ...</td>\n",
       "      <td>3</td>\n",
       "      <td>27.390752</td>\n",
       "    </tr>\n",
       "  </tbody>\n",
       "</table>\n",
       "</div>"
      ],
      "text/plain": [
       "                                                             clusterer_params  \\\n",
       "clusterer_id                                                                    \n",
       "AgglomerativeClustering #0  {'affinity': 'precomputed', 'compute_full_tree...   \n",
       "AgglomerativeClustering #1  {'affinity': 'precomputed', 'compute_full_tree...   \n",
       "AgglomerativeClustering #2  {'affinity': 'precomputed', 'compute_full_tree...   \n",
       "AgglomerativeClustering #3  {'affinity': 'euclidean', 'compute_full_tree':...   \n",
       "AgglomerativeClustering #4  {'affinity': 'precomputed', 'compute_full_tree...   \n",
       "\n",
       "                                                                    partition  \\\n",
       "clusterer_id                                                                    \n",
       "AgglomerativeClustering #0  [1.0, 1.0, 1.0, 1.0, 1.0, 1.0, 1.0, 1.0, 1.0, ...   \n",
       "AgglomerativeClustering #1  [0.0, 0.0, 0.0, 0.0, 0.0, 0.0, 0.0, 0.0, 0.0, ...   \n",
       "AgglomerativeClustering #2  [0.0, 0.0, 0.0, 0.0, 0.0, 0.0, 0.0, 0.0, 0.0, ...   \n",
       "AgglomerativeClustering #3  [0.0, 0.0, 0.0, 0.0, 0.0, 0.0, 0.0, 0.0, 0.0, ...   \n",
       "AgglomerativeClustering #4  [0.0, 0.0, 0.0, 0.0, 0.0, 0.0, 0.0, 0.0, 0.0, ...   \n",
       "\n",
       "                            n_clusters   ch_score  \n",
       "clusterer_id                                       \n",
       "AgglomerativeClustering #0           2  28.684857  \n",
       "AgglomerativeClustering #1           2  32.238119  \n",
       "AgglomerativeClustering #2           2  32.238119  \n",
       "AgglomerativeClustering #3           2  12.896277  \n",
       "AgglomerativeClustering #4           3  27.390752  "
      ]
     },
     "execution_count": 40,
     "metadata": {},
     "output_type": "execute_result"
    }
   ],
   "source": [
    "ensemble.head()"
   ]
  },
  {
   "cell_type": "markdown",
   "id": "63b6b02c",
   "metadata": {
    "papermill": {
     "duration": 0.016154,
     "end_time": "2022-11-26T05:12:20.057018",
     "exception": false,
     "start_time": "2022-11-26T05:12:20.040864",
     "status": "completed"
    },
    "tags": []
   },
   "source": [
    "## Save"
   ]
  },
  {
   "cell_type": "code",
   "execution_count": 41,
   "id": "a72940f8",
   "metadata": {
    "execution": {
     "iopub.execute_input": "2022-11-26T05:12:20.089225Z",
     "iopub.status.busy": "2022-11-26T05:12:20.088971Z",
     "iopub.status.idle": "2022-11-26T05:12:20.111371Z",
     "shell.execute_reply": "2022-11-26T05:12:20.110922Z"
    },
    "papermill": {
     "duration": 0.039218,
     "end_time": "2022-11-26T05:12:20.112223",
     "exception": false,
     "start_time": "2022-11-26T05:12:20.073005",
     "status": "completed"
    },
    "tags": []
   },
   "outputs": [
    {
     "data": {
      "text/plain": [
       "PosixPath('/opt/data/results/clustering/null_sims/shuffle_lvs/runs/pca-z_score_std-projection-smultixcan-efo_partial-mashr-zscores/AgglomerativeClustering-AFFINITY_euclidean-K_MAX_75-K_MIN_2.pkl')"
      ]
     },
     "metadata": {},
     "output_type": "display_data"
    }
   ],
   "source": [
    "output_filename = Path(\n",
    "    RESULTS_DIR,\n",
    "    generate_result_set_name(\n",
    "        {k: v for k, v in CLUSTERING_OPTIONS.items() if k != \"LINKAGE\"},\n",
    "        prefix=f\"{clustering_method_name}-\",\n",
    "        suffix=\".pkl\",\n",
    "    ),\n",
    ").resolve()\n",
    "display(output_filename)"
   ]
  },
  {
   "cell_type": "code",
   "execution_count": 42,
   "id": "05399e7f",
   "metadata": {
    "execution": {
     "iopub.execute_input": "2022-11-26T05:12:20.144928Z",
     "iopub.status.busy": "2022-11-26T05:12:20.144683Z",
     "iopub.status.idle": "2022-11-26T05:12:20.180126Z",
     "shell.execute_reply": "2022-11-26T05:12:20.179588Z"
    },
    "papermill": {
     "duration": 0.053571,
     "end_time": "2022-11-26T05:12:20.181244",
     "exception": false,
     "start_time": "2022-11-26T05:12:20.127673",
     "status": "completed"
    },
    "tags": []
   },
   "outputs": [],
   "source": [
    "ensemble.to_pickle(output_filename)"
   ]
  },
  {
   "cell_type": "markdown",
   "id": "cdc3f143",
   "metadata": {
    "papermill": {
     "duration": 0.015248,
     "end_time": "2022-11-26T05:12:20.212477",
     "exception": false,
     "start_time": "2022-11-26T05:12:20.197229",
     "status": "completed"
    },
    "tags": []
   },
   "source": [
    "# Cluster quality"
   ]
  },
  {
   "cell_type": "code",
   "execution_count": 43,
   "id": "21f657a2",
   "metadata": {
    "execution": {
     "iopub.execute_input": "2022-11-26T05:12:20.246106Z",
     "iopub.status.busy": "2022-11-26T05:12:20.245820Z",
     "iopub.status.idle": "2022-11-26T05:12:20.275069Z",
     "shell.execute_reply": "2022-11-26T05:12:20.274518Z"
    },
    "papermill": {
     "duration": 0.047127,
     "end_time": "2022-11-26T05:12:20.275903",
     "exception": false,
     "start_time": "2022-11-26T05:12:20.228776",
     "status": "completed"
    },
    "tags": []
   },
   "outputs": [
    {
     "data": {
      "text/html": [
       "<div>\n",
       "<style scoped>\n",
       "    .dataframe tbody tr th:only-of-type {\n",
       "        vertical-align: middle;\n",
       "    }\n",
       "\n",
       "    .dataframe tbody tr th {\n",
       "        vertical-align: top;\n",
       "    }\n",
       "\n",
       "    .dataframe thead th {\n",
       "        text-align: right;\n",
       "    }\n",
       "</style>\n",
       "<table border=\"1\" class=\"dataframe\">\n",
       "  <thead>\n",
       "    <tr style=\"text-align: right;\">\n",
       "      <th></th>\n",
       "      <th>ch_score</th>\n",
       "    </tr>\n",
       "    <tr>\n",
       "      <th>n_clusters</th>\n",
       "      <th></th>\n",
       "    </tr>\n",
       "  </thead>\n",
       "  <tbody>\n",
       "    <tr>\n",
       "      <th>2</th>\n",
       "      <td>26.514343</td>\n",
       "    </tr>\n",
       "    <tr>\n",
       "      <th>3</th>\n",
       "      <td>23.717054</td>\n",
       "    </tr>\n",
       "    <tr>\n",
       "      <th>4</th>\n",
       "      <td>22.066441</td>\n",
       "    </tr>\n",
       "    <tr>\n",
       "      <th>5</th>\n",
       "      <td>21.792781</td>\n",
       "    </tr>\n",
       "    <tr>\n",
       "      <th>6</th>\n",
       "      <td>20.700644</td>\n",
       "    </tr>\n",
       "    <tr>\n",
       "      <th>7</th>\n",
       "      <td>19.443090</td>\n",
       "    </tr>\n",
       "    <tr>\n",
       "      <th>8</th>\n",
       "      <td>18.767093</td>\n",
       "    </tr>\n",
       "    <tr>\n",
       "      <th>9</th>\n",
       "      <td>17.898443</td>\n",
       "    </tr>\n",
       "    <tr>\n",
       "      <th>10</th>\n",
       "      <td>17.129795</td>\n",
       "    </tr>\n",
       "    <tr>\n",
       "      <th>11</th>\n",
       "      <td>16.480261</td>\n",
       "    </tr>\n",
       "    <tr>\n",
       "      <th>12</th>\n",
       "      <td>16.551260</td>\n",
       "    </tr>\n",
       "    <tr>\n",
       "      <th>13</th>\n",
       "      <td>16.034889</td>\n",
       "    </tr>\n",
       "    <tr>\n",
       "      <th>14</th>\n",
       "      <td>15.738949</td>\n",
       "    </tr>\n",
       "    <tr>\n",
       "      <th>15</th>\n",
       "      <td>15.306495</td>\n",
       "    </tr>\n",
       "    <tr>\n",
       "      <th>16</th>\n",
       "      <td>14.973311</td>\n",
       "    </tr>\n",
       "    <tr>\n",
       "      <th>17</th>\n",
       "      <td>14.898940</td>\n",
       "    </tr>\n",
       "    <tr>\n",
       "      <th>18</th>\n",
       "      <td>14.534806</td>\n",
       "    </tr>\n",
       "    <tr>\n",
       "      <th>19</th>\n",
       "      <td>14.259970</td>\n",
       "    </tr>\n",
       "    <tr>\n",
       "      <th>20</th>\n",
       "      <td>13.932035</td>\n",
       "    </tr>\n",
       "    <tr>\n",
       "      <th>21</th>\n",
       "      <td>13.654291</td>\n",
       "    </tr>\n",
       "    <tr>\n",
       "      <th>22</th>\n",
       "      <td>13.578568</td>\n",
       "    </tr>\n",
       "    <tr>\n",
       "      <th>23</th>\n",
       "      <td>13.624825</td>\n",
       "    </tr>\n",
       "    <tr>\n",
       "      <th>24</th>\n",
       "      <td>13.363721</td>\n",
       "    </tr>\n",
       "    <tr>\n",
       "      <th>25</th>\n",
       "      <td>13.083546</td>\n",
       "    </tr>\n",
       "    <tr>\n",
       "      <th>26</th>\n",
       "      <td>12.859593</td>\n",
       "    </tr>\n",
       "    <tr>\n",
       "      <th>27</th>\n",
       "      <td>12.661420</td>\n",
       "    </tr>\n",
       "    <tr>\n",
       "      <th>28</th>\n",
       "      <td>12.432132</td>\n",
       "    </tr>\n",
       "    <tr>\n",
       "      <th>29</th>\n",
       "      <td>12.239107</td>\n",
       "    </tr>\n",
       "    <tr>\n",
       "      <th>30</th>\n",
       "      <td>12.075935</td>\n",
       "    </tr>\n",
       "    <tr>\n",
       "      <th>31</th>\n",
       "      <td>11.915370</td>\n",
       "    </tr>\n",
       "    <tr>\n",
       "      <th>32</th>\n",
       "      <td>11.747152</td>\n",
       "    </tr>\n",
       "    <tr>\n",
       "      <th>33</th>\n",
       "      <td>11.575836</td>\n",
       "    </tr>\n",
       "    <tr>\n",
       "      <th>34</th>\n",
       "      <td>11.411934</td>\n",
       "    </tr>\n",
       "    <tr>\n",
       "      <th>35</th>\n",
       "      <td>11.278768</td>\n",
       "    </tr>\n",
       "    <tr>\n",
       "      <th>36</th>\n",
       "      <td>11.277145</td>\n",
       "    </tr>\n",
       "    <tr>\n",
       "      <th>37</th>\n",
       "      <td>11.119350</td>\n",
       "    </tr>\n",
       "    <tr>\n",
       "      <th>38</th>\n",
       "      <td>10.987351</td>\n",
       "    </tr>\n",
       "    <tr>\n",
       "      <th>39</th>\n",
       "      <td>10.858554</td>\n",
       "    </tr>\n",
       "    <tr>\n",
       "      <th>40</th>\n",
       "      <td>10.730844</td>\n",
       "    </tr>\n",
       "    <tr>\n",
       "      <th>41</th>\n",
       "      <td>10.600929</td>\n",
       "    </tr>\n",
       "    <tr>\n",
       "      <th>42</th>\n",
       "      <td>10.466947</td>\n",
       "    </tr>\n",
       "    <tr>\n",
       "      <th>43</th>\n",
       "      <td>10.356518</td>\n",
       "    </tr>\n",
       "    <tr>\n",
       "      <th>44</th>\n",
       "      <td>10.234026</td>\n",
       "    </tr>\n",
       "    <tr>\n",
       "      <th>45</th>\n",
       "      <td>10.123390</td>\n",
       "    </tr>\n",
       "    <tr>\n",
       "      <th>46</th>\n",
       "      <td>10.011502</td>\n",
       "    </tr>\n",
       "    <tr>\n",
       "      <th>47</th>\n",
       "      <td>9.902113</td>\n",
       "    </tr>\n",
       "    <tr>\n",
       "      <th>48</th>\n",
       "      <td>9.811660</td>\n",
       "    </tr>\n",
       "    <tr>\n",
       "      <th>49</th>\n",
       "      <td>9.716112</td>\n",
       "    </tr>\n",
       "    <tr>\n",
       "      <th>50</th>\n",
       "      <td>9.624764</td>\n",
       "    </tr>\n",
       "    <tr>\n",
       "      <th>51</th>\n",
       "      <td>9.532150</td>\n",
       "    </tr>\n",
       "    <tr>\n",
       "      <th>52</th>\n",
       "      <td>9.446036</td>\n",
       "    </tr>\n",
       "    <tr>\n",
       "      <th>53</th>\n",
       "      <td>9.357099</td>\n",
       "    </tr>\n",
       "    <tr>\n",
       "      <th>54</th>\n",
       "      <td>9.267792</td>\n",
       "    </tr>\n",
       "    <tr>\n",
       "      <th>55</th>\n",
       "      <td>9.184531</td>\n",
       "    </tr>\n",
       "    <tr>\n",
       "      <th>56</th>\n",
       "      <td>9.106371</td>\n",
       "    </tr>\n",
       "    <tr>\n",
       "      <th>57</th>\n",
       "      <td>9.029689</td>\n",
       "    </tr>\n",
       "    <tr>\n",
       "      <th>58</th>\n",
       "      <td>8.951630</td>\n",
       "    </tr>\n",
       "    <tr>\n",
       "      <th>59</th>\n",
       "      <td>8.879816</td>\n",
       "    </tr>\n",
       "    <tr>\n",
       "      <th>60</th>\n",
       "      <td>8.801336</td>\n",
       "    </tr>\n",
       "    <tr>\n",
       "      <th>61</th>\n",
       "      <td>8.728877</td>\n",
       "    </tr>\n",
       "    <tr>\n",
       "      <th>62</th>\n",
       "      <td>8.653679</td>\n",
       "    </tr>\n",
       "    <tr>\n",
       "      <th>63</th>\n",
       "      <td>8.577856</td>\n",
       "    </tr>\n",
       "    <tr>\n",
       "      <th>64</th>\n",
       "      <td>8.506746</td>\n",
       "    </tr>\n",
       "    <tr>\n",
       "      <th>65</th>\n",
       "      <td>8.440044</td>\n",
       "    </tr>\n",
       "    <tr>\n",
       "      <th>66</th>\n",
       "      <td>8.370013</td>\n",
       "    </tr>\n",
       "    <tr>\n",
       "      <th>67</th>\n",
       "      <td>8.305651</td>\n",
       "    </tr>\n",
       "    <tr>\n",
       "      <th>68</th>\n",
       "      <td>8.242800</td>\n",
       "    </tr>\n",
       "    <tr>\n",
       "      <th>69</th>\n",
       "      <td>8.176692</td>\n",
       "    </tr>\n",
       "    <tr>\n",
       "      <th>70</th>\n",
       "      <td>8.125797</td>\n",
       "    </tr>\n",
       "    <tr>\n",
       "      <th>71</th>\n",
       "      <td>8.067818</td>\n",
       "    </tr>\n",
       "    <tr>\n",
       "      <th>72</th>\n",
       "      <td>8.006491</td>\n",
       "    </tr>\n",
       "    <tr>\n",
       "      <th>73</th>\n",
       "      <td>7.953639</td>\n",
       "    </tr>\n",
       "    <tr>\n",
       "      <th>74</th>\n",
       "      <td>7.907768</td>\n",
       "    </tr>\n",
       "    <tr>\n",
       "      <th>75</th>\n",
       "      <td>7.853008</td>\n",
       "    </tr>\n",
       "  </tbody>\n",
       "</table>\n",
       "</div>"
      ],
      "text/plain": [
       "             ch_score\n",
       "n_clusters           \n",
       "2           26.514343\n",
       "3           23.717054\n",
       "4           22.066441\n",
       "5           21.792781\n",
       "6           20.700644\n",
       "7           19.443090\n",
       "8           18.767093\n",
       "9           17.898443\n",
       "10          17.129795\n",
       "11          16.480261\n",
       "12          16.551260\n",
       "13          16.034889\n",
       "14          15.738949\n",
       "15          15.306495\n",
       "16          14.973311\n",
       "17          14.898940\n",
       "18          14.534806\n",
       "19          14.259970\n",
       "20          13.932035\n",
       "21          13.654291\n",
       "22          13.578568\n",
       "23          13.624825\n",
       "24          13.363721\n",
       "25          13.083546\n",
       "26          12.859593\n",
       "27          12.661420\n",
       "28          12.432132\n",
       "29          12.239107\n",
       "30          12.075935\n",
       "31          11.915370\n",
       "32          11.747152\n",
       "33          11.575836\n",
       "34          11.411934\n",
       "35          11.278768\n",
       "36          11.277145\n",
       "37          11.119350\n",
       "38          10.987351\n",
       "39          10.858554\n",
       "40          10.730844\n",
       "41          10.600929\n",
       "42          10.466947\n",
       "43          10.356518\n",
       "44          10.234026\n",
       "45          10.123390\n",
       "46          10.011502\n",
       "47           9.902113\n",
       "48           9.811660\n",
       "49           9.716112\n",
       "50           9.624764\n",
       "51           9.532150\n",
       "52           9.446036\n",
       "53           9.357099\n",
       "54           9.267792\n",
       "55           9.184531\n",
       "56           9.106371\n",
       "57           9.029689\n",
       "58           8.951630\n",
       "59           8.879816\n",
       "60           8.801336\n",
       "61           8.728877\n",
       "62           8.653679\n",
       "63           8.577856\n",
       "64           8.506746\n",
       "65           8.440044\n",
       "66           8.370013\n",
       "67           8.305651\n",
       "68           8.242800\n",
       "69           8.176692\n",
       "70           8.125797\n",
       "71           8.067818\n",
       "72           8.006491\n",
       "73           7.953639\n",
       "74           7.907768\n",
       "75           7.853008"
      ]
     },
     "metadata": {},
     "output_type": "display_data"
    }
   ],
   "source": [
    "with pd.option_context(\"display.max_rows\", None, \"display.max_columns\", None):\n",
    "    _df = ensemble.groupby([\"n_clusters\"]).mean()\n",
    "    display(_df)"
   ]
  },
  {
   "cell_type": "code",
   "execution_count": 44,
   "id": "8a9db4cc",
   "metadata": {
    "execution": {
     "iopub.execute_input": "2022-11-26T05:12:20.309283Z",
     "iopub.status.busy": "2022-11-26T05:12:20.309028Z",
     "iopub.status.idle": "2022-11-26T05:12:22.814242Z",
     "shell.execute_reply": "2022-11-26T05:12:22.813722Z"
    },
    "papermill": {
     "duration": 2.523229,
     "end_time": "2022-11-26T05:12:22.815678",
     "exception": false,
     "start_time": "2022-11-26T05:12:20.292449",
     "status": "completed"
    },
    "tags": []
   },
   "outputs": [
    {
     "data": {
      "image/png": "[encoded data removed]",
      "text/plain": [
       "<Figure size 1008x432 with 1 Axes>"
      ]
     },
     "metadata": {},
     "output_type": "display_data"
    }
   ],
   "source": [
    "with sns.plotting_context(\"talk\", font_scale=0.75), sns.axes_style(\n",
    "    \"whitegrid\", {\"grid.linestyle\": \"--\"}\n",
    "):\n",
    "    fig = plt.figure(figsize=(14, 6))\n",
    "    ax = sns.pointplot(data=ensemble, x=\"n_clusters\", y=\"ch_score\")\n",
    "    ax.set_ylabel(\"Calinski-Harabasz index\")\n",
    "    ax.set_xlabel(\"Number of clusters ($k$)\")\n",
    "    ax.set_xticklabels(ax.get_xticklabels(), rotation=45)\n",
    "    plt.grid(True)\n",
    "    plt.tight_layout()"
   ]
  },
  {
   "cell_type": "markdown",
   "id": "aa7fc98e",
   "metadata": {
    "papermill": {
     "duration": 0.017012,
     "end_time": "2022-11-26T05:12:22.852120",
     "exception": false,
     "start_time": "2022-11-26T05:12:22.835108",
     "status": "completed"
    },
    "tags": []
   },
   "source": [
    "# Stability"
   ]
  },
  {
   "cell_type": "markdown",
   "id": "80defe36",
   "metadata": {
    "papermill": {
     "duration": 0.0166,
     "end_time": "2022-11-26T05:12:22.885015",
     "exception": false,
     "start_time": "2022-11-26T05:12:22.868415",
     "status": "completed"
    },
    "tags": []
   },
   "source": [
    "## Group ensemble by n_clusters"
   ]
  },
  {
   "cell_type": "code",
   "execution_count": 45,
   "id": "93245971",
   "metadata": {
    "execution": {
     "iopub.execute_input": "2022-11-26T05:12:22.918615Z",
     "iopub.status.busy": "2022-11-26T05:12:22.918338Z",
     "iopub.status.idle": "2022-11-26T05:12:22.960930Z",
     "shell.execute_reply": "2022-11-26T05:12:22.960414Z"
    },
    "papermill": {
     "duration": 0.060834,
     "end_time": "2022-11-26T05:12:22.962191",
     "exception": false,
     "start_time": "2022-11-26T05:12:22.901357",
     "status": "completed"
    },
    "tags": []
   },
   "outputs": [],
   "source": [
    "parts = ensemble.groupby(\"n_clusters\").apply(\n",
    "    lambda x: np.concatenate(x[\"partition\"].apply(lambda x: x.reshape(1, -1)), axis=0)\n",
    ")"
   ]
  },
  {
   "cell_type": "code",
   "execution_count": 46,
   "id": "286d45fc",
   "metadata": {
    "execution": {
     "iopub.execute_input": "2022-11-26T05:12:22.997136Z",
     "iopub.status.busy": "2022-11-26T05:12:22.996865Z",
     "iopub.status.idle": "2022-11-26T05:12:23.032123Z",
     "shell.execute_reply": "2022-11-26T05:12:23.031688Z"
    },
    "papermill": {
     "duration": 0.054057,
     "end_time": "2022-11-26T05:12:23.033412",
     "exception": false,
     "start_time": "2022-11-26T05:12:22.979355",
     "status": "completed"
    },
    "tags": []
   },
   "outputs": [
    {
     "data": {
      "text/plain": [
       "n_clusters\n",
       "2    [[1.0, 1.0, 1.0, 1.0, 1.0, 1.0, 1.0, 1.0, 1.0,...\n",
       "3    [[0.0, 0.0, 0.0, 0.0, 0.0, 0.0, 0.0, 0.0, 0.0,...\n",
       "4    [[0.0, 0.0, 0.0, 0.0, 0.0, 0.0, 0.0, 0.0, 0.0,...\n",
       "5    [[0.0, 0.0, 0.0, 0.0, 0.0, 0.0, 0.0, 0.0, 0.0,...\n",
       "6    [[0.0, 0.0, 0.0, 0.0, 0.0, 0.0, 0.0, 0.0, 0.0,...\n",
       "dtype: object"
      ]
     },
     "execution_count": 46,
     "metadata": {},
     "output_type": "execute_result"
    }
   ],
   "source": [
    "parts.head()"
   ]
  },
  {
   "cell_type": "code",
   "execution_count": 47,
   "id": "53259847",
   "metadata": {
    "execution": {
     "iopub.execute_input": "2022-11-26T05:12:23.070540Z",
     "iopub.status.busy": "2022-11-26T05:12:23.070135Z",
     "iopub.status.idle": "2022-11-26T05:12:23.091746Z",
     "shell.execute_reply": "2022-11-26T05:12:23.091288Z"
    },
    "papermill": {
     "duration": 0.039441,
     "end_time": "2022-11-26T05:12:23.092582",
     "exception": false,
     "start_time": "2022-11-26T05:12:23.053141",
     "status": "completed"
    },
    "tags": []
   },
   "outputs": [],
   "source": [
    "assert np.all(\n",
    "    [\n",
    "        parts.loc[k].shape == (len(CLUSTERING_OPTIONS[\"LINKAGE\"]), data.shape[0])\n",
    "        for k in parts.index\n",
    "    ]\n",
    ")"
   ]
  },
  {
   "cell_type": "markdown",
   "id": "da4afe8e",
   "metadata": {
    "papermill": {
     "duration": 0.016847,
     "end_time": "2022-11-26T05:12:23.128080",
     "exception": false,
     "start_time": "2022-11-26T05:12:23.111233",
     "status": "completed"
    },
    "tags": []
   },
   "source": [
    "## Compute stability"
   ]
  },
  {
   "cell_type": "code",
   "execution_count": 48,
   "id": "b36d34aa",
   "metadata": {
    "execution": {
     "iopub.execute_input": "2022-11-26T05:12:23.162151Z",
     "iopub.status.busy": "2022-11-26T05:12:23.161887Z",
     "iopub.status.idle": "2022-11-26T05:12:23.182844Z",
     "shell.execute_reply": "2022-11-26T05:12:23.182372Z"
    },
    "papermill": {
     "duration": 0.038802,
     "end_time": "2022-11-26T05:12:23.183752",
     "exception": false,
     "start_time": "2022-11-26T05:12:23.144950",
     "status": "completed"
    },
    "tags": []
   },
   "outputs": [],
   "source": [
    "from sklearn.metrics import adjusted_rand_score as ari\n",
    "from scipy.spatial.distance import pdist"
   ]
  },
  {
   "cell_type": "code",
   "execution_count": 49,
   "id": "9a345667",
   "metadata": {
    "execution": {
     "iopub.execute_input": "2022-11-26T05:12:23.218044Z",
     "iopub.status.busy": "2022-11-26T05:12:23.217799Z",
     "iopub.status.idle": "2022-11-26T05:12:23.581004Z",
     "shell.execute_reply": "2022-11-26T05:12:23.580577Z"
    },
    "papermill": {
     "duration": 0.381834,
     "end_time": "2022-11-26T05:12:23.582148",
     "exception": false,
     "start_time": "2022-11-26T05:12:23.200314",
     "status": "completed"
    },
    "tags": []
   },
   "outputs": [],
   "source": [
    "parts_ari = pd.Series(\n",
    "    {k: pdist(parts.loc[k], metric=ari) for k in parts.index}, name=\"k\"\n",
    ")"
   ]
  },
  {
   "cell_type": "code",
   "execution_count": 50,
   "id": "df258976",
   "metadata": {
    "execution": {
     "iopub.execute_input": "2022-11-26T05:12:23.616687Z",
     "iopub.status.busy": "2022-11-26T05:12:23.616581Z",
     "iopub.status.idle": "2022-11-26T05:12:23.631094Z",
     "shell.execute_reply": "2022-11-26T05:12:23.630744Z"
    },
    "papermill": {
     "duration": 0.032271,
     "end_time": "2022-11-26T05:12:23.631791",
     "exception": false,
     "start_time": "2022-11-26T05:12:23.599520",
     "status": "completed"
    },
    "tags": []
   },
   "outputs": [
    {
     "data": {
      "text/plain": [
       "4     0.501560\n",
       "6     0.472429\n",
       "9     0.450133\n",
       "13    0.444037\n",
       "25    0.443632\n",
       "21    0.440039\n",
       "7     0.435613\n",
       "20    0.432297\n",
       "40    0.432168\n",
       "41    0.432022\n",
       "2     0.430500\n",
       "12    0.429953\n",
       "23    0.429883\n",
       "24    0.429357\n",
       "39    0.427977\n",
       "Name: k, dtype: float64"
      ]
     },
     "metadata": {},
     "output_type": "display_data"
    }
   ],
   "source": [
    "parts_ari_stability = parts_ari.apply(lambda x: x.mean())\n",
    "display(parts_ari_stability.sort_values(ascending=False).head(15))"
   ]
  },
  {
   "cell_type": "code",
   "execution_count": 51,
   "id": "14f55da3",
   "metadata": {
    "execution": {
     "iopub.execute_input": "2022-11-26T05:12:23.666774Z",
     "iopub.status.busy": "2022-11-26T05:12:23.666342Z",
     "iopub.status.idle": "2022-11-26T05:12:23.688677Z",
     "shell.execute_reply": "2022-11-26T05:12:23.688154Z"
    },
    "papermill": {
     "duration": 0.04129,
     "end_time": "2022-11-26T05:12:23.689633",
     "exception": false,
     "start_time": "2022-11-26T05:12:23.648343",
     "status": "completed"
    },
    "tags": []
   },
   "outputs": [],
   "source": [
    "parts_ari_df = pd.DataFrame.from_records(parts_ari.tolist()).set_index(\n",
    "    parts_ari.index.copy()\n",
    ")"
   ]
  },
  {
   "cell_type": "code",
   "execution_count": 52,
   "id": "1841d33d",
   "metadata": {
    "execution": {
     "iopub.execute_input": "2022-11-26T05:12:23.723579Z",
     "iopub.status.busy": "2022-11-26T05:12:23.723224Z",
     "iopub.status.idle": "2022-11-26T05:12:23.744195Z",
     "shell.execute_reply": "2022-11-26T05:12:23.743748Z"
    },
    "papermill": {
     "duration": 0.03885,
     "end_time": "2022-11-26T05:12:23.745031",
     "exception": false,
     "start_time": "2022-11-26T05:12:23.706181",
     "status": "completed"
    },
    "tags": []
   },
   "outputs": [
    {
     "data": {
      "text/plain": [
       "(74, 6)"
      ]
     },
     "execution_count": 52,
     "metadata": {},
     "output_type": "execute_result"
    }
   ],
   "source": [
    "parts_ari_df.shape"
   ]
  },
  {
   "cell_type": "code",
   "execution_count": 53,
   "id": "52fab6d3",
   "metadata": {
    "execution": {
     "iopub.execute_input": "2022-11-26T05:12:23.801363Z",
     "iopub.status.busy": "2022-11-26T05:12:23.801041Z",
     "iopub.status.idle": "2022-11-26T05:12:23.822102Z",
     "shell.execute_reply": "2022-11-26T05:12:23.821609Z"
    },
    "papermill": {
     "duration": 0.06061,
     "end_time": "2022-11-26T05:12:23.822922",
     "exception": false,
     "start_time": "2022-11-26T05:12:23.762312",
     "status": "completed"
    },
    "tags": []
   },
   "outputs": [],
   "source": [
    "assert (\n",
    "    int(\n",
    "        (len(CLUSTERING_OPTIONS[\"LINKAGE\"]) * (len(CLUSTERING_OPTIONS[\"LINKAGE\"]) - 1))\n",
    "        / 2\n",
    "    )\n",
    "    == parts_ari_df.shape[1]\n",
    ")"
   ]
  },
  {
   "cell_type": "code",
   "execution_count": 54,
   "id": "eb2345f9",
   "metadata": {
    "execution": {
     "iopub.execute_input": "2022-11-26T05:12:23.857811Z",
     "iopub.status.busy": "2022-11-26T05:12:23.857572Z",
     "iopub.status.idle": "2022-11-26T05:12:23.883993Z",
     "shell.execute_reply": "2022-11-26T05:12:23.883532Z"
    },
    "papermill": {
     "duration": 0.044851,
     "end_time": "2022-11-26T05:12:23.884835",
     "exception": false,
     "start_time": "2022-11-26T05:12:23.839984",
     "status": "completed"
    },
    "tags": []
   },
   "outputs": [
    {
     "data": {
      "text/html": [
       "<div>\n",
       "<style scoped>\n",
       "    .dataframe tbody tr th:only-of-type {\n",
       "        vertical-align: middle;\n",
       "    }\n",
       "\n",
       "    .dataframe tbody tr th {\n",
       "        vertical-align: top;\n",
       "    }\n",
       "\n",
       "    .dataframe thead th {\n",
       "        text-align: right;\n",
       "    }\n",
       "</style>\n",
       "<table border=\"1\" class=\"dataframe\">\n",
       "  <thead>\n",
       "    <tr style=\"text-align: right;\">\n",
       "      <th></th>\n",
       "      <th>0</th>\n",
       "      <th>1</th>\n",
       "      <th>2</th>\n",
       "      <th>3</th>\n",
       "      <th>4</th>\n",
       "      <th>5</th>\n",
       "    </tr>\n",
       "  </thead>\n",
       "  <tbody>\n",
       "    <tr>\n",
       "      <th>2</th>\n",
       "      <td>0.666370</td>\n",
       "      <td>0.666370</td>\n",
       "      <td>0.123190</td>\n",
       "      <td>1.0</td>\n",
       "      <td>0.063534</td>\n",
       "      <td>0.063534</td>\n",
       "    </tr>\n",
       "    <tr>\n",
       "      <th>3</th>\n",
       "      <td>0.499667</td>\n",
       "      <td>0.499667</td>\n",
       "      <td>0.028891</td>\n",
       "      <td>1.0</td>\n",
       "      <td>0.028891</td>\n",
       "      <td>0.028891</td>\n",
       "    </tr>\n",
       "    <tr>\n",
       "      <th>4</th>\n",
       "      <td>1.000000</td>\n",
       "      <td>1.000000</td>\n",
       "      <td>0.003121</td>\n",
       "      <td>1.0</td>\n",
       "      <td>0.003121</td>\n",
       "      <td>0.003121</td>\n",
       "    </tr>\n",
       "    <tr>\n",
       "      <th>5</th>\n",
       "      <td>0.666153</td>\n",
       "      <td>0.666153</td>\n",
       "      <td>0.005259</td>\n",
       "      <td>1.0</td>\n",
       "      <td>0.004218</td>\n",
       "      <td>0.004218</td>\n",
       "    </tr>\n",
       "    <tr>\n",
       "      <th>6</th>\n",
       "      <td>0.908866</td>\n",
       "      <td>0.908866</td>\n",
       "      <td>0.006307</td>\n",
       "      <td>1.0</td>\n",
       "      <td>0.005267</td>\n",
       "      <td>0.005267</td>\n",
       "    </tr>\n",
       "  </tbody>\n",
       "</table>\n",
       "</div>"
      ],
      "text/plain": [
       "          0         1         2    3         4         5\n",
       "2  0.666370  0.666370  0.123190  1.0  0.063534  0.063534\n",
       "3  0.499667  0.499667  0.028891  1.0  0.028891  0.028891\n",
       "4  1.000000  1.000000  0.003121  1.0  0.003121  0.003121\n",
       "5  0.666153  0.666153  0.005259  1.0  0.004218  0.004218\n",
       "6  0.908866  0.908866  0.006307  1.0  0.005267  0.005267"
      ]
     },
     "execution_count": 54,
     "metadata": {},
     "output_type": "execute_result"
    }
   ],
   "source": [
    "parts_ari_df.head()"
   ]
  },
  {
   "cell_type": "markdown",
   "id": "260bb200",
   "metadata": {
    "papermill": {
     "duration": 0.01681,
     "end_time": "2022-11-26T05:12:23.919068",
     "exception": false,
     "start_time": "2022-11-26T05:12:23.902258",
     "status": "completed"
    },
    "tags": []
   },
   "source": [
    "## Save"
   ]
  },
  {
   "cell_type": "code",
   "execution_count": 55,
   "id": "c91ced4f",
   "metadata": {
    "execution": {
     "iopub.execute_input": "2022-11-26T05:12:23.953112Z",
     "iopub.status.busy": "2022-11-26T05:12:23.952860Z",
     "iopub.status.idle": "2022-11-26T05:12:23.974695Z",
     "shell.execute_reply": "2022-11-26T05:12:23.974255Z"
    },
    "papermill": {
     "duration": 0.039851,
     "end_time": "2022-11-26T05:12:23.975498",
     "exception": false,
     "start_time": "2022-11-26T05:12:23.935647",
     "status": "completed"
    },
    "tags": []
   },
   "outputs": [
    {
     "data": {
      "text/plain": [
       "PosixPath('/opt/data/results/clustering/null_sims/shuffle_lvs/runs/pca-z_score_std-projection-smultixcan-efo_partial-mashr-zscores/AgglomerativeClustering-stability-AFFINITY_euclidean-K_MAX_75-K_MIN_2-LINKAGE_complete_single_average_ward.pkl')"
      ]
     },
     "metadata": {},
     "output_type": "display_data"
    }
   ],
   "source": [
    "output_filename = Path(\n",
    "    RESULTS_DIR,\n",
    "    generate_result_set_name(\n",
    "        CLUSTERING_OPTIONS,\n",
    "        prefix=f\"{clustering_method_name}-stability-\",\n",
    "        suffix=\".pkl\",\n",
    "    ),\n",
    ").resolve()\n",
    "display(output_filename)"
   ]
  },
  {
   "cell_type": "code",
   "execution_count": 56,
   "id": "eff628e7",
   "metadata": {
    "execution": {
     "iopub.execute_input": "2022-11-26T05:12:24.011610Z",
     "iopub.status.busy": "2022-11-26T05:12:24.011342Z",
     "iopub.status.idle": "2022-11-26T05:12:24.032463Z",
     "shell.execute_reply": "2022-11-26T05:12:24.032001Z"
    },
    "papermill": {
     "duration": 0.039987,
     "end_time": "2022-11-26T05:12:24.033324",
     "exception": false,
     "start_time": "2022-11-26T05:12:23.993337",
     "status": "completed"
    },
    "tags": []
   },
   "outputs": [],
   "source": [
    "parts_ari_df.to_pickle(output_filename)"
   ]
  },
  {
   "cell_type": "markdown",
   "id": "3382dcbc",
   "metadata": {
    "papermill": {
     "duration": 0.016533,
     "end_time": "2022-11-26T05:12:24.067520",
     "exception": false,
     "start_time": "2022-11-26T05:12:24.050987",
     "status": "completed"
    },
    "tags": []
   },
   "source": [
    "## Stability plot"
   ]
  },
  {
   "cell_type": "code",
   "execution_count": 57,
   "id": "1b15c162",
   "metadata": {
    "execution": {
     "iopub.execute_input": "2022-11-26T05:12:24.102725Z",
     "iopub.status.busy": "2022-11-26T05:12:24.102208Z",
     "iopub.status.idle": "2022-11-26T05:12:24.125004Z",
     "shell.execute_reply": "2022-11-26T05:12:24.124545Z"
    },
    "papermill": {
     "duration": 0.041059,
     "end_time": "2022-11-26T05:12:24.125888",
     "exception": false,
     "start_time": "2022-11-26T05:12:24.084829",
     "status": "completed"
    },
    "tags": []
   },
   "outputs": [],
   "source": [
    "parts_ari_df_plot = (\n",
    "    parts_ari_df.stack()\n",
    "    .reset_index()\n",
    "    .rename(columns={\"level_0\": \"k\", \"level_1\": \"idx\", 0: \"ari\"})\n",
    ")"
   ]
  },
  {
   "cell_type": "code",
   "execution_count": 58,
   "id": "9785d563",
   "metadata": {
    "execution": {
     "iopub.execute_input": "2022-11-26T05:12:24.160073Z",
     "iopub.status.busy": "2022-11-26T05:12:24.159837Z",
     "iopub.status.idle": "2022-11-26T05:12:24.182109Z",
     "shell.execute_reply": "2022-11-26T05:12:24.181664Z"
    },
    "papermill": {
     "duration": 0.040166,
     "end_time": "2022-11-26T05:12:24.182914",
     "exception": false,
     "start_time": "2022-11-26T05:12:24.142748",
     "status": "completed"
    },
    "tags": []
   },
   "outputs": [
    {
     "data": {
      "text/plain": [
       "k        int64\n",
       "idx      int64\n",
       "ari    float64\n",
       "dtype: object"
      ]
     },
     "execution_count": 58,
     "metadata": {},
     "output_type": "execute_result"
    }
   ],
   "source": [
    "parts_ari_df_plot.dtypes"
   ]
  },
  {
   "cell_type": "code",
   "execution_count": 59,
   "id": "d67712cc",
   "metadata": {
    "execution": {
     "iopub.execute_input": "2022-11-26T05:12:24.217436Z",
     "iopub.status.busy": "2022-11-26T05:12:24.217196Z",
     "iopub.status.idle": "2022-11-26T05:12:24.241203Z",
     "shell.execute_reply": "2022-11-26T05:12:24.240764Z"
    },
    "papermill": {
     "duration": 0.042614,
     "end_time": "2022-11-26T05:12:24.242576",
     "exception": false,
     "start_time": "2022-11-26T05:12:24.199962",
     "status": "completed"
    },
    "tags": []
   },
   "outputs": [
    {
     "data": {
      "text/html": [
       "<div>\n",
       "<style scoped>\n",
       "    .dataframe tbody tr th:only-of-type {\n",
       "        vertical-align: middle;\n",
       "    }\n",
       "\n",
       "    .dataframe tbody tr th {\n",
       "        vertical-align: top;\n",
       "    }\n",
       "\n",
       "    .dataframe thead th {\n",
       "        text-align: right;\n",
       "    }\n",
       "</style>\n",
       "<table border=\"1\" class=\"dataframe\">\n",
       "  <thead>\n",
       "    <tr style=\"text-align: right;\">\n",
       "      <th></th>\n",
       "      <th>k</th>\n",
       "      <th>idx</th>\n",
       "      <th>ari</th>\n",
       "    </tr>\n",
       "  </thead>\n",
       "  <tbody>\n",
       "    <tr>\n",
       "      <th>0</th>\n",
       "      <td>2</td>\n",
       "      <td>0</td>\n",
       "      <td>0.666370</td>\n",
       "    </tr>\n",
       "    <tr>\n",
       "      <th>1</th>\n",
       "      <td>2</td>\n",
       "      <td>1</td>\n",
       "      <td>0.666370</td>\n",
       "    </tr>\n",
       "    <tr>\n",
       "      <th>2</th>\n",
       "      <td>2</td>\n",
       "      <td>2</td>\n",
       "      <td>0.123190</td>\n",
       "    </tr>\n",
       "    <tr>\n",
       "      <th>3</th>\n",
       "      <td>2</td>\n",
       "      <td>3</td>\n",
       "      <td>1.000000</td>\n",
       "    </tr>\n",
       "    <tr>\n",
       "      <th>4</th>\n",
       "      <td>2</td>\n",
       "      <td>4</td>\n",
       "      <td>0.063534</td>\n",
       "    </tr>\n",
       "  </tbody>\n",
       "</table>\n",
       "</div>"
      ],
      "text/plain": [
       "   k  idx       ari\n",
       "0  2    0  0.666370\n",
       "1  2    1  0.666370\n",
       "2  2    2  0.123190\n",
       "3  2    3  1.000000\n",
       "4  2    4  0.063534"
      ]
     },
     "execution_count": 59,
     "metadata": {},
     "output_type": "execute_result"
    }
   ],
   "source": [
    "parts_ari_df_plot.head()"
   ]
  },
  {
   "cell_type": "code",
   "execution_count": 60,
   "id": "c95e503e",
   "metadata": {
    "execution": {
     "iopub.execute_input": "2022-11-26T05:12:24.302507Z",
     "iopub.status.busy": "2022-11-26T05:12:24.302249Z",
     "iopub.status.idle": "2022-11-26T05:12:26.670943Z",
     "shell.execute_reply": "2022-11-26T05:12:26.670523Z"
    },
    "papermill": {
     "duration": 2.39496,
     "end_time": "2022-11-26T05:12:26.672131",
     "exception": false,
     "start_time": "2022-11-26T05:12:24.277171",
     "status": "completed"
    },
    "tags": []
   },
   "outputs": [
    {
     "data": {
      "image/png": "[encoded data removed]",
      "text/plain": [
       "<Figure size 1008x432 with 1 Axes>"
      ]
     },
     "metadata": {},
     "output_type": "display_data"
    }
   ],
   "source": [
    "# with sns.axes_style('whitegrid', {'grid.linestyle': '--'}):\n",
    "with sns.plotting_context(\"talk\", font_scale=0.75), sns.axes_style(\n",
    "    \"whitegrid\", {\"grid.linestyle\": \"--\"}\n",
    "):\n",
    "    fig = plt.figure(figsize=(14, 6))\n",
    "    ax = sns.pointplot(data=parts_ari_df_plot, x=\"k\", y=\"ari\")\n",
    "    ax.set_ylabel(\"Averange ARI\")\n",
    "    ax.set_xlabel(\"Number of clusters ($k$)\")\n",
    "    ax.set_xticklabels(ax.get_xticklabels(), rotation=45)\n",
    "    #     ax.set_ylim(0.0, 1.0)\n",
    "    #     ax.set_xlim(CLUSTERING_OPTIONS['K_MIN'], CLUSTERING_OPTIONS['K_MAX'])\n",
    "    plt.grid(True)\n",
    "    plt.tight_layout()"
   ]
  },
  {
   "cell_type": "code",
   "execution_count": null,
   "id": "133599e4",
   "metadata": {
    "papermill": {
     "duration": 0.01762,
     "end_time": "2022-11-26T05:12:26.708910",
     "exception": false,
     "start_time": "2022-11-26T05:12:26.691290",
     "status": "completed"
    },
    "tags": []
   },
   "outputs": [],
   "source": []
  }
 ],
 "metadata": {
  "jupytext": {
   "cell_metadata_filter": "all,-execution,-papermill,-trusted",
   "formats": "ipynb,py//py:percent"
  },
  "kernelspec": {
   "display_name": "Python 3 (ipykernel)",
   "language": "python",
   "name": "python3"
  },
  "language_info": {
   "codemirror_mode": {
    "name": "ipython",
    "version": 3
   },
   "file_extension": ".py",
   "mimetype": "text/x-python",
   "name": "python",
   "nbconvert_exporter": "python",
   "pygments_lexer": "ipython3",
   "version": "3.8.13"
  },
  "papermill": {
   "default_parameters": {},
   "duration": 1033.853248,
   "end_time": "2022-11-26T05:12:27.044164",
   "environment_variables": {},
   "exception": null,
   "input_path": "nbs/13.1_cluster_analysis_null/05-shuffle_lvs/13_01-hc-pca.ipynb",
   "output_path": "nbs/13.1_cluster_analysis_null/05-shuffle_lvs/13_01-hc-pca.run.ipynb",
   "parameters": {},
   "start_time": "2022-11-26T04:55:13.190916",
   "version": "2.2.2"
  },
  "toc-autonumbering": true,
  "toc-showcode": false,
  "toc-showmarkdowntxt": false,
  "toc-showtags": false
 },
 "nbformat": 4,
 "nbformat_minor": 5
}
