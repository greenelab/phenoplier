{
 "cells": [
  {
   "cell_type": "markdown",
   "id": "2404a903",
   "metadata": {
    "papermill": {
     "duration": 0.017579,
     "end_time": "2022-09-13T03:59:59.000117",
     "exception": false,
     "start_time": "2022-09-13T03:59:58.982538",
     "status": "completed"
    },
    "tags": []
   },
   "source": [
    "# Description"
   ]
  },
  {
   "cell_type": "markdown",
   "id": "388dd933",
   "metadata": {
    "papermill": {
     "duration": 0.009221,
     "end_time": "2022-09-13T03:59:59.025664",
     "exception": false,
     "start_time": "2022-09-13T03:59:59.016443",
     "status": "completed"
    },
    "tags": []
   },
   "source": [
    "It reads all the clustering partitions obtained with different algorithms, and generates the ensemble by putting it into a numpy array. Then it obtains the coassociation matrix from the ensemble (see more details below)."
   ]
  },
  {
   "cell_type": "markdown",
   "id": "7715551a",
   "metadata": {
    "papermill": {
     "duration": 0.005113,
     "end_time": "2022-09-13T03:59:59.037443",
     "exception": false,
     "start_time": "2022-09-13T03:59:59.032330",
     "status": "completed"
    },
    "tags": []
   },
   "source": [
    "# Environment variables"
   ]
  },
  {
   "cell_type": "code",
   "execution_count": 1,
   "id": "dad995e0",
   "metadata": {
    "execution": {
     "iopub.execute_input": "2022-09-13T03:59:59.048713Z",
     "iopub.status.busy": "2022-09-13T03:59:59.048085Z",
     "iopub.status.idle": "2022-09-13T03:59:59.063925Z",
     "shell.execute_reply": "2022-09-13T03:59:59.063212Z"
    },
    "papermill": {
     "duration": 0.022214,
     "end_time": "2022-09-13T03:59:59.065336",
     "exception": false,
     "start_time": "2022-09-13T03:59:59.043122",
     "status": "completed"
    },
    "tags": []
   },
   "outputs": [
    {
     "data": {
      "text/plain": [
       "3"
      ]
     },
     "metadata": {},
     "output_type": "display_data"
    }
   ],
   "source": [
    "from IPython.display import display\n",
    "\n",
    "import conf\n",
    "\n",
    "N_JOBS = conf.GENERAL[\"N_JOBS\"]\n",
    "display(N_JOBS)"
   ]
  },
  {
   "cell_type": "code",
   "execution_count": 2,
   "id": "f568f855",
   "metadata": {
    "execution": {
     "iopub.execute_input": "2022-09-13T03:59:59.074290Z",
     "iopub.status.busy": "2022-09-13T03:59:59.074055Z",
     "iopub.status.idle": "2022-09-13T03:59:59.078956Z",
     "shell.execute_reply": "2022-09-13T03:59:59.078465Z"
    },
    "papermill": {
     "duration": 0.010582,
     "end_time": "2022-09-13T03:59:59.080133",
     "exception": false,
     "start_time": "2022-09-13T03:59:59.069551",
     "status": "completed"
    },
    "tags": []
   },
   "outputs": [
    {
     "name": "stdout",
     "output_type": "stream",
     "text": [
      "env: MKL_NUM_THREADS=3\n",
      "env: OPEN_BLAS_NUM_THREADS=3\n",
      "env: NUMEXPR_NUM_THREADS=3\n",
      "env: OMP_NUM_THREADS=3\n"
     ]
    }
   ],
   "source": [
    "%env MKL_NUM_THREADS=$N_JOBS\n",
    "%env OPEN_BLAS_NUM_THREADS=$N_JOBS\n",
    "%env NUMEXPR_NUM_THREADS=$N_JOBS\n",
    "%env OMP_NUM_THREADS=$N_JOBS"
   ]
  },
  {
   "cell_type": "markdown",
   "id": "f5cc7ac1",
   "metadata": {
    "papermill": {
     "duration": 0.003973,
     "end_time": "2022-09-13T03:59:59.088355",
     "exception": false,
     "start_time": "2022-09-13T03:59:59.084382",
     "status": "completed"
    },
    "tags": []
   },
   "source": [
    "# Modules loading"
   ]
  },
  {
   "cell_type": "code",
   "execution_count": 3,
   "id": "a9aa94a8",
   "metadata": {
    "execution": {
     "iopub.execute_input": "2022-09-13T03:59:59.097111Z",
     "iopub.status.busy": "2022-09-13T03:59:59.096909Z",
     "iopub.status.idle": "2022-09-13T03:59:59.110704Z",
     "shell.execute_reply": "2022-09-13T03:59:59.110266Z"
    },
    "papermill": {
     "duration": 0.019625,
     "end_time": "2022-09-13T03:59:59.112024",
     "exception": false,
     "start_time": "2022-09-13T03:59:59.092399",
     "status": "completed"
    },
    "tags": []
   },
   "outputs": [],
   "source": [
    "%load_ext autoreload\n",
    "%autoreload 2"
   ]
  },
  {
   "cell_type": "code",
   "execution_count": 4,
   "id": "f0d16b99",
   "metadata": {
    "execution": {
     "iopub.execute_input": "2022-09-13T03:59:59.121225Z",
     "iopub.status.busy": "2022-09-13T03:59:59.121038Z",
     "iopub.status.idle": "2022-09-13T03:59:59.363244Z",
     "shell.execute_reply": "2022-09-13T03:59:59.362736Z"
    },
    "papermill": {
     "duration": 0.248335,
     "end_time": "2022-09-13T03:59:59.364595",
     "exception": false,
     "start_time": "2022-09-13T03:59:59.116260",
     "status": "completed"
    },
    "tags": []
   },
   "outputs": [],
   "source": [
    "from pathlib import Path\n",
    "\n",
    "import numpy as np\n",
    "import pandas as pd"
   ]
  },
  {
   "cell_type": "markdown",
   "id": "c3351607",
   "metadata": {
    "papermill": {
     "duration": 0.004205,
     "end_time": "2022-09-13T03:59:59.373312",
     "exception": false,
     "start_time": "2022-09-13T03:59:59.369107",
     "status": "completed"
    },
    "tags": []
   },
   "source": [
    "# Settings"
   ]
  },
  {
   "cell_type": "code",
   "execution_count": 5,
   "id": "3e477376",
   "metadata": {
    "execution": {
     "iopub.execute_input": "2022-09-13T03:59:59.382879Z",
     "iopub.status.busy": "2022-09-13T03:59:59.382394Z",
     "iopub.status.idle": "2022-09-13T03:59:59.395242Z",
     "shell.execute_reply": "2022-09-13T03:59:59.394732Z"
    },
    "papermill": {
     "duration": 0.019057,
     "end_time": "2022-09-13T03:59:59.396587",
     "exception": false,
     "start_time": "2022-09-13T03:59:59.377530",
     "status": "completed"
    },
    "tags": []
   },
   "outputs": [],
   "source": [
    "RANDOM_GENERATOR = np.random.default_rng(12345)"
   ]
  },
  {
   "cell_type": "markdown",
   "id": "06e56028",
   "metadata": {
    "papermill": {
     "duration": 0.004132,
     "end_time": "2022-09-13T03:59:59.405285",
     "exception": false,
     "start_time": "2022-09-13T03:59:59.401153",
     "status": "completed"
    },
    "tags": []
   },
   "source": [
    "## Ensemble size"
   ]
  },
  {
   "cell_type": "markdown",
   "id": "5c9d752f",
   "metadata": {
    "papermill": {
     "duration": 0.004237,
     "end_time": "2022-09-13T03:59:59.413681",
     "exception": false,
     "start_time": "2022-09-13T03:59:59.409444",
     "status": "completed"
    },
    "tags": []
   },
   "source": [
    "For some clustering algorithms it is easy to control the number of final partitions to generate: for instance, for k-means, you can generate partitions from k=2 to k=20 (19 partitions with different number of clusters). However, with algorithms such as DBSCAN this is not very easy to achieve, since for some parameter combinations (`eps` and `min_samples`) it generates partitions with one cluster (which is not an actual partition of the data) that are not included here.\n",
    "\n",
    "The parameters below specify the expected number of partitions for each clustering algorithm, and a range of allowed sizes. Then, the code below checks that each algorithm has the same representation in the ensemble. For example, if `EXPECTED_ENSEMBLE_SIZE=50`, `MIN_ENSEMBLE_SIZE=45` and `MAX_ENSEMBLE_SIZE=55`, the code below will check that k-means, spectral clustering, DBSCAN, etc, generated between 45 and 55 partitions. If not, it resamples the generated partitions to get 50 (the value specified by `EXPECTED_ENSEMBLE_SIZE`), so each algorithm has approximately the same representation in the full ensemble."
   ]
  },
  {
   "cell_type": "code",
   "execution_count": 6,
   "id": "491c096b",
   "metadata": {
    "execution": {
     "iopub.execute_input": "2022-09-13T03:59:59.432972Z",
     "iopub.status.busy": "2022-09-13T03:59:59.432446Z",
     "iopub.status.idle": "2022-09-13T03:59:59.444579Z",
     "shell.execute_reply": "2022-09-13T03:59:59.443889Z"
    },
    "papermill": {
     "duration": 0.018355,
     "end_time": "2022-09-13T03:59:59.445835",
     "exception": false,
     "start_time": "2022-09-13T03:59:59.427480",
     "status": "completed"
    },
    "tags": []
   },
   "outputs": [],
   "source": [
    "# EXPECTED_ENSEMBLE_SIZE = 295\n",
    "\n",
    "# MIN_ENSEMBLE_SIZE = 290\n",
    "# MAX_ENSEMBLE_SIZE = 300"
   ]
  },
  {
   "cell_type": "markdown",
   "id": "1759e0ea",
   "metadata": {
    "papermill": {
     "duration": 0.004415,
     "end_time": "2022-09-13T03:59:59.454739",
     "exception": false,
     "start_time": "2022-09-13T03:59:59.450324",
     "status": "completed"
    },
    "tags": []
   },
   "source": [
    "## Consensus clustering"
   ]
  },
  {
   "cell_type": "code",
   "execution_count": 7,
   "id": "8020ce25",
   "metadata": {
    "execution": {
     "iopub.execute_input": "2022-09-13T03:59:59.464400Z",
     "iopub.status.busy": "2022-09-13T03:59:59.464229Z",
     "iopub.status.idle": "2022-09-13T03:59:59.478146Z",
     "shell.execute_reply": "2022-09-13T03:59:59.477446Z"
    },
    "papermill": {
     "duration": 0.020313,
     "end_time": "2022-09-13T03:59:59.479499",
     "exception": false,
     "start_time": "2022-09-13T03:59:59.459186",
     "status": "completed"
    },
    "tags": []
   },
   "outputs": [
    {
     "data": {
      "text/plain": [
       "PosixPath('/opt/data/results/clustering/null_sims/consensus_clustering')"
      ]
     },
     "metadata": {},
     "output_type": "display_data"
    }
   ],
   "source": [
    "# output dir for this notebook\n",
    "RESULTS_DIR = Path(\n",
    "    conf.RESULTS[\"CLUSTERING_NULL_DIR\"], \"consensus_clustering\"\n",
    ").resolve()\n",
    "RESULTS_DIR.mkdir(parents=True, exist_ok=True)\n",
    "\n",
    "display(RESULTS_DIR)"
   ]
  },
  {
   "cell_type": "markdown",
   "id": "1aef6ece",
   "metadata": {
    "papermill": {
     "duration": 0.004296,
     "end_time": "2022-09-13T03:59:59.488293",
     "exception": false,
     "start_time": "2022-09-13T03:59:59.483997",
     "status": "completed"
    },
    "tags": []
   },
   "source": [
    "# Get ensemble"
   ]
  },
  {
   "cell_type": "markdown",
   "id": "83db7dfb",
   "metadata": {
    "papermill": {
     "duration": 0.004178,
     "end_time": "2022-09-13T03:59:59.496808",
     "exception": false,
     "start_time": "2022-09-13T03:59:59.492630",
     "status": "completed"
    },
    "tags": []
   },
   "source": [
    "## Load partition files"
   ]
  },
  {
   "cell_type": "code",
   "execution_count": 8,
   "id": "3bb26fc4",
   "metadata": {
    "execution": {
     "iopub.execute_input": "2022-09-13T03:59:59.506231Z",
     "iopub.status.busy": "2022-09-13T03:59:59.506012Z",
     "iopub.status.idle": "2022-09-13T03:59:59.519904Z",
     "shell.execute_reply": "2022-09-13T03:59:59.519373Z"
    },
    "papermill": {
     "duration": 0.019947,
     "end_time": "2022-09-13T03:59:59.521179",
     "exception": false,
     "start_time": "2022-09-13T03:59:59.501232",
     "status": "completed"
    },
    "tags": []
   },
   "outputs": [
    {
     "data": {
      "text/plain": [
       "PosixPath('/opt/data/results/clustering/null_sims/runs')"
      ]
     },
     "metadata": {},
     "output_type": "display_data"
    }
   ],
   "source": [
    "input_dir = Path(\n",
    "    conf.RESULTS[\"CLUSTERING_NULL_DIR\"],\n",
    "    \"runs\",\n",
    ").resolve()\n",
    "display(input_dir)"
   ]
  },
  {
   "cell_type": "code",
   "execution_count": 9,
   "id": "fac3e759",
   "metadata": {
    "execution": {
     "iopub.execute_input": "2022-09-13T03:59:59.532584Z",
     "iopub.status.busy": "2022-09-13T03:59:59.532421Z",
     "iopub.status.idle": "2022-09-13T03:59:59.545722Z",
     "shell.execute_reply": "2022-09-13T03:59:59.545215Z"
    },
    "papermill": {
     "duration": 0.01978,
     "end_time": "2022-09-13T03:59:59.547090",
     "exception": false,
     "start_time": "2022-09-13T03:59:59.527310",
     "status": "completed"
    },
    "tags": []
   },
   "outputs": [],
   "source": [
    "included_pkl_files = []\n",
    "\n",
    "for pkl_file in input_dir.rglob(\"*.pkl\"):\n",
    "    pkl_file_str = str(pkl_file)\n",
    "\n",
    "    # skip stability pkl files\n",
    "    if \"-stability-\" in pkl_file_str:\n",
    "        continue\n",
    "\n",
    "    included_pkl_files.append(pkl_file)"
   ]
  },
  {
   "cell_type": "code",
   "execution_count": 10,
   "id": "088574d5",
   "metadata": {
    "execution": {
     "iopub.execute_input": "2022-09-13T03:59:59.557151Z",
     "iopub.status.busy": "2022-09-13T03:59:59.556985Z",
     "iopub.status.idle": "2022-09-13T03:59:59.570594Z",
     "shell.execute_reply": "2022-09-13T03:59:59.569949Z"
    },
    "papermill": {
     "duration": 0.020219,
     "end_time": "2022-09-13T03:59:59.572066",
     "exception": false,
     "start_time": "2022-09-13T03:59:59.551847",
     "status": "completed"
    },
    "tags": []
   },
   "outputs": [
    {
     "data": {
      "text/plain": [
       "14"
      ]
     },
     "metadata": {},
     "output_type": "display_data"
    }
   ],
   "source": [
    "display(len(included_pkl_files))\n",
    "\n",
    "# 5 algorithms, 3 dataset versions\n",
    "assert len(included_pkl_files) == (5 * 3) - 1  # because dbscan on z-scores fails here"
   ]
  },
  {
   "cell_type": "markdown",
   "id": "01ae6977",
   "metadata": {
    "papermill": {
     "duration": 0.004935,
     "end_time": "2022-09-13T03:59:59.582252",
     "exception": false,
     "start_time": "2022-09-13T03:59:59.577317",
     "status": "completed"
    },
    "tags": []
   },
   "source": [
    "## Combine partition files to get final ensemble"
   ]
  },
  {
   "cell_type": "code",
   "execution_count": 11,
   "id": "11c225b6",
   "metadata": {
    "execution": {
     "iopub.execute_input": "2022-09-13T03:59:59.593287Z",
     "iopub.status.busy": "2022-09-13T03:59:59.593123Z",
     "iopub.status.idle": "2022-09-13T03:59:59.605406Z",
     "shell.execute_reply": "2022-09-13T03:59:59.604876Z"
    },
    "papermill": {
     "duration": 0.019403,
     "end_time": "2022-09-13T03:59:59.606819",
     "exception": false,
     "start_time": "2022-09-13T03:59:59.587416",
     "status": "completed"
    },
    "tags": []
   },
   "outputs": [],
   "source": [
    "n_partitions = 0"
   ]
  },
  {
   "cell_type": "code",
   "execution_count": 12,
   "id": "e20707ed",
   "metadata": {
    "execution": {
     "iopub.execute_input": "2022-09-13T03:59:59.617143Z",
     "iopub.status.busy": "2022-09-13T03:59:59.616976Z",
     "iopub.status.idle": "2022-09-13T03:59:59.629370Z",
     "shell.execute_reply": "2022-09-13T03:59:59.628891Z"
    },
    "papermill": {
     "duration": 0.018962,
     "end_time": "2022-09-13T03:59:59.630634",
     "exception": false,
     "start_time": "2022-09-13T03:59:59.611672",
     "status": "completed"
    },
    "tags": []
   },
   "outputs": [],
   "source": [
    "ensembles_list = []"
   ]
  },
  {
   "cell_type": "code",
   "execution_count": 13,
   "id": "dd633192",
   "metadata": {
    "execution": {
     "iopub.execute_input": "2022-09-13T03:59:59.641019Z",
     "iopub.status.busy": "2022-09-13T03:59:59.640854Z",
     "iopub.status.idle": "2022-09-13T03:59:59.780839Z",
     "shell.execute_reply": "2022-09-13T03:59:59.780104Z"
    },
    "papermill": {
     "duration": 0.146995,
     "end_time": "2022-09-13T03:59:59.782552",
     "exception": false,
     "start_time": "2022-09-13T03:59:59.635557",
     "status": "completed"
    },
    "tags": []
   },
   "outputs": [],
   "source": [
    "for ens_file in included_pkl_files:\n",
    "    ens = pd.read_pickle(ens_file)\n",
    "\n",
    "    #     short_file_path = Path(*ens_file.parts[-2:])\n",
    "\n",
    "    #     if ens.shape[0] < MIN_ENSEMBLE_SIZE:\n",
    "    #         print(f\"Less partitions than expected in {short_file_path}\")\n",
    "\n",
    "    #         # if less partitions than expected, resample with replacement\n",
    "    #         ens = ens.sample(\n",
    "    #             n=EXPECTED_ENSEMBLE_SIZE,\n",
    "    #             replace=True,\n",
    "    #             random_state=RANDOM_GENERATOR.bit_generator,\n",
    "    #         )\n",
    "    #         assert ens.shape[0] == EXPECTED_ENSEMBLE_SIZE\n",
    "\n",
    "    #     elif ens.shape[0] > MAX_ENSEMBLE_SIZE:\n",
    "    #         print(f\"More partitions than expected in {short_file_path}\")\n",
    "\n",
    "    #         # if more partitions than expected, take a smaller sample\n",
    "    #         ens = ens.sample(\n",
    "    #             n=EXPECTED_ENSEMBLE_SIZE, random_state=RANDOM_GENERATOR.bit_generator\n",
    "    #         )\n",
    "    #         assert ens.shape[0] == EXPECTED_ENSEMBLE_SIZE\n",
    "\n",
    "    ens_full_format = np.concatenate(\n",
    "        ens[\"partition\"].apply(lambda x: x.reshape(1, -1)), axis=0\n",
    "    )\n",
    "\n",
    "    n_partitions += ens_full_format.shape[0]\n",
    "\n",
    "    ensembles_list.append(ens_full_format)"
   ]
  },
  {
   "cell_type": "code",
   "execution_count": 14,
   "id": "0a6938c2",
   "metadata": {
    "execution": {
     "iopub.execute_input": "2022-09-13T03:59:59.795006Z",
     "iopub.status.busy": "2022-09-13T03:59:59.794828Z",
     "iopub.status.idle": "2022-09-13T03:59:59.809962Z",
     "shell.execute_reply": "2022-09-13T03:59:59.809358Z"
    },
    "papermill": {
     "duration": 0.022558,
     "end_time": "2022-09-13T03:59:59.811387",
     "exception": false,
     "start_time": "2022-09-13T03:59:59.788829",
     "status": "completed"
    },
    "tags": []
   },
   "outputs": [
    {
     "data": {
      "text/plain": [
       "14"
      ]
     },
     "metadata": {},
     "output_type": "display_data"
    }
   ],
   "source": [
    "display(len(ensembles_list))\n",
    "assert len(ensembles_list) == len(included_pkl_files)"
   ]
  },
  {
   "cell_type": "code",
   "execution_count": 15,
   "id": "63bb156b",
   "metadata": {
    "execution": {
     "iopub.execute_input": "2022-09-13T03:59:59.823226Z",
     "iopub.status.busy": "2022-09-13T03:59:59.823061Z",
     "iopub.status.idle": "2022-09-13T03:59:59.836846Z",
     "shell.execute_reply": "2022-09-13T03:59:59.836208Z"
    },
    "papermill": {
     "duration": 0.021146,
     "end_time": "2022-09-13T03:59:59.838190",
     "exception": false,
     "start_time": "2022-09-13T03:59:59.817044",
     "status": "completed"
    },
    "tags": []
   },
   "outputs": [
    {
     "data": {
      "text/plain": [
       "3752"
      ]
     },
     "metadata": {},
     "output_type": "display_data"
    }
   ],
   "source": [
    "n_data_objects = ensembles_list[0].shape[1]\n",
    "display(n_data_objects)"
   ]
  },
  {
   "cell_type": "code",
   "execution_count": 16,
   "id": "2b227120",
   "metadata": {
    "execution": {
     "iopub.execute_input": "2022-09-13T03:59:59.849513Z",
     "iopub.status.busy": "2022-09-13T03:59:59.849340Z",
     "iopub.status.idle": "2022-09-13T03:59:59.863080Z",
     "shell.execute_reply": "2022-09-13T03:59:59.862611Z"
    },
    "papermill": {
     "duration": 0.020921,
     "end_time": "2022-09-13T03:59:59.864462",
     "exception": false,
     "start_time": "2022-09-13T03:59:59.843541",
     "status": "completed"
    },
    "tags": []
   },
   "outputs": [
    {
     "data": {
      "text/plain": [
       "3831"
      ]
     },
     "metadata": {},
     "output_type": "display_data"
    }
   ],
   "source": [
    "display(n_partitions)"
   ]
  },
  {
   "cell_type": "code",
   "execution_count": 17,
   "id": "9d5cacb5",
   "metadata": {
    "execution": {
     "iopub.execute_input": "2022-09-13T03:59:59.876065Z",
     "iopub.status.busy": "2022-09-13T03:59:59.875894Z",
     "iopub.status.idle": "2022-09-13T04:00:00.073069Z",
     "shell.execute_reply": "2022-09-13T04:00:00.071928Z"
    },
    "papermill": {
     "duration": 0.206535,
     "end_time": "2022-09-13T04:00:00.076498",
     "exception": false,
     "start_time": "2022-09-13T03:59:59.869963",
     "status": "completed"
    },
    "tags": []
   },
   "outputs": [],
   "source": [
    "full_ensemble = ensembles_list[0]\n",
    "for ens in ensembles_list[1:]:\n",
    "    full_ensemble = np.concatenate((full_ensemble, ens), axis=0)"
   ]
  },
  {
   "cell_type": "code",
   "execution_count": 18,
   "id": "d40548c3",
   "metadata": {
    "execution": {
     "iopub.execute_input": "2022-09-13T04:00:00.095067Z",
     "iopub.status.busy": "2022-09-13T04:00:00.094808Z",
     "iopub.status.idle": "2022-09-13T04:00:00.110880Z",
     "shell.execute_reply": "2022-09-13T04:00:00.110288Z"
    },
    "papermill": {
     "duration": 0.026306,
     "end_time": "2022-09-13T04:00:00.112194",
     "exception": false,
     "start_time": "2022-09-13T04:00:00.085888",
     "status": "completed"
    },
    "tags": []
   },
   "outputs": [
    {
     "data": {
      "text/plain": [
       "(3831, 3752)"
      ]
     },
     "metadata": {},
     "output_type": "display_data"
    }
   ],
   "source": [
    "display(full_ensemble.shape)\n",
    "assert full_ensemble.shape == (n_partitions, n_data_objects)"
   ]
  },
  {
   "cell_type": "markdown",
   "id": "07bf26f1",
   "metadata": {
    "papermill": {
     "duration": 0.005083,
     "end_time": "2022-09-13T04:00:00.122727",
     "exception": false,
     "start_time": "2022-09-13T04:00:00.117644",
     "status": "completed"
    },
    "tags": []
   },
   "source": [
    "## Save"
   ]
  },
  {
   "cell_type": "code",
   "execution_count": 19,
   "id": "74e79279",
   "metadata": {
    "execution": {
     "iopub.execute_input": "2022-09-13T04:00:00.134183Z",
     "iopub.status.busy": "2022-09-13T04:00:00.133992Z",
     "iopub.status.idle": "2022-09-13T04:00:00.147092Z",
     "shell.execute_reply": "2022-09-13T04:00:00.146516Z"
    },
    "papermill": {
     "duration": 0.020298,
     "end_time": "2022-09-13T04:00:00.148301",
     "exception": false,
     "start_time": "2022-09-13T04:00:00.128003",
     "status": "completed"
    },
    "tags": []
   },
   "outputs": [
    {
     "data": {
      "text/plain": [
       "PosixPath('/opt/data/results/clustering/null_sims/consensus_clustering/ensemble.npy')"
      ]
     },
     "metadata": {},
     "output_type": "display_data"
    }
   ],
   "source": [
    "output_file = Path(RESULTS_DIR, \"ensemble.npy\").resolve()\n",
    "display(output_file)"
   ]
  },
  {
   "cell_type": "code",
   "execution_count": 20,
   "id": "18c3c78c",
   "metadata": {
    "execution": {
     "iopub.execute_input": "2022-09-13T04:00:00.189394Z",
     "iopub.status.busy": "2022-09-13T04:00:00.189200Z",
     "iopub.status.idle": "2022-09-13T04:00:00.205656Z",
     "shell.execute_reply": "2022-09-13T04:00:00.205147Z"
    },
    "papermill": {
     "duration": 0.024691,
     "end_time": "2022-09-13T04:00:00.207070",
     "exception": false,
     "start_time": "2022-09-13T04:00:00.182379",
     "status": "completed"
    },
    "tags": []
   },
   "outputs": [
    {
     "data": {
      "text/plain": [
       "array([[ 1.,  1.,  1., ...,  1.,  1.,  1.],\n",
       "       [ 0.,  0.,  0., ...,  0.,  0.,  0.],\n",
       "       [ 1.,  1.,  1., ...,  1.,  1.,  1.],\n",
       "       ...,\n",
       "       [52., 24., 13., ...,  7., 58., 14.],\n",
       "       [45., 31., 29., ..., 51., 14., 56.],\n",
       "       [ 0.,  0.,  0., ...,  0.,  0.,  0.]])"
      ]
     },
     "execution_count": 20,
     "metadata": {},
     "output_type": "execute_result"
    }
   ],
   "source": [
    "full_ensemble"
   ]
  },
  {
   "cell_type": "code",
   "execution_count": 21,
   "id": "daaa724d",
   "metadata": {
    "execution": {
     "iopub.execute_input": "2022-09-13T04:00:00.219706Z",
     "iopub.status.busy": "2022-09-13T04:00:00.219526Z",
     "iopub.status.idle": "2022-09-13T04:00:00.304546Z",
     "shell.execute_reply": "2022-09-13T04:00:00.303821Z"
    },
    "papermill": {
     "duration": 0.092972,
     "end_time": "2022-09-13T04:00:00.306051",
     "exception": false,
     "start_time": "2022-09-13T04:00:00.213079",
     "status": "completed"
    },
    "tags": []
   },
   "outputs": [],
   "source": [
    "np.save(output_file, full_ensemble)"
   ]
  },
  {
   "cell_type": "markdown",
   "id": "41cb00f2",
   "metadata": {
    "papermill": {
     "duration": 0.005065,
     "end_time": "2022-09-13T04:00:00.316593",
     "exception": false,
     "start_time": "2022-09-13T04:00:00.311528",
     "status": "completed"
    },
    "tags": []
   },
   "source": [
    "# Get coassociation matrix from ensemble"
   ]
  },
  {
   "cell_type": "markdown",
   "id": "f2807741",
   "metadata": {
    "papermill": {
     "duration": 0.005064,
     "end_time": "2022-09-13T04:00:00.326894",
     "exception": false,
     "start_time": "2022-09-13T04:00:00.321830",
     "status": "completed"
    },
    "tags": []
   },
   "source": [
    "The coassociation matrix is a distance matrix derived from the ensemble, where each cell represents the percentage of times a pair of objects (traits and diseases in this case) were not clustered together. It serves as an input for any consensus function (basically, another clustering algorithm) to derive a consensus partition."
   ]
  },
  {
   "cell_type": "code",
   "execution_count": 22,
   "id": "2ccb6b52",
   "metadata": {
    "execution": {
     "iopub.execute_input": "2022-09-13T04:00:00.338315Z",
     "iopub.status.busy": "2022-09-13T04:00:00.338109Z",
     "iopub.status.idle": "2022-09-13T04:00:00.564135Z",
     "shell.execute_reply": "2022-09-13T04:00:00.563319Z"
    },
    "papermill": {
     "duration": 0.233459,
     "end_time": "2022-09-13T04:00:00.565567",
     "exception": false,
     "start_time": "2022-09-13T04:00:00.332108",
     "status": "completed"
    },
    "tags": []
   },
   "outputs": [],
   "source": [
    "from clustering.ensembles.utils import get_ensemble_distance_matrix"
   ]
  },
  {
   "cell_type": "code",
   "execution_count": 23,
   "id": "f0765ad5",
   "metadata": {
    "execution": {
     "iopub.execute_input": "2022-09-13T04:00:00.581199Z",
     "iopub.status.busy": "2022-09-13T04:00:00.580621Z",
     "iopub.status.idle": "2022-09-13T04:18:34.900170Z",
     "shell.execute_reply": "2022-09-13T04:18:34.899497Z"
    },
    "papermill": {
     "duration": 1114.327605,
     "end_time": "2022-09-13T04:18:34.901941",
     "exception": false,
     "start_time": "2022-09-13T04:00:00.574336",
     "status": "completed"
    },
    "tags": []
   },
   "outputs": [],
   "source": [
    "ensemble_coassoc_matrix = get_ensemble_distance_matrix(\n",
    "    full_ensemble,\n",
    "    n_jobs=conf.GENERAL[\"N_JOBS\"],\n",
    ")"
   ]
  },
  {
   "cell_type": "code",
   "execution_count": 24,
   "id": "3fb74d3d",
   "metadata": {
    "execution": {
     "iopub.execute_input": "2022-09-13T04:18:34.930210Z",
     "iopub.status.busy": "2022-09-13T04:18:34.929952Z",
     "iopub.status.idle": "2022-09-13T04:18:34.955206Z",
     "shell.execute_reply": "2022-09-13T04:18:34.954453Z"
    },
    "papermill": {
     "duration": 0.036583,
     "end_time": "2022-09-13T04:18:34.956961",
     "exception": false,
     "start_time": "2022-09-13T04:18:34.920378",
     "status": "completed"
    },
    "tags": []
   },
   "outputs": [
    {
     "data": {
      "text/plain": [
       "(3752, 3752)"
      ]
     },
     "execution_count": 24,
     "metadata": {},
     "output_type": "execute_result"
    }
   ],
   "source": [
    "ensemble_coassoc_matrix.shape"
   ]
  },
  {
   "cell_type": "code",
   "execution_count": 25,
   "id": "754800fa",
   "metadata": {
    "execution": {
     "iopub.execute_input": "2022-09-13T04:18:34.969852Z",
     "iopub.status.busy": "2022-09-13T04:18:34.969691Z",
     "iopub.status.idle": "2022-09-13T04:18:34.986471Z",
     "shell.execute_reply": "2022-09-13T04:18:34.985951Z"
    },
    "papermill": {
     "duration": 0.024253,
     "end_time": "2022-09-13T04:18:34.987840",
     "exception": false,
     "start_time": "2022-09-13T04:18:34.963587",
     "status": "completed"
    },
    "tags": []
   },
   "outputs": [
    {
     "data": {
      "text/plain": [
       "array([[0.        , 0.43730074, 0.44247554, ..., 0.61153744, 0.47556143,\n",
       "        0.75807305],\n",
       "       [0.43730074, 0.        , 0.44113739, ..., 0.60170394, 0.5043848 ,\n",
       "        0.75585729],\n",
       "       [0.44247554, 0.44113739, 0.        , ..., 0.62692104, 0.48174603,\n",
       "        0.70262391],\n",
       "       ...,\n",
       "       [0.61153744, 0.60170394, 0.62692104, ..., 0.        , 0.50211752,\n",
       "        0.76389624],\n",
       "       [0.47556143, 0.5043848 , 0.48174603, ..., 0.50211752, 0.        ,\n",
       "        0.71439915],\n",
       "       [0.75807305, 0.75585729, 0.70262391, ..., 0.76389624, 0.71439915,\n",
       "        0.        ]])"
      ]
     },
     "execution_count": 25,
     "metadata": {},
     "output_type": "execute_result"
    }
   ],
   "source": [
    "ensemble_coassoc_matrix"
   ]
  },
  {
   "cell_type": "markdown",
   "id": "01809abc",
   "metadata": {
    "papermill": {
     "duration": 0.005607,
     "end_time": "2022-09-13T04:18:34.999702",
     "exception": false,
     "start_time": "2022-09-13T04:18:34.994095",
     "status": "completed"
    },
    "tags": []
   },
   "source": [
    "## Save"
   ]
  },
  {
   "cell_type": "code",
   "execution_count": 26,
   "id": "66d5710f",
   "metadata": {
    "execution": {
     "iopub.execute_input": "2022-09-13T04:18:35.011983Z",
     "iopub.status.busy": "2022-09-13T04:18:35.011806Z",
     "iopub.status.idle": "2022-09-13T04:18:35.039171Z",
     "shell.execute_reply": "2022-09-13T04:18:35.038563Z"
    },
    "papermill": {
     "duration": 0.035342,
     "end_time": "2022-09-13T04:18:35.040756",
     "exception": false,
     "start_time": "2022-09-13T04:18:35.005414",
     "status": "completed"
    },
    "tags": []
   },
   "outputs": [
    {
     "data": {
      "text/plain": [
       "PosixPath('/opt/data/results/clustering/null_sims/consensus_clustering/ensemble_coassoc_matrix.npy')"
      ]
     },
     "metadata": {},
     "output_type": "display_data"
    }
   ],
   "source": [
    "output_file = Path(RESULTS_DIR, \"ensemble_coassoc_matrix.npy\").resolve()\n",
    "display(output_file)"
   ]
  },
  {
   "cell_type": "code",
   "execution_count": 27,
   "id": "d425aaf1",
   "metadata": {
    "execution": {
     "iopub.execute_input": "2022-09-13T04:18:35.054420Z",
     "iopub.status.busy": "2022-09-13T04:18:35.054237Z",
     "iopub.status.idle": "2022-09-13T04:18:35.145241Z",
     "shell.execute_reply": "2022-09-13T04:18:35.144707Z"
    },
    "papermill": {
     "duration": 0.099436,
     "end_time": "2022-09-13T04:18:35.146685",
     "exception": false,
     "start_time": "2022-09-13T04:18:35.047249",
     "status": "completed"
    },
    "tags": []
   },
   "outputs": [],
   "source": [
    "np.save(output_file, ensemble_coassoc_matrix)"
   ]
  },
  {
   "cell_type": "code",
   "execution_count": null,
   "id": "5cff8c44",
   "metadata": {
    "papermill": {
     "duration": 0.005584,
     "end_time": "2022-09-13T04:18:35.158422",
     "exception": false,
     "start_time": "2022-09-13T04:18:35.152838",
     "status": "completed"
    },
    "tags": []
   },
   "outputs": [],
   "source": []
  }
 ],
 "metadata": {
  "jupytext": {
   "cell_metadata_filter": "all,-execution,-papermill,-trusted",
   "formats": "ipynb,py//py:percent"
  },
  "kernelspec": {
   "display_name": "Python 3 (ipykernel)",
   "language": "python",
   "name": "python3"
  },
  "language_info": {
   "codemirror_mode": {
    "name": "ipython",
    "version": 3
   },
   "file_extension": ".py",
   "mimetype": "text/x-python",
   "name": "python",
   "nbconvert_exporter": "python",
   "pygments_lexer": "ipython3",
   "version": "3.8.13"
  },
  "papermill": {
   "default_parameters": {},
   "duration": 1117.641367,
   "end_time": "2022-09-13T04:18:35.390441",
   "environment_variables": {},
   "exception": null,
   "input_path": "nbs/13.1_cluster_analysis_null/20_00-generate_ensemble.ipynb",
   "output_path": "nbs/13.1_cluster_analysis_null/20_00-generate_ensemble.run.ipynb",
   "parameters": {},
   "start_time": "2022-09-13T03:59:57.749074",
   "version": "2.2.2"
  },
  "toc-autonumbering": true,
  "toc-showcode": false,
  "toc-showmarkdowntxt": false,
  "toc-showtags": false
 },
 "nbformat": 4,
 "nbformat_minor": 5
}
