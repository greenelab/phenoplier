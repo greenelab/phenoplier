{
 "cells": [
  {
   "cell_type": "markdown",
   "id": "e6114bcb",
   "metadata": {
    "papermill": {
     "duration": 0.034284,
     "end_time": "2022-09-11T21:13:44.650715",
     "exception": false,
     "start_time": "2022-09-11T21:13:44.616431",
     "status": "completed"
    },
    "tags": []
   },
   "source": [
    "# Description"
   ]
  },
  {
   "cell_type": "markdown",
   "id": "9e9a79a6",
   "metadata": {
    "papermill": {
     "duration": 0.008253,
     "end_time": "2022-09-11T21:13:44.671444",
     "exception": false,
     "start_time": "2022-09-11T21:13:44.663191",
     "status": "completed"
    },
    "tags": []
   },
   "source": [
    "Runs spectral clustering on the z_score_std version of the data."
   ]
  },
  {
   "cell_type": "markdown",
   "id": "f26d1044",
   "metadata": {
    "papermill": {
     "duration": 0.006042,
     "end_time": "2022-09-11T21:13:44.684327",
     "exception": false,
     "start_time": "2022-09-11T21:13:44.678285",
     "status": "completed"
    },
    "tags": []
   },
   "source": [
    "# Environment variables"
   ]
  },
  {
   "cell_type": "code",
   "execution_count": 1,
   "id": "2e3a323b",
   "metadata": {
    "execution": {
     "iopub.execute_input": "2022-09-11T21:13:44.697873Z",
     "iopub.status.busy": "2022-09-11T21:13:44.697641Z",
     "iopub.status.idle": "2022-09-11T21:13:44.712701Z",
     "shell.execute_reply": "2022-09-11T21:13:44.712125Z"
    },
    "papermill": {
     "duration": 0.023551,
     "end_time": "2022-09-11T21:13:44.714200",
     "exception": false,
     "start_time": "2022-09-11T21:13:44.690649",
     "status": "completed"
    },
    "tags": []
   },
   "outputs": [
    {
     "data": {
      "text/plain": [
       "3"
      ]
     },
     "metadata": {},
     "output_type": "display_data"
    }
   ],
   "source": [
    "from IPython.display import display\n",
    "\n",
    "import conf\n",
    "\n",
    "N_JOBS = conf.GENERAL[\"N_JOBS\"]\n",
    "display(N_JOBS)"
   ]
  },
  {
   "cell_type": "code",
   "execution_count": 2,
   "id": "8372510c",
   "metadata": {
    "execution": {
     "iopub.execute_input": "2022-09-11T21:13:44.728539Z",
     "iopub.status.busy": "2022-09-11T21:13:44.728064Z",
     "iopub.status.idle": "2022-09-11T21:13:44.733160Z",
     "shell.execute_reply": "2022-09-11T21:13:44.732680Z"
    },
    "papermill": {
     "duration": 0.013299,
     "end_time": "2022-09-11T21:13:44.734320",
     "exception": false,
     "start_time": "2022-09-11T21:13:44.721021",
     "status": "completed"
    },
    "tags": []
   },
   "outputs": [
    {
     "name": "stdout",
     "output_type": "stream",
     "text": [
      "env: MKL_NUM_THREADS=3\n",
      "env: OPEN_BLAS_NUM_THREADS=3\n",
      "env: NUMEXPR_NUM_THREADS=3\n",
      "env: OMP_NUM_THREADS=3\n"
     ]
    }
   ],
   "source": [
    "%env MKL_NUM_THREADS=$N_JOBS\n",
    "%env OPEN_BLAS_NUM_THREADS=$N_JOBS\n",
    "%env NUMEXPR_NUM_THREADS=$N_JOBS\n",
    "%env OMP_NUM_THREADS=$N_JOBS"
   ]
  },
  {
   "cell_type": "markdown",
   "id": "810b29c6",
   "metadata": {
    "papermill": {
     "duration": 0.006459,
     "end_time": "2022-09-11T21:13:44.747622",
     "exception": false,
     "start_time": "2022-09-11T21:13:44.741163",
     "status": "completed"
    },
    "tags": []
   },
   "source": [
    "# Modules loading"
   ]
  },
  {
   "cell_type": "code",
   "execution_count": 3,
   "id": "695a702f",
   "metadata": {
    "execution": {
     "iopub.execute_input": "2022-09-11T21:13:44.761760Z",
     "iopub.status.busy": "2022-09-11T21:13:44.761571Z",
     "iopub.status.idle": "2022-09-11T21:13:44.774385Z",
     "shell.execute_reply": "2022-09-11T21:13:44.773925Z"
    },
    "papermill": {
     "duration": 0.021386,
     "end_time": "2022-09-11T21:13:44.775715",
     "exception": false,
     "start_time": "2022-09-11T21:13:44.754329",
     "status": "completed"
    },
    "tags": []
   },
   "outputs": [],
   "source": [
    "%load_ext autoreload\n",
    "%autoreload 2"
   ]
  },
  {
   "cell_type": "code",
   "execution_count": 4,
   "id": "1fe8f458",
   "metadata": {
    "execution": {
     "iopub.execute_input": "2022-09-11T21:13:44.789736Z",
     "iopub.status.busy": "2022-09-11T21:13:44.789526Z",
     "iopub.status.idle": "2022-09-11T21:13:45.439495Z",
     "shell.execute_reply": "2022-09-11T21:13:45.438934Z"
    },
    "papermill": {
     "duration": 0.658569,
     "end_time": "2022-09-11T21:13:45.440871",
     "exception": false,
     "start_time": "2022-09-11T21:13:44.782302",
     "status": "completed"
    },
    "tags": []
   },
   "outputs": [],
   "source": [
    "from pathlib import Path\n",
    "\n",
    "import numpy as np\n",
    "import pandas as pd\n",
    "import matplotlib.pyplot as plt\n",
    "import seaborn as sns\n",
    "\n",
    "from utils import generate_result_set_name"
   ]
  },
  {
   "cell_type": "markdown",
   "id": "10f14cd6",
   "metadata": {
    "papermill": {
     "duration": 0.006431,
     "end_time": "2022-09-11T21:13:45.453983",
     "exception": false,
     "start_time": "2022-09-11T21:13:45.447552",
     "status": "completed"
    },
    "tags": []
   },
   "source": [
    "# Settings"
   ]
  },
  {
   "cell_type": "code",
   "execution_count": 5,
   "id": "6d7d50c8",
   "metadata": {
    "execution": {
     "iopub.execute_input": "2022-09-11T21:13:45.467995Z",
     "iopub.status.busy": "2022-09-11T21:13:45.467715Z",
     "iopub.status.idle": "2022-09-11T21:13:45.484782Z",
     "shell.execute_reply": "2022-09-11T21:13:45.484246Z"
    },
    "papermill": {
     "duration": 0.025636,
     "end_time": "2022-09-11T21:13:45.486122",
     "exception": false,
     "start_time": "2022-09-11T21:13:45.460486",
     "status": "completed"
    },
    "tags": []
   },
   "outputs": [],
   "source": [
    "np.random.seed(0)"
   ]
  },
  {
   "cell_type": "code",
   "execution_count": 6,
   "id": "dc7e4745",
   "metadata": {
    "execution": {
     "iopub.execute_input": "2022-09-11T21:13:45.500851Z",
     "iopub.status.busy": "2022-09-11T21:13:45.500650Z",
     "iopub.status.idle": "2022-09-11T21:13:45.516990Z",
     "shell.execute_reply": "2022-09-11T21:13:45.516503Z"
    },
    "papermill": {
     "duration": 0.025028,
     "end_time": "2022-09-11T21:13:45.518352",
     "exception": false,
     "start_time": "2022-09-11T21:13:45.493324",
     "status": "completed"
    },
    "tags": []
   },
   "outputs": [],
   "source": [
    "INITIAL_RANDOM_STATE = 30000"
   ]
  },
  {
   "cell_type": "markdown",
   "id": "ffcbae0e",
   "metadata": {
    "papermill": {
     "duration": 0.006994,
     "end_time": "2022-09-11T21:13:45.532692",
     "exception": false,
     "start_time": "2022-09-11T21:13:45.525698",
     "status": "completed"
    },
    "tags": []
   },
   "source": [
    "## Input data"
   ]
  },
  {
   "cell_type": "code",
   "execution_count": 7,
   "id": "8e43efdd",
   "metadata": {
    "execution": {
     "iopub.execute_input": "2022-09-11T21:13:45.574772Z",
     "iopub.status.busy": "2022-09-11T21:13:45.574575Z",
     "iopub.status.idle": "2022-09-11T21:13:45.593500Z",
     "shell.execute_reply": "2022-09-11T21:13:45.592966Z"
    },
    "papermill": {
     "duration": 0.055213,
     "end_time": "2022-09-11T21:13:45.595114",
     "exception": false,
     "start_time": "2022-09-11T21:13:45.539901",
     "status": "completed"
    },
    "tags": []
   },
   "outputs": [],
   "source": [
    "INPUT_SUBSET = \"z_score_std\""
   ]
  },
  {
   "cell_type": "code",
   "execution_count": 8,
   "id": "249ac745",
   "metadata": {
    "execution": {
     "iopub.execute_input": "2022-09-11T21:13:45.612632Z",
     "iopub.status.busy": "2022-09-11T21:13:45.612441Z",
     "iopub.status.idle": "2022-09-11T21:13:45.631421Z",
     "shell.execute_reply": "2022-09-11T21:13:45.630872Z"
    },
    "papermill": {
     "duration": 0.029498,
     "end_time": "2022-09-11T21:13:45.633032",
     "exception": false,
     "start_time": "2022-09-11T21:13:45.603534",
     "status": "completed"
    },
    "tags": []
   },
   "outputs": [],
   "source": [
    "INPUT_STEM = \"projection-smultixcan-efo_partial-mashr-zscores\""
   ]
  },
  {
   "cell_type": "code",
   "execution_count": 9,
   "id": "e2284187",
   "metadata": {
    "execution": {
     "iopub.execute_input": "2022-09-11T21:13:45.650676Z",
     "iopub.status.busy": "2022-09-11T21:13:45.650488Z",
     "iopub.status.idle": "2022-09-11T21:13:45.672369Z",
     "shell.execute_reply": "2022-09-11T21:13:45.671758Z"
    },
    "papermill": {
     "duration": 0.032342,
     "end_time": "2022-09-11T21:13:45.673879",
     "exception": false,
     "start_time": "2022-09-11T21:13:45.641537",
     "status": "completed"
    },
    "tags": []
   },
   "outputs": [
    {
     "data": {
      "text/plain": [
       "PosixPath('/opt/data/results/clustering/null_sims/data_transformations/z_score_std/z_score_std-projection-smultixcan-efo_partial-mashr-zscores.pkl')"
      ]
     },
     "metadata": {},
     "output_type": "display_data"
    },
    {
     "data": {
      "text/plain": [
       "'z_score_std-projection-smultixcan-efo_partial-mashr-zscores'"
      ]
     },
     "metadata": {},
     "output_type": "display_data"
    }
   ],
   "source": [
    "input_filepath = Path(\n",
    "    conf.RESULTS[\"CLUSTERING_NULL_DIR\"],\n",
    "    \"data_transformations\",\n",
    "    INPUT_SUBSET,\n",
    "    f\"{INPUT_SUBSET}-{INPUT_STEM}.pkl\",\n",
    ").resolve()\n",
    "display(input_filepath)\n",
    "\n",
    "assert input_filepath.exists(), \"Input file does not exist\"\n",
    "\n",
    "input_filepath_stem = input_filepath.stem\n",
    "display(input_filepath_stem)"
   ]
  },
  {
   "cell_type": "markdown",
   "id": "95134d20",
   "metadata": {
    "papermill": {
     "duration": 0.008322,
     "end_time": "2022-09-11T21:13:45.690729",
     "exception": false,
     "start_time": "2022-09-11T21:13:45.682407",
     "status": "completed"
    },
    "tags": []
   },
   "source": [
    "## Clustering"
   ]
  },
  {
   "cell_type": "code",
   "execution_count": 10,
   "id": "4a2e3595",
   "metadata": {
    "execution": {
     "iopub.execute_input": "2022-09-11T21:13:45.707943Z",
     "iopub.status.busy": "2022-09-11T21:13:45.707748Z",
     "iopub.status.idle": "2022-09-11T21:13:45.798527Z",
     "shell.execute_reply": "2022-09-11T21:13:45.798013Z"
    },
    "papermill": {
     "duration": 0.100694,
     "end_time": "2022-09-11T21:13:45.799941",
     "exception": false,
     "start_time": "2022-09-11T21:13:45.699247",
     "status": "completed"
    },
    "tags": []
   },
   "outputs": [],
   "source": [
    "from sklearn.cluster import SpectralClustering"
   ]
  },
  {
   "cell_type": "code",
   "execution_count": 11,
   "id": "2498716e",
   "metadata": {
    "execution": {
     "iopub.execute_input": "2022-09-11T21:13:45.814731Z",
     "iopub.status.busy": "2022-09-11T21:13:45.814525Z",
     "iopub.status.idle": "2022-09-11T21:13:45.832409Z",
     "shell.execute_reply": "2022-09-11T21:13:45.831790Z"
    },
    "papermill": {
     "duration": 0.026784,
     "end_time": "2022-09-11T21:13:45.833858",
     "exception": false,
     "start_time": "2022-09-11T21:13:45.807074",
     "status": "completed"
    },
    "tags": []
   },
   "outputs": [],
   "source": [
    "CLUSTERING_ATTRIBUTES_TO_SAVE = [\"n_clusters\"]"
   ]
  },
  {
   "cell_type": "code",
   "execution_count": 12,
   "id": "0769dc6f",
   "metadata": {
    "execution": {
     "iopub.execute_input": "2022-09-11T21:13:45.849337Z",
     "iopub.status.busy": "2022-09-11T21:13:45.849172Z",
     "iopub.status.idle": "2022-09-11T21:13:45.868537Z",
     "shell.execute_reply": "2022-09-11T21:13:45.867968Z"
    },
    "papermill": {
     "duration": 0.028475,
     "end_time": "2022-09-11T21:13:45.869773",
     "exception": false,
     "start_time": "2022-09-11T21:13:45.841298",
     "status": "completed"
    },
    "tags": []
   },
   "outputs": [
    {
     "data": {
      "text/plain": [
       "{'K_MIN': 2,\n",
       " 'K_MAX': 60,\n",
       " 'N_REPS_PER_K': 5,\n",
       " 'KMEANS_N_INIT': 10,\n",
       " 'GAMMA': 0.001,\n",
       " 'AFFINITY': 'rbf'}"
      ]
     },
     "metadata": {},
     "output_type": "display_data"
    }
   ],
   "source": [
    "CLUSTERING_OPTIONS = {}\n",
    "\n",
    "CLUSTERING_OPTIONS[\"K_MIN\"] = 2\n",
    "CLUSTERING_OPTIONS[\"K_MAX\"] = 60  # sqrt(3749)\n",
    "CLUSTERING_OPTIONS[\"N_REPS_PER_K\"] = 5\n",
    "CLUSTERING_OPTIONS[\"KMEANS_N_INIT\"] = 10\n",
    "CLUSTERING_OPTIONS[\"GAMMA\"] = 1.0e-03\n",
    "CLUSTERING_OPTIONS[\"AFFINITY\"] = \"rbf\"\n",
    "\n",
    "display(CLUSTERING_OPTIONS)"
   ]
  },
  {
   "cell_type": "code",
   "execution_count": 13,
   "id": "c1f431fb",
   "metadata": {
    "execution": {
     "iopub.execute_input": "2022-09-11T21:13:45.885378Z",
     "iopub.status.busy": "2022-09-11T21:13:45.885213Z",
     "iopub.status.idle": "2022-09-11T21:13:45.905649Z",
     "shell.execute_reply": "2022-09-11T21:13:45.904953Z"
    },
    "papermill": {
     "duration": 0.029766,
     "end_time": "2022-09-11T21:13:45.907013",
     "exception": false,
     "start_time": "2022-09-11T21:13:45.877247",
     "status": "completed"
    },
    "tags": []
   },
   "outputs": [],
   "source": [
    "CLUSTERERS = {}\n",
    "\n",
    "idx = 0\n",
    "random_state = INITIAL_RANDOM_STATE\n",
    "\n",
    "for k in range(CLUSTERING_OPTIONS[\"K_MIN\"], CLUSTERING_OPTIONS[\"K_MAX\"] + 1):\n",
    "    for i in range(CLUSTERING_OPTIONS[\"N_REPS_PER_K\"]):\n",
    "        clus = SpectralClustering(\n",
    "            eigen_solver=\"arpack\",\n",
    "            n_clusters=k,\n",
    "            n_init=CLUSTERING_OPTIONS[\"KMEANS_N_INIT\"],\n",
    "            affinity=CLUSTERING_OPTIONS[\"AFFINITY\"],\n",
    "            gamma=CLUSTERING_OPTIONS[\"GAMMA\"],\n",
    "            random_state=random_state,\n",
    "        )\n",
    "\n",
    "        method_name = type(clus).__name__\n",
    "        CLUSTERERS[f\"{method_name} #{idx}\"] = clus\n",
    "\n",
    "        random_state = random_state + 1\n",
    "        idx = idx + 1"
   ]
  },
  {
   "cell_type": "code",
   "execution_count": 14,
   "id": "d4834a14",
   "metadata": {
    "execution": {
     "iopub.execute_input": "2022-09-11T21:13:45.922941Z",
     "iopub.status.busy": "2022-09-11T21:13:45.922776Z",
     "iopub.status.idle": "2022-09-11T21:13:45.941517Z",
     "shell.execute_reply": "2022-09-11T21:13:45.941031Z"
    },
    "papermill": {
     "duration": 0.028133,
     "end_time": "2022-09-11T21:13:45.942808",
     "exception": false,
     "start_time": "2022-09-11T21:13:45.914675",
     "status": "completed"
    },
    "tags": []
   },
   "outputs": [
    {
     "data": {
      "text/plain": [
       "295"
      ]
     },
     "metadata": {},
     "output_type": "display_data"
    }
   ],
   "source": [
    "display(len(CLUSTERERS))"
   ]
  },
  {
   "cell_type": "code",
   "execution_count": 15,
   "id": "7bb148cc",
   "metadata": {
    "execution": {
     "iopub.execute_input": "2022-09-11T21:13:45.958441Z",
     "iopub.status.busy": "2022-09-11T21:13:45.958174Z",
     "iopub.status.idle": "2022-09-11T21:13:45.978596Z",
     "shell.execute_reply": "2022-09-11T21:13:45.978119Z"
    },
    "papermill": {
     "duration": 0.029606,
     "end_time": "2022-09-11T21:13:45.979899",
     "exception": false,
     "start_time": "2022-09-11T21:13:45.950293",
     "status": "completed"
    },
    "tags": []
   },
   "outputs": [
    {
     "data": {
      "text/plain": [
       "('SpectralClustering #0',\n",
       " SpectralClustering(eigen_solver='arpack', gamma=0.001, n_clusters=2,\n",
       "                    random_state=30000))"
      ]
     },
     "metadata": {},
     "output_type": "display_data"
    },
    {
     "data": {
      "text/plain": [
       "('SpectralClustering #1',\n",
       " SpectralClustering(eigen_solver='arpack', gamma=0.001, n_clusters=2,\n",
       "                    random_state=30001))"
      ]
     },
     "metadata": {},
     "output_type": "display_data"
    }
   ],
   "source": [
    "_iter = iter(CLUSTERERS.items())\n",
    "display(next(_iter))\n",
    "display(next(_iter))"
   ]
  },
  {
   "cell_type": "code",
   "execution_count": 16,
   "id": "92619f83",
   "metadata": {
    "execution": {
     "iopub.execute_input": "2022-09-11T21:13:45.996150Z",
     "iopub.status.busy": "2022-09-11T21:13:45.995985Z",
     "iopub.status.idle": "2022-09-11T21:13:46.014762Z",
     "shell.execute_reply": "2022-09-11T21:13:46.014239Z"
    },
    "papermill": {
     "duration": 0.028369,
     "end_time": "2022-09-11T21:13:46.016018",
     "exception": false,
     "start_time": "2022-09-11T21:13:45.987649",
     "status": "completed"
    },
    "tags": []
   },
   "outputs": [
    {
     "data": {
      "text/plain": [
       "'SpectralClustering'"
      ]
     },
     "metadata": {},
     "output_type": "display_data"
    }
   ],
   "source": [
    "clustering_method_name = method_name\n",
    "display(clustering_method_name)"
   ]
  },
  {
   "cell_type": "markdown",
   "id": "b0bc30ae",
   "metadata": {
    "papermill": {
     "duration": 0.007596,
     "end_time": "2022-09-11T21:13:46.031437",
     "exception": false,
     "start_time": "2022-09-11T21:13:46.023841",
     "status": "completed"
    },
    "tags": []
   },
   "source": [
    "## Output directory"
   ]
  },
  {
   "cell_type": "code",
   "execution_count": 17,
   "id": "1acd4fab",
   "metadata": {
    "execution": {
     "iopub.execute_input": "2022-09-11T21:13:46.047016Z",
     "iopub.status.busy": "2022-09-11T21:13:46.046512Z",
     "iopub.status.idle": "2022-09-11T21:13:46.065867Z",
     "shell.execute_reply": "2022-09-11T21:13:46.065307Z"
    },
    "papermill": {
     "duration": 0.028396,
     "end_time": "2022-09-11T21:13:46.067144",
     "exception": false,
     "start_time": "2022-09-11T21:13:46.038748",
     "status": "completed"
    },
    "tags": []
   },
   "outputs": [
    {
     "data": {
      "text/plain": [
       "PosixPath('/opt/data/results/clustering/null_sims/runs/z_score_std-projection-smultixcan-efo_partial-mashr-zscores')"
      ]
     },
     "metadata": {},
     "output_type": "display_data"
    }
   ],
   "source": [
    "# output dir for this notebook\n",
    "RESULTS_DIR = Path(\n",
    "    conf.RESULTS[\"CLUSTERING_NULL_DIR\"],\n",
    "    \"runs\",\n",
    "    f\"{INPUT_SUBSET}-{INPUT_STEM}\",\n",
    ").resolve()\n",
    "RESULTS_DIR.mkdir(parents=True, exist_ok=True)\n",
    "\n",
    "display(RESULTS_DIR)"
   ]
  },
  {
   "cell_type": "markdown",
   "id": "93d0ea08",
   "metadata": {
    "papermill": {
     "duration": 0.007652,
     "end_time": "2022-09-11T21:13:46.082756",
     "exception": false,
     "start_time": "2022-09-11T21:13:46.075104",
     "status": "completed"
    },
    "tags": []
   },
   "source": [
    "# Load input file"
   ]
  },
  {
   "cell_type": "code",
   "execution_count": 18,
   "id": "1f832cf4",
   "metadata": {
    "execution": {
     "iopub.execute_input": "2022-09-11T21:13:46.099084Z",
     "iopub.status.busy": "2022-09-11T21:13:46.098878Z",
     "iopub.status.idle": "2022-09-11T21:13:46.133029Z",
     "shell.execute_reply": "2022-09-11T21:13:46.132532Z"
    },
    "papermill": {
     "duration": 0.044032,
     "end_time": "2022-09-11T21:13:46.134533",
     "exception": false,
     "start_time": "2022-09-11T21:13:46.090501",
     "status": "completed"
    },
    "tags": []
   },
   "outputs": [],
   "source": [
    "data = pd.read_pickle(input_filepath)"
   ]
  },
  {
   "cell_type": "code",
   "execution_count": 19,
   "id": "a4f834a9",
   "metadata": {
    "execution": {
     "iopub.execute_input": "2022-09-11T21:13:46.151914Z",
     "iopub.status.busy": "2022-09-11T21:13:46.151745Z",
     "iopub.status.idle": "2022-09-11T21:13:46.170588Z",
     "shell.execute_reply": "2022-09-11T21:13:46.170027Z"
    },
    "papermill": {
     "duration": 0.02887,
     "end_time": "2022-09-11T21:13:46.171877",
     "exception": false,
     "start_time": "2022-09-11T21:13:46.143007",
     "status": "completed"
    },
    "tags": []
   },
   "outputs": [
    {
     "data": {
      "text/plain": [
       "(3752, 987)"
      ]
     },
     "execution_count": 19,
     "metadata": {},
     "output_type": "execute_result"
    }
   ],
   "source": [
    "data.shape"
   ]
  },
  {
   "cell_type": "code",
   "execution_count": 20,
   "id": "f87fed6a",
   "metadata": {
    "execution": {
     "iopub.execute_input": "2022-09-11T21:13:46.188589Z",
     "iopub.status.busy": "2022-09-11T21:13:46.188429Z",
     "iopub.status.idle": "2022-09-11T21:13:46.221571Z",
     "shell.execute_reply": "2022-09-11T21:13:46.221052Z"
    },
    "papermill": {
     "duration": 0.042705,
     "end_time": "2022-09-11T21:13:46.222855",
     "exception": false,
     "start_time": "2022-09-11T21:13:46.180150",
     "status": "completed"
    },
    "tags": []
   },
   "outputs": [
    {
     "data": {
      "text/html": [
       "<div>\n",
       "<style scoped>\n",
       "    .dataframe tbody tr th:only-of-type {\n",
       "        vertical-align: middle;\n",
       "    }\n",
       "\n",
       "    .dataframe tbody tr th {\n",
       "        vertical-align: top;\n",
       "    }\n",
       "\n",
       "    .dataframe thead th {\n",
       "        text-align: right;\n",
       "    }\n",
       "</style>\n",
       "<table border=\"1\" class=\"dataframe\">\n",
       "  <thead>\n",
       "    <tr style=\"text-align: right;\">\n",
       "      <th></th>\n",
       "      <th>LV1</th>\n",
       "      <th>LV2</th>\n",
       "      <th>LV3</th>\n",
       "      <th>LV4</th>\n",
       "      <th>LV5</th>\n",
       "      <th>LV6</th>\n",
       "      <th>LV7</th>\n",
       "      <th>LV8</th>\n",
       "      <th>LV9</th>\n",
       "      <th>LV10</th>\n",
       "      <th>...</th>\n",
       "      <th>LV978</th>\n",
       "      <th>LV979</th>\n",
       "      <th>LV980</th>\n",
       "      <th>LV981</th>\n",
       "      <th>LV982</th>\n",
       "      <th>LV983</th>\n",
       "      <th>LV984</th>\n",
       "      <th>LV985</th>\n",
       "      <th>LV986</th>\n",
       "      <th>LV987</th>\n",
       "    </tr>\n",
       "  </thead>\n",
       "  <tbody>\n",
       "    <tr>\n",
       "      <th>100001_raw-Food_weight</th>\n",
       "      <td>-2.408007</td>\n",
       "      <td>-1.745911</td>\n",
       "      <td>1.383013</td>\n",
       "      <td>0.158718</td>\n",
       "      <td>-0.240933</td>\n",
       "      <td>-0.304911</td>\n",
       "      <td>1.823117</td>\n",
       "      <td>-0.716278</td>\n",
       "      <td>-1.769346</td>\n",
       "      <td>-0.043794</td>\n",
       "      <td>...</td>\n",
       "      <td>0.399227</td>\n",
       "      <td>0.849885</td>\n",
       "      <td>-0.593292</td>\n",
       "      <td>0.636568</td>\n",
       "      <td>0.409726</td>\n",
       "      <td>-0.871713</td>\n",
       "      <td>1.638770</td>\n",
       "      <td>0.285165</td>\n",
       "      <td>0.585307</td>\n",
       "      <td>0.592347</td>\n",
       "    </tr>\n",
       "    <tr>\n",
       "      <th>100002_raw-Energy</th>\n",
       "      <td>-0.508508</td>\n",
       "      <td>0.514427</td>\n",
       "      <td>-0.792865</td>\n",
       "      <td>-0.091775</td>\n",
       "      <td>-0.013409</td>\n",
       "      <td>0.194047</td>\n",
       "      <td>1.353713</td>\n",
       "      <td>0.117286</td>\n",
       "      <td>-0.323516</td>\n",
       "      <td>-1.641116</td>\n",
       "      <td>...</td>\n",
       "      <td>-0.038535</td>\n",
       "      <td>-1.139394</td>\n",
       "      <td>-0.951591</td>\n",
       "      <td>1.197872</td>\n",
       "      <td>0.893819</td>\n",
       "      <td>-0.820655</td>\n",
       "      <td>0.928634</td>\n",
       "      <td>-0.716778</td>\n",
       "      <td>-0.085735</td>\n",
       "      <td>-1.208965</td>\n",
       "    </tr>\n",
       "    <tr>\n",
       "      <th>100003_raw-Protein</th>\n",
       "      <td>-0.284597</td>\n",
       "      <td>-0.325076</td>\n",
       "      <td>-1.412980</td>\n",
       "      <td>1.255510</td>\n",
       "      <td>0.343603</td>\n",
       "      <td>-2.471878</td>\n",
       "      <td>-0.149640</td>\n",
       "      <td>-0.715178</td>\n",
       "      <td>-0.548948</td>\n",
       "      <td>1.210352</td>\n",
       "      <td>...</td>\n",
       "      <td>1.006094</td>\n",
       "      <td>0.595064</td>\n",
       "      <td>1.774559</td>\n",
       "      <td>-0.335165</td>\n",
       "      <td>0.394177</td>\n",
       "      <td>-0.188345</td>\n",
       "      <td>-1.864716</td>\n",
       "      <td>-0.124875</td>\n",
       "      <td>1.253625</td>\n",
       "      <td>0.804944</td>\n",
       "    </tr>\n",
       "    <tr>\n",
       "      <th>100004_raw-Fat</th>\n",
       "      <td>-0.427503</td>\n",
       "      <td>-0.096524</td>\n",
       "      <td>-0.348654</td>\n",
       "      <td>-1.250087</td>\n",
       "      <td>-0.253145</td>\n",
       "      <td>-0.236606</td>\n",
       "      <td>-0.600627</td>\n",
       "      <td>0.277239</td>\n",
       "      <td>-0.844748</td>\n",
       "      <td>-0.998437</td>\n",
       "      <td>...</td>\n",
       "      <td>0.249993</td>\n",
       "      <td>-1.520660</td>\n",
       "      <td>0.037241</td>\n",
       "      <td>0.514992</td>\n",
       "      <td>0.512538</td>\n",
       "      <td>-1.083619</td>\n",
       "      <td>0.310643</td>\n",
       "      <td>-1.719033</td>\n",
       "      <td>-0.970770</td>\n",
       "      <td>-2.628077</td>\n",
       "    </tr>\n",
       "    <tr>\n",
       "      <th>100005_raw-Carbohydrate</th>\n",
       "      <td>-1.502621</td>\n",
       "      <td>-1.083034</td>\n",
       "      <td>0.531159</td>\n",
       "      <td>0.332981</td>\n",
       "      <td>-1.240640</td>\n",
       "      <td>-0.852565</td>\n",
       "      <td>-0.003171</td>\n",
       "      <td>0.561912</td>\n",
       "      <td>-0.772413</td>\n",
       "      <td>-0.372739</td>\n",
       "      <td>...</td>\n",
       "      <td>-0.577730</td>\n",
       "      <td>-1.163380</td>\n",
       "      <td>0.000251</td>\n",
       "      <td>-0.345607</td>\n",
       "      <td>-1.610004</td>\n",
       "      <td>0.194078</td>\n",
       "      <td>0.605594</td>\n",
       "      <td>1.182825</td>\n",
       "      <td>-1.567705</td>\n",
       "      <td>-0.011902</td>\n",
       "    </tr>\n",
       "  </tbody>\n",
       "</table>\n",
       "<p>5 rows × 987 columns</p>\n",
       "</div>"
      ],
      "text/plain": [
       "                              LV1       LV2       LV3       LV4       LV5  \\\n",
       "100001_raw-Food_weight  -2.408007 -1.745911  1.383013  0.158718 -0.240933   \n",
       "100002_raw-Energy       -0.508508  0.514427 -0.792865 -0.091775 -0.013409   \n",
       "100003_raw-Protein      -0.284597 -0.325076 -1.412980  1.255510  0.343603   \n",
       "100004_raw-Fat          -0.427503 -0.096524 -0.348654 -1.250087 -0.253145   \n",
       "100005_raw-Carbohydrate -1.502621 -1.083034  0.531159  0.332981 -1.240640   \n",
       "\n",
       "                              LV6       LV7       LV8       LV9      LV10  \\\n",
       "100001_raw-Food_weight  -0.304911  1.823117 -0.716278 -1.769346 -0.043794   \n",
       "100002_raw-Energy        0.194047  1.353713  0.117286 -0.323516 -1.641116   \n",
       "100003_raw-Protein      -2.471878 -0.149640 -0.715178 -0.548948  1.210352   \n",
       "100004_raw-Fat          -0.236606 -0.600627  0.277239 -0.844748 -0.998437   \n",
       "100005_raw-Carbohydrate -0.852565 -0.003171  0.561912 -0.772413 -0.372739   \n",
       "\n",
       "                         ...     LV978     LV979     LV980     LV981  \\\n",
       "100001_raw-Food_weight   ...  0.399227  0.849885 -0.593292  0.636568   \n",
       "100002_raw-Energy        ... -0.038535 -1.139394 -0.951591  1.197872   \n",
       "100003_raw-Protein       ...  1.006094  0.595064  1.774559 -0.335165   \n",
       "100004_raw-Fat           ...  0.249993 -1.520660  0.037241  0.514992   \n",
       "100005_raw-Carbohydrate  ... -0.577730 -1.163380  0.000251 -0.345607   \n",
       "\n",
       "                            LV982     LV983     LV984     LV985     LV986  \\\n",
       "100001_raw-Food_weight   0.409726 -0.871713  1.638770  0.285165  0.585307   \n",
       "100002_raw-Energy        0.893819 -0.820655  0.928634 -0.716778 -0.085735   \n",
       "100003_raw-Protein       0.394177 -0.188345 -1.864716 -0.124875  1.253625   \n",
       "100004_raw-Fat           0.512538 -1.083619  0.310643 -1.719033 -0.970770   \n",
       "100005_raw-Carbohydrate -1.610004  0.194078  0.605594  1.182825 -1.567705   \n",
       "\n",
       "                            LV987  \n",
       "100001_raw-Food_weight   0.592347  \n",
       "100002_raw-Energy       -1.208965  \n",
       "100003_raw-Protein       0.804944  \n",
       "100004_raw-Fat          -2.628077  \n",
       "100005_raw-Carbohydrate -0.011902  \n",
       "\n",
       "[5 rows x 987 columns]"
      ]
     },
     "execution_count": 20,
     "metadata": {},
     "output_type": "execute_result"
    }
   ],
   "source": [
    "data.head()"
   ]
  },
  {
   "cell_type": "code",
   "execution_count": 21,
   "id": "a293936e",
   "metadata": {
    "execution": {
     "iopub.execute_input": "2022-09-11T21:13:46.239625Z",
     "iopub.status.busy": "2022-09-11T21:13:46.239433Z",
     "iopub.status.idle": "2022-09-11T21:13:46.263659Z",
     "shell.execute_reply": "2022-09-11T21:13:46.263196Z"
    },
    "papermill": {
     "duration": 0.034223,
     "end_time": "2022-09-11T21:13:46.265138",
     "exception": false,
     "start_time": "2022-09-11T21:13:46.230915",
     "status": "completed"
    },
    "tags": []
   },
   "outputs": [],
   "source": [
    "assert not data.isna().any().any()"
   ]
  },
  {
   "cell_type": "markdown",
   "id": "3226dada",
   "metadata": {
    "papermill": {
     "duration": 0.008233,
     "end_time": "2022-09-11T21:13:46.281923",
     "exception": false,
     "start_time": "2022-09-11T21:13:46.273690",
     "status": "completed"
    },
    "tags": []
   },
   "source": [
    "# Clustering"
   ]
  },
  {
   "cell_type": "markdown",
   "id": "cc6d4b0b",
   "metadata": {
    "papermill": {
     "duration": 0.008048,
     "end_time": "2022-09-11T21:13:46.298362",
     "exception": false,
     "start_time": "2022-09-11T21:13:46.290314",
     "status": "completed"
    },
    "tags": []
   },
   "source": [
    "## Generate ensemble"
   ]
  },
  {
   "cell_type": "code",
   "execution_count": 22,
   "id": "228c0041",
   "metadata": {
    "execution": {
     "iopub.execute_input": "2022-09-11T21:13:46.314353Z",
     "iopub.status.busy": "2022-09-11T21:13:46.314145Z",
     "iopub.status.idle": "2022-09-11T21:13:46.336480Z",
     "shell.execute_reply": "2022-09-11T21:13:46.335751Z"
    },
    "papermill": {
     "duration": 0.0319,
     "end_time": "2022-09-11T21:13:46.337913",
     "exception": false,
     "start_time": "2022-09-11T21:13:46.306013",
     "status": "completed"
    },
    "tags": []
   },
   "outputs": [],
   "source": [
    "from clustering.ensembles.utils import generate_ensemble"
   ]
  },
  {
   "cell_type": "code",
   "execution_count": 23,
   "id": "cf4263e9",
   "metadata": {
    "execution": {
     "iopub.execute_input": "2022-09-11T21:13:46.355127Z",
     "iopub.status.busy": "2022-09-11T21:13:46.354960Z",
     "iopub.status.idle": "2022-09-11T21:32:45.742106Z",
     "shell.execute_reply": "2022-09-11T21:32:45.741317Z"
    },
    "papermill": {
     "duration": 1139.397486,
     "end_time": "2022-09-11T21:32:45.743671",
     "exception": false,
     "start_time": "2022-09-11T21:13:46.346185",
     "status": "completed"
    },
    "tags": []
   },
   "outputs": [
    {
     "name": "stderr",
     "output_type": "stream",
     "text": [
      "100%|██████████| 295/295 [18:59<00:00,  3.86s/it]\n"
     ]
    }
   ],
   "source": [
    "ensemble = generate_ensemble(\n",
    "    data,\n",
    "    CLUSTERERS,\n",
    "    attributes=CLUSTERING_ATTRIBUTES_TO_SAVE,\n",
    ")"
   ]
  },
  {
   "cell_type": "code",
   "execution_count": 24,
   "id": "b6e54451",
   "metadata": {
    "execution": {
     "iopub.execute_input": "2022-09-11T21:32:45.778435Z",
     "iopub.status.busy": "2022-09-11T21:32:45.778229Z",
     "iopub.status.idle": "2022-09-11T21:32:45.797338Z",
     "shell.execute_reply": "2022-09-11T21:32:45.796778Z"
    },
    "papermill": {
     "duration": 0.037681,
     "end_time": "2022-09-11T21:32:45.798583",
     "exception": false,
     "start_time": "2022-09-11T21:32:45.760902",
     "status": "completed"
    },
    "tags": []
   },
   "outputs": [
    {
     "data": {
      "text/plain": [
       "(295, 3)"
      ]
     },
     "execution_count": 24,
     "metadata": {},
     "output_type": "execute_result"
    }
   ],
   "source": [
    "# the number should be close to 295 (the number of partitions generated by k-means/spectral clustering)\n",
    "ensemble.shape"
   ]
  },
  {
   "cell_type": "code",
   "execution_count": 25,
   "id": "09393ac6",
   "metadata": {
    "execution": {
     "iopub.execute_input": "2022-09-11T21:32:45.840457Z",
     "iopub.status.busy": "2022-09-11T21:32:45.840263Z",
     "iopub.status.idle": "2022-09-11T21:32:45.869650Z",
     "shell.execute_reply": "2022-09-11T21:32:45.869209Z"
    },
    "papermill": {
     "duration": 0.053185,
     "end_time": "2022-09-11T21:32:45.870927",
     "exception": false,
     "start_time": "2022-09-11T21:32:45.817742",
     "status": "completed"
    },
    "tags": []
   },
   "outputs": [
    {
     "data": {
      "text/html": [
       "<div>\n",
       "<style scoped>\n",
       "    .dataframe tbody tr th:only-of-type {\n",
       "        vertical-align: middle;\n",
       "    }\n",
       "\n",
       "    .dataframe tbody tr th {\n",
       "        vertical-align: top;\n",
       "    }\n",
       "\n",
       "    .dataframe thead th {\n",
       "        text-align: right;\n",
       "    }\n",
       "</style>\n",
       "<table border=\"1\" class=\"dataframe\">\n",
       "  <thead>\n",
       "    <tr style=\"text-align: right;\">\n",
       "      <th></th>\n",
       "      <th>clusterer_params</th>\n",
       "      <th>partition</th>\n",
       "      <th>n_clusters</th>\n",
       "    </tr>\n",
       "    <tr>\n",
       "      <th>clusterer_id</th>\n",
       "      <th></th>\n",
       "      <th></th>\n",
       "      <th></th>\n",
       "    </tr>\n",
       "  </thead>\n",
       "  <tbody>\n",
       "    <tr>\n",
       "      <th>SpectralClustering #0</th>\n",
       "      <td>{'affinity': 'rbf', 'assign_labels': 'kmeans',...</td>\n",
       "      <td>[1.0, 0.0, 1.0, 1.0, 0.0, 0.0, 0.0, 1.0, 1.0, ...</td>\n",
       "      <td>2</td>\n",
       "    </tr>\n",
       "    <tr>\n",
       "      <th>SpectralClustering #1</th>\n",
       "      <td>{'affinity': 'rbf', 'assign_labels': 'kmeans',...</td>\n",
       "      <td>[1.0, 0.0, 1.0, 1.0, 0.0, 0.0, 0.0, 1.0, 1.0, ...</td>\n",
       "      <td>2</td>\n",
       "    </tr>\n",
       "    <tr>\n",
       "      <th>SpectralClustering #2</th>\n",
       "      <td>{'affinity': 'rbf', 'assign_labels': 'kmeans',...</td>\n",
       "      <td>[0.0, 1.0, 0.0, 0.0, 1.0, 1.0, 1.0, 0.0, 0.0, ...</td>\n",
       "      <td>2</td>\n",
       "    </tr>\n",
       "    <tr>\n",
       "      <th>SpectralClustering #3</th>\n",
       "      <td>{'affinity': 'rbf', 'assign_labels': 'kmeans',...</td>\n",
       "      <td>[0.0, 1.0, 0.0, 0.0, 1.0, 1.0, 1.0, 0.0, 0.0, ...</td>\n",
       "      <td>2</td>\n",
       "    </tr>\n",
       "    <tr>\n",
       "      <th>SpectralClustering #4</th>\n",
       "      <td>{'affinity': 'rbf', 'assign_labels': 'kmeans',...</td>\n",
       "      <td>[1.0, 0.0, 1.0, 1.0, 0.0, 0.0, 0.0, 1.0, 1.0, ...</td>\n",
       "      <td>2</td>\n",
       "    </tr>\n",
       "  </tbody>\n",
       "</table>\n",
       "</div>"
      ],
      "text/plain": [
       "                                                        clusterer_params  \\\n",
       "clusterer_id                                                               \n",
       "SpectralClustering #0  {'affinity': 'rbf', 'assign_labels': 'kmeans',...   \n",
       "SpectralClustering #1  {'affinity': 'rbf', 'assign_labels': 'kmeans',...   \n",
       "SpectralClustering #2  {'affinity': 'rbf', 'assign_labels': 'kmeans',...   \n",
       "SpectralClustering #3  {'affinity': 'rbf', 'assign_labels': 'kmeans',...   \n",
       "SpectralClustering #4  {'affinity': 'rbf', 'assign_labels': 'kmeans',...   \n",
       "\n",
       "                                                               partition  \\\n",
       "clusterer_id                                                               \n",
       "SpectralClustering #0  [1.0, 0.0, 1.0, 1.0, 0.0, 0.0, 0.0, 1.0, 1.0, ...   \n",
       "SpectralClustering #1  [1.0, 0.0, 1.0, 1.0, 0.0, 0.0, 0.0, 1.0, 1.0, ...   \n",
       "SpectralClustering #2  [0.0, 1.0, 0.0, 0.0, 1.0, 1.0, 1.0, 0.0, 0.0, ...   \n",
       "SpectralClustering #3  [0.0, 1.0, 0.0, 0.0, 1.0, 1.0, 1.0, 0.0, 0.0, ...   \n",
       "SpectralClustering #4  [1.0, 0.0, 1.0, 1.0, 0.0, 0.0, 0.0, 1.0, 1.0, ...   \n",
       "\n",
       "                       n_clusters  \n",
       "clusterer_id                       \n",
       "SpectralClustering #0           2  \n",
       "SpectralClustering #1           2  \n",
       "SpectralClustering #2           2  \n",
       "SpectralClustering #3           2  \n",
       "SpectralClustering #4           2  "
      ]
     },
     "execution_count": 25,
     "metadata": {},
     "output_type": "execute_result"
    }
   ],
   "source": [
    "ensemble.head()"
   ]
  },
  {
   "cell_type": "code",
   "execution_count": 26,
   "id": "5dc7ef62",
   "metadata": {
    "execution": {
     "iopub.execute_input": "2022-09-11T21:32:45.906593Z",
     "iopub.status.busy": "2022-09-11T21:32:45.906382Z",
     "iopub.status.idle": "2022-09-11T21:32:45.926313Z",
     "shell.execute_reply": "2022-09-11T21:32:45.925738Z"
    },
    "papermill": {
     "duration": 0.038902,
     "end_time": "2022-09-11T21:32:45.927580",
     "exception": false,
     "start_time": "2022-09-11T21:32:45.888678",
     "status": "completed"
    },
    "tags": []
   },
   "outputs": [
    {
     "data": {
      "text/plain": [
       "60    5\n",
       "16    5\n",
       "28    5\n",
       "27    5\n",
       "26    5\n",
       "Name: n_clusters, dtype: int64"
      ]
     },
     "execution_count": 26,
     "metadata": {},
     "output_type": "execute_result"
    }
   ],
   "source": [
    "ensemble[\"n_clusters\"].value_counts().head()"
   ]
  },
  {
   "cell_type": "code",
   "execution_count": 27,
   "id": "b950b179",
   "metadata": {
    "execution": {
     "iopub.execute_input": "2022-09-11T21:32:45.964732Z",
     "iopub.status.busy": "2022-09-11T21:32:45.964549Z",
     "iopub.status.idle": "2022-09-11T21:32:45.985409Z",
     "shell.execute_reply": "2022-09-11T21:32:45.984862Z"
    },
    "papermill": {
     "duration": 0.041049,
     "end_time": "2022-09-11T21:32:45.986638",
     "exception": false,
     "start_time": "2022-09-11T21:32:45.945589",
     "status": "completed"
    },
    "tags": []
   },
   "outputs": [
    {
     "data": {
      "text/plain": [
       "count    295.000000\n",
       "mean      31.000000\n",
       "std       17.058323\n",
       "min        2.000000\n",
       "25%       16.000000\n",
       "50%       31.000000\n",
       "75%       46.000000\n",
       "max       60.000000\n",
       "Name: n_clusters, dtype: float64"
      ]
     },
     "metadata": {},
     "output_type": "display_data"
    }
   ],
   "source": [
    "ensemble_stats = ensemble[\"n_clusters\"].describe()\n",
    "display(ensemble_stats)"
   ]
  },
  {
   "cell_type": "markdown",
   "id": "db1f5758",
   "metadata": {
    "papermill": {
     "duration": 0.01737,
     "end_time": "2022-09-11T21:32:46.022055",
     "exception": false,
     "start_time": "2022-09-11T21:32:46.004685",
     "status": "completed"
    },
    "tags": []
   },
   "source": [
    "## Testing"
   ]
  },
  {
   "cell_type": "code",
   "execution_count": 28,
   "id": "fb13f8e0",
   "metadata": {
    "execution": {
     "iopub.execute_input": "2022-09-11T21:32:46.056905Z",
     "iopub.status.busy": "2022-09-11T21:32:46.056698Z",
     "iopub.status.idle": "2022-09-11T21:32:46.074117Z",
     "shell.execute_reply": "2022-09-11T21:32:46.073632Z"
    },
    "papermill": {
     "duration": 0.036698,
     "end_time": "2022-09-11T21:32:46.075686",
     "exception": false,
     "start_time": "2022-09-11T21:32:46.038988",
     "status": "completed"
    },
    "tags": []
   },
   "outputs": [],
   "source": [
    "assert ensemble_stats[\"min\"] > 1"
   ]
  },
  {
   "cell_type": "code",
   "execution_count": 29,
   "id": "6088526f",
   "metadata": {
    "execution": {
     "iopub.execute_input": "2022-09-11T21:32:46.111928Z",
     "iopub.status.busy": "2022-09-11T21:32:46.111731Z",
     "iopub.status.idle": "2022-09-11T21:32:46.129685Z",
     "shell.execute_reply": "2022-09-11T21:32:46.129210Z"
    },
    "papermill": {
     "duration": 0.03728,
     "end_time": "2022-09-11T21:32:46.131002",
     "exception": false,
     "start_time": "2022-09-11T21:32:46.093722",
     "status": "completed"
    },
    "tags": []
   },
   "outputs": [],
   "source": [
    "assert not ensemble[\"n_clusters\"].isna().any()"
   ]
  },
  {
   "cell_type": "code",
   "execution_count": 30,
   "id": "ca073971",
   "metadata": {
    "execution": {
     "iopub.execute_input": "2022-09-11T21:32:46.167036Z",
     "iopub.status.busy": "2022-09-11T21:32:46.166825Z",
     "iopub.status.idle": "2022-09-11T21:32:46.184902Z",
     "shell.execute_reply": "2022-09-11T21:32:46.184373Z"
    },
    "papermill": {
     "duration": 0.037569,
     "end_time": "2022-09-11T21:32:46.186291",
     "exception": false,
     "start_time": "2022-09-11T21:32:46.148722",
     "status": "completed"
    },
    "tags": []
   },
   "outputs": [],
   "source": [
    "assert ensemble.shape[0] == len(CLUSTERERS)"
   ]
  },
  {
   "cell_type": "code",
   "execution_count": 31,
   "id": "0229cdc5",
   "metadata": {
    "execution": {
     "iopub.execute_input": "2022-09-11T21:32:46.224183Z",
     "iopub.status.busy": "2022-09-11T21:32:46.223962Z",
     "iopub.status.idle": "2022-09-11T21:32:46.260128Z",
     "shell.execute_reply": "2022-09-11T21:32:46.259538Z"
    },
    "papermill": {
     "duration": 0.055602,
     "end_time": "2022-09-11T21:32:46.261607",
     "exception": false,
     "start_time": "2022-09-11T21:32:46.206005",
     "status": "completed"
    },
    "tags": []
   },
   "outputs": [],
   "source": [
    "# all partitions have the right size\n",
    "assert np.all(\n",
    "    [part[\"partition\"].shape[0] == data.shape[0] for idx, part in ensemble.iterrows()]\n",
    ")"
   ]
  },
  {
   "cell_type": "code",
   "execution_count": 32,
   "id": "78af0a18",
   "metadata": {
    "execution": {
     "iopub.execute_input": "2022-09-11T21:32:46.297795Z",
     "iopub.status.busy": "2022-09-11T21:32:46.297587Z",
     "iopub.status.idle": "2022-09-11T21:32:46.336910Z",
     "shell.execute_reply": "2022-09-11T21:32:46.336363Z"
    },
    "papermill": {
     "duration": 0.058883,
     "end_time": "2022-09-11T21:32:46.338368",
     "exception": false,
     "start_time": "2022-09-11T21:32:46.279485",
     "status": "completed"
    },
    "tags": []
   },
   "outputs": [],
   "source": [
    "# no partition has negative clusters (noisy points)\n",
    "assert not np.any([(part[\"partition\"] < 0).any() for idx, part in ensemble.iterrows()])"
   ]
  },
  {
   "cell_type": "markdown",
   "id": "a3bb54b4",
   "metadata": {
    "papermill": {
     "duration": 0.01706,
     "end_time": "2022-09-11T21:32:46.372823",
     "exception": false,
     "start_time": "2022-09-11T21:32:46.355763",
     "status": "completed"
    },
    "tags": []
   },
   "source": [
    "## Add clustering quality measures"
   ]
  },
  {
   "cell_type": "code",
   "execution_count": 33,
   "id": "98237d43",
   "metadata": {
    "execution": {
     "iopub.execute_input": "2022-09-11T21:32:46.408479Z",
     "iopub.status.busy": "2022-09-11T21:32:46.408250Z",
     "iopub.status.idle": "2022-09-11T21:32:46.425976Z",
     "shell.execute_reply": "2022-09-11T21:32:46.425511Z"
    },
    "papermill": {
     "duration": 0.037139,
     "end_time": "2022-09-11T21:32:46.427396",
     "exception": false,
     "start_time": "2022-09-11T21:32:46.390257",
     "status": "completed"
    },
    "tags": []
   },
   "outputs": [],
   "source": [
    "from sklearn.metrics import calinski_harabasz_score"
   ]
  },
  {
   "cell_type": "code",
   "execution_count": 34,
   "id": "cf71c996",
   "metadata": {
    "execution": {
     "iopub.execute_input": "2022-09-11T21:32:46.467748Z",
     "iopub.status.busy": "2022-09-11T21:32:46.467237Z",
     "iopub.status.idle": "2022-09-11T21:32:53.061177Z",
     "shell.execute_reply": "2022-09-11T21:32:53.060633Z"
    },
    "papermill": {
     "duration": 6.616421,
     "end_time": "2022-09-11T21:32:53.062546",
     "exception": false,
     "start_time": "2022-09-11T21:32:46.446125",
     "status": "completed"
    },
    "tags": []
   },
   "outputs": [],
   "source": [
    "ensemble = ensemble.assign(\n",
    "    ch_score=ensemble[\"partition\"].apply(lambda x: calinski_harabasz_score(data, x))\n",
    ")"
   ]
  },
  {
   "cell_type": "code",
   "execution_count": 35,
   "id": "735ab2f4",
   "metadata": {
    "execution": {
     "iopub.execute_input": "2022-09-11T21:32:53.100094Z",
     "iopub.status.busy": "2022-09-11T21:32:53.099874Z",
     "iopub.status.idle": "2022-09-11T21:32:53.118473Z",
     "shell.execute_reply": "2022-09-11T21:32:53.117948Z"
    },
    "papermill": {
     "duration": 0.038658,
     "end_time": "2022-09-11T21:32:53.119777",
     "exception": false,
     "start_time": "2022-09-11T21:32:53.081119",
     "status": "completed"
    },
    "tags": []
   },
   "outputs": [
    {
     "data": {
      "text/plain": [
       "(295, 4)"
      ]
     },
     "execution_count": 35,
     "metadata": {},
     "output_type": "execute_result"
    }
   ],
   "source": [
    "ensemble.shape"
   ]
  },
  {
   "cell_type": "code",
   "execution_count": 36,
   "id": "d3c18721",
   "metadata": {
    "execution": {
     "iopub.execute_input": "2022-09-11T21:32:53.157005Z",
     "iopub.status.busy": "2022-09-11T21:32:53.156376Z",
     "iopub.status.idle": "2022-09-11T21:32:53.182433Z",
     "shell.execute_reply": "2022-09-11T21:32:53.181996Z"
    },
    "papermill": {
     "duration": 0.04559,
     "end_time": "2022-09-11T21:32:53.183754",
     "exception": false,
     "start_time": "2022-09-11T21:32:53.138164",
     "status": "completed"
    },
    "tags": []
   },
   "outputs": [
    {
     "data": {
      "text/html": [
       "<div>\n",
       "<style scoped>\n",
       "    .dataframe tbody tr th:only-of-type {\n",
       "        vertical-align: middle;\n",
       "    }\n",
       "\n",
       "    .dataframe tbody tr th {\n",
       "        vertical-align: top;\n",
       "    }\n",
       "\n",
       "    .dataframe thead th {\n",
       "        text-align: right;\n",
       "    }\n",
       "</style>\n",
       "<table border=\"1\" class=\"dataframe\">\n",
       "  <thead>\n",
       "    <tr style=\"text-align: right;\">\n",
       "      <th></th>\n",
       "      <th>clusterer_params</th>\n",
       "      <th>partition</th>\n",
       "      <th>n_clusters</th>\n",
       "      <th>ch_score</th>\n",
       "    </tr>\n",
       "    <tr>\n",
       "      <th>clusterer_id</th>\n",
       "      <th></th>\n",
       "      <th></th>\n",
       "      <th></th>\n",
       "      <th></th>\n",
       "    </tr>\n",
       "  </thead>\n",
       "  <tbody>\n",
       "    <tr>\n",
       "      <th>SpectralClustering #0</th>\n",
       "      <td>{'affinity': 'rbf', 'assign_labels': 'kmeans',...</td>\n",
       "      <td>[1.0, 0.0, 1.0, 1.0, 0.0, 0.0, 0.0, 1.0, 1.0, ...</td>\n",
       "      <td>2</td>\n",
       "      <td>5.796699</td>\n",
       "    </tr>\n",
       "    <tr>\n",
       "      <th>SpectralClustering #1</th>\n",
       "      <td>{'affinity': 'rbf', 'assign_labels': 'kmeans',...</td>\n",
       "      <td>[1.0, 0.0, 1.0, 1.0, 0.0, 0.0, 0.0, 1.0, 1.0, ...</td>\n",
       "      <td>2</td>\n",
       "      <td>5.796699</td>\n",
       "    </tr>\n",
       "    <tr>\n",
       "      <th>SpectralClustering #2</th>\n",
       "      <td>{'affinity': 'rbf', 'assign_labels': 'kmeans',...</td>\n",
       "      <td>[0.0, 1.0, 0.0, 0.0, 1.0, 1.0, 1.0, 0.0, 0.0, ...</td>\n",
       "      <td>2</td>\n",
       "      <td>5.796699</td>\n",
       "    </tr>\n",
       "    <tr>\n",
       "      <th>SpectralClustering #3</th>\n",
       "      <td>{'affinity': 'rbf', 'assign_labels': 'kmeans',...</td>\n",
       "      <td>[0.0, 1.0, 0.0, 0.0, 1.0, 1.0, 1.0, 0.0, 0.0, ...</td>\n",
       "      <td>2</td>\n",
       "      <td>5.796699</td>\n",
       "    </tr>\n",
       "    <tr>\n",
       "      <th>SpectralClustering #4</th>\n",
       "      <td>{'affinity': 'rbf', 'assign_labels': 'kmeans',...</td>\n",
       "      <td>[1.0, 0.0, 1.0, 1.0, 0.0, 0.0, 0.0, 1.0, 1.0, ...</td>\n",
       "      <td>2</td>\n",
       "      <td>5.798022</td>\n",
       "    </tr>\n",
       "  </tbody>\n",
       "</table>\n",
       "</div>"
      ],
      "text/plain": [
       "                                                        clusterer_params  \\\n",
       "clusterer_id                                                               \n",
       "SpectralClustering #0  {'affinity': 'rbf', 'assign_labels': 'kmeans',...   \n",
       "SpectralClustering #1  {'affinity': 'rbf', 'assign_labels': 'kmeans',...   \n",
       "SpectralClustering #2  {'affinity': 'rbf', 'assign_labels': 'kmeans',...   \n",
       "SpectralClustering #3  {'affinity': 'rbf', 'assign_labels': 'kmeans',...   \n",
       "SpectralClustering #4  {'affinity': 'rbf', 'assign_labels': 'kmeans',...   \n",
       "\n",
       "                                                               partition  \\\n",
       "clusterer_id                                                               \n",
       "SpectralClustering #0  [1.0, 0.0, 1.0, 1.0, 0.0, 0.0, 0.0, 1.0, 1.0, ...   \n",
       "SpectralClustering #1  [1.0, 0.0, 1.0, 1.0, 0.0, 0.0, 0.0, 1.0, 1.0, ...   \n",
       "SpectralClustering #2  [0.0, 1.0, 0.0, 0.0, 1.0, 1.0, 1.0, 0.0, 0.0, ...   \n",
       "SpectralClustering #3  [0.0, 1.0, 0.0, 0.0, 1.0, 1.0, 1.0, 0.0, 0.0, ...   \n",
       "SpectralClustering #4  [1.0, 0.0, 1.0, 1.0, 0.0, 0.0, 0.0, 1.0, 1.0, ...   \n",
       "\n",
       "                       n_clusters  ch_score  \n",
       "clusterer_id                                 \n",
       "SpectralClustering #0           2  5.796699  \n",
       "SpectralClustering #1           2  5.796699  \n",
       "SpectralClustering #2           2  5.796699  \n",
       "SpectralClustering #3           2  5.796699  \n",
       "SpectralClustering #4           2  5.798022  "
      ]
     },
     "execution_count": 36,
     "metadata": {},
     "output_type": "execute_result"
    }
   ],
   "source": [
    "ensemble.head()"
   ]
  },
  {
   "cell_type": "markdown",
   "id": "4396b3e8",
   "metadata": {
    "papermill": {
     "duration": 0.017611,
     "end_time": "2022-09-11T21:32:53.219379",
     "exception": false,
     "start_time": "2022-09-11T21:32:53.201768",
     "status": "completed"
    },
    "tags": []
   },
   "source": [
    "## Save"
   ]
  },
  {
   "cell_type": "code",
   "execution_count": 37,
   "id": "f511de0b",
   "metadata": {
    "execution": {
     "iopub.execute_input": "2022-09-11T21:32:53.255304Z",
     "iopub.status.busy": "2022-09-11T21:32:53.255111Z",
     "iopub.status.idle": "2022-09-11T21:32:53.274285Z",
     "shell.execute_reply": "2022-09-11T21:32:53.273771Z"
    },
    "papermill": {
     "duration": 0.038764,
     "end_time": "2022-09-11T21:32:53.275572",
     "exception": false,
     "start_time": "2022-09-11T21:32:53.236808",
     "status": "completed"
    },
    "tags": []
   },
   "outputs": [
    {
     "data": {
      "text/plain": [
       "PosixPath('/opt/data/results/clustering/null_sims/runs/z_score_std-projection-smultixcan-efo_partial-mashr-zscores/SpectralClustering-AFFINITY_rbf-GAMMA_0001-KMEANS_N_INIT_10-K_MAX_60-K_MIN_2-N_REPS_PER_K_5.pkl')"
      ]
     },
     "metadata": {},
     "output_type": "display_data"
    }
   ],
   "source": [
    "output_filename = Path(\n",
    "    RESULTS_DIR,\n",
    "    generate_result_set_name(\n",
    "        CLUSTERING_OPTIONS,\n",
    "        prefix=f\"{clustering_method_name}-\",\n",
    "        suffix=\".pkl\",\n",
    "    ),\n",
    ").resolve()\n",
    "display(output_filename)"
   ]
  },
  {
   "cell_type": "code",
   "execution_count": 38,
   "id": "cdaaf970",
   "metadata": {
    "execution": {
     "iopub.execute_input": "2022-09-11T21:32:53.312972Z",
     "iopub.status.busy": "2022-09-11T21:32:53.312751Z",
     "iopub.status.idle": "2022-09-11T21:32:53.338646Z",
     "shell.execute_reply": "2022-09-11T21:32:53.338107Z"
    },
    "papermill": {
     "duration": 0.046362,
     "end_time": "2022-09-11T21:32:53.340112",
     "exception": false,
     "start_time": "2022-09-11T21:32:53.293750",
     "status": "completed"
    },
    "tags": []
   },
   "outputs": [],
   "source": [
    "ensemble.to_pickle(output_filename)"
   ]
  },
  {
   "cell_type": "markdown",
   "id": "c357d2f8",
   "metadata": {
    "papermill": {
     "duration": 0.017476,
     "end_time": "2022-09-11T21:32:53.376883",
     "exception": false,
     "start_time": "2022-09-11T21:32:53.359407",
     "status": "completed"
    },
    "tags": []
   },
   "source": [
    "# Cluster quality"
   ]
  },
  {
   "cell_type": "code",
   "execution_count": 39,
   "id": "f1cd37d2",
   "metadata": {
    "execution": {
     "iopub.execute_input": "2022-09-11T21:32:53.413309Z",
     "iopub.status.busy": "2022-09-11T21:32:53.413100Z",
     "iopub.status.idle": "2022-09-11T21:32:53.436251Z",
     "shell.execute_reply": "2022-09-11T21:32:53.435727Z"
    },
    "papermill": {
     "duration": 0.042824,
     "end_time": "2022-09-11T21:32:53.437499",
     "exception": false,
     "start_time": "2022-09-11T21:32:53.394675",
     "status": "completed"
    },
    "tags": []
   },
   "outputs": [
    {
     "data": {
      "text/html": [
       "<div>\n",
       "<style scoped>\n",
       "    .dataframe tbody tr th:only-of-type {\n",
       "        vertical-align: middle;\n",
       "    }\n",
       "\n",
       "    .dataframe tbody tr th {\n",
       "        vertical-align: top;\n",
       "    }\n",
       "\n",
       "    .dataframe thead th {\n",
       "        text-align: right;\n",
       "    }\n",
       "</style>\n",
       "<table border=\"1\" class=\"dataframe\">\n",
       "  <thead>\n",
       "    <tr style=\"text-align: right;\">\n",
       "      <th></th>\n",
       "      <th>ch_score</th>\n",
       "    </tr>\n",
       "    <tr>\n",
       "      <th>n_clusters</th>\n",
       "      <th></th>\n",
       "    </tr>\n",
       "  </thead>\n",
       "  <tbody>\n",
       "    <tr>\n",
       "      <th>2</th>\n",
       "      <td>5.796964</td>\n",
       "    </tr>\n",
       "    <tr>\n",
       "      <th>3</th>\n",
       "      <td>5.091757</td>\n",
       "    </tr>\n",
       "    <tr>\n",
       "      <th>4</th>\n",
       "      <td>4.610350</td>\n",
       "    </tr>\n",
       "    <tr>\n",
       "      <th>5</th>\n",
       "      <td>4.259859</td>\n",
       "    </tr>\n",
       "    <tr>\n",
       "      <th>6</th>\n",
       "      <td>4.003459</td>\n",
       "    </tr>\n",
       "    <tr>\n",
       "      <th>7</th>\n",
       "      <td>3.770181</td>\n",
       "    </tr>\n",
       "    <tr>\n",
       "      <th>8</th>\n",
       "      <td>3.592424</td>\n",
       "    </tr>\n",
       "    <tr>\n",
       "      <th>9</th>\n",
       "      <td>3.431341</td>\n",
       "    </tr>\n",
       "    <tr>\n",
       "      <th>10</th>\n",
       "      <td>3.302479</td>\n",
       "    </tr>\n",
       "    <tr>\n",
       "      <th>11</th>\n",
       "      <td>3.196401</td>\n",
       "    </tr>\n",
       "    <tr>\n",
       "      <th>12</th>\n",
       "      <td>3.095076</td>\n",
       "    </tr>\n",
       "    <tr>\n",
       "      <th>13</th>\n",
       "      <td>3.020240</td>\n",
       "    </tr>\n",
       "    <tr>\n",
       "      <th>14</th>\n",
       "      <td>2.936936</td>\n",
       "    </tr>\n",
       "    <tr>\n",
       "      <th>15</th>\n",
       "      <td>2.860513</td>\n",
       "    </tr>\n",
       "    <tr>\n",
       "      <th>16</th>\n",
       "      <td>2.793064</td>\n",
       "    </tr>\n",
       "    <tr>\n",
       "      <th>17</th>\n",
       "      <td>2.738203</td>\n",
       "    </tr>\n",
       "    <tr>\n",
       "      <th>18</th>\n",
       "      <td>2.677772</td>\n",
       "    </tr>\n",
       "    <tr>\n",
       "      <th>19</th>\n",
       "      <td>2.627999</td>\n",
       "    </tr>\n",
       "    <tr>\n",
       "      <th>20</th>\n",
       "      <td>2.582382</td>\n",
       "    </tr>\n",
       "    <tr>\n",
       "      <th>21</th>\n",
       "      <td>2.529819</td>\n",
       "    </tr>\n",
       "    <tr>\n",
       "      <th>22</th>\n",
       "      <td>2.502635</td>\n",
       "    </tr>\n",
       "    <tr>\n",
       "      <th>23</th>\n",
       "      <td>2.460788</td>\n",
       "    </tr>\n",
       "    <tr>\n",
       "      <th>24</th>\n",
       "      <td>2.425118</td>\n",
       "    </tr>\n",
       "    <tr>\n",
       "      <th>25</th>\n",
       "      <td>2.399736</td>\n",
       "    </tr>\n",
       "    <tr>\n",
       "      <th>26</th>\n",
       "      <td>2.365994</td>\n",
       "    </tr>\n",
       "    <tr>\n",
       "      <th>27</th>\n",
       "      <td>2.344402</td>\n",
       "    </tr>\n",
       "    <tr>\n",
       "      <th>28</th>\n",
       "      <td>2.309007</td>\n",
       "    </tr>\n",
       "    <tr>\n",
       "      <th>29</th>\n",
       "      <td>2.283423</td>\n",
       "    </tr>\n",
       "    <tr>\n",
       "      <th>30</th>\n",
       "      <td>2.257110</td>\n",
       "    </tr>\n",
       "    <tr>\n",
       "      <th>31</th>\n",
       "      <td>2.233664</td>\n",
       "    </tr>\n",
       "    <tr>\n",
       "      <th>32</th>\n",
       "      <td>2.211203</td>\n",
       "    </tr>\n",
       "    <tr>\n",
       "      <th>33</th>\n",
       "      <td>2.189819</td>\n",
       "    </tr>\n",
       "    <tr>\n",
       "      <th>34</th>\n",
       "      <td>2.170126</td>\n",
       "    </tr>\n",
       "    <tr>\n",
       "      <th>35</th>\n",
       "      <td>2.144296</td>\n",
       "    </tr>\n",
       "    <tr>\n",
       "      <th>36</th>\n",
       "      <td>2.135438</td>\n",
       "    </tr>\n",
       "    <tr>\n",
       "      <th>37</th>\n",
       "      <td>2.117290</td>\n",
       "    </tr>\n",
       "    <tr>\n",
       "      <th>38</th>\n",
       "      <td>2.097873</td>\n",
       "    </tr>\n",
       "    <tr>\n",
       "      <th>39</th>\n",
       "      <td>2.083661</td>\n",
       "    </tr>\n",
       "    <tr>\n",
       "      <th>40</th>\n",
       "      <td>2.073936</td>\n",
       "    </tr>\n",
       "    <tr>\n",
       "      <th>41</th>\n",
       "      <td>2.049888</td>\n",
       "    </tr>\n",
       "    <tr>\n",
       "      <th>42</th>\n",
       "      <td>2.037041</td>\n",
       "    </tr>\n",
       "    <tr>\n",
       "      <th>43</th>\n",
       "      <td>2.027454</td>\n",
       "    </tr>\n",
       "    <tr>\n",
       "      <th>44</th>\n",
       "      <td>2.002815</td>\n",
       "    </tr>\n",
       "    <tr>\n",
       "      <th>45</th>\n",
       "      <td>2.010742</td>\n",
       "    </tr>\n",
       "    <tr>\n",
       "      <th>46</th>\n",
       "      <td>1.983942</td>\n",
       "    </tr>\n",
       "    <tr>\n",
       "      <th>47</th>\n",
       "      <td>1.973407</td>\n",
       "    </tr>\n",
       "    <tr>\n",
       "      <th>48</th>\n",
       "      <td>1.965888</td>\n",
       "    </tr>\n",
       "    <tr>\n",
       "      <th>49</th>\n",
       "      <td>1.959922</td>\n",
       "    </tr>\n",
       "    <tr>\n",
       "      <th>50</th>\n",
       "      <td>1.945655</td>\n",
       "    </tr>\n",
       "    <tr>\n",
       "      <th>51</th>\n",
       "      <td>1.936121</td>\n",
       "    </tr>\n",
       "    <tr>\n",
       "      <th>52</th>\n",
       "      <td>1.918941</td>\n",
       "    </tr>\n",
       "    <tr>\n",
       "      <th>53</th>\n",
       "      <td>1.916190</td>\n",
       "    </tr>\n",
       "    <tr>\n",
       "      <th>54</th>\n",
       "      <td>1.892907</td>\n",
       "    </tr>\n",
       "    <tr>\n",
       "      <th>55</th>\n",
       "      <td>1.890514</td>\n",
       "    </tr>\n",
       "    <tr>\n",
       "      <th>56</th>\n",
       "      <td>1.889909</td>\n",
       "    </tr>\n",
       "    <tr>\n",
       "      <th>57</th>\n",
       "      <td>1.930325</td>\n",
       "    </tr>\n",
       "    <tr>\n",
       "      <th>58</th>\n",
       "      <td>1.891712</td>\n",
       "    </tr>\n",
       "    <tr>\n",
       "      <th>59</th>\n",
       "      <td>1.853900</td>\n",
       "    </tr>\n",
       "    <tr>\n",
       "      <th>60</th>\n",
       "      <td>1.874390</td>\n",
       "    </tr>\n",
       "  </tbody>\n",
       "</table>\n",
       "</div>"
      ],
      "text/plain": [
       "            ch_score\n",
       "n_clusters          \n",
       "2           5.796964\n",
       "3           5.091757\n",
       "4           4.610350\n",
       "5           4.259859\n",
       "6           4.003459\n",
       "7           3.770181\n",
       "8           3.592424\n",
       "9           3.431341\n",
       "10          3.302479\n",
       "11          3.196401\n",
       "12          3.095076\n",
       "13          3.020240\n",
       "14          2.936936\n",
       "15          2.860513\n",
       "16          2.793064\n",
       "17          2.738203\n",
       "18          2.677772\n",
       "19          2.627999\n",
       "20          2.582382\n",
       "21          2.529819\n",
       "22          2.502635\n",
       "23          2.460788\n",
       "24          2.425118\n",
       "25          2.399736\n",
       "26          2.365994\n",
       "27          2.344402\n",
       "28          2.309007\n",
       "29          2.283423\n",
       "30          2.257110\n",
       "31          2.233664\n",
       "32          2.211203\n",
       "33          2.189819\n",
       "34          2.170126\n",
       "35          2.144296\n",
       "36          2.135438\n",
       "37          2.117290\n",
       "38          2.097873\n",
       "39          2.083661\n",
       "40          2.073936\n",
       "41          2.049888\n",
       "42          2.037041\n",
       "43          2.027454\n",
       "44          2.002815\n",
       "45          2.010742\n",
       "46          1.983942\n",
       "47          1.973407\n",
       "48          1.965888\n",
       "49          1.959922\n",
       "50          1.945655\n",
       "51          1.936121\n",
       "52          1.918941\n",
       "53          1.916190\n",
       "54          1.892907\n",
       "55          1.890514\n",
       "56          1.889909\n",
       "57          1.930325\n",
       "58          1.891712\n",
       "59          1.853900\n",
       "60          1.874390"
      ]
     },
     "metadata": {},
     "output_type": "display_data"
    }
   ],
   "source": [
    "with pd.option_context(\"display.max_rows\", None, \"display.max_columns\", None):\n",
    "    _df = ensemble.groupby([\"n_clusters\"]).mean()\n",
    "    display(_df)"
   ]
  },
  {
   "cell_type": "code",
   "execution_count": 40,
   "id": "4dd8e721",
   "metadata": {
    "execution": {
     "iopub.execute_input": "2022-09-11T21:32:53.476379Z",
     "iopub.status.busy": "2022-09-11T21:32:53.475599Z",
     "iopub.status.idle": "2022-09-11T21:32:56.549362Z",
     "shell.execute_reply": "2022-09-11T21:32:56.548870Z"
    },
    "papermill": {
     "duration": 3.094317,
     "end_time": "2022-09-11T21:32:56.550750",
     "exception": false,
     "start_time": "2022-09-11T21:32:53.456433",
     "status": "completed"
    },
    "tags": []
   },
   "outputs": [
    {
     "data": {
      "image/png": "[encoded data removed]",
      "text/plain": [
       "<Figure size 1008x432 with 1 Axes>"
      ]
     },
     "metadata": {},
     "output_type": "display_data"
    }
   ],
   "source": [
    "with sns.plotting_context(\"talk\", font_scale=0.75), sns.axes_style(\n",
    "    \"whitegrid\", {\"grid.linestyle\": \"--\"}\n",
    "):\n",
    "    fig = plt.figure(figsize=(14, 6))\n",
    "    ax = sns.pointplot(data=ensemble, x=\"n_clusters\", y=\"ch_score\")\n",
    "    ax.set_ylabel(\"Calinski-Harabasz index\")\n",
    "    ax.set_xlabel(\"Number of clusters ($k$)\")\n",
    "    ax.set_xticklabels(ax.get_xticklabels(), rotation=45)\n",
    "    plt.grid(True)\n",
    "    plt.tight_layout()"
   ]
  },
  {
   "cell_type": "markdown",
   "id": "c09625a6",
   "metadata": {
    "papermill": {
     "duration": 0.019808,
     "end_time": "2022-09-11T21:32:56.597238",
     "exception": false,
     "start_time": "2022-09-11T21:32:56.577430",
     "status": "completed"
    },
    "tags": []
   },
   "source": [
    "# Stability"
   ]
  },
  {
   "cell_type": "markdown",
   "id": "c70994d2",
   "metadata": {
    "papermill": {
     "duration": 0.018649,
     "end_time": "2022-09-11T21:32:56.634843",
     "exception": false,
     "start_time": "2022-09-11T21:32:56.616194",
     "status": "completed"
    },
    "tags": []
   },
   "source": [
    "## Group ensemble by n_clusters"
   ]
  },
  {
   "cell_type": "code",
   "execution_count": 41,
   "id": "3aa1711c",
   "metadata": {
    "execution": {
     "iopub.execute_input": "2022-09-11T21:32:56.673625Z",
     "iopub.status.busy": "2022-09-11T21:32:56.673417Z",
     "iopub.status.idle": "2022-09-11T21:32:56.705844Z",
     "shell.execute_reply": "2022-09-11T21:32:56.705299Z"
    },
    "papermill": {
     "duration": 0.053334,
     "end_time": "2022-09-11T21:32:56.707213",
     "exception": false,
     "start_time": "2022-09-11T21:32:56.653879",
     "status": "completed"
    },
    "tags": []
   },
   "outputs": [],
   "source": [
    "parts = ensemble.groupby(\"n_clusters\").apply(\n",
    "    lambda x: np.concatenate(x[\"partition\"].apply(lambda x: x.reshape(1, -1)), axis=0)\n",
    ")"
   ]
  },
  {
   "cell_type": "code",
   "execution_count": 42,
   "id": "0fb0b446",
   "metadata": {
    "execution": {
     "iopub.execute_input": "2022-09-11T21:32:56.748208Z",
     "iopub.status.busy": "2022-09-11T21:32:56.747997Z",
     "iopub.status.idle": "2022-09-11T21:32:56.779830Z",
     "shell.execute_reply": "2022-09-11T21:32:56.779002Z"
    },
    "papermill": {
     "duration": 0.053508,
     "end_time": "2022-09-11T21:32:56.781120",
     "exception": false,
     "start_time": "2022-09-11T21:32:56.727612",
     "status": "completed"
    },
    "tags": []
   },
   "outputs": [
    {
     "data": {
      "text/plain": [
       "n_clusters\n",
       "2    [[1.0, 0.0, 1.0, 1.0, 0.0, 0.0, 0.0, 1.0, 1.0,...\n",
       "3    [[0.0, 2.0, 0.0, 1.0, 2.0, 2.0, 2.0, 0.0, 0.0,...\n",
       "4    [[1.0, 2.0, 0.0, 3.0, 2.0, 2.0, 3.0, 0.0, 0.0,...\n",
       "5    [[1.0, 3.0, 1.0, 4.0, 3.0, 3.0, 4.0, 4.0, 4.0,...\n",
       "6    [[4.0, 0.0, 4.0, 1.0, 0.0, 0.0, 1.0, 3.0, 4.0,...\n",
       "dtype: object"
      ]
     },
     "execution_count": 42,
     "metadata": {},
     "output_type": "execute_result"
    }
   ],
   "source": [
    "parts.head()"
   ]
  },
  {
   "cell_type": "code",
   "execution_count": 43,
   "id": "56948378",
   "metadata": {
    "execution": {
     "iopub.execute_input": "2022-09-11T21:32:56.821176Z",
     "iopub.status.busy": "2022-09-11T21:32:56.820967Z",
     "iopub.status.idle": "2022-09-11T21:32:56.840261Z",
     "shell.execute_reply": "2022-09-11T21:32:56.839557Z"
    },
    "papermill": {
     "duration": 0.040886,
     "end_time": "2022-09-11T21:32:56.841615",
     "exception": false,
     "start_time": "2022-09-11T21:32:56.800729",
     "status": "completed"
    },
    "tags": []
   },
   "outputs": [],
   "source": [
    "assert np.all(\n",
    "    [\n",
    "        parts.loc[k].shape == (CLUSTERING_OPTIONS[\"N_REPS_PER_K\"], data.shape[0])\n",
    "        for k in parts.index\n",
    "    ]\n",
    ")"
   ]
  },
  {
   "cell_type": "markdown",
   "id": "69b93bcd",
   "metadata": {
    "papermill": {
     "duration": 0.019246,
     "end_time": "2022-09-11T21:32:56.880707",
     "exception": false,
     "start_time": "2022-09-11T21:32:56.861461",
     "status": "completed"
    },
    "tags": []
   },
   "source": [
    "## Compute stability"
   ]
  },
  {
   "cell_type": "code",
   "execution_count": 44,
   "id": "8f57bd9b",
   "metadata": {
    "execution": {
     "iopub.execute_input": "2022-09-11T21:32:56.919976Z",
     "iopub.status.busy": "2022-09-11T21:32:56.919766Z",
     "iopub.status.idle": "2022-09-11T21:32:56.937922Z",
     "shell.execute_reply": "2022-09-11T21:32:56.937284Z"
    },
    "papermill": {
     "duration": 0.039502,
     "end_time": "2022-09-11T21:32:56.939298",
     "exception": false,
     "start_time": "2022-09-11T21:32:56.899796",
     "status": "completed"
    },
    "tags": []
   },
   "outputs": [],
   "source": [
    "from sklearn.metrics import adjusted_rand_score as ari\n",
    "from scipy.spatial.distance import pdist"
   ]
  },
  {
   "cell_type": "code",
   "execution_count": 45,
   "id": "8a7485af",
   "metadata": {
    "execution": {
     "iopub.execute_input": "2022-09-11T21:32:56.981851Z",
     "iopub.status.busy": "2022-09-11T21:32:56.981645Z",
     "iopub.status.idle": "2022-09-11T21:32:57.878448Z",
     "shell.execute_reply": "2022-09-11T21:32:57.877885Z"
    },
    "papermill": {
     "duration": 0.919491,
     "end_time": "2022-09-11T21:32:57.880146",
     "exception": false,
     "start_time": "2022-09-11T21:32:56.960655",
     "status": "completed"
    },
    "tags": []
   },
   "outputs": [],
   "source": [
    "parts_ari = pd.Series(\n",
    "    {k: pdist(parts.loc[k], metric=ari) for k in parts.index}, name=\"k\"\n",
    ")"
   ]
  },
  {
   "cell_type": "code",
   "execution_count": 46,
   "id": "412edc9b",
   "metadata": {
    "execution": {
     "iopub.execute_input": "2022-09-11T21:32:57.919635Z",
     "iopub.status.busy": "2022-09-11T21:32:57.919411Z",
     "iopub.status.idle": "2022-09-11T21:32:57.940162Z",
     "shell.execute_reply": "2022-09-11T21:32:57.939641Z"
    },
    "papermill": {
     "duration": 0.041888,
     "end_time": "2022-09-11T21:32:57.941350",
     "exception": false,
     "start_time": "2022-09-11T21:32:57.899462",
     "status": "completed"
    },
    "tags": []
   },
   "outputs": [
    {
     "data": {
      "text/plain": [
       "2     0.999574\n",
       "3     0.977291\n",
       "4     0.841627\n",
       "5     0.502060\n",
       "6     0.479311\n",
       "8     0.344300\n",
       "7     0.329545\n",
       "10    0.230773\n",
       "9     0.225252\n",
       "11    0.210636\n",
       "13    0.193708\n",
       "14    0.180981\n",
       "15    0.166199\n",
       "12    0.161325\n",
       "16    0.132900\n",
       "Name: k, dtype: float64"
      ]
     },
     "metadata": {},
     "output_type": "display_data"
    }
   ],
   "source": [
    "parts_ari_stability = parts_ari.apply(lambda x: x.mean())\n",
    "display(parts_ari_stability.sort_values(ascending=False).head(15))"
   ]
  },
  {
   "cell_type": "code",
   "execution_count": 47,
   "id": "7727b8d3",
   "metadata": {
    "execution": {
     "iopub.execute_input": "2022-09-11T21:32:57.983588Z",
     "iopub.status.busy": "2022-09-11T21:32:57.982896Z",
     "iopub.status.idle": "2022-09-11T21:32:58.001734Z",
     "shell.execute_reply": "2022-09-11T21:32:58.001271Z"
    },
    "papermill": {
     "duration": 0.041765,
     "end_time": "2022-09-11T21:32:58.003158",
     "exception": false,
     "start_time": "2022-09-11T21:32:57.961393",
     "status": "completed"
    },
    "tags": []
   },
   "outputs": [],
   "source": [
    "parts_ari_df = pd.DataFrame.from_records(parts_ari.tolist()).set_index(\n",
    "    parts_ari.index.copy()\n",
    ")"
   ]
  },
  {
   "cell_type": "code",
   "execution_count": 48,
   "id": "946310a9",
   "metadata": {
    "execution": {
     "iopub.execute_input": "2022-09-11T21:32:58.043458Z",
     "iopub.status.busy": "2022-09-11T21:32:58.043224Z",
     "iopub.status.idle": "2022-09-11T21:32:58.062266Z",
     "shell.execute_reply": "2022-09-11T21:32:58.061759Z"
    },
    "papermill": {
     "duration": 0.040357,
     "end_time": "2022-09-11T21:32:58.063585",
     "exception": false,
     "start_time": "2022-09-11T21:32:58.023228",
     "status": "completed"
    },
    "tags": []
   },
   "outputs": [
    {
     "data": {
      "text/plain": [
       "(59, 10)"
      ]
     },
     "execution_count": 48,
     "metadata": {},
     "output_type": "execute_result"
    }
   ],
   "source": [
    "parts_ari_df.shape"
   ]
  },
  {
   "cell_type": "code",
   "execution_count": 49,
   "id": "e59fce10",
   "metadata": {
    "execution": {
     "iopub.execute_input": "2022-09-11T21:32:58.104796Z",
     "iopub.status.busy": "2022-09-11T21:32:58.104588Z",
     "iopub.status.idle": "2022-09-11T21:32:58.122754Z",
     "shell.execute_reply": "2022-09-11T21:32:58.122236Z"
    },
    "papermill": {
     "duration": 0.039901,
     "end_time": "2022-09-11T21:32:58.124116",
     "exception": false,
     "start_time": "2022-09-11T21:32:58.084215",
     "status": "completed"
    },
    "tags": []
   },
   "outputs": [],
   "source": [
    "assert (\n",
    "    int(\n",
    "        (CLUSTERING_OPTIONS[\"N_REPS_PER_K\"] * (CLUSTERING_OPTIONS[\"N_REPS_PER_K\"] - 1))\n",
    "        / 2\n",
    "    )\n",
    "    == parts_ari_df.shape[1]\n",
    ")"
   ]
  },
  {
   "cell_type": "code",
   "execution_count": 50,
   "id": "0d668875",
   "metadata": {
    "execution": {
     "iopub.execute_input": "2022-09-11T21:32:58.165171Z",
     "iopub.status.busy": "2022-09-11T21:32:58.164962Z",
     "iopub.status.idle": "2022-09-11T21:32:58.189046Z",
     "shell.execute_reply": "2022-09-11T21:32:58.188593Z"
    },
    "papermill": {
     "duration": 0.045803,
     "end_time": "2022-09-11T21:32:58.190296",
     "exception": false,
     "start_time": "2022-09-11T21:32:58.144493",
     "status": "completed"
    },
    "tags": []
   },
   "outputs": [
    {
     "data": {
      "text/html": [
       "<div>\n",
       "<style scoped>\n",
       "    .dataframe tbody tr th:only-of-type {\n",
       "        vertical-align: middle;\n",
       "    }\n",
       "\n",
       "    .dataframe tbody tr th {\n",
       "        vertical-align: top;\n",
       "    }\n",
       "\n",
       "    .dataframe thead th {\n",
       "        text-align: right;\n",
       "    }\n",
       "</style>\n",
       "<table border=\"1\" class=\"dataframe\">\n",
       "  <thead>\n",
       "    <tr style=\"text-align: right;\">\n",
       "      <th></th>\n",
       "      <th>0</th>\n",
       "      <th>1</th>\n",
       "      <th>2</th>\n",
       "      <th>3</th>\n",
       "      <th>4</th>\n",
       "      <th>5</th>\n",
       "      <th>6</th>\n",
       "      <th>7</th>\n",
       "      <th>8</th>\n",
       "      <th>9</th>\n",
       "    </tr>\n",
       "  </thead>\n",
       "  <tbody>\n",
       "    <tr>\n",
       "      <th>2</th>\n",
       "      <td>1.000000</td>\n",
       "      <td>1.000000</td>\n",
       "      <td>1.000000</td>\n",
       "      <td>0.998934</td>\n",
       "      <td>1.000000</td>\n",
       "      <td>1.000000</td>\n",
       "      <td>0.998934</td>\n",
       "      <td>1.000000</td>\n",
       "      <td>0.998934</td>\n",
       "      <td>0.998934</td>\n",
       "    </tr>\n",
       "    <tr>\n",
       "      <th>3</th>\n",
       "      <td>0.977693</td>\n",
       "      <td>0.990409</td>\n",
       "      <td>0.972985</td>\n",
       "      <td>0.977721</td>\n",
       "      <td>0.982512</td>\n",
       "      <td>0.969903</td>\n",
       "      <td>0.976187</td>\n",
       "      <td>0.963606</td>\n",
       "      <td>0.968299</td>\n",
       "      <td>0.993597</td>\n",
       "    </tr>\n",
       "    <tr>\n",
       "      <th>4</th>\n",
       "      <td>0.971306</td>\n",
       "      <td>0.836152</td>\n",
       "      <td>0.959248</td>\n",
       "      <td>0.764471</td>\n",
       "      <td>0.829268</td>\n",
       "      <td>0.979269</td>\n",
       "      <td>0.756869</td>\n",
       "      <td>0.839582</td>\n",
       "      <td>0.726811</td>\n",
       "      <td>0.753296</td>\n",
       "    </tr>\n",
       "    <tr>\n",
       "      <th>5</th>\n",
       "      <td>0.448300</td>\n",
       "      <td>0.882765</td>\n",
       "      <td>0.467902</td>\n",
       "      <td>0.497508</td>\n",
       "      <td>0.459133</td>\n",
       "      <td>0.588442</td>\n",
       "      <td>0.291708</td>\n",
       "      <td>0.510578</td>\n",
       "      <td>0.487567</td>\n",
       "      <td>0.386699</td>\n",
       "    </tr>\n",
       "    <tr>\n",
       "      <th>6</th>\n",
       "      <td>0.374549</td>\n",
       "      <td>0.341080</td>\n",
       "      <td>0.753508</td>\n",
       "      <td>0.784718</td>\n",
       "      <td>0.462210</td>\n",
       "      <td>0.434527</td>\n",
       "      <td>0.371331</td>\n",
       "      <td>0.328934</td>\n",
       "      <td>0.305650</td>\n",
       "      <td>0.636598</td>\n",
       "    </tr>\n",
       "  </tbody>\n",
       "</table>\n",
       "</div>"
      ],
      "text/plain": [
       "          0         1         2         3         4         5         6  \\\n",
       "2  1.000000  1.000000  1.000000  0.998934  1.000000  1.000000  0.998934   \n",
       "3  0.977693  0.990409  0.972985  0.977721  0.982512  0.969903  0.976187   \n",
       "4  0.971306  0.836152  0.959248  0.764471  0.829268  0.979269  0.756869   \n",
       "5  0.448300  0.882765  0.467902  0.497508  0.459133  0.588442  0.291708   \n",
       "6  0.374549  0.341080  0.753508  0.784718  0.462210  0.434527  0.371331   \n",
       "\n",
       "          7         8         9  \n",
       "2  1.000000  0.998934  0.998934  \n",
       "3  0.963606  0.968299  0.993597  \n",
       "4  0.839582  0.726811  0.753296  \n",
       "5  0.510578  0.487567  0.386699  \n",
       "6  0.328934  0.305650  0.636598  "
      ]
     },
     "execution_count": 50,
     "metadata": {},
     "output_type": "execute_result"
    }
   ],
   "source": [
    "parts_ari_df.head()"
   ]
  },
  {
   "cell_type": "markdown",
   "id": "f2e14e72",
   "metadata": {
    "papermill": {
     "duration": 0.019869,
     "end_time": "2022-09-11T21:32:58.230625",
     "exception": false,
     "start_time": "2022-09-11T21:32:58.210756",
     "status": "completed"
    },
    "tags": []
   },
   "source": [
    "## Save"
   ]
  },
  {
   "cell_type": "code",
   "execution_count": 51,
   "id": "b1241e70",
   "metadata": {
    "execution": {
     "iopub.execute_input": "2022-09-11T21:32:58.270958Z",
     "iopub.status.busy": "2022-09-11T21:32:58.270737Z",
     "iopub.status.idle": "2022-09-11T21:32:58.290116Z",
     "shell.execute_reply": "2022-09-11T21:32:58.289670Z"
    },
    "papermill": {
     "duration": 0.041157,
     "end_time": "2022-09-11T21:32:58.291362",
     "exception": false,
     "start_time": "2022-09-11T21:32:58.250205",
     "status": "completed"
    },
    "tags": []
   },
   "outputs": [
    {
     "data": {
      "text/plain": [
       "PosixPath('/opt/data/results/clustering/null_sims/runs/z_score_std-projection-smultixcan-efo_partial-mashr-zscores/SpectralClustering-stability-AFFINITY_rbf-GAMMA_0001-KMEANS_N_INIT_10-K_MAX_60-K_MIN_2-N_REPS_PER_K_5.pkl')"
      ]
     },
     "metadata": {},
     "output_type": "display_data"
    }
   ],
   "source": [
    "output_filename = Path(\n",
    "    RESULTS_DIR,\n",
    "    generate_result_set_name(\n",
    "        CLUSTERING_OPTIONS,\n",
    "        prefix=f\"{clustering_method_name}-stability-\",\n",
    "        suffix=\".pkl\",\n",
    "    ),\n",
    ").resolve()\n",
    "display(output_filename)"
   ]
  },
  {
   "cell_type": "code",
   "execution_count": 52,
   "id": "c8995ca8",
   "metadata": {
    "execution": {
     "iopub.execute_input": "2022-09-11T21:32:58.332566Z",
     "iopub.status.busy": "2022-09-11T21:32:58.332360Z",
     "iopub.status.idle": "2022-09-11T21:32:58.350461Z",
     "shell.execute_reply": "2022-09-11T21:32:58.350001Z"
    },
    "papermill": {
     "duration": 0.040298,
     "end_time": "2022-09-11T21:32:58.351816",
     "exception": false,
     "start_time": "2022-09-11T21:32:58.311518",
     "status": "completed"
    },
    "tags": []
   },
   "outputs": [],
   "source": [
    "parts_ari_df.to_pickle(output_filename)"
   ]
  },
  {
   "cell_type": "markdown",
   "id": "789417b1",
   "metadata": {
    "papermill": {
     "duration": 0.020752,
     "end_time": "2022-09-11T21:32:58.393355",
     "exception": false,
     "start_time": "2022-09-11T21:32:58.372603",
     "status": "completed"
    },
    "tags": []
   },
   "source": [
    "## Stability plot"
   ]
  },
  {
   "cell_type": "code",
   "execution_count": 53,
   "id": "d4da6b21",
   "metadata": {
    "execution": {
     "iopub.execute_input": "2022-09-11T21:32:58.433960Z",
     "iopub.status.busy": "2022-09-11T21:32:58.433752Z",
     "iopub.status.idle": "2022-09-11T21:32:58.453013Z",
     "shell.execute_reply": "2022-09-11T21:32:58.452466Z"
    },
    "papermill": {
     "duration": 0.041156,
     "end_time": "2022-09-11T21:32:58.454322",
     "exception": false,
     "start_time": "2022-09-11T21:32:58.413166",
     "status": "completed"
    },
    "tags": []
   },
   "outputs": [],
   "source": [
    "parts_ari_df_plot = (\n",
    "    parts_ari_df.stack()\n",
    "    .reset_index()\n",
    "    .rename(columns={\"level_0\": \"k\", \"level_1\": \"idx\", 0: \"ari\"})\n",
    ")"
   ]
  },
  {
   "cell_type": "code",
   "execution_count": 54,
   "id": "a273a1ca",
   "metadata": {
    "execution": {
     "iopub.execute_input": "2022-09-11T21:32:58.496214Z",
     "iopub.status.busy": "2022-09-11T21:32:58.496003Z",
     "iopub.status.idle": "2022-09-11T21:32:58.516691Z",
     "shell.execute_reply": "2022-09-11T21:32:58.516152Z"
    },
    "papermill": {
     "duration": 0.042666,
     "end_time": "2022-09-11T21:32:58.517902",
     "exception": false,
     "start_time": "2022-09-11T21:32:58.475236",
     "status": "completed"
    },
    "tags": []
   },
   "outputs": [
    {
     "data": {
      "text/plain": [
       "k        int64\n",
       "idx      int64\n",
       "ari    float64\n",
       "dtype: object"
      ]
     },
     "execution_count": 54,
     "metadata": {},
     "output_type": "execute_result"
    }
   ],
   "source": [
    "parts_ari_df_plot.dtypes"
   ]
  },
  {
   "cell_type": "code",
   "execution_count": 55,
   "id": "0525e33d",
   "metadata": {
    "execution": {
     "iopub.execute_input": "2022-09-11T21:32:58.560228Z",
     "iopub.status.busy": "2022-09-11T21:32:58.560020Z",
     "iopub.status.idle": "2022-09-11T21:32:58.581102Z",
     "shell.execute_reply": "2022-09-11T21:32:58.580529Z"
    },
    "papermill": {
     "duration": 0.043316,
     "end_time": "2022-09-11T21:32:58.582396",
     "exception": false,
     "start_time": "2022-09-11T21:32:58.539080",
     "status": "completed"
    },
    "tags": []
   },
   "outputs": [
    {
     "data": {
      "text/html": [
       "<div>\n",
       "<style scoped>\n",
       "    .dataframe tbody tr th:only-of-type {\n",
       "        vertical-align: middle;\n",
       "    }\n",
       "\n",
       "    .dataframe tbody tr th {\n",
       "        vertical-align: top;\n",
       "    }\n",
       "\n",
       "    .dataframe thead th {\n",
       "        text-align: right;\n",
       "    }\n",
       "</style>\n",
       "<table border=\"1\" class=\"dataframe\">\n",
       "  <thead>\n",
       "    <tr style=\"text-align: right;\">\n",
       "      <th></th>\n",
       "      <th>k</th>\n",
       "      <th>idx</th>\n",
       "      <th>ari</th>\n",
       "    </tr>\n",
       "  </thead>\n",
       "  <tbody>\n",
       "    <tr>\n",
       "      <th>0</th>\n",
       "      <td>2</td>\n",
       "      <td>0</td>\n",
       "      <td>1.000000</td>\n",
       "    </tr>\n",
       "    <tr>\n",
       "      <th>1</th>\n",
       "      <td>2</td>\n",
       "      <td>1</td>\n",
       "      <td>1.000000</td>\n",
       "    </tr>\n",
       "    <tr>\n",
       "      <th>2</th>\n",
       "      <td>2</td>\n",
       "      <td>2</td>\n",
       "      <td>1.000000</td>\n",
       "    </tr>\n",
       "    <tr>\n",
       "      <th>3</th>\n",
       "      <td>2</td>\n",
       "      <td>3</td>\n",
       "      <td>0.998934</td>\n",
       "    </tr>\n",
       "    <tr>\n",
       "      <th>4</th>\n",
       "      <td>2</td>\n",
       "      <td>4</td>\n",
       "      <td>1.000000</td>\n",
       "    </tr>\n",
       "  </tbody>\n",
       "</table>\n",
       "</div>"
      ],
      "text/plain": [
       "   k  idx       ari\n",
       "0  2    0  1.000000\n",
       "1  2    1  1.000000\n",
       "2  2    2  1.000000\n",
       "3  2    3  0.998934\n",
       "4  2    4  1.000000"
      ]
     },
     "execution_count": 55,
     "metadata": {},
     "output_type": "execute_result"
    }
   ],
   "source": [
    "parts_ari_df_plot.head()"
   ]
  },
  {
   "cell_type": "code",
   "execution_count": 56,
   "id": "d029cbd9",
   "metadata": {
    "execution": {
     "iopub.execute_input": "2022-09-11T21:32:58.624534Z",
     "iopub.status.busy": "2022-09-11T21:32:58.624316Z",
     "iopub.status.idle": "2022-09-11T21:33:01.510679Z",
     "shell.execute_reply": "2022-09-11T21:33:01.510225Z"
    },
    "papermill": {
     "duration": 2.908471,
     "end_time": "2022-09-11T21:33:01.512009",
     "exception": false,
     "start_time": "2022-09-11T21:32:58.603538",
     "status": "completed"
    },
    "tags": []
   },
   "outputs": [
    {
     "data": {
      "image/png": "[encoded data removed]",
      "text/plain": [
       "<Figure size 1008x432 with 1 Axes>"
      ]
     },
     "metadata": {},
     "output_type": "display_data"
    }
   ],
   "source": [
    "# with sns.axes_style('whitegrid', {'grid.linestyle': '--'}):\n",
    "with sns.plotting_context(\"talk\", font_scale=0.75), sns.axes_style(\n",
    "    \"whitegrid\", {\"grid.linestyle\": \"--\"}\n",
    "):\n",
    "    fig = plt.figure(figsize=(14, 6))\n",
    "    ax = sns.pointplot(data=parts_ari_df_plot, x=\"k\", y=\"ari\")\n",
    "    ax.set_ylabel(\"Averange ARI\")\n",
    "    ax.set_xlabel(\"Number of clusters ($k$)\")\n",
    "    ax.set_xticklabels(ax.get_xticklabels(), rotation=45)\n",
    "    #     ax.set_ylim(0.0, 1.0)\n",
    "    #     ax.set_xlim(CLUSTERING_OPTIONS['K_MIN'], CLUSTERING_OPTIONS['K_MAX'])\n",
    "    plt.grid(True)\n",
    "    plt.tight_layout()"
   ]
  },
  {
   "cell_type": "code",
   "execution_count": null,
   "id": "ba2aaa43",
   "metadata": {
    "papermill": {
     "duration": 0.021323,
     "end_time": "2022-09-11T21:33:01.557651",
     "exception": false,
     "start_time": "2022-09-11T21:33:01.536328",
     "status": "completed"
    },
    "tags": []
   },
   "outputs": [],
   "source": []
  }
 ],
 "metadata": {
  "jupytext": {
   "cell_metadata_filter": "all,-execution,-papermill,-trusted",
   "formats": "ipynb,py//py:percent"
  },
  "kernelspec": {
   "display_name": "Python 3 (ipykernel)",
   "language": "python",
   "name": "python3"
  },
  "language_info": {
   "codemirror_mode": {
    "name": "ipython",
    "version": 3
   },
   "file_extension": ".py",
   "mimetype": "text/x-python",
   "name": "python",
   "nbconvert_exporter": "python",
   "pygments_lexer": "ipython3",
   "version": "3.8.13"
  },
  "papermill": {
   "default_parameters": {},
   "duration": 1158.652565,
   "end_time": "2022-09-11T21:33:01.898592",
   "environment_variables": {},
   "exception": null,
   "input_path": "nbs/13.1_cluster_analysis_null/11_00-spectral-z_score_std.ipynb",
   "output_path": "nbs/13.1_cluster_analysis_null/11_00-spectral-z_score_std.run.ipynb",
   "parameters": {},
   "start_time": "2022-09-11T21:13:43.246027",
   "version": "2.2.2"
  },
  "toc-autonumbering": true,
  "toc-showcode": false,
  "toc-showmarkdowntxt": false,
  "toc-showtags": false
 },
 "nbformat": 4,
 "nbformat_minor": 5
}
