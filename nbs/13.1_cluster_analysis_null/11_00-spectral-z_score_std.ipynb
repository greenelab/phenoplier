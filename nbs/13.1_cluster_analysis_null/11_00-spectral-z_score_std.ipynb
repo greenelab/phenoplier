{
 "cells": [
  {
   "cell_type": "markdown",
   "metadata": {
    "papermill": {
     "duration": 0.058452,
     "end_time": "2021-03-10T00:35:01.068180",
     "exception": false,
     "start_time": "2021-03-10T00:35:01.009728",
     "status": "completed"
    },
    "tags": []
   },
   "source": [
    "# Description"
   ]
  },
  {
   "cell_type": "markdown",
   "metadata": {
    "papermill": {
     "duration": 0.022359,
     "end_time": "2021-03-10T00:35:01.113186",
     "exception": false,
     "start_time": "2021-03-10T00:35:01.090827",
     "status": "completed"
    },
    "tags": []
   },
   "source": [
    "Runs spectral clustering on the z_score_std version of the data."
   ]
  },
  {
   "cell_type": "markdown",
   "metadata": {
    "papermill": {
     "duration": 0.022317,
     "end_time": "2021-03-10T00:35:01.158234",
     "exception": false,
     "start_time": "2021-03-10T00:35:01.135917",
     "status": "completed"
    },
    "tags": []
   },
   "source": [
    "# Environment variables"
   ]
  },
  {
   "cell_type": "code",
   "execution_count": null,
   "metadata": {
    "papermill": {
     "duration": 0.038255,
     "end_time": "2021-03-10T00:35:01.219012",
     "exception": false,
     "start_time": "2021-03-10T00:35:01.180757",
     "status": "completed"
    },
    "tags": []
   },
   "outputs": [],
   "source": [
    "from IPython.display import display\n",
    "\n",
    "import conf\n",
    "\n",
    "N_JOBS = conf.GENERAL[\"N_JOBS\"]\n",
    "display(N_JOBS)"
   ]
  },
  {
   "cell_type": "code",
   "execution_count": null,
   "metadata": {
    "papermill": {
     "duration": 0.029663,
     "end_time": "2021-03-10T00:35:01.272975",
     "exception": false,
     "start_time": "2021-03-10T00:35:01.243312",
     "status": "completed"
    },
    "tags": []
   },
   "outputs": [],
   "source": [
    "%env MKL_NUM_THREADS=$N_JOBS\n",
    "%env OPEN_BLAS_NUM_THREADS=$N_JOBS\n",
    "%env NUMEXPR_NUM_THREADS=$N_JOBS\n",
    "%env OMP_NUM_THREADS=$N_JOBS"
   ]
  },
  {
   "cell_type": "markdown",
   "metadata": {
    "papermill": {
     "duration": 0.023077,
     "end_time": "2021-03-10T00:35:01.319423",
     "exception": false,
     "start_time": "2021-03-10T00:35:01.296346",
     "status": "completed"
    },
    "tags": []
   },
   "source": [
    "# Modules loading"
   ]
  },
  {
   "cell_type": "code",
   "execution_count": null,
   "metadata": {
    "papermill": {
     "duration": 0.033021,
     "end_time": "2021-03-10T00:35:01.375806",
     "exception": false,
     "start_time": "2021-03-10T00:35:01.342785",
     "status": "completed"
    },
    "tags": []
   },
   "outputs": [],
   "source": [
    "%load_ext autoreload\n",
    "%autoreload 2"
   ]
  },
  {
   "cell_type": "code",
   "execution_count": null,
   "metadata": {
    "papermill": {
     "duration": 0.613387,
     "end_time": "2021-03-10T00:35:02.012875",
     "exception": false,
     "start_time": "2021-03-10T00:35:01.399488",
     "status": "completed"
    },
    "tags": []
   },
   "outputs": [],
   "source": [
    "from pathlib import Path\n",
    "\n",
    "import numpy as np\n",
    "import pandas as pd\n",
    "import matplotlib.pyplot as plt\n",
    "import seaborn as sns\n",
    "\n",
    "from utils import generate_result_set_name"
   ]
  },
  {
   "cell_type": "markdown",
   "metadata": {
    "papermill": {
     "duration": 0.024089,
     "end_time": "2021-03-10T00:35:02.065769",
     "exception": false,
     "start_time": "2021-03-10T00:35:02.041680",
     "status": "completed"
    },
    "tags": []
   },
   "source": [
    "# Settings"
   ]
  },
  {
   "cell_type": "code",
   "execution_count": null,
   "metadata": {
    "papermill": {
     "duration": 0.035489,
     "end_time": "2021-03-10T00:35:02.124098",
     "exception": false,
     "start_time": "2021-03-10T00:35:02.088609",
     "status": "completed"
    },
    "tags": []
   },
   "outputs": [],
   "source": [
    "np.random.seed(0)"
   ]
  },
  {
   "cell_type": "code",
   "execution_count": null,
   "metadata": {
    "papermill": {
     "duration": 0.034865,
     "end_time": "2021-03-10T00:35:02.183647",
     "exception": false,
     "start_time": "2021-03-10T00:35:02.148782",
     "status": "completed"
    },
    "tags": []
   },
   "outputs": [],
   "source": [
    "INITIAL_RANDOM_STATE = 30000"
   ]
  },
  {
   "cell_type": "markdown",
   "metadata": {
    "papermill": {
     "duration": 0.02336,
     "end_time": "2021-03-10T00:35:02.230358",
     "exception": false,
     "start_time": "2021-03-10T00:35:02.206998",
     "status": "completed"
    },
    "tags": []
   },
   "source": [
    "## Input data"
   ]
  },
  {
   "cell_type": "code",
   "execution_count": null,
   "metadata": {
    "papermill": {
     "duration": 0.034908,
     "end_time": "2021-03-10T00:35:02.289403",
     "exception": false,
     "start_time": "2021-03-10T00:35:02.254495",
     "status": "completed"
    },
    "tags": []
   },
   "outputs": [],
   "source": [
    "INPUT_SUBSET = \"z_score_std\""
   ]
  },
  {
   "cell_type": "code",
   "execution_count": null,
   "metadata": {
    "papermill": {
     "duration": 0.034903,
     "end_time": "2021-03-10T00:35:02.348122",
     "exception": false,
     "start_time": "2021-03-10T00:35:02.313219",
     "status": "completed"
    },
    "tags": []
   },
   "outputs": [],
   "source": [
    "INPUT_STEM = \"projection-smultixcan-efo_partial-mashr-zscores\""
   ]
  },
  {
   "cell_type": "code",
   "execution_count": null,
   "metadata": {
    "papermill": {
     "duration": 0.036651,
     "end_time": "2021-03-10T00:35:02.408646",
     "exception": false,
     "start_time": "2021-03-10T00:35:02.371995",
     "status": "completed"
    },
    "tags": []
   },
   "outputs": [],
   "source": [
    "input_filepath = Path(\n",
    "    conf.RESULTS[\"CLUSTERING_NULL_DIR\"],\n",
    "    \"data_transformations\",\n",
    "    INPUT_SUBSET,\n",
    "    f\"{INPUT_SUBSET}-{INPUT_STEM}.pkl\",\n",
    ").resolve()\n",
    "display(input_filepath)\n",
    "\n",
    "assert input_filepath.exists(), \"Input file does not exist\"\n",
    "\n",
    "input_filepath_stem = input_filepath.stem\n",
    "display(input_filepath_stem)"
   ]
  },
  {
   "cell_type": "markdown",
   "metadata": {
    "papermill": {
     "duration": 0.023296,
     "end_time": "2021-03-10T00:35:02.456813",
     "exception": false,
     "start_time": "2021-03-10T00:35:02.433517",
     "status": "completed"
    },
    "tags": []
   },
   "source": [
    "## Clustering"
   ]
  },
  {
   "cell_type": "code",
   "execution_count": null,
   "metadata": {
    "papermill": {
     "duration": 0.157462,
     "end_time": "2021-03-10T00:35:02.637650",
     "exception": false,
     "start_time": "2021-03-10T00:35:02.480188",
     "status": "completed"
    },
    "tags": []
   },
   "outputs": [],
   "source": [
    "from sklearn.cluster import SpectralClustering"
   ]
  },
  {
   "cell_type": "code",
   "execution_count": null,
   "metadata": {
    "papermill": {
     "duration": 0.036674,
     "end_time": "2021-03-10T00:35:02.698856",
     "exception": false,
     "start_time": "2021-03-10T00:35:02.662182",
     "status": "completed"
    },
    "tags": []
   },
   "outputs": [],
   "source": [
    "CLUSTERING_ATTRIBUTES_TO_SAVE = [\"n_clusters\"]"
   ]
  },
  {
   "cell_type": "code",
   "execution_count": null,
   "metadata": {
    "papermill": {
     "duration": 0.038294,
     "end_time": "2021-03-10T00:35:02.761775",
     "exception": false,
     "start_time": "2021-03-10T00:35:02.723481",
     "status": "completed"
    },
    "tags": []
   },
   "outputs": [],
   "source": [
    "CLUSTERING_OPTIONS = {}\n",
    "\n",
    "CLUSTERING_OPTIONS[\"K_MIN\"] = 2\n",
    "CLUSTERING_OPTIONS[\"K_MAX\"] = 60  # sqrt(3749)\n",
    "CLUSTERING_OPTIONS[\"N_REPS_PER_K\"] = 5\n",
    "CLUSTERING_OPTIONS[\"KMEANS_N_INIT\"] = 10\n",
    "CLUSTERING_OPTIONS[\"GAMMA\"] = 1.0e-03\n",
    "CLUSTERING_OPTIONS[\"AFFINITY\"] = \"rbf\"\n",
    "\n",
    "display(CLUSTERING_OPTIONS)"
   ]
  },
  {
   "cell_type": "code",
   "execution_count": null,
   "metadata": {
    "papermill": {
     "duration": 0.038451,
     "end_time": "2021-03-10T00:35:02.825353",
     "exception": false,
     "start_time": "2021-03-10T00:35:02.786902",
     "status": "completed"
    },
    "tags": []
   },
   "outputs": [],
   "source": [
    "CLUSTERERS = {}\n",
    "\n",
    "idx = 0\n",
    "random_state = INITIAL_RANDOM_STATE\n",
    "\n",
    "for k in range(CLUSTERING_OPTIONS[\"K_MIN\"], CLUSTERING_OPTIONS[\"K_MAX\"] + 1):\n",
    "    for i in range(CLUSTERING_OPTIONS[\"N_REPS_PER_K\"]):\n",
    "        clus = SpectralClustering(\n",
    "            eigen_solver=\"arpack\",\n",
    "            n_clusters=k,\n",
    "            n_init=CLUSTERING_OPTIONS[\"KMEANS_N_INIT\"],\n",
    "            affinity=CLUSTERING_OPTIONS[\"AFFINITY\"],\n",
    "            gamma=CLUSTERING_OPTIONS[\"GAMMA\"],\n",
    "            random_state=random_state,\n",
    "        )\n",
    "\n",
    "        method_name = type(clus).__name__\n",
    "        CLUSTERERS[f\"{method_name} #{idx}\"] = clus\n",
    "\n",
    "        random_state = random_state + 1\n",
    "        idx = idx + 1"
   ]
  },
  {
   "cell_type": "code",
   "execution_count": null,
   "metadata": {
    "papermill": {
     "duration": 0.037366,
     "end_time": "2021-03-10T00:35:02.887591",
     "exception": false,
     "start_time": "2021-03-10T00:35:02.850225",
     "status": "completed"
    },
    "tags": []
   },
   "outputs": [],
   "source": [
    "display(len(CLUSTERERS))"
   ]
  },
  {
   "cell_type": "code",
   "execution_count": null,
   "metadata": {
    "papermill": {
     "duration": 0.039671,
     "end_time": "2021-03-10T00:35:02.951967",
     "exception": false,
     "start_time": "2021-03-10T00:35:02.912296",
     "status": "completed"
    },
    "tags": []
   },
   "outputs": [],
   "source": [
    "_iter = iter(CLUSTERERS.items())\n",
    "display(next(_iter))\n",
    "display(next(_iter))"
   ]
  },
  {
   "cell_type": "code",
   "execution_count": null,
   "metadata": {
    "papermill": {
     "duration": 0.037634,
     "end_time": "2021-03-10T00:35:03.014710",
     "exception": false,
     "start_time": "2021-03-10T00:35:02.977076",
     "status": "completed"
    },
    "tags": []
   },
   "outputs": [],
   "source": [
    "clustering_method_name = method_name\n",
    "display(clustering_method_name)"
   ]
  },
  {
   "cell_type": "markdown",
   "metadata": {
    "papermill": {
     "duration": 0.024447,
     "end_time": "2021-03-10T00:35:03.064177",
     "exception": false,
     "start_time": "2021-03-10T00:35:03.039730",
     "status": "completed"
    },
    "tags": []
   },
   "source": [
    "## Output directory"
   ]
  },
  {
   "cell_type": "code",
   "execution_count": null,
   "metadata": {
    "papermill": {
     "duration": 0.038762,
     "end_time": "2021-03-10T00:35:03.127674",
     "exception": false,
     "start_time": "2021-03-10T00:35:03.088912",
     "status": "completed"
    },
    "tags": []
   },
   "outputs": [],
   "source": [
    "# output dir for this notebook\n",
    "RESULTS_DIR = Path(\n",
    "    conf.RESULTS[\"CLUSTERING_NULL_DIR\"],\n",
    "    \"runs\",\n",
    "    f\"{INPUT_SUBSET}-{INPUT_STEM}\",\n",
    ").resolve()\n",
    "RESULTS_DIR.mkdir(parents=True, exist_ok=True)\n",
    "\n",
    "display(RESULTS_DIR)"
   ]
  },
  {
   "cell_type": "markdown",
   "metadata": {
    "papermill": {
     "duration": 0.024717,
     "end_time": "2021-03-10T00:35:03.177920",
     "exception": false,
     "start_time": "2021-03-10T00:35:03.153203",
     "status": "completed"
    },
    "tags": []
   },
   "source": [
    "# Load input file"
   ]
  },
  {
   "cell_type": "code",
   "execution_count": null,
   "metadata": {
    "papermill": {
     "duration": 0.051649,
     "end_time": "2021-03-10T00:35:03.254665",
     "exception": false,
     "start_time": "2021-03-10T00:35:03.203016",
     "status": "completed"
    },
    "tags": []
   },
   "outputs": [],
   "source": [
    "data = pd.read_pickle(input_filepath)"
   ]
  },
  {
   "cell_type": "code",
   "execution_count": null,
   "metadata": {
    "papermill": {
     "duration": 0.038349,
     "end_time": "2021-03-10T00:35:03.322378",
     "exception": false,
     "start_time": "2021-03-10T00:35:03.284029",
     "status": "completed"
    },
    "tags": []
   },
   "outputs": [],
   "source": [
    "data.shape"
   ]
  },
  {
   "cell_type": "code",
   "execution_count": null,
   "metadata": {
    "papermill": {
     "duration": 0.051345,
     "end_time": "2021-03-10T00:35:03.399937",
     "exception": false,
     "start_time": "2021-03-10T00:35:03.348592",
     "status": "completed"
    },
    "tags": []
   },
   "outputs": [],
   "source": [
    "data.head()"
   ]
  },
  {
   "cell_type": "code",
   "execution_count": null,
   "metadata": {
    "papermill": {
     "duration": 0.042973,
     "end_time": "2021-03-10T00:35:03.469487",
     "exception": false,
     "start_time": "2021-03-10T00:35:03.426514",
     "status": "completed"
    },
    "tags": []
   },
   "outputs": [],
   "source": [
    "assert not data.isna().any().any()"
   ]
  },
  {
   "cell_type": "markdown",
   "metadata": {
    "papermill": {
     "duration": 0.025547,
     "end_time": "2021-03-10T00:35:03.521433",
     "exception": false,
     "start_time": "2021-03-10T00:35:03.495886",
     "status": "completed"
    },
    "tags": []
   },
   "source": [
    "# Clustering"
   ]
  },
  {
   "cell_type": "markdown",
   "metadata": {
    "papermill": {
     "duration": 0.026601,
     "end_time": "2021-03-10T00:35:03.573521",
     "exception": false,
     "start_time": "2021-03-10T00:35:03.546920",
     "status": "completed"
    },
    "tags": []
   },
   "source": [
    "## Generate ensemble"
   ]
  },
  {
   "cell_type": "code",
   "execution_count": null,
   "metadata": {
    "papermill": {
     "duration": 0.041006,
     "end_time": "2021-03-10T00:35:03.642119",
     "exception": false,
     "start_time": "2021-03-10T00:35:03.601113",
     "status": "completed"
    },
    "tags": []
   },
   "outputs": [],
   "source": [
    "from clustering.ensembles.utils import generate_ensemble"
   ]
  },
  {
   "cell_type": "code",
   "execution_count": null,
   "metadata": {
    "papermill": {
     "duration": 883.839217,
     "end_time": "2021-03-10T00:49:47.507475",
     "exception": false,
     "start_time": "2021-03-10T00:35:03.668258",
     "status": "completed"
    },
    "tags": []
   },
   "outputs": [],
   "source": [
    "ensemble = generate_ensemble(\n",
    "    data,\n",
    "    CLUSTERERS,\n",
    "    attributes=CLUSTERING_ATTRIBUTES_TO_SAVE,\n",
    ")"
   ]
  },
  {
   "cell_type": "code",
   "execution_count": null,
   "metadata": {
    "papermill": {
     "duration": 0.084337,
     "end_time": "2021-03-10T00:49:47.663201",
     "exception": false,
     "start_time": "2021-03-10T00:49:47.578864",
     "status": "completed"
    },
    "tags": []
   },
   "outputs": [],
   "source": [
    "# the number should be close to 295 (the number of partitions generated by k-means/spectral clustering)\n",
    "ensemble.shape"
   ]
  },
  {
   "cell_type": "code",
   "execution_count": null,
   "metadata": {
    "papermill": {
     "duration": 0.093202,
     "end_time": "2021-03-10T00:49:47.828913",
     "exception": false,
     "start_time": "2021-03-10T00:49:47.735711",
     "status": "completed"
    },
    "tags": []
   },
   "outputs": [],
   "source": [
    "ensemble.head()"
   ]
  },
  {
   "cell_type": "code",
   "execution_count": null,
   "metadata": {
    "papermill": {
     "duration": 0.087006,
     "end_time": "2021-03-10T00:49:47.988430",
     "exception": false,
     "start_time": "2021-03-10T00:49:47.901424",
     "status": "completed"
    },
    "tags": []
   },
   "outputs": [],
   "source": [
    "ensemble[\"n_clusters\"].value_counts().head()"
   ]
  },
  {
   "cell_type": "code",
   "execution_count": null,
   "metadata": {
    "papermill": {
     "duration": 0.08793,
     "end_time": "2021-03-10T00:49:48.147774",
     "exception": false,
     "start_time": "2021-03-10T00:49:48.059844",
     "status": "completed"
    },
    "tags": []
   },
   "outputs": [],
   "source": [
    "ensemble_stats = ensemble[\"n_clusters\"].describe()\n",
    "display(ensemble_stats)"
   ]
  },
  {
   "cell_type": "markdown",
   "metadata": {
    "papermill": {
     "duration": 0.074714,
     "end_time": "2021-03-10T00:49:48.295484",
     "exception": false,
     "start_time": "2021-03-10T00:49:48.220770",
     "status": "completed"
    },
    "tags": []
   },
   "source": [
    "## Testing"
   ]
  },
  {
   "cell_type": "code",
   "execution_count": null,
   "metadata": {
    "papermill": {
     "duration": 0.084787,
     "end_time": "2021-03-10T00:49:48.452410",
     "exception": false,
     "start_time": "2021-03-10T00:49:48.367623",
     "status": "completed"
    },
    "tags": []
   },
   "outputs": [],
   "source": [
    "assert ensemble_stats[\"min\"] > 1"
   ]
  },
  {
   "cell_type": "code",
   "execution_count": null,
   "metadata": {
    "papermill": {
     "duration": 0.084004,
     "end_time": "2021-03-10T00:49:48.608274",
     "exception": false,
     "start_time": "2021-03-10T00:49:48.524270",
     "status": "completed"
    },
    "tags": []
   },
   "outputs": [],
   "source": [
    "assert not ensemble[\"n_clusters\"].isna().any()"
   ]
  },
  {
   "cell_type": "code",
   "execution_count": null,
   "metadata": {
    "papermill": {
     "duration": 0.085839,
     "end_time": "2021-03-10T00:49:48.766310",
     "exception": false,
     "start_time": "2021-03-10T00:49:48.680471",
     "status": "completed"
    },
    "tags": []
   },
   "outputs": [],
   "source": [
    "assert ensemble.shape[0] == len(CLUSTERERS)"
   ]
  },
  {
   "cell_type": "code",
   "execution_count": null,
   "metadata": {
    "papermill": {
     "duration": 0.101412,
     "end_time": "2021-03-10T00:49:48.940352",
     "exception": false,
     "start_time": "2021-03-10T00:49:48.838940",
     "status": "completed"
    },
    "tags": []
   },
   "outputs": [],
   "source": [
    "# all partitions have the right size\n",
    "assert np.all(\n",
    "    [part[\"partition\"].shape[0] == data.shape[0] for idx, part in ensemble.iterrows()]\n",
    ")"
   ]
  },
  {
   "cell_type": "code",
   "execution_count": null,
   "metadata": {
    "papermill": {
     "duration": 0.104949,
     "end_time": "2021-03-10T00:49:49.119220",
     "exception": false,
     "start_time": "2021-03-10T00:49:49.014271",
     "status": "completed"
    },
    "tags": []
   },
   "outputs": [],
   "source": [
    "# no partition has negative clusters (noisy points)\n",
    "assert not np.any([(part[\"partition\"] < 0).any() for idx, part in ensemble.iterrows()])"
   ]
  },
  {
   "cell_type": "markdown",
   "metadata": {
    "papermill": {
     "duration": 0.071282,
     "end_time": "2021-03-10T00:49:49.262716",
     "exception": false,
     "start_time": "2021-03-10T00:49:49.191434",
     "status": "completed"
    },
    "tags": []
   },
   "source": [
    "## Add clustering quality measures"
   ]
  },
  {
   "cell_type": "code",
   "execution_count": null,
   "metadata": {
    "papermill": {
     "duration": 0.084384,
     "end_time": "2021-03-10T00:49:49.419272",
     "exception": false,
     "start_time": "2021-03-10T00:49:49.334888",
     "status": "completed"
    },
    "tags": []
   },
   "outputs": [],
   "source": [
    "from sklearn.metrics import calinski_harabasz_score"
   ]
  },
  {
   "cell_type": "code",
   "execution_count": null,
   "metadata": {
    "papermill": {
     "duration": 11.634281,
     "end_time": "2021-03-10T00:50:01.126692",
     "exception": false,
     "start_time": "2021-03-10T00:49:49.492411",
     "status": "completed"
    },
    "tags": []
   },
   "outputs": [],
   "source": [
    "ensemble = ensemble.assign(\n",
    "    ch_score=ensemble[\"partition\"].apply(lambda x: calinski_harabasz_score(data, x))\n",
    ")"
   ]
  },
  {
   "cell_type": "code",
   "execution_count": null,
   "metadata": {
    "papermill": {
     "duration": 0.085214,
     "end_time": "2021-03-10T00:50:01.298375",
     "exception": false,
     "start_time": "2021-03-10T00:50:01.213161",
     "status": "completed"
    },
    "tags": []
   },
   "outputs": [],
   "source": [
    "ensemble.shape"
   ]
  },
  {
   "cell_type": "code",
   "execution_count": null,
   "metadata": {
    "papermill": {
     "duration": 0.093637,
     "end_time": "2021-03-10T00:50:01.465072",
     "exception": false,
     "start_time": "2021-03-10T00:50:01.371435",
     "status": "completed"
    },
    "tags": []
   },
   "outputs": [],
   "source": [
    "ensemble.head()"
   ]
  },
  {
   "cell_type": "markdown",
   "metadata": {
    "papermill": {
     "duration": 0.071835,
     "end_time": "2021-03-10T00:50:01.609268",
     "exception": false,
     "start_time": "2021-03-10T00:50:01.537433",
     "status": "completed"
    },
    "tags": []
   },
   "source": [
    "## Save"
   ]
  },
  {
   "cell_type": "code",
   "execution_count": null,
   "metadata": {
    "papermill": {
     "duration": 0.08536,
     "end_time": "2021-03-10T00:50:01.766789",
     "exception": false,
     "start_time": "2021-03-10T00:50:01.681429",
     "status": "completed"
    },
    "tags": []
   },
   "outputs": [],
   "source": [
    "output_filename = Path(\n",
    "    RESULTS_DIR,\n",
    "    generate_result_set_name(\n",
    "        CLUSTERING_OPTIONS,\n",
    "        prefix=f\"{clustering_method_name}-\",\n",
    "        suffix=\".pkl\",\n",
    "    ),\n",
    ").resolve()\n",
    "display(output_filename)"
   ]
  },
  {
   "cell_type": "code",
   "execution_count": null,
   "metadata": {
    "papermill": {
     "duration": 0.09082,
     "end_time": "2021-03-10T00:50:01.930650",
     "exception": false,
     "start_time": "2021-03-10T00:50:01.839830",
     "status": "completed"
    },
    "tags": []
   },
   "outputs": [],
   "source": [
    "ensemble.to_pickle(output_filename)"
   ]
  },
  {
   "cell_type": "markdown",
   "metadata": {
    "papermill": {
     "duration": 0.071649,
     "end_time": "2021-03-10T00:50:02.075611",
     "exception": false,
     "start_time": "2021-03-10T00:50:02.003962",
     "status": "completed"
    },
    "tags": []
   },
   "source": [
    "# Cluster quality"
   ]
  },
  {
   "cell_type": "code",
   "execution_count": null,
   "metadata": {
    "papermill": {
     "duration": 0.089783,
     "end_time": "2021-03-10T00:50:02.236682",
     "exception": false,
     "start_time": "2021-03-10T00:50:02.146899",
     "status": "completed"
    },
    "tags": []
   },
   "outputs": [],
   "source": [
    "with pd.option_context(\"display.max_rows\", None, \"display.max_columns\", None):\n",
    "    _df = ensemble.groupby([\"n_clusters\"]).mean()\n",
    "    display(_df)"
   ]
  },
  {
   "cell_type": "code",
   "execution_count": null,
   "metadata": {
    "papermill": {
     "duration": 2.855921,
     "end_time": "2021-03-10T00:50:05.165975",
     "exception": false,
     "start_time": "2021-03-10T00:50:02.310054",
     "status": "completed"
    },
    "tags": []
   },
   "outputs": [],
   "source": [
    "with sns.plotting_context(\"talk\", font_scale=0.75), sns.axes_style(\n",
    "    \"whitegrid\", {\"grid.linestyle\": \"--\"}\n",
    "):\n",
    "    fig = plt.figure(figsize=(14, 6))\n",
    "    ax = sns.pointplot(data=ensemble, x=\"n_clusters\", y=\"ch_score\")\n",
    "    ax.set_ylabel(\"Calinski-Harabasz index\")\n",
    "    ax.set_xlabel(\"Number of clusters ($k$)\")\n",
    "    ax.set_xticklabels(ax.get_xticklabels(), rotation=45)\n",
    "    plt.grid(True)\n",
    "    plt.tight_layout()"
   ]
  },
  {
   "cell_type": "markdown",
   "metadata": {
    "papermill": {
     "duration": 0.074563,
     "end_time": "2021-03-10T00:50:05.315937",
     "exception": false,
     "start_time": "2021-03-10T00:50:05.241374",
     "status": "completed"
    },
    "tags": []
   },
   "source": [
    "# Stability"
   ]
  },
  {
   "cell_type": "markdown",
   "metadata": {
    "papermill": {
     "duration": 0.075287,
     "end_time": "2021-03-10T00:50:05.465825",
     "exception": false,
     "start_time": "2021-03-10T00:50:05.390538",
     "status": "completed"
    },
    "tags": []
   },
   "source": [
    "## Group ensemble by n_clusters"
   ]
  },
  {
   "cell_type": "code",
   "execution_count": null,
   "metadata": {
    "papermill": {
     "duration": 0.102544,
     "end_time": "2021-03-10T00:50:05.642976",
     "exception": false,
     "start_time": "2021-03-10T00:50:05.540432",
     "status": "completed"
    },
    "tags": []
   },
   "outputs": [],
   "source": [
    "parts = ensemble.groupby(\"n_clusters\").apply(\n",
    "    lambda x: np.concatenate(x[\"partition\"].apply(lambda x: x.reshape(1, -1)), axis=0)\n",
    ")"
   ]
  },
  {
   "cell_type": "code",
   "execution_count": null,
   "metadata": {
    "papermill": {
     "duration": 0.099211,
     "end_time": "2021-03-10T00:50:05.816248",
     "exception": false,
     "start_time": "2021-03-10T00:50:05.717037",
     "status": "completed"
    },
    "tags": []
   },
   "outputs": [],
   "source": [
    "parts.head()"
   ]
  },
  {
   "cell_type": "code",
   "execution_count": null,
   "metadata": {
    "papermill": {
     "duration": 0.087687,
     "end_time": "2021-03-10T00:50:05.978612",
     "exception": false,
     "start_time": "2021-03-10T00:50:05.890925",
     "status": "completed"
    },
    "tags": []
   },
   "outputs": [],
   "source": [
    "assert np.all(\n",
    "    [\n",
    "        parts.loc[k].shape == (CLUSTERING_OPTIONS[\"N_REPS_PER_K\"], data.shape[0])\n",
    "        for k in parts.index\n",
    "    ]\n",
    ")"
   ]
  },
  {
   "cell_type": "markdown",
   "metadata": {
    "papermill": {
     "duration": 0.074758,
     "end_time": "2021-03-10T00:50:06.128463",
     "exception": false,
     "start_time": "2021-03-10T00:50:06.053705",
     "status": "completed"
    },
    "tags": []
   },
   "source": [
    "## Compute stability"
   ]
  },
  {
   "cell_type": "code",
   "execution_count": null,
   "metadata": {
    "papermill": {
     "duration": 0.087692,
     "end_time": "2021-03-10T00:50:06.290622",
     "exception": false,
     "start_time": "2021-03-10T00:50:06.202930",
     "status": "completed"
    },
    "tags": []
   },
   "outputs": [],
   "source": [
    "from sklearn.metrics import adjusted_rand_score as ari\n",
    "from scipy.spatial.distance import pdist"
   ]
  },
  {
   "cell_type": "code",
   "execution_count": null,
   "metadata": {
    "papermill": {
     "duration": 0.730906,
     "end_time": "2021-03-10T00:50:07.095314",
     "exception": false,
     "start_time": "2021-03-10T00:50:06.364408",
     "status": "completed"
    },
    "tags": []
   },
   "outputs": [],
   "source": [
    "parts_ari = pd.Series(\n",
    "    {k: pdist(parts.loc[k], metric=ari) for k in parts.index}, name=\"k\"\n",
    ")"
   ]
  },
  {
   "cell_type": "code",
   "execution_count": null,
   "metadata": {
    "papermill": {
     "duration": 0.089095,
     "end_time": "2021-03-10T00:50:07.259074",
     "exception": false,
     "start_time": "2021-03-10T00:50:07.169979",
     "status": "completed"
    },
    "tags": []
   },
   "outputs": [],
   "source": [
    "parts_ari_stability = parts_ari.apply(lambda x: x.mean())\n",
    "display(parts_ari_stability.sort_values(ascending=False).head(15))"
   ]
  },
  {
   "cell_type": "code",
   "execution_count": null,
   "metadata": {
    "papermill": {
     "duration": 0.088065,
     "end_time": "2021-03-10T00:50:07.423097",
     "exception": false,
     "start_time": "2021-03-10T00:50:07.335032",
     "status": "completed"
    },
    "tags": []
   },
   "outputs": [],
   "source": [
    "parts_ari_df = pd.DataFrame.from_records(parts_ari.tolist()).set_index(\n",
    "    parts_ari.index.copy()\n",
    ")"
   ]
  },
  {
   "cell_type": "code",
   "execution_count": null,
   "metadata": {
    "papermill": {
     "duration": 0.087775,
     "end_time": "2021-03-10T00:50:07.586713",
     "exception": false,
     "start_time": "2021-03-10T00:50:07.498938",
     "status": "completed"
    },
    "tags": []
   },
   "outputs": [],
   "source": [
    "parts_ari_df.shape"
   ]
  },
  {
   "cell_type": "code",
   "execution_count": null,
   "metadata": {
    "papermill": {
     "duration": 0.088447,
     "end_time": "2021-03-10T00:50:07.751040",
     "exception": false,
     "start_time": "2021-03-10T00:50:07.662593",
     "status": "completed"
    },
    "tags": []
   },
   "outputs": [],
   "source": [
    "assert (\n",
    "    int(\n",
    "        (CLUSTERING_OPTIONS[\"N_REPS_PER_K\"] * (CLUSTERING_OPTIONS[\"N_REPS_PER_K\"] - 1))\n",
    "        / 2\n",
    "    )\n",
    "    == parts_ari_df.shape[1]\n",
    ")"
   ]
  },
  {
   "cell_type": "code",
   "execution_count": null,
   "metadata": {
    "papermill": {
     "duration": 0.093633,
     "end_time": "2021-03-10T00:50:07.921140",
     "exception": false,
     "start_time": "2021-03-10T00:50:07.827507",
     "status": "completed"
    },
    "tags": []
   },
   "outputs": [],
   "source": [
    "parts_ari_df.head()"
   ]
  },
  {
   "cell_type": "markdown",
   "metadata": {
    "papermill": {
     "duration": 0.074531,
     "end_time": "2021-03-10T00:50:08.071130",
     "exception": false,
     "start_time": "2021-03-10T00:50:07.996599",
     "status": "completed"
    },
    "tags": []
   },
   "source": [
    "## Save"
   ]
  },
  {
   "cell_type": "code",
   "execution_count": null,
   "metadata": {
    "papermill": {
     "duration": 0.088551,
     "end_time": "2021-03-10T00:50:08.234173",
     "exception": false,
     "start_time": "2021-03-10T00:50:08.145622",
     "status": "completed"
    },
    "tags": []
   },
   "outputs": [],
   "source": [
    "output_filename = Path(\n",
    "    RESULTS_DIR,\n",
    "    generate_result_set_name(\n",
    "        CLUSTERING_OPTIONS,\n",
    "        prefix=f\"{clustering_method_name}-stability-\",\n",
    "        suffix=\".pkl\",\n",
    "    ),\n",
    ").resolve()\n",
    "display(output_filename)"
   ]
  },
  {
   "cell_type": "code",
   "execution_count": null,
   "metadata": {
    "papermill": {
     "duration": 0.08772,
     "end_time": "2021-03-10T00:50:08.397404",
     "exception": false,
     "start_time": "2021-03-10T00:50:08.309684",
     "status": "completed"
    },
    "tags": []
   },
   "outputs": [],
   "source": [
    "parts_ari_df.to_pickle(output_filename)"
   ]
  },
  {
   "cell_type": "markdown",
   "metadata": {
    "papermill": {
     "duration": 0.07579,
     "end_time": "2021-03-10T00:50:08.549760",
     "exception": false,
     "start_time": "2021-03-10T00:50:08.473970",
     "status": "completed"
    },
    "tags": []
   },
   "source": [
    "## Stability plot"
   ]
  },
  {
   "cell_type": "code",
   "execution_count": null,
   "metadata": {
    "papermill": {
     "duration": 0.090147,
     "end_time": "2021-03-10T00:50:08.715406",
     "exception": false,
     "start_time": "2021-03-10T00:50:08.625259",
     "status": "completed"
    },
    "tags": []
   },
   "outputs": [],
   "source": [
    "parts_ari_df_plot = (\n",
    "    parts_ari_df.stack()\n",
    "    .reset_index()\n",
    "    .rename(columns={\"level_0\": \"k\", \"level_1\": \"idx\", 0: \"ari\"})\n",
    ")"
   ]
  },
  {
   "cell_type": "code",
   "execution_count": null,
   "metadata": {
    "papermill": {
     "duration": 0.090072,
     "end_time": "2021-03-10T00:50:08.882441",
     "exception": false,
     "start_time": "2021-03-10T00:50:08.792369",
     "status": "completed"
    },
    "tags": []
   },
   "outputs": [],
   "source": [
    "parts_ari_df_plot.dtypes"
   ]
  },
  {
   "cell_type": "code",
   "execution_count": null,
   "metadata": {
    "papermill": {
     "duration": 0.091142,
     "end_time": "2021-03-10T00:50:09.048225",
     "exception": false,
     "start_time": "2021-03-10T00:50:08.957083",
     "status": "completed"
    },
    "tags": []
   },
   "outputs": [],
   "source": [
    "parts_ari_df_plot.head()"
   ]
  },
  {
   "cell_type": "code",
   "execution_count": null,
   "metadata": {
    "papermill": {
     "duration": 2.61383,
     "end_time": "2021-03-10T00:50:11.738168",
     "exception": false,
     "start_time": "2021-03-10T00:50:09.124338",
     "status": "completed"
    },
    "tags": []
   },
   "outputs": [],
   "source": [
    "# with sns.axes_style('whitegrid', {'grid.linestyle': '--'}):\n",
    "with sns.plotting_context(\"talk\", font_scale=0.75), sns.axes_style(\n",
    "    \"whitegrid\", {\"grid.linestyle\": \"--\"}\n",
    "):\n",
    "    fig = plt.figure(figsize=(14, 6))\n",
    "    ax = sns.pointplot(data=parts_ari_df_plot, x=\"k\", y=\"ari\")\n",
    "    ax.set_ylabel(\"Averange ARI\")\n",
    "    ax.set_xlabel(\"Number of clusters ($k$)\")\n",
    "    ax.set_xticklabels(ax.get_xticklabels(), rotation=45)\n",
    "    #     ax.set_ylim(0.0, 1.0)\n",
    "    #     ax.set_xlim(CLUSTERING_OPTIONS['K_MIN'], CLUSTERING_OPTIONS['K_MAX'])\n",
    "    plt.grid(True)\n",
    "    plt.tight_layout()"
   ]
  },
  {
   "cell_type": "code",
   "execution_count": null,
   "metadata": {
    "papermill": {
     "duration": 0.078613,
     "end_time": "2021-03-10T00:50:11.896383",
     "exception": false,
     "start_time": "2021-03-10T00:50:11.817770",
     "status": "completed"
    },
    "tags": []
   },
   "outputs": [],
   "source": []
  }
 ],
 "metadata": {
  "jupytext": {
   "cell_metadata_filter": "all,-execution,-papermill,-trusted",
   "formats": "ipynb,py//py:percent"
  },
  "kernelspec": {
   "display_name": "Python 3 (ipykernel)",
   "language": "python",
   "name": "python3"
  },
  "language_info": {
   "codemirror_mode": {
    "name": "ipython",
    "version": 3
   },
   "file_extension": ".py",
   "mimetype": "text/x-python",
   "name": "python",
   "nbconvert_exporter": "python",
   "pygments_lexer": "ipython3",
   "version": "3.8.13"
  },
  "papermill": {
   "default_parameters": {},
   "duration": 912.348291,
   "end_time": "2021-03-10T00:50:12.381069",
   "environment_variables": {},
   "exception": null,
   "input_path": "15_cluster_analysis/001_00-spectral-z_score_std.ipynb",
   "output_path": "15_cluster_analysis/001_00-spectral-z_score_std.run.ipynb",
   "parameters": {},
   "start_time": "2021-03-10T00:35:00.032778",
   "version": "2.2.2"
  },
  "toc-autonumbering": true,
  "toc-showcode": false,
  "toc-showmarkdowntxt": false,
  "toc-showtags": false
 },
 "nbformat": 4,
 "nbformat_minor": 4
}
