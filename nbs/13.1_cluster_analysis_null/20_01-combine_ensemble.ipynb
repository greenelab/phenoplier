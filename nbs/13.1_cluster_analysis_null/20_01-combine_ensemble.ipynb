{
 "cells": [
  {
   "cell_type": "markdown",
   "id": "06dc1753",
   "metadata": {
    "papermill": {
     "duration": 0.018473,
     "end_time": "2022-09-13T04:19:34.005712",
     "exception": false,
     "start_time": "2022-09-13T04:19:33.987239",
     "status": "completed"
    },
    "tags": []
   },
   "source": [
    "# Description"
   ]
  },
  {
   "cell_type": "markdown",
   "id": "10381e29",
   "metadata": {
    "papermill": {
     "duration": 0.008349,
     "end_time": "2022-09-13T04:19:34.028178",
     "exception": false,
     "start_time": "2022-09-13T04:19:34.019829",
     "status": "completed"
    },
    "tags": []
   },
   "source": [
    "It combines all clustering solutions generated into a single consolidated solution using consensus clustering."
   ]
  },
  {
   "cell_type": "markdown",
   "id": "e2d2fd52",
   "metadata": {
    "papermill": {
     "duration": 0.004786,
     "end_time": "2022-09-13T04:19:34.038781",
     "exception": false,
     "start_time": "2022-09-13T04:19:34.033995",
     "status": "completed"
    },
    "tags": []
   },
   "source": [
    "# Environment variables"
   ]
  },
  {
   "cell_type": "code",
   "execution_count": 1,
   "id": "d87128e1",
   "metadata": {
    "execution": {
     "iopub.execute_input": "2022-09-13T04:19:34.048998Z",
     "iopub.status.busy": "2022-09-13T04:19:34.048804Z",
     "iopub.status.idle": "2022-09-13T04:19:34.059601Z",
     "shell.execute_reply": "2022-09-13T04:19:34.059125Z"
    },
    "papermill": {
     "duration": 0.017874,
     "end_time": "2022-09-13T04:19:34.060906",
     "exception": false,
     "start_time": "2022-09-13T04:19:34.043032",
     "status": "completed"
    },
    "tags": []
   },
   "outputs": [
    {
     "data": {
      "text/plain": [
       "1"
      ]
     },
     "metadata": {},
     "output_type": "display_data"
    }
   ],
   "source": [
    "from IPython.display import display\n",
    "\n",
    "# set numpy n_jobs to 1, since I'll be using n_jobs later\n",
    "NUMPY_N_JOBS = 1\n",
    "display(NUMPY_N_JOBS)"
   ]
  },
  {
   "cell_type": "code",
   "execution_count": 2,
   "id": "89b4a7d2",
   "metadata": {
    "execution": {
     "iopub.execute_input": "2022-09-13T04:19:34.069388Z",
     "iopub.status.busy": "2022-09-13T04:19:34.069209Z",
     "iopub.status.idle": "2022-09-13T04:19:34.074428Z",
     "shell.execute_reply": "2022-09-13T04:19:34.073763Z"
    },
    "papermill": {
     "duration": 0.010923,
     "end_time": "2022-09-13T04:19:34.075745",
     "exception": false,
     "start_time": "2022-09-13T04:19:34.064822",
     "status": "completed"
    },
    "tags": []
   },
   "outputs": [
    {
     "name": "stdout",
     "output_type": "stream",
     "text": [
      "env: MKL_NUM_THREADS=1\n",
      "env: OPEN_BLAS_NUM_THREADS=1\n",
      "env: NUMEXPR_NUM_THREADS=1\n",
      "env: OMP_NUM_THREADS=1\n"
     ]
    }
   ],
   "source": [
    "%env MKL_NUM_THREADS=$NUMPY_N_JOBS\n",
    "%env OPEN_BLAS_NUM_THREADS=$NUMPY_N_JOBS\n",
    "%env NUMEXPR_NUM_THREADS=$NUMPY_N_JOBS\n",
    "%env OMP_NUM_THREADS=$NUMPY_N_JOBS"
   ]
  },
  {
   "cell_type": "markdown",
   "id": "96bc4080",
   "metadata": {
    "papermill": {
     "duration": 0.003598,
     "end_time": "2022-09-13T04:19:34.083304",
     "exception": false,
     "start_time": "2022-09-13T04:19:34.079706",
     "status": "completed"
    },
    "tags": []
   },
   "source": [
    "# Modules loading"
   ]
  },
  {
   "cell_type": "code",
   "execution_count": 3,
   "id": "184d030c",
   "metadata": {
    "execution": {
     "iopub.execute_input": "2022-09-13T04:19:34.091979Z",
     "iopub.status.busy": "2022-09-13T04:19:34.091643Z",
     "iopub.status.idle": "2022-09-13T04:19:34.104379Z",
     "shell.execute_reply": "2022-09-13T04:19:34.103917Z"
    },
    "papermill": {
     "duration": 0.018778,
     "end_time": "2022-09-13T04:19:34.105739",
     "exception": false,
     "start_time": "2022-09-13T04:19:34.086961",
     "status": "completed"
    },
    "tags": []
   },
   "outputs": [],
   "source": [
    "%load_ext autoreload\n",
    "%autoreload 2"
   ]
  },
  {
   "cell_type": "code",
   "execution_count": 4,
   "id": "7ea55b51",
   "metadata": {
    "execution": {
     "iopub.execute_input": "2022-09-13T04:19:34.114433Z",
     "iopub.status.busy": "2022-09-13T04:19:34.114285Z",
     "iopub.status.idle": "2022-09-13T04:19:34.356836Z",
     "shell.execute_reply": "2022-09-13T04:19:34.356331Z"
    },
    "papermill": {
     "duration": 0.248544,
     "end_time": "2022-09-13T04:19:34.358306",
     "exception": false,
     "start_time": "2022-09-13T04:19:34.109762",
     "status": "completed"
    },
    "tags": []
   },
   "outputs": [],
   "source": [
    "from pathlib import Path\n",
    "\n",
    "import numpy as np\n",
    "import pandas as pd\n",
    "\n",
    "import conf"
   ]
  },
  {
   "cell_type": "markdown",
   "id": "b89d4d82",
   "metadata": {
    "papermill": {
     "duration": 0.00419,
     "end_time": "2022-09-13T04:19:34.367023",
     "exception": false,
     "start_time": "2022-09-13T04:19:34.362833",
     "status": "completed"
    },
    "tags": []
   },
   "source": [
    "# Settings"
   ]
  },
  {
   "cell_type": "code",
   "execution_count": 5,
   "id": "a79a89bf",
   "metadata": {
    "execution": {
     "iopub.execute_input": "2022-09-13T04:19:34.376256Z",
     "iopub.status.busy": "2022-09-13T04:19:34.376088Z",
     "iopub.status.idle": "2022-09-13T04:19:34.389742Z",
     "shell.execute_reply": "2022-09-13T04:19:34.389099Z"
    },
    "papermill": {
     "duration": 0.019993,
     "end_time": "2022-09-13T04:19:34.391233",
     "exception": false,
     "start_time": "2022-09-13T04:19:34.371240",
     "status": "completed"
    },
    "tags": []
   },
   "outputs": [],
   "source": [
    "np.random.seed(0)"
   ]
  },
  {
   "cell_type": "code",
   "execution_count": 6,
   "id": "724f9ee9",
   "metadata": {
    "execution": {
     "iopub.execute_input": "2022-09-13T04:19:34.400742Z",
     "iopub.status.busy": "2022-09-13T04:19:34.400577Z",
     "iopub.status.idle": "2022-09-13T04:19:34.414580Z",
     "shell.execute_reply": "2022-09-13T04:19:34.414067Z"
    },
    "papermill": {
     "duration": 0.020377,
     "end_time": "2022-09-13T04:19:34.416032",
     "exception": false,
     "start_time": "2022-09-13T04:19:34.395655",
     "status": "completed"
    },
    "tags": []
   },
   "outputs": [],
   "source": [
    "RANDOM_STATES_ITER = iter(np.random.randint(0, np.iinfo(np.int32).max, size=100000))"
   ]
  },
  {
   "cell_type": "code",
   "execution_count": 7,
   "id": "a834068b",
   "metadata": {
    "execution": {
     "iopub.execute_input": "2022-09-13T04:19:34.425651Z",
     "iopub.status.busy": "2022-09-13T04:19:34.425481Z",
     "iopub.status.idle": "2022-09-13T04:19:34.438353Z",
     "shell.execute_reply": "2022-09-13T04:19:34.437850Z"
    },
    "papermill": {
     "duration": 0.019301,
     "end_time": "2022-09-13T04:19:34.439804",
     "exception": false,
     "start_time": "2022-09-13T04:19:34.420503",
     "status": "completed"
    },
    "tags": []
   },
   "outputs": [],
   "source": [
    "# n_init parameter for DeltaSpectralClustering\n",
    "# a high number should produce more stable final solutions\n",
    "SC_N_INIT = 50"
   ]
  },
  {
   "cell_type": "markdown",
   "id": "9129c9a0",
   "metadata": {
    "papermill": {
     "duration": 0.004273,
     "end_time": "2022-09-13T04:19:34.448720",
     "exception": false,
     "start_time": "2022-09-13T04:19:34.444447",
     "status": "completed"
    },
    "tags": []
   },
   "source": [
    "## Consensus clustering"
   ]
  },
  {
   "cell_type": "code",
   "execution_count": 8,
   "id": "eb9485c3",
   "metadata": {
    "execution": {
     "iopub.execute_input": "2022-09-13T04:19:34.458611Z",
     "iopub.status.busy": "2022-09-13T04:19:34.458441Z",
     "iopub.status.idle": "2022-09-13T04:19:34.472220Z",
     "shell.execute_reply": "2022-09-13T04:19:34.471730Z"
    },
    "papermill": {
     "duration": 0.020452,
     "end_time": "2022-09-13T04:19:34.473552",
     "exception": false,
     "start_time": "2022-09-13T04:19:34.453100",
     "status": "completed"
    },
    "tags": []
   },
   "outputs": [
    {
     "data": {
      "text/plain": [
       "{'K_MIN': 2, 'K_MAX': 60}"
      ]
     },
     "metadata": {},
     "output_type": "display_data"
    }
   ],
   "source": [
    "CLUSTERING_OPTIONS = {}\n",
    "\n",
    "CLUSTERING_OPTIONS[\"K_MIN\"] = 2\n",
    "CLUSTERING_OPTIONS[\"K_MAX\"] = 60\n",
    "\n",
    "display(CLUSTERING_OPTIONS)"
   ]
  },
  {
   "cell_type": "code",
   "execution_count": 9,
   "id": "00a151fc",
   "metadata": {
    "execution": {
     "iopub.execute_input": "2022-09-13T04:19:34.483645Z",
     "iopub.status.busy": "2022-09-13T04:19:34.483475Z",
     "iopub.status.idle": "2022-09-13T04:19:34.498106Z",
     "shell.execute_reply": "2022-09-13T04:19:34.497422Z"
    },
    "papermill": {
     "duration": 0.021221,
     "end_time": "2022-09-13T04:19:34.499490",
     "exception": false,
     "start_time": "2022-09-13T04:19:34.478269",
     "status": "completed"
    },
    "tags": []
   },
   "outputs": [
    {
     "data": {
      "text/plain": [
       "PosixPath('/opt/data/results/clustering/null_sims/consensus_clustering')"
      ]
     },
     "metadata": {},
     "output_type": "display_data"
    }
   ],
   "source": [
    "# output dir for this notebook\n",
    "RESULTS_DIR = Path(\n",
    "    conf.RESULTS[\"CLUSTERING_NULL_DIR\"], \"consensus_clustering\"\n",
    ").resolve()\n",
    "RESULTS_DIR.mkdir(parents=True, exist_ok=True)\n",
    "\n",
    "display(RESULTS_DIR)"
   ]
  },
  {
   "cell_type": "markdown",
   "id": "9d4247a6",
   "metadata": {
    "papermill": {
     "duration": 0.004462,
     "end_time": "2022-09-13T04:19:34.508727",
     "exception": false,
     "start_time": "2022-09-13T04:19:34.504265",
     "status": "completed"
    },
    "tags": []
   },
   "source": [
    "# Load ensemble"
   ]
  },
  {
   "cell_type": "code",
   "execution_count": 10,
   "id": "2f15465a",
   "metadata": {
    "execution": {
     "iopub.execute_input": "2022-09-13T04:19:34.518807Z",
     "iopub.status.busy": "2022-09-13T04:19:34.518637Z",
     "iopub.status.idle": "2022-09-13T04:19:34.532736Z",
     "shell.execute_reply": "2022-09-13T04:19:34.532246Z"
    },
    "papermill": {
     "duration": 0.020759,
     "end_time": "2022-09-13T04:19:34.534075",
     "exception": false,
     "start_time": "2022-09-13T04:19:34.513316",
     "status": "completed"
    },
    "tags": []
   },
   "outputs": [
    {
     "data": {
      "text/plain": [
       "PosixPath('/opt/data/results/clustering/null_sims/consensus_clustering/ensemble.npy')"
      ]
     },
     "metadata": {},
     "output_type": "display_data"
    }
   ],
   "source": [
    "output_file = Path(RESULTS_DIR, \"ensemble.npy\").resolve()\n",
    "display(output_file)"
   ]
  },
  {
   "cell_type": "code",
   "execution_count": 11,
   "id": "6e287d3f",
   "metadata": {
    "execution": {
     "iopub.execute_input": "2022-09-13T04:19:34.544398Z",
     "iopub.status.busy": "2022-09-13T04:19:34.544228Z",
     "iopub.status.idle": "2022-09-13T04:19:35.023120Z",
     "shell.execute_reply": "2022-09-13T04:19:35.022370Z"
    },
    "papermill": {
     "duration": 0.48618,
     "end_time": "2022-09-13T04:19:35.025045",
     "exception": false,
     "start_time": "2022-09-13T04:19:34.538865",
     "status": "completed"
    },
    "tags": []
   },
   "outputs": [],
   "source": [
    "full_ensemble = np.load(output_file)"
   ]
  },
  {
   "cell_type": "code",
   "execution_count": 12,
   "id": "3e717627",
   "metadata": {
    "execution": {
     "iopub.execute_input": "2022-09-13T04:19:35.037996Z",
     "iopub.status.busy": "2022-09-13T04:19:35.037788Z",
     "iopub.status.idle": "2022-09-13T04:19:35.053633Z",
     "shell.execute_reply": "2022-09-13T04:19:35.053007Z"
    },
    "papermill": {
     "duration": 0.023914,
     "end_time": "2022-09-13T04:19:35.055053",
     "exception": false,
     "start_time": "2022-09-13T04:19:35.031139",
     "status": "completed"
    },
    "tags": []
   },
   "outputs": [
    {
     "data": {
      "text/plain": [
       "(3831, 3752)"
      ]
     },
     "metadata": {},
     "output_type": "display_data"
    }
   ],
   "source": [
    "display(full_ensemble.shape)"
   ]
  },
  {
   "cell_type": "markdown",
   "id": "fe7e0223",
   "metadata": {
    "papermill": {
     "duration": 0.004984,
     "end_time": "2022-09-13T04:19:35.065391",
     "exception": false,
     "start_time": "2022-09-13T04:19:35.060407",
     "status": "completed"
    },
    "tags": []
   },
   "source": [
    "# Load ensemble coassociation distance matrix"
   ]
  },
  {
   "cell_type": "code",
   "execution_count": 13,
   "id": "b4b14bcc",
   "metadata": {
    "execution": {
     "iopub.execute_input": "2022-09-13T04:19:35.076635Z",
     "iopub.status.busy": "2022-09-13T04:19:35.076452Z",
     "iopub.status.idle": "2022-09-13T04:19:35.090831Z",
     "shell.execute_reply": "2022-09-13T04:19:35.090222Z"
    },
    "papermill": {
     "duration": 0.0217,
     "end_time": "2022-09-13T04:19:35.092186",
     "exception": false,
     "start_time": "2022-09-13T04:19:35.070486",
     "status": "completed"
    },
    "tags": []
   },
   "outputs": [
    {
     "data": {
      "text/plain": [
       "PosixPath('/opt/data/results/clustering/null_sims/consensus_clustering/ensemble_coassoc_matrix.npy')"
      ]
     },
     "metadata": {},
     "output_type": "display_data"
    }
   ],
   "source": [
    "output_file = Path(RESULTS_DIR, \"ensemble_coassoc_matrix.npy\").resolve()\n",
    "display(output_file)"
   ]
  },
  {
   "cell_type": "code",
   "execution_count": 14,
   "id": "ab4c71bf",
   "metadata": {
    "execution": {
     "iopub.execute_input": "2022-09-13T04:19:35.103120Z",
     "iopub.status.busy": "2022-09-13T04:19:35.102953Z",
     "iopub.status.idle": "2022-09-13T04:19:35.142709Z",
     "shell.execute_reply": "2022-09-13T04:19:35.142063Z"
    },
    "papermill": {
     "duration": 0.046767,
     "end_time": "2022-09-13T04:19:35.144234",
     "exception": false,
     "start_time": "2022-09-13T04:19:35.097467",
     "status": "completed"
    },
    "tags": []
   },
   "outputs": [],
   "source": [
    "ensemble_coassoc_matrix = np.load(output_file)"
   ]
  },
  {
   "cell_type": "code",
   "execution_count": 15,
   "id": "bb6f223f",
   "metadata": {
    "execution": {
     "iopub.execute_input": "2022-09-13T04:19:35.157350Z",
     "iopub.status.busy": "2022-09-13T04:19:35.157077Z",
     "iopub.status.idle": "2022-09-13T04:19:35.170616Z",
     "shell.execute_reply": "2022-09-13T04:19:35.169988Z"
    },
    "papermill": {
     "duration": 0.022256,
     "end_time": "2022-09-13T04:19:35.172092",
     "exception": false,
     "start_time": "2022-09-13T04:19:35.149836",
     "status": "completed"
    },
    "tags": []
   },
   "outputs": [
    {
     "data": {
      "text/plain": [
       "(3752, 3752)"
      ]
     },
     "metadata": {},
     "output_type": "display_data"
    }
   ],
   "source": [
    "display(ensemble_coassoc_matrix.shape)"
   ]
  },
  {
   "cell_type": "code",
   "execution_count": 16,
   "id": "9d0e1e3e",
   "metadata": {
    "execution": {
     "iopub.execute_input": "2022-09-13T04:19:35.204400Z",
     "iopub.status.busy": "2022-09-13T04:19:35.204208Z",
     "iopub.status.idle": "2022-09-13T04:19:35.218828Z",
     "shell.execute_reply": "2022-09-13T04:19:35.218344Z"
    },
    "papermill": {
     "duration": 0.028492,
     "end_time": "2022-09-13T04:19:35.220199",
     "exception": false,
     "start_time": "2022-09-13T04:19:35.191707",
     "status": "completed"
    },
    "tags": []
   },
   "outputs": [
    {
     "data": {
      "text/plain": [
       "array([[0.        , 0.43730074, 0.44247554, ..., 0.61153744, 0.47556143,\n",
       "        0.75807305],\n",
       "       [0.43730074, 0.        , 0.44113739, ..., 0.60170394, 0.5043848 ,\n",
       "        0.75585729],\n",
       "       [0.44247554, 0.44113739, 0.        , ..., 0.62692104, 0.48174603,\n",
       "        0.70262391],\n",
       "       ...,\n",
       "       [0.61153744, 0.60170394, 0.62692104, ..., 0.        , 0.50211752,\n",
       "        0.76389624],\n",
       "       [0.47556143, 0.5043848 , 0.48174603, ..., 0.50211752, 0.        ,\n",
       "        0.71439915],\n",
       "       [0.75807305, 0.75585729, 0.70262391, ..., 0.76389624, 0.71439915,\n",
       "        0.        ]])"
      ]
     },
     "metadata": {},
     "output_type": "display_data"
    }
   ],
   "source": [
    "display(ensemble_coassoc_matrix)"
   ]
  },
  {
   "cell_type": "markdown",
   "id": "7a2e8760",
   "metadata": {
    "papermill": {
     "duration": 0.005154,
     "end_time": "2022-09-13T04:19:35.230588",
     "exception": false,
     "start_time": "2022-09-13T04:19:35.225434",
     "status": "completed"
    },
    "tags": []
   },
   "source": [
    "# Consensus clustering"
   ]
  },
  {
   "cell_type": "code",
   "execution_count": 17,
   "id": "0fec4774",
   "metadata": {
    "execution": {
     "iopub.execute_input": "2022-09-13T04:19:35.241753Z",
     "iopub.status.busy": "2022-09-13T04:19:35.241580Z",
     "iopub.status.idle": "2022-09-13T04:19:35.553239Z",
     "shell.execute_reply": "2022-09-13T04:19:35.552690Z"
    },
    "papermill": {
     "duration": 0.319046,
     "end_time": "2022-09-13T04:19:35.554765",
     "exception": false,
     "start_time": "2022-09-13T04:19:35.235719",
     "status": "completed"
    },
    "tags": []
   },
   "outputs": [],
   "source": [
    "from concurrent.futures import ProcessPoolExecutor, as_completed\n",
    "\n",
    "from tqdm import tqdm\n",
    "\n",
    "from clustering.ensembles.utils import (\n",
    "    run_method_and_compute_agreement,\n",
    ")\n",
    "from clustering.ensembles.eac import (\n",
    "    eac_single_coassoc_matrix,\n",
    "    eac_complete_coassoc_matrix,\n",
    "    eac_average_coassoc_matrix,\n",
    ")\n",
    "from clustering.ensembles.spectral import scc"
   ]
  },
  {
   "cell_type": "markdown",
   "id": "c61cdb8d",
   "metadata": {
    "papermill": {
     "duration": 0.005259,
     "end_time": "2022-09-13T04:19:35.565571",
     "exception": false,
     "start_time": "2022-09-13T04:19:35.560312",
     "status": "completed"
    },
    "tags": []
   },
   "source": [
    "Define spectral consensus clustering methods with delta values found in pre-analysis:"
   ]
  },
  {
   "cell_type": "code",
   "execution_count": 18,
   "id": "52cb4bb6",
   "metadata": {
    "execution": {
     "iopub.execute_input": "2022-09-13T04:19:35.577184Z",
     "iopub.status.busy": "2022-09-13T04:19:35.577005Z",
     "iopub.status.idle": "2022-09-13T04:19:35.597055Z",
     "shell.execute_reply": "2022-09-13T04:19:35.596348Z"
    },
    "papermill": {
     "duration": 0.027711,
     "end_time": "2022-09-13T04:19:35.598565",
     "exception": false,
     "start_time": "2022-09-13T04:19:35.570854",
     "status": "completed"
    },
    "tags": []
   },
   "outputs": [],
   "source": [
    "def scc_020(coassoc_distance_matrix, k, **kwargs):\n",
    "    return scc(\n",
    "        coassoc_distance_matrix,\n",
    "        k,\n",
    "        delta=0.20,\n",
    "        ensemble_is_coassoc_matrix=True,\n",
    "        **kwargs\n",
    "    )\n",
    "\n",
    "\n",
    "def scc_025(coassoc_distance_matrix, k, **kwargs):\n",
    "    return scc(\n",
    "        coassoc_distance_matrix,\n",
    "        k,\n",
    "        delta=0.25,\n",
    "        ensemble_is_coassoc_matrix=True,\n",
    "        **kwargs\n",
    "    )\n",
    "\n",
    "\n",
    "def scc_030(coassoc_distance_matrix, k, **kwargs):\n",
    "    return scc(\n",
    "        coassoc_distance_matrix,\n",
    "        k,\n",
    "        delta=0.30,\n",
    "        ensemble_is_coassoc_matrix=True,\n",
    "        **kwargs\n",
    "    )\n",
    "\n",
    "\n",
    "def scc_050(coassoc_distance_matrix, k, **kwargs):\n",
    "    return scc(\n",
    "        coassoc_distance_matrix,\n",
    "        k,\n",
    "        delta=0.50,\n",
    "        ensemble_is_coassoc_matrix=True,\n",
    "        **kwargs\n",
    "    )"
   ]
  },
  {
   "cell_type": "code",
   "execution_count": 19,
   "id": "709aed1b",
   "metadata": {
    "execution": {
     "iopub.execute_input": "2022-09-13T04:19:35.610457Z",
     "iopub.status.busy": "2022-09-13T04:19:35.610278Z",
     "iopub.status.idle": "2022-09-13T04:19:35.629171Z",
     "shell.execute_reply": "2022-09-13T04:19:35.628678Z"
    },
    "papermill": {
     "duration": 0.026371,
     "end_time": "2022-09-13T04:19:35.630480",
     "exception": false,
     "start_time": "2022-09-13T04:19:35.604109",
     "status": "completed"
    },
    "tags": []
   },
   "outputs": [
    {
     "data": {
      "text/plain": [
       "{<function clustering.ensembles.eac.eac_average_coassoc_matrix(coassoc_matrix, k, **kwargs)>,\n",
       " <function clustering.ensembles.eac.eac_complete_coassoc_matrix(coassoc_matrix, k, **kwargs)>,\n",
       " <function clustering.ensembles.eac.eac_single_coassoc_matrix(coassoc_matrix, k, **kwargs)>,\n",
       " <function __main__.scc_020(coassoc_distance_matrix, k, **kwargs)>,\n",
       " <function __main__.scc_025(coassoc_distance_matrix, k, **kwargs)>,\n",
       " <function __main__.scc_030(coassoc_distance_matrix, k, **kwargs)>,\n",
       " <function __main__.scc_050(coassoc_distance_matrix, k, **kwargs)>}"
      ]
     },
     "metadata": {},
     "output_type": "display_data"
    }
   ],
   "source": [
    "all_consensus_methods = set(\n",
    "    (\n",
    "        eac_single_coassoc_matrix,\n",
    "        eac_complete_coassoc_matrix,\n",
    "        eac_average_coassoc_matrix,\n",
    "        scc_020,\n",
    "        scc_025,\n",
    "        scc_030,\n",
    "        scc_050,\n",
    "    )\n",
    ")\n",
    "display(all_consensus_methods)"
   ]
  },
  {
   "cell_type": "code",
   "execution_count": 20,
   "id": "cfd2a85a",
   "metadata": {
    "execution": {
     "iopub.execute_input": "2022-09-13T04:19:35.642528Z",
     "iopub.status.busy": "2022-09-13T04:19:35.641966Z",
     "iopub.status.idle": "2022-09-13T05:57:34.848794Z",
     "shell.execute_reply": "2022-09-13T05:57:34.848153Z"
    },
    "papermill": {
     "duration": 5879.214371,
     "end_time": "2022-09-13T05:57:34.850260",
     "exception": false,
     "start_time": "2022-09-13T04:19:35.635889",
     "status": "completed"
    },
    "tags": []
   },
   "outputs": [
    {
     "name": "stderr",
     "output_type": "stream",
     "text": [
      "100%|███████████████████████████████████████████████████████████| 413/413 [1:37:58<00:00, 14.23s/it]\n"
     ]
    }
   ],
   "source": [
    "consensus_results = []\n",
    "\n",
    "with ProcessPoolExecutor(max_workers=conf.GENERAL[\"N_JOBS\"]) as executor:\n",
    "    tasks = {\n",
    "        executor.submit(\n",
    "            run_method_and_compute_agreement,\n",
    "            m,\n",
    "            ensemble_coassoc_matrix,\n",
    "            full_ensemble,\n",
    "            k,\n",
    "            n_init=SC_N_INIT,\n",
    "            random_state=next(RANDOM_STATES_ITER),\n",
    "        ): (m.__name__, k)\n",
    "        for m in all_consensus_methods\n",
    "        for k in range(CLUSTERING_OPTIONS[\"K_MIN\"], CLUSTERING_OPTIONS[\"K_MAX\"] + 1)\n",
    "    }\n",
    "\n",
    "    for future in tqdm(as_completed(tasks), total=len(tasks), disable=False, ncols=100):\n",
    "        method_name, k = tasks[future]\n",
    "        part, performance_values = future.result()\n",
    "\n",
    "        method_results = {\n",
    "            \"method\": method_name,\n",
    "            \"partition\": part,\n",
    "            \"k\": k,\n",
    "        }\n",
    "        method_results.update(performance_values)\n",
    "\n",
    "        consensus_results.append(method_results)"
   ]
  },
  {
   "cell_type": "code",
   "execution_count": 21,
   "id": "d35578c2",
   "metadata": {
    "execution": {
     "iopub.execute_input": "2022-09-13T05:57:34.890056Z",
     "iopub.status.busy": "2022-09-13T05:57:34.889872Z",
     "iopub.status.idle": "2022-09-13T05:57:34.913622Z",
     "shell.execute_reply": "2022-09-13T05:57:34.912966Z"
    },
    "papermill": {
     "duration": 0.044445,
     "end_time": "2022-09-13T05:57:34.915039",
     "exception": false,
     "start_time": "2022-09-13T05:57:34.870594",
     "status": "completed"
    },
    "tags": []
   },
   "outputs": [],
   "source": [
    "consensus_results = pd.DataFrame(consensus_results)"
   ]
  },
  {
   "cell_type": "code",
   "execution_count": 22,
   "id": "c6382de6",
   "metadata": {
    "execution": {
     "iopub.execute_input": "2022-09-13T05:57:34.952440Z",
     "iopub.status.busy": "2022-09-13T05:57:34.952181Z",
     "iopub.status.idle": "2022-09-13T05:57:34.969410Z",
     "shell.execute_reply": "2022-09-13T05:57:34.969001Z"
    },
    "papermill": {
     "duration": 0.036983,
     "end_time": "2022-09-13T05:57:34.970629",
     "exception": false,
     "start_time": "2022-09-13T05:57:34.933646",
     "status": "completed"
    },
    "tags": []
   },
   "outputs": [
    {
     "data": {
      "text/plain": [
       "(413, 12)"
      ]
     },
     "metadata": {},
     "output_type": "display_data"
    }
   ],
   "source": [
    "display(consensus_results.shape)"
   ]
  },
  {
   "cell_type": "code",
   "execution_count": 23,
   "id": "5cf6a697",
   "metadata": {
    "execution": {
     "iopub.execute_input": "2022-09-13T05:57:35.008543Z",
     "iopub.status.busy": "2022-09-13T05:57:35.008336Z",
     "iopub.status.idle": "2022-09-13T05:57:35.039545Z",
     "shell.execute_reply": "2022-09-13T05:57:35.039067Z"
    },
    "papermill": {
     "duration": 0.051679,
     "end_time": "2022-09-13T05:57:35.040805",
     "exception": false,
     "start_time": "2022-09-13T05:57:34.989126",
     "status": "completed"
    },
    "tags": []
   },
   "outputs": [
    {
     "data": {
      "text/html": [
       "<div>\n",
       "<style scoped>\n",
       "    .dataframe tbody tr th:only-of-type {\n",
       "        vertical-align: middle;\n",
       "    }\n",
       "\n",
       "    .dataframe tbody tr th {\n",
       "        vertical-align: top;\n",
       "    }\n",
       "\n",
       "    .dataframe thead th {\n",
       "        text-align: right;\n",
       "    }\n",
       "</style>\n",
       "<table border=\"1\" class=\"dataframe\">\n",
       "  <thead>\n",
       "    <tr style=\"text-align: right;\">\n",
       "      <th></th>\n",
       "      <th>method</th>\n",
       "      <th>partition</th>\n",
       "      <th>k</th>\n",
       "      <th>ari_mean</th>\n",
       "      <th>ari_median</th>\n",
       "      <th>ari_std</th>\n",
       "      <th>ami_mean</th>\n",
       "      <th>ami_median</th>\n",
       "      <th>ami_std</th>\n",
       "      <th>nmi_mean</th>\n",
       "      <th>nmi_median</th>\n",
       "      <th>nmi_std</th>\n",
       "    </tr>\n",
       "  </thead>\n",
       "  <tbody>\n",
       "    <tr>\n",
       "      <th>0</th>\n",
       "      <td>scc_025</td>\n",
       "      <td>[1, 1, 1, 1, 1, 1, 1, 1, 1, 1, 1, 1, 1, 1, 1, ...</td>\n",
       "      <td>2</td>\n",
       "      <td>0.030600</td>\n",
       "      <td>0.000169</td>\n",
       "      <td>0.069651</td>\n",
       "      <td>0.101382</td>\n",
       "      <td>0.000544</td>\n",
       "      <td>0.155524</td>\n",
       "      <td>0.105621</td>\n",
       "      <td>0.009857</td>\n",
       "      <td>0.153730</td>\n",
       "    </tr>\n",
       "    <tr>\n",
       "      <th>1</th>\n",
       "      <td>scc_025</td>\n",
       "      <td>[0, 0, 0, 0, 0, 0, 0, 0, 0, 0, 0, 0, 0, 0, 0, ...</td>\n",
       "      <td>3</td>\n",
       "      <td>0.053822</td>\n",
       "      <td>-0.000019</td>\n",
       "      <td>0.114262</td>\n",
       "      <td>0.144432</td>\n",
       "      <td>0.000731</td>\n",
       "      <td>0.221952</td>\n",
       "      <td>0.149917</td>\n",
       "      <td>0.011109</td>\n",
       "      <td>0.219680</td>\n",
       "    </tr>\n",
       "    <tr>\n",
       "      <th>2</th>\n",
       "      <td>scc_025</td>\n",
       "      <td>[2, 2, 2, 2, 2, 2, 2, 2, 2, 2, 2, 2, 2, 2, 2, ...</td>\n",
       "      <td>4</td>\n",
       "      <td>0.063607</td>\n",
       "      <td>0.000089</td>\n",
       "      <td>0.119619</td>\n",
       "      <td>0.165313</td>\n",
       "      <td>0.000997</td>\n",
       "      <td>0.250499</td>\n",
       "      <td>0.171683</td>\n",
       "      <td>0.013776</td>\n",
       "      <td>0.247910</td>\n",
       "    </tr>\n",
       "    <tr>\n",
       "      <th>3</th>\n",
       "      <td>scc_025</td>\n",
       "      <td>[0, 0, 0, 0, 0, 0, 0, 0, 0, 0, 0, 0, 0, 0, 0, ...</td>\n",
       "      <td>5</td>\n",
       "      <td>0.084613</td>\n",
       "      <td>0.000429</td>\n",
       "      <td>0.150065</td>\n",
       "      <td>0.185441</td>\n",
       "      <td>0.001292</td>\n",
       "      <td>0.281006</td>\n",
       "      <td>0.192515</td>\n",
       "      <td>0.012765</td>\n",
       "      <td>0.278085</td>\n",
       "    </tr>\n",
       "    <tr>\n",
       "      <th>4</th>\n",
       "      <td>scc_025</td>\n",
       "      <td>[0, 0, 0, 0, 0, 0, 0, 0, 0, 0, 0, 0, 0, 0, 0, ...</td>\n",
       "      <td>6</td>\n",
       "      <td>0.096732</td>\n",
       "      <td>0.000172</td>\n",
       "      <td>0.169074</td>\n",
       "      <td>0.196785</td>\n",
       "      <td>0.001037</td>\n",
       "      <td>0.299126</td>\n",
       "      <td>0.204510</td>\n",
       "      <td>0.013259</td>\n",
       "      <td>0.295917</td>\n",
       "    </tr>\n",
       "  </tbody>\n",
       "</table>\n",
       "</div>"
      ],
      "text/plain": [
       "    method                                          partition  k  ari_mean  \\\n",
       "0  scc_025  [1, 1, 1, 1, 1, 1, 1, 1, 1, 1, 1, 1, 1, 1, 1, ...  2  0.030600   \n",
       "1  scc_025  [0, 0, 0, 0, 0, 0, 0, 0, 0, 0, 0, 0, 0, 0, 0, ...  3  0.053822   \n",
       "2  scc_025  [2, 2, 2, 2, 2, 2, 2, 2, 2, 2, 2, 2, 2, 2, 2, ...  4  0.063607   \n",
       "3  scc_025  [0, 0, 0, 0, 0, 0, 0, 0, 0, 0, 0, 0, 0, 0, 0, ...  5  0.084613   \n",
       "4  scc_025  [0, 0, 0, 0, 0, 0, 0, 0, 0, 0, 0, 0, 0, 0, 0, ...  6  0.096732   \n",
       "\n",
       "   ari_median   ari_std  ami_mean  ami_median   ami_std  nmi_mean  nmi_median  \\\n",
       "0    0.000169  0.069651  0.101382    0.000544  0.155524  0.105621    0.009857   \n",
       "1   -0.000019  0.114262  0.144432    0.000731  0.221952  0.149917    0.011109   \n",
       "2    0.000089  0.119619  0.165313    0.000997  0.250499  0.171683    0.013776   \n",
       "3    0.000429  0.150065  0.185441    0.001292  0.281006  0.192515    0.012765   \n",
       "4    0.000172  0.169074  0.196785    0.001037  0.299126  0.204510    0.013259   \n",
       "\n",
       "    nmi_std  \n",
       "0  0.153730  \n",
       "1  0.219680  \n",
       "2  0.247910  \n",
       "3  0.278085  \n",
       "4  0.295917  "
      ]
     },
     "execution_count": 23,
     "metadata": {},
     "output_type": "execute_result"
    }
   ],
   "source": [
    "consensus_results.head()"
   ]
  },
  {
   "cell_type": "markdown",
   "id": "317ad2de",
   "metadata": {
    "papermill": {
     "duration": 0.017714,
     "end_time": "2022-09-13T05:57:35.077045",
     "exception": false,
     "start_time": "2022-09-13T05:57:35.059331",
     "status": "completed"
    },
    "tags": []
   },
   "source": [
    "## Testing"
   ]
  },
  {
   "cell_type": "code",
   "execution_count": 24,
   "id": "bf6b3816",
   "metadata": {
    "execution": {
     "iopub.execute_input": "2022-09-13T05:57:35.113528Z",
     "iopub.status.busy": "2022-09-13T05:57:35.113318Z",
     "iopub.status.idle": "2022-09-13T05:57:35.130991Z",
     "shell.execute_reply": "2022-09-13T05:57:35.130324Z"
    },
    "papermill": {
     "duration": 0.037457,
     "end_time": "2022-09-13T05:57:35.132338",
     "exception": false,
     "start_time": "2022-09-13T05:57:35.094881",
     "status": "completed"
    },
    "tags": []
   },
   "outputs": [],
   "source": [
    "assert not consensus_results.isna().any().any()"
   ]
  },
  {
   "cell_type": "code",
   "execution_count": 25,
   "id": "9a0afa52",
   "metadata": {
    "execution": {
     "iopub.execute_input": "2022-09-13T05:57:35.171311Z",
     "iopub.status.busy": "2022-09-13T05:57:35.171071Z",
     "iopub.status.idle": "2022-09-13T05:57:35.213254Z",
     "shell.execute_reply": "2022-09-13T05:57:35.212806Z"
    },
    "papermill": {
     "duration": 0.063362,
     "end_time": "2022-09-13T05:57:35.214549",
     "exception": false,
     "start_time": "2022-09-13T05:57:35.151187",
     "status": "completed"
    },
    "tags": []
   },
   "outputs": [
    {
     "data": {
      "text/plain": [
       "0       2\n",
       "1       3\n",
       "2       4\n",
       "3       5\n",
       "4       6\n",
       "       ..\n",
       "408    56\n",
       "409    57\n",
       "410    58\n",
       "411    59\n",
       "412    60\n",
       "Name: partition, Length: 413, dtype: int64"
      ]
     },
     "metadata": {},
     "output_type": "display_data"
    }
   ],
   "source": [
    "# check that the number of clusters in the partitions are the expected ones\n",
    "_real_k_values = consensus_results[\"partition\"].apply(lambda x: np.unique(x).shape[0])\n",
    "display(_real_k_values)\n",
    "assert np.all(consensus_results[\"k\"].values == _real_k_values.values)"
   ]
  },
  {
   "cell_type": "markdown",
   "id": "e5e7e55a",
   "metadata": {
    "papermill": {
     "duration": 0.01789,
     "end_time": "2022-09-13T05:57:35.250946",
     "exception": false,
     "start_time": "2022-09-13T05:57:35.233056",
     "status": "completed"
    },
    "tags": []
   },
   "source": [
    "## Save"
   ]
  },
  {
   "cell_type": "code",
   "execution_count": 26,
   "id": "44b7ab49",
   "metadata": {
    "execution": {
     "iopub.execute_input": "2022-09-13T05:57:35.288029Z",
     "iopub.status.busy": "2022-09-13T05:57:35.287807Z",
     "iopub.status.idle": "2022-09-13T05:57:35.305232Z",
     "shell.execute_reply": "2022-09-13T05:57:35.304651Z"
    },
    "papermill": {
     "duration": 0.037273,
     "end_time": "2022-09-13T05:57:35.306489",
     "exception": false,
     "start_time": "2022-09-13T05:57:35.269216",
     "status": "completed"
    },
    "tags": []
   },
   "outputs": [
    {
     "data": {
      "text/plain": [
       "PosixPath('/opt/data/results/clustering/null_sims/consensus_clustering/consensus_clustering_runs.pkl')"
      ]
     },
     "metadata": {},
     "output_type": "display_data"
    }
   ],
   "source": [
    "output_file = Path(RESULTS_DIR, \"consensus_clustering_runs.pkl\").resolve()\n",
    "display(output_file)"
   ]
  },
  {
   "cell_type": "code",
   "execution_count": 27,
   "id": "69a17dbb",
   "metadata": {
    "execution": {
     "iopub.execute_input": "2022-09-13T05:57:35.344676Z",
     "iopub.status.busy": "2022-09-13T05:57:35.344471Z",
     "iopub.status.idle": "2022-09-13T05:57:35.377421Z",
     "shell.execute_reply": "2022-09-13T05:57:35.376761Z"
    },
    "papermill": {
     "duration": 0.053407,
     "end_time": "2022-09-13T05:57:35.378839",
     "exception": false,
     "start_time": "2022-09-13T05:57:35.325432",
     "status": "completed"
    },
    "tags": []
   },
   "outputs": [],
   "source": [
    "consensus_results.to_pickle(output_file)"
   ]
  },
  {
   "cell_type": "code",
   "execution_count": null,
   "id": "0006ed8c",
   "metadata": {
    "papermill": {
     "duration": 0.018332,
     "end_time": "2022-09-13T05:57:35.416083",
     "exception": false,
     "start_time": "2022-09-13T05:57:35.397751",
     "status": "completed"
    },
    "tags": []
   },
   "outputs": [],
   "source": []
  }
 ],
 "metadata": {
  "jupytext": {
   "cell_metadata_filter": "all,-execution,-papermill,-trusted",
   "formats": "ipynb,py//py:percent"
  },
  "kernelspec": {
   "display_name": "Python 3 (ipykernel)",
   "language": "python",
   "name": "python3"
  },
  "language_info": {
   "codemirror_mode": {
    "name": "ipython",
    "version": 3
   },
   "file_extension": ".py",
   "mimetype": "text/x-python",
   "name": "python",
   "nbconvert_exporter": "python",
   "pygments_lexer": "ipython3",
   "version": "3.8.13"
  },
  "papermill": {
   "default_parameters": {},
   "duration": 5883.03959,
   "end_time": "2022-09-13T05:57:35.776096",
   "environment_variables": {},
   "exception": null,
   "input_path": "nbs/13.1_cluster_analysis_null/20_01-combine_ensemble.ipynb",
   "output_path": "nbs/13.1_cluster_analysis_null/20_01-combine_ensemble.run.ipynb",
   "parameters": {},
   "start_time": "2022-09-13T04:19:32.736506",
   "version": "2.2.2"
  },
  "toc-autonumbering": true,
  "toc-showcode": false,
  "toc-showmarkdowntxt": false,
  "toc-showtags": false
 },
 "nbformat": 4,
 "nbformat_minor": 5
}
