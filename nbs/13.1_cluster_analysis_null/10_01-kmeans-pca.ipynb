{
 "cells": [
  {
   "cell_type": "markdown",
   "id": "e71ee967",
   "metadata": {
    "papermill": {
     "duration": 0.013413,
     "end_time": "2022-09-11T21:01:53.871385",
     "exception": false,
     "start_time": "2022-09-11T21:01:53.857972",
     "status": "completed"
    },
    "tags": []
   },
   "source": [
    "# Description"
   ]
  },
  {
   "cell_type": "markdown",
   "id": "cd9e93fb",
   "metadata": {
    "papermill": {
     "duration": 0.007153,
     "end_time": "2022-09-11T21:01:53.886333",
     "exception": false,
     "start_time": "2022-09-11T21:01:53.879180",
     "status": "completed"
    },
    "tags": []
   },
   "source": [
    "Runs k-means on the pca version of the data."
   ]
  },
  {
   "cell_type": "markdown",
   "id": "638c5907",
   "metadata": {
    "papermill": {
     "duration": 0.006818,
     "end_time": "2022-09-11T21:01:53.900084",
     "exception": false,
     "start_time": "2022-09-11T21:01:53.893266",
     "status": "completed"
    },
    "tags": []
   },
   "source": [
    "# Environment variables"
   ]
  },
  {
   "cell_type": "code",
   "execution_count": 1,
   "id": "c8441309",
   "metadata": {
    "execution": {
     "iopub.execute_input": "2022-09-11T21:01:53.914798Z",
     "iopub.status.busy": "2022-09-11T21:01:53.914112Z",
     "iopub.status.idle": "2022-09-11T21:01:53.929452Z",
     "shell.execute_reply": "2022-09-11T21:01:53.928869Z"
    },
    "papermill": {
     "duration": 0.024304,
     "end_time": "2022-09-11T21:01:53.930994",
     "exception": false,
     "start_time": "2022-09-11T21:01:53.906690",
     "status": "completed"
    },
    "tags": []
   },
   "outputs": [
    {
     "data": {
      "text/plain": [
       "3"
      ]
     },
     "metadata": {},
     "output_type": "display_data"
    }
   ],
   "source": [
    "from IPython.display import display\n",
    "\n",
    "import conf\n",
    "\n",
    "N_JOBS = conf.GENERAL[\"N_JOBS\"]\n",
    "display(N_JOBS)"
   ]
  },
  {
   "cell_type": "code",
   "execution_count": 2,
   "id": "6e89cc66",
   "metadata": {
    "execution": {
     "iopub.execute_input": "2022-09-11T21:01:53.946024Z",
     "iopub.status.busy": "2022-09-11T21:01:53.945864Z",
     "iopub.status.idle": "2022-09-11T21:01:53.950743Z",
     "shell.execute_reply": "2022-09-11T21:01:53.950260Z"
    },
    "papermill": {
     "duration": 0.013771,
     "end_time": "2022-09-11T21:01:53.951967",
     "exception": false,
     "start_time": "2022-09-11T21:01:53.938196",
     "status": "completed"
    },
    "tags": []
   },
   "outputs": [
    {
     "name": "stdout",
     "output_type": "stream",
     "text": [
      "env: MKL_NUM_THREADS=3\n",
      "env: OPEN_BLAS_NUM_THREADS=3\n",
      "env: NUMEXPR_NUM_THREADS=3\n",
      "env: OMP_NUM_THREADS=3\n"
     ]
    }
   ],
   "source": [
    "%env MKL_NUM_THREADS=$N_JOBS\n",
    "%env OPEN_BLAS_NUM_THREADS=$N_JOBS\n",
    "%env NUMEXPR_NUM_THREADS=$N_JOBS\n",
    "%env OMP_NUM_THREADS=$N_JOBS"
   ]
  },
  {
   "cell_type": "markdown",
   "id": "b658ea16",
   "metadata": {
    "papermill": {
     "duration": 0.006886,
     "end_time": "2022-09-11T21:01:53.965856",
     "exception": false,
     "start_time": "2022-09-11T21:01:53.958970",
     "status": "completed"
    },
    "tags": []
   },
   "source": [
    "# Modules loading"
   ]
  },
  {
   "cell_type": "code",
   "execution_count": 3,
   "id": "519e4227",
   "metadata": {
    "execution": {
     "iopub.execute_input": "2022-09-11T21:01:53.987495Z",
     "iopub.status.busy": "2022-09-11T21:01:53.987326Z",
     "iopub.status.idle": "2022-09-11T21:01:54.000397Z",
     "shell.execute_reply": "2022-09-11T21:01:53.999831Z"
    },
    "papermill": {
     "duration": 0.029119,
     "end_time": "2022-09-11T21:01:54.001842",
     "exception": false,
     "start_time": "2022-09-11T21:01:53.972723",
     "status": "completed"
    },
    "tags": []
   },
   "outputs": [],
   "source": [
    "%load_ext autoreload\n",
    "%autoreload 2"
   ]
  },
  {
   "cell_type": "code",
   "execution_count": 4,
   "id": "99bbf452",
   "metadata": {
    "execution": {
     "iopub.execute_input": "2022-09-11T21:01:54.026019Z",
     "iopub.status.busy": "2022-09-11T21:01:54.025852Z",
     "iopub.status.idle": "2022-09-11T21:01:54.680844Z",
     "shell.execute_reply": "2022-09-11T21:01:54.680082Z"
    },
    "papermill": {
     "duration": 0.672955,
     "end_time": "2022-09-11T21:01:54.682288",
     "exception": false,
     "start_time": "2022-09-11T21:01:54.009333",
     "status": "completed"
    },
    "tags": []
   },
   "outputs": [],
   "source": [
    "from pathlib import Path\n",
    "\n",
    "import numpy as np\n",
    "import pandas as pd\n",
    "import matplotlib.pyplot as plt\n",
    "import seaborn as sns\n",
    "\n",
    "from utils import generate_result_set_name"
   ]
  },
  {
   "cell_type": "markdown",
   "id": "4451e170",
   "metadata": {
    "papermill": {
     "duration": 0.006446,
     "end_time": "2022-09-11T21:01:54.695632",
     "exception": false,
     "start_time": "2022-09-11T21:01:54.689186",
     "status": "completed"
    },
    "tags": []
   },
   "source": [
    "# Settings"
   ]
  },
  {
   "cell_type": "code",
   "execution_count": 5,
   "id": "cbd29695",
   "metadata": {
    "execution": {
     "iopub.execute_input": "2022-09-11T21:01:54.710123Z",
     "iopub.status.busy": "2022-09-11T21:01:54.709599Z",
     "iopub.status.idle": "2022-09-11T21:01:54.726159Z",
     "shell.execute_reply": "2022-09-11T21:01:54.725535Z"
    },
    "papermill": {
     "duration": 0.025182,
     "end_time": "2022-09-11T21:01:54.727567",
     "exception": false,
     "start_time": "2022-09-11T21:01:54.702385",
     "status": "completed"
    },
    "tags": []
   },
   "outputs": [],
   "source": [
    "np.random.seed(0)"
   ]
  },
  {
   "cell_type": "code",
   "execution_count": 6,
   "id": "e72261a9",
   "metadata": {
    "execution": {
     "iopub.execute_input": "2022-09-11T21:01:54.742512Z",
     "iopub.status.busy": "2022-09-11T21:01:54.742356Z",
     "iopub.status.idle": "2022-09-11T21:01:54.759223Z",
     "shell.execute_reply": "2022-09-11T21:01:54.758603Z"
    },
    "papermill": {
     "duration": 0.025788,
     "end_time": "2022-09-11T21:01:54.760592",
     "exception": false,
     "start_time": "2022-09-11T21:01:54.734804",
     "status": "completed"
    },
    "tags": []
   },
   "outputs": [],
   "source": [
    "INITIAL_RANDOM_STATE = 10000"
   ]
  },
  {
   "cell_type": "markdown",
   "id": "9e113ab5",
   "metadata": {
    "papermill": {
     "duration": 0.006675,
     "end_time": "2022-09-11T21:01:54.774567",
     "exception": false,
     "start_time": "2022-09-11T21:01:54.767892",
     "status": "completed"
    },
    "tags": []
   },
   "source": [
    "## Input data"
   ]
  },
  {
   "cell_type": "code",
   "execution_count": 7,
   "id": "d8100884",
   "metadata": {
    "execution": {
     "iopub.execute_input": "2022-09-11T21:01:54.816660Z",
     "iopub.status.busy": "2022-09-11T21:01:54.816457Z",
     "iopub.status.idle": "2022-09-11T21:01:54.835286Z",
     "shell.execute_reply": "2022-09-11T21:01:54.834675Z"
    },
    "papermill": {
     "duration": 0.055369,
     "end_time": "2022-09-11T21:01:54.836874",
     "exception": false,
     "start_time": "2022-09-11T21:01:54.781505",
     "status": "completed"
    },
    "tags": []
   },
   "outputs": [],
   "source": [
    "INPUT_SUBSET = \"pca\""
   ]
  },
  {
   "cell_type": "code",
   "execution_count": 8,
   "id": "e6b9b65e",
   "metadata": {
    "execution": {
     "iopub.execute_input": "2022-09-11T21:01:54.865461Z",
     "iopub.status.busy": "2022-09-11T21:01:54.865269Z",
     "iopub.status.idle": "2022-09-11T21:01:54.882788Z",
     "shell.execute_reply": "2022-09-11T21:01:54.882297Z"
    },
    "papermill": {
     "duration": 0.038843,
     "end_time": "2022-09-11T21:01:54.884297",
     "exception": false,
     "start_time": "2022-09-11T21:01:54.845454",
     "status": "completed"
    },
    "tags": []
   },
   "outputs": [],
   "source": [
    "INPUT_STEM = \"z_score_std-projection-smultixcan-efo_partial-mashr-zscores\""
   ]
  },
  {
   "cell_type": "code",
   "execution_count": 9,
   "id": "6bef7988",
   "metadata": {
    "execution": {
     "iopub.execute_input": "2022-09-11T21:01:54.900607Z",
     "iopub.status.busy": "2022-09-11T21:01:54.900430Z",
     "iopub.status.idle": "2022-09-11T21:01:54.917814Z",
     "shell.execute_reply": "2022-09-11T21:01:54.917075Z"
    },
    "papermill": {
     "duration": 0.027193,
     "end_time": "2022-09-11T21:01:54.919291",
     "exception": false,
     "start_time": "2022-09-11T21:01:54.892098",
     "status": "completed"
    },
    "tags": []
   },
   "outputs": [],
   "source": [
    "DR_OPTIONS = {\n",
    "    \"n_components\": 50,\n",
    "    \"svd_solver\": \"full\",\n",
    "    \"random_state\": 0,\n",
    "}"
   ]
  },
  {
   "cell_type": "code",
   "execution_count": 10,
   "id": "f04af988",
   "metadata": {
    "execution": {
     "iopub.execute_input": "2022-09-11T21:01:54.935667Z",
     "iopub.status.busy": "2022-09-11T21:01:54.935490Z",
     "iopub.status.idle": "2022-09-11T21:01:54.955675Z",
     "shell.execute_reply": "2022-09-11T21:01:54.955120Z"
    },
    "papermill": {
     "duration": 0.029865,
     "end_time": "2022-09-11T21:01:54.956969",
     "exception": false,
     "start_time": "2022-09-11T21:01:54.927104",
     "status": "completed"
    },
    "tags": []
   },
   "outputs": [
    {
     "data": {
      "text/plain": [
       "PosixPath('/opt/data/results/clustering/null_sims/data_transformations/pca/pca-z_score_std-projection-smultixcan-efo_partial-mashr-zscores-n_components_50-random_state_0-svd_solver_full.pkl')"
      ]
     },
     "metadata": {},
     "output_type": "display_data"
    },
    {
     "data": {
      "text/plain": [
       "'pca-z_score_std-projection-smultixcan-efo_partial-mashr-zscores-n_components_50-random_state_0-svd_solver_full'"
      ]
     },
     "metadata": {},
     "output_type": "display_data"
    }
   ],
   "source": [
    "input_filepath = Path(\n",
    "    conf.RESULTS[\"CLUSTERING_NULL_DIR\"],\n",
    "    \"data_transformations\",\n",
    "    INPUT_SUBSET,\n",
    "    generate_result_set_name(\n",
    "        DR_OPTIONS, prefix=f\"{INPUT_SUBSET}-{INPUT_STEM}-\", suffix=\".pkl\"\n",
    "    ),\n",
    ").resolve()\n",
    "display(input_filepath)\n",
    "\n",
    "assert input_filepath.exists(), \"Input file does not exist\"\n",
    "\n",
    "input_filepath_stem = input_filepath.stem\n",
    "display(input_filepath_stem)"
   ]
  },
  {
   "cell_type": "markdown",
   "id": "d2d7b6ef",
   "metadata": {
    "papermill": {
     "duration": 0.007799,
     "end_time": "2022-09-11T21:01:54.972817",
     "exception": false,
     "start_time": "2022-09-11T21:01:54.965018",
     "status": "completed"
    },
    "tags": []
   },
   "source": [
    "## Clustering"
   ]
  },
  {
   "cell_type": "code",
   "execution_count": 11,
   "id": "80fcaa15",
   "metadata": {
    "execution": {
     "iopub.execute_input": "2022-09-11T21:01:54.988243Z",
     "iopub.status.busy": "2022-09-11T21:01:54.988023Z",
     "iopub.status.idle": "2022-09-11T21:01:55.078053Z",
     "shell.execute_reply": "2022-09-11T21:01:55.077594Z"
    },
    "papermill": {
     "duration": 0.098956,
     "end_time": "2022-09-11T21:01:55.079475",
     "exception": false,
     "start_time": "2022-09-11T21:01:54.980519",
     "status": "completed"
    },
    "tags": []
   },
   "outputs": [],
   "source": [
    "from sklearn.cluster import KMeans"
   ]
  },
  {
   "cell_type": "code",
   "execution_count": 12,
   "id": "a137f2ae",
   "metadata": {
    "execution": {
     "iopub.execute_input": "2022-09-11T21:01:55.094430Z",
     "iopub.status.busy": "2022-09-11T21:01:55.094269Z",
     "iopub.status.idle": "2022-09-11T21:01:55.111477Z",
     "shell.execute_reply": "2022-09-11T21:01:55.111005Z"
    },
    "papermill": {
     "duration": 0.026125,
     "end_time": "2022-09-11T21:01:55.112870",
     "exception": false,
     "start_time": "2022-09-11T21:01:55.086745",
     "status": "completed"
    },
    "tags": []
   },
   "outputs": [],
   "source": [
    "CLUSTERING_ATTRIBUTES_TO_SAVE = [\"n_clusters\"]"
   ]
  },
  {
   "cell_type": "code",
   "execution_count": 13,
   "id": "4e41a04e",
   "metadata": {
    "execution": {
     "iopub.execute_input": "2022-09-11T21:01:55.129481Z",
     "iopub.status.busy": "2022-09-11T21:01:55.129136Z",
     "iopub.status.idle": "2022-09-11T21:01:55.148309Z",
     "shell.execute_reply": "2022-09-11T21:01:55.147781Z"
    },
    "papermill": {
     "duration": 0.029146,
     "end_time": "2022-09-11T21:01:55.149708",
     "exception": false,
     "start_time": "2022-09-11T21:01:55.120562",
     "status": "completed"
    },
    "tags": []
   },
   "outputs": [
    {
     "data": {
      "text/plain": [
       "{'K_MIN': 2, 'K_MAX': 60, 'N_REPS_PER_K': 5, 'KMEANS_N_INIT': 10}"
      ]
     },
     "metadata": {},
     "output_type": "display_data"
    }
   ],
   "source": [
    "CLUSTERING_OPTIONS = {}\n",
    "\n",
    "CLUSTERING_OPTIONS[\"K_MIN\"] = 2\n",
    "CLUSTERING_OPTIONS[\"K_MAX\"] = 60  # sqrt(3749)\n",
    "CLUSTERING_OPTIONS[\"N_REPS_PER_K\"] = 5\n",
    "CLUSTERING_OPTIONS[\"KMEANS_N_INIT\"] = 10\n",
    "\n",
    "display(CLUSTERING_OPTIONS)"
   ]
  },
  {
   "cell_type": "code",
   "execution_count": 14,
   "id": "616ff051",
   "metadata": {
    "execution": {
     "iopub.execute_input": "2022-09-11T21:01:55.166276Z",
     "iopub.status.busy": "2022-09-11T21:01:55.166112Z",
     "iopub.status.idle": "2022-09-11T21:01:55.186257Z",
     "shell.execute_reply": "2022-09-11T21:01:55.185615Z"
    },
    "papermill": {
     "duration": 0.030001,
     "end_time": "2022-09-11T21:01:55.187717",
     "exception": false,
     "start_time": "2022-09-11T21:01:55.157716",
     "status": "completed"
    },
    "tags": []
   },
   "outputs": [],
   "source": [
    "CLUSTERERS = {}\n",
    "\n",
    "idx = 0\n",
    "random_state = INITIAL_RANDOM_STATE\n",
    "\n",
    "for k in range(CLUSTERING_OPTIONS[\"K_MIN\"], CLUSTERING_OPTIONS[\"K_MAX\"] + 1):\n",
    "    for i in range(CLUSTERING_OPTIONS[\"N_REPS_PER_K\"]):\n",
    "        clus = KMeans(\n",
    "            n_clusters=k,\n",
    "            n_init=CLUSTERING_OPTIONS[\"KMEANS_N_INIT\"],\n",
    "            random_state=random_state,\n",
    "        )\n",
    "\n",
    "        method_name = type(clus).__name__\n",
    "        CLUSTERERS[f\"{method_name} #{idx}\"] = clus\n",
    "\n",
    "        random_state = random_state + 1\n",
    "        idx = idx + 1"
   ]
  },
  {
   "cell_type": "code",
   "execution_count": 15,
   "id": "088d29fe",
   "metadata": {
    "execution": {
     "iopub.execute_input": "2022-09-11T21:01:55.204544Z",
     "iopub.status.busy": "2022-09-11T21:01:55.204372Z",
     "iopub.status.idle": "2022-09-11T21:01:55.223228Z",
     "shell.execute_reply": "2022-09-11T21:01:55.222776Z"
    },
    "papermill": {
     "duration": 0.028725,
     "end_time": "2022-09-11T21:01:55.224487",
     "exception": false,
     "start_time": "2022-09-11T21:01:55.195762",
     "status": "completed"
    },
    "tags": []
   },
   "outputs": [
    {
     "data": {
      "text/plain": [
       "295"
      ]
     },
     "metadata": {},
     "output_type": "display_data"
    }
   ],
   "source": [
    "display(len(CLUSTERERS))"
   ]
  },
  {
   "cell_type": "code",
   "execution_count": 16,
   "id": "377df6e8",
   "metadata": {
    "execution": {
     "iopub.execute_input": "2022-09-11T21:01:55.241425Z",
     "iopub.status.busy": "2022-09-11T21:01:55.241255Z",
     "iopub.status.idle": "2022-09-11T21:01:55.261990Z",
     "shell.execute_reply": "2022-09-11T21:01:55.261481Z"
    },
    "papermill": {
     "duration": 0.030762,
     "end_time": "2022-09-11T21:01:55.263316",
     "exception": false,
     "start_time": "2022-09-11T21:01:55.232554",
     "status": "completed"
    },
    "tags": []
   },
   "outputs": [
    {
     "data": {
      "text/plain": [
       "('KMeans #0', KMeans(n_clusters=2, random_state=10000))"
      ]
     },
     "metadata": {},
     "output_type": "display_data"
    },
    {
     "data": {
      "text/plain": [
       "('KMeans #1', KMeans(n_clusters=2, random_state=10001))"
      ]
     },
     "metadata": {},
     "output_type": "display_data"
    }
   ],
   "source": [
    "_iter = iter(CLUSTERERS.items())\n",
    "display(next(_iter))\n",
    "display(next(_iter))"
   ]
  },
  {
   "cell_type": "code",
   "execution_count": 17,
   "id": "98b8c7c7",
   "metadata": {
    "execution": {
     "iopub.execute_input": "2022-09-11T21:01:55.280560Z",
     "iopub.status.busy": "2022-09-11T21:01:55.280327Z",
     "iopub.status.idle": "2022-09-11T21:01:55.299223Z",
     "shell.execute_reply": "2022-09-11T21:01:55.298754Z"
    },
    "papermill": {
     "duration": 0.028971,
     "end_time": "2022-09-11T21:01:55.300560",
     "exception": false,
     "start_time": "2022-09-11T21:01:55.271589",
     "status": "completed"
    },
    "tags": []
   },
   "outputs": [
    {
     "data": {
      "text/plain": [
       "'KMeans'"
      ]
     },
     "metadata": {},
     "output_type": "display_data"
    }
   ],
   "source": [
    "clustering_method_name = method_name\n",
    "display(clustering_method_name)"
   ]
  },
  {
   "cell_type": "markdown",
   "id": "3fa1ee07",
   "metadata": {
    "papermill": {
     "duration": 0.008048,
     "end_time": "2022-09-11T21:01:55.316900",
     "exception": false,
     "start_time": "2022-09-11T21:01:55.308852",
     "status": "completed"
    },
    "tags": []
   },
   "source": [
    "## Output directory"
   ]
  },
  {
   "cell_type": "code",
   "execution_count": 18,
   "id": "d2d66b9d",
   "metadata": {
    "execution": {
     "iopub.execute_input": "2022-09-11T21:01:55.333036Z",
     "iopub.status.busy": "2022-09-11T21:01:55.332817Z",
     "iopub.status.idle": "2022-09-11T21:01:55.351673Z",
     "shell.execute_reply": "2022-09-11T21:01:55.351175Z"
    },
    "papermill": {
     "duration": 0.028399,
     "end_time": "2022-09-11T21:01:55.352890",
     "exception": false,
     "start_time": "2022-09-11T21:01:55.324491",
     "status": "completed"
    },
    "tags": []
   },
   "outputs": [
    {
     "data": {
      "text/plain": [
       "PosixPath('/opt/data/results/clustering/null_sims/runs/pca-z_score_std-projection-smultixcan-efo_partial-mashr-zscores')"
      ]
     },
     "metadata": {},
     "output_type": "display_data"
    }
   ],
   "source": [
    "# output dir for this notebook\n",
    "RESULTS_DIR = Path(\n",
    "    conf.RESULTS[\"CLUSTERING_NULL_DIR\"],\n",
    "    \"runs\",\n",
    "    f\"{INPUT_SUBSET}-{INPUT_STEM}\",\n",
    ").resolve()\n",
    "RESULTS_DIR.mkdir(parents=True, exist_ok=True)\n",
    "\n",
    "display(RESULTS_DIR)"
   ]
  },
  {
   "cell_type": "markdown",
   "id": "fbf76441",
   "metadata": {
    "papermill": {
     "duration": 0.007863,
     "end_time": "2022-09-11T21:01:55.368872",
     "exception": false,
     "start_time": "2022-09-11T21:01:55.361009",
     "status": "completed"
    },
    "tags": []
   },
   "source": [
    "# Load input file"
   ]
  },
  {
   "cell_type": "code",
   "execution_count": 19,
   "id": "85006b99",
   "metadata": {
    "execution": {
     "iopub.execute_input": "2022-09-11T21:01:55.385731Z",
     "iopub.status.busy": "2022-09-11T21:01:55.385522Z",
     "iopub.status.idle": "2022-09-11T21:01:55.405375Z",
     "shell.execute_reply": "2022-09-11T21:01:55.404786Z"
    },
    "papermill": {
     "duration": 0.029991,
     "end_time": "2022-09-11T21:01:55.406815",
     "exception": false,
     "start_time": "2022-09-11T21:01:55.376824",
     "status": "completed"
    },
    "tags": []
   },
   "outputs": [],
   "source": [
    "data = pd.read_pickle(input_filepath)"
   ]
  },
  {
   "cell_type": "code",
   "execution_count": 20,
   "id": "d69519b4",
   "metadata": {
    "execution": {
     "iopub.execute_input": "2022-09-11T21:01:55.423904Z",
     "iopub.status.busy": "2022-09-11T21:01:55.423735Z",
     "iopub.status.idle": "2022-09-11T21:01:55.442280Z",
     "shell.execute_reply": "2022-09-11T21:01:55.441678Z"
    },
    "papermill": {
     "duration": 0.028523,
     "end_time": "2022-09-11T21:01:55.443568",
     "exception": false,
     "start_time": "2022-09-11T21:01:55.415045",
     "status": "completed"
    },
    "tags": []
   },
   "outputs": [
    {
     "data": {
      "text/plain": [
       "(3752, 50)"
      ]
     },
     "execution_count": 20,
     "metadata": {},
     "output_type": "execute_result"
    }
   ],
   "source": [
    "data.shape"
   ]
  },
  {
   "cell_type": "code",
   "execution_count": 21,
   "id": "be5c4d9f",
   "metadata": {
    "execution": {
     "iopub.execute_input": "2022-09-11T21:01:55.460841Z",
     "iopub.status.busy": "2022-09-11T21:01:55.460672Z",
     "iopub.status.idle": "2022-09-11T21:01:55.493028Z",
     "shell.execute_reply": "2022-09-11T21:01:55.492644Z"
    },
    "papermill": {
     "duration": 0.042298,
     "end_time": "2022-09-11T21:01:55.494262",
     "exception": false,
     "start_time": "2022-09-11T21:01:55.451964",
     "status": "completed"
    },
    "tags": []
   },
   "outputs": [
    {
     "data": {
      "text/html": [
       "<div>\n",
       "<style scoped>\n",
       "    .dataframe tbody tr th:only-of-type {\n",
       "        vertical-align: middle;\n",
       "    }\n",
       "\n",
       "    .dataframe tbody tr th {\n",
       "        vertical-align: top;\n",
       "    }\n",
       "\n",
       "    .dataframe thead th {\n",
       "        text-align: right;\n",
       "    }\n",
       "</style>\n",
       "<table border=\"1\" class=\"dataframe\">\n",
       "  <thead>\n",
       "    <tr style=\"text-align: right;\">\n",
       "      <th></th>\n",
       "      <th>PCA1</th>\n",
       "      <th>PCA2</th>\n",
       "      <th>PCA3</th>\n",
       "      <th>PCA4</th>\n",
       "      <th>PCA5</th>\n",
       "      <th>PCA6</th>\n",
       "      <th>PCA7</th>\n",
       "      <th>PCA8</th>\n",
       "      <th>PCA9</th>\n",
       "      <th>PCA10</th>\n",
       "      <th>...</th>\n",
       "      <th>PCA41</th>\n",
       "      <th>PCA42</th>\n",
       "      <th>PCA43</th>\n",
       "      <th>PCA44</th>\n",
       "      <th>PCA45</th>\n",
       "      <th>PCA46</th>\n",
       "      <th>PCA47</th>\n",
       "      <th>PCA48</th>\n",
       "      <th>PCA49</th>\n",
       "      <th>PCA50</th>\n",
       "    </tr>\n",
       "  </thead>\n",
       "  <tbody>\n",
       "    <tr>\n",
       "      <th>100001_raw-Food_weight</th>\n",
       "      <td>0.373237</td>\n",
       "      <td>-0.155188</td>\n",
       "      <td>-1.554390</td>\n",
       "      <td>-0.103733</td>\n",
       "      <td>-1.807074</td>\n",
       "      <td>-0.957108</td>\n",
       "      <td>0.330335</td>\n",
       "      <td>0.638391</td>\n",
       "      <td>0.905023</td>\n",
       "      <td>-0.704551</td>\n",
       "      <td>...</td>\n",
       "      <td>0.161732</td>\n",
       "      <td>0.488682</td>\n",
       "      <td>0.761158</td>\n",
       "      <td>0.667089</td>\n",
       "      <td>-0.078934</td>\n",
       "      <td>0.840971</td>\n",
       "      <td>-0.622958</td>\n",
       "      <td>1.075964</td>\n",
       "      <td>3.244039</td>\n",
       "      <td>-0.933407</td>\n",
       "    </tr>\n",
       "    <tr>\n",
       "      <th>100002_raw-Energy</th>\n",
       "      <td>1.384398</td>\n",
       "      <td>0.511267</td>\n",
       "      <td>-0.273603</td>\n",
       "      <td>-0.074591</td>\n",
       "      <td>-1.151167</td>\n",
       "      <td>-0.069438</td>\n",
       "      <td>1.242634</td>\n",
       "      <td>-0.439543</td>\n",
       "      <td>0.650348</td>\n",
       "      <td>2.456117</td>\n",
       "      <td>...</td>\n",
       "      <td>0.051967</td>\n",
       "      <td>0.993820</td>\n",
       "      <td>-0.166350</td>\n",
       "      <td>1.497041</td>\n",
       "      <td>-0.875754</td>\n",
       "      <td>2.632726</td>\n",
       "      <td>0.613299</td>\n",
       "      <td>0.041232</td>\n",
       "      <td>4.032974</td>\n",
       "      <td>-0.230092</td>\n",
       "    </tr>\n",
       "    <tr>\n",
       "      <th>100003_raw-Protein</th>\n",
       "      <td>-1.247583</td>\n",
       "      <td>2.905641</td>\n",
       "      <td>-1.524196</td>\n",
       "      <td>0.683773</td>\n",
       "      <td>0.766860</td>\n",
       "      <td>-2.478057</td>\n",
       "      <td>-0.201110</td>\n",
       "      <td>1.045590</td>\n",
       "      <td>-0.844712</td>\n",
       "      <td>2.426349</td>\n",
       "      <td>...</td>\n",
       "      <td>0.027646</td>\n",
       "      <td>-1.903636</td>\n",
       "      <td>-0.819195</td>\n",
       "      <td>0.616887</td>\n",
       "      <td>-0.647462</td>\n",
       "      <td>0.170956</td>\n",
       "      <td>2.106036</td>\n",
       "      <td>-2.186258</td>\n",
       "      <td>0.485333</td>\n",
       "      <td>-1.136366</td>\n",
       "    </tr>\n",
       "    <tr>\n",
       "      <th>100004_raw-Fat</th>\n",
       "      <td>-0.695167</td>\n",
       "      <td>0.046286</td>\n",
       "      <td>0.730428</td>\n",
       "      <td>0.240547</td>\n",
       "      <td>1.621534</td>\n",
       "      <td>-1.335187</td>\n",
       "      <td>-1.510894</td>\n",
       "      <td>1.790966</td>\n",
       "      <td>-0.682884</td>\n",
       "      <td>-1.572835</td>\n",
       "      <td>...</td>\n",
       "      <td>-2.997557</td>\n",
       "      <td>-0.489466</td>\n",
       "      <td>0.442809</td>\n",
       "      <td>1.217098</td>\n",
       "      <td>-1.604667</td>\n",
       "      <td>-0.776865</td>\n",
       "      <td>-0.983076</td>\n",
       "      <td>0.080423</td>\n",
       "      <td>2.476131</td>\n",
       "      <td>0.431179</td>\n",
       "    </tr>\n",
       "    <tr>\n",
       "      <th>100005_raw-Carbohydrate</th>\n",
       "      <td>0.770055</td>\n",
       "      <td>-0.499034</td>\n",
       "      <td>0.053157</td>\n",
       "      <td>0.479019</td>\n",
       "      <td>2.048336</td>\n",
       "      <td>0.984552</td>\n",
       "      <td>-0.090767</td>\n",
       "      <td>0.053451</td>\n",
       "      <td>-0.614035</td>\n",
       "      <td>1.304292</td>\n",
       "      <td>...</td>\n",
       "      <td>-0.280231</td>\n",
       "      <td>-0.892308</td>\n",
       "      <td>-0.522105</td>\n",
       "      <td>-0.358232</td>\n",
       "      <td>1.690968</td>\n",
       "      <td>0.049799</td>\n",
       "      <td>-0.633466</td>\n",
       "      <td>-0.812035</td>\n",
       "      <td>0.901284</td>\n",
       "      <td>2.461845</td>\n",
       "    </tr>\n",
       "  </tbody>\n",
       "</table>\n",
       "<p>5 rows × 50 columns</p>\n",
       "</div>"
      ],
      "text/plain": [
       "                             PCA1      PCA2      PCA3      PCA4      PCA5  \\\n",
       "100001_raw-Food_weight   0.373237 -0.155188 -1.554390 -0.103733 -1.807074   \n",
       "100002_raw-Energy        1.384398  0.511267 -0.273603 -0.074591 -1.151167   \n",
       "100003_raw-Protein      -1.247583  2.905641 -1.524196  0.683773  0.766860   \n",
       "100004_raw-Fat          -0.695167  0.046286  0.730428  0.240547  1.621534   \n",
       "100005_raw-Carbohydrate  0.770055 -0.499034  0.053157  0.479019  2.048336   \n",
       "\n",
       "                             PCA6      PCA7      PCA8      PCA9     PCA10  \\\n",
       "100001_raw-Food_weight  -0.957108  0.330335  0.638391  0.905023 -0.704551   \n",
       "100002_raw-Energy       -0.069438  1.242634 -0.439543  0.650348  2.456117   \n",
       "100003_raw-Protein      -2.478057 -0.201110  1.045590 -0.844712  2.426349   \n",
       "100004_raw-Fat          -1.335187 -1.510894  1.790966 -0.682884 -1.572835   \n",
       "100005_raw-Carbohydrate  0.984552 -0.090767  0.053451 -0.614035  1.304292   \n",
       "\n",
       "                         ...     PCA41     PCA42     PCA43     PCA44  \\\n",
       "100001_raw-Food_weight   ...  0.161732  0.488682  0.761158  0.667089   \n",
       "100002_raw-Energy        ...  0.051967  0.993820 -0.166350  1.497041   \n",
       "100003_raw-Protein       ...  0.027646 -1.903636 -0.819195  0.616887   \n",
       "100004_raw-Fat           ... -2.997557 -0.489466  0.442809  1.217098   \n",
       "100005_raw-Carbohydrate  ... -0.280231 -0.892308 -0.522105 -0.358232   \n",
       "\n",
       "                            PCA45     PCA46     PCA47     PCA48     PCA49  \\\n",
       "100001_raw-Food_weight  -0.078934  0.840971 -0.622958  1.075964  3.244039   \n",
       "100002_raw-Energy       -0.875754  2.632726  0.613299  0.041232  4.032974   \n",
       "100003_raw-Protein      -0.647462  0.170956  2.106036 -2.186258  0.485333   \n",
       "100004_raw-Fat          -1.604667 -0.776865 -0.983076  0.080423  2.476131   \n",
       "100005_raw-Carbohydrate  1.690968  0.049799 -0.633466 -0.812035  0.901284   \n",
       "\n",
       "                            PCA50  \n",
       "100001_raw-Food_weight  -0.933407  \n",
       "100002_raw-Energy       -0.230092  \n",
       "100003_raw-Protein      -1.136366  \n",
       "100004_raw-Fat           0.431179  \n",
       "100005_raw-Carbohydrate  2.461845  \n",
       "\n",
       "[5 rows x 50 columns]"
      ]
     },
     "execution_count": 21,
     "metadata": {},
     "output_type": "execute_result"
    }
   ],
   "source": [
    "data.head()"
   ]
  },
  {
   "cell_type": "code",
   "execution_count": 22,
   "id": "9b0d0bcd",
   "metadata": {
    "execution": {
     "iopub.execute_input": "2022-09-11T21:01:55.511576Z",
     "iopub.status.busy": "2022-09-11T21:01:55.511413Z",
     "iopub.status.idle": "2022-09-11T21:01:55.529651Z",
     "shell.execute_reply": "2022-09-11T21:01:55.529024Z"
    },
    "papermill": {
     "duration": 0.028491,
     "end_time": "2022-09-11T21:01:55.531126",
     "exception": false,
     "start_time": "2022-09-11T21:01:55.502635",
     "status": "completed"
    },
    "tags": []
   },
   "outputs": [],
   "source": [
    "assert not data.isna().any().any()"
   ]
  },
  {
   "cell_type": "markdown",
   "id": "65f9120b",
   "metadata": {
    "papermill": {
     "duration": 0.008012,
     "end_time": "2022-09-11T21:01:55.547647",
     "exception": false,
     "start_time": "2022-09-11T21:01:55.539635",
     "status": "completed"
    },
    "tags": []
   },
   "source": [
    "# Clustering"
   ]
  },
  {
   "cell_type": "markdown",
   "id": "2bbb49c1",
   "metadata": {
    "papermill": {
     "duration": 0.00745,
     "end_time": "2022-09-11T21:01:55.562906",
     "exception": false,
     "start_time": "2022-09-11T21:01:55.555456",
     "status": "completed"
    },
    "tags": []
   },
   "source": [
    "## Generate ensemble"
   ]
  },
  {
   "cell_type": "code",
   "execution_count": 23,
   "id": "9146201c",
   "metadata": {
    "execution": {
     "iopub.execute_input": "2022-09-11T21:01:55.580129Z",
     "iopub.status.busy": "2022-09-11T21:01:55.579308Z",
     "iopub.status.idle": "2022-09-11T21:01:55.600420Z",
     "shell.execute_reply": "2022-09-11T21:01:55.599872Z"
    },
    "papermill": {
     "duration": 0.030766,
     "end_time": "2022-09-11T21:01:55.601756",
     "exception": false,
     "start_time": "2022-09-11T21:01:55.570990",
     "status": "completed"
    },
    "tags": []
   },
   "outputs": [],
   "source": [
    "from clustering.ensembles.utils import generate_ensemble"
   ]
  },
  {
   "cell_type": "code",
   "execution_count": 24,
   "id": "e9959143",
   "metadata": {
    "execution": {
     "iopub.execute_input": "2022-09-11T21:01:55.619283Z",
     "iopub.status.busy": "2022-09-11T21:01:55.619102Z",
     "iopub.status.idle": "2022-09-11T21:07:38.573224Z",
     "shell.execute_reply": "2022-09-11T21:07:38.572511Z"
    },
    "papermill": {
     "duration": 342.964883,
     "end_time": "2022-09-11T21:07:38.575232",
     "exception": false,
     "start_time": "2022-09-11T21:01:55.610349",
     "status": "completed"
    },
    "tags": []
   },
   "outputs": [
    {
     "name": "stderr",
     "output_type": "stream",
     "text": [
      "100%|██████████| 295/295 [05:42<00:00,  1.16s/it]\n"
     ]
    }
   ],
   "source": [
    "ensemble = generate_ensemble(\n",
    "    data,\n",
    "    CLUSTERERS,\n",
    "    attributes=CLUSTERING_ATTRIBUTES_TO_SAVE,\n",
    ")"
   ]
  },
  {
   "cell_type": "code",
   "execution_count": 25,
   "id": "fd5e787c",
   "metadata": {
    "execution": {
     "iopub.execute_input": "2022-09-11T21:07:38.613257Z",
     "iopub.status.busy": "2022-09-11T21:07:38.612635Z",
     "iopub.status.idle": "2022-09-11T21:07:38.631130Z",
     "shell.execute_reply": "2022-09-11T21:07:38.630645Z"
    },
    "papermill": {
     "duration": 0.038083,
     "end_time": "2022-09-11T21:07:38.632445",
     "exception": false,
     "start_time": "2022-09-11T21:07:38.594362",
     "status": "completed"
    },
    "tags": []
   },
   "outputs": [
    {
     "data": {
      "text/plain": [
       "(295, 3)"
      ]
     },
     "execution_count": 25,
     "metadata": {},
     "output_type": "execute_result"
    }
   ],
   "source": [
    "# the number should be close to 295 (the number of partitions generated by k-means/spectral clustering)\n",
    "ensemble.shape"
   ]
  },
  {
   "cell_type": "code",
   "execution_count": 26,
   "id": "c839ebe8",
   "metadata": {
    "execution": {
     "iopub.execute_input": "2022-09-11T21:07:38.671078Z",
     "iopub.status.busy": "2022-09-11T21:07:38.670899Z",
     "iopub.status.idle": "2022-09-11T21:07:38.698242Z",
     "shell.execute_reply": "2022-09-11T21:07:38.697665Z"
    },
    "papermill": {
     "duration": 0.049099,
     "end_time": "2022-09-11T21:07:38.699652",
     "exception": false,
     "start_time": "2022-09-11T21:07:38.650553",
     "status": "completed"
    },
    "tags": []
   },
   "outputs": [
    {
     "data": {
      "text/html": [
       "<div>\n",
       "<style scoped>\n",
       "    .dataframe tbody tr th:only-of-type {\n",
       "        vertical-align: middle;\n",
       "    }\n",
       "\n",
       "    .dataframe tbody tr th {\n",
       "        vertical-align: top;\n",
       "    }\n",
       "\n",
       "    .dataframe thead th {\n",
       "        text-align: right;\n",
       "    }\n",
       "</style>\n",
       "<table border=\"1\" class=\"dataframe\">\n",
       "  <thead>\n",
       "    <tr style=\"text-align: right;\">\n",
       "      <th></th>\n",
       "      <th>clusterer_params</th>\n",
       "      <th>partition</th>\n",
       "      <th>n_clusters</th>\n",
       "    </tr>\n",
       "    <tr>\n",
       "      <th>clusterer_id</th>\n",
       "      <th></th>\n",
       "      <th></th>\n",
       "      <th></th>\n",
       "    </tr>\n",
       "  </thead>\n",
       "  <tbody>\n",
       "    <tr>\n",
       "      <th>KMeans #0</th>\n",
       "      <td>{'algorithm': 'auto', 'copy_x': True, 'init': ...</td>\n",
       "      <td>[1.0, 0.0, 1.0, 0.0, 0.0, 1.0, 0.0, 1.0, 1.0, ...</td>\n",
       "      <td>2</td>\n",
       "    </tr>\n",
       "    <tr>\n",
       "      <th>KMeans #1</th>\n",
       "      <td>{'algorithm': 'auto', 'copy_x': True, 'init': ...</td>\n",
       "      <td>[0.0, 1.0, 1.0, 0.0, 1.0, 1.0, 1.0, 0.0, 0.0, ...</td>\n",
       "      <td>2</td>\n",
       "    </tr>\n",
       "    <tr>\n",
       "      <th>KMeans #2</th>\n",
       "      <td>{'algorithm': 'auto', 'copy_x': True, 'init': ...</td>\n",
       "      <td>[0.0, 0.0, 1.0, 1.0, 0.0, 0.0, 1.0, 1.0, 0.0, ...</td>\n",
       "      <td>2</td>\n",
       "    </tr>\n",
       "    <tr>\n",
       "      <th>KMeans #3</th>\n",
       "      <td>{'algorithm': 'auto', 'copy_x': True, 'init': ...</td>\n",
       "      <td>[0.0, 0.0, 0.0, 0.0, 1.0, 0.0, 1.0, 0.0, 0.0, ...</td>\n",
       "      <td>2</td>\n",
       "    </tr>\n",
       "    <tr>\n",
       "      <th>KMeans #4</th>\n",
       "      <td>{'algorithm': 'auto', 'copy_x': True, 'init': ...</td>\n",
       "      <td>[1.0, 0.0, 1.0, 1.0, 0.0, 1.0, 0.0, 1.0, 1.0, ...</td>\n",
       "      <td>2</td>\n",
       "    </tr>\n",
       "  </tbody>\n",
       "</table>\n",
       "</div>"
      ],
      "text/plain": [
       "                                               clusterer_params  \\\n",
       "clusterer_id                                                      \n",
       "KMeans #0     {'algorithm': 'auto', 'copy_x': True, 'init': ...   \n",
       "KMeans #1     {'algorithm': 'auto', 'copy_x': True, 'init': ...   \n",
       "KMeans #2     {'algorithm': 'auto', 'copy_x': True, 'init': ...   \n",
       "KMeans #3     {'algorithm': 'auto', 'copy_x': True, 'init': ...   \n",
       "KMeans #4     {'algorithm': 'auto', 'copy_x': True, 'init': ...   \n",
       "\n",
       "                                                      partition  n_clusters  \n",
       "clusterer_id                                                                 \n",
       "KMeans #0     [1.0, 0.0, 1.0, 0.0, 0.0, 1.0, 0.0, 1.0, 1.0, ...           2  \n",
       "KMeans #1     [0.0, 1.0, 1.0, 0.0, 1.0, 1.0, 1.0, 0.0, 0.0, ...           2  \n",
       "KMeans #2     [0.0, 0.0, 1.0, 1.0, 0.0, 0.0, 1.0, 1.0, 0.0, ...           2  \n",
       "KMeans #3     [0.0, 0.0, 0.0, 0.0, 1.0, 0.0, 1.0, 0.0, 0.0, ...           2  \n",
       "KMeans #4     [1.0, 0.0, 1.0, 1.0, 0.0, 1.0, 0.0, 1.0, 1.0, ...           2  "
      ]
     },
     "execution_count": 26,
     "metadata": {},
     "output_type": "execute_result"
    }
   ],
   "source": [
    "ensemble.head()"
   ]
  },
  {
   "cell_type": "code",
   "execution_count": 27,
   "id": "a2475d87",
   "metadata": {
    "execution": {
     "iopub.execute_input": "2022-09-11T21:07:38.739204Z",
     "iopub.status.busy": "2022-09-11T21:07:38.738569Z",
     "iopub.status.idle": "2022-09-11T21:07:38.758555Z",
     "shell.execute_reply": "2022-09-11T21:07:38.758060Z"
    },
    "papermill": {
     "duration": 0.040205,
     "end_time": "2022-09-11T21:07:38.759833",
     "exception": false,
     "start_time": "2022-09-11T21:07:38.719628",
     "status": "completed"
    },
    "tags": []
   },
   "outputs": [
    {
     "data": {
      "text/plain": [
       "60    5\n",
       "16    5\n",
       "28    5\n",
       "27    5\n",
       "26    5\n",
       "Name: n_clusters, dtype: int64"
      ]
     },
     "execution_count": 27,
     "metadata": {},
     "output_type": "execute_result"
    }
   ],
   "source": [
    "ensemble[\"n_clusters\"].value_counts().head()"
   ]
  },
  {
   "cell_type": "code",
   "execution_count": 28,
   "id": "a72c16b4",
   "metadata": {
    "execution": {
     "iopub.execute_input": "2022-09-11T21:07:38.797124Z",
     "iopub.status.busy": "2022-09-11T21:07:38.796884Z",
     "iopub.status.idle": "2022-09-11T21:07:38.817414Z",
     "shell.execute_reply": "2022-09-11T21:07:38.816944Z"
    },
    "papermill": {
     "duration": 0.039924,
     "end_time": "2022-09-11T21:07:38.818732",
     "exception": false,
     "start_time": "2022-09-11T21:07:38.778808",
     "status": "completed"
    },
    "tags": []
   },
   "outputs": [
    {
     "data": {
      "text/plain": [
       "count    295.000000\n",
       "mean      31.000000\n",
       "std       17.058323\n",
       "min        2.000000\n",
       "25%       16.000000\n",
       "50%       31.000000\n",
       "75%       46.000000\n",
       "max       60.000000\n",
       "Name: n_clusters, dtype: float64"
      ]
     },
     "metadata": {},
     "output_type": "display_data"
    }
   ],
   "source": [
    "ensemble_stats = ensemble[\"n_clusters\"].describe()\n",
    "display(ensemble_stats)"
   ]
  },
  {
   "cell_type": "markdown",
   "id": "9b65c295",
   "metadata": {
    "papermill": {
     "duration": 0.017941,
     "end_time": "2022-09-11T21:07:38.855330",
     "exception": false,
     "start_time": "2022-09-11T21:07:38.837389",
     "status": "completed"
    },
    "tags": []
   },
   "source": [
    "## Testing"
   ]
  },
  {
   "cell_type": "code",
   "execution_count": 29,
   "id": "fdac9c23",
   "metadata": {
    "execution": {
     "iopub.execute_input": "2022-09-11T21:07:38.891048Z",
     "iopub.status.busy": "2022-09-11T21:07:38.890835Z",
     "iopub.status.idle": "2022-09-11T21:07:38.908745Z",
     "shell.execute_reply": "2022-09-11T21:07:38.908117Z"
    },
    "papermill": {
     "duration": 0.037409,
     "end_time": "2022-09-11T21:07:38.910092",
     "exception": false,
     "start_time": "2022-09-11T21:07:38.872683",
     "status": "completed"
    },
    "tags": []
   },
   "outputs": [],
   "source": [
    "assert ensemble_stats[\"min\"] > 1"
   ]
  },
  {
   "cell_type": "code",
   "execution_count": 30,
   "id": "198b7396",
   "metadata": {
    "execution": {
     "iopub.execute_input": "2022-09-11T21:07:38.947903Z",
     "iopub.status.busy": "2022-09-11T21:07:38.947689Z",
     "iopub.status.idle": "2022-09-11T21:07:38.966176Z",
     "shell.execute_reply": "2022-09-11T21:07:38.965472Z"
    },
    "papermill": {
     "duration": 0.038971,
     "end_time": "2022-09-11T21:07:38.967596",
     "exception": false,
     "start_time": "2022-09-11T21:07:38.928625",
     "status": "completed"
    },
    "tags": []
   },
   "outputs": [],
   "source": [
    "assert not ensemble[\"n_clusters\"].isna().any()"
   ]
  },
  {
   "cell_type": "code",
   "execution_count": 31,
   "id": "d6710aa4",
   "metadata": {
    "execution": {
     "iopub.execute_input": "2022-09-11T21:07:39.004396Z",
     "iopub.status.busy": "2022-09-11T21:07:39.004185Z",
     "iopub.status.idle": "2022-09-11T21:07:39.021688Z",
     "shell.execute_reply": "2022-09-11T21:07:39.021140Z"
    },
    "papermill": {
     "duration": 0.037174,
     "end_time": "2022-09-11T21:07:39.023083",
     "exception": false,
     "start_time": "2022-09-11T21:07:38.985909",
     "status": "completed"
    },
    "tags": []
   },
   "outputs": [],
   "source": [
    "assert ensemble.shape[0] == len(CLUSTERERS)"
   ]
  },
  {
   "cell_type": "code",
   "execution_count": 32,
   "id": "e1cb24aa",
   "metadata": {
    "execution": {
     "iopub.execute_input": "2022-09-11T21:07:39.060559Z",
     "iopub.status.busy": "2022-09-11T21:07:39.060347Z",
     "iopub.status.idle": "2022-09-11T21:07:39.095478Z",
     "shell.execute_reply": "2022-09-11T21:07:39.094959Z"
    },
    "papermill": {
     "duration": 0.05528,
     "end_time": "2022-09-11T21:07:39.096948",
     "exception": false,
     "start_time": "2022-09-11T21:07:39.041668",
     "status": "completed"
    },
    "tags": []
   },
   "outputs": [],
   "source": [
    "# all partitions have the right size\n",
    "assert np.all(\n",
    "    [part[\"partition\"].shape[0] == data.shape[0] for idx, part in ensemble.iterrows()]\n",
    ")"
   ]
  },
  {
   "cell_type": "code",
   "execution_count": 33,
   "id": "216b0629",
   "metadata": {
    "execution": {
     "iopub.execute_input": "2022-09-11T21:07:39.134016Z",
     "iopub.status.busy": "2022-09-11T21:07:39.133805Z",
     "iopub.status.idle": "2022-09-11T21:07:39.172109Z",
     "shell.execute_reply": "2022-09-11T21:07:39.171479Z"
    },
    "papermill": {
     "duration": 0.058352,
     "end_time": "2022-09-11T21:07:39.173662",
     "exception": false,
     "start_time": "2022-09-11T21:07:39.115310",
     "status": "completed"
    },
    "tags": []
   },
   "outputs": [],
   "source": [
    "# no partition has negative clusters (noisy points)\n",
    "assert not np.any([(part[\"partition\"] < 0).any() for idx, part in ensemble.iterrows()])"
   ]
  },
  {
   "cell_type": "markdown",
   "id": "499154ca",
   "metadata": {
    "papermill": {
     "duration": 0.01761,
     "end_time": "2022-09-11T21:07:39.209137",
     "exception": false,
     "start_time": "2022-09-11T21:07:39.191527",
     "status": "completed"
    },
    "tags": []
   },
   "source": [
    "## Add clustering quality measures"
   ]
  },
  {
   "cell_type": "code",
   "execution_count": 34,
   "id": "c36107cb",
   "metadata": {
    "execution": {
     "iopub.execute_input": "2022-09-11T21:07:39.245038Z",
     "iopub.status.busy": "2022-09-11T21:07:39.244831Z",
     "iopub.status.idle": "2022-09-11T21:07:39.262453Z",
     "shell.execute_reply": "2022-09-11T21:07:39.261990Z"
    },
    "papermill": {
     "duration": 0.037265,
     "end_time": "2022-09-11T21:07:39.263825",
     "exception": false,
     "start_time": "2022-09-11T21:07:39.226560",
     "status": "completed"
    },
    "tags": []
   },
   "outputs": [],
   "source": [
    "from sklearn.metrics import calinski_harabasz_score"
   ]
  },
  {
   "cell_type": "code",
   "execution_count": 35,
   "id": "bb66ab4c",
   "metadata": {
    "execution": {
     "iopub.execute_input": "2022-09-11T21:07:39.300990Z",
     "iopub.status.busy": "2022-09-11T21:07:39.300778Z",
     "iopub.status.idle": "2022-09-11T21:07:40.280479Z",
     "shell.execute_reply": "2022-09-11T21:07:40.279898Z"
    },
    "papermill": {
     "duration": 0.999774,
     "end_time": "2022-09-11T21:07:40.282190",
     "exception": false,
     "start_time": "2022-09-11T21:07:39.282416",
     "status": "completed"
    },
    "tags": []
   },
   "outputs": [],
   "source": [
    "ensemble = ensemble.assign(\n",
    "    ch_score=ensemble[\"partition\"].apply(lambda x: calinski_harabasz_score(data, x))\n",
    ")"
   ]
  },
  {
   "cell_type": "code",
   "execution_count": 36,
   "id": "7df25ca8",
   "metadata": {
    "execution": {
     "iopub.execute_input": "2022-09-11T21:07:40.319237Z",
     "iopub.status.busy": "2022-09-11T21:07:40.319009Z",
     "iopub.status.idle": "2022-09-11T21:07:40.337446Z",
     "shell.execute_reply": "2022-09-11T21:07:40.336974Z"
    },
    "papermill": {
     "duration": 0.038361,
     "end_time": "2022-09-11T21:07:40.338642",
     "exception": false,
     "start_time": "2022-09-11T21:07:40.300281",
     "status": "completed"
    },
    "tags": []
   },
   "outputs": [
    {
     "data": {
      "text/plain": [
       "(295, 4)"
      ]
     },
     "execution_count": 36,
     "metadata": {},
     "output_type": "execute_result"
    }
   ],
   "source": [
    "ensemble.shape"
   ]
  },
  {
   "cell_type": "code",
   "execution_count": 37,
   "id": "7de636fe",
   "metadata": {
    "execution": {
     "iopub.execute_input": "2022-09-11T21:07:40.376641Z",
     "iopub.status.busy": "2022-09-11T21:07:40.375905Z",
     "iopub.status.idle": "2022-09-11T21:07:40.402268Z",
     "shell.execute_reply": "2022-09-11T21:07:40.401775Z"
    },
    "papermill": {
     "duration": 0.046076,
     "end_time": "2022-09-11T21:07:40.403539",
     "exception": false,
     "start_time": "2022-09-11T21:07:40.357463",
     "status": "completed"
    },
    "tags": []
   },
   "outputs": [
    {
     "data": {
      "text/html": [
       "<div>\n",
       "<style scoped>\n",
       "    .dataframe tbody tr th:only-of-type {\n",
       "        vertical-align: middle;\n",
       "    }\n",
       "\n",
       "    .dataframe tbody tr th {\n",
       "        vertical-align: top;\n",
       "    }\n",
       "\n",
       "    .dataframe thead th {\n",
       "        text-align: right;\n",
       "    }\n",
       "</style>\n",
       "<table border=\"1\" class=\"dataframe\">\n",
       "  <thead>\n",
       "    <tr style=\"text-align: right;\">\n",
       "      <th></th>\n",
       "      <th>clusterer_params</th>\n",
       "      <th>partition</th>\n",
       "      <th>n_clusters</th>\n",
       "      <th>ch_score</th>\n",
       "    </tr>\n",
       "    <tr>\n",
       "      <th>clusterer_id</th>\n",
       "      <th></th>\n",
       "      <th></th>\n",
       "      <th></th>\n",
       "      <th></th>\n",
       "    </tr>\n",
       "  </thead>\n",
       "  <tbody>\n",
       "    <tr>\n",
       "      <th>KMeans #0</th>\n",
       "      <td>{'algorithm': 'auto', 'copy_x': True, 'init': ...</td>\n",
       "      <td>[1.0, 0.0, 1.0, 0.0, 0.0, 1.0, 0.0, 1.0, 1.0, ...</td>\n",
       "      <td>2</td>\n",
       "      <td>51.585641</td>\n",
       "    </tr>\n",
       "    <tr>\n",
       "      <th>KMeans #1</th>\n",
       "      <td>{'algorithm': 'auto', 'copy_x': True, 'init': ...</td>\n",
       "      <td>[0.0, 1.0, 1.0, 0.0, 1.0, 1.0, 1.0, 0.0, 0.0, ...</td>\n",
       "      <td>2</td>\n",
       "      <td>51.397792</td>\n",
       "    </tr>\n",
       "    <tr>\n",
       "      <th>KMeans #2</th>\n",
       "      <td>{'algorithm': 'auto', 'copy_x': True, 'init': ...</td>\n",
       "      <td>[0.0, 0.0, 1.0, 1.0, 0.0, 0.0, 1.0, 1.0, 0.0, ...</td>\n",
       "      <td>2</td>\n",
       "      <td>52.520326</td>\n",
       "    </tr>\n",
       "    <tr>\n",
       "      <th>KMeans #3</th>\n",
       "      <td>{'algorithm': 'auto', 'copy_x': True, 'init': ...</td>\n",
       "      <td>[0.0, 0.0, 0.0, 0.0, 1.0, 0.0, 1.0, 0.0, 0.0, ...</td>\n",
       "      <td>2</td>\n",
       "      <td>52.102722</td>\n",
       "    </tr>\n",
       "    <tr>\n",
       "      <th>KMeans #4</th>\n",
       "      <td>{'algorithm': 'auto', 'copy_x': True, 'init': ...</td>\n",
       "      <td>[1.0, 0.0, 1.0, 1.0, 0.0, 1.0, 0.0, 1.0, 1.0, ...</td>\n",
       "      <td>2</td>\n",
       "      <td>51.950955</td>\n",
       "    </tr>\n",
       "  </tbody>\n",
       "</table>\n",
       "</div>"
      ],
      "text/plain": [
       "                                               clusterer_params  \\\n",
       "clusterer_id                                                      \n",
       "KMeans #0     {'algorithm': 'auto', 'copy_x': True, 'init': ...   \n",
       "KMeans #1     {'algorithm': 'auto', 'copy_x': True, 'init': ...   \n",
       "KMeans #2     {'algorithm': 'auto', 'copy_x': True, 'init': ...   \n",
       "KMeans #3     {'algorithm': 'auto', 'copy_x': True, 'init': ...   \n",
       "KMeans #4     {'algorithm': 'auto', 'copy_x': True, 'init': ...   \n",
       "\n",
       "                                                      partition  n_clusters  \\\n",
       "clusterer_id                                                                  \n",
       "KMeans #0     [1.0, 0.0, 1.0, 0.0, 0.0, 1.0, 0.0, 1.0, 1.0, ...           2   \n",
       "KMeans #1     [0.0, 1.0, 1.0, 0.0, 1.0, 1.0, 1.0, 0.0, 0.0, ...           2   \n",
       "KMeans #2     [0.0, 0.0, 1.0, 1.0, 0.0, 0.0, 1.0, 1.0, 0.0, ...           2   \n",
       "KMeans #3     [0.0, 0.0, 0.0, 0.0, 1.0, 0.0, 1.0, 0.0, 0.0, ...           2   \n",
       "KMeans #4     [1.0, 0.0, 1.0, 1.0, 0.0, 1.0, 0.0, 1.0, 1.0, ...           2   \n",
       "\n",
       "               ch_score  \n",
       "clusterer_id             \n",
       "KMeans #0     51.585641  \n",
       "KMeans #1     51.397792  \n",
       "KMeans #2     52.520326  \n",
       "KMeans #3     52.102722  \n",
       "KMeans #4     51.950955  "
      ]
     },
     "execution_count": 37,
     "metadata": {},
     "output_type": "execute_result"
    }
   ],
   "source": [
    "ensemble.head()"
   ]
  },
  {
   "cell_type": "markdown",
   "id": "63bef39c",
   "metadata": {
    "papermill": {
     "duration": 0.017734,
     "end_time": "2022-09-11T21:07:40.440261",
     "exception": false,
     "start_time": "2022-09-11T21:07:40.422527",
     "status": "completed"
    },
    "tags": []
   },
   "source": [
    "## Save"
   ]
  },
  {
   "cell_type": "code",
   "execution_count": 38,
   "id": "219dec0f",
   "metadata": {
    "execution": {
     "iopub.execute_input": "2022-09-11T21:07:40.476850Z",
     "iopub.status.busy": "2022-09-11T21:07:40.476631Z",
     "iopub.status.idle": "2022-09-11T21:07:40.495719Z",
     "shell.execute_reply": "2022-09-11T21:07:40.495162Z"
    },
    "papermill": {
     "duration": 0.038821,
     "end_time": "2022-09-11T21:07:40.497008",
     "exception": false,
     "start_time": "2022-09-11T21:07:40.458187",
     "status": "completed"
    },
    "tags": []
   },
   "outputs": [
    {
     "data": {
      "text/plain": [
       "PosixPath('/opt/data/results/clustering/null_sims/runs/pca-z_score_std-projection-smultixcan-efo_partial-mashr-zscores/KMeans-KMEANS_N_INIT_10-K_MAX_60-K_MIN_2-N_REPS_PER_K_5.pkl')"
      ]
     },
     "metadata": {},
     "output_type": "display_data"
    }
   ],
   "source": [
    "output_filename = Path(\n",
    "    RESULTS_DIR,\n",
    "    generate_result_set_name(\n",
    "        CLUSTERING_OPTIONS,\n",
    "        prefix=f\"{clustering_method_name}-\",\n",
    "        suffix=\".pkl\",\n",
    "    ),\n",
    ").resolve()\n",
    "display(output_filename)"
   ]
  },
  {
   "cell_type": "code",
   "execution_count": 39,
   "id": "912a8627",
   "metadata": {
    "execution": {
     "iopub.execute_input": "2022-09-11T21:07:40.534733Z",
     "iopub.status.busy": "2022-09-11T21:07:40.534507Z",
     "iopub.status.idle": "2022-09-11T21:07:40.566216Z",
     "shell.execute_reply": "2022-09-11T21:07:40.565575Z"
    },
    "papermill": {
     "duration": 0.051847,
     "end_time": "2022-09-11T21:07:40.567673",
     "exception": false,
     "start_time": "2022-09-11T21:07:40.515826",
     "status": "completed"
    },
    "tags": []
   },
   "outputs": [],
   "source": [
    "ensemble.to_pickle(output_filename)"
   ]
  },
  {
   "cell_type": "markdown",
   "id": "46fbc530",
   "metadata": {
    "papermill": {
     "duration": 0.018912,
     "end_time": "2022-09-11T21:07:40.606906",
     "exception": false,
     "start_time": "2022-09-11T21:07:40.587994",
     "status": "completed"
    },
    "tags": []
   },
   "source": [
    "# Cluster quality"
   ]
  },
  {
   "cell_type": "code",
   "execution_count": 40,
   "id": "fd1115b0",
   "metadata": {
    "execution": {
     "iopub.execute_input": "2022-09-11T21:07:40.643927Z",
     "iopub.status.busy": "2022-09-11T21:07:40.643690Z",
     "iopub.status.idle": "2022-09-11T21:07:40.667377Z",
     "shell.execute_reply": "2022-09-11T21:07:40.666875Z"
    },
    "papermill": {
     "duration": 0.043631,
     "end_time": "2022-09-11T21:07:40.668657",
     "exception": false,
     "start_time": "2022-09-11T21:07:40.625026",
     "status": "completed"
    },
    "tags": []
   },
   "outputs": [
    {
     "data": {
      "text/html": [
       "<div>\n",
       "<style scoped>\n",
       "    .dataframe tbody tr th:only-of-type {\n",
       "        vertical-align: middle;\n",
       "    }\n",
       "\n",
       "    .dataframe tbody tr th {\n",
       "        vertical-align: top;\n",
       "    }\n",
       "\n",
       "    .dataframe thead th {\n",
       "        text-align: right;\n",
       "    }\n",
       "</style>\n",
       "<table border=\"1\" class=\"dataframe\">\n",
       "  <thead>\n",
       "    <tr style=\"text-align: right;\">\n",
       "      <th></th>\n",
       "      <th>ch_score</th>\n",
       "    </tr>\n",
       "    <tr>\n",
       "      <th>n_clusters</th>\n",
       "      <th></th>\n",
       "    </tr>\n",
       "  </thead>\n",
       "  <tbody>\n",
       "    <tr>\n",
       "      <th>2</th>\n",
       "      <td>51.911487</td>\n",
       "    </tr>\n",
       "    <tr>\n",
       "      <th>3</th>\n",
       "      <td>45.066327</td>\n",
       "    </tr>\n",
       "    <tr>\n",
       "      <th>4</th>\n",
       "      <td>40.420909</td>\n",
       "    </tr>\n",
       "    <tr>\n",
       "      <th>5</th>\n",
       "      <td>36.859212</td>\n",
       "    </tr>\n",
       "    <tr>\n",
       "      <th>6</th>\n",
       "      <td>34.142365</td>\n",
       "    </tr>\n",
       "    <tr>\n",
       "      <th>7</th>\n",
       "      <td>32.309692</td>\n",
       "    </tr>\n",
       "    <tr>\n",
       "      <th>8</th>\n",
       "      <td>31.072469</td>\n",
       "    </tr>\n",
       "    <tr>\n",
       "      <th>9</th>\n",
       "      <td>30.554150</td>\n",
       "    </tr>\n",
       "    <tr>\n",
       "      <th>10</th>\n",
       "      <td>28.983548</td>\n",
       "    </tr>\n",
       "    <tr>\n",
       "      <th>11</th>\n",
       "      <td>27.596323</td>\n",
       "    </tr>\n",
       "    <tr>\n",
       "      <th>12</th>\n",
       "      <td>25.914428</td>\n",
       "    </tr>\n",
       "    <tr>\n",
       "      <th>13</th>\n",
       "      <td>25.879570</td>\n",
       "    </tr>\n",
       "    <tr>\n",
       "      <th>14</th>\n",
       "      <td>25.490317</td>\n",
       "    </tr>\n",
       "    <tr>\n",
       "      <th>15</th>\n",
       "      <td>24.771707</td>\n",
       "    </tr>\n",
       "    <tr>\n",
       "      <th>16</th>\n",
       "      <td>24.072927</td>\n",
       "    </tr>\n",
       "    <tr>\n",
       "      <th>17</th>\n",
       "      <td>23.373508</td>\n",
       "    </tr>\n",
       "    <tr>\n",
       "      <th>18</th>\n",
       "      <td>23.076763</td>\n",
       "    </tr>\n",
       "    <tr>\n",
       "      <th>19</th>\n",
       "      <td>22.380012</td>\n",
       "    </tr>\n",
       "    <tr>\n",
       "      <th>20</th>\n",
       "      <td>22.247540</td>\n",
       "    </tr>\n",
       "    <tr>\n",
       "      <th>21</th>\n",
       "      <td>22.056731</td>\n",
       "    </tr>\n",
       "    <tr>\n",
       "      <th>22</th>\n",
       "      <td>21.391427</td>\n",
       "    </tr>\n",
       "    <tr>\n",
       "      <th>23</th>\n",
       "      <td>21.276652</td>\n",
       "    </tr>\n",
       "    <tr>\n",
       "      <th>24</th>\n",
       "      <td>20.688245</td>\n",
       "    </tr>\n",
       "    <tr>\n",
       "      <th>25</th>\n",
       "      <td>20.524638</td>\n",
       "    </tr>\n",
       "    <tr>\n",
       "      <th>26</th>\n",
       "      <td>20.222092</td>\n",
       "    </tr>\n",
       "    <tr>\n",
       "      <th>27</th>\n",
       "      <td>19.726119</td>\n",
       "    </tr>\n",
       "    <tr>\n",
       "      <th>28</th>\n",
       "      <td>19.754512</td>\n",
       "    </tr>\n",
       "    <tr>\n",
       "      <th>29</th>\n",
       "      <td>19.488059</td>\n",
       "    </tr>\n",
       "    <tr>\n",
       "      <th>30</th>\n",
       "      <td>19.024376</td>\n",
       "    </tr>\n",
       "    <tr>\n",
       "      <th>31</th>\n",
       "      <td>18.964213</td>\n",
       "    </tr>\n",
       "    <tr>\n",
       "      <th>32</th>\n",
       "      <td>18.497421</td>\n",
       "    </tr>\n",
       "    <tr>\n",
       "      <th>33</th>\n",
       "      <td>18.214183</td>\n",
       "    </tr>\n",
       "    <tr>\n",
       "      <th>34</th>\n",
       "      <td>18.365100</td>\n",
       "    </tr>\n",
       "    <tr>\n",
       "      <th>35</th>\n",
       "      <td>17.762487</td>\n",
       "    </tr>\n",
       "    <tr>\n",
       "      <th>36</th>\n",
       "      <td>17.526559</td>\n",
       "    </tr>\n",
       "    <tr>\n",
       "      <th>37</th>\n",
       "      <td>17.844692</td>\n",
       "    </tr>\n",
       "    <tr>\n",
       "      <th>38</th>\n",
       "      <td>17.394999</td>\n",
       "    </tr>\n",
       "    <tr>\n",
       "      <th>39</th>\n",
       "      <td>17.456917</td>\n",
       "    </tr>\n",
       "    <tr>\n",
       "      <th>40</th>\n",
       "      <td>17.242714</td>\n",
       "    </tr>\n",
       "    <tr>\n",
       "      <th>41</th>\n",
       "      <td>16.780721</td>\n",
       "    </tr>\n",
       "    <tr>\n",
       "      <th>42</th>\n",
       "      <td>16.774637</td>\n",
       "    </tr>\n",
       "    <tr>\n",
       "      <th>43</th>\n",
       "      <td>16.556749</td>\n",
       "    </tr>\n",
       "    <tr>\n",
       "      <th>44</th>\n",
       "      <td>16.454340</td>\n",
       "    </tr>\n",
       "    <tr>\n",
       "      <th>45</th>\n",
       "      <td>16.523574</td>\n",
       "    </tr>\n",
       "    <tr>\n",
       "      <th>46</th>\n",
       "      <td>15.979661</td>\n",
       "    </tr>\n",
       "    <tr>\n",
       "      <th>47</th>\n",
       "      <td>16.252737</td>\n",
       "    </tr>\n",
       "    <tr>\n",
       "      <th>48</th>\n",
       "      <td>15.634763</td>\n",
       "    </tr>\n",
       "    <tr>\n",
       "      <th>49</th>\n",
       "      <td>15.300725</td>\n",
       "    </tr>\n",
       "    <tr>\n",
       "      <th>50</th>\n",
       "      <td>15.806707</td>\n",
       "    </tr>\n",
       "    <tr>\n",
       "      <th>51</th>\n",
       "      <td>15.541274</td>\n",
       "    </tr>\n",
       "    <tr>\n",
       "      <th>52</th>\n",
       "      <td>15.463181</td>\n",
       "    </tr>\n",
       "    <tr>\n",
       "      <th>53</th>\n",
       "      <td>15.306667</td>\n",
       "    </tr>\n",
       "    <tr>\n",
       "      <th>54</th>\n",
       "      <td>15.007201</td>\n",
       "    </tr>\n",
       "    <tr>\n",
       "      <th>55</th>\n",
       "      <td>15.201677</td>\n",
       "    </tr>\n",
       "    <tr>\n",
       "      <th>56</th>\n",
       "      <td>14.823501</td>\n",
       "    </tr>\n",
       "    <tr>\n",
       "      <th>57</th>\n",
       "      <td>14.733685</td>\n",
       "    </tr>\n",
       "    <tr>\n",
       "      <th>58</th>\n",
       "      <td>14.749770</td>\n",
       "    </tr>\n",
       "    <tr>\n",
       "      <th>59</th>\n",
       "      <td>14.569808</td>\n",
       "    </tr>\n",
       "    <tr>\n",
       "      <th>60</th>\n",
       "      <td>14.565263</td>\n",
       "    </tr>\n",
       "  </tbody>\n",
       "</table>\n",
       "</div>"
      ],
      "text/plain": [
       "             ch_score\n",
       "n_clusters           \n",
       "2           51.911487\n",
       "3           45.066327\n",
       "4           40.420909\n",
       "5           36.859212\n",
       "6           34.142365\n",
       "7           32.309692\n",
       "8           31.072469\n",
       "9           30.554150\n",
       "10          28.983548\n",
       "11          27.596323\n",
       "12          25.914428\n",
       "13          25.879570\n",
       "14          25.490317\n",
       "15          24.771707\n",
       "16          24.072927\n",
       "17          23.373508\n",
       "18          23.076763\n",
       "19          22.380012\n",
       "20          22.247540\n",
       "21          22.056731\n",
       "22          21.391427\n",
       "23          21.276652\n",
       "24          20.688245\n",
       "25          20.524638\n",
       "26          20.222092\n",
       "27          19.726119\n",
       "28          19.754512\n",
       "29          19.488059\n",
       "30          19.024376\n",
       "31          18.964213\n",
       "32          18.497421\n",
       "33          18.214183\n",
       "34          18.365100\n",
       "35          17.762487\n",
       "36          17.526559\n",
       "37          17.844692\n",
       "38          17.394999\n",
       "39          17.456917\n",
       "40          17.242714\n",
       "41          16.780721\n",
       "42          16.774637\n",
       "43          16.556749\n",
       "44          16.454340\n",
       "45          16.523574\n",
       "46          15.979661\n",
       "47          16.252737\n",
       "48          15.634763\n",
       "49          15.300725\n",
       "50          15.806707\n",
       "51          15.541274\n",
       "52          15.463181\n",
       "53          15.306667\n",
       "54          15.007201\n",
       "55          15.201677\n",
       "56          14.823501\n",
       "57          14.733685\n",
       "58          14.749770\n",
       "59          14.569808\n",
       "60          14.565263"
      ]
     },
     "metadata": {},
     "output_type": "display_data"
    }
   ],
   "source": [
    "with pd.option_context(\"display.max_rows\", None, \"display.max_columns\", None):\n",
    "    _df = ensemble.groupby([\"n_clusters\"]).mean()\n",
    "    display(_df)"
   ]
  },
  {
   "cell_type": "code",
   "execution_count": 41,
   "id": "2e8401f9",
   "metadata": {
    "execution": {
     "iopub.execute_input": "2022-09-11T21:07:40.707961Z",
     "iopub.status.busy": "2022-09-11T21:07:40.707747Z",
     "iopub.status.idle": "2022-09-11T21:07:43.709667Z",
     "shell.execute_reply": "2022-09-11T21:07:43.709077Z"
    },
    "papermill": {
     "duration": 3.022892,
     "end_time": "2022-09-11T21:07:43.710938",
     "exception": false,
     "start_time": "2022-09-11T21:07:40.688046",
     "status": "completed"
    },
    "tags": []
   },
   "outputs": [
    {
     "data": {
      "image/png": "[encoded data removed]",
      "text/plain": [
       "<Figure size 1008x432 with 1 Axes>"
      ]
     },
     "metadata": {},
     "output_type": "display_data"
    }
   ],
   "source": [
    "with sns.plotting_context(\"talk\", font_scale=0.75), sns.axes_style(\n",
    "    \"whitegrid\", {\"grid.linestyle\": \"--\"}\n",
    "):\n",
    "    fig = plt.figure(figsize=(14, 6))\n",
    "    ax = sns.pointplot(data=ensemble, x=\"n_clusters\", y=\"ch_score\")\n",
    "    ax.set_ylabel(\"Calinski-Harabasz index\")\n",
    "    ax.set_xlabel(\"Number of clusters ($k$)\")\n",
    "    ax.set_xticklabels(ax.get_xticklabels(), rotation=45)\n",
    "    plt.grid(True)\n",
    "    plt.tight_layout()"
   ]
  },
  {
   "cell_type": "markdown",
   "id": "ad96a6f7",
   "metadata": {
    "papermill": {
     "duration": 0.019659,
     "end_time": "2022-09-11T21:07:43.750880",
     "exception": false,
     "start_time": "2022-09-11T21:07:43.731221",
     "status": "completed"
    },
    "tags": []
   },
   "source": [
    "# Stability"
   ]
  },
  {
   "cell_type": "markdown",
   "id": "ebda34fb",
   "metadata": {
    "papermill": {
     "duration": 0.019147,
     "end_time": "2022-09-11T21:07:43.789543",
     "exception": false,
     "start_time": "2022-09-11T21:07:43.770396",
     "status": "completed"
    },
    "tags": []
   },
   "source": [
    "## Group ensemble by n_clusters"
   ]
  },
  {
   "cell_type": "code",
   "execution_count": 42,
   "id": "dcb3f072",
   "metadata": {
    "execution": {
     "iopub.execute_input": "2022-09-11T21:07:43.828832Z",
     "iopub.status.busy": "2022-09-11T21:07:43.828605Z",
     "iopub.status.idle": "2022-09-11T21:07:43.864824Z",
     "shell.execute_reply": "2022-09-11T21:07:43.864289Z"
    },
    "papermill": {
     "duration": 0.05773,
     "end_time": "2022-09-11T21:07:43.866394",
     "exception": false,
     "start_time": "2022-09-11T21:07:43.808664",
     "status": "completed"
    },
    "tags": []
   },
   "outputs": [],
   "source": [
    "parts = ensemble.groupby(\"n_clusters\").apply(\n",
    "    lambda x: np.concatenate(x[\"partition\"].apply(lambda x: x.reshape(1, -1)), axis=0)\n",
    ")"
   ]
  },
  {
   "cell_type": "code",
   "execution_count": 43,
   "id": "2c092de9",
   "metadata": {
    "execution": {
     "iopub.execute_input": "2022-09-11T21:07:43.906721Z",
     "iopub.status.busy": "2022-09-11T21:07:43.906509Z",
     "iopub.status.idle": "2022-09-11T21:07:43.936021Z",
     "shell.execute_reply": "2022-09-11T21:07:43.935461Z"
    },
    "papermill": {
     "duration": 0.050796,
     "end_time": "2022-09-11T21:07:43.937220",
     "exception": false,
     "start_time": "2022-09-11T21:07:43.886424",
     "status": "completed"
    },
    "tags": []
   },
   "outputs": [
    {
     "data": {
      "text/plain": [
       "n_clusters\n",
       "2    [[1.0, 0.0, 1.0, 0.0, 0.0, 1.0, 0.0, 1.0, 1.0,...\n",
       "3    [[1.0, 1.0, 1.0, 0.0, 2.0, 1.0, 2.0, 1.0, 1.0,...\n",
       "4    [[2.0, 0.0, 2.0, 2.0, 0.0, 0.0, 1.0, 3.0, 1.0,...\n",
       "5    [[3.0, 4.0, 4.0, 0.0, 4.0, 4.0, 2.0, 1.0, 4.0,...\n",
       "6    [[4.0, 2.0, 3.0, 3.0, 4.0, 4.0, 1.0, 2.0, 0.0,...\n",
       "dtype: object"
      ]
     },
     "execution_count": 43,
     "metadata": {},
     "output_type": "execute_result"
    }
   ],
   "source": [
    "parts.head()"
   ]
  },
  {
   "cell_type": "code",
   "execution_count": 44,
   "id": "333b00e2",
   "metadata": {
    "execution": {
     "iopub.execute_input": "2022-09-11T21:07:43.977635Z",
     "iopub.status.busy": "2022-09-11T21:07:43.977415Z",
     "iopub.status.idle": "2022-09-11T21:07:43.995856Z",
     "shell.execute_reply": "2022-09-11T21:07:43.995374Z"
    },
    "papermill": {
     "duration": 0.040127,
     "end_time": "2022-09-11T21:07:43.997292",
     "exception": false,
     "start_time": "2022-09-11T21:07:43.957165",
     "status": "completed"
    },
    "tags": []
   },
   "outputs": [],
   "source": [
    "assert np.all(\n",
    "    [\n",
    "        parts.loc[k].shape == (CLUSTERING_OPTIONS[\"N_REPS_PER_K\"], data.shape[0])\n",
    "        for k in parts.index\n",
    "    ]\n",
    ")"
   ]
  },
  {
   "cell_type": "markdown",
   "id": "095d2636",
   "metadata": {
    "papermill": {
     "duration": 0.019798,
     "end_time": "2022-09-11T21:07:44.037754",
     "exception": false,
     "start_time": "2022-09-11T21:07:44.017956",
     "status": "completed"
    },
    "tags": []
   },
   "source": [
    "## Compute stability"
   ]
  },
  {
   "cell_type": "code",
   "execution_count": 45,
   "id": "3d445916",
   "metadata": {
    "execution": {
     "iopub.execute_input": "2022-09-11T21:07:44.078042Z",
     "iopub.status.busy": "2022-09-11T21:07:44.077834Z",
     "iopub.status.idle": "2022-09-11T21:07:44.095419Z",
     "shell.execute_reply": "2022-09-11T21:07:44.094825Z"
    },
    "papermill": {
     "duration": 0.039492,
     "end_time": "2022-09-11T21:07:44.096823",
     "exception": false,
     "start_time": "2022-09-11T21:07:44.057331",
     "status": "completed"
    },
    "tags": []
   },
   "outputs": [],
   "source": [
    "from sklearn.metrics import adjusted_rand_score as ari\n",
    "from scipy.spatial.distance import pdist"
   ]
  },
  {
   "cell_type": "code",
   "execution_count": 46,
   "id": "811147a2",
   "metadata": {
    "execution": {
     "iopub.execute_input": "2022-09-11T21:07:44.137732Z",
     "iopub.status.busy": "2022-09-11T21:07:44.137522Z",
     "iopub.status.idle": "2022-09-11T21:07:44.949010Z",
     "shell.execute_reply": "2022-09-11T21:07:44.948469Z"
    },
    "papermill": {
     "duration": 0.833494,
     "end_time": "2022-09-11T21:07:44.950838",
     "exception": false,
     "start_time": "2022-09-11T21:07:44.117344",
     "status": "completed"
    },
    "tags": []
   },
   "outputs": [],
   "source": [
    "parts_ari = pd.Series(\n",
    "    {k: pdist(parts.loc[k], metric=ari) for k in parts.index}, name=\"k\"\n",
    ")"
   ]
  },
  {
   "cell_type": "code",
   "execution_count": 47,
   "id": "ed8f6763",
   "metadata": {
    "execution": {
     "iopub.execute_input": "2022-09-11T21:07:44.991127Z",
     "iopub.status.busy": "2022-09-11T21:07:44.990917Z",
     "iopub.status.idle": "2022-09-11T21:07:45.010768Z",
     "shell.execute_reply": "2022-09-11T21:07:45.010300Z"
    },
    "papermill": {
     "duration": 0.041409,
     "end_time": "2022-09-11T21:07:45.012015",
     "exception": false,
     "start_time": "2022-09-11T21:07:44.970606",
     "status": "completed"
    },
    "tags": []
   },
   "outputs": [
    {
     "data": {
      "text/plain": [
       "15    0.037543\n",
       "2     0.036695\n",
       "31    0.036440\n",
       "54    0.036203\n",
       "47    0.036021\n",
       "6     0.035902\n",
       "29    0.035502\n",
       "38    0.035498\n",
       "45    0.035397\n",
       "4     0.035332\n",
       "60    0.035323\n",
       "42    0.034862\n",
       "49    0.034838\n",
       "11    0.034650\n",
       "52    0.034552\n",
       "Name: k, dtype: float64"
      ]
     },
     "metadata": {},
     "output_type": "display_data"
    }
   ],
   "source": [
    "parts_ari_stability = parts_ari.apply(lambda x: x.mean())\n",
    "display(parts_ari_stability.sort_values(ascending=False).head(15))"
   ]
  },
  {
   "cell_type": "code",
   "execution_count": 48,
   "id": "b82588a0",
   "metadata": {
    "execution": {
     "iopub.execute_input": "2022-09-11T21:07:45.053896Z",
     "iopub.status.busy": "2022-09-11T21:07:45.053676Z",
     "iopub.status.idle": "2022-09-11T21:07:45.072370Z",
     "shell.execute_reply": "2022-09-11T21:07:45.071920Z"
    },
    "papermill": {
     "duration": 0.041038,
     "end_time": "2022-09-11T21:07:45.073725",
     "exception": false,
     "start_time": "2022-09-11T21:07:45.032687",
     "status": "completed"
    },
    "tags": []
   },
   "outputs": [],
   "source": [
    "parts_ari_df = pd.DataFrame.from_records(parts_ari.tolist()).set_index(\n",
    "    parts_ari.index.copy()\n",
    ")"
   ]
  },
  {
   "cell_type": "code",
   "execution_count": 49,
   "id": "d13e8ba5",
   "metadata": {
    "execution": {
     "iopub.execute_input": "2022-09-11T21:07:45.114752Z",
     "iopub.status.busy": "2022-09-11T21:07:45.114541Z",
     "iopub.status.idle": "2022-09-11T21:07:45.133123Z",
     "shell.execute_reply": "2022-09-11T21:07:45.132652Z"
    },
    "papermill": {
     "duration": 0.040077,
     "end_time": "2022-09-11T21:07:45.134334",
     "exception": false,
     "start_time": "2022-09-11T21:07:45.094257",
     "status": "completed"
    },
    "tags": []
   },
   "outputs": [
    {
     "data": {
      "text/plain": [
       "(59, 10)"
      ]
     },
     "execution_count": 49,
     "metadata": {},
     "output_type": "execute_result"
    }
   ],
   "source": [
    "parts_ari_df.shape"
   ]
  },
  {
   "cell_type": "code",
   "execution_count": 50,
   "id": "d399ee5e",
   "metadata": {
    "execution": {
     "iopub.execute_input": "2022-09-11T21:07:45.177017Z",
     "iopub.status.busy": "2022-09-11T21:07:45.176409Z",
     "iopub.status.idle": "2022-09-11T21:07:45.194318Z",
     "shell.execute_reply": "2022-09-11T21:07:45.193808Z"
    },
    "papermill": {
     "duration": 0.040758,
     "end_time": "2022-09-11T21:07:45.195650",
     "exception": false,
     "start_time": "2022-09-11T21:07:45.154892",
     "status": "completed"
    },
    "tags": []
   },
   "outputs": [],
   "source": [
    "assert (\n",
    "    int(\n",
    "        (CLUSTERING_OPTIONS[\"N_REPS_PER_K\"] * (CLUSTERING_OPTIONS[\"N_REPS_PER_K\"] - 1))\n",
    "        / 2\n",
    "    )\n",
    "    == parts_ari_df.shape[1]\n",
    ")"
   ]
  },
  {
   "cell_type": "code",
   "execution_count": 51,
   "id": "413bb5c4",
   "metadata": {
    "execution": {
     "iopub.execute_input": "2022-09-11T21:07:45.238192Z",
     "iopub.status.busy": "2022-09-11T21:07:45.237970Z",
     "iopub.status.idle": "2022-09-11T21:07:45.262084Z",
     "shell.execute_reply": "2022-09-11T21:07:45.261633Z"
    },
    "papermill": {
     "duration": 0.046596,
     "end_time": "2022-09-11T21:07:45.263320",
     "exception": false,
     "start_time": "2022-09-11T21:07:45.216724",
     "status": "completed"
    },
    "tags": []
   },
   "outputs": [
    {
     "data": {
      "text/html": [
       "<div>\n",
       "<style scoped>\n",
       "    .dataframe tbody tr th:only-of-type {\n",
       "        vertical-align: middle;\n",
       "    }\n",
       "\n",
       "    .dataframe tbody tr th {\n",
       "        vertical-align: top;\n",
       "    }\n",
       "\n",
       "    .dataframe thead th {\n",
       "        text-align: right;\n",
       "    }\n",
       "</style>\n",
       "<table border=\"1\" class=\"dataframe\">\n",
       "  <thead>\n",
       "    <tr style=\"text-align: right;\">\n",
       "      <th></th>\n",
       "      <th>0</th>\n",
       "      <th>1</th>\n",
       "      <th>2</th>\n",
       "      <th>3</th>\n",
       "      <th>4</th>\n",
       "      <th>5</th>\n",
       "      <th>6</th>\n",
       "      <th>7</th>\n",
       "      <th>8</th>\n",
       "      <th>9</th>\n",
       "    </tr>\n",
       "  </thead>\n",
       "  <tbody>\n",
       "    <tr>\n",
       "      <th>2</th>\n",
       "      <td>0.012749</td>\n",
       "      <td>0.120926</td>\n",
       "      <td>0.002139</td>\n",
       "      <td>0.019243</td>\n",
       "      <td>0.000931</td>\n",
       "      <td>0.028113</td>\n",
       "      <td>0.117609</td>\n",
       "      <td>0.055510</td>\n",
       "      <td>0.009045</td>\n",
       "      <td>0.000690</td>\n",
       "    </tr>\n",
       "    <tr>\n",
       "      <th>3</th>\n",
       "      <td>0.021887</td>\n",
       "      <td>0.039961</td>\n",
       "      <td>0.037852</td>\n",
       "      <td>0.012500</td>\n",
       "      <td>0.007963</td>\n",
       "      <td>0.054562</td>\n",
       "      <td>0.006818</td>\n",
       "      <td>0.006628</td>\n",
       "      <td>0.026137</td>\n",
       "      <td>0.077579</td>\n",
       "    </tr>\n",
       "    <tr>\n",
       "      <th>4</th>\n",
       "      <td>0.021961</td>\n",
       "      <td>0.031545</td>\n",
       "      <td>0.036317</td>\n",
       "      <td>0.058696</td>\n",
       "      <td>0.023570</td>\n",
       "      <td>0.065743</td>\n",
       "      <td>0.029535</td>\n",
       "      <td>0.019306</td>\n",
       "      <td>0.021892</td>\n",
       "      <td>0.044758</td>\n",
       "    </tr>\n",
       "    <tr>\n",
       "      <th>5</th>\n",
       "      <td>0.023279</td>\n",
       "      <td>0.030001</td>\n",
       "      <td>0.028455</td>\n",
       "      <td>0.029202</td>\n",
       "      <td>0.055759</td>\n",
       "      <td>0.022640</td>\n",
       "      <td>0.039575</td>\n",
       "      <td>0.010388</td>\n",
       "      <td>0.031670</td>\n",
       "      <td>0.011866</td>\n",
       "    </tr>\n",
       "    <tr>\n",
       "      <th>6</th>\n",
       "      <td>0.040498</td>\n",
       "      <td>0.032907</td>\n",
       "      <td>0.028647</td>\n",
       "      <td>0.023577</td>\n",
       "      <td>0.049599</td>\n",
       "      <td>0.033234</td>\n",
       "      <td>0.040321</td>\n",
       "      <td>0.022421</td>\n",
       "      <td>0.059000</td>\n",
       "      <td>0.028817</td>\n",
       "    </tr>\n",
       "  </tbody>\n",
       "</table>\n",
       "</div>"
      ],
      "text/plain": [
       "          0         1         2         3         4         5         6  \\\n",
       "2  0.012749  0.120926  0.002139  0.019243  0.000931  0.028113  0.117609   \n",
       "3  0.021887  0.039961  0.037852  0.012500  0.007963  0.054562  0.006818   \n",
       "4  0.021961  0.031545  0.036317  0.058696  0.023570  0.065743  0.029535   \n",
       "5  0.023279  0.030001  0.028455  0.029202  0.055759  0.022640  0.039575   \n",
       "6  0.040498  0.032907  0.028647  0.023577  0.049599  0.033234  0.040321   \n",
       "\n",
       "          7         8         9  \n",
       "2  0.055510  0.009045  0.000690  \n",
       "3  0.006628  0.026137  0.077579  \n",
       "4  0.019306  0.021892  0.044758  \n",
       "5  0.010388  0.031670  0.011866  \n",
       "6  0.022421  0.059000  0.028817  "
      ]
     },
     "execution_count": 51,
     "metadata": {},
     "output_type": "execute_result"
    }
   ],
   "source": [
    "parts_ari_df.head()"
   ]
  },
  {
   "cell_type": "markdown",
   "id": "11a377d6",
   "metadata": {
    "papermill": {
     "duration": 0.021787,
     "end_time": "2022-09-11T21:07:45.305777",
     "exception": false,
     "start_time": "2022-09-11T21:07:45.283990",
     "status": "completed"
    },
    "tags": []
   },
   "source": [
    "## Save"
   ]
  },
  {
   "cell_type": "code",
   "execution_count": 52,
   "id": "651dd5d8",
   "metadata": {
    "execution": {
     "iopub.execute_input": "2022-09-11T21:07:45.346864Z",
     "iopub.status.busy": "2022-09-11T21:07:45.346654Z",
     "iopub.status.idle": "2022-09-11T21:07:45.366934Z",
     "shell.execute_reply": "2022-09-11T21:07:45.366384Z"
    },
    "papermill": {
     "duration": 0.042228,
     "end_time": "2022-09-11T21:07:45.368214",
     "exception": false,
     "start_time": "2022-09-11T21:07:45.325986",
     "status": "completed"
    },
    "tags": []
   },
   "outputs": [
    {
     "data": {
      "text/plain": [
       "PosixPath('/opt/data/results/clustering/null_sims/runs/pca-z_score_std-projection-smultixcan-efo_partial-mashr-zscores/KMeans-stability-KMEANS_N_INIT_10-K_MAX_60-K_MIN_2-N_REPS_PER_K_5.pkl')"
      ]
     },
     "metadata": {},
     "output_type": "display_data"
    }
   ],
   "source": [
    "output_filename = Path(\n",
    "    RESULTS_DIR,\n",
    "    generate_result_set_name(\n",
    "        CLUSTERING_OPTIONS,\n",
    "        prefix=f\"{clustering_method_name}-stability-\",\n",
    "        suffix=\".pkl\",\n",
    "    ),\n",
    ").resolve()\n",
    "display(output_filename)"
   ]
  },
  {
   "cell_type": "code",
   "execution_count": 53,
   "id": "b86f406a",
   "metadata": {
    "execution": {
     "iopub.execute_input": "2022-09-11T21:07:45.411100Z",
     "iopub.status.busy": "2022-09-11T21:07:45.410580Z",
     "iopub.status.idle": "2022-09-11T21:07:45.430099Z",
     "shell.execute_reply": "2022-09-11T21:07:45.429391Z"
    },
    "papermill": {
     "duration": 0.042122,
     "end_time": "2022-09-11T21:07:45.431492",
     "exception": false,
     "start_time": "2022-09-11T21:07:45.389370",
     "status": "completed"
    },
    "tags": []
   },
   "outputs": [],
   "source": [
    "parts_ari_df.to_pickle(output_filename)"
   ]
  },
  {
   "cell_type": "markdown",
   "id": "24eab686",
   "metadata": {
    "papermill": {
     "duration": 0.020349,
     "end_time": "2022-09-11T21:07:45.473293",
     "exception": false,
     "start_time": "2022-09-11T21:07:45.452944",
     "status": "completed"
    },
    "tags": []
   },
   "source": [
    "## Stability plot"
   ]
  },
  {
   "cell_type": "code",
   "execution_count": 54,
   "id": "a4c60d16",
   "metadata": {
    "execution": {
     "iopub.execute_input": "2022-09-11T21:07:45.514284Z",
     "iopub.status.busy": "2022-09-11T21:07:45.514075Z",
     "iopub.status.idle": "2022-09-11T21:07:45.533753Z",
     "shell.execute_reply": "2022-09-11T21:07:45.533228Z"
    },
    "papermill": {
     "duration": 0.041782,
     "end_time": "2022-09-11T21:07:45.535149",
     "exception": false,
     "start_time": "2022-09-11T21:07:45.493367",
     "status": "completed"
    },
    "tags": []
   },
   "outputs": [],
   "source": [
    "parts_ari_df_plot = (\n",
    "    parts_ari_df.stack()\n",
    "    .reset_index()\n",
    "    .rename(columns={\"level_0\": \"k\", \"level_1\": \"idx\", 0: \"ari\"})\n",
    ")"
   ]
  },
  {
   "cell_type": "code",
   "execution_count": 55,
   "id": "22d4eedd",
   "metadata": {
    "execution": {
     "iopub.execute_input": "2022-09-11T21:07:45.584059Z",
     "iopub.status.busy": "2022-09-11T21:07:45.583395Z",
     "iopub.status.idle": "2022-09-11T21:07:45.602924Z",
     "shell.execute_reply": "2022-09-11T21:07:45.602393Z"
    },
    "papermill": {
     "duration": 0.047,
     "end_time": "2022-09-11T21:07:45.604189",
     "exception": false,
     "start_time": "2022-09-11T21:07:45.557189",
     "status": "completed"
    },
    "tags": []
   },
   "outputs": [
    {
     "data": {
      "text/plain": [
       "k        int64\n",
       "idx      int64\n",
       "ari    float64\n",
       "dtype: object"
      ]
     },
     "execution_count": 55,
     "metadata": {},
     "output_type": "execute_result"
    }
   ],
   "source": [
    "parts_ari_df_plot.dtypes"
   ]
  },
  {
   "cell_type": "code",
   "execution_count": 56,
   "id": "b61db861",
   "metadata": {
    "execution": {
     "iopub.execute_input": "2022-09-11T21:07:45.647168Z",
     "iopub.status.busy": "2022-09-11T21:07:45.646955Z",
     "iopub.status.idle": "2022-09-11T21:07:45.668580Z",
     "shell.execute_reply": "2022-09-11T21:07:45.668039Z"
    },
    "papermill": {
     "duration": 0.044236,
     "end_time": "2022-09-11T21:07:45.669896",
     "exception": false,
     "start_time": "2022-09-11T21:07:45.625660",
     "status": "completed"
    },
    "tags": []
   },
   "outputs": [
    {
     "data": {
      "text/html": [
       "<div>\n",
       "<style scoped>\n",
       "    .dataframe tbody tr th:only-of-type {\n",
       "        vertical-align: middle;\n",
       "    }\n",
       "\n",
       "    .dataframe tbody tr th {\n",
       "        vertical-align: top;\n",
       "    }\n",
       "\n",
       "    .dataframe thead th {\n",
       "        text-align: right;\n",
       "    }\n",
       "</style>\n",
       "<table border=\"1\" class=\"dataframe\">\n",
       "  <thead>\n",
       "    <tr style=\"text-align: right;\">\n",
       "      <th></th>\n",
       "      <th>k</th>\n",
       "      <th>idx</th>\n",
       "      <th>ari</th>\n",
       "    </tr>\n",
       "  </thead>\n",
       "  <tbody>\n",
       "    <tr>\n",
       "      <th>0</th>\n",
       "      <td>2</td>\n",
       "      <td>0</td>\n",
       "      <td>0.012749</td>\n",
       "    </tr>\n",
       "    <tr>\n",
       "      <th>1</th>\n",
       "      <td>2</td>\n",
       "      <td>1</td>\n",
       "      <td>0.120926</td>\n",
       "    </tr>\n",
       "    <tr>\n",
       "      <th>2</th>\n",
       "      <td>2</td>\n",
       "      <td>2</td>\n",
       "      <td>0.002139</td>\n",
       "    </tr>\n",
       "    <tr>\n",
       "      <th>3</th>\n",
       "      <td>2</td>\n",
       "      <td>3</td>\n",
       "      <td>0.019243</td>\n",
       "    </tr>\n",
       "    <tr>\n",
       "      <th>4</th>\n",
       "      <td>2</td>\n",
       "      <td>4</td>\n",
       "      <td>0.000931</td>\n",
       "    </tr>\n",
       "  </tbody>\n",
       "</table>\n",
       "</div>"
      ],
      "text/plain": [
       "   k  idx       ari\n",
       "0  2    0  0.012749\n",
       "1  2    1  0.120926\n",
       "2  2    2  0.002139\n",
       "3  2    3  0.019243\n",
       "4  2    4  0.000931"
      ]
     },
     "execution_count": 56,
     "metadata": {},
     "output_type": "execute_result"
    }
   ],
   "source": [
    "parts_ari_df_plot.head()"
   ]
  },
  {
   "cell_type": "code",
   "execution_count": 57,
   "id": "31bbf280",
   "metadata": {
    "execution": {
     "iopub.execute_input": "2022-09-11T21:07:45.713628Z",
     "iopub.status.busy": "2022-09-11T21:07:45.713432Z",
     "iopub.status.idle": "2022-09-11T21:07:48.568881Z",
     "shell.execute_reply": "2022-09-11T21:07:48.568284Z"
    },
    "papermill": {
     "duration": 2.878406,
     "end_time": "2022-09-11T21:07:48.570313",
     "exception": false,
     "start_time": "2022-09-11T21:07:45.691907",
     "status": "completed"
    },
    "tags": []
   },
   "outputs": [
    {
     "data": {
      "image/png": "[encoded data removed]",
      "text/plain": [
       "<Figure size 1008x432 with 1 Axes>"
      ]
     },
     "metadata": {},
     "output_type": "display_data"
    }
   ],
   "source": [
    "# with sns.axes_style('whitegrid', {'grid.linestyle': '--'}):\n",
    "with sns.plotting_context(\"talk\", font_scale=0.75), sns.axes_style(\n",
    "    \"whitegrid\", {\"grid.linestyle\": \"--\"}\n",
    "):\n",
    "    fig = plt.figure(figsize=(14, 6))\n",
    "    ax = sns.pointplot(data=parts_ari_df_plot, x=\"k\", y=\"ari\")\n",
    "    ax.set_ylabel(\"Averange ARI\")\n",
    "    ax.set_xlabel(\"Number of clusters ($k$)\")\n",
    "    ax.set_xticklabels(ax.get_xticklabels(), rotation=45)\n",
    "    #     ax.set_ylim(0.0, 1.0)\n",
    "    #     ax.set_xlim(CLUSTERING_OPTIONS['K_MIN'], CLUSTERING_OPTIONS['K_MAX'])\n",
    "    plt.grid(True)\n",
    "    plt.tight_layout()"
   ]
  },
  {
   "cell_type": "code",
   "execution_count": null,
   "id": "c6919485",
   "metadata": {
    "papermill": {
     "duration": 0.021148,
     "end_time": "2022-09-11T21:07:48.612985",
     "exception": false,
     "start_time": "2022-09-11T21:07:48.591837",
     "status": "completed"
    },
    "tags": []
   },
   "outputs": [],
   "source": []
  }
 ],
 "metadata": {
  "jupytext": {
   "cell_metadata_filter": "all,-execution,-papermill,-trusted",
   "formats": "ipynb,py//py:percent"
  },
  "kernelspec": {
   "display_name": "Python 3 (ipykernel)",
   "language": "python",
   "name": "python3"
  },
  "language_info": {
   "codemirror_mode": {
    "name": "ipython",
    "version": 3
   },
   "file_extension": ".py",
   "mimetype": "text/x-python",
   "name": "python",
   "nbconvert_exporter": "python",
   "pygments_lexer": "ipython3",
   "version": "3.8.13"
  },
  "papermill": {
   "default_parameters": {},
   "duration": 356.323884,
   "end_time": "2022-09-11T21:07:48.954434",
   "environment_variables": {},
   "exception": null,
   "input_path": "nbs/13.1_cluster_analysis_null/10_01-kmeans-pca.ipynb",
   "output_path": "nbs/13.1_cluster_analysis_null/10_01-kmeans-pca.run.ipynb",
   "parameters": {},
   "start_time": "2022-09-11T21:01:52.630550",
   "version": "2.2.2"
  },
  "toc-autonumbering": true,
  "toc-showcode": false,
  "toc-showmarkdowntxt": false,
  "toc-showtags": false
 },
 "nbformat": 4,
 "nbformat_minor": 5
}
