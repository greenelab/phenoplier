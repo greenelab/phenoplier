{
 "cells": [
  {
   "cell_type": "markdown",
   "id": "c935aa7e-fde1-4d1c-b2d7-8c7ee611b1ed",
   "metadata": {
    "papermill": {
     "duration": 0.002957,
     "end_time": "2022-12-05T18:46:53.097843",
     "exception": false,
     "start_time": "2022-12-05T18:46:53.094886",
     "status": "completed"
    },
    "tags": []
   },
   "source": [
    "# Description"
   ]
  },
  {
   "cell_type": "markdown",
   "id": "f66770f7-0585-480b-8daa-1483bc37b494",
   "metadata": {
    "papermill": {
     "duration": 0.002252,
     "end_time": "2022-12-05T18:46:53.109525",
     "exception": false,
     "start_time": "2022-12-05T18:46:53.107273",
     "status": "completed"
    },
    "tags": []
   },
   "source": [
    "It read all gene-gene correlation matrices across chromosomes, performs some tests and saves a final, singla gene-gene correlation matrix."
   ]
  },
  {
   "cell_type": "markdown",
   "id": "d389dd7b-20d8-44ed-8053-6e2cd8efea2e",
   "metadata": {
    "papermill": {
     "duration": 0.002184,
     "end_time": "2022-12-05T18:46:53.113925",
     "exception": false,
     "start_time": "2022-12-05T18:46:53.111741",
     "status": "completed"
    },
    "tags": []
   },
   "source": [
    "# Modules"
   ]
  },
  {
   "cell_type": "code",
   "execution_count": 1,
   "id": "69797656-0db2-41d5-b4d6-63c24d47ad38",
   "metadata": {
    "execution": {
     "iopub.execute_input": "2022-12-05T18:46:53.119887Z",
     "iopub.status.busy": "2022-12-05T18:46:53.119175Z",
     "iopub.status.idle": "2022-12-05T18:46:53.126806Z",
     "shell.execute_reply": "2022-12-05T18:46:53.126228Z"
    },
    "papermill": {
     "duration": 0.012148,
     "end_time": "2022-12-05T18:46:53.128290",
     "exception": false,
     "start_time": "2022-12-05T18:46:53.116142",
     "status": "completed"
    },
    "tags": []
   },
   "outputs": [],
   "source": [
    "import os\n",
    "from pathlib import Path"
   ]
  },
  {
   "cell_type": "markdown",
   "id": "dd17aa24-a692-4f62-ac69-c270447c7729",
   "metadata": {
    "papermill": {
     "duration": 0.002265,
     "end_time": "2022-12-05T18:46:53.133161",
     "exception": false,
     "start_time": "2022-12-05T18:46:53.130896",
     "status": "completed"
    },
    "tags": []
   },
   "source": [
    "# Settings"
   ]
  },
  {
   "cell_type": "markdown",
   "id": "3829ee6c-68b6-445e-adce-aa7a6280a56c",
   "metadata": {
    "papermill": {
     "duration": 0.002286,
     "end_time": "2022-12-05T18:46:53.137739",
     "exception": false,
     "start_time": "2022-12-05T18:46:53.135453",
     "status": "completed"
    },
    "tags": []
   },
   "source": [
    "Apparently, there is no easy way to get the parent directory of\n",
    "a notebook in Jupyter, so here I get that information either from\n",
    "the parameter sent by `nbs/run_nbs.sh` (if called from command-line) or\n",
    "from `os.getcwd()` (if called from browser)."
   ]
  },
  {
   "cell_type": "code",
   "execution_count": 2,
   "id": "e8f8093f-7738-448a-b29d-e9059684fcd1",
   "metadata": {
    "execution": {
     "iopub.execute_input": "2022-12-05T18:46:53.143939Z",
     "iopub.status.busy": "2022-12-05T18:46:53.143401Z",
     "iopub.status.idle": "2022-12-05T18:46:53.146493Z",
     "shell.execute_reply": "2022-12-05T18:46:53.145930Z"
    },
    "papermill": {
     "duration": 0.00741,
     "end_time": "2022-12-05T18:46:53.147889",
     "exception": false,
     "start_time": "2022-12-05T18:46:53.140479",
     "status": "completed"
    },
    "tags": [
     "parameters"
    ]
   },
   "outputs": [],
   "source": [
    "PHENOPLIER_NOTEBOOK_FILEPATH = None\n",
    "PHENOPLIER_NOTEBOOK_DIR = os.getcwd()"
   ]
  },
  {
   "cell_type": "code",
   "execution_count": 3,
   "id": "e50e899e",
   "metadata": {
    "execution": {
     "iopub.execute_input": "2022-12-05T18:46:53.153709Z",
     "iopub.status.busy": "2022-12-05T18:46:53.153357Z",
     "iopub.status.idle": "2022-12-05T18:46:53.156200Z",
     "shell.execute_reply": "2022-12-05T18:46:53.155644Z"
    },
    "lines_to_next_cell": 2,
    "papermill": {
     "duration": 0.007206,
     "end_time": "2022-12-05T18:46:53.157637",
     "exception": false,
     "start_time": "2022-12-05T18:46:53.150431",
     "status": "completed"
    },
    "tags": [
     "injected-parameters"
    ]
   },
   "outputs": [],
   "source": [
    "# Parameters\n",
    "PHENOPLIER_NOTEBOOK_FILEPATH = \"projects/asthma-copd/nbs/20_gene_corrs/10-run_postprocessing_gene_correlations.ipynb\""
   ]
  },
  {
   "cell_type": "code",
   "execution_count": 4,
   "id": "80437810-fd28-40ba-8dab-f60424764bfd",
   "metadata": {
    "execution": {
     "iopub.execute_input": "2022-12-05T18:46:53.163514Z",
     "iopub.status.busy": "2022-12-05T18:46:53.163069Z",
     "iopub.status.idle": "2022-12-05T18:46:53.172578Z",
     "shell.execute_reply": "2022-12-05T18:46:53.171952Z"
    },
    "papermill": {
     "duration": 0.01392,
     "end_time": "2022-12-05T18:46:53.173958",
     "exception": false,
     "start_time": "2022-12-05T18:46:53.160038",
     "status": "completed"
    },
    "tags": []
   },
   "outputs": [
    {
     "data": {
      "text/plain": [
       "'projects/asthma-copd/nbs/20_gene_corrs'"
      ]
     },
     "metadata": {},
     "output_type": "display_data"
    }
   ],
   "source": [
    "if PHENOPLIER_NOTEBOOK_FILEPATH is not None:\n",
    "    PHENOPLIER_NOTEBOOK_DIR = str(Path(PHENOPLIER_NOTEBOOK_FILEPATH).parent)\n",
    "\n",
    "display(PHENOPLIER_NOTEBOOK_DIR)"
   ]
  },
  {
   "cell_type": "markdown",
   "id": "3a558eec-2251-4be7-a754-1f98adde3aec",
   "metadata": {
    "papermill": {
     "duration": 0.002468,
     "end_time": "2022-12-05T18:46:53.179149",
     "exception": false,
     "start_time": "2022-12-05T18:46:53.176681",
     "status": "completed"
    },
    "tags": []
   },
   "source": [
    "# Run"
   ]
  },
  {
   "cell_type": "code",
   "execution_count": 5,
   "id": "0c0cd3d9-b032-4f03-82eb-0017a0ef1cca",
   "metadata": {
    "execution": {
     "iopub.execute_input": "2022-12-05T18:46:53.185318Z",
     "iopub.status.busy": "2022-12-05T18:46:53.184812Z",
     "iopub.status.idle": "2022-12-05T18:50:22.849837Z",
     "shell.execute_reply": "2022-12-05T18:50:22.849131Z"
    },
    "papermill": {
     "duration": 209.669667,
     "end_time": "2022-12-05T18:50:22.851328",
     "exception": false,
     "start_time": "2022-12-05T18:46:53.181661",
     "status": "completed"
    },
    "tags": []
   },
   "outputs": [
    {
     "name": "stdout",
     "output_type": "stream",
     "text": [
      "Running for asthma_only\n",
      "Running for copd_only\n",
      "Running for aco\n"
     ]
    }
   ],
   "source": [
    "%%bash -s \"$PHENOPLIER_NOTEBOOK_DIR\"\n",
    "set -euo pipefail\n",
    "IFS=$'\\n\\t'\n",
    "\n",
    "# read the notebook directory parameter and remove $1\n",
    "export PHENOPLIER_NOTEBOOK_DIR=\"$1\"\n",
    "shift\n",
    "\n",
    "run_job () {\n",
    "    # run_job is a standard function name that performs a particular job\n",
    "    # depending on the context. It will be called by GNU Parallel below.\n",
    "\n",
    "    # read trait information\n",
    "    # the first parameter to this function is a string with values separated by\n",
    "    # commas (,). So here I split those into different variables.\n",
    "    IFS=',' read -r pheno_id file sample_size n_cases <<< \"$1\"\n",
    "\n",
    "    OUTPUT_DIR=${PHENOPLIER_PROJECTS_ASTHMA_COPD_RESULTS_DIR}/gls_phenoplier\n",
    "\n",
    "    # make sure we are not also parallelizing within numpy, etc\n",
    "    export NUMBA_NUM_THREADS=1\n",
    "    export MKL_NUM_THREADS=1\n",
    "    export OPEN_BLAS_NUM_THREADS=1\n",
    "    export NUMEXPR_NUM_THREADS=1\n",
    "    export OMP_NUM_THREADS=1\n",
    "\n",
    "    cd \"${PHENOPLIER_CODE_DIR}\"\n",
    "\n",
    "    NOTEBOOK_OUTPUT_FOLDER=\"output/${pheno_id,,}\"\n",
    "    FULL_NOTEBOOK_OUTPUT_FOLDER=\"${PHENOPLIER_NOTEBOOK_DIR}/${NOTEBOOK_OUTPUT_FOLDER}\"\n",
    "    mkdir -p \"$FULL_NOTEBOOK_OUTPUT_FOLDER\"\n",
    "\n",
    "    echo \"Running for $pheno_id\"\n",
    "\n",
    "    bash nbs/run_nbs.sh \\\n",
    "        \"${PHENOPLIER_NOTEBOOK_DIR}/jobs/10-postprocess_gene_expr_correlations.ipynb\" \\\n",
    "        \"../${NOTEBOOK_OUTPUT_FOLDER}/10-postprocess_gene_expr_correlations.run.ipynb\" \\\n",
    "        -p COHORT_NAME \"$pheno_id\" \\\n",
    "        -p OUTPUT_DIR_BASE \"$OUTPUT_DIR\" \\\n",
    "    &>/dev/null\n",
    "}\n",
    "\n",
    "# export function so GNU Parallel can see it\n",
    "export -f run_job\n",
    "\n",
    "# generate a list of run_job calls for GNU Parallel\n",
    "while IFS= read -r line; do\n",
    "    echo run_job \"$line\"\n",
    "done < <(tail -n \"+2\" \"${PHENOPLIER_PROJECTS_ASTHMA_COPD_TRAITS_INFO_FILE}\") |\n",
    "    parallel -k --lb --halt 2 -j${PHENOPLIER_GENERAL_N_JOBS}"
   ]
  },
  {
   "cell_type": "code",
   "execution_count": null,
   "id": "4c85b633-88a5-4623-b105-42c38208109e",
   "metadata": {
    "papermill": {
     "duration": 0.002659,
     "end_time": "2022-12-05T18:50:22.856750",
     "exception": false,
     "start_time": "2022-12-05T18:50:22.854091",
     "status": "completed"
    },
    "tags": []
   },
   "outputs": [],
   "source": []
  }
 ],
 "metadata": {
  "jupytext": {
   "cell_metadata_filter": "all,-execution,-papermill,-trusted"
  },
  "kernelspec": {
   "display_name": "Python 3 (ipykernel)",
   "language": "python",
   "name": "python3"
  },
  "language_info": {
   "codemirror_mode": {
    "name": "ipython",
    "version": 3
   },
   "file_extension": ".py",
   "mimetype": "text/x-python",
   "name": "python",
   "nbconvert_exporter": "python",
   "pygments_lexer": "ipython3",
   "version": "3.10.6"
  },
  "papermill": {
   "default_parameters": {},
   "duration": 210.948378,
   "end_time": "2022-12-05T18:50:23.076409",
   "environment_variables": {},
   "exception": null,
   "input_path": "projects/asthma-copd/nbs/20_gene_corrs/10-run_postprocessing_gene_correlations.ipynb",
   "output_path": "projects/asthma-copd/nbs/20_gene_corrs/10-run_postprocessing_gene_correlations.run.ipynb",
   "parameters": {
    "PHENOPLIER_NOTEBOOK_FILEPATH": "projects/asthma-copd/nbs/20_gene_corrs/10-run_postprocessing_gene_correlations.ipynb"
   },
   "start_time": "2022-12-05T18:46:52.128031",
   "version": "2.3.4"
  }
 },
 "nbformat": 4,
 "nbformat_minor": 5
}
