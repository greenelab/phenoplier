{
 "cells": [
  {
   "cell_type": "markdown",
   "id": "c935aa7e-fde1-4d1c-b2d7-8c7ee611b1ed",
   "metadata": {
    "papermill": {
     "duration": 0.003034,
     "end_time": "2022-12-15T19:02:33.856410",
     "exception": false,
     "start_time": "2022-12-15T19:02:33.853376",
     "status": "completed"
    },
    "tags": []
   },
   "source": [
    "# Description"
   ]
  },
  {
   "cell_type": "markdown",
   "id": "f66770f7-0585-480b-8daa-1483bc37b494",
   "metadata": {
    "papermill": {
     "duration": 0.00301,
     "end_time": "2022-12-15T19:02:33.868887",
     "exception": false,
     "start_time": "2022-12-15T19:02:33.865877",
     "status": "completed"
    },
    "tags": []
   },
   "source": [
    "It read all gene-gene correlation matrices across chromosomes, performs some tests and saves a final, singla gene-gene correlation matrix."
   ]
  },
  {
   "cell_type": "markdown",
   "id": "d389dd7b-20d8-44ed-8053-6e2cd8efea2e",
   "metadata": {
    "papermill": {
     "duration": 0.002312,
     "end_time": "2022-12-15T19:02:33.873596",
     "exception": false,
     "start_time": "2022-12-15T19:02:33.871284",
     "status": "completed"
    },
    "tags": []
   },
   "source": [
    "# Modules"
   ]
  },
  {
   "cell_type": "code",
   "execution_count": 1,
   "id": "69797656-0db2-41d5-b4d6-63c24d47ad38",
   "metadata": {
    "execution": {
     "iopub.execute_input": "2022-12-15T19:02:33.879664Z",
     "iopub.status.busy": "2022-12-15T19:02:33.879110Z",
     "iopub.status.idle": "2022-12-15T19:02:33.886292Z",
     "shell.execute_reply": "2022-12-15T19:02:33.885740Z"
    },
    "papermill": {
     "duration": 0.011848,
     "end_time": "2022-12-15T19:02:33.887798",
     "exception": false,
     "start_time": "2022-12-15T19:02:33.875950",
     "status": "completed"
    },
    "tags": []
   },
   "outputs": [],
   "source": [
    "import os\n",
    "from pathlib import Path"
   ]
  },
  {
   "cell_type": "markdown",
   "id": "dd17aa24-a692-4f62-ac69-c270447c7729",
   "metadata": {
    "papermill": {
     "duration": 0.002344,
     "end_time": "2022-12-15T19:02:33.892788",
     "exception": false,
     "start_time": "2022-12-15T19:02:33.890444",
     "status": "completed"
    },
    "tags": []
   },
   "source": [
    "# Settings"
   ]
  },
  {
   "cell_type": "markdown",
   "id": "3829ee6c-68b6-445e-adce-aa7a6280a56c",
   "metadata": {
    "papermill": {
     "duration": 0.002317,
     "end_time": "2022-12-15T19:02:33.897462",
     "exception": false,
     "start_time": "2022-12-15T19:02:33.895145",
     "status": "completed"
    },
    "tags": []
   },
   "source": [
    "Apparently, there is no easy way to get the parent directory of\n",
    "a notebook in Jupyter, so here I get that information either from\n",
    "the parameter sent by `nbs/run_nbs.sh` (if called from command-line) or\n",
    "from `os.getcwd()` (if called from browser)."
   ]
  },
  {
   "cell_type": "code",
   "execution_count": 2,
   "id": "e8f8093f-7738-448a-b29d-e9059684fcd1",
   "metadata": {
    "execution": {
     "iopub.execute_input": "2022-12-15T19:02:33.903291Z",
     "iopub.status.busy": "2022-12-15T19:02:33.902879Z",
     "iopub.status.idle": "2022-12-15T19:02:33.905853Z",
     "shell.execute_reply": "2022-12-15T19:02:33.905311Z"
    },
    "papermill": {
     "duration": 0.007387,
     "end_time": "2022-12-15T19:02:33.907204",
     "exception": false,
     "start_time": "2022-12-15T19:02:33.899817",
     "status": "completed"
    },
    "tags": [
     "parameters"
    ]
   },
   "outputs": [],
   "source": [
    "PHENOPLIER_NOTEBOOK_FILEPATH = None\n",
    "PHENOPLIER_NOTEBOOK_DIR = os.getcwd()"
   ]
  },
  {
   "cell_type": "code",
   "execution_count": 3,
   "id": "50ffd975",
   "metadata": {
    "execution": {
     "iopub.execute_input": "2022-12-15T19:02:33.912876Z",
     "iopub.status.busy": "2022-12-15T19:02:33.912681Z",
     "iopub.status.idle": "2022-12-15T19:02:33.915494Z",
     "shell.execute_reply": "2022-12-15T19:02:33.914955Z"
    },
    "lines_to_next_cell": 2,
    "papermill": {
     "duration": 0.007334,
     "end_time": "2022-12-15T19:02:33.916949",
     "exception": false,
     "start_time": "2022-12-15T19:02:33.909615",
     "status": "completed"
    },
    "tags": [
     "injected-parameters"
    ]
   },
   "outputs": [],
   "source": [
    "# Parameters\n",
    "PHENOPLIER_NOTEBOOK_FILEPATH = \"projects/asthma-copd/nbs/20_gene_corrs/10-run_postprocessing_gene_correlations.ipynb\""
   ]
  },
  {
   "cell_type": "code",
   "execution_count": 4,
   "id": "80437810-fd28-40ba-8dab-f60424764bfd",
   "metadata": {
    "execution": {
     "iopub.execute_input": "2022-12-15T19:02:33.923332Z",
     "iopub.status.busy": "2022-12-15T19:02:33.922815Z",
     "iopub.status.idle": "2022-12-15T19:02:33.932284Z",
     "shell.execute_reply": "2022-12-15T19:02:33.931744Z"
    },
    "papermill": {
     "duration": 0.014349,
     "end_time": "2022-12-15T19:02:33.933736",
     "exception": false,
     "start_time": "2022-12-15T19:02:33.919387",
     "status": "completed"
    },
    "tags": []
   },
   "outputs": [
    {
     "data": {
      "text/plain": [
       "'projects/asthma-copd/nbs/20_gene_corrs'"
      ]
     },
     "metadata": {},
     "output_type": "display_data"
    }
   ],
   "source": [
    "if PHENOPLIER_NOTEBOOK_FILEPATH is not None:\n",
    "    PHENOPLIER_NOTEBOOK_DIR = str(Path(PHENOPLIER_NOTEBOOK_FILEPATH).parent)\n",
    "\n",
    "display(PHENOPLIER_NOTEBOOK_DIR)"
   ]
  },
  {
   "cell_type": "markdown",
   "id": "3a558eec-2251-4be7-a754-1f98adde3aec",
   "metadata": {
    "papermill": {
     "duration": 0.002469,
     "end_time": "2022-12-15T19:02:33.938984",
     "exception": false,
     "start_time": "2022-12-15T19:02:33.936515",
     "status": "completed"
    },
    "tags": []
   },
   "source": [
    "# Run"
   ]
  },
  {
   "cell_type": "code",
   "execution_count": 5,
   "id": "0c0cd3d9-b032-4f03-82eb-0017a0ef1cca",
   "metadata": {
    "execution": {
     "iopub.execute_input": "2022-12-15T19:02:33.945269Z",
     "iopub.status.busy": "2022-12-15T19:02:33.944850Z",
     "iopub.status.idle": "2022-12-15T19:06:05.236209Z",
     "shell.execute_reply": "2022-12-15T19:06:05.235477Z"
    },
    "papermill": {
     "duration": 211.296259,
     "end_time": "2022-12-15T19:06:05.237752",
     "exception": false,
     "start_time": "2022-12-15T19:02:33.941493",
     "status": "completed"
    },
    "tags": []
   },
   "outputs": [
    {
     "name": "stdout",
     "output_type": "stream",
     "text": [
      "Running for asthma_only\n",
      "Running for copd_only\n",
      "Running for aco\n"
     ]
    }
   ],
   "source": [
    "%%bash -s \"$PHENOPLIER_NOTEBOOK_DIR\"\n",
    "set -euo pipefail\n",
    "IFS=$'\\n\\t'\n",
    "\n",
    "# read the notebook directory parameter and remove $1\n",
    "export PHENOPLIER_NOTEBOOK_DIR=\"$1\"\n",
    "shift\n",
    "\n",
    "run_job () {\n",
    "    # run_job is a standard function name that performs a particular job\n",
    "    # depending on the context. It will be called by GNU Parallel below.\n",
    "\n",
    "    # read trait information\n",
    "    # the first parameter to this function is a string with values separated by\n",
    "    # commas (,). So here I split those into different variables.\n",
    "    IFS=',' read -r pheno_id file sample_size n_cases <<< \"$1\"\n",
    "\n",
    "    OUTPUT_DIR=${PHENOPLIER_PROJECTS_ASTHMA_COPD_RESULTS_DIR}/gls_phenoplier\n",
    "\n",
    "    # make sure we are not also parallelizing within numpy, etc\n",
    "    export NUMBA_NUM_THREADS=1\n",
    "    export MKL_NUM_THREADS=1\n",
    "    export OPEN_BLAS_NUM_THREADS=1\n",
    "    export NUMEXPR_NUM_THREADS=1\n",
    "    export OMP_NUM_THREADS=1\n",
    "\n",
    "    cd \"${PHENOPLIER_CODE_DIR}\"\n",
    "\n",
    "    NOTEBOOK_OUTPUT_FOLDER=\"output/${pheno_id,,}\"\n",
    "    FULL_NOTEBOOK_OUTPUT_FOLDER=\"${PHENOPLIER_NOTEBOOK_DIR}/${NOTEBOOK_OUTPUT_FOLDER}\"\n",
    "    mkdir -p \"$FULL_NOTEBOOK_OUTPUT_FOLDER\"\n",
    "\n",
    "    echo \"Running for $pheno_id\"\n",
    "\n",
    "    bash nbs/run_nbs.sh \\\n",
    "        \"${PHENOPLIER_NOTEBOOK_DIR}/jobs/10-postprocess_gene_expr_correlations.ipynb\" \\\n",
    "        \"../${NOTEBOOK_OUTPUT_FOLDER}/10-postprocess_gene_expr_correlations.run.ipynb\" \\\n",
    "        -p COHORT_NAME \"$pheno_id\" \\\n",
    "        -p OUTPUT_DIR_BASE \"$OUTPUT_DIR\" \\\n",
    "    &>/dev/null\n",
    "}\n",
    "\n",
    "# export function so GNU Parallel can see it\n",
    "export -f run_job\n",
    "\n",
    "# generate a list of run_job calls for GNU Parallel\n",
    "while IFS= read -r line; do\n",
    "    echo run_job \"$line\"\n",
    "done < <(tail -n \"+2\" \"${PHENOPLIER_PROJECTS_ASTHMA_COPD_TRAITS_INFO_FILE}\") |\n",
    "    parallel -k --lb --halt 2 -j${PHENOPLIER_GENERAL_N_JOBS}"
   ]
  },
  {
   "cell_type": "code",
   "execution_count": null,
   "id": "4c85b633-88a5-4623-b105-42c38208109e",
   "metadata": {
    "papermill": {
     "duration": 0.002149,
     "end_time": "2022-12-15T19:06:05.242627",
     "exception": false,
     "start_time": "2022-12-15T19:06:05.240478",
     "status": "completed"
    },
    "tags": []
   },
   "outputs": [],
   "source": []
  }
 ],
 "metadata": {
  "jupytext": {
   "cell_metadata_filter": "all,-execution,-papermill,-trusted"
  },
  "kernelspec": {
   "display_name": "Python 3 (ipykernel)",
   "language": "python",
   "name": "python3"
  },
  "language_info": {
   "codemirror_mode": {
    "name": "ipython",
    "version": 3
   },
   "file_extension": ".py",
   "mimetype": "text/x-python",
   "name": "python",
   "nbconvert_exporter": "python",
   "pygments_lexer": "ipython3",
   "version": "3.10.6"
  },
  "papermill": {
   "default_parameters": {},
   "duration": 212.573367,
   "end_time": "2022-12-15T19:06:05.460867",
   "environment_variables": {},
   "exception": null,
   "input_path": "projects/asthma-copd/nbs/20_gene_corrs/10-run_postprocessing_gene_correlations.ipynb",
   "output_path": "projects/asthma-copd/nbs/20_gene_corrs/10-run_postprocessing_gene_correlations.run.ipynb",
   "parameters": {
    "PHENOPLIER_NOTEBOOK_FILEPATH": "projects/asthma-copd/nbs/20_gene_corrs/10-run_postprocessing_gene_correlations.ipynb"
   },
   "start_time": "2022-12-15T19:02:32.887500",
   "version": "2.3.4"
  }
 },
 "nbformat": 4,
 "nbformat_minor": 5
}
