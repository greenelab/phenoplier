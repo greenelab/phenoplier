{
 "cells": [
  {
   "cell_type": "markdown",
   "id": "7a6632fb",
   "metadata": {
    "papermill": {
     "duration": 0.010148,
     "end_time": "2022-11-29T22:50:16.488521",
     "exception": false,
     "start_time": "2022-11-29T22:50:16.478373",
     "status": "completed"
    },
    "tags": []
   },
   "source": [
    "# Description"
   ]
  },
  {
   "cell_type": "markdown",
   "id": "7097c346",
   "metadata": {
    "papermill": {
     "duration": 0.008966,
     "end_time": "2022-11-29T22:50:16.506918",
     "exception": false,
     "start_time": "2022-11-29T22:50:16.497952",
     "status": "completed"
    },
    "tags": []
   },
   "source": [
    "(Please, take a look at the README.md file in this directory for instructions on how to run this notebook)\n",
    "\n",
    "This notebook computes predicted expression correlations between all genes in the MultiPLIER models.\n",
    "\n",
    "It has specicfic parameters for papermill (see under `Settings` below).\n",
    "It can be configured to run on a single chromosome to run in parallel.\n",
    "\n",
    "This notebook is not directly run. See README.md."
   ]
  },
  {
   "cell_type": "markdown",
   "id": "c61d8427",
   "metadata": {
    "papermill": {
     "duration": 0.008261,
     "end_time": "2022-11-29T22:50:16.523518",
     "exception": false,
     "start_time": "2022-11-29T22:50:16.515257",
     "status": "completed"
    },
    "tags": []
   },
   "source": [
    "# Modules"
   ]
  },
  {
   "cell_type": "code",
   "execution_count": 1,
   "id": "bbc0234f",
   "metadata": {
    "execution": {
     "iopub.execute_input": "2022-11-29T22:50:16.542146Z",
     "iopub.status.busy": "2022-11-29T22:50:16.541828Z",
     "iopub.status.idle": "2022-11-29T22:50:16.562806Z",
     "shell.execute_reply": "2022-11-29T22:50:16.562163Z"
    },
    "papermill": {
     "duration": 0.031896,
     "end_time": "2022-11-29T22:50:16.564456",
     "exception": false,
     "start_time": "2022-11-29T22:50:16.532560",
     "status": "completed"
    },
    "tags": []
   },
   "outputs": [],
   "source": [
    "%load_ext autoreload\n",
    "%autoreload 2"
   ]
  },
  {
   "cell_type": "code",
   "execution_count": 2,
   "id": "1d5f5a59",
   "metadata": {
    "execution": {
     "iopub.execute_input": "2022-11-29T22:50:16.582949Z",
     "iopub.status.busy": "2022-11-29T22:50:16.582488Z",
     "iopub.status.idle": "2022-11-29T22:50:17.276079Z",
     "shell.execute_reply": "2022-11-29T22:50:17.275539Z"
    },
    "papermill": {
     "duration": 0.704475,
     "end_time": "2022-11-29T22:50:17.277859",
     "exception": false,
     "start_time": "2022-11-29T22:50:16.573384",
     "status": "completed"
    },
    "tags": []
   },
   "outputs": [],
   "source": [
    "from random import sample, seed\n",
    "import warnings\n",
    "from pathlib import Path\n",
    "import pickle\n",
    "import traceback\n",
    "\n",
    "import numpy as np\n",
    "from scipy.spatial.distance import squareform\n",
    "import pandas as pd\n",
    "from tqdm import tqdm\n",
    "import matplotlib.pyplot as plt\n",
    "import seaborn as sns\n",
    "\n",
    "import conf\n",
    "from entity import Gene"
   ]
  },
  {
   "cell_type": "markdown",
   "id": "1eac24b5",
   "metadata": {
    "papermill": {
     "duration": 0.009817,
     "end_time": "2022-11-29T22:50:17.296420",
     "exception": false,
     "start_time": "2022-11-29T22:50:17.286603",
     "status": "completed"
    },
    "tags": []
   },
   "source": [
    "# Settings"
   ]
  },
  {
   "cell_type": "code",
   "execution_count": 3,
   "id": "ca4560ba",
   "metadata": {
    "execution": {
     "iopub.execute_input": "2022-11-29T22:50:17.315831Z",
     "iopub.status.busy": "2022-11-29T22:50:17.315707Z",
     "iopub.status.idle": "2022-11-29T22:50:17.328721Z",
     "shell.execute_reply": "2022-11-29T22:50:17.328241Z"
    },
    "papermill": {
     "duration": 0.023387,
     "end_time": "2022-11-29T22:50:17.330144",
     "exception": false,
     "start_time": "2022-11-29T22:50:17.306757",
     "status": "completed"
    },
    "tags": [
     "parameters"
    ]
   },
   "outputs": [],
   "source": [
    "# a cohort name (it could be something like UK_BIOBANK, etc)\n",
    "COHORT_NAME = None\n",
    "\n",
    "# reference panel such as 1000G or GTEX_V8\n",
    "REFERENCE_PANEL = \"GTEX_V8\"\n",
    "\n",
    "# predictions models such as MASHR or ELASTIC_NET\n",
    "EQTL_MODEL = \"MASHR\"\n",
    "\n",
    "# this is the default value used in S-MultiXcan to select the\n",
    "# top principal components of the expression correlation matrix\n",
    "SMULTIXCAN_CONDITION_NUMBER = 30\n",
    "\n",
    "# specifies a single chromosome value\n",
    "CHROMOSOME = None\n",
    "\n",
    "# If True, computes the correlation between closeby genes only;\n",
    "# otherwise, it computes correlations for all genes in a chromosome\n",
    "COMPUTE_CORRELATIONS_WITHIN_DISTANCE = False\n",
    "\n",
    "# if True, then it will continue if a gene pair correlation fails,\n",
    "# printing the warning/error for debugging. If False, any warning/error\n",
    "# will be thrown\n",
    "DEBUG_MODE = False\n",
    "\n",
    "# output dir\n",
    "OUTPUT_DIR_BASE = None"
   ]
  },
  {
   "cell_type": "code",
   "execution_count": 4,
   "id": "cdad2582",
   "metadata": {
    "execution": {
     "iopub.execute_input": "2022-11-29T22:50:17.349640Z",
     "iopub.status.busy": "2022-11-29T22:50:17.349387Z",
     "iopub.status.idle": "2022-11-29T22:50:17.361448Z",
     "shell.execute_reply": "2022-11-29T22:50:17.361006Z"
    },
    "papermill": {
     "duration": 0.023514,
     "end_time": "2022-11-29T22:50:17.362850",
     "exception": false,
     "start_time": "2022-11-29T22:50:17.339336",
     "status": "completed"
    },
    "tags": [
     "injected-parameters"
    ]
   },
   "outputs": [],
   "source": [
    "# Parameters\n",
    "COHORT_NAME = \"asthma_only\"\n",
    "CHROMOSOME = 15\n",
    "OUTPUT_DIR_BASE = \"/opt/data/projects/asthma-copd/results/gls_phenoplier\"\n"
   ]
  },
  {
   "cell_type": "code",
   "execution_count": 5,
   "id": "3190631f-27fc-480f-b18e-571d580425a5",
   "metadata": {
    "execution": {
     "iopub.execute_input": "2022-11-29T22:50:17.380449Z",
     "iopub.status.busy": "2022-11-29T22:50:17.380328Z",
     "iopub.status.idle": "2022-11-29T22:50:17.396172Z",
     "shell.execute_reply": "2022-11-29T22:50:17.395711Z"
    },
    "papermill": {
     "duration": 0.026102,
     "end_time": "2022-11-29T22:50:17.397602",
     "exception": false,
     "start_time": "2022-11-29T22:50:17.371500",
     "status": "completed"
    },
    "tags": []
   },
   "outputs": [
    {
     "data": {
      "text/plain": [
       "'Cohort name: asthma_only'"
      ]
     },
     "metadata": {},
     "output_type": "display_data"
    }
   ],
   "source": [
    "assert COHORT_NAME is not None and len(COHORT_NAME) > 0, \"A cohort name must be given\"\n",
    "\n",
    "COHORT_NAME = COHORT_NAME.lower()\n",
    "display(f\"Cohort name: {COHORT_NAME}\")"
   ]
  },
  {
   "cell_type": "code",
   "execution_count": 6,
   "id": "f53ba19b-0f93-4fa2-a047-63b375939d1a",
   "metadata": {
    "execution": {
     "iopub.execute_input": "2022-11-29T22:50:17.416316Z",
     "iopub.status.busy": "2022-11-29T22:50:17.416199Z",
     "iopub.status.idle": "2022-11-29T22:50:17.429130Z",
     "shell.execute_reply": "2022-11-29T22:50:17.428689Z"
    },
    "papermill": {
     "duration": 0.023877,
     "end_time": "2022-11-29T22:50:17.430530",
     "exception": false,
     "start_time": "2022-11-29T22:50:17.406653",
     "status": "completed"
    },
    "tags": []
   },
   "outputs": [
    {
     "data": {
      "text/plain": [
       "'Reference panel: GTEX_V8'"
      ]
     },
     "metadata": {},
     "output_type": "display_data"
    }
   ],
   "source": [
    "assert (\n",
    "    REFERENCE_PANEL is not None and len(REFERENCE_PANEL) > 0\n",
    "), \"A reference panel must be given\"\n",
    "\n",
    "display(f\"Reference panel: {REFERENCE_PANEL}\")"
   ]
  },
  {
   "cell_type": "code",
   "execution_count": 7,
   "id": "e024d130-c139-429a-9c6e-ccf149e297b0",
   "metadata": {
    "execution": {
     "iopub.execute_input": "2022-11-29T22:50:17.448781Z",
     "iopub.status.busy": "2022-11-29T22:50:17.448603Z",
     "iopub.status.idle": "2022-11-29T22:50:17.461707Z",
     "shell.execute_reply": "2022-11-29T22:50:17.461272Z"
    },
    "papermill": {
     "duration": 0.023714,
     "end_time": "2022-11-29T22:50:17.463119",
     "exception": false,
     "start_time": "2022-11-29T22:50:17.439405",
     "status": "completed"
    },
    "tags": []
   },
   "outputs": [
    {
     "data": {
      "text/plain": [
       "'eQTL model: MASHR) / mashr_'"
      ]
     },
     "metadata": {},
     "output_type": "display_data"
    }
   ],
   "source": [
    "assert (\n",
    "    EQTL_MODEL is not None and len(EQTL_MODEL) > 0\n",
    "), \"A prediction/eQTL model must be given\"\n",
    "\n",
    "EQTL_MODEL_FILES_PREFIX = conf.PHENOMEXCAN[\"PREDICTION_MODELS\"][f\"{EQTL_MODEL}_PREFIX\"]\n",
    "display(f\"eQTL model: {EQTL_MODEL}) / {EQTL_MODEL_FILES_PREFIX}\")"
   ]
  },
  {
   "cell_type": "code",
   "execution_count": 8,
   "id": "552a7f63-a18c-4d3e-bb6a-94f99b431291",
   "metadata": {
    "execution": {
     "iopub.execute_input": "2022-11-29T22:50:17.482211Z",
     "iopub.status.busy": "2022-11-29T22:50:17.482057Z",
     "iopub.status.idle": "2022-11-29T22:50:17.495014Z",
     "shell.execute_reply": "2022-11-29T22:50:17.494574Z"
    },
    "papermill": {
     "duration": 0.024135,
     "end_time": "2022-11-29T22:50:17.496327",
     "exception": false,
     "start_time": "2022-11-29T22:50:17.472192",
     "status": "completed"
    },
    "tags": []
   },
   "outputs": [
    {
     "data": {
      "text/plain": [
       "'S-MultiXcan condition number: 30'"
      ]
     },
     "metadata": {},
     "output_type": "display_data"
    }
   ],
   "source": [
    "assert (\n",
    "    SMULTIXCAN_CONDITION_NUMBER is not None and SMULTIXCAN_CONDITION_NUMBER > 0\n",
    "), \"The S-MultiXcan condition number (positive integer) must be given\"\n",
    "\n",
    "display(f\"S-MultiXcan condition number: {SMULTIXCAN_CONDITION_NUMBER}\")"
   ]
  },
  {
   "cell_type": "code",
   "execution_count": 9,
   "id": "f34a336f-548e-4afe-8955-90eaea4f42c6",
   "metadata": {
    "execution": {
     "iopub.execute_input": "2022-11-29T22:50:17.515135Z",
     "iopub.status.busy": "2022-11-29T22:50:17.515018Z",
     "iopub.status.idle": "2022-11-29T22:50:17.533750Z",
     "shell.execute_reply": "2022-11-29T22:50:17.533374Z"
    },
    "papermill": {
     "duration": 0.029834,
     "end_time": "2022-11-29T22:50:17.535313",
     "exception": false,
     "start_time": "2022-11-29T22:50:17.505479",
     "status": "completed"
    },
    "tags": []
   },
   "outputs": [
    {
     "data": {
      "text/plain": [
       "'Working on chromosome 15'"
      ]
     },
     "metadata": {},
     "output_type": "display_data"
    }
   ],
   "source": [
    "assert CHROMOSOME is not None and (\n",
    "    1 <= CHROMOSOME <= 22\n",
    "), \"You have to select one chromosome (format: number between 1 and 22)\"\n",
    "\n",
    "# CHROMOSOME = str(CHROMOSOME)\n",
    "display(f\"Working on chromosome {CHROMOSOME}\")"
   ]
  },
  {
   "cell_type": "code",
   "execution_count": 10,
   "id": "ab8e96e8-06b5-4363-9dcd-dc4d78cc27f7",
   "metadata": {
    "execution": {
     "iopub.execute_input": "2022-11-29T22:50:17.554499Z",
     "iopub.status.busy": "2022-11-29T22:50:17.554322Z",
     "iopub.status.idle": "2022-11-29T22:50:17.575124Z",
     "shell.execute_reply": "2022-11-29T22:50:17.574749Z"
    },
    "papermill": {
     "duration": 0.032509,
     "end_time": "2022-11-29T22:50:17.577111",
     "exception": false,
     "start_time": "2022-11-29T22:50:17.544602",
     "status": "completed"
    },
    "tags": []
   },
   "outputs": [
    {
     "data": {
      "text/plain": [
       "'Compute correlation within distance False'"
      ]
     },
     "metadata": {},
     "output_type": "display_data"
    }
   ],
   "source": [
    "display(f\"Compute correlation within distance {COMPUTE_CORRELATIONS_WITHIN_DISTANCE}\")"
   ]
  },
  {
   "cell_type": "code",
   "execution_count": 11,
   "id": "b393b698-77e3-4ba2-8ac1-e14d51aa988f",
   "metadata": {
    "execution": {
     "iopub.execute_input": "2022-11-29T22:50:17.597353Z",
     "iopub.status.busy": "2022-11-29T22:50:17.597012Z",
     "iopub.status.idle": "2022-11-29T22:50:17.616839Z",
     "shell.execute_reply": "2022-11-29T22:50:17.616471Z"
    },
    "papermill": {
     "duration": 0.031077,
     "end_time": "2022-11-29T22:50:17.618189",
     "exception": false,
     "start_time": "2022-11-29T22:50:17.587112",
     "status": "completed"
    },
    "tags": []
   },
   "outputs": [
    {
     "data": {
      "text/plain": [
       "'Using output dir base: /opt/data/projects/asthma-copd/results/gls_phenoplier/gene_corrs/asthma_only'"
      ]
     },
     "metadata": {},
     "output_type": "display_data"
    }
   ],
   "source": [
    "assert (\n",
    "    OUTPUT_DIR_BASE is not None and len(OUTPUT_DIR_BASE) > 0\n",
    "), \"Output directory path must be given\"\n",
    "\n",
    "OUTPUT_DIR_BASE = (\n",
    "    Path(OUTPUT_DIR_BASE)\n",
    "    / \"gene_corrs\"\n",
    "    / COHORT_NAME\n",
    "    # / REFERENCE_PANEL.lower()\n",
    "    # / EQTL_MODEL.lower()\n",
    ").resolve()\n",
    "\n",
    "OUTPUT_DIR_BASE.mkdir(parents=True, exist_ok=True)\n",
    "\n",
    "display(f\"Using output dir base: {OUTPUT_DIR_BASE}\")"
   ]
  },
  {
   "cell_type": "markdown",
   "id": "d2ba085e",
   "metadata": {
    "papermill": {
     "duration": 0.009367,
     "end_time": "2022-11-29T22:50:17.637308",
     "exception": false,
     "start_time": "2022-11-29T22:50:17.627941",
     "status": "completed"
    },
    "tags": []
   },
   "source": [
    "# Load data"
   ]
  },
  {
   "cell_type": "markdown",
   "id": "7dcb8db7",
   "metadata": {
    "papermill": {
     "duration": 0.016498,
     "end_time": "2022-11-29T22:50:17.668632",
     "exception": false,
     "start_time": "2022-11-29T22:50:17.652134",
     "status": "completed"
    },
    "tags": []
   },
   "source": [
    "## GWAS variants"
   ]
  },
  {
   "cell_type": "code",
   "execution_count": 12,
   "id": "29434c4e-8cd3-4b9b-82e4-b5a251d9dd19",
   "metadata": {
    "execution": {
     "iopub.execute_input": "2022-11-29T22:50:17.679334Z",
     "iopub.status.busy": "2022-11-29T22:50:17.678977Z",
     "iopub.status.idle": "2022-11-29T22:50:19.638731Z",
     "shell.execute_reply": "2022-11-29T22:50:19.638286Z"
    },
    "papermill": {
     "duration": 1.966765,
     "end_time": "2022-11-29T22:50:19.640431",
     "exception": false,
     "start_time": "2022-11-29T22:50:17.673666",
     "status": "completed"
    },
    "tags": []
   },
   "outputs": [],
   "source": [
    "with open(OUTPUT_DIR_BASE / \"gwas_variant_ids.pkl\", \"rb\") as handle:\n",
    "    gwas_variants_ids_set = pickle.load(handle)"
   ]
  },
  {
   "cell_type": "code",
   "execution_count": 13,
   "id": "b9d9dec2-4a76-4bf9-bde2-e24c95acb8a0",
   "metadata": {
    "execution": {
     "iopub.execute_input": "2022-11-29T22:50:19.661315Z",
     "iopub.status.busy": "2022-11-29T22:50:19.661157Z",
     "iopub.status.idle": "2022-11-29T22:50:19.674010Z",
     "shell.execute_reply": "2022-11-29T22:50:19.673665Z"
    },
    "papermill": {
     "duration": 0.025018,
     "end_time": "2022-11-29T22:50:19.675359",
     "exception": false,
     "start_time": "2022-11-29T22:50:19.650341",
     "status": "completed"
    },
    "tags": []
   },
   "outputs": [
    {
     "data": {
      "text/plain": [
       "8578486"
      ]
     },
     "execution_count": 13,
     "metadata": {},
     "output_type": "execute_result"
    }
   ],
   "source": [
    "len(gwas_variants_ids_set)"
   ]
  },
  {
   "cell_type": "code",
   "execution_count": 14,
   "id": "4235b06a-6034-4ee4-a0a3-2ae35d122418",
   "metadata": {
    "execution": {
     "iopub.execute_input": "2022-11-29T22:50:19.695585Z",
     "iopub.status.busy": "2022-11-29T22:50:19.695405Z",
     "iopub.status.idle": "2022-11-29T22:50:20.365172Z",
     "shell.execute_reply": "2022-11-29T22:50:20.364754Z"
    },
    "papermill": {
     "duration": 0.681602,
     "end_time": "2022-11-29T22:50:20.366803",
     "exception": false,
     "start_time": "2022-11-29T22:50:19.685201",
     "status": "completed"
    },
    "tags": []
   },
   "outputs": [
    {
     "data": {
      "text/plain": [
       "['chr3_144281086_C_CTGA_b38',\n",
       " 'chr9_9000961_C_T_b38',\n",
       " 'chr17_72254107_A_G_b38',\n",
       " 'chr9_108645215_T_C_b38',\n",
       " 'chr4_117359334_C_A_b38']"
      ]
     },
     "execution_count": 14,
     "metadata": {},
     "output_type": "execute_result"
    }
   ],
   "source": [
    "list(gwas_variants_ids_set)[:5]"
   ]
  },
  {
   "cell_type": "markdown",
   "id": "07866999-2305-41f9-a144-e69c9122c212",
   "metadata": {
    "papermill": {
     "duration": 0.010533,
     "end_time": "2022-11-29T22:50:20.390050",
     "exception": false,
     "start_time": "2022-11-29T22:50:20.379517",
     "status": "completed"
    },
    "tags": []
   },
   "source": [
    "## S-PrediXcan tissue models"
   ]
  },
  {
   "cell_type": "code",
   "execution_count": 15,
   "id": "780611d9-77c8-405f-90a4-f271f7b09397",
   "metadata": {
    "execution": {
     "iopub.execute_input": "2022-11-29T22:50:20.413847Z",
     "iopub.status.busy": "2022-11-29T22:50:20.413716Z",
     "iopub.status.idle": "2022-11-29T22:50:20.728327Z",
     "shell.execute_reply": "2022-11-29T22:50:20.727888Z"
    },
    "papermill": {
     "duration": 0.32839,
     "end_time": "2022-11-29T22:50:20.730107",
     "exception": false,
     "start_time": "2022-11-29T22:50:20.401717",
     "status": "completed"
    },
    "tags": []
   },
   "outputs": [],
   "source": [
    "spredixcan_genes_models = pd.read_pickle(OUTPUT_DIR_BASE / \"gene_tissues.pkl\")"
   ]
  },
  {
   "cell_type": "code",
   "execution_count": 16,
   "id": "726dd1f6-9557-4225-91fa-b3b879ea96e1",
   "metadata": {
    "execution": {
     "iopub.execute_input": "2022-11-29T22:50:20.755280Z",
     "iopub.status.busy": "2022-11-29T22:50:20.754952Z",
     "iopub.status.idle": "2022-11-29T22:50:20.769500Z",
     "shell.execute_reply": "2022-11-29T22:50:20.769121Z"
    },
    "papermill": {
     "duration": 0.028403,
     "end_time": "2022-11-29T22:50:20.771051",
     "exception": false,
     "start_time": "2022-11-29T22:50:20.742648",
     "status": "completed"
    },
    "tags": []
   },
   "outputs": [
    {
     "data": {
      "text/plain": [
       "(6443, 5)"
      ]
     },
     "execution_count": 16,
     "metadata": {},
     "output_type": "execute_result"
    }
   ],
   "source": [
    "spredixcan_genes_models.shape"
   ]
  },
  {
   "cell_type": "code",
   "execution_count": 17,
   "id": "944a1b48-222c-4eb0-b252-b9de2cbca215",
   "metadata": {
    "execution": {
     "iopub.execute_input": "2022-11-29T22:50:20.791893Z",
     "iopub.status.busy": "2022-11-29T22:50:20.791712Z",
     "iopub.status.idle": "2022-11-29T22:50:20.808199Z",
     "shell.execute_reply": "2022-11-29T22:50:20.807819Z"
    },
    "papermill": {
     "duration": 0.028224,
     "end_time": "2022-11-29T22:50:20.809544",
     "exception": false,
     "start_time": "2022-11-29T22:50:20.781320",
     "status": "completed"
    },
    "tags": []
   },
   "outputs": [
    {
     "data": {
      "text/html": [
       "<div>\n",
       "<style scoped>\n",
       "    .dataframe tbody tr th:only-of-type {\n",
       "        vertical-align: middle;\n",
       "    }\n",
       "\n",
       "    .dataframe tbody tr th {\n",
       "        vertical-align: top;\n",
       "    }\n",
       "\n",
       "    .dataframe thead th {\n",
       "        text-align: right;\n",
       "    }\n",
       "</style>\n",
       "<table border=\"1\" class=\"dataframe\">\n",
       "  <thead>\n",
       "    <tr style=\"text-align: right;\">\n",
       "      <th></th>\n",
       "      <th>gene_name</th>\n",
       "      <th>tissue</th>\n",
       "      <th>n_tissues</th>\n",
       "      <th>n_snps_used_sum</th>\n",
       "      <th>n_snps_in_model_sum</th>\n",
       "    </tr>\n",
       "    <tr>\n",
       "      <th>gene_id</th>\n",
       "      <th></th>\n",
       "      <th></th>\n",
       "      <th></th>\n",
       "      <th></th>\n",
       "      <th></th>\n",
       "    </tr>\n",
       "  </thead>\n",
       "  <tbody>\n",
       "    <tr>\n",
       "      <th>ENSG00000000419</th>\n",
       "      <td>DPM1</td>\n",
       "      <td>(Brain_Hypothalamus, Brain_Substantia_nigra)</td>\n",
       "      <td>2</td>\n",
       "      <td>2</td>\n",
       "      <td>2</td>\n",
       "    </tr>\n",
       "    <tr>\n",
       "      <th>ENSG00000000938</th>\n",
       "      <td>FGR</td>\n",
       "      <td>(Adipose_Visceral_Omentum, Brain_Hippocampus, ...</td>\n",
       "      <td>36</td>\n",
       "      <td>40</td>\n",
       "      <td>40</td>\n",
       "    </tr>\n",
       "    <tr>\n",
       "      <th>ENSG00000000971</th>\n",
       "      <td>CFH</td>\n",
       "      <td>(Brain_Hippocampus, Breast_Mammary_Tissue, Col...</td>\n",
       "      <td>34</td>\n",
       "      <td>44</td>\n",
       "      <td>44</td>\n",
       "    </tr>\n",
       "    <tr>\n",
       "      <th>ENSG00000001084</th>\n",
       "      <td>GCLC</td>\n",
       "      <td>(Brain_Hippocampus, Cells_EBV-transformed_lymp...</td>\n",
       "      <td>32</td>\n",
       "      <td>46</td>\n",
       "      <td>46</td>\n",
       "    </tr>\n",
       "    <tr>\n",
       "      <th>ENSG00000001167</th>\n",
       "      <td>NFYA</td>\n",
       "      <td>(Adipose_Visceral_Omentum, Brain_Hippocampus, ...</td>\n",
       "      <td>40</td>\n",
       "      <td>47</td>\n",
       "      <td>48</td>\n",
       "    </tr>\n",
       "  </tbody>\n",
       "</table>\n",
       "</div>"
      ],
      "text/plain": [
       "                gene_name                                             tissue  \\\n",
       "gene_id                                                                        \n",
       "ENSG00000000419      DPM1       (Brain_Hypothalamus, Brain_Substantia_nigra)   \n",
       "ENSG00000000938       FGR  (Adipose_Visceral_Omentum, Brain_Hippocampus, ...   \n",
       "ENSG00000000971       CFH  (Brain_Hippocampus, Breast_Mammary_Tissue, Col...   \n",
       "ENSG00000001084      GCLC  (Brain_Hippocampus, Cells_EBV-transformed_lymp...   \n",
       "ENSG00000001167      NFYA  (Adipose_Visceral_Omentum, Brain_Hippocampus, ...   \n",
       "\n",
       "                 n_tissues  n_snps_used_sum  n_snps_in_model_sum  \n",
       "gene_id                                                           \n",
       "ENSG00000000419          2                2                    2  \n",
       "ENSG00000000938         36               40                   40  \n",
       "ENSG00000000971         34               44                   44  \n",
       "ENSG00000001084         32               46                   46  \n",
       "ENSG00000001167         40               47                   48  "
      ]
     },
     "execution_count": 17,
     "metadata": {},
     "output_type": "execute_result"
    }
   ],
   "source": [
    "spredixcan_genes_models.head()"
   ]
  },
  {
   "cell_type": "code",
   "execution_count": 18,
   "id": "d1c11bb1-be0b-4f40-b360-633d6827109f",
   "metadata": {
    "execution": {
     "iopub.execute_input": "2022-11-29T22:50:20.831286Z",
     "iopub.status.busy": "2022-11-29T22:50:20.831142Z",
     "iopub.status.idle": "2022-11-29T22:50:20.843716Z",
     "shell.execute_reply": "2022-11-29T22:50:20.843313Z"
    },
    "papermill": {
     "duration": 0.024631,
     "end_time": "2022-11-29T22:50:20.845034",
     "exception": false,
     "start_time": "2022-11-29T22:50:20.820403",
     "status": "completed"
    },
    "tags": []
   },
   "outputs": [],
   "source": [
    "assert spredixcan_genes_models.index.is_unique"
   ]
  },
  {
   "cell_type": "markdown",
   "id": "a5b5092c-a13e-47c4-a92a-480fcc08f3ae",
   "metadata": {
    "papermill": {
     "duration": 0.012172,
     "end_time": "2022-11-29T22:50:20.868649",
     "exception": false,
     "start_time": "2022-11-29T22:50:20.856477",
     "status": "completed"
    },
    "tags": []
   },
   "source": [
    "## Gene info"
   ]
  },
  {
   "cell_type": "code",
   "execution_count": 19,
   "id": "7d6bb224-88e9-4358-ac10-43a41d92cdad",
   "metadata": {
    "execution": {
     "iopub.execute_input": "2022-11-29T22:50:20.893765Z",
     "iopub.status.busy": "2022-11-29T22:50:20.893283Z",
     "iopub.status.idle": "2022-11-29T22:50:20.917071Z",
     "shell.execute_reply": "2022-11-29T22:50:20.916525Z"
    },
    "papermill": {
     "duration": 0.03662,
     "end_time": "2022-11-29T22:50:20.918076",
     "exception": false,
     "start_time": "2022-11-29T22:50:20.881456",
     "status": "completed"
    },
    "tags": []
   },
   "outputs": [],
   "source": [
    "genes_info = pd.read_pickle(OUTPUT_DIR_BASE / \"genes_info.pkl\")"
   ]
  },
  {
   "cell_type": "code",
   "execution_count": 20,
   "id": "9e32abfa-546d-483e-8c18-d526e9e05903",
   "metadata": {
    "execution": {
     "iopub.execute_input": "2022-11-29T22:50:20.930960Z",
     "iopub.status.busy": "2022-11-29T22:50:20.930740Z",
     "iopub.status.idle": "2022-11-29T22:50:20.952630Z",
     "shell.execute_reply": "2022-11-29T22:50:20.952109Z"
    },
    "papermill": {
     "duration": 0.02927,
     "end_time": "2022-11-29T22:50:20.953462",
     "exception": false,
     "start_time": "2022-11-29T22:50:20.924192",
     "status": "completed"
    },
    "tags": []
   },
   "outputs": [
    {
     "data": {
      "text/plain": [
       "(6443, 7)"
      ]
     },
     "execution_count": 20,
     "metadata": {},
     "output_type": "execute_result"
    }
   ],
   "source": [
    "genes_info.shape"
   ]
  },
  {
   "cell_type": "code",
   "execution_count": 21,
   "id": "d16c3e92-85ec-468a-9a56-e25a9774a1cb",
   "metadata": {
    "execution": {
     "iopub.execute_input": "2022-11-29T22:50:20.965264Z",
     "iopub.status.busy": "2022-11-29T22:50:20.965049Z",
     "iopub.status.idle": "2022-11-29T22:50:20.990844Z",
     "shell.execute_reply": "2022-11-29T22:50:20.990342Z"
    },
    "papermill": {
     "duration": 0.032695,
     "end_time": "2022-11-29T22:50:20.991801",
     "exception": false,
     "start_time": "2022-11-29T22:50:20.959106",
     "status": "completed"
    },
    "tags": []
   },
   "outputs": [
    {
     "data": {
      "text/html": [
       "<div>\n",
       "<style scoped>\n",
       "    .dataframe tbody tr th:only-of-type {\n",
       "        vertical-align: middle;\n",
       "    }\n",
       "\n",
       "    .dataframe tbody tr th {\n",
       "        vertical-align: top;\n",
       "    }\n",
       "\n",
       "    .dataframe thead th {\n",
       "        text-align: right;\n",
       "    }\n",
       "</style>\n",
       "<table border=\"1\" class=\"dataframe\">\n",
       "  <thead>\n",
       "    <tr style=\"text-align: right;\">\n",
       "      <th></th>\n",
       "      <th>name</th>\n",
       "      <th>id</th>\n",
       "      <th>chr</th>\n",
       "      <th>band</th>\n",
       "      <th>start_position</th>\n",
       "      <th>end_position</th>\n",
       "      <th>gene_length</th>\n",
       "    </tr>\n",
       "  </thead>\n",
       "  <tbody>\n",
       "    <tr>\n",
       "      <th>0</th>\n",
       "      <td>UBE4B</td>\n",
       "      <td>ENSG00000130939</td>\n",
       "      <td>1</td>\n",
       "      <td>1p36.22</td>\n",
       "      <td>10032832</td>\n",
       "      <td>10181239</td>\n",
       "      <td>148407</td>\n",
       "    </tr>\n",
       "    <tr>\n",
       "      <th>1</th>\n",
       "      <td>STX18</td>\n",
       "      <td>ENSG00000168818</td>\n",
       "      <td>4</td>\n",
       "      <td>4p16.2</td>\n",
       "      <td>4415742</td>\n",
       "      <td>4542346</td>\n",
       "      <td>126604</td>\n",
       "    </tr>\n",
       "    <tr>\n",
       "      <th>2</th>\n",
       "      <td>DNM2</td>\n",
       "      <td>ENSG00000079805</td>\n",
       "      <td>19</td>\n",
       "      <td>19p13.2</td>\n",
       "      <td>10718079</td>\n",
       "      <td>10833488</td>\n",
       "      <td>115409</td>\n",
       "    </tr>\n",
       "    <tr>\n",
       "      <th>3</th>\n",
       "      <td>PLD1</td>\n",
       "      <td>ENSG00000075651</td>\n",
       "      <td>3</td>\n",
       "      <td>3q26.31</td>\n",
       "      <td>171600404</td>\n",
       "      <td>171810950</td>\n",
       "      <td>210546</td>\n",
       "    </tr>\n",
       "    <tr>\n",
       "      <th>4</th>\n",
       "      <td>ANKRD55</td>\n",
       "      <td>ENSG00000164512</td>\n",
       "      <td>5</td>\n",
       "      <td>5q11.2</td>\n",
       "      <td>56099680</td>\n",
       "      <td>56233330</td>\n",
       "      <td>133650</td>\n",
       "    </tr>\n",
       "  </tbody>\n",
       "</table>\n",
       "</div>"
      ],
      "text/plain": [
       "      name               id  chr     band  start_position  end_position  \\\n",
       "0    UBE4B  ENSG00000130939    1  1p36.22        10032832      10181239   \n",
       "1    STX18  ENSG00000168818    4   4p16.2         4415742       4542346   \n",
       "2     DNM2  ENSG00000079805   19  19p13.2        10718079      10833488   \n",
       "3     PLD1  ENSG00000075651    3  3q26.31       171600404     171810950   \n",
       "4  ANKRD55  ENSG00000164512    5   5q11.2        56099680      56233330   \n",
       "\n",
       "   gene_length  \n",
       "0       148407  \n",
       "1       126604  \n",
       "2       115409  \n",
       "3       210546  \n",
       "4       133650  "
      ]
     },
     "execution_count": 21,
     "metadata": {},
     "output_type": "execute_result"
    }
   ],
   "source": [
    "genes_info.head()"
   ]
  },
  {
   "cell_type": "markdown",
   "id": "d3843e06",
   "metadata": {
    "papermill": {
     "duration": 0.009529,
     "end_time": "2022-11-29T22:50:21.010810",
     "exception": false,
     "start_time": "2022-11-29T22:50:21.001281",
     "status": "completed"
    },
    "tags": []
   },
   "source": [
    "# Compute correlations"
   ]
  },
  {
   "cell_type": "code",
   "execution_count": 22,
   "id": "cb859c15-d1f3-4006-a74c-2b83c0db9611",
   "metadata": {
    "execution": {
     "iopub.execute_input": "2022-11-29T22:50:21.028973Z",
     "iopub.status.busy": "2022-11-29T22:50:21.028540Z",
     "iopub.status.idle": "2022-11-29T22:50:21.050603Z",
     "shell.execute_reply": "2022-11-29T22:50:21.050098Z"
    },
    "papermill": {
     "duration": 0.031876,
     "end_time": "2022-11-29T22:50:21.051725",
     "exception": false,
     "start_time": "2022-11-29T22:50:21.019849",
     "status": "completed"
    },
    "tags": []
   },
   "outputs": [
    {
     "data": {
      "text/plain": [
       "PosixPath('/opt/data/projects/asthma-copd/results/gls_phenoplier/gene_corrs/asthma_only/by_chr/gene_corrs-chr15.pkl')"
      ]
     },
     "metadata": {},
     "output_type": "display_data"
    }
   ],
   "source": [
    "output_dir = OUTPUT_DIR_BASE / \"by_chr\"\n",
    "output_dir.mkdir(exist_ok=True, parents=True)\n",
    "output_file = output_dir / f\"gene_corrs-chr{CHROMOSOME}.pkl\"\n",
    "display(output_file)"
   ]
  },
  {
   "cell_type": "code",
   "execution_count": 23,
   "id": "aa674fe4-6794-4eed-98fa-32b39d1d4ace",
   "metadata": {
    "execution": {
     "iopub.execute_input": "2022-11-29T22:50:21.069621Z",
     "iopub.status.busy": "2022-11-29T22:50:21.069147Z",
     "iopub.status.idle": "2022-11-29T22:50:21.089761Z",
     "shell.execute_reply": "2022-11-29T22:50:21.089235Z"
    },
    "papermill": {
     "duration": 0.030891,
     "end_time": "2022-11-29T22:50:21.090906",
     "exception": false,
     "start_time": "2022-11-29T22:50:21.060015",
     "status": "completed"
    },
    "tags": []
   },
   "outputs": [],
   "source": [
    "warnings.filterwarnings(\"error\")"
   ]
  },
  {
   "cell_type": "code",
   "execution_count": 24,
   "id": "44d5450b-3baf-43f1-9e2e-4b06f1a785f8",
   "metadata": {
    "execution": {
     "iopub.execute_input": "2022-11-29T22:50:21.108313Z",
     "iopub.status.busy": "2022-11-29T22:50:21.108042Z",
     "iopub.status.idle": "2022-11-29T22:50:21.129137Z",
     "shell.execute_reply": "2022-11-29T22:50:21.128613Z"
    },
    "papermill": {
     "duration": 0.031135,
     "end_time": "2022-11-29T22:50:21.130319",
     "exception": false,
     "start_time": "2022-11-29T22:50:21.099184",
     "status": "completed"
    },
    "tags": []
   },
   "outputs": [],
   "source": [
    "# standard checks\n",
    "all_chrs = genes_info[\"chr\"].dropna().unique()\n",
    "assert all_chrs.shape[0] == 22\n",
    "\n",
    "# select chromosome given by the user\n",
    "assert CHROMOSOME in all_chrs"
   ]
  },
  {
   "cell_type": "code",
   "execution_count": 25,
   "id": "2d7c043c-92a7-4d35-991b-fa69ac1e0268",
   "metadata": {
    "execution": {
     "iopub.execute_input": "2022-11-29T22:50:21.148289Z",
     "iopub.status.busy": "2022-11-29T22:50:21.148076Z",
     "iopub.status.idle": "2022-11-29T22:50:21.170550Z",
     "shell.execute_reply": "2022-11-29T22:50:21.170019Z"
    },
    "papermill": {
     "duration": 0.032493,
     "end_time": "2022-11-29T22:50:21.171724",
     "exception": false,
     "start_time": "2022-11-29T22:50:21.139231",
     "status": "completed"
    },
    "tags": []
   },
   "outputs": [
    {
     "name": "stdout",
     "output_type": "stream",
     "text": [
      "Number of genes in chromosome: 187\n"
     ]
    }
   ],
   "source": [
    "# run only on the chromosome specified\n",
    "all_chrs = [CHROMOSOME]\n",
    "genes_chr = genes_info[genes_info[\"chr\"] == CHROMOSOME]\n",
    "\n",
    "# For testing purposes\n",
    "# genes_chr = genes_chr.sample(n=20)\n",
    "\n",
    "print(f\"Number of genes in chromosome: {genes_chr.shape[0]}\", flush=True)"
   ]
  },
  {
   "cell_type": "code",
   "execution_count": 26,
   "id": "916015d8-2979-46d3-a9b9-1cf5a0932c6a",
   "metadata": {
    "execution": {
     "iopub.execute_input": "2022-11-29T22:50:21.191025Z",
     "iopub.status.busy": "2022-11-29T22:50:21.190599Z",
     "iopub.status.idle": "2022-11-29T22:50:21.211595Z",
     "shell.execute_reply": "2022-11-29T22:50:21.211067Z"
    },
    "papermill": {
     "duration": 0.032591,
     "end_time": "2022-11-29T22:50:21.212915",
     "exception": false,
     "start_time": "2022-11-29T22:50:21.180324",
     "status": "completed"
    },
    "tags": []
   },
   "outputs": [],
   "source": [
    "# sort genes by starting position to make visualizations better later\n",
    "genes_chr = genes_chr.sort_values(\"start_position\")"
   ]
  },
  {
   "cell_type": "code",
   "execution_count": 27,
   "id": "a38aa74a-8ad3-47f6-8ef9-56be0e011774",
   "metadata": {
    "execution": {
     "iopub.execute_input": "2022-11-29T22:50:21.233840Z",
     "iopub.status.busy": "2022-11-29T22:50:21.233415Z",
     "iopub.status.idle": "2022-11-29T22:50:21.254433Z",
     "shell.execute_reply": "2022-11-29T22:50:21.253910Z"
    },
    "papermill": {
     "duration": 0.032563,
     "end_time": "2022-11-29T22:50:21.255696",
     "exception": false,
     "start_time": "2022-11-29T22:50:21.223133",
     "status": "completed"
    },
    "tags": []
   },
   "outputs": [],
   "source": [
    "gene_chr_objs = [Gene(ensembl_id=gene_id) for gene_id in genes_chr[\"id\"]]"
   ]
  },
  {
   "cell_type": "code",
   "execution_count": 28,
   "id": "570f974f-13c3-42b6-ad3a-ce99ca885c1a",
   "metadata": {
    "execution": {
     "iopub.execute_input": "2022-11-29T22:50:21.276590Z",
     "iopub.status.busy": "2022-11-29T22:50:21.276364Z",
     "iopub.status.idle": "2022-11-29T22:50:21.297771Z",
     "shell.execute_reply": "2022-11-29T22:50:21.297256Z"
    },
    "papermill": {
     "duration": 0.033427,
     "end_time": "2022-11-29T22:50:21.299036",
     "exception": false,
     "start_time": "2022-11-29T22:50:21.265609",
     "status": "completed"
    },
    "tags": []
   },
   "outputs": [
    {
     "name": "stdout",
     "output_type": "stream",
     "text": [
      "Number of gene combinations: 17578\n"
     ]
    }
   ],
   "source": [
    "n = len(gene_chr_objs)\n",
    "# diagonal elements + upper triangular matrix\n",
    "n_comb = n + int(n * (n - 1) / 2.0)\n",
    "print(f\"Number of gene combinations: {n_comb}\", flush=True)"
   ]
  },
  {
   "cell_type": "code",
   "execution_count": 29,
   "id": "cdbb90a1",
   "metadata": {
    "execution": {
     "iopub.execute_input": "2022-11-29T22:50:21.319890Z",
     "iopub.status.busy": "2022-11-29T22:50:21.319473Z",
     "iopub.status.idle": "2022-11-29T23:03:17.696361Z",
     "shell.execute_reply": "2022-11-29T23:03:17.695841Z"
    },
    "papermill": {
     "duration": 776.388792,
     "end_time": "2022-11-29T23:03:17.697712",
     "exception": false,
     "start_time": "2022-11-29T22:50:21.308920",
     "status": "completed"
    },
    "tags": []
   },
   "outputs": [
    {
     "name": "stderr",
     "output_type": "stream",
     "text": [
      "ENSG00000185418 / ENSG00000185418: 100%|██████████████████████| 17578/17578 [12:56<00:00, 22.64it/s]\n"
     ]
    },
    {
     "data": {
      "text/plain": [
       "PosixPath('/opt/data/projects/asthma-copd/results/gls_phenoplier/gene_corrs/asthma_only/by_chr/gene_corrs-chr15.pkl')"
      ]
     },
     "metadata": {},
     "output_type": "display_data"
    }
   ],
   "source": [
    "gene_corrs = []\n",
    "gene_corrs_data = np.full(\n",
    "    (n, n),\n",
    "    np.nan,\n",
    "    dtype=np.float64,\n",
    ")\n",
    "\n",
    "i = 0\n",
    "with tqdm(ncols=100, total=n_comb) as pbar:\n",
    "    for gene1_idx in range(0, len(gene_chr_objs)):\n",
    "        gene1_obj = gene_chr_objs[gene1_idx]\n",
    "        gene1_tissues = spredixcan_genes_models.loc[gene1_obj.ensembl_id, \"tissue\"]\n",
    "\n",
    "        for gene2_idx in range(gene1_idx, len(gene_chr_objs)):\n",
    "            gene2_obj = gene_chr_objs[gene2_idx]\n",
    "            gene2_tissues = spredixcan_genes_models.loc[gene2_obj.ensembl_id, \"tissue\"]\n",
    "\n",
    "            pbar.set_description(f\"{gene1_obj.ensembl_id} / {gene2_obj.ensembl_id}\")\n",
    "\n",
    "            try:\n",
    "                r = gene1_obj.get_ssm_correlation(\n",
    "                    other_gene=gene2_obj,\n",
    "                    tissues=gene1_tissues,\n",
    "                    other_tissues=gene2_tissues,\n",
    "                    snps_subset=gwas_variants_ids_set,\n",
    "                    condition_number=SMULTIXCAN_CONDITION_NUMBER,\n",
    "                    reference_panel=REFERENCE_PANEL,\n",
    "                    model_type=EQTL_MODEL,\n",
    "                    use_within_distance=COMPUTE_CORRELATIONS_WITHIN_DISTANCE,\n",
    "                )\n",
    "\n",
    "                if r is None:\n",
    "                    # if r is None, it's very likely because:\n",
    "                    #  * one of the genes has no prediction models\n",
    "                    #  * all the SNPs predictors for the gene are not present in the reference\n",
    "                    #    panel\n",
    "\n",
    "                    r = 0.0\n",
    "\n",
    "                gene_corrs.append(r)\n",
    "\n",
    "                gene_corrs_data[gene1_idx, gene2_idx] = r\n",
    "                gene_corrs_data[gene2_idx, gene1_idx] = r\n",
    "            except Warning as e:\n",
    "                if not DEBUG_MODE:\n",
    "                    raise e\n",
    "\n",
    "                print(\n",
    "                    f\"RuntimeWarning for genes {gene1_obj.ensembl_id} and {gene2_obj.ensembl_id}\",\n",
    "                    flush=True,\n",
    "                )\n",
    "                print(traceback.format_exc(), flush=True)\n",
    "\n",
    "                gene_corrs.append(np.nan)\n",
    "            except Exception as e:\n",
    "                if not DEBUG_MODE:\n",
    "                    raise e\n",
    "\n",
    "                print(\n",
    "                    f\"Exception for genes {gene1_obj.ensembl_id} and {gene2_obj.ensembl_id}\",\n",
    "                    flush=True,\n",
    "                )\n",
    "                print(traceback.format_exc(), flush=True)\n",
    "\n",
    "                gene_corrs.append(np.nan)\n",
    "\n",
    "            pbar.update(1)\n",
    "\n",
    "# create a pandas series\n",
    "gene_corrs_flat = pd.Series(gene_corrs)\n",
    "\n",
    "# save\n",
    "# FIXME: consider saving only the condenced matrix here. See here for\n",
    "# more details: https://github.com/greenelab/phenoplier/pull/38#discussion_r634600813\n",
    "# gene_corrs_data = squareform(np.array(gene_corrs, dtype=np.float64))\n",
    "# np.fill_diagonal(gene_corrs_data, 1.0)\n",
    "\n",
    "gene_chr_ids = [g.ensembl_id for g in gene_chr_objs]\n",
    "gene_corrs_df = pd.DataFrame(\n",
    "    data=gene_corrs_data,\n",
    "    index=gene_chr_ids,\n",
    "    columns=gene_chr_ids,\n",
    ")\n",
    "\n",
    "output_dir.mkdir(exist_ok=True, parents=True)\n",
    "display(output_file)\n",
    "\n",
    "gene_corrs_df.to_pickle(output_file)"
   ]
  },
  {
   "cell_type": "markdown",
   "id": "faa67b51-5373-470f-aa72-2ded53fa6dfe",
   "metadata": {
    "papermill": {
     "duration": 0.715322,
     "end_time": "2022-11-29T23:03:19.155683",
     "exception": false,
     "start_time": "2022-11-29T23:03:18.440361",
     "status": "completed"
    },
    "tags": []
   },
   "source": [
    "# Testing"
   ]
  },
  {
   "cell_type": "code",
   "execution_count": 30,
   "id": "14f7d046-4b55-4896-a56b-990127bcc388",
   "metadata": {
    "execution": {
     "iopub.execute_input": "2022-11-29T23:03:20.534057Z",
     "iopub.status.busy": "2022-11-29T23:03:20.533726Z",
     "iopub.status.idle": "2022-11-29T23:03:20.557385Z",
     "shell.execute_reply": "2022-11-29T23:03:20.556747Z"
    },
    "papermill": {
     "duration": 0.715943,
     "end_time": "2022-11-29T23:03:20.558357",
     "exception": false,
     "start_time": "2022-11-29T23:03:19.842414",
     "status": "completed"
    },
    "tags": []
   },
   "outputs": [
    {
     "data": {
      "text/plain": [
       "(187, 187)"
      ]
     },
     "execution_count": 30,
     "metadata": {},
     "output_type": "execute_result"
    }
   ],
   "source": [
    "gene_corrs_df.shape"
   ]
  },
  {
   "cell_type": "code",
   "execution_count": 31,
   "id": "c7d15414-3297-4537-a7c6-7588c0baeb75",
   "metadata": {
    "execution": {
     "iopub.execute_input": "2022-11-29T23:03:21.937220Z",
     "iopub.status.busy": "2022-11-29T23:03:21.936846Z",
     "iopub.status.idle": "2022-11-29T23:03:21.975546Z",
     "shell.execute_reply": "2022-11-29T23:03:21.974815Z"
    },
    "papermill": {
     "duration": 0.728744,
     "end_time": "2022-11-29T23:03:21.976439",
     "exception": false,
     "start_time": "2022-11-29T23:03:21.247695",
     "status": "completed"
    },
    "tags": []
   },
   "outputs": [
    {
     "data": {
      "text/html": [
       "<div>\n",
       "<style scoped>\n",
       "    .dataframe tbody tr th:only-of-type {\n",
       "        vertical-align: middle;\n",
       "    }\n",
       "\n",
       "    .dataframe tbody tr th {\n",
       "        vertical-align: top;\n",
       "    }\n",
       "\n",
       "    .dataframe thead th {\n",
       "        text-align: right;\n",
       "    }\n",
       "</style>\n",
       "<table border=\"1\" class=\"dataframe\">\n",
       "  <thead>\n",
       "    <tr style=\"text-align: right;\">\n",
       "      <th></th>\n",
       "      <th>ENSG00000273749</th>\n",
       "      <th>ENSG00000275835</th>\n",
       "      <th>ENSG00000182636</th>\n",
       "      <th>ENSG00000273173</th>\n",
       "      <th>ENSG00000114062</th>\n",
       "      <th>ENSG00000206190</th>\n",
       "      <th>ENSG00000128731</th>\n",
       "      <th>ENSG00000034053</th>\n",
       "      <th>ENSG00000198690</th>\n",
       "      <th>ENSG00000166912</th>\n",
       "      <th>...</th>\n",
       "      <th>ENSG00000182175</th>\n",
       "      <th>ENSG00000140450</th>\n",
       "      <th>ENSG00000140443</th>\n",
       "      <th>ENSG00000068305</th>\n",
       "      <th>ENSG00000183475</th>\n",
       "      <th>ENSG00000184254</th>\n",
       "      <th>ENSG00000131873</th>\n",
       "      <th>ENSG00000131876</th>\n",
       "      <th>ENSG00000140479</th>\n",
       "      <th>ENSG00000185418</th>\n",
       "    </tr>\n",
       "  </thead>\n",
       "  <tbody>\n",
       "    <tr>\n",
       "      <th>ENSG00000273749</th>\n",
       "      <td>1.000000</td>\n",
       "      <td>0.068873</td>\n",
       "      <td>0.008446</td>\n",
       "      <td>0.008907</td>\n",
       "      <td>0.009432</td>\n",
       "      <td>0.017126</td>\n",
       "      <td>0.007201</td>\n",
       "      <td>0.013265</td>\n",
       "      <td>0.010937</td>\n",
       "      <td>0.009226</td>\n",
       "      <td>...</td>\n",
       "      <td>0.012522</td>\n",
       "      <td>0.010874</td>\n",
       "      <td>0.015120</td>\n",
       "      <td>0.012204</td>\n",
       "      <td>0.009437</td>\n",
       "      <td>0.015749</td>\n",
       "      <td>0.012546</td>\n",
       "      <td>0.005736</td>\n",
       "      <td>0.017050</td>\n",
       "      <td>0.010679</td>\n",
       "    </tr>\n",
       "    <tr>\n",
       "      <th>ENSG00000275835</th>\n",
       "      <td>0.068873</td>\n",
       "      <td>1.000000</td>\n",
       "      <td>0.005037</td>\n",
       "      <td>0.002480</td>\n",
       "      <td>0.013665</td>\n",
       "      <td>0.008140</td>\n",
       "      <td>0.003082</td>\n",
       "      <td>0.002283</td>\n",
       "      <td>0.006679</td>\n",
       "      <td>0.007161</td>\n",
       "      <td>...</td>\n",
       "      <td>0.009150</td>\n",
       "      <td>0.004690</td>\n",
       "      <td>0.004164</td>\n",
       "      <td>0.006907</td>\n",
       "      <td>0.007157</td>\n",
       "      <td>0.007988</td>\n",
       "      <td>0.007549</td>\n",
       "      <td>0.000690</td>\n",
       "      <td>0.006626</td>\n",
       "      <td>0.003953</td>\n",
       "    </tr>\n",
       "    <tr>\n",
       "      <th>ENSG00000182636</th>\n",
       "      <td>0.008446</td>\n",
       "      <td>0.005037</td>\n",
       "      <td>1.000000</td>\n",
       "      <td>0.006649</td>\n",
       "      <td>0.002525</td>\n",
       "      <td>0.006553</td>\n",
       "      <td>0.002722</td>\n",
       "      <td>0.007057</td>\n",
       "      <td>0.004193</td>\n",
       "      <td>0.002655</td>\n",
       "      <td>...</td>\n",
       "      <td>0.007108</td>\n",
       "      <td>0.003026</td>\n",
       "      <td>0.010363</td>\n",
       "      <td>0.005937</td>\n",
       "      <td>0.003900</td>\n",
       "      <td>0.008911</td>\n",
       "      <td>0.006874</td>\n",
       "      <td>0.001699</td>\n",
       "      <td>0.009652</td>\n",
       "      <td>0.006376</td>\n",
       "    </tr>\n",
       "    <tr>\n",
       "      <th>ENSG00000273173</th>\n",
       "      <td>0.008907</td>\n",
       "      <td>0.002480</td>\n",
       "      <td>0.006649</td>\n",
       "      <td>1.000000</td>\n",
       "      <td>0.003555</td>\n",
       "      <td>0.010707</td>\n",
       "      <td>0.001674</td>\n",
       "      <td>0.005661</td>\n",
       "      <td>0.008288</td>\n",
       "      <td>0.001972</td>\n",
       "      <td>...</td>\n",
       "      <td>0.006183</td>\n",
       "      <td>0.001526</td>\n",
       "      <td>0.005175</td>\n",
       "      <td>0.004713</td>\n",
       "      <td>0.004148</td>\n",
       "      <td>0.006153</td>\n",
       "      <td>0.004745</td>\n",
       "      <td>0.001569</td>\n",
       "      <td>0.012111</td>\n",
       "      <td>0.005871</td>\n",
       "    </tr>\n",
       "    <tr>\n",
       "      <th>ENSG00000114062</th>\n",
       "      <td>0.009432</td>\n",
       "      <td>0.013665</td>\n",
       "      <td>0.002525</td>\n",
       "      <td>0.003555</td>\n",
       "      <td>1.000000</td>\n",
       "      <td>0.006857</td>\n",
       "      <td>0.001057</td>\n",
       "      <td>0.002283</td>\n",
       "      <td>0.005018</td>\n",
       "      <td>0.005493</td>\n",
       "      <td>...</td>\n",
       "      <td>0.001941</td>\n",
       "      <td>0.003827</td>\n",
       "      <td>0.008193</td>\n",
       "      <td>0.007731</td>\n",
       "      <td>0.001945</td>\n",
       "      <td>0.007949</td>\n",
       "      <td>0.006237</td>\n",
       "      <td>0.001975</td>\n",
       "      <td>0.007276</td>\n",
       "      <td>0.005428</td>\n",
       "    </tr>\n",
       "  </tbody>\n",
       "</table>\n",
       "<p>5 rows × 187 columns</p>\n",
       "</div>"
      ],
      "text/plain": [
       "                 ENSG00000273749  ENSG00000275835  ENSG00000182636  \\\n",
       "ENSG00000273749         1.000000         0.068873         0.008446   \n",
       "ENSG00000275835         0.068873         1.000000         0.005037   \n",
       "ENSG00000182636         0.008446         0.005037         1.000000   \n",
       "ENSG00000273173         0.008907         0.002480         0.006649   \n",
       "ENSG00000114062         0.009432         0.013665         0.002525   \n",
       "\n",
       "                 ENSG00000273173  ENSG00000114062  ENSG00000206190  \\\n",
       "ENSG00000273749         0.008907         0.009432         0.017126   \n",
       "ENSG00000275835         0.002480         0.013665         0.008140   \n",
       "ENSG00000182636         0.006649         0.002525         0.006553   \n",
       "ENSG00000273173         1.000000         0.003555         0.010707   \n",
       "ENSG00000114062         0.003555         1.000000         0.006857   \n",
       "\n",
       "                 ENSG00000128731  ENSG00000034053  ENSG00000198690  \\\n",
       "ENSG00000273749         0.007201         0.013265         0.010937   \n",
       "ENSG00000275835         0.003082         0.002283         0.006679   \n",
       "ENSG00000182636         0.002722         0.007057         0.004193   \n",
       "ENSG00000273173         0.001674         0.005661         0.008288   \n",
       "ENSG00000114062         0.001057         0.002283         0.005018   \n",
       "\n",
       "                 ENSG00000166912  ...  ENSG00000182175  ENSG00000140450  \\\n",
       "ENSG00000273749         0.009226  ...         0.012522         0.010874   \n",
       "ENSG00000275835         0.007161  ...         0.009150         0.004690   \n",
       "ENSG00000182636         0.002655  ...         0.007108         0.003026   \n",
       "ENSG00000273173         0.001972  ...         0.006183         0.001526   \n",
       "ENSG00000114062         0.005493  ...         0.001941         0.003827   \n",
       "\n",
       "                 ENSG00000140443  ENSG00000068305  ENSG00000183475  \\\n",
       "ENSG00000273749         0.015120         0.012204         0.009437   \n",
       "ENSG00000275835         0.004164         0.006907         0.007157   \n",
       "ENSG00000182636         0.010363         0.005937         0.003900   \n",
       "ENSG00000273173         0.005175         0.004713         0.004148   \n",
       "ENSG00000114062         0.008193         0.007731         0.001945   \n",
       "\n",
       "                 ENSG00000184254  ENSG00000131873  ENSG00000131876  \\\n",
       "ENSG00000273749         0.015749         0.012546         0.005736   \n",
       "ENSG00000275835         0.007988         0.007549         0.000690   \n",
       "ENSG00000182636         0.008911         0.006874         0.001699   \n",
       "ENSG00000273173         0.006153         0.004745         0.001569   \n",
       "ENSG00000114062         0.007949         0.006237         0.001975   \n",
       "\n",
       "                 ENSG00000140479  ENSG00000185418  \n",
       "ENSG00000273749         0.017050         0.010679  \n",
       "ENSG00000275835         0.006626         0.003953  \n",
       "ENSG00000182636         0.009652         0.006376  \n",
       "ENSG00000273173         0.012111         0.005871  \n",
       "ENSG00000114062         0.007276         0.005428  \n",
       "\n",
       "[5 rows x 187 columns]"
      ]
     },
     "execution_count": 31,
     "metadata": {},
     "output_type": "execute_result"
    }
   ],
   "source": [
    "gene_corrs_df.head()"
   ]
  },
  {
   "cell_type": "markdown",
   "id": "dad6603f-01c6-41fb-a6f6-241051207dd8",
   "metadata": {
    "papermill": {
     "duration": 0.688192,
     "end_time": "2022-11-29T23:03:23.357326",
     "exception": false,
     "start_time": "2022-11-29T23:03:22.669134",
     "status": "completed"
    },
    "tags": []
   },
   "source": [
    "## Standard checks and stats"
   ]
  },
  {
   "cell_type": "code",
   "execution_count": 32,
   "id": "286686af-1b7b-4440-8453-6bdcbd8de19c",
   "metadata": {
    "execution": {
     "iopub.execute_input": "2022-11-29T23:03:24.745570Z",
     "iopub.status.busy": "2022-11-29T23:03:24.745146Z",
     "iopub.status.idle": "2022-11-29T23:03:24.770505Z",
     "shell.execute_reply": "2022-11-29T23:03:24.769864Z"
    },
    "papermill": {
     "duration": 0.713664,
     "end_time": "2022-11-29T23:03:24.771619",
     "exception": false,
     "start_time": "2022-11-29T23:03:24.057955",
     "status": "completed"
    },
    "tags": []
   },
   "outputs": [],
   "source": [
    "assert not gene_corrs_df.isna().any().any()"
   ]
  },
  {
   "cell_type": "code",
   "execution_count": 33,
   "id": "00583efc-7068-4270-ad1e-4a418e91db96",
   "metadata": {
    "execution": {
     "iopub.execute_input": "2022-11-29T23:03:26.150448Z",
     "iopub.status.busy": "2022-11-29T23:03:26.150029Z",
     "iopub.status.idle": "2022-11-29T23:03:26.177986Z",
     "shell.execute_reply": "2022-11-29T23:03:26.177299Z"
    },
    "papermill": {
     "duration": 0.713513,
     "end_time": "2022-11-29T23:03:26.178968",
     "exception": false,
     "start_time": "2022-11-29T23:03:25.465455",
     "status": "completed"
    },
    "tags": []
   },
   "outputs": [
    {
     "data": {
      "text/plain": [
       "2.9690984676582362e-06"
      ]
     },
     "metadata": {},
     "output_type": "display_data"
    }
   ],
   "source": [
    "_min_val = gene_corrs_df.min().min()\n",
    "display(_min_val)\n",
    "assert _min_val >= -0.05"
   ]
  },
  {
   "cell_type": "code",
   "execution_count": 34,
   "id": "d04fb2cf-1050-475b-b855-f5f7cc04092b",
   "metadata": {
    "execution": {
     "iopub.execute_input": "2022-11-29T23:03:27.541106Z",
     "iopub.status.busy": "2022-11-29T23:03:27.540457Z",
     "iopub.status.idle": "2022-11-29T23:03:27.564856Z",
     "shell.execute_reply": "2022-11-29T23:03:27.564317Z"
    },
    "papermill": {
     "duration": 0.708234,
     "end_time": "2022-11-29T23:03:27.565733",
     "exception": false,
     "start_time": "2022-11-29T23:03:26.857499",
     "status": "completed"
    },
    "tags": []
   },
   "outputs": [
    {
     "data": {
      "text/plain": [
       "1.0000000000000029"
      ]
     },
     "metadata": {},
     "output_type": "display_data"
    }
   ],
   "source": [
    "_max_val = gene_corrs_df.max().max()  # this captures the diagonal\n",
    "display(_max_val)\n",
    "assert _max_val <= 1.05"
   ]
  },
  {
   "cell_type": "code",
   "execution_count": 35,
   "id": "96d02c44-1fba-47be-8a93-8f2608420b9c",
   "metadata": {
    "execution": {
     "iopub.execute_input": "2022-11-29T23:03:28.992047Z",
     "iopub.status.busy": "2022-11-29T23:03:28.991350Z",
     "iopub.status.idle": "2022-11-29T23:03:29.016998Z",
     "shell.execute_reply": "2022-11-29T23:03:29.016269Z"
    },
    "papermill": {
     "duration": 0.732529,
     "end_time": "2022-11-29T23:03:29.017948",
     "exception": false,
     "start_time": "2022-11-29T23:03:28.285419",
     "status": "completed"
    },
    "tags": []
   },
   "outputs": [],
   "source": [
    "# check upper triangular values\n",
    "# assert len(gene_corrs) == int(genes_chr.shape[0] * (genes_chr.shape[0] - 1) / 2)"
   ]
  },
  {
   "cell_type": "code",
   "execution_count": 36,
   "id": "fe283586-c348-40e0-8841-f6d97bfb021c",
   "metadata": {
    "execution": {
     "iopub.execute_input": "2022-11-29T23:03:30.335755Z",
     "iopub.status.busy": "2022-11-29T23:03:30.334996Z",
     "iopub.status.idle": "2022-11-29T23:03:30.363481Z",
     "shell.execute_reply": "2022-11-29T23:03:30.362851Z"
    },
    "papermill": {
     "duration": 0.702956,
     "end_time": "2022-11-29T23:03:30.364431",
     "exception": false,
     "start_time": "2022-11-29T23:03:29.661475",
     "status": "completed"
    },
    "tags": []
   },
   "outputs": [
    {
     "data": {
      "text/plain": [
       "count    17578.000000\n",
       "mean         0.020462\n",
       "std          0.108348\n",
       "min          0.000003\n",
       "25%          0.003850\n",
       "50%          0.005859\n",
       "75%          0.008349\n",
       "max          1.000000\n",
       "dtype: float64"
      ]
     },
     "execution_count": 36,
     "metadata": {},
     "output_type": "execute_result"
    }
   ],
   "source": [
    "gene_corrs_flat.describe()"
   ]
  },
  {
   "cell_type": "code",
   "execution_count": 37,
   "id": "b3815678-0f93-4b35-897b-a9d047a2aa78",
   "metadata": {
    "execution": {
     "iopub.execute_input": "2022-11-29T23:03:31.775990Z",
     "iopub.status.busy": "2022-11-29T23:03:31.775638Z",
     "iopub.status.idle": "2022-11-29T23:03:31.800381Z",
     "shell.execute_reply": "2022-11-29T23:03:31.799791Z"
    },
    "papermill": {
     "duration": 0.719896,
     "end_time": "2022-11-29T23:03:31.801232",
     "exception": false,
     "start_time": "2022-11-29T23:03:31.081336",
     "status": "completed"
    },
    "tags": []
   },
   "outputs": [
    {
     "data": {
      "text/plain": [
       "0.00    0.000003\n",
       "0.05    0.001582\n",
       "0.10    0.002320\n",
       "0.15    0.002889\n",
       "0.20    0.003391\n",
       "0.25    0.003850\n",
       "0.30    0.004270\n",
       "0.35    0.004672\n",
       "0.40    0.005076\n",
       "0.45    0.005464\n",
       "0.50    0.005859\n",
       "0.55    0.006284\n",
       "0.60    0.006758\n",
       "0.65    0.007243\n",
       "0.70    0.007795\n",
       "0.75    0.008349\n",
       "0.80    0.009004\n",
       "0.85    0.009907\n",
       "0.90    0.011230\n",
       "0.95    0.013863\n",
       "dtype: float64"
      ]
     },
     "metadata": {},
     "output_type": "display_data"
    }
   ],
   "source": [
    "gene_corrs_quantiles = gene_corrs_flat.quantile(np.arange(0, 1, 0.05))\n",
    "display(gene_corrs_quantiles)"
   ]
  },
  {
   "cell_type": "markdown",
   "id": "87134509-b145-4a10-8bc9-b7e914c2b0fa",
   "metadata": {
    "papermill": {
     "duration": 0.688998,
     "end_time": "2022-11-29T23:03:33.143452",
     "exception": false,
     "start_time": "2022-11-29T23:03:32.454454",
     "status": "completed"
    },
    "tags": []
   },
   "source": [
    "## Positive definiteness"
   ]
  },
  {
   "cell_type": "code",
   "execution_count": 38,
   "id": "07d9a9a1-a4f7-48aa-b916-6d42a8cc6186",
   "metadata": {
    "execution": {
     "iopub.execute_input": "2022-11-29T23:03:34.558241Z",
     "iopub.status.busy": "2022-11-29T23:03:34.557516Z",
     "iopub.status.idle": "2022-11-29T23:03:34.595007Z",
     "shell.execute_reply": "2022-11-29T23:03:34.594464Z"
    },
    "papermill": {
     "duration": 0.728379,
     "end_time": "2022-11-29T23:03:34.596269",
     "exception": false,
     "start_time": "2022-11-29T23:03:33.867890",
     "status": "completed"
    },
    "tags": []
   },
   "outputs": [
    {
     "data": {
      "text/plain": [
       "0"
      ]
     },
     "metadata": {},
     "output_type": "display_data"
    },
    {
     "data": {
      "text/plain": [
       "array([], dtype=float64)"
      ]
     },
     "metadata": {},
     "output_type": "display_data"
    }
   ],
   "source": [
    "# print negative eigenvalues\n",
    "eigs = np.linalg.eigvals(gene_corrs_df.to_numpy())\n",
    "display(len(eigs[eigs < 0]))\n",
    "display(eigs[eigs < 0])"
   ]
  },
  {
   "cell_type": "code",
   "execution_count": 39,
   "id": "6e218436-c3c5-4028-8c94-a4fa6260efce",
   "metadata": {
    "execution": {
     "iopub.execute_input": "2022-11-29T23:03:35.987422Z",
     "iopub.status.busy": "2022-11-29T23:03:35.986648Z",
     "iopub.status.idle": "2022-11-29T23:03:36.016510Z",
     "shell.execute_reply": "2022-11-29T23:03:36.015831Z"
    },
    "papermill": {
     "duration": 0.744663,
     "end_time": "2022-11-29T23:03:36.017486",
     "exception": false,
     "start_time": "2022-11-29T23:03:35.272823",
     "status": "completed"
    },
    "tags": []
   },
   "outputs": [
    {
     "name": "stdout",
     "output_type": "stream",
     "text": [
      "Works!\n"
     ]
    }
   ],
   "source": [
    "try:\n",
    "    chol_mat = np.linalg.cholesky(gene_corrs_df.to_numpy())\n",
    "    cov_inv = np.linalg.inv(chol_mat)\n",
    "    print(\"Works!\")\n",
    "except Exception as e:\n",
    "    print(f\"Cholesky decomposition failed: {str(e)}\")"
   ]
  },
  {
   "cell_type": "code",
   "execution_count": 40,
   "id": "dd8827fb-faf9-4c7c-9454-015e94752706",
   "metadata": {
    "execution": {
     "iopub.execute_input": "2022-11-29T23:03:37.480557Z",
     "iopub.status.busy": "2022-11-29T23:03:37.480181Z",
     "iopub.status.idle": "2022-11-29T23:03:37.506118Z",
     "shell.execute_reply": "2022-11-29T23:03:37.505332Z"
    },
    "papermill": {
     "duration": 0.751179,
     "end_time": "2022-11-29T23:03:37.507087",
     "exception": false,
     "start_time": "2022-11-29T23:03:36.755908",
     "status": "completed"
    },
    "tags": []
   },
   "outputs": [
    {
     "name": "stdout",
     "output_type": "stream",
     "text": [
      "Works!\n"
     ]
    }
   ],
   "source": [
    "try:\n",
    "    # decomposition used by statsmodels.GLS\n",
    "    cholsigmainv = np.linalg.cholesky(np.linalg.inv(gene_corrs_df.to_numpy())).T\n",
    "    print(\"Works!\")\n",
    "except Exception as e:\n",
    "    print(f\"Cholesky decomposition failed (statsmodels.GLS): {str(e)}\")"
   ]
  },
  {
   "cell_type": "markdown",
   "id": "8e60a080-edb2-4e9c-b2ef-22961693200c",
   "metadata": {
    "papermill": {
     "duration": 0.731644,
     "end_time": "2022-11-29T23:03:38.950481",
     "exception": false,
     "start_time": "2022-11-29T23:03:38.218837",
     "status": "completed"
    },
    "tags": []
   },
   "source": [
    "## Plot: distribution"
   ]
  },
  {
   "cell_type": "code",
   "execution_count": 41,
   "id": "8301126b-a7d4-4744-9c7d-f0f86eb6f54c",
   "metadata": {
    "execution": {
     "iopub.execute_input": "2022-11-29T23:03:40.490808Z",
     "iopub.status.busy": "2022-11-29T23:03:40.490285Z",
     "iopub.status.idle": "2022-11-29T23:03:43.611659Z",
     "shell.execute_reply": "2022-11-29T23:03:43.611154Z"
    },
    "papermill": {
     "duration": 3.861353,
     "end_time": "2022-11-29T23:03:43.613119",
     "exception": false,
     "start_time": "2022-11-29T23:03:39.751766",
     "status": "completed"
    },
    "tags": []
   },
   "outputs": [
    {
     "data": {
      "image/png": "[encoded data removed]",
      "text/plain": [
       "<Figure size 700x700 with 1 Axes>"
      ]
     },
     "metadata": {},
     "output_type": "display_data"
    }
   ],
   "source": [
    "with sns.plotting_context(\"paper\", font_scale=1.5):\n",
    "    g = sns.displot(gene_corrs_flat, kde=True, height=7)\n",
    "    g.ax.set_title(\n",
    "        f\"Distribution of gene correlation values in chromosome {CHROMOSOME}\"\n",
    "    )"
   ]
  },
  {
   "cell_type": "markdown",
   "id": "cbd52bca-d878-4a2f-b684-5c83aa3038d4",
   "metadata": {
    "papermill": {
     "duration": 0.681754,
     "end_time": "2022-11-29T23:03:44.986579",
     "exception": false,
     "start_time": "2022-11-29T23:03:44.304825",
     "status": "completed"
    },
    "tags": []
   },
   "source": [
    "## Plot: heatmap"
   ]
  },
  {
   "cell_type": "code",
   "execution_count": 42,
   "id": "d03fe63a-c7b2-4fb9-a53c-db362ce843c9",
   "metadata": {
    "execution": {
     "iopub.execute_input": "2022-11-29T23:03:46.406493Z",
     "iopub.status.busy": "2022-11-29T23:03:46.406129Z",
     "iopub.status.idle": "2022-11-29T23:03:46.428498Z",
     "shell.execute_reply": "2022-11-29T23:03:46.427964Z"
    },
    "papermill": {
     "duration": 0.717739,
     "end_time": "2022-11-29T23:03:46.429376",
     "exception": false,
     "start_time": "2022-11-29T23:03:45.711637",
     "status": "completed"
    },
    "tags": []
   },
   "outputs": [
    {
     "data": {
      "text/plain": [
       "'0.0 / 0.05'"
      ]
     },
     "metadata": {},
     "output_type": "display_data"
    }
   ],
   "source": [
    "vmin_val = min(0.00, gene_corrs_quantiles[0.10])\n",
    "vmax_val = max(0.05, gene_corrs_quantiles[0.90])\n",
    "display(f\"{vmin_val} / {vmax_val}\")"
   ]
  },
  {
   "cell_type": "code",
   "execution_count": 43,
   "id": "dc41b70b-5bcc-4d9e-9f33-a22c4a94dab5",
   "metadata": {
    "execution": {
     "iopub.execute_input": "2022-11-29T23:03:47.766196Z",
     "iopub.status.busy": "2022-11-29T23:03:47.765639Z",
     "iopub.status.idle": "2022-11-29T23:03:47.961608Z",
     "shell.execute_reply": "2022-11-29T23:03:47.961179Z"
    },
    "papermill": {
     "duration": 0.875578,
     "end_time": "2022-11-29T23:03:47.962382",
     "exception": false,
     "start_time": "2022-11-29T23:03:47.086804",
     "status": "completed"
    },
    "tags": []
   },
   "outputs": [
    {
     "data": {
      "text/plain": [
       "Text(0.5, 1.0, 'Gene correlations in chromosome 15')"
      ]
     },
     "execution_count": 43,
     "metadata": {},
     "output_type": "execute_result"
    },
    {
     "data": {
      "image/png": "[encoded data removed]",
      "text/plain": [
       "<Figure size 1000x1000 with 2 Axes>"
      ]
     },
     "metadata": {},
     "output_type": "display_data"
    }
   ],
   "source": [
    "f, ax = plt.subplots(figsize=(10, 10))\n",
    "sns.heatmap(\n",
    "    gene_corrs_df,\n",
    "    xticklabels=False,\n",
    "    yticklabels=False,\n",
    "    square=True,\n",
    "    vmin=vmin_val,\n",
    "    vmax=vmax_val,\n",
    "    cmap=\"rocket_r\",\n",
    "    ax=ax,\n",
    ")\n",
    "ax.set_title(f\"Gene correlations in chromosome {CHROMOSOME}\")"
   ]
  },
  {
   "cell_type": "code",
   "execution_count": null,
   "id": "b25e3ead",
   "metadata": {
    "papermill": {
     "duration": 0.689522,
     "end_time": "2022-11-29T23:03:49.376185",
     "exception": false,
     "start_time": "2022-11-29T23:03:48.686663",
     "status": "completed"
    },
    "tags": []
   },
   "outputs": [],
   "source": []
  }
 ],
 "metadata": {
  "jupytext": {
   "cell_metadata_filter": "all,-execution,-papermill,-trusted",
   "formats": "ipynb,py//py:percent"
  },
  "kernelspec": {
   "display_name": "Python 3 (ipykernel)",
   "language": "python",
   "name": "python3"
  },
  "language_info": {
   "codemirror_mode": {
    "name": "ipython",
    "version": 3
   },
   "file_extension": ".py",
   "mimetype": "text/x-python",
   "name": "python",
   "nbconvert_exporter": "python",
   "pygments_lexer": "ipython3",
   "version": "3.10.6"
  },
  "papermill": {
   "default_parameters": {},
   "duration": 818.095069,
   "end_time": "2022-11-29T23:03:53.693692",
   "environment_variables": {},
   "exception": null,
   "input_path": "projects/asthma-copd/nbs/20_gene_corrs/10-gene_expr_correlations.ipynb",
   "output_path": "projects/asthma-copd/nbs/20_gene_corrs/gene_corrs/asthma_only/10-gene_expr_correlations-chr15.run.ipynb",
   "parameters": {
    "CHROMOSOME": 15,
    "COHORT_NAME": "asthma_only",
    "OUTPUT_DIR_BASE": "/opt/data/projects/asthma-copd/results/gls_phenoplier"
   },
   "start_time": "2022-11-29T22:50:15.598623",
   "version": "2.2.2"
  }
 },
 "nbformat": 4,
 "nbformat_minor": 5
}
