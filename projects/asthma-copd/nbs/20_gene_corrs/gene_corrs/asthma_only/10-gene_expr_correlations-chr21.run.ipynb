{
 "cells": [
  {
   "cell_type": "markdown",
   "id": "7a6632fb",
   "metadata": {
    "papermill": {
     "duration": 0.009245,
     "end_time": "2022-11-29T23:07:01.199600",
     "exception": false,
     "start_time": "2022-11-29T23:07:01.190355",
     "status": "completed"
    },
    "tags": []
   },
   "source": [
    "# Description"
   ]
  },
  {
   "cell_type": "markdown",
   "id": "7097c346",
   "metadata": {
    "papermill": {
     "duration": 0.008799,
     "end_time": "2022-11-29T23:07:01.217764",
     "exception": false,
     "start_time": "2022-11-29T23:07:01.208965",
     "status": "completed"
    },
    "tags": []
   },
   "source": [
    "(Please, take a look at the README.md file in this directory for instructions on how to run this notebook)\n",
    "\n",
    "This notebook computes predicted expression correlations between all genes in the MultiPLIER models.\n",
    "\n",
    "It has specicfic parameters for papermill (see under `Settings` below).\n",
    "It can be configured to run on a single chromosome to run in parallel.\n",
    "\n",
    "This notebook is not directly run. See README.md."
   ]
  },
  {
   "cell_type": "markdown",
   "id": "c61d8427",
   "metadata": {
    "papermill": {
     "duration": 0.008129,
     "end_time": "2022-11-29T23:07:01.235002",
     "exception": false,
     "start_time": "2022-11-29T23:07:01.226873",
     "status": "completed"
    },
    "tags": []
   },
   "source": [
    "# Modules"
   ]
  },
  {
   "cell_type": "code",
   "execution_count": 1,
   "id": "bbc0234f",
   "metadata": {
    "execution": {
     "iopub.execute_input": "2022-11-29T23:07:01.254021Z",
     "iopub.status.busy": "2022-11-29T23:07:01.253622Z",
     "iopub.status.idle": "2022-11-29T23:07:01.272429Z",
     "shell.execute_reply": "2022-11-29T23:07:01.271816Z"
    },
    "papermill": {
     "duration": 0.02979,
     "end_time": "2022-11-29T23:07:01.274051",
     "exception": false,
     "start_time": "2022-11-29T23:07:01.244261",
     "status": "completed"
    },
    "tags": []
   },
   "outputs": [],
   "source": [
    "%load_ext autoreload\n",
    "%autoreload 2"
   ]
  },
  {
   "cell_type": "code",
   "execution_count": 2,
   "id": "1d5f5a59",
   "metadata": {
    "execution": {
     "iopub.execute_input": "2022-11-29T23:07:01.292184Z",
     "iopub.status.busy": "2022-11-29T23:07:01.291638Z",
     "iopub.status.idle": "2022-11-29T23:07:01.976754Z",
     "shell.execute_reply": "2022-11-29T23:07:01.976222Z"
    },
    "papermill": {
     "duration": 0.69585,
     "end_time": "2022-11-29T23:07:01.978468",
     "exception": false,
     "start_time": "2022-11-29T23:07:01.282618",
     "status": "completed"
    },
    "tags": []
   },
   "outputs": [],
   "source": [
    "from random import sample, seed\n",
    "import warnings\n",
    "from pathlib import Path\n",
    "import pickle\n",
    "import traceback\n",
    "\n",
    "import numpy as np\n",
    "from scipy.spatial.distance import squareform\n",
    "import pandas as pd\n",
    "from tqdm import tqdm\n",
    "import matplotlib.pyplot as plt\n",
    "import seaborn as sns\n",
    "\n",
    "import conf\n",
    "from entity import Gene"
   ]
  },
  {
   "cell_type": "markdown",
   "id": "1eac24b5",
   "metadata": {
    "papermill": {
     "duration": 0.010098,
     "end_time": "2022-11-29T23:07:01.997264",
     "exception": false,
     "start_time": "2022-11-29T23:07:01.987166",
     "status": "completed"
    },
    "tags": []
   },
   "source": [
    "# Settings"
   ]
  },
  {
   "cell_type": "code",
   "execution_count": 3,
   "id": "ca4560ba",
   "metadata": {
    "execution": {
     "iopub.execute_input": "2022-11-29T23:07:02.014585Z",
     "iopub.status.busy": "2022-11-29T23:07:02.014441Z",
     "iopub.status.idle": "2022-11-29T23:07:02.027682Z",
     "shell.execute_reply": "2022-11-29T23:07:02.027285Z"
    },
    "papermill": {
     "duration": 0.023617,
     "end_time": "2022-11-29T23:07:02.029193",
     "exception": false,
     "start_time": "2022-11-29T23:07:02.005576",
     "status": "completed"
    },
    "tags": [
     "parameters"
    ]
   },
   "outputs": [],
   "source": [
    "# a cohort name (it could be something like UK_BIOBANK, etc)\n",
    "COHORT_NAME = None\n",
    "\n",
    "# reference panel such as 1000G or GTEX_V8\n",
    "REFERENCE_PANEL = \"GTEX_V8\"\n",
    "\n",
    "# predictions models such as MASHR or ELASTIC_NET\n",
    "EQTL_MODEL = \"MASHR\"\n",
    "\n",
    "# this is the default value used in S-MultiXcan to select the\n",
    "# top principal components of the expression correlation matrix\n",
    "SMULTIXCAN_CONDITION_NUMBER = 30\n",
    "\n",
    "# specifies a single chromosome value\n",
    "CHROMOSOME = None\n",
    "\n",
    "# If True, computes the correlation between closeby genes only;\n",
    "# otherwise, it computes correlations for all genes in a chromosome\n",
    "COMPUTE_CORRELATIONS_WITHIN_DISTANCE = False\n",
    "\n",
    "# if True, then it will continue if a gene pair correlation fails,\n",
    "# printing the warning/error for debugging. If False, any warning/error\n",
    "# will be thrown\n",
    "DEBUG_MODE = False\n",
    "\n",
    "# output dir\n",
    "OUTPUT_DIR_BASE = None"
   ]
  },
  {
   "cell_type": "code",
   "execution_count": 4,
   "id": "cab1991b",
   "metadata": {
    "execution": {
     "iopub.execute_input": "2022-11-29T23:07:02.046602Z",
     "iopub.status.busy": "2022-11-29T23:07:02.046487Z",
     "iopub.status.idle": "2022-11-29T23:07:02.058707Z",
     "shell.execute_reply": "2022-11-29T23:07:02.058309Z"
    },
    "papermill": {
     "duration": 0.022419,
     "end_time": "2022-11-29T23:07:02.060189",
     "exception": false,
     "start_time": "2022-11-29T23:07:02.037770",
     "status": "completed"
    },
    "tags": [
     "injected-parameters"
    ]
   },
   "outputs": [],
   "source": [
    "# Parameters\n",
    "COHORT_NAME = \"asthma_only\"\n",
    "CHROMOSOME = 21\n",
    "OUTPUT_DIR_BASE = \"/opt/data/projects/asthma-copd/results/gls_phenoplier\"\n"
   ]
  },
  {
   "cell_type": "code",
   "execution_count": 5,
   "id": "3190631f-27fc-480f-b18e-571d580425a5",
   "metadata": {
    "execution": {
     "iopub.execute_input": "2022-11-29T23:07:02.078260Z",
     "iopub.status.busy": "2022-11-29T23:07:02.078140Z",
     "iopub.status.idle": "2022-11-29T23:07:02.099373Z",
     "shell.execute_reply": "2022-11-29T23:07:02.098904Z"
    },
    "papermill": {
     "duration": 0.031593,
     "end_time": "2022-11-29T23:07:02.100943",
     "exception": false,
     "start_time": "2022-11-29T23:07:02.069350",
     "status": "completed"
    },
    "tags": []
   },
   "outputs": [
    {
     "data": {
      "text/plain": [
       "'Cohort name: asthma_only'"
      ]
     },
     "metadata": {},
     "output_type": "display_data"
    }
   ],
   "source": [
    "assert COHORT_NAME is not None and len(COHORT_NAME) > 0, \"A cohort name must be given\"\n",
    "\n",
    "COHORT_NAME = COHORT_NAME.lower()\n",
    "display(f\"Cohort name: {COHORT_NAME}\")"
   ]
  },
  {
   "cell_type": "code",
   "execution_count": 6,
   "id": "f53ba19b-0f93-4fa2-a047-63b375939d1a",
   "metadata": {
    "execution": {
     "iopub.execute_input": "2022-11-29T23:07:02.120813Z",
     "iopub.status.busy": "2022-11-29T23:07:02.120645Z",
     "iopub.status.idle": "2022-11-29T23:07:02.141162Z",
     "shell.execute_reply": "2022-11-29T23:07:02.140658Z"
    },
    "papermill": {
     "duration": 0.031768,
     "end_time": "2022-11-29T23:07:02.142539",
     "exception": false,
     "start_time": "2022-11-29T23:07:02.110771",
     "status": "completed"
    },
    "tags": []
   },
   "outputs": [
    {
     "data": {
      "text/plain": [
       "'Reference panel: GTEX_V8'"
      ]
     },
     "metadata": {},
     "output_type": "display_data"
    }
   ],
   "source": [
    "assert (\n",
    "    REFERENCE_PANEL is not None and len(REFERENCE_PANEL) > 0\n",
    "), \"A reference panel must be given\"\n",
    "\n",
    "display(f\"Reference panel: {REFERENCE_PANEL}\")"
   ]
  },
  {
   "cell_type": "code",
   "execution_count": 7,
   "id": "e024d130-c139-429a-9c6e-ccf149e297b0",
   "metadata": {
    "execution": {
     "iopub.execute_input": "2022-11-29T23:07:02.160439Z",
     "iopub.status.busy": "2022-11-29T23:07:02.160158Z",
     "iopub.status.idle": "2022-11-29T23:07:02.181087Z",
     "shell.execute_reply": "2022-11-29T23:07:02.180582Z"
    },
    "papermill": {
     "duration": 0.031551,
     "end_time": "2022-11-29T23:07:02.182437",
     "exception": false,
     "start_time": "2022-11-29T23:07:02.150886",
     "status": "completed"
    },
    "tags": []
   },
   "outputs": [
    {
     "data": {
      "text/plain": [
       "'eQTL model: MASHR) / mashr_'"
      ]
     },
     "metadata": {},
     "output_type": "display_data"
    }
   ],
   "source": [
    "assert (\n",
    "    EQTL_MODEL is not None and len(EQTL_MODEL) > 0\n",
    "), \"A prediction/eQTL model must be given\"\n",
    "\n",
    "EQTL_MODEL_FILES_PREFIX = conf.PHENOMEXCAN[\"PREDICTION_MODELS\"][f\"{EQTL_MODEL}_PREFIX\"]\n",
    "display(f\"eQTL model: {EQTL_MODEL}) / {EQTL_MODEL_FILES_PREFIX}\")"
   ]
  },
  {
   "cell_type": "code",
   "execution_count": 8,
   "id": "552a7f63-a18c-4d3e-bb6a-94f99b431291",
   "metadata": {
    "execution": {
     "iopub.execute_input": "2022-11-29T23:07:02.199997Z",
     "iopub.status.busy": "2022-11-29T23:07:02.199737Z",
     "iopub.status.idle": "2022-11-29T23:07:02.220349Z",
     "shell.execute_reply": "2022-11-29T23:07:02.219858Z"
    },
    "papermill": {
     "duration": 0.030867,
     "end_time": "2022-11-29T23:07:02.221713",
     "exception": false,
     "start_time": "2022-11-29T23:07:02.190846",
     "status": "completed"
    },
    "tags": []
   },
   "outputs": [
    {
     "data": {
      "text/plain": [
       "'S-MultiXcan condition number: 30'"
      ]
     },
     "metadata": {},
     "output_type": "display_data"
    }
   ],
   "source": [
    "assert (\n",
    "    SMULTIXCAN_CONDITION_NUMBER is not None and SMULTIXCAN_CONDITION_NUMBER > 0\n",
    "), \"The S-MultiXcan condition number (positive integer) must be given\"\n",
    "\n",
    "display(f\"S-MultiXcan condition number: {SMULTIXCAN_CONDITION_NUMBER}\")"
   ]
  },
  {
   "cell_type": "code",
   "execution_count": 9,
   "id": "f34a336f-548e-4afe-8955-90eaea4f42c6",
   "metadata": {
    "execution": {
     "iopub.execute_input": "2022-11-29T23:07:02.239478Z",
     "iopub.status.busy": "2022-11-29T23:07:02.239221Z",
     "iopub.status.idle": "2022-11-29T23:07:02.259767Z",
     "shell.execute_reply": "2022-11-29T23:07:02.259279Z"
    },
    "papermill": {
     "duration": 0.030889,
     "end_time": "2022-11-29T23:07:02.261159",
     "exception": false,
     "start_time": "2022-11-29T23:07:02.230270",
     "status": "completed"
    },
    "tags": []
   },
   "outputs": [
    {
     "data": {
      "text/plain": [
       "'Working on chromosome 21'"
      ]
     },
     "metadata": {},
     "output_type": "display_data"
    }
   ],
   "source": [
    "assert CHROMOSOME is not None and (\n",
    "    1 <= CHROMOSOME <= 22\n",
    "), \"You have to select one chromosome (format: number between 1 and 22)\"\n",
    "\n",
    "# CHROMOSOME = str(CHROMOSOME)\n",
    "display(f\"Working on chromosome {CHROMOSOME}\")"
   ]
  },
  {
   "cell_type": "code",
   "execution_count": 10,
   "id": "ab8e96e8-06b5-4363-9dcd-dc4d78cc27f7",
   "metadata": {
    "execution": {
     "iopub.execute_input": "2022-11-29T23:07:02.279554Z",
     "iopub.status.busy": "2022-11-29T23:07:02.279292Z",
     "iopub.status.idle": "2022-11-29T23:07:02.300021Z",
     "shell.execute_reply": "2022-11-29T23:07:02.299532Z"
    },
    "papermill": {
     "duration": 0.031153,
     "end_time": "2022-11-29T23:07:02.301384",
     "exception": false,
     "start_time": "2022-11-29T23:07:02.270231",
     "status": "completed"
    },
    "tags": []
   },
   "outputs": [
    {
     "data": {
      "text/plain": [
       "'Compute correlation within distance False'"
      ]
     },
     "metadata": {},
     "output_type": "display_data"
    }
   ],
   "source": [
    "display(f\"Compute correlation within distance {COMPUTE_CORRELATIONS_WITHIN_DISTANCE}\")"
   ]
  },
  {
   "cell_type": "code",
   "execution_count": 11,
   "id": "b393b698-77e3-4ba2-8ac1-e14d51aa988f",
   "metadata": {
    "execution": {
     "iopub.execute_input": "2022-11-29T23:07:02.319782Z",
     "iopub.status.busy": "2022-11-29T23:07:02.319380Z",
     "iopub.status.idle": "2022-11-29T23:07:02.340878Z",
     "shell.execute_reply": "2022-11-29T23:07:02.340368Z"
    },
    "papermill": {
     "duration": 0.032105,
     "end_time": "2022-11-29T23:07:02.342228",
     "exception": false,
     "start_time": "2022-11-29T23:07:02.310123",
     "status": "completed"
    },
    "tags": []
   },
   "outputs": [
    {
     "data": {
      "text/plain": [
       "'Using output dir base: /opt/data/projects/asthma-copd/results/gls_phenoplier/gene_corrs/asthma_only'"
      ]
     },
     "metadata": {},
     "output_type": "display_data"
    }
   ],
   "source": [
    "assert (\n",
    "    OUTPUT_DIR_BASE is not None and len(OUTPUT_DIR_BASE) > 0\n",
    "), \"Output directory path must be given\"\n",
    "\n",
    "OUTPUT_DIR_BASE = (\n",
    "    Path(OUTPUT_DIR_BASE)\n",
    "    / \"gene_corrs\"\n",
    "    / COHORT_NAME\n",
    "    # / REFERENCE_PANEL.lower()\n",
    "    # / EQTL_MODEL.lower()\n",
    ").resolve()\n",
    "\n",
    "OUTPUT_DIR_BASE.mkdir(parents=True, exist_ok=True)\n",
    "\n",
    "display(f\"Using output dir base: {OUTPUT_DIR_BASE}\")"
   ]
  },
  {
   "cell_type": "markdown",
   "id": "d2ba085e",
   "metadata": {
    "papermill": {
     "duration": 0.0086,
     "end_time": "2022-11-29T23:07:02.360330",
     "exception": false,
     "start_time": "2022-11-29T23:07:02.351730",
     "status": "completed"
    },
    "tags": []
   },
   "source": [
    "# Load data"
   ]
  },
  {
   "cell_type": "markdown",
   "id": "7dcb8db7",
   "metadata": {
    "papermill": {
     "duration": 0.00858,
     "end_time": "2022-11-29T23:07:02.377574",
     "exception": false,
     "start_time": "2022-11-29T23:07:02.368994",
     "status": "completed"
    },
    "tags": []
   },
   "source": [
    "## GWAS variants"
   ]
  },
  {
   "cell_type": "code",
   "execution_count": 12,
   "id": "29434c4e-8cd3-4b9b-82e4-b5a251d9dd19",
   "metadata": {
    "execution": {
     "iopub.execute_input": "2022-11-29T23:07:02.395942Z",
     "iopub.status.busy": "2022-11-29T23:07:02.395563Z",
     "iopub.status.idle": "2022-11-29T23:07:04.371302Z",
     "shell.execute_reply": "2022-11-29T23:07:04.370773Z"
    },
    "papermill": {
     "duration": 1.986745,
     "end_time": "2022-11-29T23:07:04.373001",
     "exception": false,
     "start_time": "2022-11-29T23:07:02.386256",
     "status": "completed"
    },
    "tags": []
   },
   "outputs": [],
   "source": [
    "with open(OUTPUT_DIR_BASE / \"gwas_variant_ids.pkl\", \"rb\") as handle:\n",
    "    gwas_variants_ids_set = pickle.load(handle)"
   ]
  },
  {
   "cell_type": "code",
   "execution_count": 13,
   "id": "b9d9dec2-4a76-4bf9-bde2-e24c95acb8a0",
   "metadata": {
    "execution": {
     "iopub.execute_input": "2022-11-29T23:07:04.393234Z",
     "iopub.status.busy": "2022-11-29T23:07:04.393102Z",
     "iopub.status.idle": "2022-11-29T23:07:04.406389Z",
     "shell.execute_reply": "2022-11-29T23:07:04.405930Z"
    },
    "papermill": {
     "duration": 0.024898,
     "end_time": "2022-11-29T23:07:04.407703",
     "exception": false,
     "start_time": "2022-11-29T23:07:04.382805",
     "status": "completed"
    },
    "tags": []
   },
   "outputs": [
    {
     "data": {
      "text/plain": [
       "8578486"
      ]
     },
     "execution_count": 13,
     "metadata": {},
     "output_type": "execute_result"
    }
   ],
   "source": [
    "len(gwas_variants_ids_set)"
   ]
  },
  {
   "cell_type": "code",
   "execution_count": 14,
   "id": "4235b06a-6034-4ee4-a0a3-2ae35d122418",
   "metadata": {
    "execution": {
     "iopub.execute_input": "2022-11-29T23:07:04.427574Z",
     "iopub.status.busy": "2022-11-29T23:07:04.427447Z",
     "iopub.status.idle": "2022-11-29T23:07:04.791957Z",
     "shell.execute_reply": "2022-11-29T23:07:04.791485Z"
    },
    "papermill": {
     "duration": 0.37592,
     "end_time": "2022-11-29T23:07:04.793367",
     "exception": false,
     "start_time": "2022-11-29T23:07:04.417447",
     "status": "completed"
    },
    "tags": []
   },
   "outputs": [
    {
     "data": {
      "text/plain": [
       "['chr3_188574701_G_T_b38',\n",
       " 'chr10_34885707_T_C_b38',\n",
       " 'chr16_68646748_C_G_b38',\n",
       " 'chr3_129601685_A_G_b38',\n",
       " 'chr5_82894773_C_A_b38']"
      ]
     },
     "execution_count": 14,
     "metadata": {},
     "output_type": "execute_result"
    }
   ],
   "source": [
    "list(gwas_variants_ids_set)[:5]"
   ]
  },
  {
   "cell_type": "markdown",
   "id": "07866999-2305-41f9-a144-e69c9122c212",
   "metadata": {
    "papermill": {
     "duration": 0.009678,
     "end_time": "2022-11-29T23:07:04.813539",
     "exception": false,
     "start_time": "2022-11-29T23:07:04.803861",
     "status": "completed"
    },
    "tags": []
   },
   "source": [
    "## S-PrediXcan tissue models"
   ]
  },
  {
   "cell_type": "code",
   "execution_count": 15,
   "id": "780611d9-77c8-405f-90a4-f271f7b09397",
   "metadata": {
    "execution": {
     "iopub.execute_input": "2022-11-29T23:07:04.833833Z",
     "iopub.status.busy": "2022-11-29T23:07:04.833621Z",
     "iopub.status.idle": "2022-11-29T23:07:05.430844Z",
     "shell.execute_reply": "2022-11-29T23:07:05.430329Z"
    },
    "papermill": {
     "duration": 0.609148,
     "end_time": "2022-11-29T23:07:05.432545",
     "exception": false,
     "start_time": "2022-11-29T23:07:04.823397",
     "status": "completed"
    },
    "tags": []
   },
   "outputs": [],
   "source": [
    "spredixcan_genes_models = pd.read_pickle(OUTPUT_DIR_BASE / \"gene_tissues.pkl\")"
   ]
  },
  {
   "cell_type": "code",
   "execution_count": 16,
   "id": "726dd1f6-9557-4225-91fa-b3b879ea96e1",
   "metadata": {
    "execution": {
     "iopub.execute_input": "2022-11-29T23:07:05.453580Z",
     "iopub.status.busy": "2022-11-29T23:07:05.453447Z",
     "iopub.status.idle": "2022-11-29T23:07:05.466869Z",
     "shell.execute_reply": "2022-11-29T23:07:05.466409Z"
    },
    "papermill": {
     "duration": 0.025083,
     "end_time": "2022-11-29T23:07:05.468223",
     "exception": false,
     "start_time": "2022-11-29T23:07:05.443140",
     "status": "completed"
    },
    "tags": []
   },
   "outputs": [
    {
     "data": {
      "text/plain": [
       "(6443, 5)"
      ]
     },
     "execution_count": 16,
     "metadata": {},
     "output_type": "execute_result"
    }
   ],
   "source": [
    "spredixcan_genes_models.shape"
   ]
  },
  {
   "cell_type": "code",
   "execution_count": 17,
   "id": "944a1b48-222c-4eb0-b252-b9de2cbca215",
   "metadata": {
    "execution": {
     "iopub.execute_input": "2022-11-29T23:07:05.488771Z",
     "iopub.status.busy": "2022-11-29T23:07:05.488639Z",
     "iopub.status.idle": "2022-11-29T23:07:05.505663Z",
     "shell.execute_reply": "2022-11-29T23:07:05.505277Z"
    },
    "papermill": {
     "duration": 0.028614,
     "end_time": "2022-11-29T23:07:05.506993",
     "exception": false,
     "start_time": "2022-11-29T23:07:05.478379",
     "status": "completed"
    },
    "tags": []
   },
   "outputs": [
    {
     "data": {
      "text/html": [
       "<div>\n",
       "<style scoped>\n",
       "    .dataframe tbody tr th:only-of-type {\n",
       "        vertical-align: middle;\n",
       "    }\n",
       "\n",
       "    .dataframe tbody tr th {\n",
       "        vertical-align: top;\n",
       "    }\n",
       "\n",
       "    .dataframe thead th {\n",
       "        text-align: right;\n",
       "    }\n",
       "</style>\n",
       "<table border=\"1\" class=\"dataframe\">\n",
       "  <thead>\n",
       "    <tr style=\"text-align: right;\">\n",
       "      <th></th>\n",
       "      <th>gene_name</th>\n",
       "      <th>tissue</th>\n",
       "      <th>n_tissues</th>\n",
       "      <th>n_snps_used_sum</th>\n",
       "      <th>n_snps_in_model_sum</th>\n",
       "    </tr>\n",
       "    <tr>\n",
       "      <th>gene_id</th>\n",
       "      <th></th>\n",
       "      <th></th>\n",
       "      <th></th>\n",
       "      <th></th>\n",
       "      <th></th>\n",
       "    </tr>\n",
       "  </thead>\n",
       "  <tbody>\n",
       "    <tr>\n",
       "      <th>ENSG00000000419</th>\n",
       "      <td>DPM1</td>\n",
       "      <td>(Brain_Substantia_nigra, Brain_Hypothalamus)</td>\n",
       "      <td>2</td>\n",
       "      <td>2</td>\n",
       "      <td>2</td>\n",
       "    </tr>\n",
       "    <tr>\n",
       "      <th>ENSG00000000938</th>\n",
       "      <td>FGR</td>\n",
       "      <td>(Brain_Frontal_Cortex_BA9, Artery_Aorta, Thyro...</td>\n",
       "      <td>36</td>\n",
       "      <td>40</td>\n",
       "      <td>40</td>\n",
       "    </tr>\n",
       "    <tr>\n",
       "      <th>ENSG00000000971</th>\n",
       "      <td>CFH</td>\n",
       "      <td>(Kidney_Cortex, Brain_Frontal_Cortex_BA9, Arte...</td>\n",
       "      <td>34</td>\n",
       "      <td>44</td>\n",
       "      <td>44</td>\n",
       "    </tr>\n",
       "    <tr>\n",
       "      <th>ENSG00000001084</th>\n",
       "      <td>GCLC</td>\n",
       "      <td>(Brain_Frontal_Cortex_BA9, Artery_Aorta, Thyro...</td>\n",
       "      <td>32</td>\n",
       "      <td>46</td>\n",
       "      <td>46</td>\n",
       "    </tr>\n",
       "    <tr>\n",
       "      <th>ENSG00000001167</th>\n",
       "      <td>NFYA</td>\n",
       "      <td>(Kidney_Cortex, Artery_Aorta, Thyroid, Brain_P...</td>\n",
       "      <td>40</td>\n",
       "      <td>47</td>\n",
       "      <td>48</td>\n",
       "    </tr>\n",
       "  </tbody>\n",
       "</table>\n",
       "</div>"
      ],
      "text/plain": [
       "                gene_name                                             tissue  \\\n",
       "gene_id                                                                        \n",
       "ENSG00000000419      DPM1       (Brain_Substantia_nigra, Brain_Hypothalamus)   \n",
       "ENSG00000000938       FGR  (Brain_Frontal_Cortex_BA9, Artery_Aorta, Thyro...   \n",
       "ENSG00000000971       CFH  (Kidney_Cortex, Brain_Frontal_Cortex_BA9, Arte...   \n",
       "ENSG00000001084      GCLC  (Brain_Frontal_Cortex_BA9, Artery_Aorta, Thyro...   \n",
       "ENSG00000001167      NFYA  (Kidney_Cortex, Artery_Aorta, Thyroid, Brain_P...   \n",
       "\n",
       "                 n_tissues  n_snps_used_sum  n_snps_in_model_sum  \n",
       "gene_id                                                           \n",
       "ENSG00000000419          2                2                    2  \n",
       "ENSG00000000938         36               40                   40  \n",
       "ENSG00000000971         34               44                   44  \n",
       "ENSG00000001084         32               46                   46  \n",
       "ENSG00000001167         40               47                   48  "
      ]
     },
     "execution_count": 17,
     "metadata": {},
     "output_type": "execute_result"
    }
   ],
   "source": [
    "spredixcan_genes_models.head()"
   ]
  },
  {
   "cell_type": "code",
   "execution_count": 18,
   "id": "d1c11bb1-be0b-4f40-b360-633d6827109f",
   "metadata": {
    "execution": {
     "iopub.execute_input": "2022-11-29T23:07:05.528584Z",
     "iopub.status.busy": "2022-11-29T23:07:05.528457Z",
     "iopub.status.idle": "2022-11-29T23:07:05.541239Z",
     "shell.execute_reply": "2022-11-29T23:07:05.540850Z"
    },
    "papermill": {
     "duration": 0.024741,
     "end_time": "2022-11-29T23:07:05.542599",
     "exception": false,
     "start_time": "2022-11-29T23:07:05.517858",
     "status": "completed"
    },
    "tags": []
   },
   "outputs": [],
   "source": [
    "assert spredixcan_genes_models.index.is_unique"
   ]
  },
  {
   "cell_type": "markdown",
   "id": "a5b5092c-a13e-47c4-a92a-480fcc08f3ae",
   "metadata": {
    "papermill": {
     "duration": 0.010258,
     "end_time": "2022-11-29T23:07:05.563254",
     "exception": false,
     "start_time": "2022-11-29T23:07:05.552996",
     "status": "completed"
    },
    "tags": []
   },
   "source": [
    "## Gene info"
   ]
  },
  {
   "cell_type": "code",
   "execution_count": 19,
   "id": "7d6bb224-88e9-4358-ac10-43a41d92cdad",
   "metadata": {
    "execution": {
     "iopub.execute_input": "2022-11-29T23:07:05.584309Z",
     "iopub.status.busy": "2022-11-29T23:07:05.584175Z",
     "iopub.status.idle": "2022-11-29T23:07:05.602641Z",
     "shell.execute_reply": "2022-11-29T23:07:05.602147Z"
    },
    "papermill": {
     "duration": 0.03056,
     "end_time": "2022-11-29T23:07:05.604261",
     "exception": false,
     "start_time": "2022-11-29T23:07:05.573701",
     "status": "completed"
    },
    "tags": []
   },
   "outputs": [],
   "source": [
    "genes_info = pd.read_pickle(OUTPUT_DIR_BASE / \"genes_info.pkl\")"
   ]
  },
  {
   "cell_type": "code",
   "execution_count": 20,
   "id": "9e32abfa-546d-483e-8c18-d526e9e05903",
   "metadata": {
    "execution": {
     "iopub.execute_input": "2022-11-29T23:07:05.628279Z",
     "iopub.status.busy": "2022-11-29T23:07:05.628106Z",
     "iopub.status.idle": "2022-11-29T23:07:05.645671Z",
     "shell.execute_reply": "2022-11-29T23:07:05.645191Z"
    },
    "papermill": {
     "duration": 0.031264,
     "end_time": "2022-11-29T23:07:05.647232",
     "exception": false,
     "start_time": "2022-11-29T23:07:05.615968",
     "status": "completed"
    },
    "tags": []
   },
   "outputs": [
    {
     "data": {
      "text/plain": [
       "(6443, 7)"
      ]
     },
     "execution_count": 20,
     "metadata": {},
     "output_type": "execute_result"
    }
   ],
   "source": [
    "genes_info.shape"
   ]
  },
  {
   "cell_type": "code",
   "execution_count": 21,
   "id": "d16c3e92-85ec-468a-9a56-e25a9774a1cb",
   "metadata": {
    "execution": {
     "iopub.execute_input": "2022-11-29T23:07:05.669366Z",
     "iopub.status.busy": "2022-11-29T23:07:05.669156Z",
     "iopub.status.idle": "2022-11-29T23:07:05.694186Z",
     "shell.execute_reply": "2022-11-29T23:07:05.693674Z"
    },
    "papermill": {
     "duration": 0.036784,
     "end_time": "2022-11-29T23:07:05.695592",
     "exception": false,
     "start_time": "2022-11-29T23:07:05.658808",
     "status": "completed"
    },
    "tags": []
   },
   "outputs": [
    {
     "data": {
      "text/html": [
       "<div>\n",
       "<style scoped>\n",
       "    .dataframe tbody tr th:only-of-type {\n",
       "        vertical-align: middle;\n",
       "    }\n",
       "\n",
       "    .dataframe tbody tr th {\n",
       "        vertical-align: top;\n",
       "    }\n",
       "\n",
       "    .dataframe thead th {\n",
       "        text-align: right;\n",
       "    }\n",
       "</style>\n",
       "<table border=\"1\" class=\"dataframe\">\n",
       "  <thead>\n",
       "    <tr style=\"text-align: right;\">\n",
       "      <th></th>\n",
       "      <th>name</th>\n",
       "      <th>id</th>\n",
       "      <th>chr</th>\n",
       "      <th>band</th>\n",
       "      <th>start_position</th>\n",
       "      <th>end_position</th>\n",
       "      <th>gene_length</th>\n",
       "    </tr>\n",
       "  </thead>\n",
       "  <tbody>\n",
       "    <tr>\n",
       "      <th>0</th>\n",
       "      <td>UBE4B</td>\n",
       "      <td>ENSG00000130939</td>\n",
       "      <td>1</td>\n",
       "      <td>1p36.22</td>\n",
       "      <td>10032832</td>\n",
       "      <td>10181239</td>\n",
       "      <td>148407</td>\n",
       "    </tr>\n",
       "    <tr>\n",
       "      <th>1</th>\n",
       "      <td>STX18</td>\n",
       "      <td>ENSG00000168818</td>\n",
       "      <td>4</td>\n",
       "      <td>4p16.2</td>\n",
       "      <td>4415742</td>\n",
       "      <td>4542346</td>\n",
       "      <td>126604</td>\n",
       "    </tr>\n",
       "    <tr>\n",
       "      <th>2</th>\n",
       "      <td>DNM2</td>\n",
       "      <td>ENSG00000079805</td>\n",
       "      <td>19</td>\n",
       "      <td>19p13.2</td>\n",
       "      <td>10718079</td>\n",
       "      <td>10833488</td>\n",
       "      <td>115409</td>\n",
       "    </tr>\n",
       "    <tr>\n",
       "      <th>3</th>\n",
       "      <td>PLD1</td>\n",
       "      <td>ENSG00000075651</td>\n",
       "      <td>3</td>\n",
       "      <td>3q26.31</td>\n",
       "      <td>171600404</td>\n",
       "      <td>171810950</td>\n",
       "      <td>210546</td>\n",
       "    </tr>\n",
       "    <tr>\n",
       "      <th>4</th>\n",
       "      <td>ANKRD55</td>\n",
       "      <td>ENSG00000164512</td>\n",
       "      <td>5</td>\n",
       "      <td>5q11.2</td>\n",
       "      <td>56099680</td>\n",
       "      <td>56233330</td>\n",
       "      <td>133650</td>\n",
       "    </tr>\n",
       "  </tbody>\n",
       "</table>\n",
       "</div>"
      ],
      "text/plain": [
       "      name               id  chr     band  start_position  end_position  \\\n",
       "0    UBE4B  ENSG00000130939    1  1p36.22        10032832      10181239   \n",
       "1    STX18  ENSG00000168818    4   4p16.2         4415742       4542346   \n",
       "2     DNM2  ENSG00000079805   19  19p13.2        10718079      10833488   \n",
       "3     PLD1  ENSG00000075651    3  3q26.31       171600404     171810950   \n",
       "4  ANKRD55  ENSG00000164512    5   5q11.2        56099680      56233330   \n",
       "\n",
       "   gene_length  \n",
       "0       148407  \n",
       "1       126604  \n",
       "2       115409  \n",
       "3       210546  \n",
       "4       133650  "
      ]
     },
     "execution_count": 21,
     "metadata": {},
     "output_type": "execute_result"
    }
   ],
   "source": [
    "genes_info.head()"
   ]
  },
  {
   "cell_type": "markdown",
   "id": "d3843e06",
   "metadata": {
    "papermill": {
     "duration": 0.010272,
     "end_time": "2022-11-29T23:07:05.716128",
     "exception": false,
     "start_time": "2022-11-29T23:07:05.705856",
     "status": "completed"
    },
    "tags": []
   },
   "source": [
    "# Compute correlations"
   ]
  },
  {
   "cell_type": "code",
   "execution_count": 22,
   "id": "cb859c15-d1f3-4006-a74c-2b83c0db9611",
   "metadata": {
    "execution": {
     "iopub.execute_input": "2022-11-29T23:07:05.736613Z",
     "iopub.status.busy": "2022-11-29T23:07:05.736397Z",
     "iopub.status.idle": "2022-11-29T23:07:05.757697Z",
     "shell.execute_reply": "2022-11-29T23:07:05.757198Z"
    },
    "papermill": {
     "duration": 0.033116,
     "end_time": "2022-11-29T23:07:05.759033",
     "exception": false,
     "start_time": "2022-11-29T23:07:05.725917",
     "status": "completed"
    },
    "tags": []
   },
   "outputs": [
    {
     "data": {
      "text/plain": [
       "PosixPath('/opt/data/projects/asthma-copd/results/gls_phenoplier/gene_corrs/asthma_only/by_chr/gene_corrs-chr21.pkl')"
      ]
     },
     "metadata": {},
     "output_type": "display_data"
    }
   ],
   "source": [
    "output_dir = OUTPUT_DIR_BASE / \"by_chr\"\n",
    "output_dir.mkdir(exist_ok=True, parents=True)\n",
    "output_file = output_dir / f\"gene_corrs-chr{CHROMOSOME}.pkl\"\n",
    "display(output_file)"
   ]
  },
  {
   "cell_type": "code",
   "execution_count": 23,
   "id": "aa674fe4-6794-4eed-98fa-32b39d1d4ace",
   "metadata": {
    "execution": {
     "iopub.execute_input": "2022-11-29T23:07:05.780675Z",
     "iopub.status.busy": "2022-11-29T23:07:05.780238Z",
     "iopub.status.idle": "2022-11-29T23:07:05.799948Z",
     "shell.execute_reply": "2022-11-29T23:07:05.799443Z"
    },
    "papermill": {
     "duration": 0.032197,
     "end_time": "2022-11-29T23:07:05.801400",
     "exception": false,
     "start_time": "2022-11-29T23:07:05.769203",
     "status": "completed"
    },
    "tags": []
   },
   "outputs": [],
   "source": [
    "warnings.filterwarnings(\"error\")"
   ]
  },
  {
   "cell_type": "code",
   "execution_count": 24,
   "id": "44d5450b-3baf-43f1-9e2e-4b06f1a785f8",
   "metadata": {
    "execution": {
     "iopub.execute_input": "2022-11-29T23:07:05.822623Z",
     "iopub.status.busy": "2022-11-29T23:07:05.822225Z",
     "iopub.status.idle": "2022-11-29T23:07:05.842461Z",
     "shell.execute_reply": "2022-11-29T23:07:05.841957Z"
    },
    "papermill": {
     "duration": 0.032264,
     "end_time": "2022-11-29T23:07:05.843923",
     "exception": false,
     "start_time": "2022-11-29T23:07:05.811659",
     "status": "completed"
    },
    "tags": []
   },
   "outputs": [],
   "source": [
    "# standard checks\n",
    "all_chrs = genes_info[\"chr\"].dropna().unique()\n",
    "assert all_chrs.shape[0] == 22\n",
    "\n",
    "# select chromosome given by the user\n",
    "assert CHROMOSOME in all_chrs"
   ]
  },
  {
   "cell_type": "code",
   "execution_count": 25,
   "id": "2d7c043c-92a7-4d35-991b-fa69ac1e0268",
   "metadata": {
    "execution": {
     "iopub.execute_input": "2022-11-29T23:07:05.865800Z",
     "iopub.status.busy": "2022-11-29T23:07:05.865542Z",
     "iopub.status.idle": "2022-11-29T23:07:05.887258Z",
     "shell.execute_reply": "2022-11-29T23:07:05.886748Z"
    },
    "papermill": {
     "duration": 0.033764,
     "end_time": "2022-11-29T23:07:05.888618",
     "exception": false,
     "start_time": "2022-11-29T23:07:05.854854",
     "status": "completed"
    },
    "tags": []
   },
   "outputs": [
    {
     "name": "stdout",
     "output_type": "stream",
     "text": [
      "Number of genes in chromosome: 62\n"
     ]
    }
   ],
   "source": [
    "# run only on the chromosome specified\n",
    "all_chrs = [CHROMOSOME]\n",
    "genes_chr = genes_info[genes_info[\"chr\"] == CHROMOSOME]\n",
    "\n",
    "# For testing purposes\n",
    "# genes_chr = genes_chr.sample(n=20)\n",
    "\n",
    "print(f\"Number of genes in chromosome: {genes_chr.shape[0]}\", flush=True)"
   ]
  },
  {
   "cell_type": "code",
   "execution_count": 26,
   "id": "916015d8-2979-46d3-a9b9-1cf5a0932c6a",
   "metadata": {
    "execution": {
     "iopub.execute_input": "2022-11-29T23:07:05.910676Z",
     "iopub.status.busy": "2022-11-29T23:07:05.910460Z",
     "iopub.status.idle": "2022-11-29T23:07:05.930595Z",
     "shell.execute_reply": "2022-11-29T23:07:05.930072Z"
    },
    "papermill": {
     "duration": 0.032985,
     "end_time": "2022-11-29T23:07:05.932155",
     "exception": false,
     "start_time": "2022-11-29T23:07:05.899170",
     "status": "completed"
    },
    "tags": []
   },
   "outputs": [],
   "source": [
    "# sort genes by starting position to make visualizations better later\n",
    "genes_chr = genes_chr.sort_values(\"start_position\")"
   ]
  },
  {
   "cell_type": "code",
   "execution_count": 27,
   "id": "a38aa74a-8ad3-47f6-8ef9-56be0e011774",
   "metadata": {
    "execution": {
     "iopub.execute_input": "2022-11-29T23:07:05.953654Z",
     "iopub.status.busy": "2022-11-29T23:07:05.953450Z",
     "iopub.status.idle": "2022-11-29T23:07:05.973583Z",
     "shell.execute_reply": "2022-11-29T23:07:05.973071Z"
    },
    "papermill": {
     "duration": 0.032401,
     "end_time": "2022-11-29T23:07:05.975024",
     "exception": false,
     "start_time": "2022-11-29T23:07:05.942623",
     "status": "completed"
    },
    "tags": []
   },
   "outputs": [],
   "source": [
    "gene_chr_objs = [Gene(ensembl_id=gene_id) for gene_id in genes_chr[\"id\"]]"
   ]
  },
  {
   "cell_type": "code",
   "execution_count": 28,
   "id": "570f974f-13c3-42b6-ad3a-ce99ca885c1a",
   "metadata": {
    "execution": {
     "iopub.execute_input": "2022-11-29T23:07:05.997068Z",
     "iopub.status.busy": "2022-11-29T23:07:05.996809Z",
     "iopub.status.idle": "2022-11-29T23:07:06.017536Z",
     "shell.execute_reply": "2022-11-29T23:07:06.016995Z"
    },
    "papermill": {
     "duration": 0.033389,
     "end_time": "2022-11-29T23:07:06.018895",
     "exception": false,
     "start_time": "2022-11-29T23:07:05.985506",
     "status": "completed"
    },
    "tags": []
   },
   "outputs": [
    {
     "name": "stdout",
     "output_type": "stream",
     "text": [
      "Number of gene combinations: 1953\n"
     ]
    }
   ],
   "source": [
    "n = len(gene_chr_objs)\n",
    "# diagonal elements + upper triangular matrix\n",
    "n_comb = n + int(n * (n - 1) / 2.0)\n",
    "print(f\"Number of gene combinations: {n_comb}\", flush=True)"
   ]
  },
  {
   "cell_type": "code",
   "execution_count": 29,
   "id": "cdbb90a1",
   "metadata": {
    "execution": {
     "iopub.execute_input": "2022-11-29T23:07:06.040839Z",
     "iopub.status.busy": "2022-11-29T23:07:06.040437Z",
     "iopub.status.idle": "2022-11-29T23:08:41.082542Z",
     "shell.execute_reply": "2022-11-29T23:08:41.082069Z"
    },
    "papermill": {
     "duration": 95.054466,
     "end_time": "2022-11-29T23:08:41.083864",
     "exception": false,
     "start_time": "2022-11-29T23:07:06.029398",
     "status": "completed"
    },
    "tags": []
   },
   "outputs": [
    {
     "name": "stderr",
     "output_type": "stream",
     "text": [
      "ENSG00000160307 / ENSG00000160307: 100%|████████████████████████| 1953/1953 [01:35<00:00, 20.56it/s]\n"
     ]
    },
    {
     "data": {
      "text/plain": [
       "PosixPath('/opt/data/projects/asthma-copd/results/gls_phenoplier/gene_corrs/asthma_only/by_chr/gene_corrs-chr21.pkl')"
      ]
     },
     "metadata": {},
     "output_type": "display_data"
    }
   ],
   "source": [
    "gene_corrs = []\n",
    "gene_corrs_data = np.full(\n",
    "    (n, n),\n",
    "    np.nan,\n",
    "    dtype=np.float64,\n",
    ")\n",
    "\n",
    "i = 0\n",
    "with tqdm(ncols=100, total=n_comb) as pbar:\n",
    "    for gene1_idx in range(0, len(gene_chr_objs)):\n",
    "        gene1_obj = gene_chr_objs[gene1_idx]\n",
    "        gene1_tissues = spredixcan_genes_models.loc[gene1_obj.ensembl_id, \"tissue\"]\n",
    "\n",
    "        for gene2_idx in range(gene1_idx, len(gene_chr_objs)):\n",
    "            gene2_obj = gene_chr_objs[gene2_idx]\n",
    "            gene2_tissues = spredixcan_genes_models.loc[gene2_obj.ensembl_id, \"tissue\"]\n",
    "\n",
    "            pbar.set_description(f\"{gene1_obj.ensembl_id} / {gene2_obj.ensembl_id}\")\n",
    "\n",
    "            try:\n",
    "                r = gene1_obj.get_ssm_correlation(\n",
    "                    other_gene=gene2_obj,\n",
    "                    tissues=gene1_tissues,\n",
    "                    other_tissues=gene2_tissues,\n",
    "                    snps_subset=gwas_variants_ids_set,\n",
    "                    condition_number=SMULTIXCAN_CONDITION_NUMBER,\n",
    "                    reference_panel=REFERENCE_PANEL,\n",
    "                    model_type=EQTL_MODEL,\n",
    "                    use_within_distance=COMPUTE_CORRELATIONS_WITHIN_DISTANCE,\n",
    "                )\n",
    "\n",
    "                if r is None:\n",
    "                    # if r is None, it's very likely because:\n",
    "                    #  * one of the genes has no prediction models\n",
    "                    #  * all the SNPs predictors for the gene are not present in the reference\n",
    "                    #    panel\n",
    "\n",
    "                    r = 0.0\n",
    "\n",
    "                gene_corrs.append(r)\n",
    "\n",
    "                gene_corrs_data[gene1_idx, gene2_idx] = r\n",
    "                gene_corrs_data[gene2_idx, gene1_idx] = r\n",
    "            except Warning as e:\n",
    "                if not DEBUG_MODE:\n",
    "                    raise e\n",
    "\n",
    "                print(\n",
    "                    f\"RuntimeWarning for genes {gene1_obj.ensembl_id} and {gene2_obj.ensembl_id}\",\n",
    "                    flush=True,\n",
    "                )\n",
    "                print(traceback.format_exc(), flush=True)\n",
    "\n",
    "                gene_corrs.append(np.nan)\n",
    "            except Exception as e:\n",
    "                if not DEBUG_MODE:\n",
    "                    raise e\n",
    "\n",
    "                print(\n",
    "                    f\"Exception for genes {gene1_obj.ensembl_id} and {gene2_obj.ensembl_id}\",\n",
    "                    flush=True,\n",
    "                )\n",
    "                print(traceback.format_exc(), flush=True)\n",
    "\n",
    "                gene_corrs.append(np.nan)\n",
    "\n",
    "            pbar.update(1)\n",
    "\n",
    "# create a pandas series\n",
    "gene_corrs_flat = pd.Series(gene_corrs)\n",
    "\n",
    "# save\n",
    "# FIXME: consider saving only the condenced matrix here. See here for\n",
    "# more details: https://github.com/greenelab/phenoplier/pull/38#discussion_r634600813\n",
    "# gene_corrs_data = squareform(np.array(gene_corrs, dtype=np.float64))\n",
    "# np.fill_diagonal(gene_corrs_data, 1.0)\n",
    "\n",
    "gene_chr_ids = [g.ensembl_id for g in gene_chr_objs]\n",
    "gene_corrs_df = pd.DataFrame(\n",
    "    data=gene_corrs_data,\n",
    "    index=gene_chr_ids,\n",
    "    columns=gene_chr_ids,\n",
    ")\n",
    "\n",
    "output_dir.mkdir(exist_ok=True, parents=True)\n",
    "display(output_file)\n",
    "\n",
    "gene_corrs_df.to_pickle(output_file)"
   ]
  },
  {
   "cell_type": "markdown",
   "id": "faa67b51-5373-470f-aa72-2ded53fa6dfe",
   "metadata": {
    "papermill": {
     "duration": 0.076672,
     "end_time": "2022-11-29T23:08:41.277060",
     "exception": false,
     "start_time": "2022-11-29T23:08:41.200388",
     "status": "completed"
    },
    "tags": []
   },
   "source": [
    "# Testing"
   ]
  },
  {
   "cell_type": "code",
   "execution_count": 30,
   "id": "14f7d046-4b55-4896-a56b-990127bcc388",
   "metadata": {
    "execution": {
     "iopub.execute_input": "2022-11-29T23:08:41.431809Z",
     "iopub.status.busy": "2022-11-29T23:08:41.431492Z",
     "iopub.status.idle": "2022-11-29T23:08:41.449960Z",
     "shell.execute_reply": "2022-11-29T23:08:41.449460Z"
    },
    "papermill": {
     "duration": 0.096935,
     "end_time": "2022-11-29T23:08:41.450745",
     "exception": false,
     "start_time": "2022-11-29T23:08:41.353810",
     "status": "completed"
    },
    "tags": []
   },
   "outputs": [
    {
     "data": {
      "text/plain": [
       "(62, 62)"
      ]
     },
     "execution_count": 30,
     "metadata": {},
     "output_type": "execute_result"
    }
   ],
   "source": [
    "gene_corrs_df.shape"
   ]
  },
  {
   "cell_type": "code",
   "execution_count": 31,
   "id": "c7d15414-3297-4537-a7c6-7588c0baeb75",
   "metadata": {
    "execution": {
     "iopub.execute_input": "2022-11-29T23:08:41.630890Z",
     "iopub.status.busy": "2022-11-29T23:08:41.630288Z",
     "iopub.status.idle": "2022-11-29T23:08:41.671780Z",
     "shell.execute_reply": "2022-11-29T23:08:41.671154Z"
    },
    "papermill": {
     "duration": 0.119365,
     "end_time": "2022-11-29T23:08:41.672698",
     "exception": false,
     "start_time": "2022-11-29T23:08:41.553333",
     "status": "completed"
    },
    "tags": []
   },
   "outputs": [
    {
     "data": {
      "text/html": [
       "<div>\n",
       "<style scoped>\n",
       "    .dataframe tbody tr th:only-of-type {\n",
       "        vertical-align: middle;\n",
       "    }\n",
       "\n",
       "    .dataframe tbody tr th {\n",
       "        vertical-align: top;\n",
       "    }\n",
       "\n",
       "    .dataframe thead th {\n",
       "        text-align: right;\n",
       "    }\n",
       "</style>\n",
       "<table border=\"1\" class=\"dataframe\">\n",
       "  <thead>\n",
       "    <tr style=\"text-align: right;\">\n",
       "      <th></th>\n",
       "      <th>ENSG00000155307</th>\n",
       "      <th>ENSG00000180530</th>\n",
       "      <th>ENSG00000154719</th>\n",
       "      <th>ENSG00000154721</th>\n",
       "      <th>ENSG00000154723</th>\n",
       "      <th>ENSG00000142192</th>\n",
       "      <th>ENSG00000154734</th>\n",
       "      <th>ENSG00000156261</th>\n",
       "      <th>ENSG00000171189</th>\n",
       "      <th>ENSG00000156299</th>\n",
       "      <th>...</th>\n",
       "      <th>ENSG00000160255</th>\n",
       "      <th>ENSG00000197381</th>\n",
       "      <th>ENSG00000182871</th>\n",
       "      <th>ENSG00000173638</th>\n",
       "      <th>ENSG00000142156</th>\n",
       "      <th>ENSG00000142173</th>\n",
       "      <th>ENSG00000160282</th>\n",
       "      <th>ENSG00000160285</th>\n",
       "      <th>ENSG00000160299</th>\n",
       "      <th>ENSG00000160307</th>\n",
       "    </tr>\n",
       "  </thead>\n",
       "  <tbody>\n",
       "    <tr>\n",
       "      <th>ENSG00000155307</th>\n",
       "      <td>1.000000</td>\n",
       "      <td>0.005178</td>\n",
       "      <td>0.004880</td>\n",
       "      <td>0.003141</td>\n",
       "      <td>0.005415</td>\n",
       "      <td>0.005186</td>\n",
       "      <td>0.003721</td>\n",
       "      <td>0.002872</td>\n",
       "      <td>0.006022</td>\n",
       "      <td>0.005140</td>\n",
       "      <td>...</td>\n",
       "      <td>0.013646</td>\n",
       "      <td>0.009796</td>\n",
       "      <td>0.008948</td>\n",
       "      <td>0.012405</td>\n",
       "      <td>0.009493</td>\n",
       "      <td>0.009552</td>\n",
       "      <td>0.008333</td>\n",
       "      <td>0.007346</td>\n",
       "      <td>0.008688</td>\n",
       "      <td>0.008517</td>\n",
       "    </tr>\n",
       "    <tr>\n",
       "      <th>ENSG00000180530</th>\n",
       "      <td>0.005178</td>\n",
       "      <td>1.000000</td>\n",
       "      <td>0.004544</td>\n",
       "      <td>0.006682</td>\n",
       "      <td>0.008033</td>\n",
       "      <td>0.008056</td>\n",
       "      <td>0.008561</td>\n",
       "      <td>0.002112</td>\n",
       "      <td>0.004616</td>\n",
       "      <td>0.009805</td>\n",
       "      <td>...</td>\n",
       "      <td>0.008660</td>\n",
       "      <td>0.011084</td>\n",
       "      <td>0.013611</td>\n",
       "      <td>0.014953</td>\n",
       "      <td>0.012049</td>\n",
       "      <td>0.010289</td>\n",
       "      <td>0.005725</td>\n",
       "      <td>0.008091</td>\n",
       "      <td>0.006533</td>\n",
       "      <td>0.008145</td>\n",
       "    </tr>\n",
       "    <tr>\n",
       "      <th>ENSG00000154719</th>\n",
       "      <td>0.004880</td>\n",
       "      <td>0.004544</td>\n",
       "      <td>1.000000</td>\n",
       "      <td>0.423625</td>\n",
       "      <td>0.151819</td>\n",
       "      <td>0.013556</td>\n",
       "      <td>0.006876</td>\n",
       "      <td>0.003509</td>\n",
       "      <td>0.000581</td>\n",
       "      <td>0.012442</td>\n",
       "      <td>...</td>\n",
       "      <td>0.006062</td>\n",
       "      <td>0.011233</td>\n",
       "      <td>0.009508</td>\n",
       "      <td>0.011899</td>\n",
       "      <td>0.008213</td>\n",
       "      <td>0.012071</td>\n",
       "      <td>0.004721</td>\n",
       "      <td>0.007105</td>\n",
       "      <td>0.006077</td>\n",
       "      <td>0.006459</td>\n",
       "    </tr>\n",
       "    <tr>\n",
       "      <th>ENSG00000154721</th>\n",
       "      <td>0.003141</td>\n",
       "      <td>0.006682</td>\n",
       "      <td>0.423625</td>\n",
       "      <td>1.000000</td>\n",
       "      <td>0.347390</td>\n",
       "      <td>0.012909</td>\n",
       "      <td>0.006788</td>\n",
       "      <td>0.003180</td>\n",
       "      <td>0.001469</td>\n",
       "      <td>0.008599</td>\n",
       "      <td>...</td>\n",
       "      <td>0.008081</td>\n",
       "      <td>0.007519</td>\n",
       "      <td>0.008902</td>\n",
       "      <td>0.009511</td>\n",
       "      <td>0.011769</td>\n",
       "      <td>0.013917</td>\n",
       "      <td>0.004636</td>\n",
       "      <td>0.004128</td>\n",
       "      <td>0.006521</td>\n",
       "      <td>0.006946</td>\n",
       "    </tr>\n",
       "    <tr>\n",
       "      <th>ENSG00000154723</th>\n",
       "      <td>0.005415</td>\n",
       "      <td>0.008033</td>\n",
       "      <td>0.151819</td>\n",
       "      <td>0.347390</td>\n",
       "      <td>1.000000</td>\n",
       "      <td>0.028369</td>\n",
       "      <td>0.005127</td>\n",
       "      <td>0.002333</td>\n",
       "      <td>0.002249</td>\n",
       "      <td>0.012492</td>\n",
       "      <td>...</td>\n",
       "      <td>0.010031</td>\n",
       "      <td>0.011980</td>\n",
       "      <td>0.010866</td>\n",
       "      <td>0.010536</td>\n",
       "      <td>0.011250</td>\n",
       "      <td>0.010151</td>\n",
       "      <td>0.006920</td>\n",
       "      <td>0.004676</td>\n",
       "      <td>0.009942</td>\n",
       "      <td>0.004872</td>\n",
       "    </tr>\n",
       "  </tbody>\n",
       "</table>\n",
       "<p>5 rows × 62 columns</p>\n",
       "</div>"
      ],
      "text/plain": [
       "                 ENSG00000155307  ENSG00000180530  ENSG00000154719  \\\n",
       "ENSG00000155307         1.000000         0.005178         0.004880   \n",
       "ENSG00000180530         0.005178         1.000000         0.004544   \n",
       "ENSG00000154719         0.004880         0.004544         1.000000   \n",
       "ENSG00000154721         0.003141         0.006682         0.423625   \n",
       "ENSG00000154723         0.005415         0.008033         0.151819   \n",
       "\n",
       "                 ENSG00000154721  ENSG00000154723  ENSG00000142192  \\\n",
       "ENSG00000155307         0.003141         0.005415         0.005186   \n",
       "ENSG00000180530         0.006682         0.008033         0.008056   \n",
       "ENSG00000154719         0.423625         0.151819         0.013556   \n",
       "ENSG00000154721         1.000000         0.347390         0.012909   \n",
       "ENSG00000154723         0.347390         1.000000         0.028369   \n",
       "\n",
       "                 ENSG00000154734  ENSG00000156261  ENSG00000171189  \\\n",
       "ENSG00000155307         0.003721         0.002872         0.006022   \n",
       "ENSG00000180530         0.008561         0.002112         0.004616   \n",
       "ENSG00000154719         0.006876         0.003509         0.000581   \n",
       "ENSG00000154721         0.006788         0.003180         0.001469   \n",
       "ENSG00000154723         0.005127         0.002333         0.002249   \n",
       "\n",
       "                 ENSG00000156299  ...  ENSG00000160255  ENSG00000197381  \\\n",
       "ENSG00000155307         0.005140  ...         0.013646         0.009796   \n",
       "ENSG00000180530         0.009805  ...         0.008660         0.011084   \n",
       "ENSG00000154719         0.012442  ...         0.006062         0.011233   \n",
       "ENSG00000154721         0.008599  ...         0.008081         0.007519   \n",
       "ENSG00000154723         0.012492  ...         0.010031         0.011980   \n",
       "\n",
       "                 ENSG00000182871  ENSG00000173638  ENSG00000142156  \\\n",
       "ENSG00000155307         0.008948         0.012405         0.009493   \n",
       "ENSG00000180530         0.013611         0.014953         0.012049   \n",
       "ENSG00000154719         0.009508         0.011899         0.008213   \n",
       "ENSG00000154721         0.008902         0.009511         0.011769   \n",
       "ENSG00000154723         0.010866         0.010536         0.011250   \n",
       "\n",
       "                 ENSG00000142173  ENSG00000160282  ENSG00000160285  \\\n",
       "ENSG00000155307         0.009552         0.008333         0.007346   \n",
       "ENSG00000180530         0.010289         0.005725         0.008091   \n",
       "ENSG00000154719         0.012071         0.004721         0.007105   \n",
       "ENSG00000154721         0.013917         0.004636         0.004128   \n",
       "ENSG00000154723         0.010151         0.006920         0.004676   \n",
       "\n",
       "                 ENSG00000160299  ENSG00000160307  \n",
       "ENSG00000155307         0.008688         0.008517  \n",
       "ENSG00000180530         0.006533         0.008145  \n",
       "ENSG00000154719         0.006077         0.006459  \n",
       "ENSG00000154721         0.006521         0.006946  \n",
       "ENSG00000154723         0.009942         0.004872  \n",
       "\n",
       "[5 rows x 62 columns]"
      ]
     },
     "execution_count": 31,
     "metadata": {},
     "output_type": "execute_result"
    }
   ],
   "source": [
    "gene_corrs_df.head()"
   ]
  },
  {
   "cell_type": "markdown",
   "id": "dad6603f-01c6-41fb-a6f6-241051207dd8",
   "metadata": {
    "papermill": {
     "duration": 0.076103,
     "end_time": "2022-11-29T23:08:41.825276",
     "exception": false,
     "start_time": "2022-11-29T23:08:41.749173",
     "status": "completed"
    },
    "tags": []
   },
   "source": [
    "## Standard checks and stats"
   ]
  },
  {
   "cell_type": "code",
   "execution_count": 32,
   "id": "286686af-1b7b-4440-8453-6bdcbd8de19c",
   "metadata": {
    "execution": {
     "iopub.execute_input": "2022-11-29T23:08:41.980897Z",
     "iopub.status.busy": "2022-11-29T23:08:41.980197Z",
     "iopub.status.idle": "2022-11-29T23:08:42.003275Z",
     "shell.execute_reply": "2022-11-29T23:08:42.002731Z"
    },
    "papermill": {
     "duration": 0.101969,
     "end_time": "2022-11-29T23:08:42.004307",
     "exception": false,
     "start_time": "2022-11-29T23:08:41.902338",
     "status": "completed"
    },
    "tags": []
   },
   "outputs": [],
   "source": [
    "assert not gene_corrs_df.isna().any().any()"
   ]
  },
  {
   "cell_type": "code",
   "execution_count": 33,
   "id": "00583efc-7068-4270-ad1e-4a418e91db96",
   "metadata": {
    "execution": {
     "iopub.execute_input": "2022-11-29T23:08:42.160940Z",
     "iopub.status.busy": "2022-11-29T23:08:42.160391Z",
     "iopub.status.idle": "2022-11-29T23:08:42.183970Z",
     "shell.execute_reply": "2022-11-29T23:08:42.183447Z"
    },
    "papermill": {
     "duration": 0.103297,
     "end_time": "2022-11-29T23:08:42.184837",
     "exception": false,
     "start_time": "2022-11-29T23:08:42.081540",
     "status": "completed"
    },
    "tags": []
   },
   "outputs": [
    {
     "data": {
      "text/plain": [
       "0.0005813800282471677"
      ]
     },
     "metadata": {},
     "output_type": "display_data"
    }
   ],
   "source": [
    "_min_val = gene_corrs_df.min().min()\n",
    "display(_min_val)\n",
    "assert _min_val >= -0.05"
   ]
  },
  {
   "cell_type": "code",
   "execution_count": 34,
   "id": "d04fb2cf-1050-475b-b855-f5f7cc04092b",
   "metadata": {
    "execution": {
     "iopub.execute_input": "2022-11-29T23:08:42.340549Z",
     "iopub.status.busy": "2022-11-29T23:08:42.340187Z",
     "iopub.status.idle": "2022-11-29T23:08:42.366575Z",
     "shell.execute_reply": "2022-11-29T23:08:42.366037Z"
    },
    "papermill": {
     "duration": 0.105252,
     "end_time": "2022-11-29T23:08:42.367432",
     "exception": false,
     "start_time": "2022-11-29T23:08:42.262180",
     "status": "completed"
    },
    "tags": []
   },
   "outputs": [
    {
     "data": {
      "text/plain": [
       "1.000000000000002"
      ]
     },
     "metadata": {},
     "output_type": "display_data"
    }
   ],
   "source": [
    "_max_val = gene_corrs_df.max().max()  # this captures the diagonal\n",
    "display(_max_val)\n",
    "assert _max_val <= 1.05"
   ]
  },
  {
   "cell_type": "code",
   "execution_count": 35,
   "id": "96d02c44-1fba-47be-8a93-8f2608420b9c",
   "metadata": {
    "execution": {
     "iopub.execute_input": "2022-11-29T23:08:42.522396Z",
     "iopub.status.busy": "2022-11-29T23:08:42.521853Z",
     "iopub.status.idle": "2022-11-29T23:08:42.543079Z",
     "shell.execute_reply": "2022-11-29T23:08:42.542500Z"
    },
    "papermill": {
     "duration": 0.099688,
     "end_time": "2022-11-29T23:08:42.544160",
     "exception": false,
     "start_time": "2022-11-29T23:08:42.444472",
     "status": "completed"
    },
    "tags": []
   },
   "outputs": [],
   "source": [
    "# check upper triangular values\n",
    "# assert len(gene_corrs) == int(genes_chr.shape[0] * (genes_chr.shape[0] - 1) / 2)"
   ]
  },
  {
   "cell_type": "code",
   "execution_count": 36,
   "id": "fe283586-c348-40e0-8841-f6d97bfb021c",
   "metadata": {
    "execution": {
     "iopub.execute_input": "2022-11-29T23:08:42.723407Z",
     "iopub.status.busy": "2022-11-29T23:08:42.722870Z",
     "iopub.status.idle": "2022-11-29T23:08:42.748446Z",
     "shell.execute_reply": "2022-11-29T23:08:42.747901Z"
    },
    "papermill": {
     "duration": 0.10402,
     "end_time": "2022-11-29T23:08:42.749305",
     "exception": false,
     "start_time": "2022-11-29T23:08:42.645285",
     "status": "completed"
    },
    "tags": []
   },
   "outputs": [
    {
     "data": {
      "text/plain": [
       "count    1953.000000\n",
       "mean        0.044892\n",
       "std         0.176975\n",
       "min         0.000581\n",
       "25%         0.005869\n",
       "50%         0.008011\n",
       "75%         0.010807\n",
       "max         1.000000\n",
       "dtype: float64"
      ]
     },
     "execution_count": 36,
     "metadata": {},
     "output_type": "execute_result"
    }
   ],
   "source": [
    "gene_corrs_flat.describe()"
   ]
  },
  {
   "cell_type": "code",
   "execution_count": 37,
   "id": "b3815678-0f93-4b35-897b-a9d047a2aa78",
   "metadata": {
    "execution": {
     "iopub.execute_input": "2022-11-29T23:08:42.904161Z",
     "iopub.status.busy": "2022-11-29T23:08:42.903594Z",
     "iopub.status.idle": "2022-11-29T23:08:42.929069Z",
     "shell.execute_reply": "2022-11-29T23:08:42.928539Z"
    },
    "papermill": {
     "duration": 0.104133,
     "end_time": "2022-11-29T23:08:42.929909",
     "exception": false,
     "start_time": "2022-11-29T23:08:42.825776",
     "status": "completed"
    },
    "tags": []
   },
   "outputs": [
    {
     "data": {
      "text/plain": [
       "0.00    0.000581\n",
       "0.05    0.003245\n",
       "0.10    0.004193\n",
       "0.15    0.004799\n",
       "0.20    0.005304\n",
       "0.25    0.005869\n",
       "0.30    0.006372\n",
       "0.35    0.006732\n",
       "0.40    0.007202\n",
       "0.45    0.007575\n",
       "0.50    0.008011\n",
       "0.55    0.008413\n",
       "0.60    0.008797\n",
       "0.65    0.009341\n",
       "0.70    0.009968\n",
       "0.75    0.010807\n",
       "0.80    0.011704\n",
       "0.85    0.012970\n",
       "0.90    0.015382\n",
       "0.95    0.106134\n",
       "dtype: float64"
      ]
     },
     "metadata": {},
     "output_type": "display_data"
    }
   ],
   "source": [
    "gene_corrs_quantiles = gene_corrs_flat.quantile(np.arange(0, 1, 0.05))\n",
    "display(gene_corrs_quantiles)"
   ]
  },
  {
   "cell_type": "markdown",
   "id": "87134509-b145-4a10-8bc9-b7e914c2b0fa",
   "metadata": {
    "papermill": {
     "duration": 0.076707,
     "end_time": "2022-11-29T23:08:43.083414",
     "exception": false,
     "start_time": "2022-11-29T23:08:43.006707",
     "status": "completed"
    },
    "tags": []
   },
   "source": [
    "## Positive definiteness"
   ]
  },
  {
   "cell_type": "code",
   "execution_count": 38,
   "id": "07d9a9a1-a4f7-48aa-b916-6d42a8cc6186",
   "metadata": {
    "execution": {
     "iopub.execute_input": "2022-11-29T23:08:43.238829Z",
     "iopub.status.busy": "2022-11-29T23:08:43.238237Z",
     "iopub.status.idle": "2022-11-29T23:08:43.265268Z",
     "shell.execute_reply": "2022-11-29T23:08:43.264606Z"
    },
    "papermill": {
     "duration": 0.105813,
     "end_time": "2022-11-29T23:08:43.266179",
     "exception": false,
     "start_time": "2022-11-29T23:08:43.160366",
     "status": "completed"
    },
    "tags": []
   },
   "outputs": [
    {
     "data": {
      "text/plain": [
       "0"
      ]
     },
     "metadata": {},
     "output_type": "display_data"
    },
    {
     "data": {
      "text/plain": [
       "array([], dtype=float64)"
      ]
     },
     "metadata": {},
     "output_type": "display_data"
    }
   ],
   "source": [
    "# print negative eigenvalues\n",
    "eigs = np.linalg.eigvals(gene_corrs_df.to_numpy())\n",
    "display(len(eigs[eigs < 0]))\n",
    "display(eigs[eigs < 0])"
   ]
  },
  {
   "cell_type": "code",
   "execution_count": 39,
   "id": "6e218436-c3c5-4028-8c94-a4fa6260efce",
   "metadata": {
    "execution": {
     "iopub.execute_input": "2022-11-29T23:08:43.421588Z",
     "iopub.status.busy": "2022-11-29T23:08:43.421221Z",
     "iopub.status.idle": "2022-11-29T23:08:43.444115Z",
     "shell.execute_reply": "2022-11-29T23:08:43.443572Z"
    },
    "papermill": {
     "duration": 0.101424,
     "end_time": "2022-11-29T23:08:43.444966",
     "exception": false,
     "start_time": "2022-11-29T23:08:43.343542",
     "status": "completed"
    },
    "tags": []
   },
   "outputs": [
    {
     "name": "stdout",
     "output_type": "stream",
     "text": [
      "Works!\n"
     ]
    }
   ],
   "source": [
    "try:\n",
    "    chol_mat = np.linalg.cholesky(gene_corrs_df.to_numpy())\n",
    "    cov_inv = np.linalg.inv(chol_mat)\n",
    "    print(\"Works!\")\n",
    "except Exception as e:\n",
    "    print(f\"Cholesky decomposition failed: {str(e)}\")"
   ]
  },
  {
   "cell_type": "code",
   "execution_count": 40,
   "id": "dd8827fb-faf9-4c7c-9454-015e94752706",
   "metadata": {
    "execution": {
     "iopub.execute_input": "2022-11-29T23:08:43.627585Z",
     "iopub.status.busy": "2022-11-29T23:08:43.627010Z",
     "iopub.status.idle": "2022-11-29T23:08:43.649896Z",
     "shell.execute_reply": "2022-11-29T23:08:43.649352Z"
    },
    "papermill": {
     "duration": 0.103131,
     "end_time": "2022-11-29T23:08:43.650768",
     "exception": false,
     "start_time": "2022-11-29T23:08:43.547637",
     "status": "completed"
    },
    "tags": []
   },
   "outputs": [
    {
     "name": "stdout",
     "output_type": "stream",
     "text": [
      "Works!\n"
     ]
    }
   ],
   "source": [
    "try:\n",
    "    # decomposition used by statsmodels.GLS\n",
    "    cholsigmainv = np.linalg.cholesky(np.linalg.inv(gene_corrs_df.to_numpy())).T\n",
    "    print(\"Works!\")\n",
    "except Exception as e:\n",
    "    print(f\"Cholesky decomposition failed (statsmodels.GLS): {str(e)}\")"
   ]
  },
  {
   "cell_type": "markdown",
   "id": "8e60a080-edb2-4e9c-b2ef-22961693200c",
   "metadata": {
    "papermill": {
     "duration": 0.076941,
     "end_time": "2022-11-29T23:08:43.804615",
     "exception": false,
     "start_time": "2022-11-29T23:08:43.727674",
     "status": "completed"
    },
    "tags": []
   },
   "source": [
    "## Plot: distribution"
   ]
  },
  {
   "cell_type": "code",
   "execution_count": 41,
   "id": "8301126b-a7d4-4744-9c7d-f0f86eb6f54c",
   "metadata": {
    "execution": {
     "iopub.execute_input": "2022-11-29T23:08:43.960311Z",
     "iopub.status.busy": "2022-11-29T23:08:43.959940Z",
     "iopub.status.idle": "2022-11-29T23:08:45.516151Z",
     "shell.execute_reply": "2022-11-29T23:08:45.515777Z"
    },
    "papermill": {
     "duration": 1.635605,
     "end_time": "2022-11-29T23:08:45.517397",
     "exception": false,
     "start_time": "2022-11-29T23:08:43.881792",
     "status": "completed"
    },
    "tags": []
   },
   "outputs": [
    {
     "data": {
      "image/png": "[encoded data removed]",
      "text/plain": [
       "<Figure size 700x700 with 1 Axes>"
      ]
     },
     "metadata": {},
     "output_type": "display_data"
    }
   ],
   "source": [
    "with sns.plotting_context(\"paper\", font_scale=1.5):\n",
    "    g = sns.displot(gene_corrs_flat, kde=True, height=7)\n",
    "    g.ax.set_title(\n",
    "        f\"Distribution of gene correlation values in chromosome {CHROMOSOME}\"\n",
    "    )"
   ]
  },
  {
   "cell_type": "markdown",
   "id": "cbd52bca-d878-4a2f-b684-5c83aa3038d4",
   "metadata": {
    "papermill": {
     "duration": 0.07949,
     "end_time": "2022-11-29T23:08:45.676249",
     "exception": false,
     "start_time": "2022-11-29T23:08:45.596759",
     "status": "completed"
    },
    "tags": []
   },
   "source": [
    "## Plot: heatmap"
   ]
  },
  {
   "cell_type": "code",
   "execution_count": 42,
   "id": "d03fe63a-c7b2-4fb9-a53c-db362ce843c9",
   "metadata": {
    "execution": {
     "iopub.execute_input": "2022-11-29T23:08:45.833515Z",
     "iopub.status.busy": "2022-11-29T23:08:45.833171Z",
     "iopub.status.idle": "2022-11-29T23:08:45.852796Z",
     "shell.execute_reply": "2022-11-29T23:08:45.852274Z"
    },
    "papermill": {
     "duration": 0.098774,
     "end_time": "2022-11-29T23:08:45.853645",
     "exception": false,
     "start_time": "2022-11-29T23:08:45.754871",
     "status": "completed"
    },
    "tags": []
   },
   "outputs": [
    {
     "data": {
      "text/plain": [
       "'0.0 / 0.05'"
      ]
     },
     "metadata": {},
     "output_type": "display_data"
    }
   ],
   "source": [
    "vmin_val = min(0.00, gene_corrs_quantiles[0.10])\n",
    "vmax_val = max(0.05, gene_corrs_quantiles[0.90])\n",
    "display(f\"{vmin_val} / {vmax_val}\")"
   ]
  },
  {
   "cell_type": "code",
   "execution_count": 43,
   "id": "dc41b70b-5bcc-4d9e-9f33-a22c4a94dab5",
   "metadata": {
    "execution": {
     "iopub.execute_input": "2022-11-29T23:08:46.034940Z",
     "iopub.status.busy": "2022-11-29T23:08:46.034599Z",
     "iopub.status.idle": "2022-11-29T23:08:46.191919Z",
     "shell.execute_reply": "2022-11-29T23:08:46.191403Z"
    },
    "papermill": {
     "duration": 0.23597,
     "end_time": "2022-11-29T23:08:46.192740",
     "exception": false,
     "start_time": "2022-11-29T23:08:45.956770",
     "status": "completed"
    },
    "tags": []
   },
   "outputs": [
    {
     "data": {
      "text/plain": [
       "Text(0.5, 1.0, 'Gene correlations in chromosome 21')"
      ]
     },
     "execution_count": 43,
     "metadata": {},
     "output_type": "execute_result"
    },
    {
     "data": {
      "image/png": "[encoded data removed]",
      "text/plain": [
       "<Figure size 1000x1000 with 2 Axes>"
      ]
     },
     "metadata": {},
     "output_type": "display_data"
    }
   ],
   "source": [
    "f, ax = plt.subplots(figsize=(10, 10))\n",
    "sns.heatmap(\n",
    "    gene_corrs_df,\n",
    "    xticklabels=False,\n",
    "    yticklabels=False,\n",
    "    square=True,\n",
    "    vmin=vmin_val,\n",
    "    vmax=vmax_val,\n",
    "    cmap=\"rocket_r\",\n",
    "    ax=ax,\n",
    ")\n",
    "ax.set_title(f\"Gene correlations in chromosome {CHROMOSOME}\")"
   ]
  },
  {
   "cell_type": "code",
   "execution_count": null,
   "id": "b25e3ead",
   "metadata": {
    "papermill": {
     "duration": 0.078184,
     "end_time": "2022-11-29T23:08:46.348991",
     "exception": false,
     "start_time": "2022-11-29T23:08:46.270807",
     "status": "completed"
    },
    "tags": []
   },
   "outputs": [],
   "source": []
  }
 ],
 "metadata": {
  "jupytext": {
   "cell_metadata_filter": "all,-execution,-papermill,-trusted",
   "formats": "ipynb,py//py:percent"
  },
  "kernelspec": {
   "display_name": "Python 3 (ipykernel)",
   "language": "python",
   "name": "python3"
  },
  "language_info": {
   "codemirror_mode": {
    "name": "ipython",
    "version": 3
   },
   "file_extension": ".py",
   "mimetype": "text/x-python",
   "name": "python",
   "nbconvert_exporter": "python",
   "pygments_lexer": "ipython3",
   "version": "3.10.6"
  },
  "papermill": {
   "default_parameters": {},
   "duration": 109.331743,
   "end_time": "2022-11-29T23:08:49.641353",
   "environment_variables": {},
   "exception": null,
   "input_path": "projects/asthma-copd/nbs/20_gene_corrs/10-gene_expr_correlations.ipynb",
   "output_path": "projects/asthma-copd/nbs/20_gene_corrs/gene_corrs/asthma_only/10-gene_expr_correlations-chr21.run.ipynb",
   "parameters": {
    "CHROMOSOME": 21,
    "COHORT_NAME": "asthma_only",
    "OUTPUT_DIR_BASE": "/opt/data/projects/asthma-copd/results/gls_phenoplier"
   },
   "start_time": "2022-11-29T23:07:00.309610",
   "version": "2.2.2"
  }
 },
 "nbformat": 4,
 "nbformat_minor": 5
}
