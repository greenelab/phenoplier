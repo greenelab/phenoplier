{
 "cells": [
  {
   "cell_type": "markdown",
   "id": "7a6632fb",
   "metadata": {
    "papermill": {
     "duration": 0.008555,
     "end_time": "2022-11-29T22:22:31.889529",
     "exception": false,
     "start_time": "2022-11-29T22:22:31.880974",
     "status": "completed"
    },
    "tags": []
   },
   "source": [
    "# Description"
   ]
  },
  {
   "cell_type": "markdown",
   "id": "7097c346",
   "metadata": {
    "papermill": {
     "duration": 0.007744,
     "end_time": "2022-11-29T22:22:31.905395",
     "exception": false,
     "start_time": "2022-11-29T22:22:31.897651",
     "status": "completed"
    },
    "tags": []
   },
   "source": [
    "(Please, take a look at the README.md file in this directory for instructions on how to run this notebook)\n",
    "\n",
    "This notebook computes predicted expression correlations between all genes in the MultiPLIER models.\n",
    "\n",
    "It has specicfic parameters for papermill (see under `Settings` below).\n",
    "It can be configured to run on a single chromosome to run in parallel.\n",
    "\n",
    "This notebook is not directly run. See README.md."
   ]
  },
  {
   "cell_type": "markdown",
   "id": "c61d8427",
   "metadata": {
    "papermill": {
     "duration": 0.007715,
     "end_time": "2022-11-29T22:22:31.920906",
     "exception": false,
     "start_time": "2022-11-29T22:22:31.913191",
     "status": "completed"
    },
    "tags": []
   },
   "source": [
    "# Modules"
   ]
  },
  {
   "cell_type": "code",
   "execution_count": 1,
   "id": "bbc0234f",
   "metadata": {
    "execution": {
     "iopub.execute_input": "2022-11-29T22:22:31.939081Z",
     "iopub.status.busy": "2022-11-29T22:22:31.938532Z",
     "iopub.status.idle": "2022-11-29T22:22:31.957231Z",
     "shell.execute_reply": "2022-11-29T22:22:31.956677Z"
    },
    "papermill": {
     "duration": 0.029382,
     "end_time": "2022-11-29T22:22:31.958790",
     "exception": false,
     "start_time": "2022-11-29T22:22:31.929408",
     "status": "completed"
    },
    "tags": []
   },
   "outputs": [],
   "source": [
    "%load_ext autoreload\n",
    "%autoreload 2"
   ]
  },
  {
   "cell_type": "code",
   "execution_count": 2,
   "id": "1d5f5a59",
   "metadata": {
    "execution": {
     "iopub.execute_input": "2022-11-29T22:22:31.975750Z",
     "iopub.status.busy": "2022-11-29T22:22:31.975340Z",
     "iopub.status.idle": "2022-11-29T22:22:32.657239Z",
     "shell.execute_reply": "2022-11-29T22:22:32.656795Z"
    },
    "papermill": {
     "duration": 0.692093,
     "end_time": "2022-11-29T22:22:32.658920",
     "exception": false,
     "start_time": "2022-11-29T22:22:31.966827",
     "status": "completed"
    },
    "tags": []
   },
   "outputs": [],
   "source": [
    "from random import sample, seed\n",
    "import warnings\n",
    "from pathlib import Path\n",
    "import pickle\n",
    "import traceback\n",
    "\n",
    "import numpy as np\n",
    "from scipy.spatial.distance import squareform\n",
    "import pandas as pd\n",
    "from tqdm import tqdm\n",
    "import matplotlib.pyplot as plt\n",
    "import seaborn as sns\n",
    "\n",
    "import conf\n",
    "from entity import Gene"
   ]
  },
  {
   "cell_type": "markdown",
   "id": "1eac24b5",
   "metadata": {
    "papermill": {
     "duration": 0.008254,
     "end_time": "2022-11-29T22:22:32.675790",
     "exception": false,
     "start_time": "2022-11-29T22:22:32.667536",
     "status": "completed"
    },
    "tags": []
   },
   "source": [
    "# Settings"
   ]
  },
  {
   "cell_type": "code",
   "execution_count": 3,
   "id": "ca4560ba",
   "metadata": {
    "execution": {
     "iopub.execute_input": "2022-11-29T22:22:32.693352Z",
     "iopub.status.busy": "2022-11-29T22:22:32.693226Z",
     "iopub.status.idle": "2022-11-29T22:22:32.712982Z",
     "shell.execute_reply": "2022-11-29T22:22:32.712489Z"
    },
    "papermill": {
     "duration": 0.030618,
     "end_time": "2022-11-29T22:22:32.714677",
     "exception": false,
     "start_time": "2022-11-29T22:22:32.684059",
     "status": "completed"
    },
    "tags": [
     "parameters"
    ]
   },
   "outputs": [],
   "source": [
    "# a cohort name (it could be something like UK_BIOBANK, etc)\n",
    "COHORT_NAME = None\n",
    "\n",
    "# reference panel such as 1000G or GTEX_V8\n",
    "REFERENCE_PANEL = \"GTEX_V8\"\n",
    "\n",
    "# predictions models such as MASHR or ELASTIC_NET\n",
    "EQTL_MODEL = \"MASHR\"\n",
    "\n",
    "# this is the default value used in S-MultiXcan to select the\n",
    "# top principal components of the expression correlation matrix\n",
    "SMULTIXCAN_CONDITION_NUMBER = 30\n",
    "\n",
    "# specifies a single chromosome value\n",
    "CHROMOSOME = None\n",
    "\n",
    "# If True, computes the correlation between closeby genes only;\n",
    "# otherwise, it computes correlations for all genes in a chromosome\n",
    "COMPUTE_CORRELATIONS_WITHIN_DISTANCE = False\n",
    "\n",
    "# if True, then it will continue if a gene pair correlation fails,\n",
    "# printing the warning/error for debugging. If False, any warning/error\n",
    "# will be thrown\n",
    "DEBUG_MODE = False\n",
    "\n",
    "# output dir\n",
    "OUTPUT_DIR_BASE = None"
   ]
  },
  {
   "cell_type": "code",
   "execution_count": 4,
   "id": "fb6fde97",
   "metadata": {
    "execution": {
     "iopub.execute_input": "2022-11-29T22:22:32.734364Z",
     "iopub.status.busy": "2022-11-29T22:22:32.734137Z",
     "iopub.status.idle": "2022-11-29T22:22:32.760696Z",
     "shell.execute_reply": "2022-11-29T22:22:32.760029Z"
    },
    "papermill": {
     "duration": 0.038336,
     "end_time": "2022-11-29T22:22:32.762539",
     "exception": false,
     "start_time": "2022-11-29T22:22:32.724203",
     "status": "completed"
    },
    "tags": [
     "injected-parameters"
    ]
   },
   "outputs": [],
   "source": [
    "# Parameters\n",
    "COHORT_NAME = \"asthma_only\"\n",
    "CHROMOSOME = 10\n",
    "OUTPUT_DIR_BASE = \"/opt/data/projects/asthma-copd/results/gls_phenoplier\"\n"
   ]
  },
  {
   "cell_type": "code",
   "execution_count": 5,
   "id": "3190631f-27fc-480f-b18e-571d580425a5",
   "metadata": {
    "execution": {
     "iopub.execute_input": "2022-11-29T22:22:32.782425Z",
     "iopub.status.busy": "2022-11-29T22:22:32.782088Z",
     "iopub.status.idle": "2022-11-29T22:22:32.808700Z",
     "shell.execute_reply": "2022-11-29T22:22:32.807990Z"
    },
    "papermill": {
     "duration": 0.038108,
     "end_time": "2022-11-29T22:22:32.810374",
     "exception": false,
     "start_time": "2022-11-29T22:22:32.772266",
     "status": "completed"
    },
    "tags": []
   },
   "outputs": [
    {
     "data": {
      "text/plain": [
       "'Cohort name: asthma_only'"
      ]
     },
     "metadata": {},
     "output_type": "display_data"
    }
   ],
   "source": [
    "assert COHORT_NAME is not None and len(COHORT_NAME) > 0, \"A cohort name must be given\"\n",
    "\n",
    "COHORT_NAME = COHORT_NAME.lower()\n",
    "display(f\"Cohort name: {COHORT_NAME}\")"
   ]
  },
  {
   "cell_type": "code",
   "execution_count": 6,
   "id": "f53ba19b-0f93-4fa2-a047-63b375939d1a",
   "metadata": {
    "execution": {
     "iopub.execute_input": "2022-11-29T22:22:32.828521Z",
     "iopub.status.busy": "2022-11-29T22:22:32.828243Z",
     "iopub.status.idle": "2022-11-29T22:22:32.852251Z",
     "shell.execute_reply": "2022-11-29T22:22:32.851697Z"
    },
    "papermill": {
     "duration": 0.034188,
     "end_time": "2022-11-29T22:22:32.853669",
     "exception": false,
     "start_time": "2022-11-29T22:22:32.819481",
     "status": "completed"
    },
    "tags": []
   },
   "outputs": [
    {
     "data": {
      "text/plain": [
       "'Reference panel: GTEX_V8'"
      ]
     },
     "metadata": {},
     "output_type": "display_data"
    }
   ],
   "source": [
    "assert (\n",
    "    REFERENCE_PANEL is not None and len(REFERENCE_PANEL) > 0\n",
    "), \"A reference panel must be given\"\n",
    "\n",
    "display(f\"Reference panel: {REFERENCE_PANEL}\")"
   ]
  },
  {
   "cell_type": "code",
   "execution_count": 7,
   "id": "e024d130-c139-429a-9c6e-ccf149e297b0",
   "metadata": {
    "execution": {
     "iopub.execute_input": "2022-11-29T22:22:32.871339Z",
     "iopub.status.busy": "2022-11-29T22:22:32.870873Z",
     "iopub.status.idle": "2022-11-29T22:22:32.896023Z",
     "shell.execute_reply": "2022-11-29T22:22:32.895475Z"
    },
    "papermill": {
     "duration": 0.035605,
     "end_time": "2022-11-29T22:22:32.897598",
     "exception": false,
     "start_time": "2022-11-29T22:22:32.861993",
     "status": "completed"
    },
    "tags": []
   },
   "outputs": [
    {
     "data": {
      "text/plain": [
       "'eQTL model: MASHR) / mashr_'"
      ]
     },
     "metadata": {},
     "output_type": "display_data"
    }
   ],
   "source": [
    "assert (\n",
    "    EQTL_MODEL is not None and len(EQTL_MODEL) > 0\n",
    "), \"A prediction/eQTL model must be given\"\n",
    "\n",
    "EQTL_MODEL_FILES_PREFIX = conf.PHENOMEXCAN[\"PREDICTION_MODELS\"][f\"{EQTL_MODEL}_PREFIX\"]\n",
    "display(f\"eQTL model: {EQTL_MODEL}) / {EQTL_MODEL_FILES_PREFIX}\")"
   ]
  },
  {
   "cell_type": "code",
   "execution_count": 8,
   "id": "552a7f63-a18c-4d3e-bb6a-94f99b431291",
   "metadata": {
    "execution": {
     "iopub.execute_input": "2022-11-29T22:22:32.915495Z",
     "iopub.status.busy": "2022-11-29T22:22:32.915127Z",
     "iopub.status.idle": "2022-11-29T22:22:32.942878Z",
     "shell.execute_reply": "2022-11-29T22:22:32.942359Z"
    },
    "papermill": {
     "duration": 0.037868,
     "end_time": "2022-11-29T22:22:32.944104",
     "exception": false,
     "start_time": "2022-11-29T22:22:32.906236",
     "status": "completed"
    },
    "tags": []
   },
   "outputs": [
    {
     "data": {
      "text/plain": [
       "'S-MultiXcan condition number: 30'"
      ]
     },
     "metadata": {},
     "output_type": "display_data"
    }
   ],
   "source": [
    "assert (\n",
    "    SMULTIXCAN_CONDITION_NUMBER is not None and SMULTIXCAN_CONDITION_NUMBER > 0\n",
    "), \"The S-MultiXcan condition number (positive integer) must be given\"\n",
    "\n",
    "display(f\"S-MultiXcan condition number: {SMULTIXCAN_CONDITION_NUMBER}\")"
   ]
  },
  {
   "cell_type": "code",
   "execution_count": 9,
   "id": "f34a336f-548e-4afe-8955-90eaea4f42c6",
   "metadata": {
    "execution": {
     "iopub.execute_input": "2022-11-29T22:22:32.958683Z",
     "iopub.status.busy": "2022-11-29T22:22:32.958272Z",
     "iopub.status.idle": "2022-11-29T22:22:32.985673Z",
     "shell.execute_reply": "2022-11-29T22:22:32.985161Z"
    },
    "papermill": {
     "duration": 0.035944,
     "end_time": "2022-11-29T22:22:32.986895",
     "exception": false,
     "start_time": "2022-11-29T22:22:32.950951",
     "status": "completed"
    },
    "tags": []
   },
   "outputs": [
    {
     "data": {
      "text/plain": [
       "'Working on chromosome 10'"
      ]
     },
     "metadata": {},
     "output_type": "display_data"
    }
   ],
   "source": [
    "assert CHROMOSOME is not None and (\n",
    "    1 <= CHROMOSOME <= 22\n",
    "), \"You have to select one chromosome (format: number between 1 and 22)\"\n",
    "\n",
    "# CHROMOSOME = str(CHROMOSOME)\n",
    "display(f\"Working on chromosome {CHROMOSOME}\")"
   ]
  },
  {
   "cell_type": "code",
   "execution_count": 10,
   "id": "ab8e96e8-06b5-4363-9dcd-dc4d78cc27f7",
   "metadata": {
    "execution": {
     "iopub.execute_input": "2022-11-29T22:22:33.001544Z",
     "iopub.status.busy": "2022-11-29T22:22:33.001305Z",
     "iopub.status.idle": "2022-11-29T22:22:33.027378Z",
     "shell.execute_reply": "2022-11-29T22:22:33.026860Z"
    },
    "papermill": {
     "duration": 0.034902,
     "end_time": "2022-11-29T22:22:33.028626",
     "exception": false,
     "start_time": "2022-11-29T22:22:32.993724",
     "status": "completed"
    },
    "tags": []
   },
   "outputs": [
    {
     "data": {
      "text/plain": [
       "'Compute correlation within distance False'"
      ]
     },
     "metadata": {},
     "output_type": "display_data"
    }
   ],
   "source": [
    "display(f\"Compute correlation within distance {COMPUTE_CORRELATIONS_WITHIN_DISTANCE}\")"
   ]
  },
  {
   "cell_type": "code",
   "execution_count": 11,
   "id": "b393b698-77e3-4ba2-8ac1-e14d51aa988f",
   "metadata": {
    "execution": {
     "iopub.execute_input": "2022-11-29T22:22:33.043478Z",
     "iopub.status.busy": "2022-11-29T22:22:33.043105Z",
     "iopub.status.idle": "2022-11-29T22:22:33.069839Z",
     "shell.execute_reply": "2022-11-29T22:22:33.069285Z"
    },
    "papermill": {
     "duration": 0.035503,
     "end_time": "2022-11-29T22:22:33.071109",
     "exception": false,
     "start_time": "2022-11-29T22:22:33.035606",
     "status": "completed"
    },
    "tags": []
   },
   "outputs": [
    {
     "data": {
      "text/plain": [
       "'Using output dir base: /opt/data/projects/asthma-copd/results/gls_phenoplier/gene_corrs/asthma_only'"
      ]
     },
     "metadata": {},
     "output_type": "display_data"
    }
   ],
   "source": [
    "assert (\n",
    "    OUTPUT_DIR_BASE is not None and len(OUTPUT_DIR_BASE) > 0\n",
    "), \"Output directory path must be given\"\n",
    "\n",
    "OUTPUT_DIR_BASE = (\n",
    "    Path(OUTPUT_DIR_BASE)\n",
    "    / \"gene_corrs\"\n",
    "    / COHORT_NAME\n",
    "    # / REFERENCE_PANEL.lower()\n",
    "    # / EQTL_MODEL.lower()\n",
    ").resolve()\n",
    "\n",
    "OUTPUT_DIR_BASE.mkdir(parents=True, exist_ok=True)\n",
    "\n",
    "display(f\"Using output dir base: {OUTPUT_DIR_BASE}\")"
   ]
  },
  {
   "cell_type": "markdown",
   "id": "d2ba085e",
   "metadata": {
    "papermill": {
     "duration": 0.006834,
     "end_time": "2022-11-29T22:22:33.085789",
     "exception": false,
     "start_time": "2022-11-29T22:22:33.078955",
     "status": "completed"
    },
    "tags": []
   },
   "source": [
    "# Load data"
   ]
  },
  {
   "cell_type": "markdown",
   "id": "7dcb8db7",
   "metadata": {
    "papermill": {
     "duration": 0.00677,
     "end_time": "2022-11-29T22:22:33.099426",
     "exception": false,
     "start_time": "2022-11-29T22:22:33.092656",
     "status": "completed"
    },
    "tags": []
   },
   "source": [
    "## GWAS variants"
   ]
  },
  {
   "cell_type": "code",
   "execution_count": 12,
   "id": "29434c4e-8cd3-4b9b-82e4-b5a251d9dd19",
   "metadata": {
    "execution": {
     "iopub.execute_input": "2022-11-29T22:22:33.114416Z",
     "iopub.status.busy": "2022-11-29T22:22:33.114159Z",
     "iopub.status.idle": "2022-11-29T22:22:35.375459Z",
     "shell.execute_reply": "2022-11-29T22:22:35.374927Z"
    },
    "papermill": {
     "duration": 2.271017,
     "end_time": "2022-11-29T22:22:35.377514",
     "exception": false,
     "start_time": "2022-11-29T22:22:33.106497",
     "status": "completed"
    },
    "tags": []
   },
   "outputs": [],
   "source": [
    "with open(OUTPUT_DIR_BASE / \"gwas_variant_ids.pkl\", \"rb\") as handle:\n",
    "    gwas_variants_ids_set = pickle.load(handle)"
   ]
  },
  {
   "cell_type": "code",
   "execution_count": 13,
   "id": "b9d9dec2-4a76-4bf9-bde2-e24c95acb8a0",
   "metadata": {
    "execution": {
     "iopub.execute_input": "2022-11-29T22:22:35.398044Z",
     "iopub.status.busy": "2022-11-29T22:22:35.397840Z",
     "iopub.status.idle": "2022-11-29T22:22:35.413086Z",
     "shell.execute_reply": "2022-11-29T22:22:35.412729Z"
    },
    "papermill": {
     "duration": 0.026511,
     "end_time": "2022-11-29T22:22:35.414416",
     "exception": false,
     "start_time": "2022-11-29T22:22:35.387905",
     "status": "completed"
    },
    "tags": []
   },
   "outputs": [
    {
     "data": {
      "text/plain": [
       "8578486"
      ]
     },
     "execution_count": 13,
     "metadata": {},
     "output_type": "execute_result"
    }
   ],
   "source": [
    "len(gwas_variants_ids_set)"
   ]
  },
  {
   "cell_type": "code",
   "execution_count": 14,
   "id": "4235b06a-6034-4ee4-a0a3-2ae35d122418",
   "metadata": {
    "execution": {
     "iopub.execute_input": "2022-11-29T22:22:35.434820Z",
     "iopub.status.busy": "2022-11-29T22:22:35.434451Z",
     "iopub.status.idle": "2022-11-29T22:22:35.950888Z",
     "shell.execute_reply": "2022-11-29T22:22:35.950399Z"
    },
    "papermill": {
     "duration": 0.5288,
     "end_time": "2022-11-29T22:22:35.952599",
     "exception": false,
     "start_time": "2022-11-29T22:22:35.423799",
     "status": "completed"
    },
    "tags": []
   },
   "outputs": [
    {
     "data": {
      "text/plain": [
       "['chr16_1499007_G_A_b38',\n",
       " 'chr9_120350539_G_A_b38',\n",
       " 'chr19_35702478_G_T_b38',\n",
       " 'chr12_127754512_C_A_b38',\n",
       " 'chr4_113836526_A_G_b38']"
      ]
     },
     "execution_count": 14,
     "metadata": {},
     "output_type": "execute_result"
    }
   ],
   "source": [
    "list(gwas_variants_ids_set)[:5]"
   ]
  },
  {
   "cell_type": "markdown",
   "id": "07866999-2305-41f9-a144-e69c9122c212",
   "metadata": {
    "papermill": {
     "duration": 0.01017,
     "end_time": "2022-11-29T22:22:35.973403",
     "exception": false,
     "start_time": "2022-11-29T22:22:35.963233",
     "status": "completed"
    },
    "tags": []
   },
   "source": [
    "## S-PrediXcan tissue models"
   ]
  },
  {
   "cell_type": "code",
   "execution_count": 15,
   "id": "780611d9-77c8-405f-90a4-f271f7b09397",
   "metadata": {
    "execution": {
     "iopub.execute_input": "2022-11-29T22:22:35.996186Z",
     "iopub.status.busy": "2022-11-29T22:22:35.995883Z",
     "iopub.status.idle": "2022-11-29T22:22:36.815786Z",
     "shell.execute_reply": "2022-11-29T22:22:36.815345Z"
    },
    "papermill": {
     "duration": 0.833497,
     "end_time": "2022-11-29T22:22:36.817435",
     "exception": false,
     "start_time": "2022-11-29T22:22:35.983938",
     "status": "completed"
    },
    "tags": []
   },
   "outputs": [],
   "source": [
    "spredixcan_genes_models = pd.read_pickle(OUTPUT_DIR_BASE / \"gene_tissues.pkl\")"
   ]
  },
  {
   "cell_type": "code",
   "execution_count": 16,
   "id": "726dd1f6-9557-4225-91fa-b3b879ea96e1",
   "metadata": {
    "execution": {
     "iopub.execute_input": "2022-11-29T22:22:36.837780Z",
     "iopub.status.busy": "2022-11-29T22:22:36.837602Z",
     "iopub.status.idle": "2022-11-29T22:22:36.854008Z",
     "shell.execute_reply": "2022-11-29T22:22:36.853534Z"
    },
    "papermill": {
     "duration": 0.028125,
     "end_time": "2022-11-29T22:22:36.855434",
     "exception": false,
     "start_time": "2022-11-29T22:22:36.827309",
     "status": "completed"
    },
    "tags": []
   },
   "outputs": [
    {
     "data": {
      "text/plain": [
       "(6443, 5)"
      ]
     },
     "execution_count": 16,
     "metadata": {},
     "output_type": "execute_result"
    }
   ],
   "source": [
    "spredixcan_genes_models.shape"
   ]
  },
  {
   "cell_type": "code",
   "execution_count": 17,
   "id": "944a1b48-222c-4eb0-b252-b9de2cbca215",
   "metadata": {
    "execution": {
     "iopub.execute_input": "2022-11-29T22:22:36.875991Z",
     "iopub.status.busy": "2022-11-29T22:22:36.875762Z",
     "iopub.status.idle": "2022-11-29T22:22:36.893149Z",
     "shell.execute_reply": "2022-11-29T22:22:36.892596Z"
    },
    "papermill": {
     "duration": 0.029109,
     "end_time": "2022-11-29T22:22:36.894558",
     "exception": false,
     "start_time": "2022-11-29T22:22:36.865449",
     "status": "completed"
    },
    "tags": []
   },
   "outputs": [
    {
     "data": {
      "text/html": [
       "<div>\n",
       "<style scoped>\n",
       "    .dataframe tbody tr th:only-of-type {\n",
       "        vertical-align: middle;\n",
       "    }\n",
       "\n",
       "    .dataframe tbody tr th {\n",
       "        vertical-align: top;\n",
       "    }\n",
       "\n",
       "    .dataframe thead th {\n",
       "        text-align: right;\n",
       "    }\n",
       "</style>\n",
       "<table border=\"1\" class=\"dataframe\">\n",
       "  <thead>\n",
       "    <tr style=\"text-align: right;\">\n",
       "      <th></th>\n",
       "      <th>gene_name</th>\n",
       "      <th>tissue</th>\n",
       "      <th>n_tissues</th>\n",
       "      <th>n_snps_used_sum</th>\n",
       "      <th>n_snps_in_model_sum</th>\n",
       "    </tr>\n",
       "    <tr>\n",
       "      <th>gene_id</th>\n",
       "      <th></th>\n",
       "      <th></th>\n",
       "      <th></th>\n",
       "      <th></th>\n",
       "      <th></th>\n",
       "    </tr>\n",
       "  </thead>\n",
       "  <tbody>\n",
       "    <tr>\n",
       "      <th>ENSG00000000419</th>\n",
       "      <td>DPM1</td>\n",
       "      <td>(Brain_Hypothalamus, Brain_Substantia_nigra)</td>\n",
       "      <td>2</td>\n",
       "      <td>2</td>\n",
       "      <td>2</td>\n",
       "    </tr>\n",
       "    <tr>\n",
       "      <th>ENSG00000000938</th>\n",
       "      <td>FGR</td>\n",
       "      <td>(Esophagus_Muscularis, Nerve_Tibial, Cells_EBV...</td>\n",
       "      <td>36</td>\n",
       "      <td>40</td>\n",
       "      <td>40</td>\n",
       "    </tr>\n",
       "    <tr>\n",
       "      <th>ENSG00000000971</th>\n",
       "      <td>CFH</td>\n",
       "      <td>(Esophagus_Muscularis, Nerve_Tibial, Ovary, Ki...</td>\n",
       "      <td>34</td>\n",
       "      <td>44</td>\n",
       "      <td>44</td>\n",
       "    </tr>\n",
       "    <tr>\n",
       "      <th>ENSG00000001084</th>\n",
       "      <td>GCLC</td>\n",
       "      <td>(Nerve_Tibial, Cells_EBV-transformed_lymphocyt...</td>\n",
       "      <td>32</td>\n",
       "      <td>46</td>\n",
       "      <td>46</td>\n",
       "    </tr>\n",
       "    <tr>\n",
       "      <th>ENSG00000001167</th>\n",
       "      <td>NFYA</td>\n",
       "      <td>(Esophagus_Muscularis, Nerve_Tibial, Ovary, Ki...</td>\n",
       "      <td>40</td>\n",
       "      <td>47</td>\n",
       "      <td>48</td>\n",
       "    </tr>\n",
       "  </tbody>\n",
       "</table>\n",
       "</div>"
      ],
      "text/plain": [
       "                gene_name                                             tissue  \\\n",
       "gene_id                                                                        \n",
       "ENSG00000000419      DPM1       (Brain_Hypothalamus, Brain_Substantia_nigra)   \n",
       "ENSG00000000938       FGR  (Esophagus_Muscularis, Nerve_Tibial, Cells_EBV...   \n",
       "ENSG00000000971       CFH  (Esophagus_Muscularis, Nerve_Tibial, Ovary, Ki...   \n",
       "ENSG00000001084      GCLC  (Nerve_Tibial, Cells_EBV-transformed_lymphocyt...   \n",
       "ENSG00000001167      NFYA  (Esophagus_Muscularis, Nerve_Tibial, Ovary, Ki...   \n",
       "\n",
       "                 n_tissues  n_snps_used_sum  n_snps_in_model_sum  \n",
       "gene_id                                                           \n",
       "ENSG00000000419          2                2                    2  \n",
       "ENSG00000000938         36               40                   40  \n",
       "ENSG00000000971         34               44                   44  \n",
       "ENSG00000001084         32               46                   46  \n",
       "ENSG00000001167         40               47                   48  "
      ]
     },
     "execution_count": 17,
     "metadata": {},
     "output_type": "execute_result"
    }
   ],
   "source": [
    "spredixcan_genes_models.head()"
   ]
  },
  {
   "cell_type": "code",
   "execution_count": 18,
   "id": "d1c11bb1-be0b-4f40-b360-633d6827109f",
   "metadata": {
    "execution": {
     "iopub.execute_input": "2022-11-29T22:22:36.915550Z",
     "iopub.status.busy": "2022-11-29T22:22:36.915430Z",
     "iopub.status.idle": "2022-11-29T22:22:36.930657Z",
     "shell.execute_reply": "2022-11-29T22:22:36.930272Z"
    },
    "papermill": {
     "duration": 0.027152,
     "end_time": "2022-11-29T22:22:36.932108",
     "exception": false,
     "start_time": "2022-11-29T22:22:36.904956",
     "status": "completed"
    },
    "tags": []
   },
   "outputs": [],
   "source": [
    "assert spredixcan_genes_models.index.is_unique"
   ]
  },
  {
   "cell_type": "markdown",
   "id": "a5b5092c-a13e-47c4-a92a-480fcc08f3ae",
   "metadata": {
    "papermill": {
     "duration": 0.010021,
     "end_time": "2022-11-29T22:22:36.952431",
     "exception": false,
     "start_time": "2022-11-29T22:22:36.942410",
     "status": "completed"
    },
    "tags": []
   },
   "source": [
    "## Gene info"
   ]
  },
  {
   "cell_type": "code",
   "execution_count": 19,
   "id": "7d6bb224-88e9-4358-ac10-43a41d92cdad",
   "metadata": {
    "execution": {
     "iopub.execute_input": "2022-11-29T22:22:36.973679Z",
     "iopub.status.busy": "2022-11-29T22:22:36.973330Z",
     "iopub.status.idle": "2022-11-29T22:22:36.998896Z",
     "shell.execute_reply": "2022-11-29T22:22:36.998363Z"
    },
    "papermill": {
     "duration": 0.0381,
     "end_time": "2022-11-29T22:22:37.000572",
     "exception": false,
     "start_time": "2022-11-29T22:22:36.962472",
     "status": "completed"
    },
    "tags": []
   },
   "outputs": [],
   "source": [
    "genes_info = pd.read_pickle(OUTPUT_DIR_BASE / \"genes_info.pkl\")"
   ]
  },
  {
   "cell_type": "code",
   "execution_count": 20,
   "id": "9e32abfa-546d-483e-8c18-d526e9e05903",
   "metadata": {
    "execution": {
     "iopub.execute_input": "2022-11-29T22:22:37.020947Z",
     "iopub.status.busy": "2022-11-29T22:22:37.020735Z",
     "iopub.status.idle": "2022-11-29T22:22:37.045979Z",
     "shell.execute_reply": "2022-11-29T22:22:37.045426Z"
    },
    "papermill": {
     "duration": 0.036837,
     "end_time": "2022-11-29T22:22:37.047400",
     "exception": false,
     "start_time": "2022-11-29T22:22:37.010563",
     "status": "completed"
    },
    "tags": []
   },
   "outputs": [
    {
     "data": {
      "text/plain": [
       "(6443, 7)"
      ]
     },
     "execution_count": 20,
     "metadata": {},
     "output_type": "execute_result"
    }
   ],
   "source": [
    "genes_info.shape"
   ]
  },
  {
   "cell_type": "code",
   "execution_count": 21,
   "id": "d16c3e92-85ec-468a-9a56-e25a9774a1cb",
   "metadata": {
    "execution": {
     "iopub.execute_input": "2022-11-29T22:22:37.068299Z",
     "iopub.status.busy": "2022-11-29T22:22:37.067954Z",
     "iopub.status.idle": "2022-11-29T22:22:37.097551Z",
     "shell.execute_reply": "2022-11-29T22:22:37.096928Z"
    },
    "papermill": {
     "duration": 0.041636,
     "end_time": "2022-11-29T22:22:37.098991",
     "exception": false,
     "start_time": "2022-11-29T22:22:37.057355",
     "status": "completed"
    },
    "tags": []
   },
   "outputs": [
    {
     "data": {
      "text/html": [
       "<div>\n",
       "<style scoped>\n",
       "    .dataframe tbody tr th:only-of-type {\n",
       "        vertical-align: middle;\n",
       "    }\n",
       "\n",
       "    .dataframe tbody tr th {\n",
       "        vertical-align: top;\n",
       "    }\n",
       "\n",
       "    .dataframe thead th {\n",
       "        text-align: right;\n",
       "    }\n",
       "</style>\n",
       "<table border=\"1\" class=\"dataframe\">\n",
       "  <thead>\n",
       "    <tr style=\"text-align: right;\">\n",
       "      <th></th>\n",
       "      <th>name</th>\n",
       "      <th>id</th>\n",
       "      <th>chr</th>\n",
       "      <th>band</th>\n",
       "      <th>start_position</th>\n",
       "      <th>end_position</th>\n",
       "      <th>gene_length</th>\n",
       "    </tr>\n",
       "  </thead>\n",
       "  <tbody>\n",
       "    <tr>\n",
       "      <th>0</th>\n",
       "      <td>UBE4B</td>\n",
       "      <td>ENSG00000130939</td>\n",
       "      <td>1</td>\n",
       "      <td>1p36.22</td>\n",
       "      <td>10032832</td>\n",
       "      <td>10181239</td>\n",
       "      <td>148407</td>\n",
       "    </tr>\n",
       "    <tr>\n",
       "      <th>1</th>\n",
       "      <td>STX18</td>\n",
       "      <td>ENSG00000168818</td>\n",
       "      <td>4</td>\n",
       "      <td>4p16.2</td>\n",
       "      <td>4415742</td>\n",
       "      <td>4542346</td>\n",
       "      <td>126604</td>\n",
       "    </tr>\n",
       "    <tr>\n",
       "      <th>2</th>\n",
       "      <td>DNM2</td>\n",
       "      <td>ENSG00000079805</td>\n",
       "      <td>19</td>\n",
       "      <td>19p13.2</td>\n",
       "      <td>10718079</td>\n",
       "      <td>10833488</td>\n",
       "      <td>115409</td>\n",
       "    </tr>\n",
       "    <tr>\n",
       "      <th>3</th>\n",
       "      <td>PLD1</td>\n",
       "      <td>ENSG00000075651</td>\n",
       "      <td>3</td>\n",
       "      <td>3q26.31</td>\n",
       "      <td>171600404</td>\n",
       "      <td>171810950</td>\n",
       "      <td>210546</td>\n",
       "    </tr>\n",
       "    <tr>\n",
       "      <th>4</th>\n",
       "      <td>ANKRD55</td>\n",
       "      <td>ENSG00000164512</td>\n",
       "      <td>5</td>\n",
       "      <td>5q11.2</td>\n",
       "      <td>56099680</td>\n",
       "      <td>56233330</td>\n",
       "      <td>133650</td>\n",
       "    </tr>\n",
       "  </tbody>\n",
       "</table>\n",
       "</div>"
      ],
      "text/plain": [
       "      name               id  chr     band  start_position  end_position  \\\n",
       "0    UBE4B  ENSG00000130939    1  1p36.22        10032832      10181239   \n",
       "1    STX18  ENSG00000168818    4   4p16.2         4415742       4542346   \n",
       "2     DNM2  ENSG00000079805   19  19p13.2        10718079      10833488   \n",
       "3     PLD1  ENSG00000075651    3  3q26.31       171600404     171810950   \n",
       "4  ANKRD55  ENSG00000164512    5   5q11.2        56099680      56233330   \n",
       "\n",
       "   gene_length  \n",
       "0       148407  \n",
       "1       126604  \n",
       "2       115409  \n",
       "3       210546  \n",
       "4       133650  "
      ]
     },
     "execution_count": 21,
     "metadata": {},
     "output_type": "execute_result"
    }
   ],
   "source": [
    "genes_info.head()"
   ]
  },
  {
   "cell_type": "markdown",
   "id": "d3843e06",
   "metadata": {
    "papermill": {
     "duration": 0.009795,
     "end_time": "2022-11-29T22:22:37.119020",
     "exception": false,
     "start_time": "2022-11-29T22:22:37.109225",
     "status": "completed"
    },
    "tags": []
   },
   "source": [
    "# Compute correlations"
   ]
  },
  {
   "cell_type": "code",
   "execution_count": 22,
   "id": "cb859c15-d1f3-4006-a74c-2b83c0db9611",
   "metadata": {
    "execution": {
     "iopub.execute_input": "2022-11-29T22:22:37.140242Z",
     "iopub.status.busy": "2022-11-29T22:22:37.139799Z",
     "iopub.status.idle": "2022-11-29T22:22:37.165531Z",
     "shell.execute_reply": "2022-11-29T22:22:37.164978Z"
    },
    "papermill": {
     "duration": 0.038083,
     "end_time": "2022-11-29T22:22:37.166988",
     "exception": false,
     "start_time": "2022-11-29T22:22:37.128905",
     "status": "completed"
    },
    "tags": []
   },
   "outputs": [
    {
     "data": {
      "text/plain": [
       "PosixPath('/opt/data/projects/asthma-copd/results/gls_phenoplier/gene_corrs/asthma_only/by_chr/gene_corrs-chr10.pkl')"
      ]
     },
     "metadata": {},
     "output_type": "display_data"
    }
   ],
   "source": [
    "output_dir = OUTPUT_DIR_BASE / \"by_chr\"\n",
    "output_dir.mkdir(exist_ok=True, parents=True)\n",
    "output_file = output_dir / f\"gene_corrs-chr{CHROMOSOME}.pkl\"\n",
    "display(output_file)"
   ]
  },
  {
   "cell_type": "code",
   "execution_count": 23,
   "id": "aa674fe4-6794-4eed-98fa-32b39d1d4ace",
   "metadata": {
    "execution": {
     "iopub.execute_input": "2022-11-29T22:22:37.188473Z",
     "iopub.status.busy": "2022-11-29T22:22:37.188049Z",
     "iopub.status.idle": "2022-11-29T22:22:37.212102Z",
     "shell.execute_reply": "2022-11-29T22:22:37.211591Z"
    },
    "papermill": {
     "duration": 0.036352,
     "end_time": "2022-11-29T22:22:37.213665",
     "exception": false,
     "start_time": "2022-11-29T22:22:37.177313",
     "status": "completed"
    },
    "tags": []
   },
   "outputs": [],
   "source": [
    "warnings.filterwarnings(\"error\")"
   ]
  },
  {
   "cell_type": "code",
   "execution_count": 24,
   "id": "44d5450b-3baf-43f1-9e2e-4b06f1a785f8",
   "metadata": {
    "execution": {
     "iopub.execute_input": "2022-11-29T22:22:37.235096Z",
     "iopub.status.busy": "2022-11-29T22:22:37.234889Z",
     "iopub.status.idle": "2022-11-29T22:22:37.259048Z",
     "shell.execute_reply": "2022-11-29T22:22:37.258531Z"
    },
    "papermill": {
     "duration": 0.036591,
     "end_time": "2022-11-29T22:22:37.260690",
     "exception": false,
     "start_time": "2022-11-29T22:22:37.224099",
     "status": "completed"
    },
    "tags": []
   },
   "outputs": [],
   "source": [
    "# standard checks\n",
    "all_chrs = genes_info[\"chr\"].dropna().unique()\n",
    "assert all_chrs.shape[0] == 22\n",
    "\n",
    "# select chromosome given by the user\n",
    "assert CHROMOSOME in all_chrs"
   ]
  },
  {
   "cell_type": "code",
   "execution_count": 25,
   "id": "2d7c043c-92a7-4d35-991b-fa69ac1e0268",
   "metadata": {
    "execution": {
     "iopub.execute_input": "2022-11-29T22:22:37.283228Z",
     "iopub.status.busy": "2022-11-29T22:22:37.282716Z",
     "iopub.status.idle": "2022-11-29T22:22:37.307620Z",
     "shell.execute_reply": "2022-11-29T22:22:37.307049Z"
    },
    "papermill": {
     "duration": 0.037626,
     "end_time": "2022-11-29T22:22:37.309086",
     "exception": false,
     "start_time": "2022-11-29T22:22:37.271460",
     "status": "completed"
    },
    "tags": []
   },
   "outputs": [
    {
     "name": "stdout",
     "output_type": "stream",
     "text": [
      "Number of genes in chromosome: 245\n"
     ]
    }
   ],
   "source": [
    "# run only on the chromosome specified\n",
    "all_chrs = [CHROMOSOME]\n",
    "genes_chr = genes_info[genes_info[\"chr\"] == CHROMOSOME]\n",
    "\n",
    "# For testing purposes\n",
    "# genes_chr = genes_chr.sample(n=20)\n",
    "\n",
    "print(f\"Number of genes in chromosome: {genes_chr.shape[0]}\", flush=True)"
   ]
  },
  {
   "cell_type": "code",
   "execution_count": 26,
   "id": "916015d8-2979-46d3-a9b9-1cf5a0932c6a",
   "metadata": {
    "execution": {
     "iopub.execute_input": "2022-11-29T22:22:37.331022Z",
     "iopub.status.busy": "2022-11-29T22:22:37.330500Z",
     "iopub.status.idle": "2022-11-29T22:22:37.353165Z",
     "shell.execute_reply": "2022-11-29T22:22:37.352629Z"
    },
    "papermill": {
     "duration": 0.035247,
     "end_time": "2022-11-29T22:22:37.354780",
     "exception": false,
     "start_time": "2022-11-29T22:22:37.319533",
     "status": "completed"
    },
    "tags": []
   },
   "outputs": [],
   "source": [
    "# sort genes by starting position to make visualizations better later\n",
    "genes_chr = genes_chr.sort_values(\"start_position\")"
   ]
  },
  {
   "cell_type": "code",
   "execution_count": 27,
   "id": "a38aa74a-8ad3-47f6-8ef9-56be0e011774",
   "metadata": {
    "execution": {
     "iopub.execute_input": "2022-11-29T22:22:37.376969Z",
     "iopub.status.busy": "2022-11-29T22:22:37.376458Z",
     "iopub.status.idle": "2022-11-29T22:22:37.399195Z",
     "shell.execute_reply": "2022-11-29T22:22:37.398673Z"
    },
    "papermill": {
     "duration": 0.035417,
     "end_time": "2022-11-29T22:22:37.400827",
     "exception": false,
     "start_time": "2022-11-29T22:22:37.365410",
     "status": "completed"
    },
    "tags": []
   },
   "outputs": [],
   "source": [
    "gene_chr_objs = [Gene(ensembl_id=gene_id) for gene_id in genes_chr[\"id\"]]"
   ]
  },
  {
   "cell_type": "code",
   "execution_count": 28,
   "id": "570f974f-13c3-42b6-ad3a-ce99ca885c1a",
   "metadata": {
    "execution": {
     "iopub.execute_input": "2022-11-29T22:22:37.422583Z",
     "iopub.status.busy": "2022-11-29T22:22:37.422379Z",
     "iopub.status.idle": "2022-11-29T22:22:37.445626Z",
     "shell.execute_reply": "2022-11-29T22:22:37.445063Z"
    },
    "papermill": {
     "duration": 0.035621,
     "end_time": "2022-11-29T22:22:37.447050",
     "exception": false,
     "start_time": "2022-11-29T22:22:37.411429",
     "status": "completed"
    },
    "tags": []
   },
   "outputs": [
    {
     "name": "stdout",
     "output_type": "stream",
     "text": [
      "Number of gene combinations: 30135\n"
     ]
    }
   ],
   "source": [
    "n = len(gene_chr_objs)\n",
    "# diagonal elements + upper triangular matrix\n",
    "n_comb = n + int(n * (n - 1) / 2.0)\n",
    "print(f\"Number of gene combinations: {n_comb}\", flush=True)"
   ]
  },
  {
   "cell_type": "code",
   "execution_count": 29,
   "id": "cdbb90a1",
   "metadata": {
    "execution": {
     "iopub.execute_input": "2022-11-29T22:22:37.469432Z",
     "iopub.status.busy": "2022-11-29T22:22:37.469089Z",
     "iopub.status.idle": "2022-11-29T22:45:16.169890Z",
     "shell.execute_reply": "2022-11-29T22:45:16.169299Z"
    },
    "papermill": {
     "duration": 1358.713275,
     "end_time": "2022-11-29T22:45:16.171301",
     "exception": false,
     "start_time": "2022-11-29T22:22:37.458026",
     "status": "completed"
    },
    "tags": []
   },
   "outputs": [
    {
     "name": "stderr",
     "output_type": "stream",
     "text": [
      "ENSG00000130649 / ENSG00000130649: 100%|██████████████████████| 30135/30135 [22:38<00:00, 22.18it/s]\n"
     ]
    },
    {
     "data": {
      "text/plain": [
       "PosixPath('/opt/data/projects/asthma-copd/results/gls_phenoplier/gene_corrs/asthma_only/by_chr/gene_corrs-chr10.pkl')"
      ]
     },
     "metadata": {},
     "output_type": "display_data"
    }
   ],
   "source": [
    "gene_corrs = []\n",
    "gene_corrs_data = np.full(\n",
    "    (n, n),\n",
    "    np.nan,\n",
    "    dtype=np.float64,\n",
    ")\n",
    "\n",
    "i = 0\n",
    "with tqdm(ncols=100, total=n_comb) as pbar:\n",
    "    for gene1_idx in range(0, len(gene_chr_objs)):\n",
    "        gene1_obj = gene_chr_objs[gene1_idx]\n",
    "        gene1_tissues = spredixcan_genes_models.loc[gene1_obj.ensembl_id, \"tissue\"]\n",
    "\n",
    "        for gene2_idx in range(gene1_idx, len(gene_chr_objs)):\n",
    "            gene2_obj = gene_chr_objs[gene2_idx]\n",
    "            gene2_tissues = spredixcan_genes_models.loc[gene2_obj.ensembl_id, \"tissue\"]\n",
    "\n",
    "            pbar.set_description(f\"{gene1_obj.ensembl_id} / {gene2_obj.ensembl_id}\")\n",
    "\n",
    "            try:\n",
    "                r = gene1_obj.get_ssm_correlation(\n",
    "                    other_gene=gene2_obj,\n",
    "                    tissues=gene1_tissues,\n",
    "                    other_tissues=gene2_tissues,\n",
    "                    snps_subset=gwas_variants_ids_set,\n",
    "                    condition_number=SMULTIXCAN_CONDITION_NUMBER,\n",
    "                    reference_panel=REFERENCE_PANEL,\n",
    "                    model_type=EQTL_MODEL,\n",
    "                    use_within_distance=COMPUTE_CORRELATIONS_WITHIN_DISTANCE,\n",
    "                )\n",
    "\n",
    "                if r is None:\n",
    "                    # if r is None, it's very likely because:\n",
    "                    #  * one of the genes has no prediction models\n",
    "                    #  * all the SNPs predictors for the gene are not present in the reference\n",
    "                    #    panel\n",
    "\n",
    "                    r = 0.0\n",
    "\n",
    "                gene_corrs.append(r)\n",
    "\n",
    "                gene_corrs_data[gene1_idx, gene2_idx] = r\n",
    "                gene_corrs_data[gene2_idx, gene1_idx] = r\n",
    "            except Warning as e:\n",
    "                if not DEBUG_MODE:\n",
    "                    raise e\n",
    "\n",
    "                print(\n",
    "                    f\"RuntimeWarning for genes {gene1_obj.ensembl_id} and {gene2_obj.ensembl_id}\",\n",
    "                    flush=True,\n",
    "                )\n",
    "                print(traceback.format_exc(), flush=True)\n",
    "\n",
    "                gene_corrs.append(np.nan)\n",
    "            except Exception as e:\n",
    "                if not DEBUG_MODE:\n",
    "                    raise e\n",
    "\n",
    "                print(\n",
    "                    f\"Exception for genes {gene1_obj.ensembl_id} and {gene2_obj.ensembl_id}\",\n",
    "                    flush=True,\n",
    "                )\n",
    "                print(traceback.format_exc(), flush=True)\n",
    "\n",
    "                gene_corrs.append(np.nan)\n",
    "\n",
    "            pbar.update(1)\n",
    "\n",
    "# create a pandas series\n",
    "gene_corrs_flat = pd.Series(gene_corrs)\n",
    "\n",
    "# save\n",
    "# FIXME: consider saving only the condenced matrix here. See here for\n",
    "# more details: https://github.com/greenelab/phenoplier/pull/38#discussion_r634600813\n",
    "# gene_corrs_data = squareform(np.array(gene_corrs, dtype=np.float64))\n",
    "# np.fill_diagonal(gene_corrs_data, 1.0)\n",
    "\n",
    "gene_chr_ids = [g.ensembl_id for g in gene_chr_objs]\n",
    "gene_corrs_df = pd.DataFrame(\n",
    "    data=gene_corrs_data,\n",
    "    index=gene_chr_ids,\n",
    "    columns=gene_chr_ids,\n",
    ")\n",
    "\n",
    "output_dir.mkdir(exist_ok=True, parents=True)\n",
    "display(output_file)\n",
    "\n",
    "gene_corrs_df.to_pickle(output_file)"
   ]
  },
  {
   "cell_type": "markdown",
   "id": "faa67b51-5373-470f-aa72-2ded53fa6dfe",
   "metadata": {
    "papermill": {
     "duration": 1.17438,
     "end_time": "2022-11-29T22:45:18.572797",
     "exception": false,
     "start_time": "2022-11-29T22:45:17.398417",
     "status": "completed"
    },
    "tags": []
   },
   "source": [
    "# Testing"
   ]
  },
  {
   "cell_type": "code",
   "execution_count": 30,
   "id": "14f7d046-4b55-4896-a56b-990127bcc388",
   "metadata": {
    "execution": {
     "iopub.execute_input": "2022-11-29T22:45:20.987156Z",
     "iopub.status.busy": "2022-11-29T22:45:20.986496Z",
     "iopub.status.idle": "2022-11-29T22:45:21.009878Z",
     "shell.execute_reply": "2022-11-29T22:45:21.009269Z"
    },
    "papermill": {
     "duration": 1.240475,
     "end_time": "2022-11-29T22:45:21.010824",
     "exception": false,
     "start_time": "2022-11-29T22:45:19.770349",
     "status": "completed"
    },
    "tags": []
   },
   "outputs": [
    {
     "data": {
      "text/plain": [
       "(245, 245)"
      ]
     },
     "execution_count": 30,
     "metadata": {},
     "output_type": "execute_result"
    }
   ],
   "source": [
    "gene_corrs_df.shape"
   ]
  },
  {
   "cell_type": "code",
   "execution_count": 31,
   "id": "c7d15414-3297-4537-a7c6-7588c0baeb75",
   "metadata": {
    "execution": {
     "iopub.execute_input": "2022-11-29T22:45:23.341302Z",
     "iopub.status.busy": "2022-11-29T22:45:23.340750Z",
     "iopub.status.idle": "2022-11-29T22:45:23.378995Z",
     "shell.execute_reply": "2022-11-29T22:45:23.378384Z"
    },
    "papermill": {
     "duration": 1.202469,
     "end_time": "2022-11-29T22:45:23.379945",
     "exception": false,
     "start_time": "2022-11-29T22:45:22.177476",
     "status": "completed"
    },
    "tags": []
   },
   "outputs": [
    {
     "data": {
      "text/html": [
       "<div>\n",
       "<style scoped>\n",
       "    .dataframe tbody tr th:only-of-type {\n",
       "        vertical-align: middle;\n",
       "    }\n",
       "\n",
       "    .dataframe tbody tr th {\n",
       "        vertical-align: top;\n",
       "    }\n",
       "\n",
       "    .dataframe thead th {\n",
       "        text-align: right;\n",
       "    }\n",
       "</style>\n",
       "<table border=\"1\" class=\"dataframe\">\n",
       "  <thead>\n",
       "    <tr style=\"text-align: right;\">\n",
       "      <th></th>\n",
       "      <th>ENSG00000261456</th>\n",
       "      <th>ENSG00000148377</th>\n",
       "      <th>ENSG00000067064</th>\n",
       "      <th>ENSG00000067057</th>\n",
       "      <th>ENSG00000067082</th>\n",
       "      <th>ENSG00000187134</th>\n",
       "      <th>ENSG00000151632</th>\n",
       "      <th>ENSG00000196139</th>\n",
       "      <th>ENSG00000173848</th>\n",
       "      <th>ENSG00000196372</th>\n",
       "      <th>...</th>\n",
       "      <th>ENSG00000148773</th>\n",
       "      <th>ENSG00000170430</th>\n",
       "      <th>ENSG00000175470</th>\n",
       "      <th>ENSG00000176171</th>\n",
       "      <th>ENSG00000151640</th>\n",
       "      <th>ENSG00000068383</th>\n",
       "      <th>ENSG00000130640</th>\n",
       "      <th>ENSG00000127884</th>\n",
       "      <th>ENSG00000148832</th>\n",
       "      <th>ENSG00000130649</th>\n",
       "    </tr>\n",
       "  </thead>\n",
       "  <tbody>\n",
       "    <tr>\n",
       "      <th>ENSG00000261456</th>\n",
       "      <td>1.000000</td>\n",
       "      <td>0.003790</td>\n",
       "      <td>0.012337</td>\n",
       "      <td>0.007815</td>\n",
       "      <td>0.005915</td>\n",
       "      <td>0.007852</td>\n",
       "      <td>0.010083</td>\n",
       "      <td>0.011510</td>\n",
       "      <td>0.011865</td>\n",
       "      <td>0.015398</td>\n",
       "      <td>...</td>\n",
       "      <td>0.005232</td>\n",
       "      <td>0.005479</td>\n",
       "      <td>0.010121</td>\n",
       "      <td>0.007184</td>\n",
       "      <td>0.008490</td>\n",
       "      <td>0.006958</td>\n",
       "      <td>0.008215</td>\n",
       "      <td>0.003880</td>\n",
       "      <td>0.005341</td>\n",
       "      <td>0.005365</td>\n",
       "    </tr>\n",
       "    <tr>\n",
       "      <th>ENSG00000148377</th>\n",
       "      <td>0.003790</td>\n",
       "      <td>1.000000</td>\n",
       "      <td>0.084105</td>\n",
       "      <td>0.004528</td>\n",
       "      <td>0.003054</td>\n",
       "      <td>0.006786</td>\n",
       "      <td>0.005735</td>\n",
       "      <td>0.001551</td>\n",
       "      <td>0.000925</td>\n",
       "      <td>0.000890</td>\n",
       "      <td>...</td>\n",
       "      <td>0.008012</td>\n",
       "      <td>0.003932</td>\n",
       "      <td>0.000509</td>\n",
       "      <td>0.002153</td>\n",
       "      <td>0.005198</td>\n",
       "      <td>0.003080</td>\n",
       "      <td>0.000634</td>\n",
       "      <td>0.000971</td>\n",
       "      <td>0.000899</td>\n",
       "      <td>0.003436</td>\n",
       "    </tr>\n",
       "    <tr>\n",
       "      <th>ENSG00000067064</th>\n",
       "      <td>0.012337</td>\n",
       "      <td>0.084105</td>\n",
       "      <td>1.000000</td>\n",
       "      <td>0.014470</td>\n",
       "      <td>0.010029</td>\n",
       "      <td>0.010480</td>\n",
       "      <td>0.008932</td>\n",
       "      <td>0.007868</td>\n",
       "      <td>0.006230</td>\n",
       "      <td>0.009131</td>\n",
       "      <td>...</td>\n",
       "      <td>0.011490</td>\n",
       "      <td>0.002676</td>\n",
       "      <td>0.005628</td>\n",
       "      <td>0.005965</td>\n",
       "      <td>0.004388</td>\n",
       "      <td>0.008257</td>\n",
       "      <td>0.013420</td>\n",
       "      <td>0.005779</td>\n",
       "      <td>0.008882</td>\n",
       "      <td>0.005899</td>\n",
       "    </tr>\n",
       "    <tr>\n",
       "      <th>ENSG00000067057</th>\n",
       "      <td>0.007815</td>\n",
       "      <td>0.004528</td>\n",
       "      <td>0.014470</td>\n",
       "      <td>1.000000</td>\n",
       "      <td>0.010449</td>\n",
       "      <td>0.012528</td>\n",
       "      <td>0.017848</td>\n",
       "      <td>0.015077</td>\n",
       "      <td>0.011976</td>\n",
       "      <td>0.015208</td>\n",
       "      <td>...</td>\n",
       "      <td>0.012468</td>\n",
       "      <td>0.007954</td>\n",
       "      <td>0.010215</td>\n",
       "      <td>0.012404</td>\n",
       "      <td>0.006633</td>\n",
       "      <td>0.017375</td>\n",
       "      <td>0.012677</td>\n",
       "      <td>0.008571</td>\n",
       "      <td>0.012765</td>\n",
       "      <td>0.010577</td>\n",
       "    </tr>\n",
       "    <tr>\n",
       "      <th>ENSG00000067082</th>\n",
       "      <td>0.005915</td>\n",
       "      <td>0.003054</td>\n",
       "      <td>0.010029</td>\n",
       "      <td>0.010449</td>\n",
       "      <td>1.000000</td>\n",
       "      <td>0.005393</td>\n",
       "      <td>0.012874</td>\n",
       "      <td>0.010219</td>\n",
       "      <td>0.007214</td>\n",
       "      <td>0.011455</td>\n",
       "      <td>...</td>\n",
       "      <td>0.006659</td>\n",
       "      <td>0.005376</td>\n",
       "      <td>0.010541</td>\n",
       "      <td>0.007171</td>\n",
       "      <td>0.006784</td>\n",
       "      <td>0.008806</td>\n",
       "      <td>0.007240</td>\n",
       "      <td>0.005152</td>\n",
       "      <td>0.006803</td>\n",
       "      <td>0.007594</td>\n",
       "    </tr>\n",
       "  </tbody>\n",
       "</table>\n",
       "<p>5 rows × 245 columns</p>\n",
       "</div>"
      ],
      "text/plain": [
       "                 ENSG00000261456  ENSG00000148377  ENSG00000067064  \\\n",
       "ENSG00000261456         1.000000         0.003790         0.012337   \n",
       "ENSG00000148377         0.003790         1.000000         0.084105   \n",
       "ENSG00000067064         0.012337         0.084105         1.000000   \n",
       "ENSG00000067057         0.007815         0.004528         0.014470   \n",
       "ENSG00000067082         0.005915         0.003054         0.010029   \n",
       "\n",
       "                 ENSG00000067057  ENSG00000067082  ENSG00000187134  \\\n",
       "ENSG00000261456         0.007815         0.005915         0.007852   \n",
       "ENSG00000148377         0.004528         0.003054         0.006786   \n",
       "ENSG00000067064         0.014470         0.010029         0.010480   \n",
       "ENSG00000067057         1.000000         0.010449         0.012528   \n",
       "ENSG00000067082         0.010449         1.000000         0.005393   \n",
       "\n",
       "                 ENSG00000151632  ENSG00000196139  ENSG00000173848  \\\n",
       "ENSG00000261456         0.010083         0.011510         0.011865   \n",
       "ENSG00000148377         0.005735         0.001551         0.000925   \n",
       "ENSG00000067064         0.008932         0.007868         0.006230   \n",
       "ENSG00000067057         0.017848         0.015077         0.011976   \n",
       "ENSG00000067082         0.012874         0.010219         0.007214   \n",
       "\n",
       "                 ENSG00000196372  ...  ENSG00000148773  ENSG00000170430  \\\n",
       "ENSG00000261456         0.015398  ...         0.005232         0.005479   \n",
       "ENSG00000148377         0.000890  ...         0.008012         0.003932   \n",
       "ENSG00000067064         0.009131  ...         0.011490         0.002676   \n",
       "ENSG00000067057         0.015208  ...         0.012468         0.007954   \n",
       "ENSG00000067082         0.011455  ...         0.006659         0.005376   \n",
       "\n",
       "                 ENSG00000175470  ENSG00000176171  ENSG00000151640  \\\n",
       "ENSG00000261456         0.010121         0.007184         0.008490   \n",
       "ENSG00000148377         0.000509         0.002153         0.005198   \n",
       "ENSG00000067064         0.005628         0.005965         0.004388   \n",
       "ENSG00000067057         0.010215         0.012404         0.006633   \n",
       "ENSG00000067082         0.010541         0.007171         0.006784   \n",
       "\n",
       "                 ENSG00000068383  ENSG00000130640  ENSG00000127884  \\\n",
       "ENSG00000261456         0.006958         0.008215         0.003880   \n",
       "ENSG00000148377         0.003080         0.000634         0.000971   \n",
       "ENSG00000067064         0.008257         0.013420         0.005779   \n",
       "ENSG00000067057         0.017375         0.012677         0.008571   \n",
       "ENSG00000067082         0.008806         0.007240         0.005152   \n",
       "\n",
       "                 ENSG00000148832  ENSG00000130649  \n",
       "ENSG00000261456         0.005341         0.005365  \n",
       "ENSG00000148377         0.000899         0.003436  \n",
       "ENSG00000067064         0.008882         0.005899  \n",
       "ENSG00000067057         0.012765         0.010577  \n",
       "ENSG00000067082         0.006803         0.007594  \n",
       "\n",
       "[5 rows x 245 columns]"
      ]
     },
     "execution_count": 31,
     "metadata": {},
     "output_type": "execute_result"
    }
   ],
   "source": [
    "gene_corrs_df.head()"
   ]
  },
  {
   "cell_type": "markdown",
   "id": "dad6603f-01c6-41fb-a6f6-241051207dd8",
   "metadata": {
    "papermill": {
     "duration": 1.210512,
     "end_time": "2022-11-29T22:45:25.791709",
     "exception": false,
     "start_time": "2022-11-29T22:45:24.581197",
     "status": "completed"
    },
    "tags": []
   },
   "source": [
    "## Standard checks and stats"
   ]
  },
  {
   "cell_type": "code",
   "execution_count": 32,
   "id": "286686af-1b7b-4440-8453-6bdcbd8de19c",
   "metadata": {
    "execution": {
     "iopub.execute_input": "2022-11-29T22:45:28.118613Z",
     "iopub.status.busy": "2022-11-29T22:45:28.117977Z",
     "iopub.status.idle": "2022-11-29T22:45:28.141181Z",
     "shell.execute_reply": "2022-11-29T22:45:28.140476Z"
    },
    "papermill": {
     "duration": 1.181336,
     "end_time": "2022-11-29T22:45:28.142209",
     "exception": false,
     "start_time": "2022-11-29T22:45:26.960873",
     "status": "completed"
    },
    "tags": []
   },
   "outputs": [],
   "source": [
    "assert not gene_corrs_df.isna().any().any()"
   ]
  },
  {
   "cell_type": "code",
   "execution_count": 33,
   "id": "00583efc-7068-4270-ad1e-4a418e91db96",
   "metadata": {
    "execution": {
     "iopub.execute_input": "2022-11-29T22:45:30.554269Z",
     "iopub.status.busy": "2022-11-29T22:45:30.553824Z",
     "iopub.status.idle": "2022-11-29T22:45:30.578208Z",
     "shell.execute_reply": "2022-11-29T22:45:30.577546Z"
    },
    "papermill": {
     "duration": 1.239649,
     "end_time": "2022-11-29T22:45:30.579133",
     "exception": false,
     "start_time": "2022-11-29T22:45:29.339484",
     "status": "completed"
    },
    "tags": []
   },
   "outputs": [
    {
     "data": {
      "text/plain": [
       "3.0164765129823734e-08"
      ]
     },
     "metadata": {},
     "output_type": "display_data"
    }
   ],
   "source": [
    "_min_val = gene_corrs_df.min().min()\n",
    "display(_min_val)\n",
    "assert _min_val >= -0.05"
   ]
  },
  {
   "cell_type": "code",
   "execution_count": 34,
   "id": "d04fb2cf-1050-475b-b855-f5f7cc04092b",
   "metadata": {
    "execution": {
     "iopub.execute_input": "2022-11-29T22:45:32.944703Z",
     "iopub.status.busy": "2022-11-29T22:45:32.944228Z",
     "iopub.status.idle": "2022-11-29T22:45:32.968580Z",
     "shell.execute_reply": "2022-11-29T22:45:32.967907Z"
    },
    "papermill": {
     "duration": 1.228033,
     "end_time": "2022-11-29T22:45:32.969571",
     "exception": false,
     "start_time": "2022-11-29T22:45:31.741538",
     "status": "completed"
    },
    "tags": []
   },
   "outputs": [
    {
     "data": {
      "text/plain": [
       "1.000000000000003"
      ]
     },
     "metadata": {},
     "output_type": "display_data"
    }
   ],
   "source": [
    "_max_val = gene_corrs_df.max().max()  # this captures the diagonal\n",
    "display(_max_val)\n",
    "assert _max_val <= 1.05"
   ]
  },
  {
   "cell_type": "code",
   "execution_count": 35,
   "id": "96d02c44-1fba-47be-8a93-8f2608420b9c",
   "metadata": {
    "execution": {
     "iopub.execute_input": "2022-11-29T22:45:35.595393Z",
     "iopub.status.busy": "2022-11-29T22:45:35.595057Z",
     "iopub.status.idle": "2022-11-29T22:45:35.616828Z",
     "shell.execute_reply": "2022-11-29T22:45:35.616139Z"
    },
    "papermill": {
     "duration": 1.328672,
     "end_time": "2022-11-29T22:45:35.617932",
     "exception": false,
     "start_time": "2022-11-29T22:45:34.289260",
     "status": "completed"
    },
    "tags": []
   },
   "outputs": [],
   "source": [
    "# check upper triangular values\n",
    "# assert len(gene_corrs) == int(genes_chr.shape[0] * (genes_chr.shape[0] - 1) / 2)"
   ]
  },
  {
   "cell_type": "code",
   "execution_count": 36,
   "id": "fe283586-c348-40e0-8841-f6d97bfb021c",
   "metadata": {
    "execution": {
     "iopub.execute_input": "2022-11-29T22:45:38.074731Z",
     "iopub.status.busy": "2022-11-29T22:45:38.074195Z",
     "iopub.status.idle": "2022-11-29T22:45:38.101637Z",
     "shell.execute_reply": "2022-11-29T22:45:38.100961Z"
    },
    "papermill": {
     "duration": 1.24753,
     "end_time": "2022-11-29T22:45:38.102908",
     "exception": false,
     "start_time": "2022-11-29T22:45:36.855378",
     "status": "completed"
    },
    "tags": []
   },
   "outputs": [
    {
     "data": {
      "text/plain": [
       "count    3.013500e+04\n",
       "mean     1.667898e-02\n",
       "std      9.358016e-02\n",
       "min      3.016477e-08\n",
       "25%      4.287232e-03\n",
       "50%      6.438368e-03\n",
       "75%      8.930224e-03\n",
       "max      1.000000e+00\n",
       "dtype: float64"
      ]
     },
     "execution_count": 36,
     "metadata": {},
     "output_type": "execute_result"
    }
   ],
   "source": [
    "gene_corrs_flat.describe()"
   ]
  },
  {
   "cell_type": "code",
   "execution_count": 37,
   "id": "b3815678-0f93-4b35-897b-a9d047a2aa78",
   "metadata": {
    "execution": {
     "iopub.execute_input": "2022-11-29T22:45:40.620847Z",
     "iopub.status.busy": "2022-11-29T22:45:40.620549Z",
     "iopub.status.idle": "2022-11-29T22:45:40.646515Z",
     "shell.execute_reply": "2022-11-29T22:45:40.646017Z"
    },
    "papermill": {
     "duration": 1.238802,
     "end_time": "2022-11-29T22:45:40.647349",
     "exception": false,
     "start_time": "2022-11-29T22:45:39.408547",
     "status": "completed"
    },
    "tags": []
   },
   "outputs": [
    {
     "data": {
      "text/plain": [
       "0.00    3.016477e-08\n",
       "0.05    1.735290e-03\n",
       "0.10    2.589820e-03\n",
       "0.15    3.242169e-03\n",
       "0.20    3.795199e-03\n",
       "0.25    4.287232e-03\n",
       "0.30    4.745435e-03\n",
       "0.35    5.202297e-03\n",
       "0.40    5.621408e-03\n",
       "0.45    6.028527e-03\n",
       "0.50    6.438368e-03\n",
       "0.55    6.890107e-03\n",
       "0.60    7.357985e-03\n",
       "0.65    7.840716e-03\n",
       "0.70    8.345666e-03\n",
       "0.75    8.930224e-03\n",
       "0.80    9.601331e-03\n",
       "0.85    1.043906e-02\n",
       "0.90    1.158673e-02\n",
       "0.95    1.359697e-02\n",
       "dtype: float64"
      ]
     },
     "metadata": {},
     "output_type": "display_data"
    }
   ],
   "source": [
    "gene_corrs_quantiles = gene_corrs_flat.quantile(np.arange(0, 1, 0.05))\n",
    "display(gene_corrs_quantiles)"
   ]
  },
  {
   "cell_type": "markdown",
   "id": "87134509-b145-4a10-8bc9-b7e914c2b0fa",
   "metadata": {
    "papermill": {
     "duration": 1.157113,
     "end_time": "2022-11-29T22:45:42.983427",
     "exception": false,
     "start_time": "2022-11-29T22:45:41.826314",
     "status": "completed"
    },
    "tags": []
   },
   "source": [
    "## Positive definiteness"
   ]
  },
  {
   "cell_type": "code",
   "execution_count": 38,
   "id": "07d9a9a1-a4f7-48aa-b916-6d42a8cc6186",
   "metadata": {
    "execution": {
     "iopub.execute_input": "2022-11-29T22:45:45.377787Z",
     "iopub.status.busy": "2022-11-29T22:45:45.377396Z",
     "iopub.status.idle": "2022-11-29T22:45:45.421648Z",
     "shell.execute_reply": "2022-11-29T22:45:45.421015Z"
    },
    "papermill": {
     "duration": 1.251059,
     "end_time": "2022-11-29T22:45:45.422535",
     "exception": false,
     "start_time": "2022-11-29T22:45:44.171476",
     "status": "completed"
    },
    "tags": []
   },
   "outputs": [
    {
     "data": {
      "text/plain": [
       "0"
      ]
     },
     "metadata": {},
     "output_type": "display_data"
    },
    {
     "data": {
      "text/plain": [
       "array([], dtype=float64)"
      ]
     },
     "metadata": {},
     "output_type": "display_data"
    }
   ],
   "source": [
    "# print negative eigenvalues\n",
    "eigs = np.linalg.eigvals(gene_corrs_df.to_numpy())\n",
    "display(len(eigs[eigs < 0]))\n",
    "display(eigs[eigs < 0])"
   ]
  },
  {
   "cell_type": "code",
   "execution_count": 39,
   "id": "6e218436-c3c5-4028-8c94-a4fa6260efce",
   "metadata": {
    "execution": {
     "iopub.execute_input": "2022-11-29T22:45:47.767610Z",
     "iopub.status.busy": "2022-11-29T22:45:47.767078Z",
     "iopub.status.idle": "2022-11-29T22:45:47.795172Z",
     "shell.execute_reply": "2022-11-29T22:45:47.794595Z"
    },
    "papermill": {
     "duration": 1.219543,
     "end_time": "2022-11-29T22:45:47.795995",
     "exception": false,
     "start_time": "2022-11-29T22:45:46.576452",
     "status": "completed"
    },
    "tags": []
   },
   "outputs": [
    {
     "name": "stdout",
     "output_type": "stream",
     "text": [
      "Works!\n"
     ]
    }
   ],
   "source": [
    "try:\n",
    "    chol_mat = np.linalg.cholesky(gene_corrs_df.to_numpy())\n",
    "    cov_inv = np.linalg.inv(chol_mat)\n",
    "    print(\"Works!\")\n",
    "except Exception as e:\n",
    "    print(f\"Cholesky decomposition failed: {str(e)}\")"
   ]
  },
  {
   "cell_type": "code",
   "execution_count": 40,
   "id": "dd8827fb-faf9-4c7c-9454-015e94752706",
   "metadata": {
    "execution": {
     "iopub.execute_input": "2022-11-29T22:45:50.204275Z",
     "iopub.status.busy": "2022-11-29T22:45:50.203936Z",
     "iopub.status.idle": "2022-11-29T22:45:50.230963Z",
     "shell.execute_reply": "2022-11-29T22:45:50.230384Z"
    },
    "papermill": {
     "duration": 1.230058,
     "end_time": "2022-11-29T22:45:50.231791",
     "exception": false,
     "start_time": "2022-11-29T22:45:49.001733",
     "status": "completed"
    },
    "tags": []
   },
   "outputs": [
    {
     "name": "stdout",
     "output_type": "stream",
     "text": [
      "Works!\n"
     ]
    }
   ],
   "source": [
    "try:\n",
    "    # decomposition used by statsmodels.GLS\n",
    "    cholsigmainv = np.linalg.cholesky(np.linalg.inv(gene_corrs_df.to_numpy())).T\n",
    "    print(\"Works!\")\n",
    "except Exception as e:\n",
    "    print(f\"Cholesky decomposition failed (statsmodels.GLS): {str(e)}\")"
   ]
  },
  {
   "cell_type": "markdown",
   "id": "8e60a080-edb2-4e9c-b2ef-22961693200c",
   "metadata": {
    "papermill": {
     "duration": 1.162644,
     "end_time": "2022-11-29T22:45:52.560949",
     "exception": false,
     "start_time": "2022-11-29T22:45:51.398305",
     "status": "completed"
    },
    "tags": []
   },
   "source": [
    "## Plot: distribution"
   ]
  },
  {
   "cell_type": "code",
   "execution_count": 41,
   "id": "8301126b-a7d4-4744-9c7d-f0f86eb6f54c",
   "metadata": {
    "execution": {
     "iopub.execute_input": "2022-11-29T22:45:54.987937Z",
     "iopub.status.busy": "2022-11-29T22:45:54.987632Z",
     "iopub.status.idle": "2022-11-29T22:46:00.326485Z",
     "shell.execute_reply": "2022-11-29T22:46:00.326101Z"
    },
    "papermill": {
     "duration": 6.556709,
     "end_time": "2022-11-29T22:46:00.328507",
     "exception": false,
     "start_time": "2022-11-29T22:45:53.771798",
     "status": "completed"
    },
    "tags": []
   },
   "outputs": [
    {
     "data": {
      "image/png": "[encoded data removed]",
      "text/plain": [
       "<Figure size 700x700 with 1 Axes>"
      ]
     },
     "metadata": {},
     "output_type": "display_data"
    }
   ],
   "source": [
    "with sns.plotting_context(\"paper\", font_scale=1.5):\n",
    "    g = sns.displot(gene_corrs_flat, kde=True, height=7)\n",
    "    g.ax.set_title(\n",
    "        f\"Distribution of gene correlation values in chromosome {CHROMOSOME}\"\n",
    "    )"
   ]
  },
  {
   "cell_type": "markdown",
   "id": "cbd52bca-d878-4a2f-b684-5c83aa3038d4",
   "metadata": {
    "papermill": {
     "duration": 1.241965,
     "end_time": "2022-11-29T22:46:02.855205",
     "exception": false,
     "start_time": "2022-11-29T22:46:01.613240",
     "status": "completed"
    },
    "tags": []
   },
   "source": [
    "## Plot: heatmap"
   ]
  },
  {
   "cell_type": "code",
   "execution_count": 42,
   "id": "d03fe63a-c7b2-4fb9-a53c-db362ce843c9",
   "metadata": {
    "execution": {
     "iopub.execute_input": "2022-11-29T22:46:05.471922Z",
     "iopub.status.busy": "2022-11-29T22:46:05.471450Z",
     "iopub.status.idle": "2022-11-29T22:46:05.490550Z",
     "shell.execute_reply": "2022-11-29T22:46:05.490041Z"
    },
    "papermill": {
     "duration": 1.336255,
     "end_time": "2022-11-29T22:46:05.491509",
     "exception": false,
     "start_time": "2022-11-29T22:46:04.155254",
     "status": "completed"
    },
    "tags": []
   },
   "outputs": [
    {
     "data": {
      "text/plain": [
       "'0.0 / 0.05'"
      ]
     },
     "metadata": {},
     "output_type": "display_data"
    }
   ],
   "source": [
    "vmin_val = min(0.00, gene_corrs_quantiles[0.10])\n",
    "vmax_val = max(0.05, gene_corrs_quantiles[0.90])\n",
    "display(f\"{vmin_val} / {vmax_val}\")"
   ]
  },
  {
   "cell_type": "code",
   "execution_count": 43,
   "id": "dc41b70b-5bcc-4d9e-9f33-a22c4a94dab5",
   "metadata": {
    "execution": {
     "iopub.execute_input": "2022-11-29T22:46:07.947628Z",
     "iopub.status.busy": "2022-11-29T22:46:07.947283Z",
     "iopub.status.idle": "2022-11-29T22:46:08.162002Z",
     "shell.execute_reply": "2022-11-29T22:46:08.161521Z"
    },
    "papermill": {
     "duration": 1.388563,
     "end_time": "2022-11-29T22:46:08.163602",
     "exception": false,
     "start_time": "2022-11-29T22:46:06.775039",
     "status": "completed"
    },
    "tags": []
   },
   "outputs": [
    {
     "data": {
      "text/plain": [
       "Text(0.5, 1.0, 'Gene correlations in chromosome 10')"
      ]
     },
     "execution_count": 43,
     "metadata": {},
     "output_type": "execute_result"
    },
    {
     "data": {
      "image/png": "[encoded data removed]",
      "text/plain": [
       "<Figure size 1000x1000 with 2 Axes>"
      ]
     },
     "metadata": {},
     "output_type": "display_data"
    }
   ],
   "source": [
    "f, ax = plt.subplots(figsize=(10, 10))\n",
    "sns.heatmap(\n",
    "    gene_corrs_df,\n",
    "    xticklabels=False,\n",
    "    yticklabels=False,\n",
    "    square=True,\n",
    "    vmin=vmin_val,\n",
    "    vmax=vmax_val,\n",
    "    cmap=\"rocket_r\",\n",
    "    ax=ax,\n",
    ")\n",
    "ax.set_title(f\"Gene correlations in chromosome {CHROMOSOME}\")"
   ]
  },
  {
   "cell_type": "code",
   "execution_count": null,
   "id": "b25e3ead",
   "metadata": {
    "papermill": {
     "duration": 1.229987,
     "end_time": "2022-11-29T22:46:10.639083",
     "exception": false,
     "start_time": "2022-11-29T22:46:09.409096",
     "status": "completed"
    },
    "tags": []
   },
   "outputs": [],
   "source": []
  }
 ],
 "metadata": {
  "jupytext": {
   "cell_metadata_filter": "all,-execution,-papermill,-trusted",
   "formats": "ipynb,py//py:percent"
  },
  "kernelspec": {
   "display_name": "Python 3 (ipykernel)",
   "language": "python",
   "name": "python3"
  },
  "language_info": {
   "codemirror_mode": {
    "name": "ipython",
    "version": 3
   },
   "file_extension": ".py",
   "mimetype": "text/x-python",
   "name": "python",
   "nbconvert_exporter": "python",
   "pygments_lexer": "ipython3",
   "version": "3.10.6"
  },
  "papermill": {
   "default_parameters": {},
   "duration": 1424.007984,
   "end_time": "2022-11-29T22:46:15.005968",
   "environment_variables": {},
   "exception": null,
   "input_path": "projects/asthma-copd/nbs/20_gene_corrs/10-gene_expr_correlations.ipynb",
   "output_path": "projects/asthma-copd/nbs/20_gene_corrs/gene_corrs/asthma_only/10-gene_expr_correlations-chr10.run.ipynb",
   "parameters": {
    "CHROMOSOME": 10,
    "COHORT_NAME": "asthma_only",
    "OUTPUT_DIR_BASE": "/opt/data/projects/asthma-copd/results/gls_phenoplier"
   },
   "start_time": "2022-11-29T22:22:30.997984",
   "version": "2.2.2"
  }
 },
 "nbformat": 4,
 "nbformat_minor": 5
}
