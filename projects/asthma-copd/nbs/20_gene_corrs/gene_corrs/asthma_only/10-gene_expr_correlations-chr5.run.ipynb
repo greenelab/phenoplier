{
 "cells": [
  {
   "cell_type": "markdown",
   "id": "7a6632fb",
   "metadata": {
    "papermill": {
     "duration": 0.008412,
     "end_time": "2022-11-29T22:22:31.894534",
     "exception": false,
     "start_time": "2022-11-29T22:22:31.886122",
     "status": "completed"
    },
    "tags": []
   },
   "source": [
    "# Description"
   ]
  },
  {
   "cell_type": "markdown",
   "id": "7097c346",
   "metadata": {
    "papermill": {
     "duration": 0.007623,
     "end_time": "2022-11-29T22:22:31.909961",
     "exception": false,
     "start_time": "2022-11-29T22:22:31.902338",
     "status": "completed"
    },
    "tags": []
   },
   "source": [
    "(Please, take a look at the README.md file in this directory for instructions on how to run this notebook)\n",
    "\n",
    "This notebook computes predicted expression correlations between all genes in the MultiPLIER models.\n",
    "\n",
    "It has specicfic parameters for papermill (see under `Settings` below).\n",
    "It can be configured to run on a single chromosome to run in parallel.\n",
    "\n",
    "This notebook is not directly run. See README.md."
   ]
  },
  {
   "cell_type": "markdown",
   "id": "c61d8427",
   "metadata": {
    "papermill": {
     "duration": 0.007658,
     "end_time": "2022-11-29T22:22:31.925512",
     "exception": false,
     "start_time": "2022-11-29T22:22:31.917854",
     "status": "completed"
    },
    "tags": []
   },
   "source": [
    "# Modules"
   ]
  },
  {
   "cell_type": "code",
   "execution_count": 1,
   "id": "bbc0234f",
   "metadata": {
    "execution": {
     "iopub.execute_input": "2022-11-29T22:22:31.943341Z",
     "iopub.status.busy": "2022-11-29T22:22:31.942792Z",
     "iopub.status.idle": "2022-11-29T22:22:31.961793Z",
     "shell.execute_reply": "2022-11-29T22:22:31.961166Z"
    },
    "papermill": {
     "duration": 0.029417,
     "end_time": "2022-11-29T22:22:31.963430",
     "exception": false,
     "start_time": "2022-11-29T22:22:31.934013",
     "status": "completed"
    },
    "tags": []
   },
   "outputs": [],
   "source": [
    "%load_ext autoreload\n",
    "%autoreload 2"
   ]
  },
  {
   "cell_type": "code",
   "execution_count": 2,
   "id": "1d5f5a59",
   "metadata": {
    "execution": {
     "iopub.execute_input": "2022-11-29T22:22:31.981486Z",
     "iopub.status.busy": "2022-11-29T22:22:31.981047Z",
     "iopub.status.idle": "2022-11-29T22:22:32.659382Z",
     "shell.execute_reply": "2022-11-29T22:22:32.658790Z"
    },
    "papermill": {
     "duration": 0.689083,
     "end_time": "2022-11-29T22:22:32.661251",
     "exception": false,
     "start_time": "2022-11-29T22:22:31.972168",
     "status": "completed"
    },
    "tags": []
   },
   "outputs": [],
   "source": [
    "from random import sample, seed\n",
    "import warnings\n",
    "from pathlib import Path\n",
    "import pickle\n",
    "import traceback\n",
    "\n",
    "import numpy as np\n",
    "from scipy.spatial.distance import squareform\n",
    "import pandas as pd\n",
    "from tqdm import tqdm\n",
    "import matplotlib.pyplot as plt\n",
    "import seaborn as sns\n",
    "\n",
    "import conf\n",
    "from entity import Gene"
   ]
  },
  {
   "cell_type": "markdown",
   "id": "1eac24b5",
   "metadata": {
    "papermill": {
     "duration": 0.014961,
     "end_time": "2022-11-29T22:22:32.691561",
     "exception": false,
     "start_time": "2022-11-29T22:22:32.676600",
     "status": "completed"
    },
    "tags": []
   },
   "source": [
    "# Settings"
   ]
  },
  {
   "cell_type": "code",
   "execution_count": 3,
   "id": "ca4560ba",
   "metadata": {
    "execution": {
     "iopub.execute_input": "2022-11-29T22:22:32.712195Z",
     "iopub.status.busy": "2022-11-29T22:22:32.711721Z",
     "iopub.status.idle": "2022-11-29T22:22:32.731804Z",
     "shell.execute_reply": "2022-11-29T22:22:32.731309Z"
    },
    "papermill": {
     "duration": 0.031898,
     "end_time": "2022-11-29T22:22:32.733519",
     "exception": false,
     "start_time": "2022-11-29T22:22:32.701621",
     "status": "completed"
    },
    "tags": [
     "parameters"
    ]
   },
   "outputs": [],
   "source": [
    "# a cohort name (it could be something like UK_BIOBANK, etc)\n",
    "COHORT_NAME = None\n",
    "\n",
    "# reference panel such as 1000G or GTEX_V8\n",
    "REFERENCE_PANEL = \"GTEX_V8\"\n",
    "\n",
    "# predictions models such as MASHR or ELASTIC_NET\n",
    "EQTL_MODEL = \"MASHR\"\n",
    "\n",
    "# this is the default value used in S-MultiXcan to select the\n",
    "# top principal components of the expression correlation matrix\n",
    "SMULTIXCAN_CONDITION_NUMBER = 30\n",
    "\n",
    "# specifies a single chromosome value\n",
    "CHROMOSOME = None\n",
    "\n",
    "# If True, computes the correlation between closeby genes only;\n",
    "# otherwise, it computes correlations for all genes in a chromosome\n",
    "COMPUTE_CORRELATIONS_WITHIN_DISTANCE = False\n",
    "\n",
    "# if True, then it will continue if a gene pair correlation fails,\n",
    "# printing the warning/error for debugging. If False, any warning/error\n",
    "# will be thrown\n",
    "DEBUG_MODE = False\n",
    "\n",
    "# output dir\n",
    "OUTPUT_DIR_BASE = None"
   ]
  },
  {
   "cell_type": "code",
   "execution_count": 4,
   "id": "9cfada1d",
   "metadata": {
    "execution": {
     "iopub.execute_input": "2022-11-29T22:22:32.752641Z",
     "iopub.status.busy": "2022-11-29T22:22:32.752092Z",
     "iopub.status.idle": "2022-11-29T22:22:32.776782Z",
     "shell.execute_reply": "2022-11-29T22:22:32.776044Z"
    },
    "papermill": {
     "duration": 0.035916,
     "end_time": "2022-11-29T22:22:32.778517",
     "exception": false,
     "start_time": "2022-11-29T22:22:32.742601",
     "status": "completed"
    },
    "tags": [
     "injected-parameters"
    ]
   },
   "outputs": [],
   "source": [
    "# Parameters\n",
    "COHORT_NAME = \"asthma_only\"\n",
    "CHROMOSOME = 5\n",
    "OUTPUT_DIR_BASE = \"/opt/data/projects/asthma-copd/results/gls_phenoplier\"\n"
   ]
  },
  {
   "cell_type": "code",
   "execution_count": 5,
   "id": "3190631f-27fc-480f-b18e-571d580425a5",
   "metadata": {
    "execution": {
     "iopub.execute_input": "2022-11-29T22:22:32.797250Z",
     "iopub.status.busy": "2022-11-29T22:22:32.796673Z",
     "iopub.status.idle": "2022-11-29T22:22:32.828230Z",
     "shell.execute_reply": "2022-11-29T22:22:32.827532Z"
    },
    "papermill": {
     "duration": 0.042696,
     "end_time": "2022-11-29T22:22:32.829819",
     "exception": false,
     "start_time": "2022-11-29T22:22:32.787123",
     "status": "completed"
    },
    "tags": []
   },
   "outputs": [
    {
     "data": {
      "text/plain": [
       "'Cohort name: asthma_only'"
      ]
     },
     "metadata": {},
     "output_type": "display_data"
    }
   ],
   "source": [
    "assert COHORT_NAME is not None and len(COHORT_NAME) > 0, \"A cohort name must be given\"\n",
    "\n",
    "COHORT_NAME = COHORT_NAME.lower()\n",
    "display(f\"Cohort name: {COHORT_NAME}\")"
   ]
  },
  {
   "cell_type": "code",
   "execution_count": 6,
   "id": "f53ba19b-0f93-4fa2-a047-63b375939d1a",
   "metadata": {
    "execution": {
     "iopub.execute_input": "2022-11-29T22:22:32.849991Z",
     "iopub.status.busy": "2022-11-29T22:22:32.849437Z",
     "iopub.status.idle": "2022-11-29T22:22:32.880207Z",
     "shell.execute_reply": "2022-11-29T22:22:32.879694Z"
    },
    "papermill": {
     "duration": 0.042046,
     "end_time": "2022-11-29T22:22:32.881637",
     "exception": false,
     "start_time": "2022-11-29T22:22:32.839591",
     "status": "completed"
    },
    "tags": []
   },
   "outputs": [
    {
     "data": {
      "text/plain": [
       "'Reference panel: GTEX_V8'"
      ]
     },
     "metadata": {},
     "output_type": "display_data"
    }
   ],
   "source": [
    "assert (\n",
    "    REFERENCE_PANEL is not None and len(REFERENCE_PANEL) > 0\n",
    "), \"A reference panel must be given\"\n",
    "\n",
    "display(f\"Reference panel: {REFERENCE_PANEL}\")"
   ]
  },
  {
   "cell_type": "code",
   "execution_count": 7,
   "id": "e024d130-c139-429a-9c6e-ccf149e297b0",
   "metadata": {
    "execution": {
     "iopub.execute_input": "2022-11-29T22:22:32.900324Z",
     "iopub.status.busy": "2022-11-29T22:22:32.899972Z",
     "iopub.status.idle": "2022-11-29T22:22:32.925822Z",
     "shell.execute_reply": "2022-11-29T22:22:32.925101Z"
    },
    "papermill": {
     "duration": 0.037292,
     "end_time": "2022-11-29T22:22:32.927760",
     "exception": false,
     "start_time": "2022-11-29T22:22:32.890468",
     "status": "completed"
    },
    "tags": []
   },
   "outputs": [
    {
     "data": {
      "text/plain": [
       "'eQTL model: MASHR) / mashr_'"
      ]
     },
     "metadata": {},
     "output_type": "display_data"
    }
   ],
   "source": [
    "assert (\n",
    "    EQTL_MODEL is not None and len(EQTL_MODEL) > 0\n",
    "), \"A prediction/eQTL model must be given\"\n",
    "\n",
    "EQTL_MODEL_FILES_PREFIX = conf.PHENOMEXCAN[\"PREDICTION_MODELS\"][f\"{EQTL_MODEL}_PREFIX\"]\n",
    "display(f\"eQTL model: {EQTL_MODEL}) / {EQTL_MODEL_FILES_PREFIX}\")"
   ]
  },
  {
   "cell_type": "code",
   "execution_count": 8,
   "id": "552a7f63-a18c-4d3e-bb6a-94f99b431291",
   "metadata": {
    "execution": {
     "iopub.execute_input": "2022-11-29T22:22:32.957105Z",
     "iopub.status.busy": "2022-11-29T22:22:32.956646Z",
     "iopub.status.idle": "2022-11-29T22:22:32.982454Z",
     "shell.execute_reply": "2022-11-29T22:22:32.981934Z"
    },
    "papermill": {
     "duration": 0.042168,
     "end_time": "2022-11-29T22:22:32.984443",
     "exception": false,
     "start_time": "2022-11-29T22:22:32.942275",
     "status": "completed"
    },
    "tags": []
   },
   "outputs": [
    {
     "data": {
      "text/plain": [
       "'S-MultiXcan condition number: 30'"
      ]
     },
     "metadata": {},
     "output_type": "display_data"
    }
   ],
   "source": [
    "assert (\n",
    "    SMULTIXCAN_CONDITION_NUMBER is not None and SMULTIXCAN_CONDITION_NUMBER > 0\n",
    "), \"The S-MultiXcan condition number (positive integer) must be given\"\n",
    "\n",
    "display(f\"S-MultiXcan condition number: {SMULTIXCAN_CONDITION_NUMBER}\")"
   ]
  },
  {
   "cell_type": "code",
   "execution_count": 9,
   "id": "f34a336f-548e-4afe-8955-90eaea4f42c6",
   "metadata": {
    "execution": {
     "iopub.execute_input": "2022-11-29T22:22:33.006620Z",
     "iopub.status.busy": "2022-11-29T22:22:33.006089Z",
     "iopub.status.idle": "2022-11-29T22:22:33.031652Z",
     "shell.execute_reply": "2022-11-29T22:22:33.031124Z"
    },
    "papermill": {
     "duration": 0.035397,
     "end_time": "2022-11-29T22:22:33.033626",
     "exception": false,
     "start_time": "2022-11-29T22:22:32.998229",
     "status": "completed"
    },
    "tags": []
   },
   "outputs": [
    {
     "data": {
      "text/plain": [
       "'Working on chromosome 5'"
      ]
     },
     "metadata": {},
     "output_type": "display_data"
    }
   ],
   "source": [
    "assert CHROMOSOME is not None and (\n",
    "    1 <= CHROMOSOME <= 22\n",
    "), \"You have to select one chromosome (format: number between 1 and 22)\"\n",
    "\n",
    "# CHROMOSOME = str(CHROMOSOME)\n",
    "display(f\"Working on chromosome {CHROMOSOME}\")"
   ]
  },
  {
   "cell_type": "code",
   "execution_count": 10,
   "id": "ab8e96e8-06b5-4363-9dcd-dc4d78cc27f7",
   "metadata": {
    "execution": {
     "iopub.execute_input": "2022-11-29T22:22:33.062912Z",
     "iopub.status.busy": "2022-11-29T22:22:33.062442Z",
     "iopub.status.idle": "2022-11-29T22:22:33.087840Z",
     "shell.execute_reply": "2022-11-29T22:22:33.087282Z"
    },
    "papermill": {
     "duration": 0.041488,
     "end_time": "2022-11-29T22:22:33.089295",
     "exception": false,
     "start_time": "2022-11-29T22:22:33.047807",
     "status": "completed"
    },
    "tags": []
   },
   "outputs": [
    {
     "data": {
      "text/plain": [
       "'Compute correlation within distance False'"
      ]
     },
     "metadata": {},
     "output_type": "display_data"
    }
   ],
   "source": [
    "display(f\"Compute correlation within distance {COMPUTE_CORRELATIONS_WITHIN_DISTANCE}\")"
   ]
  },
  {
   "cell_type": "code",
   "execution_count": 11,
   "id": "b393b698-77e3-4ba2-8ac1-e14d51aa988f",
   "metadata": {
    "execution": {
     "iopub.execute_input": "2022-11-29T22:22:33.109699Z",
     "iopub.status.busy": "2022-11-29T22:22:33.109263Z",
     "iopub.status.idle": "2022-11-29T22:22:33.135236Z",
     "shell.execute_reply": "2022-11-29T22:22:33.134569Z"
    },
    "papermill": {
     "duration": 0.037956,
     "end_time": "2022-11-29T22:22:33.136716",
     "exception": false,
     "start_time": "2022-11-29T22:22:33.098760",
     "status": "completed"
    },
    "tags": []
   },
   "outputs": [
    {
     "data": {
      "text/plain": [
       "'Using output dir base: /opt/data/projects/asthma-copd/results/gls_phenoplier/gene_corrs/asthma_only'"
      ]
     },
     "metadata": {},
     "output_type": "display_data"
    }
   ],
   "source": [
    "assert (\n",
    "    OUTPUT_DIR_BASE is not None and len(OUTPUT_DIR_BASE) > 0\n",
    "), \"Output directory path must be given\"\n",
    "\n",
    "OUTPUT_DIR_BASE = (\n",
    "    Path(OUTPUT_DIR_BASE)\n",
    "    / \"gene_corrs\"\n",
    "    / COHORT_NAME\n",
    "    # / REFERENCE_PANEL.lower()\n",
    "    # / EQTL_MODEL.lower()\n",
    ").resolve()\n",
    "\n",
    "OUTPUT_DIR_BASE.mkdir(parents=True, exist_ok=True)\n",
    "\n",
    "display(f\"Using output dir base: {OUTPUT_DIR_BASE}\")"
   ]
  },
  {
   "cell_type": "markdown",
   "id": "d2ba085e",
   "metadata": {
    "papermill": {
     "duration": 0.009365,
     "end_time": "2022-11-29T22:22:33.155747",
     "exception": false,
     "start_time": "2022-11-29T22:22:33.146382",
     "status": "completed"
    },
    "tags": []
   },
   "source": [
    "# Load data"
   ]
  },
  {
   "cell_type": "markdown",
   "id": "7dcb8db7",
   "metadata": {
    "papermill": {
     "duration": 0.009716,
     "end_time": "2022-11-29T22:22:33.174877",
     "exception": false,
     "start_time": "2022-11-29T22:22:33.165161",
     "status": "completed"
    },
    "tags": []
   },
   "source": [
    "## GWAS variants"
   ]
  },
  {
   "cell_type": "code",
   "execution_count": 12,
   "id": "29434c4e-8cd3-4b9b-82e4-b5a251d9dd19",
   "metadata": {
    "execution": {
     "iopub.execute_input": "2022-11-29T22:22:33.193581Z",
     "iopub.status.busy": "2022-11-29T22:22:33.193218Z",
     "iopub.status.idle": "2022-11-29T22:22:35.475077Z",
     "shell.execute_reply": "2022-11-29T22:22:35.474596Z"
    },
    "papermill": {
     "duration": 2.292784,
     "end_time": "2022-11-29T22:22:35.477029",
     "exception": false,
     "start_time": "2022-11-29T22:22:33.184245",
     "status": "completed"
    },
    "tags": []
   },
   "outputs": [],
   "source": [
    "with open(OUTPUT_DIR_BASE / \"gwas_variant_ids.pkl\", \"rb\") as handle:\n",
    "    gwas_variants_ids_set = pickle.load(handle)"
   ]
  },
  {
   "cell_type": "code",
   "execution_count": 13,
   "id": "b9d9dec2-4a76-4bf9-bde2-e24c95acb8a0",
   "metadata": {
    "execution": {
     "iopub.execute_input": "2022-11-29T22:22:35.497687Z",
     "iopub.status.busy": "2022-11-29T22:22:35.497571Z",
     "iopub.status.idle": "2022-11-29T22:22:35.512074Z",
     "shell.execute_reply": "2022-11-29T22:22:35.511704Z"
    },
    "papermill": {
     "duration": 0.026848,
     "end_time": "2022-11-29T22:22:35.513626",
     "exception": false,
     "start_time": "2022-11-29T22:22:35.486778",
     "status": "completed"
    },
    "tags": []
   },
   "outputs": [
    {
     "data": {
      "text/plain": [
       "8578486"
      ]
     },
     "execution_count": 13,
     "metadata": {},
     "output_type": "execute_result"
    }
   ],
   "source": [
    "len(gwas_variants_ids_set)"
   ]
  },
  {
   "cell_type": "code",
   "execution_count": 14,
   "id": "4235b06a-6034-4ee4-a0a3-2ae35d122418",
   "metadata": {
    "execution": {
     "iopub.execute_input": "2022-11-29T22:22:35.533765Z",
     "iopub.status.busy": "2022-11-29T22:22:35.533586Z",
     "iopub.status.idle": "2022-11-29T22:22:36.059397Z",
     "shell.execute_reply": "2022-11-29T22:22:36.058978Z"
    },
    "papermill": {
     "duration": 0.537604,
     "end_time": "2022-11-29T22:22:36.060941",
     "exception": false,
     "start_time": "2022-11-29T22:22:35.523337",
     "status": "completed"
    },
    "tags": []
   },
   "outputs": [
    {
     "data": {
      "text/plain": [
       "['chr17_75569181_T_A_b38',\n",
       " 'chr7_40849335_T_C_b38',\n",
       " 'chr10_66007376_A_C_b38',\n",
       " 'chr9_6229417_G_A_b38',\n",
       " 'chr4_168114653_T_C_b38']"
      ]
     },
     "execution_count": 14,
     "metadata": {},
     "output_type": "execute_result"
    }
   ],
   "source": [
    "list(gwas_variants_ids_set)[:5]"
   ]
  },
  {
   "cell_type": "markdown",
   "id": "07866999-2305-41f9-a144-e69c9122c212",
   "metadata": {
    "papermill": {
     "duration": 0.009941,
     "end_time": "2022-11-29T22:22:36.080868",
     "exception": false,
     "start_time": "2022-11-29T22:22:36.070927",
     "status": "completed"
    },
    "tags": []
   },
   "source": [
    "## S-PrediXcan tissue models"
   ]
  },
  {
   "cell_type": "code",
   "execution_count": 15,
   "id": "780611d9-77c8-405f-90a4-f271f7b09397",
   "metadata": {
    "execution": {
     "iopub.execute_input": "2022-11-29T22:22:36.103204Z",
     "iopub.status.busy": "2022-11-29T22:22:36.102656Z",
     "iopub.status.idle": "2022-11-29T22:22:36.891237Z",
     "shell.execute_reply": "2022-11-29T22:22:36.890786Z"
    },
    "papermill": {
     "duration": 0.801645,
     "end_time": "2022-11-29T22:22:36.893051",
     "exception": false,
     "start_time": "2022-11-29T22:22:36.091406",
     "status": "completed"
    },
    "tags": []
   },
   "outputs": [],
   "source": [
    "spredixcan_genes_models = pd.read_pickle(OUTPUT_DIR_BASE / \"gene_tissues.pkl\")"
   ]
  },
  {
   "cell_type": "code",
   "execution_count": 16,
   "id": "726dd1f6-9557-4225-91fa-b3b879ea96e1",
   "metadata": {
    "execution": {
     "iopub.execute_input": "2022-11-29T22:22:36.915385Z",
     "iopub.status.busy": "2022-11-29T22:22:36.915202Z",
     "iopub.status.idle": "2022-11-29T22:22:36.930721Z",
     "shell.execute_reply": "2022-11-29T22:22:36.930361Z"
    },
    "papermill": {
     "duration": 0.028322,
     "end_time": "2022-11-29T22:22:36.932197",
     "exception": false,
     "start_time": "2022-11-29T22:22:36.903875",
     "status": "completed"
    },
    "tags": []
   },
   "outputs": [
    {
     "data": {
      "text/plain": [
       "(6443, 5)"
      ]
     },
     "execution_count": 16,
     "metadata": {},
     "output_type": "execute_result"
    }
   ],
   "source": [
    "spredixcan_genes_models.shape"
   ]
  },
  {
   "cell_type": "code",
   "execution_count": 17,
   "id": "944a1b48-222c-4eb0-b252-b9de2cbca215",
   "metadata": {
    "execution": {
     "iopub.execute_input": "2022-11-29T22:22:36.953312Z",
     "iopub.status.busy": "2022-11-29T22:22:36.952850Z",
     "iopub.status.idle": "2022-11-29T22:22:36.982096Z",
     "shell.execute_reply": "2022-11-29T22:22:36.981592Z"
    },
    "papermill": {
     "duration": 0.041154,
     "end_time": "2022-11-29T22:22:36.983513",
     "exception": false,
     "start_time": "2022-11-29T22:22:36.942359",
     "status": "completed"
    },
    "tags": []
   },
   "outputs": [
    {
     "data": {
      "text/html": [
       "<div>\n",
       "<style scoped>\n",
       "    .dataframe tbody tr th:only-of-type {\n",
       "        vertical-align: middle;\n",
       "    }\n",
       "\n",
       "    .dataframe tbody tr th {\n",
       "        vertical-align: top;\n",
       "    }\n",
       "\n",
       "    .dataframe thead th {\n",
       "        text-align: right;\n",
       "    }\n",
       "</style>\n",
       "<table border=\"1\" class=\"dataframe\">\n",
       "  <thead>\n",
       "    <tr style=\"text-align: right;\">\n",
       "      <th></th>\n",
       "      <th>gene_name</th>\n",
       "      <th>tissue</th>\n",
       "      <th>n_tissues</th>\n",
       "      <th>n_snps_used_sum</th>\n",
       "      <th>n_snps_in_model_sum</th>\n",
       "    </tr>\n",
       "    <tr>\n",
       "      <th>gene_id</th>\n",
       "      <th></th>\n",
       "      <th></th>\n",
       "      <th></th>\n",
       "      <th></th>\n",
       "      <th></th>\n",
       "    </tr>\n",
       "  </thead>\n",
       "  <tbody>\n",
       "    <tr>\n",
       "      <th>ENSG00000000419</th>\n",
       "      <td>DPM1</td>\n",
       "      <td>(Brain_Hypothalamus, Brain_Substantia_nigra)</td>\n",
       "      <td>2</td>\n",
       "      <td>2</td>\n",
       "      <td>2</td>\n",
       "    </tr>\n",
       "    <tr>\n",
       "      <th>ENSG00000000938</th>\n",
       "      <td>FGR</td>\n",
       "      <td>(Cells_EBV-transformed_lymphocytes, Whole_Bloo...</td>\n",
       "      <td>36</td>\n",
       "      <td>40</td>\n",
       "      <td>40</td>\n",
       "    </tr>\n",
       "    <tr>\n",
       "      <th>ENSG00000000971</th>\n",
       "      <td>CFH</td>\n",
       "      <td>(Whole_Blood, Artery_Coronary, Brain_Putamen_b...</td>\n",
       "      <td>34</td>\n",
       "      <td>44</td>\n",
       "      <td>44</td>\n",
       "    </tr>\n",
       "    <tr>\n",
       "      <th>ENSG00000001084</th>\n",
       "      <td>GCLC</td>\n",
       "      <td>(Cells_EBV-transformed_lymphocytes, Whole_Bloo...</td>\n",
       "      <td>32</td>\n",
       "      <td>46</td>\n",
       "      <td>46</td>\n",
       "    </tr>\n",
       "    <tr>\n",
       "      <th>ENSG00000001167</th>\n",
       "      <td>NFYA</td>\n",
       "      <td>(Whole_Blood, Adrenal_Gland, Adipose_Visceral_...</td>\n",
       "      <td>40</td>\n",
       "      <td>47</td>\n",
       "      <td>48</td>\n",
       "    </tr>\n",
       "  </tbody>\n",
       "</table>\n",
       "</div>"
      ],
      "text/plain": [
       "                gene_name                                             tissue  \\\n",
       "gene_id                                                                        \n",
       "ENSG00000000419      DPM1       (Brain_Hypothalamus, Brain_Substantia_nigra)   \n",
       "ENSG00000000938       FGR  (Cells_EBV-transformed_lymphocytes, Whole_Bloo...   \n",
       "ENSG00000000971       CFH  (Whole_Blood, Artery_Coronary, Brain_Putamen_b...   \n",
       "ENSG00000001084      GCLC  (Cells_EBV-transformed_lymphocytes, Whole_Bloo...   \n",
       "ENSG00000001167      NFYA  (Whole_Blood, Adrenal_Gland, Adipose_Visceral_...   \n",
       "\n",
       "                 n_tissues  n_snps_used_sum  n_snps_in_model_sum  \n",
       "gene_id                                                           \n",
       "ENSG00000000419          2                2                    2  \n",
       "ENSG00000000938         36               40                   40  \n",
       "ENSG00000000971         34               44                   44  \n",
       "ENSG00000001084         32               46                   46  \n",
       "ENSG00000001167         40               47                   48  "
      ]
     },
     "execution_count": 17,
     "metadata": {},
     "output_type": "execute_result"
    }
   ],
   "source": [
    "spredixcan_genes_models.head()"
   ]
  },
  {
   "cell_type": "code",
   "execution_count": 18,
   "id": "d1c11bb1-be0b-4f40-b360-633d6827109f",
   "metadata": {
    "execution": {
     "iopub.execute_input": "2022-11-29T22:22:37.004935Z",
     "iopub.status.busy": "2022-11-29T22:22:37.004423Z",
     "iopub.status.idle": "2022-11-29T22:22:37.027677Z",
     "shell.execute_reply": "2022-11-29T22:22:37.027151Z"
    },
    "papermill": {
     "duration": 0.035672,
     "end_time": "2022-11-29T22:22:37.029318",
     "exception": false,
     "start_time": "2022-11-29T22:22:36.993646",
     "status": "completed"
    },
    "tags": []
   },
   "outputs": [],
   "source": [
    "assert spredixcan_genes_models.index.is_unique"
   ]
  },
  {
   "cell_type": "markdown",
   "id": "a5b5092c-a13e-47c4-a92a-480fcc08f3ae",
   "metadata": {
    "papermill": {
     "duration": 0.00992,
     "end_time": "2022-11-29T22:22:37.049672",
     "exception": false,
     "start_time": "2022-11-29T22:22:37.039752",
     "status": "completed"
    },
    "tags": []
   },
   "source": [
    "## Gene info"
   ]
  },
  {
   "cell_type": "code",
   "execution_count": 19,
   "id": "7d6bb224-88e9-4358-ac10-43a41d92cdad",
   "metadata": {
    "execution": {
     "iopub.execute_input": "2022-11-29T22:22:37.071575Z",
     "iopub.status.busy": "2022-11-29T22:22:37.071201Z",
     "iopub.status.idle": "2022-11-29T22:22:37.098568Z",
     "shell.execute_reply": "2022-11-29T22:22:37.098024Z"
    },
    "papermill": {
     "duration": 0.040203,
     "end_time": "2022-11-29T22:22:37.100219",
     "exception": false,
     "start_time": "2022-11-29T22:22:37.060016",
     "status": "completed"
    },
    "tags": []
   },
   "outputs": [],
   "source": [
    "genes_info = pd.read_pickle(OUTPUT_DIR_BASE / \"genes_info.pkl\")"
   ]
  },
  {
   "cell_type": "code",
   "execution_count": 20,
   "id": "9e32abfa-546d-483e-8c18-d526e9e05903",
   "metadata": {
    "execution": {
     "iopub.execute_input": "2022-11-29T22:22:37.122054Z",
     "iopub.status.busy": "2022-11-29T22:22:37.121679Z",
     "iopub.status.idle": "2022-11-29T22:22:37.145412Z",
     "shell.execute_reply": "2022-11-29T22:22:37.144734Z"
    },
    "papermill": {
     "duration": 0.03594,
     "end_time": "2022-11-29T22:22:37.146816",
     "exception": false,
     "start_time": "2022-11-29T22:22:37.110876",
     "status": "completed"
    },
    "tags": []
   },
   "outputs": [
    {
     "data": {
      "text/plain": [
       "(6443, 7)"
      ]
     },
     "execution_count": 20,
     "metadata": {},
     "output_type": "execute_result"
    }
   ],
   "source": [
    "genes_info.shape"
   ]
  },
  {
   "cell_type": "code",
   "execution_count": 21,
   "id": "d16c3e92-85ec-468a-9a56-e25a9774a1cb",
   "metadata": {
    "execution": {
     "iopub.execute_input": "2022-11-29T22:22:37.168790Z",
     "iopub.status.busy": "2022-11-29T22:22:37.168447Z",
     "iopub.status.idle": "2022-11-29T22:22:37.197562Z",
     "shell.execute_reply": "2022-11-29T22:22:37.197000Z"
    },
    "papermill": {
     "duration": 0.041882,
     "end_time": "2022-11-29T22:22:37.199009",
     "exception": false,
     "start_time": "2022-11-29T22:22:37.157127",
     "status": "completed"
    },
    "tags": []
   },
   "outputs": [
    {
     "data": {
      "text/html": [
       "<div>\n",
       "<style scoped>\n",
       "    .dataframe tbody tr th:only-of-type {\n",
       "        vertical-align: middle;\n",
       "    }\n",
       "\n",
       "    .dataframe tbody tr th {\n",
       "        vertical-align: top;\n",
       "    }\n",
       "\n",
       "    .dataframe thead th {\n",
       "        text-align: right;\n",
       "    }\n",
       "</style>\n",
       "<table border=\"1\" class=\"dataframe\">\n",
       "  <thead>\n",
       "    <tr style=\"text-align: right;\">\n",
       "      <th></th>\n",
       "      <th>name</th>\n",
       "      <th>id</th>\n",
       "      <th>chr</th>\n",
       "      <th>band</th>\n",
       "      <th>start_position</th>\n",
       "      <th>end_position</th>\n",
       "      <th>gene_length</th>\n",
       "    </tr>\n",
       "  </thead>\n",
       "  <tbody>\n",
       "    <tr>\n",
       "      <th>0</th>\n",
       "      <td>UBE4B</td>\n",
       "      <td>ENSG00000130939</td>\n",
       "      <td>1</td>\n",
       "      <td>1p36.22</td>\n",
       "      <td>10032832</td>\n",
       "      <td>10181239</td>\n",
       "      <td>148407</td>\n",
       "    </tr>\n",
       "    <tr>\n",
       "      <th>1</th>\n",
       "      <td>STX18</td>\n",
       "      <td>ENSG00000168818</td>\n",
       "      <td>4</td>\n",
       "      <td>4p16.2</td>\n",
       "      <td>4415742</td>\n",
       "      <td>4542346</td>\n",
       "      <td>126604</td>\n",
       "    </tr>\n",
       "    <tr>\n",
       "      <th>2</th>\n",
       "      <td>DNM2</td>\n",
       "      <td>ENSG00000079805</td>\n",
       "      <td>19</td>\n",
       "      <td>19p13.2</td>\n",
       "      <td>10718079</td>\n",
       "      <td>10833488</td>\n",
       "      <td>115409</td>\n",
       "    </tr>\n",
       "    <tr>\n",
       "      <th>3</th>\n",
       "      <td>PLD1</td>\n",
       "      <td>ENSG00000075651</td>\n",
       "      <td>3</td>\n",
       "      <td>3q26.31</td>\n",
       "      <td>171600404</td>\n",
       "      <td>171810950</td>\n",
       "      <td>210546</td>\n",
       "    </tr>\n",
       "    <tr>\n",
       "      <th>4</th>\n",
       "      <td>ANKRD55</td>\n",
       "      <td>ENSG00000164512</td>\n",
       "      <td>5</td>\n",
       "      <td>5q11.2</td>\n",
       "      <td>56099680</td>\n",
       "      <td>56233330</td>\n",
       "      <td>133650</td>\n",
       "    </tr>\n",
       "  </tbody>\n",
       "</table>\n",
       "</div>"
      ],
      "text/plain": [
       "      name               id  chr     band  start_position  end_position  \\\n",
       "0    UBE4B  ENSG00000130939    1  1p36.22        10032832      10181239   \n",
       "1    STX18  ENSG00000168818    4   4p16.2         4415742       4542346   \n",
       "2     DNM2  ENSG00000079805   19  19p13.2        10718079      10833488   \n",
       "3     PLD1  ENSG00000075651    3  3q26.31       171600404     171810950   \n",
       "4  ANKRD55  ENSG00000164512    5   5q11.2        56099680      56233330   \n",
       "\n",
       "   gene_length  \n",
       "0       148407  \n",
       "1       126604  \n",
       "2       115409  \n",
       "3       210546  \n",
       "4       133650  "
      ]
     },
     "execution_count": 21,
     "metadata": {},
     "output_type": "execute_result"
    }
   ],
   "source": [
    "genes_info.head()"
   ]
  },
  {
   "cell_type": "markdown",
   "id": "d3843e06",
   "metadata": {
    "papermill": {
     "duration": 0.010193,
     "end_time": "2022-11-29T22:22:37.219754",
     "exception": false,
     "start_time": "2022-11-29T22:22:37.209561",
     "status": "completed"
    },
    "tags": []
   },
   "source": [
    "# Compute correlations"
   ]
  },
  {
   "cell_type": "code",
   "execution_count": 22,
   "id": "cb859c15-d1f3-4006-a74c-2b83c0db9611",
   "metadata": {
    "execution": {
     "iopub.execute_input": "2022-11-29T22:22:37.241939Z",
     "iopub.status.busy": "2022-11-29T22:22:37.241690Z",
     "iopub.status.idle": "2022-11-29T22:22:37.263173Z",
     "shell.execute_reply": "2022-11-29T22:22:37.262649Z"
    },
    "papermill": {
     "duration": 0.034276,
     "end_time": "2022-11-29T22:22:37.264713",
     "exception": false,
     "start_time": "2022-11-29T22:22:37.230437",
     "status": "completed"
    },
    "tags": []
   },
   "outputs": [
    {
     "data": {
      "text/plain": [
       "PosixPath('/opt/data/projects/asthma-copd/results/gls_phenoplier/gene_corrs/asthma_only/by_chr/gene_corrs-chr5.pkl')"
      ]
     },
     "metadata": {},
     "output_type": "display_data"
    }
   ],
   "source": [
    "output_dir = OUTPUT_DIR_BASE / \"by_chr\"\n",
    "output_dir.mkdir(exist_ok=True, parents=True)\n",
    "output_file = output_dir / f\"gene_corrs-chr{CHROMOSOME}.pkl\"\n",
    "display(output_file)"
   ]
  },
  {
   "cell_type": "code",
   "execution_count": 23,
   "id": "aa674fe4-6794-4eed-98fa-32b39d1d4ace",
   "metadata": {
    "execution": {
     "iopub.execute_input": "2022-11-29T22:22:37.287981Z",
     "iopub.status.busy": "2022-11-29T22:22:37.287258Z",
     "iopub.status.idle": "2022-11-29T22:22:37.313453Z",
     "shell.execute_reply": "2022-11-29T22:22:37.312795Z"
    },
    "papermill": {
     "duration": 0.039639,
     "end_time": "2022-11-29T22:22:37.315192",
     "exception": false,
     "start_time": "2022-11-29T22:22:37.275553",
     "status": "completed"
    },
    "tags": []
   },
   "outputs": [],
   "source": [
    "warnings.filterwarnings(\"error\")"
   ]
  },
  {
   "cell_type": "code",
   "execution_count": 24,
   "id": "44d5450b-3baf-43f1-9e2e-4b06f1a785f8",
   "metadata": {
    "execution": {
     "iopub.execute_input": "2022-11-29T22:22:37.339175Z",
     "iopub.status.busy": "2022-11-29T22:22:37.338465Z",
     "iopub.status.idle": "2022-11-29T22:22:37.371771Z",
     "shell.execute_reply": "2022-11-29T22:22:37.371166Z"
    },
    "papermill": {
     "duration": 0.046773,
     "end_time": "2022-11-29T22:22:37.373514",
     "exception": false,
     "start_time": "2022-11-29T22:22:37.326741",
     "status": "completed"
    },
    "tags": []
   },
   "outputs": [],
   "source": [
    "# standard checks\n",
    "all_chrs = genes_info[\"chr\"].dropna().unique()\n",
    "assert all_chrs.shape[0] == 22\n",
    "\n",
    "# select chromosome given by the user\n",
    "assert CHROMOSOME in all_chrs"
   ]
  },
  {
   "cell_type": "code",
   "execution_count": 25,
   "id": "2d7c043c-92a7-4d35-991b-fa69ac1e0268",
   "metadata": {
    "execution": {
     "iopub.execute_input": "2022-11-29T22:22:37.397431Z",
     "iopub.status.busy": "2022-11-29T22:22:37.396816Z",
     "iopub.status.idle": "2022-11-29T22:22:37.429850Z",
     "shell.execute_reply": "2022-11-29T22:22:37.429245Z"
    },
    "papermill": {
     "duration": 0.046603,
     "end_time": "2022-11-29T22:22:37.431320",
     "exception": false,
     "start_time": "2022-11-29T22:22:37.384717",
     "status": "completed"
    },
    "tags": []
   },
   "outputs": [
    {
     "name": "stdout",
     "output_type": "stream",
     "text": [
      "Number of genes in chromosome: 305\n"
     ]
    }
   ],
   "source": [
    "# run only on the chromosome specified\n",
    "all_chrs = [CHROMOSOME]\n",
    "genes_chr = genes_info[genes_info[\"chr\"] == CHROMOSOME]\n",
    "\n",
    "# For testing purposes\n",
    "# genes_chr = genes_chr.sample(n=20)\n",
    "\n",
    "print(f\"Number of genes in chromosome: {genes_chr.shape[0]}\", flush=True)"
   ]
  },
  {
   "cell_type": "code",
   "execution_count": 26,
   "id": "916015d8-2979-46d3-a9b9-1cf5a0932c6a",
   "metadata": {
    "execution": {
     "iopub.execute_input": "2022-11-29T22:22:37.456272Z",
     "iopub.status.busy": "2022-11-29T22:22:37.455668Z",
     "iopub.status.idle": "2022-11-29T22:22:37.482499Z",
     "shell.execute_reply": "2022-11-29T22:22:37.481843Z"
    },
    "papermill": {
     "duration": 0.040779,
     "end_time": "2022-11-29T22:22:37.484174",
     "exception": false,
     "start_time": "2022-11-29T22:22:37.443395",
     "status": "completed"
    },
    "tags": []
   },
   "outputs": [],
   "source": [
    "# sort genes by starting position to make visualizations better later\n",
    "genes_chr = genes_chr.sort_values(\"start_position\")"
   ]
  },
  {
   "cell_type": "code",
   "execution_count": 27,
   "id": "a38aa74a-8ad3-47f6-8ef9-56be0e011774",
   "metadata": {
    "execution": {
     "iopub.execute_input": "2022-11-29T22:22:37.507625Z",
     "iopub.status.busy": "2022-11-29T22:22:37.507377Z",
     "iopub.status.idle": "2022-11-29T22:22:37.531817Z",
     "shell.execute_reply": "2022-11-29T22:22:37.531273Z"
    },
    "papermill": {
     "duration": 0.038188,
     "end_time": "2022-11-29T22:22:37.533473",
     "exception": false,
     "start_time": "2022-11-29T22:22:37.495285",
     "status": "completed"
    },
    "tags": []
   },
   "outputs": [],
   "source": [
    "gene_chr_objs = [Gene(ensembl_id=gene_id) for gene_id in genes_chr[\"id\"]]"
   ]
  },
  {
   "cell_type": "code",
   "execution_count": 28,
   "id": "570f974f-13c3-42b6-ad3a-ce99ca885c1a",
   "metadata": {
    "execution": {
     "iopub.execute_input": "2022-11-29T22:22:37.557489Z",
     "iopub.status.busy": "2022-11-29T22:22:37.556969Z",
     "iopub.status.idle": "2022-11-29T22:22:37.580182Z",
     "shell.execute_reply": "2022-11-29T22:22:37.579656Z"
    },
    "papermill": {
     "duration": 0.03665,
     "end_time": "2022-11-29T22:22:37.581655",
     "exception": false,
     "start_time": "2022-11-29T22:22:37.545005",
     "status": "completed"
    },
    "tags": []
   },
   "outputs": [
    {
     "name": "stdout",
     "output_type": "stream",
     "text": [
      "Number of gene combinations: 46665\n"
     ]
    }
   ],
   "source": [
    "n = len(gene_chr_objs)\n",
    "# diagonal elements + upper triangular matrix\n",
    "n_comb = n + int(n * (n - 1) / 2.0)\n",
    "print(f\"Number of gene combinations: {n_comb}\", flush=True)"
   ]
  },
  {
   "cell_type": "code",
   "execution_count": 29,
   "id": "cdbb90a1",
   "metadata": {
    "execution": {
     "iopub.execute_input": "2022-11-29T22:22:37.605988Z",
     "iopub.status.busy": "2022-11-29T22:22:37.605497Z",
     "iopub.status.idle": "2022-11-29T22:54:30.767382Z",
     "shell.execute_reply": "2022-11-29T22:54:30.766868Z"
    },
    "papermill": {
     "duration": 1913.175438,
     "end_time": "2022-11-29T22:54:30.768825",
     "exception": false,
     "start_time": "2022-11-29T22:22:37.593387",
     "status": "completed"
    },
    "tags": []
   },
   "outputs": [
    {
     "name": "stderr",
     "output_type": "stream",
     "text": [
      "ENSG00000165810 / ENSG00000165810: 100%|██████████████████████| 46665/46665 [31:53<00:00, 24.39it/s]\n"
     ]
    },
    {
     "data": {
      "text/plain": [
       "PosixPath('/opt/data/projects/asthma-copd/results/gls_phenoplier/gene_corrs/asthma_only/by_chr/gene_corrs-chr5.pkl')"
      ]
     },
     "metadata": {},
     "output_type": "display_data"
    }
   ],
   "source": [
    "gene_corrs = []\n",
    "gene_corrs_data = np.full(\n",
    "    (n, n),\n",
    "    np.nan,\n",
    "    dtype=np.float64,\n",
    ")\n",
    "\n",
    "i = 0\n",
    "with tqdm(ncols=100, total=n_comb) as pbar:\n",
    "    for gene1_idx in range(0, len(gene_chr_objs)):\n",
    "        gene1_obj = gene_chr_objs[gene1_idx]\n",
    "        gene1_tissues = spredixcan_genes_models.loc[gene1_obj.ensembl_id, \"tissue\"]\n",
    "\n",
    "        for gene2_idx in range(gene1_idx, len(gene_chr_objs)):\n",
    "            gene2_obj = gene_chr_objs[gene2_idx]\n",
    "            gene2_tissues = spredixcan_genes_models.loc[gene2_obj.ensembl_id, \"tissue\"]\n",
    "\n",
    "            pbar.set_description(f\"{gene1_obj.ensembl_id} / {gene2_obj.ensembl_id}\")\n",
    "\n",
    "            try:\n",
    "                r = gene1_obj.get_ssm_correlation(\n",
    "                    other_gene=gene2_obj,\n",
    "                    tissues=gene1_tissues,\n",
    "                    other_tissues=gene2_tissues,\n",
    "                    snps_subset=gwas_variants_ids_set,\n",
    "                    condition_number=SMULTIXCAN_CONDITION_NUMBER,\n",
    "                    reference_panel=REFERENCE_PANEL,\n",
    "                    model_type=EQTL_MODEL,\n",
    "                    use_within_distance=COMPUTE_CORRELATIONS_WITHIN_DISTANCE,\n",
    "                )\n",
    "\n",
    "                if r is None:\n",
    "                    # if r is None, it's very likely because:\n",
    "                    #  * one of the genes has no prediction models\n",
    "                    #  * all the SNPs predictors for the gene are not present in the reference\n",
    "                    #    panel\n",
    "\n",
    "                    r = 0.0\n",
    "\n",
    "                gene_corrs.append(r)\n",
    "\n",
    "                gene_corrs_data[gene1_idx, gene2_idx] = r\n",
    "                gene_corrs_data[gene2_idx, gene1_idx] = r\n",
    "            except Warning as e:\n",
    "                if not DEBUG_MODE:\n",
    "                    raise e\n",
    "\n",
    "                print(\n",
    "                    f\"RuntimeWarning for genes {gene1_obj.ensembl_id} and {gene2_obj.ensembl_id}\",\n",
    "                    flush=True,\n",
    "                )\n",
    "                print(traceback.format_exc(), flush=True)\n",
    "\n",
    "                gene_corrs.append(np.nan)\n",
    "            except Exception as e:\n",
    "                if not DEBUG_MODE:\n",
    "                    raise e\n",
    "\n",
    "                print(\n",
    "                    f\"Exception for genes {gene1_obj.ensembl_id} and {gene2_obj.ensembl_id}\",\n",
    "                    flush=True,\n",
    "                )\n",
    "                print(traceback.format_exc(), flush=True)\n",
    "\n",
    "                gene_corrs.append(np.nan)\n",
    "\n",
    "            pbar.update(1)\n",
    "\n",
    "# create a pandas series\n",
    "gene_corrs_flat = pd.Series(gene_corrs)\n",
    "\n",
    "# save\n",
    "# FIXME: consider saving only the condenced matrix here. See here for\n",
    "# more details: https://github.com/greenelab/phenoplier/pull/38#discussion_r634600813\n",
    "# gene_corrs_data = squareform(np.array(gene_corrs, dtype=np.float64))\n",
    "# np.fill_diagonal(gene_corrs_data, 1.0)\n",
    "\n",
    "gene_chr_ids = [g.ensembl_id for g in gene_chr_objs]\n",
    "gene_corrs_df = pd.DataFrame(\n",
    "    data=gene_corrs_data,\n",
    "    index=gene_chr_ids,\n",
    "    columns=gene_chr_ids,\n",
    ")\n",
    "\n",
    "output_dir.mkdir(exist_ok=True, parents=True)\n",
    "display(output_file)\n",
    "\n",
    "gene_corrs_df.to_pickle(output_file)"
   ]
  },
  {
   "cell_type": "markdown",
   "id": "faa67b51-5373-470f-aa72-2ded53fa6dfe",
   "metadata": {
    "papermill": {
     "duration": 1.815813,
     "end_time": "2022-11-29T22:54:34.469862",
     "exception": false,
     "start_time": "2022-11-29T22:54:32.654049",
     "status": "completed"
    },
    "tags": []
   },
   "source": [
    "# Testing"
   ]
  },
  {
   "cell_type": "code",
   "execution_count": 30,
   "id": "14f7d046-4b55-4896-a56b-990127bcc388",
   "metadata": {
    "execution": {
     "iopub.execute_input": "2022-11-29T22:54:38.152994Z",
     "iopub.status.busy": "2022-11-29T22:54:38.152676Z",
     "iopub.status.idle": "2022-11-29T22:54:38.173908Z",
     "shell.execute_reply": "2022-11-29T22:54:38.173245Z"
    },
    "papermill": {
     "duration": 1.894598,
     "end_time": "2022-11-29T22:54:38.174878",
     "exception": false,
     "start_time": "2022-11-29T22:54:36.280280",
     "status": "completed"
    },
    "tags": []
   },
   "outputs": [
    {
     "data": {
      "text/plain": [
       "(305, 305)"
      ]
     },
     "execution_count": 30,
     "metadata": {},
     "output_type": "execute_result"
    }
   ],
   "source": [
    "gene_corrs_df.shape"
   ]
  },
  {
   "cell_type": "code",
   "execution_count": 31,
   "id": "c7d15414-3297-4537-a7c6-7588c0baeb75",
   "metadata": {
    "execution": {
     "iopub.execute_input": "2022-11-29T22:54:41.690020Z",
     "iopub.status.busy": "2022-11-29T22:54:41.689817Z",
     "iopub.status.idle": "2022-11-29T22:54:41.716442Z",
     "shell.execute_reply": "2022-11-29T22:54:41.715829Z"
    },
    "papermill": {
     "duration": 1.805985,
     "end_time": "2022-11-29T22:54:41.717312",
     "exception": false,
     "start_time": "2022-11-29T22:54:39.911327",
     "status": "completed"
    },
    "tags": []
   },
   "outputs": [
    {
     "data": {
      "text/html": [
       "<div>\n",
       "<style scoped>\n",
       "    .dataframe tbody tr th:only-of-type {\n",
       "        vertical-align: middle;\n",
       "    }\n",
       "\n",
       "    .dataframe tbody tr th {\n",
       "        vertical-align: top;\n",
       "    }\n",
       "\n",
       "    .dataframe thead th {\n",
       "        text-align: right;\n",
       "    }\n",
       "</style>\n",
       "<table border=\"1\" class=\"dataframe\">\n",
       "  <thead>\n",
       "    <tr style=\"text-align: right;\">\n",
       "      <th></th>\n",
       "      <th>ENSG00000073578</th>\n",
       "      <th>ENSG00000180104</th>\n",
       "      <th>ENSG00000066230</th>\n",
       "      <th>ENSG00000112877</th>\n",
       "      <th>ENSG00000113504</th>\n",
       "      <th>ENSG00000174358</th>\n",
       "      <th>ENSG00000164362</th>\n",
       "      <th>ENSG00000049656</th>\n",
       "      <th>ENSG00000153395</th>\n",
       "      <th>ENSG00000171421</th>\n",
       "      <th>...</th>\n",
       "      <th>ENSG00000161021</th>\n",
       "      <th>ENSG00000161013</th>\n",
       "      <th>ENSG00000161011</th>\n",
       "      <th>ENSG00000050748</th>\n",
       "      <th>ENSG00000131459</th>\n",
       "      <th>ENSG00000113300</th>\n",
       "      <th>ENSG00000037280</th>\n",
       "      <th>ENSG00000131446</th>\n",
       "      <th>ENSG00000113303</th>\n",
       "      <th>ENSG00000165810</th>\n",
       "    </tr>\n",
       "  </thead>\n",
       "  <tbody>\n",
       "    <tr>\n",
       "      <th>ENSG00000073578</th>\n",
       "      <td>1.000000</td>\n",
       "      <td>0.240815</td>\n",
       "      <td>0.161150</td>\n",
       "      <td>0.049611</td>\n",
       "      <td>0.015151</td>\n",
       "      <td>0.011679</td>\n",
       "      <td>0.008640</td>\n",
       "      <td>0.010104</td>\n",
       "      <td>0.012698</td>\n",
       "      <td>0.008122</td>\n",
       "      <td>...</td>\n",
       "      <td>0.008832</td>\n",
       "      <td>0.009874</td>\n",
       "      <td>0.010103</td>\n",
       "      <td>0.010862</td>\n",
       "      <td>0.014451</td>\n",
       "      <td>0.007847</td>\n",
       "      <td>0.011302</td>\n",
       "      <td>0.016045</td>\n",
       "      <td>0.012576</td>\n",
       "      <td>0.008547</td>\n",
       "    </tr>\n",
       "    <tr>\n",
       "      <th>ENSG00000180104</th>\n",
       "      <td>0.240815</td>\n",
       "      <td>1.000000</td>\n",
       "      <td>0.394044</td>\n",
       "      <td>0.092476</td>\n",
       "      <td>0.006065</td>\n",
       "      <td>0.010590</td>\n",
       "      <td>0.007414</td>\n",
       "      <td>0.004419</td>\n",
       "      <td>0.004101</td>\n",
       "      <td>0.006108</td>\n",
       "      <td>...</td>\n",
       "      <td>0.007530</td>\n",
       "      <td>0.002856</td>\n",
       "      <td>0.005054</td>\n",
       "      <td>0.007138</td>\n",
       "      <td>0.008508</td>\n",
       "      <td>0.005820</td>\n",
       "      <td>0.006728</td>\n",
       "      <td>0.006903</td>\n",
       "      <td>0.002946</td>\n",
       "      <td>0.004173</td>\n",
       "    </tr>\n",
       "    <tr>\n",
       "      <th>ENSG00000066230</th>\n",
       "      <td>0.161150</td>\n",
       "      <td>0.394044</td>\n",
       "      <td>1.000000</td>\n",
       "      <td>0.216369</td>\n",
       "      <td>0.012961</td>\n",
       "      <td>0.008745</td>\n",
       "      <td>0.006762</td>\n",
       "      <td>0.009393</td>\n",
       "      <td>0.012246</td>\n",
       "      <td>0.008238</td>\n",
       "      <td>...</td>\n",
       "      <td>0.007527</td>\n",
       "      <td>0.005530</td>\n",
       "      <td>0.008153</td>\n",
       "      <td>0.006234</td>\n",
       "      <td>0.008947</td>\n",
       "      <td>0.004306</td>\n",
       "      <td>0.007579</td>\n",
       "      <td>0.006736</td>\n",
       "      <td>0.002829</td>\n",
       "      <td>0.005606</td>\n",
       "    </tr>\n",
       "    <tr>\n",
       "      <th>ENSG00000112877</th>\n",
       "      <td>0.049611</td>\n",
       "      <td>0.092476</td>\n",
       "      <td>0.216369</td>\n",
       "      <td>1.000000</td>\n",
       "      <td>0.021994</td>\n",
       "      <td>0.007444</td>\n",
       "      <td>0.007431</td>\n",
       "      <td>0.008093</td>\n",
       "      <td>0.011573</td>\n",
       "      <td>0.003085</td>\n",
       "      <td>...</td>\n",
       "      <td>0.008217</td>\n",
       "      <td>0.007418</td>\n",
       "      <td>0.008980</td>\n",
       "      <td>0.009363</td>\n",
       "      <td>0.014036</td>\n",
       "      <td>0.009913</td>\n",
       "      <td>0.011692</td>\n",
       "      <td>0.009505</td>\n",
       "      <td>0.005459</td>\n",
       "      <td>0.005300</td>\n",
       "    </tr>\n",
       "    <tr>\n",
       "      <th>ENSG00000113504</th>\n",
       "      <td>0.015151</td>\n",
       "      <td>0.006065</td>\n",
       "      <td>0.012961</td>\n",
       "      <td>0.021994</td>\n",
       "      <td>1.000000</td>\n",
       "      <td>0.023247</td>\n",
       "      <td>0.009773</td>\n",
       "      <td>0.008319</td>\n",
       "      <td>0.114610</td>\n",
       "      <td>0.008152</td>\n",
       "      <td>...</td>\n",
       "      <td>0.011964</td>\n",
       "      <td>0.006446</td>\n",
       "      <td>0.007964</td>\n",
       "      <td>0.009621</td>\n",
       "      <td>0.011645</td>\n",
       "      <td>0.010967</td>\n",
       "      <td>0.013630</td>\n",
       "      <td>0.011021</td>\n",
       "      <td>0.007452</td>\n",
       "      <td>0.007947</td>\n",
       "    </tr>\n",
       "  </tbody>\n",
       "</table>\n",
       "<p>5 rows × 305 columns</p>\n",
       "</div>"
      ],
      "text/plain": [
       "                 ENSG00000073578  ENSG00000180104  ENSG00000066230  \\\n",
       "ENSG00000073578         1.000000         0.240815         0.161150   \n",
       "ENSG00000180104         0.240815         1.000000         0.394044   \n",
       "ENSG00000066230         0.161150         0.394044         1.000000   \n",
       "ENSG00000112877         0.049611         0.092476         0.216369   \n",
       "ENSG00000113504         0.015151         0.006065         0.012961   \n",
       "\n",
       "                 ENSG00000112877  ENSG00000113504  ENSG00000174358  \\\n",
       "ENSG00000073578         0.049611         0.015151         0.011679   \n",
       "ENSG00000180104         0.092476         0.006065         0.010590   \n",
       "ENSG00000066230         0.216369         0.012961         0.008745   \n",
       "ENSG00000112877         1.000000         0.021994         0.007444   \n",
       "ENSG00000113504         0.021994         1.000000         0.023247   \n",
       "\n",
       "                 ENSG00000164362  ENSG00000049656  ENSG00000153395  \\\n",
       "ENSG00000073578         0.008640         0.010104         0.012698   \n",
       "ENSG00000180104         0.007414         0.004419         0.004101   \n",
       "ENSG00000066230         0.006762         0.009393         0.012246   \n",
       "ENSG00000112877         0.007431         0.008093         0.011573   \n",
       "ENSG00000113504         0.009773         0.008319         0.114610   \n",
       "\n",
       "                 ENSG00000171421  ...  ENSG00000161021  ENSG00000161013  \\\n",
       "ENSG00000073578         0.008122  ...         0.008832         0.009874   \n",
       "ENSG00000180104         0.006108  ...         0.007530         0.002856   \n",
       "ENSG00000066230         0.008238  ...         0.007527         0.005530   \n",
       "ENSG00000112877         0.003085  ...         0.008217         0.007418   \n",
       "ENSG00000113504         0.008152  ...         0.011964         0.006446   \n",
       "\n",
       "                 ENSG00000161011  ENSG00000050748  ENSG00000131459  \\\n",
       "ENSG00000073578         0.010103         0.010862         0.014451   \n",
       "ENSG00000180104         0.005054         0.007138         0.008508   \n",
       "ENSG00000066230         0.008153         0.006234         0.008947   \n",
       "ENSG00000112877         0.008980         0.009363         0.014036   \n",
       "ENSG00000113504         0.007964         0.009621         0.011645   \n",
       "\n",
       "                 ENSG00000113300  ENSG00000037280  ENSG00000131446  \\\n",
       "ENSG00000073578         0.007847         0.011302         0.016045   \n",
       "ENSG00000180104         0.005820         0.006728         0.006903   \n",
       "ENSG00000066230         0.004306         0.007579         0.006736   \n",
       "ENSG00000112877         0.009913         0.011692         0.009505   \n",
       "ENSG00000113504         0.010967         0.013630         0.011021   \n",
       "\n",
       "                 ENSG00000113303  ENSG00000165810  \n",
       "ENSG00000073578         0.012576         0.008547  \n",
       "ENSG00000180104         0.002946         0.004173  \n",
       "ENSG00000066230         0.002829         0.005606  \n",
       "ENSG00000112877         0.005459         0.005300  \n",
       "ENSG00000113504         0.007452         0.007947  \n",
       "\n",
       "[5 rows x 305 columns]"
      ]
     },
     "execution_count": 31,
     "metadata": {},
     "output_type": "execute_result"
    }
   ],
   "source": [
    "gene_corrs_df.head()"
   ]
  },
  {
   "cell_type": "markdown",
   "id": "dad6603f-01c6-41fb-a6f6-241051207dd8",
   "metadata": {
    "papermill": {
     "duration": 1.78451,
     "end_time": "2022-11-29T22:54:45.275454",
     "exception": false,
     "start_time": "2022-11-29T22:54:43.490944",
     "status": "completed"
    },
    "tags": []
   },
   "source": [
    "## Standard checks and stats"
   ]
  },
  {
   "cell_type": "code",
   "execution_count": 32,
   "id": "286686af-1b7b-4440-8453-6bdcbd8de19c",
   "metadata": {
    "execution": {
     "iopub.execute_input": "2022-11-29T22:54:48.901210Z",
     "iopub.status.busy": "2022-11-29T22:54:48.900867Z",
     "iopub.status.idle": "2022-11-29T22:54:48.927196Z",
     "shell.execute_reply": "2022-11-29T22:54:48.926708Z"
    },
    "papermill": {
     "duration": 1.881343,
     "end_time": "2022-11-29T22:54:48.928107",
     "exception": false,
     "start_time": "2022-11-29T22:54:47.046764",
     "status": "completed"
    },
    "tags": []
   },
   "outputs": [],
   "source": [
    "assert not gene_corrs_df.isna().any().any()"
   ]
  },
  {
   "cell_type": "code",
   "execution_count": 33,
   "id": "00583efc-7068-4270-ad1e-4a418e91db96",
   "metadata": {
    "execution": {
     "iopub.execute_input": "2022-11-29T22:54:52.460816Z",
     "iopub.status.busy": "2022-11-29T22:54:52.460398Z",
     "iopub.status.idle": "2022-11-29T22:54:52.483276Z",
     "shell.execute_reply": "2022-11-29T22:54:52.482859Z"
    },
    "papermill": {
     "duration": 1.819133,
     "end_time": "2022-11-29T22:54:52.484045",
     "exception": false,
     "start_time": "2022-11-29T22:54:50.664912",
     "status": "completed"
    },
    "tags": []
   },
   "outputs": [
    {
     "data": {
      "text/plain": [
       "6.61778250206971e-09"
      ]
     },
     "metadata": {},
     "output_type": "display_data"
    }
   ],
   "source": [
    "_min_val = gene_corrs_df.min().min()\n",
    "display(_min_val)\n",
    "assert _min_val >= -0.05"
   ]
  },
  {
   "cell_type": "code",
   "execution_count": 34,
   "id": "d04fb2cf-1050-475b-b855-f5f7cc04092b",
   "metadata": {
    "execution": {
     "iopub.execute_input": "2022-11-29T22:54:56.069779Z",
     "iopub.status.busy": "2022-11-29T22:54:56.069388Z",
     "iopub.status.idle": "2022-11-29T22:54:56.095173Z",
     "shell.execute_reply": "2022-11-29T22:54:56.094535Z"
    },
    "papermill": {
     "duration": 1.818951,
     "end_time": "2022-11-29T22:54:56.096061",
     "exception": false,
     "start_time": "2022-11-29T22:54:54.277110",
     "status": "completed"
    },
    "tags": []
   },
   "outputs": [
    {
     "data": {
      "text/plain": [
       "1.0000000000000029"
      ]
     },
     "metadata": {},
     "output_type": "display_data"
    }
   ],
   "source": [
    "_max_val = gene_corrs_df.max().max()  # this captures the diagonal\n",
    "display(_max_val)\n",
    "assert _max_val <= 1.05"
   ]
  },
  {
   "cell_type": "code",
   "execution_count": 35,
   "id": "96d02c44-1fba-47be-8a93-8f2608420b9c",
   "metadata": {
    "execution": {
     "iopub.execute_input": "2022-11-29T22:54:59.724547Z",
     "iopub.status.busy": "2022-11-29T22:54:59.724109Z",
     "iopub.status.idle": "2022-11-29T22:54:59.746352Z",
     "shell.execute_reply": "2022-11-29T22:54:59.745802Z"
    },
    "papermill": {
     "duration": 1.879565,
     "end_time": "2022-11-29T22:54:59.747265",
     "exception": false,
     "start_time": "2022-11-29T22:54:57.867700",
     "status": "completed"
    },
    "tags": []
   },
   "outputs": [],
   "source": [
    "# check upper triangular values\n",
    "# assert len(gene_corrs) == int(genes_chr.shape[0] * (genes_chr.shape[0] - 1) / 2)"
   ]
  },
  {
   "cell_type": "code",
   "execution_count": 36,
   "id": "fe283586-c348-40e0-8841-f6d97bfb021c",
   "metadata": {
    "execution": {
     "iopub.execute_input": "2022-11-29T22:55:03.265608Z",
     "iopub.status.busy": "2022-11-29T22:55:03.264960Z",
     "iopub.status.idle": "2022-11-29T22:55:03.294520Z",
     "shell.execute_reply": "2022-11-29T22:55:03.293975Z"
    },
    "papermill": {
     "duration": 1.814858,
     "end_time": "2022-11-29T22:55:03.295356",
     "exception": false,
     "start_time": "2022-11-29T22:55:01.480498",
     "status": "completed"
    },
    "tags": []
   },
   "outputs": [
    {
     "data": {
      "text/plain": [
       "count    4.666500e+04\n",
       "mean     1.466208e-02\n",
       "std      8.530918e-02\n",
       "min      6.617783e-09\n",
       "25%      3.909075e-03\n",
       "50%      5.880928e-03\n",
       "75%      8.159102e-03\n",
       "max      1.000000e+00\n",
       "dtype: float64"
      ]
     },
     "execution_count": 36,
     "metadata": {},
     "output_type": "execute_result"
    }
   ],
   "source": [
    "gene_corrs_flat.describe()"
   ]
  },
  {
   "cell_type": "code",
   "execution_count": 37,
   "id": "b3815678-0f93-4b35-897b-a9d047a2aa78",
   "metadata": {
    "execution": {
     "iopub.execute_input": "2022-11-29T22:55:06.879773Z",
     "iopub.status.busy": "2022-11-29T22:55:06.879140Z",
     "iopub.status.idle": "2022-11-29T22:55:06.908578Z",
     "shell.execute_reply": "2022-11-29T22:55:06.908049Z"
    },
    "papermill": {
     "duration": 1.834461,
     "end_time": "2022-11-29T22:55:06.909422",
     "exception": false,
     "start_time": "2022-11-29T22:55:05.074961",
     "status": "completed"
    },
    "tags": []
   },
   "outputs": [
    {
     "data": {
      "text/plain": [
       "0.00    6.617783e-09\n",
       "0.05    1.561672e-03\n",
       "0.10    2.347379e-03\n",
       "0.15    2.935413e-03\n",
       "0.20    3.458431e-03\n",
       "0.25    3.909075e-03\n",
       "0.30    4.332066e-03\n",
       "0.35    4.729463e-03\n",
       "0.40    5.124599e-03\n",
       "0.45    5.486440e-03\n",
       "0.50    5.880928e-03\n",
       "0.55    6.286917e-03\n",
       "0.60    6.698838e-03\n",
       "0.65    7.144237e-03\n",
       "0.70    7.633163e-03\n",
       "0.75    8.159102e-03\n",
       "0.80    8.775430e-03\n",
       "0.85    9.538752e-03\n",
       "0.90    1.054609e-02\n",
       "0.95    1.231952e-02\n",
       "dtype: float64"
      ]
     },
     "metadata": {},
     "output_type": "display_data"
    }
   ],
   "source": [
    "gene_corrs_quantiles = gene_corrs_flat.quantile(np.arange(0, 1, 0.05))\n",
    "display(gene_corrs_quantiles)"
   ]
  },
  {
   "cell_type": "markdown",
   "id": "87134509-b145-4a10-8bc9-b7e914c2b0fa",
   "metadata": {
    "papermill": {
     "duration": 1.857952,
     "end_time": "2022-11-29T22:55:10.558735",
     "exception": false,
     "start_time": "2022-11-29T22:55:08.700783",
     "status": "completed"
    },
    "tags": []
   },
   "source": [
    "## Positive definiteness"
   ]
  },
  {
   "cell_type": "code",
   "execution_count": 38,
   "id": "07d9a9a1-a4f7-48aa-b916-6d42a8cc6186",
   "metadata": {
    "execution": {
     "iopub.execute_input": "2022-11-29T22:55:14.056910Z",
     "iopub.status.busy": "2022-11-29T22:55:14.056327Z",
     "iopub.status.idle": "2022-11-29T22:55:14.112782Z",
     "shell.execute_reply": "2022-11-29T22:55:14.112245Z"
    },
    "papermill": {
     "duration": 1.833617,
     "end_time": "2022-11-29T22:55:14.113870",
     "exception": false,
     "start_time": "2022-11-29T22:55:12.280253",
     "status": "completed"
    },
    "tags": []
   },
   "outputs": [
    {
     "data": {
      "text/plain": [
       "0"
      ]
     },
     "metadata": {},
     "output_type": "display_data"
    },
    {
     "data": {
      "text/plain": [
       "array([], dtype=float64)"
      ]
     },
     "metadata": {},
     "output_type": "display_data"
    }
   ],
   "source": [
    "# print negative eigenvalues\n",
    "eigs = np.linalg.eigvals(gene_corrs_df.to_numpy())\n",
    "display(len(eigs[eigs < 0]))\n",
    "display(eigs[eigs < 0])"
   ]
  },
  {
   "cell_type": "code",
   "execution_count": 39,
   "id": "6e218436-c3c5-4028-8c94-a4fa6260efce",
   "metadata": {
    "execution": {
     "iopub.execute_input": "2022-11-29T22:55:17.800732Z",
     "iopub.status.busy": "2022-11-29T22:55:17.800176Z",
     "iopub.status.idle": "2022-11-29T22:55:17.830408Z",
     "shell.execute_reply": "2022-11-29T22:55:17.829857Z"
    },
    "papermill": {
     "duration": 1.907739,
     "end_time": "2022-11-29T22:55:17.831230",
     "exception": false,
     "start_time": "2022-11-29T22:55:15.923491",
     "status": "completed"
    },
    "tags": []
   },
   "outputs": [
    {
     "name": "stdout",
     "output_type": "stream",
     "text": [
      "Works!\n"
     ]
    }
   ],
   "source": [
    "try:\n",
    "    chol_mat = np.linalg.cholesky(gene_corrs_df.to_numpy())\n",
    "    cov_inv = np.linalg.inv(chol_mat)\n",
    "    print(\"Works!\")\n",
    "except Exception as e:\n",
    "    print(f\"Cholesky decomposition failed: {str(e)}\")"
   ]
  },
  {
   "cell_type": "code",
   "execution_count": 40,
   "id": "dd8827fb-faf9-4c7c-9454-015e94752706",
   "metadata": {
    "execution": {
     "iopub.execute_input": "2022-11-29T22:55:21.747020Z",
     "iopub.status.busy": "2022-11-29T22:55:21.746494Z",
     "iopub.status.idle": "2022-11-29T22:55:21.776161Z",
     "shell.execute_reply": "2022-11-29T22:55:21.775607Z"
    },
    "papermill": {
     "duration": 2.029343,
     "end_time": "2022-11-29T22:55:21.777145",
     "exception": false,
     "start_time": "2022-11-29T22:55:19.747802",
     "status": "completed"
    },
    "tags": []
   },
   "outputs": [
    {
     "name": "stdout",
     "output_type": "stream",
     "text": [
      "Works!\n"
     ]
    }
   ],
   "source": [
    "try:\n",
    "    # decomposition used by statsmodels.GLS\n",
    "    cholsigmainv = np.linalg.cholesky(np.linalg.inv(gene_corrs_df.to_numpy())).T\n",
    "    print(\"Works!\")\n",
    "except Exception as e:\n",
    "    print(f\"Cholesky decomposition failed (statsmodels.GLS): {str(e)}\")"
   ]
  },
  {
   "cell_type": "markdown",
   "id": "8e60a080-edb2-4e9c-b2ef-22961693200c",
   "metadata": {
    "papermill": {
     "duration": 1.965727,
     "end_time": "2022-11-29T22:55:25.619211",
     "exception": false,
     "start_time": "2022-11-29T22:55:23.653484",
     "status": "completed"
    },
    "tags": []
   },
   "source": [
    "## Plot: distribution"
   ]
  },
  {
   "cell_type": "code",
   "execution_count": 41,
   "id": "8301126b-a7d4-4744-9c7d-f0f86eb6f54c",
   "metadata": {
    "execution": {
     "iopub.execute_input": "2022-11-29T22:55:29.466375Z",
     "iopub.status.busy": "2022-11-29T22:55:29.465835Z",
     "iopub.status.idle": "2022-11-29T22:55:35.734499Z",
     "shell.execute_reply": "2022-11-29T22:55:35.734093Z"
    },
    "papermill": {
     "duration": 8.177711,
     "end_time": "2022-11-29T22:55:35.735581",
     "exception": false,
     "start_time": "2022-11-29T22:55:27.557870",
     "status": "completed"
    },
    "tags": []
   },
   "outputs": [
    {
     "data": {
      "image/png": "[encoded data removed]",
      "text/plain": [
       "<Figure size 700x700 with 1 Axes>"
      ]
     },
     "metadata": {},
     "output_type": "display_data"
    }
   ],
   "source": [
    "with sns.plotting_context(\"paper\", font_scale=1.5):\n",
    "    g = sns.displot(gene_corrs_flat, kde=True, height=7)\n",
    "    g.ax.set_title(\n",
    "        f\"Distribution of gene correlation values in chromosome {CHROMOSOME}\"\n",
    "    )"
   ]
  },
  {
   "cell_type": "markdown",
   "id": "cbd52bca-d878-4a2f-b684-5c83aa3038d4",
   "metadata": {
    "papermill": {
     "duration": 2.011385,
     "end_time": "2022-11-29T22:55:39.712106",
     "exception": false,
     "start_time": "2022-11-29T22:55:37.700721",
     "status": "completed"
    },
    "tags": []
   },
   "source": [
    "## Plot: heatmap"
   ]
  },
  {
   "cell_type": "code",
   "execution_count": 42,
   "id": "d03fe63a-c7b2-4fb9-a53c-db362ce843c9",
   "metadata": {
    "execution": {
     "iopub.execute_input": "2022-11-29T22:55:43.252871Z",
     "iopub.status.busy": "2022-11-29T22:55:43.252323Z",
     "iopub.status.idle": "2022-11-29T22:55:43.271944Z",
     "shell.execute_reply": "2022-11-29T22:55:43.271488Z"
    },
    "papermill": {
     "duration": 1.8075,
     "end_time": "2022-11-29T22:55:43.272802",
     "exception": false,
     "start_time": "2022-11-29T22:55:41.465302",
     "status": "completed"
    },
    "tags": []
   },
   "outputs": [
    {
     "data": {
      "text/plain": [
       "'0.0 / 0.05'"
      ]
     },
     "metadata": {},
     "output_type": "display_data"
    }
   ],
   "source": [
    "vmin_val = min(0.00, gene_corrs_quantiles[0.10])\n",
    "vmax_val = max(0.05, gene_corrs_quantiles[0.90])\n",
    "display(f\"{vmin_val} / {vmax_val}\")"
   ]
  },
  {
   "cell_type": "code",
   "execution_count": 43,
   "id": "dc41b70b-5bcc-4d9e-9f33-a22c4a94dab5",
   "metadata": {
    "execution": {
     "iopub.execute_input": "2022-11-29T22:55:46.847213Z",
     "iopub.status.busy": "2022-11-29T22:55:46.846608Z",
     "iopub.status.idle": "2022-11-29T22:55:47.128738Z",
     "shell.execute_reply": "2022-11-29T22:55:47.128195Z"
    },
    "papermill": {
     "duration": 2.05656,
     "end_time": "2022-11-29T22:55:47.132137",
     "exception": false,
     "start_time": "2022-11-29T22:55:45.075577",
     "status": "completed"
    },
    "tags": []
   },
   "outputs": [
    {
     "data": {
      "text/plain": [
       "Text(0.5, 1.0, 'Gene correlations in chromosome 5')"
      ]
     },
     "execution_count": 43,
     "metadata": {},
     "output_type": "execute_result"
    },
    {
     "data": {
      "image/png": "[encoded data removed]",
      "text/plain": [
       "<Figure size 1000x1000 with 2 Axes>"
      ]
     },
     "metadata": {},
     "output_type": "display_data"
    }
   ],
   "source": [
    "f, ax = plt.subplots(figsize=(10, 10))\n",
    "sns.heatmap(\n",
    "    gene_corrs_df,\n",
    "    xticklabels=False,\n",
    "    yticklabels=False,\n",
    "    square=True,\n",
    "    vmin=vmin_val,\n",
    "    vmax=vmax_val,\n",
    "    cmap=\"rocket_r\",\n",
    "    ax=ax,\n",
    ")\n",
    "ax.set_title(f\"Gene correlations in chromosome {CHROMOSOME}\")"
   ]
  },
  {
   "cell_type": "code",
   "execution_count": null,
   "id": "b25e3ead",
   "metadata": {
    "papermill": {
     "duration": 1.965456,
     "end_time": "2022-11-29T22:55:50.946749",
     "exception": false,
     "start_time": "2022-11-29T22:55:48.981293",
     "status": "completed"
    },
    "tags": []
   },
   "outputs": [],
   "source": []
  }
 ],
 "metadata": {
  "jupytext": {
   "cell_metadata_filter": "all,-execution,-papermill,-trusted",
   "formats": "ipynb,py//py:percent"
  },
  "kernelspec": {
   "display_name": "Python 3 (ipykernel)",
   "language": "python",
   "name": "python3"
  },
  "language_info": {
   "codemirror_mode": {
    "name": "ipython",
    "version": 3
   },
   "file_extension": ".py",
   "mimetype": "text/x-python",
   "name": "python",
   "nbconvert_exporter": "python",
   "pygments_lexer": "ipython3",
   "version": "3.10.6"
  },
  "papermill": {
   "default_parameters": {},
   "duration": 2004.934696,
   "end_time": "2022-11-29T22:55:55.940114",
   "environment_variables": {},
   "exception": null,
   "input_path": "projects/asthma-copd/nbs/20_gene_corrs/10-gene_expr_correlations.ipynb",
   "output_path": "projects/asthma-copd/nbs/20_gene_corrs/gene_corrs/asthma_only/10-gene_expr_correlations-chr5.run.ipynb",
   "parameters": {
    "CHROMOSOME": 5,
    "COHORT_NAME": "asthma_only",
    "OUTPUT_DIR_BASE": "/opt/data/projects/asthma-copd/results/gls_phenoplier"
   },
   "start_time": "2022-11-29T22:22:31.005418",
   "version": "2.2.2"
  }
 },
 "nbformat": 4,
 "nbformat_minor": 5
}
