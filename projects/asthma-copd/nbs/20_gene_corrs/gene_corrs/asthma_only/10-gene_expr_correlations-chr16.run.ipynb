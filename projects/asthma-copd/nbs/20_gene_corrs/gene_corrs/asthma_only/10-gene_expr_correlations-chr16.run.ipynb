{
 "cells": [
  {
   "cell_type": "markdown",
   "id": "7a6632fb",
   "metadata": {
    "papermill": {
     "duration": 0.008419,
     "end_time": "2022-11-29T22:51:14.529178",
     "exception": false,
     "start_time": "2022-11-29T22:51:14.520759",
     "status": "completed"
    },
    "tags": []
   },
   "source": [
    "# Description"
   ]
  },
  {
   "cell_type": "markdown",
   "id": "7097c346",
   "metadata": {
    "papermill": {
     "duration": 0.008134,
     "end_time": "2022-11-29T22:51:14.546720",
     "exception": false,
     "start_time": "2022-11-29T22:51:14.538586",
     "status": "completed"
    },
    "tags": []
   },
   "source": [
    "(Please, take a look at the README.md file in this directory for instructions on how to run this notebook)\n",
    "\n",
    "This notebook computes predicted expression correlations between all genes in the MultiPLIER models.\n",
    "\n",
    "It has specicfic parameters for papermill (see under `Settings` below).\n",
    "It can be configured to run on a single chromosome to run in parallel.\n",
    "\n",
    "This notebook is not directly run. See README.md."
   ]
  },
  {
   "cell_type": "markdown",
   "id": "c61d8427",
   "metadata": {
    "papermill": {
     "duration": 0.007608,
     "end_time": "2022-11-29T22:51:14.562034",
     "exception": false,
     "start_time": "2022-11-29T22:51:14.554426",
     "status": "completed"
    },
    "tags": []
   },
   "source": [
    "# Modules"
   ]
  },
  {
   "cell_type": "code",
   "execution_count": 1,
   "id": "bbc0234f",
   "metadata": {
    "execution": {
     "iopub.execute_input": "2022-11-29T22:51:14.579532Z",
     "iopub.status.busy": "2022-11-29T22:51:14.578982Z",
     "iopub.status.idle": "2022-11-29T22:51:14.596647Z",
     "shell.execute_reply": "2022-11-29T22:51:14.596114Z"
    },
    "papermill": {
     "duration": 0.02799,
     "end_time": "2022-11-29T22:51:14.598431",
     "exception": false,
     "start_time": "2022-11-29T22:51:14.570441",
     "status": "completed"
    },
    "tags": []
   },
   "outputs": [],
   "source": [
    "%load_ext autoreload\n",
    "%autoreload 2"
   ]
  },
  {
   "cell_type": "code",
   "execution_count": 2,
   "id": "1d5f5a59",
   "metadata": {
    "execution": {
     "iopub.execute_input": "2022-11-29T22:51:14.618902Z",
     "iopub.status.busy": "2022-11-29T22:51:14.618679Z",
     "iopub.status.idle": "2022-11-29T22:51:15.320501Z",
     "shell.execute_reply": "2022-11-29T22:51:15.319981Z"
    },
    "papermill": {
     "duration": 0.713985,
     "end_time": "2022-11-29T22:51:15.322594",
     "exception": false,
     "start_time": "2022-11-29T22:51:14.608609",
     "status": "completed"
    },
    "tags": []
   },
   "outputs": [],
   "source": [
    "from random import sample, seed\n",
    "import warnings\n",
    "from pathlib import Path\n",
    "import pickle\n",
    "import traceback\n",
    "\n",
    "import numpy as np\n",
    "from scipy.spatial.distance import squareform\n",
    "import pandas as pd\n",
    "from tqdm import tqdm\n",
    "import matplotlib.pyplot as plt\n",
    "import seaborn as sns\n",
    "\n",
    "import conf\n",
    "from entity import Gene"
   ]
  },
  {
   "cell_type": "markdown",
   "id": "1eac24b5",
   "metadata": {
    "papermill": {
     "duration": 0.009994,
     "end_time": "2022-11-29T22:51:15.343327",
     "exception": false,
     "start_time": "2022-11-29T22:51:15.333333",
     "status": "completed"
    },
    "tags": []
   },
   "source": [
    "# Settings"
   ]
  },
  {
   "cell_type": "code",
   "execution_count": 3,
   "id": "ca4560ba",
   "metadata": {
    "execution": {
     "iopub.execute_input": "2022-11-29T22:51:15.364426Z",
     "iopub.status.busy": "2022-11-29T22:51:15.364105Z",
     "iopub.status.idle": "2022-11-29T22:51:15.376919Z",
     "shell.execute_reply": "2022-11-29T22:51:15.376551Z"
    },
    "papermill": {
     "duration": 0.025105,
     "end_time": "2022-11-29T22:51:15.378592",
     "exception": false,
     "start_time": "2022-11-29T22:51:15.353487",
     "status": "completed"
    },
    "tags": [
     "parameters"
    ]
   },
   "outputs": [],
   "source": [
    "# a cohort name (it could be something like UK_BIOBANK, etc)\n",
    "COHORT_NAME = None\n",
    "\n",
    "# reference panel such as 1000G or GTEX_V8\n",
    "REFERENCE_PANEL = \"GTEX_V8\"\n",
    "\n",
    "# predictions models such as MASHR or ELASTIC_NET\n",
    "EQTL_MODEL = \"MASHR\"\n",
    "\n",
    "# this is the default value used in S-MultiXcan to select the\n",
    "# top principal components of the expression correlation matrix\n",
    "SMULTIXCAN_CONDITION_NUMBER = 30\n",
    "\n",
    "# specifies a single chromosome value\n",
    "CHROMOSOME = None\n",
    "\n",
    "# If True, computes the correlation between closeby genes only;\n",
    "# otherwise, it computes correlations for all genes in a chromosome\n",
    "COMPUTE_CORRELATIONS_WITHIN_DISTANCE = False\n",
    "\n",
    "# if True, then it will continue if a gene pair correlation fails,\n",
    "# printing the warning/error for debugging. If False, any warning/error\n",
    "# will be thrown\n",
    "DEBUG_MODE = False\n",
    "\n",
    "# output dir\n",
    "OUTPUT_DIR_BASE = None"
   ]
  },
  {
   "cell_type": "code",
   "execution_count": 4,
   "id": "afb3d44d",
   "metadata": {
    "execution": {
     "iopub.execute_input": "2022-11-29T22:51:15.399920Z",
     "iopub.status.busy": "2022-11-29T22:51:15.399526Z",
     "iopub.status.idle": "2022-11-29T22:51:15.419674Z",
     "shell.execute_reply": "2022-11-29T22:51:15.419112Z"
    },
    "papermill": {
     "duration": 0.031977,
     "end_time": "2022-11-29T22:51:15.421317",
     "exception": false,
     "start_time": "2022-11-29T22:51:15.389340",
     "status": "completed"
    },
    "tags": [
     "injected-parameters"
    ]
   },
   "outputs": [],
   "source": [
    "# Parameters\n",
    "COHORT_NAME = \"asthma_only\"\n",
    "CHROMOSOME = 16\n",
    "OUTPUT_DIR_BASE = \"/opt/data/projects/asthma-copd/results/gls_phenoplier\"\n"
   ]
  },
  {
   "cell_type": "code",
   "execution_count": 5,
   "id": "3190631f-27fc-480f-b18e-571d580425a5",
   "metadata": {
    "execution": {
     "iopub.execute_input": "2022-11-29T22:51:15.441556Z",
     "iopub.status.busy": "2022-11-29T22:51:15.441177Z",
     "iopub.status.idle": "2022-11-29T22:51:15.467443Z",
     "shell.execute_reply": "2022-11-29T22:51:15.466895Z"
    },
    "papermill": {
     "duration": 0.037831,
     "end_time": "2022-11-29T22:51:15.469047",
     "exception": false,
     "start_time": "2022-11-29T22:51:15.431216",
     "status": "completed"
    },
    "tags": []
   },
   "outputs": [
    {
     "data": {
      "text/plain": [
       "'Cohort name: asthma_only'"
      ]
     },
     "metadata": {},
     "output_type": "display_data"
    }
   ],
   "source": [
    "assert COHORT_NAME is not None and len(COHORT_NAME) > 0, \"A cohort name must be given\"\n",
    "\n",
    "COHORT_NAME = COHORT_NAME.lower()\n",
    "display(f\"Cohort name: {COHORT_NAME}\")"
   ]
  },
  {
   "cell_type": "code",
   "execution_count": 6,
   "id": "f53ba19b-0f93-4fa2-a047-63b375939d1a",
   "metadata": {
    "execution": {
     "iopub.execute_input": "2022-11-29T22:51:15.490500Z",
     "iopub.status.busy": "2022-11-29T22:51:15.490052Z",
     "iopub.status.idle": "2022-11-29T22:51:15.511286Z",
     "shell.execute_reply": "2022-11-29T22:51:15.510757Z"
    },
    "papermill": {
     "duration": 0.033483,
     "end_time": "2022-11-29T22:51:15.512853",
     "exception": false,
     "start_time": "2022-11-29T22:51:15.479370",
     "status": "completed"
    },
    "tags": []
   },
   "outputs": [
    {
     "data": {
      "text/plain": [
       "'Reference panel: GTEX_V8'"
      ]
     },
     "metadata": {},
     "output_type": "display_data"
    }
   ],
   "source": [
    "assert (\n",
    "    REFERENCE_PANEL is not None and len(REFERENCE_PANEL) > 0\n",
    "), \"A reference panel must be given\"\n",
    "\n",
    "display(f\"Reference panel: {REFERENCE_PANEL}\")"
   ]
  },
  {
   "cell_type": "code",
   "execution_count": 7,
   "id": "e024d130-c139-429a-9c6e-ccf149e297b0",
   "metadata": {
    "execution": {
     "iopub.execute_input": "2022-11-29T22:51:15.533418Z",
     "iopub.status.busy": "2022-11-29T22:51:15.533028Z",
     "iopub.status.idle": "2022-11-29T22:51:15.555440Z",
     "shell.execute_reply": "2022-11-29T22:51:15.554894Z"
    },
    "papermill": {
     "duration": 0.034413,
     "end_time": "2022-11-29T22:51:15.557022",
     "exception": false,
     "start_time": "2022-11-29T22:51:15.522609",
     "status": "completed"
    },
    "tags": []
   },
   "outputs": [
    {
     "data": {
      "text/plain": [
       "'eQTL model: MASHR) / mashr_'"
      ]
     },
     "metadata": {},
     "output_type": "display_data"
    }
   ],
   "source": [
    "assert (\n",
    "    EQTL_MODEL is not None and len(EQTL_MODEL) > 0\n",
    "), \"A prediction/eQTL model must be given\"\n",
    "\n",
    "EQTL_MODEL_FILES_PREFIX = conf.PHENOMEXCAN[\"PREDICTION_MODELS\"][f\"{EQTL_MODEL}_PREFIX\"]\n",
    "display(f\"eQTL model: {EQTL_MODEL}) / {EQTL_MODEL_FILES_PREFIX}\")"
   ]
  },
  {
   "cell_type": "code",
   "execution_count": 8,
   "id": "552a7f63-a18c-4d3e-bb6a-94f99b431291",
   "metadata": {
    "execution": {
     "iopub.execute_input": "2022-11-29T22:51:15.578406Z",
     "iopub.status.busy": "2022-11-29T22:51:15.578016Z",
     "iopub.status.idle": "2022-11-29T22:51:15.601226Z",
     "shell.execute_reply": "2022-11-29T22:51:15.600619Z"
    },
    "papermill": {
     "duration": 0.035905,
     "end_time": "2022-11-29T22:51:15.602700",
     "exception": false,
     "start_time": "2022-11-29T22:51:15.566795",
     "status": "completed"
    },
    "tags": []
   },
   "outputs": [
    {
     "data": {
      "text/plain": [
       "'S-MultiXcan condition number: 30'"
      ]
     },
     "metadata": {},
     "output_type": "display_data"
    }
   ],
   "source": [
    "assert (\n",
    "    SMULTIXCAN_CONDITION_NUMBER is not None and SMULTIXCAN_CONDITION_NUMBER > 0\n",
    "), \"The S-MultiXcan condition number (positive integer) must be given\"\n",
    "\n",
    "display(f\"S-MultiXcan condition number: {SMULTIXCAN_CONDITION_NUMBER}\")"
   ]
  },
  {
   "cell_type": "code",
   "execution_count": 9,
   "id": "f34a336f-548e-4afe-8955-90eaea4f42c6",
   "metadata": {
    "execution": {
     "iopub.execute_input": "2022-11-29T22:51:15.621334Z",
     "iopub.status.busy": "2022-11-29T22:51:15.620876Z",
     "iopub.status.idle": "2022-11-29T22:51:15.643748Z",
     "shell.execute_reply": "2022-11-29T22:51:15.643209Z"
    },
    "papermill": {
     "duration": 0.034017,
     "end_time": "2022-11-29T22:51:15.645339",
     "exception": false,
     "start_time": "2022-11-29T22:51:15.611322",
     "status": "completed"
    },
    "tags": []
   },
   "outputs": [
    {
     "data": {
      "text/plain": [
       "'Working on chromosome 16'"
      ]
     },
     "metadata": {},
     "output_type": "display_data"
    }
   ],
   "source": [
    "assert CHROMOSOME is not None and (\n",
    "    1 <= CHROMOSOME <= 22\n",
    "), \"You have to select one chromosome (format: number between 1 and 22)\"\n",
    "\n",
    "# CHROMOSOME = str(CHROMOSOME)\n",
    "display(f\"Working on chromosome {CHROMOSOME}\")"
   ]
  },
  {
   "cell_type": "code",
   "execution_count": 10,
   "id": "ab8e96e8-06b5-4363-9dcd-dc4d78cc27f7",
   "metadata": {
    "execution": {
     "iopub.execute_input": "2022-11-29T22:51:15.667146Z",
     "iopub.status.busy": "2022-11-29T22:51:15.666635Z",
     "iopub.status.idle": "2022-11-29T22:51:15.691027Z",
     "shell.execute_reply": "2022-11-29T22:51:15.690397Z"
    },
    "papermill": {
     "duration": 0.036933,
     "end_time": "2022-11-29T22:51:15.692681",
     "exception": false,
     "start_time": "2022-11-29T22:51:15.655748",
     "status": "completed"
    },
    "tags": []
   },
   "outputs": [
    {
     "data": {
      "text/plain": [
       "'Compute correlation within distance False'"
      ]
     },
     "metadata": {},
     "output_type": "display_data"
    }
   ],
   "source": [
    "display(f\"Compute correlation within distance {COMPUTE_CORRELATIONS_WITHIN_DISTANCE}\")"
   ]
  },
  {
   "cell_type": "code",
   "execution_count": 11,
   "id": "b393b698-77e3-4ba2-8ac1-e14d51aa988f",
   "metadata": {
    "execution": {
     "iopub.execute_input": "2022-11-29T22:51:15.714699Z",
     "iopub.status.busy": "2022-11-29T22:51:15.714234Z",
     "iopub.status.idle": "2022-11-29T22:51:15.736354Z",
     "shell.execute_reply": "2022-11-29T22:51:15.735720Z"
    },
    "papermill": {
     "duration": 0.034781,
     "end_time": "2022-11-29T22:51:15.737984",
     "exception": false,
     "start_time": "2022-11-29T22:51:15.703203",
     "status": "completed"
    },
    "tags": []
   },
   "outputs": [
    {
     "data": {
      "text/plain": [
       "'Using output dir base: /opt/data/projects/asthma-copd/results/gls_phenoplier/gene_corrs/asthma_only'"
      ]
     },
     "metadata": {},
     "output_type": "display_data"
    }
   ],
   "source": [
    "assert (\n",
    "    OUTPUT_DIR_BASE is not None and len(OUTPUT_DIR_BASE) > 0\n",
    "), \"Output directory path must be given\"\n",
    "\n",
    "OUTPUT_DIR_BASE = (\n",
    "    Path(OUTPUT_DIR_BASE)\n",
    "    / \"gene_corrs\"\n",
    "    / COHORT_NAME\n",
    "    # / REFERENCE_PANEL.lower()\n",
    "    # / EQTL_MODEL.lower()\n",
    ").resolve()\n",
    "\n",
    "OUTPUT_DIR_BASE.mkdir(parents=True, exist_ok=True)\n",
    "\n",
    "display(f\"Using output dir base: {OUTPUT_DIR_BASE}\")"
   ]
  },
  {
   "cell_type": "markdown",
   "id": "d2ba085e",
   "metadata": {
    "papermill": {
     "duration": 0.010414,
     "end_time": "2022-11-29T22:51:15.759897",
     "exception": false,
     "start_time": "2022-11-29T22:51:15.749483",
     "status": "completed"
    },
    "tags": []
   },
   "source": [
    "# Load data"
   ]
  },
  {
   "cell_type": "markdown",
   "id": "7dcb8db7",
   "metadata": {
    "papermill": {
     "duration": 0.010232,
     "end_time": "2022-11-29T22:51:15.780471",
     "exception": false,
     "start_time": "2022-11-29T22:51:15.770239",
     "status": "completed"
    },
    "tags": []
   },
   "source": [
    "## GWAS variants"
   ]
  },
  {
   "cell_type": "code",
   "execution_count": 12,
   "id": "29434c4e-8cd3-4b9b-82e4-b5a251d9dd19",
   "metadata": {
    "execution": {
     "iopub.execute_input": "2022-11-29T22:51:15.798020Z",
     "iopub.status.busy": "2022-11-29T22:51:15.797731Z",
     "iopub.status.idle": "2022-11-29T22:51:17.784487Z",
     "shell.execute_reply": "2022-11-29T22:51:17.783975Z"
    },
    "papermill": {
     "duration": 1.995674,
     "end_time": "2022-11-29T22:51:17.786197",
     "exception": false,
     "start_time": "2022-11-29T22:51:15.790523",
     "status": "completed"
    },
    "tags": []
   },
   "outputs": [],
   "source": [
    "with open(OUTPUT_DIR_BASE / \"gwas_variant_ids.pkl\", \"rb\") as handle:\n",
    "    gwas_variants_ids_set = pickle.load(handle)"
   ]
  },
  {
   "cell_type": "code",
   "execution_count": 13,
   "id": "b9d9dec2-4a76-4bf9-bde2-e24c95acb8a0",
   "metadata": {
    "execution": {
     "iopub.execute_input": "2022-11-29T22:51:17.807549Z",
     "iopub.status.busy": "2022-11-29T22:51:17.807337Z",
     "iopub.status.idle": "2022-11-29T22:51:17.820810Z",
     "shell.execute_reply": "2022-11-29T22:51:17.820382Z"
    },
    "papermill": {
     "duration": 0.025302,
     "end_time": "2022-11-29T22:51:17.822167",
     "exception": false,
     "start_time": "2022-11-29T22:51:17.796865",
     "status": "completed"
    },
    "tags": []
   },
   "outputs": [
    {
     "data": {
      "text/plain": [
       "8578486"
      ]
     },
     "execution_count": 13,
     "metadata": {},
     "output_type": "execute_result"
    }
   ],
   "source": [
    "len(gwas_variants_ids_set)"
   ]
  },
  {
   "cell_type": "code",
   "execution_count": 14,
   "id": "4235b06a-6034-4ee4-a0a3-2ae35d122418",
   "metadata": {
    "execution": {
     "iopub.execute_input": "2022-11-29T22:51:17.843310Z",
     "iopub.status.busy": "2022-11-29T22:51:17.842933Z",
     "iopub.status.idle": "2022-11-29T22:51:18.238583Z",
     "shell.execute_reply": "2022-11-29T22:51:18.238170Z"
    },
    "papermill": {
     "duration": 0.407857,
     "end_time": "2022-11-29T22:51:18.239950",
     "exception": false,
     "start_time": "2022-11-29T22:51:17.832093",
     "status": "completed"
    },
    "tags": []
   },
   "outputs": [
    {
     "data": {
      "text/plain": [
       "['chr5_23346082_A_G_b38',\n",
       " 'chr4_45577534_G_T_b38',\n",
       " 'chr9_18683606_G_A_b38',\n",
       " 'chr3_167642007_GA_G_b38',\n",
       " 'chr2_116536625_G_A_b38']"
      ]
     },
     "execution_count": 14,
     "metadata": {},
     "output_type": "execute_result"
    }
   ],
   "source": [
    "list(gwas_variants_ids_set)[:5]"
   ]
  },
  {
   "cell_type": "markdown",
   "id": "07866999-2305-41f9-a144-e69c9122c212",
   "metadata": {
    "papermill": {
     "duration": 0.009724,
     "end_time": "2022-11-29T22:51:18.259587",
     "exception": false,
     "start_time": "2022-11-29T22:51:18.249863",
     "status": "completed"
    },
    "tags": []
   },
   "source": [
    "## S-PrediXcan tissue models"
   ]
  },
  {
   "cell_type": "code",
   "execution_count": 15,
   "id": "780611d9-77c8-405f-90a4-f271f7b09397",
   "metadata": {
    "execution": {
     "iopub.execute_input": "2022-11-29T22:51:18.284098Z",
     "iopub.status.busy": "2022-11-29T22:51:18.283522Z",
     "iopub.status.idle": "2022-11-29T22:51:18.898141Z",
     "shell.execute_reply": "2022-11-29T22:51:18.897643Z"
    },
    "papermill": {
     "duration": 0.630478,
     "end_time": "2022-11-29T22:51:18.899834",
     "exception": false,
     "start_time": "2022-11-29T22:51:18.269356",
     "status": "completed"
    },
    "tags": []
   },
   "outputs": [],
   "source": [
    "spredixcan_genes_models = pd.read_pickle(OUTPUT_DIR_BASE / \"gene_tissues.pkl\")"
   ]
  },
  {
   "cell_type": "code",
   "execution_count": 16,
   "id": "726dd1f6-9557-4225-91fa-b3b879ea96e1",
   "metadata": {
    "execution": {
     "iopub.execute_input": "2022-11-29T22:51:18.920958Z",
     "iopub.status.busy": "2022-11-29T22:51:18.920757Z",
     "iopub.status.idle": "2022-11-29T22:51:18.934988Z",
     "shell.execute_reply": "2022-11-29T22:51:18.934597Z"
    },
    "papermill": {
     "duration": 0.026494,
     "end_time": "2022-11-29T22:51:18.936336",
     "exception": false,
     "start_time": "2022-11-29T22:51:18.909842",
     "status": "completed"
    },
    "tags": []
   },
   "outputs": [
    {
     "data": {
      "text/plain": [
       "(6443, 5)"
      ]
     },
     "execution_count": 16,
     "metadata": {},
     "output_type": "execute_result"
    }
   ],
   "source": [
    "spredixcan_genes_models.shape"
   ]
  },
  {
   "cell_type": "code",
   "execution_count": 17,
   "id": "944a1b48-222c-4eb0-b252-b9de2cbca215",
   "metadata": {
    "execution": {
     "iopub.execute_input": "2022-11-29T22:51:18.957448Z",
     "iopub.status.busy": "2022-11-29T22:51:18.957332Z",
     "iopub.status.idle": "2022-11-29T22:51:18.988731Z",
     "shell.execute_reply": "2022-11-29T22:51:18.988151Z"
    },
    "papermill": {
     "duration": 0.043761,
     "end_time": "2022-11-29T22:51:18.990168",
     "exception": false,
     "start_time": "2022-11-29T22:51:18.946407",
     "status": "completed"
    },
    "tags": []
   },
   "outputs": [
    {
     "data": {
      "text/html": [
       "<div>\n",
       "<style scoped>\n",
       "    .dataframe tbody tr th:only-of-type {\n",
       "        vertical-align: middle;\n",
       "    }\n",
       "\n",
       "    .dataframe tbody tr th {\n",
       "        vertical-align: top;\n",
       "    }\n",
       "\n",
       "    .dataframe thead th {\n",
       "        text-align: right;\n",
       "    }\n",
       "</style>\n",
       "<table border=\"1\" class=\"dataframe\">\n",
       "  <thead>\n",
       "    <tr style=\"text-align: right;\">\n",
       "      <th></th>\n",
       "      <th>gene_name</th>\n",
       "      <th>tissue</th>\n",
       "      <th>n_tissues</th>\n",
       "      <th>n_snps_used_sum</th>\n",
       "      <th>n_snps_in_model_sum</th>\n",
       "    </tr>\n",
       "    <tr>\n",
       "      <th>gene_id</th>\n",
       "      <th></th>\n",
       "      <th></th>\n",
       "      <th></th>\n",
       "      <th></th>\n",
       "      <th></th>\n",
       "    </tr>\n",
       "  </thead>\n",
       "  <tbody>\n",
       "    <tr>\n",
       "      <th>ENSG00000000419</th>\n",
       "      <td>DPM1</td>\n",
       "      <td>(Brain_Substantia_nigra, Brain_Hypothalamus)</td>\n",
       "      <td>2</td>\n",
       "      <td>2</td>\n",
       "      <td>2</td>\n",
       "    </tr>\n",
       "    <tr>\n",
       "      <th>ENSG00000000938</th>\n",
       "      <td>FGR</td>\n",
       "      <td>(Prostate, Brain_Frontal_Cortex_BA9, Breast_Ma...</td>\n",
       "      <td>36</td>\n",
       "      <td>40</td>\n",
       "      <td>40</td>\n",
       "    </tr>\n",
       "    <tr>\n",
       "      <th>ENSG00000000971</th>\n",
       "      <td>CFH</td>\n",
       "      <td>(Brain_Frontal_Cortex_BA9, Breast_Mammary_Tiss...</td>\n",
       "      <td>34</td>\n",
       "      <td>44</td>\n",
       "      <td>44</td>\n",
       "    </tr>\n",
       "    <tr>\n",
       "      <th>ENSG00000001084</th>\n",
       "      <td>GCLC</td>\n",
       "      <td>(Brain_Frontal_Cortex_BA9, Artery_Coronary, Ce...</td>\n",
       "      <td>32</td>\n",
       "      <td>46</td>\n",
       "      <td>46</td>\n",
       "    </tr>\n",
       "    <tr>\n",
       "      <th>ENSG00000001167</th>\n",
       "      <td>NFYA</td>\n",
       "      <td>(Vagina, Prostate, Breast_Mammary_Tissue, Brai...</td>\n",
       "      <td>40</td>\n",
       "      <td>47</td>\n",
       "      <td>48</td>\n",
       "    </tr>\n",
       "  </tbody>\n",
       "</table>\n",
       "</div>"
      ],
      "text/plain": [
       "                gene_name                                             tissue  \\\n",
       "gene_id                                                                        \n",
       "ENSG00000000419      DPM1       (Brain_Substantia_nigra, Brain_Hypothalamus)   \n",
       "ENSG00000000938       FGR  (Prostate, Brain_Frontal_Cortex_BA9, Breast_Ma...   \n",
       "ENSG00000000971       CFH  (Brain_Frontal_Cortex_BA9, Breast_Mammary_Tiss...   \n",
       "ENSG00000001084      GCLC  (Brain_Frontal_Cortex_BA9, Artery_Coronary, Ce...   \n",
       "ENSG00000001167      NFYA  (Vagina, Prostate, Breast_Mammary_Tissue, Brai...   \n",
       "\n",
       "                 n_tissues  n_snps_used_sum  n_snps_in_model_sum  \n",
       "gene_id                                                           \n",
       "ENSG00000000419          2                2                    2  \n",
       "ENSG00000000938         36               40                   40  \n",
       "ENSG00000000971         34               44                   44  \n",
       "ENSG00000001084         32               46                   46  \n",
       "ENSG00000001167         40               47                   48  "
      ]
     },
     "execution_count": 17,
     "metadata": {},
     "output_type": "execute_result"
    }
   ],
   "source": [
    "spredixcan_genes_models.head()"
   ]
  },
  {
   "cell_type": "code",
   "execution_count": 18,
   "id": "d1c11bb1-be0b-4f40-b360-633d6827109f",
   "metadata": {
    "execution": {
     "iopub.execute_input": "2022-11-29T22:51:19.010423Z",
     "iopub.status.busy": "2022-11-29T22:51:19.009939Z",
     "iopub.status.idle": "2022-11-29T22:51:19.027110Z",
     "shell.execute_reply": "2022-11-29T22:51:19.026620Z"
    },
    "papermill": {
     "duration": 0.029004,
     "end_time": "2022-11-29T22:51:19.028850",
     "exception": false,
     "start_time": "2022-11-29T22:51:18.999846",
     "status": "completed"
    },
    "tags": []
   },
   "outputs": [],
   "source": [
    "assert spredixcan_genes_models.index.is_unique"
   ]
  },
  {
   "cell_type": "markdown",
   "id": "a5b5092c-a13e-47c4-a92a-480fcc08f3ae",
   "metadata": {
    "papermill": {
     "duration": 0.011113,
     "end_time": "2022-11-29T22:51:19.051556",
     "exception": false,
     "start_time": "2022-11-29T22:51:19.040443",
     "status": "completed"
    },
    "tags": []
   },
   "source": [
    "## Gene info"
   ]
  },
  {
   "cell_type": "code",
   "execution_count": 19,
   "id": "7d6bb224-88e9-4358-ac10-43a41d92cdad",
   "metadata": {
    "execution": {
     "iopub.execute_input": "2022-11-29T22:51:19.075743Z",
     "iopub.status.busy": "2022-11-29T22:51:19.075282Z",
     "iopub.status.idle": "2022-11-29T22:51:19.100748Z",
     "shell.execute_reply": "2022-11-29T22:51:19.100052Z"
    },
    "papermill": {
     "duration": 0.039476,
     "end_time": "2022-11-29T22:51:19.102206",
     "exception": false,
     "start_time": "2022-11-29T22:51:19.062730",
     "status": "completed"
    },
    "tags": []
   },
   "outputs": [],
   "source": [
    "genes_info = pd.read_pickle(OUTPUT_DIR_BASE / \"genes_info.pkl\")"
   ]
  },
  {
   "cell_type": "code",
   "execution_count": 20,
   "id": "9e32abfa-546d-483e-8c18-d526e9e05903",
   "metadata": {
    "execution": {
     "iopub.execute_input": "2022-11-29T22:51:19.119244Z",
     "iopub.status.busy": "2022-11-29T22:51:19.118664Z",
     "iopub.status.idle": "2022-11-29T22:51:19.141090Z",
     "shell.execute_reply": "2022-11-29T22:51:19.140519Z"
    },
    "papermill": {
     "duration": 0.031805,
     "end_time": "2022-11-29T22:51:19.142043",
     "exception": false,
     "start_time": "2022-11-29T22:51:19.110238",
     "status": "completed"
    },
    "tags": []
   },
   "outputs": [
    {
     "data": {
      "text/plain": [
       "(6443, 7)"
      ]
     },
     "execution_count": 20,
     "metadata": {},
     "output_type": "execute_result"
    }
   ],
   "source": [
    "genes_info.shape"
   ]
  },
  {
   "cell_type": "code",
   "execution_count": 21,
   "id": "d16c3e92-85ec-468a-9a56-e25a9774a1cb",
   "metadata": {
    "execution": {
     "iopub.execute_input": "2022-11-29T22:51:19.154560Z",
     "iopub.status.busy": "2022-11-29T22:51:19.154288Z",
     "iopub.status.idle": "2022-11-29T22:51:19.181467Z",
     "shell.execute_reply": "2022-11-29T22:51:19.180889Z"
    },
    "papermill": {
     "duration": 0.034042,
     "end_time": "2022-11-29T22:51:19.182381",
     "exception": false,
     "start_time": "2022-11-29T22:51:19.148339",
     "status": "completed"
    },
    "tags": []
   },
   "outputs": [
    {
     "data": {
      "text/html": [
       "<div>\n",
       "<style scoped>\n",
       "    .dataframe tbody tr th:only-of-type {\n",
       "        vertical-align: middle;\n",
       "    }\n",
       "\n",
       "    .dataframe tbody tr th {\n",
       "        vertical-align: top;\n",
       "    }\n",
       "\n",
       "    .dataframe thead th {\n",
       "        text-align: right;\n",
       "    }\n",
       "</style>\n",
       "<table border=\"1\" class=\"dataframe\">\n",
       "  <thead>\n",
       "    <tr style=\"text-align: right;\">\n",
       "      <th></th>\n",
       "      <th>name</th>\n",
       "      <th>id</th>\n",
       "      <th>chr</th>\n",
       "      <th>band</th>\n",
       "      <th>start_position</th>\n",
       "      <th>end_position</th>\n",
       "      <th>gene_length</th>\n",
       "    </tr>\n",
       "  </thead>\n",
       "  <tbody>\n",
       "    <tr>\n",
       "      <th>0</th>\n",
       "      <td>UBE4B</td>\n",
       "      <td>ENSG00000130939</td>\n",
       "      <td>1</td>\n",
       "      <td>1p36.22</td>\n",
       "      <td>10032832</td>\n",
       "      <td>10181239</td>\n",
       "      <td>148407</td>\n",
       "    </tr>\n",
       "    <tr>\n",
       "      <th>1</th>\n",
       "      <td>STX18</td>\n",
       "      <td>ENSG00000168818</td>\n",
       "      <td>4</td>\n",
       "      <td>4p16.2</td>\n",
       "      <td>4415742</td>\n",
       "      <td>4542346</td>\n",
       "      <td>126604</td>\n",
       "    </tr>\n",
       "    <tr>\n",
       "      <th>2</th>\n",
       "      <td>DNM2</td>\n",
       "      <td>ENSG00000079805</td>\n",
       "      <td>19</td>\n",
       "      <td>19p13.2</td>\n",
       "      <td>10718079</td>\n",
       "      <td>10833488</td>\n",
       "      <td>115409</td>\n",
       "    </tr>\n",
       "    <tr>\n",
       "      <th>3</th>\n",
       "      <td>PLD1</td>\n",
       "      <td>ENSG00000075651</td>\n",
       "      <td>3</td>\n",
       "      <td>3q26.31</td>\n",
       "      <td>171600404</td>\n",
       "      <td>171810950</td>\n",
       "      <td>210546</td>\n",
       "    </tr>\n",
       "    <tr>\n",
       "      <th>4</th>\n",
       "      <td>ANKRD55</td>\n",
       "      <td>ENSG00000164512</td>\n",
       "      <td>5</td>\n",
       "      <td>5q11.2</td>\n",
       "      <td>56099680</td>\n",
       "      <td>56233330</td>\n",
       "      <td>133650</td>\n",
       "    </tr>\n",
       "  </tbody>\n",
       "</table>\n",
       "</div>"
      ],
      "text/plain": [
       "      name               id  chr     band  start_position  end_position  \\\n",
       "0    UBE4B  ENSG00000130939    1  1p36.22        10032832      10181239   \n",
       "1    STX18  ENSG00000168818    4   4p16.2         4415742       4542346   \n",
       "2     DNM2  ENSG00000079805   19  19p13.2        10718079      10833488   \n",
       "3     PLD1  ENSG00000075651    3  3q26.31       171600404     171810950   \n",
       "4  ANKRD55  ENSG00000164512    5   5q11.2        56099680      56233330   \n",
       "\n",
       "   gene_length  \n",
       "0       148407  \n",
       "1       126604  \n",
       "2       115409  \n",
       "3       210546  \n",
       "4       133650  "
      ]
     },
     "execution_count": 21,
     "metadata": {},
     "output_type": "execute_result"
    }
   ],
   "source": [
    "genes_info.head()"
   ]
  },
  {
   "cell_type": "markdown",
   "id": "d3843e06",
   "metadata": {
    "papermill": {
     "duration": 0.007733,
     "end_time": "2022-11-29T22:51:19.196900",
     "exception": false,
     "start_time": "2022-11-29T22:51:19.189167",
     "status": "completed"
    },
    "tags": []
   },
   "source": [
    "# Compute correlations"
   ]
  },
  {
   "cell_type": "code",
   "execution_count": 22,
   "id": "cb859c15-d1f3-4006-a74c-2b83c0db9611",
   "metadata": {
    "execution": {
     "iopub.execute_input": "2022-11-29T22:51:19.213853Z",
     "iopub.status.busy": "2022-11-29T22:51:19.213547Z",
     "iopub.status.idle": "2022-11-29T22:51:19.239424Z",
     "shell.execute_reply": "2022-11-29T22:51:19.238783Z"
    },
    "papermill": {
     "duration": 0.035498,
     "end_time": "2022-11-29T22:51:19.240583",
     "exception": false,
     "start_time": "2022-11-29T22:51:19.205085",
     "status": "completed"
    },
    "tags": []
   },
   "outputs": [
    {
     "data": {
      "text/plain": [
       "PosixPath('/opt/data/projects/asthma-copd/results/gls_phenoplier/gene_corrs/asthma_only/by_chr/gene_corrs-chr16.pkl')"
      ]
     },
     "metadata": {},
     "output_type": "display_data"
    }
   ],
   "source": [
    "output_dir = OUTPUT_DIR_BASE / \"by_chr\"\n",
    "output_dir.mkdir(exist_ok=True, parents=True)\n",
    "output_file = output_dir / f\"gene_corrs-chr{CHROMOSOME}.pkl\"\n",
    "display(output_file)"
   ]
  },
  {
   "cell_type": "code",
   "execution_count": 23,
   "id": "aa674fe4-6794-4eed-98fa-32b39d1d4ace",
   "metadata": {
    "execution": {
     "iopub.execute_input": "2022-11-29T22:51:19.258542Z",
     "iopub.status.busy": "2022-11-29T22:51:19.257913Z",
     "iopub.status.idle": "2022-11-29T22:51:19.280826Z",
     "shell.execute_reply": "2022-11-29T22:51:19.280175Z"
    },
    "papermill": {
     "duration": 0.033469,
     "end_time": "2022-11-29T22:51:19.282128",
     "exception": false,
     "start_time": "2022-11-29T22:51:19.248659",
     "status": "completed"
    },
    "tags": []
   },
   "outputs": [],
   "source": [
    "warnings.filterwarnings(\"error\")"
   ]
  },
  {
   "cell_type": "code",
   "execution_count": 24,
   "id": "44d5450b-3baf-43f1-9e2e-4b06f1a785f8",
   "metadata": {
    "execution": {
     "iopub.execute_input": "2022-11-29T22:51:19.299425Z",
     "iopub.status.busy": "2022-11-29T22:51:19.298889Z",
     "iopub.status.idle": "2022-11-29T22:51:19.323447Z",
     "shell.execute_reply": "2022-11-29T22:51:19.322857Z"
    },
    "papermill": {
     "duration": 0.034724,
     "end_time": "2022-11-29T22:51:19.324967",
     "exception": false,
     "start_time": "2022-11-29T22:51:19.290243",
     "status": "completed"
    },
    "tags": []
   },
   "outputs": [],
   "source": [
    "# standard checks\n",
    "all_chrs = genes_info[\"chr\"].dropna().unique()\n",
    "assert all_chrs.shape[0] == 22\n",
    "\n",
    "# select chromosome given by the user\n",
    "assert CHROMOSOME in all_chrs"
   ]
  },
  {
   "cell_type": "code",
   "execution_count": 25,
   "id": "2d7c043c-92a7-4d35-991b-fa69ac1e0268",
   "metadata": {
    "execution": {
     "iopub.execute_input": "2022-11-29T22:51:19.343644Z",
     "iopub.status.busy": "2022-11-29T22:51:19.343240Z",
     "iopub.status.idle": "2022-11-29T22:51:19.368414Z",
     "shell.execute_reply": "2022-11-29T22:51:19.367750Z"
    },
    "papermill": {
     "duration": 0.035436,
     "end_time": "2022-11-29T22:51:19.369563",
     "exception": false,
     "start_time": "2022-11-29T22:51:19.334127",
     "status": "completed"
    },
    "tags": []
   },
   "outputs": [
    {
     "name": "stdout",
     "output_type": "stream",
     "text": [
      "Number of genes in chromosome: 274\n"
     ]
    }
   ],
   "source": [
    "# run only on the chromosome specified\n",
    "all_chrs = [CHROMOSOME]\n",
    "genes_chr = genes_info[genes_info[\"chr\"] == CHROMOSOME]\n",
    "\n",
    "# For testing purposes\n",
    "# genes_chr = genes_chr.sample(n=20)\n",
    "\n",
    "print(f\"Number of genes in chromosome: {genes_chr.shape[0]}\", flush=True)"
   ]
  },
  {
   "cell_type": "code",
   "execution_count": 26,
   "id": "916015d8-2979-46d3-a9b9-1cf5a0932c6a",
   "metadata": {
    "execution": {
     "iopub.execute_input": "2022-11-29T22:51:19.387183Z",
     "iopub.status.busy": "2022-11-29T22:51:19.386646Z",
     "iopub.status.idle": "2022-11-29T22:51:19.410025Z",
     "shell.execute_reply": "2022-11-29T22:51:19.409252Z"
    },
    "papermill": {
     "duration": 0.033691,
     "end_time": "2022-11-29T22:51:19.411569",
     "exception": false,
     "start_time": "2022-11-29T22:51:19.377878",
     "status": "completed"
    },
    "tags": []
   },
   "outputs": [],
   "source": [
    "# sort genes by starting position to make visualizations better later\n",
    "genes_chr = genes_chr.sort_values(\"start_position\")"
   ]
  },
  {
   "cell_type": "code",
   "execution_count": 27,
   "id": "a38aa74a-8ad3-47f6-8ef9-56be0e011774",
   "metadata": {
    "execution": {
     "iopub.execute_input": "2022-11-29T22:51:19.432152Z",
     "iopub.status.busy": "2022-11-29T22:51:19.431739Z",
     "iopub.status.idle": "2022-11-29T22:51:19.455910Z",
     "shell.execute_reply": "2022-11-29T22:51:19.455278Z"
    },
    "papermill": {
     "duration": 0.035848,
     "end_time": "2022-11-29T22:51:19.457497",
     "exception": false,
     "start_time": "2022-11-29T22:51:19.421649",
     "status": "completed"
    },
    "tags": []
   },
   "outputs": [],
   "source": [
    "gene_chr_objs = [Gene(ensembl_id=gene_id) for gene_id in genes_chr[\"id\"]]"
   ]
  },
  {
   "cell_type": "code",
   "execution_count": 28,
   "id": "570f974f-13c3-42b6-ad3a-ce99ca885c1a",
   "metadata": {
    "execution": {
     "iopub.execute_input": "2022-11-29T22:51:19.478130Z",
     "iopub.status.busy": "2022-11-29T22:51:19.477713Z",
     "iopub.status.idle": "2022-11-29T22:51:19.502022Z",
     "shell.execute_reply": "2022-11-29T22:51:19.501367Z"
    },
    "papermill": {
     "duration": 0.036177,
     "end_time": "2022-11-29T22:51:19.503326",
     "exception": false,
     "start_time": "2022-11-29T22:51:19.467149",
     "status": "completed"
    },
    "tags": []
   },
   "outputs": [
    {
     "name": "stdout",
     "output_type": "stream",
     "text": [
      "Number of gene combinations: 37675\n"
     ]
    }
   ],
   "source": [
    "n = len(gene_chr_objs)\n",
    "# diagonal elements + upper triangular matrix\n",
    "n_comb = n + int(n * (n - 1) / 2.0)\n",
    "print(f\"Number of gene combinations: {n_comb}\", flush=True)"
   ]
  },
  {
   "cell_type": "code",
   "execution_count": 29,
   "id": "cdbb90a1",
   "metadata": {
    "execution": {
     "iopub.execute_input": "2022-11-29T22:51:19.522393Z",
     "iopub.status.busy": "2022-11-29T22:51:19.521838Z",
     "iopub.status.idle": "2022-11-29T23:17:53.971941Z",
     "shell.execute_reply": "2022-11-29T23:17:53.971414Z"
    },
    "papermill": {
     "duration": 1594.460378,
     "end_time": "2022-11-29T23:17:53.973313",
     "exception": false,
     "start_time": "2022-11-29T22:51:19.512935",
     "status": "completed"
    },
    "tags": []
   },
   "outputs": [
    {
     "name": "stderr",
     "output_type": "stream",
     "text": [
      "ENSG00000258947 / ENSG00000258947: 100%|██████████████████████| 37675/37675 [26:34<00:00, 23.63it/s]\n"
     ]
    },
    {
     "data": {
      "text/plain": [
       "PosixPath('/opt/data/projects/asthma-copd/results/gls_phenoplier/gene_corrs/asthma_only/by_chr/gene_corrs-chr16.pkl')"
      ]
     },
     "metadata": {},
     "output_type": "display_data"
    }
   ],
   "source": [
    "gene_corrs = []\n",
    "gene_corrs_data = np.full(\n",
    "    (n, n),\n",
    "    np.nan,\n",
    "    dtype=np.float64,\n",
    ")\n",
    "\n",
    "i = 0\n",
    "with tqdm(ncols=100, total=n_comb) as pbar:\n",
    "    for gene1_idx in range(0, len(gene_chr_objs)):\n",
    "        gene1_obj = gene_chr_objs[gene1_idx]\n",
    "        gene1_tissues = spredixcan_genes_models.loc[gene1_obj.ensembl_id, \"tissue\"]\n",
    "\n",
    "        for gene2_idx in range(gene1_idx, len(gene_chr_objs)):\n",
    "            gene2_obj = gene_chr_objs[gene2_idx]\n",
    "            gene2_tissues = spredixcan_genes_models.loc[gene2_obj.ensembl_id, \"tissue\"]\n",
    "\n",
    "            pbar.set_description(f\"{gene1_obj.ensembl_id} / {gene2_obj.ensembl_id}\")\n",
    "\n",
    "            try:\n",
    "                r = gene1_obj.get_ssm_correlation(\n",
    "                    other_gene=gene2_obj,\n",
    "                    tissues=gene1_tissues,\n",
    "                    other_tissues=gene2_tissues,\n",
    "                    snps_subset=gwas_variants_ids_set,\n",
    "                    condition_number=SMULTIXCAN_CONDITION_NUMBER,\n",
    "                    reference_panel=REFERENCE_PANEL,\n",
    "                    model_type=EQTL_MODEL,\n",
    "                    use_within_distance=COMPUTE_CORRELATIONS_WITHIN_DISTANCE,\n",
    "                )\n",
    "\n",
    "                if r is None:\n",
    "                    # if r is None, it's very likely because:\n",
    "                    #  * one of the genes has no prediction models\n",
    "                    #  * all the SNPs predictors for the gene are not present in the reference\n",
    "                    #    panel\n",
    "\n",
    "                    r = 0.0\n",
    "\n",
    "                gene_corrs.append(r)\n",
    "\n",
    "                gene_corrs_data[gene1_idx, gene2_idx] = r\n",
    "                gene_corrs_data[gene2_idx, gene1_idx] = r\n",
    "            except Warning as e:\n",
    "                if not DEBUG_MODE:\n",
    "                    raise e\n",
    "\n",
    "                print(\n",
    "                    f\"RuntimeWarning for genes {gene1_obj.ensembl_id} and {gene2_obj.ensembl_id}\",\n",
    "                    flush=True,\n",
    "                )\n",
    "                print(traceback.format_exc(), flush=True)\n",
    "\n",
    "                gene_corrs.append(np.nan)\n",
    "            except Exception as e:\n",
    "                if not DEBUG_MODE:\n",
    "                    raise e\n",
    "\n",
    "                print(\n",
    "                    f\"Exception for genes {gene1_obj.ensembl_id} and {gene2_obj.ensembl_id}\",\n",
    "                    flush=True,\n",
    "                )\n",
    "                print(traceback.format_exc(), flush=True)\n",
    "\n",
    "                gene_corrs.append(np.nan)\n",
    "\n",
    "            pbar.update(1)\n",
    "\n",
    "# create a pandas series\n",
    "gene_corrs_flat = pd.Series(gene_corrs)\n",
    "\n",
    "# save\n",
    "# FIXME: consider saving only the condenced matrix here. See here for\n",
    "# more details: https://github.com/greenelab/phenoplier/pull/38#discussion_r634600813\n",
    "# gene_corrs_data = squareform(np.array(gene_corrs, dtype=np.float64))\n",
    "# np.fill_diagonal(gene_corrs_data, 1.0)\n",
    "\n",
    "gene_chr_ids = [g.ensembl_id for g in gene_chr_objs]\n",
    "gene_corrs_df = pd.DataFrame(\n",
    "    data=gene_corrs_data,\n",
    "    index=gene_chr_ids,\n",
    "    columns=gene_chr_ids,\n",
    ")\n",
    "\n",
    "output_dir.mkdir(exist_ok=True, parents=True)\n",
    "display(output_file)\n",
    "\n",
    "gene_corrs_df.to_pickle(output_file)"
   ]
  },
  {
   "cell_type": "markdown",
   "id": "faa67b51-5373-470f-aa72-2ded53fa6dfe",
   "metadata": {
    "papermill": {
     "duration": 1.43692,
     "end_time": "2022-11-29T23:17:56.937407",
     "exception": false,
     "start_time": "2022-11-29T23:17:55.500487",
     "status": "completed"
    },
    "tags": []
   },
   "source": [
    "# Testing"
   ]
  },
  {
   "cell_type": "code",
   "execution_count": 30,
   "id": "14f7d046-4b55-4896-a56b-990127bcc388",
   "metadata": {
    "execution": {
     "iopub.execute_input": "2022-11-29T23:17:59.922211Z",
     "iopub.status.busy": "2022-11-29T23:17:59.921837Z",
     "iopub.status.idle": "2022-11-29T23:17:59.943289Z",
     "shell.execute_reply": "2022-11-29T23:17:59.942678Z"
    },
    "papermill": {
     "duration": 1.539671,
     "end_time": "2022-11-29T23:17:59.944251",
     "exception": false,
     "start_time": "2022-11-29T23:17:58.404580",
     "status": "completed"
    },
    "tags": []
   },
   "outputs": [
    {
     "data": {
      "text/plain": [
       "(274, 274)"
      ]
     },
     "execution_count": 30,
     "metadata": {},
     "output_type": "execute_result"
    }
   ],
   "source": [
    "gene_corrs_df.shape"
   ]
  },
  {
   "cell_type": "code",
   "execution_count": 31,
   "id": "c7d15414-3297-4537-a7c6-7588c0baeb75",
   "metadata": {
    "execution": {
     "iopub.execute_input": "2022-11-29T23:18:02.864002Z",
     "iopub.status.busy": "2022-11-29T23:18:02.863165Z",
     "iopub.status.idle": "2022-11-29T23:18:02.903792Z",
     "shell.execute_reply": "2022-11-29T23:18:02.903177Z"
    },
    "papermill": {
     "duration": 1.461056,
     "end_time": "2022-11-29T23:18:02.904756",
     "exception": false,
     "start_time": "2022-11-29T23:18:01.443700",
     "status": "completed"
    },
    "tags": []
   },
   "outputs": [
    {
     "data": {
      "text/html": [
       "<div>\n",
       "<style scoped>\n",
       "    .dataframe tbody tr th:only-of-type {\n",
       "        vertical-align: middle;\n",
       "    }\n",
       "\n",
       "    .dataframe tbody tr th {\n",
       "        vertical-align: top;\n",
       "    }\n",
       "\n",
       "    .dataframe thead th {\n",
       "        text-align: right;\n",
       "    }\n",
       "</style>\n",
       "<table border=\"1\" class=\"dataframe\">\n",
       "  <thead>\n",
       "    <tr style=\"text-align: right;\">\n",
       "      <th></th>\n",
       "      <th>ENSG00000161980</th>\n",
       "      <th>ENSG00000103152</th>\n",
       "      <th>ENSG00000206172</th>\n",
       "      <th>ENSG00000086506</th>\n",
       "      <th>ENSG00000076344</th>\n",
       "      <th>ENSG00000103126</th>\n",
       "      <th>ENSG00000086504</th>\n",
       "      <th>ENSG00000103202</th>\n",
       "      <th>ENSG00000242612</th>\n",
       "      <th>ENSG00000090565</th>\n",
       "      <th>...</th>\n",
       "      <th>ENSG00000051523</th>\n",
       "      <th>ENSG00000167508</th>\n",
       "      <th>ENSG00000167513</th>\n",
       "      <th>ENSG00000198931</th>\n",
       "      <th>ENSG00000141012</th>\n",
       "      <th>ENSG00000129993</th>\n",
       "      <th>ENSG00000167526</th>\n",
       "      <th>ENSG00000187741</th>\n",
       "      <th>ENSG00000258839</th>\n",
       "      <th>ENSG00000258947</th>\n",
       "    </tr>\n",
       "  </thead>\n",
       "  <tbody>\n",
       "    <tr>\n",
       "      <th>ENSG00000161980</th>\n",
       "      <td>1.000000</td>\n",
       "      <td>0.311909</td>\n",
       "      <td>0.008425</td>\n",
       "      <td>0.032054</td>\n",
       "      <td>0.013127</td>\n",
       "      <td>0.016392</td>\n",
       "      <td>0.010935</td>\n",
       "      <td>0.013421</td>\n",
       "      <td>0.017843</td>\n",
       "      <td>0.013448</td>\n",
       "      <td>...</td>\n",
       "      <td>0.006475</td>\n",
       "      <td>0.003400</td>\n",
       "      <td>0.001707</td>\n",
       "      <td>0.001380</td>\n",
       "      <td>0.004008</td>\n",
       "      <td>0.004509</td>\n",
       "      <td>0.002774</td>\n",
       "      <td>0.004118</td>\n",
       "      <td>0.015535</td>\n",
       "      <td>0.012611</td>\n",
       "    </tr>\n",
       "    <tr>\n",
       "      <th>ENSG00000103152</th>\n",
       "      <td>0.311909</td>\n",
       "      <td>1.000000</td>\n",
       "      <td>0.034104</td>\n",
       "      <td>0.120279</td>\n",
       "      <td>0.061832</td>\n",
       "      <td>0.029735</td>\n",
       "      <td>0.025689</td>\n",
       "      <td>0.010517</td>\n",
       "      <td>0.008693</td>\n",
       "      <td>0.009125</td>\n",
       "      <td>...</td>\n",
       "      <td>0.006425</td>\n",
       "      <td>0.009523</td>\n",
       "      <td>0.005760</td>\n",
       "      <td>0.004086</td>\n",
       "      <td>0.008773</td>\n",
       "      <td>0.007464</td>\n",
       "      <td>0.008498</td>\n",
       "      <td>0.002811</td>\n",
       "      <td>0.007315</td>\n",
       "      <td>0.016487</td>\n",
       "    </tr>\n",
       "    <tr>\n",
       "      <th>ENSG00000206172</th>\n",
       "      <td>0.008425</td>\n",
       "      <td>0.034104</td>\n",
       "      <td>1.000000</td>\n",
       "      <td>0.059261</td>\n",
       "      <td>0.062245</td>\n",
       "      <td>0.025327</td>\n",
       "      <td>0.103654</td>\n",
       "      <td>0.014437</td>\n",
       "      <td>0.013527</td>\n",
       "      <td>0.011204</td>\n",
       "      <td>...</td>\n",
       "      <td>0.005227</td>\n",
       "      <td>0.006670</td>\n",
       "      <td>0.004734</td>\n",
       "      <td>0.003728</td>\n",
       "      <td>0.001948</td>\n",
       "      <td>0.002297</td>\n",
       "      <td>0.000407</td>\n",
       "      <td>0.001616</td>\n",
       "      <td>0.000899</td>\n",
       "      <td>0.005550</td>\n",
       "    </tr>\n",
       "    <tr>\n",
       "      <th>ENSG00000086506</th>\n",
       "      <td>0.032054</td>\n",
       "      <td>0.120279</td>\n",
       "      <td>0.059261</td>\n",
       "      <td>1.000000</td>\n",
       "      <td>0.169380</td>\n",
       "      <td>0.092479</td>\n",
       "      <td>0.080608</td>\n",
       "      <td>0.014114</td>\n",
       "      <td>0.017748</td>\n",
       "      <td>0.022424</td>\n",
       "      <td>...</td>\n",
       "      <td>0.006776</td>\n",
       "      <td>0.009811</td>\n",
       "      <td>0.004304</td>\n",
       "      <td>0.002996</td>\n",
       "      <td>0.004049</td>\n",
       "      <td>0.004665</td>\n",
       "      <td>0.005203</td>\n",
       "      <td>0.003655</td>\n",
       "      <td>0.003960</td>\n",
       "      <td>0.009180</td>\n",
       "    </tr>\n",
       "    <tr>\n",
       "      <th>ENSG00000076344</th>\n",
       "      <td>0.013127</td>\n",
       "      <td>0.061832</td>\n",
       "      <td>0.062245</td>\n",
       "      <td>0.169380</td>\n",
       "      <td>1.000000</td>\n",
       "      <td>0.133766</td>\n",
       "      <td>0.121072</td>\n",
       "      <td>0.064562</td>\n",
       "      <td>0.023406</td>\n",
       "      <td>0.024921</td>\n",
       "      <td>...</td>\n",
       "      <td>0.001836</td>\n",
       "      <td>0.005022</td>\n",
       "      <td>0.005254</td>\n",
       "      <td>0.003078</td>\n",
       "      <td>0.005179</td>\n",
       "      <td>0.007558</td>\n",
       "      <td>0.001843</td>\n",
       "      <td>0.004544</td>\n",
       "      <td>0.003748</td>\n",
       "      <td>0.005991</td>\n",
       "    </tr>\n",
       "  </tbody>\n",
       "</table>\n",
       "<p>5 rows × 274 columns</p>\n",
       "</div>"
      ],
      "text/plain": [
       "                 ENSG00000161980  ENSG00000103152  ENSG00000206172  \\\n",
       "ENSG00000161980         1.000000         0.311909         0.008425   \n",
       "ENSG00000103152         0.311909         1.000000         0.034104   \n",
       "ENSG00000206172         0.008425         0.034104         1.000000   \n",
       "ENSG00000086506         0.032054         0.120279         0.059261   \n",
       "ENSG00000076344         0.013127         0.061832         0.062245   \n",
       "\n",
       "                 ENSG00000086506  ENSG00000076344  ENSG00000103126  \\\n",
       "ENSG00000161980         0.032054         0.013127         0.016392   \n",
       "ENSG00000103152         0.120279         0.061832         0.029735   \n",
       "ENSG00000206172         0.059261         0.062245         0.025327   \n",
       "ENSG00000086506         1.000000         0.169380         0.092479   \n",
       "ENSG00000076344         0.169380         1.000000         0.133766   \n",
       "\n",
       "                 ENSG00000086504  ENSG00000103202  ENSG00000242612  \\\n",
       "ENSG00000161980         0.010935         0.013421         0.017843   \n",
       "ENSG00000103152         0.025689         0.010517         0.008693   \n",
       "ENSG00000206172         0.103654         0.014437         0.013527   \n",
       "ENSG00000086506         0.080608         0.014114         0.017748   \n",
       "ENSG00000076344         0.121072         0.064562         0.023406   \n",
       "\n",
       "                 ENSG00000090565  ...  ENSG00000051523  ENSG00000167508  \\\n",
       "ENSG00000161980         0.013448  ...         0.006475         0.003400   \n",
       "ENSG00000103152         0.009125  ...         0.006425         0.009523   \n",
       "ENSG00000206172         0.011204  ...         0.005227         0.006670   \n",
       "ENSG00000086506         0.022424  ...         0.006776         0.009811   \n",
       "ENSG00000076344         0.024921  ...         0.001836         0.005022   \n",
       "\n",
       "                 ENSG00000167513  ENSG00000198931  ENSG00000141012  \\\n",
       "ENSG00000161980         0.001707         0.001380         0.004008   \n",
       "ENSG00000103152         0.005760         0.004086         0.008773   \n",
       "ENSG00000206172         0.004734         0.003728         0.001948   \n",
       "ENSG00000086506         0.004304         0.002996         0.004049   \n",
       "ENSG00000076344         0.005254         0.003078         0.005179   \n",
       "\n",
       "                 ENSG00000129993  ENSG00000167526  ENSG00000187741  \\\n",
       "ENSG00000161980         0.004509         0.002774         0.004118   \n",
       "ENSG00000103152         0.007464         0.008498         0.002811   \n",
       "ENSG00000206172         0.002297         0.000407         0.001616   \n",
       "ENSG00000086506         0.004665         0.005203         0.003655   \n",
       "ENSG00000076344         0.007558         0.001843         0.004544   \n",
       "\n",
       "                 ENSG00000258839  ENSG00000258947  \n",
       "ENSG00000161980         0.015535         0.012611  \n",
       "ENSG00000103152         0.007315         0.016487  \n",
       "ENSG00000206172         0.000899         0.005550  \n",
       "ENSG00000086506         0.003960         0.009180  \n",
       "ENSG00000076344         0.003748         0.005991  \n",
       "\n",
       "[5 rows x 274 columns]"
      ]
     },
     "execution_count": 31,
     "metadata": {},
     "output_type": "execute_result"
    }
   ],
   "source": [
    "gene_corrs_df.head()"
   ]
  },
  {
   "cell_type": "markdown",
   "id": "dad6603f-01c6-41fb-a6f6-241051207dd8",
   "metadata": {
    "papermill": {
     "duration": 1.416021,
     "end_time": "2022-11-29T23:18:05.808232",
     "exception": false,
     "start_time": "2022-11-29T23:18:04.392211",
     "status": "completed"
    },
    "tags": []
   },
   "source": [
    "## Standard checks and stats"
   ]
  },
  {
   "cell_type": "code",
   "execution_count": 32,
   "id": "286686af-1b7b-4440-8453-6bdcbd8de19c",
   "metadata": {
    "execution": {
     "iopub.execute_input": "2022-11-29T23:18:08.771998Z",
     "iopub.status.busy": "2022-11-29T23:18:08.771570Z",
     "iopub.status.idle": "2022-11-29T23:18:08.798145Z",
     "shell.execute_reply": "2022-11-29T23:18:08.797406Z"
    },
    "papermill": {
     "duration": 1.51548,
     "end_time": "2022-11-29T23:18:08.799305",
     "exception": false,
     "start_time": "2022-11-29T23:18:07.283825",
     "status": "completed"
    },
    "tags": []
   },
   "outputs": [],
   "source": [
    "assert not gene_corrs_df.isna().any().any()"
   ]
  },
  {
   "cell_type": "code",
   "execution_count": 33,
   "id": "00583efc-7068-4270-ad1e-4a418e91db96",
   "metadata": {
    "execution": {
     "iopub.execute_input": "2022-11-29T23:18:11.724974Z",
     "iopub.status.busy": "2022-11-29T23:18:11.724615Z",
     "iopub.status.idle": "2022-11-29T23:18:11.747097Z",
     "shell.execute_reply": "2022-11-29T23:18:11.746512Z"
    },
    "papermill": {
     "duration": 1.464929,
     "end_time": "2022-11-29T23:18:11.748075",
     "exception": false,
     "start_time": "2022-11-29T23:18:10.283146",
     "status": "completed"
    },
    "tags": []
   },
   "outputs": [
    {
     "data": {
      "text/plain": [
       "1.5042425667066364e-06"
      ]
     },
     "metadata": {},
     "output_type": "display_data"
    }
   ],
   "source": [
    "_min_val = gene_corrs_df.min().min()\n",
    "display(_min_val)\n",
    "assert _min_val >= -0.05"
   ]
  },
  {
   "cell_type": "code",
   "execution_count": 34,
   "id": "d04fb2cf-1050-475b-b855-f5f7cc04092b",
   "metadata": {
    "execution": {
     "iopub.execute_input": "2022-11-29T23:18:14.642635Z",
     "iopub.status.busy": "2022-11-29T23:18:14.642348Z",
     "iopub.status.idle": "2022-11-29T23:18:14.664487Z",
     "shell.execute_reply": "2022-11-29T23:18:14.663888Z"
    },
    "papermill": {
     "duration": 1.443681,
     "end_time": "2022-11-29T23:18:14.665426",
     "exception": false,
     "start_time": "2022-11-29T23:18:13.221745",
     "status": "completed"
    },
    "tags": []
   },
   "outputs": [
    {
     "data": {
      "text/plain": [
       "1.0000000000000038"
      ]
     },
     "metadata": {},
     "output_type": "display_data"
    }
   ],
   "source": [
    "_max_val = gene_corrs_df.max().max()  # this captures the diagonal\n",
    "display(_max_val)\n",
    "assert _max_val <= 1.05"
   ]
  },
  {
   "cell_type": "code",
   "execution_count": 35,
   "id": "96d02c44-1fba-47be-8a93-8f2608420b9c",
   "metadata": {
    "execution": {
     "iopub.execute_input": "2022-11-29T23:18:17.609093Z",
     "iopub.status.busy": "2022-11-29T23:18:17.608720Z",
     "iopub.status.idle": "2022-11-29T23:18:17.630855Z",
     "shell.execute_reply": "2022-11-29T23:18:17.630145Z"
    },
    "papermill": {
     "duration": 1.497181,
     "end_time": "2022-11-29T23:18:17.631930",
     "exception": false,
     "start_time": "2022-11-29T23:18:16.134749",
     "status": "completed"
    },
    "tags": []
   },
   "outputs": [],
   "source": [
    "# check upper triangular values\n",
    "# assert len(gene_corrs) == int(genes_chr.shape[0] * (genes_chr.shape[0] - 1) / 2)"
   ]
  },
  {
   "cell_type": "code",
   "execution_count": 36,
   "id": "fe283586-c348-40e0-8841-f6d97bfb021c",
   "metadata": {
    "execution": {
     "iopub.execute_input": "2022-11-29T23:18:20.607541Z",
     "iopub.status.busy": "2022-11-29T23:18:20.607128Z",
     "iopub.status.idle": "2022-11-29T23:18:20.638599Z",
     "shell.execute_reply": "2022-11-29T23:18:20.637927Z"
    },
    "papermill": {
     "duration": 1.51931,
     "end_time": "2022-11-29T23:18:20.639573",
     "exception": false,
     "start_time": "2022-11-29T23:18:19.120263",
     "status": "completed"
    },
    "tags": []
   },
   "outputs": [
    {
     "data": {
      "text/plain": [
       "count    37675.000000\n",
       "mean         0.018489\n",
       "std          0.096375\n",
       "min          0.000002\n",
       "25%          0.003422\n",
       "50%          0.005403\n",
       "75%          0.007803\n",
       "max          1.000000\n",
       "dtype: float64"
      ]
     },
     "execution_count": 36,
     "metadata": {},
     "output_type": "execute_result"
    }
   ],
   "source": [
    "gene_corrs_flat.describe()"
   ]
  },
  {
   "cell_type": "code",
   "execution_count": 37,
   "id": "b3815678-0f93-4b35-897b-a9d047a2aa78",
   "metadata": {
    "execution": {
     "iopub.execute_input": "2022-11-29T23:18:23.679783Z",
     "iopub.status.busy": "2022-11-29T23:18:23.679501Z",
     "iopub.status.idle": "2022-11-29T23:18:23.696819Z",
     "shell.execute_reply": "2022-11-29T23:18:23.696343Z"
    },
    "papermill": {
     "duration": 1.598464,
     "end_time": "2022-11-29T23:18:23.697743",
     "exception": false,
     "start_time": "2022-11-29T23:18:22.099279",
     "status": "completed"
    },
    "tags": []
   },
   "outputs": [
    {
     "data": {
      "text/plain": [
       "0.00    0.000002\n",
       "0.05    0.001248\n",
       "0.10    0.001965\n",
       "0.15    0.002510\n",
       "0.20    0.002993\n",
       "0.25    0.003422\n",
       "0.30    0.003831\n",
       "0.35    0.004238\n",
       "0.40    0.004619\n",
       "0.45    0.005015\n",
       "0.50    0.005403\n",
       "0.55    0.005805\n",
       "0.60    0.006241\n",
       "0.65    0.006727\n",
       "0.70    0.007225\n",
       "0.75    0.007803\n",
       "0.80    0.008500\n",
       "0.85    0.009408\n",
       "0.90    0.010782\n",
       "0.95    0.014235\n",
       "dtype: float64"
      ]
     },
     "metadata": {},
     "output_type": "display_data"
    }
   ],
   "source": [
    "gene_corrs_quantiles = gene_corrs_flat.quantile(np.arange(0, 1, 0.05))\n",
    "display(gene_corrs_quantiles)"
   ]
  },
  {
   "cell_type": "markdown",
   "id": "87134509-b145-4a10-8bc9-b7e914c2b0fa",
   "metadata": {
    "papermill": {
     "duration": 1.561049,
     "end_time": "2022-11-29T23:18:26.761226",
     "exception": false,
     "start_time": "2022-11-29T23:18:25.200177",
     "status": "completed"
    },
    "tags": []
   },
   "source": [
    "## Positive definiteness"
   ]
  },
  {
   "cell_type": "code",
   "execution_count": 38,
   "id": "07d9a9a1-a4f7-48aa-b916-6d42a8cc6186",
   "metadata": {
    "execution": {
     "iopub.execute_input": "2022-11-29T23:18:29.819183Z",
     "iopub.status.busy": "2022-11-29T23:18:29.818774Z",
     "iopub.status.idle": "2022-11-29T23:18:29.870829Z",
     "shell.execute_reply": "2022-11-29T23:18:29.870162Z"
    },
    "papermill": {
     "duration": 1.599399,
     "end_time": "2022-11-29T23:18:29.871822",
     "exception": false,
     "start_time": "2022-11-29T23:18:28.272423",
     "status": "completed"
    },
    "tags": []
   },
   "outputs": [
    {
     "data": {
      "text/plain": [
       "0"
      ]
     },
     "metadata": {},
     "output_type": "display_data"
    },
    {
     "data": {
      "text/plain": [
       "array([], dtype=float64)"
      ]
     },
     "metadata": {},
     "output_type": "display_data"
    }
   ],
   "source": [
    "# print negative eigenvalues\n",
    "eigs = np.linalg.eigvals(gene_corrs_df.to_numpy())\n",
    "display(len(eigs[eigs < 0]))\n",
    "display(eigs[eigs < 0])"
   ]
  },
  {
   "cell_type": "code",
   "execution_count": 39,
   "id": "6e218436-c3c5-4028-8c94-a4fa6260efce",
   "metadata": {
    "execution": {
     "iopub.execute_input": "2022-11-29T23:18:32.963579Z",
     "iopub.status.busy": "2022-11-29T23:18:32.963269Z",
     "iopub.status.idle": "2022-11-29T23:18:32.989759Z",
     "shell.execute_reply": "2022-11-29T23:18:32.989093Z"
    },
    "papermill": {
     "duration": 1.519315,
     "end_time": "2022-11-29T23:18:32.990769",
     "exception": false,
     "start_time": "2022-11-29T23:18:31.471454",
     "status": "completed"
    },
    "tags": []
   },
   "outputs": [
    {
     "name": "stdout",
     "output_type": "stream",
     "text": [
      "Works!\n"
     ]
    }
   ],
   "source": [
    "try:\n",
    "    chol_mat = np.linalg.cholesky(gene_corrs_df.to_numpy())\n",
    "    cov_inv = np.linalg.inv(chol_mat)\n",
    "    print(\"Works!\")\n",
    "except Exception as e:\n",
    "    print(f\"Cholesky decomposition failed: {str(e)}\")"
   ]
  },
  {
   "cell_type": "code",
   "execution_count": 40,
   "id": "dd8827fb-faf9-4c7c-9454-015e94752706",
   "metadata": {
    "execution": {
     "iopub.execute_input": "2022-11-29T23:18:35.981145Z",
     "iopub.status.busy": "2022-11-29T23:18:35.980746Z",
     "iopub.status.idle": "2022-11-29T23:18:36.010117Z",
     "shell.execute_reply": "2022-11-29T23:18:36.009664Z"
    },
    "papermill": {
     "duration": 1.537786,
     "end_time": "2022-11-29T23:18:36.010961",
     "exception": false,
     "start_time": "2022-11-29T23:18:34.473175",
     "status": "completed"
    },
    "tags": []
   },
   "outputs": [
    {
     "name": "stdout",
     "output_type": "stream",
     "text": [
      "Works!\n"
     ]
    }
   ],
   "source": [
    "try:\n",
    "    # decomposition used by statsmodels.GLS\n",
    "    cholsigmainv = np.linalg.cholesky(np.linalg.inv(gene_corrs_df.to_numpy())).T\n",
    "    print(\"Works!\")\n",
    "except Exception as e:\n",
    "    print(f\"Cholesky decomposition failed (statsmodels.GLS): {str(e)}\")"
   ]
  },
  {
   "cell_type": "markdown",
   "id": "8e60a080-edb2-4e9c-b2ef-22961693200c",
   "metadata": {
    "papermill": {
     "duration": 1.474968,
     "end_time": "2022-11-29T23:18:38.911089",
     "exception": false,
     "start_time": "2022-11-29T23:18:37.436121",
     "status": "completed"
    },
    "tags": []
   },
   "source": [
    "## Plot: distribution"
   ]
  },
  {
   "cell_type": "code",
   "execution_count": 41,
   "id": "8301126b-a7d4-4744-9c7d-f0f86eb6f54c",
   "metadata": {
    "execution": {
     "iopub.execute_input": "2022-11-29T23:18:41.820316Z",
     "iopub.status.busy": "2022-11-29T23:18:41.819817Z",
     "iopub.status.idle": "2022-11-29T23:18:46.860402Z",
     "shell.execute_reply": "2022-11-29T23:18:46.859887Z"
    },
    "papermill": {
     "duration": 6.451183,
     "end_time": "2022-11-29T23:18:46.861792",
     "exception": false,
     "start_time": "2022-11-29T23:18:40.410609",
     "status": "completed"
    },
    "tags": []
   },
   "outputs": [
    {
     "data": {
      "image/png": "[encoded data removed]",
      "text/plain": [
       "<Figure size 700x700 with 1 Axes>"
      ]
     },
     "metadata": {},
     "output_type": "display_data"
    }
   ],
   "source": [
    "with sns.plotting_context(\"paper\", font_scale=1.5):\n",
    "    g = sns.displot(gene_corrs_flat, kde=True, height=7)\n",
    "    g.ax.set_title(\n",
    "        f\"Distribution of gene correlation values in chromosome {CHROMOSOME}\"\n",
    "    )"
   ]
  },
  {
   "cell_type": "markdown",
   "id": "cbd52bca-d878-4a2f-b684-5c83aa3038d4",
   "metadata": {
    "papermill": {
     "duration": 1.471184,
     "end_time": "2022-11-29T23:18:49.831714",
     "exception": false,
     "start_time": "2022-11-29T23:18:48.360530",
     "status": "completed"
    },
    "tags": []
   },
   "source": [
    "## Plot: heatmap"
   ]
  },
  {
   "cell_type": "code",
   "execution_count": 42,
   "id": "d03fe63a-c7b2-4fb9-a53c-db362ce843c9",
   "metadata": {
    "execution": {
     "iopub.execute_input": "2022-11-29T23:18:52.773706Z",
     "iopub.status.busy": "2022-11-29T23:18:52.773400Z",
     "iopub.status.idle": "2022-11-29T23:18:52.797602Z",
     "shell.execute_reply": "2022-11-29T23:18:52.797066Z"
    },
    "papermill": {
     "duration": 1.470678,
     "end_time": "2022-11-29T23:18:52.798598",
     "exception": false,
     "start_time": "2022-11-29T23:18:51.327920",
     "status": "completed"
    },
    "tags": []
   },
   "outputs": [
    {
     "data": {
      "text/plain": [
       "'0.0 / 0.05'"
      ]
     },
     "metadata": {},
     "output_type": "display_data"
    }
   ],
   "source": [
    "vmin_val = min(0.00, gene_corrs_quantiles[0.10])\n",
    "vmax_val = max(0.05, gene_corrs_quantiles[0.90])\n",
    "display(f\"{vmin_val} / {vmax_val}\")"
   ]
  },
  {
   "cell_type": "code",
   "execution_count": 43,
   "id": "dc41b70b-5bcc-4d9e-9f33-a22c4a94dab5",
   "metadata": {
    "execution": {
     "iopub.execute_input": "2022-11-29T23:18:55.943352Z",
     "iopub.status.busy": "2022-11-29T23:18:55.942865Z",
     "iopub.status.idle": "2022-11-29T23:18:56.200953Z",
     "shell.execute_reply": "2022-11-29T23:18:56.200399Z"
    },
    "papermill": {
     "duration": 1.814525,
     "end_time": "2022-11-29T23:18:56.204935",
     "exception": false,
     "start_time": "2022-11-29T23:18:54.390410",
     "status": "completed"
    },
    "tags": []
   },
   "outputs": [
    {
     "data": {
      "text/plain": [
       "Text(0.5, 1.0, 'Gene correlations in chromosome 16')"
      ]
     },
     "execution_count": 43,
     "metadata": {},
     "output_type": "execute_result"
    },
    {
     "data": {
      "image/png": "[encoded data removed]",
      "text/plain": [
       "<Figure size 1000x1000 with 2 Axes>"
      ]
     },
     "metadata": {},
     "output_type": "display_data"
    }
   ],
   "source": [
    "f, ax = plt.subplots(figsize=(10, 10))\n",
    "sns.heatmap(\n",
    "    gene_corrs_df,\n",
    "    xticklabels=False,\n",
    "    yticklabels=False,\n",
    "    square=True,\n",
    "    vmin=vmin_val,\n",
    "    vmax=vmax_val,\n",
    "    cmap=\"rocket_r\",\n",
    "    ax=ax,\n",
    ")\n",
    "ax.set_title(f\"Gene correlations in chromosome {CHROMOSOME}\")"
   ]
  },
  {
   "cell_type": "code",
   "execution_count": null,
   "id": "b25e3ead",
   "metadata": {
    "papermill": {
     "duration": 1.512351,
     "end_time": "2022-11-29T23:18:59.336236",
     "exception": false,
     "start_time": "2022-11-29T23:18:57.823885",
     "status": "completed"
    },
    "tags": []
   },
   "outputs": [],
   "source": []
  }
 ],
 "metadata": {
  "jupytext": {
   "cell_metadata_filter": "all,-execution,-papermill,-trusted",
   "formats": "ipynb,py//py:percent"
  },
  "kernelspec": {
   "display_name": "Python 3 (ipykernel)",
   "language": "python",
   "name": "python3"
  },
  "language_info": {
   "codemirror_mode": {
    "name": "ipython",
    "version": 3
   },
   "file_extension": ".py",
   "mimetype": "text/x-python",
   "name": "python",
   "nbconvert_exporter": "python",
   "pygments_lexer": "ipython3",
   "version": "3.10.6"
  },
  "papermill": {
   "default_parameters": {},
   "duration": 1670.509769,
   "end_time": "2022-11-29T23:19:04.157672",
   "environment_variables": {},
   "exception": null,
   "input_path": "projects/asthma-copd/nbs/20_gene_corrs/10-gene_expr_correlations.ipynb",
   "output_path": "projects/asthma-copd/nbs/20_gene_corrs/gene_corrs/asthma_only/10-gene_expr_correlations-chr16.run.ipynb",
   "parameters": {
    "CHROMOSOME": 16,
    "COHORT_NAME": "asthma_only",
    "OUTPUT_DIR_BASE": "/opt/data/projects/asthma-copd/results/gls_phenoplier"
   },
   "start_time": "2022-11-29T22:51:13.647903",
   "version": "2.2.2"
  }
 },
 "nbformat": 4,
 "nbformat_minor": 5
}
