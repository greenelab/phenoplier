{
 "cells": [
  {
   "cell_type": "markdown",
   "id": "7a6632fb",
   "metadata": {
    "papermill": {
     "duration": 0.009108,
     "end_time": "2022-11-29T23:05:32.056557",
     "exception": false,
     "start_time": "2022-11-29T23:05:32.047449",
     "status": "completed"
    },
    "tags": []
   },
   "source": [
    "# Description"
   ]
  },
  {
   "cell_type": "markdown",
   "id": "7097c346",
   "metadata": {
    "papermill": {
     "duration": 0.008859,
     "end_time": "2022-11-29T23:05:32.074812",
     "exception": false,
     "start_time": "2022-11-29T23:05:32.065953",
     "status": "completed"
    },
    "tags": []
   },
   "source": [
    "(Please, take a look at the README.md file in this directory for instructions on how to run this notebook)\n",
    "\n",
    "This notebook computes predicted expression correlations between all genes in the MultiPLIER models.\n",
    "\n",
    "It has specicfic parameters for papermill (see under `Settings` below).\n",
    "It can be configured to run on a single chromosome to run in parallel.\n",
    "\n",
    "This notebook is not directly run. See README.md."
   ]
  },
  {
   "cell_type": "markdown",
   "id": "c61d8427",
   "metadata": {
    "papermill": {
     "duration": 0.008216,
     "end_time": "2022-11-29T23:05:32.091363",
     "exception": false,
     "start_time": "2022-11-29T23:05:32.083147",
     "status": "completed"
    },
    "tags": []
   },
   "source": [
    "# Modules"
   ]
  },
  {
   "cell_type": "code",
   "execution_count": 1,
   "id": "bbc0234f",
   "metadata": {
    "execution": {
     "iopub.execute_input": "2022-11-29T23:05:32.110463Z",
     "iopub.status.busy": "2022-11-29T23:05:32.109812Z",
     "iopub.status.idle": "2022-11-29T23:05:32.129524Z",
     "shell.execute_reply": "2022-11-29T23:05:32.128899Z"
    },
    "papermill": {
     "duration": 0.030604,
     "end_time": "2022-11-29T23:05:32.131019",
     "exception": false,
     "start_time": "2022-11-29T23:05:32.100415",
     "status": "completed"
    },
    "tags": []
   },
   "outputs": [],
   "source": [
    "%load_ext autoreload\n",
    "%autoreload 2"
   ]
  },
  {
   "cell_type": "code",
   "execution_count": 2,
   "id": "1d5f5a59",
   "metadata": {
    "execution": {
     "iopub.execute_input": "2022-11-29T23:05:32.149808Z",
     "iopub.status.busy": "2022-11-29T23:05:32.149278Z",
     "iopub.status.idle": "2022-11-29T23:05:32.842114Z",
     "shell.execute_reply": "2022-11-29T23:05:32.841538Z"
    },
    "papermill": {
     "duration": 0.704019,
     "end_time": "2022-11-29T23:05:32.843994",
     "exception": false,
     "start_time": "2022-11-29T23:05:32.139975",
     "status": "completed"
    },
    "tags": []
   },
   "outputs": [],
   "source": [
    "from random import sample, seed\n",
    "import warnings\n",
    "from pathlib import Path\n",
    "import pickle\n",
    "import traceback\n",
    "\n",
    "import numpy as np\n",
    "from scipy.spatial.distance import squareform\n",
    "import pandas as pd\n",
    "from tqdm import tqdm\n",
    "import matplotlib.pyplot as plt\n",
    "import seaborn as sns\n",
    "\n",
    "import conf\n",
    "from entity import Gene"
   ]
  },
  {
   "cell_type": "markdown",
   "id": "1eac24b5",
   "metadata": {
    "papermill": {
     "duration": 0.01014,
     "end_time": "2022-11-29T23:05:32.865102",
     "exception": false,
     "start_time": "2022-11-29T23:05:32.854962",
     "status": "completed"
    },
    "tags": []
   },
   "source": [
    "# Settings"
   ]
  },
  {
   "cell_type": "code",
   "execution_count": 3,
   "id": "ca4560ba",
   "metadata": {
    "execution": {
     "iopub.execute_input": "2022-11-29T23:05:32.885946Z",
     "iopub.status.busy": "2022-11-29T23:05:32.885819Z",
     "iopub.status.idle": "2022-11-29T23:05:32.899269Z",
     "shell.execute_reply": "2022-11-29T23:05:32.898784Z"
    },
    "papermill": {
     "duration": 0.025545,
     "end_time": "2022-11-29T23:05:32.900732",
     "exception": false,
     "start_time": "2022-11-29T23:05:32.875187",
     "status": "completed"
    },
    "tags": [
     "parameters"
    ]
   },
   "outputs": [],
   "source": [
    "# a cohort name (it could be something like UK_BIOBANK, etc)\n",
    "COHORT_NAME = None\n",
    "\n",
    "# reference panel such as 1000G or GTEX_V8\n",
    "REFERENCE_PANEL = \"GTEX_V8\"\n",
    "\n",
    "# predictions models such as MASHR or ELASTIC_NET\n",
    "EQTL_MODEL = \"MASHR\"\n",
    "\n",
    "# this is the default value used in S-MultiXcan to select the\n",
    "# top principal components of the expression correlation matrix\n",
    "SMULTIXCAN_CONDITION_NUMBER = 30\n",
    "\n",
    "# specifies a single chromosome value\n",
    "CHROMOSOME = None\n",
    "\n",
    "# If True, computes the correlation between closeby genes only;\n",
    "# otherwise, it computes correlations for all genes in a chromosome\n",
    "COMPUTE_CORRELATIONS_WITHIN_DISTANCE = False\n",
    "\n",
    "# if True, then it will continue if a gene pair correlation fails,\n",
    "# printing the warning/error for debugging. If False, any warning/error\n",
    "# will be thrown\n",
    "DEBUG_MODE = False\n",
    "\n",
    "# output dir\n",
    "OUTPUT_DIR_BASE = None"
   ]
  },
  {
   "cell_type": "code",
   "execution_count": 4,
   "id": "9ad679e0",
   "metadata": {
    "execution": {
     "iopub.execute_input": "2022-11-29T23:05:32.918477Z",
     "iopub.status.busy": "2022-11-29T23:05:32.918345Z",
     "iopub.status.idle": "2022-11-29T23:05:32.931370Z",
     "shell.execute_reply": "2022-11-29T23:05:32.930844Z"
    },
    "papermill": {
     "duration": 0.023345,
     "end_time": "2022-11-29T23:05:32.932780",
     "exception": false,
     "start_time": "2022-11-29T23:05:32.909435",
     "status": "completed"
    },
    "tags": [
     "injected-parameters"
    ]
   },
   "outputs": [],
   "source": [
    "# Parameters\n",
    "COHORT_NAME = \"asthma_only\"\n",
    "CHROMOSOME = 20\n",
    "OUTPUT_DIR_BASE = \"/opt/data/projects/asthma-copd/results/gls_phenoplier\"\n"
   ]
  },
  {
   "cell_type": "code",
   "execution_count": 5,
   "id": "3190631f-27fc-480f-b18e-571d580425a5",
   "metadata": {
    "execution": {
     "iopub.execute_input": "2022-11-29T23:05:32.954232Z",
     "iopub.status.busy": "2022-11-29T23:05:32.954013Z",
     "iopub.status.idle": "2022-11-29T23:05:32.969822Z",
     "shell.execute_reply": "2022-11-29T23:05:32.969373Z"
    },
    "papermill": {
     "duration": 0.028928,
     "end_time": "2022-11-29T23:05:32.970664",
     "exception": false,
     "start_time": "2022-11-29T23:05:32.941736",
     "status": "completed"
    },
    "tags": []
   },
   "outputs": [
    {
     "data": {
      "text/plain": [
       "'Cohort name: asthma_only'"
      ]
     },
     "metadata": {},
     "output_type": "display_data"
    }
   ],
   "source": [
    "assert COHORT_NAME is not None and len(COHORT_NAME) > 0, \"A cohort name must be given\"\n",
    "\n",
    "COHORT_NAME = COHORT_NAME.lower()\n",
    "display(f\"Cohort name: {COHORT_NAME}\")"
   ]
  },
  {
   "cell_type": "code",
   "execution_count": 6,
   "id": "f53ba19b-0f93-4fa2-a047-63b375939d1a",
   "metadata": {
    "execution": {
     "iopub.execute_input": "2022-11-29T23:05:32.980550Z",
     "iopub.status.busy": "2022-11-29T23:05:32.980434Z",
     "iopub.status.idle": "2022-11-29T23:05:32.993305Z",
     "shell.execute_reply": "2022-11-29T23:05:32.992814Z"
    },
    "papermill": {
     "duration": 0.018813,
     "end_time": "2022-11-29T23:05:32.994175",
     "exception": false,
     "start_time": "2022-11-29T23:05:32.975362",
     "status": "completed"
    },
    "tags": []
   },
   "outputs": [
    {
     "data": {
      "text/plain": [
       "'Reference panel: GTEX_V8'"
      ]
     },
     "metadata": {},
     "output_type": "display_data"
    }
   ],
   "source": [
    "assert (\n",
    "    REFERENCE_PANEL is not None and len(REFERENCE_PANEL) > 0\n",
    "), \"A reference panel must be given\"\n",
    "\n",
    "display(f\"Reference panel: {REFERENCE_PANEL}\")"
   ]
  },
  {
   "cell_type": "code",
   "execution_count": 7,
   "id": "e024d130-c139-429a-9c6e-ccf149e297b0",
   "metadata": {
    "execution": {
     "iopub.execute_input": "2022-11-29T23:05:33.004182Z",
     "iopub.status.busy": "2022-11-29T23:05:33.003696Z",
     "iopub.status.idle": "2022-11-29T23:05:33.025823Z",
     "shell.execute_reply": "2022-11-29T23:05:33.025200Z"
    },
    "papermill": {
     "duration": 0.027933,
     "end_time": "2022-11-29T23:05:33.026641",
     "exception": false,
     "start_time": "2022-11-29T23:05:32.998708",
     "status": "completed"
    },
    "tags": []
   },
   "outputs": [
    {
     "data": {
      "text/plain": [
       "'eQTL model: MASHR) / mashr_'"
      ]
     },
     "metadata": {},
     "output_type": "display_data"
    }
   ],
   "source": [
    "assert (\n",
    "    EQTL_MODEL is not None and len(EQTL_MODEL) > 0\n",
    "), \"A prediction/eQTL model must be given\"\n",
    "\n",
    "EQTL_MODEL_FILES_PREFIX = conf.PHENOMEXCAN[\"PREDICTION_MODELS\"][f\"{EQTL_MODEL}_PREFIX\"]\n",
    "display(f\"eQTL model: {EQTL_MODEL}) / {EQTL_MODEL_FILES_PREFIX}\")"
   ]
  },
  {
   "cell_type": "code",
   "execution_count": 8,
   "id": "552a7f63-a18c-4d3e-bb6a-94f99b431291",
   "metadata": {
    "execution": {
     "iopub.execute_input": "2022-11-29T23:05:33.036928Z",
     "iopub.status.busy": "2022-11-29T23:05:33.036503Z",
     "iopub.status.idle": "2022-11-29T23:05:33.056263Z",
     "shell.execute_reply": "2022-11-29T23:05:33.055627Z"
    },
    "papermill": {
     "duration": 0.025932,
     "end_time": "2022-11-29T23:05:33.057096",
     "exception": false,
     "start_time": "2022-11-29T23:05:33.031164",
     "status": "completed"
    },
    "tags": []
   },
   "outputs": [
    {
     "data": {
      "text/plain": [
       "'S-MultiXcan condition number: 30'"
      ]
     },
     "metadata": {},
     "output_type": "display_data"
    }
   ],
   "source": [
    "assert (\n",
    "    SMULTIXCAN_CONDITION_NUMBER is not None and SMULTIXCAN_CONDITION_NUMBER > 0\n",
    "), \"The S-MultiXcan condition number (positive integer) must be given\"\n",
    "\n",
    "display(f\"S-MultiXcan condition number: {SMULTIXCAN_CONDITION_NUMBER}\")"
   ]
  },
  {
   "cell_type": "code",
   "execution_count": 9,
   "id": "f34a336f-548e-4afe-8955-90eaea4f42c6",
   "metadata": {
    "execution": {
     "iopub.execute_input": "2022-11-29T23:05:33.067321Z",
     "iopub.status.busy": "2022-11-29T23:05:33.066868Z",
     "iopub.status.idle": "2022-11-29T23:05:33.087063Z",
     "shell.execute_reply": "2022-11-29T23:05:33.086448Z"
    },
    "papermill": {
     "duration": 0.026157,
     "end_time": "2022-11-29T23:05:33.087894",
     "exception": false,
     "start_time": "2022-11-29T23:05:33.061737",
     "status": "completed"
    },
    "tags": []
   },
   "outputs": [
    {
     "data": {
      "text/plain": [
       "'Working on chromosome 20'"
      ]
     },
     "metadata": {},
     "output_type": "display_data"
    }
   ],
   "source": [
    "assert CHROMOSOME is not None and (\n",
    "    1 <= CHROMOSOME <= 22\n",
    "), \"You have to select one chromosome (format: number between 1 and 22)\"\n",
    "\n",
    "# CHROMOSOME = str(CHROMOSOME)\n",
    "display(f\"Working on chromosome {CHROMOSOME}\")"
   ]
  },
  {
   "cell_type": "code",
   "execution_count": 10,
   "id": "ab8e96e8-06b5-4363-9dcd-dc4d78cc27f7",
   "metadata": {
    "execution": {
     "iopub.execute_input": "2022-11-29T23:05:33.098212Z",
     "iopub.status.busy": "2022-11-29T23:05:33.097772Z",
     "iopub.status.idle": "2022-11-29T23:05:33.117650Z",
     "shell.execute_reply": "2022-11-29T23:05:33.117011Z"
    },
    "papermill": {
     "duration": 0.026005,
     "end_time": "2022-11-29T23:05:33.118596",
     "exception": false,
     "start_time": "2022-11-29T23:05:33.092591",
     "status": "completed"
    },
    "tags": []
   },
   "outputs": [
    {
     "data": {
      "text/plain": [
       "'Compute correlation within distance False'"
      ]
     },
     "metadata": {},
     "output_type": "display_data"
    }
   ],
   "source": [
    "display(f\"Compute correlation within distance {COMPUTE_CORRELATIONS_WITHIN_DISTANCE}\")"
   ]
  },
  {
   "cell_type": "code",
   "execution_count": 11,
   "id": "b393b698-77e3-4ba2-8ac1-e14d51aa988f",
   "metadata": {
    "execution": {
     "iopub.execute_input": "2022-11-29T23:05:33.129576Z",
     "iopub.status.busy": "2022-11-29T23:05:33.129055Z",
     "iopub.status.idle": "2022-11-29T23:05:33.150829Z",
     "shell.execute_reply": "2022-11-29T23:05:33.150197Z"
    },
    "papermill": {
     "duration": 0.028068,
     "end_time": "2022-11-29T23:05:33.151743",
     "exception": false,
     "start_time": "2022-11-29T23:05:33.123675",
     "status": "completed"
    },
    "tags": []
   },
   "outputs": [
    {
     "data": {
      "text/plain": [
       "'Using output dir base: /opt/data/projects/asthma-copd/results/gls_phenoplier/gene_corrs/asthma_only'"
      ]
     },
     "metadata": {},
     "output_type": "display_data"
    }
   ],
   "source": [
    "assert (\n",
    "    OUTPUT_DIR_BASE is not None and len(OUTPUT_DIR_BASE) > 0\n",
    "), \"Output directory path must be given\"\n",
    "\n",
    "OUTPUT_DIR_BASE = (\n",
    "    Path(OUTPUT_DIR_BASE)\n",
    "    / \"gene_corrs\"\n",
    "    / COHORT_NAME\n",
    "    # / REFERENCE_PANEL.lower()\n",
    "    # / EQTL_MODEL.lower()\n",
    ").resolve()\n",
    "\n",
    "OUTPUT_DIR_BASE.mkdir(parents=True, exist_ok=True)\n",
    "\n",
    "display(f\"Using output dir base: {OUTPUT_DIR_BASE}\")"
   ]
  },
  {
   "cell_type": "markdown",
   "id": "d2ba085e",
   "metadata": {
    "papermill": {
     "duration": 0.004685,
     "end_time": "2022-11-29T23:05:33.161455",
     "exception": false,
     "start_time": "2022-11-29T23:05:33.156770",
     "status": "completed"
    },
    "tags": []
   },
   "source": [
    "# Load data"
   ]
  },
  {
   "cell_type": "markdown",
   "id": "7dcb8db7",
   "metadata": {
    "papermill": {
     "duration": 0.004948,
     "end_time": "2022-11-29T23:05:33.171117",
     "exception": false,
     "start_time": "2022-11-29T23:05:33.166169",
     "status": "completed"
    },
    "tags": []
   },
   "source": [
    "## GWAS variants"
   ]
  },
  {
   "cell_type": "code",
   "execution_count": 12,
   "id": "29434c4e-8cd3-4b9b-82e4-b5a251d9dd19",
   "metadata": {
    "execution": {
     "iopub.execute_input": "2022-11-29T23:05:33.181400Z",
     "iopub.status.busy": "2022-11-29T23:05:33.181208Z",
     "iopub.status.idle": "2022-11-29T23:05:35.174999Z",
     "shell.execute_reply": "2022-11-29T23:05:35.174454Z"
    },
    "papermill": {
     "duration": 2.000876,
     "end_time": "2022-11-29T23:05:35.176750",
     "exception": false,
     "start_time": "2022-11-29T23:05:33.175874",
     "status": "completed"
    },
    "tags": []
   },
   "outputs": [],
   "source": [
    "with open(OUTPUT_DIR_BASE / \"gwas_variant_ids.pkl\", \"rb\") as handle:\n",
    "    gwas_variants_ids_set = pickle.load(handle)"
   ]
  },
  {
   "cell_type": "code",
   "execution_count": 13,
   "id": "b9d9dec2-4a76-4bf9-bde2-e24c95acb8a0",
   "metadata": {
    "execution": {
     "iopub.execute_input": "2022-11-29T23:05:35.197591Z",
     "iopub.status.busy": "2022-11-29T23:05:35.197414Z",
     "iopub.status.idle": "2022-11-29T23:05:35.211631Z",
     "shell.execute_reply": "2022-11-29T23:05:35.211161Z"
    },
    "papermill": {
     "duration": 0.026071,
     "end_time": "2022-11-29T23:05:35.213098",
     "exception": false,
     "start_time": "2022-11-29T23:05:35.187027",
     "status": "completed"
    },
    "tags": []
   },
   "outputs": [
    {
     "data": {
      "text/plain": [
       "8578486"
      ]
     },
     "execution_count": 13,
     "metadata": {},
     "output_type": "execute_result"
    }
   ],
   "source": [
    "len(gwas_variants_ids_set)"
   ]
  },
  {
   "cell_type": "code",
   "execution_count": 14,
   "id": "4235b06a-6034-4ee4-a0a3-2ae35d122418",
   "metadata": {
    "execution": {
     "iopub.execute_input": "2022-11-29T23:05:35.237264Z",
     "iopub.status.busy": "2022-11-29T23:05:35.237071Z",
     "iopub.status.idle": "2022-11-29T23:05:35.626886Z",
     "shell.execute_reply": "2022-11-29T23:05:35.626333Z"
    },
    "papermill": {
     "duration": 0.40327,
     "end_time": "2022-11-29T23:05:35.628350",
     "exception": false,
     "start_time": "2022-11-29T23:05:35.225080",
     "status": "completed"
    },
    "tags": []
   },
   "outputs": [
    {
     "data": {
      "text/plain": [
       "['chr15_79605959_G_A_b38',\n",
       " 'chr12_64479567_G_A_b38',\n",
       " 'chr22_19864915_A_G_b38',\n",
       " 'chr21_42875749_T_C_b38',\n",
       " 'chr1_238601972_A_G_b38']"
      ]
     },
     "execution_count": 14,
     "metadata": {},
     "output_type": "execute_result"
    }
   ],
   "source": [
    "list(gwas_variants_ids_set)[:5]"
   ]
  },
  {
   "cell_type": "markdown",
   "id": "07866999-2305-41f9-a144-e69c9122c212",
   "metadata": {
    "papermill": {
     "duration": 0.009743,
     "end_time": "2022-11-29T23:05:35.648641",
     "exception": false,
     "start_time": "2022-11-29T23:05:35.638898",
     "status": "completed"
    },
    "tags": []
   },
   "source": [
    "## S-PrediXcan tissue models"
   ]
  },
  {
   "cell_type": "code",
   "execution_count": 15,
   "id": "780611d9-77c8-405f-90a4-f271f7b09397",
   "metadata": {
    "execution": {
     "iopub.execute_input": "2022-11-29T23:05:35.669120Z",
     "iopub.status.busy": "2022-11-29T23:05:35.668916Z",
     "iopub.status.idle": "2022-11-29T23:05:36.288002Z",
     "shell.execute_reply": "2022-11-29T23:05:36.287403Z"
    },
    "papermill": {
     "duration": 0.631786,
     "end_time": "2022-11-29T23:05:36.290387",
     "exception": false,
     "start_time": "2022-11-29T23:05:35.658601",
     "status": "completed"
    },
    "tags": []
   },
   "outputs": [],
   "source": [
    "spredixcan_genes_models = pd.read_pickle(OUTPUT_DIR_BASE / \"gene_tissues.pkl\")"
   ]
  },
  {
   "cell_type": "code",
   "execution_count": 16,
   "id": "726dd1f6-9557-4225-91fa-b3b879ea96e1",
   "metadata": {
    "execution": {
     "iopub.execute_input": "2022-11-29T23:05:36.323074Z",
     "iopub.status.busy": "2022-11-29T23:05:36.322885Z",
     "iopub.status.idle": "2022-11-29T23:05:36.336313Z",
     "shell.execute_reply": "2022-11-29T23:05:36.335921Z"
    },
    "papermill": {
     "duration": 0.029099,
     "end_time": "2022-11-29T23:05:36.337712",
     "exception": false,
     "start_time": "2022-11-29T23:05:36.308613",
     "status": "completed"
    },
    "tags": []
   },
   "outputs": [
    {
     "data": {
      "text/plain": [
       "(6443, 5)"
      ]
     },
     "execution_count": 16,
     "metadata": {},
     "output_type": "execute_result"
    }
   ],
   "source": [
    "spredixcan_genes_models.shape"
   ]
  },
  {
   "cell_type": "code",
   "execution_count": 17,
   "id": "944a1b48-222c-4eb0-b252-b9de2cbca215",
   "metadata": {
    "execution": {
     "iopub.execute_input": "2022-11-29T23:05:36.358524Z",
     "iopub.status.busy": "2022-11-29T23:05:36.358278Z",
     "iopub.status.idle": "2022-11-29T23:05:36.375267Z",
     "shell.execute_reply": "2022-11-29T23:05:36.374873Z"
    },
    "papermill": {
     "duration": 0.02872,
     "end_time": "2022-11-29T23:05:36.376576",
     "exception": false,
     "start_time": "2022-11-29T23:05:36.347856",
     "status": "completed"
    },
    "tags": []
   },
   "outputs": [
    {
     "data": {
      "text/html": [
       "<div>\n",
       "<style scoped>\n",
       "    .dataframe tbody tr th:only-of-type {\n",
       "        vertical-align: middle;\n",
       "    }\n",
       "\n",
       "    .dataframe tbody tr th {\n",
       "        vertical-align: top;\n",
       "    }\n",
       "\n",
       "    .dataframe thead th {\n",
       "        text-align: right;\n",
       "    }\n",
       "</style>\n",
       "<table border=\"1\" class=\"dataframe\">\n",
       "  <thead>\n",
       "    <tr style=\"text-align: right;\">\n",
       "      <th></th>\n",
       "      <th>gene_name</th>\n",
       "      <th>tissue</th>\n",
       "      <th>n_tissues</th>\n",
       "      <th>n_snps_used_sum</th>\n",
       "      <th>n_snps_in_model_sum</th>\n",
       "    </tr>\n",
       "    <tr>\n",
       "      <th>gene_id</th>\n",
       "      <th></th>\n",
       "      <th></th>\n",
       "      <th></th>\n",
       "      <th></th>\n",
       "      <th></th>\n",
       "    </tr>\n",
       "  </thead>\n",
       "  <tbody>\n",
       "    <tr>\n",
       "      <th>ENSG00000000419</th>\n",
       "      <td>DPM1</td>\n",
       "      <td>(Brain_Substantia_nigra, Brain_Hypothalamus)</td>\n",
       "      <td>2</td>\n",
       "      <td>2</td>\n",
       "      <td>2</td>\n",
       "    </tr>\n",
       "    <tr>\n",
       "      <th>ENSG00000000938</th>\n",
       "      <td>FGR</td>\n",
       "      <td>(Skin_Sun_Exposed_Lower_leg, Brain_Nucleus_acc...</td>\n",
       "      <td>36</td>\n",
       "      <td>40</td>\n",
       "      <td>40</td>\n",
       "    </tr>\n",
       "    <tr>\n",
       "      <th>ENSG00000000971</th>\n",
       "      <td>CFH</td>\n",
       "      <td>(Uterus, Skin_Sun_Exposed_Lower_leg, Artery_Ao...</td>\n",
       "      <td>34</td>\n",
       "      <td>44</td>\n",
       "      <td>44</td>\n",
       "    </tr>\n",
       "    <tr>\n",
       "      <th>ENSG00000001084</th>\n",
       "      <td>GCLC</td>\n",
       "      <td>(Skin_Sun_Exposed_Lower_leg, Brain_Nucleus_acc...</td>\n",
       "      <td>32</td>\n",
       "      <td>46</td>\n",
       "      <td>46</td>\n",
       "    </tr>\n",
       "    <tr>\n",
       "      <th>ENSG00000001167</th>\n",
       "      <td>NFYA</td>\n",
       "      <td>(Skin_Sun_Exposed_Lower_leg, Brain_Nucleus_acc...</td>\n",
       "      <td>40</td>\n",
       "      <td>47</td>\n",
       "      <td>48</td>\n",
       "    </tr>\n",
       "  </tbody>\n",
       "</table>\n",
       "</div>"
      ],
      "text/plain": [
       "                gene_name                                             tissue  \\\n",
       "gene_id                                                                        \n",
       "ENSG00000000419      DPM1       (Brain_Substantia_nigra, Brain_Hypothalamus)   \n",
       "ENSG00000000938       FGR  (Skin_Sun_Exposed_Lower_leg, Brain_Nucleus_acc...   \n",
       "ENSG00000000971       CFH  (Uterus, Skin_Sun_Exposed_Lower_leg, Artery_Ao...   \n",
       "ENSG00000001084      GCLC  (Skin_Sun_Exposed_Lower_leg, Brain_Nucleus_acc...   \n",
       "ENSG00000001167      NFYA  (Skin_Sun_Exposed_Lower_leg, Brain_Nucleus_acc...   \n",
       "\n",
       "                 n_tissues  n_snps_used_sum  n_snps_in_model_sum  \n",
       "gene_id                                                           \n",
       "ENSG00000000419          2                2                    2  \n",
       "ENSG00000000938         36               40                   40  \n",
       "ENSG00000000971         34               44                   44  \n",
       "ENSG00000001084         32               46                   46  \n",
       "ENSG00000001167         40               47                   48  "
      ]
     },
     "execution_count": 17,
     "metadata": {},
     "output_type": "execute_result"
    }
   ],
   "source": [
    "spredixcan_genes_models.head()"
   ]
  },
  {
   "cell_type": "code",
   "execution_count": 18,
   "id": "d1c11bb1-be0b-4f40-b360-633d6827109f",
   "metadata": {
    "execution": {
     "iopub.execute_input": "2022-11-29T23:05:36.398007Z",
     "iopub.status.busy": "2022-11-29T23:05:36.397893Z",
     "iopub.status.idle": "2022-11-29T23:05:36.410618Z",
     "shell.execute_reply": "2022-11-29T23:05:36.410224Z"
    },
    "papermill": {
     "duration": 0.025096,
     "end_time": "2022-11-29T23:05:36.411922",
     "exception": false,
     "start_time": "2022-11-29T23:05:36.386826",
     "status": "completed"
    },
    "tags": []
   },
   "outputs": [],
   "source": [
    "assert spredixcan_genes_models.index.is_unique"
   ]
  },
  {
   "cell_type": "markdown",
   "id": "a5b5092c-a13e-47c4-a92a-480fcc08f3ae",
   "metadata": {
    "papermill": {
     "duration": 0.011009,
     "end_time": "2022-11-29T23:05:36.433670",
     "exception": false,
     "start_time": "2022-11-29T23:05:36.422661",
     "status": "completed"
    },
    "tags": []
   },
   "source": [
    "## Gene info"
   ]
  },
  {
   "cell_type": "code",
   "execution_count": 19,
   "id": "7d6bb224-88e9-4358-ac10-43a41d92cdad",
   "metadata": {
    "execution": {
     "iopub.execute_input": "2022-11-29T23:05:36.455345Z",
     "iopub.status.busy": "2022-11-29T23:05:36.455064Z",
     "iopub.status.idle": "2022-11-29T23:05:36.480244Z",
     "shell.execute_reply": "2022-11-29T23:05:36.479692Z"
    },
    "papermill": {
     "duration": 0.037183,
     "end_time": "2022-11-29T23:05:36.481211",
     "exception": false,
     "start_time": "2022-11-29T23:05:36.444028",
     "status": "completed"
    },
    "tags": []
   },
   "outputs": [],
   "source": [
    "genes_info = pd.read_pickle(OUTPUT_DIR_BASE / \"genes_info.pkl\")"
   ]
  },
  {
   "cell_type": "code",
   "execution_count": 20,
   "id": "9e32abfa-546d-483e-8c18-d526e9e05903",
   "metadata": {
    "execution": {
     "iopub.execute_input": "2022-11-29T23:05:36.492929Z",
     "iopub.status.busy": "2022-11-29T23:05:36.492420Z",
     "iopub.status.idle": "2022-11-29T23:05:36.514385Z",
     "shell.execute_reply": "2022-11-29T23:05:36.513871Z"
    },
    "papermill": {
     "duration": 0.028572,
     "end_time": "2022-11-29T23:05:36.515239",
     "exception": false,
     "start_time": "2022-11-29T23:05:36.486667",
     "status": "completed"
    },
    "tags": []
   },
   "outputs": [
    {
     "data": {
      "text/plain": [
       "(6443, 7)"
      ]
     },
     "execution_count": 20,
     "metadata": {},
     "output_type": "execute_result"
    }
   ],
   "source": [
    "genes_info.shape"
   ]
  },
  {
   "cell_type": "code",
   "execution_count": 21,
   "id": "d16c3e92-85ec-468a-9a56-e25a9774a1cb",
   "metadata": {
    "execution": {
     "iopub.execute_input": "2022-11-29T23:05:36.527284Z",
     "iopub.status.busy": "2022-11-29T23:05:36.526906Z",
     "iopub.status.idle": "2022-11-29T23:05:36.553337Z",
     "shell.execute_reply": "2022-11-29T23:05:36.552811Z"
    },
    "papermill": {
     "duration": 0.03359,
     "end_time": "2022-11-29T23:05:36.554269",
     "exception": false,
     "start_time": "2022-11-29T23:05:36.520679",
     "status": "completed"
    },
    "tags": []
   },
   "outputs": [
    {
     "data": {
      "text/html": [
       "<div>\n",
       "<style scoped>\n",
       "    .dataframe tbody tr th:only-of-type {\n",
       "        vertical-align: middle;\n",
       "    }\n",
       "\n",
       "    .dataframe tbody tr th {\n",
       "        vertical-align: top;\n",
       "    }\n",
       "\n",
       "    .dataframe thead th {\n",
       "        text-align: right;\n",
       "    }\n",
       "</style>\n",
       "<table border=\"1\" class=\"dataframe\">\n",
       "  <thead>\n",
       "    <tr style=\"text-align: right;\">\n",
       "      <th></th>\n",
       "      <th>name</th>\n",
       "      <th>id</th>\n",
       "      <th>chr</th>\n",
       "      <th>band</th>\n",
       "      <th>start_position</th>\n",
       "      <th>end_position</th>\n",
       "      <th>gene_length</th>\n",
       "    </tr>\n",
       "  </thead>\n",
       "  <tbody>\n",
       "    <tr>\n",
       "      <th>0</th>\n",
       "      <td>UBE4B</td>\n",
       "      <td>ENSG00000130939</td>\n",
       "      <td>1</td>\n",
       "      <td>1p36.22</td>\n",
       "      <td>10032832</td>\n",
       "      <td>10181239</td>\n",
       "      <td>148407</td>\n",
       "    </tr>\n",
       "    <tr>\n",
       "      <th>1</th>\n",
       "      <td>STX18</td>\n",
       "      <td>ENSG00000168818</td>\n",
       "      <td>4</td>\n",
       "      <td>4p16.2</td>\n",
       "      <td>4415742</td>\n",
       "      <td>4542346</td>\n",
       "      <td>126604</td>\n",
       "    </tr>\n",
       "    <tr>\n",
       "      <th>2</th>\n",
       "      <td>DNM2</td>\n",
       "      <td>ENSG00000079805</td>\n",
       "      <td>19</td>\n",
       "      <td>19p13.2</td>\n",
       "      <td>10718079</td>\n",
       "      <td>10833488</td>\n",
       "      <td>115409</td>\n",
       "    </tr>\n",
       "    <tr>\n",
       "      <th>3</th>\n",
       "      <td>PLD1</td>\n",
       "      <td>ENSG00000075651</td>\n",
       "      <td>3</td>\n",
       "      <td>3q26.31</td>\n",
       "      <td>171600404</td>\n",
       "      <td>171810950</td>\n",
       "      <td>210546</td>\n",
       "    </tr>\n",
       "    <tr>\n",
       "      <th>4</th>\n",
       "      <td>ANKRD55</td>\n",
       "      <td>ENSG00000164512</td>\n",
       "      <td>5</td>\n",
       "      <td>5q11.2</td>\n",
       "      <td>56099680</td>\n",
       "      <td>56233330</td>\n",
       "      <td>133650</td>\n",
       "    </tr>\n",
       "  </tbody>\n",
       "</table>\n",
       "</div>"
      ],
      "text/plain": [
       "      name               id  chr     band  start_position  end_position  \\\n",
       "0    UBE4B  ENSG00000130939    1  1p36.22        10032832      10181239   \n",
       "1    STX18  ENSG00000168818    4   4p16.2         4415742       4542346   \n",
       "2     DNM2  ENSG00000079805   19  19p13.2        10718079      10833488   \n",
       "3     PLD1  ENSG00000075651    3  3q26.31       171600404     171810950   \n",
       "4  ANKRD55  ENSG00000164512    5   5q11.2        56099680      56233330   \n",
       "\n",
       "   gene_length  \n",
       "0       148407  \n",
       "1       126604  \n",
       "2       115409  \n",
       "3       210546  \n",
       "4       133650  "
      ]
     },
     "execution_count": 21,
     "metadata": {},
     "output_type": "execute_result"
    }
   ],
   "source": [
    "genes_info.head()"
   ]
  },
  {
   "cell_type": "markdown",
   "id": "d3843e06",
   "metadata": {
    "papermill": {
     "duration": 0.005466,
     "end_time": "2022-11-29T23:05:36.565385",
     "exception": false,
     "start_time": "2022-11-29T23:05:36.559919",
     "status": "completed"
    },
    "tags": []
   },
   "source": [
    "# Compute correlations"
   ]
  },
  {
   "cell_type": "code",
   "execution_count": 22,
   "id": "cb859c15-d1f3-4006-a74c-2b83c0db9611",
   "metadata": {
    "execution": {
     "iopub.execute_input": "2022-11-29T23:05:36.577386Z",
     "iopub.status.busy": "2022-11-29T23:05:36.577012Z",
     "iopub.status.idle": "2022-11-29T23:05:36.599431Z",
     "shell.execute_reply": "2022-11-29T23:05:36.598913Z"
    },
    "papermill": {
     "duration": 0.029263,
     "end_time": "2022-11-29T23:05:36.600262",
     "exception": false,
     "start_time": "2022-11-29T23:05:36.570999",
     "status": "completed"
    },
    "tags": []
   },
   "outputs": [
    {
     "data": {
      "text/plain": [
       "PosixPath('/opt/data/projects/asthma-copd/results/gls_phenoplier/gene_corrs/asthma_only/by_chr/gene_corrs-chr20.pkl')"
      ]
     },
     "metadata": {},
     "output_type": "display_data"
    }
   ],
   "source": [
    "output_dir = OUTPUT_DIR_BASE / \"by_chr\"\n",
    "output_dir.mkdir(exist_ok=True, parents=True)\n",
    "output_file = output_dir / f\"gene_corrs-chr{CHROMOSOME}.pkl\"\n",
    "display(output_file)"
   ]
  },
  {
   "cell_type": "code",
   "execution_count": 23,
   "id": "aa674fe4-6794-4eed-98fa-32b39d1d4ace",
   "metadata": {
    "execution": {
     "iopub.execute_input": "2022-11-29T23:05:36.612225Z",
     "iopub.status.busy": "2022-11-29T23:05:36.611738Z",
     "iopub.status.idle": "2022-11-29T23:05:36.632796Z",
     "shell.execute_reply": "2022-11-29T23:05:36.632088Z"
    },
    "papermill": {
     "duration": 0.028097,
     "end_time": "2022-11-29T23:05:36.633807",
     "exception": false,
     "start_time": "2022-11-29T23:05:36.605710",
     "status": "completed"
    },
    "tags": []
   },
   "outputs": [],
   "source": [
    "warnings.filterwarnings(\"error\")"
   ]
  },
  {
   "cell_type": "code",
   "execution_count": 24,
   "id": "44d5450b-3baf-43f1-9e2e-4b06f1a785f8",
   "metadata": {
    "execution": {
     "iopub.execute_input": "2022-11-29T23:05:36.645914Z",
     "iopub.status.busy": "2022-11-29T23:05:36.645587Z",
     "iopub.status.idle": "2022-11-29T23:05:36.667239Z",
     "shell.execute_reply": "2022-11-29T23:05:36.666702Z"
    },
    "papermill": {
     "duration": 0.028716,
     "end_time": "2022-11-29T23:05:36.668243",
     "exception": false,
     "start_time": "2022-11-29T23:05:36.639527",
     "status": "completed"
    },
    "tags": []
   },
   "outputs": [],
   "source": [
    "# standard checks\n",
    "all_chrs = genes_info[\"chr\"].dropna().unique()\n",
    "assert all_chrs.shape[0] == 22\n",
    "\n",
    "# select chromosome given by the user\n",
    "assert CHROMOSOME in all_chrs"
   ]
  },
  {
   "cell_type": "code",
   "execution_count": 25,
   "id": "2d7c043c-92a7-4d35-991b-fa69ac1e0268",
   "metadata": {
    "execution": {
     "iopub.execute_input": "2022-11-29T23:05:36.680522Z",
     "iopub.status.busy": "2022-11-29T23:05:36.680157Z",
     "iopub.status.idle": "2022-11-29T23:05:36.702583Z",
     "shell.execute_reply": "2022-11-29T23:05:36.702045Z"
    },
    "papermill": {
     "duration": 0.029561,
     "end_time": "2022-11-29T23:05:36.703434",
     "exception": false,
     "start_time": "2022-11-29T23:05:36.673873",
     "status": "completed"
    },
    "tags": []
   },
   "outputs": [
    {
     "name": "stdout",
     "output_type": "stream",
     "text": [
      "Number of genes in chromosome: 187\n"
     ]
    }
   ],
   "source": [
    "# run only on the chromosome specified\n",
    "all_chrs = [CHROMOSOME]\n",
    "genes_chr = genes_info[genes_info[\"chr\"] == CHROMOSOME]\n",
    "\n",
    "# For testing purposes\n",
    "# genes_chr = genes_chr.sample(n=20)\n",
    "\n",
    "print(f\"Number of genes in chromosome: {genes_chr.shape[0]}\", flush=True)"
   ]
  },
  {
   "cell_type": "code",
   "execution_count": 26,
   "id": "916015d8-2979-46d3-a9b9-1cf5a0932c6a",
   "metadata": {
    "execution": {
     "iopub.execute_input": "2022-11-29T23:05:36.715383Z",
     "iopub.status.busy": "2022-11-29T23:05:36.715118Z",
     "iopub.status.idle": "2022-11-29T23:05:36.737376Z",
     "shell.execute_reply": "2022-11-29T23:05:36.736818Z"
    },
    "papermill": {
     "duration": 0.029247,
     "end_time": "2022-11-29T23:05:36.738248",
     "exception": false,
     "start_time": "2022-11-29T23:05:36.709001",
     "status": "completed"
    },
    "tags": []
   },
   "outputs": [],
   "source": [
    "# sort genes by starting position to make visualizations better later\n",
    "genes_chr = genes_chr.sort_values(\"start_position\")"
   ]
  },
  {
   "cell_type": "code",
   "execution_count": 27,
   "id": "a38aa74a-8ad3-47f6-8ef9-56be0e011774",
   "metadata": {
    "execution": {
     "iopub.execute_input": "2022-11-29T23:05:36.750687Z",
     "iopub.status.busy": "2022-11-29T23:05:36.750315Z",
     "iopub.status.idle": "2022-11-29T23:05:36.772487Z",
     "shell.execute_reply": "2022-11-29T23:05:36.771933Z"
    },
    "papermill": {
     "duration": 0.029463,
     "end_time": "2022-11-29T23:05:36.773580",
     "exception": false,
     "start_time": "2022-11-29T23:05:36.744117",
     "status": "completed"
    },
    "tags": []
   },
   "outputs": [],
   "source": [
    "gene_chr_objs = [Gene(ensembl_id=gene_id) for gene_id in genes_chr[\"id\"]]"
   ]
  },
  {
   "cell_type": "code",
   "execution_count": 28,
   "id": "570f974f-13c3-42b6-ad3a-ce99ca885c1a",
   "metadata": {
    "execution": {
     "iopub.execute_input": "2022-11-29T23:05:36.785786Z",
     "iopub.status.busy": "2022-11-29T23:05:36.785429Z",
     "iopub.status.idle": "2022-11-29T23:05:36.807193Z",
     "shell.execute_reply": "2022-11-29T23:05:36.806664Z"
    },
    "papermill": {
     "duration": 0.028831,
     "end_time": "2022-11-29T23:05:36.808080",
     "exception": false,
     "start_time": "2022-11-29T23:05:36.779249",
     "status": "completed"
    },
    "tags": []
   },
   "outputs": [
    {
     "name": "stdout",
     "output_type": "stream",
     "text": [
      "Number of gene combinations: 17578\n"
     ]
    }
   ],
   "source": [
    "n = len(gene_chr_objs)\n",
    "# diagonal elements + upper triangular matrix\n",
    "n_comb = n + int(n * (n - 1) / 2.0)\n",
    "print(f\"Number of gene combinations: {n_comb}\", flush=True)"
   ]
  },
  {
   "cell_type": "code",
   "execution_count": 29,
   "id": "cdbb90a1",
   "metadata": {
    "execution": {
     "iopub.execute_input": "2022-11-29T23:05:36.820840Z",
     "iopub.status.busy": "2022-11-29T23:05:36.820535Z",
     "iopub.status.idle": "2022-11-29T23:18:17.288873Z",
     "shell.execute_reply": "2022-11-29T23:18:17.288391Z"
    },
    "papermill": {
     "duration": 760.608263,
     "end_time": "2022-11-29T23:18:17.422309",
     "exception": false,
     "start_time": "2022-11-29T23:05:36.814046",
     "status": "completed"
    },
    "tags": []
   },
   "outputs": [
    {
     "name": "stderr",
     "output_type": "stream",
     "text": [
      "ENSG00000125510 / ENSG00000125510: 100%|██████████████████████| 17578/17578 [12:40<00:00, 23.12it/s]\n"
     ]
    },
    {
     "data": {
      "text/plain": [
       "PosixPath('/opt/data/projects/asthma-copd/results/gls_phenoplier/gene_corrs/asthma_only/by_chr/gene_corrs-chr20.pkl')"
      ]
     },
     "metadata": {},
     "output_type": "display_data"
    }
   ],
   "source": [
    "gene_corrs = []\n",
    "gene_corrs_data = np.full(\n",
    "    (n, n),\n",
    "    np.nan,\n",
    "    dtype=np.float64,\n",
    ")\n",
    "\n",
    "i = 0\n",
    "with tqdm(ncols=100, total=n_comb) as pbar:\n",
    "    for gene1_idx in range(0, len(gene_chr_objs)):\n",
    "        gene1_obj = gene_chr_objs[gene1_idx]\n",
    "        gene1_tissues = spredixcan_genes_models.loc[gene1_obj.ensembl_id, \"tissue\"]\n",
    "\n",
    "        for gene2_idx in range(gene1_idx, len(gene_chr_objs)):\n",
    "            gene2_obj = gene_chr_objs[gene2_idx]\n",
    "            gene2_tissues = spredixcan_genes_models.loc[gene2_obj.ensembl_id, \"tissue\"]\n",
    "\n",
    "            pbar.set_description(f\"{gene1_obj.ensembl_id} / {gene2_obj.ensembl_id}\")\n",
    "\n",
    "            try:\n",
    "                r = gene1_obj.get_ssm_correlation(\n",
    "                    other_gene=gene2_obj,\n",
    "                    tissues=gene1_tissues,\n",
    "                    other_tissues=gene2_tissues,\n",
    "                    snps_subset=gwas_variants_ids_set,\n",
    "                    condition_number=SMULTIXCAN_CONDITION_NUMBER,\n",
    "                    reference_panel=REFERENCE_PANEL,\n",
    "                    model_type=EQTL_MODEL,\n",
    "                    use_within_distance=COMPUTE_CORRELATIONS_WITHIN_DISTANCE,\n",
    "                )\n",
    "\n",
    "                if r is None:\n",
    "                    # if r is None, it's very likely because:\n",
    "                    #  * one of the genes has no prediction models\n",
    "                    #  * all the SNPs predictors for the gene are not present in the reference\n",
    "                    #    panel\n",
    "\n",
    "                    r = 0.0\n",
    "\n",
    "                gene_corrs.append(r)\n",
    "\n",
    "                gene_corrs_data[gene1_idx, gene2_idx] = r\n",
    "                gene_corrs_data[gene2_idx, gene1_idx] = r\n",
    "            except Warning as e:\n",
    "                if not DEBUG_MODE:\n",
    "                    raise e\n",
    "\n",
    "                print(\n",
    "                    f\"RuntimeWarning for genes {gene1_obj.ensembl_id} and {gene2_obj.ensembl_id}\",\n",
    "                    flush=True,\n",
    "                )\n",
    "                print(traceback.format_exc(), flush=True)\n",
    "\n",
    "                gene_corrs.append(np.nan)\n",
    "            except Exception as e:\n",
    "                if not DEBUG_MODE:\n",
    "                    raise e\n",
    "\n",
    "                print(\n",
    "                    f\"Exception for genes {gene1_obj.ensembl_id} and {gene2_obj.ensembl_id}\",\n",
    "                    flush=True,\n",
    "                )\n",
    "                print(traceback.format_exc(), flush=True)\n",
    "\n",
    "                gene_corrs.append(np.nan)\n",
    "\n",
    "            pbar.update(1)\n",
    "\n",
    "# create a pandas series\n",
    "gene_corrs_flat = pd.Series(gene_corrs)\n",
    "\n",
    "# save\n",
    "# FIXME: consider saving only the condenced matrix here. See here for\n",
    "# more details: https://github.com/greenelab/phenoplier/pull/38#discussion_r634600813\n",
    "# gene_corrs_data = squareform(np.array(gene_corrs, dtype=np.float64))\n",
    "# np.fill_diagonal(gene_corrs_data, 1.0)\n",
    "\n",
    "gene_chr_ids = [g.ensembl_id for g in gene_chr_objs]\n",
    "gene_corrs_df = pd.DataFrame(\n",
    "    data=gene_corrs_data,\n",
    "    index=gene_chr_ids,\n",
    "    columns=gene_chr_ids,\n",
    ")\n",
    "\n",
    "output_dir.mkdir(exist_ok=True, parents=True)\n",
    "display(output_file)\n",
    "\n",
    "gene_corrs_df.to_pickle(output_file)"
   ]
  },
  {
   "cell_type": "markdown",
   "id": "faa67b51-5373-470f-aa72-2ded53fa6dfe",
   "metadata": {
    "papermill": {
     "duration": 0.683841,
     "end_time": "2022-11-29T23:18:18.814144",
     "exception": false,
     "start_time": "2022-11-29T23:18:18.130303",
     "status": "completed"
    },
    "tags": []
   },
   "source": [
    "# Testing"
   ]
  },
  {
   "cell_type": "code",
   "execution_count": 30,
   "id": "14f7d046-4b55-4896-a56b-990127bcc388",
   "metadata": {
    "execution": {
     "iopub.execute_input": "2022-11-29T23:18:20.210176Z",
     "iopub.status.busy": "2022-11-29T23:18:20.209832Z",
     "iopub.status.idle": "2022-11-29T23:18:20.230822Z",
     "shell.execute_reply": "2022-11-29T23:18:20.230339Z"
    },
    "papermill": {
     "duration": 0.746181,
     "end_time": "2022-11-29T23:18:20.231661",
     "exception": false,
     "start_time": "2022-11-29T23:18:19.485480",
     "status": "completed"
    },
    "tags": []
   },
   "outputs": [
    {
     "data": {
      "text/plain": [
       "(187, 187)"
      ]
     },
     "execution_count": 30,
     "metadata": {},
     "output_type": "execute_result"
    }
   ],
   "source": [
    "gene_corrs_df.shape"
   ]
  },
  {
   "cell_type": "code",
   "execution_count": 31,
   "id": "c7d15414-3297-4537-a7c6-7588c0baeb75",
   "metadata": {
    "execution": {
     "iopub.execute_input": "2022-11-29T23:18:21.583380Z",
     "iopub.status.busy": "2022-11-29T23:18:21.583099Z",
     "iopub.status.idle": "2022-11-29T23:18:21.622098Z",
     "shell.execute_reply": "2022-11-29T23:18:21.621512Z"
    },
    "papermill": {
     "duration": 0.713547,
     "end_time": "2022-11-29T23:18:21.623536",
     "exception": false,
     "start_time": "2022-11-29T23:18:20.909989",
     "status": "completed"
    },
    "tags": []
   },
   "outputs": [
    {
     "data": {
      "text/html": [
       "<div>\n",
       "<style scoped>\n",
       "    .dataframe tbody tr th:only-of-type {\n",
       "        vertical-align: middle;\n",
       "    }\n",
       "\n",
       "    .dataframe tbody tr th {\n",
       "        vertical-align: top;\n",
       "    }\n",
       "\n",
       "    .dataframe thead th {\n",
       "        text-align: right;\n",
       "    }\n",
       "</style>\n",
       "<table border=\"1\" class=\"dataframe\">\n",
       "  <thead>\n",
       "    <tr style=\"text-align: right;\">\n",
       "      <th></th>\n",
       "      <th>ENSG00000101255</th>\n",
       "      <th>ENSG00000125826</th>\n",
       "      <th>ENSG00000101266</th>\n",
       "      <th>ENSG00000101280</th>\n",
       "      <th>ENSG00000125818</th>\n",
       "      <th>ENSG00000101298</th>\n",
       "      <th>ENSG00000088832</th>\n",
       "      <th>ENSG00000101307</th>\n",
       "      <th>ENSG00000089012</th>\n",
       "      <th>ENSG00000198053</th>\n",
       "      <th>...</th>\n",
       "      <th>ENSG00000092758</th>\n",
       "      <th>ENSG00000101191</th>\n",
       "      <th>ENSG00000101199</th>\n",
       "      <th>ENSG00000243509</th>\n",
       "      <th>ENSG00000203896</th>\n",
       "      <th>ENSG00000101152</th>\n",
       "      <th>ENSG00000198276</th>\n",
       "      <th>ENSG00000101161</th>\n",
       "      <th>ENSG00000171700</th>\n",
       "      <th>ENSG00000125510</th>\n",
       "    </tr>\n",
       "  </thead>\n",
       "  <tbody>\n",
       "    <tr>\n",
       "      <th>ENSG00000101255</th>\n",
       "      <td>1.000000</td>\n",
       "      <td>0.053367</td>\n",
       "      <td>0.033988</td>\n",
       "      <td>0.006994</td>\n",
       "      <td>0.003729</td>\n",
       "      <td>0.007813</td>\n",
       "      <td>0.005031</td>\n",
       "      <td>0.000833</td>\n",
       "      <td>0.006536</td>\n",
       "      <td>0.009378</td>\n",
       "      <td>...</td>\n",
       "      <td>0.008507</td>\n",
       "      <td>0.006619</td>\n",
       "      <td>0.004425</td>\n",
       "      <td>0.006133</td>\n",
       "      <td>0.006454</td>\n",
       "      <td>0.004831</td>\n",
       "      <td>0.006552</td>\n",
       "      <td>0.005870</td>\n",
       "      <td>0.003594</td>\n",
       "      <td>0.005484</td>\n",
       "    </tr>\n",
       "    <tr>\n",
       "      <th>ENSG00000125826</th>\n",
       "      <td>0.053367</td>\n",
       "      <td>1.000000</td>\n",
       "      <td>0.087187</td>\n",
       "      <td>0.010155</td>\n",
       "      <td>0.001163</td>\n",
       "      <td>0.009675</td>\n",
       "      <td>0.011102</td>\n",
       "      <td>0.005046</td>\n",
       "      <td>0.004238</td>\n",
       "      <td>0.008991</td>\n",
       "      <td>...</td>\n",
       "      <td>0.014666</td>\n",
       "      <td>0.005015</td>\n",
       "      <td>0.001970</td>\n",
       "      <td>0.006852</td>\n",
       "      <td>0.006274</td>\n",
       "      <td>0.005234</td>\n",
       "      <td>0.010270</td>\n",
       "      <td>0.006803</td>\n",
       "      <td>0.002699</td>\n",
       "      <td>0.004052</td>\n",
       "    </tr>\n",
       "    <tr>\n",
       "      <th>ENSG00000101266</th>\n",
       "      <td>0.033988</td>\n",
       "      <td>0.087187</td>\n",
       "      <td>1.000000</td>\n",
       "      <td>0.012261</td>\n",
       "      <td>0.007783</td>\n",
       "      <td>0.008056</td>\n",
       "      <td>0.004488</td>\n",
       "      <td>0.003919</td>\n",
       "      <td>0.006252</td>\n",
       "      <td>0.009082</td>\n",
       "      <td>...</td>\n",
       "      <td>0.008800</td>\n",
       "      <td>0.004632</td>\n",
       "      <td>0.004701</td>\n",
       "      <td>0.008655</td>\n",
       "      <td>0.003266</td>\n",
       "      <td>0.005186</td>\n",
       "      <td>0.007245</td>\n",
       "      <td>0.004271</td>\n",
       "      <td>0.002821</td>\n",
       "      <td>0.005763</td>\n",
       "    </tr>\n",
       "    <tr>\n",
       "      <th>ENSG00000101280</th>\n",
       "      <td>0.006994</td>\n",
       "      <td>0.010155</td>\n",
       "      <td>0.012261</td>\n",
       "      <td>1.000000</td>\n",
       "      <td>0.002421</td>\n",
       "      <td>0.013497</td>\n",
       "      <td>0.010529</td>\n",
       "      <td>0.006470</td>\n",
       "      <td>0.007813</td>\n",
       "      <td>0.009474</td>\n",
       "      <td>...</td>\n",
       "      <td>0.010156</td>\n",
       "      <td>0.006206</td>\n",
       "      <td>0.009392</td>\n",
       "      <td>0.013101</td>\n",
       "      <td>0.006206</td>\n",
       "      <td>0.003421</td>\n",
       "      <td>0.010968</td>\n",
       "      <td>0.009737</td>\n",
       "      <td>0.003310</td>\n",
       "      <td>0.003093</td>\n",
       "    </tr>\n",
       "    <tr>\n",
       "      <th>ENSG00000125818</th>\n",
       "      <td>0.003729</td>\n",
       "      <td>0.001163</td>\n",
       "      <td>0.007783</td>\n",
       "      <td>0.002421</td>\n",
       "      <td>1.000000</td>\n",
       "      <td>0.009362</td>\n",
       "      <td>0.014513</td>\n",
       "      <td>0.000619</td>\n",
       "      <td>0.005530</td>\n",
       "      <td>0.003788</td>\n",
       "      <td>...</td>\n",
       "      <td>0.008899</td>\n",
       "      <td>0.002839</td>\n",
       "      <td>0.001148</td>\n",
       "      <td>0.007075</td>\n",
       "      <td>0.002847</td>\n",
       "      <td>0.002038</td>\n",
       "      <td>0.003904</td>\n",
       "      <td>0.004860</td>\n",
       "      <td>0.000392</td>\n",
       "      <td>0.000371</td>\n",
       "    </tr>\n",
       "  </tbody>\n",
       "</table>\n",
       "<p>5 rows × 187 columns</p>\n",
       "</div>"
      ],
      "text/plain": [
       "                 ENSG00000101255  ENSG00000125826  ENSG00000101266  \\\n",
       "ENSG00000101255         1.000000         0.053367         0.033988   \n",
       "ENSG00000125826         0.053367         1.000000         0.087187   \n",
       "ENSG00000101266         0.033988         0.087187         1.000000   \n",
       "ENSG00000101280         0.006994         0.010155         0.012261   \n",
       "ENSG00000125818         0.003729         0.001163         0.007783   \n",
       "\n",
       "                 ENSG00000101280  ENSG00000125818  ENSG00000101298  \\\n",
       "ENSG00000101255         0.006994         0.003729         0.007813   \n",
       "ENSG00000125826         0.010155         0.001163         0.009675   \n",
       "ENSG00000101266         0.012261         0.007783         0.008056   \n",
       "ENSG00000101280         1.000000         0.002421         0.013497   \n",
       "ENSG00000125818         0.002421         1.000000         0.009362   \n",
       "\n",
       "                 ENSG00000088832  ENSG00000101307  ENSG00000089012  \\\n",
       "ENSG00000101255         0.005031         0.000833         0.006536   \n",
       "ENSG00000125826         0.011102         0.005046         0.004238   \n",
       "ENSG00000101266         0.004488         0.003919         0.006252   \n",
       "ENSG00000101280         0.010529         0.006470         0.007813   \n",
       "ENSG00000125818         0.014513         0.000619         0.005530   \n",
       "\n",
       "                 ENSG00000198053  ...  ENSG00000092758  ENSG00000101191  \\\n",
       "ENSG00000101255         0.009378  ...         0.008507         0.006619   \n",
       "ENSG00000125826         0.008991  ...         0.014666         0.005015   \n",
       "ENSG00000101266         0.009082  ...         0.008800         0.004632   \n",
       "ENSG00000101280         0.009474  ...         0.010156         0.006206   \n",
       "ENSG00000125818         0.003788  ...         0.008899         0.002839   \n",
       "\n",
       "                 ENSG00000101199  ENSG00000243509  ENSG00000203896  \\\n",
       "ENSG00000101255         0.004425         0.006133         0.006454   \n",
       "ENSG00000125826         0.001970         0.006852         0.006274   \n",
       "ENSG00000101266         0.004701         0.008655         0.003266   \n",
       "ENSG00000101280         0.009392         0.013101         0.006206   \n",
       "ENSG00000125818         0.001148         0.007075         0.002847   \n",
       "\n",
       "                 ENSG00000101152  ENSG00000198276  ENSG00000101161  \\\n",
       "ENSG00000101255         0.004831         0.006552         0.005870   \n",
       "ENSG00000125826         0.005234         0.010270         0.006803   \n",
       "ENSG00000101266         0.005186         0.007245         0.004271   \n",
       "ENSG00000101280         0.003421         0.010968         0.009737   \n",
       "ENSG00000125818         0.002038         0.003904         0.004860   \n",
       "\n",
       "                 ENSG00000171700  ENSG00000125510  \n",
       "ENSG00000101255         0.003594         0.005484  \n",
       "ENSG00000125826         0.002699         0.004052  \n",
       "ENSG00000101266         0.002821         0.005763  \n",
       "ENSG00000101280         0.003310         0.003093  \n",
       "ENSG00000125818         0.000392         0.000371  \n",
       "\n",
       "[5 rows x 187 columns]"
      ]
     },
     "execution_count": 31,
     "metadata": {},
     "output_type": "execute_result"
    }
   ],
   "source": [
    "gene_corrs_df.head()"
   ]
  },
  {
   "cell_type": "markdown",
   "id": "dad6603f-01c6-41fb-a6f6-241051207dd8",
   "metadata": {
    "papermill": {
     "duration": 0.670637,
     "end_time": "2022-11-29T23:18:22.968608",
     "exception": false,
     "start_time": "2022-11-29T23:18:22.297971",
     "status": "completed"
    },
    "tags": []
   },
   "source": [
    "## Standard checks and stats"
   ]
  },
  {
   "cell_type": "code",
   "execution_count": 32,
   "id": "286686af-1b7b-4440-8453-6bdcbd8de19c",
   "metadata": {
    "execution": {
     "iopub.execute_input": "2022-11-29T23:18:24.319037Z",
     "iopub.status.busy": "2022-11-29T23:18:24.318633Z",
     "iopub.status.idle": "2022-11-29T23:18:24.341418Z",
     "shell.execute_reply": "2022-11-29T23:18:24.340864Z"
    },
    "papermill": {
     "duration": 0.699429,
     "end_time": "2022-11-29T23:18:24.342434",
     "exception": false,
     "start_time": "2022-11-29T23:18:23.643005",
     "status": "completed"
    },
    "tags": []
   },
   "outputs": [],
   "source": [
    "assert not gene_corrs_df.isna().any().any()"
   ]
  },
  {
   "cell_type": "code",
   "execution_count": 33,
   "id": "00583efc-7068-4270-ad1e-4a418e91db96",
   "metadata": {
    "execution": {
     "iopub.execute_input": "2022-11-29T23:18:25.684847Z",
     "iopub.status.busy": "2022-11-29T23:18:25.684566Z",
     "iopub.status.idle": "2022-11-29T23:18:25.709723Z",
     "shell.execute_reply": "2022-11-29T23:18:25.709056Z"
    },
    "papermill": {
     "duration": 0.697027,
     "end_time": "2022-11-29T23:18:25.710663",
     "exception": false,
     "start_time": "2022-11-29T23:18:25.013636",
     "status": "completed"
    },
    "tags": []
   },
   "outputs": [
    {
     "data": {
      "text/plain": [
       "3.343921103487199e-06"
      ]
     },
     "metadata": {},
     "output_type": "display_data"
    }
   ],
   "source": [
    "_min_val = gene_corrs_df.min().min()\n",
    "display(_min_val)\n",
    "assert _min_val >= -0.05"
   ]
  },
  {
   "cell_type": "code",
   "execution_count": 34,
   "id": "d04fb2cf-1050-475b-b855-f5f7cc04092b",
   "metadata": {
    "execution": {
     "iopub.execute_input": "2022-11-29T23:18:27.046072Z",
     "iopub.status.busy": "2022-11-29T23:18:27.045675Z",
     "iopub.status.idle": "2022-11-29T23:18:27.070067Z",
     "shell.execute_reply": "2022-11-29T23:18:27.069388Z"
    },
    "papermill": {
     "duration": 0.694163,
     "end_time": "2022-11-29T23:18:27.071012",
     "exception": false,
     "start_time": "2022-11-29T23:18:26.376849",
     "status": "completed"
    },
    "tags": []
   },
   "outputs": [
    {
     "data": {
      "text/plain": [
       "1.0000000000000033"
      ]
     },
     "metadata": {},
     "output_type": "display_data"
    }
   ],
   "source": [
    "_max_val = gene_corrs_df.max().max()  # this captures the diagonal\n",
    "display(_max_val)\n",
    "assert _max_val <= 1.05"
   ]
  },
  {
   "cell_type": "code",
   "execution_count": 35,
   "id": "96d02c44-1fba-47be-8a93-8f2608420b9c",
   "metadata": {
    "execution": {
     "iopub.execute_input": "2022-11-29T23:18:28.420074Z",
     "iopub.status.busy": "2022-11-29T23:18:28.419686Z",
     "iopub.status.idle": "2022-11-29T23:18:28.441662Z",
     "shell.execute_reply": "2022-11-29T23:18:28.440964Z"
    },
    "papermill": {
     "duration": 0.698534,
     "end_time": "2022-11-29T23:18:28.442698",
     "exception": false,
     "start_time": "2022-11-29T23:18:27.744164",
     "status": "completed"
    },
    "tags": []
   },
   "outputs": [],
   "source": [
    "# check upper triangular values\n",
    "# assert len(gene_corrs) == int(genes_chr.shape[0] * (genes_chr.shape[0] - 1) / 2)"
   ]
  },
  {
   "cell_type": "code",
   "execution_count": 36,
   "id": "fe283586-c348-40e0-8841-f6d97bfb021c",
   "metadata": {
    "execution": {
     "iopub.execute_input": "2022-11-29T23:18:29.790714Z",
     "iopub.status.busy": "2022-11-29T23:18:29.790028Z",
     "iopub.status.idle": "2022-11-29T23:18:29.807122Z",
     "shell.execute_reply": "2022-11-29T23:18:29.806635Z"
    },
    "papermill": {
     "duration": 0.693513,
     "end_time": "2022-11-29T23:18:29.808017",
     "exception": false,
     "start_time": "2022-11-29T23:18:29.114504",
     "status": "completed"
    },
    "tags": []
   },
   "outputs": [
    {
     "data": {
      "text/plain": [
       "count    17578.000000\n",
       "mean         0.020964\n",
       "std          0.108697\n",
       "min          0.000003\n",
       "25%          0.004020\n",
       "50%          0.006193\n",
       "75%          0.008843\n",
       "max          1.000000\n",
       "dtype: float64"
      ]
     },
     "execution_count": 36,
     "metadata": {},
     "output_type": "execute_result"
    }
   ],
   "source": [
    "gene_corrs_flat.describe()"
   ]
  },
  {
   "cell_type": "code",
   "execution_count": 37,
   "id": "b3815678-0f93-4b35-897b-a9d047a2aa78",
   "metadata": {
    "execution": {
     "iopub.execute_input": "2022-11-29T23:18:31.201054Z",
     "iopub.status.busy": "2022-11-29T23:18:31.200359Z",
     "iopub.status.idle": "2022-11-29T23:18:31.227618Z",
     "shell.execute_reply": "2022-11-29T23:18:31.226949Z"
    },
    "papermill": {
     "duration": 0.710219,
     "end_time": "2022-11-29T23:18:31.228618",
     "exception": false,
     "start_time": "2022-11-29T23:18:30.518399",
     "status": "completed"
    },
    "tags": []
   },
   "outputs": [
    {
     "data": {
      "text/plain": [
       "0.00    0.000003\n",
       "0.05    0.001733\n",
       "0.10    0.002506\n",
       "0.15    0.003073\n",
       "0.20    0.003570\n",
       "0.25    0.004020\n",
       "0.30    0.004469\n",
       "0.35    0.004894\n",
       "0.40    0.005319\n",
       "0.45    0.005754\n",
       "0.50    0.006193\n",
       "0.55    0.006650\n",
       "0.60    0.007149\n",
       "0.65    0.007673\n",
       "0.70    0.008189\n",
       "0.75    0.008843\n",
       "0.80    0.009568\n",
       "0.85    0.010482\n",
       "0.90    0.011825\n",
       "0.95    0.014862\n",
       "dtype: float64"
      ]
     },
     "metadata": {},
     "output_type": "display_data"
    }
   ],
   "source": [
    "gene_corrs_quantiles = gene_corrs_flat.quantile(np.arange(0, 1, 0.05))\n",
    "display(gene_corrs_quantiles)"
   ]
  },
  {
   "cell_type": "markdown",
   "id": "87134509-b145-4a10-8bc9-b7e914c2b0fa",
   "metadata": {
    "papermill": {
     "duration": 0.674853,
     "end_time": "2022-11-29T23:18:32.537290",
     "exception": false,
     "start_time": "2022-11-29T23:18:31.862437",
     "status": "completed"
    },
    "tags": []
   },
   "source": [
    "## Positive definiteness"
   ]
  },
  {
   "cell_type": "code",
   "execution_count": 38,
   "id": "07d9a9a1-a4f7-48aa-b916-6d42a8cc6186",
   "metadata": {
    "execution": {
     "iopub.execute_input": "2022-11-29T23:18:33.937398Z",
     "iopub.status.busy": "2022-11-29T23:18:33.937015Z",
     "iopub.status.idle": "2022-11-29T23:18:33.972497Z",
     "shell.execute_reply": "2022-11-29T23:18:33.971874Z"
    },
    "papermill": {
     "duration": 0.71991,
     "end_time": "2022-11-29T23:18:33.973721",
     "exception": false,
     "start_time": "2022-11-29T23:18:33.253811",
     "status": "completed"
    },
    "tags": []
   },
   "outputs": [
    {
     "data": {
      "text/plain": [
       "0"
      ]
     },
     "metadata": {},
     "output_type": "display_data"
    },
    {
     "data": {
      "text/plain": [
       "array([], dtype=float64)"
      ]
     },
     "metadata": {},
     "output_type": "display_data"
    }
   ],
   "source": [
    "# print negative eigenvalues\n",
    "eigs = np.linalg.eigvals(gene_corrs_df.to_numpy())\n",
    "display(len(eigs[eigs < 0]))\n",
    "display(eigs[eigs < 0])"
   ]
  },
  {
   "cell_type": "code",
   "execution_count": 39,
   "id": "6e218436-c3c5-4028-8c94-a4fa6260efce",
   "metadata": {
    "execution": {
     "iopub.execute_input": "2022-11-29T23:18:35.298124Z",
     "iopub.status.busy": "2022-11-29T23:18:35.297760Z",
     "iopub.status.idle": "2022-11-29T23:18:35.322965Z",
     "shell.execute_reply": "2022-11-29T23:18:35.322430Z"
    },
    "papermill": {
     "duration": 0.697068,
     "end_time": "2022-11-29T23:18:35.323933",
     "exception": false,
     "start_time": "2022-11-29T23:18:34.626865",
     "status": "completed"
    },
    "tags": []
   },
   "outputs": [
    {
     "name": "stdout",
     "output_type": "stream",
     "text": [
      "Works!\n"
     ]
    }
   ],
   "source": [
    "try:\n",
    "    chol_mat = np.linalg.cholesky(gene_corrs_df.to_numpy())\n",
    "    cov_inv = np.linalg.inv(chol_mat)\n",
    "    print(\"Works!\")\n",
    "except Exception as e:\n",
    "    print(f\"Cholesky decomposition failed: {str(e)}\")"
   ]
  },
  {
   "cell_type": "code",
   "execution_count": 40,
   "id": "dd8827fb-faf9-4c7c-9454-015e94752706",
   "metadata": {
    "execution": {
     "iopub.execute_input": "2022-11-29T23:18:36.710163Z",
     "iopub.status.busy": "2022-11-29T23:18:36.709788Z",
     "iopub.status.idle": "2022-11-29T23:18:36.734400Z",
     "shell.execute_reply": "2022-11-29T23:18:36.733945Z"
    },
    "papermill": {
     "duration": 0.702279,
     "end_time": "2022-11-29T23:18:36.735324",
     "exception": false,
     "start_time": "2022-11-29T23:18:36.033045",
     "status": "completed"
    },
    "tags": []
   },
   "outputs": [
    {
     "name": "stdout",
     "output_type": "stream",
     "text": [
      "Works!\n"
     ]
    }
   ],
   "source": [
    "try:\n",
    "    # decomposition used by statsmodels.GLS\n",
    "    cholsigmainv = np.linalg.cholesky(np.linalg.inv(gene_corrs_df.to_numpy())).T\n",
    "    print(\"Works!\")\n",
    "except Exception as e:\n",
    "    print(f\"Cholesky decomposition failed (statsmodels.GLS): {str(e)}\")"
   ]
  },
  {
   "cell_type": "markdown",
   "id": "8e60a080-edb2-4e9c-b2ef-22961693200c",
   "metadata": {
    "papermill": {
     "duration": 0.668913,
     "end_time": "2022-11-29T23:18:38.041266",
     "exception": false,
     "start_time": "2022-11-29T23:18:37.372353",
     "status": "completed"
    },
    "tags": []
   },
   "source": [
    "## Plot: distribution"
   ]
  },
  {
   "cell_type": "code",
   "execution_count": 41,
   "id": "8301126b-a7d4-4744-9c7d-f0f86eb6f54c",
   "metadata": {
    "execution": {
     "iopub.execute_input": "2022-11-29T23:18:39.436834Z",
     "iopub.status.busy": "2022-11-29T23:18:39.436353Z",
     "iopub.status.idle": "2022-11-29T23:18:42.196667Z",
     "shell.execute_reply": "2022-11-29T23:18:42.196238Z"
    },
    "papermill": {
     "duration": 3.442449,
     "end_time": "2022-11-29T23:18:42.198042",
     "exception": false,
     "start_time": "2022-11-29T23:18:38.755593",
     "status": "completed"
    },
    "tags": []
   },
   "outputs": [
    {
     "data": {
      "image/png": "[encoded data removed]",
      "text/plain": [
       "<Figure size 700x700 with 1 Axes>"
      ]
     },
     "metadata": {},
     "output_type": "display_data"
    }
   ],
   "source": [
    "with sns.plotting_context(\"paper\", font_scale=1.5):\n",
    "    g = sns.displot(gene_corrs_flat, kde=True, height=7)\n",
    "    g.ax.set_title(\n",
    "        f\"Distribution of gene correlation values in chromosome {CHROMOSOME}\"\n",
    "    )"
   ]
  },
  {
   "cell_type": "markdown",
   "id": "cbd52bca-d878-4a2f-b684-5c83aa3038d4",
   "metadata": {
    "papermill": {
     "duration": 0.669138,
     "end_time": "2022-11-29T23:18:43.511654",
     "exception": false,
     "start_time": "2022-11-29T23:18:42.842516",
     "status": "completed"
    },
    "tags": []
   },
   "source": [
    "## Plot: heatmap"
   ]
  },
  {
   "cell_type": "code",
   "execution_count": 42,
   "id": "d03fe63a-c7b2-4fb9-a53c-db362ce843c9",
   "metadata": {
    "execution": {
     "iopub.execute_input": "2022-11-29T23:18:44.912151Z",
     "iopub.status.busy": "2022-11-29T23:18:44.911843Z",
     "iopub.status.idle": "2022-11-29T23:18:44.926221Z",
     "shell.execute_reply": "2022-11-29T23:18:44.925785Z"
    },
    "papermill": {
     "duration": 0.701201,
     "end_time": "2022-11-29T23:18:44.927069",
     "exception": false,
     "start_time": "2022-11-29T23:18:44.225868",
     "status": "completed"
    },
    "tags": []
   },
   "outputs": [
    {
     "data": {
      "text/plain": [
       "'0.0 / 0.05'"
      ]
     },
     "metadata": {},
     "output_type": "display_data"
    }
   ],
   "source": [
    "vmin_val = min(0.00, gene_corrs_quantiles[0.10])\n",
    "vmax_val = max(0.05, gene_corrs_quantiles[0.90])\n",
    "display(f\"{vmin_val} / {vmax_val}\")"
   ]
  },
  {
   "cell_type": "code",
   "execution_count": 43,
   "id": "dc41b70b-5bcc-4d9e-9f33-a22c4a94dab5",
   "metadata": {
    "execution": {
     "iopub.execute_input": "2022-11-29T23:18:46.234603Z",
     "iopub.status.busy": "2022-11-29T23:18:46.234361Z",
     "iopub.status.idle": "2022-11-29T23:18:46.404872Z",
     "shell.execute_reply": "2022-11-29T23:18:46.404389Z"
    },
    "papermill": {
     "duration": 0.842076,
     "end_time": "2022-11-29T23:18:46.405963",
     "exception": false,
     "start_time": "2022-11-29T23:18:45.563887",
     "status": "completed"
    },
    "tags": []
   },
   "outputs": [
    {
     "data": {
      "text/plain": [
       "Text(0.5, 1.0, 'Gene correlations in chromosome 20')"
      ]
     },
     "execution_count": 43,
     "metadata": {},
     "output_type": "execute_result"
    },
    {
     "data": {
      "image/png": "[encoded data removed]",
      "text/plain": [
       "<Figure size 1000x1000 with 2 Axes>"
      ]
     },
     "metadata": {},
     "output_type": "display_data"
    }
   ],
   "source": [
    "f, ax = plt.subplots(figsize=(10, 10))\n",
    "sns.heatmap(\n",
    "    gene_corrs_df,\n",
    "    xticklabels=False,\n",
    "    yticklabels=False,\n",
    "    square=True,\n",
    "    vmin=vmin_val,\n",
    "    vmax=vmax_val,\n",
    "    cmap=\"rocket_r\",\n",
    "    ax=ax,\n",
    ")\n",
    "ax.set_title(f\"Gene correlations in chromosome {CHROMOSOME}\")"
   ]
  },
  {
   "cell_type": "code",
   "execution_count": null,
   "id": "b25e3ead",
   "metadata": {
    "papermill": {
     "duration": 0.672499,
     "end_time": "2022-11-29T23:18:47.790552",
     "exception": false,
     "start_time": "2022-11-29T23:18:47.118053",
     "status": "completed"
    },
    "tags": []
   },
   "outputs": [],
   "source": []
  }
 ],
 "metadata": {
  "jupytext": {
   "cell_metadata_filter": "all,-execution,-papermill,-trusted",
   "formats": "ipynb,py//py:percent"
  },
  "kernelspec": {
   "display_name": "Python 3 (ipykernel)",
   "language": "python",
   "name": "python3"
  },
  "language_info": {
   "codemirror_mode": {
    "name": "ipython",
    "version": 3
   },
   "file_extension": ".py",
   "mimetype": "text/x-python",
   "name": "python",
   "nbconvert_exporter": "python",
   "pygments_lexer": "ipython3",
   "version": "3.10.6"
  },
  "papermill": {
   "default_parameters": {},
   "duration": 799.993074,
   "end_time": "2022-11-29T23:18:51.164571",
   "environment_variables": {},
   "exception": null,
   "input_path": "projects/asthma-copd/nbs/20_gene_corrs/10-gene_expr_correlations.ipynb",
   "output_path": "projects/asthma-copd/nbs/20_gene_corrs/gene_corrs/asthma_only/10-gene_expr_correlations-chr20.run.ipynb",
   "parameters": {
    "CHROMOSOME": 20,
    "COHORT_NAME": "asthma_only",
    "OUTPUT_DIR_BASE": "/opt/data/projects/asthma-copd/results/gls_phenoplier"
   },
   "start_time": "2022-11-29T23:05:31.171497",
   "version": "2.2.2"
  }
 },
 "nbformat": 4,
 "nbformat_minor": 5
}
