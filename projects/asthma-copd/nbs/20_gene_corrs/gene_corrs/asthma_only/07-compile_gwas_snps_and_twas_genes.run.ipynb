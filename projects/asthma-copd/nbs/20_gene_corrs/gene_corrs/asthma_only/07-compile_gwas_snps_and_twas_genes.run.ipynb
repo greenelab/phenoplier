{
 "cells": [
  {
   "cell_type": "markdown",
   "id": "7a6632fb",
   "metadata": {
    "papermill": {
     "duration": 0.022463,
     "end_time": "2022-11-29T22:08:25.956842",
     "exception": false,
     "start_time": "2022-11-29T22:08:25.934379",
     "status": "completed"
    },
    "tags": []
   },
   "source": [
    "# Description"
   ]
  },
  {
   "cell_type": "markdown",
   "id": "7097c346",
   "metadata": {
    "papermill": {
     "duration": 0.021972,
     "end_time": "2022-11-29T22:08:26.001215",
     "exception": false,
     "start_time": "2022-11-29T22:08:25.979243",
     "status": "completed"
    },
    "tags": []
   },
   "source": [
    "(Please, take a look at the README.md file in this directory for instructions on how to run this notebook)\n",
    "\n",
    "This notebook compiles information about the GWAS and TWAS for a particular cohort. For example, the set of GWAS variants, variance of predicted expression of genes, etc.\n",
    "\n",
    "It has specicfic parameters for papermill (see under `Settings` below).\n",
    "\n",
    "This notebook is not directly run. See README.md."
   ]
  },
  {
   "cell_type": "markdown",
   "id": "c61d8427",
   "metadata": {
    "papermill": {
     "duration": 0.010839,
     "end_time": "2022-11-29T22:08:26.030183",
     "exception": false,
     "start_time": "2022-11-29T22:08:26.019344",
     "status": "completed"
    },
    "tags": []
   },
   "source": [
    "# Modules"
   ]
  },
  {
   "cell_type": "code",
   "execution_count": 1,
   "id": "bbc0234f",
   "metadata": {
    "execution": {
     "iopub.execute_input": "2022-11-29T22:08:26.053873Z",
     "iopub.status.busy": "2022-11-29T22:08:26.053455Z",
     "iopub.status.idle": "2022-11-29T22:08:26.072121Z",
     "shell.execute_reply": "2022-11-29T22:08:26.071512Z"
    },
    "papermill": {
     "duration": 0.031577,
     "end_time": "2022-11-29T22:08:26.073118",
     "exception": false,
     "start_time": "2022-11-29T22:08:26.041541",
     "status": "completed"
    },
    "tags": []
   },
   "outputs": [],
   "source": [
    "%load_ext autoreload\n",
    "%autoreload 2"
   ]
  },
  {
   "cell_type": "code",
   "execution_count": 2,
   "id": "1d5f5a59",
   "metadata": {
    "execution": {
     "iopub.execute_input": "2022-11-29T22:08:26.096394Z",
     "iopub.status.busy": "2022-11-29T22:08:26.096064Z",
     "iopub.status.idle": "2022-11-29T22:08:26.407072Z",
     "shell.execute_reply": "2022-11-29T22:08:26.406521Z"
    },
    "papermill": {
     "duration": 0.324054,
     "end_time": "2022-11-29T22:08:26.408608",
     "exception": false,
     "start_time": "2022-11-29T22:08:26.084554",
     "status": "completed"
    },
    "tags": []
   },
   "outputs": [],
   "source": [
    "from pathlib import Path\n",
    "import pickle\n",
    "\n",
    "import numpy as np\n",
    "import pandas as pd\n",
    "\n",
    "import conf\n",
    "from entity import Gene"
   ]
  },
  {
   "cell_type": "markdown",
   "id": "1eac24b5",
   "metadata": {
    "papermill": {
     "duration": 0.010975,
     "end_time": "2022-11-29T22:08:26.431440",
     "exception": false,
     "start_time": "2022-11-29T22:08:26.420465",
     "status": "completed"
    },
    "tags": []
   },
   "source": [
    "# Settings"
   ]
  },
  {
   "cell_type": "code",
   "execution_count": 3,
   "id": "ca4560ba",
   "metadata": {
    "execution": {
     "iopub.execute_input": "2022-11-29T22:08:26.454676Z",
     "iopub.status.busy": "2022-11-29T22:08:26.454410Z",
     "iopub.status.idle": "2022-11-29T22:08:26.465405Z",
     "shell.execute_reply": "2022-11-29T22:08:26.464926Z"
    },
    "papermill": {
     "duration": 0.023553,
     "end_time": "2022-11-29T22:08:26.466178",
     "exception": false,
     "start_time": "2022-11-29T22:08:26.442625",
     "status": "completed"
    },
    "tags": [
     "parameters"
    ]
   },
   "outputs": [],
   "source": [
    "# a cohort name (it could be something like UK_BIOBANK, etc)\n",
    "COHORT_NAME = None\n",
    "\n",
    "# reference panel such as 1000G or GTEX_V8\n",
    "REFERENCE_PANEL = \"GTEX_V8\"\n",
    "\n",
    "# predictions models such as MASHR or ELASTIC_NET\n",
    "EQTL_MODEL = \"MASHR\"\n",
    "\n",
    "# a string with a path pointing to an imputed GWAS\n",
    "GWAS_FILE = None\n",
    "\n",
    "# a string with a path pointing where S-PrediXcan results (tissue-specific are located\n",
    "SPREDIXCAN_FOLDER = None\n",
    "\n",
    "# an f-string with one placeholder {tissue}\n",
    "SPREDIXCAN_FILE_PATTERN = None\n",
    "\n",
    "# a string with a path pointing to an S-MultiXcan result\n",
    "SMULTIXCAN_FILE = None\n",
    "\n",
    "# output dir\n",
    "OUTPUT_DIR_BASE = None"
   ]
  },
  {
   "cell_type": "code",
   "execution_count": 4,
   "id": "8ad819a3",
   "metadata": {
    "execution": {
     "iopub.execute_input": "2022-11-29T22:08:26.489528Z",
     "iopub.status.busy": "2022-11-29T22:08:26.489395Z",
     "iopub.status.idle": "2022-11-29T22:08:26.504574Z",
     "shell.execute_reply": "2022-11-29T22:08:26.503980Z"
    },
    "papermill": {
     "duration": 0.027882,
     "end_time": "2022-11-29T22:08:26.505600",
     "exception": false,
     "start_time": "2022-11-29T22:08:26.477718",
     "status": "completed"
    },
    "tags": [
     "injected-parameters"
    ]
   },
   "outputs": [],
   "source": [
    "# Parameters\n",
    "COHORT_NAME = \"asthma_only\"\n",
    "GWAS_FILE = \"/opt/data/projects/asthma-copd/results/final_imputed_gwas/GWAS_Asthma_only_GLM_SNPs_info0.7-harmonized-imputed.txt.gz\"\n",
    "SPREDIXCAN_FOLDER = \"/opt/data/projects/asthma-copd/results/twas/spredixcan\"\n",
    "SPREDIXCAN_FILE_PATTERN = \"GWAS_Asthma_only_GLM_SNPs_info0.7-gtex_v8-mashr-{tissue}.csv\"\n",
    "SMULTIXCAN_FILE = \"/opt/data/projects/asthma-copd/results/twas/smultixcan/GWAS_Asthma_only_GLM_SNPs_info0.7-gtex_v8-mashr-smultixcan.txt\"\n",
    "OUTPUT_DIR_BASE = \"/opt/data/projects/asthma-copd/results/gls_phenoplier\"\n"
   ]
  },
  {
   "cell_type": "code",
   "execution_count": 5,
   "id": "8fe24bef",
   "metadata": {
    "execution": {
     "iopub.execute_input": "2022-11-29T22:08:26.529166Z",
     "iopub.status.busy": "2022-11-29T22:08:26.528648Z",
     "iopub.status.idle": "2022-11-29T22:08:26.551247Z",
     "shell.execute_reply": "2022-11-29T22:08:26.550660Z"
    },
    "papermill": {
     "duration": 0.03527,
     "end_time": "2022-11-29T22:08:26.552225",
     "exception": false,
     "start_time": "2022-11-29T22:08:26.516955",
     "status": "completed"
    },
    "tags": []
   },
   "outputs": [
    {
     "data": {
      "text/plain": [
       "'Cohort name: asthma_only'"
      ]
     },
     "metadata": {},
     "output_type": "display_data"
    }
   ],
   "source": [
    "assert COHORT_NAME is not None and len(COHORT_NAME) > 0, \"A cohort name must be given\"\n",
    "\n",
    "COHORT_NAME = COHORT_NAME.lower()\n",
    "display(f\"Cohort name: {COHORT_NAME}\")"
   ]
  },
  {
   "cell_type": "code",
   "execution_count": 6,
   "id": "f53ba19b-0f93-4fa2-a047-63b375939d1a",
   "metadata": {
    "execution": {
     "iopub.execute_input": "2022-11-29T22:08:26.576360Z",
     "iopub.status.busy": "2022-11-29T22:08:26.575845Z",
     "iopub.status.idle": "2022-11-29T22:08:26.592502Z",
     "shell.execute_reply": "2022-11-29T22:08:26.591924Z"
    },
    "papermill": {
     "duration": 0.029515,
     "end_time": "2022-11-29T22:08:26.593419",
     "exception": false,
     "start_time": "2022-11-29T22:08:26.563904",
     "status": "completed"
    },
    "tags": []
   },
   "outputs": [
    {
     "data": {
      "text/plain": [
       "'Reference panel: GTEX_V8'"
      ]
     },
     "metadata": {},
     "output_type": "display_data"
    }
   ],
   "source": [
    "assert (\n",
    "    REFERENCE_PANEL is not None and len(REFERENCE_PANEL) > 0\n",
    "), \"A reference panel must be given\"\n",
    "\n",
    "display(f\"Reference panel: {REFERENCE_PANEL}\")"
   ]
  },
  {
   "cell_type": "code",
   "execution_count": 7,
   "id": "7a970044-2d34-4e5b-a850-eff44079afe8",
   "metadata": {
    "execution": {
     "iopub.execute_input": "2022-11-29T22:08:26.617421Z",
     "iopub.status.busy": "2022-11-29T22:08:26.616860Z",
     "iopub.status.idle": "2022-11-29T22:08:26.633915Z",
     "shell.execute_reply": "2022-11-29T22:08:26.633335Z"
    },
    "papermill": {
     "duration": 0.029856,
     "end_time": "2022-11-29T22:08:26.634810",
     "exception": false,
     "start_time": "2022-11-29T22:08:26.604954",
     "status": "completed"
    },
    "tags": []
   },
   "outputs": [
    {
     "data": {
      "text/plain": [
       "'GWAS file path: /opt/data/projects/asthma-copd/results/final_imputed_gwas/GWAS_Asthma_only_GLM_SNPs_info0.7-harmonized-imputed.txt.gz'"
      ]
     },
     "metadata": {},
     "output_type": "display_data"
    }
   ],
   "source": [
    "assert GWAS_FILE is not None and len(GWAS_FILE) > 0, \"A GWAS file path must be given\"\n",
    "GWAS_FILE = Path(GWAS_FILE).resolve()\n",
    "assert GWAS_FILE.exists(), \"GWAS file does not exist\"\n",
    "\n",
    "display(f\"GWAS file path: {str(GWAS_FILE)}\")"
   ]
  },
  {
   "cell_type": "code",
   "execution_count": 8,
   "id": "552a7f63-a18c-4d3e-bb6a-94f99b431291",
   "metadata": {
    "execution": {
     "iopub.execute_input": "2022-11-29T22:08:26.658871Z",
     "iopub.status.busy": "2022-11-29T22:08:26.658459Z",
     "iopub.status.idle": "2022-11-29T22:08:26.675639Z",
     "shell.execute_reply": "2022-11-29T22:08:26.675066Z"
    },
    "papermill": {
     "duration": 0.030034,
     "end_time": "2022-11-29T22:08:26.676472",
     "exception": false,
     "start_time": "2022-11-29T22:08:26.646438",
     "status": "completed"
    },
    "tags": []
   },
   "outputs": [
    {
     "data": {
      "text/plain": [
       "'S-PrediXcan folder path: /opt/data/projects/asthma-copd/results/twas/spredixcan'"
      ]
     },
     "metadata": {},
     "output_type": "display_data"
    }
   ],
   "source": [
    "assert (\n",
    "    SPREDIXCAN_FOLDER is not None and len(SPREDIXCAN_FOLDER) > 0\n",
    "), \"An S-PrediXcan folder path must be given\"\n",
    "SPREDIXCAN_FOLDER = Path(SPREDIXCAN_FOLDER).resolve()\n",
    "assert SPREDIXCAN_FOLDER.exists(), f\"S-PrediXcan folder does not exist: {str(SPREDIXCAN_FOLDER)}\"\n",
    "\n",
    "display(f\"S-PrediXcan folder path: {str(SPREDIXCAN_FOLDER)}\")"
   ]
  },
  {
   "cell_type": "code",
   "execution_count": 9,
   "id": "6e2000dc-f1dc-4db8-93d5-9a7209a2e121",
   "metadata": {
    "execution": {
     "iopub.execute_input": "2022-11-29T22:08:26.700836Z",
     "iopub.status.busy": "2022-11-29T22:08:26.700302Z",
     "iopub.status.idle": "2022-11-29T22:08:26.716969Z",
     "shell.execute_reply": "2022-11-29T22:08:26.716397Z"
    },
    "papermill": {
     "duration": 0.029681,
     "end_time": "2022-11-29T22:08:26.717863",
     "exception": false,
     "start_time": "2022-11-29T22:08:26.688182",
     "status": "completed"
    },
    "tags": []
   },
   "outputs": [
    {
     "data": {
      "text/plain": [
       "'S-PrediXcan file template: GWAS_Asthma_only_GLM_SNPs_info0.7-gtex_v8-mashr-{tissue}.csv'"
      ]
     },
     "metadata": {},
     "output_type": "display_data"
    }
   ],
   "source": [
    "assert (\n",
    "    SPREDIXCAN_FILE_PATTERN is not None and len(SPREDIXCAN_FILE_PATTERN) > 0\n",
    "), \"An S-PrediXcan file pattern must be given\"\n",
    "assert (\n",
    "    \"{tissue}\" in SPREDIXCAN_FILE_PATTERN\n",
    "), \"S-PrediXcan file pattern must have a '{tissue}' placeholder\"\n",
    "\n",
    "display(f\"S-PrediXcan file template: {SPREDIXCAN_FILE_PATTERN}\")"
   ]
  },
  {
   "cell_type": "code",
   "execution_count": 10,
   "id": "f5a5aa9d-c6f3-4fb5-9351-37382b6e67bc",
   "metadata": {
    "execution": {
     "iopub.execute_input": "2022-11-29T22:08:26.742388Z",
     "iopub.status.busy": "2022-11-29T22:08:26.741896Z",
     "iopub.status.idle": "2022-11-29T22:08:26.759069Z",
     "shell.execute_reply": "2022-11-29T22:08:26.758499Z"
    },
    "papermill": {
     "duration": 0.030176,
     "end_time": "2022-11-29T22:08:26.759896",
     "exception": false,
     "start_time": "2022-11-29T22:08:26.729720",
     "status": "completed"
    },
    "tags": []
   },
   "outputs": [
    {
     "data": {
      "text/plain": [
       "'S-MultiXcan file path: /opt/data/projects/asthma-copd/results/twas/smultixcan/GWAS_Asthma_only_GLM_SNPs_info0.7-gtex_v8-mashr-smultixcan.txt'"
      ]
     },
     "metadata": {},
     "output_type": "display_data"
    }
   ],
   "source": [
    "assert (\n",
    "    SMULTIXCAN_FILE is not None and len(SMULTIXCAN_FILE) > 0\n",
    "), \"An S-MultiXcan result file path must be given\"\n",
    "SMULTIXCAN_FILE = Path(SMULTIXCAN_FILE).resolve()\n",
    "assert SMULTIXCAN_FILE.exists(), f\"S-MultiXcan result file does not exist: {str(SMULTIXCAN_FILE)}\"\n",
    "\n",
    "display(f\"S-MultiXcan file path: {str(SMULTIXCAN_FILE)}\")"
   ]
  },
  {
   "cell_type": "code",
   "execution_count": 11,
   "id": "0723dc2f-34d1-407c-a55b-d6d13c55d63d",
   "metadata": {
    "execution": {
     "iopub.execute_input": "2022-11-29T22:08:26.784579Z",
     "iopub.status.busy": "2022-11-29T22:08:26.784095Z",
     "iopub.status.idle": "2022-11-29T22:08:26.800637Z",
     "shell.execute_reply": "2022-11-29T22:08:26.800060Z"
    },
    "papermill": {
     "duration": 0.029845,
     "end_time": "2022-11-29T22:08:26.801532",
     "exception": false,
     "start_time": "2022-11-29T22:08:26.771687",
     "status": "completed"
    },
    "tags": []
   },
   "outputs": [
    {
     "data": {
      "text/plain": [
       "'eQTL model: MASHR'"
      ]
     },
     "metadata": {},
     "output_type": "display_data"
    }
   ],
   "source": [
    "assert (\n",
    "    EQTL_MODEL is not None and len(EQTL_MODEL) > 0\n",
    "), \"A prediction/eQTL model must be given\"\n",
    "\n",
    "display(f\"eQTL model: {EQTL_MODEL}\")"
   ]
  },
  {
   "cell_type": "code",
   "execution_count": 12,
   "id": "46b9ec52-9c96-4062-b57a-783dfeea33c4",
   "metadata": {
    "execution": {
     "iopub.execute_input": "2022-11-29T22:08:26.826220Z",
     "iopub.status.busy": "2022-11-29T22:08:26.825702Z",
     "iopub.status.idle": "2022-11-29T22:08:26.843095Z",
     "shell.execute_reply": "2022-11-29T22:08:26.842505Z"
    },
    "papermill": {
     "duration": 0.030693,
     "end_time": "2022-11-29T22:08:26.844010",
     "exception": false,
     "start_time": "2022-11-29T22:08:26.813317",
     "status": "completed"
    },
    "tags": []
   },
   "outputs": [
    {
     "data": {
      "text/plain": [
       "'Using output dir base: /opt/data/projects/asthma-copd/results/gls_phenoplier/gene_corrs/asthma_only'"
      ]
     },
     "metadata": {},
     "output_type": "display_data"
    }
   ],
   "source": [
    "assert (\n",
    "    OUTPUT_DIR_BASE is not None and len(OUTPUT_DIR_BASE) > 0\n",
    "), \"Output directory path must be given\"\n",
    "\n",
    "OUTPUT_DIR_BASE = (\n",
    "    Path(OUTPUT_DIR_BASE)\n",
    "    / \"gene_corrs\"\n",
    "    / COHORT_NAME\n",
    "    # / REFERENCE_PANEL.lower()\n",
    "    # / EQTL_MODEL.lower()\n",
    ").resolve()\n",
    "\n",
    "OUTPUT_DIR_BASE.mkdir(parents=True, exist_ok=True)\n",
    "\n",
    "display(f\"Using output dir base: {OUTPUT_DIR_BASE}\")"
   ]
  },
  {
   "cell_type": "code",
   "execution_count": 13,
   "id": "396392dc-0340-4540-9b02-e182b833f909",
   "metadata": {
    "execution": {
     "iopub.execute_input": "2022-11-29T22:08:26.868826Z",
     "iopub.status.busy": "2022-11-29T22:08:26.868497Z",
     "iopub.status.idle": "2022-11-29T22:08:26.883560Z",
     "shell.execute_reply": "2022-11-29T22:08:26.882983Z"
    },
    "papermill": {
     "duration": 0.028652,
     "end_time": "2022-11-29T22:08:26.884556",
     "exception": false,
     "start_time": "2022-11-29T22:08:26.855904",
     "status": "completed"
    },
    "tags": []
   },
   "outputs": [],
   "source": [
    "# OUTPUT_DIR_BASE = (\n",
    "#     conf.RESULTS[\"GLS\"]\n",
    "#     / \"gene_corrs\"\n",
    "#     / \"cohorts\"\n",
    "#     / COHORT_NAME\n",
    "#     / REFERENCE_PANEL.lower()\n",
    "#     / EQTL_MODEL.lower()\n",
    "# )\n",
    "\n",
    "# OUTPUT_DIR_BASE.mkdir(parents=True, exist_ok=True)\n",
    "\n",
    "# display(f\"Using output dir base: {OUTPUT_DIR_BASE}\")"
   ]
  },
  {
   "cell_type": "markdown",
   "id": "b6ebb422-8204-494b-8c72-360a71ce9863",
   "metadata": {
    "papermill": {
     "duration": 0.011884,
     "end_time": "2022-11-29T22:08:26.908270",
     "exception": false,
     "start_time": "2022-11-29T22:08:26.896386",
     "status": "completed"
    },
    "tags": []
   },
   "source": [
    "# Load MultiPLIER Z genes"
   ]
  },
  {
   "cell_type": "code",
   "execution_count": 14,
   "id": "c48ef527",
   "metadata": {
    "execution": {
     "iopub.execute_input": "2022-11-29T22:08:26.932923Z",
     "iopub.status.busy": "2022-11-29T22:08:26.932608Z",
     "iopub.status.idle": "2022-11-29T22:08:26.978429Z",
     "shell.execute_reply": "2022-11-29T22:08:26.977859Z"
    },
    "papermill": {
     "duration": 0.059357,
     "end_time": "2022-11-29T22:08:26.979510",
     "exception": false,
     "start_time": "2022-11-29T22:08:26.920153",
     "status": "completed"
    },
    "tags": []
   },
   "outputs": [],
   "source": [
    "multiplier_z_genes = pd.read_pickle(\n",
    "    conf.MULTIPLIER[\"MODEL_Z_MATRIX_FILE\"]\n",
    ").index.tolist()"
   ]
  },
  {
   "cell_type": "code",
   "execution_count": 15,
   "id": "0a4ecbd9",
   "metadata": {
    "execution": {
     "iopub.execute_input": "2022-11-29T22:08:27.004895Z",
     "iopub.status.busy": "2022-11-29T22:08:27.004388Z",
     "iopub.status.idle": "2022-11-29T22:08:27.022073Z",
     "shell.execute_reply": "2022-11-29T22:08:27.021594Z"
    },
    "papermill": {
     "duration": 0.031136,
     "end_time": "2022-11-29T22:08:27.022879",
     "exception": false,
     "start_time": "2022-11-29T22:08:26.991743",
     "status": "completed"
    },
    "tags": []
   },
   "outputs": [
    {
     "data": {
      "text/plain": [
       "6750"
      ]
     },
     "execution_count": 15,
     "metadata": {},
     "output_type": "execute_result"
    }
   ],
   "source": [
    "len(multiplier_z_genes)"
   ]
  },
  {
   "cell_type": "code",
   "execution_count": 16,
   "id": "a18ce359-0759-4260-ae6f-053e8c0041b7",
   "metadata": {
    "execution": {
     "iopub.execute_input": "2022-11-29T22:08:27.047979Z",
     "iopub.status.busy": "2022-11-29T22:08:27.047603Z",
     "iopub.status.idle": "2022-11-29T22:08:27.063563Z",
     "shell.execute_reply": "2022-11-29T22:08:27.063037Z"
    },
    "papermill": {
     "duration": 0.029531,
     "end_time": "2022-11-29T22:08:27.064440",
     "exception": false,
     "start_time": "2022-11-29T22:08:27.034909",
     "status": "completed"
    },
    "tags": []
   },
   "outputs": [],
   "source": [
    "assert len(multiplier_z_genes) == len(set(multiplier_z_genes))"
   ]
  },
  {
   "cell_type": "code",
   "execution_count": 17,
   "id": "115e8864",
   "metadata": {
    "execution": {
     "iopub.execute_input": "2022-11-29T22:08:27.089544Z",
     "iopub.status.busy": "2022-11-29T22:08:27.089032Z",
     "iopub.status.idle": "2022-11-29T22:08:27.105446Z",
     "shell.execute_reply": "2022-11-29T22:08:27.104965Z"
    },
    "papermill": {
     "duration": 0.029886,
     "end_time": "2022-11-29T22:08:27.106287",
     "exception": false,
     "start_time": "2022-11-29T22:08:27.076401",
     "status": "completed"
    },
    "tags": []
   },
   "outputs": [
    {
     "data": {
      "text/plain": [
       "['GAS6', 'MMP14', 'DSP', 'MARCKSL1', 'SPARC']"
      ]
     },
     "execution_count": 17,
     "metadata": {},
     "output_type": "execute_result"
    }
   ],
   "source": [
    "multiplier_z_genes[:5]"
   ]
  },
  {
   "cell_type": "markdown",
   "id": "7bed0ce0-e7c7-4300-9a61-5412450b1904",
   "metadata": {
    "papermill": {
     "duration": 0.011941,
     "end_time": "2022-11-29T22:08:27.130242",
     "exception": false,
     "start_time": "2022-11-29T22:08:27.118301",
     "status": "completed"
    },
    "tags": []
   },
   "source": [
    "# GWAS"
   ]
  },
  {
   "cell_type": "code",
   "execution_count": 18,
   "id": "331e5691-c014-43e4-b94c-060c64d329df",
   "metadata": {
    "execution": {
     "iopub.execute_input": "2022-11-29T22:08:27.155045Z",
     "iopub.status.busy": "2022-11-29T22:08:27.154736Z",
     "iopub.status.idle": "2022-11-29T22:08:27.175944Z",
     "shell.execute_reply": "2022-11-29T22:08:27.175415Z"
    },
    "papermill": {
     "duration": 0.034629,
     "end_time": "2022-11-29T22:08:27.176901",
     "exception": false,
     "start_time": "2022-11-29T22:08:27.142272",
     "status": "completed"
    },
    "tags": []
   },
   "outputs": [],
   "source": [
    "gwas_file_columns = pd.read_csv(GWAS_FILE, sep=\"\\t\", nrows=2).columns\n",
    "\n",
    "assert (\n",
    "    \"panel_variant_id\" in gwas_file_columns\n",
    "), \"The GWAS file must be the final imputed one using the TWAS imputation tools with column 'panel_variant_id'\"\n",
    "\n",
    "assert (\n",
    "    \"pvalue\" in gwas_file_columns\n",
    "), \"The GWAS file must be the final imputed one using the TWAS imputation tools with column 'pvalue'\"\n",
    "\n",
    "assert (\n",
    "    \"zscore\" in gwas_file_columns\n",
    "), \"The GWAS file must be the final imputed one using the TWAS imputation tools with column 'zscore'\""
   ]
  },
  {
   "cell_type": "code",
   "execution_count": 19,
   "id": "8d419629-8f4d-4c83-bed3-cfc071a58090",
   "metadata": {
    "execution": {
     "iopub.execute_input": "2022-11-29T22:08:27.202106Z",
     "iopub.status.busy": "2022-11-29T22:08:27.201783Z",
     "iopub.status.idle": "2022-11-29T22:08:36.731777Z",
     "shell.execute_reply": "2022-11-29T22:08:36.731338Z"
    },
    "papermill": {
     "duration": 9.544271,
     "end_time": "2022-11-29T22:08:36.733412",
     "exception": false,
     "start_time": "2022-11-29T22:08:27.189141",
     "status": "completed"
    },
    "tags": []
   },
   "outputs": [],
   "source": [
    "gwas_data = pd.read_csv(\n",
    "    GWAS_FILE,\n",
    "    sep=\"\\t\",\n",
    "    usecols=[\"panel_variant_id\", \"pvalue\", \"zscore\"],\n",
    ")"
   ]
  },
  {
   "cell_type": "code",
   "execution_count": 20,
   "id": "3f4e814e-6b41-407e-9099-86795eec6ed9",
   "metadata": {
    "execution": {
     "iopub.execute_input": "2022-11-29T22:08:36.780284Z",
     "iopub.status.busy": "2022-11-29T22:08:36.780174Z",
     "iopub.status.idle": "2022-11-29T22:08:36.791754Z",
     "shell.execute_reply": "2022-11-29T22:08:36.791401Z"
    },
    "papermill": {
     "duration": 0.036044,
     "end_time": "2022-11-29T22:08:36.793046",
     "exception": false,
     "start_time": "2022-11-29T22:08:36.757002",
     "status": "completed"
    },
    "tags": []
   },
   "outputs": [
    {
     "data": {
      "text/plain": [
       "(8580225, 3)"
      ]
     },
     "execution_count": 20,
     "metadata": {},
     "output_type": "execute_result"
    }
   ],
   "source": [
    "gwas_data.shape"
   ]
  },
  {
   "cell_type": "code",
   "execution_count": 21,
   "id": "b4a906e9-c80a-47fc-9d73-5adb046f8b76",
   "metadata": {
    "execution": {
     "iopub.execute_input": "2022-11-29T22:08:36.838798Z",
     "iopub.status.busy": "2022-11-29T22:08:36.838693Z",
     "iopub.status.idle": "2022-11-29T22:08:36.851558Z",
     "shell.execute_reply": "2022-11-29T22:08:36.851198Z"
    },
    "papermill": {
     "duration": 0.036416,
     "end_time": "2022-11-29T22:08:36.852343",
     "exception": false,
     "start_time": "2022-11-29T22:08:36.815927",
     "status": "completed"
    },
    "tags": []
   },
   "outputs": [
    {
     "data": {
      "text/html": [
       "<div>\n",
       "<style scoped>\n",
       "    .dataframe tbody tr th:only-of-type {\n",
       "        vertical-align: middle;\n",
       "    }\n",
       "\n",
       "    .dataframe tbody tr th {\n",
       "        vertical-align: top;\n",
       "    }\n",
       "\n",
       "    .dataframe thead th {\n",
       "        text-align: right;\n",
       "    }\n",
       "</style>\n",
       "<table border=\"1\" class=\"dataframe\">\n",
       "  <thead>\n",
       "    <tr style=\"text-align: right;\">\n",
       "      <th></th>\n",
       "      <th>panel_variant_id</th>\n",
       "      <th>zscore</th>\n",
       "      <th>pvalue</th>\n",
       "    </tr>\n",
       "  </thead>\n",
       "  <tbody>\n",
       "    <tr>\n",
       "      <th>0</th>\n",
       "      <td>chr1_54490_G_A_b38</td>\n",
       "      <td>0.609075</td>\n",
       "      <td>0.542475</td>\n",
       "    </tr>\n",
       "    <tr>\n",
       "      <th>1</th>\n",
       "      <td>chr1_87021_T_C_b38</td>\n",
       "      <td>-0.940829</td>\n",
       "      <td>0.346793</td>\n",
       "    </tr>\n",
       "    <tr>\n",
       "      <th>2</th>\n",
       "      <td>chr1_263722_C_G_b38</td>\n",
       "      <td>0.562776</td>\n",
       "      <td>0.573587</td>\n",
       "    </tr>\n",
       "    <tr>\n",
       "      <th>3</th>\n",
       "      <td>chr1_594402_C_T_b38</td>\n",
       "      <td>0.183769</td>\n",
       "      <td>0.854195</td>\n",
       "    </tr>\n",
       "    <tr>\n",
       "      <th>4</th>\n",
       "      <td>chr1_630555_C_T_b38</td>\n",
       "      <td>-0.205482</td>\n",
       "      <td>0.837195</td>\n",
       "    </tr>\n",
       "  </tbody>\n",
       "</table>\n",
       "</div>"
      ],
      "text/plain": [
       "      panel_variant_id    zscore    pvalue\n",
       "0   chr1_54490_G_A_b38  0.609075  0.542475\n",
       "1   chr1_87021_T_C_b38 -0.940829  0.346793\n",
       "2  chr1_263722_C_G_b38  0.562776  0.573587\n",
       "3  chr1_594402_C_T_b38  0.183769  0.854195\n",
       "4  chr1_630555_C_T_b38 -0.205482  0.837195"
      ]
     },
     "execution_count": 21,
     "metadata": {},
     "output_type": "execute_result"
    }
   ],
   "source": [
    "gwas_data.head()"
   ]
  },
  {
   "cell_type": "code",
   "execution_count": 22,
   "id": "033c24fb-9c60-4ffd-929e-b0e6089820ae",
   "metadata": {
    "execution": {
     "iopub.execute_input": "2022-11-29T22:08:36.877544Z",
     "iopub.status.busy": "2022-11-29T22:08:36.877416Z",
     "iopub.status.idle": "2022-11-29T22:08:37.822617Z",
     "shell.execute_reply": "2022-11-29T22:08:37.822230Z"
    },
    "papermill": {
     "duration": 0.959219,
     "end_time": "2022-11-29T22:08:37.824061",
     "exception": false,
     "start_time": "2022-11-29T22:08:36.864842",
     "status": "completed"
    },
    "tags": []
   },
   "outputs": [
    {
     "data": {
      "text/plain": [
       "(8578486, 3)"
      ]
     },
     "execution_count": 22,
     "metadata": {},
     "output_type": "execute_result"
    }
   ],
   "source": [
    "gwas_data.dropna().shape"
   ]
  },
  {
   "cell_type": "code",
   "execution_count": 23,
   "id": "28232ce5-0afd-464e-9be3-64c3a68c2b25",
   "metadata": {
    "execution": {
     "iopub.execute_input": "2022-11-29T22:08:37.871306Z",
     "iopub.status.busy": "2022-11-29T22:08:37.871195Z",
     "iopub.status.idle": "2022-11-29T22:08:38.712504Z",
     "shell.execute_reply": "2022-11-29T22:08:38.712044Z"
    },
    "papermill": {
     "duration": 0.866717,
     "end_time": "2022-11-29T22:08:38.714039",
     "exception": false,
     "start_time": "2022-11-29T22:08:37.847322",
     "status": "completed"
    },
    "tags": []
   },
   "outputs": [],
   "source": [
    "# remove SNPs with no results\n",
    "gwas_data = gwas_data.dropna()"
   ]
  },
  {
   "cell_type": "code",
   "execution_count": 24,
   "id": "d9a6c31f-eedd-43e5-b762-5a9663be1b77",
   "metadata": {
    "execution": {
     "iopub.execute_input": "2022-11-29T22:08:38.761559Z",
     "iopub.status.busy": "2022-11-29T22:08:38.761448Z",
     "iopub.status.idle": "2022-11-29T22:08:38.772164Z",
     "shell.execute_reply": "2022-11-29T22:08:38.771814Z"
    },
    "papermill": {
     "duration": 0.035752,
     "end_time": "2022-11-29T22:08:38.773436",
     "exception": false,
     "start_time": "2022-11-29T22:08:38.737684",
     "status": "completed"
    },
    "tags": []
   },
   "outputs": [
    {
     "data": {
      "text/plain": [
       "(8578486, 3)"
      ]
     },
     "execution_count": 24,
     "metadata": {},
     "output_type": "execute_result"
    }
   ],
   "source": [
    "gwas_data.shape"
   ]
  },
  {
   "cell_type": "markdown",
   "id": "8da344de-2aa5-48a9-98ec-e8c3397ae7e6",
   "metadata": {
    "papermill": {
     "duration": 0.022783,
     "end_time": "2022-11-29T22:08:38.820764",
     "exception": false,
     "start_time": "2022-11-29T22:08:38.797981",
     "status": "completed"
    },
    "tags": []
   },
   "source": [
    "## Save GWAS variants"
   ]
  },
  {
   "cell_type": "code",
   "execution_count": 25,
   "id": "ac11fb33-ea3c-4d5c-a90b-0ceebdac43d3",
   "metadata": {
    "execution": {
     "iopub.execute_input": "2022-11-29T22:08:38.846908Z",
     "iopub.status.busy": "2022-11-29T22:08:38.846507Z",
     "iopub.status.idle": "2022-11-29T22:08:38.867275Z",
     "shell.execute_reply": "2022-11-29T22:08:38.866786Z"
    },
    "papermill": {
     "duration": 0.034724,
     "end_time": "2022-11-29T22:08:38.868134",
     "exception": false,
     "start_time": "2022-11-29T22:08:38.833410",
     "status": "completed"
    },
    "tags": []
   },
   "outputs": [
    {
     "data": {
      "text/html": [
       "<div>\n",
       "<style scoped>\n",
       "    .dataframe tbody tr th:only-of-type {\n",
       "        vertical-align: middle;\n",
       "    }\n",
       "\n",
       "    .dataframe tbody tr th {\n",
       "        vertical-align: top;\n",
       "    }\n",
       "\n",
       "    .dataframe thead th {\n",
       "        text-align: right;\n",
       "    }\n",
       "</style>\n",
       "<table border=\"1\" class=\"dataframe\">\n",
       "  <thead>\n",
       "    <tr style=\"text-align: right;\">\n",
       "      <th></th>\n",
       "      <th>panel_variant_id</th>\n",
       "      <th>zscore</th>\n",
       "      <th>pvalue</th>\n",
       "    </tr>\n",
       "  </thead>\n",
       "  <tbody>\n",
       "    <tr>\n",
       "      <th>0</th>\n",
       "      <td>chr1_54490_G_A_b38</td>\n",
       "      <td>0.609075</td>\n",
       "      <td>0.542475</td>\n",
       "    </tr>\n",
       "    <tr>\n",
       "      <th>1</th>\n",
       "      <td>chr1_87021_T_C_b38</td>\n",
       "      <td>-0.940829</td>\n",
       "      <td>0.346793</td>\n",
       "    </tr>\n",
       "    <tr>\n",
       "      <th>2</th>\n",
       "      <td>chr1_263722_C_G_b38</td>\n",
       "      <td>0.562776</td>\n",
       "      <td>0.573587</td>\n",
       "    </tr>\n",
       "    <tr>\n",
       "      <th>3</th>\n",
       "      <td>chr1_594402_C_T_b38</td>\n",
       "      <td>0.183769</td>\n",
       "      <td>0.854195</td>\n",
       "    </tr>\n",
       "    <tr>\n",
       "      <th>4</th>\n",
       "      <td>chr1_630555_C_T_b38</td>\n",
       "      <td>-0.205482</td>\n",
       "      <td>0.837195</td>\n",
       "    </tr>\n",
       "  </tbody>\n",
       "</table>\n",
       "</div>"
      ],
      "text/plain": [
       "      panel_variant_id    zscore    pvalue\n",
       "0   chr1_54490_G_A_b38  0.609075  0.542475\n",
       "1   chr1_87021_T_C_b38 -0.940829  0.346793\n",
       "2  chr1_263722_C_G_b38  0.562776  0.573587\n",
       "3  chr1_594402_C_T_b38  0.183769  0.854195\n",
       "4  chr1_630555_C_T_b38 -0.205482  0.837195"
      ]
     },
     "execution_count": 25,
     "metadata": {},
     "output_type": "execute_result"
    }
   ],
   "source": [
    "gwas_data.head()"
   ]
  },
  {
   "cell_type": "code",
   "execution_count": 26,
   "id": "5f34bb3d-761a-4860-a179-77ea5f5784ad",
   "metadata": {
    "execution": {
     "iopub.execute_input": "2022-11-29T22:08:38.894003Z",
     "iopub.status.busy": "2022-11-29T22:08:38.893660Z",
     "iopub.status.idle": "2022-11-29T22:08:42.764260Z",
     "shell.execute_reply": "2022-11-29T22:08:42.763866Z"
    },
    "papermill": {
     "duration": 3.885158,
     "end_time": "2022-11-29T22:08:42.765877",
     "exception": false,
     "start_time": "2022-11-29T22:08:38.880719",
     "status": "completed"
    },
    "tags": []
   },
   "outputs": [
    {
     "data": {
      "text/plain": [
       "True"
      ]
     },
     "execution_count": 26,
     "metadata": {},
     "output_type": "execute_result"
    }
   ],
   "source": [
    "# in eMERGE's results, some values here are repeated (will be removed later by taking the unique set of variant IDs).\n",
    "gwas_data[\"panel_variant_id\"].is_unique"
   ]
  },
  {
   "cell_type": "code",
   "execution_count": 27,
   "id": "d4f23b2f-01a3-4a45-a2b6-31b245b5778e",
   "metadata": {
    "execution": {
     "iopub.execute_input": "2022-11-29T22:08:42.819264Z",
     "iopub.status.busy": "2022-11-29T22:08:42.819153Z",
     "iopub.status.idle": "2022-11-29T22:08:44.820038Z",
     "shell.execute_reply": "2022-11-29T22:08:44.819656Z"
    },
    "papermill": {
     "duration": 2.028735,
     "end_time": "2022-11-29T22:08:44.821507",
     "exception": false,
     "start_time": "2022-11-29T22:08:42.792772",
     "status": "completed"
    },
    "tags": []
   },
   "outputs": [
    {
     "data": {
      "text/plain": [
       "['chr10_103856724_A_T_b38',\n",
       " 'chr11_42660304_C_T_b38',\n",
       " 'chr16_72215433_AG_A_b38',\n",
       " 'chr16_88368186_G_T_b38',\n",
       " 'chr18_45219765_T_G_b38']"
      ]
     },
     "execution_count": 27,
     "metadata": {},
     "output_type": "execute_result"
    }
   ],
   "source": [
    "gwas_variants_ids_set = frozenset(gwas_data[\"panel_variant_id\"])\n",
    "list(gwas_variants_ids_set)[:5]"
   ]
  },
  {
   "cell_type": "code",
   "execution_count": 28,
   "id": "b4a441df-07d7-48dc-be36-cdb3f92be651",
   "metadata": {
    "execution": {
     "iopub.execute_input": "2022-11-29T22:08:44.872939Z",
     "iopub.status.busy": "2022-11-29T22:08:44.872815Z",
     "iopub.status.idle": "2022-11-29T22:08:47.829206Z",
     "shell.execute_reply": "2022-11-29T22:08:47.828774Z"
    },
    "papermill": {
     "duration": 2.983935,
     "end_time": "2022-11-29T22:08:47.830832",
     "exception": false,
     "start_time": "2022-11-29T22:08:44.846897",
     "status": "completed"
    },
    "tags": []
   },
   "outputs": [],
   "source": [
    "with open(OUTPUT_DIR_BASE / \"gwas_variant_ids.pkl\", \"wb\") as handle:\n",
    "    pickle.dump(gwas_variants_ids_set, handle, protocol=pickle.HIGHEST_PROTOCOL)"
   ]
  },
  {
   "cell_type": "markdown",
   "id": "abcc4b3d",
   "metadata": {
    "papermill": {
     "duration": 0.025306,
     "end_time": "2022-11-29T22:08:47.881568",
     "exception": false,
     "start_time": "2022-11-29T22:08:47.856262",
     "status": "completed"
    },
    "tags": []
   },
   "source": [
    "# TWAS"
   ]
  },
  {
   "cell_type": "markdown",
   "id": "2fbc7358-0563-4fc6-bc47-a0fbcc5cdfd4",
   "metadata": {
    "papermill": {
     "duration": 0.015198,
     "end_time": "2022-11-29T22:08:47.922116",
     "exception": false,
     "start_time": "2022-11-29T22:08:47.906918",
     "status": "completed"
    },
    "tags": []
   },
   "source": [
    "## Available tissues for eQTL model"
   ]
  },
  {
   "cell_type": "code",
   "execution_count": 29,
   "id": "f32c0a84-030a-436b-b597-852b6150d2ac",
   "metadata": {
    "execution": {
     "iopub.execute_input": "2022-11-29T22:08:47.948309Z",
     "iopub.status.busy": "2022-11-29T22:08:47.947987Z",
     "iopub.status.idle": "2022-11-29T22:08:47.962385Z",
     "shell.execute_reply": "2022-11-29T22:08:47.961921Z"
    },
    "papermill": {
     "duration": 0.028563,
     "end_time": "2022-11-29T22:08:47.963328",
     "exception": false,
     "start_time": "2022-11-29T22:08:47.934765",
     "status": "completed"
    },
    "tags": []
   },
   "outputs": [],
   "source": [
    "prediction_model_tissues = conf.PHENOMEXCAN[\"PREDICTION_MODELS\"][\n",
    "    f\"{EQTL_MODEL}_TISSUES\"\n",
    "].split(\" \")"
   ]
  },
  {
   "cell_type": "code",
   "execution_count": 30,
   "id": "0e760d0e-f23d-4590-abfb-811a43f7c237",
   "metadata": {
    "execution": {
     "iopub.execute_input": "2022-11-29T22:08:47.989471Z",
     "iopub.status.busy": "2022-11-29T22:08:47.989311Z",
     "iopub.status.idle": "2022-11-29T22:08:48.007032Z",
     "shell.execute_reply": "2022-11-29T22:08:48.006205Z"
    },
    "papermill": {
     "duration": 0.031972,
     "end_time": "2022-11-29T22:08:48.008257",
     "exception": false,
     "start_time": "2022-11-29T22:08:47.976285",
     "status": "completed"
    },
    "tags": []
   },
   "outputs": [
    {
     "data": {
      "text/plain": [
       "49"
      ]
     },
     "execution_count": 30,
     "metadata": {},
     "output_type": "execute_result"
    }
   ],
   "source": [
    "len(prediction_model_tissues)"
   ]
  },
  {
   "cell_type": "code",
   "execution_count": 31,
   "id": "fa4d942c-cd67-4b31-9491-585c887c0ee3",
   "metadata": {
    "execution": {
     "iopub.execute_input": "2022-11-29T22:08:48.035796Z",
     "iopub.status.busy": "2022-11-29T22:08:48.035381Z",
     "iopub.status.idle": "2022-11-29T22:08:48.056082Z",
     "shell.execute_reply": "2022-11-29T22:08:48.055576Z"
    },
    "papermill": {
     "duration": 0.035319,
     "end_time": "2022-11-29T22:08:48.056951",
     "exception": false,
     "start_time": "2022-11-29T22:08:48.021632",
     "status": "completed"
    },
    "tags": []
   },
   "outputs": [
    {
     "data": {
      "text/plain": [
       "['Thyroid',\n",
       " 'Artery_Aorta',\n",
       " 'Heart_Atrial_Appendage',\n",
       " 'Liver',\n",
       " 'Heart_Left_Ventricle']"
      ]
     },
     "execution_count": 31,
     "metadata": {},
     "output_type": "execute_result"
    }
   ],
   "source": [
    "prediction_model_tissues[:5]"
   ]
  },
  {
   "cell_type": "markdown",
   "id": "fab4814d-757c-4247-b5e4-891bc4863db7",
   "metadata": {
    "papermill": {
     "duration": 0.012708,
     "end_time": "2022-11-29T22:08:48.082738",
     "exception": false,
     "start_time": "2022-11-29T22:08:48.070030",
     "status": "completed"
    },
    "tags": []
   },
   "source": [
    "## S-MultiXcan results"
   ]
  },
  {
   "cell_type": "code",
   "execution_count": 32,
   "id": "2b73c11e-9aa2-410e-84b4-a70be34d02e4",
   "metadata": {
    "execution": {
     "iopub.execute_input": "2022-11-29T22:08:48.109187Z",
     "iopub.status.busy": "2022-11-29T22:08:48.108977Z",
     "iopub.status.idle": "2022-11-29T22:08:48.174545Z",
     "shell.execute_reply": "2022-11-29T22:08:48.173979Z"
    },
    "papermill": {
     "duration": 0.080147,
     "end_time": "2022-11-29T22:08:48.175807",
     "exception": false,
     "start_time": "2022-11-29T22:08:48.095660",
     "status": "completed"
    },
    "tags": []
   },
   "outputs": [],
   "source": [
    "smultixcan_results = pd.read_csv(\n",
    "    SMULTIXCAN_FILE, sep=\"\\t\", usecols=[\"gene\", \"gene_name\", \"pvalue\", \"n\", \"n_indep\"]\n",
    ")"
   ]
  },
  {
   "cell_type": "code",
   "execution_count": 33,
   "id": "8b5abebd-baab-4188-9e3d-655ebbe32401",
   "metadata": {
    "execution": {
     "iopub.execute_input": "2022-11-29T22:08:48.203224Z",
     "iopub.status.busy": "2022-11-29T22:08:48.202896Z",
     "iopub.status.idle": "2022-11-29T22:08:48.220657Z",
     "shell.execute_reply": "2022-11-29T22:08:48.220158Z"
    },
    "papermill": {
     "duration": 0.032092,
     "end_time": "2022-11-29T22:08:48.221496",
     "exception": false,
     "start_time": "2022-11-29T22:08:48.189404",
     "status": "completed"
    },
    "tags": []
   },
   "outputs": [
    {
     "data": {
      "text/plain": [
       "(22314, 5)"
      ]
     },
     "execution_count": 33,
     "metadata": {},
     "output_type": "execute_result"
    }
   ],
   "source": [
    "smultixcan_results.shape"
   ]
  },
  {
   "cell_type": "code",
   "execution_count": 34,
   "id": "c65e233f-9ef6-4883-9386-7abf1d6d1cbd",
   "metadata": {
    "execution": {
     "iopub.execute_input": "2022-11-29T22:08:48.249055Z",
     "iopub.status.busy": "2022-11-29T22:08:48.248434Z",
     "iopub.status.idle": "2022-11-29T22:08:48.273074Z",
     "shell.execute_reply": "2022-11-29T22:08:48.272533Z"
    },
    "papermill": {
     "duration": 0.03906,
     "end_time": "2022-11-29T22:08:48.274058",
     "exception": false,
     "start_time": "2022-11-29T22:08:48.234998",
     "status": "completed"
    },
    "tags": []
   },
   "outputs": [],
   "source": [
    "smultixcan_results = smultixcan_results.dropna()"
   ]
  },
  {
   "cell_type": "code",
   "execution_count": 35,
   "id": "57d2d311-4a42-4725-9e37-b124ed13ad33",
   "metadata": {
    "execution": {
     "iopub.execute_input": "2022-11-29T22:08:48.301538Z",
     "iopub.status.busy": "2022-11-29T22:08:48.301079Z",
     "iopub.status.idle": "2022-11-29T22:08:48.319114Z",
     "shell.execute_reply": "2022-11-29T22:08:48.318480Z"
    },
    "papermill": {
     "duration": 0.032781,
     "end_time": "2022-11-29T22:08:48.319989",
     "exception": false,
     "start_time": "2022-11-29T22:08:48.287208",
     "status": "completed"
    },
    "tags": []
   },
   "outputs": [
    {
     "data": {
      "text/plain": [
       "(22311, 5)"
      ]
     },
     "execution_count": 35,
     "metadata": {},
     "output_type": "execute_result"
    }
   ],
   "source": [
    "smultixcan_results.shape"
   ]
  },
  {
   "cell_type": "code",
   "execution_count": 36,
   "id": "a36b5b59-f4b6-45bf-b241-ffc9671b357f",
   "metadata": {
    "execution": {
     "iopub.execute_input": "2022-11-29T22:08:48.347086Z",
     "iopub.status.busy": "2022-11-29T22:08:48.346578Z",
     "iopub.status.idle": "2022-11-29T22:08:48.372238Z",
     "shell.execute_reply": "2022-11-29T22:08:48.371563Z"
    },
    "papermill": {
     "duration": 0.040146,
     "end_time": "2022-11-29T22:08:48.373254",
     "exception": false,
     "start_time": "2022-11-29T22:08:48.333108",
     "status": "completed"
    },
    "tags": []
   },
   "outputs": [],
   "source": [
    "smultixcan_results = smultixcan_results.assign(\n",
    "    gene_id=smultixcan_results[\"gene\"].apply(lambda g: g.split(\".\")[0])\n",
    ")"
   ]
  },
  {
   "cell_type": "code",
   "execution_count": 37,
   "id": "c49f62a9-a01a-44af-87da-47d195b0ef7e",
   "metadata": {
    "execution": {
     "iopub.execute_input": "2022-11-29T22:08:48.400641Z",
     "iopub.status.busy": "2022-11-29T22:08:48.400069Z",
     "iopub.status.idle": "2022-11-29T22:08:48.424185Z",
     "shell.execute_reply": "2022-11-29T22:08:48.423546Z"
    },
    "papermill": {
     "duration": 0.038579,
     "end_time": "2022-11-29T22:08:48.425088",
     "exception": false,
     "start_time": "2022-11-29T22:08:48.386509",
     "status": "completed"
    },
    "tags": []
   },
   "outputs": [
    {
     "data": {
      "text/html": [
       "<div>\n",
       "<style scoped>\n",
       "    .dataframe tbody tr th:only-of-type {\n",
       "        vertical-align: middle;\n",
       "    }\n",
       "\n",
       "    .dataframe tbody tr th {\n",
       "        vertical-align: top;\n",
       "    }\n",
       "\n",
       "    .dataframe thead th {\n",
       "        text-align: right;\n",
       "    }\n",
       "</style>\n",
       "<table border=\"1\" class=\"dataframe\">\n",
       "  <thead>\n",
       "    <tr style=\"text-align: right;\">\n",
       "      <th></th>\n",
       "      <th>gene</th>\n",
       "      <th>gene_name</th>\n",
       "      <th>pvalue</th>\n",
       "      <th>n</th>\n",
       "      <th>n_indep</th>\n",
       "      <th>gene_id</th>\n",
       "    </tr>\n",
       "  </thead>\n",
       "  <tbody>\n",
       "    <tr>\n",
       "      <th>0</th>\n",
       "      <td>ENSG00000196735.11</td>\n",
       "      <td>HLA-DQA1</td>\n",
       "      <td>7.348761e-41</td>\n",
       "      <td>44.0</td>\n",
       "      <td>6.0</td>\n",
       "      <td>ENSG00000196735</td>\n",
       "    </tr>\n",
       "    <tr>\n",
       "      <th>1</th>\n",
       "      <td>ENSG00000204290.10</td>\n",
       "      <td>BTNL2</td>\n",
       "      <td>1.946528e-35</td>\n",
       "      <td>21.0</td>\n",
       "      <td>10.0</td>\n",
       "      <td>ENSG00000204290</td>\n",
       "    </tr>\n",
       "    <tr>\n",
       "      <th>2</th>\n",
       "      <td>ENSG00000204287.13</td>\n",
       "      <td>HLA-DRA</td>\n",
       "      <td>1.368742e-34</td>\n",
       "      <td>31.0</td>\n",
       "      <td>6.0</td>\n",
       "      <td>ENSG00000204287</td>\n",
       "    </tr>\n",
       "    <tr>\n",
       "      <th>3</th>\n",
       "      <td>ENSG00000237541.3</td>\n",
       "      <td>HLA-DQA2</td>\n",
       "      <td>1.435612e-33</td>\n",
       "      <td>45.0</td>\n",
       "      <td>5.0</td>\n",
       "      <td>ENSG00000237541</td>\n",
       "    </tr>\n",
       "    <tr>\n",
       "      <th>4</th>\n",
       "      <td>ENSG00000179344.16</td>\n",
       "      <td>HLA-DQB1</td>\n",
       "      <td>5.862907e-33</td>\n",
       "      <td>49.0</td>\n",
       "      <td>3.0</td>\n",
       "      <td>ENSG00000179344</td>\n",
       "    </tr>\n",
       "  </tbody>\n",
       "</table>\n",
       "</div>"
      ],
      "text/plain": [
       "                 gene gene_name        pvalue     n  n_indep          gene_id\n",
       "0  ENSG00000196735.11  HLA-DQA1  7.348761e-41  44.0      6.0  ENSG00000196735\n",
       "1  ENSG00000204290.10     BTNL2  1.946528e-35  21.0     10.0  ENSG00000204290\n",
       "2  ENSG00000204287.13   HLA-DRA  1.368742e-34  31.0      6.0  ENSG00000204287\n",
       "3   ENSG00000237541.3  HLA-DQA2  1.435612e-33  45.0      5.0  ENSG00000237541\n",
       "4  ENSG00000179344.16  HLA-DQB1  5.862907e-33  49.0      3.0  ENSG00000179344"
      ]
     },
     "execution_count": 37,
     "metadata": {},
     "output_type": "execute_result"
    }
   ],
   "source": [
    "smultixcan_results.head()"
   ]
  },
  {
   "cell_type": "code",
   "execution_count": 38,
   "id": "9c4c023c-86d6-4c4b-8d57-c2b6b93aaf84",
   "metadata": {
    "execution": {
     "iopub.execute_input": "2022-11-29T22:08:48.452558Z",
     "iopub.status.busy": "2022-11-29T22:08:48.451896Z",
     "iopub.status.idle": "2022-11-29T22:08:48.471879Z",
     "shell.execute_reply": "2022-11-29T22:08:48.471228Z"
    },
    "papermill": {
     "duration": 0.034447,
     "end_time": "2022-11-29T22:08:48.472883",
     "exception": false,
     "start_time": "2022-11-29T22:08:48.438436",
     "status": "completed"
    },
    "tags": []
   },
   "outputs": [],
   "source": [
    "assert smultixcan_results[\"gene_id\"].is_unique"
   ]
  },
  {
   "cell_type": "markdown",
   "id": "1f9939f1-4200-40d9-a8bf-8e4fd68bee48",
   "metadata": {
    "papermill": {
     "duration": 0.013053,
     "end_time": "2022-11-29T22:08:48.498771",
     "exception": false,
     "start_time": "2022-11-29T22:08:48.485718",
     "status": "completed"
    },
    "tags": []
   },
   "source": [
    "### Get common genes with MultiPLIER"
   ]
  },
  {
   "cell_type": "code",
   "execution_count": 39,
   "id": "c820e6cf-6350-45af-b49a-0abd94f570ff",
   "metadata": {
    "execution": {
     "iopub.execute_input": "2022-11-29T22:08:48.525810Z",
     "iopub.status.busy": "2022-11-29T22:08:48.525465Z",
     "iopub.status.idle": "2022-11-29T22:08:48.547484Z",
     "shell.execute_reply": "2022-11-29T22:08:48.546821Z"
    },
    "papermill": {
     "duration": 0.036712,
     "end_time": "2022-11-29T22:08:48.548426",
     "exception": false,
     "start_time": "2022-11-29T22:08:48.511714",
     "status": "completed"
    },
    "tags": []
   },
   "outputs": [],
   "source": [
    "common_genes = set(multiplier_z_genes).intersection(\n",
    "    set(smultixcan_results[\"gene_name\"])\n",
    ")"
   ]
  },
  {
   "cell_type": "code",
   "execution_count": 40,
   "id": "0a7328f9-96c7-4ac6-a9a6-ae4fa121a4cd",
   "metadata": {
    "execution": {
     "iopub.execute_input": "2022-11-29T22:08:48.575516Z",
     "iopub.status.busy": "2022-11-29T22:08:48.575204Z",
     "iopub.status.idle": "2022-11-29T22:08:48.593218Z",
     "shell.execute_reply": "2022-11-29T22:08:48.592593Z"
    },
    "papermill": {
     "duration": 0.032451,
     "end_time": "2022-11-29T22:08:48.594049",
     "exception": false,
     "start_time": "2022-11-29T22:08:48.561598",
     "status": "completed"
    },
    "tags": []
   },
   "outputs": [
    {
     "data": {
      "text/plain": [
       "6445"
      ]
     },
     "execution_count": 40,
     "metadata": {},
     "output_type": "execute_result"
    }
   ],
   "source": [
    "len(common_genes)"
   ]
  },
  {
   "cell_type": "code",
   "execution_count": 41,
   "id": "5b08d362-44c8-4db2-9258-670e2e2a9cc0",
   "metadata": {
    "execution": {
     "iopub.execute_input": "2022-11-29T22:08:48.621375Z",
     "iopub.status.busy": "2022-11-29T22:08:48.621041Z",
     "iopub.status.idle": "2022-11-29T22:08:48.640630Z",
     "shell.execute_reply": "2022-11-29T22:08:48.639989Z"
    },
    "papermill": {
     "duration": 0.034329,
     "end_time": "2022-11-29T22:08:48.641496",
     "exception": false,
     "start_time": "2022-11-29T22:08:48.607167",
     "status": "completed"
    },
    "tags": []
   },
   "outputs": [
    {
     "data": {
      "text/plain": [
       "['A2M', 'AAAS', 'AANAT', 'AARS', 'AARS2']"
      ]
     },
     "execution_count": 41,
     "metadata": {},
     "output_type": "execute_result"
    }
   ],
   "source": [
    "sorted(list(common_genes))[:5]"
   ]
  },
  {
   "cell_type": "markdown",
   "id": "7f51338b-8a75-42c3-a7e5-a0961cefb663",
   "metadata": {
    "papermill": {
     "duration": 0.013099,
     "end_time": "2022-11-29T22:08:48.667469",
     "exception": false,
     "start_time": "2022-11-29T22:08:48.654370",
     "status": "completed"
    },
    "tags": []
   },
   "source": [
    "## Genes info"
   ]
  },
  {
   "cell_type": "code",
   "execution_count": 42,
   "id": "bb932812",
   "metadata": {
    "execution": {
     "iopub.execute_input": "2022-11-29T22:08:48.694674Z",
     "iopub.status.busy": "2022-11-29T22:08:48.694449Z",
     "iopub.status.idle": "2022-11-29T22:08:49.300794Z",
     "shell.execute_reply": "2022-11-29T22:08:49.300388Z"
    },
    "papermill": {
     "duration": 0.62151,
     "end_time": "2022-11-29T22:08:49.302232",
     "exception": false,
     "start_time": "2022-11-29T22:08:48.680722",
     "status": "completed"
    },
    "tags": []
   },
   "outputs": [],
   "source": [
    "multiplier_gene_obj = {\n",
    "    gene_name: Gene(name=gene_name)\n",
    "    for gene_name in common_genes\n",
    "    if gene_name in Gene.GENE_NAME_TO_ID_MAP\n",
    "}"
   ]
  },
  {
   "cell_type": "code",
   "execution_count": 43,
   "id": "cb9d7a45-2b7d-4d10-80dc-212a625b5ae7",
   "metadata": {
    "execution": {
     "iopub.execute_input": "2022-11-29T22:08:49.330553Z",
     "iopub.status.busy": "2022-11-29T22:08:49.330437Z",
     "iopub.status.idle": "2022-11-29T22:08:49.341029Z",
     "shell.execute_reply": "2022-11-29T22:08:49.340695Z"
    },
    "papermill": {
     "duration": 0.025007,
     "end_time": "2022-11-29T22:08:49.341864",
     "exception": false,
     "start_time": "2022-11-29T22:08:49.316857",
     "status": "completed"
    },
    "tags": []
   },
   "outputs": [],
   "source": [
    "# delete common_genes, from now on, genes_info should be used for common genes\n",
    "del common_genes"
   ]
  },
  {
   "cell_type": "code",
   "execution_count": 44,
   "id": "39533214",
   "metadata": {
    "execution": {
     "iopub.execute_input": "2022-11-29T22:08:49.368552Z",
     "iopub.status.busy": "2022-11-29T22:08:49.368431Z",
     "iopub.status.idle": "2022-11-29T22:08:49.378482Z",
     "shell.execute_reply": "2022-11-29T22:08:49.378152Z"
    },
    "papermill": {
     "duration": 0.024291,
     "end_time": "2022-11-29T22:08:49.379195",
     "exception": false,
     "start_time": "2022-11-29T22:08:49.354904",
     "status": "completed"
    },
    "tags": []
   },
   "outputs": [
    {
     "data": {
      "text/plain": [
       "6445"
      ]
     },
     "execution_count": 44,
     "metadata": {},
     "output_type": "execute_result"
    }
   ],
   "source": [
    "len(multiplier_gene_obj)"
   ]
  },
  {
   "cell_type": "code",
   "execution_count": 45,
   "id": "9a5d0b84",
   "metadata": {
    "execution": {
     "iopub.execute_input": "2022-11-29T22:08:49.406302Z",
     "iopub.status.busy": "2022-11-29T22:08:49.406190Z",
     "iopub.status.idle": "2022-11-29T22:08:49.418907Z",
     "shell.execute_reply": "2022-11-29T22:08:49.418408Z"
    },
    "papermill": {
     "duration": 0.027391,
     "end_time": "2022-11-29T22:08:49.419827",
     "exception": false,
     "start_time": "2022-11-29T22:08:49.392436",
     "status": "completed"
    },
    "tags": []
   },
   "outputs": [],
   "source": [
    "assert multiplier_gene_obj[\"GAS6\"].ensembl_id == \"ENSG00000183087\""
   ]
  },
  {
   "cell_type": "code",
   "execution_count": 46,
   "id": "e3ffabc7",
   "metadata": {
    "execution": {
     "iopub.execute_input": "2022-11-29T22:08:49.447534Z",
     "iopub.status.busy": "2022-11-29T22:08:49.447177Z",
     "iopub.status.idle": "2022-11-29T22:08:51.166574Z",
     "shell.execute_reply": "2022-11-29T22:08:51.166164Z"
    },
    "papermill": {
     "duration": 1.7349,
     "end_time": "2022-11-29T22:08:51.168330",
     "exception": false,
     "start_time": "2022-11-29T22:08:49.433430",
     "status": "completed"
    },
    "tags": []
   },
   "outputs": [],
   "source": [
    "_gene_obj = list(multiplier_gene_obj.values())\n",
    "\n",
    "genes_info = pd.DataFrame(\n",
    "    {\n",
    "        \"name\": [g.name for g in _gene_obj],\n",
    "        \"id\": [g.ensembl_id for g in _gene_obj],\n",
    "        \"chr\": [g.chromosome for g in _gene_obj],\n",
    "        \"band\": [g.band for g in _gene_obj],\n",
    "        \"start_position\": [g.get_attribute(\"start_position\") for g in _gene_obj],\n",
    "        \"end_position\": [g.get_attribute(\"end_position\") for g in _gene_obj],\n",
    "    }\n",
    ")"
   ]
  },
  {
   "cell_type": "code",
   "execution_count": 47,
   "id": "00475e72-1cfc-485f-8b4e-1d9cce695f58",
   "metadata": {
    "execution": {
     "iopub.execute_input": "2022-11-29T22:08:51.220665Z",
     "iopub.status.busy": "2022-11-29T22:08:51.220543Z",
     "iopub.status.idle": "2022-11-29T22:08:51.263385Z",
     "shell.execute_reply": "2022-11-29T22:08:51.263015Z"
    },
    "papermill": {
     "duration": 0.070471,
     "end_time": "2022-11-29T22:08:51.264805",
     "exception": false,
     "start_time": "2022-11-29T22:08:51.194334",
     "status": "completed"
    },
    "tags": []
   },
   "outputs": [],
   "source": [
    "genes_info = genes_info.assign(\n",
    "    gene_length=genes_info.apply(\n",
    "        lambda x: x[\"end_position\"] - x[\"start_position\"], axis=1\n",
    "    )\n",
    ")"
   ]
  },
  {
   "cell_type": "code",
   "execution_count": 48,
   "id": "3af1a166-08a0-4333-bc09-b8bc762aa7ef",
   "metadata": {
    "execution": {
     "iopub.execute_input": "2022-11-29T22:08:51.316470Z",
     "iopub.status.busy": "2022-11-29T22:08:51.316134Z",
     "iopub.status.idle": "2022-11-29T22:08:51.334397Z",
     "shell.execute_reply": "2022-11-29T22:08:51.333764Z"
    },
    "papermill": {
     "duration": 0.045728,
     "end_time": "2022-11-29T22:08:51.335782",
     "exception": false,
     "start_time": "2022-11-29T22:08:51.290054",
     "status": "completed"
    },
    "tags": []
   },
   "outputs": [
    {
     "data": {
      "text/plain": [
       "name               object\n",
       "id                 object\n",
       "chr                object\n",
       "band               object\n",
       "start_position    float64\n",
       "end_position      float64\n",
       "gene_length       float64\n",
       "dtype: object"
      ]
     },
     "execution_count": 48,
     "metadata": {},
     "output_type": "execute_result"
    }
   ],
   "source": [
    "genes_info.dtypes"
   ]
  },
  {
   "cell_type": "code",
   "execution_count": 49,
   "id": "08a23f6f-87f6-4072-88c8-010b90a411cd",
   "metadata": {
    "execution": {
     "iopub.execute_input": "2022-11-29T22:08:51.384621Z",
     "iopub.status.busy": "2022-11-29T22:08:51.384020Z",
     "iopub.status.idle": "2022-11-29T22:08:51.410982Z",
     "shell.execute_reply": "2022-11-29T22:08:51.410320Z"
    },
    "papermill": {
     "duration": 0.050316,
     "end_time": "2022-11-29T22:08:51.411874",
     "exception": false,
     "start_time": "2022-11-29T22:08:51.361558",
     "status": "completed"
    },
    "tags": []
   },
   "outputs": [
    {
     "data": {
      "text/html": [
       "<div>\n",
       "<style scoped>\n",
       "    .dataframe tbody tr th:only-of-type {\n",
       "        vertical-align: middle;\n",
       "    }\n",
       "\n",
       "    .dataframe tbody tr th {\n",
       "        vertical-align: top;\n",
       "    }\n",
       "\n",
       "    .dataframe thead th {\n",
       "        text-align: right;\n",
       "    }\n",
       "</style>\n",
       "<table border=\"1\" class=\"dataframe\">\n",
       "  <thead>\n",
       "    <tr style=\"text-align: right;\">\n",
       "      <th></th>\n",
       "      <th>name</th>\n",
       "      <th>id</th>\n",
       "      <th>chr</th>\n",
       "      <th>band</th>\n",
       "      <th>start_position</th>\n",
       "      <th>end_position</th>\n",
       "      <th>gene_length</th>\n",
       "    </tr>\n",
       "  </thead>\n",
       "  <tbody>\n",
       "    <tr>\n",
       "      <th>2793</th>\n",
       "      <td>TBCE</td>\n",
       "      <td>ENSG00000116957</td>\n",
       "      <td>None</td>\n",
       "      <td>None</td>\n",
       "      <td>NaN</td>\n",
       "      <td>NaN</td>\n",
       "      <td>NaN</td>\n",
       "    </tr>\n",
       "    <tr>\n",
       "      <th>5020</th>\n",
       "      <td>TMEM133</td>\n",
       "      <td>ENSG00000170647</td>\n",
       "      <td>None</td>\n",
       "      <td>None</td>\n",
       "      <td>NaN</td>\n",
       "      <td>NaN</td>\n",
       "      <td>NaN</td>\n",
       "    </tr>\n",
       "  </tbody>\n",
       "</table>\n",
       "</div>"
      ],
      "text/plain": [
       "         name               id   chr  band  start_position  end_position  \\\n",
       "2793     TBCE  ENSG00000116957  None  None             NaN           NaN   \n",
       "5020  TMEM133  ENSG00000170647  None  None             NaN           NaN   \n",
       "\n",
       "      gene_length  \n",
       "2793          NaN  \n",
       "5020          NaN  "
      ]
     },
     "metadata": {},
     "output_type": "display_data"
    }
   ],
   "source": [
    "_tmp = genes_info[genes_info.isna().any(axis=1)]\n",
    "display(_tmp)\n",
    "assert _tmp.shape[0] < 5"
   ]
  },
  {
   "cell_type": "code",
   "execution_count": 50,
   "id": "87c010f0-8ad9-4bf0-b12d-02f37a93853a",
   "metadata": {
    "execution": {
     "iopub.execute_input": "2022-11-29T22:08:51.440302Z",
     "iopub.status.busy": "2022-11-29T22:08:51.439748Z",
     "iopub.status.idle": "2022-11-29T22:08:51.461073Z",
     "shell.execute_reply": "2022-11-29T22:08:51.460402Z"
    },
    "papermill": {
     "duration": 0.036261,
     "end_time": "2022-11-29T22:08:51.461911",
     "exception": false,
     "start_time": "2022-11-29T22:08:51.425650",
     "status": "completed"
    },
    "tags": []
   },
   "outputs": [],
   "source": [
    "genes_info = genes_info.dropna()"
   ]
  },
  {
   "cell_type": "code",
   "execution_count": 51,
   "id": "61833f43-3a92-47e9-bca3-e05b6673c7d9",
   "metadata": {
    "execution": {
     "iopub.execute_input": "2022-11-29T22:08:51.489723Z",
     "iopub.status.busy": "2022-11-29T22:08:51.489323Z",
     "iopub.status.idle": "2022-11-29T22:08:51.887117Z",
     "shell.execute_reply": "2022-11-29T22:08:51.886731Z"
    },
    "papermill": {
     "duration": 0.413215,
     "end_time": "2022-11-29T22:08:51.888556",
     "exception": false,
     "start_time": "2022-11-29T22:08:51.475341",
     "status": "completed"
    },
    "tags": []
   },
   "outputs": [],
   "source": [
    "genes_info[\"chr\"] = genes_info[\"chr\"].apply(pd.to_numeric, downcast=\"integer\")\n",
    "genes_info[\"start_position\"] = genes_info[\"start_position\"].astype(int)\n",
    "genes_info[\"end_position\"] = genes_info[\"end_position\"].astype(int)\n",
    "genes_info[\"gene_length\"] = genes_info[\"gene_length\"].astype(int)"
   ]
  },
  {
   "cell_type": "code",
   "execution_count": 52,
   "id": "e4b9ae23-3edb-41a4-97aa-80cc7db6d393",
   "metadata": {
    "execution": {
     "iopub.execute_input": "2022-11-29T22:08:51.941016Z",
     "iopub.status.busy": "2022-11-29T22:08:51.940893Z",
     "iopub.status.idle": "2022-11-29T22:08:51.952040Z",
     "shell.execute_reply": "2022-11-29T22:08:51.951704Z"
    },
    "papermill": {
     "duration": 0.038477,
     "end_time": "2022-11-29T22:08:51.953290",
     "exception": false,
     "start_time": "2022-11-29T22:08:51.914813",
     "status": "completed"
    },
    "tags": []
   },
   "outputs": [
    {
     "data": {
      "text/plain": [
       "name              object\n",
       "id                object\n",
       "chr                 int8\n",
       "band              object\n",
       "start_position     int64\n",
       "end_position       int64\n",
       "gene_length        int64\n",
       "dtype: object"
      ]
     },
     "execution_count": 52,
     "metadata": {},
     "output_type": "execute_result"
    }
   ],
   "source": [
    "genes_info.dtypes"
   ]
  },
  {
   "cell_type": "code",
   "execution_count": 53,
   "id": "09d6320a-b1c4-4200-a23e-184bc4be69c7",
   "metadata": {
    "execution": {
     "iopub.execute_input": "2022-11-29T22:08:52.002374Z",
     "iopub.status.busy": "2022-11-29T22:08:52.002142Z",
     "iopub.status.idle": "2022-11-29T22:08:52.020014Z",
     "shell.execute_reply": "2022-11-29T22:08:52.019459Z"
    },
    "papermill": {
     "duration": 0.041254,
     "end_time": "2022-11-29T22:08:52.021002",
     "exception": false,
     "start_time": "2022-11-29T22:08:51.979748",
     "status": "completed"
    },
    "tags": []
   },
   "outputs": [],
   "source": [
    "assert genes_info[\"name\"].is_unique"
   ]
  },
  {
   "cell_type": "code",
   "execution_count": 54,
   "id": "009d11e4-f8cb-4a81-823d-c7f10b906d3b",
   "metadata": {
    "execution": {
     "iopub.execute_input": "2022-11-29T22:08:52.049872Z",
     "iopub.status.busy": "2022-11-29T22:08:52.049293Z",
     "iopub.status.idle": "2022-11-29T22:08:52.067635Z",
     "shell.execute_reply": "2022-11-29T22:08:52.067143Z"
    },
    "papermill": {
     "duration": 0.03356,
     "end_time": "2022-11-29T22:08:52.068503",
     "exception": false,
     "start_time": "2022-11-29T22:08:52.034943",
     "status": "completed"
    },
    "tags": []
   },
   "outputs": [],
   "source": [
    "assert genes_info[\"id\"].is_unique"
   ]
  },
  {
   "cell_type": "code",
   "execution_count": 55,
   "id": "e23519b8",
   "metadata": {
    "execution": {
     "iopub.execute_input": "2022-11-29T22:08:52.096748Z",
     "iopub.status.busy": "2022-11-29T22:08:52.096544Z",
     "iopub.status.idle": "2022-11-29T22:08:52.113670Z",
     "shell.execute_reply": "2022-11-29T22:08:52.113186Z"
    },
    "papermill": {
     "duration": 0.032224,
     "end_time": "2022-11-29T22:08:52.114535",
     "exception": false,
     "start_time": "2022-11-29T22:08:52.082311",
     "status": "completed"
    },
    "tags": []
   },
   "outputs": [
    {
     "data": {
      "text/plain": [
       "(6443, 7)"
      ]
     },
     "execution_count": 55,
     "metadata": {},
     "output_type": "execute_result"
    }
   ],
   "source": [
    "genes_info.shape"
   ]
  },
  {
   "cell_type": "code",
   "execution_count": 56,
   "id": "0d71881c",
   "metadata": {
    "execution": {
     "iopub.execute_input": "2022-11-29T22:08:52.142791Z",
     "iopub.status.busy": "2022-11-29T22:08:52.142591Z",
     "iopub.status.idle": "2022-11-29T22:08:52.163814Z",
     "shell.execute_reply": "2022-11-29T22:08:52.163329Z"
    },
    "papermill": {
     "duration": 0.036314,
     "end_time": "2022-11-29T22:08:52.164692",
     "exception": false,
     "start_time": "2022-11-29T22:08:52.128378",
     "status": "completed"
    },
    "tags": []
   },
   "outputs": [
    {
     "data": {
      "text/html": [
       "<div>\n",
       "<style scoped>\n",
       "    .dataframe tbody tr th:only-of-type {\n",
       "        vertical-align: middle;\n",
       "    }\n",
       "\n",
       "    .dataframe tbody tr th {\n",
       "        vertical-align: top;\n",
       "    }\n",
       "\n",
       "    .dataframe thead th {\n",
       "        text-align: right;\n",
       "    }\n",
       "</style>\n",
       "<table border=\"1\" class=\"dataframe\">\n",
       "  <thead>\n",
       "    <tr style=\"text-align: right;\">\n",
       "      <th></th>\n",
       "      <th>name</th>\n",
       "      <th>id</th>\n",
       "      <th>chr</th>\n",
       "      <th>band</th>\n",
       "      <th>start_position</th>\n",
       "      <th>end_position</th>\n",
       "      <th>gene_length</th>\n",
       "    </tr>\n",
       "  </thead>\n",
       "  <tbody>\n",
       "    <tr>\n",
       "      <th>0</th>\n",
       "      <td>UBE4B</td>\n",
       "      <td>ENSG00000130939</td>\n",
       "      <td>1</td>\n",
       "      <td>1p36.22</td>\n",
       "      <td>10032832</td>\n",
       "      <td>10181239</td>\n",
       "      <td>148407</td>\n",
       "    </tr>\n",
       "    <tr>\n",
       "      <th>1</th>\n",
       "      <td>STX18</td>\n",
       "      <td>ENSG00000168818</td>\n",
       "      <td>4</td>\n",
       "      <td>4p16.2</td>\n",
       "      <td>4415742</td>\n",
       "      <td>4542346</td>\n",
       "      <td>126604</td>\n",
       "    </tr>\n",
       "    <tr>\n",
       "      <th>2</th>\n",
       "      <td>DNM2</td>\n",
       "      <td>ENSG00000079805</td>\n",
       "      <td>19</td>\n",
       "      <td>19p13.2</td>\n",
       "      <td>10718079</td>\n",
       "      <td>10833488</td>\n",
       "      <td>115409</td>\n",
       "    </tr>\n",
       "    <tr>\n",
       "      <th>3</th>\n",
       "      <td>PLD1</td>\n",
       "      <td>ENSG00000075651</td>\n",
       "      <td>3</td>\n",
       "      <td>3q26.31</td>\n",
       "      <td>171600404</td>\n",
       "      <td>171810950</td>\n",
       "      <td>210546</td>\n",
       "    </tr>\n",
       "    <tr>\n",
       "      <th>4</th>\n",
       "      <td>ANKRD55</td>\n",
       "      <td>ENSG00000164512</td>\n",
       "      <td>5</td>\n",
       "      <td>5q11.2</td>\n",
       "      <td>56099680</td>\n",
       "      <td>56233330</td>\n",
       "      <td>133650</td>\n",
       "    </tr>\n",
       "  </tbody>\n",
       "</table>\n",
       "</div>"
      ],
      "text/plain": [
       "      name               id  chr     band  start_position  end_position  \\\n",
       "0    UBE4B  ENSG00000130939    1  1p36.22        10032832      10181239   \n",
       "1    STX18  ENSG00000168818    4   4p16.2         4415742       4542346   \n",
       "2     DNM2  ENSG00000079805   19  19p13.2        10718079      10833488   \n",
       "3     PLD1  ENSG00000075651    3  3q26.31       171600404     171810950   \n",
       "4  ANKRD55  ENSG00000164512    5   5q11.2        56099680      56233330   \n",
       "\n",
       "   gene_length  \n",
       "0       148407  \n",
       "1       126604  \n",
       "2       115409  \n",
       "3       210546  \n",
       "4       133650  "
      ]
     },
     "execution_count": 56,
     "metadata": {},
     "output_type": "execute_result"
    }
   ],
   "source": [
    "genes_info.head()"
   ]
  },
  {
   "cell_type": "code",
   "execution_count": 57,
   "id": "eb968287-d9cf-40f6-a93e-6b322b844404",
   "metadata": {
    "execution": {
     "iopub.execute_input": "2022-11-29T22:08:52.193504Z",
     "iopub.status.busy": "2022-11-29T22:08:52.193303Z",
     "iopub.status.idle": "2022-11-29T22:08:52.218685Z",
     "shell.execute_reply": "2022-11-29T22:08:52.218184Z"
    },
    "papermill": {
     "duration": 0.04065,
     "end_time": "2022-11-29T22:08:52.219504",
     "exception": false,
     "start_time": "2022-11-29T22:08:52.178854",
     "status": "completed"
    },
    "tags": []
   },
   "outputs": [
    {
     "data": {
      "text/html": [
       "<div>\n",
       "<style scoped>\n",
       "    .dataframe tbody tr th:only-of-type {\n",
       "        vertical-align: middle;\n",
       "    }\n",
       "\n",
       "    .dataframe tbody tr th {\n",
       "        vertical-align: top;\n",
       "    }\n",
       "\n",
       "    .dataframe thead th {\n",
       "        text-align: right;\n",
       "    }\n",
       "</style>\n",
       "<table border=\"1\" class=\"dataframe\">\n",
       "  <thead>\n",
       "    <tr style=\"text-align: right;\">\n",
       "      <th></th>\n",
       "      <th>name</th>\n",
       "      <th>id</th>\n",
       "      <th>chr</th>\n",
       "      <th>band</th>\n",
       "      <th>start_position</th>\n",
       "      <th>end_position</th>\n",
       "      <th>gene_length</th>\n",
       "    </tr>\n",
       "  </thead>\n",
       "  <tbody>\n",
       "    <tr>\n",
       "      <th>0</th>\n",
       "      <td>UBE4B</td>\n",
       "      <td>ENSG00000130939</td>\n",
       "      <td>1</td>\n",
       "      <td>1p36.22</td>\n",
       "      <td>10032832</td>\n",
       "      <td>10181239</td>\n",
       "      <td>148407</td>\n",
       "    </tr>\n",
       "    <tr>\n",
       "      <th>2458</th>\n",
       "      <td>PPP1R12B</td>\n",
       "      <td>ENSG00000077157</td>\n",
       "      <td>1</td>\n",
       "      <td>1q32.1</td>\n",
       "      <td>202348699</td>\n",
       "      <td>202592706</td>\n",
       "      <td>244007</td>\n",
       "    </tr>\n",
       "    <tr>\n",
       "      <th>2446</th>\n",
       "      <td>SMG5</td>\n",
       "      <td>ENSG00000198952</td>\n",
       "      <td>1</td>\n",
       "      <td>1q22</td>\n",
       "      <td>156249224</td>\n",
       "      <td>156282825</td>\n",
       "      <td>33601</td>\n",
       "    </tr>\n",
       "    <tr>\n",
       "      <th>2442</th>\n",
       "      <td>EFNA1</td>\n",
       "      <td>ENSG00000169242</td>\n",
       "      <td>1</td>\n",
       "      <td>1q22</td>\n",
       "      <td>155127876</td>\n",
       "      <td>155134899</td>\n",
       "      <td>7023</td>\n",
       "    </tr>\n",
       "    <tr>\n",
       "      <th>2432</th>\n",
       "      <td>PHC2</td>\n",
       "      <td>ENSG00000134686</td>\n",
       "      <td>1</td>\n",
       "      <td>1p35.1</td>\n",
       "      <td>33323623</td>\n",
       "      <td>33431052</td>\n",
       "      <td>107429</td>\n",
       "    </tr>\n",
       "    <tr>\n",
       "      <th>...</th>\n",
       "      <td>...</td>\n",
       "      <td>...</td>\n",
       "      <td>...</td>\n",
       "      <td>...</td>\n",
       "      <td>...</td>\n",
       "      <td>...</td>\n",
       "      <td>...</td>\n",
       "    </tr>\n",
       "    <tr>\n",
       "      <th>2489</th>\n",
       "      <td>UPB1</td>\n",
       "      <td>ENSG00000100024</td>\n",
       "      <td>22</td>\n",
       "      <td>22q11.23</td>\n",
       "      <td>24494107</td>\n",
       "      <td>24528390</td>\n",
       "      <td>34283</td>\n",
       "    </tr>\n",
       "    <tr>\n",
       "      <th>5207</th>\n",
       "      <td>SHANK3</td>\n",
       "      <td>ENSG00000251322</td>\n",
       "      <td>22</td>\n",
       "      <td>22q13.33</td>\n",
       "      <td>50674415</td>\n",
       "      <td>50733298</td>\n",
       "      <td>58883</td>\n",
       "    </tr>\n",
       "    <tr>\n",
       "      <th>3128</th>\n",
       "      <td>SEZ6L</td>\n",
       "      <td>ENSG00000100095</td>\n",
       "      <td>22</td>\n",
       "      <td>22q12.1</td>\n",
       "      <td>26169462</td>\n",
       "      <td>26383597</td>\n",
       "      <td>214135</td>\n",
       "    </tr>\n",
       "    <tr>\n",
       "      <th>2081</th>\n",
       "      <td>MYH9</td>\n",
       "      <td>ENSG00000100345</td>\n",
       "      <td>22</td>\n",
       "      <td>22q12.3</td>\n",
       "      <td>36281277</td>\n",
       "      <td>36388067</td>\n",
       "      <td>106790</td>\n",
       "    </tr>\n",
       "    <tr>\n",
       "      <th>3637</th>\n",
       "      <td>USP18</td>\n",
       "      <td>ENSG00000184979</td>\n",
       "      <td>22</td>\n",
       "      <td>22q11.21</td>\n",
       "      <td>18149899</td>\n",
       "      <td>18177397</td>\n",
       "      <td>27498</td>\n",
       "    </tr>\n",
       "  </tbody>\n",
       "</table>\n",
       "<p>6443 rows × 7 columns</p>\n",
       "</div>"
      ],
      "text/plain": [
       "          name               id  chr      band  start_position  end_position  \\\n",
       "0        UBE4B  ENSG00000130939    1   1p36.22        10032832      10181239   \n",
       "2458  PPP1R12B  ENSG00000077157    1    1q32.1       202348699     202592706   \n",
       "2446      SMG5  ENSG00000198952    1      1q22       156249224     156282825   \n",
       "2442     EFNA1  ENSG00000169242    1      1q22       155127876     155134899   \n",
       "2432      PHC2  ENSG00000134686    1    1p35.1        33323623      33431052   \n",
       "...        ...              ...  ...       ...             ...           ...   \n",
       "2489      UPB1  ENSG00000100024   22  22q11.23        24494107      24528390   \n",
       "5207    SHANK3  ENSG00000251322   22  22q13.33        50674415      50733298   \n",
       "3128     SEZ6L  ENSG00000100095   22   22q12.1        26169462      26383597   \n",
       "2081      MYH9  ENSG00000100345   22   22q12.3        36281277      36388067   \n",
       "3637     USP18  ENSG00000184979   22  22q11.21        18149899      18177397   \n",
       "\n",
       "      gene_length  \n",
       "0          148407  \n",
       "2458       244007  \n",
       "2446        33601  \n",
       "2442         7023  \n",
       "2432       107429  \n",
       "...           ...  \n",
       "2489        34283  \n",
       "5207        58883  \n",
       "3128       214135  \n",
       "2081       106790  \n",
       "3637        27498  \n",
       "\n",
       "[6443 rows x 7 columns]"
      ]
     },
     "execution_count": 57,
     "metadata": {},
     "output_type": "execute_result"
    }
   ],
   "source": [
    "genes_info.sort_values(\"chr\")"
   ]
  },
  {
   "cell_type": "markdown",
   "id": "7282b84d-f4f3-4e8c-9dd8-6319505ed4b5",
   "metadata": {
    "papermill": {
     "duration": 0.013998,
     "end_time": "2022-11-29T22:08:52.248037",
     "exception": false,
     "start_time": "2022-11-29T22:08:52.234039",
     "status": "completed"
    },
    "tags": []
   },
   "source": [
    "### Save"
   ]
  },
  {
   "cell_type": "code",
   "execution_count": 58,
   "id": "32cf6566-03bb-4a85-81e1-da46fc9f37ad",
   "metadata": {
    "execution": {
     "iopub.execute_input": "2022-11-29T22:08:52.276987Z",
     "iopub.status.busy": "2022-11-29T22:08:52.276448Z",
     "iopub.status.idle": "2022-11-29T22:08:52.296103Z",
     "shell.execute_reply": "2022-11-29T22:08:52.295534Z"
    },
    "papermill": {
     "duration": 0.035104,
     "end_time": "2022-11-29T22:08:52.297050",
     "exception": false,
     "start_time": "2022-11-29T22:08:52.261946",
     "status": "completed"
    },
    "tags": []
   },
   "outputs": [],
   "source": [
    "genes_info.to_pickle(OUTPUT_DIR_BASE / \"genes_info.pkl\")"
   ]
  },
  {
   "cell_type": "markdown",
   "id": "5b9f384a-5a91-4a8d-9007-cfe43f2d86f8",
   "metadata": {
    "papermill": {
     "duration": 0.014024,
     "end_time": "2022-11-29T22:08:52.325341",
     "exception": false,
     "start_time": "2022-11-29T22:08:52.311317",
     "status": "completed"
    },
    "tags": []
   },
   "source": [
    "## S-PrediXcan results"
   ]
  },
  {
   "cell_type": "markdown",
   "id": "fc0a2a4c-960c-4a0a-9b23-b66c3d5d6e07",
   "metadata": {
    "papermill": {
     "duration": 0.013807,
     "end_time": "2022-11-29T22:08:52.353275",
     "exception": false,
     "start_time": "2022-11-29T22:08:52.339468",
     "status": "completed"
    },
    "tags": []
   },
   "source": [
    "### Load results across all tissues"
   ]
  },
  {
   "cell_type": "code",
   "execution_count": 59,
   "id": "0b4867d7-a608-4b08-9d77-1782be3a0c94",
   "metadata": {
    "execution": {
     "iopub.execute_input": "2022-11-29T22:08:52.382401Z",
     "iopub.status.busy": "2022-11-29T22:08:52.382195Z",
     "iopub.status.idle": "2022-11-29T22:08:52.398683Z",
     "shell.execute_reply": "2022-11-29T22:08:52.398193Z"
    },
    "papermill": {
     "duration": 0.032255,
     "end_time": "2022-11-29T22:08:52.399636",
     "exception": false,
     "start_time": "2022-11-29T22:08:52.367381",
     "status": "completed"
    },
    "tags": []
   },
   "outputs": [],
   "source": [
    "spredixcan_result_files = {\n",
    "    t: SPREDIXCAN_FOLDER / SPREDIXCAN_FILE_PATTERN.format(tissue=t)\n",
    "    for t in prediction_model_tissues\n",
    "}"
   ]
  },
  {
   "cell_type": "code",
   "execution_count": 60,
   "id": "0ce270dd-46ac-4eaa-9d86-2b201d67d82f",
   "metadata": {
    "execution": {
     "iopub.execute_input": "2022-11-29T22:08:52.429008Z",
     "iopub.status.busy": "2022-11-29T22:08:52.428686Z",
     "iopub.status.idle": "2022-11-29T22:08:52.446309Z",
     "shell.execute_reply": "2022-11-29T22:08:52.445827Z"
    },
    "papermill": {
     "duration": 0.033224,
     "end_time": "2022-11-29T22:08:52.447125",
     "exception": false,
     "start_time": "2022-11-29T22:08:52.413901",
     "status": "completed"
    },
    "tags": []
   },
   "outputs": [
    {
     "data": {
      "text/plain": [
       "[PosixPath('/opt/data/projects/asthma-copd/results/twas/spredixcan/GWAS_Asthma_only_GLM_SNPs_info0.7-gtex_v8-mashr-Thyroid.csv'),\n",
       " PosixPath('/opt/data/projects/asthma-copd/results/twas/spredixcan/GWAS_Asthma_only_GLM_SNPs_info0.7-gtex_v8-mashr-Artery_Aorta.csv'),\n",
       " PosixPath('/opt/data/projects/asthma-copd/results/twas/spredixcan/GWAS_Asthma_only_GLM_SNPs_info0.7-gtex_v8-mashr-Heart_Atrial_Appendage.csv'),\n",
       " PosixPath('/opt/data/projects/asthma-copd/results/twas/spredixcan/GWAS_Asthma_only_GLM_SNPs_info0.7-gtex_v8-mashr-Liver.csv'),\n",
       " PosixPath('/opt/data/projects/asthma-copd/results/twas/spredixcan/GWAS_Asthma_only_GLM_SNPs_info0.7-gtex_v8-mashr-Heart_Left_Ventricle.csv')]"
      ]
     },
     "metadata": {},
     "output_type": "display_data"
    }
   ],
   "source": [
    "assert len(spredixcan_result_files) == len(prediction_model_tissues)\n",
    "display(list(spredixcan_result_files.values())[:5])"
   ]
  },
  {
   "cell_type": "code",
   "execution_count": 61,
   "id": "aa140259-303e-4912-b2bf-e7adce662f88",
   "metadata": {
    "execution": {
     "iopub.execute_input": "2022-11-29T22:08:52.476388Z",
     "iopub.status.busy": "2022-11-29T22:08:52.476095Z",
     "iopub.status.idle": "2022-11-29T22:08:52.525602Z",
     "shell.execute_reply": "2022-11-29T22:08:52.525033Z"
    },
    "papermill": {
     "duration": 0.065113,
     "end_time": "2022-11-29T22:08:52.526486",
     "exception": false,
     "start_time": "2022-11-29T22:08:52.461373",
     "status": "completed"
    },
    "tags": []
   },
   "outputs": [
    {
     "data": {
      "text/html": [
       "<div>\n",
       "<style scoped>\n",
       "    .dataframe tbody tr th:only-of-type {\n",
       "        vertical-align: middle;\n",
       "    }\n",
       "\n",
       "    .dataframe tbody tr th {\n",
       "        vertical-align: top;\n",
       "    }\n",
       "\n",
       "    .dataframe thead th {\n",
       "        text-align: right;\n",
       "    }\n",
       "</style>\n",
       "<table border=\"1\" class=\"dataframe\">\n",
       "  <thead>\n",
       "    <tr style=\"text-align: right;\">\n",
       "      <th></th>\n",
       "      <th>gene</th>\n",
       "      <th>gene_name</th>\n",
       "      <th>zscore</th>\n",
       "      <th>effect_size</th>\n",
       "      <th>pvalue</th>\n",
       "      <th>var_g</th>\n",
       "      <th>pred_perf_r2</th>\n",
       "      <th>pred_perf_pval</th>\n",
       "      <th>pred_perf_qval</th>\n",
       "      <th>n_snps_used</th>\n",
       "      <th>n_snps_in_cov</th>\n",
       "      <th>n_snps_in_model</th>\n",
       "      <th>best_gwas_p</th>\n",
       "      <th>largest_weight</th>\n",
       "    </tr>\n",
       "  </thead>\n",
       "  <tbody>\n",
       "    <tr>\n",
       "      <th>0</th>\n",
       "      <td>ENSG00000179344.16</td>\n",
       "      <td>HLA-DQB1</td>\n",
       "      <td>-12.301224</td>\n",
       "      <td>NaN</td>\n",
       "      <td>8.921179e-35</td>\n",
       "      <td>0.283759</td>\n",
       "      <td>NaN</td>\n",
       "      <td>NaN</td>\n",
       "      <td>NaN</td>\n",
       "      <td>3</td>\n",
       "      <td>3</td>\n",
       "      <td>3</td>\n",
       "      <td>4.004190e-34</td>\n",
       "      <td>0.772332</td>\n",
       "    </tr>\n",
       "    <tr>\n",
       "      <th>1</th>\n",
       "      <td>ENSG00000232629.8</td>\n",
       "      <td>HLA-DQB2</td>\n",
       "      <td>11.907670</td>\n",
       "      <td>NaN</td>\n",
       "      <td>1.079511e-32</td>\n",
       "      <td>1.363601</td>\n",
       "      <td>NaN</td>\n",
       "      <td>NaN</td>\n",
       "      <td>NaN</td>\n",
       "      <td>2</td>\n",
       "      <td>3</td>\n",
       "      <td>3</td>\n",
       "      <td>1.761500e-32</td>\n",
       "      <td>0.972033</td>\n",
       "    </tr>\n",
       "    <tr>\n",
       "      <th>2</th>\n",
       "      <td>ENSG00000237541.3</td>\n",
       "      <td>HLA-DQA2</td>\n",
       "      <td>10.481759</td>\n",
       "      <td>NaN</td>\n",
       "      <td>1.047767e-25</td>\n",
       "      <td>0.118803</td>\n",
       "      <td>NaN</td>\n",
       "      <td>NaN</td>\n",
       "      <td>NaN</td>\n",
       "      <td>2</td>\n",
       "      <td>4</td>\n",
       "      <td>4</td>\n",
       "      <td>4.049999e-21</td>\n",
       "      <td>0.486574</td>\n",
       "    </tr>\n",
       "    <tr>\n",
       "      <th>3</th>\n",
       "      <td>ENSG00000161405.16</td>\n",
       "      <td>IKZF3</td>\n",
       "      <td>-9.524108</td>\n",
       "      <td>NaN</td>\n",
       "      <td>1.664654e-21</td>\n",
       "      <td>0.002611</td>\n",
       "      <td>NaN</td>\n",
       "      <td>NaN</td>\n",
       "      <td>NaN</td>\n",
       "      <td>1</td>\n",
       "      <td>1</td>\n",
       "      <td>1</td>\n",
       "      <td>1.664654e-21</td>\n",
       "      <td>0.073940</td>\n",
       "    </tr>\n",
       "    <tr>\n",
       "      <th>4</th>\n",
       "      <td>ENSG00000073605.18</td>\n",
       "      <td>GSDMB</td>\n",
       "      <td>8.267584</td>\n",
       "      <td>NaN</td>\n",
       "      <td>1.367011e-16</td>\n",
       "      <td>0.098072</td>\n",
       "      <td>NaN</td>\n",
       "      <td>NaN</td>\n",
       "      <td>NaN</td>\n",
       "      <td>3</td>\n",
       "      <td>3</td>\n",
       "      <td>3</td>\n",
       "      <td>5.762121e-21</td>\n",
       "      <td>0.338834</td>\n",
       "    </tr>\n",
       "  </tbody>\n",
       "</table>\n",
       "</div>"
      ],
      "text/plain": [
       "                 gene gene_name     zscore  effect_size        pvalue  \\\n",
       "0  ENSG00000179344.16  HLA-DQB1 -12.301224          NaN  8.921179e-35   \n",
       "1   ENSG00000232629.8  HLA-DQB2  11.907670          NaN  1.079511e-32   \n",
       "2   ENSG00000237541.3  HLA-DQA2  10.481759          NaN  1.047767e-25   \n",
       "3  ENSG00000161405.16     IKZF3  -9.524108          NaN  1.664654e-21   \n",
       "4  ENSG00000073605.18     GSDMB   8.267584          NaN  1.367011e-16   \n",
       "\n",
       "      var_g  pred_perf_r2  pred_perf_pval  pred_perf_qval  n_snps_used  \\\n",
       "0  0.283759           NaN             NaN             NaN            3   \n",
       "1  1.363601           NaN             NaN             NaN            2   \n",
       "2  0.118803           NaN             NaN             NaN            2   \n",
       "3  0.002611           NaN             NaN             NaN            1   \n",
       "4  0.098072           NaN             NaN             NaN            3   \n",
       "\n",
       "   n_snps_in_cov  n_snps_in_model   best_gwas_p  largest_weight  \n",
       "0              3                3  4.004190e-34        0.772332  \n",
       "1              3                3  1.761500e-32        0.972033  \n",
       "2              4                4  4.049999e-21        0.486574  \n",
       "3              1                1  1.664654e-21        0.073940  \n",
       "4              3                3  5.762121e-21        0.338834  "
      ]
     },
     "execution_count": 61,
     "metadata": {},
     "output_type": "execute_result"
    }
   ],
   "source": [
    "# look at the structure of one result\n",
    "pd.read_csv(spredixcan_result_files[\"Whole_Blood\"]).head()"
   ]
  },
  {
   "cell_type": "code",
   "execution_count": 62,
   "id": "4381b9ff-6ab5-47f1-89d1-560f88fdf07f",
   "metadata": {
    "execution": {
     "iopub.execute_input": "2022-11-29T22:08:52.556442Z",
     "iopub.status.busy": "2022-11-29T22:08:52.556098Z",
     "iopub.status.idle": "2022-11-29T22:08:52.572987Z",
     "shell.execute_reply": "2022-11-29T22:08:52.572364Z"
    },
    "papermill": {
     "duration": 0.032776,
     "end_time": "2022-11-29T22:08:52.573973",
     "exception": false,
     "start_time": "2022-11-29T22:08:52.541197",
     "status": "completed"
    },
    "tags": []
   },
   "outputs": [],
   "source": [
    "assert all(f.exists() for f in spredixcan_result_files.values())"
   ]
  },
  {
   "cell_type": "code",
   "execution_count": 63,
   "id": "d477157f-51e9-4c7c-b826-7ab5f4fdf3e3",
   "metadata": {
    "execution": {
     "iopub.execute_input": "2022-11-29T22:08:52.603774Z",
     "iopub.status.busy": "2022-11-29T22:08:52.603563Z",
     "iopub.status.idle": "2022-11-29T22:08:53.264318Z",
     "shell.execute_reply": "2022-11-29T22:08:53.263880Z"
    },
    "papermill": {
     "duration": 0.677435,
     "end_time": "2022-11-29T22:08:53.265989",
     "exception": false,
     "start_time": "2022-11-29T22:08:52.588554",
     "status": "completed"
    },
    "tags": []
   },
   "outputs": [],
   "source": [
    "spredixcan_dfs = [\n",
    "    pd.read_csv(\n",
    "        f,\n",
    "        usecols=[\n",
    "            \"gene\",\n",
    "            \"zscore\",\n",
    "            \"pvalue\",\n",
    "            \"n_snps_used\",\n",
    "            \"n_snps_in_model\",\n",
    "        ],\n",
    "    )\n",
    "    .dropna(subset=[\"gene\", \"zscore\", \"pvalue\"])\n",
    "    .assign(tissue=t)\n",
    "    for t, f in spredixcan_result_files.items()\n",
    "]"
   ]
  },
  {
   "cell_type": "code",
   "execution_count": 64,
   "id": "9730bd37-b769-411f-bb6b-bb658d1ff88c",
   "metadata": {
    "execution": {
     "iopub.execute_input": "2022-11-29T22:08:53.322582Z",
     "iopub.status.busy": "2022-11-29T22:08:53.322464Z",
     "iopub.status.idle": "2022-11-29T22:08:53.337768Z",
     "shell.execute_reply": "2022-11-29T22:08:53.336844Z"
    },
    "papermill": {
     "duration": 0.050168,
     "end_time": "2022-11-29T22:08:53.344264",
     "exception": false,
     "start_time": "2022-11-29T22:08:53.294096",
     "status": "completed"
    },
    "tags": []
   },
   "outputs": [],
   "source": [
    "assert len(spredixcan_dfs) == len(prediction_model_tissues)"
   ]
  },
  {
   "cell_type": "code",
   "execution_count": 65,
   "id": "bcd73f53-1283-4ff6-bbb5-25fb71f5cb72",
   "metadata": {
    "execution": {
     "iopub.execute_input": "2022-11-29T22:08:53.375738Z",
     "iopub.status.busy": "2022-11-29T22:08:53.375376Z",
     "iopub.status.idle": "2022-11-29T22:08:53.411593Z",
     "shell.execute_reply": "2022-11-29T22:08:53.411011Z"
    },
    "papermill": {
     "duration": 0.053162,
     "end_time": "2022-11-29T22:08:53.413371",
     "exception": false,
     "start_time": "2022-11-29T22:08:53.360209",
     "status": "completed"
    },
    "tags": []
   },
   "outputs": [],
   "source": [
    "spredixcan_dfs = pd.concat(spredixcan_dfs)"
   ]
  },
  {
   "cell_type": "code",
   "execution_count": 66,
   "id": "ae99c7b5-14fc-4b39-a6b2-40fc703acd0a",
   "metadata": {
    "execution": {
     "iopub.execute_input": "2022-11-29T22:08:53.466073Z",
     "iopub.status.busy": "2022-11-29T22:08:53.465740Z",
     "iopub.status.idle": "2022-11-29T22:08:53.520749Z",
     "shell.execute_reply": "2022-11-29T22:08:53.520175Z"
    },
    "papermill": {
     "duration": 0.080491,
     "end_time": "2022-11-29T22:08:53.522038",
     "exception": false,
     "start_time": "2022-11-29T22:08:53.441547",
     "status": "completed"
    },
    "tags": []
   },
   "outputs": [],
   "source": [
    "assert spredixcan_dfs[\"tissue\"].unique().shape[0] == len(prediction_model_tissues)"
   ]
  },
  {
   "cell_type": "code",
   "execution_count": 67,
   "id": "b7223a23-e40f-4cd3-8988-72033f8739bd",
   "metadata": {
    "execution": {
     "iopub.execute_input": "2022-11-29T22:08:53.552799Z",
     "iopub.status.busy": "2022-11-29T22:08:53.552472Z",
     "iopub.status.idle": "2022-11-29T22:08:53.569918Z",
     "shell.execute_reply": "2022-11-29T22:08:53.569433Z"
    },
    "papermill": {
     "duration": 0.033643,
     "end_time": "2022-11-29T22:08:53.570733",
     "exception": false,
     "start_time": "2022-11-29T22:08:53.537090",
     "status": "completed"
    },
    "tags": []
   },
   "outputs": [
    {
     "data": {
      "text/plain": [
       "(658530, 6)"
      ]
     },
     "execution_count": 67,
     "metadata": {},
     "output_type": "execute_result"
    }
   ],
   "source": [
    "spredixcan_dfs.shape"
   ]
  },
  {
   "cell_type": "code",
   "execution_count": 68,
   "id": "4987073a-3b70-4162-93fb-beeb351ebfe0",
   "metadata": {
    "execution": {
     "iopub.execute_input": "2022-11-29T22:08:53.601158Z",
     "iopub.status.busy": "2022-11-29T22:08:53.600952Z",
     "iopub.status.idle": "2022-11-29T22:08:53.799158Z",
     "shell.execute_reply": "2022-11-29T22:08:53.798722Z"
    },
    "papermill": {
     "duration": 0.214613,
     "end_time": "2022-11-29T22:08:53.800215",
     "exception": false,
     "start_time": "2022-11-29T22:08:53.585602",
     "status": "completed"
    },
    "tags": []
   },
   "outputs": [],
   "source": [
    "spredixcan_dfs = spredixcan_dfs.assign(\n",
    "    gene_id=spredixcan_dfs[\"gene\"].apply(lambda g: g.split(\".\")[0])\n",
    ")"
   ]
  },
  {
   "cell_type": "code",
   "execution_count": 69,
   "id": "6b47d026-01c0-4f7c-a90e-f0baa13235f4",
   "metadata": {
    "execution": {
     "iopub.execute_input": "2022-11-29T22:08:53.835040Z",
     "iopub.status.busy": "2022-11-29T22:08:53.834879Z",
     "iopub.status.idle": "2022-11-29T22:08:53.848873Z",
     "shell.execute_reply": "2022-11-29T22:08:53.848487Z"
    },
    "papermill": {
     "duration": 0.033247,
     "end_time": "2022-11-29T22:08:53.849780",
     "exception": false,
     "start_time": "2022-11-29T22:08:53.816533",
     "status": "completed"
    },
    "tags": []
   },
   "outputs": [
    {
     "data": {
      "text/html": [
       "<div>\n",
       "<style scoped>\n",
       "    .dataframe tbody tr th:only-of-type {\n",
       "        vertical-align: middle;\n",
       "    }\n",
       "\n",
       "    .dataframe tbody tr th {\n",
       "        vertical-align: top;\n",
       "    }\n",
       "\n",
       "    .dataframe thead th {\n",
       "        text-align: right;\n",
       "    }\n",
       "</style>\n",
       "<table border=\"1\" class=\"dataframe\">\n",
       "  <thead>\n",
       "    <tr style=\"text-align: right;\">\n",
       "      <th></th>\n",
       "      <th>gene</th>\n",
       "      <th>zscore</th>\n",
       "      <th>pvalue</th>\n",
       "      <th>n_snps_used</th>\n",
       "      <th>n_snps_in_model</th>\n",
       "      <th>tissue</th>\n",
       "      <th>gene_id</th>\n",
       "    </tr>\n",
       "  </thead>\n",
       "  <tbody>\n",
       "    <tr>\n",
       "      <th>0</th>\n",
       "      <td>ENSG00000232629.8</td>\n",
       "      <td>12.131690</td>\n",
       "      <td>7.175314e-34</td>\n",
       "      <td>1</td>\n",
       "      <td>2</td>\n",
       "      <td>Thyroid</td>\n",
       "      <td>ENSG00000232629</td>\n",
       "    </tr>\n",
       "    <tr>\n",
       "      <th>1</th>\n",
       "      <td>ENSG00000196735.11</td>\n",
       "      <td>-11.318702</td>\n",
       "      <td>1.060298e-29</td>\n",
       "      <td>3</td>\n",
       "      <td>3</td>\n",
       "      <td>Thyroid</td>\n",
       "      <td>ENSG00000196735</td>\n",
       "    </tr>\n",
       "    <tr>\n",
       "      <th>2</th>\n",
       "      <td>ENSG00000179344.16</td>\n",
       "      <td>-10.453348</td>\n",
       "      <td>1.414416e-25</td>\n",
       "      <td>4</td>\n",
       "      <td>4</td>\n",
       "      <td>Thyroid</td>\n",
       "      <td>ENSG00000179344</td>\n",
       "    </tr>\n",
       "    <tr>\n",
       "      <th>3</th>\n",
       "      <td>ENSG00000237541.3</td>\n",
       "      <td>9.431310</td>\n",
       "      <td>4.049999e-21</td>\n",
       "      <td>1</td>\n",
       "      <td>3</td>\n",
       "      <td>Thyroid</td>\n",
       "      <td>ENSG00000237541</td>\n",
       "    </tr>\n",
       "    <tr>\n",
       "      <th>4</th>\n",
       "      <td>ENSG00000166949.15</td>\n",
       "      <td>-8.748763</td>\n",
       "      <td>2.157045e-18</td>\n",
       "      <td>3</td>\n",
       "      <td>3</td>\n",
       "      <td>Thyroid</td>\n",
       "      <td>ENSG00000166949</td>\n",
       "    </tr>\n",
       "  </tbody>\n",
       "</table>\n",
       "</div>"
      ],
      "text/plain": [
       "                 gene     zscore        pvalue  n_snps_used  n_snps_in_model  \\\n",
       "0   ENSG00000232629.8  12.131690  7.175314e-34            1                2   \n",
       "1  ENSG00000196735.11 -11.318702  1.060298e-29            3                3   \n",
       "2  ENSG00000179344.16 -10.453348  1.414416e-25            4                4   \n",
       "3   ENSG00000237541.3   9.431310  4.049999e-21            1                3   \n",
       "4  ENSG00000166949.15  -8.748763  2.157045e-18            3                3   \n",
       "\n",
       "    tissue          gene_id  \n",
       "0  Thyroid  ENSG00000232629  \n",
       "1  Thyroid  ENSG00000196735  \n",
       "2  Thyroid  ENSG00000179344  \n",
       "3  Thyroid  ENSG00000237541  \n",
       "4  Thyroid  ENSG00000166949  "
      ]
     },
     "execution_count": 69,
     "metadata": {},
     "output_type": "execute_result"
    }
   ],
   "source": [
    "spredixcan_dfs.head()"
   ]
  },
  {
   "cell_type": "code",
   "execution_count": 70,
   "id": "d5dbdb2e-b7eb-4665-9fd4-9ce714d6af0c",
   "metadata": {
    "execution": {
     "iopub.execute_input": "2022-11-29T22:08:53.883906Z",
     "iopub.status.busy": "2022-11-29T22:08:53.883795Z",
     "iopub.status.idle": "2022-11-29T22:08:53.969242Z",
     "shell.execute_reply": "2022-11-29T22:08:53.968805Z"
    },
    "papermill": {
     "duration": 0.10294,
     "end_time": "2022-11-29T22:08:53.970845",
     "exception": false,
     "start_time": "2022-11-29T22:08:53.867905",
     "status": "completed"
    },
    "tags": []
   },
   "outputs": [],
   "source": [
    "# leave only common genes\n",
    "spredixcan_dfs = spredixcan_dfs[spredixcan_dfs[\"gene_id\"].isin(set(genes_info[\"id\"]))]"
   ]
  },
  {
   "cell_type": "code",
   "execution_count": 71,
   "id": "8d34f99a-6b43-47aa-bb07-dfc67e169538",
   "metadata": {
    "execution": {
     "iopub.execute_input": "2022-11-29T22:08:54.028519Z",
     "iopub.status.busy": "2022-11-29T22:08:54.028407Z",
     "iopub.status.idle": "2022-11-29T22:08:54.039797Z",
     "shell.execute_reply": "2022-11-29T22:08:54.039446Z"
    },
    "papermill": {
     "duration": 0.041536,
     "end_time": "2022-11-29T22:08:54.041068",
     "exception": false,
     "start_time": "2022-11-29T22:08:53.999532",
     "status": "completed"
    },
    "tags": []
   },
   "outputs": [
    {
     "data": {
      "text/plain": [
       "(235569, 7)"
      ]
     },
     "execution_count": 71,
     "metadata": {},
     "output_type": "execute_result"
    }
   ],
   "source": [
    "spredixcan_dfs.shape"
   ]
  },
  {
   "cell_type": "markdown",
   "id": "5ecfd141-ecb8-47cf-905e-25cc1b4d3f9d",
   "metadata": {
    "papermill": {
     "duration": 0.017933,
     "end_time": "2022-11-29T22:08:54.087648",
     "exception": false,
     "start_time": "2022-11-29T22:08:54.069715",
     "status": "completed"
    },
    "tags": []
   },
   "source": [
    "### Count number of tissues available per gene"
   ]
  },
  {
   "cell_type": "code",
   "execution_count": 72,
   "id": "86fe37e1-a303-4221-a12e-3a54a04dd510",
   "metadata": {
    "execution": {
     "iopub.execute_input": "2022-11-29T22:08:54.119664Z",
     "iopub.status.busy": "2022-11-29T22:08:54.119556Z",
     "iopub.status.idle": "2022-11-29T22:08:54.196277Z",
     "shell.execute_reply": "2022-11-29T22:08:54.195846Z"
    },
    "papermill": {
     "duration": 0.094499,
     "end_time": "2022-11-29T22:08:54.197283",
     "exception": false,
     "start_time": "2022-11-29T22:08:54.102784",
     "status": "completed"
    },
    "tags": []
   },
   "outputs": [],
   "source": [
    "spredixcan_genes_n_models = spredixcan_dfs.groupby(\"gene_id\")[\"tissue\"].nunique()"
   ]
  },
  {
   "cell_type": "code",
   "execution_count": 73,
   "id": "31416d48-1e4d-463f-9a5c-34d29803c3f8",
   "metadata": {
    "execution": {
     "iopub.execute_input": "2022-11-29T22:08:54.227870Z",
     "iopub.status.busy": "2022-11-29T22:08:54.227755Z",
     "iopub.status.idle": "2022-11-29T22:08:54.239758Z",
     "shell.execute_reply": "2022-11-29T22:08:54.239390Z"
    },
    "papermill": {
     "duration": 0.028048,
     "end_time": "2022-11-29T22:08:54.240538",
     "exception": false,
     "start_time": "2022-11-29T22:08:54.212490",
     "status": "completed"
    },
    "tags": []
   },
   "outputs": [
    {
     "data": {
      "text/plain": [
       "gene_id\n",
       "ENSG00000000419     2\n",
       "ENSG00000000938    36\n",
       "ENSG00000000971    34\n",
       "ENSG00000001084    32\n",
       "ENSG00000001167    40\n",
       "                   ..\n",
       "ENSG00000278540    36\n",
       "ENSG00000278828     4\n",
       "ENSG00000278845    49\n",
       "ENSG00000281005    49\n",
       "ENSG00000282608    36\n",
       "Name: tissue, Length: 6443, dtype: int64"
      ]
     },
     "execution_count": 73,
     "metadata": {},
     "output_type": "execute_result"
    }
   ],
   "source": [
    "spredixcan_genes_n_models"
   ]
  },
  {
   "cell_type": "code",
   "execution_count": 74,
   "id": "d737ad4f-f821-4546-9a3e-6703fe264b49",
   "metadata": {
    "execution": {
     "iopub.execute_input": "2022-11-29T22:08:54.281151Z",
     "iopub.status.busy": "2022-11-29T22:08:54.281040Z",
     "iopub.status.idle": "2022-11-29T22:08:54.310447Z",
     "shell.execute_reply": "2022-11-29T22:08:54.309893Z"
    },
    "papermill": {
     "duration": 0.056277,
     "end_time": "2022-11-29T22:08:54.311933",
     "exception": false,
     "start_time": "2022-11-29T22:08:54.255656",
     "status": "completed"
    },
    "tags": []
   },
   "outputs": [],
   "source": [
    "# testing that in S-MultiXcan I get the same number of tissues per gene\n",
    "_tmp_smultixcan_results_n_models = (\n",
    "    smultixcan_results.set_index(\"gene_id\")[\"n\"].astype(int).rename(\"tissue\")\n",
    ")\n",
    "\n",
    "_cg = _tmp_smultixcan_results_n_models.index.intersection(\n",
    "    spredixcan_genes_n_models.index\n",
    ")\n",
    "_tmp_smultixcan_results_n_models = _tmp_smultixcan_results_n_models.loc[_cg]\n",
    "_spredixcan = spredixcan_genes_n_models.loc[_cg]\n",
    "\n",
    "assert _spredixcan.shape[0] == _tmp_smultixcan_results_n_models.shape[0]\n",
    "assert _spredixcan.equals(_tmp_smultixcan_results_n_models.loc[_spredixcan.index])"
   ]
  },
  {
   "cell_type": "markdown",
   "id": "904d7d30-9c2d-4c3e-b674-3f081954fe8b",
   "metadata": {
    "papermill": {
     "duration": 0.015033,
     "end_time": "2022-11-29T22:08:54.346821",
     "exception": false,
     "start_time": "2022-11-29T22:08:54.331788",
     "status": "completed"
    },
    "tags": []
   },
   "source": [
    "### Get tissues available per gene"
   ]
  },
  {
   "cell_type": "code",
   "execution_count": 75,
   "id": "cf014e81-4b4e-4c46-9265-67718b3ab08e",
   "metadata": {
    "execution": {
     "iopub.execute_input": "2022-11-29T22:08:54.405730Z",
     "iopub.status.busy": "2022-11-29T22:08:54.405516Z",
     "iopub.status.idle": "2022-11-29T22:08:54.542647Z",
     "shell.execute_reply": "2022-11-29T22:08:54.542217Z"
    },
    "papermill": {
     "duration": 0.154544,
     "end_time": "2022-11-29T22:08:54.544183",
     "exception": false,
     "start_time": "2022-11-29T22:08:54.389639",
     "status": "completed"
    },
    "tags": []
   },
   "outputs": [],
   "source": [
    "spredixcan_genes_models = spredixcan_dfs.groupby(\"gene_id\")[\"tissue\"].apply(\n",
    "    lambda x: frozenset(x.tolist())\n",
    ")"
   ]
  },
  {
   "cell_type": "code",
   "execution_count": 76,
   "id": "5df09d7f-39c9-408f-9fef-5189e8ca1c87",
   "metadata": {
    "execution": {
     "iopub.execute_input": "2022-11-29T22:08:54.586279Z",
     "iopub.status.busy": "2022-11-29T22:08:54.586149Z",
     "iopub.status.idle": "2022-11-29T22:08:54.599280Z",
     "shell.execute_reply": "2022-11-29T22:08:54.598919Z"
    },
    "papermill": {
     "duration": 0.029521,
     "end_time": "2022-11-29T22:08:54.600009",
     "exception": false,
     "start_time": "2022-11-29T22:08:54.570488",
     "status": "completed"
    },
    "tags": []
   },
   "outputs": [
    {
     "data": {
      "text/plain": [
       "gene_id\n",
       "ENSG00000000419         (Brain_Hypothalamus, Brain_Substantia_nigra)\n",
       "ENSG00000000938    (Colon_Sigmoid, Colon_Transverse, Skin_Sun_Exp...\n",
       "ENSG00000000971    (Colon_Sigmoid, Colon_Transverse, Brain_Substa...\n",
       "ENSG00000001084    (Colon_Transverse, Brain_Substantia_nigra, Ski...\n",
       "ENSG00000001167    (Colon_Sigmoid, Colon_Transverse, Skin_Sun_Exp...\n",
       "                                         ...                        \n",
       "ENSG00000278540    (Colon_Sigmoid, Colon_Transverse, Brain_Substa...\n",
       "ENSG00000278828    (Cells_EBV-transformed_lymphocytes, Esophagus_...\n",
       "ENSG00000278845    (Colon_Sigmoid, Colon_Transverse, Brain_Substa...\n",
       "ENSG00000281005    (Colon_Sigmoid, Colon_Transverse, Brain_Substa...\n",
       "ENSG00000282608    (Colon_Transverse, Brain_Substantia_nigra, Bra...\n",
       "Name: tissue, Length: 6443, dtype: object"
      ]
     },
     "execution_count": 76,
     "metadata": {},
     "output_type": "execute_result"
    }
   ],
   "source": [
    "spredixcan_genes_models"
   ]
  },
  {
   "cell_type": "code",
   "execution_count": 77,
   "id": "97c46886-5a48-4813-b890-1dcdb09ec09d",
   "metadata": {
    "execution": {
     "iopub.execute_input": "2022-11-29T22:08:54.631445Z",
     "iopub.status.busy": "2022-11-29T22:08:54.631336Z",
     "iopub.status.idle": "2022-11-29T22:08:54.644079Z",
     "shell.execute_reply": "2022-11-29T22:08:54.643621Z"
    },
    "papermill": {
     "duration": 0.02952,
     "end_time": "2022-11-29T22:08:54.645111",
     "exception": false,
     "start_time": "2022-11-29T22:08:54.615591",
     "status": "completed"
    },
    "tags": []
   },
   "outputs": [],
   "source": [
    "assert spredixcan_genes_n_models.shape[0] == spredixcan_genes_models.shape[0]"
   ]
  },
  {
   "cell_type": "code",
   "execution_count": 78,
   "id": "abc13913-a681-4297-a0e6-dde62f43c36f",
   "metadata": {
    "execution": {
     "iopub.execute_input": "2022-11-29T22:08:54.676470Z",
     "iopub.status.busy": "2022-11-29T22:08:54.676153Z",
     "iopub.status.idle": "2022-11-29T22:08:54.692755Z",
     "shell.execute_reply": "2022-11-29T22:08:54.692260Z"
    },
    "papermill": {
     "duration": 0.033176,
     "end_time": "2022-11-29T22:08:54.693701",
     "exception": false,
     "start_time": "2022-11-29T22:08:54.660525",
     "status": "completed"
    },
    "tags": []
   },
   "outputs": [],
   "source": [
    "assert spredixcan_genes_n_models.index.equals(spredixcan_genes_models.index)"
   ]
  },
  {
   "cell_type": "code",
   "execution_count": 79,
   "id": "995a02e7-b836-471b-b438-17c8c46e4fde",
   "metadata": {
    "execution": {
     "iopub.execute_input": "2022-11-29T22:08:54.725592Z",
     "iopub.status.busy": "2022-11-29T22:08:54.725049Z",
     "iopub.status.idle": "2022-11-29T22:08:54.743364Z",
     "shell.execute_reply": "2022-11-29T22:08:54.742872Z"
    },
    "papermill": {
     "duration": 0.035191,
     "end_time": "2022-11-29T22:08:54.744381",
     "exception": false,
     "start_time": "2022-11-29T22:08:54.709190",
     "status": "completed"
    },
    "tags": []
   },
   "outputs": [],
   "source": [
    "assert (spredixcan_genes_models.apply(len) <= len(prediction_model_tissues)).all()"
   ]
  },
  {
   "cell_type": "code",
   "execution_count": 80,
   "id": "0c1d0c68-1a06-480c-b6d6-d3c4fdf0f5aa",
   "metadata": {
    "execution": {
     "iopub.execute_input": "2022-11-29T22:08:54.776250Z",
     "iopub.status.busy": "2022-11-29T22:08:54.775745Z",
     "iopub.status.idle": "2022-11-29T22:08:54.798158Z",
     "shell.execute_reply": "2022-11-29T22:08:54.797661Z"
    },
    "papermill": {
     "duration": 0.039065,
     "end_time": "2022-11-29T22:08:54.798997",
     "exception": false,
     "start_time": "2022-11-29T22:08:54.759932",
     "status": "completed"
    },
    "tags": []
   },
   "outputs": [
    {
     "data": {
      "text/plain": [
       "count    6443.000000\n",
       "mean       36.562005\n",
       "std        12.886857\n",
       "min         1.000000\n",
       "25%        29.000000\n",
       "50%        42.000000\n",
       "75%        47.000000\n",
       "max        49.000000\n",
       "Name: tissue, dtype: float64"
      ]
     },
     "execution_count": 80,
     "metadata": {},
     "output_type": "execute_result"
    }
   ],
   "source": [
    "spredixcan_genes_models.apply(len).describe()"
   ]
  },
  {
   "cell_type": "code",
   "execution_count": 81,
   "id": "991b9441-6bb5-4b72-9285-5fd579875e40",
   "metadata": {
    "execution": {
     "iopub.execute_input": "2022-11-29T22:08:54.831202Z",
     "iopub.status.busy": "2022-11-29T22:08:54.830662Z",
     "iopub.status.idle": "2022-11-29T22:08:54.851078Z",
     "shell.execute_reply": "2022-11-29T22:08:54.850537Z"
    },
    "papermill": {
     "duration": 0.037329,
     "end_time": "2022-11-29T22:08:54.852100",
     "exception": false,
     "start_time": "2022-11-29T22:08:54.814771",
     "status": "completed"
    },
    "tags": []
   },
   "outputs": [],
   "source": [
    "# testing that I obtained the right number of tissues\n",
    "assert (\n",
    "    spredixcan_genes_models.loc[spredixcan_genes_n_models.index]\n",
    "    .apply(len)\n",
    "    .equals(spredixcan_genes_n_models)\n",
    ")"
   ]
  },
  {
   "cell_type": "markdown",
   "id": "3042b22d-9d88-4e21-b112-ab23cf8d24ea",
   "metadata": {
    "papermill": {
     "duration": 0.015453,
     "end_time": "2022-11-29T22:08:54.883308",
     "exception": false,
     "start_time": "2022-11-29T22:08:54.867855",
     "status": "completed"
    },
    "tags": []
   },
   "source": [
    "### Add gene name and set index"
   ]
  },
  {
   "cell_type": "code",
   "execution_count": 82,
   "id": "3b7b0e76-7aca-44bf-beff-5f1c1b6193ee",
   "metadata": {
    "execution": {
     "iopub.execute_input": "2022-11-29T22:08:54.915686Z",
     "iopub.status.busy": "2022-11-29T22:08:54.915478Z",
     "iopub.status.idle": "2022-11-29T22:08:54.932265Z",
     "shell.execute_reply": "2022-11-29T22:08:54.931769Z"
    },
    "papermill": {
     "duration": 0.034074,
     "end_time": "2022-11-29T22:08:54.933148",
     "exception": false,
     "start_time": "2022-11-29T22:08:54.899074",
     "status": "completed"
    },
    "tags": []
   },
   "outputs": [],
   "source": [
    "spredixcan_genes_models = spredixcan_genes_models.to_frame().reset_index()"
   ]
  },
  {
   "cell_type": "code",
   "execution_count": 83,
   "id": "ffab4b61-c2d4-4bcc-a147-23a4bf30f715",
   "metadata": {
    "execution": {
     "iopub.execute_input": "2022-11-29T22:08:54.965704Z",
     "iopub.status.busy": "2022-11-29T22:08:54.965143Z",
     "iopub.status.idle": "2022-11-29T22:08:54.985357Z",
     "shell.execute_reply": "2022-11-29T22:08:54.984871Z"
    },
    "papermill": {
     "duration": 0.037209,
     "end_time": "2022-11-29T22:08:54.986201",
     "exception": false,
     "start_time": "2022-11-29T22:08:54.948992",
     "status": "completed"
    },
    "tags": []
   },
   "outputs": [
    {
     "data": {
      "text/html": [
       "<div>\n",
       "<style scoped>\n",
       "    .dataframe tbody tr th:only-of-type {\n",
       "        vertical-align: middle;\n",
       "    }\n",
       "\n",
       "    .dataframe tbody tr th {\n",
       "        vertical-align: top;\n",
       "    }\n",
       "\n",
       "    .dataframe thead th {\n",
       "        text-align: right;\n",
       "    }\n",
       "</style>\n",
       "<table border=\"1\" class=\"dataframe\">\n",
       "  <thead>\n",
       "    <tr style=\"text-align: right;\">\n",
       "      <th></th>\n",
       "      <th>gene_id</th>\n",
       "      <th>tissue</th>\n",
       "    </tr>\n",
       "  </thead>\n",
       "  <tbody>\n",
       "    <tr>\n",
       "      <th>0</th>\n",
       "      <td>ENSG00000000419</td>\n",
       "      <td>(Brain_Hypothalamus, Brain_Substantia_nigra)</td>\n",
       "    </tr>\n",
       "    <tr>\n",
       "      <th>1</th>\n",
       "      <td>ENSG00000000938</td>\n",
       "      <td>(Colon_Sigmoid, Colon_Transverse, Skin_Sun_Exp...</td>\n",
       "    </tr>\n",
       "    <tr>\n",
       "      <th>2</th>\n",
       "      <td>ENSG00000000971</td>\n",
       "      <td>(Colon_Sigmoid, Colon_Transverse, Brain_Substa...</td>\n",
       "    </tr>\n",
       "    <tr>\n",
       "      <th>3</th>\n",
       "      <td>ENSG00000001084</td>\n",
       "      <td>(Colon_Transverse, Brain_Substantia_nigra, Ski...</td>\n",
       "    </tr>\n",
       "    <tr>\n",
       "      <th>4</th>\n",
       "      <td>ENSG00000001167</td>\n",
       "      <td>(Colon_Sigmoid, Colon_Transverse, Skin_Sun_Exp...</td>\n",
       "    </tr>\n",
       "  </tbody>\n",
       "</table>\n",
       "</div>"
      ],
      "text/plain": [
       "           gene_id                                             tissue\n",
       "0  ENSG00000000419       (Brain_Hypothalamus, Brain_Substantia_nigra)\n",
       "1  ENSG00000000938  (Colon_Sigmoid, Colon_Transverse, Skin_Sun_Exp...\n",
       "2  ENSG00000000971  (Colon_Sigmoid, Colon_Transverse, Brain_Substa...\n",
       "3  ENSG00000001084  (Colon_Transverse, Brain_Substantia_nigra, Ski...\n",
       "4  ENSG00000001167  (Colon_Sigmoid, Colon_Transverse, Skin_Sun_Exp..."
      ]
     },
     "execution_count": 83,
     "metadata": {},
     "output_type": "execute_result"
    }
   ],
   "source": [
    "spredixcan_genes_models.head()"
   ]
  },
  {
   "cell_type": "code",
   "execution_count": 84,
   "id": "e1cb2fe5-969f-4526-bca7-a3b8919b3509",
   "metadata": {
    "execution": {
     "iopub.execute_input": "2022-11-29T22:08:55.018929Z",
     "iopub.status.busy": "2022-11-29T22:08:55.018430Z",
     "iopub.status.idle": "2022-11-29T22:08:55.039049Z",
     "shell.execute_reply": "2022-11-29T22:08:55.038605Z"
    },
    "papermill": {
     "duration": 0.0382,
     "end_time": "2022-11-29T22:08:55.039944",
     "exception": false,
     "start_time": "2022-11-29T22:08:55.001744",
     "status": "completed"
    },
    "tags": []
   },
   "outputs": [],
   "source": [
    "spredixcan_genes_models = spredixcan_genes_models.assign(\n",
    "    gene_name=spredixcan_genes_models[\"gene_id\"].apply(\n",
    "        lambda g: Gene.GENE_ID_TO_NAME_MAP[g]\n",
    "    )\n",
    ")"
   ]
  },
  {
   "cell_type": "code",
   "execution_count": 85,
   "id": "ff078ce5-3f18-442e-a593-3326436c758e",
   "metadata": {
    "execution": {
     "iopub.execute_input": "2022-11-29T22:08:55.072296Z",
     "iopub.status.busy": "2022-11-29T22:08:55.071814Z",
     "iopub.status.idle": "2022-11-29T22:08:55.090897Z",
     "shell.execute_reply": "2022-11-29T22:08:55.090460Z"
    },
    "papermill": {
     "duration": 0.036028,
     "end_time": "2022-11-29T22:08:55.091838",
     "exception": false,
     "start_time": "2022-11-29T22:08:55.055810",
     "status": "completed"
    },
    "tags": []
   },
   "outputs": [],
   "source": [
    "spredixcan_genes_models = spredixcan_genes_models[[\"gene_id\", \"gene_name\", \"tissue\"]]"
   ]
  },
  {
   "cell_type": "code",
   "execution_count": 86,
   "id": "a65c8bf2-5ecd-4f80-a857-11f8a0c019c4",
   "metadata": {
    "execution": {
     "iopub.execute_input": "2022-11-29T22:08:55.124020Z",
     "iopub.status.busy": "2022-11-29T22:08:55.123553Z",
     "iopub.status.idle": "2022-11-29T22:08:55.141247Z",
     "shell.execute_reply": "2022-11-29T22:08:55.140742Z"
    },
    "papermill": {
     "duration": 0.034763,
     "end_time": "2022-11-29T22:08:55.142374",
     "exception": false,
     "start_time": "2022-11-29T22:08:55.107611",
     "status": "completed"
    },
    "tags": []
   },
   "outputs": [],
   "source": [
    "spredixcan_genes_models = spredixcan_genes_models.set_index(\"gene_id\")"
   ]
  },
  {
   "cell_type": "code",
   "execution_count": 87,
   "id": "af6b40b9-fc58-47a1-a1b5-4404034b008b",
   "metadata": {
    "execution": {
     "iopub.execute_input": "2022-11-29T22:08:55.175298Z",
     "iopub.status.busy": "2022-11-29T22:08:55.175097Z",
     "iopub.status.idle": "2022-11-29T22:08:55.196960Z",
     "shell.execute_reply": "2022-11-29T22:08:55.196473Z"
    },
    "papermill": {
     "duration": 0.039035,
     "end_time": "2022-11-29T22:08:55.197782",
     "exception": false,
     "start_time": "2022-11-29T22:08:55.158747",
     "status": "completed"
    },
    "tags": []
   },
   "outputs": [
    {
     "data": {
      "text/html": [
       "<div>\n",
       "<style scoped>\n",
       "    .dataframe tbody tr th:only-of-type {\n",
       "        vertical-align: middle;\n",
       "    }\n",
       "\n",
       "    .dataframe tbody tr th {\n",
       "        vertical-align: top;\n",
       "    }\n",
       "\n",
       "    .dataframe thead th {\n",
       "        text-align: right;\n",
       "    }\n",
       "</style>\n",
       "<table border=\"1\" class=\"dataframe\">\n",
       "  <thead>\n",
       "    <tr style=\"text-align: right;\">\n",
       "      <th></th>\n",
       "      <th>gene_name</th>\n",
       "      <th>tissue</th>\n",
       "    </tr>\n",
       "    <tr>\n",
       "      <th>gene_id</th>\n",
       "      <th></th>\n",
       "      <th></th>\n",
       "    </tr>\n",
       "  </thead>\n",
       "  <tbody>\n",
       "    <tr>\n",
       "      <th>ENSG00000000419</th>\n",
       "      <td>DPM1</td>\n",
       "      <td>(Brain_Hypothalamus, Brain_Substantia_nigra)</td>\n",
       "    </tr>\n",
       "    <tr>\n",
       "      <th>ENSG00000000938</th>\n",
       "      <td>FGR</td>\n",
       "      <td>(Colon_Sigmoid, Colon_Transverse, Skin_Sun_Exp...</td>\n",
       "    </tr>\n",
       "    <tr>\n",
       "      <th>ENSG00000000971</th>\n",
       "      <td>CFH</td>\n",
       "      <td>(Colon_Sigmoid, Colon_Transverse, Brain_Substa...</td>\n",
       "    </tr>\n",
       "    <tr>\n",
       "      <th>ENSG00000001084</th>\n",
       "      <td>GCLC</td>\n",
       "      <td>(Colon_Transverse, Brain_Substantia_nigra, Ski...</td>\n",
       "    </tr>\n",
       "    <tr>\n",
       "      <th>ENSG00000001167</th>\n",
       "      <td>NFYA</td>\n",
       "      <td>(Colon_Sigmoid, Colon_Transverse, Skin_Sun_Exp...</td>\n",
       "    </tr>\n",
       "  </tbody>\n",
       "</table>\n",
       "</div>"
      ],
      "text/plain": [
       "                gene_name                                             tissue\n",
       "gene_id                                                                     \n",
       "ENSG00000000419      DPM1       (Brain_Hypothalamus, Brain_Substantia_nigra)\n",
       "ENSG00000000938       FGR  (Colon_Sigmoid, Colon_Transverse, Skin_Sun_Exp...\n",
       "ENSG00000000971       CFH  (Colon_Sigmoid, Colon_Transverse, Brain_Substa...\n",
       "ENSG00000001084      GCLC  (Colon_Transverse, Brain_Substantia_nigra, Ski...\n",
       "ENSG00000001167      NFYA  (Colon_Sigmoid, Colon_Transverse, Skin_Sun_Exp..."
      ]
     },
     "execution_count": 87,
     "metadata": {},
     "output_type": "execute_result"
    }
   ],
   "source": [
    "spredixcan_genes_models.head()"
   ]
  },
  {
   "cell_type": "markdown",
   "id": "d1e67be9-9094-4a07-b89d-3a0815d503e6",
   "metadata": {
    "papermill": {
     "duration": 0.015413,
     "end_time": "2022-11-29T22:08:55.229195",
     "exception": false,
     "start_time": "2022-11-29T22:08:55.213782",
     "status": "completed"
    },
    "tags": []
   },
   "source": [
    "### Add number of tissues"
   ]
  },
  {
   "cell_type": "code",
   "execution_count": 88,
   "id": "b2702bdb-b3bc-48e6-9c3e-855924d9e74b",
   "metadata": {
    "execution": {
     "iopub.execute_input": "2022-11-29T22:08:55.262353Z",
     "iopub.status.busy": "2022-11-29T22:08:55.261753Z",
     "iopub.status.idle": "2022-11-29T22:08:55.280128Z",
     "shell.execute_reply": "2022-11-29T22:08:55.279621Z"
    },
    "papermill": {
     "duration": 0.035806,
     "end_time": "2022-11-29T22:08:55.281074",
     "exception": false,
     "start_time": "2022-11-29T22:08:55.245268",
     "status": "completed"
    },
    "tags": []
   },
   "outputs": [],
   "source": [
    "spredixcan_genes_models = spredixcan_genes_models.assign(\n",
    "    n_tissues=spredixcan_genes_models[\"tissue\"].apply(len)\n",
    ")"
   ]
  },
  {
   "cell_type": "code",
   "execution_count": 89,
   "id": "4a5eb4b8-5e11-45a3-a991-0515bd83fc03",
   "metadata": {
    "execution": {
     "iopub.execute_input": "2022-11-29T22:08:55.313564Z",
     "iopub.status.busy": "2022-11-29T22:08:55.313362Z",
     "iopub.status.idle": "2022-11-29T22:08:55.334427Z",
     "shell.execute_reply": "2022-11-29T22:08:55.333943Z"
    },
    "papermill": {
     "duration": 0.038861,
     "end_time": "2022-11-29T22:08:55.335897",
     "exception": false,
     "start_time": "2022-11-29T22:08:55.297036",
     "status": "completed"
    },
    "tags": []
   },
   "outputs": [
    {
     "data": {
      "text/html": [
       "<div>\n",
       "<style scoped>\n",
       "    .dataframe tbody tr th:only-of-type {\n",
       "        vertical-align: middle;\n",
       "    }\n",
       "\n",
       "    .dataframe tbody tr th {\n",
       "        vertical-align: top;\n",
       "    }\n",
       "\n",
       "    .dataframe thead th {\n",
       "        text-align: right;\n",
       "    }\n",
       "</style>\n",
       "<table border=\"1\" class=\"dataframe\">\n",
       "  <thead>\n",
       "    <tr style=\"text-align: right;\">\n",
       "      <th></th>\n",
       "      <th>gene_name</th>\n",
       "      <th>tissue</th>\n",
       "      <th>n_tissues</th>\n",
       "    </tr>\n",
       "    <tr>\n",
       "      <th>gene_id</th>\n",
       "      <th></th>\n",
       "      <th></th>\n",
       "      <th></th>\n",
       "    </tr>\n",
       "  </thead>\n",
       "  <tbody>\n",
       "    <tr>\n",
       "      <th>ENSG00000000419</th>\n",
       "      <td>DPM1</td>\n",
       "      <td>(Brain_Hypothalamus, Brain_Substantia_nigra)</td>\n",
       "      <td>2</td>\n",
       "    </tr>\n",
       "    <tr>\n",
       "      <th>ENSG00000000938</th>\n",
       "      <td>FGR</td>\n",
       "      <td>(Colon_Sigmoid, Colon_Transverse, Skin_Sun_Exp...</td>\n",
       "      <td>36</td>\n",
       "    </tr>\n",
       "    <tr>\n",
       "      <th>ENSG00000000971</th>\n",
       "      <td>CFH</td>\n",
       "      <td>(Colon_Sigmoid, Colon_Transverse, Brain_Substa...</td>\n",
       "      <td>34</td>\n",
       "    </tr>\n",
       "    <tr>\n",
       "      <th>ENSG00000001084</th>\n",
       "      <td>GCLC</td>\n",
       "      <td>(Colon_Transverse, Brain_Substantia_nigra, Ski...</td>\n",
       "      <td>32</td>\n",
       "    </tr>\n",
       "    <tr>\n",
       "      <th>ENSG00000001167</th>\n",
       "      <td>NFYA</td>\n",
       "      <td>(Colon_Sigmoid, Colon_Transverse, Skin_Sun_Exp...</td>\n",
       "      <td>40</td>\n",
       "    </tr>\n",
       "  </tbody>\n",
       "</table>\n",
       "</div>"
      ],
      "text/plain": [
       "                gene_name                                             tissue  \\\n",
       "gene_id                                                                        \n",
       "ENSG00000000419      DPM1       (Brain_Hypothalamus, Brain_Substantia_nigra)   \n",
       "ENSG00000000938       FGR  (Colon_Sigmoid, Colon_Transverse, Skin_Sun_Exp...   \n",
       "ENSG00000000971       CFH  (Colon_Sigmoid, Colon_Transverse, Brain_Substa...   \n",
       "ENSG00000001084      GCLC  (Colon_Transverse, Brain_Substantia_nigra, Ski...   \n",
       "ENSG00000001167      NFYA  (Colon_Sigmoid, Colon_Transverse, Skin_Sun_Exp...   \n",
       "\n",
       "                 n_tissues  \n",
       "gene_id                     \n",
       "ENSG00000000419          2  \n",
       "ENSG00000000938         36  \n",
       "ENSG00000000971         34  \n",
       "ENSG00000001084         32  \n",
       "ENSG00000001167         40  "
      ]
     },
     "execution_count": 89,
     "metadata": {},
     "output_type": "execute_result"
    }
   ],
   "source": [
    "spredixcan_genes_models.head()"
   ]
  },
  {
   "cell_type": "markdown",
   "id": "2abce820-1cb4-4a58-9dc5-b3e37d3ff037",
   "metadata": {
    "papermill": {
     "duration": 0.016371,
     "end_time": "2022-11-29T22:08:55.369710",
     "exception": false,
     "start_time": "2022-11-29T22:08:55.353339",
     "status": "completed"
    },
    "tags": []
   },
   "source": [
    "### Save"
   ]
  },
  {
   "cell_type": "markdown",
   "id": "28462e2a-da49-44c4-ae71-b3830a2b108f",
   "metadata": {
    "papermill": {
     "duration": 0.016455,
     "end_time": "2022-11-29T22:08:55.402618",
     "exception": false,
     "start_time": "2022-11-29T22:08:55.386163",
     "status": "completed"
    },
    "tags": []
   },
   "source": [
    "Here I quickly save these results to a file, given that the next steps (covariates) are slow to compute."
   ]
  },
  {
   "cell_type": "code",
   "execution_count": 90,
   "id": "9cfb687d-5ab2-4e85-9944-f5c685de8046",
   "metadata": {
    "execution": {
     "iopub.execute_input": "2022-11-29T22:08:55.435951Z",
     "iopub.status.busy": "2022-11-29T22:08:55.435471Z",
     "iopub.status.idle": "2022-11-29T22:08:55.452854Z",
     "shell.execute_reply": "2022-11-29T22:08:55.452342Z"
    },
    "papermill": {
     "duration": 0.035169,
     "end_time": "2022-11-29T22:08:55.453866",
     "exception": false,
     "start_time": "2022-11-29T22:08:55.418697",
     "status": "completed"
    },
    "tags": []
   },
   "outputs": [],
   "source": [
    "# this is important, other scripts depend on gene_name to be unique\n",
    "assert spredixcan_genes_models[\"gene_name\"].is_unique"
   ]
  },
  {
   "cell_type": "code",
   "execution_count": 91,
   "id": "b2d9bd26-afaa-4aff-a707-3109e13af9bb",
   "metadata": {
    "execution": {
     "iopub.execute_input": "2022-11-29T22:08:55.487591Z",
     "iopub.status.busy": "2022-11-29T22:08:55.487201Z",
     "iopub.status.idle": "2022-11-29T22:08:55.506195Z",
     "shell.execute_reply": "2022-11-29T22:08:55.505683Z"
    },
    "papermill": {
     "duration": 0.036818,
     "end_time": "2022-11-29T22:08:55.507067",
     "exception": false,
     "start_time": "2022-11-29T22:08:55.470249",
     "status": "completed"
    },
    "tags": []
   },
   "outputs": [
    {
     "name": "stderr",
     "output_type": "stream",
     "text": [
      "/tmp/ipykernel_124/1381297071.py:1: FutureWarning: In a future version of pandas all arguments of DataFrame.any and Series.any will be keyword-only.\n",
      "  assert not spredixcan_genes_models.isna().any(None)\n"
     ]
    }
   ],
   "source": [
    "assert not spredixcan_genes_models.isna().any(None)"
   ]
  },
  {
   "cell_type": "code",
   "execution_count": 92,
   "id": "074b103c-2960-4299-a3ac-fa37ab6f2784",
   "metadata": {
    "execution": {
     "iopub.execute_input": "2022-11-29T22:08:55.540952Z",
     "iopub.status.busy": "2022-11-29T22:08:55.540412Z",
     "iopub.status.idle": "2022-11-29T22:08:55.570889Z",
     "shell.execute_reply": "2022-11-29T22:08:55.570318Z"
    },
    "papermill": {
     "duration": 0.048463,
     "end_time": "2022-11-29T22:08:55.571907",
     "exception": false,
     "start_time": "2022-11-29T22:08:55.523444",
     "status": "completed"
    },
    "tags": []
   },
   "outputs": [],
   "source": [
    "spredixcan_genes_models.to_pickle(OUTPUT_DIR_BASE / \"gene_tissues.pkl\")"
   ]
  },
  {
   "cell_type": "markdown",
   "id": "ae18f693-4da8-48ae-85b6-8194abcca684",
   "metadata": {
    "papermill": {
     "duration": 0.015914,
     "end_time": "2022-11-29T22:08:55.604307",
     "exception": false,
     "start_time": "2022-11-29T22:08:55.588393",
     "status": "completed"
    },
    "tags": []
   },
   "source": [
    "## Add covariates based on S-PrediXcan results"
   ]
  },
  {
   "cell_type": "markdown",
   "id": "bed7a46c-4906-40b9-9dd8-0bfb584e6d2a",
   "metadata": {
    "papermill": {
     "duration": 0.015879,
     "end_time": "2022-11-29T22:08:55.636336",
     "exception": false,
     "start_time": "2022-11-29T22:08:55.620457",
     "status": "completed"
    },
    "tags": []
   },
   "source": [
    "This extend the previous file with more columns"
   ]
  },
  {
   "cell_type": "markdown",
   "id": "850c554f-2ace-40a3-a33a-477246bb07c7",
   "metadata": {
    "papermill": {
     "duration": 0.015611,
     "end_time": "2022-11-29T22:08:55.667675",
     "exception": false,
     "start_time": "2022-11-29T22:08:55.652064",
     "status": "completed"
    },
    "tags": []
   },
   "source": [
    "### Get gene's objects"
   ]
  },
  {
   "cell_type": "code",
   "execution_count": 93,
   "id": "dfd93711-5c91-4cb6-8561-f366e270b6b1",
   "metadata": {
    "execution": {
     "iopub.execute_input": "2022-11-29T22:08:55.704543Z",
     "iopub.status.busy": "2022-11-29T22:08:55.704324Z",
     "iopub.status.idle": "2022-11-29T22:08:55.733086Z",
     "shell.execute_reply": "2022-11-29T22:08:55.732515Z"
    },
    "papermill": {
     "duration": 0.046133,
     "end_time": "2022-11-29T22:08:55.733922",
     "exception": false,
     "start_time": "2022-11-29T22:08:55.687789",
     "status": "completed"
    },
    "tags": []
   },
   "outputs": [],
   "source": [
    "spredixcan_gene_obj = {\n",
    "    gene_id: Gene(ensembl_id=gene_id) for gene_id in spredixcan_genes_models.index\n",
    "}"
   ]
  },
  {
   "cell_type": "code",
   "execution_count": 94,
   "id": "59efbedc-0b5d-4d0b-bd82-95e74c0ba793",
   "metadata": {
    "execution": {
     "iopub.execute_input": "2022-11-29T22:08:55.766711Z",
     "iopub.status.busy": "2022-11-29T22:08:55.766151Z",
     "iopub.status.idle": "2022-11-29T22:08:55.784045Z",
     "shell.execute_reply": "2022-11-29T22:08:55.783571Z"
    },
    "papermill": {
     "duration": 0.035061,
     "end_time": "2022-11-29T22:08:55.784862",
     "exception": false,
     "start_time": "2022-11-29T22:08:55.749801",
     "status": "completed"
    },
    "tags": []
   },
   "outputs": [
    {
     "data": {
      "text/plain": [
       "6443"
      ]
     },
     "execution_count": 94,
     "metadata": {},
     "output_type": "execute_result"
    }
   ],
   "source": [
    "len(spredixcan_gene_obj)"
   ]
  },
  {
   "cell_type": "markdown",
   "id": "27ac1828-755a-424a-b416-6aef1f0c2e45",
   "metadata": {
    "papermill": {
     "duration": 0.016082,
     "end_time": "2022-11-29T22:08:55.817233",
     "exception": false,
     "start_time": "2022-11-29T22:08:55.801151",
     "status": "completed"
    },
    "tags": []
   },
   "source": [
    "### Add genes' variance captured by principal components"
   ]
  },
  {
   "cell_type": "code",
   "execution_count": 95,
   "id": "893b3418-054c-44d2-9ce0-7fa590aef00e",
   "metadata": {
    "execution": {
     "iopub.execute_input": "2022-11-29T22:08:55.850580Z",
     "iopub.status.busy": "2022-11-29T22:08:55.850030Z",
     "iopub.status.idle": "2022-11-29T22:08:55.865349Z",
     "shell.execute_reply": "2022-11-29T22:08:55.864857Z"
    },
    "papermill": {
     "duration": 0.032859,
     "end_time": "2022-11-29T22:08:55.866315",
     "exception": false,
     "start_time": "2022-11-29T22:08:55.833456",
     "status": "completed"
    },
    "tags": []
   },
   "outputs": [],
   "source": [
    "# def _get_gene_pc_variance(gene_row):\n",
    "#     gene_id = gene_row.name\n",
    "#     gene_tissues = gene_row[\"tissue\"]\n",
    "#     gene_obj = spredixcan_gene_obj[gene_id]\n",
    "\n",
    "#     u, s, vt = gene_obj.get_tissues_correlations_svd(\n",
    "#         tissues=gene_tissues,\n",
    "#         snps_subset=gwas_variants_ids_set,\n",
    "#         reference_panel=REFERENCE_PANEL,\n",
    "#         model_type=EQTL_MODEL,\n",
    "#         # use_covariance_matrix=True,\n",
    "#     )\n",
    "\n",
    "#     return s"
   ]
  },
  {
   "cell_type": "code",
   "execution_count": 96,
   "id": "083afa33-cea0-40d3-af20-94a1307a6607",
   "metadata": {
    "execution": {
     "iopub.execute_input": "2022-11-29T22:08:55.899165Z",
     "iopub.status.busy": "2022-11-29T22:08:55.898968Z",
     "iopub.status.idle": "2022-11-29T22:08:55.914052Z",
     "shell.execute_reply": "2022-11-29T22:08:55.913575Z"
    },
    "papermill": {
     "duration": 0.032445,
     "end_time": "2022-11-29T22:08:55.914922",
     "exception": false,
     "start_time": "2022-11-29T22:08:55.882477",
     "status": "completed"
    },
    "tags": []
   },
   "outputs": [],
   "source": [
    "# _tmp = spredixcan_genes_models.loc[\"ENSG00000188976\"]\n",
    "# _get_gene_pc_variance(_tmp)"
   ]
  },
  {
   "cell_type": "code",
   "execution_count": 97,
   "id": "80f7720d-79c9-4183-bb7e-b1480f31ed87",
   "metadata": {
    "execution": {
     "iopub.execute_input": "2022-11-29T22:08:55.948368Z",
     "iopub.status.busy": "2022-11-29T22:08:55.947857Z",
     "iopub.status.idle": "2022-11-29T22:08:55.962926Z",
     "shell.execute_reply": "2022-11-29T22:08:55.962450Z"
    },
    "papermill": {
     "duration": 0.032533,
     "end_time": "2022-11-29T22:08:55.963828",
     "exception": false,
     "start_time": "2022-11-29T22:08:55.931295",
     "status": "completed"
    },
    "tags": []
   },
   "outputs": [],
   "source": [
    "# spredixcan_genes_tissues_pc_variance = spredixcan_genes_models.apply(\n",
    "#     _get_gene_pc_variance, axis=1\n",
    "# )"
   ]
  },
  {
   "cell_type": "code",
   "execution_count": 98,
   "id": "621302a1-1407-4400-9282-e37798bb18b3",
   "metadata": {
    "execution": {
     "iopub.execute_input": "2022-11-29T22:08:55.996919Z",
     "iopub.status.busy": "2022-11-29T22:08:55.996715Z",
     "iopub.status.idle": "2022-11-29T22:08:56.013247Z",
     "shell.execute_reply": "2022-11-29T22:08:56.012645Z"
    },
    "papermill": {
     "duration": 0.034761,
     "end_time": "2022-11-29T22:08:56.014860",
     "exception": false,
     "start_time": "2022-11-29T22:08:55.980099",
     "status": "completed"
    },
    "tags": []
   },
   "outputs": [],
   "source": [
    "# spredixcan_genes_tissues_pc_variance"
   ]
  },
  {
   "cell_type": "code",
   "execution_count": 99,
   "id": "9ac9e0fb-e0cc-4fea-ad01-2e76d40afb3c",
   "metadata": {
    "execution": {
     "iopub.execute_input": "2022-11-29T22:08:56.061124Z",
     "iopub.status.busy": "2022-11-29T22:08:56.060381Z",
     "iopub.status.idle": "2022-11-29T22:08:56.076945Z",
     "shell.execute_reply": "2022-11-29T22:08:56.076344Z"
    },
    "papermill": {
     "duration": 0.035364,
     "end_time": "2022-11-29T22:08:56.077985",
     "exception": false,
     "start_time": "2022-11-29T22:08:56.042621",
     "status": "completed"
    },
    "tags": []
   },
   "outputs": [],
   "source": [
    "# # testing\n",
    "# assert spredixcan_genes_tissues_pc_variance.loc[\n",
    "#     \"ENSG00000188976\"\n",
    "# ].sum() == pytest.approx(44.01605629086847)\n",
    "# # this is using the covariance:\n",
    "# # assert spredixcan_genes_tissues_pc_variance.loc[\"ENSG00000188976\"].sum() == pytest.approx(1.1492946006449425)"
   ]
  },
  {
   "cell_type": "code",
   "execution_count": 100,
   "id": "700ed8c8-16e3-4f44-80ff-a4355349ac26",
   "metadata": {
    "execution": {
     "iopub.execute_input": "2022-11-29T22:08:56.111909Z",
     "iopub.status.busy": "2022-11-29T22:08:56.111380Z",
     "iopub.status.idle": "2022-11-29T22:08:56.126814Z",
     "shell.execute_reply": "2022-11-29T22:08:56.126233Z"
    },
    "papermill": {
     "duration": 0.033399,
     "end_time": "2022-11-29T22:08:56.127902",
     "exception": false,
     "start_time": "2022-11-29T22:08:56.094503",
     "status": "completed"
    },
    "tags": []
   },
   "outputs": [],
   "source": [
    "# # add to spredixcan_genes_models\n",
    "# spredixcan_genes_models = spredixcan_genes_models.join(\n",
    "#     spredixcan_genes_tissues_pc_variance.rename(\"tissues_pc_variances\")\n",
    "# )"
   ]
  },
  {
   "cell_type": "code",
   "execution_count": 101,
   "id": "597f7dff-2425-490d-84d6-537f8bd0f147",
   "metadata": {
    "execution": {
     "iopub.execute_input": "2022-11-29T22:08:56.161476Z",
     "iopub.status.busy": "2022-11-29T22:08:56.161275Z",
     "iopub.status.idle": "2022-11-29T22:08:56.176225Z",
     "shell.execute_reply": "2022-11-29T22:08:56.175645Z"
    },
    "papermill": {
     "duration": 0.033095,
     "end_time": "2022-11-29T22:08:56.177240",
     "exception": false,
     "start_time": "2022-11-29T22:08:56.144145",
     "status": "completed"
    },
    "tags": []
   },
   "outputs": [],
   "source": [
    "# spredixcan_genes_models.shape"
   ]
  },
  {
   "cell_type": "code",
   "execution_count": 102,
   "id": "41bdb249-f7e3-4b07-a534-2c3e46db72dc",
   "metadata": {
    "execution": {
     "iopub.execute_input": "2022-11-29T22:08:56.209777Z",
     "iopub.status.busy": "2022-11-29T22:08:56.209574Z",
     "iopub.status.idle": "2022-11-29T22:08:56.224473Z",
     "shell.execute_reply": "2022-11-29T22:08:56.223883Z"
    },
    "papermill": {
     "duration": 0.032287,
     "end_time": "2022-11-29T22:08:56.225425",
     "exception": false,
     "start_time": "2022-11-29T22:08:56.193138",
     "status": "completed"
    },
    "tags": []
   },
   "outputs": [],
   "source": [
    "# spredixcan_genes_models.head()"
   ]
  },
  {
   "cell_type": "markdown",
   "id": "ef1c76d7-485b-4e8a-932e-fd01382d5520",
   "metadata": {
    "papermill": {
     "duration": 0.016687,
     "end_time": "2022-11-29T22:08:56.258552",
     "exception": false,
     "start_time": "2022-11-29T22:08:56.241865",
     "status": "completed"
    },
    "tags": []
   },
   "source": [
    "### Add gene variance per tissue"
   ]
  },
  {
   "cell_type": "code",
   "execution_count": 103,
   "id": "530f7941-6ad7-4a29-b9e4-a006949282e0",
   "metadata": {
    "execution": {
     "iopub.execute_input": "2022-11-29T22:08:56.293527Z",
     "iopub.status.busy": "2022-11-29T22:08:56.293223Z",
     "iopub.status.idle": "2022-11-29T22:08:56.310883Z",
     "shell.execute_reply": "2022-11-29T22:08:56.310146Z"
    },
    "papermill": {
     "duration": 0.037619,
     "end_time": "2022-11-29T22:08:56.312302",
     "exception": false,
     "start_time": "2022-11-29T22:08:56.274683",
     "status": "completed"
    },
    "tags": []
   },
   "outputs": [],
   "source": [
    "# def _get_gene_variances(gene_row):\n",
    "#     gene_id = gene_row.name\n",
    "#     gene_tissues = gene_row[\"tissue\"]\n",
    "\n",
    "#     tissue_variances = {}\n",
    "#     gene_obj = spredixcan_gene_obj[gene_id]\n",
    "\n",
    "#     for tissue in gene_tissues:\n",
    "#         tissue_var = gene_obj.get_pred_expression_variance(\n",
    "#             tissue=tissue,\n",
    "#             reference_panel=REFERENCE_PANEL,\n",
    "#             model_type=EQTL_MODEL,\n",
    "#             snps_subset=gwas_variants_ids_set,\n",
    "#         )\n",
    "\n",
    "#         if tissue_var is not None:\n",
    "#             tissue_variances[tissue] = tissue_var\n",
    "\n",
    "#     return tissue_variances"
   ]
  },
  {
   "cell_type": "code",
   "execution_count": 104,
   "id": "01eb9e6a-4505-44e6-9e6e-9788e257f319",
   "metadata": {
    "execution": {
     "iopub.execute_input": "2022-11-29T22:08:56.349869Z",
     "iopub.status.busy": "2022-11-29T22:08:56.349424Z",
     "iopub.status.idle": "2022-11-29T22:08:56.364771Z",
     "shell.execute_reply": "2022-11-29T22:08:56.364266Z"
    },
    "papermill": {
     "duration": 0.034065,
     "end_time": "2022-11-29T22:08:56.365709",
     "exception": false,
     "start_time": "2022-11-29T22:08:56.331644",
     "status": "completed"
    },
    "tags": []
   },
   "outputs": [],
   "source": [
    "# _tmp = spredixcan_genes_models.loc[\"ENSG00000000419\"]\n",
    "# _get_gene_variances(_tmp)"
   ]
  },
  {
   "cell_type": "code",
   "execution_count": 105,
   "id": "447061ec-4847-4911-a1d6-8b86d15e4aac",
   "metadata": {
    "execution": {
     "iopub.execute_input": "2022-11-29T22:08:56.399665Z",
     "iopub.status.busy": "2022-11-29T22:08:56.399342Z",
     "iopub.status.idle": "2022-11-29T22:08:56.416149Z",
     "shell.execute_reply": "2022-11-29T22:08:56.415464Z"
    },
    "papermill": {
     "duration": 0.034786,
     "end_time": "2022-11-29T22:08:56.417077",
     "exception": false,
     "start_time": "2022-11-29T22:08:56.382291",
     "status": "completed"
    },
    "tags": []
   },
   "outputs": [],
   "source": [
    "# spredixcan_genes_tissues_variance = spredixcan_genes_models.apply(\n",
    "#     _get_gene_variances, axis=1\n",
    "# )"
   ]
  },
  {
   "cell_type": "code",
   "execution_count": 106,
   "id": "816cbdd2-d667-4eaa-bbf7-335550854ee8",
   "metadata": {
    "execution": {
     "iopub.execute_input": "2022-11-29T22:08:56.450617Z",
     "iopub.status.busy": "2022-11-29T22:08:56.450131Z",
     "iopub.status.idle": "2022-11-29T22:08:56.466066Z",
     "shell.execute_reply": "2022-11-29T22:08:56.465567Z"
    },
    "papermill": {
     "duration": 0.033684,
     "end_time": "2022-11-29T22:08:56.466958",
     "exception": false,
     "start_time": "2022-11-29T22:08:56.433274",
     "status": "completed"
    },
    "tags": []
   },
   "outputs": [],
   "source": [
    "# spredixcan_genes_tissues_variance"
   ]
  },
  {
   "cell_type": "code",
   "execution_count": 107,
   "id": "68c65eb6-15c0-494d-992f-93bc84268a59",
   "metadata": {
    "execution": {
     "iopub.execute_input": "2022-11-29T22:08:56.500779Z",
     "iopub.status.busy": "2022-11-29T22:08:56.500451Z",
     "iopub.status.idle": "2022-11-29T22:08:56.516795Z",
     "shell.execute_reply": "2022-11-29T22:08:56.516225Z"
    },
    "papermill": {
     "duration": 0.034573,
     "end_time": "2022-11-29T22:08:56.517935",
     "exception": false,
     "start_time": "2022-11-29T22:08:56.483362",
     "status": "completed"
    },
    "tags": []
   },
   "outputs": [],
   "source": [
    "# # testing\n",
    "# _gene_id = \"ENSG00000188976\"\n",
    "# x = spredixcan_genes_tissues_variance.loc[_gene_id]\n",
    "# # expected value obtained by sum of PCA eigenvalues on this gene's predicted expression\n",
    "# assert np.sum(list(x.values())) == pytest.approx(1.2326202607409493)"
   ]
  },
  {
   "cell_type": "code",
   "execution_count": 108,
   "id": "1996453a-fdfc-44e9-bbdf-b83e3b3b1aee",
   "metadata": {
    "execution": {
     "iopub.execute_input": "2022-11-29T22:08:56.552836Z",
     "iopub.status.busy": "2022-11-29T22:08:56.552522Z",
     "iopub.status.idle": "2022-11-29T22:08:56.568418Z",
     "shell.execute_reply": "2022-11-29T22:08:56.567899Z"
    },
    "papermill": {
     "duration": 0.034141,
     "end_time": "2022-11-29T22:08:56.569293",
     "exception": false,
     "start_time": "2022-11-29T22:08:56.535152",
     "status": "completed"
    },
    "tags": []
   },
   "outputs": [],
   "source": [
    "# # testing\n",
    "# spredixcan_genes_tissues_variance.loc[\"ENSG00000000419\"]"
   ]
  },
  {
   "cell_type": "code",
   "execution_count": 109,
   "id": "88e42a97-801b-43a4-a829-4eaac03360b8",
   "metadata": {
    "execution": {
     "iopub.execute_input": "2022-11-29T22:08:56.602350Z",
     "iopub.status.busy": "2022-11-29T22:08:56.602009Z",
     "iopub.status.idle": "2022-11-29T22:08:56.617148Z",
     "shell.execute_reply": "2022-11-29T22:08:56.616641Z"
    },
    "papermill": {
     "duration": 0.032715,
     "end_time": "2022-11-29T22:08:56.618026",
     "exception": false,
     "start_time": "2022-11-29T22:08:56.585311",
     "status": "completed"
    },
    "tags": []
   },
   "outputs": [],
   "source": [
    "# # add to spredixcan_genes_models\n",
    "# spredixcan_genes_models = spredixcan_genes_models.join(\n",
    "#     spredixcan_genes_tissues_variance.rename(\"tissues_variances\")\n",
    "# )"
   ]
  },
  {
   "cell_type": "code",
   "execution_count": 110,
   "id": "cb177ca4-fdcb-432f-a102-9c6bd6bd7fa0",
   "metadata": {
    "execution": {
     "iopub.execute_input": "2022-11-29T22:08:56.651006Z",
     "iopub.status.busy": "2022-11-29T22:08:56.650670Z",
     "iopub.status.idle": "2022-11-29T22:08:56.666021Z",
     "shell.execute_reply": "2022-11-29T22:08:56.665494Z"
    },
    "papermill": {
     "duration": 0.032832,
     "end_time": "2022-11-29T22:08:56.666953",
     "exception": false,
     "start_time": "2022-11-29T22:08:56.634121",
     "status": "completed"
    },
    "tags": []
   },
   "outputs": [],
   "source": [
    "# spredixcan_genes_models.shape"
   ]
  },
  {
   "cell_type": "code",
   "execution_count": 111,
   "id": "ccabe1fa-20ae-4893-bf12-9a3359b213b8",
   "metadata": {
    "execution": {
     "iopub.execute_input": "2022-11-29T22:08:56.700201Z",
     "iopub.status.busy": "2022-11-29T22:08:56.699831Z",
     "iopub.status.idle": "2022-11-29T22:08:56.714715Z",
     "shell.execute_reply": "2022-11-29T22:08:56.714236Z"
    },
    "papermill": {
     "duration": 0.032442,
     "end_time": "2022-11-29T22:08:56.715555",
     "exception": false,
     "start_time": "2022-11-29T22:08:56.683113",
     "status": "completed"
    },
    "tags": []
   },
   "outputs": [],
   "source": [
    "# spredixcan_genes_models.head()"
   ]
  },
  {
   "cell_type": "markdown",
   "id": "ab6ff41a-0949-4eea-abef-7dc4f0b373fc",
   "metadata": {
    "papermill": {
     "duration": 0.015968,
     "end_time": "2022-11-29T22:08:56.747769",
     "exception": false,
     "start_time": "2022-11-29T22:08:56.731801",
     "status": "completed"
    },
    "tags": []
   },
   "source": [
    "### Count number of SNPs predictors used across tissue models"
   ]
  },
  {
   "cell_type": "code",
   "execution_count": 112,
   "id": "c8f6cc6f-5812-45c9-b775-6f2193f8a360",
   "metadata": {
    "execution": {
     "iopub.execute_input": "2022-11-29T22:08:56.781513Z",
     "iopub.status.busy": "2022-11-29T22:08:56.781111Z",
     "iopub.status.idle": "2022-11-29T22:08:56.836631Z",
     "shell.execute_reply": "2022-11-29T22:08:56.835945Z"
    },
    "papermill": {
     "duration": 0.073505,
     "end_time": "2022-11-29T22:08:56.837576",
     "exception": false,
     "start_time": "2022-11-29T22:08:56.764071",
     "status": "completed"
    },
    "tags": []
   },
   "outputs": [],
   "source": [
    "spredixcan_genes_sum_of_n_snps_used = (\n",
    "    spredixcan_dfs.groupby(\"gene_id\")[\"n_snps_used\"].sum().rename(\"n_snps_used_sum\")\n",
    ")"
   ]
  },
  {
   "cell_type": "code",
   "execution_count": 113,
   "id": "7255df64-7b9f-4504-a4fa-1f2a9aa56ec0",
   "metadata": {
    "execution": {
     "iopub.execute_input": "2022-11-29T22:08:56.871290Z",
     "iopub.status.busy": "2022-11-29T22:08:56.870875Z",
     "iopub.status.idle": "2022-11-29T22:08:56.890221Z",
     "shell.execute_reply": "2022-11-29T22:08:56.889611Z"
    },
    "papermill": {
     "duration": 0.037011,
     "end_time": "2022-11-29T22:08:56.891011",
     "exception": false,
     "start_time": "2022-11-29T22:08:56.854000",
     "status": "completed"
    },
    "tags": []
   },
   "outputs": [
    {
     "data": {
      "text/plain": [
       "gene_id\n",
       "ENSG00000000419     2\n",
       "ENSG00000000938    40\n",
       "ENSG00000000971    44\n",
       "ENSG00000001084    46\n",
       "ENSG00000001167    47\n",
       "                   ..\n",
       "ENSG00000278540    44\n",
       "ENSG00000278828     5\n",
       "ENSG00000278845    89\n",
       "ENSG00000281005    81\n",
       "ENSG00000282608    40\n",
       "Name: n_snps_used_sum, Length: 6443, dtype: int64"
      ]
     },
     "execution_count": 113,
     "metadata": {},
     "output_type": "execute_result"
    }
   ],
   "source": [
    "spredixcan_genes_sum_of_n_snps_used"
   ]
  },
  {
   "cell_type": "code",
   "execution_count": 114,
   "id": "44bc1222-b334-4ce2-8997-494d0e584cf9",
   "metadata": {
    "execution": {
     "iopub.execute_input": "2022-11-29T22:08:56.924873Z",
     "iopub.status.busy": "2022-11-29T22:08:56.924517Z",
     "iopub.status.idle": "2022-11-29T22:08:56.944826Z",
     "shell.execute_reply": "2022-11-29T22:08:56.944156Z"
    },
    "papermill": {
     "duration": 0.038186,
     "end_time": "2022-11-29T22:08:56.945744",
     "exception": false,
     "start_time": "2022-11-29T22:08:56.907558",
     "status": "completed"
    },
    "tags": []
   },
   "outputs": [],
   "source": [
    "# add sum of snps used to spredixcan_genes_models\n",
    "spredixcan_genes_models = spredixcan_genes_models.join(\n",
    "    spredixcan_genes_sum_of_n_snps_used\n",
    ")"
   ]
  },
  {
   "cell_type": "code",
   "execution_count": 115,
   "id": "5e5e6d7f-b970-4f21-9322-b76bc22afd71",
   "metadata": {
    "execution": {
     "iopub.execute_input": "2022-11-29T22:08:56.979278Z",
     "iopub.status.busy": "2022-11-29T22:08:56.978797Z",
     "iopub.status.idle": "2022-11-29T22:08:56.996318Z",
     "shell.execute_reply": "2022-11-29T22:08:56.995764Z"
    },
    "papermill": {
     "duration": 0.036039,
     "end_time": "2022-11-29T22:08:56.997945",
     "exception": false,
     "start_time": "2022-11-29T22:08:56.961906",
     "status": "completed"
    },
    "tags": []
   },
   "outputs": [
    {
     "data": {
      "text/plain": [
       "(6443, 4)"
      ]
     },
     "execution_count": 115,
     "metadata": {},
     "output_type": "execute_result"
    }
   ],
   "source": [
    "spredixcan_genes_models.shape"
   ]
  },
  {
   "cell_type": "code",
   "execution_count": 116,
   "id": "22c096c2-213a-4001-8454-1633997d404f",
   "metadata": {
    "execution": {
     "iopub.execute_input": "2022-11-29T22:08:57.054495Z",
     "iopub.status.busy": "2022-11-29T22:08:57.054192Z",
     "iopub.status.idle": "2022-11-29T22:08:57.076637Z",
     "shell.execute_reply": "2022-11-29T22:08:57.076011Z"
    },
    "papermill": {
     "duration": 0.046441,
     "end_time": "2022-11-29T22:08:57.077624",
     "exception": false,
     "start_time": "2022-11-29T22:08:57.031183",
     "status": "completed"
    },
    "tags": []
   },
   "outputs": [
    {
     "data": {
      "text/html": [
       "<div>\n",
       "<style scoped>\n",
       "    .dataframe tbody tr th:only-of-type {\n",
       "        vertical-align: middle;\n",
       "    }\n",
       "\n",
       "    .dataframe tbody tr th {\n",
       "        vertical-align: top;\n",
       "    }\n",
       "\n",
       "    .dataframe thead th {\n",
       "        text-align: right;\n",
       "    }\n",
       "</style>\n",
       "<table border=\"1\" class=\"dataframe\">\n",
       "  <thead>\n",
       "    <tr style=\"text-align: right;\">\n",
       "      <th></th>\n",
       "      <th>gene_name</th>\n",
       "      <th>tissue</th>\n",
       "      <th>n_tissues</th>\n",
       "      <th>n_snps_used_sum</th>\n",
       "    </tr>\n",
       "    <tr>\n",
       "      <th>gene_id</th>\n",
       "      <th></th>\n",
       "      <th></th>\n",
       "      <th></th>\n",
       "      <th></th>\n",
       "    </tr>\n",
       "  </thead>\n",
       "  <tbody>\n",
       "    <tr>\n",
       "      <th>ENSG00000000419</th>\n",
       "      <td>DPM1</td>\n",
       "      <td>(Brain_Hypothalamus, Brain_Substantia_nigra)</td>\n",
       "      <td>2</td>\n",
       "      <td>2</td>\n",
       "    </tr>\n",
       "    <tr>\n",
       "      <th>ENSG00000000938</th>\n",
       "      <td>FGR</td>\n",
       "      <td>(Colon_Sigmoid, Colon_Transverse, Skin_Sun_Exp...</td>\n",
       "      <td>36</td>\n",
       "      <td>40</td>\n",
       "    </tr>\n",
       "    <tr>\n",
       "      <th>ENSG00000000971</th>\n",
       "      <td>CFH</td>\n",
       "      <td>(Colon_Sigmoid, Colon_Transverse, Brain_Substa...</td>\n",
       "      <td>34</td>\n",
       "      <td>44</td>\n",
       "    </tr>\n",
       "    <tr>\n",
       "      <th>ENSG00000001084</th>\n",
       "      <td>GCLC</td>\n",
       "      <td>(Colon_Transverse, Brain_Substantia_nigra, Ski...</td>\n",
       "      <td>32</td>\n",
       "      <td>46</td>\n",
       "    </tr>\n",
       "    <tr>\n",
       "      <th>ENSG00000001167</th>\n",
       "      <td>NFYA</td>\n",
       "      <td>(Colon_Sigmoid, Colon_Transverse, Skin_Sun_Exp...</td>\n",
       "      <td>40</td>\n",
       "      <td>47</td>\n",
       "    </tr>\n",
       "  </tbody>\n",
       "</table>\n",
       "</div>"
      ],
      "text/plain": [
       "                gene_name                                             tissue  \\\n",
       "gene_id                                                                        \n",
       "ENSG00000000419      DPM1       (Brain_Hypothalamus, Brain_Substantia_nigra)   \n",
       "ENSG00000000938       FGR  (Colon_Sigmoid, Colon_Transverse, Skin_Sun_Exp...   \n",
       "ENSG00000000971       CFH  (Colon_Sigmoid, Colon_Transverse, Brain_Substa...   \n",
       "ENSG00000001084      GCLC  (Colon_Transverse, Brain_Substantia_nigra, Ski...   \n",
       "ENSG00000001167      NFYA  (Colon_Sigmoid, Colon_Transverse, Skin_Sun_Exp...   \n",
       "\n",
       "                 n_tissues  n_snps_used_sum  \n",
       "gene_id                                      \n",
       "ENSG00000000419          2                2  \n",
       "ENSG00000000938         36               40  \n",
       "ENSG00000000971         34               44  \n",
       "ENSG00000001084         32               46  \n",
       "ENSG00000001167         40               47  "
      ]
     },
     "execution_count": 116,
     "metadata": {},
     "output_type": "execute_result"
    }
   ],
   "source": [
    "spredixcan_genes_models.head()"
   ]
  },
  {
   "cell_type": "markdown",
   "id": "f4692315-d7be-465e-b756-f6d76fec949e",
   "metadata": {
    "papermill": {
     "duration": 0.016382,
     "end_time": "2022-11-29T22:08:57.110587",
     "exception": false,
     "start_time": "2022-11-29T22:08:57.094205",
     "status": "completed"
    },
    "tags": []
   },
   "source": [
    "### Count number of SNPs predictors in models across tissue models"
   ]
  },
  {
   "cell_type": "code",
   "execution_count": 117,
   "id": "08eed385-36eb-4e42-b28e-51333f9cfcd3",
   "metadata": {
    "execution": {
     "iopub.execute_input": "2022-11-29T22:08:57.144687Z",
     "iopub.status.busy": "2022-11-29T22:08:57.144137Z",
     "iopub.status.idle": "2022-11-29T22:08:57.204264Z",
     "shell.execute_reply": "2022-11-29T22:08:57.203697Z"
    },
    "papermill": {
     "duration": 0.078313,
     "end_time": "2022-11-29T22:08:57.205294",
     "exception": false,
     "start_time": "2022-11-29T22:08:57.126981",
     "status": "completed"
    },
    "tags": []
   },
   "outputs": [],
   "source": [
    "spredixcan_genes_sum_of_n_snps_in_model = (\n",
    "    spredixcan_dfs.groupby(\"gene_id\")[\"n_snps_in_model\"]\n",
    "    .sum()\n",
    "    .rename(\"n_snps_in_model_sum\")\n",
    ")"
   ]
  },
  {
   "cell_type": "code",
   "execution_count": 118,
   "id": "10431f5c-1f56-4664-a09f-53c608bec631",
   "metadata": {
    "execution": {
     "iopub.execute_input": "2022-11-29T22:08:57.239920Z",
     "iopub.status.busy": "2022-11-29T22:08:57.239399Z",
     "iopub.status.idle": "2022-11-29T22:08:57.263445Z",
     "shell.execute_reply": "2022-11-29T22:08:57.262939Z"
    },
    "papermill": {
     "duration": 0.042226,
     "end_time": "2022-11-29T22:08:57.264252",
     "exception": false,
     "start_time": "2022-11-29T22:08:57.222026",
     "status": "completed"
    },
    "tags": []
   },
   "outputs": [
    {
     "data": {
      "text/plain": [
       "gene_id\n",
       "ENSG00000000419     2\n",
       "ENSG00000000938    40\n",
       "ENSG00000000971    44\n",
       "ENSG00000001084    46\n",
       "ENSG00000001167    48\n",
       "                   ..\n",
       "ENSG00000278540    44\n",
       "ENSG00000278828     5\n",
       "ENSG00000278845    91\n",
       "ENSG00000281005    81\n",
       "ENSG00000282608    40\n",
       "Name: n_snps_in_model_sum, Length: 6443, dtype: int64"
      ]
     },
     "execution_count": 118,
     "metadata": {},
     "output_type": "execute_result"
    }
   ],
   "source": [
    "spredixcan_genes_sum_of_n_snps_in_model"
   ]
  },
  {
   "cell_type": "code",
   "execution_count": 119,
   "id": "d13e1d65-0dcb-4a94-aba8-bcdcd09d17c3",
   "metadata": {
    "execution": {
     "iopub.execute_input": "2022-11-29T22:08:57.298657Z",
     "iopub.status.busy": "2022-11-29T22:08:57.298204Z",
     "iopub.status.idle": "2022-11-29T22:08:57.320972Z",
     "shell.execute_reply": "2022-11-29T22:08:57.320285Z"
    },
    "papermill": {
     "duration": 0.041226,
     "end_time": "2022-11-29T22:08:57.322009",
     "exception": false,
     "start_time": "2022-11-29T22:08:57.280783",
     "status": "completed"
    },
    "tags": []
   },
   "outputs": [],
   "source": [
    "# add sum of snps in model to spredixcan_genes_models\n",
    "spredixcan_genes_models = spredixcan_genes_models.join(\n",
    "    spredixcan_genes_sum_of_n_snps_in_model\n",
    ")"
   ]
  },
  {
   "cell_type": "code",
   "execution_count": 120,
   "id": "0d3973d8-5da2-4c9d-b406-2525f615035c",
   "metadata": {
    "execution": {
     "iopub.execute_input": "2022-11-29T22:08:57.356899Z",
     "iopub.status.busy": "2022-11-29T22:08:57.356446Z",
     "iopub.status.idle": "2022-11-29T22:08:57.374811Z",
     "shell.execute_reply": "2022-11-29T22:08:57.374218Z"
    },
    "papermill": {
     "duration": 0.036694,
     "end_time": "2022-11-29T22:08:57.375731",
     "exception": false,
     "start_time": "2022-11-29T22:08:57.339037",
     "status": "completed"
    },
    "tags": []
   },
   "outputs": [
    {
     "data": {
      "text/plain": [
       "(6443, 5)"
      ]
     },
     "execution_count": 120,
     "metadata": {},
     "output_type": "execute_result"
    }
   ],
   "source": [
    "spredixcan_genes_models.shape"
   ]
  },
  {
   "cell_type": "code",
   "execution_count": 121,
   "id": "76c27f05-c5c6-4ed9-9363-fcba871a3572",
   "metadata": {
    "execution": {
     "iopub.execute_input": "2022-11-29T22:08:57.410878Z",
     "iopub.status.busy": "2022-11-29T22:08:57.410642Z",
     "iopub.status.idle": "2022-11-29T22:08:57.434440Z",
     "shell.execute_reply": "2022-11-29T22:08:57.433840Z"
    },
    "papermill": {
     "duration": 0.042256,
     "end_time": "2022-11-29T22:08:57.435407",
     "exception": false,
     "start_time": "2022-11-29T22:08:57.393151",
     "status": "completed"
    },
    "tags": []
   },
   "outputs": [
    {
     "data": {
      "text/html": [
       "<div>\n",
       "<style scoped>\n",
       "    .dataframe tbody tr th:only-of-type {\n",
       "        vertical-align: middle;\n",
       "    }\n",
       "\n",
       "    .dataframe tbody tr th {\n",
       "        vertical-align: top;\n",
       "    }\n",
       "\n",
       "    .dataframe thead th {\n",
       "        text-align: right;\n",
       "    }\n",
       "</style>\n",
       "<table border=\"1\" class=\"dataframe\">\n",
       "  <thead>\n",
       "    <tr style=\"text-align: right;\">\n",
       "      <th></th>\n",
       "      <th>gene_name</th>\n",
       "      <th>tissue</th>\n",
       "      <th>n_tissues</th>\n",
       "      <th>n_snps_used_sum</th>\n",
       "      <th>n_snps_in_model_sum</th>\n",
       "    </tr>\n",
       "    <tr>\n",
       "      <th>gene_id</th>\n",
       "      <th></th>\n",
       "      <th></th>\n",
       "      <th></th>\n",
       "      <th></th>\n",
       "      <th></th>\n",
       "    </tr>\n",
       "  </thead>\n",
       "  <tbody>\n",
       "    <tr>\n",
       "      <th>ENSG00000000419</th>\n",
       "      <td>DPM1</td>\n",
       "      <td>(Brain_Hypothalamus, Brain_Substantia_nigra)</td>\n",
       "      <td>2</td>\n",
       "      <td>2</td>\n",
       "      <td>2</td>\n",
       "    </tr>\n",
       "    <tr>\n",
       "      <th>ENSG00000000938</th>\n",
       "      <td>FGR</td>\n",
       "      <td>(Colon_Sigmoid, Colon_Transverse, Skin_Sun_Exp...</td>\n",
       "      <td>36</td>\n",
       "      <td>40</td>\n",
       "      <td>40</td>\n",
       "    </tr>\n",
       "    <tr>\n",
       "      <th>ENSG00000000971</th>\n",
       "      <td>CFH</td>\n",
       "      <td>(Colon_Sigmoid, Colon_Transverse, Brain_Substa...</td>\n",
       "      <td>34</td>\n",
       "      <td>44</td>\n",
       "      <td>44</td>\n",
       "    </tr>\n",
       "    <tr>\n",
       "      <th>ENSG00000001084</th>\n",
       "      <td>GCLC</td>\n",
       "      <td>(Colon_Transverse, Brain_Substantia_nigra, Ski...</td>\n",
       "      <td>32</td>\n",
       "      <td>46</td>\n",
       "      <td>46</td>\n",
       "    </tr>\n",
       "    <tr>\n",
       "      <th>ENSG00000001167</th>\n",
       "      <td>NFYA</td>\n",
       "      <td>(Colon_Sigmoid, Colon_Transverse, Skin_Sun_Exp...</td>\n",
       "      <td>40</td>\n",
       "      <td>47</td>\n",
       "      <td>48</td>\n",
       "    </tr>\n",
       "  </tbody>\n",
       "</table>\n",
       "</div>"
      ],
      "text/plain": [
       "                gene_name                                             tissue  \\\n",
       "gene_id                                                                        \n",
       "ENSG00000000419      DPM1       (Brain_Hypothalamus, Brain_Substantia_nigra)   \n",
       "ENSG00000000938       FGR  (Colon_Sigmoid, Colon_Transverse, Skin_Sun_Exp...   \n",
       "ENSG00000000971       CFH  (Colon_Sigmoid, Colon_Transverse, Brain_Substa...   \n",
       "ENSG00000001084      GCLC  (Colon_Transverse, Brain_Substantia_nigra, Ski...   \n",
       "ENSG00000001167      NFYA  (Colon_Sigmoid, Colon_Transverse, Skin_Sun_Exp...   \n",
       "\n",
       "                 n_tissues  n_snps_used_sum  n_snps_in_model_sum  \n",
       "gene_id                                                           \n",
       "ENSG00000000419          2                2                    2  \n",
       "ENSG00000000938         36               40                   40  \n",
       "ENSG00000000971         34               44                   44  \n",
       "ENSG00000001084         32               46                   46  \n",
       "ENSG00000001167         40               47                   48  "
      ]
     },
     "execution_count": 121,
     "metadata": {},
     "output_type": "execute_result"
    }
   ],
   "source": [
    "spredixcan_genes_models.head()"
   ]
  },
  {
   "cell_type": "markdown",
   "id": "e9f61a50-a5b5-4c85-9dec-3ceaaf65c61d",
   "metadata": {
    "papermill": {
     "duration": 0.016682,
     "end_time": "2022-11-29T22:08:57.469540",
     "exception": false,
     "start_time": "2022-11-29T22:08:57.452858",
     "status": "completed"
    },
    "tags": []
   },
   "source": [
    "### Summarize prediction models for each gene"
   ]
  },
  {
   "cell_type": "code",
   "execution_count": 122,
   "id": "4f44928f-b401-4abb-ac00-3b15b2746504",
   "metadata": {
    "execution": {
     "iopub.execute_input": "2022-11-29T22:08:57.505023Z",
     "iopub.status.busy": "2022-11-29T22:08:57.504355Z",
     "iopub.status.idle": "2022-11-29T22:08:57.522096Z",
     "shell.execute_reply": "2022-11-29T22:08:57.521503Z"
    },
    "papermill": {
     "duration": 0.036462,
     "end_time": "2022-11-29T22:08:57.523082",
     "exception": false,
     "start_time": "2022-11-29T22:08:57.486620",
     "status": "completed"
    },
    "tags": []
   },
   "outputs": [],
   "source": [
    "# def _summarize_gene_models(gene_id):\n",
    "#     \"\"\"\n",
    "#     For a given gene ID, it returns a dataframe with predictor SNPs in rows and tissues in columns, where\n",
    "#     values are the weights of SNPs in those tissues.\n",
    "#     It can contain NaNs.\n",
    "#     \"\"\"\n",
    "#     gene_obj = spredixcan_gene_obj[gene_id]\n",
    "#     gene_tissues = spredixcan_genes_models.loc[gene_id, \"tissue\"]\n",
    "\n",
    "#     gene_models = {}\n",
    "#     gene_unique_snps = set()\n",
    "#     for t in gene_tissues:\n",
    "#         gene_model = gene_obj.get_prediction_weights(tissue=t, model_type=EQTL_MODEL)\n",
    "#         gene_models[t] = gene_model\n",
    "\n",
    "#         gene_unique_snps.update(set(gene_model.index))\n",
    "\n",
    "#     df = pd.DataFrame(\n",
    "#         data=np.nan, index=list(gene_unique_snps), columns=list(gene_tissues)\n",
    "#     )\n",
    "\n",
    "#     for t in df.columns:\n",
    "#         for snp in df.index:\n",
    "#             gene_model = gene_models[t]\n",
    "\n",
    "#             if snp in gene_model.index:\n",
    "#                 df.loc[snp, t] = gene_model.loc[snp]\n",
    "\n",
    "#     return df"
   ]
  },
  {
   "cell_type": "code",
   "execution_count": 123,
   "id": "71bb0b5a-fe44-4076-91df-d8077ff85c71",
   "metadata": {
    "execution": {
     "iopub.execute_input": "2022-11-29T22:08:57.558391Z",
     "iopub.status.busy": "2022-11-29T22:08:57.557933Z",
     "iopub.status.idle": "2022-11-29T22:08:57.574344Z",
     "shell.execute_reply": "2022-11-29T22:08:57.573764Z"
    },
    "papermill": {
     "duration": 0.034915,
     "end_time": "2022-11-29T22:08:57.575315",
     "exception": false,
     "start_time": "2022-11-29T22:08:57.540400",
     "status": "completed"
    },
    "tags": []
   },
   "outputs": [],
   "source": [
    "# # testing\n",
    "# spredixcan_gene_obj[\"ENSG00000000419\"].get_prediction_weights(\n",
    "#     tissue=\"Brain_Hypothalamus\", model_type=EQTL_MODEL\n",
    "# )"
   ]
  },
  {
   "cell_type": "code",
   "execution_count": 124,
   "id": "ad18b2d9-f585-445b-a809-bd694d417a8a",
   "metadata": {
    "execution": {
     "iopub.execute_input": "2022-11-29T22:08:57.610706Z",
     "iopub.status.busy": "2022-11-29T22:08:57.610190Z",
     "iopub.status.idle": "2022-11-29T22:08:57.626931Z",
     "shell.execute_reply": "2022-11-29T22:08:57.626332Z"
    },
    "papermill": {
     "duration": 0.035373,
     "end_time": "2022-11-29T22:08:57.627989",
     "exception": false,
     "start_time": "2022-11-29T22:08:57.592616",
     "status": "completed"
    },
    "tags": []
   },
   "outputs": [],
   "source": [
    "# spredixcan_gene_obj[\"ENSG00000000419\"].get_prediction_weights(\n",
    "#     tissue=\"Brain_Substantia_nigra\", model_type=EQTL_MODEL\n",
    "# )"
   ]
  },
  {
   "cell_type": "code",
   "execution_count": 125,
   "id": "82ef5dec-283c-44ee-a118-b28d87a5b298",
   "metadata": {
    "execution": {
     "iopub.execute_input": "2022-11-29T22:08:57.663156Z",
     "iopub.status.busy": "2022-11-29T22:08:57.662926Z",
     "iopub.status.idle": "2022-11-29T22:08:57.680090Z",
     "shell.execute_reply": "2022-11-29T22:08:57.679498Z"
    },
    "papermill": {
     "duration": 0.035658,
     "end_time": "2022-11-29T22:08:57.681008",
     "exception": false,
     "start_time": "2022-11-29T22:08:57.645350",
     "status": "completed"
    },
    "tags": []
   },
   "outputs": [],
   "source": [
    "# # testing\n",
    "# _gene_id = \"ENSG00000000419\"\n",
    "\n",
    "# _gene_model = _summarize_gene_models(_gene_id)\n",
    "# assert (\n",
    "#     _gene_model.loc[\"chr20_50862947_C_T_b38\", \"Brain_Hypothalamus\"].round(5) == 0.43138\n",
    "# )\n",
    "# assert pd.isnull(_gene_model.loc[\"chr20_50957480_C_T_b38\", \"Brain_Hypothalamus\"])\n",
    "\n",
    "# assert pd.isnull(_gene_model.loc[\"chr20_50862947_C_T_b38\", \"Brain_Substantia_nigra\"])\n",
    "# assert (\n",
    "#     _gene_model.loc[\"chr20_50957480_C_T_b38\", \"Brain_Substantia_nigra\"].round(5)\n",
    "#     == -0.1468\n",
    "# )"
   ]
  },
  {
   "cell_type": "code",
   "execution_count": 126,
   "id": "134a7533-69e8-4858-8763-1fd45cbdec77",
   "metadata": {
    "execution": {
     "iopub.execute_input": "2022-11-29T22:08:57.715990Z",
     "iopub.status.busy": "2022-11-29T22:08:57.715753Z",
     "iopub.status.idle": "2022-11-29T22:08:57.732639Z",
     "shell.execute_reply": "2022-11-29T22:08:57.732034Z"
    },
    "papermill": {
     "duration": 0.035361,
     "end_time": "2022-11-29T22:08:57.733649",
     "exception": false,
     "start_time": "2022-11-29T22:08:57.698288",
     "status": "completed"
    },
    "tags": []
   },
   "outputs": [],
   "source": [
    "# gene_models = {}\n",
    "\n",
    "# for gene_id in spredixcan_genes_models.index:\n",
    "#     gene_models[gene_id] = _summarize_gene_models(gene_id)"
   ]
  },
  {
   "cell_type": "code",
   "execution_count": 127,
   "id": "97117dc0-0476-4e7b-98cb-6738dbb28c8a",
   "metadata": {
    "execution": {
     "iopub.execute_input": "2022-11-29T22:08:57.768935Z",
     "iopub.status.busy": "2022-11-29T22:08:57.768306Z",
     "iopub.status.idle": "2022-11-29T22:08:57.785376Z",
     "shell.execute_reply": "2022-11-29T22:08:57.784782Z"
    },
    "papermill": {
     "duration": 0.035552,
     "end_time": "2022-11-29T22:08:57.786369",
     "exception": false,
     "start_time": "2022-11-29T22:08:57.750817",
     "status": "completed"
    },
    "tags": []
   },
   "outputs": [],
   "source": [
    "# # testing\n",
    "# _gene_id = \"ENSG00000000419\"\n",
    "\n",
    "# _gene_model = gene_models[_gene_id]\n",
    "# assert (\n",
    "#     _gene_model.loc[\"chr20_50862947_C_T_b38\", \"Brain_Hypothalamus\"].round(5) == 0.43138\n",
    "# )\n",
    "# assert pd.isnull(_gene_model.loc[\"chr20_50957480_C_T_b38\", \"Brain_Hypothalamus\"])\n",
    "\n",
    "# assert pd.isnull(_gene_model.loc[\"chr20_50862947_C_T_b38\", \"Brain_Substantia_nigra\"])\n",
    "# assert (\n",
    "#     _gene_model.loc[\"chr20_50957480_C_T_b38\", \"Brain_Substantia_nigra\"].round(5)\n",
    "#     == -0.1468\n",
    "# )"
   ]
  },
  {
   "cell_type": "code",
   "execution_count": 128,
   "id": "806cd4a5-51b1-4ed3-8aa3-4970c128ccff",
   "metadata": {
    "execution": {
     "iopub.execute_input": "2022-11-29T22:08:57.821797Z",
     "iopub.status.busy": "2022-11-29T22:08:57.821558Z",
     "iopub.status.idle": "2022-11-29T22:08:57.838861Z",
     "shell.execute_reply": "2022-11-29T22:08:57.838274Z"
    },
    "papermill": {
     "duration": 0.036033,
     "end_time": "2022-11-29T22:08:57.839758",
     "exception": false,
     "start_time": "2022-11-29T22:08:57.803725",
     "status": "completed"
    },
    "tags": []
   },
   "outputs": [],
   "source": [
    "# # save\n",
    "# import gzip\n",
    "\n",
    "# with gzip.GzipFile(OUTPUT_DIR_BASE / \"gene_tissues_models.pkl.gz\", \"w\") as f:\n",
    "#     pickle.dump(gene_models, f)"
   ]
  },
  {
   "cell_type": "code",
   "execution_count": 129,
   "id": "a12a9597-dd0a-40a0-9a42-f288af22e0d2",
   "metadata": {
    "execution": {
     "iopub.execute_input": "2022-11-29T22:08:57.874991Z",
     "iopub.status.busy": "2022-11-29T22:08:57.874765Z",
     "iopub.status.idle": "2022-11-29T22:08:57.892012Z",
     "shell.execute_reply": "2022-11-29T22:08:57.891425Z"
    },
    "papermill": {
     "duration": 0.03588,
     "end_time": "2022-11-29T22:08:57.892944",
     "exception": false,
     "start_time": "2022-11-29T22:08:57.857064",
     "status": "completed"
    },
    "tags": []
   },
   "outputs": [],
   "source": [
    "# # testing saved file\n",
    "# with gzip.GzipFile(OUTPUT_DIR_BASE / \"gene_tissues_models.pkl.gz\", \"r\") as f:\n",
    "#     _tmp = pickle.load(f)"
   ]
  },
  {
   "cell_type": "code",
   "execution_count": 130,
   "id": "a90a8f83-75db-4f73-8f1a-7e0563ba3685",
   "metadata": {
    "execution": {
     "iopub.execute_input": "2022-11-29T22:08:57.928476Z",
     "iopub.status.busy": "2022-11-29T22:08:57.927953Z",
     "iopub.status.idle": "2022-11-29T22:08:57.945397Z",
     "shell.execute_reply": "2022-11-29T22:08:57.944817Z"
    },
    "papermill": {
     "duration": 0.036126,
     "end_time": "2022-11-29T22:08:57.946288",
     "exception": false,
     "start_time": "2022-11-29T22:08:57.910162",
     "status": "completed"
    },
    "tags": []
   },
   "outputs": [],
   "source": [
    "# assert len(gene_models) == len(_tmp)\n",
    "# assert gene_models[\"ENSG00000000419\"].equals(_tmp[\"ENSG00000000419\"])"
   ]
  },
  {
   "cell_type": "markdown",
   "id": "a147f3a8-4efd-457b-9581-00cbfacd4b3d",
   "metadata": {
    "papermill": {
     "duration": 0.017078,
     "end_time": "2022-11-29T22:08:57.980709",
     "exception": false,
     "start_time": "2022-11-29T22:08:57.963631",
     "status": "completed"
    },
    "tags": []
   },
   "source": [
    "### Count number of _unique_ SNPs predictors used and available across tissue models"
   ]
  },
  {
   "cell_type": "code",
   "execution_count": 131,
   "id": "38d5bc57-3c25-4abe-93bd-09bbe200f2ef",
   "metadata": {
    "execution": {
     "iopub.execute_input": "2022-11-29T22:08:58.040162Z",
     "iopub.status.busy": "2022-11-29T22:08:58.039692Z",
     "iopub.status.idle": "2022-11-29T22:08:58.056930Z",
     "shell.execute_reply": "2022-11-29T22:08:58.056333Z"
    },
    "papermill": {
     "duration": 0.036235,
     "end_time": "2022-11-29T22:08:58.057890",
     "exception": false,
     "start_time": "2022-11-29T22:08:58.021655",
     "status": "completed"
    },
    "tags": []
   },
   "outputs": [],
   "source": [
    "# def _count_unique_snps(gene_id):\n",
    "#     \"\"\"\n",
    "#     For a gene_id, it counts unique SNPs in all models and their intersection with GWAS SNPs (therefore, used by S-PrediXcan).\n",
    "#     \"\"\"\n",
    "#     gene_tissues = spredixcan_genes_models.loc[gene_id, \"tissue\"]\n",
    "\n",
    "#     gene_unique_snps = set()\n",
    "#     for t in gene_tissues:\n",
    "#         t_snps = set(gene_models[gene_id].index)\n",
    "#         gene_unique_snps.update(t_snps)\n",
    "\n",
    "#     gene_unique_snps_in_gwas = gwas_variants_ids_set.intersection(gene_unique_snps)\n",
    "\n",
    "#     return pd.Series(\n",
    "#         {\n",
    "#             \"unique_n_snps_in_model\": len(gene_unique_snps),\n",
    "#             \"unique_n_snps_used\": len(gene_unique_snps_in_gwas),\n",
    "#         }\n",
    "#     )"
   ]
  },
  {
   "cell_type": "code",
   "execution_count": 132,
   "id": "059c6e02-67e2-4376-a3e5-b815070779c9",
   "metadata": {
    "execution": {
     "iopub.execute_input": "2022-11-29T22:08:58.094072Z",
     "iopub.status.busy": "2022-11-29T22:08:58.093809Z",
     "iopub.status.idle": "2022-11-29T22:08:58.111777Z",
     "shell.execute_reply": "2022-11-29T22:08:58.111191Z"
    },
    "papermill": {
     "duration": 0.037202,
     "end_time": "2022-11-29T22:08:58.112751",
     "exception": false,
     "start_time": "2022-11-29T22:08:58.075549",
     "status": "completed"
    },
    "tags": []
   },
   "outputs": [],
   "source": [
    "# # testing\n",
    "# spredixcan_genes_models[spredixcan_genes_models[\"n_snps_used_sum\"] == 2].head()"
   ]
  },
  {
   "cell_type": "code",
   "execution_count": 133,
   "id": "4f8a444c-c3e2-4688-a50b-08481d41f614",
   "metadata": {
    "execution": {
     "iopub.execute_input": "2022-11-29T22:08:58.148762Z",
     "iopub.status.busy": "2022-11-29T22:08:58.148531Z",
     "iopub.status.idle": "2022-11-29T22:08:58.166581Z",
     "shell.execute_reply": "2022-11-29T22:08:58.166009Z"
    },
    "papermill": {
     "duration": 0.037135,
     "end_time": "2022-11-29T22:08:58.167516",
     "exception": false,
     "start_time": "2022-11-29T22:08:58.130381",
     "status": "completed"
    },
    "tags": []
   },
   "outputs": [],
   "source": [
    "# # case with two snps, not repeated across tissues\n",
    "# _gene_id = \"ENSG00000000419\"\n",
    "# display(\n",
    "#     spredixcan_gene_obj[_gene_id].get_prediction_weights(\n",
    "#         tissue=\"Brain_Hypothalamus\", model_type=EQTL_MODEL\n",
    "#     )\n",
    "# )\n",
    "# display(\n",
    "#     spredixcan_gene_obj[_gene_id].get_prediction_weights(\n",
    "#         tissue=\"Brain_Substantia_nigra\", model_type=EQTL_MODEL\n",
    "#     )\n",
    "# )"
   ]
  },
  {
   "cell_type": "code",
   "execution_count": 134,
   "id": "f835cf57-eea6-4468-aaf2-d85c8164d177",
   "metadata": {
    "execution": {
     "iopub.execute_input": "2022-11-29T22:08:58.204048Z",
     "iopub.status.busy": "2022-11-29T22:08:58.203410Z",
     "iopub.status.idle": "2022-11-29T22:08:58.220979Z",
     "shell.execute_reply": "2022-11-29T22:08:58.220402Z"
    },
    "papermill": {
     "duration": 0.036692,
     "end_time": "2022-11-29T22:08:58.221907",
     "exception": false,
     "start_time": "2022-11-29T22:08:58.185215",
     "status": "completed"
    },
    "tags": []
   },
   "outputs": [],
   "source": [
    "# _tmp = _count_unique_snps(_gene_id)\n",
    "# assert _tmp.shape[0] == 2\n",
    "# assert _tmp[\"unique_n_snps_in_model\"] == 2\n",
    "# assert _tmp[\"unique_n_snps_used\"] == 2"
   ]
  },
  {
   "cell_type": "code",
   "execution_count": 135,
   "id": "520837f6-5cdd-4958-aa98-00cd1ebab484",
   "metadata": {
    "execution": {
     "iopub.execute_input": "2022-11-29T22:08:58.258533Z",
     "iopub.status.busy": "2022-11-29T22:08:58.258039Z",
     "iopub.status.idle": "2022-11-29T22:08:58.275536Z",
     "shell.execute_reply": "2022-11-29T22:08:58.274951Z"
    },
    "papermill": {
     "duration": 0.036871,
     "end_time": "2022-11-29T22:08:58.276501",
     "exception": false,
     "start_time": "2022-11-29T22:08:58.239630",
     "status": "completed"
    },
    "tags": []
   },
   "outputs": [],
   "source": [
    "# # get unique snps for all genes\n",
    "# spredixcan_genes_unique_n_snps = spredixcan_genes_models.groupby(\"gene_id\").apply(\n",
    "#     lambda x: _count_unique_snps(x.name)\n",
    "# )"
   ]
  },
  {
   "cell_type": "code",
   "execution_count": 136,
   "id": "72633373-73d7-4796-b915-06fcb18feca0",
   "metadata": {
    "execution": {
     "iopub.execute_input": "2022-11-29T22:08:58.313251Z",
     "iopub.status.busy": "2022-11-29T22:08:58.312642Z",
     "iopub.status.idle": "2022-11-29T22:08:58.329549Z",
     "shell.execute_reply": "2022-11-29T22:08:58.329035Z"
    },
    "papermill": {
     "duration": 0.035758,
     "end_time": "2022-11-29T22:08:58.330386",
     "exception": false,
     "start_time": "2022-11-29T22:08:58.294628",
     "status": "completed"
    },
    "tags": []
   },
   "outputs": [],
   "source": [
    "# spredixcan_genes_unique_n_snps.head()"
   ]
  },
  {
   "cell_type": "code",
   "execution_count": 137,
   "id": "3d2b6676-2168-44b8-8d02-d29b934ba2ec",
   "metadata": {
    "execution": {
     "iopub.execute_input": "2022-11-29T22:08:58.366576Z",
     "iopub.status.busy": "2022-11-29T22:08:58.366299Z",
     "iopub.status.idle": "2022-11-29T22:08:58.383352Z",
     "shell.execute_reply": "2022-11-29T22:08:58.382787Z"
    },
    "papermill": {
     "duration": 0.036074,
     "end_time": "2022-11-29T22:08:58.384270",
     "exception": false,
     "start_time": "2022-11-29T22:08:58.348196",
     "status": "completed"
    },
    "tags": []
   },
   "outputs": [],
   "source": [
    "# assert (\n",
    "#     spredixcan_genes_unique_n_snps[\"unique_n_snps_in_model\"]\n",
    "#     >= spredixcan_genes_unique_n_snps[\"unique_n_snps_used\"]\n",
    "# ).all()"
   ]
  },
  {
   "cell_type": "code",
   "execution_count": 138,
   "id": "6accf2fe-93fe-4f7c-86ff-5f0ea3d17e11",
   "metadata": {
    "execution": {
     "iopub.execute_input": "2022-11-29T22:08:58.420133Z",
     "iopub.status.busy": "2022-11-29T22:08:58.419850Z",
     "iopub.status.idle": "2022-11-29T22:08:58.437256Z",
     "shell.execute_reply": "2022-11-29T22:08:58.436685Z"
    },
    "papermill": {
     "duration": 0.036614,
     "end_time": "2022-11-29T22:08:58.438209",
     "exception": false,
     "start_time": "2022-11-29T22:08:58.401595",
     "status": "completed"
    },
    "tags": []
   },
   "outputs": [],
   "source": [
    "# # add unique snps to spredixcan_genes_models\n",
    "# spredixcan_genes_models = spredixcan_genes_models.join(spredixcan_genes_unique_n_snps)"
   ]
  },
  {
   "cell_type": "code",
   "execution_count": 139,
   "id": "25a28358-843b-4421-9d8f-8edc41f016e3",
   "metadata": {
    "execution": {
     "iopub.execute_input": "2022-11-29T22:08:58.473817Z",
     "iopub.status.busy": "2022-11-29T22:08:58.473545Z",
     "iopub.status.idle": "2022-11-29T22:08:58.490779Z",
     "shell.execute_reply": "2022-11-29T22:08:58.490207Z"
    },
    "papermill": {
     "duration": 0.036223,
     "end_time": "2022-11-29T22:08:58.491681",
     "exception": false,
     "start_time": "2022-11-29T22:08:58.455458",
     "status": "completed"
    },
    "tags": []
   },
   "outputs": [],
   "source": [
    "# spredixcan_genes_models.shape"
   ]
  },
  {
   "cell_type": "code",
   "execution_count": 140,
   "id": "ae4f0cd6-a823-4f55-82cf-1a78f0392acf",
   "metadata": {
    "execution": {
     "iopub.execute_input": "2022-11-29T22:08:58.528276Z",
     "iopub.status.busy": "2022-11-29T22:08:58.527822Z",
     "iopub.status.idle": "2022-11-29T22:08:58.545115Z",
     "shell.execute_reply": "2022-11-29T22:08:58.544541Z"
    },
    "papermill": {
     "duration": 0.036735,
     "end_time": "2022-11-29T22:08:58.545983",
     "exception": false,
     "start_time": "2022-11-29T22:08:58.509248",
     "status": "completed"
    },
    "tags": []
   },
   "outputs": [],
   "source": [
    "# spredixcan_genes_models.head()"
   ]
  },
  {
   "cell_type": "markdown",
   "id": "d6947d45-ea78-4c6b-bf71-f7413d1687e3",
   "metadata": {
    "papermill": {
     "duration": 0.017212,
     "end_time": "2022-11-29T22:08:58.580681",
     "exception": false,
     "start_time": "2022-11-29T22:08:58.563469",
     "status": "completed"
    },
    "tags": []
   },
   "source": [
    "### Save"
   ]
  },
  {
   "cell_type": "code",
   "execution_count": 141,
   "id": "ebc3a430-7bd5-4099-8b01-aa77e704e3e7",
   "metadata": {
    "execution": {
     "iopub.execute_input": "2022-11-29T22:08:58.616794Z",
     "iopub.status.busy": "2022-11-29T22:08:58.616183Z",
     "iopub.status.idle": "2022-11-29T22:08:58.634791Z",
     "shell.execute_reply": "2022-11-29T22:08:58.634219Z"
    },
    "papermill": {
     "duration": 0.037819,
     "end_time": "2022-11-29T22:08:58.635773",
     "exception": false,
     "start_time": "2022-11-29T22:08:58.597954",
     "status": "completed"
    },
    "tags": []
   },
   "outputs": [],
   "source": [
    "# this is important, other scripts depend on gene_name to be unique\n",
    "assert spredixcan_genes_models[\"gene_name\"].is_unique"
   ]
  },
  {
   "cell_type": "code",
   "execution_count": 142,
   "id": "e2db5302-3051-4492-97e1-e759d2fb512f",
   "metadata": {
    "execution": {
     "iopub.execute_input": "2022-11-29T22:08:58.671538Z",
     "iopub.status.busy": "2022-11-29T22:08:58.671271Z",
     "iopub.status.idle": "2022-11-29T22:08:58.692545Z",
     "shell.execute_reply": "2022-11-29T22:08:58.691965Z"
    },
    "papermill": {
     "duration": 0.040049,
     "end_time": "2022-11-29T22:08:58.693410",
     "exception": false,
     "start_time": "2022-11-29T22:08:58.653361",
     "status": "completed"
    },
    "tags": []
   },
   "outputs": [
    {
     "name": "stderr",
     "output_type": "stream",
     "text": [
      "/tmp/ipykernel_124/1381297071.py:1: FutureWarning: In a future version of pandas all arguments of DataFrame.any and Series.any will be keyword-only.\n",
      "  assert not spredixcan_genes_models.isna().any(None)\n"
     ]
    }
   ],
   "source": [
    "assert not spredixcan_genes_models.isna().any(None)"
   ]
  },
  {
   "cell_type": "code",
   "execution_count": 143,
   "id": "10e19441-8390-4eb1-8da4-24752597bb54",
   "metadata": {
    "execution": {
     "iopub.execute_input": "2022-11-29T22:08:58.729425Z",
     "iopub.status.busy": "2022-11-29T22:08:58.728855Z",
     "iopub.status.idle": "2022-11-29T22:08:58.762804Z",
     "shell.execute_reply": "2022-11-29T22:08:58.762214Z"
    },
    "papermill": {
     "duration": 0.052851,
     "end_time": "2022-11-29T22:08:58.763662",
     "exception": false,
     "start_time": "2022-11-29T22:08:58.710811",
     "status": "completed"
    },
    "tags": []
   },
   "outputs": [],
   "source": [
    "spredixcan_genes_models.to_pickle(OUTPUT_DIR_BASE / \"gene_tissues.pkl\")"
   ]
  },
  {
   "cell_type": "code",
   "execution_count": null,
   "id": "b25e3ead",
   "metadata": {
    "papermill": {
     "duration": 0.017176,
     "end_time": "2022-11-29T22:08:58.798113",
     "exception": false,
     "start_time": "2022-11-29T22:08:58.780937",
     "status": "completed"
    },
    "tags": []
   },
   "outputs": [],
   "source": []
  }
 ],
 "metadata": {
  "jupytext": {
   "cell_metadata_filter": "all,-execution,-papermill,-trusted",
   "formats": "ipynb,py//py:percent"
  },
  "kernelspec": {
   "display_name": "Python 3 (ipykernel)",
   "language": "python",
   "name": "python3"
  },
  "language_info": {
   "codemirror_mode": {
    "name": "ipython",
    "version": 3
   },
   "file_extension": ".py",
   "mimetype": "text/x-python",
   "name": "python",
   "nbconvert_exporter": "python",
   "pygments_lexer": "ipython3",
   "version": "3.10.6"
  },
  "papermill": {
   "default_parameters": {},
   "duration": 34.678102,
   "end_time": "2022-11-29T22:08:59.635804",
   "environment_variables": {},
   "exception": null,
   "input_path": "projects/asthma-copd/nbs/20_gene_corrs/07-compile_gwas_snps_and_twas_genes.ipynb",
   "output_path": "projects/asthma-copd/nbs/20_gene_corrs/gene_corrs/asthma_only/07-compile_gwas_snps_and_twas_genes.run.ipynb",
   "parameters": {
    "COHORT_NAME": "asthma_only",
    "GWAS_FILE": "/opt/data/projects/asthma-copd/results/final_imputed_gwas/GWAS_Asthma_only_GLM_SNPs_info0.7-harmonized-imputed.txt.gz",
    "OUTPUT_DIR_BASE": "/opt/data/projects/asthma-copd/results/gls_phenoplier",
    "SMULTIXCAN_FILE": "/opt/data/projects/asthma-copd/results/twas/smultixcan/GWAS_Asthma_only_GLM_SNPs_info0.7-gtex_v8-mashr-smultixcan.txt",
    "SPREDIXCAN_FILE_PATTERN": "GWAS_Asthma_only_GLM_SNPs_info0.7-gtex_v8-mashr-{tissue}.csv",
    "SPREDIXCAN_FOLDER": "/opt/data/projects/asthma-copd/results/twas/spredixcan"
   },
   "start_time": "2022-11-29T22:08:24.957702",
   "version": "2.2.2"
  },
  "toc-autonumbering": true
 },
 "nbformat": 4,
 "nbformat_minor": 5
}
