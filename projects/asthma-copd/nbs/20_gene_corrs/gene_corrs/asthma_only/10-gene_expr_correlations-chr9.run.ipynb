{
 "cells": [
  {
   "cell_type": "markdown",
   "id": "7a6632fb",
   "metadata": {
    "papermill": {
     "duration": 0.010587,
     "end_time": "2022-11-29T22:22:31.874551",
     "exception": false,
     "start_time": "2022-11-29T22:22:31.863964",
     "status": "completed"
    },
    "tags": []
   },
   "source": [
    "# Description"
   ]
  },
  {
   "cell_type": "markdown",
   "id": "7097c346",
   "metadata": {
    "papermill": {
     "duration": 0.011469,
     "end_time": "2022-11-29T22:22:31.899897",
     "exception": false,
     "start_time": "2022-11-29T22:22:31.888428",
     "status": "completed"
    },
    "tags": []
   },
   "source": [
    "(Please, take a look at the README.md file in this directory for instructions on how to run this notebook)\n",
    "\n",
    "This notebook computes predicted expression correlations between all genes in the MultiPLIER models.\n",
    "\n",
    "It has specicfic parameters for papermill (see under `Settings` below).\n",
    "It can be configured to run on a single chromosome to run in parallel.\n",
    "\n",
    "This notebook is not directly run. See README.md."
   ]
  },
  {
   "cell_type": "markdown",
   "id": "c61d8427",
   "metadata": {
    "papermill": {
     "duration": 0.007784,
     "end_time": "2022-11-29T22:22:31.915521",
     "exception": false,
     "start_time": "2022-11-29T22:22:31.907737",
     "status": "completed"
    },
    "tags": []
   },
   "source": [
    "# Modules"
   ]
  },
  {
   "cell_type": "code",
   "execution_count": 1,
   "id": "bbc0234f",
   "metadata": {
    "execution": {
     "iopub.execute_input": "2022-11-29T22:22:31.934029Z",
     "iopub.status.busy": "2022-11-29T22:22:31.933213Z",
     "iopub.status.idle": "2022-11-29T22:22:31.954922Z",
     "shell.execute_reply": "2022-11-29T22:22:31.954146Z"
    },
    "papermill": {
     "duration": 0.032653,
     "end_time": "2022-11-29T22:22:31.956770",
     "exception": false,
     "start_time": "2022-11-29T22:22:31.924117",
     "status": "completed"
    },
    "tags": []
   },
   "outputs": [],
   "source": [
    "%load_ext autoreload\n",
    "%autoreload 2"
   ]
  },
  {
   "cell_type": "code",
   "execution_count": 2,
   "id": "1d5f5a59",
   "metadata": {
    "execution": {
     "iopub.execute_input": "2022-11-29T22:22:31.974867Z",
     "iopub.status.busy": "2022-11-29T22:22:31.974435Z",
     "iopub.status.idle": "2022-11-29T22:22:32.653911Z",
     "shell.execute_reply": "2022-11-29T22:22:32.653387Z"
    },
    "papermill": {
     "duration": 0.690197,
     "end_time": "2022-11-29T22:22:32.655660",
     "exception": false,
     "start_time": "2022-11-29T22:22:31.965463",
     "status": "completed"
    },
    "tags": []
   },
   "outputs": [],
   "source": [
    "from random import sample, seed\n",
    "import warnings\n",
    "from pathlib import Path\n",
    "import pickle\n",
    "import traceback\n",
    "\n",
    "import numpy as np\n",
    "from scipy.spatial.distance import squareform\n",
    "import pandas as pd\n",
    "from tqdm import tqdm\n",
    "import matplotlib.pyplot as plt\n",
    "import seaborn as sns\n",
    "\n",
    "import conf\n",
    "from entity import Gene"
   ]
  },
  {
   "cell_type": "markdown",
   "id": "1eac24b5",
   "metadata": {
    "papermill": {
     "duration": 0.008447,
     "end_time": "2022-11-29T22:22:32.672785",
     "exception": false,
     "start_time": "2022-11-29T22:22:32.664338",
     "status": "completed"
    },
    "tags": []
   },
   "source": [
    "# Settings"
   ]
  },
  {
   "cell_type": "code",
   "execution_count": 3,
   "id": "ca4560ba",
   "metadata": {
    "execution": {
     "iopub.execute_input": "2022-11-29T22:22:32.691252Z",
     "iopub.status.busy": "2022-11-29T22:22:32.690774Z",
     "iopub.status.idle": "2022-11-29T22:22:32.718959Z",
     "shell.execute_reply": "2022-11-29T22:22:32.718474Z"
    },
    "papermill": {
     "duration": 0.039042,
     "end_time": "2022-11-29T22:22:32.720238",
     "exception": false,
     "start_time": "2022-11-29T22:22:32.681196",
     "status": "completed"
    },
    "tags": [
     "parameters"
    ]
   },
   "outputs": [],
   "source": [
    "# a cohort name (it could be something like UK_BIOBANK, etc)\n",
    "COHORT_NAME = None\n",
    "\n",
    "# reference panel such as 1000G or GTEX_V8\n",
    "REFERENCE_PANEL = \"GTEX_V8\"\n",
    "\n",
    "# predictions models such as MASHR or ELASTIC_NET\n",
    "EQTL_MODEL = \"MASHR\"\n",
    "\n",
    "# this is the default value used in S-MultiXcan to select the\n",
    "# top principal components of the expression correlation matrix\n",
    "SMULTIXCAN_CONDITION_NUMBER = 30\n",
    "\n",
    "# specifies a single chromosome value\n",
    "CHROMOSOME = None\n",
    "\n",
    "# If True, computes the correlation between closeby genes only;\n",
    "# otherwise, it computes correlations for all genes in a chromosome\n",
    "COMPUTE_CORRELATIONS_WITHIN_DISTANCE = False\n",
    "\n",
    "# if True, then it will continue if a gene pair correlation fails,\n",
    "# printing the warning/error for debugging. If False, any warning/error\n",
    "# will be thrown\n",
    "DEBUG_MODE = False\n",
    "\n",
    "# output dir\n",
    "OUTPUT_DIR_BASE = None"
   ]
  },
  {
   "cell_type": "code",
   "execution_count": 4,
   "id": "40bd551c",
   "metadata": {
    "execution": {
     "iopub.execute_input": "2022-11-29T22:22:32.729917Z",
     "iopub.status.busy": "2022-11-29T22:22:32.729485Z",
     "iopub.status.idle": "2022-11-29T22:22:32.744709Z",
     "shell.execute_reply": "2022-11-29T22:22:32.744121Z"
    },
    "papermill": {
     "duration": 0.021115,
     "end_time": "2022-11-29T22:22:32.745857",
     "exception": false,
     "start_time": "2022-11-29T22:22:32.724742",
     "status": "completed"
    },
    "tags": [
     "injected-parameters"
    ]
   },
   "outputs": [],
   "source": [
    "# Parameters\n",
    "COHORT_NAME = \"asthma_only\"\n",
    "CHROMOSOME = 9\n",
    "OUTPUT_DIR_BASE = \"/opt/data/projects/asthma-copd/results/gls_phenoplier\"\n"
   ]
  },
  {
   "cell_type": "code",
   "execution_count": 5,
   "id": "3190631f-27fc-480f-b18e-571d580425a5",
   "metadata": {
    "execution": {
     "iopub.execute_input": "2022-11-29T22:22:32.756432Z",
     "iopub.status.busy": "2022-11-29T22:22:32.755825Z",
     "iopub.status.idle": "2022-11-29T22:22:32.776388Z",
     "shell.execute_reply": "2022-11-29T22:22:32.775906Z"
    },
    "papermill": {
     "duration": 0.026779,
     "end_time": "2022-11-29T22:22:32.777210",
     "exception": false,
     "start_time": "2022-11-29T22:22:32.750431",
     "status": "completed"
    },
    "tags": []
   },
   "outputs": [
    {
     "data": {
      "text/plain": [
       "'Cohort name: asthma_only'"
      ]
     },
     "metadata": {},
     "output_type": "display_data"
    }
   ],
   "source": [
    "assert COHORT_NAME is not None and len(COHORT_NAME) > 0, \"A cohort name must be given\"\n",
    "\n",
    "COHORT_NAME = COHORT_NAME.lower()\n",
    "display(f\"Cohort name: {COHORT_NAME}\")"
   ]
  },
  {
   "cell_type": "code",
   "execution_count": 6,
   "id": "f53ba19b-0f93-4fa2-a047-63b375939d1a",
   "metadata": {
    "execution": {
     "iopub.execute_input": "2022-11-29T22:22:32.786924Z",
     "iopub.status.busy": "2022-11-29T22:22:32.786690Z",
     "iopub.status.idle": "2022-11-29T22:22:32.805059Z",
     "shell.execute_reply": "2022-11-29T22:22:32.804579Z"
    },
    "papermill": {
     "duration": 0.02424,
     "end_time": "2022-11-29T22:22:32.806116",
     "exception": false,
     "start_time": "2022-11-29T22:22:32.781876",
     "status": "completed"
    },
    "tags": []
   },
   "outputs": [
    {
     "data": {
      "text/plain": [
       "'Reference panel: GTEX_V8'"
      ]
     },
     "metadata": {},
     "output_type": "display_data"
    }
   ],
   "source": [
    "assert (\n",
    "    REFERENCE_PANEL is not None and len(REFERENCE_PANEL) > 0\n",
    "), \"A reference panel must be given\"\n",
    "\n",
    "display(f\"Reference panel: {REFERENCE_PANEL}\")"
   ]
  },
  {
   "cell_type": "code",
   "execution_count": 7,
   "id": "e024d130-c139-429a-9c6e-ccf149e297b0",
   "metadata": {
    "execution": {
     "iopub.execute_input": "2022-11-29T22:22:32.816562Z",
     "iopub.status.busy": "2022-11-29T22:22:32.816412Z",
     "iopub.status.idle": "2022-11-29T22:22:32.833873Z",
     "shell.execute_reply": "2022-11-29T22:22:32.833313Z"
    },
    "papermill": {
     "duration": 0.023635,
     "end_time": "2022-11-29T22:22:32.835108",
     "exception": false,
     "start_time": "2022-11-29T22:22:32.811473",
     "status": "completed"
    },
    "tags": []
   },
   "outputs": [
    {
     "data": {
      "text/plain": [
       "'eQTL model: MASHR) / mashr_'"
      ]
     },
     "metadata": {},
     "output_type": "display_data"
    }
   ],
   "source": [
    "assert (\n",
    "    EQTL_MODEL is not None and len(EQTL_MODEL) > 0\n",
    "), \"A prediction/eQTL model must be given\"\n",
    "\n",
    "EQTL_MODEL_FILES_PREFIX = conf.PHENOMEXCAN[\"PREDICTION_MODELS\"][f\"{EQTL_MODEL}_PREFIX\"]\n",
    "display(f\"eQTL model: {EQTL_MODEL}) / {EQTL_MODEL_FILES_PREFIX}\")"
   ]
  },
  {
   "cell_type": "code",
   "execution_count": 8,
   "id": "552a7f63-a18c-4d3e-bb6a-94f99b431291",
   "metadata": {
    "execution": {
     "iopub.execute_input": "2022-11-29T22:22:32.848146Z",
     "iopub.status.busy": "2022-11-29T22:22:32.847742Z",
     "iopub.status.idle": "2022-11-29T22:22:32.869792Z",
     "shell.execute_reply": "2022-11-29T22:22:32.869286Z"
    },
    "papermill": {
     "duration": 0.02868,
     "end_time": "2022-11-29T22:22:32.870968",
     "exception": false,
     "start_time": "2022-11-29T22:22:32.842288",
     "status": "completed"
    },
    "tags": []
   },
   "outputs": [
    {
     "data": {
      "text/plain": [
       "'S-MultiXcan condition number: 30'"
      ]
     },
     "metadata": {},
     "output_type": "display_data"
    }
   ],
   "source": [
    "assert (\n",
    "    SMULTIXCAN_CONDITION_NUMBER is not None and SMULTIXCAN_CONDITION_NUMBER > 0\n",
    "), \"The S-MultiXcan condition number (positive integer) must be given\"\n",
    "\n",
    "display(f\"S-MultiXcan condition number: {SMULTIXCAN_CONDITION_NUMBER}\")"
   ]
  },
  {
   "cell_type": "code",
   "execution_count": 9,
   "id": "f34a336f-548e-4afe-8955-90eaea4f42c6",
   "metadata": {
    "execution": {
     "iopub.execute_input": "2022-11-29T22:22:32.882264Z",
     "iopub.status.busy": "2022-11-29T22:22:32.881890Z",
     "iopub.status.idle": "2022-11-29T22:22:32.904120Z",
     "shell.execute_reply": "2022-11-29T22:22:32.903618Z"
    },
    "papermill": {
     "duration": 0.02869,
     "end_time": "2022-11-29T22:22:32.905366",
     "exception": false,
     "start_time": "2022-11-29T22:22:32.876676",
     "status": "completed"
    },
    "tags": []
   },
   "outputs": [
    {
     "data": {
      "text/plain": [
       "'Working on chromosome 9'"
      ]
     },
     "metadata": {},
     "output_type": "display_data"
    }
   ],
   "source": [
    "assert CHROMOSOME is not None and (\n",
    "    1 <= CHROMOSOME <= 22\n",
    "), \"You have to select one chromosome (format: number between 1 and 22)\"\n",
    "\n",
    "# CHROMOSOME = str(CHROMOSOME)\n",
    "display(f\"Working on chromosome {CHROMOSOME}\")"
   ]
  },
  {
   "cell_type": "code",
   "execution_count": 10,
   "id": "ab8e96e8-06b5-4363-9dcd-dc4d78cc27f7",
   "metadata": {
    "execution": {
     "iopub.execute_input": "2022-11-29T22:22:32.918897Z",
     "iopub.status.busy": "2022-11-29T22:22:32.918425Z",
     "iopub.status.idle": "2022-11-29T22:22:32.954092Z",
     "shell.execute_reply": "2022-11-29T22:22:32.953451Z"
    },
    "papermill": {
     "duration": 0.042343,
     "end_time": "2022-11-29T22:22:32.955067",
     "exception": false,
     "start_time": "2022-11-29T22:22:32.912724",
     "status": "completed"
    },
    "tags": []
   },
   "outputs": [
    {
     "data": {
      "text/plain": [
       "'Compute correlation within distance False'"
      ]
     },
     "metadata": {},
     "output_type": "display_data"
    }
   ],
   "source": [
    "display(f\"Compute correlation within distance {COMPUTE_CORRELATIONS_WITHIN_DISTANCE}\")"
   ]
  },
  {
   "cell_type": "code",
   "execution_count": 11,
   "id": "b393b698-77e3-4ba2-8ac1-e14d51aa988f",
   "metadata": {
    "execution": {
     "iopub.execute_input": "2022-11-29T22:22:32.965713Z",
     "iopub.status.busy": "2022-11-29T22:22:32.965301Z",
     "iopub.status.idle": "2022-11-29T22:22:32.997634Z",
     "shell.execute_reply": "2022-11-29T22:22:32.997127Z"
    },
    "papermill": {
     "duration": 0.039014,
     "end_time": "2022-11-29T22:22:32.998880",
     "exception": false,
     "start_time": "2022-11-29T22:22:32.959866",
     "status": "completed"
    },
    "tags": []
   },
   "outputs": [
    {
     "data": {
      "text/plain": [
       "'Using output dir base: /opt/data/projects/asthma-copd/results/gls_phenoplier/gene_corrs/asthma_only'"
      ]
     },
     "metadata": {},
     "output_type": "display_data"
    }
   ],
   "source": [
    "assert (\n",
    "    OUTPUT_DIR_BASE is not None and len(OUTPUT_DIR_BASE) > 0\n",
    "), \"Output directory path must be given\"\n",
    "\n",
    "OUTPUT_DIR_BASE = (\n",
    "    Path(OUTPUT_DIR_BASE)\n",
    "    / \"gene_corrs\"\n",
    "    / COHORT_NAME\n",
    "    # / REFERENCE_PANEL.lower()\n",
    "    # / EQTL_MODEL.lower()\n",
    ").resolve()\n",
    "\n",
    "OUTPUT_DIR_BASE.mkdir(parents=True, exist_ok=True)\n",
    "\n",
    "display(f\"Using output dir base: {OUTPUT_DIR_BASE}\")"
   ]
  },
  {
   "cell_type": "markdown",
   "id": "d2ba085e",
   "metadata": {
    "papermill": {
     "duration": 0.00459,
     "end_time": "2022-11-29T22:22:33.008695",
     "exception": false,
     "start_time": "2022-11-29T22:22:33.004105",
     "status": "completed"
    },
    "tags": []
   },
   "source": [
    "# Load data"
   ]
  },
  {
   "cell_type": "markdown",
   "id": "7dcb8db7",
   "metadata": {
    "papermill": {
     "duration": 0.004551,
     "end_time": "2022-11-29T22:22:33.017952",
     "exception": false,
     "start_time": "2022-11-29T22:22:33.013401",
     "status": "completed"
    },
    "tags": []
   },
   "source": [
    "## GWAS variants"
   ]
  },
  {
   "cell_type": "code",
   "execution_count": 12,
   "id": "29434c4e-8cd3-4b9b-82e4-b5a251d9dd19",
   "metadata": {
    "execution": {
     "iopub.execute_input": "2022-11-29T22:22:33.029019Z",
     "iopub.status.busy": "2022-11-29T22:22:33.028598Z",
     "iopub.status.idle": "2022-11-29T22:22:35.212203Z",
     "shell.execute_reply": "2022-11-29T22:22:35.211671Z"
    },
    "papermill": {
     "duration": 2.190693,
     "end_time": "2022-11-29T22:22:35.213753",
     "exception": false,
     "start_time": "2022-11-29T22:22:33.023060",
     "status": "completed"
    },
    "tags": []
   },
   "outputs": [],
   "source": [
    "with open(OUTPUT_DIR_BASE / \"gwas_variant_ids.pkl\", \"rb\") as handle:\n",
    "    gwas_variants_ids_set = pickle.load(handle)"
   ]
  },
  {
   "cell_type": "code",
   "execution_count": 13,
   "id": "b9d9dec2-4a76-4bf9-bde2-e24c95acb8a0",
   "metadata": {
    "execution": {
     "iopub.execute_input": "2022-11-29T22:22:35.230140Z",
     "iopub.status.busy": "2022-11-29T22:22:35.229950Z",
     "iopub.status.idle": "2022-11-29T22:22:35.246064Z",
     "shell.execute_reply": "2022-11-29T22:22:35.245677Z"
    },
    "papermill": {
     "duration": 0.027641,
     "end_time": "2022-11-29T22:22:35.246940",
     "exception": false,
     "start_time": "2022-11-29T22:22:35.219299",
     "status": "completed"
    },
    "tags": []
   },
   "outputs": [
    {
     "data": {
      "text/plain": [
       "8578486"
      ]
     },
     "execution_count": 13,
     "metadata": {},
     "output_type": "execute_result"
    }
   ],
   "source": [
    "len(gwas_variants_ids_set)"
   ]
  },
  {
   "cell_type": "code",
   "execution_count": 14,
   "id": "4235b06a-6034-4ee4-a0a3-2ae35d122418",
   "metadata": {
    "execution": {
     "iopub.execute_input": "2022-11-29T22:22:35.258378Z",
     "iopub.status.busy": "2022-11-29T22:22:35.258206Z",
     "iopub.status.idle": "2022-11-29T22:22:36.261500Z",
     "shell.execute_reply": "2022-11-29T22:22:36.260937Z"
    },
    "papermill": {
     "duration": 1.010746,
     "end_time": "2022-11-29T22:22:36.262480",
     "exception": false,
     "start_time": "2022-11-29T22:22:35.251734",
     "status": "completed"
    },
    "tags": []
   },
   "outputs": [
    {
     "data": {
      "text/plain": [
       "['chr9_76243768_G_GC_b38',\n",
       " 'chr12_51138446_T_C_b38',\n",
       " 'chr7_79653897_G_A_b38',\n",
       " 'chr2_173028557_T_A_b38',\n",
       " 'chr7_72093807_C_T_b38']"
      ]
     },
     "execution_count": 14,
     "metadata": {},
     "output_type": "execute_result"
    }
   ],
   "source": [
    "list(gwas_variants_ids_set)[:5]"
   ]
  },
  {
   "cell_type": "markdown",
   "id": "07866999-2305-41f9-a144-e69c9122c212",
   "metadata": {
    "papermill": {
     "duration": 0.005132,
     "end_time": "2022-11-29T22:22:36.272880",
     "exception": false,
     "start_time": "2022-11-29T22:22:36.267748",
     "status": "completed"
    },
    "tags": []
   },
   "source": [
    "## S-PrediXcan tissue models"
   ]
  },
  {
   "cell_type": "code",
   "execution_count": 15,
   "id": "780611d9-77c8-405f-90a4-f271f7b09397",
   "metadata": {
    "execution": {
     "iopub.execute_input": "2022-11-29T22:22:36.284715Z",
     "iopub.status.busy": "2022-11-29T22:22:36.284482Z",
     "iopub.status.idle": "2022-11-29T22:22:36.708483Z",
     "shell.execute_reply": "2022-11-29T22:22:36.707990Z"
    },
    "papermill": {
     "duration": 0.431989,
     "end_time": "2022-11-29T22:22:36.710171",
     "exception": false,
     "start_time": "2022-11-29T22:22:36.278182",
     "status": "completed"
    },
    "tags": []
   },
   "outputs": [],
   "source": [
    "spredixcan_genes_models = pd.read_pickle(OUTPUT_DIR_BASE / \"gene_tissues.pkl\")"
   ]
  },
  {
   "cell_type": "code",
   "execution_count": 16,
   "id": "726dd1f6-9557-4225-91fa-b3b879ea96e1",
   "metadata": {
    "execution": {
     "iopub.execute_input": "2022-11-29T22:22:36.731859Z",
     "iopub.status.busy": "2022-11-29T22:22:36.731692Z",
     "iopub.status.idle": "2022-11-29T22:22:36.745901Z",
     "shell.execute_reply": "2022-11-29T22:22:36.745478Z"
    },
    "papermill": {
     "duration": 0.026968,
     "end_time": "2022-11-29T22:22:36.747310",
     "exception": false,
     "start_time": "2022-11-29T22:22:36.720342",
     "status": "completed"
    },
    "tags": []
   },
   "outputs": [
    {
     "data": {
      "text/plain": [
       "(6443, 5)"
      ]
     },
     "execution_count": 16,
     "metadata": {},
     "output_type": "execute_result"
    }
   ],
   "source": [
    "spredixcan_genes_models.shape"
   ]
  },
  {
   "cell_type": "code",
   "execution_count": 17,
   "id": "944a1b48-222c-4eb0-b252-b9de2cbca215",
   "metadata": {
    "execution": {
     "iopub.execute_input": "2022-11-29T22:22:36.773818Z",
     "iopub.status.busy": "2022-11-29T22:22:36.773407Z",
     "iopub.status.idle": "2022-11-29T22:22:36.802500Z",
     "shell.execute_reply": "2022-11-29T22:22:36.801970Z"
    },
    "papermill": {
     "duration": 0.047168,
     "end_time": "2022-11-29T22:22:36.804658",
     "exception": false,
     "start_time": "2022-11-29T22:22:36.757490",
     "status": "completed"
    },
    "tags": []
   },
   "outputs": [
    {
     "data": {
      "text/html": [
       "<div>\n",
       "<style scoped>\n",
       "    .dataframe tbody tr th:only-of-type {\n",
       "        vertical-align: middle;\n",
       "    }\n",
       "\n",
       "    .dataframe tbody tr th {\n",
       "        vertical-align: top;\n",
       "    }\n",
       "\n",
       "    .dataframe thead th {\n",
       "        text-align: right;\n",
       "    }\n",
       "</style>\n",
       "<table border=\"1\" class=\"dataframe\">\n",
       "  <thead>\n",
       "    <tr style=\"text-align: right;\">\n",
       "      <th></th>\n",
       "      <th>gene_name</th>\n",
       "      <th>tissue</th>\n",
       "      <th>n_tissues</th>\n",
       "      <th>n_snps_used_sum</th>\n",
       "      <th>n_snps_in_model_sum</th>\n",
       "    </tr>\n",
       "    <tr>\n",
       "      <th>gene_id</th>\n",
       "      <th></th>\n",
       "      <th></th>\n",
       "      <th></th>\n",
       "      <th></th>\n",
       "      <th></th>\n",
       "    </tr>\n",
       "  </thead>\n",
       "  <tbody>\n",
       "    <tr>\n",
       "      <th>ENSG00000000419</th>\n",
       "      <td>DPM1</td>\n",
       "      <td>(Brain_Hypothalamus, Brain_Substantia_nigra)</td>\n",
       "      <td>2</td>\n",
       "      <td>2</td>\n",
       "      <td>2</td>\n",
       "    </tr>\n",
       "    <tr>\n",
       "      <th>ENSG00000000938</th>\n",
       "      <td>FGR</td>\n",
       "      <td>(Brain_Frontal_Cortex_BA9, Whole_Blood, Adipos...</td>\n",
       "      <td>36</td>\n",
       "      <td>40</td>\n",
       "      <td>40</td>\n",
       "    </tr>\n",
       "    <tr>\n",
       "      <th>ENSG00000000971</th>\n",
       "      <td>CFH</td>\n",
       "      <td>(Brain_Frontal_Cortex_BA9, Whole_Blood, Artery...</td>\n",
       "      <td>34</td>\n",
       "      <td>44</td>\n",
       "      <td>44</td>\n",
       "    </tr>\n",
       "    <tr>\n",
       "      <th>ENSG00000001084</th>\n",
       "      <td>GCLC</td>\n",
       "      <td>(Brain_Frontal_Cortex_BA9, Whole_Blood, Artery...</td>\n",
       "      <td>32</td>\n",
       "      <td>46</td>\n",
       "      <td>46</td>\n",
       "    </tr>\n",
       "    <tr>\n",
       "      <th>ENSG00000001167</th>\n",
       "      <td>NFYA</td>\n",
       "      <td>(Whole_Blood, Adipose_Visceral_Omentum, Esopha...</td>\n",
       "      <td>40</td>\n",
       "      <td>47</td>\n",
       "      <td>48</td>\n",
       "    </tr>\n",
       "  </tbody>\n",
       "</table>\n",
       "</div>"
      ],
      "text/plain": [
       "                gene_name                                             tissue  \\\n",
       "gene_id                                                                        \n",
       "ENSG00000000419      DPM1       (Brain_Hypothalamus, Brain_Substantia_nigra)   \n",
       "ENSG00000000938       FGR  (Brain_Frontal_Cortex_BA9, Whole_Blood, Adipos...   \n",
       "ENSG00000000971       CFH  (Brain_Frontal_Cortex_BA9, Whole_Blood, Artery...   \n",
       "ENSG00000001084      GCLC  (Brain_Frontal_Cortex_BA9, Whole_Blood, Artery...   \n",
       "ENSG00000001167      NFYA  (Whole_Blood, Adipose_Visceral_Omentum, Esopha...   \n",
       "\n",
       "                 n_tissues  n_snps_used_sum  n_snps_in_model_sum  \n",
       "gene_id                                                           \n",
       "ENSG00000000419          2                2                    2  \n",
       "ENSG00000000938         36               40                   40  \n",
       "ENSG00000000971         34               44                   44  \n",
       "ENSG00000001084         32               46                   46  \n",
       "ENSG00000001167         40               47                   48  "
      ]
     },
     "execution_count": 17,
     "metadata": {},
     "output_type": "execute_result"
    }
   ],
   "source": [
    "spredixcan_genes_models.head()"
   ]
  },
  {
   "cell_type": "code",
   "execution_count": 18,
   "id": "d1c11bb1-be0b-4f40-b360-633d6827109f",
   "metadata": {
    "execution": {
     "iopub.execute_input": "2022-11-29T22:22:36.839113Z",
     "iopub.status.busy": "2022-11-29T22:22:36.838820Z",
     "iopub.status.idle": "2022-11-29T22:22:36.858254Z",
     "shell.execute_reply": "2022-11-29T22:22:36.857728Z"
    },
    "papermill": {
     "duration": 0.038297,
     "end_time": "2022-11-29T22:22:36.860095",
     "exception": false,
     "start_time": "2022-11-29T22:22:36.821798",
     "status": "completed"
    },
    "tags": []
   },
   "outputs": [],
   "source": [
    "assert spredixcan_genes_models.index.is_unique"
   ]
  },
  {
   "cell_type": "markdown",
   "id": "a5b5092c-a13e-47c4-a92a-480fcc08f3ae",
   "metadata": {
    "papermill": {
     "duration": 0.01259,
     "end_time": "2022-11-29T22:22:36.886259",
     "exception": false,
     "start_time": "2022-11-29T22:22:36.873669",
     "status": "completed"
    },
    "tags": []
   },
   "source": [
    "## Gene info"
   ]
  },
  {
   "cell_type": "code",
   "execution_count": 19,
   "id": "7d6bb224-88e9-4358-ac10-43a41d92cdad",
   "metadata": {
    "execution": {
     "iopub.execute_input": "2022-11-29T22:22:36.905444Z",
     "iopub.status.busy": "2022-11-29T22:22:36.905234Z",
     "iopub.status.idle": "2022-11-29T22:22:36.933703Z",
     "shell.execute_reply": "2022-11-29T22:22:36.933321Z"
    },
    "papermill": {
     "duration": 0.040741,
     "end_time": "2022-11-29T22:22:36.935448",
     "exception": false,
     "start_time": "2022-11-29T22:22:36.894707",
     "status": "completed"
    },
    "tags": []
   },
   "outputs": [],
   "source": [
    "genes_info = pd.read_pickle(OUTPUT_DIR_BASE / \"genes_info.pkl\")"
   ]
  },
  {
   "cell_type": "code",
   "execution_count": 20,
   "id": "9e32abfa-546d-483e-8c18-d526e9e05903",
   "metadata": {
    "execution": {
     "iopub.execute_input": "2022-11-29T22:22:36.949921Z",
     "iopub.status.busy": "2022-11-29T22:22:36.949770Z",
     "iopub.status.idle": "2022-11-29T22:22:36.966314Z",
     "shell.execute_reply": "2022-11-29T22:22:36.966007Z"
    },
    "papermill": {
     "duration": 0.023063,
     "end_time": "2022-11-29T22:22:36.967149",
     "exception": false,
     "start_time": "2022-11-29T22:22:36.944086",
     "status": "completed"
    },
    "tags": []
   },
   "outputs": [
    {
     "data": {
      "text/plain": [
       "(6443, 7)"
      ]
     },
     "execution_count": 20,
     "metadata": {},
     "output_type": "execute_result"
    }
   ],
   "source": [
    "genes_info.shape"
   ]
  },
  {
   "cell_type": "code",
   "execution_count": 21,
   "id": "d16c3e92-85ec-468a-9a56-e25a9774a1cb",
   "metadata": {
    "execution": {
     "iopub.execute_input": "2022-11-29T22:22:36.978510Z",
     "iopub.status.busy": "2022-11-29T22:22:36.978322Z",
     "iopub.status.idle": "2022-11-29T22:22:36.997240Z",
     "shell.execute_reply": "2022-11-29T22:22:36.996889Z"
    },
    "papermill": {
     "duration": 0.025501,
     "end_time": "2022-11-29T22:22:36.998113",
     "exception": false,
     "start_time": "2022-11-29T22:22:36.972612",
     "status": "completed"
    },
    "tags": []
   },
   "outputs": [
    {
     "data": {
      "text/html": [
       "<div>\n",
       "<style scoped>\n",
       "    .dataframe tbody tr th:only-of-type {\n",
       "        vertical-align: middle;\n",
       "    }\n",
       "\n",
       "    .dataframe tbody tr th {\n",
       "        vertical-align: top;\n",
       "    }\n",
       "\n",
       "    .dataframe thead th {\n",
       "        text-align: right;\n",
       "    }\n",
       "</style>\n",
       "<table border=\"1\" class=\"dataframe\">\n",
       "  <thead>\n",
       "    <tr style=\"text-align: right;\">\n",
       "      <th></th>\n",
       "      <th>name</th>\n",
       "      <th>id</th>\n",
       "      <th>chr</th>\n",
       "      <th>band</th>\n",
       "      <th>start_position</th>\n",
       "      <th>end_position</th>\n",
       "      <th>gene_length</th>\n",
       "    </tr>\n",
       "  </thead>\n",
       "  <tbody>\n",
       "    <tr>\n",
       "      <th>0</th>\n",
       "      <td>UBE4B</td>\n",
       "      <td>ENSG00000130939</td>\n",
       "      <td>1</td>\n",
       "      <td>1p36.22</td>\n",
       "      <td>10032832</td>\n",
       "      <td>10181239</td>\n",
       "      <td>148407</td>\n",
       "    </tr>\n",
       "    <tr>\n",
       "      <th>1</th>\n",
       "      <td>STX18</td>\n",
       "      <td>ENSG00000168818</td>\n",
       "      <td>4</td>\n",
       "      <td>4p16.2</td>\n",
       "      <td>4415742</td>\n",
       "      <td>4542346</td>\n",
       "      <td>126604</td>\n",
       "    </tr>\n",
       "    <tr>\n",
       "      <th>2</th>\n",
       "      <td>DNM2</td>\n",
       "      <td>ENSG00000079805</td>\n",
       "      <td>19</td>\n",
       "      <td>19p13.2</td>\n",
       "      <td>10718079</td>\n",
       "      <td>10833488</td>\n",
       "      <td>115409</td>\n",
       "    </tr>\n",
       "    <tr>\n",
       "      <th>3</th>\n",
       "      <td>PLD1</td>\n",
       "      <td>ENSG00000075651</td>\n",
       "      <td>3</td>\n",
       "      <td>3q26.31</td>\n",
       "      <td>171600404</td>\n",
       "      <td>171810950</td>\n",
       "      <td>210546</td>\n",
       "    </tr>\n",
       "    <tr>\n",
       "      <th>4</th>\n",
       "      <td>ANKRD55</td>\n",
       "      <td>ENSG00000164512</td>\n",
       "      <td>5</td>\n",
       "      <td>5q11.2</td>\n",
       "      <td>56099680</td>\n",
       "      <td>56233330</td>\n",
       "      <td>133650</td>\n",
       "    </tr>\n",
       "  </tbody>\n",
       "</table>\n",
       "</div>"
      ],
      "text/plain": [
       "      name               id  chr     band  start_position  end_position  \\\n",
       "0    UBE4B  ENSG00000130939    1  1p36.22        10032832      10181239   \n",
       "1    STX18  ENSG00000168818    4   4p16.2         4415742       4542346   \n",
       "2     DNM2  ENSG00000079805   19  19p13.2        10718079      10833488   \n",
       "3     PLD1  ENSG00000075651    3  3q26.31       171600404     171810950   \n",
       "4  ANKRD55  ENSG00000164512    5   5q11.2        56099680      56233330   \n",
       "\n",
       "   gene_length  \n",
       "0       148407  \n",
       "1       126604  \n",
       "2       115409  \n",
       "3       210546  \n",
       "4       133650  "
      ]
     },
     "execution_count": 21,
     "metadata": {},
     "output_type": "execute_result"
    }
   ],
   "source": [
    "genes_info.head()"
   ]
  },
  {
   "cell_type": "markdown",
   "id": "d3843e06",
   "metadata": {
    "papermill": {
     "duration": 0.005227,
     "end_time": "2022-11-29T22:22:37.008781",
     "exception": false,
     "start_time": "2022-11-29T22:22:37.003554",
     "status": "completed"
    },
    "tags": []
   },
   "source": [
    "# Compute correlations"
   ]
  },
  {
   "cell_type": "code",
   "execution_count": 22,
   "id": "cb859c15-d1f3-4006-a74c-2b83c0db9611",
   "metadata": {
    "execution": {
     "iopub.execute_input": "2022-11-29T22:22:37.020296Z",
     "iopub.status.busy": "2022-11-29T22:22:37.020082Z",
     "iopub.status.idle": "2022-11-29T22:22:37.038013Z",
     "shell.execute_reply": "2022-11-29T22:22:37.037691Z"
    },
    "papermill": {
     "duration": 0.024634,
     "end_time": "2022-11-29T22:22:37.038848",
     "exception": false,
     "start_time": "2022-11-29T22:22:37.014214",
     "status": "completed"
    },
    "tags": []
   },
   "outputs": [
    {
     "data": {
      "text/plain": [
       "PosixPath('/opt/data/projects/asthma-copd/results/gls_phenoplier/gene_corrs/asthma_only/by_chr/gene_corrs-chr9.pkl')"
      ]
     },
     "metadata": {},
     "output_type": "display_data"
    }
   ],
   "source": [
    "output_dir = OUTPUT_DIR_BASE / \"by_chr\"\n",
    "output_dir.mkdir(exist_ok=True, parents=True)\n",
    "output_file = output_dir / f\"gene_corrs-chr{CHROMOSOME}.pkl\"\n",
    "display(output_file)"
   ]
  },
  {
   "cell_type": "code",
   "execution_count": 23,
   "id": "aa674fe4-6794-4eed-98fa-32b39d1d4ace",
   "metadata": {
    "execution": {
     "iopub.execute_input": "2022-11-29T22:22:37.050785Z",
     "iopub.status.busy": "2022-11-29T22:22:37.050628Z",
     "iopub.status.idle": "2022-11-29T22:22:37.064642Z",
     "shell.execute_reply": "2022-11-29T22:22:37.064216Z"
    },
    "papermill": {
     "duration": 0.02124,
     "end_time": "2022-11-29T22:22:37.065667",
     "exception": false,
     "start_time": "2022-11-29T22:22:37.044427",
     "status": "completed"
    },
    "tags": []
   },
   "outputs": [],
   "source": [
    "warnings.filterwarnings(\"error\")"
   ]
  },
  {
   "cell_type": "code",
   "execution_count": 24,
   "id": "44d5450b-3baf-43f1-9e2e-4b06f1a785f8",
   "metadata": {
    "execution": {
     "iopub.execute_input": "2022-11-29T22:22:37.077500Z",
     "iopub.status.busy": "2022-11-29T22:22:37.077296Z",
     "iopub.status.idle": "2022-11-29T22:22:37.095175Z",
     "shell.execute_reply": "2022-11-29T22:22:37.094877Z"
    },
    "papermill": {
     "duration": 0.024744,
     "end_time": "2022-11-29T22:22:37.096095",
     "exception": false,
     "start_time": "2022-11-29T22:22:37.071351",
     "status": "completed"
    },
    "tags": []
   },
   "outputs": [],
   "source": [
    "# standard checks\n",
    "all_chrs = genes_info[\"chr\"].dropna().unique()\n",
    "assert all_chrs.shape[0] == 22\n",
    "\n",
    "# select chromosome given by the user\n",
    "assert CHROMOSOME in all_chrs"
   ]
  },
  {
   "cell_type": "code",
   "execution_count": 25,
   "id": "2d7c043c-92a7-4d35-991b-fa69ac1e0268",
   "metadata": {
    "execution": {
     "iopub.execute_input": "2022-11-29T22:22:37.108289Z",
     "iopub.status.busy": "2022-11-29T22:22:37.108138Z",
     "iopub.status.idle": "2022-11-29T22:22:37.124708Z",
     "shell.execute_reply": "2022-11-29T22:22:37.124329Z"
    },
    "papermill": {
     "duration": 0.023599,
     "end_time": "2022-11-29T22:22:37.125531",
     "exception": false,
     "start_time": "2022-11-29T22:22:37.101932",
     "status": "completed"
    },
    "tags": []
   },
   "outputs": [
    {
     "name": "stdout",
     "output_type": "stream",
     "text": [
      "Number of genes in chromosome: 245\n"
     ]
    }
   ],
   "source": [
    "# run only on the chromosome specified\n",
    "all_chrs = [CHROMOSOME]\n",
    "genes_chr = genes_info[genes_info[\"chr\"] == CHROMOSOME]\n",
    "\n",
    "# For testing purposes\n",
    "# genes_chr = genes_chr.sample(n=20)\n",
    "\n",
    "print(f\"Number of genes in chromosome: {genes_chr.shape[0]}\", flush=True)"
   ]
  },
  {
   "cell_type": "code",
   "execution_count": 26,
   "id": "916015d8-2979-46d3-a9b9-1cf5a0932c6a",
   "metadata": {
    "execution": {
     "iopub.execute_input": "2022-11-29T22:22:37.137251Z",
     "iopub.status.busy": "2022-11-29T22:22:37.137122Z",
     "iopub.status.idle": "2022-11-29T22:22:37.153059Z",
     "shell.execute_reply": "2022-11-29T22:22:37.152735Z"
    },
    "papermill": {
     "duration": 0.022864,
     "end_time": "2022-11-29T22:22:37.154066",
     "exception": false,
     "start_time": "2022-11-29T22:22:37.131202",
     "status": "completed"
    },
    "tags": []
   },
   "outputs": [],
   "source": [
    "# sort genes by starting position to make visualizations better later\n",
    "genes_chr = genes_chr.sort_values(\"start_position\")"
   ]
  },
  {
   "cell_type": "code",
   "execution_count": 27,
   "id": "a38aa74a-8ad3-47f6-8ef9-56be0e011774",
   "metadata": {
    "execution": {
     "iopub.execute_input": "2022-11-29T22:22:37.166064Z",
     "iopub.status.busy": "2022-11-29T22:22:37.165930Z",
     "iopub.status.idle": "2022-11-29T22:22:37.181564Z",
     "shell.execute_reply": "2022-11-29T22:22:37.181180Z"
    },
    "papermill": {
     "duration": 0.022626,
     "end_time": "2022-11-29T22:22:37.182615",
     "exception": false,
     "start_time": "2022-11-29T22:22:37.159989",
     "status": "completed"
    },
    "tags": []
   },
   "outputs": [],
   "source": [
    "gene_chr_objs = [Gene(ensembl_id=gene_id) for gene_id in genes_chr[\"id\"]]"
   ]
  },
  {
   "cell_type": "code",
   "execution_count": 28,
   "id": "570f974f-13c3-42b6-ad3a-ce99ca885c1a",
   "metadata": {
    "execution": {
     "iopub.execute_input": "2022-11-29T22:22:37.194628Z",
     "iopub.status.busy": "2022-11-29T22:22:37.194425Z",
     "iopub.status.idle": "2022-11-29T22:22:37.212290Z",
     "shell.execute_reply": "2022-11-29T22:22:37.211930Z"
    },
    "papermill": {
     "duration": 0.024756,
     "end_time": "2022-11-29T22:22:37.213090",
     "exception": false,
     "start_time": "2022-11-29T22:22:37.188334",
     "status": "completed"
    },
    "tags": []
   },
   "outputs": [
    {
     "name": "stdout",
     "output_type": "stream",
     "text": [
      "Number of gene combinations: 30135\n"
     ]
    }
   ],
   "source": [
    "n = len(gene_chr_objs)\n",
    "# diagonal elements + upper triangular matrix\n",
    "n_comb = n + int(n * (n - 1) / 2.0)\n",
    "print(f\"Number of gene combinations: {n_comb}\", flush=True)"
   ]
  },
  {
   "cell_type": "code",
   "execution_count": 29,
   "id": "cdbb90a1",
   "metadata": {
    "execution": {
     "iopub.execute_input": "2022-11-29T22:22:37.225083Z",
     "iopub.status.busy": "2022-11-29T22:22:37.224934Z",
     "iopub.status.idle": "2022-11-29T22:44:00.232040Z",
     "shell.execute_reply": "2022-11-29T22:44:00.231494Z"
    },
    "papermill": {
     "duration": 1283.014586,
     "end_time": "2022-11-29T22:44:00.233353",
     "exception": false,
     "start_time": "2022-11-29T22:22:37.218767",
     "status": "completed"
    },
    "tags": []
   },
   "outputs": [
    {
     "name": "stderr",
     "output_type": "stream",
     "text": [
      "ENSG00000181090 / ENSG00000181090: 100%|██████████████████████| 30135/30135 [21:22<00:00, 23.49it/s]\n"
     ]
    },
    {
     "data": {
      "text/plain": [
       "PosixPath('/opt/data/projects/asthma-copd/results/gls_phenoplier/gene_corrs/asthma_only/by_chr/gene_corrs-chr9.pkl')"
      ]
     },
     "metadata": {},
     "output_type": "display_data"
    }
   ],
   "source": [
    "gene_corrs = []\n",
    "gene_corrs_data = np.full(\n",
    "    (n, n),\n",
    "    np.nan,\n",
    "    dtype=np.float64,\n",
    ")\n",
    "\n",
    "i = 0\n",
    "with tqdm(ncols=100, total=n_comb) as pbar:\n",
    "    for gene1_idx in range(0, len(gene_chr_objs)):\n",
    "        gene1_obj = gene_chr_objs[gene1_idx]\n",
    "        gene1_tissues = spredixcan_genes_models.loc[gene1_obj.ensembl_id, \"tissue\"]\n",
    "\n",
    "        for gene2_idx in range(gene1_idx, len(gene_chr_objs)):\n",
    "            gene2_obj = gene_chr_objs[gene2_idx]\n",
    "            gene2_tissues = spredixcan_genes_models.loc[gene2_obj.ensembl_id, \"tissue\"]\n",
    "\n",
    "            pbar.set_description(f\"{gene1_obj.ensembl_id} / {gene2_obj.ensembl_id}\")\n",
    "\n",
    "            try:\n",
    "                r = gene1_obj.get_ssm_correlation(\n",
    "                    other_gene=gene2_obj,\n",
    "                    tissues=gene1_tissues,\n",
    "                    other_tissues=gene2_tissues,\n",
    "                    snps_subset=gwas_variants_ids_set,\n",
    "                    condition_number=SMULTIXCAN_CONDITION_NUMBER,\n",
    "                    reference_panel=REFERENCE_PANEL,\n",
    "                    model_type=EQTL_MODEL,\n",
    "                    use_within_distance=COMPUTE_CORRELATIONS_WITHIN_DISTANCE,\n",
    "                )\n",
    "\n",
    "                if r is None:\n",
    "                    # if r is None, it's very likely because:\n",
    "                    #  * one of the genes has no prediction models\n",
    "                    #  * all the SNPs predictors for the gene are not present in the reference\n",
    "                    #    panel\n",
    "\n",
    "                    r = 0.0\n",
    "\n",
    "                gene_corrs.append(r)\n",
    "\n",
    "                gene_corrs_data[gene1_idx, gene2_idx] = r\n",
    "                gene_corrs_data[gene2_idx, gene1_idx] = r\n",
    "            except Warning as e:\n",
    "                if not DEBUG_MODE:\n",
    "                    raise e\n",
    "\n",
    "                print(\n",
    "                    f\"RuntimeWarning for genes {gene1_obj.ensembl_id} and {gene2_obj.ensembl_id}\",\n",
    "                    flush=True,\n",
    "                )\n",
    "                print(traceback.format_exc(), flush=True)\n",
    "\n",
    "                gene_corrs.append(np.nan)\n",
    "            except Exception as e:\n",
    "                if not DEBUG_MODE:\n",
    "                    raise e\n",
    "\n",
    "                print(\n",
    "                    f\"Exception for genes {gene1_obj.ensembl_id} and {gene2_obj.ensembl_id}\",\n",
    "                    flush=True,\n",
    "                )\n",
    "                print(traceback.format_exc(), flush=True)\n",
    "\n",
    "                gene_corrs.append(np.nan)\n",
    "\n",
    "            pbar.update(1)\n",
    "\n",
    "# create a pandas series\n",
    "gene_corrs_flat = pd.Series(gene_corrs)\n",
    "\n",
    "# save\n",
    "# FIXME: consider saving only the condenced matrix here. See here for\n",
    "# more details: https://github.com/greenelab/phenoplier/pull/38#discussion_r634600813\n",
    "# gene_corrs_data = squareform(np.array(gene_corrs, dtype=np.float64))\n",
    "# np.fill_diagonal(gene_corrs_data, 1.0)\n",
    "\n",
    "gene_chr_ids = [g.ensembl_id for g in gene_chr_objs]\n",
    "gene_corrs_df = pd.DataFrame(\n",
    "    data=gene_corrs_data,\n",
    "    index=gene_chr_ids,\n",
    "    columns=gene_chr_ids,\n",
    ")\n",
    "\n",
    "output_dir.mkdir(exist_ok=True, parents=True)\n",
    "display(output_file)\n",
    "\n",
    "gene_corrs_df.to_pickle(output_file)"
   ]
  },
  {
   "cell_type": "markdown",
   "id": "faa67b51-5373-470f-aa72-2ded53fa6dfe",
   "metadata": {
    "papermill": {
     "duration": 1.219292,
     "end_time": "2022-11-29T22:44:02.646934",
     "exception": false,
     "start_time": "2022-11-29T22:44:01.427642",
     "status": "completed"
    },
    "tags": []
   },
   "source": [
    "# Testing"
   ]
  },
  {
   "cell_type": "code",
   "execution_count": 30,
   "id": "14f7d046-4b55-4896-a56b-990127bcc388",
   "metadata": {
    "execution": {
     "iopub.execute_input": "2022-11-29T22:44:04.990831Z",
     "iopub.status.busy": "2022-11-29T22:44:04.990511Z",
     "iopub.status.idle": "2022-11-29T22:44:05.011136Z",
     "shell.execute_reply": "2022-11-29T22:44:05.010652Z"
    },
    "papermill": {
     "duration": 1.215829,
     "end_time": "2022-11-29T22:44:05.011964",
     "exception": false,
     "start_time": "2022-11-29T22:44:03.796135",
     "status": "completed"
    },
    "tags": []
   },
   "outputs": [
    {
     "data": {
      "text/plain": [
       "(245, 245)"
      ]
     },
     "execution_count": 30,
     "metadata": {},
     "output_type": "execute_result"
    }
   ],
   "source": [
    "gene_corrs_df.shape"
   ]
  },
  {
   "cell_type": "code",
   "execution_count": 31,
   "id": "c7d15414-3297-4537-a7c6-7588c0baeb75",
   "metadata": {
    "execution": {
     "iopub.execute_input": "2022-11-29T22:44:07.374049Z",
     "iopub.status.busy": "2022-11-29T22:44:07.373419Z",
     "iopub.status.idle": "2022-11-29T22:44:07.411334Z",
     "shell.execute_reply": "2022-11-29T22:44:07.410809Z"
    },
    "papermill": {
     "duration": 1.234638,
     "end_time": "2022-11-29T22:44:07.412207",
     "exception": false,
     "start_time": "2022-11-29T22:44:06.177569",
     "status": "completed"
    },
    "tags": []
   },
   "outputs": [
    {
     "data": {
      "text/html": [
       "<div>\n",
       "<style scoped>\n",
       "    .dataframe tbody tr th:only-of-type {\n",
       "        vertical-align: middle;\n",
       "    }\n",
       "\n",
       "    .dataframe tbody tr th {\n",
       "        vertical-align: top;\n",
       "    }\n",
       "\n",
       "    .dataframe thead th {\n",
       "        text-align: right;\n",
       "    }\n",
       "</style>\n",
       "<table border=\"1\" class=\"dataframe\">\n",
       "  <thead>\n",
       "    <tr style=\"text-align: right;\">\n",
       "      <th></th>\n",
       "      <th>ENSG00000107099</th>\n",
       "      <th>ENSG00000080503</th>\n",
       "      <th>ENSG00000147852</th>\n",
       "      <th>ENSG00000107249</th>\n",
       "      <th>ENSG00000147853</th>\n",
       "      <th>ENSG00000096968</th>\n",
       "      <th>ENSG00000107014</th>\n",
       "      <th>ENSG00000120217</th>\n",
       "      <th>ENSG00000197646</th>\n",
       "      <th>ENSG00000178445</th>\n",
       "      <th>...</th>\n",
       "      <th>ENSG00000107317</th>\n",
       "      <th>ENSG00000169583</th>\n",
       "      <th>ENSG00000107331</th>\n",
       "      <th>ENSG00000054179</th>\n",
       "      <th>ENSG00000177239</th>\n",
       "      <th>ENSG00000176248</th>\n",
       "      <th>ENSG00000176101</th>\n",
       "      <th>ENSG00000188747</th>\n",
       "      <th>ENSG00000182154</th>\n",
       "      <th>ENSG00000181090</th>\n",
       "    </tr>\n",
       "  </thead>\n",
       "  <tbody>\n",
       "    <tr>\n",
       "      <th>ENSG00000107099</th>\n",
       "      <td>1.000000</td>\n",
       "      <td>0.004888</td>\n",
       "      <td>0.014346</td>\n",
       "      <td>0.011179</td>\n",
       "      <td>0.008516</td>\n",
       "      <td>0.010086</td>\n",
       "      <td>0.007350</td>\n",
       "      <td>0.010925</td>\n",
       "      <td>0.003667</td>\n",
       "      <td>0.007955</td>\n",
       "      <td>...</td>\n",
       "      <td>0.006178</td>\n",
       "      <td>0.004963</td>\n",
       "      <td>0.006625</td>\n",
       "      <td>0.010763</td>\n",
       "      <td>0.007247</td>\n",
       "      <td>0.006464</td>\n",
       "      <td>0.005777</td>\n",
       "      <td>0.012972</td>\n",
       "      <td>0.002313</td>\n",
       "      <td>0.003386</td>\n",
       "    </tr>\n",
       "    <tr>\n",
       "      <th>ENSG00000080503</th>\n",
       "      <td>0.004888</td>\n",
       "      <td>1.000000</td>\n",
       "      <td>0.013387</td>\n",
       "      <td>0.009019</td>\n",
       "      <td>0.008423</td>\n",
       "      <td>0.010715</td>\n",
       "      <td>0.006403</td>\n",
       "      <td>0.009085</td>\n",
       "      <td>0.005355</td>\n",
       "      <td>0.011907</td>\n",
       "      <td>...</td>\n",
       "      <td>0.007584</td>\n",
       "      <td>0.010396</td>\n",
       "      <td>0.007528</td>\n",
       "      <td>0.010023</td>\n",
       "      <td>0.007058</td>\n",
       "      <td>0.008733</td>\n",
       "      <td>0.008615</td>\n",
       "      <td>0.007522</td>\n",
       "      <td>0.004690</td>\n",
       "      <td>0.007634</td>\n",
       "    </tr>\n",
       "    <tr>\n",
       "      <th>ENSG00000147852</th>\n",
       "      <td>0.014346</td>\n",
       "      <td>0.013387</td>\n",
       "      <td>1.000000</td>\n",
       "      <td>0.013510</td>\n",
       "      <td>0.014940</td>\n",
       "      <td>0.019684</td>\n",
       "      <td>0.015293</td>\n",
       "      <td>0.019233</td>\n",
       "      <td>0.009658</td>\n",
       "      <td>0.014789</td>\n",
       "      <td>...</td>\n",
       "      <td>0.013755</td>\n",
       "      <td>0.014284</td>\n",
       "      <td>0.012455</td>\n",
       "      <td>0.021487</td>\n",
       "      <td>0.016526</td>\n",
       "      <td>0.011880</td>\n",
       "      <td>0.004817</td>\n",
       "      <td>0.012046</td>\n",
       "      <td>0.008420</td>\n",
       "      <td>0.012126</td>\n",
       "    </tr>\n",
       "    <tr>\n",
       "      <th>ENSG00000107249</th>\n",
       "      <td>0.011179</td>\n",
       "      <td>0.009019</td>\n",
       "      <td>0.013510</td>\n",
       "      <td>1.000000</td>\n",
       "      <td>0.013043</td>\n",
       "      <td>0.012821</td>\n",
       "      <td>0.009166</td>\n",
       "      <td>0.012765</td>\n",
       "      <td>0.004407</td>\n",
       "      <td>0.010986</td>\n",
       "      <td>...</td>\n",
       "      <td>0.011557</td>\n",
       "      <td>0.009929</td>\n",
       "      <td>0.008257</td>\n",
       "      <td>0.011060</td>\n",
       "      <td>0.011360</td>\n",
       "      <td>0.009262</td>\n",
       "      <td>0.004310</td>\n",
       "      <td>0.012206</td>\n",
       "      <td>0.004476</td>\n",
       "      <td>0.006118</td>\n",
       "    </tr>\n",
       "    <tr>\n",
       "      <th>ENSG00000147853</th>\n",
       "      <td>0.008516</td>\n",
       "      <td>0.008423</td>\n",
       "      <td>0.014940</td>\n",
       "      <td>0.013043</td>\n",
       "      <td>1.000000</td>\n",
       "      <td>0.035341</td>\n",
       "      <td>0.010092</td>\n",
       "      <td>0.014017</td>\n",
       "      <td>0.008673</td>\n",
       "      <td>0.014867</td>\n",
       "      <td>...</td>\n",
       "      <td>0.009733</td>\n",
       "      <td>0.010215</td>\n",
       "      <td>0.008240</td>\n",
       "      <td>0.006939</td>\n",
       "      <td>0.005548</td>\n",
       "      <td>0.004861</td>\n",
       "      <td>0.001863</td>\n",
       "      <td>0.006116</td>\n",
       "      <td>0.007484</td>\n",
       "      <td>0.007050</td>\n",
       "    </tr>\n",
       "  </tbody>\n",
       "</table>\n",
       "<p>5 rows × 245 columns</p>\n",
       "</div>"
      ],
      "text/plain": [
       "                 ENSG00000107099  ENSG00000080503  ENSG00000147852  \\\n",
       "ENSG00000107099         1.000000         0.004888         0.014346   \n",
       "ENSG00000080503         0.004888         1.000000         0.013387   \n",
       "ENSG00000147852         0.014346         0.013387         1.000000   \n",
       "ENSG00000107249         0.011179         0.009019         0.013510   \n",
       "ENSG00000147853         0.008516         0.008423         0.014940   \n",
       "\n",
       "                 ENSG00000107249  ENSG00000147853  ENSG00000096968  \\\n",
       "ENSG00000107099         0.011179         0.008516         0.010086   \n",
       "ENSG00000080503         0.009019         0.008423         0.010715   \n",
       "ENSG00000147852         0.013510         0.014940         0.019684   \n",
       "ENSG00000107249         1.000000         0.013043         0.012821   \n",
       "ENSG00000147853         0.013043         1.000000         0.035341   \n",
       "\n",
       "                 ENSG00000107014  ENSG00000120217  ENSG00000197646  \\\n",
       "ENSG00000107099         0.007350         0.010925         0.003667   \n",
       "ENSG00000080503         0.006403         0.009085         0.005355   \n",
       "ENSG00000147852         0.015293         0.019233         0.009658   \n",
       "ENSG00000107249         0.009166         0.012765         0.004407   \n",
       "ENSG00000147853         0.010092         0.014017         0.008673   \n",
       "\n",
       "                 ENSG00000178445  ...  ENSG00000107317  ENSG00000169583  \\\n",
       "ENSG00000107099         0.007955  ...         0.006178         0.004963   \n",
       "ENSG00000080503         0.011907  ...         0.007584         0.010396   \n",
       "ENSG00000147852         0.014789  ...         0.013755         0.014284   \n",
       "ENSG00000107249         0.010986  ...         0.011557         0.009929   \n",
       "ENSG00000147853         0.014867  ...         0.009733         0.010215   \n",
       "\n",
       "                 ENSG00000107331  ENSG00000054179  ENSG00000177239  \\\n",
       "ENSG00000107099         0.006625         0.010763         0.007247   \n",
       "ENSG00000080503         0.007528         0.010023         0.007058   \n",
       "ENSG00000147852         0.012455         0.021487         0.016526   \n",
       "ENSG00000107249         0.008257         0.011060         0.011360   \n",
       "ENSG00000147853         0.008240         0.006939         0.005548   \n",
       "\n",
       "                 ENSG00000176248  ENSG00000176101  ENSG00000188747  \\\n",
       "ENSG00000107099         0.006464         0.005777         0.012972   \n",
       "ENSG00000080503         0.008733         0.008615         0.007522   \n",
       "ENSG00000147852         0.011880         0.004817         0.012046   \n",
       "ENSG00000107249         0.009262         0.004310         0.012206   \n",
       "ENSG00000147853         0.004861         0.001863         0.006116   \n",
       "\n",
       "                 ENSG00000182154  ENSG00000181090  \n",
       "ENSG00000107099         0.002313         0.003386  \n",
       "ENSG00000080503         0.004690         0.007634  \n",
       "ENSG00000147852         0.008420         0.012126  \n",
       "ENSG00000107249         0.004476         0.006118  \n",
       "ENSG00000147853         0.007484         0.007050  \n",
       "\n",
       "[5 rows x 245 columns]"
      ]
     },
     "execution_count": 31,
     "metadata": {},
     "output_type": "execute_result"
    }
   ],
   "source": [
    "gene_corrs_df.head()"
   ]
  },
  {
   "cell_type": "markdown",
   "id": "dad6603f-01c6-41fb-a6f6-241051207dd8",
   "metadata": {
    "papermill": {
     "duration": 1.173953,
     "end_time": "2022-11-29T22:44:09.761660",
     "exception": false,
     "start_time": "2022-11-29T22:44:08.587707",
     "status": "completed"
    },
    "tags": []
   },
   "source": [
    "## Standard checks and stats"
   ]
  },
  {
   "cell_type": "code",
   "execution_count": 32,
   "id": "286686af-1b7b-4440-8453-6bdcbd8de19c",
   "metadata": {
    "execution": {
     "iopub.execute_input": "2022-11-29T22:44:12.112128Z",
     "iopub.status.busy": "2022-11-29T22:44:12.111597Z",
     "iopub.status.idle": "2022-11-29T22:44:12.134711Z",
     "shell.execute_reply": "2022-11-29T22:44:12.134142Z"
    },
    "papermill": {
     "duration": 1.194526,
     "end_time": "2022-11-29T22:44:12.135649",
     "exception": false,
     "start_time": "2022-11-29T22:44:10.941123",
     "status": "completed"
    },
    "tags": []
   },
   "outputs": [],
   "source": [
    "assert not gene_corrs_df.isna().any().any()"
   ]
  },
  {
   "cell_type": "code",
   "execution_count": 33,
   "id": "00583efc-7068-4270-ad1e-4a418e91db96",
   "metadata": {
    "execution": {
     "iopub.execute_input": "2022-11-29T22:44:14.660594Z",
     "iopub.status.busy": "2022-11-29T22:44:14.660000Z",
     "iopub.status.idle": "2022-11-29T22:44:14.684499Z",
     "shell.execute_reply": "2022-11-29T22:44:14.683903Z"
    },
    "papermill": {
     "duration": 1.305316,
     "end_time": "2022-11-29T22:44:14.685642",
     "exception": false,
     "start_time": "2022-11-29T22:44:13.380326",
     "status": "completed"
    },
    "tags": []
   },
   "outputs": [
    {
     "data": {
      "text/plain": [
       "1.1199333351451626e-07"
      ]
     },
     "metadata": {},
     "output_type": "display_data"
    }
   ],
   "source": [
    "_min_val = gene_corrs_df.min().min()\n",
    "display(_min_val)\n",
    "assert _min_val >= -0.05"
   ]
  },
  {
   "cell_type": "code",
   "execution_count": 34,
   "id": "d04fb2cf-1050-475b-b855-f5f7cc04092b",
   "metadata": {
    "execution": {
     "iopub.execute_input": "2022-11-29T22:44:17.143153Z",
     "iopub.status.busy": "2022-11-29T22:44:17.142641Z",
     "iopub.status.idle": "2022-11-29T22:44:17.166769Z",
     "shell.execute_reply": "2022-11-29T22:44:17.166229Z"
    },
    "papermill": {
     "duration": 1.220589,
     "end_time": "2022-11-29T22:44:17.167664",
     "exception": false,
     "start_time": "2022-11-29T22:44:15.947075",
     "status": "completed"
    },
    "tags": []
   },
   "outputs": [
    {
     "data": {
      "text/plain": [
       "1.0000000000000038"
      ]
     },
     "metadata": {},
     "output_type": "display_data"
    }
   ],
   "source": [
    "_max_val = gene_corrs_df.max().max()  # this captures the diagonal\n",
    "display(_max_val)\n",
    "assert _max_val <= 1.05"
   ]
  },
  {
   "cell_type": "code",
   "execution_count": 35,
   "id": "96d02c44-1fba-47be-8a93-8f2608420b9c",
   "metadata": {
    "execution": {
     "iopub.execute_input": "2022-11-29T22:44:19.582357Z",
     "iopub.status.busy": "2022-11-29T22:44:19.581866Z",
     "iopub.status.idle": "2022-11-29T22:44:19.603249Z",
     "shell.execute_reply": "2022-11-29T22:44:19.602699Z"
    },
    "papermill": {
     "duration": 1.223364,
     "end_time": "2022-11-29T22:44:19.604200",
     "exception": false,
     "start_time": "2022-11-29T22:44:18.380836",
     "status": "completed"
    },
    "tags": []
   },
   "outputs": [],
   "source": [
    "# check upper triangular values\n",
    "# assert len(gene_corrs) == int(genes_chr.shape[0] * (genes_chr.shape[0] - 1) / 2)"
   ]
  },
  {
   "cell_type": "code",
   "execution_count": 36,
   "id": "fe283586-c348-40e0-8841-f6d97bfb021c",
   "metadata": {
    "execution": {
     "iopub.execute_input": "2022-11-29T22:44:22.149117Z",
     "iopub.status.busy": "2022-11-29T22:44:22.148815Z",
     "iopub.status.idle": "2022-11-29T22:44:22.172519Z",
     "shell.execute_reply": "2022-11-29T22:44:22.172009Z"
    },
    "papermill": {
     "duration": 1.281556,
     "end_time": "2022-11-29T22:44:22.173428",
     "exception": false,
     "start_time": "2022-11-29T22:44:20.891872",
     "status": "completed"
    },
    "tags": []
   },
   "outputs": [
    {
     "data": {
      "text/plain": [
       "count    3.013500e+04\n",
       "mean     1.635513e-02\n",
       "std      9.322336e-02\n",
       "min      1.119933e-07\n",
       "25%      3.770907e-03\n",
       "50%      5.909063e-03\n",
       "75%      8.344821e-03\n",
       "max      1.000000e+00\n",
       "dtype: float64"
      ]
     },
     "execution_count": 36,
     "metadata": {},
     "output_type": "execute_result"
    }
   ],
   "source": [
    "gene_corrs_flat.describe()"
   ]
  },
  {
   "cell_type": "code",
   "execution_count": 37,
   "id": "b3815678-0f93-4b35-897b-a9d047a2aa78",
   "metadata": {
    "execution": {
     "iopub.execute_input": "2022-11-29T22:44:24.564055Z",
     "iopub.status.busy": "2022-11-29T22:44:24.563809Z",
     "iopub.status.idle": "2022-11-29T22:44:24.587398Z",
     "shell.execute_reply": "2022-11-29T22:44:24.587001Z"
    },
    "papermill": {
     "duration": 1.194572,
     "end_time": "2022-11-29T22:44:24.588169",
     "exception": false,
     "start_time": "2022-11-29T22:44:23.393597",
     "status": "completed"
    },
    "tags": []
   },
   "outputs": [
    {
     "data": {
      "text/plain": [
       "0.00    1.119933e-07\n",
       "0.05    1.425824e-03\n",
       "0.10    2.180450e-03\n",
       "0.15    2.784983e-03\n",
       "0.20    3.288463e-03\n",
       "0.25    3.770907e-03\n",
       "0.30    4.221672e-03\n",
       "0.35    4.647011e-03\n",
       "0.40    5.074063e-03\n",
       "0.45    5.475623e-03\n",
       "0.50    5.909063e-03\n",
       "0.55    6.325350e-03\n",
       "0.60    6.756937e-03\n",
       "0.65    7.232246e-03\n",
       "0.70    7.755717e-03\n",
       "0.75    8.344821e-03\n",
       "0.80    9.001339e-03\n",
       "0.85    9.851603e-03\n",
       "0.90    1.090005e-02\n",
       "0.95    1.298168e-02\n",
       "dtype: float64"
      ]
     },
     "metadata": {},
     "output_type": "display_data"
    }
   ],
   "source": [
    "gene_corrs_quantiles = gene_corrs_flat.quantile(np.arange(0, 1, 0.05))\n",
    "display(gene_corrs_quantiles)"
   ]
  },
  {
   "cell_type": "markdown",
   "id": "87134509-b145-4a10-8bc9-b7e914c2b0fa",
   "metadata": {
    "papermill": {
     "duration": 1.277018,
     "end_time": "2022-11-29T22:44:27.064948",
     "exception": false,
     "start_time": "2022-11-29T22:44:25.787930",
     "status": "completed"
    },
    "tags": []
   },
   "source": [
    "## Positive definiteness"
   ]
  },
  {
   "cell_type": "code",
   "execution_count": 38,
   "id": "07d9a9a1-a4f7-48aa-b916-6d42a8cc6186",
   "metadata": {
    "execution": {
     "iopub.execute_input": "2022-11-29T22:44:29.493033Z",
     "iopub.status.busy": "2022-11-29T22:44:29.492474Z",
     "iopub.status.idle": "2022-11-29T22:44:29.537705Z",
     "shell.execute_reply": "2022-11-29T22:44:29.537206Z"
    },
    "papermill": {
     "duration": 1.2169,
     "end_time": "2022-11-29T22:44:29.538788",
     "exception": false,
     "start_time": "2022-11-29T22:44:28.321888",
     "status": "completed"
    },
    "tags": []
   },
   "outputs": [
    {
     "data": {
      "text/plain": [
       "0"
      ]
     },
     "metadata": {},
     "output_type": "display_data"
    },
    {
     "data": {
      "text/plain": [
       "array([], dtype=float64)"
      ]
     },
     "metadata": {},
     "output_type": "display_data"
    }
   ],
   "source": [
    "# print negative eigenvalues\n",
    "eigs = np.linalg.eigvals(gene_corrs_df.to_numpy())\n",
    "display(len(eigs[eigs < 0]))\n",
    "display(eigs[eigs < 0])"
   ]
  },
  {
   "cell_type": "code",
   "execution_count": 39,
   "id": "6e218436-c3c5-4028-8c94-a4fa6260efce",
   "metadata": {
    "execution": {
     "iopub.execute_input": "2022-11-29T22:44:31.915045Z",
     "iopub.status.busy": "2022-11-29T22:44:31.914747Z",
     "iopub.status.idle": "2022-11-29T22:44:31.939182Z",
     "shell.execute_reply": "2022-11-29T22:44:31.938687Z"
    },
    "papermill": {
     "duration": 1.20499,
     "end_time": "2022-11-29T22:44:31.940088",
     "exception": false,
     "start_time": "2022-11-29T22:44:30.735098",
     "status": "completed"
    },
    "tags": []
   },
   "outputs": [
    {
     "name": "stdout",
     "output_type": "stream",
     "text": [
      "Works!\n"
     ]
    }
   ],
   "source": [
    "try:\n",
    "    chol_mat = np.linalg.cholesky(gene_corrs_df.to_numpy())\n",
    "    cov_inv = np.linalg.inv(chol_mat)\n",
    "    print(\"Works!\")\n",
    "except Exception as e:\n",
    "    print(f\"Cholesky decomposition failed: {str(e)}\")"
   ]
  },
  {
   "cell_type": "code",
   "execution_count": 40,
   "id": "dd8827fb-faf9-4c7c-9454-015e94752706",
   "metadata": {
    "execution": {
     "iopub.execute_input": "2022-11-29T22:44:34.394851Z",
     "iopub.status.busy": "2022-11-29T22:44:34.394386Z",
     "iopub.status.idle": "2022-11-29T22:44:34.421295Z",
     "shell.execute_reply": "2022-11-29T22:44:34.420748Z"
    },
    "papermill": {
     "duration": 1.266461,
     "end_time": "2022-11-29T22:44:34.422138",
     "exception": false,
     "start_time": "2022-11-29T22:44:33.155677",
     "status": "completed"
    },
    "tags": []
   },
   "outputs": [
    {
     "name": "stdout",
     "output_type": "stream",
     "text": [
      "Works!\n"
     ]
    }
   ],
   "source": [
    "try:\n",
    "    # decomposition used by statsmodels.GLS\n",
    "    cholsigmainv = np.linalg.cholesky(np.linalg.inv(gene_corrs_df.to_numpy())).T\n",
    "    print(\"Works!\")\n",
    "except Exception as e:\n",
    "    print(f\"Cholesky decomposition failed (statsmodels.GLS): {str(e)}\")"
   ]
  },
  {
   "cell_type": "markdown",
   "id": "8e60a080-edb2-4e9c-b2ef-22961693200c",
   "metadata": {
    "papermill": {
     "duration": 1.19522,
     "end_time": "2022-11-29T22:44:36.769054",
     "exception": false,
     "start_time": "2022-11-29T22:44:35.573834",
     "status": "completed"
    },
    "tags": []
   },
   "source": [
    "## Plot: distribution"
   ]
  },
  {
   "cell_type": "code",
   "execution_count": 41,
   "id": "8301126b-a7d4-4744-9c7d-f0f86eb6f54c",
   "metadata": {
    "execution": {
     "iopub.execute_input": "2022-11-29T22:44:39.127444Z",
     "iopub.status.busy": "2022-11-29T22:44:39.126869Z",
     "iopub.status.idle": "2022-11-29T22:44:44.199493Z",
     "shell.execute_reply": "2022-11-29T22:44:44.199074Z"
    },
    "papermill": {
     "duration": 6.28104,
     "end_time": "2022-11-29T22:44:44.200951",
     "exception": false,
     "start_time": "2022-11-29T22:44:37.919911",
     "status": "completed"
    },
    "tags": []
   },
   "outputs": [
    {
     "data": {
      "image/png": "[encoded data removed]",
      "text/plain": [
       "<Figure size 700x700 with 1 Axes>"
      ]
     },
     "metadata": {},
     "output_type": "display_data"
    }
   ],
   "source": [
    "with sns.plotting_context(\"paper\", font_scale=1.5):\n",
    "    g = sns.displot(gene_corrs_flat, kde=True, height=7)\n",
    "    g.ax.set_title(\n",
    "        f\"Distribution of gene correlation values in chromosome {CHROMOSOME}\"\n",
    "    )"
   ]
  },
  {
   "cell_type": "markdown",
   "id": "cbd52bca-d878-4a2f-b684-5c83aa3038d4",
   "metadata": {
    "papermill": {
     "duration": 1.162152,
     "end_time": "2022-11-29T22:44:46.614213",
     "exception": false,
     "start_time": "2022-11-29T22:44:45.452061",
     "status": "completed"
    },
    "tags": []
   },
   "source": [
    "## Plot: heatmap"
   ]
  },
  {
   "cell_type": "code",
   "execution_count": 42,
   "id": "d03fe63a-c7b2-4fb9-a53c-db362ce843c9",
   "metadata": {
    "execution": {
     "iopub.execute_input": "2022-11-29T22:44:48.945719Z",
     "iopub.status.busy": "2022-11-29T22:44:48.945403Z",
     "iopub.status.idle": "2022-11-29T22:44:48.966388Z",
     "shell.execute_reply": "2022-11-29T22:44:48.965895Z"
    },
    "papermill": {
     "duration": 1.209865,
     "end_time": "2022-11-29T22:44:48.967206",
     "exception": false,
     "start_time": "2022-11-29T22:44:47.757341",
     "status": "completed"
    },
    "tags": []
   },
   "outputs": [
    {
     "data": {
      "text/plain": [
       "'0.0 / 0.05'"
      ]
     },
     "metadata": {},
     "output_type": "display_data"
    }
   ],
   "source": [
    "vmin_val = min(0.00, gene_corrs_quantiles[0.10])\n",
    "vmax_val = max(0.05, gene_corrs_quantiles[0.90])\n",
    "display(f\"{vmin_val} / {vmax_val}\")"
   ]
  },
  {
   "cell_type": "code",
   "execution_count": 43,
   "id": "dc41b70b-5bcc-4d9e-9f33-a22c4a94dab5",
   "metadata": {
    "execution": {
     "iopub.execute_input": "2022-11-29T22:44:51.415992Z",
     "iopub.status.busy": "2022-11-29T22:44:51.415444Z",
     "iopub.status.idle": "2022-11-29T22:44:51.633450Z",
     "shell.execute_reply": "2022-11-29T22:44:51.632999Z"
    },
    "papermill": {
     "duration": 1.510914,
     "end_time": "2022-11-29T22:44:51.635170",
     "exception": false,
     "start_time": "2022-11-29T22:44:50.124256",
     "status": "completed"
    },
    "tags": []
   },
   "outputs": [
    {
     "data": {
      "text/plain": [
       "Text(0.5, 1.0, 'Gene correlations in chromosome 9')"
      ]
     },
     "execution_count": 43,
     "metadata": {},
     "output_type": "execute_result"
    },
    {
     "data": {
      "image/png": "[encoded data removed]",
      "text/plain": [
       "<Figure size 1000x1000 with 2 Axes>"
      ]
     },
     "metadata": {},
     "output_type": "display_data"
    }
   ],
   "source": [
    "f, ax = plt.subplots(figsize=(10, 10))\n",
    "sns.heatmap(\n",
    "    gene_corrs_df,\n",
    "    xticklabels=False,\n",
    "    yticklabels=False,\n",
    "    square=True,\n",
    "    vmin=vmin_val,\n",
    "    vmax=vmax_val,\n",
    "    cmap=\"rocket_r\",\n",
    "    ax=ax,\n",
    ")\n",
    "ax.set_title(f\"Gene correlations in chromosome {CHROMOSOME}\")"
   ]
  },
  {
   "cell_type": "code",
   "execution_count": null,
   "id": "b25e3ead",
   "metadata": {
    "papermill": {
     "duration": 1.147179,
     "end_time": "2022-11-29T22:44:54.003619",
     "exception": false,
     "start_time": "2022-11-29T22:44:52.856440",
     "status": "completed"
    },
    "tags": []
   },
   "outputs": [],
   "source": []
  }
 ],
 "metadata": {
  "jupytext": {
   "cell_metadata_filter": "all,-execution,-papermill,-trusted",
   "formats": "ipynb,py//py:percent"
  },
  "kernelspec": {
   "display_name": "Python 3 (ipykernel)",
   "language": "python",
   "name": "python3"
  },
  "language_info": {
   "codemirror_mode": {
    "name": "ipython",
    "version": 3
   },
   "file_extension": ".py",
   "mimetype": "text/x-python",
   "name": "python",
   "nbconvert_exporter": "python",
   "pygments_lexer": "ipython3",
   "version": "3.10.6"
  },
  "papermill": {
   "default_parameters": {},
   "duration": 1346.891919,
   "end_time": "2022-11-29T22:44:57.873286",
   "environment_variables": {},
   "exception": null,
   "input_path": "projects/asthma-copd/nbs/20_gene_corrs/10-gene_expr_correlations.ipynb",
   "output_path": "projects/asthma-copd/nbs/20_gene_corrs/gene_corrs/asthma_only/10-gene_expr_correlations-chr9.run.ipynb",
   "parameters": {
    "CHROMOSOME": 9,
    "COHORT_NAME": "asthma_only",
    "OUTPUT_DIR_BASE": "/opt/data/projects/asthma-copd/results/gls_phenoplier"
   },
   "start_time": "2022-11-29T22:22:30.981367",
   "version": "2.2.2"
  }
 },
 "nbformat": 4,
 "nbformat_minor": 5
}
