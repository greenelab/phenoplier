{
 "cells": [
  {
   "cell_type": "markdown",
   "id": "7a6632fb",
   "metadata": {
    "papermill": {
     "duration": 0.009271,
     "end_time": "2022-11-29T23:08:51.990120",
     "exception": false,
     "start_time": "2022-11-29T23:08:51.980849",
     "status": "completed"
    },
    "tags": []
   },
   "source": [
    "# Description"
   ]
  },
  {
   "cell_type": "markdown",
   "id": "7097c346",
   "metadata": {
    "papermill": {
     "duration": 0.009129,
     "end_time": "2022-11-29T23:08:52.008882",
     "exception": false,
     "start_time": "2022-11-29T23:08:51.999753",
     "status": "completed"
    },
    "tags": []
   },
   "source": [
    "(Please, take a look at the README.md file in this directory for instructions on how to run this notebook)\n",
    "\n",
    "This notebook computes predicted expression correlations between all genes in the MultiPLIER models.\n",
    "\n",
    "It has specicfic parameters for papermill (see under `Settings` below).\n",
    "It can be configured to run on a single chromosome to run in parallel.\n",
    "\n",
    "This notebook is not directly run. See README.md."
   ]
  },
  {
   "cell_type": "markdown",
   "id": "c61d8427",
   "metadata": {
    "papermill": {
     "duration": 0.008,
     "end_time": "2022-11-29T23:08:52.024960",
     "exception": false,
     "start_time": "2022-11-29T23:08:52.016960",
     "status": "completed"
    },
    "tags": []
   },
   "source": [
    "# Modules"
   ]
  },
  {
   "cell_type": "code",
   "execution_count": 1,
   "id": "bbc0234f",
   "metadata": {
    "execution": {
     "iopub.execute_input": "2022-11-29T23:08:52.044171Z",
     "iopub.status.busy": "2022-11-29T23:08:52.043709Z",
     "iopub.status.idle": "2022-11-29T23:08:52.062490Z",
     "shell.execute_reply": "2022-11-29T23:08:52.061849Z"
    },
    "papermill": {
     "duration": 0.029968,
     "end_time": "2022-11-29T23:08:52.064118",
     "exception": false,
     "start_time": "2022-11-29T23:08:52.034150",
     "status": "completed"
    },
    "tags": []
   },
   "outputs": [],
   "source": [
    "%load_ext autoreload\n",
    "%autoreload 2"
   ]
  },
  {
   "cell_type": "code",
   "execution_count": 2,
   "id": "1d5f5a59",
   "metadata": {
    "execution": {
     "iopub.execute_input": "2022-11-29T23:08:52.083021Z",
     "iopub.status.busy": "2022-11-29T23:08:52.082660Z",
     "iopub.status.idle": "2022-11-29T23:08:52.767443Z",
     "shell.execute_reply": "2022-11-29T23:08:52.766918Z"
    },
    "papermill": {
     "duration": 0.69581,
     "end_time": "2022-11-29T23:08:52.769248",
     "exception": false,
     "start_time": "2022-11-29T23:08:52.073438",
     "status": "completed"
    },
    "tags": []
   },
   "outputs": [],
   "source": [
    "from random import sample, seed\n",
    "import warnings\n",
    "from pathlib import Path\n",
    "import pickle\n",
    "import traceback\n",
    "\n",
    "import numpy as np\n",
    "from scipy.spatial.distance import squareform\n",
    "import pandas as pd\n",
    "from tqdm import tqdm\n",
    "import matplotlib.pyplot as plt\n",
    "import seaborn as sns\n",
    "\n",
    "import conf\n",
    "from entity import Gene"
   ]
  },
  {
   "cell_type": "markdown",
   "id": "1eac24b5",
   "metadata": {
    "papermill": {
     "duration": 0.009698,
     "end_time": "2022-11-29T23:08:52.787875",
     "exception": false,
     "start_time": "2022-11-29T23:08:52.778177",
     "status": "completed"
    },
    "tags": []
   },
   "source": [
    "# Settings"
   ]
  },
  {
   "cell_type": "code",
   "execution_count": 3,
   "id": "ca4560ba",
   "metadata": {
    "execution": {
     "iopub.execute_input": "2022-11-29T23:08:52.806197Z",
     "iopub.status.busy": "2022-11-29T23:08:52.806072Z",
     "iopub.status.idle": "2022-11-29T23:08:52.819127Z",
     "shell.execute_reply": "2022-11-29T23:08:52.818626Z"
    },
    "papermill": {
     "duration": 0.024051,
     "end_time": "2022-11-29T23:08:52.820491",
     "exception": false,
     "start_time": "2022-11-29T23:08:52.796440",
     "status": "completed"
    },
    "tags": [
     "parameters"
    ]
   },
   "outputs": [],
   "source": [
    "# a cohort name (it could be something like UK_BIOBANK, etc)\n",
    "COHORT_NAME = None\n",
    "\n",
    "# reference panel such as 1000G or GTEX_V8\n",
    "REFERENCE_PANEL = \"GTEX_V8\"\n",
    "\n",
    "# predictions models such as MASHR or ELASTIC_NET\n",
    "EQTL_MODEL = \"MASHR\"\n",
    "\n",
    "# this is the default value used in S-MultiXcan to select the\n",
    "# top principal components of the expression correlation matrix\n",
    "SMULTIXCAN_CONDITION_NUMBER = 30\n",
    "\n",
    "# specifies a single chromosome value\n",
    "CHROMOSOME = None\n",
    "\n",
    "# If True, computes the correlation between closeby genes only;\n",
    "# otherwise, it computes correlations for all genes in a chromosome\n",
    "COMPUTE_CORRELATIONS_WITHIN_DISTANCE = False\n",
    "\n",
    "# if True, then it will continue if a gene pair correlation fails,\n",
    "# printing the warning/error for debugging. If False, any warning/error\n",
    "# will be thrown\n",
    "DEBUG_MODE = False\n",
    "\n",
    "# output dir\n",
    "OUTPUT_DIR_BASE = None"
   ]
  },
  {
   "cell_type": "code",
   "execution_count": 4,
   "id": "c6f3fde7",
   "metadata": {
    "execution": {
     "iopub.execute_input": "2022-11-29T23:08:52.838564Z",
     "iopub.status.busy": "2022-11-29T23:08:52.838395Z",
     "iopub.status.idle": "2022-11-29T23:08:52.850530Z",
     "shell.execute_reply": "2022-11-29T23:08:52.850108Z"
    },
    "papermill": {
     "duration": 0.022613,
     "end_time": "2022-11-29T23:08:52.851895",
     "exception": false,
     "start_time": "2022-11-29T23:08:52.829282",
     "status": "completed"
    },
    "tags": [
     "injected-parameters"
    ]
   },
   "outputs": [],
   "source": [
    "# Parameters\n",
    "COHORT_NAME = \"asthma_only\"\n",
    "CHROMOSOME = 22\n",
    "OUTPUT_DIR_BASE = \"/opt/data/projects/asthma-copd/results/gls_phenoplier\"\n"
   ]
  },
  {
   "cell_type": "code",
   "execution_count": 5,
   "id": "3190631f-27fc-480f-b18e-571d580425a5",
   "metadata": {
    "execution": {
     "iopub.execute_input": "2022-11-29T23:08:52.869907Z",
     "iopub.status.busy": "2022-11-29T23:08:52.869711Z",
     "iopub.status.idle": "2022-11-29T23:08:52.891276Z",
     "shell.execute_reply": "2022-11-29T23:08:52.890736Z"
    },
    "papermill": {
     "duration": 0.03196,
     "end_time": "2022-11-29T23:08:52.892675",
     "exception": false,
     "start_time": "2022-11-29T23:08:52.860715",
     "status": "completed"
    },
    "tags": []
   },
   "outputs": [
    {
     "data": {
      "text/plain": [
       "'Cohort name: asthma_only'"
      ]
     },
     "metadata": {},
     "output_type": "display_data"
    }
   ],
   "source": [
    "assert COHORT_NAME is not None and len(COHORT_NAME) > 0, \"A cohort name must be given\"\n",
    "\n",
    "COHORT_NAME = COHORT_NAME.lower()\n",
    "display(f\"Cohort name: {COHORT_NAME}\")"
   ]
  },
  {
   "cell_type": "code",
   "execution_count": 6,
   "id": "f53ba19b-0f93-4fa2-a047-63b375939d1a",
   "metadata": {
    "execution": {
     "iopub.execute_input": "2022-11-29T23:08:52.912102Z",
     "iopub.status.busy": "2022-11-29T23:08:52.911588Z",
     "iopub.status.idle": "2022-11-29T23:08:52.933650Z",
     "shell.execute_reply": "2022-11-29T23:08:52.933042Z"
    },
    "papermill": {
     "duration": 0.032866,
     "end_time": "2022-11-29T23:08:52.935128",
     "exception": false,
     "start_time": "2022-11-29T23:08:52.902262",
     "status": "completed"
    },
    "tags": []
   },
   "outputs": [
    {
     "data": {
      "text/plain": [
       "'Reference panel: GTEX_V8'"
      ]
     },
     "metadata": {},
     "output_type": "display_data"
    }
   ],
   "source": [
    "assert (\n",
    "    REFERENCE_PANEL is not None and len(REFERENCE_PANEL) > 0\n",
    "), \"A reference panel must be given\"\n",
    "\n",
    "display(f\"Reference panel: {REFERENCE_PANEL}\")"
   ]
  },
  {
   "cell_type": "code",
   "execution_count": 7,
   "id": "e024d130-c139-429a-9c6e-ccf149e297b0",
   "metadata": {
    "execution": {
     "iopub.execute_input": "2022-11-29T23:08:52.954260Z",
     "iopub.status.busy": "2022-11-29T23:08:52.953770Z",
     "iopub.status.idle": "2022-11-29T23:08:52.976086Z",
     "shell.execute_reply": "2022-11-29T23:08:52.975473Z"
    },
    "papermill": {
     "duration": 0.033452,
     "end_time": "2022-11-29T23:08:52.977593",
     "exception": false,
     "start_time": "2022-11-29T23:08:52.944141",
     "status": "completed"
    },
    "tags": []
   },
   "outputs": [
    {
     "data": {
      "text/plain": [
       "'eQTL model: MASHR) / mashr_'"
      ]
     },
     "metadata": {},
     "output_type": "display_data"
    }
   ],
   "source": [
    "assert (\n",
    "    EQTL_MODEL is not None and len(EQTL_MODEL) > 0\n",
    "), \"A prediction/eQTL model must be given\"\n",
    "\n",
    "EQTL_MODEL_FILES_PREFIX = conf.PHENOMEXCAN[\"PREDICTION_MODELS\"][f\"{EQTL_MODEL}_PREFIX\"]\n",
    "display(f\"eQTL model: {EQTL_MODEL}) / {EQTL_MODEL_FILES_PREFIX}\")"
   ]
  },
  {
   "cell_type": "code",
   "execution_count": 8,
   "id": "552a7f63-a18c-4d3e-bb6a-94f99b431291",
   "metadata": {
    "execution": {
     "iopub.execute_input": "2022-11-29T23:08:52.997218Z",
     "iopub.status.busy": "2022-11-29T23:08:52.996859Z",
     "iopub.status.idle": "2022-11-29T23:08:53.018661Z",
     "shell.execute_reply": "2022-11-29T23:08:53.018061Z"
    },
    "papermill": {
     "duration": 0.033391,
     "end_time": "2022-11-29T23:08:53.020117",
     "exception": false,
     "start_time": "2022-11-29T23:08:52.986726",
     "status": "completed"
    },
    "tags": []
   },
   "outputs": [
    {
     "data": {
      "text/plain": [
       "'S-MultiXcan condition number: 30'"
      ]
     },
     "metadata": {},
     "output_type": "display_data"
    }
   ],
   "source": [
    "assert (\n",
    "    SMULTIXCAN_CONDITION_NUMBER is not None and SMULTIXCAN_CONDITION_NUMBER > 0\n",
    "), \"The S-MultiXcan condition number (positive integer) must be given\"\n",
    "\n",
    "display(f\"S-MultiXcan condition number: {SMULTIXCAN_CONDITION_NUMBER}\")"
   ]
  },
  {
   "cell_type": "code",
   "execution_count": 9,
   "id": "f34a336f-548e-4afe-8955-90eaea4f42c6",
   "metadata": {
    "execution": {
     "iopub.execute_input": "2022-11-29T23:08:53.039505Z",
     "iopub.status.busy": "2022-11-29T23:08:53.039142Z",
     "iopub.status.idle": "2022-11-29T23:08:53.061413Z",
     "shell.execute_reply": "2022-11-29T23:08:53.060814Z"
    },
    "papermill": {
     "duration": 0.033504,
     "end_time": "2022-11-29T23:08:53.062809",
     "exception": false,
     "start_time": "2022-11-29T23:08:53.029305",
     "status": "completed"
    },
    "tags": []
   },
   "outputs": [
    {
     "data": {
      "text/plain": [
       "'Working on chromosome 22'"
      ]
     },
     "metadata": {},
     "output_type": "display_data"
    }
   ],
   "source": [
    "assert CHROMOSOME is not None and (\n",
    "    1 <= CHROMOSOME <= 22\n",
    "), \"You have to select one chromosome (format: number between 1 and 22)\"\n",
    "\n",
    "# CHROMOSOME = str(CHROMOSOME)\n",
    "display(f\"Working on chromosome {CHROMOSOME}\")"
   ]
  },
  {
   "cell_type": "code",
   "execution_count": 10,
   "id": "ab8e96e8-06b5-4363-9dcd-dc4d78cc27f7",
   "metadata": {
    "execution": {
     "iopub.execute_input": "2022-11-29T23:08:53.082946Z",
     "iopub.status.busy": "2022-11-29T23:08:53.082595Z",
     "iopub.status.idle": "2022-11-29T23:08:53.104506Z",
     "shell.execute_reply": "2022-11-29T23:08:53.103888Z"
    },
    "papermill": {
     "duration": 0.033848,
     "end_time": "2022-11-29T23:08:53.105978",
     "exception": false,
     "start_time": "2022-11-29T23:08:53.072130",
     "status": "completed"
    },
    "tags": []
   },
   "outputs": [
    {
     "data": {
      "text/plain": [
       "'Compute correlation within distance False'"
      ]
     },
     "metadata": {},
     "output_type": "display_data"
    }
   ],
   "source": [
    "display(f\"Compute correlation within distance {COMPUTE_CORRELATIONS_WITHIN_DISTANCE}\")"
   ]
  },
  {
   "cell_type": "code",
   "execution_count": 11,
   "id": "b393b698-77e3-4ba2-8ac1-e14d51aa988f",
   "metadata": {
    "execution": {
     "iopub.execute_input": "2022-11-29T23:08:53.125935Z",
     "iopub.status.busy": "2022-11-29T23:08:53.125579Z",
     "iopub.status.idle": "2022-11-29T23:08:53.148494Z",
     "shell.execute_reply": "2022-11-29T23:08:53.147867Z"
    },
    "papermill": {
     "duration": 0.034528,
     "end_time": "2022-11-29T23:08:53.149964",
     "exception": false,
     "start_time": "2022-11-29T23:08:53.115436",
     "status": "completed"
    },
    "tags": []
   },
   "outputs": [
    {
     "data": {
      "text/plain": [
       "'Using output dir base: /opt/data/projects/asthma-copd/results/gls_phenoplier/gene_corrs/asthma_only'"
      ]
     },
     "metadata": {},
     "output_type": "display_data"
    }
   ],
   "source": [
    "assert (\n",
    "    OUTPUT_DIR_BASE is not None and len(OUTPUT_DIR_BASE) > 0\n",
    "), \"Output directory path must be given\"\n",
    "\n",
    "OUTPUT_DIR_BASE = (\n",
    "    Path(OUTPUT_DIR_BASE)\n",
    "    / \"gene_corrs\"\n",
    "    / COHORT_NAME\n",
    "    # / REFERENCE_PANEL.lower()\n",
    "    # / EQTL_MODEL.lower()\n",
    ").resolve()\n",
    "\n",
    "OUTPUT_DIR_BASE.mkdir(parents=True, exist_ok=True)\n",
    "\n",
    "display(f\"Using output dir base: {OUTPUT_DIR_BASE}\")"
   ]
  },
  {
   "cell_type": "markdown",
   "id": "d2ba085e",
   "metadata": {
    "papermill": {
     "duration": 0.009472,
     "end_time": "2022-11-29T23:08:53.169424",
     "exception": false,
     "start_time": "2022-11-29T23:08:53.159952",
     "status": "completed"
    },
    "tags": []
   },
   "source": [
    "# Load data"
   ]
  },
  {
   "cell_type": "markdown",
   "id": "7dcb8db7",
   "metadata": {
    "papermill": {
     "duration": 0.00937,
     "end_time": "2022-11-29T23:08:53.188856",
     "exception": false,
     "start_time": "2022-11-29T23:08:53.179486",
     "status": "completed"
    },
    "tags": []
   },
   "source": [
    "## GWAS variants"
   ]
  },
  {
   "cell_type": "code",
   "execution_count": 12,
   "id": "29434c4e-8cd3-4b9b-82e4-b5a251d9dd19",
   "metadata": {
    "execution": {
     "iopub.execute_input": "2022-11-29T23:08:53.208329Z",
     "iopub.status.busy": "2022-11-29T23:08:53.207886Z",
     "iopub.status.idle": "2022-11-29T23:08:55.187760Z",
     "shell.execute_reply": "2022-11-29T23:08:55.187212Z"
    },
    "papermill": {
     "duration": 1.991153,
     "end_time": "2022-11-29T23:08:55.189529",
     "exception": false,
     "start_time": "2022-11-29T23:08:53.198376",
     "status": "completed"
    },
    "tags": []
   },
   "outputs": [],
   "source": [
    "with open(OUTPUT_DIR_BASE / \"gwas_variant_ids.pkl\", \"rb\") as handle:\n",
    "    gwas_variants_ids_set = pickle.load(handle)"
   ]
  },
  {
   "cell_type": "code",
   "execution_count": 13,
   "id": "b9d9dec2-4a76-4bf9-bde2-e24c95acb8a0",
   "metadata": {
    "execution": {
     "iopub.execute_input": "2022-11-29T23:08:55.210792Z",
     "iopub.status.busy": "2022-11-29T23:08:55.210612Z",
     "iopub.status.idle": "2022-11-29T23:08:55.223986Z",
     "shell.execute_reply": "2022-11-29T23:08:55.223536Z"
    },
    "papermill": {
     "duration": 0.02572,
     "end_time": "2022-11-29T23:08:55.225328",
     "exception": false,
     "start_time": "2022-11-29T23:08:55.199608",
     "status": "completed"
    },
    "tags": []
   },
   "outputs": [
    {
     "data": {
      "text/plain": [
       "8578486"
      ]
     },
     "execution_count": 13,
     "metadata": {},
     "output_type": "execute_result"
    }
   ],
   "source": [
    "len(gwas_variants_ids_set)"
   ]
  },
  {
   "cell_type": "code",
   "execution_count": 14,
   "id": "4235b06a-6034-4ee4-a0a3-2ae35d122418",
   "metadata": {
    "execution": {
     "iopub.execute_input": "2022-11-29T23:08:55.245914Z",
     "iopub.status.busy": "2022-11-29T23:08:55.245732Z",
     "iopub.status.idle": "2022-11-29T23:08:55.621245Z",
     "shell.execute_reply": "2022-11-29T23:08:55.620756Z"
    },
    "papermill": {
     "duration": 0.387233,
     "end_time": "2022-11-29T23:08:55.622593",
     "exception": false,
     "start_time": "2022-11-29T23:08:55.235360",
     "status": "completed"
    },
    "tags": []
   },
   "outputs": [
    {
     "data": {
      "text/plain": [
       "['chr5_64857398_G_A_b38',\n",
       " 'chr4_58439339_C_G_b38',\n",
       " 'chr14_94488056_C_A_b38',\n",
       " 'chr21_38964626_G_A_b38',\n",
       " 'chr6_162185048_G_T_b38']"
      ]
     },
     "execution_count": 14,
     "metadata": {},
     "output_type": "execute_result"
    }
   ],
   "source": [
    "list(gwas_variants_ids_set)[:5]"
   ]
  },
  {
   "cell_type": "markdown",
   "id": "07866999-2305-41f9-a144-e69c9122c212",
   "metadata": {
    "papermill": {
     "duration": 0.010369,
     "end_time": "2022-11-29T23:08:55.643140",
     "exception": false,
     "start_time": "2022-11-29T23:08:55.632771",
     "status": "completed"
    },
    "tags": []
   },
   "source": [
    "## S-PrediXcan tissue models"
   ]
  },
  {
   "cell_type": "code",
   "execution_count": 15,
   "id": "780611d9-77c8-405f-90a4-f271f7b09397",
   "metadata": {
    "execution": {
     "iopub.execute_input": "2022-11-29T23:08:55.663999Z",
     "iopub.status.busy": "2022-11-29T23:08:55.663735Z",
     "iopub.status.idle": "2022-11-29T23:08:56.273228Z",
     "shell.execute_reply": "2022-11-29T23:08:56.272754Z"
    },
    "papermill": {
     "duration": 0.621738,
     "end_time": "2022-11-29T23:08:56.275008",
     "exception": false,
     "start_time": "2022-11-29T23:08:55.653270",
     "status": "completed"
    },
    "tags": []
   },
   "outputs": [],
   "source": [
    "spredixcan_genes_models = pd.read_pickle(OUTPUT_DIR_BASE / \"gene_tissues.pkl\")"
   ]
  },
  {
   "cell_type": "code",
   "execution_count": 16,
   "id": "726dd1f6-9557-4225-91fa-b3b879ea96e1",
   "metadata": {
    "execution": {
     "iopub.execute_input": "2022-11-29T23:08:56.296996Z",
     "iopub.status.busy": "2022-11-29T23:08:56.296751Z",
     "iopub.status.idle": "2022-11-29T23:08:56.310049Z",
     "shell.execute_reply": "2022-11-29T23:08:56.309623Z"
    },
    "papermill": {
     "duration": 0.026004,
     "end_time": "2022-11-29T23:08:56.311470",
     "exception": false,
     "start_time": "2022-11-29T23:08:56.285466",
     "status": "completed"
    },
    "tags": []
   },
   "outputs": [
    {
     "data": {
      "text/plain": [
       "(6443, 5)"
      ]
     },
     "execution_count": 16,
     "metadata": {},
     "output_type": "execute_result"
    }
   ],
   "source": [
    "spredixcan_genes_models.shape"
   ]
  },
  {
   "cell_type": "code",
   "execution_count": 17,
   "id": "944a1b48-222c-4eb0-b252-b9de2cbca215",
   "metadata": {
    "execution": {
     "iopub.execute_input": "2022-11-29T23:08:56.332888Z",
     "iopub.status.busy": "2022-11-29T23:08:56.332552Z",
     "iopub.status.idle": "2022-11-29T23:08:56.350058Z",
     "shell.execute_reply": "2022-11-29T23:08:56.349529Z"
    },
    "papermill": {
     "duration": 0.029627,
     "end_time": "2022-11-29T23:08:56.351527",
     "exception": false,
     "start_time": "2022-11-29T23:08:56.321900",
     "status": "completed"
    },
    "tags": []
   },
   "outputs": [
    {
     "data": {
      "text/html": [
       "<div>\n",
       "<style scoped>\n",
       "    .dataframe tbody tr th:only-of-type {\n",
       "        vertical-align: middle;\n",
       "    }\n",
       "\n",
       "    .dataframe tbody tr th {\n",
       "        vertical-align: top;\n",
       "    }\n",
       "\n",
       "    .dataframe thead th {\n",
       "        text-align: right;\n",
       "    }\n",
       "</style>\n",
       "<table border=\"1\" class=\"dataframe\">\n",
       "  <thead>\n",
       "    <tr style=\"text-align: right;\">\n",
       "      <th></th>\n",
       "      <th>gene_name</th>\n",
       "      <th>tissue</th>\n",
       "      <th>n_tissues</th>\n",
       "      <th>n_snps_used_sum</th>\n",
       "      <th>n_snps_in_model_sum</th>\n",
       "    </tr>\n",
       "    <tr>\n",
       "      <th>gene_id</th>\n",
       "      <th></th>\n",
       "      <th></th>\n",
       "      <th></th>\n",
       "      <th></th>\n",
       "      <th></th>\n",
       "    </tr>\n",
       "  </thead>\n",
       "  <tbody>\n",
       "    <tr>\n",
       "      <th>ENSG00000000419</th>\n",
       "      <td>DPM1</td>\n",
       "      <td>(Brain_Hypothalamus, Brain_Substantia_nigra)</td>\n",
       "      <td>2</td>\n",
       "      <td>2</td>\n",
       "      <td>2</td>\n",
       "    </tr>\n",
       "    <tr>\n",
       "      <th>ENSG00000000938</th>\n",
       "      <td>FGR</td>\n",
       "      <td>(Brain_Cortex, Lung, Pancreas, Adipose_Subcuta...</td>\n",
       "      <td>36</td>\n",
       "      <td>40</td>\n",
       "      <td>40</td>\n",
       "    </tr>\n",
       "    <tr>\n",
       "      <th>ENSG00000000971</th>\n",
       "      <td>CFH</td>\n",
       "      <td>(Brain_Cortex, Lung, Skin_Not_Sun_Exposed_Supr...</td>\n",
       "      <td>34</td>\n",
       "      <td>44</td>\n",
       "      <td>44</td>\n",
       "    </tr>\n",
       "    <tr>\n",
       "      <th>ENSG00000001084</th>\n",
       "      <td>GCLC</td>\n",
       "      <td>(Brain_Cortex, Adrenal_Gland, Lung, Pancreas, ...</td>\n",
       "      <td>32</td>\n",
       "      <td>46</td>\n",
       "      <td>46</td>\n",
       "    </tr>\n",
       "    <tr>\n",
       "      <th>ENSG00000001167</th>\n",
       "      <td>NFYA</td>\n",
       "      <td>(Brain_Cortex, Adrenal_Gland, Lung, Adipose_Su...</td>\n",
       "      <td>40</td>\n",
       "      <td>47</td>\n",
       "      <td>48</td>\n",
       "    </tr>\n",
       "  </tbody>\n",
       "</table>\n",
       "</div>"
      ],
      "text/plain": [
       "                gene_name                                             tissue  \\\n",
       "gene_id                                                                        \n",
       "ENSG00000000419      DPM1       (Brain_Hypothalamus, Brain_Substantia_nigra)   \n",
       "ENSG00000000938       FGR  (Brain_Cortex, Lung, Pancreas, Adipose_Subcuta...   \n",
       "ENSG00000000971       CFH  (Brain_Cortex, Lung, Skin_Not_Sun_Exposed_Supr...   \n",
       "ENSG00000001084      GCLC  (Brain_Cortex, Adrenal_Gland, Lung, Pancreas, ...   \n",
       "ENSG00000001167      NFYA  (Brain_Cortex, Adrenal_Gland, Lung, Adipose_Su...   \n",
       "\n",
       "                 n_tissues  n_snps_used_sum  n_snps_in_model_sum  \n",
       "gene_id                                                           \n",
       "ENSG00000000419          2                2                    2  \n",
       "ENSG00000000938         36               40                   40  \n",
       "ENSG00000000971         34               44                   44  \n",
       "ENSG00000001084         32               46                   46  \n",
       "ENSG00000001167         40               47                   48  "
      ]
     },
     "execution_count": 17,
     "metadata": {},
     "output_type": "execute_result"
    }
   ],
   "source": [
    "spredixcan_genes_models.head()"
   ]
  },
  {
   "cell_type": "code",
   "execution_count": 18,
   "id": "d1c11bb1-be0b-4f40-b360-633d6827109f",
   "metadata": {
    "execution": {
     "iopub.execute_input": "2022-11-29T23:08:56.373972Z",
     "iopub.status.busy": "2022-11-29T23:08:56.373723Z",
     "iopub.status.idle": "2022-11-29T23:08:56.386919Z",
     "shell.execute_reply": "2022-11-29T23:08:56.386392Z"
    },
    "papermill": {
     "duration": 0.026074,
     "end_time": "2022-11-29T23:08:56.388343",
     "exception": false,
     "start_time": "2022-11-29T23:08:56.362269",
     "status": "completed"
    },
    "tags": []
   },
   "outputs": [],
   "source": [
    "assert spredixcan_genes_models.index.is_unique"
   ]
  },
  {
   "cell_type": "markdown",
   "id": "a5b5092c-a13e-47c4-a92a-480fcc08f3ae",
   "metadata": {
    "papermill": {
     "duration": 0.010337,
     "end_time": "2022-11-29T23:08:56.409339",
     "exception": false,
     "start_time": "2022-11-29T23:08:56.399002",
     "status": "completed"
    },
    "tags": []
   },
   "source": [
    "## Gene info"
   ]
  },
  {
   "cell_type": "code",
   "execution_count": 19,
   "id": "7d6bb224-88e9-4358-ac10-43a41d92cdad",
   "metadata": {
    "execution": {
     "iopub.execute_input": "2022-11-29T23:08:56.431664Z",
     "iopub.status.busy": "2022-11-29T23:08:56.431349Z",
     "iopub.status.idle": "2022-11-29T23:08:56.450405Z",
     "shell.execute_reply": "2022-11-29T23:08:56.449797Z"
    },
    "papermill": {
     "duration": 0.031742,
     "end_time": "2022-11-29T23:08:56.451609",
     "exception": false,
     "start_time": "2022-11-29T23:08:56.419867",
     "status": "completed"
    },
    "tags": []
   },
   "outputs": [],
   "source": [
    "genes_info = pd.read_pickle(OUTPUT_DIR_BASE / \"genes_info.pkl\")"
   ]
  },
  {
   "cell_type": "code",
   "execution_count": 20,
   "id": "9e32abfa-546d-483e-8c18-d526e9e05903",
   "metadata": {
    "execution": {
     "iopub.execute_input": "2022-11-29T23:08:56.468673Z",
     "iopub.status.busy": "2022-11-29T23:08:56.468357Z",
     "iopub.status.idle": "2022-11-29T23:08:56.486091Z",
     "shell.execute_reply": "2022-11-29T23:08:56.485570Z"
    },
    "papermill": {
     "duration": 0.027395,
     "end_time": "2022-11-29T23:08:56.487274",
     "exception": false,
     "start_time": "2022-11-29T23:08:56.459879",
     "status": "completed"
    },
    "tags": []
   },
   "outputs": [
    {
     "data": {
      "text/plain": [
       "(6443, 7)"
      ]
     },
     "execution_count": 20,
     "metadata": {},
     "output_type": "execute_result"
    }
   ],
   "source": [
    "genes_info.shape"
   ]
  },
  {
   "cell_type": "code",
   "execution_count": 21,
   "id": "d16c3e92-85ec-468a-9a56-e25a9774a1cb",
   "metadata": {
    "execution": {
     "iopub.execute_input": "2022-11-29T23:08:56.504629Z",
     "iopub.status.busy": "2022-11-29T23:08:56.504316Z",
     "iopub.status.idle": "2022-11-29T23:08:56.525374Z",
     "shell.execute_reply": "2022-11-29T23:08:56.524789Z"
    },
    "papermill": {
     "duration": 0.031142,
     "end_time": "2022-11-29T23:08:56.526571",
     "exception": false,
     "start_time": "2022-11-29T23:08:56.495429",
     "status": "completed"
    },
    "tags": []
   },
   "outputs": [
    {
     "data": {
      "text/html": [
       "<div>\n",
       "<style scoped>\n",
       "    .dataframe tbody tr th:only-of-type {\n",
       "        vertical-align: middle;\n",
       "    }\n",
       "\n",
       "    .dataframe tbody tr th {\n",
       "        vertical-align: top;\n",
       "    }\n",
       "\n",
       "    .dataframe thead th {\n",
       "        text-align: right;\n",
       "    }\n",
       "</style>\n",
       "<table border=\"1\" class=\"dataframe\">\n",
       "  <thead>\n",
       "    <tr style=\"text-align: right;\">\n",
       "      <th></th>\n",
       "      <th>name</th>\n",
       "      <th>id</th>\n",
       "      <th>chr</th>\n",
       "      <th>band</th>\n",
       "      <th>start_position</th>\n",
       "      <th>end_position</th>\n",
       "      <th>gene_length</th>\n",
       "    </tr>\n",
       "  </thead>\n",
       "  <tbody>\n",
       "    <tr>\n",
       "      <th>0</th>\n",
       "      <td>UBE4B</td>\n",
       "      <td>ENSG00000130939</td>\n",
       "      <td>1</td>\n",
       "      <td>1p36.22</td>\n",
       "      <td>10032832</td>\n",
       "      <td>10181239</td>\n",
       "      <td>148407</td>\n",
       "    </tr>\n",
       "    <tr>\n",
       "      <th>1</th>\n",
       "      <td>STX18</td>\n",
       "      <td>ENSG00000168818</td>\n",
       "      <td>4</td>\n",
       "      <td>4p16.2</td>\n",
       "      <td>4415742</td>\n",
       "      <td>4542346</td>\n",
       "      <td>126604</td>\n",
       "    </tr>\n",
       "    <tr>\n",
       "      <th>2</th>\n",
       "      <td>DNM2</td>\n",
       "      <td>ENSG00000079805</td>\n",
       "      <td>19</td>\n",
       "      <td>19p13.2</td>\n",
       "      <td>10718079</td>\n",
       "      <td>10833488</td>\n",
       "      <td>115409</td>\n",
       "    </tr>\n",
       "    <tr>\n",
       "      <th>3</th>\n",
       "      <td>PLD1</td>\n",
       "      <td>ENSG00000075651</td>\n",
       "      <td>3</td>\n",
       "      <td>3q26.31</td>\n",
       "      <td>171600404</td>\n",
       "      <td>171810950</td>\n",
       "      <td>210546</td>\n",
       "    </tr>\n",
       "    <tr>\n",
       "      <th>4</th>\n",
       "      <td>ANKRD55</td>\n",
       "      <td>ENSG00000164512</td>\n",
       "      <td>5</td>\n",
       "      <td>5q11.2</td>\n",
       "      <td>56099680</td>\n",
       "      <td>56233330</td>\n",
       "      <td>133650</td>\n",
       "    </tr>\n",
       "  </tbody>\n",
       "</table>\n",
       "</div>"
      ],
      "text/plain": [
       "      name               id  chr     band  start_position  end_position  \\\n",
       "0    UBE4B  ENSG00000130939    1  1p36.22        10032832      10181239   \n",
       "1    STX18  ENSG00000168818    4   4p16.2         4415742       4542346   \n",
       "2     DNM2  ENSG00000079805   19  19p13.2        10718079      10833488   \n",
       "3     PLD1  ENSG00000075651    3  3q26.31       171600404     171810950   \n",
       "4  ANKRD55  ENSG00000164512    5   5q11.2        56099680      56233330   \n",
       "\n",
       "   gene_length  \n",
       "0       148407  \n",
       "1       126604  \n",
       "2       115409  \n",
       "3       210546  \n",
       "4       133650  "
      ]
     },
     "execution_count": 21,
     "metadata": {},
     "output_type": "execute_result"
    }
   ],
   "source": [
    "genes_info.head()"
   ]
  },
  {
   "cell_type": "markdown",
   "id": "d3843e06",
   "metadata": {
    "papermill": {
     "duration": 0.008069,
     "end_time": "2022-11-29T23:08:56.543074",
     "exception": false,
     "start_time": "2022-11-29T23:08:56.535005",
     "status": "completed"
    },
    "tags": []
   },
   "source": [
    "# Compute correlations"
   ]
  },
  {
   "cell_type": "code",
   "execution_count": 22,
   "id": "cb859c15-d1f3-4006-a74c-2b83c0db9611",
   "metadata": {
    "execution": {
     "iopub.execute_input": "2022-11-29T23:08:56.560633Z",
     "iopub.status.busy": "2022-11-29T23:08:56.560262Z",
     "iopub.status.idle": "2022-11-29T23:08:56.583147Z",
     "shell.execute_reply": "2022-11-29T23:08:56.582488Z"
    },
    "papermill": {
     "duration": 0.032825,
     "end_time": "2022-11-29T23:08:56.584392",
     "exception": false,
     "start_time": "2022-11-29T23:08:56.551567",
     "status": "completed"
    },
    "tags": []
   },
   "outputs": [
    {
     "data": {
      "text/plain": [
       "PosixPath('/opt/data/projects/asthma-copd/results/gls_phenoplier/gene_corrs/asthma_only/by_chr/gene_corrs-chr22.pkl')"
      ]
     },
     "metadata": {},
     "output_type": "display_data"
    }
   ],
   "source": [
    "output_dir = OUTPUT_DIR_BASE / \"by_chr\"\n",
    "output_dir.mkdir(exist_ok=True, parents=True)\n",
    "output_file = output_dir / f\"gene_corrs-chr{CHROMOSOME}.pkl\"\n",
    "display(output_file)"
   ]
  },
  {
   "cell_type": "code",
   "execution_count": 23,
   "id": "aa674fe4-6794-4eed-98fa-32b39d1d4ace",
   "metadata": {
    "execution": {
     "iopub.execute_input": "2022-11-29T23:08:56.602240Z",
     "iopub.status.busy": "2022-11-29T23:08:56.601708Z",
     "iopub.status.idle": "2022-11-29T23:08:56.622840Z",
     "shell.execute_reply": "2022-11-29T23:08:56.622179Z"
    },
    "papermill": {
     "duration": 0.031275,
     "end_time": "2022-11-29T23:08:56.624049",
     "exception": false,
     "start_time": "2022-11-29T23:08:56.592774",
     "status": "completed"
    },
    "tags": []
   },
   "outputs": [],
   "source": [
    "warnings.filterwarnings(\"error\")"
   ]
  },
  {
   "cell_type": "code",
   "execution_count": 24,
   "id": "44d5450b-3baf-43f1-9e2e-4b06f1a785f8",
   "metadata": {
    "execution": {
     "iopub.execute_input": "2022-11-29T23:08:56.641943Z",
     "iopub.status.busy": "2022-11-29T23:08:56.641724Z",
     "iopub.status.idle": "2022-11-29T23:08:56.663534Z",
     "shell.execute_reply": "2022-11-29T23:08:56.662847Z"
    },
    "papermill": {
     "duration": 0.031964,
     "end_time": "2022-11-29T23:08:56.664776",
     "exception": false,
     "start_time": "2022-11-29T23:08:56.632812",
     "status": "completed"
    },
    "tags": []
   },
   "outputs": [],
   "source": [
    "# standard checks\n",
    "all_chrs = genes_info[\"chr\"].dropna().unique()\n",
    "assert all_chrs.shape[0] == 22\n",
    "\n",
    "# select chromosome given by the user\n",
    "assert CHROMOSOME in all_chrs"
   ]
  },
  {
   "cell_type": "code",
   "execution_count": 25,
   "id": "2d7c043c-92a7-4d35-991b-fa69ac1e0268",
   "metadata": {
    "execution": {
     "iopub.execute_input": "2022-11-29T23:08:56.683004Z",
     "iopub.status.busy": "2022-11-29T23:08:56.682609Z",
     "iopub.status.idle": "2022-11-29T23:08:56.706144Z",
     "shell.execute_reply": "2022-11-29T23:08:56.705444Z"
    },
    "papermill": {
     "duration": 0.034031,
     "end_time": "2022-11-29T23:08:56.707367",
     "exception": false,
     "start_time": "2022-11-29T23:08:56.673336",
     "status": "completed"
    },
    "tags": []
   },
   "outputs": [
    {
     "name": "stdout",
     "output_type": "stream",
     "text": [
      "Number of genes in chromosome: 170\n"
     ]
    }
   ],
   "source": [
    "# run only on the chromosome specified\n",
    "all_chrs = [CHROMOSOME]\n",
    "genes_chr = genes_info[genes_info[\"chr\"] == CHROMOSOME]\n",
    "\n",
    "# For testing purposes\n",
    "# genes_chr = genes_chr.sample(n=20)\n",
    "\n",
    "print(f\"Number of genes in chromosome: {genes_chr.shape[0]}\", flush=True)"
   ]
  },
  {
   "cell_type": "code",
   "execution_count": 26,
   "id": "916015d8-2979-46d3-a9b9-1cf5a0932c6a",
   "metadata": {
    "execution": {
     "iopub.execute_input": "2022-11-29T23:08:56.725313Z",
     "iopub.status.busy": "2022-11-29T23:08:56.724920Z",
     "iopub.status.idle": "2022-11-29T23:08:56.746583Z",
     "shell.execute_reply": "2022-11-29T23:08:56.745951Z"
    },
    "papermill": {
     "duration": 0.03195,
     "end_time": "2022-11-29T23:08:56.747822",
     "exception": false,
     "start_time": "2022-11-29T23:08:56.715872",
     "status": "completed"
    },
    "tags": []
   },
   "outputs": [],
   "source": [
    "# sort genes by starting position to make visualizations better later\n",
    "genes_chr = genes_chr.sort_values(\"start_position\")"
   ]
  },
  {
   "cell_type": "code",
   "execution_count": 27,
   "id": "a38aa74a-8ad3-47f6-8ef9-56be0e011774",
   "metadata": {
    "execution": {
     "iopub.execute_input": "2022-11-29T23:08:56.766238Z",
     "iopub.status.busy": "2022-11-29T23:08:56.765845Z",
     "iopub.status.idle": "2022-11-29T23:08:56.787814Z",
     "shell.execute_reply": "2022-11-29T23:08:56.787193Z"
    },
    "papermill": {
     "duration": 0.032279,
     "end_time": "2022-11-29T23:08:56.789041",
     "exception": false,
     "start_time": "2022-11-29T23:08:56.756762",
     "status": "completed"
    },
    "tags": []
   },
   "outputs": [],
   "source": [
    "gene_chr_objs = [Gene(ensembl_id=gene_id) for gene_id in genes_chr[\"id\"]]"
   ]
  },
  {
   "cell_type": "code",
   "execution_count": 28,
   "id": "570f974f-13c3-42b6-ad3a-ce99ca885c1a",
   "metadata": {
    "execution": {
     "iopub.execute_input": "2022-11-29T23:08:56.807164Z",
     "iopub.status.busy": "2022-11-29T23:08:56.806775Z",
     "iopub.status.idle": "2022-11-29T23:08:56.828862Z",
     "shell.execute_reply": "2022-11-29T23:08:56.828174Z"
    },
    "papermill": {
     "duration": 0.032431,
     "end_time": "2022-11-29T23:08:56.830075",
     "exception": false,
     "start_time": "2022-11-29T23:08:56.797644",
     "status": "completed"
    },
    "tags": []
   },
   "outputs": [
    {
     "name": "stdout",
     "output_type": "stream",
     "text": [
      "Number of gene combinations: 14535\n"
     ]
    }
   ],
   "source": [
    "n = len(gene_chr_objs)\n",
    "# diagonal elements + upper triangular matrix\n",
    "n_comb = n + int(n * (n - 1) / 2.0)\n",
    "print(f\"Number of gene combinations: {n_comb}\", flush=True)"
   ]
  },
  {
   "cell_type": "code",
   "execution_count": 29,
   "id": "cdbb90a1",
   "metadata": {
    "execution": {
     "iopub.execute_input": "2022-11-29T23:08:56.853488Z",
     "iopub.status.busy": "2022-11-29T23:08:56.852950Z",
     "iopub.status.idle": "2022-11-29T23:19:58.536723Z",
     "shell.execute_reply": "2022-11-29T23:19:58.536142Z"
    },
    "papermill": {
     "duration": 661.696865,
     "end_time": "2022-11-29T23:19:58.537796",
     "exception": false,
     "start_time": "2022-11-29T23:08:56.840931",
     "status": "completed"
    },
    "tags": []
   },
   "outputs": [
    {
     "name": "stderr",
     "output_type": "stream",
     "text": [
      "ENSG00000251322 / ENSG00000251322: 100%|██████████████████████| 14535/14535 [11:01<00:00, 21.97it/s]\n"
     ]
    },
    {
     "data": {
      "text/plain": [
       "PosixPath('/opt/data/projects/asthma-copd/results/gls_phenoplier/gene_corrs/asthma_only/by_chr/gene_corrs-chr22.pkl')"
      ]
     },
     "metadata": {},
     "output_type": "display_data"
    }
   ],
   "source": [
    "gene_corrs = []\n",
    "gene_corrs_data = np.full(\n",
    "    (n, n),\n",
    "    np.nan,\n",
    "    dtype=np.float64,\n",
    ")\n",
    "\n",
    "i = 0\n",
    "with tqdm(ncols=100, total=n_comb) as pbar:\n",
    "    for gene1_idx in range(0, len(gene_chr_objs)):\n",
    "        gene1_obj = gene_chr_objs[gene1_idx]\n",
    "        gene1_tissues = spredixcan_genes_models.loc[gene1_obj.ensembl_id, \"tissue\"]\n",
    "\n",
    "        for gene2_idx in range(gene1_idx, len(gene_chr_objs)):\n",
    "            gene2_obj = gene_chr_objs[gene2_idx]\n",
    "            gene2_tissues = spredixcan_genes_models.loc[gene2_obj.ensembl_id, \"tissue\"]\n",
    "\n",
    "            pbar.set_description(f\"{gene1_obj.ensembl_id} / {gene2_obj.ensembl_id}\")\n",
    "\n",
    "            try:\n",
    "                r = gene1_obj.get_ssm_correlation(\n",
    "                    other_gene=gene2_obj,\n",
    "                    tissues=gene1_tissues,\n",
    "                    other_tissues=gene2_tissues,\n",
    "                    snps_subset=gwas_variants_ids_set,\n",
    "                    condition_number=SMULTIXCAN_CONDITION_NUMBER,\n",
    "                    reference_panel=REFERENCE_PANEL,\n",
    "                    model_type=EQTL_MODEL,\n",
    "                    use_within_distance=COMPUTE_CORRELATIONS_WITHIN_DISTANCE,\n",
    "                )\n",
    "\n",
    "                if r is None:\n",
    "                    # if r is None, it's very likely because:\n",
    "                    #  * one of the genes has no prediction models\n",
    "                    #  * all the SNPs predictors for the gene are not present in the reference\n",
    "                    #    panel\n",
    "\n",
    "                    r = 0.0\n",
    "\n",
    "                gene_corrs.append(r)\n",
    "\n",
    "                gene_corrs_data[gene1_idx, gene2_idx] = r\n",
    "                gene_corrs_data[gene2_idx, gene1_idx] = r\n",
    "            except Warning as e:\n",
    "                if not DEBUG_MODE:\n",
    "                    raise e\n",
    "\n",
    "                print(\n",
    "                    f\"RuntimeWarning for genes {gene1_obj.ensembl_id} and {gene2_obj.ensembl_id}\",\n",
    "                    flush=True,\n",
    "                )\n",
    "                print(traceback.format_exc(), flush=True)\n",
    "\n",
    "                gene_corrs.append(np.nan)\n",
    "            except Exception as e:\n",
    "                if not DEBUG_MODE:\n",
    "                    raise e\n",
    "\n",
    "                print(\n",
    "                    f\"Exception for genes {gene1_obj.ensembl_id} and {gene2_obj.ensembl_id}\",\n",
    "                    flush=True,\n",
    "                )\n",
    "                print(traceback.format_exc(), flush=True)\n",
    "\n",
    "                gene_corrs.append(np.nan)\n",
    "\n",
    "            pbar.update(1)\n",
    "\n",
    "# create a pandas series\n",
    "gene_corrs_flat = pd.Series(gene_corrs)\n",
    "\n",
    "# save\n",
    "# FIXME: consider saving only the condenced matrix here. See here for\n",
    "# more details: https://github.com/greenelab/phenoplier/pull/38#discussion_r634600813\n",
    "# gene_corrs_data = squareform(np.array(gene_corrs, dtype=np.float64))\n",
    "# np.fill_diagonal(gene_corrs_data, 1.0)\n",
    "\n",
    "gene_chr_ids = [g.ensembl_id for g in gene_chr_objs]\n",
    "gene_corrs_df = pd.DataFrame(\n",
    "    data=gene_corrs_data,\n",
    "    index=gene_chr_ids,\n",
    "    columns=gene_chr_ids,\n",
    ")\n",
    "\n",
    "output_dir.mkdir(exist_ok=True, parents=True)\n",
    "display(output_file)\n",
    "\n",
    "gene_corrs_df.to_pickle(output_file)"
   ]
  },
  {
   "cell_type": "markdown",
   "id": "faa67b51-5373-470f-aa72-2ded53fa6dfe",
   "metadata": {
    "papermill": {
     "duration": 0.587283,
     "end_time": "2022-11-29T23:19:59.742721",
     "exception": false,
     "start_time": "2022-11-29T23:19:59.155438",
     "status": "completed"
    },
    "tags": []
   },
   "source": [
    "# Testing"
   ]
  },
  {
   "cell_type": "code",
   "execution_count": 30,
   "id": "14f7d046-4b55-4896-a56b-990127bcc388",
   "metadata": {
    "execution": {
     "iopub.execute_input": "2022-11-29T23:20:00.884977Z",
     "iopub.status.busy": "2022-11-29T23:20:00.884617Z",
     "iopub.status.idle": "2022-11-29T23:20:00.904145Z",
     "shell.execute_reply": "2022-11-29T23:20:00.903584Z"
    },
    "papermill": {
     "duration": 0.570374,
     "end_time": "2022-11-29T23:20:00.904978",
     "exception": false,
     "start_time": "2022-11-29T23:20:00.334604",
     "status": "completed"
    },
    "tags": []
   },
   "outputs": [
    {
     "data": {
      "text/plain": [
       "(170, 170)"
      ]
     },
     "execution_count": 30,
     "metadata": {},
     "output_type": "execute_result"
    }
   ],
   "source": [
    "gene_corrs_df.shape"
   ]
  },
  {
   "cell_type": "code",
   "execution_count": 31,
   "id": "c7d15414-3297-4537-a7c6-7588c0baeb75",
   "metadata": {
    "execution": {
     "iopub.execute_input": "2022-11-29T23:20:02.069516Z",
     "iopub.status.busy": "2022-11-29T23:20:02.068714Z",
     "iopub.status.idle": "2022-11-29T23:20:02.106694Z",
     "shell.execute_reply": "2022-11-29T23:20:02.106062Z"
    },
    "papermill": {
     "duration": 0.624916,
     "end_time": "2022-11-29T23:20:02.108160",
     "exception": false,
     "start_time": "2022-11-29T23:20:01.483244",
     "status": "completed"
    },
    "tags": []
   },
   "outputs": [
    {
     "data": {
      "text/html": [
       "<div>\n",
       "<style scoped>\n",
       "    .dataframe tbody tr th:only-of-type {\n",
       "        vertical-align: middle;\n",
       "    }\n",
       "\n",
       "    .dataframe tbody tr th {\n",
       "        vertical-align: top;\n",
       "    }\n",
       "\n",
       "    .dataframe thead th {\n",
       "        text-align: right;\n",
       "    }\n",
       "</style>\n",
       "<table border=\"1\" class=\"dataframe\">\n",
       "  <thead>\n",
       "    <tr style=\"text-align: right;\">\n",
       "      <th></th>\n",
       "      <th>ENSG00000177663</th>\n",
       "      <th>ENSG00000131100</th>\n",
       "      <th>ENSG00000099968</th>\n",
       "      <th>ENSG00000015475</th>\n",
       "      <th>ENSG00000243156</th>\n",
       "      <th>ENSG00000215193</th>\n",
       "      <th>ENSG00000183785</th>\n",
       "      <th>ENSG00000184979</th>\n",
       "      <th>ENSG00000100033</th>\n",
       "      <th>ENSG00000100075</th>\n",
       "      <th>...</th>\n",
       "      <th>ENSG00000196576</th>\n",
       "      <th>ENSG00000128165</th>\n",
       "      <th>ENSG00000100253</th>\n",
       "      <th>ENSG00000130489</th>\n",
       "      <th>ENSG00000025708</th>\n",
       "      <th>ENSG00000205560</th>\n",
       "      <th>ENSG00000100288</th>\n",
       "      <th>ENSG00000008735</th>\n",
       "      <th>ENSG00000100299</th>\n",
       "      <th>ENSG00000251322</th>\n",
       "    </tr>\n",
       "  </thead>\n",
       "  <tbody>\n",
       "    <tr>\n",
       "      <th>ENSG00000177663</th>\n",
       "      <td>1.000000</td>\n",
       "      <td>0.003816</td>\n",
       "      <td>0.006914</td>\n",
       "      <td>0.006409</td>\n",
       "      <td>0.005393</td>\n",
       "      <td>0.009169</td>\n",
       "      <td>0.011137</td>\n",
       "      <td>0.008212</td>\n",
       "      <td>0.005694</td>\n",
       "      <td>0.002630</td>\n",
       "      <td>...</td>\n",
       "      <td>0.008032</td>\n",
       "      <td>0.009928</td>\n",
       "      <td>0.008238</td>\n",
       "      <td>0.003678</td>\n",
       "      <td>0.003232</td>\n",
       "      <td>0.006669</td>\n",
       "      <td>0.004615</td>\n",
       "      <td>0.009432</td>\n",
       "      <td>0.004205</td>\n",
       "      <td>0.002770</td>\n",
       "    </tr>\n",
       "    <tr>\n",
       "      <th>ENSG00000131100</th>\n",
       "      <td>0.003816</td>\n",
       "      <td>1.000000</td>\n",
       "      <td>0.542060</td>\n",
       "      <td>0.258362</td>\n",
       "      <td>0.008517</td>\n",
       "      <td>0.003627</td>\n",
       "      <td>0.005205</td>\n",
       "      <td>0.003596</td>\n",
       "      <td>0.008233</td>\n",
       "      <td>0.005908</td>\n",
       "      <td>...</td>\n",
       "      <td>0.008277</td>\n",
       "      <td>0.007869</td>\n",
       "      <td>0.011249</td>\n",
       "      <td>0.004228</td>\n",
       "      <td>0.006198</td>\n",
       "      <td>0.004357</td>\n",
       "      <td>0.003490</td>\n",
       "      <td>0.005618</td>\n",
       "      <td>0.002902</td>\n",
       "      <td>0.001054</td>\n",
       "    </tr>\n",
       "    <tr>\n",
       "      <th>ENSG00000099968</th>\n",
       "      <td>0.006914</td>\n",
       "      <td>0.542060</td>\n",
       "      <td>1.000000</td>\n",
       "      <td>0.393204</td>\n",
       "      <td>0.017352</td>\n",
       "      <td>0.006770</td>\n",
       "      <td>0.010656</td>\n",
       "      <td>0.006111</td>\n",
       "      <td>0.011148</td>\n",
       "      <td>0.008450</td>\n",
       "      <td>...</td>\n",
       "      <td>0.012225</td>\n",
       "      <td>0.009133</td>\n",
       "      <td>0.010688</td>\n",
       "      <td>0.006931</td>\n",
       "      <td>0.006989</td>\n",
       "      <td>0.006061</td>\n",
       "      <td>0.006840</td>\n",
       "      <td>0.007914</td>\n",
       "      <td>0.006822</td>\n",
       "      <td>0.006200</td>\n",
       "    </tr>\n",
       "    <tr>\n",
       "      <th>ENSG00000015475</th>\n",
       "      <td>0.006409</td>\n",
       "      <td>0.258362</td>\n",
       "      <td>0.393204</td>\n",
       "      <td>1.000000</td>\n",
       "      <td>0.023707</td>\n",
       "      <td>0.013641</td>\n",
       "      <td>0.012742</td>\n",
       "      <td>0.009202</td>\n",
       "      <td>0.012669</td>\n",
       "      <td>0.003952</td>\n",
       "      <td>...</td>\n",
       "      <td>0.012598</td>\n",
       "      <td>0.012137</td>\n",
       "      <td>0.012556</td>\n",
       "      <td>0.006271</td>\n",
       "      <td>0.007571</td>\n",
       "      <td>0.005518</td>\n",
       "      <td>0.007376</td>\n",
       "      <td>0.012388</td>\n",
       "      <td>0.007987</td>\n",
       "      <td>0.007268</td>\n",
       "    </tr>\n",
       "    <tr>\n",
       "      <th>ENSG00000243156</th>\n",
       "      <td>0.005393</td>\n",
       "      <td>0.008517</td>\n",
       "      <td>0.017352</td>\n",
       "      <td>0.023707</td>\n",
       "      <td>1.000000</td>\n",
       "      <td>0.041902</td>\n",
       "      <td>0.025743</td>\n",
       "      <td>0.021465</td>\n",
       "      <td>0.012505</td>\n",
       "      <td>0.004385</td>\n",
       "      <td>...</td>\n",
       "      <td>0.017565</td>\n",
       "      <td>0.017028</td>\n",
       "      <td>0.008356</td>\n",
       "      <td>0.006808</td>\n",
       "      <td>0.010760</td>\n",
       "      <td>0.009518</td>\n",
       "      <td>0.011146</td>\n",
       "      <td>0.011820</td>\n",
       "      <td>0.005771</td>\n",
       "      <td>0.008866</td>\n",
       "    </tr>\n",
       "  </tbody>\n",
       "</table>\n",
       "<p>5 rows × 170 columns</p>\n",
       "</div>"
      ],
      "text/plain": [
       "                 ENSG00000177663  ENSG00000131100  ENSG00000099968  \\\n",
       "ENSG00000177663         1.000000         0.003816         0.006914   \n",
       "ENSG00000131100         0.003816         1.000000         0.542060   \n",
       "ENSG00000099968         0.006914         0.542060         1.000000   \n",
       "ENSG00000015475         0.006409         0.258362         0.393204   \n",
       "ENSG00000243156         0.005393         0.008517         0.017352   \n",
       "\n",
       "                 ENSG00000015475  ENSG00000243156  ENSG00000215193  \\\n",
       "ENSG00000177663         0.006409         0.005393         0.009169   \n",
       "ENSG00000131100         0.258362         0.008517         0.003627   \n",
       "ENSG00000099968         0.393204         0.017352         0.006770   \n",
       "ENSG00000015475         1.000000         0.023707         0.013641   \n",
       "ENSG00000243156         0.023707         1.000000         0.041902   \n",
       "\n",
       "                 ENSG00000183785  ENSG00000184979  ENSG00000100033  \\\n",
       "ENSG00000177663         0.011137         0.008212         0.005694   \n",
       "ENSG00000131100         0.005205         0.003596         0.008233   \n",
       "ENSG00000099968         0.010656         0.006111         0.011148   \n",
       "ENSG00000015475         0.012742         0.009202         0.012669   \n",
       "ENSG00000243156         0.025743         0.021465         0.012505   \n",
       "\n",
       "                 ENSG00000100075  ...  ENSG00000196576  ENSG00000128165  \\\n",
       "ENSG00000177663         0.002630  ...         0.008032         0.009928   \n",
       "ENSG00000131100         0.005908  ...         0.008277         0.007869   \n",
       "ENSG00000099968         0.008450  ...         0.012225         0.009133   \n",
       "ENSG00000015475         0.003952  ...         0.012598         0.012137   \n",
       "ENSG00000243156         0.004385  ...         0.017565         0.017028   \n",
       "\n",
       "                 ENSG00000100253  ENSG00000130489  ENSG00000025708  \\\n",
       "ENSG00000177663         0.008238         0.003678         0.003232   \n",
       "ENSG00000131100         0.011249         0.004228         0.006198   \n",
       "ENSG00000099968         0.010688         0.006931         0.006989   \n",
       "ENSG00000015475         0.012556         0.006271         0.007571   \n",
       "ENSG00000243156         0.008356         0.006808         0.010760   \n",
       "\n",
       "                 ENSG00000205560  ENSG00000100288  ENSG00000008735  \\\n",
       "ENSG00000177663         0.006669         0.004615         0.009432   \n",
       "ENSG00000131100         0.004357         0.003490         0.005618   \n",
       "ENSG00000099968         0.006061         0.006840         0.007914   \n",
       "ENSG00000015475         0.005518         0.007376         0.012388   \n",
       "ENSG00000243156         0.009518         0.011146         0.011820   \n",
       "\n",
       "                 ENSG00000100299  ENSG00000251322  \n",
       "ENSG00000177663         0.004205         0.002770  \n",
       "ENSG00000131100         0.002902         0.001054  \n",
       "ENSG00000099968         0.006822         0.006200  \n",
       "ENSG00000015475         0.007987         0.007268  \n",
       "ENSG00000243156         0.005771         0.008866  \n",
       "\n",
       "[5 rows x 170 columns]"
      ]
     },
     "execution_count": 31,
     "metadata": {},
     "output_type": "execute_result"
    }
   ],
   "source": [
    "gene_corrs_df.head()"
   ]
  },
  {
   "cell_type": "markdown",
   "id": "dad6603f-01c6-41fb-a6f6-241051207dd8",
   "metadata": {
    "papermill": {
     "duration": 0.579856,
     "end_time": "2022-11-29T23:20:03.275498",
     "exception": false,
     "start_time": "2022-11-29T23:20:02.695642",
     "status": "completed"
    },
    "tags": []
   },
   "source": [
    "## Standard checks and stats"
   ]
  },
  {
   "cell_type": "code",
   "execution_count": 32,
   "id": "286686af-1b7b-4440-8453-6bdcbd8de19c",
   "metadata": {
    "execution": {
     "iopub.execute_input": "2022-11-29T23:20:04.413255Z",
     "iopub.status.busy": "2022-11-29T23:20:04.412446Z",
     "iopub.status.idle": "2022-11-29T23:20:04.435314Z",
     "shell.execute_reply": "2022-11-29T23:20:04.434657Z"
    },
    "papermill": {
     "duration": 0.575956,
     "end_time": "2022-11-29T23:20:04.436240",
     "exception": false,
     "start_time": "2022-11-29T23:20:03.860284",
     "status": "completed"
    },
    "tags": []
   },
   "outputs": [],
   "source": [
    "assert not gene_corrs_df.isna().any().any()"
   ]
  },
  {
   "cell_type": "code",
   "execution_count": 33,
   "id": "00583efc-7068-4270-ad1e-4a418e91db96",
   "metadata": {
    "execution": {
     "iopub.execute_input": "2022-11-29T23:20:05.604677Z",
     "iopub.status.busy": "2022-11-29T23:20:05.604073Z",
     "iopub.status.idle": "2022-11-29T23:20:05.627794Z",
     "shell.execute_reply": "2022-11-29T23:20:05.627280Z"
    },
    "papermill": {
     "duration": 0.608483,
     "end_time": "2022-11-29T23:20:05.628709",
     "exception": false,
     "start_time": "2022-11-29T23:20:05.020226",
     "status": "completed"
    },
    "tags": []
   },
   "outputs": [
    {
     "data": {
      "text/plain": [
       "1.7872532327778087e-07"
      ]
     },
     "metadata": {},
     "output_type": "display_data"
    }
   ],
   "source": [
    "_min_val = gene_corrs_df.min().min()\n",
    "display(_min_val)\n",
    "assert _min_val >= -0.05"
   ]
  },
  {
   "cell_type": "code",
   "execution_count": 34,
   "id": "d04fb2cf-1050-475b-b855-f5f7cc04092b",
   "metadata": {
    "execution": {
     "iopub.execute_input": "2022-11-29T23:20:06.805900Z",
     "iopub.status.busy": "2022-11-29T23:20:06.805228Z",
     "iopub.status.idle": "2022-11-29T23:20:06.828821Z",
     "shell.execute_reply": "2022-11-29T23:20:06.828280Z"
    },
    "papermill": {
     "duration": 0.614044,
     "end_time": "2022-11-29T23:20:06.829688",
     "exception": false,
     "start_time": "2022-11-29T23:20:06.215644",
     "status": "completed"
    },
    "tags": []
   },
   "outputs": [
    {
     "data": {
      "text/plain": [
       "1.0000000000000024"
      ]
     },
     "metadata": {},
     "output_type": "display_data"
    }
   ],
   "source": [
    "_max_val = gene_corrs_df.max().max()  # this captures the diagonal\n",
    "display(_max_val)\n",
    "assert _max_val <= 1.05"
   ]
  },
  {
   "cell_type": "code",
   "execution_count": 35,
   "id": "96d02c44-1fba-47be-8a93-8f2608420b9c",
   "metadata": {
    "execution": {
     "iopub.execute_input": "2022-11-29T23:20:07.963071Z",
     "iopub.status.busy": "2022-11-29T23:20:07.962688Z",
     "iopub.status.idle": "2022-11-29T23:20:07.984157Z",
     "shell.execute_reply": "2022-11-29T23:20:07.983617Z"
    },
    "papermill": {
     "duration": 0.605177,
     "end_time": "2022-11-29T23:20:07.985222",
     "exception": false,
     "start_time": "2022-11-29T23:20:07.380045",
     "status": "completed"
    },
    "tags": []
   },
   "outputs": [],
   "source": [
    "# check upper triangular values\n",
    "# assert len(gene_corrs) == int(genes_chr.shape[0] * (genes_chr.shape[0] - 1) / 2)"
   ]
  },
  {
   "cell_type": "code",
   "execution_count": 36,
   "id": "fe283586-c348-40e0-8841-f6d97bfb021c",
   "metadata": {
    "execution": {
     "iopub.execute_input": "2022-11-29T23:20:09.155686Z",
     "iopub.status.busy": "2022-11-29T23:20:09.155396Z",
     "iopub.status.idle": "2022-11-29T23:20:09.181828Z",
     "shell.execute_reply": "2022-11-29T23:20:09.181177Z"
    },
    "papermill": {
     "duration": 0.612612,
     "end_time": "2022-11-29T23:20:09.182732",
     "exception": false,
     "start_time": "2022-11-29T23:20:08.570120",
     "status": "completed"
    },
    "tags": []
   },
   "outputs": [
    {
     "data": {
      "text/plain": [
       "count    1.453500e+04\n",
       "mean     2.274945e-02\n",
       "std      1.136296e-01\n",
       "min      1.787253e-07\n",
       "25%      3.947494e-03\n",
       "50%      6.078427e-03\n",
       "75%      8.573736e-03\n",
       "max      1.000000e+00\n",
       "dtype: float64"
      ]
     },
     "execution_count": 36,
     "metadata": {},
     "output_type": "execute_result"
    }
   ],
   "source": [
    "gene_corrs_flat.describe()"
   ]
  },
  {
   "cell_type": "code",
   "execution_count": 37,
   "id": "b3815678-0f93-4b35-897b-a9d047a2aa78",
   "metadata": {
    "execution": {
     "iopub.execute_input": "2022-11-29T23:20:10.355058Z",
     "iopub.status.busy": "2022-11-29T23:20:10.354518Z",
     "iopub.status.idle": "2022-11-29T23:20:10.381469Z",
     "shell.execute_reply": "2022-11-29T23:20:10.380817Z"
    },
    "papermill": {
     "duration": 0.617864,
     "end_time": "2022-11-29T23:20:10.382374",
     "exception": false,
     "start_time": "2022-11-29T23:20:09.764510",
     "status": "completed"
    },
    "tags": []
   },
   "outputs": [
    {
     "data": {
      "text/plain": [
       "0.00    1.787253e-07\n",
       "0.05    1.576486e-03\n",
       "0.10    2.324116e-03\n",
       "0.15    2.946915e-03\n",
       "0.20    3.471865e-03\n",
       "0.25    3.947494e-03\n",
       "0.30    4.391891e-03\n",
       "0.35    4.811992e-03\n",
       "0.40    5.222687e-03\n",
       "0.45    5.639608e-03\n",
       "0.50    6.078427e-03\n",
       "0.55    6.492210e-03\n",
       "0.60    6.946452e-03\n",
       "0.65    7.477370e-03\n",
       "0.70    7.983982e-03\n",
       "0.75    8.573736e-03\n",
       "0.80    9.257425e-03\n",
       "0.85    1.014280e-02\n",
       "0.90    1.152202e-02\n",
       "0.95    1.570047e-02\n",
       "dtype: float64"
      ]
     },
     "metadata": {},
     "output_type": "display_data"
    }
   ],
   "source": [
    "gene_corrs_quantiles = gene_corrs_flat.quantile(np.arange(0, 1, 0.05))\n",
    "display(gene_corrs_quantiles)"
   ]
  },
  {
   "cell_type": "markdown",
   "id": "87134509-b145-4a10-8bc9-b7e914c2b0fa",
   "metadata": {
    "papermill": {
     "duration": 0.559833,
     "end_time": "2022-11-29T23:20:11.544638",
     "exception": false,
     "start_time": "2022-11-29T23:20:10.984805",
     "status": "completed"
    },
    "tags": []
   },
   "source": [
    "## Positive definiteness"
   ]
  },
  {
   "cell_type": "code",
   "execution_count": 38,
   "id": "07d9a9a1-a4f7-48aa-b916-6d42a8cc6186",
   "metadata": {
    "execution": {
     "iopub.execute_input": "2022-11-29T23:20:12.719312Z",
     "iopub.status.busy": "2022-11-29T23:20:12.718832Z",
     "iopub.status.idle": "2022-11-29T23:20:12.748976Z",
     "shell.execute_reply": "2022-11-29T23:20:12.748496Z"
    },
    "papermill": {
     "duration": 0.608605,
     "end_time": "2022-11-29T23:20:12.749825",
     "exception": false,
     "start_time": "2022-11-29T23:20:12.141220",
     "status": "completed"
    },
    "tags": []
   },
   "outputs": [
    {
     "data": {
      "text/plain": [
       "0"
      ]
     },
     "metadata": {},
     "output_type": "display_data"
    },
    {
     "data": {
      "text/plain": [
       "array([], dtype=float64)"
      ]
     },
     "metadata": {},
     "output_type": "display_data"
    }
   ],
   "source": [
    "# print negative eigenvalues\n",
    "eigs = np.linalg.eigvals(gene_corrs_df.to_numpy())\n",
    "display(len(eigs[eigs < 0]))\n",
    "display(eigs[eigs < 0])"
   ]
  },
  {
   "cell_type": "code",
   "execution_count": 39,
   "id": "6e218436-c3c5-4028-8c94-a4fa6260efce",
   "metadata": {
    "execution": {
     "iopub.execute_input": "2022-11-29T23:20:13.903317Z",
     "iopub.status.busy": "2022-11-29T23:20:13.902667Z",
     "iopub.status.idle": "2022-11-29T23:20:13.927832Z",
     "shell.execute_reply": "2022-11-29T23:20:13.927178Z"
    },
    "papermill": {
     "duration": 0.607572,
     "end_time": "2022-11-29T23:20:13.928797",
     "exception": false,
     "start_time": "2022-11-29T23:20:13.321225",
     "status": "completed"
    },
    "tags": []
   },
   "outputs": [
    {
     "name": "stdout",
     "output_type": "stream",
     "text": [
      "Works!\n"
     ]
    }
   ],
   "source": [
    "try:\n",
    "    chol_mat = np.linalg.cholesky(gene_corrs_df.to_numpy())\n",
    "    cov_inv = np.linalg.inv(chol_mat)\n",
    "    print(\"Works!\")\n",
    "except Exception as e:\n",
    "    print(f\"Cholesky decomposition failed: {str(e)}\")"
   ]
  },
  {
   "cell_type": "code",
   "execution_count": 40,
   "id": "dd8827fb-faf9-4c7c-9454-015e94752706",
   "metadata": {
    "execution": {
     "iopub.execute_input": "2022-11-29T23:20:15.082299Z",
     "iopub.status.busy": "2022-11-29T23:20:15.081673Z",
     "iopub.status.idle": "2022-11-29T23:20:15.106486Z",
     "shell.execute_reply": "2022-11-29T23:20:15.105842Z"
    },
    "papermill": {
     "duration": 0.609419,
     "end_time": "2022-11-29T23:20:15.107441",
     "exception": false,
     "start_time": "2022-11-29T23:20:14.498022",
     "status": "completed"
    },
    "tags": []
   },
   "outputs": [
    {
     "name": "stdout",
     "output_type": "stream",
     "text": [
      "Works!\n"
     ]
    }
   ],
   "source": [
    "try:\n",
    "    # decomposition used by statsmodels.GLS\n",
    "    cholsigmainv = np.linalg.cholesky(np.linalg.inv(gene_corrs_df.to_numpy())).T\n",
    "    print(\"Works!\")\n",
    "except Exception as e:\n",
    "    print(f\"Cholesky decomposition failed (statsmodels.GLS): {str(e)}\")"
   ]
  },
  {
   "cell_type": "markdown",
   "id": "8e60a080-edb2-4e9c-b2ef-22961693200c",
   "metadata": {
    "papermill": {
     "duration": 0.581431,
     "end_time": "2022-11-29T23:20:16.238040",
     "exception": false,
     "start_time": "2022-11-29T23:20:15.656609",
     "status": "completed"
    },
    "tags": []
   },
   "source": [
    "## Plot: distribution"
   ]
  },
  {
   "cell_type": "code",
   "execution_count": 41,
   "id": "8301126b-a7d4-4744-9c7d-f0f86eb6f54c",
   "metadata": {
    "execution": {
     "iopub.execute_input": "2022-11-29T23:20:17.405988Z",
     "iopub.status.busy": "2022-11-29T23:20:17.405609Z",
     "iopub.status.idle": "2022-11-29T23:20:20.260178Z",
     "shell.execute_reply": "2022-11-29T23:20:20.259693Z"
    },
    "papermill": {
     "duration": 3.443144,
     "end_time": "2022-11-29T23:20:20.261497",
     "exception": false,
     "start_time": "2022-11-29T23:20:16.818353",
     "status": "completed"
    },
    "tags": []
   },
   "outputs": [
    {
     "data": {
      "image/png": "[encoded data removed]",
      "text/plain": [
       "<Figure size 700x700 with 1 Axes>"
      ]
     },
     "metadata": {},
     "output_type": "display_data"
    }
   ],
   "source": [
    "with sns.plotting_context(\"paper\", font_scale=1.5):\n",
    "    g = sns.displot(gene_corrs_flat, kde=True, height=7)\n",
    "    g.ax.set_title(\n",
    "        f\"Distribution of gene correlation values in chromosome {CHROMOSOME}\"\n",
    "    )"
   ]
  },
  {
   "cell_type": "markdown",
   "id": "cbd52bca-d878-4a2f-b684-5c83aa3038d4",
   "metadata": {
    "papermill": {
     "duration": 0.576223,
     "end_time": "2022-11-29T23:20:21.424270",
     "exception": false,
     "start_time": "2022-11-29T23:20:20.848047",
     "status": "completed"
    },
    "tags": []
   },
   "source": [
    "## Plot: heatmap"
   ]
  },
  {
   "cell_type": "code",
   "execution_count": 42,
   "id": "d03fe63a-c7b2-4fb9-a53c-db362ce843c9",
   "metadata": {
    "execution": {
     "iopub.execute_input": "2022-11-29T23:20:22.542711Z",
     "iopub.status.busy": "2022-11-29T23:20:22.542110Z",
     "iopub.status.idle": "2022-11-29T23:20:22.564284Z",
     "shell.execute_reply": "2022-11-29T23:20:22.563715Z"
    },
    "papermill": {
     "duration": 0.562432,
     "end_time": "2022-11-29T23:20:22.565219",
     "exception": false,
     "start_time": "2022-11-29T23:20:22.002787",
     "status": "completed"
    },
    "tags": []
   },
   "outputs": [
    {
     "data": {
      "text/plain": [
       "'0.0 / 0.05'"
      ]
     },
     "metadata": {},
     "output_type": "display_data"
    }
   ],
   "source": [
    "vmin_val = min(0.00, gene_corrs_quantiles[0.10])\n",
    "vmax_val = max(0.05, gene_corrs_quantiles[0.90])\n",
    "display(f\"{vmin_val} / {vmax_val}\")"
   ]
  },
  {
   "cell_type": "code",
   "execution_count": 43,
   "id": "dc41b70b-5bcc-4d9e-9f33-a22c4a94dab5",
   "metadata": {
    "execution": {
     "iopub.execute_input": "2022-11-29T23:20:23.717699Z",
     "iopub.status.busy": "2022-11-29T23:20:23.717392Z",
     "iopub.status.idle": "2022-11-29T23:20:23.888478Z",
     "shell.execute_reply": "2022-11-29T23:20:23.887933Z"
    },
    "papermill": {
     "duration": 0.74916,
     "end_time": "2022-11-29T23:20:23.889297",
     "exception": false,
     "start_time": "2022-11-29T23:20:23.140137",
     "status": "completed"
    },
    "tags": []
   },
   "outputs": [
    {
     "data": {
      "text/plain": [
       "Text(0.5, 1.0, 'Gene correlations in chromosome 22')"
      ]
     },
     "execution_count": 43,
     "metadata": {},
     "output_type": "execute_result"
    },
    {
     "data": {
      "image/png": "[encoded data removed]",
      "text/plain": [
       "<Figure size 1000x1000 with 2 Axes>"
      ]
     },
     "metadata": {},
     "output_type": "display_data"
    }
   ],
   "source": [
    "f, ax = plt.subplots(figsize=(10, 10))\n",
    "sns.heatmap(\n",
    "    gene_corrs_df,\n",
    "    xticklabels=False,\n",
    "    yticklabels=False,\n",
    "    square=True,\n",
    "    vmin=vmin_val,\n",
    "    vmax=vmax_val,\n",
    "    cmap=\"rocket_r\",\n",
    "    ax=ax,\n",
    ")\n",
    "ax.set_title(f\"Gene correlations in chromosome {CHROMOSOME}\")"
   ]
  },
  {
   "cell_type": "code",
   "execution_count": null,
   "id": "b25e3ead",
   "metadata": {
    "papermill": {
     "duration": 0.580204,
     "end_time": "2022-11-29T23:20:25.053059",
     "exception": false,
     "start_time": "2022-11-29T23:20:24.472855",
     "status": "completed"
    },
    "tags": []
   },
   "outputs": [],
   "source": []
  }
 ],
 "metadata": {
  "jupytext": {
   "cell_metadata_filter": "all,-execution,-papermill,-trusted",
   "formats": "ipynb,py//py:percent"
  },
  "kernelspec": {
   "display_name": "Python 3 (ipykernel)",
   "language": "python",
   "name": "python3"
  },
  "language_info": {
   "codemirror_mode": {
    "name": "ipython",
    "version": 3
   },
   "file_extension": ".py",
   "mimetype": "text/x-python",
   "name": "python",
   "nbconvert_exporter": "python",
   "pygments_lexer": "ipython3",
   "version": "3.10.6"
  },
  "papermill": {
   "default_parameters": {},
   "duration": 697.89899,
   "end_time": "2022-11-29T23:20:28.999743",
   "environment_variables": {},
   "exception": null,
   "input_path": "projects/asthma-copd/nbs/20_gene_corrs/10-gene_expr_correlations.ipynb",
   "output_path": "projects/asthma-copd/nbs/20_gene_corrs/gene_corrs/asthma_only/10-gene_expr_correlations-chr22.run.ipynb",
   "parameters": {
    "CHROMOSOME": 22,
    "COHORT_NAME": "asthma_only",
    "OUTPUT_DIR_BASE": "/opt/data/projects/asthma-copd/results/gls_phenoplier"
   },
   "start_time": "2022-11-29T23:08:51.100753",
   "version": "2.2.2"
  }
 },
 "nbformat": 4,
 "nbformat_minor": 5
}
