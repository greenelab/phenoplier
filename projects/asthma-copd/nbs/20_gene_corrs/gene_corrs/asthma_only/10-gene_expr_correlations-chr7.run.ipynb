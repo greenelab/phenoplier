{
 "cells": [
  {
   "cell_type": "markdown",
   "id": "7a6632fb",
   "metadata": {
    "papermill": {
     "duration": 0.00848,
     "end_time": "2022-11-29T22:22:31.898365",
     "exception": false,
     "start_time": "2022-11-29T22:22:31.889885",
     "status": "completed"
    },
    "tags": []
   },
   "source": [
    "# Description"
   ]
  },
  {
   "cell_type": "markdown",
   "id": "7097c346",
   "metadata": {
    "papermill": {
     "duration": 0.007653,
     "end_time": "2022-11-29T22:22:31.913866",
     "exception": false,
     "start_time": "2022-11-29T22:22:31.906213",
     "status": "completed"
    },
    "tags": []
   },
   "source": [
    "(Please, take a look at the README.md file in this directory for instructions on how to run this notebook)\n",
    "\n",
    "This notebook computes predicted expression correlations between all genes in the MultiPLIER models.\n",
    "\n",
    "It has specicfic parameters for papermill (see under `Settings` below).\n",
    "It can be configured to run on a single chromosome to run in parallel.\n",
    "\n",
    "This notebook is not directly run. See README.md."
   ]
  },
  {
   "cell_type": "markdown",
   "id": "c61d8427",
   "metadata": {
    "papermill": {
     "duration": 0.007698,
     "end_time": "2022-11-29T22:22:31.929283",
     "exception": false,
     "start_time": "2022-11-29T22:22:31.921585",
     "status": "completed"
    },
    "tags": []
   },
   "source": [
    "# Modules"
   ]
  },
  {
   "cell_type": "code",
   "execution_count": 1,
   "id": "bbc0234f",
   "metadata": {
    "execution": {
     "iopub.execute_input": "2022-11-29T22:22:31.955676Z",
     "iopub.status.busy": "2022-11-29T22:22:31.955037Z",
     "iopub.status.idle": "2022-11-29T22:22:31.973127Z",
     "shell.execute_reply": "2022-11-29T22:22:31.972599Z"
    },
    "papermill": {
     "duration": 0.033937,
     "end_time": "2022-11-29T22:22:31.974616",
     "exception": false,
     "start_time": "2022-11-29T22:22:31.940679",
     "status": "completed"
    },
    "tags": []
   },
   "outputs": [],
   "source": [
    "%load_ext autoreload\n",
    "%autoreload 2"
   ]
  },
  {
   "cell_type": "code",
   "execution_count": 2,
   "id": "1d5f5a59",
   "metadata": {
    "execution": {
     "iopub.execute_input": "2022-11-29T22:22:31.999352Z",
     "iopub.status.busy": "2022-11-29T22:22:31.998830Z",
     "iopub.status.idle": "2022-11-29T22:22:32.691595Z",
     "shell.execute_reply": "2022-11-29T22:22:32.690984Z"
    },
    "papermill": {
     "duration": 0.707819,
     "end_time": "2022-11-29T22:22:32.692837",
     "exception": false,
     "start_time": "2022-11-29T22:22:31.985018",
     "status": "completed"
    },
    "tags": []
   },
   "outputs": [],
   "source": [
    "from random import sample, seed\n",
    "import warnings\n",
    "from pathlib import Path\n",
    "import pickle\n",
    "import traceback\n",
    "\n",
    "import numpy as np\n",
    "from scipy.spatial.distance import squareform\n",
    "import pandas as pd\n",
    "from tqdm import tqdm\n",
    "import matplotlib.pyplot as plt\n",
    "import seaborn as sns\n",
    "\n",
    "import conf\n",
    "from entity import Gene"
   ]
  },
  {
   "cell_type": "markdown",
   "id": "1eac24b5",
   "metadata": {
    "papermill": {
     "duration": 0.01061,
     "end_time": "2022-11-29T22:22:32.711908",
     "exception": false,
     "start_time": "2022-11-29T22:22:32.701298",
     "status": "completed"
    },
    "tags": []
   },
   "source": [
    "# Settings"
   ]
  },
  {
   "cell_type": "code",
   "execution_count": 3,
   "id": "ca4560ba",
   "metadata": {
    "execution": {
     "iopub.execute_input": "2022-11-29T22:22:32.729702Z",
     "iopub.status.busy": "2022-11-29T22:22:32.729461Z",
     "iopub.status.idle": "2022-11-29T22:22:32.748815Z",
     "shell.execute_reply": "2022-11-29T22:22:32.748316Z"
    },
    "papermill": {
     "duration": 0.028257,
     "end_time": "2022-11-29T22:22:32.750360",
     "exception": false,
     "start_time": "2022-11-29T22:22:32.722103",
     "status": "completed"
    },
    "tags": [
     "parameters"
    ]
   },
   "outputs": [],
   "source": [
    "# a cohort name (it could be something like UK_BIOBANK, etc)\n",
    "COHORT_NAME = None\n",
    "\n",
    "# reference panel such as 1000G or GTEX_V8\n",
    "REFERENCE_PANEL = \"GTEX_V8\"\n",
    "\n",
    "# predictions models such as MASHR or ELASTIC_NET\n",
    "EQTL_MODEL = \"MASHR\"\n",
    "\n",
    "# this is the default value used in S-MultiXcan to select the\n",
    "# top principal components of the expression correlation matrix\n",
    "SMULTIXCAN_CONDITION_NUMBER = 30\n",
    "\n",
    "# specifies a single chromosome value\n",
    "CHROMOSOME = None\n",
    "\n",
    "# If True, computes the correlation between closeby genes only;\n",
    "# otherwise, it computes correlations for all genes in a chromosome\n",
    "COMPUTE_CORRELATIONS_WITHIN_DISTANCE = False\n",
    "\n",
    "# if True, then it will continue if a gene pair correlation fails,\n",
    "# printing the warning/error for debugging. If False, any warning/error\n",
    "# will be thrown\n",
    "DEBUG_MODE = False\n",
    "\n",
    "# output dir\n",
    "OUTPUT_DIR_BASE = None"
   ]
  },
  {
   "cell_type": "code",
   "execution_count": 4,
   "id": "456f5c53",
   "metadata": {
    "execution": {
     "iopub.execute_input": "2022-11-29T22:22:32.768112Z",
     "iopub.status.busy": "2022-11-29T22:22:32.767896Z",
     "iopub.status.idle": "2022-11-29T22:22:32.795980Z",
     "shell.execute_reply": "2022-11-29T22:22:32.795414Z"
    },
    "papermill": {
     "duration": 0.03867,
     "end_time": "2022-11-29T22:22:32.797570",
     "exception": false,
     "start_time": "2022-11-29T22:22:32.758900",
     "status": "completed"
    },
    "tags": [
     "injected-parameters"
    ]
   },
   "outputs": [],
   "source": [
    "# Parameters\n",
    "COHORT_NAME = \"asthma_only\"\n",
    "CHROMOSOME = 7\n",
    "OUTPUT_DIR_BASE = \"/opt/data/projects/asthma-copd/results/gls_phenoplier\"\n"
   ]
  },
  {
   "cell_type": "code",
   "execution_count": 5,
   "id": "3190631f-27fc-480f-b18e-571d580425a5",
   "metadata": {
    "execution": {
     "iopub.execute_input": "2022-11-29T22:22:32.814923Z",
     "iopub.status.busy": "2022-11-29T22:22:32.814502Z",
     "iopub.status.idle": "2022-11-29T22:22:32.844553Z",
     "shell.execute_reply": "2022-11-29T22:22:32.843864Z"
    },
    "papermill": {
     "duration": 0.040314,
     "end_time": "2022-11-29T22:22:32.846090",
     "exception": false,
     "start_time": "2022-11-29T22:22:32.805776",
     "status": "completed"
    },
    "tags": []
   },
   "outputs": [
    {
     "data": {
      "text/plain": [
       "'Cohort name: asthma_only'"
      ]
     },
     "metadata": {},
     "output_type": "display_data"
    }
   ],
   "source": [
    "assert COHORT_NAME is not None and len(COHORT_NAME) > 0, \"A cohort name must be given\"\n",
    "\n",
    "COHORT_NAME = COHORT_NAME.lower()\n",
    "display(f\"Cohort name: {COHORT_NAME}\")"
   ]
  },
  {
   "cell_type": "code",
   "execution_count": 6,
   "id": "f53ba19b-0f93-4fa2-a047-63b375939d1a",
   "metadata": {
    "execution": {
     "iopub.execute_input": "2022-11-29T22:22:32.863936Z",
     "iopub.status.busy": "2022-11-29T22:22:32.863711Z",
     "iopub.status.idle": "2022-11-29T22:22:32.888181Z",
     "shell.execute_reply": "2022-11-29T22:22:32.887606Z"
    },
    "papermill": {
     "duration": 0.035236,
     "end_time": "2022-11-29T22:22:32.890050",
     "exception": false,
     "start_time": "2022-11-29T22:22:32.854814",
     "status": "completed"
    },
    "tags": []
   },
   "outputs": [
    {
     "data": {
      "text/plain": [
       "'Reference panel: GTEX_V8'"
      ]
     },
     "metadata": {},
     "output_type": "display_data"
    }
   ],
   "source": [
    "assert (\n",
    "    REFERENCE_PANEL is not None and len(REFERENCE_PANEL) > 0\n",
    "), \"A reference panel must be given\"\n",
    "\n",
    "display(f\"Reference panel: {REFERENCE_PANEL}\")"
   ]
  },
  {
   "cell_type": "code",
   "execution_count": 7,
   "id": "e024d130-c139-429a-9c6e-ccf149e297b0",
   "metadata": {
    "execution": {
     "iopub.execute_input": "2022-11-29T22:22:32.908598Z",
     "iopub.status.busy": "2022-11-29T22:22:32.908446Z",
     "iopub.status.idle": "2022-11-29T22:22:32.926840Z",
     "shell.execute_reply": "2022-11-29T22:22:32.926321Z"
    },
    "papermill": {
     "duration": 0.029158,
     "end_time": "2022-11-29T22:22:32.928245",
     "exception": false,
     "start_time": "2022-11-29T22:22:32.899087",
     "status": "completed"
    },
    "tags": []
   },
   "outputs": [
    {
     "data": {
      "text/plain": [
       "'eQTL model: MASHR) / mashr_'"
      ]
     },
     "metadata": {},
     "output_type": "display_data"
    }
   ],
   "source": [
    "assert (\n",
    "    EQTL_MODEL is not None and len(EQTL_MODEL) > 0\n",
    "), \"A prediction/eQTL model must be given\"\n",
    "\n",
    "EQTL_MODEL_FILES_PREFIX = conf.PHENOMEXCAN[\"PREDICTION_MODELS\"][f\"{EQTL_MODEL}_PREFIX\"]\n",
    "display(f\"eQTL model: {EQTL_MODEL}) / {EQTL_MODEL_FILES_PREFIX}\")"
   ]
  },
  {
   "cell_type": "code",
   "execution_count": 8,
   "id": "552a7f63-a18c-4d3e-bb6a-94f99b431291",
   "metadata": {
    "execution": {
     "iopub.execute_input": "2022-11-29T22:22:32.947281Z",
     "iopub.status.busy": "2022-11-29T22:22:32.947068Z",
     "iopub.status.idle": "2022-11-29T22:22:32.962965Z",
     "shell.execute_reply": "2022-11-29T22:22:32.962589Z"
    },
    "papermill": {
     "duration": 0.026757,
     "end_time": "2022-11-29T22:22:32.964006",
     "exception": false,
     "start_time": "2022-11-29T22:22:32.937249",
     "status": "completed"
    },
    "tags": []
   },
   "outputs": [
    {
     "data": {
      "text/plain": [
       "'S-MultiXcan condition number: 30'"
      ]
     },
     "metadata": {},
     "output_type": "display_data"
    }
   ],
   "source": [
    "assert (\n",
    "    SMULTIXCAN_CONDITION_NUMBER is not None and SMULTIXCAN_CONDITION_NUMBER > 0\n",
    "), \"The S-MultiXcan condition number (positive integer) must be given\"\n",
    "\n",
    "display(f\"S-MultiXcan condition number: {SMULTIXCAN_CONDITION_NUMBER}\")"
   ]
  },
  {
   "cell_type": "code",
   "execution_count": 9,
   "id": "f34a336f-548e-4afe-8955-90eaea4f42c6",
   "metadata": {
    "execution": {
     "iopub.execute_input": "2022-11-29T22:22:32.979115Z",
     "iopub.status.busy": "2022-11-29T22:22:32.978859Z",
     "iopub.status.idle": "2022-11-29T22:22:33.000731Z",
     "shell.execute_reply": "2022-11-29T22:22:33.000169Z"
    },
    "papermill": {
     "duration": 0.03119,
     "end_time": "2022-11-29T22:22:33.002132",
     "exception": false,
     "start_time": "2022-11-29T22:22:32.970942",
     "status": "completed"
    },
    "tags": []
   },
   "outputs": [
    {
     "data": {
      "text/plain": [
       "'Working on chromosome 7'"
      ]
     },
     "metadata": {},
     "output_type": "display_data"
    }
   ],
   "source": [
    "assert CHROMOSOME is not None and (\n",
    "    1 <= CHROMOSOME <= 22\n",
    "), \"You have to select one chromosome (format: number between 1 and 22)\"\n",
    "\n",
    "# CHROMOSOME = str(CHROMOSOME)\n",
    "display(f\"Working on chromosome {CHROMOSOME}\")"
   ]
  },
  {
   "cell_type": "code",
   "execution_count": 10,
   "id": "ab8e96e8-06b5-4363-9dcd-dc4d78cc27f7",
   "metadata": {
    "execution": {
     "iopub.execute_input": "2022-11-29T22:22:33.017702Z",
     "iopub.status.busy": "2022-11-29T22:22:33.017330Z",
     "iopub.status.idle": "2022-11-29T22:22:33.040226Z",
     "shell.execute_reply": "2022-11-29T22:22:33.039295Z"
    },
    "papermill": {
     "duration": 0.031882,
     "end_time": "2022-11-29T22:22:33.041577",
     "exception": false,
     "start_time": "2022-11-29T22:22:33.009695",
     "status": "completed"
    },
    "tags": []
   },
   "outputs": [
    {
     "data": {
      "text/plain": [
       "'Compute correlation within distance False'"
      ]
     },
     "metadata": {},
     "output_type": "display_data"
    }
   ],
   "source": [
    "display(f\"Compute correlation within distance {COMPUTE_CORRELATIONS_WITHIN_DISTANCE}\")"
   ]
  },
  {
   "cell_type": "code",
   "execution_count": 11,
   "id": "b393b698-77e3-4ba2-8ac1-e14d51aa988f",
   "metadata": {
    "execution": {
     "iopub.execute_input": "2022-11-29T22:22:33.057549Z",
     "iopub.status.busy": "2022-11-29T22:22:33.057045Z",
     "iopub.status.idle": "2022-11-29T22:22:33.091534Z",
     "shell.execute_reply": "2022-11-29T22:22:33.090988Z"
    },
    "papermill": {
     "duration": 0.044105,
     "end_time": "2022-11-29T22:22:33.092793",
     "exception": false,
     "start_time": "2022-11-29T22:22:33.048688",
     "status": "completed"
    },
    "tags": []
   },
   "outputs": [
    {
     "data": {
      "text/plain": [
       "'Using output dir base: /opt/data/projects/asthma-copd/results/gls_phenoplier/gene_corrs/asthma_only'"
      ]
     },
     "metadata": {},
     "output_type": "display_data"
    }
   ],
   "source": [
    "assert (\n",
    "    OUTPUT_DIR_BASE is not None and len(OUTPUT_DIR_BASE) > 0\n",
    "), \"Output directory path must be given\"\n",
    "\n",
    "OUTPUT_DIR_BASE = (\n",
    "    Path(OUTPUT_DIR_BASE)\n",
    "    / \"gene_corrs\"\n",
    "    / COHORT_NAME\n",
    "    # / REFERENCE_PANEL.lower()\n",
    "    # / EQTL_MODEL.lower()\n",
    ").resolve()\n",
    "\n",
    "OUTPUT_DIR_BASE.mkdir(parents=True, exist_ok=True)\n",
    "\n",
    "display(f\"Using output dir base: {OUTPUT_DIR_BASE}\")"
   ]
  },
  {
   "cell_type": "markdown",
   "id": "d2ba085e",
   "metadata": {
    "papermill": {
     "duration": 0.004795,
     "end_time": "2022-11-29T22:22:33.102593",
     "exception": false,
     "start_time": "2022-11-29T22:22:33.097798",
     "status": "completed"
    },
    "tags": []
   },
   "source": [
    "# Load data"
   ]
  },
  {
   "cell_type": "markdown",
   "id": "7dcb8db7",
   "metadata": {
    "papermill": {
     "duration": 0.005202,
     "end_time": "2022-11-29T22:22:33.112452",
     "exception": false,
     "start_time": "2022-11-29T22:22:33.107250",
     "status": "completed"
    },
    "tags": []
   },
   "source": [
    "## GWAS variants"
   ]
  },
  {
   "cell_type": "code",
   "execution_count": 12,
   "id": "29434c4e-8cd3-4b9b-82e4-b5a251d9dd19",
   "metadata": {
    "execution": {
     "iopub.execute_input": "2022-11-29T22:22:33.128317Z",
     "iopub.status.busy": "2022-11-29T22:22:33.127975Z",
     "iopub.status.idle": "2022-11-29T22:22:35.459390Z",
     "shell.execute_reply": "2022-11-29T22:22:35.458968Z"
    },
    "papermill": {
     "duration": 2.341222,
     "end_time": "2022-11-29T22:22:35.460820",
     "exception": false,
     "start_time": "2022-11-29T22:22:33.119598",
     "status": "completed"
    },
    "tags": []
   },
   "outputs": [],
   "source": [
    "with open(OUTPUT_DIR_BASE / \"gwas_variant_ids.pkl\", \"rb\") as handle:\n",
    "    gwas_variants_ids_set = pickle.load(handle)"
   ]
  },
  {
   "cell_type": "code",
   "execution_count": 13,
   "id": "b9d9dec2-4a76-4bf9-bde2-e24c95acb8a0",
   "metadata": {
    "execution": {
     "iopub.execute_input": "2022-11-29T22:22:35.472471Z",
     "iopub.status.busy": "2022-11-29T22:22:35.472344Z",
     "iopub.status.idle": "2022-11-29T22:22:35.485627Z",
     "shell.execute_reply": "2022-11-29T22:22:35.485281Z"
    },
    "papermill": {
     "duration": 0.020219,
     "end_time": "2022-11-29T22:22:35.486612",
     "exception": false,
     "start_time": "2022-11-29T22:22:35.466393",
     "status": "completed"
    },
    "tags": []
   },
   "outputs": [
    {
     "data": {
      "text/plain": [
       "8578486"
      ]
     },
     "execution_count": 13,
     "metadata": {},
     "output_type": "execute_result"
    }
   ],
   "source": [
    "len(gwas_variants_ids_set)"
   ]
  },
  {
   "cell_type": "code",
   "execution_count": 14,
   "id": "4235b06a-6034-4ee4-a0a3-2ae35d122418",
   "metadata": {
    "execution": {
     "iopub.execute_input": "2022-11-29T22:22:35.497057Z",
     "iopub.status.busy": "2022-11-29T22:22:35.496889Z",
     "iopub.status.idle": "2022-11-29T22:22:36.034491Z",
     "shell.execute_reply": "2022-11-29T22:22:36.034055Z"
    },
    "papermill": {
     "duration": 0.544064,
     "end_time": "2022-11-29T22:22:36.035736",
     "exception": false,
     "start_time": "2022-11-29T22:22:35.491672",
     "status": "completed"
    },
    "tags": []
   },
   "outputs": [
    {
     "data": {
      "text/plain": [
       "['chr5_131214650_A_G_b38',\n",
       " 'chr2_59559568_C_T_b38',\n",
       " 'chr12_29064312_G_A_b38',\n",
       " 'chr8_130624135_A_G_b38',\n",
       " 'chr8_104913881_G_A_b38']"
      ]
     },
     "execution_count": 14,
     "metadata": {},
     "output_type": "execute_result"
    }
   ],
   "source": [
    "list(gwas_variants_ids_set)[:5]"
   ]
  },
  {
   "cell_type": "markdown",
   "id": "07866999-2305-41f9-a144-e69c9122c212",
   "metadata": {
    "papermill": {
     "duration": 0.007741,
     "end_time": "2022-11-29T22:22:36.051440",
     "exception": false,
     "start_time": "2022-11-29T22:22:36.043699",
     "status": "completed"
    },
    "tags": []
   },
   "source": [
    "## S-PrediXcan tissue models"
   ]
  },
  {
   "cell_type": "code",
   "execution_count": 15,
   "id": "780611d9-77c8-405f-90a4-f271f7b09397",
   "metadata": {
    "execution": {
     "iopub.execute_input": "2022-11-29T22:22:36.065439Z",
     "iopub.status.busy": "2022-11-29T22:22:36.065200Z",
     "iopub.status.idle": "2022-11-29T22:22:36.889206Z",
     "shell.execute_reply": "2022-11-29T22:22:36.888792Z"
    },
    "papermill": {
     "duration": 0.832236,
     "end_time": "2022-11-29T22:22:36.890916",
     "exception": false,
     "start_time": "2022-11-29T22:22:36.058680",
     "status": "completed"
    },
    "tags": []
   },
   "outputs": [],
   "source": [
    "spredixcan_genes_models = pd.read_pickle(OUTPUT_DIR_BASE / \"gene_tissues.pkl\")"
   ]
  },
  {
   "cell_type": "code",
   "execution_count": 16,
   "id": "726dd1f6-9557-4225-91fa-b3b879ea96e1",
   "metadata": {
    "execution": {
     "iopub.execute_input": "2022-11-29T22:22:36.912504Z",
     "iopub.status.busy": "2022-11-29T22:22:36.912081Z",
     "iopub.status.idle": "2022-11-29T22:22:36.926881Z",
     "shell.execute_reply": "2022-11-29T22:22:36.926614Z"
    },
    "papermill": {
     "duration": 0.027149,
     "end_time": "2022-11-29T22:22:36.928165",
     "exception": false,
     "start_time": "2022-11-29T22:22:36.901016",
     "status": "completed"
    },
    "tags": []
   },
   "outputs": [
    {
     "data": {
      "text/plain": [
       "(6443, 5)"
      ]
     },
     "execution_count": 16,
     "metadata": {},
     "output_type": "execute_result"
    }
   ],
   "source": [
    "spredixcan_genes_models.shape"
   ]
  },
  {
   "cell_type": "code",
   "execution_count": 17,
   "id": "944a1b48-222c-4eb0-b252-b9de2cbca215",
   "metadata": {
    "execution": {
     "iopub.execute_input": "2022-11-29T22:22:36.950409Z",
     "iopub.status.busy": "2022-11-29T22:22:36.950046Z",
     "iopub.status.idle": "2022-11-29T22:22:36.969949Z",
     "shell.execute_reply": "2022-11-29T22:22:36.969664Z"
    },
    "papermill": {
     "duration": 0.033611,
     "end_time": "2022-11-29T22:22:36.972041",
     "exception": false,
     "start_time": "2022-11-29T22:22:36.938430",
     "status": "completed"
    },
    "tags": []
   },
   "outputs": [
    {
     "data": {
      "text/html": [
       "<div>\n",
       "<style scoped>\n",
       "    .dataframe tbody tr th:only-of-type {\n",
       "        vertical-align: middle;\n",
       "    }\n",
       "\n",
       "    .dataframe tbody tr th {\n",
       "        vertical-align: top;\n",
       "    }\n",
       "\n",
       "    .dataframe thead th {\n",
       "        text-align: right;\n",
       "    }\n",
       "</style>\n",
       "<table border=\"1\" class=\"dataframe\">\n",
       "  <thead>\n",
       "    <tr style=\"text-align: right;\">\n",
       "      <th></th>\n",
       "      <th>gene_name</th>\n",
       "      <th>tissue</th>\n",
       "      <th>n_tissues</th>\n",
       "      <th>n_snps_used_sum</th>\n",
       "      <th>n_snps_in_model_sum</th>\n",
       "    </tr>\n",
       "    <tr>\n",
       "      <th>gene_id</th>\n",
       "      <th></th>\n",
       "      <th></th>\n",
       "      <th></th>\n",
       "      <th></th>\n",
       "      <th></th>\n",
       "    </tr>\n",
       "  </thead>\n",
       "  <tbody>\n",
       "    <tr>\n",
       "      <th>ENSG00000000419</th>\n",
       "      <td>DPM1</td>\n",
       "      <td>(Brain_Hypothalamus, Brain_Substantia_nigra)</td>\n",
       "      <td>2</td>\n",
       "      <td>2</td>\n",
       "      <td>2</td>\n",
       "    </tr>\n",
       "    <tr>\n",
       "      <th>ENSG00000000938</th>\n",
       "      <td>FGR</td>\n",
       "      <td>(Adipose_Subcutaneous, Thyroid, Skin_Sun_Expos...</td>\n",
       "      <td>36</td>\n",
       "      <td>40</td>\n",
       "      <td>40</td>\n",
       "    </tr>\n",
       "    <tr>\n",
       "      <th>ENSG00000000971</th>\n",
       "      <td>CFH</td>\n",
       "      <td>(Thyroid, Skin_Sun_Exposed_Lower_leg, Whole_Bl...</td>\n",
       "      <td>34</td>\n",
       "      <td>44</td>\n",
       "      <td>44</td>\n",
       "    </tr>\n",
       "    <tr>\n",
       "      <th>ENSG00000001084</th>\n",
       "      <td>GCLC</td>\n",
       "      <td>(Adipose_Subcutaneous, Thyroid, Skin_Sun_Expos...</td>\n",
       "      <td>32</td>\n",
       "      <td>46</td>\n",
       "      <td>46</td>\n",
       "    </tr>\n",
       "    <tr>\n",
       "      <th>ENSG00000001167</th>\n",
       "      <td>NFYA</td>\n",
       "      <td>(Adipose_Subcutaneous, Thyroid, Skin_Sun_Expos...</td>\n",
       "      <td>40</td>\n",
       "      <td>47</td>\n",
       "      <td>48</td>\n",
       "    </tr>\n",
       "  </tbody>\n",
       "</table>\n",
       "</div>"
      ],
      "text/plain": [
       "                gene_name                                             tissue  \\\n",
       "gene_id                                                                        \n",
       "ENSG00000000419      DPM1       (Brain_Hypothalamus, Brain_Substantia_nigra)   \n",
       "ENSG00000000938       FGR  (Adipose_Subcutaneous, Thyroid, Skin_Sun_Expos...   \n",
       "ENSG00000000971       CFH  (Thyroid, Skin_Sun_Exposed_Lower_leg, Whole_Bl...   \n",
       "ENSG00000001084      GCLC  (Adipose_Subcutaneous, Thyroid, Skin_Sun_Expos...   \n",
       "ENSG00000001167      NFYA  (Adipose_Subcutaneous, Thyroid, Skin_Sun_Expos...   \n",
       "\n",
       "                 n_tissues  n_snps_used_sum  n_snps_in_model_sum  \n",
       "gene_id                                                           \n",
       "ENSG00000000419          2                2                    2  \n",
       "ENSG00000000938         36               40                   40  \n",
       "ENSG00000000971         34               44                   44  \n",
       "ENSG00000001084         32               46                   46  \n",
       "ENSG00000001167         40               47                   48  "
      ]
     },
     "execution_count": 17,
     "metadata": {},
     "output_type": "execute_result"
    }
   ],
   "source": [
    "spredixcan_genes_models.head()"
   ]
  },
  {
   "cell_type": "code",
   "execution_count": 18,
   "id": "d1c11bb1-be0b-4f40-b360-633d6827109f",
   "metadata": {
    "execution": {
     "iopub.execute_input": "2022-11-29T22:22:37.000906Z",
     "iopub.status.busy": "2022-11-29T22:22:37.000702Z",
     "iopub.status.idle": "2022-11-29T22:22:37.014751Z",
     "shell.execute_reply": "2022-11-29T22:22:37.014400Z"
    },
    "papermill": {
     "duration": 0.03362,
     "end_time": "2022-11-29T22:22:37.016617",
     "exception": false,
     "start_time": "2022-11-29T22:22:36.982997",
     "status": "completed"
    },
    "tags": []
   },
   "outputs": [],
   "source": [
    "assert spredixcan_genes_models.index.is_unique"
   ]
  },
  {
   "cell_type": "markdown",
   "id": "a5b5092c-a13e-47c4-a92a-480fcc08f3ae",
   "metadata": {
    "papermill": {
     "duration": 0.010089,
     "end_time": "2022-11-29T22:22:37.037949",
     "exception": false,
     "start_time": "2022-11-29T22:22:37.027860",
     "status": "completed"
    },
    "tags": []
   },
   "source": [
    "## Gene info"
   ]
  },
  {
   "cell_type": "code",
   "execution_count": 19,
   "id": "7d6bb224-88e9-4358-ac10-43a41d92cdad",
   "metadata": {
    "execution": {
     "iopub.execute_input": "2022-11-29T22:22:37.065095Z",
     "iopub.status.busy": "2022-11-29T22:22:37.064574Z",
     "iopub.status.idle": "2022-11-29T22:22:37.091471Z",
     "shell.execute_reply": "2022-11-29T22:22:37.090980Z"
    },
    "papermill": {
     "duration": 0.044403,
     "end_time": "2022-11-29T22:22:37.092526",
     "exception": false,
     "start_time": "2022-11-29T22:22:37.048123",
     "status": "completed"
    },
    "tags": []
   },
   "outputs": [],
   "source": [
    "genes_info = pd.read_pickle(OUTPUT_DIR_BASE / \"genes_info.pkl\")"
   ]
  },
  {
   "cell_type": "code",
   "execution_count": 20,
   "id": "9e32abfa-546d-483e-8c18-d526e9e05903",
   "metadata": {
    "execution": {
     "iopub.execute_input": "2022-11-29T22:22:37.108259Z",
     "iopub.status.busy": "2022-11-29T22:22:37.108003Z",
     "iopub.status.idle": "2022-11-29T22:22:37.132905Z",
     "shell.execute_reply": "2022-11-29T22:22:37.132242Z"
    },
    "papermill": {
     "duration": 0.035762,
     "end_time": "2022-11-29T22:22:37.133797",
     "exception": false,
     "start_time": "2022-11-29T22:22:37.098035",
     "status": "completed"
    },
    "tags": []
   },
   "outputs": [
    {
     "data": {
      "text/plain": [
       "(6443, 7)"
      ]
     },
     "execution_count": 20,
     "metadata": {},
     "output_type": "execute_result"
    }
   ],
   "source": [
    "genes_info.shape"
   ]
  },
  {
   "cell_type": "code",
   "execution_count": 21,
   "id": "d16c3e92-85ec-468a-9a56-e25a9774a1cb",
   "metadata": {
    "execution": {
     "iopub.execute_input": "2022-11-29T22:22:37.145438Z",
     "iopub.status.busy": "2022-11-29T22:22:37.145130Z",
     "iopub.status.idle": "2022-11-29T22:22:37.175621Z",
     "shell.execute_reply": "2022-11-29T22:22:37.174970Z"
    },
    "papermill": {
     "duration": 0.037875,
     "end_time": "2022-11-29T22:22:37.177091",
     "exception": false,
     "start_time": "2022-11-29T22:22:37.139216",
     "status": "completed"
    },
    "tags": []
   },
   "outputs": [
    {
     "data": {
      "text/html": [
       "<div>\n",
       "<style scoped>\n",
       "    .dataframe tbody tr th:only-of-type {\n",
       "        vertical-align: middle;\n",
       "    }\n",
       "\n",
       "    .dataframe tbody tr th {\n",
       "        vertical-align: top;\n",
       "    }\n",
       "\n",
       "    .dataframe thead th {\n",
       "        text-align: right;\n",
       "    }\n",
       "</style>\n",
       "<table border=\"1\" class=\"dataframe\">\n",
       "  <thead>\n",
       "    <tr style=\"text-align: right;\">\n",
       "      <th></th>\n",
       "      <th>name</th>\n",
       "      <th>id</th>\n",
       "      <th>chr</th>\n",
       "      <th>band</th>\n",
       "      <th>start_position</th>\n",
       "      <th>end_position</th>\n",
       "      <th>gene_length</th>\n",
       "    </tr>\n",
       "  </thead>\n",
       "  <tbody>\n",
       "    <tr>\n",
       "      <th>0</th>\n",
       "      <td>UBE4B</td>\n",
       "      <td>ENSG00000130939</td>\n",
       "      <td>1</td>\n",
       "      <td>1p36.22</td>\n",
       "      <td>10032832</td>\n",
       "      <td>10181239</td>\n",
       "      <td>148407</td>\n",
       "    </tr>\n",
       "    <tr>\n",
       "      <th>1</th>\n",
       "      <td>STX18</td>\n",
       "      <td>ENSG00000168818</td>\n",
       "      <td>4</td>\n",
       "      <td>4p16.2</td>\n",
       "      <td>4415742</td>\n",
       "      <td>4542346</td>\n",
       "      <td>126604</td>\n",
       "    </tr>\n",
       "    <tr>\n",
       "      <th>2</th>\n",
       "      <td>DNM2</td>\n",
       "      <td>ENSG00000079805</td>\n",
       "      <td>19</td>\n",
       "      <td>19p13.2</td>\n",
       "      <td>10718079</td>\n",
       "      <td>10833488</td>\n",
       "      <td>115409</td>\n",
       "    </tr>\n",
       "    <tr>\n",
       "      <th>3</th>\n",
       "      <td>PLD1</td>\n",
       "      <td>ENSG00000075651</td>\n",
       "      <td>3</td>\n",
       "      <td>3q26.31</td>\n",
       "      <td>171600404</td>\n",
       "      <td>171810950</td>\n",
       "      <td>210546</td>\n",
       "    </tr>\n",
       "    <tr>\n",
       "      <th>4</th>\n",
       "      <td>ANKRD55</td>\n",
       "      <td>ENSG00000164512</td>\n",
       "      <td>5</td>\n",
       "      <td>5q11.2</td>\n",
       "      <td>56099680</td>\n",
       "      <td>56233330</td>\n",
       "      <td>133650</td>\n",
       "    </tr>\n",
       "  </tbody>\n",
       "</table>\n",
       "</div>"
      ],
      "text/plain": [
       "      name               id  chr     band  start_position  end_position  \\\n",
       "0    UBE4B  ENSG00000130939    1  1p36.22        10032832      10181239   \n",
       "1    STX18  ENSG00000168818    4   4p16.2         4415742       4542346   \n",
       "2     DNM2  ENSG00000079805   19  19p13.2        10718079      10833488   \n",
       "3     PLD1  ENSG00000075651    3  3q26.31       171600404     171810950   \n",
       "4  ANKRD55  ENSG00000164512    5   5q11.2        56099680      56233330   \n",
       "\n",
       "   gene_length  \n",
       "0       148407  \n",
       "1       126604  \n",
       "2       115409  \n",
       "3       210546  \n",
       "4       133650  "
      ]
     },
     "execution_count": 21,
     "metadata": {},
     "output_type": "execute_result"
    }
   ],
   "source": [
    "genes_info.head()"
   ]
  },
  {
   "cell_type": "markdown",
   "id": "d3843e06",
   "metadata": {
    "papermill": {
     "duration": 0.009861,
     "end_time": "2022-11-29T22:22:37.197191",
     "exception": false,
     "start_time": "2022-11-29T22:22:37.187330",
     "status": "completed"
    },
    "tags": []
   },
   "source": [
    "# Compute correlations"
   ]
  },
  {
   "cell_type": "code",
   "execution_count": 22,
   "id": "cb859c15-d1f3-4006-a74c-2b83c0db9611",
   "metadata": {
    "execution": {
     "iopub.execute_input": "2022-11-29T22:22:37.218412Z",
     "iopub.status.busy": "2022-11-29T22:22:37.218091Z",
     "iopub.status.idle": "2022-11-29T22:22:37.242297Z",
     "shell.execute_reply": "2022-11-29T22:22:37.241751Z"
    },
    "papermill": {
     "duration": 0.036479,
     "end_time": "2022-11-29T22:22:37.243760",
     "exception": false,
     "start_time": "2022-11-29T22:22:37.207281",
     "status": "completed"
    },
    "tags": []
   },
   "outputs": [
    {
     "data": {
      "text/plain": [
       "PosixPath('/opt/data/projects/asthma-copd/results/gls_phenoplier/gene_corrs/asthma_only/by_chr/gene_corrs-chr7.pkl')"
      ]
     },
     "metadata": {},
     "output_type": "display_data"
    }
   ],
   "source": [
    "output_dir = OUTPUT_DIR_BASE / \"by_chr\"\n",
    "output_dir.mkdir(exist_ok=True, parents=True)\n",
    "output_file = output_dir / f\"gene_corrs-chr{CHROMOSOME}.pkl\"\n",
    "display(output_file)"
   ]
  },
  {
   "cell_type": "code",
   "execution_count": 23,
   "id": "aa674fe4-6794-4eed-98fa-32b39d1d4ace",
   "metadata": {
    "execution": {
     "iopub.execute_input": "2022-11-29T22:22:37.265350Z",
     "iopub.status.busy": "2022-11-29T22:22:37.265128Z",
     "iopub.status.idle": "2022-11-29T22:22:37.286986Z",
     "shell.execute_reply": "2022-11-29T22:22:37.286429Z"
    },
    "papermill": {
     "duration": 0.034652,
     "end_time": "2022-11-29T22:22:37.288666",
     "exception": false,
     "start_time": "2022-11-29T22:22:37.254014",
     "status": "completed"
    },
    "tags": []
   },
   "outputs": [],
   "source": [
    "warnings.filterwarnings(\"error\")"
   ]
  },
  {
   "cell_type": "code",
   "execution_count": 24,
   "id": "44d5450b-3baf-43f1-9e2e-4b06f1a785f8",
   "metadata": {
    "execution": {
     "iopub.execute_input": "2022-11-29T22:22:37.310359Z",
     "iopub.status.busy": "2022-11-29T22:22:37.310127Z",
     "iopub.status.idle": "2022-11-29T22:22:37.333804Z",
     "shell.execute_reply": "2022-11-29T22:22:37.333168Z"
    },
    "papermill": {
     "duration": 0.03627,
     "end_time": "2022-11-29T22:22:37.335539",
     "exception": false,
     "start_time": "2022-11-29T22:22:37.299269",
     "status": "completed"
    },
    "tags": []
   },
   "outputs": [],
   "source": [
    "# standard checks\n",
    "all_chrs = genes_info[\"chr\"].dropna().unique()\n",
    "assert all_chrs.shape[0] == 22\n",
    "\n",
    "# select chromosome given by the user\n",
    "assert CHROMOSOME in all_chrs"
   ]
  },
  {
   "cell_type": "code",
   "execution_count": 25,
   "id": "2d7c043c-92a7-4d35-991b-fa69ac1e0268",
   "metadata": {
    "execution": {
     "iopub.execute_input": "2022-11-29T22:22:37.357847Z",
     "iopub.status.busy": "2022-11-29T22:22:37.357303Z",
     "iopub.status.idle": "2022-11-29T22:22:37.382442Z",
     "shell.execute_reply": "2022-11-29T22:22:37.381821Z"
    },
    "papermill": {
     "duration": 0.037772,
     "end_time": "2022-11-29T22:22:37.384039",
     "exception": false,
     "start_time": "2022-11-29T22:22:37.346267",
     "status": "completed"
    },
    "tags": []
   },
   "outputs": [
    {
     "name": "stdout",
     "output_type": "stream",
     "text": [
      "Number of genes in chromosome: 281\n"
     ]
    }
   ],
   "source": [
    "# run only on the chromosome specified\n",
    "all_chrs = [CHROMOSOME]\n",
    "genes_chr = genes_info[genes_info[\"chr\"] == CHROMOSOME]\n",
    "\n",
    "# For testing purposes\n",
    "# genes_chr = genes_chr.sample(n=20)\n",
    "\n",
    "print(f\"Number of genes in chromosome: {genes_chr.shape[0]}\", flush=True)"
   ]
  },
  {
   "cell_type": "code",
   "execution_count": 26,
   "id": "916015d8-2979-46d3-a9b9-1cf5a0932c6a",
   "metadata": {
    "execution": {
     "iopub.execute_input": "2022-11-29T22:22:37.406754Z",
     "iopub.status.busy": "2022-11-29T22:22:37.406194Z",
     "iopub.status.idle": "2022-11-29T22:22:37.429090Z",
     "shell.execute_reply": "2022-11-29T22:22:37.428407Z"
    },
    "papermill": {
     "duration": 0.035788,
     "end_time": "2022-11-29T22:22:37.430849",
     "exception": false,
     "start_time": "2022-11-29T22:22:37.395061",
     "status": "completed"
    },
    "tags": []
   },
   "outputs": [],
   "source": [
    "# sort genes by starting position to make visualizations better later\n",
    "genes_chr = genes_chr.sort_values(\"start_position\")"
   ]
  },
  {
   "cell_type": "code",
   "execution_count": 27,
   "id": "a38aa74a-8ad3-47f6-8ef9-56be0e011774",
   "metadata": {
    "execution": {
     "iopub.execute_input": "2022-11-29T22:22:37.453108Z",
     "iopub.status.busy": "2022-11-29T22:22:37.452546Z",
     "iopub.status.idle": "2022-11-29T22:22:37.475739Z",
     "shell.execute_reply": "2022-11-29T22:22:37.475006Z"
    },
    "papermill": {
     "duration": 0.035991,
     "end_time": "2022-11-29T22:22:37.477482",
     "exception": false,
     "start_time": "2022-11-29T22:22:37.441491",
     "status": "completed"
    },
    "tags": []
   },
   "outputs": [],
   "source": [
    "gene_chr_objs = [Gene(ensembl_id=gene_id) for gene_id in genes_chr[\"id\"]]"
   ]
  },
  {
   "cell_type": "code",
   "execution_count": 28,
   "id": "570f974f-13c3-42b6-ad3a-ce99ca885c1a",
   "metadata": {
    "execution": {
     "iopub.execute_input": "2022-11-29T22:22:37.499803Z",
     "iopub.status.busy": "2022-11-29T22:22:37.499417Z",
     "iopub.status.idle": "2022-11-29T22:22:37.522325Z",
     "shell.execute_reply": "2022-11-29T22:22:37.521617Z"
    },
    "papermill": {
     "duration": 0.03574,
     "end_time": "2022-11-29T22:22:37.523911",
     "exception": false,
     "start_time": "2022-11-29T22:22:37.488171",
     "status": "completed"
    },
    "tags": []
   },
   "outputs": [
    {
     "name": "stdout",
     "output_type": "stream",
     "text": [
      "Number of gene combinations: 39621\n"
     ]
    }
   ],
   "source": [
    "n = len(gene_chr_objs)\n",
    "# diagonal elements + upper triangular matrix\n",
    "n_comb = n + int(n * (n - 1) / 2.0)\n",
    "print(f\"Number of gene combinations: {n_comb}\", flush=True)"
   ]
  },
  {
   "cell_type": "code",
   "execution_count": 29,
   "id": "cdbb90a1",
   "metadata": {
    "execution": {
     "iopub.execute_input": "2022-11-29T22:22:37.546304Z",
     "iopub.status.busy": "2022-11-29T22:22:37.546023Z",
     "iopub.status.idle": "2022-11-29T22:49:34.987940Z",
     "shell.execute_reply": "2022-11-29T22:49:34.987399Z"
    },
    "papermill": {
     "duration": 1617.454745,
     "end_time": "2022-11-29T22:49:34.989342",
     "exception": false,
     "start_time": "2022-11-29T22:22:37.534597",
     "status": "completed"
    },
    "tags": []
   },
   "outputs": [
    {
     "name": "stderr",
     "output_type": "stream",
     "text": [
      "ENSG00000106018 / ENSG00000106018: 100%|██████████████████████| 39621/39621 [26:57<00:00, 24.50it/s]\n"
     ]
    },
    {
     "data": {
      "text/plain": [
       "PosixPath('/opt/data/projects/asthma-copd/results/gls_phenoplier/gene_corrs/asthma_only/by_chr/gene_corrs-chr7.pkl')"
      ]
     },
     "metadata": {},
     "output_type": "display_data"
    }
   ],
   "source": [
    "gene_corrs = []\n",
    "gene_corrs_data = np.full(\n",
    "    (n, n),\n",
    "    np.nan,\n",
    "    dtype=np.float64,\n",
    ")\n",
    "\n",
    "i = 0\n",
    "with tqdm(ncols=100, total=n_comb) as pbar:\n",
    "    for gene1_idx in range(0, len(gene_chr_objs)):\n",
    "        gene1_obj = gene_chr_objs[gene1_idx]\n",
    "        gene1_tissues = spredixcan_genes_models.loc[gene1_obj.ensembl_id, \"tissue\"]\n",
    "\n",
    "        for gene2_idx in range(gene1_idx, len(gene_chr_objs)):\n",
    "            gene2_obj = gene_chr_objs[gene2_idx]\n",
    "            gene2_tissues = spredixcan_genes_models.loc[gene2_obj.ensembl_id, \"tissue\"]\n",
    "\n",
    "            pbar.set_description(f\"{gene1_obj.ensembl_id} / {gene2_obj.ensembl_id}\")\n",
    "\n",
    "            try:\n",
    "                r = gene1_obj.get_ssm_correlation(\n",
    "                    other_gene=gene2_obj,\n",
    "                    tissues=gene1_tissues,\n",
    "                    other_tissues=gene2_tissues,\n",
    "                    snps_subset=gwas_variants_ids_set,\n",
    "                    condition_number=SMULTIXCAN_CONDITION_NUMBER,\n",
    "                    reference_panel=REFERENCE_PANEL,\n",
    "                    model_type=EQTL_MODEL,\n",
    "                    use_within_distance=COMPUTE_CORRELATIONS_WITHIN_DISTANCE,\n",
    "                )\n",
    "\n",
    "                if r is None:\n",
    "                    # if r is None, it's very likely because:\n",
    "                    #  * one of the genes has no prediction models\n",
    "                    #  * all the SNPs predictors for the gene are not present in the reference\n",
    "                    #    panel\n",
    "\n",
    "                    r = 0.0\n",
    "\n",
    "                gene_corrs.append(r)\n",
    "\n",
    "                gene_corrs_data[gene1_idx, gene2_idx] = r\n",
    "                gene_corrs_data[gene2_idx, gene1_idx] = r\n",
    "            except Warning as e:\n",
    "                if not DEBUG_MODE:\n",
    "                    raise e\n",
    "\n",
    "                print(\n",
    "                    f\"RuntimeWarning for genes {gene1_obj.ensembl_id} and {gene2_obj.ensembl_id}\",\n",
    "                    flush=True,\n",
    "                )\n",
    "                print(traceback.format_exc(), flush=True)\n",
    "\n",
    "                gene_corrs.append(np.nan)\n",
    "            except Exception as e:\n",
    "                if not DEBUG_MODE:\n",
    "                    raise e\n",
    "\n",
    "                print(\n",
    "                    f\"Exception for genes {gene1_obj.ensembl_id} and {gene2_obj.ensembl_id}\",\n",
    "                    flush=True,\n",
    "                )\n",
    "                print(traceback.format_exc(), flush=True)\n",
    "\n",
    "                gene_corrs.append(np.nan)\n",
    "\n",
    "            pbar.update(1)\n",
    "\n",
    "# create a pandas series\n",
    "gene_corrs_flat = pd.Series(gene_corrs)\n",
    "\n",
    "# save\n",
    "# FIXME: consider saving only the condenced matrix here. See here for\n",
    "# more details: https://github.com/greenelab/phenoplier/pull/38#discussion_r634600813\n",
    "# gene_corrs_data = squareform(np.array(gene_corrs, dtype=np.float64))\n",
    "# np.fill_diagonal(gene_corrs_data, 1.0)\n",
    "\n",
    "gene_chr_ids = [g.ensembl_id for g in gene_chr_objs]\n",
    "gene_corrs_df = pd.DataFrame(\n",
    "    data=gene_corrs_data,\n",
    "    index=gene_chr_ids,\n",
    "    columns=gene_chr_ids,\n",
    ")\n",
    "\n",
    "output_dir.mkdir(exist_ok=True, parents=True)\n",
    "display(output_file)\n",
    "\n",
    "gene_corrs_df.to_pickle(output_file)"
   ]
  },
  {
   "cell_type": "markdown",
   "id": "faa67b51-5373-470f-aa72-2ded53fa6dfe",
   "metadata": {
    "papermill": {
     "duration": 1.588458,
     "end_time": "2022-11-29T22:49:38.166867",
     "exception": false,
     "start_time": "2022-11-29T22:49:36.578409",
     "status": "completed"
    },
    "tags": []
   },
   "source": [
    "# Testing"
   ]
  },
  {
   "cell_type": "code",
   "execution_count": 30,
   "id": "14f7d046-4b55-4896-a56b-990127bcc388",
   "metadata": {
    "execution": {
     "iopub.execute_input": "2022-11-29T22:49:41.221001Z",
     "iopub.status.busy": "2022-11-29T22:49:41.220359Z",
     "iopub.status.idle": "2022-11-29T22:49:41.241959Z",
     "shell.execute_reply": "2022-11-29T22:49:41.241355Z"
    },
    "papermill": {
     "duration": 1.556413,
     "end_time": "2022-11-29T22:49:41.242913",
     "exception": false,
     "start_time": "2022-11-29T22:49:39.686500",
     "status": "completed"
    },
    "tags": []
   },
   "outputs": [
    {
     "data": {
      "text/plain": [
       "(281, 281)"
      ]
     },
     "execution_count": 30,
     "metadata": {},
     "output_type": "execute_result"
    }
   ],
   "source": [
    "gene_corrs_df.shape"
   ]
  },
  {
   "cell_type": "code",
   "execution_count": 31,
   "id": "c7d15414-3297-4537-a7c6-7588c0baeb75",
   "metadata": {
    "execution": {
     "iopub.execute_input": "2022-11-29T22:49:44.367614Z",
     "iopub.status.busy": "2022-11-29T22:49:44.367229Z",
     "iopub.status.idle": "2022-11-29T22:49:44.401427Z",
     "shell.execute_reply": "2022-11-29T22:49:44.400936Z"
    },
    "papermill": {
     "duration": 1.591797,
     "end_time": "2022-11-29T22:49:44.402305",
     "exception": false,
     "start_time": "2022-11-29T22:49:42.810508",
     "status": "completed"
    },
    "tags": []
   },
   "outputs": [
    {
     "data": {
      "text/html": [
       "<div>\n",
       "<style scoped>\n",
       "    .dataframe tbody tr th:only-of-type {\n",
       "        vertical-align: middle;\n",
       "    }\n",
       "\n",
       "    .dataframe tbody tr th {\n",
       "        vertical-align: top;\n",
       "    }\n",
       "\n",
       "    .dataframe thead th {\n",
       "        text-align: right;\n",
       "    }\n",
       "</style>\n",
       "<table border=\"1\" class=\"dataframe\">\n",
       "  <thead>\n",
       "    <tr style=\"text-align: right;\">\n",
       "      <th></th>\n",
       "      <th>ENSG00000197461</th>\n",
       "      <th>ENSG00000188191</th>\n",
       "      <th>ENSG00000105963</th>\n",
       "      <th>ENSG00000198517</th>\n",
       "      <th>ENSG00000002822</th>\n",
       "      <th>ENSG00000106263</th>\n",
       "      <th>ENSG00000136213</th>\n",
       "      <th>ENSG00000106003</th>\n",
       "      <th>ENSG00000146535</th>\n",
       "      <th>ENSG00000198286</th>\n",
       "      <th>...</th>\n",
       "      <th>ENSG00000164889</th>\n",
       "      <th>ENSG00000033100</th>\n",
       "      <th>ENSG00000082014</th>\n",
       "      <th>ENSG00000013374</th>\n",
       "      <th>ENSG00000106615</th>\n",
       "      <th>ENSG00000106617</th>\n",
       "      <th>ENSG00000178234</th>\n",
       "      <th>ENSG00000009335</th>\n",
       "      <th>ENSG00000155093</th>\n",
       "      <th>ENSG00000106018</th>\n",
       "    </tr>\n",
       "  </thead>\n",
       "  <tbody>\n",
       "    <tr>\n",
       "      <th>ENSG00000197461</th>\n",
       "      <td>1.000000</td>\n",
       "      <td>0.083157</td>\n",
       "      <td>0.033978</td>\n",
       "      <td>0.003060</td>\n",
       "      <td>0.013065</td>\n",
       "      <td>0.009004</td>\n",
       "      <td>0.019057</td>\n",
       "      <td>0.012376</td>\n",
       "      <td>0.009234</td>\n",
       "      <td>0.014266</td>\n",
       "      <td>...</td>\n",
       "      <td>0.010152</td>\n",
       "      <td>0.010507</td>\n",
       "      <td>0.011161</td>\n",
       "      <td>0.013909</td>\n",
       "      <td>0.004774</td>\n",
       "      <td>0.011164</td>\n",
       "      <td>0.006936</td>\n",
       "      <td>0.007883</td>\n",
       "      <td>0.006058</td>\n",
       "      <td>0.014371</td>\n",
       "    </tr>\n",
       "    <tr>\n",
       "      <th>ENSG00000188191</th>\n",
       "      <td>0.083157</td>\n",
       "      <td>1.000000</td>\n",
       "      <td>0.078571</td>\n",
       "      <td>0.004194</td>\n",
       "      <td>0.009341</td>\n",
       "      <td>0.002894</td>\n",
       "      <td>0.009530</td>\n",
       "      <td>0.004923</td>\n",
       "      <td>0.002952</td>\n",
       "      <td>0.008014</td>\n",
       "      <td>...</td>\n",
       "      <td>0.008760</td>\n",
       "      <td>0.006333</td>\n",
       "      <td>0.004605</td>\n",
       "      <td>0.007523</td>\n",
       "      <td>0.003973</td>\n",
       "      <td>0.008225</td>\n",
       "      <td>0.003197</td>\n",
       "      <td>0.007478</td>\n",
       "      <td>0.008958</td>\n",
       "      <td>0.009820</td>\n",
       "    </tr>\n",
       "    <tr>\n",
       "      <th>ENSG00000105963</th>\n",
       "      <td>0.033978</td>\n",
       "      <td>0.078571</td>\n",
       "      <td>1.000000</td>\n",
       "      <td>0.011125</td>\n",
       "      <td>0.016978</td>\n",
       "      <td>0.006438</td>\n",
       "      <td>0.012195</td>\n",
       "      <td>0.010466</td>\n",
       "      <td>0.010749</td>\n",
       "      <td>0.018232</td>\n",
       "      <td>...</td>\n",
       "      <td>0.011512</td>\n",
       "      <td>0.012182</td>\n",
       "      <td>0.012324</td>\n",
       "      <td>0.018159</td>\n",
       "      <td>0.007264</td>\n",
       "      <td>0.019251</td>\n",
       "      <td>0.004451</td>\n",
       "      <td>0.013767</td>\n",
       "      <td>0.013310</td>\n",
       "      <td>0.018882</td>\n",
       "    </tr>\n",
       "    <tr>\n",
       "      <th>ENSG00000198517</th>\n",
       "      <td>0.003060</td>\n",
       "      <td>0.004194</td>\n",
       "      <td>0.011125</td>\n",
       "      <td>1.000000</td>\n",
       "      <td>0.008667</td>\n",
       "      <td>0.008283</td>\n",
       "      <td>0.012122</td>\n",
       "      <td>0.007604</td>\n",
       "      <td>0.004019</td>\n",
       "      <td>0.005604</td>\n",
       "      <td>...</td>\n",
       "      <td>0.005793</td>\n",
       "      <td>0.007669</td>\n",
       "      <td>0.004659</td>\n",
       "      <td>0.009741</td>\n",
       "      <td>0.003398</td>\n",
       "      <td>0.006290</td>\n",
       "      <td>0.003330</td>\n",
       "      <td>0.002767</td>\n",
       "      <td>0.013355</td>\n",
       "      <td>0.002594</td>\n",
       "    </tr>\n",
       "    <tr>\n",
       "      <th>ENSG00000002822</th>\n",
       "      <td>0.013065</td>\n",
       "      <td>0.009341</td>\n",
       "      <td>0.016978</td>\n",
       "      <td>0.008667</td>\n",
       "      <td>1.000000</td>\n",
       "      <td>0.022969</td>\n",
       "      <td>0.045137</td>\n",
       "      <td>0.019808</td>\n",
       "      <td>0.014914</td>\n",
       "      <td>0.018587</td>\n",
       "      <td>...</td>\n",
       "      <td>0.009881</td>\n",
       "      <td>0.014991</td>\n",
       "      <td>0.014940</td>\n",
       "      <td>0.016616</td>\n",
       "      <td>0.007119</td>\n",
       "      <td>0.017551</td>\n",
       "      <td>0.004579</td>\n",
       "      <td>0.011575</td>\n",
       "      <td>0.009440</td>\n",
       "      <td>0.014025</td>\n",
       "    </tr>\n",
       "  </tbody>\n",
       "</table>\n",
       "<p>5 rows × 281 columns</p>\n",
       "</div>"
      ],
      "text/plain": [
       "                 ENSG00000197461  ENSG00000188191  ENSG00000105963  \\\n",
       "ENSG00000197461         1.000000         0.083157         0.033978   \n",
       "ENSG00000188191         0.083157         1.000000         0.078571   \n",
       "ENSG00000105963         0.033978         0.078571         1.000000   \n",
       "ENSG00000198517         0.003060         0.004194         0.011125   \n",
       "ENSG00000002822         0.013065         0.009341         0.016978   \n",
       "\n",
       "                 ENSG00000198517  ENSG00000002822  ENSG00000106263  \\\n",
       "ENSG00000197461         0.003060         0.013065         0.009004   \n",
       "ENSG00000188191         0.004194         0.009341         0.002894   \n",
       "ENSG00000105963         0.011125         0.016978         0.006438   \n",
       "ENSG00000198517         1.000000         0.008667         0.008283   \n",
       "ENSG00000002822         0.008667         1.000000         0.022969   \n",
       "\n",
       "                 ENSG00000136213  ENSG00000106003  ENSG00000146535  \\\n",
       "ENSG00000197461         0.019057         0.012376         0.009234   \n",
       "ENSG00000188191         0.009530         0.004923         0.002952   \n",
       "ENSG00000105963         0.012195         0.010466         0.010749   \n",
       "ENSG00000198517         0.012122         0.007604         0.004019   \n",
       "ENSG00000002822         0.045137         0.019808         0.014914   \n",
       "\n",
       "                 ENSG00000198286  ...  ENSG00000164889  ENSG00000033100  \\\n",
       "ENSG00000197461         0.014266  ...         0.010152         0.010507   \n",
       "ENSG00000188191         0.008014  ...         0.008760         0.006333   \n",
       "ENSG00000105963         0.018232  ...         0.011512         0.012182   \n",
       "ENSG00000198517         0.005604  ...         0.005793         0.007669   \n",
       "ENSG00000002822         0.018587  ...         0.009881         0.014991   \n",
       "\n",
       "                 ENSG00000082014  ENSG00000013374  ENSG00000106615  \\\n",
       "ENSG00000197461         0.011161         0.013909         0.004774   \n",
       "ENSG00000188191         0.004605         0.007523         0.003973   \n",
       "ENSG00000105963         0.012324         0.018159         0.007264   \n",
       "ENSG00000198517         0.004659         0.009741         0.003398   \n",
       "ENSG00000002822         0.014940         0.016616         0.007119   \n",
       "\n",
       "                 ENSG00000106617  ENSG00000178234  ENSG00000009335  \\\n",
       "ENSG00000197461         0.011164         0.006936         0.007883   \n",
       "ENSG00000188191         0.008225         0.003197         0.007478   \n",
       "ENSG00000105963         0.019251         0.004451         0.013767   \n",
       "ENSG00000198517         0.006290         0.003330         0.002767   \n",
       "ENSG00000002822         0.017551         0.004579         0.011575   \n",
       "\n",
       "                 ENSG00000155093  ENSG00000106018  \n",
       "ENSG00000197461         0.006058         0.014371  \n",
       "ENSG00000188191         0.008958         0.009820  \n",
       "ENSG00000105963         0.013310         0.018882  \n",
       "ENSG00000198517         0.013355         0.002594  \n",
       "ENSG00000002822         0.009440         0.014025  \n",
       "\n",
       "[5 rows x 281 columns]"
      ]
     },
     "execution_count": 31,
     "metadata": {},
     "output_type": "execute_result"
    }
   ],
   "source": [
    "gene_corrs_df.head()"
   ]
  },
  {
   "cell_type": "markdown",
   "id": "dad6603f-01c6-41fb-a6f6-241051207dd8",
   "metadata": {
    "papermill": {
     "duration": 1.545902,
     "end_time": "2022-11-29T22:49:47.436697",
     "exception": false,
     "start_time": "2022-11-29T22:49:45.890795",
     "status": "completed"
    },
    "tags": []
   },
   "source": [
    "## Standard checks and stats"
   ]
  },
  {
   "cell_type": "code",
   "execution_count": 32,
   "id": "286686af-1b7b-4440-8453-6bdcbd8de19c",
   "metadata": {
    "execution": {
     "iopub.execute_input": "2022-11-29T22:49:50.515337Z",
     "iopub.status.busy": "2022-11-29T22:49:50.515089Z",
     "iopub.status.idle": "2022-11-29T22:49:50.536331Z",
     "shell.execute_reply": "2022-11-29T22:49:50.535714Z"
    },
    "papermill": {
     "duration": 1.57217,
     "end_time": "2022-11-29T22:49:50.537201",
     "exception": false,
     "start_time": "2022-11-29T22:49:48.965031",
     "status": "completed"
    },
    "tags": []
   },
   "outputs": [],
   "source": [
    "assert not gene_corrs_df.isna().any().any()"
   ]
  },
  {
   "cell_type": "code",
   "execution_count": 33,
   "id": "00583efc-7068-4270-ad1e-4a418e91db96",
   "metadata": {
    "execution": {
     "iopub.execute_input": "2022-11-29T22:49:53.590802Z",
     "iopub.status.busy": "2022-11-29T22:49:53.590511Z",
     "iopub.status.idle": "2022-11-29T22:49:53.614807Z",
     "shell.execute_reply": "2022-11-29T22:49:53.614146Z"
    },
    "papermill": {
     "duration": 1.572754,
     "end_time": "2022-11-29T22:49:53.615706",
     "exception": false,
     "start_time": "2022-11-29T22:49:52.042952",
     "status": "completed"
    },
    "tags": []
   },
   "outputs": [
    {
     "data": {
      "text/plain": [
       "4.3447173393178117e-07"
      ]
     },
     "metadata": {},
     "output_type": "display_data"
    }
   ],
   "source": [
    "_min_val = gene_corrs_df.min().min()\n",
    "display(_min_val)\n",
    "assert _min_val >= -0.05"
   ]
  },
  {
   "cell_type": "code",
   "execution_count": 34,
   "id": "d04fb2cf-1050-475b-b855-f5f7cc04092b",
   "metadata": {
    "execution": {
     "iopub.execute_input": "2022-11-29T22:49:56.704710Z",
     "iopub.status.busy": "2022-11-29T22:49:56.704399Z",
     "iopub.status.idle": "2022-11-29T22:49:56.732119Z",
     "shell.execute_reply": "2022-11-29T22:49:56.731421Z"
    },
    "papermill": {
     "duration": 1.566886,
     "end_time": "2022-11-29T22:49:56.733050",
     "exception": false,
     "start_time": "2022-11-29T22:49:55.166164",
     "status": "completed"
    },
    "tags": []
   },
   "outputs": [
    {
     "data": {
      "text/plain": [
       "1.0000000000000029"
      ]
     },
     "metadata": {},
     "output_type": "display_data"
    }
   ],
   "source": [
    "_max_val = gene_corrs_df.max().max()  # this captures the diagonal\n",
    "display(_max_val)\n",
    "assert _max_val <= 1.05"
   ]
  },
  {
   "cell_type": "code",
   "execution_count": 35,
   "id": "96d02c44-1fba-47be-8a93-8f2608420b9c",
   "metadata": {
    "execution": {
     "iopub.execute_input": "2022-11-29T22:49:59.754789Z",
     "iopub.status.busy": "2022-11-29T22:49:59.754348Z",
     "iopub.status.idle": "2022-11-29T22:49:59.776032Z",
     "shell.execute_reply": "2022-11-29T22:49:59.775418Z"
    },
    "papermill": {
     "duration": 1.556567,
     "end_time": "2022-11-29T22:49:59.776998",
     "exception": false,
     "start_time": "2022-11-29T22:49:58.220431",
     "status": "completed"
    },
    "tags": []
   },
   "outputs": [],
   "source": [
    "# check upper triangular values\n",
    "# assert len(gene_corrs) == int(genes_chr.shape[0] * (genes_chr.shape[0] - 1) / 2)"
   ]
  },
  {
   "cell_type": "code",
   "execution_count": 36,
   "id": "fe283586-c348-40e0-8841-f6d97bfb021c",
   "metadata": {
    "execution": {
     "iopub.execute_input": "2022-11-29T22:50:02.885480Z",
     "iopub.status.busy": "2022-11-29T22:50:02.885093Z",
     "iopub.status.idle": "2022-11-29T22:50:02.916709Z",
     "shell.execute_reply": "2022-11-29T22:50:02.916145Z"
    },
    "papermill": {
     "duration": 1.596645,
     "end_time": "2022-11-29T22:50:02.917561",
     "exception": false,
     "start_time": "2022-11-29T22:50:01.320916",
     "status": "completed"
    },
    "tags": []
   },
   "outputs": [
    {
     "data": {
      "text/plain": [
       "count    3.962100e+04\n",
       "mean     1.578000e-02\n",
       "std      8.834681e-02\n",
       "min      4.344717e-07\n",
       "25%      3.993140e-03\n",
       "50%      6.038577e-03\n",
       "75%      8.447021e-03\n",
       "max      1.000000e+00\n",
       "dtype: float64"
      ]
     },
     "execution_count": 36,
     "metadata": {},
     "output_type": "execute_result"
    }
   ],
   "source": [
    "gene_corrs_flat.describe()"
   ]
  },
  {
   "cell_type": "code",
   "execution_count": 37,
   "id": "b3815678-0f93-4b35-897b-a9d047a2aa78",
   "metadata": {
    "execution": {
     "iopub.execute_input": "2022-11-29T22:50:05.941723Z",
     "iopub.status.busy": "2022-11-29T22:50:05.941082Z",
     "iopub.status.idle": "2022-11-29T22:50:05.969339Z",
     "shell.execute_reply": "2022-11-29T22:50:05.968736Z"
    },
    "papermill": {
     "duration": 1.561085,
     "end_time": "2022-11-29T22:50:05.970246",
     "exception": false,
     "start_time": "2022-11-29T22:50:04.409161",
     "status": "completed"
    },
    "tags": []
   },
   "outputs": [
    {
     "data": {
      "text/plain": [
       "0.00    4.344717e-07\n",
       "0.05    1.660853e-03\n",
       "0.10    2.453638e-03\n",
       "0.15    3.036810e-03\n",
       "0.20    3.531926e-03\n",
       "0.25    3.993140e-03\n",
       "0.30    4.414011e-03\n",
       "0.35    4.827205e-03\n",
       "0.40    5.231372e-03\n",
       "0.45    5.627764e-03\n",
       "0.50    6.038577e-03\n",
       "0.55    6.463105e-03\n",
       "0.60    6.901342e-03\n",
       "0.65    7.355675e-03\n",
       "0.70    7.871273e-03\n",
       "0.75    8.447021e-03\n",
       "0.80    9.075282e-03\n",
       "0.85    9.875609e-03\n",
       "0.90    1.099263e-02\n",
       "0.95    1.312707e-02\n",
       "dtype: float64"
      ]
     },
     "metadata": {},
     "output_type": "display_data"
    }
   ],
   "source": [
    "gene_corrs_quantiles = gene_corrs_flat.quantile(np.arange(0, 1, 0.05))\n",
    "display(gene_corrs_quantiles)"
   ]
  },
  {
   "cell_type": "markdown",
   "id": "87134509-b145-4a10-8bc9-b7e914c2b0fa",
   "metadata": {
    "papermill": {
     "duration": 1.539502,
     "end_time": "2022-11-29T22:50:09.040776",
     "exception": false,
     "start_time": "2022-11-29T22:50:07.501274",
     "status": "completed"
    },
    "tags": []
   },
   "source": [
    "## Positive definiteness"
   ]
  },
  {
   "cell_type": "code",
   "execution_count": 38,
   "id": "07d9a9a1-a4f7-48aa-b916-6d42a8cc6186",
   "metadata": {
    "execution": {
     "iopub.execute_input": "2022-11-29T22:50:12.058006Z",
     "iopub.status.busy": "2022-11-29T22:50:12.057637Z",
     "iopub.status.idle": "2022-11-29T22:50:12.110170Z",
     "shell.execute_reply": "2022-11-29T22:50:12.109742Z"
    },
    "papermill": {
     "duration": 1.586815,
     "end_time": "2022-11-29T22:50:12.110978",
     "exception": false,
     "start_time": "2022-11-29T22:50:10.524163",
     "status": "completed"
    },
    "tags": []
   },
   "outputs": [
    {
     "data": {
      "text/plain": [
       "0"
      ]
     },
     "metadata": {},
     "output_type": "display_data"
    },
    {
     "data": {
      "text/plain": [
       "array([], dtype=float64)"
      ]
     },
     "metadata": {},
     "output_type": "display_data"
    }
   ],
   "source": [
    "# print negative eigenvalues\n",
    "eigs = np.linalg.eigvals(gene_corrs_df.to_numpy())\n",
    "display(len(eigs[eigs < 0]))\n",
    "display(eigs[eigs < 0])"
   ]
  },
  {
   "cell_type": "code",
   "execution_count": 39,
   "id": "6e218436-c3c5-4028-8c94-a4fa6260efce",
   "metadata": {
    "execution": {
     "iopub.execute_input": "2022-11-29T22:50:15.198704Z",
     "iopub.status.busy": "2022-11-29T22:50:15.198218Z",
     "iopub.status.idle": "2022-11-29T22:50:15.224719Z",
     "shell.execute_reply": "2022-11-29T22:50:15.224104Z"
    },
    "papermill": {
     "duration": 1.591978,
     "end_time": "2022-11-29T22:50:15.225610",
     "exception": false,
     "start_time": "2022-11-29T22:50:13.633632",
     "status": "completed"
    },
    "tags": []
   },
   "outputs": [
    {
     "name": "stdout",
     "output_type": "stream",
     "text": [
      "Works!\n"
     ]
    }
   ],
   "source": [
    "try:\n",
    "    chol_mat = np.linalg.cholesky(gene_corrs_df.to_numpy())\n",
    "    cov_inv = np.linalg.inv(chol_mat)\n",
    "    print(\"Works!\")\n",
    "except Exception as e:\n",
    "    print(f\"Cholesky decomposition failed: {str(e)}\")"
   ]
  },
  {
   "cell_type": "code",
   "execution_count": 40,
   "id": "dd8827fb-faf9-4c7c-9454-015e94752706",
   "metadata": {
    "execution": {
     "iopub.execute_input": "2022-11-29T22:50:18.272098Z",
     "iopub.status.busy": "2022-11-29T22:50:18.271468Z",
     "iopub.status.idle": "2022-11-29T22:50:18.304277Z",
     "shell.execute_reply": "2022-11-29T22:50:18.303650Z"
    },
    "papermill": {
     "duration": 1.573321,
     "end_time": "2022-11-29T22:50:18.305250",
     "exception": false,
     "start_time": "2022-11-29T22:50:16.731929",
     "status": "completed"
    },
    "tags": []
   },
   "outputs": [
    {
     "name": "stdout",
     "output_type": "stream",
     "text": [
      "Works!\n"
     ]
    }
   ],
   "source": [
    "try:\n",
    "    # decomposition used by statsmodels.GLS\n",
    "    cholsigmainv = np.linalg.cholesky(np.linalg.inv(gene_corrs_df.to_numpy())).T\n",
    "    print(\"Works!\")\n",
    "except Exception as e:\n",
    "    print(f\"Cholesky decomposition failed (statsmodels.GLS): {str(e)}\")"
   ]
  },
  {
   "cell_type": "markdown",
   "id": "8e60a080-edb2-4e9c-b2ef-22961693200c",
   "metadata": {
    "papermill": {
     "duration": 1.665639,
     "end_time": "2022-11-29T22:50:21.607218",
     "exception": false,
     "start_time": "2022-11-29T22:50:19.941579",
     "status": "completed"
    },
    "tags": []
   },
   "source": [
    "## Plot: distribution"
   ]
  },
  {
   "cell_type": "code",
   "execution_count": 41,
   "id": "8301126b-a7d4-4744-9c7d-f0f86eb6f54c",
   "metadata": {
    "execution": {
     "iopub.execute_input": "2022-11-29T22:50:24.844192Z",
     "iopub.status.busy": "2022-11-29T22:50:24.843738Z",
     "iopub.status.idle": "2022-11-29T22:50:30.784383Z",
     "shell.execute_reply": "2022-11-29T22:50:30.783834Z"
    },
    "papermill": {
     "duration": 7.548108,
     "end_time": "2022-11-29T22:50:30.786058",
     "exception": false,
     "start_time": "2022-11-29T22:50:23.237950",
     "status": "completed"
    },
    "tags": []
   },
   "outputs": [
    {
     "data": {
      "image/png": "[encoded data removed]",
      "text/plain": [
       "<Figure size 700x700 with 1 Axes>"
      ]
     },
     "metadata": {},
     "output_type": "display_data"
    }
   ],
   "source": [
    "with sns.plotting_context(\"paper\", font_scale=1.5):\n",
    "    g = sns.displot(gene_corrs_flat, kde=True, height=7)\n",
    "    g.ax.set_title(\n",
    "        f\"Distribution of gene correlation values in chromosome {CHROMOSOME}\"\n",
    "    )"
   ]
  },
  {
   "cell_type": "markdown",
   "id": "cbd52bca-d878-4a2f-b684-5c83aa3038d4",
   "metadata": {
    "papermill": {
     "duration": 1.611268,
     "end_time": "2022-11-29T22:50:34.060601",
     "exception": false,
     "start_time": "2022-11-29T22:50:32.449333",
     "status": "completed"
    },
    "tags": []
   },
   "source": [
    "## Plot: heatmap"
   ]
  },
  {
   "cell_type": "code",
   "execution_count": 42,
   "id": "d03fe63a-c7b2-4fb9-a53c-db362ce843c9",
   "metadata": {
    "execution": {
     "iopub.execute_input": "2022-11-29T22:50:37.257506Z",
     "iopub.status.busy": "2022-11-29T22:50:37.257031Z",
     "iopub.status.idle": "2022-11-29T22:50:37.281642Z",
     "shell.execute_reply": "2022-11-29T22:50:37.281085Z"
    },
    "papermill": {
     "duration": 1.631766,
     "end_time": "2022-11-29T22:50:37.282563",
     "exception": false,
     "start_time": "2022-11-29T22:50:35.650797",
     "status": "completed"
    },
    "tags": []
   },
   "outputs": [
    {
     "data": {
      "text/plain": [
       "'0.0 / 0.05'"
      ]
     },
     "metadata": {},
     "output_type": "display_data"
    }
   ],
   "source": [
    "vmin_val = min(0.00, gene_corrs_quantiles[0.10])\n",
    "vmax_val = max(0.05, gene_corrs_quantiles[0.90])\n",
    "display(f\"{vmin_val} / {vmax_val}\")"
   ]
  },
  {
   "cell_type": "code",
   "execution_count": 43,
   "id": "dc41b70b-5bcc-4d9e-9f33-a22c4a94dab5",
   "metadata": {
    "execution": {
     "iopub.execute_input": "2022-11-29T22:50:40.410705Z",
     "iopub.status.busy": "2022-11-29T22:50:40.410233Z",
     "iopub.status.idle": "2022-11-29T22:50:40.660987Z",
     "shell.execute_reply": "2022-11-29T22:50:40.660591Z"
    },
    "papermill": {
     "duration": 1.800146,
     "end_time": "2022-11-29T22:50:40.664090",
     "exception": false,
     "start_time": "2022-11-29T22:50:38.863944",
     "status": "completed"
    },
    "tags": []
   },
   "outputs": [
    {
     "data": {
      "text/plain": [
       "Text(0.5, 1.0, 'Gene correlations in chromosome 7')"
      ]
     },
     "execution_count": 43,
     "metadata": {},
     "output_type": "execute_result"
    },
    {
     "data": {
      "image/png": "[encoded data removed]",
      "text/plain": [
       "<Figure size 1000x1000 with 2 Axes>"
      ]
     },
     "metadata": {},
     "output_type": "display_data"
    }
   ],
   "source": [
    "f, ax = plt.subplots(figsize=(10, 10))\n",
    "sns.heatmap(\n",
    "    gene_corrs_df,\n",
    "    xticklabels=False,\n",
    "    yticklabels=False,\n",
    "    square=True,\n",
    "    vmin=vmin_val,\n",
    "    vmax=vmax_val,\n",
    "    cmap=\"rocket_r\",\n",
    "    ax=ax,\n",
    ")\n",
    "ax.set_title(f\"Gene correlations in chromosome {CHROMOSOME}\")"
   ]
  },
  {
   "cell_type": "code",
   "execution_count": null,
   "id": "b25e3ead",
   "metadata": {
    "papermill": {
     "duration": 1.567098,
     "end_time": "2022-11-29T22:50:43.798883",
     "exception": false,
     "start_time": "2022-11-29T22:50:42.231785",
     "status": "completed"
    },
    "tags": []
   },
   "outputs": [],
   "source": []
  }
 ],
 "metadata": {
  "jupytext": {
   "cell_metadata_filter": "all,-execution,-papermill,-trusted",
   "formats": "ipynb,py//py:percent"
  },
  "kernelspec": {
   "display_name": "Python 3 (ipykernel)",
   "language": "python",
   "name": "python3"
  },
  "language_info": {
   "codemirror_mode": {
    "name": "ipython",
    "version": 3
   },
   "file_extension": ".py",
   "mimetype": "text/x-python",
   "name": "python",
   "nbconvert_exporter": "python",
   "pygments_lexer": "ipython3",
   "version": "3.10.6"
  },
  "papermill": {
   "default_parameters": {},
   "duration": 1697.569387,
   "end_time": "2022-11-29T22:50:48.576031",
   "environment_variables": {},
   "exception": null,
   "input_path": "projects/asthma-copd/nbs/20_gene_corrs/10-gene_expr_correlations.ipynb",
   "output_path": "projects/asthma-copd/nbs/20_gene_corrs/gene_corrs/asthma_only/10-gene_expr_correlations-chr7.run.ipynb",
   "parameters": {
    "CHROMOSOME": 7,
    "COHORT_NAME": "asthma_only",
    "OUTPUT_DIR_BASE": "/opt/data/projects/asthma-copd/results/gls_phenoplier"
   },
   "start_time": "2022-11-29T22:22:31.006644",
   "version": "2.2.2"
  }
 },
 "nbformat": 4,
 "nbformat_minor": 5
}
