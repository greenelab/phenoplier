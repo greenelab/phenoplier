{
 "cells": [
  {
   "cell_type": "markdown",
   "id": "7a6632fb",
   "metadata": {
    "papermill": {
     "duration": 0.008434,
     "end_time": "2022-11-29T22:22:31.886011",
     "exception": false,
     "start_time": "2022-11-29T22:22:31.877577",
     "status": "completed"
    },
    "tags": []
   },
   "source": [
    "# Description"
   ]
  },
  {
   "cell_type": "markdown",
   "id": "7097c346",
   "metadata": {
    "papermill": {
     "duration": 0.007775,
     "end_time": "2022-11-29T22:22:31.901645",
     "exception": false,
     "start_time": "2022-11-29T22:22:31.893870",
     "status": "completed"
    },
    "tags": []
   },
   "source": [
    "(Please, take a look at the README.md file in this directory for instructions on how to run this notebook)\n",
    "\n",
    "This notebook computes predicted expression correlations between all genes in the MultiPLIER models.\n",
    "\n",
    "It has specicfic parameters for papermill (see under `Settings` below).\n",
    "It can be configured to run on a single chromosome to run in parallel.\n",
    "\n",
    "This notebook is not directly run. See README.md."
   ]
  },
  {
   "cell_type": "markdown",
   "id": "c61d8427",
   "metadata": {
    "papermill": {
     "duration": 0.007658,
     "end_time": "2022-11-29T22:22:31.917058",
     "exception": false,
     "start_time": "2022-11-29T22:22:31.909400",
     "status": "completed"
    },
    "tags": []
   },
   "source": [
    "# Modules"
   ]
  },
  {
   "cell_type": "code",
   "execution_count": 1,
   "id": "bbc0234f",
   "metadata": {
    "execution": {
     "iopub.execute_input": "2022-11-29T22:22:31.935445Z",
     "iopub.status.busy": "2022-11-29T22:22:31.934552Z",
     "iopub.status.idle": "2022-11-29T22:22:31.960655Z",
     "shell.execute_reply": "2022-11-29T22:22:31.960012Z"
    },
    "papermill": {
     "duration": 0.036794,
     "end_time": "2022-11-29T22:22:31.962356",
     "exception": false,
     "start_time": "2022-11-29T22:22:31.925562",
     "status": "completed"
    },
    "tags": []
   },
   "outputs": [],
   "source": [
    "%load_ext autoreload\n",
    "%autoreload 2"
   ]
  },
  {
   "cell_type": "code",
   "execution_count": 2,
   "id": "1d5f5a59",
   "metadata": {
    "execution": {
     "iopub.execute_input": "2022-11-29T22:22:31.979966Z",
     "iopub.status.busy": "2022-11-29T22:22:31.979235Z",
     "iopub.status.idle": "2022-11-29T22:22:32.658060Z",
     "shell.execute_reply": "2022-11-29T22:22:32.657588Z"
    },
    "papermill": {
     "duration": 0.689313,
     "end_time": "2022-11-29T22:22:32.659791",
     "exception": false,
     "start_time": "2022-11-29T22:22:31.970478",
     "status": "completed"
    },
    "tags": []
   },
   "outputs": [],
   "source": [
    "from random import sample, seed\n",
    "import warnings\n",
    "from pathlib import Path\n",
    "import pickle\n",
    "import traceback\n",
    "\n",
    "import numpy as np\n",
    "from scipy.spatial.distance import squareform\n",
    "import pandas as pd\n",
    "from tqdm import tqdm\n",
    "import matplotlib.pyplot as plt\n",
    "import seaborn as sns\n",
    "\n",
    "import conf\n",
    "from entity import Gene"
   ]
  },
  {
   "cell_type": "markdown",
   "id": "1eac24b5",
   "metadata": {
    "papermill": {
     "duration": 0.008232,
     "end_time": "2022-11-29T22:22:32.676614",
     "exception": false,
     "start_time": "2022-11-29T22:22:32.668382",
     "status": "completed"
    },
    "tags": []
   },
   "source": [
    "# Settings"
   ]
  },
  {
   "cell_type": "code",
   "execution_count": 3,
   "id": "ca4560ba",
   "metadata": {
    "execution": {
     "iopub.execute_input": "2022-11-29T22:22:32.694457Z",
     "iopub.status.busy": "2022-11-29T22:22:32.693850Z",
     "iopub.status.idle": "2022-11-29T22:22:32.723652Z",
     "shell.execute_reply": "2022-11-29T22:22:32.722860Z"
    },
    "papermill": {
     "duration": 0.040573,
     "end_time": "2022-11-29T22:22:32.725478",
     "exception": false,
     "start_time": "2022-11-29T22:22:32.684905",
     "status": "completed"
    },
    "tags": [
     "parameters"
    ]
   },
   "outputs": [],
   "source": [
    "# a cohort name (it could be something like UK_BIOBANK, etc)\n",
    "COHORT_NAME = None\n",
    "\n",
    "# reference panel such as 1000G or GTEX_V8\n",
    "REFERENCE_PANEL = \"GTEX_V8\"\n",
    "\n",
    "# predictions models such as MASHR or ELASTIC_NET\n",
    "EQTL_MODEL = \"MASHR\"\n",
    "\n",
    "# this is the default value used in S-MultiXcan to select the\n",
    "# top principal components of the expression correlation matrix\n",
    "SMULTIXCAN_CONDITION_NUMBER = 30\n",
    "\n",
    "# specifies a single chromosome value\n",
    "CHROMOSOME = None\n",
    "\n",
    "# If True, computes the correlation between closeby genes only;\n",
    "# otherwise, it computes correlations for all genes in a chromosome\n",
    "COMPUTE_CORRELATIONS_WITHIN_DISTANCE = False\n",
    "\n",
    "# if True, then it will continue if a gene pair correlation fails,\n",
    "# printing the warning/error for debugging. If False, any warning/error\n",
    "# will be thrown\n",
    "DEBUG_MODE = False\n",
    "\n",
    "# output dir\n",
    "OUTPUT_DIR_BASE = None"
   ]
  },
  {
   "cell_type": "code",
   "execution_count": 4,
   "id": "e6839597",
   "metadata": {
    "execution": {
     "iopub.execute_input": "2022-11-29T22:22:32.745457Z",
     "iopub.status.busy": "2022-11-29T22:22:32.745092Z",
     "iopub.status.idle": "2022-11-29T22:22:32.771182Z",
     "shell.execute_reply": "2022-11-29T22:22:32.770319Z"
    },
    "papermill": {
     "duration": 0.037498,
     "end_time": "2022-11-29T22:22:32.772832",
     "exception": false,
     "start_time": "2022-11-29T22:22:32.735334",
     "status": "completed"
    },
    "tags": [
     "injected-parameters"
    ]
   },
   "outputs": [],
   "source": [
    "# Parameters\n",
    "COHORT_NAME = \"asthma_only\"\n",
    "CHROMOSOME = 4\n",
    "OUTPUT_DIR_BASE = \"/opt/data/projects/asthma-copd/results/gls_phenoplier\"\n"
   ]
  },
  {
   "cell_type": "code",
   "execution_count": 5,
   "id": "3190631f-27fc-480f-b18e-571d580425a5",
   "metadata": {
    "execution": {
     "iopub.execute_input": "2022-11-29T22:22:32.790320Z",
     "iopub.status.busy": "2022-11-29T22:22:32.789721Z",
     "iopub.status.idle": "2022-11-29T22:22:32.821501Z",
     "shell.execute_reply": "2022-11-29T22:22:32.820664Z"
    },
    "papermill": {
     "duration": 0.042078,
     "end_time": "2022-11-29T22:22:32.823114",
     "exception": false,
     "start_time": "2022-11-29T22:22:32.781036",
     "status": "completed"
    },
    "tags": []
   },
   "outputs": [
    {
     "data": {
      "text/plain": [
       "'Cohort name: asthma_only'"
      ]
     },
     "metadata": {},
     "output_type": "display_data"
    }
   ],
   "source": [
    "assert COHORT_NAME is not None and len(COHORT_NAME) > 0, \"A cohort name must be given\"\n",
    "\n",
    "COHORT_NAME = COHORT_NAME.lower()\n",
    "display(f\"Cohort name: {COHORT_NAME}\")"
   ]
  },
  {
   "cell_type": "code",
   "execution_count": 6,
   "id": "f53ba19b-0f93-4fa2-a047-63b375939d1a",
   "metadata": {
    "execution": {
     "iopub.execute_input": "2022-11-29T22:22:32.841357Z",
     "iopub.status.busy": "2022-11-29T22:22:32.840790Z",
     "iopub.status.idle": "2022-11-29T22:22:32.867685Z",
     "shell.execute_reply": "2022-11-29T22:22:32.867033Z"
    },
    "papermill": {
     "duration": 0.037555,
     "end_time": "2022-11-29T22:22:32.869202",
     "exception": false,
     "start_time": "2022-11-29T22:22:32.831647",
     "status": "completed"
    },
    "tags": []
   },
   "outputs": [
    {
     "data": {
      "text/plain": [
       "'Reference panel: GTEX_V8'"
      ]
     },
     "metadata": {},
     "output_type": "display_data"
    }
   ],
   "source": [
    "assert (\n",
    "    REFERENCE_PANEL is not None and len(REFERENCE_PANEL) > 0\n",
    "), \"A reference panel must be given\"\n",
    "\n",
    "display(f\"Reference panel: {REFERENCE_PANEL}\")"
   ]
  },
  {
   "cell_type": "code",
   "execution_count": 7,
   "id": "e024d130-c139-429a-9c6e-ccf149e297b0",
   "metadata": {
    "execution": {
     "iopub.execute_input": "2022-11-29T22:22:32.886675Z",
     "iopub.status.busy": "2022-11-29T22:22:32.886418Z",
     "iopub.status.idle": "2022-11-29T22:22:32.911138Z",
     "shell.execute_reply": "2022-11-29T22:22:32.910378Z"
    },
    "papermill": {
     "duration": 0.034929,
     "end_time": "2022-11-29T22:22:32.912533",
     "exception": false,
     "start_time": "2022-11-29T22:22:32.877604",
     "status": "completed"
    },
    "tags": []
   },
   "outputs": [
    {
     "data": {
      "text/plain": [
       "'eQTL model: MASHR) / mashr_'"
      ]
     },
     "metadata": {},
     "output_type": "display_data"
    }
   ],
   "source": [
    "assert (\n",
    "    EQTL_MODEL is not None and len(EQTL_MODEL) > 0\n",
    "), \"A prediction/eQTL model must be given\"\n",
    "\n",
    "EQTL_MODEL_FILES_PREFIX = conf.PHENOMEXCAN[\"PREDICTION_MODELS\"][f\"{EQTL_MODEL}_PREFIX\"]\n",
    "display(f\"eQTL model: {EQTL_MODEL}) / {EQTL_MODEL_FILES_PREFIX}\")"
   ]
  },
  {
   "cell_type": "code",
   "execution_count": 8,
   "id": "552a7f63-a18c-4d3e-bb6a-94f99b431291",
   "metadata": {
    "execution": {
     "iopub.execute_input": "2022-11-29T22:22:32.930494Z",
     "iopub.status.busy": "2022-11-29T22:22:32.930144Z",
     "iopub.status.idle": "2022-11-29T22:22:32.954945Z",
     "shell.execute_reply": "2022-11-29T22:22:32.954180Z"
    },
    "papermill": {
     "duration": 0.035294,
     "end_time": "2022-11-29T22:22:32.956314",
     "exception": false,
     "start_time": "2022-11-29T22:22:32.921020",
     "status": "completed"
    },
    "tags": []
   },
   "outputs": [
    {
     "data": {
      "text/plain": [
       "'S-MultiXcan condition number: 30'"
      ]
     },
     "metadata": {},
     "output_type": "display_data"
    }
   ],
   "source": [
    "assert (\n",
    "    SMULTIXCAN_CONDITION_NUMBER is not None and SMULTIXCAN_CONDITION_NUMBER > 0\n",
    "), \"The S-MultiXcan condition number (positive integer) must be given\"\n",
    "\n",
    "display(f\"S-MultiXcan condition number: {SMULTIXCAN_CONDITION_NUMBER}\")"
   ]
  },
  {
   "cell_type": "code",
   "execution_count": 9,
   "id": "f34a336f-548e-4afe-8955-90eaea4f42c6",
   "metadata": {
    "execution": {
     "iopub.execute_input": "2022-11-29T22:22:32.974335Z",
     "iopub.status.busy": "2022-11-29T22:22:32.973974Z",
     "iopub.status.idle": "2022-11-29T22:22:32.999788Z",
     "shell.execute_reply": "2022-11-29T22:22:32.999059Z"
    },
    "papermill": {
     "duration": 0.036371,
     "end_time": "2022-11-29T22:22:33.001285",
     "exception": false,
     "start_time": "2022-11-29T22:22:32.964914",
     "status": "completed"
    },
    "tags": []
   },
   "outputs": [
    {
     "data": {
      "text/plain": [
       "'Working on chromosome 4'"
      ]
     },
     "metadata": {},
     "output_type": "display_data"
    }
   ],
   "source": [
    "assert CHROMOSOME is not None and (\n",
    "    1 <= CHROMOSOME <= 22\n",
    "), \"You have to select one chromosome (format: number between 1 and 22)\"\n",
    "\n",
    "# CHROMOSOME = str(CHROMOSOME)\n",
    "display(f\"Working on chromosome {CHROMOSOME}\")"
   ]
  },
  {
   "cell_type": "code",
   "execution_count": 10,
   "id": "ab8e96e8-06b5-4363-9dcd-dc4d78cc27f7",
   "metadata": {
    "execution": {
     "iopub.execute_input": "2022-11-29T22:22:33.019594Z",
     "iopub.status.busy": "2022-11-29T22:22:33.019242Z",
     "iopub.status.idle": "2022-11-29T22:22:33.044937Z",
     "shell.execute_reply": "2022-11-29T22:22:33.044167Z"
    },
    "papermill": {
     "duration": 0.036344,
     "end_time": "2022-11-29T22:22:33.046325",
     "exception": false,
     "start_time": "2022-11-29T22:22:33.009981",
     "status": "completed"
    },
    "tags": []
   },
   "outputs": [
    {
     "data": {
      "text/plain": [
       "'Compute correlation within distance False'"
      ]
     },
     "metadata": {},
     "output_type": "display_data"
    }
   ],
   "source": [
    "display(f\"Compute correlation within distance {COMPUTE_CORRELATIONS_WITHIN_DISTANCE}\")"
   ]
  },
  {
   "cell_type": "code",
   "execution_count": 11,
   "id": "b393b698-77e3-4ba2-8ac1-e14d51aa988f",
   "metadata": {
    "execution": {
     "iopub.execute_input": "2022-11-29T22:22:33.065104Z",
     "iopub.status.busy": "2022-11-29T22:22:33.064756Z",
     "iopub.status.idle": "2022-11-29T22:22:33.090127Z",
     "shell.execute_reply": "2022-11-29T22:22:33.089367Z"
    },
    "papermill": {
     "duration": 0.03619,
     "end_time": "2022-11-29T22:22:33.091482",
     "exception": false,
     "start_time": "2022-11-29T22:22:33.055292",
     "status": "completed"
    },
    "tags": []
   },
   "outputs": [
    {
     "data": {
      "text/plain": [
       "'Using output dir base: /opt/data/projects/asthma-copd/results/gls_phenoplier/gene_corrs/asthma_only'"
      ]
     },
     "metadata": {},
     "output_type": "display_data"
    }
   ],
   "source": [
    "assert (\n",
    "    OUTPUT_DIR_BASE is not None and len(OUTPUT_DIR_BASE) > 0\n",
    "), \"Output directory path must be given\"\n",
    "\n",
    "OUTPUT_DIR_BASE = (\n",
    "    Path(OUTPUT_DIR_BASE)\n",
    "    / \"gene_corrs\"\n",
    "    / COHORT_NAME\n",
    "    # / REFERENCE_PANEL.lower()\n",
    "    # / EQTL_MODEL.lower()\n",
    ").resolve()\n",
    "\n",
    "OUTPUT_DIR_BASE.mkdir(parents=True, exist_ok=True)\n",
    "\n",
    "display(f\"Using output dir base: {OUTPUT_DIR_BASE}\")"
   ]
  },
  {
   "cell_type": "markdown",
   "id": "d2ba085e",
   "metadata": {
    "papermill": {
     "duration": 0.008659,
     "end_time": "2022-11-29T22:22:33.109261",
     "exception": false,
     "start_time": "2022-11-29T22:22:33.100602",
     "status": "completed"
    },
    "tags": []
   },
   "source": [
    "# Load data"
   ]
  },
  {
   "cell_type": "markdown",
   "id": "7dcb8db7",
   "metadata": {
    "papermill": {
     "duration": 0.009065,
     "end_time": "2022-11-29T22:22:33.127079",
     "exception": false,
     "start_time": "2022-11-29T22:22:33.118014",
     "status": "completed"
    },
    "tags": []
   },
   "source": [
    "## GWAS variants"
   ]
  },
  {
   "cell_type": "code",
   "execution_count": 12,
   "id": "29434c4e-8cd3-4b9b-82e4-b5a251d9dd19",
   "metadata": {
    "execution": {
     "iopub.execute_input": "2022-11-29T22:22:33.145830Z",
     "iopub.status.busy": "2022-11-29T22:22:33.145301Z",
     "iopub.status.idle": "2022-11-29T22:22:35.421509Z",
     "shell.execute_reply": "2022-11-29T22:22:35.420848Z"
    },
    "papermill": {
     "duration": 2.287777,
     "end_time": "2022-11-29T22:22:35.423602",
     "exception": false,
     "start_time": "2022-11-29T22:22:33.135825",
     "status": "completed"
    },
    "tags": []
   },
   "outputs": [],
   "source": [
    "with open(OUTPUT_DIR_BASE / \"gwas_variant_ids.pkl\", \"rb\") as handle:\n",
    "    gwas_variants_ids_set = pickle.load(handle)"
   ]
  },
  {
   "cell_type": "code",
   "execution_count": 13,
   "id": "b9d9dec2-4a76-4bf9-bde2-e24c95acb8a0",
   "metadata": {
    "execution": {
     "iopub.execute_input": "2022-11-29T22:22:35.444316Z",
     "iopub.status.busy": "2022-11-29T22:22:35.444126Z",
     "iopub.status.idle": "2022-11-29T22:22:35.460005Z",
     "shell.execute_reply": "2022-11-29T22:22:35.459584Z"
    },
    "papermill": {
     "duration": 0.027506,
     "end_time": "2022-11-29T22:22:35.461387",
     "exception": false,
     "start_time": "2022-11-29T22:22:35.433881",
     "status": "completed"
    },
    "tags": []
   },
   "outputs": [
    {
     "data": {
      "text/plain": [
       "8578486"
      ]
     },
     "execution_count": 13,
     "metadata": {},
     "output_type": "execute_result"
    }
   ],
   "source": [
    "len(gwas_variants_ids_set)"
   ]
  },
  {
   "cell_type": "code",
   "execution_count": 14,
   "id": "4235b06a-6034-4ee4-a0a3-2ae35d122418",
   "metadata": {
    "execution": {
     "iopub.execute_input": "2022-11-29T22:22:35.480408Z",
     "iopub.status.busy": "2022-11-29T22:22:35.480236Z",
     "iopub.status.idle": "2022-11-29T22:22:35.996695Z",
     "shell.execute_reply": "2022-11-29T22:22:35.996116Z"
    },
    "papermill": {
     "duration": 0.527939,
     "end_time": "2022-11-29T22:22:35.998525",
     "exception": false,
     "start_time": "2022-11-29T22:22:35.470586",
     "status": "completed"
    },
    "tags": []
   },
   "outputs": [
    {
     "data": {
      "text/plain": [
       "['chr11_67070525_G_A_b38',\n",
       " 'chr9_30913184_G_T_b38',\n",
       " 'chr9_105971584_C_T_b38',\n",
       " 'chr4_127289918_A_G_b38',\n",
       " 'chr4_55250525_G_A_b38']"
      ]
     },
     "execution_count": 14,
     "metadata": {},
     "output_type": "execute_result"
    }
   ],
   "source": [
    "list(gwas_variants_ids_set)[:5]"
   ]
  },
  {
   "cell_type": "markdown",
   "id": "07866999-2305-41f9-a144-e69c9122c212",
   "metadata": {
    "papermill": {
     "duration": 0.009966,
     "end_time": "2022-11-29T22:22:36.018980",
     "exception": false,
     "start_time": "2022-11-29T22:22:36.009014",
     "status": "completed"
    },
    "tags": []
   },
   "source": [
    "## S-PrediXcan tissue models"
   ]
  },
  {
   "cell_type": "code",
   "execution_count": 15,
   "id": "780611d9-77c8-405f-90a4-f271f7b09397",
   "metadata": {
    "execution": {
     "iopub.execute_input": "2022-11-29T22:22:36.041157Z",
     "iopub.status.busy": "2022-11-29T22:22:36.040891Z",
     "iopub.status.idle": "2022-11-29T22:22:36.833515Z",
     "shell.execute_reply": "2022-11-29T22:22:36.832986Z"
    },
    "papermill": {
     "duration": 0.805452,
     "end_time": "2022-11-29T22:22:36.835186",
     "exception": false,
     "start_time": "2022-11-29T22:22:36.029734",
     "status": "completed"
    },
    "tags": []
   },
   "outputs": [],
   "source": [
    "spredixcan_genes_models = pd.read_pickle(OUTPUT_DIR_BASE / \"gene_tissues.pkl\")"
   ]
  },
  {
   "cell_type": "code",
   "execution_count": 16,
   "id": "726dd1f6-9557-4225-91fa-b3b879ea96e1",
   "metadata": {
    "execution": {
     "iopub.execute_input": "2022-11-29T22:22:36.855406Z",
     "iopub.status.busy": "2022-11-29T22:22:36.855237Z",
     "iopub.status.idle": "2022-11-29T22:22:36.869305Z",
     "shell.execute_reply": "2022-11-29T22:22:36.868858Z"
    },
    "papermill": {
     "duration": 0.025552,
     "end_time": "2022-11-29T22:22:36.870660",
     "exception": false,
     "start_time": "2022-11-29T22:22:36.845108",
     "status": "completed"
    },
    "tags": []
   },
   "outputs": [
    {
     "data": {
      "text/plain": [
       "(6443, 5)"
      ]
     },
     "execution_count": 16,
     "metadata": {},
     "output_type": "execute_result"
    }
   ],
   "source": [
    "spredixcan_genes_models.shape"
   ]
  },
  {
   "cell_type": "code",
   "execution_count": 17,
   "id": "944a1b48-222c-4eb0-b252-b9de2cbca215",
   "metadata": {
    "execution": {
     "iopub.execute_input": "2022-11-29T22:22:36.890991Z",
     "iopub.status.busy": "2022-11-29T22:22:36.890808Z",
     "iopub.status.idle": "2022-11-29T22:22:36.908635Z",
     "shell.execute_reply": "2022-11-29T22:22:36.908266Z"
    },
    "papermill": {
     "duration": 0.029428,
     "end_time": "2022-11-29T22:22:36.909974",
     "exception": false,
     "start_time": "2022-11-29T22:22:36.880546",
     "status": "completed"
    },
    "tags": []
   },
   "outputs": [
    {
     "data": {
      "text/html": [
       "<div>\n",
       "<style scoped>\n",
       "    .dataframe tbody tr th:only-of-type {\n",
       "        vertical-align: middle;\n",
       "    }\n",
       "\n",
       "    .dataframe tbody tr th {\n",
       "        vertical-align: top;\n",
       "    }\n",
       "\n",
       "    .dataframe thead th {\n",
       "        text-align: right;\n",
       "    }\n",
       "</style>\n",
       "<table border=\"1\" class=\"dataframe\">\n",
       "  <thead>\n",
       "    <tr style=\"text-align: right;\">\n",
       "      <th></th>\n",
       "      <th>gene_name</th>\n",
       "      <th>tissue</th>\n",
       "      <th>n_tissues</th>\n",
       "      <th>n_snps_used_sum</th>\n",
       "      <th>n_snps_in_model_sum</th>\n",
       "    </tr>\n",
       "    <tr>\n",
       "      <th>gene_id</th>\n",
       "      <th></th>\n",
       "      <th></th>\n",
       "      <th></th>\n",
       "      <th></th>\n",
       "      <th></th>\n",
       "    </tr>\n",
       "  </thead>\n",
       "  <tbody>\n",
       "    <tr>\n",
       "      <th>ENSG00000000419</th>\n",
       "      <td>DPM1</td>\n",
       "      <td>(Brain_Hypothalamus, Brain_Substantia_nigra)</td>\n",
       "      <td>2</td>\n",
       "      <td>2</td>\n",
       "      <td>2</td>\n",
       "    </tr>\n",
       "    <tr>\n",
       "      <th>ENSG00000000938</th>\n",
       "      <td>FGR</td>\n",
       "      <td>(Brain_Cerebellar_Hemisphere, Stomach, Brain_A...</td>\n",
       "      <td>36</td>\n",
       "      <td>40</td>\n",
       "      <td>40</td>\n",
       "    </tr>\n",
       "    <tr>\n",
       "      <th>ENSG00000000971</th>\n",
       "      <td>CFH</td>\n",
       "      <td>(Brain_Cerebellar_Hemisphere, Stomach, Brain_A...</td>\n",
       "      <td>34</td>\n",
       "      <td>44</td>\n",
       "      <td>44</td>\n",
       "    </tr>\n",
       "    <tr>\n",
       "      <th>ENSG00000001084</th>\n",
       "      <td>GCLC</td>\n",
       "      <td>(Brain_Cerebellar_Hemisphere, Brain_Anterior_c...</td>\n",
       "      <td>32</td>\n",
       "      <td>46</td>\n",
       "      <td>46</td>\n",
       "    </tr>\n",
       "    <tr>\n",
       "      <th>ENSG00000001167</th>\n",
       "      <td>NFYA</td>\n",
       "      <td>(Brain_Cerebellar_Hemisphere, Stomach, Brain_A...</td>\n",
       "      <td>40</td>\n",
       "      <td>47</td>\n",
       "      <td>48</td>\n",
       "    </tr>\n",
       "  </tbody>\n",
       "</table>\n",
       "</div>"
      ],
      "text/plain": [
       "                gene_name                                             tissue  \\\n",
       "gene_id                                                                        \n",
       "ENSG00000000419      DPM1       (Brain_Hypothalamus, Brain_Substantia_nigra)   \n",
       "ENSG00000000938       FGR  (Brain_Cerebellar_Hemisphere, Stomach, Brain_A...   \n",
       "ENSG00000000971       CFH  (Brain_Cerebellar_Hemisphere, Stomach, Brain_A...   \n",
       "ENSG00000001084      GCLC  (Brain_Cerebellar_Hemisphere, Brain_Anterior_c...   \n",
       "ENSG00000001167      NFYA  (Brain_Cerebellar_Hemisphere, Stomach, Brain_A...   \n",
       "\n",
       "                 n_tissues  n_snps_used_sum  n_snps_in_model_sum  \n",
       "gene_id                                                           \n",
       "ENSG00000000419          2                2                    2  \n",
       "ENSG00000000938         36               40                   40  \n",
       "ENSG00000000971         34               44                   44  \n",
       "ENSG00000001084         32               46                   46  \n",
       "ENSG00000001167         40               47                   48  "
      ]
     },
     "execution_count": 17,
     "metadata": {},
     "output_type": "execute_result"
    }
   ],
   "source": [
    "spredixcan_genes_models.head()"
   ]
  },
  {
   "cell_type": "code",
   "execution_count": 18,
   "id": "d1c11bb1-be0b-4f40-b360-633d6827109f",
   "metadata": {
    "execution": {
     "iopub.execute_input": "2022-11-29T22:22:36.930933Z",
     "iopub.status.busy": "2022-11-29T22:22:36.930768Z",
     "iopub.status.idle": "2022-11-29T22:22:36.944029Z",
     "shell.execute_reply": "2022-11-29T22:22:36.943663Z"
    },
    "papermill": {
     "duration": 0.025133,
     "end_time": "2022-11-29T22:22:36.945445",
     "exception": false,
     "start_time": "2022-11-29T22:22:36.920312",
     "status": "completed"
    },
    "tags": []
   },
   "outputs": [],
   "source": [
    "assert spredixcan_genes_models.index.is_unique"
   ]
  },
  {
   "cell_type": "markdown",
   "id": "a5b5092c-a13e-47c4-a92a-480fcc08f3ae",
   "metadata": {
    "papermill": {
     "duration": 0.010387,
     "end_time": "2022-11-29T22:22:36.966075",
     "exception": false,
     "start_time": "2022-11-29T22:22:36.955688",
     "status": "completed"
    },
    "tags": []
   },
   "source": [
    "## Gene info"
   ]
  },
  {
   "cell_type": "code",
   "execution_count": 19,
   "id": "7d6bb224-88e9-4358-ac10-43a41d92cdad",
   "metadata": {
    "execution": {
     "iopub.execute_input": "2022-11-29T22:22:36.986800Z",
     "iopub.status.busy": "2022-11-29T22:22:36.986525Z",
     "iopub.status.idle": "2022-11-29T22:22:37.007971Z",
     "shell.execute_reply": "2022-11-29T22:22:37.007258Z"
    },
    "papermill": {
     "duration": 0.033615,
     "end_time": "2022-11-29T22:22:37.009621",
     "exception": false,
     "start_time": "2022-11-29T22:22:36.976006",
     "status": "completed"
    },
    "tags": []
   },
   "outputs": [],
   "source": [
    "genes_info = pd.read_pickle(OUTPUT_DIR_BASE / \"genes_info.pkl\")"
   ]
  },
  {
   "cell_type": "code",
   "execution_count": 20,
   "id": "9e32abfa-546d-483e-8c18-d526e9e05903",
   "metadata": {
    "execution": {
     "iopub.execute_input": "2022-11-29T22:22:37.033719Z",
     "iopub.status.busy": "2022-11-29T22:22:37.033408Z",
     "iopub.status.idle": "2022-11-29T22:22:37.053326Z",
     "shell.execute_reply": "2022-11-29T22:22:37.052821Z"
    },
    "papermill": {
     "duration": 0.033474,
     "end_time": "2022-11-29T22:22:37.054792",
     "exception": false,
     "start_time": "2022-11-29T22:22:37.021318",
     "status": "completed"
    },
    "tags": []
   },
   "outputs": [
    {
     "data": {
      "text/plain": [
       "(6443, 7)"
      ]
     },
     "execution_count": 20,
     "metadata": {},
     "output_type": "execute_result"
    }
   ],
   "source": [
    "genes_info.shape"
   ]
  },
  {
   "cell_type": "code",
   "execution_count": 21,
   "id": "d16c3e92-85ec-468a-9a56-e25a9774a1cb",
   "metadata": {
    "execution": {
     "iopub.execute_input": "2022-11-29T22:22:37.078770Z",
     "iopub.status.busy": "2022-11-29T22:22:37.078368Z",
     "iopub.status.idle": "2022-11-29T22:22:37.107952Z",
     "shell.execute_reply": "2022-11-29T22:22:37.107353Z"
    },
    "papermill": {
     "duration": 0.043019,
     "end_time": "2022-11-29T22:22:37.109414",
     "exception": false,
     "start_time": "2022-11-29T22:22:37.066395",
     "status": "completed"
    },
    "tags": []
   },
   "outputs": [
    {
     "data": {
      "text/html": [
       "<div>\n",
       "<style scoped>\n",
       "    .dataframe tbody tr th:only-of-type {\n",
       "        vertical-align: middle;\n",
       "    }\n",
       "\n",
       "    .dataframe tbody tr th {\n",
       "        vertical-align: top;\n",
       "    }\n",
       "\n",
       "    .dataframe thead th {\n",
       "        text-align: right;\n",
       "    }\n",
       "</style>\n",
       "<table border=\"1\" class=\"dataframe\">\n",
       "  <thead>\n",
       "    <tr style=\"text-align: right;\">\n",
       "      <th></th>\n",
       "      <th>name</th>\n",
       "      <th>id</th>\n",
       "      <th>chr</th>\n",
       "      <th>band</th>\n",
       "      <th>start_position</th>\n",
       "      <th>end_position</th>\n",
       "      <th>gene_length</th>\n",
       "    </tr>\n",
       "  </thead>\n",
       "  <tbody>\n",
       "    <tr>\n",
       "      <th>0</th>\n",
       "      <td>UBE4B</td>\n",
       "      <td>ENSG00000130939</td>\n",
       "      <td>1</td>\n",
       "      <td>1p36.22</td>\n",
       "      <td>10032832</td>\n",
       "      <td>10181239</td>\n",
       "      <td>148407</td>\n",
       "    </tr>\n",
       "    <tr>\n",
       "      <th>1</th>\n",
       "      <td>STX18</td>\n",
       "      <td>ENSG00000168818</td>\n",
       "      <td>4</td>\n",
       "      <td>4p16.2</td>\n",
       "      <td>4415742</td>\n",
       "      <td>4542346</td>\n",
       "      <td>126604</td>\n",
       "    </tr>\n",
       "    <tr>\n",
       "      <th>2</th>\n",
       "      <td>DNM2</td>\n",
       "      <td>ENSG00000079805</td>\n",
       "      <td>19</td>\n",
       "      <td>19p13.2</td>\n",
       "      <td>10718079</td>\n",
       "      <td>10833488</td>\n",
       "      <td>115409</td>\n",
       "    </tr>\n",
       "    <tr>\n",
       "      <th>3</th>\n",
       "      <td>PLD1</td>\n",
       "      <td>ENSG00000075651</td>\n",
       "      <td>3</td>\n",
       "      <td>3q26.31</td>\n",
       "      <td>171600404</td>\n",
       "      <td>171810950</td>\n",
       "      <td>210546</td>\n",
       "    </tr>\n",
       "    <tr>\n",
       "      <th>4</th>\n",
       "      <td>ANKRD55</td>\n",
       "      <td>ENSG00000164512</td>\n",
       "      <td>5</td>\n",
       "      <td>5q11.2</td>\n",
       "      <td>56099680</td>\n",
       "      <td>56233330</td>\n",
       "      <td>133650</td>\n",
       "    </tr>\n",
       "  </tbody>\n",
       "</table>\n",
       "</div>"
      ],
      "text/plain": [
       "      name               id  chr     band  start_position  end_position  \\\n",
       "0    UBE4B  ENSG00000130939    1  1p36.22        10032832      10181239   \n",
       "1    STX18  ENSG00000168818    4   4p16.2         4415742       4542346   \n",
       "2     DNM2  ENSG00000079805   19  19p13.2        10718079      10833488   \n",
       "3     PLD1  ENSG00000075651    3  3q26.31       171600404     171810950   \n",
       "4  ANKRD55  ENSG00000164512    5   5q11.2        56099680      56233330   \n",
       "\n",
       "   gene_length  \n",
       "0       148407  \n",
       "1       126604  \n",
       "2       115409  \n",
       "3       210546  \n",
       "4       133650  "
      ]
     },
     "execution_count": 21,
     "metadata": {},
     "output_type": "execute_result"
    }
   ],
   "source": [
    "genes_info.head()"
   ]
  },
  {
   "cell_type": "markdown",
   "id": "d3843e06",
   "metadata": {
    "papermill": {
     "duration": 0.010087,
     "end_time": "2022-11-29T22:22:37.129687",
     "exception": false,
     "start_time": "2022-11-29T22:22:37.119600",
     "status": "completed"
    },
    "tags": []
   },
   "source": [
    "# Compute correlations"
   ]
  },
  {
   "cell_type": "code",
   "execution_count": 22,
   "id": "cb859c15-d1f3-4006-a74c-2b83c0db9611",
   "metadata": {
    "execution": {
     "iopub.execute_input": "2022-11-29T22:22:37.150724Z",
     "iopub.status.busy": "2022-11-29T22:22:37.150103Z",
     "iopub.status.idle": "2022-11-29T22:22:37.176581Z",
     "shell.execute_reply": "2022-11-29T22:22:37.175836Z"
    },
    "papermill": {
     "duration": 0.038464,
     "end_time": "2022-11-29T22:22:37.178015",
     "exception": false,
     "start_time": "2022-11-29T22:22:37.139551",
     "status": "completed"
    },
    "tags": []
   },
   "outputs": [
    {
     "data": {
      "text/plain": [
       "PosixPath('/opt/data/projects/asthma-copd/results/gls_phenoplier/gene_corrs/asthma_only/by_chr/gene_corrs-chr4.pkl')"
      ]
     },
     "metadata": {},
     "output_type": "display_data"
    }
   ],
   "source": [
    "output_dir = OUTPUT_DIR_BASE / \"by_chr\"\n",
    "output_dir.mkdir(exist_ok=True, parents=True)\n",
    "output_file = output_dir / f\"gene_corrs-chr{CHROMOSOME}.pkl\"\n",
    "display(output_file)"
   ]
  },
  {
   "cell_type": "code",
   "execution_count": 23,
   "id": "aa674fe4-6794-4eed-98fa-32b39d1d4ace",
   "metadata": {
    "execution": {
     "iopub.execute_input": "2022-11-29T22:22:37.199649Z",
     "iopub.status.busy": "2022-11-29T22:22:37.199128Z",
     "iopub.status.idle": "2022-11-29T22:22:37.222874Z",
     "shell.execute_reply": "2022-11-29T22:22:37.222196Z"
    },
    "papermill": {
     "duration": 0.035823,
     "end_time": "2022-11-29T22:22:37.224261",
     "exception": false,
     "start_time": "2022-11-29T22:22:37.188438",
     "status": "completed"
    },
    "tags": []
   },
   "outputs": [],
   "source": [
    "warnings.filterwarnings(\"error\")"
   ]
  },
  {
   "cell_type": "code",
   "execution_count": 24,
   "id": "44d5450b-3baf-43f1-9e2e-4b06f1a785f8",
   "metadata": {
    "execution": {
     "iopub.execute_input": "2022-11-29T22:22:37.246053Z",
     "iopub.status.busy": "2022-11-29T22:22:37.245493Z",
     "iopub.status.idle": "2022-11-29T22:22:37.268744Z",
     "shell.execute_reply": "2022-11-29T22:22:37.268130Z"
    },
    "papermill": {
     "duration": 0.036693,
     "end_time": "2022-11-29T22:22:37.271241",
     "exception": false,
     "start_time": "2022-11-29T22:22:37.234548",
     "status": "completed"
    },
    "tags": []
   },
   "outputs": [],
   "source": [
    "# standard checks\n",
    "all_chrs = genes_info[\"chr\"].dropna().unique()\n",
    "assert all_chrs.shape[0] == 22\n",
    "\n",
    "# select chromosome given by the user\n",
    "assert CHROMOSOME in all_chrs"
   ]
  },
  {
   "cell_type": "code",
   "execution_count": 25,
   "id": "2d7c043c-92a7-4d35-991b-fa69ac1e0268",
   "metadata": {
    "execution": {
     "iopub.execute_input": "2022-11-29T22:22:37.297843Z",
     "iopub.status.busy": "2022-11-29T22:22:37.297347Z",
     "iopub.status.idle": "2022-11-29T22:22:37.321563Z",
     "shell.execute_reply": "2022-11-29T22:22:37.321054Z"
    },
    "papermill": {
     "duration": 0.039016,
     "end_time": "2022-11-29T22:22:37.323113",
     "exception": false,
     "start_time": "2022-11-29T22:22:37.284097",
     "status": "completed"
    },
    "tags": []
   },
   "outputs": [
    {
     "name": "stdout",
     "output_type": "stream",
     "text": [
      "Number of genes in chromosome: 244\n"
     ]
    }
   ],
   "source": [
    "# run only on the chromosome specified\n",
    "all_chrs = [CHROMOSOME]\n",
    "genes_chr = genes_info[genes_info[\"chr\"] == CHROMOSOME]\n",
    "\n",
    "# For testing purposes\n",
    "# genes_chr = genes_chr.sample(n=20)\n",
    "\n",
    "print(f\"Number of genes in chromosome: {genes_chr.shape[0]}\", flush=True)"
   ]
  },
  {
   "cell_type": "code",
   "execution_count": 26,
   "id": "916015d8-2979-46d3-a9b9-1cf5a0932c6a",
   "metadata": {
    "execution": {
     "iopub.execute_input": "2022-11-29T22:22:37.355034Z",
     "iopub.status.busy": "2022-11-29T22:22:37.354572Z",
     "iopub.status.idle": "2022-11-29T22:22:37.377375Z",
     "shell.execute_reply": "2022-11-29T22:22:37.376857Z"
    },
    "papermill": {
     "duration": 0.043468,
     "end_time": "2022-11-29T22:22:37.379072",
     "exception": false,
     "start_time": "2022-11-29T22:22:37.335604",
     "status": "completed"
    },
    "tags": []
   },
   "outputs": [],
   "source": [
    "# sort genes by starting position to make visualizations better later\n",
    "genes_chr = genes_chr.sort_values(\"start_position\")"
   ]
  },
  {
   "cell_type": "code",
   "execution_count": 27,
   "id": "a38aa74a-8ad3-47f6-8ef9-56be0e011774",
   "metadata": {
    "execution": {
     "iopub.execute_input": "2022-11-29T22:22:37.410858Z",
     "iopub.status.busy": "2022-11-29T22:22:37.410414Z",
     "iopub.status.idle": "2022-11-29T22:22:37.432615Z",
     "shell.execute_reply": "2022-11-29T22:22:37.432067Z"
    },
    "papermill": {
     "duration": 0.042739,
     "end_time": "2022-11-29T22:22:37.434426",
     "exception": false,
     "start_time": "2022-11-29T22:22:37.391687",
     "status": "completed"
    },
    "tags": []
   },
   "outputs": [],
   "source": [
    "gene_chr_objs = [Gene(ensembl_id=gene_id) for gene_id in genes_chr[\"id\"]]"
   ]
  },
  {
   "cell_type": "code",
   "execution_count": 28,
   "id": "570f974f-13c3-42b6-ad3a-ce99ca885c1a",
   "metadata": {
    "execution": {
     "iopub.execute_input": "2022-11-29T22:22:37.461318Z",
     "iopub.status.busy": "2022-11-29T22:22:37.460928Z",
     "iopub.status.idle": "2022-11-29T22:22:37.483267Z",
     "shell.execute_reply": "2022-11-29T22:22:37.482766Z"
    },
    "papermill": {
     "duration": 0.037795,
     "end_time": "2022-11-29T22:22:37.484681",
     "exception": false,
     "start_time": "2022-11-29T22:22:37.446886",
     "status": "completed"
    },
    "tags": []
   },
   "outputs": [
    {
     "name": "stdout",
     "output_type": "stream",
     "text": [
      "Number of gene combinations: 29890\n"
     ]
    }
   ],
   "source": [
    "n = len(gene_chr_objs)\n",
    "# diagonal elements + upper triangular matrix\n",
    "n_comb = n + int(n * (n - 1) / 2.0)\n",
    "print(f\"Number of gene combinations: {n_comb}\", flush=True)"
   ]
  },
  {
   "cell_type": "code",
   "execution_count": 29,
   "id": "cdbb90a1",
   "metadata": {
    "execution": {
     "iopub.execute_input": "2022-11-29T22:22:37.508456Z",
     "iopub.status.busy": "2022-11-29T22:22:37.507980Z",
     "iopub.status.idle": "2022-11-29T22:42:52.893204Z",
     "shell.execute_reply": "2022-11-29T22:42:52.892671Z"
    },
    "papermill": {
     "duration": 1215.398216,
     "end_time": "2022-11-29T22:42:52.894390",
     "exception": false,
     "start_time": "2022-11-29T22:22:37.496174",
     "status": "completed"
    },
    "tags": []
   },
   "outputs": [
    {
     "name": "stderr",
     "output_type": "stream",
     "text": [
      "ENSG00000109536 / ENSG00000109536: 100%|██████████████████████| 29890/29890 [20:15<00:00, 24.59it/s]\n"
     ]
    },
    {
     "data": {
      "text/plain": [
       "PosixPath('/opt/data/projects/asthma-copd/results/gls_phenoplier/gene_corrs/asthma_only/by_chr/gene_corrs-chr4.pkl')"
      ]
     },
     "metadata": {},
     "output_type": "display_data"
    }
   ],
   "source": [
    "gene_corrs = []\n",
    "gene_corrs_data = np.full(\n",
    "    (n, n),\n",
    "    np.nan,\n",
    "    dtype=np.float64,\n",
    ")\n",
    "\n",
    "i = 0\n",
    "with tqdm(ncols=100, total=n_comb) as pbar:\n",
    "    for gene1_idx in range(0, len(gene_chr_objs)):\n",
    "        gene1_obj = gene_chr_objs[gene1_idx]\n",
    "        gene1_tissues = spredixcan_genes_models.loc[gene1_obj.ensembl_id, \"tissue\"]\n",
    "\n",
    "        for gene2_idx in range(gene1_idx, len(gene_chr_objs)):\n",
    "            gene2_obj = gene_chr_objs[gene2_idx]\n",
    "            gene2_tissues = spredixcan_genes_models.loc[gene2_obj.ensembl_id, \"tissue\"]\n",
    "\n",
    "            pbar.set_description(f\"{gene1_obj.ensembl_id} / {gene2_obj.ensembl_id}\")\n",
    "\n",
    "            try:\n",
    "                r = gene1_obj.get_ssm_correlation(\n",
    "                    other_gene=gene2_obj,\n",
    "                    tissues=gene1_tissues,\n",
    "                    other_tissues=gene2_tissues,\n",
    "                    snps_subset=gwas_variants_ids_set,\n",
    "                    condition_number=SMULTIXCAN_CONDITION_NUMBER,\n",
    "                    reference_panel=REFERENCE_PANEL,\n",
    "                    model_type=EQTL_MODEL,\n",
    "                    use_within_distance=COMPUTE_CORRELATIONS_WITHIN_DISTANCE,\n",
    "                )\n",
    "\n",
    "                if r is None:\n",
    "                    # if r is None, it's very likely because:\n",
    "                    #  * one of the genes has no prediction models\n",
    "                    #  * all the SNPs predictors for the gene are not present in the reference\n",
    "                    #    panel\n",
    "\n",
    "                    r = 0.0\n",
    "\n",
    "                gene_corrs.append(r)\n",
    "\n",
    "                gene_corrs_data[gene1_idx, gene2_idx] = r\n",
    "                gene_corrs_data[gene2_idx, gene1_idx] = r\n",
    "            except Warning as e:\n",
    "                if not DEBUG_MODE:\n",
    "                    raise e\n",
    "\n",
    "                print(\n",
    "                    f\"RuntimeWarning for genes {gene1_obj.ensembl_id} and {gene2_obj.ensembl_id}\",\n",
    "                    flush=True,\n",
    "                )\n",
    "                print(traceback.format_exc(), flush=True)\n",
    "\n",
    "                gene_corrs.append(np.nan)\n",
    "            except Exception as e:\n",
    "                if not DEBUG_MODE:\n",
    "                    raise e\n",
    "\n",
    "                print(\n",
    "                    f\"Exception for genes {gene1_obj.ensembl_id} and {gene2_obj.ensembl_id}\",\n",
    "                    flush=True,\n",
    "                )\n",
    "                print(traceback.format_exc(), flush=True)\n",
    "\n",
    "                gene_corrs.append(np.nan)\n",
    "\n",
    "            pbar.update(1)\n",
    "\n",
    "# create a pandas series\n",
    "gene_corrs_flat = pd.Series(gene_corrs)\n",
    "\n",
    "# save\n",
    "# FIXME: consider saving only the condenced matrix here. See here for\n",
    "# more details: https://github.com/greenelab/phenoplier/pull/38#discussion_r634600813\n",
    "# gene_corrs_data = squareform(np.array(gene_corrs, dtype=np.float64))\n",
    "# np.fill_diagonal(gene_corrs_data, 1.0)\n",
    "\n",
    "gene_chr_ids = [g.ensembl_id for g in gene_chr_objs]\n",
    "gene_corrs_df = pd.DataFrame(\n",
    "    data=gene_corrs_data,\n",
    "    index=gene_chr_ids,\n",
    "    columns=gene_chr_ids,\n",
    ")\n",
    "\n",
    "output_dir.mkdir(exist_ok=True, parents=True)\n",
    "display(output_file)\n",
    "\n",
    "gene_corrs_df.to_pickle(output_file)"
   ]
  },
  {
   "cell_type": "markdown",
   "id": "faa67b51-5373-470f-aa72-2ded53fa6dfe",
   "metadata": {
    "papermill": {
     "duration": 1.173565,
     "end_time": "2022-11-29T22:42:55.247288",
     "exception": false,
     "start_time": "2022-11-29T22:42:54.073723",
     "status": "completed"
    },
    "tags": []
   },
   "source": [
    "# Testing"
   ]
  },
  {
   "cell_type": "code",
   "execution_count": 30,
   "id": "14f7d046-4b55-4896-a56b-990127bcc388",
   "metadata": {
    "execution": {
     "iopub.execute_input": "2022-11-29T22:42:57.536966Z",
     "iopub.status.busy": "2022-11-29T22:42:57.536589Z",
     "iopub.status.idle": "2022-11-29T22:42:57.557048Z",
     "shell.execute_reply": "2022-11-29T22:42:57.556452Z"
    },
    "papermill": {
     "duration": 1.188165,
     "end_time": "2022-11-29T22:42:57.558027",
     "exception": false,
     "start_time": "2022-11-29T22:42:56.369862",
     "status": "completed"
    },
    "tags": []
   },
   "outputs": [
    {
     "data": {
      "text/plain": [
       "(244, 244)"
      ]
     },
     "execution_count": 30,
     "metadata": {},
     "output_type": "execute_result"
    }
   ],
   "source": [
    "gene_corrs_df.shape"
   ]
  },
  {
   "cell_type": "code",
   "execution_count": 31,
   "id": "c7d15414-3297-4537-a7c6-7588c0baeb75",
   "metadata": {
    "execution": {
     "iopub.execute_input": "2022-11-29T22:42:59.861892Z",
     "iopub.status.busy": "2022-11-29T22:42:59.861450Z",
     "iopub.status.idle": "2022-11-29T22:42:59.898931Z",
     "shell.execute_reply": "2022-11-29T22:42:59.898253Z"
    },
    "papermill": {
     "duration": 1.213524,
     "end_time": "2022-11-29T22:42:59.899892",
     "exception": false,
     "start_time": "2022-11-29T22:42:58.686368",
     "status": "completed"
    },
    "tags": []
   },
   "outputs": [
    {
     "data": {
      "text/html": [
       "<div>\n",
       "<style scoped>\n",
       "    .dataframe tbody tr th:only-of-type {\n",
       "        vertical-align: middle;\n",
       "    }\n",
       "\n",
       "    .dataframe tbody tr th {\n",
       "        vertical-align: top;\n",
       "    }\n",
       "\n",
       "    .dataframe thead th {\n",
       "        text-align: right;\n",
       "    }\n",
       "</style>\n",
       "<table border=\"1\" class=\"dataframe\">\n",
       "  <thead>\n",
       "    <tr style=\"text-align: right;\">\n",
       "      <th></th>\n",
       "      <th>ENSG00000272602</th>\n",
       "      <th>ENSG00000131127</th>\n",
       "      <th>ENSG00000174227</th>\n",
       "      <th>ENSG00000133256</th>\n",
       "      <th>ENSG00000169020</th>\n",
       "      <th>ENSG00000215375</th>\n",
       "      <th>ENSG00000169026</th>\n",
       "      <th>ENSG00000178950</th>\n",
       "      <th>ENSG00000145214</th>\n",
       "      <th>ENSG00000145217</th>\n",
       "      <th>...</th>\n",
       "      <th>ENSG00000109674</th>\n",
       "      <th>ENSG00000038002</th>\n",
       "      <th>ENSG00000129187</th>\n",
       "      <th>ENSG00000168310</th>\n",
       "      <th>ENSG00000164305</th>\n",
       "      <th>ENSG00000151726</th>\n",
       "      <th>ENSG00000151729</th>\n",
       "      <th>ENSG00000164342</th>\n",
       "      <th>ENSG00000164344</th>\n",
       "      <th>ENSG00000109536</th>\n",
       "    </tr>\n",
       "  </thead>\n",
       "  <tbody>\n",
       "    <tr>\n",
       "      <th>ENSG00000272602</th>\n",
       "      <td>1.000000</td>\n",
       "      <td>0.055217</td>\n",
       "      <td>0.168507</td>\n",
       "      <td>0.099181</td>\n",
       "      <td>0.096555</td>\n",
       "      <td>0.045839</td>\n",
       "      <td>0.058575</td>\n",
       "      <td>0.012272</td>\n",
       "      <td>0.006584</td>\n",
       "      <td>0.001559</td>\n",
       "      <td>...</td>\n",
       "      <td>0.010453</td>\n",
       "      <td>0.005149</td>\n",
       "      <td>0.010104</td>\n",
       "      <td>0.011093</td>\n",
       "      <td>0.008498</td>\n",
       "      <td>0.005795</td>\n",
       "      <td>0.009951</td>\n",
       "      <td>0.006716</td>\n",
       "      <td>0.005504</td>\n",
       "      <td>0.007268</td>\n",
       "    </tr>\n",
       "    <tr>\n",
       "      <th>ENSG00000131127</th>\n",
       "      <td>0.055217</td>\n",
       "      <td>1.000000</td>\n",
       "      <td>0.263330</td>\n",
       "      <td>0.071177</td>\n",
       "      <td>0.036538</td>\n",
       "      <td>0.034526</td>\n",
       "      <td>0.042024</td>\n",
       "      <td>0.007476</td>\n",
       "      <td>0.009562</td>\n",
       "      <td>0.002483</td>\n",
       "      <td>...</td>\n",
       "      <td>0.006922</td>\n",
       "      <td>0.004238</td>\n",
       "      <td>0.004431</td>\n",
       "      <td>0.010204</td>\n",
       "      <td>0.003890</td>\n",
       "      <td>0.008139</td>\n",
       "      <td>0.007795</td>\n",
       "      <td>0.007423</td>\n",
       "      <td>0.002115</td>\n",
       "      <td>0.002690</td>\n",
       "    </tr>\n",
       "    <tr>\n",
       "      <th>ENSG00000174227</th>\n",
       "      <td>0.168507</td>\n",
       "      <td>0.263330</td>\n",
       "      <td>1.000000</td>\n",
       "      <td>0.317910</td>\n",
       "      <td>0.158097</td>\n",
       "      <td>0.069939</td>\n",
       "      <td>0.100279</td>\n",
       "      <td>0.007931</td>\n",
       "      <td>0.008272</td>\n",
       "      <td>0.004041</td>\n",
       "      <td>...</td>\n",
       "      <td>0.006857</td>\n",
       "      <td>0.002611</td>\n",
       "      <td>0.011521</td>\n",
       "      <td>0.006669</td>\n",
       "      <td>0.005326</td>\n",
       "      <td>0.006427</td>\n",
       "      <td>0.006670</td>\n",
       "      <td>0.006830</td>\n",
       "      <td>0.006222</td>\n",
       "      <td>0.002279</td>\n",
       "    </tr>\n",
       "    <tr>\n",
       "      <th>ENSG00000133256</th>\n",
       "      <td>0.099181</td>\n",
       "      <td>0.071177</td>\n",
       "      <td>0.317910</td>\n",
       "      <td>1.000000</td>\n",
       "      <td>0.261069</td>\n",
       "      <td>0.202711</td>\n",
       "      <td>0.229258</td>\n",
       "      <td>0.018131</td>\n",
       "      <td>0.011481</td>\n",
       "      <td>0.002283</td>\n",
       "      <td>...</td>\n",
       "      <td>0.011084</td>\n",
       "      <td>0.005703</td>\n",
       "      <td>0.009555</td>\n",
       "      <td>0.007413</td>\n",
       "      <td>0.005696</td>\n",
       "      <td>0.005566</td>\n",
       "      <td>0.007196</td>\n",
       "      <td>0.009132</td>\n",
       "      <td>0.004878</td>\n",
       "      <td>0.006999</td>\n",
       "    </tr>\n",
       "    <tr>\n",
       "      <th>ENSG00000169020</th>\n",
       "      <td>0.096555</td>\n",
       "      <td>0.036538</td>\n",
       "      <td>0.158097</td>\n",
       "      <td>0.261069</td>\n",
       "      <td>1.000000</td>\n",
       "      <td>0.153616</td>\n",
       "      <td>0.232199</td>\n",
       "      <td>0.006056</td>\n",
       "      <td>0.006638</td>\n",
       "      <td>0.001911</td>\n",
       "      <td>...</td>\n",
       "      <td>0.001814</td>\n",
       "      <td>0.000699</td>\n",
       "      <td>0.004611</td>\n",
       "      <td>0.003805</td>\n",
       "      <td>0.000369</td>\n",
       "      <td>0.003265</td>\n",
       "      <td>0.002594</td>\n",
       "      <td>0.001526</td>\n",
       "      <td>0.000904</td>\n",
       "      <td>0.002050</td>\n",
       "    </tr>\n",
       "  </tbody>\n",
       "</table>\n",
       "<p>5 rows × 244 columns</p>\n",
       "</div>"
      ],
      "text/plain": [
       "                 ENSG00000272602  ENSG00000131127  ENSG00000174227  \\\n",
       "ENSG00000272602         1.000000         0.055217         0.168507   \n",
       "ENSG00000131127         0.055217         1.000000         0.263330   \n",
       "ENSG00000174227         0.168507         0.263330         1.000000   \n",
       "ENSG00000133256         0.099181         0.071177         0.317910   \n",
       "ENSG00000169020         0.096555         0.036538         0.158097   \n",
       "\n",
       "                 ENSG00000133256  ENSG00000169020  ENSG00000215375  \\\n",
       "ENSG00000272602         0.099181         0.096555         0.045839   \n",
       "ENSG00000131127         0.071177         0.036538         0.034526   \n",
       "ENSG00000174227         0.317910         0.158097         0.069939   \n",
       "ENSG00000133256         1.000000         0.261069         0.202711   \n",
       "ENSG00000169020         0.261069         1.000000         0.153616   \n",
       "\n",
       "                 ENSG00000169026  ENSG00000178950  ENSG00000145214  \\\n",
       "ENSG00000272602         0.058575         0.012272         0.006584   \n",
       "ENSG00000131127         0.042024         0.007476         0.009562   \n",
       "ENSG00000174227         0.100279         0.007931         0.008272   \n",
       "ENSG00000133256         0.229258         0.018131         0.011481   \n",
       "ENSG00000169020         0.232199         0.006056         0.006638   \n",
       "\n",
       "                 ENSG00000145217  ...  ENSG00000109674  ENSG00000038002  \\\n",
       "ENSG00000272602         0.001559  ...         0.010453         0.005149   \n",
       "ENSG00000131127         0.002483  ...         0.006922         0.004238   \n",
       "ENSG00000174227         0.004041  ...         0.006857         0.002611   \n",
       "ENSG00000133256         0.002283  ...         0.011084         0.005703   \n",
       "ENSG00000169020         0.001911  ...         0.001814         0.000699   \n",
       "\n",
       "                 ENSG00000129187  ENSG00000168310  ENSG00000164305  \\\n",
       "ENSG00000272602         0.010104         0.011093         0.008498   \n",
       "ENSG00000131127         0.004431         0.010204         0.003890   \n",
       "ENSG00000174227         0.011521         0.006669         0.005326   \n",
       "ENSG00000133256         0.009555         0.007413         0.005696   \n",
       "ENSG00000169020         0.004611         0.003805         0.000369   \n",
       "\n",
       "                 ENSG00000151726  ENSG00000151729  ENSG00000164342  \\\n",
       "ENSG00000272602         0.005795         0.009951         0.006716   \n",
       "ENSG00000131127         0.008139         0.007795         0.007423   \n",
       "ENSG00000174227         0.006427         0.006670         0.006830   \n",
       "ENSG00000133256         0.005566         0.007196         0.009132   \n",
       "ENSG00000169020         0.003265         0.002594         0.001526   \n",
       "\n",
       "                 ENSG00000164344  ENSG00000109536  \n",
       "ENSG00000272602         0.005504         0.007268  \n",
       "ENSG00000131127         0.002115         0.002690  \n",
       "ENSG00000174227         0.006222         0.002279  \n",
       "ENSG00000133256         0.004878         0.006999  \n",
       "ENSG00000169020         0.000904         0.002050  \n",
       "\n",
       "[5 rows x 244 columns]"
      ]
     },
     "execution_count": 31,
     "metadata": {},
     "output_type": "execute_result"
    }
   ],
   "source": [
    "gene_corrs_df.head()"
   ]
  },
  {
   "cell_type": "markdown",
   "id": "dad6603f-01c6-41fb-a6f6-241051207dd8",
   "metadata": {
    "papermill": {
     "duration": 1.303822,
     "end_time": "2022-11-29T22:43:02.375278",
     "exception": false,
     "start_time": "2022-11-29T22:43:01.071456",
     "status": "completed"
    },
    "tags": []
   },
   "source": [
    "## Standard checks and stats"
   ]
  },
  {
   "cell_type": "code",
   "execution_count": 32,
   "id": "286686af-1b7b-4440-8453-6bdcbd8de19c",
   "metadata": {
    "execution": {
     "iopub.execute_input": "2022-11-29T22:43:04.827749Z",
     "iopub.status.busy": "2022-11-29T22:43:04.827465Z",
     "iopub.status.idle": "2022-11-29T22:43:04.850187Z",
     "shell.execute_reply": "2022-11-29T22:43:04.849626Z"
    },
    "papermill": {
     "duration": 1.252252,
     "end_time": "2022-11-29T22:43:04.851208",
     "exception": false,
     "start_time": "2022-11-29T22:43:03.598956",
     "status": "completed"
    },
    "tags": []
   },
   "outputs": [],
   "source": [
    "assert not gene_corrs_df.isna().any().any()"
   ]
  },
  {
   "cell_type": "code",
   "execution_count": 33,
   "id": "00583efc-7068-4270-ad1e-4a418e91db96",
   "metadata": {
    "execution": {
     "iopub.execute_input": "2022-11-29T22:43:07.148340Z",
     "iopub.status.busy": "2022-11-29T22:43:07.147852Z",
     "iopub.status.idle": "2022-11-29T22:43:07.172598Z",
     "shell.execute_reply": "2022-11-29T22:43:07.172011Z"
    },
    "papermill": {
     "duration": 1.20001,
     "end_time": "2022-11-29T22:43:07.173496",
     "exception": false,
     "start_time": "2022-11-29T22:43:05.973486",
     "status": "completed"
    },
    "tags": []
   },
   "outputs": [
    {
     "data": {
      "text/plain": [
       "4.9979674285017304e-09"
      ]
     },
     "metadata": {},
     "output_type": "display_data"
    }
   ],
   "source": [
    "_min_val = gene_corrs_df.min().min()\n",
    "display(_min_val)\n",
    "assert _min_val >= -0.05"
   ]
  },
  {
   "cell_type": "code",
   "execution_count": 34,
   "id": "d04fb2cf-1050-475b-b855-f5f7cc04092b",
   "metadata": {
    "execution": {
     "iopub.execute_input": "2022-11-29T22:43:09.529174Z",
     "iopub.status.busy": "2022-11-29T22:43:09.528729Z",
     "iopub.status.idle": "2022-11-29T22:43:09.552856Z",
     "shell.execute_reply": "2022-11-29T22:43:09.552314Z"
    },
    "papermill": {
     "duration": 1.197526,
     "end_time": "2022-11-29T22:43:09.553726",
     "exception": false,
     "start_time": "2022-11-29T22:43:08.356200",
     "status": "completed"
    },
    "tags": []
   },
   "outputs": [
    {
     "data": {
      "text/plain": [
       "1.0000000000000029"
      ]
     },
     "metadata": {},
     "output_type": "display_data"
    }
   ],
   "source": [
    "_max_val = gene_corrs_df.max().max()  # this captures the diagonal\n",
    "display(_max_val)\n",
    "assert _max_val <= 1.05"
   ]
  },
  {
   "cell_type": "code",
   "execution_count": 35,
   "id": "96d02c44-1fba-47be-8a93-8f2608420b9c",
   "metadata": {
    "execution": {
     "iopub.execute_input": "2022-11-29T22:43:11.918510Z",
     "iopub.status.busy": "2022-11-29T22:43:11.917982Z",
     "iopub.status.idle": "2022-11-29T22:43:11.939338Z",
     "shell.execute_reply": "2022-11-29T22:43:11.938909Z"
    },
    "papermill": {
     "duration": 1.254444,
     "end_time": "2022-11-29T22:43:11.940800",
     "exception": false,
     "start_time": "2022-11-29T22:43:10.686356",
     "status": "completed"
    },
    "tags": []
   },
   "outputs": [],
   "source": [
    "# check upper triangular values\n",
    "# assert len(gene_corrs) == int(genes_chr.shape[0] * (genes_chr.shape[0] - 1) / 2)"
   ]
  },
  {
   "cell_type": "code",
   "execution_count": 36,
   "id": "fe283586-c348-40e0-8841-f6d97bfb021c",
   "metadata": {
    "execution": {
     "iopub.execute_input": "2022-11-29T22:43:14.427943Z",
     "iopub.status.busy": "2022-11-29T22:43:14.427391Z",
     "iopub.status.idle": "2022-11-29T22:43:14.455272Z",
     "shell.execute_reply": "2022-11-29T22:43:14.454737Z"
    },
    "papermill": {
     "duration": 1.29756,
     "end_time": "2022-11-29T22:43:14.456241",
     "exception": false,
     "start_time": "2022-11-29T22:43:13.158681",
     "status": "completed"
    },
    "tags": []
   },
   "outputs": [
    {
     "data": {
      "text/plain": [
       "count    2.989000e+04\n",
       "mean     1.537065e-02\n",
       "std      9.204070e-02\n",
       "min      4.997967e-09\n",
       "25%      3.693825e-03\n",
       "50%      5.722513e-03\n",
       "75%      8.037464e-03\n",
       "max      1.000000e+00\n",
       "dtype: float64"
      ]
     },
     "execution_count": 36,
     "metadata": {},
     "output_type": "execute_result"
    }
   ],
   "source": [
    "gene_corrs_flat.describe()"
   ]
  },
  {
   "cell_type": "code",
   "execution_count": 37,
   "id": "b3815678-0f93-4b35-897b-a9d047a2aa78",
   "metadata": {
    "execution": {
     "iopub.execute_input": "2022-11-29T22:43:16.800258Z",
     "iopub.status.busy": "2022-11-29T22:43:16.799834Z",
     "iopub.status.idle": "2022-11-29T22:43:16.823379Z",
     "shell.execute_reply": "2022-11-29T22:43:16.822972Z"
    },
    "papermill": {
     "duration": 1.211038,
     "end_time": "2022-11-29T22:43:16.824228",
     "exception": false,
     "start_time": "2022-11-29T22:43:15.613190",
     "status": "completed"
    },
    "tags": []
   },
   "outputs": [
    {
     "data": {
      "text/plain": [
       "0.00    4.997967e-09\n",
       "0.05    1.365677e-03\n",
       "0.10    2.107905e-03\n",
       "0.15    2.718657e-03\n",
       "0.20    3.237509e-03\n",
       "0.25    3.693825e-03\n",
       "0.30    4.125019e-03\n",
       "0.35    4.552214e-03\n",
       "0.40    4.939729e-03\n",
       "0.45    5.324996e-03\n",
       "0.50    5.722513e-03\n",
       "0.55    6.137989e-03\n",
       "0.60    6.562068e-03\n",
       "0.65    6.998606e-03\n",
       "0.70    7.492174e-03\n",
       "0.75    8.037464e-03\n",
       "0.80    8.665044e-03\n",
       "0.85    9.407264e-03\n",
       "0.90    1.048277e-02\n",
       "0.95    1.224213e-02\n",
       "dtype: float64"
      ]
     },
     "metadata": {},
     "output_type": "display_data"
    }
   ],
   "source": [
    "gene_corrs_quantiles = gene_corrs_flat.quantile(np.arange(0, 1, 0.05))\n",
    "display(gene_corrs_quantiles)"
   ]
  },
  {
   "cell_type": "markdown",
   "id": "87134509-b145-4a10-8bc9-b7e914c2b0fa",
   "metadata": {
    "papermill": {
     "duration": 1.15986,
     "end_time": "2022-11-29T22:43:19.122138",
     "exception": false,
     "start_time": "2022-11-29T22:43:17.962278",
     "status": "completed"
    },
    "tags": []
   },
   "source": [
    "## Positive definiteness"
   ]
  },
  {
   "cell_type": "code",
   "execution_count": 38,
   "id": "07d9a9a1-a4f7-48aa-b916-6d42a8cc6186",
   "metadata": {
    "execution": {
     "iopub.execute_input": "2022-11-29T22:43:21.391251Z",
     "iopub.status.busy": "2022-11-29T22:43:21.390574Z",
     "iopub.status.idle": "2022-11-29T22:43:21.436908Z",
     "shell.execute_reply": "2022-11-29T22:43:21.436272Z"
    },
    "papermill": {
     "duration": 1.207797,
     "end_time": "2022-11-29T22:43:21.437780",
     "exception": false,
     "start_time": "2022-11-29T22:43:20.229983",
     "status": "completed"
    },
    "tags": []
   },
   "outputs": [
    {
     "data": {
      "text/plain": [
       "0"
      ]
     },
     "metadata": {},
     "output_type": "display_data"
    },
    {
     "data": {
      "text/plain": [
       "array([], dtype=float64)"
      ]
     },
     "metadata": {},
     "output_type": "display_data"
    }
   ],
   "source": [
    "# print negative eigenvalues\n",
    "eigs = np.linalg.eigvals(gene_corrs_df.to_numpy())\n",
    "display(len(eigs[eigs < 0]))\n",
    "display(eigs[eigs < 0])"
   ]
  },
  {
   "cell_type": "code",
   "execution_count": 39,
   "id": "6e218436-c3c5-4028-8c94-a4fa6260efce",
   "metadata": {
    "execution": {
     "iopub.execute_input": "2022-11-29T22:43:23.732338Z",
     "iopub.status.busy": "2022-11-29T22:43:23.731901Z",
     "iopub.status.idle": "2022-11-29T22:43:23.759240Z",
     "shell.execute_reply": "2022-11-29T22:43:23.758568Z"
    },
    "papermill": {
     "duration": 1.192856,
     "end_time": "2022-11-29T22:43:23.760159",
     "exception": false,
     "start_time": "2022-11-29T22:43:22.567303",
     "status": "completed"
    },
    "tags": []
   },
   "outputs": [
    {
     "name": "stdout",
     "output_type": "stream",
     "text": [
      "Works!\n"
     ]
    }
   ],
   "source": [
    "try:\n",
    "    chol_mat = np.linalg.cholesky(gene_corrs_df.to_numpy())\n",
    "    cov_inv = np.linalg.inv(chol_mat)\n",
    "    print(\"Works!\")\n",
    "except Exception as e:\n",
    "    print(f\"Cholesky decomposition failed: {str(e)}\")"
   ]
  },
  {
   "cell_type": "code",
   "execution_count": 40,
   "id": "dd8827fb-faf9-4c7c-9454-015e94752706",
   "metadata": {
    "execution": {
     "iopub.execute_input": "2022-11-29T22:43:26.063768Z",
     "iopub.status.busy": "2022-11-29T22:43:26.063246Z",
     "iopub.status.idle": "2022-11-29T22:43:26.090125Z",
     "shell.execute_reply": "2022-11-29T22:43:26.089434Z"
    },
    "papermill": {
     "duration": 1.195023,
     "end_time": "2022-11-29T22:43:26.091040",
     "exception": false,
     "start_time": "2022-11-29T22:43:24.896017",
     "status": "completed"
    },
    "tags": []
   },
   "outputs": [
    {
     "name": "stdout",
     "output_type": "stream",
     "text": [
      "Works!\n"
     ]
    }
   ],
   "source": [
    "try:\n",
    "    # decomposition used by statsmodels.GLS\n",
    "    cholsigmainv = np.linalg.cholesky(np.linalg.inv(gene_corrs_df.to_numpy())).T\n",
    "    print(\"Works!\")\n",
    "except Exception as e:\n",
    "    print(f\"Cholesky decomposition failed (statsmodels.GLS): {str(e)}\")"
   ]
  },
  {
   "cell_type": "markdown",
   "id": "8e60a080-edb2-4e9c-b2ef-22961693200c",
   "metadata": {
    "papermill": {
     "duration": 1.166414,
     "end_time": "2022-11-29T22:43:28.386455",
     "exception": false,
     "start_time": "2022-11-29T22:43:27.220041",
     "status": "completed"
    },
    "tags": []
   },
   "source": [
    "## Plot: distribution"
   ]
  },
  {
   "cell_type": "code",
   "execution_count": 41,
   "id": "8301126b-a7d4-4744-9c7d-f0f86eb6f54c",
   "metadata": {
    "execution": {
     "iopub.execute_input": "2022-11-29T22:43:30.674048Z",
     "iopub.status.busy": "2022-11-29T22:43:30.673744Z",
     "iopub.status.idle": "2022-11-29T22:43:36.157208Z",
     "shell.execute_reply": "2022-11-29T22:43:36.156699Z"
    },
    "papermill": {
     "duration": 6.651619,
     "end_time": "2022-11-29T22:43:36.159760",
     "exception": false,
     "start_time": "2022-11-29T22:43:29.508141",
     "status": "completed"
    },
    "tags": []
   },
   "outputs": [
    {
     "data": {
      "image/png": "[encoded data removed]",
      "text/plain": [
       "<Figure size 700x700 with 1 Axes>"
      ]
     },
     "metadata": {},
     "output_type": "display_data"
    }
   ],
   "source": [
    "with sns.plotting_context(\"paper\", font_scale=1.5):\n",
    "    g = sns.displot(gene_corrs_flat, kde=True, height=7)\n",
    "    g.ax.set_title(\n",
    "        f\"Distribution of gene correlation values in chromosome {CHROMOSOME}\"\n",
    "    )"
   ]
  },
  {
   "cell_type": "markdown",
   "id": "cbd52bca-d878-4a2f-b684-5c83aa3038d4",
   "metadata": {
    "papermill": {
     "duration": 1.16184,
     "end_time": "2022-11-29T22:43:38.484865",
     "exception": false,
     "start_time": "2022-11-29T22:43:37.323025",
     "status": "completed"
    },
    "tags": []
   },
   "source": [
    "## Plot: heatmap"
   ]
  },
  {
   "cell_type": "code",
   "execution_count": 42,
   "id": "d03fe63a-c7b2-4fb9-a53c-db362ce843c9",
   "metadata": {
    "execution": {
     "iopub.execute_input": "2022-11-29T22:43:40.719650Z",
     "iopub.status.busy": "2022-11-29T22:43:40.719060Z",
     "iopub.status.idle": "2022-11-29T22:43:40.739022Z",
     "shell.execute_reply": "2022-11-29T22:43:40.738473Z"
    },
    "papermill": {
     "duration": 1.133703,
     "end_time": "2022-11-29T22:43:40.739882",
     "exception": false,
     "start_time": "2022-11-29T22:43:39.606179",
     "status": "completed"
    },
    "tags": []
   },
   "outputs": [
    {
     "data": {
      "text/plain": [
       "'0.0 / 0.05'"
      ]
     },
     "metadata": {},
     "output_type": "display_data"
    }
   ],
   "source": [
    "vmin_val = min(0.00, gene_corrs_quantiles[0.10])\n",
    "vmax_val = max(0.05, gene_corrs_quantiles[0.90])\n",
    "display(f\"{vmin_val} / {vmax_val}\")"
   ]
  },
  {
   "cell_type": "code",
   "execution_count": 43,
   "id": "dc41b70b-5bcc-4d9e-9f33-a22c4a94dab5",
   "metadata": {
    "execution": {
     "iopub.execute_input": "2022-11-29T22:43:43.080360Z",
     "iopub.status.busy": "2022-11-29T22:43:43.079917Z",
     "iopub.status.idle": "2022-11-29T22:43:43.307109Z",
     "shell.execute_reply": "2022-11-29T22:43:43.306720Z"
    },
    "papermill": {
     "duration": 1.401457,
     "end_time": "2022-11-29T22:43:43.309399",
     "exception": false,
     "start_time": "2022-11-29T22:43:41.907942",
     "status": "completed"
    },
    "tags": []
   },
   "outputs": [
    {
     "data": {
      "text/plain": [
       "Text(0.5, 1.0, 'Gene correlations in chromosome 4')"
      ]
     },
     "execution_count": 43,
     "metadata": {},
     "output_type": "execute_result"
    },
    {
     "data": {
      "image/png": "[encoded data removed]",
      "text/plain": [
       "<Figure size 1000x1000 with 2 Axes>"
      ]
     },
     "metadata": {},
     "output_type": "display_data"
    }
   ],
   "source": [
    "f, ax = plt.subplots(figsize=(10, 10))\n",
    "sns.heatmap(\n",
    "    gene_corrs_df,\n",
    "    xticklabels=False,\n",
    "    yticklabels=False,\n",
    "    square=True,\n",
    "    vmin=vmin_val,\n",
    "    vmax=vmax_val,\n",
    "    cmap=\"rocket_r\",\n",
    "    ax=ax,\n",
    ")\n",
    "ax.set_title(f\"Gene correlations in chromosome {CHROMOSOME}\")"
   ]
  },
  {
   "cell_type": "code",
   "execution_count": null,
   "id": "b25e3ead",
   "metadata": {
    "papermill": {
     "duration": 1.1263,
     "end_time": "2022-11-29T22:43:45.577512",
     "exception": false,
     "start_time": "2022-11-29T22:43:44.451212",
     "status": "completed"
    },
    "tags": []
   },
   "outputs": [],
   "source": []
  }
 ],
 "metadata": {
  "jupytext": {
   "cell_metadata_filter": "all,-execution,-papermill,-trusted",
   "formats": "ipynb,py//py:percent"
  },
  "kernelspec": {
   "display_name": "Python 3 (ipykernel)",
   "language": "python",
   "name": "python3"
  },
  "language_info": {
   "codemirror_mode": {
    "name": "ipython",
    "version": 3
   },
   "file_extension": ".py",
   "mimetype": "text/x-python",
   "name": "python",
   "nbconvert_exporter": "python",
   "pygments_lexer": "ipython3",
   "version": "3.10.6"
  },
  "papermill": {
   "default_parameters": {},
   "duration": 1278.796198,
   "end_time": "2022-11-29T22:43:49.784148",
   "environment_variables": {},
   "exception": null,
   "input_path": "projects/asthma-copd/nbs/20_gene_corrs/10-gene_expr_correlations.ipynb",
   "output_path": "projects/asthma-copd/nbs/20_gene_corrs/gene_corrs/asthma_only/10-gene_expr_correlations-chr4.run.ipynb",
   "parameters": {
    "CHROMOSOME": 4,
    "COHORT_NAME": "asthma_only",
    "OUTPUT_DIR_BASE": "/opt/data/projects/asthma-copd/results/gls_phenoplier"
   },
   "start_time": "2022-11-29T22:22:30.987950",
   "version": "2.2.2"
  }
 },
 "nbformat": 4,
 "nbformat_minor": 5
}
