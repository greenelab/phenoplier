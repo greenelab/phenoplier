{
 "cells": [
  {
   "cell_type": "markdown",
   "id": "7a6632fb",
   "metadata": {
    "papermill": {
     "duration": 0.008739,
     "end_time": "2022-11-29T22:22:31.879776",
     "exception": false,
     "start_time": "2022-11-29T22:22:31.871037",
     "status": "completed"
    },
    "tags": []
   },
   "source": [
    "# Description"
   ]
  },
  {
   "cell_type": "markdown",
   "id": "7097c346",
   "metadata": {
    "papermill": {
     "duration": 0.007635,
     "end_time": "2022-11-29T22:22:31.895193",
     "exception": false,
     "start_time": "2022-11-29T22:22:31.887558",
     "status": "completed"
    },
    "tags": []
   },
   "source": [
    "(Please, take a look at the README.md file in this directory for instructions on how to run this notebook)\n",
    "\n",
    "This notebook computes predicted expression correlations between all genes in the MultiPLIER models.\n",
    "\n",
    "It has specicfic parameters for papermill (see under `Settings` below).\n",
    "It can be configured to run on a single chromosome to run in parallel.\n",
    "\n",
    "This notebook is not directly run. See README.md."
   ]
  },
  {
   "cell_type": "markdown",
   "id": "c61d8427",
   "metadata": {
    "papermill": {
     "duration": 0.00761,
     "end_time": "2022-11-29T22:22:31.910459",
     "exception": false,
     "start_time": "2022-11-29T22:22:31.902849",
     "status": "completed"
    },
    "tags": []
   },
   "source": [
    "# Modules"
   ]
  },
  {
   "cell_type": "code",
   "execution_count": 1,
   "id": "bbc0234f",
   "metadata": {
    "execution": {
     "iopub.execute_input": "2022-11-29T22:22:31.928081Z",
     "iopub.status.busy": "2022-11-29T22:22:31.927645Z",
     "iopub.status.idle": "2022-11-29T22:22:31.945881Z",
     "shell.execute_reply": "2022-11-29T22:22:31.945380Z"
    },
    "papermill": {
     "duration": 0.028421,
     "end_time": "2022-11-29T22:22:31.947384",
     "exception": false,
     "start_time": "2022-11-29T22:22:31.918963",
     "status": "completed"
    },
    "tags": []
   },
   "outputs": [],
   "source": [
    "%load_ext autoreload\n",
    "%autoreload 2"
   ]
  },
  {
   "cell_type": "code",
   "execution_count": 2,
   "id": "1d5f5a59",
   "metadata": {
    "execution": {
     "iopub.execute_input": "2022-11-29T22:22:31.964170Z",
     "iopub.status.busy": "2022-11-29T22:22:31.963779Z",
     "iopub.status.idle": "2022-11-29T22:22:32.646832Z",
     "shell.execute_reply": "2022-11-29T22:22:32.646368Z"
    },
    "papermill": {
     "duration": 0.693196,
     "end_time": "2022-11-29T22:22:32.648522",
     "exception": false,
     "start_time": "2022-11-29T22:22:31.955326",
     "status": "completed"
    },
    "tags": []
   },
   "outputs": [],
   "source": [
    "from random import sample, seed\n",
    "import warnings\n",
    "from pathlib import Path\n",
    "import pickle\n",
    "import traceback\n",
    "\n",
    "import numpy as np\n",
    "from scipy.spatial.distance import squareform\n",
    "import pandas as pd\n",
    "from tqdm import tqdm\n",
    "import matplotlib.pyplot as plt\n",
    "import seaborn as sns\n",
    "\n",
    "import conf\n",
    "from entity import Gene"
   ]
  },
  {
   "cell_type": "markdown",
   "id": "1eac24b5",
   "metadata": {
    "papermill": {
     "duration": 0.010631,
     "end_time": "2022-11-29T22:22:32.667735",
     "exception": false,
     "start_time": "2022-11-29T22:22:32.657104",
     "status": "completed"
    },
    "tags": []
   },
   "source": [
    "# Settings"
   ]
  },
  {
   "cell_type": "code",
   "execution_count": 3,
   "id": "ca4560ba",
   "metadata": {
    "execution": {
     "iopub.execute_input": "2022-11-29T22:22:32.684956Z",
     "iopub.status.busy": "2022-11-29T22:22:32.684813Z",
     "iopub.status.idle": "2022-11-29T22:22:32.699813Z",
     "shell.execute_reply": "2022-11-29T22:22:32.699428Z"
    },
    "papermill": {
     "duration": 0.025207,
     "end_time": "2022-11-29T22:22:32.701209",
     "exception": false,
     "start_time": "2022-11-29T22:22:32.676002",
     "status": "completed"
    },
    "tags": [
     "parameters"
    ]
   },
   "outputs": [],
   "source": [
    "# a cohort name (it could be something like UK_BIOBANK, etc)\n",
    "COHORT_NAME = None\n",
    "\n",
    "# reference panel such as 1000G or GTEX_V8\n",
    "REFERENCE_PANEL = \"GTEX_V8\"\n",
    "\n",
    "# predictions models such as MASHR or ELASTIC_NET\n",
    "EQTL_MODEL = \"MASHR\"\n",
    "\n",
    "# this is the default value used in S-MultiXcan to select the\n",
    "# top principal components of the expression correlation matrix\n",
    "SMULTIXCAN_CONDITION_NUMBER = 30\n",
    "\n",
    "# specifies a single chromosome value\n",
    "CHROMOSOME = None\n",
    "\n",
    "# If True, computes the correlation between closeby genes only;\n",
    "# otherwise, it computes correlations for all genes in a chromosome\n",
    "COMPUTE_CORRELATIONS_WITHIN_DISTANCE = False\n",
    "\n",
    "# if True, then it will continue if a gene pair correlation fails,\n",
    "# printing the warning/error for debugging. If False, any warning/error\n",
    "# will be thrown\n",
    "DEBUG_MODE = False\n",
    "\n",
    "# output dir\n",
    "OUTPUT_DIR_BASE = None"
   ]
  },
  {
   "cell_type": "code",
   "execution_count": 4,
   "id": "5a3ffff8",
   "metadata": {
    "execution": {
     "iopub.execute_input": "2022-11-29T22:22:32.718419Z",
     "iopub.status.busy": "2022-11-29T22:22:32.718308Z",
     "iopub.status.idle": "2022-11-29T22:22:32.732920Z",
     "shell.execute_reply": "2022-11-29T22:22:32.732517Z"
    },
    "papermill": {
     "duration": 0.024951,
     "end_time": "2022-11-29T22:22:32.734575",
     "exception": false,
     "start_time": "2022-11-29T22:22:32.709624",
     "status": "completed"
    },
    "tags": [
     "injected-parameters"
    ]
   },
   "outputs": [],
   "source": [
    "# Parameters\n",
    "COHORT_NAME = \"asthma_only\"\n",
    "CHROMOSOME = 8\n",
    "OUTPUT_DIR_BASE = \"/opt/data/projects/asthma-copd/results/gls_phenoplier\"\n"
   ]
  },
  {
   "cell_type": "code",
   "execution_count": 5,
   "id": "3190631f-27fc-480f-b18e-571d580425a5",
   "metadata": {
    "execution": {
     "iopub.execute_input": "2022-11-29T22:22:32.753333Z",
     "iopub.status.busy": "2022-11-29T22:22:32.753015Z",
     "iopub.status.idle": "2022-11-29T22:22:32.783536Z",
     "shell.execute_reply": "2022-11-29T22:22:32.783010Z"
    },
    "papermill": {
     "duration": 0.041248,
     "end_time": "2022-11-29T22:22:32.785040",
     "exception": false,
     "start_time": "2022-11-29T22:22:32.743792",
     "status": "completed"
    },
    "tags": []
   },
   "outputs": [
    {
     "data": {
      "text/plain": [
       "'Cohort name: asthma_only'"
      ]
     },
     "metadata": {},
     "output_type": "display_data"
    }
   ],
   "source": [
    "assert COHORT_NAME is not None and len(COHORT_NAME) > 0, \"A cohort name must be given\"\n",
    "\n",
    "COHORT_NAME = COHORT_NAME.lower()\n",
    "display(f\"Cohort name: {COHORT_NAME}\")"
   ]
  },
  {
   "cell_type": "code",
   "execution_count": 6,
   "id": "f53ba19b-0f93-4fa2-a047-63b375939d1a",
   "metadata": {
    "execution": {
     "iopub.execute_input": "2022-11-29T22:22:32.802399Z",
     "iopub.status.busy": "2022-11-29T22:22:32.802192Z",
     "iopub.status.idle": "2022-11-29T22:22:32.826786Z",
     "shell.execute_reply": "2022-11-29T22:22:32.826127Z"
    },
    "papermill": {
     "duration": 0.034984,
     "end_time": "2022-11-29T22:22:32.828516",
     "exception": false,
     "start_time": "2022-11-29T22:22:32.793532",
     "status": "completed"
    },
    "tags": []
   },
   "outputs": [
    {
     "data": {
      "text/plain": [
       "'Reference panel: GTEX_V8'"
      ]
     },
     "metadata": {},
     "output_type": "display_data"
    }
   ],
   "source": [
    "assert (\n",
    "    REFERENCE_PANEL is not None and len(REFERENCE_PANEL) > 0\n",
    "), \"A reference panel must be given\"\n",
    "\n",
    "display(f\"Reference panel: {REFERENCE_PANEL}\")"
   ]
  },
  {
   "cell_type": "code",
   "execution_count": 7,
   "id": "e024d130-c139-429a-9c6e-ccf149e297b0",
   "metadata": {
    "execution": {
     "iopub.execute_input": "2022-11-29T22:22:32.849057Z",
     "iopub.status.busy": "2022-11-29T22:22:32.848884Z",
     "iopub.status.idle": "2022-11-29T22:22:32.873460Z",
     "shell.execute_reply": "2022-11-29T22:22:32.872901Z"
    },
    "papermill": {
     "duration": 0.036552,
     "end_time": "2022-11-29T22:22:32.874938",
     "exception": false,
     "start_time": "2022-11-29T22:22:32.838386",
     "status": "completed"
    },
    "tags": []
   },
   "outputs": [
    {
     "data": {
      "text/plain": [
       "'eQTL model: MASHR) / mashr_'"
      ]
     },
     "metadata": {},
     "output_type": "display_data"
    }
   ],
   "source": [
    "assert (\n",
    "    EQTL_MODEL is not None and len(EQTL_MODEL) > 0\n",
    "), \"A prediction/eQTL model must be given\"\n",
    "\n",
    "EQTL_MODEL_FILES_PREFIX = conf.PHENOMEXCAN[\"PREDICTION_MODELS\"][f\"{EQTL_MODEL}_PREFIX\"]\n",
    "display(f\"eQTL model: {EQTL_MODEL}) / {EQTL_MODEL_FILES_PREFIX}\")"
   ]
  },
  {
   "cell_type": "code",
   "execution_count": 8,
   "id": "552a7f63-a18c-4d3e-bb6a-94f99b431291",
   "metadata": {
    "execution": {
     "iopub.execute_input": "2022-11-29T22:22:32.892874Z",
     "iopub.status.busy": "2022-11-29T22:22:32.892446Z",
     "iopub.status.idle": "2022-11-29T22:22:32.915833Z",
     "shell.execute_reply": "2022-11-29T22:22:32.915269Z"
    },
    "papermill": {
     "duration": 0.033946,
     "end_time": "2022-11-29T22:22:32.917393",
     "exception": false,
     "start_time": "2022-11-29T22:22:32.883447",
     "status": "completed"
    },
    "tags": []
   },
   "outputs": [
    {
     "data": {
      "text/plain": [
       "'S-MultiXcan condition number: 30'"
      ]
     },
     "metadata": {},
     "output_type": "display_data"
    }
   ],
   "source": [
    "assert (\n",
    "    SMULTIXCAN_CONDITION_NUMBER is not None and SMULTIXCAN_CONDITION_NUMBER > 0\n",
    "), \"The S-MultiXcan condition number (positive integer) must be given\"\n",
    "\n",
    "display(f\"S-MultiXcan condition number: {SMULTIXCAN_CONDITION_NUMBER}\")"
   ]
  },
  {
   "cell_type": "code",
   "execution_count": 9,
   "id": "f34a336f-548e-4afe-8955-90eaea4f42c6",
   "metadata": {
    "execution": {
     "iopub.execute_input": "2022-11-29T22:22:32.936039Z",
     "iopub.status.busy": "2022-11-29T22:22:32.935710Z",
     "iopub.status.idle": "2022-11-29T22:22:32.959725Z",
     "shell.execute_reply": "2022-11-29T22:22:32.959106Z"
    },
    "papermill": {
     "duration": 0.034875,
     "end_time": "2022-11-29T22:22:32.961333",
     "exception": false,
     "start_time": "2022-11-29T22:22:32.926458",
     "status": "completed"
    },
    "tags": []
   },
   "outputs": [
    {
     "data": {
      "text/plain": [
       "'Working on chromosome 8'"
      ]
     },
     "metadata": {},
     "output_type": "display_data"
    }
   ],
   "source": [
    "assert CHROMOSOME is not None and (\n",
    "    1 <= CHROMOSOME <= 22\n",
    "), \"You have to select one chromosome (format: number between 1 and 22)\"\n",
    "\n",
    "# CHROMOSOME = str(CHROMOSOME)\n",
    "display(f\"Working on chromosome {CHROMOSOME}\")"
   ]
  },
  {
   "cell_type": "code",
   "execution_count": 10,
   "id": "ab8e96e8-06b5-4363-9dcd-dc4d78cc27f7",
   "metadata": {
    "execution": {
     "iopub.execute_input": "2022-11-29T22:22:32.979978Z",
     "iopub.status.busy": "2022-11-29T22:22:32.979639Z",
     "iopub.status.idle": "2022-11-29T22:22:33.004146Z",
     "shell.execute_reply": "2022-11-29T22:22:33.003590Z"
    },
    "papermill": {
     "duration": 0.035305,
     "end_time": "2022-11-29T22:22:33.005591",
     "exception": false,
     "start_time": "2022-11-29T22:22:32.970286",
     "status": "completed"
    },
    "tags": []
   },
   "outputs": [
    {
     "data": {
      "text/plain": [
       "'Compute correlation within distance False'"
      ]
     },
     "metadata": {},
     "output_type": "display_data"
    }
   ],
   "source": [
    "display(f\"Compute correlation within distance {COMPUTE_CORRELATIONS_WITHIN_DISTANCE}\")"
   ]
  },
  {
   "cell_type": "code",
   "execution_count": 11,
   "id": "b393b698-77e3-4ba2-8ac1-e14d51aa988f",
   "metadata": {
    "execution": {
     "iopub.execute_input": "2022-11-29T22:22:33.024229Z",
     "iopub.status.busy": "2022-11-29T22:22:33.023766Z",
     "iopub.status.idle": "2022-11-29T22:22:33.048831Z",
     "shell.execute_reply": "2022-11-29T22:22:33.048243Z"
    },
    "papermill": {
     "duration": 0.035882,
     "end_time": "2022-11-29T22:22:33.050279",
     "exception": false,
     "start_time": "2022-11-29T22:22:33.014397",
     "status": "completed"
    },
    "tags": []
   },
   "outputs": [
    {
     "data": {
      "text/plain": [
       "'Using output dir base: /opt/data/projects/asthma-copd/results/gls_phenoplier/gene_corrs/asthma_only'"
      ]
     },
     "metadata": {},
     "output_type": "display_data"
    }
   ],
   "source": [
    "assert (\n",
    "    OUTPUT_DIR_BASE is not None and len(OUTPUT_DIR_BASE) > 0\n",
    "), \"Output directory path must be given\"\n",
    "\n",
    "OUTPUT_DIR_BASE = (\n",
    "    Path(OUTPUT_DIR_BASE)\n",
    "    / \"gene_corrs\"\n",
    "    / COHORT_NAME\n",
    "    # / REFERENCE_PANEL.lower()\n",
    "    # / EQTL_MODEL.lower()\n",
    ").resolve()\n",
    "\n",
    "OUTPUT_DIR_BASE.mkdir(parents=True, exist_ok=True)\n",
    "\n",
    "display(f\"Using output dir base: {OUTPUT_DIR_BASE}\")"
   ]
  },
  {
   "cell_type": "markdown",
   "id": "d2ba085e",
   "metadata": {
    "papermill": {
     "duration": 0.008635,
     "end_time": "2022-11-29T22:22:33.068102",
     "exception": false,
     "start_time": "2022-11-29T22:22:33.059467",
     "status": "completed"
    },
    "tags": []
   },
   "source": [
    "# Load data"
   ]
  },
  {
   "cell_type": "markdown",
   "id": "7dcb8db7",
   "metadata": {
    "papermill": {
     "duration": 0.008704,
     "end_time": "2022-11-29T22:22:33.085593",
     "exception": false,
     "start_time": "2022-11-29T22:22:33.076889",
     "status": "completed"
    },
    "tags": []
   },
   "source": [
    "## GWAS variants"
   ]
  },
  {
   "cell_type": "code",
   "execution_count": 12,
   "id": "29434c4e-8cd3-4b9b-82e4-b5a251d9dd19",
   "metadata": {
    "execution": {
     "iopub.execute_input": "2022-11-29T22:22:33.104123Z",
     "iopub.status.busy": "2022-11-29T22:22:33.103791Z",
     "iopub.status.idle": "2022-11-29T22:22:35.349047Z",
     "shell.execute_reply": "2022-11-29T22:22:35.348493Z"
    },
    "papermill": {
     "duration": 2.256884,
     "end_time": "2022-11-29T22:22:35.351206",
     "exception": false,
     "start_time": "2022-11-29T22:22:33.094322",
     "status": "completed"
    },
    "tags": []
   },
   "outputs": [],
   "source": [
    "with open(OUTPUT_DIR_BASE / \"gwas_variant_ids.pkl\", \"rb\") as handle:\n",
    "    gwas_variants_ids_set = pickle.load(handle)"
   ]
  },
  {
   "cell_type": "code",
   "execution_count": 13,
   "id": "b9d9dec2-4a76-4bf9-bde2-e24c95acb8a0",
   "metadata": {
    "execution": {
     "iopub.execute_input": "2022-11-29T22:22:35.371555Z",
     "iopub.status.busy": "2022-11-29T22:22:35.371374Z",
     "iopub.status.idle": "2022-11-29T22:22:35.386898Z",
     "shell.execute_reply": "2022-11-29T22:22:35.386560Z"
    },
    "papermill": {
     "duration": 0.02676,
     "end_time": "2022-11-29T22:22:35.388219",
     "exception": false,
     "start_time": "2022-11-29T22:22:35.361459",
     "status": "completed"
    },
    "tags": []
   },
   "outputs": [
    {
     "data": {
      "text/plain": [
       "8578486"
      ]
     },
     "execution_count": 13,
     "metadata": {},
     "output_type": "execute_result"
    }
   ],
   "source": [
    "len(gwas_variants_ids_set)"
   ]
  },
  {
   "cell_type": "code",
   "execution_count": 14,
   "id": "4235b06a-6034-4ee4-a0a3-2ae35d122418",
   "metadata": {
    "execution": {
     "iopub.execute_input": "2022-11-29T22:22:35.408342Z",
     "iopub.status.busy": "2022-11-29T22:22:35.408157Z",
     "iopub.status.idle": "2022-11-29T22:22:35.922500Z",
     "shell.execute_reply": "2022-11-29T22:22:35.922045Z"
    },
    "papermill": {
     "duration": 0.52574,
     "end_time": "2022-11-29T22:22:35.924187",
     "exception": false,
     "start_time": "2022-11-29T22:22:35.398447",
     "status": "completed"
    },
    "tags": []
   },
   "outputs": [
    {
     "data": {
      "text/plain": [
       "['chr11_5863016_A_G_b38',\n",
       " 'chr3_158101609_T_C_b38',\n",
       " 'chr7_19412141_G_A_b38',\n",
       " 'chr7_5748918_G_C_b38',\n",
       " 'chr7_19883995_C_T_b38']"
      ]
     },
     "execution_count": 14,
     "metadata": {},
     "output_type": "execute_result"
    }
   ],
   "source": [
    "list(gwas_variants_ids_set)[:5]"
   ]
  },
  {
   "cell_type": "markdown",
   "id": "07866999-2305-41f9-a144-e69c9122c212",
   "metadata": {
    "papermill": {
     "duration": 0.0105,
     "end_time": "2022-11-29T22:22:35.945280",
     "exception": false,
     "start_time": "2022-11-29T22:22:35.934780",
     "status": "completed"
    },
    "tags": []
   },
   "source": [
    "## S-PrediXcan tissue models"
   ]
  },
  {
   "cell_type": "code",
   "execution_count": 15,
   "id": "780611d9-77c8-405f-90a4-f271f7b09397",
   "metadata": {
    "execution": {
     "iopub.execute_input": "2022-11-29T22:22:35.967958Z",
     "iopub.status.busy": "2022-11-29T22:22:35.967658Z",
     "iopub.status.idle": "2022-11-29T22:22:36.791249Z",
     "shell.execute_reply": "2022-11-29T22:22:36.790799Z"
    },
    "papermill": {
     "duration": 0.83652,
     "end_time": "2022-11-29T22:22:36.792879",
     "exception": false,
     "start_time": "2022-11-29T22:22:35.956359",
     "status": "completed"
    },
    "tags": []
   },
   "outputs": [],
   "source": [
    "spredixcan_genes_models = pd.read_pickle(OUTPUT_DIR_BASE / \"gene_tissues.pkl\")"
   ]
  },
  {
   "cell_type": "code",
   "execution_count": 16,
   "id": "726dd1f6-9557-4225-91fa-b3b879ea96e1",
   "metadata": {
    "execution": {
     "iopub.execute_input": "2022-11-29T22:22:36.813013Z",
     "iopub.status.busy": "2022-11-29T22:22:36.812879Z",
     "iopub.status.idle": "2022-11-29T22:22:36.826301Z",
     "shell.execute_reply": "2022-11-29T22:22:36.825918Z"
    },
    "papermill": {
     "duration": 0.024782,
     "end_time": "2022-11-29T22:22:36.827571",
     "exception": false,
     "start_time": "2022-11-29T22:22:36.802789",
     "status": "completed"
    },
    "tags": []
   },
   "outputs": [
    {
     "data": {
      "text/plain": [
       "(6443, 5)"
      ]
     },
     "execution_count": 16,
     "metadata": {},
     "output_type": "execute_result"
    }
   ],
   "source": [
    "spredixcan_genes_models.shape"
   ]
  },
  {
   "cell_type": "code",
   "execution_count": 17,
   "id": "944a1b48-222c-4eb0-b252-b9de2cbca215",
   "metadata": {
    "execution": {
     "iopub.execute_input": "2022-11-29T22:22:36.847915Z",
     "iopub.status.busy": "2022-11-29T22:22:36.847749Z",
     "iopub.status.idle": "2022-11-29T22:22:36.866308Z",
     "shell.execute_reply": "2022-11-29T22:22:36.865914Z"
    },
    "papermill": {
     "duration": 0.03001,
     "end_time": "2022-11-29T22:22:36.867590",
     "exception": false,
     "start_time": "2022-11-29T22:22:36.837580",
     "status": "completed"
    },
    "tags": []
   },
   "outputs": [
    {
     "data": {
      "text/html": [
       "<div>\n",
       "<style scoped>\n",
       "    .dataframe tbody tr th:only-of-type {\n",
       "        vertical-align: middle;\n",
       "    }\n",
       "\n",
       "    .dataframe tbody tr th {\n",
       "        vertical-align: top;\n",
       "    }\n",
       "\n",
       "    .dataframe thead th {\n",
       "        text-align: right;\n",
       "    }\n",
       "</style>\n",
       "<table border=\"1\" class=\"dataframe\">\n",
       "  <thead>\n",
       "    <tr style=\"text-align: right;\">\n",
       "      <th></th>\n",
       "      <th>gene_name</th>\n",
       "      <th>tissue</th>\n",
       "      <th>n_tissues</th>\n",
       "      <th>n_snps_used_sum</th>\n",
       "      <th>n_snps_in_model_sum</th>\n",
       "    </tr>\n",
       "    <tr>\n",
       "      <th>gene_id</th>\n",
       "      <th></th>\n",
       "      <th></th>\n",
       "      <th></th>\n",
       "      <th></th>\n",
       "      <th></th>\n",
       "    </tr>\n",
       "  </thead>\n",
       "  <tbody>\n",
       "    <tr>\n",
       "      <th>ENSG00000000419</th>\n",
       "      <td>DPM1</td>\n",
       "      <td>(Brain_Substantia_nigra, Brain_Hypothalamus)</td>\n",
       "      <td>2</td>\n",
       "      <td>2</td>\n",
       "      <td>2</td>\n",
       "    </tr>\n",
       "    <tr>\n",
       "      <th>ENSG00000000938</th>\n",
       "      <td>FGR</td>\n",
       "      <td>(Adipose_Subcutaneous, Brain_Hippocampus, Stom...</td>\n",
       "      <td>36</td>\n",
       "      <td>40</td>\n",
       "      <td>40</td>\n",
       "    </tr>\n",
       "    <tr>\n",
       "      <th>ENSG00000000971</th>\n",
       "      <td>CFH</td>\n",
       "      <td>(Brain_Putamen_basal_ganglia, Brain_Hippocampu...</td>\n",
       "      <td>34</td>\n",
       "      <td>44</td>\n",
       "      <td>44</td>\n",
       "    </tr>\n",
       "    <tr>\n",
       "      <th>ENSG00000001084</th>\n",
       "      <td>GCLC</td>\n",
       "      <td>(Adipose_Subcutaneous, Brain_Putamen_basal_gan...</td>\n",
       "      <td>32</td>\n",
       "      <td>46</td>\n",
       "      <td>46</td>\n",
       "    </tr>\n",
       "    <tr>\n",
       "      <th>ENSG00000001167</th>\n",
       "      <td>NFYA</td>\n",
       "      <td>(Adipose_Subcutaneous, Brain_Putamen_basal_gan...</td>\n",
       "      <td>40</td>\n",
       "      <td>47</td>\n",
       "      <td>48</td>\n",
       "    </tr>\n",
       "  </tbody>\n",
       "</table>\n",
       "</div>"
      ],
      "text/plain": [
       "                gene_name                                             tissue  \\\n",
       "gene_id                                                                        \n",
       "ENSG00000000419      DPM1       (Brain_Substantia_nigra, Brain_Hypothalamus)   \n",
       "ENSG00000000938       FGR  (Adipose_Subcutaneous, Brain_Hippocampus, Stom...   \n",
       "ENSG00000000971       CFH  (Brain_Putamen_basal_ganglia, Brain_Hippocampu...   \n",
       "ENSG00000001084      GCLC  (Adipose_Subcutaneous, Brain_Putamen_basal_gan...   \n",
       "ENSG00000001167      NFYA  (Adipose_Subcutaneous, Brain_Putamen_basal_gan...   \n",
       "\n",
       "                 n_tissues  n_snps_used_sum  n_snps_in_model_sum  \n",
       "gene_id                                                           \n",
       "ENSG00000000419          2                2                    2  \n",
       "ENSG00000000938         36               40                   40  \n",
       "ENSG00000000971         34               44                   44  \n",
       "ENSG00000001084         32               46                   46  \n",
       "ENSG00000001167         40               47                   48  "
      ]
     },
     "execution_count": 17,
     "metadata": {},
     "output_type": "execute_result"
    }
   ],
   "source": [
    "spredixcan_genes_models.head()"
   ]
  },
  {
   "cell_type": "code",
   "execution_count": 18,
   "id": "d1c11bb1-be0b-4f40-b360-633d6827109f",
   "metadata": {
    "execution": {
     "iopub.execute_input": "2022-11-29T22:22:36.888415Z",
     "iopub.status.busy": "2022-11-29T22:22:36.888287Z",
     "iopub.status.idle": "2022-11-29T22:22:36.902234Z",
     "shell.execute_reply": "2022-11-29T22:22:36.901846Z"
    },
    "papermill": {
     "duration": 0.025774,
     "end_time": "2022-11-29T22:22:36.903557",
     "exception": false,
     "start_time": "2022-11-29T22:22:36.877783",
     "status": "completed"
    },
    "tags": []
   },
   "outputs": [],
   "source": [
    "assert spredixcan_genes_models.index.is_unique"
   ]
  },
  {
   "cell_type": "markdown",
   "id": "a5b5092c-a13e-47c4-a92a-480fcc08f3ae",
   "metadata": {
    "papermill": {
     "duration": 0.009875,
     "end_time": "2022-11-29T22:22:36.923764",
     "exception": false,
     "start_time": "2022-11-29T22:22:36.913889",
     "status": "completed"
    },
    "tags": []
   },
   "source": [
    "## Gene info"
   ]
  },
  {
   "cell_type": "code",
   "execution_count": 19,
   "id": "7d6bb224-88e9-4358-ac10-43a41d92cdad",
   "metadata": {
    "execution": {
     "iopub.execute_input": "2022-11-29T22:22:36.944385Z",
     "iopub.status.busy": "2022-11-29T22:22:36.944196Z",
     "iopub.status.idle": "2022-11-29T22:22:36.965618Z",
     "shell.execute_reply": "2022-11-29T22:22:36.965117Z"
    },
    "papermill": {
     "duration": 0.033434,
     "end_time": "2022-11-29T22:22:36.967237",
     "exception": false,
     "start_time": "2022-11-29T22:22:36.933803",
     "status": "completed"
    },
    "tags": []
   },
   "outputs": [],
   "source": [
    "genes_info = pd.read_pickle(OUTPUT_DIR_BASE / \"genes_info.pkl\")"
   ]
  },
  {
   "cell_type": "code",
   "execution_count": 20,
   "id": "9e32abfa-546d-483e-8c18-d526e9e05903",
   "metadata": {
    "execution": {
     "iopub.execute_input": "2022-11-29T22:22:36.991324Z",
     "iopub.status.busy": "2022-11-29T22:22:36.991096Z",
     "iopub.status.idle": "2022-11-29T22:22:37.010446Z",
     "shell.execute_reply": "2022-11-29T22:22:37.009982Z"
    },
    "papermill": {
     "duration": 0.032669,
     "end_time": "2022-11-29T22:22:37.011963",
     "exception": false,
     "start_time": "2022-11-29T22:22:36.979294",
     "status": "completed"
    },
    "tags": []
   },
   "outputs": [
    {
     "data": {
      "text/plain": [
       "(6443, 7)"
      ]
     },
     "execution_count": 20,
     "metadata": {},
     "output_type": "execute_result"
    }
   ],
   "source": [
    "genes_info.shape"
   ]
  },
  {
   "cell_type": "code",
   "execution_count": 21,
   "id": "d16c3e92-85ec-468a-9a56-e25a9774a1cb",
   "metadata": {
    "execution": {
     "iopub.execute_input": "2022-11-29T22:22:37.035626Z",
     "iopub.status.busy": "2022-11-29T22:22:37.035407Z",
     "iopub.status.idle": "2022-11-29T22:22:37.057894Z",
     "shell.execute_reply": "2022-11-29T22:22:37.057423Z"
    },
    "papermill": {
     "duration": 0.035883,
     "end_time": "2022-11-29T22:22:37.059407",
     "exception": false,
     "start_time": "2022-11-29T22:22:37.023524",
     "status": "completed"
    },
    "tags": []
   },
   "outputs": [
    {
     "data": {
      "text/html": [
       "<div>\n",
       "<style scoped>\n",
       "    .dataframe tbody tr th:only-of-type {\n",
       "        vertical-align: middle;\n",
       "    }\n",
       "\n",
       "    .dataframe tbody tr th {\n",
       "        vertical-align: top;\n",
       "    }\n",
       "\n",
       "    .dataframe thead th {\n",
       "        text-align: right;\n",
       "    }\n",
       "</style>\n",
       "<table border=\"1\" class=\"dataframe\">\n",
       "  <thead>\n",
       "    <tr style=\"text-align: right;\">\n",
       "      <th></th>\n",
       "      <th>name</th>\n",
       "      <th>id</th>\n",
       "      <th>chr</th>\n",
       "      <th>band</th>\n",
       "      <th>start_position</th>\n",
       "      <th>end_position</th>\n",
       "      <th>gene_length</th>\n",
       "    </tr>\n",
       "  </thead>\n",
       "  <tbody>\n",
       "    <tr>\n",
       "      <th>0</th>\n",
       "      <td>UBE4B</td>\n",
       "      <td>ENSG00000130939</td>\n",
       "      <td>1</td>\n",
       "      <td>1p36.22</td>\n",
       "      <td>10032832</td>\n",
       "      <td>10181239</td>\n",
       "      <td>148407</td>\n",
       "    </tr>\n",
       "    <tr>\n",
       "      <th>1</th>\n",
       "      <td>STX18</td>\n",
       "      <td>ENSG00000168818</td>\n",
       "      <td>4</td>\n",
       "      <td>4p16.2</td>\n",
       "      <td>4415742</td>\n",
       "      <td>4542346</td>\n",
       "      <td>126604</td>\n",
       "    </tr>\n",
       "    <tr>\n",
       "      <th>2</th>\n",
       "      <td>DNM2</td>\n",
       "      <td>ENSG00000079805</td>\n",
       "      <td>19</td>\n",
       "      <td>19p13.2</td>\n",
       "      <td>10718079</td>\n",
       "      <td>10833488</td>\n",
       "      <td>115409</td>\n",
       "    </tr>\n",
       "    <tr>\n",
       "      <th>3</th>\n",
       "      <td>PLD1</td>\n",
       "      <td>ENSG00000075651</td>\n",
       "      <td>3</td>\n",
       "      <td>3q26.31</td>\n",
       "      <td>171600404</td>\n",
       "      <td>171810950</td>\n",
       "      <td>210546</td>\n",
       "    </tr>\n",
       "    <tr>\n",
       "      <th>4</th>\n",
       "      <td>ANKRD55</td>\n",
       "      <td>ENSG00000164512</td>\n",
       "      <td>5</td>\n",
       "      <td>5q11.2</td>\n",
       "      <td>56099680</td>\n",
       "      <td>56233330</td>\n",
       "      <td>133650</td>\n",
       "    </tr>\n",
       "  </tbody>\n",
       "</table>\n",
       "</div>"
      ],
      "text/plain": [
       "      name               id  chr     band  start_position  end_position  \\\n",
       "0    UBE4B  ENSG00000130939    1  1p36.22        10032832      10181239   \n",
       "1    STX18  ENSG00000168818    4   4p16.2         4415742       4542346   \n",
       "2     DNM2  ENSG00000079805   19  19p13.2        10718079      10833488   \n",
       "3     PLD1  ENSG00000075651    3  3q26.31       171600404     171810950   \n",
       "4  ANKRD55  ENSG00000164512    5   5q11.2        56099680      56233330   \n",
       "\n",
       "   gene_length  \n",
       "0       148407  \n",
       "1       126604  \n",
       "2       115409  \n",
       "3       210546  \n",
       "4       133650  "
      ]
     },
     "execution_count": 21,
     "metadata": {},
     "output_type": "execute_result"
    }
   ],
   "source": [
    "genes_info.head()"
   ]
  },
  {
   "cell_type": "markdown",
   "id": "d3843e06",
   "metadata": {
    "papermill": {
     "duration": 0.011458,
     "end_time": "2022-11-29T22:22:37.082872",
     "exception": false,
     "start_time": "2022-11-29T22:22:37.071414",
     "status": "completed"
    },
    "tags": []
   },
   "source": [
    "# Compute correlations"
   ]
  },
  {
   "cell_type": "code",
   "execution_count": 22,
   "id": "cb859c15-d1f3-4006-a74c-2b83c0db9611",
   "metadata": {
    "execution": {
     "iopub.execute_input": "2022-11-29T22:22:37.105184Z",
     "iopub.status.busy": "2022-11-29T22:22:37.104913Z",
     "iopub.status.idle": "2022-11-29T22:22:37.129660Z",
     "shell.execute_reply": "2022-11-29T22:22:37.129162Z"
    },
    "papermill": {
     "duration": 0.036539,
     "end_time": "2022-11-29T22:22:37.130508",
     "exception": false,
     "start_time": "2022-11-29T22:22:37.093969",
     "status": "completed"
    },
    "tags": []
   },
   "outputs": [
    {
     "data": {
      "text/plain": [
       "PosixPath('/opt/data/projects/asthma-copd/results/gls_phenoplier/gene_corrs/asthma_only/by_chr/gene_corrs-chr8.pkl')"
      ]
     },
     "metadata": {},
     "output_type": "display_data"
    }
   ],
   "source": [
    "output_dir = OUTPUT_DIR_BASE / \"by_chr\"\n",
    "output_dir.mkdir(exist_ok=True, parents=True)\n",
    "output_file = output_dir / f\"gene_corrs-chr{CHROMOSOME}.pkl\"\n",
    "display(output_file)"
   ]
  },
  {
   "cell_type": "code",
   "execution_count": 23,
   "id": "aa674fe4-6794-4eed-98fa-32b39d1d4ace",
   "metadata": {
    "execution": {
     "iopub.execute_input": "2022-11-29T22:22:37.142391Z",
     "iopub.status.busy": "2022-11-29T22:22:37.141908Z",
     "iopub.status.idle": "2022-11-29T22:22:37.166475Z",
     "shell.execute_reply": "2022-11-29T22:22:37.165943Z"
    },
    "papermill": {
     "duration": 0.031502,
     "end_time": "2022-11-29T22:22:37.167504",
     "exception": false,
     "start_time": "2022-11-29T22:22:37.136002",
     "status": "completed"
    },
    "tags": []
   },
   "outputs": [],
   "source": [
    "warnings.filterwarnings(\"error\")"
   ]
  },
  {
   "cell_type": "code",
   "execution_count": 24,
   "id": "44d5450b-3baf-43f1-9e2e-4b06f1a785f8",
   "metadata": {
    "execution": {
     "iopub.execute_input": "2022-11-29T22:22:37.179576Z",
     "iopub.status.busy": "2022-11-29T22:22:37.179100Z",
     "iopub.status.idle": "2022-11-29T22:22:37.203254Z",
     "shell.execute_reply": "2022-11-29T22:22:37.202732Z"
    },
    "papermill": {
     "duration": 0.031154,
     "end_time": "2022-11-29T22:22:37.204355",
     "exception": false,
     "start_time": "2022-11-29T22:22:37.173201",
     "status": "completed"
    },
    "tags": []
   },
   "outputs": [],
   "source": [
    "# standard checks\n",
    "all_chrs = genes_info[\"chr\"].dropna().unique()\n",
    "assert all_chrs.shape[0] == 22\n",
    "\n",
    "# select chromosome given by the user\n",
    "assert CHROMOSOME in all_chrs"
   ]
  },
  {
   "cell_type": "code",
   "execution_count": 25,
   "id": "2d7c043c-92a7-4d35-991b-fa69ac1e0268",
   "metadata": {
    "execution": {
     "iopub.execute_input": "2022-11-29T22:22:37.216463Z",
     "iopub.status.busy": "2022-11-29T22:22:37.215966Z",
     "iopub.status.idle": "2022-11-29T22:22:37.240831Z",
     "shell.execute_reply": "2022-11-29T22:22:37.240389Z"
    },
    "papermill": {
     "duration": 0.031696,
     "end_time": "2022-11-29T22:22:37.241702",
     "exception": false,
     "start_time": "2022-11-29T22:22:37.210006",
     "status": "completed"
    },
    "tags": []
   },
   "outputs": [
    {
     "name": "stdout",
     "output_type": "stream",
     "text": [
      "Number of genes in chromosome: 222\n"
     ]
    }
   ],
   "source": [
    "# run only on the chromosome specified\n",
    "all_chrs = [CHROMOSOME]\n",
    "genes_chr = genes_info[genes_info[\"chr\"] == CHROMOSOME]\n",
    "\n",
    "# For testing purposes\n",
    "# genes_chr = genes_chr.sample(n=20)\n",
    "\n",
    "print(f\"Number of genes in chromosome: {genes_chr.shape[0]}\", flush=True)"
   ]
  },
  {
   "cell_type": "code",
   "execution_count": 26,
   "id": "916015d8-2979-46d3-a9b9-1cf5a0932c6a",
   "metadata": {
    "execution": {
     "iopub.execute_input": "2022-11-29T22:22:37.253840Z",
     "iopub.status.busy": "2022-11-29T22:22:37.253619Z",
     "iopub.status.idle": "2022-11-29T22:22:37.276939Z",
     "shell.execute_reply": "2022-11-29T22:22:37.276495Z"
    },
    "papermill": {
     "duration": 0.031788,
     "end_time": "2022-11-29T22:22:37.279163",
     "exception": false,
     "start_time": "2022-11-29T22:22:37.247375",
     "status": "completed"
    },
    "tags": []
   },
   "outputs": [],
   "source": [
    "# sort genes by starting position to make visualizations better later\n",
    "genes_chr = genes_chr.sort_values(\"start_position\")"
   ]
  },
  {
   "cell_type": "code",
   "execution_count": 27,
   "id": "a38aa74a-8ad3-47f6-8ef9-56be0e011774",
   "metadata": {
    "execution": {
     "iopub.execute_input": "2022-11-29T22:22:37.304895Z",
     "iopub.status.busy": "2022-11-29T22:22:37.304449Z",
     "iopub.status.idle": "2022-11-29T22:22:37.322216Z",
     "shell.execute_reply": "2022-11-29T22:22:37.321640Z"
    },
    "papermill": {
     "duration": 0.030226,
     "end_time": "2022-11-29T22:22:37.323218",
     "exception": false,
     "start_time": "2022-11-29T22:22:37.292992",
     "status": "completed"
    },
    "tags": []
   },
   "outputs": [],
   "source": [
    "gene_chr_objs = [Gene(ensembl_id=gene_id) for gene_id in genes_chr[\"id\"]]"
   ]
  },
  {
   "cell_type": "code",
   "execution_count": 28,
   "id": "570f974f-13c3-42b6-ad3a-ce99ca885c1a",
   "metadata": {
    "execution": {
     "iopub.execute_input": "2022-11-29T22:22:37.335320Z",
     "iopub.status.busy": "2022-11-29T22:22:37.335149Z",
     "iopub.status.idle": "2022-11-29T22:22:37.351030Z",
     "shell.execute_reply": "2022-11-29T22:22:37.350584Z"
    },
    "papermill": {
     "duration": 0.023551,
     "end_time": "2022-11-29T22:22:37.352506",
     "exception": false,
     "start_time": "2022-11-29T22:22:37.328955",
     "status": "completed"
    },
    "tags": []
   },
   "outputs": [
    {
     "name": "stdout",
     "output_type": "stream",
     "text": [
      "Number of gene combinations: 24753\n"
     ]
    }
   ],
   "source": [
    "n = len(gene_chr_objs)\n",
    "# diagonal elements + upper triangular matrix\n",
    "n_comb = n + int(n * (n - 1) / 2.0)\n",
    "print(f\"Number of gene combinations: {n_comb}\", flush=True)"
   ]
  },
  {
   "cell_type": "code",
   "execution_count": 29,
   "id": "cdbb90a1",
   "metadata": {
    "execution": {
     "iopub.execute_input": "2022-11-29T22:22:37.375758Z",
     "iopub.status.busy": "2022-11-29T22:22:37.375425Z",
     "iopub.status.idle": "2022-11-29T22:38:55.835470Z",
     "shell.execute_reply": "2022-11-29T22:38:55.834919Z"
    },
    "papermill": {
     "duration": 978.472989,
     "end_time": "2022-11-29T22:38:55.836886",
     "exception": false,
     "start_time": "2022-11-29T22:22:37.363897",
     "status": "completed"
    },
    "tags": []
   },
   "outputs": [
    {
     "name": "stderr",
     "output_type": "stream",
     "text": [
      "ENSG00000196150 / ENSG00000196150: 100%|██████████████████████| 24753/24753 [16:18<00:00, 25.30it/s]\n"
     ]
    },
    {
     "data": {
      "text/plain": [
       "PosixPath('/opt/data/projects/asthma-copd/results/gls_phenoplier/gene_corrs/asthma_only/by_chr/gene_corrs-chr8.pkl')"
      ]
     },
     "metadata": {},
     "output_type": "display_data"
    }
   ],
   "source": [
    "gene_corrs = []\n",
    "gene_corrs_data = np.full(\n",
    "    (n, n),\n",
    "    np.nan,\n",
    "    dtype=np.float64,\n",
    ")\n",
    "\n",
    "i = 0\n",
    "with tqdm(ncols=100, total=n_comb) as pbar:\n",
    "    for gene1_idx in range(0, len(gene_chr_objs)):\n",
    "        gene1_obj = gene_chr_objs[gene1_idx]\n",
    "        gene1_tissues = spredixcan_genes_models.loc[gene1_obj.ensembl_id, \"tissue\"]\n",
    "\n",
    "        for gene2_idx in range(gene1_idx, len(gene_chr_objs)):\n",
    "            gene2_obj = gene_chr_objs[gene2_idx]\n",
    "            gene2_tissues = spredixcan_genes_models.loc[gene2_obj.ensembl_id, \"tissue\"]\n",
    "\n",
    "            pbar.set_description(f\"{gene1_obj.ensembl_id} / {gene2_obj.ensembl_id}\")\n",
    "\n",
    "            try:\n",
    "                r = gene1_obj.get_ssm_correlation(\n",
    "                    other_gene=gene2_obj,\n",
    "                    tissues=gene1_tissues,\n",
    "                    other_tissues=gene2_tissues,\n",
    "                    snps_subset=gwas_variants_ids_set,\n",
    "                    condition_number=SMULTIXCAN_CONDITION_NUMBER,\n",
    "                    reference_panel=REFERENCE_PANEL,\n",
    "                    model_type=EQTL_MODEL,\n",
    "                    use_within_distance=COMPUTE_CORRELATIONS_WITHIN_DISTANCE,\n",
    "                )\n",
    "\n",
    "                if r is None:\n",
    "                    # if r is None, it's very likely because:\n",
    "                    #  * one of the genes has no prediction models\n",
    "                    #  * all the SNPs predictors for the gene are not present in the reference\n",
    "                    #    panel\n",
    "\n",
    "                    r = 0.0\n",
    "\n",
    "                gene_corrs.append(r)\n",
    "\n",
    "                gene_corrs_data[gene1_idx, gene2_idx] = r\n",
    "                gene_corrs_data[gene2_idx, gene1_idx] = r\n",
    "            except Warning as e:\n",
    "                if not DEBUG_MODE:\n",
    "                    raise e\n",
    "\n",
    "                print(\n",
    "                    f\"RuntimeWarning for genes {gene1_obj.ensembl_id} and {gene2_obj.ensembl_id}\",\n",
    "                    flush=True,\n",
    "                )\n",
    "                print(traceback.format_exc(), flush=True)\n",
    "\n",
    "                gene_corrs.append(np.nan)\n",
    "            except Exception as e:\n",
    "                if not DEBUG_MODE:\n",
    "                    raise e\n",
    "\n",
    "                print(\n",
    "                    f\"Exception for genes {gene1_obj.ensembl_id} and {gene2_obj.ensembl_id}\",\n",
    "                    flush=True,\n",
    "                )\n",
    "                print(traceback.format_exc(), flush=True)\n",
    "\n",
    "                gene_corrs.append(np.nan)\n",
    "\n",
    "            pbar.update(1)\n",
    "\n",
    "# create a pandas series\n",
    "gene_corrs_flat = pd.Series(gene_corrs)\n",
    "\n",
    "# save\n",
    "# FIXME: consider saving only the condenced matrix here. See here for\n",
    "# more details: https://github.com/greenelab/phenoplier/pull/38#discussion_r634600813\n",
    "# gene_corrs_data = squareform(np.array(gene_corrs, dtype=np.float64))\n",
    "# np.fill_diagonal(gene_corrs_data, 1.0)\n",
    "\n",
    "gene_chr_ids = [g.ensembl_id for g in gene_chr_objs]\n",
    "gene_corrs_df = pd.DataFrame(\n",
    "    data=gene_corrs_data,\n",
    "    index=gene_chr_ids,\n",
    "    columns=gene_chr_ids,\n",
    ")\n",
    "\n",
    "output_dir.mkdir(exist_ok=True, parents=True)\n",
    "display(output_file)\n",
    "\n",
    "gene_corrs_df.to_pickle(output_file)"
   ]
  },
  {
   "cell_type": "markdown",
   "id": "faa67b51-5373-470f-aa72-2ded53fa6dfe",
   "metadata": {
    "papermill": {
     "duration": 0.922213,
     "end_time": "2022-11-29T22:38:57.730110",
     "exception": false,
     "start_time": "2022-11-29T22:38:56.807897",
     "status": "completed"
    },
    "tags": []
   },
   "source": [
    "# Testing"
   ]
  },
  {
   "cell_type": "code",
   "execution_count": 30,
   "id": "14f7d046-4b55-4896-a56b-990127bcc388",
   "metadata": {
    "execution": {
     "iopub.execute_input": "2022-11-29T22:38:59.605003Z",
     "iopub.status.busy": "2022-11-29T22:38:59.604350Z",
     "iopub.status.idle": "2022-11-29T22:38:59.625108Z",
     "shell.execute_reply": "2022-11-29T22:38:59.624472Z"
    },
    "papermill": {
     "duration": 0.981016,
     "end_time": "2022-11-29T22:38:59.626026",
     "exception": false,
     "start_time": "2022-11-29T22:38:58.645010",
     "status": "completed"
    },
    "tags": []
   },
   "outputs": [
    {
     "data": {
      "text/plain": [
       "(222, 222)"
      ]
     },
     "execution_count": 30,
     "metadata": {},
     "output_type": "execute_result"
    }
   ],
   "source": [
    "gene_corrs_df.shape"
   ]
  },
  {
   "cell_type": "code",
   "execution_count": 31,
   "id": "c7d15414-3297-4537-a7c6-7588c0baeb75",
   "metadata": {
    "execution": {
     "iopub.execute_input": "2022-11-29T22:39:01.501085Z",
     "iopub.status.busy": "2022-11-29T22:39:01.500629Z",
     "iopub.status.idle": "2022-11-29T22:39:01.543129Z",
     "shell.execute_reply": "2022-11-29T22:39:01.542471Z"
    },
    "papermill": {
     "duration": 1.002335,
     "end_time": "2022-11-29T22:39:01.544134",
     "exception": false,
     "start_time": "2022-11-29T22:39:00.541799",
     "status": "completed"
    },
    "tags": []
   },
   "outputs": [
    {
     "data": {
      "text/html": [
       "<div>\n",
       "<style scoped>\n",
       "    .dataframe tbody tr th:only-of-type {\n",
       "        vertical-align: middle;\n",
       "    }\n",
       "\n",
       "    .dataframe tbody tr th {\n",
       "        vertical-align: top;\n",
       "    }\n",
       "\n",
       "    .dataframe thead th {\n",
       "        text-align: right;\n",
       "    }\n",
       "</style>\n",
       "<table border=\"1\" class=\"dataframe\">\n",
       "  <thead>\n",
       "    <tr style=\"text-align: right;\">\n",
       "      <th></th>\n",
       "      <th>ENSG00000172748</th>\n",
       "      <th>ENSG00000182372</th>\n",
       "      <th>ENSG00000104728</th>\n",
       "      <th>ENSG00000036448</th>\n",
       "      <th>ENSG00000091879</th>\n",
       "      <th>ENSG00000155189</th>\n",
       "      <th>ENSG00000164821</th>\n",
       "      <th>ENSG00000253958</th>\n",
       "      <th>ENSG00000147324</th>\n",
       "      <th>ENSG00000173281</th>\n",
       "      <th>...</th>\n",
       "      <th>ENSG00000071894</th>\n",
       "      <th>ENSG00000147804</th>\n",
       "      <th>ENSG00000160948</th>\n",
       "      <th>ENSG00000160949</th>\n",
       "      <th>ENSG00000187954</th>\n",
       "      <th>ENSG00000160972</th>\n",
       "      <th>ENSG00000167701</th>\n",
       "      <th>ENSG00000161016</th>\n",
       "      <th>ENSG00000197363</th>\n",
       "      <th>ENSG00000196150</th>\n",
       "    </tr>\n",
       "  </thead>\n",
       "  <tbody>\n",
       "    <tr>\n",
       "      <th>ENSG00000172748</th>\n",
       "      <td>1.000000</td>\n",
       "      <td>0.008203</td>\n",
       "      <td>0.012194</td>\n",
       "      <td>0.010156</td>\n",
       "      <td>0.008627</td>\n",
       "      <td>0.009669</td>\n",
       "      <td>0.008393</td>\n",
       "      <td>0.005256</td>\n",
       "      <td>0.011801</td>\n",
       "      <td>0.009020</td>\n",
       "      <td>...</td>\n",
       "      <td>0.001993</td>\n",
       "      <td>0.006521</td>\n",
       "      <td>0.004225</td>\n",
       "      <td>0.006686</td>\n",
       "      <td>0.006165</td>\n",
       "      <td>0.006528</td>\n",
       "      <td>0.004982</td>\n",
       "      <td>0.003141</td>\n",
       "      <td>0.005853</td>\n",
       "      <td>0.004734</td>\n",
       "    </tr>\n",
       "    <tr>\n",
       "      <th>ENSG00000182372</th>\n",
       "      <td>0.008203</td>\n",
       "      <td>1.000000</td>\n",
       "      <td>0.182559</td>\n",
       "      <td>0.009172</td>\n",
       "      <td>0.007909</td>\n",
       "      <td>0.006291</td>\n",
       "      <td>0.007841</td>\n",
       "      <td>0.004634</td>\n",
       "      <td>0.007929</td>\n",
       "      <td>0.008676</td>\n",
       "      <td>...</td>\n",
       "      <td>0.001879</td>\n",
       "      <td>0.005246</td>\n",
       "      <td>0.000381</td>\n",
       "      <td>0.003761</td>\n",
       "      <td>0.005085</td>\n",
       "      <td>0.008463</td>\n",
       "      <td>0.003099</td>\n",
       "      <td>0.000870</td>\n",
       "      <td>0.004974</td>\n",
       "      <td>0.004808</td>\n",
       "    </tr>\n",
       "    <tr>\n",
       "      <th>ENSG00000104728</th>\n",
       "      <td>0.012194</td>\n",
       "      <td>0.182559</td>\n",
       "      <td>1.000000</td>\n",
       "      <td>0.029586</td>\n",
       "      <td>0.015373</td>\n",
       "      <td>0.016621</td>\n",
       "      <td>0.014423</td>\n",
       "      <td>0.008077</td>\n",
       "      <td>0.013431</td>\n",
       "      <td>0.012562</td>\n",
       "      <td>...</td>\n",
       "      <td>0.007317</td>\n",
       "      <td>0.013190</td>\n",
       "      <td>0.006235</td>\n",
       "      <td>0.009145</td>\n",
       "      <td>0.014295</td>\n",
       "      <td>0.012378</td>\n",
       "      <td>0.012044</td>\n",
       "      <td>0.006637</td>\n",
       "      <td>0.011510</td>\n",
       "      <td>0.010221</td>\n",
       "    </tr>\n",
       "    <tr>\n",
       "      <th>ENSG00000036448</th>\n",
       "      <td>0.010156</td>\n",
       "      <td>0.009172</td>\n",
       "      <td>0.029586</td>\n",
       "      <td>1.000000</td>\n",
       "      <td>0.008107</td>\n",
       "      <td>0.010894</td>\n",
       "      <td>0.007994</td>\n",
       "      <td>0.005563</td>\n",
       "      <td>0.009629</td>\n",
       "      <td>0.005914</td>\n",
       "      <td>...</td>\n",
       "      <td>0.004426</td>\n",
       "      <td>0.008704</td>\n",
       "      <td>0.005407</td>\n",
       "      <td>0.004688</td>\n",
       "      <td>0.006911</td>\n",
       "      <td>0.007968</td>\n",
       "      <td>0.006094</td>\n",
       "      <td>0.001531</td>\n",
       "      <td>0.003547</td>\n",
       "      <td>0.005336</td>\n",
       "    </tr>\n",
       "    <tr>\n",
       "      <th>ENSG00000091879</th>\n",
       "      <td>0.008627</td>\n",
       "      <td>0.007909</td>\n",
       "      <td>0.015373</td>\n",
       "      <td>0.008107</td>\n",
       "      <td>1.000000</td>\n",
       "      <td>0.098748</td>\n",
       "      <td>0.032149</td>\n",
       "      <td>0.005413</td>\n",
       "      <td>0.011595</td>\n",
       "      <td>0.006861</td>\n",
       "      <td>...</td>\n",
       "      <td>0.004385</td>\n",
       "      <td>0.005745</td>\n",
       "      <td>0.003638</td>\n",
       "      <td>0.002783</td>\n",
       "      <td>0.005626</td>\n",
       "      <td>0.006157</td>\n",
       "      <td>0.007570</td>\n",
       "      <td>0.000583</td>\n",
       "      <td>0.001599</td>\n",
       "      <td>0.002434</td>\n",
       "    </tr>\n",
       "  </tbody>\n",
       "</table>\n",
       "<p>5 rows × 222 columns</p>\n",
       "</div>"
      ],
      "text/plain": [
       "                 ENSG00000172748  ENSG00000182372  ENSG00000104728  \\\n",
       "ENSG00000172748         1.000000         0.008203         0.012194   \n",
       "ENSG00000182372         0.008203         1.000000         0.182559   \n",
       "ENSG00000104728         0.012194         0.182559         1.000000   \n",
       "ENSG00000036448         0.010156         0.009172         0.029586   \n",
       "ENSG00000091879         0.008627         0.007909         0.015373   \n",
       "\n",
       "                 ENSG00000036448  ENSG00000091879  ENSG00000155189  \\\n",
       "ENSG00000172748         0.010156         0.008627         0.009669   \n",
       "ENSG00000182372         0.009172         0.007909         0.006291   \n",
       "ENSG00000104728         0.029586         0.015373         0.016621   \n",
       "ENSG00000036448         1.000000         0.008107         0.010894   \n",
       "ENSG00000091879         0.008107         1.000000         0.098748   \n",
       "\n",
       "                 ENSG00000164821  ENSG00000253958  ENSG00000147324  \\\n",
       "ENSG00000172748         0.008393         0.005256         0.011801   \n",
       "ENSG00000182372         0.007841         0.004634         0.007929   \n",
       "ENSG00000104728         0.014423         0.008077         0.013431   \n",
       "ENSG00000036448         0.007994         0.005563         0.009629   \n",
       "ENSG00000091879         0.032149         0.005413         0.011595   \n",
       "\n",
       "                 ENSG00000173281  ...  ENSG00000071894  ENSG00000147804  \\\n",
       "ENSG00000172748         0.009020  ...         0.001993         0.006521   \n",
       "ENSG00000182372         0.008676  ...         0.001879         0.005246   \n",
       "ENSG00000104728         0.012562  ...         0.007317         0.013190   \n",
       "ENSG00000036448         0.005914  ...         0.004426         0.008704   \n",
       "ENSG00000091879         0.006861  ...         0.004385         0.005745   \n",
       "\n",
       "                 ENSG00000160948  ENSG00000160949  ENSG00000187954  \\\n",
       "ENSG00000172748         0.004225         0.006686         0.006165   \n",
       "ENSG00000182372         0.000381         0.003761         0.005085   \n",
       "ENSG00000104728         0.006235         0.009145         0.014295   \n",
       "ENSG00000036448         0.005407         0.004688         0.006911   \n",
       "ENSG00000091879         0.003638         0.002783         0.005626   \n",
       "\n",
       "                 ENSG00000160972  ENSG00000167701  ENSG00000161016  \\\n",
       "ENSG00000172748         0.006528         0.004982         0.003141   \n",
       "ENSG00000182372         0.008463         0.003099         0.000870   \n",
       "ENSG00000104728         0.012378         0.012044         0.006637   \n",
       "ENSG00000036448         0.007968         0.006094         0.001531   \n",
       "ENSG00000091879         0.006157         0.007570         0.000583   \n",
       "\n",
       "                 ENSG00000197363  ENSG00000196150  \n",
       "ENSG00000172748         0.005853         0.004734  \n",
       "ENSG00000182372         0.004974         0.004808  \n",
       "ENSG00000104728         0.011510         0.010221  \n",
       "ENSG00000036448         0.003547         0.005336  \n",
       "ENSG00000091879         0.001599         0.002434  \n",
       "\n",
       "[5 rows x 222 columns]"
      ]
     },
     "execution_count": 31,
     "metadata": {},
     "output_type": "execute_result"
    }
   ],
   "source": [
    "gene_corrs_df.head()"
   ]
  },
  {
   "cell_type": "markdown",
   "id": "dad6603f-01c6-41fb-a6f6-241051207dd8",
   "metadata": {
    "papermill": {
     "duration": 0.94308,
     "end_time": "2022-11-29T22:39:03.480167",
     "exception": false,
     "start_time": "2022-11-29T22:39:02.537087",
     "status": "completed"
    },
    "tags": []
   },
   "source": [
    "## Standard checks and stats"
   ]
  },
  {
   "cell_type": "code",
   "execution_count": 32,
   "id": "286686af-1b7b-4440-8453-6bdcbd8de19c",
   "metadata": {
    "execution": {
     "iopub.execute_input": "2022-11-29T22:39:05.448913Z",
     "iopub.status.busy": "2022-11-29T22:39:05.448502Z",
     "iopub.status.idle": "2022-11-29T22:39:05.469921Z",
     "shell.execute_reply": "2022-11-29T22:39:05.469237Z"
    },
    "papermill": {
     "duration": 1.037595,
     "end_time": "2022-11-29T22:39:05.470906",
     "exception": false,
     "start_time": "2022-11-29T22:39:04.433311",
     "status": "completed"
    },
    "tags": []
   },
   "outputs": [],
   "source": [
    "assert not gene_corrs_df.isna().any().any()"
   ]
  },
  {
   "cell_type": "code",
   "execution_count": 33,
   "id": "00583efc-7068-4270-ad1e-4a418e91db96",
   "metadata": {
    "execution": {
     "iopub.execute_input": "2022-11-29T22:39:07.348438Z",
     "iopub.status.busy": "2022-11-29T22:39:07.348021Z",
     "iopub.status.idle": "2022-11-29T22:39:07.370292Z",
     "shell.execute_reply": "2022-11-29T22:39:07.369689Z"
    },
    "papermill": {
     "duration": 0.951337,
     "end_time": "2022-11-29T22:39:07.371199",
     "exception": false,
     "start_time": "2022-11-29T22:39:06.419862",
     "status": "completed"
    },
    "tags": []
   },
   "outputs": [
    {
     "data": {
      "text/plain": [
       "1.5288509741727114e-06"
      ]
     },
     "metadata": {},
     "output_type": "display_data"
    }
   ],
   "source": [
    "_min_val = gene_corrs_df.min().min()\n",
    "display(_min_val)\n",
    "assert _min_val >= -0.05"
   ]
  },
  {
   "cell_type": "code",
   "execution_count": 34,
   "id": "d04fb2cf-1050-475b-b855-f5f7cc04092b",
   "metadata": {
    "execution": {
     "iopub.execute_input": "2022-11-29T22:39:09.321873Z",
     "iopub.status.busy": "2022-11-29T22:39:09.321295Z",
     "iopub.status.idle": "2022-11-29T22:39:09.346451Z",
     "shell.execute_reply": "2022-11-29T22:39:09.345758Z"
    },
    "papermill": {
     "duration": 1.004854,
     "end_time": "2022-11-29T22:39:09.347489",
     "exception": false,
     "start_time": "2022-11-29T22:39:08.342635",
     "status": "completed"
    },
    "tags": []
   },
   "outputs": [
    {
     "data": {
      "text/plain": [
       "1.0000000000000033"
      ]
     },
     "metadata": {},
     "output_type": "display_data"
    }
   ],
   "source": [
    "_max_val = gene_corrs_df.max().max()  # this captures the diagonal\n",
    "display(_max_val)\n",
    "assert _max_val <= 1.05"
   ]
  },
  {
   "cell_type": "code",
   "execution_count": 35,
   "id": "96d02c44-1fba-47be-8a93-8f2608420b9c",
   "metadata": {
    "execution": {
     "iopub.execute_input": "2022-11-29T22:39:11.353958Z",
     "iopub.status.busy": "2022-11-29T22:39:11.353492Z",
     "iopub.status.idle": "2022-11-29T22:39:11.375574Z",
     "shell.execute_reply": "2022-11-29T22:39:11.374872Z"
    },
    "papermill": {
     "duration": 1.061948,
     "end_time": "2022-11-29T22:39:11.376652",
     "exception": false,
     "start_time": "2022-11-29T22:39:10.314704",
     "status": "completed"
    },
    "tags": []
   },
   "outputs": [],
   "source": [
    "# check upper triangular values\n",
    "# assert len(gene_corrs) == int(genes_chr.shape[0] * (genes_chr.shape[0] - 1) / 2)"
   ]
  },
  {
   "cell_type": "code",
   "execution_count": 36,
   "id": "fe283586-c348-40e0-8841-f6d97bfb021c",
   "metadata": {
    "execution": {
     "iopub.execute_input": "2022-11-29T22:39:13.294166Z",
     "iopub.status.busy": "2022-11-29T22:39:13.293584Z",
     "iopub.status.idle": "2022-11-29T22:39:13.318363Z",
     "shell.execute_reply": "2022-11-29T22:39:13.317745Z"
    },
    "papermill": {
     "duration": 0.954125,
     "end_time": "2022-11-29T22:39:13.319202",
     "exception": false,
     "start_time": "2022-11-29T22:39:12.365077",
     "status": "completed"
    },
    "tags": []
   },
   "outputs": [
    {
     "data": {
      "text/plain": [
       "count    24753.000000\n",
       "mean         0.017053\n",
       "std          0.096611\n",
       "min          0.000002\n",
       "25%          0.004065\n",
       "50%          0.006152\n",
       "75%          0.008516\n",
       "max          1.000000\n",
       "dtype: float64"
      ]
     },
     "execution_count": 36,
     "metadata": {},
     "output_type": "execute_result"
    }
   ],
   "source": [
    "gene_corrs_flat.describe()"
   ]
  },
  {
   "cell_type": "code",
   "execution_count": 37,
   "id": "b3815678-0f93-4b35-897b-a9d047a2aa78",
   "metadata": {
    "execution": {
     "iopub.execute_input": "2022-11-29T22:39:15.200395Z",
     "iopub.status.busy": "2022-11-29T22:39:15.200082Z",
     "iopub.status.idle": "2022-11-29T22:39:15.224634Z",
     "shell.execute_reply": "2022-11-29T22:39:15.224045Z"
    },
    "papermill": {
     "duration": 0.942695,
     "end_time": "2022-11-29T22:39:15.225534",
     "exception": false,
     "start_time": "2022-11-29T22:39:14.282839",
     "status": "completed"
    },
    "tags": []
   },
   "outputs": [
    {
     "data": {
      "text/plain": [
       "0.00    0.000002\n",
       "0.05    0.001616\n",
       "0.10    0.002437\n",
       "0.15    0.003044\n",
       "0.20    0.003575\n",
       "0.25    0.004065\n",
       "0.30    0.004511\n",
       "0.35    0.004929\n",
       "0.40    0.005334\n",
       "0.45    0.005736\n",
       "0.50    0.006152\n",
       "0.55    0.006572\n",
       "0.60    0.006997\n",
       "0.65    0.007452\n",
       "0.70    0.007953\n",
       "0.75    0.008516\n",
       "0.80    0.009178\n",
       "0.85    0.010021\n",
       "0.90    0.011155\n",
       "0.95    0.013287\n",
       "dtype: float64"
      ]
     },
     "metadata": {},
     "output_type": "display_data"
    }
   ],
   "source": [
    "gene_corrs_quantiles = gene_corrs_flat.quantile(np.arange(0, 1, 0.05))\n",
    "display(gene_corrs_quantiles)"
   ]
  },
  {
   "cell_type": "markdown",
   "id": "87134509-b145-4a10-8bc9-b7e914c2b0fa",
   "metadata": {
    "papermill": {
     "duration": 0.949253,
     "end_time": "2022-11-29T22:39:17.079993",
     "exception": false,
     "start_time": "2022-11-29T22:39:16.130740",
     "status": "completed"
    },
    "tags": []
   },
   "source": [
    "## Positive definiteness"
   ]
  },
  {
   "cell_type": "code",
   "execution_count": 38,
   "id": "07d9a9a1-a4f7-48aa-b916-6d42a8cc6186",
   "metadata": {
    "execution": {
     "iopub.execute_input": "2022-11-29T22:39:18.909928Z",
     "iopub.status.busy": "2022-11-29T22:39:18.909516Z",
     "iopub.status.idle": "2022-11-29T22:39:18.946231Z",
     "shell.execute_reply": "2022-11-29T22:39:18.945642Z"
    },
    "papermill": {
     "duration": 0.954319,
     "end_time": "2022-11-29T22:39:18.947222",
     "exception": false,
     "start_time": "2022-11-29T22:39:17.992903",
     "status": "completed"
    },
    "tags": []
   },
   "outputs": [
    {
     "data": {
      "text/plain": [
       "0"
      ]
     },
     "metadata": {},
     "output_type": "display_data"
    },
    {
     "data": {
      "text/plain": [
       "array([], dtype=float64)"
      ]
     },
     "metadata": {},
     "output_type": "display_data"
    }
   ],
   "source": [
    "# print negative eigenvalues\n",
    "eigs = np.linalg.eigvals(gene_corrs_df.to_numpy())\n",
    "display(len(eigs[eigs < 0]))\n",
    "display(eigs[eigs < 0])"
   ]
  },
  {
   "cell_type": "code",
   "execution_count": 39,
   "id": "6e218436-c3c5-4028-8c94-a4fa6260efce",
   "metadata": {
    "execution": {
     "iopub.execute_input": "2022-11-29T22:39:20.938629Z",
     "iopub.status.busy": "2022-11-29T22:39:20.938229Z",
     "iopub.status.idle": "2022-11-29T22:39:20.962701Z",
     "shell.execute_reply": "2022-11-29T22:39:20.962051Z"
    },
    "papermill": {
     "duration": 1.047273,
     "end_time": "2022-11-29T22:39:20.963640",
     "exception": false,
     "start_time": "2022-11-29T22:39:19.916367",
     "status": "completed"
    },
    "tags": []
   },
   "outputs": [
    {
     "name": "stdout",
     "output_type": "stream",
     "text": [
      "Works!\n"
     ]
    }
   ],
   "source": [
    "try:\n",
    "    chol_mat = np.linalg.cholesky(gene_corrs_df.to_numpy())\n",
    "    cov_inv = np.linalg.inv(chol_mat)\n",
    "    print(\"Works!\")\n",
    "except Exception as e:\n",
    "    print(f\"Cholesky decomposition failed: {str(e)}\")"
   ]
  },
  {
   "cell_type": "code",
   "execution_count": 40,
   "id": "dd8827fb-faf9-4c7c-9454-015e94752706",
   "metadata": {
    "execution": {
     "iopub.execute_input": "2022-11-29T22:39:23.022548Z",
     "iopub.status.busy": "2022-11-29T22:39:23.022243Z",
     "iopub.status.idle": "2022-11-29T22:39:23.045999Z",
     "shell.execute_reply": "2022-11-29T22:39:23.045501Z"
    },
    "papermill": {
     "duration": 1.090088,
     "end_time": "2022-11-29T22:39:23.046828",
     "exception": false,
     "start_time": "2022-11-29T22:39:21.956740",
     "status": "completed"
    },
    "tags": []
   },
   "outputs": [
    {
     "name": "stdout",
     "output_type": "stream",
     "text": [
      "Works!\n"
     ]
    }
   ],
   "source": [
    "try:\n",
    "    # decomposition used by statsmodels.GLS\n",
    "    cholsigmainv = np.linalg.cholesky(np.linalg.inv(gene_corrs_df.to_numpy())).T\n",
    "    print(\"Works!\")\n",
    "except Exception as e:\n",
    "    print(f\"Cholesky decomposition failed (statsmodels.GLS): {str(e)}\")"
   ]
  },
  {
   "cell_type": "markdown",
   "id": "8e60a080-edb2-4e9c-b2ef-22961693200c",
   "metadata": {
    "papermill": {
     "duration": 0.970642,
     "end_time": "2022-11-29T22:39:24.994168",
     "exception": false,
     "start_time": "2022-11-29T22:39:24.023526",
     "status": "completed"
    },
    "tags": []
   },
   "source": [
    "## Plot: distribution"
   ]
  },
  {
   "cell_type": "code",
   "execution_count": 41,
   "id": "8301126b-a7d4-4744-9c7d-f0f86eb6f54c",
   "metadata": {
    "execution": {
     "iopub.execute_input": "2022-11-29T22:39:26.895364Z",
     "iopub.status.busy": "2022-11-29T22:39:26.894864Z",
     "iopub.status.idle": "2022-11-29T22:39:31.759020Z",
     "shell.execute_reply": "2022-11-29T22:39:31.758507Z"
    },
    "papermill": {
     "duration": 5.794958,
     "end_time": "2022-11-29T22:39:31.760297",
     "exception": false,
     "start_time": "2022-11-29T22:39:25.965339",
     "status": "completed"
    },
    "tags": []
   },
   "outputs": [
    {
     "data": {
      "image/png": "[encoded data removed]",
      "text/plain": [
       "<Figure size 700x700 with 1 Axes>"
      ]
     },
     "metadata": {},
     "output_type": "display_data"
    }
   ],
   "source": [
    "with sns.plotting_context(\"paper\", font_scale=1.5):\n",
    "    g = sns.displot(gene_corrs_flat, kde=True, height=7)\n",
    "    g.ax.set_title(\n",
    "        f\"Distribution of gene correlation values in chromosome {CHROMOSOME}\"\n",
    "    )"
   ]
  },
  {
   "cell_type": "markdown",
   "id": "cbd52bca-d878-4a2f-b684-5c83aa3038d4",
   "metadata": {
    "papermill": {
     "duration": 0.968746,
     "end_time": "2022-11-29T22:39:33.694597",
     "exception": false,
     "start_time": "2022-11-29T22:39:32.725851",
     "status": "completed"
    },
    "tags": []
   },
   "source": [
    "## Plot: heatmap"
   ]
  },
  {
   "cell_type": "code",
   "execution_count": 42,
   "id": "d03fe63a-c7b2-4fb9-a53c-db362ce843c9",
   "metadata": {
    "execution": {
     "iopub.execute_input": "2022-11-29T22:39:35.623067Z",
     "iopub.status.busy": "2022-11-29T22:39:35.622383Z",
     "iopub.status.idle": "2022-11-29T22:39:35.650486Z",
     "shell.execute_reply": "2022-11-29T22:39:35.649805Z"
    },
    "papermill": {
     "duration": 0.991447,
     "end_time": "2022-11-29T22:39:35.651493",
     "exception": false,
     "start_time": "2022-11-29T22:39:34.660046",
     "status": "completed"
    },
    "tags": []
   },
   "outputs": [
    {
     "data": {
      "text/plain": [
       "'0.0 / 0.05'"
      ]
     },
     "metadata": {},
     "output_type": "display_data"
    }
   ],
   "source": [
    "vmin_val = min(0.00, gene_corrs_quantiles[0.10])\n",
    "vmax_val = max(0.05, gene_corrs_quantiles[0.90])\n",
    "display(f\"{vmin_val} / {vmax_val}\")"
   ]
  },
  {
   "cell_type": "code",
   "execution_count": 43,
   "id": "dc41b70b-5bcc-4d9e-9f33-a22c4a94dab5",
   "metadata": {
    "execution": {
     "iopub.execute_input": "2022-11-29T22:39:37.611801Z",
     "iopub.status.busy": "2022-11-29T22:39:37.611107Z",
     "iopub.status.idle": "2022-11-29T22:39:37.850536Z",
     "shell.execute_reply": "2022-11-29T22:39:37.849984Z"
    },
    "papermill": {
     "duration": 1.174962,
     "end_time": "2022-11-29T22:39:37.852575",
     "exception": false,
     "start_time": "2022-11-29T22:39:36.677613",
     "status": "completed"
    },
    "tags": []
   },
   "outputs": [
    {
     "data": {
      "text/plain": [
       "Text(0.5, 1.0, 'Gene correlations in chromosome 8')"
      ]
     },
     "execution_count": 43,
     "metadata": {},
     "output_type": "execute_result"
    },
    {
     "data": {
      "image/png": "[encoded data removed]",
      "text/plain": [
       "<Figure size 1000x1000 with 2 Axes>"
      ]
     },
     "metadata": {},
     "output_type": "display_data"
    }
   ],
   "source": [
    "f, ax = plt.subplots(figsize=(10, 10))\n",
    "sns.heatmap(\n",
    "    gene_corrs_df,\n",
    "    xticklabels=False,\n",
    "    yticklabels=False,\n",
    "    square=True,\n",
    "    vmin=vmin_val,\n",
    "    vmax=vmax_val,\n",
    "    cmap=\"rocket_r\",\n",
    "    ax=ax,\n",
    ")\n",
    "ax.set_title(f\"Gene correlations in chromosome {CHROMOSOME}\")"
   ]
  },
  {
   "cell_type": "code",
   "execution_count": null,
   "id": "b25e3ead",
   "metadata": {
    "papermill": {
     "duration": 0.974956,
     "end_time": "2022-11-29T22:39:39.768004",
     "exception": false,
     "start_time": "2022-11-29T22:39:38.793048",
     "status": "completed"
    },
    "tags": []
   },
   "outputs": [],
   "source": []
  }
 ],
 "metadata": {
  "jupytext": {
   "cell_metadata_filter": "all,-execution,-papermill,-trusted",
   "formats": "ipynb,py//py:percent"
  },
  "kernelspec": {
   "display_name": "Python 3 (ipykernel)",
   "language": "python",
   "name": "python3"
  },
  "language_info": {
   "codemirror_mode": {
    "name": "ipython",
    "version": 3
   },
   "file_extension": ".py",
   "mimetype": "text/x-python",
   "name": "python",
   "nbconvert_exporter": "python",
   "pygments_lexer": "ipython3",
   "version": "3.10.6"
  },
  "papermill": {
   "default_parameters": {},
   "duration": 1032.530913,
   "end_time": "2022-11-29T22:39:43.519560",
   "environment_variables": {},
   "exception": null,
   "input_path": "projects/asthma-copd/nbs/20_gene_corrs/10-gene_expr_correlations.ipynb",
   "output_path": "projects/asthma-copd/nbs/20_gene_corrs/gene_corrs/asthma_only/10-gene_expr_correlations-chr8.run.ipynb",
   "parameters": {
    "CHROMOSOME": 8,
    "COHORT_NAME": "asthma_only",
    "OUTPUT_DIR_BASE": "/opt/data/projects/asthma-copd/results/gls_phenoplier"
   },
   "start_time": "2022-11-29T22:22:30.988647",
   "version": "2.2.2"
  }
 },
 "nbformat": 4,
 "nbformat_minor": 5
}
