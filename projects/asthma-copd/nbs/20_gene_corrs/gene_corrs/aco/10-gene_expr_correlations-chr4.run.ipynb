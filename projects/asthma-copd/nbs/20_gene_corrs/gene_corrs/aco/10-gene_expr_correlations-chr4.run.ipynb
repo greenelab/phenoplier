{
 "cells": [
  {
   "cell_type": "markdown",
   "id": "7a6632fb",
   "metadata": {
    "papermill": {
     "duration": 0.00896,
     "end_time": "2022-11-30T01:04:43.320328",
     "exception": false,
     "start_time": "2022-11-30T01:04:43.311368",
     "status": "completed"
    },
    "tags": []
   },
   "source": [
    "# Description"
   ]
  },
  {
   "cell_type": "markdown",
   "id": "7097c346",
   "metadata": {
    "papermill": {
     "duration": 0.008568,
     "end_time": "2022-11-30T01:04:43.338280",
     "exception": false,
     "start_time": "2022-11-30T01:04:43.329712",
     "status": "completed"
    },
    "tags": []
   },
   "source": [
    "(Please, take a look at the README.md file in this directory for instructions on how to run this notebook)\n",
    "\n",
    "This notebook computes predicted expression correlations between all genes in the MultiPLIER models.\n",
    "\n",
    "It has specicfic parameters for papermill (see under `Settings` below).\n",
    "It can be configured to run on a single chromosome to run in parallel.\n",
    "\n",
    "This notebook is not directly run. See README.md."
   ]
  },
  {
   "cell_type": "markdown",
   "id": "c61d8427",
   "metadata": {
    "papermill": {
     "duration": 0.008071,
     "end_time": "2022-11-30T01:04:43.354578",
     "exception": false,
     "start_time": "2022-11-30T01:04:43.346507",
     "status": "completed"
    },
    "tags": []
   },
   "source": [
    "# Modules"
   ]
  },
  {
   "cell_type": "code",
   "execution_count": 1,
   "id": "bbc0234f",
   "metadata": {
    "execution": {
     "iopub.execute_input": "2022-11-30T01:04:43.373121Z",
     "iopub.status.busy": "2022-11-30T01:04:43.372712Z",
     "iopub.status.idle": "2022-11-30T01:04:43.391520Z",
     "shell.execute_reply": "2022-11-30T01:04:43.390933Z"
    },
    "papermill": {
     "duration": 0.029646,
     "end_time": "2022-11-30T01:04:43.393128",
     "exception": false,
     "start_time": "2022-11-30T01:04:43.363482",
     "status": "completed"
    },
    "tags": []
   },
   "outputs": [],
   "source": [
    "%load_ext autoreload\n",
    "%autoreload 2"
   ]
  },
  {
   "cell_type": "code",
   "execution_count": 2,
   "id": "1d5f5a59",
   "metadata": {
    "execution": {
     "iopub.execute_input": "2022-11-30T01:04:43.411835Z",
     "iopub.status.busy": "2022-11-30T01:04:43.411255Z",
     "iopub.status.idle": "2022-11-30T01:04:44.110888Z",
     "shell.execute_reply": "2022-11-30T01:04:44.110349Z"
    },
    "papermill": {
     "duration": 0.710435,
     "end_time": "2022-11-30T01:04:44.112602",
     "exception": false,
     "start_time": "2022-11-30T01:04:43.402167",
     "status": "completed"
    },
    "tags": []
   },
   "outputs": [],
   "source": [
    "from random import sample, seed\n",
    "import warnings\n",
    "from pathlib import Path\n",
    "import pickle\n",
    "import traceback\n",
    "\n",
    "import numpy as np\n",
    "from scipy.spatial.distance import squareform\n",
    "import pandas as pd\n",
    "from tqdm import tqdm\n",
    "import matplotlib.pyplot as plt\n",
    "import seaborn as sns\n",
    "\n",
    "import conf\n",
    "from entity import Gene"
   ]
  },
  {
   "cell_type": "markdown",
   "id": "1eac24b5",
   "metadata": {
    "papermill": {
     "duration": 0.008237,
     "end_time": "2022-11-30T01:04:44.129466",
     "exception": false,
     "start_time": "2022-11-30T01:04:44.121229",
     "status": "completed"
    },
    "tags": []
   },
   "source": [
    "# Settings"
   ]
  },
  {
   "cell_type": "code",
   "execution_count": 3,
   "id": "ca4560ba",
   "metadata": {
    "execution": {
     "iopub.execute_input": "2022-11-30T01:04:44.146898Z",
     "iopub.status.busy": "2022-11-30T01:04:44.146623Z",
     "iopub.status.idle": "2022-11-30T01:04:44.160306Z",
     "shell.execute_reply": "2022-11-30T01:04:44.159837Z"
    },
    "papermill": {
     "duration": 0.023999,
     "end_time": "2022-11-30T01:04:44.161694",
     "exception": false,
     "start_time": "2022-11-30T01:04:44.137695",
     "status": "completed"
    },
    "tags": [
     "parameters"
    ]
   },
   "outputs": [],
   "source": [
    "# a cohort name (it could be something like UK_BIOBANK, etc)\n",
    "COHORT_NAME = None\n",
    "\n",
    "# reference panel such as 1000G or GTEX_V8\n",
    "REFERENCE_PANEL = \"GTEX_V8\"\n",
    "\n",
    "# predictions models such as MASHR or ELASTIC_NET\n",
    "EQTL_MODEL = \"MASHR\"\n",
    "\n",
    "# this is the default value used in S-MultiXcan to select the\n",
    "# top principal components of the expression correlation matrix\n",
    "SMULTIXCAN_CONDITION_NUMBER = 30\n",
    "\n",
    "# specifies a single chromosome value\n",
    "CHROMOSOME = None\n",
    "\n",
    "# If True, computes the correlation between closeby genes only;\n",
    "# otherwise, it computes correlations for all genes in a chromosome\n",
    "COMPUTE_CORRELATIONS_WITHIN_DISTANCE = False\n",
    "\n",
    "# if True, then it will continue if a gene pair correlation fails,\n",
    "# printing the warning/error for debugging. If False, any warning/error\n",
    "# will be thrown\n",
    "DEBUG_MODE = False\n",
    "\n",
    "# output dir\n",
    "OUTPUT_DIR_BASE = None"
   ]
  },
  {
   "cell_type": "code",
   "execution_count": 4,
   "id": "d08405cb",
   "metadata": {
    "execution": {
     "iopub.execute_input": "2022-11-30T01:04:44.179698Z",
     "iopub.status.busy": "2022-11-30T01:04:44.179406Z",
     "iopub.status.idle": "2022-11-30T01:04:44.192332Z",
     "shell.execute_reply": "2022-11-30T01:04:44.191849Z"
    },
    "papermill": {
     "duration": 0.023267,
     "end_time": "2022-11-30T01:04:44.193847",
     "exception": false,
     "start_time": "2022-11-30T01:04:44.170580",
     "status": "completed"
    },
    "tags": [
     "injected-parameters"
    ]
   },
   "outputs": [],
   "source": [
    "# Parameters\n",
    "COHORT_NAME = \"aco\"\n",
    "CHROMOSOME = 4\n",
    "OUTPUT_DIR_BASE = \"/opt/data/projects/asthma-copd/results/gls_phenoplier\"\n"
   ]
  },
  {
   "cell_type": "code",
   "execution_count": 5,
   "id": "3190631f-27fc-480f-b18e-571d580425a5",
   "metadata": {
    "execution": {
     "iopub.execute_input": "2022-11-30T01:04:44.211471Z",
     "iopub.status.busy": "2022-11-30T01:04:44.211344Z",
     "iopub.status.idle": "2022-11-30T01:04:44.228025Z",
     "shell.execute_reply": "2022-11-30T01:04:44.227569Z"
    },
    "papermill": {
     "duration": 0.026824,
     "end_time": "2022-11-30T01:04:44.229380",
     "exception": false,
     "start_time": "2022-11-30T01:04:44.202556",
     "status": "completed"
    },
    "tags": []
   },
   "outputs": [
    {
     "data": {
      "text/plain": [
       "'Cohort name: aco'"
      ]
     },
     "metadata": {},
     "output_type": "display_data"
    }
   ],
   "source": [
    "assert COHORT_NAME is not None and len(COHORT_NAME) > 0, \"A cohort name must be given\"\n",
    "\n",
    "COHORT_NAME = COHORT_NAME.lower()\n",
    "display(f\"Cohort name: {COHORT_NAME}\")"
   ]
  },
  {
   "cell_type": "code",
   "execution_count": 6,
   "id": "f53ba19b-0f93-4fa2-a047-63b375939d1a",
   "metadata": {
    "execution": {
     "iopub.execute_input": "2022-11-30T01:04:44.248125Z",
     "iopub.status.busy": "2022-11-30T01:04:44.247883Z",
     "iopub.status.idle": "2022-11-30T01:04:44.266275Z",
     "shell.execute_reply": "2022-11-30T01:04:44.265764Z"
    },
    "papermill": {
     "duration": 0.029369,
     "end_time": "2022-11-30T01:04:44.267714",
     "exception": false,
     "start_time": "2022-11-30T01:04:44.238345",
     "status": "completed"
    },
    "tags": []
   },
   "outputs": [
    {
     "data": {
      "text/plain": [
       "'Reference panel: GTEX_V8'"
      ]
     },
     "metadata": {},
     "output_type": "display_data"
    }
   ],
   "source": [
    "assert (\n",
    "    REFERENCE_PANEL is not None and len(REFERENCE_PANEL) > 0\n",
    "), \"A reference panel must be given\"\n",
    "\n",
    "display(f\"Reference panel: {REFERENCE_PANEL}\")"
   ]
  },
  {
   "cell_type": "code",
   "execution_count": 7,
   "id": "e024d130-c139-429a-9c6e-ccf149e297b0",
   "metadata": {
    "execution": {
     "iopub.execute_input": "2022-11-30T01:04:44.286169Z",
     "iopub.status.busy": "2022-11-30T01:04:44.285888Z",
     "iopub.status.idle": "2022-11-30T01:04:44.304449Z",
     "shell.execute_reply": "2022-11-30T01:04:44.303927Z"
    },
    "papermill": {
     "duration": 0.02922,
     "end_time": "2022-11-30T01:04:44.305863",
     "exception": false,
     "start_time": "2022-11-30T01:04:44.276643",
     "status": "completed"
    },
    "tags": []
   },
   "outputs": [
    {
     "data": {
      "text/plain": [
       "'eQTL model: MASHR) / mashr_'"
      ]
     },
     "metadata": {},
     "output_type": "display_data"
    }
   ],
   "source": [
    "assert (\n",
    "    EQTL_MODEL is not None and len(EQTL_MODEL) > 0\n",
    "), \"A prediction/eQTL model must be given\"\n",
    "\n",
    "EQTL_MODEL_FILES_PREFIX = conf.PHENOMEXCAN[\"PREDICTION_MODELS\"][f\"{EQTL_MODEL}_PREFIX\"]\n",
    "display(f\"eQTL model: {EQTL_MODEL}) / {EQTL_MODEL_FILES_PREFIX}\")"
   ]
  },
  {
   "cell_type": "code",
   "execution_count": 8,
   "id": "552a7f63-a18c-4d3e-bb6a-94f99b431291",
   "metadata": {
    "execution": {
     "iopub.execute_input": "2022-11-30T01:04:44.324929Z",
     "iopub.status.busy": "2022-11-30T01:04:44.324636Z",
     "iopub.status.idle": "2022-11-30T01:04:44.343121Z",
     "shell.execute_reply": "2022-11-30T01:04:44.342615Z"
    },
    "papermill": {
     "duration": 0.02981,
     "end_time": "2022-11-30T01:04:44.344592",
     "exception": false,
     "start_time": "2022-11-30T01:04:44.314782",
     "status": "completed"
    },
    "tags": []
   },
   "outputs": [
    {
     "data": {
      "text/plain": [
       "'S-MultiXcan condition number: 30'"
      ]
     },
     "metadata": {},
     "output_type": "display_data"
    }
   ],
   "source": [
    "assert (\n",
    "    SMULTIXCAN_CONDITION_NUMBER is not None and SMULTIXCAN_CONDITION_NUMBER > 0\n",
    "), \"The S-MultiXcan condition number (positive integer) must be given\"\n",
    "\n",
    "display(f\"S-MultiXcan condition number: {SMULTIXCAN_CONDITION_NUMBER}\")"
   ]
  },
  {
   "cell_type": "code",
   "execution_count": 9,
   "id": "f34a336f-548e-4afe-8955-90eaea4f42c6",
   "metadata": {
    "execution": {
     "iopub.execute_input": "2022-11-30T01:04:44.363666Z",
     "iopub.status.busy": "2022-11-30T01:04:44.363180Z",
     "iopub.status.idle": "2022-11-30T01:04:44.385980Z",
     "shell.execute_reply": "2022-11-30T01:04:44.385399Z"
    },
    "papermill": {
     "duration": 0.033692,
     "end_time": "2022-11-30T01:04:44.387372",
     "exception": false,
     "start_time": "2022-11-30T01:04:44.353680",
     "status": "completed"
    },
    "tags": []
   },
   "outputs": [
    {
     "data": {
      "text/plain": [
       "'Working on chromosome 4'"
      ]
     },
     "metadata": {},
     "output_type": "display_data"
    }
   ],
   "source": [
    "assert CHROMOSOME is not None and (\n",
    "    1 <= CHROMOSOME <= 22\n",
    "), \"You have to select one chromosome (format: number between 1 and 22)\"\n",
    "\n",
    "# CHROMOSOME = str(CHROMOSOME)\n",
    "display(f\"Working on chromosome {CHROMOSOME}\")"
   ]
  },
  {
   "cell_type": "code",
   "execution_count": 10,
   "id": "ab8e96e8-06b5-4363-9dcd-dc4d78cc27f7",
   "metadata": {
    "execution": {
     "iopub.execute_input": "2022-11-30T01:04:44.406622Z",
     "iopub.status.busy": "2022-11-30T01:04:44.406319Z",
     "iopub.status.idle": "2022-11-30T01:04:44.428958Z",
     "shell.execute_reply": "2022-11-30T01:04:44.428362Z"
    },
    "papermill": {
     "duration": 0.033864,
     "end_time": "2022-11-30T01:04:44.430439",
     "exception": false,
     "start_time": "2022-11-30T01:04:44.396575",
     "status": "completed"
    },
    "tags": []
   },
   "outputs": [
    {
     "data": {
      "text/plain": [
       "'Compute correlation within distance False'"
      ]
     },
     "metadata": {},
     "output_type": "display_data"
    }
   ],
   "source": [
    "display(f\"Compute correlation within distance {COMPUTE_CORRELATIONS_WITHIN_DISTANCE}\")"
   ]
  },
  {
   "cell_type": "code",
   "execution_count": 11,
   "id": "b393b698-77e3-4ba2-8ac1-e14d51aa988f",
   "metadata": {
    "execution": {
     "iopub.execute_input": "2022-11-30T01:04:44.450590Z",
     "iopub.status.busy": "2022-11-30T01:04:44.450275Z",
     "iopub.status.idle": "2022-11-30T01:04:44.474216Z",
     "shell.execute_reply": "2022-11-30T01:04:44.473634Z"
    },
    "papermill": {
     "duration": 0.035281,
     "end_time": "2022-11-30T01:04:44.475605",
     "exception": false,
     "start_time": "2022-11-30T01:04:44.440324",
     "status": "completed"
    },
    "tags": []
   },
   "outputs": [
    {
     "data": {
      "text/plain": [
       "'Using output dir base: /opt/data/projects/asthma-copd/results/gls_phenoplier/gene_corrs/aco'"
      ]
     },
     "metadata": {},
     "output_type": "display_data"
    }
   ],
   "source": [
    "assert (\n",
    "    OUTPUT_DIR_BASE is not None and len(OUTPUT_DIR_BASE) > 0\n",
    "), \"Output directory path must be given\"\n",
    "\n",
    "OUTPUT_DIR_BASE = (\n",
    "    Path(OUTPUT_DIR_BASE)\n",
    "    / \"gene_corrs\"\n",
    "    / COHORT_NAME\n",
    "    # / REFERENCE_PANEL.lower()\n",
    "    # / EQTL_MODEL.lower()\n",
    ").resolve()\n",
    "\n",
    "OUTPUT_DIR_BASE.mkdir(parents=True, exist_ok=True)\n",
    "\n",
    "display(f\"Using output dir base: {OUTPUT_DIR_BASE}\")"
   ]
  },
  {
   "cell_type": "markdown",
   "id": "d2ba085e",
   "metadata": {
    "papermill": {
     "duration": 0.009153,
     "end_time": "2022-11-30T01:04:44.494495",
     "exception": false,
     "start_time": "2022-11-30T01:04:44.485342",
     "status": "completed"
    },
    "tags": []
   },
   "source": [
    "# Load data"
   ]
  },
  {
   "cell_type": "markdown",
   "id": "7dcb8db7",
   "metadata": {
    "papermill": {
     "duration": 0.009651,
     "end_time": "2022-11-30T01:04:44.513453",
     "exception": false,
     "start_time": "2022-11-30T01:04:44.503802",
     "status": "completed"
    },
    "tags": []
   },
   "source": [
    "## GWAS variants"
   ]
  },
  {
   "cell_type": "code",
   "execution_count": 12,
   "id": "29434c4e-8cd3-4b9b-82e4-b5a251d9dd19",
   "metadata": {
    "execution": {
     "iopub.execute_input": "2022-11-30T01:04:44.532545Z",
     "iopub.status.busy": "2022-11-30T01:04:44.532191Z",
     "iopub.status.idle": "2022-11-30T01:04:46.653392Z",
     "shell.execute_reply": "2022-11-30T01:04:46.652888Z"
    },
    "papermill": {
     "duration": 2.132343,
     "end_time": "2022-11-30T01:04:46.655047",
     "exception": false,
     "start_time": "2022-11-30T01:04:44.522704",
     "status": "completed"
    },
    "tags": []
   },
   "outputs": [],
   "source": [
    "with open(OUTPUT_DIR_BASE / \"gwas_variant_ids.pkl\", \"rb\") as handle:\n",
    "    gwas_variants_ids_set = pickle.load(handle)"
   ]
  },
  {
   "cell_type": "code",
   "execution_count": 13,
   "id": "b9d9dec2-4a76-4bf9-bde2-e24c95acb8a0",
   "metadata": {
    "execution": {
     "iopub.execute_input": "2022-11-30T01:04:46.676141Z",
     "iopub.status.busy": "2022-11-30T01:04:46.675855Z",
     "iopub.status.idle": "2022-11-30T01:04:46.690027Z",
     "shell.execute_reply": "2022-11-30T01:04:46.689623Z"
    },
    "papermill": {
     "duration": 0.026539,
     "end_time": "2022-11-30T01:04:46.691326",
     "exception": false,
     "start_time": "2022-11-30T01:04:46.664787",
     "status": "completed"
    },
    "tags": []
   },
   "outputs": [
    {
     "data": {
      "text/plain": [
       "8561476"
      ]
     },
     "execution_count": 13,
     "metadata": {},
     "output_type": "execute_result"
    }
   ],
   "source": [
    "len(gwas_variants_ids_set)"
   ]
  },
  {
   "cell_type": "code",
   "execution_count": 14,
   "id": "4235b06a-6034-4ee4-a0a3-2ae35d122418",
   "metadata": {
    "execution": {
     "iopub.execute_input": "2022-11-30T01:04:46.711417Z",
     "iopub.status.busy": "2022-11-30T01:04:46.711165Z",
     "iopub.status.idle": "2022-11-30T01:04:47.106023Z",
     "shell.execute_reply": "2022-11-30T01:04:47.105631Z"
    },
    "papermill": {
     "duration": 0.406364,
     "end_time": "2022-11-30T01:04:47.107357",
     "exception": false,
     "start_time": "2022-11-30T01:04:46.700993",
     "status": "completed"
    },
    "tags": []
   },
   "outputs": [
    {
     "data": {
      "text/plain": [
       "['chr3_33071609_G_A_b38',\n",
       " 'chr14_64532162_T_C_b38',\n",
       " 'chr3_177478583_T_C_b38',\n",
       " 'chr6_150425747_G_C_b38',\n",
       " 'chr11_99497902_G_A_b38']"
      ]
     },
     "execution_count": 14,
     "metadata": {},
     "output_type": "execute_result"
    }
   ],
   "source": [
    "list(gwas_variants_ids_set)[:5]"
   ]
  },
  {
   "cell_type": "markdown",
   "id": "07866999-2305-41f9-a144-e69c9122c212",
   "metadata": {
    "papermill": {
     "duration": 0.010195,
     "end_time": "2022-11-30T01:04:47.127362",
     "exception": false,
     "start_time": "2022-11-30T01:04:47.117167",
     "status": "completed"
    },
    "tags": []
   },
   "source": [
    "## S-PrediXcan tissue models"
   ]
  },
  {
   "cell_type": "code",
   "execution_count": 15,
   "id": "780611d9-77c8-405f-90a4-f271f7b09397",
   "metadata": {
    "execution": {
     "iopub.execute_input": "2022-11-30T01:04:47.147765Z",
     "iopub.status.busy": "2022-11-30T01:04:47.147474Z",
     "iopub.status.idle": "2022-11-30T01:04:47.786054Z",
     "shell.execute_reply": "2022-11-30T01:04:47.785592Z"
    },
    "papermill": {
     "duration": 0.650451,
     "end_time": "2022-11-30T01:04:47.787678",
     "exception": false,
     "start_time": "2022-11-30T01:04:47.137227",
     "status": "completed"
    },
    "tags": []
   },
   "outputs": [],
   "source": [
    "spredixcan_genes_models = pd.read_pickle(OUTPUT_DIR_BASE / \"gene_tissues.pkl\")"
   ]
  },
  {
   "cell_type": "code",
   "execution_count": 16,
   "id": "726dd1f6-9557-4225-91fa-b3b879ea96e1",
   "metadata": {
    "execution": {
     "iopub.execute_input": "2022-11-30T01:04:47.808466Z",
     "iopub.status.busy": "2022-11-30T01:04:47.808157Z",
     "iopub.status.idle": "2022-11-30T01:04:47.822830Z",
     "shell.execute_reply": "2022-11-30T01:04:47.822409Z"
    },
    "papermill": {
     "duration": 0.026556,
     "end_time": "2022-11-30T01:04:47.824183",
     "exception": false,
     "start_time": "2022-11-30T01:04:47.797627",
     "status": "completed"
    },
    "tags": []
   },
   "outputs": [
    {
     "data": {
      "text/plain": [
       "(6442, 5)"
      ]
     },
     "execution_count": 16,
     "metadata": {},
     "output_type": "execute_result"
    }
   ],
   "source": [
    "spredixcan_genes_models.shape"
   ]
  },
  {
   "cell_type": "code",
   "execution_count": 17,
   "id": "944a1b48-222c-4eb0-b252-b9de2cbca215",
   "metadata": {
    "execution": {
     "iopub.execute_input": "2022-11-30T01:04:47.845421Z",
     "iopub.status.busy": "2022-11-30T01:04:47.845163Z",
     "iopub.status.idle": "2022-11-30T01:04:47.875573Z",
     "shell.execute_reply": "2022-11-30T01:04:47.875036Z"
    },
    "papermill": {
     "duration": 0.042396,
     "end_time": "2022-11-30T01:04:47.877000",
     "exception": false,
     "start_time": "2022-11-30T01:04:47.834604",
     "status": "completed"
    },
    "tags": []
   },
   "outputs": [
    {
     "data": {
      "text/html": [
       "<div>\n",
       "<style scoped>\n",
       "    .dataframe tbody tr th:only-of-type {\n",
       "        vertical-align: middle;\n",
       "    }\n",
       "\n",
       "    .dataframe tbody tr th {\n",
       "        vertical-align: top;\n",
       "    }\n",
       "\n",
       "    .dataframe thead th {\n",
       "        text-align: right;\n",
       "    }\n",
       "</style>\n",
       "<table border=\"1\" class=\"dataframe\">\n",
       "  <thead>\n",
       "    <tr style=\"text-align: right;\">\n",
       "      <th></th>\n",
       "      <th>gene_name</th>\n",
       "      <th>tissue</th>\n",
       "      <th>n_tissues</th>\n",
       "      <th>n_snps_used_sum</th>\n",
       "      <th>n_snps_in_model_sum</th>\n",
       "    </tr>\n",
       "    <tr>\n",
       "      <th>gene_id</th>\n",
       "      <th></th>\n",
       "      <th></th>\n",
       "      <th></th>\n",
       "      <th></th>\n",
       "      <th></th>\n",
       "    </tr>\n",
       "  </thead>\n",
       "  <tbody>\n",
       "    <tr>\n",
       "      <th>ENSG00000000419</th>\n",
       "      <td>DPM1</td>\n",
       "      <td>(Brain_Hypothalamus, Brain_Substantia_nigra)</td>\n",
       "      <td>2</td>\n",
       "      <td>2</td>\n",
       "      <td>2</td>\n",
       "    </tr>\n",
       "    <tr>\n",
       "      <th>ENSG00000000938</th>\n",
       "      <td>FGR</td>\n",
       "      <td>(Brain_Spinal_cord_cervical_c-1, Adipose_Visce...</td>\n",
       "      <td>36</td>\n",
       "      <td>40</td>\n",
       "      <td>40</td>\n",
       "    </tr>\n",
       "    <tr>\n",
       "      <th>ENSG00000000971</th>\n",
       "      <td>CFH</td>\n",
       "      <td>(Brain_Spinal_cord_cervical_c-1, Uterus, Arter...</td>\n",
       "      <td>34</td>\n",
       "      <td>44</td>\n",
       "      <td>44</td>\n",
       "    </tr>\n",
       "    <tr>\n",
       "      <th>ENSG00000001084</th>\n",
       "      <td>GCLC</td>\n",
       "      <td>(Artery_Tibial, Cells_EBV-transformed_lymphocy...</td>\n",
       "      <td>32</td>\n",
       "      <td>46</td>\n",
       "      <td>46</td>\n",
       "    </tr>\n",
       "    <tr>\n",
       "      <th>ENSG00000001167</th>\n",
       "      <td>NFYA</td>\n",
       "      <td>(Brain_Spinal_cord_cervical_c-1, Adipose_Visce...</td>\n",
       "      <td>40</td>\n",
       "      <td>47</td>\n",
       "      <td>48</td>\n",
       "    </tr>\n",
       "  </tbody>\n",
       "</table>\n",
       "</div>"
      ],
      "text/plain": [
       "                gene_name                                             tissue  \\\n",
       "gene_id                                                                        \n",
       "ENSG00000000419      DPM1       (Brain_Hypothalamus, Brain_Substantia_nigra)   \n",
       "ENSG00000000938       FGR  (Brain_Spinal_cord_cervical_c-1, Adipose_Visce...   \n",
       "ENSG00000000971       CFH  (Brain_Spinal_cord_cervical_c-1, Uterus, Arter...   \n",
       "ENSG00000001084      GCLC  (Artery_Tibial, Cells_EBV-transformed_lymphocy...   \n",
       "ENSG00000001167      NFYA  (Brain_Spinal_cord_cervical_c-1, Adipose_Visce...   \n",
       "\n",
       "                 n_tissues  n_snps_used_sum  n_snps_in_model_sum  \n",
       "gene_id                                                           \n",
       "ENSG00000000419          2                2                    2  \n",
       "ENSG00000000938         36               40                   40  \n",
       "ENSG00000000971         34               44                   44  \n",
       "ENSG00000001084         32               46                   46  \n",
       "ENSG00000001167         40               47                   48  "
      ]
     },
     "execution_count": 17,
     "metadata": {},
     "output_type": "execute_result"
    }
   ],
   "source": [
    "spredixcan_genes_models.head()"
   ]
  },
  {
   "cell_type": "code",
   "execution_count": 18,
   "id": "d1c11bb1-be0b-4f40-b360-633d6827109f",
   "metadata": {
    "execution": {
     "iopub.execute_input": "2022-11-30T01:04:47.898450Z",
     "iopub.status.busy": "2022-11-30T01:04:47.898174Z",
     "iopub.status.idle": "2022-11-30T01:04:47.920741Z",
     "shell.execute_reply": "2022-11-30T01:04:47.920149Z"
    },
    "papermill": {
     "duration": 0.034971,
     "end_time": "2022-11-30T01:04:47.922176",
     "exception": false,
     "start_time": "2022-11-30T01:04:47.887205",
     "status": "completed"
    },
    "tags": []
   },
   "outputs": [],
   "source": [
    "assert spredixcan_genes_models.index.is_unique"
   ]
  },
  {
   "cell_type": "markdown",
   "id": "a5b5092c-a13e-47c4-a92a-480fcc08f3ae",
   "metadata": {
    "papermill": {
     "duration": 0.00998,
     "end_time": "2022-11-30T01:04:47.942776",
     "exception": false,
     "start_time": "2022-11-30T01:04:47.932796",
     "status": "completed"
    },
    "tags": []
   },
   "source": [
    "## Gene info"
   ]
  },
  {
   "cell_type": "code",
   "execution_count": 19,
   "id": "7d6bb224-88e9-4358-ac10-43a41d92cdad",
   "metadata": {
    "execution": {
     "iopub.execute_input": "2022-11-30T01:04:47.964670Z",
     "iopub.status.busy": "2022-11-30T01:04:47.964069Z",
     "iopub.status.idle": "2022-11-30T01:04:47.988650Z",
     "shell.execute_reply": "2022-11-30T01:04:47.988072Z"
    },
    "papermill": {
     "duration": 0.03718,
     "end_time": "2022-11-30T01:04:47.990042",
     "exception": false,
     "start_time": "2022-11-30T01:04:47.952862",
     "status": "completed"
    },
    "tags": []
   },
   "outputs": [],
   "source": [
    "genes_info = pd.read_pickle(OUTPUT_DIR_BASE / \"genes_info.pkl\")"
   ]
  },
  {
   "cell_type": "code",
   "execution_count": 20,
   "id": "9e32abfa-546d-483e-8c18-d526e9e05903",
   "metadata": {
    "execution": {
     "iopub.execute_input": "2022-11-30T01:04:48.011837Z",
     "iopub.status.busy": "2022-11-30T01:04:48.011569Z",
     "iopub.status.idle": "2022-11-30T01:04:48.034575Z",
     "shell.execute_reply": "2022-11-30T01:04:48.034045Z"
    },
    "papermill": {
     "duration": 0.035385,
     "end_time": "2022-11-30T01:04:48.035936",
     "exception": false,
     "start_time": "2022-11-30T01:04:48.000551",
     "status": "completed"
    },
    "tags": []
   },
   "outputs": [
    {
     "data": {
      "text/plain": [
       "(6442, 7)"
      ]
     },
     "execution_count": 20,
     "metadata": {},
     "output_type": "execute_result"
    }
   ],
   "source": [
    "genes_info.shape"
   ]
  },
  {
   "cell_type": "code",
   "execution_count": 21,
   "id": "d16c3e92-85ec-468a-9a56-e25a9774a1cb",
   "metadata": {
    "execution": {
     "iopub.execute_input": "2022-11-30T01:04:48.058235Z",
     "iopub.status.busy": "2022-11-30T01:04:48.057953Z",
     "iopub.status.idle": "2022-11-30T01:04:48.085607Z",
     "shell.execute_reply": "2022-11-30T01:04:48.085066Z"
    },
    "papermill": {
     "duration": 0.040635,
     "end_time": "2022-11-30T01:04:48.086980",
     "exception": false,
     "start_time": "2022-11-30T01:04:48.046345",
     "status": "completed"
    },
    "tags": []
   },
   "outputs": [
    {
     "data": {
      "text/html": [
       "<div>\n",
       "<style scoped>\n",
       "    .dataframe tbody tr th:only-of-type {\n",
       "        vertical-align: middle;\n",
       "    }\n",
       "\n",
       "    .dataframe tbody tr th {\n",
       "        vertical-align: top;\n",
       "    }\n",
       "\n",
       "    .dataframe thead th {\n",
       "        text-align: right;\n",
       "    }\n",
       "</style>\n",
       "<table border=\"1\" class=\"dataframe\">\n",
       "  <thead>\n",
       "    <tr style=\"text-align: right;\">\n",
       "      <th></th>\n",
       "      <th>name</th>\n",
       "      <th>id</th>\n",
       "      <th>chr</th>\n",
       "      <th>band</th>\n",
       "      <th>start_position</th>\n",
       "      <th>end_position</th>\n",
       "      <th>gene_length</th>\n",
       "    </tr>\n",
       "  </thead>\n",
       "  <tbody>\n",
       "    <tr>\n",
       "      <th>0</th>\n",
       "      <td>IFIT3</td>\n",
       "      <td>ENSG00000119917</td>\n",
       "      <td>10</td>\n",
       "      <td>10q23.31</td>\n",
       "      <td>89327997</td>\n",
       "      <td>89340971</td>\n",
       "      <td>12974</td>\n",
       "    </tr>\n",
       "    <tr>\n",
       "      <th>1</th>\n",
       "      <td>ZFP36</td>\n",
       "      <td>ENSG00000128016</td>\n",
       "      <td>19</td>\n",
       "      <td>19q13.2</td>\n",
       "      <td>39406813</td>\n",
       "      <td>39409412</td>\n",
       "      <td>2599</td>\n",
       "    </tr>\n",
       "    <tr>\n",
       "      <th>2</th>\n",
       "      <td>ZNF597</td>\n",
       "      <td>ENSG00000167981</td>\n",
       "      <td>16</td>\n",
       "      <td>16p13.3</td>\n",
       "      <td>3432414</td>\n",
       "      <td>3443504</td>\n",
       "      <td>11090</td>\n",
       "    </tr>\n",
       "    <tr>\n",
       "      <th>3</th>\n",
       "      <td>AGPS</td>\n",
       "      <td>ENSG00000018510</td>\n",
       "      <td>2</td>\n",
       "      <td>2q31.2</td>\n",
       "      <td>177392768</td>\n",
       "      <td>177559299</td>\n",
       "      <td>166531</td>\n",
       "    </tr>\n",
       "    <tr>\n",
       "      <th>4</th>\n",
       "      <td>CDK2</td>\n",
       "      <td>ENSG00000123374</td>\n",
       "      <td>12</td>\n",
       "      <td>12q13.2</td>\n",
       "      <td>55966781</td>\n",
       "      <td>55972789</td>\n",
       "      <td>6008</td>\n",
       "    </tr>\n",
       "  </tbody>\n",
       "</table>\n",
       "</div>"
      ],
      "text/plain": [
       "     name               id  chr      band  start_position  end_position  \\\n",
       "0   IFIT3  ENSG00000119917   10  10q23.31        89327997      89340971   \n",
       "1   ZFP36  ENSG00000128016   19   19q13.2        39406813      39409412   \n",
       "2  ZNF597  ENSG00000167981   16   16p13.3         3432414       3443504   \n",
       "3    AGPS  ENSG00000018510    2    2q31.2       177392768     177559299   \n",
       "4    CDK2  ENSG00000123374   12   12q13.2        55966781      55972789   \n",
       "\n",
       "   gene_length  \n",
       "0        12974  \n",
       "1         2599  \n",
       "2        11090  \n",
       "3       166531  \n",
       "4         6008  "
      ]
     },
     "execution_count": 21,
     "metadata": {},
     "output_type": "execute_result"
    }
   ],
   "source": [
    "genes_info.head()"
   ]
  },
  {
   "cell_type": "markdown",
   "id": "d3843e06",
   "metadata": {
    "papermill": {
     "duration": 0.010441,
     "end_time": "2022-11-30T01:04:48.108130",
     "exception": false,
     "start_time": "2022-11-30T01:04:48.097689",
     "status": "completed"
    },
    "tags": []
   },
   "source": [
    "# Compute correlations"
   ]
  },
  {
   "cell_type": "code",
   "execution_count": 22,
   "id": "cb859c15-d1f3-4006-a74c-2b83c0db9611",
   "metadata": {
    "execution": {
     "iopub.execute_input": "2022-11-30T01:04:48.130733Z",
     "iopub.status.busy": "2022-11-30T01:04:48.130465Z",
     "iopub.status.idle": "2022-11-30T01:04:48.153938Z",
     "shell.execute_reply": "2022-11-30T01:04:48.153409Z"
    },
    "papermill": {
     "duration": 0.036678,
     "end_time": "2022-11-30T01:04:48.155309",
     "exception": false,
     "start_time": "2022-11-30T01:04:48.118631",
     "status": "completed"
    },
    "tags": []
   },
   "outputs": [
    {
     "data": {
      "text/plain": [
       "PosixPath('/opt/data/projects/asthma-copd/results/gls_phenoplier/gene_corrs/aco/by_chr/gene_corrs-chr4.pkl')"
      ]
     },
     "metadata": {},
     "output_type": "display_data"
    }
   ],
   "source": [
    "output_dir = OUTPUT_DIR_BASE / \"by_chr\"\n",
    "output_dir.mkdir(exist_ok=True, parents=True)\n",
    "output_file = output_dir / f\"gene_corrs-chr{CHROMOSOME}.pkl\"\n",
    "display(output_file)"
   ]
  },
  {
   "cell_type": "code",
   "execution_count": 23,
   "id": "aa674fe4-6794-4eed-98fa-32b39d1d4ace",
   "metadata": {
    "execution": {
     "iopub.execute_input": "2022-11-30T01:04:48.178029Z",
     "iopub.status.busy": "2022-11-30T01:04:48.177762Z",
     "iopub.status.idle": "2022-11-30T01:04:48.199483Z",
     "shell.execute_reply": "2022-11-30T01:04:48.198921Z"
    },
    "papermill": {
     "duration": 0.034683,
     "end_time": "2022-11-30T01:04:48.200896",
     "exception": false,
     "start_time": "2022-11-30T01:04:48.166213",
     "status": "completed"
    },
    "tags": []
   },
   "outputs": [],
   "source": [
    "warnings.filterwarnings(\"error\")"
   ]
  },
  {
   "cell_type": "code",
   "execution_count": 24,
   "id": "44d5450b-3baf-43f1-9e2e-4b06f1a785f8",
   "metadata": {
    "execution": {
     "iopub.execute_input": "2022-11-30T01:04:48.223963Z",
     "iopub.status.busy": "2022-11-30T01:04:48.223696Z",
     "iopub.status.idle": "2022-11-30T01:04:48.246613Z",
     "shell.execute_reply": "2022-11-30T01:04:48.246049Z"
    },
    "papermill": {
     "duration": 0.035948,
     "end_time": "2022-11-30T01:04:48.248026",
     "exception": false,
     "start_time": "2022-11-30T01:04:48.212078",
     "status": "completed"
    },
    "tags": []
   },
   "outputs": [],
   "source": [
    "# standard checks\n",
    "all_chrs = genes_info[\"chr\"].dropna().unique()\n",
    "assert all_chrs.shape[0] == 22\n",
    "\n",
    "# select chromosome given by the user\n",
    "assert CHROMOSOME in all_chrs"
   ]
  },
  {
   "cell_type": "code",
   "execution_count": 25,
   "id": "2d7c043c-92a7-4d35-991b-fa69ac1e0268",
   "metadata": {
    "execution": {
     "iopub.execute_input": "2022-11-30T01:04:48.271391Z",
     "iopub.status.busy": "2022-11-30T01:04:48.270835Z",
     "iopub.status.idle": "2022-11-30T01:04:48.295100Z",
     "shell.execute_reply": "2022-11-30T01:04:48.294550Z"
    },
    "papermill": {
     "duration": 0.037331,
     "end_time": "2022-11-30T01:04:48.296478",
     "exception": false,
     "start_time": "2022-11-30T01:04:48.259147",
     "status": "completed"
    },
    "tags": []
   },
   "outputs": [
    {
     "name": "stdout",
     "output_type": "stream",
     "text": [
      "Number of genes in chromosome: 244\n"
     ]
    }
   ],
   "source": [
    "# run only on the chromosome specified\n",
    "all_chrs = [CHROMOSOME]\n",
    "genes_chr = genes_info[genes_info[\"chr\"] == CHROMOSOME]\n",
    "\n",
    "# For testing purposes\n",
    "# genes_chr = genes_chr.sample(n=20)\n",
    "\n",
    "print(f\"Number of genes in chromosome: {genes_chr.shape[0]}\", flush=True)"
   ]
  },
  {
   "cell_type": "code",
   "execution_count": 26,
   "id": "916015d8-2979-46d3-a9b9-1cf5a0932c6a",
   "metadata": {
    "execution": {
     "iopub.execute_input": "2022-11-30T01:04:48.320291Z",
     "iopub.status.busy": "2022-11-30T01:04:48.319742Z",
     "iopub.status.idle": "2022-11-30T01:04:48.342386Z",
     "shell.execute_reply": "2022-11-30T01:04:48.341806Z"
    },
    "papermill": {
     "duration": 0.035859,
     "end_time": "2022-11-30T01:04:48.343792",
     "exception": false,
     "start_time": "2022-11-30T01:04:48.307933",
     "status": "completed"
    },
    "tags": []
   },
   "outputs": [],
   "source": [
    "# sort genes by starting position to make visualizations better later\n",
    "genes_chr = genes_chr.sort_values(\"start_position\")"
   ]
  },
  {
   "cell_type": "code",
   "execution_count": 27,
   "id": "a38aa74a-8ad3-47f6-8ef9-56be0e011774",
   "metadata": {
    "execution": {
     "iopub.execute_input": "2022-11-30T01:04:48.367804Z",
     "iopub.status.busy": "2022-11-30T01:04:48.367223Z",
     "iopub.status.idle": "2022-11-30T01:04:48.390384Z",
     "shell.execute_reply": "2022-11-30T01:04:48.389757Z"
    },
    "papermill": {
     "duration": 0.036779,
     "end_time": "2022-11-30T01:04:48.391794",
     "exception": false,
     "start_time": "2022-11-30T01:04:48.355015",
     "status": "completed"
    },
    "tags": []
   },
   "outputs": [],
   "source": [
    "gene_chr_objs = [Gene(ensembl_id=gene_id) for gene_id in genes_chr[\"id\"]]"
   ]
  },
  {
   "cell_type": "code",
   "execution_count": 28,
   "id": "570f974f-13c3-42b6-ad3a-ce99ca885c1a",
   "metadata": {
    "execution": {
     "iopub.execute_input": "2022-11-30T01:04:48.415516Z",
     "iopub.status.busy": "2022-11-30T01:04:48.414926Z",
     "iopub.status.idle": "2022-11-30T01:04:48.438556Z",
     "shell.execute_reply": "2022-11-30T01:04:48.438011Z"
    },
    "papermill": {
     "duration": 0.037051,
     "end_time": "2022-11-30T01:04:48.439915",
     "exception": false,
     "start_time": "2022-11-30T01:04:48.402864",
     "status": "completed"
    },
    "tags": []
   },
   "outputs": [
    {
     "name": "stdout",
     "output_type": "stream",
     "text": [
      "Number of gene combinations: 29890\n"
     ]
    }
   ],
   "source": [
    "n = len(gene_chr_objs)\n",
    "# diagonal elements + upper triangular matrix\n",
    "n_comb = n + int(n * (n - 1) / 2.0)\n",
    "print(f\"Number of gene combinations: {n_comb}\", flush=True)"
   ]
  },
  {
   "cell_type": "code",
   "execution_count": 29,
   "id": "cdbb90a1",
   "metadata": {
    "execution": {
     "iopub.execute_input": "2022-11-30T01:04:48.464110Z",
     "iopub.status.busy": "2022-11-30T01:04:48.463573Z",
     "iopub.status.idle": "2022-11-30T01:24:30.512066Z",
     "shell.execute_reply": "2022-11-30T01:24:30.511501Z"
    },
    "papermill": {
     "duration": 1182.061541,
     "end_time": "2022-11-30T01:24:30.513005",
     "exception": false,
     "start_time": "2022-11-30T01:04:48.451464",
     "status": "completed"
    },
    "tags": []
   },
   "outputs": [
    {
     "name": "stderr",
     "output_type": "stream",
     "text": [
      "ENSG00000109536 / ENSG00000109536: 100%|██████████████████████| 29890/29890 [19:42<00:00, 25.29it/s]\n"
     ]
    },
    {
     "data": {
      "text/plain": [
       "PosixPath('/opt/data/projects/asthma-copd/results/gls_phenoplier/gene_corrs/aco/by_chr/gene_corrs-chr4.pkl')"
      ]
     },
     "metadata": {},
     "output_type": "display_data"
    }
   ],
   "source": [
    "gene_corrs = []\n",
    "gene_corrs_data = np.full(\n",
    "    (n, n),\n",
    "    np.nan,\n",
    "    dtype=np.float64,\n",
    ")\n",
    "\n",
    "i = 0\n",
    "with tqdm(ncols=100, total=n_comb) as pbar:\n",
    "    for gene1_idx in range(0, len(gene_chr_objs)):\n",
    "        gene1_obj = gene_chr_objs[gene1_idx]\n",
    "        gene1_tissues = spredixcan_genes_models.loc[gene1_obj.ensembl_id, \"tissue\"]\n",
    "\n",
    "        for gene2_idx in range(gene1_idx, len(gene_chr_objs)):\n",
    "            gene2_obj = gene_chr_objs[gene2_idx]\n",
    "            gene2_tissues = spredixcan_genes_models.loc[gene2_obj.ensembl_id, \"tissue\"]\n",
    "\n",
    "            pbar.set_description(f\"{gene1_obj.ensembl_id} / {gene2_obj.ensembl_id}\")\n",
    "\n",
    "            try:\n",
    "                r = gene1_obj.get_ssm_correlation(\n",
    "                    other_gene=gene2_obj,\n",
    "                    tissues=gene1_tissues,\n",
    "                    other_tissues=gene2_tissues,\n",
    "                    snps_subset=gwas_variants_ids_set,\n",
    "                    condition_number=SMULTIXCAN_CONDITION_NUMBER,\n",
    "                    reference_panel=REFERENCE_PANEL,\n",
    "                    model_type=EQTL_MODEL,\n",
    "                    use_within_distance=COMPUTE_CORRELATIONS_WITHIN_DISTANCE,\n",
    "                )\n",
    "\n",
    "                if r is None:\n",
    "                    # if r is None, it's very likely because:\n",
    "                    #  * one of the genes has no prediction models\n",
    "                    #  * all the SNPs predictors for the gene are not present in the reference\n",
    "                    #    panel\n",
    "\n",
    "                    r = 0.0\n",
    "\n",
    "                gene_corrs.append(r)\n",
    "\n",
    "                gene_corrs_data[gene1_idx, gene2_idx] = r\n",
    "                gene_corrs_data[gene2_idx, gene1_idx] = r\n",
    "            except Warning as e:\n",
    "                if not DEBUG_MODE:\n",
    "                    raise e\n",
    "\n",
    "                print(\n",
    "                    f\"RuntimeWarning for genes {gene1_obj.ensembl_id} and {gene2_obj.ensembl_id}\",\n",
    "                    flush=True,\n",
    "                )\n",
    "                print(traceback.format_exc(), flush=True)\n",
    "\n",
    "                gene_corrs.append(np.nan)\n",
    "            except Exception as e:\n",
    "                if not DEBUG_MODE:\n",
    "                    raise e\n",
    "\n",
    "                print(\n",
    "                    f\"Exception for genes {gene1_obj.ensembl_id} and {gene2_obj.ensembl_id}\",\n",
    "                    flush=True,\n",
    "                )\n",
    "                print(traceback.format_exc(), flush=True)\n",
    "\n",
    "                gene_corrs.append(np.nan)\n",
    "\n",
    "            pbar.update(1)\n",
    "\n",
    "# create a pandas series\n",
    "gene_corrs_flat = pd.Series(gene_corrs)\n",
    "\n",
    "# save\n",
    "# FIXME: consider saving only the condenced matrix here. See here for\n",
    "# more details: https://github.com/greenelab/phenoplier/pull/38#discussion_r634600813\n",
    "# gene_corrs_data = squareform(np.array(gene_corrs, dtype=np.float64))\n",
    "# np.fill_diagonal(gene_corrs_data, 1.0)\n",
    "\n",
    "gene_chr_ids = [g.ensembl_id for g in gene_chr_objs]\n",
    "gene_corrs_df = pd.DataFrame(\n",
    "    data=gene_corrs_data,\n",
    "    index=gene_chr_ids,\n",
    "    columns=gene_chr_ids,\n",
    ")\n",
    "\n",
    "output_dir.mkdir(exist_ok=True, parents=True)\n",
    "display(output_file)\n",
    "\n",
    "gene_corrs_df.to_pickle(output_file)"
   ]
  },
  {
   "cell_type": "markdown",
   "id": "faa67b51-5373-470f-aa72-2ded53fa6dfe",
   "metadata": {
    "papermill": {
     "duration": 1.175957,
     "end_time": "2022-11-30T01:24:32.967697",
     "exception": false,
     "start_time": "2022-11-30T01:24:31.791740",
     "status": "completed"
    },
    "tags": []
   },
   "source": [
    "# Testing"
   ]
  },
  {
   "cell_type": "code",
   "execution_count": 30,
   "id": "14f7d046-4b55-4896-a56b-990127bcc388",
   "metadata": {
    "execution": {
     "iopub.execute_input": "2022-11-30T01:24:35.304823Z",
     "iopub.status.busy": "2022-11-30T01:24:35.304524Z",
     "iopub.status.idle": "2022-11-30T01:24:35.319595Z",
     "shell.execute_reply": "2022-11-30T01:24:35.318961Z"
    },
    "papermill": {
     "duration": 1.151105,
     "end_time": "2022-11-30T01:24:35.320655",
     "exception": false,
     "start_time": "2022-11-30T01:24:34.169550",
     "status": "completed"
    },
    "tags": []
   },
   "outputs": [
    {
     "data": {
      "text/plain": [
       "(244, 244)"
      ]
     },
     "execution_count": 30,
     "metadata": {},
     "output_type": "execute_result"
    }
   ],
   "source": [
    "gene_corrs_df.shape"
   ]
  },
  {
   "cell_type": "code",
   "execution_count": 31,
   "id": "c7d15414-3297-4537-a7c6-7588c0baeb75",
   "metadata": {
    "execution": {
     "iopub.execute_input": "2022-11-30T01:24:37.661223Z",
     "iopub.status.busy": "2022-11-30T01:24:37.660503Z",
     "iopub.status.idle": "2022-11-30T01:24:37.700562Z",
     "shell.execute_reply": "2022-11-30T01:24:37.699919Z"
    },
    "papermill": {
     "duration": 1.224541,
     "end_time": "2022-11-30T01:24:37.701604",
     "exception": false,
     "start_time": "2022-11-30T01:24:36.477063",
     "status": "completed"
    },
    "tags": []
   },
   "outputs": [
    {
     "data": {
      "text/html": [
       "<div>\n",
       "<style scoped>\n",
       "    .dataframe tbody tr th:only-of-type {\n",
       "        vertical-align: middle;\n",
       "    }\n",
       "\n",
       "    .dataframe tbody tr th {\n",
       "        vertical-align: top;\n",
       "    }\n",
       "\n",
       "    .dataframe thead th {\n",
       "        text-align: right;\n",
       "    }\n",
       "</style>\n",
       "<table border=\"1\" class=\"dataframe\">\n",
       "  <thead>\n",
       "    <tr style=\"text-align: right;\">\n",
       "      <th></th>\n",
       "      <th>ENSG00000272602</th>\n",
       "      <th>ENSG00000131127</th>\n",
       "      <th>ENSG00000174227</th>\n",
       "      <th>ENSG00000133256</th>\n",
       "      <th>ENSG00000169020</th>\n",
       "      <th>ENSG00000215375</th>\n",
       "      <th>ENSG00000169026</th>\n",
       "      <th>ENSG00000178950</th>\n",
       "      <th>ENSG00000145214</th>\n",
       "      <th>ENSG00000145217</th>\n",
       "      <th>...</th>\n",
       "      <th>ENSG00000109674</th>\n",
       "      <th>ENSG00000038002</th>\n",
       "      <th>ENSG00000129187</th>\n",
       "      <th>ENSG00000168310</th>\n",
       "      <th>ENSG00000164305</th>\n",
       "      <th>ENSG00000151726</th>\n",
       "      <th>ENSG00000151729</th>\n",
       "      <th>ENSG00000164342</th>\n",
       "      <th>ENSG00000164344</th>\n",
       "      <th>ENSG00000109536</th>\n",
       "    </tr>\n",
       "  </thead>\n",
       "  <tbody>\n",
       "    <tr>\n",
       "      <th>ENSG00000272602</th>\n",
       "      <td>1.000000</td>\n",
       "      <td>0.055217</td>\n",
       "      <td>0.168507</td>\n",
       "      <td>0.099181</td>\n",
       "      <td>0.096555</td>\n",
       "      <td>0.045839</td>\n",
       "      <td>0.058575</td>\n",
       "      <td>0.012272</td>\n",
       "      <td>0.006584</td>\n",
       "      <td>0.001559</td>\n",
       "      <td>...</td>\n",
       "      <td>0.011115</td>\n",
       "      <td>0.012911</td>\n",
       "      <td>0.010104</td>\n",
       "      <td>0.011093</td>\n",
       "      <td>0.008498</td>\n",
       "      <td>0.005795</td>\n",
       "      <td>0.009951</td>\n",
       "      <td>0.006863</td>\n",
       "      <td>0.005682</td>\n",
       "      <td>0.007268</td>\n",
       "    </tr>\n",
       "    <tr>\n",
       "      <th>ENSG00000131127</th>\n",
       "      <td>0.055217</td>\n",
       "      <td>1.000000</td>\n",
       "      <td>0.263330</td>\n",
       "      <td>0.071177</td>\n",
       "      <td>0.036538</td>\n",
       "      <td>0.034526</td>\n",
       "      <td>0.042024</td>\n",
       "      <td>0.007476</td>\n",
       "      <td>0.009562</td>\n",
       "      <td>0.002483</td>\n",
       "      <td>...</td>\n",
       "      <td>0.007869</td>\n",
       "      <td>0.008687</td>\n",
       "      <td>0.004431</td>\n",
       "      <td>0.010204</td>\n",
       "      <td>0.003890</td>\n",
       "      <td>0.008139</td>\n",
       "      <td>0.007795</td>\n",
       "      <td>0.006752</td>\n",
       "      <td>0.005565</td>\n",
       "      <td>0.002690</td>\n",
       "    </tr>\n",
       "    <tr>\n",
       "      <th>ENSG00000174227</th>\n",
       "      <td>0.168507</td>\n",
       "      <td>0.263330</td>\n",
       "      <td>1.000000</td>\n",
       "      <td>0.317910</td>\n",
       "      <td>0.158097</td>\n",
       "      <td>0.069939</td>\n",
       "      <td>0.100279</td>\n",
       "      <td>0.007931</td>\n",
       "      <td>0.008272</td>\n",
       "      <td>0.004041</td>\n",
       "      <td>...</td>\n",
       "      <td>0.007229</td>\n",
       "      <td>0.010414</td>\n",
       "      <td>0.011521</td>\n",
       "      <td>0.006669</td>\n",
       "      <td>0.005326</td>\n",
       "      <td>0.006427</td>\n",
       "      <td>0.006670</td>\n",
       "      <td>0.006782</td>\n",
       "      <td>0.007465</td>\n",
       "      <td>0.002279</td>\n",
       "    </tr>\n",
       "    <tr>\n",
       "      <th>ENSG00000133256</th>\n",
       "      <td>0.099181</td>\n",
       "      <td>0.071177</td>\n",
       "      <td>0.317910</td>\n",
       "      <td>1.000000</td>\n",
       "      <td>0.261069</td>\n",
       "      <td>0.202711</td>\n",
       "      <td>0.229258</td>\n",
       "      <td>0.018131</td>\n",
       "      <td>0.011481</td>\n",
       "      <td>0.002283</td>\n",
       "      <td>...</td>\n",
       "      <td>0.011668</td>\n",
       "      <td>0.012308</td>\n",
       "      <td>0.009555</td>\n",
       "      <td>0.007413</td>\n",
       "      <td>0.005696</td>\n",
       "      <td>0.005566</td>\n",
       "      <td>0.007196</td>\n",
       "      <td>0.009710</td>\n",
       "      <td>0.005898</td>\n",
       "      <td>0.006999</td>\n",
       "    </tr>\n",
       "    <tr>\n",
       "      <th>ENSG00000169020</th>\n",
       "      <td>0.096555</td>\n",
       "      <td>0.036538</td>\n",
       "      <td>0.158097</td>\n",
       "      <td>0.261069</td>\n",
       "      <td>1.000000</td>\n",
       "      <td>0.153616</td>\n",
       "      <td>0.232199</td>\n",
       "      <td>0.006056</td>\n",
       "      <td>0.006638</td>\n",
       "      <td>0.001911</td>\n",
       "      <td>...</td>\n",
       "      <td>0.001696</td>\n",
       "      <td>0.002152</td>\n",
       "      <td>0.004611</td>\n",
       "      <td>0.003805</td>\n",
       "      <td>0.000369</td>\n",
       "      <td>0.003265</td>\n",
       "      <td>0.002594</td>\n",
       "      <td>0.001654</td>\n",
       "      <td>0.001619</td>\n",
       "      <td>0.002050</td>\n",
       "    </tr>\n",
       "  </tbody>\n",
       "</table>\n",
       "<p>5 rows × 244 columns</p>\n",
       "</div>"
      ],
      "text/plain": [
       "                 ENSG00000272602  ENSG00000131127  ENSG00000174227  \\\n",
       "ENSG00000272602         1.000000         0.055217         0.168507   \n",
       "ENSG00000131127         0.055217         1.000000         0.263330   \n",
       "ENSG00000174227         0.168507         0.263330         1.000000   \n",
       "ENSG00000133256         0.099181         0.071177         0.317910   \n",
       "ENSG00000169020         0.096555         0.036538         0.158097   \n",
       "\n",
       "                 ENSG00000133256  ENSG00000169020  ENSG00000215375  \\\n",
       "ENSG00000272602         0.099181         0.096555         0.045839   \n",
       "ENSG00000131127         0.071177         0.036538         0.034526   \n",
       "ENSG00000174227         0.317910         0.158097         0.069939   \n",
       "ENSG00000133256         1.000000         0.261069         0.202711   \n",
       "ENSG00000169020         0.261069         1.000000         0.153616   \n",
       "\n",
       "                 ENSG00000169026  ENSG00000178950  ENSG00000145214  \\\n",
       "ENSG00000272602         0.058575         0.012272         0.006584   \n",
       "ENSG00000131127         0.042024         0.007476         0.009562   \n",
       "ENSG00000174227         0.100279         0.007931         0.008272   \n",
       "ENSG00000133256         0.229258         0.018131         0.011481   \n",
       "ENSG00000169020         0.232199         0.006056         0.006638   \n",
       "\n",
       "                 ENSG00000145217  ...  ENSG00000109674  ENSG00000038002  \\\n",
       "ENSG00000272602         0.001559  ...         0.011115         0.012911   \n",
       "ENSG00000131127         0.002483  ...         0.007869         0.008687   \n",
       "ENSG00000174227         0.004041  ...         0.007229         0.010414   \n",
       "ENSG00000133256         0.002283  ...         0.011668         0.012308   \n",
       "ENSG00000169020         0.001911  ...         0.001696         0.002152   \n",
       "\n",
       "                 ENSG00000129187  ENSG00000168310  ENSG00000164305  \\\n",
       "ENSG00000272602         0.010104         0.011093         0.008498   \n",
       "ENSG00000131127         0.004431         0.010204         0.003890   \n",
       "ENSG00000174227         0.011521         0.006669         0.005326   \n",
       "ENSG00000133256         0.009555         0.007413         0.005696   \n",
       "ENSG00000169020         0.004611         0.003805         0.000369   \n",
       "\n",
       "                 ENSG00000151726  ENSG00000151729  ENSG00000164342  \\\n",
       "ENSG00000272602         0.005795         0.009951         0.006863   \n",
       "ENSG00000131127         0.008139         0.007795         0.006752   \n",
       "ENSG00000174227         0.006427         0.006670         0.006782   \n",
       "ENSG00000133256         0.005566         0.007196         0.009710   \n",
       "ENSG00000169020         0.003265         0.002594         0.001654   \n",
       "\n",
       "                 ENSG00000164344  ENSG00000109536  \n",
       "ENSG00000272602         0.005682         0.007268  \n",
       "ENSG00000131127         0.005565         0.002690  \n",
       "ENSG00000174227         0.007465         0.002279  \n",
       "ENSG00000133256         0.005898         0.006999  \n",
       "ENSG00000169020         0.001619         0.002050  \n",
       "\n",
       "[5 rows x 244 columns]"
      ]
     },
     "execution_count": 31,
     "metadata": {},
     "output_type": "execute_result"
    }
   ],
   "source": [
    "gene_corrs_df.head()"
   ]
  },
  {
   "cell_type": "markdown",
   "id": "dad6603f-01c6-41fb-a6f6-241051207dd8",
   "metadata": {
    "papermill": {
     "duration": 1.10844,
     "end_time": "2022-11-30T01:24:39.965792",
     "exception": false,
     "start_time": "2022-11-30T01:24:38.857352",
     "status": "completed"
    },
    "tags": []
   },
   "source": [
    "## Standard checks and stats"
   ]
  },
  {
   "cell_type": "code",
   "execution_count": 32,
   "id": "286686af-1b7b-4440-8453-6bdcbd8de19c",
   "metadata": {
    "execution": {
     "iopub.execute_input": "2022-11-30T01:24:42.295174Z",
     "iopub.status.busy": "2022-11-30T01:24:42.294883Z",
     "iopub.status.idle": "2022-11-30T01:24:42.309491Z",
     "shell.execute_reply": "2022-11-30T01:24:42.308917Z"
    },
    "papermill": {
     "duration": 1.13396,
     "end_time": "2022-11-30T01:24:42.310550",
     "exception": false,
     "start_time": "2022-11-30T01:24:41.176590",
     "status": "completed"
    },
    "tags": []
   },
   "outputs": [],
   "source": [
    "assert not gene_corrs_df.isna().any().any()"
   ]
  },
  {
   "cell_type": "code",
   "execution_count": 33,
   "id": "00583efc-7068-4270-ad1e-4a418e91db96",
   "metadata": {
    "execution": {
     "iopub.execute_input": "2022-11-30T01:24:44.623678Z",
     "iopub.status.busy": "2022-11-30T01:24:44.622955Z",
     "iopub.status.idle": "2022-11-30T01:24:44.649046Z",
     "shell.execute_reply": "2022-11-30T01:24:44.648342Z"
    },
    "papermill": {
     "duration": 1.156681,
     "end_time": "2022-11-30T01:24:44.650094",
     "exception": false,
     "start_time": "2022-11-30T01:24:43.493413",
     "status": "completed"
    },
    "tags": []
   },
   "outputs": [
    {
     "data": {
      "text/plain": [
       "4.997967428501778e-09"
      ]
     },
     "metadata": {},
     "output_type": "display_data"
    }
   ],
   "source": [
    "_min_val = gene_corrs_df.min().min()\n",
    "display(_min_val)\n",
    "assert _min_val >= -0.05"
   ]
  },
  {
   "cell_type": "code",
   "execution_count": 34,
   "id": "d04fb2cf-1050-475b-b855-f5f7cc04092b",
   "metadata": {
    "execution": {
     "iopub.execute_input": "2022-11-30T01:24:46.997883Z",
     "iopub.status.busy": "2022-11-30T01:24:46.997556Z",
     "iopub.status.idle": "2022-11-30T01:24:47.023883Z",
     "shell.execute_reply": "2022-11-30T01:24:47.023241Z"
    },
    "papermill": {
     "duration": 1.181114,
     "end_time": "2022-11-30T01:24:47.024794",
     "exception": false,
     "start_time": "2022-11-30T01:24:45.843680",
     "status": "completed"
    },
    "tags": []
   },
   "outputs": [
    {
     "data": {
      "text/plain": [
       "1.000000000000003"
      ]
     },
     "metadata": {},
     "output_type": "display_data"
    }
   ],
   "source": [
    "_max_val = gene_corrs_df.max().max()  # this captures the diagonal\n",
    "display(_max_val)\n",
    "assert _max_val <= 1.05"
   ]
  },
  {
   "cell_type": "code",
   "execution_count": 35,
   "id": "96d02c44-1fba-47be-8a93-8f2608420b9c",
   "metadata": {
    "execution": {
     "iopub.execute_input": "2022-11-30T01:24:49.294056Z",
     "iopub.status.busy": "2022-11-30T01:24:49.293609Z",
     "iopub.status.idle": "2022-11-30T01:24:49.316481Z",
     "shell.execute_reply": "2022-11-30T01:24:49.315765Z"
    },
    "papermill": {
     "duration": 1.185724,
     "end_time": "2022-11-30T01:24:49.317615",
     "exception": false,
     "start_time": "2022-11-30T01:24:48.131891",
     "status": "completed"
    },
    "tags": []
   },
   "outputs": [],
   "source": [
    "# check upper triangular values\n",
    "# assert len(gene_corrs) == int(genes_chr.shape[0] * (genes_chr.shape[0] - 1) / 2)"
   ]
  },
  {
   "cell_type": "code",
   "execution_count": 36,
   "id": "fe283586-c348-40e0-8841-f6d97bfb021c",
   "metadata": {
    "execution": {
     "iopub.execute_input": "2022-11-30T01:24:51.616032Z",
     "iopub.status.busy": "2022-11-30T01:24:51.615736Z",
     "iopub.status.idle": "2022-11-30T01:24:51.633610Z",
     "shell.execute_reply": "2022-11-30T01:24:51.633053Z"
    },
    "papermill": {
     "duration": 1.193081,
     "end_time": "2022-11-30T01:24:51.634544",
     "exception": false,
     "start_time": "2022-11-30T01:24:50.441463",
     "status": "completed"
    },
    "tags": []
   },
   "outputs": [
    {
     "data": {
      "text/plain": [
       "count    2.989000e+04\n",
       "mean     1.530327e-02\n",
       "std      9.210048e-02\n",
       "min      4.997967e-09\n",
       "25%      3.624449e-03\n",
       "50%      5.670143e-03\n",
       "75%      7.976838e-03\n",
       "max      1.000000e+00\n",
       "dtype: float64"
      ]
     },
     "execution_count": 36,
     "metadata": {},
     "output_type": "execute_result"
    }
   ],
   "source": [
    "gene_corrs_flat.describe()"
   ]
  },
  {
   "cell_type": "code",
   "execution_count": 37,
   "id": "b3815678-0f93-4b35-897b-a9d047a2aa78",
   "metadata": {
    "execution": {
     "iopub.execute_input": "2022-11-30T01:24:53.916841Z",
     "iopub.status.busy": "2022-11-30T01:24:53.916519Z",
     "iopub.status.idle": "2022-11-30T01:24:53.944884Z",
     "shell.execute_reply": "2022-11-30T01:24:53.944182Z"
    },
    "papermill": {
     "duration": 1.183713,
     "end_time": "2022-11-30T01:24:53.945844",
     "exception": false,
     "start_time": "2022-11-30T01:24:52.762131",
     "status": "completed"
    },
    "tags": []
   },
   "outputs": [
    {
     "data": {
      "text/plain": [
       "0.00    4.997967e-09\n",
       "0.05    1.334442e-03\n",
       "0.10    2.075965e-03\n",
       "0.15    2.665746e-03\n",
       "0.20    3.179358e-03\n",
       "0.25    3.624449e-03\n",
       "0.30    4.059161e-03\n",
       "0.35    4.489101e-03\n",
       "0.40    4.881395e-03\n",
       "0.45    5.273474e-03\n",
       "0.50    5.670143e-03\n",
       "0.55    6.071869e-03\n",
       "0.60    6.496146e-03\n",
       "0.65    6.930919e-03\n",
       "0.70    7.429845e-03\n",
       "0.75    7.976838e-03\n",
       "0.80    8.595529e-03\n",
       "0.85    9.348007e-03\n",
       "0.90    1.040394e-02\n",
       "0.95    1.218037e-02\n",
       "dtype: float64"
      ]
     },
     "metadata": {},
     "output_type": "display_data"
    }
   ],
   "source": [
    "gene_corrs_quantiles = gene_corrs_flat.quantile(np.arange(0, 1, 0.05))\n",
    "display(gene_corrs_quantiles)"
   ]
  },
  {
   "cell_type": "markdown",
   "id": "87134509-b145-4a10-8bc9-b7e914c2b0fa",
   "metadata": {
    "papermill": {
     "duration": 1.135054,
     "end_time": "2022-11-30T01:24:56.243119",
     "exception": false,
     "start_time": "2022-11-30T01:24:55.108065",
     "status": "completed"
    },
    "tags": []
   },
   "source": [
    "## Positive definiteness"
   ]
  },
  {
   "cell_type": "code",
   "execution_count": 38,
   "id": "07d9a9a1-a4f7-48aa-b916-6d42a8cc6186",
   "metadata": {
    "execution": {
     "iopub.execute_input": "2022-11-30T01:24:58.517797Z",
     "iopub.status.busy": "2022-11-30T01:24:58.517111Z",
     "iopub.status.idle": "2022-11-30T01:24:58.559644Z",
     "shell.execute_reply": "2022-11-30T01:24:58.558988Z"
    },
    "papermill": {
     "duration": 1.201708,
     "end_time": "2022-11-30T01:24:58.560557",
     "exception": false,
     "start_time": "2022-11-30T01:24:57.358849",
     "status": "completed"
    },
    "tags": []
   },
   "outputs": [
    {
     "data": {
      "text/plain": [
       "0"
      ]
     },
     "metadata": {},
     "output_type": "display_data"
    },
    {
     "data": {
      "text/plain": [
       "array([], dtype=float64)"
      ]
     },
     "metadata": {},
     "output_type": "display_data"
    }
   ],
   "source": [
    "# print negative eigenvalues\n",
    "eigs = np.linalg.eigvals(gene_corrs_df.to_numpy())\n",
    "display(len(eigs[eigs < 0]))\n",
    "display(eigs[eigs < 0])"
   ]
  },
  {
   "cell_type": "code",
   "execution_count": 39,
   "id": "6e218436-c3c5-4028-8c94-a4fa6260efce",
   "metadata": {
    "execution": {
     "iopub.execute_input": "2022-11-30T01:25:00.841107Z",
     "iopub.status.busy": "2022-11-30T01:25:00.840880Z",
     "iopub.status.idle": "2022-11-30T01:25:00.858489Z",
     "shell.execute_reply": "2022-11-30T01:25:00.857911Z"
    },
    "papermill": {
     "duration": 1.181016,
     "end_time": "2022-11-30T01:25:00.859431",
     "exception": false,
     "start_time": "2022-11-30T01:24:59.678415",
     "status": "completed"
    },
    "tags": []
   },
   "outputs": [
    {
     "name": "stdout",
     "output_type": "stream",
     "text": [
      "Works!\n"
     ]
    }
   ],
   "source": [
    "try:\n",
    "    chol_mat = np.linalg.cholesky(gene_corrs_df.to_numpy())\n",
    "    cov_inv = np.linalg.inv(chol_mat)\n",
    "    print(\"Works!\")\n",
    "except Exception as e:\n",
    "    print(f\"Cholesky decomposition failed: {str(e)}\")"
   ]
  },
  {
   "cell_type": "code",
   "execution_count": 40,
   "id": "dd8827fb-faf9-4c7c-9454-015e94752706",
   "metadata": {
    "execution": {
     "iopub.execute_input": "2022-11-30T01:25:03.128176Z",
     "iopub.status.busy": "2022-11-30T01:25:03.127769Z",
     "iopub.status.idle": "2022-11-30T01:25:03.155622Z",
     "shell.execute_reply": "2022-11-30T01:25:03.154915Z"
    },
    "papermill": {
     "duration": 1.192041,
     "end_time": "2022-11-30T01:25:03.156472",
     "exception": false,
     "start_time": "2022-11-30T01:25:01.964431",
     "status": "completed"
    },
    "tags": []
   },
   "outputs": [
    {
     "name": "stdout",
     "output_type": "stream",
     "text": [
      "Works!\n"
     ]
    }
   ],
   "source": [
    "try:\n",
    "    # decomposition used by statsmodels.GLS\n",
    "    cholsigmainv = np.linalg.cholesky(np.linalg.inv(gene_corrs_df.to_numpy())).T\n",
    "    print(\"Works!\")\n",
    "except Exception as e:\n",
    "    print(f\"Cholesky decomposition failed (statsmodels.GLS): {str(e)}\")"
   ]
  },
  {
   "cell_type": "markdown",
   "id": "8e60a080-edb2-4e9c-b2ef-22961693200c",
   "metadata": {
    "papermill": {
     "duration": 1.151605,
     "end_time": "2022-11-30T01:25:05.429434",
     "exception": false,
     "start_time": "2022-11-30T01:25:04.277829",
     "status": "completed"
    },
    "tags": []
   },
   "source": [
    "## Plot: distribution"
   ]
  },
  {
   "cell_type": "code",
   "execution_count": 41,
   "id": "8301126b-a7d4-4744-9c7d-f0f86eb6f54c",
   "metadata": {
    "execution": {
     "iopub.execute_input": "2022-11-30T01:25:07.663131Z",
     "iopub.status.busy": "2022-11-30T01:25:07.662831Z",
     "iopub.status.idle": "2022-11-30T01:25:12.952873Z",
     "shell.execute_reply": "2022-11-30T01:25:12.952379Z"
    },
    "papermill": {
     "duration": 6.403435,
     "end_time": "2022-11-30T01:25:12.954768",
     "exception": false,
     "start_time": "2022-11-30T01:25:06.551333",
     "status": "completed"
    },
    "tags": []
   },
   "outputs": [
    {
     "data": {
      "image/png": "[encoded data removed]",
      "text/plain": [
       "<Figure size 700x700 with 1 Axes>"
      ]
     },
     "metadata": {},
     "output_type": "display_data"
    }
   ],
   "source": [
    "with sns.plotting_context(\"paper\", font_scale=1.5):\n",
    "    g = sns.displot(gene_corrs_flat, kde=True, height=7)\n",
    "    g.ax.set_title(\n",
    "        f\"Distribution of gene correlation values in chromosome {CHROMOSOME}\"\n",
    "    )"
   ]
  },
  {
   "cell_type": "markdown",
   "id": "cbd52bca-d878-4a2f-b684-5c83aa3038d4",
   "metadata": {
    "papermill": {
     "duration": 1.161891,
     "end_time": "2022-11-30T01:25:15.369597",
     "exception": false,
     "start_time": "2022-11-30T01:25:14.207706",
     "status": "completed"
    },
    "tags": []
   },
   "source": [
    "## Plot: heatmap"
   ]
  },
  {
   "cell_type": "code",
   "execution_count": 42,
   "id": "d03fe63a-c7b2-4fb9-a53c-db362ce843c9",
   "metadata": {
    "execution": {
     "iopub.execute_input": "2022-11-30T01:25:17.799926Z",
     "iopub.status.busy": "2022-11-30T01:25:17.799366Z",
     "iopub.status.idle": "2022-11-30T01:25:17.822971Z",
     "shell.execute_reply": "2022-11-30T01:25:17.822340Z"
    },
    "papermill": {
     "duration": 1.204951,
     "end_time": "2022-11-30T01:25:17.823907",
     "exception": false,
     "start_time": "2022-11-30T01:25:16.618956",
     "status": "completed"
    },
    "tags": []
   },
   "outputs": [
    {
     "data": {
      "text/plain": [
       "'0.0 / 0.05'"
      ]
     },
     "metadata": {},
     "output_type": "display_data"
    }
   ],
   "source": [
    "vmin_val = min(0.00, gene_corrs_quantiles[0.10])\n",
    "vmax_val = max(0.05, gene_corrs_quantiles[0.90])\n",
    "display(f\"{vmin_val} / {vmax_val}\")"
   ]
  },
  {
   "cell_type": "code",
   "execution_count": 43,
   "id": "dc41b70b-5bcc-4d9e-9f33-a22c4a94dab5",
   "metadata": {
    "execution": {
     "iopub.execute_input": "2022-11-30T01:25:20.093733Z",
     "iopub.status.busy": "2022-11-30T01:25:20.093125Z",
     "iopub.status.idle": "2022-11-30T01:25:20.321676Z",
     "shell.execute_reply": "2022-11-30T01:25:20.321142Z"
    },
    "papermill": {
     "duration": 1.33979,
     "end_time": "2022-11-30T01:25:20.322653",
     "exception": false,
     "start_time": "2022-11-30T01:25:18.982863",
     "status": "completed"
    },
    "tags": []
   },
   "outputs": [
    {
     "data": {
      "text/plain": [
       "Text(0.5, 1.0, 'Gene correlations in chromosome 4')"
      ]
     },
     "execution_count": 43,
     "metadata": {},
     "output_type": "execute_result"
    },
    {
     "data": {
      "image/png": "[encoded data removed]",
      "text/plain": [
       "<Figure size 1000x1000 with 2 Axes>"
      ]
     },
     "metadata": {},
     "output_type": "display_data"
    }
   ],
   "source": [
    "f, ax = plt.subplots(figsize=(10, 10))\n",
    "sns.heatmap(\n",
    "    gene_corrs_df,\n",
    "    xticklabels=False,\n",
    "    yticklabels=False,\n",
    "    square=True,\n",
    "    vmin=vmin_val,\n",
    "    vmax=vmax_val,\n",
    "    cmap=\"rocket_r\",\n",
    "    ax=ax,\n",
    ")\n",
    "ax.set_title(f\"Gene correlations in chromosome {CHROMOSOME}\")"
   ]
  },
  {
   "cell_type": "code",
   "execution_count": null,
   "id": "b25e3ead",
   "metadata": {
    "papermill": {
     "duration": 1.162799,
     "end_time": "2022-11-30T01:25:22.646783",
     "exception": false,
     "start_time": "2022-11-30T01:25:21.483984",
     "status": "completed"
    },
    "tags": []
   },
   "outputs": [],
   "source": []
  }
 ],
 "metadata": {
  "jupytext": {
   "cell_metadata_filter": "all,-execution,-papermill,-trusted",
   "formats": "ipynb,py//py:percent"
  },
  "kernelspec": {
   "display_name": "Python 3 (ipykernel)",
   "language": "python",
   "name": "python3"
  },
  "language_info": {
   "codemirror_mode": {
    "name": "ipython",
    "version": 3
   },
   "file_extension": ".py",
   "mimetype": "text/x-python",
   "name": "python",
   "nbconvert_exporter": "python",
   "pygments_lexer": "ipython3",
   "version": "3.10.6"
  },
  "papermill": {
   "default_parameters": {},
   "duration": 1244.751652,
   "end_time": "2022-11-30T01:25:27.071906",
   "environment_variables": {},
   "exception": null,
   "input_path": "projects/asthma-copd/nbs/20_gene_corrs/10-gene_expr_correlations.ipynb",
   "output_path": "projects/asthma-copd/nbs/20_gene_corrs/gene_corrs/aco/10-gene_expr_correlations-chr4.run.ipynb",
   "parameters": {
    "CHROMOSOME": 4,
    "COHORT_NAME": "aco",
    "OUTPUT_DIR_BASE": "/opt/data/projects/asthma-copd/results/gls_phenoplier"
   },
   "start_time": "2022-11-30T01:04:42.320254",
   "version": "2.2.2"
  }
 },
 "nbformat": 4,
 "nbformat_minor": 5
}
