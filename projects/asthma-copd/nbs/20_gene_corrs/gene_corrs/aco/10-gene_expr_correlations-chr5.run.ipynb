{
 "cells": [
  {
   "cell_type": "markdown",
   "id": "7a6632fb",
   "metadata": {
    "papermill": {
     "duration": 0.009261,
     "end_time": "2022-11-30T01:04:45.102480",
     "exception": false,
     "start_time": "2022-11-30T01:04:45.093219",
     "status": "completed"
    },
    "tags": []
   },
   "source": [
    "# Description"
   ]
  },
  {
   "cell_type": "markdown",
   "id": "7097c346",
   "metadata": {
    "papermill": {
     "duration": 0.009454,
     "end_time": "2022-11-30T01:04:45.121350",
     "exception": false,
     "start_time": "2022-11-30T01:04:45.111896",
     "status": "completed"
    },
    "tags": []
   },
   "source": [
    "(Please, take a look at the README.md file in this directory for instructions on how to run this notebook)\n",
    "\n",
    "This notebook computes predicted expression correlations between all genes in the MultiPLIER models.\n",
    "\n",
    "It has specicfic parameters for papermill (see under `Settings` below).\n",
    "It can be configured to run on a single chromosome to run in parallel.\n",
    "\n",
    "This notebook is not directly run. See README.md."
   ]
  },
  {
   "cell_type": "markdown",
   "id": "c61d8427",
   "metadata": {
    "papermill": {
     "duration": 0.008605,
     "end_time": "2022-11-30T01:04:45.138686",
     "exception": false,
     "start_time": "2022-11-30T01:04:45.130081",
     "status": "completed"
    },
    "tags": []
   },
   "source": [
    "# Modules"
   ]
  },
  {
   "cell_type": "code",
   "execution_count": 1,
   "id": "bbc0234f",
   "metadata": {
    "execution": {
     "iopub.execute_input": "2022-11-30T01:04:45.157673Z",
     "iopub.status.busy": "2022-11-30T01:04:45.157392Z",
     "iopub.status.idle": "2022-11-30T01:04:45.171572Z",
     "shell.execute_reply": "2022-11-30T01:04:45.171099Z"
    },
    "papermill": {
     "duration": 0.025402,
     "end_time": "2022-11-30T01:04:45.173392",
     "exception": false,
     "start_time": "2022-11-30T01:04:45.147990",
     "status": "completed"
    },
    "tags": []
   },
   "outputs": [],
   "source": [
    "%load_ext autoreload\n",
    "%autoreload 2"
   ]
  },
  {
   "cell_type": "code",
   "execution_count": 2,
   "id": "1d5f5a59",
   "metadata": {
    "execution": {
     "iopub.execute_input": "2022-11-30T01:04:45.192339Z",
     "iopub.status.busy": "2022-11-30T01:04:45.192096Z",
     "iopub.status.idle": "2022-11-30T01:04:45.904916Z",
     "shell.execute_reply": "2022-11-30T01:04:45.904451Z"
    },
    "papermill": {
     "duration": 0.723999,
     "end_time": "2022-11-30T01:04:45.906634",
     "exception": false,
     "start_time": "2022-11-30T01:04:45.182635",
     "status": "completed"
    },
    "tags": []
   },
   "outputs": [],
   "source": [
    "from random import sample, seed\n",
    "import warnings\n",
    "from pathlib import Path\n",
    "import pickle\n",
    "import traceback\n",
    "\n",
    "import numpy as np\n",
    "from scipy.spatial.distance import squareform\n",
    "import pandas as pd\n",
    "from tqdm import tqdm\n",
    "import matplotlib.pyplot as plt\n",
    "import seaborn as sns\n",
    "\n",
    "import conf\n",
    "from entity import Gene"
   ]
  },
  {
   "cell_type": "markdown",
   "id": "1eac24b5",
   "metadata": {
    "papermill": {
     "duration": 0.009813,
     "end_time": "2022-11-30T01:04:45.925367",
     "exception": false,
     "start_time": "2022-11-30T01:04:45.915554",
     "status": "completed"
    },
    "tags": []
   },
   "source": [
    "# Settings"
   ]
  },
  {
   "cell_type": "code",
   "execution_count": 3,
   "id": "ca4560ba",
   "metadata": {
    "execution": {
     "iopub.execute_input": "2022-11-30T01:04:45.944488Z",
     "iopub.status.busy": "2022-11-30T01:04:45.944301Z",
     "iopub.status.idle": "2022-11-30T01:04:45.958395Z",
     "shell.execute_reply": "2022-11-30T01:04:45.957939Z"
    },
    "papermill": {
     "duration": 0.025915,
     "end_time": "2022-11-30T01:04:45.960057",
     "exception": false,
     "start_time": "2022-11-30T01:04:45.934142",
     "status": "completed"
    },
    "tags": [
     "parameters"
    ]
   },
   "outputs": [],
   "source": [
    "# a cohort name (it could be something like UK_BIOBANK, etc)\n",
    "COHORT_NAME = None\n",
    "\n",
    "# reference panel such as 1000G or GTEX_V8\n",
    "REFERENCE_PANEL = \"GTEX_V8\"\n",
    "\n",
    "# predictions models such as MASHR or ELASTIC_NET\n",
    "EQTL_MODEL = \"MASHR\"\n",
    "\n",
    "# this is the default value used in S-MultiXcan to select the\n",
    "# top principal components of the expression correlation matrix\n",
    "SMULTIXCAN_CONDITION_NUMBER = 30\n",
    "\n",
    "# specifies a single chromosome value\n",
    "CHROMOSOME = None\n",
    "\n",
    "# If True, computes the correlation between closeby genes only;\n",
    "# otherwise, it computes correlations for all genes in a chromosome\n",
    "COMPUTE_CORRELATIONS_WITHIN_DISTANCE = False\n",
    "\n",
    "# if True, then it will continue if a gene pair correlation fails,\n",
    "# printing the warning/error for debugging. If False, any warning/error\n",
    "# will be thrown\n",
    "DEBUG_MODE = False\n",
    "\n",
    "# output dir\n",
    "OUTPUT_DIR_BASE = None"
   ]
  },
  {
   "cell_type": "code",
   "execution_count": 4,
   "id": "c4aabd5c",
   "metadata": {
    "execution": {
     "iopub.execute_input": "2022-11-30T01:04:45.978992Z",
     "iopub.status.busy": "2022-11-30T01:04:45.978788Z",
     "iopub.status.idle": "2022-11-30T01:04:45.992163Z",
     "shell.execute_reply": "2022-11-30T01:04:45.991727Z"
    },
    "papermill": {
     "duration": 0.024714,
     "end_time": "2022-11-30T01:04:45.993782",
     "exception": false,
     "start_time": "2022-11-30T01:04:45.969068",
     "status": "completed"
    },
    "tags": [
     "injected-parameters"
    ]
   },
   "outputs": [],
   "source": [
    "# Parameters\n",
    "COHORT_NAME = \"aco\"\n",
    "CHROMOSOME = 5\n",
    "OUTPUT_DIR_BASE = \"/opt/data/projects/asthma-copd/results/gls_phenoplier\"\n"
   ]
  },
  {
   "cell_type": "code",
   "execution_count": 5,
   "id": "3190631f-27fc-480f-b18e-571d580425a5",
   "metadata": {
    "execution": {
     "iopub.execute_input": "2022-11-30T01:04:46.012088Z",
     "iopub.status.busy": "2022-11-30T01:04:46.011883Z",
     "iopub.status.idle": "2022-11-30T01:04:46.034568Z",
     "shell.execute_reply": "2022-11-30T01:04:46.033919Z"
    },
    "papermill": {
     "duration": 0.033517,
     "end_time": "2022-11-30T01:04:46.036127",
     "exception": false,
     "start_time": "2022-11-30T01:04:46.002610",
     "status": "completed"
    },
    "tags": []
   },
   "outputs": [
    {
     "data": {
      "text/plain": [
       "'Cohort name: aco'"
      ]
     },
     "metadata": {},
     "output_type": "display_data"
    }
   ],
   "source": [
    "assert COHORT_NAME is not None and len(COHORT_NAME) > 0, \"A cohort name must be given\"\n",
    "\n",
    "COHORT_NAME = COHORT_NAME.lower()\n",
    "display(f\"Cohort name: {COHORT_NAME}\")"
   ]
  },
  {
   "cell_type": "code",
   "execution_count": 6,
   "id": "f53ba19b-0f93-4fa2-a047-63b375939d1a",
   "metadata": {
    "execution": {
     "iopub.execute_input": "2022-11-30T01:04:46.055373Z",
     "iopub.status.busy": "2022-11-30T01:04:46.055063Z",
     "iopub.status.idle": "2022-11-30T01:04:46.078008Z",
     "shell.execute_reply": "2022-11-30T01:04:46.077361Z"
    },
    "papermill": {
     "duration": 0.033925,
     "end_time": "2022-11-30T01:04:46.079558",
     "exception": false,
     "start_time": "2022-11-30T01:04:46.045633",
     "status": "completed"
    },
    "tags": []
   },
   "outputs": [
    {
     "data": {
      "text/plain": [
       "'Reference panel: GTEX_V8'"
      ]
     },
     "metadata": {},
     "output_type": "display_data"
    }
   ],
   "source": [
    "assert (\n",
    "    REFERENCE_PANEL is not None and len(REFERENCE_PANEL) > 0\n",
    "), \"A reference panel must be given\"\n",
    "\n",
    "display(f\"Reference panel: {REFERENCE_PANEL}\")"
   ]
  },
  {
   "cell_type": "code",
   "execution_count": 7,
   "id": "e024d130-c139-429a-9c6e-ccf149e297b0",
   "metadata": {
    "execution": {
     "iopub.execute_input": "2022-11-30T01:04:46.098738Z",
     "iopub.status.busy": "2022-11-30T01:04:46.098283Z",
     "iopub.status.idle": "2022-11-30T01:04:46.121520Z",
     "shell.execute_reply": "2022-11-30T01:04:46.120871Z"
    },
    "papermill": {
     "duration": 0.03457,
     "end_time": "2022-11-30T01:04:46.123092",
     "exception": false,
     "start_time": "2022-11-30T01:04:46.088522",
     "status": "completed"
    },
    "tags": []
   },
   "outputs": [
    {
     "data": {
      "text/plain": [
       "'eQTL model: MASHR) / mashr_'"
      ]
     },
     "metadata": {},
     "output_type": "display_data"
    }
   ],
   "source": [
    "assert (\n",
    "    EQTL_MODEL is not None and len(EQTL_MODEL) > 0\n",
    "), \"A prediction/eQTL model must be given\"\n",
    "\n",
    "EQTL_MODEL_FILES_PREFIX = conf.PHENOMEXCAN[\"PREDICTION_MODELS\"][f\"{EQTL_MODEL}_PREFIX\"]\n",
    "display(f\"eQTL model: {EQTL_MODEL}) / {EQTL_MODEL_FILES_PREFIX}\")"
   ]
  },
  {
   "cell_type": "code",
   "execution_count": 8,
   "id": "552a7f63-a18c-4d3e-bb6a-94f99b431291",
   "metadata": {
    "execution": {
     "iopub.execute_input": "2022-11-30T01:04:46.142906Z",
     "iopub.status.busy": "2022-11-30T01:04:46.142451Z",
     "iopub.status.idle": "2022-11-30T01:04:46.165507Z",
     "shell.execute_reply": "2022-11-30T01:04:46.164862Z"
    },
    "papermill": {
     "duration": 0.034904,
     "end_time": "2022-11-30T01:04:46.167062",
     "exception": false,
     "start_time": "2022-11-30T01:04:46.132158",
     "status": "completed"
    },
    "tags": []
   },
   "outputs": [
    {
     "data": {
      "text/plain": [
       "'S-MultiXcan condition number: 30'"
      ]
     },
     "metadata": {},
     "output_type": "display_data"
    }
   ],
   "source": [
    "assert (\n",
    "    SMULTIXCAN_CONDITION_NUMBER is not None and SMULTIXCAN_CONDITION_NUMBER > 0\n",
    "), \"The S-MultiXcan condition number (positive integer) must be given\"\n",
    "\n",
    "display(f\"S-MultiXcan condition number: {SMULTIXCAN_CONDITION_NUMBER}\")"
   ]
  },
  {
   "cell_type": "code",
   "execution_count": 9,
   "id": "f34a336f-548e-4afe-8955-90eaea4f42c6",
   "metadata": {
    "execution": {
     "iopub.execute_input": "2022-11-30T01:04:46.187180Z",
     "iopub.status.busy": "2022-11-30T01:04:46.186725Z",
     "iopub.status.idle": "2022-11-30T01:04:46.209801Z",
     "shell.execute_reply": "2022-11-30T01:04:46.209145Z"
    },
    "papermill": {
     "duration": 0.034811,
     "end_time": "2022-11-30T01:04:46.211392",
     "exception": false,
     "start_time": "2022-11-30T01:04:46.176581",
     "status": "completed"
    },
    "tags": []
   },
   "outputs": [
    {
     "data": {
      "text/plain": [
       "'Working on chromosome 5'"
      ]
     },
     "metadata": {},
     "output_type": "display_data"
    }
   ],
   "source": [
    "assert CHROMOSOME is not None and (\n",
    "    1 <= CHROMOSOME <= 22\n",
    "), \"You have to select one chromosome (format: number between 1 and 22)\"\n",
    "\n",
    "# CHROMOSOME = str(CHROMOSOME)\n",
    "display(f\"Working on chromosome {CHROMOSOME}\")"
   ]
  },
  {
   "cell_type": "code",
   "execution_count": 10,
   "id": "ab8e96e8-06b5-4363-9dcd-dc4d78cc27f7",
   "metadata": {
    "execution": {
     "iopub.execute_input": "2022-11-30T01:04:46.232187Z",
     "iopub.status.busy": "2022-11-30T01:04:46.231732Z",
     "iopub.status.idle": "2022-11-30T01:04:46.254796Z",
     "shell.execute_reply": "2022-11-30T01:04:46.254169Z"
    },
    "papermill": {
     "duration": 0.035384,
     "end_time": "2022-11-30T01:04:46.256317",
     "exception": false,
     "start_time": "2022-11-30T01:04:46.220933",
     "status": "completed"
    },
    "tags": []
   },
   "outputs": [
    {
     "data": {
      "text/plain": [
       "'Compute correlation within distance False'"
      ]
     },
     "metadata": {},
     "output_type": "display_data"
    }
   ],
   "source": [
    "display(f\"Compute correlation within distance {COMPUTE_CORRELATIONS_WITHIN_DISTANCE}\")"
   ]
  },
  {
   "cell_type": "code",
   "execution_count": 11,
   "id": "b393b698-77e3-4ba2-8ac1-e14d51aa988f",
   "metadata": {
    "execution": {
     "iopub.execute_input": "2022-11-30T01:04:46.276906Z",
     "iopub.status.busy": "2022-11-30T01:04:46.276453Z",
     "iopub.status.idle": "2022-11-30T01:04:46.300217Z",
     "shell.execute_reply": "2022-11-30T01:04:46.299589Z"
    },
    "papermill": {
     "duration": 0.035796,
     "end_time": "2022-11-30T01:04:46.301752",
     "exception": false,
     "start_time": "2022-11-30T01:04:46.265956",
     "status": "completed"
    },
    "tags": []
   },
   "outputs": [
    {
     "data": {
      "text/plain": [
       "'Using output dir base: /opt/data/projects/asthma-copd/results/gls_phenoplier/gene_corrs/aco'"
      ]
     },
     "metadata": {},
     "output_type": "display_data"
    }
   ],
   "source": [
    "assert (\n",
    "    OUTPUT_DIR_BASE is not None and len(OUTPUT_DIR_BASE) > 0\n",
    "), \"Output directory path must be given\"\n",
    "\n",
    "OUTPUT_DIR_BASE = (\n",
    "    Path(OUTPUT_DIR_BASE)\n",
    "    / \"gene_corrs\"\n",
    "    / COHORT_NAME\n",
    "    # / REFERENCE_PANEL.lower()\n",
    "    # / EQTL_MODEL.lower()\n",
    ").resolve()\n",
    "\n",
    "OUTPUT_DIR_BASE.mkdir(parents=True, exist_ok=True)\n",
    "\n",
    "display(f\"Using output dir base: {OUTPUT_DIR_BASE}\")"
   ]
  },
  {
   "cell_type": "markdown",
   "id": "d2ba085e",
   "metadata": {
    "papermill": {
     "duration": 0.009366,
     "end_time": "2022-11-30T01:04:46.321038",
     "exception": false,
     "start_time": "2022-11-30T01:04:46.311672",
     "status": "completed"
    },
    "tags": []
   },
   "source": [
    "# Load data"
   ]
  },
  {
   "cell_type": "markdown",
   "id": "7dcb8db7",
   "metadata": {
    "papermill": {
     "duration": 0.009413,
     "end_time": "2022-11-30T01:04:46.340414",
     "exception": false,
     "start_time": "2022-11-30T01:04:46.331001",
     "status": "completed"
    },
    "tags": []
   },
   "source": [
    "## GWAS variants"
   ]
  },
  {
   "cell_type": "code",
   "execution_count": 12,
   "id": "29434c4e-8cd3-4b9b-82e4-b5a251d9dd19",
   "metadata": {
    "execution": {
     "iopub.execute_input": "2022-11-30T01:04:46.358964Z",
     "iopub.status.busy": "2022-11-30T01:04:46.358549Z",
     "iopub.status.idle": "2022-11-30T01:04:48.502814Z",
     "shell.execute_reply": "2022-11-30T01:04:48.502355Z"
    },
    "papermill": {
     "duration": 2.154098,
     "end_time": "2022-11-30T01:04:48.504027",
     "exception": false,
     "start_time": "2022-11-30T01:04:46.349929",
     "status": "completed"
    },
    "tags": []
   },
   "outputs": [],
   "source": [
    "with open(OUTPUT_DIR_BASE / \"gwas_variant_ids.pkl\", \"rb\") as handle:\n",
    "    gwas_variants_ids_set = pickle.load(handle)"
   ]
  },
  {
   "cell_type": "code",
   "execution_count": 13,
   "id": "b9d9dec2-4a76-4bf9-bde2-e24c95acb8a0",
   "metadata": {
    "execution": {
     "iopub.execute_input": "2022-11-30T01:04:48.515974Z",
     "iopub.status.busy": "2022-11-30T01:04:48.515724Z",
     "iopub.status.idle": "2022-11-30T01:04:48.530580Z",
     "shell.execute_reply": "2022-11-30T01:04:48.530120Z"
    },
    "papermill": {
     "duration": 0.021979,
     "end_time": "2022-11-30T01:04:48.531530",
     "exception": false,
     "start_time": "2022-11-30T01:04:48.509551",
     "status": "completed"
    },
    "tags": []
   },
   "outputs": [
    {
     "data": {
      "text/plain": [
       "8561476"
      ]
     },
     "execution_count": 13,
     "metadata": {},
     "output_type": "execute_result"
    }
   ],
   "source": [
    "len(gwas_variants_ids_set)"
   ]
  },
  {
   "cell_type": "code",
   "execution_count": 14,
   "id": "4235b06a-6034-4ee4-a0a3-2ae35d122418",
   "metadata": {
    "execution": {
     "iopub.execute_input": "2022-11-30T01:04:48.543053Z",
     "iopub.status.busy": "2022-11-30T01:04:48.542843Z",
     "iopub.status.idle": "2022-11-30T01:04:49.264078Z",
     "shell.execute_reply": "2022-11-30T01:04:49.263610Z"
    },
    "papermill": {
     "duration": 0.727877,
     "end_time": "2022-11-30T01:04:49.265008",
     "exception": false,
     "start_time": "2022-11-30T01:04:48.537131",
     "status": "completed"
    },
    "tags": []
   },
   "outputs": [
    {
     "data": {
      "text/plain": [
       "['chr5_87631666_G_C_b38',\n",
       " 'chr3_80256754_C_G_b38',\n",
       " 'chr13_81107580_T_G_b38',\n",
       " 'chr1_66513020_G_A_b38',\n",
       " 'chr10_49599399_G_C_b38']"
      ]
     },
     "execution_count": 14,
     "metadata": {},
     "output_type": "execute_result"
    }
   ],
   "source": [
    "list(gwas_variants_ids_set)[:5]"
   ]
  },
  {
   "cell_type": "markdown",
   "id": "07866999-2305-41f9-a144-e69c9122c212",
   "metadata": {
    "papermill": {
     "duration": 0.0096,
     "end_time": "2022-11-30T01:04:49.279777",
     "exception": false,
     "start_time": "2022-11-30T01:04:49.270177",
     "status": "completed"
    },
    "tags": []
   },
   "source": [
    "## S-PrediXcan tissue models"
   ]
  },
  {
   "cell_type": "code",
   "execution_count": 15,
   "id": "780611d9-77c8-405f-90a4-f271f7b09397",
   "metadata": {
    "execution": {
     "iopub.execute_input": "2022-11-30T01:04:49.290907Z",
     "iopub.status.busy": "2022-11-30T01:04:49.290775Z",
     "iopub.status.idle": "2022-11-30T01:04:49.613968Z",
     "shell.execute_reply": "2022-11-30T01:04:49.613526Z"
    },
    "papermill": {
     "duration": 0.329854,
     "end_time": "2022-11-30T01:04:49.615134",
     "exception": false,
     "start_time": "2022-11-30T01:04:49.285280",
     "status": "completed"
    },
    "tags": []
   },
   "outputs": [],
   "source": [
    "spredixcan_genes_models = pd.read_pickle(OUTPUT_DIR_BASE / \"gene_tissues.pkl\")"
   ]
  },
  {
   "cell_type": "code",
   "execution_count": 16,
   "id": "726dd1f6-9557-4225-91fa-b3b879ea96e1",
   "metadata": {
    "execution": {
     "iopub.execute_input": "2022-11-30T01:04:49.626064Z",
     "iopub.status.busy": "2022-11-30T01:04:49.625936Z",
     "iopub.status.idle": "2022-11-30T01:04:49.639678Z",
     "shell.execute_reply": "2022-11-30T01:04:49.639294Z"
    },
    "papermill": {
     "duration": 0.020155,
     "end_time": "2022-11-30T01:04:49.640577",
     "exception": false,
     "start_time": "2022-11-30T01:04:49.620422",
     "status": "completed"
    },
    "tags": []
   },
   "outputs": [
    {
     "data": {
      "text/plain": [
       "(6442, 5)"
      ]
     },
     "execution_count": 16,
     "metadata": {},
     "output_type": "execute_result"
    }
   ],
   "source": [
    "spredixcan_genes_models.shape"
   ]
  },
  {
   "cell_type": "code",
   "execution_count": 17,
   "id": "944a1b48-222c-4eb0-b252-b9de2cbca215",
   "metadata": {
    "execution": {
     "iopub.execute_input": "2022-11-30T01:04:49.651694Z",
     "iopub.status.busy": "2022-11-30T01:04:49.651523Z",
     "iopub.status.idle": "2022-11-30T01:04:49.668908Z",
     "shell.execute_reply": "2022-11-30T01:04:49.668499Z"
    },
    "papermill": {
     "duration": 0.023787,
     "end_time": "2022-11-30T01:04:49.669806",
     "exception": false,
     "start_time": "2022-11-30T01:04:49.646019",
     "status": "completed"
    },
    "tags": []
   },
   "outputs": [
    {
     "data": {
      "text/html": [
       "<div>\n",
       "<style scoped>\n",
       "    .dataframe tbody tr th:only-of-type {\n",
       "        vertical-align: middle;\n",
       "    }\n",
       "\n",
       "    .dataframe tbody tr th {\n",
       "        vertical-align: top;\n",
       "    }\n",
       "\n",
       "    .dataframe thead th {\n",
       "        text-align: right;\n",
       "    }\n",
       "</style>\n",
       "<table border=\"1\" class=\"dataframe\">\n",
       "  <thead>\n",
       "    <tr style=\"text-align: right;\">\n",
       "      <th></th>\n",
       "      <th>gene_name</th>\n",
       "      <th>tissue</th>\n",
       "      <th>n_tissues</th>\n",
       "      <th>n_snps_used_sum</th>\n",
       "      <th>n_snps_in_model_sum</th>\n",
       "    </tr>\n",
       "    <tr>\n",
       "      <th>gene_id</th>\n",
       "      <th></th>\n",
       "      <th></th>\n",
       "      <th></th>\n",
       "      <th></th>\n",
       "      <th></th>\n",
       "    </tr>\n",
       "  </thead>\n",
       "  <tbody>\n",
       "    <tr>\n",
       "      <th>ENSG00000000419</th>\n",
       "      <td>DPM1</td>\n",
       "      <td>(Brain_Hypothalamus, Brain_Substantia_nigra)</td>\n",
       "      <td>2</td>\n",
       "      <td>2</td>\n",
       "      <td>2</td>\n",
       "    </tr>\n",
       "    <tr>\n",
       "      <th>ENSG00000000938</th>\n",
       "      <td>FGR</td>\n",
       "      <td>(Spleen, Stomach, Colon_Transverse, Brain_Cort...</td>\n",
       "      <td>36</td>\n",
       "      <td>40</td>\n",
       "      <td>40</td>\n",
       "    </tr>\n",
       "    <tr>\n",
       "      <th>ENSG00000000971</th>\n",
       "      <td>CFH</td>\n",
       "      <td>(Uterus, Stomach, Colon_Transverse, Brain_Cort...</td>\n",
       "      <td>34</td>\n",
       "      <td>44</td>\n",
       "      <td>44</td>\n",
       "    </tr>\n",
       "    <tr>\n",
       "      <th>ENSG00000001084</th>\n",
       "      <td>GCLC</td>\n",
       "      <td>(Spleen, Colon_Transverse, Brain_Cortex, Brain...</td>\n",
       "      <td>32</td>\n",
       "      <td>46</td>\n",
       "      <td>46</td>\n",
       "    </tr>\n",
       "    <tr>\n",
       "      <th>ENSG00000001167</th>\n",
       "      <td>NFYA</td>\n",
       "      <td>(Stomach, Colon_Transverse, Brain_Cortex, Test...</td>\n",
       "      <td>40</td>\n",
       "      <td>47</td>\n",
       "      <td>48</td>\n",
       "    </tr>\n",
       "  </tbody>\n",
       "</table>\n",
       "</div>"
      ],
      "text/plain": [
       "                gene_name                                             tissue  \\\n",
       "gene_id                                                                        \n",
       "ENSG00000000419      DPM1       (Brain_Hypothalamus, Brain_Substantia_nigra)   \n",
       "ENSG00000000938       FGR  (Spleen, Stomach, Colon_Transverse, Brain_Cort...   \n",
       "ENSG00000000971       CFH  (Uterus, Stomach, Colon_Transverse, Brain_Cort...   \n",
       "ENSG00000001084      GCLC  (Spleen, Colon_Transverse, Brain_Cortex, Brain...   \n",
       "ENSG00000001167      NFYA  (Stomach, Colon_Transverse, Brain_Cortex, Test...   \n",
       "\n",
       "                 n_tissues  n_snps_used_sum  n_snps_in_model_sum  \n",
       "gene_id                                                           \n",
       "ENSG00000000419          2                2                    2  \n",
       "ENSG00000000938         36               40                   40  \n",
       "ENSG00000000971         34               44                   44  \n",
       "ENSG00000001084         32               46                   46  \n",
       "ENSG00000001167         40               47                   48  "
      ]
     },
     "execution_count": 17,
     "metadata": {},
     "output_type": "execute_result"
    }
   ],
   "source": [
    "spredixcan_genes_models.head()"
   ]
  },
  {
   "cell_type": "code",
   "execution_count": 18,
   "id": "d1c11bb1-be0b-4f40-b360-633d6827109f",
   "metadata": {
    "execution": {
     "iopub.execute_input": "2022-11-30T01:04:49.681100Z",
     "iopub.status.busy": "2022-11-30T01:04:49.680925Z",
     "iopub.status.idle": "2022-11-30T01:04:49.694133Z",
     "shell.execute_reply": "2022-11-30T01:04:49.693751Z"
    },
    "papermill": {
     "duration": 0.019867,
     "end_time": "2022-11-30T01:04:49.695074",
     "exception": false,
     "start_time": "2022-11-30T01:04:49.675207",
     "status": "completed"
    },
    "tags": []
   },
   "outputs": [],
   "source": [
    "assert spredixcan_genes_models.index.is_unique"
   ]
  },
  {
   "cell_type": "markdown",
   "id": "a5b5092c-a13e-47c4-a92a-480fcc08f3ae",
   "metadata": {
    "papermill": {
     "duration": 0.005119,
     "end_time": "2022-11-30T01:04:49.705919",
     "exception": false,
     "start_time": "2022-11-30T01:04:49.700800",
     "status": "completed"
    },
    "tags": []
   },
   "source": [
    "## Gene info"
   ]
  },
  {
   "cell_type": "code",
   "execution_count": 19,
   "id": "7d6bb224-88e9-4358-ac10-43a41d92cdad",
   "metadata": {
    "execution": {
     "iopub.execute_input": "2022-11-30T01:04:49.716846Z",
     "iopub.status.busy": "2022-11-30T01:04:49.716671Z",
     "iopub.status.idle": "2022-11-30T01:04:49.731256Z",
     "shell.execute_reply": "2022-11-30T01:04:49.730852Z"
    },
    "papermill": {
     "duration": 0.021214,
     "end_time": "2022-11-30T01:04:49.732271",
     "exception": false,
     "start_time": "2022-11-30T01:04:49.711057",
     "status": "completed"
    },
    "tags": []
   },
   "outputs": [],
   "source": [
    "genes_info = pd.read_pickle(OUTPUT_DIR_BASE / \"genes_info.pkl\")"
   ]
  },
  {
   "cell_type": "code",
   "execution_count": 20,
   "id": "9e32abfa-546d-483e-8c18-d526e9e05903",
   "metadata": {
    "execution": {
     "iopub.execute_input": "2022-11-30T01:04:49.744064Z",
     "iopub.status.busy": "2022-11-30T01:04:49.743890Z",
     "iopub.status.idle": "2022-11-30T01:04:49.757423Z",
     "shell.execute_reply": "2022-11-30T01:04:49.757044Z"
    },
    "papermill": {
     "duration": 0.020081,
     "end_time": "2022-11-30T01:04:49.758273",
     "exception": false,
     "start_time": "2022-11-30T01:04:49.738192",
     "status": "completed"
    },
    "tags": []
   },
   "outputs": [
    {
     "data": {
      "text/plain": [
       "(6442, 7)"
      ]
     },
     "execution_count": 20,
     "metadata": {},
     "output_type": "execute_result"
    }
   ],
   "source": [
    "genes_info.shape"
   ]
  },
  {
   "cell_type": "code",
   "execution_count": 21,
   "id": "d16c3e92-85ec-468a-9a56-e25a9774a1cb",
   "metadata": {
    "execution": {
     "iopub.execute_input": "2022-11-30T01:04:49.769636Z",
     "iopub.status.busy": "2022-11-30T01:04:49.769479Z",
     "iopub.status.idle": "2022-11-30T01:04:49.785266Z",
     "shell.execute_reply": "2022-11-30T01:04:49.784867Z"
    },
    "papermill": {
     "duration": 0.022433,
     "end_time": "2022-11-30T01:04:49.786161",
     "exception": false,
     "start_time": "2022-11-30T01:04:49.763728",
     "status": "completed"
    },
    "tags": []
   },
   "outputs": [
    {
     "data": {
      "text/html": [
       "<div>\n",
       "<style scoped>\n",
       "    .dataframe tbody tr th:only-of-type {\n",
       "        vertical-align: middle;\n",
       "    }\n",
       "\n",
       "    .dataframe tbody tr th {\n",
       "        vertical-align: top;\n",
       "    }\n",
       "\n",
       "    .dataframe thead th {\n",
       "        text-align: right;\n",
       "    }\n",
       "</style>\n",
       "<table border=\"1\" class=\"dataframe\">\n",
       "  <thead>\n",
       "    <tr style=\"text-align: right;\">\n",
       "      <th></th>\n",
       "      <th>name</th>\n",
       "      <th>id</th>\n",
       "      <th>chr</th>\n",
       "      <th>band</th>\n",
       "      <th>start_position</th>\n",
       "      <th>end_position</th>\n",
       "      <th>gene_length</th>\n",
       "    </tr>\n",
       "  </thead>\n",
       "  <tbody>\n",
       "    <tr>\n",
       "      <th>0</th>\n",
       "      <td>IFIT3</td>\n",
       "      <td>ENSG00000119917</td>\n",
       "      <td>10</td>\n",
       "      <td>10q23.31</td>\n",
       "      <td>89327997</td>\n",
       "      <td>89340971</td>\n",
       "      <td>12974</td>\n",
       "    </tr>\n",
       "    <tr>\n",
       "      <th>1</th>\n",
       "      <td>ZFP36</td>\n",
       "      <td>ENSG00000128016</td>\n",
       "      <td>19</td>\n",
       "      <td>19q13.2</td>\n",
       "      <td>39406813</td>\n",
       "      <td>39409412</td>\n",
       "      <td>2599</td>\n",
       "    </tr>\n",
       "    <tr>\n",
       "      <th>2</th>\n",
       "      <td>ZNF597</td>\n",
       "      <td>ENSG00000167981</td>\n",
       "      <td>16</td>\n",
       "      <td>16p13.3</td>\n",
       "      <td>3432414</td>\n",
       "      <td>3443504</td>\n",
       "      <td>11090</td>\n",
       "    </tr>\n",
       "    <tr>\n",
       "      <th>3</th>\n",
       "      <td>AGPS</td>\n",
       "      <td>ENSG00000018510</td>\n",
       "      <td>2</td>\n",
       "      <td>2q31.2</td>\n",
       "      <td>177392768</td>\n",
       "      <td>177559299</td>\n",
       "      <td>166531</td>\n",
       "    </tr>\n",
       "    <tr>\n",
       "      <th>4</th>\n",
       "      <td>CDK2</td>\n",
       "      <td>ENSG00000123374</td>\n",
       "      <td>12</td>\n",
       "      <td>12q13.2</td>\n",
       "      <td>55966781</td>\n",
       "      <td>55972789</td>\n",
       "      <td>6008</td>\n",
       "    </tr>\n",
       "  </tbody>\n",
       "</table>\n",
       "</div>"
      ],
      "text/plain": [
       "     name               id  chr      band  start_position  end_position  \\\n",
       "0   IFIT3  ENSG00000119917   10  10q23.31        89327997      89340971   \n",
       "1   ZFP36  ENSG00000128016   19   19q13.2        39406813      39409412   \n",
       "2  ZNF597  ENSG00000167981   16   16p13.3         3432414       3443504   \n",
       "3    AGPS  ENSG00000018510    2    2q31.2       177392768     177559299   \n",
       "4    CDK2  ENSG00000123374   12   12q13.2        55966781      55972789   \n",
       "\n",
       "   gene_length  \n",
       "0        12974  \n",
       "1         2599  \n",
       "2        11090  \n",
       "3       166531  \n",
       "4         6008  "
      ]
     },
     "execution_count": 21,
     "metadata": {},
     "output_type": "execute_result"
    }
   ],
   "source": [
    "genes_info.head()"
   ]
  },
  {
   "cell_type": "markdown",
   "id": "d3843e06",
   "metadata": {
    "papermill": {
     "duration": 0.005365,
     "end_time": "2022-11-30T01:04:49.797380",
     "exception": false,
     "start_time": "2022-11-30T01:04:49.792015",
     "status": "completed"
    },
    "tags": []
   },
   "source": [
    "# Compute correlations"
   ]
  },
  {
   "cell_type": "code",
   "execution_count": 22,
   "id": "cb859c15-d1f3-4006-a74c-2b83c0db9611",
   "metadata": {
    "execution": {
     "iopub.execute_input": "2022-11-30T01:04:49.809114Z",
     "iopub.status.busy": "2022-11-30T01:04:49.808703Z",
     "iopub.status.idle": "2022-11-30T01:04:49.827424Z",
     "shell.execute_reply": "2022-11-30T01:04:49.826909Z"
    },
    "papermill": {
     "duration": 0.02598,
     "end_time": "2022-11-30T01:04:49.828661",
     "exception": false,
     "start_time": "2022-11-30T01:04:49.802681",
     "status": "completed"
    },
    "tags": []
   },
   "outputs": [
    {
     "data": {
      "text/plain": [
       "PosixPath('/opt/data/projects/asthma-copd/results/gls_phenoplier/gene_corrs/aco/by_chr/gene_corrs-chr5.pkl')"
      ]
     },
     "metadata": {},
     "output_type": "display_data"
    }
   ],
   "source": [
    "output_dir = OUTPUT_DIR_BASE / \"by_chr\"\n",
    "output_dir.mkdir(exist_ok=True, parents=True)\n",
    "output_file = output_dir / f\"gene_corrs-chr{CHROMOSOME}.pkl\"\n",
    "display(output_file)"
   ]
  },
  {
   "cell_type": "code",
   "execution_count": 23,
   "id": "aa674fe4-6794-4eed-98fa-32b39d1d4ace",
   "metadata": {
    "execution": {
     "iopub.execute_input": "2022-11-30T01:04:49.851442Z",
     "iopub.status.busy": "2022-11-30T01:04:49.851065Z",
     "iopub.status.idle": "2022-11-30T01:04:49.872615Z",
     "shell.execute_reply": "2022-11-30T01:04:49.872073Z"
    },
    "papermill": {
     "duration": 0.034687,
     "end_time": "2022-11-30T01:04:49.874257",
     "exception": false,
     "start_time": "2022-11-30T01:04:49.839570",
     "status": "completed"
    },
    "tags": []
   },
   "outputs": [],
   "source": [
    "warnings.filterwarnings(\"error\")"
   ]
  },
  {
   "cell_type": "code",
   "execution_count": 24,
   "id": "44d5450b-3baf-43f1-9e2e-4b06f1a785f8",
   "metadata": {
    "execution": {
     "iopub.execute_input": "2022-11-30T01:04:49.897551Z",
     "iopub.status.busy": "2022-11-30T01:04:49.897159Z",
     "iopub.status.idle": "2022-11-30T01:04:49.919795Z",
     "shell.execute_reply": "2022-11-30T01:04:49.919254Z"
    },
    "papermill": {
     "duration": 0.036303,
     "end_time": "2022-11-30T01:04:49.921483",
     "exception": false,
     "start_time": "2022-11-30T01:04:49.885180",
     "status": "completed"
    },
    "tags": []
   },
   "outputs": [],
   "source": [
    "# standard checks\n",
    "all_chrs = genes_info[\"chr\"].dropna().unique()\n",
    "assert all_chrs.shape[0] == 22\n",
    "\n",
    "# select chromosome given by the user\n",
    "assert CHROMOSOME in all_chrs"
   ]
  },
  {
   "cell_type": "code",
   "execution_count": 25,
   "id": "2d7c043c-92a7-4d35-991b-fa69ac1e0268",
   "metadata": {
    "execution": {
     "iopub.execute_input": "2022-11-30T01:04:49.944801Z",
     "iopub.status.busy": "2022-11-30T01:04:49.944423Z",
     "iopub.status.idle": "2022-11-30T01:04:49.968434Z",
     "shell.execute_reply": "2022-11-30T01:04:49.967775Z"
    },
    "papermill": {
     "duration": 0.037225,
     "end_time": "2022-11-30T01:04:49.970028",
     "exception": false,
     "start_time": "2022-11-30T01:04:49.932803",
     "status": "completed"
    },
    "tags": []
   },
   "outputs": [
    {
     "name": "stdout",
     "output_type": "stream",
     "text": [
      "Number of genes in chromosome: 305\n"
     ]
    }
   ],
   "source": [
    "# run only on the chromosome specified\n",
    "all_chrs = [CHROMOSOME]\n",
    "genes_chr = genes_info[genes_info[\"chr\"] == CHROMOSOME]\n",
    "\n",
    "# For testing purposes\n",
    "# genes_chr = genes_chr.sample(n=20)\n",
    "\n",
    "print(f\"Number of genes in chromosome: {genes_chr.shape[0]}\", flush=True)"
   ]
  },
  {
   "cell_type": "code",
   "execution_count": 26,
   "id": "916015d8-2979-46d3-a9b9-1cf5a0932c6a",
   "metadata": {
    "execution": {
     "iopub.execute_input": "2022-11-30T01:04:49.993943Z",
     "iopub.status.busy": "2022-11-30T01:04:49.993367Z",
     "iopub.status.idle": "2022-11-30T01:04:50.015796Z",
     "shell.execute_reply": "2022-11-30T01:04:50.015240Z"
    },
    "papermill": {
     "duration": 0.035872,
     "end_time": "2022-11-30T01:04:50.017504",
     "exception": false,
     "start_time": "2022-11-30T01:04:49.981632",
     "status": "completed"
    },
    "tags": []
   },
   "outputs": [],
   "source": [
    "# sort genes by starting position to make visualizations better later\n",
    "genes_chr = genes_chr.sort_values(\"start_position\")"
   ]
  },
  {
   "cell_type": "code",
   "execution_count": 27,
   "id": "a38aa74a-8ad3-47f6-8ef9-56be0e011774",
   "metadata": {
    "execution": {
     "iopub.execute_input": "2022-11-30T01:04:50.041056Z",
     "iopub.status.busy": "2022-11-30T01:04:50.040549Z",
     "iopub.status.idle": "2022-11-30T01:04:50.063210Z",
     "shell.execute_reply": "2022-11-30T01:04:50.062671Z"
    },
    "papermill": {
     "duration": 0.036172,
     "end_time": "2022-11-30T01:04:50.064907",
     "exception": false,
     "start_time": "2022-11-30T01:04:50.028735",
     "status": "completed"
    },
    "tags": []
   },
   "outputs": [],
   "source": [
    "gene_chr_objs = [Gene(ensembl_id=gene_id) for gene_id in genes_chr[\"id\"]]"
   ]
  },
  {
   "cell_type": "code",
   "execution_count": 28,
   "id": "570f974f-13c3-42b6-ad3a-ce99ca885c1a",
   "metadata": {
    "execution": {
     "iopub.execute_input": "2022-11-30T01:04:50.089140Z",
     "iopub.status.busy": "2022-11-30T01:04:50.088568Z",
     "iopub.status.idle": "2022-11-30T01:04:50.111466Z",
     "shell.execute_reply": "2022-11-30T01:04:50.110854Z"
    },
    "papermill": {
     "duration": 0.036403,
     "end_time": "2022-11-30T01:04:50.113062",
     "exception": false,
     "start_time": "2022-11-30T01:04:50.076659",
     "status": "completed"
    },
    "tags": []
   },
   "outputs": [
    {
     "name": "stdout",
     "output_type": "stream",
     "text": [
      "Number of gene combinations: 46665\n"
     ]
    }
   ],
   "source": [
    "n = len(gene_chr_objs)\n",
    "# diagonal elements + upper triangular matrix\n",
    "n_comb = n + int(n * (n - 1) / 2.0)\n",
    "print(f\"Number of gene combinations: {n_comb}\", flush=True)"
   ]
  },
  {
   "cell_type": "code",
   "execution_count": 29,
   "id": "cdbb90a1",
   "metadata": {
    "execution": {
     "iopub.execute_input": "2022-11-30T01:04:50.137261Z",
     "iopub.status.busy": "2022-11-30T01:04:50.136970Z",
     "iopub.status.idle": "2022-11-30T01:36:32.926624Z",
     "shell.execute_reply": "2022-11-30T01:36:32.926134Z"
    },
    "papermill": {
     "duration": 1902.803466,
     "end_time": "2022-11-30T01:36:32.927909",
     "exception": false,
     "start_time": "2022-11-30T01:04:50.124443",
     "status": "completed"
    },
    "tags": []
   },
   "outputs": [
    {
     "name": "stderr",
     "output_type": "stream",
     "text": [
      "ENSG00000165810 / ENSG00000165810: 100%|██████████████████████| 46665/46665 [31:42<00:00, 24.53it/s]\n"
     ]
    },
    {
     "data": {
      "text/plain": [
       "PosixPath('/opt/data/projects/asthma-copd/results/gls_phenoplier/gene_corrs/aco/by_chr/gene_corrs-chr5.pkl')"
      ]
     },
     "metadata": {},
     "output_type": "display_data"
    }
   ],
   "source": [
    "gene_corrs = []\n",
    "gene_corrs_data = np.full(\n",
    "    (n, n),\n",
    "    np.nan,\n",
    "    dtype=np.float64,\n",
    ")\n",
    "\n",
    "i = 0\n",
    "with tqdm(ncols=100, total=n_comb) as pbar:\n",
    "    for gene1_idx in range(0, len(gene_chr_objs)):\n",
    "        gene1_obj = gene_chr_objs[gene1_idx]\n",
    "        gene1_tissues = spredixcan_genes_models.loc[gene1_obj.ensembl_id, \"tissue\"]\n",
    "\n",
    "        for gene2_idx in range(gene1_idx, len(gene_chr_objs)):\n",
    "            gene2_obj = gene_chr_objs[gene2_idx]\n",
    "            gene2_tissues = spredixcan_genes_models.loc[gene2_obj.ensembl_id, \"tissue\"]\n",
    "\n",
    "            pbar.set_description(f\"{gene1_obj.ensembl_id} / {gene2_obj.ensembl_id}\")\n",
    "\n",
    "            try:\n",
    "                r = gene1_obj.get_ssm_correlation(\n",
    "                    other_gene=gene2_obj,\n",
    "                    tissues=gene1_tissues,\n",
    "                    other_tissues=gene2_tissues,\n",
    "                    snps_subset=gwas_variants_ids_set,\n",
    "                    condition_number=SMULTIXCAN_CONDITION_NUMBER,\n",
    "                    reference_panel=REFERENCE_PANEL,\n",
    "                    model_type=EQTL_MODEL,\n",
    "                    use_within_distance=COMPUTE_CORRELATIONS_WITHIN_DISTANCE,\n",
    "                )\n",
    "\n",
    "                if r is None:\n",
    "                    # if r is None, it's very likely because:\n",
    "                    #  * one of the genes has no prediction models\n",
    "                    #  * all the SNPs predictors for the gene are not present in the reference\n",
    "                    #    panel\n",
    "\n",
    "                    r = 0.0\n",
    "\n",
    "                gene_corrs.append(r)\n",
    "\n",
    "                gene_corrs_data[gene1_idx, gene2_idx] = r\n",
    "                gene_corrs_data[gene2_idx, gene1_idx] = r\n",
    "            except Warning as e:\n",
    "                if not DEBUG_MODE:\n",
    "                    raise e\n",
    "\n",
    "                print(\n",
    "                    f\"RuntimeWarning for genes {gene1_obj.ensembl_id} and {gene2_obj.ensembl_id}\",\n",
    "                    flush=True,\n",
    "                )\n",
    "                print(traceback.format_exc(), flush=True)\n",
    "\n",
    "                gene_corrs.append(np.nan)\n",
    "            except Exception as e:\n",
    "                if not DEBUG_MODE:\n",
    "                    raise e\n",
    "\n",
    "                print(\n",
    "                    f\"Exception for genes {gene1_obj.ensembl_id} and {gene2_obj.ensembl_id}\",\n",
    "                    flush=True,\n",
    "                )\n",
    "                print(traceback.format_exc(), flush=True)\n",
    "\n",
    "                gene_corrs.append(np.nan)\n",
    "\n",
    "            pbar.update(1)\n",
    "\n",
    "# create a pandas series\n",
    "gene_corrs_flat = pd.Series(gene_corrs)\n",
    "\n",
    "# save\n",
    "# FIXME: consider saving only the condenced matrix here. See here for\n",
    "# more details: https://github.com/greenelab/phenoplier/pull/38#discussion_r634600813\n",
    "# gene_corrs_data = squareform(np.array(gene_corrs, dtype=np.float64))\n",
    "# np.fill_diagonal(gene_corrs_data, 1.0)\n",
    "\n",
    "gene_chr_ids = [g.ensembl_id for g in gene_chr_objs]\n",
    "gene_corrs_df = pd.DataFrame(\n",
    "    data=gene_corrs_data,\n",
    "    index=gene_chr_ids,\n",
    "    columns=gene_chr_ids,\n",
    ")\n",
    "\n",
    "output_dir.mkdir(exist_ok=True, parents=True)\n",
    "display(output_file)\n",
    "\n",
    "gene_corrs_df.to_pickle(output_file)"
   ]
  },
  {
   "cell_type": "markdown",
   "id": "faa67b51-5373-470f-aa72-2ded53fa6dfe",
   "metadata": {
    "papermill": {
     "duration": 1.799837,
     "end_time": "2022-11-30T01:36:36.573216",
     "exception": false,
     "start_time": "2022-11-30T01:36:34.773379",
     "status": "completed"
    },
    "tags": []
   },
   "source": [
    "# Testing"
   ]
  },
  {
   "cell_type": "code",
   "execution_count": 30,
   "id": "14f7d046-4b55-4896-a56b-990127bcc388",
   "metadata": {
    "execution": {
     "iopub.execute_input": "2022-11-30T01:36:40.227199Z",
     "iopub.status.busy": "2022-11-30T01:36:40.226885Z",
     "iopub.status.idle": "2022-11-30T01:36:40.250240Z",
     "shell.execute_reply": "2022-11-30T01:36:40.249702Z"
    },
    "papermill": {
     "duration": 1.870593,
     "end_time": "2022-11-30T01:36:40.251161",
     "exception": false,
     "start_time": "2022-11-30T01:36:38.380568",
     "status": "completed"
    },
    "tags": []
   },
   "outputs": [
    {
     "data": {
      "text/plain": [
       "(305, 305)"
      ]
     },
     "execution_count": 30,
     "metadata": {},
     "output_type": "execute_result"
    }
   ],
   "source": [
    "gene_corrs_df.shape"
   ]
  },
  {
   "cell_type": "code",
   "execution_count": 31,
   "id": "c7d15414-3297-4537-a7c6-7588c0baeb75",
   "metadata": {
    "execution": {
     "iopub.execute_input": "2022-11-30T01:36:43.782735Z",
     "iopub.status.busy": "2022-11-30T01:36:43.782249Z",
     "iopub.status.idle": "2022-11-30T01:36:43.821777Z",
     "shell.execute_reply": "2022-11-30T01:36:43.821250Z"
    },
    "papermill": {
     "duration": 1.827703,
     "end_time": "2022-11-30T01:36:43.822641",
     "exception": false,
     "start_time": "2022-11-30T01:36:41.994938",
     "status": "completed"
    },
    "tags": []
   },
   "outputs": [
    {
     "data": {
      "text/html": [
       "<div>\n",
       "<style scoped>\n",
       "    .dataframe tbody tr th:only-of-type {\n",
       "        vertical-align: middle;\n",
       "    }\n",
       "\n",
       "    .dataframe tbody tr th {\n",
       "        vertical-align: top;\n",
       "    }\n",
       "\n",
       "    .dataframe thead th {\n",
       "        text-align: right;\n",
       "    }\n",
       "</style>\n",
       "<table border=\"1\" class=\"dataframe\">\n",
       "  <thead>\n",
       "    <tr style=\"text-align: right;\">\n",
       "      <th></th>\n",
       "      <th>ENSG00000073578</th>\n",
       "      <th>ENSG00000180104</th>\n",
       "      <th>ENSG00000066230</th>\n",
       "      <th>ENSG00000112877</th>\n",
       "      <th>ENSG00000113504</th>\n",
       "      <th>ENSG00000174358</th>\n",
       "      <th>ENSG00000164362</th>\n",
       "      <th>ENSG00000049656</th>\n",
       "      <th>ENSG00000153395</th>\n",
       "      <th>ENSG00000171421</th>\n",
       "      <th>...</th>\n",
       "      <th>ENSG00000161021</th>\n",
       "      <th>ENSG00000161013</th>\n",
       "      <th>ENSG00000161011</th>\n",
       "      <th>ENSG00000050748</th>\n",
       "      <th>ENSG00000131459</th>\n",
       "      <th>ENSG00000113300</th>\n",
       "      <th>ENSG00000037280</th>\n",
       "      <th>ENSG00000131446</th>\n",
       "      <th>ENSG00000113303</th>\n",
       "      <th>ENSG00000165810</th>\n",
       "    </tr>\n",
       "  </thead>\n",
       "  <tbody>\n",
       "    <tr>\n",
       "      <th>ENSG00000073578</th>\n",
       "      <td>1.000000</td>\n",
       "      <td>0.240815</td>\n",
       "      <td>0.161150</td>\n",
       "      <td>0.049611</td>\n",
       "      <td>0.015151</td>\n",
       "      <td>0.011679</td>\n",
       "      <td>0.008640</td>\n",
       "      <td>0.010104</td>\n",
       "      <td>0.012698</td>\n",
       "      <td>0.008122</td>\n",
       "      <td>...</td>\n",
       "      <td>0.008832</td>\n",
       "      <td>0.009874</td>\n",
       "      <td>0.010103</td>\n",
       "      <td>0.010862</td>\n",
       "      <td>0.014451</td>\n",
       "      <td>0.007847</td>\n",
       "      <td>0.011302</td>\n",
       "      <td>0.016045</td>\n",
       "      <td>0.012576</td>\n",
       "      <td>0.008547</td>\n",
       "    </tr>\n",
       "    <tr>\n",
       "      <th>ENSG00000180104</th>\n",
       "      <td>0.240815</td>\n",
       "      <td>1.000000</td>\n",
       "      <td>0.394044</td>\n",
       "      <td>0.092476</td>\n",
       "      <td>0.006065</td>\n",
       "      <td>0.010590</td>\n",
       "      <td>0.007414</td>\n",
       "      <td>0.004419</td>\n",
       "      <td>0.004101</td>\n",
       "      <td>0.006108</td>\n",
       "      <td>...</td>\n",
       "      <td>0.007530</td>\n",
       "      <td>0.002856</td>\n",
       "      <td>0.005054</td>\n",
       "      <td>0.007138</td>\n",
       "      <td>0.008508</td>\n",
       "      <td>0.005820</td>\n",
       "      <td>0.006728</td>\n",
       "      <td>0.006903</td>\n",
       "      <td>0.002946</td>\n",
       "      <td>0.004173</td>\n",
       "    </tr>\n",
       "    <tr>\n",
       "      <th>ENSG00000066230</th>\n",
       "      <td>0.161150</td>\n",
       "      <td>0.394044</td>\n",
       "      <td>1.000000</td>\n",
       "      <td>0.216369</td>\n",
       "      <td>0.012961</td>\n",
       "      <td>0.008745</td>\n",
       "      <td>0.006762</td>\n",
       "      <td>0.009393</td>\n",
       "      <td>0.012246</td>\n",
       "      <td>0.008238</td>\n",
       "      <td>...</td>\n",
       "      <td>0.007527</td>\n",
       "      <td>0.005530</td>\n",
       "      <td>0.008153</td>\n",
       "      <td>0.006234</td>\n",
       "      <td>0.008947</td>\n",
       "      <td>0.004306</td>\n",
       "      <td>0.007579</td>\n",
       "      <td>0.006736</td>\n",
       "      <td>0.002829</td>\n",
       "      <td>0.005606</td>\n",
       "    </tr>\n",
       "    <tr>\n",
       "      <th>ENSG00000112877</th>\n",
       "      <td>0.049611</td>\n",
       "      <td>0.092476</td>\n",
       "      <td>0.216369</td>\n",
       "      <td>1.000000</td>\n",
       "      <td>0.021994</td>\n",
       "      <td>0.007444</td>\n",
       "      <td>0.007431</td>\n",
       "      <td>0.008093</td>\n",
       "      <td>0.011573</td>\n",
       "      <td>0.003085</td>\n",
       "      <td>...</td>\n",
       "      <td>0.008217</td>\n",
       "      <td>0.007418</td>\n",
       "      <td>0.008980</td>\n",
       "      <td>0.009363</td>\n",
       "      <td>0.014036</td>\n",
       "      <td>0.009913</td>\n",
       "      <td>0.011692</td>\n",
       "      <td>0.009505</td>\n",
       "      <td>0.005459</td>\n",
       "      <td>0.005300</td>\n",
       "    </tr>\n",
       "    <tr>\n",
       "      <th>ENSG00000113504</th>\n",
       "      <td>0.015151</td>\n",
       "      <td>0.006065</td>\n",
       "      <td>0.012961</td>\n",
       "      <td>0.021994</td>\n",
       "      <td>1.000000</td>\n",
       "      <td>0.023247</td>\n",
       "      <td>0.009773</td>\n",
       "      <td>0.008319</td>\n",
       "      <td>0.114610</td>\n",
       "      <td>0.008152</td>\n",
       "      <td>...</td>\n",
       "      <td>0.011964</td>\n",
       "      <td>0.006446</td>\n",
       "      <td>0.007964</td>\n",
       "      <td>0.009621</td>\n",
       "      <td>0.011645</td>\n",
       "      <td>0.010967</td>\n",
       "      <td>0.013630</td>\n",
       "      <td>0.011021</td>\n",
       "      <td>0.007452</td>\n",
       "      <td>0.007947</td>\n",
       "    </tr>\n",
       "  </tbody>\n",
       "</table>\n",
       "<p>5 rows × 305 columns</p>\n",
       "</div>"
      ],
      "text/plain": [
       "                 ENSG00000073578  ENSG00000180104  ENSG00000066230  \\\n",
       "ENSG00000073578         1.000000         0.240815         0.161150   \n",
       "ENSG00000180104         0.240815         1.000000         0.394044   \n",
       "ENSG00000066230         0.161150         0.394044         1.000000   \n",
       "ENSG00000112877         0.049611         0.092476         0.216369   \n",
       "ENSG00000113504         0.015151         0.006065         0.012961   \n",
       "\n",
       "                 ENSG00000112877  ENSG00000113504  ENSG00000174358  \\\n",
       "ENSG00000073578         0.049611         0.015151         0.011679   \n",
       "ENSG00000180104         0.092476         0.006065         0.010590   \n",
       "ENSG00000066230         0.216369         0.012961         0.008745   \n",
       "ENSG00000112877         1.000000         0.021994         0.007444   \n",
       "ENSG00000113504         0.021994         1.000000         0.023247   \n",
       "\n",
       "                 ENSG00000164362  ENSG00000049656  ENSG00000153395  \\\n",
       "ENSG00000073578         0.008640         0.010104         0.012698   \n",
       "ENSG00000180104         0.007414         0.004419         0.004101   \n",
       "ENSG00000066230         0.006762         0.009393         0.012246   \n",
       "ENSG00000112877         0.007431         0.008093         0.011573   \n",
       "ENSG00000113504         0.009773         0.008319         0.114610   \n",
       "\n",
       "                 ENSG00000171421  ...  ENSG00000161021  ENSG00000161013  \\\n",
       "ENSG00000073578         0.008122  ...         0.008832         0.009874   \n",
       "ENSG00000180104         0.006108  ...         0.007530         0.002856   \n",
       "ENSG00000066230         0.008238  ...         0.007527         0.005530   \n",
       "ENSG00000112877         0.003085  ...         0.008217         0.007418   \n",
       "ENSG00000113504         0.008152  ...         0.011964         0.006446   \n",
       "\n",
       "                 ENSG00000161011  ENSG00000050748  ENSG00000131459  \\\n",
       "ENSG00000073578         0.010103         0.010862         0.014451   \n",
       "ENSG00000180104         0.005054         0.007138         0.008508   \n",
       "ENSG00000066230         0.008153         0.006234         0.008947   \n",
       "ENSG00000112877         0.008980         0.009363         0.014036   \n",
       "ENSG00000113504         0.007964         0.009621         0.011645   \n",
       "\n",
       "                 ENSG00000113300  ENSG00000037280  ENSG00000131446  \\\n",
       "ENSG00000073578         0.007847         0.011302         0.016045   \n",
       "ENSG00000180104         0.005820         0.006728         0.006903   \n",
       "ENSG00000066230         0.004306         0.007579         0.006736   \n",
       "ENSG00000112877         0.009913         0.011692         0.009505   \n",
       "ENSG00000113504         0.010967         0.013630         0.011021   \n",
       "\n",
       "                 ENSG00000113303  ENSG00000165810  \n",
       "ENSG00000073578         0.012576         0.008547  \n",
       "ENSG00000180104         0.002946         0.004173  \n",
       "ENSG00000066230         0.002829         0.005606  \n",
       "ENSG00000112877         0.005459         0.005300  \n",
       "ENSG00000113504         0.007452         0.007947  \n",
       "\n",
       "[5 rows x 305 columns]"
      ]
     },
     "execution_count": 31,
     "metadata": {},
     "output_type": "execute_result"
    }
   ],
   "source": [
    "gene_corrs_df.head()"
   ]
  },
  {
   "cell_type": "markdown",
   "id": "dad6603f-01c6-41fb-a6f6-241051207dd8",
   "metadata": {
    "papermill": {
     "duration": 1.800715,
     "end_time": "2022-11-30T01:36:47.426508",
     "exception": false,
     "start_time": "2022-11-30T01:36:45.625793",
     "status": "completed"
    },
    "tags": []
   },
   "source": [
    "## Standard checks and stats"
   ]
  },
  {
   "cell_type": "code",
   "execution_count": 32,
   "id": "286686af-1b7b-4440-8453-6bdcbd8de19c",
   "metadata": {
    "execution": {
     "iopub.execute_input": "2022-11-30T01:36:51.096013Z",
     "iopub.status.busy": "2022-11-30T01:36:51.095647Z",
     "iopub.status.idle": "2022-11-30T01:36:51.119845Z",
     "shell.execute_reply": "2022-11-30T01:36:51.119189Z"
    },
    "papermill": {
     "duration": 1.898446,
     "end_time": "2022-11-30T01:36:51.120839",
     "exception": false,
     "start_time": "2022-11-30T01:36:49.222393",
     "status": "completed"
    },
    "tags": []
   },
   "outputs": [],
   "source": [
    "assert not gene_corrs_df.isna().any().any()"
   ]
  },
  {
   "cell_type": "code",
   "execution_count": 33,
   "id": "00583efc-7068-4270-ad1e-4a418e91db96",
   "metadata": {
    "execution": {
     "iopub.execute_input": "2022-11-30T01:36:55.133546Z",
     "iopub.status.busy": "2022-11-30T01:36:55.132771Z",
     "iopub.status.idle": "2022-11-30T01:36:55.157668Z",
     "shell.execute_reply": "2022-11-30T01:36:55.157062Z"
    },
    "papermill": {
     "duration": 2.062698,
     "end_time": "2022-11-30T01:36:55.158654",
     "exception": false,
     "start_time": "2022-11-30T01:36:53.095956",
     "status": "completed"
    },
    "tags": []
   },
   "outputs": [
    {
     "data": {
      "text/plain": [
       "6.617782502068875e-09"
      ]
     },
     "metadata": {},
     "output_type": "display_data"
    }
   ],
   "source": [
    "_min_val = gene_corrs_df.min().min()\n",
    "display(_min_val)\n",
    "assert _min_val >= -0.05"
   ]
  },
  {
   "cell_type": "code",
   "execution_count": 34,
   "id": "d04fb2cf-1050-475b-b855-f5f7cc04092b",
   "metadata": {
    "execution": {
     "iopub.execute_input": "2022-11-30T01:36:58.687032Z",
     "iopub.status.busy": "2022-11-30T01:36:58.686700Z",
     "iopub.status.idle": "2022-11-30T01:36:58.711215Z",
     "shell.execute_reply": "2022-11-30T01:36:58.710615Z"
    },
    "papermill": {
     "duration": 1.818918,
     "end_time": "2022-11-30T01:36:58.712133",
     "exception": false,
     "start_time": "2022-11-30T01:36:56.893215",
     "status": "completed"
    },
    "tags": []
   },
   "outputs": [
    {
     "data": {
      "text/plain": [
       "1.0000000000000024"
      ]
     },
     "metadata": {},
     "output_type": "display_data"
    }
   ],
   "source": [
    "_max_val = gene_corrs_df.max().max()  # this captures the diagonal\n",
    "display(_max_val)\n",
    "assert _max_val <= 1.05"
   ]
  },
  {
   "cell_type": "code",
   "execution_count": 35,
   "id": "96d02c44-1fba-47be-8a93-8f2608420b9c",
   "metadata": {
    "execution": {
     "iopub.execute_input": "2022-11-30T01:37:02.304209Z",
     "iopub.status.busy": "2022-11-30T01:37:02.303751Z",
     "iopub.status.idle": "2022-11-30T01:37:02.318298Z",
     "shell.execute_reply": "2022-11-30T01:37:02.317880Z"
    },
    "papermill": {
     "duration": 1.806053,
     "end_time": "2022-11-30T01:37:02.319359",
     "exception": false,
     "start_time": "2022-11-30T01:37:00.513306",
     "status": "completed"
    },
    "tags": []
   },
   "outputs": [],
   "source": [
    "# check upper triangular values\n",
    "# assert len(gene_corrs) == int(genes_chr.shape[0] * (genes_chr.shape[0] - 1) / 2)"
   ]
  },
  {
   "cell_type": "code",
   "execution_count": 36,
   "id": "fe283586-c348-40e0-8841-f6d97bfb021c",
   "metadata": {
    "execution": {
     "iopub.execute_input": "2022-11-30T01:37:06.004549Z",
     "iopub.status.busy": "2022-11-30T01:37:06.003955Z",
     "iopub.status.idle": "2022-11-30T01:37:06.029767Z",
     "shell.execute_reply": "2022-11-30T01:37:06.028942Z"
    },
    "papermill": {
     "duration": 1.82511,
     "end_time": "2022-11-30T01:37:06.030658",
     "exception": false,
     "start_time": "2022-11-30T01:37:04.205548",
     "status": "completed"
    },
    "tags": []
   },
   "outputs": [
    {
     "data": {
      "text/plain": [
       "count    4.666500e+04\n",
       "mean     1.463314e-02\n",
       "std      8.530875e-02\n",
       "min      6.617783e-09\n",
       "25%      3.888896e-03\n",
       "50%      5.856938e-03\n",
       "75%      8.129884e-03\n",
       "max      1.000000e+00\n",
       "dtype: float64"
      ]
     },
     "execution_count": 36,
     "metadata": {},
     "output_type": "execute_result"
    }
   ],
   "source": [
    "gene_corrs_flat.describe()"
   ]
  },
  {
   "cell_type": "code",
   "execution_count": 37,
   "id": "b3815678-0f93-4b35-897b-a9d047a2aa78",
   "metadata": {
    "execution": {
     "iopub.execute_input": "2022-11-30T01:37:09.689681Z",
     "iopub.status.busy": "2022-11-30T01:37:09.689036Z",
     "iopub.status.idle": "2022-11-30T01:37:09.718671Z",
     "shell.execute_reply": "2022-11-30T01:37:09.718131Z"
    },
    "papermill": {
     "duration": 1.892927,
     "end_time": "2022-11-30T01:37:09.719725",
     "exception": false,
     "start_time": "2022-11-30T01:37:07.826798",
     "status": "completed"
    },
    "tags": []
   },
   "outputs": [
    {
     "data": {
      "text/plain": [
       "0.00    6.617783e-09\n",
       "0.05    1.550776e-03\n",
       "0.10    2.328516e-03\n",
       "0.15    2.917695e-03\n",
       "0.20    3.432660e-03\n",
       "0.25    3.888896e-03\n",
       "0.30    4.315977e-03\n",
       "0.35    4.707345e-03\n",
       "0.40    5.102123e-03\n",
       "0.45    5.463534e-03\n",
       "0.50    5.856938e-03\n",
       "0.55    6.259266e-03\n",
       "0.60    6.672596e-03\n",
       "0.65    7.115741e-03\n",
       "0.70    7.606263e-03\n",
       "0.75    8.129884e-03\n",
       "0.80    8.753657e-03\n",
       "0.85    9.507773e-03\n",
       "0.90    1.051959e-02\n",
       "0.95    1.229495e-02\n",
       "dtype: float64"
      ]
     },
     "metadata": {},
     "output_type": "display_data"
    }
   ],
   "source": [
    "gene_corrs_quantiles = gene_corrs_flat.quantile(np.arange(0, 1, 0.05))\n",
    "display(gene_corrs_quantiles)"
   ]
  },
  {
   "cell_type": "markdown",
   "id": "87134509-b145-4a10-8bc9-b7e914c2b0fa",
   "metadata": {
    "papermill": {
     "duration": 1.782417,
     "end_time": "2022-11-30T01:37:13.256315",
     "exception": false,
     "start_time": "2022-11-30T01:37:11.473898",
     "status": "completed"
    },
    "tags": []
   },
   "source": [
    "## Positive definiteness"
   ]
  },
  {
   "cell_type": "code",
   "execution_count": 38,
   "id": "07d9a9a1-a4f7-48aa-b916-6d42a8cc6186",
   "metadata": {
    "execution": {
     "iopub.execute_input": "2022-11-30T01:37:16.846072Z",
     "iopub.status.busy": "2022-11-30T01:37:16.845552Z",
     "iopub.status.idle": "2022-11-30T01:37:16.886800Z",
     "shell.execute_reply": "2022-11-30T01:37:16.886211Z"
    },
    "papermill": {
     "duration": 1.82779,
     "end_time": "2022-11-30T01:37:16.887649",
     "exception": false,
     "start_time": "2022-11-30T01:37:15.059859",
     "status": "completed"
    },
    "tags": []
   },
   "outputs": [
    {
     "data": {
      "text/plain": [
       "0"
      ]
     },
     "metadata": {},
     "output_type": "display_data"
    },
    {
     "data": {
      "text/plain": [
       "array([], dtype=float64)"
      ]
     },
     "metadata": {},
     "output_type": "display_data"
    }
   ],
   "source": [
    "# print negative eigenvalues\n",
    "eigs = np.linalg.eigvals(gene_corrs_df.to_numpy())\n",
    "display(len(eigs[eigs < 0]))\n",
    "display(eigs[eigs < 0])"
   ]
  },
  {
   "cell_type": "code",
   "execution_count": 39,
   "id": "6e218436-c3c5-4028-8c94-a4fa6260efce",
   "metadata": {
    "execution": {
     "iopub.execute_input": "2022-11-30T01:37:20.466023Z",
     "iopub.status.busy": "2022-11-30T01:37:20.465731Z",
     "iopub.status.idle": "2022-11-30T01:37:20.490807Z",
     "shell.execute_reply": "2022-11-30T01:37:20.490004Z"
    },
    "papermill": {
     "duration": 1.817651,
     "end_time": "2022-11-30T01:37:20.491649",
     "exception": false,
     "start_time": "2022-11-30T01:37:18.673998",
     "status": "completed"
    },
    "tags": []
   },
   "outputs": [
    {
     "name": "stdout",
     "output_type": "stream",
     "text": [
      "Works!\n"
     ]
    }
   ],
   "source": [
    "try:\n",
    "    chol_mat = np.linalg.cholesky(gene_corrs_df.to_numpy())\n",
    "    cov_inv = np.linalg.inv(chol_mat)\n",
    "    print(\"Works!\")\n",
    "except Exception as e:\n",
    "    print(f\"Cholesky decomposition failed: {str(e)}\")"
   ]
  },
  {
   "cell_type": "code",
   "execution_count": 40,
   "id": "dd8827fb-faf9-4c7c-9454-015e94752706",
   "metadata": {
    "execution": {
     "iopub.execute_input": "2022-11-30T01:37:24.092109Z",
     "iopub.status.busy": "2022-11-30T01:37:24.091820Z",
     "iopub.status.idle": "2022-11-30T01:37:24.115907Z",
     "shell.execute_reply": "2022-11-30T01:37:24.115216Z"
    },
    "papermill": {
     "duration": 1.769104,
     "end_time": "2022-11-30T01:37:24.116722",
     "exception": false,
     "start_time": "2022-11-30T01:37:22.347618",
     "status": "completed"
    },
    "tags": []
   },
   "outputs": [
    {
     "name": "stdout",
     "output_type": "stream",
     "text": [
      "Works!\n"
     ]
    }
   ],
   "source": [
    "try:\n",
    "    # decomposition used by statsmodels.GLS\n",
    "    cholsigmainv = np.linalg.cholesky(np.linalg.inv(gene_corrs_df.to_numpy())).T\n",
    "    print(\"Works!\")\n",
    "except Exception as e:\n",
    "    print(f\"Cholesky decomposition failed (statsmodels.GLS): {str(e)}\")"
   ]
  },
  {
   "cell_type": "markdown",
   "id": "8e60a080-edb2-4e9c-b2ef-22961693200c",
   "metadata": {
    "papermill": {
     "duration": 1.92761,
     "end_time": "2022-11-30T01:37:27.864447",
     "exception": false,
     "start_time": "2022-11-30T01:37:25.936837",
     "status": "completed"
    },
    "tags": []
   },
   "source": [
    "## Plot: distribution"
   ]
  },
  {
   "cell_type": "code",
   "execution_count": 41,
   "id": "8301126b-a7d4-4744-9c7d-f0f86eb6f54c",
   "metadata": {
    "execution": {
     "iopub.execute_input": "2022-11-30T01:37:31.664823Z",
     "iopub.status.busy": "2022-11-30T01:37:31.664098Z",
     "iopub.status.idle": "2022-11-30T01:37:38.087851Z",
     "shell.execute_reply": "2022-11-30T01:37:38.087326Z"
    },
    "papermill": {
     "duration": 8.272886,
     "end_time": "2022-11-30T01:37:38.089697",
     "exception": false,
     "start_time": "2022-11-30T01:37:29.816811",
     "status": "completed"
    },
    "tags": []
   },
   "outputs": [
    {
     "data": {
      "image/png": "[encoded data removed]",
      "text/plain": [
       "<Figure size 700x700 with 1 Axes>"
      ]
     },
     "metadata": {},
     "output_type": "display_data"
    }
   ],
   "source": [
    "with sns.plotting_context(\"paper\", font_scale=1.5):\n",
    "    g = sns.displot(gene_corrs_flat, kde=True, height=7)\n",
    "    g.ax.set_title(\n",
    "        f\"Distribution of gene correlation values in chromosome {CHROMOSOME}\"\n",
    "    )"
   ]
  },
  {
   "cell_type": "markdown",
   "id": "cbd52bca-d878-4a2f-b684-5c83aa3038d4",
   "metadata": {
    "papermill": {
     "duration": 1.860933,
     "end_time": "2022-11-30T01:37:41.796500",
     "exception": false,
     "start_time": "2022-11-30T01:37:39.935567",
     "status": "completed"
    },
    "tags": []
   },
   "source": [
    "## Plot: heatmap"
   ]
  },
  {
   "cell_type": "code",
   "execution_count": 42,
   "id": "d03fe63a-c7b2-4fb9-a53c-db362ce843c9",
   "metadata": {
    "execution": {
     "iopub.execute_input": "2022-11-30T01:37:45.327966Z",
     "iopub.status.busy": "2022-11-30T01:37:45.327574Z",
     "iopub.status.idle": "2022-11-30T01:37:45.349811Z",
     "shell.execute_reply": "2022-11-30T01:37:45.349324Z"
    },
    "papermill": {
     "duration": 1.812343,
     "end_time": "2022-11-30T01:37:45.350658",
     "exception": false,
     "start_time": "2022-11-30T01:37:43.538315",
     "status": "completed"
    },
    "tags": []
   },
   "outputs": [
    {
     "data": {
      "text/plain": [
       "'0.0 / 0.05'"
      ]
     },
     "metadata": {},
     "output_type": "display_data"
    }
   ],
   "source": [
    "vmin_val = min(0.00, gene_corrs_quantiles[0.10])\n",
    "vmax_val = max(0.05, gene_corrs_quantiles[0.90])\n",
    "display(f\"{vmin_val} / {vmax_val}\")"
   ]
  },
  {
   "cell_type": "code",
   "execution_count": 43,
   "id": "dc41b70b-5bcc-4d9e-9f33-a22c4a94dab5",
   "metadata": {
    "execution": {
     "iopub.execute_input": "2022-11-30T01:37:48.952214Z",
     "iopub.status.busy": "2022-11-30T01:37:48.951917Z",
     "iopub.status.idle": "2022-11-30T01:37:49.194280Z",
     "shell.execute_reply": "2022-11-30T01:37:49.193718Z"
    },
    "papermill": {
     "duration": 2.051615,
     "end_time": "2022-11-30T01:37:49.197941",
     "exception": false,
     "start_time": "2022-11-30T01:37:47.146326",
     "status": "completed"
    },
    "tags": []
   },
   "outputs": [
    {
     "data": {
      "text/plain": [
       "Text(0.5, 1.0, 'Gene correlations in chromosome 5')"
      ]
     },
     "execution_count": 43,
     "metadata": {},
     "output_type": "execute_result"
    },
    {
     "data": {
      "image/png": "[encoded data removed]",
      "text/plain": [
       "<Figure size 1000x1000 with 2 Axes>"
      ]
     },
     "metadata": {},
     "output_type": "display_data"
    }
   ],
   "source": [
    "f, ax = plt.subplots(figsize=(10, 10))\n",
    "sns.heatmap(\n",
    "    gene_corrs_df,\n",
    "    xticklabels=False,\n",
    "    yticklabels=False,\n",
    "    square=True,\n",
    "    vmin=vmin_val,\n",
    "    vmax=vmax_val,\n",
    "    cmap=\"rocket_r\",\n",
    "    ax=ax,\n",
    ")\n",
    "ax.set_title(f\"Gene correlations in chromosome {CHROMOSOME}\")"
   ]
  },
  {
   "cell_type": "code",
   "execution_count": null,
   "id": "b25e3ead",
   "metadata": {
    "papermill": {
     "duration": 1.790329,
     "end_time": "2022-11-30T01:37:52.834614",
     "exception": false,
     "start_time": "2022-11-30T01:37:51.044285",
     "status": "completed"
    },
    "tags": []
   },
   "outputs": [],
   "source": []
  }
 ],
 "metadata": {
  "jupytext": {
   "cell_metadata_filter": "all,-execution,-papermill,-trusted",
   "formats": "ipynb,py//py:percent"
  },
  "kernelspec": {
   "display_name": "Python 3 (ipykernel)",
   "language": "python",
   "name": "python3"
  },
  "language_info": {
   "codemirror_mode": {
    "name": "ipython",
    "version": 3
   },
   "file_extension": ".py",
   "mimetype": "text/x-python",
   "name": "python",
   "nbconvert_exporter": "python",
   "pygments_lexer": "ipython3",
   "version": "3.10.6"
  },
  "papermill": {
   "default_parameters": {},
   "duration": 1994.067713,
   "end_time": "2022-11-30T01:37:58.281416",
   "environment_variables": {},
   "exception": null,
   "input_path": "projects/asthma-copd/nbs/20_gene_corrs/10-gene_expr_correlations.ipynb",
   "output_path": "projects/asthma-copd/nbs/20_gene_corrs/gene_corrs/aco/10-gene_expr_correlations-chr5.run.ipynb",
   "parameters": {
    "CHROMOSOME": 5,
    "COHORT_NAME": "aco",
    "OUTPUT_DIR_BASE": "/opt/data/projects/asthma-copd/results/gls_phenoplier"
   },
   "start_time": "2022-11-30T01:04:44.213703",
   "version": "2.2.2"
  }
 },
 "nbformat": 4,
 "nbformat_minor": 5
}
