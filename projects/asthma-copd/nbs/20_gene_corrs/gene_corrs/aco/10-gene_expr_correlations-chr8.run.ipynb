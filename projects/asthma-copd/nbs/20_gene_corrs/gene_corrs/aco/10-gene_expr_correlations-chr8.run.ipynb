{
 "cells": [
  {
   "cell_type": "markdown",
   "id": "7a6632fb",
   "metadata": {
    "papermill": {
     "duration": 0.009115,
     "end_time": "2022-11-30T01:25:42.287405",
     "exception": false,
     "start_time": "2022-11-30T01:25:42.278290",
     "status": "completed"
    },
    "tags": []
   },
   "source": [
    "# Description"
   ]
  },
  {
   "cell_type": "markdown",
   "id": "7097c346",
   "metadata": {
    "papermill": {
     "duration": 0.008819,
     "end_time": "2022-11-30T01:25:42.305693",
     "exception": false,
     "start_time": "2022-11-30T01:25:42.296874",
     "status": "completed"
    },
    "tags": []
   },
   "source": [
    "(Please, take a look at the README.md file in this directory for instructions on how to run this notebook)\n",
    "\n",
    "This notebook computes predicted expression correlations between all genes in the MultiPLIER models.\n",
    "\n",
    "It has specicfic parameters for papermill (see under `Settings` below).\n",
    "It can be configured to run on a single chromosome to run in parallel.\n",
    "\n",
    "This notebook is not directly run. See README.md."
   ]
  },
  {
   "cell_type": "markdown",
   "id": "c61d8427",
   "metadata": {
    "papermill": {
     "duration": 0.00816,
     "end_time": "2022-11-30T01:25:42.322195",
     "exception": false,
     "start_time": "2022-11-30T01:25:42.314035",
     "status": "completed"
    },
    "tags": []
   },
   "source": [
    "# Modules"
   ]
  },
  {
   "cell_type": "code",
   "execution_count": 1,
   "id": "bbc0234f",
   "metadata": {
    "execution": {
     "iopub.execute_input": "2022-11-30T01:25:42.341244Z",
     "iopub.status.busy": "2022-11-30T01:25:42.340715Z",
     "iopub.status.idle": "2022-11-30T01:25:42.359035Z",
     "shell.execute_reply": "2022-11-30T01:25:42.358499Z"
    },
    "papermill": {
     "duration": 0.029407,
     "end_time": "2022-11-30T01:25:42.360718",
     "exception": false,
     "start_time": "2022-11-30T01:25:42.331311",
     "status": "completed"
    },
    "tags": []
   },
   "outputs": [],
   "source": [
    "%load_ext autoreload\n",
    "%autoreload 2"
   ]
  },
  {
   "cell_type": "code",
   "execution_count": 2,
   "id": "1d5f5a59",
   "metadata": {
    "execution": {
     "iopub.execute_input": "2022-11-30T01:25:42.379314Z",
     "iopub.status.busy": "2022-11-30T01:25:42.379084Z",
     "iopub.status.idle": "2022-11-30T01:25:43.066678Z",
     "shell.execute_reply": "2022-11-30T01:25:43.066226Z"
    },
    "papermill": {
     "duration": 0.698991,
     "end_time": "2022-11-30T01:25:43.068421",
     "exception": false,
     "start_time": "2022-11-30T01:25:42.369430",
     "status": "completed"
    },
    "tags": []
   },
   "outputs": [],
   "source": [
    "from random import sample, seed\n",
    "import warnings\n",
    "from pathlib import Path\n",
    "import pickle\n",
    "import traceback\n",
    "\n",
    "import numpy as np\n",
    "from scipy.spatial.distance import squareform\n",
    "import pandas as pd\n",
    "from tqdm import tqdm\n",
    "import matplotlib.pyplot as plt\n",
    "import seaborn as sns\n",
    "\n",
    "import conf\n",
    "from entity import Gene"
   ]
  },
  {
   "cell_type": "markdown",
   "id": "1eac24b5",
   "metadata": {
    "papermill": {
     "duration": 0.009749,
     "end_time": "2022-11-30T01:25:43.087047",
     "exception": false,
     "start_time": "2022-11-30T01:25:43.077298",
     "status": "completed"
    },
    "tags": []
   },
   "source": [
    "# Settings"
   ]
  },
  {
   "cell_type": "code",
   "execution_count": 3,
   "id": "ca4560ba",
   "metadata": {
    "execution": {
     "iopub.execute_input": "2022-11-30T01:25:43.104582Z",
     "iopub.status.busy": "2022-11-30T01:25:43.104450Z",
     "iopub.status.idle": "2022-11-30T01:25:43.124055Z",
     "shell.execute_reply": "2022-11-30T01:25:43.123542Z"
    },
    "papermill": {
     "duration": 0.030245,
     "end_time": "2022-11-30T01:25:43.125706",
     "exception": false,
     "start_time": "2022-11-30T01:25:43.095461",
     "status": "completed"
    },
    "tags": [
     "parameters"
    ]
   },
   "outputs": [],
   "source": [
    "# a cohort name (it could be something like UK_BIOBANK, etc)\n",
    "COHORT_NAME = None\n",
    "\n",
    "# reference panel such as 1000G or GTEX_V8\n",
    "REFERENCE_PANEL = \"GTEX_V8\"\n",
    "\n",
    "# predictions models such as MASHR or ELASTIC_NET\n",
    "EQTL_MODEL = \"MASHR\"\n",
    "\n",
    "# this is the default value used in S-MultiXcan to select the\n",
    "# top principal components of the expression correlation matrix\n",
    "SMULTIXCAN_CONDITION_NUMBER = 30\n",
    "\n",
    "# specifies a single chromosome value\n",
    "CHROMOSOME = None\n",
    "\n",
    "# If True, computes the correlation between closeby genes only;\n",
    "# otherwise, it computes correlations for all genes in a chromosome\n",
    "COMPUTE_CORRELATIONS_WITHIN_DISTANCE = False\n",
    "\n",
    "# if True, then it will continue if a gene pair correlation fails,\n",
    "# printing the warning/error for debugging. If False, any warning/error\n",
    "# will be thrown\n",
    "DEBUG_MODE = False\n",
    "\n",
    "# output dir\n",
    "OUTPUT_DIR_BASE = None"
   ]
  },
  {
   "cell_type": "code",
   "execution_count": 4,
   "id": "7f2beb43",
   "metadata": {
    "execution": {
     "iopub.execute_input": "2022-11-30T01:25:43.145104Z",
     "iopub.status.busy": "2022-11-30T01:25:43.144775Z",
     "iopub.status.idle": "2022-11-30T01:25:43.165852Z",
     "shell.execute_reply": "2022-11-30T01:25:43.165305Z"
    },
    "papermill": {
     "duration": 0.032131,
     "end_time": "2022-11-30T01:25:43.167371",
     "exception": false,
     "start_time": "2022-11-30T01:25:43.135240",
     "status": "completed"
    },
    "tags": [
     "injected-parameters"
    ]
   },
   "outputs": [],
   "source": [
    "# Parameters\n",
    "COHORT_NAME = \"aco\"\n",
    "CHROMOSOME = 8\n",
    "OUTPUT_DIR_BASE = \"/opt/data/projects/asthma-copd/results/gls_phenoplier\"\n"
   ]
  },
  {
   "cell_type": "code",
   "execution_count": 5,
   "id": "3190631f-27fc-480f-b18e-571d580425a5",
   "metadata": {
    "execution": {
     "iopub.execute_input": "2022-11-30T01:25:43.185551Z",
     "iopub.status.busy": "2022-11-30T01:25:43.185319Z",
     "iopub.status.idle": "2022-11-30T01:25:43.214393Z",
     "shell.execute_reply": "2022-11-30T01:25:43.213732Z"
    },
    "papermill": {
     "duration": 0.039601,
     "end_time": "2022-11-30T01:25:43.215787",
     "exception": false,
     "start_time": "2022-11-30T01:25:43.176186",
     "status": "completed"
    },
    "tags": []
   },
   "outputs": [
    {
     "data": {
      "text/plain": [
       "'Cohort name: aco'"
      ]
     },
     "metadata": {},
     "output_type": "display_data"
    }
   ],
   "source": [
    "assert COHORT_NAME is not None and len(COHORT_NAME) > 0, \"A cohort name must be given\"\n",
    "\n",
    "COHORT_NAME = COHORT_NAME.lower()\n",
    "display(f\"Cohort name: {COHORT_NAME}\")"
   ]
  },
  {
   "cell_type": "code",
   "execution_count": 6,
   "id": "f53ba19b-0f93-4fa2-a047-63b375939d1a",
   "metadata": {
    "execution": {
     "iopub.execute_input": "2022-11-30T01:25:43.233676Z",
     "iopub.status.busy": "2022-11-30T01:25:43.233307Z",
     "iopub.status.idle": "2022-11-30T01:25:43.257316Z",
     "shell.execute_reply": "2022-11-30T01:25:43.256658Z"
    },
    "papermill": {
     "duration": 0.034332,
     "end_time": "2022-11-30T01:25:43.258822",
     "exception": false,
     "start_time": "2022-11-30T01:25:43.224490",
     "status": "completed"
    },
    "tags": []
   },
   "outputs": [
    {
     "data": {
      "text/plain": [
       "'Reference panel: GTEX_V8'"
      ]
     },
     "metadata": {},
     "output_type": "display_data"
    }
   ],
   "source": [
    "assert (\n",
    "    REFERENCE_PANEL is not None and len(REFERENCE_PANEL) > 0\n",
    "), \"A reference panel must be given\"\n",
    "\n",
    "display(f\"Reference panel: {REFERENCE_PANEL}\")"
   ]
  },
  {
   "cell_type": "code",
   "execution_count": 7,
   "id": "e024d130-c139-429a-9c6e-ccf149e297b0",
   "metadata": {
    "execution": {
     "iopub.execute_input": "2022-11-30T01:25:43.278257Z",
     "iopub.status.busy": "2022-11-30T01:25:43.277776Z",
     "iopub.status.idle": "2022-11-30T01:25:43.301657Z",
     "shell.execute_reply": "2022-11-30T01:25:43.300999Z"
    },
    "papermill": {
     "duration": 0.035341,
     "end_time": "2022-11-30T01:25:43.303165",
     "exception": false,
     "start_time": "2022-11-30T01:25:43.267824",
     "status": "completed"
    },
    "tags": []
   },
   "outputs": [
    {
     "data": {
      "text/plain": [
       "'eQTL model: MASHR) / mashr_'"
      ]
     },
     "metadata": {},
     "output_type": "display_data"
    }
   ],
   "source": [
    "assert (\n",
    "    EQTL_MODEL is not None and len(EQTL_MODEL) > 0\n",
    "), \"A prediction/eQTL model must be given\"\n",
    "\n",
    "EQTL_MODEL_FILES_PREFIX = conf.PHENOMEXCAN[\"PREDICTION_MODELS\"][f\"{EQTL_MODEL}_PREFIX\"]\n",
    "display(f\"eQTL model: {EQTL_MODEL}) / {EQTL_MODEL_FILES_PREFIX}\")"
   ]
  },
  {
   "cell_type": "code",
   "execution_count": 8,
   "id": "552a7f63-a18c-4d3e-bb6a-94f99b431291",
   "metadata": {
    "execution": {
     "iopub.execute_input": "2022-11-30T01:25:43.322316Z",
     "iopub.status.busy": "2022-11-30T01:25:43.321802Z",
     "iopub.status.idle": "2022-11-30T01:25:43.345070Z",
     "shell.execute_reply": "2022-11-30T01:25:43.344405Z"
    },
    "papermill": {
     "duration": 0.034376,
     "end_time": "2022-11-30T01:25:43.346617",
     "exception": false,
     "start_time": "2022-11-30T01:25:43.312241",
     "status": "completed"
    },
    "tags": []
   },
   "outputs": [
    {
     "data": {
      "text/plain": [
       "'S-MultiXcan condition number: 30'"
      ]
     },
     "metadata": {},
     "output_type": "display_data"
    }
   ],
   "source": [
    "assert (\n",
    "    SMULTIXCAN_CONDITION_NUMBER is not None and SMULTIXCAN_CONDITION_NUMBER > 0\n",
    "), \"The S-MultiXcan condition number (positive integer) must be given\"\n",
    "\n",
    "display(f\"S-MultiXcan condition number: {SMULTIXCAN_CONDITION_NUMBER}\")"
   ]
  },
  {
   "cell_type": "code",
   "execution_count": 9,
   "id": "f34a336f-548e-4afe-8955-90eaea4f42c6",
   "metadata": {
    "execution": {
     "iopub.execute_input": "2022-11-30T01:25:43.366598Z",
     "iopub.status.busy": "2022-11-30T01:25:43.366075Z",
     "iopub.status.idle": "2022-11-30T01:25:43.389378Z",
     "shell.execute_reply": "2022-11-30T01:25:43.388836Z"
    },
    "papermill": {
     "duration": 0.034889,
     "end_time": "2022-11-30T01:25:43.390819",
     "exception": false,
     "start_time": "2022-11-30T01:25:43.355930",
     "status": "completed"
    },
    "tags": []
   },
   "outputs": [
    {
     "data": {
      "text/plain": [
       "'Working on chromosome 8'"
      ]
     },
     "metadata": {},
     "output_type": "display_data"
    }
   ],
   "source": [
    "assert CHROMOSOME is not None and (\n",
    "    1 <= CHROMOSOME <= 22\n",
    "), \"You have to select one chromosome (format: number between 1 and 22)\"\n",
    "\n",
    "# CHROMOSOME = str(CHROMOSOME)\n",
    "display(f\"Working on chromosome {CHROMOSOME}\")"
   ]
  },
  {
   "cell_type": "code",
   "execution_count": 10,
   "id": "ab8e96e8-06b5-4363-9dcd-dc4d78cc27f7",
   "metadata": {
    "execution": {
     "iopub.execute_input": "2022-11-30T01:25:43.410611Z",
     "iopub.status.busy": "2022-11-30T01:25:43.410329Z",
     "iopub.status.idle": "2022-11-30T01:25:43.432464Z",
     "shell.execute_reply": "2022-11-30T01:25:43.431938Z"
    },
    "papermill": {
     "duration": 0.033617,
     "end_time": "2022-11-30T01:25:43.433908",
     "exception": false,
     "start_time": "2022-11-30T01:25:43.400291",
     "status": "completed"
    },
    "tags": []
   },
   "outputs": [
    {
     "data": {
      "text/plain": [
       "'Compute correlation within distance False'"
      ]
     },
     "metadata": {},
     "output_type": "display_data"
    }
   ],
   "source": [
    "display(f\"Compute correlation within distance {COMPUTE_CORRELATIONS_WITHIN_DISTANCE}\")"
   ]
  },
  {
   "cell_type": "code",
   "execution_count": 11,
   "id": "b393b698-77e3-4ba2-8ac1-e14d51aa988f",
   "metadata": {
    "execution": {
     "iopub.execute_input": "2022-11-30T01:25:43.454036Z",
     "iopub.status.busy": "2022-11-30T01:25:43.453759Z",
     "iopub.status.idle": "2022-11-30T01:25:43.473120Z",
     "shell.execute_reply": "2022-11-30T01:25:43.472746Z"
    },
    "papermill": {
     "duration": 0.031387,
     "end_time": "2022-11-30T01:25:43.474901",
     "exception": false,
     "start_time": "2022-11-30T01:25:43.443514",
     "status": "completed"
    },
    "tags": []
   },
   "outputs": [
    {
     "data": {
      "text/plain": [
       "'Using output dir base: /opt/data/projects/asthma-copd/results/gls_phenoplier/gene_corrs/aco'"
      ]
     },
     "metadata": {},
     "output_type": "display_data"
    }
   ],
   "source": [
    "assert (\n",
    "    OUTPUT_DIR_BASE is not None and len(OUTPUT_DIR_BASE) > 0\n",
    "), \"Output directory path must be given\"\n",
    "\n",
    "OUTPUT_DIR_BASE = (\n",
    "    Path(OUTPUT_DIR_BASE)\n",
    "    / \"gene_corrs\"\n",
    "    / COHORT_NAME\n",
    "    # / REFERENCE_PANEL.lower()\n",
    "    # / EQTL_MODEL.lower()\n",
    ").resolve()\n",
    "\n",
    "OUTPUT_DIR_BASE.mkdir(parents=True, exist_ok=True)\n",
    "\n",
    "display(f\"Using output dir base: {OUTPUT_DIR_BASE}\")"
   ]
  },
  {
   "cell_type": "markdown",
   "id": "d2ba085e",
   "metadata": {
    "papermill": {
     "duration": 0.008873,
     "end_time": "2022-11-30T01:25:43.494390",
     "exception": false,
     "start_time": "2022-11-30T01:25:43.485517",
     "status": "completed"
    },
    "tags": []
   },
   "source": [
    "# Load data"
   ]
  },
  {
   "cell_type": "markdown",
   "id": "7dcb8db7",
   "metadata": {
    "papermill": {
     "duration": 0.004808,
     "end_time": "2022-11-30T01:25:43.504797",
     "exception": false,
     "start_time": "2022-11-30T01:25:43.499989",
     "status": "completed"
    },
    "tags": []
   },
   "source": [
    "## GWAS variants"
   ]
  },
  {
   "cell_type": "code",
   "execution_count": 12,
   "id": "29434c4e-8cd3-4b9b-82e4-b5a251d9dd19",
   "metadata": {
    "execution": {
     "iopub.execute_input": "2022-11-30T01:25:43.515631Z",
     "iopub.status.busy": "2022-11-30T01:25:43.515306Z",
     "iopub.status.idle": "2022-11-30T01:25:45.563613Z",
     "shell.execute_reply": "2022-11-30T01:25:45.563161Z"
    },
    "papermill": {
     "duration": 2.055774,
     "end_time": "2022-11-30T01:25:45.565333",
     "exception": false,
     "start_time": "2022-11-30T01:25:43.509559",
     "status": "completed"
    },
    "tags": []
   },
   "outputs": [],
   "source": [
    "with open(OUTPUT_DIR_BASE / \"gwas_variant_ids.pkl\", \"rb\") as handle:\n",
    "    gwas_variants_ids_set = pickle.load(handle)"
   ]
  },
  {
   "cell_type": "code",
   "execution_count": 13,
   "id": "b9d9dec2-4a76-4bf9-bde2-e24c95acb8a0",
   "metadata": {
    "execution": {
     "iopub.execute_input": "2022-11-30T01:25:45.585543Z",
     "iopub.status.busy": "2022-11-30T01:25:45.585421Z",
     "iopub.status.idle": "2022-11-30T01:25:45.598616Z",
     "shell.execute_reply": "2022-11-30T01:25:45.598233Z"
    },
    "papermill": {
     "duration": 0.024834,
     "end_time": "2022-11-30T01:25:45.599983",
     "exception": false,
     "start_time": "2022-11-30T01:25:45.575149",
     "status": "completed"
    },
    "tags": []
   },
   "outputs": [
    {
     "data": {
      "text/plain": [
       "8561476"
      ]
     },
     "execution_count": 13,
     "metadata": {},
     "output_type": "execute_result"
    }
   ],
   "source": [
    "len(gwas_variants_ids_set)"
   ]
  },
  {
   "cell_type": "code",
   "execution_count": 14,
   "id": "4235b06a-6034-4ee4-a0a3-2ae35d122418",
   "metadata": {
    "execution": {
     "iopub.execute_input": "2022-11-30T01:25:45.620656Z",
     "iopub.status.busy": "2022-11-30T01:25:45.620534Z",
     "iopub.status.idle": "2022-11-30T01:25:45.995630Z",
     "shell.execute_reply": "2022-11-30T01:25:45.995231Z"
    },
    "papermill": {
     "duration": 0.387165,
     "end_time": "2022-11-30T01:25:45.997004",
     "exception": false,
     "start_time": "2022-11-30T01:25:45.609839",
     "status": "completed"
    },
    "tags": []
   },
   "outputs": [
    {
     "data": {
      "text/plain": [
       "['chr9_4937331_C_T_b38',\n",
       " 'chr12_117127476_G_T_b38',\n",
       " 'chr15_98132193_G_C_b38',\n",
       " 'chr5_85979893_G_GTT_b38',\n",
       " 'chr3_94318108_A_G_b38']"
      ]
     },
     "execution_count": 14,
     "metadata": {},
     "output_type": "execute_result"
    }
   ],
   "source": [
    "list(gwas_variants_ids_set)[:5]"
   ]
  },
  {
   "cell_type": "markdown",
   "id": "07866999-2305-41f9-a144-e69c9122c212",
   "metadata": {
    "papermill": {
     "duration": 0.009762,
     "end_time": "2022-11-30T01:25:46.016801",
     "exception": false,
     "start_time": "2022-11-30T01:25:46.007039",
     "status": "completed"
    },
    "tags": []
   },
   "source": [
    "## S-PrediXcan tissue models"
   ]
  },
  {
   "cell_type": "code",
   "execution_count": 15,
   "id": "780611d9-77c8-405f-90a4-f271f7b09397",
   "metadata": {
    "execution": {
     "iopub.execute_input": "2022-11-30T01:25:46.037676Z",
     "iopub.status.busy": "2022-11-30T01:25:46.037537Z",
     "iopub.status.idle": "2022-11-30T01:25:46.648168Z",
     "shell.execute_reply": "2022-11-30T01:25:46.647675Z"
    },
    "papermill": {
     "duration": 0.623392,
     "end_time": "2022-11-30T01:25:46.650093",
     "exception": false,
     "start_time": "2022-11-30T01:25:46.026701",
     "status": "completed"
    },
    "tags": []
   },
   "outputs": [],
   "source": [
    "spredixcan_genes_models = pd.read_pickle(OUTPUT_DIR_BASE / \"gene_tissues.pkl\")"
   ]
  },
  {
   "cell_type": "code",
   "execution_count": 16,
   "id": "726dd1f6-9557-4225-91fa-b3b879ea96e1",
   "metadata": {
    "execution": {
     "iopub.execute_input": "2022-11-30T01:25:46.670949Z",
     "iopub.status.busy": "2022-11-30T01:25:46.670741Z",
     "iopub.status.idle": "2022-11-30T01:25:46.684014Z",
     "shell.execute_reply": "2022-11-30T01:25:46.683639Z"
    },
    "papermill": {
     "duration": 0.025065,
     "end_time": "2022-11-30T01:25:46.685358",
     "exception": false,
     "start_time": "2022-11-30T01:25:46.660293",
     "status": "completed"
    },
    "tags": []
   },
   "outputs": [
    {
     "data": {
      "text/plain": [
       "(6442, 5)"
      ]
     },
     "execution_count": 16,
     "metadata": {},
     "output_type": "execute_result"
    }
   ],
   "source": [
    "spredixcan_genes_models.shape"
   ]
  },
  {
   "cell_type": "code",
   "execution_count": 17,
   "id": "944a1b48-222c-4eb0-b252-b9de2cbca215",
   "metadata": {
    "execution": {
     "iopub.execute_input": "2022-11-30T01:25:46.706043Z",
     "iopub.status.busy": "2022-11-30T01:25:46.705921Z",
     "iopub.status.idle": "2022-11-30T01:25:46.722853Z",
     "shell.execute_reply": "2022-11-30T01:25:46.722471Z"
    },
    "papermill": {
     "duration": 0.028685,
     "end_time": "2022-11-30T01:25:46.724194",
     "exception": false,
     "start_time": "2022-11-30T01:25:46.695509",
     "status": "completed"
    },
    "tags": []
   },
   "outputs": [
    {
     "data": {
      "text/html": [
       "<div>\n",
       "<style scoped>\n",
       "    .dataframe tbody tr th:only-of-type {\n",
       "        vertical-align: middle;\n",
       "    }\n",
       "\n",
       "    .dataframe tbody tr th {\n",
       "        vertical-align: top;\n",
       "    }\n",
       "\n",
       "    .dataframe thead th {\n",
       "        text-align: right;\n",
       "    }\n",
       "</style>\n",
       "<table border=\"1\" class=\"dataframe\">\n",
       "  <thead>\n",
       "    <tr style=\"text-align: right;\">\n",
       "      <th></th>\n",
       "      <th>gene_name</th>\n",
       "      <th>tissue</th>\n",
       "      <th>n_tissues</th>\n",
       "      <th>n_snps_used_sum</th>\n",
       "      <th>n_snps_in_model_sum</th>\n",
       "    </tr>\n",
       "    <tr>\n",
       "      <th>gene_id</th>\n",
       "      <th></th>\n",
       "      <th></th>\n",
       "      <th></th>\n",
       "      <th></th>\n",
       "      <th></th>\n",
       "    </tr>\n",
       "  </thead>\n",
       "  <tbody>\n",
       "    <tr>\n",
       "      <th>ENSG00000000419</th>\n",
       "      <td>DPM1</td>\n",
       "      <td>(Brain_Hypothalamus, Brain_Substantia_nigra)</td>\n",
       "      <td>2</td>\n",
       "      <td>2</td>\n",
       "      <td>2</td>\n",
       "    </tr>\n",
       "    <tr>\n",
       "      <th>ENSG00000000938</th>\n",
       "      <td>FGR</td>\n",
       "      <td>(Brain_Cortex, Lung, Adipose_Subcutaneous, Bra...</td>\n",
       "      <td>36</td>\n",
       "      <td>40</td>\n",
       "      <td>40</td>\n",
       "    </tr>\n",
       "    <tr>\n",
       "      <th>ENSG00000000971</th>\n",
       "      <td>CFH</td>\n",
       "      <td>(Brain_Cortex, Lung, Brain_Caudate_basal_gangl...</td>\n",
       "      <td>34</td>\n",
       "      <td>44</td>\n",
       "      <td>44</td>\n",
       "    </tr>\n",
       "    <tr>\n",
       "      <th>ENSG00000001084</th>\n",
       "      <td>GCLC</td>\n",
       "      <td>(Brain_Cortex, Lung, Adipose_Subcutaneous, Mus...</td>\n",
       "      <td>32</td>\n",
       "      <td>46</td>\n",
       "      <td>46</td>\n",
       "    </tr>\n",
       "    <tr>\n",
       "      <th>ENSG00000001167</th>\n",
       "      <td>NFYA</td>\n",
       "      <td>(Brain_Cortex, Lung, Brain_Caudate_basal_gangl...</td>\n",
       "      <td>40</td>\n",
       "      <td>47</td>\n",
       "      <td>48</td>\n",
       "    </tr>\n",
       "  </tbody>\n",
       "</table>\n",
       "</div>"
      ],
      "text/plain": [
       "                gene_name                                             tissue  \\\n",
       "gene_id                                                                        \n",
       "ENSG00000000419      DPM1       (Brain_Hypothalamus, Brain_Substantia_nigra)   \n",
       "ENSG00000000938       FGR  (Brain_Cortex, Lung, Adipose_Subcutaneous, Bra...   \n",
       "ENSG00000000971       CFH  (Brain_Cortex, Lung, Brain_Caudate_basal_gangl...   \n",
       "ENSG00000001084      GCLC  (Brain_Cortex, Lung, Adipose_Subcutaneous, Mus...   \n",
       "ENSG00000001167      NFYA  (Brain_Cortex, Lung, Brain_Caudate_basal_gangl...   \n",
       "\n",
       "                 n_tissues  n_snps_used_sum  n_snps_in_model_sum  \n",
       "gene_id                                                           \n",
       "ENSG00000000419          2                2                    2  \n",
       "ENSG00000000938         36               40                   40  \n",
       "ENSG00000000971         34               44                   44  \n",
       "ENSG00000001084         32               46                   46  \n",
       "ENSG00000001167         40               47                   48  "
      ]
     },
     "execution_count": 17,
     "metadata": {},
     "output_type": "execute_result"
    }
   ],
   "source": [
    "spredixcan_genes_models.head()"
   ]
  },
  {
   "cell_type": "code",
   "execution_count": 18,
   "id": "d1c11bb1-be0b-4f40-b360-633d6827109f",
   "metadata": {
    "execution": {
     "iopub.execute_input": "2022-11-30T01:25:46.746100Z",
     "iopub.status.busy": "2022-11-30T01:25:46.745969Z",
     "iopub.status.idle": "2022-11-30T01:25:46.758977Z",
     "shell.execute_reply": "2022-11-30T01:25:46.758576Z"
    },
    "papermill": {
     "duration": 0.025079,
     "end_time": "2022-11-30T01:25:46.760361",
     "exception": false,
     "start_time": "2022-11-30T01:25:46.735282",
     "status": "completed"
    },
    "tags": []
   },
   "outputs": [],
   "source": [
    "assert spredixcan_genes_models.index.is_unique"
   ]
  },
  {
   "cell_type": "markdown",
   "id": "a5b5092c-a13e-47c4-a92a-480fcc08f3ae",
   "metadata": {
    "papermill": {
     "duration": 0.01052,
     "end_time": "2022-11-30T01:25:46.781304",
     "exception": false,
     "start_time": "2022-11-30T01:25:46.770784",
     "status": "completed"
    },
    "tags": []
   },
   "source": [
    "## Gene info"
   ]
  },
  {
   "cell_type": "code",
   "execution_count": 19,
   "id": "7d6bb224-88e9-4358-ac10-43a41d92cdad",
   "metadata": {
    "execution": {
     "iopub.execute_input": "2022-11-30T01:25:46.801777Z",
     "iopub.status.busy": "2022-11-30T01:25:46.801402Z",
     "iopub.status.idle": "2022-11-30T01:25:46.823794Z",
     "shell.execute_reply": "2022-11-30T01:25:46.823265Z"
    },
    "papermill": {
     "duration": 0.034197,
     "end_time": "2022-11-30T01:25:46.825241",
     "exception": false,
     "start_time": "2022-11-30T01:25:46.791044",
     "status": "completed"
    },
    "tags": []
   },
   "outputs": [],
   "source": [
    "genes_info = pd.read_pickle(OUTPUT_DIR_BASE / \"genes_info.pkl\")"
   ]
  },
  {
   "cell_type": "code",
   "execution_count": 20,
   "id": "9e32abfa-546d-483e-8c18-d526e9e05903",
   "metadata": {
    "execution": {
     "iopub.execute_input": "2022-11-30T01:25:46.846579Z",
     "iopub.status.busy": "2022-11-30T01:25:46.846115Z",
     "iopub.status.idle": "2022-11-30T01:25:46.867061Z",
     "shell.execute_reply": "2022-11-30T01:25:46.866513Z"
    },
    "papermill": {
     "duration": 0.033096,
     "end_time": "2022-11-30T01:25:46.868457",
     "exception": false,
     "start_time": "2022-11-30T01:25:46.835361",
     "status": "completed"
    },
    "tags": []
   },
   "outputs": [
    {
     "data": {
      "text/plain": [
       "(6442, 7)"
      ]
     },
     "execution_count": 20,
     "metadata": {},
     "output_type": "execute_result"
    }
   ],
   "source": [
    "genes_info.shape"
   ]
  },
  {
   "cell_type": "code",
   "execution_count": 21,
   "id": "d16c3e92-85ec-468a-9a56-e25a9774a1cb",
   "metadata": {
    "execution": {
     "iopub.execute_input": "2022-11-30T01:25:46.889145Z",
     "iopub.status.busy": "2022-11-30T01:25:46.888886Z",
     "iopub.status.idle": "2022-11-30T01:25:46.913836Z",
     "shell.execute_reply": "2022-11-30T01:25:46.913332Z"
    },
    "papermill": {
     "duration": 0.036736,
     "end_time": "2022-11-30T01:25:46.915223",
     "exception": false,
     "start_time": "2022-11-30T01:25:46.878487",
     "status": "completed"
    },
    "tags": []
   },
   "outputs": [
    {
     "data": {
      "text/html": [
       "<div>\n",
       "<style scoped>\n",
       "    .dataframe tbody tr th:only-of-type {\n",
       "        vertical-align: middle;\n",
       "    }\n",
       "\n",
       "    .dataframe tbody tr th {\n",
       "        vertical-align: top;\n",
       "    }\n",
       "\n",
       "    .dataframe thead th {\n",
       "        text-align: right;\n",
       "    }\n",
       "</style>\n",
       "<table border=\"1\" class=\"dataframe\">\n",
       "  <thead>\n",
       "    <tr style=\"text-align: right;\">\n",
       "      <th></th>\n",
       "      <th>name</th>\n",
       "      <th>id</th>\n",
       "      <th>chr</th>\n",
       "      <th>band</th>\n",
       "      <th>start_position</th>\n",
       "      <th>end_position</th>\n",
       "      <th>gene_length</th>\n",
       "    </tr>\n",
       "  </thead>\n",
       "  <tbody>\n",
       "    <tr>\n",
       "      <th>0</th>\n",
       "      <td>IFIT3</td>\n",
       "      <td>ENSG00000119917</td>\n",
       "      <td>10</td>\n",
       "      <td>10q23.31</td>\n",
       "      <td>89327997</td>\n",
       "      <td>89340971</td>\n",
       "      <td>12974</td>\n",
       "    </tr>\n",
       "    <tr>\n",
       "      <th>1</th>\n",
       "      <td>ZFP36</td>\n",
       "      <td>ENSG00000128016</td>\n",
       "      <td>19</td>\n",
       "      <td>19q13.2</td>\n",
       "      <td>39406813</td>\n",
       "      <td>39409412</td>\n",
       "      <td>2599</td>\n",
       "    </tr>\n",
       "    <tr>\n",
       "      <th>2</th>\n",
       "      <td>ZNF597</td>\n",
       "      <td>ENSG00000167981</td>\n",
       "      <td>16</td>\n",
       "      <td>16p13.3</td>\n",
       "      <td>3432414</td>\n",
       "      <td>3443504</td>\n",
       "      <td>11090</td>\n",
       "    </tr>\n",
       "    <tr>\n",
       "      <th>3</th>\n",
       "      <td>AGPS</td>\n",
       "      <td>ENSG00000018510</td>\n",
       "      <td>2</td>\n",
       "      <td>2q31.2</td>\n",
       "      <td>177392768</td>\n",
       "      <td>177559299</td>\n",
       "      <td>166531</td>\n",
       "    </tr>\n",
       "    <tr>\n",
       "      <th>4</th>\n",
       "      <td>CDK2</td>\n",
       "      <td>ENSG00000123374</td>\n",
       "      <td>12</td>\n",
       "      <td>12q13.2</td>\n",
       "      <td>55966781</td>\n",
       "      <td>55972789</td>\n",
       "      <td>6008</td>\n",
       "    </tr>\n",
       "  </tbody>\n",
       "</table>\n",
       "</div>"
      ],
      "text/plain": [
       "     name               id  chr      band  start_position  end_position  \\\n",
       "0   IFIT3  ENSG00000119917   10  10q23.31        89327997      89340971   \n",
       "1   ZFP36  ENSG00000128016   19   19q13.2        39406813      39409412   \n",
       "2  ZNF597  ENSG00000167981   16   16p13.3         3432414       3443504   \n",
       "3    AGPS  ENSG00000018510    2    2q31.2       177392768     177559299   \n",
       "4    CDK2  ENSG00000123374   12   12q13.2        55966781      55972789   \n",
       "\n",
       "   gene_length  \n",
       "0        12974  \n",
       "1         2599  \n",
       "2        11090  \n",
       "3       166531  \n",
       "4         6008  "
      ]
     },
     "execution_count": 21,
     "metadata": {},
     "output_type": "execute_result"
    }
   ],
   "source": [
    "genes_info.head()"
   ]
  },
  {
   "cell_type": "markdown",
   "id": "d3843e06",
   "metadata": {
    "papermill": {
     "duration": 0.010396,
     "end_time": "2022-11-30T01:25:46.935872",
     "exception": false,
     "start_time": "2022-11-30T01:25:46.925476",
     "status": "completed"
    },
    "tags": []
   },
   "source": [
    "# Compute correlations"
   ]
  },
  {
   "cell_type": "code",
   "execution_count": 22,
   "id": "cb859c15-d1f3-4006-a74c-2b83c0db9611",
   "metadata": {
    "execution": {
     "iopub.execute_input": "2022-11-30T01:25:46.956667Z",
     "iopub.status.busy": "2022-11-30T01:25:46.956399Z",
     "iopub.status.idle": "2022-11-30T01:25:46.977494Z",
     "shell.execute_reply": "2022-11-30T01:25:46.976999Z"
    },
    "papermill": {
     "duration": 0.033077,
     "end_time": "2022-11-30T01:25:46.978830",
     "exception": false,
     "start_time": "2022-11-30T01:25:46.945753",
     "status": "completed"
    },
    "tags": []
   },
   "outputs": [
    {
     "data": {
      "text/plain": [
       "PosixPath('/opt/data/projects/asthma-copd/results/gls_phenoplier/gene_corrs/aco/by_chr/gene_corrs-chr8.pkl')"
      ]
     },
     "metadata": {},
     "output_type": "display_data"
    }
   ],
   "source": [
    "output_dir = OUTPUT_DIR_BASE / \"by_chr\"\n",
    "output_dir.mkdir(exist_ok=True, parents=True)\n",
    "output_file = output_dir / f\"gene_corrs-chr{CHROMOSOME}.pkl\"\n",
    "display(output_file)"
   ]
  },
  {
   "cell_type": "code",
   "execution_count": 23,
   "id": "aa674fe4-6794-4eed-98fa-32b39d1d4ace",
   "metadata": {
    "execution": {
     "iopub.execute_input": "2022-11-30T01:25:47.000760Z",
     "iopub.status.busy": "2022-11-30T01:25:47.000497Z",
     "iopub.status.idle": "2022-11-30T01:25:47.020168Z",
     "shell.execute_reply": "2022-11-30T01:25:47.019663Z"
    },
    "papermill": {
     "duration": 0.032087,
     "end_time": "2022-11-30T01:25:47.021705",
     "exception": false,
     "start_time": "2022-11-30T01:25:46.989618",
     "status": "completed"
    },
    "tags": []
   },
   "outputs": [],
   "source": [
    "warnings.filterwarnings(\"error\")"
   ]
  },
  {
   "cell_type": "code",
   "execution_count": 24,
   "id": "44d5450b-3baf-43f1-9e2e-4b06f1a785f8",
   "metadata": {
    "execution": {
     "iopub.execute_input": "2022-11-30T01:25:47.043495Z",
     "iopub.status.busy": "2022-11-30T01:25:47.043003Z",
     "iopub.status.idle": "2022-11-30T01:25:47.063319Z",
     "shell.execute_reply": "2022-11-30T01:25:47.062810Z"
    },
    "papermill": {
     "duration": 0.032685,
     "end_time": "2022-11-30T01:25:47.064788",
     "exception": false,
     "start_time": "2022-11-30T01:25:47.032103",
     "status": "completed"
    },
    "tags": []
   },
   "outputs": [],
   "source": [
    "# standard checks\n",
    "all_chrs = genes_info[\"chr\"].dropna().unique()\n",
    "assert all_chrs.shape[0] == 22\n",
    "\n",
    "# select chromosome given by the user\n",
    "assert CHROMOSOME in all_chrs"
   ]
  },
  {
   "cell_type": "code",
   "execution_count": 25,
   "id": "2d7c043c-92a7-4d35-991b-fa69ac1e0268",
   "metadata": {
    "execution": {
     "iopub.execute_input": "2022-11-30T01:25:47.086712Z",
     "iopub.status.busy": "2022-11-30T01:25:47.086453Z",
     "iopub.status.idle": "2022-11-30T01:25:47.108132Z",
     "shell.execute_reply": "2022-11-30T01:25:47.107616Z"
    },
    "papermill": {
     "duration": 0.033832,
     "end_time": "2022-11-30T01:25:47.109506",
     "exception": false,
     "start_time": "2022-11-30T01:25:47.075674",
     "status": "completed"
    },
    "tags": []
   },
   "outputs": [
    {
     "name": "stdout",
     "output_type": "stream",
     "text": [
      "Number of genes in chromosome: 222\n"
     ]
    }
   ],
   "source": [
    "# run only on the chromosome specified\n",
    "all_chrs = [CHROMOSOME]\n",
    "genes_chr = genes_info[genes_info[\"chr\"] == CHROMOSOME]\n",
    "\n",
    "# For testing purposes\n",
    "# genes_chr = genes_chr.sample(n=20)\n",
    "\n",
    "print(f\"Number of genes in chromosome: {genes_chr.shape[0]}\", flush=True)"
   ]
  },
  {
   "cell_type": "code",
   "execution_count": 26,
   "id": "916015d8-2979-46d3-a9b9-1cf5a0932c6a",
   "metadata": {
    "execution": {
     "iopub.execute_input": "2022-11-30T01:25:47.131769Z",
     "iopub.status.busy": "2022-11-30T01:25:47.131494Z",
     "iopub.status.idle": "2022-11-30T01:25:47.152364Z",
     "shell.execute_reply": "2022-11-30T01:25:47.151785Z"
    },
    "papermill": {
     "duration": 0.034344,
     "end_time": "2022-11-30T01:25:47.154414",
     "exception": false,
     "start_time": "2022-11-30T01:25:47.120070",
     "status": "completed"
    },
    "tags": []
   },
   "outputs": [],
   "source": [
    "# sort genes by starting position to make visualizations better later\n",
    "genes_chr = genes_chr.sort_values(\"start_position\")"
   ]
  },
  {
   "cell_type": "code",
   "execution_count": 27,
   "id": "a38aa74a-8ad3-47f6-8ef9-56be0e011774",
   "metadata": {
    "execution": {
     "iopub.execute_input": "2022-11-30T01:25:47.177806Z",
     "iopub.status.busy": "2022-11-30T01:25:47.177526Z",
     "iopub.status.idle": "2022-11-30T01:25:47.198112Z",
     "shell.execute_reply": "2022-11-30T01:25:47.197588Z"
    },
    "papermill": {
     "duration": 0.033581,
     "end_time": "2022-11-30T01:25:47.199605",
     "exception": false,
     "start_time": "2022-11-30T01:25:47.166024",
     "status": "completed"
    },
    "tags": []
   },
   "outputs": [],
   "source": [
    "gene_chr_objs = [Gene(ensembl_id=gene_id) for gene_id in genes_chr[\"id\"]]"
   ]
  },
  {
   "cell_type": "code",
   "execution_count": 28,
   "id": "570f974f-13c3-42b6-ad3a-ce99ca885c1a",
   "metadata": {
    "execution": {
     "iopub.execute_input": "2022-11-30T01:25:47.221500Z",
     "iopub.status.busy": "2022-11-30T01:25:47.221244Z",
     "iopub.status.idle": "2022-11-30T01:25:47.241670Z",
     "shell.execute_reply": "2022-11-30T01:25:47.241140Z"
    },
    "papermill": {
     "duration": 0.032869,
     "end_time": "2022-11-30T01:25:47.243068",
     "exception": false,
     "start_time": "2022-11-30T01:25:47.210199",
     "status": "completed"
    },
    "tags": []
   },
   "outputs": [
    {
     "name": "stdout",
     "output_type": "stream",
     "text": [
      "Number of gene combinations: 24753\n"
     ]
    }
   ],
   "source": [
    "n = len(gene_chr_objs)\n",
    "# diagonal elements + upper triangular matrix\n",
    "n_comb = n + int(n * (n - 1) / 2.0)\n",
    "print(f\"Number of gene combinations: {n_comb}\", flush=True)"
   ]
  },
  {
   "cell_type": "code",
   "execution_count": 29,
   "id": "cdbb90a1",
   "metadata": {
    "execution": {
     "iopub.execute_input": "2022-11-30T01:25:47.265636Z",
     "iopub.status.busy": "2022-11-30T01:25:47.265379Z",
     "iopub.status.idle": "2022-11-30T01:42:24.848405Z",
     "shell.execute_reply": "2022-11-30T01:42:24.847880Z"
    },
    "papermill": {
     "duration": 997.5961,
     "end_time": "2022-11-30T01:42:24.849833",
     "exception": false,
     "start_time": "2022-11-30T01:25:47.253733",
     "status": "completed"
    },
    "tags": []
   },
   "outputs": [
    {
     "name": "stderr",
     "output_type": "stream",
     "text": [
      "ENSG00000196150 / ENSG00000196150: 100%|██████████████████████| 24753/24753 [16:37<00:00, 24.81it/s]\n"
     ]
    },
    {
     "data": {
      "text/plain": [
       "PosixPath('/opt/data/projects/asthma-copd/results/gls_phenoplier/gene_corrs/aco/by_chr/gene_corrs-chr8.pkl')"
      ]
     },
     "metadata": {},
     "output_type": "display_data"
    }
   ],
   "source": [
    "gene_corrs = []\n",
    "gene_corrs_data = np.full(\n",
    "    (n, n),\n",
    "    np.nan,\n",
    "    dtype=np.float64,\n",
    ")\n",
    "\n",
    "i = 0\n",
    "with tqdm(ncols=100, total=n_comb) as pbar:\n",
    "    for gene1_idx in range(0, len(gene_chr_objs)):\n",
    "        gene1_obj = gene_chr_objs[gene1_idx]\n",
    "        gene1_tissues = spredixcan_genes_models.loc[gene1_obj.ensembl_id, \"tissue\"]\n",
    "\n",
    "        for gene2_idx in range(gene1_idx, len(gene_chr_objs)):\n",
    "            gene2_obj = gene_chr_objs[gene2_idx]\n",
    "            gene2_tissues = spredixcan_genes_models.loc[gene2_obj.ensembl_id, \"tissue\"]\n",
    "\n",
    "            pbar.set_description(f\"{gene1_obj.ensembl_id} / {gene2_obj.ensembl_id}\")\n",
    "\n",
    "            try:\n",
    "                r = gene1_obj.get_ssm_correlation(\n",
    "                    other_gene=gene2_obj,\n",
    "                    tissues=gene1_tissues,\n",
    "                    other_tissues=gene2_tissues,\n",
    "                    snps_subset=gwas_variants_ids_set,\n",
    "                    condition_number=SMULTIXCAN_CONDITION_NUMBER,\n",
    "                    reference_panel=REFERENCE_PANEL,\n",
    "                    model_type=EQTL_MODEL,\n",
    "                    use_within_distance=COMPUTE_CORRELATIONS_WITHIN_DISTANCE,\n",
    "                )\n",
    "\n",
    "                if r is None:\n",
    "                    # if r is None, it's very likely because:\n",
    "                    #  * one of the genes has no prediction models\n",
    "                    #  * all the SNPs predictors for the gene are not present in the reference\n",
    "                    #    panel\n",
    "\n",
    "                    r = 0.0\n",
    "\n",
    "                gene_corrs.append(r)\n",
    "\n",
    "                gene_corrs_data[gene1_idx, gene2_idx] = r\n",
    "                gene_corrs_data[gene2_idx, gene1_idx] = r\n",
    "            except Warning as e:\n",
    "                if not DEBUG_MODE:\n",
    "                    raise e\n",
    "\n",
    "                print(\n",
    "                    f\"RuntimeWarning for genes {gene1_obj.ensembl_id} and {gene2_obj.ensembl_id}\",\n",
    "                    flush=True,\n",
    "                )\n",
    "                print(traceback.format_exc(), flush=True)\n",
    "\n",
    "                gene_corrs.append(np.nan)\n",
    "            except Exception as e:\n",
    "                if not DEBUG_MODE:\n",
    "                    raise e\n",
    "\n",
    "                print(\n",
    "                    f\"Exception for genes {gene1_obj.ensembl_id} and {gene2_obj.ensembl_id}\",\n",
    "                    flush=True,\n",
    "                )\n",
    "                print(traceback.format_exc(), flush=True)\n",
    "\n",
    "                gene_corrs.append(np.nan)\n",
    "\n",
    "            pbar.update(1)\n",
    "\n",
    "# create a pandas series\n",
    "gene_corrs_flat = pd.Series(gene_corrs)\n",
    "\n",
    "# save\n",
    "# FIXME: consider saving only the condenced matrix here. See here for\n",
    "# more details: https://github.com/greenelab/phenoplier/pull/38#discussion_r634600813\n",
    "# gene_corrs_data = squareform(np.array(gene_corrs, dtype=np.float64))\n",
    "# np.fill_diagonal(gene_corrs_data, 1.0)\n",
    "\n",
    "gene_chr_ids = [g.ensembl_id for g in gene_chr_objs]\n",
    "gene_corrs_df = pd.DataFrame(\n",
    "    data=gene_corrs_data,\n",
    "    index=gene_chr_ids,\n",
    "    columns=gene_chr_ids,\n",
    ")\n",
    "\n",
    "output_dir.mkdir(exist_ok=True, parents=True)\n",
    "display(output_file)\n",
    "\n",
    "gene_corrs_df.to_pickle(output_file)"
   ]
  },
  {
   "cell_type": "markdown",
   "id": "faa67b51-5373-470f-aa72-2ded53fa6dfe",
   "metadata": {
    "papermill": {
     "duration": 0.936436,
     "end_time": "2022-11-30T01:42:26.772891",
     "exception": false,
     "start_time": "2022-11-30T01:42:25.836455",
     "status": "completed"
    },
    "tags": []
   },
   "source": [
    "# Testing"
   ]
  },
  {
   "cell_type": "code",
   "execution_count": 30,
   "id": "14f7d046-4b55-4896-a56b-990127bcc388",
   "metadata": {
    "execution": {
     "iopub.execute_input": "2022-11-30T01:42:28.721948Z",
     "iopub.status.busy": "2022-11-30T01:42:28.721608Z",
     "iopub.status.idle": "2022-11-30T01:42:28.740426Z",
     "shell.execute_reply": "2022-11-30T01:42:28.739876Z"
    },
    "papermill": {
     "duration": 0.996281,
     "end_time": "2022-11-30T01:42:28.741290",
     "exception": false,
     "start_time": "2022-11-30T01:42:27.745009",
     "status": "completed"
    },
    "tags": []
   },
   "outputs": [
    {
     "data": {
      "text/plain": [
       "(222, 222)"
      ]
     },
     "execution_count": 30,
     "metadata": {},
     "output_type": "execute_result"
    }
   ],
   "source": [
    "gene_corrs_df.shape"
   ]
  },
  {
   "cell_type": "code",
   "execution_count": 31,
   "id": "c7d15414-3297-4537-a7c6-7588c0baeb75",
   "metadata": {
    "execution": {
     "iopub.execute_input": "2022-11-30T01:42:30.727130Z",
     "iopub.status.busy": "2022-11-30T01:42:30.726416Z",
     "iopub.status.idle": "2022-11-30T01:42:30.771833Z",
     "shell.execute_reply": "2022-11-30T01:42:30.771148Z"
    },
    "papermill": {
     "duration": 1.050422,
     "end_time": "2022-11-30T01:42:30.773116",
     "exception": false,
     "start_time": "2022-11-30T01:42:29.722694",
     "status": "completed"
    },
    "tags": []
   },
   "outputs": [
    {
     "data": {
      "text/html": [
       "<div>\n",
       "<style scoped>\n",
       "    .dataframe tbody tr th:only-of-type {\n",
       "        vertical-align: middle;\n",
       "    }\n",
       "\n",
       "    .dataframe tbody tr th {\n",
       "        vertical-align: top;\n",
       "    }\n",
       "\n",
       "    .dataframe thead th {\n",
       "        text-align: right;\n",
       "    }\n",
       "</style>\n",
       "<table border=\"1\" class=\"dataframe\">\n",
       "  <thead>\n",
       "    <tr style=\"text-align: right;\">\n",
       "      <th></th>\n",
       "      <th>ENSG00000172748</th>\n",
       "      <th>ENSG00000182372</th>\n",
       "      <th>ENSG00000104728</th>\n",
       "      <th>ENSG00000036448</th>\n",
       "      <th>ENSG00000091879</th>\n",
       "      <th>ENSG00000155189</th>\n",
       "      <th>ENSG00000164821</th>\n",
       "      <th>ENSG00000253958</th>\n",
       "      <th>ENSG00000147324</th>\n",
       "      <th>ENSG00000173281</th>\n",
       "      <th>...</th>\n",
       "      <th>ENSG00000071894</th>\n",
       "      <th>ENSG00000147804</th>\n",
       "      <th>ENSG00000160948</th>\n",
       "      <th>ENSG00000160949</th>\n",
       "      <th>ENSG00000187954</th>\n",
       "      <th>ENSG00000160972</th>\n",
       "      <th>ENSG00000167701</th>\n",
       "      <th>ENSG00000161016</th>\n",
       "      <th>ENSG00000197363</th>\n",
       "      <th>ENSG00000196150</th>\n",
       "    </tr>\n",
       "  </thead>\n",
       "  <tbody>\n",
       "    <tr>\n",
       "      <th>ENSG00000172748</th>\n",
       "      <td>1.000000</td>\n",
       "      <td>0.008203</td>\n",
       "      <td>0.012194</td>\n",
       "      <td>0.010156</td>\n",
       "      <td>0.008627</td>\n",
       "      <td>0.009669</td>\n",
       "      <td>0.008393</td>\n",
       "      <td>0.005256</td>\n",
       "      <td>0.011801</td>\n",
       "      <td>0.009020</td>\n",
       "      <td>...</td>\n",
       "      <td>0.001993</td>\n",
       "      <td>0.006521</td>\n",
       "      <td>0.004225</td>\n",
       "      <td>0.006686</td>\n",
       "      <td>0.006165</td>\n",
       "      <td>0.006528</td>\n",
       "      <td>0.004982</td>\n",
       "      <td>0.003141</td>\n",
       "      <td>0.005853</td>\n",
       "      <td>0.004734</td>\n",
       "    </tr>\n",
       "    <tr>\n",
       "      <th>ENSG00000182372</th>\n",
       "      <td>0.008203</td>\n",
       "      <td>1.000000</td>\n",
       "      <td>0.182559</td>\n",
       "      <td>0.009172</td>\n",
       "      <td>0.007909</td>\n",
       "      <td>0.006291</td>\n",
       "      <td>0.007841</td>\n",
       "      <td>0.004634</td>\n",
       "      <td>0.007929</td>\n",
       "      <td>0.008676</td>\n",
       "      <td>...</td>\n",
       "      <td>0.001879</td>\n",
       "      <td>0.005246</td>\n",
       "      <td>0.000381</td>\n",
       "      <td>0.003761</td>\n",
       "      <td>0.005085</td>\n",
       "      <td>0.008463</td>\n",
       "      <td>0.003099</td>\n",
       "      <td>0.000870</td>\n",
       "      <td>0.004974</td>\n",
       "      <td>0.004808</td>\n",
       "    </tr>\n",
       "    <tr>\n",
       "      <th>ENSG00000104728</th>\n",
       "      <td>0.012194</td>\n",
       "      <td>0.182559</td>\n",
       "      <td>1.000000</td>\n",
       "      <td>0.029586</td>\n",
       "      <td>0.015373</td>\n",
       "      <td>0.016621</td>\n",
       "      <td>0.014423</td>\n",
       "      <td>0.008077</td>\n",
       "      <td>0.013431</td>\n",
       "      <td>0.012562</td>\n",
       "      <td>...</td>\n",
       "      <td>0.007317</td>\n",
       "      <td>0.013190</td>\n",
       "      <td>0.006235</td>\n",
       "      <td>0.009145</td>\n",
       "      <td>0.014295</td>\n",
       "      <td>0.012378</td>\n",
       "      <td>0.012044</td>\n",
       "      <td>0.006637</td>\n",
       "      <td>0.011510</td>\n",
       "      <td>0.010221</td>\n",
       "    </tr>\n",
       "    <tr>\n",
       "      <th>ENSG00000036448</th>\n",
       "      <td>0.010156</td>\n",
       "      <td>0.009172</td>\n",
       "      <td>0.029586</td>\n",
       "      <td>1.000000</td>\n",
       "      <td>0.008107</td>\n",
       "      <td>0.010894</td>\n",
       "      <td>0.007994</td>\n",
       "      <td>0.005563</td>\n",
       "      <td>0.009629</td>\n",
       "      <td>0.005914</td>\n",
       "      <td>...</td>\n",
       "      <td>0.004426</td>\n",
       "      <td>0.008704</td>\n",
       "      <td>0.005407</td>\n",
       "      <td>0.004688</td>\n",
       "      <td>0.006911</td>\n",
       "      <td>0.007968</td>\n",
       "      <td>0.006094</td>\n",
       "      <td>0.001531</td>\n",
       "      <td>0.003547</td>\n",
       "      <td>0.005336</td>\n",
       "    </tr>\n",
       "    <tr>\n",
       "      <th>ENSG00000091879</th>\n",
       "      <td>0.008627</td>\n",
       "      <td>0.007909</td>\n",
       "      <td>0.015373</td>\n",
       "      <td>0.008107</td>\n",
       "      <td>1.000000</td>\n",
       "      <td>0.098748</td>\n",
       "      <td>0.032149</td>\n",
       "      <td>0.005413</td>\n",
       "      <td>0.011595</td>\n",
       "      <td>0.006861</td>\n",
       "      <td>...</td>\n",
       "      <td>0.004385</td>\n",
       "      <td>0.005745</td>\n",
       "      <td>0.003638</td>\n",
       "      <td>0.002783</td>\n",
       "      <td>0.005626</td>\n",
       "      <td>0.006157</td>\n",
       "      <td>0.007570</td>\n",
       "      <td>0.000583</td>\n",
       "      <td>0.001599</td>\n",
       "      <td>0.002434</td>\n",
       "    </tr>\n",
       "  </tbody>\n",
       "</table>\n",
       "<p>5 rows × 222 columns</p>\n",
       "</div>"
      ],
      "text/plain": [
       "                 ENSG00000172748  ENSG00000182372  ENSG00000104728  \\\n",
       "ENSG00000172748         1.000000         0.008203         0.012194   \n",
       "ENSG00000182372         0.008203         1.000000         0.182559   \n",
       "ENSG00000104728         0.012194         0.182559         1.000000   \n",
       "ENSG00000036448         0.010156         0.009172         0.029586   \n",
       "ENSG00000091879         0.008627         0.007909         0.015373   \n",
       "\n",
       "                 ENSG00000036448  ENSG00000091879  ENSG00000155189  \\\n",
       "ENSG00000172748         0.010156         0.008627         0.009669   \n",
       "ENSG00000182372         0.009172         0.007909         0.006291   \n",
       "ENSG00000104728         0.029586         0.015373         0.016621   \n",
       "ENSG00000036448         1.000000         0.008107         0.010894   \n",
       "ENSG00000091879         0.008107         1.000000         0.098748   \n",
       "\n",
       "                 ENSG00000164821  ENSG00000253958  ENSG00000147324  \\\n",
       "ENSG00000172748         0.008393         0.005256         0.011801   \n",
       "ENSG00000182372         0.007841         0.004634         0.007929   \n",
       "ENSG00000104728         0.014423         0.008077         0.013431   \n",
       "ENSG00000036448         0.007994         0.005563         0.009629   \n",
       "ENSG00000091879         0.032149         0.005413         0.011595   \n",
       "\n",
       "                 ENSG00000173281  ...  ENSG00000071894  ENSG00000147804  \\\n",
       "ENSG00000172748         0.009020  ...         0.001993         0.006521   \n",
       "ENSG00000182372         0.008676  ...         0.001879         0.005246   \n",
       "ENSG00000104728         0.012562  ...         0.007317         0.013190   \n",
       "ENSG00000036448         0.005914  ...         0.004426         0.008704   \n",
       "ENSG00000091879         0.006861  ...         0.004385         0.005745   \n",
       "\n",
       "                 ENSG00000160948  ENSG00000160949  ENSG00000187954  \\\n",
       "ENSG00000172748         0.004225         0.006686         0.006165   \n",
       "ENSG00000182372         0.000381         0.003761         0.005085   \n",
       "ENSG00000104728         0.006235         0.009145         0.014295   \n",
       "ENSG00000036448         0.005407         0.004688         0.006911   \n",
       "ENSG00000091879         0.003638         0.002783         0.005626   \n",
       "\n",
       "                 ENSG00000160972  ENSG00000167701  ENSG00000161016  \\\n",
       "ENSG00000172748         0.006528         0.004982         0.003141   \n",
       "ENSG00000182372         0.008463         0.003099         0.000870   \n",
       "ENSG00000104728         0.012378         0.012044         0.006637   \n",
       "ENSG00000036448         0.007968         0.006094         0.001531   \n",
       "ENSG00000091879         0.006157         0.007570         0.000583   \n",
       "\n",
       "                 ENSG00000197363  ENSG00000196150  \n",
       "ENSG00000172748         0.005853         0.004734  \n",
       "ENSG00000182372         0.004974         0.004808  \n",
       "ENSG00000104728         0.011510         0.010221  \n",
       "ENSG00000036448         0.003547         0.005336  \n",
       "ENSG00000091879         0.001599         0.002434  \n",
       "\n",
       "[5 rows x 222 columns]"
      ]
     },
     "execution_count": 31,
     "metadata": {},
     "output_type": "execute_result"
    }
   ],
   "source": [
    "gene_corrs_df.head()"
   ]
  },
  {
   "cell_type": "markdown",
   "id": "dad6603f-01c6-41fb-a6f6-241051207dd8",
   "metadata": {
    "papermill": {
     "duration": 1.009491,
     "end_time": "2022-11-30T01:42:32.777776",
     "exception": false,
     "start_time": "2022-11-30T01:42:31.768285",
     "status": "completed"
    },
    "tags": []
   },
   "source": [
    "## Standard checks and stats"
   ]
  },
  {
   "cell_type": "code",
   "execution_count": 32,
   "id": "286686af-1b7b-4440-8453-6bdcbd8de19c",
   "metadata": {
    "execution": {
     "iopub.execute_input": "2022-11-30T01:42:34.680908Z",
     "iopub.status.busy": "2022-11-30T01:42:34.680547Z",
     "iopub.status.idle": "2022-11-30T01:42:34.700009Z",
     "shell.execute_reply": "2022-11-30T01:42:34.699369Z"
    },
    "papermill": {
     "duration": 0.963719,
     "end_time": "2022-11-30T01:42:34.700866",
     "exception": false,
     "start_time": "2022-11-30T01:42:33.737147",
     "status": "completed"
    },
    "tags": []
   },
   "outputs": [],
   "source": [
    "assert not gene_corrs_df.isna().any().any()"
   ]
  },
  {
   "cell_type": "code",
   "execution_count": 33,
   "id": "00583efc-7068-4270-ad1e-4a418e91db96",
   "metadata": {
    "execution": {
     "iopub.execute_input": "2022-11-30T01:42:36.641064Z",
     "iopub.status.busy": "2022-11-30T01:42:36.640661Z",
     "iopub.status.idle": "2022-11-30T01:42:36.664633Z",
     "shell.execute_reply": "2022-11-30T01:42:36.664095Z"
    },
    "papermill": {
     "duration": 1.007348,
     "end_time": "2022-11-30T01:42:36.665537",
     "exception": false,
     "start_time": "2022-11-30T01:42:35.658189",
     "status": "completed"
    },
    "tags": []
   },
   "outputs": [
    {
     "data": {
      "text/plain": [
       "1.5288509741727184e-06"
      ]
     },
     "metadata": {},
     "output_type": "display_data"
    }
   ],
   "source": [
    "_min_val = gene_corrs_df.min().min()\n",
    "display(_min_val)\n",
    "assert _min_val >= -0.05"
   ]
  },
  {
   "cell_type": "code",
   "execution_count": 34,
   "id": "d04fb2cf-1050-475b-b855-f5f7cc04092b",
   "metadata": {
    "execution": {
     "iopub.execute_input": "2022-11-30T01:42:38.554231Z",
     "iopub.status.busy": "2022-11-30T01:42:38.553868Z",
     "iopub.status.idle": "2022-11-30T01:42:38.576273Z",
     "shell.execute_reply": "2022-11-30T01:42:38.575664Z"
    },
    "papermill": {
     "duration": 0.962167,
     "end_time": "2022-11-30T01:42:38.577306",
     "exception": false,
     "start_time": "2022-11-30T01:42:37.615139",
     "status": "completed"
    },
    "tags": []
   },
   "outputs": [
    {
     "data": {
      "text/plain": [
       "1.0000000000000029"
      ]
     },
     "metadata": {},
     "output_type": "display_data"
    }
   ],
   "source": [
    "_max_val = gene_corrs_df.max().max()  # this captures the diagonal\n",
    "display(_max_val)\n",
    "assert _max_val <= 1.05"
   ]
  },
  {
   "cell_type": "code",
   "execution_count": 35,
   "id": "96d02c44-1fba-47be-8a93-8f2608420b9c",
   "metadata": {
    "execution": {
     "iopub.execute_input": "2022-11-30T01:42:40.523179Z",
     "iopub.status.busy": "2022-11-30T01:42:40.522567Z",
     "iopub.status.idle": "2022-11-30T01:42:40.547595Z",
     "shell.execute_reply": "2022-11-30T01:42:40.546989Z"
    },
    "papermill": {
     "duration": 0.970268,
     "end_time": "2022-11-30T01:42:40.548623",
     "exception": false,
     "start_time": "2022-11-30T01:42:39.578355",
     "status": "completed"
    },
    "tags": []
   },
   "outputs": [],
   "source": [
    "# check upper triangular values\n",
    "# assert len(gene_corrs) == int(genes_chr.shape[0] * (genes_chr.shape[0] - 1) / 2)"
   ]
  },
  {
   "cell_type": "code",
   "execution_count": 36,
   "id": "fe283586-c348-40e0-8841-f6d97bfb021c",
   "metadata": {
    "execution": {
     "iopub.execute_input": "2022-11-30T01:42:42.463360Z",
     "iopub.status.busy": "2022-11-30T01:42:42.462793Z",
     "iopub.status.idle": "2022-11-30T01:42:42.489760Z",
     "shell.execute_reply": "2022-11-30T01:42:42.489231Z"
    },
    "papermill": {
     "duration": 1.002982,
     "end_time": "2022-11-30T01:42:42.490604",
     "exception": false,
     "start_time": "2022-11-30T01:42:41.487622",
     "status": "completed"
    },
    "tags": []
   },
   "outputs": [
    {
     "data": {
      "text/plain": [
       "count    24753.000000\n",
       "mean         0.017054\n",
       "std          0.096611\n",
       "min          0.000002\n",
       "25%          0.004067\n",
       "50%          0.006155\n",
       "75%          0.008517\n",
       "max          1.000000\n",
       "dtype: float64"
      ]
     },
     "execution_count": 36,
     "metadata": {},
     "output_type": "execute_result"
    }
   ],
   "source": [
    "gene_corrs_flat.describe()"
   ]
  },
  {
   "cell_type": "code",
   "execution_count": 37,
   "id": "b3815678-0f93-4b35-897b-a9d047a2aa78",
   "metadata": {
    "execution": {
     "iopub.execute_input": "2022-11-30T01:42:44.361614Z",
     "iopub.status.busy": "2022-11-30T01:42:44.361228Z",
     "iopub.status.idle": "2022-11-30T01:42:44.388481Z",
     "shell.execute_reply": "2022-11-30T01:42:44.387947Z"
    },
    "papermill": {
     "duration": 0.961291,
     "end_time": "2022-11-30T01:42:44.389367",
     "exception": false,
     "start_time": "2022-11-30T01:42:43.428076",
     "status": "completed"
    },
    "tags": []
   },
   "outputs": [
    {
     "data": {
      "text/plain": [
       "0.00    0.000002\n",
       "0.05    0.001618\n",
       "0.10    0.002438\n",
       "0.15    0.003044\n",
       "0.20    0.003575\n",
       "0.25    0.004067\n",
       "0.30    0.004511\n",
       "0.35    0.004929\n",
       "0.40    0.005334\n",
       "0.45    0.005738\n",
       "0.50    0.006155\n",
       "0.55    0.006573\n",
       "0.60    0.006998\n",
       "0.65    0.007456\n",
       "0.70    0.007950\n",
       "0.75    0.008517\n",
       "0.80    0.009181\n",
       "0.85    0.010021\n",
       "0.90    0.011155\n",
       "0.95    0.013290\n",
       "dtype: float64"
      ]
     },
     "metadata": {},
     "output_type": "display_data"
    }
   ],
   "source": [
    "gene_corrs_quantiles = gene_corrs_flat.quantile(np.arange(0, 1, 0.05))\n",
    "display(gene_corrs_quantiles)"
   ]
  },
  {
   "cell_type": "markdown",
   "id": "87134509-b145-4a10-8bc9-b7e914c2b0fa",
   "metadata": {
    "papermill": {
     "duration": 0.93587,
     "end_time": "2022-11-30T01:42:46.300253",
     "exception": false,
     "start_time": "2022-11-30T01:42:45.364383",
     "status": "completed"
    },
    "tags": []
   },
   "source": [
    "## Positive definiteness"
   ]
  },
  {
   "cell_type": "code",
   "execution_count": 38,
   "id": "07d9a9a1-a4f7-48aa-b916-6d42a8cc6186",
   "metadata": {
    "execution": {
     "iopub.execute_input": "2022-11-30T01:42:48.221590Z",
     "iopub.status.busy": "2022-11-30T01:42:48.221246Z",
     "iopub.status.idle": "2022-11-30T01:42:48.262058Z",
     "shell.execute_reply": "2022-11-30T01:42:48.261390Z"
    },
    "papermill": {
     "duration": 1.027263,
     "end_time": "2022-11-30T01:42:48.262991",
     "exception": false,
     "start_time": "2022-11-30T01:42:47.235728",
     "status": "completed"
    },
    "tags": []
   },
   "outputs": [
    {
     "data": {
      "text/plain": [
       "0"
      ]
     },
     "metadata": {},
     "output_type": "display_data"
    },
    {
     "data": {
      "text/plain": [
       "array([], dtype=float64)"
      ]
     },
     "metadata": {},
     "output_type": "display_data"
    }
   ],
   "source": [
    "# print negative eigenvalues\n",
    "eigs = np.linalg.eigvals(gene_corrs_df.to_numpy())\n",
    "display(len(eigs[eigs < 0]))\n",
    "display(eigs[eigs < 0])"
   ]
  },
  {
   "cell_type": "code",
   "execution_count": 39,
   "id": "6e218436-c3c5-4028-8c94-a4fa6260efce",
   "metadata": {
    "execution": {
     "iopub.execute_input": "2022-11-30T01:42:50.143721Z",
     "iopub.status.busy": "2022-11-30T01:42:50.143252Z",
     "iopub.status.idle": "2022-11-30T01:42:50.170757Z",
     "shell.execute_reply": "2022-11-30T01:42:50.170259Z"
    },
    "papermill": {
     "duration": 0.972327,
     "end_time": "2022-11-30T01:42:50.171647",
     "exception": false,
     "start_time": "2022-11-30T01:42:49.199320",
     "status": "completed"
    },
    "tags": []
   },
   "outputs": [
    {
     "name": "stdout",
     "output_type": "stream",
     "text": [
      "Works!\n"
     ]
    }
   ],
   "source": [
    "try:\n",
    "    chol_mat = np.linalg.cholesky(gene_corrs_df.to_numpy())\n",
    "    cov_inv = np.linalg.inv(chol_mat)\n",
    "    print(\"Works!\")\n",
    "except Exception as e:\n",
    "    print(f\"Cholesky decomposition failed: {str(e)}\")"
   ]
  },
  {
   "cell_type": "code",
   "execution_count": 40,
   "id": "dd8827fb-faf9-4c7c-9454-015e94752706",
   "metadata": {
    "execution": {
     "iopub.execute_input": "2022-11-30T01:42:52.106996Z",
     "iopub.status.busy": "2022-11-30T01:42:52.106432Z",
     "iopub.status.idle": "2022-11-30T01:42:52.133594Z",
     "shell.execute_reply": "2022-11-30T01:42:52.133080Z"
    },
    "papermill": {
     "duration": 0.978935,
     "end_time": "2022-11-30T01:42:52.134448",
     "exception": false,
     "start_time": "2022-11-30T01:42:51.155513",
     "status": "completed"
    },
    "tags": []
   },
   "outputs": [
    {
     "name": "stdout",
     "output_type": "stream",
     "text": [
      "Works!\n"
     ]
    }
   ],
   "source": [
    "try:\n",
    "    # decomposition used by statsmodels.GLS\n",
    "    cholsigmainv = np.linalg.cholesky(np.linalg.inv(gene_corrs_df.to_numpy())).T\n",
    "    print(\"Works!\")\n",
    "except Exception as e:\n",
    "    print(f\"Cholesky decomposition failed (statsmodels.GLS): {str(e)}\")"
   ]
  },
  {
   "cell_type": "markdown",
   "id": "8e60a080-edb2-4e9c-b2ef-22961693200c",
   "metadata": {
    "papermill": {
     "duration": 0.985298,
     "end_time": "2022-11-30T01:42:54.058674",
     "exception": false,
     "start_time": "2022-11-30T01:42:53.073376",
     "status": "completed"
    },
    "tags": []
   },
   "source": [
    "## Plot: distribution"
   ]
  },
  {
   "cell_type": "code",
   "execution_count": 41,
   "id": "8301126b-a7d4-4744-9c7d-f0f86eb6f54c",
   "metadata": {
    "execution": {
     "iopub.execute_input": "2022-11-30T01:42:55.953932Z",
     "iopub.status.busy": "2022-11-30T01:42:55.953621Z",
     "iopub.status.idle": "2022-11-30T01:43:00.865916Z",
     "shell.execute_reply": "2022-11-30T01:43:00.865496Z"
    },
    "papermill": {
     "duration": 5.856715,
     "end_time": "2022-11-30T01:43:00.867432",
     "exception": false,
     "start_time": "2022-11-30T01:42:55.010717",
     "status": "completed"
    },
    "tags": []
   },
   "outputs": [
    {
     "data": {
      "image/png": "[encoded data removed]",
      "text/plain": [
       "<Figure size 700x700 with 1 Axes>"
      ]
     },
     "metadata": {},
     "output_type": "display_data"
    }
   ],
   "source": [
    "with sns.plotting_context(\"paper\", font_scale=1.5):\n",
    "    g = sns.displot(gene_corrs_flat, kde=True, height=7)\n",
    "    g.ax.set_title(\n",
    "        f\"Distribution of gene correlation values in chromosome {CHROMOSOME}\"\n",
    "    )"
   ]
  },
  {
   "cell_type": "markdown",
   "id": "cbd52bca-d878-4a2f-b684-5c83aa3038d4",
   "metadata": {
    "papermill": {
     "duration": 0.955661,
     "end_time": "2022-11-30T01:43:02.852212",
     "exception": false,
     "start_time": "2022-11-30T01:43:01.896551",
     "status": "completed"
    },
    "tags": []
   },
   "source": [
    "## Plot: heatmap"
   ]
  },
  {
   "cell_type": "code",
   "execution_count": 42,
   "id": "d03fe63a-c7b2-4fb9-a53c-db362ce843c9",
   "metadata": {
    "execution": {
     "iopub.execute_input": "2022-11-30T01:43:04.804574Z",
     "iopub.status.busy": "2022-11-30T01:43:04.804303Z",
     "iopub.status.idle": "2022-11-30T01:43:04.825908Z",
     "shell.execute_reply": "2022-11-30T01:43:04.825424Z"
    },
    "papermill": {
     "duration": 1.023367,
     "end_time": "2022-11-30T01:43:04.826748",
     "exception": false,
     "start_time": "2022-11-30T01:43:03.803381",
     "status": "completed"
    },
    "tags": []
   },
   "outputs": [
    {
     "data": {
      "text/plain": [
       "'0.0 / 0.05'"
      ]
     },
     "metadata": {},
     "output_type": "display_data"
    }
   ],
   "source": [
    "vmin_val = min(0.00, gene_corrs_quantiles[0.10])\n",
    "vmax_val = max(0.05, gene_corrs_quantiles[0.90])\n",
    "display(f\"{vmin_val} / {vmax_val}\")"
   ]
  },
  {
   "cell_type": "code",
   "execution_count": 43,
   "id": "dc41b70b-5bcc-4d9e-9f33-a22c4a94dab5",
   "metadata": {
    "execution": {
     "iopub.execute_input": "2022-11-30T01:43:06.855655Z",
     "iopub.status.busy": "2022-11-30T01:43:06.855208Z",
     "iopub.status.idle": "2022-11-30T01:43:07.069327Z",
     "shell.execute_reply": "2022-11-30T01:43:07.068905Z"
    },
    "papermill": {
     "duration": 1.215535,
     "end_time": "2022-11-30T01:43:07.070237",
     "exception": false,
     "start_time": "2022-11-30T01:43:05.854702",
     "status": "completed"
    },
    "tags": []
   },
   "outputs": [
    {
     "data": {
      "text/plain": [
       "Text(0.5, 1.0, 'Gene correlations in chromosome 8')"
      ]
     },
     "execution_count": 43,
     "metadata": {},
     "output_type": "execute_result"
    },
    {
     "data": {
      "image/png": "[encoded data removed]",
      "text/plain": [
       "<Figure size 1000x1000 with 2 Axes>"
      ]
     },
     "metadata": {},
     "output_type": "display_data"
    }
   ],
   "source": [
    "f, ax = plt.subplots(figsize=(10, 10))\n",
    "sns.heatmap(\n",
    "    gene_corrs_df,\n",
    "    xticklabels=False,\n",
    "    yticklabels=False,\n",
    "    square=True,\n",
    "    vmin=vmin_val,\n",
    "    vmax=vmax_val,\n",
    "    cmap=\"rocket_r\",\n",
    "    ax=ax,\n",
    ")\n",
    "ax.set_title(f\"Gene correlations in chromosome {CHROMOSOME}\")"
   ]
  },
  {
   "cell_type": "code",
   "execution_count": null,
   "id": "b25e3ead",
   "metadata": {
    "papermill": {
     "duration": 0.958488,
     "end_time": "2022-11-30T01:43:09.063519",
     "exception": false,
     "start_time": "2022-11-30T01:43:08.105031",
     "status": "completed"
    },
    "tags": []
   },
   "outputs": [],
   "source": []
  }
 ],
 "metadata": {
  "jupytext": {
   "cell_metadata_filter": "all,-execution,-papermill,-trusted",
   "formats": "ipynb,py//py:percent"
  },
  "kernelspec": {
   "display_name": "Python 3 (ipykernel)",
   "language": "python",
   "name": "python3"
  },
  "language_info": {
   "codemirror_mode": {
    "name": "ipython",
    "version": 3
   },
   "file_extension": ".py",
   "mimetype": "text/x-python",
   "name": "python",
   "nbconvert_exporter": "python",
   "pygments_lexer": "ipython3",
   "version": "3.10.6"
  },
  "papermill": {
   "default_parameters": {},
   "duration": 1051.450919,
   "end_time": "2022-11-30T01:43:12.757383",
   "environment_variables": {},
   "exception": null,
   "input_path": "projects/asthma-copd/nbs/20_gene_corrs/10-gene_expr_correlations.ipynb",
   "output_path": "projects/asthma-copd/nbs/20_gene_corrs/gene_corrs/aco/10-gene_expr_correlations-chr8.run.ipynb",
   "parameters": {
    "CHROMOSOME": 8,
    "COHORT_NAME": "aco",
    "OUTPUT_DIR_BASE": "/opt/data/projects/asthma-copd/results/gls_phenoplier"
   },
   "start_time": "2022-11-30T01:25:41.306464",
   "version": "2.2.2"
  }
 },
 "nbformat": 4,
 "nbformat_minor": 5
}
