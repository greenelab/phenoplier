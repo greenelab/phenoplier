{
 "cells": [
  {
   "cell_type": "markdown",
   "id": "7a6632fb",
   "metadata": {
    "papermill": {
     "duration": 0.00914,
     "end_time": "2022-11-30T01:24:08.392972",
     "exception": false,
     "start_time": "2022-11-30T01:24:08.383832",
     "status": "completed"
    },
    "tags": []
   },
   "source": [
    "# Description"
   ]
  },
  {
   "cell_type": "markdown",
   "id": "7097c346",
   "metadata": {
    "papermill": {
     "duration": 0.008192,
     "end_time": "2022-11-30T01:24:08.411008",
     "exception": false,
     "start_time": "2022-11-30T01:24:08.402816",
     "status": "completed"
    },
    "tags": []
   },
   "source": [
    "(Please, take a look at the README.md file in this directory for instructions on how to run this notebook)\n",
    "\n",
    "This notebook computes predicted expression correlations between all genes in the MultiPLIER models.\n",
    "\n",
    "It has specicfic parameters for papermill (see under `Settings` below).\n",
    "It can be configured to run on a single chromosome to run in parallel.\n",
    "\n",
    "This notebook is not directly run. See README.md."
   ]
  },
  {
   "cell_type": "markdown",
   "id": "c61d8427",
   "metadata": {
    "papermill": {
     "duration": 0.008147,
     "end_time": "2022-11-30T01:24:08.427407",
     "exception": false,
     "start_time": "2022-11-30T01:24:08.419260",
     "status": "completed"
    },
    "tags": []
   },
   "source": [
    "# Modules"
   ]
  },
  {
   "cell_type": "code",
   "execution_count": 1,
   "id": "bbc0234f",
   "metadata": {
    "execution": {
     "iopub.execute_input": "2022-11-30T01:24:08.446587Z",
     "iopub.status.busy": "2022-11-30T01:24:08.445881Z",
     "iopub.status.idle": "2022-11-30T01:24:08.465837Z",
     "shell.execute_reply": "2022-11-30T01:24:08.465223Z"
    },
    "papermill": {
     "duration": 0.031066,
     "end_time": "2022-11-30T01:24:08.467424",
     "exception": false,
     "start_time": "2022-11-30T01:24:08.436358",
     "status": "completed"
    },
    "tags": []
   },
   "outputs": [],
   "source": [
    "%load_ext autoreload\n",
    "%autoreload 2"
   ]
  },
  {
   "cell_type": "code",
   "execution_count": 2,
   "id": "1d5f5a59",
   "metadata": {
    "execution": {
     "iopub.execute_input": "2022-11-30T01:24:08.485516Z",
     "iopub.status.busy": "2022-11-30T01:24:08.484947Z",
     "iopub.status.idle": "2022-11-30T01:24:09.184496Z",
     "shell.execute_reply": "2022-11-30T01:24:09.183938Z"
    },
    "papermill": {
     "duration": 0.71036,
     "end_time": "2022-11-30T01:24:09.186297",
     "exception": false,
     "start_time": "2022-11-30T01:24:08.475937",
     "status": "completed"
    },
    "tags": []
   },
   "outputs": [],
   "source": [
    "from random import sample, seed\n",
    "import warnings\n",
    "from pathlib import Path\n",
    "import pickle\n",
    "import traceback\n",
    "\n",
    "import numpy as np\n",
    "from scipy.spatial.distance import squareform\n",
    "import pandas as pd\n",
    "from tqdm import tqdm\n",
    "import matplotlib.pyplot as plt\n",
    "import seaborn as sns\n",
    "\n",
    "import conf\n",
    "from entity import Gene"
   ]
  },
  {
   "cell_type": "markdown",
   "id": "1eac24b5",
   "metadata": {
    "papermill": {
     "duration": 0.008375,
     "end_time": "2022-11-30T01:24:09.203436",
     "exception": false,
     "start_time": "2022-11-30T01:24:09.195061",
     "status": "completed"
    },
    "tags": []
   },
   "source": [
    "# Settings"
   ]
  },
  {
   "cell_type": "code",
   "execution_count": 3,
   "id": "ca4560ba",
   "metadata": {
    "execution": {
     "iopub.execute_input": "2022-11-30T01:24:09.221359Z",
     "iopub.status.busy": "2022-11-30T01:24:09.221234Z",
     "iopub.status.idle": "2022-11-30T01:24:09.238602Z",
     "shell.execute_reply": "2022-11-30T01:24:09.238069Z"
    },
    "papermill": {
     "duration": 0.028286,
     "end_time": "2022-11-30T01:24:09.240067",
     "exception": false,
     "start_time": "2022-11-30T01:24:09.211781",
     "status": "completed"
    },
    "tags": [
     "parameters"
    ]
   },
   "outputs": [],
   "source": [
    "# a cohort name (it could be something like UK_BIOBANK, etc)\n",
    "COHORT_NAME = None\n",
    "\n",
    "# reference panel such as 1000G or GTEX_V8\n",
    "REFERENCE_PANEL = \"GTEX_V8\"\n",
    "\n",
    "# predictions models such as MASHR or ELASTIC_NET\n",
    "EQTL_MODEL = \"MASHR\"\n",
    "\n",
    "# this is the default value used in S-MultiXcan to select the\n",
    "# top principal components of the expression correlation matrix\n",
    "SMULTIXCAN_CONDITION_NUMBER = 30\n",
    "\n",
    "# specifies a single chromosome value\n",
    "CHROMOSOME = None\n",
    "\n",
    "# If True, computes the correlation between closeby genes only;\n",
    "# otherwise, it computes correlations for all genes in a chromosome\n",
    "COMPUTE_CORRELATIONS_WITHIN_DISTANCE = False\n",
    "\n",
    "# if True, then it will continue if a gene pair correlation fails,\n",
    "# printing the warning/error for debugging. If False, any warning/error\n",
    "# will be thrown\n",
    "DEBUG_MODE = False\n",
    "\n",
    "# output dir\n",
    "OUTPUT_DIR_BASE = None"
   ]
  },
  {
   "cell_type": "code",
   "execution_count": 4,
   "id": "e80e3072",
   "metadata": {
    "execution": {
     "iopub.execute_input": "2022-11-30T01:24:09.258257Z",
     "iopub.status.busy": "2022-11-30T01:24:09.257770Z",
     "iopub.status.idle": "2022-11-30T01:24:09.278683Z",
     "shell.execute_reply": "2022-11-30T01:24:09.278047Z"
    },
    "papermill": {
     "duration": 0.031458,
     "end_time": "2022-11-30T01:24:09.280112",
     "exception": false,
     "start_time": "2022-11-30T01:24:09.248654",
     "status": "completed"
    },
    "tags": [
     "injected-parameters"
    ]
   },
   "outputs": [],
   "source": [
    "# Parameters\n",
    "COHORT_NAME = \"aco\"\n",
    "CHROMOSOME = 7\n",
    "OUTPUT_DIR_BASE = \"/opt/data/projects/asthma-copd/results/gls_phenoplier\"\n"
   ]
  },
  {
   "cell_type": "code",
   "execution_count": 5,
   "id": "3190631f-27fc-480f-b18e-571d580425a5",
   "metadata": {
    "execution": {
     "iopub.execute_input": "2022-11-30T01:24:09.298458Z",
     "iopub.status.busy": "2022-11-30T01:24:09.298232Z",
     "iopub.status.idle": "2022-11-30T01:24:09.326124Z",
     "shell.execute_reply": "2022-11-30T01:24:09.325607Z"
    },
    "papermill": {
     "duration": 0.038492,
     "end_time": "2022-11-30T01:24:09.327562",
     "exception": false,
     "start_time": "2022-11-30T01:24:09.289070",
     "status": "completed"
    },
    "tags": []
   },
   "outputs": [
    {
     "data": {
      "text/plain": [
       "'Cohort name: aco'"
      ]
     },
     "metadata": {},
     "output_type": "display_data"
    }
   ],
   "source": [
    "assert COHORT_NAME is not None and len(COHORT_NAME) > 0, \"A cohort name must be given\"\n",
    "\n",
    "COHORT_NAME = COHORT_NAME.lower()\n",
    "display(f\"Cohort name: {COHORT_NAME}\")"
   ]
  },
  {
   "cell_type": "code",
   "execution_count": 6,
   "id": "f53ba19b-0f93-4fa2-a047-63b375939d1a",
   "metadata": {
    "execution": {
     "iopub.execute_input": "2022-11-30T01:24:09.346763Z",
     "iopub.status.busy": "2022-11-30T01:24:09.346158Z",
     "iopub.status.idle": "2022-11-30T01:24:09.368510Z",
     "shell.execute_reply": "2022-11-30T01:24:09.367984Z"
    },
    "papermill": {
     "duration": 0.033518,
     "end_time": "2022-11-30T01:24:09.369976",
     "exception": false,
     "start_time": "2022-11-30T01:24:09.336458",
     "status": "completed"
    },
    "tags": []
   },
   "outputs": [
    {
     "data": {
      "text/plain": [
       "'Reference panel: GTEX_V8'"
      ]
     },
     "metadata": {},
     "output_type": "display_data"
    }
   ],
   "source": [
    "assert (\n",
    "    REFERENCE_PANEL is not None and len(REFERENCE_PANEL) > 0\n",
    "), \"A reference panel must be given\"\n",
    "\n",
    "display(f\"Reference panel: {REFERENCE_PANEL}\")"
   ]
  },
  {
   "cell_type": "code",
   "execution_count": 7,
   "id": "e024d130-c139-429a-9c6e-ccf149e297b0",
   "metadata": {
    "execution": {
     "iopub.execute_input": "2022-11-30T01:24:09.389221Z",
     "iopub.status.busy": "2022-11-30T01:24:09.388844Z",
     "iopub.status.idle": "2022-11-30T01:24:09.412389Z",
     "shell.execute_reply": "2022-11-30T01:24:09.411756Z"
    },
    "papermill": {
     "duration": 0.035056,
     "end_time": "2022-11-30T01:24:09.413880",
     "exception": false,
     "start_time": "2022-11-30T01:24:09.378824",
     "status": "completed"
    },
    "tags": []
   },
   "outputs": [
    {
     "data": {
      "text/plain": [
       "'eQTL model: MASHR) / mashr_'"
      ]
     },
     "metadata": {},
     "output_type": "display_data"
    }
   ],
   "source": [
    "assert (\n",
    "    EQTL_MODEL is not None and len(EQTL_MODEL) > 0\n",
    "), \"A prediction/eQTL model must be given\"\n",
    "\n",
    "EQTL_MODEL_FILES_PREFIX = conf.PHENOMEXCAN[\"PREDICTION_MODELS\"][f\"{EQTL_MODEL}_PREFIX\"]\n",
    "display(f\"eQTL model: {EQTL_MODEL}) / {EQTL_MODEL_FILES_PREFIX}\")"
   ]
  },
  {
   "cell_type": "code",
   "execution_count": 8,
   "id": "552a7f63-a18c-4d3e-bb6a-94f99b431291",
   "metadata": {
    "execution": {
     "iopub.execute_input": "2022-11-30T01:24:09.432758Z",
     "iopub.status.busy": "2022-11-30T01:24:09.432538Z",
     "iopub.status.idle": "2022-11-30T01:24:09.455692Z",
     "shell.execute_reply": "2022-11-30T01:24:09.455049Z"
    },
    "papermill": {
     "duration": 0.034302,
     "end_time": "2022-11-30T01:24:09.457148",
     "exception": false,
     "start_time": "2022-11-30T01:24:09.422846",
     "status": "completed"
    },
    "tags": []
   },
   "outputs": [
    {
     "data": {
      "text/plain": [
       "'S-MultiXcan condition number: 30'"
      ]
     },
     "metadata": {},
     "output_type": "display_data"
    }
   ],
   "source": [
    "assert (\n",
    "    SMULTIXCAN_CONDITION_NUMBER is not None and SMULTIXCAN_CONDITION_NUMBER > 0\n",
    "), \"The S-MultiXcan condition number (positive integer) must be given\"\n",
    "\n",
    "display(f\"S-MultiXcan condition number: {SMULTIXCAN_CONDITION_NUMBER}\")"
   ]
  },
  {
   "cell_type": "code",
   "execution_count": 9,
   "id": "f34a336f-548e-4afe-8955-90eaea4f42c6",
   "metadata": {
    "execution": {
     "iopub.execute_input": "2022-11-30T01:24:09.476954Z",
     "iopub.status.busy": "2022-11-30T01:24:09.476449Z",
     "iopub.status.idle": "2022-11-30T01:24:09.498787Z",
     "shell.execute_reply": "2022-11-30T01:24:09.498165Z"
    },
    "papermill": {
     "duration": 0.03391,
     "end_time": "2022-11-30T01:24:09.500220",
     "exception": false,
     "start_time": "2022-11-30T01:24:09.466310",
     "status": "completed"
    },
    "tags": []
   },
   "outputs": [
    {
     "data": {
      "text/plain": [
       "'Working on chromosome 7'"
      ]
     },
     "metadata": {},
     "output_type": "display_data"
    }
   ],
   "source": [
    "assert CHROMOSOME is not None and (\n",
    "    1 <= CHROMOSOME <= 22\n",
    "), \"You have to select one chromosome (format: number between 1 and 22)\"\n",
    "\n",
    "# CHROMOSOME = str(CHROMOSOME)\n",
    "display(f\"Working on chromosome {CHROMOSOME}\")"
   ]
  },
  {
   "cell_type": "code",
   "execution_count": 10,
   "id": "ab8e96e8-06b5-4363-9dcd-dc4d78cc27f7",
   "metadata": {
    "execution": {
     "iopub.execute_input": "2022-11-30T01:24:09.519833Z",
     "iopub.status.busy": "2022-11-30T01:24:09.519377Z",
     "iopub.status.idle": "2022-11-30T01:24:09.542747Z",
     "shell.execute_reply": "2022-11-30T01:24:09.542117Z"
    },
    "papermill": {
     "duration": 0.034701,
     "end_time": "2022-11-30T01:24:09.544166",
     "exception": false,
     "start_time": "2022-11-30T01:24:09.509465",
     "status": "completed"
    },
    "tags": []
   },
   "outputs": [
    {
     "data": {
      "text/plain": [
       "'Compute correlation within distance False'"
      ]
     },
     "metadata": {},
     "output_type": "display_data"
    }
   ],
   "source": [
    "display(f\"Compute correlation within distance {COMPUTE_CORRELATIONS_WITHIN_DISTANCE}\")"
   ]
  },
  {
   "cell_type": "code",
   "execution_count": 11,
   "id": "b393b698-77e3-4ba2-8ac1-e14d51aa988f",
   "metadata": {
    "execution": {
     "iopub.execute_input": "2022-11-30T01:24:09.563944Z",
     "iopub.status.busy": "2022-11-30T01:24:09.563509Z",
     "iopub.status.idle": "2022-11-30T01:24:09.587585Z",
     "shell.execute_reply": "2022-11-30T01:24:09.586953Z"
    },
    "papermill": {
     "duration": 0.035565,
     "end_time": "2022-11-30T01:24:09.589088",
     "exception": false,
     "start_time": "2022-11-30T01:24:09.553523",
     "status": "completed"
    },
    "tags": []
   },
   "outputs": [
    {
     "data": {
      "text/plain": [
       "'Using output dir base: /opt/data/projects/asthma-copd/results/gls_phenoplier/gene_corrs/aco'"
      ]
     },
     "metadata": {},
     "output_type": "display_data"
    }
   ],
   "source": [
    "assert (\n",
    "    OUTPUT_DIR_BASE is not None and len(OUTPUT_DIR_BASE) > 0\n",
    "), \"Output directory path must be given\"\n",
    "\n",
    "OUTPUT_DIR_BASE = (\n",
    "    Path(OUTPUT_DIR_BASE)\n",
    "    / \"gene_corrs\"\n",
    "    / COHORT_NAME\n",
    "    # / REFERENCE_PANEL.lower()\n",
    "    # / EQTL_MODEL.lower()\n",
    ").resolve()\n",
    "\n",
    "OUTPUT_DIR_BASE.mkdir(parents=True, exist_ok=True)\n",
    "\n",
    "display(f\"Using output dir base: {OUTPUT_DIR_BASE}\")"
   ]
  },
  {
   "cell_type": "markdown",
   "id": "d2ba085e",
   "metadata": {
    "papermill": {
     "duration": 0.009365,
     "end_time": "2022-11-30T01:24:09.608685",
     "exception": false,
     "start_time": "2022-11-30T01:24:09.599320",
     "status": "completed"
    },
    "tags": []
   },
   "source": [
    "# Load data"
   ]
  },
  {
   "cell_type": "markdown",
   "id": "7dcb8db7",
   "metadata": {
    "papermill": {
     "duration": 0.009266,
     "end_time": "2022-11-30T01:24:09.627305",
     "exception": false,
     "start_time": "2022-11-30T01:24:09.618039",
     "status": "completed"
    },
    "tags": []
   },
   "source": [
    "## GWAS variants"
   ]
  },
  {
   "cell_type": "code",
   "execution_count": 12,
   "id": "29434c4e-8cd3-4b9b-82e4-b5a251d9dd19",
   "metadata": {
    "execution": {
     "iopub.execute_input": "2022-11-30T01:24:09.647142Z",
     "iopub.status.busy": "2022-11-30T01:24:09.646681Z",
     "iopub.status.idle": "2022-11-30T01:24:11.723833Z",
     "shell.execute_reply": "2022-11-30T01:24:11.723226Z"
    },
    "papermill": {
     "duration": 2.088949,
     "end_time": "2022-11-30T01:24:11.725586",
     "exception": false,
     "start_time": "2022-11-30T01:24:09.636637",
     "status": "completed"
    },
    "tags": []
   },
   "outputs": [],
   "source": [
    "with open(OUTPUT_DIR_BASE / \"gwas_variant_ids.pkl\", \"rb\") as handle:\n",
    "    gwas_variants_ids_set = pickle.load(handle)"
   ]
  },
  {
   "cell_type": "code",
   "execution_count": 13,
   "id": "b9d9dec2-4a76-4bf9-bde2-e24c95acb8a0",
   "metadata": {
    "execution": {
     "iopub.execute_input": "2022-11-30T01:24:11.746022Z",
     "iopub.status.busy": "2022-11-30T01:24:11.745795Z",
     "iopub.status.idle": "2022-11-30T01:24:11.759368Z",
     "shell.execute_reply": "2022-11-30T01:24:11.758939Z"
    },
    "papermill": {
     "duration": 0.025383,
     "end_time": "2022-11-30T01:24:11.760778",
     "exception": false,
     "start_time": "2022-11-30T01:24:11.735395",
     "status": "completed"
    },
    "tags": []
   },
   "outputs": [
    {
     "data": {
      "text/plain": [
       "8561476"
      ]
     },
     "execution_count": 13,
     "metadata": {},
     "output_type": "execute_result"
    }
   ],
   "source": [
    "len(gwas_variants_ids_set)"
   ]
  },
  {
   "cell_type": "code",
   "execution_count": 14,
   "id": "4235b06a-6034-4ee4-a0a3-2ae35d122418",
   "metadata": {
    "execution": {
     "iopub.execute_input": "2022-11-30T01:24:11.781218Z",
     "iopub.status.busy": "2022-11-30T01:24:11.781087Z",
     "iopub.status.idle": "2022-11-30T01:24:12.163855Z",
     "shell.execute_reply": "2022-11-30T01:24:12.163279Z"
    },
    "papermill": {
     "duration": 0.394625,
     "end_time": "2022-11-30T01:24:12.165318",
     "exception": false,
     "start_time": "2022-11-30T01:24:11.770693",
     "status": "completed"
    },
    "tags": []
   },
   "outputs": [
    {
     "data": {
      "text/plain": [
       "['chr5_42078347_A_G_b38',\n",
       " 'chr11_133986916_G_C_b38',\n",
       " 'chr7_152320780_A_C_b38',\n",
       " 'chr20_14116345_C_T_b38',\n",
       " 'chr11_35852916_G_A_b38']"
      ]
     },
     "execution_count": 14,
     "metadata": {},
     "output_type": "execute_result"
    }
   ],
   "source": [
    "list(gwas_variants_ids_set)[:5]"
   ]
  },
  {
   "cell_type": "markdown",
   "id": "07866999-2305-41f9-a144-e69c9122c212",
   "metadata": {
    "papermill": {
     "duration": 0.009742,
     "end_time": "2022-11-30T01:24:12.185071",
     "exception": false,
     "start_time": "2022-11-30T01:24:12.175329",
     "status": "completed"
    },
    "tags": []
   },
   "source": [
    "## S-PrediXcan tissue models"
   ]
  },
  {
   "cell_type": "code",
   "execution_count": 15,
   "id": "780611d9-77c8-405f-90a4-f271f7b09397",
   "metadata": {
    "execution": {
     "iopub.execute_input": "2022-11-30T01:24:12.206919Z",
     "iopub.status.busy": "2022-11-30T01:24:12.206575Z",
     "iopub.status.idle": "2022-11-30T01:24:12.820957Z",
     "shell.execute_reply": "2022-11-30T01:24:12.820403Z"
    },
    "papermill": {
     "duration": 0.627522,
     "end_time": "2022-11-30T01:24:12.822639",
     "exception": false,
     "start_time": "2022-11-30T01:24:12.195117",
     "status": "completed"
    },
    "tags": []
   },
   "outputs": [],
   "source": [
    "spredixcan_genes_models = pd.read_pickle(OUTPUT_DIR_BASE / \"gene_tissues.pkl\")"
   ]
  },
  {
   "cell_type": "code",
   "execution_count": 16,
   "id": "726dd1f6-9557-4225-91fa-b3b879ea96e1",
   "metadata": {
    "execution": {
     "iopub.execute_input": "2022-11-30T01:24:12.845410Z",
     "iopub.status.busy": "2022-11-30T01:24:12.845141Z",
     "iopub.status.idle": "2022-11-30T01:24:12.860245Z",
     "shell.execute_reply": "2022-11-30T01:24:12.859684Z"
    },
    "papermill": {
     "duration": 0.028737,
     "end_time": "2022-11-30T01:24:12.861544",
     "exception": false,
     "start_time": "2022-11-30T01:24:12.832807",
     "status": "completed"
    },
    "tags": []
   },
   "outputs": [
    {
     "data": {
      "text/plain": [
       "(6442, 5)"
      ]
     },
     "execution_count": 16,
     "metadata": {},
     "output_type": "execute_result"
    }
   ],
   "source": [
    "spredixcan_genes_models.shape"
   ]
  },
  {
   "cell_type": "code",
   "execution_count": 17,
   "id": "944a1b48-222c-4eb0-b252-b9de2cbca215",
   "metadata": {
    "execution": {
     "iopub.execute_input": "2022-11-30T01:24:12.880204Z",
     "iopub.status.busy": "2022-11-30T01:24:12.879986Z",
     "iopub.status.idle": "2022-11-30T01:24:12.897828Z",
     "shell.execute_reply": "2022-11-30T01:24:12.897236Z"
    },
    "papermill": {
     "duration": 0.027811,
     "end_time": "2022-11-30T01:24:12.899027",
     "exception": false,
     "start_time": "2022-11-30T01:24:12.871216",
     "status": "completed"
    },
    "tags": []
   },
   "outputs": [
    {
     "data": {
      "text/html": [
       "<div>\n",
       "<style scoped>\n",
       "    .dataframe tbody tr th:only-of-type {\n",
       "        vertical-align: middle;\n",
       "    }\n",
       "\n",
       "    .dataframe tbody tr th {\n",
       "        vertical-align: top;\n",
       "    }\n",
       "\n",
       "    .dataframe thead th {\n",
       "        text-align: right;\n",
       "    }\n",
       "</style>\n",
       "<table border=\"1\" class=\"dataframe\">\n",
       "  <thead>\n",
       "    <tr style=\"text-align: right;\">\n",
       "      <th></th>\n",
       "      <th>gene_name</th>\n",
       "      <th>tissue</th>\n",
       "      <th>n_tissues</th>\n",
       "      <th>n_snps_used_sum</th>\n",
       "      <th>n_snps_in_model_sum</th>\n",
       "    </tr>\n",
       "    <tr>\n",
       "      <th>gene_id</th>\n",
       "      <th></th>\n",
       "      <th></th>\n",
       "      <th></th>\n",
       "      <th></th>\n",
       "      <th></th>\n",
       "    </tr>\n",
       "  </thead>\n",
       "  <tbody>\n",
       "    <tr>\n",
       "      <th>ENSG00000000419</th>\n",
       "      <td>DPM1</td>\n",
       "      <td>(Brain_Hypothalamus, Brain_Substantia_nigra)</td>\n",
       "      <td>2</td>\n",
       "      <td>2</td>\n",
       "      <td>2</td>\n",
       "    </tr>\n",
       "    <tr>\n",
       "      <th>ENSG00000000938</th>\n",
       "      <td>FGR</td>\n",
       "      <td>(Adipose_Subcutaneous, Skin_Not_Sun_Exposed_Su...</td>\n",
       "      <td>36</td>\n",
       "      <td>40</td>\n",
       "      <td>40</td>\n",
       "    </tr>\n",
       "    <tr>\n",
       "      <th>ENSG00000000971</th>\n",
       "      <td>CFH</td>\n",
       "      <td>(Skin_Not_Sun_Exposed_Suprapubic, Brain_Putame...</td>\n",
       "      <td>34</td>\n",
       "      <td>44</td>\n",
       "      <td>44</td>\n",
       "    </tr>\n",
       "    <tr>\n",
       "      <th>ENSG00000001084</th>\n",
       "      <td>GCLC</td>\n",
       "      <td>(Adipose_Subcutaneous, Skin_Not_Sun_Exposed_Su...</td>\n",
       "      <td>32</td>\n",
       "      <td>46</td>\n",
       "      <td>46</td>\n",
       "    </tr>\n",
       "    <tr>\n",
       "      <th>ENSG00000001167</th>\n",
       "      <td>NFYA</td>\n",
       "      <td>(Adipose_Subcutaneous, Skin_Not_Sun_Exposed_Su...</td>\n",
       "      <td>40</td>\n",
       "      <td>47</td>\n",
       "      <td>48</td>\n",
       "    </tr>\n",
       "  </tbody>\n",
       "</table>\n",
       "</div>"
      ],
      "text/plain": [
       "                gene_name                                             tissue  \\\n",
       "gene_id                                                                        \n",
       "ENSG00000000419      DPM1       (Brain_Hypothalamus, Brain_Substantia_nigra)   \n",
       "ENSG00000000938       FGR  (Adipose_Subcutaneous, Skin_Not_Sun_Exposed_Su...   \n",
       "ENSG00000000971       CFH  (Skin_Not_Sun_Exposed_Suprapubic, Brain_Putame...   \n",
       "ENSG00000001084      GCLC  (Adipose_Subcutaneous, Skin_Not_Sun_Exposed_Su...   \n",
       "ENSG00000001167      NFYA  (Adipose_Subcutaneous, Skin_Not_Sun_Exposed_Su...   \n",
       "\n",
       "                 n_tissues  n_snps_used_sum  n_snps_in_model_sum  \n",
       "gene_id                                                           \n",
       "ENSG00000000419          2                2                    2  \n",
       "ENSG00000000938         36               40                   40  \n",
       "ENSG00000000971         34               44                   44  \n",
       "ENSG00000001084         32               46                   46  \n",
       "ENSG00000001167         40               47                   48  "
      ]
     },
     "execution_count": 17,
     "metadata": {},
     "output_type": "execute_result"
    }
   ],
   "source": [
    "spredixcan_genes_models.head()"
   ]
  },
  {
   "cell_type": "code",
   "execution_count": 18,
   "id": "d1c11bb1-be0b-4f40-b360-633d6827109f",
   "metadata": {
    "execution": {
     "iopub.execute_input": "2022-11-30T01:24:12.920108Z",
     "iopub.status.busy": "2022-11-30T01:24:12.919894Z",
     "iopub.status.idle": "2022-11-30T01:24:12.933084Z",
     "shell.execute_reply": "2022-11-30T01:24:12.932540Z"
    },
    "papermill": {
     "duration": 0.024666,
     "end_time": "2022-11-30T01:24:12.934266",
     "exception": false,
     "start_time": "2022-11-30T01:24:12.909600",
     "status": "completed"
    },
    "tags": []
   },
   "outputs": [],
   "source": [
    "assert spredixcan_genes_models.index.is_unique"
   ]
  },
  {
   "cell_type": "markdown",
   "id": "a5b5092c-a13e-47c4-a92a-480fcc08f3ae",
   "metadata": {
    "papermill": {
     "duration": 0.009949,
     "end_time": "2022-11-30T01:24:12.953950",
     "exception": false,
     "start_time": "2022-11-30T01:24:12.944001",
     "status": "completed"
    },
    "tags": []
   },
   "source": [
    "## Gene info"
   ]
  },
  {
   "cell_type": "code",
   "execution_count": 19,
   "id": "7d6bb224-88e9-4358-ac10-43a41d92cdad",
   "metadata": {
    "execution": {
     "iopub.execute_input": "2022-11-30T01:24:12.973454Z",
     "iopub.status.busy": "2022-11-30T01:24:12.973216Z",
     "iopub.status.idle": "2022-11-30T01:24:12.991978Z",
     "shell.execute_reply": "2022-11-30T01:24:12.991342Z"
    },
    "papermill": {
     "duration": 0.030185,
     "end_time": "2022-11-30T01:24:12.993204",
     "exception": false,
     "start_time": "2022-11-30T01:24:12.963019",
     "status": "completed"
    },
    "tags": []
   },
   "outputs": [],
   "source": [
    "genes_info = pd.read_pickle(OUTPUT_DIR_BASE / \"genes_info.pkl\")"
   ]
  },
  {
   "cell_type": "code",
   "execution_count": 20,
   "id": "9e32abfa-546d-483e-8c18-d526e9e05903",
   "metadata": {
    "execution": {
     "iopub.execute_input": "2022-11-30T01:24:13.014077Z",
     "iopub.status.busy": "2022-11-30T01:24:13.013913Z",
     "iopub.status.idle": "2022-11-30T01:24:13.031569Z",
     "shell.execute_reply": "2022-11-30T01:24:13.030987Z"
    },
    "papermill": {
     "duration": 0.029259,
     "end_time": "2022-11-30T01:24:13.032512",
     "exception": false,
     "start_time": "2022-11-30T01:24:13.003253",
     "status": "completed"
    },
    "tags": []
   },
   "outputs": [
    {
     "data": {
      "text/plain": [
       "(6442, 7)"
      ]
     },
     "execution_count": 20,
     "metadata": {},
     "output_type": "execute_result"
    }
   ],
   "source": [
    "genes_info.shape"
   ]
  },
  {
   "cell_type": "code",
   "execution_count": 21,
   "id": "d16c3e92-85ec-468a-9a56-e25a9774a1cb",
   "metadata": {
    "execution": {
     "iopub.execute_input": "2022-11-30T01:24:13.044240Z",
     "iopub.status.busy": "2022-11-30T01:24:13.043716Z",
     "iopub.status.idle": "2022-11-30T01:24:13.068875Z",
     "shell.execute_reply": "2022-11-30T01:24:13.068167Z"
    },
    "papermill": {
     "duration": 0.031945,
     "end_time": "2022-11-30T01:24:13.069843",
     "exception": false,
     "start_time": "2022-11-30T01:24:13.037898",
     "status": "completed"
    },
    "tags": []
   },
   "outputs": [
    {
     "data": {
      "text/html": [
       "<div>\n",
       "<style scoped>\n",
       "    .dataframe tbody tr th:only-of-type {\n",
       "        vertical-align: middle;\n",
       "    }\n",
       "\n",
       "    .dataframe tbody tr th {\n",
       "        vertical-align: top;\n",
       "    }\n",
       "\n",
       "    .dataframe thead th {\n",
       "        text-align: right;\n",
       "    }\n",
       "</style>\n",
       "<table border=\"1\" class=\"dataframe\">\n",
       "  <thead>\n",
       "    <tr style=\"text-align: right;\">\n",
       "      <th></th>\n",
       "      <th>name</th>\n",
       "      <th>id</th>\n",
       "      <th>chr</th>\n",
       "      <th>band</th>\n",
       "      <th>start_position</th>\n",
       "      <th>end_position</th>\n",
       "      <th>gene_length</th>\n",
       "    </tr>\n",
       "  </thead>\n",
       "  <tbody>\n",
       "    <tr>\n",
       "      <th>0</th>\n",
       "      <td>IFIT3</td>\n",
       "      <td>ENSG00000119917</td>\n",
       "      <td>10</td>\n",
       "      <td>10q23.31</td>\n",
       "      <td>89327997</td>\n",
       "      <td>89340971</td>\n",
       "      <td>12974</td>\n",
       "    </tr>\n",
       "    <tr>\n",
       "      <th>1</th>\n",
       "      <td>ZFP36</td>\n",
       "      <td>ENSG00000128016</td>\n",
       "      <td>19</td>\n",
       "      <td>19q13.2</td>\n",
       "      <td>39406813</td>\n",
       "      <td>39409412</td>\n",
       "      <td>2599</td>\n",
       "    </tr>\n",
       "    <tr>\n",
       "      <th>2</th>\n",
       "      <td>ZNF597</td>\n",
       "      <td>ENSG00000167981</td>\n",
       "      <td>16</td>\n",
       "      <td>16p13.3</td>\n",
       "      <td>3432414</td>\n",
       "      <td>3443504</td>\n",
       "      <td>11090</td>\n",
       "    </tr>\n",
       "    <tr>\n",
       "      <th>3</th>\n",
       "      <td>AGPS</td>\n",
       "      <td>ENSG00000018510</td>\n",
       "      <td>2</td>\n",
       "      <td>2q31.2</td>\n",
       "      <td>177392768</td>\n",
       "      <td>177559299</td>\n",
       "      <td>166531</td>\n",
       "    </tr>\n",
       "    <tr>\n",
       "      <th>4</th>\n",
       "      <td>CDK2</td>\n",
       "      <td>ENSG00000123374</td>\n",
       "      <td>12</td>\n",
       "      <td>12q13.2</td>\n",
       "      <td>55966781</td>\n",
       "      <td>55972789</td>\n",
       "      <td>6008</td>\n",
       "    </tr>\n",
       "  </tbody>\n",
       "</table>\n",
       "</div>"
      ],
      "text/plain": [
       "     name               id  chr      band  start_position  end_position  \\\n",
       "0   IFIT3  ENSG00000119917   10  10q23.31        89327997      89340971   \n",
       "1   ZFP36  ENSG00000128016   19   19q13.2        39406813      39409412   \n",
       "2  ZNF597  ENSG00000167981   16   16p13.3         3432414       3443504   \n",
       "3    AGPS  ENSG00000018510    2    2q31.2       177392768     177559299   \n",
       "4    CDK2  ENSG00000123374   12   12q13.2        55966781      55972789   \n",
       "\n",
       "   gene_length  \n",
       "0        12974  \n",
       "1         2599  \n",
       "2        11090  \n",
       "3       166531  \n",
       "4         6008  "
      ]
     },
     "execution_count": 21,
     "metadata": {},
     "output_type": "execute_result"
    }
   ],
   "source": [
    "genes_info.head()"
   ]
  },
  {
   "cell_type": "markdown",
   "id": "d3843e06",
   "metadata": {
    "papermill": {
     "duration": 0.005624,
     "end_time": "2022-11-30T01:24:13.080965",
     "exception": false,
     "start_time": "2022-11-30T01:24:13.075341",
     "status": "completed"
    },
    "tags": []
   },
   "source": [
    "# Compute correlations"
   ]
  },
  {
   "cell_type": "code",
   "execution_count": 22,
   "id": "cb859c15-d1f3-4006-a74c-2b83c0db9611",
   "metadata": {
    "execution": {
     "iopub.execute_input": "2022-11-30T01:24:13.092646Z",
     "iopub.status.busy": "2022-11-30T01:24:13.092341Z",
     "iopub.status.idle": "2022-11-30T01:24:13.113586Z",
     "shell.execute_reply": "2022-11-30T01:24:13.113066Z"
    },
    "papermill": {
     "duration": 0.028103,
     "end_time": "2022-11-30T01:24:13.114428",
     "exception": false,
     "start_time": "2022-11-30T01:24:13.086325",
     "status": "completed"
    },
    "tags": []
   },
   "outputs": [
    {
     "data": {
      "text/plain": [
       "PosixPath('/opt/data/projects/asthma-copd/results/gls_phenoplier/gene_corrs/aco/by_chr/gene_corrs-chr7.pkl')"
      ]
     },
     "metadata": {},
     "output_type": "display_data"
    }
   ],
   "source": [
    "output_dir = OUTPUT_DIR_BASE / \"by_chr\"\n",
    "output_dir.mkdir(exist_ok=True, parents=True)\n",
    "output_file = output_dir / f\"gene_corrs-chr{CHROMOSOME}.pkl\"\n",
    "display(output_file)"
   ]
  },
  {
   "cell_type": "code",
   "execution_count": 23,
   "id": "aa674fe4-6794-4eed-98fa-32b39d1d4ace",
   "metadata": {
    "execution": {
     "iopub.execute_input": "2022-11-30T01:24:13.126739Z",
     "iopub.status.busy": "2022-11-30T01:24:13.126430Z",
     "iopub.status.idle": "2022-11-30T01:24:13.146368Z",
     "shell.execute_reply": "2022-11-30T01:24:13.145717Z"
    },
    "papermill": {
     "duration": 0.027131,
     "end_time": "2022-11-30T01:24:13.147427",
     "exception": false,
     "start_time": "2022-11-30T01:24:13.120296",
     "status": "completed"
    },
    "tags": []
   },
   "outputs": [],
   "source": [
    "warnings.filterwarnings(\"error\")"
   ]
  },
  {
   "cell_type": "code",
   "execution_count": 24,
   "id": "44d5450b-3baf-43f1-9e2e-4b06f1a785f8",
   "metadata": {
    "execution": {
     "iopub.execute_input": "2022-11-30T01:24:13.159246Z",
     "iopub.status.busy": "2022-11-30T01:24:13.159045Z",
     "iopub.status.idle": "2022-11-30T01:24:13.179233Z",
     "shell.execute_reply": "2022-11-30T01:24:13.178561Z"
    },
    "papermill": {
     "duration": 0.02719,
     "end_time": "2022-11-30T01:24:13.180191",
     "exception": false,
     "start_time": "2022-11-30T01:24:13.153001",
     "status": "completed"
    },
    "tags": []
   },
   "outputs": [],
   "source": [
    "# standard checks\n",
    "all_chrs = genes_info[\"chr\"].dropna().unique()\n",
    "assert all_chrs.shape[0] == 22\n",
    "\n",
    "# select chromosome given by the user\n",
    "assert CHROMOSOME in all_chrs"
   ]
  },
  {
   "cell_type": "code",
   "execution_count": 25,
   "id": "2d7c043c-92a7-4d35-991b-fa69ac1e0268",
   "metadata": {
    "execution": {
     "iopub.execute_input": "2022-11-30T01:24:13.192624Z",
     "iopub.status.busy": "2022-11-30T01:24:13.192418Z",
     "iopub.status.idle": "2022-11-30T01:24:13.214523Z",
     "shell.execute_reply": "2022-11-30T01:24:13.213888Z"
    },
    "papermill": {
     "duration": 0.029736,
     "end_time": "2022-11-30T01:24:13.216014",
     "exception": false,
     "start_time": "2022-11-30T01:24:13.186278",
     "status": "completed"
    },
    "tags": []
   },
   "outputs": [
    {
     "name": "stdout",
     "output_type": "stream",
     "text": [
      "Number of genes in chromosome: 281\n"
     ]
    }
   ],
   "source": [
    "# run only on the chromosome specified\n",
    "all_chrs = [CHROMOSOME]\n",
    "genes_chr = genes_info[genes_info[\"chr\"] == CHROMOSOME]\n",
    "\n",
    "# For testing purposes\n",
    "# genes_chr = genes_chr.sample(n=20)\n",
    "\n",
    "print(f\"Number of genes in chromosome: {genes_chr.shape[0]}\", flush=True)"
   ]
  },
  {
   "cell_type": "code",
   "execution_count": 26,
   "id": "916015d8-2979-46d3-a9b9-1cf5a0932c6a",
   "metadata": {
    "execution": {
     "iopub.execute_input": "2022-11-30T01:24:13.239804Z",
     "iopub.status.busy": "2022-11-30T01:24:13.239497Z",
     "iopub.status.idle": "2022-11-30T01:24:13.260972Z",
     "shell.execute_reply": "2022-11-30T01:24:13.260277Z"
    },
    "papermill": {
     "duration": 0.035261,
     "end_time": "2022-11-30T01:24:13.262520",
     "exception": false,
     "start_time": "2022-11-30T01:24:13.227259",
     "status": "completed"
    },
    "tags": []
   },
   "outputs": [],
   "source": [
    "# sort genes by starting position to make visualizations better later\n",
    "genes_chr = genes_chr.sort_values(\"start_position\")"
   ]
  },
  {
   "cell_type": "code",
   "execution_count": 27,
   "id": "a38aa74a-8ad3-47f6-8ef9-56be0e011774",
   "metadata": {
    "execution": {
     "iopub.execute_input": "2022-11-30T01:24:13.286111Z",
     "iopub.status.busy": "2022-11-30T01:24:13.285581Z",
     "iopub.status.idle": "2022-11-30T01:24:13.307491Z",
     "shell.execute_reply": "2022-11-30T01:24:13.306798Z"
    },
    "papermill": {
     "duration": 0.035246,
     "end_time": "2022-11-30T01:24:13.308991",
     "exception": false,
     "start_time": "2022-11-30T01:24:13.273745",
     "status": "completed"
    },
    "tags": []
   },
   "outputs": [],
   "source": [
    "gene_chr_objs = [Gene(ensembl_id=gene_id) for gene_id in genes_chr[\"id\"]]"
   ]
  },
  {
   "cell_type": "code",
   "execution_count": 28,
   "id": "570f974f-13c3-42b6-ad3a-ce99ca885c1a",
   "metadata": {
    "execution": {
     "iopub.execute_input": "2022-11-30T01:24:13.332951Z",
     "iopub.status.busy": "2022-11-30T01:24:13.332655Z",
     "iopub.status.idle": "2022-11-30T01:24:13.355045Z",
     "shell.execute_reply": "2022-11-30T01:24:13.354378Z"
    },
    "papermill": {
     "duration": 0.036229,
     "end_time": "2022-11-30T01:24:13.356536",
     "exception": false,
     "start_time": "2022-11-30T01:24:13.320307",
     "status": "completed"
    },
    "tags": []
   },
   "outputs": [
    {
     "name": "stdout",
     "output_type": "stream",
     "text": [
      "Number of gene combinations: 39621\n"
     ]
    }
   ],
   "source": [
    "n = len(gene_chr_objs)\n",
    "# diagonal elements + upper triangular matrix\n",
    "n_comb = n + int(n * (n - 1) / 2.0)\n",
    "print(f\"Number of gene combinations: {n_comb}\", flush=True)"
   ]
  },
  {
   "cell_type": "code",
   "execution_count": 29,
   "id": "cdbb90a1",
   "metadata": {
    "execution": {
     "iopub.execute_input": "2022-11-30T01:24:13.380369Z",
     "iopub.status.busy": "2022-11-30T01:24:13.379881Z",
     "iopub.status.idle": "2022-11-30T01:50:57.216680Z",
     "shell.execute_reply": "2022-11-30T01:50:57.216122Z"
    },
    "papermill": {
     "duration": 1604.510433,
     "end_time": "2022-11-30T01:50:57.878341",
     "exception": false,
     "start_time": "2022-11-30T01:24:13.367908",
     "status": "completed"
    },
    "tags": []
   },
   "outputs": [
    {
     "name": "stderr",
     "output_type": "stream",
     "text": [
      "ENSG00000106018 / ENSG00000106018: 100%|██████████████████████| 39621/39621 [26:43<00:00, 24.70it/s]\n"
     ]
    },
    {
     "data": {
      "text/plain": [
       "PosixPath('/opt/data/projects/asthma-copd/results/gls_phenoplier/gene_corrs/aco/by_chr/gene_corrs-chr7.pkl')"
      ]
     },
     "metadata": {},
     "output_type": "display_data"
    }
   ],
   "source": [
    "gene_corrs = []\n",
    "gene_corrs_data = np.full(\n",
    "    (n, n),\n",
    "    np.nan,\n",
    "    dtype=np.float64,\n",
    ")\n",
    "\n",
    "i = 0\n",
    "with tqdm(ncols=100, total=n_comb) as pbar:\n",
    "    for gene1_idx in range(0, len(gene_chr_objs)):\n",
    "        gene1_obj = gene_chr_objs[gene1_idx]\n",
    "        gene1_tissues = spredixcan_genes_models.loc[gene1_obj.ensembl_id, \"tissue\"]\n",
    "\n",
    "        for gene2_idx in range(gene1_idx, len(gene_chr_objs)):\n",
    "            gene2_obj = gene_chr_objs[gene2_idx]\n",
    "            gene2_tissues = spredixcan_genes_models.loc[gene2_obj.ensembl_id, \"tissue\"]\n",
    "\n",
    "            pbar.set_description(f\"{gene1_obj.ensembl_id} / {gene2_obj.ensembl_id}\")\n",
    "\n",
    "            try:\n",
    "                r = gene1_obj.get_ssm_correlation(\n",
    "                    other_gene=gene2_obj,\n",
    "                    tissues=gene1_tissues,\n",
    "                    other_tissues=gene2_tissues,\n",
    "                    snps_subset=gwas_variants_ids_set,\n",
    "                    condition_number=SMULTIXCAN_CONDITION_NUMBER,\n",
    "                    reference_panel=REFERENCE_PANEL,\n",
    "                    model_type=EQTL_MODEL,\n",
    "                    use_within_distance=COMPUTE_CORRELATIONS_WITHIN_DISTANCE,\n",
    "                )\n",
    "\n",
    "                if r is None:\n",
    "                    # if r is None, it's very likely because:\n",
    "                    #  * one of the genes has no prediction models\n",
    "                    #  * all the SNPs predictors for the gene are not present in the reference\n",
    "                    #    panel\n",
    "\n",
    "                    r = 0.0\n",
    "\n",
    "                gene_corrs.append(r)\n",
    "\n",
    "                gene_corrs_data[gene1_idx, gene2_idx] = r\n",
    "                gene_corrs_data[gene2_idx, gene1_idx] = r\n",
    "            except Warning as e:\n",
    "                if not DEBUG_MODE:\n",
    "                    raise e\n",
    "\n",
    "                print(\n",
    "                    f\"RuntimeWarning for genes {gene1_obj.ensembl_id} and {gene2_obj.ensembl_id}\",\n",
    "                    flush=True,\n",
    "                )\n",
    "                print(traceback.format_exc(), flush=True)\n",
    "\n",
    "                gene_corrs.append(np.nan)\n",
    "            except Exception as e:\n",
    "                if not DEBUG_MODE:\n",
    "                    raise e\n",
    "\n",
    "                print(\n",
    "                    f\"Exception for genes {gene1_obj.ensembl_id} and {gene2_obj.ensembl_id}\",\n",
    "                    flush=True,\n",
    "                )\n",
    "                print(traceback.format_exc(), flush=True)\n",
    "\n",
    "                gene_corrs.append(np.nan)\n",
    "\n",
    "            pbar.update(1)\n",
    "\n",
    "# create a pandas series\n",
    "gene_corrs_flat = pd.Series(gene_corrs)\n",
    "\n",
    "# save\n",
    "# FIXME: consider saving only the condenced matrix here. See here for\n",
    "# more details: https://github.com/greenelab/phenoplier/pull/38#discussion_r634600813\n",
    "# gene_corrs_data = squareform(np.array(gene_corrs, dtype=np.float64))\n",
    "# np.fill_diagonal(gene_corrs_data, 1.0)\n",
    "\n",
    "gene_chr_ids = [g.ensembl_id for g in gene_chr_objs]\n",
    "gene_corrs_df = pd.DataFrame(\n",
    "    data=gene_corrs_data,\n",
    "    index=gene_chr_ids,\n",
    "    columns=gene_chr_ids,\n",
    ")\n",
    "\n",
    "output_dir.mkdir(exist_ok=True, parents=True)\n",
    "display(output_file)\n",
    "\n",
    "gene_corrs_df.to_pickle(output_file)"
   ]
  },
  {
   "cell_type": "markdown",
   "id": "faa67b51-5373-470f-aa72-2ded53fa6dfe",
   "metadata": {
    "papermill": {
     "duration": 1.6367,
     "end_time": "2022-11-30T01:51:01.125650",
     "exception": false,
     "start_time": "2022-11-30T01:50:59.488950",
     "status": "completed"
    },
    "tags": []
   },
   "source": [
    "# Testing"
   ]
  },
  {
   "cell_type": "code",
   "execution_count": 30,
   "id": "14f7d046-4b55-4896-a56b-990127bcc388",
   "metadata": {
    "execution": {
     "iopub.execute_input": "2022-11-30T01:51:04.457374Z",
     "iopub.status.busy": "2022-11-30T01:51:04.456655Z",
     "iopub.status.idle": "2022-11-30T01:51:04.478269Z",
     "shell.execute_reply": "2022-11-30T01:51:04.477672Z"
    },
    "papermill": {
     "duration": 1.670508,
     "end_time": "2022-11-30T01:51:04.479248",
     "exception": false,
     "start_time": "2022-11-30T01:51:02.808740",
     "status": "completed"
    },
    "tags": []
   },
   "outputs": [
    {
     "data": {
      "text/plain": [
       "(281, 281)"
      ]
     },
     "execution_count": 30,
     "metadata": {},
     "output_type": "execute_result"
    }
   ],
   "source": [
    "gene_corrs_df.shape"
   ]
  },
  {
   "cell_type": "code",
   "execution_count": 31,
   "id": "c7d15414-3297-4537-a7c6-7588c0baeb75",
   "metadata": {
    "execution": {
     "iopub.execute_input": "2022-11-30T01:51:07.737700Z",
     "iopub.status.busy": "2022-11-30T01:51:07.736957Z",
     "iopub.status.idle": "2022-11-30T01:51:07.777724Z",
     "shell.execute_reply": "2022-11-30T01:51:07.777107Z"
    },
    "papermill": {
     "duration": 1.629654,
     "end_time": "2022-11-30T01:51:07.778697",
     "exception": false,
     "start_time": "2022-11-30T01:51:06.149043",
     "status": "completed"
    },
    "tags": []
   },
   "outputs": [
    {
     "data": {
      "text/html": [
       "<div>\n",
       "<style scoped>\n",
       "    .dataframe tbody tr th:only-of-type {\n",
       "        vertical-align: middle;\n",
       "    }\n",
       "\n",
       "    .dataframe tbody tr th {\n",
       "        vertical-align: top;\n",
       "    }\n",
       "\n",
       "    .dataframe thead th {\n",
       "        text-align: right;\n",
       "    }\n",
       "</style>\n",
       "<table border=\"1\" class=\"dataframe\">\n",
       "  <thead>\n",
       "    <tr style=\"text-align: right;\">\n",
       "      <th></th>\n",
       "      <th>ENSG00000197461</th>\n",
       "      <th>ENSG00000188191</th>\n",
       "      <th>ENSG00000105963</th>\n",
       "      <th>ENSG00000198517</th>\n",
       "      <th>ENSG00000002822</th>\n",
       "      <th>ENSG00000106263</th>\n",
       "      <th>ENSG00000136213</th>\n",
       "      <th>ENSG00000106003</th>\n",
       "      <th>ENSG00000146535</th>\n",
       "      <th>ENSG00000198286</th>\n",
       "      <th>...</th>\n",
       "      <th>ENSG00000164889</th>\n",
       "      <th>ENSG00000033100</th>\n",
       "      <th>ENSG00000082014</th>\n",
       "      <th>ENSG00000013374</th>\n",
       "      <th>ENSG00000106615</th>\n",
       "      <th>ENSG00000106617</th>\n",
       "      <th>ENSG00000178234</th>\n",
       "      <th>ENSG00000009335</th>\n",
       "      <th>ENSG00000155093</th>\n",
       "      <th>ENSG00000106018</th>\n",
       "    </tr>\n",
       "  </thead>\n",
       "  <tbody>\n",
       "    <tr>\n",
       "      <th>ENSG00000197461</th>\n",
       "      <td>1.000000</td>\n",
       "      <td>0.083157</td>\n",
       "      <td>0.033978</td>\n",
       "      <td>0.003060</td>\n",
       "      <td>0.013065</td>\n",
       "      <td>0.009004</td>\n",
       "      <td>0.019057</td>\n",
       "      <td>0.012376</td>\n",
       "      <td>0.009234</td>\n",
       "      <td>0.014266</td>\n",
       "      <td>...</td>\n",
       "      <td>0.010152</td>\n",
       "      <td>0.010507</td>\n",
       "      <td>0.011161</td>\n",
       "      <td>0.013909</td>\n",
       "      <td>0.004774</td>\n",
       "      <td>0.011164</td>\n",
       "      <td>0.006936</td>\n",
       "      <td>0.007883</td>\n",
       "      <td>0.006058</td>\n",
       "      <td>0.014371</td>\n",
       "    </tr>\n",
       "    <tr>\n",
       "      <th>ENSG00000188191</th>\n",
       "      <td>0.083157</td>\n",
       "      <td>1.000000</td>\n",
       "      <td>0.078571</td>\n",
       "      <td>0.004194</td>\n",
       "      <td>0.009341</td>\n",
       "      <td>0.002894</td>\n",
       "      <td>0.009530</td>\n",
       "      <td>0.004923</td>\n",
       "      <td>0.002952</td>\n",
       "      <td>0.008014</td>\n",
       "      <td>...</td>\n",
       "      <td>0.008760</td>\n",
       "      <td>0.006333</td>\n",
       "      <td>0.004605</td>\n",
       "      <td>0.007523</td>\n",
       "      <td>0.003973</td>\n",
       "      <td>0.008225</td>\n",
       "      <td>0.003197</td>\n",
       "      <td>0.007478</td>\n",
       "      <td>0.008958</td>\n",
       "      <td>0.009820</td>\n",
       "    </tr>\n",
       "    <tr>\n",
       "      <th>ENSG00000105963</th>\n",
       "      <td>0.033978</td>\n",
       "      <td>0.078571</td>\n",
       "      <td>1.000000</td>\n",
       "      <td>0.011125</td>\n",
       "      <td>0.016978</td>\n",
       "      <td>0.006438</td>\n",
       "      <td>0.012195</td>\n",
       "      <td>0.010466</td>\n",
       "      <td>0.010749</td>\n",
       "      <td>0.018232</td>\n",
       "      <td>...</td>\n",
       "      <td>0.011512</td>\n",
       "      <td>0.012182</td>\n",
       "      <td>0.012324</td>\n",
       "      <td>0.018159</td>\n",
       "      <td>0.007264</td>\n",
       "      <td>0.019251</td>\n",
       "      <td>0.004451</td>\n",
       "      <td>0.013767</td>\n",
       "      <td>0.013310</td>\n",
       "      <td>0.018882</td>\n",
       "    </tr>\n",
       "    <tr>\n",
       "      <th>ENSG00000198517</th>\n",
       "      <td>0.003060</td>\n",
       "      <td>0.004194</td>\n",
       "      <td>0.011125</td>\n",
       "      <td>1.000000</td>\n",
       "      <td>0.008667</td>\n",
       "      <td>0.008283</td>\n",
       "      <td>0.012122</td>\n",
       "      <td>0.007604</td>\n",
       "      <td>0.004019</td>\n",
       "      <td>0.005604</td>\n",
       "      <td>...</td>\n",
       "      <td>0.005793</td>\n",
       "      <td>0.007669</td>\n",
       "      <td>0.004659</td>\n",
       "      <td>0.009741</td>\n",
       "      <td>0.003398</td>\n",
       "      <td>0.006290</td>\n",
       "      <td>0.003330</td>\n",
       "      <td>0.002767</td>\n",
       "      <td>0.013355</td>\n",
       "      <td>0.002594</td>\n",
       "    </tr>\n",
       "    <tr>\n",
       "      <th>ENSG00000002822</th>\n",
       "      <td>0.013065</td>\n",
       "      <td>0.009341</td>\n",
       "      <td>0.016978</td>\n",
       "      <td>0.008667</td>\n",
       "      <td>1.000000</td>\n",
       "      <td>0.022969</td>\n",
       "      <td>0.045137</td>\n",
       "      <td>0.019808</td>\n",
       "      <td>0.014914</td>\n",
       "      <td>0.018587</td>\n",
       "      <td>...</td>\n",
       "      <td>0.009881</td>\n",
       "      <td>0.014991</td>\n",
       "      <td>0.014940</td>\n",
       "      <td>0.016616</td>\n",
       "      <td>0.007119</td>\n",
       "      <td>0.017551</td>\n",
       "      <td>0.004579</td>\n",
       "      <td>0.011575</td>\n",
       "      <td>0.009440</td>\n",
       "      <td>0.014025</td>\n",
       "    </tr>\n",
       "  </tbody>\n",
       "</table>\n",
       "<p>5 rows × 281 columns</p>\n",
       "</div>"
      ],
      "text/plain": [
       "                 ENSG00000197461  ENSG00000188191  ENSG00000105963  \\\n",
       "ENSG00000197461         1.000000         0.083157         0.033978   \n",
       "ENSG00000188191         0.083157         1.000000         0.078571   \n",
       "ENSG00000105963         0.033978         0.078571         1.000000   \n",
       "ENSG00000198517         0.003060         0.004194         0.011125   \n",
       "ENSG00000002822         0.013065         0.009341         0.016978   \n",
       "\n",
       "                 ENSG00000198517  ENSG00000002822  ENSG00000106263  \\\n",
       "ENSG00000197461         0.003060         0.013065         0.009004   \n",
       "ENSG00000188191         0.004194         0.009341         0.002894   \n",
       "ENSG00000105963         0.011125         0.016978         0.006438   \n",
       "ENSG00000198517         1.000000         0.008667         0.008283   \n",
       "ENSG00000002822         0.008667         1.000000         0.022969   \n",
       "\n",
       "                 ENSG00000136213  ENSG00000106003  ENSG00000146535  \\\n",
       "ENSG00000197461         0.019057         0.012376         0.009234   \n",
       "ENSG00000188191         0.009530         0.004923         0.002952   \n",
       "ENSG00000105963         0.012195         0.010466         0.010749   \n",
       "ENSG00000198517         0.012122         0.007604         0.004019   \n",
       "ENSG00000002822         0.045137         0.019808         0.014914   \n",
       "\n",
       "                 ENSG00000198286  ...  ENSG00000164889  ENSG00000033100  \\\n",
       "ENSG00000197461         0.014266  ...         0.010152         0.010507   \n",
       "ENSG00000188191         0.008014  ...         0.008760         0.006333   \n",
       "ENSG00000105963         0.018232  ...         0.011512         0.012182   \n",
       "ENSG00000198517         0.005604  ...         0.005793         0.007669   \n",
       "ENSG00000002822         0.018587  ...         0.009881         0.014991   \n",
       "\n",
       "                 ENSG00000082014  ENSG00000013374  ENSG00000106615  \\\n",
       "ENSG00000197461         0.011161         0.013909         0.004774   \n",
       "ENSG00000188191         0.004605         0.007523         0.003973   \n",
       "ENSG00000105963         0.012324         0.018159         0.007264   \n",
       "ENSG00000198517         0.004659         0.009741         0.003398   \n",
       "ENSG00000002822         0.014940         0.016616         0.007119   \n",
       "\n",
       "                 ENSG00000106617  ENSG00000178234  ENSG00000009335  \\\n",
       "ENSG00000197461         0.011164         0.006936         0.007883   \n",
       "ENSG00000188191         0.008225         0.003197         0.007478   \n",
       "ENSG00000105963         0.019251         0.004451         0.013767   \n",
       "ENSG00000198517         0.006290         0.003330         0.002767   \n",
       "ENSG00000002822         0.017551         0.004579         0.011575   \n",
       "\n",
       "                 ENSG00000155093  ENSG00000106018  \n",
       "ENSG00000197461         0.006058         0.014371  \n",
       "ENSG00000188191         0.008958         0.009820  \n",
       "ENSG00000105963         0.013310         0.018882  \n",
       "ENSG00000198517         0.013355         0.002594  \n",
       "ENSG00000002822         0.009440         0.014025  \n",
       "\n",
       "[5 rows x 281 columns]"
      ]
     },
     "execution_count": 31,
     "metadata": {},
     "output_type": "execute_result"
    }
   ],
   "source": [
    "gene_corrs_df.head()"
   ]
  },
  {
   "cell_type": "markdown",
   "id": "dad6603f-01c6-41fb-a6f6-241051207dd8",
   "metadata": {
    "papermill": {
     "duration": 1.63922,
     "end_time": "2022-11-30T01:51:10.958476",
     "exception": false,
     "start_time": "2022-11-30T01:51:09.319256",
     "status": "completed"
    },
    "tags": []
   },
   "source": [
    "## Standard checks and stats"
   ]
  },
  {
   "cell_type": "code",
   "execution_count": 32,
   "id": "286686af-1b7b-4440-8453-6bdcbd8de19c",
   "metadata": {
    "execution": {
     "iopub.execute_input": "2022-11-30T01:51:14.206037Z",
     "iopub.status.busy": "2022-11-30T01:51:14.205305Z",
     "iopub.status.idle": "2022-11-30T01:51:14.219772Z",
     "shell.execute_reply": "2022-11-30T01:51:14.219378Z"
    },
    "papermill": {
     "duration": 1.589991,
     "end_time": "2022-11-30T01:51:14.221403",
     "exception": false,
     "start_time": "2022-11-30T01:51:12.631412",
     "status": "completed"
    },
    "tags": []
   },
   "outputs": [],
   "source": [
    "assert not gene_corrs_df.isna().any().any()"
   ]
  },
  {
   "cell_type": "code",
   "execution_count": 33,
   "id": "00583efc-7068-4270-ad1e-4a418e91db96",
   "metadata": {
    "execution": {
     "iopub.execute_input": "2022-11-30T01:51:17.431568Z",
     "iopub.status.busy": "2022-11-30T01:51:17.431280Z",
     "iopub.status.idle": "2022-11-30T01:51:17.446576Z",
     "shell.execute_reply": "2022-11-30T01:51:17.446168Z"
    },
    "papermill": {
     "duration": 1.606991,
     "end_time": "2022-11-30T01:51:17.447482",
     "exception": false,
     "start_time": "2022-11-30T01:51:15.840491",
     "status": "completed"
    },
    "tags": []
   },
   "outputs": [
    {
     "data": {
      "text/plain": [
       "4.3447173393178107e-07"
      ]
     },
     "metadata": {},
     "output_type": "display_data"
    }
   ],
   "source": [
    "_min_val = gene_corrs_df.min().min()\n",
    "display(_min_val)\n",
    "assert _min_val >= -0.05"
   ]
  },
  {
   "cell_type": "code",
   "execution_count": 34,
   "id": "d04fb2cf-1050-475b-b855-f5f7cc04092b",
   "metadata": {
    "execution": {
     "iopub.execute_input": "2022-11-30T01:51:20.730251Z",
     "iopub.status.busy": "2022-11-30T01:51:20.730001Z",
     "iopub.status.idle": "2022-11-30T01:51:20.752387Z",
     "shell.execute_reply": "2022-11-30T01:51:20.751744Z"
    },
    "papermill": {
     "duration": 1.709845,
     "end_time": "2022-11-30T01:51:20.753336",
     "exception": false,
     "start_time": "2022-11-30T01:51:19.043491",
     "status": "completed"
    },
    "tags": []
   },
   "outputs": [
    {
     "data": {
      "text/plain": [
       "1.0000000000000027"
      ]
     },
     "metadata": {},
     "output_type": "display_data"
    }
   ],
   "source": [
    "_max_val = gene_corrs_df.max().max()  # this captures the diagonal\n",
    "display(_max_val)\n",
    "assert _max_val <= 1.05"
   ]
  },
  {
   "cell_type": "code",
   "execution_count": 35,
   "id": "96d02c44-1fba-47be-8a93-8f2608420b9c",
   "metadata": {
    "execution": {
     "iopub.execute_input": "2022-11-30T01:51:23.880485Z",
     "iopub.status.busy": "2022-11-30T01:51:23.880117Z",
     "iopub.status.idle": "2022-11-30T01:51:23.900659Z",
     "shell.execute_reply": "2022-11-30T01:51:23.900084Z"
    },
    "papermill": {
     "duration": 1.578874,
     "end_time": "2022-11-30T01:51:23.901601",
     "exception": false,
     "start_time": "2022-11-30T01:51:22.322727",
     "status": "completed"
    },
    "tags": []
   },
   "outputs": [],
   "source": [
    "# check upper triangular values\n",
    "# assert len(gene_corrs) == int(genes_chr.shape[0] * (genes_chr.shape[0] - 1) / 2)"
   ]
  },
  {
   "cell_type": "code",
   "execution_count": 36,
   "id": "fe283586-c348-40e0-8841-f6d97bfb021c",
   "metadata": {
    "execution": {
     "iopub.execute_input": "2022-11-30T01:51:26.977955Z",
     "iopub.status.busy": "2022-11-30T01:51:26.977574Z",
     "iopub.status.idle": "2022-11-30T01:51:27.002596Z",
     "shell.execute_reply": "2022-11-30T01:51:27.002114Z"
    },
    "papermill": {
     "duration": 1.566913,
     "end_time": "2022-11-30T01:51:27.003444",
     "exception": false,
     "start_time": "2022-11-30T01:51:25.436531",
     "status": "completed"
    },
    "tags": []
   },
   "outputs": [
    {
     "data": {
      "text/plain": [
       "count    3.962100e+04\n",
       "mean     1.576483e-02\n",
       "std      8.834653e-02\n",
       "min      4.344717e-07\n",
       "25%      3.979939e-03\n",
       "50%      6.024707e-03\n",
       "75%      8.416714e-03\n",
       "max      1.000000e+00\n",
       "dtype: float64"
      ]
     },
     "execution_count": 36,
     "metadata": {},
     "output_type": "execute_result"
    }
   ],
   "source": [
    "gene_corrs_flat.describe()"
   ]
  },
  {
   "cell_type": "code",
   "execution_count": 37,
   "id": "b3815678-0f93-4b35-897b-a9d047a2aa78",
   "metadata": {
    "execution": {
     "iopub.execute_input": "2022-11-30T01:51:30.086420Z",
     "iopub.status.busy": "2022-11-30T01:51:30.086110Z",
     "iopub.status.idle": "2022-11-30T01:51:30.116130Z",
     "shell.execute_reply": "2022-11-30T01:51:30.115501Z"
    },
    "papermill": {
     "duration": 1.572692,
     "end_time": "2022-11-30T01:51:30.117057",
     "exception": false,
     "start_time": "2022-11-30T01:51:28.544365",
     "status": "completed"
    },
    "tags": []
   },
   "outputs": [
    {
     "data": {
      "text/plain": [
       "0.00    4.344717e-07\n",
       "0.05    1.663864e-03\n",
       "0.10    2.453258e-03\n",
       "0.15    3.032251e-03\n",
       "0.20    3.523127e-03\n",
       "0.25    3.979939e-03\n",
       "0.30    4.402173e-03\n",
       "0.35    4.818332e-03\n",
       "0.40    5.217283e-03\n",
       "0.45    5.614713e-03\n",
       "0.50    6.024707e-03\n",
       "0.55    6.450487e-03\n",
       "0.60    6.884534e-03\n",
       "0.65    7.338072e-03\n",
       "0.70    7.838724e-03\n",
       "0.75    8.416714e-03\n",
       "0.80    9.047877e-03\n",
       "0.85    9.845110e-03\n",
       "0.90    1.097380e-02\n",
       "0.95    1.309961e-02\n",
       "dtype: float64"
      ]
     },
     "metadata": {},
     "output_type": "display_data"
    }
   ],
   "source": [
    "gene_corrs_quantiles = gene_corrs_flat.quantile(np.arange(0, 1, 0.05))\n",
    "display(gene_corrs_quantiles)"
   ]
  },
  {
   "cell_type": "markdown",
   "id": "87134509-b145-4a10-8bc9-b7e914c2b0fa",
   "metadata": {
    "papermill": {
     "duration": 1.564928,
     "end_time": "2022-11-30T01:51:33.228963",
     "exception": false,
     "start_time": "2022-11-30T01:51:31.664035",
     "status": "completed"
    },
    "tags": []
   },
   "source": [
    "## Positive definiteness"
   ]
  },
  {
   "cell_type": "code",
   "execution_count": 38,
   "id": "07d9a9a1-a4f7-48aa-b916-6d42a8cc6186",
   "metadata": {
    "execution": {
     "iopub.execute_input": "2022-11-30T01:51:36.291987Z",
     "iopub.status.busy": "2022-11-30T01:51:36.291202Z",
     "iopub.status.idle": "2022-11-30T01:51:36.343472Z",
     "shell.execute_reply": "2022-11-30T01:51:36.342823Z"
    },
    "papermill": {
     "duration": 1.580288,
     "end_time": "2022-11-30T01:51:36.344385",
     "exception": false,
     "start_time": "2022-11-30T01:51:34.764097",
     "status": "completed"
    },
    "tags": []
   },
   "outputs": [
    {
     "data": {
      "text/plain": [
       "0"
      ]
     },
     "metadata": {},
     "output_type": "display_data"
    },
    {
     "data": {
      "text/plain": [
       "array([], dtype=float64)"
      ]
     },
     "metadata": {},
     "output_type": "display_data"
    }
   ],
   "source": [
    "# print negative eigenvalues\n",
    "eigs = np.linalg.eigvals(gene_corrs_df.to_numpy())\n",
    "display(len(eigs[eigs < 0]))\n",
    "display(eigs[eigs < 0])"
   ]
  },
  {
   "cell_type": "code",
   "execution_count": 39,
   "id": "6e218436-c3c5-4028-8c94-a4fa6260efce",
   "metadata": {
    "execution": {
     "iopub.execute_input": "2022-11-30T01:51:39.438851Z",
     "iopub.status.busy": "2022-11-30T01:51:39.438543Z",
     "iopub.status.idle": "2022-11-30T01:51:39.465311Z",
     "shell.execute_reply": "2022-11-30T01:51:39.464577Z"
    },
    "papermill": {
     "duration": 1.570833,
     "end_time": "2022-11-30T01:51:39.466250",
     "exception": false,
     "start_time": "2022-11-30T01:51:37.895417",
     "status": "completed"
    },
    "tags": []
   },
   "outputs": [
    {
     "name": "stdout",
     "output_type": "stream",
     "text": [
      "Works!\n"
     ]
    }
   ],
   "source": [
    "try:\n",
    "    chol_mat = np.linalg.cholesky(gene_corrs_df.to_numpy())\n",
    "    cov_inv = np.linalg.inv(chol_mat)\n",
    "    print(\"Works!\")\n",
    "except Exception as e:\n",
    "    print(f\"Cholesky decomposition failed: {str(e)}\")"
   ]
  },
  {
   "cell_type": "code",
   "execution_count": 40,
   "id": "dd8827fb-faf9-4c7c-9454-015e94752706",
   "metadata": {
    "execution": {
     "iopub.execute_input": "2022-11-30T01:51:42.563435Z",
     "iopub.status.busy": "2022-11-30T01:51:42.563118Z",
     "iopub.status.idle": "2022-11-30T01:51:42.593100Z",
     "shell.execute_reply": "2022-11-30T01:51:42.592370Z"
    },
    "papermill": {
     "duration": 1.590875,
     "end_time": "2022-11-30T01:51:42.594154",
     "exception": false,
     "start_time": "2022-11-30T01:51:41.003279",
     "status": "completed"
    },
    "tags": []
   },
   "outputs": [
    {
     "name": "stdout",
     "output_type": "stream",
     "text": [
      "Works!\n"
     ]
    }
   ],
   "source": [
    "try:\n",
    "    # decomposition used by statsmodels.GLS\n",
    "    cholsigmainv = np.linalg.cholesky(np.linalg.inv(gene_corrs_df.to_numpy())).T\n",
    "    print(\"Works!\")\n",
    "except Exception as e:\n",
    "    print(f\"Cholesky decomposition failed (statsmodels.GLS): {str(e)}\")"
   ]
  },
  {
   "cell_type": "markdown",
   "id": "8e60a080-edb2-4e9c-b2ef-22961693200c",
   "metadata": {
    "papermill": {
     "duration": 1.55126,
     "end_time": "2022-11-30T01:51:45.697770",
     "exception": false,
     "start_time": "2022-11-30T01:51:44.146510",
     "status": "completed"
    },
    "tags": []
   },
   "source": [
    "## Plot: distribution"
   ]
  },
  {
   "cell_type": "code",
   "execution_count": 41,
   "id": "8301126b-a7d4-4744-9c7d-f0f86eb6f54c",
   "metadata": {
    "execution": {
     "iopub.execute_input": "2022-11-30T01:51:48.803050Z",
     "iopub.status.busy": "2022-11-30T01:51:48.802590Z",
     "iopub.status.idle": "2022-11-30T01:51:54.699819Z",
     "shell.execute_reply": "2022-11-30T01:51:54.699402Z"
    },
    "papermill": {
     "duration": 7.454959,
     "end_time": "2022-11-30T01:51:54.701985",
     "exception": false,
     "start_time": "2022-11-30T01:51:47.247026",
     "status": "completed"
    },
    "tags": []
   },
   "outputs": [
    {
     "data": {
      "image/png": "[encoded data removed]",
      "text/plain": [
       "<Figure size 700x700 with 1 Axes>"
      ]
     },
     "metadata": {},
     "output_type": "display_data"
    }
   ],
   "source": [
    "with sns.plotting_context(\"paper\", font_scale=1.5):\n",
    "    g = sns.displot(gene_corrs_flat, kde=True, height=7)\n",
    "    g.ax.set_title(\n",
    "        f\"Distribution of gene correlation values in chromosome {CHROMOSOME}\"\n",
    "    )"
   ]
  },
  {
   "cell_type": "markdown",
   "id": "cbd52bca-d878-4a2f-b684-5c83aa3038d4",
   "metadata": {
    "papermill": {
     "duration": 1.551883,
     "end_time": "2022-11-30T01:51:57.939934",
     "exception": false,
     "start_time": "2022-11-30T01:51:56.388051",
     "status": "completed"
    },
    "tags": []
   },
   "source": [
    "## Plot: heatmap"
   ]
  },
  {
   "cell_type": "code",
   "execution_count": 42,
   "id": "d03fe63a-c7b2-4fb9-a53c-db362ce843c9",
   "metadata": {
    "execution": {
     "iopub.execute_input": "2022-11-30T01:52:01.145069Z",
     "iopub.status.busy": "2022-11-30T01:52:01.144721Z",
     "iopub.status.idle": "2022-11-30T01:52:01.163913Z",
     "shell.execute_reply": "2022-11-30T01:52:01.163438Z"
    },
    "papermill": {
     "duration": 1.620188,
     "end_time": "2022-11-30T01:52:01.164725",
     "exception": false,
     "start_time": "2022-11-30T01:51:59.544537",
     "status": "completed"
    },
    "tags": []
   },
   "outputs": [
    {
     "data": {
      "text/plain": [
       "'0.0 / 0.05'"
      ]
     },
     "metadata": {},
     "output_type": "display_data"
    }
   ],
   "source": [
    "vmin_val = min(0.00, gene_corrs_quantiles[0.10])\n",
    "vmax_val = max(0.05, gene_corrs_quantiles[0.90])\n",
    "display(f\"{vmin_val} / {vmax_val}\")"
   ]
  },
  {
   "cell_type": "code",
   "execution_count": 43,
   "id": "dc41b70b-5bcc-4d9e-9f33-a22c4a94dab5",
   "metadata": {
    "execution": {
     "iopub.execute_input": "2022-11-30T01:52:04.355156Z",
     "iopub.status.busy": "2022-11-30T01:52:04.354783Z",
     "iopub.status.idle": "2022-11-30T01:52:04.578102Z",
     "shell.execute_reply": "2022-11-30T01:52:04.577678Z"
    },
    "papermill": {
     "duration": 1.788699,
     "end_time": "2022-11-30T01:52:04.580838",
     "exception": false,
     "start_time": "2022-11-30T01:52:02.792139",
     "status": "completed"
    },
    "tags": []
   },
   "outputs": [
    {
     "data": {
      "text/plain": [
       "Text(0.5, 1.0, 'Gene correlations in chromosome 7')"
      ]
     },
     "execution_count": 43,
     "metadata": {},
     "output_type": "execute_result"
    },
    {
     "data": {
      "image/png": "[encoded data removed]",
      "text/plain": [
       "<Figure size 1000x1000 with 2 Axes>"
      ]
     },
     "metadata": {},
     "output_type": "display_data"
    }
   ],
   "source": [
    "f, ax = plt.subplots(figsize=(10, 10))\n",
    "sns.heatmap(\n",
    "    gene_corrs_df,\n",
    "    xticklabels=False,\n",
    "    yticklabels=False,\n",
    "    square=True,\n",
    "    vmin=vmin_val,\n",
    "    vmax=vmax_val,\n",
    "    cmap=\"rocket_r\",\n",
    "    ax=ax,\n",
    ")\n",
    "ax.set_title(f\"Gene correlations in chromosome {CHROMOSOME}\")"
   ]
  },
  {
   "cell_type": "code",
   "execution_count": null,
   "id": "b25e3ead",
   "metadata": {
    "papermill": {
     "duration": 1.577342,
     "end_time": "2022-11-30T01:52:07.738793",
     "exception": false,
     "start_time": "2022-11-30T01:52:06.161451",
     "status": "completed"
    },
    "tags": []
   },
   "outputs": [],
   "source": []
  }
 ],
 "metadata": {
  "jupytext": {
   "cell_metadata_filter": "all,-execution,-papermill,-trusted",
   "formats": "ipynb,py//py:percent"
  },
  "kernelspec": {
   "display_name": "Python 3 (ipykernel)",
   "language": "python",
   "name": "python3"
  },
  "language_info": {
   "codemirror_mode": {
    "name": "ipython",
    "version": 3
   },
   "file_extension": ".py",
   "mimetype": "text/x-python",
   "name": "python",
   "nbconvert_exporter": "python",
   "pygments_lexer": "ipython3",
   "version": "3.10.6"
  },
  "papermill": {
   "default_parameters": {},
   "duration": 1684.557331,
   "end_time": "2022-11-30T01:52:12.051678",
   "environment_variables": {},
   "exception": null,
   "input_path": "projects/asthma-copd/nbs/20_gene_corrs/10-gene_expr_correlations.ipynb",
   "output_path": "projects/asthma-copd/nbs/20_gene_corrs/gene_corrs/aco/10-gene_expr_correlations-chr7.run.ipynb",
   "parameters": {
    "CHROMOSOME": 7,
    "COHORT_NAME": "aco",
    "OUTPUT_DIR_BASE": "/opt/data/projects/asthma-copd/results/gls_phenoplier"
   },
   "start_time": "2022-11-30T01:24:07.494347",
   "version": "2.2.2"
  }
 },
 "nbformat": 4,
 "nbformat_minor": 5
}
