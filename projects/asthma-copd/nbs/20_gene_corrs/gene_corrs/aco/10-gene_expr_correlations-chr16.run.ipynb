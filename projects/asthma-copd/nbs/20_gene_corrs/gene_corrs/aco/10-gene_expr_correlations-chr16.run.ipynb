{
 "cells": [
  {
   "cell_type": "markdown",
   "id": "7a6632fb",
   "metadata": {
    "papermill": {
     "duration": 0.009324,
     "end_time": "2022-11-30T02:01:27.719740",
     "exception": false,
     "start_time": "2022-11-30T02:01:27.710416",
     "status": "completed"
    },
    "tags": []
   },
   "source": [
    "# Description"
   ]
  },
  {
   "cell_type": "markdown",
   "id": "7097c346",
   "metadata": {
    "papermill": {
     "duration": 0.008559,
     "end_time": "2022-11-30T02:01:27.737738",
     "exception": false,
     "start_time": "2022-11-30T02:01:27.729179",
     "status": "completed"
    },
    "tags": []
   },
   "source": [
    "(Please, take a look at the README.md file in this directory for instructions on how to run this notebook)\n",
    "\n",
    "This notebook computes predicted expression correlations between all genes in the MultiPLIER models.\n",
    "\n",
    "It has specicfic parameters for papermill (see under `Settings` below).\n",
    "It can be configured to run on a single chromosome to run in parallel.\n",
    "\n",
    "This notebook is not directly run. See README.md."
   ]
  },
  {
   "cell_type": "markdown",
   "id": "c61d8427",
   "metadata": {
    "papermill": {
     "duration": 0.009051,
     "end_time": "2022-11-30T02:01:27.755613",
     "exception": false,
     "start_time": "2022-11-30T02:01:27.746562",
     "status": "completed"
    },
    "tags": []
   },
   "source": [
    "# Modules"
   ]
  },
  {
   "cell_type": "code",
   "execution_count": 1,
   "id": "bbc0234f",
   "metadata": {
    "execution": {
     "iopub.execute_input": "2022-11-30T02:01:27.775282Z",
     "iopub.status.busy": "2022-11-30T02:01:27.774891Z",
     "iopub.status.idle": "2022-11-30T02:01:27.792648Z",
     "shell.execute_reply": "2022-11-30T02:01:27.791925Z"
    },
    "papermill": {
     "duration": 0.029296,
     "end_time": "2022-11-30T02:01:27.794512",
     "exception": false,
     "start_time": "2022-11-30T02:01:27.765216",
     "status": "completed"
    },
    "tags": []
   },
   "outputs": [],
   "source": [
    "%load_ext autoreload\n",
    "%autoreload 2"
   ]
  },
  {
   "cell_type": "code",
   "execution_count": 2,
   "id": "1d5f5a59",
   "metadata": {
    "execution": {
     "iopub.execute_input": "2022-11-30T02:01:27.813447Z",
     "iopub.status.busy": "2022-11-30T02:01:27.813023Z",
     "iopub.status.idle": "2022-11-30T02:01:28.537349Z",
     "shell.execute_reply": "2022-11-30T02:01:28.536927Z"
    },
    "papermill": {
     "duration": 0.735645,
     "end_time": "2022-11-30T02:01:28.539075",
     "exception": false,
     "start_time": "2022-11-30T02:01:27.803430",
     "status": "completed"
    },
    "tags": []
   },
   "outputs": [],
   "source": [
    "from random import sample, seed\n",
    "import warnings\n",
    "from pathlib import Path\n",
    "import pickle\n",
    "import traceback\n",
    "\n",
    "import numpy as np\n",
    "from scipy.spatial.distance import squareform\n",
    "import pandas as pd\n",
    "from tqdm import tqdm\n",
    "import matplotlib.pyplot as plt\n",
    "import seaborn as sns\n",
    "\n",
    "import conf\n",
    "from entity import Gene"
   ]
  },
  {
   "cell_type": "markdown",
   "id": "1eac24b5",
   "metadata": {
    "papermill": {
     "duration": 0.010369,
     "end_time": "2022-11-30T02:01:28.558318",
     "exception": false,
     "start_time": "2022-11-30T02:01:28.547949",
     "status": "completed"
    },
    "tags": []
   },
   "source": [
    "# Settings"
   ]
  },
  {
   "cell_type": "code",
   "execution_count": 3,
   "id": "ca4560ba",
   "metadata": {
    "execution": {
     "iopub.execute_input": "2022-11-30T02:01:28.576736Z",
     "iopub.status.busy": "2022-11-30T02:01:28.576525Z",
     "iopub.status.idle": "2022-11-30T02:01:28.590452Z",
     "shell.execute_reply": "2022-11-30T02:01:28.590010Z"
    },
    "papermill": {
     "duration": 0.025014,
     "end_time": "2022-11-30T02:01:28.592108",
     "exception": false,
     "start_time": "2022-11-30T02:01:28.567094",
     "status": "completed"
    },
    "tags": [
     "parameters"
    ]
   },
   "outputs": [],
   "source": [
    "# a cohort name (it could be something like UK_BIOBANK, etc)\n",
    "COHORT_NAME = None\n",
    "\n",
    "# reference panel such as 1000G or GTEX_V8\n",
    "REFERENCE_PANEL = \"GTEX_V8\"\n",
    "\n",
    "# predictions models such as MASHR or ELASTIC_NET\n",
    "EQTL_MODEL = \"MASHR\"\n",
    "\n",
    "# this is the default value used in S-MultiXcan to select the\n",
    "# top principal components of the expression correlation matrix\n",
    "SMULTIXCAN_CONDITION_NUMBER = 30\n",
    "\n",
    "# specifies a single chromosome value\n",
    "CHROMOSOME = None\n",
    "\n",
    "# If True, computes the correlation between closeby genes only;\n",
    "# otherwise, it computes correlations for all genes in a chromosome\n",
    "COMPUTE_CORRELATIONS_WITHIN_DISTANCE = False\n",
    "\n",
    "# if True, then it will continue if a gene pair correlation fails,\n",
    "# printing the warning/error for debugging. If False, any warning/error\n",
    "# will be thrown\n",
    "DEBUG_MODE = False\n",
    "\n",
    "# output dir\n",
    "OUTPUT_DIR_BASE = None"
   ]
  },
  {
   "cell_type": "code",
   "execution_count": 4,
   "id": "4c6a9205",
   "metadata": {
    "execution": {
     "iopub.execute_input": "2022-11-30T02:01:28.610671Z",
     "iopub.status.busy": "2022-11-30T02:01:28.610465Z",
     "iopub.status.idle": "2022-11-30T02:01:28.623719Z",
     "shell.execute_reply": "2022-11-30T02:01:28.623286Z"
    },
    "papermill": {
     "duration": 0.024325,
     "end_time": "2022-11-30T02:01:28.625384",
     "exception": false,
     "start_time": "2022-11-30T02:01:28.601059",
     "status": "completed"
    },
    "tags": [
     "injected-parameters"
    ]
   },
   "outputs": [],
   "source": [
    "# Parameters\n",
    "COHORT_NAME = \"aco\"\n",
    "CHROMOSOME = 16\n",
    "OUTPUT_DIR_BASE = \"/opt/data/projects/asthma-copd/results/gls_phenoplier\"\n"
   ]
  },
  {
   "cell_type": "code",
   "execution_count": 5,
   "id": "3190631f-27fc-480f-b18e-571d580425a5",
   "metadata": {
    "execution": {
     "iopub.execute_input": "2022-11-30T02:01:28.644508Z",
     "iopub.status.busy": "2022-11-30T02:01:28.644294Z",
     "iopub.status.idle": "2022-11-30T02:01:28.667280Z",
     "shell.execute_reply": "2022-11-30T02:01:28.666756Z"
    },
    "papermill": {
     "duration": 0.033394,
     "end_time": "2022-11-30T02:01:28.668231",
     "exception": false,
     "start_time": "2022-11-30T02:01:28.634837",
     "status": "completed"
    },
    "tags": []
   },
   "outputs": [
    {
     "data": {
      "text/plain": [
       "'Cohort name: aco'"
      ]
     },
     "metadata": {},
     "output_type": "display_data"
    }
   ],
   "source": [
    "assert COHORT_NAME is not None and len(COHORT_NAME) > 0, \"A cohort name must be given\"\n",
    "\n",
    "COHORT_NAME = COHORT_NAME.lower()\n",
    "display(f\"Cohort name: {COHORT_NAME}\")"
   ]
  },
  {
   "cell_type": "code",
   "execution_count": 6,
   "id": "f53ba19b-0f93-4fa2-a047-63b375939d1a",
   "metadata": {
    "execution": {
     "iopub.execute_input": "2022-11-30T02:01:28.678869Z",
     "iopub.status.busy": "2022-11-30T02:01:28.678455Z",
     "iopub.status.idle": "2022-11-30T02:01:28.697112Z",
     "shell.execute_reply": "2022-11-30T02:01:28.696586Z"
    },
    "papermill": {
     "duration": 0.024905,
     "end_time": "2022-11-30T02:01:28.698052",
     "exception": false,
     "start_time": "2022-11-30T02:01:28.673147",
     "status": "completed"
    },
    "tags": []
   },
   "outputs": [
    {
     "data": {
      "text/plain": [
       "'Reference panel: GTEX_V8'"
      ]
     },
     "metadata": {},
     "output_type": "display_data"
    }
   ],
   "source": [
    "assert (\n",
    "    REFERENCE_PANEL is not None and len(REFERENCE_PANEL) > 0\n",
    "), \"A reference panel must be given\"\n",
    "\n",
    "display(f\"Reference panel: {REFERENCE_PANEL}\")"
   ]
  },
  {
   "cell_type": "code",
   "execution_count": 7,
   "id": "e024d130-c139-429a-9c6e-ccf149e297b0",
   "metadata": {
    "execution": {
     "iopub.execute_input": "2022-11-30T02:01:28.709100Z",
     "iopub.status.busy": "2022-11-30T02:01:28.708686Z",
     "iopub.status.idle": "2022-11-30T02:01:28.727542Z",
     "shell.execute_reply": "2022-11-30T02:01:28.727009Z"
    },
    "papermill": {
     "duration": 0.025217,
     "end_time": "2022-11-30T02:01:28.728465",
     "exception": false,
     "start_time": "2022-11-30T02:01:28.703248",
     "status": "completed"
    },
    "tags": []
   },
   "outputs": [
    {
     "data": {
      "text/plain": [
       "'eQTL model: MASHR) / mashr_'"
      ]
     },
     "metadata": {},
     "output_type": "display_data"
    }
   ],
   "source": [
    "assert (\n",
    "    EQTL_MODEL is not None and len(EQTL_MODEL) > 0\n",
    "), \"A prediction/eQTL model must be given\"\n",
    "\n",
    "EQTL_MODEL_FILES_PREFIX = conf.PHENOMEXCAN[\"PREDICTION_MODELS\"][f\"{EQTL_MODEL}_PREFIX\"]\n",
    "display(f\"eQTL model: {EQTL_MODEL}) / {EQTL_MODEL_FILES_PREFIX}\")"
   ]
  },
  {
   "cell_type": "code",
   "execution_count": 8,
   "id": "552a7f63-a18c-4d3e-bb6a-94f99b431291",
   "metadata": {
    "execution": {
     "iopub.execute_input": "2022-11-30T02:01:28.738960Z",
     "iopub.status.busy": "2022-11-30T02:01:28.738703Z",
     "iopub.status.idle": "2022-11-30T02:01:28.757225Z",
     "shell.execute_reply": "2022-11-30T02:01:28.756697Z"
    },
    "papermill": {
     "duration": 0.024829,
     "end_time": "2022-11-30T02:01:28.758145",
     "exception": false,
     "start_time": "2022-11-30T02:01:28.733316",
     "status": "completed"
    },
    "tags": []
   },
   "outputs": [
    {
     "data": {
      "text/plain": [
       "'S-MultiXcan condition number: 30'"
      ]
     },
     "metadata": {},
     "output_type": "display_data"
    }
   ],
   "source": [
    "assert (\n",
    "    SMULTIXCAN_CONDITION_NUMBER is not None and SMULTIXCAN_CONDITION_NUMBER > 0\n",
    "), \"The S-MultiXcan condition number (positive integer) must be given\"\n",
    "\n",
    "display(f\"S-MultiXcan condition number: {SMULTIXCAN_CONDITION_NUMBER}\")"
   ]
  },
  {
   "cell_type": "code",
   "execution_count": 9,
   "id": "f34a336f-548e-4afe-8955-90eaea4f42c6",
   "metadata": {
    "execution": {
     "iopub.execute_input": "2022-11-30T02:01:28.769346Z",
     "iopub.status.busy": "2022-11-30T02:01:28.768936Z",
     "iopub.status.idle": "2022-11-30T02:01:28.787657Z",
     "shell.execute_reply": "2022-11-30T02:01:28.787149Z"
    },
    "papermill": {
     "duration": 0.025468,
     "end_time": "2022-11-30T02:01:28.788553",
     "exception": false,
     "start_time": "2022-11-30T02:01:28.763085",
     "status": "completed"
    },
    "tags": []
   },
   "outputs": [
    {
     "data": {
      "text/plain": [
       "'Working on chromosome 16'"
      ]
     },
     "metadata": {},
     "output_type": "display_data"
    }
   ],
   "source": [
    "assert CHROMOSOME is not None and (\n",
    "    1 <= CHROMOSOME <= 22\n",
    "), \"You have to select one chromosome (format: number between 1 and 22)\"\n",
    "\n",
    "# CHROMOSOME = str(CHROMOSOME)\n",
    "display(f\"Working on chromosome {CHROMOSOME}\")"
   ]
  },
  {
   "cell_type": "code",
   "execution_count": 10,
   "id": "ab8e96e8-06b5-4363-9dcd-dc4d78cc27f7",
   "metadata": {
    "execution": {
     "iopub.execute_input": "2022-11-30T02:01:28.799536Z",
     "iopub.status.busy": "2022-11-30T02:01:28.799130Z",
     "iopub.status.idle": "2022-11-30T02:01:28.817839Z",
     "shell.execute_reply": "2022-11-30T02:01:28.817307Z"
    },
    "papermill": {
     "duration": 0.025247,
     "end_time": "2022-11-30T02:01:28.818770",
     "exception": false,
     "start_time": "2022-11-30T02:01:28.793523",
     "status": "completed"
    },
    "tags": []
   },
   "outputs": [
    {
     "data": {
      "text/plain": [
       "'Compute correlation within distance False'"
      ]
     },
     "metadata": {},
     "output_type": "display_data"
    }
   ],
   "source": [
    "display(f\"Compute correlation within distance {COMPUTE_CORRELATIONS_WITHIN_DISTANCE}\")"
   ]
  },
  {
   "cell_type": "code",
   "execution_count": 11,
   "id": "b393b698-77e3-4ba2-8ac1-e14d51aa988f",
   "metadata": {
    "execution": {
     "iopub.execute_input": "2022-11-30T02:01:28.830245Z",
     "iopub.status.busy": "2022-11-30T02:01:28.829841Z",
     "iopub.status.idle": "2022-11-30T02:01:28.854117Z",
     "shell.execute_reply": "2022-11-30T02:01:28.853432Z"
    },
    "papermill": {
     "duration": 0.031331,
     "end_time": "2022-11-30T02:01:28.855150",
     "exception": false,
     "start_time": "2022-11-30T02:01:28.823819",
     "status": "completed"
    },
    "tags": []
   },
   "outputs": [
    {
     "data": {
      "text/plain": [
       "'Using output dir base: /opt/data/projects/asthma-copd/results/gls_phenoplier/gene_corrs/aco'"
      ]
     },
     "metadata": {},
     "output_type": "display_data"
    }
   ],
   "source": [
    "assert (\n",
    "    OUTPUT_DIR_BASE is not None and len(OUTPUT_DIR_BASE) > 0\n",
    "), \"Output directory path must be given\"\n",
    "\n",
    "OUTPUT_DIR_BASE = (\n",
    "    Path(OUTPUT_DIR_BASE)\n",
    "    / \"gene_corrs\"\n",
    "    / COHORT_NAME\n",
    "    # / REFERENCE_PANEL.lower()\n",
    "    # / EQTL_MODEL.lower()\n",
    ").resolve()\n",
    "\n",
    "OUTPUT_DIR_BASE.mkdir(parents=True, exist_ok=True)\n",
    "\n",
    "display(f\"Using output dir base: {OUTPUT_DIR_BASE}\")"
   ]
  },
  {
   "cell_type": "markdown",
   "id": "d2ba085e",
   "metadata": {
    "papermill": {
     "duration": 0.004834,
     "end_time": "2022-11-30T02:01:28.865264",
     "exception": false,
     "start_time": "2022-11-30T02:01:28.860430",
     "status": "completed"
    },
    "tags": []
   },
   "source": [
    "# Load data"
   ]
  },
  {
   "cell_type": "markdown",
   "id": "7dcb8db7",
   "metadata": {
    "papermill": {
     "duration": 0.004881,
     "end_time": "2022-11-30T02:01:28.875144",
     "exception": false,
     "start_time": "2022-11-30T02:01:28.870263",
     "status": "completed"
    },
    "tags": []
   },
   "source": [
    "## GWAS variants"
   ]
  },
  {
   "cell_type": "code",
   "execution_count": 12,
   "id": "29434c4e-8cd3-4b9b-82e4-b5a251d9dd19",
   "metadata": {
    "execution": {
     "iopub.execute_input": "2022-11-30T02:01:28.886942Z",
     "iopub.status.busy": "2022-11-30T02:01:28.886411Z",
     "iopub.status.idle": "2022-11-30T02:01:31.030913Z",
     "shell.execute_reply": "2022-11-30T02:01:31.030513Z"
    },
    "papermill": {
     "duration": 2.152154,
     "end_time": "2022-11-30T02:01:31.032623",
     "exception": false,
     "start_time": "2022-11-30T02:01:28.880469",
     "status": "completed"
    },
    "tags": []
   },
   "outputs": [],
   "source": [
    "with open(OUTPUT_DIR_BASE / \"gwas_variant_ids.pkl\", \"rb\") as handle:\n",
    "    gwas_variants_ids_set = pickle.load(handle)"
   ]
  },
  {
   "cell_type": "code",
   "execution_count": 13,
   "id": "b9d9dec2-4a76-4bf9-bde2-e24c95acb8a0",
   "metadata": {
    "execution": {
     "iopub.execute_input": "2022-11-30T02:01:31.053500Z",
     "iopub.status.busy": "2022-11-30T02:01:31.053121Z",
     "iopub.status.idle": "2022-11-30T02:01:31.067323Z",
     "shell.execute_reply": "2022-11-30T02:01:31.066730Z"
    },
    "papermill": {
     "duration": 0.026307,
     "end_time": "2022-11-30T02:01:31.068886",
     "exception": false,
     "start_time": "2022-11-30T02:01:31.042579",
     "status": "completed"
    },
    "tags": []
   },
   "outputs": [
    {
     "data": {
      "text/plain": [
       "8561476"
      ]
     },
     "execution_count": 13,
     "metadata": {},
     "output_type": "execute_result"
    }
   ],
   "source": [
    "len(gwas_variants_ids_set)"
   ]
  },
  {
   "cell_type": "code",
   "execution_count": 14,
   "id": "4235b06a-6034-4ee4-a0a3-2ae35d122418",
   "metadata": {
    "execution": {
     "iopub.execute_input": "2022-11-30T02:01:31.091099Z",
     "iopub.status.busy": "2022-11-30T02:01:31.090894Z",
     "iopub.status.idle": "2022-11-30T02:01:31.485920Z",
     "shell.execute_reply": "2022-11-30T02:01:31.485329Z"
    },
    "papermill": {
     "duration": 0.40745,
     "end_time": "2022-11-30T02:01:31.487366",
     "exception": false,
     "start_time": "2022-11-30T02:01:31.079916",
     "status": "completed"
    },
    "tags": []
   },
   "outputs": [
    {
     "data": {
      "text/plain": [
       "['chr5_129240324_A_T_b38',\n",
       " 'chr5_174661120_G_A_b38',\n",
       " 'chr7_158939867_A_G_b38',\n",
       " 'chr16_23025084_G_A_b38',\n",
       " 'chr12_20417993_G_C_b38']"
      ]
     },
     "execution_count": 14,
     "metadata": {},
     "output_type": "execute_result"
    }
   ],
   "source": [
    "list(gwas_variants_ids_set)[:5]"
   ]
  },
  {
   "cell_type": "markdown",
   "id": "07866999-2305-41f9-a144-e69c9122c212",
   "metadata": {
    "papermill": {
     "duration": 0.01004,
     "end_time": "2022-11-30T02:01:31.507695",
     "exception": false,
     "start_time": "2022-11-30T02:01:31.497655",
     "status": "completed"
    },
    "tags": []
   },
   "source": [
    "## S-PrediXcan tissue models"
   ]
  },
  {
   "cell_type": "code",
   "execution_count": 15,
   "id": "780611d9-77c8-405f-90a4-f271f7b09397",
   "metadata": {
    "execution": {
     "iopub.execute_input": "2022-11-30T02:01:31.529493Z",
     "iopub.status.busy": "2022-11-30T02:01:31.529237Z",
     "iopub.status.idle": "2022-11-30T02:01:32.167462Z",
     "shell.execute_reply": "2022-11-30T02:01:32.167017Z"
    },
    "papermill": {
     "duration": 0.651048,
     "end_time": "2022-11-30T02:01:32.169170",
     "exception": false,
     "start_time": "2022-11-30T02:01:31.518122",
     "status": "completed"
    },
    "tags": []
   },
   "outputs": [],
   "source": [
    "spredixcan_genes_models = pd.read_pickle(OUTPUT_DIR_BASE / \"gene_tissues.pkl\")"
   ]
  },
  {
   "cell_type": "code",
   "execution_count": 16,
   "id": "726dd1f6-9557-4225-91fa-b3b879ea96e1",
   "metadata": {
    "execution": {
     "iopub.execute_input": "2022-11-30T02:01:32.190042Z",
     "iopub.status.busy": "2022-11-30T02:01:32.189741Z",
     "iopub.status.idle": "2022-11-30T02:01:32.203233Z",
     "shell.execute_reply": "2022-11-30T02:01:32.202726Z"
    },
    "papermill": {
     "duration": 0.025331,
     "end_time": "2022-11-30T02:01:32.204691",
     "exception": false,
     "start_time": "2022-11-30T02:01:32.179360",
     "status": "completed"
    },
    "tags": []
   },
   "outputs": [
    {
     "data": {
      "text/plain": [
       "(6442, 5)"
      ]
     },
     "execution_count": 16,
     "metadata": {},
     "output_type": "execute_result"
    }
   ],
   "source": [
    "spredixcan_genes_models.shape"
   ]
  },
  {
   "cell_type": "code",
   "execution_count": 17,
   "id": "944a1b48-222c-4eb0-b252-b9de2cbca215",
   "metadata": {
    "execution": {
     "iopub.execute_input": "2022-11-30T02:01:32.226160Z",
     "iopub.status.busy": "2022-11-30T02:01:32.225965Z",
     "iopub.status.idle": "2022-11-30T02:01:32.243279Z",
     "shell.execute_reply": "2022-11-30T02:01:32.242723Z"
    },
    "papermill": {
     "duration": 0.029925,
     "end_time": "2022-11-30T02:01:32.244754",
     "exception": false,
     "start_time": "2022-11-30T02:01:32.214829",
     "status": "completed"
    },
    "tags": []
   },
   "outputs": [
    {
     "data": {
      "text/html": [
       "<div>\n",
       "<style scoped>\n",
       "    .dataframe tbody tr th:only-of-type {\n",
       "        vertical-align: middle;\n",
       "    }\n",
       "\n",
       "    .dataframe tbody tr th {\n",
       "        vertical-align: top;\n",
       "    }\n",
       "\n",
       "    .dataframe thead th {\n",
       "        text-align: right;\n",
       "    }\n",
       "</style>\n",
       "<table border=\"1\" class=\"dataframe\">\n",
       "  <thead>\n",
       "    <tr style=\"text-align: right;\">\n",
       "      <th></th>\n",
       "      <th>gene_name</th>\n",
       "      <th>tissue</th>\n",
       "      <th>n_tissues</th>\n",
       "      <th>n_snps_used_sum</th>\n",
       "      <th>n_snps_in_model_sum</th>\n",
       "    </tr>\n",
       "    <tr>\n",
       "      <th>gene_id</th>\n",
       "      <th></th>\n",
       "      <th></th>\n",
       "      <th></th>\n",
       "      <th></th>\n",
       "      <th></th>\n",
       "    </tr>\n",
       "  </thead>\n",
       "  <tbody>\n",
       "    <tr>\n",
       "      <th>ENSG00000000419</th>\n",
       "      <td>DPM1</td>\n",
       "      <td>(Brain_Hypothalamus, Brain_Substantia_nigra)</td>\n",
       "      <td>2</td>\n",
       "      <td>2</td>\n",
       "      <td>2</td>\n",
       "    </tr>\n",
       "    <tr>\n",
       "      <th>ENSG00000000938</th>\n",
       "      <td>FGR</td>\n",
       "      <td>(Pancreas, Adipose_Visceral_Omentum, Stomach, ...</td>\n",
       "      <td>36</td>\n",
       "      <td>40</td>\n",
       "      <td>40</td>\n",
       "    </tr>\n",
       "    <tr>\n",
       "      <th>ENSG00000000971</th>\n",
       "      <td>CFH</td>\n",
       "      <td>(Stomach, Nerve_Tibial, Whole_Blood, Artery_Co...</td>\n",
       "      <td>34</td>\n",
       "      <td>44</td>\n",
       "      <td>44</td>\n",
       "    </tr>\n",
       "    <tr>\n",
       "      <th>ENSG00000001084</th>\n",
       "      <td>GCLC</td>\n",
       "      <td>(Pancreas, Adrenal_Gland, Nerve_Tibial, Whole_...</td>\n",
       "      <td>32</td>\n",
       "      <td>46</td>\n",
       "      <td>46</td>\n",
       "    </tr>\n",
       "    <tr>\n",
       "      <th>ENSG00000001167</th>\n",
       "      <td>NFYA</td>\n",
       "      <td>(Adrenal_Gland, Adipose_Visceral_Omentum, Stom...</td>\n",
       "      <td>40</td>\n",
       "      <td>47</td>\n",
       "      <td>48</td>\n",
       "    </tr>\n",
       "  </tbody>\n",
       "</table>\n",
       "</div>"
      ],
      "text/plain": [
       "                gene_name                                             tissue  \\\n",
       "gene_id                                                                        \n",
       "ENSG00000000419      DPM1       (Brain_Hypothalamus, Brain_Substantia_nigra)   \n",
       "ENSG00000000938       FGR  (Pancreas, Adipose_Visceral_Omentum, Stomach, ...   \n",
       "ENSG00000000971       CFH  (Stomach, Nerve_Tibial, Whole_Blood, Artery_Co...   \n",
       "ENSG00000001084      GCLC  (Pancreas, Adrenal_Gland, Nerve_Tibial, Whole_...   \n",
       "ENSG00000001167      NFYA  (Adrenal_Gland, Adipose_Visceral_Omentum, Stom...   \n",
       "\n",
       "                 n_tissues  n_snps_used_sum  n_snps_in_model_sum  \n",
       "gene_id                                                           \n",
       "ENSG00000000419          2                2                    2  \n",
       "ENSG00000000938         36               40                   40  \n",
       "ENSG00000000971         34               44                   44  \n",
       "ENSG00000001084         32               46                   46  \n",
       "ENSG00000001167         40               47                   48  "
      ]
     },
     "execution_count": 17,
     "metadata": {},
     "output_type": "execute_result"
    }
   ],
   "source": [
    "spredixcan_genes_models.head()"
   ]
  },
  {
   "cell_type": "code",
   "execution_count": 18,
   "id": "d1c11bb1-be0b-4f40-b360-633d6827109f",
   "metadata": {
    "execution": {
     "iopub.execute_input": "2022-11-30T02:01:32.266080Z",
     "iopub.status.busy": "2022-11-30T02:01:32.265833Z",
     "iopub.status.idle": "2022-11-30T02:01:32.278564Z",
     "shell.execute_reply": "2022-11-30T02:01:32.278181Z"
    },
    "papermill": {
     "duration": 0.024804,
     "end_time": "2022-11-30T02:01:32.280034",
     "exception": false,
     "start_time": "2022-11-30T02:01:32.255230",
     "status": "completed"
    },
    "tags": []
   },
   "outputs": [],
   "source": [
    "assert spredixcan_genes_models.index.is_unique"
   ]
  },
  {
   "cell_type": "markdown",
   "id": "a5b5092c-a13e-47c4-a92a-480fcc08f3ae",
   "metadata": {
    "papermill": {
     "duration": 0.010584,
     "end_time": "2022-11-30T02:01:32.301212",
     "exception": false,
     "start_time": "2022-11-30T02:01:32.290628",
     "status": "completed"
    },
    "tags": []
   },
   "source": [
    "## Gene info"
   ]
  },
  {
   "cell_type": "code",
   "execution_count": 19,
   "id": "7d6bb224-88e9-4358-ac10-43a41d92cdad",
   "metadata": {
    "execution": {
     "iopub.execute_input": "2022-11-30T02:01:32.322222Z",
     "iopub.status.busy": "2022-11-30T02:01:32.321970Z",
     "iopub.status.idle": "2022-11-30T02:01:32.340698Z",
     "shell.execute_reply": "2022-11-30T02:01:32.340264Z"
    },
    "papermill": {
     "duration": 0.030653,
     "end_time": "2022-11-30T02:01:32.341995",
     "exception": false,
     "start_time": "2022-11-30T02:01:32.311342",
     "status": "completed"
    },
    "tags": []
   },
   "outputs": [],
   "source": [
    "genes_info = pd.read_pickle(OUTPUT_DIR_BASE / \"genes_info.pkl\")"
   ]
  },
  {
   "cell_type": "code",
   "execution_count": 20,
   "id": "9e32abfa-546d-483e-8c18-d526e9e05903",
   "metadata": {
    "execution": {
     "iopub.execute_input": "2022-11-30T02:01:32.359776Z",
     "iopub.status.busy": "2022-11-30T02:01:32.359536Z",
     "iopub.status.idle": "2022-11-30T02:01:32.377433Z",
     "shell.execute_reply": "2022-11-30T02:01:32.377010Z"
    },
    "papermill": {
     "duration": 0.027692,
     "end_time": "2022-11-30T02:01:32.378600",
     "exception": false,
     "start_time": "2022-11-30T02:01:32.350908",
     "status": "completed"
    },
    "tags": []
   },
   "outputs": [
    {
     "data": {
      "text/plain": [
       "(6442, 7)"
      ]
     },
     "execution_count": 20,
     "metadata": {},
     "output_type": "execute_result"
    }
   ],
   "source": [
    "genes_info.shape"
   ]
  },
  {
   "cell_type": "code",
   "execution_count": 21,
   "id": "d16c3e92-85ec-468a-9a56-e25a9774a1cb",
   "metadata": {
    "execution": {
     "iopub.execute_input": "2022-11-30T02:01:32.395986Z",
     "iopub.status.busy": "2022-11-30T02:01:32.395686Z",
     "iopub.status.idle": "2022-11-30T02:01:32.421363Z",
     "shell.execute_reply": "2022-11-30T02:01:32.420854Z"
    },
    "papermill": {
     "duration": 0.035682,
     "end_time": "2022-11-30T02:01:32.422547",
     "exception": false,
     "start_time": "2022-11-30T02:01:32.386865",
     "status": "completed"
    },
    "tags": []
   },
   "outputs": [
    {
     "data": {
      "text/html": [
       "<div>\n",
       "<style scoped>\n",
       "    .dataframe tbody tr th:only-of-type {\n",
       "        vertical-align: middle;\n",
       "    }\n",
       "\n",
       "    .dataframe tbody tr th {\n",
       "        vertical-align: top;\n",
       "    }\n",
       "\n",
       "    .dataframe thead th {\n",
       "        text-align: right;\n",
       "    }\n",
       "</style>\n",
       "<table border=\"1\" class=\"dataframe\">\n",
       "  <thead>\n",
       "    <tr style=\"text-align: right;\">\n",
       "      <th></th>\n",
       "      <th>name</th>\n",
       "      <th>id</th>\n",
       "      <th>chr</th>\n",
       "      <th>band</th>\n",
       "      <th>start_position</th>\n",
       "      <th>end_position</th>\n",
       "      <th>gene_length</th>\n",
       "    </tr>\n",
       "  </thead>\n",
       "  <tbody>\n",
       "    <tr>\n",
       "      <th>0</th>\n",
       "      <td>IFIT3</td>\n",
       "      <td>ENSG00000119917</td>\n",
       "      <td>10</td>\n",
       "      <td>10q23.31</td>\n",
       "      <td>89327997</td>\n",
       "      <td>89340971</td>\n",
       "      <td>12974</td>\n",
       "    </tr>\n",
       "    <tr>\n",
       "      <th>1</th>\n",
       "      <td>ZFP36</td>\n",
       "      <td>ENSG00000128016</td>\n",
       "      <td>19</td>\n",
       "      <td>19q13.2</td>\n",
       "      <td>39406813</td>\n",
       "      <td>39409412</td>\n",
       "      <td>2599</td>\n",
       "    </tr>\n",
       "    <tr>\n",
       "      <th>2</th>\n",
       "      <td>ZNF597</td>\n",
       "      <td>ENSG00000167981</td>\n",
       "      <td>16</td>\n",
       "      <td>16p13.3</td>\n",
       "      <td>3432414</td>\n",
       "      <td>3443504</td>\n",
       "      <td>11090</td>\n",
       "    </tr>\n",
       "    <tr>\n",
       "      <th>3</th>\n",
       "      <td>AGPS</td>\n",
       "      <td>ENSG00000018510</td>\n",
       "      <td>2</td>\n",
       "      <td>2q31.2</td>\n",
       "      <td>177392768</td>\n",
       "      <td>177559299</td>\n",
       "      <td>166531</td>\n",
       "    </tr>\n",
       "    <tr>\n",
       "      <th>4</th>\n",
       "      <td>CDK2</td>\n",
       "      <td>ENSG00000123374</td>\n",
       "      <td>12</td>\n",
       "      <td>12q13.2</td>\n",
       "      <td>55966781</td>\n",
       "      <td>55972789</td>\n",
       "      <td>6008</td>\n",
       "    </tr>\n",
       "  </tbody>\n",
       "</table>\n",
       "</div>"
      ],
      "text/plain": [
       "     name               id  chr      band  start_position  end_position  \\\n",
       "0   IFIT3  ENSG00000119917   10  10q23.31        89327997      89340971   \n",
       "1   ZFP36  ENSG00000128016   19   19q13.2        39406813      39409412   \n",
       "2  ZNF597  ENSG00000167981   16   16p13.3         3432414       3443504   \n",
       "3    AGPS  ENSG00000018510    2    2q31.2       177392768     177559299   \n",
       "4    CDK2  ENSG00000123374   12   12q13.2        55966781      55972789   \n",
       "\n",
       "   gene_length  \n",
       "0        12974  \n",
       "1         2599  \n",
       "2        11090  \n",
       "3       166531  \n",
       "4         6008  "
      ]
     },
     "execution_count": 21,
     "metadata": {},
     "output_type": "execute_result"
    }
   ],
   "source": [
    "genes_info.head()"
   ]
  },
  {
   "cell_type": "markdown",
   "id": "d3843e06",
   "metadata": {
    "papermill": {
     "duration": 0.009873,
     "end_time": "2022-11-30T02:01:32.442319",
     "exception": false,
     "start_time": "2022-11-30T02:01:32.432446",
     "status": "completed"
    },
    "tags": []
   },
   "source": [
    "# Compute correlations"
   ]
  },
  {
   "cell_type": "code",
   "execution_count": 22,
   "id": "cb859c15-d1f3-4006-a74c-2b83c0db9611",
   "metadata": {
    "execution": {
     "iopub.execute_input": "2022-11-30T02:01:32.463248Z",
     "iopub.status.busy": "2022-11-30T02:01:32.462834Z",
     "iopub.status.idle": "2022-11-30T02:01:32.484235Z",
     "shell.execute_reply": "2022-11-30T02:01:32.483657Z"
    },
    "papermill": {
     "duration": 0.033414,
     "end_time": "2022-11-30T02:01:32.485691",
     "exception": false,
     "start_time": "2022-11-30T02:01:32.452277",
     "status": "completed"
    },
    "tags": []
   },
   "outputs": [
    {
     "data": {
      "text/plain": [
       "PosixPath('/opt/data/projects/asthma-copd/results/gls_phenoplier/gene_corrs/aco/by_chr/gene_corrs-chr16.pkl')"
      ]
     },
     "metadata": {},
     "output_type": "display_data"
    }
   ],
   "source": [
    "output_dir = OUTPUT_DIR_BASE / \"by_chr\"\n",
    "output_dir.mkdir(exist_ok=True, parents=True)\n",
    "output_file = output_dir / f\"gene_corrs-chr{CHROMOSOME}.pkl\"\n",
    "display(output_file)"
   ]
  },
  {
   "cell_type": "code",
   "execution_count": 23,
   "id": "aa674fe4-6794-4eed-98fa-32b39d1d4ace",
   "metadata": {
    "execution": {
     "iopub.execute_input": "2022-11-30T02:01:32.507293Z",
     "iopub.status.busy": "2022-11-30T02:01:32.507071Z",
     "iopub.status.idle": "2022-11-30T02:01:32.526881Z",
     "shell.execute_reply": "2022-11-30T02:01:32.526357Z"
    },
    "papermill": {
     "duration": 0.032122,
     "end_time": "2022-11-30T02:01:32.528399",
     "exception": false,
     "start_time": "2022-11-30T02:01:32.496277",
     "status": "completed"
    },
    "tags": []
   },
   "outputs": [],
   "source": [
    "warnings.filterwarnings(\"error\")"
   ]
  },
  {
   "cell_type": "code",
   "execution_count": 24,
   "id": "44d5450b-3baf-43f1-9e2e-4b06f1a785f8",
   "metadata": {
    "execution": {
     "iopub.execute_input": "2022-11-30T02:01:32.550298Z",
     "iopub.status.busy": "2022-11-30T02:01:32.550079Z",
     "iopub.status.idle": "2022-11-30T02:01:32.570545Z",
     "shell.execute_reply": "2022-11-30T02:01:32.570025Z"
    },
    "papermill": {
     "duration": 0.033312,
     "end_time": "2022-11-30T02:01:32.572079",
     "exception": false,
     "start_time": "2022-11-30T02:01:32.538767",
     "status": "completed"
    },
    "tags": []
   },
   "outputs": [],
   "source": [
    "# standard checks\n",
    "all_chrs = genes_info[\"chr\"].dropna().unique()\n",
    "assert all_chrs.shape[0] == 22\n",
    "\n",
    "# select chromosome given by the user\n",
    "assert CHROMOSOME in all_chrs"
   ]
  },
  {
   "cell_type": "code",
   "execution_count": 25,
   "id": "2d7c043c-92a7-4d35-991b-fa69ac1e0268",
   "metadata": {
    "execution": {
     "iopub.execute_input": "2022-11-30T02:01:32.594024Z",
     "iopub.status.busy": "2022-11-30T02:01:32.593805Z",
     "iopub.status.idle": "2022-11-30T02:01:32.615756Z",
     "shell.execute_reply": "2022-11-30T02:01:32.615187Z"
    },
    "papermill": {
     "duration": 0.034315,
     "end_time": "2022-11-30T02:01:32.617260",
     "exception": false,
     "start_time": "2022-11-30T02:01:32.582945",
     "status": "completed"
    },
    "tags": []
   },
   "outputs": [
    {
     "name": "stdout",
     "output_type": "stream",
     "text": [
      "Number of genes in chromosome: 274\n"
     ]
    }
   ],
   "source": [
    "# run only on the chromosome specified\n",
    "all_chrs = [CHROMOSOME]\n",
    "genes_chr = genes_info[genes_info[\"chr\"] == CHROMOSOME]\n",
    "\n",
    "# For testing purposes\n",
    "# genes_chr = genes_chr.sample(n=20)\n",
    "\n",
    "print(f\"Number of genes in chromosome: {genes_chr.shape[0]}\", flush=True)"
   ]
  },
  {
   "cell_type": "code",
   "execution_count": 26,
   "id": "916015d8-2979-46d3-a9b9-1cf5a0932c6a",
   "metadata": {
    "execution": {
     "iopub.execute_input": "2022-11-30T02:01:32.639612Z",
     "iopub.status.busy": "2022-11-30T02:01:32.639109Z",
     "iopub.status.idle": "2022-11-30T02:01:32.659619Z",
     "shell.execute_reply": "2022-11-30T02:01:32.659089Z"
    },
    "papermill": {
     "duration": 0.033446,
     "end_time": "2022-11-30T02:01:32.661202",
     "exception": false,
     "start_time": "2022-11-30T02:01:32.627756",
     "status": "completed"
    },
    "tags": []
   },
   "outputs": [],
   "source": [
    "# sort genes by starting position to make visualizations better later\n",
    "genes_chr = genes_chr.sort_values(\"start_position\")"
   ]
  },
  {
   "cell_type": "code",
   "execution_count": 27,
   "id": "a38aa74a-8ad3-47f6-8ef9-56be0e011774",
   "metadata": {
    "execution": {
     "iopub.execute_input": "2022-11-30T02:01:32.683035Z",
     "iopub.status.busy": "2022-11-30T02:01:32.682755Z",
     "iopub.status.idle": "2022-11-30T02:01:32.703390Z",
     "shell.execute_reply": "2022-11-30T02:01:32.702861Z"
    },
    "papermill": {
     "duration": 0.033217,
     "end_time": "2022-11-30T02:01:32.704979",
     "exception": false,
     "start_time": "2022-11-30T02:01:32.671762",
     "status": "completed"
    },
    "tags": []
   },
   "outputs": [],
   "source": [
    "gene_chr_objs = [Gene(ensembl_id=gene_id) for gene_id in genes_chr[\"id\"]]"
   ]
  },
  {
   "cell_type": "code",
   "execution_count": 28,
   "id": "570f974f-13c3-42b6-ad3a-ce99ca885c1a",
   "metadata": {
    "execution": {
     "iopub.execute_input": "2022-11-30T02:01:32.727574Z",
     "iopub.status.busy": "2022-11-30T02:01:32.727081Z",
     "iopub.status.idle": "2022-11-30T02:01:32.748173Z",
     "shell.execute_reply": "2022-11-30T02:01:32.747598Z"
    },
    "papermill": {
     "duration": 0.033703,
     "end_time": "2022-11-30T02:01:32.749738",
     "exception": false,
     "start_time": "2022-11-30T02:01:32.716035",
     "status": "completed"
    },
    "tags": []
   },
   "outputs": [
    {
     "name": "stdout",
     "output_type": "stream",
     "text": [
      "Number of gene combinations: 37675\n"
     ]
    }
   ],
   "source": [
    "n = len(gene_chr_objs)\n",
    "# diagonal elements + upper triangular matrix\n",
    "n_comb = n + int(n * (n - 1) / 2.0)\n",
    "print(f\"Number of gene combinations: {n_comb}\", flush=True)"
   ]
  },
  {
   "cell_type": "code",
   "execution_count": 29,
   "id": "cdbb90a1",
   "metadata": {
    "execution": {
     "iopub.execute_input": "2022-11-30T02:01:32.772548Z",
     "iopub.status.busy": "2022-11-30T02:01:32.772095Z",
     "iopub.status.idle": "2022-11-30T02:27:55.637573Z",
     "shell.execute_reply": "2022-11-30T02:27:55.637041Z"
    },
    "papermill": {
     "duration": 1582.878422,
     "end_time": "2022-11-30T02:27:55.638980",
     "exception": false,
     "start_time": "2022-11-30T02:01:32.760558",
     "status": "completed"
    },
    "tags": []
   },
   "outputs": [
    {
     "name": "stderr",
     "output_type": "stream",
     "text": [
      "ENSG00000258947 / ENSG00000258947: 100%|██████████████████████| 37675/37675 [26:22<00:00, 23.80it/s]\n"
     ]
    },
    {
     "data": {
      "text/plain": [
       "PosixPath('/opt/data/projects/asthma-copd/results/gls_phenoplier/gene_corrs/aco/by_chr/gene_corrs-chr16.pkl')"
      ]
     },
     "metadata": {},
     "output_type": "display_data"
    }
   ],
   "source": [
    "gene_corrs = []\n",
    "gene_corrs_data = np.full(\n",
    "    (n, n),\n",
    "    np.nan,\n",
    "    dtype=np.float64,\n",
    ")\n",
    "\n",
    "i = 0\n",
    "with tqdm(ncols=100, total=n_comb) as pbar:\n",
    "    for gene1_idx in range(0, len(gene_chr_objs)):\n",
    "        gene1_obj = gene_chr_objs[gene1_idx]\n",
    "        gene1_tissues = spredixcan_genes_models.loc[gene1_obj.ensembl_id, \"tissue\"]\n",
    "\n",
    "        for gene2_idx in range(gene1_idx, len(gene_chr_objs)):\n",
    "            gene2_obj = gene_chr_objs[gene2_idx]\n",
    "            gene2_tissues = spredixcan_genes_models.loc[gene2_obj.ensembl_id, \"tissue\"]\n",
    "\n",
    "            pbar.set_description(f\"{gene1_obj.ensembl_id} / {gene2_obj.ensembl_id}\")\n",
    "\n",
    "            try:\n",
    "                r = gene1_obj.get_ssm_correlation(\n",
    "                    other_gene=gene2_obj,\n",
    "                    tissues=gene1_tissues,\n",
    "                    other_tissues=gene2_tissues,\n",
    "                    snps_subset=gwas_variants_ids_set,\n",
    "                    condition_number=SMULTIXCAN_CONDITION_NUMBER,\n",
    "                    reference_panel=REFERENCE_PANEL,\n",
    "                    model_type=EQTL_MODEL,\n",
    "                    use_within_distance=COMPUTE_CORRELATIONS_WITHIN_DISTANCE,\n",
    "                )\n",
    "\n",
    "                if r is None:\n",
    "                    # if r is None, it's very likely because:\n",
    "                    #  * one of the genes has no prediction models\n",
    "                    #  * all the SNPs predictors for the gene are not present in the reference\n",
    "                    #    panel\n",
    "\n",
    "                    r = 0.0\n",
    "\n",
    "                gene_corrs.append(r)\n",
    "\n",
    "                gene_corrs_data[gene1_idx, gene2_idx] = r\n",
    "                gene_corrs_data[gene2_idx, gene1_idx] = r\n",
    "            except Warning as e:\n",
    "                if not DEBUG_MODE:\n",
    "                    raise e\n",
    "\n",
    "                print(\n",
    "                    f\"RuntimeWarning for genes {gene1_obj.ensembl_id} and {gene2_obj.ensembl_id}\",\n",
    "                    flush=True,\n",
    "                )\n",
    "                print(traceback.format_exc(), flush=True)\n",
    "\n",
    "                gene_corrs.append(np.nan)\n",
    "            except Exception as e:\n",
    "                if not DEBUG_MODE:\n",
    "                    raise e\n",
    "\n",
    "                print(\n",
    "                    f\"Exception for genes {gene1_obj.ensembl_id} and {gene2_obj.ensembl_id}\",\n",
    "                    flush=True,\n",
    "                )\n",
    "                print(traceback.format_exc(), flush=True)\n",
    "\n",
    "                gene_corrs.append(np.nan)\n",
    "\n",
    "            pbar.update(1)\n",
    "\n",
    "# create a pandas series\n",
    "gene_corrs_flat = pd.Series(gene_corrs)\n",
    "\n",
    "# save\n",
    "# FIXME: consider saving only the condenced matrix here. See here for\n",
    "# more details: https://github.com/greenelab/phenoplier/pull/38#discussion_r634600813\n",
    "# gene_corrs_data = squareform(np.array(gene_corrs, dtype=np.float64))\n",
    "# np.fill_diagonal(gene_corrs_data, 1.0)\n",
    "\n",
    "gene_chr_ids = [g.ensembl_id for g in gene_chr_objs]\n",
    "gene_corrs_df = pd.DataFrame(\n",
    "    data=gene_corrs_data,\n",
    "    index=gene_chr_ids,\n",
    "    columns=gene_chr_ids,\n",
    ")\n",
    "\n",
    "output_dir.mkdir(exist_ok=True, parents=True)\n",
    "display(output_file)\n",
    "\n",
    "gene_corrs_df.to_pickle(output_file)"
   ]
  },
  {
   "cell_type": "markdown",
   "id": "faa67b51-5373-470f-aa72-2ded53fa6dfe",
   "metadata": {
    "papermill": {
     "duration": 1.484161,
     "end_time": "2022-11-30T02:27:58.667458",
     "exception": false,
     "start_time": "2022-11-30T02:27:57.183297",
     "status": "completed"
    },
    "tags": []
   },
   "source": [
    "# Testing"
   ]
  },
  {
   "cell_type": "code",
   "execution_count": 30,
   "id": "14f7d046-4b55-4896-a56b-990127bcc388",
   "metadata": {
    "execution": {
     "iopub.execute_input": "2022-11-30T02:28:01.582936Z",
     "iopub.status.busy": "2022-11-30T02:28:01.582223Z",
     "iopub.status.idle": "2022-11-30T02:28:01.602402Z",
     "shell.execute_reply": "2022-11-30T02:28:01.601862Z"
    },
    "papermill": {
     "duration": 1.512366,
     "end_time": "2022-11-30T02:28:01.603302",
     "exception": false,
     "start_time": "2022-11-30T02:28:00.090936",
     "status": "completed"
    },
    "tags": []
   },
   "outputs": [
    {
     "data": {
      "text/plain": [
       "(274, 274)"
      ]
     },
     "execution_count": 30,
     "metadata": {},
     "output_type": "execute_result"
    }
   ],
   "source": [
    "gene_corrs_df.shape"
   ]
  },
  {
   "cell_type": "code",
   "execution_count": 31,
   "id": "c7d15414-3297-4537-a7c6-7588c0baeb75",
   "metadata": {
    "execution": {
     "iopub.execute_input": "2022-11-30T02:28:04.509145Z",
     "iopub.status.busy": "2022-11-30T02:28:04.508548Z",
     "iopub.status.idle": "2022-11-30T02:28:04.547053Z",
     "shell.execute_reply": "2022-11-30T02:28:04.546436Z"
    },
    "papermill": {
     "duration": 1.511795,
     "end_time": "2022-11-30T02:28:04.548009",
     "exception": false,
     "start_time": "2022-11-30T02:28:03.036214",
     "status": "completed"
    },
    "tags": []
   },
   "outputs": [
    {
     "data": {
      "text/html": [
       "<div>\n",
       "<style scoped>\n",
       "    .dataframe tbody tr th:only-of-type {\n",
       "        vertical-align: middle;\n",
       "    }\n",
       "\n",
       "    .dataframe tbody tr th {\n",
       "        vertical-align: top;\n",
       "    }\n",
       "\n",
       "    .dataframe thead th {\n",
       "        text-align: right;\n",
       "    }\n",
       "</style>\n",
       "<table border=\"1\" class=\"dataframe\">\n",
       "  <thead>\n",
       "    <tr style=\"text-align: right;\">\n",
       "      <th></th>\n",
       "      <th>ENSG00000161980</th>\n",
       "      <th>ENSG00000103152</th>\n",
       "      <th>ENSG00000206172</th>\n",
       "      <th>ENSG00000086506</th>\n",
       "      <th>ENSG00000076344</th>\n",
       "      <th>ENSG00000103126</th>\n",
       "      <th>ENSG00000086504</th>\n",
       "      <th>ENSG00000103202</th>\n",
       "      <th>ENSG00000242612</th>\n",
       "      <th>ENSG00000090565</th>\n",
       "      <th>...</th>\n",
       "      <th>ENSG00000051523</th>\n",
       "      <th>ENSG00000167508</th>\n",
       "      <th>ENSG00000167513</th>\n",
       "      <th>ENSG00000198931</th>\n",
       "      <th>ENSG00000141012</th>\n",
       "      <th>ENSG00000129993</th>\n",
       "      <th>ENSG00000167526</th>\n",
       "      <th>ENSG00000187741</th>\n",
       "      <th>ENSG00000258839</th>\n",
       "      <th>ENSG00000258947</th>\n",
       "    </tr>\n",
       "  </thead>\n",
       "  <tbody>\n",
       "    <tr>\n",
       "      <th>ENSG00000161980</th>\n",
       "      <td>1.000000</td>\n",
       "      <td>0.311909</td>\n",
       "      <td>0.008425</td>\n",
       "      <td>0.032054</td>\n",
       "      <td>0.013127</td>\n",
       "      <td>0.016392</td>\n",
       "      <td>0.010935</td>\n",
       "      <td>0.013421</td>\n",
       "      <td>0.017843</td>\n",
       "      <td>0.013448</td>\n",
       "      <td>...</td>\n",
       "      <td>0.006475</td>\n",
       "      <td>0.003400</td>\n",
       "      <td>0.001707</td>\n",
       "      <td>0.001380</td>\n",
       "      <td>0.004008</td>\n",
       "      <td>0.004509</td>\n",
       "      <td>0.002774</td>\n",
       "      <td>0.004118</td>\n",
       "      <td>0.015535</td>\n",
       "      <td>0.012611</td>\n",
       "    </tr>\n",
       "    <tr>\n",
       "      <th>ENSG00000103152</th>\n",
       "      <td>0.311909</td>\n",
       "      <td>1.000000</td>\n",
       "      <td>0.034104</td>\n",
       "      <td>0.120279</td>\n",
       "      <td>0.061832</td>\n",
       "      <td>0.029735</td>\n",
       "      <td>0.025689</td>\n",
       "      <td>0.010517</td>\n",
       "      <td>0.008693</td>\n",
       "      <td>0.009125</td>\n",
       "      <td>...</td>\n",
       "      <td>0.006425</td>\n",
       "      <td>0.009523</td>\n",
       "      <td>0.005760</td>\n",
       "      <td>0.004086</td>\n",
       "      <td>0.008773</td>\n",
       "      <td>0.007464</td>\n",
       "      <td>0.008498</td>\n",
       "      <td>0.002811</td>\n",
       "      <td>0.007315</td>\n",
       "      <td>0.016487</td>\n",
       "    </tr>\n",
       "    <tr>\n",
       "      <th>ENSG00000206172</th>\n",
       "      <td>0.008425</td>\n",
       "      <td>0.034104</td>\n",
       "      <td>1.000000</td>\n",
       "      <td>0.059261</td>\n",
       "      <td>0.062245</td>\n",
       "      <td>0.025327</td>\n",
       "      <td>0.103654</td>\n",
       "      <td>0.014437</td>\n",
       "      <td>0.013527</td>\n",
       "      <td>0.011204</td>\n",
       "      <td>...</td>\n",
       "      <td>0.005227</td>\n",
       "      <td>0.006670</td>\n",
       "      <td>0.004734</td>\n",
       "      <td>0.003728</td>\n",
       "      <td>0.001948</td>\n",
       "      <td>0.002297</td>\n",
       "      <td>0.000407</td>\n",
       "      <td>0.001616</td>\n",
       "      <td>0.000899</td>\n",
       "      <td>0.005550</td>\n",
       "    </tr>\n",
       "    <tr>\n",
       "      <th>ENSG00000086506</th>\n",
       "      <td>0.032054</td>\n",
       "      <td>0.120279</td>\n",
       "      <td>0.059261</td>\n",
       "      <td>1.000000</td>\n",
       "      <td>0.169380</td>\n",
       "      <td>0.092479</td>\n",
       "      <td>0.080608</td>\n",
       "      <td>0.014114</td>\n",
       "      <td>0.017748</td>\n",
       "      <td>0.022424</td>\n",
       "      <td>...</td>\n",
       "      <td>0.006776</td>\n",
       "      <td>0.009811</td>\n",
       "      <td>0.004304</td>\n",
       "      <td>0.002996</td>\n",
       "      <td>0.004049</td>\n",
       "      <td>0.004665</td>\n",
       "      <td>0.005203</td>\n",
       "      <td>0.003655</td>\n",
       "      <td>0.003960</td>\n",
       "      <td>0.009180</td>\n",
       "    </tr>\n",
       "    <tr>\n",
       "      <th>ENSG00000076344</th>\n",
       "      <td>0.013127</td>\n",
       "      <td>0.061832</td>\n",
       "      <td>0.062245</td>\n",
       "      <td>0.169380</td>\n",
       "      <td>1.000000</td>\n",
       "      <td>0.133766</td>\n",
       "      <td>0.121072</td>\n",
       "      <td>0.064562</td>\n",
       "      <td>0.023406</td>\n",
       "      <td>0.024921</td>\n",
       "      <td>...</td>\n",
       "      <td>0.001836</td>\n",
       "      <td>0.005022</td>\n",
       "      <td>0.005254</td>\n",
       "      <td>0.003078</td>\n",
       "      <td>0.005179</td>\n",
       "      <td>0.007558</td>\n",
       "      <td>0.001843</td>\n",
       "      <td>0.004544</td>\n",
       "      <td>0.003748</td>\n",
       "      <td>0.005991</td>\n",
       "    </tr>\n",
       "  </tbody>\n",
       "</table>\n",
       "<p>5 rows × 274 columns</p>\n",
       "</div>"
      ],
      "text/plain": [
       "                 ENSG00000161980  ENSG00000103152  ENSG00000206172  \\\n",
       "ENSG00000161980         1.000000         0.311909         0.008425   \n",
       "ENSG00000103152         0.311909         1.000000         0.034104   \n",
       "ENSG00000206172         0.008425         0.034104         1.000000   \n",
       "ENSG00000086506         0.032054         0.120279         0.059261   \n",
       "ENSG00000076344         0.013127         0.061832         0.062245   \n",
       "\n",
       "                 ENSG00000086506  ENSG00000076344  ENSG00000103126  \\\n",
       "ENSG00000161980         0.032054         0.013127         0.016392   \n",
       "ENSG00000103152         0.120279         0.061832         0.029735   \n",
       "ENSG00000206172         0.059261         0.062245         0.025327   \n",
       "ENSG00000086506         1.000000         0.169380         0.092479   \n",
       "ENSG00000076344         0.169380         1.000000         0.133766   \n",
       "\n",
       "                 ENSG00000086504  ENSG00000103202  ENSG00000242612  \\\n",
       "ENSG00000161980         0.010935         0.013421         0.017843   \n",
       "ENSG00000103152         0.025689         0.010517         0.008693   \n",
       "ENSG00000206172         0.103654         0.014437         0.013527   \n",
       "ENSG00000086506         0.080608         0.014114         0.017748   \n",
       "ENSG00000076344         0.121072         0.064562         0.023406   \n",
       "\n",
       "                 ENSG00000090565  ...  ENSG00000051523  ENSG00000167508  \\\n",
       "ENSG00000161980         0.013448  ...         0.006475         0.003400   \n",
       "ENSG00000103152         0.009125  ...         0.006425         0.009523   \n",
       "ENSG00000206172         0.011204  ...         0.005227         0.006670   \n",
       "ENSG00000086506         0.022424  ...         0.006776         0.009811   \n",
       "ENSG00000076344         0.024921  ...         0.001836         0.005022   \n",
       "\n",
       "                 ENSG00000167513  ENSG00000198931  ENSG00000141012  \\\n",
       "ENSG00000161980         0.001707         0.001380         0.004008   \n",
       "ENSG00000103152         0.005760         0.004086         0.008773   \n",
       "ENSG00000206172         0.004734         0.003728         0.001948   \n",
       "ENSG00000086506         0.004304         0.002996         0.004049   \n",
       "ENSG00000076344         0.005254         0.003078         0.005179   \n",
       "\n",
       "                 ENSG00000129993  ENSG00000167526  ENSG00000187741  \\\n",
       "ENSG00000161980         0.004509         0.002774         0.004118   \n",
       "ENSG00000103152         0.007464         0.008498         0.002811   \n",
       "ENSG00000206172         0.002297         0.000407         0.001616   \n",
       "ENSG00000086506         0.004665         0.005203         0.003655   \n",
       "ENSG00000076344         0.007558         0.001843         0.004544   \n",
       "\n",
       "                 ENSG00000258839  ENSG00000258947  \n",
       "ENSG00000161980         0.015535         0.012611  \n",
       "ENSG00000103152         0.007315         0.016487  \n",
       "ENSG00000206172         0.000899         0.005550  \n",
       "ENSG00000086506         0.003960         0.009180  \n",
       "ENSG00000076344         0.003748         0.005991  \n",
       "\n",
       "[5 rows x 274 columns]"
      ]
     },
     "execution_count": 31,
     "metadata": {},
     "output_type": "execute_result"
    }
   ],
   "source": [
    "gene_corrs_df.head()"
   ]
  },
  {
   "cell_type": "markdown",
   "id": "dad6603f-01c6-41fb-a6f6-241051207dd8",
   "metadata": {
    "papermill": {
     "duration": 1.524732,
     "end_time": "2022-11-30T02:28:07.633913",
     "exception": false,
     "start_time": "2022-11-30T02:28:06.109181",
     "status": "completed"
    },
    "tags": []
   },
   "source": [
    "## Standard checks and stats"
   ]
  },
  {
   "cell_type": "code",
   "execution_count": 32,
   "id": "286686af-1b7b-4440-8453-6bdcbd8de19c",
   "metadata": {
    "execution": {
     "iopub.execute_input": "2022-11-30T02:28:10.671601Z",
     "iopub.status.busy": "2022-11-30T02:28:10.671025Z",
     "iopub.status.idle": "2022-11-30T02:28:10.697817Z",
     "shell.execute_reply": "2022-11-30T02:28:10.697105Z"
    },
    "papermill": {
     "duration": 1.553816,
     "end_time": "2022-11-30T02:28:10.698837",
     "exception": false,
     "start_time": "2022-11-30T02:28:09.145021",
     "status": "completed"
    },
    "tags": []
   },
   "outputs": [],
   "source": [
    "assert not gene_corrs_df.isna().any().any()"
   ]
  },
  {
   "cell_type": "code",
   "execution_count": 33,
   "id": "00583efc-7068-4270-ad1e-4a418e91db96",
   "metadata": {
    "execution": {
     "iopub.execute_input": "2022-11-30T02:28:13.639303Z",
     "iopub.status.busy": "2022-11-30T02:28:13.638542Z",
     "iopub.status.idle": "2022-11-30T02:28:13.663332Z",
     "shell.execute_reply": "2022-11-30T02:28:13.662706Z"
    },
    "papermill": {
     "duration": 1.443724,
     "end_time": "2022-11-30T02:28:13.664285",
     "exception": false,
     "start_time": "2022-11-30T02:28:12.220561",
     "status": "completed"
    },
    "tags": []
   },
   "outputs": [
    {
     "data": {
      "text/plain": [
       "1.5042425667066194e-06"
      ]
     },
     "metadata": {},
     "output_type": "display_data"
    }
   ],
   "source": [
    "_min_val = gene_corrs_df.min().min()\n",
    "display(_min_val)\n",
    "assert _min_val >= -0.05"
   ]
  },
  {
   "cell_type": "code",
   "execution_count": 34,
   "id": "d04fb2cf-1050-475b-b855-f5f7cc04092b",
   "metadata": {
    "execution": {
     "iopub.execute_input": "2022-11-30T02:28:16.680072Z",
     "iopub.status.busy": "2022-11-30T02:28:16.679375Z",
     "iopub.status.idle": "2022-11-30T02:28:16.706679Z",
     "shell.execute_reply": "2022-11-30T02:28:16.706097Z"
    },
    "papermill": {
     "duration": 1.526203,
     "end_time": "2022-11-30T02:28:16.707558",
     "exception": false,
     "start_time": "2022-11-30T02:28:15.181355",
     "status": "completed"
    },
    "tags": []
   },
   "outputs": [
    {
     "data": {
      "text/plain": [
       "1.0000000000000029"
      ]
     },
     "metadata": {},
     "output_type": "display_data"
    }
   ],
   "source": [
    "_max_val = gene_corrs_df.max().max()  # this captures the diagonal\n",
    "display(_max_val)\n",
    "assert _max_val <= 1.05"
   ]
  },
  {
   "cell_type": "code",
   "execution_count": 35,
   "id": "96d02c44-1fba-47be-8a93-8f2608420b9c",
   "metadata": {
    "execution": {
     "iopub.execute_input": "2022-11-30T02:28:19.658856Z",
     "iopub.status.busy": "2022-11-30T02:28:19.658187Z",
     "iopub.status.idle": "2022-11-30T02:28:19.682932Z",
     "shell.execute_reply": "2022-11-30T02:28:19.682305Z"
    },
    "papermill": {
     "duration": 1.504217,
     "end_time": "2022-11-30T02:28:19.683937",
     "exception": false,
     "start_time": "2022-11-30T02:28:18.179720",
     "status": "completed"
    },
    "tags": []
   },
   "outputs": [],
   "source": [
    "# check upper triangular values\n",
    "# assert len(gene_corrs) == int(genes_chr.shape[0] * (genes_chr.shape[0] - 1) / 2)"
   ]
  },
  {
   "cell_type": "code",
   "execution_count": 36,
   "id": "fe283586-c348-40e0-8841-f6d97bfb021c",
   "metadata": {
    "execution": {
     "iopub.execute_input": "2022-11-30T02:28:22.594798Z",
     "iopub.status.busy": "2022-11-30T02:28:22.594251Z",
     "iopub.status.idle": "2022-11-30T02:28:22.619682Z",
     "shell.execute_reply": "2022-11-30T02:28:22.618996Z"
    },
    "papermill": {
     "duration": 1.511561,
     "end_time": "2022-11-30T02:28:22.620609",
     "exception": false,
     "start_time": "2022-11-30T02:28:21.109048",
     "status": "completed"
    },
    "tags": []
   },
   "outputs": [
    {
     "data": {
      "text/plain": [
       "count    37675.000000\n",
       "mean         0.018465\n",
       "std          0.096382\n",
       "min          0.000002\n",
       "25%          0.003402\n",
       "50%          0.005382\n",
       "75%          0.007781\n",
       "max          1.000000\n",
       "dtype: float64"
      ]
     },
     "execution_count": 36,
     "metadata": {},
     "output_type": "execute_result"
    }
   ],
   "source": [
    "gene_corrs_flat.describe()"
   ]
  },
  {
   "cell_type": "code",
   "execution_count": 37,
   "id": "b3815678-0f93-4b35-897b-a9d047a2aa78",
   "metadata": {
    "execution": {
     "iopub.execute_input": "2022-11-30T02:28:25.517622Z",
     "iopub.status.busy": "2022-11-30T02:28:25.517021Z",
     "iopub.status.idle": "2022-11-30T02:28:25.545301Z",
     "shell.execute_reply": "2022-11-30T02:28:25.544624Z"
    },
    "papermill": {
     "duration": 1.501252,
     "end_time": "2022-11-30T02:28:25.546242",
     "exception": false,
     "start_time": "2022-11-30T02:28:24.044990",
     "status": "completed"
    },
    "tags": []
   },
   "outputs": [
    {
     "data": {
      "text/plain": [
       "0.00    0.000002\n",
       "0.05    0.001242\n",
       "0.10    0.001955\n",
       "0.15    0.002501\n",
       "0.20    0.002977\n",
       "0.25    0.003402\n",
       "0.30    0.003810\n",
       "0.35    0.004212\n",
       "0.40    0.004598\n",
       "0.45    0.004996\n",
       "0.50    0.005382\n",
       "0.55    0.005785\n",
       "0.60    0.006215\n",
       "0.65    0.006692\n",
       "0.70    0.007203\n",
       "0.75    0.007781\n",
       "0.80    0.008474\n",
       "0.85    0.009368\n",
       "0.90    0.010742\n",
       "0.95    0.014181\n",
       "dtype: float64"
      ]
     },
     "metadata": {},
     "output_type": "display_data"
    }
   ],
   "source": [
    "gene_corrs_quantiles = gene_corrs_flat.quantile(np.arange(0, 1, 0.05))\n",
    "display(gene_corrs_quantiles)"
   ]
  },
  {
   "cell_type": "markdown",
   "id": "87134509-b145-4a10-8bc9-b7e914c2b0fa",
   "metadata": {
    "papermill": {
     "duration": 1.474399,
     "end_time": "2022-11-30T02:28:28.494819",
     "exception": false,
     "start_time": "2022-11-30T02:28:27.020420",
     "status": "completed"
    },
    "tags": []
   },
   "source": [
    "## Positive definiteness"
   ]
  },
  {
   "cell_type": "code",
   "execution_count": 38,
   "id": "07d9a9a1-a4f7-48aa-b916-6d42a8cc6186",
   "metadata": {
    "execution": {
     "iopub.execute_input": "2022-11-30T02:28:31.421653Z",
     "iopub.status.busy": "2022-11-30T02:28:31.421124Z",
     "iopub.status.idle": "2022-11-30T02:28:31.479211Z",
     "shell.execute_reply": "2022-11-30T02:28:31.478657Z"
    },
    "papermill": {
     "duration": 1.492025,
     "end_time": "2022-11-30T02:28:31.480544",
     "exception": false,
     "start_time": "2022-11-30T02:28:29.988519",
     "status": "completed"
    },
    "tags": []
   },
   "outputs": [
    {
     "data": {
      "text/plain": [
       "0"
      ]
     },
     "metadata": {},
     "output_type": "display_data"
    },
    {
     "data": {
      "text/plain": [
       "array([], dtype=float64)"
      ]
     },
     "metadata": {},
     "output_type": "display_data"
    }
   ],
   "source": [
    "# print negative eigenvalues\n",
    "eigs = np.linalg.eigvals(gene_corrs_df.to_numpy())\n",
    "display(len(eigs[eigs < 0]))\n",
    "display(eigs[eigs < 0])"
   ]
  },
  {
   "cell_type": "code",
   "execution_count": 39,
   "id": "6e218436-c3c5-4028-8c94-a4fa6260efce",
   "metadata": {
    "execution": {
     "iopub.execute_input": "2022-11-30T02:28:34.413422Z",
     "iopub.status.busy": "2022-11-30T02:28:34.412626Z",
     "iopub.status.idle": "2022-11-30T02:28:34.443014Z",
     "shell.execute_reply": "2022-11-30T02:28:34.442327Z"
    },
    "papermill": {
     "duration": 1.456917,
     "end_time": "2022-11-30T02:28:34.443991",
     "exception": false,
     "start_time": "2022-11-30T02:28:32.987074",
     "status": "completed"
    },
    "tags": []
   },
   "outputs": [
    {
     "name": "stdout",
     "output_type": "stream",
     "text": [
      "Works!\n"
     ]
    }
   ],
   "source": [
    "try:\n",
    "    chol_mat = np.linalg.cholesky(gene_corrs_df.to_numpy())\n",
    "    cov_inv = np.linalg.inv(chol_mat)\n",
    "    print(\"Works!\")\n",
    "except Exception as e:\n",
    "    print(f\"Cholesky decomposition failed: {str(e)}\")"
   ]
  },
  {
   "cell_type": "code",
   "execution_count": 40,
   "id": "dd8827fb-faf9-4c7c-9454-015e94752706",
   "metadata": {
    "execution": {
     "iopub.execute_input": "2022-11-30T02:28:37.402235Z",
     "iopub.status.busy": "2022-11-30T02:28:37.401796Z",
     "iopub.status.idle": "2022-11-30T02:28:37.431290Z",
     "shell.execute_reply": "2022-11-30T02:28:37.430733Z"
    },
    "papermill": {
     "duration": 1.503358,
     "end_time": "2022-11-30T02:28:37.432877",
     "exception": false,
     "start_time": "2022-11-30T02:28:35.929519",
     "status": "completed"
    },
    "tags": []
   },
   "outputs": [
    {
     "name": "stdout",
     "output_type": "stream",
     "text": [
      "Works!\n"
     ]
    }
   ],
   "source": [
    "try:\n",
    "    # decomposition used by statsmodels.GLS\n",
    "    cholsigmainv = np.linalg.cholesky(np.linalg.inv(gene_corrs_df.to_numpy())).T\n",
    "    print(\"Works!\")\n",
    "except Exception as e:\n",
    "    print(f\"Cholesky decomposition failed (statsmodels.GLS): {str(e)}\")"
   ]
  },
  {
   "cell_type": "markdown",
   "id": "8e60a080-edb2-4e9c-b2ef-22961693200c",
   "metadata": {
    "papermill": {
     "duration": 1.476501,
     "end_time": "2022-11-30T02:28:40.388897",
     "exception": false,
     "start_time": "2022-11-30T02:28:38.912396",
     "status": "completed"
    },
    "tags": []
   },
   "source": [
    "## Plot: distribution"
   ]
  },
  {
   "cell_type": "code",
   "execution_count": 41,
   "id": "8301126b-a7d4-4744-9c7d-f0f86eb6f54c",
   "metadata": {
    "execution": {
     "iopub.execute_input": "2022-11-30T02:28:43.306825Z",
     "iopub.status.busy": "2022-11-30T02:28:43.306429Z",
     "iopub.status.idle": "2022-11-30T02:28:48.397028Z",
     "shell.execute_reply": "2022-11-30T02:28:48.396466Z"
    },
    "papermill": {
     "duration": 6.566882,
     "end_time": "2022-11-30T02:28:48.397947",
     "exception": false,
     "start_time": "2022-11-30T02:28:41.831065",
     "status": "completed"
    },
    "tags": []
   },
   "outputs": [
    {
     "data": {
      "image/png": "[encoded data removed]",
      "text/plain": [
       "<Figure size 700x700 with 1 Axes>"
      ]
     },
     "metadata": {},
     "output_type": "display_data"
    }
   ],
   "source": [
    "with sns.plotting_context(\"paper\", font_scale=1.5):\n",
    "    g = sns.displot(gene_corrs_flat, kde=True, height=7)\n",
    "    g.ax.set_title(\n",
    "        f\"Distribution of gene correlation values in chromosome {CHROMOSOME}\"\n",
    "    )"
   ]
  },
  {
   "cell_type": "markdown",
   "id": "cbd52bca-d878-4a2f-b684-5c83aa3038d4",
   "metadata": {
    "papermill": {
     "duration": 1.459925,
     "end_time": "2022-11-30T02:28:51.283631",
     "exception": false,
     "start_time": "2022-11-30T02:28:49.823706",
     "status": "completed"
    },
    "tags": []
   },
   "source": [
    "## Plot: heatmap"
   ]
  },
  {
   "cell_type": "code",
   "execution_count": 42,
   "id": "d03fe63a-c7b2-4fb9-a53c-db362ce843c9",
   "metadata": {
    "execution": {
     "iopub.execute_input": "2022-11-30T02:28:54.222749Z",
     "iopub.status.busy": "2022-11-30T02:28:54.222359Z",
     "iopub.status.idle": "2022-11-30T02:28:54.241680Z",
     "shell.execute_reply": "2022-11-30T02:28:54.241317Z"
    },
    "papermill": {
     "duration": 1.491928,
     "end_time": "2022-11-30T02:28:54.242591",
     "exception": false,
     "start_time": "2022-11-30T02:28:52.750663",
     "status": "completed"
    },
    "tags": []
   },
   "outputs": [
    {
     "data": {
      "text/plain": [
       "'0.0 / 0.05'"
      ]
     },
     "metadata": {},
     "output_type": "display_data"
    }
   ],
   "source": [
    "vmin_val = min(0.00, gene_corrs_quantiles[0.10])\n",
    "vmax_val = max(0.05, gene_corrs_quantiles[0.90])\n",
    "display(f\"{vmin_val} / {vmax_val}\")"
   ]
  },
  {
   "cell_type": "code",
   "execution_count": 43,
   "id": "dc41b70b-5bcc-4d9e-9f33-a22c4a94dab5",
   "metadata": {
    "execution": {
     "iopub.execute_input": "2022-11-30T02:28:57.146954Z",
     "iopub.status.busy": "2022-11-30T02:28:57.146663Z",
     "iopub.status.idle": "2022-11-30T02:28:57.353203Z",
     "shell.execute_reply": "2022-11-30T02:28:57.352675Z"
    },
    "papermill": {
     "duration": 1.625962,
     "end_time": "2022-11-30T02:28:57.354809",
     "exception": false,
     "start_time": "2022-11-30T02:28:55.728847",
     "status": "completed"
    },
    "tags": []
   },
   "outputs": [
    {
     "data": {
      "text/plain": [
       "Text(0.5, 1.0, 'Gene correlations in chromosome 16')"
      ]
     },
     "execution_count": 43,
     "metadata": {},
     "output_type": "execute_result"
    },
    {
     "data": {
      "image/png": "[encoded data removed]",
      "text/plain": [
       "<Figure size 1000x1000 with 2 Axes>"
      ]
     },
     "metadata": {},
     "output_type": "display_data"
    }
   ],
   "source": [
    "f, ax = plt.subplots(figsize=(10, 10))\n",
    "sns.heatmap(\n",
    "    gene_corrs_df,\n",
    "    xticklabels=False,\n",
    "    yticklabels=False,\n",
    "    square=True,\n",
    "    vmin=vmin_val,\n",
    "    vmax=vmax_val,\n",
    "    cmap=\"rocket_r\",\n",
    "    ax=ax,\n",
    ")\n",
    "ax.set_title(f\"Gene correlations in chromosome {CHROMOSOME}\")"
   ]
  },
  {
   "cell_type": "code",
   "execution_count": null,
   "id": "b25e3ead",
   "metadata": {
    "papermill": {
     "duration": 1.483018,
     "end_time": "2022-11-30T02:29:00.327132",
     "exception": false,
     "start_time": "2022-11-30T02:28:58.844114",
     "status": "completed"
    },
    "tags": []
   },
   "outputs": [],
   "source": []
  }
 ],
 "metadata": {
  "jupytext": {
   "cell_metadata_filter": "all,-execution,-papermill,-trusted",
   "formats": "ipynb,py//py:percent"
  },
  "kernelspec": {
   "display_name": "Python 3 (ipykernel)",
   "language": "python",
   "name": "python3"
  },
  "language_info": {
   "codemirror_mode": {
    "name": "ipython",
    "version": 3
   },
   "file_extension": ".py",
   "mimetype": "text/x-python",
   "name": "python",
   "nbconvert_exporter": "python",
   "pygments_lexer": "ipython3",
   "version": "3.10.6"
  },
  "papermill": {
   "default_parameters": {},
   "duration": 1658.302129,
   "end_time": "2022-11-30T02:29:05.134249",
   "environment_variables": {},
   "exception": null,
   "input_path": "projects/asthma-copd/nbs/20_gene_corrs/10-gene_expr_correlations.ipynb",
   "output_path": "projects/asthma-copd/nbs/20_gene_corrs/gene_corrs/aco/10-gene_expr_correlations-chr16.run.ipynb",
   "parameters": {
    "CHROMOSOME": 16,
    "COHORT_NAME": "aco",
    "OUTPUT_DIR_BASE": "/opt/data/projects/asthma-copd/results/gls_phenoplier"
   },
   "start_time": "2022-11-30T02:01:26.832120",
   "version": "2.2.2"
  }
 },
 "nbformat": 4,
 "nbformat_minor": 5
}
