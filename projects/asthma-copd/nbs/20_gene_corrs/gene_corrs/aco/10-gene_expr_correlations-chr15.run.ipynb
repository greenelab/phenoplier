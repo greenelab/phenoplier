{
 "cells": [
  {
   "cell_type": "markdown",
   "id": "7a6632fb",
   "metadata": {
    "papermill": {
     "duration": 0.00788,
     "end_time": "2022-11-30T02:00:20.132442",
     "exception": false,
     "start_time": "2022-11-30T02:00:20.124562",
     "status": "completed"
    },
    "tags": []
   },
   "source": [
    "# Description"
   ]
  },
  {
   "cell_type": "markdown",
   "id": "7097c346",
   "metadata": {
    "papermill": {
     "duration": 0.008029,
     "end_time": "2022-11-30T02:00:20.149774",
     "exception": false,
     "start_time": "2022-11-30T02:00:20.141745",
     "status": "completed"
    },
    "tags": []
   },
   "source": [
    "(Please, take a look at the README.md file in this directory for instructions on how to run this notebook)\n",
    "\n",
    "This notebook computes predicted expression correlations between all genes in the MultiPLIER models.\n",
    "\n",
    "It has specicfic parameters for papermill (see under `Settings` below).\n",
    "It can be configured to run on a single chromosome to run in parallel.\n",
    "\n",
    "This notebook is not directly run. See README.md."
   ]
  },
  {
   "cell_type": "markdown",
   "id": "c61d8427",
   "metadata": {
    "papermill": {
     "duration": 0.007635,
     "end_time": "2022-11-30T02:00:20.165125",
     "exception": false,
     "start_time": "2022-11-30T02:00:20.157490",
     "status": "completed"
    },
    "tags": []
   },
   "source": [
    "# Modules"
   ]
  },
  {
   "cell_type": "code",
   "execution_count": 1,
   "id": "bbc0234f",
   "metadata": {
    "execution": {
     "iopub.execute_input": "2022-11-30T02:00:20.182706Z",
     "iopub.status.busy": "2022-11-30T02:00:20.182262Z",
     "iopub.status.idle": "2022-11-30T02:00:20.199586Z",
     "shell.execute_reply": "2022-11-30T02:00:20.199079Z"
    },
    "papermill": {
     "duration": 0.027645,
     "end_time": "2022-11-30T02:00:20.201232",
     "exception": false,
     "start_time": "2022-11-30T02:00:20.173587",
     "status": "completed"
    },
    "tags": []
   },
   "outputs": [],
   "source": [
    "%load_ext autoreload\n",
    "%autoreload 2"
   ]
  },
  {
   "cell_type": "code",
   "execution_count": 2,
   "id": "1d5f5a59",
   "metadata": {
    "execution": {
     "iopub.execute_input": "2022-11-30T02:00:20.218362Z",
     "iopub.status.busy": "2022-11-30T02:00:20.218035Z",
     "iopub.status.idle": "2022-11-30T02:00:20.898729Z",
     "shell.execute_reply": "2022-11-30T02:00:20.898198Z"
    },
    "papermill": {
     "duration": 0.690923,
     "end_time": "2022-11-30T02:00:20.900472",
     "exception": false,
     "start_time": "2022-11-30T02:00:20.209549",
     "status": "completed"
    },
    "tags": []
   },
   "outputs": [],
   "source": [
    "from random import sample, seed\n",
    "import warnings\n",
    "from pathlib import Path\n",
    "import pickle\n",
    "import traceback\n",
    "\n",
    "import numpy as np\n",
    "from scipy.spatial.distance import squareform\n",
    "import pandas as pd\n",
    "from tqdm import tqdm\n",
    "import matplotlib.pyplot as plt\n",
    "import seaborn as sns\n",
    "\n",
    "import conf\n",
    "from entity import Gene"
   ]
  },
  {
   "cell_type": "markdown",
   "id": "1eac24b5",
   "metadata": {
    "papermill": {
     "duration": 0.009721,
     "end_time": "2022-11-30T02:00:20.918855",
     "exception": false,
     "start_time": "2022-11-30T02:00:20.909134",
     "status": "completed"
    },
    "tags": []
   },
   "source": [
    "# Settings"
   ]
  },
  {
   "cell_type": "code",
   "execution_count": 3,
   "id": "ca4560ba",
   "metadata": {
    "execution": {
     "iopub.execute_input": "2022-11-30T02:00:20.936109Z",
     "iopub.status.busy": "2022-11-30T02:00:20.935920Z",
     "iopub.status.idle": "2022-11-30T02:00:20.953816Z",
     "shell.execute_reply": "2022-11-30T02:00:20.953301Z"
    },
    "papermill": {
     "duration": 0.028141,
     "end_time": "2022-11-30T02:00:20.955251",
     "exception": false,
     "start_time": "2022-11-30T02:00:20.927110",
     "status": "completed"
    },
    "tags": [
     "parameters"
    ]
   },
   "outputs": [],
   "source": [
    "# a cohort name (it could be something like UK_BIOBANK, etc)\n",
    "COHORT_NAME = None\n",
    "\n",
    "# reference panel such as 1000G or GTEX_V8\n",
    "REFERENCE_PANEL = \"GTEX_V8\"\n",
    "\n",
    "# predictions models such as MASHR or ELASTIC_NET\n",
    "EQTL_MODEL = \"MASHR\"\n",
    "\n",
    "# this is the default value used in S-MultiXcan to select the\n",
    "# top principal components of the expression correlation matrix\n",
    "SMULTIXCAN_CONDITION_NUMBER = 30\n",
    "\n",
    "# specifies a single chromosome value\n",
    "CHROMOSOME = None\n",
    "\n",
    "# If True, computes the correlation between closeby genes only;\n",
    "# otherwise, it computes correlations for all genes in a chromosome\n",
    "COMPUTE_CORRELATIONS_WITHIN_DISTANCE = False\n",
    "\n",
    "# if True, then it will continue if a gene pair correlation fails,\n",
    "# printing the warning/error for debugging. If False, any warning/error\n",
    "# will be thrown\n",
    "DEBUG_MODE = False\n",
    "\n",
    "# output dir\n",
    "OUTPUT_DIR_BASE = None"
   ]
  },
  {
   "cell_type": "code",
   "execution_count": 4,
   "id": "db22b890",
   "metadata": {
    "execution": {
     "iopub.execute_input": "2022-11-30T02:00:20.973933Z",
     "iopub.status.busy": "2022-11-30T02:00:20.973349Z",
     "iopub.status.idle": "2022-11-30T02:00:20.994752Z",
     "shell.execute_reply": "2022-11-30T02:00:20.994259Z"
    },
    "papermill": {
     "duration": 0.032076,
     "end_time": "2022-11-30T02:00:20.996139",
     "exception": false,
     "start_time": "2022-11-30T02:00:20.964063",
     "status": "completed"
    },
    "tags": [
     "injected-parameters"
    ]
   },
   "outputs": [],
   "source": [
    "# Parameters\n",
    "COHORT_NAME = \"aco\"\n",
    "CHROMOSOME = 15\n",
    "OUTPUT_DIR_BASE = \"/opt/data/projects/asthma-copd/results/gls_phenoplier\"\n"
   ]
  },
  {
   "cell_type": "code",
   "execution_count": 5,
   "id": "3190631f-27fc-480f-b18e-571d580425a5",
   "metadata": {
    "execution": {
     "iopub.execute_input": "2022-11-30T02:00:21.015035Z",
     "iopub.status.busy": "2022-11-30T02:00:21.014788Z",
     "iopub.status.idle": "2022-11-30T02:00:21.040129Z",
     "shell.execute_reply": "2022-11-30T02:00:21.039640Z"
    },
    "papermill": {
     "duration": 0.036462,
     "end_time": "2022-11-30T02:00:21.041776",
     "exception": false,
     "start_time": "2022-11-30T02:00:21.005314",
     "status": "completed"
    },
    "tags": []
   },
   "outputs": [
    {
     "data": {
      "text/plain": [
       "'Cohort name: aco'"
      ]
     },
     "metadata": {},
     "output_type": "display_data"
    }
   ],
   "source": [
    "assert COHORT_NAME is not None and len(COHORT_NAME) > 0, \"A cohort name must be given\"\n",
    "\n",
    "COHORT_NAME = COHORT_NAME.lower()\n",
    "display(f\"Cohort name: {COHORT_NAME}\")"
   ]
  },
  {
   "cell_type": "code",
   "execution_count": 6,
   "id": "f53ba19b-0f93-4fa2-a047-63b375939d1a",
   "metadata": {
    "execution": {
     "iopub.execute_input": "2022-11-30T02:00:21.060321Z",
     "iopub.status.busy": "2022-11-30T02:00:21.060107Z",
     "iopub.status.idle": "2022-11-30T02:00:21.080026Z",
     "shell.execute_reply": "2022-11-30T02:00:21.079543Z"
    },
    "papermill": {
     "duration": 0.030154,
     "end_time": "2022-11-30T02:00:21.081067",
     "exception": false,
     "start_time": "2022-11-30T02:00:21.050913",
     "status": "completed"
    },
    "tags": []
   },
   "outputs": [
    {
     "data": {
      "text/plain": [
       "'Reference panel: GTEX_V8'"
      ]
     },
     "metadata": {},
     "output_type": "display_data"
    }
   ],
   "source": [
    "assert (\n",
    "    REFERENCE_PANEL is not None and len(REFERENCE_PANEL) > 0\n",
    "), \"A reference panel must be given\"\n",
    "\n",
    "display(f\"Reference panel: {REFERENCE_PANEL}\")"
   ]
  },
  {
   "cell_type": "code",
   "execution_count": 7,
   "id": "e024d130-c139-429a-9c6e-ccf149e297b0",
   "metadata": {
    "execution": {
     "iopub.execute_input": "2022-11-30T02:00:21.098967Z",
     "iopub.status.busy": "2022-11-30T02:00:21.098753Z",
     "iopub.status.idle": "2022-11-30T02:00:21.118654Z",
     "shell.execute_reply": "2022-11-30T02:00:21.118180Z"
    },
    "papermill": {
     "duration": 0.030489,
     "end_time": "2022-11-30T02:00:21.119896",
     "exception": false,
     "start_time": "2022-11-30T02:00:21.089407",
     "status": "completed"
    },
    "tags": []
   },
   "outputs": [
    {
     "data": {
      "text/plain": [
       "'eQTL model: MASHR) / mashr_'"
      ]
     },
     "metadata": {},
     "output_type": "display_data"
    }
   ],
   "source": [
    "assert (\n",
    "    EQTL_MODEL is not None and len(EQTL_MODEL) > 0\n",
    "), \"A prediction/eQTL model must be given\"\n",
    "\n",
    "EQTL_MODEL_FILES_PREFIX = conf.PHENOMEXCAN[\"PREDICTION_MODELS\"][f\"{EQTL_MODEL}_PREFIX\"]\n",
    "display(f\"eQTL model: {EQTL_MODEL}) / {EQTL_MODEL_FILES_PREFIX}\")"
   ]
  },
  {
   "cell_type": "code",
   "execution_count": 8,
   "id": "552a7f63-a18c-4d3e-bb6a-94f99b431291",
   "metadata": {
    "execution": {
     "iopub.execute_input": "2022-11-30T02:00:21.137588Z",
     "iopub.status.busy": "2022-11-30T02:00:21.137136Z",
     "iopub.status.idle": "2022-11-30T02:00:21.156926Z",
     "shell.execute_reply": "2022-11-30T02:00:21.156282Z"
    },
    "papermill": {
     "duration": 0.029955,
     "end_time": "2022-11-30T02:00:21.158226",
     "exception": false,
     "start_time": "2022-11-30T02:00:21.128271",
     "status": "completed"
    },
    "tags": []
   },
   "outputs": [
    {
     "data": {
      "text/plain": [
       "'S-MultiXcan condition number: 30'"
      ]
     },
     "metadata": {},
     "output_type": "display_data"
    }
   ],
   "source": [
    "assert (\n",
    "    SMULTIXCAN_CONDITION_NUMBER is not None and SMULTIXCAN_CONDITION_NUMBER > 0\n",
    "), \"The S-MultiXcan condition number (positive integer) must be given\"\n",
    "\n",
    "display(f\"S-MultiXcan condition number: {SMULTIXCAN_CONDITION_NUMBER}\")"
   ]
  },
  {
   "cell_type": "code",
   "execution_count": 9,
   "id": "f34a336f-548e-4afe-8955-90eaea4f42c6",
   "metadata": {
    "execution": {
     "iopub.execute_input": "2022-11-30T02:00:21.176348Z",
     "iopub.status.busy": "2022-11-30T02:00:21.175869Z",
     "iopub.status.idle": "2022-11-30T02:00:21.196892Z",
     "shell.execute_reply": "2022-11-30T02:00:21.196274Z"
    },
    "papermill": {
     "duration": 0.031309,
     "end_time": "2022-11-30T02:00:21.198178",
     "exception": false,
     "start_time": "2022-11-30T02:00:21.166869",
     "status": "completed"
    },
    "tags": []
   },
   "outputs": [
    {
     "data": {
      "text/plain": [
       "'Working on chromosome 15'"
      ]
     },
     "metadata": {},
     "output_type": "display_data"
    }
   ],
   "source": [
    "assert CHROMOSOME is not None and (\n",
    "    1 <= CHROMOSOME <= 22\n",
    "), \"You have to select one chromosome (format: number between 1 and 22)\"\n",
    "\n",
    "# CHROMOSOME = str(CHROMOSOME)\n",
    "display(f\"Working on chromosome {CHROMOSOME}\")"
   ]
  },
  {
   "cell_type": "code",
   "execution_count": 10,
   "id": "ab8e96e8-06b5-4363-9dcd-dc4d78cc27f7",
   "metadata": {
    "execution": {
     "iopub.execute_input": "2022-11-30T02:00:21.216695Z",
     "iopub.status.busy": "2022-11-30T02:00:21.216226Z",
     "iopub.status.idle": "2022-11-30T02:00:21.236531Z",
     "shell.execute_reply": "2022-11-30T02:00:21.235901Z"
    },
    "papermill": {
     "duration": 0.030806,
     "end_time": "2022-11-30T02:00:21.237808",
     "exception": false,
     "start_time": "2022-11-30T02:00:21.207002",
     "status": "completed"
    },
    "tags": []
   },
   "outputs": [
    {
     "data": {
      "text/plain": [
       "'Compute correlation within distance False'"
      ]
     },
     "metadata": {},
     "output_type": "display_data"
    }
   ],
   "source": [
    "display(f\"Compute correlation within distance {COMPUTE_CORRELATIONS_WITHIN_DISTANCE}\")"
   ]
  },
  {
   "cell_type": "code",
   "execution_count": 11,
   "id": "b393b698-77e3-4ba2-8ac1-e14d51aa988f",
   "metadata": {
    "execution": {
     "iopub.execute_input": "2022-11-30T02:00:21.256410Z",
     "iopub.status.busy": "2022-11-30T02:00:21.255928Z",
     "iopub.status.idle": "2022-11-30T02:00:21.276743Z",
     "shell.execute_reply": "2022-11-30T02:00:21.276244Z"
    },
    "papermill": {
     "duration": 0.03135,
     "end_time": "2022-11-30T02:00:21.277970",
     "exception": false,
     "start_time": "2022-11-30T02:00:21.246620",
     "status": "completed"
    },
    "tags": []
   },
   "outputs": [
    {
     "data": {
      "text/plain": [
       "'Using output dir base: /opt/data/projects/asthma-copd/results/gls_phenoplier/gene_corrs/aco'"
      ]
     },
     "metadata": {},
     "output_type": "display_data"
    }
   ],
   "source": [
    "assert (\n",
    "    OUTPUT_DIR_BASE is not None and len(OUTPUT_DIR_BASE) > 0\n",
    "), \"Output directory path must be given\"\n",
    "\n",
    "OUTPUT_DIR_BASE = (\n",
    "    Path(OUTPUT_DIR_BASE)\n",
    "    / \"gene_corrs\"\n",
    "    / COHORT_NAME\n",
    "    # / REFERENCE_PANEL.lower()\n",
    "    # / EQTL_MODEL.lower()\n",
    ").resolve()\n",
    "\n",
    "OUTPUT_DIR_BASE.mkdir(parents=True, exist_ok=True)\n",
    "\n",
    "display(f\"Using output dir base: {OUTPUT_DIR_BASE}\")"
   ]
  },
  {
   "cell_type": "markdown",
   "id": "d2ba085e",
   "metadata": {
    "papermill": {
     "duration": 0.008818,
     "end_time": "2022-11-30T02:00:21.296474",
     "exception": false,
     "start_time": "2022-11-30T02:00:21.287656",
     "status": "completed"
    },
    "tags": []
   },
   "source": [
    "# Load data"
   ]
  },
  {
   "cell_type": "markdown",
   "id": "7dcb8db7",
   "metadata": {
    "papermill": {
     "duration": 0.00613,
     "end_time": "2022-11-30T02:00:21.311430",
     "exception": false,
     "start_time": "2022-11-30T02:00:21.305300",
     "status": "completed"
    },
    "tags": []
   },
   "source": [
    "## GWAS variants"
   ]
  },
  {
   "cell_type": "code",
   "execution_count": 12,
   "id": "29434c4e-8cd3-4b9b-82e4-b5a251d9dd19",
   "metadata": {
    "execution": {
     "iopub.execute_input": "2022-11-30T02:00:21.322183Z",
     "iopub.status.busy": "2022-11-30T02:00:21.321677Z",
     "iopub.status.idle": "2022-11-30T02:00:23.377672Z",
     "shell.execute_reply": "2022-11-30T02:00:23.377203Z"
    },
    "papermill": {
     "duration": 2.063141,
     "end_time": "2022-11-30T02:00:23.379300",
     "exception": false,
     "start_time": "2022-11-30T02:00:21.316159",
     "status": "completed"
    },
    "tags": []
   },
   "outputs": [],
   "source": [
    "with open(OUTPUT_DIR_BASE / \"gwas_variant_ids.pkl\", \"rb\") as handle:\n",
    "    gwas_variants_ids_set = pickle.load(handle)"
   ]
  },
  {
   "cell_type": "code",
   "execution_count": 13,
   "id": "b9d9dec2-4a76-4bf9-bde2-e24c95acb8a0",
   "metadata": {
    "execution": {
     "iopub.execute_input": "2022-11-30T02:00:23.399522Z",
     "iopub.status.busy": "2022-11-30T02:00:23.399405Z",
     "iopub.status.idle": "2022-11-30T02:00:23.412458Z",
     "shell.execute_reply": "2022-11-30T02:00:23.412075Z"
    },
    "papermill": {
     "duration": 0.02468,
     "end_time": "2022-11-30T02:00:23.413743",
     "exception": false,
     "start_time": "2022-11-30T02:00:23.389063",
     "status": "completed"
    },
    "tags": []
   },
   "outputs": [
    {
     "data": {
      "text/plain": [
       "8561476"
      ]
     },
     "execution_count": 13,
     "metadata": {},
     "output_type": "execute_result"
    }
   ],
   "source": [
    "len(gwas_variants_ids_set)"
   ]
  },
  {
   "cell_type": "code",
   "execution_count": 14,
   "id": "4235b06a-6034-4ee4-a0a3-2ae35d122418",
   "metadata": {
    "execution": {
     "iopub.execute_input": "2022-11-30T02:00:23.434087Z",
     "iopub.status.busy": "2022-11-30T02:00:23.433973Z",
     "iopub.status.idle": "2022-11-30T02:00:23.803245Z",
     "shell.execute_reply": "2022-11-30T02:00:23.802847Z"
    },
    "papermill": {
     "duration": 0.381248,
     "end_time": "2022-11-30T02:00:23.804645",
     "exception": false,
     "start_time": "2022-11-30T02:00:23.423397",
     "status": "completed"
    },
    "tags": []
   },
   "outputs": [
    {
     "data": {
      "text/plain": [
       "['chr17_74069105_C_T_b38',\n",
       " 'chr14_60165724_CAGAT_C_b38',\n",
       " 'chr14_73311213_G_A_b38',\n",
       " 'chr21_46564869_C_T_b38',\n",
       " 'chr2_202118362_T_C_b38']"
      ]
     },
     "execution_count": 14,
     "metadata": {},
     "output_type": "execute_result"
    }
   ],
   "source": [
    "list(gwas_variants_ids_set)[:5]"
   ]
  },
  {
   "cell_type": "markdown",
   "id": "07866999-2305-41f9-a144-e69c9122c212",
   "metadata": {
    "papermill": {
     "duration": 0.009737,
     "end_time": "2022-11-30T02:00:23.824329",
     "exception": false,
     "start_time": "2022-11-30T02:00:23.814592",
     "status": "completed"
    },
    "tags": []
   },
   "source": [
    "## S-PrediXcan tissue models"
   ]
  },
  {
   "cell_type": "code",
   "execution_count": 15,
   "id": "780611d9-77c8-405f-90a4-f271f7b09397",
   "metadata": {
    "execution": {
     "iopub.execute_input": "2022-11-30T02:00:23.845203Z",
     "iopub.status.busy": "2022-11-30T02:00:23.844994Z",
     "iopub.status.idle": "2022-11-30T02:00:24.470013Z",
     "shell.execute_reply": "2022-11-30T02:00:24.469564Z"
    },
    "papermill": {
     "duration": 0.637373,
     "end_time": "2022-11-30T02:00:24.471642",
     "exception": false,
     "start_time": "2022-11-30T02:00:23.834269",
     "status": "completed"
    },
    "tags": []
   },
   "outputs": [],
   "source": [
    "spredixcan_genes_models = pd.read_pickle(OUTPUT_DIR_BASE / \"gene_tissues.pkl\")"
   ]
  },
  {
   "cell_type": "code",
   "execution_count": 16,
   "id": "726dd1f6-9557-4225-91fa-b3b879ea96e1",
   "metadata": {
    "execution": {
     "iopub.execute_input": "2022-11-30T02:00:24.493568Z",
     "iopub.status.busy": "2022-11-30T02:00:24.493263Z",
     "iopub.status.idle": "2022-11-30T02:00:24.506396Z",
     "shell.execute_reply": "2022-11-30T02:00:24.506030Z"
    },
    "papermill": {
     "duration": 0.024905,
     "end_time": "2022-11-30T02:00:24.507752",
     "exception": false,
     "start_time": "2022-11-30T02:00:24.482847",
     "status": "completed"
    },
    "tags": []
   },
   "outputs": [
    {
     "data": {
      "text/plain": [
       "(6442, 5)"
      ]
     },
     "execution_count": 16,
     "metadata": {},
     "output_type": "execute_result"
    }
   ],
   "source": [
    "spredixcan_genes_models.shape"
   ]
  },
  {
   "cell_type": "code",
   "execution_count": 17,
   "id": "944a1b48-222c-4eb0-b252-b9de2cbca215",
   "metadata": {
    "execution": {
     "iopub.execute_input": "2022-11-30T02:00:24.528347Z",
     "iopub.status.busy": "2022-11-30T02:00:24.528042Z",
     "iopub.status.idle": "2022-11-30T02:00:24.543907Z",
     "shell.execute_reply": "2022-11-30T02:00:24.543515Z"
    },
    "papermill": {
     "duration": 0.027503,
     "end_time": "2022-11-30T02:00:24.545270",
     "exception": false,
     "start_time": "2022-11-30T02:00:24.517767",
     "status": "completed"
    },
    "tags": []
   },
   "outputs": [
    {
     "data": {
      "text/html": [
       "<div>\n",
       "<style scoped>\n",
       "    .dataframe tbody tr th:only-of-type {\n",
       "        vertical-align: middle;\n",
       "    }\n",
       "\n",
       "    .dataframe tbody tr th {\n",
       "        vertical-align: top;\n",
       "    }\n",
       "\n",
       "    .dataframe thead th {\n",
       "        text-align: right;\n",
       "    }\n",
       "</style>\n",
       "<table border=\"1\" class=\"dataframe\">\n",
       "  <thead>\n",
       "    <tr style=\"text-align: right;\">\n",
       "      <th></th>\n",
       "      <th>gene_name</th>\n",
       "      <th>tissue</th>\n",
       "      <th>n_tissues</th>\n",
       "      <th>n_snps_used_sum</th>\n",
       "      <th>n_snps_in_model_sum</th>\n",
       "    </tr>\n",
       "    <tr>\n",
       "      <th>gene_id</th>\n",
       "      <th></th>\n",
       "      <th></th>\n",
       "      <th></th>\n",
       "      <th></th>\n",
       "      <th></th>\n",
       "    </tr>\n",
       "  </thead>\n",
       "  <tbody>\n",
       "    <tr>\n",
       "      <th>ENSG00000000419</th>\n",
       "      <td>DPM1</td>\n",
       "      <td>(Brain_Hypothalamus, Brain_Substantia_nigra)</td>\n",
       "      <td>2</td>\n",
       "      <td>2</td>\n",
       "      <td>2</td>\n",
       "    </tr>\n",
       "    <tr>\n",
       "      <th>ENSG00000000938</th>\n",
       "      <td>FGR</td>\n",
       "      <td>(Brain_Spinal_cord_cervical_c-1, Adipose_Subcu...</td>\n",
       "      <td>36</td>\n",
       "      <td>40</td>\n",
       "      <td>40</td>\n",
       "    </tr>\n",
       "    <tr>\n",
       "      <th>ENSG00000000971</th>\n",
       "      <td>CFH</td>\n",
       "      <td>(Brain_Spinal_cord_cervical_c-1, Uterus, Colon...</td>\n",
       "      <td>34</td>\n",
       "      <td>44</td>\n",
       "      <td>44</td>\n",
       "    </tr>\n",
       "    <tr>\n",
       "      <th>ENSG00000001084</th>\n",
       "      <td>GCLC</td>\n",
       "      <td>(Adipose_Subcutaneous, Colon_Transverse, Brain...</td>\n",
       "      <td>32</td>\n",
       "      <td>46</td>\n",
       "      <td>46</td>\n",
       "    </tr>\n",
       "    <tr>\n",
       "      <th>ENSG00000001167</th>\n",
       "      <td>NFYA</td>\n",
       "      <td>(Brain_Spinal_cord_cervical_c-1, Adipose_Subcu...</td>\n",
       "      <td>40</td>\n",
       "      <td>47</td>\n",
       "      <td>48</td>\n",
       "    </tr>\n",
       "  </tbody>\n",
       "</table>\n",
       "</div>"
      ],
      "text/plain": [
       "                gene_name                                             tissue  \\\n",
       "gene_id                                                                        \n",
       "ENSG00000000419      DPM1       (Brain_Hypothalamus, Brain_Substantia_nigra)   \n",
       "ENSG00000000938       FGR  (Brain_Spinal_cord_cervical_c-1, Adipose_Subcu...   \n",
       "ENSG00000000971       CFH  (Brain_Spinal_cord_cervical_c-1, Uterus, Colon...   \n",
       "ENSG00000001084      GCLC  (Adipose_Subcutaneous, Colon_Transverse, Brain...   \n",
       "ENSG00000001167      NFYA  (Brain_Spinal_cord_cervical_c-1, Adipose_Subcu...   \n",
       "\n",
       "                 n_tissues  n_snps_used_sum  n_snps_in_model_sum  \n",
       "gene_id                                                           \n",
       "ENSG00000000419          2                2                    2  \n",
       "ENSG00000000938         36               40                   40  \n",
       "ENSG00000000971         34               44                   44  \n",
       "ENSG00000001084         32               46                   46  \n",
       "ENSG00000001167         40               47                   48  "
      ]
     },
     "execution_count": 17,
     "metadata": {},
     "output_type": "execute_result"
    }
   ],
   "source": [
    "spredixcan_genes_models.head()"
   ]
  },
  {
   "cell_type": "code",
   "execution_count": 18,
   "id": "d1c11bb1-be0b-4f40-b360-633d6827109f",
   "metadata": {
    "execution": {
     "iopub.execute_input": "2022-11-30T02:00:24.567330Z",
     "iopub.status.busy": "2022-11-30T02:00:24.567017Z",
     "iopub.status.idle": "2022-11-30T02:00:24.579094Z",
     "shell.execute_reply": "2022-11-30T02:00:24.578710Z"
    },
    "papermill": {
     "duration": 0.024303,
     "end_time": "2022-11-30T02:00:24.580440",
     "exception": false,
     "start_time": "2022-11-30T02:00:24.556137",
     "status": "completed"
    },
    "tags": []
   },
   "outputs": [],
   "source": [
    "assert spredixcan_genes_models.index.is_unique"
   ]
  },
  {
   "cell_type": "markdown",
   "id": "a5b5092c-a13e-47c4-a92a-480fcc08f3ae",
   "metadata": {
    "papermill": {
     "duration": 0.010487,
     "end_time": "2022-11-30T02:00:24.601976",
     "exception": false,
     "start_time": "2022-11-30T02:00:24.591489",
     "status": "completed"
    },
    "tags": []
   },
   "source": [
    "## Gene info"
   ]
  },
  {
   "cell_type": "code",
   "execution_count": 19,
   "id": "7d6bb224-88e9-4358-ac10-43a41d92cdad",
   "metadata": {
    "execution": {
     "iopub.execute_input": "2022-11-30T02:00:24.622843Z",
     "iopub.status.busy": "2022-11-30T02:00:24.622697Z",
     "iopub.status.idle": "2022-11-30T02:00:24.640200Z",
     "shell.execute_reply": "2022-11-30T02:00:24.639708Z"
    },
    "papermill": {
     "duration": 0.029009,
     "end_time": "2022-11-30T02:00:24.641113",
     "exception": false,
     "start_time": "2022-11-30T02:00:24.612104",
     "status": "completed"
    },
    "tags": []
   },
   "outputs": [],
   "source": [
    "genes_info = pd.read_pickle(OUTPUT_DIR_BASE / \"genes_info.pkl\")"
   ]
  },
  {
   "cell_type": "code",
   "execution_count": 20,
   "id": "9e32abfa-546d-483e-8c18-d526e9e05903",
   "metadata": {
    "execution": {
     "iopub.execute_input": "2022-11-30T02:00:24.653395Z",
     "iopub.status.busy": "2022-11-30T02:00:24.653234Z",
     "iopub.status.idle": "2022-11-30T02:00:24.669832Z",
     "shell.execute_reply": "2022-11-30T02:00:24.669377Z"
    },
    "papermill": {
     "duration": 0.023503,
     "end_time": "2022-11-30T02:00:24.670719",
     "exception": false,
     "start_time": "2022-11-30T02:00:24.647216",
     "status": "completed"
    },
    "tags": []
   },
   "outputs": [
    {
     "data": {
      "text/plain": [
       "(6442, 7)"
      ]
     },
     "execution_count": 20,
     "metadata": {},
     "output_type": "execute_result"
    }
   ],
   "source": [
    "genes_info.shape"
   ]
  },
  {
   "cell_type": "code",
   "execution_count": 21,
   "id": "d16c3e92-85ec-468a-9a56-e25a9774a1cb",
   "metadata": {
    "execution": {
     "iopub.execute_input": "2022-11-30T02:00:24.682126Z",
     "iopub.status.busy": "2022-11-30T02:00:24.681690Z",
     "iopub.status.idle": "2022-11-30T02:00:24.705749Z",
     "shell.execute_reply": "2022-11-30T02:00:24.705253Z"
    },
    "papermill": {
     "duration": 0.030652,
     "end_time": "2022-11-30T02:00:24.706635",
     "exception": false,
     "start_time": "2022-11-30T02:00:24.675983",
     "status": "completed"
    },
    "tags": []
   },
   "outputs": [
    {
     "data": {
      "text/html": [
       "<div>\n",
       "<style scoped>\n",
       "    .dataframe tbody tr th:only-of-type {\n",
       "        vertical-align: middle;\n",
       "    }\n",
       "\n",
       "    .dataframe tbody tr th {\n",
       "        vertical-align: top;\n",
       "    }\n",
       "\n",
       "    .dataframe thead th {\n",
       "        text-align: right;\n",
       "    }\n",
       "</style>\n",
       "<table border=\"1\" class=\"dataframe\">\n",
       "  <thead>\n",
       "    <tr style=\"text-align: right;\">\n",
       "      <th></th>\n",
       "      <th>name</th>\n",
       "      <th>id</th>\n",
       "      <th>chr</th>\n",
       "      <th>band</th>\n",
       "      <th>start_position</th>\n",
       "      <th>end_position</th>\n",
       "      <th>gene_length</th>\n",
       "    </tr>\n",
       "  </thead>\n",
       "  <tbody>\n",
       "    <tr>\n",
       "      <th>0</th>\n",
       "      <td>IFIT3</td>\n",
       "      <td>ENSG00000119917</td>\n",
       "      <td>10</td>\n",
       "      <td>10q23.31</td>\n",
       "      <td>89327997</td>\n",
       "      <td>89340971</td>\n",
       "      <td>12974</td>\n",
       "    </tr>\n",
       "    <tr>\n",
       "      <th>1</th>\n",
       "      <td>ZFP36</td>\n",
       "      <td>ENSG00000128016</td>\n",
       "      <td>19</td>\n",
       "      <td>19q13.2</td>\n",
       "      <td>39406813</td>\n",
       "      <td>39409412</td>\n",
       "      <td>2599</td>\n",
       "    </tr>\n",
       "    <tr>\n",
       "      <th>2</th>\n",
       "      <td>ZNF597</td>\n",
       "      <td>ENSG00000167981</td>\n",
       "      <td>16</td>\n",
       "      <td>16p13.3</td>\n",
       "      <td>3432414</td>\n",
       "      <td>3443504</td>\n",
       "      <td>11090</td>\n",
       "    </tr>\n",
       "    <tr>\n",
       "      <th>3</th>\n",
       "      <td>AGPS</td>\n",
       "      <td>ENSG00000018510</td>\n",
       "      <td>2</td>\n",
       "      <td>2q31.2</td>\n",
       "      <td>177392768</td>\n",
       "      <td>177559299</td>\n",
       "      <td>166531</td>\n",
       "    </tr>\n",
       "    <tr>\n",
       "      <th>4</th>\n",
       "      <td>CDK2</td>\n",
       "      <td>ENSG00000123374</td>\n",
       "      <td>12</td>\n",
       "      <td>12q13.2</td>\n",
       "      <td>55966781</td>\n",
       "      <td>55972789</td>\n",
       "      <td>6008</td>\n",
       "    </tr>\n",
       "  </tbody>\n",
       "</table>\n",
       "</div>"
      ],
      "text/plain": [
       "     name               id  chr      band  start_position  end_position  \\\n",
       "0   IFIT3  ENSG00000119917   10  10q23.31        89327997      89340971   \n",
       "1   ZFP36  ENSG00000128016   19   19q13.2        39406813      39409412   \n",
       "2  ZNF597  ENSG00000167981   16   16p13.3         3432414       3443504   \n",
       "3    AGPS  ENSG00000018510    2    2q31.2       177392768     177559299   \n",
       "4    CDK2  ENSG00000123374   12   12q13.2        55966781      55972789   \n",
       "\n",
       "   gene_length  \n",
       "0        12974  \n",
       "1         2599  \n",
       "2        11090  \n",
       "3       166531  \n",
       "4         6008  "
      ]
     },
     "execution_count": 21,
     "metadata": {},
     "output_type": "execute_result"
    }
   ],
   "source": [
    "genes_info.head()"
   ]
  },
  {
   "cell_type": "markdown",
   "id": "d3843e06",
   "metadata": {
    "papermill": {
     "duration": 0.005621,
     "end_time": "2022-11-30T02:00:24.717975",
     "exception": false,
     "start_time": "2022-11-30T02:00:24.712354",
     "status": "completed"
    },
    "tags": []
   },
   "source": [
    "# Compute correlations"
   ]
  },
  {
   "cell_type": "code",
   "execution_count": 22,
   "id": "cb859c15-d1f3-4006-a74c-2b83c0db9611",
   "metadata": {
    "execution": {
     "iopub.execute_input": "2022-11-30T02:00:24.729652Z",
     "iopub.status.busy": "2022-11-30T02:00:24.729209Z",
     "iopub.status.idle": "2022-11-30T02:00:24.749819Z",
     "shell.execute_reply": "2022-11-30T02:00:24.749262Z"
    },
    "papermill": {
     "duration": 0.027431,
     "end_time": "2022-11-30T02:00:24.750713",
     "exception": false,
     "start_time": "2022-11-30T02:00:24.723282",
     "status": "completed"
    },
    "tags": []
   },
   "outputs": [
    {
     "data": {
      "text/plain": [
       "PosixPath('/opt/data/projects/asthma-copd/results/gls_phenoplier/gene_corrs/aco/by_chr/gene_corrs-chr15.pkl')"
      ]
     },
     "metadata": {},
     "output_type": "display_data"
    }
   ],
   "source": [
    "output_dir = OUTPUT_DIR_BASE / \"by_chr\"\n",
    "output_dir.mkdir(exist_ok=True, parents=True)\n",
    "output_file = output_dir / f\"gene_corrs-chr{CHROMOSOME}.pkl\"\n",
    "display(output_file)"
   ]
  },
  {
   "cell_type": "code",
   "execution_count": 23,
   "id": "aa674fe4-6794-4eed-98fa-32b39d1d4ace",
   "metadata": {
    "execution": {
     "iopub.execute_input": "2022-11-30T02:00:24.762875Z",
     "iopub.status.busy": "2022-11-30T02:00:24.762432Z",
     "iopub.status.idle": "2022-11-30T02:00:24.781837Z",
     "shell.execute_reply": "2022-11-30T02:00:24.781273Z"
    },
    "papermill": {
     "duration": 0.026531,
     "end_time": "2022-11-30T02:00:24.782926",
     "exception": false,
     "start_time": "2022-11-30T02:00:24.756395",
     "status": "completed"
    },
    "tags": []
   },
   "outputs": [],
   "source": [
    "warnings.filterwarnings(\"error\")"
   ]
  },
  {
   "cell_type": "code",
   "execution_count": 24,
   "id": "44d5450b-3baf-43f1-9e2e-4b06f1a785f8",
   "metadata": {
    "execution": {
     "iopub.execute_input": "2022-11-30T02:00:24.794946Z",
     "iopub.status.busy": "2022-11-30T02:00:24.794506Z",
     "iopub.status.idle": "2022-11-30T02:00:24.814463Z",
     "shell.execute_reply": "2022-11-30T02:00:24.813886Z"
    },
    "papermill": {
     "duration": 0.026981,
     "end_time": "2022-11-30T02:00:24.815481",
     "exception": false,
     "start_time": "2022-11-30T02:00:24.788500",
     "status": "completed"
    },
    "tags": []
   },
   "outputs": [],
   "source": [
    "# standard checks\n",
    "all_chrs = genes_info[\"chr\"].dropna().unique()\n",
    "assert all_chrs.shape[0] == 22\n",
    "\n",
    "# select chromosome given by the user\n",
    "assert CHROMOSOME in all_chrs"
   ]
  },
  {
   "cell_type": "code",
   "execution_count": 25,
   "id": "2d7c043c-92a7-4d35-991b-fa69ac1e0268",
   "metadata": {
    "execution": {
     "iopub.execute_input": "2022-11-30T02:00:24.827862Z",
     "iopub.status.busy": "2022-11-30T02:00:24.827375Z",
     "iopub.status.idle": "2022-11-30T02:00:24.848443Z",
     "shell.execute_reply": "2022-11-30T02:00:24.847922Z"
    },
    "papermill": {
     "duration": 0.027979,
     "end_time": "2022-11-30T02:00:24.849335",
     "exception": false,
     "start_time": "2022-11-30T02:00:24.821356",
     "status": "completed"
    },
    "tags": []
   },
   "outputs": [
    {
     "name": "stdout",
     "output_type": "stream",
     "text": [
      "Number of genes in chromosome: 187\n"
     ]
    }
   ],
   "source": [
    "# run only on the chromosome specified\n",
    "all_chrs = [CHROMOSOME]\n",
    "genes_chr = genes_info[genes_info[\"chr\"] == CHROMOSOME]\n",
    "\n",
    "# For testing purposes\n",
    "# genes_chr = genes_chr.sample(n=20)\n",
    "\n",
    "print(f\"Number of genes in chromosome: {genes_chr.shape[0]}\", flush=True)"
   ]
  },
  {
   "cell_type": "code",
   "execution_count": 26,
   "id": "916015d8-2979-46d3-a9b9-1cf5a0932c6a",
   "metadata": {
    "execution": {
     "iopub.execute_input": "2022-11-30T02:00:24.861476Z",
     "iopub.status.busy": "2022-11-30T02:00:24.861265Z",
     "iopub.status.idle": "2022-11-30T02:00:24.881289Z",
     "shell.execute_reply": "2022-11-30T02:00:24.880745Z"
    },
    "papermill": {
     "duration": 0.027362,
     "end_time": "2022-11-30T02:00:24.882263",
     "exception": false,
     "start_time": "2022-11-30T02:00:24.854901",
     "status": "completed"
    },
    "tags": []
   },
   "outputs": [],
   "source": [
    "# sort genes by starting position to make visualizations better later\n",
    "genes_chr = genes_chr.sort_values(\"start_position\")"
   ]
  },
  {
   "cell_type": "code",
   "execution_count": 27,
   "id": "a38aa74a-8ad3-47f6-8ef9-56be0e011774",
   "metadata": {
    "execution": {
     "iopub.execute_input": "2022-11-30T02:00:24.894372Z",
     "iopub.status.busy": "2022-11-30T02:00:24.893930Z",
     "iopub.status.idle": "2022-11-30T02:00:24.913721Z",
     "shell.execute_reply": "2022-11-30T02:00:24.913217Z"
    },
    "papermill": {
     "duration": 0.026962,
     "end_time": "2022-11-30T02:00:24.914797",
     "exception": false,
     "start_time": "2022-11-30T02:00:24.887835",
     "status": "completed"
    },
    "tags": []
   },
   "outputs": [],
   "source": [
    "gene_chr_objs = [Gene(ensembl_id=gene_id) for gene_id in genes_chr[\"id\"]]"
   ]
  },
  {
   "cell_type": "code",
   "execution_count": 28,
   "id": "570f974f-13c3-42b6-ad3a-ce99ca885c1a",
   "metadata": {
    "execution": {
     "iopub.execute_input": "2022-11-30T02:00:24.927281Z",
     "iopub.status.busy": "2022-11-30T02:00:24.926871Z",
     "iopub.status.idle": "2022-11-30T02:00:24.946804Z",
     "shell.execute_reply": "2022-11-30T02:00:24.946309Z"
    },
    "papermill": {
     "duration": 0.026863,
     "end_time": "2022-11-30T02:00:24.947614",
     "exception": false,
     "start_time": "2022-11-30T02:00:24.920751",
     "status": "completed"
    },
    "tags": []
   },
   "outputs": [
    {
     "name": "stdout",
     "output_type": "stream",
     "text": [
      "Number of gene combinations: 17578\n"
     ]
    }
   ],
   "source": [
    "n = len(gene_chr_objs)\n",
    "# diagonal elements + upper triangular matrix\n",
    "n_comb = n + int(n * (n - 1) / 2.0)\n",
    "print(f\"Number of gene combinations: {n_comb}\", flush=True)"
   ]
  },
  {
   "cell_type": "code",
   "execution_count": 29,
   "id": "cdbb90a1",
   "metadata": {
    "execution": {
     "iopub.execute_input": "2022-11-30T02:00:24.959888Z",
     "iopub.status.busy": "2022-11-30T02:00:24.959446Z",
     "iopub.status.idle": "2022-11-30T02:13:08.050226Z",
     "shell.execute_reply": "2022-11-30T02:13:08.049702Z"
    },
    "papermill": {
     "duration": 763.098352,
     "end_time": "2022-11-30T02:13:08.051608",
     "exception": false,
     "start_time": "2022-11-30T02:00:24.953256",
     "status": "completed"
    },
    "tags": []
   },
   "outputs": [
    {
     "name": "stderr",
     "output_type": "stream",
     "text": [
      "ENSG00000185418 / ENSG00000185418: 100%|██████████████████████| 17578/17578 [12:43<00:00, 23.04it/s]\n"
     ]
    },
    {
     "data": {
      "text/plain": [
       "PosixPath('/opt/data/projects/asthma-copd/results/gls_phenoplier/gene_corrs/aco/by_chr/gene_corrs-chr15.pkl')"
      ]
     },
     "metadata": {},
     "output_type": "display_data"
    }
   ],
   "source": [
    "gene_corrs = []\n",
    "gene_corrs_data = np.full(\n",
    "    (n, n),\n",
    "    np.nan,\n",
    "    dtype=np.float64,\n",
    ")\n",
    "\n",
    "i = 0\n",
    "with tqdm(ncols=100, total=n_comb) as pbar:\n",
    "    for gene1_idx in range(0, len(gene_chr_objs)):\n",
    "        gene1_obj = gene_chr_objs[gene1_idx]\n",
    "        gene1_tissues = spredixcan_genes_models.loc[gene1_obj.ensembl_id, \"tissue\"]\n",
    "\n",
    "        for gene2_idx in range(gene1_idx, len(gene_chr_objs)):\n",
    "            gene2_obj = gene_chr_objs[gene2_idx]\n",
    "            gene2_tissues = spredixcan_genes_models.loc[gene2_obj.ensembl_id, \"tissue\"]\n",
    "\n",
    "            pbar.set_description(f\"{gene1_obj.ensembl_id} / {gene2_obj.ensembl_id}\")\n",
    "\n",
    "            try:\n",
    "                r = gene1_obj.get_ssm_correlation(\n",
    "                    other_gene=gene2_obj,\n",
    "                    tissues=gene1_tissues,\n",
    "                    other_tissues=gene2_tissues,\n",
    "                    snps_subset=gwas_variants_ids_set,\n",
    "                    condition_number=SMULTIXCAN_CONDITION_NUMBER,\n",
    "                    reference_panel=REFERENCE_PANEL,\n",
    "                    model_type=EQTL_MODEL,\n",
    "                    use_within_distance=COMPUTE_CORRELATIONS_WITHIN_DISTANCE,\n",
    "                )\n",
    "\n",
    "                if r is None:\n",
    "                    # if r is None, it's very likely because:\n",
    "                    #  * one of the genes has no prediction models\n",
    "                    #  * all the SNPs predictors for the gene are not present in the reference\n",
    "                    #    panel\n",
    "\n",
    "                    r = 0.0\n",
    "\n",
    "                gene_corrs.append(r)\n",
    "\n",
    "                gene_corrs_data[gene1_idx, gene2_idx] = r\n",
    "                gene_corrs_data[gene2_idx, gene1_idx] = r\n",
    "            except Warning as e:\n",
    "                if not DEBUG_MODE:\n",
    "                    raise e\n",
    "\n",
    "                print(\n",
    "                    f\"RuntimeWarning for genes {gene1_obj.ensembl_id} and {gene2_obj.ensembl_id}\",\n",
    "                    flush=True,\n",
    "                )\n",
    "                print(traceback.format_exc(), flush=True)\n",
    "\n",
    "                gene_corrs.append(np.nan)\n",
    "            except Exception as e:\n",
    "                if not DEBUG_MODE:\n",
    "                    raise e\n",
    "\n",
    "                print(\n",
    "                    f\"Exception for genes {gene1_obj.ensembl_id} and {gene2_obj.ensembl_id}\",\n",
    "                    flush=True,\n",
    "                )\n",
    "                print(traceback.format_exc(), flush=True)\n",
    "\n",
    "                gene_corrs.append(np.nan)\n",
    "\n",
    "            pbar.update(1)\n",
    "\n",
    "# create a pandas series\n",
    "gene_corrs_flat = pd.Series(gene_corrs)\n",
    "\n",
    "# save\n",
    "# FIXME: consider saving only the condenced matrix here. See here for\n",
    "# more details: https://github.com/greenelab/phenoplier/pull/38#discussion_r634600813\n",
    "# gene_corrs_data = squareform(np.array(gene_corrs, dtype=np.float64))\n",
    "# np.fill_diagonal(gene_corrs_data, 1.0)\n",
    "\n",
    "gene_chr_ids = [g.ensembl_id for g in gene_chr_objs]\n",
    "gene_corrs_df = pd.DataFrame(\n",
    "    data=gene_corrs_data,\n",
    "    index=gene_chr_ids,\n",
    "    columns=gene_chr_ids,\n",
    ")\n",
    "\n",
    "output_dir.mkdir(exist_ok=True, parents=True)\n",
    "display(output_file)\n",
    "\n",
    "gene_corrs_df.to_pickle(output_file)"
   ]
  },
  {
   "cell_type": "markdown",
   "id": "faa67b51-5373-470f-aa72-2ded53fa6dfe",
   "metadata": {
    "papermill": {
     "duration": 0.734585,
     "end_time": "2022-11-30T02:13:09.508355",
     "exception": false,
     "start_time": "2022-11-30T02:13:08.773770",
     "status": "completed"
    },
    "tags": []
   },
   "source": [
    "# Testing"
   ]
  },
  {
   "cell_type": "code",
   "execution_count": 30,
   "id": "14f7d046-4b55-4896-a56b-990127bcc388",
   "metadata": {
    "execution": {
     "iopub.execute_input": "2022-11-30T02:13:10.981585Z",
     "iopub.status.busy": "2022-11-30T02:13:10.981213Z",
     "iopub.status.idle": "2022-11-30T02:13:11.002943Z",
     "shell.execute_reply": "2022-11-30T02:13:11.002312Z"
    },
    "papermill": {
     "duration": 0.753949,
     "end_time": "2022-11-30T02:13:11.003871",
     "exception": false,
     "start_time": "2022-11-30T02:13:10.249922",
     "status": "completed"
    },
    "tags": []
   },
   "outputs": [
    {
     "data": {
      "text/plain": [
       "(187, 187)"
      ]
     },
     "execution_count": 30,
     "metadata": {},
     "output_type": "execute_result"
    }
   ],
   "source": [
    "gene_corrs_df.shape"
   ]
  },
  {
   "cell_type": "code",
   "execution_count": 31,
   "id": "c7d15414-3297-4537-a7c6-7588c0baeb75",
   "metadata": {
    "execution": {
     "iopub.execute_input": "2022-11-30T02:13:12.420263Z",
     "iopub.status.busy": "2022-11-30T02:13:12.419893Z",
     "iopub.status.idle": "2022-11-30T02:13:12.456457Z",
     "shell.execute_reply": "2022-11-30T02:13:12.455656Z"
    },
    "papermill": {
     "duration": 0.741187,
     "end_time": "2022-11-30T02:13:12.457365",
     "exception": false,
     "start_time": "2022-11-30T02:13:11.716178",
     "status": "completed"
    },
    "tags": []
   },
   "outputs": [
    {
     "data": {
      "text/html": [
       "<div>\n",
       "<style scoped>\n",
       "    .dataframe tbody tr th:only-of-type {\n",
       "        vertical-align: middle;\n",
       "    }\n",
       "\n",
       "    .dataframe tbody tr th {\n",
       "        vertical-align: top;\n",
       "    }\n",
       "\n",
       "    .dataframe thead th {\n",
       "        text-align: right;\n",
       "    }\n",
       "</style>\n",
       "<table border=\"1\" class=\"dataframe\">\n",
       "  <thead>\n",
       "    <tr style=\"text-align: right;\">\n",
       "      <th></th>\n",
       "      <th>ENSG00000273749</th>\n",
       "      <th>ENSG00000275835</th>\n",
       "      <th>ENSG00000182636</th>\n",
       "      <th>ENSG00000273173</th>\n",
       "      <th>ENSG00000114062</th>\n",
       "      <th>ENSG00000206190</th>\n",
       "      <th>ENSG00000128731</th>\n",
       "      <th>ENSG00000034053</th>\n",
       "      <th>ENSG00000198690</th>\n",
       "      <th>ENSG00000166912</th>\n",
       "      <th>...</th>\n",
       "      <th>ENSG00000182175</th>\n",
       "      <th>ENSG00000140450</th>\n",
       "      <th>ENSG00000140443</th>\n",
       "      <th>ENSG00000068305</th>\n",
       "      <th>ENSG00000183475</th>\n",
       "      <th>ENSG00000184254</th>\n",
       "      <th>ENSG00000131873</th>\n",
       "      <th>ENSG00000131876</th>\n",
       "      <th>ENSG00000140479</th>\n",
       "      <th>ENSG00000185418</th>\n",
       "    </tr>\n",
       "  </thead>\n",
       "  <tbody>\n",
       "    <tr>\n",
       "      <th>ENSG00000273749</th>\n",
       "      <td>1.000000</td>\n",
       "      <td>0.068873</td>\n",
       "      <td>0.008446</td>\n",
       "      <td>0.008907</td>\n",
       "      <td>0.009385</td>\n",
       "      <td>0.013589</td>\n",
       "      <td>0.007201</td>\n",
       "      <td>0.013265</td>\n",
       "      <td>0.010937</td>\n",
       "      <td>0.009226</td>\n",
       "      <td>...</td>\n",
       "      <td>0.012522</td>\n",
       "      <td>0.010874</td>\n",
       "      <td>0.015120</td>\n",
       "      <td>0.012204</td>\n",
       "      <td>0.009437</td>\n",
       "      <td>0.015749</td>\n",
       "      <td>0.012546</td>\n",
       "      <td>0.005736</td>\n",
       "      <td>0.017050</td>\n",
       "      <td>0.010679</td>\n",
       "    </tr>\n",
       "    <tr>\n",
       "      <th>ENSG00000275835</th>\n",
       "      <td>0.068873</td>\n",
       "      <td>1.000000</td>\n",
       "      <td>0.005037</td>\n",
       "      <td>0.002480</td>\n",
       "      <td>0.013758</td>\n",
       "      <td>0.007291</td>\n",
       "      <td>0.003082</td>\n",
       "      <td>0.002283</td>\n",
       "      <td>0.006679</td>\n",
       "      <td>0.007161</td>\n",
       "      <td>...</td>\n",
       "      <td>0.009150</td>\n",
       "      <td>0.004690</td>\n",
       "      <td>0.004164</td>\n",
       "      <td>0.006907</td>\n",
       "      <td>0.007157</td>\n",
       "      <td>0.007988</td>\n",
       "      <td>0.007549</td>\n",
       "      <td>0.000690</td>\n",
       "      <td>0.006626</td>\n",
       "      <td>0.003953</td>\n",
       "    </tr>\n",
       "    <tr>\n",
       "      <th>ENSG00000182636</th>\n",
       "      <td>0.008446</td>\n",
       "      <td>0.005037</td>\n",
       "      <td>1.000000</td>\n",
       "      <td>0.006649</td>\n",
       "      <td>0.002467</td>\n",
       "      <td>0.006949</td>\n",
       "      <td>0.002722</td>\n",
       "      <td>0.007057</td>\n",
       "      <td>0.004193</td>\n",
       "      <td>0.002655</td>\n",
       "      <td>...</td>\n",
       "      <td>0.007108</td>\n",
       "      <td>0.003026</td>\n",
       "      <td>0.010363</td>\n",
       "      <td>0.005937</td>\n",
       "      <td>0.003900</td>\n",
       "      <td>0.008911</td>\n",
       "      <td>0.006874</td>\n",
       "      <td>0.001699</td>\n",
       "      <td>0.009652</td>\n",
       "      <td>0.006376</td>\n",
       "    </tr>\n",
       "    <tr>\n",
       "      <th>ENSG00000273173</th>\n",
       "      <td>0.008907</td>\n",
       "      <td>0.002480</td>\n",
       "      <td>0.006649</td>\n",
       "      <td>1.000000</td>\n",
       "      <td>0.003373</td>\n",
       "      <td>0.010036</td>\n",
       "      <td>0.001674</td>\n",
       "      <td>0.005661</td>\n",
       "      <td>0.008288</td>\n",
       "      <td>0.001972</td>\n",
       "      <td>...</td>\n",
       "      <td>0.006183</td>\n",
       "      <td>0.001526</td>\n",
       "      <td>0.005175</td>\n",
       "      <td>0.004713</td>\n",
       "      <td>0.004148</td>\n",
       "      <td>0.006153</td>\n",
       "      <td>0.004745</td>\n",
       "      <td>0.001569</td>\n",
       "      <td>0.012111</td>\n",
       "      <td>0.005871</td>\n",
       "    </tr>\n",
       "    <tr>\n",
       "      <th>ENSG00000114062</th>\n",
       "      <td>0.009385</td>\n",
       "      <td>0.013758</td>\n",
       "      <td>0.002467</td>\n",
       "      <td>0.003373</td>\n",
       "      <td>1.000000</td>\n",
       "      <td>0.005178</td>\n",
       "      <td>0.001052</td>\n",
       "      <td>0.002218</td>\n",
       "      <td>0.005006</td>\n",
       "      <td>0.005467</td>\n",
       "      <td>...</td>\n",
       "      <td>0.001879</td>\n",
       "      <td>0.003831</td>\n",
       "      <td>0.008147</td>\n",
       "      <td>0.007360</td>\n",
       "      <td>0.001982</td>\n",
       "      <td>0.008071</td>\n",
       "      <td>0.006134</td>\n",
       "      <td>0.001827</td>\n",
       "      <td>0.007127</td>\n",
       "      <td>0.005416</td>\n",
       "    </tr>\n",
       "  </tbody>\n",
       "</table>\n",
       "<p>5 rows × 187 columns</p>\n",
       "</div>"
      ],
      "text/plain": [
       "                 ENSG00000273749  ENSG00000275835  ENSG00000182636  \\\n",
       "ENSG00000273749         1.000000         0.068873         0.008446   \n",
       "ENSG00000275835         0.068873         1.000000         0.005037   \n",
       "ENSG00000182636         0.008446         0.005037         1.000000   \n",
       "ENSG00000273173         0.008907         0.002480         0.006649   \n",
       "ENSG00000114062         0.009385         0.013758         0.002467   \n",
       "\n",
       "                 ENSG00000273173  ENSG00000114062  ENSG00000206190  \\\n",
       "ENSG00000273749         0.008907         0.009385         0.013589   \n",
       "ENSG00000275835         0.002480         0.013758         0.007291   \n",
       "ENSG00000182636         0.006649         0.002467         0.006949   \n",
       "ENSG00000273173         1.000000         0.003373         0.010036   \n",
       "ENSG00000114062         0.003373         1.000000         0.005178   \n",
       "\n",
       "                 ENSG00000128731  ENSG00000034053  ENSG00000198690  \\\n",
       "ENSG00000273749         0.007201         0.013265         0.010937   \n",
       "ENSG00000275835         0.003082         0.002283         0.006679   \n",
       "ENSG00000182636         0.002722         0.007057         0.004193   \n",
       "ENSG00000273173         0.001674         0.005661         0.008288   \n",
       "ENSG00000114062         0.001052         0.002218         0.005006   \n",
       "\n",
       "                 ENSG00000166912  ...  ENSG00000182175  ENSG00000140450  \\\n",
       "ENSG00000273749         0.009226  ...         0.012522         0.010874   \n",
       "ENSG00000275835         0.007161  ...         0.009150         0.004690   \n",
       "ENSG00000182636         0.002655  ...         0.007108         0.003026   \n",
       "ENSG00000273173         0.001972  ...         0.006183         0.001526   \n",
       "ENSG00000114062         0.005467  ...         0.001879         0.003831   \n",
       "\n",
       "                 ENSG00000140443  ENSG00000068305  ENSG00000183475  \\\n",
       "ENSG00000273749         0.015120         0.012204         0.009437   \n",
       "ENSG00000275835         0.004164         0.006907         0.007157   \n",
       "ENSG00000182636         0.010363         0.005937         0.003900   \n",
       "ENSG00000273173         0.005175         0.004713         0.004148   \n",
       "ENSG00000114062         0.008147         0.007360         0.001982   \n",
       "\n",
       "                 ENSG00000184254  ENSG00000131873  ENSG00000131876  \\\n",
       "ENSG00000273749         0.015749         0.012546         0.005736   \n",
       "ENSG00000275835         0.007988         0.007549         0.000690   \n",
       "ENSG00000182636         0.008911         0.006874         0.001699   \n",
       "ENSG00000273173         0.006153         0.004745         0.001569   \n",
       "ENSG00000114062         0.008071         0.006134         0.001827   \n",
       "\n",
       "                 ENSG00000140479  ENSG00000185418  \n",
       "ENSG00000273749         0.017050         0.010679  \n",
       "ENSG00000275835         0.006626         0.003953  \n",
       "ENSG00000182636         0.009652         0.006376  \n",
       "ENSG00000273173         0.012111         0.005871  \n",
       "ENSG00000114062         0.007127         0.005416  \n",
       "\n",
       "[5 rows x 187 columns]"
      ]
     },
     "execution_count": 31,
     "metadata": {},
     "output_type": "execute_result"
    }
   ],
   "source": [
    "gene_corrs_df.head()"
   ]
  },
  {
   "cell_type": "markdown",
   "id": "dad6603f-01c6-41fb-a6f6-241051207dd8",
   "metadata": {
    "papermill": {
     "duration": 0.795044,
     "end_time": "2022-11-30T02:13:13.970046",
     "exception": false,
     "start_time": "2022-11-30T02:13:13.175002",
     "status": "completed"
    },
    "tags": []
   },
   "source": [
    "## Standard checks and stats"
   ]
  },
  {
   "cell_type": "code",
   "execution_count": 32,
   "id": "286686af-1b7b-4440-8453-6bdcbd8de19c",
   "metadata": {
    "execution": {
     "iopub.execute_input": "2022-11-30T02:13:15.423814Z",
     "iopub.status.busy": "2022-11-30T02:13:15.423113Z",
     "iopub.status.idle": "2022-11-30T02:13:15.447757Z",
     "shell.execute_reply": "2022-11-30T02:13:15.447090Z"
    },
    "papermill": {
     "duration": 0.727824,
     "end_time": "2022-11-30T02:13:15.448759",
     "exception": false,
     "start_time": "2022-11-30T02:13:14.720935",
     "status": "completed"
    },
    "tags": []
   },
   "outputs": [],
   "source": [
    "assert not gene_corrs_df.isna().any().any()"
   ]
  },
  {
   "cell_type": "code",
   "execution_count": 33,
   "id": "00583efc-7068-4270-ad1e-4a418e91db96",
   "metadata": {
    "execution": {
     "iopub.execute_input": "2022-11-30T02:13:16.895962Z",
     "iopub.status.busy": "2022-11-30T02:13:16.895388Z",
     "iopub.status.idle": "2022-11-30T02:13:16.920804Z",
     "shell.execute_reply": "2022-11-30T02:13:16.920176Z"
    },
    "papermill": {
     "duration": 0.751184,
     "end_time": "2022-11-30T02:13:16.921811",
     "exception": false,
     "start_time": "2022-11-30T02:13:16.170627",
     "status": "completed"
    },
    "tags": []
   },
   "outputs": [
    {
     "data": {
      "text/plain": [
       "2.9690984676582354e-06"
      ]
     },
     "metadata": {},
     "output_type": "display_data"
    }
   ],
   "source": [
    "_min_val = gene_corrs_df.min().min()\n",
    "display(_min_val)\n",
    "assert _min_val >= -0.05"
   ]
  },
  {
   "cell_type": "code",
   "execution_count": 34,
   "id": "d04fb2cf-1050-475b-b855-f5f7cc04092b",
   "metadata": {
    "execution": {
     "iopub.execute_input": "2022-11-30T02:13:18.394398Z",
     "iopub.status.busy": "2022-11-30T02:13:18.393789Z",
     "iopub.status.idle": "2022-11-30T02:13:18.418345Z",
     "shell.execute_reply": "2022-11-30T02:13:18.417707Z"
    },
    "papermill": {
     "duration": 0.765162,
     "end_time": "2022-11-30T02:13:18.419361",
     "exception": false,
     "start_time": "2022-11-30T02:13:17.654199",
     "status": "completed"
    },
    "tags": []
   },
   "outputs": [
    {
     "data": {
      "text/plain": [
       "1.0000000000000024"
      ]
     },
     "metadata": {},
     "output_type": "display_data"
    }
   ],
   "source": [
    "_max_val = gene_corrs_df.max().max()  # this captures the diagonal\n",
    "display(_max_val)\n",
    "assert _max_val <= 1.05"
   ]
  },
  {
   "cell_type": "code",
   "execution_count": 35,
   "id": "96d02c44-1fba-47be-8a93-8f2608420b9c",
   "metadata": {
    "execution": {
     "iopub.execute_input": "2022-11-30T02:13:19.743452Z",
     "iopub.status.busy": "2022-11-30T02:13:19.742959Z",
     "iopub.status.idle": "2022-11-30T02:13:19.765057Z",
     "shell.execute_reply": "2022-11-30T02:13:19.764391Z"
    },
    "papermill": {
     "duration": 0.700112,
     "end_time": "2022-11-30T02:13:19.765950",
     "exception": false,
     "start_time": "2022-11-30T02:13:19.065838",
     "status": "completed"
    },
    "tags": []
   },
   "outputs": [],
   "source": [
    "# check upper triangular values\n",
    "# assert len(gene_corrs) == int(genes_chr.shape[0] * (genes_chr.shape[0] - 1) / 2)"
   ]
  },
  {
   "cell_type": "code",
   "execution_count": 36,
   "id": "fe283586-c348-40e0-8841-f6d97bfb021c",
   "metadata": {
    "execution": {
     "iopub.execute_input": "2022-11-30T02:13:21.129877Z",
     "iopub.status.busy": "2022-11-30T02:13:21.129560Z",
     "iopub.status.idle": "2022-11-30T02:13:21.160576Z",
     "shell.execute_reply": "2022-11-30T02:13:21.159857Z"
    },
    "papermill": {
     "duration": 0.714697,
     "end_time": "2022-11-30T02:13:21.161455",
     "exception": false,
     "start_time": "2022-11-30T02:13:20.446758",
     "status": "completed"
    },
    "tags": []
   },
   "outputs": [
    {
     "data": {
      "text/plain": [
       "count    17578.000000\n",
       "mean         0.020447\n",
       "std          0.108350\n",
       "min          0.000003\n",
       "25%          0.003846\n",
       "50%          0.005847\n",
       "75%          0.008331\n",
       "max          1.000000\n",
       "dtype: float64"
      ]
     },
     "execution_count": 36,
     "metadata": {},
     "output_type": "execute_result"
    }
   ],
   "source": [
    "gene_corrs_flat.describe()"
   ]
  },
  {
   "cell_type": "code",
   "execution_count": 37,
   "id": "b3815678-0f93-4b35-897b-a9d047a2aa78",
   "metadata": {
    "execution": {
     "iopub.execute_input": "2022-11-30T02:13:22.526153Z",
     "iopub.status.busy": "2022-11-30T02:13:22.525525Z",
     "iopub.status.idle": "2022-11-30T02:13:22.556427Z",
     "shell.execute_reply": "2022-11-30T02:13:22.555721Z"
    },
    "papermill": {
     "duration": 0.714732,
     "end_time": "2022-11-30T02:13:22.557403",
     "exception": false,
     "start_time": "2022-11-30T02:13:21.842671",
     "status": "completed"
    },
    "tags": []
   },
   "outputs": [
    {
     "data": {
      "text/plain": [
       "0.00    0.000003\n",
       "0.05    0.001582\n",
       "0.10    0.002319\n",
       "0.15    0.002886\n",
       "0.20    0.003388\n",
       "0.25    0.003846\n",
       "0.30    0.004269\n",
       "0.35    0.004670\n",
       "0.40    0.005073\n",
       "0.45    0.005456\n",
       "0.50    0.005847\n",
       "0.55    0.006266\n",
       "0.60    0.006741\n",
       "0.65    0.007229\n",
       "0.70    0.007768\n",
       "0.75    0.008331\n",
       "0.80    0.008978\n",
       "0.85    0.009875\n",
       "0.90    0.011193\n",
       "0.95    0.013775\n",
       "dtype: float64"
      ]
     },
     "metadata": {},
     "output_type": "display_data"
    }
   ],
   "source": [
    "gene_corrs_quantiles = gene_corrs_flat.quantile(np.arange(0, 1, 0.05))\n",
    "display(gene_corrs_quantiles)"
   ]
  },
  {
   "cell_type": "markdown",
   "id": "87134509-b145-4a10-8bc9-b7e914c2b0fa",
   "metadata": {
    "papermill": {
     "duration": 0.6804,
     "end_time": "2022-11-30T02:13:23.953395",
     "exception": false,
     "start_time": "2022-11-30T02:13:23.272995",
     "status": "completed"
    },
    "tags": []
   },
   "source": [
    "## Positive definiteness"
   ]
  },
  {
   "cell_type": "code",
   "execution_count": 38,
   "id": "07d9a9a1-a4f7-48aa-b916-6d42a8cc6186",
   "metadata": {
    "execution": {
     "iopub.execute_input": "2022-11-30T02:13:25.282916Z",
     "iopub.status.busy": "2022-11-30T02:13:25.282149Z",
     "iopub.status.idle": "2022-11-30T02:13:25.321918Z",
     "shell.execute_reply": "2022-11-30T02:13:25.321207Z"
    },
    "papermill": {
     "duration": 0.724461,
     "end_time": "2022-11-30T02:13:25.323084",
     "exception": false,
     "start_time": "2022-11-30T02:13:24.598623",
     "status": "completed"
    },
    "tags": []
   },
   "outputs": [
    {
     "data": {
      "text/plain": [
       "0"
      ]
     },
     "metadata": {},
     "output_type": "display_data"
    },
    {
     "data": {
      "text/plain": [
       "array([], dtype=float64)"
      ]
     },
     "metadata": {},
     "output_type": "display_data"
    }
   ],
   "source": [
    "# print negative eigenvalues\n",
    "eigs = np.linalg.eigvals(gene_corrs_df.to_numpy())\n",
    "display(len(eigs[eigs < 0]))\n",
    "display(eigs[eigs < 0])"
   ]
  },
  {
   "cell_type": "code",
   "execution_count": 39,
   "id": "6e218436-c3c5-4028-8c94-a4fa6260efce",
   "metadata": {
    "execution": {
     "iopub.execute_input": "2022-11-30T02:13:26.753838Z",
     "iopub.status.busy": "2022-11-30T02:13:26.753191Z",
     "iopub.status.idle": "2022-11-30T02:13:26.782727Z",
     "shell.execute_reply": "2022-11-30T02:13:26.781970Z"
    },
    "papermill": {
     "duration": 0.720938,
     "end_time": "2022-11-30T02:13:26.783753",
     "exception": false,
     "start_time": "2022-11-30T02:13:26.062815",
     "status": "completed"
    },
    "tags": []
   },
   "outputs": [
    {
     "name": "stdout",
     "output_type": "stream",
     "text": [
      "Works!\n"
     ]
    }
   ],
   "source": [
    "try:\n",
    "    chol_mat = np.linalg.cholesky(gene_corrs_df.to_numpy())\n",
    "    cov_inv = np.linalg.inv(chol_mat)\n",
    "    print(\"Works!\")\n",
    "except Exception as e:\n",
    "    print(f\"Cholesky decomposition failed: {str(e)}\")"
   ]
  },
  {
   "cell_type": "code",
   "execution_count": 40,
   "id": "dd8827fb-faf9-4c7c-9454-015e94752706",
   "metadata": {
    "execution": {
     "iopub.execute_input": "2022-11-30T02:13:28.098349Z",
     "iopub.status.busy": "2022-11-30T02:13:28.097741Z",
     "iopub.status.idle": "2022-11-30T02:13:28.123230Z",
     "shell.execute_reply": "2022-11-30T02:13:28.122553Z"
    },
    "papermill": {
     "duration": 0.699018,
     "end_time": "2022-11-30T02:13:28.124131",
     "exception": false,
     "start_time": "2022-11-30T02:13:27.425113",
     "status": "completed"
    },
    "tags": []
   },
   "outputs": [
    {
     "name": "stdout",
     "output_type": "stream",
     "text": [
      "Works!\n"
     ]
    }
   ],
   "source": [
    "try:\n",
    "    # decomposition used by statsmodels.GLS\n",
    "    cholsigmainv = np.linalg.cholesky(np.linalg.inv(gene_corrs_df.to_numpy())).T\n",
    "    print(\"Works!\")\n",
    "except Exception as e:\n",
    "    print(f\"Cholesky decomposition failed (statsmodels.GLS): {str(e)}\")"
   ]
  },
  {
   "cell_type": "markdown",
   "id": "8e60a080-edb2-4e9c-b2ef-22961693200c",
   "metadata": {
    "papermill": {
     "duration": 0.716837,
     "end_time": "2022-11-30T02:13:29.516280",
     "exception": false,
     "start_time": "2022-11-30T02:13:28.799443",
     "status": "completed"
    },
    "tags": []
   },
   "source": [
    "## Plot: distribution"
   ]
  },
  {
   "cell_type": "code",
   "execution_count": 41,
   "id": "8301126b-a7d4-4744-9c7d-f0f86eb6f54c",
   "metadata": {
    "execution": {
     "iopub.execute_input": "2022-11-30T02:13:30.854417Z",
     "iopub.status.busy": "2022-11-30T02:13:30.853738Z",
     "iopub.status.idle": "2022-11-30T02:13:33.901241Z",
     "shell.execute_reply": "2022-11-30T02:13:33.900830Z"
    },
    "papermill": {
     "duration": 3.706907,
     "end_time": "2022-11-30T02:13:33.902865",
     "exception": false,
     "start_time": "2022-11-30T02:13:30.195958",
     "status": "completed"
    },
    "tags": []
   },
   "outputs": [
    {
     "data": {
      "image/png": "[encoded data removed]",
      "text/plain": [
       "<Figure size 700x700 with 1 Axes>"
      ]
     },
     "metadata": {},
     "output_type": "display_data"
    }
   ],
   "source": [
    "with sns.plotting_context(\"paper\", font_scale=1.5):\n",
    "    g = sns.displot(gene_corrs_flat, kde=True, height=7)\n",
    "    g.ax.set_title(\n",
    "        f\"Distribution of gene correlation values in chromosome {CHROMOSOME}\"\n",
    "    )"
   ]
  },
  {
   "cell_type": "markdown",
   "id": "cbd52bca-d878-4a2f-b684-5c83aa3038d4",
   "metadata": {
    "papermill": {
     "duration": 0.672538,
     "end_time": "2022-11-30T02:13:35.307012",
     "exception": false,
     "start_time": "2022-11-30T02:13:34.634474",
     "status": "completed"
    },
    "tags": []
   },
   "source": [
    "## Plot: heatmap"
   ]
  },
  {
   "cell_type": "code",
   "execution_count": 42,
   "id": "d03fe63a-c7b2-4fb9-a53c-db362ce843c9",
   "metadata": {
    "execution": {
     "iopub.execute_input": "2022-11-30T02:13:36.663622Z",
     "iopub.status.busy": "2022-11-30T02:13:36.662949Z",
     "iopub.status.idle": "2022-11-30T02:13:36.683170Z",
     "shell.execute_reply": "2022-11-30T02:13:36.682590Z"
    },
    "papermill": {
     "duration": 0.701118,
     "end_time": "2022-11-30T02:13:36.684076",
     "exception": false,
     "start_time": "2022-11-30T02:13:35.982958",
     "status": "completed"
    },
    "tags": []
   },
   "outputs": [
    {
     "data": {
      "text/plain": [
       "'0.0 / 0.05'"
      ]
     },
     "metadata": {},
     "output_type": "display_data"
    }
   ],
   "source": [
    "vmin_val = min(0.00, gene_corrs_quantiles[0.10])\n",
    "vmax_val = max(0.05, gene_corrs_quantiles[0.90])\n",
    "display(f\"{vmin_val} / {vmax_val}\")"
   ]
  },
  {
   "cell_type": "code",
   "execution_count": 43,
   "id": "dc41b70b-5bcc-4d9e-9f33-a22c4a94dab5",
   "metadata": {
    "execution": {
     "iopub.execute_input": "2022-11-30T02:13:38.092400Z",
     "iopub.status.busy": "2022-11-30T02:13:38.091991Z",
     "iopub.status.idle": "2022-11-30T02:13:38.292639Z",
     "shell.execute_reply": "2022-11-30T02:13:38.292084Z"
    },
    "papermill": {
     "duration": 0.939023,
     "end_time": "2022-11-30T02:13:38.294882",
     "exception": false,
     "start_time": "2022-11-30T02:13:37.355859",
     "status": "completed"
    },
    "tags": []
   },
   "outputs": [
    {
     "data": {
      "text/plain": [
       "Text(0.5, 1.0, 'Gene correlations in chromosome 15')"
      ]
     },
     "execution_count": 43,
     "metadata": {},
     "output_type": "execute_result"
    },
    {
     "data": {
      "image/png": "[encoded data removed]",
      "text/plain": [
       "<Figure size 1000x1000 with 2 Axes>"
      ]
     },
     "metadata": {},
     "output_type": "display_data"
    }
   ],
   "source": [
    "f, ax = plt.subplots(figsize=(10, 10))\n",
    "sns.heatmap(\n",
    "    gene_corrs_df,\n",
    "    xticklabels=False,\n",
    "    yticklabels=False,\n",
    "    square=True,\n",
    "    vmin=vmin_val,\n",
    "    vmax=vmax_val,\n",
    "    cmap=\"rocket_r\",\n",
    "    ax=ax,\n",
    ")\n",
    "ax.set_title(f\"Gene correlations in chromosome {CHROMOSOME}\")"
   ]
  },
  {
   "cell_type": "code",
   "execution_count": null,
   "id": "b25e3ead",
   "metadata": {
    "papermill": {
     "duration": 0.648645,
     "end_time": "2022-11-30T02:13:39.701203",
     "exception": false,
     "start_time": "2022-11-30T02:13:39.052558",
     "status": "completed"
    },
    "tags": []
   },
   "outputs": [],
   "source": []
  }
 ],
 "metadata": {
  "jupytext": {
   "cell_metadata_filter": "all,-execution,-papermill,-trusted",
   "formats": "ipynb,py//py:percent"
  },
  "kernelspec": {
   "display_name": "Python 3 (ipykernel)",
   "language": "python",
   "name": "python3"
  },
  "language_info": {
   "codemirror_mode": {
    "name": "ipython",
    "version": 3
   },
   "file_extension": ".py",
   "mimetype": "text/x-python",
   "name": "python",
   "nbconvert_exporter": "python",
   "pygments_lexer": "ipython3",
   "version": "3.10.6"
  },
  "papermill": {
   "default_parameters": {},
   "duration": 804.111551,
   "end_time": "2022-11-30T02:13:43.353359",
   "environment_variables": {},
   "exception": null,
   "input_path": "projects/asthma-copd/nbs/20_gene_corrs/10-gene_expr_correlations.ipynb",
   "output_path": "projects/asthma-copd/nbs/20_gene_corrs/gene_corrs/aco/10-gene_expr_correlations-chr15.run.ipynb",
   "parameters": {
    "CHROMOSOME": 15,
    "COHORT_NAME": "aco",
    "OUTPUT_DIR_BASE": "/opt/data/projects/asthma-copd/results/gls_phenoplier"
   },
   "start_time": "2022-11-30T02:00:19.241808",
   "version": "2.2.2"
  }
 },
 "nbformat": 4,
 "nbformat_minor": 5
}
