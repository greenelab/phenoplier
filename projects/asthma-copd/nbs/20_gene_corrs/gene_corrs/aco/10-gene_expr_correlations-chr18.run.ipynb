{
 "cells": [
  {
   "cell_type": "markdown",
   "id": "7a6632fb",
   "metadata": {
    "papermill": {
     "duration": 0.004984,
     "end_time": "2022-11-30T02:07:12.793681",
     "exception": false,
     "start_time": "2022-11-30T02:07:12.788697",
     "status": "completed"
    },
    "tags": []
   },
   "source": [
    "# Description"
   ]
  },
  {
   "cell_type": "markdown",
   "id": "7097c346",
   "metadata": {
    "papermill": {
     "duration": 0.004182,
     "end_time": "2022-11-30T02:07:12.807324",
     "exception": false,
     "start_time": "2022-11-30T02:07:12.803142",
     "status": "completed"
    },
    "tags": []
   },
   "source": [
    "(Please, take a look at the README.md file in this directory for instructions on how to run this notebook)\n",
    "\n",
    "This notebook computes predicted expression correlations between all genes in the MultiPLIER models.\n",
    "\n",
    "It has specicfic parameters for papermill (see under `Settings` below).\n",
    "It can be configured to run on a single chromosome to run in parallel.\n",
    "\n",
    "This notebook is not directly run. See README.md."
   ]
  },
  {
   "cell_type": "markdown",
   "id": "c61d8427",
   "metadata": {
    "papermill": {
     "duration": 0.004126,
     "end_time": "2022-11-30T02:07:12.815610",
     "exception": false,
     "start_time": "2022-11-30T02:07:12.811484",
     "status": "completed"
    },
    "tags": []
   },
   "source": [
    "# Modules"
   ]
  },
  {
   "cell_type": "code",
   "execution_count": 1,
   "id": "bbc0234f",
   "metadata": {
    "execution": {
     "iopub.execute_input": "2022-11-30T02:07:12.826228Z",
     "iopub.status.busy": "2022-11-30T02:07:12.825694Z",
     "iopub.status.idle": "2022-11-30T02:07:12.844220Z",
     "shell.execute_reply": "2022-11-30T02:07:12.843668Z"
    },
    "papermill": {
     "duration": 0.025514,
     "end_time": "2022-11-30T02:07:12.846045",
     "exception": false,
     "start_time": "2022-11-30T02:07:12.820531",
     "status": "completed"
    },
    "tags": []
   },
   "outputs": [],
   "source": [
    "%load_ext autoreload\n",
    "%autoreload 2"
   ]
  },
  {
   "cell_type": "code",
   "execution_count": 2,
   "id": "1d5f5a59",
   "metadata": {
    "execution": {
     "iopub.execute_input": "2022-11-30T02:07:12.866102Z",
     "iopub.status.busy": "2022-11-30T02:07:12.865791Z",
     "iopub.status.idle": "2022-11-30T02:07:13.594168Z",
     "shell.execute_reply": "2022-11-30T02:07:13.593641Z"
    },
    "papermill": {
     "duration": 0.740426,
     "end_time": "2022-11-30T02:07:13.596156",
     "exception": false,
     "start_time": "2022-11-30T02:07:12.855730",
     "status": "completed"
    },
    "tags": []
   },
   "outputs": [],
   "source": [
    "from random import sample, seed\n",
    "import warnings\n",
    "from pathlib import Path\n",
    "import pickle\n",
    "import traceback\n",
    "\n",
    "import numpy as np\n",
    "from scipy.spatial.distance import squareform\n",
    "import pandas as pd\n",
    "from tqdm import tqdm\n",
    "import matplotlib.pyplot as plt\n",
    "import seaborn as sns\n",
    "\n",
    "import conf\n",
    "from entity import Gene"
   ]
  },
  {
   "cell_type": "markdown",
   "id": "1eac24b5",
   "metadata": {
    "papermill": {
     "duration": 0.010074,
     "end_time": "2022-11-30T02:07:13.616053",
     "exception": false,
     "start_time": "2022-11-30T02:07:13.605979",
     "status": "completed"
    },
    "tags": []
   },
   "source": [
    "# Settings"
   ]
  },
  {
   "cell_type": "code",
   "execution_count": 3,
   "id": "ca4560ba",
   "metadata": {
    "execution": {
     "iopub.execute_input": "2022-11-30T02:07:13.633407Z",
     "iopub.status.busy": "2022-11-30T02:07:13.633261Z",
     "iopub.status.idle": "2022-11-30T02:07:13.646747Z",
     "shell.execute_reply": "2022-11-30T02:07:13.646158Z"
    },
    "papermill": {
     "duration": 0.023486,
     "end_time": "2022-11-30T02:07:13.647856",
     "exception": false,
     "start_time": "2022-11-30T02:07:13.624370",
     "status": "completed"
    },
    "tags": [
     "parameters"
    ]
   },
   "outputs": [],
   "source": [
    "# a cohort name (it could be something like UK_BIOBANK, etc)\n",
    "COHORT_NAME = None\n",
    "\n",
    "# reference panel such as 1000G or GTEX_V8\n",
    "REFERENCE_PANEL = \"GTEX_V8\"\n",
    "\n",
    "# predictions models such as MASHR or ELASTIC_NET\n",
    "EQTL_MODEL = \"MASHR\"\n",
    "\n",
    "# this is the default value used in S-MultiXcan to select the\n",
    "# top principal components of the expression correlation matrix\n",
    "SMULTIXCAN_CONDITION_NUMBER = 30\n",
    "\n",
    "# specifies a single chromosome value\n",
    "CHROMOSOME = None\n",
    "\n",
    "# If True, computes the correlation between closeby genes only;\n",
    "# otherwise, it computes correlations for all genes in a chromosome\n",
    "COMPUTE_CORRELATIONS_WITHIN_DISTANCE = False\n",
    "\n",
    "# if True, then it will continue if a gene pair correlation fails,\n",
    "# printing the warning/error for debugging. If False, any warning/error\n",
    "# will be thrown\n",
    "DEBUG_MODE = False\n",
    "\n",
    "# output dir\n",
    "OUTPUT_DIR_BASE = None"
   ]
  },
  {
   "cell_type": "code",
   "execution_count": 4,
   "id": "735b7a4e",
   "metadata": {
    "execution": {
     "iopub.execute_input": "2022-11-30T02:07:13.659169Z",
     "iopub.status.busy": "2022-11-30T02:07:13.658614Z",
     "iopub.status.idle": "2022-11-30T02:07:13.682807Z",
     "shell.execute_reply": "2022-11-30T02:07:13.682326Z"
    },
    "papermill": {
     "duration": 0.030697,
     "end_time": "2022-11-30T02:07:13.683823",
     "exception": false,
     "start_time": "2022-11-30T02:07:13.653126",
     "status": "completed"
    },
    "tags": [
     "injected-parameters"
    ]
   },
   "outputs": [],
   "source": [
    "# Parameters\n",
    "COHORT_NAME = \"aco\"\n",
    "CHROMOSOME = 18\n",
    "OUTPUT_DIR_BASE = \"/opt/data/projects/asthma-copd/results/gls_phenoplier\"\n"
   ]
  },
  {
   "cell_type": "code",
   "execution_count": 5,
   "id": "3190631f-27fc-480f-b18e-571d580425a5",
   "metadata": {
    "execution": {
     "iopub.execute_input": "2022-11-30T02:07:13.697871Z",
     "iopub.status.busy": "2022-11-30T02:07:13.697286Z",
     "iopub.status.idle": "2022-11-30T02:07:13.731399Z",
     "shell.execute_reply": "2022-11-30T02:07:13.730831Z"
    },
    "papermill": {
     "duration": 0.042783,
     "end_time": "2022-11-30T02:07:13.733041",
     "exception": false,
     "start_time": "2022-11-30T02:07:13.690258",
     "status": "completed"
    },
    "tags": []
   },
   "outputs": [
    {
     "data": {
      "text/plain": [
       "'Cohort name: aco'"
      ]
     },
     "metadata": {},
     "output_type": "display_data"
    }
   ],
   "source": [
    "assert COHORT_NAME is not None and len(COHORT_NAME) > 0, \"A cohort name must be given\"\n",
    "\n",
    "COHORT_NAME = COHORT_NAME.lower()\n",
    "display(f\"Cohort name: {COHORT_NAME}\")"
   ]
  },
  {
   "cell_type": "code",
   "execution_count": 6,
   "id": "f53ba19b-0f93-4fa2-a047-63b375939d1a",
   "metadata": {
    "execution": {
     "iopub.execute_input": "2022-11-30T02:07:13.753853Z",
     "iopub.status.busy": "2022-11-30T02:07:13.753391Z",
     "iopub.status.idle": "2022-11-30T02:07:13.775108Z",
     "shell.execute_reply": "2022-11-30T02:07:13.774503Z"
    },
    "papermill": {
     "duration": 0.033396,
     "end_time": "2022-11-30T02:07:13.776558",
     "exception": false,
     "start_time": "2022-11-30T02:07:13.743162",
     "status": "completed"
    },
    "tags": []
   },
   "outputs": [
    {
     "data": {
      "text/plain": [
       "'Reference panel: GTEX_V8'"
      ]
     },
     "metadata": {},
     "output_type": "display_data"
    }
   ],
   "source": [
    "assert (\n",
    "    REFERENCE_PANEL is not None and len(REFERENCE_PANEL) > 0\n",
    "), \"A reference panel must be given\"\n",
    "\n",
    "display(f\"Reference panel: {REFERENCE_PANEL}\")"
   ]
  },
  {
   "cell_type": "code",
   "execution_count": 7,
   "id": "e024d130-c139-429a-9c6e-ccf149e297b0",
   "metadata": {
    "execution": {
     "iopub.execute_input": "2022-11-30T02:07:13.794918Z",
     "iopub.status.busy": "2022-11-30T02:07:13.794536Z",
     "iopub.status.idle": "2022-11-30T02:07:13.816099Z",
     "shell.execute_reply": "2022-11-30T02:07:13.815515Z"
    },
    "papermill": {
     "duration": 0.032132,
     "end_time": "2022-11-30T02:07:13.817663",
     "exception": false,
     "start_time": "2022-11-30T02:07:13.785531",
     "status": "completed"
    },
    "tags": []
   },
   "outputs": [
    {
     "data": {
      "text/plain": [
       "'eQTL model: MASHR) / mashr_'"
      ]
     },
     "metadata": {},
     "output_type": "display_data"
    }
   ],
   "source": [
    "assert (\n",
    "    EQTL_MODEL is not None and len(EQTL_MODEL) > 0\n",
    "), \"A prediction/eQTL model must be given\"\n",
    "\n",
    "EQTL_MODEL_FILES_PREFIX = conf.PHENOMEXCAN[\"PREDICTION_MODELS\"][f\"{EQTL_MODEL}_PREFIX\"]\n",
    "display(f\"eQTL model: {EQTL_MODEL}) / {EQTL_MODEL_FILES_PREFIX}\")"
   ]
  },
  {
   "cell_type": "code",
   "execution_count": 8,
   "id": "552a7f63-a18c-4d3e-bb6a-94f99b431291",
   "metadata": {
    "execution": {
     "iopub.execute_input": "2022-11-30T02:07:13.838301Z",
     "iopub.status.busy": "2022-11-30T02:07:13.837829Z",
     "iopub.status.idle": "2022-11-30T02:07:13.859262Z",
     "shell.execute_reply": "2022-11-30T02:07:13.858729Z"
    },
    "papermill": {
     "duration": 0.03339,
     "end_time": "2022-11-30T02:07:13.860846",
     "exception": false,
     "start_time": "2022-11-30T02:07:13.827456",
     "status": "completed"
    },
    "tags": []
   },
   "outputs": [
    {
     "data": {
      "text/plain": [
       "'S-MultiXcan condition number: 30'"
      ]
     },
     "metadata": {},
     "output_type": "display_data"
    }
   ],
   "source": [
    "assert (\n",
    "    SMULTIXCAN_CONDITION_NUMBER is not None and SMULTIXCAN_CONDITION_NUMBER > 0\n",
    "), \"The S-MultiXcan condition number (positive integer) must be given\"\n",
    "\n",
    "display(f\"S-MultiXcan condition number: {SMULTIXCAN_CONDITION_NUMBER}\")"
   ]
  },
  {
   "cell_type": "code",
   "execution_count": 9,
   "id": "f34a336f-548e-4afe-8955-90eaea4f42c6",
   "metadata": {
    "execution": {
     "iopub.execute_input": "2022-11-30T02:07:13.883272Z",
     "iopub.status.busy": "2022-11-30T02:07:13.882748Z",
     "iopub.status.idle": "2022-11-30T02:07:13.905678Z",
     "shell.execute_reply": "2022-11-30T02:07:13.905130Z"
    },
    "papermill": {
     "duration": 0.036268,
     "end_time": "2022-11-30T02:07:13.907301",
     "exception": false,
     "start_time": "2022-11-30T02:07:13.871033",
     "status": "completed"
    },
    "tags": []
   },
   "outputs": [
    {
     "data": {
      "text/plain": [
       "'Working on chromosome 18'"
      ]
     },
     "metadata": {},
     "output_type": "display_data"
    }
   ],
   "source": [
    "assert CHROMOSOME is not None and (\n",
    "    1 <= CHROMOSOME <= 22\n",
    "), \"You have to select one chromosome (format: number between 1 and 22)\"\n",
    "\n",
    "# CHROMOSOME = str(CHROMOSOME)\n",
    "display(f\"Working on chromosome {CHROMOSOME}\")"
   ]
  },
  {
   "cell_type": "code",
   "execution_count": 10,
   "id": "ab8e96e8-06b5-4363-9dcd-dc4d78cc27f7",
   "metadata": {
    "execution": {
     "iopub.execute_input": "2022-11-30T02:07:13.929083Z",
     "iopub.status.busy": "2022-11-30T02:07:13.928620Z",
     "iopub.status.idle": "2022-11-30T02:07:13.953119Z",
     "shell.execute_reply": "2022-11-30T02:07:13.952498Z"
    },
    "papermill": {
     "duration": 0.036959,
     "end_time": "2022-11-30T02:07:13.954766",
     "exception": false,
     "start_time": "2022-11-30T02:07:13.917807",
     "status": "completed"
    },
    "tags": []
   },
   "outputs": [
    {
     "data": {
      "text/plain": [
       "'Compute correlation within distance False'"
      ]
     },
     "metadata": {},
     "output_type": "display_data"
    }
   ],
   "source": [
    "display(f\"Compute correlation within distance {COMPUTE_CORRELATIONS_WITHIN_DISTANCE}\")"
   ]
  },
  {
   "cell_type": "code",
   "execution_count": 11,
   "id": "b393b698-77e3-4ba2-8ac1-e14d51aa988f",
   "metadata": {
    "execution": {
     "iopub.execute_input": "2022-11-30T02:07:13.976686Z",
     "iopub.status.busy": "2022-11-30T02:07:13.976194Z",
     "iopub.status.idle": "2022-11-30T02:07:14.001715Z",
     "shell.execute_reply": "2022-11-30T02:07:14.001107Z"
    },
    "papermill": {
     "duration": 0.037885,
     "end_time": "2022-11-30T02:07:14.003110",
     "exception": false,
     "start_time": "2022-11-30T02:07:13.965225",
     "status": "completed"
    },
    "tags": []
   },
   "outputs": [
    {
     "data": {
      "text/plain": [
       "'Using output dir base: /opt/data/projects/asthma-copd/results/gls_phenoplier/gene_corrs/aco'"
      ]
     },
     "metadata": {},
     "output_type": "display_data"
    }
   ],
   "source": [
    "assert (\n",
    "    OUTPUT_DIR_BASE is not None and len(OUTPUT_DIR_BASE) > 0\n",
    "), \"Output directory path must be given\"\n",
    "\n",
    "OUTPUT_DIR_BASE = (\n",
    "    Path(OUTPUT_DIR_BASE)\n",
    "    / \"gene_corrs\"\n",
    "    / COHORT_NAME\n",
    "    # / REFERENCE_PANEL.lower()\n",
    "    # / EQTL_MODEL.lower()\n",
    ").resolve()\n",
    "\n",
    "OUTPUT_DIR_BASE.mkdir(parents=True, exist_ok=True)\n",
    "\n",
    "display(f\"Using output dir base: {OUTPUT_DIR_BASE}\")"
   ]
  },
  {
   "cell_type": "markdown",
   "id": "d2ba085e",
   "metadata": {
    "papermill": {
     "duration": 0.008603,
     "end_time": "2022-11-30T02:07:14.021413",
     "exception": false,
     "start_time": "2022-11-30T02:07:14.012810",
     "status": "completed"
    },
    "tags": []
   },
   "source": [
    "# Load data"
   ]
  },
  {
   "cell_type": "markdown",
   "id": "7dcb8db7",
   "metadata": {
    "papermill": {
     "duration": 0.008604,
     "end_time": "2022-11-30T02:07:14.038750",
     "exception": false,
     "start_time": "2022-11-30T02:07:14.030146",
     "status": "completed"
    },
    "tags": []
   },
   "source": [
    "## GWAS variants"
   ]
  },
  {
   "cell_type": "code",
   "execution_count": 12,
   "id": "29434c4e-8cd3-4b9b-82e4-b5a251d9dd19",
   "metadata": {
    "execution": {
     "iopub.execute_input": "2022-11-30T02:07:14.058670Z",
     "iopub.status.busy": "2022-11-30T02:07:14.058283Z",
     "iopub.status.idle": "2022-11-30T02:07:16.164754Z",
     "shell.execute_reply": "2022-11-30T02:07:16.164231Z"
    },
    "papermill": {
     "duration": 2.117569,
     "end_time": "2022-11-30T02:07:16.166472",
     "exception": false,
     "start_time": "2022-11-30T02:07:14.048903",
     "status": "completed"
    },
    "tags": []
   },
   "outputs": [],
   "source": [
    "with open(OUTPUT_DIR_BASE / \"gwas_variant_ids.pkl\", \"rb\") as handle:\n",
    "    gwas_variants_ids_set = pickle.load(handle)"
   ]
  },
  {
   "cell_type": "code",
   "execution_count": 13,
   "id": "b9d9dec2-4a76-4bf9-bde2-e24c95acb8a0",
   "metadata": {
    "execution": {
     "iopub.execute_input": "2022-11-30T02:07:16.186712Z",
     "iopub.status.busy": "2022-11-30T02:07:16.186581Z",
     "iopub.status.idle": "2022-11-30T02:07:16.200027Z",
     "shell.execute_reply": "2022-11-30T02:07:16.199601Z"
    },
    "papermill": {
     "duration": 0.025206,
     "end_time": "2022-11-30T02:07:16.201436",
     "exception": false,
     "start_time": "2022-11-30T02:07:16.176230",
     "status": "completed"
    },
    "tags": []
   },
   "outputs": [
    {
     "data": {
      "text/plain": [
       "8561476"
      ]
     },
     "execution_count": 13,
     "metadata": {},
     "output_type": "execute_result"
    }
   ],
   "source": [
    "len(gwas_variants_ids_set)"
   ]
  },
  {
   "cell_type": "code",
   "execution_count": 14,
   "id": "4235b06a-6034-4ee4-a0a3-2ae35d122418",
   "metadata": {
    "execution": {
     "iopub.execute_input": "2022-11-30T02:07:16.221999Z",
     "iopub.status.busy": "2022-11-30T02:07:16.221877Z",
     "iopub.status.idle": "2022-11-30T02:07:16.594743Z",
     "shell.execute_reply": "2022-11-30T02:07:16.594302Z"
    },
    "papermill": {
     "duration": 0.384903,
     "end_time": "2022-11-30T02:07:16.596122",
     "exception": false,
     "start_time": "2022-11-30T02:07:16.211219",
     "status": "completed"
    },
    "tags": []
   },
   "outputs": [
    {
     "data": {
      "text/plain": [
       "['chr10_90808588_A_G_b38',\n",
       " 'chr1_203638675_G_A_b38',\n",
       " 'chr7_15619412_A_G_b38',\n",
       " 'chr22_44178667_A_G_b38',\n",
       " 'chr12_99908695_C_T_b38']"
      ]
     },
     "execution_count": 14,
     "metadata": {},
     "output_type": "execute_result"
    }
   ],
   "source": [
    "list(gwas_variants_ids_set)[:5]"
   ]
  },
  {
   "cell_type": "markdown",
   "id": "07866999-2305-41f9-a144-e69c9122c212",
   "metadata": {
    "papermill": {
     "duration": 0.009617,
     "end_time": "2022-11-30T02:07:16.615769",
     "exception": false,
     "start_time": "2022-11-30T02:07:16.606152",
     "status": "completed"
    },
    "tags": []
   },
   "source": [
    "## S-PrediXcan tissue models"
   ]
  },
  {
   "cell_type": "code",
   "execution_count": 15,
   "id": "780611d9-77c8-405f-90a4-f271f7b09397",
   "metadata": {
    "execution": {
     "iopub.execute_input": "2022-11-30T02:07:16.639857Z",
     "iopub.status.busy": "2022-11-30T02:07:16.639671Z",
     "iopub.status.idle": "2022-11-30T02:07:17.255039Z",
     "shell.execute_reply": "2022-11-30T02:07:17.254587Z"
    },
    "papermill": {
     "duration": 0.628736,
     "end_time": "2022-11-30T02:07:17.256769",
     "exception": false,
     "start_time": "2022-11-30T02:07:16.628033",
     "status": "completed"
    },
    "tags": []
   },
   "outputs": [],
   "source": [
    "spredixcan_genes_models = pd.read_pickle(OUTPUT_DIR_BASE / \"gene_tissues.pkl\")"
   ]
  },
  {
   "cell_type": "code",
   "execution_count": 16,
   "id": "726dd1f6-9557-4225-91fa-b3b879ea96e1",
   "metadata": {
    "execution": {
     "iopub.execute_input": "2022-11-30T02:07:17.278495Z",
     "iopub.status.busy": "2022-11-30T02:07:17.278347Z",
     "iopub.status.idle": "2022-11-30T02:07:17.292067Z",
     "shell.execute_reply": "2022-11-30T02:07:17.291665Z"
    },
    "papermill": {
     "duration": 0.026609,
     "end_time": "2022-11-30T02:07:17.293429",
     "exception": false,
     "start_time": "2022-11-30T02:07:17.266820",
     "status": "completed"
    },
    "tags": []
   },
   "outputs": [
    {
     "data": {
      "text/plain": [
       "(6442, 5)"
      ]
     },
     "execution_count": 16,
     "metadata": {},
     "output_type": "execute_result"
    }
   ],
   "source": [
    "spredixcan_genes_models.shape"
   ]
  },
  {
   "cell_type": "code",
   "execution_count": 17,
   "id": "944a1b48-222c-4eb0-b252-b9de2cbca215",
   "metadata": {
    "execution": {
     "iopub.execute_input": "2022-11-30T02:07:17.314673Z",
     "iopub.status.busy": "2022-11-30T02:07:17.314540Z",
     "iopub.status.idle": "2022-11-30T02:07:17.333194Z",
     "shell.execute_reply": "2022-11-30T02:07:17.332779Z"
    },
    "papermill": {
     "duration": 0.03103,
     "end_time": "2022-11-30T02:07:17.334551",
     "exception": false,
     "start_time": "2022-11-30T02:07:17.303521",
     "status": "completed"
    },
    "tags": []
   },
   "outputs": [
    {
     "data": {
      "text/html": [
       "<div>\n",
       "<style scoped>\n",
       "    .dataframe tbody tr th:only-of-type {\n",
       "        vertical-align: middle;\n",
       "    }\n",
       "\n",
       "    .dataframe tbody tr th {\n",
       "        vertical-align: top;\n",
       "    }\n",
       "\n",
       "    .dataframe thead th {\n",
       "        text-align: right;\n",
       "    }\n",
       "</style>\n",
       "<table border=\"1\" class=\"dataframe\">\n",
       "  <thead>\n",
       "    <tr style=\"text-align: right;\">\n",
       "      <th></th>\n",
       "      <th>gene_name</th>\n",
       "      <th>tissue</th>\n",
       "      <th>n_tissues</th>\n",
       "      <th>n_snps_used_sum</th>\n",
       "      <th>n_snps_in_model_sum</th>\n",
       "    </tr>\n",
       "    <tr>\n",
       "      <th>gene_id</th>\n",
       "      <th></th>\n",
       "      <th></th>\n",
       "      <th></th>\n",
       "      <th></th>\n",
       "      <th></th>\n",
       "    </tr>\n",
       "  </thead>\n",
       "  <tbody>\n",
       "    <tr>\n",
       "      <th>ENSG00000000419</th>\n",
       "      <td>DPM1</td>\n",
       "      <td>(Brain_Hypothalamus, Brain_Substantia_nigra)</td>\n",
       "      <td>2</td>\n",
       "      <td>2</td>\n",
       "      <td>2</td>\n",
       "    </tr>\n",
       "    <tr>\n",
       "      <th>ENSG00000000938</th>\n",
       "      <td>FGR</td>\n",
       "      <td>(Thyroid, Colon_Sigmoid, Liver, Spleen, Skin_S...</td>\n",
       "      <td>36</td>\n",
       "      <td>40</td>\n",
       "      <td>40</td>\n",
       "    </tr>\n",
       "    <tr>\n",
       "      <th>ENSG00000000971</th>\n",
       "      <td>CFH</td>\n",
       "      <td>(Thyroid, Colon_Sigmoid, Skin_Sun_Exposed_Lowe...</td>\n",
       "      <td>34</td>\n",
       "      <td>44</td>\n",
       "      <td>44</td>\n",
       "    </tr>\n",
       "    <tr>\n",
       "      <th>ENSG00000001084</th>\n",
       "      <td>GCLC</td>\n",
       "      <td>(Thyroid, Brain_Amygdala, Spleen, Skin_Sun_Exp...</td>\n",
       "      <td>32</td>\n",
       "      <td>46</td>\n",
       "      <td>46</td>\n",
       "    </tr>\n",
       "    <tr>\n",
       "      <th>ENSG00000001167</th>\n",
       "      <td>NFYA</td>\n",
       "      <td>(Thyroid, Colon_Sigmoid, Skin_Sun_Exposed_Lowe...</td>\n",
       "      <td>40</td>\n",
       "      <td>47</td>\n",
       "      <td>48</td>\n",
       "    </tr>\n",
       "  </tbody>\n",
       "</table>\n",
       "</div>"
      ],
      "text/plain": [
       "                gene_name                                             tissue  \\\n",
       "gene_id                                                                        \n",
       "ENSG00000000419      DPM1       (Brain_Hypothalamus, Brain_Substantia_nigra)   \n",
       "ENSG00000000938       FGR  (Thyroid, Colon_Sigmoid, Liver, Spleen, Skin_S...   \n",
       "ENSG00000000971       CFH  (Thyroid, Colon_Sigmoid, Skin_Sun_Exposed_Lowe...   \n",
       "ENSG00000001084      GCLC  (Thyroid, Brain_Amygdala, Spleen, Skin_Sun_Exp...   \n",
       "ENSG00000001167      NFYA  (Thyroid, Colon_Sigmoid, Skin_Sun_Exposed_Lowe...   \n",
       "\n",
       "                 n_tissues  n_snps_used_sum  n_snps_in_model_sum  \n",
       "gene_id                                                           \n",
       "ENSG00000000419          2                2                    2  \n",
       "ENSG00000000938         36               40                   40  \n",
       "ENSG00000000971         34               44                   44  \n",
       "ENSG00000001084         32               46                   46  \n",
       "ENSG00000001167         40               47                   48  "
      ]
     },
     "execution_count": 17,
     "metadata": {},
     "output_type": "execute_result"
    }
   ],
   "source": [
    "spredixcan_genes_models.head()"
   ]
  },
  {
   "cell_type": "code",
   "execution_count": 18,
   "id": "d1c11bb1-be0b-4f40-b360-633d6827109f",
   "metadata": {
    "execution": {
     "iopub.execute_input": "2022-11-30T02:07:17.357004Z",
     "iopub.status.busy": "2022-11-30T02:07:17.356860Z",
     "iopub.status.idle": "2022-11-30T02:07:17.371007Z",
     "shell.execute_reply": "2022-11-30T02:07:17.370590Z"
    },
    "papermill": {
     "duration": 0.026131,
     "end_time": "2022-11-30T02:07:17.372407",
     "exception": false,
     "start_time": "2022-11-30T02:07:17.346276",
     "status": "completed"
    },
    "tags": []
   },
   "outputs": [],
   "source": [
    "assert spredixcan_genes_models.index.is_unique"
   ]
  },
  {
   "cell_type": "markdown",
   "id": "a5b5092c-a13e-47c4-a92a-480fcc08f3ae",
   "metadata": {
    "papermill": {
     "duration": 0.010416,
     "end_time": "2022-11-30T02:07:17.393418",
     "exception": false,
     "start_time": "2022-11-30T02:07:17.383002",
     "status": "completed"
    },
    "tags": []
   },
   "source": [
    "## Gene info"
   ]
  },
  {
   "cell_type": "code",
   "execution_count": 19,
   "id": "7d6bb224-88e9-4358-ac10-43a41d92cdad",
   "metadata": {
    "execution": {
     "iopub.execute_input": "2022-11-30T02:07:17.414575Z",
     "iopub.status.busy": "2022-11-30T02:07:17.414390Z",
     "iopub.status.idle": "2022-11-30T02:07:17.434686Z",
     "shell.execute_reply": "2022-11-30T02:07:17.434119Z"
    },
    "papermill": {
     "duration": 0.032635,
     "end_time": "2022-11-30T02:07:17.436414",
     "exception": false,
     "start_time": "2022-11-30T02:07:17.403779",
     "status": "completed"
    },
    "tags": []
   },
   "outputs": [],
   "source": [
    "genes_info = pd.read_pickle(OUTPUT_DIR_BASE / \"genes_info.pkl\")"
   ]
  },
  {
   "cell_type": "code",
   "execution_count": 20,
   "id": "9e32abfa-546d-483e-8c18-d526e9e05903",
   "metadata": {
    "execution": {
     "iopub.execute_input": "2022-11-30T02:07:17.460633Z",
     "iopub.status.busy": "2022-11-30T02:07:17.460395Z",
     "iopub.status.idle": "2022-11-30T02:07:17.477788Z",
     "shell.execute_reply": "2022-11-30T02:07:17.477286Z"
    },
    "papermill": {
     "duration": 0.031172,
     "end_time": "2022-11-30T02:07:17.479301",
     "exception": false,
     "start_time": "2022-11-30T02:07:17.448129",
     "status": "completed"
    },
    "tags": []
   },
   "outputs": [
    {
     "data": {
      "text/plain": [
       "(6442, 7)"
      ]
     },
     "execution_count": 20,
     "metadata": {},
     "output_type": "execute_result"
    }
   ],
   "source": [
    "genes_info.shape"
   ]
  },
  {
   "cell_type": "code",
   "execution_count": 21,
   "id": "d16c3e92-85ec-468a-9a56-e25a9774a1cb",
   "metadata": {
    "execution": {
     "iopub.execute_input": "2022-11-30T02:07:17.504531Z",
     "iopub.status.busy": "2022-11-30T02:07:17.504281Z",
     "iopub.status.idle": "2022-11-30T02:07:17.530847Z",
     "shell.execute_reply": "2022-11-30T02:07:17.530208Z"
    },
    "papermill": {
     "duration": 0.040166,
     "end_time": "2022-11-30T02:07:17.532511",
     "exception": false,
     "start_time": "2022-11-30T02:07:17.492345",
     "status": "completed"
    },
    "tags": []
   },
   "outputs": [
    {
     "data": {
      "text/html": [
       "<div>\n",
       "<style scoped>\n",
       "    .dataframe tbody tr th:only-of-type {\n",
       "        vertical-align: middle;\n",
       "    }\n",
       "\n",
       "    .dataframe tbody tr th {\n",
       "        vertical-align: top;\n",
       "    }\n",
       "\n",
       "    .dataframe thead th {\n",
       "        text-align: right;\n",
       "    }\n",
       "</style>\n",
       "<table border=\"1\" class=\"dataframe\">\n",
       "  <thead>\n",
       "    <tr style=\"text-align: right;\">\n",
       "      <th></th>\n",
       "      <th>name</th>\n",
       "      <th>id</th>\n",
       "      <th>chr</th>\n",
       "      <th>band</th>\n",
       "      <th>start_position</th>\n",
       "      <th>end_position</th>\n",
       "      <th>gene_length</th>\n",
       "    </tr>\n",
       "  </thead>\n",
       "  <tbody>\n",
       "    <tr>\n",
       "      <th>0</th>\n",
       "      <td>IFIT3</td>\n",
       "      <td>ENSG00000119917</td>\n",
       "      <td>10</td>\n",
       "      <td>10q23.31</td>\n",
       "      <td>89327997</td>\n",
       "      <td>89340971</td>\n",
       "      <td>12974</td>\n",
       "    </tr>\n",
       "    <tr>\n",
       "      <th>1</th>\n",
       "      <td>ZFP36</td>\n",
       "      <td>ENSG00000128016</td>\n",
       "      <td>19</td>\n",
       "      <td>19q13.2</td>\n",
       "      <td>39406813</td>\n",
       "      <td>39409412</td>\n",
       "      <td>2599</td>\n",
       "    </tr>\n",
       "    <tr>\n",
       "      <th>2</th>\n",
       "      <td>ZNF597</td>\n",
       "      <td>ENSG00000167981</td>\n",
       "      <td>16</td>\n",
       "      <td>16p13.3</td>\n",
       "      <td>3432414</td>\n",
       "      <td>3443504</td>\n",
       "      <td>11090</td>\n",
       "    </tr>\n",
       "    <tr>\n",
       "      <th>3</th>\n",
       "      <td>AGPS</td>\n",
       "      <td>ENSG00000018510</td>\n",
       "      <td>2</td>\n",
       "      <td>2q31.2</td>\n",
       "      <td>177392768</td>\n",
       "      <td>177559299</td>\n",
       "      <td>166531</td>\n",
       "    </tr>\n",
       "    <tr>\n",
       "      <th>4</th>\n",
       "      <td>CDK2</td>\n",
       "      <td>ENSG00000123374</td>\n",
       "      <td>12</td>\n",
       "      <td>12q13.2</td>\n",
       "      <td>55966781</td>\n",
       "      <td>55972789</td>\n",
       "      <td>6008</td>\n",
       "    </tr>\n",
       "  </tbody>\n",
       "</table>\n",
       "</div>"
      ],
      "text/plain": [
       "     name               id  chr      band  start_position  end_position  \\\n",
       "0   IFIT3  ENSG00000119917   10  10q23.31        89327997      89340971   \n",
       "1   ZFP36  ENSG00000128016   19   19q13.2        39406813      39409412   \n",
       "2  ZNF597  ENSG00000167981   16   16p13.3         3432414       3443504   \n",
       "3    AGPS  ENSG00000018510    2    2q31.2       177392768     177559299   \n",
       "4    CDK2  ENSG00000123374   12   12q13.2        55966781      55972789   \n",
       "\n",
       "   gene_length  \n",
       "0        12974  \n",
       "1         2599  \n",
       "2        11090  \n",
       "3       166531  \n",
       "4         6008  "
      ]
     },
     "execution_count": 21,
     "metadata": {},
     "output_type": "execute_result"
    }
   ],
   "source": [
    "genes_info.head()"
   ]
  },
  {
   "cell_type": "markdown",
   "id": "d3843e06",
   "metadata": {
    "papermill": {
     "duration": 0.00983,
     "end_time": "2022-11-30T02:07:17.554507",
     "exception": false,
     "start_time": "2022-11-30T02:07:17.544677",
     "status": "completed"
    },
    "tags": []
   },
   "source": [
    "# Compute correlations"
   ]
  },
  {
   "cell_type": "code",
   "execution_count": 22,
   "id": "cb859c15-d1f3-4006-a74c-2b83c0db9611",
   "metadata": {
    "execution": {
     "iopub.execute_input": "2022-11-30T02:07:17.575176Z",
     "iopub.status.busy": "2022-11-30T02:07:17.574887Z",
     "iopub.status.idle": "2022-11-30T02:07:17.596867Z",
     "shell.execute_reply": "2022-11-30T02:07:17.596221Z"
    },
    "papermill": {
     "duration": 0.03403,
     "end_time": "2022-11-30T02:07:17.598355",
     "exception": false,
     "start_time": "2022-11-30T02:07:17.564325",
     "status": "completed"
    },
    "tags": []
   },
   "outputs": [
    {
     "data": {
      "text/plain": [
       "PosixPath('/opt/data/projects/asthma-copd/results/gls_phenoplier/gene_corrs/aco/by_chr/gene_corrs-chr18.pkl')"
      ]
     },
     "metadata": {},
     "output_type": "display_data"
    }
   ],
   "source": [
    "output_dir = OUTPUT_DIR_BASE / \"by_chr\"\n",
    "output_dir.mkdir(exist_ok=True, parents=True)\n",
    "output_file = output_dir / f\"gene_corrs-chr{CHROMOSOME}.pkl\"\n",
    "display(output_file)"
   ]
  },
  {
   "cell_type": "code",
   "execution_count": 23,
   "id": "aa674fe4-6794-4eed-98fa-32b39d1d4ace",
   "metadata": {
    "execution": {
     "iopub.execute_input": "2022-11-30T02:07:17.624019Z",
     "iopub.status.busy": "2022-11-30T02:07:17.623742Z",
     "iopub.status.idle": "2022-11-30T02:07:17.643958Z",
     "shell.execute_reply": "2022-11-30T02:07:17.643313Z"
    },
    "papermill": {
     "duration": 0.034406,
     "end_time": "2022-11-30T02:07:17.645505",
     "exception": false,
     "start_time": "2022-11-30T02:07:17.611099",
     "status": "completed"
    },
    "tags": []
   },
   "outputs": [],
   "source": [
    "warnings.filterwarnings(\"error\")"
   ]
  },
  {
   "cell_type": "code",
   "execution_count": 24,
   "id": "44d5450b-3baf-43f1-9e2e-4b06f1a785f8",
   "metadata": {
    "execution": {
     "iopub.execute_input": "2022-11-30T02:07:17.667116Z",
     "iopub.status.busy": "2022-11-30T02:07:17.666847Z",
     "iopub.status.idle": "2022-11-30T02:07:17.687696Z",
     "shell.execute_reply": "2022-11-30T02:07:17.687037Z"
    },
    "papermill": {
     "duration": 0.03353,
     "end_time": "2022-11-30T02:07:17.689280",
     "exception": false,
     "start_time": "2022-11-30T02:07:17.655750",
     "status": "completed"
    },
    "tags": []
   },
   "outputs": [],
   "source": [
    "# standard checks\n",
    "all_chrs = genes_info[\"chr\"].dropna().unique()\n",
    "assert all_chrs.shape[0] == 22\n",
    "\n",
    "# select chromosome given by the user\n",
    "assert CHROMOSOME in all_chrs"
   ]
  },
  {
   "cell_type": "code",
   "execution_count": 25,
   "id": "2d7c043c-92a7-4d35-991b-fa69ac1e0268",
   "metadata": {
    "execution": {
     "iopub.execute_input": "2022-11-30T02:07:17.710948Z",
     "iopub.status.busy": "2022-11-30T02:07:17.710684Z",
     "iopub.status.idle": "2022-11-30T02:07:17.732929Z",
     "shell.execute_reply": "2022-11-30T02:07:17.732267Z"
    },
    "papermill": {
     "duration": 0.034449,
     "end_time": "2022-11-30T02:07:17.734354",
     "exception": false,
     "start_time": "2022-11-30T02:07:17.699905",
     "status": "completed"
    },
    "tags": []
   },
   "outputs": [
    {
     "name": "stdout",
     "output_type": "stream",
     "text": [
      "Number of genes in chromosome: 96\n"
     ]
    }
   ],
   "source": [
    "# run only on the chromosome specified\n",
    "all_chrs = [CHROMOSOME]\n",
    "genes_chr = genes_info[genes_info[\"chr\"] == CHROMOSOME]\n",
    "\n",
    "# For testing purposes\n",
    "# genes_chr = genes_chr.sample(n=20)\n",
    "\n",
    "print(f\"Number of genes in chromosome: {genes_chr.shape[0]}\", flush=True)"
   ]
  },
  {
   "cell_type": "code",
   "execution_count": 26,
   "id": "916015d8-2979-46d3-a9b9-1cf5a0932c6a",
   "metadata": {
    "execution": {
     "iopub.execute_input": "2022-11-30T02:07:17.756318Z",
     "iopub.status.busy": "2022-11-30T02:07:17.756050Z",
     "iopub.status.idle": "2022-11-30T02:07:17.776950Z",
     "shell.execute_reply": "2022-11-30T02:07:17.776281Z"
    },
    "papermill": {
     "duration": 0.033789,
     "end_time": "2022-11-30T02:07:17.778477",
     "exception": false,
     "start_time": "2022-11-30T02:07:17.744688",
     "status": "completed"
    },
    "tags": []
   },
   "outputs": [],
   "source": [
    "# sort genes by starting position to make visualizations better later\n",
    "genes_chr = genes_chr.sort_values(\"start_position\")"
   ]
  },
  {
   "cell_type": "code",
   "execution_count": 27,
   "id": "a38aa74a-8ad3-47f6-8ef9-56be0e011774",
   "metadata": {
    "execution": {
     "iopub.execute_input": "2022-11-30T02:07:17.799965Z",
     "iopub.status.busy": "2022-11-30T02:07:17.799695Z",
     "iopub.status.idle": "2022-11-30T02:07:17.820289Z",
     "shell.execute_reply": "2022-11-30T02:07:17.819642Z"
    },
    "papermill": {
     "duration": 0.03294,
     "end_time": "2022-11-30T02:07:17.821809",
     "exception": false,
     "start_time": "2022-11-30T02:07:17.788869",
     "status": "completed"
    },
    "tags": []
   },
   "outputs": [],
   "source": [
    "gene_chr_objs = [Gene(ensembl_id=gene_id) for gene_id in genes_chr[\"id\"]]"
   ]
  },
  {
   "cell_type": "code",
   "execution_count": 28,
   "id": "570f974f-13c3-42b6-ad3a-ce99ca885c1a",
   "metadata": {
    "execution": {
     "iopub.execute_input": "2022-11-30T02:07:17.843860Z",
     "iopub.status.busy": "2022-11-30T02:07:17.843579Z",
     "iopub.status.idle": "2022-11-30T02:07:17.864673Z",
     "shell.execute_reply": "2022-11-30T02:07:17.864013Z"
    },
    "papermill": {
     "duration": 0.033469,
     "end_time": "2022-11-30T02:07:17.866146",
     "exception": false,
     "start_time": "2022-11-30T02:07:17.832677",
     "status": "completed"
    },
    "tags": []
   },
   "outputs": [
    {
     "name": "stdout",
     "output_type": "stream",
     "text": [
      "Number of gene combinations: 4656\n"
     ]
    }
   ],
   "source": [
    "n = len(gene_chr_objs)\n",
    "# diagonal elements + upper triangular matrix\n",
    "n_comb = n + int(n * (n - 1) / 2.0)\n",
    "print(f\"Number of gene combinations: {n_comb}\", flush=True)"
   ]
  },
  {
   "cell_type": "code",
   "execution_count": 29,
   "id": "cdbb90a1",
   "metadata": {
    "execution": {
     "iopub.execute_input": "2022-11-30T02:07:17.888086Z",
     "iopub.status.busy": "2022-11-30T02:07:17.887827Z",
     "iopub.status.idle": "2022-11-30T02:10:49.103724Z",
     "shell.execute_reply": "2022-11-30T02:10:49.103167Z"
    },
    "papermill": {
     "duration": 211.242263,
     "end_time": "2022-11-30T02:10:49.118947",
     "exception": false,
     "start_time": "2022-11-30T02:07:17.876684",
     "status": "completed"
    },
    "tags": []
   },
   "outputs": [
    {
     "name": "stderr",
     "output_type": "stream",
     "text": [
      "ENSG00000178184 / ENSG00000178184: 100%|████████████████████████| 4656/4656 [03:31<00:00, 22.05it/s]\n"
     ]
    },
    {
     "data": {
      "text/plain": [
       "PosixPath('/opt/data/projects/asthma-copd/results/gls_phenoplier/gene_corrs/aco/by_chr/gene_corrs-chr18.pkl')"
      ]
     },
     "metadata": {},
     "output_type": "display_data"
    }
   ],
   "source": [
    "gene_corrs = []\n",
    "gene_corrs_data = np.full(\n",
    "    (n, n),\n",
    "    np.nan,\n",
    "    dtype=np.float64,\n",
    ")\n",
    "\n",
    "i = 0\n",
    "with tqdm(ncols=100, total=n_comb) as pbar:\n",
    "    for gene1_idx in range(0, len(gene_chr_objs)):\n",
    "        gene1_obj = gene_chr_objs[gene1_idx]\n",
    "        gene1_tissues = spredixcan_genes_models.loc[gene1_obj.ensembl_id, \"tissue\"]\n",
    "\n",
    "        for gene2_idx in range(gene1_idx, len(gene_chr_objs)):\n",
    "            gene2_obj = gene_chr_objs[gene2_idx]\n",
    "            gene2_tissues = spredixcan_genes_models.loc[gene2_obj.ensembl_id, \"tissue\"]\n",
    "\n",
    "            pbar.set_description(f\"{gene1_obj.ensembl_id} / {gene2_obj.ensembl_id}\")\n",
    "\n",
    "            try:\n",
    "                r = gene1_obj.get_ssm_correlation(\n",
    "                    other_gene=gene2_obj,\n",
    "                    tissues=gene1_tissues,\n",
    "                    other_tissues=gene2_tissues,\n",
    "                    snps_subset=gwas_variants_ids_set,\n",
    "                    condition_number=SMULTIXCAN_CONDITION_NUMBER,\n",
    "                    reference_panel=REFERENCE_PANEL,\n",
    "                    model_type=EQTL_MODEL,\n",
    "                    use_within_distance=COMPUTE_CORRELATIONS_WITHIN_DISTANCE,\n",
    "                )\n",
    "\n",
    "                if r is None:\n",
    "                    # if r is None, it's very likely because:\n",
    "                    #  * one of the genes has no prediction models\n",
    "                    #  * all the SNPs predictors for the gene are not present in the reference\n",
    "                    #    panel\n",
    "\n",
    "                    r = 0.0\n",
    "\n",
    "                gene_corrs.append(r)\n",
    "\n",
    "                gene_corrs_data[gene1_idx, gene2_idx] = r\n",
    "                gene_corrs_data[gene2_idx, gene1_idx] = r\n",
    "            except Warning as e:\n",
    "                if not DEBUG_MODE:\n",
    "                    raise e\n",
    "\n",
    "                print(\n",
    "                    f\"RuntimeWarning for genes {gene1_obj.ensembl_id} and {gene2_obj.ensembl_id}\",\n",
    "                    flush=True,\n",
    "                )\n",
    "                print(traceback.format_exc(), flush=True)\n",
    "\n",
    "                gene_corrs.append(np.nan)\n",
    "            except Exception as e:\n",
    "                if not DEBUG_MODE:\n",
    "                    raise e\n",
    "\n",
    "                print(\n",
    "                    f\"Exception for genes {gene1_obj.ensembl_id} and {gene2_obj.ensembl_id}\",\n",
    "                    flush=True,\n",
    "                )\n",
    "                print(traceback.format_exc(), flush=True)\n",
    "\n",
    "                gene_corrs.append(np.nan)\n",
    "\n",
    "            pbar.update(1)\n",
    "\n",
    "# create a pandas series\n",
    "gene_corrs_flat = pd.Series(gene_corrs)\n",
    "\n",
    "# save\n",
    "# FIXME: consider saving only the condenced matrix here. See here for\n",
    "# more details: https://github.com/greenelab/phenoplier/pull/38#discussion_r634600813\n",
    "# gene_corrs_data = squareform(np.array(gene_corrs, dtype=np.float64))\n",
    "# np.fill_diagonal(gene_corrs_data, 1.0)\n",
    "\n",
    "gene_chr_ids = [g.ensembl_id for g in gene_chr_objs]\n",
    "gene_corrs_df = pd.DataFrame(\n",
    "    data=gene_corrs_data,\n",
    "    index=gene_chr_ids,\n",
    "    columns=gene_chr_ids,\n",
    ")\n",
    "\n",
    "output_dir.mkdir(exist_ok=True, parents=True)\n",
    "display(output_file)\n",
    "\n",
    "gene_corrs_df.to_pickle(output_file)"
   ]
  },
  {
   "cell_type": "markdown",
   "id": "faa67b51-5373-470f-aa72-2ded53fa6dfe",
   "metadata": {
    "papermill": {
     "duration": 0.176845,
     "end_time": "2022-11-30T02:10:49.477172",
     "exception": false,
     "start_time": "2022-11-30T02:10:49.300327",
     "status": "completed"
    },
    "tags": []
   },
   "source": [
    "# Testing"
   ]
  },
  {
   "cell_type": "code",
   "execution_count": 30,
   "id": "14f7d046-4b55-4896-a56b-990127bcc388",
   "metadata": {
    "execution": {
     "iopub.execute_input": "2022-11-30T02:10:49.854761Z",
     "iopub.status.busy": "2022-11-30T02:10:49.854464Z",
     "iopub.status.idle": "2022-11-30T02:10:49.869140Z",
     "shell.execute_reply": "2022-11-30T02:10:49.868612Z"
    },
    "papermill": {
     "duration": 0.189831,
     "end_time": "2022-11-30T02:10:49.870043",
     "exception": false,
     "start_time": "2022-11-30T02:10:49.680212",
     "status": "completed"
    },
    "tags": []
   },
   "outputs": [
    {
     "data": {
      "text/plain": [
       "(96, 96)"
      ]
     },
     "execution_count": 30,
     "metadata": {},
     "output_type": "execute_result"
    }
   ],
   "source": [
    "gene_corrs_df.shape"
   ]
  },
  {
   "cell_type": "code",
   "execution_count": 31,
   "id": "c7d15414-3297-4537-a7c6-7588c0baeb75",
   "metadata": {
    "execution": {
     "iopub.execute_input": "2022-11-30T02:10:50.244051Z",
     "iopub.status.busy": "2022-11-30T02:10:50.243764Z",
     "iopub.status.idle": "2022-11-30T02:10:50.266679Z",
     "shell.execute_reply": "2022-11-30T02:10:50.266140Z"
    },
    "papermill": {
     "duration": 0.224365,
     "end_time": "2022-11-30T02:10:50.267673",
     "exception": false,
     "start_time": "2022-11-30T02:10:50.043308",
     "status": "completed"
    },
    "tags": []
   },
   "outputs": [
    {
     "data": {
      "text/html": [
       "<div>\n",
       "<style scoped>\n",
       "    .dataframe tbody tr th:only-of-type {\n",
       "        vertical-align: middle;\n",
       "    }\n",
       "\n",
       "    .dataframe tbody tr th {\n",
       "        vertical-align: top;\n",
       "    }\n",
       "\n",
       "    .dataframe thead th {\n",
       "        text-align: right;\n",
       "    }\n",
       "</style>\n",
       "<table border=\"1\" class=\"dataframe\">\n",
       "  <thead>\n",
       "    <tr style=\"text-align: right;\">\n",
       "      <th></th>\n",
       "      <th>ENSG00000079134</th>\n",
       "      <th>ENSG00000158270</th>\n",
       "      <th>ENSG00000176890</th>\n",
       "      <th>ENSG00000176105</th>\n",
       "      <th>ENSG00000080986</th>\n",
       "      <th>ENSG00000132205</th>\n",
       "      <th>ENSG00000101577</th>\n",
       "      <th>ENSG00000101608</th>\n",
       "      <th>ENSG00000118680</th>\n",
       "      <th>ENSG00000177426</th>\n",
       "      <th>...</th>\n",
       "      <th>ENSG00000166347</th>\n",
       "      <th>ENSG00000133313</th>\n",
       "      <th>ENSG00000166573</th>\n",
       "      <th>ENSG00000166377</th>\n",
       "      <th>ENSG00000131196</th>\n",
       "      <th>ENSG00000060069</th>\n",
       "      <th>ENSG00000178342</th>\n",
       "      <th>ENSG00000122490</th>\n",
       "      <th>ENSG00000141759</th>\n",
       "      <th>ENSG00000178184</th>\n",
       "    </tr>\n",
       "  </thead>\n",
       "  <tbody>\n",
       "    <tr>\n",
       "      <th>ENSG00000079134</th>\n",
       "      <td>1.000000</td>\n",
       "      <td>0.029305</td>\n",
       "      <td>0.013882</td>\n",
       "      <td>0.005950</td>\n",
       "      <td>0.005183</td>\n",
       "      <td>0.012414</td>\n",
       "      <td>0.009022</td>\n",
       "      <td>0.009353</td>\n",
       "      <td>0.008122</td>\n",
       "      <td>0.010012</td>\n",
       "      <td>...</td>\n",
       "      <td>0.008819</td>\n",
       "      <td>0.006327</td>\n",
       "      <td>0.007683</td>\n",
       "      <td>0.010245</td>\n",
       "      <td>0.011527</td>\n",
       "      <td>0.003797</td>\n",
       "      <td>0.009355</td>\n",
       "      <td>0.013356</td>\n",
       "      <td>0.008738</td>\n",
       "      <td>0.006180</td>\n",
       "    </tr>\n",
       "    <tr>\n",
       "      <th>ENSG00000158270</th>\n",
       "      <td>0.029305</td>\n",
       "      <td>1.000000</td>\n",
       "      <td>0.019775</td>\n",
       "      <td>0.012679</td>\n",
       "      <td>0.009545</td>\n",
       "      <td>0.014981</td>\n",
       "      <td>0.015845</td>\n",
       "      <td>0.010495</td>\n",
       "      <td>0.009299</td>\n",
       "      <td>0.013425</td>\n",
       "      <td>...</td>\n",
       "      <td>0.010862</td>\n",
       "      <td>0.005937</td>\n",
       "      <td>0.009267</td>\n",
       "      <td>0.012360</td>\n",
       "      <td>0.010812</td>\n",
       "      <td>0.005595</td>\n",
       "      <td>0.010142</td>\n",
       "      <td>0.014223</td>\n",
       "      <td>0.015557</td>\n",
       "      <td>0.014410</td>\n",
       "    </tr>\n",
       "    <tr>\n",
       "      <th>ENSG00000176890</th>\n",
       "      <td>0.013882</td>\n",
       "      <td>0.019775</td>\n",
       "      <td>1.000000</td>\n",
       "      <td>0.146938</td>\n",
       "      <td>0.013808</td>\n",
       "      <td>0.013387</td>\n",
       "      <td>0.012297</td>\n",
       "      <td>0.009375</td>\n",
       "      <td>0.010458</td>\n",
       "      <td>0.009753</td>\n",
       "      <td>...</td>\n",
       "      <td>0.008766</td>\n",
       "      <td>0.005498</td>\n",
       "      <td>0.009717</td>\n",
       "      <td>0.006060</td>\n",
       "      <td>0.011529</td>\n",
       "      <td>0.007348</td>\n",
       "      <td>0.012693</td>\n",
       "      <td>0.013435</td>\n",
       "      <td>0.018445</td>\n",
       "      <td>0.009046</td>\n",
       "    </tr>\n",
       "    <tr>\n",
       "      <th>ENSG00000176105</th>\n",
       "      <td>0.005950</td>\n",
       "      <td>0.012679</td>\n",
       "      <td>0.146938</td>\n",
       "      <td>1.000000</td>\n",
       "      <td>0.006168</td>\n",
       "      <td>0.004426</td>\n",
       "      <td>0.007289</td>\n",
       "      <td>0.005115</td>\n",
       "      <td>0.003651</td>\n",
       "      <td>0.009098</td>\n",
       "      <td>...</td>\n",
       "      <td>0.004154</td>\n",
       "      <td>0.004851</td>\n",
       "      <td>0.005225</td>\n",
       "      <td>0.006308</td>\n",
       "      <td>0.006686</td>\n",
       "      <td>0.007414</td>\n",
       "      <td>0.009558</td>\n",
       "      <td>0.007830</td>\n",
       "      <td>0.005645</td>\n",
       "      <td>0.008102</td>\n",
       "    </tr>\n",
       "    <tr>\n",
       "      <th>ENSG00000080986</th>\n",
       "      <td>0.005183</td>\n",
       "      <td>0.009545</td>\n",
       "      <td>0.013808</td>\n",
       "      <td>0.006168</td>\n",
       "      <td>1.000000</td>\n",
       "      <td>0.014786</td>\n",
       "      <td>0.015237</td>\n",
       "      <td>0.005943</td>\n",
       "      <td>0.008302</td>\n",
       "      <td>0.004584</td>\n",
       "      <td>...</td>\n",
       "      <td>0.006227</td>\n",
       "      <td>0.004994</td>\n",
       "      <td>0.010306</td>\n",
       "      <td>0.004825</td>\n",
       "      <td>0.006861</td>\n",
       "      <td>0.006908</td>\n",
       "      <td>0.009532</td>\n",
       "      <td>0.007694</td>\n",
       "      <td>0.005479</td>\n",
       "      <td>0.004234</td>\n",
       "    </tr>\n",
       "  </tbody>\n",
       "</table>\n",
       "<p>5 rows × 96 columns</p>\n",
       "</div>"
      ],
      "text/plain": [
       "                 ENSG00000079134  ENSG00000158270  ENSG00000176890  \\\n",
       "ENSG00000079134         1.000000         0.029305         0.013882   \n",
       "ENSG00000158270         0.029305         1.000000         0.019775   \n",
       "ENSG00000176890         0.013882         0.019775         1.000000   \n",
       "ENSG00000176105         0.005950         0.012679         0.146938   \n",
       "ENSG00000080986         0.005183         0.009545         0.013808   \n",
       "\n",
       "                 ENSG00000176105  ENSG00000080986  ENSG00000132205  \\\n",
       "ENSG00000079134         0.005950         0.005183         0.012414   \n",
       "ENSG00000158270         0.012679         0.009545         0.014981   \n",
       "ENSG00000176890         0.146938         0.013808         0.013387   \n",
       "ENSG00000176105         1.000000         0.006168         0.004426   \n",
       "ENSG00000080986         0.006168         1.000000         0.014786   \n",
       "\n",
       "                 ENSG00000101577  ENSG00000101608  ENSG00000118680  \\\n",
       "ENSG00000079134         0.009022         0.009353         0.008122   \n",
       "ENSG00000158270         0.015845         0.010495         0.009299   \n",
       "ENSG00000176890         0.012297         0.009375         0.010458   \n",
       "ENSG00000176105         0.007289         0.005115         0.003651   \n",
       "ENSG00000080986         0.015237         0.005943         0.008302   \n",
       "\n",
       "                 ENSG00000177426  ...  ENSG00000166347  ENSG00000133313  \\\n",
       "ENSG00000079134         0.010012  ...         0.008819         0.006327   \n",
       "ENSG00000158270         0.013425  ...         0.010862         0.005937   \n",
       "ENSG00000176890         0.009753  ...         0.008766         0.005498   \n",
       "ENSG00000176105         0.009098  ...         0.004154         0.004851   \n",
       "ENSG00000080986         0.004584  ...         0.006227         0.004994   \n",
       "\n",
       "                 ENSG00000166573  ENSG00000166377  ENSG00000131196  \\\n",
       "ENSG00000079134         0.007683         0.010245         0.011527   \n",
       "ENSG00000158270         0.009267         0.012360         0.010812   \n",
       "ENSG00000176890         0.009717         0.006060         0.011529   \n",
       "ENSG00000176105         0.005225         0.006308         0.006686   \n",
       "ENSG00000080986         0.010306         0.004825         0.006861   \n",
       "\n",
       "                 ENSG00000060069  ENSG00000178342  ENSG00000122490  \\\n",
       "ENSG00000079134         0.003797         0.009355         0.013356   \n",
       "ENSG00000158270         0.005595         0.010142         0.014223   \n",
       "ENSG00000176890         0.007348         0.012693         0.013435   \n",
       "ENSG00000176105         0.007414         0.009558         0.007830   \n",
       "ENSG00000080986         0.006908         0.009532         0.007694   \n",
       "\n",
       "                 ENSG00000141759  ENSG00000178184  \n",
       "ENSG00000079134         0.008738         0.006180  \n",
       "ENSG00000158270         0.015557         0.014410  \n",
       "ENSG00000176890         0.018445         0.009046  \n",
       "ENSG00000176105         0.005645         0.008102  \n",
       "ENSG00000080986         0.005479         0.004234  \n",
       "\n",
       "[5 rows x 96 columns]"
      ]
     },
     "execution_count": 31,
     "metadata": {},
     "output_type": "execute_result"
    }
   ],
   "source": [
    "gene_corrs_df.head()"
   ]
  },
  {
   "cell_type": "markdown",
   "id": "dad6603f-01c6-41fb-a6f6-241051207dd8",
   "metadata": {
    "papermill": {
     "duration": 0.172964,
     "end_time": "2022-11-30T02:10:50.612915",
     "exception": false,
     "start_time": "2022-11-30T02:10:50.439951",
     "status": "completed"
    },
    "tags": []
   },
   "source": [
    "## Standard checks and stats"
   ]
  },
  {
   "cell_type": "code",
   "execution_count": 32,
   "id": "286686af-1b7b-4440-8453-6bdcbd8de19c",
   "metadata": {
    "execution": {
     "iopub.execute_input": "2022-11-30T02:10:50.983618Z",
     "iopub.status.busy": "2022-11-30T02:10:50.983214Z",
     "iopub.status.idle": "2022-11-30T02:10:51.006402Z",
     "shell.execute_reply": "2022-11-30T02:10:51.005748Z"
    },
    "papermill": {
     "duration": 0.222886,
     "end_time": "2022-11-30T02:10:51.007420",
     "exception": false,
     "start_time": "2022-11-30T02:10:50.784534",
     "status": "completed"
    },
    "tags": []
   },
   "outputs": [],
   "source": [
    "assert not gene_corrs_df.isna().any().any()"
   ]
  },
  {
   "cell_type": "code",
   "execution_count": 33,
   "id": "00583efc-7068-4270-ad1e-4a418e91db96",
   "metadata": {
    "execution": {
     "iopub.execute_input": "2022-11-30T02:10:51.353688Z",
     "iopub.status.busy": "2022-11-30T02:10:51.353079Z",
     "iopub.status.idle": "2022-11-30T02:10:51.377157Z",
     "shell.execute_reply": "2022-11-30T02:10:51.376528Z"
    },
    "papermill": {
     "duration": 0.19717,
     "end_time": "2022-11-30T02:10:51.377995",
     "exception": false,
     "start_time": "2022-11-30T02:10:51.180825",
     "status": "completed"
    },
    "tags": []
   },
   "outputs": [
    {
     "data": {
      "text/plain": [
       "6.961089756410945e-07"
      ]
     },
     "metadata": {},
     "output_type": "display_data"
    }
   ],
   "source": [
    "_min_val = gene_corrs_df.min().min()\n",
    "display(_min_val)\n",
    "assert _min_val >= -0.05"
   ]
  },
  {
   "cell_type": "code",
   "execution_count": 34,
   "id": "d04fb2cf-1050-475b-b855-f5f7cc04092b",
   "metadata": {
    "execution": {
     "iopub.execute_input": "2022-11-30T02:10:51.749574Z",
     "iopub.status.busy": "2022-11-30T02:10:51.749177Z",
     "iopub.status.idle": "2022-11-30T02:10:51.773572Z",
     "shell.execute_reply": "2022-11-30T02:10:51.772819Z"
    },
    "papermill": {
     "duration": 0.197714,
     "end_time": "2022-11-30T02:10:51.774507",
     "exception": false,
     "start_time": "2022-11-30T02:10:51.576793",
     "status": "completed"
    },
    "tags": []
   },
   "outputs": [
    {
     "data": {
      "text/plain": [
       "1.0000000000000016"
      ]
     },
     "metadata": {},
     "output_type": "display_data"
    }
   ],
   "source": [
    "_max_val = gene_corrs_df.max().max()  # this captures the diagonal\n",
    "display(_max_val)\n",
    "assert _max_val <= 1.05"
   ]
  },
  {
   "cell_type": "code",
   "execution_count": 35,
   "id": "96d02c44-1fba-47be-8a93-8f2608420b9c",
   "metadata": {
    "execution": {
     "iopub.execute_input": "2022-11-30T02:10:52.119443Z",
     "iopub.status.busy": "2022-11-30T02:10:52.118749Z",
     "iopub.status.idle": "2022-11-30T02:10:52.142102Z",
     "shell.execute_reply": "2022-11-30T02:10:52.141390Z"
    },
    "papermill": {
     "duration": 0.196452,
     "end_time": "2022-11-30T02:10:52.143280",
     "exception": false,
     "start_time": "2022-11-30T02:10:51.946828",
     "status": "completed"
    },
    "tags": []
   },
   "outputs": [],
   "source": [
    "# check upper triangular values\n",
    "# assert len(gene_corrs) == int(genes_chr.shape[0] * (genes_chr.shape[0] - 1) / 2)"
   ]
  },
  {
   "cell_type": "code",
   "execution_count": 36,
   "id": "fe283586-c348-40e0-8841-f6d97bfb021c",
   "metadata": {
    "execution": {
     "iopub.execute_input": "2022-11-30T02:10:52.515698Z",
     "iopub.status.busy": "2022-11-30T02:10:52.515295Z",
     "iopub.status.idle": "2022-11-30T02:10:52.541899Z",
     "shell.execute_reply": "2022-11-30T02:10:52.541332Z"
    },
    "papermill": {
     "duration": 0.199988,
     "end_time": "2022-11-30T02:10:52.542800",
     "exception": false,
     "start_time": "2022-11-30T02:10:52.342812",
     "status": "completed"
    },
    "tags": []
   },
   "outputs": [
    {
     "data": {
      "text/plain": [
       "count    4.656000e+03\n",
       "mean     2.942740e-02\n",
       "std      1.425061e-01\n",
       "min      6.961090e-07\n",
       "25%      5.016278e-03\n",
       "50%      7.183572e-03\n",
       "75%      9.617875e-03\n",
       "max      1.000000e+00\n",
       "dtype: float64"
      ]
     },
     "execution_count": 36,
     "metadata": {},
     "output_type": "execute_result"
    }
   ],
   "source": [
    "gene_corrs_flat.describe()"
   ]
  },
  {
   "cell_type": "code",
   "execution_count": 37,
   "id": "b3815678-0f93-4b35-897b-a9d047a2aa78",
   "metadata": {
    "execution": {
     "iopub.execute_input": "2022-11-30T02:10:52.887640Z",
     "iopub.status.busy": "2022-11-30T02:10:52.886965Z",
     "iopub.status.idle": "2022-11-30T02:10:52.913113Z",
     "shell.execute_reply": "2022-11-30T02:10:52.912566Z"
    },
    "papermill": {
     "duration": 0.198891,
     "end_time": "2022-11-30T02:10:52.914006",
     "exception": false,
     "start_time": "2022-11-30T02:10:52.715115",
     "status": "completed"
    },
    "tags": []
   },
   "outputs": [
    {
     "data": {
      "text/plain": [
       "0.00    6.961090e-07\n",
       "0.05    2.374823e-03\n",
       "0.10    3.355038e-03\n",
       "0.15    3.946667e-03\n",
       "0.20    4.541988e-03\n",
       "0.25    5.016278e-03\n",
       "0.30    5.439445e-03\n",
       "0.35    5.892930e-03\n",
       "0.40    6.309856e-03\n",
       "0.45    6.753097e-03\n",
       "0.50    7.183572e-03\n",
       "0.55    7.613275e-03\n",
       "0.60    8.087662e-03\n",
       "0.65    8.546117e-03\n",
       "0.70    9.046273e-03\n",
       "0.75    9.617875e-03\n",
       "0.80    1.024349e-02\n",
       "0.85    1.103608e-02\n",
       "0.90    1.228389e-02\n",
       "0.95    1.452363e-02\n",
       "dtype: float64"
      ]
     },
     "metadata": {},
     "output_type": "display_data"
    }
   ],
   "source": [
    "gene_corrs_quantiles = gene_corrs_flat.quantile(np.arange(0, 1, 0.05))\n",
    "display(gene_corrs_quantiles)"
   ]
  },
  {
   "cell_type": "markdown",
   "id": "87134509-b145-4a10-8bc9-b7e914c2b0fa",
   "metadata": {
    "papermill": {
     "duration": 0.18178,
     "end_time": "2022-11-30T02:10:53.310374",
     "exception": false,
     "start_time": "2022-11-30T02:10:53.128594",
     "status": "completed"
    },
    "tags": []
   },
   "source": [
    "## Positive definiteness"
   ]
  },
  {
   "cell_type": "code",
   "execution_count": 38,
   "id": "07d9a9a1-a4f7-48aa-b916-6d42a8cc6186",
   "metadata": {
    "execution": {
     "iopub.execute_input": "2022-11-30T02:10:53.672386Z",
     "iopub.status.busy": "2022-11-30T02:10:53.671985Z",
     "iopub.status.idle": "2022-11-30T02:10:53.703250Z",
     "shell.execute_reply": "2022-11-30T02:10:53.702712Z"
    },
    "papermill": {
     "duration": 0.212547,
     "end_time": "2022-11-30T02:10:53.704246",
     "exception": false,
     "start_time": "2022-11-30T02:10:53.491699",
     "status": "completed"
    },
    "tags": []
   },
   "outputs": [
    {
     "data": {
      "text/plain": [
       "0"
      ]
     },
     "metadata": {},
     "output_type": "display_data"
    },
    {
     "data": {
      "text/plain": [
       "array([], dtype=float64)"
      ]
     },
     "metadata": {},
     "output_type": "display_data"
    }
   ],
   "source": [
    "# print negative eigenvalues\n",
    "eigs = np.linalg.eigvals(gene_corrs_df.to_numpy())\n",
    "display(len(eigs[eigs < 0]))\n",
    "display(eigs[eigs < 0])"
   ]
  },
  {
   "cell_type": "code",
   "execution_count": 39,
   "id": "6e218436-c3c5-4028-8c94-a4fa6260efce",
   "metadata": {
    "execution": {
     "iopub.execute_input": "2022-11-30T02:10:54.096553Z",
     "iopub.status.busy": "2022-11-30T02:10:54.096153Z",
     "iopub.status.idle": "2022-11-30T02:10:54.119615Z",
     "shell.execute_reply": "2022-11-30T02:10:54.119072Z"
    },
    "papermill": {
     "duration": 0.206445,
     "end_time": "2022-11-30T02:10:54.120501",
     "exception": false,
     "start_time": "2022-11-30T02:10:53.914056",
     "status": "completed"
    },
    "tags": []
   },
   "outputs": [
    {
     "name": "stdout",
     "output_type": "stream",
     "text": [
      "Works!\n"
     ]
    }
   ],
   "source": [
    "try:\n",
    "    chol_mat = np.linalg.cholesky(gene_corrs_df.to_numpy())\n",
    "    cov_inv = np.linalg.inv(chol_mat)\n",
    "    print(\"Works!\")\n",
    "except Exception as e:\n",
    "    print(f\"Cholesky decomposition failed: {str(e)}\")"
   ]
  },
  {
   "cell_type": "code",
   "execution_count": 40,
   "id": "dd8827fb-faf9-4c7c-9454-015e94752706",
   "metadata": {
    "execution": {
     "iopub.execute_input": "2022-11-30T02:10:54.512343Z",
     "iopub.status.busy": "2022-11-30T02:10:54.511735Z",
     "iopub.status.idle": "2022-11-30T02:10:54.535125Z",
     "shell.execute_reply": "2022-11-30T02:10:54.534579Z"
    },
    "papermill": {
     "duration": 0.234644,
     "end_time": "2022-11-30T02:10:54.536077",
     "exception": false,
     "start_time": "2022-11-30T02:10:54.301433",
     "status": "completed"
    },
    "tags": []
   },
   "outputs": [
    {
     "name": "stdout",
     "output_type": "stream",
     "text": [
      "Works!\n"
     ]
    }
   ],
   "source": [
    "try:\n",
    "    # decomposition used by statsmodels.GLS\n",
    "    cholsigmainv = np.linalg.cholesky(np.linalg.inv(gene_corrs_df.to_numpy())).T\n",
    "    print(\"Works!\")\n",
    "except Exception as e:\n",
    "    print(f\"Cholesky decomposition failed (statsmodels.GLS): {str(e)}\")"
   ]
  },
  {
   "cell_type": "markdown",
   "id": "8e60a080-edb2-4e9c-b2ef-22961693200c",
   "metadata": {
    "papermill": {
     "duration": 0.17792,
     "end_time": "2022-11-30T02:10:54.895159",
     "exception": false,
     "start_time": "2022-11-30T02:10:54.717239",
     "status": "completed"
    },
    "tags": []
   },
   "source": [
    "## Plot: distribution"
   ]
  },
  {
   "cell_type": "code",
   "execution_count": 41,
   "id": "8301126b-a7d4-4744-9c7d-f0f86eb6f54c",
   "metadata": {
    "execution": {
     "iopub.execute_input": "2022-11-30T02:10:55.281105Z",
     "iopub.status.busy": "2022-11-30T02:10:55.280654Z",
     "iopub.status.idle": "2022-11-30T02:10:57.317940Z",
     "shell.execute_reply": "2022-11-30T02:10:57.317530Z"
    },
    "papermill": {
     "duration": 2.247208,
     "end_time": "2022-11-30T02:10:57.319481",
     "exception": false,
     "start_time": "2022-11-30T02:10:55.072273",
     "status": "completed"
    },
    "tags": []
   },
   "outputs": [
    {
     "data": {
      "image/png": "[encoded data removed]",
      "text/plain": [
       "<Figure size 700x700 with 1 Axes>"
      ]
     },
     "metadata": {},
     "output_type": "display_data"
    }
   ],
   "source": [
    "with sns.plotting_context(\"paper\", font_scale=1.5):\n",
    "    g = sns.displot(gene_corrs_flat, kde=True, height=7)\n",
    "    g.ax.set_title(\n",
    "        f\"Distribution of gene correlation values in chromosome {CHROMOSOME}\"\n",
    "    )"
   ]
  },
  {
   "cell_type": "markdown",
   "id": "cbd52bca-d878-4a2f-b684-5c83aa3038d4",
   "metadata": {
    "papermill": {
     "duration": 0.179246,
     "end_time": "2022-11-30T02:10:57.719629",
     "exception": false,
     "start_time": "2022-11-30T02:10:57.540383",
     "status": "completed"
    },
    "tags": []
   },
   "source": [
    "## Plot: heatmap"
   ]
  },
  {
   "cell_type": "code",
   "execution_count": 42,
   "id": "d03fe63a-c7b2-4fb9-a53c-db362ce843c9",
   "metadata": {
    "execution": {
     "iopub.execute_input": "2022-11-30T02:10:58.110518Z",
     "iopub.status.busy": "2022-11-30T02:10:58.110098Z",
     "iopub.status.idle": "2022-11-30T02:10:58.129128Z",
     "shell.execute_reply": "2022-11-30T02:10:58.128672Z"
    },
    "papermill": {
     "duration": 0.199608,
     "end_time": "2022-11-30T02:10:58.130012",
     "exception": false,
     "start_time": "2022-11-30T02:10:57.930404",
     "status": "completed"
    },
    "tags": []
   },
   "outputs": [
    {
     "data": {
      "text/plain": [
       "'0.0 / 0.05'"
      ]
     },
     "metadata": {},
     "output_type": "display_data"
    }
   ],
   "source": [
    "vmin_val = min(0.00, gene_corrs_quantiles[0.10])\n",
    "vmax_val = max(0.05, gene_corrs_quantiles[0.90])\n",
    "display(f\"{vmin_val} / {vmax_val}\")"
   ]
  },
  {
   "cell_type": "code",
   "execution_count": 43,
   "id": "dc41b70b-5bcc-4d9e-9f33-a22c4a94dab5",
   "metadata": {
    "execution": {
     "iopub.execute_input": "2022-11-30T02:10:58.491947Z",
     "iopub.status.busy": "2022-11-30T02:10:58.491374Z",
     "iopub.status.idle": "2022-11-30T02:10:58.655338Z",
     "shell.execute_reply": "2022-11-30T02:10:58.654922Z"
    },
    "papermill": {
     "duration": 0.346502,
     "end_time": "2022-11-30T02:10:58.657205",
     "exception": false,
     "start_time": "2022-11-30T02:10:58.310703",
     "status": "completed"
    },
    "tags": []
   },
   "outputs": [
    {
     "data": {
      "text/plain": [
       "Text(0.5, 1.0, 'Gene correlations in chromosome 18')"
      ]
     },
     "execution_count": 43,
     "metadata": {},
     "output_type": "execute_result"
    },
    {
     "data": {
      "image/png": "[encoded data removed]",
      "text/plain": [
       "<Figure size 1000x1000 with 2 Axes>"
      ]
     },
     "metadata": {},
     "output_type": "display_data"
    }
   ],
   "source": [
    "f, ax = plt.subplots(figsize=(10, 10))\n",
    "sns.heatmap(\n",
    "    gene_corrs_df,\n",
    "    xticklabels=False,\n",
    "    yticklabels=False,\n",
    "    square=True,\n",
    "    vmin=vmin_val,\n",
    "    vmax=vmax_val,\n",
    "    cmap=\"rocket_r\",\n",
    "    ax=ax,\n",
    ")\n",
    "ax.set_title(f\"Gene correlations in chromosome {CHROMOSOME}\")"
   ]
  },
  {
   "cell_type": "code",
   "execution_count": null,
   "id": "b25e3ead",
   "metadata": {
    "papermill": {
     "duration": 0.211089,
     "end_time": "2022-11-30T02:10:59.089023",
     "exception": false,
     "start_time": "2022-11-30T02:10:58.877934",
     "status": "completed"
    },
    "tags": []
   },
   "outputs": [],
   "source": []
  }
 ],
 "metadata": {
  "jupytext": {
   "cell_metadata_filter": "all,-execution,-papermill,-trusted",
   "formats": "ipynb,py//py:percent"
  },
  "kernelspec": {
   "display_name": "Python 3 (ipykernel)",
   "language": "python",
   "name": "python3"
  },
  "language_info": {
   "codemirror_mode": {
    "name": "ipython",
    "version": 3
   },
   "file_extension": ".py",
   "mimetype": "text/x-python",
   "name": "python",
   "nbconvert_exporter": "python",
   "pygments_lexer": "ipython3",
   "version": "3.10.6"
  },
  "papermill": {
   "default_parameters": {},
   "duration": 230.400109,
   "end_time": "2022-11-30T02:11:02.308953",
   "environment_variables": {},
   "exception": null,
   "input_path": "projects/asthma-copd/nbs/20_gene_corrs/10-gene_expr_correlations.ipynb",
   "output_path": "projects/asthma-copd/nbs/20_gene_corrs/gene_corrs/aco/10-gene_expr_correlations-chr18.run.ipynb",
   "parameters": {
    "CHROMOSOME": 18,
    "COHORT_NAME": "aco",
    "OUTPUT_DIR_BASE": "/opt/data/projects/asthma-copd/results/gls_phenoplier"
   },
   "start_time": "2022-11-30T02:07:11.908844",
   "version": "2.2.2"
  }
 },
 "nbformat": 4,
 "nbformat_minor": 5
}
