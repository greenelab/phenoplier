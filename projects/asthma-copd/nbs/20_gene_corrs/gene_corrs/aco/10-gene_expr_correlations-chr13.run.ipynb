{
 "cells": [
  {
   "cell_type": "markdown",
   "id": "7a6632fb",
   "metadata": {
    "papermill": {
     "duration": 0.009713,
     "end_time": "2022-11-30T01:52:38.916063",
     "exception": false,
     "start_time": "2022-11-30T01:52:38.906350",
     "status": "completed"
    },
    "tags": []
   },
   "source": [
    "# Description"
   ]
  },
  {
   "cell_type": "markdown",
   "id": "7097c346",
   "metadata": {
    "papermill": {
     "duration": 0.008547,
     "end_time": "2022-11-30T01:52:38.934007",
     "exception": false,
     "start_time": "2022-11-30T01:52:38.925460",
     "status": "completed"
    },
    "tags": []
   },
   "source": [
    "(Please, take a look at the README.md file in this directory for instructions on how to run this notebook)\n",
    "\n",
    "This notebook computes predicted expression correlations between all genes in the MultiPLIER models.\n",
    "\n",
    "It has specicfic parameters for papermill (see under `Settings` below).\n",
    "It can be configured to run on a single chromosome to run in parallel.\n",
    "\n",
    "This notebook is not directly run. See README.md."
   ]
  },
  {
   "cell_type": "markdown",
   "id": "c61d8427",
   "metadata": {
    "papermill": {
     "duration": 0.008562,
     "end_time": "2022-11-30T01:52:38.951153",
     "exception": false,
     "start_time": "2022-11-30T01:52:38.942591",
     "status": "completed"
    },
    "tags": []
   },
   "source": [
    "# Modules"
   ]
  },
  {
   "cell_type": "code",
   "execution_count": 1,
   "id": "bbc0234f",
   "metadata": {
    "execution": {
     "iopub.execute_input": "2022-11-30T01:52:38.971329Z",
     "iopub.status.busy": "2022-11-30T01:52:38.970649Z",
     "iopub.status.idle": "2022-11-30T01:52:38.989489Z",
     "shell.execute_reply": "2022-11-30T01:52:38.988881Z"
    },
    "papermill": {
     "duration": 0.030733,
     "end_time": "2022-11-30T01:52:38.991368",
     "exception": false,
     "start_time": "2022-11-30T01:52:38.960635",
     "status": "completed"
    },
    "tags": []
   },
   "outputs": [],
   "source": [
    "%load_ext autoreload\n",
    "%autoreload 2"
   ]
  },
  {
   "cell_type": "code",
   "execution_count": 2,
   "id": "1d5f5a59",
   "metadata": {
    "execution": {
     "iopub.execute_input": "2022-11-30T01:52:39.010132Z",
     "iopub.status.busy": "2022-11-30T01:52:39.009617Z",
     "iopub.status.idle": "2022-11-30T01:52:39.705138Z",
     "shell.execute_reply": "2022-11-30T01:52:39.704598Z"
    },
    "papermill": {
     "duration": 0.706153,
     "end_time": "2022-11-30T01:52:39.706357",
     "exception": false,
     "start_time": "2022-11-30T01:52:39.000204",
     "status": "completed"
    },
    "tags": []
   },
   "outputs": [],
   "source": [
    "from random import sample, seed\n",
    "import warnings\n",
    "from pathlib import Path\n",
    "import pickle\n",
    "import traceback\n",
    "\n",
    "import numpy as np\n",
    "from scipy.spatial.distance import squareform\n",
    "import pandas as pd\n",
    "from tqdm import tqdm\n",
    "import matplotlib.pyplot as plt\n",
    "import seaborn as sns\n",
    "\n",
    "import conf\n",
    "from entity import Gene"
   ]
  },
  {
   "cell_type": "markdown",
   "id": "1eac24b5",
   "metadata": {
    "papermill": {
     "duration": 0.009626,
     "end_time": "2022-11-30T01:52:39.720625",
     "exception": false,
     "start_time": "2022-11-30T01:52:39.710999",
     "status": "completed"
    },
    "tags": []
   },
   "source": [
    "# Settings"
   ]
  },
  {
   "cell_type": "code",
   "execution_count": 3,
   "id": "ca4560ba",
   "metadata": {
    "execution": {
     "iopub.execute_input": "2022-11-30T01:52:39.730211Z",
     "iopub.status.busy": "2022-11-30T01:52:39.729969Z",
     "iopub.status.idle": "2022-11-30T01:52:39.743803Z",
     "shell.execute_reply": "2022-11-30T01:52:39.743308Z"
    },
    "papermill": {
     "duration": 0.02005,
     "end_time": "2022-11-30T01:52:39.744921",
     "exception": false,
     "start_time": "2022-11-30T01:52:39.724871",
     "status": "completed"
    },
    "tags": [
     "parameters"
    ]
   },
   "outputs": [],
   "source": [
    "# a cohort name (it could be something like UK_BIOBANK, etc)\n",
    "COHORT_NAME = None\n",
    "\n",
    "# reference panel such as 1000G or GTEX_V8\n",
    "REFERENCE_PANEL = \"GTEX_V8\"\n",
    "\n",
    "# predictions models such as MASHR or ELASTIC_NET\n",
    "EQTL_MODEL = \"MASHR\"\n",
    "\n",
    "# this is the default value used in S-MultiXcan to select the\n",
    "# top principal components of the expression correlation matrix\n",
    "SMULTIXCAN_CONDITION_NUMBER = 30\n",
    "\n",
    "# specifies a single chromosome value\n",
    "CHROMOSOME = None\n",
    "\n",
    "# If True, computes the correlation between closeby genes only;\n",
    "# otherwise, it computes correlations for all genes in a chromosome\n",
    "COMPUTE_CORRELATIONS_WITHIN_DISTANCE = False\n",
    "\n",
    "# if True, then it will continue if a gene pair correlation fails,\n",
    "# printing the warning/error for debugging. If False, any warning/error\n",
    "# will be thrown\n",
    "DEBUG_MODE = False\n",
    "\n",
    "# output dir\n",
    "OUTPUT_DIR_BASE = None"
   ]
  },
  {
   "cell_type": "code",
   "execution_count": 4,
   "id": "c6399703",
   "metadata": {
    "execution": {
     "iopub.execute_input": "2022-11-30T01:52:39.754524Z",
     "iopub.status.busy": "2022-11-30T01:52:39.754329Z",
     "iopub.status.idle": "2022-11-30T01:52:39.767542Z",
     "shell.execute_reply": "2022-11-30T01:52:39.767027Z"
    },
    "papermill": {
     "duration": 0.018982,
     "end_time": "2022-11-30T01:52:39.768530",
     "exception": false,
     "start_time": "2022-11-30T01:52:39.749548",
     "status": "completed"
    },
    "tags": [
     "injected-parameters"
    ]
   },
   "outputs": [],
   "source": [
    "# Parameters\n",
    "COHORT_NAME = \"aco\"\n",
    "CHROMOSOME = 13\n",
    "OUTPUT_DIR_BASE = \"/opt/data/projects/asthma-copd/results/gls_phenoplier\"\n"
   ]
  },
  {
   "cell_type": "code",
   "execution_count": 5,
   "id": "3190631f-27fc-480f-b18e-571d580425a5",
   "metadata": {
    "execution": {
     "iopub.execute_input": "2022-11-30T01:52:39.778166Z",
     "iopub.status.busy": "2022-11-30T01:52:39.777892Z",
     "iopub.status.idle": "2022-11-30T01:52:39.794682Z",
     "shell.execute_reply": "2022-11-30T01:52:39.794185Z"
    },
    "papermill": {
     "duration": 0.02257,
     "end_time": "2022-11-30T01:52:39.795675",
     "exception": false,
     "start_time": "2022-11-30T01:52:39.773105",
     "status": "completed"
    },
    "tags": []
   },
   "outputs": [
    {
     "data": {
      "text/plain": [
       "'Cohort name: aco'"
      ]
     },
     "metadata": {},
     "output_type": "display_data"
    }
   ],
   "source": [
    "assert COHORT_NAME is not None and len(COHORT_NAME) > 0, \"A cohort name must be given\"\n",
    "\n",
    "COHORT_NAME = COHORT_NAME.lower()\n",
    "display(f\"Cohort name: {COHORT_NAME}\")"
   ]
  },
  {
   "cell_type": "code",
   "execution_count": 6,
   "id": "f53ba19b-0f93-4fa2-a047-63b375939d1a",
   "metadata": {
    "execution": {
     "iopub.execute_input": "2022-11-30T01:52:39.805876Z",
     "iopub.status.busy": "2022-11-30T01:52:39.805690Z",
     "iopub.status.idle": "2022-11-30T01:52:39.824202Z",
     "shell.execute_reply": "2022-11-30T01:52:39.823618Z"
    },
    "papermill": {
     "duration": 0.024692,
     "end_time": "2022-11-30T01:52:39.825492",
     "exception": false,
     "start_time": "2022-11-30T01:52:39.800800",
     "status": "completed"
    },
    "tags": []
   },
   "outputs": [
    {
     "data": {
      "text/plain": [
       "'Reference panel: GTEX_V8'"
      ]
     },
     "metadata": {},
     "output_type": "display_data"
    }
   ],
   "source": [
    "assert (\n",
    "    REFERENCE_PANEL is not None and len(REFERENCE_PANEL) > 0\n",
    "), \"A reference panel must be given\"\n",
    "\n",
    "display(f\"Reference panel: {REFERENCE_PANEL}\")"
   ]
  },
  {
   "cell_type": "code",
   "execution_count": 7,
   "id": "e024d130-c139-429a-9c6e-ccf149e297b0",
   "metadata": {
    "execution": {
     "iopub.execute_input": "2022-11-30T01:52:39.839897Z",
     "iopub.status.busy": "2022-11-30T01:52:39.839603Z",
     "iopub.status.idle": "2022-11-30T01:52:39.858320Z",
     "shell.execute_reply": "2022-11-30T01:52:39.857736Z"
    },
    "papermill": {
     "duration": 0.027344,
     "end_time": "2022-11-30T01:52:39.859647",
     "exception": false,
     "start_time": "2022-11-30T01:52:39.832303",
     "status": "completed"
    },
    "tags": []
   },
   "outputs": [
    {
     "data": {
      "text/plain": [
       "'eQTL model: MASHR) / mashr_'"
      ]
     },
     "metadata": {},
     "output_type": "display_data"
    }
   ],
   "source": [
    "assert (\n",
    "    EQTL_MODEL is not None and len(EQTL_MODEL) > 0\n",
    "), \"A prediction/eQTL model must be given\"\n",
    "\n",
    "EQTL_MODEL_FILES_PREFIX = conf.PHENOMEXCAN[\"PREDICTION_MODELS\"][f\"{EQTL_MODEL}_PREFIX\"]\n",
    "display(f\"eQTL model: {EQTL_MODEL}) / {EQTL_MODEL_FILES_PREFIX}\")"
   ]
  },
  {
   "cell_type": "code",
   "execution_count": 8,
   "id": "552a7f63-a18c-4d3e-bb6a-94f99b431291",
   "metadata": {
    "execution": {
     "iopub.execute_input": "2022-11-30T01:52:39.877496Z",
     "iopub.status.busy": "2022-11-30T01:52:39.877148Z",
     "iopub.status.idle": "2022-11-30T01:52:39.900651Z",
     "shell.execute_reply": "2022-11-30T01:52:39.899923Z"
    },
    "papermill": {
     "duration": 0.035358,
     "end_time": "2022-11-30T01:52:39.902278",
     "exception": false,
     "start_time": "2022-11-30T01:52:39.866920",
     "status": "completed"
    },
    "tags": []
   },
   "outputs": [
    {
     "data": {
      "text/plain": [
       "'S-MultiXcan condition number: 30'"
      ]
     },
     "metadata": {},
     "output_type": "display_data"
    }
   ],
   "source": [
    "assert (\n",
    "    SMULTIXCAN_CONDITION_NUMBER is not None and SMULTIXCAN_CONDITION_NUMBER > 0\n",
    "), \"The S-MultiXcan condition number (positive integer) must be given\"\n",
    "\n",
    "display(f\"S-MultiXcan condition number: {SMULTIXCAN_CONDITION_NUMBER}\")"
   ]
  },
  {
   "cell_type": "code",
   "execution_count": 9,
   "id": "f34a336f-548e-4afe-8955-90eaea4f42c6",
   "metadata": {
    "execution": {
     "iopub.execute_input": "2022-11-30T01:52:39.921718Z",
     "iopub.status.busy": "2022-11-30T01:52:39.921362Z",
     "iopub.status.idle": "2022-11-30T01:52:39.944877Z",
     "shell.execute_reply": "2022-11-30T01:52:39.944147Z"
    },
    "papermill": {
     "duration": 0.034978,
     "end_time": "2022-11-30T01:52:39.946507",
     "exception": false,
     "start_time": "2022-11-30T01:52:39.911529",
     "status": "completed"
    },
    "tags": []
   },
   "outputs": [
    {
     "data": {
      "text/plain": [
       "'Working on chromosome 13'"
      ]
     },
     "metadata": {},
     "output_type": "display_data"
    }
   ],
   "source": [
    "assert CHROMOSOME is not None and (\n",
    "    1 <= CHROMOSOME <= 22\n",
    "), \"You have to select one chromosome (format: number between 1 and 22)\"\n",
    "\n",
    "# CHROMOSOME = str(CHROMOSOME)\n",
    "display(f\"Working on chromosome {CHROMOSOME}\")"
   ]
  },
  {
   "cell_type": "code",
   "execution_count": 10,
   "id": "ab8e96e8-06b5-4363-9dcd-dc4d78cc27f7",
   "metadata": {
    "execution": {
     "iopub.execute_input": "2022-11-30T01:52:39.967175Z",
     "iopub.status.busy": "2022-11-30T01:52:39.966547Z",
     "iopub.status.idle": "2022-11-30T01:52:39.989950Z",
     "shell.execute_reply": "2022-11-30T01:52:39.989237Z"
    },
    "papermill": {
     "duration": 0.035723,
     "end_time": "2022-11-30T01:52:39.991624",
     "exception": false,
     "start_time": "2022-11-30T01:52:39.955901",
     "status": "completed"
    },
    "tags": []
   },
   "outputs": [
    {
     "data": {
      "text/plain": [
       "'Compute correlation within distance False'"
      ]
     },
     "metadata": {},
     "output_type": "display_data"
    }
   ],
   "source": [
    "display(f\"Compute correlation within distance {COMPUTE_CORRELATIONS_WITHIN_DISTANCE}\")"
   ]
  },
  {
   "cell_type": "code",
   "execution_count": 11,
   "id": "b393b698-77e3-4ba2-8ac1-e14d51aa988f",
   "metadata": {
    "execution": {
     "iopub.execute_input": "2022-11-30T01:52:40.011704Z",
     "iopub.status.busy": "2022-11-30T01:52:40.011359Z",
     "iopub.status.idle": "2022-11-30T01:52:40.035640Z",
     "shell.execute_reply": "2022-11-30T01:52:40.034922Z"
    },
    "papermill": {
     "duration": 0.036212,
     "end_time": "2022-11-30T01:52:40.037360",
     "exception": false,
     "start_time": "2022-11-30T01:52:40.001148",
     "status": "completed"
    },
    "tags": []
   },
   "outputs": [
    {
     "data": {
      "text/plain": [
       "'Using output dir base: /opt/data/projects/asthma-copd/results/gls_phenoplier/gene_corrs/aco'"
      ]
     },
     "metadata": {},
     "output_type": "display_data"
    }
   ],
   "source": [
    "assert (\n",
    "    OUTPUT_DIR_BASE is not None and len(OUTPUT_DIR_BASE) > 0\n",
    "), \"Output directory path must be given\"\n",
    "\n",
    "OUTPUT_DIR_BASE = (\n",
    "    Path(OUTPUT_DIR_BASE)\n",
    "    / \"gene_corrs\"\n",
    "    / COHORT_NAME\n",
    "    # / REFERENCE_PANEL.lower()\n",
    "    # / EQTL_MODEL.lower()\n",
    ").resolve()\n",
    "\n",
    "OUTPUT_DIR_BASE.mkdir(parents=True, exist_ok=True)\n",
    "\n",
    "display(f\"Using output dir base: {OUTPUT_DIR_BASE}\")"
   ]
  },
  {
   "cell_type": "markdown",
   "id": "d2ba085e",
   "metadata": {
    "papermill": {
     "duration": 0.009286,
     "end_time": "2022-11-30T01:52:40.056519",
     "exception": false,
     "start_time": "2022-11-30T01:52:40.047233",
     "status": "completed"
    },
    "tags": []
   },
   "source": [
    "# Load data"
   ]
  },
  {
   "cell_type": "markdown",
   "id": "7dcb8db7",
   "metadata": {
    "papermill": {
     "duration": 0.009229,
     "end_time": "2022-11-30T01:52:40.075606",
     "exception": false,
     "start_time": "2022-11-30T01:52:40.066377",
     "status": "completed"
    },
    "tags": []
   },
   "source": [
    "## GWAS variants"
   ]
  },
  {
   "cell_type": "code",
   "execution_count": 12,
   "id": "29434c4e-8cd3-4b9b-82e4-b5a251d9dd19",
   "metadata": {
    "execution": {
     "iopub.execute_input": "2022-11-30T01:52:40.093787Z",
     "iopub.status.busy": "2022-11-30T01:52:40.093587Z",
     "iopub.status.idle": "2022-11-30T01:52:42.133227Z",
     "shell.execute_reply": "2022-11-30T01:52:42.132716Z"
    },
    "papermill": {
     "duration": 2.049999,
     "end_time": "2022-11-30T01:52:42.135009",
     "exception": false,
     "start_time": "2022-11-30T01:52:40.085010",
     "status": "completed"
    },
    "tags": []
   },
   "outputs": [],
   "source": [
    "with open(OUTPUT_DIR_BASE / \"gwas_variant_ids.pkl\", \"rb\") as handle:\n",
    "    gwas_variants_ids_set = pickle.load(handle)"
   ]
  },
  {
   "cell_type": "code",
   "execution_count": 13,
   "id": "b9d9dec2-4a76-4bf9-bde2-e24c95acb8a0",
   "metadata": {
    "execution": {
     "iopub.execute_input": "2022-11-30T01:52:42.155329Z",
     "iopub.status.busy": "2022-11-30T01:52:42.155198Z",
     "iopub.status.idle": "2022-11-30T01:52:42.168946Z",
     "shell.execute_reply": "2022-11-30T01:52:42.168485Z"
    },
    "papermill": {
     "duration": 0.02547,
     "end_time": "2022-11-30T01:52:42.170347",
     "exception": false,
     "start_time": "2022-11-30T01:52:42.144877",
     "status": "completed"
    },
    "tags": []
   },
   "outputs": [
    {
     "data": {
      "text/plain": [
       "8561476"
      ]
     },
     "execution_count": 13,
     "metadata": {},
     "output_type": "execute_result"
    }
   ],
   "source": [
    "len(gwas_variants_ids_set)"
   ]
  },
  {
   "cell_type": "code",
   "execution_count": 14,
   "id": "4235b06a-6034-4ee4-a0a3-2ae35d122418",
   "metadata": {
    "execution": {
     "iopub.execute_input": "2022-11-30T01:52:42.191125Z",
     "iopub.status.busy": "2022-11-30T01:52:42.190995Z",
     "iopub.status.idle": "2022-11-30T01:52:42.852393Z",
     "shell.execute_reply": "2022-11-30T01:52:42.851922Z"
    },
    "papermill": {
     "duration": 0.672943,
     "end_time": "2022-11-30T01:52:42.853769",
     "exception": false,
     "start_time": "2022-11-30T01:52:42.180826",
     "status": "completed"
    },
    "tags": []
   },
   "outputs": [
    {
     "data": {
      "text/plain": [
       "['chr6_22110189_T_C_b38',\n",
       " 'chr2_178046515_CGTTT_C_b38',\n",
       " 'chr20_41500555_G_C_b38',\n",
       " 'chr17_52162677_A_G_b38',\n",
       " 'chr4_187634223_T_C_b38']"
      ]
     },
     "execution_count": 14,
     "metadata": {},
     "output_type": "execute_result"
    }
   ],
   "source": [
    "list(gwas_variants_ids_set)[:5]"
   ]
  },
  {
   "cell_type": "markdown",
   "id": "07866999-2305-41f9-a144-e69c9122c212",
   "metadata": {
    "papermill": {
     "duration": 0.009781,
     "end_time": "2022-11-30T01:52:42.873584",
     "exception": false,
     "start_time": "2022-11-30T01:52:42.863803",
     "status": "completed"
    },
    "tags": []
   },
   "source": [
    "## S-PrediXcan tissue models"
   ]
  },
  {
   "cell_type": "code",
   "execution_count": 15,
   "id": "780611d9-77c8-405f-90a4-f271f7b09397",
   "metadata": {
    "execution": {
     "iopub.execute_input": "2022-11-30T01:52:42.894525Z",
     "iopub.status.busy": "2022-11-30T01:52:42.894392Z",
     "iopub.status.idle": "2022-11-30T01:52:43.212966Z",
     "shell.execute_reply": "2022-11-30T01:52:43.212450Z"
    },
    "papermill": {
     "duration": 0.330495,
     "end_time": "2022-11-30T01:52:43.214655",
     "exception": false,
     "start_time": "2022-11-30T01:52:42.884160",
     "status": "completed"
    },
    "tags": []
   },
   "outputs": [],
   "source": [
    "spredixcan_genes_models = pd.read_pickle(OUTPUT_DIR_BASE / \"gene_tissues.pkl\")"
   ]
  },
  {
   "cell_type": "code",
   "execution_count": 16,
   "id": "726dd1f6-9557-4225-91fa-b3b879ea96e1",
   "metadata": {
    "execution": {
     "iopub.execute_input": "2022-11-30T01:52:43.235203Z",
     "iopub.status.busy": "2022-11-30T01:52:43.235074Z",
     "iopub.status.idle": "2022-11-30T01:52:43.248761Z",
     "shell.execute_reply": "2022-11-30T01:52:43.248308Z"
    },
    "papermill": {
     "duration": 0.025415,
     "end_time": "2022-11-30T01:52:43.250158",
     "exception": false,
     "start_time": "2022-11-30T01:52:43.224743",
     "status": "completed"
    },
    "tags": []
   },
   "outputs": [
    {
     "data": {
      "text/plain": [
       "(6442, 5)"
      ]
     },
     "execution_count": 16,
     "metadata": {},
     "output_type": "execute_result"
    }
   ],
   "source": [
    "spredixcan_genes_models.shape"
   ]
  },
  {
   "cell_type": "code",
   "execution_count": 17,
   "id": "944a1b48-222c-4eb0-b252-b9de2cbca215",
   "metadata": {
    "execution": {
     "iopub.execute_input": "2022-11-30T01:52:43.271366Z",
     "iopub.status.busy": "2022-11-30T01:52:43.271239Z",
     "iopub.status.idle": "2022-11-30T01:52:43.288722Z",
     "shell.execute_reply": "2022-11-30T01:52:43.288253Z"
    },
    "papermill": {
     "duration": 0.029859,
     "end_time": "2022-11-30T01:52:43.290078",
     "exception": false,
     "start_time": "2022-11-30T01:52:43.260219",
     "status": "completed"
    },
    "tags": []
   },
   "outputs": [
    {
     "data": {
      "text/html": [
       "<div>\n",
       "<style scoped>\n",
       "    .dataframe tbody tr th:only-of-type {\n",
       "        vertical-align: middle;\n",
       "    }\n",
       "\n",
       "    .dataframe tbody tr th {\n",
       "        vertical-align: top;\n",
       "    }\n",
       "\n",
       "    .dataframe thead th {\n",
       "        text-align: right;\n",
       "    }\n",
       "</style>\n",
       "<table border=\"1\" class=\"dataframe\">\n",
       "  <thead>\n",
       "    <tr style=\"text-align: right;\">\n",
       "      <th></th>\n",
       "      <th>gene_name</th>\n",
       "      <th>tissue</th>\n",
       "      <th>n_tissues</th>\n",
       "      <th>n_snps_used_sum</th>\n",
       "      <th>n_snps_in_model_sum</th>\n",
       "    </tr>\n",
       "    <tr>\n",
       "      <th>gene_id</th>\n",
       "      <th></th>\n",
       "      <th></th>\n",
       "      <th></th>\n",
       "      <th></th>\n",
       "      <th></th>\n",
       "    </tr>\n",
       "  </thead>\n",
       "  <tbody>\n",
       "    <tr>\n",
       "      <th>ENSG00000000419</th>\n",
       "      <td>DPM1</td>\n",
       "      <td>(Brain_Hypothalamus, Brain_Substantia_nigra)</td>\n",
       "      <td>2</td>\n",
       "      <td>2</td>\n",
       "      <td>2</td>\n",
       "    </tr>\n",
       "    <tr>\n",
       "      <th>ENSG00000000938</th>\n",
       "      <td>FGR</td>\n",
       "      <td>(Muscle_Skeletal, Brain_Caudate_basal_ganglia,...</td>\n",
       "      <td>36</td>\n",
       "      <td>40</td>\n",
       "      <td>40</td>\n",
       "    </tr>\n",
       "    <tr>\n",
       "      <th>ENSG00000000971</th>\n",
       "      <td>CFH</td>\n",
       "      <td>(Brain_Caudate_basal_ganglia, Uterus, Cells_Cu...</td>\n",
       "      <td>34</td>\n",
       "      <td>44</td>\n",
       "      <td>44</td>\n",
       "    </tr>\n",
       "    <tr>\n",
       "      <th>ENSG00000001084</th>\n",
       "      <td>GCLC</td>\n",
       "      <td>(Muscle_Skeletal, Cells_Cultured_fibroblasts, ...</td>\n",
       "      <td>32</td>\n",
       "      <td>46</td>\n",
       "      <td>46</td>\n",
       "    </tr>\n",
       "    <tr>\n",
       "      <th>ENSG00000001167</th>\n",
       "      <td>NFYA</td>\n",
       "      <td>(Muscle_Skeletal, Brain_Caudate_basal_ganglia,...</td>\n",
       "      <td>40</td>\n",
       "      <td>47</td>\n",
       "      <td>48</td>\n",
       "    </tr>\n",
       "  </tbody>\n",
       "</table>\n",
       "</div>"
      ],
      "text/plain": [
       "                gene_name                                             tissue  \\\n",
       "gene_id                                                                        \n",
       "ENSG00000000419      DPM1       (Brain_Hypothalamus, Brain_Substantia_nigra)   \n",
       "ENSG00000000938       FGR  (Muscle_Skeletal, Brain_Caudate_basal_ganglia,...   \n",
       "ENSG00000000971       CFH  (Brain_Caudate_basal_ganglia, Uterus, Cells_Cu...   \n",
       "ENSG00000001084      GCLC  (Muscle_Skeletal, Cells_Cultured_fibroblasts, ...   \n",
       "ENSG00000001167      NFYA  (Muscle_Skeletal, Brain_Caudate_basal_ganglia,...   \n",
       "\n",
       "                 n_tissues  n_snps_used_sum  n_snps_in_model_sum  \n",
       "gene_id                                                           \n",
       "ENSG00000000419          2                2                    2  \n",
       "ENSG00000000938         36               40                   40  \n",
       "ENSG00000000971         34               44                   44  \n",
       "ENSG00000001084         32               46                   46  \n",
       "ENSG00000001167         40               47                   48  "
      ]
     },
     "execution_count": 17,
     "metadata": {},
     "output_type": "execute_result"
    }
   ],
   "source": [
    "spredixcan_genes_models.head()"
   ]
  },
  {
   "cell_type": "code",
   "execution_count": 18,
   "id": "d1c11bb1-be0b-4f40-b360-633d6827109f",
   "metadata": {
    "execution": {
     "iopub.execute_input": "2022-11-30T01:52:43.311423Z",
     "iopub.status.busy": "2022-11-30T01:52:43.311291Z",
     "iopub.status.idle": "2022-11-30T01:52:43.324629Z",
     "shell.execute_reply": "2022-11-30T01:52:43.324150Z"
    },
    "papermill": {
     "duration": 0.025551,
     "end_time": "2022-11-30T01:52:43.326085",
     "exception": false,
     "start_time": "2022-11-30T01:52:43.300534",
     "status": "completed"
    },
    "tags": []
   },
   "outputs": [],
   "source": [
    "assert spredixcan_genes_models.index.is_unique"
   ]
  },
  {
   "cell_type": "markdown",
   "id": "a5b5092c-a13e-47c4-a92a-480fcc08f3ae",
   "metadata": {
    "papermill": {
     "duration": 0.010086,
     "end_time": "2022-11-30T01:52:43.347120",
     "exception": false,
     "start_time": "2022-11-30T01:52:43.337034",
     "status": "completed"
    },
    "tags": []
   },
   "source": [
    "## Gene info"
   ]
  },
  {
   "cell_type": "code",
   "execution_count": 19,
   "id": "7d6bb224-88e9-4358-ac10-43a41d92cdad",
   "metadata": {
    "execution": {
     "iopub.execute_input": "2022-11-30T01:52:43.368343Z",
     "iopub.status.busy": "2022-11-30T01:52:43.368108Z",
     "iopub.status.idle": "2022-11-30T01:52:43.387669Z",
     "shell.execute_reply": "2022-11-30T01:52:43.387111Z"
    },
    "papermill": {
     "duration": 0.031856,
     "end_time": "2022-11-30T01:52:43.389216",
     "exception": false,
     "start_time": "2022-11-30T01:52:43.357360",
     "status": "completed"
    },
    "tags": []
   },
   "outputs": [],
   "source": [
    "genes_info = pd.read_pickle(OUTPUT_DIR_BASE / \"genes_info.pkl\")"
   ]
  },
  {
   "cell_type": "code",
   "execution_count": 20,
   "id": "9e32abfa-546d-483e-8c18-d526e9e05903",
   "metadata": {
    "execution": {
     "iopub.execute_input": "2022-11-30T01:52:43.411692Z",
     "iopub.status.busy": "2022-11-30T01:52:43.411441Z",
     "iopub.status.idle": "2022-11-30T01:52:43.429546Z",
     "shell.execute_reply": "2022-11-30T01:52:43.428985Z"
    },
    "papermill": {
     "duration": 0.030505,
     "end_time": "2022-11-30T01:52:43.430982",
     "exception": false,
     "start_time": "2022-11-30T01:52:43.400477",
     "status": "completed"
    },
    "tags": []
   },
   "outputs": [
    {
     "data": {
      "text/plain": [
       "(6442, 7)"
      ]
     },
     "execution_count": 20,
     "metadata": {},
     "output_type": "execute_result"
    }
   ],
   "source": [
    "genes_info.shape"
   ]
  },
  {
   "cell_type": "code",
   "execution_count": 21,
   "id": "d16c3e92-85ec-468a-9a56-e25a9774a1cb",
   "metadata": {
    "execution": {
     "iopub.execute_input": "2022-11-30T01:52:43.453297Z",
     "iopub.status.busy": "2022-11-30T01:52:43.452814Z",
     "iopub.status.idle": "2022-11-30T01:52:43.479800Z",
     "shell.execute_reply": "2022-11-30T01:52:43.479208Z"
    },
    "papermill": {
     "duration": 0.039738,
     "end_time": "2022-11-30T01:52:43.481319",
     "exception": false,
     "start_time": "2022-11-30T01:52:43.441581",
     "status": "completed"
    },
    "tags": []
   },
   "outputs": [
    {
     "data": {
      "text/html": [
       "<div>\n",
       "<style scoped>\n",
       "    .dataframe tbody tr th:only-of-type {\n",
       "        vertical-align: middle;\n",
       "    }\n",
       "\n",
       "    .dataframe tbody tr th {\n",
       "        vertical-align: top;\n",
       "    }\n",
       "\n",
       "    .dataframe thead th {\n",
       "        text-align: right;\n",
       "    }\n",
       "</style>\n",
       "<table border=\"1\" class=\"dataframe\">\n",
       "  <thead>\n",
       "    <tr style=\"text-align: right;\">\n",
       "      <th></th>\n",
       "      <th>name</th>\n",
       "      <th>id</th>\n",
       "      <th>chr</th>\n",
       "      <th>band</th>\n",
       "      <th>start_position</th>\n",
       "      <th>end_position</th>\n",
       "      <th>gene_length</th>\n",
       "    </tr>\n",
       "  </thead>\n",
       "  <tbody>\n",
       "    <tr>\n",
       "      <th>0</th>\n",
       "      <td>IFIT3</td>\n",
       "      <td>ENSG00000119917</td>\n",
       "      <td>10</td>\n",
       "      <td>10q23.31</td>\n",
       "      <td>89327997</td>\n",
       "      <td>89340971</td>\n",
       "      <td>12974</td>\n",
       "    </tr>\n",
       "    <tr>\n",
       "      <th>1</th>\n",
       "      <td>ZFP36</td>\n",
       "      <td>ENSG00000128016</td>\n",
       "      <td>19</td>\n",
       "      <td>19q13.2</td>\n",
       "      <td>39406813</td>\n",
       "      <td>39409412</td>\n",
       "      <td>2599</td>\n",
       "    </tr>\n",
       "    <tr>\n",
       "      <th>2</th>\n",
       "      <td>ZNF597</td>\n",
       "      <td>ENSG00000167981</td>\n",
       "      <td>16</td>\n",
       "      <td>16p13.3</td>\n",
       "      <td>3432414</td>\n",
       "      <td>3443504</td>\n",
       "      <td>11090</td>\n",
       "    </tr>\n",
       "    <tr>\n",
       "      <th>3</th>\n",
       "      <td>AGPS</td>\n",
       "      <td>ENSG00000018510</td>\n",
       "      <td>2</td>\n",
       "      <td>2q31.2</td>\n",
       "      <td>177392768</td>\n",
       "      <td>177559299</td>\n",
       "      <td>166531</td>\n",
       "    </tr>\n",
       "    <tr>\n",
       "      <th>4</th>\n",
       "      <td>CDK2</td>\n",
       "      <td>ENSG00000123374</td>\n",
       "      <td>12</td>\n",
       "      <td>12q13.2</td>\n",
       "      <td>55966781</td>\n",
       "      <td>55972789</td>\n",
       "      <td>6008</td>\n",
       "    </tr>\n",
       "  </tbody>\n",
       "</table>\n",
       "</div>"
      ],
      "text/plain": [
       "     name               id  chr      band  start_position  end_position  \\\n",
       "0   IFIT3  ENSG00000119917   10  10q23.31        89327997      89340971   \n",
       "1   ZFP36  ENSG00000128016   19   19q13.2        39406813      39409412   \n",
       "2  ZNF597  ENSG00000167981   16   16p13.3         3432414       3443504   \n",
       "3    AGPS  ENSG00000018510    2    2q31.2       177392768     177559299   \n",
       "4    CDK2  ENSG00000123374   12   12q13.2        55966781      55972789   \n",
       "\n",
       "   gene_length  \n",
       "0        12974  \n",
       "1         2599  \n",
       "2        11090  \n",
       "3       166531  \n",
       "4         6008  "
      ]
     },
     "execution_count": 21,
     "metadata": {},
     "output_type": "execute_result"
    }
   ],
   "source": [
    "genes_info.head()"
   ]
  },
  {
   "cell_type": "markdown",
   "id": "d3843e06",
   "metadata": {
    "papermill": {
     "duration": 0.010589,
     "end_time": "2022-11-30T01:52:43.503337",
     "exception": false,
     "start_time": "2022-11-30T01:52:43.492748",
     "status": "completed"
    },
    "tags": []
   },
   "source": [
    "# Compute correlations"
   ]
  },
  {
   "cell_type": "code",
   "execution_count": 22,
   "id": "cb859c15-d1f3-4006-a74c-2b83c0db9611",
   "metadata": {
    "execution": {
     "iopub.execute_input": "2022-11-30T01:52:43.525911Z",
     "iopub.status.busy": "2022-11-30T01:52:43.525339Z",
     "iopub.status.idle": "2022-11-30T01:52:43.548183Z",
     "shell.execute_reply": "2022-11-30T01:52:43.547592Z"
    },
    "papermill": {
     "duration": 0.035669,
     "end_time": "2022-11-30T01:52:43.549622",
     "exception": false,
     "start_time": "2022-11-30T01:52:43.513953",
     "status": "completed"
    },
    "tags": []
   },
   "outputs": [
    {
     "data": {
      "text/plain": [
       "PosixPath('/opt/data/projects/asthma-copd/results/gls_phenoplier/gene_corrs/aco/by_chr/gene_corrs-chr13.pkl')"
      ]
     },
     "metadata": {},
     "output_type": "display_data"
    }
   ],
   "source": [
    "output_dir = OUTPUT_DIR_BASE / \"by_chr\"\n",
    "output_dir.mkdir(exist_ok=True, parents=True)\n",
    "output_file = output_dir / f\"gene_corrs-chr{CHROMOSOME}.pkl\"\n",
    "display(output_file)"
   ]
  },
  {
   "cell_type": "code",
   "execution_count": 23,
   "id": "aa674fe4-6794-4eed-98fa-32b39d1d4ace",
   "metadata": {
    "execution": {
     "iopub.execute_input": "2022-11-30T01:52:43.572815Z",
     "iopub.status.busy": "2022-11-30T01:52:43.572272Z",
     "iopub.status.idle": "2022-11-30T01:52:43.593601Z",
     "shell.execute_reply": "2022-11-30T01:52:43.592990Z"
    },
    "papermill": {
     "duration": 0.034395,
     "end_time": "2022-11-30T01:52:43.595193",
     "exception": false,
     "start_time": "2022-11-30T01:52:43.560798",
     "status": "completed"
    },
    "tags": []
   },
   "outputs": [],
   "source": [
    "warnings.filterwarnings(\"error\")"
   ]
  },
  {
   "cell_type": "code",
   "execution_count": 24,
   "id": "44d5450b-3baf-43f1-9e2e-4b06f1a785f8",
   "metadata": {
    "execution": {
     "iopub.execute_input": "2022-11-30T01:52:43.618522Z",
     "iopub.status.busy": "2022-11-30T01:52:43.618249Z",
     "iopub.status.idle": "2022-11-30T01:52:43.639961Z",
     "shell.execute_reply": "2022-11-30T01:52:43.639350Z"
    },
    "papermill": {
     "duration": 0.035255,
     "end_time": "2022-11-30T01:52:43.641569",
     "exception": false,
     "start_time": "2022-11-30T01:52:43.606314",
     "status": "completed"
    },
    "tags": []
   },
   "outputs": [],
   "source": [
    "# standard checks\n",
    "all_chrs = genes_info[\"chr\"].dropna().unique()\n",
    "assert all_chrs.shape[0] == 22\n",
    "\n",
    "# select chromosome given by the user\n",
    "assert CHROMOSOME in all_chrs"
   ]
  },
  {
   "cell_type": "code",
   "execution_count": 25,
   "id": "2d7c043c-92a7-4d35-991b-fa69ac1e0268",
   "metadata": {
    "execution": {
     "iopub.execute_input": "2022-11-30T01:52:43.665162Z",
     "iopub.status.busy": "2022-11-30T01:52:43.664656Z",
     "iopub.status.idle": "2022-11-30T01:52:43.687862Z",
     "shell.execute_reply": "2022-11-30T01:52:43.687233Z"
    },
    "papermill": {
     "duration": 0.036292,
     "end_time": "2022-11-30T01:52:43.689299",
     "exception": false,
     "start_time": "2022-11-30T01:52:43.653007",
     "status": "completed"
    },
    "tags": []
   },
   "outputs": [
    {
     "name": "stdout",
     "output_type": "stream",
     "text": [
      "Number of genes in chromosome: 118\n"
     ]
    }
   ],
   "source": [
    "# run only on the chromosome specified\n",
    "all_chrs = [CHROMOSOME]\n",
    "genes_chr = genes_info[genes_info[\"chr\"] == CHROMOSOME]\n",
    "\n",
    "# For testing purposes\n",
    "# genes_chr = genes_chr.sample(n=20)\n",
    "\n",
    "print(f\"Number of genes in chromosome: {genes_chr.shape[0]}\", flush=True)"
   ]
  },
  {
   "cell_type": "code",
   "execution_count": 26,
   "id": "916015d8-2979-46d3-a9b9-1cf5a0932c6a",
   "metadata": {
    "execution": {
     "iopub.execute_input": "2022-11-30T01:52:43.713149Z",
     "iopub.status.busy": "2022-11-30T01:52:43.712671Z",
     "iopub.status.idle": "2022-11-30T01:52:43.734451Z",
     "shell.execute_reply": "2022-11-30T01:52:43.733828Z"
    },
    "papermill": {
     "duration": 0.035004,
     "end_time": "2022-11-30T01:52:43.736039",
     "exception": false,
     "start_time": "2022-11-30T01:52:43.701035",
     "status": "completed"
    },
    "tags": []
   },
   "outputs": [],
   "source": [
    "# sort genes by starting position to make visualizations better later\n",
    "genes_chr = genes_chr.sort_values(\"start_position\")"
   ]
  },
  {
   "cell_type": "code",
   "execution_count": 27,
   "id": "a38aa74a-8ad3-47f6-8ef9-56be0e011774",
   "metadata": {
    "execution": {
     "iopub.execute_input": "2022-11-30T01:52:43.759336Z",
     "iopub.status.busy": "2022-11-30T01:52:43.759057Z",
     "iopub.status.idle": "2022-11-30T01:52:43.780704Z",
     "shell.execute_reply": "2022-11-30T01:52:43.780089Z"
    },
    "papermill": {
     "duration": 0.034983,
     "end_time": "2022-11-30T01:52:43.782265",
     "exception": false,
     "start_time": "2022-11-30T01:52:43.747282",
     "status": "completed"
    },
    "tags": []
   },
   "outputs": [],
   "source": [
    "gene_chr_objs = [Gene(ensembl_id=gene_id) for gene_id in genes_chr[\"id\"]]"
   ]
  },
  {
   "cell_type": "code",
   "execution_count": 28,
   "id": "570f974f-13c3-42b6-ad3a-ce99ca885c1a",
   "metadata": {
    "execution": {
     "iopub.execute_input": "2022-11-30T01:52:43.806343Z",
     "iopub.status.busy": "2022-11-30T01:52:43.805819Z",
     "iopub.status.idle": "2022-11-30T01:52:43.828048Z",
     "shell.execute_reply": "2022-11-30T01:52:43.827428Z"
    },
    "papermill": {
     "duration": 0.035434,
     "end_time": "2022-11-30T01:52:43.829515",
     "exception": false,
     "start_time": "2022-11-30T01:52:43.794081",
     "status": "completed"
    },
    "tags": []
   },
   "outputs": [
    {
     "name": "stdout",
     "output_type": "stream",
     "text": [
      "Number of gene combinations: 7021\n"
     ]
    }
   ],
   "source": [
    "n = len(gene_chr_objs)\n",
    "# diagonal elements + upper triangular matrix\n",
    "n_comb = n + int(n * (n - 1) / 2.0)\n",
    "print(f\"Number of gene combinations: {n_comb}\", flush=True)"
   ]
  },
  {
   "cell_type": "code",
   "execution_count": 29,
   "id": "cdbb90a1",
   "metadata": {
    "execution": {
     "iopub.execute_input": "2022-11-30T01:52:43.853639Z",
     "iopub.status.busy": "2022-11-30T01:52:43.853176Z",
     "iopub.status.idle": "2022-11-30T01:57:19.731718Z",
     "shell.execute_reply": "2022-11-30T01:57:19.731228Z"
    },
    "papermill": {
     "duration": 275.892221,
     "end_time": "2022-11-30T01:57:19.733102",
     "exception": false,
     "start_time": "2022-11-30T01:52:43.840881",
     "status": "completed"
    },
    "tags": []
   },
   "outputs": [
    {
     "name": "stderr",
     "output_type": "stream",
     "text": [
      "ENSG00000169062 / ENSG00000169062: 100%|████████████████████████| 7021/7021 [04:35<00:00, 25.45it/s]\n"
     ]
    },
    {
     "data": {
      "text/plain": [
       "PosixPath('/opt/data/projects/asthma-copd/results/gls_phenoplier/gene_corrs/aco/by_chr/gene_corrs-chr13.pkl')"
      ]
     },
     "metadata": {},
     "output_type": "display_data"
    }
   ],
   "source": [
    "gene_corrs = []\n",
    "gene_corrs_data = np.full(\n",
    "    (n, n),\n",
    "    np.nan,\n",
    "    dtype=np.float64,\n",
    ")\n",
    "\n",
    "i = 0\n",
    "with tqdm(ncols=100, total=n_comb) as pbar:\n",
    "    for gene1_idx in range(0, len(gene_chr_objs)):\n",
    "        gene1_obj = gene_chr_objs[gene1_idx]\n",
    "        gene1_tissues = spredixcan_genes_models.loc[gene1_obj.ensembl_id, \"tissue\"]\n",
    "\n",
    "        for gene2_idx in range(gene1_idx, len(gene_chr_objs)):\n",
    "            gene2_obj = gene_chr_objs[gene2_idx]\n",
    "            gene2_tissues = spredixcan_genes_models.loc[gene2_obj.ensembl_id, \"tissue\"]\n",
    "\n",
    "            pbar.set_description(f\"{gene1_obj.ensembl_id} / {gene2_obj.ensembl_id}\")\n",
    "\n",
    "            try:\n",
    "                r = gene1_obj.get_ssm_correlation(\n",
    "                    other_gene=gene2_obj,\n",
    "                    tissues=gene1_tissues,\n",
    "                    other_tissues=gene2_tissues,\n",
    "                    snps_subset=gwas_variants_ids_set,\n",
    "                    condition_number=SMULTIXCAN_CONDITION_NUMBER,\n",
    "                    reference_panel=REFERENCE_PANEL,\n",
    "                    model_type=EQTL_MODEL,\n",
    "                    use_within_distance=COMPUTE_CORRELATIONS_WITHIN_DISTANCE,\n",
    "                )\n",
    "\n",
    "                if r is None:\n",
    "                    # if r is None, it's very likely because:\n",
    "                    #  * one of the genes has no prediction models\n",
    "                    #  * all the SNPs predictors for the gene are not present in the reference\n",
    "                    #    panel\n",
    "\n",
    "                    r = 0.0\n",
    "\n",
    "                gene_corrs.append(r)\n",
    "\n",
    "                gene_corrs_data[gene1_idx, gene2_idx] = r\n",
    "                gene_corrs_data[gene2_idx, gene1_idx] = r\n",
    "            except Warning as e:\n",
    "                if not DEBUG_MODE:\n",
    "                    raise e\n",
    "\n",
    "                print(\n",
    "                    f\"RuntimeWarning for genes {gene1_obj.ensembl_id} and {gene2_obj.ensembl_id}\",\n",
    "                    flush=True,\n",
    "                )\n",
    "                print(traceback.format_exc(), flush=True)\n",
    "\n",
    "                gene_corrs.append(np.nan)\n",
    "            except Exception as e:\n",
    "                if not DEBUG_MODE:\n",
    "                    raise e\n",
    "\n",
    "                print(\n",
    "                    f\"Exception for genes {gene1_obj.ensembl_id} and {gene2_obj.ensembl_id}\",\n",
    "                    flush=True,\n",
    "                )\n",
    "                print(traceback.format_exc(), flush=True)\n",
    "\n",
    "                gene_corrs.append(np.nan)\n",
    "\n",
    "            pbar.update(1)\n",
    "\n",
    "# create a pandas series\n",
    "gene_corrs_flat = pd.Series(gene_corrs)\n",
    "\n",
    "# save\n",
    "# FIXME: consider saving only the condenced matrix here. See here for\n",
    "# more details: https://github.com/greenelab/phenoplier/pull/38#discussion_r634600813\n",
    "# gene_corrs_data = squareform(np.array(gene_corrs, dtype=np.float64))\n",
    "# np.fill_diagonal(gene_corrs_data, 1.0)\n",
    "\n",
    "gene_chr_ids = [g.ensembl_id for g in gene_chr_objs]\n",
    "gene_corrs_df = pd.DataFrame(\n",
    "    data=gene_corrs_data,\n",
    "    index=gene_chr_ids,\n",
    "    columns=gene_chr_ids,\n",
    ")\n",
    "\n",
    "output_dir.mkdir(exist_ok=True, parents=True)\n",
    "display(output_file)\n",
    "\n",
    "gene_corrs_df.to_pickle(output_file)"
   ]
  },
  {
   "cell_type": "markdown",
   "id": "faa67b51-5373-470f-aa72-2ded53fa6dfe",
   "metadata": {
    "papermill": {
     "duration": 0.251647,
     "end_time": "2022-11-30T01:57:20.307580",
     "exception": false,
     "start_time": "2022-11-30T01:57:20.055933",
     "status": "completed"
    },
    "tags": []
   },
   "source": [
    "# Testing"
   ]
  },
  {
   "cell_type": "code",
   "execution_count": 30,
   "id": "14f7d046-4b55-4896-a56b-990127bcc388",
   "metadata": {
    "execution": {
     "iopub.execute_input": "2022-11-30T01:57:20.831318Z",
     "iopub.status.busy": "2022-11-30T01:57:20.831087Z",
     "iopub.status.idle": "2022-11-30T01:57:20.849840Z",
     "shell.execute_reply": "2022-11-30T01:57:20.849309Z"
    },
    "papermill": {
     "duration": 0.295946,
     "end_time": "2022-11-30T01:57:20.850721",
     "exception": false,
     "start_time": "2022-11-30T01:57:20.554775",
     "status": "completed"
    },
    "tags": []
   },
   "outputs": [
    {
     "data": {
      "text/plain": [
       "(118, 118)"
      ]
     },
     "execution_count": 30,
     "metadata": {},
     "output_type": "execute_result"
    }
   ],
   "source": [
    "gene_corrs_df.shape"
   ]
  },
  {
   "cell_type": "code",
   "execution_count": 31,
   "id": "c7d15414-3297-4537-a7c6-7588c0baeb75",
   "metadata": {
    "execution": {
     "iopub.execute_input": "2022-11-30T01:57:21.384065Z",
     "iopub.status.busy": "2022-11-30T01:57:21.383669Z",
     "iopub.status.idle": "2022-11-30T01:57:21.421652Z",
     "shell.execute_reply": "2022-11-30T01:57:21.421036Z"
    },
    "papermill": {
     "duration": 0.322676,
     "end_time": "2022-11-30T01:57:21.422499",
     "exception": false,
     "start_time": "2022-11-30T01:57:21.099823",
     "status": "completed"
    },
    "tags": []
   },
   "outputs": [
    {
     "data": {
      "text/html": [
       "<div>\n",
       "<style scoped>\n",
       "    .dataframe tbody tr th:only-of-type {\n",
       "        vertical-align: middle;\n",
       "    }\n",
       "\n",
       "    .dataframe tbody tr th {\n",
       "        vertical-align: top;\n",
       "    }\n",
       "\n",
       "    .dataframe thead th {\n",
       "        text-align: right;\n",
       "    }\n",
       "</style>\n",
       "<table border=\"1\" class=\"dataframe\">\n",
       "  <thead>\n",
       "    <tr style=\"text-align: right;\">\n",
       "      <th></th>\n",
       "      <th>ENSG00000121741</th>\n",
       "      <th>ENSG00000121743</th>\n",
       "      <th>ENSG00000121742</th>\n",
       "      <th>ENSG00000032742</th>\n",
       "      <th>ENSG00000150457</th>\n",
       "      <th>ENSG00000150459</th>\n",
       "      <th>ENSG00000102678</th>\n",
       "      <th>ENSG00000127863</th>\n",
       "      <th>ENSG00000228741</th>\n",
       "      <th>ENSG00000102699</th>\n",
       "      <th>...</th>\n",
       "      <th>ENSG00000126217</th>\n",
       "      <th>ENSG00000057593</th>\n",
       "      <th>ENSG00000126231</th>\n",
       "      <th>ENSG00000139842</th>\n",
       "      <th>ENSG00000185896</th>\n",
       "      <th>ENSG00000198176</th>\n",
       "      <th>ENSG00000183087</th>\n",
       "      <th>ENSG00000185989</th>\n",
       "      <th>ENSG00000130177</th>\n",
       "      <th>ENSG00000169062</th>\n",
       "    </tr>\n",
       "  </thead>\n",
       "  <tbody>\n",
       "    <tr>\n",
       "      <th>ENSG00000121741</th>\n",
       "      <td>1.000000</td>\n",
       "      <td>0.012097</td>\n",
       "      <td>0.011184</td>\n",
       "      <td>0.002933</td>\n",
       "      <td>0.002772</td>\n",
       "      <td>0.004460</td>\n",
       "      <td>0.004328</td>\n",
       "      <td>0.008426</td>\n",
       "      <td>0.008153</td>\n",
       "      <td>0.005306</td>\n",
       "      <td>...</td>\n",
       "      <td>0.002357</td>\n",
       "      <td>0.002328</td>\n",
       "      <td>0.004101</td>\n",
       "      <td>0.002655</td>\n",
       "      <td>0.003584</td>\n",
       "      <td>0.005325</td>\n",
       "      <td>0.005511</td>\n",
       "      <td>0.004851</td>\n",
       "      <td>0.002478</td>\n",
       "      <td>0.001590</td>\n",
       "    </tr>\n",
       "    <tr>\n",
       "      <th>ENSG00000121743</th>\n",
       "      <td>0.012097</td>\n",
       "      <td>1.000000</td>\n",
       "      <td>0.028466</td>\n",
       "      <td>0.009301</td>\n",
       "      <td>0.013014</td>\n",
       "      <td>0.006442</td>\n",
       "      <td>0.003147</td>\n",
       "      <td>0.008373</td>\n",
       "      <td>0.006775</td>\n",
       "      <td>0.006577</td>\n",
       "      <td>...</td>\n",
       "      <td>0.014327</td>\n",
       "      <td>0.005054</td>\n",
       "      <td>0.005796</td>\n",
       "      <td>0.005822</td>\n",
       "      <td>0.007454</td>\n",
       "      <td>0.009804</td>\n",
       "      <td>0.011914</td>\n",
       "      <td>0.009311</td>\n",
       "      <td>0.005826</td>\n",
       "      <td>0.006965</td>\n",
       "    </tr>\n",
       "    <tr>\n",
       "      <th>ENSG00000121742</th>\n",
       "      <td>0.011184</td>\n",
       "      <td>0.028466</td>\n",
       "      <td>1.000000</td>\n",
       "      <td>0.010330</td>\n",
       "      <td>0.005040</td>\n",
       "      <td>0.008485</td>\n",
       "      <td>0.006706</td>\n",
       "      <td>0.012004</td>\n",
       "      <td>0.009493</td>\n",
       "      <td>0.004909</td>\n",
       "      <td>...</td>\n",
       "      <td>0.008534</td>\n",
       "      <td>0.003761</td>\n",
       "      <td>0.008086</td>\n",
       "      <td>0.009492</td>\n",
       "      <td>0.009668</td>\n",
       "      <td>0.007234</td>\n",
       "      <td>0.008366</td>\n",
       "      <td>0.010232</td>\n",
       "      <td>0.002535</td>\n",
       "      <td>0.004482</td>\n",
       "    </tr>\n",
       "    <tr>\n",
       "      <th>ENSG00000032742</th>\n",
       "      <td>0.002933</td>\n",
       "      <td>0.009301</td>\n",
       "      <td>0.010330</td>\n",
       "      <td>1.000000</td>\n",
       "      <td>0.017363</td>\n",
       "      <td>0.008018</td>\n",
       "      <td>0.005442</td>\n",
       "      <td>0.007502</td>\n",
       "      <td>0.008291</td>\n",
       "      <td>0.006997</td>\n",
       "      <td>...</td>\n",
       "      <td>0.008754</td>\n",
       "      <td>0.005578</td>\n",
       "      <td>0.005795</td>\n",
       "      <td>0.005745</td>\n",
       "      <td>0.005541</td>\n",
       "      <td>0.004671</td>\n",
       "      <td>0.006215</td>\n",
       "      <td>0.006101</td>\n",
       "      <td>0.004329</td>\n",
       "      <td>0.009739</td>\n",
       "    </tr>\n",
       "    <tr>\n",
       "      <th>ENSG00000150457</th>\n",
       "      <td>0.002772</td>\n",
       "      <td>0.013014</td>\n",
       "      <td>0.005040</td>\n",
       "      <td>0.017363</td>\n",
       "      <td>1.000000</td>\n",
       "      <td>0.005581</td>\n",
       "      <td>0.009922</td>\n",
       "      <td>0.014383</td>\n",
       "      <td>0.005669</td>\n",
       "      <td>0.005084</td>\n",
       "      <td>...</td>\n",
       "      <td>0.008528</td>\n",
       "      <td>0.006059</td>\n",
       "      <td>0.005640</td>\n",
       "      <td>0.005839</td>\n",
       "      <td>0.005654</td>\n",
       "      <td>0.006113</td>\n",
       "      <td>0.009080</td>\n",
       "      <td>0.005411</td>\n",
       "      <td>0.000850</td>\n",
       "      <td>0.002332</td>\n",
       "    </tr>\n",
       "  </tbody>\n",
       "</table>\n",
       "<p>5 rows × 118 columns</p>\n",
       "</div>"
      ],
      "text/plain": [
       "                 ENSG00000121741  ENSG00000121743  ENSG00000121742  \\\n",
       "ENSG00000121741         1.000000         0.012097         0.011184   \n",
       "ENSG00000121743         0.012097         1.000000         0.028466   \n",
       "ENSG00000121742         0.011184         0.028466         1.000000   \n",
       "ENSG00000032742         0.002933         0.009301         0.010330   \n",
       "ENSG00000150457         0.002772         0.013014         0.005040   \n",
       "\n",
       "                 ENSG00000032742  ENSG00000150457  ENSG00000150459  \\\n",
       "ENSG00000121741         0.002933         0.002772         0.004460   \n",
       "ENSG00000121743         0.009301         0.013014         0.006442   \n",
       "ENSG00000121742         0.010330         0.005040         0.008485   \n",
       "ENSG00000032742         1.000000         0.017363         0.008018   \n",
       "ENSG00000150457         0.017363         1.000000         0.005581   \n",
       "\n",
       "                 ENSG00000102678  ENSG00000127863  ENSG00000228741  \\\n",
       "ENSG00000121741         0.004328         0.008426         0.008153   \n",
       "ENSG00000121743         0.003147         0.008373         0.006775   \n",
       "ENSG00000121742         0.006706         0.012004         0.009493   \n",
       "ENSG00000032742         0.005442         0.007502         0.008291   \n",
       "ENSG00000150457         0.009922         0.014383         0.005669   \n",
       "\n",
       "                 ENSG00000102699  ...  ENSG00000126217  ENSG00000057593  \\\n",
       "ENSG00000121741         0.005306  ...         0.002357         0.002328   \n",
       "ENSG00000121743         0.006577  ...         0.014327         0.005054   \n",
       "ENSG00000121742         0.004909  ...         0.008534         0.003761   \n",
       "ENSG00000032742         0.006997  ...         0.008754         0.005578   \n",
       "ENSG00000150457         0.005084  ...         0.008528         0.006059   \n",
       "\n",
       "                 ENSG00000126231  ENSG00000139842  ENSG00000185896  \\\n",
       "ENSG00000121741         0.004101         0.002655         0.003584   \n",
       "ENSG00000121743         0.005796         0.005822         0.007454   \n",
       "ENSG00000121742         0.008086         0.009492         0.009668   \n",
       "ENSG00000032742         0.005795         0.005745         0.005541   \n",
       "ENSG00000150457         0.005640         0.005839         0.005654   \n",
       "\n",
       "                 ENSG00000198176  ENSG00000183087  ENSG00000185989  \\\n",
       "ENSG00000121741         0.005325         0.005511         0.004851   \n",
       "ENSG00000121743         0.009804         0.011914         0.009311   \n",
       "ENSG00000121742         0.007234         0.008366         0.010232   \n",
       "ENSG00000032742         0.004671         0.006215         0.006101   \n",
       "ENSG00000150457         0.006113         0.009080         0.005411   \n",
       "\n",
       "                 ENSG00000130177  ENSG00000169062  \n",
       "ENSG00000121741         0.002478         0.001590  \n",
       "ENSG00000121743         0.005826         0.006965  \n",
       "ENSG00000121742         0.002535         0.004482  \n",
       "ENSG00000032742         0.004329         0.009739  \n",
       "ENSG00000150457         0.000850         0.002332  \n",
       "\n",
       "[5 rows x 118 columns]"
      ]
     },
     "execution_count": 31,
     "metadata": {},
     "output_type": "execute_result"
    }
   ],
   "source": [
    "gene_corrs_df.head()"
   ]
  },
  {
   "cell_type": "markdown",
   "id": "dad6603f-01c6-41fb-a6f6-241051207dd8",
   "metadata": {
    "papermill": {
     "duration": 0.246898,
     "end_time": "2022-11-30T01:57:21.917059",
     "exception": false,
     "start_time": "2022-11-30T01:57:21.670161",
     "status": "completed"
    },
    "tags": []
   },
   "source": [
    "## Standard checks and stats"
   ]
  },
  {
   "cell_type": "code",
   "execution_count": 32,
   "id": "286686af-1b7b-4440-8453-6bdcbd8de19c",
   "metadata": {
    "execution": {
     "iopub.execute_input": "2022-11-30T01:57:22.444662Z",
     "iopub.status.busy": "2022-11-30T01:57:22.444234Z",
     "iopub.status.idle": "2022-11-30T01:57:22.467355Z",
     "shell.execute_reply": "2022-11-30T01:57:22.466722Z"
    },
    "papermill": {
     "duration": 0.273603,
     "end_time": "2022-11-30T01:57:22.468268",
     "exception": false,
     "start_time": "2022-11-30T01:57:22.194665",
     "status": "completed"
    },
    "tags": []
   },
   "outputs": [],
   "source": [
    "assert not gene_corrs_df.isna().any().any()"
   ]
  },
  {
   "cell_type": "code",
   "execution_count": 33,
   "id": "00583efc-7068-4270-ad1e-4a418e91db96",
   "metadata": {
    "execution": {
     "iopub.execute_input": "2022-11-30T01:57:23.029228Z",
     "iopub.status.busy": "2022-11-30T01:57:23.028829Z",
     "iopub.status.idle": "2022-11-30T01:57:23.053021Z",
     "shell.execute_reply": "2022-11-30T01:57:23.052402Z"
    },
    "papermill": {
     "duration": 0.316786,
     "end_time": "2022-11-30T01:57:23.053943",
     "exception": false,
     "start_time": "2022-11-30T01:57:22.737157",
     "status": "completed"
    },
    "tags": []
   },
   "outputs": [
    {
     "data": {
      "text/plain": [
       "2.6993954364902085e-05"
      ]
     },
     "metadata": {},
     "output_type": "display_data"
    }
   ],
   "source": [
    "_min_val = gene_corrs_df.min().min()\n",
    "display(_min_val)\n",
    "assert _min_val >= -0.05"
   ]
  },
  {
   "cell_type": "code",
   "execution_count": 34,
   "id": "d04fb2cf-1050-475b-b855-f5f7cc04092b",
   "metadata": {
    "execution": {
     "iopub.execute_input": "2022-11-30T01:57:23.615911Z",
     "iopub.status.busy": "2022-11-30T01:57:23.615540Z",
     "iopub.status.idle": "2022-11-30T01:57:23.637944Z",
     "shell.execute_reply": "2022-11-30T01:57:23.637375Z"
    },
    "papermill": {
     "duration": 0.318147,
     "end_time": "2022-11-30T01:57:23.638927",
     "exception": false,
     "start_time": "2022-11-30T01:57:23.320780",
     "status": "completed"
    },
    "tags": []
   },
   "outputs": [
    {
     "data": {
      "text/plain": [
       "1.0000000000000022"
      ]
     },
     "metadata": {},
     "output_type": "display_data"
    }
   ],
   "source": [
    "_max_val = gene_corrs_df.max().max()  # this captures the diagonal\n",
    "display(_max_val)\n",
    "assert _max_val <= 1.05"
   ]
  },
  {
   "cell_type": "code",
   "execution_count": 35,
   "id": "96d02c44-1fba-47be-8a93-8f2608420b9c",
   "metadata": {
    "execution": {
     "iopub.execute_input": "2022-11-30T01:57:24.173525Z",
     "iopub.status.busy": "2022-11-30T01:57:24.173156Z",
     "iopub.status.idle": "2022-11-30T01:57:24.192755Z",
     "shell.execute_reply": "2022-11-30T01:57:24.192200Z"
    },
    "papermill": {
     "duration": 0.280785,
     "end_time": "2022-11-30T01:57:24.193675",
     "exception": false,
     "start_time": "2022-11-30T01:57:23.912890",
     "status": "completed"
    },
    "tags": []
   },
   "outputs": [],
   "source": [
    "# check upper triangular values\n",
    "# assert len(gene_corrs) == int(genes_chr.shape[0] * (genes_chr.shape[0] - 1) / 2)"
   ]
  },
  {
   "cell_type": "code",
   "execution_count": 36,
   "id": "fe283586-c348-40e0-8841-f6d97bfb021c",
   "metadata": {
    "execution": {
     "iopub.execute_input": "2022-11-30T01:57:24.719732Z",
     "iopub.status.busy": "2022-11-30T01:57:24.719369Z",
     "iopub.status.idle": "2022-11-30T01:57:24.742762Z",
     "shell.execute_reply": "2022-11-30T01:57:24.742208Z"
    },
    "papermill": {
     "duration": 0.272458,
     "end_time": "2022-11-30T01:57:24.743588",
     "exception": false,
     "start_time": "2022-11-30T01:57:24.471130",
     "status": "completed"
    },
    "tags": []
   },
   "outputs": [
    {
     "data": {
      "text/plain": [
       "count    7021.000000\n",
       "mean        0.026615\n",
       "std         0.132378\n",
       "min         0.000027\n",
       "25%         0.004516\n",
       "50%         0.006623\n",
       "75%         0.009115\n",
       "max         1.000000\n",
       "dtype: float64"
      ]
     },
     "execution_count": 36,
     "metadata": {},
     "output_type": "execute_result"
    }
   ],
   "source": [
    "gene_corrs_flat.describe()"
   ]
  },
  {
   "cell_type": "code",
   "execution_count": 37,
   "id": "b3815678-0f93-4b35-897b-a9d047a2aa78",
   "metadata": {
    "execution": {
     "iopub.execute_input": "2022-11-30T01:57:25.271199Z",
     "iopub.status.busy": "2022-11-30T01:57:25.270834Z",
     "iopub.status.idle": "2022-11-30T01:57:25.294392Z",
     "shell.execute_reply": "2022-11-30T01:57:25.293834Z"
    },
    "papermill": {
     "duration": 0.272866,
     "end_time": "2022-11-30T01:57:25.295277",
     "exception": false,
     "start_time": "2022-11-30T01:57:25.022411",
     "status": "completed"
    },
    "tags": []
   },
   "outputs": [
    {
     "data": {
      "text/plain": [
       "0.00    0.000027\n",
       "0.05    0.002110\n",
       "0.10    0.002952\n",
       "0.15    0.003536\n",
       "0.20    0.004042\n",
       "0.25    0.004516\n",
       "0.30    0.004991\n",
       "0.35    0.005411\n",
       "0.40    0.005811\n",
       "0.45    0.006205\n",
       "0.50    0.006623\n",
       "0.55    0.007066\n",
       "0.60    0.007502\n",
       "0.65    0.007964\n",
       "0.70    0.008521\n",
       "0.75    0.009115\n",
       "0.80    0.009763\n",
       "0.85    0.010566\n",
       "0.90    0.011819\n",
       "0.95    0.014267\n",
       "dtype: float64"
      ]
     },
     "metadata": {},
     "output_type": "display_data"
    }
   ],
   "source": [
    "gene_corrs_quantiles = gene_corrs_flat.quantile(np.arange(0, 1, 0.05))\n",
    "display(gene_corrs_quantiles)"
   ]
  },
  {
   "cell_type": "markdown",
   "id": "87134509-b145-4a10-8bc9-b7e914c2b0fa",
   "metadata": {
    "papermill": {
     "duration": 0.277379,
     "end_time": "2022-11-30T01:57:25.821663",
     "exception": false,
     "start_time": "2022-11-30T01:57:25.544284",
     "status": "completed"
    },
    "tags": []
   },
   "source": [
    "## Positive definiteness"
   ]
  },
  {
   "cell_type": "code",
   "execution_count": 38,
   "id": "07d9a9a1-a4f7-48aa-b916-6d42a8cc6186",
   "metadata": {
    "execution": {
     "iopub.execute_input": "2022-11-30T01:57:26.319341Z",
     "iopub.status.busy": "2022-11-30T01:57:26.318772Z",
     "iopub.status.idle": "2022-11-30T01:57:26.344438Z",
     "shell.execute_reply": "2022-11-30T01:57:26.343785Z"
    },
    "papermill": {
     "duration": 0.27359,
     "end_time": "2022-11-30T01:57:26.345393",
     "exception": false,
     "start_time": "2022-11-30T01:57:26.071803",
     "status": "completed"
    },
    "tags": []
   },
   "outputs": [
    {
     "data": {
      "text/plain": [
       "0"
      ]
     },
     "metadata": {},
     "output_type": "display_data"
    },
    {
     "data": {
      "text/plain": [
       "array([], dtype=float64)"
      ]
     },
     "metadata": {},
     "output_type": "display_data"
    }
   ],
   "source": [
    "# print negative eigenvalues\n",
    "eigs = np.linalg.eigvals(gene_corrs_df.to_numpy())\n",
    "display(len(eigs[eigs < 0]))\n",
    "display(eigs[eigs < 0])"
   ]
  },
  {
   "cell_type": "code",
   "execution_count": 39,
   "id": "6e218436-c3c5-4028-8c94-a4fa6260efce",
   "metadata": {
    "execution": {
     "iopub.execute_input": "2022-11-30T01:57:26.869942Z",
     "iopub.status.busy": "2022-11-30T01:57:26.869597Z",
     "iopub.status.idle": "2022-11-30T01:57:26.891383Z",
     "shell.execute_reply": "2022-11-30T01:57:26.890731Z"
    },
    "papermill": {
     "duration": 0.270724,
     "end_time": "2022-11-30T01:57:26.892308",
     "exception": false,
     "start_time": "2022-11-30T01:57:26.621584",
     "status": "completed"
    },
    "tags": []
   },
   "outputs": [
    {
     "name": "stdout",
     "output_type": "stream",
     "text": [
      "Works!\n"
     ]
    }
   ],
   "source": [
    "try:\n",
    "    chol_mat = np.linalg.cholesky(gene_corrs_df.to_numpy())\n",
    "    cov_inv = np.linalg.inv(chol_mat)\n",
    "    print(\"Works!\")\n",
    "except Exception as e:\n",
    "    print(f\"Cholesky decomposition failed: {str(e)}\")"
   ]
  },
  {
   "cell_type": "code",
   "execution_count": 40,
   "id": "dd8827fb-faf9-4c7c-9454-015e94752706",
   "metadata": {
    "execution": {
     "iopub.execute_input": "2022-11-30T01:57:27.422867Z",
     "iopub.status.busy": "2022-11-30T01:57:27.422260Z",
     "iopub.status.idle": "2022-11-30T01:57:27.443692Z",
     "shell.execute_reply": "2022-11-30T01:57:27.443081Z"
    },
    "papermill": {
     "duration": 0.273795,
     "end_time": "2022-11-30T01:57:27.444590",
     "exception": false,
     "start_time": "2022-11-30T01:57:27.170795",
     "status": "completed"
    },
    "tags": []
   },
   "outputs": [
    {
     "name": "stdout",
     "output_type": "stream",
     "text": [
      "Works!\n"
     ]
    }
   ],
   "source": [
    "try:\n",
    "    # decomposition used by statsmodels.GLS\n",
    "    cholsigmainv = np.linalg.cholesky(np.linalg.inv(gene_corrs_df.to_numpy())).T\n",
    "    print(\"Works!\")\n",
    "except Exception as e:\n",
    "    print(f\"Cholesky decomposition failed (statsmodels.GLS): {str(e)}\")"
   ]
  },
  {
   "cell_type": "markdown",
   "id": "8e60a080-edb2-4e9c-b2ef-22961693200c",
   "metadata": {
    "papermill": {
     "duration": 0.277432,
     "end_time": "2022-11-30T01:57:27.970908",
     "exception": false,
     "start_time": "2022-11-30T01:57:27.693476",
     "status": "completed"
    },
    "tags": []
   },
   "source": [
    "## Plot: distribution"
   ]
  },
  {
   "cell_type": "code",
   "execution_count": 41,
   "id": "8301126b-a7d4-4744-9c7d-f0f86eb6f54c",
   "metadata": {
    "execution": {
     "iopub.execute_input": "2022-11-30T01:57:28.525845Z",
     "iopub.status.busy": "2022-11-30T01:57:28.525495Z",
     "iopub.status.idle": "2022-11-30T01:57:31.219007Z",
     "shell.execute_reply": "2022-11-30T01:57:31.218488Z"
    },
    "papermill": {
     "duration": 2.979832,
     "end_time": "2022-11-30T01:57:31.220460",
     "exception": false,
     "start_time": "2022-11-30T01:57:28.240628",
     "status": "completed"
    },
    "tags": []
   },
   "outputs": [
    {
     "data": {
      "image/png": "[encoded data removed]",
      "text/plain": [
       "<Figure size 700x700 with 1 Axes>"
      ]
     },
     "metadata": {},
     "output_type": "display_data"
    }
   ],
   "source": [
    "with sns.plotting_context(\"paper\", font_scale=1.5):\n",
    "    g = sns.displot(gene_corrs_flat, kde=True, height=7)\n",
    "    g.ax.set_title(\n",
    "        f\"Distribution of gene correlation values in chromosome {CHROMOSOME}\"\n",
    "    )"
   ]
  },
  {
   "cell_type": "markdown",
   "id": "cbd52bca-d878-4a2f-b684-5c83aa3038d4",
   "metadata": {
    "papermill": {
     "duration": 0.251449,
     "end_time": "2022-11-30T01:57:31.761091",
     "exception": false,
     "start_time": "2022-11-30T01:57:31.509642",
     "status": "completed"
    },
    "tags": []
   },
   "source": [
    "## Plot: heatmap"
   ]
  },
  {
   "cell_type": "code",
   "execution_count": 42,
   "id": "d03fe63a-c7b2-4fb9-a53c-db362ce843c9",
   "metadata": {
    "execution": {
     "iopub.execute_input": "2022-11-30T01:57:32.336428Z",
     "iopub.status.busy": "2022-11-30T01:57:32.336125Z",
     "iopub.status.idle": "2022-11-30T01:57:32.355141Z",
     "shell.execute_reply": "2022-11-30T01:57:32.354689Z"
    },
    "papermill": {
     "duration": 0.277993,
     "end_time": "2022-11-30T01:57:32.356001",
     "exception": false,
     "start_time": "2022-11-30T01:57:32.078008",
     "status": "completed"
    },
    "tags": []
   },
   "outputs": [
    {
     "data": {
      "text/plain": [
       "'0.0 / 0.05'"
      ]
     },
     "metadata": {},
     "output_type": "display_data"
    }
   ],
   "source": [
    "vmin_val = min(0.00, gene_corrs_quantiles[0.10])\n",
    "vmax_val = max(0.05, gene_corrs_quantiles[0.90])\n",
    "display(f\"{vmin_val} / {vmax_val}\")"
   ]
  },
  {
   "cell_type": "code",
   "execution_count": 43,
   "id": "dc41b70b-5bcc-4d9e-9f33-a22c4a94dab5",
   "metadata": {
    "execution": {
     "iopub.execute_input": "2022-11-30T01:57:32.882786Z",
     "iopub.status.busy": "2022-11-30T01:57:32.882520Z",
     "iopub.status.idle": "2022-11-30T01:57:33.050718Z",
     "shell.execute_reply": "2022-11-30T01:57:33.050292Z"
    },
    "papermill": {
     "duration": 0.41735,
     "end_time": "2022-11-30T01:57:33.051524",
     "exception": false,
     "start_time": "2022-11-30T01:57:32.634174",
     "status": "completed"
    },
    "tags": []
   },
   "outputs": [
    {
     "data": {
      "text/plain": [
       "Text(0.5, 1.0, 'Gene correlations in chromosome 13')"
      ]
     },
     "execution_count": 43,
     "metadata": {},
     "output_type": "execute_result"
    },
    {
     "data": {
      "image/png": "[encoded data removed]",
      "text/plain": [
       "<Figure size 1000x1000 with 2 Axes>"
      ]
     },
     "metadata": {},
     "output_type": "display_data"
    }
   ],
   "source": [
    "f, ax = plt.subplots(figsize=(10, 10))\n",
    "sns.heatmap(\n",
    "    gene_corrs_df,\n",
    "    xticklabels=False,\n",
    "    yticklabels=False,\n",
    "    square=True,\n",
    "    vmin=vmin_val,\n",
    "    vmax=vmax_val,\n",
    "    cmap=\"rocket_r\",\n",
    "    ax=ax,\n",
    ")\n",
    "ax.set_title(f\"Gene correlations in chromosome {CHROMOSOME}\")"
   ]
  },
  {
   "cell_type": "code",
   "execution_count": null,
   "id": "b25e3ead",
   "metadata": {
    "papermill": {
     "duration": 0.273803,
     "end_time": "2022-11-30T01:57:33.575372",
     "exception": false,
     "start_time": "2022-11-30T01:57:33.301569",
     "status": "completed"
    },
    "tags": []
   },
   "outputs": [],
   "source": []
  }
 ],
 "metadata": {
  "jupytext": {
   "cell_metadata_filter": "all,-execution,-papermill,-trusted",
   "formats": "ipynb,py//py:percent"
  },
  "kernelspec": {
   "display_name": "Python 3 (ipykernel)",
   "language": "python",
   "name": "python3"
  },
  "language_info": {
   "codemirror_mode": {
    "name": "ipython",
    "version": 3
   },
   "file_extension": ".py",
   "mimetype": "text/x-python",
   "name": "python",
   "nbconvert_exporter": "python",
   "pygments_lexer": "ipython3",
   "version": "3.10.6"
  },
  "papermill": {
   "default_parameters": {},
   "duration": 298.535522,
   "end_time": "2022-11-30T01:57:36.561542",
   "environment_variables": {},
   "exception": null,
   "input_path": "projects/asthma-copd/nbs/20_gene_corrs/10-gene_expr_correlations.ipynb",
   "output_path": "projects/asthma-copd/nbs/20_gene_corrs/gene_corrs/aco/10-gene_expr_correlations-chr13.run.ipynb",
   "parameters": {
    "CHROMOSOME": 13,
    "COHORT_NAME": "aco",
    "OUTPUT_DIR_BASE": "/opt/data/projects/asthma-copd/results/gls_phenoplier"
   },
   "start_time": "2022-11-30T01:52:38.026020",
   "version": "2.2.2"
  }
 },
 "nbformat": 4,
 "nbformat_minor": 5
}
