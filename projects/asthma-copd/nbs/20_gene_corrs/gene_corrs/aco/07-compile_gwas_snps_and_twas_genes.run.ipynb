{
 "cells": [
  {
   "cell_type": "markdown",
   "id": "7a6632fb",
   "metadata": {
    "papermill": {
     "duration": 0.022748,
     "end_time": "2022-11-29T22:08:25.961086",
     "exception": false,
     "start_time": "2022-11-29T22:08:25.938338",
     "status": "completed"
    },
    "tags": []
   },
   "source": [
    "# Description"
   ]
  },
  {
   "cell_type": "markdown",
   "id": "7097c346",
   "metadata": {
    "papermill": {
     "duration": 0.022112,
     "end_time": "2022-11-29T22:08:26.005648",
     "exception": false,
     "start_time": "2022-11-29T22:08:25.983536",
     "status": "completed"
    },
    "tags": []
   },
   "source": [
    "(Please, take a look at the README.md file in this directory for instructions on how to run this notebook)\n",
    "\n",
    "This notebook compiles information about the GWAS and TWAS for a particular cohort. For example, the set of GWAS variants, variance of predicted expression of genes, etc.\n",
    "\n",
    "It has specicfic parameters for papermill (see under `Settings` below).\n",
    "\n",
    "This notebook is not directly run. See README.md."
   ]
  },
  {
   "cell_type": "markdown",
   "id": "c61d8427",
   "metadata": {
    "papermill": {
     "duration": 0.010982,
     "end_time": "2022-11-29T22:08:26.034602",
     "exception": false,
     "start_time": "2022-11-29T22:08:26.023620",
     "status": "completed"
    },
    "tags": []
   },
   "source": [
    "# Modules"
   ]
  },
  {
   "cell_type": "code",
   "execution_count": 1,
   "id": "bbc0234f",
   "metadata": {
    "execution": {
     "iopub.execute_input": "2022-11-29T22:08:26.058208Z",
     "iopub.status.busy": "2022-11-29T22:08:26.057809Z",
     "iopub.status.idle": "2022-11-29T22:08:26.077717Z",
     "shell.execute_reply": "2022-11-29T22:08:26.076977Z"
    },
    "papermill": {
     "duration": 0.033003,
     "end_time": "2022-11-29T22:08:26.078764",
     "exception": false,
     "start_time": "2022-11-29T22:08:26.045761",
     "status": "completed"
    },
    "tags": []
   },
   "outputs": [],
   "source": [
    "%load_ext autoreload\n",
    "%autoreload 2"
   ]
  },
  {
   "cell_type": "code",
   "execution_count": 2,
   "id": "1d5f5a59",
   "metadata": {
    "execution": {
     "iopub.execute_input": "2022-11-29T22:08:26.102433Z",
     "iopub.status.busy": "2022-11-29T22:08:26.101847Z",
     "iopub.status.idle": "2022-11-29T22:08:26.416435Z",
     "shell.execute_reply": "2022-11-29T22:08:26.415885Z"
    },
    "papermill": {
     "duration": 0.327752,
     "end_time": "2022-11-29T22:08:26.417930",
     "exception": false,
     "start_time": "2022-11-29T22:08:26.090178",
     "status": "completed"
    },
    "tags": []
   },
   "outputs": [],
   "source": [
    "from pathlib import Path\n",
    "import pickle\n",
    "\n",
    "import numpy as np\n",
    "import pandas as pd\n",
    "\n",
    "import conf\n",
    "from entity import Gene"
   ]
  },
  {
   "cell_type": "markdown",
   "id": "1eac24b5",
   "metadata": {
    "papermill": {
     "duration": 0.011099,
     "end_time": "2022-11-29T22:08:26.443678",
     "exception": false,
     "start_time": "2022-11-29T22:08:26.432579",
     "status": "completed"
    },
    "tags": []
   },
   "source": [
    "# Settings"
   ]
  },
  {
   "cell_type": "code",
   "execution_count": 3,
   "id": "ca4560ba",
   "metadata": {
    "execution": {
     "iopub.execute_input": "2022-11-29T22:08:26.466791Z",
     "iopub.status.busy": "2022-11-29T22:08:26.466569Z",
     "iopub.status.idle": "2022-11-29T22:08:26.477958Z",
     "shell.execute_reply": "2022-11-29T22:08:26.477483Z"
    },
    "papermill": {
     "duration": 0.023786,
     "end_time": "2022-11-29T22:08:26.478710",
     "exception": false,
     "start_time": "2022-11-29T22:08:26.454924",
     "status": "completed"
    },
    "tags": [
     "parameters"
    ]
   },
   "outputs": [],
   "source": [
    "# a cohort name (it could be something like UK_BIOBANK, etc)\n",
    "COHORT_NAME = None\n",
    "\n",
    "# reference panel such as 1000G or GTEX_V8\n",
    "REFERENCE_PANEL = \"GTEX_V8\"\n",
    "\n",
    "# predictions models such as MASHR or ELASTIC_NET\n",
    "EQTL_MODEL = \"MASHR\"\n",
    "\n",
    "# a string with a path pointing to an imputed GWAS\n",
    "GWAS_FILE = None\n",
    "\n",
    "# a string with a path pointing where S-PrediXcan results (tissue-specific are located\n",
    "SPREDIXCAN_FOLDER = None\n",
    "\n",
    "# an f-string with one placeholder {tissue}\n",
    "SPREDIXCAN_FILE_PATTERN = None\n",
    "\n",
    "# a string with a path pointing to an S-MultiXcan result\n",
    "SMULTIXCAN_FILE = None\n",
    "\n",
    "# output dir\n",
    "OUTPUT_DIR_BASE = None"
   ]
  },
  {
   "cell_type": "code",
   "execution_count": 4,
   "id": "2f44b155",
   "metadata": {
    "execution": {
     "iopub.execute_input": "2022-11-29T22:08:26.508493Z",
     "iopub.status.busy": "2022-11-29T22:08:26.508227Z",
     "iopub.status.idle": "2022-11-29T22:08:26.523295Z",
     "shell.execute_reply": "2022-11-29T22:08:26.522779Z"
    },
    "papermill": {
     "duration": 0.030021,
     "end_time": "2022-11-29T22:08:26.524271",
     "exception": false,
     "start_time": "2022-11-29T22:08:26.494250",
     "status": "completed"
    },
    "tags": [
     "injected-parameters"
    ]
   },
   "outputs": [],
   "source": [
    "# Parameters\n",
    "COHORT_NAME = \"aco\"\n",
    "GWAS_FILE = \"/opt/data/projects/asthma-copd/results/final_imputed_gwas/GWAS_ACO_GLM_SNPs_info0.7-harmonized-imputed.txt.gz\"\n",
    "SPREDIXCAN_FOLDER = \"/opt/data/projects/asthma-copd/results/twas/spredixcan\"\n",
    "SPREDIXCAN_FILE_PATTERN = \"GWAS_ACO_GLM_SNPs_info0.7-gtex_v8-mashr-{tissue}.csv\"\n",
    "SMULTIXCAN_FILE = \"/opt/data/projects/asthma-copd/results/twas/smultixcan/GWAS_ACO_GLM_SNPs_info0.7-gtex_v8-mashr-smultixcan.txt\"\n",
    "OUTPUT_DIR_BASE = \"/opt/data/projects/asthma-copd/results/gls_phenoplier\"\n"
   ]
  },
  {
   "cell_type": "code",
   "execution_count": 5,
   "id": "8fe24bef",
   "metadata": {
    "execution": {
     "iopub.execute_input": "2022-11-29T22:08:26.548029Z",
     "iopub.status.busy": "2022-11-29T22:08:26.547643Z",
     "iopub.status.idle": "2022-11-29T22:08:26.570437Z",
     "shell.execute_reply": "2022-11-29T22:08:26.569866Z"
    },
    "papermill": {
     "duration": 0.035524,
     "end_time": "2022-11-29T22:08:26.571391",
     "exception": false,
     "start_time": "2022-11-29T22:08:26.535867",
     "status": "completed"
    },
    "tags": []
   },
   "outputs": [
    {
     "data": {
      "text/plain": [
       "'Cohort name: aco'"
      ]
     },
     "metadata": {},
     "output_type": "display_data"
    }
   ],
   "source": [
    "assert COHORT_NAME is not None and len(COHORT_NAME) > 0, \"A cohort name must be given\"\n",
    "\n",
    "COHORT_NAME = COHORT_NAME.lower()\n",
    "display(f\"Cohort name: {COHORT_NAME}\")"
   ]
  },
  {
   "cell_type": "code",
   "execution_count": 6,
   "id": "f53ba19b-0f93-4fa2-a047-63b375939d1a",
   "metadata": {
    "execution": {
     "iopub.execute_input": "2022-11-29T22:08:26.595387Z",
     "iopub.status.busy": "2022-11-29T22:08:26.594895Z",
     "iopub.status.idle": "2022-11-29T22:08:26.612037Z",
     "shell.execute_reply": "2022-11-29T22:08:26.611473Z"
    },
    "papermill": {
     "duration": 0.029852,
     "end_time": "2022-11-29T22:08:26.612958",
     "exception": false,
     "start_time": "2022-11-29T22:08:26.583106",
     "status": "completed"
    },
    "tags": []
   },
   "outputs": [
    {
     "data": {
      "text/plain": [
       "'Reference panel: GTEX_V8'"
      ]
     },
     "metadata": {},
     "output_type": "display_data"
    }
   ],
   "source": [
    "assert (\n",
    "    REFERENCE_PANEL is not None and len(REFERENCE_PANEL) > 0\n",
    "), \"A reference panel must be given\"\n",
    "\n",
    "display(f\"Reference panel: {REFERENCE_PANEL}\")"
   ]
  },
  {
   "cell_type": "code",
   "execution_count": 7,
   "id": "7a970044-2d34-4e5b-a850-eff44079afe8",
   "metadata": {
    "execution": {
     "iopub.execute_input": "2022-11-29T22:08:26.636931Z",
     "iopub.status.busy": "2022-11-29T22:08:26.636410Z",
     "iopub.status.idle": "2022-11-29T22:08:26.654813Z",
     "shell.execute_reply": "2022-11-29T22:08:26.654216Z"
    },
    "papermill": {
     "duration": 0.031181,
     "end_time": "2022-11-29T22:08:26.655682",
     "exception": false,
     "start_time": "2022-11-29T22:08:26.624501",
     "status": "completed"
    },
    "tags": []
   },
   "outputs": [
    {
     "data": {
      "text/plain": [
       "'GWAS file path: /opt/data/projects/asthma-copd/results/final_imputed_gwas/GWAS_ACO_GLM_SNPs_info0.7-harmonized-imputed.txt.gz'"
      ]
     },
     "metadata": {},
     "output_type": "display_data"
    }
   ],
   "source": [
    "assert GWAS_FILE is not None and len(GWAS_FILE) > 0, \"A GWAS file path must be given\"\n",
    "GWAS_FILE = Path(GWAS_FILE).resolve()\n",
    "assert GWAS_FILE.exists(), \"GWAS file does not exist\"\n",
    "\n",
    "display(f\"GWAS file path: {str(GWAS_FILE)}\")"
   ]
  },
  {
   "cell_type": "code",
   "execution_count": 8,
   "id": "552a7f63-a18c-4d3e-bb6a-94f99b431291",
   "metadata": {
    "execution": {
     "iopub.execute_input": "2022-11-29T22:08:26.679929Z",
     "iopub.status.busy": "2022-11-29T22:08:26.679442Z",
     "iopub.status.idle": "2022-11-29T22:08:26.698004Z",
     "shell.execute_reply": "2022-11-29T22:08:26.697434Z"
    },
    "papermill": {
     "duration": 0.031483,
     "end_time": "2022-11-29T22:08:26.698920",
     "exception": false,
     "start_time": "2022-11-29T22:08:26.667437",
     "status": "completed"
    },
    "tags": []
   },
   "outputs": [
    {
     "data": {
      "text/plain": [
       "'S-PrediXcan folder path: /opt/data/projects/asthma-copd/results/twas/spredixcan'"
      ]
     },
     "metadata": {},
     "output_type": "display_data"
    }
   ],
   "source": [
    "assert (\n",
    "    SPREDIXCAN_FOLDER is not None and len(SPREDIXCAN_FOLDER) > 0\n",
    "), \"An S-PrediXcan folder path must be given\"\n",
    "SPREDIXCAN_FOLDER = Path(SPREDIXCAN_FOLDER).resolve()\n",
    "assert SPREDIXCAN_FOLDER.exists(), f\"S-PrediXcan folder does not exist: {str(SPREDIXCAN_FOLDER)}\"\n",
    "\n",
    "display(f\"S-PrediXcan folder path: {str(SPREDIXCAN_FOLDER)}\")"
   ]
  },
  {
   "cell_type": "code",
   "execution_count": 9,
   "id": "6e2000dc-f1dc-4db8-93d5-9a7209a2e121",
   "metadata": {
    "execution": {
     "iopub.execute_input": "2022-11-29T22:08:26.723146Z",
     "iopub.status.busy": "2022-11-29T22:08:26.722752Z",
     "iopub.status.idle": "2022-11-29T22:08:26.740431Z",
     "shell.execute_reply": "2022-11-29T22:08:26.739854Z"
    },
    "papermill": {
     "duration": 0.0307,
     "end_time": "2022-11-29T22:08:26.741333",
     "exception": false,
     "start_time": "2022-11-29T22:08:26.710633",
     "status": "completed"
    },
    "tags": []
   },
   "outputs": [
    {
     "data": {
      "text/plain": [
       "'S-PrediXcan file template: GWAS_ACO_GLM_SNPs_info0.7-gtex_v8-mashr-{tissue}.csv'"
      ]
     },
     "metadata": {},
     "output_type": "display_data"
    }
   ],
   "source": [
    "assert (\n",
    "    SPREDIXCAN_FILE_PATTERN is not None and len(SPREDIXCAN_FILE_PATTERN) > 0\n",
    "), \"An S-PrediXcan file pattern must be given\"\n",
    "assert (\n",
    "    \"{tissue}\" in SPREDIXCAN_FILE_PATTERN\n",
    "), \"S-PrediXcan file pattern must have a '{tissue}' placeholder\"\n",
    "\n",
    "display(f\"S-PrediXcan file template: {SPREDIXCAN_FILE_PATTERN}\")"
   ]
  },
  {
   "cell_type": "code",
   "execution_count": 10,
   "id": "f5a5aa9d-c6f3-4fb5-9351-37382b6e67bc",
   "metadata": {
    "execution": {
     "iopub.execute_input": "2022-11-29T22:08:26.765653Z",
     "iopub.status.busy": "2022-11-29T22:08:26.765261Z",
     "iopub.status.idle": "2022-11-29T22:08:26.783178Z",
     "shell.execute_reply": "2022-11-29T22:08:26.782620Z"
    },
    "papermill": {
     "duration": 0.030903,
     "end_time": "2022-11-29T22:08:26.784037",
     "exception": false,
     "start_time": "2022-11-29T22:08:26.753134",
     "status": "completed"
    },
    "tags": []
   },
   "outputs": [
    {
     "data": {
      "text/plain": [
       "'S-MultiXcan file path: /opt/data/projects/asthma-copd/results/twas/smultixcan/GWAS_ACO_GLM_SNPs_info0.7-gtex_v8-mashr-smultixcan.txt'"
      ]
     },
     "metadata": {},
     "output_type": "display_data"
    }
   ],
   "source": [
    "assert (\n",
    "    SMULTIXCAN_FILE is not None and len(SMULTIXCAN_FILE) > 0\n",
    "), \"An S-MultiXcan result file path must be given\"\n",
    "SMULTIXCAN_FILE = Path(SMULTIXCAN_FILE).resolve()\n",
    "assert SMULTIXCAN_FILE.exists(), f\"S-MultiXcan result file does not exist: {str(SMULTIXCAN_FILE)}\"\n",
    "\n",
    "display(f\"S-MultiXcan file path: {str(SMULTIXCAN_FILE)}\")"
   ]
  },
  {
   "cell_type": "code",
   "execution_count": 11,
   "id": "0723dc2f-34d1-407c-a55b-d6d13c55d63d",
   "metadata": {
    "execution": {
     "iopub.execute_input": "2022-11-29T22:08:26.808492Z",
     "iopub.status.busy": "2022-11-29T22:08:26.808004Z",
     "iopub.status.idle": "2022-11-29T22:08:26.824410Z",
     "shell.execute_reply": "2022-11-29T22:08:26.823839Z"
    },
    "papermill": {
     "duration": 0.029453,
     "end_time": "2022-11-29T22:08:26.825307",
     "exception": false,
     "start_time": "2022-11-29T22:08:26.795854",
     "status": "completed"
    },
    "tags": []
   },
   "outputs": [
    {
     "data": {
      "text/plain": [
       "'eQTL model: MASHR'"
      ]
     },
     "metadata": {},
     "output_type": "display_data"
    }
   ],
   "source": [
    "assert (\n",
    "    EQTL_MODEL is not None and len(EQTL_MODEL) > 0\n",
    "), \"A prediction/eQTL model must be given\"\n",
    "\n",
    "display(f\"eQTL model: {EQTL_MODEL}\")"
   ]
  },
  {
   "cell_type": "code",
   "execution_count": 12,
   "id": "46b9ec52-9c96-4062-b57a-783dfeea33c4",
   "metadata": {
    "execution": {
     "iopub.execute_input": "2022-11-29T22:08:26.850321Z",
     "iopub.status.busy": "2022-11-29T22:08:26.849695Z",
     "iopub.status.idle": "2022-11-29T22:08:26.869070Z",
     "shell.execute_reply": "2022-11-29T22:08:26.868445Z"
    },
    "papermill": {
     "duration": 0.032689,
     "end_time": "2022-11-29T22:08:26.869982",
     "exception": false,
     "start_time": "2022-11-29T22:08:26.837293",
     "status": "completed"
    },
    "tags": []
   },
   "outputs": [
    {
     "data": {
      "text/plain": [
       "'Using output dir base: /opt/data/projects/asthma-copd/results/gls_phenoplier/gene_corrs/aco'"
      ]
     },
     "metadata": {},
     "output_type": "display_data"
    }
   ],
   "source": [
    "assert (\n",
    "    OUTPUT_DIR_BASE is not None and len(OUTPUT_DIR_BASE) > 0\n",
    "), \"Output directory path must be given\"\n",
    "\n",
    "OUTPUT_DIR_BASE = (\n",
    "    Path(OUTPUT_DIR_BASE)\n",
    "    / \"gene_corrs\"\n",
    "    / COHORT_NAME\n",
    "    # / REFERENCE_PANEL.lower()\n",
    "    # / EQTL_MODEL.lower()\n",
    ").resolve()\n",
    "\n",
    "OUTPUT_DIR_BASE.mkdir(parents=True, exist_ok=True)\n",
    "\n",
    "display(f\"Using output dir base: {OUTPUT_DIR_BASE}\")"
   ]
  },
  {
   "cell_type": "code",
   "execution_count": 13,
   "id": "396392dc-0340-4540-9b02-e182b833f909",
   "metadata": {
    "execution": {
     "iopub.execute_input": "2022-11-29T22:08:26.894818Z",
     "iopub.status.busy": "2022-11-29T22:08:26.894524Z",
     "iopub.status.idle": "2022-11-29T22:08:26.910762Z",
     "shell.execute_reply": "2022-11-29T22:08:26.910197Z"
    },
    "papermill": {
     "duration": 0.029653,
     "end_time": "2022-11-29T22:08:26.911723",
     "exception": false,
     "start_time": "2022-11-29T22:08:26.882070",
     "status": "completed"
    },
    "tags": []
   },
   "outputs": [],
   "source": [
    "# OUTPUT_DIR_BASE = (\n",
    "#     conf.RESULTS[\"GLS\"]\n",
    "#     / \"gene_corrs\"\n",
    "#     / \"cohorts\"\n",
    "#     / COHORT_NAME\n",
    "#     / REFERENCE_PANEL.lower()\n",
    "#     / EQTL_MODEL.lower()\n",
    "# )\n",
    "\n",
    "# OUTPUT_DIR_BASE.mkdir(parents=True, exist_ok=True)\n",
    "\n",
    "# display(f\"Using output dir base: {OUTPUT_DIR_BASE}\")"
   ]
  },
  {
   "cell_type": "markdown",
   "id": "b6ebb422-8204-494b-8c72-360a71ce9863",
   "metadata": {
    "papermill": {
     "duration": 0.011667,
     "end_time": "2022-11-29T22:08:26.935640",
     "exception": false,
     "start_time": "2022-11-29T22:08:26.923973",
     "status": "completed"
    },
    "tags": []
   },
   "source": [
    "# Load MultiPLIER Z genes"
   ]
  },
  {
   "cell_type": "code",
   "execution_count": 14,
   "id": "c48ef527",
   "metadata": {
    "execution": {
     "iopub.execute_input": "2022-11-29T22:08:26.960487Z",
     "iopub.status.busy": "2022-11-29T22:08:26.959966Z",
     "iopub.status.idle": "2022-11-29T22:08:27.010015Z",
     "shell.execute_reply": "2022-11-29T22:08:27.009337Z"
    },
    "papermill": {
     "duration": 0.063492,
     "end_time": "2022-11-29T22:08:27.011054",
     "exception": false,
     "start_time": "2022-11-29T22:08:26.947562",
     "status": "completed"
    },
    "tags": []
   },
   "outputs": [],
   "source": [
    "multiplier_z_genes = pd.read_pickle(\n",
    "    conf.MULTIPLIER[\"MODEL_Z_MATRIX_FILE\"]\n",
    ").index.tolist()"
   ]
  },
  {
   "cell_type": "code",
   "execution_count": 15,
   "id": "0a4ecbd9",
   "metadata": {
    "execution": {
     "iopub.execute_input": "2022-11-29T22:08:27.035984Z",
     "iopub.status.busy": "2022-11-29T22:08:27.035588Z",
     "iopub.status.idle": "2022-11-29T22:08:27.054668Z",
     "shell.execute_reply": "2022-11-29T22:08:27.054101Z"
    },
    "papermill": {
     "duration": 0.032356,
     "end_time": "2022-11-29T22:08:27.055587",
     "exception": false,
     "start_time": "2022-11-29T22:08:27.023231",
     "status": "completed"
    },
    "tags": []
   },
   "outputs": [
    {
     "data": {
      "text/plain": [
       "6750"
      ]
     },
     "execution_count": 15,
     "metadata": {},
     "output_type": "execute_result"
    }
   ],
   "source": [
    "len(multiplier_z_genes)"
   ]
  },
  {
   "cell_type": "code",
   "execution_count": 16,
   "id": "a18ce359-0759-4260-ae6f-053e8c0041b7",
   "metadata": {
    "execution": {
     "iopub.execute_input": "2022-11-29T22:08:27.080787Z",
     "iopub.status.busy": "2022-11-29T22:08:27.080211Z",
     "iopub.status.idle": "2022-11-29T22:08:27.099778Z",
     "shell.execute_reply": "2022-11-29T22:08:27.099202Z"
    },
    "papermill": {
     "duration": 0.03324,
     "end_time": "2022-11-29T22:08:27.100788",
     "exception": false,
     "start_time": "2022-11-29T22:08:27.067548",
     "status": "completed"
    },
    "tags": []
   },
   "outputs": [],
   "source": [
    "assert len(multiplier_z_genes) == len(set(multiplier_z_genes))"
   ]
  },
  {
   "cell_type": "code",
   "execution_count": 17,
   "id": "115e8864",
   "metadata": {
    "execution": {
     "iopub.execute_input": "2022-11-29T22:08:27.125656Z",
     "iopub.status.busy": "2022-11-29T22:08:27.125267Z",
     "iopub.status.idle": "2022-11-29T22:08:27.143220Z",
     "shell.execute_reply": "2022-11-29T22:08:27.142600Z"
    },
    "papermill": {
     "duration": 0.031374,
     "end_time": "2022-11-29T22:08:27.144121",
     "exception": false,
     "start_time": "2022-11-29T22:08:27.112747",
     "status": "completed"
    },
    "tags": []
   },
   "outputs": [
    {
     "data": {
      "text/plain": [
       "['GAS6', 'MMP14', 'DSP', 'MARCKSL1', 'SPARC']"
      ]
     },
     "execution_count": 17,
     "metadata": {},
     "output_type": "execute_result"
    }
   ],
   "source": [
    "multiplier_z_genes[:5]"
   ]
  },
  {
   "cell_type": "markdown",
   "id": "7bed0ce0-e7c7-4300-9a61-5412450b1904",
   "metadata": {
    "papermill": {
     "duration": 0.011992,
     "end_time": "2022-11-29T22:08:27.168086",
     "exception": false,
     "start_time": "2022-11-29T22:08:27.156094",
     "status": "completed"
    },
    "tags": []
   },
   "source": [
    "# GWAS"
   ]
  },
  {
   "cell_type": "code",
   "execution_count": 18,
   "id": "331e5691-c014-43e4-b94c-060c64d329df",
   "metadata": {
    "execution": {
     "iopub.execute_input": "2022-11-29T22:08:27.193210Z",
     "iopub.status.busy": "2022-11-29T22:08:27.192556Z",
     "iopub.status.idle": "2022-11-29T22:08:27.215480Z",
     "shell.execute_reply": "2022-11-29T22:08:27.214864Z"
    },
    "papermill": {
     "duration": 0.036469,
     "end_time": "2022-11-29T22:08:27.216460",
     "exception": false,
     "start_time": "2022-11-29T22:08:27.179991",
     "status": "completed"
    },
    "tags": []
   },
   "outputs": [],
   "source": [
    "gwas_file_columns = pd.read_csv(GWAS_FILE, sep=\"\\t\", nrows=2).columns\n",
    "\n",
    "assert (\n",
    "    \"panel_variant_id\" in gwas_file_columns\n",
    "), \"The GWAS file must be the final imputed one using the TWAS imputation tools with column 'panel_variant_id'\"\n",
    "\n",
    "assert (\n",
    "    \"pvalue\" in gwas_file_columns\n",
    "), \"The GWAS file must be the final imputed one using the TWAS imputation tools with column 'pvalue'\"\n",
    "\n",
    "assert (\n",
    "    \"zscore\" in gwas_file_columns\n",
    "), \"The GWAS file must be the final imputed one using the TWAS imputation tools with column 'zscore'\""
   ]
  },
  {
   "cell_type": "code",
   "execution_count": 19,
   "id": "8d419629-8f4d-4c83-bed3-cfc071a58090",
   "metadata": {
    "execution": {
     "iopub.execute_input": "2022-11-29T22:08:27.241519Z",
     "iopub.status.busy": "2022-11-29T22:08:27.241313Z",
     "iopub.status.idle": "2022-11-29T22:08:36.730054Z",
     "shell.execute_reply": "2022-11-29T22:08:36.729434Z"
    },
    "papermill": {
     "duration": 9.503121,
     "end_time": "2022-11-29T22:08:36.731695",
     "exception": false,
     "start_time": "2022-11-29T22:08:27.228574",
     "status": "completed"
    },
    "tags": []
   },
   "outputs": [],
   "source": [
    "gwas_data = pd.read_csv(\n",
    "    GWAS_FILE,\n",
    "    sep=\"\\t\",\n",
    "    usecols=[\"panel_variant_id\", \"pvalue\", \"zscore\"],\n",
    ")"
   ]
  },
  {
   "cell_type": "code",
   "execution_count": 20,
   "id": "3f4e814e-6b41-407e-9099-86795eec6ed9",
   "metadata": {
    "execution": {
     "iopub.execute_input": "2022-11-29T22:08:36.778795Z",
     "iopub.status.busy": "2022-11-29T22:08:36.778655Z",
     "iopub.status.idle": "2022-11-29T22:08:36.790979Z",
     "shell.execute_reply": "2022-11-29T22:08:36.790467Z"
    },
    "papermill": {
     "duration": 0.037278,
     "end_time": "2022-11-29T22:08:36.792347",
     "exception": false,
     "start_time": "2022-11-29T22:08:36.755069",
     "status": "completed"
    },
    "tags": []
   },
   "outputs": [
    {
     "data": {
      "text/plain": [
       "(8568681, 3)"
      ]
     },
     "execution_count": 20,
     "metadata": {},
     "output_type": "execute_result"
    }
   ],
   "source": [
    "gwas_data.shape"
   ]
  },
  {
   "cell_type": "code",
   "execution_count": 21,
   "id": "b4a906e9-c80a-47fc-9d73-5adb046f8b76",
   "metadata": {
    "execution": {
     "iopub.execute_input": "2022-11-29T22:08:36.838901Z",
     "iopub.status.busy": "2022-11-29T22:08:36.838768Z",
     "iopub.status.idle": "2022-11-29T22:08:36.860432Z",
     "shell.execute_reply": "2022-11-29T22:08:36.859842Z"
    },
    "papermill": {
     "duration": 0.045755,
     "end_time": "2022-11-29T22:08:36.861407",
     "exception": false,
     "start_time": "2022-11-29T22:08:36.815652",
     "status": "completed"
    },
    "tags": []
   },
   "outputs": [
    {
     "data": {
      "text/html": [
       "<div>\n",
       "<style scoped>\n",
       "    .dataframe tbody tr th:only-of-type {\n",
       "        vertical-align: middle;\n",
       "    }\n",
       "\n",
       "    .dataframe tbody tr th {\n",
       "        vertical-align: top;\n",
       "    }\n",
       "\n",
       "    .dataframe thead th {\n",
       "        text-align: right;\n",
       "    }\n",
       "</style>\n",
       "<table border=\"1\" class=\"dataframe\">\n",
       "  <thead>\n",
       "    <tr style=\"text-align: right;\">\n",
       "      <th></th>\n",
       "      <th>panel_variant_id</th>\n",
       "      <th>zscore</th>\n",
       "      <th>pvalue</th>\n",
       "    </tr>\n",
       "  </thead>\n",
       "  <tbody>\n",
       "    <tr>\n",
       "      <th>0</th>\n",
       "      <td>chr1_54490_G_A_b38</td>\n",
       "      <td>-0.871192</td>\n",
       "      <td>0.383649</td>\n",
       "    </tr>\n",
       "    <tr>\n",
       "      <th>1</th>\n",
       "      <td>chr1_87021_T_C_b38</td>\n",
       "      <td>-0.727002</td>\n",
       "      <td>0.467225</td>\n",
       "    </tr>\n",
       "    <tr>\n",
       "      <th>2</th>\n",
       "      <td>chr1_263722_C_G_b38</td>\n",
       "      <td>0.976081</td>\n",
       "      <td>0.329024</td>\n",
       "    </tr>\n",
       "    <tr>\n",
       "      <th>3</th>\n",
       "      <td>chr1_594402_C_T_b38</td>\n",
       "      <td>1.335924</td>\n",
       "      <td>0.181574</td>\n",
       "    </tr>\n",
       "    <tr>\n",
       "      <th>4</th>\n",
       "      <td>chr1_630555_C_T_b38</td>\n",
       "      <td>0.853461</td>\n",
       "      <td>0.393403</td>\n",
       "    </tr>\n",
       "  </tbody>\n",
       "</table>\n",
       "</div>"
      ],
      "text/plain": [
       "      panel_variant_id    zscore    pvalue\n",
       "0   chr1_54490_G_A_b38 -0.871192  0.383649\n",
       "1   chr1_87021_T_C_b38 -0.727002  0.467225\n",
       "2  chr1_263722_C_G_b38  0.976081  0.329024\n",
       "3  chr1_594402_C_T_b38  1.335924  0.181574\n",
       "4  chr1_630555_C_T_b38  0.853461  0.393403"
      ]
     },
     "execution_count": 21,
     "metadata": {},
     "output_type": "execute_result"
    }
   ],
   "source": [
    "gwas_data.head()"
   ]
  },
  {
   "cell_type": "code",
   "execution_count": 22,
   "id": "033c24fb-9c60-4ffd-929e-b0e6089820ae",
   "metadata": {
    "execution": {
     "iopub.execute_input": "2022-11-29T22:08:36.887176Z",
     "iopub.status.busy": "2022-11-29T22:08:36.886612Z",
     "iopub.status.idle": "2022-11-29T22:08:37.820433Z",
     "shell.execute_reply": "2022-11-29T22:08:37.819858Z"
    },
    "papermill": {
     "duration": 0.948101,
     "end_time": "2022-11-29T22:08:37.821930",
     "exception": false,
     "start_time": "2022-11-29T22:08:36.873829",
     "status": "completed"
    },
    "tags": []
   },
   "outputs": [
    {
     "data": {
      "text/plain": [
       "(8561476, 3)"
      ]
     },
     "execution_count": 22,
     "metadata": {},
     "output_type": "execute_result"
    }
   ],
   "source": [
    "gwas_data.dropna().shape"
   ]
  },
  {
   "cell_type": "code",
   "execution_count": 23,
   "id": "28232ce5-0afd-464e-9be3-64c3a68c2b25",
   "metadata": {
    "execution": {
     "iopub.execute_input": "2022-11-29T22:08:37.870385Z",
     "iopub.status.busy": "2022-11-29T22:08:37.870269Z",
     "iopub.status.idle": "2022-11-29T22:08:38.700409Z",
     "shell.execute_reply": "2022-11-29T22:08:38.699776Z"
    },
    "papermill": {
     "duration": 0.855626,
     "end_time": "2022-11-29T22:08:38.702081",
     "exception": false,
     "start_time": "2022-11-29T22:08:37.846455",
     "status": "completed"
    },
    "tags": []
   },
   "outputs": [],
   "source": [
    "# remove SNPs with no results\n",
    "gwas_data = gwas_data.dropna()"
   ]
  },
  {
   "cell_type": "code",
   "execution_count": 24,
   "id": "d9a6c31f-eedd-43e5-b762-5a9663be1b77",
   "metadata": {
    "execution": {
     "iopub.execute_input": "2022-11-29T22:08:38.750247Z",
     "iopub.status.busy": "2022-11-29T22:08:38.750132Z",
     "iopub.status.idle": "2022-11-29T22:08:38.761207Z",
     "shell.execute_reply": "2022-11-29T22:08:38.760697Z"
    },
    "papermill": {
     "duration": 0.036243,
     "end_time": "2022-11-29T22:08:38.762468",
     "exception": false,
     "start_time": "2022-11-29T22:08:38.726225",
     "status": "completed"
    },
    "tags": []
   },
   "outputs": [
    {
     "data": {
      "text/plain": [
       "(8561476, 3)"
      ]
     },
     "execution_count": 24,
     "metadata": {},
     "output_type": "execute_result"
    }
   ],
   "source": [
    "gwas_data.shape"
   ]
  },
  {
   "cell_type": "markdown",
   "id": "8da344de-2aa5-48a9-98ec-e8c3397ae7e6",
   "metadata": {
    "papermill": {
     "duration": 0.023251,
     "end_time": "2022-11-29T22:08:38.809353",
     "exception": false,
     "start_time": "2022-11-29T22:08:38.786102",
     "status": "completed"
    },
    "tags": []
   },
   "source": [
    "## Save GWAS variants"
   ]
  },
  {
   "cell_type": "code",
   "execution_count": 25,
   "id": "ac11fb33-ea3c-4d5c-a90b-0ceebdac43d3",
   "metadata": {
    "execution": {
     "iopub.execute_input": "2022-11-29T22:08:38.835702Z",
     "iopub.status.busy": "2022-11-29T22:08:38.834991Z",
     "iopub.status.idle": "2022-11-29T22:08:38.856685Z",
     "shell.execute_reply": "2022-11-29T22:08:38.856083Z"
    },
    "papermill": {
     "duration": 0.035847,
     "end_time": "2022-11-29T22:08:38.857625",
     "exception": false,
     "start_time": "2022-11-29T22:08:38.821778",
     "status": "completed"
    },
    "tags": []
   },
   "outputs": [
    {
     "data": {
      "text/html": [
       "<div>\n",
       "<style scoped>\n",
       "    .dataframe tbody tr th:only-of-type {\n",
       "        vertical-align: middle;\n",
       "    }\n",
       "\n",
       "    .dataframe tbody tr th {\n",
       "        vertical-align: top;\n",
       "    }\n",
       "\n",
       "    .dataframe thead th {\n",
       "        text-align: right;\n",
       "    }\n",
       "</style>\n",
       "<table border=\"1\" class=\"dataframe\">\n",
       "  <thead>\n",
       "    <tr style=\"text-align: right;\">\n",
       "      <th></th>\n",
       "      <th>panel_variant_id</th>\n",
       "      <th>zscore</th>\n",
       "      <th>pvalue</th>\n",
       "    </tr>\n",
       "  </thead>\n",
       "  <tbody>\n",
       "    <tr>\n",
       "      <th>0</th>\n",
       "      <td>chr1_54490_G_A_b38</td>\n",
       "      <td>-0.871192</td>\n",
       "      <td>0.383649</td>\n",
       "    </tr>\n",
       "    <tr>\n",
       "      <th>1</th>\n",
       "      <td>chr1_87021_T_C_b38</td>\n",
       "      <td>-0.727002</td>\n",
       "      <td>0.467225</td>\n",
       "    </tr>\n",
       "    <tr>\n",
       "      <th>2</th>\n",
       "      <td>chr1_263722_C_G_b38</td>\n",
       "      <td>0.976081</td>\n",
       "      <td>0.329024</td>\n",
       "    </tr>\n",
       "    <tr>\n",
       "      <th>3</th>\n",
       "      <td>chr1_594402_C_T_b38</td>\n",
       "      <td>1.335924</td>\n",
       "      <td>0.181574</td>\n",
       "    </tr>\n",
       "    <tr>\n",
       "      <th>4</th>\n",
       "      <td>chr1_630555_C_T_b38</td>\n",
       "      <td>0.853461</td>\n",
       "      <td>0.393403</td>\n",
       "    </tr>\n",
       "  </tbody>\n",
       "</table>\n",
       "</div>"
      ],
      "text/plain": [
       "      panel_variant_id    zscore    pvalue\n",
       "0   chr1_54490_G_A_b38 -0.871192  0.383649\n",
       "1   chr1_87021_T_C_b38 -0.727002  0.467225\n",
       "2  chr1_263722_C_G_b38  0.976081  0.329024\n",
       "3  chr1_594402_C_T_b38  1.335924  0.181574\n",
       "4  chr1_630555_C_T_b38  0.853461  0.393403"
      ]
     },
     "execution_count": 25,
     "metadata": {},
     "output_type": "execute_result"
    }
   ],
   "source": [
    "gwas_data.head()"
   ]
  },
  {
   "cell_type": "code",
   "execution_count": 26,
   "id": "5f34bb3d-761a-4860-a179-77ea5f5784ad",
   "metadata": {
    "execution": {
     "iopub.execute_input": "2022-11-29T22:08:38.883475Z",
     "iopub.status.busy": "2022-11-29T22:08:38.883262Z",
     "iopub.status.idle": "2022-11-29T22:08:42.807712Z",
     "shell.execute_reply": "2022-11-29T22:08:42.807213Z"
    },
    "papermill": {
     "duration": 3.939174,
     "end_time": "2022-11-29T22:08:42.809273",
     "exception": false,
     "start_time": "2022-11-29T22:08:38.870099",
     "status": "completed"
    },
    "tags": []
   },
   "outputs": [
    {
     "data": {
      "text/plain": [
       "True"
      ]
     },
     "execution_count": 26,
     "metadata": {},
     "output_type": "execute_result"
    }
   ],
   "source": [
    "# in eMERGE's results, some values here are repeated (will be removed later by taking the unique set of variant IDs).\n",
    "gwas_data[\"panel_variant_id\"].is_unique"
   ]
  },
  {
   "cell_type": "code",
   "execution_count": 27,
   "id": "d4f23b2f-01a3-4a45-a2b6-31b245b5778e",
   "metadata": {
    "execution": {
     "iopub.execute_input": "2022-11-29T22:08:42.858494Z",
     "iopub.status.busy": "2022-11-29T22:08:42.858297Z",
     "iopub.status.idle": "2022-11-29T22:08:44.834214Z",
     "shell.execute_reply": "2022-11-29T22:08:44.833723Z"
    },
    "papermill": {
     "duration": 2.001842,
     "end_time": "2022-11-29T22:08:44.835678",
     "exception": false,
     "start_time": "2022-11-29T22:08:42.833836",
     "status": "completed"
    },
    "tags": []
   },
   "outputs": [
    {
     "data": {
      "text/plain": [
       "['chr10_66477385_G_T_b38',\n",
       " 'chr7_19374901_T_C_b38',\n",
       " 'chr4_42085497_C_T_b38',\n",
       " 'chr9_12270332_G_A_b38',\n",
       " 'chr2_35715913_C_T_b38']"
      ]
     },
     "execution_count": 27,
     "metadata": {},
     "output_type": "execute_result"
    }
   ],
   "source": [
    "gwas_variants_ids_set = frozenset(gwas_data[\"panel_variant_id\"])\n",
    "list(gwas_variants_ids_set)[:5]"
   ]
  },
  {
   "cell_type": "code",
   "execution_count": 28,
   "id": "b4a441df-07d7-48dc-be36-cdb3f92be651",
   "metadata": {
    "execution": {
     "iopub.execute_input": "2022-11-29T22:08:44.887278Z",
     "iopub.status.busy": "2022-11-29T22:08:44.886902Z",
     "iopub.status.idle": "2022-11-29T22:08:47.833983Z",
     "shell.execute_reply": "2022-11-29T22:08:47.833384Z"
    },
    "papermill": {
     "duration": 2.975554,
     "end_time": "2022-11-29T22:08:47.835773",
     "exception": false,
     "start_time": "2022-11-29T22:08:44.860219",
     "status": "completed"
    },
    "tags": []
   },
   "outputs": [],
   "source": [
    "with open(OUTPUT_DIR_BASE / \"gwas_variant_ids.pkl\", \"wb\") as handle:\n",
    "    pickle.dump(gwas_variants_ids_set, handle, protocol=pickle.HIGHEST_PROTOCOL)"
   ]
  },
  {
   "cell_type": "markdown",
   "id": "abcc4b3d",
   "metadata": {
    "papermill": {
     "duration": 0.023826,
     "end_time": "2022-11-29T22:08:47.884543",
     "exception": false,
     "start_time": "2022-11-29T22:08:47.860717",
     "status": "completed"
    },
    "tags": []
   },
   "source": [
    "# TWAS"
   ]
  },
  {
   "cell_type": "markdown",
   "id": "2fbc7358-0563-4fc6-bc47-a0fbcc5cdfd4",
   "metadata": {
    "papermill": {
     "duration": 0.016029,
     "end_time": "2022-11-29T22:08:47.924604",
     "exception": false,
     "start_time": "2022-11-29T22:08:47.908575",
     "status": "completed"
    },
    "tags": []
   },
   "source": [
    "## Available tissues for eQTL model"
   ]
  },
  {
   "cell_type": "code",
   "execution_count": 29,
   "id": "f32c0a84-030a-436b-b597-852b6150d2ac",
   "metadata": {
    "execution": {
     "iopub.execute_input": "2022-11-29T22:08:47.951060Z",
     "iopub.status.busy": "2022-11-29T22:08:47.950699Z",
     "iopub.status.idle": "2022-11-29T22:08:47.967067Z",
     "shell.execute_reply": "2022-11-29T22:08:47.966430Z"
    },
    "papermill": {
     "duration": 0.030751,
     "end_time": "2022-11-29T22:08:47.967940",
     "exception": false,
     "start_time": "2022-11-29T22:08:47.937189",
     "status": "completed"
    },
    "tags": []
   },
   "outputs": [],
   "source": [
    "prediction_model_tissues = conf.PHENOMEXCAN[\"PREDICTION_MODELS\"][\n",
    "    f\"{EQTL_MODEL}_TISSUES\"\n",
    "].split(\" \")"
   ]
  },
  {
   "cell_type": "code",
   "execution_count": 30,
   "id": "0e760d0e-f23d-4590-abfb-811a43f7c237",
   "metadata": {
    "execution": {
     "iopub.execute_input": "2022-11-29T22:08:47.994214Z",
     "iopub.status.busy": "2022-11-29T22:08:47.993621Z",
     "iopub.status.idle": "2022-11-29T22:08:48.011118Z",
     "shell.execute_reply": "2022-11-29T22:08:48.010371Z"
    },
    "papermill": {
     "duration": 0.031473,
     "end_time": "2022-11-29T22:08:48.012055",
     "exception": false,
     "start_time": "2022-11-29T22:08:47.980582",
     "status": "completed"
    },
    "tags": []
   },
   "outputs": [
    {
     "data": {
      "text/plain": [
       "49"
      ]
     },
     "execution_count": 30,
     "metadata": {},
     "output_type": "execute_result"
    }
   ],
   "source": [
    "len(prediction_model_tissues)"
   ]
  },
  {
   "cell_type": "code",
   "execution_count": 31,
   "id": "fa4d942c-cd67-4b31-9491-585c887c0ee3",
   "metadata": {
    "execution": {
     "iopub.execute_input": "2022-11-29T22:08:48.039212Z",
     "iopub.status.busy": "2022-11-29T22:08:48.038947Z",
     "iopub.status.idle": "2022-11-29T22:08:48.057903Z",
     "shell.execute_reply": "2022-11-29T22:08:48.057309Z"
    },
    "papermill": {
     "duration": 0.033214,
     "end_time": "2022-11-29T22:08:48.058834",
     "exception": false,
     "start_time": "2022-11-29T22:08:48.025620",
     "status": "completed"
    },
    "tags": []
   },
   "outputs": [
    {
     "data": {
      "text/plain": [
       "['Thyroid',\n",
       " 'Artery_Aorta',\n",
       " 'Heart_Atrial_Appendage',\n",
       " 'Liver',\n",
       " 'Heart_Left_Ventricle']"
      ]
     },
     "execution_count": 31,
     "metadata": {},
     "output_type": "execute_result"
    }
   ],
   "source": [
    "prediction_model_tissues[:5]"
   ]
  },
  {
   "cell_type": "markdown",
   "id": "fab4814d-757c-4247-b5e4-891bc4863db7",
   "metadata": {
    "papermill": {
     "duration": 0.012759,
     "end_time": "2022-11-29T22:08:48.084797",
     "exception": false,
     "start_time": "2022-11-29T22:08:48.072038",
     "status": "completed"
    },
    "tags": []
   },
   "source": [
    "## S-MultiXcan results"
   ]
  },
  {
   "cell_type": "code",
   "execution_count": 32,
   "id": "2b73c11e-9aa2-410e-84b4-a70be34d02e4",
   "metadata": {
    "execution": {
     "iopub.execute_input": "2022-11-29T22:08:48.111358Z",
     "iopub.status.busy": "2022-11-29T22:08:48.111024Z",
     "iopub.status.idle": "2022-11-29T22:08:48.184351Z",
     "shell.execute_reply": "2022-11-29T22:08:48.183742Z"
    },
    "papermill": {
     "duration": 0.087921,
     "end_time": "2022-11-29T22:08:48.185388",
     "exception": false,
     "start_time": "2022-11-29T22:08:48.097467",
     "status": "completed"
    },
    "tags": []
   },
   "outputs": [],
   "source": [
    "smultixcan_results = pd.read_csv(\n",
    "    SMULTIXCAN_FILE, sep=\"\\t\", usecols=[\"gene\", \"gene_name\", \"pvalue\", \"n\", \"n_indep\"]\n",
    ")"
   ]
  },
  {
   "cell_type": "code",
   "execution_count": 33,
   "id": "8b5abebd-baab-4188-9e3d-655ebbe32401",
   "metadata": {
    "execution": {
     "iopub.execute_input": "2022-11-29T22:08:48.211574Z",
     "iopub.status.busy": "2022-11-29T22:08:48.211347Z",
     "iopub.status.idle": "2022-11-29T22:08:48.222930Z",
     "shell.execute_reply": "2022-11-29T22:08:48.222478Z"
    },
    "papermill": {
     "duration": 0.02554,
     "end_time": "2022-11-29T22:08:48.223664",
     "exception": false,
     "start_time": "2022-11-29T22:08:48.198124",
     "status": "completed"
    },
    "tags": []
   },
   "outputs": [
    {
     "data": {
      "text/plain": [
       "(22321, 5)"
      ]
     },
     "execution_count": 33,
     "metadata": {},
     "output_type": "execute_result"
    }
   ],
   "source": [
    "smultixcan_results.shape"
   ]
  },
  {
   "cell_type": "code",
   "execution_count": 34,
   "id": "c65e233f-9ef6-4883-9386-7abf1d6d1cbd",
   "metadata": {
    "execution": {
     "iopub.execute_input": "2022-11-29T22:08:48.250100Z",
     "iopub.status.busy": "2022-11-29T22:08:48.249856Z",
     "iopub.status.idle": "2022-11-29T22:08:48.272797Z",
     "shell.execute_reply": "2022-11-29T22:08:48.272213Z"
    },
    "papermill": {
     "duration": 0.037023,
     "end_time": "2022-11-29T22:08:48.273626",
     "exception": false,
     "start_time": "2022-11-29T22:08:48.236603",
     "status": "completed"
    },
    "tags": []
   },
   "outputs": [],
   "source": [
    "smultixcan_results = smultixcan_results.dropna()"
   ]
  },
  {
   "cell_type": "code",
   "execution_count": 35,
   "id": "57d2d311-4a42-4725-9e37-b124ed13ad33",
   "metadata": {
    "execution": {
     "iopub.execute_input": "2022-11-29T22:08:48.300360Z",
     "iopub.status.busy": "2022-11-29T22:08:48.299874Z",
     "iopub.status.idle": "2022-11-29T22:08:48.316387Z",
     "shell.execute_reply": "2022-11-29T22:08:48.315842Z"
    },
    "papermill": {
     "duration": 0.030696,
     "end_time": "2022-11-29T22:08:48.317236",
     "exception": false,
     "start_time": "2022-11-29T22:08:48.286540",
     "status": "completed"
    },
    "tags": []
   },
   "outputs": [
    {
     "data": {
      "text/plain": [
       "(22318, 5)"
      ]
     },
     "execution_count": 35,
     "metadata": {},
     "output_type": "execute_result"
    }
   ],
   "source": [
    "smultixcan_results.shape"
   ]
  },
  {
   "cell_type": "code",
   "execution_count": 36,
   "id": "a36b5b59-f4b6-45bf-b241-ffc9671b357f",
   "metadata": {
    "execution": {
     "iopub.execute_input": "2022-11-29T22:08:48.344244Z",
     "iopub.status.busy": "2022-11-29T22:08:48.343771Z",
     "iopub.status.idle": "2022-11-29T22:08:48.371217Z",
     "shell.execute_reply": "2022-11-29T22:08:48.370590Z"
    },
    "papermill": {
     "duration": 0.041895,
     "end_time": "2022-11-29T22:08:48.372114",
     "exception": false,
     "start_time": "2022-11-29T22:08:48.330219",
     "status": "completed"
    },
    "tags": []
   },
   "outputs": [],
   "source": [
    "smultixcan_results = smultixcan_results.assign(\n",
    "    gene_id=smultixcan_results[\"gene\"].apply(lambda g: g.split(\".\")[0])\n",
    ")"
   ]
  },
  {
   "cell_type": "code",
   "execution_count": 37,
   "id": "c49f62a9-a01a-44af-87da-47d195b0ef7e",
   "metadata": {
    "execution": {
     "iopub.execute_input": "2022-11-29T22:08:48.399082Z",
     "iopub.status.busy": "2022-11-29T22:08:48.398621Z",
     "iopub.status.idle": "2022-11-29T22:08:48.423528Z",
     "shell.execute_reply": "2022-11-29T22:08:48.422946Z"
    },
    "papermill": {
     "duration": 0.039466,
     "end_time": "2022-11-29T22:08:48.424403",
     "exception": false,
     "start_time": "2022-11-29T22:08:48.384937",
     "status": "completed"
    },
    "tags": []
   },
   "outputs": [
    {
     "data": {
      "text/html": [
       "<div>\n",
       "<style scoped>\n",
       "    .dataframe tbody tr th:only-of-type {\n",
       "        vertical-align: middle;\n",
       "    }\n",
       "\n",
       "    .dataframe tbody tr th {\n",
       "        vertical-align: top;\n",
       "    }\n",
       "\n",
       "    .dataframe thead th {\n",
       "        text-align: right;\n",
       "    }\n",
       "</style>\n",
       "<table border=\"1\" class=\"dataframe\">\n",
       "  <thead>\n",
       "    <tr style=\"text-align: right;\">\n",
       "      <th></th>\n",
       "      <th>gene</th>\n",
       "      <th>gene_name</th>\n",
       "      <th>pvalue</th>\n",
       "      <th>n</th>\n",
       "      <th>n_indep</th>\n",
       "      <th>gene_id</th>\n",
       "    </tr>\n",
       "  </thead>\n",
       "  <tbody>\n",
       "    <tr>\n",
       "      <th>0</th>\n",
       "      <td>ENSG00000237541.3</td>\n",
       "      <td>HLA-DQA2</td>\n",
       "      <td>1.692207e-33</td>\n",
       "      <td>45.0</td>\n",
       "      <td>5.0</td>\n",
       "      <td>ENSG00000237541</td>\n",
       "    </tr>\n",
       "    <tr>\n",
       "      <th>1</th>\n",
       "      <td>ENSG00000179344.16</td>\n",
       "      <td>HLA-DQB1</td>\n",
       "      <td>5.343156e-29</td>\n",
       "      <td>49.0</td>\n",
       "      <td>3.0</td>\n",
       "      <td>ENSG00000179344</td>\n",
       "    </tr>\n",
       "    <tr>\n",
       "      <th>2</th>\n",
       "      <td>ENSG00000196735.11</td>\n",
       "      <td>HLA-DQA1</td>\n",
       "      <td>1.919708e-28</td>\n",
       "      <td>44.0</td>\n",
       "      <td>6.0</td>\n",
       "      <td>ENSG00000196735</td>\n",
       "    </tr>\n",
       "    <tr>\n",
       "      <th>3</th>\n",
       "      <td>ENSG00000204290.10</td>\n",
       "      <td>BTNL2</td>\n",
       "      <td>1.414254e-27</td>\n",
       "      <td>21.0</td>\n",
       "      <td>10.0</td>\n",
       "      <td>ENSG00000204290</td>\n",
       "    </tr>\n",
       "    <tr>\n",
       "      <th>4</th>\n",
       "      <td>ENSG00000232629.8</td>\n",
       "      <td>HLA-DQB2</td>\n",
       "      <td>1.371715e-24</td>\n",
       "      <td>41.0</td>\n",
       "      <td>3.0</td>\n",
       "      <td>ENSG00000232629</td>\n",
       "    </tr>\n",
       "  </tbody>\n",
       "</table>\n",
       "</div>"
      ],
      "text/plain": [
       "                 gene gene_name        pvalue     n  n_indep          gene_id\n",
       "0   ENSG00000237541.3  HLA-DQA2  1.692207e-33  45.0      5.0  ENSG00000237541\n",
       "1  ENSG00000179344.16  HLA-DQB1  5.343156e-29  49.0      3.0  ENSG00000179344\n",
       "2  ENSG00000196735.11  HLA-DQA1  1.919708e-28  44.0      6.0  ENSG00000196735\n",
       "3  ENSG00000204290.10     BTNL2  1.414254e-27  21.0     10.0  ENSG00000204290\n",
       "4   ENSG00000232629.8  HLA-DQB2  1.371715e-24  41.0      3.0  ENSG00000232629"
      ]
     },
     "execution_count": 37,
     "metadata": {},
     "output_type": "execute_result"
    }
   ],
   "source": [
    "smultixcan_results.head()"
   ]
  },
  {
   "cell_type": "code",
   "execution_count": 38,
   "id": "9c4c023c-86d6-4c4b-8d57-c2b6b93aaf84",
   "metadata": {
    "execution": {
     "iopub.execute_input": "2022-11-29T22:08:48.451685Z",
     "iopub.status.busy": "2022-11-29T22:08:48.451200Z",
     "iopub.status.idle": "2022-11-29T22:08:48.471991Z",
     "shell.execute_reply": "2022-11-29T22:08:48.471431Z"
    },
    "papermill": {
     "duration": 0.035449,
     "end_time": "2022-11-29T22:08:48.472923",
     "exception": false,
     "start_time": "2022-11-29T22:08:48.437474",
     "status": "completed"
    },
    "tags": []
   },
   "outputs": [],
   "source": [
    "assert smultixcan_results[\"gene_id\"].is_unique"
   ]
  },
  {
   "cell_type": "markdown",
   "id": "1f9939f1-4200-40d9-a8bf-8e4fd68bee48",
   "metadata": {
    "papermill": {
     "duration": 0.013003,
     "end_time": "2022-11-29T22:08:48.499065",
     "exception": false,
     "start_time": "2022-11-29T22:08:48.486062",
     "status": "completed"
    },
    "tags": []
   },
   "source": [
    "### Get common genes with MultiPLIER"
   ]
  },
  {
   "cell_type": "code",
   "execution_count": 39,
   "id": "c820e6cf-6350-45af-b49a-0abd94f570ff",
   "metadata": {
    "execution": {
     "iopub.execute_input": "2022-11-29T22:08:48.526505Z",
     "iopub.status.busy": "2022-11-29T22:08:48.525973Z",
     "iopub.status.idle": "2022-11-29T22:08:48.547667Z",
     "shell.execute_reply": "2022-11-29T22:08:48.547149Z"
    },
    "papermill": {
     "duration": 0.036296,
     "end_time": "2022-11-29T22:08:48.548541",
     "exception": false,
     "start_time": "2022-11-29T22:08:48.512245",
     "status": "completed"
    },
    "tags": []
   },
   "outputs": [],
   "source": [
    "common_genes = set(multiplier_z_genes).intersection(\n",
    "    set(smultixcan_results[\"gene_name\"])\n",
    ")"
   ]
  },
  {
   "cell_type": "code",
   "execution_count": 40,
   "id": "0a7328f9-96c7-4ac6-a9a6-ae4fa121a4cd",
   "metadata": {
    "execution": {
     "iopub.execute_input": "2022-11-29T22:08:48.575905Z",
     "iopub.status.busy": "2022-11-29T22:08:48.575401Z",
     "iopub.status.idle": "2022-11-29T22:08:48.593100Z",
     "shell.execute_reply": "2022-11-29T22:08:48.592608Z"
    },
    "papermill": {
     "duration": 0.032286,
     "end_time": "2022-11-29T22:08:48.593882",
     "exception": false,
     "start_time": "2022-11-29T22:08:48.561596",
     "status": "completed"
    },
    "tags": []
   },
   "outputs": [
    {
     "data": {
      "text/plain": [
       "6444"
      ]
     },
     "execution_count": 40,
     "metadata": {},
     "output_type": "execute_result"
    }
   ],
   "source": [
    "len(common_genes)"
   ]
  },
  {
   "cell_type": "code",
   "execution_count": 41,
   "id": "5b08d362-44c8-4db2-9258-670e2e2a9cc0",
   "metadata": {
    "execution": {
     "iopub.execute_input": "2022-11-29T22:08:48.621430Z",
     "iopub.status.busy": "2022-11-29T22:08:48.621058Z",
     "iopub.status.idle": "2022-11-29T22:08:48.640315Z",
     "shell.execute_reply": "2022-11-29T22:08:48.639833Z"
    },
    "papermill": {
     "duration": 0.033858,
     "end_time": "2022-11-29T22:08:48.641102",
     "exception": false,
     "start_time": "2022-11-29T22:08:48.607244",
     "status": "completed"
    },
    "tags": []
   },
   "outputs": [
    {
     "data": {
      "text/plain": [
       "['A2M', 'AAAS', 'AANAT', 'AARS', 'AARS2']"
      ]
     },
     "execution_count": 41,
     "metadata": {},
     "output_type": "execute_result"
    }
   ],
   "source": [
    "sorted(list(common_genes))[:5]"
   ]
  },
  {
   "cell_type": "markdown",
   "id": "7f51338b-8a75-42c3-a7e5-a0961cefb663",
   "metadata": {
    "papermill": {
     "duration": 0.013198,
     "end_time": "2022-11-29T22:08:48.667768",
     "exception": false,
     "start_time": "2022-11-29T22:08:48.654570",
     "status": "completed"
    },
    "tags": []
   },
   "source": [
    "## Genes info"
   ]
  },
  {
   "cell_type": "code",
   "execution_count": 42,
   "id": "bb932812",
   "metadata": {
    "execution": {
     "iopub.execute_input": "2022-11-29T22:08:48.695466Z",
     "iopub.status.busy": "2022-11-29T22:08:48.694948Z",
     "iopub.status.idle": "2022-11-29T22:08:49.302893Z",
     "shell.execute_reply": "2022-11-29T22:08:49.302460Z"
    },
    "papermill": {
     "duration": 0.623199,
     "end_time": "2022-11-29T22:08:49.304264",
     "exception": false,
     "start_time": "2022-11-29T22:08:48.681065",
     "status": "completed"
    },
    "tags": []
   },
   "outputs": [],
   "source": [
    "multiplier_gene_obj = {\n",
    "    gene_name: Gene(name=gene_name)\n",
    "    for gene_name in common_genes\n",
    "    if gene_name in Gene.GENE_NAME_TO_ID_MAP\n",
    "}"
   ]
  },
  {
   "cell_type": "code",
   "execution_count": 43,
   "id": "cb9d7a45-2b7d-4d10-80dc-212a625b5ae7",
   "metadata": {
    "execution": {
     "iopub.execute_input": "2022-11-29T22:08:49.331603Z",
     "iopub.status.busy": "2022-11-29T22:08:49.331492Z",
     "iopub.status.idle": "2022-11-29T22:08:49.342022Z",
     "shell.execute_reply": "2022-11-29T22:08:49.341658Z"
    },
    "papermill": {
     "duration": 0.02491,
     "end_time": "2022-11-29T22:08:49.342758",
     "exception": false,
     "start_time": "2022-11-29T22:08:49.317848",
     "status": "completed"
    },
    "tags": []
   },
   "outputs": [],
   "source": [
    "# delete common_genes, from now on, genes_info should be used for common genes\n",
    "del common_genes"
   ]
  },
  {
   "cell_type": "code",
   "execution_count": 44,
   "id": "39533214",
   "metadata": {
    "execution": {
     "iopub.execute_input": "2022-11-29T22:08:49.370180Z",
     "iopub.status.busy": "2022-11-29T22:08:49.369985Z",
     "iopub.status.idle": "2022-11-29T22:08:49.380164Z",
     "shell.execute_reply": "2022-11-29T22:08:49.379815Z"
    },
    "papermill": {
     "duration": 0.024499,
     "end_time": "2022-11-29T22:08:49.380876",
     "exception": false,
     "start_time": "2022-11-29T22:08:49.356377",
     "status": "completed"
    },
    "tags": []
   },
   "outputs": [
    {
     "data": {
      "text/plain": [
       "6444"
      ]
     },
     "execution_count": 44,
     "metadata": {},
     "output_type": "execute_result"
    }
   ],
   "source": [
    "len(multiplier_gene_obj)"
   ]
  },
  {
   "cell_type": "code",
   "execution_count": 45,
   "id": "9a5d0b84",
   "metadata": {
    "execution": {
     "iopub.execute_input": "2022-11-29T22:08:49.408714Z",
     "iopub.status.busy": "2022-11-29T22:08:49.408297Z",
     "iopub.status.idle": "2022-11-29T22:08:49.421369Z",
     "shell.execute_reply": "2022-11-29T22:08:49.420903Z"
    },
    "papermill": {
     "duration": 0.027597,
     "end_time": "2022-11-29T22:08:49.422125",
     "exception": false,
     "start_time": "2022-11-29T22:08:49.394528",
     "status": "completed"
    },
    "tags": []
   },
   "outputs": [],
   "source": [
    "assert multiplier_gene_obj[\"GAS6\"].ensembl_id == \"ENSG00000183087\""
   ]
  },
  {
   "cell_type": "code",
   "execution_count": 46,
   "id": "e3ffabc7",
   "metadata": {
    "execution": {
     "iopub.execute_input": "2022-11-29T22:08:49.450017Z",
     "iopub.status.busy": "2022-11-29T22:08:49.449508Z",
     "iopub.status.idle": "2022-11-29T22:08:51.207593Z",
     "shell.execute_reply": "2022-11-29T22:08:51.207060Z"
    },
    "papermill": {
     "duration": 1.773708,
     "end_time": "2022-11-29T22:08:51.209281",
     "exception": false,
     "start_time": "2022-11-29T22:08:49.435573",
     "status": "completed"
    },
    "tags": []
   },
   "outputs": [],
   "source": [
    "_gene_obj = list(multiplier_gene_obj.values())\n",
    "\n",
    "genes_info = pd.DataFrame(\n",
    "    {\n",
    "        \"name\": [g.name for g in _gene_obj],\n",
    "        \"id\": [g.ensembl_id for g in _gene_obj],\n",
    "        \"chr\": [g.chromosome for g in _gene_obj],\n",
    "        \"band\": [g.band for g in _gene_obj],\n",
    "        \"start_position\": [g.get_attribute(\"start_position\") for g in _gene_obj],\n",
    "        \"end_position\": [g.get_attribute(\"end_position\") for g in _gene_obj],\n",
    "    }\n",
    ")"
   ]
  },
  {
   "cell_type": "code",
   "execution_count": 47,
   "id": "00475e72-1cfc-485f-8b4e-1d9cce695f58",
   "metadata": {
    "execution": {
     "iopub.execute_input": "2022-11-29T22:08:51.261966Z",
     "iopub.status.busy": "2022-11-29T22:08:51.261828Z",
     "iopub.status.idle": "2022-11-29T22:08:51.304274Z",
     "shell.execute_reply": "2022-11-29T22:08:51.303760Z"
    },
    "papermill": {
     "duration": 0.069803,
     "end_time": "2022-11-29T22:08:51.305542",
     "exception": false,
     "start_time": "2022-11-29T22:08:51.235739",
     "status": "completed"
    },
    "tags": []
   },
   "outputs": [],
   "source": [
    "genes_info = genes_info.assign(\n",
    "    gene_length=genes_info.apply(\n",
    "        lambda x: x[\"end_position\"] - x[\"start_position\"], axis=1\n",
    "    )\n",
    ")"
   ]
  },
  {
   "cell_type": "code",
   "execution_count": 48,
   "id": "3af1a166-08a0-4333-bc09-b8bc762aa7ef",
   "metadata": {
    "execution": {
     "iopub.execute_input": "2022-11-29T22:08:51.357691Z",
     "iopub.status.busy": "2022-11-29T22:08:51.357482Z",
     "iopub.status.idle": "2022-11-29T22:08:51.368994Z",
     "shell.execute_reply": "2022-11-29T22:08:51.368527Z"
    },
    "papermill": {
     "duration": 0.038816,
     "end_time": "2022-11-29T22:08:51.370307",
     "exception": false,
     "start_time": "2022-11-29T22:08:51.331491",
     "status": "completed"
    },
    "tags": []
   },
   "outputs": [
    {
     "data": {
      "text/plain": [
       "name               object\n",
       "id                 object\n",
       "chr                object\n",
       "band               object\n",
       "start_position    float64\n",
       "end_position      float64\n",
       "gene_length       float64\n",
       "dtype: object"
      ]
     },
     "execution_count": 48,
     "metadata": {},
     "output_type": "execute_result"
    }
   ],
   "source": [
    "genes_info.dtypes"
   ]
  },
  {
   "cell_type": "code",
   "execution_count": 49,
   "id": "08a23f6f-87f6-4072-88c8-010b90a411cd",
   "metadata": {
    "execution": {
     "iopub.execute_input": "2022-11-29T22:08:51.414002Z",
     "iopub.status.busy": "2022-11-29T22:08:51.413752Z",
     "iopub.status.idle": "2022-11-29T22:08:51.440260Z",
     "shell.execute_reply": "2022-11-29T22:08:51.439669Z"
    },
    "papermill": {
     "duration": 0.045115,
     "end_time": "2022-11-29T22:08:51.441160",
     "exception": false,
     "start_time": "2022-11-29T22:08:51.396045",
     "status": "completed"
    },
    "tags": []
   },
   "outputs": [
    {
     "data": {
      "text/html": [
       "<div>\n",
       "<style scoped>\n",
       "    .dataframe tbody tr th:only-of-type {\n",
       "        vertical-align: middle;\n",
       "    }\n",
       "\n",
       "    .dataframe tbody tr th {\n",
       "        vertical-align: top;\n",
       "    }\n",
       "\n",
       "    .dataframe thead th {\n",
       "        text-align: right;\n",
       "    }\n",
       "</style>\n",
       "<table border=\"1\" class=\"dataframe\">\n",
       "  <thead>\n",
       "    <tr style=\"text-align: right;\">\n",
       "      <th></th>\n",
       "      <th>name</th>\n",
       "      <th>id</th>\n",
       "      <th>chr</th>\n",
       "      <th>band</th>\n",
       "      <th>start_position</th>\n",
       "      <th>end_position</th>\n",
       "      <th>gene_length</th>\n",
       "    </tr>\n",
       "  </thead>\n",
       "  <tbody>\n",
       "    <tr>\n",
       "      <th>2872</th>\n",
       "      <td>TBCE</td>\n",
       "      <td>ENSG00000116957</td>\n",
       "      <td>None</td>\n",
       "      <td>None</td>\n",
       "      <td>NaN</td>\n",
       "      <td>NaN</td>\n",
       "      <td>NaN</td>\n",
       "    </tr>\n",
       "    <tr>\n",
       "      <th>3511</th>\n",
       "      <td>TMEM133</td>\n",
       "      <td>ENSG00000170647</td>\n",
       "      <td>None</td>\n",
       "      <td>None</td>\n",
       "      <td>NaN</td>\n",
       "      <td>NaN</td>\n",
       "      <td>NaN</td>\n",
       "    </tr>\n",
       "  </tbody>\n",
       "</table>\n",
       "</div>"
      ],
      "text/plain": [
       "         name               id   chr  band  start_position  end_position  \\\n",
       "2872     TBCE  ENSG00000116957  None  None             NaN           NaN   \n",
       "3511  TMEM133  ENSG00000170647  None  None             NaN           NaN   \n",
       "\n",
       "      gene_length  \n",
       "2872          NaN  \n",
       "3511          NaN  "
      ]
     },
     "metadata": {},
     "output_type": "display_data"
    }
   ],
   "source": [
    "_tmp = genes_info[genes_info.isna().any(axis=1)]\n",
    "display(_tmp)\n",
    "assert _tmp.shape[0] < 5"
   ]
  },
  {
   "cell_type": "code",
   "execution_count": 50,
   "id": "87c010f0-8ad9-4bf0-b12d-02f37a93853a",
   "metadata": {
    "execution": {
     "iopub.execute_input": "2022-11-29T22:08:51.469648Z",
     "iopub.status.busy": "2022-11-29T22:08:51.469135Z",
     "iopub.status.idle": "2022-11-29T22:08:51.490226Z",
     "shell.execute_reply": "2022-11-29T22:08:51.489629Z"
    },
    "papermill": {
     "duration": 0.036396,
     "end_time": "2022-11-29T22:08:51.491226",
     "exception": false,
     "start_time": "2022-11-29T22:08:51.454830",
     "status": "completed"
    },
    "tags": []
   },
   "outputs": [],
   "source": [
    "genes_info = genes_info.dropna()"
   ]
  },
  {
   "cell_type": "code",
   "execution_count": 51,
   "id": "61833f43-3a92-47e9-bca3-e05b6673c7d9",
   "metadata": {
    "execution": {
     "iopub.execute_input": "2022-11-29T22:08:51.519701Z",
     "iopub.status.busy": "2022-11-29T22:08:51.519216Z",
     "iopub.status.idle": "2022-11-29T22:08:51.922095Z",
     "shell.execute_reply": "2022-11-29T22:08:51.921567Z"
    },
    "papermill": {
     "duration": 0.418871,
     "end_time": "2022-11-29T22:08:51.923906",
     "exception": false,
     "start_time": "2022-11-29T22:08:51.505035",
     "status": "completed"
    },
    "tags": []
   },
   "outputs": [],
   "source": [
    "genes_info[\"chr\"] = genes_info[\"chr\"].apply(pd.to_numeric, downcast=\"integer\")\n",
    "genes_info[\"start_position\"] = genes_info[\"start_position\"].astype(int)\n",
    "genes_info[\"end_position\"] = genes_info[\"end_position\"].astype(int)\n",
    "genes_info[\"gene_length\"] = genes_info[\"gene_length\"].astype(int)"
   ]
  },
  {
   "cell_type": "code",
   "execution_count": 52,
   "id": "e4b9ae23-3edb-41a4-97aa-80cc7db6d393",
   "metadata": {
    "execution": {
     "iopub.execute_input": "2022-11-29T22:08:51.982250Z",
     "iopub.status.busy": "2022-11-29T22:08:51.982133Z",
     "iopub.status.idle": "2022-11-29T22:08:51.993683Z",
     "shell.execute_reply": "2022-11-29T22:08:51.993236Z"
    },
    "papermill": {
     "duration": 0.041847,
     "end_time": "2022-11-29T22:08:51.995004",
     "exception": false,
     "start_time": "2022-11-29T22:08:51.953157",
     "status": "completed"
    },
    "tags": []
   },
   "outputs": [
    {
     "data": {
      "text/plain": [
       "name              object\n",
       "id                object\n",
       "chr                 int8\n",
       "band              object\n",
       "start_position     int64\n",
       "end_position       int64\n",
       "gene_length        int64\n",
       "dtype: object"
      ]
     },
     "execution_count": 52,
     "metadata": {},
     "output_type": "execute_result"
    }
   ],
   "source": [
    "genes_info.dtypes"
   ]
  },
  {
   "cell_type": "code",
   "execution_count": 53,
   "id": "09d6320a-b1c4-4200-a23e-184bc4be69c7",
   "metadata": {
    "execution": {
     "iopub.execute_input": "2022-11-29T22:08:52.045188Z",
     "iopub.status.busy": "2022-11-29T22:08:52.044945Z",
     "iopub.status.idle": "2022-11-29T22:08:52.063878Z",
     "shell.execute_reply": "2022-11-29T22:08:52.063288Z"
    },
    "papermill": {
     "duration": 0.039891,
     "end_time": "2022-11-29T22:08:52.064862",
     "exception": false,
     "start_time": "2022-11-29T22:08:52.024971",
     "status": "completed"
    },
    "tags": []
   },
   "outputs": [],
   "source": [
    "assert genes_info[\"name\"].is_unique"
   ]
  },
  {
   "cell_type": "code",
   "execution_count": 54,
   "id": "009d11e4-f8cb-4a81-823d-c7f10b906d3b",
   "metadata": {
    "execution": {
     "iopub.execute_input": "2022-11-29T22:08:52.093703Z",
     "iopub.status.busy": "2022-11-29T22:08:52.093302Z",
     "iopub.status.idle": "2022-11-29T22:08:52.110964Z",
     "shell.execute_reply": "2022-11-29T22:08:52.110386Z"
    },
    "papermill": {
     "duration": 0.033036,
     "end_time": "2022-11-29T22:08:52.111880",
     "exception": false,
     "start_time": "2022-11-29T22:08:52.078844",
     "status": "completed"
    },
    "tags": []
   },
   "outputs": [],
   "source": [
    "assert genes_info[\"id\"].is_unique"
   ]
  },
  {
   "cell_type": "code",
   "execution_count": 55,
   "id": "e23519b8",
   "metadata": {
    "execution": {
     "iopub.execute_input": "2022-11-29T22:08:52.140463Z",
     "iopub.status.busy": "2022-11-29T22:08:52.139994Z",
     "iopub.status.idle": "2022-11-29T22:08:52.157103Z",
     "shell.execute_reply": "2022-11-29T22:08:52.156526Z"
    },
    "papermill": {
     "duration": 0.032385,
     "end_time": "2022-11-29T22:08:52.158026",
     "exception": false,
     "start_time": "2022-11-29T22:08:52.125641",
     "status": "completed"
    },
    "tags": []
   },
   "outputs": [
    {
     "data": {
      "text/plain": [
       "(6442, 7)"
      ]
     },
     "execution_count": 55,
     "metadata": {},
     "output_type": "execute_result"
    }
   ],
   "source": [
    "genes_info.shape"
   ]
  },
  {
   "cell_type": "code",
   "execution_count": 56,
   "id": "0d71881c",
   "metadata": {
    "execution": {
     "iopub.execute_input": "2022-11-29T22:08:52.187281Z",
     "iopub.status.busy": "2022-11-29T22:08:52.186860Z",
     "iopub.status.idle": "2022-11-29T22:08:52.208848Z",
     "shell.execute_reply": "2022-11-29T22:08:52.208248Z"
    },
    "papermill": {
     "duration": 0.037467,
     "end_time": "2022-11-29T22:08:52.209742",
     "exception": false,
     "start_time": "2022-11-29T22:08:52.172275",
     "status": "completed"
    },
    "tags": []
   },
   "outputs": [
    {
     "data": {
      "text/html": [
       "<div>\n",
       "<style scoped>\n",
       "    .dataframe tbody tr th:only-of-type {\n",
       "        vertical-align: middle;\n",
       "    }\n",
       "\n",
       "    .dataframe tbody tr th {\n",
       "        vertical-align: top;\n",
       "    }\n",
       "\n",
       "    .dataframe thead th {\n",
       "        text-align: right;\n",
       "    }\n",
       "</style>\n",
       "<table border=\"1\" class=\"dataframe\">\n",
       "  <thead>\n",
       "    <tr style=\"text-align: right;\">\n",
       "      <th></th>\n",
       "      <th>name</th>\n",
       "      <th>id</th>\n",
       "      <th>chr</th>\n",
       "      <th>band</th>\n",
       "      <th>start_position</th>\n",
       "      <th>end_position</th>\n",
       "      <th>gene_length</th>\n",
       "    </tr>\n",
       "  </thead>\n",
       "  <tbody>\n",
       "    <tr>\n",
       "      <th>0</th>\n",
       "      <td>IFIT3</td>\n",
       "      <td>ENSG00000119917</td>\n",
       "      <td>10</td>\n",
       "      <td>10q23.31</td>\n",
       "      <td>89327997</td>\n",
       "      <td>89340971</td>\n",
       "      <td>12974</td>\n",
       "    </tr>\n",
       "    <tr>\n",
       "      <th>1</th>\n",
       "      <td>ZFP36</td>\n",
       "      <td>ENSG00000128016</td>\n",
       "      <td>19</td>\n",
       "      <td>19q13.2</td>\n",
       "      <td>39406813</td>\n",
       "      <td>39409412</td>\n",
       "      <td>2599</td>\n",
       "    </tr>\n",
       "    <tr>\n",
       "      <th>2</th>\n",
       "      <td>ZNF597</td>\n",
       "      <td>ENSG00000167981</td>\n",
       "      <td>16</td>\n",
       "      <td>16p13.3</td>\n",
       "      <td>3432414</td>\n",
       "      <td>3443504</td>\n",
       "      <td>11090</td>\n",
       "    </tr>\n",
       "    <tr>\n",
       "      <th>3</th>\n",
       "      <td>AGPS</td>\n",
       "      <td>ENSG00000018510</td>\n",
       "      <td>2</td>\n",
       "      <td>2q31.2</td>\n",
       "      <td>177392768</td>\n",
       "      <td>177559299</td>\n",
       "      <td>166531</td>\n",
       "    </tr>\n",
       "    <tr>\n",
       "      <th>4</th>\n",
       "      <td>CDK2</td>\n",
       "      <td>ENSG00000123374</td>\n",
       "      <td>12</td>\n",
       "      <td>12q13.2</td>\n",
       "      <td>55966781</td>\n",
       "      <td>55972789</td>\n",
       "      <td>6008</td>\n",
       "    </tr>\n",
       "  </tbody>\n",
       "</table>\n",
       "</div>"
      ],
      "text/plain": [
       "     name               id  chr      band  start_position  end_position  \\\n",
       "0   IFIT3  ENSG00000119917   10  10q23.31        89327997      89340971   \n",
       "1   ZFP36  ENSG00000128016   19   19q13.2        39406813      39409412   \n",
       "2  ZNF597  ENSG00000167981   16   16p13.3         3432414       3443504   \n",
       "3    AGPS  ENSG00000018510    2    2q31.2       177392768     177559299   \n",
       "4    CDK2  ENSG00000123374   12   12q13.2        55966781      55972789   \n",
       "\n",
       "   gene_length  \n",
       "0        12974  \n",
       "1         2599  \n",
       "2        11090  \n",
       "3       166531  \n",
       "4         6008  "
      ]
     },
     "execution_count": 56,
     "metadata": {},
     "output_type": "execute_result"
    }
   ],
   "source": [
    "genes_info.head()"
   ]
  },
  {
   "cell_type": "code",
   "execution_count": 57,
   "id": "eb968287-d9cf-40f6-a93e-6b322b844404",
   "metadata": {
    "execution": {
     "iopub.execute_input": "2022-11-29T22:08:52.239205Z",
     "iopub.status.busy": "2022-11-29T22:08:52.238731Z",
     "iopub.status.idle": "2022-11-29T22:08:52.263805Z",
     "shell.execute_reply": "2022-11-29T22:08:52.263216Z"
    },
    "papermill": {
     "duration": 0.040704,
     "end_time": "2022-11-29T22:08:52.264710",
     "exception": false,
     "start_time": "2022-11-29T22:08:52.224006",
     "status": "completed"
    },
    "tags": []
   },
   "outputs": [
    {
     "data": {
      "text/html": [
       "<div>\n",
       "<style scoped>\n",
       "    .dataframe tbody tr th:only-of-type {\n",
       "        vertical-align: middle;\n",
       "    }\n",
       "\n",
       "    .dataframe tbody tr th {\n",
       "        vertical-align: top;\n",
       "    }\n",
       "\n",
       "    .dataframe thead th {\n",
       "        text-align: right;\n",
       "    }\n",
       "</style>\n",
       "<table border=\"1\" class=\"dataframe\">\n",
       "  <thead>\n",
       "    <tr style=\"text-align: right;\">\n",
       "      <th></th>\n",
       "      <th>name</th>\n",
       "      <th>id</th>\n",
       "      <th>chr</th>\n",
       "      <th>band</th>\n",
       "      <th>start_position</th>\n",
       "      <th>end_position</th>\n",
       "      <th>gene_length</th>\n",
       "    </tr>\n",
       "  </thead>\n",
       "  <tbody>\n",
       "    <tr>\n",
       "      <th>3221</th>\n",
       "      <td>EFNA1</td>\n",
       "      <td>ENSG00000169242</td>\n",
       "      <td>1</td>\n",
       "      <td>1q22</td>\n",
       "      <td>155127876</td>\n",
       "      <td>155134899</td>\n",
       "      <td>7023</td>\n",
       "    </tr>\n",
       "    <tr>\n",
       "      <th>2597</th>\n",
       "      <td>KIF2C</td>\n",
       "      <td>ENSG00000142945</td>\n",
       "      <td>1</td>\n",
       "      <td>1p34.1</td>\n",
       "      <td>44739818</td>\n",
       "      <td>44767767</td>\n",
       "      <td>27949</td>\n",
       "    </tr>\n",
       "    <tr>\n",
       "      <th>2586</th>\n",
       "      <td>XCL2</td>\n",
       "      <td>ENSG00000143185</td>\n",
       "      <td>1</td>\n",
       "      <td>1q24.2</td>\n",
       "      <td>168540768</td>\n",
       "      <td>168543997</td>\n",
       "      <td>3229</td>\n",
       "    </tr>\n",
       "    <tr>\n",
       "      <th>2578</th>\n",
       "      <td>EXOSC10</td>\n",
       "      <td>ENSG00000171824</td>\n",
       "      <td>1</td>\n",
       "      <td>1p36.22</td>\n",
       "      <td>11066618</td>\n",
       "      <td>11099869</td>\n",
       "      <td>33251</td>\n",
       "    </tr>\n",
       "    <tr>\n",
       "      <th>2570</th>\n",
       "      <td>ABCD3</td>\n",
       "      <td>ENSG00000117528</td>\n",
       "      <td>1</td>\n",
       "      <td>1p21.3</td>\n",
       "      <td>94418389</td>\n",
       "      <td>94518666</td>\n",
       "      <td>100277</td>\n",
       "    </tr>\n",
       "    <tr>\n",
       "      <th>...</th>\n",
       "      <td>...</td>\n",
       "      <td>...</td>\n",
       "      <td>...</td>\n",
       "      <td>...</td>\n",
       "      <td>...</td>\n",
       "      <td>...</td>\n",
       "      <td>...</td>\n",
       "    </tr>\n",
       "    <tr>\n",
       "      <th>4052</th>\n",
       "      <td>H1F0</td>\n",
       "      <td>ENSG00000189060</td>\n",
       "      <td>22</td>\n",
       "      <td>22q13.1</td>\n",
       "      <td>37805093</td>\n",
       "      <td>37807436</td>\n",
       "      <td>2343</td>\n",
       "    </tr>\n",
       "    <tr>\n",
       "      <th>990</th>\n",
       "      <td>XRCC6</td>\n",
       "      <td>ENSG00000196419</td>\n",
       "      <td>22</td>\n",
       "      <td>22q13.2</td>\n",
       "      <td>41621119</td>\n",
       "      <td>41664048</td>\n",
       "      <td>42929</td>\n",
       "    </tr>\n",
       "    <tr>\n",
       "      <th>2064</th>\n",
       "      <td>PARVB</td>\n",
       "      <td>ENSG00000188677</td>\n",
       "      <td>22</td>\n",
       "      <td>22q13.31</td>\n",
       "      <td>43999211</td>\n",
       "      <td>44172949</td>\n",
       "      <td>173738</td>\n",
       "    </tr>\n",
       "    <tr>\n",
       "      <th>2057</th>\n",
       "      <td>MPST</td>\n",
       "      <td>ENSG00000128309</td>\n",
       "      <td>22</td>\n",
       "      <td>22q12.3</td>\n",
       "      <td>37019635</td>\n",
       "      <td>37029822</td>\n",
       "      <td>10187</td>\n",
       "    </tr>\n",
       "    <tr>\n",
       "      <th>3545</th>\n",
       "      <td>ATP6V1E1</td>\n",
       "      <td>ENSG00000131100</td>\n",
       "      <td>22</td>\n",
       "      <td>22q11.21</td>\n",
       "      <td>17592136</td>\n",
       "      <td>17628749</td>\n",
       "      <td>36613</td>\n",
       "    </tr>\n",
       "  </tbody>\n",
       "</table>\n",
       "<p>6442 rows × 7 columns</p>\n",
       "</div>"
      ],
      "text/plain": [
       "          name               id  chr      band  start_position  end_position  \\\n",
       "3221     EFNA1  ENSG00000169242    1      1q22       155127876     155134899   \n",
       "2597     KIF2C  ENSG00000142945    1    1p34.1        44739818      44767767   \n",
       "2586      XCL2  ENSG00000143185    1    1q24.2       168540768     168543997   \n",
       "2578   EXOSC10  ENSG00000171824    1   1p36.22        11066618      11099869   \n",
       "2570     ABCD3  ENSG00000117528    1    1p21.3        94418389      94518666   \n",
       "...        ...              ...  ...       ...             ...           ...   \n",
       "4052      H1F0  ENSG00000189060   22   22q13.1        37805093      37807436   \n",
       "990      XRCC6  ENSG00000196419   22   22q13.2        41621119      41664048   \n",
       "2064     PARVB  ENSG00000188677   22  22q13.31        43999211      44172949   \n",
       "2057      MPST  ENSG00000128309   22   22q12.3        37019635      37029822   \n",
       "3545  ATP6V1E1  ENSG00000131100   22  22q11.21        17592136      17628749   \n",
       "\n",
       "      gene_length  \n",
       "3221         7023  \n",
       "2597        27949  \n",
       "2586         3229  \n",
       "2578        33251  \n",
       "2570       100277  \n",
       "...           ...  \n",
       "4052         2343  \n",
       "990         42929  \n",
       "2064       173738  \n",
       "2057        10187  \n",
       "3545        36613  \n",
       "\n",
       "[6442 rows x 7 columns]"
      ]
     },
     "execution_count": 57,
     "metadata": {},
     "output_type": "execute_result"
    }
   ],
   "source": [
    "genes_info.sort_values(\"chr\")"
   ]
  },
  {
   "cell_type": "markdown",
   "id": "7282b84d-f4f3-4e8c-9dd8-6319505ed4b5",
   "metadata": {
    "papermill": {
     "duration": 0.014132,
     "end_time": "2022-11-29T22:08:52.293243",
     "exception": false,
     "start_time": "2022-11-29T22:08:52.279111",
     "status": "completed"
    },
    "tags": []
   },
   "source": [
    "### Save"
   ]
  },
  {
   "cell_type": "code",
   "execution_count": 58,
   "id": "32cf6566-03bb-4a85-81e1-da46fc9f37ad",
   "metadata": {
    "execution": {
     "iopub.execute_input": "2022-11-29T22:08:52.322988Z",
     "iopub.status.busy": "2022-11-29T22:08:52.322498Z",
     "iopub.status.idle": "2022-11-29T22:08:52.342900Z",
     "shell.execute_reply": "2022-11-29T22:08:52.342282Z"
    },
    "papermill": {
     "duration": 0.036191,
     "end_time": "2022-11-29T22:08:52.343822",
     "exception": false,
     "start_time": "2022-11-29T22:08:52.307631",
     "status": "completed"
    },
    "tags": []
   },
   "outputs": [],
   "source": [
    "genes_info.to_pickle(OUTPUT_DIR_BASE / \"genes_info.pkl\")"
   ]
  },
  {
   "cell_type": "markdown",
   "id": "5b9f384a-5a91-4a8d-9007-cfe43f2d86f8",
   "metadata": {
    "papermill": {
     "duration": 0.014041,
     "end_time": "2022-11-29T22:08:52.372301",
     "exception": false,
     "start_time": "2022-11-29T22:08:52.358260",
     "status": "completed"
    },
    "tags": []
   },
   "source": [
    "## S-PrediXcan results"
   ]
  },
  {
   "cell_type": "markdown",
   "id": "fc0a2a4c-960c-4a0a-9b23-b66c3d5d6e07",
   "metadata": {
    "papermill": {
     "duration": 0.014326,
     "end_time": "2022-11-29T22:08:52.401059",
     "exception": false,
     "start_time": "2022-11-29T22:08:52.386733",
     "status": "completed"
    },
    "tags": []
   },
   "source": [
    "### Load results across all tissues"
   ]
  },
  {
   "cell_type": "code",
   "execution_count": 59,
   "id": "0b4867d7-a608-4b08-9d77-1782be3a0c94",
   "metadata": {
    "execution": {
     "iopub.execute_input": "2022-11-29T22:08:52.430725Z",
     "iopub.status.busy": "2022-11-29T22:08:52.430227Z",
     "iopub.status.idle": "2022-11-29T22:08:52.447738Z",
     "shell.execute_reply": "2022-11-29T22:08:52.447159Z"
    },
    "papermill": {
     "duration": 0.033389,
     "end_time": "2022-11-29T22:08:52.448673",
     "exception": false,
     "start_time": "2022-11-29T22:08:52.415284",
     "status": "completed"
    },
    "tags": []
   },
   "outputs": [],
   "source": [
    "spredixcan_result_files = {\n",
    "    t: SPREDIXCAN_FOLDER / SPREDIXCAN_FILE_PATTERN.format(tissue=t)\n",
    "    for t in prediction_model_tissues\n",
    "}"
   ]
  },
  {
   "cell_type": "code",
   "execution_count": 60,
   "id": "0ce270dd-46ac-4eaa-9d86-2b201d67d82f",
   "metadata": {
    "execution": {
     "iopub.execute_input": "2022-11-29T22:08:52.478362Z",
     "iopub.status.busy": "2022-11-29T22:08:52.477891Z",
     "iopub.status.idle": "2022-11-29T22:08:52.495725Z",
     "shell.execute_reply": "2022-11-29T22:08:52.495152Z"
    },
    "papermill": {
     "duration": 0.033655,
     "end_time": "2022-11-29T22:08:52.496620",
     "exception": false,
     "start_time": "2022-11-29T22:08:52.462965",
     "status": "completed"
    },
    "tags": []
   },
   "outputs": [
    {
     "data": {
      "text/plain": [
       "[PosixPath('/opt/data/projects/asthma-copd/results/twas/spredixcan/GWAS_ACO_GLM_SNPs_info0.7-gtex_v8-mashr-Thyroid.csv'),\n",
       " PosixPath('/opt/data/projects/asthma-copd/results/twas/spredixcan/GWAS_ACO_GLM_SNPs_info0.7-gtex_v8-mashr-Artery_Aorta.csv'),\n",
       " PosixPath('/opt/data/projects/asthma-copd/results/twas/spredixcan/GWAS_ACO_GLM_SNPs_info0.7-gtex_v8-mashr-Heart_Atrial_Appendage.csv'),\n",
       " PosixPath('/opt/data/projects/asthma-copd/results/twas/spredixcan/GWAS_ACO_GLM_SNPs_info0.7-gtex_v8-mashr-Liver.csv'),\n",
       " PosixPath('/opt/data/projects/asthma-copd/results/twas/spredixcan/GWAS_ACO_GLM_SNPs_info0.7-gtex_v8-mashr-Heart_Left_Ventricle.csv')]"
      ]
     },
     "metadata": {},
     "output_type": "display_data"
    }
   ],
   "source": [
    "assert len(spredixcan_result_files) == len(prediction_model_tissues)\n",
    "display(list(spredixcan_result_files.values())[:5])"
   ]
  },
  {
   "cell_type": "code",
   "execution_count": 61,
   "id": "aa140259-303e-4912-b2bf-e7adce662f88",
   "metadata": {
    "execution": {
     "iopub.execute_input": "2022-11-29T22:08:52.527379Z",
     "iopub.status.busy": "2022-11-29T22:08:52.526775Z",
     "iopub.status.idle": "2022-11-29T22:08:52.575889Z",
     "shell.execute_reply": "2022-11-29T22:08:52.575266Z"
    },
    "papermill": {
     "duration": 0.065568,
     "end_time": "2022-11-29T22:08:52.576741",
     "exception": false,
     "start_time": "2022-11-29T22:08:52.511173",
     "status": "completed"
    },
    "tags": []
   },
   "outputs": [
    {
     "data": {
      "text/html": [
       "<div>\n",
       "<style scoped>\n",
       "    .dataframe tbody tr th:only-of-type {\n",
       "        vertical-align: middle;\n",
       "    }\n",
       "\n",
       "    .dataframe tbody tr th {\n",
       "        vertical-align: top;\n",
       "    }\n",
       "\n",
       "    .dataframe thead th {\n",
       "        text-align: right;\n",
       "    }\n",
       "</style>\n",
       "<table border=\"1\" class=\"dataframe\">\n",
       "  <thead>\n",
       "    <tr style=\"text-align: right;\">\n",
       "      <th></th>\n",
       "      <th>gene</th>\n",
       "      <th>gene_name</th>\n",
       "      <th>zscore</th>\n",
       "      <th>effect_size</th>\n",
       "      <th>pvalue</th>\n",
       "      <th>var_g</th>\n",
       "      <th>pred_perf_r2</th>\n",
       "      <th>pred_perf_pval</th>\n",
       "      <th>pred_perf_qval</th>\n",
       "      <th>n_snps_used</th>\n",
       "      <th>n_snps_in_cov</th>\n",
       "      <th>n_snps_in_model</th>\n",
       "      <th>best_gwas_p</th>\n",
       "      <th>largest_weight</th>\n",
       "    </tr>\n",
       "  </thead>\n",
       "  <tbody>\n",
       "    <tr>\n",
       "      <th>0</th>\n",
       "      <td>ENSG00000179344.16</td>\n",
       "      <td>HLA-DQB1</td>\n",
       "      <td>-11.510273</td>\n",
       "      <td>NaN</td>\n",
       "      <td>1.171072e-30</td>\n",
       "      <td>0.283759</td>\n",
       "      <td>NaN</td>\n",
       "      <td>NaN</td>\n",
       "      <td>NaN</td>\n",
       "      <td>3</td>\n",
       "      <td>3</td>\n",
       "      <td>3</td>\n",
       "      <td>9.769960e-28</td>\n",
       "      <td>0.772332</td>\n",
       "    </tr>\n",
       "    <tr>\n",
       "      <th>1</th>\n",
       "      <td>ENSG00000232629.8</td>\n",
       "      <td>HLA-DQB2</td>\n",
       "      <td>10.404492</td>\n",
       "      <td>NaN</td>\n",
       "      <td>2.365140e-25</td>\n",
       "      <td>1.363601</td>\n",
       "      <td>NaN</td>\n",
       "      <td>NaN</td>\n",
       "      <td>NaN</td>\n",
       "      <td>2</td>\n",
       "      <td>3</td>\n",
       "      <td>3</td>\n",
       "      <td>3.571353e-25</td>\n",
       "      <td>0.972033</td>\n",
       "    </tr>\n",
       "    <tr>\n",
       "      <th>2</th>\n",
       "      <td>ENSG00000237541.3</td>\n",
       "      <td>HLA-DQA2</td>\n",
       "      <td>7.419567</td>\n",
       "      <td>NaN</td>\n",
       "      <td>1.175039e-13</td>\n",
       "      <td>0.118803</td>\n",
       "      <td>NaN</td>\n",
       "      <td>NaN</td>\n",
       "      <td>NaN</td>\n",
       "      <td>2</td>\n",
       "      <td>4</td>\n",
       "      <td>4</td>\n",
       "      <td>7.045886e-16</td>\n",
       "      <td>0.486574</td>\n",
       "    </tr>\n",
       "    <tr>\n",
       "      <th>3</th>\n",
       "      <td>ENSG00000172057.9</td>\n",
       "      <td>ORMDL3</td>\n",
       "      <td>7.301199</td>\n",
       "      <td>NaN</td>\n",
       "      <td>2.852135e-13</td>\n",
       "      <td>0.137414</td>\n",
       "      <td>NaN</td>\n",
       "      <td>NaN</td>\n",
       "      <td>NaN</td>\n",
       "      <td>2</td>\n",
       "      <td>2</td>\n",
       "      <td>2</td>\n",
       "      <td>7.949287e-15</td>\n",
       "      <td>0.397752</td>\n",
       "    </tr>\n",
       "    <tr>\n",
       "      <th>4</th>\n",
       "      <td>ENSG00000224389.8</td>\n",
       "      <td>C4B</td>\n",
       "      <td>7.229532</td>\n",
       "      <td>NaN</td>\n",
       "      <td>4.846619e-13</td>\n",
       "      <td>0.198075</td>\n",
       "      <td>NaN</td>\n",
       "      <td>NaN</td>\n",
       "      <td>NaN</td>\n",
       "      <td>2</td>\n",
       "      <td>2</td>\n",
       "      <td>2</td>\n",
       "      <td>6.175598e-12</td>\n",
       "      <td>1.101481</td>\n",
       "    </tr>\n",
       "  </tbody>\n",
       "</table>\n",
       "</div>"
      ],
      "text/plain": [
       "                 gene gene_name     zscore  effect_size        pvalue  \\\n",
       "0  ENSG00000179344.16  HLA-DQB1 -11.510273          NaN  1.171072e-30   \n",
       "1   ENSG00000232629.8  HLA-DQB2  10.404492          NaN  2.365140e-25   \n",
       "2   ENSG00000237541.3  HLA-DQA2   7.419567          NaN  1.175039e-13   \n",
       "3   ENSG00000172057.9    ORMDL3   7.301199          NaN  2.852135e-13   \n",
       "4   ENSG00000224389.8       C4B   7.229532          NaN  4.846619e-13   \n",
       "\n",
       "      var_g  pred_perf_r2  pred_perf_pval  pred_perf_qval  n_snps_used  \\\n",
       "0  0.283759           NaN             NaN             NaN            3   \n",
       "1  1.363601           NaN             NaN             NaN            2   \n",
       "2  0.118803           NaN             NaN             NaN            2   \n",
       "3  0.137414           NaN             NaN             NaN            2   \n",
       "4  0.198075           NaN             NaN             NaN            2   \n",
       "\n",
       "   n_snps_in_cov  n_snps_in_model   best_gwas_p  largest_weight  \n",
       "0              3                3  9.769960e-28        0.772332  \n",
       "1              3                3  3.571353e-25        0.972033  \n",
       "2              4                4  7.045886e-16        0.486574  \n",
       "3              2                2  7.949287e-15        0.397752  \n",
       "4              2                2  6.175598e-12        1.101481  "
      ]
     },
     "execution_count": 61,
     "metadata": {},
     "output_type": "execute_result"
    }
   ],
   "source": [
    "# look at the structure of one result\n",
    "pd.read_csv(spredixcan_result_files[\"Whole_Blood\"]).head()"
   ]
  },
  {
   "cell_type": "code",
   "execution_count": 62,
   "id": "4381b9ff-6ab5-47f1-89d1-560f88fdf07f",
   "metadata": {
    "execution": {
     "iopub.execute_input": "2022-11-29T22:08:52.607305Z",
     "iopub.status.busy": "2022-11-29T22:08:52.606825Z",
     "iopub.status.idle": "2022-11-29T22:08:52.624792Z",
     "shell.execute_reply": "2022-11-29T22:08:52.624196Z"
    },
    "papermill": {
     "duration": 0.034251,
     "end_time": "2022-11-29T22:08:52.625772",
     "exception": false,
     "start_time": "2022-11-29T22:08:52.591521",
     "status": "completed"
    },
    "tags": []
   },
   "outputs": [],
   "source": [
    "assert all(f.exists() for f in spredixcan_result_files.values())"
   ]
  },
  {
   "cell_type": "code",
   "execution_count": 63,
   "id": "d477157f-51e9-4c7c-b826-7ab5f4fdf3e3",
   "metadata": {
    "execution": {
     "iopub.execute_input": "2022-11-29T22:08:52.656596Z",
     "iopub.status.busy": "2022-11-29T22:08:52.656112Z",
     "iopub.status.idle": "2022-11-29T22:08:53.317301Z",
     "shell.execute_reply": "2022-11-29T22:08:53.316780Z"
    },
    "papermill": {
     "duration": 0.678128,
     "end_time": "2022-11-29T22:08:53.318924",
     "exception": false,
     "start_time": "2022-11-29T22:08:52.640796",
     "status": "completed"
    },
    "tags": []
   },
   "outputs": [],
   "source": [
    "spredixcan_dfs = [\n",
    "    pd.read_csv(\n",
    "        f,\n",
    "        usecols=[\n",
    "            \"gene\",\n",
    "            \"zscore\",\n",
    "            \"pvalue\",\n",
    "            \"n_snps_used\",\n",
    "            \"n_snps_in_model\",\n",
    "        ],\n",
    "    )\n",
    "    .dropna(subset=[\"gene\", \"zscore\", \"pvalue\"])\n",
    "    .assign(tissue=t)\n",
    "    for t, f in spredixcan_result_files.items()\n",
    "]"
   ]
  },
  {
   "cell_type": "code",
   "execution_count": 64,
   "id": "9730bd37-b769-411f-bb6b-bb658d1ff88c",
   "metadata": {
    "execution": {
     "iopub.execute_input": "2022-11-29T22:08:53.385749Z",
     "iopub.status.busy": "2022-11-29T22:08:53.385452Z",
     "iopub.status.idle": "2022-11-29T22:08:53.396635Z",
     "shell.execute_reply": "2022-11-29T22:08:53.396147Z"
    },
    "papermill": {
     "duration": 0.042817,
     "end_time": "2022-11-29T22:08:53.398164",
     "exception": false,
     "start_time": "2022-11-29T22:08:53.355347",
     "status": "completed"
    },
    "tags": []
   },
   "outputs": [],
   "source": [
    "assert len(spredixcan_dfs) == len(prediction_model_tissues)"
   ]
  },
  {
   "cell_type": "code",
   "execution_count": 65,
   "id": "bcd73f53-1283-4ff6-bbb5-25fb71f5cb72",
   "metadata": {
    "execution": {
     "iopub.execute_input": "2022-11-29T22:08:53.448836Z",
     "iopub.status.busy": "2022-11-29T22:08:53.448281Z",
     "iopub.status.idle": "2022-11-29T22:08:53.491557Z",
     "shell.execute_reply": "2022-11-29T22:08:53.490858Z"
    },
    "papermill": {
     "duration": 0.062997,
     "end_time": "2022-11-29T22:08:53.492504",
     "exception": false,
     "start_time": "2022-11-29T22:08:53.429507",
     "status": "completed"
    },
    "tags": []
   },
   "outputs": [],
   "source": [
    "spredixcan_dfs = pd.concat(spredixcan_dfs)"
   ]
  },
  {
   "cell_type": "code",
   "execution_count": 66,
   "id": "ae99c7b5-14fc-4b39-a6b2-40fc703acd0a",
   "metadata": {
    "execution": {
     "iopub.execute_input": "2022-11-29T22:08:53.523108Z",
     "iopub.status.busy": "2022-11-29T22:08:53.522713Z",
     "iopub.status.idle": "2022-11-29T22:08:53.582277Z",
     "shell.execute_reply": "2022-11-29T22:08:53.581659Z"
    },
    "papermill": {
     "duration": 0.076532,
     "end_time": "2022-11-29T22:08:53.583769",
     "exception": false,
     "start_time": "2022-11-29T22:08:53.507237",
     "status": "completed"
    },
    "tags": []
   },
   "outputs": [],
   "source": [
    "assert spredixcan_dfs[\"tissue\"].unique().shape[0] == len(prediction_model_tissues)"
   ]
  },
  {
   "cell_type": "code",
   "execution_count": 67,
   "id": "b7223a23-e40f-4cd3-8988-72033f8739bd",
   "metadata": {
    "execution": {
     "iopub.execute_input": "2022-11-29T22:08:53.619163Z",
     "iopub.status.busy": "2022-11-29T22:08:53.618578Z",
     "iopub.status.idle": "2022-11-29T22:08:53.636565Z",
     "shell.execute_reply": "2022-11-29T22:08:53.635976Z"
    },
    "papermill": {
     "duration": 0.03467,
     "end_time": "2022-11-29T22:08:53.637459",
     "exception": false,
     "start_time": "2022-11-29T22:08:53.602789",
     "status": "completed"
    },
    "tags": []
   },
   "outputs": [
    {
     "data": {
      "text/plain": [
       "(657966, 6)"
      ]
     },
     "execution_count": 67,
     "metadata": {},
     "output_type": "execute_result"
    }
   ],
   "source": [
    "spredixcan_dfs.shape"
   ]
  },
  {
   "cell_type": "code",
   "execution_count": 68,
   "id": "4987073a-3b70-4162-93fb-beeb351ebfe0",
   "metadata": {
    "execution": {
     "iopub.execute_input": "2022-11-29T22:08:53.668140Z",
     "iopub.status.busy": "2022-11-29T22:08:53.667686Z",
     "iopub.status.idle": "2022-11-29T22:08:53.870426Z",
     "shell.execute_reply": "2022-11-29T22:08:53.869839Z"
    },
    "papermill": {
     "duration": 0.219603,
     "end_time": "2022-11-29T22:08:53.872044",
     "exception": false,
     "start_time": "2022-11-29T22:08:53.652441",
     "status": "completed"
    },
    "tags": []
   },
   "outputs": [],
   "source": [
    "spredixcan_dfs = spredixcan_dfs.assign(\n",
    "    gene_id=spredixcan_dfs[\"gene\"].apply(lambda g: g.split(\".\")[0])\n",
    ")"
   ]
  },
  {
   "cell_type": "code",
   "execution_count": 69,
   "id": "6b47d026-01c0-4f7c-a90e-f0baa13235f4",
   "metadata": {
    "execution": {
     "iopub.execute_input": "2022-11-29T22:08:53.933976Z",
     "iopub.status.busy": "2022-11-29T22:08:53.933399Z",
     "iopub.status.idle": "2022-11-29T22:08:53.959367Z",
     "shell.execute_reply": "2022-11-29T22:08:53.958734Z"
    },
    "papermill": {
     "duration": 0.05838,
     "end_time": "2022-11-29T22:08:53.960752",
     "exception": false,
     "start_time": "2022-11-29T22:08:53.902372",
     "status": "completed"
    },
    "tags": []
   },
   "outputs": [
    {
     "data": {
      "text/html": [
       "<div>\n",
       "<style scoped>\n",
       "    .dataframe tbody tr th:only-of-type {\n",
       "        vertical-align: middle;\n",
       "    }\n",
       "\n",
       "    .dataframe tbody tr th {\n",
       "        vertical-align: top;\n",
       "    }\n",
       "\n",
       "    .dataframe thead th {\n",
       "        text-align: right;\n",
       "    }\n",
       "</style>\n",
       "<table border=\"1\" class=\"dataframe\">\n",
       "  <thead>\n",
       "    <tr style=\"text-align: right;\">\n",
       "      <th></th>\n",
       "      <th>gene</th>\n",
       "      <th>zscore</th>\n",
       "      <th>pvalue</th>\n",
       "      <th>n_snps_used</th>\n",
       "      <th>n_snps_in_model</th>\n",
       "      <th>tissue</th>\n",
       "      <th>gene_id</th>\n",
       "    </tr>\n",
       "  </thead>\n",
       "  <tbody>\n",
       "    <tr>\n",
       "      <th>0</th>\n",
       "      <td>ENSG00000232629.8</td>\n",
       "      <td>10.755937</td>\n",
       "      <td>5.556662e-27</td>\n",
       "      <td>1</td>\n",
       "      <td>2</td>\n",
       "      <td>Thyroid</td>\n",
       "      <td>ENSG00000232629</td>\n",
       "    </tr>\n",
       "    <tr>\n",
       "      <th>1</th>\n",
       "      <td>ENSG00000196735.11</td>\n",
       "      <td>-10.752505</td>\n",
       "      <td>5.767350e-27</td>\n",
       "      <td>3</td>\n",
       "      <td>3</td>\n",
       "      <td>Thyroid</td>\n",
       "      <td>ENSG00000196735</td>\n",
       "    </tr>\n",
       "    <tr>\n",
       "      <th>2</th>\n",
       "      <td>ENSG00000179344.16</td>\n",
       "      <td>-9.808153</td>\n",
       "      <td>1.038516e-22</td>\n",
       "      <td>4</td>\n",
       "      <td>4</td>\n",
       "      <td>Thyroid</td>\n",
       "      <td>ENSG00000179344</td>\n",
       "    </tr>\n",
       "    <tr>\n",
       "      <th>3</th>\n",
       "      <td>ENSG00000237541.3</td>\n",
       "      <td>8.069721</td>\n",
       "      <td>7.045886e-16</td>\n",
       "      <td>1</td>\n",
       "      <td>3</td>\n",
       "      <td>Thyroid</td>\n",
       "      <td>ENSG00000237541</td>\n",
       "    </tr>\n",
       "    <tr>\n",
       "      <th>4</th>\n",
       "      <td>ENSG00000244731.7</td>\n",
       "      <td>-7.879190</td>\n",
       "      <td>3.295113e-15</td>\n",
       "      <td>2</td>\n",
       "      <td>2</td>\n",
       "      <td>Thyroid</td>\n",
       "      <td>ENSG00000244731</td>\n",
       "    </tr>\n",
       "  </tbody>\n",
       "</table>\n",
       "</div>"
      ],
      "text/plain": [
       "                 gene     zscore        pvalue  n_snps_used  n_snps_in_model  \\\n",
       "0   ENSG00000232629.8  10.755937  5.556662e-27            1                2   \n",
       "1  ENSG00000196735.11 -10.752505  5.767350e-27            3                3   \n",
       "2  ENSG00000179344.16  -9.808153  1.038516e-22            4                4   \n",
       "3   ENSG00000237541.3   8.069721  7.045886e-16            1                3   \n",
       "4   ENSG00000244731.7  -7.879190  3.295113e-15            2                2   \n",
       "\n",
       "    tissue          gene_id  \n",
       "0  Thyroid  ENSG00000232629  \n",
       "1  Thyroid  ENSG00000196735  \n",
       "2  Thyroid  ENSG00000179344  \n",
       "3  Thyroid  ENSG00000237541  \n",
       "4  Thyroid  ENSG00000244731  "
      ]
     },
     "execution_count": 69,
     "metadata": {},
     "output_type": "execute_result"
    }
   ],
   "source": [
    "spredixcan_dfs.head()"
   ]
  },
  {
   "cell_type": "code",
   "execution_count": 70,
   "id": "d5dbdb2e-b7eb-4665-9fd4-9ce714d6af0c",
   "metadata": {
    "execution": {
     "iopub.execute_input": "2022-11-29T22:08:54.020936Z",
     "iopub.status.busy": "2022-11-29T22:08:54.020685Z",
     "iopub.status.idle": "2022-11-29T22:08:54.152602Z",
     "shell.execute_reply": "2022-11-29T22:08:54.152024Z"
    },
    "papermill": {
     "duration": 0.160387,
     "end_time": "2022-11-29T22:08:54.153524",
     "exception": false,
     "start_time": "2022-11-29T22:08:53.993137",
     "status": "completed"
    },
    "tags": []
   },
   "outputs": [],
   "source": [
    "# leave only common genes\n",
    "spredixcan_dfs = spredixcan_dfs[spredixcan_dfs[\"gene_id\"].isin(set(genes_info[\"id\"]))]"
   ]
  },
  {
   "cell_type": "code",
   "execution_count": 71,
   "id": "8d34f99a-6b43-47aa-bb07-dfc67e169538",
   "metadata": {
    "execution": {
     "iopub.execute_input": "2022-11-29T22:08:54.184169Z",
     "iopub.status.busy": "2022-11-29T22:08:54.184034Z",
     "iopub.status.idle": "2022-11-29T22:08:54.195070Z",
     "shell.execute_reply": "2022-11-29T22:08:54.194628Z"
    },
    "papermill": {
     "duration": 0.027078,
     "end_time": "2022-11-29T22:08:54.195850",
     "exception": false,
     "start_time": "2022-11-29T22:08:54.168772",
     "status": "completed"
    },
    "tags": []
   },
   "outputs": [
    {
     "data": {
      "text/plain": [
       "(235325, 7)"
      ]
     },
     "execution_count": 71,
     "metadata": {},
     "output_type": "execute_result"
    }
   ],
   "source": [
    "spredixcan_dfs.shape"
   ]
  },
  {
   "cell_type": "markdown",
   "id": "5ecfd141-ecb8-47cf-905e-25cc1b4d3f9d",
   "metadata": {
    "papermill": {
     "duration": 0.014951,
     "end_time": "2022-11-29T22:08:54.225977",
     "exception": false,
     "start_time": "2022-11-29T22:08:54.211026",
     "status": "completed"
    },
    "tags": []
   },
   "source": [
    "### Count number of tissues available per gene"
   ]
  },
  {
   "cell_type": "code",
   "execution_count": 72,
   "id": "86fe37e1-a303-4221-a12e-3a54a04dd510",
   "metadata": {
    "execution": {
     "iopub.execute_input": "2022-11-29T22:08:54.257190Z",
     "iopub.status.busy": "2022-11-29T22:08:54.256704Z",
     "iopub.status.idle": "2022-11-29T22:08:54.324641Z",
     "shell.execute_reply": "2022-11-29T22:08:54.323971Z"
    },
    "papermill": {
     "duration": 0.084493,
     "end_time": "2022-11-29T22:08:54.325613",
     "exception": false,
     "start_time": "2022-11-29T22:08:54.241120",
     "status": "completed"
    },
    "tags": []
   },
   "outputs": [],
   "source": [
    "spredixcan_genes_n_models = spredixcan_dfs.groupby(\"gene_id\")[\"tissue\"].nunique()"
   ]
  },
  {
   "cell_type": "code",
   "execution_count": 73,
   "id": "31416d48-1e4d-463f-9a5c-34d29803c3f8",
   "metadata": {
    "execution": {
     "iopub.execute_input": "2022-11-29T22:08:54.356740Z",
     "iopub.status.busy": "2022-11-29T22:08:54.356249Z",
     "iopub.status.idle": "2022-11-29T22:08:54.372922Z",
     "shell.execute_reply": "2022-11-29T22:08:54.372326Z"
    },
    "papermill": {
     "duration": 0.033048,
     "end_time": "2022-11-29T22:08:54.373756",
     "exception": false,
     "start_time": "2022-11-29T22:08:54.340708",
     "status": "completed"
    },
    "tags": []
   },
   "outputs": [
    {
     "data": {
      "text/plain": [
       "gene_id\n",
       "ENSG00000000419     2\n",
       "ENSG00000000938    36\n",
       "ENSG00000000971    34\n",
       "ENSG00000001084    32\n",
       "ENSG00000001167    40\n",
       "                   ..\n",
       "ENSG00000278540    36\n",
       "ENSG00000278828     4\n",
       "ENSG00000278845    49\n",
       "ENSG00000281005    49\n",
       "ENSG00000282608    36\n",
       "Name: tissue, Length: 6442, dtype: int64"
      ]
     },
     "execution_count": 73,
     "metadata": {},
     "output_type": "execute_result"
    }
   ],
   "source": [
    "spredixcan_genes_n_models"
   ]
  },
  {
   "cell_type": "code",
   "execution_count": 74,
   "id": "d737ad4f-f821-4546-9a3e-6703fe264b49",
   "metadata": {
    "execution": {
     "iopub.execute_input": "2022-11-29T22:08:54.405371Z",
     "iopub.status.busy": "2022-11-29T22:08:54.404902Z",
     "iopub.status.idle": "2022-11-29T22:08:54.425068Z",
     "shell.execute_reply": "2022-11-29T22:08:54.424535Z"
    },
    "papermill": {
     "duration": 0.037048,
     "end_time": "2022-11-29T22:08:54.425920",
     "exception": false,
     "start_time": "2022-11-29T22:08:54.388872",
     "status": "completed"
    },
    "tags": []
   },
   "outputs": [],
   "source": [
    "# testing that in S-MultiXcan I get the same number of tissues per gene\n",
    "_tmp_smultixcan_results_n_models = (\n",
    "    smultixcan_results.set_index(\"gene_id\")[\"n\"].astype(int).rename(\"tissue\")\n",
    ")\n",
    "\n",
    "_cg = _tmp_smultixcan_results_n_models.index.intersection(\n",
    "    spredixcan_genes_n_models.index\n",
    ")\n",
    "_tmp_smultixcan_results_n_models = _tmp_smultixcan_results_n_models.loc[_cg]\n",
    "_spredixcan = spredixcan_genes_n_models.loc[_cg]\n",
    "\n",
    "assert _spredixcan.shape[0] == _tmp_smultixcan_results_n_models.shape[0]\n",
    "assert _spredixcan.equals(_tmp_smultixcan_results_n_models.loc[_spredixcan.index])"
   ]
  },
  {
   "cell_type": "markdown",
   "id": "904d7d30-9c2d-4c3e-b674-3f081954fe8b",
   "metadata": {
    "papermill": {
     "duration": 0.015141,
     "end_time": "2022-11-29T22:08:54.456173",
     "exception": false,
     "start_time": "2022-11-29T22:08:54.441032",
     "status": "completed"
    },
    "tags": []
   },
   "source": [
    "### Get tissues available per gene"
   ]
  },
  {
   "cell_type": "code",
   "execution_count": 75,
   "id": "cf014e81-4b4e-4c46-9265-67718b3ab08e",
   "metadata": {
    "execution": {
     "iopub.execute_input": "2022-11-29T22:08:54.510235Z",
     "iopub.status.busy": "2022-11-29T22:08:54.510037Z",
     "iopub.status.idle": "2022-11-29T22:08:54.641398Z",
     "shell.execute_reply": "2022-11-29T22:08:54.640849Z"
    },
    "papermill": {
     "duration": 0.148389,
     "end_time": "2022-11-29T22:08:54.642676",
     "exception": false,
     "start_time": "2022-11-29T22:08:54.494287",
     "status": "completed"
    },
    "tags": []
   },
   "outputs": [],
   "source": [
    "spredixcan_genes_models = spredixcan_dfs.groupby(\"gene_id\")[\"tissue\"].apply(\n",
    "    lambda x: frozenset(x.tolist())\n",
    ")"
   ]
  },
  {
   "cell_type": "code",
   "execution_count": 76,
   "id": "5df09d7f-39c9-408f-9fef-5189e8ca1c87",
   "metadata": {
    "execution": {
     "iopub.execute_input": "2022-11-29T22:08:54.674903Z",
     "iopub.status.busy": "2022-11-29T22:08:54.674430Z",
     "iopub.status.idle": "2022-11-29T22:08:54.694341Z",
     "shell.execute_reply": "2022-11-29T22:08:54.693774Z"
    },
    "papermill": {
     "duration": 0.036567,
     "end_time": "2022-11-29T22:08:54.695203",
     "exception": false,
     "start_time": "2022-11-29T22:08:54.658636",
     "status": "completed"
    },
    "tags": []
   },
   "outputs": [
    {
     "data": {
      "text/plain": [
       "gene_id\n",
       "ENSG00000000419         (Brain_Substantia_nigra, Brain_Hypothalamus)\n",
       "ENSG00000000938    (Brain_Cerebellum, Brain_Anterior_cingulate_co...\n",
       "ENSG00000000971    (Brain_Cerebellum, Brain_Anterior_cingulate_co...\n",
       "ENSG00000001084    (Brain_Cerebellum, Brain_Anterior_cingulate_co...\n",
       "ENSG00000001167    (Brain_Cerebellum, Vagina, Brain_Anterior_cing...\n",
       "                                         ...                        \n",
       "ENSG00000278540    (Vagina, Brain_Anterior_cingulate_cortex_BA24,...\n",
       "ENSG00000278828    (Adipose_Visceral_Omentum, Cells_EBV-transform...\n",
       "ENSG00000278845    (Brain_Cerebellum, Vagina, Brain_Anterior_cing...\n",
       "ENSG00000281005    (Brain_Cerebellum, Vagina, Brain_Anterior_cing...\n",
       "ENSG00000282608    (Brain_Cerebellum, Brain_Anterior_cingulate_co...\n",
       "Name: tissue, Length: 6442, dtype: object"
      ]
     },
     "execution_count": 76,
     "metadata": {},
     "output_type": "execute_result"
    }
   ],
   "source": [
    "spredixcan_genes_models"
   ]
  },
  {
   "cell_type": "code",
   "execution_count": 77,
   "id": "97c46886-5a48-4813-b890-1dcdb09ec09d",
   "metadata": {
    "execution": {
     "iopub.execute_input": "2022-11-29T22:08:54.726721Z",
     "iopub.status.busy": "2022-11-29T22:08:54.726265Z",
     "iopub.status.idle": "2022-11-29T22:08:54.742017Z",
     "shell.execute_reply": "2022-11-29T22:08:54.741476Z"
    },
    "papermill": {
     "duration": 0.032532,
     "end_time": "2022-11-29T22:08:54.742971",
     "exception": false,
     "start_time": "2022-11-29T22:08:54.710439",
     "status": "completed"
    },
    "tags": []
   },
   "outputs": [],
   "source": [
    "assert spredixcan_genes_n_models.shape[0] == spredixcan_genes_models.shape[0]"
   ]
  },
  {
   "cell_type": "code",
   "execution_count": 78,
   "id": "abc13913-a681-4297-a0e6-dde62f43c36f",
   "metadata": {
    "execution": {
     "iopub.execute_input": "2022-11-29T22:08:54.774600Z",
     "iopub.status.busy": "2022-11-29T22:08:54.774104Z",
     "iopub.status.idle": "2022-11-29T22:08:54.793189Z",
     "shell.execute_reply": "2022-11-29T22:08:54.792575Z"
    },
    "papermill": {
     "duration": 0.035778,
     "end_time": "2022-11-29T22:08:54.794075",
     "exception": false,
     "start_time": "2022-11-29T22:08:54.758297",
     "status": "completed"
    },
    "tags": []
   },
   "outputs": [],
   "source": [
    "assert spredixcan_genes_n_models.index.equals(spredixcan_genes_models.index)"
   ]
  },
  {
   "cell_type": "code",
   "execution_count": 79,
   "id": "995a02e7-b836-471b-b438-17c8c46e4fde",
   "metadata": {
    "execution": {
     "iopub.execute_input": "2022-11-29T22:08:54.825781Z",
     "iopub.status.busy": "2022-11-29T22:08:54.825290Z",
     "iopub.status.idle": "2022-11-29T22:08:54.845858Z",
     "shell.execute_reply": "2022-11-29T22:08:54.845192Z"
    },
    "papermill": {
     "duration": 0.037371,
     "end_time": "2022-11-29T22:08:54.846685",
     "exception": false,
     "start_time": "2022-11-29T22:08:54.809314",
     "status": "completed"
    },
    "tags": []
   },
   "outputs": [],
   "source": [
    "assert (spredixcan_genes_models.apply(len) <= len(prediction_model_tissues)).all()"
   ]
  },
  {
   "cell_type": "code",
   "execution_count": 80,
   "id": "0c1d0c68-1a06-480c-b6d6-d3c4fdf0f5aa",
   "metadata": {
    "execution": {
     "iopub.execute_input": "2022-11-29T22:08:54.878435Z",
     "iopub.status.busy": "2022-11-29T22:08:54.877939Z",
     "iopub.status.idle": "2022-11-29T22:08:54.902628Z",
     "shell.execute_reply": "2022-11-29T22:08:54.902016Z"
    },
    "papermill": {
     "duration": 0.041467,
     "end_time": "2022-11-29T22:08:54.903482",
     "exception": false,
     "start_time": "2022-11-29T22:08:54.862015",
     "status": "completed"
    },
    "tags": []
   },
   "outputs": [
    {
     "data": {
      "text/plain": [
       "count    6442.000000\n",
       "mean       36.529804\n",
       "std        12.893981\n",
       "min         1.000000\n",
       "25%        29.000000\n",
       "50%        42.000000\n",
       "75%        47.000000\n",
       "max        49.000000\n",
       "Name: tissue, dtype: float64"
      ]
     },
     "execution_count": 80,
     "metadata": {},
     "output_type": "execute_result"
    }
   ],
   "source": [
    "spredixcan_genes_models.apply(len).describe()"
   ]
  },
  {
   "cell_type": "code",
   "execution_count": 81,
   "id": "991b9441-6bb5-4b72-9285-5fd579875e40",
   "metadata": {
    "execution": {
     "iopub.execute_input": "2022-11-29T22:08:54.936631Z",
     "iopub.status.busy": "2022-11-29T22:08:54.936270Z",
     "iopub.status.idle": "2022-11-29T22:08:54.958880Z",
     "shell.execute_reply": "2022-11-29T22:08:54.958254Z"
    },
    "papermill": {
     "duration": 0.040227,
     "end_time": "2022-11-29T22:08:54.959886",
     "exception": false,
     "start_time": "2022-11-29T22:08:54.919659",
     "status": "completed"
    },
    "tags": []
   },
   "outputs": [],
   "source": [
    "# testing that I obtained the right number of tissues\n",
    "assert (\n",
    "    spredixcan_genes_models.loc[spredixcan_genes_n_models.index]\n",
    "    .apply(len)\n",
    "    .equals(spredixcan_genes_n_models)\n",
    ")"
   ]
  },
  {
   "cell_type": "markdown",
   "id": "3042b22d-9d88-4e21-b112-ab23cf8d24ea",
   "metadata": {
    "papermill": {
     "duration": 0.015484,
     "end_time": "2022-11-29T22:08:54.990944",
     "exception": false,
     "start_time": "2022-11-29T22:08:54.975460",
     "status": "completed"
    },
    "tags": []
   },
   "source": [
    "### Add gene name and set index"
   ]
  },
  {
   "cell_type": "code",
   "execution_count": 82,
   "id": "3b7b0e76-7aca-44bf-beff-5f1c1b6193ee",
   "metadata": {
    "execution": {
     "iopub.execute_input": "2022-11-29T22:08:55.025721Z",
     "iopub.status.busy": "2022-11-29T22:08:55.025454Z",
     "iopub.status.idle": "2022-11-29T22:08:55.044032Z",
     "shell.execute_reply": "2022-11-29T22:08:55.043428Z"
    },
    "papermill": {
     "duration": 0.038359,
     "end_time": "2022-11-29T22:08:55.044968",
     "exception": false,
     "start_time": "2022-11-29T22:08:55.006609",
     "status": "completed"
    },
    "tags": []
   },
   "outputs": [],
   "source": [
    "spredixcan_genes_models = spredixcan_genes_models.to_frame().reset_index()"
   ]
  },
  {
   "cell_type": "code",
   "execution_count": 83,
   "id": "ffab4b61-c2d4-4bcc-a147-23a4bf30f715",
   "metadata": {
    "execution": {
     "iopub.execute_input": "2022-11-29T22:08:55.077046Z",
     "iopub.status.busy": "2022-11-29T22:08:55.076456Z",
     "iopub.status.idle": "2022-11-29T22:08:55.099666Z",
     "shell.execute_reply": "2022-11-29T22:08:55.099063Z"
    },
    "papermill": {
     "duration": 0.040155,
     "end_time": "2022-11-29T22:08:55.100579",
     "exception": false,
     "start_time": "2022-11-29T22:08:55.060424",
     "status": "completed"
    },
    "tags": []
   },
   "outputs": [
    {
     "data": {
      "text/html": [
       "<div>\n",
       "<style scoped>\n",
       "    .dataframe tbody tr th:only-of-type {\n",
       "        vertical-align: middle;\n",
       "    }\n",
       "\n",
       "    .dataframe tbody tr th {\n",
       "        vertical-align: top;\n",
       "    }\n",
       "\n",
       "    .dataframe thead th {\n",
       "        text-align: right;\n",
       "    }\n",
       "</style>\n",
       "<table border=\"1\" class=\"dataframe\">\n",
       "  <thead>\n",
       "    <tr style=\"text-align: right;\">\n",
       "      <th></th>\n",
       "      <th>gene_id</th>\n",
       "      <th>tissue</th>\n",
       "    </tr>\n",
       "  </thead>\n",
       "  <tbody>\n",
       "    <tr>\n",
       "      <th>0</th>\n",
       "      <td>ENSG00000000419</td>\n",
       "      <td>(Brain_Substantia_nigra, Brain_Hypothalamus)</td>\n",
       "    </tr>\n",
       "    <tr>\n",
       "      <th>1</th>\n",
       "      <td>ENSG00000000938</td>\n",
       "      <td>(Brain_Cerebellum, Brain_Anterior_cingulate_co...</td>\n",
       "    </tr>\n",
       "    <tr>\n",
       "      <th>2</th>\n",
       "      <td>ENSG00000000971</td>\n",
       "      <td>(Brain_Cerebellum, Brain_Anterior_cingulate_co...</td>\n",
       "    </tr>\n",
       "    <tr>\n",
       "      <th>3</th>\n",
       "      <td>ENSG00000001084</td>\n",
       "      <td>(Brain_Cerebellum, Brain_Anterior_cingulate_co...</td>\n",
       "    </tr>\n",
       "    <tr>\n",
       "      <th>4</th>\n",
       "      <td>ENSG00000001167</td>\n",
       "      <td>(Brain_Cerebellum, Vagina, Brain_Anterior_cing...</td>\n",
       "    </tr>\n",
       "  </tbody>\n",
       "</table>\n",
       "</div>"
      ],
      "text/plain": [
       "           gene_id                                             tissue\n",
       "0  ENSG00000000419       (Brain_Substantia_nigra, Brain_Hypothalamus)\n",
       "1  ENSG00000000938  (Brain_Cerebellum, Brain_Anterior_cingulate_co...\n",
       "2  ENSG00000000971  (Brain_Cerebellum, Brain_Anterior_cingulate_co...\n",
       "3  ENSG00000001084  (Brain_Cerebellum, Brain_Anterior_cingulate_co...\n",
       "4  ENSG00000001167  (Brain_Cerebellum, Vagina, Brain_Anterior_cing..."
      ]
     },
     "execution_count": 83,
     "metadata": {},
     "output_type": "execute_result"
    }
   ],
   "source": [
    "spredixcan_genes_models.head()"
   ]
  },
  {
   "cell_type": "code",
   "execution_count": 84,
   "id": "e1cb2fe5-969f-4526-bca7-a3b8919b3509",
   "metadata": {
    "execution": {
     "iopub.execute_input": "2022-11-29T22:08:55.132615Z",
     "iopub.status.busy": "2022-11-29T22:08:55.132140Z",
     "iopub.status.idle": "2022-11-29T22:08:55.153690Z",
     "shell.execute_reply": "2022-11-29T22:08:55.153052Z"
    },
    "papermill": {
     "duration": 0.038676,
     "end_time": "2022-11-29T22:08:55.154670",
     "exception": false,
     "start_time": "2022-11-29T22:08:55.115994",
     "status": "completed"
    },
    "tags": []
   },
   "outputs": [],
   "source": [
    "spredixcan_genes_models = spredixcan_genes_models.assign(\n",
    "    gene_name=spredixcan_genes_models[\"gene_id\"].apply(\n",
    "        lambda g: Gene.GENE_ID_TO_NAME_MAP[g]\n",
    "    )\n",
    ")"
   ]
  },
  {
   "cell_type": "code",
   "execution_count": 85,
   "id": "ff078ce5-3f18-442e-a593-3326436c758e",
   "metadata": {
    "execution": {
     "iopub.execute_input": "2022-11-29T22:08:55.186819Z",
     "iopub.status.busy": "2022-11-29T22:08:55.186256Z",
     "iopub.status.idle": "2022-11-29T22:08:55.205030Z",
     "shell.execute_reply": "2022-11-29T22:08:55.204408Z"
    },
    "papermill": {
     "duration": 0.035817,
     "end_time": "2022-11-29T22:08:55.205898",
     "exception": false,
     "start_time": "2022-11-29T22:08:55.170081",
     "status": "completed"
    },
    "tags": []
   },
   "outputs": [],
   "source": [
    "spredixcan_genes_models = spredixcan_genes_models[[\"gene_id\", \"gene_name\", \"tissue\"]]"
   ]
  },
  {
   "cell_type": "code",
   "execution_count": 86,
   "id": "a65c8bf2-5ecd-4f80-a857-11f8a0c019c4",
   "metadata": {
    "execution": {
     "iopub.execute_input": "2022-11-29T22:08:55.238025Z",
     "iopub.status.busy": "2022-11-29T22:08:55.237558Z",
     "iopub.status.idle": "2022-11-29T22:08:55.255101Z",
     "shell.execute_reply": "2022-11-29T22:08:55.254496Z"
    },
    "papermill": {
     "duration": 0.034527,
     "end_time": "2022-11-29T22:08:55.256027",
     "exception": false,
     "start_time": "2022-11-29T22:08:55.221500",
     "status": "completed"
    },
    "tags": []
   },
   "outputs": [],
   "source": [
    "spredixcan_genes_models = spredixcan_genes_models.set_index(\"gene_id\")"
   ]
  },
  {
   "cell_type": "code",
   "execution_count": 87,
   "id": "af6b40b9-fc58-47a1-a1b5-4404034b008b",
   "metadata": {
    "execution": {
     "iopub.execute_input": "2022-11-29T22:08:55.288191Z",
     "iopub.status.busy": "2022-11-29T22:08:55.287798Z",
     "iopub.status.idle": "2022-11-29T22:08:55.310083Z",
     "shell.execute_reply": "2022-11-29T22:08:55.309501Z"
    },
    "papermill": {
     "duration": 0.039378,
     "end_time": "2022-11-29T22:08:55.310987",
     "exception": false,
     "start_time": "2022-11-29T22:08:55.271609",
     "status": "completed"
    },
    "tags": []
   },
   "outputs": [
    {
     "data": {
      "text/html": [
       "<div>\n",
       "<style scoped>\n",
       "    .dataframe tbody tr th:only-of-type {\n",
       "        vertical-align: middle;\n",
       "    }\n",
       "\n",
       "    .dataframe tbody tr th {\n",
       "        vertical-align: top;\n",
       "    }\n",
       "\n",
       "    .dataframe thead th {\n",
       "        text-align: right;\n",
       "    }\n",
       "</style>\n",
       "<table border=\"1\" class=\"dataframe\">\n",
       "  <thead>\n",
       "    <tr style=\"text-align: right;\">\n",
       "      <th></th>\n",
       "      <th>gene_name</th>\n",
       "      <th>tissue</th>\n",
       "    </tr>\n",
       "    <tr>\n",
       "      <th>gene_id</th>\n",
       "      <th></th>\n",
       "      <th></th>\n",
       "    </tr>\n",
       "  </thead>\n",
       "  <tbody>\n",
       "    <tr>\n",
       "      <th>ENSG00000000419</th>\n",
       "      <td>DPM1</td>\n",
       "      <td>(Brain_Substantia_nigra, Brain_Hypothalamus)</td>\n",
       "    </tr>\n",
       "    <tr>\n",
       "      <th>ENSG00000000938</th>\n",
       "      <td>FGR</td>\n",
       "      <td>(Brain_Cerebellum, Brain_Anterior_cingulate_co...</td>\n",
       "    </tr>\n",
       "    <tr>\n",
       "      <th>ENSG00000000971</th>\n",
       "      <td>CFH</td>\n",
       "      <td>(Brain_Cerebellum, Brain_Anterior_cingulate_co...</td>\n",
       "    </tr>\n",
       "    <tr>\n",
       "      <th>ENSG00000001084</th>\n",
       "      <td>GCLC</td>\n",
       "      <td>(Brain_Cerebellum, Brain_Anterior_cingulate_co...</td>\n",
       "    </tr>\n",
       "    <tr>\n",
       "      <th>ENSG00000001167</th>\n",
       "      <td>NFYA</td>\n",
       "      <td>(Brain_Cerebellum, Vagina, Brain_Anterior_cing...</td>\n",
       "    </tr>\n",
       "  </tbody>\n",
       "</table>\n",
       "</div>"
      ],
      "text/plain": [
       "                gene_name                                             tissue\n",
       "gene_id                                                                     \n",
       "ENSG00000000419      DPM1       (Brain_Substantia_nigra, Brain_Hypothalamus)\n",
       "ENSG00000000938       FGR  (Brain_Cerebellum, Brain_Anterior_cingulate_co...\n",
       "ENSG00000000971       CFH  (Brain_Cerebellum, Brain_Anterior_cingulate_co...\n",
       "ENSG00000001084      GCLC  (Brain_Cerebellum, Brain_Anterior_cingulate_co...\n",
       "ENSG00000001167      NFYA  (Brain_Cerebellum, Vagina, Brain_Anterior_cing..."
      ]
     },
     "execution_count": 87,
     "metadata": {},
     "output_type": "execute_result"
    }
   ],
   "source": [
    "spredixcan_genes_models.head()"
   ]
  },
  {
   "cell_type": "markdown",
   "id": "d1e67be9-9094-4a07-b89d-3a0815d503e6",
   "metadata": {
    "papermill": {
     "duration": 0.015654,
     "end_time": "2022-11-29T22:08:55.342412",
     "exception": false,
     "start_time": "2022-11-29T22:08:55.326758",
     "status": "completed"
    },
    "tags": []
   },
   "source": [
    "### Add number of tissues"
   ]
  },
  {
   "cell_type": "code",
   "execution_count": 88,
   "id": "b2702bdb-b3bc-48e6-9c3e-855924d9e74b",
   "metadata": {
    "execution": {
     "iopub.execute_input": "2022-11-29T22:08:55.375050Z",
     "iopub.status.busy": "2022-11-29T22:08:55.374603Z",
     "iopub.status.idle": "2022-11-29T22:08:55.394948Z",
     "shell.execute_reply": "2022-11-29T22:08:55.394304Z"
    },
    "papermill": {
     "duration": 0.037701,
     "end_time": "2022-11-29T22:08:55.395842",
     "exception": false,
     "start_time": "2022-11-29T22:08:55.358141",
     "status": "completed"
    },
    "tags": []
   },
   "outputs": [],
   "source": [
    "spredixcan_genes_models = spredixcan_genes_models.assign(\n",
    "    n_tissues=spredixcan_genes_models[\"tissue\"].apply(len)\n",
    ")"
   ]
  },
  {
   "cell_type": "code",
   "execution_count": 89,
   "id": "4a5eb4b8-5e11-45a3-a991-0515bd83fc03",
   "metadata": {
    "execution": {
     "iopub.execute_input": "2022-11-29T22:08:55.428510Z",
     "iopub.status.busy": "2022-11-29T22:08:55.427967Z",
     "iopub.status.idle": "2022-11-29T22:08:55.452098Z",
     "shell.execute_reply": "2022-11-29T22:08:55.451500Z"
    },
    "papermill": {
     "duration": 0.041532,
     "end_time": "2022-11-29T22:08:55.453054",
     "exception": false,
     "start_time": "2022-11-29T22:08:55.411522",
     "status": "completed"
    },
    "tags": []
   },
   "outputs": [
    {
     "data": {
      "text/html": [
       "<div>\n",
       "<style scoped>\n",
       "    .dataframe tbody tr th:only-of-type {\n",
       "        vertical-align: middle;\n",
       "    }\n",
       "\n",
       "    .dataframe tbody tr th {\n",
       "        vertical-align: top;\n",
       "    }\n",
       "\n",
       "    .dataframe thead th {\n",
       "        text-align: right;\n",
       "    }\n",
       "</style>\n",
       "<table border=\"1\" class=\"dataframe\">\n",
       "  <thead>\n",
       "    <tr style=\"text-align: right;\">\n",
       "      <th></th>\n",
       "      <th>gene_name</th>\n",
       "      <th>tissue</th>\n",
       "      <th>n_tissues</th>\n",
       "    </tr>\n",
       "    <tr>\n",
       "      <th>gene_id</th>\n",
       "      <th></th>\n",
       "      <th></th>\n",
       "      <th></th>\n",
       "    </tr>\n",
       "  </thead>\n",
       "  <tbody>\n",
       "    <tr>\n",
       "      <th>ENSG00000000419</th>\n",
       "      <td>DPM1</td>\n",
       "      <td>(Brain_Substantia_nigra, Brain_Hypothalamus)</td>\n",
       "      <td>2</td>\n",
       "    </tr>\n",
       "    <tr>\n",
       "      <th>ENSG00000000938</th>\n",
       "      <td>FGR</td>\n",
       "      <td>(Brain_Cerebellum, Brain_Anterior_cingulate_co...</td>\n",
       "      <td>36</td>\n",
       "    </tr>\n",
       "    <tr>\n",
       "      <th>ENSG00000000971</th>\n",
       "      <td>CFH</td>\n",
       "      <td>(Brain_Cerebellum, Brain_Anterior_cingulate_co...</td>\n",
       "      <td>34</td>\n",
       "    </tr>\n",
       "    <tr>\n",
       "      <th>ENSG00000001084</th>\n",
       "      <td>GCLC</td>\n",
       "      <td>(Brain_Cerebellum, Brain_Anterior_cingulate_co...</td>\n",
       "      <td>32</td>\n",
       "    </tr>\n",
       "    <tr>\n",
       "      <th>ENSG00000001167</th>\n",
       "      <td>NFYA</td>\n",
       "      <td>(Brain_Cerebellum, Vagina, Brain_Anterior_cing...</td>\n",
       "      <td>40</td>\n",
       "    </tr>\n",
       "  </tbody>\n",
       "</table>\n",
       "</div>"
      ],
      "text/plain": [
       "                gene_name                                             tissue  \\\n",
       "gene_id                                                                        \n",
       "ENSG00000000419      DPM1       (Brain_Substantia_nigra, Brain_Hypothalamus)   \n",
       "ENSG00000000938       FGR  (Brain_Cerebellum, Brain_Anterior_cingulate_co...   \n",
       "ENSG00000000971       CFH  (Brain_Cerebellum, Brain_Anterior_cingulate_co...   \n",
       "ENSG00000001084      GCLC  (Brain_Cerebellum, Brain_Anterior_cingulate_co...   \n",
       "ENSG00000001167      NFYA  (Brain_Cerebellum, Vagina, Brain_Anterior_cing...   \n",
       "\n",
       "                 n_tissues  \n",
       "gene_id                     \n",
       "ENSG00000000419          2  \n",
       "ENSG00000000938         36  \n",
       "ENSG00000000971         34  \n",
       "ENSG00000001084         32  \n",
       "ENSG00000001167         40  "
      ]
     },
     "execution_count": 89,
     "metadata": {},
     "output_type": "execute_result"
    }
   ],
   "source": [
    "spredixcan_genes_models.head()"
   ]
  },
  {
   "cell_type": "markdown",
   "id": "2abce820-1cb4-4a58-9dc5-b3e37d3ff037",
   "metadata": {
    "papermill": {
     "duration": 0.015802,
     "end_time": "2022-11-29T22:08:55.484747",
     "exception": false,
     "start_time": "2022-11-29T22:08:55.468945",
     "status": "completed"
    },
    "tags": []
   },
   "source": [
    "### Save"
   ]
  },
  {
   "cell_type": "markdown",
   "id": "28462e2a-da49-44c4-ae71-b3830a2b108f",
   "metadata": {
    "papermill": {
     "duration": 0.016849,
     "end_time": "2022-11-29T22:08:55.518746",
     "exception": false,
     "start_time": "2022-11-29T22:08:55.501897",
     "status": "completed"
    },
    "tags": []
   },
   "source": [
    "Here I quickly save these results to a file, given that the next steps (covariates) are slow to compute."
   ]
  },
  {
   "cell_type": "code",
   "execution_count": 90,
   "id": "9cfb687d-5ab2-4e85-9944-f5c685de8046",
   "metadata": {
    "execution": {
     "iopub.execute_input": "2022-11-29T22:08:55.552483Z",
     "iopub.status.busy": "2022-11-29T22:08:55.551862Z",
     "iopub.status.idle": "2022-11-29T22:08:55.570353Z",
     "shell.execute_reply": "2022-11-29T22:08:55.569749Z"
    },
    "papermill": {
     "duration": 0.036228,
     "end_time": "2022-11-29T22:08:55.571243",
     "exception": false,
     "start_time": "2022-11-29T22:08:55.535015",
     "status": "completed"
    },
    "tags": []
   },
   "outputs": [],
   "source": [
    "# this is important, other scripts depend on gene_name to be unique\n",
    "assert spredixcan_genes_models[\"gene_name\"].is_unique"
   ]
  },
  {
   "cell_type": "code",
   "execution_count": 91,
   "id": "b2d9bd26-afaa-4aff-a707-3109e13af9bb",
   "metadata": {
    "execution": {
     "iopub.execute_input": "2022-11-29T22:08:55.603936Z",
     "iopub.status.busy": "2022-11-29T22:08:55.603619Z",
     "iopub.status.idle": "2022-11-29T22:08:55.624620Z",
     "shell.execute_reply": "2022-11-29T22:08:55.623935Z"
    },
    "papermill": {
     "duration": 0.038516,
     "end_time": "2022-11-29T22:08:55.625524",
     "exception": false,
     "start_time": "2022-11-29T22:08:55.587008",
     "status": "completed"
    },
    "tags": []
   },
   "outputs": [
    {
     "name": "stderr",
     "output_type": "stream",
     "text": [
      "/tmp/ipykernel_129/1381297071.py:1: FutureWarning: In a future version of pandas all arguments of DataFrame.any and Series.any will be keyword-only.\n",
      "  assert not spredixcan_genes_models.isna().any(None)\n"
     ]
    }
   ],
   "source": [
    "assert not spredixcan_genes_models.isna().any(None)"
   ]
  },
  {
   "cell_type": "code",
   "execution_count": 92,
   "id": "074b103c-2960-4299-a3ac-fa37ab6f2784",
   "metadata": {
    "execution": {
     "iopub.execute_input": "2022-11-29T22:08:55.658464Z",
     "iopub.status.busy": "2022-11-29T22:08:55.657936Z",
     "iopub.status.idle": "2022-11-29T22:08:55.690607Z",
     "shell.execute_reply": "2022-11-29T22:08:55.689937Z"
    },
    "papermill": {
     "duration": 0.049979,
     "end_time": "2022-11-29T22:08:55.691497",
     "exception": false,
     "start_time": "2022-11-29T22:08:55.641518",
     "status": "completed"
    },
    "tags": []
   },
   "outputs": [],
   "source": [
    "spredixcan_genes_models.to_pickle(OUTPUT_DIR_BASE / \"gene_tissues.pkl\")"
   ]
  },
  {
   "cell_type": "markdown",
   "id": "ae18f693-4da8-48ae-85b6-8194abcca684",
   "metadata": {
    "papermill": {
     "duration": 0.017155,
     "end_time": "2022-11-29T22:08:55.724686",
     "exception": false,
     "start_time": "2022-11-29T22:08:55.707531",
     "status": "completed"
    },
    "tags": []
   },
   "source": [
    "## Add covariates based on S-PrediXcan results"
   ]
  },
  {
   "cell_type": "markdown",
   "id": "bed7a46c-4906-40b9-9dd8-0bfb584e6d2a",
   "metadata": {
    "papermill": {
     "duration": 0.015788,
     "end_time": "2022-11-29T22:08:55.756647",
     "exception": false,
     "start_time": "2022-11-29T22:08:55.740859",
     "status": "completed"
    },
    "tags": []
   },
   "source": [
    "This extend the previous file with more columns"
   ]
  },
  {
   "cell_type": "markdown",
   "id": "850c554f-2ace-40a3-a33a-477246bb07c7",
   "metadata": {
    "papermill": {
     "duration": 0.015984,
     "end_time": "2022-11-29T22:08:55.788777",
     "exception": false,
     "start_time": "2022-11-29T22:08:55.772793",
     "status": "completed"
    },
    "tags": []
   },
   "source": [
    "### Get gene's objects"
   ]
  },
  {
   "cell_type": "code",
   "execution_count": 93,
   "id": "dfd93711-5c91-4cb6-8561-f366e270b6b1",
   "metadata": {
    "execution": {
     "iopub.execute_input": "2022-11-29T22:08:55.822807Z",
     "iopub.status.busy": "2022-11-29T22:08:55.822464Z",
     "iopub.status.idle": "2022-11-29T22:08:55.851660Z",
     "shell.execute_reply": "2022-11-29T22:08:55.850981Z"
    },
    "papermill": {
     "duration": 0.047698,
     "end_time": "2022-11-29T22:08:55.852694",
     "exception": false,
     "start_time": "2022-11-29T22:08:55.804996",
     "status": "completed"
    },
    "tags": []
   },
   "outputs": [],
   "source": [
    "spredixcan_gene_obj = {\n",
    "    gene_id: Gene(ensembl_id=gene_id) for gene_id in spredixcan_genes_models.index\n",
    "}"
   ]
  },
  {
   "cell_type": "code",
   "execution_count": 94,
   "id": "59efbedc-0b5d-4d0b-bd82-95e74c0ba793",
   "metadata": {
    "execution": {
     "iopub.execute_input": "2022-11-29T22:08:55.886209Z",
     "iopub.status.busy": "2022-11-29T22:08:55.885907Z",
     "iopub.status.idle": "2022-11-29T22:08:55.903696Z",
     "shell.execute_reply": "2022-11-29T22:08:55.903127Z"
    },
    "papermill": {
     "duration": 0.035453,
     "end_time": "2022-11-29T22:08:55.904607",
     "exception": false,
     "start_time": "2022-11-29T22:08:55.869154",
     "status": "completed"
    },
    "tags": []
   },
   "outputs": [
    {
     "data": {
      "text/plain": [
       "6442"
      ]
     },
     "execution_count": 94,
     "metadata": {},
     "output_type": "execute_result"
    }
   ],
   "source": [
    "len(spredixcan_gene_obj)"
   ]
  },
  {
   "cell_type": "markdown",
   "id": "27ac1828-755a-424a-b416-6aef1f0c2e45",
   "metadata": {
    "papermill": {
     "duration": 0.016205,
     "end_time": "2022-11-29T22:08:55.937332",
     "exception": false,
     "start_time": "2022-11-29T22:08:55.921127",
     "status": "completed"
    },
    "tags": []
   },
   "source": [
    "### Add genes' variance captured by principal components"
   ]
  },
  {
   "cell_type": "code",
   "execution_count": 95,
   "id": "893b3418-054c-44d2-9ce0-7fa590aef00e",
   "metadata": {
    "execution": {
     "iopub.execute_input": "2022-11-29T22:08:55.970850Z",
     "iopub.status.busy": "2022-11-29T22:08:55.970527Z",
     "iopub.status.idle": "2022-11-29T22:08:55.986792Z",
     "shell.execute_reply": "2022-11-29T22:08:55.986206Z"
    },
    "papermill": {
     "duration": 0.034171,
     "end_time": "2022-11-29T22:08:55.987806",
     "exception": false,
     "start_time": "2022-11-29T22:08:55.953635",
     "status": "completed"
    },
    "tags": []
   },
   "outputs": [],
   "source": [
    "# def _get_gene_pc_variance(gene_row):\n",
    "#     gene_id = gene_row.name\n",
    "#     gene_tissues = gene_row[\"tissue\"]\n",
    "#     gene_obj = spredixcan_gene_obj[gene_id]\n",
    "\n",
    "#     u, s, vt = gene_obj.get_tissues_correlations_svd(\n",
    "#         tissues=gene_tissues,\n",
    "#         snps_subset=gwas_variants_ids_set,\n",
    "#         reference_panel=REFERENCE_PANEL,\n",
    "#         model_type=EQTL_MODEL,\n",
    "#         # use_covariance_matrix=True,\n",
    "#     )\n",
    "\n",
    "#     return s"
   ]
  },
  {
   "cell_type": "code",
   "execution_count": 96,
   "id": "083afa33-cea0-40d3-af20-94a1307a6607",
   "metadata": {
    "execution": {
     "iopub.execute_input": "2022-11-29T22:08:56.027814Z",
     "iopub.status.busy": "2022-11-29T22:08:56.027446Z",
     "iopub.status.idle": "2022-11-29T22:08:56.043917Z",
     "shell.execute_reply": "2022-11-29T22:08:56.043310Z"
    },
    "papermill": {
     "duration": 0.040181,
     "end_time": "2022-11-29T22:08:56.044946",
     "exception": false,
     "start_time": "2022-11-29T22:08:56.004765",
     "status": "completed"
    },
    "tags": []
   },
   "outputs": [],
   "source": [
    "# _tmp = spredixcan_genes_models.loc[\"ENSG00000188976\"]\n",
    "# _get_gene_pc_variance(_tmp)"
   ]
  },
  {
   "cell_type": "code",
   "execution_count": 97,
   "id": "80f7720d-79c9-4183-bb7e-b1480f31ed87",
   "metadata": {
    "execution": {
     "iopub.execute_input": "2022-11-29T22:08:56.078966Z",
     "iopub.status.busy": "2022-11-29T22:08:56.078420Z",
     "iopub.status.idle": "2022-11-29T22:08:56.094634Z",
     "shell.execute_reply": "2022-11-29T22:08:56.094046Z"
    },
    "papermill": {
     "duration": 0.03419,
     "end_time": "2022-11-29T22:08:56.095631",
     "exception": false,
     "start_time": "2022-11-29T22:08:56.061441",
     "status": "completed"
    },
    "tags": []
   },
   "outputs": [],
   "source": [
    "# spredixcan_genes_tissues_pc_variance = spredixcan_genes_models.apply(\n",
    "#     _get_gene_pc_variance, axis=1\n",
    "# )"
   ]
  },
  {
   "cell_type": "code",
   "execution_count": 98,
   "id": "621302a1-1407-4400-9282-e37798bb18b3",
   "metadata": {
    "execution": {
     "iopub.execute_input": "2022-11-29T22:08:56.129504Z",
     "iopub.status.busy": "2022-11-29T22:08:56.128942Z",
     "iopub.status.idle": "2022-11-29T22:08:56.144748Z",
     "shell.execute_reply": "2022-11-29T22:08:56.144160Z"
    },
    "papermill": {
     "duration": 0.033751,
     "end_time": "2022-11-29T22:08:56.145746",
     "exception": false,
     "start_time": "2022-11-29T22:08:56.111995",
     "status": "completed"
    },
    "tags": []
   },
   "outputs": [],
   "source": [
    "# spredixcan_genes_tissues_pc_variance"
   ]
  },
  {
   "cell_type": "code",
   "execution_count": 99,
   "id": "9ac9e0fb-e0cc-4fea-ad01-2e76d40afb3c",
   "metadata": {
    "execution": {
     "iopub.execute_input": "2022-11-29T22:08:56.179091Z",
     "iopub.status.busy": "2022-11-29T22:08:56.178644Z",
     "iopub.status.idle": "2022-11-29T22:08:56.194084Z",
     "shell.execute_reply": "2022-11-29T22:08:56.193512Z"
    },
    "papermill": {
     "duration": 0.033086,
     "end_time": "2022-11-29T22:08:56.195051",
     "exception": false,
     "start_time": "2022-11-29T22:08:56.161965",
     "status": "completed"
    },
    "tags": []
   },
   "outputs": [],
   "source": [
    "# # testing\n",
    "# assert spredixcan_genes_tissues_pc_variance.loc[\n",
    "#     \"ENSG00000188976\"\n",
    "# ].sum() == pytest.approx(44.01605629086847)\n",
    "# # this is using the covariance:\n",
    "# # assert spredixcan_genes_tissues_pc_variance.loc[\"ENSG00000188976\"].sum() == pytest.approx(1.1492946006449425)"
   ]
  },
  {
   "cell_type": "code",
   "execution_count": 100,
   "id": "700ed8c8-16e3-4f44-80ff-a4355349ac26",
   "metadata": {
    "execution": {
     "iopub.execute_input": "2022-11-29T22:08:56.228437Z",
     "iopub.status.busy": "2022-11-29T22:08:56.227922Z",
     "iopub.status.idle": "2022-11-29T22:08:56.243008Z",
     "shell.execute_reply": "2022-11-29T22:08:56.242434Z"
    },
    "papermill": {
     "duration": 0.032787,
     "end_time": "2022-11-29T22:08:56.244032",
     "exception": false,
     "start_time": "2022-11-29T22:08:56.211245",
     "status": "completed"
    },
    "tags": []
   },
   "outputs": [],
   "source": [
    "# # add to spredixcan_genes_models\n",
    "# spredixcan_genes_models = spredixcan_genes_models.join(\n",
    "#     spredixcan_genes_tissues_pc_variance.rename(\"tissues_pc_variances\")\n",
    "# )"
   ]
  },
  {
   "cell_type": "code",
   "execution_count": 101,
   "id": "597f7dff-2425-490d-84d6-537f8bd0f147",
   "metadata": {
    "execution": {
     "iopub.execute_input": "2022-11-29T22:08:56.277611Z",
     "iopub.status.busy": "2022-11-29T22:08:56.277259Z",
     "iopub.status.idle": "2022-11-29T22:08:56.296083Z",
     "shell.execute_reply": "2022-11-29T22:08:56.295145Z"
    },
    "papermill": {
     "duration": 0.037155,
     "end_time": "2022-11-29T22:08:56.297397",
     "exception": false,
     "start_time": "2022-11-29T22:08:56.260242",
     "status": "completed"
    },
    "tags": []
   },
   "outputs": [],
   "source": [
    "# spredixcan_genes_models.shape"
   ]
  },
  {
   "cell_type": "code",
   "execution_count": 102,
   "id": "41bdb249-f7e3-4b07-a534-2c3e46db72dc",
   "metadata": {
    "execution": {
     "iopub.execute_input": "2022-11-29T22:08:56.331942Z",
     "iopub.status.busy": "2022-11-29T22:08:56.331587Z",
     "iopub.status.idle": "2022-11-29T22:08:56.348048Z",
     "shell.execute_reply": "2022-11-29T22:08:56.347438Z"
    },
    "papermill": {
     "duration": 0.034458,
     "end_time": "2022-11-29T22:08:56.348959",
     "exception": false,
     "start_time": "2022-11-29T22:08:56.314501",
     "status": "completed"
    },
    "tags": []
   },
   "outputs": [],
   "source": [
    "# spredixcan_genes_models.head()"
   ]
  },
  {
   "cell_type": "markdown",
   "id": "ef1c76d7-485b-4e8a-932e-fd01382d5520",
   "metadata": {
    "papermill": {
     "duration": 0.016277,
     "end_time": "2022-11-29T22:08:56.381925",
     "exception": false,
     "start_time": "2022-11-29T22:08:56.365648",
     "status": "completed"
    },
    "tags": []
   },
   "source": [
    "### Add gene variance per tissue"
   ]
  },
  {
   "cell_type": "code",
   "execution_count": 103,
   "id": "530f7941-6ad7-4a29-b9e4-a006949282e0",
   "metadata": {
    "execution": {
     "iopub.execute_input": "2022-11-29T22:08:56.415856Z",
     "iopub.status.busy": "2022-11-29T22:08:56.415301Z",
     "iopub.status.idle": "2022-11-29T22:08:56.431787Z",
     "shell.execute_reply": "2022-11-29T22:08:56.431216Z"
    },
    "papermill": {
     "duration": 0.034568,
     "end_time": "2022-11-29T22:08:56.432743",
     "exception": false,
     "start_time": "2022-11-29T22:08:56.398175",
     "status": "completed"
    },
    "tags": []
   },
   "outputs": [],
   "source": [
    "# def _get_gene_variances(gene_row):\n",
    "#     gene_id = gene_row.name\n",
    "#     gene_tissues = gene_row[\"tissue\"]\n",
    "\n",
    "#     tissue_variances = {}\n",
    "#     gene_obj = spredixcan_gene_obj[gene_id]\n",
    "\n",
    "#     for tissue in gene_tissues:\n",
    "#         tissue_var = gene_obj.get_pred_expression_variance(\n",
    "#             tissue=tissue,\n",
    "#             reference_panel=REFERENCE_PANEL,\n",
    "#             model_type=EQTL_MODEL,\n",
    "#             snps_subset=gwas_variants_ids_set,\n",
    "#         )\n",
    "\n",
    "#         if tissue_var is not None:\n",
    "#             tissue_variances[tissue] = tissue_var\n",
    "\n",
    "#     return tissue_variances"
   ]
  },
  {
   "cell_type": "code",
   "execution_count": 104,
   "id": "01eb9e6a-4505-44e6-9e6e-9788e257f319",
   "metadata": {
    "execution": {
     "iopub.execute_input": "2022-11-29T22:08:56.466169Z",
     "iopub.status.busy": "2022-11-29T22:08:56.465764Z",
     "iopub.status.idle": "2022-11-29T22:08:56.481159Z",
     "shell.execute_reply": "2022-11-29T22:08:56.480558Z"
    },
    "papermill": {
     "duration": 0.033133,
     "end_time": "2022-11-29T22:08:56.482134",
     "exception": false,
     "start_time": "2022-11-29T22:08:56.449001",
     "status": "completed"
    },
    "tags": []
   },
   "outputs": [],
   "source": [
    "# _tmp = spredixcan_genes_models.loc[\"ENSG00000000419\"]\n",
    "# _get_gene_variances(_tmp)"
   ]
  },
  {
   "cell_type": "code",
   "execution_count": 105,
   "id": "447061ec-4847-4911-a1d6-8b86d15e4aac",
   "metadata": {
    "execution": {
     "iopub.execute_input": "2022-11-29T22:08:56.516321Z",
     "iopub.status.busy": "2022-11-29T22:08:56.515968Z",
     "iopub.status.idle": "2022-11-29T22:08:56.532766Z",
     "shell.execute_reply": "2022-11-29T22:08:56.532058Z"
    },
    "papermill": {
     "duration": 0.034781,
     "end_time": "2022-11-29T22:08:56.533565",
     "exception": false,
     "start_time": "2022-11-29T22:08:56.498784",
     "status": "completed"
    },
    "tags": []
   },
   "outputs": [],
   "source": [
    "# spredixcan_genes_tissues_variance = spredixcan_genes_models.apply(\n",
    "#     _get_gene_variances, axis=1\n",
    "# )"
   ]
  },
  {
   "cell_type": "code",
   "execution_count": 106,
   "id": "816cbdd2-d667-4eaa-bbf7-335550854ee8",
   "metadata": {
    "execution": {
     "iopub.execute_input": "2022-11-29T22:08:56.567505Z",
     "iopub.status.busy": "2022-11-29T22:08:56.566977Z",
     "iopub.status.idle": "2022-11-29T22:08:56.583020Z",
     "shell.execute_reply": "2022-11-29T22:08:56.582532Z"
    },
    "papermill": {
     "duration": 0.033867,
     "end_time": "2022-11-29T22:08:56.583901",
     "exception": false,
     "start_time": "2022-11-29T22:08:56.550034",
     "status": "completed"
    },
    "tags": []
   },
   "outputs": [],
   "source": [
    "# spredixcan_genes_tissues_variance"
   ]
  },
  {
   "cell_type": "code",
   "execution_count": 107,
   "id": "68c65eb6-15c0-494d-992f-93bc84268a59",
   "metadata": {
    "execution": {
     "iopub.execute_input": "2022-11-29T22:08:56.617527Z",
     "iopub.status.busy": "2022-11-29T22:08:56.617034Z",
     "iopub.status.idle": "2022-11-29T22:08:56.632088Z",
     "shell.execute_reply": "2022-11-29T22:08:56.631612Z"
    },
    "papermill": {
     "duration": 0.032726,
     "end_time": "2022-11-29T22:08:56.632965",
     "exception": false,
     "start_time": "2022-11-29T22:08:56.600239",
     "status": "completed"
    },
    "tags": []
   },
   "outputs": [],
   "source": [
    "# # testing\n",
    "# _gene_id = \"ENSG00000188976\"\n",
    "# x = spredixcan_genes_tissues_variance.loc[_gene_id]\n",
    "# # expected value obtained by sum of PCA eigenvalues on this gene's predicted expression\n",
    "# assert np.sum(list(x.values())) == pytest.approx(1.2326202607409493)"
   ]
  },
  {
   "cell_type": "code",
   "execution_count": 108,
   "id": "1996453a-fdfc-44e9-bbdf-b83e3b3b1aee",
   "metadata": {
    "execution": {
     "iopub.execute_input": "2022-11-29T22:08:56.666855Z",
     "iopub.status.busy": "2022-11-29T22:08:56.666341Z",
     "iopub.status.idle": "2022-11-29T22:08:56.681138Z",
     "shell.execute_reply": "2022-11-29T22:08:56.680661Z"
    },
    "papermill": {
     "duration": 0.032484,
     "end_time": "2022-11-29T22:08:56.681913",
     "exception": false,
     "start_time": "2022-11-29T22:08:56.649429",
     "status": "completed"
    },
    "tags": []
   },
   "outputs": [],
   "source": [
    "# # testing\n",
    "# spredixcan_genes_tissues_variance.loc[\"ENSG00000000419\"]"
   ]
  },
  {
   "cell_type": "code",
   "execution_count": 109,
   "id": "88e42a97-801b-43a4-a829-4eaac03360b8",
   "metadata": {
    "execution": {
     "iopub.execute_input": "2022-11-29T22:08:56.715265Z",
     "iopub.status.busy": "2022-11-29T22:08:56.715065Z",
     "iopub.status.idle": "2022-11-29T22:08:56.729622Z",
     "shell.execute_reply": "2022-11-29T22:08:56.729141Z"
    },
    "papermill": {
     "duration": 0.032188,
     "end_time": "2022-11-29T22:08:56.730411",
     "exception": false,
     "start_time": "2022-11-29T22:08:56.698223",
     "status": "completed"
    },
    "tags": []
   },
   "outputs": [],
   "source": [
    "# # add to spredixcan_genes_models\n",
    "# spredixcan_genes_models = spredixcan_genes_models.join(\n",
    "#     spredixcan_genes_tissues_variance.rename(\"tissues_variances\")\n",
    "# )"
   ]
  },
  {
   "cell_type": "code",
   "execution_count": 110,
   "id": "cb177ca4-fdcb-432f-a102-9c6bd6bd7fa0",
   "metadata": {
    "execution": {
     "iopub.execute_input": "2022-11-29T22:08:56.764208Z",
     "iopub.status.busy": "2022-11-29T22:08:56.763709Z",
     "iopub.status.idle": "2022-11-29T22:08:56.778335Z",
     "shell.execute_reply": "2022-11-29T22:08:56.777858Z"
    },
    "papermill": {
     "duration": 0.032476,
     "end_time": "2022-11-29T22:08:56.779242",
     "exception": false,
     "start_time": "2022-11-29T22:08:56.746766",
     "status": "completed"
    },
    "tags": []
   },
   "outputs": [],
   "source": [
    "# spredixcan_genes_models.shape"
   ]
  },
  {
   "cell_type": "code",
   "execution_count": 111,
   "id": "ccabe1fa-20ae-4893-bf12-9a3359b213b8",
   "metadata": {
    "execution": {
     "iopub.execute_input": "2022-11-29T22:08:56.813456Z",
     "iopub.status.busy": "2022-11-29T22:08:56.813098Z",
     "iopub.status.idle": "2022-11-29T22:08:56.828549Z",
     "shell.execute_reply": "2022-11-29T22:08:56.828055Z"
    },
    "papermill": {
     "duration": 0.033414,
     "end_time": "2022-11-29T22:08:56.829468",
     "exception": false,
     "start_time": "2022-11-29T22:08:56.796054",
     "status": "completed"
    },
    "tags": []
   },
   "outputs": [],
   "source": [
    "# spredixcan_genes_models.head()"
   ]
  },
  {
   "cell_type": "markdown",
   "id": "ab6ff41a-0949-4eea-abef-7dc4f0b373fc",
   "metadata": {
    "papermill": {
     "duration": 0.016394,
     "end_time": "2022-11-29T22:08:56.862476",
     "exception": false,
     "start_time": "2022-11-29T22:08:56.846082",
     "status": "completed"
    },
    "tags": []
   },
   "source": [
    "### Count number of SNPs predictors used across tissue models"
   ]
  },
  {
   "cell_type": "code",
   "execution_count": 112,
   "id": "c8f6cc6f-5812-45c9-b775-6f2193f8a360",
   "metadata": {
    "execution": {
     "iopub.execute_input": "2022-11-29T22:08:56.896444Z",
     "iopub.status.busy": "2022-11-29T22:08:56.895901Z",
     "iopub.status.idle": "2022-11-29T22:08:56.949506Z",
     "shell.execute_reply": "2022-11-29T22:08:56.948950Z"
    },
    "papermill": {
     "duration": 0.071497,
     "end_time": "2022-11-29T22:08:56.950340",
     "exception": false,
     "start_time": "2022-11-29T22:08:56.878843",
     "status": "completed"
    },
    "tags": []
   },
   "outputs": [],
   "source": [
    "spredixcan_genes_sum_of_n_snps_used = (\n",
    "    spredixcan_dfs.groupby(\"gene_id\")[\"n_snps_used\"].sum().rename(\"n_snps_used_sum\")\n",
    ")"
   ]
  },
  {
   "cell_type": "code",
   "execution_count": 113,
   "id": "7255df64-7b9f-4504-a4fa-1f2a9aa56ec0",
   "metadata": {
    "execution": {
     "iopub.execute_input": "2022-11-29T22:08:56.984217Z",
     "iopub.status.busy": "2022-11-29T22:08:56.983792Z",
     "iopub.status.idle": "2022-11-29T22:08:57.003628Z",
     "shell.execute_reply": "2022-11-29T22:08:57.003114Z"
    },
    "papermill": {
     "duration": 0.037685,
     "end_time": "2022-11-29T22:08:57.004485",
     "exception": false,
     "start_time": "2022-11-29T22:08:56.966800",
     "status": "completed"
    },
    "tags": []
   },
   "outputs": [
    {
     "data": {
      "text/plain": [
       "gene_id\n",
       "ENSG00000000419     2\n",
       "ENSG00000000938    40\n",
       "ENSG00000000971    44\n",
       "ENSG00000001084    46\n",
       "ENSG00000001167    47\n",
       "                   ..\n",
       "ENSG00000278540    44\n",
       "ENSG00000278828     5\n",
       "ENSG00000278845    89\n",
       "ENSG00000281005    81\n",
       "ENSG00000282608    40\n",
       "Name: n_snps_used_sum, Length: 6442, dtype: int64"
      ]
     },
     "execution_count": 113,
     "metadata": {},
     "output_type": "execute_result"
    }
   ],
   "source": [
    "spredixcan_genes_sum_of_n_snps_used"
   ]
  },
  {
   "cell_type": "code",
   "execution_count": 114,
   "id": "44bc1222-b334-4ce2-8997-494d0e584cf9",
   "metadata": {
    "execution": {
     "iopub.execute_input": "2022-11-29T22:08:57.039271Z",
     "iopub.status.busy": "2022-11-29T22:08:57.038940Z",
     "iopub.status.idle": "2022-11-29T22:08:57.059085Z",
     "shell.execute_reply": "2022-11-29T22:08:57.058562Z"
    },
    "papermill": {
     "duration": 0.038245,
     "end_time": "2022-11-29T22:08:57.059976",
     "exception": false,
     "start_time": "2022-11-29T22:08:57.021731",
     "status": "completed"
    },
    "tags": []
   },
   "outputs": [],
   "source": [
    "# add sum of snps used to spredixcan_genes_models\n",
    "spredixcan_genes_models = spredixcan_genes_models.join(\n",
    "    spredixcan_genes_sum_of_n_snps_used\n",
    ")"
   ]
  },
  {
   "cell_type": "code",
   "execution_count": 115,
   "id": "5e5e6d7f-b970-4f21-9322-b76bc22afd71",
   "metadata": {
    "execution": {
     "iopub.execute_input": "2022-11-29T22:08:57.094365Z",
     "iopub.status.busy": "2022-11-29T22:08:57.093837Z",
     "iopub.status.idle": "2022-11-29T22:08:57.110628Z",
     "shell.execute_reply": "2022-11-29T22:08:57.110155Z"
    },
    "papermill": {
     "duration": 0.034882,
     "end_time": "2022-11-29T22:08:57.111420",
     "exception": false,
     "start_time": "2022-11-29T22:08:57.076538",
     "status": "completed"
    },
    "tags": []
   },
   "outputs": [
    {
     "data": {
      "text/plain": [
       "(6442, 4)"
      ]
     },
     "execution_count": 115,
     "metadata": {},
     "output_type": "execute_result"
    }
   ],
   "source": [
    "spredixcan_genes_models.shape"
   ]
  },
  {
   "cell_type": "code",
   "execution_count": 116,
   "id": "22c096c2-213a-4001-8454-1633997d404f",
   "metadata": {
    "execution": {
     "iopub.execute_input": "2022-11-29T22:08:57.145471Z",
     "iopub.status.busy": "2022-11-29T22:08:57.144949Z",
     "iopub.status.idle": "2022-11-29T22:08:57.166857Z",
     "shell.execute_reply": "2022-11-29T22:08:57.166375Z"
    },
    "papermill": {
     "duration": 0.039638,
     "end_time": "2022-11-29T22:08:57.167637",
     "exception": false,
     "start_time": "2022-11-29T22:08:57.127999",
     "status": "completed"
    },
    "tags": []
   },
   "outputs": [
    {
     "data": {
      "text/html": [
       "<div>\n",
       "<style scoped>\n",
       "    .dataframe tbody tr th:only-of-type {\n",
       "        vertical-align: middle;\n",
       "    }\n",
       "\n",
       "    .dataframe tbody tr th {\n",
       "        vertical-align: top;\n",
       "    }\n",
       "\n",
       "    .dataframe thead th {\n",
       "        text-align: right;\n",
       "    }\n",
       "</style>\n",
       "<table border=\"1\" class=\"dataframe\">\n",
       "  <thead>\n",
       "    <tr style=\"text-align: right;\">\n",
       "      <th></th>\n",
       "      <th>gene_name</th>\n",
       "      <th>tissue</th>\n",
       "      <th>n_tissues</th>\n",
       "      <th>n_snps_used_sum</th>\n",
       "    </tr>\n",
       "    <tr>\n",
       "      <th>gene_id</th>\n",
       "      <th></th>\n",
       "      <th></th>\n",
       "      <th></th>\n",
       "      <th></th>\n",
       "    </tr>\n",
       "  </thead>\n",
       "  <tbody>\n",
       "    <tr>\n",
       "      <th>ENSG00000000419</th>\n",
       "      <td>DPM1</td>\n",
       "      <td>(Brain_Substantia_nigra, Brain_Hypothalamus)</td>\n",
       "      <td>2</td>\n",
       "      <td>2</td>\n",
       "    </tr>\n",
       "    <tr>\n",
       "      <th>ENSG00000000938</th>\n",
       "      <td>FGR</td>\n",
       "      <td>(Brain_Cerebellum, Brain_Anterior_cingulate_co...</td>\n",
       "      <td>36</td>\n",
       "      <td>40</td>\n",
       "    </tr>\n",
       "    <tr>\n",
       "      <th>ENSG00000000971</th>\n",
       "      <td>CFH</td>\n",
       "      <td>(Brain_Cerebellum, Brain_Anterior_cingulate_co...</td>\n",
       "      <td>34</td>\n",
       "      <td>44</td>\n",
       "    </tr>\n",
       "    <tr>\n",
       "      <th>ENSG00000001084</th>\n",
       "      <td>GCLC</td>\n",
       "      <td>(Brain_Cerebellum, Brain_Anterior_cingulate_co...</td>\n",
       "      <td>32</td>\n",
       "      <td>46</td>\n",
       "    </tr>\n",
       "    <tr>\n",
       "      <th>ENSG00000001167</th>\n",
       "      <td>NFYA</td>\n",
       "      <td>(Brain_Cerebellum, Vagina, Brain_Anterior_cing...</td>\n",
       "      <td>40</td>\n",
       "      <td>47</td>\n",
       "    </tr>\n",
       "  </tbody>\n",
       "</table>\n",
       "</div>"
      ],
      "text/plain": [
       "                gene_name                                             tissue  \\\n",
       "gene_id                                                                        \n",
       "ENSG00000000419      DPM1       (Brain_Substantia_nigra, Brain_Hypothalamus)   \n",
       "ENSG00000000938       FGR  (Brain_Cerebellum, Brain_Anterior_cingulate_co...   \n",
       "ENSG00000000971       CFH  (Brain_Cerebellum, Brain_Anterior_cingulate_co...   \n",
       "ENSG00000001084      GCLC  (Brain_Cerebellum, Brain_Anterior_cingulate_co...   \n",
       "ENSG00000001167      NFYA  (Brain_Cerebellum, Vagina, Brain_Anterior_cing...   \n",
       "\n",
       "                 n_tissues  n_snps_used_sum  \n",
       "gene_id                                      \n",
       "ENSG00000000419          2                2  \n",
       "ENSG00000000938         36               40  \n",
       "ENSG00000000971         34               44  \n",
       "ENSG00000001084         32               46  \n",
       "ENSG00000001167         40               47  "
      ]
     },
     "execution_count": 116,
     "metadata": {},
     "output_type": "execute_result"
    }
   ],
   "source": [
    "spredixcan_genes_models.head()"
   ]
  },
  {
   "cell_type": "markdown",
   "id": "f4692315-d7be-465e-b756-f6d76fec949e",
   "metadata": {
    "papermill": {
     "duration": 0.016659,
     "end_time": "2022-11-29T22:08:57.201042",
     "exception": false,
     "start_time": "2022-11-29T22:08:57.184383",
     "status": "completed"
    },
    "tags": []
   },
   "source": [
    "### Count number of SNPs predictors in models across tissue models"
   ]
  },
  {
   "cell_type": "code",
   "execution_count": 117,
   "id": "08eed385-36eb-4e42-b28e-51333f9cfcd3",
   "metadata": {
    "execution": {
     "iopub.execute_input": "2022-11-29T22:08:57.235325Z",
     "iopub.status.busy": "2022-11-29T22:08:57.234933Z",
     "iopub.status.idle": "2022-11-29T22:08:57.289977Z",
     "shell.execute_reply": "2022-11-29T22:08:57.289426Z"
    },
    "papermill": {
     "duration": 0.073287,
     "end_time": "2022-11-29T22:08:57.290880",
     "exception": false,
     "start_time": "2022-11-29T22:08:57.217593",
     "status": "completed"
    },
    "tags": []
   },
   "outputs": [],
   "source": [
    "spredixcan_genes_sum_of_n_snps_in_model = (\n",
    "    spredixcan_dfs.groupby(\"gene_id\")[\"n_snps_in_model\"]\n",
    "    .sum()\n",
    "    .rename(\"n_snps_in_model_sum\")\n",
    ")"
   ]
  },
  {
   "cell_type": "code",
   "execution_count": 118,
   "id": "10431f5c-1f56-4664-a09f-53c608bec631",
   "metadata": {
    "execution": {
     "iopub.execute_input": "2022-11-29T22:08:57.325147Z",
     "iopub.status.busy": "2022-11-29T22:08:57.324943Z",
     "iopub.status.idle": "2022-11-29T22:08:57.343522Z",
     "shell.execute_reply": "2022-11-29T22:08:57.343050Z"
    },
    "papermill": {
     "duration": 0.036684,
     "end_time": "2022-11-29T22:08:57.344312",
     "exception": false,
     "start_time": "2022-11-29T22:08:57.307628",
     "status": "completed"
    },
    "tags": []
   },
   "outputs": [
    {
     "data": {
      "text/plain": [
       "gene_id\n",
       "ENSG00000000419     2\n",
       "ENSG00000000938    40\n",
       "ENSG00000000971    44\n",
       "ENSG00000001084    46\n",
       "ENSG00000001167    48\n",
       "                   ..\n",
       "ENSG00000278540    44\n",
       "ENSG00000278828     5\n",
       "ENSG00000278845    91\n",
       "ENSG00000281005    81\n",
       "ENSG00000282608    40\n",
       "Name: n_snps_in_model_sum, Length: 6442, dtype: int64"
      ]
     },
     "execution_count": 118,
     "metadata": {},
     "output_type": "execute_result"
    }
   ],
   "source": [
    "spredixcan_genes_sum_of_n_snps_in_model"
   ]
  },
  {
   "cell_type": "code",
   "execution_count": 119,
   "id": "d13e1d65-0dcb-4a94-aba8-bcdcd09d17c3",
   "metadata": {
    "execution": {
     "iopub.execute_input": "2022-11-29T22:08:57.378866Z",
     "iopub.status.busy": "2022-11-29T22:08:57.378657Z",
     "iopub.status.idle": "2022-11-29T22:08:57.397298Z",
     "shell.execute_reply": "2022-11-29T22:08:57.396778Z"
    },
    "papermill": {
     "duration": 0.036916,
     "end_time": "2022-11-29T22:08:57.398069",
     "exception": false,
     "start_time": "2022-11-29T22:08:57.361153",
     "status": "completed"
    },
    "tags": []
   },
   "outputs": [],
   "source": [
    "# add sum of snps in model to spredixcan_genes_models\n",
    "spredixcan_genes_models = spredixcan_genes_models.join(\n",
    "    spredixcan_genes_sum_of_n_snps_in_model\n",
    ")"
   ]
  },
  {
   "cell_type": "code",
   "execution_count": 120,
   "id": "0d3973d8-5da2-4c9d-b406-2525f615035c",
   "metadata": {
    "execution": {
     "iopub.execute_input": "2022-11-29T22:08:57.432602Z",
     "iopub.status.busy": "2022-11-29T22:08:57.432288Z",
     "iopub.status.idle": "2022-11-29T22:08:57.449199Z",
     "shell.execute_reply": "2022-11-29T22:08:57.448715Z"
    },
    "papermill": {
     "duration": 0.035156,
     "end_time": "2022-11-29T22:08:57.450031",
     "exception": false,
     "start_time": "2022-11-29T22:08:57.414875",
     "status": "completed"
    },
    "tags": []
   },
   "outputs": [
    {
     "data": {
      "text/plain": [
       "(6442, 5)"
      ]
     },
     "execution_count": 120,
     "metadata": {},
     "output_type": "execute_result"
    }
   ],
   "source": [
    "spredixcan_genes_models.shape"
   ]
  },
  {
   "cell_type": "code",
   "execution_count": 121,
   "id": "76c27f05-c5c6-4ed9-9363-fcba871a3572",
   "metadata": {
    "execution": {
     "iopub.execute_input": "2022-11-29T22:08:57.484895Z",
     "iopub.status.busy": "2022-11-29T22:08:57.484368Z",
     "iopub.status.idle": "2022-11-29T22:08:57.506035Z",
     "shell.execute_reply": "2022-11-29T22:08:57.505547Z"
    },
    "papermill": {
     "duration": 0.039862,
     "end_time": "2022-11-29T22:08:57.506834",
     "exception": false,
     "start_time": "2022-11-29T22:08:57.466972",
     "status": "completed"
    },
    "tags": []
   },
   "outputs": [
    {
     "data": {
      "text/html": [
       "<div>\n",
       "<style scoped>\n",
       "    .dataframe tbody tr th:only-of-type {\n",
       "        vertical-align: middle;\n",
       "    }\n",
       "\n",
       "    .dataframe tbody tr th {\n",
       "        vertical-align: top;\n",
       "    }\n",
       "\n",
       "    .dataframe thead th {\n",
       "        text-align: right;\n",
       "    }\n",
       "</style>\n",
       "<table border=\"1\" class=\"dataframe\">\n",
       "  <thead>\n",
       "    <tr style=\"text-align: right;\">\n",
       "      <th></th>\n",
       "      <th>gene_name</th>\n",
       "      <th>tissue</th>\n",
       "      <th>n_tissues</th>\n",
       "      <th>n_snps_used_sum</th>\n",
       "      <th>n_snps_in_model_sum</th>\n",
       "    </tr>\n",
       "    <tr>\n",
       "      <th>gene_id</th>\n",
       "      <th></th>\n",
       "      <th></th>\n",
       "      <th></th>\n",
       "      <th></th>\n",
       "      <th></th>\n",
       "    </tr>\n",
       "  </thead>\n",
       "  <tbody>\n",
       "    <tr>\n",
       "      <th>ENSG00000000419</th>\n",
       "      <td>DPM1</td>\n",
       "      <td>(Brain_Substantia_nigra, Brain_Hypothalamus)</td>\n",
       "      <td>2</td>\n",
       "      <td>2</td>\n",
       "      <td>2</td>\n",
       "    </tr>\n",
       "    <tr>\n",
       "      <th>ENSG00000000938</th>\n",
       "      <td>FGR</td>\n",
       "      <td>(Brain_Cerebellum, Brain_Anterior_cingulate_co...</td>\n",
       "      <td>36</td>\n",
       "      <td>40</td>\n",
       "      <td>40</td>\n",
       "    </tr>\n",
       "    <tr>\n",
       "      <th>ENSG00000000971</th>\n",
       "      <td>CFH</td>\n",
       "      <td>(Brain_Cerebellum, Brain_Anterior_cingulate_co...</td>\n",
       "      <td>34</td>\n",
       "      <td>44</td>\n",
       "      <td>44</td>\n",
       "    </tr>\n",
       "    <tr>\n",
       "      <th>ENSG00000001084</th>\n",
       "      <td>GCLC</td>\n",
       "      <td>(Brain_Cerebellum, Brain_Anterior_cingulate_co...</td>\n",
       "      <td>32</td>\n",
       "      <td>46</td>\n",
       "      <td>46</td>\n",
       "    </tr>\n",
       "    <tr>\n",
       "      <th>ENSG00000001167</th>\n",
       "      <td>NFYA</td>\n",
       "      <td>(Brain_Cerebellum, Vagina, Brain_Anterior_cing...</td>\n",
       "      <td>40</td>\n",
       "      <td>47</td>\n",
       "      <td>48</td>\n",
       "    </tr>\n",
       "  </tbody>\n",
       "</table>\n",
       "</div>"
      ],
      "text/plain": [
       "                gene_name                                             tissue  \\\n",
       "gene_id                                                                        \n",
       "ENSG00000000419      DPM1       (Brain_Substantia_nigra, Brain_Hypothalamus)   \n",
       "ENSG00000000938       FGR  (Brain_Cerebellum, Brain_Anterior_cingulate_co...   \n",
       "ENSG00000000971       CFH  (Brain_Cerebellum, Brain_Anterior_cingulate_co...   \n",
       "ENSG00000001084      GCLC  (Brain_Cerebellum, Brain_Anterior_cingulate_co...   \n",
       "ENSG00000001167      NFYA  (Brain_Cerebellum, Vagina, Brain_Anterior_cing...   \n",
       "\n",
       "                 n_tissues  n_snps_used_sum  n_snps_in_model_sum  \n",
       "gene_id                                                           \n",
       "ENSG00000000419          2                2                    2  \n",
       "ENSG00000000938         36               40                   40  \n",
       "ENSG00000000971         34               44                   44  \n",
       "ENSG00000001084         32               46                   46  \n",
       "ENSG00000001167         40               47                   48  "
      ]
     },
     "execution_count": 121,
     "metadata": {},
     "output_type": "execute_result"
    }
   ],
   "source": [
    "spredixcan_genes_models.head()"
   ]
  },
  {
   "cell_type": "markdown",
   "id": "e9f61a50-a5b5-4c85-9dec-3ceaaf65c61d",
   "metadata": {
    "papermill": {
     "duration": 0.016891,
     "end_time": "2022-11-29T22:08:57.540806",
     "exception": false,
     "start_time": "2022-11-29T22:08:57.523915",
     "status": "completed"
    },
    "tags": []
   },
   "source": [
    "### Summarize prediction models for each gene"
   ]
  },
  {
   "cell_type": "code",
   "execution_count": 122,
   "id": "4f44928f-b401-4abb-ac00-3b15b2746504",
   "metadata": {
    "execution": {
     "iopub.execute_input": "2022-11-29T22:08:57.575529Z",
     "iopub.status.busy": "2022-11-29T22:08:57.575327Z",
     "iopub.status.idle": "2022-11-29T22:08:57.590961Z",
     "shell.execute_reply": "2022-11-29T22:08:57.590484Z"
    },
    "papermill": {
     "duration": 0.034059,
     "end_time": "2022-11-29T22:08:57.591741",
     "exception": false,
     "start_time": "2022-11-29T22:08:57.557682",
     "status": "completed"
    },
    "tags": []
   },
   "outputs": [],
   "source": [
    "# def _summarize_gene_models(gene_id):\n",
    "#     \"\"\"\n",
    "#     For a given gene ID, it returns a dataframe with predictor SNPs in rows and tissues in columns, where\n",
    "#     values are the weights of SNPs in those tissues.\n",
    "#     It can contain NaNs.\n",
    "#     \"\"\"\n",
    "#     gene_obj = spredixcan_gene_obj[gene_id]\n",
    "#     gene_tissues = spredixcan_genes_models.loc[gene_id, \"tissue\"]\n",
    "\n",
    "#     gene_models = {}\n",
    "#     gene_unique_snps = set()\n",
    "#     for t in gene_tissues:\n",
    "#         gene_model = gene_obj.get_prediction_weights(tissue=t, model_type=EQTL_MODEL)\n",
    "#         gene_models[t] = gene_model\n",
    "\n",
    "#         gene_unique_snps.update(set(gene_model.index))\n",
    "\n",
    "#     df = pd.DataFrame(\n",
    "#         data=np.nan, index=list(gene_unique_snps), columns=list(gene_tissues)\n",
    "#     )\n",
    "\n",
    "#     for t in df.columns:\n",
    "#         for snp in df.index:\n",
    "#             gene_model = gene_models[t]\n",
    "\n",
    "#             if snp in gene_model.index:\n",
    "#                 df.loc[snp, t] = gene_model.loc[snp]\n",
    "\n",
    "#     return df"
   ]
  },
  {
   "cell_type": "code",
   "execution_count": 123,
   "id": "71bb0b5a-fe44-4076-91df-d8077ff85c71",
   "metadata": {
    "execution": {
     "iopub.execute_input": "2022-11-29T22:08:57.627141Z",
     "iopub.status.busy": "2022-11-29T22:08:57.626636Z",
     "iopub.status.idle": "2022-11-29T22:08:57.641834Z",
     "shell.execute_reply": "2022-11-29T22:08:57.641359Z"
    },
    "papermill": {
     "duration": 0.033658,
     "end_time": "2022-11-29T22:08:57.642613",
     "exception": false,
     "start_time": "2022-11-29T22:08:57.608955",
     "status": "completed"
    },
    "tags": []
   },
   "outputs": [],
   "source": [
    "# # testing\n",
    "# spredixcan_gene_obj[\"ENSG00000000419\"].get_prediction_weights(\n",
    "#     tissue=\"Brain_Hypothalamus\", model_type=EQTL_MODEL\n",
    "# )"
   ]
  },
  {
   "cell_type": "code",
   "execution_count": 124,
   "id": "ad18b2d9-f585-445b-a809-bd694d417a8a",
   "metadata": {
    "execution": {
     "iopub.execute_input": "2022-11-29T22:08:57.677918Z",
     "iopub.status.busy": "2022-11-29T22:08:57.677457Z",
     "iopub.status.idle": "2022-11-29T22:08:57.692139Z",
     "shell.execute_reply": "2022-11-29T22:08:57.691662Z"
    },
    "papermill": {
     "duration": 0.033278,
     "end_time": "2022-11-29T22:08:57.692905",
     "exception": false,
     "start_time": "2022-11-29T22:08:57.659627",
     "status": "completed"
    },
    "tags": []
   },
   "outputs": [],
   "source": [
    "# spredixcan_gene_obj[\"ENSG00000000419\"].get_prediction_weights(\n",
    "#     tissue=\"Brain_Substantia_nigra\", model_type=EQTL_MODEL\n",
    "# )"
   ]
  },
  {
   "cell_type": "code",
   "execution_count": 125,
   "id": "82ef5dec-283c-44ee-a118-b28d87a5b298",
   "metadata": {
    "execution": {
     "iopub.execute_input": "2022-11-29T22:08:57.728041Z",
     "iopub.status.busy": "2022-11-29T22:08:57.727584Z",
     "iopub.status.idle": "2022-11-29T22:08:57.742524Z",
     "shell.execute_reply": "2022-11-29T22:08:57.742046Z"
    },
    "papermill": {
     "duration": 0.033382,
     "end_time": "2022-11-29T22:08:57.743307",
     "exception": false,
     "start_time": "2022-11-29T22:08:57.709925",
     "status": "completed"
    },
    "tags": []
   },
   "outputs": [],
   "source": [
    "# # testing\n",
    "# _gene_id = \"ENSG00000000419\"\n",
    "\n",
    "# _gene_model = _summarize_gene_models(_gene_id)\n",
    "# assert (\n",
    "#     _gene_model.loc[\"chr20_50862947_C_T_b38\", \"Brain_Hypothalamus\"].round(5) == 0.43138\n",
    "# )\n",
    "# assert pd.isnull(_gene_model.loc[\"chr20_50957480_C_T_b38\", \"Brain_Hypothalamus\"])\n",
    "\n",
    "# assert pd.isnull(_gene_model.loc[\"chr20_50862947_C_T_b38\", \"Brain_Substantia_nigra\"])\n",
    "# assert (\n",
    "#     _gene_model.loc[\"chr20_50957480_C_T_b38\", \"Brain_Substantia_nigra\"].round(5)\n",
    "#     == -0.1468\n",
    "# )"
   ]
  },
  {
   "cell_type": "code",
   "execution_count": 126,
   "id": "134a7533-69e8-4858-8763-1fd45cbdec77",
   "metadata": {
    "execution": {
     "iopub.execute_input": "2022-11-29T22:08:57.778420Z",
     "iopub.status.busy": "2022-11-29T22:08:57.778030Z",
     "iopub.status.idle": "2022-11-29T22:08:57.792951Z",
     "shell.execute_reply": "2022-11-29T22:08:57.792471Z"
    },
    "papermill": {
     "duration": 0.033326,
     "end_time": "2022-11-29T22:08:57.793740",
     "exception": false,
     "start_time": "2022-11-29T22:08:57.760414",
     "status": "completed"
    },
    "tags": []
   },
   "outputs": [],
   "source": [
    "# gene_models = {}\n",
    "\n",
    "# for gene_id in spredixcan_genes_models.index:\n",
    "#     gene_models[gene_id] = _summarize_gene_models(gene_id)"
   ]
  },
  {
   "cell_type": "code",
   "execution_count": 127,
   "id": "97117dc0-0476-4e7b-98cb-6738dbb28c8a",
   "metadata": {
    "execution": {
     "iopub.execute_input": "2022-11-29T22:08:57.828950Z",
     "iopub.status.busy": "2022-11-29T22:08:57.828491Z",
     "iopub.status.idle": "2022-11-29T22:08:57.843856Z",
     "shell.execute_reply": "2022-11-29T22:08:57.843378Z"
    },
    "papermill": {
     "duration": 0.033909,
     "end_time": "2022-11-29T22:08:57.844741",
     "exception": false,
     "start_time": "2022-11-29T22:08:57.810832",
     "status": "completed"
    },
    "tags": []
   },
   "outputs": [],
   "source": [
    "# # testing\n",
    "# _gene_id = \"ENSG00000000419\"\n",
    "\n",
    "# _gene_model = gene_models[_gene_id]\n",
    "# assert (\n",
    "#     _gene_model.loc[\"chr20_50862947_C_T_b38\", \"Brain_Hypothalamus\"].round(5) == 0.43138\n",
    "# )\n",
    "# assert pd.isnull(_gene_model.loc[\"chr20_50957480_C_T_b38\", \"Brain_Hypothalamus\"])\n",
    "\n",
    "# assert pd.isnull(_gene_model.loc[\"chr20_50862947_C_T_b38\", \"Brain_Substantia_nigra\"])\n",
    "# assert (\n",
    "#     _gene_model.loc[\"chr20_50957480_C_T_b38\", \"Brain_Substantia_nigra\"].round(5)\n",
    "#     == -0.1468\n",
    "# )"
   ]
  },
  {
   "cell_type": "code",
   "execution_count": 128,
   "id": "806cd4a5-51b1-4ed3-8aa3-4970c128ccff",
   "metadata": {
    "execution": {
     "iopub.execute_input": "2022-11-29T22:08:57.880045Z",
     "iopub.status.busy": "2022-11-29T22:08:57.879584Z",
     "iopub.status.idle": "2022-11-29T22:08:57.894894Z",
     "shell.execute_reply": "2022-11-29T22:08:57.894418Z"
    },
    "papermill": {
     "duration": 0.033766,
     "end_time": "2022-11-29T22:08:57.895713",
     "exception": false,
     "start_time": "2022-11-29T22:08:57.861947",
     "status": "completed"
    },
    "tags": []
   },
   "outputs": [],
   "source": [
    "# # save\n",
    "# import gzip\n",
    "\n",
    "# with gzip.GzipFile(OUTPUT_DIR_BASE / \"gene_tissues_models.pkl.gz\", \"w\") as f:\n",
    "#     pickle.dump(gene_models, f)"
   ]
  },
  {
   "cell_type": "code",
   "execution_count": 129,
   "id": "a12a9597-dd0a-40a0-9a42-f288af22e0d2",
   "metadata": {
    "execution": {
     "iopub.execute_input": "2022-11-29T22:08:57.931028Z",
     "iopub.status.busy": "2022-11-29T22:08:57.930583Z",
     "iopub.status.idle": "2022-11-29T22:08:57.946124Z",
     "shell.execute_reply": "2022-11-29T22:08:57.945582Z"
    },
    "papermill": {
     "duration": 0.034255,
     "end_time": "2022-11-29T22:08:57.947220",
     "exception": false,
     "start_time": "2022-11-29T22:08:57.912965",
     "status": "completed"
    },
    "tags": []
   },
   "outputs": [],
   "source": [
    "# # testing saved file\n",
    "# with gzip.GzipFile(OUTPUT_DIR_BASE / \"gene_tissues_models.pkl.gz\", \"r\") as f:\n",
    "#     _tmp = pickle.load(f)"
   ]
  },
  {
   "cell_type": "code",
   "execution_count": 130,
   "id": "a90a8f83-75db-4f73-8f1a-7e0563ba3685",
   "metadata": {
    "execution": {
     "iopub.execute_input": "2022-11-29T22:08:57.984078Z",
     "iopub.status.busy": "2022-11-29T22:08:57.983786Z",
     "iopub.status.idle": "2022-11-29T22:08:57.998583Z",
     "shell.execute_reply": "2022-11-29T22:08:57.998071Z"
    },
    "papermill": {
     "duration": 0.034481,
     "end_time": "2022-11-29T22:08:57.999724",
     "exception": false,
     "start_time": "2022-11-29T22:08:57.965243",
     "status": "completed"
    },
    "tags": []
   },
   "outputs": [],
   "source": [
    "# assert len(gene_models) == len(_tmp)\n",
    "# assert gene_models[\"ENSG00000000419\"].equals(_tmp[\"ENSG00000000419\"])"
   ]
  },
  {
   "cell_type": "markdown",
   "id": "a147f3a8-4efd-457b-9581-00cbfacd4b3d",
   "metadata": {
    "papermill": {
     "duration": 0.018046,
     "end_time": "2022-11-29T22:08:58.035718",
     "exception": false,
     "start_time": "2022-11-29T22:08:58.017672",
     "status": "completed"
    },
    "tags": []
   },
   "source": [
    "### Count number of _unique_ SNPs predictors used and available across tissue models"
   ]
  },
  {
   "cell_type": "code",
   "execution_count": 131,
   "id": "38d5bc57-3c25-4abe-93bd-09bbe200f2ef",
   "metadata": {
    "execution": {
     "iopub.execute_input": "2022-11-29T22:08:58.094966Z",
     "iopub.status.busy": "2022-11-29T22:08:58.094391Z",
     "iopub.status.idle": "2022-11-29T22:08:58.111647Z",
     "shell.execute_reply": "2022-11-29T22:08:58.111155Z"
    },
    "papermill": {
     "duration": 0.036318,
     "end_time": "2022-11-29T22:08:58.112674",
     "exception": false,
     "start_time": "2022-11-29T22:08:58.076356",
     "status": "completed"
    },
    "tags": []
   },
   "outputs": [],
   "source": [
    "# def _count_unique_snps(gene_id):\n",
    "#     \"\"\"\n",
    "#     For a gene_id, it counts unique SNPs in all models and their intersection with GWAS SNPs (therefore, used by S-PrediXcan).\n",
    "#     \"\"\"\n",
    "#     gene_tissues = spredixcan_genes_models.loc[gene_id, \"tissue\"]\n",
    "\n",
    "#     gene_unique_snps = set()\n",
    "#     for t in gene_tissues:\n",
    "#         t_snps = set(gene_models[gene_id].index)\n",
    "#         gene_unique_snps.update(t_snps)\n",
    "\n",
    "#     gene_unique_snps_in_gwas = gwas_variants_ids_set.intersection(gene_unique_snps)\n",
    "\n",
    "#     return pd.Series(\n",
    "#         {\n",
    "#             \"unique_n_snps_in_model\": len(gene_unique_snps),\n",
    "#             \"unique_n_snps_used\": len(gene_unique_snps_in_gwas),\n",
    "#         }\n",
    "#     )"
   ]
  },
  {
   "cell_type": "code",
   "execution_count": 132,
   "id": "059c6e02-67e2-4376-a3e5-b815070779c9",
   "metadata": {
    "execution": {
     "iopub.execute_input": "2022-11-29T22:08:58.148719Z",
     "iopub.status.busy": "2022-11-29T22:08:58.148229Z",
     "iopub.status.idle": "2022-11-29T22:08:58.164468Z",
     "shell.execute_reply": "2022-11-29T22:08:58.163981Z"
    },
    "papermill": {
     "duration": 0.034997,
     "end_time": "2022-11-29T22:08:58.165333",
     "exception": false,
     "start_time": "2022-11-29T22:08:58.130336",
     "status": "completed"
    },
    "tags": []
   },
   "outputs": [],
   "source": [
    "# # testing\n",
    "# spredixcan_genes_models[spredixcan_genes_models[\"n_snps_used_sum\"] == 2].head()"
   ]
  },
  {
   "cell_type": "code",
   "execution_count": 133,
   "id": "4f8a444c-c3e2-4688-a50b-08481d41f614",
   "metadata": {
    "execution": {
     "iopub.execute_input": "2022-11-29T22:08:58.200925Z",
     "iopub.status.busy": "2022-11-29T22:08:58.200322Z",
     "iopub.status.idle": "2022-11-29T22:08:58.216940Z",
     "shell.execute_reply": "2022-11-29T22:08:58.216454Z"
    },
    "papermill": {
     "duration": 0.035222,
     "end_time": "2022-11-29T22:08:58.217738",
     "exception": false,
     "start_time": "2022-11-29T22:08:58.182516",
     "status": "completed"
    },
    "tags": []
   },
   "outputs": [],
   "source": [
    "# # case with two snps, not repeated across tissues\n",
    "# _gene_id = \"ENSG00000000419\"\n",
    "# display(\n",
    "#     spredixcan_gene_obj[_gene_id].get_prediction_weights(\n",
    "#         tissue=\"Brain_Hypothalamus\", model_type=EQTL_MODEL\n",
    "#     )\n",
    "# )\n",
    "# display(\n",
    "#     spredixcan_gene_obj[_gene_id].get_prediction_weights(\n",
    "#         tissue=\"Brain_Substantia_nigra\", model_type=EQTL_MODEL\n",
    "#     )\n",
    "# )"
   ]
  },
  {
   "cell_type": "code",
   "execution_count": 134,
   "id": "f835cf57-eea6-4468-aaf2-d85c8164d177",
   "metadata": {
    "execution": {
     "iopub.execute_input": "2022-11-29T22:08:58.253535Z",
     "iopub.status.busy": "2022-11-29T22:08:58.253234Z",
     "iopub.status.idle": "2022-11-29T22:08:58.269410Z",
     "shell.execute_reply": "2022-11-29T22:08:58.268923Z"
    },
    "papermill": {
     "duration": 0.035147,
     "end_time": "2022-11-29T22:08:58.270247",
     "exception": false,
     "start_time": "2022-11-29T22:08:58.235100",
     "status": "completed"
    },
    "tags": []
   },
   "outputs": [],
   "source": [
    "# _tmp = _count_unique_snps(_gene_id)\n",
    "# assert _tmp.shape[0] == 2\n",
    "# assert _tmp[\"unique_n_snps_in_model\"] == 2\n",
    "# assert _tmp[\"unique_n_snps_used\"] == 2"
   ]
  },
  {
   "cell_type": "code",
   "execution_count": 135,
   "id": "520837f6-5cdd-4958-aa98-00cd1ebab484",
   "metadata": {
    "execution": {
     "iopub.execute_input": "2022-11-29T22:08:58.305563Z",
     "iopub.status.busy": "2022-11-29T22:08:58.305366Z",
     "iopub.status.idle": "2022-11-29T22:08:58.320803Z",
     "shell.execute_reply": "2022-11-29T22:08:58.320290Z"
    },
    "papermill": {
     "duration": 0.03415,
     "end_time": "2022-11-29T22:08:58.321676",
     "exception": false,
     "start_time": "2022-11-29T22:08:58.287526",
     "status": "completed"
    },
    "tags": []
   },
   "outputs": [],
   "source": [
    "# # get unique snps for all genes\n",
    "# spredixcan_genes_unique_n_snps = spredixcan_genes_models.groupby(\"gene_id\").apply(\n",
    "#     lambda x: _count_unique_snps(x.name)\n",
    "# )"
   ]
  },
  {
   "cell_type": "code",
   "execution_count": 136,
   "id": "72633373-73d7-4796-b915-06fcb18feca0",
   "metadata": {
    "execution": {
     "iopub.execute_input": "2022-11-29T22:08:58.357599Z",
     "iopub.status.busy": "2022-11-29T22:08:58.356943Z",
     "iopub.status.idle": "2022-11-29T22:08:58.372727Z",
     "shell.execute_reply": "2022-11-29T22:08:58.372197Z"
    },
    "papermill": {
     "duration": 0.034708,
     "end_time": "2022-11-29T22:08:58.373645",
     "exception": false,
     "start_time": "2022-11-29T22:08:58.338937",
     "status": "completed"
    },
    "tags": []
   },
   "outputs": [],
   "source": [
    "# spredixcan_genes_unique_n_snps.head()"
   ]
  },
  {
   "cell_type": "code",
   "execution_count": 137,
   "id": "3d2b6676-2168-44b8-8d02-d29b934ba2ec",
   "metadata": {
    "execution": {
     "iopub.execute_input": "2022-11-29T22:08:58.409402Z",
     "iopub.status.busy": "2022-11-29T22:08:58.408997Z",
     "iopub.status.idle": "2022-11-29T22:08:58.424835Z",
     "shell.execute_reply": "2022-11-29T22:08:58.424314Z"
    },
    "papermill": {
     "duration": 0.03466,
     "end_time": "2022-11-29T22:08:58.425678",
     "exception": false,
     "start_time": "2022-11-29T22:08:58.391018",
     "status": "completed"
    },
    "tags": []
   },
   "outputs": [],
   "source": [
    "# assert (\n",
    "#     spredixcan_genes_unique_n_snps[\"unique_n_snps_in_model\"]\n",
    "#     >= spredixcan_genes_unique_n_snps[\"unique_n_snps_used\"]\n",
    "# ).all()"
   ]
  },
  {
   "cell_type": "code",
   "execution_count": 138,
   "id": "6accf2fe-93fe-4f7c-86ff-5f0ea3d17e11",
   "metadata": {
    "execution": {
     "iopub.execute_input": "2022-11-29T22:08:58.461325Z",
     "iopub.status.busy": "2022-11-29T22:08:58.460853Z",
     "iopub.status.idle": "2022-11-29T22:08:58.475738Z",
     "shell.execute_reply": "2022-11-29T22:08:58.475241Z"
    },
    "papermill": {
     "duration": 0.033563,
     "end_time": "2022-11-29T22:08:58.476571",
     "exception": false,
     "start_time": "2022-11-29T22:08:58.443008",
     "status": "completed"
    },
    "tags": []
   },
   "outputs": [],
   "source": [
    "# # add unique snps to spredixcan_genes_models\n",
    "# spredixcan_genes_models = spredixcan_genes_models.join(spredixcan_genes_unique_n_snps)"
   ]
  },
  {
   "cell_type": "code",
   "execution_count": 139,
   "id": "25a28358-843b-4421-9d8f-8edc41f016e3",
   "metadata": {
    "execution": {
     "iopub.execute_input": "2022-11-29T22:08:58.512298Z",
     "iopub.status.busy": "2022-11-29T22:08:58.511899Z",
     "iopub.status.idle": "2022-11-29T22:08:58.527066Z",
     "shell.execute_reply": "2022-11-29T22:08:58.526369Z"
    },
    "papermill": {
     "duration": 0.033996,
     "end_time": "2022-11-29T22:08:58.528023",
     "exception": false,
     "start_time": "2022-11-29T22:08:58.494027",
     "status": "completed"
    },
    "tags": []
   },
   "outputs": [],
   "source": [
    "# spredixcan_genes_models.shape"
   ]
  },
  {
   "cell_type": "code",
   "execution_count": 140,
   "id": "ae4f0cd6-a823-4f55-82cf-1a78f0392acf",
   "metadata": {
    "execution": {
     "iopub.execute_input": "2022-11-29T22:08:58.563870Z",
     "iopub.status.busy": "2022-11-29T22:08:58.563561Z",
     "iopub.status.idle": "2022-11-29T22:08:58.579544Z",
     "shell.execute_reply": "2022-11-29T22:08:58.578917Z"
    },
    "papermill": {
     "duration": 0.034926,
     "end_time": "2022-11-29T22:08:58.580537",
     "exception": false,
     "start_time": "2022-11-29T22:08:58.545611",
     "status": "completed"
    },
    "tags": []
   },
   "outputs": [],
   "source": [
    "# spredixcan_genes_models.head()"
   ]
  },
  {
   "cell_type": "markdown",
   "id": "d6947d45-ea78-4c6b-bf71-f7413d1687e3",
   "metadata": {
    "papermill": {
     "duration": 0.017253,
     "end_time": "2022-11-29T22:08:58.615100",
     "exception": false,
     "start_time": "2022-11-29T22:08:58.597847",
     "status": "completed"
    },
    "tags": []
   },
   "source": [
    "### Save"
   ]
  },
  {
   "cell_type": "code",
   "execution_count": 141,
   "id": "ebc3a430-7bd5-4099-8b01-aa77e704e3e7",
   "metadata": {
    "execution": {
     "iopub.execute_input": "2022-11-29T22:08:58.651418Z",
     "iopub.status.busy": "2022-11-29T22:08:58.650983Z",
     "iopub.status.idle": "2022-11-29T22:08:58.668172Z",
     "shell.execute_reply": "2022-11-29T22:08:58.667537Z"
    },
    "papermill": {
     "duration": 0.036398,
     "end_time": "2022-11-29T22:08:58.669186",
     "exception": false,
     "start_time": "2022-11-29T22:08:58.632788",
     "status": "completed"
    },
    "tags": []
   },
   "outputs": [],
   "source": [
    "# this is important, other scripts depend on gene_name to be unique\n",
    "assert spredixcan_genes_models[\"gene_name\"].is_unique"
   ]
  },
  {
   "cell_type": "code",
   "execution_count": 142,
   "id": "e2db5302-3051-4492-97e1-e759d2fb512f",
   "metadata": {
    "execution": {
     "iopub.execute_input": "2022-11-29T22:08:58.705536Z",
     "iopub.status.busy": "2022-11-29T22:08:58.704928Z",
     "iopub.status.idle": "2022-11-29T22:08:58.723928Z",
     "shell.execute_reply": "2022-11-29T22:08:58.723292Z"
    },
    "papermill": {
     "duration": 0.037906,
     "end_time": "2022-11-29T22:08:58.724782",
     "exception": false,
     "start_time": "2022-11-29T22:08:58.686876",
     "status": "completed"
    },
    "tags": []
   },
   "outputs": [
    {
     "name": "stderr",
     "output_type": "stream",
     "text": [
      "/tmp/ipykernel_129/1381297071.py:1: FutureWarning: In a future version of pandas all arguments of DataFrame.any and Series.any will be keyword-only.\n",
      "  assert not spredixcan_genes_models.isna().any(None)\n"
     ]
    }
   ],
   "source": [
    "assert not spredixcan_genes_models.isna().any(None)"
   ]
  },
  {
   "cell_type": "code",
   "execution_count": 143,
   "id": "10e19441-8390-4eb1-8da4-24752597bb54",
   "metadata": {
    "execution": {
     "iopub.execute_input": "2022-11-29T22:08:58.760761Z",
     "iopub.status.busy": "2022-11-29T22:08:58.760210Z",
     "iopub.status.idle": "2022-11-29T22:08:58.791749Z",
     "shell.execute_reply": "2022-11-29T22:08:58.791043Z"
    },
    "papermill": {
     "duration": 0.050617,
     "end_time": "2022-11-29T22:08:58.792890",
     "exception": false,
     "start_time": "2022-11-29T22:08:58.742273",
     "status": "completed"
    },
    "tags": []
   },
   "outputs": [],
   "source": [
    "spredixcan_genes_models.to_pickle(OUTPUT_DIR_BASE / \"gene_tissues.pkl\")"
   ]
  },
  {
   "cell_type": "code",
   "execution_count": null,
   "id": "b25e3ead",
   "metadata": {
    "papermill": {
     "duration": 0.017464,
     "end_time": "2022-11-29T22:08:58.828454",
     "exception": false,
     "start_time": "2022-11-29T22:08:58.810990",
     "status": "completed"
    },
    "tags": []
   },
   "outputs": [],
   "source": []
  }
 ],
 "metadata": {
  "jupytext": {
   "cell_metadata_filter": "all,-execution,-papermill,-trusted",
   "formats": "ipynb,py//py:percent"
  },
  "kernelspec": {
   "display_name": "Python 3 (ipykernel)",
   "language": "python",
   "name": "python3"
  },
  "language_info": {
   "codemirror_mode": {
    "name": "ipython",
    "version": 3
   },
   "file_extension": ".py",
   "mimetype": "text/x-python",
   "name": "python",
   "nbconvert_exporter": "python",
   "pygments_lexer": "ipython3",
   "version": "3.10.6"
  },
  "papermill": {
   "default_parameters": {},
   "duration": 34.796371,
   "end_time": "2022-11-29T22:08:59.766688",
   "environment_variables": {},
   "exception": null,
   "input_path": "projects/asthma-copd/nbs/20_gene_corrs/07-compile_gwas_snps_and_twas_genes.ipynb",
   "output_path": "projects/asthma-copd/nbs/20_gene_corrs/gene_corrs/aco/07-compile_gwas_snps_and_twas_genes.run.ipynb",
   "parameters": {
    "COHORT_NAME": "aco",
    "GWAS_FILE": "/opt/data/projects/asthma-copd/results/final_imputed_gwas/GWAS_ACO_GLM_SNPs_info0.7-harmonized-imputed.txt.gz",
    "OUTPUT_DIR_BASE": "/opt/data/projects/asthma-copd/results/gls_phenoplier",
    "SMULTIXCAN_FILE": "/opt/data/projects/asthma-copd/results/twas/smultixcan/GWAS_ACO_GLM_SNPs_info0.7-gtex_v8-mashr-smultixcan.txt",
    "SPREDIXCAN_FILE_PATTERN": "GWAS_ACO_GLM_SNPs_info0.7-gtex_v8-mashr-{tissue}.csv",
    "SPREDIXCAN_FOLDER": "/opt/data/projects/asthma-copd/results/twas/spredixcan"
   },
   "start_time": "2022-11-29T22:08:24.970317",
   "version": "2.2.2"
  },
  "toc-autonumbering": true
 },
 "nbformat": 4,
 "nbformat_minor": 5
}
