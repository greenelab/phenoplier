{
 "cells": [
  {
   "cell_type": "markdown",
   "id": "7a6632fb",
   "metadata": {
    "papermill": {
     "duration": 0.009459,
     "end_time": "2022-11-30T01:38:34.337052",
     "exception": false,
     "start_time": "2022-11-30T01:38:34.327593",
     "status": "completed"
    },
    "tags": []
   },
   "source": [
    "# Description"
   ]
  },
  {
   "cell_type": "markdown",
   "id": "7097c346",
   "metadata": {
    "papermill": {
     "duration": 0.008151,
     "end_time": "2022-11-30T01:38:34.353526",
     "exception": false,
     "start_time": "2022-11-30T01:38:34.345375",
     "status": "completed"
    },
    "tags": []
   },
   "source": [
    "(Please, take a look at the README.md file in this directory for instructions on how to run this notebook)\n",
    "\n",
    "This notebook computes predicted expression correlations between all genes in the MultiPLIER models.\n",
    "\n",
    "It has specicfic parameters for papermill (see under `Settings` below).\n",
    "It can be configured to run on a single chromosome to run in parallel.\n",
    "\n",
    "This notebook is not directly run. See README.md."
   ]
  },
  {
   "cell_type": "markdown",
   "id": "c61d8427",
   "metadata": {
    "papermill": {
     "duration": 0.008087,
     "end_time": "2022-11-30T01:38:34.369968",
     "exception": false,
     "start_time": "2022-11-30T01:38:34.361881",
     "status": "completed"
    },
    "tags": []
   },
   "source": [
    "# Modules"
   ]
  },
  {
   "cell_type": "code",
   "execution_count": 1,
   "id": "bbc0234f",
   "metadata": {
    "execution": {
     "iopub.execute_input": "2022-11-30T01:38:34.388759Z",
     "iopub.status.busy": "2022-11-30T01:38:34.388265Z",
     "iopub.status.idle": "2022-11-30T01:38:34.406534Z",
     "shell.execute_reply": "2022-11-30T01:38:34.406009Z"
    },
    "papermill": {
     "duration": 0.028771,
     "end_time": "2022-11-30T01:38:34.408017",
     "exception": false,
     "start_time": "2022-11-30T01:38:34.379246",
     "status": "completed"
    },
    "tags": []
   },
   "outputs": [],
   "source": [
    "%load_ext autoreload\n",
    "%autoreload 2"
   ]
  },
  {
   "cell_type": "code",
   "execution_count": 2,
   "id": "1d5f5a59",
   "metadata": {
    "execution": {
     "iopub.execute_input": "2022-11-30T01:38:34.425701Z",
     "iopub.status.busy": "2022-11-30T01:38:34.425282Z",
     "iopub.status.idle": "2022-11-30T01:38:35.165220Z",
     "shell.execute_reply": "2022-11-30T01:38:35.164659Z"
    },
    "papermill": {
     "duration": 0.750593,
     "end_time": "2022-11-30T01:38:35.167004",
     "exception": false,
     "start_time": "2022-11-30T01:38:34.416411",
     "status": "completed"
    },
    "tags": []
   },
   "outputs": [],
   "source": [
    "from random import sample, seed\n",
    "import warnings\n",
    "from pathlib import Path\n",
    "import pickle\n",
    "import traceback\n",
    "\n",
    "import numpy as np\n",
    "from scipy.spatial.distance import squareform\n",
    "import pandas as pd\n",
    "from tqdm import tqdm\n",
    "import matplotlib.pyplot as plt\n",
    "import seaborn as sns\n",
    "\n",
    "import conf\n",
    "from entity import Gene"
   ]
  },
  {
   "cell_type": "markdown",
   "id": "1eac24b5",
   "metadata": {
    "papermill": {
     "duration": 0.010196,
     "end_time": "2022-11-30T01:38:35.185852",
     "exception": false,
     "start_time": "2022-11-30T01:38:35.175656",
     "status": "completed"
    },
    "tags": []
   },
   "source": [
    "# Settings"
   ]
  },
  {
   "cell_type": "code",
   "execution_count": 3,
   "id": "ca4560ba",
   "metadata": {
    "execution": {
     "iopub.execute_input": "2022-11-30T01:38:35.203100Z",
     "iopub.status.busy": "2022-11-30T01:38:35.202890Z",
     "iopub.status.idle": "2022-11-30T01:38:35.217758Z",
     "shell.execute_reply": "2022-11-30T01:38:35.217260Z"
    },
    "papermill": {
     "duration": 0.025021,
     "end_time": "2022-11-30T01:38:35.219102",
     "exception": false,
     "start_time": "2022-11-30T01:38:35.194081",
     "status": "completed"
    },
    "tags": [
     "parameters"
    ]
   },
   "outputs": [],
   "source": [
    "# a cohort name (it could be something like UK_BIOBANK, etc)\n",
    "COHORT_NAME = None\n",
    "\n",
    "# reference panel such as 1000G or GTEX_V8\n",
    "REFERENCE_PANEL = \"GTEX_V8\"\n",
    "\n",
    "# predictions models such as MASHR or ELASTIC_NET\n",
    "EQTL_MODEL = \"MASHR\"\n",
    "\n",
    "# this is the default value used in S-MultiXcan to select the\n",
    "# top principal components of the expression correlation matrix\n",
    "SMULTIXCAN_CONDITION_NUMBER = 30\n",
    "\n",
    "# specifies a single chromosome value\n",
    "CHROMOSOME = None\n",
    "\n",
    "# If True, computes the correlation between closeby genes only;\n",
    "# otherwise, it computes correlations for all genes in a chromosome\n",
    "COMPUTE_CORRELATIONS_WITHIN_DISTANCE = False\n",
    "\n",
    "# if True, then it will continue if a gene pair correlation fails,\n",
    "# printing the warning/error for debugging. If False, any warning/error\n",
    "# will be thrown\n",
    "DEBUG_MODE = False\n",
    "\n",
    "# output dir\n",
    "OUTPUT_DIR_BASE = None"
   ]
  },
  {
   "cell_type": "code",
   "execution_count": 4,
   "id": "7454a2f9",
   "metadata": {
    "execution": {
     "iopub.execute_input": "2022-11-30T01:38:35.236627Z",
     "iopub.status.busy": "2022-11-30T01:38:35.236424Z",
     "iopub.status.idle": "2022-11-30T01:38:35.250329Z",
     "shell.execute_reply": "2022-11-30T01:38:35.249708Z"
    },
    "papermill": {
     "duration": 0.024256,
     "end_time": "2022-11-30T01:38:35.251881",
     "exception": false,
     "start_time": "2022-11-30T01:38:35.227625",
     "status": "completed"
    },
    "tags": [
     "injected-parameters"
    ]
   },
   "outputs": [],
   "source": [
    "# Parameters\n",
    "COHORT_NAME = \"aco\"\n",
    "CHROMOSOME = 9\n",
    "OUTPUT_DIR_BASE = \"/opt/data/projects/asthma-copd/results/gls_phenoplier\"\n"
   ]
  },
  {
   "cell_type": "code",
   "execution_count": 5,
   "id": "3190631f-27fc-480f-b18e-571d580425a5",
   "metadata": {
    "execution": {
     "iopub.execute_input": "2022-11-30T01:38:35.270532Z",
     "iopub.status.busy": "2022-11-30T01:38:35.270011Z",
     "iopub.status.idle": "2022-11-30T01:38:35.302848Z",
     "shell.execute_reply": "2022-11-30T01:38:35.302136Z"
    },
    "papermill": {
     "duration": 0.043988,
     "end_time": "2022-11-30T01:38:35.304410",
     "exception": false,
     "start_time": "2022-11-30T01:38:35.260422",
     "status": "completed"
    },
    "tags": []
   },
   "outputs": [
    {
     "data": {
      "text/plain": [
       "'Cohort name: aco'"
      ]
     },
     "metadata": {},
     "output_type": "display_data"
    }
   ],
   "source": [
    "assert COHORT_NAME is not None and len(COHORT_NAME) > 0, \"A cohort name must be given\"\n",
    "\n",
    "COHORT_NAME = COHORT_NAME.lower()\n",
    "display(f\"Cohort name: {COHORT_NAME}\")"
   ]
  },
  {
   "cell_type": "code",
   "execution_count": 6,
   "id": "f53ba19b-0f93-4fa2-a047-63b375939d1a",
   "metadata": {
    "execution": {
     "iopub.execute_input": "2022-11-30T01:38:35.323119Z",
     "iopub.status.busy": "2022-11-30T01:38:35.322616Z",
     "iopub.status.idle": "2022-11-30T01:38:35.348962Z",
     "shell.execute_reply": "2022-11-30T01:38:35.348291Z"
    },
    "papermill": {
     "duration": 0.037205,
     "end_time": "2022-11-30T01:38:35.350502",
     "exception": false,
     "start_time": "2022-11-30T01:38:35.313297",
     "status": "completed"
    },
    "tags": []
   },
   "outputs": [
    {
     "data": {
      "text/plain": [
       "'Reference panel: GTEX_V8'"
      ]
     },
     "metadata": {},
     "output_type": "display_data"
    }
   ],
   "source": [
    "assert (\n",
    "    REFERENCE_PANEL is not None and len(REFERENCE_PANEL) > 0\n",
    "), \"A reference panel must be given\"\n",
    "\n",
    "display(f\"Reference panel: {REFERENCE_PANEL}\")"
   ]
  },
  {
   "cell_type": "code",
   "execution_count": 7,
   "id": "e024d130-c139-429a-9c6e-ccf149e297b0",
   "metadata": {
    "execution": {
     "iopub.execute_input": "2022-11-30T01:38:35.369555Z",
     "iopub.status.busy": "2022-11-30T01:38:35.369086Z",
     "iopub.status.idle": "2022-11-30T01:38:35.395838Z",
     "shell.execute_reply": "2022-11-30T01:38:35.395201Z"
    },
    "papermill": {
     "duration": 0.038178,
     "end_time": "2022-11-30T01:38:35.397379",
     "exception": false,
     "start_time": "2022-11-30T01:38:35.359201",
     "status": "completed"
    },
    "tags": []
   },
   "outputs": [
    {
     "data": {
      "text/plain": [
       "'eQTL model: MASHR) / mashr_'"
      ]
     },
     "metadata": {},
     "output_type": "display_data"
    }
   ],
   "source": [
    "assert (\n",
    "    EQTL_MODEL is not None and len(EQTL_MODEL) > 0\n",
    "), \"A prediction/eQTL model must be given\"\n",
    "\n",
    "EQTL_MODEL_FILES_PREFIX = conf.PHENOMEXCAN[\"PREDICTION_MODELS\"][f\"{EQTL_MODEL}_PREFIX\"]\n",
    "display(f\"eQTL model: {EQTL_MODEL}) / {EQTL_MODEL_FILES_PREFIX}\")"
   ]
  },
  {
   "cell_type": "code",
   "execution_count": 8,
   "id": "552a7f63-a18c-4d3e-bb6a-94f99b431291",
   "metadata": {
    "execution": {
     "iopub.execute_input": "2022-11-30T01:38:35.416337Z",
     "iopub.status.busy": "2022-11-30T01:38:35.415816Z",
     "iopub.status.idle": "2022-11-30T01:38:35.442239Z",
     "shell.execute_reply": "2022-11-30T01:38:35.441608Z"
    },
    "papermill": {
     "duration": 0.037468,
     "end_time": "2022-11-30T01:38:35.443747",
     "exception": false,
     "start_time": "2022-11-30T01:38:35.406279",
     "status": "completed"
    },
    "tags": []
   },
   "outputs": [
    {
     "data": {
      "text/plain": [
       "'S-MultiXcan condition number: 30'"
      ]
     },
     "metadata": {},
     "output_type": "display_data"
    }
   ],
   "source": [
    "assert (\n",
    "    SMULTIXCAN_CONDITION_NUMBER is not None and SMULTIXCAN_CONDITION_NUMBER > 0\n",
    "), \"The S-MultiXcan condition number (positive integer) must be given\"\n",
    "\n",
    "display(f\"S-MultiXcan condition number: {SMULTIXCAN_CONDITION_NUMBER}\")"
   ]
  },
  {
   "cell_type": "code",
   "execution_count": 9,
   "id": "f34a336f-548e-4afe-8955-90eaea4f42c6",
   "metadata": {
    "execution": {
     "iopub.execute_input": "2022-11-30T01:38:35.462766Z",
     "iopub.status.busy": "2022-11-30T01:38:35.462360Z",
     "iopub.status.idle": "2022-11-30T01:38:35.482691Z",
     "shell.execute_reply": "2022-11-30T01:38:35.482121Z"
    },
    "papermill": {
     "duration": 0.031391,
     "end_time": "2022-11-30T01:38:35.484157",
     "exception": false,
     "start_time": "2022-11-30T01:38:35.452766",
     "status": "completed"
    },
    "tags": []
   },
   "outputs": [
    {
     "data": {
      "text/plain": [
       "'Working on chromosome 9'"
      ]
     },
     "metadata": {},
     "output_type": "display_data"
    }
   ],
   "source": [
    "assert CHROMOSOME is not None and (\n",
    "    1 <= CHROMOSOME <= 22\n",
    "), \"You have to select one chromosome (format: number between 1 and 22)\"\n",
    "\n",
    "# CHROMOSOME = str(CHROMOSOME)\n",
    "display(f\"Working on chromosome {CHROMOSOME}\")"
   ]
  },
  {
   "cell_type": "code",
   "execution_count": 10,
   "id": "ab8e96e8-06b5-4363-9dcd-dc4d78cc27f7",
   "metadata": {
    "execution": {
     "iopub.execute_input": "2022-11-30T01:38:35.503754Z",
     "iopub.status.busy": "2022-11-30T01:38:35.503267Z",
     "iopub.status.idle": "2022-11-30T01:38:35.523366Z",
     "shell.execute_reply": "2022-11-30T01:38:35.522787Z"
    },
    "papermill": {
     "duration": 0.031265,
     "end_time": "2022-11-30T01:38:35.524850",
     "exception": false,
     "start_time": "2022-11-30T01:38:35.493585",
     "status": "completed"
    },
    "tags": []
   },
   "outputs": [
    {
     "data": {
      "text/plain": [
       "'Compute correlation within distance False'"
      ]
     },
     "metadata": {},
     "output_type": "display_data"
    }
   ],
   "source": [
    "display(f\"Compute correlation within distance {COMPUTE_CORRELATIONS_WITHIN_DISTANCE}\")"
   ]
  },
  {
   "cell_type": "code",
   "execution_count": 11,
   "id": "b393b698-77e3-4ba2-8ac1-e14d51aa988f",
   "metadata": {
    "execution": {
     "iopub.execute_input": "2022-11-30T01:38:35.544288Z",
     "iopub.status.busy": "2022-11-30T01:38:35.544021Z",
     "iopub.status.idle": "2022-11-30T01:38:35.565511Z",
     "shell.execute_reply": "2022-11-30T01:38:35.564953Z"
    },
    "papermill": {
     "duration": 0.032763,
     "end_time": "2022-11-30T01:38:35.566960",
     "exception": false,
     "start_time": "2022-11-30T01:38:35.534197",
     "status": "completed"
    },
    "tags": []
   },
   "outputs": [
    {
     "data": {
      "text/plain": [
       "'Using output dir base: /opt/data/projects/asthma-copd/results/gls_phenoplier/gene_corrs/aco'"
      ]
     },
     "metadata": {},
     "output_type": "display_data"
    }
   ],
   "source": [
    "assert (\n",
    "    OUTPUT_DIR_BASE is not None and len(OUTPUT_DIR_BASE) > 0\n",
    "), \"Output directory path must be given\"\n",
    "\n",
    "OUTPUT_DIR_BASE = (\n",
    "    Path(OUTPUT_DIR_BASE)\n",
    "    / \"gene_corrs\"\n",
    "    / COHORT_NAME\n",
    "    # / REFERENCE_PANEL.lower()\n",
    "    # / EQTL_MODEL.lower()\n",
    ").resolve()\n",
    "\n",
    "OUTPUT_DIR_BASE.mkdir(parents=True, exist_ok=True)\n",
    "\n",
    "display(f\"Using output dir base: {OUTPUT_DIR_BASE}\")"
   ]
  },
  {
   "cell_type": "markdown",
   "id": "d2ba085e",
   "metadata": {
    "papermill": {
     "duration": 0.009615,
     "end_time": "2022-11-30T01:38:35.586195",
     "exception": false,
     "start_time": "2022-11-30T01:38:35.576580",
     "status": "completed"
    },
    "tags": []
   },
   "source": [
    "# Load data"
   ]
  },
  {
   "cell_type": "markdown",
   "id": "7dcb8db7",
   "metadata": {
    "papermill": {
     "duration": 0.009184,
     "end_time": "2022-11-30T01:38:35.604816",
     "exception": false,
     "start_time": "2022-11-30T01:38:35.595632",
     "status": "completed"
    },
    "tags": []
   },
   "source": [
    "## GWAS variants"
   ]
  },
  {
   "cell_type": "code",
   "execution_count": 12,
   "id": "29434c4e-8cd3-4b9b-82e4-b5a251d9dd19",
   "metadata": {
    "execution": {
     "iopub.execute_input": "2022-11-30T01:38:35.624432Z",
     "iopub.status.busy": "2022-11-30T01:38:35.623867Z",
     "iopub.status.idle": "2022-11-30T01:38:37.732805Z",
     "shell.execute_reply": "2022-11-30T01:38:37.732121Z"
    },
    "papermill": {
     "duration": 2.120237,
     "end_time": "2022-11-30T01:38:37.734332",
     "exception": false,
     "start_time": "2022-11-30T01:38:35.614095",
     "status": "completed"
    },
    "tags": []
   },
   "outputs": [],
   "source": [
    "with open(OUTPUT_DIR_BASE / \"gwas_variant_ids.pkl\", \"rb\") as handle:\n",
    "    gwas_variants_ids_set = pickle.load(handle)"
   ]
  },
  {
   "cell_type": "code",
   "execution_count": 13,
   "id": "b9d9dec2-4a76-4bf9-bde2-e24c95acb8a0",
   "metadata": {
    "execution": {
     "iopub.execute_input": "2022-11-30T01:38:37.754118Z",
     "iopub.status.busy": "2022-11-30T01:38:37.753929Z",
     "iopub.status.idle": "2022-11-30T01:38:37.768594Z",
     "shell.execute_reply": "2022-11-30T01:38:37.768099Z"
    },
    "papermill": {
     "duration": 0.026257,
     "end_time": "2022-11-30T01:38:37.769837",
     "exception": false,
     "start_time": "2022-11-30T01:38:37.743580",
     "status": "completed"
    },
    "tags": []
   },
   "outputs": [
    {
     "data": {
      "text/plain": [
       "8561476"
      ]
     },
     "execution_count": 13,
     "metadata": {},
     "output_type": "execute_result"
    }
   ],
   "source": [
    "len(gwas_variants_ids_set)"
   ]
  },
  {
   "cell_type": "code",
   "execution_count": 14,
   "id": "4235b06a-6034-4ee4-a0a3-2ae35d122418",
   "metadata": {
    "execution": {
     "iopub.execute_input": "2022-11-30T01:38:37.788740Z",
     "iopub.status.busy": "2022-11-30T01:38:37.788556Z",
     "iopub.status.idle": "2022-11-30T01:38:38.175699Z",
     "shell.execute_reply": "2022-11-30T01:38:38.175149Z"
    },
    "papermill": {
     "duration": 0.398028,
     "end_time": "2022-11-30T01:38:38.176999",
     "exception": false,
     "start_time": "2022-11-30T01:38:37.778971",
     "status": "completed"
    },
    "tags": []
   },
   "outputs": [
    {
     "data": {
      "text/plain": [
       "['chr4_100501572_T_C_b38',\n",
       " 'chr7_13549712_A_G_b38',\n",
       " 'chr2_163257142_T_C_b38',\n",
       " 'chr4_56695260_T_C_b38',\n",
       " 'chr15_91856181_G_A_b38']"
      ]
     },
     "execution_count": 14,
     "metadata": {},
     "output_type": "execute_result"
    }
   ],
   "source": [
    "list(gwas_variants_ids_set)[:5]"
   ]
  },
  {
   "cell_type": "markdown",
   "id": "07866999-2305-41f9-a144-e69c9122c212",
   "metadata": {
    "papermill": {
     "duration": 0.009754,
     "end_time": "2022-11-30T01:38:38.196953",
     "exception": false,
     "start_time": "2022-11-30T01:38:38.187199",
     "status": "completed"
    },
    "tags": []
   },
   "source": [
    "## S-PrediXcan tissue models"
   ]
  },
  {
   "cell_type": "code",
   "execution_count": 15,
   "id": "780611d9-77c8-405f-90a4-f271f7b09397",
   "metadata": {
    "execution": {
     "iopub.execute_input": "2022-11-30T01:38:38.216055Z",
     "iopub.status.busy": "2022-11-30T01:38:38.215884Z",
     "iopub.status.idle": "2022-11-30T01:38:38.839258Z",
     "shell.execute_reply": "2022-11-30T01:38:38.838808Z"
    },
    "papermill": {
     "duration": 0.634457,
     "end_time": "2022-11-30T01:38:38.840728",
     "exception": false,
     "start_time": "2022-11-30T01:38:38.206271",
     "status": "completed"
    },
    "tags": []
   },
   "outputs": [],
   "source": [
    "spredixcan_genes_models = pd.read_pickle(OUTPUT_DIR_BASE / \"gene_tissues.pkl\")"
   ]
  },
  {
   "cell_type": "code",
   "execution_count": 16,
   "id": "726dd1f6-9557-4225-91fa-b3b879ea96e1",
   "metadata": {
    "execution": {
     "iopub.execute_input": "2022-11-30T01:38:38.861383Z",
     "iopub.status.busy": "2022-11-30T01:38:38.861270Z",
     "iopub.status.idle": "2022-11-30T01:38:38.874769Z",
     "shell.execute_reply": "2022-11-30T01:38:38.874336Z"
    },
    "papermill": {
     "duration": 0.024914,
     "end_time": "2022-11-30T01:38:38.875897",
     "exception": false,
     "start_time": "2022-11-30T01:38:38.850983",
     "status": "completed"
    },
    "tags": []
   },
   "outputs": [
    {
     "data": {
      "text/plain": [
       "(6442, 5)"
      ]
     },
     "execution_count": 16,
     "metadata": {},
     "output_type": "execute_result"
    }
   ],
   "source": [
    "spredixcan_genes_models.shape"
   ]
  },
  {
   "cell_type": "code",
   "execution_count": 17,
   "id": "944a1b48-222c-4eb0-b252-b9de2cbca215",
   "metadata": {
    "execution": {
     "iopub.execute_input": "2022-11-30T01:38:38.894546Z",
     "iopub.status.busy": "2022-11-30T01:38:38.894398Z",
     "iopub.status.idle": "2022-11-30T01:38:38.910900Z",
     "shell.execute_reply": "2022-11-30T01:38:38.910516Z"
    },
    "papermill": {
     "duration": 0.026822,
     "end_time": "2022-11-30T01:38:38.912128",
     "exception": false,
     "start_time": "2022-11-30T01:38:38.885306",
     "status": "completed"
    },
    "tags": []
   },
   "outputs": [
    {
     "data": {
      "text/html": [
       "<div>\n",
       "<style scoped>\n",
       "    .dataframe tbody tr th:only-of-type {\n",
       "        vertical-align: middle;\n",
       "    }\n",
       "\n",
       "    .dataframe tbody tr th {\n",
       "        vertical-align: top;\n",
       "    }\n",
       "\n",
       "    .dataframe thead th {\n",
       "        text-align: right;\n",
       "    }\n",
       "</style>\n",
       "<table border=\"1\" class=\"dataframe\">\n",
       "  <thead>\n",
       "    <tr style=\"text-align: right;\">\n",
       "      <th></th>\n",
       "      <th>gene_name</th>\n",
       "      <th>tissue</th>\n",
       "      <th>n_tissues</th>\n",
       "      <th>n_snps_used_sum</th>\n",
       "      <th>n_snps_in_model_sum</th>\n",
       "    </tr>\n",
       "    <tr>\n",
       "      <th>gene_id</th>\n",
       "      <th></th>\n",
       "      <th></th>\n",
       "      <th></th>\n",
       "      <th></th>\n",
       "      <th></th>\n",
       "    </tr>\n",
       "  </thead>\n",
       "  <tbody>\n",
       "    <tr>\n",
       "      <th>ENSG00000000419</th>\n",
       "      <td>DPM1</td>\n",
       "      <td>(Brain_Hypothalamus, Brain_Substantia_nigra)</td>\n",
       "      <td>2</td>\n",
       "      <td>2</td>\n",
       "      <td>2</td>\n",
       "    </tr>\n",
       "    <tr>\n",
       "      <th>ENSG00000000938</th>\n",
       "      <td>FGR</td>\n",
       "      <td>(Esophagus_Muscularis, Artery_Aorta, Skin_Not_...</td>\n",
       "      <td>36</td>\n",
       "      <td>40</td>\n",
       "      <td>40</td>\n",
       "    </tr>\n",
       "    <tr>\n",
       "      <th>ENSG00000000971</th>\n",
       "      <td>CFH</td>\n",
       "      <td>(Esophagus_Muscularis, Artery_Aorta, Uterus, S...</td>\n",
       "      <td>34</td>\n",
       "      <td>44</td>\n",
       "      <td>44</td>\n",
       "    </tr>\n",
       "    <tr>\n",
       "      <th>ENSG00000001084</th>\n",
       "      <td>GCLC</td>\n",
       "      <td>(Nerve_Tibial, Artery_Aorta, Skin_Not_Sun_Expo...</td>\n",
       "      <td>32</td>\n",
       "      <td>46</td>\n",
       "      <td>46</td>\n",
       "    </tr>\n",
       "    <tr>\n",
       "      <th>ENSG00000001167</th>\n",
       "      <td>NFYA</td>\n",
       "      <td>(Esophagus_Muscularis, Artery_Aorta, Skin_Not_...</td>\n",
       "      <td>40</td>\n",
       "      <td>47</td>\n",
       "      <td>48</td>\n",
       "    </tr>\n",
       "  </tbody>\n",
       "</table>\n",
       "</div>"
      ],
      "text/plain": [
       "                gene_name                                             tissue  \\\n",
       "gene_id                                                                        \n",
       "ENSG00000000419      DPM1       (Brain_Hypothalamus, Brain_Substantia_nigra)   \n",
       "ENSG00000000938       FGR  (Esophagus_Muscularis, Artery_Aorta, Skin_Not_...   \n",
       "ENSG00000000971       CFH  (Esophagus_Muscularis, Artery_Aorta, Uterus, S...   \n",
       "ENSG00000001084      GCLC  (Nerve_Tibial, Artery_Aorta, Skin_Not_Sun_Expo...   \n",
       "ENSG00000001167      NFYA  (Esophagus_Muscularis, Artery_Aorta, Skin_Not_...   \n",
       "\n",
       "                 n_tissues  n_snps_used_sum  n_snps_in_model_sum  \n",
       "gene_id                                                           \n",
       "ENSG00000000419          2                2                    2  \n",
       "ENSG00000000938         36               40                   40  \n",
       "ENSG00000000971         34               44                   44  \n",
       "ENSG00000001084         32               46                   46  \n",
       "ENSG00000001167         40               47                   48  "
      ]
     },
     "execution_count": 17,
     "metadata": {},
     "output_type": "execute_result"
    }
   ],
   "source": [
    "spredixcan_genes_models.head()"
   ]
  },
  {
   "cell_type": "code",
   "execution_count": 18,
   "id": "d1c11bb1-be0b-4f40-b360-633d6827109f",
   "metadata": {
    "execution": {
     "iopub.execute_input": "2022-11-30T01:38:38.932433Z",
     "iopub.status.busy": "2022-11-30T01:38:38.932300Z",
     "iopub.status.idle": "2022-11-30T01:38:38.944717Z",
     "shell.execute_reply": "2022-11-30T01:38:38.944308Z"
    },
    "papermill": {
     "duration": 0.023427,
     "end_time": "2022-11-30T01:38:38.945686",
     "exception": false,
     "start_time": "2022-11-30T01:38:38.922259",
     "status": "completed"
    },
    "tags": []
   },
   "outputs": [],
   "source": [
    "assert spredixcan_genes_models.index.is_unique"
   ]
  },
  {
   "cell_type": "markdown",
   "id": "a5b5092c-a13e-47c4-a92a-480fcc08f3ae",
   "metadata": {
    "papermill": {
     "duration": 0.009541,
     "end_time": "2022-11-30T01:38:38.964883",
     "exception": false,
     "start_time": "2022-11-30T01:38:38.955342",
     "status": "completed"
    },
    "tags": []
   },
   "source": [
    "## Gene info"
   ]
  },
  {
   "cell_type": "code",
   "execution_count": 19,
   "id": "7d6bb224-88e9-4358-ac10-43a41d92cdad",
   "metadata": {
    "execution": {
     "iopub.execute_input": "2022-11-30T01:38:38.985038Z",
     "iopub.status.busy": "2022-11-30T01:38:38.984913Z",
     "iopub.status.idle": "2022-11-30T01:38:39.006492Z",
     "shell.execute_reply": "2022-11-30T01:38:39.005976Z"
    },
    "papermill": {
     "duration": 0.032883,
     "end_time": "2022-11-30T01:38:39.007748",
     "exception": false,
     "start_time": "2022-11-30T01:38:38.974865",
     "status": "completed"
    },
    "tags": []
   },
   "outputs": [],
   "source": [
    "genes_info = pd.read_pickle(OUTPUT_DIR_BASE / \"genes_info.pkl\")"
   ]
  },
  {
   "cell_type": "code",
   "execution_count": 20,
   "id": "9e32abfa-546d-483e-8c18-d526e9e05903",
   "metadata": {
    "execution": {
     "iopub.execute_input": "2022-11-30T01:38:39.028860Z",
     "iopub.status.busy": "2022-11-30T01:38:39.028388Z",
     "iopub.status.idle": "2022-11-30T01:38:39.048834Z",
     "shell.execute_reply": "2022-11-30T01:38:39.048342Z"
    },
    "papermill": {
     "duration": 0.032365,
     "end_time": "2022-11-30T01:38:39.050058",
     "exception": false,
     "start_time": "2022-11-30T01:38:39.017693",
     "status": "completed"
    },
    "tags": []
   },
   "outputs": [
    {
     "data": {
      "text/plain": [
       "(6442, 7)"
      ]
     },
     "execution_count": 20,
     "metadata": {},
     "output_type": "execute_result"
    }
   ],
   "source": [
    "genes_info.shape"
   ]
  },
  {
   "cell_type": "code",
   "execution_count": 21,
   "id": "d16c3e92-85ec-468a-9a56-e25a9774a1cb",
   "metadata": {
    "execution": {
     "iopub.execute_input": "2022-11-30T01:38:39.070901Z",
     "iopub.status.busy": "2022-11-30T01:38:39.070433Z",
     "iopub.status.idle": "2022-11-30T01:38:39.094973Z",
     "shell.execute_reply": "2022-11-30T01:38:39.094481Z"
    },
    "papermill": {
     "duration": 0.036244,
     "end_time": "2022-11-30T01:38:39.096183",
     "exception": false,
     "start_time": "2022-11-30T01:38:39.059939",
     "status": "completed"
    },
    "tags": []
   },
   "outputs": [
    {
     "data": {
      "text/html": [
       "<div>\n",
       "<style scoped>\n",
       "    .dataframe tbody tr th:only-of-type {\n",
       "        vertical-align: middle;\n",
       "    }\n",
       "\n",
       "    .dataframe tbody tr th {\n",
       "        vertical-align: top;\n",
       "    }\n",
       "\n",
       "    .dataframe thead th {\n",
       "        text-align: right;\n",
       "    }\n",
       "</style>\n",
       "<table border=\"1\" class=\"dataframe\">\n",
       "  <thead>\n",
       "    <tr style=\"text-align: right;\">\n",
       "      <th></th>\n",
       "      <th>name</th>\n",
       "      <th>id</th>\n",
       "      <th>chr</th>\n",
       "      <th>band</th>\n",
       "      <th>start_position</th>\n",
       "      <th>end_position</th>\n",
       "      <th>gene_length</th>\n",
       "    </tr>\n",
       "  </thead>\n",
       "  <tbody>\n",
       "    <tr>\n",
       "      <th>0</th>\n",
       "      <td>IFIT3</td>\n",
       "      <td>ENSG00000119917</td>\n",
       "      <td>10</td>\n",
       "      <td>10q23.31</td>\n",
       "      <td>89327997</td>\n",
       "      <td>89340971</td>\n",
       "      <td>12974</td>\n",
       "    </tr>\n",
       "    <tr>\n",
       "      <th>1</th>\n",
       "      <td>ZFP36</td>\n",
       "      <td>ENSG00000128016</td>\n",
       "      <td>19</td>\n",
       "      <td>19q13.2</td>\n",
       "      <td>39406813</td>\n",
       "      <td>39409412</td>\n",
       "      <td>2599</td>\n",
       "    </tr>\n",
       "    <tr>\n",
       "      <th>2</th>\n",
       "      <td>ZNF597</td>\n",
       "      <td>ENSG00000167981</td>\n",
       "      <td>16</td>\n",
       "      <td>16p13.3</td>\n",
       "      <td>3432414</td>\n",
       "      <td>3443504</td>\n",
       "      <td>11090</td>\n",
       "    </tr>\n",
       "    <tr>\n",
       "      <th>3</th>\n",
       "      <td>AGPS</td>\n",
       "      <td>ENSG00000018510</td>\n",
       "      <td>2</td>\n",
       "      <td>2q31.2</td>\n",
       "      <td>177392768</td>\n",
       "      <td>177559299</td>\n",
       "      <td>166531</td>\n",
       "    </tr>\n",
       "    <tr>\n",
       "      <th>4</th>\n",
       "      <td>CDK2</td>\n",
       "      <td>ENSG00000123374</td>\n",
       "      <td>12</td>\n",
       "      <td>12q13.2</td>\n",
       "      <td>55966781</td>\n",
       "      <td>55972789</td>\n",
       "      <td>6008</td>\n",
       "    </tr>\n",
       "  </tbody>\n",
       "</table>\n",
       "</div>"
      ],
      "text/plain": [
       "     name               id  chr      band  start_position  end_position  \\\n",
       "0   IFIT3  ENSG00000119917   10  10q23.31        89327997      89340971   \n",
       "1   ZFP36  ENSG00000128016   19   19q13.2        39406813      39409412   \n",
       "2  ZNF597  ENSG00000167981   16   16p13.3         3432414       3443504   \n",
       "3    AGPS  ENSG00000018510    2    2q31.2       177392768     177559299   \n",
       "4    CDK2  ENSG00000123374   12   12q13.2        55966781      55972789   \n",
       "\n",
       "   gene_length  \n",
       "0        12974  \n",
       "1         2599  \n",
       "2        11090  \n",
       "3       166531  \n",
       "4         6008  "
      ]
     },
     "execution_count": 21,
     "metadata": {},
     "output_type": "execute_result"
    }
   ],
   "source": [
    "genes_info.head()"
   ]
  },
  {
   "cell_type": "markdown",
   "id": "d3843e06",
   "metadata": {
    "papermill": {
     "duration": 0.010469,
     "end_time": "2022-11-30T01:38:39.115824",
     "exception": false,
     "start_time": "2022-11-30T01:38:39.105355",
     "status": "completed"
    },
    "tags": []
   },
   "source": [
    "# Compute correlations"
   ]
  },
  {
   "cell_type": "code",
   "execution_count": 22,
   "id": "cb859c15-d1f3-4006-a74c-2b83c0db9611",
   "metadata": {
    "execution": {
     "iopub.execute_input": "2022-11-30T01:38:39.136782Z",
     "iopub.status.busy": "2022-11-30T01:38:39.136438Z",
     "iopub.status.idle": "2022-11-30T01:38:39.157198Z",
     "shell.execute_reply": "2022-11-30T01:38:39.156710Z"
    },
    "papermill": {
     "duration": 0.032608,
     "end_time": "2022-11-30T01:38:39.158408",
     "exception": false,
     "start_time": "2022-11-30T01:38:39.125800",
     "status": "completed"
    },
    "tags": []
   },
   "outputs": [
    {
     "data": {
      "text/plain": [
       "PosixPath('/opt/data/projects/asthma-copd/results/gls_phenoplier/gene_corrs/aco/by_chr/gene_corrs-chr9.pkl')"
      ]
     },
     "metadata": {},
     "output_type": "display_data"
    }
   ],
   "source": [
    "output_dir = OUTPUT_DIR_BASE / \"by_chr\"\n",
    "output_dir.mkdir(exist_ok=True, parents=True)\n",
    "output_file = output_dir / f\"gene_corrs-chr{CHROMOSOME}.pkl\"\n",
    "display(output_file)"
   ]
  },
  {
   "cell_type": "code",
   "execution_count": 23,
   "id": "aa674fe4-6794-4eed-98fa-32b39d1d4ace",
   "metadata": {
    "execution": {
     "iopub.execute_input": "2022-11-30T01:38:39.180241Z",
     "iopub.status.busy": "2022-11-30T01:38:39.179897Z",
     "iopub.status.idle": "2022-11-30T01:38:39.199058Z",
     "shell.execute_reply": "2022-11-30T01:38:39.198569Z"
    },
    "papermill": {
     "duration": 0.03166,
     "end_time": "2022-11-30T01:38:39.200337",
     "exception": false,
     "start_time": "2022-11-30T01:38:39.168677",
     "status": "completed"
    },
    "tags": []
   },
   "outputs": [],
   "source": [
    "warnings.filterwarnings(\"error\")"
   ]
  },
  {
   "cell_type": "code",
   "execution_count": 24,
   "id": "44d5450b-3baf-43f1-9e2e-4b06f1a785f8",
   "metadata": {
    "execution": {
     "iopub.execute_input": "2022-11-30T01:38:39.221865Z",
     "iopub.status.busy": "2022-11-30T01:38:39.221401Z",
     "iopub.status.idle": "2022-11-30T01:38:39.241455Z",
     "shell.execute_reply": "2022-11-30T01:38:39.240944Z"
    },
    "papermill": {
     "duration": 0.031832,
     "end_time": "2022-11-30T01:38:39.242460",
     "exception": false,
     "start_time": "2022-11-30T01:38:39.210628",
     "status": "completed"
    },
    "tags": []
   },
   "outputs": [],
   "source": [
    "# standard checks\n",
    "all_chrs = genes_info[\"chr\"].dropna().unique()\n",
    "assert all_chrs.shape[0] == 22\n",
    "\n",
    "# select chromosome given by the user\n",
    "assert CHROMOSOME in all_chrs"
   ]
  },
  {
   "cell_type": "code",
   "execution_count": 25,
   "id": "2d7c043c-92a7-4d35-991b-fa69ac1e0268",
   "metadata": {
    "execution": {
     "iopub.execute_input": "2022-11-30T01:38:39.264583Z",
     "iopub.status.busy": "2022-11-30T01:38:39.264105Z",
     "iopub.status.idle": "2022-11-30T01:38:39.285387Z",
     "shell.execute_reply": "2022-11-30T01:38:39.284879Z"
    },
    "papermill": {
     "duration": 0.033362,
     "end_time": "2022-11-30T01:38:39.286585",
     "exception": false,
     "start_time": "2022-11-30T01:38:39.253223",
     "status": "completed"
    },
    "tags": []
   },
   "outputs": [
    {
     "name": "stdout",
     "output_type": "stream",
     "text": [
      "Number of genes in chromosome: 245\n"
     ]
    }
   ],
   "source": [
    "# run only on the chromosome specified\n",
    "all_chrs = [CHROMOSOME]\n",
    "genes_chr = genes_info[genes_info[\"chr\"] == CHROMOSOME]\n",
    "\n",
    "# For testing purposes\n",
    "# genes_chr = genes_chr.sample(n=20)\n",
    "\n",
    "print(f\"Number of genes in chromosome: {genes_chr.shape[0]}\", flush=True)"
   ]
  },
  {
   "cell_type": "code",
   "execution_count": 26,
   "id": "916015d8-2979-46d3-a9b9-1cf5a0932c6a",
   "metadata": {
    "execution": {
     "iopub.execute_input": "2022-11-30T01:38:39.307994Z",
     "iopub.status.busy": "2022-11-30T01:38:39.307529Z",
     "iopub.status.idle": "2022-11-30T01:38:39.327381Z",
     "shell.execute_reply": "2022-11-30T01:38:39.326863Z"
    },
    "papermill": {
     "duration": 0.031713,
     "end_time": "2022-11-30T01:38:39.328642",
     "exception": false,
     "start_time": "2022-11-30T01:38:39.296929",
     "status": "completed"
    },
    "tags": []
   },
   "outputs": [],
   "source": [
    "# sort genes by starting position to make visualizations better later\n",
    "genes_chr = genes_chr.sort_values(\"start_position\")"
   ]
  },
  {
   "cell_type": "code",
   "execution_count": 27,
   "id": "a38aa74a-8ad3-47f6-8ef9-56be0e011774",
   "metadata": {
    "execution": {
     "iopub.execute_input": "2022-11-30T01:38:39.349269Z",
     "iopub.status.busy": "2022-11-30T01:38:39.349023Z",
     "iopub.status.idle": "2022-11-30T01:38:39.369221Z",
     "shell.execute_reply": "2022-11-30T01:38:39.368641Z"
    },
    "papermill": {
     "duration": 0.031391,
     "end_time": "2022-11-30T01:38:39.370427",
     "exception": false,
     "start_time": "2022-11-30T01:38:39.339036",
     "status": "completed"
    },
    "tags": []
   },
   "outputs": [],
   "source": [
    "gene_chr_objs = [Gene(ensembl_id=gene_id) for gene_id in genes_chr[\"id\"]]"
   ]
  },
  {
   "cell_type": "code",
   "execution_count": 28,
   "id": "570f974f-13c3-42b6-ad3a-ce99ca885c1a",
   "metadata": {
    "execution": {
     "iopub.execute_input": "2022-11-30T01:38:39.392613Z",
     "iopub.status.busy": "2022-11-30T01:38:39.392163Z",
     "iopub.status.idle": "2022-11-30T01:38:39.412655Z",
     "shell.execute_reply": "2022-11-30T01:38:39.412119Z"
    },
    "papermill": {
     "duration": 0.033059,
     "end_time": "2022-11-30T01:38:39.413883",
     "exception": false,
     "start_time": "2022-11-30T01:38:39.380824",
     "status": "completed"
    },
    "tags": []
   },
   "outputs": [
    {
     "name": "stdout",
     "output_type": "stream",
     "text": [
      "Number of gene combinations: 30135\n"
     ]
    }
   ],
   "source": [
    "n = len(gene_chr_objs)\n",
    "# diagonal elements + upper triangular matrix\n",
    "n_comb = n + int(n * (n - 1) / 2.0)\n",
    "print(f\"Number of gene combinations: {n_comb}\", flush=True)"
   ]
  },
  {
   "cell_type": "code",
   "execution_count": 29,
   "id": "cdbb90a1",
   "metadata": {
    "execution": {
     "iopub.execute_input": "2022-11-30T01:38:39.434957Z",
     "iopub.status.busy": "2022-11-30T01:38:39.434500Z",
     "iopub.status.idle": "2022-11-30T02:00:13.939621Z",
     "shell.execute_reply": "2022-11-30T02:00:13.939067Z"
    },
    "papermill": {
     "duration": 1294.51675,
     "end_time": "2022-11-30T02:00:13.941060",
     "exception": false,
     "start_time": "2022-11-30T01:38:39.424310",
     "status": "completed"
    },
    "tags": []
   },
   "outputs": [
    {
     "name": "stderr",
     "output_type": "stream",
     "text": [
      "ENSG00000181090 / ENSG00000181090: 100%|██████████████████████| 30135/30135 [21:34<00:00, 23.28it/s]\n"
     ]
    },
    {
     "data": {
      "text/plain": [
       "PosixPath('/opt/data/projects/asthma-copd/results/gls_phenoplier/gene_corrs/aco/by_chr/gene_corrs-chr9.pkl')"
      ]
     },
     "metadata": {},
     "output_type": "display_data"
    }
   ],
   "source": [
    "gene_corrs = []\n",
    "gene_corrs_data = np.full(\n",
    "    (n, n),\n",
    "    np.nan,\n",
    "    dtype=np.float64,\n",
    ")\n",
    "\n",
    "i = 0\n",
    "with tqdm(ncols=100, total=n_comb) as pbar:\n",
    "    for gene1_idx in range(0, len(gene_chr_objs)):\n",
    "        gene1_obj = gene_chr_objs[gene1_idx]\n",
    "        gene1_tissues = spredixcan_genes_models.loc[gene1_obj.ensembl_id, \"tissue\"]\n",
    "\n",
    "        for gene2_idx in range(gene1_idx, len(gene_chr_objs)):\n",
    "            gene2_obj = gene_chr_objs[gene2_idx]\n",
    "            gene2_tissues = spredixcan_genes_models.loc[gene2_obj.ensembl_id, \"tissue\"]\n",
    "\n",
    "            pbar.set_description(f\"{gene1_obj.ensembl_id} / {gene2_obj.ensembl_id}\")\n",
    "\n",
    "            try:\n",
    "                r = gene1_obj.get_ssm_correlation(\n",
    "                    other_gene=gene2_obj,\n",
    "                    tissues=gene1_tissues,\n",
    "                    other_tissues=gene2_tissues,\n",
    "                    snps_subset=gwas_variants_ids_set,\n",
    "                    condition_number=SMULTIXCAN_CONDITION_NUMBER,\n",
    "                    reference_panel=REFERENCE_PANEL,\n",
    "                    model_type=EQTL_MODEL,\n",
    "                    use_within_distance=COMPUTE_CORRELATIONS_WITHIN_DISTANCE,\n",
    "                )\n",
    "\n",
    "                if r is None:\n",
    "                    # if r is None, it's very likely because:\n",
    "                    #  * one of the genes has no prediction models\n",
    "                    #  * all the SNPs predictors for the gene are not present in the reference\n",
    "                    #    panel\n",
    "\n",
    "                    r = 0.0\n",
    "\n",
    "                gene_corrs.append(r)\n",
    "\n",
    "                gene_corrs_data[gene1_idx, gene2_idx] = r\n",
    "                gene_corrs_data[gene2_idx, gene1_idx] = r\n",
    "            except Warning as e:\n",
    "                if not DEBUG_MODE:\n",
    "                    raise e\n",
    "\n",
    "                print(\n",
    "                    f\"RuntimeWarning for genes {gene1_obj.ensembl_id} and {gene2_obj.ensembl_id}\",\n",
    "                    flush=True,\n",
    "                )\n",
    "                print(traceback.format_exc(), flush=True)\n",
    "\n",
    "                gene_corrs.append(np.nan)\n",
    "            except Exception as e:\n",
    "                if not DEBUG_MODE:\n",
    "                    raise e\n",
    "\n",
    "                print(\n",
    "                    f\"Exception for genes {gene1_obj.ensembl_id} and {gene2_obj.ensembl_id}\",\n",
    "                    flush=True,\n",
    "                )\n",
    "                print(traceback.format_exc(), flush=True)\n",
    "\n",
    "                gene_corrs.append(np.nan)\n",
    "\n",
    "            pbar.update(1)\n",
    "\n",
    "# create a pandas series\n",
    "gene_corrs_flat = pd.Series(gene_corrs)\n",
    "\n",
    "# save\n",
    "# FIXME: consider saving only the condenced matrix here. See here for\n",
    "# more details: https://github.com/greenelab/phenoplier/pull/38#discussion_r634600813\n",
    "# gene_corrs_data = squareform(np.array(gene_corrs, dtype=np.float64))\n",
    "# np.fill_diagonal(gene_corrs_data, 1.0)\n",
    "\n",
    "gene_chr_ids = [g.ensembl_id for g in gene_chr_objs]\n",
    "gene_corrs_df = pd.DataFrame(\n",
    "    data=gene_corrs_data,\n",
    "    index=gene_chr_ids,\n",
    "    columns=gene_chr_ids,\n",
    ")\n",
    "\n",
    "output_dir.mkdir(exist_ok=True, parents=True)\n",
    "display(output_file)\n",
    "\n",
    "gene_corrs_df.to_pickle(output_file)"
   ]
  },
  {
   "cell_type": "markdown",
   "id": "faa67b51-5373-470f-aa72-2ded53fa6dfe",
   "metadata": {
    "papermill": {
     "duration": 1.222049,
     "end_time": "2022-11-30T02:00:16.367830",
     "exception": false,
     "start_time": "2022-11-30T02:00:15.145781",
     "status": "completed"
    },
    "tags": []
   },
   "source": [
    "# Testing"
   ]
  },
  {
   "cell_type": "code",
   "execution_count": 30,
   "id": "14f7d046-4b55-4896-a56b-990127bcc388",
   "metadata": {
    "execution": {
     "iopub.execute_input": "2022-11-30T02:00:18.751632Z",
     "iopub.status.busy": "2022-11-30T02:00:18.751222Z",
     "iopub.status.idle": "2022-11-30T02:00:18.770736Z",
     "shell.execute_reply": "2022-11-30T02:00:18.770187Z"
    },
    "papermill": {
     "duration": 1.237147,
     "end_time": "2022-11-30T02:00:18.771665",
     "exception": false,
     "start_time": "2022-11-30T02:00:17.534518",
     "status": "completed"
    },
    "tags": []
   },
   "outputs": [
    {
     "data": {
      "text/plain": [
       "(245, 245)"
      ]
     },
     "execution_count": 30,
     "metadata": {},
     "output_type": "execute_result"
    }
   ],
   "source": [
    "gene_corrs_df.shape"
   ]
  },
  {
   "cell_type": "code",
   "execution_count": 31,
   "id": "c7d15414-3297-4537-a7c6-7588c0baeb75",
   "metadata": {
    "execution": {
     "iopub.execute_input": "2022-11-30T02:00:21.157407Z",
     "iopub.status.busy": "2022-11-30T02:00:21.156931Z",
     "iopub.status.idle": "2022-11-30T02:00:21.202591Z",
     "shell.execute_reply": "2022-11-30T02:00:21.201939Z"
    },
    "papermill": {
     "duration": 1.2627,
     "end_time": "2022-11-30T02:00:21.203586",
     "exception": false,
     "start_time": "2022-11-30T02:00:19.940886",
     "status": "completed"
    },
    "tags": []
   },
   "outputs": [
    {
     "data": {
      "text/html": [
       "<div>\n",
       "<style scoped>\n",
       "    .dataframe tbody tr th:only-of-type {\n",
       "        vertical-align: middle;\n",
       "    }\n",
       "\n",
       "    .dataframe tbody tr th {\n",
       "        vertical-align: top;\n",
       "    }\n",
       "\n",
       "    .dataframe thead th {\n",
       "        text-align: right;\n",
       "    }\n",
       "</style>\n",
       "<table border=\"1\" class=\"dataframe\">\n",
       "  <thead>\n",
       "    <tr style=\"text-align: right;\">\n",
       "      <th></th>\n",
       "      <th>ENSG00000107099</th>\n",
       "      <th>ENSG00000080503</th>\n",
       "      <th>ENSG00000147852</th>\n",
       "      <th>ENSG00000107249</th>\n",
       "      <th>ENSG00000147853</th>\n",
       "      <th>ENSG00000096968</th>\n",
       "      <th>ENSG00000107014</th>\n",
       "      <th>ENSG00000120217</th>\n",
       "      <th>ENSG00000197646</th>\n",
       "      <th>ENSG00000178445</th>\n",
       "      <th>...</th>\n",
       "      <th>ENSG00000107317</th>\n",
       "      <th>ENSG00000169583</th>\n",
       "      <th>ENSG00000107331</th>\n",
       "      <th>ENSG00000054179</th>\n",
       "      <th>ENSG00000177239</th>\n",
       "      <th>ENSG00000176248</th>\n",
       "      <th>ENSG00000176101</th>\n",
       "      <th>ENSG00000188747</th>\n",
       "      <th>ENSG00000182154</th>\n",
       "      <th>ENSG00000181090</th>\n",
       "    </tr>\n",
       "  </thead>\n",
       "  <tbody>\n",
       "    <tr>\n",
       "      <th>ENSG00000107099</th>\n",
       "      <td>1.000000</td>\n",
       "      <td>0.004888</td>\n",
       "      <td>0.014346</td>\n",
       "      <td>0.011179</td>\n",
       "      <td>0.008516</td>\n",
       "      <td>0.010086</td>\n",
       "      <td>0.007350</td>\n",
       "      <td>0.010925</td>\n",
       "      <td>0.003667</td>\n",
       "      <td>0.007955</td>\n",
       "      <td>...</td>\n",
       "      <td>0.006178</td>\n",
       "      <td>0.004963</td>\n",
       "      <td>0.006625</td>\n",
       "      <td>0.010763</td>\n",
       "      <td>0.007247</td>\n",
       "      <td>0.006464</td>\n",
       "      <td>0.005777</td>\n",
       "      <td>0.012972</td>\n",
       "      <td>0.002313</td>\n",
       "      <td>0.003386</td>\n",
       "    </tr>\n",
       "    <tr>\n",
       "      <th>ENSG00000080503</th>\n",
       "      <td>0.004888</td>\n",
       "      <td>1.000000</td>\n",
       "      <td>0.013387</td>\n",
       "      <td>0.009019</td>\n",
       "      <td>0.008423</td>\n",
       "      <td>0.010715</td>\n",
       "      <td>0.006403</td>\n",
       "      <td>0.009085</td>\n",
       "      <td>0.005355</td>\n",
       "      <td>0.011907</td>\n",
       "      <td>...</td>\n",
       "      <td>0.007584</td>\n",
       "      <td>0.010396</td>\n",
       "      <td>0.007528</td>\n",
       "      <td>0.010023</td>\n",
       "      <td>0.007058</td>\n",
       "      <td>0.008733</td>\n",
       "      <td>0.008615</td>\n",
       "      <td>0.007522</td>\n",
       "      <td>0.004690</td>\n",
       "      <td>0.007634</td>\n",
       "    </tr>\n",
       "    <tr>\n",
       "      <th>ENSG00000147852</th>\n",
       "      <td>0.014346</td>\n",
       "      <td>0.013387</td>\n",
       "      <td>1.000000</td>\n",
       "      <td>0.013510</td>\n",
       "      <td>0.014940</td>\n",
       "      <td>0.019684</td>\n",
       "      <td>0.015293</td>\n",
       "      <td>0.019233</td>\n",
       "      <td>0.009658</td>\n",
       "      <td>0.014789</td>\n",
       "      <td>...</td>\n",
       "      <td>0.013755</td>\n",
       "      <td>0.014284</td>\n",
       "      <td>0.012455</td>\n",
       "      <td>0.021487</td>\n",
       "      <td>0.016526</td>\n",
       "      <td>0.011880</td>\n",
       "      <td>0.004817</td>\n",
       "      <td>0.012046</td>\n",
       "      <td>0.008420</td>\n",
       "      <td>0.012126</td>\n",
       "    </tr>\n",
       "    <tr>\n",
       "      <th>ENSG00000107249</th>\n",
       "      <td>0.011179</td>\n",
       "      <td>0.009019</td>\n",
       "      <td>0.013510</td>\n",
       "      <td>1.000000</td>\n",
       "      <td>0.013043</td>\n",
       "      <td>0.012821</td>\n",
       "      <td>0.009166</td>\n",
       "      <td>0.012765</td>\n",
       "      <td>0.004407</td>\n",
       "      <td>0.010986</td>\n",
       "      <td>...</td>\n",
       "      <td>0.011557</td>\n",
       "      <td>0.009929</td>\n",
       "      <td>0.008257</td>\n",
       "      <td>0.011060</td>\n",
       "      <td>0.011360</td>\n",
       "      <td>0.009262</td>\n",
       "      <td>0.004310</td>\n",
       "      <td>0.012206</td>\n",
       "      <td>0.004476</td>\n",
       "      <td>0.006118</td>\n",
       "    </tr>\n",
       "    <tr>\n",
       "      <th>ENSG00000147853</th>\n",
       "      <td>0.008516</td>\n",
       "      <td>0.008423</td>\n",
       "      <td>0.014940</td>\n",
       "      <td>0.013043</td>\n",
       "      <td>1.000000</td>\n",
       "      <td>0.035341</td>\n",
       "      <td>0.010092</td>\n",
       "      <td>0.014017</td>\n",
       "      <td>0.008673</td>\n",
       "      <td>0.014867</td>\n",
       "      <td>...</td>\n",
       "      <td>0.009733</td>\n",
       "      <td>0.010215</td>\n",
       "      <td>0.008240</td>\n",
       "      <td>0.006939</td>\n",
       "      <td>0.005548</td>\n",
       "      <td>0.004861</td>\n",
       "      <td>0.001863</td>\n",
       "      <td>0.006116</td>\n",
       "      <td>0.007484</td>\n",
       "      <td>0.007050</td>\n",
       "    </tr>\n",
       "  </tbody>\n",
       "</table>\n",
       "<p>5 rows × 245 columns</p>\n",
       "</div>"
      ],
      "text/plain": [
       "                 ENSG00000107099  ENSG00000080503  ENSG00000147852  \\\n",
       "ENSG00000107099         1.000000         0.004888         0.014346   \n",
       "ENSG00000080503         0.004888         1.000000         0.013387   \n",
       "ENSG00000147852         0.014346         0.013387         1.000000   \n",
       "ENSG00000107249         0.011179         0.009019         0.013510   \n",
       "ENSG00000147853         0.008516         0.008423         0.014940   \n",
       "\n",
       "                 ENSG00000107249  ENSG00000147853  ENSG00000096968  \\\n",
       "ENSG00000107099         0.011179         0.008516         0.010086   \n",
       "ENSG00000080503         0.009019         0.008423         0.010715   \n",
       "ENSG00000147852         0.013510         0.014940         0.019684   \n",
       "ENSG00000107249         1.000000         0.013043         0.012821   \n",
       "ENSG00000147853         0.013043         1.000000         0.035341   \n",
       "\n",
       "                 ENSG00000107014  ENSG00000120217  ENSG00000197646  \\\n",
       "ENSG00000107099         0.007350         0.010925         0.003667   \n",
       "ENSG00000080503         0.006403         0.009085         0.005355   \n",
       "ENSG00000147852         0.015293         0.019233         0.009658   \n",
       "ENSG00000107249         0.009166         0.012765         0.004407   \n",
       "ENSG00000147853         0.010092         0.014017         0.008673   \n",
       "\n",
       "                 ENSG00000178445  ...  ENSG00000107317  ENSG00000169583  \\\n",
       "ENSG00000107099         0.007955  ...         0.006178         0.004963   \n",
       "ENSG00000080503         0.011907  ...         0.007584         0.010396   \n",
       "ENSG00000147852         0.014789  ...         0.013755         0.014284   \n",
       "ENSG00000107249         0.010986  ...         0.011557         0.009929   \n",
       "ENSG00000147853         0.014867  ...         0.009733         0.010215   \n",
       "\n",
       "                 ENSG00000107331  ENSG00000054179  ENSG00000177239  \\\n",
       "ENSG00000107099         0.006625         0.010763         0.007247   \n",
       "ENSG00000080503         0.007528         0.010023         0.007058   \n",
       "ENSG00000147852         0.012455         0.021487         0.016526   \n",
       "ENSG00000107249         0.008257         0.011060         0.011360   \n",
       "ENSG00000147853         0.008240         0.006939         0.005548   \n",
       "\n",
       "                 ENSG00000176248  ENSG00000176101  ENSG00000188747  \\\n",
       "ENSG00000107099         0.006464         0.005777         0.012972   \n",
       "ENSG00000080503         0.008733         0.008615         0.007522   \n",
       "ENSG00000147852         0.011880         0.004817         0.012046   \n",
       "ENSG00000107249         0.009262         0.004310         0.012206   \n",
       "ENSG00000147853         0.004861         0.001863         0.006116   \n",
       "\n",
       "                 ENSG00000182154  ENSG00000181090  \n",
       "ENSG00000107099         0.002313         0.003386  \n",
       "ENSG00000080503         0.004690         0.007634  \n",
       "ENSG00000147852         0.008420         0.012126  \n",
       "ENSG00000107249         0.004476         0.006118  \n",
       "ENSG00000147853         0.007484         0.007050  \n",
       "\n",
       "[5 rows x 245 columns]"
      ]
     },
     "execution_count": 31,
     "metadata": {},
     "output_type": "execute_result"
    }
   ],
   "source": [
    "gene_corrs_df.head()"
   ]
  },
  {
   "cell_type": "markdown",
   "id": "dad6603f-01c6-41fb-a6f6-241051207dd8",
   "metadata": {
    "papermill": {
     "duration": 1.194498,
     "end_time": "2022-11-30T02:00:23.559053",
     "exception": false,
     "start_time": "2022-11-30T02:00:22.364555",
     "status": "completed"
    },
    "tags": []
   },
   "source": [
    "## Standard checks and stats"
   ]
  },
  {
   "cell_type": "code",
   "execution_count": 32,
   "id": "286686af-1b7b-4440-8453-6bdcbd8de19c",
   "metadata": {
    "execution": {
     "iopub.execute_input": "2022-11-30T02:00:25.897385Z",
     "iopub.status.busy": "2022-11-30T02:00:25.896964Z",
     "iopub.status.idle": "2022-11-30T02:00:25.920315Z",
     "shell.execute_reply": "2022-11-30T02:00:25.919661Z"
    },
    "papermill": {
     "duration": 1.172578,
     "end_time": "2022-11-30T02:00:25.921311",
     "exception": false,
     "start_time": "2022-11-30T02:00:24.748733",
     "status": "completed"
    },
    "tags": []
   },
   "outputs": [],
   "source": [
    "assert not gene_corrs_df.isna().any().any()"
   ]
  },
  {
   "cell_type": "code",
   "execution_count": 33,
   "id": "00583efc-7068-4270-ad1e-4a418e91db96",
   "metadata": {
    "execution": {
     "iopub.execute_input": "2022-11-30T02:00:28.250891Z",
     "iopub.status.busy": "2022-11-30T02:00:28.250471Z",
     "iopub.status.idle": "2022-11-30T02:00:28.275260Z",
     "shell.execute_reply": "2022-11-30T02:00:28.274654Z"
    },
    "papermill": {
     "duration": 1.221829,
     "end_time": "2022-11-30T02:00:28.276130",
     "exception": false,
     "start_time": "2022-11-30T02:00:27.054301",
     "status": "completed"
    },
    "tags": []
   },
   "outputs": [
    {
     "data": {
      "text/plain": [
       "1.1199333351451499e-07"
      ]
     },
     "metadata": {},
     "output_type": "display_data"
    }
   ],
   "source": [
    "_min_val = gene_corrs_df.min().min()\n",
    "display(_min_val)\n",
    "assert _min_val >= -0.05"
   ]
  },
  {
   "cell_type": "code",
   "execution_count": 34,
   "id": "d04fb2cf-1050-475b-b855-f5f7cc04092b",
   "metadata": {
    "execution": {
     "iopub.execute_input": "2022-11-30T02:00:30.617619Z",
     "iopub.status.busy": "2022-11-30T02:00:30.617217Z",
     "iopub.status.idle": "2022-11-30T02:00:30.641222Z",
     "shell.execute_reply": "2022-11-30T02:00:30.640699Z"
    },
    "papermill": {
     "duration": 1.170223,
     "end_time": "2022-11-30T02:00:30.642073",
     "exception": false,
     "start_time": "2022-11-30T02:00:29.471850",
     "status": "completed"
    },
    "tags": []
   },
   "outputs": [
    {
     "data": {
      "text/plain": [
       "1.0000000000000027"
      ]
     },
     "metadata": {},
     "output_type": "display_data"
    }
   ],
   "source": [
    "_max_val = gene_corrs_df.max().max()  # this captures the diagonal\n",
    "display(_max_val)\n",
    "assert _max_val <= 1.05"
   ]
  },
  {
   "cell_type": "code",
   "execution_count": 35,
   "id": "96d02c44-1fba-47be-8a93-8f2608420b9c",
   "metadata": {
    "execution": {
     "iopub.execute_input": "2022-11-30T02:00:32.984597Z",
     "iopub.status.busy": "2022-11-30T02:00:32.984025Z",
     "iopub.status.idle": "2022-11-30T02:00:33.005707Z",
     "shell.execute_reply": "2022-11-30T02:00:33.005133Z"
    },
    "papermill": {
     "duration": 1.212511,
     "end_time": "2022-11-30T02:00:33.006550",
     "exception": false,
     "start_time": "2022-11-30T02:00:31.794039",
     "status": "completed"
    },
    "tags": []
   },
   "outputs": [],
   "source": [
    "# check upper triangular values\n",
    "# assert len(gene_corrs) == int(genes_chr.shape[0] * (genes_chr.shape[0] - 1) / 2)"
   ]
  },
  {
   "cell_type": "code",
   "execution_count": 36,
   "id": "fe283586-c348-40e0-8841-f6d97bfb021c",
   "metadata": {
    "execution": {
     "iopub.execute_input": "2022-11-30T02:00:35.336351Z",
     "iopub.status.busy": "2022-11-30T02:00:35.335792Z",
     "iopub.status.idle": "2022-11-30T02:00:35.362955Z",
     "shell.execute_reply": "2022-11-30T02:00:35.362441Z"
    },
    "papermill": {
     "duration": 1.170232,
     "end_time": "2022-11-30T02:00:35.363807",
     "exception": false,
     "start_time": "2022-11-30T02:00:34.193575",
     "status": "completed"
    },
    "tags": []
   },
   "outputs": [
    {
     "data": {
      "text/plain": [
       "count    3.013500e+04\n",
       "mean     1.640568e-02\n",
       "std      9.326205e-02\n",
       "min      1.119933e-07\n",
       "25%      3.805554e-03\n",
       "50%      5.938505e-03\n",
       "75%      8.366263e-03\n",
       "max      1.000000e+00\n",
       "dtype: float64"
      ]
     },
     "execution_count": 36,
     "metadata": {},
     "output_type": "execute_result"
    }
   ],
   "source": [
    "gene_corrs_flat.describe()"
   ]
  },
  {
   "cell_type": "code",
   "execution_count": 37,
   "id": "b3815678-0f93-4b35-897b-a9d047a2aa78",
   "metadata": {
    "execution": {
     "iopub.execute_input": "2022-11-30T02:00:37.708661Z",
     "iopub.status.busy": "2022-11-30T02:00:37.708036Z",
     "iopub.status.idle": "2022-11-30T02:00:37.736048Z",
     "shell.execute_reply": "2022-11-30T02:00:37.735464Z"
    },
    "papermill": {
     "duration": 1.183262,
     "end_time": "2022-11-30T02:00:37.736965",
     "exception": false,
     "start_time": "2022-11-30T02:00:36.553703",
     "status": "completed"
    },
    "tags": []
   },
   "outputs": [
    {
     "data": {
      "text/plain": [
       "0.00    1.119933e-07\n",
       "0.05    1.456255e-03\n",
       "0.10    2.207781e-03\n",
       "0.15    2.814979e-03\n",
       "0.20    3.326132e-03\n",
       "0.25    3.805554e-03\n",
       "0.30    4.254302e-03\n",
       "0.35    4.677781e-03\n",
       "0.40    5.108077e-03\n",
       "0.45    5.509130e-03\n",
       "0.50    5.938505e-03\n",
       "0.55    6.354197e-03\n",
       "0.60    6.782218e-03\n",
       "0.65    7.253373e-03\n",
       "0.70    7.779490e-03\n",
       "0.75    8.366263e-03\n",
       "0.80    9.035712e-03\n",
       "0.85    9.878684e-03\n",
       "0.90    1.092410e-02\n",
       "0.95    1.300690e-02\n",
       "dtype: float64"
      ]
     },
     "metadata": {},
     "output_type": "display_data"
    }
   ],
   "source": [
    "gene_corrs_quantiles = gene_corrs_flat.quantile(np.arange(0, 1, 0.05))\n",
    "display(gene_corrs_quantiles)"
   ]
  },
  {
   "cell_type": "markdown",
   "id": "87134509-b145-4a10-8bc9-b7e914c2b0fa",
   "metadata": {
    "papermill": {
     "duration": 1.172802,
     "end_time": "2022-11-30T02:00:40.122438",
     "exception": false,
     "start_time": "2022-11-30T02:00:38.949636",
     "status": "completed"
    },
    "tags": []
   },
   "source": [
    "## Positive definiteness"
   ]
  },
  {
   "cell_type": "code",
   "execution_count": 38,
   "id": "07d9a9a1-a4f7-48aa-b916-6d42a8cc6186",
   "metadata": {
    "execution": {
     "iopub.execute_input": "2022-11-30T02:00:42.523022Z",
     "iopub.status.busy": "2022-11-30T02:00:42.522527Z",
     "iopub.status.idle": "2022-11-30T02:00:42.569152Z",
     "shell.execute_reply": "2022-11-30T02:00:42.568651Z"
    },
    "papermill": {
     "duration": 1.212867,
     "end_time": "2022-11-30T02:00:42.570037",
     "exception": false,
     "start_time": "2022-11-30T02:00:41.357170",
     "status": "completed"
    },
    "tags": []
   },
   "outputs": [
    {
     "data": {
      "text/plain": [
       "0"
      ]
     },
     "metadata": {},
     "output_type": "display_data"
    },
    {
     "data": {
      "text/plain": [
       "array([], dtype=float64)"
      ]
     },
     "metadata": {},
     "output_type": "display_data"
    }
   ],
   "source": [
    "# print negative eigenvalues\n",
    "eigs = np.linalg.eigvals(gene_corrs_df.to_numpy())\n",
    "display(len(eigs[eigs < 0]))\n",
    "display(eigs[eigs < 0])"
   ]
  },
  {
   "cell_type": "code",
   "execution_count": 39,
   "id": "6e218436-c3c5-4028-8c94-a4fa6260efce",
   "metadata": {
    "execution": {
     "iopub.execute_input": "2022-11-30T02:00:45.158627Z",
     "iopub.status.busy": "2022-11-30T02:00:45.158293Z",
     "iopub.status.idle": "2022-11-30T02:00:45.189833Z",
     "shell.execute_reply": "2022-11-30T02:00:45.189150Z"
    },
    "papermill": {
     "duration": 1.333651,
     "end_time": "2022-11-30T02:00:45.190804",
     "exception": false,
     "start_time": "2022-11-30T02:00:43.857153",
     "status": "completed"
    },
    "tags": []
   },
   "outputs": [
    {
     "name": "stdout",
     "output_type": "stream",
     "text": [
      "Works!\n"
     ]
    }
   ],
   "source": [
    "try:\n",
    "    chol_mat = np.linalg.cholesky(gene_corrs_df.to_numpy())\n",
    "    cov_inv = np.linalg.inv(chol_mat)\n",
    "    print(\"Works!\")\n",
    "except Exception as e:\n",
    "    print(f\"Cholesky decomposition failed: {str(e)}\")"
   ]
  },
  {
   "cell_type": "code",
   "execution_count": 40,
   "id": "dd8827fb-faf9-4c7c-9454-015e94752706",
   "metadata": {
    "execution": {
     "iopub.execute_input": "2022-11-30T02:00:47.626370Z",
     "iopub.status.busy": "2022-11-30T02:00:47.625849Z",
     "iopub.status.idle": "2022-11-30T02:00:47.653257Z",
     "shell.execute_reply": "2022-11-30T02:00:47.652690Z"
    },
    "papermill": {
     "duration": 1.242545,
     "end_time": "2022-11-30T02:00:47.654209",
     "exception": false,
     "start_time": "2022-11-30T02:00:46.411664",
     "status": "completed"
    },
    "tags": []
   },
   "outputs": [
    {
     "name": "stdout",
     "output_type": "stream",
     "text": [
      "Works!\n"
     ]
    }
   ],
   "source": [
    "try:\n",
    "    # decomposition used by statsmodels.GLS\n",
    "    cholsigmainv = np.linalg.cholesky(np.linalg.inv(gene_corrs_df.to_numpy())).T\n",
    "    print(\"Works!\")\n",
    "except Exception as e:\n",
    "    print(f\"Cholesky decomposition failed (statsmodels.GLS): {str(e)}\")"
   ]
  },
  {
   "cell_type": "markdown",
   "id": "8e60a080-edb2-4e9c-b2ef-22961693200c",
   "metadata": {
    "papermill": {
     "duration": 1.195212,
     "end_time": "2022-11-30T02:00:50.032099",
     "exception": false,
     "start_time": "2022-11-30T02:00:48.836887",
     "status": "completed"
    },
    "tags": []
   },
   "source": [
    "## Plot: distribution"
   ]
  },
  {
   "cell_type": "code",
   "execution_count": 41,
   "id": "8301126b-a7d4-4744-9c7d-f0f86eb6f54c",
   "metadata": {
    "execution": {
     "iopub.execute_input": "2022-11-30T02:00:52.299322Z",
     "iopub.status.busy": "2022-11-30T02:00:52.298951Z",
     "iopub.status.idle": "2022-11-30T02:00:57.836521Z",
     "shell.execute_reply": "2022-11-30T02:00:57.835992Z"
    },
    "papermill": {
     "duration": 6.660548,
     "end_time": "2022-11-30T02:00:57.837760",
     "exception": false,
     "start_time": "2022-11-30T02:00:51.177212",
     "status": "completed"
    },
    "tags": []
   },
   "outputs": [
    {
     "data": {
      "image/png": "[encoded data removed]",
      "text/plain": [
       "<Figure size 700x700 with 1 Axes>"
      ]
     },
     "metadata": {},
     "output_type": "display_data"
    }
   ],
   "source": [
    "with sns.plotting_context(\"paper\", font_scale=1.5):\n",
    "    g = sns.displot(gene_corrs_flat, kde=True, height=7)\n",
    "    g.ax.set_title(\n",
    "        f\"Distribution of gene correlation values in chromosome {CHROMOSOME}\"\n",
    "    )"
   ]
  },
  {
   "cell_type": "markdown",
   "id": "cbd52bca-d878-4a2f-b684-5c83aa3038d4",
   "metadata": {
    "papermill": {
     "duration": 1.128685,
     "end_time": "2022-11-30T02:01:00.229312",
     "exception": false,
     "start_time": "2022-11-30T02:00:59.100627",
     "status": "completed"
    },
    "tags": []
   },
   "source": [
    "## Plot: heatmap"
   ]
  },
  {
   "cell_type": "code",
   "execution_count": 42,
   "id": "d03fe63a-c7b2-4fb9-a53c-db362ce843c9",
   "metadata": {
    "execution": {
     "iopub.execute_input": "2022-11-30T02:01:02.591617Z",
     "iopub.status.busy": "2022-11-30T02:01:02.590989Z",
     "iopub.status.idle": "2022-11-30T02:01:02.614964Z",
     "shell.execute_reply": "2022-11-30T02:01:02.614440Z"
    },
    "papermill": {
     "duration": 1.210717,
     "end_time": "2022-11-30T02:01:02.615841",
     "exception": false,
     "start_time": "2022-11-30T02:01:01.405124",
     "status": "completed"
    },
    "tags": []
   },
   "outputs": [
    {
     "data": {
      "text/plain": [
       "'0.0 / 0.05'"
      ]
     },
     "metadata": {},
     "output_type": "display_data"
    }
   ],
   "source": [
    "vmin_val = min(0.00, gene_corrs_quantiles[0.10])\n",
    "vmax_val = max(0.05, gene_corrs_quantiles[0.90])\n",
    "display(f\"{vmin_val} / {vmax_val}\")"
   ]
  },
  {
   "cell_type": "code",
   "execution_count": 43,
   "id": "dc41b70b-5bcc-4d9e-9f33-a22c4a94dab5",
   "metadata": {
    "execution": {
     "iopub.execute_input": "2022-11-30T02:01:04.966884Z",
     "iopub.status.busy": "2022-11-30T02:01:04.966336Z",
     "iopub.status.idle": "2022-11-30T02:01:05.194444Z",
     "shell.execute_reply": "2022-11-30T02:01:05.193900Z"
    },
    "papermill": {
     "duration": 1.436522,
     "end_time": "2022-11-30T02:01:05.196877",
     "exception": false,
     "start_time": "2022-11-30T02:01:03.760355",
     "status": "completed"
    },
    "tags": []
   },
   "outputs": [
    {
     "data": {
      "text/plain": [
       "Text(0.5, 1.0, 'Gene correlations in chromosome 9')"
      ]
     },
     "execution_count": 43,
     "metadata": {},
     "output_type": "execute_result"
    },
    {
     "data": {
      "image/png": "[encoded data removed]",
      "text/plain": [
       "<Figure size 1000x1000 with 2 Axes>"
      ]
     },
     "metadata": {},
     "output_type": "display_data"
    }
   ],
   "source": [
    "f, ax = plt.subplots(figsize=(10, 10))\n",
    "sns.heatmap(\n",
    "    gene_corrs_df,\n",
    "    xticklabels=False,\n",
    "    yticklabels=False,\n",
    "    square=True,\n",
    "    vmin=vmin_val,\n",
    "    vmax=vmax_val,\n",
    "    cmap=\"rocket_r\",\n",
    "    ax=ax,\n",
    ")\n",
    "ax.set_title(f\"Gene correlations in chromosome {CHROMOSOME}\")"
   ]
  },
  {
   "cell_type": "code",
   "execution_count": null,
   "id": "b25e3ead",
   "metadata": {
    "papermill": {
     "duration": 1.206733,
     "end_time": "2022-11-30T02:01:07.697888",
     "exception": false,
     "start_time": "2022-11-30T02:01:06.491155",
     "status": "completed"
    },
    "tags": []
   },
   "outputs": [],
   "source": []
  }
 ],
 "metadata": {
  "jupytext": {
   "cell_metadata_filter": "all,-execution,-papermill,-trusted",
   "formats": "ipynb,py//py:percent"
  },
  "kernelspec": {
   "display_name": "Python 3 (ipykernel)",
   "language": "python",
   "name": "python3"
  },
  "language_info": {
   "codemirror_mode": {
    "name": "ipython",
    "version": 3
   },
   "file_extension": ".py",
   "mimetype": "text/x-python",
   "name": "python",
   "nbconvert_exporter": "python",
   "pygments_lexer": "ipython3",
   "version": "3.10.6"
  },
  "papermill": {
   "default_parameters": {},
   "duration": 1358.802344,
   "end_time": "2022-11-30T02:01:12.154521",
   "environment_variables": {},
   "exception": null,
   "input_path": "projects/asthma-copd/nbs/20_gene_corrs/10-gene_expr_correlations.ipynb",
   "output_path": "projects/asthma-copd/nbs/20_gene_corrs/gene_corrs/aco/10-gene_expr_correlations-chr9.run.ipynb",
   "parameters": {
    "CHROMOSOME": 9,
    "COHORT_NAME": "aco",
    "OUTPUT_DIR_BASE": "/opt/data/projects/asthma-copd/results/gls_phenoplier"
   },
   "start_time": "2022-11-30T01:38:33.352177",
   "version": "2.2.2"
  }
 },
 "nbformat": 4,
 "nbformat_minor": 5
}
