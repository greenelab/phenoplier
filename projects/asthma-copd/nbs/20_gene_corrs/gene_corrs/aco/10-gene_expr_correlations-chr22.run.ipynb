{
 "cells": [
  {
   "cell_type": "markdown",
   "id": "7a6632fb",
   "metadata": {
    "papermill": {
     "duration": 0.009034,
     "end_time": "2022-11-30T02:15:54.619333",
     "exception": false,
     "start_time": "2022-11-30T02:15:54.610299",
     "status": "completed"
    },
    "tags": []
   },
   "source": [
    "# Description"
   ]
  },
  {
   "cell_type": "markdown",
   "id": "7097c346",
   "metadata": {
    "papermill": {
     "duration": 0.008174,
     "end_time": "2022-11-30T02:15:54.636906",
     "exception": false,
     "start_time": "2022-11-30T02:15:54.628732",
     "status": "completed"
    },
    "tags": []
   },
   "source": [
    "(Please, take a look at the README.md file in this directory for instructions on how to run this notebook)\n",
    "\n",
    "This notebook computes predicted expression correlations between all genes in the MultiPLIER models.\n",
    "\n",
    "It has specicfic parameters for papermill (see under `Settings` below).\n",
    "It can be configured to run on a single chromosome to run in parallel.\n",
    "\n",
    "This notebook is not directly run. See README.md."
   ]
  },
  {
   "cell_type": "markdown",
   "id": "c61d8427",
   "metadata": {
    "papermill": {
     "duration": 0.008118,
     "end_time": "2022-11-30T02:15:54.653248",
     "exception": false,
     "start_time": "2022-11-30T02:15:54.645130",
     "status": "completed"
    },
    "tags": []
   },
   "source": [
    "# Modules"
   ]
  },
  {
   "cell_type": "code",
   "execution_count": 1,
   "id": "bbc0234f",
   "metadata": {
    "execution": {
     "iopub.execute_input": "2022-11-30T02:15:54.672670Z",
     "iopub.status.busy": "2022-11-30T02:15:54.672043Z",
     "iopub.status.idle": "2022-11-30T02:15:54.690699Z",
     "shell.execute_reply": "2022-11-30T02:15:54.690048Z"
    },
    "papermill": {
     "duration": 0.029724,
     "end_time": "2022-11-30T02:15:54.692403",
     "exception": false,
     "start_time": "2022-11-30T02:15:54.662679",
     "status": "completed"
    },
    "tags": []
   },
   "outputs": [],
   "source": [
    "%load_ext autoreload\n",
    "%autoreload 2"
   ]
  },
  {
   "cell_type": "code",
   "execution_count": 2,
   "id": "1d5f5a59",
   "metadata": {
    "execution": {
     "iopub.execute_input": "2022-11-30T02:15:54.710270Z",
     "iopub.status.busy": "2022-11-30T02:15:54.709810Z",
     "iopub.status.idle": "2022-11-30T02:15:55.392926Z",
     "shell.execute_reply": "2022-11-30T02:15:55.392461Z"
    },
    "papermill": {
     "duration": 0.693766,
     "end_time": "2022-11-30T02:15:55.394640",
     "exception": false,
     "start_time": "2022-11-30T02:15:54.700874",
     "status": "completed"
    },
    "tags": []
   },
   "outputs": [],
   "source": [
    "from random import sample, seed\n",
    "import warnings\n",
    "from pathlib import Path\n",
    "import pickle\n",
    "import traceback\n",
    "\n",
    "import numpy as np\n",
    "from scipy.spatial.distance import squareform\n",
    "import pandas as pd\n",
    "from tqdm import tqdm\n",
    "import matplotlib.pyplot as plt\n",
    "import seaborn as sns\n",
    "\n",
    "import conf\n",
    "from entity import Gene"
   ]
  },
  {
   "cell_type": "markdown",
   "id": "1eac24b5",
   "metadata": {
    "papermill": {
     "duration": 0.010294,
     "end_time": "2022-11-30T02:15:55.413574",
     "exception": false,
     "start_time": "2022-11-30T02:15:55.403280",
     "status": "completed"
    },
    "tags": []
   },
   "source": [
    "# Settings"
   ]
  },
  {
   "cell_type": "code",
   "execution_count": 3,
   "id": "ca4560ba",
   "metadata": {
    "execution": {
     "iopub.execute_input": "2022-11-30T02:15:55.430968Z",
     "iopub.status.busy": "2022-11-30T02:15:55.430778Z",
     "iopub.status.idle": "2022-11-30T02:15:55.444173Z",
     "shell.execute_reply": "2022-11-30T02:15:55.443770Z"
    },
    "papermill": {
     "duration": 0.023807,
     "end_time": "2022-11-30T02:15:55.445706",
     "exception": false,
     "start_time": "2022-11-30T02:15:55.421899",
     "status": "completed"
    },
    "tags": [
     "parameters"
    ]
   },
   "outputs": [],
   "source": [
    "# a cohort name (it could be something like UK_BIOBANK, etc)\n",
    "COHORT_NAME = None\n",
    "\n",
    "# reference panel such as 1000G or GTEX_V8\n",
    "REFERENCE_PANEL = \"GTEX_V8\"\n",
    "\n",
    "# predictions models such as MASHR or ELASTIC_NET\n",
    "EQTL_MODEL = \"MASHR\"\n",
    "\n",
    "# this is the default value used in S-MultiXcan to select the\n",
    "# top principal components of the expression correlation matrix\n",
    "SMULTIXCAN_CONDITION_NUMBER = 30\n",
    "\n",
    "# specifies a single chromosome value\n",
    "CHROMOSOME = None\n",
    "\n",
    "# If True, computes the correlation between closeby genes only;\n",
    "# otherwise, it computes correlations for all genes in a chromosome\n",
    "COMPUTE_CORRELATIONS_WITHIN_DISTANCE = False\n",
    "\n",
    "# if True, then it will continue if a gene pair correlation fails,\n",
    "# printing the warning/error for debugging. If False, any warning/error\n",
    "# will be thrown\n",
    "DEBUG_MODE = False\n",
    "\n",
    "# output dir\n",
    "OUTPUT_DIR_BASE = None"
   ]
  },
  {
   "cell_type": "code",
   "execution_count": 4,
   "id": "8e19f71e",
   "metadata": {
    "execution": {
     "iopub.execute_input": "2022-11-30T02:15:55.463448Z",
     "iopub.status.busy": "2022-11-30T02:15:55.463317Z",
     "iopub.status.idle": "2022-11-30T02:15:55.475976Z",
     "shell.execute_reply": "2022-11-30T02:15:55.475580Z"
    },
    "papermill": {
     "duration": 0.023108,
     "end_time": "2022-11-30T02:15:55.477482",
     "exception": false,
     "start_time": "2022-11-30T02:15:55.454374",
     "status": "completed"
    },
    "tags": [
     "injected-parameters"
    ]
   },
   "outputs": [],
   "source": [
    "# Parameters\n",
    "COHORT_NAME = \"aco\"\n",
    "CHROMOSOME = 22\n",
    "OUTPUT_DIR_BASE = \"/opt/data/projects/asthma-copd/results/gls_phenoplier\"\n"
   ]
  },
  {
   "cell_type": "code",
   "execution_count": 5,
   "id": "3190631f-27fc-480f-b18e-571d580425a5",
   "metadata": {
    "execution": {
     "iopub.execute_input": "2022-11-30T02:15:55.496269Z",
     "iopub.status.busy": "2022-11-30T02:15:55.495826Z",
     "iopub.status.idle": "2022-11-30T02:15:55.524065Z",
     "shell.execute_reply": "2022-11-30T02:15:55.523358Z"
    },
    "papermill": {
     "duration": 0.039061,
     "end_time": "2022-11-30T02:15:55.525658",
     "exception": false,
     "start_time": "2022-11-30T02:15:55.486597",
     "status": "completed"
    },
    "tags": []
   },
   "outputs": [
    {
     "data": {
      "text/plain": [
       "'Cohort name: aco'"
      ]
     },
     "metadata": {},
     "output_type": "display_data"
    }
   ],
   "source": [
    "assert COHORT_NAME is not None and len(COHORT_NAME) > 0, \"A cohort name must be given\"\n",
    "\n",
    "COHORT_NAME = COHORT_NAME.lower()\n",
    "display(f\"Cohort name: {COHORT_NAME}\")"
   ]
  },
  {
   "cell_type": "code",
   "execution_count": 6,
   "id": "f53ba19b-0f93-4fa2-a047-63b375939d1a",
   "metadata": {
    "execution": {
     "iopub.execute_input": "2022-11-30T02:15:55.544164Z",
     "iopub.status.busy": "2022-11-30T02:15:55.543829Z",
     "iopub.status.idle": "2022-11-30T02:15:55.566616Z",
     "shell.execute_reply": "2022-11-30T02:15:55.566029Z"
    },
    "papermill": {
     "duration": 0.033463,
     "end_time": "2022-11-30T02:15:55.568107",
     "exception": false,
     "start_time": "2022-11-30T02:15:55.534644",
     "status": "completed"
    },
    "tags": []
   },
   "outputs": [
    {
     "data": {
      "text/plain": [
       "'Reference panel: GTEX_V8'"
      ]
     },
     "metadata": {},
     "output_type": "display_data"
    }
   ],
   "source": [
    "assert (\n",
    "    REFERENCE_PANEL is not None and len(REFERENCE_PANEL) > 0\n",
    "), \"A reference panel must be given\"\n",
    "\n",
    "display(f\"Reference panel: {REFERENCE_PANEL}\")"
   ]
  },
  {
   "cell_type": "code",
   "execution_count": 7,
   "id": "e024d130-c139-429a-9c6e-ccf149e297b0",
   "metadata": {
    "execution": {
     "iopub.execute_input": "2022-11-30T02:15:55.587184Z",
     "iopub.status.busy": "2022-11-30T02:15:55.586841Z",
     "iopub.status.idle": "2022-11-30T02:15:55.609949Z",
     "shell.execute_reply": "2022-11-30T02:15:55.609333Z"
    },
    "papermill": {
     "duration": 0.034457,
     "end_time": "2022-11-30T02:15:55.611459",
     "exception": false,
     "start_time": "2022-11-30T02:15:55.577002",
     "status": "completed"
    },
    "tags": []
   },
   "outputs": [
    {
     "data": {
      "text/plain": [
       "'eQTL model: MASHR) / mashr_'"
      ]
     },
     "metadata": {},
     "output_type": "display_data"
    }
   ],
   "source": [
    "assert (\n",
    "    EQTL_MODEL is not None and len(EQTL_MODEL) > 0\n",
    "), \"A prediction/eQTL model must be given\"\n",
    "\n",
    "EQTL_MODEL_FILES_PREFIX = conf.PHENOMEXCAN[\"PREDICTION_MODELS\"][f\"{EQTL_MODEL}_PREFIX\"]\n",
    "display(f\"eQTL model: {EQTL_MODEL}) / {EQTL_MODEL_FILES_PREFIX}\")"
   ]
  },
  {
   "cell_type": "code",
   "execution_count": 8,
   "id": "552a7f63-a18c-4d3e-bb6a-94f99b431291",
   "metadata": {
    "execution": {
     "iopub.execute_input": "2022-11-30T02:15:55.630308Z",
     "iopub.status.busy": "2022-11-30T02:15:55.629978Z",
     "iopub.status.idle": "2022-11-30T02:15:55.652356Z",
     "shell.execute_reply": "2022-11-30T02:15:55.651782Z"
    },
    "papermill": {
     "duration": 0.033403,
     "end_time": "2022-11-30T02:15:55.653928",
     "exception": false,
     "start_time": "2022-11-30T02:15:55.620525",
     "status": "completed"
    },
    "tags": []
   },
   "outputs": [
    {
     "data": {
      "text/plain": [
       "'S-MultiXcan condition number: 30'"
      ]
     },
     "metadata": {},
     "output_type": "display_data"
    }
   ],
   "source": [
    "assert (\n",
    "    SMULTIXCAN_CONDITION_NUMBER is not None and SMULTIXCAN_CONDITION_NUMBER > 0\n",
    "), \"The S-MultiXcan condition number (positive integer) must be given\"\n",
    "\n",
    "display(f\"S-MultiXcan condition number: {SMULTIXCAN_CONDITION_NUMBER}\")"
   ]
  },
  {
   "cell_type": "code",
   "execution_count": 9,
   "id": "f34a336f-548e-4afe-8955-90eaea4f42c6",
   "metadata": {
    "execution": {
     "iopub.execute_input": "2022-11-30T02:15:55.673534Z",
     "iopub.status.busy": "2022-11-30T02:15:55.673178Z",
     "iopub.status.idle": "2022-11-30T02:15:55.696071Z",
     "shell.execute_reply": "2022-11-30T02:15:55.695485Z"
    },
    "papermill": {
     "duration": 0.034546,
     "end_time": "2022-11-30T02:15:55.697572",
     "exception": false,
     "start_time": "2022-11-30T02:15:55.663026",
     "status": "completed"
    },
    "tags": []
   },
   "outputs": [
    {
     "data": {
      "text/plain": [
       "'Working on chromosome 22'"
      ]
     },
     "metadata": {},
     "output_type": "display_data"
    }
   ],
   "source": [
    "assert CHROMOSOME is not None and (\n",
    "    1 <= CHROMOSOME <= 22\n",
    "), \"You have to select one chromosome (format: number between 1 and 22)\"\n",
    "\n",
    "# CHROMOSOME = str(CHROMOSOME)\n",
    "display(f\"Working on chromosome {CHROMOSOME}\")"
   ]
  },
  {
   "cell_type": "code",
   "execution_count": 10,
   "id": "ab8e96e8-06b5-4363-9dcd-dc4d78cc27f7",
   "metadata": {
    "execution": {
     "iopub.execute_input": "2022-11-30T02:15:55.717010Z",
     "iopub.status.busy": "2022-11-30T02:15:55.716574Z",
     "iopub.status.idle": "2022-11-30T02:15:55.739091Z",
     "shell.execute_reply": "2022-11-30T02:15:55.738467Z"
    },
    "papermill": {
     "duration": 0.033813,
     "end_time": "2022-11-30T02:15:55.740591",
     "exception": false,
     "start_time": "2022-11-30T02:15:55.706778",
     "status": "completed"
    },
    "tags": []
   },
   "outputs": [
    {
     "data": {
      "text/plain": [
       "'Compute correlation within distance False'"
      ]
     },
     "metadata": {},
     "output_type": "display_data"
    }
   ],
   "source": [
    "display(f\"Compute correlation within distance {COMPUTE_CORRELATIONS_WITHIN_DISTANCE}\")"
   ]
  },
  {
   "cell_type": "code",
   "execution_count": 11,
   "id": "b393b698-77e3-4ba2-8ac1-e14d51aa988f",
   "metadata": {
    "execution": {
     "iopub.execute_input": "2022-11-30T02:15:55.760419Z",
     "iopub.status.busy": "2022-11-30T02:15:55.759962Z",
     "iopub.status.idle": "2022-11-30T02:15:55.783427Z",
     "shell.execute_reply": "2022-11-30T02:15:55.782818Z"
    },
    "papermill": {
     "duration": 0.034942,
     "end_time": "2022-11-30T02:15:55.784928",
     "exception": false,
     "start_time": "2022-11-30T02:15:55.749986",
     "status": "completed"
    },
    "tags": []
   },
   "outputs": [
    {
     "data": {
      "text/plain": [
       "'Using output dir base: /opt/data/projects/asthma-copd/results/gls_phenoplier/gene_corrs/aco'"
      ]
     },
     "metadata": {},
     "output_type": "display_data"
    }
   ],
   "source": [
    "assert (\n",
    "    OUTPUT_DIR_BASE is not None and len(OUTPUT_DIR_BASE) > 0\n",
    "), \"Output directory path must be given\"\n",
    "\n",
    "OUTPUT_DIR_BASE = (\n",
    "    Path(OUTPUT_DIR_BASE)\n",
    "    / \"gene_corrs\"\n",
    "    / COHORT_NAME\n",
    "    # / REFERENCE_PANEL.lower()\n",
    "    # / EQTL_MODEL.lower()\n",
    ").resolve()\n",
    "\n",
    "OUTPUT_DIR_BASE.mkdir(parents=True, exist_ok=True)\n",
    "\n",
    "display(f\"Using output dir base: {OUTPUT_DIR_BASE}\")"
   ]
  },
  {
   "cell_type": "markdown",
   "id": "d2ba085e",
   "metadata": {
    "papermill": {
     "duration": 0.009232,
     "end_time": "2022-11-30T02:15:55.804439",
     "exception": false,
     "start_time": "2022-11-30T02:15:55.795207",
     "status": "completed"
    },
    "tags": []
   },
   "source": [
    "# Load data"
   ]
  },
  {
   "cell_type": "markdown",
   "id": "7dcb8db7",
   "metadata": {
    "papermill": {
     "duration": 0.009101,
     "end_time": "2022-11-30T02:15:55.822805",
     "exception": false,
     "start_time": "2022-11-30T02:15:55.813704",
     "status": "completed"
    },
    "tags": []
   },
   "source": [
    "## GWAS variants"
   ]
  },
  {
   "cell_type": "code",
   "execution_count": 12,
   "id": "29434c4e-8cd3-4b9b-82e4-b5a251d9dd19",
   "metadata": {
    "execution": {
     "iopub.execute_input": "2022-11-30T02:15:55.841749Z",
     "iopub.status.busy": "2022-11-30T02:15:55.841411Z",
     "iopub.status.idle": "2022-11-30T02:15:57.919449Z",
     "shell.execute_reply": "2022-11-30T02:15:57.919002Z"
    },
    "papermill": {
     "duration": 2.089133,
     "end_time": "2022-11-30T02:15:57.921173",
     "exception": false,
     "start_time": "2022-11-30T02:15:55.832040",
     "status": "completed"
    },
    "tags": []
   },
   "outputs": [],
   "source": [
    "with open(OUTPUT_DIR_BASE / \"gwas_variant_ids.pkl\", \"rb\") as handle:\n",
    "    gwas_variants_ids_set = pickle.load(handle)"
   ]
  },
  {
   "cell_type": "code",
   "execution_count": 13,
   "id": "b9d9dec2-4a76-4bf9-bde2-e24c95acb8a0",
   "metadata": {
    "execution": {
     "iopub.execute_input": "2022-11-30T02:15:57.941284Z",
     "iopub.status.busy": "2022-11-30T02:15:57.941163Z",
     "iopub.status.idle": "2022-11-30T02:15:57.954847Z",
     "shell.execute_reply": "2022-11-30T02:15:57.954274Z"
    },
    "papermill": {
     "duration": 0.02547,
     "end_time": "2022-11-30T02:15:57.956311",
     "exception": false,
     "start_time": "2022-11-30T02:15:57.930841",
     "status": "completed"
    },
    "tags": []
   },
   "outputs": [
    {
     "data": {
      "text/plain": [
       "8561476"
      ]
     },
     "execution_count": 13,
     "metadata": {},
     "output_type": "execute_result"
    }
   ],
   "source": [
    "len(gwas_variants_ids_set)"
   ]
  },
  {
   "cell_type": "code",
   "execution_count": 14,
   "id": "4235b06a-6034-4ee4-a0a3-2ae35d122418",
   "metadata": {
    "execution": {
     "iopub.execute_input": "2022-11-30T02:15:57.976712Z",
     "iopub.status.busy": "2022-11-30T02:15:57.976582Z",
     "iopub.status.idle": "2022-11-30T02:15:58.359635Z",
     "shell.execute_reply": "2022-11-30T02:15:58.359053Z"
    },
    "papermill": {
     "duration": 0.395065,
     "end_time": "2022-11-30T02:15:58.361115",
     "exception": false,
     "start_time": "2022-11-30T02:15:57.966050",
     "status": "completed"
    },
    "tags": []
   },
   "outputs": [
    {
     "data": {
      "text/plain": [
       "['chr20_12422922_T_C_b38',\n",
       " 'chr13_52080060_C_G_b38',\n",
       " 'chr13_87982335_C_G_b38',\n",
       " 'chr14_86848740_T_A_b38',\n",
       " 'chr1_58339434_A_G_b38']"
      ]
     },
     "execution_count": 14,
     "metadata": {},
     "output_type": "execute_result"
    }
   ],
   "source": [
    "list(gwas_variants_ids_set)[:5]"
   ]
  },
  {
   "cell_type": "markdown",
   "id": "07866999-2305-41f9-a144-e69c9122c212",
   "metadata": {
    "papermill": {
     "duration": 0.009717,
     "end_time": "2022-11-30T02:15:58.380809",
     "exception": false,
     "start_time": "2022-11-30T02:15:58.371092",
     "status": "completed"
    },
    "tags": []
   },
   "source": [
    "## S-PrediXcan tissue models"
   ]
  },
  {
   "cell_type": "code",
   "execution_count": 15,
   "id": "780611d9-77c8-405f-90a4-f271f7b09397",
   "metadata": {
    "execution": {
     "iopub.execute_input": "2022-11-30T02:15:58.401878Z",
     "iopub.status.busy": "2022-11-30T02:15:58.401665Z",
     "iopub.status.idle": "2022-11-30T02:15:59.013823Z",
     "shell.execute_reply": "2022-11-30T02:15:59.013390Z"
    },
    "papermill": {
     "duration": 0.624029,
     "end_time": "2022-11-30T02:15:59.015322",
     "exception": false,
     "start_time": "2022-11-30T02:15:58.391293",
     "status": "completed"
    },
    "tags": []
   },
   "outputs": [],
   "source": [
    "spredixcan_genes_models = pd.read_pickle(OUTPUT_DIR_BASE / \"gene_tissues.pkl\")"
   ]
  },
  {
   "cell_type": "code",
   "execution_count": 16,
   "id": "726dd1f6-9557-4225-91fa-b3b879ea96e1",
   "metadata": {
    "execution": {
     "iopub.execute_input": "2022-11-30T02:15:59.035904Z",
     "iopub.status.busy": "2022-11-30T02:15:59.035771Z",
     "iopub.status.idle": "2022-11-30T02:15:59.049092Z",
     "shell.execute_reply": "2022-11-30T02:15:59.048644Z"
    },
    "papermill": {
     "duration": 0.024844,
     "end_time": "2022-11-30T02:15:59.050307",
     "exception": false,
     "start_time": "2022-11-30T02:15:59.025463",
     "status": "completed"
    },
    "tags": []
   },
   "outputs": [
    {
     "data": {
      "text/plain": [
       "(6442, 5)"
      ]
     },
     "execution_count": 16,
     "metadata": {},
     "output_type": "execute_result"
    }
   ],
   "source": [
    "spredixcan_genes_models.shape"
   ]
  },
  {
   "cell_type": "code",
   "execution_count": 17,
   "id": "944a1b48-222c-4eb0-b252-b9de2cbca215",
   "metadata": {
    "execution": {
     "iopub.execute_input": "2022-11-30T02:15:59.066203Z",
     "iopub.status.busy": "2022-11-30T02:15:59.066006Z",
     "iopub.status.idle": "2022-11-30T02:15:59.083539Z",
     "shell.execute_reply": "2022-11-30T02:15:59.083116Z"
    },
    "papermill": {
     "duration": 0.02645,
     "end_time": "2022-11-30T02:15:59.084435",
     "exception": false,
     "start_time": "2022-11-30T02:15:59.057985",
     "status": "completed"
    },
    "tags": []
   },
   "outputs": [
    {
     "data": {
      "text/html": [
       "<div>\n",
       "<style scoped>\n",
       "    .dataframe tbody tr th:only-of-type {\n",
       "        vertical-align: middle;\n",
       "    }\n",
       "\n",
       "    .dataframe tbody tr th {\n",
       "        vertical-align: top;\n",
       "    }\n",
       "\n",
       "    .dataframe thead th {\n",
       "        text-align: right;\n",
       "    }\n",
       "</style>\n",
       "<table border=\"1\" class=\"dataframe\">\n",
       "  <thead>\n",
       "    <tr style=\"text-align: right;\">\n",
       "      <th></th>\n",
       "      <th>gene_name</th>\n",
       "      <th>tissue</th>\n",
       "      <th>n_tissues</th>\n",
       "      <th>n_snps_used_sum</th>\n",
       "      <th>n_snps_in_model_sum</th>\n",
       "    </tr>\n",
       "    <tr>\n",
       "      <th>gene_id</th>\n",
       "      <th></th>\n",
       "      <th></th>\n",
       "      <th></th>\n",
       "      <th></th>\n",
       "      <th></th>\n",
       "    </tr>\n",
       "  </thead>\n",
       "  <tbody>\n",
       "    <tr>\n",
       "      <th>ENSG00000000419</th>\n",
       "      <td>DPM1</td>\n",
       "      <td>(Brain_Hypothalamus, Brain_Substantia_nigra)</td>\n",
       "      <td>2</td>\n",
       "      <td>2</td>\n",
       "      <td>2</td>\n",
       "    </tr>\n",
       "    <tr>\n",
       "      <th>ENSG00000000938</th>\n",
       "      <td>FGR</td>\n",
       "      <td>(Lung, Artery_Aorta, Heart_Left_Ventricle, Bra...</td>\n",
       "      <td>36</td>\n",
       "      <td>40</td>\n",
       "      <td>40</td>\n",
       "    </tr>\n",
       "    <tr>\n",
       "      <th>ENSG00000000971</th>\n",
       "      <td>CFH</td>\n",
       "      <td>(Lung, Artery_Aorta, Heart_Left_Ventricle, Bra...</td>\n",
       "      <td>34</td>\n",
       "      <td>44</td>\n",
       "      <td>44</td>\n",
       "    </tr>\n",
       "    <tr>\n",
       "      <th>ENSG00000001084</th>\n",
       "      <td>GCLC</td>\n",
       "      <td>(Lung, Artery_Aorta, Heart_Left_Ventricle, Bra...</td>\n",
       "      <td>32</td>\n",
       "      <td>46</td>\n",
       "      <td>46</td>\n",
       "    </tr>\n",
       "    <tr>\n",
       "      <th>ENSG00000001167</th>\n",
       "      <td>NFYA</td>\n",
       "      <td>(Lung, Artery_Aorta, Heart_Left_Ventricle, Bra...</td>\n",
       "      <td>40</td>\n",
       "      <td>47</td>\n",
       "      <td>48</td>\n",
       "    </tr>\n",
       "  </tbody>\n",
       "</table>\n",
       "</div>"
      ],
      "text/plain": [
       "                gene_name                                             tissue  \\\n",
       "gene_id                                                                        \n",
       "ENSG00000000419      DPM1       (Brain_Hypothalamus, Brain_Substantia_nigra)   \n",
       "ENSG00000000938       FGR  (Lung, Artery_Aorta, Heart_Left_Ventricle, Bra...   \n",
       "ENSG00000000971       CFH  (Lung, Artery_Aorta, Heart_Left_Ventricle, Bra...   \n",
       "ENSG00000001084      GCLC  (Lung, Artery_Aorta, Heart_Left_Ventricle, Bra...   \n",
       "ENSG00000001167      NFYA  (Lung, Artery_Aorta, Heart_Left_Ventricle, Bra...   \n",
       "\n",
       "                 n_tissues  n_snps_used_sum  n_snps_in_model_sum  \n",
       "gene_id                                                           \n",
       "ENSG00000000419          2                2                    2  \n",
       "ENSG00000000938         36               40                   40  \n",
       "ENSG00000000971         34               44                   44  \n",
       "ENSG00000001084         32               46                   46  \n",
       "ENSG00000001167         40               47                   48  "
      ]
     },
     "execution_count": 17,
     "metadata": {},
     "output_type": "execute_result"
    }
   ],
   "source": [
    "spredixcan_genes_models.head()"
   ]
  },
  {
   "cell_type": "code",
   "execution_count": 18,
   "id": "d1c11bb1-be0b-4f40-b360-633d6827109f",
   "metadata": {
    "execution": {
     "iopub.execute_input": "2022-11-30T02:15:59.096049Z",
     "iopub.status.busy": "2022-11-30T02:15:59.095914Z",
     "iopub.status.idle": "2022-11-30T02:15:59.109072Z",
     "shell.execute_reply": "2022-11-30T02:15:59.108652Z"
    },
    "papermill": {
     "duration": 0.020354,
     "end_time": "2022-11-30T02:15:59.110598",
     "exception": false,
     "start_time": "2022-11-30T02:15:59.090244",
     "status": "completed"
    },
    "tags": []
   },
   "outputs": [],
   "source": [
    "assert spredixcan_genes_models.index.is_unique"
   ]
  },
  {
   "cell_type": "markdown",
   "id": "a5b5092c-a13e-47c4-a92a-480fcc08f3ae",
   "metadata": {
    "papermill": {
     "duration": 0.010068,
     "end_time": "2022-11-30T02:15:59.131713",
     "exception": false,
     "start_time": "2022-11-30T02:15:59.121645",
     "status": "completed"
    },
    "tags": []
   },
   "source": [
    "## Gene info"
   ]
  },
  {
   "cell_type": "code",
   "execution_count": 19,
   "id": "7d6bb224-88e9-4358-ac10-43a41d92cdad",
   "metadata": {
    "execution": {
     "iopub.execute_input": "2022-11-30T02:15:59.153532Z",
     "iopub.status.busy": "2022-11-30T02:15:59.153068Z",
     "iopub.status.idle": "2022-11-30T02:15:59.176875Z",
     "shell.execute_reply": "2022-11-30T02:15:59.176284Z"
    },
    "papermill": {
     "duration": 0.036608,
     "end_time": "2022-11-30T02:15:59.178505",
     "exception": false,
     "start_time": "2022-11-30T02:15:59.141897",
     "status": "completed"
    },
    "tags": []
   },
   "outputs": [],
   "source": [
    "genes_info = pd.read_pickle(OUTPUT_DIR_BASE / \"genes_info.pkl\")"
   ]
  },
  {
   "cell_type": "code",
   "execution_count": 20,
   "id": "9e32abfa-546d-483e-8c18-d526e9e05903",
   "metadata": {
    "execution": {
     "iopub.execute_input": "2022-11-30T02:15:59.200476Z",
     "iopub.status.busy": "2022-11-30T02:15:59.200026Z",
     "iopub.status.idle": "2022-11-30T02:15:59.222519Z",
     "shell.execute_reply": "2022-11-30T02:15:59.221859Z"
    },
    "papermill": {
     "duration": 0.034868,
     "end_time": "2022-11-30T02:15:59.224077",
     "exception": false,
     "start_time": "2022-11-30T02:15:59.189209",
     "status": "completed"
    },
    "tags": []
   },
   "outputs": [
    {
     "data": {
      "text/plain": [
       "(6442, 7)"
      ]
     },
     "execution_count": 20,
     "metadata": {},
     "output_type": "execute_result"
    }
   ],
   "source": [
    "genes_info.shape"
   ]
  },
  {
   "cell_type": "code",
   "execution_count": 21,
   "id": "d16c3e92-85ec-468a-9a56-e25a9774a1cb",
   "metadata": {
    "execution": {
     "iopub.execute_input": "2022-11-30T02:15:59.246607Z",
     "iopub.status.busy": "2022-11-30T02:15:59.246259Z",
     "iopub.status.idle": "2022-11-30T02:15:59.273279Z",
     "shell.execute_reply": "2022-11-30T02:15:59.272621Z"
    },
    "papermill": {
     "duration": 0.04016,
     "end_time": "2022-11-30T02:15:59.274870",
     "exception": false,
     "start_time": "2022-11-30T02:15:59.234710",
     "status": "completed"
    },
    "tags": []
   },
   "outputs": [
    {
     "data": {
      "text/html": [
       "<div>\n",
       "<style scoped>\n",
       "    .dataframe tbody tr th:only-of-type {\n",
       "        vertical-align: middle;\n",
       "    }\n",
       "\n",
       "    .dataframe tbody tr th {\n",
       "        vertical-align: top;\n",
       "    }\n",
       "\n",
       "    .dataframe thead th {\n",
       "        text-align: right;\n",
       "    }\n",
       "</style>\n",
       "<table border=\"1\" class=\"dataframe\">\n",
       "  <thead>\n",
       "    <tr style=\"text-align: right;\">\n",
       "      <th></th>\n",
       "      <th>name</th>\n",
       "      <th>id</th>\n",
       "      <th>chr</th>\n",
       "      <th>band</th>\n",
       "      <th>start_position</th>\n",
       "      <th>end_position</th>\n",
       "      <th>gene_length</th>\n",
       "    </tr>\n",
       "  </thead>\n",
       "  <tbody>\n",
       "    <tr>\n",
       "      <th>0</th>\n",
       "      <td>IFIT3</td>\n",
       "      <td>ENSG00000119917</td>\n",
       "      <td>10</td>\n",
       "      <td>10q23.31</td>\n",
       "      <td>89327997</td>\n",
       "      <td>89340971</td>\n",
       "      <td>12974</td>\n",
       "    </tr>\n",
       "    <tr>\n",
       "      <th>1</th>\n",
       "      <td>ZFP36</td>\n",
       "      <td>ENSG00000128016</td>\n",
       "      <td>19</td>\n",
       "      <td>19q13.2</td>\n",
       "      <td>39406813</td>\n",
       "      <td>39409412</td>\n",
       "      <td>2599</td>\n",
       "    </tr>\n",
       "    <tr>\n",
       "      <th>2</th>\n",
       "      <td>ZNF597</td>\n",
       "      <td>ENSG00000167981</td>\n",
       "      <td>16</td>\n",
       "      <td>16p13.3</td>\n",
       "      <td>3432414</td>\n",
       "      <td>3443504</td>\n",
       "      <td>11090</td>\n",
       "    </tr>\n",
       "    <tr>\n",
       "      <th>3</th>\n",
       "      <td>AGPS</td>\n",
       "      <td>ENSG00000018510</td>\n",
       "      <td>2</td>\n",
       "      <td>2q31.2</td>\n",
       "      <td>177392768</td>\n",
       "      <td>177559299</td>\n",
       "      <td>166531</td>\n",
       "    </tr>\n",
       "    <tr>\n",
       "      <th>4</th>\n",
       "      <td>CDK2</td>\n",
       "      <td>ENSG00000123374</td>\n",
       "      <td>12</td>\n",
       "      <td>12q13.2</td>\n",
       "      <td>55966781</td>\n",
       "      <td>55972789</td>\n",
       "      <td>6008</td>\n",
       "    </tr>\n",
       "  </tbody>\n",
       "</table>\n",
       "</div>"
      ],
      "text/plain": [
       "     name               id  chr      band  start_position  end_position  \\\n",
       "0   IFIT3  ENSG00000119917   10  10q23.31        89327997      89340971   \n",
       "1   ZFP36  ENSG00000128016   19   19q13.2        39406813      39409412   \n",
       "2  ZNF597  ENSG00000167981   16   16p13.3         3432414       3443504   \n",
       "3    AGPS  ENSG00000018510    2    2q31.2       177392768     177559299   \n",
       "4    CDK2  ENSG00000123374   12   12q13.2        55966781      55972789   \n",
       "\n",
       "   gene_length  \n",
       "0        12974  \n",
       "1         2599  \n",
       "2        11090  \n",
       "3       166531  \n",
       "4         6008  "
      ]
     },
     "execution_count": 21,
     "metadata": {},
     "output_type": "execute_result"
    }
   ],
   "source": [
    "genes_info.head()"
   ]
  },
  {
   "cell_type": "markdown",
   "id": "d3843e06",
   "metadata": {
    "papermill": {
     "duration": 0.010458,
     "end_time": "2022-11-30T02:15:59.296168",
     "exception": false,
     "start_time": "2022-11-30T02:15:59.285710",
     "status": "completed"
    },
    "tags": []
   },
   "source": [
    "# Compute correlations"
   ]
  },
  {
   "cell_type": "code",
   "execution_count": 22,
   "id": "cb859c15-d1f3-4006-a74c-2b83c0db9611",
   "metadata": {
    "execution": {
     "iopub.execute_input": "2022-11-30T02:15:59.318818Z",
     "iopub.status.busy": "2022-11-30T02:15:59.318437Z",
     "iopub.status.idle": "2022-11-30T02:15:59.341380Z",
     "shell.execute_reply": "2022-11-30T02:15:59.340720Z"
    },
    "papermill": {
     "duration": 0.036175,
     "end_time": "2022-11-30T02:15:59.342907",
     "exception": false,
     "start_time": "2022-11-30T02:15:59.306732",
     "status": "completed"
    },
    "tags": []
   },
   "outputs": [
    {
     "data": {
      "text/plain": [
       "PosixPath('/opt/data/projects/asthma-copd/results/gls_phenoplier/gene_corrs/aco/by_chr/gene_corrs-chr22.pkl')"
      ]
     },
     "metadata": {},
     "output_type": "display_data"
    }
   ],
   "source": [
    "output_dir = OUTPUT_DIR_BASE / \"by_chr\"\n",
    "output_dir.mkdir(exist_ok=True, parents=True)\n",
    "output_file = output_dir / f\"gene_corrs-chr{CHROMOSOME}.pkl\"\n",
    "display(output_file)"
   ]
  },
  {
   "cell_type": "code",
   "execution_count": 23,
   "id": "aa674fe4-6794-4eed-98fa-32b39d1d4ace",
   "metadata": {
    "execution": {
     "iopub.execute_input": "2022-11-30T02:15:59.365923Z",
     "iopub.status.busy": "2022-11-30T02:15:59.365458Z",
     "iopub.status.idle": "2022-11-30T02:15:59.386926Z",
     "shell.execute_reply": "2022-11-30T02:15:59.386391Z"
    },
    "papermill": {
     "duration": 0.034681,
     "end_time": "2022-11-30T02:15:59.388597",
     "exception": false,
     "start_time": "2022-11-30T02:15:59.353916",
     "status": "completed"
    },
    "tags": []
   },
   "outputs": [],
   "source": [
    "warnings.filterwarnings(\"error\")"
   ]
  },
  {
   "cell_type": "code",
   "execution_count": 24,
   "id": "44d5450b-3baf-43f1-9e2e-4b06f1a785f8",
   "metadata": {
    "execution": {
     "iopub.execute_input": "2022-11-30T02:15:59.412039Z",
     "iopub.status.busy": "2022-11-30T02:15:59.411564Z",
     "iopub.status.idle": "2022-11-30T02:15:59.433730Z",
     "shell.execute_reply": "2022-11-30T02:15:59.433192Z"
    },
    "papermill": {
     "duration": 0.035419,
     "end_time": "2022-11-30T02:15:59.435400",
     "exception": false,
     "start_time": "2022-11-30T02:15:59.399981",
     "status": "completed"
    },
    "tags": []
   },
   "outputs": [],
   "source": [
    "# standard checks\n",
    "all_chrs = genes_info[\"chr\"].dropna().unique()\n",
    "assert all_chrs.shape[0] == 22\n",
    "\n",
    "# select chromosome given by the user\n",
    "assert CHROMOSOME in all_chrs"
   ]
  },
  {
   "cell_type": "code",
   "execution_count": 25,
   "id": "2d7c043c-92a7-4d35-991b-fa69ac1e0268",
   "metadata": {
    "execution": {
     "iopub.execute_input": "2022-11-30T02:15:59.458863Z",
     "iopub.status.busy": "2022-11-30T02:15:59.458513Z",
     "iopub.status.idle": "2022-11-30T02:15:59.481872Z",
     "shell.execute_reply": "2022-11-30T02:15:59.481283Z"
    },
    "papermill": {
     "duration": 0.036543,
     "end_time": "2022-11-30T02:15:59.483352",
     "exception": false,
     "start_time": "2022-11-30T02:15:59.446809",
     "status": "completed"
    },
    "tags": []
   },
   "outputs": [
    {
     "name": "stdout",
     "output_type": "stream",
     "text": [
      "Number of genes in chromosome: 170\n"
     ]
    }
   ],
   "source": [
    "# run only on the chromosome specified\n",
    "all_chrs = [CHROMOSOME]\n",
    "genes_chr = genes_info[genes_info[\"chr\"] == CHROMOSOME]\n",
    "\n",
    "# For testing purposes\n",
    "# genes_chr = genes_chr.sample(n=20)\n",
    "\n",
    "print(f\"Number of genes in chromosome: {genes_chr.shape[0]}\", flush=True)"
   ]
  },
  {
   "cell_type": "code",
   "execution_count": 26,
   "id": "916015d8-2979-46d3-a9b9-1cf5a0932c6a",
   "metadata": {
    "execution": {
     "iopub.execute_input": "2022-11-30T02:15:59.506910Z",
     "iopub.status.busy": "2022-11-30T02:15:59.506574Z",
     "iopub.status.idle": "2022-11-30T02:15:59.528326Z",
     "shell.execute_reply": "2022-11-30T02:15:59.527771Z"
    },
    "papermill": {
     "duration": 0.035056,
     "end_time": "2022-11-30T02:15:59.530046",
     "exception": false,
     "start_time": "2022-11-30T02:15:59.494990",
     "status": "completed"
    },
    "tags": []
   },
   "outputs": [],
   "source": [
    "# sort genes by starting position to make visualizations better later\n",
    "genes_chr = genes_chr.sort_values(\"start_position\")"
   ]
  },
  {
   "cell_type": "code",
   "execution_count": 27,
   "id": "a38aa74a-8ad3-47f6-8ef9-56be0e011774",
   "metadata": {
    "execution": {
     "iopub.execute_input": "2022-11-30T02:15:59.553741Z",
     "iopub.status.busy": "2022-11-30T02:15:59.553401Z",
     "iopub.status.idle": "2022-11-30T02:15:59.575185Z",
     "shell.execute_reply": "2022-11-30T02:15:59.574652Z"
    },
    "papermill": {
     "duration": 0.035572,
     "end_time": "2022-11-30T02:15:59.576815",
     "exception": false,
     "start_time": "2022-11-30T02:15:59.541243",
     "status": "completed"
    },
    "tags": []
   },
   "outputs": [],
   "source": [
    "gene_chr_objs = [Gene(ensembl_id=gene_id) for gene_id in genes_chr[\"id\"]]"
   ]
  },
  {
   "cell_type": "code",
   "execution_count": 28,
   "id": "570f974f-13c3-42b6-ad3a-ce99ca885c1a",
   "metadata": {
    "execution": {
     "iopub.execute_input": "2022-11-30T02:15:59.600070Z",
     "iopub.status.busy": "2022-11-30T02:15:59.599727Z",
     "iopub.status.idle": "2022-11-30T02:15:59.621927Z",
     "shell.execute_reply": "2022-11-30T02:15:59.621349Z"
    },
    "papermill": {
     "duration": 0.035394,
     "end_time": "2022-11-30T02:15:59.623394",
     "exception": false,
     "start_time": "2022-11-30T02:15:59.588000",
     "status": "completed"
    },
    "tags": []
   },
   "outputs": [
    {
     "name": "stdout",
     "output_type": "stream",
     "text": [
      "Number of gene combinations: 14535\n"
     ]
    }
   ],
   "source": [
    "n = len(gene_chr_objs)\n",
    "# diagonal elements + upper triangular matrix\n",
    "n_comb = n + int(n * (n - 1) / 2.0)\n",
    "print(f\"Number of gene combinations: {n_comb}\", flush=True)"
   ]
  },
  {
   "cell_type": "code",
   "execution_count": 29,
   "id": "cdbb90a1",
   "metadata": {
    "execution": {
     "iopub.execute_input": "2022-11-30T02:15:59.647237Z",
     "iopub.status.busy": "2022-11-30T02:15:59.646972Z",
     "iopub.status.idle": "2022-11-30T02:27:06.341443Z",
     "shell.execute_reply": "2022-11-30T02:27:06.340919Z"
    },
    "papermill": {
     "duration": 666.707771,
     "end_time": "2022-11-30T02:27:06.342883",
     "exception": false,
     "start_time": "2022-11-30T02:15:59.635112",
     "status": "completed"
    },
    "tags": []
   },
   "outputs": [
    {
     "name": "stderr",
     "output_type": "stream",
     "text": [
      "ENSG00000251322 / ENSG00000251322: 100%|██████████████████████| 14535/14535 [11:06<00:00, 21.80it/s]\n"
     ]
    },
    {
     "data": {
      "text/plain": [
       "PosixPath('/opt/data/projects/asthma-copd/results/gls_phenoplier/gene_corrs/aco/by_chr/gene_corrs-chr22.pkl')"
      ]
     },
     "metadata": {},
     "output_type": "display_data"
    }
   ],
   "source": [
    "gene_corrs = []\n",
    "gene_corrs_data = np.full(\n",
    "    (n, n),\n",
    "    np.nan,\n",
    "    dtype=np.float64,\n",
    ")\n",
    "\n",
    "i = 0\n",
    "with tqdm(ncols=100, total=n_comb) as pbar:\n",
    "    for gene1_idx in range(0, len(gene_chr_objs)):\n",
    "        gene1_obj = gene_chr_objs[gene1_idx]\n",
    "        gene1_tissues = spredixcan_genes_models.loc[gene1_obj.ensembl_id, \"tissue\"]\n",
    "\n",
    "        for gene2_idx in range(gene1_idx, len(gene_chr_objs)):\n",
    "            gene2_obj = gene_chr_objs[gene2_idx]\n",
    "            gene2_tissues = spredixcan_genes_models.loc[gene2_obj.ensembl_id, \"tissue\"]\n",
    "\n",
    "            pbar.set_description(f\"{gene1_obj.ensembl_id} / {gene2_obj.ensembl_id}\")\n",
    "\n",
    "            try:\n",
    "                r = gene1_obj.get_ssm_correlation(\n",
    "                    other_gene=gene2_obj,\n",
    "                    tissues=gene1_tissues,\n",
    "                    other_tissues=gene2_tissues,\n",
    "                    snps_subset=gwas_variants_ids_set,\n",
    "                    condition_number=SMULTIXCAN_CONDITION_NUMBER,\n",
    "                    reference_panel=REFERENCE_PANEL,\n",
    "                    model_type=EQTL_MODEL,\n",
    "                    use_within_distance=COMPUTE_CORRELATIONS_WITHIN_DISTANCE,\n",
    "                )\n",
    "\n",
    "                if r is None:\n",
    "                    # if r is None, it's very likely because:\n",
    "                    #  * one of the genes has no prediction models\n",
    "                    #  * all the SNPs predictors for the gene are not present in the reference\n",
    "                    #    panel\n",
    "\n",
    "                    r = 0.0\n",
    "\n",
    "                gene_corrs.append(r)\n",
    "\n",
    "                gene_corrs_data[gene1_idx, gene2_idx] = r\n",
    "                gene_corrs_data[gene2_idx, gene1_idx] = r\n",
    "            except Warning as e:\n",
    "                if not DEBUG_MODE:\n",
    "                    raise e\n",
    "\n",
    "                print(\n",
    "                    f\"RuntimeWarning for genes {gene1_obj.ensembl_id} and {gene2_obj.ensembl_id}\",\n",
    "                    flush=True,\n",
    "                )\n",
    "                print(traceback.format_exc(), flush=True)\n",
    "\n",
    "                gene_corrs.append(np.nan)\n",
    "            except Exception as e:\n",
    "                if not DEBUG_MODE:\n",
    "                    raise e\n",
    "\n",
    "                print(\n",
    "                    f\"Exception for genes {gene1_obj.ensembl_id} and {gene2_obj.ensembl_id}\",\n",
    "                    flush=True,\n",
    "                )\n",
    "                print(traceback.format_exc(), flush=True)\n",
    "\n",
    "                gene_corrs.append(np.nan)\n",
    "\n",
    "            pbar.update(1)\n",
    "\n",
    "# create a pandas series\n",
    "gene_corrs_flat = pd.Series(gene_corrs)\n",
    "\n",
    "# save\n",
    "# FIXME: consider saving only the condenced matrix here. See here for\n",
    "# more details: https://github.com/greenelab/phenoplier/pull/38#discussion_r634600813\n",
    "# gene_corrs_data = squareform(np.array(gene_corrs, dtype=np.float64))\n",
    "# np.fill_diagonal(gene_corrs_data, 1.0)\n",
    "\n",
    "gene_chr_ids = [g.ensembl_id for g in gene_chr_objs]\n",
    "gene_corrs_df = pd.DataFrame(\n",
    "    data=gene_corrs_data,\n",
    "    index=gene_chr_ids,\n",
    "    columns=gene_chr_ids,\n",
    ")\n",
    "\n",
    "output_dir.mkdir(exist_ok=True, parents=True)\n",
    "display(output_file)\n",
    "\n",
    "gene_corrs_df.to_pickle(output_file)"
   ]
  },
  {
   "cell_type": "markdown",
   "id": "faa67b51-5373-470f-aa72-2ded53fa6dfe",
   "metadata": {
    "papermill": {
     "duration": 0.622224,
     "end_time": "2022-11-30T02:27:07.604012",
     "exception": false,
     "start_time": "2022-11-30T02:27:06.981788",
     "status": "completed"
    },
    "tags": []
   },
   "source": [
    "# Testing"
   ]
  },
  {
   "cell_type": "code",
   "execution_count": 30,
   "id": "14f7d046-4b55-4896-a56b-990127bcc388",
   "metadata": {
    "execution": {
     "iopub.execute_input": "2022-11-30T02:27:08.798155Z",
     "iopub.status.busy": "2022-11-30T02:27:08.797952Z",
     "iopub.status.idle": "2022-11-30T02:27:08.819439Z",
     "shell.execute_reply": "2022-11-30T02:27:08.818860Z"
    },
    "papermill": {
     "duration": 0.644673,
     "end_time": "2022-11-30T02:27:08.820298",
     "exception": false,
     "start_time": "2022-11-30T02:27:08.175625",
     "status": "completed"
    },
    "tags": []
   },
   "outputs": [
    {
     "data": {
      "text/plain": [
       "(170, 170)"
      ]
     },
     "execution_count": 30,
     "metadata": {},
     "output_type": "execute_result"
    }
   ],
   "source": [
    "gene_corrs_df.shape"
   ]
  },
  {
   "cell_type": "code",
   "execution_count": 31,
   "id": "c7d15414-3297-4537-a7c6-7588c0baeb75",
   "metadata": {
    "execution": {
     "iopub.execute_input": "2022-11-30T02:27:09.994327Z",
     "iopub.status.busy": "2022-11-30T02:27:09.993739Z",
     "iopub.status.idle": "2022-11-30T02:27:10.038630Z",
     "shell.execute_reply": "2022-11-30T02:27:10.038006Z"
    },
    "papermill": {
     "duration": 0.633829,
     "end_time": "2022-11-30T02:27:10.039644",
     "exception": false,
     "start_time": "2022-11-30T02:27:09.405815",
     "status": "completed"
    },
    "tags": []
   },
   "outputs": [
    {
     "data": {
      "text/html": [
       "<div>\n",
       "<style scoped>\n",
       "    .dataframe tbody tr th:only-of-type {\n",
       "        vertical-align: middle;\n",
       "    }\n",
       "\n",
       "    .dataframe tbody tr th {\n",
       "        vertical-align: top;\n",
       "    }\n",
       "\n",
       "    .dataframe thead th {\n",
       "        text-align: right;\n",
       "    }\n",
       "</style>\n",
       "<table border=\"1\" class=\"dataframe\">\n",
       "  <thead>\n",
       "    <tr style=\"text-align: right;\">\n",
       "      <th></th>\n",
       "      <th>ENSG00000177663</th>\n",
       "      <th>ENSG00000131100</th>\n",
       "      <th>ENSG00000099968</th>\n",
       "      <th>ENSG00000015475</th>\n",
       "      <th>ENSG00000243156</th>\n",
       "      <th>ENSG00000215193</th>\n",
       "      <th>ENSG00000183785</th>\n",
       "      <th>ENSG00000184979</th>\n",
       "      <th>ENSG00000100033</th>\n",
       "      <th>ENSG00000100075</th>\n",
       "      <th>...</th>\n",
       "      <th>ENSG00000196576</th>\n",
       "      <th>ENSG00000128165</th>\n",
       "      <th>ENSG00000100253</th>\n",
       "      <th>ENSG00000130489</th>\n",
       "      <th>ENSG00000025708</th>\n",
       "      <th>ENSG00000205560</th>\n",
       "      <th>ENSG00000100288</th>\n",
       "      <th>ENSG00000008735</th>\n",
       "      <th>ENSG00000100299</th>\n",
       "      <th>ENSG00000251322</th>\n",
       "    </tr>\n",
       "  </thead>\n",
       "  <tbody>\n",
       "    <tr>\n",
       "      <th>ENSG00000177663</th>\n",
       "      <td>1.000000</td>\n",
       "      <td>0.003816</td>\n",
       "      <td>0.006914</td>\n",
       "      <td>0.006409</td>\n",
       "      <td>0.005393</td>\n",
       "      <td>0.009169</td>\n",
       "      <td>0.011137</td>\n",
       "      <td>0.008212</td>\n",
       "      <td>0.005694</td>\n",
       "      <td>0.002630</td>\n",
       "      <td>...</td>\n",
       "      <td>0.008032</td>\n",
       "      <td>0.009928</td>\n",
       "      <td>0.008238</td>\n",
       "      <td>0.003678</td>\n",
       "      <td>0.003232</td>\n",
       "      <td>0.006669</td>\n",
       "      <td>0.004615</td>\n",
       "      <td>0.009432</td>\n",
       "      <td>0.004205</td>\n",
       "      <td>0.002770</td>\n",
       "    </tr>\n",
       "    <tr>\n",
       "      <th>ENSG00000131100</th>\n",
       "      <td>0.003816</td>\n",
       "      <td>1.000000</td>\n",
       "      <td>0.542060</td>\n",
       "      <td>0.258362</td>\n",
       "      <td>0.008517</td>\n",
       "      <td>0.003627</td>\n",
       "      <td>0.005205</td>\n",
       "      <td>0.003596</td>\n",
       "      <td>0.008233</td>\n",
       "      <td>0.005908</td>\n",
       "      <td>...</td>\n",
       "      <td>0.008277</td>\n",
       "      <td>0.007869</td>\n",
       "      <td>0.011249</td>\n",
       "      <td>0.004228</td>\n",
       "      <td>0.006198</td>\n",
       "      <td>0.004357</td>\n",
       "      <td>0.003490</td>\n",
       "      <td>0.005618</td>\n",
       "      <td>0.002902</td>\n",
       "      <td>0.001054</td>\n",
       "    </tr>\n",
       "    <tr>\n",
       "      <th>ENSG00000099968</th>\n",
       "      <td>0.006914</td>\n",
       "      <td>0.542060</td>\n",
       "      <td>1.000000</td>\n",
       "      <td>0.393204</td>\n",
       "      <td>0.017352</td>\n",
       "      <td>0.006770</td>\n",
       "      <td>0.010656</td>\n",
       "      <td>0.006111</td>\n",
       "      <td>0.011148</td>\n",
       "      <td>0.008450</td>\n",
       "      <td>...</td>\n",
       "      <td>0.012225</td>\n",
       "      <td>0.009133</td>\n",
       "      <td>0.010688</td>\n",
       "      <td>0.006931</td>\n",
       "      <td>0.006989</td>\n",
       "      <td>0.006061</td>\n",
       "      <td>0.006840</td>\n",
       "      <td>0.007914</td>\n",
       "      <td>0.006822</td>\n",
       "      <td>0.006200</td>\n",
       "    </tr>\n",
       "    <tr>\n",
       "      <th>ENSG00000015475</th>\n",
       "      <td>0.006409</td>\n",
       "      <td>0.258362</td>\n",
       "      <td>0.393204</td>\n",
       "      <td>1.000000</td>\n",
       "      <td>0.023707</td>\n",
       "      <td>0.013641</td>\n",
       "      <td>0.012742</td>\n",
       "      <td>0.009202</td>\n",
       "      <td>0.012669</td>\n",
       "      <td>0.003952</td>\n",
       "      <td>...</td>\n",
       "      <td>0.012598</td>\n",
       "      <td>0.012137</td>\n",
       "      <td>0.012556</td>\n",
       "      <td>0.006271</td>\n",
       "      <td>0.007571</td>\n",
       "      <td>0.005518</td>\n",
       "      <td>0.007376</td>\n",
       "      <td>0.012388</td>\n",
       "      <td>0.007987</td>\n",
       "      <td>0.007268</td>\n",
       "    </tr>\n",
       "    <tr>\n",
       "      <th>ENSG00000243156</th>\n",
       "      <td>0.005393</td>\n",
       "      <td>0.008517</td>\n",
       "      <td>0.017352</td>\n",
       "      <td>0.023707</td>\n",
       "      <td>1.000000</td>\n",
       "      <td>0.041902</td>\n",
       "      <td>0.025743</td>\n",
       "      <td>0.021465</td>\n",
       "      <td>0.012505</td>\n",
       "      <td>0.004385</td>\n",
       "      <td>...</td>\n",
       "      <td>0.017565</td>\n",
       "      <td>0.017028</td>\n",
       "      <td>0.008356</td>\n",
       "      <td>0.006808</td>\n",
       "      <td>0.010760</td>\n",
       "      <td>0.009518</td>\n",
       "      <td>0.011146</td>\n",
       "      <td>0.011820</td>\n",
       "      <td>0.005771</td>\n",
       "      <td>0.008866</td>\n",
       "    </tr>\n",
       "  </tbody>\n",
       "</table>\n",
       "<p>5 rows × 170 columns</p>\n",
       "</div>"
      ],
      "text/plain": [
       "                 ENSG00000177663  ENSG00000131100  ENSG00000099968  \\\n",
       "ENSG00000177663         1.000000         0.003816         0.006914   \n",
       "ENSG00000131100         0.003816         1.000000         0.542060   \n",
       "ENSG00000099968         0.006914         0.542060         1.000000   \n",
       "ENSG00000015475         0.006409         0.258362         0.393204   \n",
       "ENSG00000243156         0.005393         0.008517         0.017352   \n",
       "\n",
       "                 ENSG00000015475  ENSG00000243156  ENSG00000215193  \\\n",
       "ENSG00000177663         0.006409         0.005393         0.009169   \n",
       "ENSG00000131100         0.258362         0.008517         0.003627   \n",
       "ENSG00000099968         0.393204         0.017352         0.006770   \n",
       "ENSG00000015475         1.000000         0.023707         0.013641   \n",
       "ENSG00000243156         0.023707         1.000000         0.041902   \n",
       "\n",
       "                 ENSG00000183785  ENSG00000184979  ENSG00000100033  \\\n",
       "ENSG00000177663         0.011137         0.008212         0.005694   \n",
       "ENSG00000131100         0.005205         0.003596         0.008233   \n",
       "ENSG00000099968         0.010656         0.006111         0.011148   \n",
       "ENSG00000015475         0.012742         0.009202         0.012669   \n",
       "ENSG00000243156         0.025743         0.021465         0.012505   \n",
       "\n",
       "                 ENSG00000100075  ...  ENSG00000196576  ENSG00000128165  \\\n",
       "ENSG00000177663         0.002630  ...         0.008032         0.009928   \n",
       "ENSG00000131100         0.005908  ...         0.008277         0.007869   \n",
       "ENSG00000099968         0.008450  ...         0.012225         0.009133   \n",
       "ENSG00000015475         0.003952  ...         0.012598         0.012137   \n",
       "ENSG00000243156         0.004385  ...         0.017565         0.017028   \n",
       "\n",
       "                 ENSG00000100253  ENSG00000130489  ENSG00000025708  \\\n",
       "ENSG00000177663         0.008238         0.003678         0.003232   \n",
       "ENSG00000131100         0.011249         0.004228         0.006198   \n",
       "ENSG00000099968         0.010688         0.006931         0.006989   \n",
       "ENSG00000015475         0.012556         0.006271         0.007571   \n",
       "ENSG00000243156         0.008356         0.006808         0.010760   \n",
       "\n",
       "                 ENSG00000205560  ENSG00000100288  ENSG00000008735  \\\n",
       "ENSG00000177663         0.006669         0.004615         0.009432   \n",
       "ENSG00000131100         0.004357         0.003490         0.005618   \n",
       "ENSG00000099968         0.006061         0.006840         0.007914   \n",
       "ENSG00000015475         0.005518         0.007376         0.012388   \n",
       "ENSG00000243156         0.009518         0.011146         0.011820   \n",
       "\n",
       "                 ENSG00000100299  ENSG00000251322  \n",
       "ENSG00000177663         0.004205         0.002770  \n",
       "ENSG00000131100         0.002902         0.001054  \n",
       "ENSG00000099968         0.006822         0.006200  \n",
       "ENSG00000015475         0.007987         0.007268  \n",
       "ENSG00000243156         0.005771         0.008866  \n",
       "\n",
       "[5 rows x 170 columns]"
      ]
     },
     "execution_count": 31,
     "metadata": {},
     "output_type": "execute_result"
    }
   ],
   "source": [
    "gene_corrs_df.head()"
   ]
  },
  {
   "cell_type": "markdown",
   "id": "dad6603f-01c6-41fb-a6f6-241051207dd8",
   "metadata": {
    "papermill": {
     "duration": 0.580267,
     "end_time": "2022-11-30T02:27:11.218686",
     "exception": false,
     "start_time": "2022-11-30T02:27:10.638419",
     "status": "completed"
    },
    "tags": []
   },
   "source": [
    "## Standard checks and stats"
   ]
  },
  {
   "cell_type": "code",
   "execution_count": 32,
   "id": "286686af-1b7b-4440-8453-6bdcbd8de19c",
   "metadata": {
    "execution": {
     "iopub.execute_input": "2022-11-30T02:27:12.350966Z",
     "iopub.status.busy": "2022-11-30T02:27:12.350301Z",
     "iopub.status.idle": "2022-11-30T02:27:12.375432Z",
     "shell.execute_reply": "2022-11-30T02:27:12.374829Z"
    },
    "papermill": {
     "duration": 0.571863,
     "end_time": "2022-11-30T02:27:12.376725",
     "exception": false,
     "start_time": "2022-11-30T02:27:11.804862",
     "status": "completed"
    },
    "tags": []
   },
   "outputs": [],
   "source": [
    "assert not gene_corrs_df.isna().any().any()"
   ]
  },
  {
   "cell_type": "code",
   "execution_count": 33,
   "id": "00583efc-7068-4270-ad1e-4a418e91db96",
   "metadata": {
    "execution": {
     "iopub.execute_input": "2022-11-30T02:27:13.532734Z",
     "iopub.status.busy": "2022-11-30T02:27:13.531916Z",
     "iopub.status.idle": "2022-11-30T02:27:13.555450Z",
     "shell.execute_reply": "2022-11-30T02:27:13.554912Z"
    },
    "papermill": {
     "duration": 0.598113,
     "end_time": "2022-11-30T02:27:13.556336",
     "exception": false,
     "start_time": "2022-11-30T02:27:12.958223",
     "status": "completed"
    },
    "tags": []
   },
   "outputs": [
    {
     "data": {
      "text/plain": [
       "1.787253232777734e-07"
      ]
     },
     "metadata": {},
     "output_type": "display_data"
    }
   ],
   "source": [
    "_min_val = gene_corrs_df.min().min()\n",
    "display(_min_val)\n",
    "assert _min_val >= -0.05"
   ]
  },
  {
   "cell_type": "code",
   "execution_count": 34,
   "id": "d04fb2cf-1050-475b-b855-f5f7cc04092b",
   "metadata": {
    "execution": {
     "iopub.execute_input": "2022-11-30T02:27:14.717813Z",
     "iopub.status.busy": "2022-11-30T02:27:14.717132Z",
     "iopub.status.idle": "2022-11-30T02:27:14.744907Z",
     "shell.execute_reply": "2022-11-30T02:27:14.744300Z"
    },
    "papermill": {
     "duration": 0.607659,
     "end_time": "2022-11-30T02:27:14.745876",
     "exception": false,
     "start_time": "2022-11-30T02:27:14.138217",
     "status": "completed"
    },
    "tags": []
   },
   "outputs": [
    {
     "data": {
      "text/plain": [
       "1.0000000000000029"
      ]
     },
     "metadata": {},
     "output_type": "display_data"
    }
   ],
   "source": [
    "_max_val = gene_corrs_df.max().max()  # this captures the diagonal\n",
    "display(_max_val)\n",
    "assert _max_val <= 1.05"
   ]
  },
  {
   "cell_type": "code",
   "execution_count": 35,
   "id": "96d02c44-1fba-47be-8a93-8f2608420b9c",
   "metadata": {
    "execution": {
     "iopub.execute_input": "2022-11-30T02:27:15.918970Z",
     "iopub.status.busy": "2022-11-30T02:27:15.918206Z",
     "iopub.status.idle": "2022-11-30T02:27:15.940736Z",
     "shell.execute_reply": "2022-11-30T02:27:15.940005Z"
    },
    "papermill": {
     "duration": 0.60771,
     "end_time": "2022-11-30T02:27:15.941761",
     "exception": false,
     "start_time": "2022-11-30T02:27:15.334051",
     "status": "completed"
    },
    "tags": []
   },
   "outputs": [],
   "source": [
    "# check upper triangular values\n",
    "# assert len(gene_corrs) == int(genes_chr.shape[0] * (genes_chr.shape[0] - 1) / 2)"
   ]
  },
  {
   "cell_type": "code",
   "execution_count": 36,
   "id": "fe283586-c348-40e0-8841-f6d97bfb021c",
   "metadata": {
    "execution": {
     "iopub.execute_input": "2022-11-30T02:27:17.055507Z",
     "iopub.status.busy": "2022-11-30T02:27:17.054902Z",
     "iopub.status.idle": "2022-11-30T02:27:17.082102Z",
     "shell.execute_reply": "2022-11-30T02:27:17.081478Z"
    },
    "papermill": {
     "duration": 0.598905,
     "end_time": "2022-11-30T02:27:17.083043",
     "exception": false,
     "start_time": "2022-11-30T02:27:16.484138",
     "status": "completed"
    },
    "tags": []
   },
   "outputs": [
    {
     "data": {
      "text/plain": [
       "count    1.453500e+04\n",
       "mean     2.276786e-02\n",
       "std      1.136267e-01\n",
       "min      1.787253e-07\n",
       "25%      3.980668e-03\n",
       "50%      6.099378e-03\n",
       "75%      8.591617e-03\n",
       "max      1.000000e+00\n",
       "dtype: float64"
      ]
     },
     "execution_count": 36,
     "metadata": {},
     "output_type": "execute_result"
    }
   ],
   "source": [
    "gene_corrs_flat.describe()"
   ]
  },
  {
   "cell_type": "code",
   "execution_count": 37,
   "id": "b3815678-0f93-4b35-897b-a9d047a2aa78",
   "metadata": {
    "execution": {
     "iopub.execute_input": "2022-11-30T02:27:18.238863Z",
     "iopub.status.busy": "2022-11-30T02:27:18.238449Z",
     "iopub.status.idle": "2022-11-30T02:27:18.266095Z",
     "shell.execute_reply": "2022-11-30T02:27:18.265422Z"
    },
    "papermill": {
     "duration": 0.605779,
     "end_time": "2022-11-30T02:27:18.266974",
     "exception": false,
     "start_time": "2022-11-30T02:27:17.661195",
     "status": "completed"
    },
    "tags": []
   },
   "outputs": [
    {
     "data": {
      "text/plain": [
       "0.00    1.787253e-07\n",
       "0.05    1.591666e-03\n",
       "0.10    2.343347e-03\n",
       "0.15    2.980186e-03\n",
       "0.20    3.492484e-03\n",
       "0.25    3.980668e-03\n",
       "0.30    4.417487e-03\n",
       "0.35    4.840865e-03\n",
       "0.40    5.249111e-03\n",
       "0.45    5.668901e-03\n",
       "0.50    6.099378e-03\n",
       "0.55    6.514801e-03\n",
       "0.60    6.970543e-03\n",
       "0.65    7.493446e-03\n",
       "0.70    7.997973e-03\n",
       "0.75    8.591617e-03\n",
       "0.80    9.266583e-03\n",
       "0.85    1.015937e-02\n",
       "0.90    1.153517e-02\n",
       "0.95    1.570047e-02\n",
       "dtype: float64"
      ]
     },
     "metadata": {},
     "output_type": "display_data"
    }
   ],
   "source": [
    "gene_corrs_quantiles = gene_corrs_flat.quantile(np.arange(0, 1, 0.05))\n",
    "display(gene_corrs_quantiles)"
   ]
  },
  {
   "cell_type": "markdown",
   "id": "87134509-b145-4a10-8bc9-b7e914c2b0fa",
   "metadata": {
    "papermill": {
     "duration": 0.572178,
     "end_time": "2022-11-30T02:27:19.417886",
     "exception": false,
     "start_time": "2022-11-30T02:27:18.845708",
     "status": "completed"
    },
    "tags": []
   },
   "source": [
    "## Positive definiteness"
   ]
  },
  {
   "cell_type": "code",
   "execution_count": 38,
   "id": "07d9a9a1-a4f7-48aa-b916-6d42a8cc6186",
   "metadata": {
    "execution": {
     "iopub.execute_input": "2022-11-30T02:27:20.544742Z",
     "iopub.status.busy": "2022-11-30T02:27:20.544039Z",
     "iopub.status.idle": "2022-11-30T02:27:20.579037Z",
     "shell.execute_reply": "2022-11-30T02:27:20.578379Z"
    },
    "papermill": {
     "duration": 0.581653,
     "end_time": "2022-11-30T02:27:20.580470",
     "exception": false,
     "start_time": "2022-11-30T02:27:19.998817",
     "status": "completed"
    },
    "tags": []
   },
   "outputs": [
    {
     "data": {
      "text/plain": [
       "0"
      ]
     },
     "metadata": {},
     "output_type": "display_data"
    },
    {
     "data": {
      "text/plain": [
       "array([], dtype=float64)"
      ]
     },
     "metadata": {},
     "output_type": "display_data"
    }
   ],
   "source": [
    "# print negative eigenvalues\n",
    "eigs = np.linalg.eigvals(gene_corrs_df.to_numpy())\n",
    "display(len(eigs[eigs < 0]))\n",
    "display(eigs[eigs < 0])"
   ]
  },
  {
   "cell_type": "code",
   "execution_count": 39,
   "id": "6e218436-c3c5-4028-8c94-a4fa6260efce",
   "metadata": {
    "execution": {
     "iopub.execute_input": "2022-11-30T02:27:21.752919Z",
     "iopub.status.busy": "2022-11-30T02:27:21.752410Z",
     "iopub.status.idle": "2022-11-30T02:27:21.780629Z",
     "shell.execute_reply": "2022-11-30T02:27:21.780013Z"
    },
    "papermill": {
     "duration": 0.600828,
     "end_time": "2022-11-30T02:27:21.781494",
     "exception": false,
     "start_time": "2022-11-30T02:27:21.180666",
     "status": "completed"
    },
    "tags": []
   },
   "outputs": [
    {
     "name": "stdout",
     "output_type": "stream",
     "text": [
      "Works!\n"
     ]
    }
   ],
   "source": [
    "try:\n",
    "    chol_mat = np.linalg.cholesky(gene_corrs_df.to_numpy())\n",
    "    cov_inv = np.linalg.inv(chol_mat)\n",
    "    print(\"Works!\")\n",
    "except Exception as e:\n",
    "    print(f\"Cholesky decomposition failed: {str(e)}\")"
   ]
  },
  {
   "cell_type": "code",
   "execution_count": 40,
   "id": "dd8827fb-faf9-4c7c-9454-015e94752706",
   "metadata": {
    "execution": {
     "iopub.execute_input": "2022-11-30T02:27:22.938651Z",
     "iopub.status.busy": "2022-11-30T02:27:22.938157Z",
     "iopub.status.idle": "2022-11-30T02:27:22.965330Z",
     "shell.execute_reply": "2022-11-30T02:27:22.964725Z"
    },
    "papermill": {
     "duration": 0.607911,
     "end_time": "2022-11-30T02:27:22.966254",
     "exception": false,
     "start_time": "2022-11-30T02:27:22.358343",
     "status": "completed"
    },
    "tags": []
   },
   "outputs": [
    {
     "name": "stdout",
     "output_type": "stream",
     "text": [
      "Works!\n"
     ]
    }
   ],
   "source": [
    "try:\n",
    "    # decomposition used by statsmodels.GLS\n",
    "    cholsigmainv = np.linalg.cholesky(np.linalg.inv(gene_corrs_df.to_numpy())).T\n",
    "    print(\"Works!\")\n",
    "except Exception as e:\n",
    "    print(f\"Cholesky decomposition failed (statsmodels.GLS): {str(e)}\")"
   ]
  },
  {
   "cell_type": "markdown",
   "id": "8e60a080-edb2-4e9c-b2ef-22961693200c",
   "metadata": {
    "papermill": {
     "duration": 0.613243,
     "end_time": "2022-11-30T02:27:24.151762",
     "exception": false,
     "start_time": "2022-11-30T02:27:23.538519",
     "status": "completed"
    },
    "tags": []
   },
   "source": [
    "## Plot: distribution"
   ]
  },
  {
   "cell_type": "code",
   "execution_count": 41,
   "id": "8301126b-a7d4-4744-9c7d-f0f86eb6f54c",
   "metadata": {
    "execution": {
     "iopub.execute_input": "2022-11-30T02:27:25.281178Z",
     "iopub.status.busy": "2022-11-30T02:27:25.280538Z",
     "iopub.status.idle": "2022-11-30T02:27:28.089431Z",
     "shell.execute_reply": "2022-11-30T02:27:28.089019Z"
    },
    "papermill": {
     "duration": 3.394786,
     "end_time": "2022-11-30T02:27:28.090992",
     "exception": false,
     "start_time": "2022-11-30T02:27:24.696206",
     "status": "completed"
    },
    "tags": []
   },
   "outputs": [
    {
     "data": {
      "image/png": "[encoded data removed]",
      "text/plain": [
       "<Figure size 700x700 with 1 Axes>"
      ]
     },
     "metadata": {},
     "output_type": "display_data"
    }
   ],
   "source": [
    "with sns.plotting_context(\"paper\", font_scale=1.5):\n",
    "    g = sns.displot(gene_corrs_flat, kde=True, height=7)\n",
    "    g.ax.set_title(\n",
    "        f\"Distribution of gene correlation values in chromosome {CHROMOSOME}\"\n",
    "    )"
   ]
  },
  {
   "cell_type": "markdown",
   "id": "cbd52bca-d878-4a2f-b684-5c83aa3038d4",
   "metadata": {
    "papermill": {
     "duration": 0.578819,
     "end_time": "2022-11-30T02:27:29.289464",
     "exception": false,
     "start_time": "2022-11-30T02:27:28.710645",
     "status": "completed"
    },
    "tags": []
   },
   "source": [
    "## Plot: heatmap"
   ]
  },
  {
   "cell_type": "code",
   "execution_count": 42,
   "id": "d03fe63a-c7b2-4fb9-a53c-db362ce843c9",
   "metadata": {
    "execution": {
     "iopub.execute_input": "2022-11-30T02:27:30.410362Z",
     "iopub.status.busy": "2022-11-30T02:27:30.409980Z",
     "iopub.status.idle": "2022-11-30T02:27:30.429074Z",
     "shell.execute_reply": "2022-11-30T02:27:30.428569Z"
    },
    "papermill": {
     "duration": 0.559234,
     "end_time": "2022-11-30T02:27:30.429858",
     "exception": false,
     "start_time": "2022-11-30T02:27:29.870624",
     "status": "completed"
    },
    "tags": []
   },
   "outputs": [
    {
     "data": {
      "text/plain": [
       "'0.0 / 0.05'"
      ]
     },
     "metadata": {},
     "output_type": "display_data"
    }
   ],
   "source": [
    "vmin_val = min(0.00, gene_corrs_quantiles[0.10])\n",
    "vmax_val = max(0.05, gene_corrs_quantiles[0.90])\n",
    "display(f\"{vmin_val} / {vmax_val}\")"
   ]
  },
  {
   "cell_type": "code",
   "execution_count": 43,
   "id": "dc41b70b-5bcc-4d9e-9f33-a22c4a94dab5",
   "metadata": {
    "execution": {
     "iopub.execute_input": "2022-11-30T02:27:31.584771Z",
     "iopub.status.busy": "2022-11-30T02:27:31.584345Z",
     "iopub.status.idle": "2022-11-30T02:27:31.769256Z",
     "shell.execute_reply": "2022-11-30T02:27:31.768806Z"
    },
    "papermill": {
     "duration": 0.764036,
     "end_time": "2022-11-30T02:27:31.771217",
     "exception": false,
     "start_time": "2022-11-30T02:27:31.007181",
     "status": "completed"
    },
    "tags": []
   },
   "outputs": [
    {
     "data": {
      "text/plain": [
       "Text(0.5, 1.0, 'Gene correlations in chromosome 22')"
      ]
     },
     "execution_count": 43,
     "metadata": {},
     "output_type": "execute_result"
    },
    {
     "data": {
      "image/png": "[encoded data removed]",
      "text/plain": [
       "<Figure size 1000x1000 with 2 Axes>"
      ]
     },
     "metadata": {},
     "output_type": "display_data"
    }
   ],
   "source": [
    "f, ax = plt.subplots(figsize=(10, 10))\n",
    "sns.heatmap(\n",
    "    gene_corrs_df,\n",
    "    xticklabels=False,\n",
    "    yticklabels=False,\n",
    "    square=True,\n",
    "    vmin=vmin_val,\n",
    "    vmax=vmax_val,\n",
    "    cmap=\"rocket_r\",\n",
    "    ax=ax,\n",
    ")\n",
    "ax.set_title(f\"Gene correlations in chromosome {CHROMOSOME}\")"
   ]
  },
  {
   "cell_type": "code",
   "execution_count": null,
   "id": "b25e3ead",
   "metadata": {
    "papermill": {
     "duration": 0.614326,
     "end_time": "2022-11-30T02:27:33.052307",
     "exception": false,
     "start_time": "2022-11-30T02:27:32.437981",
     "status": "completed"
    },
    "tags": []
   },
   "outputs": [],
   "source": []
  }
 ],
 "metadata": {
  "jupytext": {
   "cell_metadata_filter": "all,-execution,-papermill,-trusted",
   "formats": "ipynb,py//py:percent"
  },
  "kernelspec": {
   "display_name": "Python 3 (ipykernel)",
   "language": "python",
   "name": "python3"
  },
  "language_info": {
   "codemirror_mode": {
    "name": "ipython",
    "version": 3
   },
   "file_extension": ".py",
   "mimetype": "text/x-python",
   "name": "python",
   "nbconvert_exporter": "python",
   "pygments_lexer": "ipython3",
   "version": "3.10.6"
  },
  "papermill": {
   "default_parameters": {},
   "duration": 702.887002,
   "end_time": "2022-11-30T02:27:36.617651",
   "environment_variables": {},
   "exception": null,
   "input_path": "projects/asthma-copd/nbs/20_gene_corrs/10-gene_expr_correlations.ipynb",
   "output_path": "projects/asthma-copd/nbs/20_gene_corrs/gene_corrs/aco/10-gene_expr_correlations-chr22.run.ipynb",
   "parameters": {
    "CHROMOSOME": 22,
    "COHORT_NAME": "aco",
    "OUTPUT_DIR_BASE": "/opt/data/projects/asthma-copd/results/gls_phenoplier"
   },
   "start_time": "2022-11-30T02:15:53.730649",
   "version": "2.2.2"
  }
 },
 "nbformat": 4,
 "nbformat_minor": 5
}
