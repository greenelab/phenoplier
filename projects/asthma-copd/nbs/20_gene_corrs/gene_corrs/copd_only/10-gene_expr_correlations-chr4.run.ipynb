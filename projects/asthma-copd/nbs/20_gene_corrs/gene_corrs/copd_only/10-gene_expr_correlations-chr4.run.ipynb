{
 "cells": [
  {
   "cell_type": "markdown",
   "id": "7a6632fb",
   "metadata": {
    "papermill": {
     "duration": 0.008987,
     "end_time": "2022-11-29T23:20:34.911456",
     "exception": false,
     "start_time": "2022-11-29T23:20:34.902469",
     "status": "completed"
    },
    "tags": []
   },
   "source": [
    "# Description"
   ]
  },
  {
   "cell_type": "markdown",
   "id": "7097c346",
   "metadata": {
    "papermill": {
     "duration": 0.008575,
     "end_time": "2022-11-29T23:20:34.929434",
     "exception": false,
     "start_time": "2022-11-29T23:20:34.920859",
     "status": "completed"
    },
    "tags": []
   },
   "source": [
    "(Please, take a look at the README.md file in this directory for instructions on how to run this notebook)\n",
    "\n",
    "This notebook computes predicted expression correlations between all genes in the MultiPLIER models.\n",
    "\n",
    "It has specicfic parameters for papermill (see under `Settings` below).\n",
    "It can be configured to run on a single chromosome to run in parallel.\n",
    "\n",
    "This notebook is not directly run. See README.md."
   ]
  },
  {
   "cell_type": "markdown",
   "id": "c61d8427",
   "metadata": {
    "papermill": {
     "duration": 0.008196,
     "end_time": "2022-11-29T23:20:34.945914",
     "exception": false,
     "start_time": "2022-11-29T23:20:34.937718",
     "status": "completed"
    },
    "tags": []
   },
   "source": [
    "# Modules"
   ]
  },
  {
   "cell_type": "code",
   "execution_count": 1,
   "id": "bbc0234f",
   "metadata": {
    "execution": {
     "iopub.execute_input": "2022-11-29T23:20:34.964684Z",
     "iopub.status.busy": "2022-11-29T23:20:34.964325Z",
     "iopub.status.idle": "2022-11-29T23:20:34.982990Z",
     "shell.execute_reply": "2022-11-29T23:20:34.982371Z"
    },
    "papermill": {
     "duration": 0.029669,
     "end_time": "2022-11-29T23:20:34.984670",
     "exception": false,
     "start_time": "2022-11-29T23:20:34.955001",
     "status": "completed"
    },
    "tags": []
   },
   "outputs": [],
   "source": [
    "%load_ext autoreload\n",
    "%autoreload 2"
   ]
  },
  {
   "cell_type": "code",
   "execution_count": 2,
   "id": "1d5f5a59",
   "metadata": {
    "execution": {
     "iopub.execute_input": "2022-11-29T23:20:35.003233Z",
     "iopub.status.busy": "2022-11-29T23:20:35.002933Z",
     "iopub.status.idle": "2022-11-29T23:20:35.691156Z",
     "shell.execute_reply": "2022-11-29T23:20:35.690591Z"
    },
    "papermill": {
     "duration": 0.699036,
     "end_time": "2022-11-29T23:20:35.692831",
     "exception": false,
     "start_time": "2022-11-29T23:20:34.993795",
     "status": "completed"
    },
    "tags": []
   },
   "outputs": [],
   "source": [
    "from random import sample, seed\n",
    "import warnings\n",
    "from pathlib import Path\n",
    "import pickle\n",
    "import traceback\n",
    "\n",
    "import numpy as np\n",
    "from scipy.spatial.distance import squareform\n",
    "import pandas as pd\n",
    "from tqdm import tqdm\n",
    "import matplotlib.pyplot as plt\n",
    "import seaborn as sns\n",
    "\n",
    "import conf\n",
    "from entity import Gene"
   ]
  },
  {
   "cell_type": "markdown",
   "id": "1eac24b5",
   "metadata": {
    "papermill": {
     "duration": 0.009689,
     "end_time": "2022-11-29T23:20:35.711182",
     "exception": false,
     "start_time": "2022-11-29T23:20:35.701493",
     "status": "completed"
    },
    "tags": []
   },
   "source": [
    "# Settings"
   ]
  },
  {
   "cell_type": "code",
   "execution_count": 3,
   "id": "ca4560ba",
   "metadata": {
    "execution": {
     "iopub.execute_input": "2022-11-29T23:20:35.728960Z",
     "iopub.status.busy": "2022-11-29T23:20:35.728773Z",
     "iopub.status.idle": "2022-11-29T23:20:35.741896Z",
     "shell.execute_reply": "2022-11-29T23:20:35.741423Z"
    },
    "papermill": {
     "duration": 0.023834,
     "end_time": "2022-11-29T23:20:35.743272",
     "exception": false,
     "start_time": "2022-11-29T23:20:35.719438",
     "status": "completed"
    },
    "tags": [
     "parameters"
    ]
   },
   "outputs": [],
   "source": [
    "# a cohort name (it could be something like UK_BIOBANK, etc)\n",
    "COHORT_NAME = None\n",
    "\n",
    "# reference panel such as 1000G or GTEX_V8\n",
    "REFERENCE_PANEL = \"GTEX_V8\"\n",
    "\n",
    "# predictions models such as MASHR or ELASTIC_NET\n",
    "EQTL_MODEL = \"MASHR\"\n",
    "\n",
    "# this is the default value used in S-MultiXcan to select the\n",
    "# top principal components of the expression correlation matrix\n",
    "SMULTIXCAN_CONDITION_NUMBER = 30\n",
    "\n",
    "# specifies a single chromosome value\n",
    "CHROMOSOME = None\n",
    "\n",
    "# If True, computes the correlation between closeby genes only;\n",
    "# otherwise, it computes correlations for all genes in a chromosome\n",
    "COMPUTE_CORRELATIONS_WITHIN_DISTANCE = False\n",
    "\n",
    "# if True, then it will continue if a gene pair correlation fails,\n",
    "# printing the warning/error for debugging. If False, any warning/error\n",
    "# will be thrown\n",
    "DEBUG_MODE = False\n",
    "\n",
    "# output dir\n",
    "OUTPUT_DIR_BASE = None"
   ]
  },
  {
   "cell_type": "code",
   "execution_count": 4,
   "id": "600b87db",
   "metadata": {
    "execution": {
     "iopub.execute_input": "2022-11-29T23:20:35.760858Z",
     "iopub.status.busy": "2022-11-29T23:20:35.760724Z",
     "iopub.status.idle": "2022-11-29T23:20:35.772845Z",
     "shell.execute_reply": "2022-11-29T23:20:35.772380Z"
    },
    "papermill": {
     "duration": 0.022291,
     "end_time": "2022-11-29T23:20:35.774197",
     "exception": false,
     "start_time": "2022-11-29T23:20:35.751906",
     "status": "completed"
    },
    "tags": [
     "injected-parameters"
    ]
   },
   "outputs": [],
   "source": [
    "# Parameters\n",
    "COHORT_NAME = \"copd_only\"\n",
    "CHROMOSOME = 4\n",
    "OUTPUT_DIR_BASE = \"/opt/data/projects/asthma-copd/results/gls_phenoplier\"\n"
   ]
  },
  {
   "cell_type": "code",
   "execution_count": 5,
   "id": "3190631f-27fc-480f-b18e-571d580425a5",
   "metadata": {
    "execution": {
     "iopub.execute_input": "2022-11-29T23:20:35.791813Z",
     "iopub.status.busy": "2022-11-29T23:20:35.791681Z",
     "iopub.status.idle": "2022-11-29T23:20:35.813604Z",
     "shell.execute_reply": "2022-11-29T23:20:35.813092Z"
    },
    "papermill": {
     "duration": 0.032216,
     "end_time": "2022-11-29T23:20:35.815064",
     "exception": false,
     "start_time": "2022-11-29T23:20:35.782848",
     "status": "completed"
    },
    "tags": []
   },
   "outputs": [
    {
     "data": {
      "text/plain": [
       "'Cohort name: copd_only'"
      ]
     },
     "metadata": {},
     "output_type": "display_data"
    }
   ],
   "source": [
    "assert COHORT_NAME is not None and len(COHORT_NAME) > 0, \"A cohort name must be given\"\n",
    "\n",
    "COHORT_NAME = COHORT_NAME.lower()\n",
    "display(f\"Cohort name: {COHORT_NAME}\")"
   ]
  },
  {
   "cell_type": "code",
   "execution_count": 6,
   "id": "f53ba19b-0f93-4fa2-a047-63b375939d1a",
   "metadata": {
    "execution": {
     "iopub.execute_input": "2022-11-29T23:20:35.835844Z",
     "iopub.status.busy": "2022-11-29T23:20:35.835586Z",
     "iopub.status.idle": "2022-11-29T23:20:35.857245Z",
     "shell.execute_reply": "2022-11-29T23:20:35.856670Z"
    },
    "papermill": {
     "duration": 0.033631,
     "end_time": "2022-11-29T23:20:35.858656",
     "exception": false,
     "start_time": "2022-11-29T23:20:35.825025",
     "status": "completed"
    },
    "tags": []
   },
   "outputs": [
    {
     "data": {
      "text/plain": [
       "'Reference panel: GTEX_V8'"
      ]
     },
     "metadata": {},
     "output_type": "display_data"
    }
   ],
   "source": [
    "assert (\n",
    "    REFERENCE_PANEL is not None and len(REFERENCE_PANEL) > 0\n",
    "), \"A reference panel must be given\"\n",
    "\n",
    "display(f\"Reference panel: {REFERENCE_PANEL}\")"
   ]
  },
  {
   "cell_type": "code",
   "execution_count": 7,
   "id": "e024d130-c139-429a-9c6e-ccf149e297b0",
   "metadata": {
    "execution": {
     "iopub.execute_input": "2022-11-29T23:20:35.876154Z",
     "iopub.status.busy": "2022-11-29T23:20:35.875822Z",
     "iopub.status.idle": "2022-11-29T23:20:35.897075Z",
     "shell.execute_reply": "2022-11-29T23:20:35.896502Z"
    },
    "papermill": {
     "duration": 0.031046,
     "end_time": "2022-11-29T23:20:35.898016",
     "exception": false,
     "start_time": "2022-11-29T23:20:35.866970",
     "status": "completed"
    },
    "tags": []
   },
   "outputs": [
    {
     "data": {
      "text/plain": [
       "'eQTL model: MASHR) / mashr_'"
      ]
     },
     "metadata": {},
     "output_type": "display_data"
    }
   ],
   "source": [
    "assert (\n",
    "    EQTL_MODEL is not None and len(EQTL_MODEL) > 0\n",
    "), \"A prediction/eQTL model must be given\"\n",
    "\n",
    "EQTL_MODEL_FILES_PREFIX = conf.PHENOMEXCAN[\"PREDICTION_MODELS\"][f\"{EQTL_MODEL}_PREFIX\"]\n",
    "display(f\"eQTL model: {EQTL_MODEL}) / {EQTL_MODEL_FILES_PREFIX}\")"
   ]
  },
  {
   "cell_type": "code",
   "execution_count": 8,
   "id": "552a7f63-a18c-4d3e-bb6a-94f99b431291",
   "metadata": {
    "execution": {
     "iopub.execute_input": "2022-11-29T23:20:35.908504Z",
     "iopub.status.busy": "2022-11-29T23:20:35.908146Z",
     "iopub.status.idle": "2022-11-29T23:20:35.930120Z",
     "shell.execute_reply": "2022-11-29T23:20:35.929547Z"
    },
    "papermill": {
     "duration": 0.028403,
     "end_time": "2022-11-29T23:20:35.931039",
     "exception": false,
     "start_time": "2022-11-29T23:20:35.902636",
     "status": "completed"
    },
    "tags": []
   },
   "outputs": [
    {
     "data": {
      "text/plain": [
       "'S-MultiXcan condition number: 30'"
      ]
     },
     "metadata": {},
     "output_type": "display_data"
    }
   ],
   "source": [
    "assert (\n",
    "    SMULTIXCAN_CONDITION_NUMBER is not None and SMULTIXCAN_CONDITION_NUMBER > 0\n",
    "), \"The S-MultiXcan condition number (positive integer) must be given\"\n",
    "\n",
    "display(f\"S-MultiXcan condition number: {SMULTIXCAN_CONDITION_NUMBER}\")"
   ]
  },
  {
   "cell_type": "code",
   "execution_count": 9,
   "id": "f34a336f-548e-4afe-8955-90eaea4f42c6",
   "metadata": {
    "execution": {
     "iopub.execute_input": "2022-11-29T23:20:35.941147Z",
     "iopub.status.busy": "2022-11-29T23:20:35.940810Z",
     "iopub.status.idle": "2022-11-29T23:20:35.962579Z",
     "shell.execute_reply": "2022-11-29T23:20:35.962009Z"
    },
    "papermill": {
     "duration": 0.027775,
     "end_time": "2022-11-29T23:20:35.963495",
     "exception": false,
     "start_time": "2022-11-29T23:20:35.935720",
     "status": "completed"
    },
    "tags": []
   },
   "outputs": [
    {
     "data": {
      "text/plain": [
       "'Working on chromosome 4'"
      ]
     },
     "metadata": {},
     "output_type": "display_data"
    }
   ],
   "source": [
    "assert CHROMOSOME is not None and (\n",
    "    1 <= CHROMOSOME <= 22\n",
    "), \"You have to select one chromosome (format: number between 1 and 22)\"\n",
    "\n",
    "# CHROMOSOME = str(CHROMOSOME)\n",
    "display(f\"Working on chromosome {CHROMOSOME}\")"
   ]
  },
  {
   "cell_type": "code",
   "execution_count": 10,
   "id": "ab8e96e8-06b5-4363-9dcd-dc4d78cc27f7",
   "metadata": {
    "execution": {
     "iopub.execute_input": "2022-11-29T23:20:35.974082Z",
     "iopub.status.busy": "2022-11-29T23:20:35.973759Z",
     "iopub.status.idle": "2022-11-29T23:20:35.995617Z",
     "shell.execute_reply": "2022-11-29T23:20:35.995044Z"
    },
    "papermill": {
     "duration": 0.028329,
     "end_time": "2022-11-29T23:20:35.996549",
     "exception": false,
     "start_time": "2022-11-29T23:20:35.968220",
     "status": "completed"
    },
    "tags": []
   },
   "outputs": [
    {
     "data": {
      "text/plain": [
       "'Compute correlation within distance False'"
      ]
     },
     "metadata": {},
     "output_type": "display_data"
    }
   ],
   "source": [
    "display(f\"Compute correlation within distance {COMPUTE_CORRELATIONS_WITHIN_DISTANCE}\")"
   ]
  },
  {
   "cell_type": "code",
   "execution_count": 11,
   "id": "b393b698-77e3-4ba2-8ac1-e14d51aa988f",
   "metadata": {
    "execution": {
     "iopub.execute_input": "2022-11-29T23:20:36.007024Z",
     "iopub.status.busy": "2022-11-29T23:20:36.006698Z",
     "iopub.status.idle": "2022-11-29T23:20:36.029322Z",
     "shell.execute_reply": "2022-11-29T23:20:36.028740Z"
    },
    "papermill": {
     "duration": 0.028814,
     "end_time": "2022-11-29T23:20:36.030174",
     "exception": false,
     "start_time": "2022-11-29T23:20:36.001360",
     "status": "completed"
    },
    "tags": []
   },
   "outputs": [
    {
     "data": {
      "text/plain": [
       "'Using output dir base: /opt/data/projects/asthma-copd/results/gls_phenoplier/gene_corrs/copd_only'"
      ]
     },
     "metadata": {},
     "output_type": "display_data"
    }
   ],
   "source": [
    "assert (\n",
    "    OUTPUT_DIR_BASE is not None and len(OUTPUT_DIR_BASE) > 0\n",
    "), \"Output directory path must be given\"\n",
    "\n",
    "OUTPUT_DIR_BASE = (\n",
    "    Path(OUTPUT_DIR_BASE)\n",
    "    / \"gene_corrs\"\n",
    "    / COHORT_NAME\n",
    "    # / REFERENCE_PANEL.lower()\n",
    "    # / EQTL_MODEL.lower()\n",
    ").resolve()\n",
    "\n",
    "OUTPUT_DIR_BASE.mkdir(parents=True, exist_ok=True)\n",
    "\n",
    "display(f\"Using output dir base: {OUTPUT_DIR_BASE}\")"
   ]
  },
  {
   "cell_type": "markdown",
   "id": "d2ba085e",
   "metadata": {
    "papermill": {
     "duration": 0.004643,
     "end_time": "2022-11-29T23:20:36.039820",
     "exception": false,
     "start_time": "2022-11-29T23:20:36.035177",
     "status": "completed"
    },
    "tags": []
   },
   "source": [
    "# Load data"
   ]
  },
  {
   "cell_type": "markdown",
   "id": "7dcb8db7",
   "metadata": {
    "papermill": {
     "duration": 0.004595,
     "end_time": "2022-11-29T23:20:36.049470",
     "exception": false,
     "start_time": "2022-11-29T23:20:36.044875",
     "status": "completed"
    },
    "tags": []
   },
   "source": [
    "## GWAS variants"
   ]
  },
  {
   "cell_type": "code",
   "execution_count": 12,
   "id": "29434c4e-8cd3-4b9b-82e4-b5a251d9dd19",
   "metadata": {
    "execution": {
     "iopub.execute_input": "2022-11-29T23:20:36.059855Z",
     "iopub.status.busy": "2022-11-29T23:20:36.059519Z",
     "iopub.status.idle": "2022-11-29T23:20:38.020664Z",
     "shell.execute_reply": "2022-11-29T23:20:38.020129Z"
    },
    "papermill": {
     "duration": 1.968168,
     "end_time": "2022-11-29T23:20:38.022364",
     "exception": false,
     "start_time": "2022-11-29T23:20:36.054196",
     "status": "completed"
    },
    "tags": []
   },
   "outputs": [],
   "source": [
    "with open(OUTPUT_DIR_BASE / \"gwas_variant_ids.pkl\", \"rb\") as handle:\n",
    "    gwas_variants_ids_set = pickle.load(handle)"
   ]
  },
  {
   "cell_type": "code",
   "execution_count": 13,
   "id": "b9d9dec2-4a76-4bf9-bde2-e24c95acb8a0",
   "metadata": {
    "execution": {
     "iopub.execute_input": "2022-11-29T23:20:38.043227Z",
     "iopub.status.busy": "2022-11-29T23:20:38.043102Z",
     "iopub.status.idle": "2022-11-29T23:20:38.056240Z",
     "shell.execute_reply": "2022-11-29T23:20:38.055786Z"
    },
    "papermill": {
     "duration": 0.025385,
     "end_time": "2022-11-29T23:20:38.057625",
     "exception": false,
     "start_time": "2022-11-29T23:20:38.032240",
     "status": "completed"
    },
    "tags": []
   },
   "outputs": [
    {
     "data": {
      "text/plain": [
       "8586183"
      ]
     },
     "execution_count": 13,
     "metadata": {},
     "output_type": "execute_result"
    }
   ],
   "source": [
    "len(gwas_variants_ids_set)"
   ]
  },
  {
   "cell_type": "code",
   "execution_count": 14,
   "id": "4235b06a-6034-4ee4-a0a3-2ae35d122418",
   "metadata": {
    "execution": {
     "iopub.execute_input": "2022-11-29T23:20:38.077471Z",
     "iopub.status.busy": "2022-11-29T23:20:38.077345Z",
     "iopub.status.idle": "2022-11-29T23:20:38.440413Z",
     "shell.execute_reply": "2022-11-29T23:20:38.439884Z"
    },
    "papermill": {
     "duration": 0.383244,
     "end_time": "2022-11-29T23:20:38.450574",
     "exception": false,
     "start_time": "2022-11-29T23:20:38.067330",
     "status": "completed"
    },
    "tags": []
   },
   "outputs": [
    {
     "data": {
      "text/plain": [
       "['chr10_68496054_T_A_b38',\n",
       " 'chr11_66843352_G_GGGCCC_b38',\n",
       " 'chr9_7588094_G_A_b38',\n",
       " 'chr5_109382585_T_C_b38',\n",
       " 'chr8_125040812_T_C_b38']"
      ]
     },
     "execution_count": 14,
     "metadata": {},
     "output_type": "execute_result"
    }
   ],
   "source": [
    "list(gwas_variants_ids_set)[:5]"
   ]
  },
  {
   "cell_type": "markdown",
   "id": "07866999-2305-41f9-a144-e69c9122c212",
   "metadata": {
    "papermill": {
     "duration": 0.010174,
     "end_time": "2022-11-29T23:20:38.470672",
     "exception": false,
     "start_time": "2022-11-29T23:20:38.460498",
     "status": "completed"
    },
    "tags": []
   },
   "source": [
    "## S-PrediXcan tissue models"
   ]
  },
  {
   "cell_type": "code",
   "execution_count": 15,
   "id": "780611d9-77c8-405f-90a4-f271f7b09397",
   "metadata": {
    "execution": {
     "iopub.execute_input": "2022-11-29T23:20:38.490610Z",
     "iopub.status.busy": "2022-11-29T23:20:38.490489Z",
     "iopub.status.idle": "2022-11-29T23:20:39.091012Z",
     "shell.execute_reply": "2022-11-29T23:20:39.090484Z"
    },
    "papermill": {
     "duration": 0.612302,
     "end_time": "2022-11-29T23:20:39.092762",
     "exception": false,
     "start_time": "2022-11-29T23:20:38.480460",
     "status": "completed"
    },
    "tags": []
   },
   "outputs": [],
   "source": [
    "spredixcan_genes_models = pd.read_pickle(OUTPUT_DIR_BASE / \"gene_tissues.pkl\")"
   ]
  },
  {
   "cell_type": "code",
   "execution_count": 16,
   "id": "726dd1f6-9557-4225-91fa-b3b879ea96e1",
   "metadata": {
    "execution": {
     "iopub.execute_input": "2022-11-29T23:20:39.113675Z",
     "iopub.status.busy": "2022-11-29T23:20:39.113547Z",
     "iopub.status.idle": "2022-11-29T23:20:39.126873Z",
     "shell.execute_reply": "2022-11-29T23:20:39.126498Z"
    },
    "papermill": {
     "duration": 0.02536,
     "end_time": "2022-11-29T23:20:39.128205",
     "exception": false,
     "start_time": "2022-11-29T23:20:39.102845",
     "status": "completed"
    },
    "tags": []
   },
   "outputs": [
    {
     "data": {
      "text/plain": [
       "(6443, 5)"
      ]
     },
     "execution_count": 16,
     "metadata": {},
     "output_type": "execute_result"
    }
   ],
   "source": [
    "spredixcan_genes_models.shape"
   ]
  },
  {
   "cell_type": "code",
   "execution_count": 17,
   "id": "944a1b48-222c-4eb0-b252-b9de2cbca215",
   "metadata": {
    "execution": {
     "iopub.execute_input": "2022-11-29T23:20:39.150070Z",
     "iopub.status.busy": "2022-11-29T23:20:39.149909Z",
     "iopub.status.idle": "2022-11-29T23:20:39.172495Z",
     "shell.execute_reply": "2022-11-29T23:20:39.172008Z"
    },
    "papermill": {
     "duration": 0.035512,
     "end_time": "2022-11-29T23:20:39.174033",
     "exception": false,
     "start_time": "2022-11-29T23:20:39.138521",
     "status": "completed"
    },
    "tags": []
   },
   "outputs": [
    {
     "data": {
      "text/html": [
       "<div>\n",
       "<style scoped>\n",
       "    .dataframe tbody tr th:only-of-type {\n",
       "        vertical-align: middle;\n",
       "    }\n",
       "\n",
       "    .dataframe tbody tr th {\n",
       "        vertical-align: top;\n",
       "    }\n",
       "\n",
       "    .dataframe thead th {\n",
       "        text-align: right;\n",
       "    }\n",
       "</style>\n",
       "<table border=\"1\" class=\"dataframe\">\n",
       "  <thead>\n",
       "    <tr style=\"text-align: right;\">\n",
       "      <th></th>\n",
       "      <th>gene_name</th>\n",
       "      <th>tissue</th>\n",
       "      <th>n_tissues</th>\n",
       "      <th>n_snps_used_sum</th>\n",
       "      <th>n_snps_in_model_sum</th>\n",
       "    </tr>\n",
       "    <tr>\n",
       "      <th>gene_id</th>\n",
       "      <th></th>\n",
       "      <th></th>\n",
       "      <th></th>\n",
       "      <th></th>\n",
       "      <th></th>\n",
       "    </tr>\n",
       "  </thead>\n",
       "  <tbody>\n",
       "    <tr>\n",
       "      <th>ENSG00000000419</th>\n",
       "      <td>DPM1</td>\n",
       "      <td>(Brain_Substantia_nigra, Brain_Hypothalamus)</td>\n",
       "      <td>2</td>\n",
       "      <td>2</td>\n",
       "      <td>2</td>\n",
       "    </tr>\n",
       "    <tr>\n",
       "      <th>ENSG00000000938</th>\n",
       "      <td>FGR</td>\n",
       "      <td>(Pancreas, Liver, Brain_Cortex, Brain_Cerebell...</td>\n",
       "      <td>36</td>\n",
       "      <td>40</td>\n",
       "      <td>40</td>\n",
       "    </tr>\n",
       "    <tr>\n",
       "      <th>ENSG00000000971</th>\n",
       "      <td>CFH</td>\n",
       "      <td>(Brain_Cortex, Ovary, Brain_Cerebellar_Hemisph...</td>\n",
       "      <td>34</td>\n",
       "      <td>44</td>\n",
       "      <td>44</td>\n",
       "    </tr>\n",
       "    <tr>\n",
       "      <th>ENSG00000001084</th>\n",
       "      <td>GCLC</td>\n",
       "      <td>(Pancreas, Brain_Cortex, Brain_Cerebellar_Hemi...</td>\n",
       "      <td>32</td>\n",
       "      <td>46</td>\n",
       "      <td>46</td>\n",
       "    </tr>\n",
       "    <tr>\n",
       "      <th>ENSG00000001167</th>\n",
       "      <td>NFYA</td>\n",
       "      <td>(Brain_Cortex, Ovary, Brain_Cerebellar_Hemisph...</td>\n",
       "      <td>40</td>\n",
       "      <td>47</td>\n",
       "      <td>48</td>\n",
       "    </tr>\n",
       "  </tbody>\n",
       "</table>\n",
       "</div>"
      ],
      "text/plain": [
       "                gene_name                                             tissue  \\\n",
       "gene_id                                                                        \n",
       "ENSG00000000419      DPM1       (Brain_Substantia_nigra, Brain_Hypothalamus)   \n",
       "ENSG00000000938       FGR  (Pancreas, Liver, Brain_Cortex, Brain_Cerebell...   \n",
       "ENSG00000000971       CFH  (Brain_Cortex, Ovary, Brain_Cerebellar_Hemisph...   \n",
       "ENSG00000001084      GCLC  (Pancreas, Brain_Cortex, Brain_Cerebellar_Hemi...   \n",
       "ENSG00000001167      NFYA  (Brain_Cortex, Ovary, Brain_Cerebellar_Hemisph...   \n",
       "\n",
       "                 n_tissues  n_snps_used_sum  n_snps_in_model_sum  \n",
       "gene_id                                                           \n",
       "ENSG00000000419          2                2                    2  \n",
       "ENSG00000000938         36               40                   40  \n",
       "ENSG00000000971         34               44                   44  \n",
       "ENSG00000001084         32               46                   46  \n",
       "ENSG00000001167         40               47                   48  "
      ]
     },
     "execution_count": 17,
     "metadata": {},
     "output_type": "execute_result"
    }
   ],
   "source": [
    "spredixcan_genes_models.head()"
   ]
  },
  {
   "cell_type": "code",
   "execution_count": 18,
   "id": "d1c11bb1-be0b-4f40-b360-633d6827109f",
   "metadata": {
    "execution": {
     "iopub.execute_input": "2022-11-29T23:20:39.197818Z",
     "iopub.status.busy": "2022-11-29T23:20:39.197579Z",
     "iopub.status.idle": "2022-11-29T23:20:39.217784Z",
     "shell.execute_reply": "2022-11-29T23:20:39.217277Z"
    },
    "papermill": {
     "duration": 0.033808,
     "end_time": "2022-11-29T23:20:39.219231",
     "exception": false,
     "start_time": "2022-11-29T23:20:39.185423",
     "status": "completed"
    },
    "tags": []
   },
   "outputs": [],
   "source": [
    "assert spredixcan_genes_models.index.is_unique"
   ]
  },
  {
   "cell_type": "markdown",
   "id": "a5b5092c-a13e-47c4-a92a-480fcc08f3ae",
   "metadata": {
    "papermill": {
     "duration": 0.009372,
     "end_time": "2022-11-29T23:20:39.238394",
     "exception": false,
     "start_time": "2022-11-29T23:20:39.229022",
     "status": "completed"
    },
    "tags": []
   },
   "source": [
    "## Gene info"
   ]
  },
  {
   "cell_type": "code",
   "execution_count": 19,
   "id": "7d6bb224-88e9-4358-ac10-43a41d92cdad",
   "metadata": {
    "execution": {
     "iopub.execute_input": "2022-11-29T23:20:39.258549Z",
     "iopub.status.busy": "2022-11-29T23:20:39.258286Z",
     "iopub.status.idle": "2022-11-29T23:20:39.281924Z",
     "shell.execute_reply": "2022-11-29T23:20:39.281367Z"
    },
    "papermill": {
     "duration": 0.035391,
     "end_time": "2022-11-29T23:20:39.283152",
     "exception": false,
     "start_time": "2022-11-29T23:20:39.247761",
     "status": "completed"
    },
    "tags": []
   },
   "outputs": [],
   "source": [
    "genes_info = pd.read_pickle(OUTPUT_DIR_BASE / \"genes_info.pkl\")"
   ]
  },
  {
   "cell_type": "code",
   "execution_count": 20,
   "id": "9e32abfa-546d-483e-8c18-d526e9e05903",
   "metadata": {
    "execution": {
     "iopub.execute_input": "2022-11-29T23:20:39.294869Z",
     "iopub.status.busy": "2022-11-29T23:20:39.294588Z",
     "iopub.status.idle": "2022-11-29T23:20:39.316396Z",
     "shell.execute_reply": "2022-11-29T23:20:39.315877Z"
    },
    "papermill": {
     "duration": 0.028589,
     "end_time": "2022-11-29T23:20:39.317291",
     "exception": false,
     "start_time": "2022-11-29T23:20:39.288702",
     "status": "completed"
    },
    "tags": []
   },
   "outputs": [
    {
     "data": {
      "text/plain": [
       "(6443, 7)"
      ]
     },
     "execution_count": 20,
     "metadata": {},
     "output_type": "execute_result"
    }
   ],
   "source": [
    "genes_info.shape"
   ]
  },
  {
   "cell_type": "code",
   "execution_count": 21,
   "id": "d16c3e92-85ec-468a-9a56-e25a9774a1cb",
   "metadata": {
    "execution": {
     "iopub.execute_input": "2022-11-29T23:20:39.329071Z",
     "iopub.status.busy": "2022-11-29T23:20:39.328804Z",
     "iopub.status.idle": "2022-11-29T23:20:39.354718Z",
     "shell.execute_reply": "2022-11-29T23:20:39.354204Z"
    },
    "papermill": {
     "duration": 0.03294,
     "end_time": "2022-11-29T23:20:39.355576",
     "exception": false,
     "start_time": "2022-11-29T23:20:39.322636",
     "status": "completed"
    },
    "tags": []
   },
   "outputs": [
    {
     "data": {
      "text/html": [
       "<div>\n",
       "<style scoped>\n",
       "    .dataframe tbody tr th:only-of-type {\n",
       "        vertical-align: middle;\n",
       "    }\n",
       "\n",
       "    .dataframe tbody tr th {\n",
       "        vertical-align: top;\n",
       "    }\n",
       "\n",
       "    .dataframe thead th {\n",
       "        text-align: right;\n",
       "    }\n",
       "</style>\n",
       "<table border=\"1\" class=\"dataframe\">\n",
       "  <thead>\n",
       "    <tr style=\"text-align: right;\">\n",
       "      <th></th>\n",
       "      <th>name</th>\n",
       "      <th>id</th>\n",
       "      <th>chr</th>\n",
       "      <th>band</th>\n",
       "      <th>start_position</th>\n",
       "      <th>end_position</th>\n",
       "      <th>gene_length</th>\n",
       "    </tr>\n",
       "  </thead>\n",
       "  <tbody>\n",
       "    <tr>\n",
       "      <th>0</th>\n",
       "      <td>PPP1R13B</td>\n",
       "      <td>ENSG00000088808</td>\n",
       "      <td>14</td>\n",
       "      <td>14q32.33</td>\n",
       "      <td>103733195</td>\n",
       "      <td>103847590</td>\n",
       "      <td>114395</td>\n",
       "    </tr>\n",
       "    <tr>\n",
       "      <th>1</th>\n",
       "      <td>HNRNPA0</td>\n",
       "      <td>ENSG00000177733</td>\n",
       "      <td>5</td>\n",
       "      <td>5q31.2</td>\n",
       "      <td>137745651</td>\n",
       "      <td>137754376</td>\n",
       "      <td>8725</td>\n",
       "    </tr>\n",
       "    <tr>\n",
       "      <th>2</th>\n",
       "      <td>GSN</td>\n",
       "      <td>ENSG00000148180</td>\n",
       "      <td>9</td>\n",
       "      <td>9q33.2</td>\n",
       "      <td>121207794</td>\n",
       "      <td>121332843</td>\n",
       "      <td>125049</td>\n",
       "    </tr>\n",
       "    <tr>\n",
       "      <th>3</th>\n",
       "      <td>CCR3</td>\n",
       "      <td>ENSG00000183625</td>\n",
       "      <td>3</td>\n",
       "      <td>3p21.31</td>\n",
       "      <td>46163604</td>\n",
       "      <td>46266706</td>\n",
       "      <td>103102</td>\n",
       "    </tr>\n",
       "    <tr>\n",
       "      <th>4</th>\n",
       "      <td>TRIB2</td>\n",
       "      <td>ENSG00000071575</td>\n",
       "      <td>2</td>\n",
       "      <td>2p24.3</td>\n",
       "      <td>12716889</td>\n",
       "      <td>12742734</td>\n",
       "      <td>25845</td>\n",
       "    </tr>\n",
       "  </tbody>\n",
       "</table>\n",
       "</div>"
      ],
      "text/plain": [
       "       name               id  chr      band  start_position  end_position  \\\n",
       "0  PPP1R13B  ENSG00000088808   14  14q32.33       103733195     103847590   \n",
       "1   HNRNPA0  ENSG00000177733    5    5q31.2       137745651     137754376   \n",
       "2       GSN  ENSG00000148180    9    9q33.2       121207794     121332843   \n",
       "3      CCR3  ENSG00000183625    3   3p21.31        46163604      46266706   \n",
       "4     TRIB2  ENSG00000071575    2    2p24.3        12716889      12742734   \n",
       "\n",
       "   gene_length  \n",
       "0       114395  \n",
       "1         8725  \n",
       "2       125049  \n",
       "3       103102  \n",
       "4        25845  "
      ]
     },
     "execution_count": 21,
     "metadata": {},
     "output_type": "execute_result"
    }
   ],
   "source": [
    "genes_info.head()"
   ]
  },
  {
   "cell_type": "markdown",
   "id": "d3843e06",
   "metadata": {
    "papermill": {
     "duration": 0.005285,
     "end_time": "2022-11-29T23:20:39.366411",
     "exception": false,
     "start_time": "2022-11-29T23:20:39.361126",
     "status": "completed"
    },
    "tags": []
   },
   "source": [
    "# Compute correlations"
   ]
  },
  {
   "cell_type": "code",
   "execution_count": 22,
   "id": "cb859c15-d1f3-4006-a74c-2b83c0db9611",
   "metadata": {
    "execution": {
     "iopub.execute_input": "2022-11-29T23:20:39.378373Z",
     "iopub.status.busy": "2022-11-29T23:20:39.378102Z",
     "iopub.status.idle": "2022-11-29T23:20:39.400241Z",
     "shell.execute_reply": "2022-11-29T23:20:39.399736Z"
    },
    "papermill": {
     "duration": 0.029038,
     "end_time": "2022-11-29T23:20:39.401088",
     "exception": false,
     "start_time": "2022-11-29T23:20:39.372050",
     "status": "completed"
    },
    "tags": []
   },
   "outputs": [
    {
     "data": {
      "text/plain": [
       "PosixPath('/opt/data/projects/asthma-copd/results/gls_phenoplier/gene_corrs/copd_only/by_chr/gene_corrs-chr4.pkl')"
      ]
     },
     "metadata": {},
     "output_type": "display_data"
    }
   ],
   "source": [
    "output_dir = OUTPUT_DIR_BASE / \"by_chr\"\n",
    "output_dir.mkdir(exist_ok=True, parents=True)\n",
    "output_file = output_dir / f\"gene_corrs-chr{CHROMOSOME}.pkl\"\n",
    "display(output_file)"
   ]
  },
  {
   "cell_type": "code",
   "execution_count": 23,
   "id": "aa674fe4-6794-4eed-98fa-32b39d1d4ace",
   "metadata": {
    "execution": {
     "iopub.execute_input": "2022-11-29T23:20:39.413118Z",
     "iopub.status.busy": "2022-11-29T23:20:39.412762Z",
     "iopub.status.idle": "2022-11-29T23:20:39.433096Z",
     "shell.execute_reply": "2022-11-29T23:20:39.432581Z"
    },
    "papermill": {
     "duration": 0.027365,
     "end_time": "2022-11-29T23:20:39.434061",
     "exception": false,
     "start_time": "2022-11-29T23:20:39.406696",
     "status": "completed"
    },
    "tags": []
   },
   "outputs": [],
   "source": [
    "warnings.filterwarnings(\"error\")"
   ]
  },
  {
   "cell_type": "code",
   "execution_count": 24,
   "id": "44d5450b-3baf-43f1-9e2e-4b06f1a785f8",
   "metadata": {
    "execution": {
     "iopub.execute_input": "2022-11-29T23:20:39.446391Z",
     "iopub.status.busy": "2022-11-29T23:20:39.446129Z",
     "iopub.status.idle": "2022-11-29T23:20:39.467304Z",
     "shell.execute_reply": "2022-11-29T23:20:39.466779Z"
    },
    "papermill": {
     "duration": 0.028252,
     "end_time": "2022-11-29T23:20:39.468268",
     "exception": false,
     "start_time": "2022-11-29T23:20:39.440016",
     "status": "completed"
    },
    "tags": []
   },
   "outputs": [],
   "source": [
    "# standard checks\n",
    "all_chrs = genes_info[\"chr\"].dropna().unique()\n",
    "assert all_chrs.shape[0] == 22\n",
    "\n",
    "# select chromosome given by the user\n",
    "assert CHROMOSOME in all_chrs"
   ]
  },
  {
   "cell_type": "code",
   "execution_count": 25,
   "id": "2d7c043c-92a7-4d35-991b-fa69ac1e0268",
   "metadata": {
    "execution": {
     "iopub.execute_input": "2022-11-29T23:20:39.480750Z",
     "iopub.status.busy": "2022-11-29T23:20:39.480487Z",
     "iopub.status.idle": "2022-11-29T23:20:39.503162Z",
     "shell.execute_reply": "2022-11-29T23:20:39.502641Z"
    },
    "papermill": {
     "duration": 0.029966,
     "end_time": "2022-11-29T23:20:39.504069",
     "exception": false,
     "start_time": "2022-11-29T23:20:39.474103",
     "status": "completed"
    },
    "tags": []
   },
   "outputs": [
    {
     "name": "stdout",
     "output_type": "stream",
     "text": [
      "Number of genes in chromosome: 244\n"
     ]
    }
   ],
   "source": [
    "# run only on the chromosome specified\n",
    "all_chrs = [CHROMOSOME]\n",
    "genes_chr = genes_info[genes_info[\"chr\"] == CHROMOSOME]\n",
    "\n",
    "# For testing purposes\n",
    "# genes_chr = genes_chr.sample(n=20)\n",
    "\n",
    "print(f\"Number of genes in chromosome: {genes_chr.shape[0]}\", flush=True)"
   ]
  },
  {
   "cell_type": "code",
   "execution_count": 26,
   "id": "916015d8-2979-46d3-a9b9-1cf5a0932c6a",
   "metadata": {
    "execution": {
     "iopub.execute_input": "2022-11-29T23:20:39.516402Z",
     "iopub.status.busy": "2022-11-29T23:20:39.515912Z",
     "iopub.status.idle": "2022-11-29T23:20:39.537043Z",
     "shell.execute_reply": "2022-11-29T23:20:39.536514Z"
    },
    "papermill": {
     "duration": 0.028245,
     "end_time": "2022-11-29T23:20:39.538027",
     "exception": false,
     "start_time": "2022-11-29T23:20:39.509782",
     "status": "completed"
    },
    "tags": []
   },
   "outputs": [],
   "source": [
    "# sort genes by starting position to make visualizations better later\n",
    "genes_chr = genes_chr.sort_values(\"start_position\")"
   ]
  },
  {
   "cell_type": "code",
   "execution_count": 27,
   "id": "a38aa74a-8ad3-47f6-8ef9-56be0e011774",
   "metadata": {
    "execution": {
     "iopub.execute_input": "2022-11-29T23:20:39.550690Z",
     "iopub.status.busy": "2022-11-29T23:20:39.550208Z",
     "iopub.status.idle": "2022-11-29T23:20:39.571579Z",
     "shell.execute_reply": "2022-11-29T23:20:39.571045Z"
    },
    "papermill": {
     "duration": 0.028509,
     "end_time": "2022-11-29T23:20:39.572561",
     "exception": false,
     "start_time": "2022-11-29T23:20:39.544052",
     "status": "completed"
    },
    "tags": []
   },
   "outputs": [],
   "source": [
    "gene_chr_objs = [Gene(ensembl_id=gene_id) for gene_id in genes_chr[\"id\"]]"
   ]
  },
  {
   "cell_type": "code",
   "execution_count": 28,
   "id": "570f974f-13c3-42b6-ad3a-ce99ca885c1a",
   "metadata": {
    "execution": {
     "iopub.execute_input": "2022-11-29T23:20:39.584812Z",
     "iopub.status.busy": "2022-11-29T23:20:39.584547Z",
     "iopub.status.idle": "2022-11-29T23:20:39.605851Z",
     "shell.execute_reply": "2022-11-29T23:20:39.605330Z"
    },
    "papermill": {
     "duration": 0.028392,
     "end_time": "2022-11-29T23:20:39.606705",
     "exception": false,
     "start_time": "2022-11-29T23:20:39.578313",
     "status": "completed"
    },
    "tags": []
   },
   "outputs": [
    {
     "name": "stdout",
     "output_type": "stream",
     "text": [
      "Number of gene combinations: 29890\n"
     ]
    }
   ],
   "source": [
    "n = len(gene_chr_objs)\n",
    "# diagonal elements + upper triangular matrix\n",
    "n_comb = n + int(n * (n - 1) / 2.0)\n",
    "print(f\"Number of gene combinations: {n_comb}\", flush=True)"
   ]
  },
  {
   "cell_type": "code",
   "execution_count": 29,
   "id": "cdbb90a1",
   "metadata": {
    "execution": {
     "iopub.execute_input": "2022-11-29T23:20:39.619665Z",
     "iopub.status.busy": "2022-11-29T23:20:39.619209Z",
     "iopub.status.idle": "2022-11-29T23:40:48.006800Z",
     "shell.execute_reply": "2022-11-29T23:40:48.006236Z"
    },
    "papermill": {
     "duration": 1208.395142,
     "end_time": "2022-11-29T23:40:48.007987",
     "exception": false,
     "start_time": "2022-11-29T23:20:39.612845",
     "status": "completed"
    },
    "tags": []
   },
   "outputs": [
    {
     "name": "stderr",
     "output_type": "stream",
     "text": [
      "ENSG00000109536 / ENSG00000109536: 100%|██████████████████████| 29890/29890 [20:08<00:00, 24.74it/s]\n"
     ]
    },
    {
     "data": {
      "text/plain": [
       "PosixPath('/opt/data/projects/asthma-copd/results/gls_phenoplier/gene_corrs/copd_only/by_chr/gene_corrs-chr4.pkl')"
      ]
     },
     "metadata": {},
     "output_type": "display_data"
    }
   ],
   "source": [
    "gene_corrs = []\n",
    "gene_corrs_data = np.full(\n",
    "    (n, n),\n",
    "    np.nan,\n",
    "    dtype=np.float64,\n",
    ")\n",
    "\n",
    "i = 0\n",
    "with tqdm(ncols=100, total=n_comb) as pbar:\n",
    "    for gene1_idx in range(0, len(gene_chr_objs)):\n",
    "        gene1_obj = gene_chr_objs[gene1_idx]\n",
    "        gene1_tissues = spredixcan_genes_models.loc[gene1_obj.ensembl_id, \"tissue\"]\n",
    "\n",
    "        for gene2_idx in range(gene1_idx, len(gene_chr_objs)):\n",
    "            gene2_obj = gene_chr_objs[gene2_idx]\n",
    "            gene2_tissues = spredixcan_genes_models.loc[gene2_obj.ensembl_id, \"tissue\"]\n",
    "\n",
    "            pbar.set_description(f\"{gene1_obj.ensembl_id} / {gene2_obj.ensembl_id}\")\n",
    "\n",
    "            try:\n",
    "                r = gene1_obj.get_ssm_correlation(\n",
    "                    other_gene=gene2_obj,\n",
    "                    tissues=gene1_tissues,\n",
    "                    other_tissues=gene2_tissues,\n",
    "                    snps_subset=gwas_variants_ids_set,\n",
    "                    condition_number=SMULTIXCAN_CONDITION_NUMBER,\n",
    "                    reference_panel=REFERENCE_PANEL,\n",
    "                    model_type=EQTL_MODEL,\n",
    "                    use_within_distance=COMPUTE_CORRELATIONS_WITHIN_DISTANCE,\n",
    "                )\n",
    "\n",
    "                if r is None:\n",
    "                    # if r is None, it's very likely because:\n",
    "                    #  * one of the genes has no prediction models\n",
    "                    #  * all the SNPs predictors for the gene are not present in the reference\n",
    "                    #    panel\n",
    "\n",
    "                    r = 0.0\n",
    "\n",
    "                gene_corrs.append(r)\n",
    "\n",
    "                gene_corrs_data[gene1_idx, gene2_idx] = r\n",
    "                gene_corrs_data[gene2_idx, gene1_idx] = r\n",
    "            except Warning as e:\n",
    "                if not DEBUG_MODE:\n",
    "                    raise e\n",
    "\n",
    "                print(\n",
    "                    f\"RuntimeWarning for genes {gene1_obj.ensembl_id} and {gene2_obj.ensembl_id}\",\n",
    "                    flush=True,\n",
    "                )\n",
    "                print(traceback.format_exc(), flush=True)\n",
    "\n",
    "                gene_corrs.append(np.nan)\n",
    "            except Exception as e:\n",
    "                if not DEBUG_MODE:\n",
    "                    raise e\n",
    "\n",
    "                print(\n",
    "                    f\"Exception for genes {gene1_obj.ensembl_id} and {gene2_obj.ensembl_id}\",\n",
    "                    flush=True,\n",
    "                )\n",
    "                print(traceback.format_exc(), flush=True)\n",
    "\n",
    "                gene_corrs.append(np.nan)\n",
    "\n",
    "            pbar.update(1)\n",
    "\n",
    "# create a pandas series\n",
    "gene_corrs_flat = pd.Series(gene_corrs)\n",
    "\n",
    "# save\n",
    "# FIXME: consider saving only the condenced matrix here. See here for\n",
    "# more details: https://github.com/greenelab/phenoplier/pull/38#discussion_r634600813\n",
    "# gene_corrs_data = squareform(np.array(gene_corrs, dtype=np.float64))\n",
    "# np.fill_diagonal(gene_corrs_data, 1.0)\n",
    "\n",
    "gene_chr_ids = [g.ensembl_id for g in gene_chr_objs]\n",
    "gene_corrs_df = pd.DataFrame(\n",
    "    data=gene_corrs_data,\n",
    "    index=gene_chr_ids,\n",
    "    columns=gene_chr_ids,\n",
    ")\n",
    "\n",
    "output_dir.mkdir(exist_ok=True, parents=True)\n",
    "display(output_file)\n",
    "\n",
    "gene_corrs_df.to_pickle(output_file)"
   ]
  },
  {
   "cell_type": "markdown",
   "id": "faa67b51-5373-470f-aa72-2ded53fa6dfe",
   "metadata": {
    "papermill": {
     "duration": 1.117519,
     "end_time": "2022-11-29T23:40:50.328072",
     "exception": false,
     "start_time": "2022-11-29T23:40:49.210553",
     "status": "completed"
    },
    "tags": []
   },
   "source": [
    "# Testing"
   ]
  },
  {
   "cell_type": "code",
   "execution_count": 30,
   "id": "14f7d046-4b55-4896-a56b-990127bcc388",
   "metadata": {
    "execution": {
     "iopub.execute_input": "2022-11-29T23:40:52.698685Z",
     "iopub.status.busy": "2022-11-29T23:40:52.698323Z",
     "iopub.status.idle": "2022-11-29T23:40:52.718893Z",
     "shell.execute_reply": "2022-11-29T23:40:52.718293Z"
    },
    "papermill": {
     "duration": 1.194063,
     "end_time": "2022-11-29T23:40:52.719809",
     "exception": false,
     "start_time": "2022-11-29T23:40:51.525746",
     "status": "completed"
    },
    "tags": []
   },
   "outputs": [
    {
     "data": {
      "text/plain": [
       "(244, 244)"
      ]
     },
     "execution_count": 30,
     "metadata": {},
     "output_type": "execute_result"
    }
   ],
   "source": [
    "gene_corrs_df.shape"
   ]
  },
  {
   "cell_type": "code",
   "execution_count": 31,
   "id": "c7d15414-3297-4537-a7c6-7588c0baeb75",
   "metadata": {
    "execution": {
     "iopub.execute_input": "2022-11-29T23:40:55.086495Z",
     "iopub.status.busy": "2022-11-29T23:40:55.085784Z",
     "iopub.status.idle": "2022-11-29T23:40:55.132392Z",
     "shell.execute_reply": "2022-11-29T23:40:55.131771Z"
    },
    "papermill": {
     "duration": 1.200033,
     "end_time": "2022-11-29T23:40:55.133296",
     "exception": false,
     "start_time": "2022-11-29T23:40:53.933263",
     "status": "completed"
    },
    "tags": []
   },
   "outputs": [
    {
     "data": {
      "text/html": [
       "<div>\n",
       "<style scoped>\n",
       "    .dataframe tbody tr th:only-of-type {\n",
       "        vertical-align: middle;\n",
       "    }\n",
       "\n",
       "    .dataframe tbody tr th {\n",
       "        vertical-align: top;\n",
       "    }\n",
       "\n",
       "    .dataframe thead th {\n",
       "        text-align: right;\n",
       "    }\n",
       "</style>\n",
       "<table border=\"1\" class=\"dataframe\">\n",
       "  <thead>\n",
       "    <tr style=\"text-align: right;\">\n",
       "      <th></th>\n",
       "      <th>ENSG00000272602</th>\n",
       "      <th>ENSG00000131127</th>\n",
       "      <th>ENSG00000174227</th>\n",
       "      <th>ENSG00000133256</th>\n",
       "      <th>ENSG00000169020</th>\n",
       "      <th>ENSG00000215375</th>\n",
       "      <th>ENSG00000169026</th>\n",
       "      <th>ENSG00000178950</th>\n",
       "      <th>ENSG00000145214</th>\n",
       "      <th>ENSG00000145217</th>\n",
       "      <th>...</th>\n",
       "      <th>ENSG00000109674</th>\n",
       "      <th>ENSG00000038002</th>\n",
       "      <th>ENSG00000129187</th>\n",
       "      <th>ENSG00000168310</th>\n",
       "      <th>ENSG00000164305</th>\n",
       "      <th>ENSG00000151726</th>\n",
       "      <th>ENSG00000151729</th>\n",
       "      <th>ENSG00000164342</th>\n",
       "      <th>ENSG00000164344</th>\n",
       "      <th>ENSG00000109536</th>\n",
       "    </tr>\n",
       "  </thead>\n",
       "  <tbody>\n",
       "    <tr>\n",
       "      <th>ENSG00000272602</th>\n",
       "      <td>1.000000</td>\n",
       "      <td>0.055217</td>\n",
       "      <td>0.168507</td>\n",
       "      <td>0.099181</td>\n",
       "      <td>0.096555</td>\n",
       "      <td>0.045839</td>\n",
       "      <td>0.058575</td>\n",
       "      <td>0.012272</td>\n",
       "      <td>0.006584</td>\n",
       "      <td>0.001559</td>\n",
       "      <td>...</td>\n",
       "      <td>0.010453</td>\n",
       "      <td>0.005149</td>\n",
       "      <td>0.010104</td>\n",
       "      <td>0.011093</td>\n",
       "      <td>0.008498</td>\n",
       "      <td>0.005795</td>\n",
       "      <td>0.009951</td>\n",
       "      <td>0.006716</td>\n",
       "      <td>0.005504</td>\n",
       "      <td>0.007268</td>\n",
       "    </tr>\n",
       "    <tr>\n",
       "      <th>ENSG00000131127</th>\n",
       "      <td>0.055217</td>\n",
       "      <td>1.000000</td>\n",
       "      <td>0.263330</td>\n",
       "      <td>0.071177</td>\n",
       "      <td>0.036538</td>\n",
       "      <td>0.034526</td>\n",
       "      <td>0.042024</td>\n",
       "      <td>0.007476</td>\n",
       "      <td>0.009562</td>\n",
       "      <td>0.002483</td>\n",
       "      <td>...</td>\n",
       "      <td>0.006922</td>\n",
       "      <td>0.004238</td>\n",
       "      <td>0.004431</td>\n",
       "      <td>0.010204</td>\n",
       "      <td>0.003890</td>\n",
       "      <td>0.008139</td>\n",
       "      <td>0.007795</td>\n",
       "      <td>0.007423</td>\n",
       "      <td>0.002115</td>\n",
       "      <td>0.002690</td>\n",
       "    </tr>\n",
       "    <tr>\n",
       "      <th>ENSG00000174227</th>\n",
       "      <td>0.168507</td>\n",
       "      <td>0.263330</td>\n",
       "      <td>1.000000</td>\n",
       "      <td>0.317910</td>\n",
       "      <td>0.158097</td>\n",
       "      <td>0.069939</td>\n",
       "      <td>0.100279</td>\n",
       "      <td>0.007931</td>\n",
       "      <td>0.008272</td>\n",
       "      <td>0.004041</td>\n",
       "      <td>...</td>\n",
       "      <td>0.006857</td>\n",
       "      <td>0.002611</td>\n",
       "      <td>0.011521</td>\n",
       "      <td>0.006669</td>\n",
       "      <td>0.005326</td>\n",
       "      <td>0.006427</td>\n",
       "      <td>0.006670</td>\n",
       "      <td>0.006830</td>\n",
       "      <td>0.006222</td>\n",
       "      <td>0.002279</td>\n",
       "    </tr>\n",
       "    <tr>\n",
       "      <th>ENSG00000133256</th>\n",
       "      <td>0.099181</td>\n",
       "      <td>0.071177</td>\n",
       "      <td>0.317910</td>\n",
       "      <td>1.000000</td>\n",
       "      <td>0.261069</td>\n",
       "      <td>0.202711</td>\n",
       "      <td>0.229258</td>\n",
       "      <td>0.018131</td>\n",
       "      <td>0.011481</td>\n",
       "      <td>0.002283</td>\n",
       "      <td>...</td>\n",
       "      <td>0.011084</td>\n",
       "      <td>0.005703</td>\n",
       "      <td>0.009555</td>\n",
       "      <td>0.007413</td>\n",
       "      <td>0.005696</td>\n",
       "      <td>0.005566</td>\n",
       "      <td>0.007196</td>\n",
       "      <td>0.009132</td>\n",
       "      <td>0.004878</td>\n",
       "      <td>0.006999</td>\n",
       "    </tr>\n",
       "    <tr>\n",
       "      <th>ENSG00000169020</th>\n",
       "      <td>0.096555</td>\n",
       "      <td>0.036538</td>\n",
       "      <td>0.158097</td>\n",
       "      <td>0.261069</td>\n",
       "      <td>1.000000</td>\n",
       "      <td>0.153616</td>\n",
       "      <td>0.232199</td>\n",
       "      <td>0.006056</td>\n",
       "      <td>0.006638</td>\n",
       "      <td>0.001911</td>\n",
       "      <td>...</td>\n",
       "      <td>0.001814</td>\n",
       "      <td>0.000699</td>\n",
       "      <td>0.004611</td>\n",
       "      <td>0.003805</td>\n",
       "      <td>0.000369</td>\n",
       "      <td>0.003265</td>\n",
       "      <td>0.002594</td>\n",
       "      <td>0.001526</td>\n",
       "      <td>0.000904</td>\n",
       "      <td>0.002050</td>\n",
       "    </tr>\n",
       "  </tbody>\n",
       "</table>\n",
       "<p>5 rows × 244 columns</p>\n",
       "</div>"
      ],
      "text/plain": [
       "                 ENSG00000272602  ENSG00000131127  ENSG00000174227  \\\n",
       "ENSG00000272602         1.000000         0.055217         0.168507   \n",
       "ENSG00000131127         0.055217         1.000000         0.263330   \n",
       "ENSG00000174227         0.168507         0.263330         1.000000   \n",
       "ENSG00000133256         0.099181         0.071177         0.317910   \n",
       "ENSG00000169020         0.096555         0.036538         0.158097   \n",
       "\n",
       "                 ENSG00000133256  ENSG00000169020  ENSG00000215375  \\\n",
       "ENSG00000272602         0.099181         0.096555         0.045839   \n",
       "ENSG00000131127         0.071177         0.036538         0.034526   \n",
       "ENSG00000174227         0.317910         0.158097         0.069939   \n",
       "ENSG00000133256         1.000000         0.261069         0.202711   \n",
       "ENSG00000169020         0.261069         1.000000         0.153616   \n",
       "\n",
       "                 ENSG00000169026  ENSG00000178950  ENSG00000145214  \\\n",
       "ENSG00000272602         0.058575         0.012272         0.006584   \n",
       "ENSG00000131127         0.042024         0.007476         0.009562   \n",
       "ENSG00000174227         0.100279         0.007931         0.008272   \n",
       "ENSG00000133256         0.229258         0.018131         0.011481   \n",
       "ENSG00000169020         0.232199         0.006056         0.006638   \n",
       "\n",
       "                 ENSG00000145217  ...  ENSG00000109674  ENSG00000038002  \\\n",
       "ENSG00000272602         0.001559  ...         0.010453         0.005149   \n",
       "ENSG00000131127         0.002483  ...         0.006922         0.004238   \n",
       "ENSG00000174227         0.004041  ...         0.006857         0.002611   \n",
       "ENSG00000133256         0.002283  ...         0.011084         0.005703   \n",
       "ENSG00000169020         0.001911  ...         0.001814         0.000699   \n",
       "\n",
       "                 ENSG00000129187  ENSG00000168310  ENSG00000164305  \\\n",
       "ENSG00000272602         0.010104         0.011093         0.008498   \n",
       "ENSG00000131127         0.004431         0.010204         0.003890   \n",
       "ENSG00000174227         0.011521         0.006669         0.005326   \n",
       "ENSG00000133256         0.009555         0.007413         0.005696   \n",
       "ENSG00000169020         0.004611         0.003805         0.000369   \n",
       "\n",
       "                 ENSG00000151726  ENSG00000151729  ENSG00000164342  \\\n",
       "ENSG00000272602         0.005795         0.009951         0.006716   \n",
       "ENSG00000131127         0.008139         0.007795         0.007423   \n",
       "ENSG00000174227         0.006427         0.006670         0.006830   \n",
       "ENSG00000133256         0.005566         0.007196         0.009132   \n",
       "ENSG00000169020         0.003265         0.002594         0.001526   \n",
       "\n",
       "                 ENSG00000164344  ENSG00000109536  \n",
       "ENSG00000272602         0.005504         0.007268  \n",
       "ENSG00000131127         0.002115         0.002690  \n",
       "ENSG00000174227         0.006222         0.002279  \n",
       "ENSG00000133256         0.004878         0.006999  \n",
       "ENSG00000169020         0.000904         0.002050  \n",
       "\n",
       "[5 rows x 244 columns]"
      ]
     },
     "execution_count": 31,
     "metadata": {},
     "output_type": "execute_result"
    }
   ],
   "source": [
    "gene_corrs_df.head()"
   ]
  },
  {
   "cell_type": "markdown",
   "id": "dad6603f-01c6-41fb-a6f6-241051207dd8",
   "metadata": {
    "papermill": {
     "duration": 1.10919,
     "end_time": "2022-11-29T23:40:57.399809",
     "exception": false,
     "start_time": "2022-11-29T23:40:56.290619",
     "status": "completed"
    },
    "tags": []
   },
   "source": [
    "## Standard checks and stats"
   ]
  },
  {
   "cell_type": "code",
   "execution_count": 32,
   "id": "286686af-1b7b-4440-8453-6bdcbd8de19c",
   "metadata": {
    "execution": {
     "iopub.execute_input": "2022-11-29T23:40:59.670376Z",
     "iopub.status.busy": "2022-11-29T23:40:59.669888Z",
     "iopub.status.idle": "2022-11-29T23:40:59.696349Z",
     "shell.execute_reply": "2022-11-29T23:40:59.695533Z"
    },
    "papermill": {
     "duration": 1.139225,
     "end_time": "2022-11-29T23:40:59.697359",
     "exception": false,
     "start_time": "2022-11-29T23:40:58.558134",
     "status": "completed"
    },
    "tags": []
   },
   "outputs": [],
   "source": [
    "assert not gene_corrs_df.isna().any().any()"
   ]
  },
  {
   "cell_type": "code",
   "execution_count": 33,
   "id": "00583efc-7068-4270-ad1e-4a418e91db96",
   "metadata": {
    "execution": {
     "iopub.execute_input": "2022-11-29T23:41:01.959511Z",
     "iopub.status.busy": "2022-11-29T23:41:01.959191Z",
     "iopub.status.idle": "2022-11-29T23:41:01.981053Z",
     "shell.execute_reply": "2022-11-29T23:41:01.980578Z"
    },
    "papermill": {
     "duration": 1.138957,
     "end_time": "2022-11-29T23:41:01.981898",
     "exception": false,
     "start_time": "2022-11-29T23:41:00.842941",
     "status": "completed"
    },
    "tags": []
   },
   "outputs": [
    {
     "data": {
      "text/plain": [
       "4.997967428501828e-09"
      ]
     },
     "metadata": {},
     "output_type": "display_data"
    }
   ],
   "source": [
    "_min_val = gene_corrs_df.min().min()\n",
    "display(_min_val)\n",
    "assert _min_val >= -0.05"
   ]
  },
  {
   "cell_type": "code",
   "execution_count": 34,
   "id": "d04fb2cf-1050-475b-b855-f5f7cc04092b",
   "metadata": {
    "execution": {
     "iopub.execute_input": "2022-11-29T23:41:04.235021Z",
     "iopub.status.busy": "2022-11-29T23:41:04.234345Z",
     "iopub.status.idle": "2022-11-29T23:41:04.262310Z",
     "shell.execute_reply": "2022-11-29T23:41:04.261679Z"
    },
    "papermill": {
     "duration": 1.136356,
     "end_time": "2022-11-29T23:41:04.263265",
     "exception": false,
     "start_time": "2022-11-29T23:41:03.126909",
     "status": "completed"
    },
    "tags": []
   },
   "outputs": [
    {
     "data": {
      "text/plain": [
       "1.0000000000000038"
      ]
     },
     "metadata": {},
     "output_type": "display_data"
    }
   ],
   "source": [
    "_max_val = gene_corrs_df.max().max()  # this captures the diagonal\n",
    "display(_max_val)\n",
    "assert _max_val <= 1.05"
   ]
  },
  {
   "cell_type": "code",
   "execution_count": 35,
   "id": "96d02c44-1fba-47be-8a93-8f2608420b9c",
   "metadata": {
    "execution": {
     "iopub.execute_input": "2022-11-29T23:41:06.580038Z",
     "iopub.status.busy": "2022-11-29T23:41:06.579421Z",
     "iopub.status.idle": "2022-11-29T23:41:06.605020Z",
     "shell.execute_reply": "2022-11-29T23:41:06.604265Z"
    },
    "papermill": {
     "duration": 1.193997,
     "end_time": "2022-11-29T23:41:06.606003",
     "exception": false,
     "start_time": "2022-11-29T23:41:05.412006",
     "status": "completed"
    },
    "tags": []
   },
   "outputs": [],
   "source": [
    "# check upper triangular values\n",
    "# assert len(gene_corrs) == int(genes_chr.shape[0] * (genes_chr.shape[0] - 1) / 2)"
   ]
  },
  {
   "cell_type": "code",
   "execution_count": 36,
   "id": "fe283586-c348-40e0-8841-f6d97bfb021c",
   "metadata": {
    "execution": {
     "iopub.execute_input": "2022-11-29T23:41:08.890287Z",
     "iopub.status.busy": "2022-11-29T23:41:08.889581Z",
     "iopub.status.idle": "2022-11-29T23:41:08.917009Z",
     "shell.execute_reply": "2022-11-29T23:41:08.916346Z"
    },
    "papermill": {
     "duration": 1.149326,
     "end_time": "2022-11-29T23:41:08.917942",
     "exception": false,
     "start_time": "2022-11-29T23:41:07.768616",
     "status": "completed"
    },
    "tags": []
   },
   "outputs": [
    {
     "data": {
      "text/plain": [
       "count    2.989000e+04\n",
       "mean     1.533205e-02\n",
       "std      9.202614e-02\n",
       "min      4.997967e-09\n",
       "25%      3.665368e-03\n",
       "50%      5.710770e-03\n",
       "75%      8.014300e-03\n",
       "max      1.000000e+00\n",
       "dtype: float64"
      ]
     },
     "execution_count": 36,
     "metadata": {},
     "output_type": "execute_result"
    }
   ],
   "source": [
    "gene_corrs_flat.describe()"
   ]
  },
  {
   "cell_type": "code",
   "execution_count": 37,
   "id": "b3815678-0f93-4b35-897b-a9d047a2aa78",
   "metadata": {
    "execution": {
     "iopub.execute_input": "2022-11-29T23:41:11.224353Z",
     "iopub.status.busy": "2022-11-29T23:41:11.223901Z",
     "iopub.status.idle": "2022-11-29T23:41:11.252897Z",
     "shell.execute_reply": "2022-11-29T23:41:11.252216Z"
    },
    "papermill": {
     "duration": 1.15943,
     "end_time": "2022-11-29T23:41:11.253842",
     "exception": false,
     "start_time": "2022-11-29T23:41:10.094412",
     "status": "completed"
    },
    "tags": []
   },
   "outputs": [
    {
     "data": {
      "text/plain": [
       "0.00    4.997967e-09\n",
       "0.05    1.347501e-03\n",
       "0.10    2.088521e-03\n",
       "0.15    2.697624e-03\n",
       "0.20    3.215519e-03\n",
       "0.25    3.665368e-03\n",
       "0.30    4.097411e-03\n",
       "0.35    4.528904e-03\n",
       "0.40    4.918346e-03\n",
       "0.45    5.306557e-03\n",
       "0.50    5.710770e-03\n",
       "0.55    6.115759e-03\n",
       "0.60    6.547326e-03\n",
       "0.65    6.977818e-03\n",
       "0.70    7.471179e-03\n",
       "0.75    8.014300e-03\n",
       "0.80    8.634266e-03\n",
       "0.85    9.379468e-03\n",
       "0.90    1.045563e-02\n",
       "0.95    1.221618e-02\n",
       "dtype: float64"
      ]
     },
     "metadata": {},
     "output_type": "display_data"
    }
   ],
   "source": [
    "gene_corrs_quantiles = gene_corrs_flat.quantile(np.arange(0, 1, 0.05))\n",
    "display(gene_corrs_quantiles)"
   ]
  },
  {
   "cell_type": "markdown",
   "id": "87134509-b145-4a10-8bc9-b7e914c2b0fa",
   "metadata": {
    "papermill": {
     "duration": 1.148263,
     "end_time": "2022-11-29T23:41:13.559738",
     "exception": false,
     "start_time": "2022-11-29T23:41:12.411475",
     "status": "completed"
    },
    "tags": []
   },
   "source": [
    "## Positive definiteness"
   ]
  },
  {
   "cell_type": "code",
   "execution_count": 38,
   "id": "07d9a9a1-a4f7-48aa-b916-6d42a8cc6186",
   "metadata": {
    "execution": {
     "iopub.execute_input": "2022-11-29T23:41:15.825033Z",
     "iopub.status.busy": "2022-11-29T23:41:15.824512Z",
     "iopub.status.idle": "2022-11-29T23:41:15.873379Z",
     "shell.execute_reply": "2022-11-29T23:41:15.872650Z"
    },
    "papermill": {
     "duration": 1.157845,
     "end_time": "2022-11-29T23:41:15.874465",
     "exception": false,
     "start_time": "2022-11-29T23:41:14.716620",
     "status": "completed"
    },
    "tags": []
   },
   "outputs": [
    {
     "data": {
      "text/plain": [
       "0"
      ]
     },
     "metadata": {},
     "output_type": "display_data"
    },
    {
     "data": {
      "text/plain": [
       "array([], dtype=float64)"
      ]
     },
     "metadata": {},
     "output_type": "display_data"
    }
   ],
   "source": [
    "# print negative eigenvalues\n",
    "eigs = np.linalg.eigvals(gene_corrs_df.to_numpy())\n",
    "display(len(eigs[eigs < 0]))\n",
    "display(eigs[eigs < 0])"
   ]
  },
  {
   "cell_type": "code",
   "execution_count": 39,
   "id": "6e218436-c3c5-4028-8c94-a4fa6260efce",
   "metadata": {
    "execution": {
     "iopub.execute_input": "2022-11-29T23:41:18.173279Z",
     "iopub.status.busy": "2022-11-29T23:41:18.172840Z",
     "iopub.status.idle": "2022-11-29T23:41:18.203044Z",
     "shell.execute_reply": "2022-11-29T23:41:18.202255Z"
    },
    "papermill": {
     "duration": 1.162752,
     "end_time": "2022-11-29T23:41:18.203965",
     "exception": false,
     "start_time": "2022-11-29T23:41:17.041213",
     "status": "completed"
    },
    "tags": []
   },
   "outputs": [
    {
     "name": "stdout",
     "output_type": "stream",
     "text": [
      "Works!\n"
     ]
    }
   ],
   "source": [
    "try:\n",
    "    chol_mat = np.linalg.cholesky(gene_corrs_df.to_numpy())\n",
    "    cov_inv = np.linalg.inv(chol_mat)\n",
    "    print(\"Works!\")\n",
    "except Exception as e:\n",
    "    print(f\"Cholesky decomposition failed: {str(e)}\")"
   ]
  },
  {
   "cell_type": "code",
   "execution_count": 40,
   "id": "dd8827fb-faf9-4c7c-9454-015e94752706",
   "metadata": {
    "execution": {
     "iopub.execute_input": "2022-11-29T23:41:20.473230Z",
     "iopub.status.busy": "2022-11-29T23:41:20.472605Z",
     "iopub.status.idle": "2022-11-29T23:41:20.501618Z",
     "shell.execute_reply": "2022-11-29T23:41:20.501013Z"
    },
    "papermill": {
     "duration": 1.14338,
     "end_time": "2022-11-29T23:41:20.502587",
     "exception": false,
     "start_time": "2022-11-29T23:41:19.359207",
     "status": "completed"
    },
    "tags": []
   },
   "outputs": [
    {
     "name": "stdout",
     "output_type": "stream",
     "text": [
      "Works!\n"
     ]
    }
   ],
   "source": [
    "try:\n",
    "    # decomposition used by statsmodels.GLS\n",
    "    cholsigmainv = np.linalg.cholesky(np.linalg.inv(gene_corrs_df.to_numpy())).T\n",
    "    print(\"Works!\")\n",
    "except Exception as e:\n",
    "    print(f\"Cholesky decomposition failed (statsmodels.GLS): {str(e)}\")"
   ]
  },
  {
   "cell_type": "markdown",
   "id": "8e60a080-edb2-4e9c-b2ef-22961693200c",
   "metadata": {
    "papermill": {
     "duration": 1.110963,
     "end_time": "2022-11-29T23:41:22.766102",
     "exception": false,
     "start_time": "2022-11-29T23:41:21.655139",
     "status": "completed"
    },
    "tags": []
   },
   "source": [
    "## Plot: distribution"
   ]
  },
  {
   "cell_type": "code",
   "execution_count": 41,
   "id": "8301126b-a7d4-4744-9c7d-f0f86eb6f54c",
   "metadata": {
    "execution": {
     "iopub.execute_input": "2022-11-29T23:41:25.078550Z",
     "iopub.status.busy": "2022-11-29T23:41:25.078157Z",
     "iopub.status.idle": "2022-11-29T23:41:30.373519Z",
     "shell.execute_reply": "2022-11-29T23:41:30.373100Z"
    },
    "papermill": {
     "duration": 6.43991,
     "end_time": "2022-11-29T23:41:30.375038",
     "exception": false,
     "start_time": "2022-11-29T23:41:23.935128",
     "status": "completed"
    },
    "tags": []
   },
   "outputs": [
    {
     "data": {
      "image/png": "[encoded data removed]",
      "text/plain": [
       "<Figure size 700x700 with 1 Axes>"
      ]
     },
     "metadata": {},
     "output_type": "display_data"
    }
   ],
   "source": [
    "with sns.plotting_context(\"paper\", font_scale=1.5):\n",
    "    g = sns.displot(gene_corrs_flat, kde=True, height=7)\n",
    "    g.ax.set_title(\n",
    "        f\"Distribution of gene correlation values in chromosome {CHROMOSOME}\"\n",
    "    )"
   ]
  },
  {
   "cell_type": "markdown",
   "id": "cbd52bca-d878-4a2f-b684-5c83aa3038d4",
   "metadata": {
    "papermill": {
     "duration": 1.119618,
     "end_time": "2022-11-29T23:41:32.694137",
     "exception": false,
     "start_time": "2022-11-29T23:41:31.574519",
     "status": "completed"
    },
    "tags": []
   },
   "source": [
    "## Plot: heatmap"
   ]
  },
  {
   "cell_type": "code",
   "execution_count": 42,
   "id": "d03fe63a-c7b2-4fb9-a53c-db362ce843c9",
   "metadata": {
    "execution": {
     "iopub.execute_input": "2022-11-29T23:41:35.006723Z",
     "iopub.status.busy": "2022-11-29T23:41:35.005942Z",
     "iopub.status.idle": "2022-11-29T23:41:35.032671Z",
     "shell.execute_reply": "2022-11-29T23:41:35.032043Z"
    },
    "papermill": {
     "duration": 1.180333,
     "end_time": "2022-11-29T23:41:35.033564",
     "exception": false,
     "start_time": "2022-11-29T23:41:33.853231",
     "status": "completed"
    },
    "tags": []
   },
   "outputs": [
    {
     "data": {
      "text/plain": [
       "'0.0 / 0.05'"
      ]
     },
     "metadata": {},
     "output_type": "display_data"
    }
   ],
   "source": [
    "vmin_val = min(0.00, gene_corrs_quantiles[0.10])\n",
    "vmax_val = max(0.05, gene_corrs_quantiles[0.90])\n",
    "display(f\"{vmin_val} / {vmax_val}\")"
   ]
  },
  {
   "cell_type": "code",
   "execution_count": 43,
   "id": "dc41b70b-5bcc-4d9e-9f33-a22c4a94dab5",
   "metadata": {
    "execution": {
     "iopub.execute_input": "2022-11-29T23:41:37.304069Z",
     "iopub.status.busy": "2022-11-29T23:41:37.303634Z",
     "iopub.status.idle": "2022-11-29T23:41:37.534348Z",
     "shell.execute_reply": "2022-11-29T23:41:37.533863Z"
    },
    "papermill": {
     "duration": 1.343512,
     "end_time": "2022-11-29T23:41:37.535213",
     "exception": false,
     "start_time": "2022-11-29T23:41:36.191701",
     "status": "completed"
    },
    "tags": []
   },
   "outputs": [
    {
     "data": {
      "text/plain": [
       "Text(0.5, 1.0, 'Gene correlations in chromosome 4')"
      ]
     },
     "execution_count": 43,
     "metadata": {},
     "output_type": "execute_result"
    },
    {
     "data": {
      "image/png": "[encoded data removed]",
      "text/plain": [
       "<Figure size 1000x1000 with 2 Axes>"
      ]
     },
     "metadata": {},
     "output_type": "display_data"
    }
   ],
   "source": [
    "f, ax = plt.subplots(figsize=(10, 10))\n",
    "sns.heatmap(\n",
    "    gene_corrs_df,\n",
    "    xticklabels=False,\n",
    "    yticklabels=False,\n",
    "    square=True,\n",
    "    vmin=vmin_val,\n",
    "    vmax=vmax_val,\n",
    "    cmap=\"rocket_r\",\n",
    "    ax=ax,\n",
    ")\n",
    "ax.set_title(f\"Gene correlations in chromosome {CHROMOSOME}\")"
   ]
  },
  {
   "cell_type": "code",
   "execution_count": null,
   "id": "b25e3ead",
   "metadata": {
    "papermill": {
     "duration": 1.12885,
     "end_time": "2022-11-29T23:41:39.831580",
     "exception": false,
     "start_time": "2022-11-29T23:41:38.702730",
     "status": "completed"
    },
    "tags": []
   },
   "outputs": [],
   "source": []
  }
 ],
 "metadata": {
  "jupytext": {
   "cell_metadata_filter": "all,-execution,-papermill,-trusted",
   "formats": "ipynb,py//py:percent"
  },
  "kernelspec": {
   "display_name": "Python 3 (ipykernel)",
   "language": "python",
   "name": "python3"
  },
  "language_info": {
   "codemirror_mode": {
    "name": "ipython",
    "version": 3
   },
   "file_extension": ".py",
   "mimetype": "text/x-python",
   "name": "python",
   "nbconvert_exporter": "python",
   "pygments_lexer": "ipython3",
   "version": "3.10.6"
  },
  "papermill": {
   "default_parameters": {},
   "duration": 1269.699667,
   "end_time": "2022-11-29T23:41:43.720952",
   "environment_variables": {},
   "exception": null,
   "input_path": "projects/asthma-copd/nbs/20_gene_corrs/10-gene_expr_correlations.ipynb",
   "output_path": "projects/asthma-copd/nbs/20_gene_corrs/gene_corrs/copd_only/10-gene_expr_correlations-chr4.run.ipynb",
   "parameters": {
    "CHROMOSOME": 4,
    "COHORT_NAME": "copd_only",
    "OUTPUT_DIR_BASE": "/opt/data/projects/asthma-copd/results/gls_phenoplier"
   },
   "start_time": "2022-11-29T23:20:34.021285",
   "version": "2.2.2"
  }
 },
 "nbformat": 4,
 "nbformat_minor": 5
}
