{
 "cells": [
  {
   "cell_type": "markdown",
   "id": "7a6632fb",
   "metadata": {
    "papermill": {
     "duration": 0.008841,
     "end_time": "2022-11-29T23:35:16.403413",
     "exception": false,
     "start_time": "2022-11-29T23:35:16.394572",
     "status": "completed"
    },
    "tags": []
   },
   "source": [
    "# Description"
   ]
  },
  {
   "cell_type": "markdown",
   "id": "7097c346",
   "metadata": {
    "papermill": {
     "duration": 0.008548,
     "end_time": "2022-11-29T23:35:16.421335",
     "exception": false,
     "start_time": "2022-11-29T23:35:16.412787",
     "status": "completed"
    },
    "tags": []
   },
   "source": [
    "(Please, take a look at the README.md file in this directory for instructions on how to run this notebook)\n",
    "\n",
    "This notebook computes predicted expression correlations between all genes in the MultiPLIER models.\n",
    "\n",
    "It has specicfic parameters for papermill (see under `Settings` below).\n",
    "It can be configured to run on a single chromosome to run in parallel.\n",
    "\n",
    "This notebook is not directly run. See README.md."
   ]
  },
  {
   "cell_type": "markdown",
   "id": "c61d8427",
   "metadata": {
    "papermill": {
     "duration": 0.007792,
     "end_time": "2022-11-29T23:35:16.436562",
     "exception": false,
     "start_time": "2022-11-29T23:35:16.428770",
     "status": "completed"
    },
    "tags": []
   },
   "source": [
    "# Modules"
   ]
  },
  {
   "cell_type": "code",
   "execution_count": 1,
   "id": "bbc0234f",
   "metadata": {
    "execution": {
     "iopub.execute_input": "2022-11-29T23:35:16.456821Z",
     "iopub.status.busy": "2022-11-29T23:35:16.456145Z",
     "iopub.status.idle": "2022-11-29T23:35:16.474990Z",
     "shell.execute_reply": "2022-11-29T23:35:16.474391Z"
    },
    "papermill": {
     "duration": 0.031382,
     "end_time": "2022-11-29T23:35:16.476827",
     "exception": false,
     "start_time": "2022-11-29T23:35:16.445445",
     "status": "completed"
    },
    "tags": []
   },
   "outputs": [],
   "source": [
    "%load_ext autoreload\n",
    "%autoreload 2"
   ]
  },
  {
   "cell_type": "code",
   "execution_count": 2,
   "id": "1d5f5a59",
   "metadata": {
    "execution": {
     "iopub.execute_input": "2022-11-29T23:35:16.498181Z",
     "iopub.status.busy": "2022-11-29T23:35:16.497712Z",
     "iopub.status.idle": "2022-11-29T23:35:17.205628Z",
     "shell.execute_reply": "2022-11-29T23:35:17.205064Z"
    },
    "papermill": {
     "duration": 0.720318,
     "end_time": "2022-11-29T23:35:17.207343",
     "exception": false,
     "start_time": "2022-11-29T23:35:16.487025",
     "status": "completed"
    },
    "tags": []
   },
   "outputs": [],
   "source": [
    "from random import sample, seed\n",
    "import warnings\n",
    "from pathlib import Path\n",
    "import pickle\n",
    "import traceback\n",
    "\n",
    "import numpy as np\n",
    "from scipy.spatial.distance import squareform\n",
    "import pandas as pd\n",
    "from tqdm import tqdm\n",
    "import matplotlib.pyplot as plt\n",
    "import seaborn as sns\n",
    "\n",
    "import conf\n",
    "from entity import Gene"
   ]
  },
  {
   "cell_type": "markdown",
   "id": "1eac24b5",
   "metadata": {
    "papermill": {
     "duration": 0.010447,
     "end_time": "2022-11-29T23:35:17.226687",
     "exception": false,
     "start_time": "2022-11-29T23:35:17.216240",
     "status": "completed"
    },
    "tags": []
   },
   "source": [
    "# Settings"
   ]
  },
  {
   "cell_type": "code",
   "execution_count": 3,
   "id": "ca4560ba",
   "metadata": {
    "execution": {
     "iopub.execute_input": "2022-11-29T23:35:17.244402Z",
     "iopub.status.busy": "2022-11-29T23:35:17.244133Z",
     "iopub.status.idle": "2022-11-29T23:35:17.257669Z",
     "shell.execute_reply": "2022-11-29T23:35:17.257183Z"
    },
    "papermill": {
     "duration": 0.023862,
     "end_time": "2022-11-29T23:35:17.259038",
     "exception": false,
     "start_time": "2022-11-29T23:35:17.235176",
     "status": "completed"
    },
    "tags": [
     "parameters"
    ]
   },
   "outputs": [],
   "source": [
    "# a cohort name (it could be something like UK_BIOBANK, etc)\n",
    "COHORT_NAME = None\n",
    "\n",
    "# reference panel such as 1000G or GTEX_V8\n",
    "REFERENCE_PANEL = \"GTEX_V8\"\n",
    "\n",
    "# predictions models such as MASHR or ELASTIC_NET\n",
    "EQTL_MODEL = \"MASHR\"\n",
    "\n",
    "# this is the default value used in S-MultiXcan to select the\n",
    "# top principal components of the expression correlation matrix\n",
    "SMULTIXCAN_CONDITION_NUMBER = 30\n",
    "\n",
    "# specifies a single chromosome value\n",
    "CHROMOSOME = None\n",
    "\n",
    "# If True, computes the correlation between closeby genes only;\n",
    "# otherwise, it computes correlations for all genes in a chromosome\n",
    "COMPUTE_CORRELATIONS_WITHIN_DISTANCE = False\n",
    "\n",
    "# if True, then it will continue if a gene pair correlation fails,\n",
    "# printing the warning/error for debugging. If False, any warning/error\n",
    "# will be thrown\n",
    "DEBUG_MODE = False\n",
    "\n",
    "# output dir\n",
    "OUTPUT_DIR_BASE = None"
   ]
  },
  {
   "cell_type": "code",
   "execution_count": 4,
   "id": "7a12e46d",
   "metadata": {
    "execution": {
     "iopub.execute_input": "2022-11-29T23:35:17.279597Z",
     "iopub.status.busy": "2022-11-29T23:35:17.279468Z",
     "iopub.status.idle": "2022-11-29T23:35:17.292474Z",
     "shell.execute_reply": "2022-11-29T23:35:17.291970Z"
    },
    "papermill": {
     "duration": 0.024876,
     "end_time": "2022-11-29T23:35:17.293825",
     "exception": false,
     "start_time": "2022-11-29T23:35:17.268949",
     "status": "completed"
    },
    "tags": [
     "injected-parameters"
    ]
   },
   "outputs": [],
   "source": [
    "# Parameters\n",
    "COHORT_NAME = \"copd_only\"\n",
    "CHROMOSOME = 5\n",
    "OUTPUT_DIR_BASE = \"/opt/data/projects/asthma-copd/results/gls_phenoplier\"\n"
   ]
  },
  {
   "cell_type": "code",
   "execution_count": 5,
   "id": "3190631f-27fc-480f-b18e-571d580425a5",
   "metadata": {
    "execution": {
     "iopub.execute_input": "2022-11-29T23:35:17.312113Z",
     "iopub.status.busy": "2022-11-29T23:35:17.311922Z",
     "iopub.status.idle": "2022-11-29T23:35:17.338518Z",
     "shell.execute_reply": "2022-11-29T23:35:17.337933Z"
    },
    "papermill": {
     "duration": 0.036995,
     "end_time": "2022-11-29T23:35:17.340041",
     "exception": false,
     "start_time": "2022-11-29T23:35:17.303046",
     "status": "completed"
    },
    "tags": []
   },
   "outputs": [
    {
     "data": {
      "text/plain": [
       "'Cohort name: copd_only'"
      ]
     },
     "metadata": {},
     "output_type": "display_data"
    }
   ],
   "source": [
    "assert COHORT_NAME is not None and len(COHORT_NAME) > 0, \"A cohort name must be given\"\n",
    "\n",
    "COHORT_NAME = COHORT_NAME.lower()\n",
    "display(f\"Cohort name: {COHORT_NAME}\")"
   ]
  },
  {
   "cell_type": "code",
   "execution_count": 6,
   "id": "f53ba19b-0f93-4fa2-a047-63b375939d1a",
   "metadata": {
    "execution": {
     "iopub.execute_input": "2022-11-29T23:35:17.358803Z",
     "iopub.status.busy": "2022-11-29T23:35:17.358313Z",
     "iopub.status.idle": "2022-11-29T23:35:17.380847Z",
     "shell.execute_reply": "2022-11-29T23:35:17.380263Z"
    },
    "papermill": {
     "duration": 0.033332,
     "end_time": "2022-11-29T23:35:17.382339",
     "exception": false,
     "start_time": "2022-11-29T23:35:17.349007",
     "status": "completed"
    },
    "tags": []
   },
   "outputs": [
    {
     "data": {
      "text/plain": [
       "'Reference panel: GTEX_V8'"
      ]
     },
     "metadata": {},
     "output_type": "display_data"
    }
   ],
   "source": [
    "assert (\n",
    "    REFERENCE_PANEL is not None and len(REFERENCE_PANEL) > 0\n",
    "), \"A reference panel must be given\"\n",
    "\n",
    "display(f\"Reference panel: {REFERENCE_PANEL}\")"
   ]
  },
  {
   "cell_type": "code",
   "execution_count": 7,
   "id": "e024d130-c139-429a-9c6e-ccf149e297b0",
   "metadata": {
    "execution": {
     "iopub.execute_input": "2022-11-29T23:35:17.401846Z",
     "iopub.status.busy": "2022-11-29T23:35:17.401365Z",
     "iopub.status.idle": "2022-11-29T23:35:17.424317Z",
     "shell.execute_reply": "2022-11-29T23:35:17.423739Z"
    },
    "papermill": {
     "duration": 0.034654,
     "end_time": "2022-11-29T23:35:17.426007",
     "exception": false,
     "start_time": "2022-11-29T23:35:17.391353",
     "status": "completed"
    },
    "tags": []
   },
   "outputs": [
    {
     "data": {
      "text/plain": [
       "'eQTL model: MASHR) / mashr_'"
      ]
     },
     "metadata": {},
     "output_type": "display_data"
    }
   ],
   "source": [
    "assert (\n",
    "    EQTL_MODEL is not None and len(EQTL_MODEL) > 0\n",
    "), \"A prediction/eQTL model must be given\"\n",
    "\n",
    "EQTL_MODEL_FILES_PREFIX = conf.PHENOMEXCAN[\"PREDICTION_MODELS\"][f\"{EQTL_MODEL}_PREFIX\"]\n",
    "display(f\"eQTL model: {EQTL_MODEL}) / {EQTL_MODEL_FILES_PREFIX}\")"
   ]
  },
  {
   "cell_type": "code",
   "execution_count": 8,
   "id": "552a7f63-a18c-4d3e-bb6a-94f99b431291",
   "metadata": {
    "execution": {
     "iopub.execute_input": "2022-11-29T23:35:17.448929Z",
     "iopub.status.busy": "2022-11-29T23:35:17.448437Z",
     "iopub.status.idle": "2022-11-29T23:35:17.471022Z",
     "shell.execute_reply": "2022-11-29T23:35:17.470443Z"
    },
    "papermill": {
     "duration": 0.035923,
     "end_time": "2022-11-29T23:35:17.472636",
     "exception": false,
     "start_time": "2022-11-29T23:35:17.436713",
     "status": "completed"
    },
    "tags": []
   },
   "outputs": [
    {
     "data": {
      "text/plain": [
       "'S-MultiXcan condition number: 30'"
      ]
     },
     "metadata": {},
     "output_type": "display_data"
    }
   ],
   "source": [
    "assert (\n",
    "    SMULTIXCAN_CONDITION_NUMBER is not None and SMULTIXCAN_CONDITION_NUMBER > 0\n",
    "), \"The S-MultiXcan condition number (positive integer) must be given\"\n",
    "\n",
    "display(f\"S-MultiXcan condition number: {SMULTIXCAN_CONDITION_NUMBER}\")"
   ]
  },
  {
   "cell_type": "code",
   "execution_count": 9,
   "id": "f34a336f-548e-4afe-8955-90eaea4f42c6",
   "metadata": {
    "execution": {
     "iopub.execute_input": "2022-11-29T23:35:17.495701Z",
     "iopub.status.busy": "2022-11-29T23:35:17.495171Z",
     "iopub.status.idle": "2022-11-29T23:35:17.517490Z",
     "shell.execute_reply": "2022-11-29T23:35:17.516906Z"
    },
    "papermill": {
     "duration": 0.035464,
     "end_time": "2022-11-29T23:35:17.518948",
     "exception": false,
     "start_time": "2022-11-29T23:35:17.483484",
     "status": "completed"
    },
    "tags": []
   },
   "outputs": [
    {
     "data": {
      "text/plain": [
       "'Working on chromosome 5'"
      ]
     },
     "metadata": {},
     "output_type": "display_data"
    }
   ],
   "source": [
    "assert CHROMOSOME is not None and (\n",
    "    1 <= CHROMOSOME <= 22\n",
    "), \"You have to select one chromosome (format: number between 1 and 22)\"\n",
    "\n",
    "# CHROMOSOME = str(CHROMOSOME)\n",
    "display(f\"Working on chromosome {CHROMOSOME}\")"
   ]
  },
  {
   "cell_type": "code",
   "execution_count": 10,
   "id": "ab8e96e8-06b5-4363-9dcd-dc4d78cc27f7",
   "metadata": {
    "execution": {
     "iopub.execute_input": "2022-11-29T23:35:17.538647Z",
     "iopub.status.busy": "2022-11-29T23:35:17.538078Z",
     "iopub.status.idle": "2022-11-29T23:35:17.560538Z",
     "shell.execute_reply": "2022-11-29T23:35:17.559913Z"
    },
    "papermill": {
     "duration": 0.033803,
     "end_time": "2022-11-29T23:35:17.562030",
     "exception": false,
     "start_time": "2022-11-29T23:35:17.528227",
     "status": "completed"
    },
    "tags": []
   },
   "outputs": [
    {
     "data": {
      "text/plain": [
       "'Compute correlation within distance False'"
      ]
     },
     "metadata": {},
     "output_type": "display_data"
    }
   ],
   "source": [
    "display(f\"Compute correlation within distance {COMPUTE_CORRELATIONS_WITHIN_DISTANCE}\")"
   ]
  },
  {
   "cell_type": "code",
   "execution_count": 11,
   "id": "b393b698-77e3-4ba2-8ac1-e14d51aa988f",
   "metadata": {
    "execution": {
     "iopub.execute_input": "2022-11-29T23:35:17.584854Z",
     "iopub.status.busy": "2022-11-29T23:35:17.584502Z",
     "iopub.status.idle": "2022-11-29T23:35:17.608146Z",
     "shell.execute_reply": "2022-11-29T23:35:17.607560Z"
    },
    "papermill": {
     "duration": 0.037081,
     "end_time": "2022-11-29T23:35:17.609859",
     "exception": false,
     "start_time": "2022-11-29T23:35:17.572778",
     "status": "completed"
    },
    "tags": []
   },
   "outputs": [
    {
     "data": {
      "text/plain": [
       "'Using output dir base: /opt/data/projects/asthma-copd/results/gls_phenoplier/gene_corrs/copd_only'"
      ]
     },
     "metadata": {},
     "output_type": "display_data"
    }
   ],
   "source": [
    "assert (\n",
    "    OUTPUT_DIR_BASE is not None and len(OUTPUT_DIR_BASE) > 0\n",
    "), \"Output directory path must be given\"\n",
    "\n",
    "OUTPUT_DIR_BASE = (\n",
    "    Path(OUTPUT_DIR_BASE)\n",
    "    / \"gene_corrs\"\n",
    "    / COHORT_NAME\n",
    "    # / REFERENCE_PANEL.lower()\n",
    "    # / EQTL_MODEL.lower()\n",
    ").resolve()\n",
    "\n",
    "OUTPUT_DIR_BASE.mkdir(parents=True, exist_ok=True)\n",
    "\n",
    "display(f\"Using output dir base: {OUTPUT_DIR_BASE}\")"
   ]
  },
  {
   "cell_type": "markdown",
   "id": "d2ba085e",
   "metadata": {
    "papermill": {
     "duration": 0.011296,
     "end_time": "2022-11-29T23:35:17.632891",
     "exception": false,
     "start_time": "2022-11-29T23:35:17.621595",
     "status": "completed"
    },
    "tags": []
   },
   "source": [
    "# Load data"
   ]
  },
  {
   "cell_type": "markdown",
   "id": "7dcb8db7",
   "metadata": {
    "papermill": {
     "duration": 0.011017,
     "end_time": "2022-11-29T23:35:17.655035",
     "exception": false,
     "start_time": "2022-11-29T23:35:17.644018",
     "status": "completed"
    },
    "tags": []
   },
   "source": [
    "## GWAS variants"
   ]
  },
  {
   "cell_type": "code",
   "execution_count": 12,
   "id": "29434c4e-8cd3-4b9b-82e4-b5a251d9dd19",
   "metadata": {
    "execution": {
     "iopub.execute_input": "2022-11-29T23:35:17.671569Z",
     "iopub.status.busy": "2022-11-29T23:35:17.670984Z",
     "iopub.status.idle": "2022-11-29T23:35:19.817286Z",
     "shell.execute_reply": "2022-11-29T23:35:19.816812Z"
    },
    "papermill": {
     "duration": 2.154064,
     "end_time": "2022-11-29T23:35:19.818945",
     "exception": false,
     "start_time": "2022-11-29T23:35:17.664881",
     "status": "completed"
    },
    "tags": []
   },
   "outputs": [],
   "source": [
    "with open(OUTPUT_DIR_BASE / \"gwas_variant_ids.pkl\", \"rb\") as handle:\n",
    "    gwas_variants_ids_set = pickle.load(handle)"
   ]
  },
  {
   "cell_type": "code",
   "execution_count": 13,
   "id": "b9d9dec2-4a76-4bf9-bde2-e24c95acb8a0",
   "metadata": {
    "execution": {
     "iopub.execute_input": "2022-11-29T23:35:19.840101Z",
     "iopub.status.busy": "2022-11-29T23:35:19.839971Z",
     "iopub.status.idle": "2022-11-29T23:35:19.853304Z",
     "shell.execute_reply": "2022-11-29T23:35:19.852919Z"
    },
    "papermill": {
     "duration": 0.025818,
     "end_time": "2022-11-29T23:35:19.854670",
     "exception": false,
     "start_time": "2022-11-29T23:35:19.828852",
     "status": "completed"
    },
    "tags": []
   },
   "outputs": [
    {
     "data": {
      "text/plain": [
       "8586183"
      ]
     },
     "execution_count": 13,
     "metadata": {},
     "output_type": "execute_result"
    }
   ],
   "source": [
    "len(gwas_variants_ids_set)"
   ]
  },
  {
   "cell_type": "code",
   "execution_count": 14,
   "id": "4235b06a-6034-4ee4-a0a3-2ae35d122418",
   "metadata": {
    "execution": {
     "iopub.execute_input": "2022-11-29T23:35:19.874642Z",
     "iopub.status.busy": "2022-11-29T23:35:19.874530Z",
     "iopub.status.idle": "2022-11-29T23:35:20.290024Z",
     "shell.execute_reply": "2022-11-29T23:35:20.289589Z"
    },
    "papermill": {
     "duration": 0.427003,
     "end_time": "2022-11-29T23:35:20.291424",
     "exception": false,
     "start_time": "2022-11-29T23:35:19.864421",
     "status": "completed"
    },
    "tags": []
   },
   "outputs": [
    {
     "data": {
      "text/plain": [
       "['chr2_236675101_A_T_b38',\n",
       " 'chr5_11255319_C_T_b38',\n",
       " 'chr10_73163804_C_T_b38',\n",
       " 'chr1_98421269_T_C_b38',\n",
       " 'chr6_158943290_T_C_b38']"
      ]
     },
     "execution_count": 14,
     "metadata": {},
     "output_type": "execute_result"
    }
   ],
   "source": [
    "list(gwas_variants_ids_set)[:5]"
   ]
  },
  {
   "cell_type": "markdown",
   "id": "07866999-2305-41f9-a144-e69c9122c212",
   "metadata": {
    "papermill": {
     "duration": 0.011679,
     "end_time": "2022-11-29T23:35:20.313706",
     "exception": false,
     "start_time": "2022-11-29T23:35:20.302027",
     "status": "completed"
    },
    "tags": []
   },
   "source": [
    "## S-PrediXcan tissue models"
   ]
  },
  {
   "cell_type": "code",
   "execution_count": 15,
   "id": "780611d9-77c8-405f-90a4-f271f7b09397",
   "metadata": {
    "execution": {
     "iopub.execute_input": "2022-11-29T23:35:20.336424Z",
     "iopub.status.busy": "2022-11-29T23:35:20.336187Z",
     "iopub.status.idle": "2022-11-29T23:35:21.060338Z",
     "shell.execute_reply": "2022-11-29T23:35:21.059887Z"
    },
    "papermill": {
     "duration": 0.736603,
     "end_time": "2022-11-29T23:35:21.062224",
     "exception": false,
     "start_time": "2022-11-29T23:35:20.325621",
     "status": "completed"
    },
    "tags": []
   },
   "outputs": [],
   "source": [
    "spredixcan_genes_models = pd.read_pickle(OUTPUT_DIR_BASE / \"gene_tissues.pkl\")"
   ]
  },
  {
   "cell_type": "code",
   "execution_count": 16,
   "id": "726dd1f6-9557-4225-91fa-b3b879ea96e1",
   "metadata": {
    "execution": {
     "iopub.execute_input": "2022-11-29T23:35:21.087584Z",
     "iopub.status.busy": "2022-11-29T23:35:21.087469Z",
     "iopub.status.idle": "2022-11-29T23:35:21.100847Z",
     "shell.execute_reply": "2022-11-29T23:35:21.100458Z"
    },
    "papermill": {
     "duration": 0.02708,
     "end_time": "2022-11-29T23:35:21.102198",
     "exception": false,
     "start_time": "2022-11-29T23:35:21.075118",
     "status": "completed"
    },
    "tags": []
   },
   "outputs": [
    {
     "data": {
      "text/plain": [
       "(6443, 5)"
      ]
     },
     "execution_count": 16,
     "metadata": {},
     "output_type": "execute_result"
    }
   ],
   "source": [
    "spredixcan_genes_models.shape"
   ]
  },
  {
   "cell_type": "code",
   "execution_count": 17,
   "id": "944a1b48-222c-4eb0-b252-b9de2cbca215",
   "metadata": {
    "execution": {
     "iopub.execute_input": "2022-11-29T23:35:21.122648Z",
     "iopub.status.busy": "2022-11-29T23:35:21.122523Z",
     "iopub.status.idle": "2022-11-29T23:35:21.148432Z",
     "shell.execute_reply": "2022-11-29T23:35:21.147923Z"
    },
    "papermill": {
     "duration": 0.03768,
     "end_time": "2022-11-29T23:35:21.149865",
     "exception": false,
     "start_time": "2022-11-29T23:35:21.112185",
     "status": "completed"
    },
    "tags": []
   },
   "outputs": [
    {
     "data": {
      "text/html": [
       "<div>\n",
       "<style scoped>\n",
       "    .dataframe tbody tr th:only-of-type {\n",
       "        vertical-align: middle;\n",
       "    }\n",
       "\n",
       "    .dataframe tbody tr th {\n",
       "        vertical-align: top;\n",
       "    }\n",
       "\n",
       "    .dataframe thead th {\n",
       "        text-align: right;\n",
       "    }\n",
       "</style>\n",
       "<table border=\"1\" class=\"dataframe\">\n",
       "  <thead>\n",
       "    <tr style=\"text-align: right;\">\n",
       "      <th></th>\n",
       "      <th>gene_name</th>\n",
       "      <th>tissue</th>\n",
       "      <th>n_tissues</th>\n",
       "      <th>n_snps_used_sum</th>\n",
       "      <th>n_snps_in_model_sum</th>\n",
       "    </tr>\n",
       "    <tr>\n",
       "      <th>gene_id</th>\n",
       "      <th></th>\n",
       "      <th></th>\n",
       "      <th></th>\n",
       "      <th></th>\n",
       "      <th></th>\n",
       "    </tr>\n",
       "  </thead>\n",
       "  <tbody>\n",
       "    <tr>\n",
       "      <th>ENSG00000000419</th>\n",
       "      <td>DPM1</td>\n",
       "      <td>(Brain_Substantia_nigra, Brain_Hypothalamus)</td>\n",
       "      <td>2</td>\n",
       "      <td>2</td>\n",
       "      <td>2</td>\n",
       "    </tr>\n",
       "    <tr>\n",
       "      <th>ENSG00000000938</th>\n",
       "      <td>FGR</td>\n",
       "      <td>(Brain_Cerebellar_Hemisphere, Skin_Not_Sun_Exp...</td>\n",
       "      <td>36</td>\n",
       "      <td>40</td>\n",
       "      <td>40</td>\n",
       "    </tr>\n",
       "    <tr>\n",
       "      <th>ENSG00000000971</th>\n",
       "      <td>CFH</td>\n",
       "      <td>(Brain_Cerebellar_Hemisphere, Skin_Not_Sun_Exp...</td>\n",
       "      <td>34</td>\n",
       "      <td>44</td>\n",
       "      <td>44</td>\n",
       "    </tr>\n",
       "    <tr>\n",
       "      <th>ENSG00000001084</th>\n",
       "      <td>GCLC</td>\n",
       "      <td>(Brain_Cerebellar_Hemisphere, Skin_Not_Sun_Exp...</td>\n",
       "      <td>32</td>\n",
       "      <td>46</td>\n",
       "      <td>46</td>\n",
       "    </tr>\n",
       "    <tr>\n",
       "      <th>ENSG00000001167</th>\n",
       "      <td>NFYA</td>\n",
       "      <td>(Brain_Cerebellar_Hemisphere, Skin_Not_Sun_Exp...</td>\n",
       "      <td>40</td>\n",
       "      <td>47</td>\n",
       "      <td>48</td>\n",
       "    </tr>\n",
       "  </tbody>\n",
       "</table>\n",
       "</div>"
      ],
      "text/plain": [
       "                gene_name                                             tissue  \\\n",
       "gene_id                                                                        \n",
       "ENSG00000000419      DPM1       (Brain_Substantia_nigra, Brain_Hypothalamus)   \n",
       "ENSG00000000938       FGR  (Brain_Cerebellar_Hemisphere, Skin_Not_Sun_Exp...   \n",
       "ENSG00000000971       CFH  (Brain_Cerebellar_Hemisphere, Skin_Not_Sun_Exp...   \n",
       "ENSG00000001084      GCLC  (Brain_Cerebellar_Hemisphere, Skin_Not_Sun_Exp...   \n",
       "ENSG00000001167      NFYA  (Brain_Cerebellar_Hemisphere, Skin_Not_Sun_Exp...   \n",
       "\n",
       "                 n_tissues  n_snps_used_sum  n_snps_in_model_sum  \n",
       "gene_id                                                           \n",
       "ENSG00000000419          2                2                    2  \n",
       "ENSG00000000938         36               40                   40  \n",
       "ENSG00000000971         34               44                   44  \n",
       "ENSG00000001084         32               46                   46  \n",
       "ENSG00000001167         40               47                   48  "
      ]
     },
     "execution_count": 17,
     "metadata": {},
     "output_type": "execute_result"
    }
   ],
   "source": [
    "spredixcan_genes_models.head()"
   ]
  },
  {
   "cell_type": "code",
   "execution_count": 18,
   "id": "d1c11bb1-be0b-4f40-b360-633d6827109f",
   "metadata": {
    "execution": {
     "iopub.execute_input": "2022-11-29T23:35:21.172615Z",
     "iopub.status.busy": "2022-11-29T23:35:21.172134Z",
     "iopub.status.idle": "2022-11-29T23:35:21.191972Z",
     "shell.execute_reply": "2022-11-29T23:35:21.191466Z"
    },
    "papermill": {
     "duration": 0.032981,
     "end_time": "2022-11-29T23:35:21.193557",
     "exception": false,
     "start_time": "2022-11-29T23:35:21.160576",
     "status": "completed"
    },
    "tags": []
   },
   "outputs": [],
   "source": [
    "assert spredixcan_genes_models.index.is_unique"
   ]
  },
  {
   "cell_type": "markdown",
   "id": "a5b5092c-a13e-47c4-a92a-480fcc08f3ae",
   "metadata": {
    "papermill": {
     "duration": 0.012134,
     "end_time": "2022-11-29T23:35:21.217873",
     "exception": false,
     "start_time": "2022-11-29T23:35:21.205739",
     "status": "completed"
    },
    "tags": []
   },
   "source": [
    "## Gene info"
   ]
  },
  {
   "cell_type": "code",
   "execution_count": 19,
   "id": "7d6bb224-88e9-4358-ac10-43a41d92cdad",
   "metadata": {
    "execution": {
     "iopub.execute_input": "2022-11-29T23:35:21.243188Z",
     "iopub.status.busy": "2022-11-29T23:35:21.242985Z",
     "iopub.status.idle": "2022-11-29T23:35:21.264271Z",
     "shell.execute_reply": "2022-11-29T23:35:21.263758Z"
    },
    "papermill": {
     "duration": 0.03563,
     "end_time": "2022-11-29T23:35:21.265878",
     "exception": false,
     "start_time": "2022-11-29T23:35:21.230248",
     "status": "completed"
    },
    "tags": []
   },
   "outputs": [],
   "source": [
    "genes_info = pd.read_pickle(OUTPUT_DIR_BASE / \"genes_info.pkl\")"
   ]
  },
  {
   "cell_type": "code",
   "execution_count": 20,
   "id": "9e32abfa-546d-483e-8c18-d526e9e05903",
   "metadata": {
    "execution": {
     "iopub.execute_input": "2022-11-29T23:35:21.291665Z",
     "iopub.status.busy": "2022-11-29T23:35:21.291465Z",
     "iopub.status.idle": "2022-11-29T23:35:21.311530Z",
     "shell.execute_reply": "2022-11-29T23:35:21.311051Z"
    },
    "papermill": {
     "duration": 0.034507,
     "end_time": "2022-11-29T23:35:21.313099",
     "exception": false,
     "start_time": "2022-11-29T23:35:21.278592",
     "status": "completed"
    },
    "tags": []
   },
   "outputs": [
    {
     "data": {
      "text/plain": [
       "(6443, 7)"
      ]
     },
     "execution_count": 20,
     "metadata": {},
     "output_type": "execute_result"
    }
   ],
   "source": [
    "genes_info.shape"
   ]
  },
  {
   "cell_type": "code",
   "execution_count": 21,
   "id": "d16c3e92-85ec-468a-9a56-e25a9774a1cb",
   "metadata": {
    "execution": {
     "iopub.execute_input": "2022-11-29T23:35:21.339476Z",
     "iopub.status.busy": "2022-11-29T23:35:21.339071Z",
     "iopub.status.idle": "2022-11-29T23:35:21.367219Z",
     "shell.execute_reply": "2022-11-29T23:35:21.366583Z"
    },
    "papermill": {
     "duration": 0.042472,
     "end_time": "2022-11-29T23:35:21.368619",
     "exception": false,
     "start_time": "2022-11-29T23:35:21.326147",
     "status": "completed"
    },
    "tags": []
   },
   "outputs": [
    {
     "data": {
      "text/html": [
       "<div>\n",
       "<style scoped>\n",
       "    .dataframe tbody tr th:only-of-type {\n",
       "        vertical-align: middle;\n",
       "    }\n",
       "\n",
       "    .dataframe tbody tr th {\n",
       "        vertical-align: top;\n",
       "    }\n",
       "\n",
       "    .dataframe thead th {\n",
       "        text-align: right;\n",
       "    }\n",
       "</style>\n",
       "<table border=\"1\" class=\"dataframe\">\n",
       "  <thead>\n",
       "    <tr style=\"text-align: right;\">\n",
       "      <th></th>\n",
       "      <th>name</th>\n",
       "      <th>id</th>\n",
       "      <th>chr</th>\n",
       "      <th>band</th>\n",
       "      <th>start_position</th>\n",
       "      <th>end_position</th>\n",
       "      <th>gene_length</th>\n",
       "    </tr>\n",
       "  </thead>\n",
       "  <tbody>\n",
       "    <tr>\n",
       "      <th>0</th>\n",
       "      <td>PPP1R13B</td>\n",
       "      <td>ENSG00000088808</td>\n",
       "      <td>14</td>\n",
       "      <td>14q32.33</td>\n",
       "      <td>103733195</td>\n",
       "      <td>103847590</td>\n",
       "      <td>114395</td>\n",
       "    </tr>\n",
       "    <tr>\n",
       "      <th>1</th>\n",
       "      <td>HNRNPA0</td>\n",
       "      <td>ENSG00000177733</td>\n",
       "      <td>5</td>\n",
       "      <td>5q31.2</td>\n",
       "      <td>137745651</td>\n",
       "      <td>137754376</td>\n",
       "      <td>8725</td>\n",
       "    </tr>\n",
       "    <tr>\n",
       "      <th>2</th>\n",
       "      <td>GSN</td>\n",
       "      <td>ENSG00000148180</td>\n",
       "      <td>9</td>\n",
       "      <td>9q33.2</td>\n",
       "      <td>121207794</td>\n",
       "      <td>121332843</td>\n",
       "      <td>125049</td>\n",
       "    </tr>\n",
       "    <tr>\n",
       "      <th>3</th>\n",
       "      <td>CCR3</td>\n",
       "      <td>ENSG00000183625</td>\n",
       "      <td>3</td>\n",
       "      <td>3p21.31</td>\n",
       "      <td>46163604</td>\n",
       "      <td>46266706</td>\n",
       "      <td>103102</td>\n",
       "    </tr>\n",
       "    <tr>\n",
       "      <th>4</th>\n",
       "      <td>TRIB2</td>\n",
       "      <td>ENSG00000071575</td>\n",
       "      <td>2</td>\n",
       "      <td>2p24.3</td>\n",
       "      <td>12716889</td>\n",
       "      <td>12742734</td>\n",
       "      <td>25845</td>\n",
       "    </tr>\n",
       "  </tbody>\n",
       "</table>\n",
       "</div>"
      ],
      "text/plain": [
       "       name               id  chr      band  start_position  end_position  \\\n",
       "0  PPP1R13B  ENSG00000088808   14  14q32.33       103733195     103847590   \n",
       "1   HNRNPA0  ENSG00000177733    5    5q31.2       137745651     137754376   \n",
       "2       GSN  ENSG00000148180    9    9q33.2       121207794     121332843   \n",
       "3      CCR3  ENSG00000183625    3   3p21.31        46163604      46266706   \n",
       "4     TRIB2  ENSG00000071575    2    2p24.3        12716889      12742734   \n",
       "\n",
       "   gene_length  \n",
       "0       114395  \n",
       "1         8725  \n",
       "2       125049  \n",
       "3       103102  \n",
       "4        25845  "
      ]
     },
     "execution_count": 21,
     "metadata": {},
     "output_type": "execute_result"
    }
   ],
   "source": [
    "genes_info.head()"
   ]
  },
  {
   "cell_type": "markdown",
   "id": "d3843e06",
   "metadata": {
    "papermill": {
     "duration": 0.010055,
     "end_time": "2022-11-29T23:35:21.389214",
     "exception": false,
     "start_time": "2022-11-29T23:35:21.379159",
     "status": "completed"
    },
    "tags": []
   },
   "source": [
    "# Compute correlations"
   ]
  },
  {
   "cell_type": "code",
   "execution_count": 22,
   "id": "cb859c15-d1f3-4006-a74c-2b83c0db9611",
   "metadata": {
    "execution": {
     "iopub.execute_input": "2022-11-29T23:35:21.404903Z",
     "iopub.status.busy": "2022-11-29T23:35:21.404676Z",
     "iopub.status.idle": "2022-11-29T23:35:21.426534Z",
     "shell.execute_reply": "2022-11-29T23:35:21.425726Z"
    },
    "papermill": {
     "duration": 0.029615,
     "end_time": "2022-11-29T23:35:21.427995",
     "exception": false,
     "start_time": "2022-11-29T23:35:21.398380",
     "status": "completed"
    },
    "tags": []
   },
   "outputs": [
    {
     "data": {
      "text/plain": [
       "PosixPath('/opt/data/projects/asthma-copd/results/gls_phenoplier/gene_corrs/copd_only/by_chr/gene_corrs-chr5.pkl')"
      ]
     },
     "metadata": {},
     "output_type": "display_data"
    }
   ],
   "source": [
    "output_dir = OUTPUT_DIR_BASE / \"by_chr\"\n",
    "output_dir.mkdir(exist_ok=True, parents=True)\n",
    "output_file = output_dir / f\"gene_corrs-chr{CHROMOSOME}.pkl\"\n",
    "display(output_file)"
   ]
  },
  {
   "cell_type": "code",
   "execution_count": 23,
   "id": "aa674fe4-6794-4eed-98fa-32b39d1d4ace",
   "metadata": {
    "execution": {
     "iopub.execute_input": "2022-11-29T23:35:21.450909Z",
     "iopub.status.busy": "2022-11-29T23:35:21.450675Z",
     "iopub.status.idle": "2022-11-29T23:35:21.470716Z",
     "shell.execute_reply": "2022-11-29T23:35:21.470074Z"
    },
    "papermill": {
     "duration": 0.033216,
     "end_time": "2022-11-29T23:35:21.472261",
     "exception": false,
     "start_time": "2022-11-29T23:35:21.439045",
     "status": "completed"
    },
    "tags": []
   },
   "outputs": [],
   "source": [
    "warnings.filterwarnings(\"error\")"
   ]
  },
  {
   "cell_type": "code",
   "execution_count": 24,
   "id": "44d5450b-3baf-43f1-9e2e-4b06f1a785f8",
   "metadata": {
    "execution": {
     "iopub.execute_input": "2022-11-29T23:35:21.496016Z",
     "iopub.status.busy": "2022-11-29T23:35:21.495774Z",
     "iopub.status.idle": "2022-11-29T23:35:21.516668Z",
     "shell.execute_reply": "2022-11-29T23:35:21.515947Z"
    },
    "papermill": {
     "duration": 0.034293,
     "end_time": "2022-11-29T23:35:21.518291",
     "exception": false,
     "start_time": "2022-11-29T23:35:21.483998",
     "status": "completed"
    },
    "tags": []
   },
   "outputs": [],
   "source": [
    "# standard checks\n",
    "all_chrs = genes_info[\"chr\"].dropna().unique()\n",
    "assert all_chrs.shape[0] == 22\n",
    "\n",
    "# select chromosome given by the user\n",
    "assert CHROMOSOME in all_chrs"
   ]
  },
  {
   "cell_type": "code",
   "execution_count": 25,
   "id": "2d7c043c-92a7-4d35-991b-fa69ac1e0268",
   "metadata": {
    "execution": {
     "iopub.execute_input": "2022-11-29T23:35:21.542229Z",
     "iopub.status.busy": "2022-11-29T23:35:21.542002Z",
     "iopub.status.idle": "2022-11-29T23:35:21.564321Z",
     "shell.execute_reply": "2022-11-29T23:35:21.563673Z"
    },
    "papermill": {
     "duration": 0.036156,
     "end_time": "2022-11-29T23:35:21.565979",
     "exception": false,
     "start_time": "2022-11-29T23:35:21.529823",
     "status": "completed"
    },
    "tags": []
   },
   "outputs": [
    {
     "name": "stdout",
     "output_type": "stream",
     "text": [
      "Number of genes in chromosome: 305\n"
     ]
    }
   ],
   "source": [
    "# run only on the chromosome specified\n",
    "all_chrs = [CHROMOSOME]\n",
    "genes_chr = genes_info[genes_info[\"chr\"] == CHROMOSOME]\n",
    "\n",
    "# For testing purposes\n",
    "# genes_chr = genes_chr.sample(n=20)\n",
    "\n",
    "print(f\"Number of genes in chromosome: {genes_chr.shape[0]}\", flush=True)"
   ]
  },
  {
   "cell_type": "code",
   "execution_count": 26,
   "id": "916015d8-2979-46d3-a9b9-1cf5a0932c6a",
   "metadata": {
    "execution": {
     "iopub.execute_input": "2022-11-29T23:35:21.593543Z",
     "iopub.status.busy": "2022-11-29T23:35:21.593031Z",
     "iopub.status.idle": "2022-11-29T23:35:21.615183Z",
     "shell.execute_reply": "2022-11-29T23:35:21.614550Z"
    },
    "papermill": {
     "duration": 0.037637,
     "end_time": "2022-11-29T23:35:21.617001",
     "exception": false,
     "start_time": "2022-11-29T23:35:21.579364",
     "status": "completed"
    },
    "tags": []
   },
   "outputs": [],
   "source": [
    "# sort genes by starting position to make visualizations better later\n",
    "genes_chr = genes_chr.sort_values(\"start_position\")"
   ]
  },
  {
   "cell_type": "code",
   "execution_count": 27,
   "id": "a38aa74a-8ad3-47f6-8ef9-56be0e011774",
   "metadata": {
    "execution": {
     "iopub.execute_input": "2022-11-29T23:35:21.645553Z",
     "iopub.status.busy": "2022-11-29T23:35:21.645026Z",
     "iopub.status.idle": "2022-11-29T23:35:21.667634Z",
     "shell.execute_reply": "2022-11-29T23:35:21.666947Z"
    },
    "papermill": {
     "duration": 0.03829,
     "end_time": "2022-11-29T23:35:21.669317",
     "exception": false,
     "start_time": "2022-11-29T23:35:21.631027",
     "status": "completed"
    },
    "tags": []
   },
   "outputs": [],
   "source": [
    "gene_chr_objs = [Gene(ensembl_id=gene_id) for gene_id in genes_chr[\"id\"]]"
   ]
  },
  {
   "cell_type": "code",
   "execution_count": 28,
   "id": "570f974f-13c3-42b6-ad3a-ce99ca885c1a",
   "metadata": {
    "execution": {
     "iopub.execute_input": "2022-11-29T23:35:21.695472Z",
     "iopub.status.busy": "2022-11-29T23:35:21.694956Z",
     "iopub.status.idle": "2022-11-29T23:35:21.717513Z",
     "shell.execute_reply": "2022-11-29T23:35:21.716853Z"
    },
    "papermill": {
     "duration": 0.037165,
     "end_time": "2022-11-29T23:35:21.718954",
     "exception": false,
     "start_time": "2022-11-29T23:35:21.681789",
     "status": "completed"
    },
    "tags": []
   },
   "outputs": [
    {
     "name": "stdout",
     "output_type": "stream",
     "text": [
      "Number of gene combinations: 46665\n"
     ]
    }
   ],
   "source": [
    "n = len(gene_chr_objs)\n",
    "# diagonal elements + upper triangular matrix\n",
    "n_comb = n + int(n * (n - 1) / 2.0)\n",
    "print(f\"Number of gene combinations: {n_comb}\", flush=True)"
   ]
  },
  {
   "cell_type": "code",
   "execution_count": 29,
   "id": "cdbb90a1",
   "metadata": {
    "execution": {
     "iopub.execute_input": "2022-11-29T23:35:21.743411Z",
     "iopub.status.busy": "2022-11-29T23:35:21.742899Z",
     "iopub.status.idle": "2022-11-30T00:07:04.064812Z",
     "shell.execute_reply": "2022-11-30T00:07:04.064296Z"
    },
    "papermill": {
     "duration": 1902.335897,
     "end_time": "2022-11-30T00:07:04.066749",
     "exception": false,
     "start_time": "2022-11-29T23:35:21.730852",
     "status": "completed"
    },
    "tags": []
   },
   "outputs": [
    {
     "name": "stderr",
     "output_type": "stream",
     "text": [
      "ENSG00000165810 / ENSG00000165810: 100%|██████████████████████| 46665/46665 [31:42<00:00, 24.53it/s]\n"
     ]
    },
    {
     "data": {
      "text/plain": [
       "PosixPath('/opt/data/projects/asthma-copd/results/gls_phenoplier/gene_corrs/copd_only/by_chr/gene_corrs-chr5.pkl')"
      ]
     },
     "metadata": {},
     "output_type": "display_data"
    }
   ],
   "source": [
    "gene_corrs = []\n",
    "gene_corrs_data = np.full(\n",
    "    (n, n),\n",
    "    np.nan,\n",
    "    dtype=np.float64,\n",
    ")\n",
    "\n",
    "i = 0\n",
    "with tqdm(ncols=100, total=n_comb) as pbar:\n",
    "    for gene1_idx in range(0, len(gene_chr_objs)):\n",
    "        gene1_obj = gene_chr_objs[gene1_idx]\n",
    "        gene1_tissues = spredixcan_genes_models.loc[gene1_obj.ensembl_id, \"tissue\"]\n",
    "\n",
    "        for gene2_idx in range(gene1_idx, len(gene_chr_objs)):\n",
    "            gene2_obj = gene_chr_objs[gene2_idx]\n",
    "            gene2_tissues = spredixcan_genes_models.loc[gene2_obj.ensembl_id, \"tissue\"]\n",
    "\n",
    "            pbar.set_description(f\"{gene1_obj.ensembl_id} / {gene2_obj.ensembl_id}\")\n",
    "\n",
    "            try:\n",
    "                r = gene1_obj.get_ssm_correlation(\n",
    "                    other_gene=gene2_obj,\n",
    "                    tissues=gene1_tissues,\n",
    "                    other_tissues=gene2_tissues,\n",
    "                    snps_subset=gwas_variants_ids_set,\n",
    "                    condition_number=SMULTIXCAN_CONDITION_NUMBER,\n",
    "                    reference_panel=REFERENCE_PANEL,\n",
    "                    model_type=EQTL_MODEL,\n",
    "                    use_within_distance=COMPUTE_CORRELATIONS_WITHIN_DISTANCE,\n",
    "                )\n",
    "\n",
    "                if r is None:\n",
    "                    # if r is None, it's very likely because:\n",
    "                    #  * one of the genes has no prediction models\n",
    "                    #  * all the SNPs predictors for the gene are not present in the reference\n",
    "                    #    panel\n",
    "\n",
    "                    r = 0.0\n",
    "\n",
    "                gene_corrs.append(r)\n",
    "\n",
    "                gene_corrs_data[gene1_idx, gene2_idx] = r\n",
    "                gene_corrs_data[gene2_idx, gene1_idx] = r\n",
    "            except Warning as e:\n",
    "                if not DEBUG_MODE:\n",
    "                    raise e\n",
    "\n",
    "                print(\n",
    "                    f\"RuntimeWarning for genes {gene1_obj.ensembl_id} and {gene2_obj.ensembl_id}\",\n",
    "                    flush=True,\n",
    "                )\n",
    "                print(traceback.format_exc(), flush=True)\n",
    "\n",
    "                gene_corrs.append(np.nan)\n",
    "            except Exception as e:\n",
    "                if not DEBUG_MODE:\n",
    "                    raise e\n",
    "\n",
    "                print(\n",
    "                    f\"Exception for genes {gene1_obj.ensembl_id} and {gene2_obj.ensembl_id}\",\n",
    "                    flush=True,\n",
    "                )\n",
    "                print(traceback.format_exc(), flush=True)\n",
    "\n",
    "                gene_corrs.append(np.nan)\n",
    "\n",
    "            pbar.update(1)\n",
    "\n",
    "# create a pandas series\n",
    "gene_corrs_flat = pd.Series(gene_corrs)\n",
    "\n",
    "# save\n",
    "# FIXME: consider saving only the condenced matrix here. See here for\n",
    "# more details: https://github.com/greenelab/phenoplier/pull/38#discussion_r634600813\n",
    "# gene_corrs_data = squareform(np.array(gene_corrs, dtype=np.float64))\n",
    "# np.fill_diagonal(gene_corrs_data, 1.0)\n",
    "\n",
    "gene_chr_ids = [g.ensembl_id for g in gene_chr_objs]\n",
    "gene_corrs_df = pd.DataFrame(\n",
    "    data=gene_corrs_data,\n",
    "    index=gene_chr_ids,\n",
    "    columns=gene_chr_ids,\n",
    ")\n",
    "\n",
    "output_dir.mkdir(exist_ok=True, parents=True)\n",
    "display(output_file)\n",
    "\n",
    "gene_corrs_df.to_pickle(output_file)"
   ]
  },
  {
   "cell_type": "markdown",
   "id": "faa67b51-5373-470f-aa72-2ded53fa6dfe",
   "metadata": {
    "papermill": {
     "duration": 1.877242,
     "end_time": "2022-11-30T00:07:07.919184",
     "exception": false,
     "start_time": "2022-11-30T00:07:06.041942",
     "status": "completed"
    },
    "tags": []
   },
   "source": [
    "# Testing"
   ]
  },
  {
   "cell_type": "code",
   "execution_count": 30,
   "id": "14f7d046-4b55-4896-a56b-990127bcc388",
   "metadata": {
    "execution": {
     "iopub.execute_input": "2022-11-30T00:07:11.666603Z",
     "iopub.status.busy": "2022-11-30T00:07:11.666207Z",
     "iopub.status.idle": "2022-11-30T00:07:11.688320Z",
     "shell.execute_reply": "2022-11-30T00:07:11.687672Z"
    },
    "papermill": {
     "duration": 1.917581,
     "end_time": "2022-11-30T00:07:11.689276",
     "exception": false,
     "start_time": "2022-11-30T00:07:09.771695",
     "status": "completed"
    },
    "tags": []
   },
   "outputs": [
    {
     "data": {
      "text/plain": [
       "(305, 305)"
      ]
     },
     "execution_count": 30,
     "metadata": {},
     "output_type": "execute_result"
    }
   ],
   "source": [
    "gene_corrs_df.shape"
   ]
  },
  {
   "cell_type": "code",
   "execution_count": 31,
   "id": "c7d15414-3297-4537-a7c6-7588c0baeb75",
   "metadata": {
    "execution": {
     "iopub.execute_input": "2022-11-30T00:07:15.325770Z",
     "iopub.status.busy": "2022-11-30T00:07:15.325223Z",
     "iopub.status.idle": "2022-11-30T00:07:15.365912Z",
     "shell.execute_reply": "2022-11-30T00:07:15.365251Z"
    },
    "papermill": {
     "duration": 1.867671,
     "end_time": "2022-11-30T00:07:15.366917",
     "exception": false,
     "start_time": "2022-11-30T00:07:13.499246",
     "status": "completed"
    },
    "tags": []
   },
   "outputs": [
    {
     "data": {
      "text/html": [
       "<div>\n",
       "<style scoped>\n",
       "    .dataframe tbody tr th:only-of-type {\n",
       "        vertical-align: middle;\n",
       "    }\n",
       "\n",
       "    .dataframe tbody tr th {\n",
       "        vertical-align: top;\n",
       "    }\n",
       "\n",
       "    .dataframe thead th {\n",
       "        text-align: right;\n",
       "    }\n",
       "</style>\n",
       "<table border=\"1\" class=\"dataframe\">\n",
       "  <thead>\n",
       "    <tr style=\"text-align: right;\">\n",
       "      <th></th>\n",
       "      <th>ENSG00000073578</th>\n",
       "      <th>ENSG00000180104</th>\n",
       "      <th>ENSG00000066230</th>\n",
       "      <th>ENSG00000112877</th>\n",
       "      <th>ENSG00000113504</th>\n",
       "      <th>ENSG00000174358</th>\n",
       "      <th>ENSG00000164362</th>\n",
       "      <th>ENSG00000049656</th>\n",
       "      <th>ENSG00000153395</th>\n",
       "      <th>ENSG00000171421</th>\n",
       "      <th>...</th>\n",
       "      <th>ENSG00000161021</th>\n",
       "      <th>ENSG00000161013</th>\n",
       "      <th>ENSG00000161011</th>\n",
       "      <th>ENSG00000050748</th>\n",
       "      <th>ENSG00000131459</th>\n",
       "      <th>ENSG00000113300</th>\n",
       "      <th>ENSG00000037280</th>\n",
       "      <th>ENSG00000131446</th>\n",
       "      <th>ENSG00000113303</th>\n",
       "      <th>ENSG00000165810</th>\n",
       "    </tr>\n",
       "  </thead>\n",
       "  <tbody>\n",
       "    <tr>\n",
       "      <th>ENSG00000073578</th>\n",
       "      <td>1.000000</td>\n",
       "      <td>0.240815</td>\n",
       "      <td>0.161150</td>\n",
       "      <td>0.049611</td>\n",
       "      <td>0.015151</td>\n",
       "      <td>0.011679</td>\n",
       "      <td>0.008640</td>\n",
       "      <td>0.010104</td>\n",
       "      <td>0.012698</td>\n",
       "      <td>0.008122</td>\n",
       "      <td>...</td>\n",
       "      <td>0.008832</td>\n",
       "      <td>0.009874</td>\n",
       "      <td>0.010103</td>\n",
       "      <td>0.010862</td>\n",
       "      <td>0.014451</td>\n",
       "      <td>0.007847</td>\n",
       "      <td>0.011302</td>\n",
       "      <td>0.016045</td>\n",
       "      <td>0.012576</td>\n",
       "      <td>0.008547</td>\n",
       "    </tr>\n",
       "    <tr>\n",
       "      <th>ENSG00000180104</th>\n",
       "      <td>0.240815</td>\n",
       "      <td>1.000000</td>\n",
       "      <td>0.394044</td>\n",
       "      <td>0.092476</td>\n",
       "      <td>0.006065</td>\n",
       "      <td>0.010590</td>\n",
       "      <td>0.007414</td>\n",
       "      <td>0.004419</td>\n",
       "      <td>0.004101</td>\n",
       "      <td>0.006108</td>\n",
       "      <td>...</td>\n",
       "      <td>0.007530</td>\n",
       "      <td>0.002856</td>\n",
       "      <td>0.005054</td>\n",
       "      <td>0.007138</td>\n",
       "      <td>0.008508</td>\n",
       "      <td>0.005820</td>\n",
       "      <td>0.006728</td>\n",
       "      <td>0.006903</td>\n",
       "      <td>0.002946</td>\n",
       "      <td>0.004173</td>\n",
       "    </tr>\n",
       "    <tr>\n",
       "      <th>ENSG00000066230</th>\n",
       "      <td>0.161150</td>\n",
       "      <td>0.394044</td>\n",
       "      <td>1.000000</td>\n",
       "      <td>0.216369</td>\n",
       "      <td>0.012961</td>\n",
       "      <td>0.008745</td>\n",
       "      <td>0.006762</td>\n",
       "      <td>0.009393</td>\n",
       "      <td>0.012246</td>\n",
       "      <td>0.008238</td>\n",
       "      <td>...</td>\n",
       "      <td>0.007527</td>\n",
       "      <td>0.005530</td>\n",
       "      <td>0.008153</td>\n",
       "      <td>0.006234</td>\n",
       "      <td>0.008947</td>\n",
       "      <td>0.004306</td>\n",
       "      <td>0.007579</td>\n",
       "      <td>0.006736</td>\n",
       "      <td>0.002829</td>\n",
       "      <td>0.005606</td>\n",
       "    </tr>\n",
       "    <tr>\n",
       "      <th>ENSG00000112877</th>\n",
       "      <td>0.049611</td>\n",
       "      <td>0.092476</td>\n",
       "      <td>0.216369</td>\n",
       "      <td>1.000000</td>\n",
       "      <td>0.021994</td>\n",
       "      <td>0.007444</td>\n",
       "      <td>0.007431</td>\n",
       "      <td>0.008093</td>\n",
       "      <td>0.011573</td>\n",
       "      <td>0.003085</td>\n",
       "      <td>...</td>\n",
       "      <td>0.008217</td>\n",
       "      <td>0.007418</td>\n",
       "      <td>0.008980</td>\n",
       "      <td>0.009363</td>\n",
       "      <td>0.014036</td>\n",
       "      <td>0.009913</td>\n",
       "      <td>0.011692</td>\n",
       "      <td>0.009505</td>\n",
       "      <td>0.005459</td>\n",
       "      <td>0.005300</td>\n",
       "    </tr>\n",
       "    <tr>\n",
       "      <th>ENSG00000113504</th>\n",
       "      <td>0.015151</td>\n",
       "      <td>0.006065</td>\n",
       "      <td>0.012961</td>\n",
       "      <td>0.021994</td>\n",
       "      <td>1.000000</td>\n",
       "      <td>0.023247</td>\n",
       "      <td>0.009773</td>\n",
       "      <td>0.008319</td>\n",
       "      <td>0.114610</td>\n",
       "      <td>0.008152</td>\n",
       "      <td>...</td>\n",
       "      <td>0.011964</td>\n",
       "      <td>0.006446</td>\n",
       "      <td>0.007964</td>\n",
       "      <td>0.009621</td>\n",
       "      <td>0.011645</td>\n",
       "      <td>0.010967</td>\n",
       "      <td>0.013630</td>\n",
       "      <td>0.011021</td>\n",
       "      <td>0.007452</td>\n",
       "      <td>0.007947</td>\n",
       "    </tr>\n",
       "  </tbody>\n",
       "</table>\n",
       "<p>5 rows × 305 columns</p>\n",
       "</div>"
      ],
      "text/plain": [
       "                 ENSG00000073578  ENSG00000180104  ENSG00000066230  \\\n",
       "ENSG00000073578         1.000000         0.240815         0.161150   \n",
       "ENSG00000180104         0.240815         1.000000         0.394044   \n",
       "ENSG00000066230         0.161150         0.394044         1.000000   \n",
       "ENSG00000112877         0.049611         0.092476         0.216369   \n",
       "ENSG00000113504         0.015151         0.006065         0.012961   \n",
       "\n",
       "                 ENSG00000112877  ENSG00000113504  ENSG00000174358  \\\n",
       "ENSG00000073578         0.049611         0.015151         0.011679   \n",
       "ENSG00000180104         0.092476         0.006065         0.010590   \n",
       "ENSG00000066230         0.216369         0.012961         0.008745   \n",
       "ENSG00000112877         1.000000         0.021994         0.007444   \n",
       "ENSG00000113504         0.021994         1.000000         0.023247   \n",
       "\n",
       "                 ENSG00000164362  ENSG00000049656  ENSG00000153395  \\\n",
       "ENSG00000073578         0.008640         0.010104         0.012698   \n",
       "ENSG00000180104         0.007414         0.004419         0.004101   \n",
       "ENSG00000066230         0.006762         0.009393         0.012246   \n",
       "ENSG00000112877         0.007431         0.008093         0.011573   \n",
       "ENSG00000113504         0.009773         0.008319         0.114610   \n",
       "\n",
       "                 ENSG00000171421  ...  ENSG00000161021  ENSG00000161013  \\\n",
       "ENSG00000073578         0.008122  ...         0.008832         0.009874   \n",
       "ENSG00000180104         0.006108  ...         0.007530         0.002856   \n",
       "ENSG00000066230         0.008238  ...         0.007527         0.005530   \n",
       "ENSG00000112877         0.003085  ...         0.008217         0.007418   \n",
       "ENSG00000113504         0.008152  ...         0.011964         0.006446   \n",
       "\n",
       "                 ENSG00000161011  ENSG00000050748  ENSG00000131459  \\\n",
       "ENSG00000073578         0.010103         0.010862         0.014451   \n",
       "ENSG00000180104         0.005054         0.007138         0.008508   \n",
       "ENSG00000066230         0.008153         0.006234         0.008947   \n",
       "ENSG00000112877         0.008980         0.009363         0.014036   \n",
       "ENSG00000113504         0.007964         0.009621         0.011645   \n",
       "\n",
       "                 ENSG00000113300  ENSG00000037280  ENSG00000131446  \\\n",
       "ENSG00000073578         0.007847         0.011302         0.016045   \n",
       "ENSG00000180104         0.005820         0.006728         0.006903   \n",
       "ENSG00000066230         0.004306         0.007579         0.006736   \n",
       "ENSG00000112877         0.009913         0.011692         0.009505   \n",
       "ENSG00000113504         0.010967         0.013630         0.011021   \n",
       "\n",
       "                 ENSG00000113303  ENSG00000165810  \n",
       "ENSG00000073578         0.012576         0.008547  \n",
       "ENSG00000180104         0.002946         0.004173  \n",
       "ENSG00000066230         0.002829         0.005606  \n",
       "ENSG00000112877         0.005459         0.005300  \n",
       "ENSG00000113504         0.007452         0.007947  \n",
       "\n",
       "[5 rows x 305 columns]"
      ]
     },
     "execution_count": 31,
     "metadata": {},
     "output_type": "execute_result"
    }
   ],
   "source": [
    "gene_corrs_df.head()"
   ]
  },
  {
   "cell_type": "markdown",
   "id": "dad6603f-01c6-41fb-a6f6-241051207dd8",
   "metadata": {
    "papermill": {
     "duration": 1.839889,
     "end_time": "2022-11-30T00:07:19.009627",
     "exception": false,
     "start_time": "2022-11-30T00:07:17.169738",
     "status": "completed"
    },
    "tags": []
   },
   "source": [
    "## Standard checks and stats"
   ]
  },
  {
   "cell_type": "code",
   "execution_count": 32,
   "id": "286686af-1b7b-4440-8453-6bdcbd8de19c",
   "metadata": {
    "execution": {
     "iopub.execute_input": "2022-11-30T00:07:22.773634Z",
     "iopub.status.busy": "2022-11-30T00:07:22.773204Z",
     "iopub.status.idle": "2022-11-30T00:07:22.799179Z",
     "shell.execute_reply": "2022-11-30T00:07:22.798466Z"
    },
    "papermill": {
     "duration": 1.862098,
     "end_time": "2022-11-30T00:07:22.800311",
     "exception": false,
     "start_time": "2022-11-30T00:07:20.938213",
     "status": "completed"
    },
    "tags": []
   },
   "outputs": [],
   "source": [
    "assert not gene_corrs_df.isna().any().any()"
   ]
  },
  {
   "cell_type": "code",
   "execution_count": 33,
   "id": "00583efc-7068-4270-ad1e-4a418e91db96",
   "metadata": {
    "execution": {
     "iopub.execute_input": "2022-11-30T00:07:26.496712Z",
     "iopub.status.busy": "2022-11-30T00:07:26.496255Z",
     "iopub.status.idle": "2022-11-30T00:07:26.513528Z",
     "shell.execute_reply": "2022-11-30T00:07:26.513043Z"
    },
    "papermill": {
     "duration": 1.845893,
     "end_time": "2022-11-30T00:07:26.514374",
     "exception": false,
     "start_time": "2022-11-30T00:07:24.668481",
     "status": "completed"
    },
    "tags": []
   },
   "outputs": [
    {
     "data": {
      "text/plain": [
       "6.617782502068921e-09"
      ]
     },
     "metadata": {},
     "output_type": "display_data"
    }
   ],
   "source": [
    "_min_val = gene_corrs_df.min().min()\n",
    "display(_min_val)\n",
    "assert _min_val >= -0.05"
   ]
  },
  {
   "cell_type": "code",
   "execution_count": 34,
   "id": "d04fb2cf-1050-475b-b855-f5f7cc04092b",
   "metadata": {
    "execution": {
     "iopub.execute_input": "2022-11-30T00:07:30.150170Z",
     "iopub.status.busy": "2022-11-30T00:07:30.149741Z",
     "iopub.status.idle": "2022-11-30T00:07:30.175284Z",
     "shell.execute_reply": "2022-11-30T00:07:30.174667Z"
    },
    "papermill": {
     "duration": 1.857792,
     "end_time": "2022-11-30T00:07:30.176289",
     "exception": false,
     "start_time": "2022-11-30T00:07:28.318497",
     "status": "completed"
    },
    "tags": []
   },
   "outputs": [
    {
     "data": {
      "text/plain": [
       "1.0000000000000029"
      ]
     },
     "metadata": {},
     "output_type": "display_data"
    }
   ],
   "source": [
    "_max_val = gene_corrs_df.max().max()  # this captures the diagonal\n",
    "display(_max_val)\n",
    "assert _max_val <= 1.05"
   ]
  },
  {
   "cell_type": "code",
   "execution_count": 35,
   "id": "96d02c44-1fba-47be-8a93-8f2608420b9c",
   "metadata": {
    "execution": {
     "iopub.execute_input": "2022-11-30T00:07:33.812766Z",
     "iopub.status.busy": "2022-11-30T00:07:33.812063Z",
     "iopub.status.idle": "2022-11-30T00:07:33.834540Z",
     "shell.execute_reply": "2022-11-30T00:07:33.833964Z"
    },
    "papermill": {
     "duration": 1.81259,
     "end_time": "2022-11-30T00:07:33.835608",
     "exception": false,
     "start_time": "2022-11-30T00:07:32.023018",
     "status": "completed"
    },
    "tags": []
   },
   "outputs": [],
   "source": [
    "# check upper triangular values\n",
    "# assert len(gene_corrs) == int(genes_chr.shape[0] * (genes_chr.shape[0] - 1) / 2)"
   ]
  },
  {
   "cell_type": "code",
   "execution_count": 36,
   "id": "fe283586-c348-40e0-8841-f6d97bfb021c",
   "metadata": {
    "execution": {
     "iopub.execute_input": "2022-11-30T00:07:37.492263Z",
     "iopub.status.busy": "2022-11-30T00:07:37.491882Z",
     "iopub.status.idle": "2022-11-30T00:07:37.517717Z",
     "shell.execute_reply": "2022-11-30T00:07:37.517132Z"
    },
    "papermill": {
     "duration": 1.781281,
     "end_time": "2022-11-30T00:07:37.518643",
     "exception": false,
     "start_time": "2022-11-30T00:07:35.737362",
     "status": "completed"
    },
    "tags": []
   },
   "outputs": [
    {
     "data": {
      "text/plain": [
       "count    4.666500e+04\n",
       "mean     1.466223e-02\n",
       "std      8.530916e-02\n",
       "min      6.617783e-09\n",
       "25%      3.909765e-03\n",
       "50%      5.881553e-03\n",
       "75%      8.159052e-03\n",
       "max      1.000000e+00\n",
       "dtype: float64"
      ]
     },
     "execution_count": 36,
     "metadata": {},
     "output_type": "execute_result"
    }
   ],
   "source": [
    "gene_corrs_flat.describe()"
   ]
  },
  {
   "cell_type": "code",
   "execution_count": 37,
   "id": "b3815678-0f93-4b35-897b-a9d047a2aa78",
   "metadata": {
    "execution": {
     "iopub.execute_input": "2022-11-30T00:07:41.089253Z",
     "iopub.status.busy": "2022-11-30T00:07:41.088768Z",
     "iopub.status.idle": "2022-11-30T00:07:41.118000Z",
     "shell.execute_reply": "2022-11-30T00:07:41.117395Z"
    },
    "papermill": {
     "duration": 1.823027,
     "end_time": "2022-11-30T00:07:41.118890",
     "exception": false,
     "start_time": "2022-11-30T00:07:39.295863",
     "status": "completed"
    },
    "tags": []
   },
   "outputs": [
    {
     "data": {
      "text/plain": [
       "0.00    6.617783e-09\n",
       "0.05    1.561837e-03\n",
       "0.10    2.348216e-03\n",
       "0.15    2.935434e-03\n",
       "0.20    3.457943e-03\n",
       "0.25    3.909765e-03\n",
       "0.30    4.332812e-03\n",
       "0.35    4.729531e-03\n",
       "0.40    5.124631e-03\n",
       "0.45    5.488346e-03\n",
       "0.50    5.881553e-03\n",
       "0.55    6.287234e-03\n",
       "0.60    6.698838e-03\n",
       "0.65    7.144237e-03\n",
       "0.70    7.632937e-03\n",
       "0.75    8.159052e-03\n",
       "0.80    8.775206e-03\n",
       "0.85    9.537045e-03\n",
       "0.90    1.054713e-02\n",
       "0.95    1.231952e-02\n",
       "dtype: float64"
      ]
     },
     "metadata": {},
     "output_type": "display_data"
    }
   ],
   "source": [
    "gene_corrs_quantiles = gene_corrs_flat.quantile(np.arange(0, 1, 0.05))\n",
    "display(gene_corrs_quantiles)"
   ]
  },
  {
   "cell_type": "markdown",
   "id": "87134509-b145-4a10-8bc9-b7e914c2b0fa",
   "metadata": {
    "papermill": {
     "duration": 1.797694,
     "end_time": "2022-11-30T00:07:44.692491",
     "exception": false,
     "start_time": "2022-11-30T00:07:42.894797",
     "status": "completed"
    },
    "tags": []
   },
   "source": [
    "## Positive definiteness"
   ]
  },
  {
   "cell_type": "code",
   "execution_count": 38,
   "id": "07d9a9a1-a4f7-48aa-b916-6d42a8cc6186",
   "metadata": {
    "execution": {
     "iopub.execute_input": "2022-11-30T00:07:48.383436Z",
     "iopub.status.busy": "2022-11-30T00:07:48.382955Z",
     "iopub.status.idle": "2022-11-30T00:07:48.441079Z",
     "shell.execute_reply": "2022-11-30T00:07:48.440529Z"
    },
    "papermill": {
     "duration": 1.928443,
     "end_time": "2022-11-30T00:07:48.442435",
     "exception": false,
     "start_time": "2022-11-30T00:07:46.513992",
     "status": "completed"
    },
    "tags": []
   },
   "outputs": [
    {
     "data": {
      "text/plain": [
       "0"
      ]
     },
     "metadata": {},
     "output_type": "display_data"
    },
    {
     "data": {
      "text/plain": [
       "array([], dtype=float64)"
      ]
     },
     "metadata": {},
     "output_type": "display_data"
    }
   ],
   "source": [
    "# print negative eigenvalues\n",
    "eigs = np.linalg.eigvals(gene_corrs_df.to_numpy())\n",
    "display(len(eigs[eigs < 0]))\n",
    "display(eigs[eigs < 0])"
   ]
  },
  {
   "cell_type": "code",
   "execution_count": 39,
   "id": "6e218436-c3c5-4028-8c94-a4fa6260efce",
   "metadata": {
    "execution": {
     "iopub.execute_input": "2022-11-30T00:07:52.306128Z",
     "iopub.status.busy": "2022-11-30T00:07:52.305675Z",
     "iopub.status.idle": "2022-11-30T00:07:52.328610Z",
     "shell.execute_reply": "2022-11-30T00:07:52.328086Z"
    },
    "papermill": {
     "duration": 1.977389,
     "end_time": "2022-11-30T00:07:52.329558",
     "exception": false,
     "start_time": "2022-11-30T00:07:50.352169",
     "status": "completed"
    },
    "tags": []
   },
   "outputs": [
    {
     "name": "stdout",
     "output_type": "stream",
     "text": [
      "Works!\n"
     ]
    }
   ],
   "source": [
    "try:\n",
    "    chol_mat = np.linalg.cholesky(gene_corrs_df.to_numpy())\n",
    "    cov_inv = np.linalg.inv(chol_mat)\n",
    "    print(\"Works!\")\n",
    "except Exception as e:\n",
    "    print(f\"Cholesky decomposition failed: {str(e)}\")"
   ]
  },
  {
   "cell_type": "code",
   "execution_count": 40,
   "id": "dd8827fb-faf9-4c7c-9454-015e94752706",
   "metadata": {
    "execution": {
     "iopub.execute_input": "2022-11-30T00:07:56.073854Z",
     "iopub.status.busy": "2022-11-30T00:07:56.073404Z",
     "iopub.status.idle": "2022-11-30T00:07:56.100654Z",
     "shell.execute_reply": "2022-11-30T00:07:56.100042Z"
    },
    "papermill": {
     "duration": 1.85617,
     "end_time": "2022-11-30T00:07:56.101551",
     "exception": false,
     "start_time": "2022-11-30T00:07:54.245381",
     "status": "completed"
    },
    "tags": []
   },
   "outputs": [
    {
     "name": "stdout",
     "output_type": "stream",
     "text": [
      "Works!\n"
     ]
    }
   ],
   "source": [
    "try:\n",
    "    # decomposition used by statsmodels.GLS\n",
    "    cholsigmainv = np.linalg.cholesky(np.linalg.inv(gene_corrs_df.to_numpy())).T\n",
    "    print(\"Works!\")\n",
    "except Exception as e:\n",
    "    print(f\"Cholesky decomposition failed (statsmodels.GLS): {str(e)}\")"
   ]
  },
  {
   "cell_type": "markdown",
   "id": "8e60a080-edb2-4e9c-b2ef-22961693200c",
   "metadata": {
    "papermill": {
     "duration": 1.859998,
     "end_time": "2022-11-30T00:07:59.739803",
     "exception": false,
     "start_time": "2022-11-30T00:07:57.879805",
     "status": "completed"
    },
    "tags": []
   },
   "source": [
    "## Plot: distribution"
   ]
  },
  {
   "cell_type": "code",
   "execution_count": 41,
   "id": "8301126b-a7d4-4744-9c7d-f0f86eb6f54c",
   "metadata": {
    "execution": {
     "iopub.execute_input": "2022-11-30T00:08:03.489840Z",
     "iopub.status.busy": "2022-11-30T00:08:03.489424Z",
     "iopub.status.idle": "2022-11-30T00:08:09.814319Z",
     "shell.execute_reply": "2022-11-30T00:08:09.813896Z"
    },
    "papermill": {
     "duration": 8.226301,
     "end_time": "2022-11-30T00:08:09.815885",
     "exception": false,
     "start_time": "2022-11-30T00:08:01.589584",
     "status": "completed"
    },
    "tags": []
   },
   "outputs": [
    {
     "data": {
      "image/png": "[encoded data removed]",
      "text/plain": [
       "<Figure size 700x700 with 1 Axes>"
      ]
     },
     "metadata": {},
     "output_type": "display_data"
    }
   ],
   "source": [
    "with sns.plotting_context(\"paper\", font_scale=1.5):\n",
    "    g = sns.displot(gene_corrs_flat, kde=True, height=7)\n",
    "    g.ax.set_title(\n",
    "        f\"Distribution of gene correlation values in chromosome {CHROMOSOME}\"\n",
    "    )"
   ]
  },
  {
   "cell_type": "markdown",
   "id": "cbd52bca-d878-4a2f-b684-5c83aa3038d4",
   "metadata": {
    "papermill": {
     "duration": 1.787063,
     "end_time": "2022-11-30T00:08:13.474680",
     "exception": false,
     "start_time": "2022-11-30T00:08:11.687617",
     "status": "completed"
    },
    "tags": []
   },
   "source": [
    "## Plot: heatmap"
   ]
  },
  {
   "cell_type": "code",
   "execution_count": 42,
   "id": "d03fe63a-c7b2-4fb9-a53c-db362ce843c9",
   "metadata": {
    "execution": {
     "iopub.execute_input": "2022-11-30T00:08:17.159322Z",
     "iopub.status.busy": "2022-11-30T00:08:17.158933Z",
     "iopub.status.idle": "2022-11-30T00:08:17.180604Z",
     "shell.execute_reply": "2022-11-30T00:08:17.180102Z"
    },
    "papermill": {
     "duration": 1.910473,
     "end_time": "2022-11-30T00:08:17.181437",
     "exception": false,
     "start_time": "2022-11-30T00:08:15.270964",
     "status": "completed"
    },
    "tags": []
   },
   "outputs": [
    {
     "data": {
      "text/plain": [
       "'0.0 / 0.05'"
      ]
     },
     "metadata": {},
     "output_type": "display_data"
    }
   ],
   "source": [
    "vmin_val = min(0.00, gene_corrs_quantiles[0.10])\n",
    "vmax_val = max(0.05, gene_corrs_quantiles[0.90])\n",
    "display(f\"{vmin_val} / {vmax_val}\")"
   ]
  },
  {
   "cell_type": "code",
   "execution_count": 43,
   "id": "dc41b70b-5bcc-4d9e-9f33-a22c4a94dab5",
   "metadata": {
    "execution": {
     "iopub.execute_input": "2022-11-30T00:08:20.815565Z",
     "iopub.status.busy": "2022-11-30T00:08:20.814987Z",
     "iopub.status.idle": "2022-11-30T00:08:21.102658Z",
     "shell.execute_reply": "2022-11-30T00:08:21.102232Z"
    },
    "papermill": {
     "duration": 2.157025,
     "end_time": "2022-11-30T00:08:21.105817",
     "exception": false,
     "start_time": "2022-11-30T00:08:18.948792",
     "status": "completed"
    },
    "tags": []
   },
   "outputs": [
    {
     "data": {
      "text/plain": [
       "Text(0.5, 1.0, 'Gene correlations in chromosome 5')"
      ]
     },
     "execution_count": 43,
     "metadata": {},
     "output_type": "execute_result"
    },
    {
     "data": {
      "image/png": "[encoded data removed]",
      "text/plain": [
       "<Figure size 1000x1000 with 2 Axes>"
      ]
     },
     "metadata": {},
     "output_type": "display_data"
    }
   ],
   "source": [
    "f, ax = plt.subplots(figsize=(10, 10))\n",
    "sns.heatmap(\n",
    "    gene_corrs_df,\n",
    "    xticklabels=False,\n",
    "    yticklabels=False,\n",
    "    square=True,\n",
    "    vmin=vmin_val,\n",
    "    vmax=vmax_val,\n",
    "    cmap=\"rocket_r\",\n",
    "    ax=ax,\n",
    ")\n",
    "ax.set_title(f\"Gene correlations in chromosome {CHROMOSOME}\")"
   ]
  },
  {
   "cell_type": "code",
   "execution_count": null,
   "id": "b25e3ead",
   "metadata": {
    "papermill": {
     "duration": 1.806469,
     "end_time": "2022-11-30T00:08:24.749678",
     "exception": false,
     "start_time": "2022-11-30T00:08:22.943209",
     "status": "completed"
    },
    "tags": []
   },
   "outputs": [],
   "source": []
  }
 ],
 "metadata": {
  "jupytext": {
   "cell_metadata_filter": "all,-execution,-papermill,-trusted",
   "formats": "ipynb,py//py:percent"
  },
  "kernelspec": {
   "display_name": "Python 3 (ipykernel)",
   "language": "python",
   "name": "python3"
  },
  "language_info": {
   "codemirror_mode": {
    "name": "ipython",
    "version": 3
   },
   "file_extension": ".py",
   "mimetype": "text/x-python",
   "name": "python",
   "nbconvert_exporter": "python",
   "pygments_lexer": "ipython3",
   "version": "3.10.6"
  },
  "papermill": {
   "default_parameters": {},
   "duration": 1993.958714,
   "end_time": "2022-11-30T00:08:29.464518",
   "environment_variables": {},
   "exception": null,
   "input_path": "projects/asthma-copd/nbs/20_gene_corrs/10-gene_expr_correlations.ipynb",
   "output_path": "projects/asthma-copd/nbs/20_gene_corrs/gene_corrs/copd_only/10-gene_expr_correlations-chr5.run.ipynb",
   "parameters": {
    "CHROMOSOME": 5,
    "COHORT_NAME": "copd_only",
    "OUTPUT_DIR_BASE": "/opt/data/projects/asthma-copd/results/gls_phenoplier"
   },
   "start_time": "2022-11-29T23:35:15.505804",
   "version": "2.2.2"
  }
 },
 "nbformat": 4,
 "nbformat_minor": 5
}
