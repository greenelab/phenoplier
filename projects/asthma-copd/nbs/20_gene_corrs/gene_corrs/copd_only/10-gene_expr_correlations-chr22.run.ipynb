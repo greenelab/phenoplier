{
 "cells": [
  {
   "cell_type": "markdown",
   "id": "7a6632fb",
   "metadata": {
    "papermill": {
     "duration": 0.006776,
     "end_time": "2022-11-30T00:38:03.001787",
     "exception": false,
     "start_time": "2022-11-30T00:38:02.995011",
     "status": "completed"
    },
    "tags": []
   },
   "source": [
    "# Description"
   ]
  },
  {
   "cell_type": "markdown",
   "id": "7097c346",
   "metadata": {
    "papermill": {
     "duration": 0.006587,
     "end_time": "2022-11-30T00:38:03.017792",
     "exception": false,
     "start_time": "2022-11-30T00:38:03.011205",
     "status": "completed"
    },
    "tags": []
   },
   "source": [
    "(Please, take a look at the README.md file in this directory for instructions on how to run this notebook)\n",
    "\n",
    "This notebook computes predicted expression correlations between all genes in the MultiPLIER models.\n",
    "\n",
    "It has specicfic parameters for papermill (see under `Settings` below).\n",
    "It can be configured to run on a single chromosome to run in parallel.\n",
    "\n",
    "This notebook is not directly run. See README.md."
   ]
  },
  {
   "cell_type": "markdown",
   "id": "c61d8427",
   "metadata": {
    "papermill": {
     "duration": 0.006111,
     "end_time": "2022-11-30T00:38:03.029997",
     "exception": false,
     "start_time": "2022-11-30T00:38:03.023886",
     "status": "completed"
    },
    "tags": []
   },
   "source": [
    "# Modules"
   ]
  },
  {
   "cell_type": "code",
   "execution_count": 1,
   "id": "bbc0234f",
   "metadata": {
    "execution": {
     "iopub.execute_input": "2022-11-30T00:38:03.044195Z",
     "iopub.status.busy": "2022-11-30T00:38:03.043817Z",
     "iopub.status.idle": "2022-11-30T00:38:03.062273Z",
     "shell.execute_reply": "2022-11-30T00:38:03.061738Z"
    },
    "papermill": {
     "duration": 0.026713,
     "end_time": "2022-11-30T00:38:03.063475",
     "exception": false,
     "start_time": "2022-11-30T00:38:03.036762",
     "status": "completed"
    },
    "tags": []
   },
   "outputs": [],
   "source": [
    "%load_ext autoreload\n",
    "%autoreload 2"
   ]
  },
  {
   "cell_type": "code",
   "execution_count": 2,
   "id": "1d5f5a59",
   "metadata": {
    "execution": {
     "iopub.execute_input": "2022-11-30T00:38:03.077476Z",
     "iopub.status.busy": "2022-11-30T00:38:03.076970Z",
     "iopub.status.idle": "2022-11-30T00:38:03.760495Z",
     "shell.execute_reply": "2022-11-30T00:38:03.760038Z"
    },
    "papermill": {
     "duration": 0.691971,
     "end_time": "2022-11-30T00:38:03.762114",
     "exception": false,
     "start_time": "2022-11-30T00:38:03.070143",
     "status": "completed"
    },
    "tags": []
   },
   "outputs": [],
   "source": [
    "from random import sample, seed\n",
    "import warnings\n",
    "from pathlib import Path\n",
    "import pickle\n",
    "import traceback\n",
    "\n",
    "import numpy as np\n",
    "from scipy.spatial.distance import squareform\n",
    "import pandas as pd\n",
    "from tqdm import tqdm\n",
    "import matplotlib.pyplot as plt\n",
    "import seaborn as sns\n",
    "\n",
    "import conf\n",
    "from entity import Gene"
   ]
  },
  {
   "cell_type": "markdown",
   "id": "1eac24b5",
   "metadata": {
    "papermill": {
     "duration": 0.009718,
     "end_time": "2022-11-30T00:38:03.780480",
     "exception": false,
     "start_time": "2022-11-30T00:38:03.770762",
     "status": "completed"
    },
    "tags": []
   },
   "source": [
    "# Settings"
   ]
  },
  {
   "cell_type": "code",
   "execution_count": 3,
   "id": "ca4560ba",
   "metadata": {
    "execution": {
     "iopub.execute_input": "2022-11-30T00:38:03.799609Z",
     "iopub.status.busy": "2022-11-30T00:38:03.799472Z",
     "iopub.status.idle": "2022-11-30T00:38:03.812507Z",
     "shell.execute_reply": "2022-11-30T00:38:03.812104Z"
    },
    "papermill": {
     "duration": 0.024524,
     "end_time": "2022-11-30T00:38:03.813863",
     "exception": false,
     "start_time": "2022-11-30T00:38:03.789339",
     "status": "completed"
    },
    "tags": [
     "parameters"
    ]
   },
   "outputs": [],
   "source": [
    "# a cohort name (it could be something like UK_BIOBANK, etc)\n",
    "COHORT_NAME = None\n",
    "\n",
    "# reference panel such as 1000G or GTEX_V8\n",
    "REFERENCE_PANEL = \"GTEX_V8\"\n",
    "\n",
    "# predictions models such as MASHR or ELASTIC_NET\n",
    "EQTL_MODEL = \"MASHR\"\n",
    "\n",
    "# this is the default value used in S-MultiXcan to select the\n",
    "# top principal components of the expression correlation matrix\n",
    "SMULTIXCAN_CONDITION_NUMBER = 30\n",
    "\n",
    "# specifies a single chromosome value\n",
    "CHROMOSOME = None\n",
    "\n",
    "# If True, computes the correlation between closeby genes only;\n",
    "# otherwise, it computes correlations for all genes in a chromosome\n",
    "COMPUTE_CORRELATIONS_WITHIN_DISTANCE = False\n",
    "\n",
    "# if True, then it will continue if a gene pair correlation fails,\n",
    "# printing the warning/error for debugging. If False, any warning/error\n",
    "# will be thrown\n",
    "DEBUG_MODE = False\n",
    "\n",
    "# output dir\n",
    "OUTPUT_DIR_BASE = None"
   ]
  },
  {
   "cell_type": "code",
   "execution_count": 4,
   "id": "d8cdf441",
   "metadata": {
    "execution": {
     "iopub.execute_input": "2022-11-30T00:38:03.832544Z",
     "iopub.status.busy": "2022-11-30T00:38:03.832404Z",
     "iopub.status.idle": "2022-11-30T00:38:03.844773Z",
     "shell.execute_reply": "2022-11-30T00:38:03.844388Z"
    },
    "papermill": {
     "duration": 0.024086,
     "end_time": "2022-11-30T00:38:03.846340",
     "exception": false,
     "start_time": "2022-11-30T00:38:03.822254",
     "status": "completed"
    },
    "tags": [
     "injected-parameters"
    ]
   },
   "outputs": [],
   "source": [
    "# Parameters\n",
    "COHORT_NAME = \"copd_only\"\n",
    "CHROMOSOME = 22\n",
    "OUTPUT_DIR_BASE = \"/opt/data/projects/asthma-copd/results/gls_phenoplier\"\n"
   ]
  },
  {
   "cell_type": "code",
   "execution_count": 5,
   "id": "3190631f-27fc-480f-b18e-571d580425a5",
   "metadata": {
    "execution": {
     "iopub.execute_input": "2022-11-30T00:38:03.867504Z",
     "iopub.status.busy": "2022-11-30T00:38:03.867370Z",
     "iopub.status.idle": "2022-11-30T00:38:03.883078Z",
     "shell.execute_reply": "2022-11-30T00:38:03.882688Z"
    },
    "papermill": {
     "duration": 0.027996,
     "end_time": "2022-11-30T00:38:03.884479",
     "exception": false,
     "start_time": "2022-11-30T00:38:03.856483",
     "status": "completed"
    },
    "tags": []
   },
   "outputs": [
    {
     "data": {
      "text/plain": [
       "'Cohort name: copd_only'"
      ]
     },
     "metadata": {},
     "output_type": "display_data"
    }
   ],
   "source": [
    "assert COHORT_NAME is not None and len(COHORT_NAME) > 0, \"A cohort name must be given\"\n",
    "\n",
    "COHORT_NAME = COHORT_NAME.lower()\n",
    "display(f\"Cohort name: {COHORT_NAME}\")"
   ]
  },
  {
   "cell_type": "code",
   "execution_count": 6,
   "id": "f53ba19b-0f93-4fa2-a047-63b375939d1a",
   "metadata": {
    "execution": {
     "iopub.execute_input": "2022-11-30T00:38:03.904084Z",
     "iopub.status.busy": "2022-11-30T00:38:03.903850Z",
     "iopub.status.idle": "2022-11-30T00:38:03.921174Z",
     "shell.execute_reply": "2022-11-30T00:38:03.920738Z"
    },
    "papermill": {
     "duration": 0.029158,
     "end_time": "2022-11-30T00:38:03.922534",
     "exception": false,
     "start_time": "2022-11-30T00:38:03.893376",
     "status": "completed"
    },
    "tags": []
   },
   "outputs": [
    {
     "data": {
      "text/plain": [
       "'Reference panel: GTEX_V8'"
      ]
     },
     "metadata": {},
     "output_type": "display_data"
    }
   ],
   "source": [
    "assert (\n",
    "    REFERENCE_PANEL is not None and len(REFERENCE_PANEL) > 0\n",
    "), \"A reference panel must be given\"\n",
    "\n",
    "display(f\"Reference panel: {REFERENCE_PANEL}\")"
   ]
  },
  {
   "cell_type": "code",
   "execution_count": 7,
   "id": "e024d130-c139-429a-9c6e-ccf149e297b0",
   "metadata": {
    "execution": {
     "iopub.execute_input": "2022-11-30T00:38:03.942670Z",
     "iopub.status.busy": "2022-11-30T00:38:03.942437Z",
     "iopub.status.idle": "2022-11-30T00:38:03.960247Z",
     "shell.execute_reply": "2022-11-30T00:38:03.959798Z"
    },
    "papermill": {
     "duration": 0.029817,
     "end_time": "2022-11-30T00:38:03.961657",
     "exception": false,
     "start_time": "2022-11-30T00:38:03.931840",
     "status": "completed"
    },
    "tags": []
   },
   "outputs": [
    {
     "data": {
      "text/plain": [
       "'eQTL model: MASHR) / mashr_'"
      ]
     },
     "metadata": {},
     "output_type": "display_data"
    }
   ],
   "source": [
    "assert (\n",
    "    EQTL_MODEL is not None and len(EQTL_MODEL) > 0\n",
    "), \"A prediction/eQTL model must be given\"\n",
    "\n",
    "EQTL_MODEL_FILES_PREFIX = conf.PHENOMEXCAN[\"PREDICTION_MODELS\"][f\"{EQTL_MODEL}_PREFIX\"]\n",
    "display(f\"eQTL model: {EQTL_MODEL}) / {EQTL_MODEL_FILES_PREFIX}\")"
   ]
  },
  {
   "cell_type": "code",
   "execution_count": 8,
   "id": "552a7f63-a18c-4d3e-bb6a-94f99b431291",
   "metadata": {
    "execution": {
     "iopub.execute_input": "2022-11-30T00:38:03.982122Z",
     "iopub.status.busy": "2022-11-30T00:38:03.981967Z",
     "iopub.status.idle": "2022-11-30T00:38:03.999212Z",
     "shell.execute_reply": "2022-11-30T00:38:03.998770Z"
    },
    "papermill": {
     "duration": 0.029794,
     "end_time": "2022-11-30T00:38:04.000754",
     "exception": false,
     "start_time": "2022-11-30T00:38:03.970960",
     "status": "completed"
    },
    "tags": []
   },
   "outputs": [
    {
     "data": {
      "text/plain": [
       "'S-MultiXcan condition number: 30'"
      ]
     },
     "metadata": {},
     "output_type": "display_data"
    }
   ],
   "source": [
    "assert (\n",
    "    SMULTIXCAN_CONDITION_NUMBER is not None and SMULTIXCAN_CONDITION_NUMBER > 0\n",
    "), \"The S-MultiXcan condition number (positive integer) must be given\"\n",
    "\n",
    "display(f\"S-MultiXcan condition number: {SMULTIXCAN_CONDITION_NUMBER}\")"
   ]
  },
  {
   "cell_type": "code",
   "execution_count": 9,
   "id": "f34a336f-548e-4afe-8955-90eaea4f42c6",
   "metadata": {
    "execution": {
     "iopub.execute_input": "2022-11-30T00:38:04.022657Z",
     "iopub.status.busy": "2022-11-30T00:38:04.022421Z",
     "iopub.status.idle": "2022-11-30T00:38:04.043806Z",
     "shell.execute_reply": "2022-11-30T00:38:04.043311Z"
    },
    "papermill": {
     "duration": 0.033859,
     "end_time": "2022-11-30T00:38:04.045384",
     "exception": false,
     "start_time": "2022-11-30T00:38:04.011525",
     "status": "completed"
    },
    "tags": []
   },
   "outputs": [
    {
     "data": {
      "text/plain": [
       "'Working on chromosome 22'"
      ]
     },
     "metadata": {},
     "output_type": "display_data"
    }
   ],
   "source": [
    "assert CHROMOSOME is not None and (\n",
    "    1 <= CHROMOSOME <= 22\n",
    "), \"You have to select one chromosome (format: number between 1 and 22)\"\n",
    "\n",
    "# CHROMOSOME = str(CHROMOSOME)\n",
    "display(f\"Working on chromosome {CHROMOSOME}\")"
   ]
  },
  {
   "cell_type": "code",
   "execution_count": 10,
   "id": "ab8e96e8-06b5-4363-9dcd-dc4d78cc27f7",
   "metadata": {
    "execution": {
     "iopub.execute_input": "2022-11-30T00:38:04.068132Z",
     "iopub.status.busy": "2022-11-30T00:38:04.067737Z",
     "iopub.status.idle": "2022-11-30T00:38:04.089655Z",
     "shell.execute_reply": "2022-11-30T00:38:04.089152Z"
    },
    "papermill": {
     "duration": 0.035508,
     "end_time": "2022-11-30T00:38:04.091243",
     "exception": false,
     "start_time": "2022-11-30T00:38:04.055735",
     "status": "completed"
    },
    "tags": []
   },
   "outputs": [
    {
     "data": {
      "text/plain": [
       "'Compute correlation within distance False'"
      ]
     },
     "metadata": {},
     "output_type": "display_data"
    }
   ],
   "source": [
    "display(f\"Compute correlation within distance {COMPUTE_CORRELATIONS_WITHIN_DISTANCE}\")"
   ]
  },
  {
   "cell_type": "code",
   "execution_count": 11,
   "id": "b393b698-77e3-4ba2-8ac1-e14d51aa988f",
   "metadata": {
    "execution": {
     "iopub.execute_input": "2022-11-30T00:38:04.114378Z",
     "iopub.status.busy": "2022-11-30T00:38:04.113850Z",
     "iopub.status.idle": "2022-11-30T00:38:04.136288Z",
     "shell.execute_reply": "2022-11-30T00:38:04.135785Z"
    },
    "papermill": {
     "duration": 0.035611,
     "end_time": "2022-11-30T00:38:04.137886",
     "exception": false,
     "start_time": "2022-11-30T00:38:04.102275",
     "status": "completed"
    },
    "tags": []
   },
   "outputs": [
    {
     "data": {
      "text/plain": [
       "'Using output dir base: /opt/data/projects/asthma-copd/results/gls_phenoplier/gene_corrs/copd_only'"
      ]
     },
     "metadata": {},
     "output_type": "display_data"
    }
   ],
   "source": [
    "assert (\n",
    "    OUTPUT_DIR_BASE is not None and len(OUTPUT_DIR_BASE) > 0\n",
    "), \"Output directory path must be given\"\n",
    "\n",
    "OUTPUT_DIR_BASE = (\n",
    "    Path(OUTPUT_DIR_BASE)\n",
    "    / \"gene_corrs\"\n",
    "    / COHORT_NAME\n",
    "    # / REFERENCE_PANEL.lower()\n",
    "    # / EQTL_MODEL.lower()\n",
    ").resolve()\n",
    "\n",
    "OUTPUT_DIR_BASE.mkdir(parents=True, exist_ok=True)\n",
    "\n",
    "display(f\"Using output dir base: {OUTPUT_DIR_BASE}\")"
   ]
  },
  {
   "cell_type": "markdown",
   "id": "d2ba085e",
   "metadata": {
    "papermill": {
     "duration": 0.011161,
     "end_time": "2022-11-30T00:38:04.160277",
     "exception": false,
     "start_time": "2022-11-30T00:38:04.149116",
     "status": "completed"
    },
    "tags": []
   },
   "source": [
    "# Load data"
   ]
  },
  {
   "cell_type": "markdown",
   "id": "7dcb8db7",
   "metadata": {
    "papermill": {
     "duration": 0.010788,
     "end_time": "2022-11-30T00:38:04.182024",
     "exception": false,
     "start_time": "2022-11-30T00:38:04.171236",
     "status": "completed"
    },
    "tags": []
   },
   "source": [
    "## GWAS variants"
   ]
  },
  {
   "cell_type": "code",
   "execution_count": 12,
   "id": "29434c4e-8cd3-4b9b-82e4-b5a251d9dd19",
   "metadata": {
    "execution": {
     "iopub.execute_input": "2022-11-30T00:38:04.198878Z",
     "iopub.status.busy": "2022-11-30T00:38:04.198372Z",
     "iopub.status.idle": "2022-11-30T00:38:06.207661Z",
     "shell.execute_reply": "2022-11-30T00:38:06.207184Z"
    },
    "papermill": {
     "duration": 2.017595,
     "end_time": "2022-11-30T00:38:06.209567",
     "exception": false,
     "start_time": "2022-11-30T00:38:04.191972",
     "status": "completed"
    },
    "tags": []
   },
   "outputs": [],
   "source": [
    "with open(OUTPUT_DIR_BASE / \"gwas_variant_ids.pkl\", \"rb\") as handle:\n",
    "    gwas_variants_ids_set = pickle.load(handle)"
   ]
  },
  {
   "cell_type": "code",
   "execution_count": 13,
   "id": "b9d9dec2-4a76-4bf9-bde2-e24c95acb8a0",
   "metadata": {
    "execution": {
     "iopub.execute_input": "2022-11-30T00:38:06.230205Z",
     "iopub.status.busy": "2022-11-30T00:38:06.230089Z",
     "iopub.status.idle": "2022-11-30T00:38:06.243904Z",
     "shell.execute_reply": "2022-11-30T00:38:06.243492Z"
    },
    "papermill": {
     "duration": 0.025444,
     "end_time": "2022-11-30T00:38:06.245257",
     "exception": false,
     "start_time": "2022-11-30T00:38:06.219813",
     "status": "completed"
    },
    "tags": []
   },
   "outputs": [
    {
     "data": {
      "text/plain": [
       "8586183"
      ]
     },
     "execution_count": 13,
     "metadata": {},
     "output_type": "execute_result"
    }
   ],
   "source": [
    "len(gwas_variants_ids_set)"
   ]
  },
  {
   "cell_type": "code",
   "execution_count": 14,
   "id": "4235b06a-6034-4ee4-a0a3-2ae35d122418",
   "metadata": {
    "execution": {
     "iopub.execute_input": "2022-11-30T00:38:06.265094Z",
     "iopub.status.busy": "2022-11-30T00:38:06.264816Z",
     "iopub.status.idle": "2022-11-30T00:38:07.022944Z",
     "shell.execute_reply": "2022-11-30T00:38:07.022382Z"
    },
    "papermill": {
     "duration": 0.769575,
     "end_time": "2022-11-30T00:38:07.024403",
     "exception": false,
     "start_time": "2022-11-30T00:38:06.254828",
     "status": "completed"
    },
    "tags": []
   },
   "outputs": [
    {
     "data": {
      "text/plain": [
       "['chr13_95488145_C_T_b38',\n",
       " 'chr9_4094433_G_C_b38',\n",
       " 'chr12_132598862_C_T_b38',\n",
       " 'chr12_27743385_G_A_b38',\n",
       " 'chr3_116030170_T_C_b38']"
      ]
     },
     "execution_count": 14,
     "metadata": {},
     "output_type": "execute_result"
    }
   ],
   "source": [
    "list(gwas_variants_ids_set)[:5]"
   ]
  },
  {
   "cell_type": "markdown",
   "id": "07866999-2305-41f9-a144-e69c9122c212",
   "metadata": {
    "papermill": {
     "duration": 0.009767,
     "end_time": "2022-11-30T00:38:07.044691",
     "exception": false,
     "start_time": "2022-11-30T00:38:07.034924",
     "status": "completed"
    },
    "tags": []
   },
   "source": [
    "## S-PrediXcan tissue models"
   ]
  },
  {
   "cell_type": "code",
   "execution_count": 15,
   "id": "780611d9-77c8-405f-90a4-f271f7b09397",
   "metadata": {
    "execution": {
     "iopub.execute_input": "2022-11-30T00:38:07.064925Z",
     "iopub.status.busy": "2022-11-30T00:38:07.064697Z",
     "iopub.status.idle": "2022-11-30T00:38:07.376902Z",
     "shell.execute_reply": "2022-11-30T00:38:07.376353Z"
    },
    "papermill": {
     "duration": 0.324025,
     "end_time": "2022-11-30T00:38:07.378525",
     "exception": false,
     "start_time": "2022-11-30T00:38:07.054500",
     "status": "completed"
    },
    "tags": []
   },
   "outputs": [],
   "source": [
    "spredixcan_genes_models = pd.read_pickle(OUTPUT_DIR_BASE / \"gene_tissues.pkl\")"
   ]
  },
  {
   "cell_type": "code",
   "execution_count": 16,
   "id": "726dd1f6-9557-4225-91fa-b3b879ea96e1",
   "metadata": {
    "execution": {
     "iopub.execute_input": "2022-11-30T00:38:07.399533Z",
     "iopub.status.busy": "2022-11-30T00:38:07.399383Z",
     "iopub.status.idle": "2022-11-30T00:38:07.413072Z",
     "shell.execute_reply": "2022-11-30T00:38:07.412608Z"
    },
    "papermill": {
     "duration": 0.025483,
     "end_time": "2022-11-30T00:38:07.414436",
     "exception": false,
     "start_time": "2022-11-30T00:38:07.388953",
     "status": "completed"
    },
    "tags": []
   },
   "outputs": [
    {
     "data": {
      "text/plain": [
       "(6443, 5)"
      ]
     },
     "execution_count": 16,
     "metadata": {},
     "output_type": "execute_result"
    }
   ],
   "source": [
    "spredixcan_genes_models.shape"
   ]
  },
  {
   "cell_type": "code",
   "execution_count": 17,
   "id": "944a1b48-222c-4eb0-b252-b9de2cbca215",
   "metadata": {
    "execution": {
     "iopub.execute_input": "2022-11-30T00:38:07.434691Z",
     "iopub.status.busy": "2022-11-30T00:38:07.434577Z",
     "iopub.status.idle": "2022-11-30T00:38:07.451306Z",
     "shell.execute_reply": "2022-11-30T00:38:07.450767Z"
    },
    "papermill": {
     "duration": 0.028409,
     "end_time": "2022-11-30T00:38:07.452713",
     "exception": false,
     "start_time": "2022-11-30T00:38:07.424304",
     "status": "completed"
    },
    "tags": []
   },
   "outputs": [
    {
     "data": {
      "text/html": [
       "<div>\n",
       "<style scoped>\n",
       "    .dataframe tbody tr th:only-of-type {\n",
       "        vertical-align: middle;\n",
       "    }\n",
       "\n",
       "    .dataframe tbody tr th {\n",
       "        vertical-align: top;\n",
       "    }\n",
       "\n",
       "    .dataframe thead th {\n",
       "        text-align: right;\n",
       "    }\n",
       "</style>\n",
       "<table border=\"1\" class=\"dataframe\">\n",
       "  <thead>\n",
       "    <tr style=\"text-align: right;\">\n",
       "      <th></th>\n",
       "      <th>gene_name</th>\n",
       "      <th>tissue</th>\n",
       "      <th>n_tissues</th>\n",
       "      <th>n_snps_used_sum</th>\n",
       "      <th>n_snps_in_model_sum</th>\n",
       "    </tr>\n",
       "    <tr>\n",
       "      <th>gene_id</th>\n",
       "      <th></th>\n",
       "      <th></th>\n",
       "      <th></th>\n",
       "      <th></th>\n",
       "      <th></th>\n",
       "    </tr>\n",
       "  </thead>\n",
       "  <tbody>\n",
       "    <tr>\n",
       "      <th>ENSG00000000419</th>\n",
       "      <td>DPM1</td>\n",
       "      <td>(Brain_Substantia_nigra, Brain_Hypothalamus)</td>\n",
       "      <td>2</td>\n",
       "      <td>2</td>\n",
       "      <td>2</td>\n",
       "    </tr>\n",
       "    <tr>\n",
       "      <th>ENSG00000000938</th>\n",
       "      <td>FGR</td>\n",
       "      <td>(Pituitary, Nerve_Tibial, Lung, Adipose_Viscer...</td>\n",
       "      <td>36</td>\n",
       "      <td>40</td>\n",
       "      <td>40</td>\n",
       "    </tr>\n",
       "    <tr>\n",
       "      <th>ENSG00000000971</th>\n",
       "      <td>CFH</td>\n",
       "      <td>(Pituitary, Nerve_Tibial, Lung, Kidney_Cortex,...</td>\n",
       "      <td>34</td>\n",
       "      <td>44</td>\n",
       "      <td>44</td>\n",
       "    </tr>\n",
       "    <tr>\n",
       "      <th>ENSG00000001084</th>\n",
       "      <td>GCLC</td>\n",
       "      <td>(Pituitary, Nerve_Tibial, Lung, Skin_Not_Sun_E...</td>\n",
       "      <td>32</td>\n",
       "      <td>46</td>\n",
       "      <td>46</td>\n",
       "    </tr>\n",
       "    <tr>\n",
       "      <th>ENSG00000001167</th>\n",
       "      <td>NFYA</td>\n",
       "      <td>(Nerve_Tibial, Lung, Kidney_Cortex, Adipose_Vi...</td>\n",
       "      <td>40</td>\n",
       "      <td>47</td>\n",
       "      <td>48</td>\n",
       "    </tr>\n",
       "  </tbody>\n",
       "</table>\n",
       "</div>"
      ],
      "text/plain": [
       "                gene_name                                             tissue  \\\n",
       "gene_id                                                                        \n",
       "ENSG00000000419      DPM1       (Brain_Substantia_nigra, Brain_Hypothalamus)   \n",
       "ENSG00000000938       FGR  (Pituitary, Nerve_Tibial, Lung, Adipose_Viscer...   \n",
       "ENSG00000000971       CFH  (Pituitary, Nerve_Tibial, Lung, Kidney_Cortex,...   \n",
       "ENSG00000001084      GCLC  (Pituitary, Nerve_Tibial, Lung, Skin_Not_Sun_E...   \n",
       "ENSG00000001167      NFYA  (Nerve_Tibial, Lung, Kidney_Cortex, Adipose_Vi...   \n",
       "\n",
       "                 n_tissues  n_snps_used_sum  n_snps_in_model_sum  \n",
       "gene_id                                                           \n",
       "ENSG00000000419          2                2                    2  \n",
       "ENSG00000000938         36               40                   40  \n",
       "ENSG00000000971         34               44                   44  \n",
       "ENSG00000001084         32               46                   46  \n",
       "ENSG00000001167         40               47                   48  "
      ]
     },
     "execution_count": 17,
     "metadata": {},
     "output_type": "execute_result"
    }
   ],
   "source": [
    "spredixcan_genes_models.head()"
   ]
  },
  {
   "cell_type": "code",
   "execution_count": 18,
   "id": "d1c11bb1-be0b-4f40-b360-633d6827109f",
   "metadata": {
    "execution": {
     "iopub.execute_input": "2022-11-30T00:38:07.474083Z",
     "iopub.status.busy": "2022-11-30T00:38:07.473967Z",
     "iopub.status.idle": "2022-11-30T00:38:07.486869Z",
     "shell.execute_reply": "2022-11-30T00:38:07.486408Z"
    },
    "papermill": {
     "duration": 0.024853,
     "end_time": "2022-11-30T00:38:07.488188",
     "exception": false,
     "start_time": "2022-11-30T00:38:07.463335",
     "status": "completed"
    },
    "tags": []
   },
   "outputs": [],
   "source": [
    "assert spredixcan_genes_models.index.is_unique"
   ]
  },
  {
   "cell_type": "markdown",
   "id": "a5b5092c-a13e-47c4-a92a-480fcc08f3ae",
   "metadata": {
    "papermill": {
     "duration": 0.01,
     "end_time": "2022-11-30T00:38:07.508323",
     "exception": false,
     "start_time": "2022-11-30T00:38:07.498323",
     "status": "completed"
    },
    "tags": []
   },
   "source": [
    "## Gene info"
   ]
  },
  {
   "cell_type": "code",
   "execution_count": 19,
   "id": "7d6bb224-88e9-4358-ac10-43a41d92cdad",
   "metadata": {
    "execution": {
     "iopub.execute_input": "2022-11-30T00:38:07.529953Z",
     "iopub.status.busy": "2022-11-30T00:38:07.529683Z",
     "iopub.status.idle": "2022-11-30T00:38:07.551776Z",
     "shell.execute_reply": "2022-11-30T00:38:07.551126Z"
    },
    "papermill": {
     "duration": 0.034412,
     "end_time": "2022-11-30T00:38:07.553283",
     "exception": false,
     "start_time": "2022-11-30T00:38:07.518871",
     "status": "completed"
    },
    "tags": []
   },
   "outputs": [],
   "source": [
    "genes_info = pd.read_pickle(OUTPUT_DIR_BASE / \"genes_info.pkl\")"
   ]
  },
  {
   "cell_type": "code",
   "execution_count": 20,
   "id": "9e32abfa-546d-483e-8c18-d526e9e05903",
   "metadata": {
    "execution": {
     "iopub.execute_input": "2022-11-30T00:38:07.575156Z",
     "iopub.status.busy": "2022-11-30T00:38:07.574964Z",
     "iopub.status.idle": "2022-11-30T00:38:07.595082Z",
     "shell.execute_reply": "2022-11-30T00:38:07.594507Z"
    },
    "papermill": {
     "duration": 0.032818,
     "end_time": "2022-11-30T00:38:07.596530",
     "exception": false,
     "start_time": "2022-11-30T00:38:07.563712",
     "status": "completed"
    },
    "tags": []
   },
   "outputs": [
    {
     "data": {
      "text/plain": [
       "(6443, 7)"
      ]
     },
     "execution_count": 20,
     "metadata": {},
     "output_type": "execute_result"
    }
   ],
   "source": [
    "genes_info.shape"
   ]
  },
  {
   "cell_type": "code",
   "execution_count": 21,
   "id": "d16c3e92-85ec-468a-9a56-e25a9774a1cb",
   "metadata": {
    "execution": {
     "iopub.execute_input": "2022-11-30T00:38:07.618378Z",
     "iopub.status.busy": "2022-11-30T00:38:07.617846Z",
     "iopub.status.idle": "2022-11-30T00:38:07.641478Z",
     "shell.execute_reply": "2022-11-30T00:38:07.640910Z"
    },
    "papermill": {
     "duration": 0.036065,
     "end_time": "2022-11-30T00:38:07.642928",
     "exception": false,
     "start_time": "2022-11-30T00:38:07.606863",
     "status": "completed"
    },
    "tags": []
   },
   "outputs": [
    {
     "data": {
      "text/html": [
       "<div>\n",
       "<style scoped>\n",
       "    .dataframe tbody tr th:only-of-type {\n",
       "        vertical-align: middle;\n",
       "    }\n",
       "\n",
       "    .dataframe tbody tr th {\n",
       "        vertical-align: top;\n",
       "    }\n",
       "\n",
       "    .dataframe thead th {\n",
       "        text-align: right;\n",
       "    }\n",
       "</style>\n",
       "<table border=\"1\" class=\"dataframe\">\n",
       "  <thead>\n",
       "    <tr style=\"text-align: right;\">\n",
       "      <th></th>\n",
       "      <th>name</th>\n",
       "      <th>id</th>\n",
       "      <th>chr</th>\n",
       "      <th>band</th>\n",
       "      <th>start_position</th>\n",
       "      <th>end_position</th>\n",
       "      <th>gene_length</th>\n",
       "    </tr>\n",
       "  </thead>\n",
       "  <tbody>\n",
       "    <tr>\n",
       "      <th>0</th>\n",
       "      <td>PPP1R13B</td>\n",
       "      <td>ENSG00000088808</td>\n",
       "      <td>14</td>\n",
       "      <td>14q32.33</td>\n",
       "      <td>103733195</td>\n",
       "      <td>103847590</td>\n",
       "      <td>114395</td>\n",
       "    </tr>\n",
       "    <tr>\n",
       "      <th>1</th>\n",
       "      <td>HNRNPA0</td>\n",
       "      <td>ENSG00000177733</td>\n",
       "      <td>5</td>\n",
       "      <td>5q31.2</td>\n",
       "      <td>137745651</td>\n",
       "      <td>137754376</td>\n",
       "      <td>8725</td>\n",
       "    </tr>\n",
       "    <tr>\n",
       "      <th>2</th>\n",
       "      <td>GSN</td>\n",
       "      <td>ENSG00000148180</td>\n",
       "      <td>9</td>\n",
       "      <td>9q33.2</td>\n",
       "      <td>121207794</td>\n",
       "      <td>121332843</td>\n",
       "      <td>125049</td>\n",
       "    </tr>\n",
       "    <tr>\n",
       "      <th>3</th>\n",
       "      <td>CCR3</td>\n",
       "      <td>ENSG00000183625</td>\n",
       "      <td>3</td>\n",
       "      <td>3p21.31</td>\n",
       "      <td>46163604</td>\n",
       "      <td>46266706</td>\n",
       "      <td>103102</td>\n",
       "    </tr>\n",
       "    <tr>\n",
       "      <th>4</th>\n",
       "      <td>TRIB2</td>\n",
       "      <td>ENSG00000071575</td>\n",
       "      <td>2</td>\n",
       "      <td>2p24.3</td>\n",
       "      <td>12716889</td>\n",
       "      <td>12742734</td>\n",
       "      <td>25845</td>\n",
       "    </tr>\n",
       "  </tbody>\n",
       "</table>\n",
       "</div>"
      ],
      "text/plain": [
       "       name               id  chr      band  start_position  end_position  \\\n",
       "0  PPP1R13B  ENSG00000088808   14  14q32.33       103733195     103847590   \n",
       "1   HNRNPA0  ENSG00000177733    5    5q31.2       137745651     137754376   \n",
       "2       GSN  ENSG00000148180    9    9q33.2       121207794     121332843   \n",
       "3      CCR3  ENSG00000183625    3   3p21.31        46163604      46266706   \n",
       "4     TRIB2  ENSG00000071575    2    2p24.3        12716889      12742734   \n",
       "\n",
       "   gene_length  \n",
       "0       114395  \n",
       "1         8725  \n",
       "2       125049  \n",
       "3       103102  \n",
       "4        25845  "
      ]
     },
     "execution_count": 21,
     "metadata": {},
     "output_type": "execute_result"
    }
   ],
   "source": [
    "genes_info.head()"
   ]
  },
  {
   "cell_type": "markdown",
   "id": "d3843e06",
   "metadata": {
    "papermill": {
     "duration": 0.010981,
     "end_time": "2022-11-30T00:38:07.664539",
     "exception": false,
     "start_time": "2022-11-30T00:38:07.653558",
     "status": "completed"
    },
    "tags": []
   },
   "source": [
    "# Compute correlations"
   ]
  },
  {
   "cell_type": "code",
   "execution_count": 22,
   "id": "cb859c15-d1f3-4006-a74c-2b83c0db9611",
   "metadata": {
    "execution": {
     "iopub.execute_input": "2022-11-30T00:38:07.686947Z",
     "iopub.status.busy": "2022-11-30T00:38:07.686385Z",
     "iopub.status.idle": "2022-11-30T00:38:07.713172Z",
     "shell.execute_reply": "2022-11-30T00:38:07.712512Z"
    },
    "papermill": {
     "duration": 0.039599,
     "end_time": "2022-11-30T00:38:07.714661",
     "exception": false,
     "start_time": "2022-11-30T00:38:07.675062",
     "status": "completed"
    },
    "tags": []
   },
   "outputs": [
    {
     "data": {
      "text/plain": [
       "PosixPath('/opt/data/projects/asthma-copd/results/gls_phenoplier/gene_corrs/copd_only/by_chr/gene_corrs-chr22.pkl')"
      ]
     },
     "metadata": {},
     "output_type": "display_data"
    }
   ],
   "source": [
    "output_dir = OUTPUT_DIR_BASE / \"by_chr\"\n",
    "output_dir.mkdir(exist_ok=True, parents=True)\n",
    "output_file = output_dir / f\"gene_corrs-chr{CHROMOSOME}.pkl\"\n",
    "display(output_file)"
   ]
  },
  {
   "cell_type": "code",
   "execution_count": 23,
   "id": "aa674fe4-6794-4eed-98fa-32b39d1d4ace",
   "metadata": {
    "execution": {
     "iopub.execute_input": "2022-11-30T00:38:07.737622Z",
     "iopub.status.busy": "2022-11-30T00:38:07.737115Z",
     "iopub.status.idle": "2022-11-30T00:38:07.758192Z",
     "shell.execute_reply": "2022-11-30T00:38:07.757600Z"
    },
    "papermill": {
     "duration": 0.0342,
     "end_time": "2022-11-30T00:38:07.759601",
     "exception": false,
     "start_time": "2022-11-30T00:38:07.725401",
     "status": "completed"
    },
    "tags": []
   },
   "outputs": [],
   "source": [
    "warnings.filterwarnings(\"error\")"
   ]
  },
  {
   "cell_type": "code",
   "execution_count": 24,
   "id": "44d5450b-3baf-43f1-9e2e-4b06f1a785f8",
   "metadata": {
    "execution": {
     "iopub.execute_input": "2022-11-30T00:38:07.782274Z",
     "iopub.status.busy": "2022-11-30T00:38:07.781799Z",
     "iopub.status.idle": "2022-11-30T00:38:07.803748Z",
     "shell.execute_reply": "2022-11-30T00:38:07.803134Z"
    },
    "papermill": {
     "duration": 0.034819,
     "end_time": "2022-11-30T00:38:07.805259",
     "exception": false,
     "start_time": "2022-11-30T00:38:07.770440",
     "status": "completed"
    },
    "tags": []
   },
   "outputs": [],
   "source": [
    "# standard checks\n",
    "all_chrs = genes_info[\"chr\"].dropna().unique()\n",
    "assert all_chrs.shape[0] == 22\n",
    "\n",
    "# select chromosome given by the user\n",
    "assert CHROMOSOME in all_chrs"
   ]
  },
  {
   "cell_type": "code",
   "execution_count": 25,
   "id": "2d7c043c-92a7-4d35-991b-fa69ac1e0268",
   "metadata": {
    "execution": {
     "iopub.execute_input": "2022-11-30T00:38:07.828753Z",
     "iopub.status.busy": "2022-11-30T00:38:07.828251Z",
     "iopub.status.idle": "2022-11-30T00:38:07.851338Z",
     "shell.execute_reply": "2022-11-30T00:38:07.850634Z"
    },
    "papermill": {
     "duration": 0.036038,
     "end_time": "2022-11-30T00:38:07.852836",
     "exception": false,
     "start_time": "2022-11-30T00:38:07.816798",
     "status": "completed"
    },
    "tags": []
   },
   "outputs": [
    {
     "name": "stdout",
     "output_type": "stream",
     "text": [
      "Number of genes in chromosome: 170\n"
     ]
    }
   ],
   "source": [
    "# run only on the chromosome specified\n",
    "all_chrs = [CHROMOSOME]\n",
    "genes_chr = genes_info[genes_info[\"chr\"] == CHROMOSOME]\n",
    "\n",
    "# For testing purposes\n",
    "# genes_chr = genes_chr.sample(n=20)\n",
    "\n",
    "print(f\"Number of genes in chromosome: {genes_chr.shape[0]}\", flush=True)"
   ]
  },
  {
   "cell_type": "code",
   "execution_count": 26,
   "id": "916015d8-2979-46d3-a9b9-1cf5a0932c6a",
   "metadata": {
    "execution": {
     "iopub.execute_input": "2022-11-30T00:38:07.876137Z",
     "iopub.status.busy": "2022-11-30T00:38:07.875646Z",
     "iopub.status.idle": "2022-11-30T00:38:07.897031Z",
     "shell.execute_reply": "2022-11-30T00:38:07.896404Z"
    },
    "papermill": {
     "duration": 0.034764,
     "end_time": "2022-11-30T00:38:07.898530",
     "exception": false,
     "start_time": "2022-11-30T00:38:07.863766",
     "status": "completed"
    },
    "tags": []
   },
   "outputs": [],
   "source": [
    "# sort genes by starting position to make visualizations better later\n",
    "genes_chr = genes_chr.sort_values(\"start_position\")"
   ]
  },
  {
   "cell_type": "code",
   "execution_count": 27,
   "id": "a38aa74a-8ad3-47f6-8ef9-56be0e011774",
   "metadata": {
    "execution": {
     "iopub.execute_input": "2022-11-30T00:38:07.921577Z",
     "iopub.status.busy": "2022-11-30T00:38:07.921074Z",
     "iopub.status.idle": "2022-11-30T00:38:07.942714Z",
     "shell.execute_reply": "2022-11-30T00:38:07.942058Z"
    },
    "papermill": {
     "duration": 0.034651,
     "end_time": "2022-11-30T00:38:07.944185",
     "exception": false,
     "start_time": "2022-11-30T00:38:07.909534",
     "status": "completed"
    },
    "tags": []
   },
   "outputs": [],
   "source": [
    "gene_chr_objs = [Gene(ensembl_id=gene_id) for gene_id in genes_chr[\"id\"]]"
   ]
  },
  {
   "cell_type": "code",
   "execution_count": 28,
   "id": "570f974f-13c3-42b6-ad3a-ce99ca885c1a",
   "metadata": {
    "execution": {
     "iopub.execute_input": "2022-11-30T00:38:07.968580Z",
     "iopub.status.busy": "2022-11-30T00:38:07.968071Z",
     "iopub.status.idle": "2022-11-30T00:38:07.993436Z",
     "shell.execute_reply": "2022-11-30T00:38:07.992701Z"
    },
    "papermill": {
     "duration": 0.039738,
     "end_time": "2022-11-30T00:38:07.994991",
     "exception": false,
     "start_time": "2022-11-30T00:38:07.955253",
     "status": "completed"
    },
    "tags": []
   },
   "outputs": [
    {
     "name": "stdout",
     "output_type": "stream",
     "text": [
      "Number of gene combinations: 14535\n"
     ]
    }
   ],
   "source": [
    "n = len(gene_chr_objs)\n",
    "# diagonal elements + upper triangular matrix\n",
    "n_comb = n + int(n * (n - 1) / 2.0)\n",
    "print(f\"Number of gene combinations: {n_comb}\", flush=True)"
   ]
  },
  {
   "cell_type": "code",
   "execution_count": 29,
   "id": "cdbb90a1",
   "metadata": {
    "execution": {
     "iopub.execute_input": "2022-11-30T00:38:08.018768Z",
     "iopub.status.busy": "2022-11-30T00:38:08.018258Z",
     "iopub.status.idle": "2022-11-30T00:49:19.287729Z",
     "shell.execute_reply": "2022-11-30T00:49:19.287225Z"
    },
    "papermill": {
     "duration": 671.282837,
     "end_time": "2022-11-30T00:49:19.289108",
     "exception": false,
     "start_time": "2022-11-30T00:38:08.006271",
     "status": "completed"
    },
    "tags": []
   },
   "outputs": [
    {
     "name": "stderr",
     "output_type": "stream",
     "text": [
      "ENSG00000251322 / ENSG00000251322: 100%|██████████████████████| 14535/14535 [11:11<00:00, 21.65it/s]\n"
     ]
    },
    {
     "data": {
      "text/plain": [
       "PosixPath('/opt/data/projects/asthma-copd/results/gls_phenoplier/gene_corrs/copd_only/by_chr/gene_corrs-chr22.pkl')"
      ]
     },
     "metadata": {},
     "output_type": "display_data"
    }
   ],
   "source": [
    "gene_corrs = []\n",
    "gene_corrs_data = np.full(\n",
    "    (n, n),\n",
    "    np.nan,\n",
    "    dtype=np.float64,\n",
    ")\n",
    "\n",
    "i = 0\n",
    "with tqdm(ncols=100, total=n_comb) as pbar:\n",
    "    for gene1_idx in range(0, len(gene_chr_objs)):\n",
    "        gene1_obj = gene_chr_objs[gene1_idx]\n",
    "        gene1_tissues = spredixcan_genes_models.loc[gene1_obj.ensembl_id, \"tissue\"]\n",
    "\n",
    "        for gene2_idx in range(gene1_idx, len(gene_chr_objs)):\n",
    "            gene2_obj = gene_chr_objs[gene2_idx]\n",
    "            gene2_tissues = spredixcan_genes_models.loc[gene2_obj.ensembl_id, \"tissue\"]\n",
    "\n",
    "            pbar.set_description(f\"{gene1_obj.ensembl_id} / {gene2_obj.ensembl_id}\")\n",
    "\n",
    "            try:\n",
    "                r = gene1_obj.get_ssm_correlation(\n",
    "                    other_gene=gene2_obj,\n",
    "                    tissues=gene1_tissues,\n",
    "                    other_tissues=gene2_tissues,\n",
    "                    snps_subset=gwas_variants_ids_set,\n",
    "                    condition_number=SMULTIXCAN_CONDITION_NUMBER,\n",
    "                    reference_panel=REFERENCE_PANEL,\n",
    "                    model_type=EQTL_MODEL,\n",
    "                    use_within_distance=COMPUTE_CORRELATIONS_WITHIN_DISTANCE,\n",
    "                )\n",
    "\n",
    "                if r is None:\n",
    "                    # if r is None, it's very likely because:\n",
    "                    #  * one of the genes has no prediction models\n",
    "                    #  * all the SNPs predictors for the gene are not present in the reference\n",
    "                    #    panel\n",
    "\n",
    "                    r = 0.0\n",
    "\n",
    "                gene_corrs.append(r)\n",
    "\n",
    "                gene_corrs_data[gene1_idx, gene2_idx] = r\n",
    "                gene_corrs_data[gene2_idx, gene1_idx] = r\n",
    "            except Warning as e:\n",
    "                if not DEBUG_MODE:\n",
    "                    raise e\n",
    "\n",
    "                print(\n",
    "                    f\"RuntimeWarning for genes {gene1_obj.ensembl_id} and {gene2_obj.ensembl_id}\",\n",
    "                    flush=True,\n",
    "                )\n",
    "                print(traceback.format_exc(), flush=True)\n",
    "\n",
    "                gene_corrs.append(np.nan)\n",
    "            except Exception as e:\n",
    "                if not DEBUG_MODE:\n",
    "                    raise e\n",
    "\n",
    "                print(\n",
    "                    f\"Exception for genes {gene1_obj.ensembl_id} and {gene2_obj.ensembl_id}\",\n",
    "                    flush=True,\n",
    "                )\n",
    "                print(traceback.format_exc(), flush=True)\n",
    "\n",
    "                gene_corrs.append(np.nan)\n",
    "\n",
    "            pbar.update(1)\n",
    "\n",
    "# create a pandas series\n",
    "gene_corrs_flat = pd.Series(gene_corrs)\n",
    "\n",
    "# save\n",
    "# FIXME: consider saving only the condenced matrix here. See here for\n",
    "# more details: https://github.com/greenelab/phenoplier/pull/38#discussion_r634600813\n",
    "# gene_corrs_data = squareform(np.array(gene_corrs, dtype=np.float64))\n",
    "# np.fill_diagonal(gene_corrs_data, 1.0)\n",
    "\n",
    "gene_chr_ids = [g.ensembl_id for g in gene_chr_objs]\n",
    "gene_corrs_df = pd.DataFrame(\n",
    "    data=gene_corrs_data,\n",
    "    index=gene_chr_ids,\n",
    "    columns=gene_chr_ids,\n",
    ")\n",
    "\n",
    "output_dir.mkdir(exist_ok=True, parents=True)\n",
    "display(output_file)\n",
    "\n",
    "gene_corrs_df.to_pickle(output_file)"
   ]
  },
  {
   "cell_type": "markdown",
   "id": "faa67b51-5373-470f-aa72-2ded53fa6dfe",
   "metadata": {
    "papermill": {
     "duration": 0.539887,
     "end_time": "2022-11-30T00:49:20.456071",
     "exception": false,
     "start_time": "2022-11-30T00:49:19.916184",
     "status": "completed"
    },
    "tags": []
   },
   "source": [
    "# Testing"
   ]
  },
  {
   "cell_type": "code",
   "execution_count": 30,
   "id": "14f7d046-4b55-4896-a56b-990127bcc388",
   "metadata": {
    "execution": {
     "iopub.execute_input": "2022-11-30T00:49:21.634629Z",
     "iopub.status.busy": "2022-11-30T00:49:21.634189Z",
     "iopub.status.idle": "2022-11-30T00:49:21.658015Z",
     "shell.execute_reply": "2022-11-30T00:49:21.657399Z"
    },
    "papermill": {
     "duration": 0.629765,
     "end_time": "2022-11-30T00:49:21.658995",
     "exception": false,
     "start_time": "2022-11-30T00:49:21.029230",
     "status": "completed"
    },
    "tags": []
   },
   "outputs": [
    {
     "data": {
      "text/plain": [
       "(170, 170)"
      ]
     },
     "execution_count": 30,
     "metadata": {},
     "output_type": "execute_result"
    }
   ],
   "source": [
    "gene_corrs_df.shape"
   ]
  },
  {
   "cell_type": "code",
   "execution_count": 31,
   "id": "c7d15414-3297-4537-a7c6-7588c0baeb75",
   "metadata": {
    "execution": {
     "iopub.execute_input": "2022-11-30T00:49:22.860934Z",
     "iopub.status.busy": "2022-11-30T00:49:22.860163Z",
     "iopub.status.idle": "2022-11-30T00:49:22.898984Z",
     "shell.execute_reply": "2022-11-30T00:49:22.898363Z"
    },
    "papermill": {
     "duration": 0.633002,
     "end_time": "2022-11-30T00:49:22.899928",
     "exception": false,
     "start_time": "2022-11-30T00:49:22.266926",
     "status": "completed"
    },
    "tags": []
   },
   "outputs": [
    {
     "data": {
      "text/html": [
       "<div>\n",
       "<style scoped>\n",
       "    .dataframe tbody tr th:only-of-type {\n",
       "        vertical-align: middle;\n",
       "    }\n",
       "\n",
       "    .dataframe tbody tr th {\n",
       "        vertical-align: top;\n",
       "    }\n",
       "\n",
       "    .dataframe thead th {\n",
       "        text-align: right;\n",
       "    }\n",
       "</style>\n",
       "<table border=\"1\" class=\"dataframe\">\n",
       "  <thead>\n",
       "    <tr style=\"text-align: right;\">\n",
       "      <th></th>\n",
       "      <th>ENSG00000177663</th>\n",
       "      <th>ENSG00000131100</th>\n",
       "      <th>ENSG00000099968</th>\n",
       "      <th>ENSG00000015475</th>\n",
       "      <th>ENSG00000243156</th>\n",
       "      <th>ENSG00000215193</th>\n",
       "      <th>ENSG00000183785</th>\n",
       "      <th>ENSG00000184979</th>\n",
       "      <th>ENSG00000100033</th>\n",
       "      <th>ENSG00000100075</th>\n",
       "      <th>...</th>\n",
       "      <th>ENSG00000196576</th>\n",
       "      <th>ENSG00000128165</th>\n",
       "      <th>ENSG00000100253</th>\n",
       "      <th>ENSG00000130489</th>\n",
       "      <th>ENSG00000025708</th>\n",
       "      <th>ENSG00000205560</th>\n",
       "      <th>ENSG00000100288</th>\n",
       "      <th>ENSG00000008735</th>\n",
       "      <th>ENSG00000100299</th>\n",
       "      <th>ENSG00000251322</th>\n",
       "    </tr>\n",
       "  </thead>\n",
       "  <tbody>\n",
       "    <tr>\n",
       "      <th>ENSG00000177663</th>\n",
       "      <td>1.000000</td>\n",
       "      <td>0.003816</td>\n",
       "      <td>0.006914</td>\n",
       "      <td>0.006409</td>\n",
       "      <td>0.005393</td>\n",
       "      <td>0.009169</td>\n",
       "      <td>0.011137</td>\n",
       "      <td>0.008212</td>\n",
       "      <td>0.005694</td>\n",
       "      <td>0.002630</td>\n",
       "      <td>...</td>\n",
       "      <td>0.008032</td>\n",
       "      <td>0.009928</td>\n",
       "      <td>0.008238</td>\n",
       "      <td>0.003678</td>\n",
       "      <td>0.003232</td>\n",
       "      <td>0.006669</td>\n",
       "      <td>0.004615</td>\n",
       "      <td>0.009432</td>\n",
       "      <td>0.004205</td>\n",
       "      <td>0.002770</td>\n",
       "    </tr>\n",
       "    <tr>\n",
       "      <th>ENSG00000131100</th>\n",
       "      <td>0.003816</td>\n",
       "      <td>1.000000</td>\n",
       "      <td>0.542060</td>\n",
       "      <td>0.258362</td>\n",
       "      <td>0.008517</td>\n",
       "      <td>0.003627</td>\n",
       "      <td>0.005205</td>\n",
       "      <td>0.003596</td>\n",
       "      <td>0.008233</td>\n",
       "      <td>0.005908</td>\n",
       "      <td>...</td>\n",
       "      <td>0.008277</td>\n",
       "      <td>0.007869</td>\n",
       "      <td>0.011249</td>\n",
       "      <td>0.004228</td>\n",
       "      <td>0.006198</td>\n",
       "      <td>0.004357</td>\n",
       "      <td>0.003490</td>\n",
       "      <td>0.005618</td>\n",
       "      <td>0.002902</td>\n",
       "      <td>0.001054</td>\n",
       "    </tr>\n",
       "    <tr>\n",
       "      <th>ENSG00000099968</th>\n",
       "      <td>0.006914</td>\n",
       "      <td>0.542060</td>\n",
       "      <td>1.000000</td>\n",
       "      <td>0.393204</td>\n",
       "      <td>0.017352</td>\n",
       "      <td>0.006770</td>\n",
       "      <td>0.010656</td>\n",
       "      <td>0.006111</td>\n",
       "      <td>0.011148</td>\n",
       "      <td>0.008450</td>\n",
       "      <td>...</td>\n",
       "      <td>0.012225</td>\n",
       "      <td>0.009133</td>\n",
       "      <td>0.010688</td>\n",
       "      <td>0.006931</td>\n",
       "      <td>0.006989</td>\n",
       "      <td>0.006061</td>\n",
       "      <td>0.006840</td>\n",
       "      <td>0.007914</td>\n",
       "      <td>0.006822</td>\n",
       "      <td>0.006200</td>\n",
       "    </tr>\n",
       "    <tr>\n",
       "      <th>ENSG00000015475</th>\n",
       "      <td>0.006409</td>\n",
       "      <td>0.258362</td>\n",
       "      <td>0.393204</td>\n",
       "      <td>1.000000</td>\n",
       "      <td>0.023707</td>\n",
       "      <td>0.013641</td>\n",
       "      <td>0.012742</td>\n",
       "      <td>0.009202</td>\n",
       "      <td>0.012669</td>\n",
       "      <td>0.003952</td>\n",
       "      <td>...</td>\n",
       "      <td>0.012598</td>\n",
       "      <td>0.012137</td>\n",
       "      <td>0.012556</td>\n",
       "      <td>0.006271</td>\n",
       "      <td>0.007571</td>\n",
       "      <td>0.005518</td>\n",
       "      <td>0.007376</td>\n",
       "      <td>0.012388</td>\n",
       "      <td>0.007987</td>\n",
       "      <td>0.007268</td>\n",
       "    </tr>\n",
       "    <tr>\n",
       "      <th>ENSG00000243156</th>\n",
       "      <td>0.005393</td>\n",
       "      <td>0.008517</td>\n",
       "      <td>0.017352</td>\n",
       "      <td>0.023707</td>\n",
       "      <td>1.000000</td>\n",
       "      <td>0.041902</td>\n",
       "      <td>0.025743</td>\n",
       "      <td>0.021465</td>\n",
       "      <td>0.012505</td>\n",
       "      <td>0.004385</td>\n",
       "      <td>...</td>\n",
       "      <td>0.017565</td>\n",
       "      <td>0.017028</td>\n",
       "      <td>0.008356</td>\n",
       "      <td>0.006808</td>\n",
       "      <td>0.010760</td>\n",
       "      <td>0.009518</td>\n",
       "      <td>0.011146</td>\n",
       "      <td>0.011820</td>\n",
       "      <td>0.005771</td>\n",
       "      <td>0.008866</td>\n",
       "    </tr>\n",
       "  </tbody>\n",
       "</table>\n",
       "<p>5 rows × 170 columns</p>\n",
       "</div>"
      ],
      "text/plain": [
       "                 ENSG00000177663  ENSG00000131100  ENSG00000099968  \\\n",
       "ENSG00000177663         1.000000         0.003816         0.006914   \n",
       "ENSG00000131100         0.003816         1.000000         0.542060   \n",
       "ENSG00000099968         0.006914         0.542060         1.000000   \n",
       "ENSG00000015475         0.006409         0.258362         0.393204   \n",
       "ENSG00000243156         0.005393         0.008517         0.017352   \n",
       "\n",
       "                 ENSG00000015475  ENSG00000243156  ENSG00000215193  \\\n",
       "ENSG00000177663         0.006409         0.005393         0.009169   \n",
       "ENSG00000131100         0.258362         0.008517         0.003627   \n",
       "ENSG00000099968         0.393204         0.017352         0.006770   \n",
       "ENSG00000015475         1.000000         0.023707         0.013641   \n",
       "ENSG00000243156         0.023707         1.000000         0.041902   \n",
       "\n",
       "                 ENSG00000183785  ENSG00000184979  ENSG00000100033  \\\n",
       "ENSG00000177663         0.011137         0.008212         0.005694   \n",
       "ENSG00000131100         0.005205         0.003596         0.008233   \n",
       "ENSG00000099968         0.010656         0.006111         0.011148   \n",
       "ENSG00000015475         0.012742         0.009202         0.012669   \n",
       "ENSG00000243156         0.025743         0.021465         0.012505   \n",
       "\n",
       "                 ENSG00000100075  ...  ENSG00000196576  ENSG00000128165  \\\n",
       "ENSG00000177663         0.002630  ...         0.008032         0.009928   \n",
       "ENSG00000131100         0.005908  ...         0.008277         0.007869   \n",
       "ENSG00000099968         0.008450  ...         0.012225         0.009133   \n",
       "ENSG00000015475         0.003952  ...         0.012598         0.012137   \n",
       "ENSG00000243156         0.004385  ...         0.017565         0.017028   \n",
       "\n",
       "                 ENSG00000100253  ENSG00000130489  ENSG00000025708  \\\n",
       "ENSG00000177663         0.008238         0.003678         0.003232   \n",
       "ENSG00000131100         0.011249         0.004228         0.006198   \n",
       "ENSG00000099968         0.010688         0.006931         0.006989   \n",
       "ENSG00000015475         0.012556         0.006271         0.007571   \n",
       "ENSG00000243156         0.008356         0.006808         0.010760   \n",
       "\n",
       "                 ENSG00000205560  ENSG00000100288  ENSG00000008735  \\\n",
       "ENSG00000177663         0.006669         0.004615         0.009432   \n",
       "ENSG00000131100         0.004357         0.003490         0.005618   \n",
       "ENSG00000099968         0.006061         0.006840         0.007914   \n",
       "ENSG00000015475         0.005518         0.007376         0.012388   \n",
       "ENSG00000243156         0.009518         0.011146         0.011820   \n",
       "\n",
       "                 ENSG00000100299  ENSG00000251322  \n",
       "ENSG00000177663         0.004205         0.002770  \n",
       "ENSG00000131100         0.002902         0.001054  \n",
       "ENSG00000099968         0.006822         0.006200  \n",
       "ENSG00000015475         0.007987         0.007268  \n",
       "ENSG00000243156         0.005771         0.008866  \n",
       "\n",
       "[5 rows x 170 columns]"
      ]
     },
     "execution_count": 31,
     "metadata": {},
     "output_type": "execute_result"
    }
   ],
   "source": [
    "gene_corrs_df.head()"
   ]
  },
  {
   "cell_type": "markdown",
   "id": "dad6603f-01c6-41fb-a6f6-241051207dd8",
   "metadata": {
    "papermill": {
     "duration": 0.576674,
     "end_time": "2022-11-30T00:49:24.013748",
     "exception": false,
     "start_time": "2022-11-30T00:49:23.437074",
     "status": "completed"
    },
    "tags": []
   },
   "source": [
    "## Standard checks and stats"
   ]
  },
  {
   "cell_type": "code",
   "execution_count": 32,
   "id": "286686af-1b7b-4440-8453-6bdcbd8de19c",
   "metadata": {
    "execution": {
     "iopub.execute_input": "2022-11-30T00:49:25.200118Z",
     "iopub.status.busy": "2022-11-30T00:49:25.199751Z",
     "iopub.status.idle": "2022-11-30T00:49:25.221351Z",
     "shell.execute_reply": "2022-11-30T00:49:25.220730Z"
    },
    "papermill": {
     "duration": 0.610687,
     "end_time": "2022-11-30T00:49:25.222322",
     "exception": false,
     "start_time": "2022-11-30T00:49:24.611635",
     "status": "completed"
    },
    "tags": []
   },
   "outputs": [],
   "source": [
    "assert not gene_corrs_df.isna().any().any()"
   ]
  },
  {
   "cell_type": "code",
   "execution_count": 33,
   "id": "00583efc-7068-4270-ad1e-4a418e91db96",
   "metadata": {
    "execution": {
     "iopub.execute_input": "2022-11-30T00:49:26.400998Z",
     "iopub.status.busy": "2022-11-30T00:49:26.400611Z",
     "iopub.status.idle": "2022-11-30T00:49:26.423351Z",
     "shell.execute_reply": "2022-11-30T00:49:26.422774Z"
    },
    "papermill": {
     "duration": 0.595118,
     "end_time": "2022-11-30T00:49:26.424244",
     "exception": false,
     "start_time": "2022-11-30T00:49:25.829126",
     "status": "completed"
    },
    "tags": []
   },
   "outputs": [
    {
     "data": {
      "text/plain": [
       "1.7872532327778288e-07"
      ]
     },
     "metadata": {},
     "output_type": "display_data"
    }
   ],
   "source": [
    "_min_val = gene_corrs_df.min().min()\n",
    "display(_min_val)\n",
    "assert _min_val >= -0.05"
   ]
  },
  {
   "cell_type": "code",
   "execution_count": 34,
   "id": "d04fb2cf-1050-475b-b855-f5f7cc04092b",
   "metadata": {
    "execution": {
     "iopub.execute_input": "2022-11-30T00:49:27.544682Z",
     "iopub.status.busy": "2022-11-30T00:49:27.544204Z",
     "iopub.status.idle": "2022-11-30T00:49:27.566277Z",
     "shell.execute_reply": "2022-11-30T00:49:27.565600Z"
    },
    "papermill": {
     "duration": 0.567619,
     "end_time": "2022-11-30T00:49:27.567088",
     "exception": false,
     "start_time": "2022-11-30T00:49:26.999469",
     "status": "completed"
    },
    "tags": []
   },
   "outputs": [
    {
     "data": {
      "text/plain": [
       "1.0000000000000036"
      ]
     },
     "metadata": {},
     "output_type": "display_data"
    }
   ],
   "source": [
    "_max_val = gene_corrs_df.max().max()  # this captures the diagonal\n",
    "display(_max_val)\n",
    "assert _max_val <= 1.05"
   ]
  },
  {
   "cell_type": "code",
   "execution_count": 35,
   "id": "96d02c44-1fba-47be-8a93-8f2608420b9c",
   "metadata": {
    "execution": {
     "iopub.execute_input": "2022-11-30T00:49:28.730214Z",
     "iopub.status.busy": "2022-11-30T00:49:28.729737Z",
     "iopub.status.idle": "2022-11-30T00:49:28.750129Z",
     "shell.execute_reply": "2022-11-30T00:49:28.749517Z"
    },
    "papermill": {
     "duration": 0.613963,
     "end_time": "2022-11-30T00:49:28.751123",
     "exception": false,
     "start_time": "2022-11-30T00:49:28.137160",
     "status": "completed"
    },
    "tags": []
   },
   "outputs": [],
   "source": [
    "# check upper triangular values\n",
    "# assert len(gene_corrs) == int(genes_chr.shape[0] * (genes_chr.shape[0] - 1) / 2)"
   ]
  },
  {
   "cell_type": "code",
   "execution_count": 36,
   "id": "fe283586-c348-40e0-8841-f6d97bfb021c",
   "metadata": {
    "execution": {
     "iopub.execute_input": "2022-11-30T00:49:29.915051Z",
     "iopub.status.busy": "2022-11-30T00:49:29.914580Z",
     "iopub.status.idle": "2022-11-30T00:49:29.939170Z",
     "shell.execute_reply": "2022-11-30T00:49:29.938676Z"
    },
    "papermill": {
     "duration": 0.608726,
     "end_time": "2022-11-30T00:49:29.940021",
     "exception": false,
     "start_time": "2022-11-30T00:49:29.331295",
     "status": "completed"
    },
    "tags": []
   },
   "outputs": [
    {
     "data": {
      "text/plain": [
       "count    1.453500e+04\n",
       "mean     2.271986e-02\n",
       "std      1.136187e-01\n",
       "min      1.787253e-07\n",
       "25%      3.957799e-03\n",
       "50%      6.071519e-03\n",
       "75%      8.524284e-03\n",
       "max      1.000000e+00\n",
       "dtype: float64"
      ]
     },
     "execution_count": 36,
     "metadata": {},
     "output_type": "execute_result"
    }
   ],
   "source": [
    "gene_corrs_flat.describe()"
   ]
  },
  {
   "cell_type": "code",
   "execution_count": 37,
   "id": "b3815678-0f93-4b35-897b-a9d047a2aa78",
   "metadata": {
    "execution": {
     "iopub.execute_input": "2022-11-30T00:49:31.111228Z",
     "iopub.status.busy": "2022-11-30T00:49:31.110647Z",
     "iopub.status.idle": "2022-11-30T00:49:31.135122Z",
     "shell.execute_reply": "2022-11-30T00:49:31.134633Z"
    },
    "papermill": {
     "duration": 0.611743,
     "end_time": "2022-11-30T00:49:31.136045",
     "exception": false,
     "start_time": "2022-11-30T00:49:30.524302",
     "status": "completed"
    },
    "tags": []
   },
   "outputs": [
    {
     "data": {
      "text/plain": [
       "0.00    1.787253e-07\n",
       "0.05    1.583536e-03\n",
       "0.10    2.335386e-03\n",
       "0.15    2.956542e-03\n",
       "0.20    3.473524e-03\n",
       "0.25    3.957799e-03\n",
       "0.30    4.391965e-03\n",
       "0.35    4.808221e-03\n",
       "0.40    5.215892e-03\n",
       "0.45    5.631183e-03\n",
       "0.50    6.071519e-03\n",
       "0.55    6.479344e-03\n",
       "0.60    6.918396e-03\n",
       "0.65    7.430400e-03\n",
       "0.70    7.938803e-03\n",
       "0.75    8.524284e-03\n",
       "0.80    9.203756e-03\n",
       "0.85    1.008822e-02\n",
       "0.90    1.146588e-02\n",
       "0.95    1.557867e-02\n",
       "dtype: float64"
      ]
     },
     "metadata": {},
     "output_type": "display_data"
    }
   ],
   "source": [
    "gene_corrs_quantiles = gene_corrs_flat.quantile(np.arange(0, 1, 0.05))\n",
    "display(gene_corrs_quantiles)"
   ]
  },
  {
   "cell_type": "markdown",
   "id": "87134509-b145-4a10-8bc9-b7e914c2b0fa",
   "metadata": {
    "papermill": {
     "duration": 0.603276,
     "end_time": "2022-11-30T00:49:32.335017",
     "exception": false,
     "start_time": "2022-11-30T00:49:31.731741",
     "status": "completed"
    },
    "tags": []
   },
   "source": [
    "## Positive definiteness"
   ]
  },
  {
   "cell_type": "code",
   "execution_count": 38,
   "id": "07d9a9a1-a4f7-48aa-b916-6d42a8cc6186",
   "metadata": {
    "execution": {
     "iopub.execute_input": "2022-11-30T00:49:33.555808Z",
     "iopub.status.busy": "2022-11-30T00:49:33.555344Z",
     "iopub.status.idle": "2022-11-30T00:49:33.585756Z",
     "shell.execute_reply": "2022-11-30T00:49:33.585275Z"
    },
    "papermill": {
     "duration": 0.632854,
     "end_time": "2022-11-30T00:49:33.586840",
     "exception": false,
     "start_time": "2022-11-30T00:49:32.953986",
     "status": "completed"
    },
    "tags": []
   },
   "outputs": [
    {
     "data": {
      "text/plain": [
       "0"
      ]
     },
     "metadata": {},
     "output_type": "display_data"
    },
    {
     "data": {
      "text/plain": [
       "array([], dtype=float64)"
      ]
     },
     "metadata": {},
     "output_type": "display_data"
    }
   ],
   "source": [
    "# print negative eigenvalues\n",
    "eigs = np.linalg.eigvals(gene_corrs_df.to_numpy())\n",
    "display(len(eigs[eigs < 0]))\n",
    "display(eigs[eigs < 0])"
   ]
  },
  {
   "cell_type": "code",
   "execution_count": 39,
   "id": "6e218436-c3c5-4028-8c94-a4fa6260efce",
   "metadata": {
    "execution": {
     "iopub.execute_input": "2022-11-30T00:49:34.729080Z",
     "iopub.status.busy": "2022-11-30T00:49:34.728619Z",
     "iopub.status.idle": "2022-11-30T00:49:34.750918Z",
     "shell.execute_reply": "2022-11-30T00:49:34.750411Z"
    },
    "papermill": {
     "duration": 0.597034,
     "end_time": "2022-11-30T00:49:34.751727",
     "exception": false,
     "start_time": "2022-11-30T00:49:34.154693",
     "status": "completed"
    },
    "tags": []
   },
   "outputs": [
    {
     "name": "stdout",
     "output_type": "stream",
     "text": [
      "Works!\n"
     ]
    }
   ],
   "source": [
    "try:\n",
    "    chol_mat = np.linalg.cholesky(gene_corrs_df.to_numpy())\n",
    "    cov_inv = np.linalg.inv(chol_mat)\n",
    "    print(\"Works!\")\n",
    "except Exception as e:\n",
    "    print(f\"Cholesky decomposition failed: {str(e)}\")"
   ]
  },
  {
   "cell_type": "code",
   "execution_count": 40,
   "id": "dd8827fb-faf9-4c7c-9454-015e94752706",
   "metadata": {
    "execution": {
     "iopub.execute_input": "2022-11-30T00:49:35.858176Z",
     "iopub.status.busy": "2022-11-30T00:49:35.857720Z",
     "iopub.status.idle": "2022-11-30T00:49:35.879587Z",
     "shell.execute_reply": "2022-11-30T00:49:35.879080Z"
    },
    "papermill": {
     "duration": 0.590962,
     "end_time": "2022-11-30T00:49:35.880421",
     "exception": false,
     "start_time": "2022-11-30T00:49:35.289459",
     "status": "completed"
    },
    "tags": []
   },
   "outputs": [
    {
     "name": "stdout",
     "output_type": "stream",
     "text": [
      "Works!\n"
     ]
    }
   ],
   "source": [
    "try:\n",
    "    # decomposition used by statsmodels.GLS\n",
    "    cholsigmainv = np.linalg.cholesky(np.linalg.inv(gene_corrs_df.to_numpy())).T\n",
    "    print(\"Works!\")\n",
    "except Exception as e:\n",
    "    print(f\"Cholesky decomposition failed (statsmodels.GLS): {str(e)}\")"
   ]
  },
  {
   "cell_type": "markdown",
   "id": "8e60a080-edb2-4e9c-b2ef-22961693200c",
   "metadata": {
    "papermill": {
     "duration": 0.569103,
     "end_time": "2022-11-30T00:49:37.015624",
     "exception": false,
     "start_time": "2022-11-30T00:49:36.446521",
     "status": "completed"
    },
    "tags": []
   },
   "source": [
    "## Plot: distribution"
   ]
  },
  {
   "cell_type": "code",
   "execution_count": 41,
   "id": "8301126b-a7d4-4744-9c7d-f0f86eb6f54c",
   "metadata": {
    "execution": {
     "iopub.execute_input": "2022-11-30T00:49:38.166123Z",
     "iopub.status.busy": "2022-11-30T00:49:38.165760Z",
     "iopub.status.idle": "2022-11-30T00:49:41.009156Z",
     "shell.execute_reply": "2022-11-30T00:49:41.008638Z"
    },
    "papermill": {
     "duration": 3.419386,
     "end_time": "2022-11-30T00:49:41.010619",
     "exception": false,
     "start_time": "2022-11-30T00:49:37.591233",
     "status": "completed"
    },
    "tags": []
   },
   "outputs": [
    {
     "data": {
      "image/png": "[encoded data removed]",
      "text/plain": [
       "<Figure size 700x700 with 1 Axes>"
      ]
     },
     "metadata": {},
     "output_type": "display_data"
    }
   ],
   "source": [
    "with sns.plotting_context(\"paper\", font_scale=1.5):\n",
    "    g = sns.displot(gene_corrs_flat, kde=True, height=7)\n",
    "    g.ax.set_title(\n",
    "        f\"Distribution of gene correlation values in chromosome {CHROMOSOME}\"\n",
    "    )"
   ]
  },
  {
   "cell_type": "markdown",
   "id": "cbd52bca-d878-4a2f-b684-5c83aa3038d4",
   "metadata": {
    "papermill": {
     "duration": 0.575593,
     "end_time": "2022-11-30T00:49:42.221618",
     "exception": false,
     "start_time": "2022-11-30T00:49:41.646025",
     "status": "completed"
    },
    "tags": []
   },
   "source": [
    "## Plot: heatmap"
   ]
  },
  {
   "cell_type": "code",
   "execution_count": 42,
   "id": "d03fe63a-c7b2-4fb9-a53c-db362ce843c9",
   "metadata": {
    "execution": {
     "iopub.execute_input": "2022-11-30T00:49:43.405374Z",
     "iopub.status.busy": "2022-11-30T00:49:43.405031Z",
     "iopub.status.idle": "2022-11-30T00:49:43.424401Z",
     "shell.execute_reply": "2022-11-30T00:49:43.423865Z"
    },
    "papermill": {
     "duration": 0.605583,
     "end_time": "2022-11-30T00:49:43.425198",
     "exception": false,
     "start_time": "2022-11-30T00:49:42.819615",
     "status": "completed"
    },
    "tags": []
   },
   "outputs": [
    {
     "data": {
      "text/plain": [
       "'0.0 / 0.05'"
      ]
     },
     "metadata": {},
     "output_type": "display_data"
    }
   ],
   "source": [
    "vmin_val = min(0.00, gene_corrs_quantiles[0.10])\n",
    "vmax_val = max(0.05, gene_corrs_quantiles[0.90])\n",
    "display(f\"{vmin_val} / {vmax_val}\")"
   ]
  },
  {
   "cell_type": "code",
   "execution_count": 43,
   "id": "dc41b70b-5bcc-4d9e-9f33-a22c4a94dab5",
   "metadata": {
    "execution": {
     "iopub.execute_input": "2022-11-30T00:49:44.588033Z",
     "iopub.status.busy": "2022-11-30T00:49:44.587653Z",
     "iopub.status.idle": "2022-11-30T00:49:44.767754Z",
     "shell.execute_reply": "2022-11-30T00:49:44.767330Z"
    },
    "papermill": {
     "duration": 0.766734,
     "end_time": "2022-11-30T00:49:44.769606",
     "exception": false,
     "start_time": "2022-11-30T00:49:44.002872",
     "status": "completed"
    },
    "tags": []
   },
   "outputs": [
    {
     "data": {
      "text/plain": [
       "Text(0.5, 1.0, 'Gene correlations in chromosome 22')"
      ]
     },
     "execution_count": 43,
     "metadata": {},
     "output_type": "execute_result"
    },
    {
     "data": {
      "image/png": "[encoded data removed]",
      "text/plain": [
       "<Figure size 1000x1000 with 2 Axes>"
      ]
     },
     "metadata": {},
     "output_type": "display_data"
    }
   ],
   "source": [
    "f, ax = plt.subplots(figsize=(10, 10))\n",
    "sns.heatmap(\n",
    "    gene_corrs_df,\n",
    "    xticklabels=False,\n",
    "    yticklabels=False,\n",
    "    square=True,\n",
    "    vmin=vmin_val,\n",
    "    vmax=vmax_val,\n",
    "    cmap=\"rocket_r\",\n",
    "    ax=ax,\n",
    ")\n",
    "ax.set_title(f\"Gene correlations in chromosome {CHROMOSOME}\")"
   ]
  },
  {
   "cell_type": "code",
   "execution_count": null,
   "id": "b25e3ead",
   "metadata": {
    "papermill": {
     "duration": 0.58536,
     "end_time": "2022-11-30T00:49:45.968878",
     "exception": false,
     "start_time": "2022-11-30T00:49:45.383518",
     "status": "completed"
    },
    "tags": []
   },
   "outputs": [],
   "source": []
  }
 ],
 "metadata": {
  "jupytext": {
   "cell_metadata_filter": "all,-execution,-papermill,-trusted",
   "formats": "ipynb,py//py:percent"
  },
  "kernelspec": {
   "display_name": "Python 3 (ipykernel)",
   "language": "python",
   "name": "python3"
  },
  "language_info": {
   "codemirror_mode": {
    "name": "ipython",
    "version": 3
   },
   "file_extension": ".py",
   "mimetype": "text/x-python",
   "name": "python",
   "nbconvert_exporter": "python",
   "pygments_lexer": "ipython3",
   "version": "3.10.6"
  },
  "papermill": {
   "default_parameters": {},
   "duration": 707.916231,
   "end_time": "2022-11-30T00:49:50.033572",
   "environment_variables": {},
   "exception": null,
   "input_path": "projects/asthma-copd/nbs/20_gene_corrs/10-gene_expr_correlations.ipynb",
   "output_path": "projects/asthma-copd/nbs/20_gene_corrs/gene_corrs/copd_only/10-gene_expr_correlations-chr22.run.ipynb",
   "parameters": {
    "CHROMOSOME": 22,
    "COHORT_NAME": "copd_only",
    "OUTPUT_DIR_BASE": "/opt/data/projects/asthma-copd/results/gls_phenoplier"
   },
   "start_time": "2022-11-30T00:38:02.117341",
   "version": "2.2.2"
  }
 },
 "nbformat": 4,
 "nbformat_minor": 5
}
