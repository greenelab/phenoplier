{
 "cells": [
  {
   "cell_type": "markdown",
   "id": "7a6632fb",
   "metadata": {
    "papermill": {
     "duration": 0.009007,
     "end_time": "2022-11-30T00:14:27.584458",
     "exception": false,
     "start_time": "2022-11-30T00:14:27.575451",
     "status": "completed"
    },
    "tags": []
   },
   "source": [
    "# Description"
   ]
  },
  {
   "cell_type": "markdown",
   "id": "7097c346",
   "metadata": {
    "papermill": {
     "duration": 0.008186,
     "end_time": "2022-11-30T00:14:27.602036",
     "exception": false,
     "start_time": "2022-11-30T00:14:27.593850",
     "status": "completed"
    },
    "tags": []
   },
   "source": [
    "(Please, take a look at the README.md file in this directory for instructions on how to run this notebook)\n",
    "\n",
    "This notebook computes predicted expression correlations between all genes in the MultiPLIER models.\n",
    "\n",
    "It has specicfic parameters for papermill (see under `Settings` below).\n",
    "It can be configured to run on a single chromosome to run in parallel.\n",
    "\n",
    "This notebook is not directly run. See README.md."
   ]
  },
  {
   "cell_type": "markdown",
   "id": "c61d8427",
   "metadata": {
    "papermill": {
     "duration": 0.008209,
     "end_time": "2022-11-30T00:14:27.619092",
     "exception": false,
     "start_time": "2022-11-30T00:14:27.610883",
     "status": "completed"
    },
    "tags": []
   },
   "source": [
    "# Modules"
   ]
  },
  {
   "cell_type": "code",
   "execution_count": 1,
   "id": "bbc0234f",
   "metadata": {
    "execution": {
     "iopub.execute_input": "2022-11-30T00:14:27.637672Z",
     "iopub.status.busy": "2022-11-30T00:14:27.637212Z",
     "iopub.status.idle": "2022-11-30T00:14:27.654560Z",
     "shell.execute_reply": "2022-11-30T00:14:27.654062Z"
    },
    "papermill": {
     "duration": 0.027921,
     "end_time": "2022-11-30T00:14:27.656073",
     "exception": false,
     "start_time": "2022-11-30T00:14:27.628152",
     "status": "completed"
    },
    "tags": []
   },
   "outputs": [],
   "source": [
    "%load_ext autoreload\n",
    "%autoreload 2"
   ]
  },
  {
   "cell_type": "code",
   "execution_count": 2,
   "id": "1d5f5a59",
   "metadata": {
    "execution": {
     "iopub.execute_input": "2022-11-30T00:14:27.674348Z",
     "iopub.status.busy": "2022-11-30T00:14:27.673931Z",
     "iopub.status.idle": "2022-11-30T00:14:28.352990Z",
     "shell.execute_reply": "2022-11-30T00:14:28.352549Z"
    },
    "papermill": {
     "duration": 0.690182,
     "end_time": "2022-11-30T00:14:28.354706",
     "exception": false,
     "start_time": "2022-11-30T00:14:27.664524",
     "status": "completed"
    },
    "tags": []
   },
   "outputs": [],
   "source": [
    "from random import sample, seed\n",
    "import warnings\n",
    "from pathlib import Path\n",
    "import pickle\n",
    "import traceback\n",
    "\n",
    "import numpy as np\n",
    "from scipy.spatial.distance import squareform\n",
    "import pandas as pd\n",
    "from tqdm import tqdm\n",
    "import matplotlib.pyplot as plt\n",
    "import seaborn as sns\n",
    "\n",
    "import conf\n",
    "from entity import Gene"
   ]
  },
  {
   "cell_type": "markdown",
   "id": "1eac24b5",
   "metadata": {
    "papermill": {
     "duration": 0.009706,
     "end_time": "2022-11-30T00:14:28.373137",
     "exception": false,
     "start_time": "2022-11-30T00:14:28.363431",
     "status": "completed"
    },
    "tags": []
   },
   "source": [
    "# Settings"
   ]
  },
  {
   "cell_type": "code",
   "execution_count": 3,
   "id": "ca4560ba",
   "metadata": {
    "execution": {
     "iopub.execute_input": "2022-11-30T00:14:28.390519Z",
     "iopub.status.busy": "2022-11-30T00:14:28.390399Z",
     "iopub.status.idle": "2022-11-30T00:14:28.403186Z",
     "shell.execute_reply": "2022-11-30T00:14:28.402814Z"
    },
    "papermill": {
     "duration": 0.023001,
     "end_time": "2022-11-30T00:14:28.404522",
     "exception": false,
     "start_time": "2022-11-30T00:14:28.381521",
     "status": "completed"
    },
    "tags": [
     "parameters"
    ]
   },
   "outputs": [],
   "source": [
    "# a cohort name (it could be something like UK_BIOBANK, etc)\n",
    "COHORT_NAME = None\n",
    "\n",
    "# reference panel such as 1000G or GTEX_V8\n",
    "REFERENCE_PANEL = \"GTEX_V8\"\n",
    "\n",
    "# predictions models such as MASHR or ELASTIC_NET\n",
    "EQTL_MODEL = \"MASHR\"\n",
    "\n",
    "# this is the default value used in S-MultiXcan to select the\n",
    "# top principal components of the expression correlation matrix\n",
    "SMULTIXCAN_CONDITION_NUMBER = 30\n",
    "\n",
    "# specifies a single chromosome value\n",
    "CHROMOSOME = None\n",
    "\n",
    "# If True, computes the correlation between closeby genes only;\n",
    "# otherwise, it computes correlations for all genes in a chromosome\n",
    "COMPUTE_CORRELATIONS_WITHIN_DISTANCE = False\n",
    "\n",
    "# if True, then it will continue if a gene pair correlation fails,\n",
    "# printing the warning/error for debugging. If False, any warning/error\n",
    "# will be thrown\n",
    "DEBUG_MODE = False\n",
    "\n",
    "# output dir\n",
    "OUTPUT_DIR_BASE = None"
   ]
  },
  {
   "cell_type": "code",
   "execution_count": 4,
   "id": "25d600f5",
   "metadata": {
    "execution": {
     "iopub.execute_input": "2022-11-30T00:14:28.422707Z",
     "iopub.status.busy": "2022-11-30T00:14:28.422594Z",
     "iopub.status.idle": "2022-11-30T00:14:28.434851Z",
     "shell.execute_reply": "2022-11-30T00:14:28.434452Z"
    },
    "papermill": {
     "duration": 0.022517,
     "end_time": "2022-11-30T00:14:28.436222",
     "exception": false,
     "start_time": "2022-11-30T00:14:28.413705",
     "status": "completed"
    },
    "tags": [
     "injected-parameters"
    ]
   },
   "outputs": [],
   "source": [
    "# Parameters\n",
    "COHORT_NAME = \"copd_only\"\n",
    "CHROMOSOME = 13\n",
    "OUTPUT_DIR_BASE = \"/opt/data/projects/asthma-copd/results/gls_phenoplier\"\n"
   ]
  },
  {
   "cell_type": "code",
   "execution_count": 5,
   "id": "3190631f-27fc-480f-b18e-571d580425a5",
   "metadata": {
    "execution": {
     "iopub.execute_input": "2022-11-30T00:14:28.453931Z",
     "iopub.status.busy": "2022-11-30T00:14:28.453819Z",
     "iopub.status.idle": "2022-11-30T00:14:28.470560Z",
     "shell.execute_reply": "2022-11-30T00:14:28.470133Z"
    },
    "papermill": {
     "duration": 0.027018,
     "end_time": "2022-11-30T00:14:28.471911",
     "exception": false,
     "start_time": "2022-11-30T00:14:28.444893",
     "status": "completed"
    },
    "tags": []
   },
   "outputs": [
    {
     "data": {
      "text/plain": [
       "'Cohort name: copd_only'"
      ]
     },
     "metadata": {},
     "output_type": "display_data"
    }
   ],
   "source": [
    "assert COHORT_NAME is not None and len(COHORT_NAME) > 0, \"A cohort name must be given\"\n",
    "\n",
    "COHORT_NAME = COHORT_NAME.lower()\n",
    "display(f\"Cohort name: {COHORT_NAME}\")"
   ]
  },
  {
   "cell_type": "code",
   "execution_count": 6,
   "id": "f53ba19b-0f93-4fa2-a047-63b375939d1a",
   "metadata": {
    "execution": {
     "iopub.execute_input": "2022-11-30T00:14:28.490431Z",
     "iopub.status.busy": "2022-11-30T00:14:28.490207Z",
     "iopub.status.idle": "2022-11-30T00:14:28.503185Z",
     "shell.execute_reply": "2022-11-30T00:14:28.502777Z"
    },
    "papermill": {
     "duration": 0.023678,
     "end_time": "2022-11-30T00:14:28.504552",
     "exception": false,
     "start_time": "2022-11-30T00:14:28.480874",
     "status": "completed"
    },
    "tags": []
   },
   "outputs": [
    {
     "data": {
      "text/plain": [
       "'Reference panel: GTEX_V8'"
      ]
     },
     "metadata": {},
     "output_type": "display_data"
    }
   ],
   "source": [
    "assert (\n",
    "    REFERENCE_PANEL is not None and len(REFERENCE_PANEL) > 0\n",
    "), \"A reference panel must be given\"\n",
    "\n",
    "display(f\"Reference panel: {REFERENCE_PANEL}\")"
   ]
  },
  {
   "cell_type": "code",
   "execution_count": 7,
   "id": "e024d130-c139-429a-9c6e-ccf149e297b0",
   "metadata": {
    "execution": {
     "iopub.execute_input": "2022-11-30T00:14:28.522686Z",
     "iopub.status.busy": "2022-11-30T00:14:28.522536Z",
     "iopub.status.idle": "2022-11-30T00:14:28.535523Z",
     "shell.execute_reply": "2022-11-30T00:14:28.535152Z"
    },
    "papermill": {
     "duration": 0.023593,
     "end_time": "2022-11-30T00:14:28.536947",
     "exception": false,
     "start_time": "2022-11-30T00:14:28.513354",
     "status": "completed"
    },
    "tags": []
   },
   "outputs": [
    {
     "data": {
      "text/plain": [
       "'eQTL model: MASHR) / mashr_'"
      ]
     },
     "metadata": {},
     "output_type": "display_data"
    }
   ],
   "source": [
    "assert (\n",
    "    EQTL_MODEL is not None and len(EQTL_MODEL) > 0\n",
    "), \"A prediction/eQTL model must be given\"\n",
    "\n",
    "EQTL_MODEL_FILES_PREFIX = conf.PHENOMEXCAN[\"PREDICTION_MODELS\"][f\"{EQTL_MODEL}_PREFIX\"]\n",
    "display(f\"eQTL model: {EQTL_MODEL}) / {EQTL_MODEL_FILES_PREFIX}\")"
   ]
  },
  {
   "cell_type": "code",
   "execution_count": 8,
   "id": "552a7f63-a18c-4d3e-bb6a-94f99b431291",
   "metadata": {
    "execution": {
     "iopub.execute_input": "2022-11-30T00:14:28.555530Z",
     "iopub.status.busy": "2022-11-30T00:14:28.555327Z",
     "iopub.status.idle": "2022-11-30T00:14:28.575985Z",
     "shell.execute_reply": "2022-11-30T00:14:28.575456Z"
    },
    "papermill": {
     "duration": 0.031381,
     "end_time": "2022-11-30T00:14:28.577423",
     "exception": false,
     "start_time": "2022-11-30T00:14:28.546042",
     "status": "completed"
    },
    "tags": []
   },
   "outputs": [
    {
     "data": {
      "text/plain": [
       "'S-MultiXcan condition number: 30'"
      ]
     },
     "metadata": {},
     "output_type": "display_data"
    }
   ],
   "source": [
    "assert (\n",
    "    SMULTIXCAN_CONDITION_NUMBER is not None and SMULTIXCAN_CONDITION_NUMBER > 0\n",
    "), \"The S-MultiXcan condition number (positive integer) must be given\"\n",
    "\n",
    "display(f\"S-MultiXcan condition number: {SMULTIXCAN_CONDITION_NUMBER}\")"
   ]
  },
  {
   "cell_type": "code",
   "execution_count": 9,
   "id": "f34a336f-548e-4afe-8955-90eaea4f42c6",
   "metadata": {
    "execution": {
     "iopub.execute_input": "2022-11-30T00:14:28.597179Z",
     "iopub.status.busy": "2022-11-30T00:14:28.596733Z",
     "iopub.status.idle": "2022-11-30T00:14:28.617417Z",
     "shell.execute_reply": "2022-11-30T00:14:28.616884Z"
    },
    "papermill": {
     "duration": 0.03177,
     "end_time": "2022-11-30T00:14:28.618849",
     "exception": false,
     "start_time": "2022-11-30T00:14:28.587079",
     "status": "completed"
    },
    "tags": []
   },
   "outputs": [
    {
     "data": {
      "text/plain": [
       "'Working on chromosome 13'"
      ]
     },
     "metadata": {},
     "output_type": "display_data"
    }
   ],
   "source": [
    "assert CHROMOSOME is not None and (\n",
    "    1 <= CHROMOSOME <= 22\n",
    "), \"You have to select one chromosome (format: number between 1 and 22)\"\n",
    "\n",
    "# CHROMOSOME = str(CHROMOSOME)\n",
    "display(f\"Working on chromosome {CHROMOSOME}\")"
   ]
  },
  {
   "cell_type": "code",
   "execution_count": 10,
   "id": "ab8e96e8-06b5-4363-9dcd-dc4d78cc27f7",
   "metadata": {
    "execution": {
     "iopub.execute_input": "2022-11-30T00:14:28.638442Z",
     "iopub.status.busy": "2022-11-30T00:14:28.637964Z",
     "iopub.status.idle": "2022-11-30T00:14:28.658795Z",
     "shell.execute_reply": "2022-11-30T00:14:28.658259Z"
    },
    "papermill": {
     "duration": 0.032059,
     "end_time": "2022-11-30T00:14:28.660198",
     "exception": false,
     "start_time": "2022-11-30T00:14:28.628139",
     "status": "completed"
    },
    "tags": []
   },
   "outputs": [
    {
     "data": {
      "text/plain": [
       "'Compute correlation within distance False'"
      ]
     },
     "metadata": {},
     "output_type": "display_data"
    }
   ],
   "source": [
    "display(f\"Compute correlation within distance {COMPUTE_CORRELATIONS_WITHIN_DISTANCE}\")"
   ]
  },
  {
   "cell_type": "code",
   "execution_count": 11,
   "id": "b393b698-77e3-4ba2-8ac1-e14d51aa988f",
   "metadata": {
    "execution": {
     "iopub.execute_input": "2022-11-30T00:14:28.680334Z",
     "iopub.status.busy": "2022-11-30T00:14:28.679904Z",
     "iopub.status.idle": "2022-11-30T00:14:28.701477Z",
     "shell.execute_reply": "2022-11-30T00:14:28.700995Z"
    },
    "papermill": {
     "duration": 0.033287,
     "end_time": "2022-11-30T00:14:28.702830",
     "exception": false,
     "start_time": "2022-11-30T00:14:28.669543",
     "status": "completed"
    },
    "tags": []
   },
   "outputs": [
    {
     "data": {
      "text/plain": [
       "'Using output dir base: /opt/data/projects/asthma-copd/results/gls_phenoplier/gene_corrs/copd_only'"
      ]
     },
     "metadata": {},
     "output_type": "display_data"
    }
   ],
   "source": [
    "assert (\n",
    "    OUTPUT_DIR_BASE is not None and len(OUTPUT_DIR_BASE) > 0\n",
    "), \"Output directory path must be given\"\n",
    "\n",
    "OUTPUT_DIR_BASE = (\n",
    "    Path(OUTPUT_DIR_BASE)\n",
    "    / \"gene_corrs\"\n",
    "    / COHORT_NAME\n",
    "    # / REFERENCE_PANEL.lower()\n",
    "    # / EQTL_MODEL.lower()\n",
    ").resolve()\n",
    "\n",
    "OUTPUT_DIR_BASE.mkdir(parents=True, exist_ok=True)\n",
    "\n",
    "display(f\"Using output dir base: {OUTPUT_DIR_BASE}\")"
   ]
  },
  {
   "cell_type": "markdown",
   "id": "d2ba085e",
   "metadata": {
    "papermill": {
     "duration": 0.009264,
     "end_time": "2022-11-30T00:14:28.721799",
     "exception": false,
     "start_time": "2022-11-30T00:14:28.712535",
     "status": "completed"
    },
    "tags": []
   },
   "source": [
    "# Load data"
   ]
  },
  {
   "cell_type": "markdown",
   "id": "7dcb8db7",
   "metadata": {
    "papermill": {
     "duration": 0.009577,
     "end_time": "2022-11-30T00:14:28.740746",
     "exception": false,
     "start_time": "2022-11-30T00:14:28.731169",
     "status": "completed"
    },
    "tags": []
   },
   "source": [
    "## GWAS variants"
   ]
  },
  {
   "cell_type": "code",
   "execution_count": 12,
   "id": "29434c4e-8cd3-4b9b-82e4-b5a251d9dd19",
   "metadata": {
    "execution": {
     "iopub.execute_input": "2022-11-30T00:14:28.758833Z",
     "iopub.status.busy": "2022-11-30T00:14:28.758501Z",
     "iopub.status.idle": "2022-11-30T00:14:30.767038Z",
     "shell.execute_reply": "2022-11-30T00:14:30.766580Z"
    },
    "papermill": {
     "duration": 2.018892,
     "end_time": "2022-11-30T00:14:30.769026",
     "exception": false,
     "start_time": "2022-11-30T00:14:28.750134",
     "status": "completed"
    },
    "tags": []
   },
   "outputs": [],
   "source": [
    "with open(OUTPUT_DIR_BASE / \"gwas_variant_ids.pkl\", \"rb\") as handle:\n",
    "    gwas_variants_ids_set = pickle.load(handle)"
   ]
  },
  {
   "cell_type": "code",
   "execution_count": 13,
   "id": "b9d9dec2-4a76-4bf9-bde2-e24c95acb8a0",
   "metadata": {
    "execution": {
     "iopub.execute_input": "2022-11-30T00:14:30.789286Z",
     "iopub.status.busy": "2022-11-30T00:14:30.789167Z",
     "iopub.status.idle": "2022-11-30T00:14:30.802995Z",
     "shell.execute_reply": "2022-11-30T00:14:30.802578Z"
    },
    "papermill": {
     "duration": 0.025582,
     "end_time": "2022-11-30T00:14:30.804392",
     "exception": false,
     "start_time": "2022-11-30T00:14:30.778810",
     "status": "completed"
    },
    "tags": []
   },
   "outputs": [
    {
     "data": {
      "text/plain": [
       "8586183"
      ]
     },
     "execution_count": 13,
     "metadata": {},
     "output_type": "execute_result"
    }
   ],
   "source": [
    "len(gwas_variants_ids_set)"
   ]
  },
  {
   "cell_type": "code",
   "execution_count": 14,
   "id": "4235b06a-6034-4ee4-a0a3-2ae35d122418",
   "metadata": {
    "execution": {
     "iopub.execute_input": "2022-11-30T00:14:30.825070Z",
     "iopub.status.busy": "2022-11-30T00:14:30.824891Z",
     "iopub.status.idle": "2022-11-30T00:14:31.190427Z",
     "shell.execute_reply": "2022-11-30T00:14:31.190022Z"
    },
    "papermill": {
     "duration": 0.377047,
     "end_time": "2022-11-30T00:14:31.191795",
     "exception": false,
     "start_time": "2022-11-30T00:14:30.814748",
     "status": "completed"
    },
    "tags": []
   },
   "outputs": [
    {
     "data": {
      "text/plain": [
       "['chr7_104269309_C_G_b38',\n",
       " 'chr12_12118833_CAGT_C_b38',\n",
       " 'chr9_32799596_G_C_b38',\n",
       " 'chr8_13069698_C_T_b38',\n",
       " 'chr5_176160096_G_T_b38']"
      ]
     },
     "execution_count": 14,
     "metadata": {},
     "output_type": "execute_result"
    }
   ],
   "source": [
    "list(gwas_variants_ids_set)[:5]"
   ]
  },
  {
   "cell_type": "markdown",
   "id": "07866999-2305-41f9-a144-e69c9122c212",
   "metadata": {
    "papermill": {
     "duration": 0.009701,
     "end_time": "2022-11-30T00:14:31.211368",
     "exception": false,
     "start_time": "2022-11-30T00:14:31.201667",
     "status": "completed"
    },
    "tags": []
   },
   "source": [
    "## S-PrediXcan tissue models"
   ]
  },
  {
   "cell_type": "code",
   "execution_count": 15,
   "id": "780611d9-77c8-405f-90a4-f271f7b09397",
   "metadata": {
    "execution": {
     "iopub.execute_input": "2022-11-30T00:14:31.232204Z",
     "iopub.status.busy": "2022-11-30T00:14:31.232091Z",
     "iopub.status.idle": "2022-11-30T00:14:31.834801Z",
     "shell.execute_reply": "2022-11-30T00:14:31.834249Z"
    },
    "papermill": {
     "duration": 0.614773,
     "end_time": "2022-11-30T00:14:31.836562",
     "exception": false,
     "start_time": "2022-11-30T00:14:31.221789",
     "status": "completed"
    },
    "tags": []
   },
   "outputs": [],
   "source": [
    "spredixcan_genes_models = pd.read_pickle(OUTPUT_DIR_BASE / \"gene_tissues.pkl\")"
   ]
  },
  {
   "cell_type": "code",
   "execution_count": 16,
   "id": "726dd1f6-9557-4225-91fa-b3b879ea96e1",
   "metadata": {
    "execution": {
     "iopub.execute_input": "2022-11-30T00:14:31.858190Z",
     "iopub.status.busy": "2022-11-30T00:14:31.858073Z",
     "iopub.status.idle": "2022-11-30T00:14:31.871440Z",
     "shell.execute_reply": "2022-11-30T00:14:31.871073Z"
    },
    "papermill": {
     "duration": 0.025311,
     "end_time": "2022-11-30T00:14:31.872804",
     "exception": false,
     "start_time": "2022-11-30T00:14:31.847493",
     "status": "completed"
    },
    "tags": []
   },
   "outputs": [
    {
     "data": {
      "text/plain": [
       "(6443, 5)"
      ]
     },
     "execution_count": 16,
     "metadata": {},
     "output_type": "execute_result"
    }
   ],
   "source": [
    "spredixcan_genes_models.shape"
   ]
  },
  {
   "cell_type": "code",
   "execution_count": 17,
   "id": "944a1b48-222c-4eb0-b252-b9de2cbca215",
   "metadata": {
    "execution": {
     "iopub.execute_input": "2022-11-30T00:14:31.893573Z",
     "iopub.status.busy": "2022-11-30T00:14:31.893463Z",
     "iopub.status.idle": "2022-11-30T00:14:31.909610Z",
     "shell.execute_reply": "2022-11-30T00:14:31.909233Z"
    },
    "papermill": {
     "duration": 0.027946,
     "end_time": "2022-11-30T00:14:31.910971",
     "exception": false,
     "start_time": "2022-11-30T00:14:31.883025",
     "status": "completed"
    },
    "tags": []
   },
   "outputs": [
    {
     "data": {
      "text/html": [
       "<div>\n",
       "<style scoped>\n",
       "    .dataframe tbody tr th:only-of-type {\n",
       "        vertical-align: middle;\n",
       "    }\n",
       "\n",
       "    .dataframe tbody tr th {\n",
       "        vertical-align: top;\n",
       "    }\n",
       "\n",
       "    .dataframe thead th {\n",
       "        text-align: right;\n",
       "    }\n",
       "</style>\n",
       "<table border=\"1\" class=\"dataframe\">\n",
       "  <thead>\n",
       "    <tr style=\"text-align: right;\">\n",
       "      <th></th>\n",
       "      <th>gene_name</th>\n",
       "      <th>tissue</th>\n",
       "      <th>n_tissues</th>\n",
       "      <th>n_snps_used_sum</th>\n",
       "      <th>n_snps_in_model_sum</th>\n",
       "    </tr>\n",
       "    <tr>\n",
       "      <th>gene_id</th>\n",
       "      <th></th>\n",
       "      <th></th>\n",
       "      <th></th>\n",
       "      <th></th>\n",
       "      <th></th>\n",
       "    </tr>\n",
       "  </thead>\n",
       "  <tbody>\n",
       "    <tr>\n",
       "      <th>ENSG00000000419</th>\n",
       "      <td>DPM1</td>\n",
       "      <td>(Brain_Substantia_nigra, Brain_Hypothalamus)</td>\n",
       "      <td>2</td>\n",
       "      <td>2</td>\n",
       "      <td>2</td>\n",
       "    </tr>\n",
       "    <tr>\n",
       "      <th>ENSG00000000938</th>\n",
       "      <td>FGR</td>\n",
       "      <td>(Lung, Brain_Anterior_cingulate_cortex_BA24, T...</td>\n",
       "      <td>36</td>\n",
       "      <td>40</td>\n",
       "      <td>40</td>\n",
       "    </tr>\n",
       "    <tr>\n",
       "      <th>ENSG00000000971</th>\n",
       "      <td>CFH</td>\n",
       "      <td>(Lung, Brain_Anterior_cingulate_cortex_BA24, T...</td>\n",
       "      <td>34</td>\n",
       "      <td>44</td>\n",
       "      <td>44</td>\n",
       "    </tr>\n",
       "    <tr>\n",
       "      <th>ENSG00000001084</th>\n",
       "      <td>GCLC</td>\n",
       "      <td>(Lung, Brain_Anterior_cingulate_cortex_BA24, T...</td>\n",
       "      <td>32</td>\n",
       "      <td>46</td>\n",
       "      <td>46</td>\n",
       "    </tr>\n",
       "    <tr>\n",
       "      <th>ENSG00000001167</th>\n",
       "      <td>NFYA</td>\n",
       "      <td>(Lung, Brain_Anterior_cingulate_cortex_BA24, T...</td>\n",
       "      <td>40</td>\n",
       "      <td>47</td>\n",
       "      <td>48</td>\n",
       "    </tr>\n",
       "  </tbody>\n",
       "</table>\n",
       "</div>"
      ],
      "text/plain": [
       "                gene_name                                             tissue  \\\n",
       "gene_id                                                                        \n",
       "ENSG00000000419      DPM1       (Brain_Substantia_nigra, Brain_Hypothalamus)   \n",
       "ENSG00000000938       FGR  (Lung, Brain_Anterior_cingulate_cortex_BA24, T...   \n",
       "ENSG00000000971       CFH  (Lung, Brain_Anterior_cingulate_cortex_BA24, T...   \n",
       "ENSG00000001084      GCLC  (Lung, Brain_Anterior_cingulate_cortex_BA24, T...   \n",
       "ENSG00000001167      NFYA  (Lung, Brain_Anterior_cingulate_cortex_BA24, T...   \n",
       "\n",
       "                 n_tissues  n_snps_used_sum  n_snps_in_model_sum  \n",
       "gene_id                                                           \n",
       "ENSG00000000419          2                2                    2  \n",
       "ENSG00000000938         36               40                   40  \n",
       "ENSG00000000971         34               44                   44  \n",
       "ENSG00000001084         32               46                   46  \n",
       "ENSG00000001167         40               47                   48  "
      ]
     },
     "execution_count": 17,
     "metadata": {},
     "output_type": "execute_result"
    }
   ],
   "source": [
    "spredixcan_genes_models.head()"
   ]
  },
  {
   "cell_type": "code",
   "execution_count": 18,
   "id": "d1c11bb1-be0b-4f40-b360-633d6827109f",
   "metadata": {
    "execution": {
     "iopub.execute_input": "2022-11-30T00:14:31.932569Z",
     "iopub.status.busy": "2022-11-30T00:14:31.932455Z",
     "iopub.status.idle": "2022-11-30T00:14:31.945053Z",
     "shell.execute_reply": "2022-11-30T00:14:31.944652Z"
    },
    "papermill": {
     "duration": 0.024647,
     "end_time": "2022-11-30T00:14:31.946406",
     "exception": false,
     "start_time": "2022-11-30T00:14:31.921759",
     "status": "completed"
    },
    "tags": []
   },
   "outputs": [],
   "source": [
    "assert spredixcan_genes_models.index.is_unique"
   ]
  },
  {
   "cell_type": "markdown",
   "id": "a5b5092c-a13e-47c4-a92a-480fcc08f3ae",
   "metadata": {
    "papermill": {
     "duration": 0.010565,
     "end_time": "2022-11-30T00:14:31.967289",
     "exception": false,
     "start_time": "2022-11-30T00:14:31.956724",
     "status": "completed"
    },
    "tags": []
   },
   "source": [
    "## Gene info"
   ]
  },
  {
   "cell_type": "code",
   "execution_count": 19,
   "id": "7d6bb224-88e9-4358-ac10-43a41d92cdad",
   "metadata": {
    "execution": {
     "iopub.execute_input": "2022-11-30T00:14:31.988477Z",
     "iopub.status.busy": "2022-11-30T00:14:31.988257Z",
     "iopub.status.idle": "2022-11-30T00:14:32.006546Z",
     "shell.execute_reply": "2022-11-30T00:14:32.006058Z"
    },
    "papermill": {
     "duration": 0.029926,
     "end_time": "2022-11-30T00:14:32.007462",
     "exception": false,
     "start_time": "2022-11-30T00:14:31.977536",
     "status": "completed"
    },
    "tags": []
   },
   "outputs": [],
   "source": [
    "genes_info = pd.read_pickle(OUTPUT_DIR_BASE / \"genes_info.pkl\")"
   ]
  },
  {
   "cell_type": "code",
   "execution_count": 20,
   "id": "9e32abfa-546d-483e-8c18-d526e9e05903",
   "metadata": {
    "execution": {
     "iopub.execute_input": "2022-11-30T00:14:32.019441Z",
     "iopub.status.busy": "2022-11-30T00:14:32.019224Z",
     "iopub.status.idle": "2022-11-30T00:14:32.036370Z",
     "shell.execute_reply": "2022-11-30T00:14:32.035912Z"
    },
    "papermill": {
     "duration": 0.0242,
     "end_time": "2022-11-30T00:14:32.037246",
     "exception": false,
     "start_time": "2022-11-30T00:14:32.013046",
     "status": "completed"
    },
    "tags": []
   },
   "outputs": [
    {
     "data": {
      "text/plain": [
       "(6443, 7)"
      ]
     },
     "execution_count": 20,
     "metadata": {},
     "output_type": "execute_result"
    }
   ],
   "source": [
    "genes_info.shape"
   ]
  },
  {
   "cell_type": "code",
   "execution_count": 21,
   "id": "d16c3e92-85ec-468a-9a56-e25a9774a1cb",
   "metadata": {
    "execution": {
     "iopub.execute_input": "2022-11-30T00:14:32.048721Z",
     "iopub.status.busy": "2022-11-30T00:14:32.048329Z",
     "iopub.status.idle": "2022-11-30T00:14:32.068382Z",
     "shell.execute_reply": "2022-11-30T00:14:32.067803Z"
    },
    "papermill": {
     "duration": 0.026684,
     "end_time": "2022-11-30T00:14:32.069250",
     "exception": false,
     "start_time": "2022-11-30T00:14:32.042566",
     "status": "completed"
    },
    "tags": []
   },
   "outputs": [
    {
     "data": {
      "text/html": [
       "<div>\n",
       "<style scoped>\n",
       "    .dataframe tbody tr th:only-of-type {\n",
       "        vertical-align: middle;\n",
       "    }\n",
       "\n",
       "    .dataframe tbody tr th {\n",
       "        vertical-align: top;\n",
       "    }\n",
       "\n",
       "    .dataframe thead th {\n",
       "        text-align: right;\n",
       "    }\n",
       "</style>\n",
       "<table border=\"1\" class=\"dataframe\">\n",
       "  <thead>\n",
       "    <tr style=\"text-align: right;\">\n",
       "      <th></th>\n",
       "      <th>name</th>\n",
       "      <th>id</th>\n",
       "      <th>chr</th>\n",
       "      <th>band</th>\n",
       "      <th>start_position</th>\n",
       "      <th>end_position</th>\n",
       "      <th>gene_length</th>\n",
       "    </tr>\n",
       "  </thead>\n",
       "  <tbody>\n",
       "    <tr>\n",
       "      <th>0</th>\n",
       "      <td>PPP1R13B</td>\n",
       "      <td>ENSG00000088808</td>\n",
       "      <td>14</td>\n",
       "      <td>14q32.33</td>\n",
       "      <td>103733195</td>\n",
       "      <td>103847590</td>\n",
       "      <td>114395</td>\n",
       "    </tr>\n",
       "    <tr>\n",
       "      <th>1</th>\n",
       "      <td>HNRNPA0</td>\n",
       "      <td>ENSG00000177733</td>\n",
       "      <td>5</td>\n",
       "      <td>5q31.2</td>\n",
       "      <td>137745651</td>\n",
       "      <td>137754376</td>\n",
       "      <td>8725</td>\n",
       "    </tr>\n",
       "    <tr>\n",
       "      <th>2</th>\n",
       "      <td>GSN</td>\n",
       "      <td>ENSG00000148180</td>\n",
       "      <td>9</td>\n",
       "      <td>9q33.2</td>\n",
       "      <td>121207794</td>\n",
       "      <td>121332843</td>\n",
       "      <td>125049</td>\n",
       "    </tr>\n",
       "    <tr>\n",
       "      <th>3</th>\n",
       "      <td>CCR3</td>\n",
       "      <td>ENSG00000183625</td>\n",
       "      <td>3</td>\n",
       "      <td>3p21.31</td>\n",
       "      <td>46163604</td>\n",
       "      <td>46266706</td>\n",
       "      <td>103102</td>\n",
       "    </tr>\n",
       "    <tr>\n",
       "      <th>4</th>\n",
       "      <td>TRIB2</td>\n",
       "      <td>ENSG00000071575</td>\n",
       "      <td>2</td>\n",
       "      <td>2p24.3</td>\n",
       "      <td>12716889</td>\n",
       "      <td>12742734</td>\n",
       "      <td>25845</td>\n",
       "    </tr>\n",
       "  </tbody>\n",
       "</table>\n",
       "</div>"
      ],
      "text/plain": [
       "       name               id  chr      band  start_position  end_position  \\\n",
       "0  PPP1R13B  ENSG00000088808   14  14q32.33       103733195     103847590   \n",
       "1   HNRNPA0  ENSG00000177733    5    5q31.2       137745651     137754376   \n",
       "2       GSN  ENSG00000148180    9    9q33.2       121207794     121332843   \n",
       "3      CCR3  ENSG00000183625    3   3p21.31        46163604      46266706   \n",
       "4     TRIB2  ENSG00000071575    2    2p24.3        12716889      12742734   \n",
       "\n",
       "   gene_length  \n",
       "0       114395  \n",
       "1         8725  \n",
       "2       125049  \n",
       "3       103102  \n",
       "4        25845  "
      ]
     },
     "execution_count": 21,
     "metadata": {},
     "output_type": "execute_result"
    }
   ],
   "source": [
    "genes_info.head()"
   ]
  },
  {
   "cell_type": "markdown",
   "id": "d3843e06",
   "metadata": {
    "papermill": {
     "duration": 0.005749,
     "end_time": "2022-11-30T00:14:32.080483",
     "exception": false,
     "start_time": "2022-11-30T00:14:32.074734",
     "status": "completed"
    },
    "tags": []
   },
   "source": [
    "# Compute correlations"
   ]
  },
  {
   "cell_type": "code",
   "execution_count": 22,
   "id": "cb859c15-d1f3-4006-a74c-2b83c0db9611",
   "metadata": {
    "execution": {
     "iopub.execute_input": "2022-11-30T00:14:32.092437Z",
     "iopub.status.busy": "2022-11-30T00:14:32.091981Z",
     "iopub.status.idle": "2022-11-30T00:14:32.115710Z",
     "shell.execute_reply": "2022-11-30T00:14:32.115233Z"
    },
    "papermill": {
     "duration": 0.030752,
     "end_time": "2022-11-30T00:14:32.116621",
     "exception": false,
     "start_time": "2022-11-30T00:14:32.085869",
     "status": "completed"
    },
    "tags": []
   },
   "outputs": [
    {
     "data": {
      "text/plain": [
       "PosixPath('/opt/data/projects/asthma-copd/results/gls_phenoplier/gene_corrs/copd_only/by_chr/gene_corrs-chr13.pkl')"
      ]
     },
     "metadata": {},
     "output_type": "display_data"
    }
   ],
   "source": [
    "output_dir = OUTPUT_DIR_BASE / \"by_chr\"\n",
    "output_dir.mkdir(exist_ok=True, parents=True)\n",
    "output_file = output_dir / f\"gene_corrs-chr{CHROMOSOME}.pkl\"\n",
    "display(output_file)"
   ]
  },
  {
   "cell_type": "code",
   "execution_count": 23,
   "id": "aa674fe4-6794-4eed-98fa-32b39d1d4ace",
   "metadata": {
    "execution": {
     "iopub.execute_input": "2022-11-30T00:14:32.129021Z",
     "iopub.status.busy": "2022-11-30T00:14:32.128633Z",
     "iopub.status.idle": "2022-11-30T00:14:32.147847Z",
     "shell.execute_reply": "2022-11-30T00:14:32.147349Z"
    },
    "papermill": {
     "duration": 0.026316,
     "end_time": "2022-11-30T00:14:32.148816",
     "exception": false,
     "start_time": "2022-11-30T00:14:32.122500",
     "status": "completed"
    },
    "tags": []
   },
   "outputs": [],
   "source": [
    "warnings.filterwarnings(\"error\")"
   ]
  },
  {
   "cell_type": "code",
   "execution_count": 24,
   "id": "44d5450b-3baf-43f1-9e2e-4b06f1a785f8",
   "metadata": {
    "execution": {
     "iopub.execute_input": "2022-11-30T00:14:32.160805Z",
     "iopub.status.busy": "2022-11-30T00:14:32.160496Z",
     "iopub.status.idle": "2022-11-30T00:14:32.180339Z",
     "shell.execute_reply": "2022-11-30T00:14:32.179843Z"
    },
    "papermill": {
     "duration": 0.026796,
     "end_time": "2022-11-30T00:14:32.181184",
     "exception": false,
     "start_time": "2022-11-30T00:14:32.154388",
     "status": "completed"
    },
    "tags": []
   },
   "outputs": [],
   "source": [
    "# standard checks\n",
    "all_chrs = genes_info[\"chr\"].dropna().unique()\n",
    "assert all_chrs.shape[0] == 22\n",
    "\n",
    "# select chromosome given by the user\n",
    "assert CHROMOSOME in all_chrs"
   ]
  },
  {
   "cell_type": "code",
   "execution_count": 25,
   "id": "2d7c043c-92a7-4d35-991b-fa69ac1e0268",
   "metadata": {
    "execution": {
     "iopub.execute_input": "2022-11-30T00:14:32.193629Z",
     "iopub.status.busy": "2022-11-30T00:14:32.193322Z",
     "iopub.status.idle": "2022-11-30T00:14:32.214451Z",
     "shell.execute_reply": "2022-11-30T00:14:32.213939Z"
    },
    "papermill": {
     "duration": 0.028072,
     "end_time": "2022-11-30T00:14:32.215289",
     "exception": false,
     "start_time": "2022-11-30T00:14:32.187217",
     "status": "completed"
    },
    "tags": []
   },
   "outputs": [
    {
     "name": "stdout",
     "output_type": "stream",
     "text": [
      "Number of genes in chromosome: 118\n"
     ]
    }
   ],
   "source": [
    "# run only on the chromosome specified\n",
    "all_chrs = [CHROMOSOME]\n",
    "genes_chr = genes_info[genes_info[\"chr\"] == CHROMOSOME]\n",
    "\n",
    "# For testing purposes\n",
    "# genes_chr = genes_chr.sample(n=20)\n",
    "\n",
    "print(f\"Number of genes in chromosome: {genes_chr.shape[0]}\", flush=True)"
   ]
  },
  {
   "cell_type": "code",
   "execution_count": 26,
   "id": "916015d8-2979-46d3-a9b9-1cf5a0932c6a",
   "metadata": {
    "execution": {
     "iopub.execute_input": "2022-11-30T00:14:32.228020Z",
     "iopub.status.busy": "2022-11-30T00:14:32.227716Z",
     "iopub.status.idle": "2022-11-30T00:14:32.247604Z",
     "shell.execute_reply": "2022-11-30T00:14:32.247100Z"
    },
    "papermill": {
     "duration": 0.02745,
     "end_time": "2022-11-30T00:14:32.248461",
     "exception": false,
     "start_time": "2022-11-30T00:14:32.221011",
     "status": "completed"
    },
    "tags": []
   },
   "outputs": [],
   "source": [
    "# sort genes by starting position to make visualizations better later\n",
    "genes_chr = genes_chr.sort_values(\"start_position\")"
   ]
  },
  {
   "cell_type": "code",
   "execution_count": 27,
   "id": "a38aa74a-8ad3-47f6-8ef9-56be0e011774",
   "metadata": {
    "execution": {
     "iopub.execute_input": "2022-11-30T00:14:32.260625Z",
     "iopub.status.busy": "2022-11-30T00:14:32.260322Z",
     "iopub.status.idle": "2022-11-30T00:14:32.279687Z",
     "shell.execute_reply": "2022-11-30T00:14:32.279192Z"
    },
    "papermill": {
     "duration": 0.026411,
     "end_time": "2022-11-30T00:14:32.280570",
     "exception": false,
     "start_time": "2022-11-30T00:14:32.254159",
     "status": "completed"
    },
    "tags": []
   },
   "outputs": [],
   "source": [
    "gene_chr_objs = [Gene(ensembl_id=gene_id) for gene_id in genes_chr[\"id\"]]"
   ]
  },
  {
   "cell_type": "code",
   "execution_count": 28,
   "id": "570f974f-13c3-42b6-ad3a-ce99ca885c1a",
   "metadata": {
    "execution": {
     "iopub.execute_input": "2022-11-30T00:14:32.293204Z",
     "iopub.status.busy": "2022-11-30T00:14:32.292903Z",
     "iopub.status.idle": "2022-11-30T00:14:32.312491Z",
     "shell.execute_reply": "2022-11-30T00:14:32.311989Z"
    },
    "papermill": {
     "duration": 0.026627,
     "end_time": "2022-11-30T00:14:32.313309",
     "exception": false,
     "start_time": "2022-11-30T00:14:32.286682",
     "status": "completed"
    },
    "tags": []
   },
   "outputs": [
    {
     "name": "stdout",
     "output_type": "stream",
     "text": [
      "Number of gene combinations: 7021\n"
     ]
    }
   ],
   "source": [
    "n = len(gene_chr_objs)\n",
    "# diagonal elements + upper triangular matrix\n",
    "n_comb = n + int(n * (n - 1) / 2.0)\n",
    "print(f\"Number of gene combinations: {n_comb}\", flush=True)"
   ]
  },
  {
   "cell_type": "code",
   "execution_count": 29,
   "id": "cdbb90a1",
   "metadata": {
    "execution": {
     "iopub.execute_input": "2022-11-30T00:14:32.325492Z",
     "iopub.status.busy": "2022-11-30T00:14:32.325294Z",
     "iopub.status.idle": "2022-11-30T00:19:09.968625Z",
     "shell.execute_reply": "2022-11-30T00:19:09.968019Z"
    },
    "papermill": {
     "duration": 277.651033,
     "end_time": "2022-11-30T00:19:09.970003",
     "exception": false,
     "start_time": "2022-11-30T00:14:32.318970",
     "status": "completed"
    },
    "tags": []
   },
   "outputs": [
    {
     "name": "stderr",
     "output_type": "stream",
     "text": [
      "ENSG00000169062 / ENSG00000169062: 100%|████████████████████████| 7021/7021 [04:37<00:00, 25.29it/s]\n"
     ]
    },
    {
     "data": {
      "text/plain": [
       "PosixPath('/opt/data/projects/asthma-copd/results/gls_phenoplier/gene_corrs/copd_only/by_chr/gene_corrs-chr13.pkl')"
      ]
     },
     "metadata": {},
     "output_type": "display_data"
    }
   ],
   "source": [
    "gene_corrs = []\n",
    "gene_corrs_data = np.full(\n",
    "    (n, n),\n",
    "    np.nan,\n",
    "    dtype=np.float64,\n",
    ")\n",
    "\n",
    "i = 0\n",
    "with tqdm(ncols=100, total=n_comb) as pbar:\n",
    "    for gene1_idx in range(0, len(gene_chr_objs)):\n",
    "        gene1_obj = gene_chr_objs[gene1_idx]\n",
    "        gene1_tissues = spredixcan_genes_models.loc[gene1_obj.ensembl_id, \"tissue\"]\n",
    "\n",
    "        for gene2_idx in range(gene1_idx, len(gene_chr_objs)):\n",
    "            gene2_obj = gene_chr_objs[gene2_idx]\n",
    "            gene2_tissues = spredixcan_genes_models.loc[gene2_obj.ensembl_id, \"tissue\"]\n",
    "\n",
    "            pbar.set_description(f\"{gene1_obj.ensembl_id} / {gene2_obj.ensembl_id}\")\n",
    "\n",
    "            try:\n",
    "                r = gene1_obj.get_ssm_correlation(\n",
    "                    other_gene=gene2_obj,\n",
    "                    tissues=gene1_tissues,\n",
    "                    other_tissues=gene2_tissues,\n",
    "                    snps_subset=gwas_variants_ids_set,\n",
    "                    condition_number=SMULTIXCAN_CONDITION_NUMBER,\n",
    "                    reference_panel=REFERENCE_PANEL,\n",
    "                    model_type=EQTL_MODEL,\n",
    "                    use_within_distance=COMPUTE_CORRELATIONS_WITHIN_DISTANCE,\n",
    "                )\n",
    "\n",
    "                if r is None:\n",
    "                    # if r is None, it's very likely because:\n",
    "                    #  * one of the genes has no prediction models\n",
    "                    #  * all the SNPs predictors for the gene are not present in the reference\n",
    "                    #    panel\n",
    "\n",
    "                    r = 0.0\n",
    "\n",
    "                gene_corrs.append(r)\n",
    "\n",
    "                gene_corrs_data[gene1_idx, gene2_idx] = r\n",
    "                gene_corrs_data[gene2_idx, gene1_idx] = r\n",
    "            except Warning as e:\n",
    "                if not DEBUG_MODE:\n",
    "                    raise e\n",
    "\n",
    "                print(\n",
    "                    f\"RuntimeWarning for genes {gene1_obj.ensembl_id} and {gene2_obj.ensembl_id}\",\n",
    "                    flush=True,\n",
    "                )\n",
    "                print(traceback.format_exc(), flush=True)\n",
    "\n",
    "                gene_corrs.append(np.nan)\n",
    "            except Exception as e:\n",
    "                if not DEBUG_MODE:\n",
    "                    raise e\n",
    "\n",
    "                print(\n",
    "                    f\"Exception for genes {gene1_obj.ensembl_id} and {gene2_obj.ensembl_id}\",\n",
    "                    flush=True,\n",
    "                )\n",
    "                print(traceback.format_exc(), flush=True)\n",
    "\n",
    "                gene_corrs.append(np.nan)\n",
    "\n",
    "            pbar.update(1)\n",
    "\n",
    "# create a pandas series\n",
    "gene_corrs_flat = pd.Series(gene_corrs)\n",
    "\n",
    "# save\n",
    "# FIXME: consider saving only the condenced matrix here. See here for\n",
    "# more details: https://github.com/greenelab/phenoplier/pull/38#discussion_r634600813\n",
    "# gene_corrs_data = squareform(np.array(gene_corrs, dtype=np.float64))\n",
    "# np.fill_diagonal(gene_corrs_data, 1.0)\n",
    "\n",
    "gene_chr_ids = [g.ensembl_id for g in gene_chr_objs]\n",
    "gene_corrs_df = pd.DataFrame(\n",
    "    data=gene_corrs_data,\n",
    "    index=gene_chr_ids,\n",
    "    columns=gene_chr_ids,\n",
    ")\n",
    "\n",
    "output_dir.mkdir(exist_ok=True, parents=True)\n",
    "display(output_file)\n",
    "\n",
    "gene_corrs_df.to_pickle(output_file)"
   ]
  },
  {
   "cell_type": "markdown",
   "id": "faa67b51-5373-470f-aa72-2ded53fa6dfe",
   "metadata": {
    "papermill": {
     "duration": 0.277271,
     "end_time": "2022-11-30T00:19:10.540425",
     "exception": false,
     "start_time": "2022-11-30T00:19:10.263154",
     "status": "completed"
    },
    "tags": []
   },
   "source": [
    "# Testing"
   ]
  },
  {
   "cell_type": "code",
   "execution_count": 30,
   "id": "14f7d046-4b55-4896-a56b-990127bcc388",
   "metadata": {
    "execution": {
     "iopub.execute_input": "2022-11-30T00:19:11.070418Z",
     "iopub.status.busy": "2022-11-30T00:19:11.069827Z",
     "iopub.status.idle": "2022-11-30T00:19:11.088582Z",
     "shell.execute_reply": "2022-11-30T00:19:11.088124Z"
    },
    "papermill": {
     "duration": 0.298512,
     "end_time": "2022-11-30T00:19:11.089429",
     "exception": false,
     "start_time": "2022-11-30T00:19:10.790917",
     "status": "completed"
    },
    "tags": []
   },
   "outputs": [
    {
     "data": {
      "text/plain": [
       "(118, 118)"
      ]
     },
     "execution_count": 30,
     "metadata": {},
     "output_type": "execute_result"
    }
   ],
   "source": [
    "gene_corrs_df.shape"
   ]
  },
  {
   "cell_type": "code",
   "execution_count": 31,
   "id": "c7d15414-3297-4537-a7c6-7588c0baeb75",
   "metadata": {
    "execution": {
     "iopub.execute_input": "2022-11-30T00:19:11.594940Z",
     "iopub.status.busy": "2022-11-30T00:19:11.594593Z",
     "iopub.status.idle": "2022-11-30T00:19:11.632260Z",
     "shell.execute_reply": "2022-11-30T00:19:11.631714Z"
    },
    "papermill": {
     "duration": 0.290273,
     "end_time": "2022-11-30T00:19:11.633110",
     "exception": false,
     "start_time": "2022-11-30T00:19:11.342837",
     "status": "completed"
    },
    "tags": []
   },
   "outputs": [
    {
     "data": {
      "text/html": [
       "<div>\n",
       "<style scoped>\n",
       "    .dataframe tbody tr th:only-of-type {\n",
       "        vertical-align: middle;\n",
       "    }\n",
       "\n",
       "    .dataframe tbody tr th {\n",
       "        vertical-align: top;\n",
       "    }\n",
       "\n",
       "    .dataframe thead th {\n",
       "        text-align: right;\n",
       "    }\n",
       "</style>\n",
       "<table border=\"1\" class=\"dataframe\">\n",
       "  <thead>\n",
       "    <tr style=\"text-align: right;\">\n",
       "      <th></th>\n",
       "      <th>ENSG00000121741</th>\n",
       "      <th>ENSG00000121743</th>\n",
       "      <th>ENSG00000121742</th>\n",
       "      <th>ENSG00000032742</th>\n",
       "      <th>ENSG00000150457</th>\n",
       "      <th>ENSG00000150459</th>\n",
       "      <th>ENSG00000102678</th>\n",
       "      <th>ENSG00000127863</th>\n",
       "      <th>ENSG00000228741</th>\n",
       "      <th>ENSG00000102699</th>\n",
       "      <th>...</th>\n",
       "      <th>ENSG00000126217</th>\n",
       "      <th>ENSG00000057593</th>\n",
       "      <th>ENSG00000126231</th>\n",
       "      <th>ENSG00000139842</th>\n",
       "      <th>ENSG00000185896</th>\n",
       "      <th>ENSG00000198176</th>\n",
       "      <th>ENSG00000183087</th>\n",
       "      <th>ENSG00000185989</th>\n",
       "      <th>ENSG00000130177</th>\n",
       "      <th>ENSG00000169062</th>\n",
       "    </tr>\n",
       "  </thead>\n",
       "  <tbody>\n",
       "    <tr>\n",
       "      <th>ENSG00000121741</th>\n",
       "      <td>1.000000</td>\n",
       "      <td>0.012097</td>\n",
       "      <td>0.011184</td>\n",
       "      <td>0.002933</td>\n",
       "      <td>0.002772</td>\n",
       "      <td>0.004460</td>\n",
       "      <td>0.004328</td>\n",
       "      <td>0.008426</td>\n",
       "      <td>0.008153</td>\n",
       "      <td>0.005306</td>\n",
       "      <td>...</td>\n",
       "      <td>0.002357</td>\n",
       "      <td>0.002328</td>\n",
       "      <td>0.004101</td>\n",
       "      <td>0.002655</td>\n",
       "      <td>0.003584</td>\n",
       "      <td>0.005325</td>\n",
       "      <td>0.005511</td>\n",
       "      <td>0.004851</td>\n",
       "      <td>0.002478</td>\n",
       "      <td>0.001590</td>\n",
       "    </tr>\n",
       "    <tr>\n",
       "      <th>ENSG00000121743</th>\n",
       "      <td>0.012097</td>\n",
       "      <td>1.000000</td>\n",
       "      <td>0.028466</td>\n",
       "      <td>0.009301</td>\n",
       "      <td>0.013014</td>\n",
       "      <td>0.006442</td>\n",
       "      <td>0.003147</td>\n",
       "      <td>0.008373</td>\n",
       "      <td>0.006775</td>\n",
       "      <td>0.006577</td>\n",
       "      <td>...</td>\n",
       "      <td>0.014327</td>\n",
       "      <td>0.005054</td>\n",
       "      <td>0.005796</td>\n",
       "      <td>0.005822</td>\n",
       "      <td>0.007454</td>\n",
       "      <td>0.009804</td>\n",
       "      <td>0.011914</td>\n",
       "      <td>0.009311</td>\n",
       "      <td>0.005826</td>\n",
       "      <td>0.006965</td>\n",
       "    </tr>\n",
       "    <tr>\n",
       "      <th>ENSG00000121742</th>\n",
       "      <td>0.011184</td>\n",
       "      <td>0.028466</td>\n",
       "      <td>1.000000</td>\n",
       "      <td>0.010330</td>\n",
       "      <td>0.005040</td>\n",
       "      <td>0.008485</td>\n",
       "      <td>0.006706</td>\n",
       "      <td>0.012004</td>\n",
       "      <td>0.009493</td>\n",
       "      <td>0.004909</td>\n",
       "      <td>...</td>\n",
       "      <td>0.008534</td>\n",
       "      <td>0.003761</td>\n",
       "      <td>0.008086</td>\n",
       "      <td>0.009492</td>\n",
       "      <td>0.009668</td>\n",
       "      <td>0.007234</td>\n",
       "      <td>0.008366</td>\n",
       "      <td>0.010232</td>\n",
       "      <td>0.002535</td>\n",
       "      <td>0.004482</td>\n",
       "    </tr>\n",
       "    <tr>\n",
       "      <th>ENSG00000032742</th>\n",
       "      <td>0.002933</td>\n",
       "      <td>0.009301</td>\n",
       "      <td>0.010330</td>\n",
       "      <td>1.000000</td>\n",
       "      <td>0.017363</td>\n",
       "      <td>0.008018</td>\n",
       "      <td>0.005442</td>\n",
       "      <td>0.007502</td>\n",
       "      <td>0.008291</td>\n",
       "      <td>0.006997</td>\n",
       "      <td>...</td>\n",
       "      <td>0.008754</td>\n",
       "      <td>0.005578</td>\n",
       "      <td>0.005795</td>\n",
       "      <td>0.005745</td>\n",
       "      <td>0.005541</td>\n",
       "      <td>0.004671</td>\n",
       "      <td>0.006215</td>\n",
       "      <td>0.006101</td>\n",
       "      <td>0.004329</td>\n",
       "      <td>0.009739</td>\n",
       "    </tr>\n",
       "    <tr>\n",
       "      <th>ENSG00000150457</th>\n",
       "      <td>0.002772</td>\n",
       "      <td>0.013014</td>\n",
       "      <td>0.005040</td>\n",
       "      <td>0.017363</td>\n",
       "      <td>1.000000</td>\n",
       "      <td>0.005581</td>\n",
       "      <td>0.009922</td>\n",
       "      <td>0.014383</td>\n",
       "      <td>0.005669</td>\n",
       "      <td>0.005084</td>\n",
       "      <td>...</td>\n",
       "      <td>0.008528</td>\n",
       "      <td>0.006059</td>\n",
       "      <td>0.005640</td>\n",
       "      <td>0.005839</td>\n",
       "      <td>0.005654</td>\n",
       "      <td>0.006113</td>\n",
       "      <td>0.009080</td>\n",
       "      <td>0.005411</td>\n",
       "      <td>0.000850</td>\n",
       "      <td>0.002332</td>\n",
       "    </tr>\n",
       "  </tbody>\n",
       "</table>\n",
       "<p>5 rows × 118 columns</p>\n",
       "</div>"
      ],
      "text/plain": [
       "                 ENSG00000121741  ENSG00000121743  ENSG00000121742  \\\n",
       "ENSG00000121741         1.000000         0.012097         0.011184   \n",
       "ENSG00000121743         0.012097         1.000000         0.028466   \n",
       "ENSG00000121742         0.011184         0.028466         1.000000   \n",
       "ENSG00000032742         0.002933         0.009301         0.010330   \n",
       "ENSG00000150457         0.002772         0.013014         0.005040   \n",
       "\n",
       "                 ENSG00000032742  ENSG00000150457  ENSG00000150459  \\\n",
       "ENSG00000121741         0.002933         0.002772         0.004460   \n",
       "ENSG00000121743         0.009301         0.013014         0.006442   \n",
       "ENSG00000121742         0.010330         0.005040         0.008485   \n",
       "ENSG00000032742         1.000000         0.017363         0.008018   \n",
       "ENSG00000150457         0.017363         1.000000         0.005581   \n",
       "\n",
       "                 ENSG00000102678  ENSG00000127863  ENSG00000228741  \\\n",
       "ENSG00000121741         0.004328         0.008426         0.008153   \n",
       "ENSG00000121743         0.003147         0.008373         0.006775   \n",
       "ENSG00000121742         0.006706         0.012004         0.009493   \n",
       "ENSG00000032742         0.005442         0.007502         0.008291   \n",
       "ENSG00000150457         0.009922         0.014383         0.005669   \n",
       "\n",
       "                 ENSG00000102699  ...  ENSG00000126217  ENSG00000057593  \\\n",
       "ENSG00000121741         0.005306  ...         0.002357         0.002328   \n",
       "ENSG00000121743         0.006577  ...         0.014327         0.005054   \n",
       "ENSG00000121742         0.004909  ...         0.008534         0.003761   \n",
       "ENSG00000032742         0.006997  ...         0.008754         0.005578   \n",
       "ENSG00000150457         0.005084  ...         0.008528         0.006059   \n",
       "\n",
       "                 ENSG00000126231  ENSG00000139842  ENSG00000185896  \\\n",
       "ENSG00000121741         0.004101         0.002655         0.003584   \n",
       "ENSG00000121743         0.005796         0.005822         0.007454   \n",
       "ENSG00000121742         0.008086         0.009492         0.009668   \n",
       "ENSG00000032742         0.005795         0.005745         0.005541   \n",
       "ENSG00000150457         0.005640         0.005839         0.005654   \n",
       "\n",
       "                 ENSG00000198176  ENSG00000183087  ENSG00000185989  \\\n",
       "ENSG00000121741         0.005325         0.005511         0.004851   \n",
       "ENSG00000121743         0.009804         0.011914         0.009311   \n",
       "ENSG00000121742         0.007234         0.008366         0.010232   \n",
       "ENSG00000032742         0.004671         0.006215         0.006101   \n",
       "ENSG00000150457         0.006113         0.009080         0.005411   \n",
       "\n",
       "                 ENSG00000130177  ENSG00000169062  \n",
       "ENSG00000121741         0.002478         0.001590  \n",
       "ENSG00000121743         0.005826         0.006965  \n",
       "ENSG00000121742         0.002535         0.004482  \n",
       "ENSG00000032742         0.004329         0.009739  \n",
       "ENSG00000150457         0.000850         0.002332  \n",
       "\n",
       "[5 rows x 118 columns]"
      ]
     },
     "execution_count": 31,
     "metadata": {},
     "output_type": "execute_result"
    }
   ],
   "source": [
    "gene_corrs_df.head()"
   ]
  },
  {
   "cell_type": "markdown",
   "id": "dad6603f-01c6-41fb-a6f6-241051207dd8",
   "metadata": {
    "papermill": {
     "duration": 0.25129,
     "end_time": "2022-11-30T00:19:12.162189",
     "exception": false,
     "start_time": "2022-11-30T00:19:11.910899",
     "status": "completed"
    },
    "tags": []
   },
   "source": [
    "## Standard checks and stats"
   ]
  },
  {
   "cell_type": "code",
   "execution_count": 32,
   "id": "286686af-1b7b-4440-8453-6bdcbd8de19c",
   "metadata": {
    "execution": {
     "iopub.execute_input": "2022-11-30T00:19:12.691798Z",
     "iopub.status.busy": "2022-11-30T00:19:12.691248Z",
     "iopub.status.idle": "2022-11-30T00:19:12.714420Z",
     "shell.execute_reply": "2022-11-30T00:19:12.713741Z"
    },
    "papermill": {
     "duration": 0.274932,
     "end_time": "2022-11-30T00:19:12.715379",
     "exception": false,
     "start_time": "2022-11-30T00:19:12.440447",
     "status": "completed"
    },
    "tags": []
   },
   "outputs": [],
   "source": [
    "assert not gene_corrs_df.isna().any().any()"
   ]
  },
  {
   "cell_type": "code",
   "execution_count": 33,
   "id": "00583efc-7068-4270-ad1e-4a418e91db96",
   "metadata": {
    "execution": {
     "iopub.execute_input": "2022-11-30T00:19:13.245078Z",
     "iopub.status.busy": "2022-11-30T00:19:13.244454Z",
     "iopub.status.idle": "2022-11-30T00:19:13.269024Z",
     "shell.execute_reply": "2022-11-30T00:19:13.268361Z"
    },
    "papermill": {
     "duration": 0.303935,
     "end_time": "2022-11-30T00:19:13.269970",
     "exception": false,
     "start_time": "2022-11-30T00:19:12.966035",
     "status": "completed"
    },
    "tags": []
   },
   "outputs": [
    {
     "data": {
      "text/plain": [
       "2.6993954364902018e-05"
      ]
     },
     "metadata": {},
     "output_type": "display_data"
    }
   ],
   "source": [
    "_min_val = gene_corrs_df.min().min()\n",
    "display(_min_val)\n",
    "assert _min_val >= -0.05"
   ]
  },
  {
   "cell_type": "code",
   "execution_count": 34,
   "id": "d04fb2cf-1050-475b-b855-f5f7cc04092b",
   "metadata": {
    "execution": {
     "iopub.execute_input": "2022-11-30T00:19:13.797833Z",
     "iopub.status.busy": "2022-11-30T00:19:13.797544Z",
     "iopub.status.idle": "2022-11-30T00:19:13.821841Z",
     "shell.execute_reply": "2022-11-30T00:19:13.821193Z"
    },
    "papermill": {
     "duration": 0.302977,
     "end_time": "2022-11-30T00:19:13.822740",
     "exception": false,
     "start_time": "2022-11-30T00:19:13.519763",
     "status": "completed"
    },
    "tags": []
   },
   "outputs": [
    {
     "data": {
      "text/plain": [
       "1.0000000000000036"
      ]
     },
     "metadata": {},
     "output_type": "display_data"
    }
   ],
   "source": [
    "_max_val = gene_corrs_df.max().max()  # this captures the diagonal\n",
    "display(_max_val)\n",
    "assert _max_val <= 1.05"
   ]
  },
  {
   "cell_type": "code",
   "execution_count": 35,
   "id": "96d02c44-1fba-47be-8a93-8f2608420b9c",
   "metadata": {
    "execution": {
     "iopub.execute_input": "2022-11-30T00:19:14.323222Z",
     "iopub.status.busy": "2022-11-30T00:19:14.322685Z",
     "iopub.status.idle": "2022-11-30T00:19:14.344447Z",
     "shell.execute_reply": "2022-11-30T00:19:14.343768Z"
    },
    "papermill": {
     "duration": 0.273354,
     "end_time": "2022-11-30T00:19:14.345495",
     "exception": false,
     "start_time": "2022-11-30T00:19:14.072141",
     "status": "completed"
    },
    "tags": []
   },
   "outputs": [],
   "source": [
    "# check upper triangular values\n",
    "# assert len(gene_corrs) == int(genes_chr.shape[0] * (genes_chr.shape[0] - 1) / 2)"
   ]
  },
  {
   "cell_type": "code",
   "execution_count": 36,
   "id": "fe283586-c348-40e0-8841-f6d97bfb021c",
   "metadata": {
    "execution": {
     "iopub.execute_input": "2022-11-30T00:19:14.870076Z",
     "iopub.status.busy": "2022-11-30T00:19:14.869539Z",
     "iopub.status.idle": "2022-11-30T00:19:14.896110Z",
     "shell.execute_reply": "2022-11-30T00:19:14.895582Z"
    },
    "papermill": {
     "duration": 0.276106,
     "end_time": "2022-11-30T00:19:14.896970",
     "exception": false,
     "start_time": "2022-11-30T00:19:14.620864",
     "status": "completed"
    },
    "tags": []
   },
   "outputs": [
    {
     "data": {
      "text/plain": [
       "count    7021.000000\n",
       "mean        0.026583\n",
       "std         0.132369\n",
       "min         0.000027\n",
       "25%         0.004496\n",
       "50%         0.006603\n",
       "75%         0.009104\n",
       "max         1.000000\n",
       "dtype: float64"
      ]
     },
     "execution_count": 36,
     "metadata": {},
     "output_type": "execute_result"
    }
   ],
   "source": [
    "gene_corrs_flat.describe()"
   ]
  },
  {
   "cell_type": "code",
   "execution_count": 37,
   "id": "b3815678-0f93-4b35-897b-a9d047a2aa78",
   "metadata": {
    "execution": {
     "iopub.execute_input": "2022-11-30T00:19:15.426587Z",
     "iopub.status.busy": "2022-11-30T00:19:15.425968Z",
     "iopub.status.idle": "2022-11-30T00:19:15.452316Z",
     "shell.execute_reply": "2022-11-30T00:19:15.451734Z"
    },
    "papermill": {
     "duration": 0.276978,
     "end_time": "2022-11-30T00:19:15.453160",
     "exception": false,
     "start_time": "2022-11-30T00:19:15.176182",
     "status": "completed"
    },
    "tags": []
   },
   "outputs": [
    {
     "data": {
      "text/plain": [
       "0.00    0.000027\n",
       "0.05    0.002094\n",
       "0.10    0.002945\n",
       "0.15    0.003521\n",
       "0.20    0.004028\n",
       "0.25    0.004496\n",
       "0.30    0.004974\n",
       "0.35    0.005384\n",
       "0.40    0.005782\n",
       "0.45    0.006183\n",
       "0.50    0.006603\n",
       "0.55    0.007040\n",
       "0.60    0.007482\n",
       "0.65    0.007935\n",
       "0.70    0.008495\n",
       "0.75    0.009104\n",
       "0.80    0.009750\n",
       "0.85    0.010564\n",
       "0.90    0.011811\n",
       "0.95    0.014267\n",
       "dtype: float64"
      ]
     },
     "metadata": {},
     "output_type": "display_data"
    }
   ],
   "source": [
    "gene_corrs_quantiles = gene_corrs_flat.quantile(np.arange(0, 1, 0.05))\n",
    "display(gene_corrs_quantiles)"
   ]
  },
  {
   "cell_type": "markdown",
   "id": "87134509-b145-4a10-8bc9-b7e914c2b0fa",
   "metadata": {
    "papermill": {
     "duration": 0.276253,
     "end_time": "2022-11-30T00:19:15.978752",
     "exception": false,
     "start_time": "2022-11-30T00:19:15.702499",
     "status": "completed"
    },
    "tags": []
   },
   "source": [
    "## Positive definiteness"
   ]
  },
  {
   "cell_type": "code",
   "execution_count": 38,
   "id": "07d9a9a1-a4f7-48aa-b916-6d42a8cc6186",
   "metadata": {
    "execution": {
     "iopub.execute_input": "2022-11-30T00:19:16.505014Z",
     "iopub.status.busy": "2022-11-30T00:19:16.504347Z",
     "iopub.status.idle": "2022-11-30T00:19:16.532708Z",
     "shell.execute_reply": "2022-11-30T00:19:16.532186Z"
    },
    "papermill": {
     "duration": 0.308243,
     "end_time": "2022-11-30T00:19:16.533524",
     "exception": false,
     "start_time": "2022-11-30T00:19:16.225281",
     "status": "completed"
    },
    "tags": []
   },
   "outputs": [
    {
     "data": {
      "text/plain": [
       "0"
      ]
     },
     "metadata": {},
     "output_type": "display_data"
    },
    {
     "data": {
      "text/plain": [
       "array([], dtype=float64)"
      ]
     },
     "metadata": {},
     "output_type": "display_data"
    }
   ],
   "source": [
    "# print negative eigenvalues\n",
    "eigs = np.linalg.eigvals(gene_corrs_df.to_numpy())\n",
    "display(len(eigs[eigs < 0]))\n",
    "display(eigs[eigs < 0])"
   ]
  },
  {
   "cell_type": "code",
   "execution_count": 39,
   "id": "6e218436-c3c5-4028-8c94-a4fa6260efce",
   "metadata": {
    "execution": {
     "iopub.execute_input": "2022-11-30T00:19:17.035228Z",
     "iopub.status.busy": "2022-11-30T00:19:17.034647Z",
     "iopub.status.idle": "2022-11-30T00:19:17.058561Z",
     "shell.execute_reply": "2022-11-30T00:19:17.058020Z"
    },
    "papermill": {
     "duration": 0.276833,
     "end_time": "2022-11-30T00:19:17.059396",
     "exception": false,
     "start_time": "2022-11-30T00:19:16.782563",
     "status": "completed"
    },
    "tags": []
   },
   "outputs": [
    {
     "name": "stdout",
     "output_type": "stream",
     "text": [
      "Works!\n"
     ]
    }
   ],
   "source": [
    "try:\n",
    "    chol_mat = np.linalg.cholesky(gene_corrs_df.to_numpy())\n",
    "    cov_inv = np.linalg.inv(chol_mat)\n",
    "    print(\"Works!\")\n",
    "except Exception as e:\n",
    "    print(f\"Cholesky decomposition failed: {str(e)}\")"
   ]
  },
  {
   "cell_type": "code",
   "execution_count": 40,
   "id": "dd8827fb-faf9-4c7c-9454-015e94752706",
   "metadata": {
    "execution": {
     "iopub.execute_input": "2022-11-30T00:19:17.587640Z",
     "iopub.status.busy": "2022-11-30T00:19:17.587215Z",
     "iopub.status.idle": "2022-11-30T00:19:17.610969Z",
     "shell.execute_reply": "2022-11-30T00:19:17.610419Z"
    },
    "papermill": {
     "duration": 0.274958,
     "end_time": "2022-11-30T00:19:17.611855",
     "exception": false,
     "start_time": "2022-11-30T00:19:17.336897",
     "status": "completed"
    },
    "tags": []
   },
   "outputs": [
    {
     "name": "stdout",
     "output_type": "stream",
     "text": [
      "Works!\n"
     ]
    }
   ],
   "source": [
    "try:\n",
    "    # decomposition used by statsmodels.GLS\n",
    "    cholsigmainv = np.linalg.cholesky(np.linalg.inv(gene_corrs_df.to_numpy())).T\n",
    "    print(\"Works!\")\n",
    "except Exception as e:\n",
    "    print(f\"Cholesky decomposition failed (statsmodels.GLS): {str(e)}\")"
   ]
  },
  {
   "cell_type": "markdown",
   "id": "8e60a080-edb2-4e9c-b2ef-22961693200c",
   "metadata": {
    "papermill": {
     "duration": 0.249482,
     "end_time": "2022-11-30T00:19:18.139755",
     "exception": false,
     "start_time": "2022-11-30T00:19:17.890273",
     "status": "completed"
    },
    "tags": []
   },
   "source": [
    "## Plot: distribution"
   ]
  },
  {
   "cell_type": "code",
   "execution_count": 41,
   "id": "8301126b-a7d4-4744-9c7d-f0f86eb6f54c",
   "metadata": {
    "execution": {
     "iopub.execute_input": "2022-11-30T00:19:18.666910Z",
     "iopub.status.busy": "2022-11-30T00:19:18.666632Z",
     "iopub.status.idle": "2022-11-30T00:19:21.284178Z",
     "shell.execute_reply": "2022-11-30T00:19:21.283767Z"
    },
    "papermill": {
     "duration": 2.895607,
     "end_time": "2022-11-30T00:19:21.285707",
     "exception": false,
     "start_time": "2022-11-30T00:19:18.390100",
     "status": "completed"
    },
    "tags": []
   },
   "outputs": [
    {
     "data": {
      "image/png": "[encoded data removed]",
      "text/plain": [
       "<Figure size 700x700 with 1 Axes>"
      ]
     },
     "metadata": {},
     "output_type": "display_data"
    }
   ],
   "source": [
    "with sns.plotting_context(\"paper\", font_scale=1.5):\n",
    "    g = sns.displot(gene_corrs_flat, kde=True, height=7)\n",
    "    g.ax.set_title(\n",
    "        f\"Distribution of gene correlation values in chromosome {CHROMOSOME}\"\n",
    "    )"
   ]
  },
  {
   "cell_type": "markdown",
   "id": "cbd52bca-d878-4a2f-b684-5c83aa3038d4",
   "metadata": {
    "papermill": {
     "duration": 0.282568,
     "end_time": "2022-11-30T00:19:21.860763",
     "exception": false,
     "start_time": "2022-11-30T00:19:21.578195",
     "status": "completed"
    },
    "tags": []
   },
   "source": [
    "## Plot: heatmap"
   ]
  },
  {
   "cell_type": "code",
   "execution_count": 42,
   "id": "d03fe63a-c7b2-4fb9-a53c-db362ce843c9",
   "metadata": {
    "execution": {
     "iopub.execute_input": "2022-11-30T00:19:22.362627Z",
     "iopub.status.busy": "2022-11-30T00:19:22.362199Z",
     "iopub.status.idle": "2022-11-30T00:19:22.383964Z",
     "shell.execute_reply": "2022-11-30T00:19:22.383488Z"
    },
    "papermill": {
     "duration": 0.273176,
     "end_time": "2022-11-30T00:19:22.384712",
     "exception": false,
     "start_time": "2022-11-30T00:19:22.111536",
     "status": "completed"
    },
    "tags": []
   },
   "outputs": [
    {
     "data": {
      "text/plain": [
       "'0.0 / 0.05'"
      ]
     },
     "metadata": {},
     "output_type": "display_data"
    }
   ],
   "source": [
    "vmin_val = min(0.00, gene_corrs_quantiles[0.10])\n",
    "vmax_val = max(0.05, gene_corrs_quantiles[0.90])\n",
    "display(f\"{vmin_val} / {vmax_val}\")"
   ]
  },
  {
   "cell_type": "code",
   "execution_count": 43,
   "id": "dc41b70b-5bcc-4d9e-9f33-a22c4a94dab5",
   "metadata": {
    "execution": {
     "iopub.execute_input": "2022-11-30T00:19:22.922953Z",
     "iopub.status.busy": "2022-11-30T00:19:22.922642Z",
     "iopub.status.idle": "2022-11-30T00:19:23.066669Z",
     "shell.execute_reply": "2022-11-30T00:19:23.066242Z"
    },
    "papermill": {
     "duration": 0.399213,
     "end_time": "2022-11-30T00:19:23.067470",
     "exception": false,
     "start_time": "2022-11-30T00:19:22.668257",
     "status": "completed"
    },
    "tags": []
   },
   "outputs": [
    {
     "data": {
      "text/plain": [
       "Text(0.5, 1.0, 'Gene correlations in chromosome 13')"
      ]
     },
     "execution_count": 43,
     "metadata": {},
     "output_type": "execute_result"
    },
    {
     "data": {
      "image/png": "[encoded data removed]",
      "text/plain": [
       "<Figure size 1000x1000 with 2 Axes>"
      ]
     },
     "metadata": {},
     "output_type": "display_data"
    }
   ],
   "source": [
    "f, ax = plt.subplots(figsize=(10, 10))\n",
    "sns.heatmap(\n",
    "    gene_corrs_df,\n",
    "    xticklabels=False,\n",
    "    yticklabels=False,\n",
    "    square=True,\n",
    "    vmin=vmin_val,\n",
    "    vmax=vmax_val,\n",
    "    cmap=\"rocket_r\",\n",
    "    ax=ax,\n",
    ")\n",
    "ax.set_title(f\"Gene correlations in chromosome {CHROMOSOME}\")"
   ]
  },
  {
   "cell_type": "code",
   "execution_count": null,
   "id": "b25e3ead",
   "metadata": {
    "papermill": {
     "duration": 0.280757,
     "end_time": "2022-11-30T00:19:23.602913",
     "exception": false,
     "start_time": "2022-11-30T00:19:23.322156",
     "status": "completed"
    },
    "tags": []
   },
   "outputs": [],
   "source": []
  }
 ],
 "metadata": {
  "jupytext": {
   "cell_metadata_filter": "all,-execution,-papermill,-trusted",
   "formats": "ipynb,py//py:percent"
  },
  "kernelspec": {
   "display_name": "Python 3 (ipykernel)",
   "language": "python",
   "name": "python3"
  },
  "language_info": {
   "codemirror_mode": {
    "name": "ipython",
    "version": 3
   },
   "file_extension": ".py",
   "mimetype": "text/x-python",
   "name": "python",
   "nbconvert_exporter": "python",
   "pygments_lexer": "ipython3",
   "version": "3.10.6"
  },
  "papermill": {
   "default_parameters": {},
   "duration": 300.54691,
   "end_time": "2022-11-30T00:19:27.125253",
   "environment_variables": {},
   "exception": null,
   "input_path": "projects/asthma-copd/nbs/20_gene_corrs/10-gene_expr_correlations.ipynb",
   "output_path": "projects/asthma-copd/nbs/20_gene_corrs/gene_corrs/copd_only/10-gene_expr_correlations-chr13.run.ipynb",
   "parameters": {
    "CHROMOSOME": 13,
    "COHORT_NAME": "copd_only",
    "OUTPUT_DIR_BASE": "/opt/data/projects/asthma-copd/results/gls_phenoplier"
   },
   "start_time": "2022-11-30T00:14:26.578343",
   "version": "2.2.2"
  }
 },
 "nbformat": 4,
 "nbformat_minor": 5
}
