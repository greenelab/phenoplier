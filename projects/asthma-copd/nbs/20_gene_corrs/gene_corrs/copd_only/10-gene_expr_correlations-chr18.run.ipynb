{
 "cells": [
  {
   "cell_type": "markdown",
   "id": "7a6632fb",
   "metadata": {
    "papermill": {
     "duration": 0.008396,
     "end_time": "2022-11-30T00:32:20.630415",
     "exception": false,
     "start_time": "2022-11-30T00:32:20.622019",
     "status": "completed"
    },
    "tags": []
   },
   "source": [
    "# Description"
   ]
  },
  {
   "cell_type": "markdown",
   "id": "7097c346",
   "metadata": {
    "papermill": {
     "duration": 0.007639,
     "end_time": "2022-11-30T00:32:20.647472",
     "exception": false,
     "start_time": "2022-11-30T00:32:20.639833",
     "status": "completed"
    },
    "tags": []
   },
   "source": [
    "(Please, take a look at the README.md file in this directory for instructions on how to run this notebook)\n",
    "\n",
    "This notebook computes predicted expression correlations between all genes in the MultiPLIER models.\n",
    "\n",
    "It has specicfic parameters for papermill (see under `Settings` below).\n",
    "It can be configured to run on a single chromosome to run in parallel.\n",
    "\n",
    "This notebook is not directly run. See README.md."
   ]
  },
  {
   "cell_type": "markdown",
   "id": "c61d8427",
   "metadata": {
    "papermill": {
     "duration": 0.008421,
     "end_time": "2022-11-30T00:32:20.664228",
     "exception": false,
     "start_time": "2022-11-30T00:32:20.655807",
     "status": "completed"
    },
    "tags": []
   },
   "source": [
    "# Modules"
   ]
  },
  {
   "cell_type": "code",
   "execution_count": 1,
   "id": "bbc0234f",
   "metadata": {
    "execution": {
     "iopub.execute_input": "2022-11-30T00:32:20.681908Z",
     "iopub.status.busy": "2022-11-30T00:32:20.681297Z",
     "iopub.status.idle": "2022-11-30T00:32:20.698980Z",
     "shell.execute_reply": "2022-11-30T00:32:20.698396Z"
    },
    "papermill": {
     "duration": 0.027911,
     "end_time": "2022-11-30T00:32:20.700565",
     "exception": false,
     "start_time": "2022-11-30T00:32:20.672654",
     "status": "completed"
    },
    "tags": []
   },
   "outputs": [],
   "source": [
    "%load_ext autoreload\n",
    "%autoreload 2"
   ]
  },
  {
   "cell_type": "code",
   "execution_count": 2,
   "id": "1d5f5a59",
   "metadata": {
    "execution": {
     "iopub.execute_input": "2022-11-30T00:32:20.718527Z",
     "iopub.status.busy": "2022-11-30T00:32:20.718153Z",
     "iopub.status.idle": "2022-11-30T00:32:21.396266Z",
     "shell.execute_reply": "2022-11-30T00:32:21.395728Z"
    },
    "papermill": {
     "duration": 0.688713,
     "end_time": "2022-11-30T00:32:21.397932",
     "exception": false,
     "start_time": "2022-11-30T00:32:20.709219",
     "status": "completed"
    },
    "tags": []
   },
   "outputs": [],
   "source": [
    "from random import sample, seed\n",
    "import warnings\n",
    "from pathlib import Path\n",
    "import pickle\n",
    "import traceback\n",
    "\n",
    "import numpy as np\n",
    "from scipy.spatial.distance import squareform\n",
    "import pandas as pd\n",
    "from tqdm import tqdm\n",
    "import matplotlib.pyplot as plt\n",
    "import seaborn as sns\n",
    "\n",
    "import conf\n",
    "from entity import Gene"
   ]
  },
  {
   "cell_type": "markdown",
   "id": "1eac24b5",
   "metadata": {
    "papermill": {
     "duration": 0.009737,
     "end_time": "2022-11-30T00:32:21.416924",
     "exception": false,
     "start_time": "2022-11-30T00:32:21.407187",
     "status": "completed"
    },
    "tags": []
   },
   "source": [
    "# Settings"
   ]
  },
  {
   "cell_type": "code",
   "execution_count": 3,
   "id": "ca4560ba",
   "metadata": {
    "execution": {
     "iopub.execute_input": "2022-11-30T00:32:21.435488Z",
     "iopub.status.busy": "2022-11-30T00:32:21.435012Z",
     "iopub.status.idle": "2022-11-30T00:32:21.452905Z",
     "shell.execute_reply": "2022-11-30T00:32:21.452356Z"
    },
    "papermill": {
     "duration": 0.029346,
     "end_time": "2022-11-30T00:32:21.454542",
     "exception": false,
     "start_time": "2022-11-30T00:32:21.425196",
     "status": "completed"
    },
    "tags": [
     "parameters"
    ]
   },
   "outputs": [],
   "source": [
    "# a cohort name (it could be something like UK_BIOBANK, etc)\n",
    "COHORT_NAME = None\n",
    "\n",
    "# reference panel such as 1000G or GTEX_V8\n",
    "REFERENCE_PANEL = \"GTEX_V8\"\n",
    "\n",
    "# predictions models such as MASHR or ELASTIC_NET\n",
    "EQTL_MODEL = \"MASHR\"\n",
    "\n",
    "# this is the default value used in S-MultiXcan to select the\n",
    "# top principal components of the expression correlation matrix\n",
    "SMULTIXCAN_CONDITION_NUMBER = 30\n",
    "\n",
    "# specifies a single chromosome value\n",
    "CHROMOSOME = None\n",
    "\n",
    "# If True, computes the correlation between closeby genes only;\n",
    "# otherwise, it computes correlations for all genes in a chromosome\n",
    "COMPUTE_CORRELATIONS_WITHIN_DISTANCE = False\n",
    "\n",
    "# if True, then it will continue if a gene pair correlation fails,\n",
    "# printing the warning/error for debugging. If False, any warning/error\n",
    "# will be thrown\n",
    "DEBUG_MODE = False\n",
    "\n",
    "# output dir\n",
    "OUTPUT_DIR_BASE = None"
   ]
  },
  {
   "cell_type": "code",
   "execution_count": 4,
   "id": "f51cc3a0",
   "metadata": {
    "execution": {
     "iopub.execute_input": "2022-11-30T00:32:21.474675Z",
     "iopub.status.busy": "2022-11-30T00:32:21.474405Z",
     "iopub.status.idle": "2022-11-30T00:32:21.494439Z",
     "shell.execute_reply": "2022-11-30T00:32:21.493865Z"
    },
    "papermill": {
     "duration": 0.031932,
     "end_time": "2022-11-30T00:32:21.495915",
     "exception": false,
     "start_time": "2022-11-30T00:32:21.463983",
     "status": "completed"
    },
    "tags": [
     "injected-parameters"
    ]
   },
   "outputs": [],
   "source": [
    "# Parameters\n",
    "COHORT_NAME = \"copd_only\"\n",
    "CHROMOSOME = 18\n",
    "OUTPUT_DIR_BASE = \"/opt/data/projects/asthma-copd/results/gls_phenoplier\"\n"
   ]
  },
  {
   "cell_type": "code",
   "execution_count": 5,
   "id": "3190631f-27fc-480f-b18e-571d580425a5",
   "metadata": {
    "execution": {
     "iopub.execute_input": "2022-11-30T00:32:21.513085Z",
     "iopub.status.busy": "2022-11-30T00:32:21.512723Z",
     "iopub.status.idle": "2022-11-30T00:32:21.539110Z",
     "shell.execute_reply": "2022-11-30T00:32:21.538535Z"
    },
    "papermill": {
     "duration": 0.036294,
     "end_time": "2022-11-30T00:32:21.540498",
     "exception": false,
     "start_time": "2022-11-30T00:32:21.504204",
     "status": "completed"
    },
    "tags": []
   },
   "outputs": [
    {
     "data": {
      "text/plain": [
       "'Cohort name: copd_only'"
      ]
     },
     "metadata": {},
     "output_type": "display_data"
    }
   ],
   "source": [
    "assert COHORT_NAME is not None and len(COHORT_NAME) > 0, \"A cohort name must be given\"\n",
    "\n",
    "COHORT_NAME = COHORT_NAME.lower()\n",
    "display(f\"Cohort name: {COHORT_NAME}\")"
   ]
  },
  {
   "cell_type": "code",
   "execution_count": 6,
   "id": "f53ba19b-0f93-4fa2-a047-63b375939d1a",
   "metadata": {
    "execution": {
     "iopub.execute_input": "2022-11-30T00:32:21.557923Z",
     "iopub.status.busy": "2022-11-30T00:32:21.557580Z",
     "iopub.status.idle": "2022-11-30T00:32:21.578802Z",
     "shell.execute_reply": "2022-11-30T00:32:21.578221Z"
    },
    "papermill": {
     "duration": 0.031311,
     "end_time": "2022-11-30T00:32:21.580234",
     "exception": false,
     "start_time": "2022-11-30T00:32:21.548923",
     "status": "completed"
    },
    "tags": []
   },
   "outputs": [
    {
     "data": {
      "text/plain": [
       "'Reference panel: GTEX_V8'"
      ]
     },
     "metadata": {},
     "output_type": "display_data"
    }
   ],
   "source": [
    "assert (\n",
    "    REFERENCE_PANEL is not None and len(REFERENCE_PANEL) > 0\n",
    "), \"A reference panel must be given\"\n",
    "\n",
    "display(f\"Reference panel: {REFERENCE_PANEL}\")"
   ]
  },
  {
   "cell_type": "code",
   "execution_count": 7,
   "id": "e024d130-c139-429a-9c6e-ccf149e297b0",
   "metadata": {
    "execution": {
     "iopub.execute_input": "2022-11-30T00:32:21.598475Z",
     "iopub.status.busy": "2022-11-30T00:32:21.597910Z",
     "iopub.status.idle": "2022-11-30T00:32:21.619633Z",
     "shell.execute_reply": "2022-11-30T00:32:21.618999Z"
    },
    "papermill": {
     "duration": 0.031917,
     "end_time": "2022-11-30T00:32:21.621002",
     "exception": false,
     "start_time": "2022-11-30T00:32:21.589085",
     "status": "completed"
    },
    "tags": []
   },
   "outputs": [
    {
     "data": {
      "text/plain": [
       "'eQTL model: MASHR) / mashr_'"
      ]
     },
     "metadata": {},
     "output_type": "display_data"
    }
   ],
   "source": [
    "assert (\n",
    "    EQTL_MODEL is not None and len(EQTL_MODEL) > 0\n",
    "), \"A prediction/eQTL model must be given\"\n",
    "\n",
    "EQTL_MODEL_FILES_PREFIX = conf.PHENOMEXCAN[\"PREDICTION_MODELS\"][f\"{EQTL_MODEL}_PREFIX\"]\n",
    "display(f\"eQTL model: {EQTL_MODEL}) / {EQTL_MODEL_FILES_PREFIX}\")"
   ]
  },
  {
   "cell_type": "code",
   "execution_count": 8,
   "id": "552a7f63-a18c-4d3e-bb6a-94f99b431291",
   "metadata": {
    "execution": {
     "iopub.execute_input": "2022-11-30T00:32:21.638678Z",
     "iopub.status.busy": "2022-11-30T00:32:21.638342Z",
     "iopub.status.idle": "2022-11-30T00:32:21.659614Z",
     "shell.execute_reply": "2022-11-30T00:32:21.659039Z"
    },
    "papermill": {
     "duration": 0.031627,
     "end_time": "2022-11-30T00:32:21.661043",
     "exception": false,
     "start_time": "2022-11-30T00:32:21.629416",
     "status": "completed"
    },
    "tags": []
   },
   "outputs": [
    {
     "data": {
      "text/plain": [
       "'S-MultiXcan condition number: 30'"
      ]
     },
     "metadata": {},
     "output_type": "display_data"
    }
   ],
   "source": [
    "assert (\n",
    "    SMULTIXCAN_CONDITION_NUMBER is not None and SMULTIXCAN_CONDITION_NUMBER > 0\n",
    "), \"The S-MultiXcan condition number (positive integer) must be given\"\n",
    "\n",
    "display(f\"S-MultiXcan condition number: {SMULTIXCAN_CONDITION_NUMBER}\")"
   ]
  },
  {
   "cell_type": "code",
   "execution_count": 9,
   "id": "f34a336f-548e-4afe-8955-90eaea4f42c6",
   "metadata": {
    "execution": {
     "iopub.execute_input": "2022-11-30T00:32:21.679326Z",
     "iopub.status.busy": "2022-11-30T00:32:21.679067Z",
     "iopub.status.idle": "2022-11-30T00:32:21.700334Z",
     "shell.execute_reply": "2022-11-30T00:32:21.699751Z"
    },
    "papermill": {
     "duration": 0.031712,
     "end_time": "2022-11-30T00:32:21.701757",
     "exception": false,
     "start_time": "2022-11-30T00:32:21.670045",
     "status": "completed"
    },
    "tags": []
   },
   "outputs": [
    {
     "data": {
      "text/plain": [
       "'Working on chromosome 18'"
      ]
     },
     "metadata": {},
     "output_type": "display_data"
    }
   ],
   "source": [
    "assert CHROMOSOME is not None and (\n",
    "    1 <= CHROMOSOME <= 22\n",
    "), \"You have to select one chromosome (format: number between 1 and 22)\"\n",
    "\n",
    "# CHROMOSOME = str(CHROMOSOME)\n",
    "display(f\"Working on chromosome {CHROMOSOME}\")"
   ]
  },
  {
   "cell_type": "code",
   "execution_count": 10,
   "id": "ab8e96e8-06b5-4363-9dcd-dc4d78cc27f7",
   "metadata": {
    "execution": {
     "iopub.execute_input": "2022-11-30T00:32:21.719843Z",
     "iopub.status.busy": "2022-11-30T00:32:21.719581Z",
     "iopub.status.idle": "2022-11-30T00:32:21.740985Z",
     "shell.execute_reply": "2022-11-30T00:32:21.740400Z"
    },
    "papermill": {
     "duration": 0.031948,
     "end_time": "2022-11-30T00:32:21.742409",
     "exception": false,
     "start_time": "2022-11-30T00:32:21.710461",
     "status": "completed"
    },
    "tags": []
   },
   "outputs": [
    {
     "data": {
      "text/plain": [
       "'Compute correlation within distance False'"
      ]
     },
     "metadata": {},
     "output_type": "display_data"
    }
   ],
   "source": [
    "display(f\"Compute correlation within distance {COMPUTE_CORRELATIONS_WITHIN_DISTANCE}\")"
   ]
  },
  {
   "cell_type": "code",
   "execution_count": 11,
   "id": "b393b698-77e3-4ba2-8ac1-e14d51aa988f",
   "metadata": {
    "execution": {
     "iopub.execute_input": "2022-11-30T00:32:21.761328Z",
     "iopub.status.busy": "2022-11-30T00:32:21.761059Z",
     "iopub.status.idle": "2022-11-30T00:32:21.783224Z",
     "shell.execute_reply": "2022-11-30T00:32:21.782639Z"
    },
    "papermill": {
     "duration": 0.033448,
     "end_time": "2022-11-30T00:32:21.784646",
     "exception": false,
     "start_time": "2022-11-30T00:32:21.751198",
     "status": "completed"
    },
    "tags": []
   },
   "outputs": [
    {
     "data": {
      "text/plain": [
       "'Using output dir base: /opt/data/projects/asthma-copd/results/gls_phenoplier/gene_corrs/copd_only'"
      ]
     },
     "metadata": {},
     "output_type": "display_data"
    }
   ],
   "source": [
    "assert (\n",
    "    OUTPUT_DIR_BASE is not None and len(OUTPUT_DIR_BASE) > 0\n",
    "), \"Output directory path must be given\"\n",
    "\n",
    "OUTPUT_DIR_BASE = (\n",
    "    Path(OUTPUT_DIR_BASE)\n",
    "    / \"gene_corrs\"\n",
    "    / COHORT_NAME\n",
    "    # / REFERENCE_PANEL.lower()\n",
    "    # / EQTL_MODEL.lower()\n",
    ").resolve()\n",
    "\n",
    "OUTPUT_DIR_BASE.mkdir(parents=True, exist_ok=True)\n",
    "\n",
    "display(f\"Using output dir base: {OUTPUT_DIR_BASE}\")"
   ]
  },
  {
   "cell_type": "markdown",
   "id": "d2ba085e",
   "metadata": {
    "papermill": {
     "duration": 0.008644,
     "end_time": "2022-11-30T00:32:21.802441",
     "exception": false,
     "start_time": "2022-11-30T00:32:21.793797",
     "status": "completed"
    },
    "tags": []
   },
   "source": [
    "# Load data"
   ]
  },
  {
   "cell_type": "markdown",
   "id": "7dcb8db7",
   "metadata": {
    "papermill": {
     "duration": 0.008628,
     "end_time": "2022-11-30T00:32:21.819862",
     "exception": false,
     "start_time": "2022-11-30T00:32:21.811234",
     "status": "completed"
    },
    "tags": []
   },
   "source": [
    "## GWAS variants"
   ]
  },
  {
   "cell_type": "code",
   "execution_count": 12,
   "id": "29434c4e-8cd3-4b9b-82e4-b5a251d9dd19",
   "metadata": {
    "execution": {
     "iopub.execute_input": "2022-11-30T00:32:21.838833Z",
     "iopub.status.busy": "2022-11-30T00:32:21.838438Z",
     "iopub.status.idle": "2022-11-30T00:32:23.830939Z",
     "shell.execute_reply": "2022-11-30T00:32:23.830396Z"
    },
    "papermill": {
     "duration": 2.003631,
     "end_time": "2022-11-30T00:32:23.832678",
     "exception": false,
     "start_time": "2022-11-30T00:32:21.829047",
     "status": "completed"
    },
    "tags": []
   },
   "outputs": [],
   "source": [
    "with open(OUTPUT_DIR_BASE / \"gwas_variant_ids.pkl\", \"rb\") as handle:\n",
    "    gwas_variants_ids_set = pickle.load(handle)"
   ]
  },
  {
   "cell_type": "code",
   "execution_count": 13,
   "id": "b9d9dec2-4a76-4bf9-bde2-e24c95acb8a0",
   "metadata": {
    "execution": {
     "iopub.execute_input": "2022-11-30T00:32:23.848294Z",
     "iopub.status.busy": "2022-11-30T00:32:23.848125Z",
     "iopub.status.idle": "2022-11-30T00:32:23.861558Z",
     "shell.execute_reply": "2022-11-30T00:32:23.861120Z"
    },
    "papermill": {
     "duration": 0.024634,
     "end_time": "2022-11-30T00:32:23.862621",
     "exception": false,
     "start_time": "2022-11-30T00:32:23.837987",
     "status": "completed"
    },
    "tags": []
   },
   "outputs": [
    {
     "data": {
      "text/plain": [
       "8586183"
      ]
     },
     "execution_count": 13,
     "metadata": {},
     "output_type": "execute_result"
    }
   ],
   "source": [
    "len(gwas_variants_ids_set)"
   ]
  },
  {
   "cell_type": "code",
   "execution_count": 14,
   "id": "4235b06a-6034-4ee4-a0a3-2ae35d122418",
   "metadata": {
    "execution": {
     "iopub.execute_input": "2022-11-30T00:32:23.879265Z",
     "iopub.status.busy": "2022-11-30T00:32:23.879103Z",
     "iopub.status.idle": "2022-11-30T00:32:24.249451Z",
     "shell.execute_reply": "2022-11-30T00:32:24.248907Z"
    },
    "papermill": {
     "duration": 0.380388,
     "end_time": "2022-11-30T00:32:24.250906",
     "exception": false,
     "start_time": "2022-11-30T00:32:23.870518",
     "status": "completed"
    },
    "tags": []
   },
   "outputs": [
    {
     "data": {
      "text/plain": [
       "['chr12_69547291_C_T_b38',\n",
       " 'chr2_138949534_C_T_b38',\n",
       " 'chr4_149997829_A_G_b38',\n",
       " 'chr2_101094319_G_A_b38',\n",
       " 'chr17_4455788_A_G_b38']"
      ]
     },
     "execution_count": 14,
     "metadata": {},
     "output_type": "execute_result"
    }
   ],
   "source": [
    "list(gwas_variants_ids_set)[:5]"
   ]
  },
  {
   "cell_type": "markdown",
   "id": "07866999-2305-41f9-a144-e69c9122c212",
   "metadata": {
    "papermill": {
     "duration": 0.009723,
     "end_time": "2022-11-30T00:32:24.270575",
     "exception": false,
     "start_time": "2022-11-30T00:32:24.260852",
     "status": "completed"
    },
    "tags": []
   },
   "source": [
    "## S-PrediXcan tissue models"
   ]
  },
  {
   "cell_type": "code",
   "execution_count": 15,
   "id": "780611d9-77c8-405f-90a4-f271f7b09397",
   "metadata": {
    "execution": {
     "iopub.execute_input": "2022-11-30T00:32:24.291351Z",
     "iopub.status.busy": "2022-11-30T00:32:24.291223Z",
     "iopub.status.idle": "2022-11-30T00:32:24.890632Z",
     "shell.execute_reply": "2022-11-30T00:32:24.890035Z"
    },
    "papermill": {
     "duration": 0.611781,
     "end_time": "2022-11-30T00:32:24.892266",
     "exception": false,
     "start_time": "2022-11-30T00:32:24.280485",
     "status": "completed"
    },
    "tags": []
   },
   "outputs": [],
   "source": [
    "spredixcan_genes_models = pd.read_pickle(OUTPUT_DIR_BASE / \"gene_tissues.pkl\")"
   ]
  },
  {
   "cell_type": "code",
   "execution_count": 16,
   "id": "726dd1f6-9557-4225-91fa-b3b879ea96e1",
   "metadata": {
    "execution": {
     "iopub.execute_input": "2022-11-30T00:32:24.912741Z",
     "iopub.status.busy": "2022-11-30T00:32:24.912615Z",
     "iopub.status.idle": "2022-11-30T00:32:24.926305Z",
     "shell.execute_reply": "2022-11-30T00:32:24.925851Z"
    },
    "papermill": {
     "duration": 0.025382,
     "end_time": "2022-11-30T00:32:24.927698",
     "exception": false,
     "start_time": "2022-11-30T00:32:24.902316",
     "status": "completed"
    },
    "tags": []
   },
   "outputs": [
    {
     "data": {
      "text/plain": [
       "(6443, 5)"
      ]
     },
     "execution_count": 16,
     "metadata": {},
     "output_type": "execute_result"
    }
   ],
   "source": [
    "spredixcan_genes_models.shape"
   ]
  },
  {
   "cell_type": "code",
   "execution_count": 17,
   "id": "944a1b48-222c-4eb0-b252-b9de2cbca215",
   "metadata": {
    "execution": {
     "iopub.execute_input": "2022-11-30T00:32:24.948908Z",
     "iopub.status.busy": "2022-11-30T00:32:24.948785Z",
     "iopub.status.idle": "2022-11-30T00:32:24.966648Z",
     "shell.execute_reply": "2022-11-30T00:32:24.966139Z"
    },
    "papermill": {
     "duration": 0.030329,
     "end_time": "2022-11-30T00:32:24.968081",
     "exception": false,
     "start_time": "2022-11-30T00:32:24.937752",
     "status": "completed"
    },
    "tags": []
   },
   "outputs": [
    {
     "data": {
      "text/html": [
       "<div>\n",
       "<style scoped>\n",
       "    .dataframe tbody tr th:only-of-type {\n",
       "        vertical-align: middle;\n",
       "    }\n",
       "\n",
       "    .dataframe tbody tr th {\n",
       "        vertical-align: top;\n",
       "    }\n",
       "\n",
       "    .dataframe thead th {\n",
       "        text-align: right;\n",
       "    }\n",
       "</style>\n",
       "<table border=\"1\" class=\"dataframe\">\n",
       "  <thead>\n",
       "    <tr style=\"text-align: right;\">\n",
       "      <th></th>\n",
       "      <th>gene_name</th>\n",
       "      <th>tissue</th>\n",
       "      <th>n_tissues</th>\n",
       "      <th>n_snps_used_sum</th>\n",
       "      <th>n_snps_in_model_sum</th>\n",
       "    </tr>\n",
       "    <tr>\n",
       "      <th>gene_id</th>\n",
       "      <th></th>\n",
       "      <th></th>\n",
       "      <th></th>\n",
       "      <th></th>\n",
       "      <th></th>\n",
       "    </tr>\n",
       "  </thead>\n",
       "  <tbody>\n",
       "    <tr>\n",
       "      <th>ENSG00000000419</th>\n",
       "      <td>DPM1</td>\n",
       "      <td>(Brain_Substantia_nigra, Brain_Hypothalamus)</td>\n",
       "      <td>2</td>\n",
       "      <td>2</td>\n",
       "      <td>2</td>\n",
       "    </tr>\n",
       "    <tr>\n",
       "      <th>ENSG00000000938</th>\n",
       "      <td>FGR</td>\n",
       "      <td>(Esophagus_Gastroesophageal_Junction, Brain_An...</td>\n",
       "      <td>36</td>\n",
       "      <td>40</td>\n",
       "      <td>40</td>\n",
       "    </tr>\n",
       "    <tr>\n",
       "      <th>ENSG00000000971</th>\n",
       "      <td>CFH</td>\n",
       "      <td>(Cells_Cultured_fibroblasts, Esophagus_Gastroe...</td>\n",
       "      <td>34</td>\n",
       "      <td>44</td>\n",
       "      <td>44</td>\n",
       "    </tr>\n",
       "    <tr>\n",
       "      <th>ENSG00000001084</th>\n",
       "      <td>GCLC</td>\n",
       "      <td>(Cells_Cultured_fibroblasts, Brain_Anterior_ci...</td>\n",
       "      <td>32</td>\n",
       "      <td>46</td>\n",
       "      <td>46</td>\n",
       "    </tr>\n",
       "    <tr>\n",
       "      <th>ENSG00000001167</th>\n",
       "      <td>NFYA</td>\n",
       "      <td>(Cells_Cultured_fibroblasts, Esophagus_Gastroe...</td>\n",
       "      <td>40</td>\n",
       "      <td>47</td>\n",
       "      <td>48</td>\n",
       "    </tr>\n",
       "  </tbody>\n",
       "</table>\n",
       "</div>"
      ],
      "text/plain": [
       "                gene_name                                             tissue  \\\n",
       "gene_id                                                                        \n",
       "ENSG00000000419      DPM1       (Brain_Substantia_nigra, Brain_Hypothalamus)   \n",
       "ENSG00000000938       FGR  (Esophagus_Gastroesophageal_Junction, Brain_An...   \n",
       "ENSG00000000971       CFH  (Cells_Cultured_fibroblasts, Esophagus_Gastroe...   \n",
       "ENSG00000001084      GCLC  (Cells_Cultured_fibroblasts, Brain_Anterior_ci...   \n",
       "ENSG00000001167      NFYA  (Cells_Cultured_fibroblasts, Esophagus_Gastroe...   \n",
       "\n",
       "                 n_tissues  n_snps_used_sum  n_snps_in_model_sum  \n",
       "gene_id                                                           \n",
       "ENSG00000000419          2                2                    2  \n",
       "ENSG00000000938         36               40                   40  \n",
       "ENSG00000000971         34               44                   44  \n",
       "ENSG00000001084         32               46                   46  \n",
       "ENSG00000001167         40               47                   48  "
      ]
     },
     "execution_count": 17,
     "metadata": {},
     "output_type": "execute_result"
    }
   ],
   "source": [
    "spredixcan_genes_models.head()"
   ]
  },
  {
   "cell_type": "code",
   "execution_count": 18,
   "id": "d1c11bb1-be0b-4f40-b360-633d6827109f",
   "metadata": {
    "execution": {
     "iopub.execute_input": "2022-11-30T00:32:24.989449Z",
     "iopub.status.busy": "2022-11-30T00:32:24.989315Z",
     "iopub.status.idle": "2022-11-30T00:32:25.002614Z",
     "shell.execute_reply": "2022-11-30T00:32:25.002101Z"
    },
    "papermill": {
     "duration": 0.025532,
     "end_time": "2022-11-30T00:32:25.003986",
     "exception": false,
     "start_time": "2022-11-30T00:32:24.978454",
     "status": "completed"
    },
    "tags": []
   },
   "outputs": [],
   "source": [
    "assert spredixcan_genes_models.index.is_unique"
   ]
  },
  {
   "cell_type": "markdown",
   "id": "a5b5092c-a13e-47c4-a92a-480fcc08f3ae",
   "metadata": {
    "papermill": {
     "duration": 0.010637,
     "end_time": "2022-11-30T00:32:25.025000",
     "exception": false,
     "start_time": "2022-11-30T00:32:25.014363",
     "status": "completed"
    },
    "tags": []
   },
   "source": [
    "## Gene info"
   ]
  },
  {
   "cell_type": "code",
   "execution_count": 19,
   "id": "7d6bb224-88e9-4358-ac10-43a41d92cdad",
   "metadata": {
    "execution": {
     "iopub.execute_input": "2022-11-30T00:32:25.045872Z",
     "iopub.status.busy": "2022-11-30T00:32:25.045646Z",
     "iopub.status.idle": "2022-11-30T00:32:25.064658Z",
     "shell.execute_reply": "2022-11-30T00:32:25.064041Z"
    },
    "papermill": {
     "duration": 0.031188,
     "end_time": "2022-11-30T00:32:25.066280",
     "exception": false,
     "start_time": "2022-11-30T00:32:25.035092",
     "status": "completed"
    },
    "tags": []
   },
   "outputs": [],
   "source": [
    "genes_info = pd.read_pickle(OUTPUT_DIR_BASE / \"genes_info.pkl\")"
   ]
  },
  {
   "cell_type": "code",
   "execution_count": 20,
   "id": "9e32abfa-546d-483e-8c18-d526e9e05903",
   "metadata": {
    "execution": {
     "iopub.execute_input": "2022-11-30T00:32:25.090812Z",
     "iopub.status.busy": "2022-11-30T00:32:25.090570Z",
     "iopub.status.idle": "2022-11-30T00:32:25.111957Z",
     "shell.execute_reply": "2022-11-30T00:32:25.111328Z"
    },
    "papermill": {
     "duration": 0.035213,
     "end_time": "2022-11-30T00:32:25.113411",
     "exception": false,
     "start_time": "2022-11-30T00:32:25.078198",
     "status": "completed"
    },
    "tags": []
   },
   "outputs": [
    {
     "data": {
      "text/plain": [
       "(6443, 7)"
      ]
     },
     "execution_count": 20,
     "metadata": {},
     "output_type": "execute_result"
    }
   ],
   "source": [
    "genes_info.shape"
   ]
  },
  {
   "cell_type": "code",
   "execution_count": 21,
   "id": "d16c3e92-85ec-468a-9a56-e25a9774a1cb",
   "metadata": {
    "execution": {
     "iopub.execute_input": "2022-11-30T00:32:25.134278Z",
     "iopub.status.busy": "2022-11-30T00:32:25.133810Z",
     "iopub.status.idle": "2022-11-30T00:32:25.159205Z",
     "shell.execute_reply": "2022-11-30T00:32:25.158562Z"
    },
    "papermill": {
     "duration": 0.037266,
     "end_time": "2022-11-30T00:32:25.160648",
     "exception": false,
     "start_time": "2022-11-30T00:32:25.123382",
     "status": "completed"
    },
    "tags": []
   },
   "outputs": [
    {
     "data": {
      "text/html": [
       "<div>\n",
       "<style scoped>\n",
       "    .dataframe tbody tr th:only-of-type {\n",
       "        vertical-align: middle;\n",
       "    }\n",
       "\n",
       "    .dataframe tbody tr th {\n",
       "        vertical-align: top;\n",
       "    }\n",
       "\n",
       "    .dataframe thead th {\n",
       "        text-align: right;\n",
       "    }\n",
       "</style>\n",
       "<table border=\"1\" class=\"dataframe\">\n",
       "  <thead>\n",
       "    <tr style=\"text-align: right;\">\n",
       "      <th></th>\n",
       "      <th>name</th>\n",
       "      <th>id</th>\n",
       "      <th>chr</th>\n",
       "      <th>band</th>\n",
       "      <th>start_position</th>\n",
       "      <th>end_position</th>\n",
       "      <th>gene_length</th>\n",
       "    </tr>\n",
       "  </thead>\n",
       "  <tbody>\n",
       "    <tr>\n",
       "      <th>0</th>\n",
       "      <td>PPP1R13B</td>\n",
       "      <td>ENSG00000088808</td>\n",
       "      <td>14</td>\n",
       "      <td>14q32.33</td>\n",
       "      <td>103733195</td>\n",
       "      <td>103847590</td>\n",
       "      <td>114395</td>\n",
       "    </tr>\n",
       "    <tr>\n",
       "      <th>1</th>\n",
       "      <td>HNRNPA0</td>\n",
       "      <td>ENSG00000177733</td>\n",
       "      <td>5</td>\n",
       "      <td>5q31.2</td>\n",
       "      <td>137745651</td>\n",
       "      <td>137754376</td>\n",
       "      <td>8725</td>\n",
       "    </tr>\n",
       "    <tr>\n",
       "      <th>2</th>\n",
       "      <td>GSN</td>\n",
       "      <td>ENSG00000148180</td>\n",
       "      <td>9</td>\n",
       "      <td>9q33.2</td>\n",
       "      <td>121207794</td>\n",
       "      <td>121332843</td>\n",
       "      <td>125049</td>\n",
       "    </tr>\n",
       "    <tr>\n",
       "      <th>3</th>\n",
       "      <td>CCR3</td>\n",
       "      <td>ENSG00000183625</td>\n",
       "      <td>3</td>\n",
       "      <td>3p21.31</td>\n",
       "      <td>46163604</td>\n",
       "      <td>46266706</td>\n",
       "      <td>103102</td>\n",
       "    </tr>\n",
       "    <tr>\n",
       "      <th>4</th>\n",
       "      <td>TRIB2</td>\n",
       "      <td>ENSG00000071575</td>\n",
       "      <td>2</td>\n",
       "      <td>2p24.3</td>\n",
       "      <td>12716889</td>\n",
       "      <td>12742734</td>\n",
       "      <td>25845</td>\n",
       "    </tr>\n",
       "  </tbody>\n",
       "</table>\n",
       "</div>"
      ],
      "text/plain": [
       "       name               id  chr      band  start_position  end_position  \\\n",
       "0  PPP1R13B  ENSG00000088808   14  14q32.33       103733195     103847590   \n",
       "1   HNRNPA0  ENSG00000177733    5    5q31.2       137745651     137754376   \n",
       "2       GSN  ENSG00000148180    9    9q33.2       121207794     121332843   \n",
       "3      CCR3  ENSG00000183625    3   3p21.31        46163604      46266706   \n",
       "4     TRIB2  ENSG00000071575    2    2p24.3        12716889      12742734   \n",
       "\n",
       "   gene_length  \n",
       "0       114395  \n",
       "1         8725  \n",
       "2       125049  \n",
       "3       103102  \n",
       "4        25845  "
      ]
     },
     "execution_count": 21,
     "metadata": {},
     "output_type": "execute_result"
    }
   ],
   "source": [
    "genes_info.head()"
   ]
  },
  {
   "cell_type": "markdown",
   "id": "d3843e06",
   "metadata": {
    "papermill": {
     "duration": 0.010617,
     "end_time": "2022-11-30T00:32:25.181535",
     "exception": false,
     "start_time": "2022-11-30T00:32:25.170918",
     "status": "completed"
    },
    "tags": []
   },
   "source": [
    "# Compute correlations"
   ]
  },
  {
   "cell_type": "code",
   "execution_count": 22,
   "id": "cb859c15-d1f3-4006-a74c-2b83c0db9611",
   "metadata": {
    "execution": {
     "iopub.execute_input": "2022-11-30T00:32:25.202690Z",
     "iopub.status.busy": "2022-11-30T00:32:25.202329Z",
     "iopub.status.idle": "2022-11-30T00:32:25.224151Z",
     "shell.execute_reply": "2022-11-30T00:32:25.223477Z"
    },
    "papermill": {
     "duration": 0.03376,
     "end_time": "2022-11-30T00:32:25.225517",
     "exception": false,
     "start_time": "2022-11-30T00:32:25.191757",
     "status": "completed"
    },
    "tags": []
   },
   "outputs": [
    {
     "data": {
      "text/plain": [
       "PosixPath('/opt/data/projects/asthma-copd/results/gls_phenoplier/gene_corrs/copd_only/by_chr/gene_corrs-chr18.pkl')"
      ]
     },
     "metadata": {},
     "output_type": "display_data"
    }
   ],
   "source": [
    "output_dir = OUTPUT_DIR_BASE / \"by_chr\"\n",
    "output_dir.mkdir(exist_ok=True, parents=True)\n",
    "output_file = output_dir / f\"gene_corrs-chr{CHROMOSOME}.pkl\"\n",
    "display(output_file)"
   ]
  },
  {
   "cell_type": "code",
   "execution_count": 23,
   "id": "aa674fe4-6794-4eed-98fa-32b39d1d4ace",
   "metadata": {
    "execution": {
     "iopub.execute_input": "2022-11-30T00:32:25.247066Z",
     "iopub.status.busy": "2022-11-30T00:32:25.246803Z",
     "iopub.status.idle": "2022-11-30T00:32:25.267072Z",
     "shell.execute_reply": "2022-11-30T00:32:25.266434Z"
    },
    "papermill": {
     "duration": 0.032421,
     "end_time": "2022-11-30T00:32:25.268543",
     "exception": false,
     "start_time": "2022-11-30T00:32:25.236122",
     "status": "completed"
    },
    "tags": []
   },
   "outputs": [],
   "source": [
    "warnings.filterwarnings(\"error\")"
   ]
  },
  {
   "cell_type": "code",
   "execution_count": 24,
   "id": "44d5450b-3baf-43f1-9e2e-4b06f1a785f8",
   "metadata": {
    "execution": {
     "iopub.execute_input": "2022-11-30T00:32:25.289903Z",
     "iopub.status.busy": "2022-11-30T00:32:25.289552Z",
     "iopub.status.idle": "2022-11-30T00:32:25.310262Z",
     "shell.execute_reply": "2022-11-30T00:32:25.309634Z"
    },
    "papermill": {
     "duration": 0.032917,
     "end_time": "2022-11-30T00:32:25.311737",
     "exception": false,
     "start_time": "2022-11-30T00:32:25.278820",
     "status": "completed"
    },
    "tags": []
   },
   "outputs": [],
   "source": [
    "# standard checks\n",
    "all_chrs = genes_info[\"chr\"].dropna().unique()\n",
    "assert all_chrs.shape[0] == 22\n",
    "\n",
    "# select chromosome given by the user\n",
    "assert CHROMOSOME in all_chrs"
   ]
  },
  {
   "cell_type": "code",
   "execution_count": 25,
   "id": "2d7c043c-92a7-4d35-991b-fa69ac1e0268",
   "metadata": {
    "execution": {
     "iopub.execute_input": "2022-11-30T00:32:25.333927Z",
     "iopub.status.busy": "2022-11-30T00:32:25.333569Z",
     "iopub.status.idle": "2022-11-30T00:32:25.355992Z",
     "shell.execute_reply": "2022-11-30T00:32:25.355317Z"
    },
    "papermill": {
     "duration": 0.034538,
     "end_time": "2022-11-30T00:32:25.357363",
     "exception": false,
     "start_time": "2022-11-30T00:32:25.322825",
     "status": "completed"
    },
    "tags": []
   },
   "outputs": [
    {
     "name": "stdout",
     "output_type": "stream",
     "text": [
      "Number of genes in chromosome: 96\n"
     ]
    }
   ],
   "source": [
    "# run only on the chromosome specified\n",
    "all_chrs = [CHROMOSOME]\n",
    "genes_chr = genes_info[genes_info[\"chr\"] == CHROMOSOME]\n",
    "\n",
    "# For testing purposes\n",
    "# genes_chr = genes_chr.sample(n=20)\n",
    "\n",
    "print(f\"Number of genes in chromosome: {genes_chr.shape[0]}\", flush=True)"
   ]
  },
  {
   "cell_type": "code",
   "execution_count": 26,
   "id": "916015d8-2979-46d3-a9b9-1cf5a0932c6a",
   "metadata": {
    "execution": {
     "iopub.execute_input": "2022-11-30T00:32:25.379229Z",
     "iopub.status.busy": "2022-11-30T00:32:25.378962Z",
     "iopub.status.idle": "2022-11-30T00:32:25.399919Z",
     "shell.execute_reply": "2022-11-30T00:32:25.399247Z"
    },
    "papermill": {
     "duration": 0.033722,
     "end_time": "2022-11-30T00:32:25.401453",
     "exception": false,
     "start_time": "2022-11-30T00:32:25.367731",
     "status": "completed"
    },
    "tags": []
   },
   "outputs": [],
   "source": [
    "# sort genes by starting position to make visualizations better later\n",
    "genes_chr = genes_chr.sort_values(\"start_position\")"
   ]
  },
  {
   "cell_type": "code",
   "execution_count": 27,
   "id": "a38aa74a-8ad3-47f6-8ef9-56be0e011774",
   "metadata": {
    "execution": {
     "iopub.execute_input": "2022-11-30T00:32:25.424197Z",
     "iopub.status.busy": "2022-11-30T00:32:25.423839Z",
     "iopub.status.idle": "2022-11-30T00:32:25.444551Z",
     "shell.execute_reply": "2022-11-30T00:32:25.443875Z"
    },
    "papermill": {
     "duration": 0.034123,
     "end_time": "2022-11-30T00:32:25.446009",
     "exception": false,
     "start_time": "2022-11-30T00:32:25.411886",
     "status": "completed"
    },
    "tags": []
   },
   "outputs": [],
   "source": [
    "gene_chr_objs = [Gene(ensembl_id=gene_id) for gene_id in genes_chr[\"id\"]]"
   ]
  },
  {
   "cell_type": "code",
   "execution_count": 28,
   "id": "570f974f-13c3-42b6-ad3a-ce99ca885c1a",
   "metadata": {
    "execution": {
     "iopub.execute_input": "2022-11-30T00:32:25.468221Z",
     "iopub.status.busy": "2022-11-30T00:32:25.467956Z",
     "iopub.status.idle": "2022-11-30T00:32:25.488898Z",
     "shell.execute_reply": "2022-11-30T00:32:25.488283Z"
    },
    "papermill": {
     "duration": 0.033267,
     "end_time": "2022-11-30T00:32:25.490238",
     "exception": false,
     "start_time": "2022-11-30T00:32:25.456971",
     "status": "completed"
    },
    "tags": []
   },
   "outputs": [
    {
     "name": "stdout",
     "output_type": "stream",
     "text": [
      "Number of gene combinations: 4656\n"
     ]
    }
   ],
   "source": [
    "n = len(gene_chr_objs)\n",
    "# diagonal elements + upper triangular matrix\n",
    "n_comb = n + int(n * (n - 1) / 2.0)\n",
    "print(f\"Number of gene combinations: {n_comb}\", flush=True)"
   ]
  },
  {
   "cell_type": "code",
   "execution_count": 29,
   "id": "cdbb90a1",
   "metadata": {
    "execution": {
     "iopub.execute_input": "2022-11-30T00:32:25.512989Z",
     "iopub.status.busy": "2022-11-30T00:32:25.512634Z",
     "iopub.status.idle": "2022-11-30T00:35:57.114844Z",
     "shell.execute_reply": "2022-11-30T00:35:57.114288Z"
    },
    "papermill": {
     "duration": 211.61489,
     "end_time": "2022-11-30T00:35:57.116037",
     "exception": false,
     "start_time": "2022-11-30T00:32:25.501147",
     "status": "completed"
    },
    "tags": []
   },
   "outputs": [
    {
     "name": "stderr",
     "output_type": "stream",
     "text": [
      "ENSG00000178184 / ENSG00000178184: 100%|████████████████████████| 4656/4656 [03:31<00:00, 22.01it/s]\n"
     ]
    },
    {
     "data": {
      "text/plain": [
       "PosixPath('/opt/data/projects/asthma-copd/results/gls_phenoplier/gene_corrs/copd_only/by_chr/gene_corrs-chr18.pkl')"
      ]
     },
     "metadata": {},
     "output_type": "display_data"
    }
   ],
   "source": [
    "gene_corrs = []\n",
    "gene_corrs_data = np.full(\n",
    "    (n, n),\n",
    "    np.nan,\n",
    "    dtype=np.float64,\n",
    ")\n",
    "\n",
    "i = 0\n",
    "with tqdm(ncols=100, total=n_comb) as pbar:\n",
    "    for gene1_idx in range(0, len(gene_chr_objs)):\n",
    "        gene1_obj = gene_chr_objs[gene1_idx]\n",
    "        gene1_tissues = spredixcan_genes_models.loc[gene1_obj.ensembl_id, \"tissue\"]\n",
    "\n",
    "        for gene2_idx in range(gene1_idx, len(gene_chr_objs)):\n",
    "            gene2_obj = gene_chr_objs[gene2_idx]\n",
    "            gene2_tissues = spredixcan_genes_models.loc[gene2_obj.ensembl_id, \"tissue\"]\n",
    "\n",
    "            pbar.set_description(f\"{gene1_obj.ensembl_id} / {gene2_obj.ensembl_id}\")\n",
    "\n",
    "            try:\n",
    "                r = gene1_obj.get_ssm_correlation(\n",
    "                    other_gene=gene2_obj,\n",
    "                    tissues=gene1_tissues,\n",
    "                    other_tissues=gene2_tissues,\n",
    "                    snps_subset=gwas_variants_ids_set,\n",
    "                    condition_number=SMULTIXCAN_CONDITION_NUMBER,\n",
    "                    reference_panel=REFERENCE_PANEL,\n",
    "                    model_type=EQTL_MODEL,\n",
    "                    use_within_distance=COMPUTE_CORRELATIONS_WITHIN_DISTANCE,\n",
    "                )\n",
    "\n",
    "                if r is None:\n",
    "                    # if r is None, it's very likely because:\n",
    "                    #  * one of the genes has no prediction models\n",
    "                    #  * all the SNPs predictors for the gene are not present in the reference\n",
    "                    #    panel\n",
    "\n",
    "                    r = 0.0\n",
    "\n",
    "                gene_corrs.append(r)\n",
    "\n",
    "                gene_corrs_data[gene1_idx, gene2_idx] = r\n",
    "                gene_corrs_data[gene2_idx, gene1_idx] = r\n",
    "            except Warning as e:\n",
    "                if not DEBUG_MODE:\n",
    "                    raise e\n",
    "\n",
    "                print(\n",
    "                    f\"RuntimeWarning for genes {gene1_obj.ensembl_id} and {gene2_obj.ensembl_id}\",\n",
    "                    flush=True,\n",
    "                )\n",
    "                print(traceback.format_exc(), flush=True)\n",
    "\n",
    "                gene_corrs.append(np.nan)\n",
    "            except Exception as e:\n",
    "                if not DEBUG_MODE:\n",
    "                    raise e\n",
    "\n",
    "                print(\n",
    "                    f\"Exception for genes {gene1_obj.ensembl_id} and {gene2_obj.ensembl_id}\",\n",
    "                    flush=True,\n",
    "                )\n",
    "                print(traceback.format_exc(), flush=True)\n",
    "\n",
    "                gene_corrs.append(np.nan)\n",
    "\n",
    "            pbar.update(1)\n",
    "\n",
    "# create a pandas series\n",
    "gene_corrs_flat = pd.Series(gene_corrs)\n",
    "\n",
    "# save\n",
    "# FIXME: consider saving only the condenced matrix here. See here for\n",
    "# more details: https://github.com/greenelab/phenoplier/pull/38#discussion_r634600813\n",
    "# gene_corrs_data = squareform(np.array(gene_corrs, dtype=np.float64))\n",
    "# np.fill_diagonal(gene_corrs_data, 1.0)\n",
    "\n",
    "gene_chr_ids = [g.ensembl_id for g in gene_chr_objs]\n",
    "gene_corrs_df = pd.DataFrame(\n",
    "    data=gene_corrs_data,\n",
    "    index=gene_chr_ids,\n",
    "    columns=gene_chr_ids,\n",
    ")\n",
    "\n",
    "output_dir.mkdir(exist_ok=True, parents=True)\n",
    "display(output_file)\n",
    "\n",
    "gene_corrs_df.to_pickle(output_file)"
   ]
  },
  {
   "cell_type": "markdown",
   "id": "faa67b51-5373-470f-aa72-2ded53fa6dfe",
   "metadata": {
    "papermill": {
     "duration": 0.176933,
     "end_time": "2022-11-30T00:35:57.514089",
     "exception": false,
     "start_time": "2022-11-30T00:35:57.337156",
     "status": "completed"
    },
    "tags": []
   },
   "source": [
    "# Testing"
   ]
  },
  {
   "cell_type": "code",
   "execution_count": 30,
   "id": "14f7d046-4b55-4896-a56b-990127bcc388",
   "metadata": {
    "execution": {
     "iopub.execute_input": "2022-11-30T00:35:57.889962Z",
     "iopub.status.busy": "2022-11-30T00:35:57.889657Z",
     "iopub.status.idle": "2022-11-30T00:35:57.905680Z",
     "shell.execute_reply": "2022-11-30T00:35:57.905136Z"
    },
    "papermill": {
     "duration": 0.192788,
     "end_time": "2022-11-30T00:35:57.906587",
     "exception": false,
     "start_time": "2022-11-30T00:35:57.713799",
     "status": "completed"
    },
    "tags": []
   },
   "outputs": [
    {
     "data": {
      "text/plain": [
       "(96, 96)"
      ]
     },
     "execution_count": 30,
     "metadata": {},
     "output_type": "execute_result"
    }
   ],
   "source": [
    "gene_corrs_df.shape"
   ]
  },
  {
   "cell_type": "code",
   "execution_count": 31,
   "id": "c7d15414-3297-4537-a7c6-7588c0baeb75",
   "metadata": {
    "execution": {
     "iopub.execute_input": "2022-11-30T00:35:58.282784Z",
     "iopub.status.busy": "2022-11-30T00:35:58.282027Z",
     "iopub.status.idle": "2022-11-30T00:35:58.326994Z",
     "shell.execute_reply": "2022-11-30T00:35:58.326294Z"
    },
    "papermill": {
     "duration": 0.24516,
     "end_time": "2022-11-30T00:35:58.327955",
     "exception": false,
     "start_time": "2022-11-30T00:35:58.082795",
     "status": "completed"
    },
    "tags": []
   },
   "outputs": [
    {
     "data": {
      "text/html": [
       "<div>\n",
       "<style scoped>\n",
       "    .dataframe tbody tr th:only-of-type {\n",
       "        vertical-align: middle;\n",
       "    }\n",
       "\n",
       "    .dataframe tbody tr th {\n",
       "        vertical-align: top;\n",
       "    }\n",
       "\n",
       "    .dataframe thead th {\n",
       "        text-align: right;\n",
       "    }\n",
       "</style>\n",
       "<table border=\"1\" class=\"dataframe\">\n",
       "  <thead>\n",
       "    <tr style=\"text-align: right;\">\n",
       "      <th></th>\n",
       "      <th>ENSG00000079134</th>\n",
       "      <th>ENSG00000158270</th>\n",
       "      <th>ENSG00000176890</th>\n",
       "      <th>ENSG00000176105</th>\n",
       "      <th>ENSG00000080986</th>\n",
       "      <th>ENSG00000132205</th>\n",
       "      <th>ENSG00000101577</th>\n",
       "      <th>ENSG00000101608</th>\n",
       "      <th>ENSG00000118680</th>\n",
       "      <th>ENSG00000177426</th>\n",
       "      <th>...</th>\n",
       "      <th>ENSG00000166347</th>\n",
       "      <th>ENSG00000133313</th>\n",
       "      <th>ENSG00000166573</th>\n",
       "      <th>ENSG00000166377</th>\n",
       "      <th>ENSG00000131196</th>\n",
       "      <th>ENSG00000060069</th>\n",
       "      <th>ENSG00000178342</th>\n",
       "      <th>ENSG00000122490</th>\n",
       "      <th>ENSG00000141759</th>\n",
       "      <th>ENSG00000178184</th>\n",
       "    </tr>\n",
       "  </thead>\n",
       "  <tbody>\n",
       "    <tr>\n",
       "      <th>ENSG00000079134</th>\n",
       "      <td>1.000000</td>\n",
       "      <td>0.029305</td>\n",
       "      <td>0.013882</td>\n",
       "      <td>0.005950</td>\n",
       "      <td>0.005183</td>\n",
       "      <td>0.012414</td>\n",
       "      <td>0.009022</td>\n",
       "      <td>0.009353</td>\n",
       "      <td>0.008122</td>\n",
       "      <td>0.010012</td>\n",
       "      <td>...</td>\n",
       "      <td>0.008518</td>\n",
       "      <td>0.007036</td>\n",
       "      <td>0.007683</td>\n",
       "      <td>0.010245</td>\n",
       "      <td>0.011527</td>\n",
       "      <td>0.003797</td>\n",
       "      <td>0.009355</td>\n",
       "      <td>0.013356</td>\n",
       "      <td>0.008738</td>\n",
       "      <td>0.006180</td>\n",
       "    </tr>\n",
       "    <tr>\n",
       "      <th>ENSG00000158270</th>\n",
       "      <td>0.029305</td>\n",
       "      <td>1.000000</td>\n",
       "      <td>0.019775</td>\n",
       "      <td>0.012679</td>\n",
       "      <td>0.009545</td>\n",
       "      <td>0.014981</td>\n",
       "      <td>0.015845</td>\n",
       "      <td>0.010495</td>\n",
       "      <td>0.009299</td>\n",
       "      <td>0.013425</td>\n",
       "      <td>...</td>\n",
       "      <td>0.010892</td>\n",
       "      <td>0.007464</td>\n",
       "      <td>0.009267</td>\n",
       "      <td>0.012360</td>\n",
       "      <td>0.010812</td>\n",
       "      <td>0.005595</td>\n",
       "      <td>0.010142</td>\n",
       "      <td>0.014223</td>\n",
       "      <td>0.015557</td>\n",
       "      <td>0.014410</td>\n",
       "    </tr>\n",
       "    <tr>\n",
       "      <th>ENSG00000176890</th>\n",
       "      <td>0.013882</td>\n",
       "      <td>0.019775</td>\n",
       "      <td>1.000000</td>\n",
       "      <td>0.146938</td>\n",
       "      <td>0.013808</td>\n",
       "      <td>0.013387</td>\n",
       "      <td>0.012297</td>\n",
       "      <td>0.009375</td>\n",
       "      <td>0.010458</td>\n",
       "      <td>0.009753</td>\n",
       "      <td>...</td>\n",
       "      <td>0.008816</td>\n",
       "      <td>0.008129</td>\n",
       "      <td>0.009717</td>\n",
       "      <td>0.006060</td>\n",
       "      <td>0.011529</td>\n",
       "      <td>0.007348</td>\n",
       "      <td>0.012693</td>\n",
       "      <td>0.013435</td>\n",
       "      <td>0.018445</td>\n",
       "      <td>0.009046</td>\n",
       "    </tr>\n",
       "    <tr>\n",
       "      <th>ENSG00000176105</th>\n",
       "      <td>0.005950</td>\n",
       "      <td>0.012679</td>\n",
       "      <td>0.146938</td>\n",
       "      <td>1.000000</td>\n",
       "      <td>0.006168</td>\n",
       "      <td>0.004426</td>\n",
       "      <td>0.007289</td>\n",
       "      <td>0.005115</td>\n",
       "      <td>0.003651</td>\n",
       "      <td>0.009098</td>\n",
       "      <td>...</td>\n",
       "      <td>0.004153</td>\n",
       "      <td>0.006295</td>\n",
       "      <td>0.005225</td>\n",
       "      <td>0.006308</td>\n",
       "      <td>0.006686</td>\n",
       "      <td>0.007414</td>\n",
       "      <td>0.009558</td>\n",
       "      <td>0.007830</td>\n",
       "      <td>0.005645</td>\n",
       "      <td>0.008102</td>\n",
       "    </tr>\n",
       "    <tr>\n",
       "      <th>ENSG00000080986</th>\n",
       "      <td>0.005183</td>\n",
       "      <td>0.009545</td>\n",
       "      <td>0.013808</td>\n",
       "      <td>0.006168</td>\n",
       "      <td>1.000000</td>\n",
       "      <td>0.014786</td>\n",
       "      <td>0.015237</td>\n",
       "      <td>0.005943</td>\n",
       "      <td>0.008302</td>\n",
       "      <td>0.004584</td>\n",
       "      <td>...</td>\n",
       "      <td>0.006171</td>\n",
       "      <td>0.005384</td>\n",
       "      <td>0.010306</td>\n",
       "      <td>0.004825</td>\n",
       "      <td>0.006861</td>\n",
       "      <td>0.006908</td>\n",
       "      <td>0.009532</td>\n",
       "      <td>0.007694</td>\n",
       "      <td>0.005479</td>\n",
       "      <td>0.004234</td>\n",
       "    </tr>\n",
       "  </tbody>\n",
       "</table>\n",
       "<p>5 rows × 96 columns</p>\n",
       "</div>"
      ],
      "text/plain": [
       "                 ENSG00000079134  ENSG00000158270  ENSG00000176890  \\\n",
       "ENSG00000079134         1.000000         0.029305         0.013882   \n",
       "ENSG00000158270         0.029305         1.000000         0.019775   \n",
       "ENSG00000176890         0.013882         0.019775         1.000000   \n",
       "ENSG00000176105         0.005950         0.012679         0.146938   \n",
       "ENSG00000080986         0.005183         0.009545         0.013808   \n",
       "\n",
       "                 ENSG00000176105  ENSG00000080986  ENSG00000132205  \\\n",
       "ENSG00000079134         0.005950         0.005183         0.012414   \n",
       "ENSG00000158270         0.012679         0.009545         0.014981   \n",
       "ENSG00000176890         0.146938         0.013808         0.013387   \n",
       "ENSG00000176105         1.000000         0.006168         0.004426   \n",
       "ENSG00000080986         0.006168         1.000000         0.014786   \n",
       "\n",
       "                 ENSG00000101577  ENSG00000101608  ENSG00000118680  \\\n",
       "ENSG00000079134         0.009022         0.009353         0.008122   \n",
       "ENSG00000158270         0.015845         0.010495         0.009299   \n",
       "ENSG00000176890         0.012297         0.009375         0.010458   \n",
       "ENSG00000176105         0.007289         0.005115         0.003651   \n",
       "ENSG00000080986         0.015237         0.005943         0.008302   \n",
       "\n",
       "                 ENSG00000177426  ...  ENSG00000166347  ENSG00000133313  \\\n",
       "ENSG00000079134         0.010012  ...         0.008518         0.007036   \n",
       "ENSG00000158270         0.013425  ...         0.010892         0.007464   \n",
       "ENSG00000176890         0.009753  ...         0.008816         0.008129   \n",
       "ENSG00000176105         0.009098  ...         0.004153         0.006295   \n",
       "ENSG00000080986         0.004584  ...         0.006171         0.005384   \n",
       "\n",
       "                 ENSG00000166573  ENSG00000166377  ENSG00000131196  \\\n",
       "ENSG00000079134         0.007683         0.010245         0.011527   \n",
       "ENSG00000158270         0.009267         0.012360         0.010812   \n",
       "ENSG00000176890         0.009717         0.006060         0.011529   \n",
       "ENSG00000176105         0.005225         0.006308         0.006686   \n",
       "ENSG00000080986         0.010306         0.004825         0.006861   \n",
       "\n",
       "                 ENSG00000060069  ENSG00000178342  ENSG00000122490  \\\n",
       "ENSG00000079134         0.003797         0.009355         0.013356   \n",
       "ENSG00000158270         0.005595         0.010142         0.014223   \n",
       "ENSG00000176890         0.007348         0.012693         0.013435   \n",
       "ENSG00000176105         0.007414         0.009558         0.007830   \n",
       "ENSG00000080986         0.006908         0.009532         0.007694   \n",
       "\n",
       "                 ENSG00000141759  ENSG00000178184  \n",
       "ENSG00000079134         0.008738         0.006180  \n",
       "ENSG00000158270         0.015557         0.014410  \n",
       "ENSG00000176890         0.018445         0.009046  \n",
       "ENSG00000176105         0.005645         0.008102  \n",
       "ENSG00000080986         0.005479         0.004234  \n",
       "\n",
       "[5 rows x 96 columns]"
      ]
     },
     "execution_count": 31,
     "metadata": {},
     "output_type": "execute_result"
    }
   ],
   "source": [
    "gene_corrs_df.head()"
   ]
  },
  {
   "cell_type": "markdown",
   "id": "dad6603f-01c6-41fb-a6f6-241051207dd8",
   "metadata": {
    "papermill": {
     "duration": 0.177419,
     "end_time": "2022-11-30T00:35:58.677435",
     "exception": false,
     "start_time": "2022-11-30T00:35:58.500016",
     "status": "completed"
    },
    "tags": []
   },
   "source": [
    "## Standard checks and stats"
   ]
  },
  {
   "cell_type": "code",
   "execution_count": 32,
   "id": "286686af-1b7b-4440-8453-6bdcbd8de19c",
   "metadata": {
    "execution": {
     "iopub.execute_input": "2022-11-30T00:35:59.047917Z",
     "iopub.status.busy": "2022-11-30T00:35:59.047566Z",
     "iopub.status.idle": "2022-11-30T00:35:59.068499Z",
     "shell.execute_reply": "2022-11-30T00:35:59.067867Z"
    },
    "papermill": {
     "duration": 0.222076,
     "end_time": "2022-11-30T00:35:59.069435",
     "exception": false,
     "start_time": "2022-11-30T00:35:58.847359",
     "status": "completed"
    },
    "tags": []
   },
   "outputs": [],
   "source": [
    "assert not gene_corrs_df.isna().any().any()"
   ]
  },
  {
   "cell_type": "code",
   "execution_count": 33,
   "id": "00583efc-7068-4270-ad1e-4a418e91db96",
   "metadata": {
    "execution": {
     "iopub.execute_input": "2022-11-30T00:35:59.419172Z",
     "iopub.status.busy": "2022-11-30T00:35:59.418791Z",
     "iopub.status.idle": "2022-11-30T00:35:59.442926Z",
     "shell.execute_reply": "2022-11-30T00:35:59.442294Z"
    },
    "papermill": {
     "duration": 0.198129,
     "end_time": "2022-11-30T00:35:59.443816",
     "exception": false,
     "start_time": "2022-11-30T00:35:59.245687",
     "status": "completed"
    },
    "tags": []
   },
   "outputs": [
    {
     "data": {
      "text/plain": [
       "6.961089756410937e-07"
      ]
     },
     "metadata": {},
     "output_type": "display_data"
    }
   ],
   "source": [
    "_min_val = gene_corrs_df.min().min()\n",
    "display(_min_val)\n",
    "assert _min_val >= -0.05"
   ]
  },
  {
   "cell_type": "code",
   "execution_count": 34,
   "id": "d04fb2cf-1050-475b-b855-f5f7cc04092b",
   "metadata": {
    "execution": {
     "iopub.execute_input": "2022-11-30T00:35:59.814394Z",
     "iopub.status.busy": "2022-11-30T00:35:59.814019Z",
     "iopub.status.idle": "2022-11-30T00:35:59.838120Z",
     "shell.execute_reply": "2022-11-30T00:35:59.837496Z"
    },
    "papermill": {
     "duration": 0.195861,
     "end_time": "2022-11-30T00:35:59.839007",
     "exception": false,
     "start_time": "2022-11-30T00:35:59.643146",
     "status": "completed"
    },
    "tags": []
   },
   "outputs": [
    {
     "data": {
      "text/plain": [
       "1.0000000000000024"
      ]
     },
     "metadata": {},
     "output_type": "display_data"
    }
   ],
   "source": [
    "_max_val = gene_corrs_df.max().max()  # this captures the diagonal\n",
    "display(_max_val)\n",
    "assert _max_val <= 1.05"
   ]
  },
  {
   "cell_type": "code",
   "execution_count": 35,
   "id": "96d02c44-1fba-47be-8a93-8f2608420b9c",
   "metadata": {
    "execution": {
     "iopub.execute_input": "2022-11-30T00:36:00.184527Z",
     "iopub.status.busy": "2022-11-30T00:36:00.184151Z",
     "iopub.status.idle": "2022-11-30T00:36:00.205833Z",
     "shell.execute_reply": "2022-11-30T00:36:00.205212Z"
    },
    "papermill": {
     "duration": 0.195158,
     "end_time": "2022-11-30T00:36:00.206706",
     "exception": false,
     "start_time": "2022-11-30T00:36:00.011548",
     "status": "completed"
    },
    "tags": []
   },
   "outputs": [],
   "source": [
    "# check upper triangular values\n",
    "# assert len(gene_corrs) == int(genes_chr.shape[0] * (genes_chr.shape[0] - 1) / 2)"
   ]
  },
  {
   "cell_type": "code",
   "execution_count": 36,
   "id": "fe283586-c348-40e0-8841-f6d97bfb021c",
   "metadata": {
    "execution": {
     "iopub.execute_input": "2022-11-30T00:36:00.577781Z",
     "iopub.status.busy": "2022-11-30T00:36:00.577501Z",
     "iopub.status.idle": "2022-11-30T00:36:00.604899Z",
     "shell.execute_reply": "2022-11-30T00:36:00.604230Z"
    },
    "papermill": {
     "duration": 0.226363,
     "end_time": "2022-11-30T00:36:00.605934",
     "exception": false,
     "start_time": "2022-11-30T00:36:00.379571",
     "status": "completed"
    },
    "tags": []
   },
   "outputs": [
    {
     "data": {
      "text/plain": [
       "count    4.656000e+03\n",
       "mean     2.944602e-02\n",
       "std      1.425033e-01\n",
       "min      6.961090e-07\n",
       "25%      5.035374e-03\n",
       "50%      7.215753e-03\n",
       "75%      9.651273e-03\n",
       "max      1.000000e+00\n",
       "dtype: float64"
      ]
     },
     "execution_count": 36,
     "metadata": {},
     "output_type": "execute_result"
    }
   ],
   "source": [
    "gene_corrs_flat.describe()"
   ]
  },
  {
   "cell_type": "code",
   "execution_count": 37,
   "id": "b3815678-0f93-4b35-897b-a9d047a2aa78",
   "metadata": {
    "execution": {
     "iopub.execute_input": "2022-11-30T00:36:00.963218Z",
     "iopub.status.busy": "2022-11-30T00:36:00.962833Z",
     "iopub.status.idle": "2022-11-30T00:36:00.989280Z",
     "shell.execute_reply": "2022-11-30T00:36:00.988634Z"
    },
    "papermill": {
     "duration": 0.202026,
     "end_time": "2022-11-30T00:36:00.990160",
     "exception": false,
     "start_time": "2022-11-30T00:36:00.788134",
     "status": "completed"
    },
    "tags": []
   },
   "outputs": [
    {
     "data": {
      "text/plain": [
       "0.00    6.961090e-07\n",
       "0.05    2.386934e-03\n",
       "0.10    3.359746e-03\n",
       "0.15    3.964072e-03\n",
       "0.20    4.548586e-03\n",
       "0.25    5.035374e-03\n",
       "0.30    5.445947e-03\n",
       "0.35    5.912417e-03\n",
       "0.40    6.330834e-03\n",
       "0.45    6.781357e-03\n",
       "0.50    7.215753e-03\n",
       "0.55    7.659708e-03\n",
       "0.60    8.114689e-03\n",
       "0.65    8.555475e-03\n",
       "0.70    9.054575e-03\n",
       "0.75    9.651273e-03\n",
       "0.80    1.026581e-02\n",
       "0.85    1.104849e-02\n",
       "0.90    1.229991e-02\n",
       "0.95    1.454379e-02\n",
       "dtype: float64"
      ]
     },
     "metadata": {},
     "output_type": "display_data"
    }
   ],
   "source": [
    "gene_corrs_quantiles = gene_corrs_flat.quantile(np.arange(0, 1, 0.05))\n",
    "display(gene_corrs_quantiles)"
   ]
  },
  {
   "cell_type": "markdown",
   "id": "87134509-b145-4a10-8bc9-b7e914c2b0fa",
   "metadata": {
    "papermill": {
     "duration": 0.17097,
     "end_time": "2022-11-30T00:36:01.359273",
     "exception": false,
     "start_time": "2022-11-30T00:36:01.188303",
     "status": "completed"
    },
    "tags": []
   },
   "source": [
    "## Positive definiteness"
   ]
  },
  {
   "cell_type": "code",
   "execution_count": 38,
   "id": "07d9a9a1-a4f7-48aa-b916-6d42a8cc6186",
   "metadata": {
    "execution": {
     "iopub.execute_input": "2022-11-30T00:36:01.703958Z",
     "iopub.status.busy": "2022-11-30T00:36:01.703552Z",
     "iopub.status.idle": "2022-11-30T00:36:01.730869Z",
     "shell.execute_reply": "2022-11-30T00:36:01.730270Z"
    },
    "papermill": {
     "duration": 0.200917,
     "end_time": "2022-11-30T00:36:01.731716",
     "exception": false,
     "start_time": "2022-11-30T00:36:01.530799",
     "status": "completed"
    },
    "tags": []
   },
   "outputs": [
    {
     "data": {
      "text/plain": [
       "0"
      ]
     },
     "metadata": {},
     "output_type": "display_data"
    },
    {
     "data": {
      "text/plain": [
       "array([], dtype=float64)"
      ]
     },
     "metadata": {},
     "output_type": "display_data"
    }
   ],
   "source": [
    "# print negative eigenvalues\n",
    "eigs = np.linalg.eigvals(gene_corrs_df.to_numpy())\n",
    "display(len(eigs[eigs < 0]))\n",
    "display(eigs[eigs < 0])"
   ]
  },
  {
   "cell_type": "code",
   "execution_count": 39,
   "id": "6e218436-c3c5-4028-8c94-a4fa6260efce",
   "metadata": {
    "execution": {
     "iopub.execute_input": "2022-11-30T00:36:02.102832Z",
     "iopub.status.busy": "2022-11-30T00:36:02.102189Z",
     "iopub.status.idle": "2022-11-30T00:36:02.125776Z",
     "shell.execute_reply": "2022-11-30T00:36:02.125090Z"
    },
    "papermill": {
     "duration": 0.19714,
     "end_time": "2022-11-30T00:36:02.126734",
     "exception": false,
     "start_time": "2022-11-30T00:36:01.929594",
     "status": "completed"
    },
    "tags": []
   },
   "outputs": [
    {
     "name": "stdout",
     "output_type": "stream",
     "text": [
      "Works!\n"
     ]
    }
   ],
   "source": [
    "try:\n",
    "    chol_mat = np.linalg.cholesky(gene_corrs_df.to_numpy())\n",
    "    cov_inv = np.linalg.inv(chol_mat)\n",
    "    print(\"Works!\")\n",
    "except Exception as e:\n",
    "    print(f\"Cholesky decomposition failed: {str(e)}\")"
   ]
  },
  {
   "cell_type": "code",
   "execution_count": 40,
   "id": "dd8827fb-faf9-4c7c-9454-015e94752706",
   "metadata": {
    "execution": {
     "iopub.execute_input": "2022-11-30T00:36:02.472772Z",
     "iopub.status.busy": "2022-11-30T00:36:02.472159Z",
     "iopub.status.idle": "2022-11-30T00:36:02.495388Z",
     "shell.execute_reply": "2022-11-30T00:36:02.494840Z"
    },
    "papermill": {
     "duration": 0.196827,
     "end_time": "2022-11-30T00:36:02.496249",
     "exception": false,
     "start_time": "2022-11-30T00:36:02.299422",
     "status": "completed"
    },
    "tags": []
   },
   "outputs": [
    {
     "name": "stdout",
     "output_type": "stream",
     "text": [
      "Works!\n"
     ]
    }
   ],
   "source": [
    "try:\n",
    "    # decomposition used by statsmodels.GLS\n",
    "    cholsigmainv = np.linalg.cholesky(np.linalg.inv(gene_corrs_df.to_numpy())).T\n",
    "    print(\"Works!\")\n",
    "except Exception as e:\n",
    "    print(f\"Cholesky decomposition failed (statsmodels.GLS): {str(e)}\")"
   ]
  },
  {
   "cell_type": "markdown",
   "id": "8e60a080-edb2-4e9c-b2ef-22961693200c",
   "metadata": {
    "papermill": {
     "duration": 0.171832,
     "end_time": "2022-11-30T00:36:02.867483",
     "exception": false,
     "start_time": "2022-11-30T00:36:02.695651",
     "status": "completed"
    },
    "tags": []
   },
   "source": [
    "## Plot: distribution"
   ]
  },
  {
   "cell_type": "code",
   "execution_count": 41,
   "id": "8301126b-a7d4-4744-9c7d-f0f86eb6f54c",
   "metadata": {
    "execution": {
     "iopub.execute_input": "2022-11-30T00:36:03.239293Z",
     "iopub.status.busy": "2022-11-30T00:36:03.238686Z",
     "iopub.status.idle": "2022-11-30T00:36:05.175196Z",
     "shell.execute_reply": "2022-11-30T00:36:05.174619Z"
    },
    "papermill": {
     "duration": 2.137572,
     "end_time": "2022-11-30T00:36:05.176725",
     "exception": false,
     "start_time": "2022-11-30T00:36:03.039153",
     "status": "completed"
    },
    "tags": []
   },
   "outputs": [
    {
     "data": {
      "image/png": "[encoded data removed]",
      "text/plain": [
       "<Figure size 700x700 with 1 Axes>"
      ]
     },
     "metadata": {},
     "output_type": "display_data"
    }
   ],
   "source": [
    "with sns.plotting_context(\"paper\", font_scale=1.5):\n",
    "    g = sns.displot(gene_corrs_flat, kde=True, height=7)\n",
    "    g.ax.set_title(\n",
    "        f\"Distribution of gene correlation values in chromosome {CHROMOSOME}\"\n",
    "    )"
   ]
  },
  {
   "cell_type": "markdown",
   "id": "cbd52bca-d878-4a2f-b684-5c83aa3038d4",
   "metadata": {
    "papermill": {
     "duration": 0.171934,
     "end_time": "2022-11-30T00:36:05.567579",
     "exception": false,
     "start_time": "2022-11-30T00:36:05.395645",
     "status": "completed"
    },
    "tags": []
   },
   "source": [
    "## Plot: heatmap"
   ]
  },
  {
   "cell_type": "code",
   "execution_count": 42,
   "id": "d03fe63a-c7b2-4fb9-a53c-db362ce843c9",
   "metadata": {
    "execution": {
     "iopub.execute_input": "2022-11-30T00:36:05.939444Z",
     "iopub.status.busy": "2022-11-30T00:36:05.938772Z",
     "iopub.status.idle": "2022-11-30T00:36:05.957964Z",
     "shell.execute_reply": "2022-11-30T00:36:05.957441Z"
    },
    "papermill": {
     "duration": 0.218232,
     "end_time": "2022-11-30T00:36:05.958851",
     "exception": false,
     "start_time": "2022-11-30T00:36:05.740619",
     "status": "completed"
    },
    "tags": []
   },
   "outputs": [
    {
     "data": {
      "text/plain": [
       "'0.0 / 0.05'"
      ]
     },
     "metadata": {},
     "output_type": "display_data"
    }
   ],
   "source": [
    "vmin_val = min(0.00, gene_corrs_quantiles[0.10])\n",
    "vmax_val = max(0.05, gene_corrs_quantiles[0.90])\n",
    "display(f\"{vmin_val} / {vmax_val}\")"
   ]
  },
  {
   "cell_type": "code",
   "execution_count": 43,
   "id": "dc41b70b-5bcc-4d9e-9f33-a22c4a94dab5",
   "metadata": {
    "execution": {
     "iopub.execute_input": "2022-11-30T00:36:06.302895Z",
     "iopub.status.busy": "2022-11-30T00:36:06.302491Z",
     "iopub.status.idle": "2022-11-30T00:36:06.467838Z",
     "shell.execute_reply": "2022-11-30T00:36:06.467327Z"
    },
    "papermill": {
     "duration": 0.338349,
     "end_time": "2022-11-30T00:36:06.468695",
     "exception": false,
     "start_time": "2022-11-30T00:36:06.130346",
     "status": "completed"
    },
    "tags": []
   },
   "outputs": [
    {
     "data": {
      "text/plain": [
       "Text(0.5, 1.0, 'Gene correlations in chromosome 18')"
      ]
     },
     "execution_count": 43,
     "metadata": {},
     "output_type": "execute_result"
    },
    {
     "data": {
      "image/png": "[encoded data removed]",
      "text/plain": [
       "<Figure size 1000x1000 with 2 Axes>"
      ]
     },
     "metadata": {},
     "output_type": "display_data"
    }
   ],
   "source": [
    "f, ax = plt.subplots(figsize=(10, 10))\n",
    "sns.heatmap(\n",
    "    gene_corrs_df,\n",
    "    xticklabels=False,\n",
    "    yticklabels=False,\n",
    "    square=True,\n",
    "    vmin=vmin_val,\n",
    "    vmax=vmax_val,\n",
    "    cmap=\"rocket_r\",\n",
    "    ax=ax,\n",
    ")\n",
    "ax.set_title(f\"Gene correlations in chromosome {CHROMOSOME}\")"
   ]
  },
  {
   "cell_type": "code",
   "execution_count": null,
   "id": "b25e3ead",
   "metadata": {
    "papermill": {
     "duration": 0.171462,
     "end_time": "2022-11-30T00:36:06.841225",
     "exception": false,
     "start_time": "2022-11-30T00:36:06.669763",
     "status": "completed"
    },
    "tags": []
   },
   "outputs": [],
   "source": []
  }
 ],
 "metadata": {
  "jupytext": {
   "cell_metadata_filter": "all,-execution,-papermill,-trusted",
   "formats": "ipynb,py//py:percent"
  },
  "kernelspec": {
   "display_name": "Python 3 (ipykernel)",
   "language": "python",
   "name": "python3"
  },
  "language_info": {
   "codemirror_mode": {
    "name": "ipython",
    "version": 3
   },
   "file_extension": ".py",
   "mimetype": "text/x-python",
   "name": "python",
   "nbconvert_exporter": "python",
   "pygments_lexer": "ipython3",
   "version": "3.10.6"
  },
  "papermill": {
   "default_parameters": {},
   "duration": 230.479539,
   "end_time": "2022-11-30T00:36:10.203794",
   "environment_variables": {},
   "exception": null,
   "input_path": "projects/asthma-copd/nbs/20_gene_corrs/10-gene_expr_correlations.ipynb",
   "output_path": "projects/asthma-copd/nbs/20_gene_corrs/gene_corrs/copd_only/10-gene_expr_correlations-chr18.run.ipynb",
   "parameters": {
    "CHROMOSOME": 18,
    "COHORT_NAME": "copd_only",
    "OUTPUT_DIR_BASE": "/opt/data/projects/asthma-copd/results/gls_phenoplier"
   },
   "start_time": "2022-11-30T00:32:19.724255",
   "version": "2.2.2"
  }
 },
 "nbformat": 4,
 "nbformat_minor": 5
}
