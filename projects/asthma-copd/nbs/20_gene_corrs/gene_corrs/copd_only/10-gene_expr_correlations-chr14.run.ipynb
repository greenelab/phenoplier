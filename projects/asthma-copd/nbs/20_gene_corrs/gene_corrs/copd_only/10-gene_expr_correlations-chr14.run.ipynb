{
 "cells": [
  {
   "cell_type": "markdown",
   "id": "7a6632fb",
   "metadata": {
    "papermill": {
     "duration": 0.010255,
     "end_time": "2022-11-30T00:18:28.105881",
     "exception": false,
     "start_time": "2022-11-30T00:18:28.095626",
     "status": "completed"
    },
    "tags": []
   },
   "source": [
    "# Description"
   ]
  },
  {
   "cell_type": "markdown",
   "id": "7097c346",
   "metadata": {
    "papermill": {
     "duration": 0.009237,
     "end_time": "2022-11-30T00:18:28.125078",
     "exception": false,
     "start_time": "2022-11-30T00:18:28.115841",
     "status": "completed"
    },
    "tags": []
   },
   "source": [
    "(Please, take a look at the README.md file in this directory for instructions on how to run this notebook)\n",
    "\n",
    "This notebook computes predicted expression correlations between all genes in the MultiPLIER models.\n",
    "\n",
    "It has specicfic parameters for papermill (see under `Settings` below).\n",
    "It can be configured to run on a single chromosome to run in parallel.\n",
    "\n",
    "This notebook is not directly run. See README.md."
   ]
  },
  {
   "cell_type": "markdown",
   "id": "c61d8427",
   "metadata": {
    "papermill": {
     "duration": 0.009231,
     "end_time": "2022-11-30T00:18:28.143815",
     "exception": false,
     "start_time": "2022-11-30T00:18:28.134584",
     "status": "completed"
    },
    "tags": []
   },
   "source": [
    "# Modules"
   ]
  },
  {
   "cell_type": "code",
   "execution_count": 1,
   "id": "bbc0234f",
   "metadata": {
    "execution": {
     "iopub.execute_input": "2022-11-30T00:18:28.165463Z",
     "iopub.status.busy": "2022-11-30T00:18:28.164885Z",
     "iopub.status.idle": "2022-11-30T00:18:28.182766Z",
     "shell.execute_reply": "2022-11-30T00:18:28.182238Z"
    },
    "papermill": {
     "duration": 0.030614,
     "end_time": "2022-11-30T00:18:28.184636",
     "exception": false,
     "start_time": "2022-11-30T00:18:28.154022",
     "status": "completed"
    },
    "tags": []
   },
   "outputs": [],
   "source": [
    "%load_ext autoreload\n",
    "%autoreload 2"
   ]
  },
  {
   "cell_type": "code",
   "execution_count": 2,
   "id": "1d5f5a59",
   "metadata": {
    "execution": {
     "iopub.execute_input": "2022-11-30T00:18:28.204971Z",
     "iopub.status.busy": "2022-11-30T00:18:28.204747Z",
     "iopub.status.idle": "2022-11-30T00:18:28.896764Z",
     "shell.execute_reply": "2022-11-30T00:18:28.896353Z"
    },
    "papermill": {
     "duration": 0.703905,
     "end_time": "2022-11-30T00:18:28.898480",
     "exception": false,
     "start_time": "2022-11-30T00:18:28.194575",
     "status": "completed"
    },
    "tags": []
   },
   "outputs": [],
   "source": [
    "from random import sample, seed\n",
    "import warnings\n",
    "from pathlib import Path\n",
    "import pickle\n",
    "import traceback\n",
    "\n",
    "import numpy as np\n",
    "from scipy.spatial.distance import squareform\n",
    "import pandas as pd\n",
    "from tqdm import tqdm\n",
    "import matplotlib.pyplot as plt\n",
    "import seaborn as sns\n",
    "\n",
    "import conf\n",
    "from entity import Gene"
   ]
  },
  {
   "cell_type": "markdown",
   "id": "1eac24b5",
   "metadata": {
    "papermill": {
     "duration": 0.00972,
     "end_time": "2022-11-30T00:18:28.916907",
     "exception": false,
     "start_time": "2022-11-30T00:18:28.907187",
     "status": "completed"
    },
    "tags": []
   },
   "source": [
    "# Settings"
   ]
  },
  {
   "cell_type": "code",
   "execution_count": 3,
   "id": "ca4560ba",
   "metadata": {
    "execution": {
     "iopub.execute_input": "2022-11-30T00:18:28.934908Z",
     "iopub.status.busy": "2022-11-30T00:18:28.934729Z",
     "iopub.status.idle": "2022-11-30T00:18:28.947765Z",
     "shell.execute_reply": "2022-11-30T00:18:28.947378Z"
    },
    "papermill": {
     "duration": 0.023446,
     "end_time": "2022-11-30T00:18:28.949278",
     "exception": false,
     "start_time": "2022-11-30T00:18:28.925832",
     "status": "completed"
    },
    "tags": [
     "parameters"
    ]
   },
   "outputs": [],
   "source": [
    "# a cohort name (it could be something like UK_BIOBANK, etc)\n",
    "COHORT_NAME = None\n",
    "\n",
    "# reference panel such as 1000G or GTEX_V8\n",
    "REFERENCE_PANEL = \"GTEX_V8\"\n",
    "\n",
    "# predictions models such as MASHR or ELASTIC_NET\n",
    "EQTL_MODEL = \"MASHR\"\n",
    "\n",
    "# this is the default value used in S-MultiXcan to select the\n",
    "# top principal components of the expression correlation matrix\n",
    "SMULTIXCAN_CONDITION_NUMBER = 30\n",
    "\n",
    "# specifies a single chromosome value\n",
    "CHROMOSOME = None\n",
    "\n",
    "# If True, computes the correlation between closeby genes only;\n",
    "# otherwise, it computes correlations for all genes in a chromosome\n",
    "COMPUTE_CORRELATIONS_WITHIN_DISTANCE = False\n",
    "\n",
    "# if True, then it will continue if a gene pair correlation fails,\n",
    "# printing the warning/error for debugging. If False, any warning/error\n",
    "# will be thrown\n",
    "DEBUG_MODE = False\n",
    "\n",
    "# output dir\n",
    "OUTPUT_DIR_BASE = None"
   ]
  },
  {
   "cell_type": "code",
   "execution_count": 4,
   "id": "eed23e7a",
   "metadata": {
    "execution": {
     "iopub.execute_input": "2022-11-30T00:18:28.967799Z",
     "iopub.status.busy": "2022-11-30T00:18:28.967321Z",
     "iopub.status.idle": "2022-11-30T00:18:28.989266Z",
     "shell.execute_reply": "2022-11-30T00:18:28.988728Z"
    },
    "papermill": {
     "duration": 0.032904,
     "end_time": "2022-11-30T00:18:28.990892",
     "exception": false,
     "start_time": "2022-11-30T00:18:28.957988",
     "status": "completed"
    },
    "tags": [
     "injected-parameters"
    ]
   },
   "outputs": [],
   "source": [
    "# Parameters\n",
    "COHORT_NAME = \"copd_only\"\n",
    "CHROMOSOME = 14\n",
    "OUTPUT_DIR_BASE = \"/opt/data/projects/asthma-copd/results/gls_phenoplier\"\n"
   ]
  },
  {
   "cell_type": "code",
   "execution_count": 5,
   "id": "3190631f-27fc-480f-b18e-571d580425a5",
   "metadata": {
    "execution": {
     "iopub.execute_input": "2022-11-30T00:18:29.009758Z",
     "iopub.status.busy": "2022-11-30T00:18:29.009420Z",
     "iopub.status.idle": "2022-11-30T00:18:29.037347Z",
     "shell.execute_reply": "2022-11-30T00:18:29.036831Z"
    },
    "papermill": {
     "duration": 0.039203,
     "end_time": "2022-11-30T00:18:29.038901",
     "exception": false,
     "start_time": "2022-11-30T00:18:28.999698",
     "status": "completed"
    },
    "tags": []
   },
   "outputs": [
    {
     "data": {
      "text/plain": [
       "'Cohort name: copd_only'"
      ]
     },
     "metadata": {},
     "output_type": "display_data"
    }
   ],
   "source": [
    "assert COHORT_NAME is not None and len(COHORT_NAME) > 0, \"A cohort name must be given\"\n",
    "\n",
    "COHORT_NAME = COHORT_NAME.lower()\n",
    "display(f\"Cohort name: {COHORT_NAME}\")"
   ]
  },
  {
   "cell_type": "code",
   "execution_count": 6,
   "id": "f53ba19b-0f93-4fa2-a047-63b375939d1a",
   "metadata": {
    "execution": {
     "iopub.execute_input": "2022-11-30T00:18:29.057669Z",
     "iopub.status.busy": "2022-11-30T00:18:29.057251Z",
     "iopub.status.idle": "2022-11-30T00:18:29.079564Z",
     "shell.execute_reply": "2022-11-30T00:18:29.079060Z"
    },
    "papermill": {
     "duration": 0.033066,
     "end_time": "2022-11-30T00:18:29.081015",
     "exception": false,
     "start_time": "2022-11-30T00:18:29.047949",
     "status": "completed"
    },
    "tags": []
   },
   "outputs": [
    {
     "data": {
      "text/plain": [
       "'Reference panel: GTEX_V8'"
      ]
     },
     "metadata": {},
     "output_type": "display_data"
    }
   ],
   "source": [
    "assert (\n",
    "    REFERENCE_PANEL is not None and len(REFERENCE_PANEL) > 0\n",
    "), \"A reference panel must be given\"\n",
    "\n",
    "display(f\"Reference panel: {REFERENCE_PANEL}\")"
   ]
  },
  {
   "cell_type": "code",
   "execution_count": 7,
   "id": "e024d130-c139-429a-9c6e-ccf149e297b0",
   "metadata": {
    "execution": {
     "iopub.execute_input": "2022-11-30T00:18:29.099914Z",
     "iopub.status.busy": "2022-11-30T00:18:29.099423Z",
     "iopub.status.idle": "2022-11-30T00:18:29.122096Z",
     "shell.execute_reply": "2022-11-30T00:18:29.121597Z"
    },
    "papermill": {
     "duration": 0.033614,
     "end_time": "2022-11-30T00:18:29.123532",
     "exception": false,
     "start_time": "2022-11-30T00:18:29.089918",
     "status": "completed"
    },
    "tags": []
   },
   "outputs": [
    {
     "data": {
      "text/plain": [
       "'eQTL model: MASHR) / mashr_'"
      ]
     },
     "metadata": {},
     "output_type": "display_data"
    }
   ],
   "source": [
    "assert (\n",
    "    EQTL_MODEL is not None and len(EQTL_MODEL) > 0\n",
    "), \"A prediction/eQTL model must be given\"\n",
    "\n",
    "EQTL_MODEL_FILES_PREFIX = conf.PHENOMEXCAN[\"PREDICTION_MODELS\"][f\"{EQTL_MODEL}_PREFIX\"]\n",
    "display(f\"eQTL model: {EQTL_MODEL}) / {EQTL_MODEL_FILES_PREFIX}\")"
   ]
  },
  {
   "cell_type": "code",
   "execution_count": 8,
   "id": "552a7f63-a18c-4d3e-bb6a-94f99b431291",
   "metadata": {
    "execution": {
     "iopub.execute_input": "2022-11-30T00:18:29.143227Z",
     "iopub.status.busy": "2022-11-30T00:18:29.142656Z",
     "iopub.status.idle": "2022-11-30T00:18:29.164889Z",
     "shell.execute_reply": "2022-11-30T00:18:29.164397Z"
    },
    "papermill": {
     "duration": 0.033258,
     "end_time": "2022-11-30T00:18:29.166348",
     "exception": false,
     "start_time": "2022-11-30T00:18:29.133090",
     "status": "completed"
    },
    "tags": []
   },
   "outputs": [
    {
     "data": {
      "text/plain": [
       "'S-MultiXcan condition number: 30'"
      ]
     },
     "metadata": {},
     "output_type": "display_data"
    }
   ],
   "source": [
    "assert (\n",
    "    SMULTIXCAN_CONDITION_NUMBER is not None and SMULTIXCAN_CONDITION_NUMBER > 0\n",
    "), \"The S-MultiXcan condition number (positive integer) must be given\"\n",
    "\n",
    "display(f\"S-MultiXcan condition number: {SMULTIXCAN_CONDITION_NUMBER}\")"
   ]
  },
  {
   "cell_type": "code",
   "execution_count": 9,
   "id": "f34a336f-548e-4afe-8955-90eaea4f42c6",
   "metadata": {
    "execution": {
     "iopub.execute_input": "2022-11-30T00:18:29.185785Z",
     "iopub.status.busy": "2022-11-30T00:18:29.185227Z",
     "iopub.status.idle": "2022-11-30T00:18:29.207529Z",
     "shell.execute_reply": "2022-11-30T00:18:29.207027Z"
    },
    "papermill": {
     "duration": 0.033453,
     "end_time": "2022-11-30T00:18:29.209025",
     "exception": false,
     "start_time": "2022-11-30T00:18:29.175572",
     "status": "completed"
    },
    "tags": []
   },
   "outputs": [
    {
     "data": {
      "text/plain": [
       "'Working on chromosome 14'"
      ]
     },
     "metadata": {},
     "output_type": "display_data"
    }
   ],
   "source": [
    "assert CHROMOSOME is not None and (\n",
    "    1 <= CHROMOSOME <= 22\n",
    "), \"You have to select one chromosome (format: number between 1 and 22)\"\n",
    "\n",
    "# CHROMOSOME = str(CHROMOSOME)\n",
    "display(f\"Working on chromosome {CHROMOSOME}\")"
   ]
  },
  {
   "cell_type": "code",
   "execution_count": 10,
   "id": "ab8e96e8-06b5-4363-9dcd-dc4d78cc27f7",
   "metadata": {
    "execution": {
     "iopub.execute_input": "2022-11-30T00:18:29.229085Z",
     "iopub.status.busy": "2022-11-30T00:18:29.228554Z",
     "iopub.status.idle": "2022-11-30T00:18:29.250788Z",
     "shell.execute_reply": "2022-11-30T00:18:29.250289Z"
    },
    "papermill": {
     "duration": 0.03397,
     "end_time": "2022-11-30T00:18:29.252253",
     "exception": false,
     "start_time": "2022-11-30T00:18:29.218283",
     "status": "completed"
    },
    "tags": []
   },
   "outputs": [
    {
     "data": {
      "text/plain": [
       "'Compute correlation within distance False'"
      ]
     },
     "metadata": {},
     "output_type": "display_data"
    }
   ],
   "source": [
    "display(f\"Compute correlation within distance {COMPUTE_CORRELATIONS_WITHIN_DISTANCE}\")"
   ]
  },
  {
   "cell_type": "code",
   "execution_count": 11,
   "id": "b393b698-77e3-4ba2-8ac1-e14d51aa988f",
   "metadata": {
    "execution": {
     "iopub.execute_input": "2022-11-30T00:18:29.272247Z",
     "iopub.status.busy": "2022-11-30T00:18:29.271686Z",
     "iopub.status.idle": "2022-11-30T00:18:29.294763Z",
     "shell.execute_reply": "2022-11-30T00:18:29.294267Z"
    },
    "papermill": {
     "duration": 0.034506,
     "end_time": "2022-11-30T00:18:29.296187",
     "exception": false,
     "start_time": "2022-11-30T00:18:29.261681",
     "status": "completed"
    },
    "tags": []
   },
   "outputs": [
    {
     "data": {
      "text/plain": [
       "'Using output dir base: /opt/data/projects/asthma-copd/results/gls_phenoplier/gene_corrs/copd_only'"
      ]
     },
     "metadata": {},
     "output_type": "display_data"
    }
   ],
   "source": [
    "assert (\n",
    "    OUTPUT_DIR_BASE is not None and len(OUTPUT_DIR_BASE) > 0\n",
    "), \"Output directory path must be given\"\n",
    "\n",
    "OUTPUT_DIR_BASE = (\n",
    "    Path(OUTPUT_DIR_BASE)\n",
    "    / \"gene_corrs\"\n",
    "    / COHORT_NAME\n",
    "    # / REFERENCE_PANEL.lower()\n",
    "    # / EQTL_MODEL.lower()\n",
    ").resolve()\n",
    "\n",
    "OUTPUT_DIR_BASE.mkdir(parents=True, exist_ok=True)\n",
    "\n",
    "display(f\"Using output dir base: {OUTPUT_DIR_BASE}\")"
   ]
  },
  {
   "cell_type": "markdown",
   "id": "d2ba085e",
   "metadata": {
    "papermill": {
     "duration": 0.009712,
     "end_time": "2022-11-30T00:18:29.315659",
     "exception": false,
     "start_time": "2022-11-30T00:18:29.305947",
     "status": "completed"
    },
    "tags": []
   },
   "source": [
    "# Load data"
   ]
  },
  {
   "cell_type": "markdown",
   "id": "7dcb8db7",
   "metadata": {
    "papermill": {
     "duration": 0.009221,
     "end_time": "2022-11-30T00:18:29.334179",
     "exception": false,
     "start_time": "2022-11-30T00:18:29.324958",
     "status": "completed"
    },
    "tags": []
   },
   "source": [
    "## GWAS variants"
   ]
  },
  {
   "cell_type": "code",
   "execution_count": 12,
   "id": "29434c4e-8cd3-4b9b-82e4-b5a251d9dd19",
   "metadata": {
    "execution": {
     "iopub.execute_input": "2022-11-30T00:18:29.353339Z",
     "iopub.status.busy": "2022-11-30T00:18:29.352813Z",
     "iopub.status.idle": "2022-11-30T00:18:31.361516Z",
     "shell.execute_reply": "2022-11-30T00:18:31.360927Z"
    },
    "papermill": {
     "duration": 2.020028,
     "end_time": "2022-11-30T00:18:31.363520",
     "exception": false,
     "start_time": "2022-11-30T00:18:29.343492",
     "status": "completed"
    },
    "tags": []
   },
   "outputs": [],
   "source": [
    "with open(OUTPUT_DIR_BASE / \"gwas_variant_ids.pkl\", \"rb\") as handle:\n",
    "    gwas_variants_ids_set = pickle.load(handle)"
   ]
  },
  {
   "cell_type": "code",
   "execution_count": 13,
   "id": "b9d9dec2-4a76-4bf9-bde2-e24c95acb8a0",
   "metadata": {
    "execution": {
     "iopub.execute_input": "2022-11-30T00:18:31.384382Z",
     "iopub.status.busy": "2022-11-30T00:18:31.384130Z",
     "iopub.status.idle": "2022-11-30T00:18:31.398134Z",
     "shell.execute_reply": "2022-11-30T00:18:31.397684Z"
    },
    "papermill": {
     "duration": 0.026189,
     "end_time": "2022-11-30T00:18:31.400066",
     "exception": false,
     "start_time": "2022-11-30T00:18:31.373877",
     "status": "completed"
    },
    "tags": []
   },
   "outputs": [
    {
     "data": {
      "text/plain": [
       "8586183"
      ]
     },
     "execution_count": 13,
     "metadata": {},
     "output_type": "execute_result"
    }
   ],
   "source": [
    "len(gwas_variants_ids_set)"
   ]
  },
  {
   "cell_type": "code",
   "execution_count": 14,
   "id": "4235b06a-6034-4ee4-a0a3-2ae35d122418",
   "metadata": {
    "execution": {
     "iopub.execute_input": "2022-11-30T00:18:31.420263Z",
     "iopub.status.busy": "2022-11-30T00:18:31.420134Z",
     "iopub.status.idle": "2022-11-30T00:18:32.079422Z",
     "shell.execute_reply": "2022-11-30T00:18:32.078867Z"
    },
    "papermill": {
     "duration": 0.671049,
     "end_time": "2022-11-30T00:18:32.080960",
     "exception": false,
     "start_time": "2022-11-30T00:18:31.409911",
     "status": "completed"
    },
    "tags": []
   },
   "outputs": [
    {
     "data": {
      "text/plain": [
       "['chr13_82865120_C_T_b38',\n",
       " 'chr6_5893221_A_G_b38',\n",
       " 'chr5_68601691_T_C_b38',\n",
       " 'chr8_121031912_T_C_b38',\n",
       " 'chr13_79343965_C_T_b38']"
      ]
     },
     "execution_count": 14,
     "metadata": {},
     "output_type": "execute_result"
    }
   ],
   "source": [
    "list(gwas_variants_ids_set)[:5]"
   ]
  },
  {
   "cell_type": "markdown",
   "id": "07866999-2305-41f9-a144-e69c9122c212",
   "metadata": {
    "papermill": {
     "duration": 0.009795,
     "end_time": "2022-11-30T00:18:32.101125",
     "exception": false,
     "start_time": "2022-11-30T00:18:32.091330",
     "status": "completed"
    },
    "tags": []
   },
   "source": [
    "## S-PrediXcan tissue models"
   ]
  },
  {
   "cell_type": "code",
   "execution_count": 15,
   "id": "780611d9-77c8-405f-90a4-f271f7b09397",
   "metadata": {
    "execution": {
     "iopub.execute_input": "2022-11-30T00:18:32.121634Z",
     "iopub.status.busy": "2022-11-30T00:18:32.121353Z",
     "iopub.status.idle": "2022-11-30T00:18:32.440868Z",
     "shell.execute_reply": "2022-11-30T00:18:32.440338Z"
    },
    "papermill": {
     "duration": 0.33158,
     "end_time": "2022-11-30T00:18:32.442554",
     "exception": false,
     "start_time": "2022-11-30T00:18:32.110974",
     "status": "completed"
    },
    "tags": []
   },
   "outputs": [],
   "source": [
    "spredixcan_genes_models = pd.read_pickle(OUTPUT_DIR_BASE / \"gene_tissues.pkl\")"
   ]
  },
  {
   "cell_type": "code",
   "execution_count": 16,
   "id": "726dd1f6-9557-4225-91fa-b3b879ea96e1",
   "metadata": {
    "execution": {
     "iopub.execute_input": "2022-11-30T00:18:32.463686Z",
     "iopub.status.busy": "2022-11-30T00:18:32.463540Z",
     "iopub.status.idle": "2022-11-30T00:18:32.477561Z",
     "shell.execute_reply": "2022-11-30T00:18:32.477103Z"
    },
    "papermill": {
     "duration": 0.026136,
     "end_time": "2022-11-30T00:18:32.479001",
     "exception": false,
     "start_time": "2022-11-30T00:18:32.452865",
     "status": "completed"
    },
    "tags": []
   },
   "outputs": [
    {
     "data": {
      "text/plain": [
       "(6443, 5)"
      ]
     },
     "execution_count": 16,
     "metadata": {},
     "output_type": "execute_result"
    }
   ],
   "source": [
    "spredixcan_genes_models.shape"
   ]
  },
  {
   "cell_type": "code",
   "execution_count": 17,
   "id": "944a1b48-222c-4eb0-b252-b9de2cbca215",
   "metadata": {
    "execution": {
     "iopub.execute_input": "2022-11-30T00:18:32.500217Z",
     "iopub.status.busy": "2022-11-30T00:18:32.499698Z",
     "iopub.status.idle": "2022-11-30T00:18:32.533263Z",
     "shell.execute_reply": "2022-11-30T00:18:32.532529Z"
    },
    "papermill": {
     "duration": 0.045825,
     "end_time": "2022-11-30T00:18:32.534867",
     "exception": false,
     "start_time": "2022-11-30T00:18:32.489042",
     "status": "completed"
    },
    "tags": []
   },
   "outputs": [
    {
     "data": {
      "text/html": [
       "<div>\n",
       "<style scoped>\n",
       "    .dataframe tbody tr th:only-of-type {\n",
       "        vertical-align: middle;\n",
       "    }\n",
       "\n",
       "    .dataframe tbody tr th {\n",
       "        vertical-align: top;\n",
       "    }\n",
       "\n",
       "    .dataframe thead th {\n",
       "        text-align: right;\n",
       "    }\n",
       "</style>\n",
       "<table border=\"1\" class=\"dataframe\">\n",
       "  <thead>\n",
       "    <tr style=\"text-align: right;\">\n",
       "      <th></th>\n",
       "      <th>gene_name</th>\n",
       "      <th>tissue</th>\n",
       "      <th>n_tissues</th>\n",
       "      <th>n_snps_used_sum</th>\n",
       "      <th>n_snps_in_model_sum</th>\n",
       "    </tr>\n",
       "    <tr>\n",
       "      <th>gene_id</th>\n",
       "      <th></th>\n",
       "      <th></th>\n",
       "      <th></th>\n",
       "      <th></th>\n",
       "      <th></th>\n",
       "    </tr>\n",
       "  </thead>\n",
       "  <tbody>\n",
       "    <tr>\n",
       "      <th>ENSG00000000419</th>\n",
       "      <td>DPM1</td>\n",
       "      <td>(Brain_Substantia_nigra, Brain_Hypothalamus)</td>\n",
       "      <td>2</td>\n",
       "      <td>2</td>\n",
       "      <td>2</td>\n",
       "    </tr>\n",
       "    <tr>\n",
       "      <th>ENSG00000000938</th>\n",
       "      <td>FGR</td>\n",
       "      <td>(Adipose_Subcutaneous, Breast_Mammary_Tissue, ...</td>\n",
       "      <td>36</td>\n",
       "      <td>40</td>\n",
       "      <td>40</td>\n",
       "    </tr>\n",
       "    <tr>\n",
       "      <th>ENSG00000000971</th>\n",
       "      <td>CFH</td>\n",
       "      <td>(Brain_Putamen_basal_ganglia, Cells_Cultured_f...</td>\n",
       "      <td>34</td>\n",
       "      <td>44</td>\n",
       "      <td>44</td>\n",
       "    </tr>\n",
       "    <tr>\n",
       "      <th>ENSG00000001084</th>\n",
       "      <td>GCLC</td>\n",
       "      <td>(Brain_Putamen_basal_ganglia, Cells_Cultured_f...</td>\n",
       "      <td>32</td>\n",
       "      <td>46</td>\n",
       "      <td>46</td>\n",
       "    </tr>\n",
       "    <tr>\n",
       "      <th>ENSG00000001167</th>\n",
       "      <td>NFYA</td>\n",
       "      <td>(Brain_Putamen_basal_ganglia, Cells_Cultured_f...</td>\n",
       "      <td>40</td>\n",
       "      <td>47</td>\n",
       "      <td>48</td>\n",
       "    </tr>\n",
       "  </tbody>\n",
       "</table>\n",
       "</div>"
      ],
      "text/plain": [
       "                gene_name                                             tissue  \\\n",
       "gene_id                                                                        \n",
       "ENSG00000000419      DPM1       (Brain_Substantia_nigra, Brain_Hypothalamus)   \n",
       "ENSG00000000938       FGR  (Adipose_Subcutaneous, Breast_Mammary_Tissue, ...   \n",
       "ENSG00000000971       CFH  (Brain_Putamen_basal_ganglia, Cells_Cultured_f...   \n",
       "ENSG00000001084      GCLC  (Brain_Putamen_basal_ganglia, Cells_Cultured_f...   \n",
       "ENSG00000001167      NFYA  (Brain_Putamen_basal_ganglia, Cells_Cultured_f...   \n",
       "\n",
       "                 n_tissues  n_snps_used_sum  n_snps_in_model_sum  \n",
       "gene_id                                                           \n",
       "ENSG00000000419          2                2                    2  \n",
       "ENSG00000000938         36               40                   40  \n",
       "ENSG00000000971         34               44                   44  \n",
       "ENSG00000001084         32               46                   46  \n",
       "ENSG00000001167         40               47                   48  "
      ]
     },
     "execution_count": 17,
     "metadata": {},
     "output_type": "execute_result"
    }
   ],
   "source": [
    "spredixcan_genes_models.head()"
   ]
  },
  {
   "cell_type": "code",
   "execution_count": 18,
   "id": "d1c11bb1-be0b-4f40-b360-633d6827109f",
   "metadata": {
    "execution": {
     "iopub.execute_input": "2022-11-30T00:18:32.557416Z",
     "iopub.status.busy": "2022-11-30T00:18:32.556762Z",
     "iopub.status.idle": "2022-11-30T00:18:32.581701Z",
     "shell.execute_reply": "2022-11-30T00:18:32.581069Z"
    },
    "papermill": {
     "duration": 0.038077,
     "end_time": "2022-11-30T00:18:32.583326",
     "exception": false,
     "start_time": "2022-11-30T00:18:32.545249",
     "status": "completed"
    },
    "tags": []
   },
   "outputs": [],
   "source": [
    "assert spredixcan_genes_models.index.is_unique"
   ]
  },
  {
   "cell_type": "markdown",
   "id": "a5b5092c-a13e-47c4-a92a-480fcc08f3ae",
   "metadata": {
    "papermill": {
     "duration": 0.010063,
     "end_time": "2022-11-30T00:18:32.603766",
     "exception": false,
     "start_time": "2022-11-30T00:18:32.593703",
     "status": "completed"
    },
    "tags": []
   },
   "source": [
    "## Gene info"
   ]
  },
  {
   "cell_type": "code",
   "execution_count": 19,
   "id": "7d6bb224-88e9-4358-ac10-43a41d92cdad",
   "metadata": {
    "execution": {
     "iopub.execute_input": "2022-11-30T00:18:32.625991Z",
     "iopub.status.busy": "2022-11-30T00:18:32.625274Z",
     "iopub.status.idle": "2022-11-30T00:18:32.653749Z",
     "shell.execute_reply": "2022-11-30T00:18:32.653057Z"
    },
    "papermill": {
     "duration": 0.041316,
     "end_time": "2022-11-30T00:18:32.655416",
     "exception": false,
     "start_time": "2022-11-30T00:18:32.614100",
     "status": "completed"
    },
    "tags": []
   },
   "outputs": [],
   "source": [
    "genes_info = pd.read_pickle(OUTPUT_DIR_BASE / \"genes_info.pkl\")"
   ]
  },
  {
   "cell_type": "code",
   "execution_count": 20,
   "id": "9e32abfa-546d-483e-8c18-d526e9e05903",
   "metadata": {
    "execution": {
     "iopub.execute_input": "2022-11-30T00:18:32.677655Z",
     "iopub.status.busy": "2022-11-30T00:18:32.677344Z",
     "iopub.status.idle": "2022-11-30T00:18:32.696687Z",
     "shell.execute_reply": "2022-11-30T00:18:32.696067Z"
    },
    "papermill": {
     "duration": 0.031969,
     "end_time": "2022-11-30T00:18:32.698221",
     "exception": false,
     "start_time": "2022-11-30T00:18:32.666252",
     "status": "completed"
    },
    "tags": []
   },
   "outputs": [
    {
     "data": {
      "text/plain": [
       "(6443, 7)"
      ]
     },
     "execution_count": 20,
     "metadata": {},
     "output_type": "execute_result"
    }
   ],
   "source": [
    "genes_info.shape"
   ]
  },
  {
   "cell_type": "code",
   "execution_count": 21,
   "id": "d16c3e92-85ec-468a-9a56-e25a9774a1cb",
   "metadata": {
    "execution": {
     "iopub.execute_input": "2022-11-30T00:18:32.720842Z",
     "iopub.status.busy": "2022-11-30T00:18:32.720631Z",
     "iopub.status.idle": "2022-11-30T00:18:32.738996Z",
     "shell.execute_reply": "2022-11-30T00:18:32.738633Z"
    },
    "papermill": {
     "duration": 0.031156,
     "end_time": "2022-11-30T00:18:32.740517",
     "exception": false,
     "start_time": "2022-11-30T00:18:32.709361",
     "status": "completed"
    },
    "tags": []
   },
   "outputs": [
    {
     "data": {
      "text/html": [
       "<div>\n",
       "<style scoped>\n",
       "    .dataframe tbody tr th:only-of-type {\n",
       "        vertical-align: middle;\n",
       "    }\n",
       "\n",
       "    .dataframe tbody tr th {\n",
       "        vertical-align: top;\n",
       "    }\n",
       "\n",
       "    .dataframe thead th {\n",
       "        text-align: right;\n",
       "    }\n",
       "</style>\n",
       "<table border=\"1\" class=\"dataframe\">\n",
       "  <thead>\n",
       "    <tr style=\"text-align: right;\">\n",
       "      <th></th>\n",
       "      <th>name</th>\n",
       "      <th>id</th>\n",
       "      <th>chr</th>\n",
       "      <th>band</th>\n",
       "      <th>start_position</th>\n",
       "      <th>end_position</th>\n",
       "      <th>gene_length</th>\n",
       "    </tr>\n",
       "  </thead>\n",
       "  <tbody>\n",
       "    <tr>\n",
       "      <th>0</th>\n",
       "      <td>PPP1R13B</td>\n",
       "      <td>ENSG00000088808</td>\n",
       "      <td>14</td>\n",
       "      <td>14q32.33</td>\n",
       "      <td>103733195</td>\n",
       "      <td>103847590</td>\n",
       "      <td>114395</td>\n",
       "    </tr>\n",
       "    <tr>\n",
       "      <th>1</th>\n",
       "      <td>HNRNPA0</td>\n",
       "      <td>ENSG00000177733</td>\n",
       "      <td>5</td>\n",
       "      <td>5q31.2</td>\n",
       "      <td>137745651</td>\n",
       "      <td>137754376</td>\n",
       "      <td>8725</td>\n",
       "    </tr>\n",
       "    <tr>\n",
       "      <th>2</th>\n",
       "      <td>GSN</td>\n",
       "      <td>ENSG00000148180</td>\n",
       "      <td>9</td>\n",
       "      <td>9q33.2</td>\n",
       "      <td>121207794</td>\n",
       "      <td>121332843</td>\n",
       "      <td>125049</td>\n",
       "    </tr>\n",
       "    <tr>\n",
       "      <th>3</th>\n",
       "      <td>CCR3</td>\n",
       "      <td>ENSG00000183625</td>\n",
       "      <td>3</td>\n",
       "      <td>3p21.31</td>\n",
       "      <td>46163604</td>\n",
       "      <td>46266706</td>\n",
       "      <td>103102</td>\n",
       "    </tr>\n",
       "    <tr>\n",
       "      <th>4</th>\n",
       "      <td>TRIB2</td>\n",
       "      <td>ENSG00000071575</td>\n",
       "      <td>2</td>\n",
       "      <td>2p24.3</td>\n",
       "      <td>12716889</td>\n",
       "      <td>12742734</td>\n",
       "      <td>25845</td>\n",
       "    </tr>\n",
       "  </tbody>\n",
       "</table>\n",
       "</div>"
      ],
      "text/plain": [
       "       name               id  chr      band  start_position  end_position  \\\n",
       "0  PPP1R13B  ENSG00000088808   14  14q32.33       103733195     103847590   \n",
       "1   HNRNPA0  ENSG00000177733    5    5q31.2       137745651     137754376   \n",
       "2       GSN  ENSG00000148180    9    9q33.2       121207794     121332843   \n",
       "3      CCR3  ENSG00000183625    3   3p21.31        46163604      46266706   \n",
       "4     TRIB2  ENSG00000071575    2    2p24.3        12716889      12742734   \n",
       "\n",
       "   gene_length  \n",
       "0       114395  \n",
       "1         8725  \n",
       "2       125049  \n",
       "3       103102  \n",
       "4        25845  "
      ]
     },
     "execution_count": 21,
     "metadata": {},
     "output_type": "execute_result"
    }
   ],
   "source": [
    "genes_info.head()"
   ]
  },
  {
   "cell_type": "markdown",
   "id": "d3843e06",
   "metadata": {
    "papermill": {
     "duration": 0.011008,
     "end_time": "2022-11-30T00:18:32.762419",
     "exception": false,
     "start_time": "2022-11-30T00:18:32.751411",
     "status": "completed"
    },
    "tags": []
   },
   "source": [
    "# Compute correlations"
   ]
  },
  {
   "cell_type": "code",
   "execution_count": 22,
   "id": "cb859c15-d1f3-4006-a74c-2b83c0db9611",
   "metadata": {
    "execution": {
     "iopub.execute_input": "2022-11-30T00:18:32.785251Z",
     "iopub.status.busy": "2022-11-30T00:18:32.784625Z",
     "iopub.status.idle": "2022-11-30T00:18:32.807407Z",
     "shell.execute_reply": "2022-11-30T00:18:32.807017Z"
    },
    "papermill": {
     "duration": 0.035247,
     "end_time": "2022-11-30T00:18:32.808271",
     "exception": false,
     "start_time": "2022-11-30T00:18:32.773024",
     "status": "completed"
    },
    "tags": []
   },
   "outputs": [
    {
     "data": {
      "text/plain": [
       "PosixPath('/opt/data/projects/asthma-copd/results/gls_phenoplier/gene_corrs/copd_only/by_chr/gene_corrs-chr14.pkl')"
      ]
     },
     "metadata": {},
     "output_type": "display_data"
    }
   ],
   "source": [
    "output_dir = OUTPUT_DIR_BASE / \"by_chr\"\n",
    "output_dir.mkdir(exist_ok=True, parents=True)\n",
    "output_file = output_dir / f\"gene_corrs-chr{CHROMOSOME}.pkl\"\n",
    "display(output_file)"
   ]
  },
  {
   "cell_type": "code",
   "execution_count": 23,
   "id": "aa674fe4-6794-4eed-98fa-32b39d1d4ace",
   "metadata": {
    "execution": {
     "iopub.execute_input": "2022-11-30T00:18:32.820711Z",
     "iopub.status.busy": "2022-11-30T00:18:32.820563Z",
     "iopub.status.idle": "2022-11-30T00:18:32.833638Z",
     "shell.execute_reply": "2022-11-30T00:18:32.833239Z"
    },
    "papermill": {
     "duration": 0.020241,
     "end_time": "2022-11-30T00:18:32.834667",
     "exception": false,
     "start_time": "2022-11-30T00:18:32.814426",
     "status": "completed"
    },
    "tags": []
   },
   "outputs": [],
   "source": [
    "warnings.filterwarnings(\"error\")"
   ]
  },
  {
   "cell_type": "code",
   "execution_count": 24,
   "id": "44d5450b-3baf-43f1-9e2e-4b06f1a785f8",
   "metadata": {
    "execution": {
     "iopub.execute_input": "2022-11-30T00:18:32.847368Z",
     "iopub.status.busy": "2022-11-30T00:18:32.847117Z",
     "iopub.status.idle": "2022-11-30T00:18:32.861422Z",
     "shell.execute_reply": "2022-11-30T00:18:32.861027Z"
    },
    "papermill": {
     "duration": 0.021995,
     "end_time": "2022-11-30T00:18:32.862531",
     "exception": false,
     "start_time": "2022-11-30T00:18:32.840536",
     "status": "completed"
    },
    "tags": []
   },
   "outputs": [],
   "source": [
    "# standard checks\n",
    "all_chrs = genes_info[\"chr\"].dropna().unique()\n",
    "assert all_chrs.shape[0] == 22\n",
    "\n",
    "# select chromosome given by the user\n",
    "assert CHROMOSOME in all_chrs"
   ]
  },
  {
   "cell_type": "code",
   "execution_count": 25,
   "id": "2d7c043c-92a7-4d35-991b-fa69ac1e0268",
   "metadata": {
    "execution": {
     "iopub.execute_input": "2022-11-30T00:18:32.876096Z",
     "iopub.status.busy": "2022-11-30T00:18:32.875847Z",
     "iopub.status.idle": "2022-11-30T00:18:32.891217Z",
     "shell.execute_reply": "2022-11-30T00:18:32.890829Z"
    },
    "papermill": {
     "duration": 0.022976,
     "end_time": "2022-11-30T00:18:32.892146",
     "exception": false,
     "start_time": "2022-11-30T00:18:32.869170",
     "status": "completed"
    },
    "tags": []
   },
   "outputs": [
    {
     "name": "stdout",
     "output_type": "stream",
     "text": [
      "Number of genes in chromosome: 209\n"
     ]
    }
   ],
   "source": [
    "# run only on the chromosome specified\n",
    "all_chrs = [CHROMOSOME]\n",
    "genes_chr = genes_info[genes_info[\"chr\"] == CHROMOSOME]\n",
    "\n",
    "# For testing purposes\n",
    "# genes_chr = genes_chr.sample(n=20)\n",
    "\n",
    "print(f\"Number of genes in chromosome: {genes_chr.shape[0]}\", flush=True)"
   ]
  },
  {
   "cell_type": "code",
   "execution_count": 26,
   "id": "916015d8-2979-46d3-a9b9-1cf5a0932c6a",
   "metadata": {
    "execution": {
     "iopub.execute_input": "2022-11-30T00:18:32.905275Z",
     "iopub.status.busy": "2022-11-30T00:18:32.905025Z",
     "iopub.status.idle": "2022-11-30T00:18:32.919258Z",
     "shell.execute_reply": "2022-11-30T00:18:32.918884Z"
    },
    "papermill": {
     "duration": 0.022281,
     "end_time": "2022-11-30T00:18:32.920390",
     "exception": false,
     "start_time": "2022-11-30T00:18:32.898109",
     "status": "completed"
    },
    "tags": []
   },
   "outputs": [],
   "source": [
    "# sort genes by starting position to make visualizations better later\n",
    "genes_chr = genes_chr.sort_values(\"start_position\")"
   ]
  },
  {
   "cell_type": "code",
   "execution_count": 27,
   "id": "a38aa74a-8ad3-47f6-8ef9-56be0e011774",
   "metadata": {
    "execution": {
     "iopub.execute_input": "2022-11-30T00:18:32.933216Z",
     "iopub.status.busy": "2022-11-30T00:18:32.932970Z",
     "iopub.status.idle": "2022-11-30T00:18:32.947046Z",
     "shell.execute_reply": "2022-11-30T00:18:32.946651Z"
    },
    "papermill": {
     "duration": 0.021814,
     "end_time": "2022-11-30T00:18:32.948163",
     "exception": false,
     "start_time": "2022-11-30T00:18:32.926349",
     "status": "completed"
    },
    "tags": []
   },
   "outputs": [],
   "source": [
    "gene_chr_objs = [Gene(ensembl_id=gene_id) for gene_id in genes_chr[\"id\"]]"
   ]
  },
  {
   "cell_type": "code",
   "execution_count": 28,
   "id": "570f974f-13c3-42b6-ad3a-ce99ca885c1a",
   "metadata": {
    "execution": {
     "iopub.execute_input": "2022-11-30T00:18:32.961232Z",
     "iopub.status.busy": "2022-11-30T00:18:32.960978Z",
     "iopub.status.idle": "2022-11-30T00:18:32.975348Z",
     "shell.execute_reply": "2022-11-30T00:18:32.974984Z"
    },
    "papermill": {
     "duration": 0.021879,
     "end_time": "2022-11-30T00:18:32.976243",
     "exception": false,
     "start_time": "2022-11-30T00:18:32.954364",
     "status": "completed"
    },
    "tags": []
   },
   "outputs": [
    {
     "name": "stdout",
     "output_type": "stream",
     "text": [
      "Number of gene combinations: 21945\n"
     ]
    }
   ],
   "source": [
    "n = len(gene_chr_objs)\n",
    "# diagonal elements + upper triangular matrix\n",
    "n_comb = n + int(n * (n - 1) / 2.0)\n",
    "print(f\"Number of gene combinations: {n_comb}\", flush=True)"
   ]
  },
  {
   "cell_type": "code",
   "execution_count": 29,
   "id": "cdbb90a1",
   "metadata": {
    "execution": {
     "iopub.execute_input": "2022-11-30T00:18:32.989477Z",
     "iopub.status.busy": "2022-11-30T00:18:32.989233Z",
     "iopub.status.idle": "2022-11-30T00:34:16.085754Z",
     "shell.execute_reply": "2022-11-30T00:34:16.085329Z"
    },
    "papermill": {
     "duration": 943.104852,
     "end_time": "2022-11-30T00:34:16.087089",
     "exception": false,
     "start_time": "2022-11-30T00:18:32.982237",
     "status": "completed"
    },
    "tags": []
   },
   "outputs": [
    {
     "name": "stderr",
     "output_type": "stream",
     "text": [
      "ENSG00000182979 / ENSG00000182979: 100%|██████████████████████| 21945/21945 [15:43<00:00, 23.27it/s]\n"
     ]
    },
    {
     "data": {
      "text/plain": [
       "PosixPath('/opt/data/projects/asthma-copd/results/gls_phenoplier/gene_corrs/copd_only/by_chr/gene_corrs-chr14.pkl')"
      ]
     },
     "metadata": {},
     "output_type": "display_data"
    }
   ],
   "source": [
    "gene_corrs = []\n",
    "gene_corrs_data = np.full(\n",
    "    (n, n),\n",
    "    np.nan,\n",
    "    dtype=np.float64,\n",
    ")\n",
    "\n",
    "i = 0\n",
    "with tqdm(ncols=100, total=n_comb) as pbar:\n",
    "    for gene1_idx in range(0, len(gene_chr_objs)):\n",
    "        gene1_obj = gene_chr_objs[gene1_idx]\n",
    "        gene1_tissues = spredixcan_genes_models.loc[gene1_obj.ensembl_id, \"tissue\"]\n",
    "\n",
    "        for gene2_idx in range(gene1_idx, len(gene_chr_objs)):\n",
    "            gene2_obj = gene_chr_objs[gene2_idx]\n",
    "            gene2_tissues = spredixcan_genes_models.loc[gene2_obj.ensembl_id, \"tissue\"]\n",
    "\n",
    "            pbar.set_description(f\"{gene1_obj.ensembl_id} / {gene2_obj.ensembl_id}\")\n",
    "\n",
    "            try:\n",
    "                r = gene1_obj.get_ssm_correlation(\n",
    "                    other_gene=gene2_obj,\n",
    "                    tissues=gene1_tissues,\n",
    "                    other_tissues=gene2_tissues,\n",
    "                    snps_subset=gwas_variants_ids_set,\n",
    "                    condition_number=SMULTIXCAN_CONDITION_NUMBER,\n",
    "                    reference_panel=REFERENCE_PANEL,\n",
    "                    model_type=EQTL_MODEL,\n",
    "                    use_within_distance=COMPUTE_CORRELATIONS_WITHIN_DISTANCE,\n",
    "                )\n",
    "\n",
    "                if r is None:\n",
    "                    # if r is None, it's very likely because:\n",
    "                    #  * one of the genes has no prediction models\n",
    "                    #  * all the SNPs predictors for the gene are not present in the reference\n",
    "                    #    panel\n",
    "\n",
    "                    r = 0.0\n",
    "\n",
    "                gene_corrs.append(r)\n",
    "\n",
    "                gene_corrs_data[gene1_idx, gene2_idx] = r\n",
    "                gene_corrs_data[gene2_idx, gene1_idx] = r\n",
    "            except Warning as e:\n",
    "                if not DEBUG_MODE:\n",
    "                    raise e\n",
    "\n",
    "                print(\n",
    "                    f\"RuntimeWarning for genes {gene1_obj.ensembl_id} and {gene2_obj.ensembl_id}\",\n",
    "                    flush=True,\n",
    "                )\n",
    "                print(traceback.format_exc(), flush=True)\n",
    "\n",
    "                gene_corrs.append(np.nan)\n",
    "            except Exception as e:\n",
    "                if not DEBUG_MODE:\n",
    "                    raise e\n",
    "\n",
    "                print(\n",
    "                    f\"Exception for genes {gene1_obj.ensembl_id} and {gene2_obj.ensembl_id}\",\n",
    "                    flush=True,\n",
    "                )\n",
    "                print(traceback.format_exc(), flush=True)\n",
    "\n",
    "                gene_corrs.append(np.nan)\n",
    "\n",
    "            pbar.update(1)\n",
    "\n",
    "# create a pandas series\n",
    "gene_corrs_flat = pd.Series(gene_corrs)\n",
    "\n",
    "# save\n",
    "# FIXME: consider saving only the condenced matrix here. See here for\n",
    "# more details: https://github.com/greenelab/phenoplier/pull/38#discussion_r634600813\n",
    "# gene_corrs_data = squareform(np.array(gene_corrs, dtype=np.float64))\n",
    "# np.fill_diagonal(gene_corrs_data, 1.0)\n",
    "\n",
    "gene_chr_ids = [g.ensembl_id for g in gene_chr_objs]\n",
    "gene_corrs_df = pd.DataFrame(\n",
    "    data=gene_corrs_data,\n",
    "    index=gene_chr_ids,\n",
    "    columns=gene_chr_ids,\n",
    ")\n",
    "\n",
    "output_dir.mkdir(exist_ok=True, parents=True)\n",
    "display(output_file)\n",
    "\n",
    "gene_corrs_df.to_pickle(output_file)"
   ]
  },
  {
   "cell_type": "markdown",
   "id": "faa67b51-5373-470f-aa72-2ded53fa6dfe",
   "metadata": {
    "papermill": {
     "duration": 0.854783,
     "end_time": "2022-11-30T00:34:17.833532",
     "exception": false,
     "start_time": "2022-11-30T00:34:16.978749",
     "status": "completed"
    },
    "tags": []
   },
   "source": [
    "# Testing"
   ]
  },
  {
   "cell_type": "code",
   "execution_count": 30,
   "id": "14f7d046-4b55-4896-a56b-990127bcc388",
   "metadata": {
    "execution": {
     "iopub.execute_input": "2022-11-30T00:34:19.538135Z",
     "iopub.status.busy": "2022-11-30T00:34:19.537771Z",
     "iopub.status.idle": "2022-11-30T00:34:19.559285Z",
     "shell.execute_reply": "2022-11-30T00:34:19.558733Z"
    },
    "papermill": {
     "duration": 0.874575,
     "end_time": "2022-11-30T00:34:19.560196",
     "exception": false,
     "start_time": "2022-11-30T00:34:18.685621",
     "status": "completed"
    },
    "tags": []
   },
   "outputs": [
    {
     "data": {
      "text/plain": [
       "(209, 209)"
      ]
     },
     "execution_count": 30,
     "metadata": {},
     "output_type": "execute_result"
    }
   ],
   "source": [
    "gene_corrs_df.shape"
   ]
  },
  {
   "cell_type": "code",
   "execution_count": 31,
   "id": "c7d15414-3297-4537-a7c6-7588c0baeb75",
   "metadata": {
    "execution": {
     "iopub.execute_input": "2022-11-30T00:34:21.300669Z",
     "iopub.status.busy": "2022-11-30T00:34:21.300270Z",
     "iopub.status.idle": "2022-11-30T00:34:21.339846Z",
     "shell.execute_reply": "2022-11-30T00:34:21.339160Z"
    },
    "papermill": {
     "duration": 0.886015,
     "end_time": "2022-11-30T00:34:21.340822",
     "exception": false,
     "start_time": "2022-11-30T00:34:20.454807",
     "status": "completed"
    },
    "tags": []
   },
   "outputs": [
    {
     "data": {
      "text/html": [
       "<div>\n",
       "<style scoped>\n",
       "    .dataframe tbody tr th:only-of-type {\n",
       "        vertical-align: middle;\n",
       "    }\n",
       "\n",
       "    .dataframe tbody tr th {\n",
       "        vertical-align: top;\n",
       "    }\n",
       "\n",
       "    .dataframe thead th {\n",
       "        text-align: right;\n",
       "    }\n",
       "</style>\n",
       "<table border=\"1\" class=\"dataframe\">\n",
       "  <thead>\n",
       "    <tr style=\"text-align: right;\">\n",
       "      <th></th>\n",
       "      <th>ENSG00000136319</th>\n",
       "      <th>ENSG00000129484</th>\n",
       "      <th>ENSG00000129566</th>\n",
       "      <th>ENSG00000100823</th>\n",
       "      <th>ENSG00000198805</th>\n",
       "      <th>ENSG00000214274</th>\n",
       "      <th>ENSG00000258818</th>\n",
       "      <th>ENSG00000169413</th>\n",
       "      <th>ENSG00000169397</th>\n",
       "      <th>ENSG00000169385</th>\n",
       "      <th>...</th>\n",
       "      <th>ENSG00000126215</th>\n",
       "      <th>ENSG00000088808</th>\n",
       "      <th>ENSG00000066735</th>\n",
       "      <th>ENSG00000185100</th>\n",
       "      <th>ENSG00000142208</th>\n",
       "      <th>ENSG00000166428</th>\n",
       "      <th>ENSG00000183484</th>\n",
       "      <th>ENSG00000184916</th>\n",
       "      <th>ENSG00000185024</th>\n",
       "      <th>ENSG00000182979</th>\n",
       "    </tr>\n",
       "  </thead>\n",
       "  <tbody>\n",
       "    <tr>\n",
       "      <th>ENSG00000136319</th>\n",
       "      <td>1.000000</td>\n",
       "      <td>0.408377</td>\n",
       "      <td>0.016761</td>\n",
       "      <td>0.011939</td>\n",
       "      <td>0.010830</td>\n",
       "      <td>0.007584</td>\n",
       "      <td>0.005983</td>\n",
       "      <td>0.009894</td>\n",
       "      <td>0.005839</td>\n",
       "      <td>0.007804</td>\n",
       "      <td>...</td>\n",
       "      <td>0.004266</td>\n",
       "      <td>0.005190</td>\n",
       "      <td>0.007589</td>\n",
       "      <td>0.003272</td>\n",
       "      <td>0.004592</td>\n",
       "      <td>0.003982</td>\n",
       "      <td>0.002128</td>\n",
       "      <td>0.008078</td>\n",
       "      <td>0.004296</td>\n",
       "      <td>0.002818</td>\n",
       "    </tr>\n",
       "    <tr>\n",
       "      <th>ENSG00000129484</th>\n",
       "      <td>0.408377</td>\n",
       "      <td>1.000000</td>\n",
       "      <td>0.009006</td>\n",
       "      <td>0.005022</td>\n",
       "      <td>0.008506</td>\n",
       "      <td>0.004598</td>\n",
       "      <td>0.003830</td>\n",
       "      <td>0.005981</td>\n",
       "      <td>0.003778</td>\n",
       "      <td>0.001958</td>\n",
       "      <td>...</td>\n",
       "      <td>0.005737</td>\n",
       "      <td>0.006228</td>\n",
       "      <td>0.006612</td>\n",
       "      <td>0.004318</td>\n",
       "      <td>0.008486</td>\n",
       "      <td>0.004286</td>\n",
       "      <td>0.002501</td>\n",
       "      <td>0.009363</td>\n",
       "      <td>0.004564</td>\n",
       "      <td>0.003327</td>\n",
       "    </tr>\n",
       "    <tr>\n",
       "      <th>ENSG00000129566</th>\n",
       "      <td>0.016761</td>\n",
       "      <td>0.009006</td>\n",
       "      <td>1.000000</td>\n",
       "      <td>0.038817</td>\n",
       "      <td>0.010472</td>\n",
       "      <td>0.008212</td>\n",
       "      <td>0.009654</td>\n",
       "      <td>0.005394</td>\n",
       "      <td>0.005310</td>\n",
       "      <td>0.003982</td>\n",
       "      <td>...</td>\n",
       "      <td>0.003041</td>\n",
       "      <td>0.003206</td>\n",
       "      <td>0.008305</td>\n",
       "      <td>0.005700</td>\n",
       "      <td>0.007254</td>\n",
       "      <td>0.004444</td>\n",
       "      <td>0.003860</td>\n",
       "      <td>0.005874</td>\n",
       "      <td>0.006159</td>\n",
       "      <td>0.002683</td>\n",
       "    </tr>\n",
       "    <tr>\n",
       "      <th>ENSG00000100823</th>\n",
       "      <td>0.011939</td>\n",
       "      <td>0.005022</td>\n",
       "      <td>0.038817</td>\n",
       "      <td>1.000000</td>\n",
       "      <td>0.292907</td>\n",
       "      <td>0.004649</td>\n",
       "      <td>0.004009</td>\n",
       "      <td>0.009684</td>\n",
       "      <td>0.010182</td>\n",
       "      <td>0.009390</td>\n",
       "      <td>...</td>\n",
       "      <td>0.004454</td>\n",
       "      <td>0.005923</td>\n",
       "      <td>0.006960</td>\n",
       "      <td>0.004608</td>\n",
       "      <td>0.008380</td>\n",
       "      <td>0.007682</td>\n",
       "      <td>0.010452</td>\n",
       "      <td>0.009029</td>\n",
       "      <td>0.007515</td>\n",
       "      <td>0.005463</td>\n",
       "    </tr>\n",
       "    <tr>\n",
       "      <th>ENSG00000198805</th>\n",
       "      <td>0.010830</td>\n",
       "      <td>0.008506</td>\n",
       "      <td>0.010472</td>\n",
       "      <td>0.292907</td>\n",
       "      <td>1.000000</td>\n",
       "      <td>0.003908</td>\n",
       "      <td>0.003859</td>\n",
       "      <td>0.010229</td>\n",
       "      <td>0.005374</td>\n",
       "      <td>0.009092</td>\n",
       "      <td>...</td>\n",
       "      <td>0.005652</td>\n",
       "      <td>0.004318</td>\n",
       "      <td>0.008890</td>\n",
       "      <td>0.003471</td>\n",
       "      <td>0.006663</td>\n",
       "      <td>0.005304</td>\n",
       "      <td>0.004839</td>\n",
       "      <td>0.008469</td>\n",
       "      <td>0.012078</td>\n",
       "      <td>0.002410</td>\n",
       "    </tr>\n",
       "  </tbody>\n",
       "</table>\n",
       "<p>5 rows × 209 columns</p>\n",
       "</div>"
      ],
      "text/plain": [
       "                 ENSG00000136319  ENSG00000129484  ENSG00000129566  \\\n",
       "ENSG00000136319         1.000000         0.408377         0.016761   \n",
       "ENSG00000129484         0.408377         1.000000         0.009006   \n",
       "ENSG00000129566         0.016761         0.009006         1.000000   \n",
       "ENSG00000100823         0.011939         0.005022         0.038817   \n",
       "ENSG00000198805         0.010830         0.008506         0.010472   \n",
       "\n",
       "                 ENSG00000100823  ENSG00000198805  ENSG00000214274  \\\n",
       "ENSG00000136319         0.011939         0.010830         0.007584   \n",
       "ENSG00000129484         0.005022         0.008506         0.004598   \n",
       "ENSG00000129566         0.038817         0.010472         0.008212   \n",
       "ENSG00000100823         1.000000         0.292907         0.004649   \n",
       "ENSG00000198805         0.292907         1.000000         0.003908   \n",
       "\n",
       "                 ENSG00000258818  ENSG00000169413  ENSG00000169397  \\\n",
       "ENSG00000136319         0.005983         0.009894         0.005839   \n",
       "ENSG00000129484         0.003830         0.005981         0.003778   \n",
       "ENSG00000129566         0.009654         0.005394         0.005310   \n",
       "ENSG00000100823         0.004009         0.009684         0.010182   \n",
       "ENSG00000198805         0.003859         0.010229         0.005374   \n",
       "\n",
       "                 ENSG00000169385  ...  ENSG00000126215  ENSG00000088808  \\\n",
       "ENSG00000136319         0.007804  ...         0.004266         0.005190   \n",
       "ENSG00000129484         0.001958  ...         0.005737         0.006228   \n",
       "ENSG00000129566         0.003982  ...         0.003041         0.003206   \n",
       "ENSG00000100823         0.009390  ...         0.004454         0.005923   \n",
       "ENSG00000198805         0.009092  ...         0.005652         0.004318   \n",
       "\n",
       "                 ENSG00000066735  ENSG00000185100  ENSG00000142208  \\\n",
       "ENSG00000136319         0.007589         0.003272         0.004592   \n",
       "ENSG00000129484         0.006612         0.004318         0.008486   \n",
       "ENSG00000129566         0.008305         0.005700         0.007254   \n",
       "ENSG00000100823         0.006960         0.004608         0.008380   \n",
       "ENSG00000198805         0.008890         0.003471         0.006663   \n",
       "\n",
       "                 ENSG00000166428  ENSG00000183484  ENSG00000184916  \\\n",
       "ENSG00000136319         0.003982         0.002128         0.008078   \n",
       "ENSG00000129484         0.004286         0.002501         0.009363   \n",
       "ENSG00000129566         0.004444         0.003860         0.005874   \n",
       "ENSG00000100823         0.007682         0.010452         0.009029   \n",
       "ENSG00000198805         0.005304         0.004839         0.008469   \n",
       "\n",
       "                 ENSG00000185024  ENSG00000182979  \n",
       "ENSG00000136319         0.004296         0.002818  \n",
       "ENSG00000129484         0.004564         0.003327  \n",
       "ENSG00000129566         0.006159         0.002683  \n",
       "ENSG00000100823         0.007515         0.005463  \n",
       "ENSG00000198805         0.012078         0.002410  \n",
       "\n",
       "[5 rows x 209 columns]"
      ]
     },
     "execution_count": 31,
     "metadata": {},
     "output_type": "execute_result"
    }
   ],
   "source": [
    "gene_corrs_df.head()"
   ]
  },
  {
   "cell_type": "markdown",
   "id": "dad6603f-01c6-41fb-a6f6-241051207dd8",
   "metadata": {
    "papermill": {
     "duration": 0.837368,
     "end_time": "2022-11-30T00:34:23.015606",
     "exception": false,
     "start_time": "2022-11-30T00:34:22.178238",
     "status": "completed"
    },
    "tags": []
   },
   "source": [
    "## Standard checks and stats"
   ]
  },
  {
   "cell_type": "code",
   "execution_count": 32,
   "id": "286686af-1b7b-4440-8453-6bdcbd8de19c",
   "metadata": {
    "execution": {
     "iopub.execute_input": "2022-11-30T00:34:24.732593Z",
     "iopub.status.busy": "2022-11-30T00:34:24.732415Z",
     "iopub.status.idle": "2022-11-30T00:34:24.746615Z",
     "shell.execute_reply": "2022-11-30T00:34:24.746198Z"
    },
    "papermill": {
     "duration": 0.854421,
     "end_time": "2022-11-30T00:34:24.747972",
     "exception": false,
     "start_time": "2022-11-30T00:34:23.893551",
     "status": "completed"
    },
    "tags": []
   },
   "outputs": [],
   "source": [
    "assert not gene_corrs_df.isna().any().any()"
   ]
  },
  {
   "cell_type": "code",
   "execution_count": 33,
   "id": "00583efc-7068-4270-ad1e-4a418e91db96",
   "metadata": {
    "execution": {
     "iopub.execute_input": "2022-11-30T00:34:26.442160Z",
     "iopub.status.busy": "2022-11-30T00:34:26.441752Z",
     "iopub.status.idle": "2022-11-30T00:34:26.463888Z",
     "shell.execute_reply": "2022-11-30T00:34:26.463427Z"
    },
    "papermill": {
     "duration": 0.861009,
     "end_time": "2022-11-30T00:34:26.464767",
     "exception": false,
     "start_time": "2022-11-30T00:34:25.603758",
     "status": "completed"
    },
    "tags": []
   },
   "outputs": [
    {
     "data": {
      "text/plain": [
       "3.8000847030716356e-07"
      ]
     },
     "metadata": {},
     "output_type": "display_data"
    }
   ],
   "source": [
    "_min_val = gene_corrs_df.min().min()\n",
    "display(_min_val)\n",
    "assert _min_val >= -0.05"
   ]
  },
  {
   "cell_type": "code",
   "execution_count": 34,
   "id": "d04fb2cf-1050-475b-b855-f5f7cc04092b",
   "metadata": {
    "execution": {
     "iopub.execute_input": "2022-11-30T00:34:28.190847Z",
     "iopub.status.busy": "2022-11-30T00:34:28.190611Z",
     "iopub.status.idle": "2022-11-30T00:34:28.205409Z",
     "shell.execute_reply": "2022-11-30T00:34:28.204990Z"
    },
    "papermill": {
     "duration": 0.862026,
     "end_time": "2022-11-30T00:34:28.206272",
     "exception": false,
     "start_time": "2022-11-30T00:34:27.344246",
     "status": "completed"
    },
    "tags": []
   },
   "outputs": [
    {
     "data": {
      "text/plain": [
       "1.0000000000000027"
      ]
     },
     "metadata": {},
     "output_type": "display_data"
    }
   ],
   "source": [
    "_max_val = gene_corrs_df.max().max()  # this captures the diagonal\n",
    "display(_max_val)\n",
    "assert _max_val <= 1.05"
   ]
  },
  {
   "cell_type": "code",
   "execution_count": 35,
   "id": "96d02c44-1fba-47be-8a93-8f2608420b9c",
   "metadata": {
    "execution": {
     "iopub.execute_input": "2022-11-30T00:34:29.915120Z",
     "iopub.status.busy": "2022-11-30T00:34:29.914881Z",
     "iopub.status.idle": "2022-11-30T00:34:29.928292Z",
     "shell.execute_reply": "2022-11-30T00:34:29.927871Z"
    },
    "papermill": {
     "duration": 0.873965,
     "end_time": "2022-11-30T00:34:29.929312",
     "exception": false,
     "start_time": "2022-11-30T00:34:29.055347",
     "status": "completed"
    },
    "tags": []
   },
   "outputs": [],
   "source": [
    "# check upper triangular values\n",
    "# assert len(gene_corrs) == int(genes_chr.shape[0] * (genes_chr.shape[0] - 1) / 2)"
   ]
  },
  {
   "cell_type": "code",
   "execution_count": 36,
   "id": "fe283586-c348-40e0-8841-f6d97bfb021c",
   "metadata": {
    "execution": {
     "iopub.execute_input": "2022-11-30T00:34:31.630313Z",
     "iopub.status.busy": "2022-11-30T00:34:31.630025Z",
     "iopub.status.idle": "2022-11-30T00:34:31.656865Z",
     "shell.execute_reply": "2022-11-30T00:34:31.656277Z"
    },
    "papermill": {
     "duration": 0.877565,
     "end_time": "2022-11-30T00:34:31.657704",
     "exception": false,
     "start_time": "2022-11-30T00:34:30.780139",
     "status": "completed"
    },
    "tags": []
   },
   "outputs": [
    {
     "data": {
      "text/plain": [
       "count    2.194500e+04\n",
       "mean     1.882753e-02\n",
       "std      1.020029e-01\n",
       "min      3.800085e-07\n",
       "25%      4.234315e-03\n",
       "50%      6.240006e-03\n",
       "75%      8.531041e-03\n",
       "max      1.000000e+00\n",
       "dtype: float64"
      ]
     },
     "execution_count": 36,
     "metadata": {},
     "output_type": "execute_result"
    }
   ],
   "source": [
    "gene_corrs_flat.describe()"
   ]
  },
  {
   "cell_type": "code",
   "execution_count": 37,
   "id": "b3815678-0f93-4b35-897b-a9d047a2aa78",
   "metadata": {
    "execution": {
     "iopub.execute_input": "2022-11-30T00:34:33.368062Z",
     "iopub.status.busy": "2022-11-30T00:34:33.367456Z",
     "iopub.status.idle": "2022-11-30T00:34:33.394320Z",
     "shell.execute_reply": "2022-11-30T00:34:33.393773Z"
    },
    "papermill": {
     "duration": 0.89162,
     "end_time": "2022-11-30T00:34:33.395133",
     "exception": false,
     "start_time": "2022-11-30T00:34:32.503513",
     "status": "completed"
    },
    "tags": []
   },
   "outputs": [
    {
     "data": {
      "text/plain": [
       "0.00    3.800085e-07\n",
       "0.05    1.932132e-03\n",
       "0.10    2.687485e-03\n",
       "0.15    3.289221e-03\n",
       "0.20    3.791464e-03\n",
       "0.25    4.234315e-03\n",
       "0.30    4.681672e-03\n",
       "0.35    5.073925e-03\n",
       "0.40    5.446454e-03\n",
       "0.45    5.836910e-03\n",
       "0.50    6.240006e-03\n",
       "0.55    6.638717e-03\n",
       "0.60    7.067226e-03\n",
       "0.65    7.527503e-03\n",
       "0.70    7.999324e-03\n",
       "0.75    8.531041e-03\n",
       "0.80    9.181014e-03\n",
       "0.85    1.002563e-02\n",
       "0.90    1.117454e-02\n",
       "0.95    1.348434e-02\n",
       "dtype: float64"
      ]
     },
     "metadata": {},
     "output_type": "display_data"
    }
   ],
   "source": [
    "gene_corrs_quantiles = gene_corrs_flat.quantile(np.arange(0, 1, 0.05))\n",
    "display(gene_corrs_quantiles)"
   ]
  },
  {
   "cell_type": "markdown",
   "id": "87134509-b145-4a10-8bc9-b7e914c2b0fa",
   "metadata": {
    "papermill": {
     "duration": 0.886116,
     "end_time": "2022-11-30T00:34:35.241463",
     "exception": false,
     "start_time": "2022-11-30T00:34:34.355347",
     "status": "completed"
    },
    "tags": []
   },
   "source": [
    "## Positive definiteness"
   ]
  },
  {
   "cell_type": "code",
   "execution_count": 38,
   "id": "07d9a9a1-a4f7-48aa-b916-6d42a8cc6186",
   "metadata": {
    "execution": {
     "iopub.execute_input": "2022-11-30T00:34:36.942200Z",
     "iopub.status.busy": "2022-11-30T00:34:36.941894Z",
     "iopub.status.idle": "2022-11-30T00:34:36.975359Z",
     "shell.execute_reply": "2022-11-30T00:34:36.974887Z"
    },
    "papermill": {
     "duration": 0.884373,
     "end_time": "2022-11-30T00:34:36.976450",
     "exception": false,
     "start_time": "2022-11-30T00:34:36.092077",
     "status": "completed"
    },
    "tags": []
   },
   "outputs": [
    {
     "data": {
      "text/plain": [
       "0"
      ]
     },
     "metadata": {},
     "output_type": "display_data"
    },
    {
     "data": {
      "text/plain": [
       "array([], dtype=float64)"
      ]
     },
     "metadata": {},
     "output_type": "display_data"
    }
   ],
   "source": [
    "# print negative eigenvalues\n",
    "eigs = np.linalg.eigvals(gene_corrs_df.to_numpy())\n",
    "display(len(eigs[eigs < 0]))\n",
    "display(eigs[eigs < 0])"
   ]
  },
  {
   "cell_type": "code",
   "execution_count": 39,
   "id": "6e218436-c3c5-4028-8c94-a4fa6260efce",
   "metadata": {
    "execution": {
     "iopub.execute_input": "2022-11-30T00:34:38.691096Z",
     "iopub.status.busy": "2022-11-30T00:34:38.690686Z",
     "iopub.status.idle": "2022-11-30T00:34:38.714328Z",
     "shell.execute_reply": "2022-11-30T00:34:38.713831Z"
    },
    "papermill": {
     "duration": 0.867822,
     "end_time": "2022-11-30T00:34:38.715154",
     "exception": false,
     "start_time": "2022-11-30T00:34:37.847332",
     "status": "completed"
    },
    "tags": []
   },
   "outputs": [
    {
     "name": "stdout",
     "output_type": "stream",
     "text": [
      "Works!\n"
     ]
    }
   ],
   "source": [
    "try:\n",
    "    chol_mat = np.linalg.cholesky(gene_corrs_df.to_numpy())\n",
    "    cov_inv = np.linalg.inv(chol_mat)\n",
    "    print(\"Works!\")\n",
    "except Exception as e:\n",
    "    print(f\"Cholesky decomposition failed: {str(e)}\")"
   ]
  },
  {
   "cell_type": "code",
   "execution_count": 40,
   "id": "dd8827fb-faf9-4c7c-9454-015e94752706",
   "metadata": {
    "execution": {
     "iopub.execute_input": "2022-11-30T00:34:40.403452Z",
     "iopub.status.busy": "2022-11-30T00:34:40.403197Z",
     "iopub.status.idle": "2022-11-30T00:34:40.426590Z",
     "shell.execute_reply": "2022-11-30T00:34:40.426031Z"
    },
    "papermill": {
     "duration": 0.860989,
     "end_time": "2022-11-30T00:34:40.427389",
     "exception": false,
     "start_time": "2022-11-30T00:34:39.566400",
     "status": "completed"
    },
    "tags": []
   },
   "outputs": [
    {
     "name": "stdout",
     "output_type": "stream",
     "text": [
      "Works!\n"
     ]
    }
   ],
   "source": [
    "try:\n",
    "    # decomposition used by statsmodels.GLS\n",
    "    cholsigmainv = np.linalg.cholesky(np.linalg.inv(gene_corrs_df.to_numpy())).T\n",
    "    print(\"Works!\")\n",
    "except Exception as e:\n",
    "    print(f\"Cholesky decomposition failed (statsmodels.GLS): {str(e)}\")"
   ]
  },
  {
   "cell_type": "markdown",
   "id": "8e60a080-edb2-4e9c-b2ef-22961693200c",
   "metadata": {
    "papermill": {
     "duration": 0.851259,
     "end_time": "2022-11-30T00:34:42.115344",
     "exception": false,
     "start_time": "2022-11-30T00:34:41.264085",
     "status": "completed"
    },
    "tags": []
   },
   "source": [
    "## Plot: distribution"
   ]
  },
  {
   "cell_type": "code",
   "execution_count": 41,
   "id": "8301126b-a7d4-4744-9c7d-f0f86eb6f54c",
   "metadata": {
    "execution": {
     "iopub.execute_input": "2022-11-30T00:34:43.811027Z",
     "iopub.status.busy": "2022-11-30T00:34:43.810726Z",
     "iopub.status.idle": "2022-11-30T00:34:47.040898Z",
     "shell.execute_reply": "2022-11-30T00:34:47.040478Z"
    },
    "papermill": {
     "duration": 4.081315,
     "end_time": "2022-11-30T00:34:47.042423",
     "exception": false,
     "start_time": "2022-11-30T00:34:42.961108",
     "status": "completed"
    },
    "tags": []
   },
   "outputs": [
    {
     "data": {
      "image/png": "[encoded data removed]",
      "text/plain": [
       "<Figure size 700x700 with 1 Axes>"
      ]
     },
     "metadata": {},
     "output_type": "display_data"
    }
   ],
   "source": [
    "with sns.plotting_context(\"paper\", font_scale=1.5):\n",
    "    g = sns.displot(gene_corrs_flat, kde=True, height=7)\n",
    "    g.ax.set_title(\n",
    "        f\"Distribution of gene correlation values in chromosome {CHROMOSOME}\"\n",
    "    )"
   ]
  },
  {
   "cell_type": "markdown",
   "id": "cbd52bca-d878-4a2f-b684-5c83aa3038d4",
   "metadata": {
    "papermill": {
     "duration": 0.852074,
     "end_time": "2022-11-30T00:34:48.786704",
     "exception": false,
     "start_time": "2022-11-30T00:34:47.934630",
     "status": "completed"
    },
    "tags": []
   },
   "source": [
    "## Plot: heatmap"
   ]
  },
  {
   "cell_type": "code",
   "execution_count": 42,
   "id": "d03fe63a-c7b2-4fb9-a53c-db362ce843c9",
   "metadata": {
    "execution": {
     "iopub.execute_input": "2022-11-30T00:34:50.473672Z",
     "iopub.status.busy": "2022-11-30T00:34:50.473219Z",
     "iopub.status.idle": "2022-11-30T00:34:50.496736Z",
     "shell.execute_reply": "2022-11-30T00:34:50.496191Z"
    },
    "papermill": {
     "duration": 0.8707,
     "end_time": "2022-11-30T00:34:50.497582",
     "exception": false,
     "start_time": "2022-11-30T00:34:49.626882",
     "status": "completed"
    },
    "tags": []
   },
   "outputs": [
    {
     "data": {
      "text/plain": [
       "'0.0 / 0.05'"
      ]
     },
     "metadata": {},
     "output_type": "display_data"
    }
   ],
   "source": [
    "vmin_val = min(0.00, gene_corrs_quantiles[0.10])\n",
    "vmax_val = max(0.05, gene_corrs_quantiles[0.90])\n",
    "display(f\"{vmin_val} / {vmax_val}\")"
   ]
  },
  {
   "cell_type": "code",
   "execution_count": 43,
   "id": "dc41b70b-5bcc-4d9e-9f33-a22c4a94dab5",
   "metadata": {
    "execution": {
     "iopub.execute_input": "2022-11-30T00:34:52.214361Z",
     "iopub.status.busy": "2022-11-30T00:34:52.213787Z",
     "iopub.status.idle": "2022-11-30T00:34:52.416864Z",
     "shell.execute_reply": "2022-11-30T00:34:52.416389Z"
    },
    "papermill": {
     "duration": 1.058826,
     "end_time": "2022-11-30T00:34:52.417739",
     "exception": false,
     "start_time": "2022-11-30T00:34:51.358913",
     "status": "completed"
    },
    "tags": []
   },
   "outputs": [
    {
     "data": {
      "text/plain": [
       "Text(0.5, 1.0, 'Gene correlations in chromosome 14')"
      ]
     },
     "execution_count": 43,
     "metadata": {},
     "output_type": "execute_result"
    },
    {
     "data": {
      "image/png": "[encoded data removed]",
      "text/plain": [
       "<Figure size 1000x1000 with 2 Axes>"
      ]
     },
     "metadata": {},
     "output_type": "display_data"
    }
   ],
   "source": [
    "f, ax = plt.subplots(figsize=(10, 10))\n",
    "sns.heatmap(\n",
    "    gene_corrs_df,\n",
    "    xticklabels=False,\n",
    "    yticklabels=False,\n",
    "    square=True,\n",
    "    vmin=vmin_val,\n",
    "    vmax=vmax_val,\n",
    "    cmap=\"rocket_r\",\n",
    "    ax=ax,\n",
    ")\n",
    "ax.set_title(f\"Gene correlations in chromosome {CHROMOSOME}\")"
   ]
  },
  {
   "cell_type": "code",
   "execution_count": null,
   "id": "b25e3ead",
   "metadata": {
    "papermill": {
     "duration": 0.853323,
     "end_time": "2022-11-30T00:34:54.148766",
     "exception": false,
     "start_time": "2022-11-30T00:34:53.295443",
     "status": "completed"
    },
    "tags": []
   },
   "outputs": [],
   "source": []
  }
 ],
 "metadata": {
  "jupytext": {
   "cell_metadata_filter": "all,-execution,-papermill,-trusted",
   "formats": "ipynb,py//py:percent"
  },
  "kernelspec": {
   "display_name": "Python 3 (ipykernel)",
   "language": "python",
   "name": "python3"
  },
  "language_info": {
   "codemirror_mode": {
    "name": "ipython",
    "version": 3
   },
   "file_extension": ".py",
   "mimetype": "text/x-python",
   "name": "python",
   "nbconvert_exporter": "python",
   "pygments_lexer": "ipython3",
   "version": "3.10.6"
  },
  "papermill": {
   "default_parameters": {},
   "duration": 991.255841,
   "end_time": "2022-11-30T00:34:58.380742",
   "environment_variables": {},
   "exception": null,
   "input_path": "projects/asthma-copd/nbs/20_gene_corrs/10-gene_expr_correlations.ipynb",
   "output_path": "projects/asthma-copd/nbs/20_gene_corrs/gene_corrs/copd_only/10-gene_expr_correlations-chr14.run.ipynb",
   "parameters": {
    "CHROMOSOME": 14,
    "COHORT_NAME": "copd_only",
    "OUTPUT_DIR_BASE": "/opt/data/projects/asthma-copd/results/gls_phenoplier"
   },
   "start_time": "2022-11-30T00:18:27.124901",
   "version": "2.2.2"
  }
 },
 "nbformat": 4,
 "nbformat_minor": 5
}
