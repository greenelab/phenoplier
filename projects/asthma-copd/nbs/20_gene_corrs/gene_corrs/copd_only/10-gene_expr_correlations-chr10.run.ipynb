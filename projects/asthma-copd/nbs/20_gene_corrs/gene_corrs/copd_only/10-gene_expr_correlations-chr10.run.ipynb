{
 "cells": [
  {
   "cell_type": "markdown",
   "id": "7a6632fb",
   "metadata": {
    "papermill": {
     "duration": 0.009082,
     "end_time": "2022-11-29T23:59:49.110606",
     "exception": false,
     "start_time": "2022-11-29T23:59:49.101524",
     "status": "completed"
    },
    "tags": []
   },
   "source": [
    "# Description"
   ]
  },
  {
   "cell_type": "markdown",
   "id": "7097c346",
   "metadata": {
    "papermill": {
     "duration": 0.008928,
     "end_time": "2022-11-29T23:59:49.129634",
     "exception": false,
     "start_time": "2022-11-29T23:59:49.120706",
     "status": "completed"
    },
    "tags": []
   },
   "source": [
    "(Please, take a look at the README.md file in this directory for instructions on how to run this notebook)\n",
    "\n",
    "This notebook computes predicted expression correlations between all genes in the MultiPLIER models.\n",
    "\n",
    "It has specicfic parameters for papermill (see under `Settings` below).\n",
    "It can be configured to run on a single chromosome to run in parallel.\n",
    "\n",
    "This notebook is not directly run. See README.md."
   ]
  },
  {
   "cell_type": "markdown",
   "id": "c61d8427",
   "metadata": {
    "papermill": {
     "duration": 0.008189,
     "end_time": "2022-11-29T23:59:49.146164",
     "exception": false,
     "start_time": "2022-11-29T23:59:49.137975",
     "status": "completed"
    },
    "tags": []
   },
   "source": [
    "# Modules"
   ]
  },
  {
   "cell_type": "code",
   "execution_count": 1,
   "id": "bbc0234f",
   "metadata": {
    "execution": {
     "iopub.execute_input": "2022-11-29T23:59:49.164720Z",
     "iopub.status.busy": "2022-11-29T23:59:49.164424Z",
     "iopub.status.idle": "2022-11-29T23:59:49.183317Z",
     "shell.execute_reply": "2022-11-29T23:59:49.182647Z"
    },
    "papermill": {
     "duration": 0.029949,
     "end_time": "2022-11-29T23:59:49.185175",
     "exception": false,
     "start_time": "2022-11-29T23:59:49.155226",
     "status": "completed"
    },
    "tags": []
   },
   "outputs": [],
   "source": [
    "%load_ext autoreload\n",
    "%autoreload 2"
   ]
  },
  {
   "cell_type": "code",
   "execution_count": 2,
   "id": "1d5f5a59",
   "metadata": {
    "execution": {
     "iopub.execute_input": "2022-11-29T23:59:49.207148Z",
     "iopub.status.busy": "2022-11-29T23:59:49.206645Z",
     "iopub.status.idle": "2022-11-29T23:59:49.897970Z",
     "shell.execute_reply": "2022-11-29T23:59:49.897510Z"
    },
    "papermill": {
     "duration": 0.703956,
     "end_time": "2022-11-29T23:59:49.899834",
     "exception": false,
     "start_time": "2022-11-29T23:59:49.195878",
     "status": "completed"
    },
    "tags": []
   },
   "outputs": [],
   "source": [
    "from random import sample, seed\n",
    "import warnings\n",
    "from pathlib import Path\n",
    "import pickle\n",
    "import traceback\n",
    "\n",
    "import numpy as np\n",
    "from scipy.spatial.distance import squareform\n",
    "import pandas as pd\n",
    "from tqdm import tqdm\n",
    "import matplotlib.pyplot as plt\n",
    "import seaborn as sns\n",
    "\n",
    "import conf\n",
    "from entity import Gene"
   ]
  },
  {
   "cell_type": "markdown",
   "id": "1eac24b5",
   "metadata": {
    "papermill": {
     "duration": 0.009715,
     "end_time": "2022-11-29T23:59:49.919320",
     "exception": false,
     "start_time": "2022-11-29T23:59:49.909605",
     "status": "completed"
    },
    "tags": []
   },
   "source": [
    "# Settings"
   ]
  },
  {
   "cell_type": "code",
   "execution_count": 3,
   "id": "ca4560ba",
   "metadata": {
    "execution": {
     "iopub.execute_input": "2022-11-29T23:59:49.938697Z",
     "iopub.status.busy": "2022-11-29T23:59:49.938492Z",
     "iopub.status.idle": "2022-11-29T23:59:49.959731Z",
     "shell.execute_reply": "2022-11-29T23:59:49.959144Z"
    },
    "papermill": {
     "duration": 0.033623,
     "end_time": "2022-11-29T23:59:49.961406",
     "exception": false,
     "start_time": "2022-11-29T23:59:49.927783",
     "status": "completed"
    },
    "tags": [
     "parameters"
    ]
   },
   "outputs": [],
   "source": [
    "# a cohort name (it could be something like UK_BIOBANK, etc)\n",
    "COHORT_NAME = None\n",
    "\n",
    "# reference panel such as 1000G or GTEX_V8\n",
    "REFERENCE_PANEL = \"GTEX_V8\"\n",
    "\n",
    "# predictions models such as MASHR or ELASTIC_NET\n",
    "EQTL_MODEL = \"MASHR\"\n",
    "\n",
    "# this is the default value used in S-MultiXcan to select the\n",
    "# top principal components of the expression correlation matrix\n",
    "SMULTIXCAN_CONDITION_NUMBER = 30\n",
    "\n",
    "# specifies a single chromosome value\n",
    "CHROMOSOME = None\n",
    "\n",
    "# If True, computes the correlation between closeby genes only;\n",
    "# otherwise, it computes correlations for all genes in a chromosome\n",
    "COMPUTE_CORRELATIONS_WITHIN_DISTANCE = False\n",
    "\n",
    "# if True, then it will continue if a gene pair correlation fails,\n",
    "# printing the warning/error for debugging. If False, any warning/error\n",
    "# will be thrown\n",
    "DEBUG_MODE = False\n",
    "\n",
    "# output dir\n",
    "OUTPUT_DIR_BASE = None"
   ]
  },
  {
   "cell_type": "code",
   "execution_count": 4,
   "id": "f7fe1ac6",
   "metadata": {
    "execution": {
     "iopub.execute_input": "2022-11-29T23:59:49.982433Z",
     "iopub.status.busy": "2022-11-29T23:59:49.982201Z",
     "iopub.status.idle": "2022-11-29T23:59:50.000909Z",
     "shell.execute_reply": "2022-11-29T23:59:50.000402Z"
    },
    "papermill": {
     "duration": 0.030924,
     "end_time": "2022-11-29T23:59:50.002536",
     "exception": false,
     "start_time": "2022-11-29T23:59:49.971612",
     "status": "completed"
    },
    "tags": [
     "injected-parameters"
    ]
   },
   "outputs": [],
   "source": [
    "# Parameters\n",
    "COHORT_NAME = \"copd_only\"\n",
    "CHROMOSOME = 10\n",
    "OUTPUT_DIR_BASE = \"/opt/data/projects/asthma-copd/results/gls_phenoplier\"\n"
   ]
  },
  {
   "cell_type": "code",
   "execution_count": 5,
   "id": "3190631f-27fc-480f-b18e-571d580425a5",
   "metadata": {
    "execution": {
     "iopub.execute_input": "2022-11-29T23:59:50.023535Z",
     "iopub.status.busy": "2022-11-29T23:59:50.023357Z",
     "iopub.status.idle": "2022-11-29T23:59:50.048668Z",
     "shell.execute_reply": "2022-11-29T23:59:50.048115Z"
    },
    "papermill": {
     "duration": 0.037706,
     "end_time": "2022-11-29T23:59:50.050320",
     "exception": false,
     "start_time": "2022-11-29T23:59:50.012614",
     "status": "completed"
    },
    "tags": []
   },
   "outputs": [
    {
     "data": {
      "text/plain": [
       "'Cohort name: copd_only'"
      ]
     },
     "metadata": {},
     "output_type": "display_data"
    }
   ],
   "source": [
    "assert COHORT_NAME is not None and len(COHORT_NAME) > 0, \"A cohort name must be given\"\n",
    "\n",
    "COHORT_NAME = COHORT_NAME.lower()\n",
    "display(f\"Cohort name: {COHORT_NAME}\")"
   ]
  },
  {
   "cell_type": "code",
   "execution_count": 6,
   "id": "f53ba19b-0f93-4fa2-a047-63b375939d1a",
   "metadata": {
    "execution": {
     "iopub.execute_input": "2022-11-29T23:59:50.069600Z",
     "iopub.status.busy": "2022-11-29T23:59:50.069087Z",
     "iopub.status.idle": "2022-11-29T23:59:50.092044Z",
     "shell.execute_reply": "2022-11-29T23:59:50.091459Z"
    },
    "papermill": {
     "duration": 0.033895,
     "end_time": "2022-11-29T23:59:50.093693",
     "exception": false,
     "start_time": "2022-11-29T23:59:50.059798",
     "status": "completed"
    },
    "tags": []
   },
   "outputs": [
    {
     "data": {
      "text/plain": [
       "'Reference panel: GTEX_V8'"
      ]
     },
     "metadata": {},
     "output_type": "display_data"
    }
   ],
   "source": [
    "assert (\n",
    "    REFERENCE_PANEL is not None and len(REFERENCE_PANEL) > 0\n",
    "), \"A reference panel must be given\"\n",
    "\n",
    "display(f\"Reference panel: {REFERENCE_PANEL}\")"
   ]
  },
  {
   "cell_type": "code",
   "execution_count": 7,
   "id": "e024d130-c139-429a-9c6e-ccf149e297b0",
   "metadata": {
    "execution": {
     "iopub.execute_input": "2022-11-29T23:59:50.114642Z",
     "iopub.status.busy": "2022-11-29T23:59:50.114192Z",
     "iopub.status.idle": "2022-11-29T23:59:50.136712Z",
     "shell.execute_reply": "2022-11-29T23:59:50.136131Z"
    },
    "papermill": {
     "duration": 0.03404,
     "end_time": "2022-11-29T23:59:50.138126",
     "exception": false,
     "start_time": "2022-11-29T23:59:50.104086",
     "status": "completed"
    },
    "tags": []
   },
   "outputs": [
    {
     "data": {
      "text/plain": [
       "'eQTL model: MASHR) / mashr_'"
      ]
     },
     "metadata": {},
     "output_type": "display_data"
    }
   ],
   "source": [
    "assert (\n",
    "    EQTL_MODEL is not None and len(EQTL_MODEL) > 0\n",
    "), \"A prediction/eQTL model must be given\"\n",
    "\n",
    "EQTL_MODEL_FILES_PREFIX = conf.PHENOMEXCAN[\"PREDICTION_MODELS\"][f\"{EQTL_MODEL}_PREFIX\"]\n",
    "display(f\"eQTL model: {EQTL_MODEL}) / {EQTL_MODEL_FILES_PREFIX}\")"
   ]
  },
  {
   "cell_type": "code",
   "execution_count": 8,
   "id": "552a7f63-a18c-4d3e-bb6a-94f99b431291",
   "metadata": {
    "execution": {
     "iopub.execute_input": "2022-11-29T23:59:50.158377Z",
     "iopub.status.busy": "2022-11-29T23:59:50.157931Z",
     "iopub.status.idle": "2022-11-29T23:59:50.181119Z",
     "shell.execute_reply": "2022-11-29T23:59:50.180481Z"
    },
    "papermill": {
     "duration": 0.035483,
     "end_time": "2022-11-29T23:59:50.182624",
     "exception": false,
     "start_time": "2022-11-29T23:59:50.147141",
     "status": "completed"
    },
    "tags": []
   },
   "outputs": [
    {
     "data": {
      "text/plain": [
       "'S-MultiXcan condition number: 30'"
      ]
     },
     "metadata": {},
     "output_type": "display_data"
    }
   ],
   "source": [
    "assert (\n",
    "    SMULTIXCAN_CONDITION_NUMBER is not None and SMULTIXCAN_CONDITION_NUMBER > 0\n",
    "), \"The S-MultiXcan condition number (positive integer) must be given\"\n",
    "\n",
    "display(f\"S-MultiXcan condition number: {SMULTIXCAN_CONDITION_NUMBER}\")"
   ]
  },
  {
   "cell_type": "code",
   "execution_count": 9,
   "id": "f34a336f-548e-4afe-8955-90eaea4f42c6",
   "metadata": {
    "execution": {
     "iopub.execute_input": "2022-11-29T23:59:50.203016Z",
     "iopub.status.busy": "2022-11-29T23:59:50.202520Z",
     "iopub.status.idle": "2022-11-29T23:59:50.224777Z",
     "shell.execute_reply": "2022-11-29T23:59:50.224193Z"
    },
    "papermill": {
     "duration": 0.034529,
     "end_time": "2022-11-29T23:59:50.226196",
     "exception": false,
     "start_time": "2022-11-29T23:59:50.191667",
     "status": "completed"
    },
    "tags": []
   },
   "outputs": [
    {
     "data": {
      "text/plain": [
       "'Working on chromosome 10'"
      ]
     },
     "metadata": {},
     "output_type": "display_data"
    }
   ],
   "source": [
    "assert CHROMOSOME is not None and (\n",
    "    1 <= CHROMOSOME <= 22\n",
    "), \"You have to select one chromosome (format: number between 1 and 22)\"\n",
    "\n",
    "# CHROMOSOME = str(CHROMOSOME)\n",
    "display(f\"Working on chromosome {CHROMOSOME}\")"
   ]
  },
  {
   "cell_type": "code",
   "execution_count": 10,
   "id": "ab8e96e8-06b5-4363-9dcd-dc4d78cc27f7",
   "metadata": {
    "execution": {
     "iopub.execute_input": "2022-11-29T23:59:50.246141Z",
     "iopub.status.busy": "2022-11-29T23:59:50.245726Z",
     "iopub.status.idle": "2022-11-29T23:59:50.267717Z",
     "shell.execute_reply": "2022-11-29T23:59:50.267150Z"
    },
    "papermill": {
     "duration": 0.033685,
     "end_time": "2022-11-29T23:59:50.269119",
     "exception": false,
     "start_time": "2022-11-29T23:59:50.235434",
     "status": "completed"
    },
    "tags": []
   },
   "outputs": [
    {
     "data": {
      "text/plain": [
       "'Compute correlation within distance False'"
      ]
     },
     "metadata": {},
     "output_type": "display_data"
    }
   ],
   "source": [
    "display(f\"Compute correlation within distance {COMPUTE_CORRELATIONS_WITHIN_DISTANCE}\")"
   ]
  },
  {
   "cell_type": "code",
   "execution_count": 11,
   "id": "b393b698-77e3-4ba2-8ac1-e14d51aa988f",
   "metadata": {
    "execution": {
     "iopub.execute_input": "2022-11-29T23:59:50.288763Z",
     "iopub.status.busy": "2022-11-29T23:59:50.288326Z",
     "iopub.status.idle": "2022-11-29T23:59:50.311420Z",
     "shell.execute_reply": "2022-11-29T23:59:50.310844Z"
    },
    "papermill": {
     "duration": 0.034419,
     "end_time": "2022-11-29T23:59:50.312880",
     "exception": false,
     "start_time": "2022-11-29T23:59:50.278461",
     "status": "completed"
    },
    "tags": []
   },
   "outputs": [
    {
     "data": {
      "text/plain": [
       "'Using output dir base: /opt/data/projects/asthma-copd/results/gls_phenoplier/gene_corrs/copd_only'"
      ]
     },
     "metadata": {},
     "output_type": "display_data"
    }
   ],
   "source": [
    "assert (\n",
    "    OUTPUT_DIR_BASE is not None and len(OUTPUT_DIR_BASE) > 0\n",
    "), \"Output directory path must be given\"\n",
    "\n",
    "OUTPUT_DIR_BASE = (\n",
    "    Path(OUTPUT_DIR_BASE)\n",
    "    / \"gene_corrs\"\n",
    "    / COHORT_NAME\n",
    "    # / REFERENCE_PANEL.lower()\n",
    "    # / EQTL_MODEL.lower()\n",
    ").resolve()\n",
    "\n",
    "OUTPUT_DIR_BASE.mkdir(parents=True, exist_ok=True)\n",
    "\n",
    "display(f\"Using output dir base: {OUTPUT_DIR_BASE}\")"
   ]
  },
  {
   "cell_type": "markdown",
   "id": "d2ba085e",
   "metadata": {
    "papermill": {
     "duration": 0.009272,
     "end_time": "2022-11-29T23:59:50.331842",
     "exception": false,
     "start_time": "2022-11-29T23:59:50.322570",
     "status": "completed"
    },
    "tags": []
   },
   "source": [
    "# Load data"
   ]
  },
  {
   "cell_type": "markdown",
   "id": "7dcb8db7",
   "metadata": {
    "papermill": {
     "duration": 0.009179,
     "end_time": "2022-11-29T23:59:50.350930",
     "exception": false,
     "start_time": "2022-11-29T23:59:50.341751",
     "status": "completed"
    },
    "tags": []
   },
   "source": [
    "## GWAS variants"
   ]
  },
  {
   "cell_type": "code",
   "execution_count": 12,
   "id": "29434c4e-8cd3-4b9b-82e4-b5a251d9dd19",
   "metadata": {
    "execution": {
     "iopub.execute_input": "2022-11-29T23:59:50.370685Z",
     "iopub.status.busy": "2022-11-29T23:59:50.370170Z",
     "iopub.status.idle": "2022-11-29T23:59:52.364253Z",
     "shell.execute_reply": "2022-11-29T23:59:52.363719Z"
    },
    "papermill": {
     "duration": 2.005521,
     "end_time": "2022-11-29T23:59:52.365749",
     "exception": false,
     "start_time": "2022-11-29T23:59:50.360228",
     "status": "completed"
    },
    "tags": []
   },
   "outputs": [],
   "source": [
    "with open(OUTPUT_DIR_BASE / \"gwas_variant_ids.pkl\", \"rb\") as handle:\n",
    "    gwas_variants_ids_set = pickle.load(handle)"
   ]
  },
  {
   "cell_type": "code",
   "execution_count": 13,
   "id": "b9d9dec2-4a76-4bf9-bde2-e24c95acb8a0",
   "metadata": {
    "execution": {
     "iopub.execute_input": "2022-11-29T23:59:52.385324Z",
     "iopub.status.busy": "2022-11-29T23:59:52.385187Z",
     "iopub.status.idle": "2022-11-29T23:59:52.398768Z",
     "shell.execute_reply": "2022-11-29T23:59:52.398327Z"
    },
    "papermill": {
     "duration": 0.025051,
     "end_time": "2022-11-29T23:59:52.399932",
     "exception": false,
     "start_time": "2022-11-29T23:59:52.374881",
     "status": "completed"
    },
    "tags": []
   },
   "outputs": [
    {
     "data": {
      "text/plain": [
       "8586183"
      ]
     },
     "execution_count": 13,
     "metadata": {},
     "output_type": "execute_result"
    }
   ],
   "source": [
    "len(gwas_variants_ids_set)"
   ]
  },
  {
   "cell_type": "code",
   "execution_count": 14,
   "id": "4235b06a-6034-4ee4-a0a3-2ae35d122418",
   "metadata": {
    "execution": {
     "iopub.execute_input": "2022-11-29T23:59:52.419489Z",
     "iopub.status.busy": "2022-11-29T23:59:52.419297Z",
     "iopub.status.idle": "2022-11-29T23:59:52.789467Z",
     "shell.execute_reply": "2022-11-29T23:59:52.788983Z"
    },
    "papermill": {
     "duration": 0.381099,
     "end_time": "2022-11-29T23:59:52.790736",
     "exception": false,
     "start_time": "2022-11-29T23:59:52.409637",
     "status": "completed"
    },
    "tags": []
   },
   "outputs": [
    {
     "data": {
      "text/plain": [
       "['chr7_93805142_G_A_b38',\n",
       " 'chr11_33316620_C_T_b38',\n",
       " 'chr1_166339546_A_G_b38',\n",
       " 'chr12_116097074_T_C_b38',\n",
       " 'chr15_25113642_C_T_b38']"
      ]
     },
     "execution_count": 14,
     "metadata": {},
     "output_type": "execute_result"
    }
   ],
   "source": [
    "list(gwas_variants_ids_set)[:5]"
   ]
  },
  {
   "cell_type": "markdown",
   "id": "07866999-2305-41f9-a144-e69c9122c212",
   "metadata": {
    "papermill": {
     "duration": 0.009627,
     "end_time": "2022-11-29T23:59:52.809841",
     "exception": false,
     "start_time": "2022-11-29T23:59:52.800214",
     "status": "completed"
    },
    "tags": []
   },
   "source": [
    "## S-PrediXcan tissue models"
   ]
  },
  {
   "cell_type": "code",
   "execution_count": 15,
   "id": "780611d9-77c8-405f-90a4-f271f7b09397",
   "metadata": {
    "execution": {
     "iopub.execute_input": "2022-11-29T23:59:52.829213Z",
     "iopub.status.busy": "2022-11-29T23:59:52.829084Z",
     "iopub.status.idle": "2022-11-29T23:59:53.441321Z",
     "shell.execute_reply": "2022-11-29T23:59:53.440813Z"
    },
    "papermill": {
     "duration": 0.624407,
     "end_time": "2022-11-29T23:59:53.443036",
     "exception": false,
     "start_time": "2022-11-29T23:59:52.818629",
     "status": "completed"
    },
    "tags": []
   },
   "outputs": [],
   "source": [
    "spredixcan_genes_models = pd.read_pickle(OUTPUT_DIR_BASE / \"gene_tissues.pkl\")"
   ]
  },
  {
   "cell_type": "code",
   "execution_count": 16,
   "id": "726dd1f6-9557-4225-91fa-b3b879ea96e1",
   "metadata": {
    "execution": {
     "iopub.execute_input": "2022-11-29T23:59:53.463565Z",
     "iopub.status.busy": "2022-11-29T23:59:53.463450Z",
     "iopub.status.idle": "2022-11-29T23:59:53.477222Z",
     "shell.execute_reply": "2022-11-29T23:59:53.476768Z"
    },
    "papermill": {
     "duration": 0.025418,
     "end_time": "2022-11-29T23:59:53.478552",
     "exception": false,
     "start_time": "2022-11-29T23:59:53.453134",
     "status": "completed"
    },
    "tags": []
   },
   "outputs": [
    {
     "data": {
      "text/plain": [
       "(6443, 5)"
      ]
     },
     "execution_count": 16,
     "metadata": {},
     "output_type": "execute_result"
    }
   ],
   "source": [
    "spredixcan_genes_models.shape"
   ]
  },
  {
   "cell_type": "code",
   "execution_count": 17,
   "id": "944a1b48-222c-4eb0-b252-b9de2cbca215",
   "metadata": {
    "execution": {
     "iopub.execute_input": "2022-11-29T23:59:53.499582Z",
     "iopub.status.busy": "2022-11-29T23:59:53.499469Z",
     "iopub.status.idle": "2022-11-29T23:59:53.516515Z",
     "shell.execute_reply": "2022-11-29T23:59:53.516044Z"
    },
    "papermill": {
     "duration": 0.029286,
     "end_time": "2022-11-29T23:59:53.517837",
     "exception": false,
     "start_time": "2022-11-29T23:59:53.488551",
     "status": "completed"
    },
    "tags": []
   },
   "outputs": [
    {
     "data": {
      "text/html": [
       "<div>\n",
       "<style scoped>\n",
       "    .dataframe tbody tr th:only-of-type {\n",
       "        vertical-align: middle;\n",
       "    }\n",
       "\n",
       "    .dataframe tbody tr th {\n",
       "        vertical-align: top;\n",
       "    }\n",
       "\n",
       "    .dataframe thead th {\n",
       "        text-align: right;\n",
       "    }\n",
       "</style>\n",
       "<table border=\"1\" class=\"dataframe\">\n",
       "  <thead>\n",
       "    <tr style=\"text-align: right;\">\n",
       "      <th></th>\n",
       "      <th>gene_name</th>\n",
       "      <th>tissue</th>\n",
       "      <th>n_tissues</th>\n",
       "      <th>n_snps_used_sum</th>\n",
       "      <th>n_snps_in_model_sum</th>\n",
       "    </tr>\n",
       "    <tr>\n",
       "      <th>gene_id</th>\n",
       "      <th></th>\n",
       "      <th></th>\n",
       "      <th></th>\n",
       "      <th></th>\n",
       "      <th></th>\n",
       "    </tr>\n",
       "  </thead>\n",
       "  <tbody>\n",
       "    <tr>\n",
       "      <th>ENSG00000000419</th>\n",
       "      <td>DPM1</td>\n",
       "      <td>(Brain_Hypothalamus, Brain_Substantia_nigra)</td>\n",
       "      <td>2</td>\n",
       "      <td>2</td>\n",
       "      <td>2</td>\n",
       "    </tr>\n",
       "    <tr>\n",
       "      <th>ENSG00000000938</th>\n",
       "      <td>FGR</td>\n",
       "      <td>(Thyroid, Cells_EBV-transformed_lymphocytes, C...</td>\n",
       "      <td>36</td>\n",
       "      <td>40</td>\n",
       "      <td>40</td>\n",
       "    </tr>\n",
       "    <tr>\n",
       "      <th>ENSG00000000971</th>\n",
       "      <td>CFH</td>\n",
       "      <td>(Thyroid, Colon_Sigmoid, Colon_Transverse, Art...</td>\n",
       "      <td>34</td>\n",
       "      <td>44</td>\n",
       "      <td>44</td>\n",
       "    </tr>\n",
       "    <tr>\n",
       "      <th>ENSG00000001084</th>\n",
       "      <td>GCLC</td>\n",
       "      <td>(Thyroid, Cells_EBV-transformed_lymphocytes, B...</td>\n",
       "      <td>32</td>\n",
       "      <td>46</td>\n",
       "      <td>46</td>\n",
       "    </tr>\n",
       "    <tr>\n",
       "      <th>ENSG00000001167</th>\n",
       "      <td>NFYA</td>\n",
       "      <td>(Thyroid, Colon_Sigmoid, Colon_Transverse, Art...</td>\n",
       "      <td>40</td>\n",
       "      <td>47</td>\n",
       "      <td>48</td>\n",
       "    </tr>\n",
       "  </tbody>\n",
       "</table>\n",
       "</div>"
      ],
      "text/plain": [
       "                gene_name                                             tissue  \\\n",
       "gene_id                                                                        \n",
       "ENSG00000000419      DPM1       (Brain_Hypothalamus, Brain_Substantia_nigra)   \n",
       "ENSG00000000938       FGR  (Thyroid, Cells_EBV-transformed_lymphocytes, C...   \n",
       "ENSG00000000971       CFH  (Thyroid, Colon_Sigmoid, Colon_Transverse, Art...   \n",
       "ENSG00000001084      GCLC  (Thyroid, Cells_EBV-transformed_lymphocytes, B...   \n",
       "ENSG00000001167      NFYA  (Thyroid, Colon_Sigmoid, Colon_Transverse, Art...   \n",
       "\n",
       "                 n_tissues  n_snps_used_sum  n_snps_in_model_sum  \n",
       "gene_id                                                           \n",
       "ENSG00000000419          2                2                    2  \n",
       "ENSG00000000938         36               40                   40  \n",
       "ENSG00000000971         34               44                   44  \n",
       "ENSG00000001084         32               46                   46  \n",
       "ENSG00000001167         40               47                   48  "
      ]
     },
     "execution_count": 17,
     "metadata": {},
     "output_type": "execute_result"
    }
   ],
   "source": [
    "spredixcan_genes_models.head()"
   ]
  },
  {
   "cell_type": "code",
   "execution_count": 18,
   "id": "d1c11bb1-be0b-4f40-b360-633d6827109f",
   "metadata": {
    "execution": {
     "iopub.execute_input": "2022-11-29T23:59:53.538852Z",
     "iopub.status.busy": "2022-11-29T23:59:53.538736Z",
     "iopub.status.idle": "2022-11-29T23:59:53.551630Z",
     "shell.execute_reply": "2022-11-29T23:59:53.551140Z"
    },
    "papermill": {
     "duration": 0.024978,
     "end_time": "2022-11-29T23:59:53.553048",
     "exception": false,
     "start_time": "2022-11-29T23:59:53.528070",
     "status": "completed"
    },
    "tags": []
   },
   "outputs": [],
   "source": [
    "assert spredixcan_genes_models.index.is_unique"
   ]
  },
  {
   "cell_type": "markdown",
   "id": "a5b5092c-a13e-47c4-a92a-480fcc08f3ae",
   "metadata": {
    "papermill": {
     "duration": 0.01058,
     "end_time": "2022-11-29T23:59:53.574039",
     "exception": false,
     "start_time": "2022-11-29T23:59:53.563459",
     "status": "completed"
    },
    "tags": []
   },
   "source": [
    "## Gene info"
   ]
  },
  {
   "cell_type": "code",
   "execution_count": 19,
   "id": "7d6bb224-88e9-4358-ac10-43a41d92cdad",
   "metadata": {
    "execution": {
     "iopub.execute_input": "2022-11-29T23:59:53.595124Z",
     "iopub.status.busy": "2022-11-29T23:59:53.594981Z",
     "iopub.status.idle": "2022-11-29T23:59:53.613766Z",
     "shell.execute_reply": "2022-11-29T23:59:53.613227Z"
    },
    "papermill": {
     "duration": 0.030989,
     "end_time": "2022-11-29T23:59:53.615189",
     "exception": false,
     "start_time": "2022-11-29T23:59:53.584200",
     "status": "completed"
    },
    "tags": []
   },
   "outputs": [],
   "source": [
    "genes_info = pd.read_pickle(OUTPUT_DIR_BASE / \"genes_info.pkl\")"
   ]
  },
  {
   "cell_type": "code",
   "execution_count": 20,
   "id": "9e32abfa-546d-483e-8c18-d526e9e05903",
   "metadata": {
    "execution": {
     "iopub.execute_input": "2022-11-29T23:59:53.637527Z",
     "iopub.status.busy": "2022-11-29T23:59:53.637182Z",
     "iopub.status.idle": "2022-11-29T23:59:53.654809Z",
     "shell.execute_reply": "2022-11-29T23:59:53.654308Z"
    },
    "papermill": {
     "duration": 0.029908,
     "end_time": "2022-11-29T23:59:53.656206",
     "exception": false,
     "start_time": "2022-11-29T23:59:53.626298",
     "status": "completed"
    },
    "tags": []
   },
   "outputs": [
    {
     "data": {
      "text/plain": [
       "(6443, 7)"
      ]
     },
     "execution_count": 20,
     "metadata": {},
     "output_type": "execute_result"
    }
   ],
   "source": [
    "genes_info.shape"
   ]
  },
  {
   "cell_type": "code",
   "execution_count": 21,
   "id": "d16c3e92-85ec-468a-9a56-e25a9774a1cb",
   "metadata": {
    "execution": {
     "iopub.execute_input": "2022-11-29T23:59:53.677853Z",
     "iopub.status.busy": "2022-11-29T23:59:53.677619Z",
     "iopub.status.idle": "2022-11-29T23:59:53.703204Z",
     "shell.execute_reply": "2022-11-29T23:59:53.702620Z"
    },
    "papermill": {
     "duration": 0.038114,
     "end_time": "2022-11-29T23:59:53.704709",
     "exception": false,
     "start_time": "2022-11-29T23:59:53.666595",
     "status": "completed"
    },
    "tags": []
   },
   "outputs": [
    {
     "data": {
      "text/html": [
       "<div>\n",
       "<style scoped>\n",
       "    .dataframe tbody tr th:only-of-type {\n",
       "        vertical-align: middle;\n",
       "    }\n",
       "\n",
       "    .dataframe tbody tr th {\n",
       "        vertical-align: top;\n",
       "    }\n",
       "\n",
       "    .dataframe thead th {\n",
       "        text-align: right;\n",
       "    }\n",
       "</style>\n",
       "<table border=\"1\" class=\"dataframe\">\n",
       "  <thead>\n",
       "    <tr style=\"text-align: right;\">\n",
       "      <th></th>\n",
       "      <th>name</th>\n",
       "      <th>id</th>\n",
       "      <th>chr</th>\n",
       "      <th>band</th>\n",
       "      <th>start_position</th>\n",
       "      <th>end_position</th>\n",
       "      <th>gene_length</th>\n",
       "    </tr>\n",
       "  </thead>\n",
       "  <tbody>\n",
       "    <tr>\n",
       "      <th>0</th>\n",
       "      <td>PPP1R13B</td>\n",
       "      <td>ENSG00000088808</td>\n",
       "      <td>14</td>\n",
       "      <td>14q32.33</td>\n",
       "      <td>103733195</td>\n",
       "      <td>103847590</td>\n",
       "      <td>114395</td>\n",
       "    </tr>\n",
       "    <tr>\n",
       "      <th>1</th>\n",
       "      <td>HNRNPA0</td>\n",
       "      <td>ENSG00000177733</td>\n",
       "      <td>5</td>\n",
       "      <td>5q31.2</td>\n",
       "      <td>137745651</td>\n",
       "      <td>137754376</td>\n",
       "      <td>8725</td>\n",
       "    </tr>\n",
       "    <tr>\n",
       "      <th>2</th>\n",
       "      <td>GSN</td>\n",
       "      <td>ENSG00000148180</td>\n",
       "      <td>9</td>\n",
       "      <td>9q33.2</td>\n",
       "      <td>121207794</td>\n",
       "      <td>121332843</td>\n",
       "      <td>125049</td>\n",
       "    </tr>\n",
       "    <tr>\n",
       "      <th>3</th>\n",
       "      <td>CCR3</td>\n",
       "      <td>ENSG00000183625</td>\n",
       "      <td>3</td>\n",
       "      <td>3p21.31</td>\n",
       "      <td>46163604</td>\n",
       "      <td>46266706</td>\n",
       "      <td>103102</td>\n",
       "    </tr>\n",
       "    <tr>\n",
       "      <th>4</th>\n",
       "      <td>TRIB2</td>\n",
       "      <td>ENSG00000071575</td>\n",
       "      <td>2</td>\n",
       "      <td>2p24.3</td>\n",
       "      <td>12716889</td>\n",
       "      <td>12742734</td>\n",
       "      <td>25845</td>\n",
       "    </tr>\n",
       "  </tbody>\n",
       "</table>\n",
       "</div>"
      ],
      "text/plain": [
       "       name               id  chr      band  start_position  end_position  \\\n",
       "0  PPP1R13B  ENSG00000088808   14  14q32.33       103733195     103847590   \n",
       "1   HNRNPA0  ENSG00000177733    5    5q31.2       137745651     137754376   \n",
       "2       GSN  ENSG00000148180    9    9q33.2       121207794     121332843   \n",
       "3      CCR3  ENSG00000183625    3   3p21.31        46163604      46266706   \n",
       "4     TRIB2  ENSG00000071575    2    2p24.3        12716889      12742734   \n",
       "\n",
       "   gene_length  \n",
       "0       114395  \n",
       "1         8725  \n",
       "2       125049  \n",
       "3       103102  \n",
       "4        25845  "
      ]
     },
     "execution_count": 21,
     "metadata": {},
     "output_type": "execute_result"
    }
   ],
   "source": [
    "genes_info.head()"
   ]
  },
  {
   "cell_type": "markdown",
   "id": "d3843e06",
   "metadata": {
    "papermill": {
     "duration": 0.010496,
     "end_time": "2022-11-29T23:59:53.726321",
     "exception": false,
     "start_time": "2022-11-29T23:59:53.715825",
     "status": "completed"
    },
    "tags": []
   },
   "source": [
    "# Compute correlations"
   ]
  },
  {
   "cell_type": "code",
   "execution_count": 22,
   "id": "cb859c15-d1f3-4006-a74c-2b83c0db9611",
   "metadata": {
    "execution": {
     "iopub.execute_input": "2022-11-29T23:59:53.748397Z",
     "iopub.status.busy": "2022-11-29T23:59:53.748094Z",
     "iopub.status.idle": "2022-11-29T23:59:53.770680Z",
     "shell.execute_reply": "2022-11-29T23:59:53.770074Z"
    },
    "papermill": {
     "duration": 0.035272,
     "end_time": "2022-11-29T23:59:53.772139",
     "exception": false,
     "start_time": "2022-11-29T23:59:53.736867",
     "status": "completed"
    },
    "tags": []
   },
   "outputs": [
    {
     "data": {
      "text/plain": [
       "PosixPath('/opt/data/projects/asthma-copd/results/gls_phenoplier/gene_corrs/copd_only/by_chr/gene_corrs-chr10.pkl')"
      ]
     },
     "metadata": {},
     "output_type": "display_data"
    }
   ],
   "source": [
    "output_dir = OUTPUT_DIR_BASE / \"by_chr\"\n",
    "output_dir.mkdir(exist_ok=True, parents=True)\n",
    "output_file = output_dir / f\"gene_corrs-chr{CHROMOSOME}.pkl\"\n",
    "display(output_file)"
   ]
  },
  {
   "cell_type": "code",
   "execution_count": 23,
   "id": "aa674fe4-6794-4eed-98fa-32b39d1d4ace",
   "metadata": {
    "execution": {
     "iopub.execute_input": "2022-11-29T23:59:53.795307Z",
     "iopub.status.busy": "2022-11-29T23:59:53.794846Z",
     "iopub.status.idle": "2022-11-29T23:59:53.815687Z",
     "shell.execute_reply": "2022-11-29T23:59:53.814931Z"
    },
    "papermill": {
     "duration": 0.033821,
     "end_time": "2022-11-29T23:59:53.817226",
     "exception": false,
     "start_time": "2022-11-29T23:59:53.783405",
     "status": "completed"
    },
    "tags": []
   },
   "outputs": [],
   "source": [
    "warnings.filterwarnings(\"error\")"
   ]
  },
  {
   "cell_type": "code",
   "execution_count": 24,
   "id": "44d5450b-3baf-43f1-9e2e-4b06f1a785f8",
   "metadata": {
    "execution": {
     "iopub.execute_input": "2022-11-29T23:59:53.840247Z",
     "iopub.status.busy": "2022-11-29T23:59:53.839767Z",
     "iopub.status.idle": "2022-11-29T23:59:53.861169Z",
     "shell.execute_reply": "2022-11-29T23:59:53.860571Z"
    },
    "papermill": {
     "duration": 0.034498,
     "end_time": "2022-11-29T23:59:53.862554",
     "exception": false,
     "start_time": "2022-11-29T23:59:53.828056",
     "status": "completed"
    },
    "tags": []
   },
   "outputs": [],
   "source": [
    "# standard checks\n",
    "all_chrs = genes_info[\"chr\"].dropna().unique()\n",
    "assert all_chrs.shape[0] == 22\n",
    "\n",
    "# select chromosome given by the user\n",
    "assert CHROMOSOME in all_chrs"
   ]
  },
  {
   "cell_type": "code",
   "execution_count": 25,
   "id": "2d7c043c-92a7-4d35-991b-fa69ac1e0268",
   "metadata": {
    "execution": {
     "iopub.execute_input": "2022-11-29T23:59:53.885640Z",
     "iopub.status.busy": "2022-11-29T23:59:53.885181Z",
     "iopub.status.idle": "2022-11-29T23:59:53.908006Z",
     "shell.execute_reply": "2022-11-29T23:59:53.907392Z"
    },
    "papermill": {
     "duration": 0.035739,
     "end_time": "2022-11-29T23:59:53.909399",
     "exception": false,
     "start_time": "2022-11-29T23:59:53.873660",
     "status": "completed"
    },
    "tags": []
   },
   "outputs": [
    {
     "name": "stdout",
     "output_type": "stream",
     "text": [
      "Number of genes in chromosome: 245\n"
     ]
    }
   ],
   "source": [
    "# run only on the chromosome specified\n",
    "all_chrs = [CHROMOSOME]\n",
    "genes_chr = genes_info[genes_info[\"chr\"] == CHROMOSOME]\n",
    "\n",
    "# For testing purposes\n",
    "# genes_chr = genes_chr.sample(n=20)\n",
    "\n",
    "print(f\"Number of genes in chromosome: {genes_chr.shape[0]}\", flush=True)"
   ]
  },
  {
   "cell_type": "code",
   "execution_count": 26,
   "id": "916015d8-2979-46d3-a9b9-1cf5a0932c6a",
   "metadata": {
    "execution": {
     "iopub.execute_input": "2022-11-29T23:59:53.932928Z",
     "iopub.status.busy": "2022-11-29T23:59:53.932495Z",
     "iopub.status.idle": "2022-11-29T23:59:53.953725Z",
     "shell.execute_reply": "2022-11-29T23:59:53.953115Z"
    },
    "papermill": {
     "duration": 0.03441,
     "end_time": "2022-11-29T23:59:53.955191",
     "exception": false,
     "start_time": "2022-11-29T23:59:53.920781",
     "status": "completed"
    },
    "tags": []
   },
   "outputs": [],
   "source": [
    "# sort genes by starting position to make visualizations better later\n",
    "genes_chr = genes_chr.sort_values(\"start_position\")"
   ]
  },
  {
   "cell_type": "code",
   "execution_count": 27,
   "id": "a38aa74a-8ad3-47f6-8ef9-56be0e011774",
   "metadata": {
    "execution": {
     "iopub.execute_input": "2022-11-29T23:59:53.978195Z",
     "iopub.status.busy": "2022-11-29T23:59:53.977810Z",
     "iopub.status.idle": "2022-11-29T23:59:53.999148Z",
     "shell.execute_reply": "2022-11-29T23:59:53.998550Z"
    },
    "papermill": {
     "duration": 0.034459,
     "end_time": "2022-11-29T23:59:54.000680",
     "exception": false,
     "start_time": "2022-11-29T23:59:53.966221",
     "status": "completed"
    },
    "tags": []
   },
   "outputs": [],
   "source": [
    "gene_chr_objs = [Gene(ensembl_id=gene_id) for gene_id in genes_chr[\"id\"]]"
   ]
  },
  {
   "cell_type": "code",
   "execution_count": 28,
   "id": "570f974f-13c3-42b6-ad3a-ce99ca885c1a",
   "metadata": {
    "execution": {
     "iopub.execute_input": "2022-11-29T23:59:54.024265Z",
     "iopub.status.busy": "2022-11-29T23:59:54.023973Z",
     "iopub.status.idle": "2022-11-29T23:59:54.045769Z",
     "shell.execute_reply": "2022-11-29T23:59:54.045148Z"
    },
    "papermill": {
     "duration": 0.035051,
     "end_time": "2022-11-29T23:59:54.047228",
     "exception": false,
     "start_time": "2022-11-29T23:59:54.012177",
     "status": "completed"
    },
    "tags": []
   },
   "outputs": [
    {
     "name": "stdout",
     "output_type": "stream",
     "text": [
      "Number of gene combinations: 30135\n"
     ]
    }
   ],
   "source": [
    "n = len(gene_chr_objs)\n",
    "# diagonal elements + upper triangular matrix\n",
    "n_comb = n + int(n * (n - 1) / 2.0)\n",
    "print(f\"Number of gene combinations: {n_comb}\", flush=True)"
   ]
  },
  {
   "cell_type": "code",
   "execution_count": 29,
   "id": "cdbb90a1",
   "metadata": {
    "execution": {
     "iopub.execute_input": "2022-11-29T23:59:54.071132Z",
     "iopub.status.busy": "2022-11-29T23:59:54.070920Z",
     "iopub.status.idle": "2022-11-30T00:22:46.728543Z",
     "shell.execute_reply": "2022-11-30T00:22:46.728003Z"
    },
    "papermill": {
     "duration": 1372.67159,
     "end_time": "2022-11-30T00:22:46.729999",
     "exception": false,
     "start_time": "2022-11-29T23:59:54.058409",
     "status": "completed"
    },
    "tags": []
   },
   "outputs": [
    {
     "name": "stderr",
     "output_type": "stream",
     "text": [
      "ENSG00000130649 / ENSG00000130649: 100%|██████████████████████| 30135/30135 [22:52<00:00, 21.95it/s]\n"
     ]
    },
    {
     "data": {
      "text/plain": [
       "PosixPath('/opt/data/projects/asthma-copd/results/gls_phenoplier/gene_corrs/copd_only/by_chr/gene_corrs-chr10.pkl')"
      ]
     },
     "metadata": {},
     "output_type": "display_data"
    }
   ],
   "source": [
    "gene_corrs = []\n",
    "gene_corrs_data = np.full(\n",
    "    (n, n),\n",
    "    np.nan,\n",
    "    dtype=np.float64,\n",
    ")\n",
    "\n",
    "i = 0\n",
    "with tqdm(ncols=100, total=n_comb) as pbar:\n",
    "    for gene1_idx in range(0, len(gene_chr_objs)):\n",
    "        gene1_obj = gene_chr_objs[gene1_idx]\n",
    "        gene1_tissues = spredixcan_genes_models.loc[gene1_obj.ensembl_id, \"tissue\"]\n",
    "\n",
    "        for gene2_idx in range(gene1_idx, len(gene_chr_objs)):\n",
    "            gene2_obj = gene_chr_objs[gene2_idx]\n",
    "            gene2_tissues = spredixcan_genes_models.loc[gene2_obj.ensembl_id, \"tissue\"]\n",
    "\n",
    "            pbar.set_description(f\"{gene1_obj.ensembl_id} / {gene2_obj.ensembl_id}\")\n",
    "\n",
    "            try:\n",
    "                r = gene1_obj.get_ssm_correlation(\n",
    "                    other_gene=gene2_obj,\n",
    "                    tissues=gene1_tissues,\n",
    "                    other_tissues=gene2_tissues,\n",
    "                    snps_subset=gwas_variants_ids_set,\n",
    "                    condition_number=SMULTIXCAN_CONDITION_NUMBER,\n",
    "                    reference_panel=REFERENCE_PANEL,\n",
    "                    model_type=EQTL_MODEL,\n",
    "                    use_within_distance=COMPUTE_CORRELATIONS_WITHIN_DISTANCE,\n",
    "                )\n",
    "\n",
    "                if r is None:\n",
    "                    # if r is None, it's very likely because:\n",
    "                    #  * one of the genes has no prediction models\n",
    "                    #  * all the SNPs predictors for the gene are not present in the reference\n",
    "                    #    panel\n",
    "\n",
    "                    r = 0.0\n",
    "\n",
    "                gene_corrs.append(r)\n",
    "\n",
    "                gene_corrs_data[gene1_idx, gene2_idx] = r\n",
    "                gene_corrs_data[gene2_idx, gene1_idx] = r\n",
    "            except Warning as e:\n",
    "                if not DEBUG_MODE:\n",
    "                    raise e\n",
    "\n",
    "                print(\n",
    "                    f\"RuntimeWarning for genes {gene1_obj.ensembl_id} and {gene2_obj.ensembl_id}\",\n",
    "                    flush=True,\n",
    "                )\n",
    "                print(traceback.format_exc(), flush=True)\n",
    "\n",
    "                gene_corrs.append(np.nan)\n",
    "            except Exception as e:\n",
    "                if not DEBUG_MODE:\n",
    "                    raise e\n",
    "\n",
    "                print(\n",
    "                    f\"Exception for genes {gene1_obj.ensembl_id} and {gene2_obj.ensembl_id}\",\n",
    "                    flush=True,\n",
    "                )\n",
    "                print(traceback.format_exc(), flush=True)\n",
    "\n",
    "                gene_corrs.append(np.nan)\n",
    "\n",
    "            pbar.update(1)\n",
    "\n",
    "# create a pandas series\n",
    "gene_corrs_flat = pd.Series(gene_corrs)\n",
    "\n",
    "# save\n",
    "# FIXME: consider saving only the condenced matrix here. See here for\n",
    "# more details: https://github.com/greenelab/phenoplier/pull/38#discussion_r634600813\n",
    "# gene_corrs_data = squareform(np.array(gene_corrs, dtype=np.float64))\n",
    "# np.fill_diagonal(gene_corrs_data, 1.0)\n",
    "\n",
    "gene_chr_ids = [g.ensembl_id for g in gene_chr_objs]\n",
    "gene_corrs_df = pd.DataFrame(\n",
    "    data=gene_corrs_data,\n",
    "    index=gene_chr_ids,\n",
    "    columns=gene_chr_ids,\n",
    ")\n",
    "\n",
    "output_dir.mkdir(exist_ok=True, parents=True)\n",
    "display(output_file)\n",
    "\n",
    "gene_corrs_df.to_pickle(output_file)"
   ]
  },
  {
   "cell_type": "markdown",
   "id": "faa67b51-5373-470f-aa72-2ded53fa6dfe",
   "metadata": {
    "papermill": {
     "duration": 1.172302,
     "end_time": "2022-11-30T00:22:49.174777",
     "exception": false,
     "start_time": "2022-11-30T00:22:48.002475",
     "status": "completed"
    },
    "tags": []
   },
   "source": [
    "# Testing"
   ]
  },
  {
   "cell_type": "code",
   "execution_count": 30,
   "id": "14f7d046-4b55-4896-a56b-990127bcc388",
   "metadata": {
    "execution": {
     "iopub.execute_input": "2022-11-30T00:22:51.544135Z",
     "iopub.status.busy": "2022-11-30T00:22:51.543712Z",
     "iopub.status.idle": "2022-11-30T00:22:51.570908Z",
     "shell.execute_reply": "2022-11-30T00:22:51.570258Z"
    },
    "papermill": {
     "duration": 1.232838,
     "end_time": "2022-11-30T00:22:51.571826",
     "exception": false,
     "start_time": "2022-11-30T00:22:50.338988",
     "status": "completed"
    },
    "tags": []
   },
   "outputs": [
    {
     "data": {
      "text/plain": [
       "(245, 245)"
      ]
     },
     "execution_count": 30,
     "metadata": {},
     "output_type": "execute_result"
    }
   ],
   "source": [
    "gene_corrs_df.shape"
   ]
  },
  {
   "cell_type": "code",
   "execution_count": 31,
   "id": "c7d15414-3297-4537-a7c6-7588c0baeb75",
   "metadata": {
    "execution": {
     "iopub.execute_input": "2022-11-30T00:22:53.956083Z",
     "iopub.status.busy": "2022-11-30T00:22:53.955635Z",
     "iopub.status.idle": "2022-11-30T00:22:53.994385Z",
     "shell.execute_reply": "2022-11-30T00:22:53.993745Z"
    },
    "papermill": {
     "duration": 1.211323,
     "end_time": "2022-11-30T00:22:53.995589",
     "exception": false,
     "start_time": "2022-11-30T00:22:52.784266",
     "status": "completed"
    },
    "tags": []
   },
   "outputs": [
    {
     "data": {
      "text/html": [
       "<div>\n",
       "<style scoped>\n",
       "    .dataframe tbody tr th:only-of-type {\n",
       "        vertical-align: middle;\n",
       "    }\n",
       "\n",
       "    .dataframe tbody tr th {\n",
       "        vertical-align: top;\n",
       "    }\n",
       "\n",
       "    .dataframe thead th {\n",
       "        text-align: right;\n",
       "    }\n",
       "</style>\n",
       "<table border=\"1\" class=\"dataframe\">\n",
       "  <thead>\n",
       "    <tr style=\"text-align: right;\">\n",
       "      <th></th>\n",
       "      <th>ENSG00000261456</th>\n",
       "      <th>ENSG00000148377</th>\n",
       "      <th>ENSG00000067064</th>\n",
       "      <th>ENSG00000067057</th>\n",
       "      <th>ENSG00000067082</th>\n",
       "      <th>ENSG00000187134</th>\n",
       "      <th>ENSG00000151632</th>\n",
       "      <th>ENSG00000196139</th>\n",
       "      <th>ENSG00000173848</th>\n",
       "      <th>ENSG00000196372</th>\n",
       "      <th>...</th>\n",
       "      <th>ENSG00000148773</th>\n",
       "      <th>ENSG00000170430</th>\n",
       "      <th>ENSG00000175470</th>\n",
       "      <th>ENSG00000176171</th>\n",
       "      <th>ENSG00000151640</th>\n",
       "      <th>ENSG00000068383</th>\n",
       "      <th>ENSG00000130640</th>\n",
       "      <th>ENSG00000127884</th>\n",
       "      <th>ENSG00000148832</th>\n",
       "      <th>ENSG00000130649</th>\n",
       "    </tr>\n",
       "  </thead>\n",
       "  <tbody>\n",
       "    <tr>\n",
       "      <th>ENSG00000261456</th>\n",
       "      <td>1.000000</td>\n",
       "      <td>0.003790</td>\n",
       "      <td>0.012337</td>\n",
       "      <td>0.007815</td>\n",
       "      <td>0.005915</td>\n",
       "      <td>0.007852</td>\n",
       "      <td>0.010083</td>\n",
       "      <td>0.011510</td>\n",
       "      <td>0.011865</td>\n",
       "      <td>0.015398</td>\n",
       "      <td>...</td>\n",
       "      <td>0.005232</td>\n",
       "      <td>0.005479</td>\n",
       "      <td>0.010121</td>\n",
       "      <td>0.007184</td>\n",
       "      <td>0.008490</td>\n",
       "      <td>0.006958</td>\n",
       "      <td>0.008215</td>\n",
       "      <td>0.003880</td>\n",
       "      <td>0.005341</td>\n",
       "      <td>0.005365</td>\n",
       "    </tr>\n",
       "    <tr>\n",
       "      <th>ENSG00000148377</th>\n",
       "      <td>0.003790</td>\n",
       "      <td>1.000000</td>\n",
       "      <td>0.084105</td>\n",
       "      <td>0.004528</td>\n",
       "      <td>0.003054</td>\n",
       "      <td>0.006786</td>\n",
       "      <td>0.005735</td>\n",
       "      <td>0.001551</td>\n",
       "      <td>0.000925</td>\n",
       "      <td>0.000890</td>\n",
       "      <td>...</td>\n",
       "      <td>0.008012</td>\n",
       "      <td>0.003932</td>\n",
       "      <td>0.000509</td>\n",
       "      <td>0.002153</td>\n",
       "      <td>0.005198</td>\n",
       "      <td>0.003080</td>\n",
       "      <td>0.000634</td>\n",
       "      <td>0.000971</td>\n",
       "      <td>0.000899</td>\n",
       "      <td>0.003436</td>\n",
       "    </tr>\n",
       "    <tr>\n",
       "      <th>ENSG00000067064</th>\n",
       "      <td>0.012337</td>\n",
       "      <td>0.084105</td>\n",
       "      <td>1.000000</td>\n",
       "      <td>0.014470</td>\n",
       "      <td>0.010029</td>\n",
       "      <td>0.010480</td>\n",
       "      <td>0.008932</td>\n",
       "      <td>0.007868</td>\n",
       "      <td>0.006230</td>\n",
       "      <td>0.009131</td>\n",
       "      <td>...</td>\n",
       "      <td>0.011490</td>\n",
       "      <td>0.002676</td>\n",
       "      <td>0.005628</td>\n",
       "      <td>0.005965</td>\n",
       "      <td>0.004388</td>\n",
       "      <td>0.008257</td>\n",
       "      <td>0.013420</td>\n",
       "      <td>0.005779</td>\n",
       "      <td>0.008882</td>\n",
       "      <td>0.005899</td>\n",
       "    </tr>\n",
       "    <tr>\n",
       "      <th>ENSG00000067057</th>\n",
       "      <td>0.007815</td>\n",
       "      <td>0.004528</td>\n",
       "      <td>0.014470</td>\n",
       "      <td>1.000000</td>\n",
       "      <td>0.010449</td>\n",
       "      <td>0.012528</td>\n",
       "      <td>0.017848</td>\n",
       "      <td>0.015077</td>\n",
       "      <td>0.011976</td>\n",
       "      <td>0.015208</td>\n",
       "      <td>...</td>\n",
       "      <td>0.012468</td>\n",
       "      <td>0.007954</td>\n",
       "      <td>0.010215</td>\n",
       "      <td>0.012404</td>\n",
       "      <td>0.006633</td>\n",
       "      <td>0.017375</td>\n",
       "      <td>0.012677</td>\n",
       "      <td>0.008571</td>\n",
       "      <td>0.012765</td>\n",
       "      <td>0.010577</td>\n",
       "    </tr>\n",
       "    <tr>\n",
       "      <th>ENSG00000067082</th>\n",
       "      <td>0.005915</td>\n",
       "      <td>0.003054</td>\n",
       "      <td>0.010029</td>\n",
       "      <td>0.010449</td>\n",
       "      <td>1.000000</td>\n",
       "      <td>0.005393</td>\n",
       "      <td>0.012874</td>\n",
       "      <td>0.010219</td>\n",
       "      <td>0.007214</td>\n",
       "      <td>0.011455</td>\n",
       "      <td>...</td>\n",
       "      <td>0.006659</td>\n",
       "      <td>0.005376</td>\n",
       "      <td>0.010541</td>\n",
       "      <td>0.007171</td>\n",
       "      <td>0.006784</td>\n",
       "      <td>0.008806</td>\n",
       "      <td>0.007240</td>\n",
       "      <td>0.005152</td>\n",
       "      <td>0.006803</td>\n",
       "      <td>0.007594</td>\n",
       "    </tr>\n",
       "  </tbody>\n",
       "</table>\n",
       "<p>5 rows × 245 columns</p>\n",
       "</div>"
      ],
      "text/plain": [
       "                 ENSG00000261456  ENSG00000148377  ENSG00000067064  \\\n",
       "ENSG00000261456         1.000000         0.003790         0.012337   \n",
       "ENSG00000148377         0.003790         1.000000         0.084105   \n",
       "ENSG00000067064         0.012337         0.084105         1.000000   \n",
       "ENSG00000067057         0.007815         0.004528         0.014470   \n",
       "ENSG00000067082         0.005915         0.003054         0.010029   \n",
       "\n",
       "                 ENSG00000067057  ENSG00000067082  ENSG00000187134  \\\n",
       "ENSG00000261456         0.007815         0.005915         0.007852   \n",
       "ENSG00000148377         0.004528         0.003054         0.006786   \n",
       "ENSG00000067064         0.014470         0.010029         0.010480   \n",
       "ENSG00000067057         1.000000         0.010449         0.012528   \n",
       "ENSG00000067082         0.010449         1.000000         0.005393   \n",
       "\n",
       "                 ENSG00000151632  ENSG00000196139  ENSG00000173848  \\\n",
       "ENSG00000261456         0.010083         0.011510         0.011865   \n",
       "ENSG00000148377         0.005735         0.001551         0.000925   \n",
       "ENSG00000067064         0.008932         0.007868         0.006230   \n",
       "ENSG00000067057         0.017848         0.015077         0.011976   \n",
       "ENSG00000067082         0.012874         0.010219         0.007214   \n",
       "\n",
       "                 ENSG00000196372  ...  ENSG00000148773  ENSG00000170430  \\\n",
       "ENSG00000261456         0.015398  ...         0.005232         0.005479   \n",
       "ENSG00000148377         0.000890  ...         0.008012         0.003932   \n",
       "ENSG00000067064         0.009131  ...         0.011490         0.002676   \n",
       "ENSG00000067057         0.015208  ...         0.012468         0.007954   \n",
       "ENSG00000067082         0.011455  ...         0.006659         0.005376   \n",
       "\n",
       "                 ENSG00000175470  ENSG00000176171  ENSG00000151640  \\\n",
       "ENSG00000261456         0.010121         0.007184         0.008490   \n",
       "ENSG00000148377         0.000509         0.002153         0.005198   \n",
       "ENSG00000067064         0.005628         0.005965         0.004388   \n",
       "ENSG00000067057         0.010215         0.012404         0.006633   \n",
       "ENSG00000067082         0.010541         0.007171         0.006784   \n",
       "\n",
       "                 ENSG00000068383  ENSG00000130640  ENSG00000127884  \\\n",
       "ENSG00000261456         0.006958         0.008215         0.003880   \n",
       "ENSG00000148377         0.003080         0.000634         0.000971   \n",
       "ENSG00000067064         0.008257         0.013420         0.005779   \n",
       "ENSG00000067057         0.017375         0.012677         0.008571   \n",
       "ENSG00000067082         0.008806         0.007240         0.005152   \n",
       "\n",
       "                 ENSG00000148832  ENSG00000130649  \n",
       "ENSG00000261456         0.005341         0.005365  \n",
       "ENSG00000148377         0.000899         0.003436  \n",
       "ENSG00000067064         0.008882         0.005899  \n",
       "ENSG00000067057         0.012765         0.010577  \n",
       "ENSG00000067082         0.006803         0.007594  \n",
       "\n",
       "[5 rows x 245 columns]"
      ]
     },
     "execution_count": 31,
     "metadata": {},
     "output_type": "execute_result"
    }
   ],
   "source": [
    "gene_corrs_df.head()"
   ]
  },
  {
   "cell_type": "markdown",
   "id": "dad6603f-01c6-41fb-a6f6-241051207dd8",
   "metadata": {
    "papermill": {
     "duration": 1.186229,
     "end_time": "2022-11-30T00:22:56.396055",
     "exception": false,
     "start_time": "2022-11-30T00:22:55.209826",
     "status": "completed"
    },
    "tags": []
   },
   "source": [
    "## Standard checks and stats"
   ]
  },
  {
   "cell_type": "code",
   "execution_count": 32,
   "id": "286686af-1b7b-4440-8453-6bdcbd8de19c",
   "metadata": {
    "execution": {
     "iopub.execute_input": "2022-11-30T00:22:58.885835Z",
     "iopub.status.busy": "2022-11-30T00:22:58.884998Z",
     "iopub.status.idle": "2022-11-30T00:22:58.912054Z",
     "shell.execute_reply": "2022-11-30T00:22:58.911324Z"
    },
    "papermill": {
     "duration": 1.282871,
     "end_time": "2022-11-30T00:22:58.913297",
     "exception": false,
     "start_time": "2022-11-30T00:22:57.630426",
     "status": "completed"
    },
    "tags": []
   },
   "outputs": [],
   "source": [
    "assert not gene_corrs_df.isna().any().any()"
   ]
  },
  {
   "cell_type": "code",
   "execution_count": 33,
   "id": "00583efc-7068-4270-ad1e-4a418e91db96",
   "metadata": {
    "execution": {
     "iopub.execute_input": "2022-11-30T00:23:01.415595Z",
     "iopub.status.busy": "2022-11-30T00:23:01.415287Z",
     "iopub.status.idle": "2022-11-30T00:23:01.440130Z",
     "shell.execute_reply": "2022-11-30T00:23:01.439499Z"
    },
    "papermill": {
     "duration": 1.238045,
     "end_time": "2022-11-30T00:23:01.441124",
     "exception": false,
     "start_time": "2022-11-30T00:23:00.203079",
     "status": "completed"
    },
    "tags": []
   },
   "outputs": [
    {
     "data": {
      "text/plain": [
       "3.016476512982381e-08"
      ]
     },
     "metadata": {},
     "output_type": "display_data"
    }
   ],
   "source": [
    "_min_val = gene_corrs_df.min().min()\n",
    "display(_min_val)\n",
    "assert _min_val >= -0.05"
   ]
  },
  {
   "cell_type": "code",
   "execution_count": 34,
   "id": "d04fb2cf-1050-475b-b855-f5f7cc04092b",
   "metadata": {
    "execution": {
     "iopub.execute_input": "2022-11-30T00:23:04.096565Z",
     "iopub.status.busy": "2022-11-30T00:23:04.096255Z",
     "iopub.status.idle": "2022-11-30T00:23:04.110807Z",
     "shell.execute_reply": "2022-11-30T00:23:04.110435Z"
    },
    "papermill": {
     "duration": 1.345724,
     "end_time": "2022-11-30T00:23:04.111628",
     "exception": false,
     "start_time": "2022-11-30T00:23:02.765904",
     "status": "completed"
    },
    "tags": []
   },
   "outputs": [
    {
     "data": {
      "text/plain": [
       "1.0000000000000024"
      ]
     },
     "metadata": {},
     "output_type": "display_data"
    }
   ],
   "source": [
    "_max_val = gene_corrs_df.max().max()  # this captures the diagonal\n",
    "display(_max_val)\n",
    "assert _max_val <= 1.05"
   ]
  },
  {
   "cell_type": "code",
   "execution_count": 35,
   "id": "96d02c44-1fba-47be-8a93-8f2608420b9c",
   "metadata": {
    "execution": {
     "iopub.execute_input": "2022-11-30T00:23:06.728871Z",
     "iopub.status.busy": "2022-11-30T00:23:06.728280Z",
     "iopub.status.idle": "2022-11-30T00:23:06.748480Z",
     "shell.execute_reply": "2022-11-30T00:23:06.747745Z"
    },
    "papermill": {
     "duration": 1.362428,
     "end_time": "2022-11-30T00:23:06.749512",
     "exception": false,
     "start_time": "2022-11-30T00:23:05.387084",
     "status": "completed"
    },
    "tags": []
   },
   "outputs": [],
   "source": [
    "# check upper triangular values\n",
    "# assert len(gene_corrs) == int(genes_chr.shape[0] * (genes_chr.shape[0] - 1) / 2)"
   ]
  },
  {
   "cell_type": "code",
   "execution_count": 36,
   "id": "fe283586-c348-40e0-8841-f6d97bfb021c",
   "metadata": {
    "execution": {
     "iopub.execute_input": "2022-11-30T00:23:09.193424Z",
     "iopub.status.busy": "2022-11-30T00:23:09.193061Z",
     "iopub.status.idle": "2022-11-30T00:23:09.217659Z",
     "shell.execute_reply": "2022-11-30T00:23:09.217172Z"
    },
    "papermill": {
     "duration": 1.281723,
     "end_time": "2022-11-30T00:23:09.218521",
     "exception": false,
     "start_time": "2022-11-30T00:23:07.936798",
     "status": "completed"
    },
    "tags": []
   },
   "outputs": [
    {
     "data": {
      "text/plain": [
       "count    3.013500e+04\n",
       "mean     1.671112e-02\n",
       "std      9.358694e-02\n",
       "min      3.016477e-08\n",
       "25%      4.306856e-03\n",
       "50%      6.459862e-03\n",
       "75%      8.934892e-03\n",
       "max      1.000000e+00\n",
       "dtype: float64"
      ]
     },
     "execution_count": 36,
     "metadata": {},
     "output_type": "execute_result"
    }
   ],
   "source": [
    "gene_corrs_flat.describe()"
   ]
  },
  {
   "cell_type": "code",
   "execution_count": 37,
   "id": "b3815678-0f93-4b35-897b-a9d047a2aa78",
   "metadata": {
    "execution": {
     "iopub.execute_input": "2022-11-30T00:23:11.617130Z",
     "iopub.status.busy": "2022-11-30T00:23:11.616773Z",
     "iopub.status.idle": "2022-11-30T00:23:11.641858Z",
     "shell.execute_reply": "2022-11-30T00:23:11.641378Z"
    },
    "papermill": {
     "duration": 1.197998,
     "end_time": "2022-11-30T00:23:11.642684",
     "exception": false,
     "start_time": "2022-11-30T00:23:10.444686",
     "status": "completed"
    },
    "tags": []
   },
   "outputs": [
    {
     "data": {
      "text/plain": [
       "0.00    3.016477e-08\n",
       "0.05    1.746245e-03\n",
       "0.10    2.605067e-03\n",
       "0.15    3.262108e-03\n",
       "0.20    3.821610e-03\n",
       "0.25    4.306856e-03\n",
       "0.30    4.766405e-03\n",
       "0.35    5.220213e-03\n",
       "0.40    5.640663e-03\n",
       "0.45    6.054566e-03\n",
       "0.50    6.459862e-03\n",
       "0.55    6.905051e-03\n",
       "0.60    7.376252e-03\n",
       "0.65    7.857461e-03\n",
       "0.70    8.359614e-03\n",
       "0.75    8.934892e-03\n",
       "0.80    9.614350e-03\n",
       "0.85    1.044894e-02\n",
       "0.90    1.160729e-02\n",
       "0.95    1.361050e-02\n",
       "dtype: float64"
      ]
     },
     "metadata": {},
     "output_type": "display_data"
    }
   ],
   "source": [
    "gene_corrs_quantiles = gene_corrs_flat.quantile(np.arange(0, 1, 0.05))\n",
    "display(gene_corrs_quantiles)"
   ]
  },
  {
   "cell_type": "markdown",
   "id": "87134509-b145-4a10-8bc9-b7e914c2b0fa",
   "metadata": {
    "papermill": {
     "duration": 1.189315,
     "end_time": "2022-11-30T00:23:14.065331",
     "exception": false,
     "start_time": "2022-11-30T00:23:12.876016",
     "status": "completed"
    },
    "tags": []
   },
   "source": [
    "## Positive definiteness"
   ]
  },
  {
   "cell_type": "code",
   "execution_count": 38,
   "id": "07d9a9a1-a4f7-48aa-b916-6d42a8cc6186",
   "metadata": {
    "execution": {
     "iopub.execute_input": "2022-11-30T00:23:16.512642Z",
     "iopub.status.busy": "2022-11-30T00:23:16.512109Z",
     "iopub.status.idle": "2022-11-30T00:23:16.557867Z",
     "shell.execute_reply": "2022-11-30T00:23:16.557317Z"
    },
    "papermill": {
     "duration": 1.272612,
     "end_time": "2022-11-30T00:23:16.558746",
     "exception": false,
     "start_time": "2022-11-30T00:23:15.286134",
     "status": "completed"
    },
    "tags": []
   },
   "outputs": [
    {
     "data": {
      "text/plain": [
       "0"
      ]
     },
     "metadata": {},
     "output_type": "display_data"
    },
    {
     "data": {
      "text/plain": [
       "array([], dtype=float64)"
      ]
     },
     "metadata": {},
     "output_type": "display_data"
    }
   ],
   "source": [
    "# print negative eigenvalues\n",
    "eigs = np.linalg.eigvals(gene_corrs_df.to_numpy())\n",
    "display(len(eigs[eigs < 0]))\n",
    "display(eigs[eigs < 0])"
   ]
  },
  {
   "cell_type": "code",
   "execution_count": 39,
   "id": "6e218436-c3c5-4028-8c94-a4fa6260efce",
   "metadata": {
    "execution": {
     "iopub.execute_input": "2022-11-30T00:23:19.020644Z",
     "iopub.status.busy": "2022-11-30T00:23:19.019890Z",
     "iopub.status.idle": "2022-11-30T00:23:19.047946Z",
     "shell.execute_reply": "2022-11-30T00:23:19.047393Z"
    },
    "papermill": {
     "duration": 1.330718,
     "end_time": "2022-11-30T00:23:19.048882",
     "exception": false,
     "start_time": "2022-11-30T00:23:17.718164",
     "status": "completed"
    },
    "tags": []
   },
   "outputs": [
    {
     "name": "stdout",
     "output_type": "stream",
     "text": [
      "Works!\n"
     ]
    }
   ],
   "source": [
    "try:\n",
    "    chol_mat = np.linalg.cholesky(gene_corrs_df.to_numpy())\n",
    "    cov_inv = np.linalg.inv(chol_mat)\n",
    "    print(\"Works!\")\n",
    "except Exception as e:\n",
    "    print(f\"Cholesky decomposition failed: {str(e)}\")"
   ]
  },
  {
   "cell_type": "code",
   "execution_count": 40,
   "id": "dd8827fb-faf9-4c7c-9454-015e94752706",
   "metadata": {
    "execution": {
     "iopub.execute_input": "2022-11-30T00:23:21.435135Z",
     "iopub.status.busy": "2022-11-30T00:23:21.434732Z",
     "iopub.status.idle": "2022-11-30T00:23:21.461763Z",
     "shell.execute_reply": "2022-11-30T00:23:21.461210Z"
    },
    "papermill": {
     "duration": 1.213724,
     "end_time": "2022-11-30T00:23:21.462663",
     "exception": false,
     "start_time": "2022-11-30T00:23:20.248939",
     "status": "completed"
    },
    "tags": []
   },
   "outputs": [
    {
     "name": "stdout",
     "output_type": "stream",
     "text": [
      "Works!\n"
     ]
    }
   ],
   "source": [
    "try:\n",
    "    # decomposition used by statsmodels.GLS\n",
    "    cholsigmainv = np.linalg.cholesky(np.linalg.inv(gene_corrs_df.to_numpy())).T\n",
    "    print(\"Works!\")\n",
    "except Exception as e:\n",
    "    print(f\"Cholesky decomposition failed (statsmodels.GLS): {str(e)}\")"
   ]
  },
  {
   "cell_type": "markdown",
   "id": "8e60a080-edb2-4e9c-b2ef-22961693200c",
   "metadata": {
    "papermill": {
     "duration": 1.218488,
     "end_time": "2022-11-30T00:23:23.905359",
     "exception": false,
     "start_time": "2022-11-30T00:23:22.686871",
     "status": "completed"
    },
    "tags": []
   },
   "source": [
    "## Plot: distribution"
   ]
  },
  {
   "cell_type": "code",
   "execution_count": 41,
   "id": "8301126b-a7d4-4744-9c7d-f0f86eb6f54c",
   "metadata": {
    "execution": {
     "iopub.execute_input": "2022-11-30T00:23:26.295701Z",
     "iopub.status.busy": "2022-11-30T00:23:26.295274Z",
     "iopub.status.idle": "2022-11-30T00:23:31.451983Z",
     "shell.execute_reply": "2022-11-30T00:23:31.451562Z"
    },
    "papermill": {
     "duration": 6.373608,
     "end_time": "2022-11-30T00:23:31.453117",
     "exception": false,
     "start_time": "2022-11-30T00:23:25.079509",
     "status": "completed"
    },
    "tags": []
   },
   "outputs": [
    {
     "data": {
      "image/png": "[encoded data removed]",
      "text/plain": [
       "<Figure size 700x700 with 1 Axes>"
      ]
     },
     "metadata": {},
     "output_type": "display_data"
    }
   ],
   "source": [
    "with sns.plotting_context(\"paper\", font_scale=1.5):\n",
    "    g = sns.displot(gene_corrs_flat, kde=True, height=7)\n",
    "    g.ax.set_title(\n",
    "        f\"Distribution of gene correlation values in chromosome {CHROMOSOME}\"\n",
    "    )"
   ]
  },
  {
   "cell_type": "markdown",
   "id": "cbd52bca-d878-4a2f-b684-5c83aa3038d4",
   "metadata": {
    "papermill": {
     "duration": 1.223317,
     "end_time": "2022-11-30T00:23:33.876278",
     "exception": false,
     "start_time": "2022-11-30T00:23:32.652961",
     "status": "completed"
    },
    "tags": []
   },
   "source": [
    "## Plot: heatmap"
   ]
  },
  {
   "cell_type": "code",
   "execution_count": 42,
   "id": "d03fe63a-c7b2-4fb9-a53c-db362ce843c9",
   "metadata": {
    "execution": {
     "iopub.execute_input": "2022-11-30T00:23:36.311791Z",
     "iopub.status.busy": "2022-11-30T00:23:36.311400Z",
     "iopub.status.idle": "2022-11-30T00:23:36.331105Z",
     "shell.execute_reply": "2022-11-30T00:23:36.330583Z"
    },
    "papermill": {
     "duration": 1.218115,
     "end_time": "2022-11-30T00:23:36.331948",
     "exception": false,
     "start_time": "2022-11-30T00:23:35.113833",
     "status": "completed"
    },
    "tags": []
   },
   "outputs": [
    {
     "data": {
      "text/plain": [
       "'0.0 / 0.05'"
      ]
     },
     "metadata": {},
     "output_type": "display_data"
    }
   ],
   "source": [
    "vmin_val = min(0.00, gene_corrs_quantiles[0.10])\n",
    "vmax_val = max(0.05, gene_corrs_quantiles[0.90])\n",
    "display(f\"{vmin_val} / {vmax_val}\")"
   ]
  },
  {
   "cell_type": "code",
   "execution_count": 43,
   "id": "dc41b70b-5bcc-4d9e-9f33-a22c4a94dab5",
   "metadata": {
    "execution": {
     "iopub.execute_input": "2022-11-30T00:23:38.853937Z",
     "iopub.status.busy": "2022-11-30T00:23:38.853185Z",
     "iopub.status.idle": "2022-11-30T00:23:39.099574Z",
     "shell.execute_reply": "2022-11-30T00:23:39.099031Z"
    },
    "papermill": {
     "duration": 1.51827,
     "end_time": "2022-11-30T00:23:39.102516",
     "exception": false,
     "start_time": "2022-11-30T00:23:37.584246",
     "status": "completed"
    },
    "tags": []
   },
   "outputs": [
    {
     "data": {
      "text/plain": [
       "Text(0.5, 1.0, 'Gene correlations in chromosome 10')"
      ]
     },
     "execution_count": 43,
     "metadata": {},
     "output_type": "execute_result"
    },
    {
     "data": {
      "image/png": "[encoded data removed]",
      "text/plain": [
       "<Figure size 1000x1000 with 2 Axes>"
      ]
     },
     "metadata": {},
     "output_type": "display_data"
    }
   ],
   "source": [
    "f, ax = plt.subplots(figsize=(10, 10))\n",
    "sns.heatmap(\n",
    "    gene_corrs_df,\n",
    "    xticklabels=False,\n",
    "    yticklabels=False,\n",
    "    square=True,\n",
    "    vmin=vmin_val,\n",
    "    vmax=vmax_val,\n",
    "    cmap=\"rocket_r\",\n",
    "    ax=ax,\n",
    ")\n",
    "ax.set_title(f\"Gene correlations in chromosome {CHROMOSOME}\")"
   ]
  },
  {
   "cell_type": "code",
   "execution_count": null,
   "id": "b25e3ead",
   "metadata": {
    "papermill": {
     "duration": 1.324053,
     "end_time": "2022-11-30T00:23:41.761958",
     "exception": false,
     "start_time": "2022-11-30T00:23:40.437905",
     "status": "completed"
    },
    "tags": []
   },
   "outputs": [],
   "source": []
  }
 ],
 "metadata": {
  "jupytext": {
   "cell_metadata_filter": "all,-execution,-papermill,-trusted",
   "formats": "ipynb,py//py:percent"
  },
  "kernelspec": {
   "display_name": "Python 3 (ipykernel)",
   "language": "python",
   "name": "python3"
  },
  "language_info": {
   "codemirror_mode": {
    "name": "ipython",
    "version": 3
   },
   "file_extension": ".py",
   "mimetype": "text/x-python",
   "name": "python",
   "nbconvert_exporter": "python",
   "pygments_lexer": "ipython3",
   "version": "3.10.6"
  },
  "papermill": {
   "default_parameters": {},
   "duration": 1437.895115,
   "end_time": "2022-11-30T00:23:46.116610",
   "environment_variables": {},
   "exception": null,
   "input_path": "projects/asthma-copd/nbs/20_gene_corrs/10-gene_expr_correlations.ipynb",
   "output_path": "projects/asthma-copd/nbs/20_gene_corrs/gene_corrs/copd_only/10-gene_expr_correlations-chr10.run.ipynb",
   "parameters": {
    "CHROMOSOME": 10,
    "COHORT_NAME": "copd_only",
    "OUTPUT_DIR_BASE": "/opt/data/projects/asthma-copd/results/gls_phenoplier"
   },
   "start_time": "2022-11-29T23:59:48.221495",
   "version": "2.2.2"
  }
 },
 "nbformat": 4,
 "nbformat_minor": 5
}
