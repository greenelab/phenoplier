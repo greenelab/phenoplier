{
 "cells": [
  {
   "cell_type": "markdown",
   "id": "7a6632fb",
   "metadata": {
    "papermill": {
     "duration": 0.006757,
     "end_time": "2022-11-29T23:57:05.210464",
     "exception": false,
     "start_time": "2022-11-29T23:57:05.203707",
     "status": "completed"
    },
    "tags": []
   },
   "source": [
    "# Description"
   ]
  },
  {
   "cell_type": "markdown",
   "id": "7097c346",
   "metadata": {
    "papermill": {
     "duration": 0.006755,
     "end_time": "2022-11-29T23:57:05.226984",
     "exception": false,
     "start_time": "2022-11-29T23:57:05.220229",
     "status": "completed"
    },
    "tags": []
   },
   "source": [
    "(Please, take a look at the README.md file in this directory for instructions on how to run this notebook)\n",
    "\n",
    "This notebook computes predicted expression correlations between all genes in the MultiPLIER models.\n",
    "\n",
    "It has specicfic parameters for papermill (see under `Settings` below).\n",
    "It can be configured to run on a single chromosome to run in parallel.\n",
    "\n",
    "This notebook is not directly run. See README.md."
   ]
  },
  {
   "cell_type": "markdown",
   "id": "c61d8427",
   "metadata": {
    "papermill": {
     "duration": 0.006124,
     "end_time": "2022-11-29T23:57:05.240317",
     "exception": false,
     "start_time": "2022-11-29T23:57:05.234193",
     "status": "completed"
    },
    "tags": []
   },
   "source": [
    "# Modules"
   ]
  },
  {
   "cell_type": "code",
   "execution_count": 1,
   "id": "bbc0234f",
   "metadata": {
    "execution": {
     "iopub.execute_input": "2022-11-29T23:57:05.255234Z",
     "iopub.status.busy": "2022-11-29T23:57:05.254660Z",
     "iopub.status.idle": "2022-11-29T23:57:05.273360Z",
     "shell.execute_reply": "2022-11-29T23:57:05.272754Z"
    },
    "papermill": {
     "duration": 0.027552,
     "end_time": "2022-11-29T23:57:05.274696",
     "exception": false,
     "start_time": "2022-11-29T23:57:05.247144",
     "status": "completed"
    },
    "tags": []
   },
   "outputs": [],
   "source": [
    "%load_ext autoreload\n",
    "%autoreload 2"
   ]
  },
  {
   "cell_type": "code",
   "execution_count": 2,
   "id": "1d5f5a59",
   "metadata": {
    "execution": {
     "iopub.execute_input": "2022-11-29T23:57:05.288687Z",
     "iopub.status.busy": "2022-11-29T23:57:05.288189Z",
     "iopub.status.idle": "2022-11-29T23:57:05.973500Z",
     "shell.execute_reply": "2022-11-29T23:57:05.972940Z"
    },
    "papermill": {
     "duration": 0.693923,
     "end_time": "2022-11-29T23:57:05.975163",
     "exception": false,
     "start_time": "2022-11-29T23:57:05.281240",
     "status": "completed"
    },
    "tags": []
   },
   "outputs": [],
   "source": [
    "from random import sample, seed\n",
    "import warnings\n",
    "from pathlib import Path\n",
    "import pickle\n",
    "import traceback\n",
    "\n",
    "import numpy as np\n",
    "from scipy.spatial.distance import squareform\n",
    "import pandas as pd\n",
    "from tqdm import tqdm\n",
    "import matplotlib.pyplot as plt\n",
    "import seaborn as sns\n",
    "\n",
    "import conf\n",
    "from entity import Gene"
   ]
  },
  {
   "cell_type": "markdown",
   "id": "1eac24b5",
   "metadata": {
    "papermill": {
     "duration": 0.009897,
     "end_time": "2022-11-29T23:57:05.993738",
     "exception": false,
     "start_time": "2022-11-29T23:57:05.983841",
     "status": "completed"
    },
    "tags": []
   },
   "source": [
    "# Settings"
   ]
  },
  {
   "cell_type": "code",
   "execution_count": 3,
   "id": "ca4560ba",
   "metadata": {
    "execution": {
     "iopub.execute_input": "2022-11-29T23:57:06.011984Z",
     "iopub.status.busy": "2022-11-29T23:57:06.011743Z",
     "iopub.status.idle": "2022-11-29T23:57:06.025266Z",
     "shell.execute_reply": "2022-11-29T23:57:06.024780Z"
    },
    "papermill": {
     "duration": 0.023983,
     "end_time": "2022-11-29T23:57:06.026693",
     "exception": false,
     "start_time": "2022-11-29T23:57:06.002710",
     "status": "completed"
    },
    "tags": [
     "parameters"
    ]
   },
   "outputs": [],
   "source": [
    "# a cohort name (it could be something like UK_BIOBANK, etc)\n",
    "COHORT_NAME = None\n",
    "\n",
    "# reference panel such as 1000G or GTEX_V8\n",
    "REFERENCE_PANEL = \"GTEX_V8\"\n",
    "\n",
    "# predictions models such as MASHR or ELASTIC_NET\n",
    "EQTL_MODEL = \"MASHR\"\n",
    "\n",
    "# this is the default value used in S-MultiXcan to select the\n",
    "# top principal components of the expression correlation matrix\n",
    "SMULTIXCAN_CONDITION_NUMBER = 30\n",
    "\n",
    "# specifies a single chromosome value\n",
    "CHROMOSOME = None\n",
    "\n",
    "# If True, computes the correlation between closeby genes only;\n",
    "# otherwise, it computes correlations for all genes in a chromosome\n",
    "COMPUTE_CORRELATIONS_WITHIN_DISTANCE = False\n",
    "\n",
    "# if True, then it will continue if a gene pair correlation fails,\n",
    "# printing the warning/error for debugging. If False, any warning/error\n",
    "# will be thrown\n",
    "DEBUG_MODE = False\n",
    "\n",
    "# output dir\n",
    "OUTPUT_DIR_BASE = None"
   ]
  },
  {
   "cell_type": "code",
   "execution_count": 4,
   "id": "d4cdaf97",
   "metadata": {
    "execution": {
     "iopub.execute_input": "2022-11-29T23:57:06.044537Z",
     "iopub.status.busy": "2022-11-29T23:57:06.044397Z",
     "iopub.status.idle": "2022-11-29T23:57:06.057070Z",
     "shell.execute_reply": "2022-11-29T23:57:06.056593Z"
    },
    "papermill": {
     "duration": 0.023051,
     "end_time": "2022-11-29T23:57:06.058448",
     "exception": false,
     "start_time": "2022-11-29T23:57:06.035397",
     "status": "completed"
    },
    "tags": [
     "injected-parameters"
    ]
   },
   "outputs": [],
   "source": [
    "# Parameters\n",
    "COHORT_NAME = \"copd_only\"\n",
    "CHROMOSOME = 9\n",
    "OUTPUT_DIR_BASE = \"/opt/data/projects/asthma-copd/results/gls_phenoplier\"\n"
   ]
  },
  {
   "cell_type": "code",
   "execution_count": 5,
   "id": "3190631f-27fc-480f-b18e-571d580425a5",
   "metadata": {
    "execution": {
     "iopub.execute_input": "2022-11-29T23:57:06.076519Z",
     "iopub.status.busy": "2022-11-29T23:57:06.076392Z",
     "iopub.status.idle": "2022-11-29T23:57:06.098342Z",
     "shell.execute_reply": "2022-11-29T23:57:06.097806Z"
    },
    "papermill": {
     "duration": 0.032617,
     "end_time": "2022-11-29T23:57:06.099811",
     "exception": false,
     "start_time": "2022-11-29T23:57:06.067194",
     "status": "completed"
    },
    "tags": []
   },
   "outputs": [
    {
     "data": {
      "text/plain": [
       "'Cohort name: copd_only'"
      ]
     },
     "metadata": {},
     "output_type": "display_data"
    }
   ],
   "source": [
    "assert COHORT_NAME is not None and len(COHORT_NAME) > 0, \"A cohort name must be given\"\n",
    "\n",
    "COHORT_NAME = COHORT_NAME.lower()\n",
    "display(f\"Cohort name: {COHORT_NAME}\")"
   ]
  },
  {
   "cell_type": "code",
   "execution_count": 6,
   "id": "f53ba19b-0f93-4fa2-a047-63b375939d1a",
   "metadata": {
    "execution": {
     "iopub.execute_input": "2022-11-29T23:57:06.118905Z",
     "iopub.status.busy": "2022-11-29T23:57:06.118337Z",
     "iopub.status.idle": "2022-11-29T23:57:06.141349Z",
     "shell.execute_reply": "2022-11-29T23:57:06.140693Z"
    },
    "papermill": {
     "duration": 0.034119,
     "end_time": "2022-11-29T23:57:06.142995",
     "exception": false,
     "start_time": "2022-11-29T23:57:06.108876",
     "status": "completed"
    },
    "tags": []
   },
   "outputs": [
    {
     "data": {
      "text/plain": [
       "'Reference panel: GTEX_V8'"
      ]
     },
     "metadata": {},
     "output_type": "display_data"
    }
   ],
   "source": [
    "assert (\n",
    "    REFERENCE_PANEL is not None and len(REFERENCE_PANEL) > 0\n",
    "), \"A reference panel must be given\"\n",
    "\n",
    "display(f\"Reference panel: {REFERENCE_PANEL}\")"
   ]
  },
  {
   "cell_type": "code",
   "execution_count": 7,
   "id": "e024d130-c139-429a-9c6e-ccf149e297b0",
   "metadata": {
    "execution": {
     "iopub.execute_input": "2022-11-29T23:57:06.162019Z",
     "iopub.status.busy": "2022-11-29T23:57:06.161657Z",
     "iopub.status.idle": "2022-11-29T23:57:06.184364Z",
     "shell.execute_reply": "2022-11-29T23:57:06.183714Z"
    },
    "papermill": {
     "duration": 0.033602,
     "end_time": "2022-11-29T23:57:06.185829",
     "exception": false,
     "start_time": "2022-11-29T23:57:06.152227",
     "status": "completed"
    },
    "tags": []
   },
   "outputs": [
    {
     "data": {
      "text/plain": [
       "'eQTL model: MASHR) / mashr_'"
      ]
     },
     "metadata": {},
     "output_type": "display_data"
    }
   ],
   "source": [
    "assert (\n",
    "    EQTL_MODEL is not None and len(EQTL_MODEL) > 0\n",
    "), \"A prediction/eQTL model must be given\"\n",
    "\n",
    "EQTL_MODEL_FILES_PREFIX = conf.PHENOMEXCAN[\"PREDICTION_MODELS\"][f\"{EQTL_MODEL}_PREFIX\"]\n",
    "display(f\"eQTL model: {EQTL_MODEL}) / {EQTL_MODEL_FILES_PREFIX}\")"
   ]
  },
  {
   "cell_type": "code",
   "execution_count": 8,
   "id": "552a7f63-a18c-4d3e-bb6a-94f99b431291",
   "metadata": {
    "execution": {
     "iopub.execute_input": "2022-11-29T23:57:06.204994Z",
     "iopub.status.busy": "2022-11-29T23:57:06.204635Z",
     "iopub.status.idle": "2022-11-29T23:57:06.227013Z",
     "shell.execute_reply": "2022-11-29T23:57:06.226362Z"
    },
    "papermill": {
     "duration": 0.033422,
     "end_time": "2022-11-29T23:57:06.228477",
     "exception": false,
     "start_time": "2022-11-29T23:57:06.195055",
     "status": "completed"
    },
    "tags": []
   },
   "outputs": [
    {
     "data": {
      "text/plain": [
       "'S-MultiXcan condition number: 30'"
      ]
     },
     "metadata": {},
     "output_type": "display_data"
    }
   ],
   "source": [
    "assert (\n",
    "    SMULTIXCAN_CONDITION_NUMBER is not None and SMULTIXCAN_CONDITION_NUMBER > 0\n",
    "), \"The S-MultiXcan condition number (positive integer) must be given\"\n",
    "\n",
    "display(f\"S-MultiXcan condition number: {SMULTIXCAN_CONDITION_NUMBER}\")"
   ]
  },
  {
   "cell_type": "code",
   "execution_count": 9,
   "id": "f34a336f-548e-4afe-8955-90eaea4f42c6",
   "metadata": {
    "execution": {
     "iopub.execute_input": "2022-11-29T23:57:06.247490Z",
     "iopub.status.busy": "2022-11-29T23:57:06.247143Z",
     "iopub.status.idle": "2022-11-29T23:57:06.270475Z",
     "shell.execute_reply": "2022-11-29T23:57:06.268928Z"
    },
    "papermill": {
     "duration": 0.034665,
     "end_time": "2022-11-29T23:57:06.272222",
     "exception": false,
     "start_time": "2022-11-29T23:57:06.237557",
     "status": "completed"
    },
    "tags": []
   },
   "outputs": [
    {
     "data": {
      "text/plain": [
       "'Working on chromosome 9'"
      ]
     },
     "metadata": {},
     "output_type": "display_data"
    }
   ],
   "source": [
    "assert CHROMOSOME is not None and (\n",
    "    1 <= CHROMOSOME <= 22\n",
    "), \"You have to select one chromosome (format: number between 1 and 22)\"\n",
    "\n",
    "# CHROMOSOME = str(CHROMOSOME)\n",
    "display(f\"Working on chromosome {CHROMOSOME}\")"
   ]
  },
  {
   "cell_type": "code",
   "execution_count": 10,
   "id": "ab8e96e8-06b5-4363-9dcd-dc4d78cc27f7",
   "metadata": {
    "execution": {
     "iopub.execute_input": "2022-11-29T23:57:06.293776Z",
     "iopub.status.busy": "2022-11-29T23:57:06.293176Z",
     "iopub.status.idle": "2022-11-29T23:57:06.317411Z",
     "shell.execute_reply": "2022-11-29T23:57:06.316826Z"
    },
    "papermill": {
     "duration": 0.036081,
     "end_time": "2022-11-29T23:57:06.318800",
     "exception": false,
     "start_time": "2022-11-29T23:57:06.282719",
     "status": "completed"
    },
    "tags": []
   },
   "outputs": [
    {
     "data": {
      "text/plain": [
       "'Compute correlation within distance False'"
      ]
     },
     "metadata": {},
     "output_type": "display_data"
    }
   ],
   "source": [
    "display(f\"Compute correlation within distance {COMPUTE_CORRELATIONS_WITHIN_DISTANCE}\")"
   ]
  },
  {
   "cell_type": "code",
   "execution_count": 11,
   "id": "b393b698-77e3-4ba2-8ac1-e14d51aa988f",
   "metadata": {
    "execution": {
     "iopub.execute_input": "2022-11-29T23:57:06.338828Z",
     "iopub.status.busy": "2022-11-29T23:57:06.338276Z",
     "iopub.status.idle": "2022-11-29T23:57:06.361809Z",
     "shell.execute_reply": "2022-11-29T23:57:06.361216Z"
    },
    "papermill": {
     "duration": 0.035069,
     "end_time": "2022-11-29T23:57:06.363246",
     "exception": false,
     "start_time": "2022-11-29T23:57:06.328177",
     "status": "completed"
    },
    "tags": []
   },
   "outputs": [
    {
     "data": {
      "text/plain": [
       "'Using output dir base: /opt/data/projects/asthma-copd/results/gls_phenoplier/gene_corrs/copd_only'"
      ]
     },
     "metadata": {},
     "output_type": "display_data"
    }
   ],
   "source": [
    "assert (\n",
    "    OUTPUT_DIR_BASE is not None and len(OUTPUT_DIR_BASE) > 0\n",
    "), \"Output directory path must be given\"\n",
    "\n",
    "OUTPUT_DIR_BASE = (\n",
    "    Path(OUTPUT_DIR_BASE)\n",
    "    / \"gene_corrs\"\n",
    "    / COHORT_NAME\n",
    "    # / REFERENCE_PANEL.lower()\n",
    "    # / EQTL_MODEL.lower()\n",
    ").resolve()\n",
    "\n",
    "OUTPUT_DIR_BASE.mkdir(parents=True, exist_ok=True)\n",
    "\n",
    "display(f\"Using output dir base: {OUTPUT_DIR_BASE}\")"
   ]
  },
  {
   "cell_type": "markdown",
   "id": "d2ba085e",
   "metadata": {
    "papermill": {
     "duration": 0.009286,
     "end_time": "2022-11-29T23:57:06.382286",
     "exception": false,
     "start_time": "2022-11-29T23:57:06.373000",
     "status": "completed"
    },
    "tags": []
   },
   "source": [
    "# Load data"
   ]
  },
  {
   "cell_type": "markdown",
   "id": "7dcb8db7",
   "metadata": {
    "papermill": {
     "duration": 0.009792,
     "end_time": "2022-11-29T23:57:06.401405",
     "exception": false,
     "start_time": "2022-11-29T23:57:06.391613",
     "status": "completed"
    },
    "tags": []
   },
   "source": [
    "## GWAS variants"
   ]
  },
  {
   "cell_type": "code",
   "execution_count": 12,
   "id": "29434c4e-8cd3-4b9b-82e4-b5a251d9dd19",
   "metadata": {
    "execution": {
     "iopub.execute_input": "2022-11-29T23:57:06.416904Z",
     "iopub.status.busy": "2022-11-29T23:57:06.416571Z",
     "iopub.status.idle": "2022-11-29T23:57:08.426165Z",
     "shell.execute_reply": "2022-11-29T23:57:08.425710Z"
    },
    "papermill": {
     "duration": 2.017559,
     "end_time": "2022-11-29T23:57:08.427854",
     "exception": false,
     "start_time": "2022-11-29T23:57:06.410295",
     "status": "completed"
    },
    "tags": []
   },
   "outputs": [],
   "source": [
    "with open(OUTPUT_DIR_BASE / \"gwas_variant_ids.pkl\", \"rb\") as handle:\n",
    "    gwas_variants_ids_set = pickle.load(handle)"
   ]
  },
  {
   "cell_type": "code",
   "execution_count": 13,
   "id": "b9d9dec2-4a76-4bf9-bde2-e24c95acb8a0",
   "metadata": {
    "execution": {
     "iopub.execute_input": "2022-11-29T23:57:08.448113Z",
     "iopub.status.busy": "2022-11-29T23:57:08.447996Z",
     "iopub.status.idle": "2022-11-29T23:57:08.461191Z",
     "shell.execute_reply": "2022-11-29T23:57:08.460815Z"
    },
    "papermill": {
     "duration": 0.025192,
     "end_time": "2022-11-29T23:57:08.462326",
     "exception": false,
     "start_time": "2022-11-29T23:57:08.437134",
     "status": "completed"
    },
    "tags": []
   },
   "outputs": [
    {
     "data": {
      "text/plain": [
       "8586183"
      ]
     },
     "execution_count": 13,
     "metadata": {},
     "output_type": "execute_result"
    }
   ],
   "source": [
    "len(gwas_variants_ids_set)"
   ]
  },
  {
   "cell_type": "code",
   "execution_count": 14,
   "id": "4235b06a-6034-4ee4-a0a3-2ae35d122418",
   "metadata": {
    "execution": {
     "iopub.execute_input": "2022-11-29T23:57:08.481054Z",
     "iopub.status.busy": "2022-11-29T23:57:08.480933Z",
     "iopub.status.idle": "2022-11-29T23:57:08.846177Z",
     "shell.execute_reply": "2022-11-29T23:57:08.845874Z"
    },
    "papermill": {
     "duration": 0.375973,
     "end_time": "2022-11-29T23:57:08.847389",
     "exception": false,
     "start_time": "2022-11-29T23:57:08.471416",
     "status": "completed"
    },
    "tags": []
   },
   "outputs": [
    {
     "data": {
      "text/plain": [
       "['chr6_118288042_C_G_b38',\n",
       " 'chr12_3877759_G_A_b38',\n",
       " 'chr5_79063047_G_A_b38',\n",
       " 'chr6_10572514_T_C_b38',\n",
       " 'chr11_25623212_G_A_b38']"
      ]
     },
     "execution_count": 14,
     "metadata": {},
     "output_type": "execute_result"
    }
   ],
   "source": [
    "list(gwas_variants_ids_set)[:5]"
   ]
  },
  {
   "cell_type": "markdown",
   "id": "07866999-2305-41f9-a144-e69c9122c212",
   "metadata": {
    "papermill": {
     "duration": 0.010284,
     "end_time": "2022-11-29T23:57:08.867085",
     "exception": false,
     "start_time": "2022-11-29T23:57:08.856801",
     "status": "completed"
    },
    "tags": []
   },
   "source": [
    "## S-PrediXcan tissue models"
   ]
  },
  {
   "cell_type": "code",
   "execution_count": 15,
   "id": "780611d9-77c8-405f-90a4-f271f7b09397",
   "metadata": {
    "execution": {
     "iopub.execute_input": "2022-11-29T23:57:08.887842Z",
     "iopub.status.busy": "2022-11-29T23:57:08.887695Z",
     "iopub.status.idle": "2022-11-29T23:57:09.498724Z",
     "shell.execute_reply": "2022-11-29T23:57:09.498276Z"
    },
    "papermill": {
     "duration": 0.623364,
     "end_time": "2022-11-29T23:57:09.500412",
     "exception": false,
     "start_time": "2022-11-29T23:57:08.877048",
     "status": "completed"
    },
    "tags": []
   },
   "outputs": [],
   "source": [
    "spredixcan_genes_models = pd.read_pickle(OUTPUT_DIR_BASE / \"gene_tissues.pkl\")"
   ]
  },
  {
   "cell_type": "code",
   "execution_count": 16,
   "id": "726dd1f6-9557-4225-91fa-b3b879ea96e1",
   "metadata": {
    "execution": {
     "iopub.execute_input": "2022-11-29T23:57:09.521198Z",
     "iopub.status.busy": "2022-11-29T23:57:09.521073Z",
     "iopub.status.idle": "2022-11-29T23:57:09.534454Z",
     "shell.execute_reply": "2022-11-29T23:57:09.534071Z"
    },
    "papermill": {
     "duration": 0.025239,
     "end_time": "2022-11-29T23:57:09.535836",
     "exception": false,
     "start_time": "2022-11-29T23:57:09.510597",
     "status": "completed"
    },
    "tags": []
   },
   "outputs": [
    {
     "data": {
      "text/plain": [
       "(6443, 5)"
      ]
     },
     "execution_count": 16,
     "metadata": {},
     "output_type": "execute_result"
    }
   ],
   "source": [
    "spredixcan_genes_models.shape"
   ]
  },
  {
   "cell_type": "code",
   "execution_count": 17,
   "id": "944a1b48-222c-4eb0-b252-b9de2cbca215",
   "metadata": {
    "execution": {
     "iopub.execute_input": "2022-11-29T23:57:09.556992Z",
     "iopub.status.busy": "2022-11-29T23:57:09.556866Z",
     "iopub.status.idle": "2022-11-29T23:57:09.572996Z",
     "shell.execute_reply": "2022-11-29T23:57:09.572592Z"
    },
    "papermill": {
     "duration": 0.028001,
     "end_time": "2022-11-29T23:57:09.574398",
     "exception": false,
     "start_time": "2022-11-29T23:57:09.546397",
     "status": "completed"
    },
    "tags": []
   },
   "outputs": [
    {
     "data": {
      "text/html": [
       "<div>\n",
       "<style scoped>\n",
       "    .dataframe tbody tr th:only-of-type {\n",
       "        vertical-align: middle;\n",
       "    }\n",
       "\n",
       "    .dataframe tbody tr th {\n",
       "        vertical-align: top;\n",
       "    }\n",
       "\n",
       "    .dataframe thead th {\n",
       "        text-align: right;\n",
       "    }\n",
       "</style>\n",
       "<table border=\"1\" class=\"dataframe\">\n",
       "  <thead>\n",
       "    <tr style=\"text-align: right;\">\n",
       "      <th></th>\n",
       "      <th>gene_name</th>\n",
       "      <th>tissue</th>\n",
       "      <th>n_tissues</th>\n",
       "      <th>n_snps_used_sum</th>\n",
       "      <th>n_snps_in_model_sum</th>\n",
       "    </tr>\n",
       "    <tr>\n",
       "      <th>gene_id</th>\n",
       "      <th></th>\n",
       "      <th></th>\n",
       "      <th></th>\n",
       "      <th></th>\n",
       "      <th></th>\n",
       "    </tr>\n",
       "  </thead>\n",
       "  <tbody>\n",
       "    <tr>\n",
       "      <th>ENSG00000000419</th>\n",
       "      <td>DPM1</td>\n",
       "      <td>(Brain_Substantia_nigra, Brain_Hypothalamus)</td>\n",
       "      <td>2</td>\n",
       "      <td>2</td>\n",
       "      <td>2</td>\n",
       "    </tr>\n",
       "    <tr>\n",
       "      <th>ENSG00000000938</th>\n",
       "      <td>FGR</td>\n",
       "      <td>(Colon_Sigmoid, Heart_Left_Ventricle, Muscle_S...</td>\n",
       "      <td>36</td>\n",
       "      <td>40</td>\n",
       "      <td>40</td>\n",
       "    </tr>\n",
       "    <tr>\n",
       "      <th>ENSG00000000971</th>\n",
       "      <td>CFH</td>\n",
       "      <td>(Colon_Sigmoid, Heart_Left_Ventricle, Cells_Cu...</td>\n",
       "      <td>34</td>\n",
       "      <td>44</td>\n",
       "      <td>44</td>\n",
       "    </tr>\n",
       "    <tr>\n",
       "      <th>ENSG00000001084</th>\n",
       "      <td>GCLC</td>\n",
       "      <td>(Heart_Left_Ventricle, Cells_Cultured_fibrobla...</td>\n",
       "      <td>32</td>\n",
       "      <td>46</td>\n",
       "      <td>46</td>\n",
       "    </tr>\n",
       "    <tr>\n",
       "      <th>ENSG00000001167</th>\n",
       "      <td>NFYA</td>\n",
       "      <td>(Colon_Sigmoid, Heart_Left_Ventricle, Cells_Cu...</td>\n",
       "      <td>40</td>\n",
       "      <td>47</td>\n",
       "      <td>48</td>\n",
       "    </tr>\n",
       "  </tbody>\n",
       "</table>\n",
       "</div>"
      ],
      "text/plain": [
       "                gene_name                                             tissue  \\\n",
       "gene_id                                                                        \n",
       "ENSG00000000419      DPM1       (Brain_Substantia_nigra, Brain_Hypothalamus)   \n",
       "ENSG00000000938       FGR  (Colon_Sigmoid, Heart_Left_Ventricle, Muscle_S...   \n",
       "ENSG00000000971       CFH  (Colon_Sigmoid, Heart_Left_Ventricle, Cells_Cu...   \n",
       "ENSG00000001084      GCLC  (Heart_Left_Ventricle, Cells_Cultured_fibrobla...   \n",
       "ENSG00000001167      NFYA  (Colon_Sigmoid, Heart_Left_Ventricle, Cells_Cu...   \n",
       "\n",
       "                 n_tissues  n_snps_used_sum  n_snps_in_model_sum  \n",
       "gene_id                                                           \n",
       "ENSG00000000419          2                2                    2  \n",
       "ENSG00000000938         36               40                   40  \n",
       "ENSG00000000971         34               44                   44  \n",
       "ENSG00000001084         32               46                   46  \n",
       "ENSG00000001167         40               47                   48  "
      ]
     },
     "execution_count": 17,
     "metadata": {},
     "output_type": "execute_result"
    }
   ],
   "source": [
    "spredixcan_genes_models.head()"
   ]
  },
  {
   "cell_type": "code",
   "execution_count": 18,
   "id": "d1c11bb1-be0b-4f40-b360-633d6827109f",
   "metadata": {
    "execution": {
     "iopub.execute_input": "2022-11-29T23:57:09.595795Z",
     "iopub.status.busy": "2022-11-29T23:57:09.595609Z",
     "iopub.status.idle": "2022-11-29T23:57:09.608200Z",
     "shell.execute_reply": "2022-11-29T23:57:09.607797Z"
    },
    "papermill": {
     "duration": 0.024728,
     "end_time": "2022-11-29T23:57:09.609557",
     "exception": false,
     "start_time": "2022-11-29T23:57:09.584829",
     "status": "completed"
    },
    "tags": []
   },
   "outputs": [],
   "source": [
    "assert spredixcan_genes_models.index.is_unique"
   ]
  },
  {
   "cell_type": "markdown",
   "id": "a5b5092c-a13e-47c4-a92a-480fcc08f3ae",
   "metadata": {
    "papermill": {
     "duration": 0.010244,
     "end_time": "2022-11-29T23:57:09.630673",
     "exception": false,
     "start_time": "2022-11-29T23:57:09.620429",
     "status": "completed"
    },
    "tags": []
   },
   "source": [
    "## Gene info"
   ]
  },
  {
   "cell_type": "code",
   "execution_count": 19,
   "id": "7d6bb224-88e9-4358-ac10-43a41d92cdad",
   "metadata": {
    "execution": {
     "iopub.execute_input": "2022-11-29T23:57:09.652121Z",
     "iopub.status.busy": "2022-11-29T23:57:09.651789Z",
     "iopub.status.idle": "2022-11-29T23:57:09.670342Z",
     "shell.execute_reply": "2022-11-29T23:57:09.669867Z"
    },
    "papermill": {
     "duration": 0.030322,
     "end_time": "2022-11-29T23:57:09.671321",
     "exception": false,
     "start_time": "2022-11-29T23:57:09.640999",
     "status": "completed"
    },
    "tags": []
   },
   "outputs": [],
   "source": [
    "genes_info = pd.read_pickle(OUTPUT_DIR_BASE / \"genes_info.pkl\")"
   ]
  },
  {
   "cell_type": "code",
   "execution_count": 20,
   "id": "9e32abfa-546d-483e-8c18-d526e9e05903",
   "metadata": {
    "execution": {
     "iopub.execute_input": "2022-11-29T23:57:09.683279Z",
     "iopub.status.busy": "2022-11-29T23:57:09.682918Z",
     "iopub.status.idle": "2022-11-29T23:57:09.701174Z",
     "shell.execute_reply": "2022-11-29T23:57:09.700690Z"
    },
    "papermill": {
     "duration": 0.024885,
     "end_time": "2022-11-29T23:57:09.702006",
     "exception": false,
     "start_time": "2022-11-29T23:57:09.677121",
     "status": "completed"
    },
    "tags": []
   },
   "outputs": [
    {
     "data": {
      "text/plain": [
       "(6443, 7)"
      ]
     },
     "execution_count": 20,
     "metadata": {},
     "output_type": "execute_result"
    }
   ],
   "source": [
    "genes_info.shape"
   ]
  },
  {
   "cell_type": "code",
   "execution_count": 21,
   "id": "d16c3e92-85ec-468a-9a56-e25a9774a1cb",
   "metadata": {
    "execution": {
     "iopub.execute_input": "2022-11-29T23:57:09.713550Z",
     "iopub.status.busy": "2022-11-29T23:57:09.713369Z",
     "iopub.status.idle": "2022-11-29T23:57:09.738753Z",
     "shell.execute_reply": "2022-11-29T23:57:09.738234Z"
    },
    "papermill": {
     "duration": 0.032307,
     "end_time": "2022-11-29T23:57:09.739626",
     "exception": false,
     "start_time": "2022-11-29T23:57:09.707319",
     "status": "completed"
    },
    "tags": []
   },
   "outputs": [
    {
     "data": {
      "text/html": [
       "<div>\n",
       "<style scoped>\n",
       "    .dataframe tbody tr th:only-of-type {\n",
       "        vertical-align: middle;\n",
       "    }\n",
       "\n",
       "    .dataframe tbody tr th {\n",
       "        vertical-align: top;\n",
       "    }\n",
       "\n",
       "    .dataframe thead th {\n",
       "        text-align: right;\n",
       "    }\n",
       "</style>\n",
       "<table border=\"1\" class=\"dataframe\">\n",
       "  <thead>\n",
       "    <tr style=\"text-align: right;\">\n",
       "      <th></th>\n",
       "      <th>name</th>\n",
       "      <th>id</th>\n",
       "      <th>chr</th>\n",
       "      <th>band</th>\n",
       "      <th>start_position</th>\n",
       "      <th>end_position</th>\n",
       "      <th>gene_length</th>\n",
       "    </tr>\n",
       "  </thead>\n",
       "  <tbody>\n",
       "    <tr>\n",
       "      <th>0</th>\n",
       "      <td>PPP1R13B</td>\n",
       "      <td>ENSG00000088808</td>\n",
       "      <td>14</td>\n",
       "      <td>14q32.33</td>\n",
       "      <td>103733195</td>\n",
       "      <td>103847590</td>\n",
       "      <td>114395</td>\n",
       "    </tr>\n",
       "    <tr>\n",
       "      <th>1</th>\n",
       "      <td>HNRNPA0</td>\n",
       "      <td>ENSG00000177733</td>\n",
       "      <td>5</td>\n",
       "      <td>5q31.2</td>\n",
       "      <td>137745651</td>\n",
       "      <td>137754376</td>\n",
       "      <td>8725</td>\n",
       "    </tr>\n",
       "    <tr>\n",
       "      <th>2</th>\n",
       "      <td>GSN</td>\n",
       "      <td>ENSG00000148180</td>\n",
       "      <td>9</td>\n",
       "      <td>9q33.2</td>\n",
       "      <td>121207794</td>\n",
       "      <td>121332843</td>\n",
       "      <td>125049</td>\n",
       "    </tr>\n",
       "    <tr>\n",
       "      <th>3</th>\n",
       "      <td>CCR3</td>\n",
       "      <td>ENSG00000183625</td>\n",
       "      <td>3</td>\n",
       "      <td>3p21.31</td>\n",
       "      <td>46163604</td>\n",
       "      <td>46266706</td>\n",
       "      <td>103102</td>\n",
       "    </tr>\n",
       "    <tr>\n",
       "      <th>4</th>\n",
       "      <td>TRIB2</td>\n",
       "      <td>ENSG00000071575</td>\n",
       "      <td>2</td>\n",
       "      <td>2p24.3</td>\n",
       "      <td>12716889</td>\n",
       "      <td>12742734</td>\n",
       "      <td>25845</td>\n",
       "    </tr>\n",
       "  </tbody>\n",
       "</table>\n",
       "</div>"
      ],
      "text/plain": [
       "       name               id  chr      band  start_position  end_position  \\\n",
       "0  PPP1R13B  ENSG00000088808   14  14q32.33       103733195     103847590   \n",
       "1   HNRNPA0  ENSG00000177733    5    5q31.2       137745651     137754376   \n",
       "2       GSN  ENSG00000148180    9    9q33.2       121207794     121332843   \n",
       "3      CCR3  ENSG00000183625    3   3p21.31        46163604      46266706   \n",
       "4     TRIB2  ENSG00000071575    2    2p24.3        12716889      12742734   \n",
       "\n",
       "   gene_length  \n",
       "0       114395  \n",
       "1         8725  \n",
       "2       125049  \n",
       "3       103102  \n",
       "4        25845  "
      ]
     },
     "execution_count": 21,
     "metadata": {},
     "output_type": "execute_result"
    }
   ],
   "source": [
    "genes_info.head()"
   ]
  },
  {
   "cell_type": "markdown",
   "id": "d3843e06",
   "metadata": {
    "papermill": {
     "duration": 0.005384,
     "end_time": "2022-11-29T23:57:09.750567",
     "exception": false,
     "start_time": "2022-11-29T23:57:09.745183",
     "status": "completed"
    },
    "tags": []
   },
   "source": [
    "# Compute correlations"
   ]
  },
  {
   "cell_type": "code",
   "execution_count": 22,
   "id": "cb859c15-d1f3-4006-a74c-2b83c0db9611",
   "metadata": {
    "execution": {
     "iopub.execute_input": "2022-11-29T23:57:09.762794Z",
     "iopub.status.busy": "2022-11-29T23:57:09.762313Z",
     "iopub.status.idle": "2022-11-29T23:57:09.784604Z",
     "shell.execute_reply": "2022-11-29T23:57:09.784074Z"
    },
    "papermill": {
     "duration": 0.029583,
     "end_time": "2022-11-29T23:57:09.785512",
     "exception": false,
     "start_time": "2022-11-29T23:57:09.755929",
     "status": "completed"
    },
    "tags": []
   },
   "outputs": [
    {
     "data": {
      "text/plain": [
       "PosixPath('/opt/data/projects/asthma-copd/results/gls_phenoplier/gene_corrs/copd_only/by_chr/gene_corrs-chr9.pkl')"
      ]
     },
     "metadata": {},
     "output_type": "display_data"
    }
   ],
   "source": [
    "output_dir = OUTPUT_DIR_BASE / \"by_chr\"\n",
    "output_dir.mkdir(exist_ok=True, parents=True)\n",
    "output_file = output_dir / f\"gene_corrs-chr{CHROMOSOME}.pkl\"\n",
    "display(output_file)"
   ]
  },
  {
   "cell_type": "code",
   "execution_count": 23,
   "id": "aa674fe4-6794-4eed-98fa-32b39d1d4ace",
   "metadata": {
    "execution": {
     "iopub.execute_input": "2022-11-29T23:57:09.797391Z",
     "iopub.status.busy": "2022-11-29T23:57:09.797133Z",
     "iopub.status.idle": "2022-11-29T23:57:09.817633Z",
     "shell.execute_reply": "2022-11-29T23:57:09.817089Z"
    },
    "papermill": {
     "duration": 0.027442,
     "end_time": "2022-11-29T23:57:09.818515",
     "exception": false,
     "start_time": "2022-11-29T23:57:09.791073",
     "status": "completed"
    },
    "tags": []
   },
   "outputs": [],
   "source": [
    "warnings.filterwarnings(\"error\")"
   ]
  },
  {
   "cell_type": "code",
   "execution_count": 24,
   "id": "44d5450b-3baf-43f1-9e2e-4b06f1a785f8",
   "metadata": {
    "execution": {
     "iopub.execute_input": "2022-11-29T23:57:09.831092Z",
     "iopub.status.busy": "2022-11-29T23:57:09.830611Z",
     "iopub.status.idle": "2022-11-29T23:57:09.851934Z",
     "shell.execute_reply": "2022-11-29T23:57:09.851406Z"
    },
    "papermill": {
     "duration": 0.028582,
     "end_time": "2022-11-29T23:57:09.853012",
     "exception": false,
     "start_time": "2022-11-29T23:57:09.824430",
     "status": "completed"
    },
    "tags": []
   },
   "outputs": [],
   "source": [
    "# standard checks\n",
    "all_chrs = genes_info[\"chr\"].dropna().unique()\n",
    "assert all_chrs.shape[0] == 22\n",
    "\n",
    "# select chromosome given by the user\n",
    "assert CHROMOSOME in all_chrs"
   ]
  },
  {
   "cell_type": "code",
   "execution_count": 25,
   "id": "2d7c043c-92a7-4d35-991b-fa69ac1e0268",
   "metadata": {
    "execution": {
     "iopub.execute_input": "2022-11-29T23:57:09.865465Z",
     "iopub.status.busy": "2022-11-29T23:57:09.864993Z",
     "iopub.status.idle": "2022-11-29T23:57:09.887721Z",
     "shell.execute_reply": "2022-11-29T23:57:09.887178Z"
    },
    "papermill": {
     "duration": 0.029744,
     "end_time": "2022-11-29T23:57:09.888588",
     "exception": false,
     "start_time": "2022-11-29T23:57:09.858844",
     "status": "completed"
    },
    "tags": []
   },
   "outputs": [
    {
     "name": "stdout",
     "output_type": "stream",
     "text": [
      "Number of genes in chromosome: 245\n"
     ]
    }
   ],
   "source": [
    "# run only on the chromosome specified\n",
    "all_chrs = [CHROMOSOME]\n",
    "genes_chr = genes_info[genes_info[\"chr\"] == CHROMOSOME]\n",
    "\n",
    "# For testing purposes\n",
    "# genes_chr = genes_chr.sample(n=20)\n",
    "\n",
    "print(f\"Number of genes in chromosome: {genes_chr.shape[0]}\", flush=True)"
   ]
  },
  {
   "cell_type": "code",
   "execution_count": 26,
   "id": "916015d8-2979-46d3-a9b9-1cf5a0932c6a",
   "metadata": {
    "execution": {
     "iopub.execute_input": "2022-11-29T23:57:09.901171Z",
     "iopub.status.busy": "2022-11-29T23:57:09.900679Z",
     "iopub.status.idle": "2022-11-29T23:57:09.921566Z",
     "shell.execute_reply": "2022-11-29T23:57:09.921032Z"
    },
    "papermill": {
     "duration": 0.027978,
     "end_time": "2022-11-29T23:57:09.922476",
     "exception": false,
     "start_time": "2022-11-29T23:57:09.894498",
     "status": "completed"
    },
    "tags": []
   },
   "outputs": [],
   "source": [
    "# sort genes by starting position to make visualizations better later\n",
    "genes_chr = genes_chr.sort_values(\"start_position\")"
   ]
  },
  {
   "cell_type": "code",
   "execution_count": 27,
   "id": "a38aa74a-8ad3-47f6-8ef9-56be0e011774",
   "metadata": {
    "execution": {
     "iopub.execute_input": "2022-11-29T23:57:09.934950Z",
     "iopub.status.busy": "2022-11-29T23:57:09.934492Z",
     "iopub.status.idle": "2022-11-29T23:57:09.962343Z",
     "shell.execute_reply": "2022-11-29T23:57:09.961676Z"
    },
    "papermill": {
     "duration": 0.035378,
     "end_time": "2022-11-29T23:57:09.963464",
     "exception": false,
     "start_time": "2022-11-29T23:57:09.928086",
     "status": "completed"
    },
    "tags": []
   },
   "outputs": [],
   "source": [
    "gene_chr_objs = [Gene(ensembl_id=gene_id) for gene_id in genes_chr[\"id\"]]"
   ]
  },
  {
   "cell_type": "code",
   "execution_count": 28,
   "id": "570f974f-13c3-42b6-ad3a-ce99ca885c1a",
   "metadata": {
    "execution": {
     "iopub.execute_input": "2022-11-29T23:57:09.976351Z",
     "iopub.status.busy": "2022-11-29T23:57:09.975734Z",
     "iopub.status.idle": "2022-11-29T23:57:10.004150Z",
     "shell.execute_reply": "2022-11-29T23:57:10.003529Z"
    },
    "papermill": {
     "duration": 0.035902,
     "end_time": "2022-11-29T23:57:10.005064",
     "exception": false,
     "start_time": "2022-11-29T23:57:09.969162",
     "status": "completed"
    },
    "tags": []
   },
   "outputs": [
    {
     "name": "stdout",
     "output_type": "stream",
     "text": [
      "Number of gene combinations: 30135\n"
     ]
    }
   ],
   "source": [
    "n = len(gene_chr_objs)\n",
    "# diagonal elements + upper triangular matrix\n",
    "n_comb = n + int(n * (n - 1) / 2.0)\n",
    "print(f\"Number of gene combinations: {n_comb}\", flush=True)"
   ]
  },
  {
   "cell_type": "code",
   "execution_count": 29,
   "id": "cdbb90a1",
   "metadata": {
    "execution": {
     "iopub.execute_input": "2022-11-29T23:57:10.018184Z",
     "iopub.status.busy": "2022-11-29T23:57:10.017866Z",
     "iopub.status.idle": "2022-11-30T00:18:14.593998Z",
     "shell.execute_reply": "2022-11-30T00:18:14.593488Z"
    },
    "papermill": {
     "duration": 1264.583982,
     "end_time": "2022-11-30T00:18:14.595195",
     "exception": false,
     "start_time": "2022-11-29T23:57:10.011213",
     "status": "completed"
    },
    "tags": []
   },
   "outputs": [
    {
     "name": "stderr",
     "output_type": "stream",
     "text": [
      "ENSG00000181090 / ENSG00000181090: 100%|██████████████████████| 30135/30135 [21:04<00:00, 23.83it/s]\n"
     ]
    },
    {
     "data": {
      "text/plain": [
       "PosixPath('/opt/data/projects/asthma-copd/results/gls_phenoplier/gene_corrs/copd_only/by_chr/gene_corrs-chr9.pkl')"
      ]
     },
     "metadata": {},
     "output_type": "display_data"
    }
   ],
   "source": [
    "gene_corrs = []\n",
    "gene_corrs_data = np.full(\n",
    "    (n, n),\n",
    "    np.nan,\n",
    "    dtype=np.float64,\n",
    ")\n",
    "\n",
    "i = 0\n",
    "with tqdm(ncols=100, total=n_comb) as pbar:\n",
    "    for gene1_idx in range(0, len(gene_chr_objs)):\n",
    "        gene1_obj = gene_chr_objs[gene1_idx]\n",
    "        gene1_tissues = spredixcan_genes_models.loc[gene1_obj.ensembl_id, \"tissue\"]\n",
    "\n",
    "        for gene2_idx in range(gene1_idx, len(gene_chr_objs)):\n",
    "            gene2_obj = gene_chr_objs[gene2_idx]\n",
    "            gene2_tissues = spredixcan_genes_models.loc[gene2_obj.ensembl_id, \"tissue\"]\n",
    "\n",
    "            pbar.set_description(f\"{gene1_obj.ensembl_id} / {gene2_obj.ensembl_id}\")\n",
    "\n",
    "            try:\n",
    "                r = gene1_obj.get_ssm_correlation(\n",
    "                    other_gene=gene2_obj,\n",
    "                    tissues=gene1_tissues,\n",
    "                    other_tissues=gene2_tissues,\n",
    "                    snps_subset=gwas_variants_ids_set,\n",
    "                    condition_number=SMULTIXCAN_CONDITION_NUMBER,\n",
    "                    reference_panel=REFERENCE_PANEL,\n",
    "                    model_type=EQTL_MODEL,\n",
    "                    use_within_distance=COMPUTE_CORRELATIONS_WITHIN_DISTANCE,\n",
    "                )\n",
    "\n",
    "                if r is None:\n",
    "                    # if r is None, it's very likely because:\n",
    "                    #  * one of the genes has no prediction models\n",
    "                    #  * all the SNPs predictors for the gene are not present in the reference\n",
    "                    #    panel\n",
    "\n",
    "                    r = 0.0\n",
    "\n",
    "                gene_corrs.append(r)\n",
    "\n",
    "                gene_corrs_data[gene1_idx, gene2_idx] = r\n",
    "                gene_corrs_data[gene2_idx, gene1_idx] = r\n",
    "            except Warning as e:\n",
    "                if not DEBUG_MODE:\n",
    "                    raise e\n",
    "\n",
    "                print(\n",
    "                    f\"RuntimeWarning for genes {gene1_obj.ensembl_id} and {gene2_obj.ensembl_id}\",\n",
    "                    flush=True,\n",
    "                )\n",
    "                print(traceback.format_exc(), flush=True)\n",
    "\n",
    "                gene_corrs.append(np.nan)\n",
    "            except Exception as e:\n",
    "                if not DEBUG_MODE:\n",
    "                    raise e\n",
    "\n",
    "                print(\n",
    "                    f\"Exception for genes {gene1_obj.ensembl_id} and {gene2_obj.ensembl_id}\",\n",
    "                    flush=True,\n",
    "                )\n",
    "                print(traceback.format_exc(), flush=True)\n",
    "\n",
    "                gene_corrs.append(np.nan)\n",
    "\n",
    "            pbar.update(1)\n",
    "\n",
    "# create a pandas series\n",
    "gene_corrs_flat = pd.Series(gene_corrs)\n",
    "\n",
    "# save\n",
    "# FIXME: consider saving only the condenced matrix here. See here for\n",
    "# more details: https://github.com/greenelab/phenoplier/pull/38#discussion_r634600813\n",
    "# gene_corrs_data = squareform(np.array(gene_corrs, dtype=np.float64))\n",
    "# np.fill_diagonal(gene_corrs_data, 1.0)\n",
    "\n",
    "gene_chr_ids = [g.ensembl_id for g in gene_chr_objs]\n",
    "gene_corrs_df = pd.DataFrame(\n",
    "    data=gene_corrs_data,\n",
    "    index=gene_chr_ids,\n",
    "    columns=gene_chr_ids,\n",
    ")\n",
    "\n",
    "output_dir.mkdir(exist_ok=True, parents=True)\n",
    "display(output_file)\n",
    "\n",
    "gene_corrs_df.to_pickle(output_file)"
   ]
  },
  {
   "cell_type": "markdown",
   "id": "faa67b51-5373-470f-aa72-2ded53fa6dfe",
   "metadata": {
    "papermill": {
     "duration": 1.222838,
     "end_time": "2022-11-30T00:18:17.012032",
     "exception": false,
     "start_time": "2022-11-30T00:18:15.789194",
     "status": "completed"
    },
    "tags": []
   },
   "source": [
    "# Testing"
   ]
  },
  {
   "cell_type": "code",
   "execution_count": 30,
   "id": "14f7d046-4b55-4896-a56b-990127bcc388",
   "metadata": {
    "execution": {
     "iopub.execute_input": "2022-11-30T00:18:19.408611Z",
     "iopub.status.busy": "2022-11-30T00:18:19.408211Z",
     "iopub.status.idle": "2022-11-30T00:18:19.430404Z",
     "shell.execute_reply": "2022-11-30T00:18:19.429783Z"
    },
    "papermill": {
     "duration": 1.249241,
     "end_time": "2022-11-30T00:18:19.431330",
     "exception": false,
     "start_time": "2022-11-30T00:18:18.182089",
     "status": "completed"
    },
    "tags": []
   },
   "outputs": [
    {
     "data": {
      "text/plain": [
       "(245, 245)"
      ]
     },
     "execution_count": 30,
     "metadata": {},
     "output_type": "execute_result"
    }
   ],
   "source": [
    "gene_corrs_df.shape"
   ]
  },
  {
   "cell_type": "code",
   "execution_count": 31,
   "id": "c7d15414-3297-4537-a7c6-7588c0baeb75",
   "metadata": {
    "execution": {
     "iopub.execute_input": "2022-11-30T00:18:21.812825Z",
     "iopub.status.busy": "2022-11-30T00:18:21.812568Z",
     "iopub.status.idle": "2022-11-30T00:18:21.847544Z",
     "shell.execute_reply": "2022-11-30T00:18:21.846896Z"
    },
    "papermill": {
     "duration": 1.246508,
     "end_time": "2022-11-30T00:18:21.848502",
     "exception": false,
     "start_time": "2022-11-30T00:18:20.601994",
     "status": "completed"
    },
    "tags": []
   },
   "outputs": [
    {
     "data": {
      "text/html": [
       "<div>\n",
       "<style scoped>\n",
       "    .dataframe tbody tr th:only-of-type {\n",
       "        vertical-align: middle;\n",
       "    }\n",
       "\n",
       "    .dataframe tbody tr th {\n",
       "        vertical-align: top;\n",
       "    }\n",
       "\n",
       "    .dataframe thead th {\n",
       "        text-align: right;\n",
       "    }\n",
       "</style>\n",
       "<table border=\"1\" class=\"dataframe\">\n",
       "  <thead>\n",
       "    <tr style=\"text-align: right;\">\n",
       "      <th></th>\n",
       "      <th>ENSG00000107099</th>\n",
       "      <th>ENSG00000080503</th>\n",
       "      <th>ENSG00000147852</th>\n",
       "      <th>ENSG00000107249</th>\n",
       "      <th>ENSG00000147853</th>\n",
       "      <th>ENSG00000096968</th>\n",
       "      <th>ENSG00000107014</th>\n",
       "      <th>ENSG00000120217</th>\n",
       "      <th>ENSG00000197646</th>\n",
       "      <th>ENSG00000178445</th>\n",
       "      <th>...</th>\n",
       "      <th>ENSG00000107317</th>\n",
       "      <th>ENSG00000169583</th>\n",
       "      <th>ENSG00000107331</th>\n",
       "      <th>ENSG00000054179</th>\n",
       "      <th>ENSG00000177239</th>\n",
       "      <th>ENSG00000176248</th>\n",
       "      <th>ENSG00000176101</th>\n",
       "      <th>ENSG00000188747</th>\n",
       "      <th>ENSG00000182154</th>\n",
       "      <th>ENSG00000181090</th>\n",
       "    </tr>\n",
       "  </thead>\n",
       "  <tbody>\n",
       "    <tr>\n",
       "      <th>ENSG00000107099</th>\n",
       "      <td>1.000000</td>\n",
       "      <td>0.004888</td>\n",
       "      <td>0.014346</td>\n",
       "      <td>0.011179</td>\n",
       "      <td>0.008516</td>\n",
       "      <td>0.010086</td>\n",
       "      <td>0.007350</td>\n",
       "      <td>0.010925</td>\n",
       "      <td>0.003667</td>\n",
       "      <td>0.007955</td>\n",
       "      <td>...</td>\n",
       "      <td>0.006178</td>\n",
       "      <td>0.004963</td>\n",
       "      <td>0.006625</td>\n",
       "      <td>0.010763</td>\n",
       "      <td>0.007247</td>\n",
       "      <td>0.006464</td>\n",
       "      <td>0.005777</td>\n",
       "      <td>0.012972</td>\n",
       "      <td>0.002313</td>\n",
       "      <td>0.003386</td>\n",
       "    </tr>\n",
       "    <tr>\n",
       "      <th>ENSG00000080503</th>\n",
       "      <td>0.004888</td>\n",
       "      <td>1.000000</td>\n",
       "      <td>0.013387</td>\n",
       "      <td>0.009019</td>\n",
       "      <td>0.008423</td>\n",
       "      <td>0.010715</td>\n",
       "      <td>0.006403</td>\n",
       "      <td>0.009085</td>\n",
       "      <td>0.005355</td>\n",
       "      <td>0.011907</td>\n",
       "      <td>...</td>\n",
       "      <td>0.007584</td>\n",
       "      <td>0.010396</td>\n",
       "      <td>0.007528</td>\n",
       "      <td>0.010023</td>\n",
       "      <td>0.007058</td>\n",
       "      <td>0.008733</td>\n",
       "      <td>0.008615</td>\n",
       "      <td>0.007522</td>\n",
       "      <td>0.004690</td>\n",
       "      <td>0.007634</td>\n",
       "    </tr>\n",
       "    <tr>\n",
       "      <th>ENSG00000147852</th>\n",
       "      <td>0.014346</td>\n",
       "      <td>0.013387</td>\n",
       "      <td>1.000000</td>\n",
       "      <td>0.013510</td>\n",
       "      <td>0.014940</td>\n",
       "      <td>0.019684</td>\n",
       "      <td>0.015293</td>\n",
       "      <td>0.019233</td>\n",
       "      <td>0.009658</td>\n",
       "      <td>0.014789</td>\n",
       "      <td>...</td>\n",
       "      <td>0.013755</td>\n",
       "      <td>0.014284</td>\n",
       "      <td>0.012455</td>\n",
       "      <td>0.021487</td>\n",
       "      <td>0.016526</td>\n",
       "      <td>0.011880</td>\n",
       "      <td>0.004817</td>\n",
       "      <td>0.012046</td>\n",
       "      <td>0.008420</td>\n",
       "      <td>0.012126</td>\n",
       "    </tr>\n",
       "    <tr>\n",
       "      <th>ENSG00000107249</th>\n",
       "      <td>0.011179</td>\n",
       "      <td>0.009019</td>\n",
       "      <td>0.013510</td>\n",
       "      <td>1.000000</td>\n",
       "      <td>0.013043</td>\n",
       "      <td>0.012821</td>\n",
       "      <td>0.009166</td>\n",
       "      <td>0.012765</td>\n",
       "      <td>0.004407</td>\n",
       "      <td>0.010986</td>\n",
       "      <td>...</td>\n",
       "      <td>0.011557</td>\n",
       "      <td>0.009929</td>\n",
       "      <td>0.008257</td>\n",
       "      <td>0.011060</td>\n",
       "      <td>0.011360</td>\n",
       "      <td>0.009262</td>\n",
       "      <td>0.004310</td>\n",
       "      <td>0.012206</td>\n",
       "      <td>0.004476</td>\n",
       "      <td>0.006118</td>\n",
       "    </tr>\n",
       "    <tr>\n",
       "      <th>ENSG00000147853</th>\n",
       "      <td>0.008516</td>\n",
       "      <td>0.008423</td>\n",
       "      <td>0.014940</td>\n",
       "      <td>0.013043</td>\n",
       "      <td>1.000000</td>\n",
       "      <td>0.035341</td>\n",
       "      <td>0.010092</td>\n",
       "      <td>0.014017</td>\n",
       "      <td>0.008673</td>\n",
       "      <td>0.014867</td>\n",
       "      <td>...</td>\n",
       "      <td>0.009733</td>\n",
       "      <td>0.010215</td>\n",
       "      <td>0.008240</td>\n",
       "      <td>0.006939</td>\n",
       "      <td>0.005548</td>\n",
       "      <td>0.004861</td>\n",
       "      <td>0.001863</td>\n",
       "      <td>0.006116</td>\n",
       "      <td>0.007484</td>\n",
       "      <td>0.007050</td>\n",
       "    </tr>\n",
       "  </tbody>\n",
       "</table>\n",
       "<p>5 rows × 245 columns</p>\n",
       "</div>"
      ],
      "text/plain": [
       "                 ENSG00000107099  ENSG00000080503  ENSG00000147852  \\\n",
       "ENSG00000107099         1.000000         0.004888         0.014346   \n",
       "ENSG00000080503         0.004888         1.000000         0.013387   \n",
       "ENSG00000147852         0.014346         0.013387         1.000000   \n",
       "ENSG00000107249         0.011179         0.009019         0.013510   \n",
       "ENSG00000147853         0.008516         0.008423         0.014940   \n",
       "\n",
       "                 ENSG00000107249  ENSG00000147853  ENSG00000096968  \\\n",
       "ENSG00000107099         0.011179         0.008516         0.010086   \n",
       "ENSG00000080503         0.009019         0.008423         0.010715   \n",
       "ENSG00000147852         0.013510         0.014940         0.019684   \n",
       "ENSG00000107249         1.000000         0.013043         0.012821   \n",
       "ENSG00000147853         0.013043         1.000000         0.035341   \n",
       "\n",
       "                 ENSG00000107014  ENSG00000120217  ENSG00000197646  \\\n",
       "ENSG00000107099         0.007350         0.010925         0.003667   \n",
       "ENSG00000080503         0.006403         0.009085         0.005355   \n",
       "ENSG00000147852         0.015293         0.019233         0.009658   \n",
       "ENSG00000107249         0.009166         0.012765         0.004407   \n",
       "ENSG00000147853         0.010092         0.014017         0.008673   \n",
       "\n",
       "                 ENSG00000178445  ...  ENSG00000107317  ENSG00000169583  \\\n",
       "ENSG00000107099         0.007955  ...         0.006178         0.004963   \n",
       "ENSG00000080503         0.011907  ...         0.007584         0.010396   \n",
       "ENSG00000147852         0.014789  ...         0.013755         0.014284   \n",
       "ENSG00000107249         0.010986  ...         0.011557         0.009929   \n",
       "ENSG00000147853         0.014867  ...         0.009733         0.010215   \n",
       "\n",
       "                 ENSG00000107331  ENSG00000054179  ENSG00000177239  \\\n",
       "ENSG00000107099         0.006625         0.010763         0.007247   \n",
       "ENSG00000080503         0.007528         0.010023         0.007058   \n",
       "ENSG00000147852         0.012455         0.021487         0.016526   \n",
       "ENSG00000107249         0.008257         0.011060         0.011360   \n",
       "ENSG00000147853         0.008240         0.006939         0.005548   \n",
       "\n",
       "                 ENSG00000176248  ENSG00000176101  ENSG00000188747  \\\n",
       "ENSG00000107099         0.006464         0.005777         0.012972   \n",
       "ENSG00000080503         0.008733         0.008615         0.007522   \n",
       "ENSG00000147852         0.011880         0.004817         0.012046   \n",
       "ENSG00000107249         0.009262         0.004310         0.012206   \n",
       "ENSG00000147853         0.004861         0.001863         0.006116   \n",
       "\n",
       "                 ENSG00000182154  ENSG00000181090  \n",
       "ENSG00000107099         0.002313         0.003386  \n",
       "ENSG00000080503         0.004690         0.007634  \n",
       "ENSG00000147852         0.008420         0.012126  \n",
       "ENSG00000107249         0.004476         0.006118  \n",
       "ENSG00000147853         0.007484         0.007050  \n",
       "\n",
       "[5 rows x 245 columns]"
      ]
     },
     "execution_count": 31,
     "metadata": {},
     "output_type": "execute_result"
    }
   ],
   "source": [
    "gene_corrs_df.head()"
   ]
  },
  {
   "cell_type": "markdown",
   "id": "dad6603f-01c6-41fb-a6f6-241051207dd8",
   "metadata": {
    "papermill": {
     "duration": 1.169225,
     "end_time": "2022-11-30T00:18:24.236657",
     "exception": false,
     "start_time": "2022-11-30T00:18:23.067432",
     "status": "completed"
    },
    "tags": []
   },
   "source": [
    "## Standard checks and stats"
   ]
  },
  {
   "cell_type": "code",
   "execution_count": 32,
   "id": "286686af-1b7b-4440-8453-6bdcbd8de19c",
   "metadata": {
    "execution": {
     "iopub.execute_input": "2022-11-30T00:18:26.607582Z",
     "iopub.status.busy": "2022-11-30T00:18:26.606867Z",
     "iopub.status.idle": "2022-11-30T00:18:26.632456Z",
     "shell.execute_reply": "2022-11-30T00:18:26.631735Z"
    },
    "papermill": {
     "duration": 1.235972,
     "end_time": "2022-11-30T00:18:26.633525",
     "exception": false,
     "start_time": "2022-11-30T00:18:25.397553",
     "status": "completed"
    },
    "tags": []
   },
   "outputs": [],
   "source": [
    "assert not gene_corrs_df.isna().any().any()"
   ]
  },
  {
   "cell_type": "code",
   "execution_count": 33,
   "id": "00583efc-7068-4270-ad1e-4a418e91db96",
   "metadata": {
    "execution": {
     "iopub.execute_input": "2022-11-30T00:18:28.983588Z",
     "iopub.status.busy": "2022-11-30T00:18:28.982818Z",
     "iopub.status.idle": "2022-11-30T00:18:29.008836Z",
     "shell.execute_reply": "2022-11-30T00:18:29.008107Z"
    },
    "papermill": {
     "duration": 1.172326,
     "end_time": "2022-11-30T00:18:29.009713",
     "exception": false,
     "start_time": "2022-11-30T00:18:27.837387",
     "status": "completed"
    },
    "tags": []
   },
   "outputs": [
    {
     "data": {
      "text/plain": [
       "1.119933335145078e-07"
      ]
     },
     "metadata": {},
     "output_type": "display_data"
    }
   ],
   "source": [
    "_min_val = gene_corrs_df.min().min()\n",
    "display(_min_val)\n",
    "assert _min_val >= -0.05"
   ]
  },
  {
   "cell_type": "code",
   "execution_count": 34,
   "id": "d04fb2cf-1050-475b-b855-f5f7cc04092b",
   "metadata": {
    "execution": {
     "iopub.execute_input": "2022-11-30T00:18:31.360689Z",
     "iopub.status.busy": "2022-11-30T00:18:31.360271Z",
     "iopub.status.idle": "2022-11-30T00:18:31.384996Z",
     "shell.execute_reply": "2022-11-30T00:18:31.384447Z"
    },
    "papermill": {
     "duration": 1.219224,
     "end_time": "2022-11-30T00:18:31.385851",
     "exception": false,
     "start_time": "2022-11-30T00:18:30.166627",
     "status": "completed"
    },
    "tags": []
   },
   "outputs": [
    {
     "data": {
      "text/plain": [
       "1.0000000000000027"
      ]
     },
     "metadata": {},
     "output_type": "display_data"
    }
   ],
   "source": [
    "_max_val = gene_corrs_df.max().max()  # this captures the diagonal\n",
    "display(_max_val)\n",
    "assert _max_val <= 1.05"
   ]
  },
  {
   "cell_type": "code",
   "execution_count": 35,
   "id": "96d02c44-1fba-47be-8a93-8f2608420b9c",
   "metadata": {
    "execution": {
     "iopub.execute_input": "2022-11-30T00:18:33.753904Z",
     "iopub.status.busy": "2022-11-30T00:18:33.753422Z",
     "iopub.status.idle": "2022-11-30T00:18:33.772762Z",
     "shell.execute_reply": "2022-11-30T00:18:33.772204Z"
    },
    "papermill": {
     "duration": 1.18019,
     "end_time": "2022-11-30T00:18:33.773634",
     "exception": false,
     "start_time": "2022-11-30T00:18:32.593444",
     "status": "completed"
    },
    "tags": []
   },
   "outputs": [],
   "source": [
    "# check upper triangular values\n",
    "# assert len(gene_corrs) == int(genes_chr.shape[0] * (genes_chr.shape[0] - 1) / 2)"
   ]
  },
  {
   "cell_type": "code",
   "execution_count": 36,
   "id": "fe283586-c348-40e0-8841-f6d97bfb021c",
   "metadata": {
    "execution": {
     "iopub.execute_input": "2022-11-30T00:18:36.116385Z",
     "iopub.status.busy": "2022-11-30T00:18:36.115776Z",
     "iopub.status.idle": "2022-11-30T00:18:36.142853Z",
     "shell.execute_reply": "2022-11-30T00:18:36.142321Z"
    },
    "papermill": {
     "duration": 1.175729,
     "end_time": "2022-11-30T00:18:36.143696",
     "exception": false,
     "start_time": "2022-11-30T00:18:34.967967",
     "status": "completed"
    },
    "tags": []
   },
   "outputs": [
    {
     "data": {
      "text/plain": [
       "count    3.013500e+04\n",
       "mean     1.638987e-02\n",
       "std      9.326432e-02\n",
       "min      1.119933e-07\n",
       "25%      3.784821e-03\n",
       "50%      5.916727e-03\n",
       "75%      8.350915e-03\n",
       "max      1.000000e+00\n",
       "dtype: float64"
      ]
     },
     "execution_count": 36,
     "metadata": {},
     "output_type": "execute_result"
    }
   ],
   "source": [
    "gene_corrs_flat.describe()"
   ]
  },
  {
   "cell_type": "code",
   "execution_count": 37,
   "id": "b3815678-0f93-4b35-897b-a9d047a2aa78",
   "metadata": {
    "execution": {
     "iopub.execute_input": "2022-11-30T00:18:38.489767Z",
     "iopub.status.busy": "2022-11-30T00:18:38.489287Z",
     "iopub.status.idle": "2022-11-30T00:18:38.517425Z",
     "shell.execute_reply": "2022-11-30T00:18:38.516893Z"
    },
    "papermill": {
     "duration": 1.179584,
     "end_time": "2022-11-30T00:18:38.518305",
     "exception": false,
     "start_time": "2022-11-30T00:18:37.338721",
     "status": "completed"
    },
    "tags": []
   },
   "outputs": [
    {
     "data": {
      "text/plain": [
       "0.00    1.119933e-07\n",
       "0.05    1.451043e-03\n",
       "0.10    2.200671e-03\n",
       "0.15    2.805136e-03\n",
       "0.20    3.310243e-03\n",
       "0.25    3.784821e-03\n",
       "0.30    4.233067e-03\n",
       "0.35    4.661676e-03\n",
       "0.40    5.086722e-03\n",
       "0.45    5.491445e-03\n",
       "0.50    5.916727e-03\n",
       "0.55    6.333109e-03\n",
       "0.60    6.759373e-03\n",
       "0.65    7.236871e-03\n",
       "0.70    7.758385e-03\n",
       "0.75    8.350915e-03\n",
       "0.80    9.016012e-03\n",
       "0.85    9.857913e-03\n",
       "0.90    1.090673e-02\n",
       "0.95    1.302262e-02\n",
       "dtype: float64"
      ]
     },
     "metadata": {},
     "output_type": "display_data"
    }
   ],
   "source": [
    "gene_corrs_quantiles = gene_corrs_flat.quantile(np.arange(0, 1, 0.05))\n",
    "display(gene_corrs_quantiles)"
   ]
  },
  {
   "cell_type": "markdown",
   "id": "87134509-b145-4a10-8bc9-b7e914c2b0fa",
   "metadata": {
    "papermill": {
     "duration": 1.139182,
     "end_time": "2022-11-30T00:18:40.851457",
     "exception": false,
     "start_time": "2022-11-30T00:18:39.712275",
     "status": "completed"
    },
    "tags": []
   },
   "source": [
    "## Positive definiteness"
   ]
  },
  {
   "cell_type": "code",
   "execution_count": 38,
   "id": "07d9a9a1-a4f7-48aa-b916-6d42a8cc6186",
   "metadata": {
    "execution": {
     "iopub.execute_input": "2022-11-30T00:18:43.198996Z",
     "iopub.status.busy": "2022-11-30T00:18:43.198615Z",
     "iopub.status.idle": "2022-11-30T00:18:43.244543Z",
     "shell.execute_reply": "2022-11-30T00:18:43.243853Z"
    },
    "papermill": {
     "duration": 1.200703,
     "end_time": "2022-11-30T00:18:43.246005",
     "exception": false,
     "start_time": "2022-11-30T00:18:42.045302",
     "status": "completed"
    },
    "tags": []
   },
   "outputs": [
    {
     "data": {
      "text/plain": [
       "0"
      ]
     },
     "metadata": {},
     "output_type": "display_data"
    },
    {
     "data": {
      "text/plain": [
       "array([], dtype=float64)"
      ]
     },
     "metadata": {},
     "output_type": "display_data"
    }
   ],
   "source": [
    "# print negative eigenvalues\n",
    "eigs = np.linalg.eigvals(gene_corrs_df.to_numpy())\n",
    "display(len(eigs[eigs < 0]))\n",
    "display(eigs[eigs < 0])"
   ]
  },
  {
   "cell_type": "code",
   "execution_count": 39,
   "id": "6e218436-c3c5-4028-8c94-a4fa6260efce",
   "metadata": {
    "execution": {
     "iopub.execute_input": "2022-11-30T00:18:45.611024Z",
     "iopub.status.busy": "2022-11-30T00:18:45.610319Z",
     "iopub.status.idle": "2022-11-30T00:18:45.637974Z",
     "shell.execute_reply": "2022-11-30T00:18:45.637415Z"
    },
    "papermill": {
     "duration": 1.173538,
     "end_time": "2022-11-30T00:18:45.638819",
     "exception": false,
     "start_time": "2022-11-30T00:18:44.465281",
     "status": "completed"
    },
    "tags": []
   },
   "outputs": [
    {
     "name": "stdout",
     "output_type": "stream",
     "text": [
      "Works!\n"
     ]
    }
   ],
   "source": [
    "try:\n",
    "    chol_mat = np.linalg.cholesky(gene_corrs_df.to_numpy())\n",
    "    cov_inv = np.linalg.inv(chol_mat)\n",
    "    print(\"Works!\")\n",
    "except Exception as e:\n",
    "    print(f\"Cholesky decomposition failed: {str(e)}\")"
   ]
  },
  {
   "cell_type": "code",
   "execution_count": 40,
   "id": "dd8827fb-faf9-4c7c-9454-015e94752706",
   "metadata": {
    "execution": {
     "iopub.execute_input": "2022-11-30T00:18:48.092485Z",
     "iopub.status.busy": "2022-11-30T00:18:48.091967Z",
     "iopub.status.idle": "2022-11-30T00:18:48.118787Z",
     "shell.execute_reply": "2022-11-30T00:18:48.118227Z"
    },
    "papermill": {
     "duration": 1.274446,
     "end_time": "2022-11-30T00:18:48.119694",
     "exception": false,
     "start_time": "2022-11-30T00:18:46.845248",
     "status": "completed"
    },
    "tags": []
   },
   "outputs": [
    {
     "name": "stdout",
     "output_type": "stream",
     "text": [
      "Works!\n"
     ]
    }
   ],
   "source": [
    "try:\n",
    "    # decomposition used by statsmodels.GLS\n",
    "    cholsigmainv = np.linalg.cholesky(np.linalg.inv(gene_corrs_df.to_numpy())).T\n",
    "    print(\"Works!\")\n",
    "except Exception as e:\n",
    "    print(f\"Cholesky decomposition failed (statsmodels.GLS): {str(e)}\")"
   ]
  },
  {
   "cell_type": "markdown",
   "id": "8e60a080-edb2-4e9c-b2ef-22961693200c",
   "metadata": {
    "papermill": {
     "duration": 1.202473,
     "end_time": "2022-11-30T00:18:50.519471",
     "exception": false,
     "start_time": "2022-11-30T00:18:49.316998",
     "status": "completed"
    },
    "tags": []
   },
   "source": [
    "## Plot: distribution"
   ]
  },
  {
   "cell_type": "code",
   "execution_count": 41,
   "id": "8301126b-a7d4-4744-9c7d-f0f86eb6f54c",
   "metadata": {
    "execution": {
     "iopub.execute_input": "2022-11-30T00:18:52.929029Z",
     "iopub.status.busy": "2022-11-30T00:18:52.928714Z",
     "iopub.status.idle": "2022-11-30T00:18:58.016276Z",
     "shell.execute_reply": "2022-11-30T00:18:58.015875Z"
    },
    "papermill": {
     "duration": 6.294511,
     "end_time": "2022-11-30T00:18:58.017791",
     "exception": false,
     "start_time": "2022-11-30T00:18:51.723280",
     "status": "completed"
    },
    "tags": []
   },
   "outputs": [
    {
     "data": {
      "image/png": "[encoded data removed]",
      "text/plain": [
       "<Figure size 700x700 with 1 Axes>"
      ]
     },
     "metadata": {},
     "output_type": "display_data"
    }
   ],
   "source": [
    "with sns.plotting_context(\"paper\", font_scale=1.5):\n",
    "    g = sns.displot(gene_corrs_flat, kde=True, height=7)\n",
    "    g.ax.set_title(\n",
    "        f\"Distribution of gene correlation values in chromosome {CHROMOSOME}\"\n",
    "    )"
   ]
  },
  {
   "cell_type": "markdown",
   "id": "cbd52bca-d878-4a2f-b684-5c83aa3038d4",
   "metadata": {
    "papermill": {
     "duration": 1.197574,
     "end_time": "2022-11-30T00:19:00.393530",
     "exception": false,
     "start_time": "2022-11-30T00:18:59.195956",
     "status": "completed"
    },
    "tags": []
   },
   "source": [
    "## Plot: heatmap"
   ]
  },
  {
   "cell_type": "code",
   "execution_count": 42,
   "id": "d03fe63a-c7b2-4fb9-a53c-db362ce843c9",
   "metadata": {
    "execution": {
     "iopub.execute_input": "2022-11-30T00:19:02.697549Z",
     "iopub.status.busy": "2022-11-30T00:19:02.697293Z",
     "iopub.status.idle": "2022-11-30T00:19:02.719584Z",
     "shell.execute_reply": "2022-11-30T00:19:02.718979Z"
    },
    "papermill": {
     "duration": 1.170761,
     "end_time": "2022-11-30T00:19:02.720521",
     "exception": false,
     "start_time": "2022-11-30T00:19:01.549760",
     "status": "completed"
    },
    "tags": []
   },
   "outputs": [
    {
     "data": {
      "text/plain": [
       "'0.0 / 0.05'"
      ]
     },
     "metadata": {},
     "output_type": "display_data"
    }
   ],
   "source": [
    "vmin_val = min(0.00, gene_corrs_quantiles[0.10])\n",
    "vmax_val = max(0.05, gene_corrs_quantiles[0.90])\n",
    "display(f\"{vmin_val} / {vmax_val}\")"
   ]
  },
  {
   "cell_type": "code",
   "execution_count": 43,
   "id": "dc41b70b-5bcc-4d9e-9f33-a22c4a94dab5",
   "metadata": {
    "execution": {
     "iopub.execute_input": "2022-11-30T00:19:05.256763Z",
     "iopub.status.busy": "2022-11-30T00:19:05.256059Z",
     "iopub.status.idle": "2022-11-30T00:19:05.483913Z",
     "shell.execute_reply": "2022-11-30T00:19:05.483519Z"
    },
    "papermill": {
     "duration": 1.532333,
     "end_time": "2022-11-30T00:19:05.487748",
     "exception": false,
     "start_time": "2022-11-30T00:19:03.955415",
     "status": "completed"
    },
    "tags": []
   },
   "outputs": [
    {
     "data": {
      "text/plain": [
       "Text(0.5, 1.0, 'Gene correlations in chromosome 9')"
      ]
     },
     "execution_count": 43,
     "metadata": {},
     "output_type": "execute_result"
    },
    {
     "data": {
      "image/png": "[encoded data removed]",
      "text/plain": [
       "<Figure size 1000x1000 with 2 Axes>"
      ]
     },
     "metadata": {},
     "output_type": "display_data"
    }
   ],
   "source": [
    "f, ax = plt.subplots(figsize=(10, 10))\n",
    "sns.heatmap(\n",
    "    gene_corrs_df,\n",
    "    xticklabels=False,\n",
    "    yticklabels=False,\n",
    "    square=True,\n",
    "    vmin=vmin_val,\n",
    "    vmax=vmax_val,\n",
    "    cmap=\"rocket_r\",\n",
    "    ax=ax,\n",
    ")\n",
    "ax.set_title(f\"Gene correlations in chromosome {CHROMOSOME}\")"
   ]
  },
  {
   "cell_type": "code",
   "execution_count": null,
   "id": "b25e3ead",
   "metadata": {
    "papermill": {
     "duration": 1.160555,
     "end_time": "2022-11-30T00:19:07.949470",
     "exception": false,
     "start_time": "2022-11-30T00:19:06.788915",
     "status": "completed"
    },
    "tags": []
   },
   "outputs": [],
   "source": []
  }
 ],
 "metadata": {
  "jupytext": {
   "cell_metadata_filter": "all,-execution,-papermill,-trusted",
   "formats": "ipynb,py//py:percent"
  },
  "kernelspec": {
   "display_name": "Python 3 (ipykernel)",
   "language": "python",
   "name": "python3"
  },
  "language_info": {
   "codemirror_mode": {
    "name": "ipython",
    "version": 3
   },
   "file_extension": ".py",
   "mimetype": "text/x-python",
   "name": "python",
   "nbconvert_exporter": "python",
   "pygments_lexer": "ipython3",
   "version": "3.10.6"
  },
  "papermill": {
   "default_parameters": {},
   "duration": 1327.961094,
   "end_time": "2022-11-30T00:19:12.286321",
   "environment_variables": {},
   "exception": null,
   "input_path": "projects/asthma-copd/nbs/20_gene_corrs/10-gene_expr_correlations.ipynb",
   "output_path": "projects/asthma-copd/nbs/20_gene_corrs/gene_corrs/copd_only/10-gene_expr_correlations-chr9.run.ipynb",
   "parameters": {
    "CHROMOSOME": 9,
    "COHORT_NAME": "copd_only",
    "OUTPUT_DIR_BASE": "/opt/data/projects/asthma-copd/results/gls_phenoplier"
   },
   "start_time": "2022-11-29T23:57:04.325227",
   "version": "2.2.2"
  }
 },
 "nbformat": 4,
 "nbformat_minor": 5
}
