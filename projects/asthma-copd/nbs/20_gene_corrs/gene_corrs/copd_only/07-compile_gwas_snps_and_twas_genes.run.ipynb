{
 "cells": [
  {
   "cell_type": "markdown",
   "id": "7a6632fb",
   "metadata": {
    "papermill": {
     "duration": 0.018039,
     "end_time": "2022-11-29T22:08:25.862643",
     "exception": false,
     "start_time": "2022-11-29T22:08:25.844604",
     "status": "completed"
    },
    "tags": []
   },
   "source": [
    "# Description"
   ]
  },
  {
   "cell_type": "markdown",
   "id": "7097c346",
   "metadata": {
    "papermill": {
     "duration": 0.016775,
     "end_time": "2022-11-29T22:08:25.896791",
     "exception": false,
     "start_time": "2022-11-29T22:08:25.880016",
     "status": "completed"
    },
    "tags": []
   },
   "source": [
    "(Please, take a look at the README.md file in this directory for instructions on how to run this notebook)\n",
    "\n",
    "This notebook compiles information about the GWAS and TWAS for a particular cohort. For example, the set of GWAS variants, variance of predicted expression of genes, etc.\n",
    "\n",
    "It has specicfic parameters for papermill (see under `Settings` below).\n",
    "\n",
    "This notebook is not directly run. See README.md."
   ]
  },
  {
   "cell_type": "markdown",
   "id": "c61d8427",
   "metadata": {
    "papermill": {
     "duration": 0.015062,
     "end_time": "2022-11-29T22:08:25.928457",
     "exception": false,
     "start_time": "2022-11-29T22:08:25.913395",
     "status": "completed"
    },
    "tags": []
   },
   "source": [
    "# Modules"
   ]
  },
  {
   "cell_type": "code",
   "execution_count": 1,
   "id": "bbc0234f",
   "metadata": {
    "execution": {
     "iopub.execute_input": "2022-11-29T22:08:25.950979Z",
     "iopub.status.busy": "2022-11-29T22:08:25.950832Z",
     "iopub.status.idle": "2022-11-29T22:08:25.961405Z",
     "shell.execute_reply": "2022-11-29T22:08:25.960959Z"
    },
    "papermill": {
     "duration": 0.023054,
     "end_time": "2022-11-29T22:08:25.962311",
     "exception": false,
     "start_time": "2022-11-29T22:08:25.939257",
     "status": "completed"
    },
    "tags": []
   },
   "outputs": [],
   "source": [
    "%load_ext autoreload\n",
    "%autoreload 2"
   ]
  },
  {
   "cell_type": "code",
   "execution_count": 2,
   "id": "1d5f5a59",
   "metadata": {
    "execution": {
     "iopub.execute_input": "2022-11-29T22:08:25.985374Z",
     "iopub.status.busy": "2022-11-29T22:08:25.985166Z",
     "iopub.status.idle": "2022-11-29T22:08:26.305770Z",
     "shell.execute_reply": "2022-11-29T22:08:26.305225Z"
    },
    "papermill": {
     "duration": 0.334325,
     "end_time": "2022-11-29T22:08:26.307528",
     "exception": false,
     "start_time": "2022-11-29T22:08:25.973203",
     "status": "completed"
    },
    "tags": []
   },
   "outputs": [],
   "source": [
    "from pathlib import Path\n",
    "import pickle\n",
    "\n",
    "import numpy as np\n",
    "import pandas as pd\n",
    "\n",
    "import conf\n",
    "from entity import Gene"
   ]
  },
  {
   "cell_type": "markdown",
   "id": "1eac24b5",
   "metadata": {
    "papermill": {
     "duration": 0.011389,
     "end_time": "2022-11-29T22:08:26.331472",
     "exception": false,
     "start_time": "2022-11-29T22:08:26.320083",
     "status": "completed"
    },
    "tags": []
   },
   "source": [
    "# Settings"
   ]
  },
  {
   "cell_type": "code",
   "execution_count": 3,
   "id": "ca4560ba",
   "metadata": {
    "execution": {
     "iopub.execute_input": "2022-11-29T22:08:26.355015Z",
     "iopub.status.busy": "2022-11-29T22:08:26.354876Z",
     "iopub.status.idle": "2022-11-29T22:08:26.365451Z",
     "shell.execute_reply": "2022-11-29T22:08:26.365008Z"
    },
    "papermill": {
     "duration": 0.023486,
     "end_time": "2022-11-29T22:08:26.366498",
     "exception": false,
     "start_time": "2022-11-29T22:08:26.343012",
     "status": "completed"
    },
    "tags": [
     "parameters"
    ]
   },
   "outputs": [],
   "source": [
    "# a cohort name (it could be something like UK_BIOBANK, etc)\n",
    "COHORT_NAME = None\n",
    "\n",
    "# reference panel such as 1000G or GTEX_V8\n",
    "REFERENCE_PANEL = \"GTEX_V8\"\n",
    "\n",
    "# predictions models such as MASHR or ELASTIC_NET\n",
    "EQTL_MODEL = \"MASHR\"\n",
    "\n",
    "# a string with a path pointing to an imputed GWAS\n",
    "GWAS_FILE = None\n",
    "\n",
    "# a string with a path pointing where S-PrediXcan results (tissue-specific are located\n",
    "SPREDIXCAN_FOLDER = None\n",
    "\n",
    "# an f-string with one placeholder {tissue}\n",
    "SPREDIXCAN_FILE_PATTERN = None\n",
    "\n",
    "# a string with a path pointing to an S-MultiXcan result\n",
    "SMULTIXCAN_FILE = None\n",
    "\n",
    "# output dir\n",
    "OUTPUT_DIR_BASE = None"
   ]
  },
  {
   "cell_type": "code",
   "execution_count": 4,
   "id": "6b4e6ad3",
   "metadata": {
    "execution": {
     "iopub.execute_input": "2022-11-29T22:08:26.390780Z",
     "iopub.status.busy": "2022-11-29T22:08:26.390667Z",
     "iopub.status.idle": "2022-11-29T22:08:26.399650Z",
     "shell.execute_reply": "2022-11-29T22:08:26.399212Z"
    },
    "papermill": {
     "duration": 0.022158,
     "end_time": "2022-11-29T22:08:26.400800",
     "exception": false,
     "start_time": "2022-11-29T22:08:26.378642",
     "status": "completed"
    },
    "tags": [
     "injected-parameters"
    ]
   },
   "outputs": [],
   "source": [
    "# Parameters\n",
    "COHORT_NAME = \"copd_only\"\n",
    "GWAS_FILE = \"/opt/data/projects/asthma-copd/results/final_imputed_gwas/GWAS_COPD_only_GLM_SNPs_info0.7-harmonized-imputed.txt.gz\"\n",
    "SPREDIXCAN_FOLDER = \"/opt/data/projects/asthma-copd/results/twas/spredixcan\"\n",
    "SPREDIXCAN_FILE_PATTERN = \"GWAS_COPD_only_GLM_SNPs_info0.7-gtex_v8-mashr-{tissue}.csv\"\n",
    "SMULTIXCAN_FILE = \"/opt/data/projects/asthma-copd/results/twas/smultixcan/GWAS_COPD_only_GLM_SNPs_info0.7-gtex_v8-mashr-smultixcan.txt\"\n",
    "OUTPUT_DIR_BASE = \"/opt/data/projects/asthma-copd/results/gls_phenoplier\"\n"
   ]
  },
  {
   "cell_type": "code",
   "execution_count": 5,
   "id": "8fe24bef",
   "metadata": {
    "execution": {
     "iopub.execute_input": "2022-11-29T22:08:26.424482Z",
     "iopub.status.busy": "2022-11-29T22:08:26.424274Z",
     "iopub.status.idle": "2022-11-29T22:08:26.436708Z",
     "shell.execute_reply": "2022-11-29T22:08:26.436274Z"
    },
    "papermill": {
     "duration": 0.024818,
     "end_time": "2022-11-29T22:08:26.437540",
     "exception": false,
     "start_time": "2022-11-29T22:08:26.412722",
     "status": "completed"
    },
    "tags": []
   },
   "outputs": [
    {
     "data": {
      "text/plain": [
       "'Cohort name: copd_only'"
      ]
     },
     "metadata": {},
     "output_type": "display_data"
    }
   ],
   "source": [
    "assert COHORT_NAME is not None and len(COHORT_NAME) > 0, \"A cohort name must be given\"\n",
    "\n",
    "COHORT_NAME = COHORT_NAME.lower()\n",
    "display(f\"Cohort name: {COHORT_NAME}\")"
   ]
  },
  {
   "cell_type": "code",
   "execution_count": 6,
   "id": "f53ba19b-0f93-4fa2-a047-63b375939d1a",
   "metadata": {
    "execution": {
     "iopub.execute_input": "2022-11-29T22:08:26.464846Z",
     "iopub.status.busy": "2022-11-29T22:08:26.464735Z",
     "iopub.status.idle": "2022-11-29T22:08:26.481207Z",
     "shell.execute_reply": "2022-11-29T22:08:26.480643Z"
    },
    "papermill": {
     "duration": 0.033863,
     "end_time": "2022-11-29T22:08:26.482706",
     "exception": false,
     "start_time": "2022-11-29T22:08:26.448843",
     "status": "completed"
    },
    "tags": []
   },
   "outputs": [
    {
     "data": {
      "text/plain": [
       "'Reference panel: GTEX_V8'"
      ]
     },
     "metadata": {},
     "output_type": "display_data"
    }
   ],
   "source": [
    "assert (\n",
    "    REFERENCE_PANEL is not None and len(REFERENCE_PANEL) > 0\n",
    "), \"A reference panel must be given\"\n",
    "\n",
    "display(f\"Reference panel: {REFERENCE_PANEL}\")"
   ]
  },
  {
   "cell_type": "code",
   "execution_count": 7,
   "id": "7a970044-2d34-4e5b-a850-eff44079afe8",
   "metadata": {
    "execution": {
     "iopub.execute_input": "2022-11-29T22:08:26.525467Z",
     "iopub.status.busy": "2022-11-29T22:08:26.524902Z",
     "iopub.status.idle": "2022-11-29T22:08:26.542511Z",
     "shell.execute_reply": "2022-11-29T22:08:26.541958Z"
    },
    "papermill": {
     "duration": 0.037582,
     "end_time": "2022-11-29T22:08:26.543436",
     "exception": false,
     "start_time": "2022-11-29T22:08:26.505854",
     "status": "completed"
    },
    "tags": []
   },
   "outputs": [
    {
     "data": {
      "text/plain": [
       "'GWAS file path: /opt/data/projects/asthma-copd/results/final_imputed_gwas/GWAS_COPD_only_GLM_SNPs_info0.7-harmonized-imputed.txt.gz'"
      ]
     },
     "metadata": {},
     "output_type": "display_data"
    }
   ],
   "source": [
    "assert GWAS_FILE is not None and len(GWAS_FILE) > 0, \"A GWAS file path must be given\"\n",
    "GWAS_FILE = Path(GWAS_FILE).resolve()\n",
    "assert GWAS_FILE.exists(), \"GWAS file does not exist\"\n",
    "\n",
    "display(f\"GWAS file path: {str(GWAS_FILE)}\")"
   ]
  },
  {
   "cell_type": "code",
   "execution_count": 8,
   "id": "552a7f63-a18c-4d3e-bb6a-94f99b431291",
   "metadata": {
    "execution": {
     "iopub.execute_input": "2022-11-29T22:08:26.567393Z",
     "iopub.status.busy": "2022-11-29T22:08:26.566834Z",
     "iopub.status.idle": "2022-11-29T22:08:26.583709Z",
     "shell.execute_reply": "2022-11-29T22:08:26.583161Z"
    },
    "papermill": {
     "duration": 0.029693,
     "end_time": "2022-11-29T22:08:26.584628",
     "exception": false,
     "start_time": "2022-11-29T22:08:26.554935",
     "status": "completed"
    },
    "tags": []
   },
   "outputs": [
    {
     "data": {
      "text/plain": [
       "'S-PrediXcan folder path: /opt/data/projects/asthma-copd/results/twas/spredixcan'"
      ]
     },
     "metadata": {},
     "output_type": "display_data"
    }
   ],
   "source": [
    "assert (\n",
    "    SPREDIXCAN_FOLDER is not None and len(SPREDIXCAN_FOLDER) > 0\n",
    "), \"An S-PrediXcan folder path must be given\"\n",
    "SPREDIXCAN_FOLDER = Path(SPREDIXCAN_FOLDER).resolve()\n",
    "assert SPREDIXCAN_FOLDER.exists(), f\"S-PrediXcan folder does not exist: {str(SPREDIXCAN_FOLDER)}\"\n",
    "\n",
    "display(f\"S-PrediXcan folder path: {str(SPREDIXCAN_FOLDER)}\")"
   ]
  },
  {
   "cell_type": "code",
   "execution_count": 9,
   "id": "6e2000dc-f1dc-4db8-93d5-9a7209a2e121",
   "metadata": {
    "execution": {
     "iopub.execute_input": "2022-11-29T22:08:26.608660Z",
     "iopub.status.busy": "2022-11-29T22:08:26.608146Z",
     "iopub.status.idle": "2022-11-29T22:08:26.624755Z",
     "shell.execute_reply": "2022-11-29T22:08:26.624194Z"
    },
    "papermill": {
     "duration": 0.029418,
     "end_time": "2022-11-29T22:08:26.625680",
     "exception": false,
     "start_time": "2022-11-29T22:08:26.596262",
     "status": "completed"
    },
    "tags": []
   },
   "outputs": [
    {
     "data": {
      "text/plain": [
       "'S-PrediXcan file template: GWAS_COPD_only_GLM_SNPs_info0.7-gtex_v8-mashr-{tissue}.csv'"
      ]
     },
     "metadata": {},
     "output_type": "display_data"
    }
   ],
   "source": [
    "assert (\n",
    "    SPREDIXCAN_FILE_PATTERN is not None and len(SPREDIXCAN_FILE_PATTERN) > 0\n",
    "), \"An S-PrediXcan file pattern must be given\"\n",
    "assert (\n",
    "    \"{tissue}\" in SPREDIXCAN_FILE_PATTERN\n",
    "), \"S-PrediXcan file pattern must have a '{tissue}' placeholder\"\n",
    "\n",
    "display(f\"S-PrediXcan file template: {SPREDIXCAN_FILE_PATTERN}\")"
   ]
  },
  {
   "cell_type": "code",
   "execution_count": 10,
   "id": "f5a5aa9d-c6f3-4fb5-9351-37382b6e67bc",
   "metadata": {
    "execution": {
     "iopub.execute_input": "2022-11-29T22:08:26.649946Z",
     "iopub.status.busy": "2022-11-29T22:08:26.649401Z",
     "iopub.status.idle": "2022-11-29T22:08:26.666285Z",
     "shell.execute_reply": "2022-11-29T22:08:26.665730Z"
    },
    "papermill": {
     "duration": 0.029828,
     "end_time": "2022-11-29T22:08:26.667214",
     "exception": false,
     "start_time": "2022-11-29T22:08:26.637386",
     "status": "completed"
    },
    "tags": []
   },
   "outputs": [
    {
     "data": {
      "text/plain": [
       "'S-MultiXcan file path: /opt/data/projects/asthma-copd/results/twas/smultixcan/GWAS_COPD_only_GLM_SNPs_info0.7-gtex_v8-mashr-smultixcan.txt'"
      ]
     },
     "metadata": {},
     "output_type": "display_data"
    }
   ],
   "source": [
    "assert (\n",
    "    SMULTIXCAN_FILE is not None and len(SMULTIXCAN_FILE) > 0\n",
    "), \"An S-MultiXcan result file path must be given\"\n",
    "SMULTIXCAN_FILE = Path(SMULTIXCAN_FILE).resolve()\n",
    "assert SMULTIXCAN_FILE.exists(), f\"S-MultiXcan result file does not exist: {str(SMULTIXCAN_FILE)}\"\n",
    "\n",
    "display(f\"S-MultiXcan file path: {str(SMULTIXCAN_FILE)}\")"
   ]
  },
  {
   "cell_type": "code",
   "execution_count": 11,
   "id": "0723dc2f-34d1-407c-a55b-d6d13c55d63d",
   "metadata": {
    "execution": {
     "iopub.execute_input": "2022-11-29T22:08:26.691624Z",
     "iopub.status.busy": "2022-11-29T22:08:26.691073Z",
     "iopub.status.idle": "2022-11-29T22:08:26.707483Z",
     "shell.execute_reply": "2022-11-29T22:08:26.706928Z"
    },
    "papermill": {
     "duration": 0.029412,
     "end_time": "2022-11-29T22:08:26.708425",
     "exception": false,
     "start_time": "2022-11-29T22:08:26.679013",
     "status": "completed"
    },
    "tags": []
   },
   "outputs": [
    {
     "data": {
      "text/plain": [
       "'eQTL model: MASHR'"
      ]
     },
     "metadata": {},
     "output_type": "display_data"
    }
   ],
   "source": [
    "assert (\n",
    "    EQTL_MODEL is not None and len(EQTL_MODEL) > 0\n",
    "), \"A prediction/eQTL model must be given\"\n",
    "\n",
    "display(f\"eQTL model: {EQTL_MODEL}\")"
   ]
  },
  {
   "cell_type": "code",
   "execution_count": 12,
   "id": "46b9ec52-9c96-4062-b57a-783dfeea33c4",
   "metadata": {
    "execution": {
     "iopub.execute_input": "2022-11-29T22:08:26.732909Z",
     "iopub.status.busy": "2022-11-29T22:08:26.732360Z",
     "iopub.status.idle": "2022-11-29T22:08:26.750611Z",
     "shell.execute_reply": "2022-11-29T22:08:26.750050Z"
    },
    "papermill": {
     "duration": 0.031378,
     "end_time": "2022-11-29T22:08:26.751591",
     "exception": false,
     "start_time": "2022-11-29T22:08:26.720213",
     "status": "completed"
    },
    "tags": []
   },
   "outputs": [
    {
     "data": {
      "text/plain": [
       "'Using output dir base: /opt/data/projects/asthma-copd/results/gls_phenoplier/gene_corrs/copd_only'"
      ]
     },
     "metadata": {},
     "output_type": "display_data"
    }
   ],
   "source": [
    "assert (\n",
    "    OUTPUT_DIR_BASE is not None and len(OUTPUT_DIR_BASE) > 0\n",
    "), \"Output directory path must be given\"\n",
    "\n",
    "OUTPUT_DIR_BASE = (\n",
    "    Path(OUTPUT_DIR_BASE)\n",
    "    / \"gene_corrs\"\n",
    "    / COHORT_NAME\n",
    "    # / REFERENCE_PANEL.lower()\n",
    "    # / EQTL_MODEL.lower()\n",
    ").resolve()\n",
    "\n",
    "OUTPUT_DIR_BASE.mkdir(parents=True, exist_ok=True)\n",
    "\n",
    "display(f\"Using output dir base: {OUTPUT_DIR_BASE}\")"
   ]
  },
  {
   "cell_type": "code",
   "execution_count": 13,
   "id": "396392dc-0340-4540-9b02-e182b833f909",
   "metadata": {
    "execution": {
     "iopub.execute_input": "2022-11-29T22:08:26.776263Z",
     "iopub.status.busy": "2022-11-29T22:08:26.775887Z",
     "iopub.status.idle": "2022-11-29T22:08:26.791408Z",
     "shell.execute_reply": "2022-11-29T22:08:26.790845Z"
    },
    "papermill": {
     "duration": 0.028919,
     "end_time": "2022-11-29T22:08:26.792439",
     "exception": false,
     "start_time": "2022-11-29T22:08:26.763520",
     "status": "completed"
    },
    "tags": []
   },
   "outputs": [],
   "source": [
    "# OUTPUT_DIR_BASE = (\n",
    "#     conf.RESULTS[\"GLS\"]\n",
    "#     / \"gene_corrs\"\n",
    "#     / \"cohorts\"\n",
    "#     / COHORT_NAME\n",
    "#     / REFERENCE_PANEL.lower()\n",
    "#     / EQTL_MODEL.lower()\n",
    "# )\n",
    "\n",
    "# OUTPUT_DIR_BASE.mkdir(parents=True, exist_ok=True)\n",
    "\n",
    "# display(f\"Using output dir base: {OUTPUT_DIR_BASE}\")"
   ]
  },
  {
   "cell_type": "markdown",
   "id": "b6ebb422-8204-494b-8c72-360a71ce9863",
   "metadata": {
    "papermill": {
     "duration": 0.01188,
     "end_time": "2022-11-29T22:08:26.816083",
     "exception": false,
     "start_time": "2022-11-29T22:08:26.804203",
     "status": "completed"
    },
    "tags": []
   },
   "source": [
    "# Load MultiPLIER Z genes"
   ]
  },
  {
   "cell_type": "code",
   "execution_count": 14,
   "id": "c48ef527",
   "metadata": {
    "execution": {
     "iopub.execute_input": "2022-11-29T22:08:26.840649Z",
     "iopub.status.busy": "2022-11-29T22:08:26.840114Z",
     "iopub.status.idle": "2022-11-29T22:08:26.885798Z",
     "shell.execute_reply": "2022-11-29T22:08:26.885148Z"
    },
    "papermill": {
     "duration": 0.05893,
     "end_time": "2022-11-29T22:08:26.886733",
     "exception": false,
     "start_time": "2022-11-29T22:08:26.827803",
     "status": "completed"
    },
    "tags": []
   },
   "outputs": [],
   "source": [
    "multiplier_z_genes = pd.read_pickle(\n",
    "    conf.MULTIPLIER[\"MODEL_Z_MATRIX_FILE\"]\n",
    ").index.tolist()"
   ]
  },
  {
   "cell_type": "code",
   "execution_count": 15,
   "id": "0a4ecbd9",
   "metadata": {
    "execution": {
     "iopub.execute_input": "2022-11-29T22:08:26.911454Z",
     "iopub.status.busy": "2022-11-29T22:08:26.910882Z",
     "iopub.status.idle": "2022-11-29T22:08:26.928105Z",
     "shell.execute_reply": "2022-11-29T22:08:26.927552Z"
    },
    "papermill": {
     "duration": 0.030345,
     "end_time": "2022-11-29T22:08:26.928951",
     "exception": false,
     "start_time": "2022-11-29T22:08:26.898606",
     "status": "completed"
    },
    "tags": []
   },
   "outputs": [
    {
     "data": {
      "text/plain": [
       "6750"
      ]
     },
     "execution_count": 15,
     "metadata": {},
     "output_type": "execute_result"
    }
   ],
   "source": [
    "len(multiplier_z_genes)"
   ]
  },
  {
   "cell_type": "code",
   "execution_count": 16,
   "id": "a18ce359-0759-4260-ae6f-053e8c0041b7",
   "metadata": {
    "execution": {
     "iopub.execute_input": "2022-11-29T22:08:26.954240Z",
     "iopub.status.busy": "2022-11-29T22:08:26.953719Z",
     "iopub.status.idle": "2022-11-29T22:08:26.970143Z",
     "shell.execute_reply": "2022-11-29T22:08:26.969580Z"
    },
    "papermill": {
     "duration": 0.030185,
     "end_time": "2022-11-29T22:08:26.971161",
     "exception": false,
     "start_time": "2022-11-29T22:08:26.940976",
     "status": "completed"
    },
    "tags": []
   },
   "outputs": [],
   "source": [
    "assert len(multiplier_z_genes) == len(set(multiplier_z_genes))"
   ]
  },
  {
   "cell_type": "code",
   "execution_count": 17,
   "id": "115e8864",
   "metadata": {
    "execution": {
     "iopub.execute_input": "2022-11-29T22:08:26.997023Z",
     "iopub.status.busy": "2022-11-29T22:08:26.996824Z",
     "iopub.status.idle": "2022-11-29T22:08:27.013492Z",
     "shell.execute_reply": "2022-11-29T22:08:27.012931Z"
    },
    "papermill": {
     "duration": 0.031166,
     "end_time": "2022-11-29T22:08:27.014336",
     "exception": false,
     "start_time": "2022-11-29T22:08:26.983170",
     "status": "completed"
    },
    "tags": []
   },
   "outputs": [
    {
     "data": {
      "text/plain": [
       "['GAS6', 'MMP14', 'DSP', 'MARCKSL1', 'SPARC']"
      ]
     },
     "execution_count": 17,
     "metadata": {},
     "output_type": "execute_result"
    }
   ],
   "source": [
    "multiplier_z_genes[:5]"
   ]
  },
  {
   "cell_type": "markdown",
   "id": "7bed0ce0-e7c7-4300-9a61-5412450b1904",
   "metadata": {
    "papermill": {
     "duration": 0.017809,
     "end_time": "2022-11-29T22:08:27.044102",
     "exception": false,
     "start_time": "2022-11-29T22:08:27.026293",
     "status": "completed"
    },
    "tags": []
   },
   "source": [
    "# GWAS"
   ]
  },
  {
   "cell_type": "code",
   "execution_count": 18,
   "id": "331e5691-c014-43e4-b94c-060c64d329df",
   "metadata": {
    "execution": {
     "iopub.execute_input": "2022-11-29T22:08:27.076573Z",
     "iopub.status.busy": "2022-11-29T22:08:27.076168Z",
     "iopub.status.idle": "2022-11-29T22:08:27.098291Z",
     "shell.execute_reply": "2022-11-29T22:08:27.097680Z"
    },
    "papermill": {
     "duration": 0.035521,
     "end_time": "2022-11-29T22:08:27.099302",
     "exception": false,
     "start_time": "2022-11-29T22:08:27.063781",
     "status": "completed"
    },
    "tags": []
   },
   "outputs": [],
   "source": [
    "gwas_file_columns = pd.read_csv(GWAS_FILE, sep=\"\\t\", nrows=2).columns\n",
    "\n",
    "assert (\n",
    "    \"panel_variant_id\" in gwas_file_columns\n",
    "), \"The GWAS file must be the final imputed one using the TWAS imputation tools with column 'panel_variant_id'\"\n",
    "\n",
    "assert (\n",
    "    \"pvalue\" in gwas_file_columns\n",
    "), \"The GWAS file must be the final imputed one using the TWAS imputation tools with column 'pvalue'\"\n",
    "\n",
    "assert (\n",
    "    \"zscore\" in gwas_file_columns\n",
    "), \"The GWAS file must be the final imputed one using the TWAS imputation tools with column 'zscore'\""
   ]
  },
  {
   "cell_type": "code",
   "execution_count": 19,
   "id": "8d419629-8f4d-4c83-bed3-cfc071a58090",
   "metadata": {
    "execution": {
     "iopub.execute_input": "2022-11-29T22:08:27.124518Z",
     "iopub.status.busy": "2022-11-29T22:08:27.124027Z",
     "iopub.status.idle": "2022-11-29T22:08:36.620573Z",
     "shell.execute_reply": "2022-11-29T22:08:36.619978Z"
    },
    "papermill": {
     "duration": 9.510787,
     "end_time": "2022-11-29T22:08:36.622307",
     "exception": false,
     "start_time": "2022-11-29T22:08:27.111520",
     "status": "completed"
    },
    "tags": []
   },
   "outputs": [],
   "source": [
    "gwas_data = pd.read_csv(\n",
    "    GWAS_FILE,\n",
    "    sep=\"\\t\",\n",
    "    usecols=[\"panel_variant_id\", \"pvalue\", \"zscore\"],\n",
    ")"
   ]
  },
  {
   "cell_type": "code",
   "execution_count": 20,
   "id": "3f4e814e-6b41-407e-9099-86795eec6ed9",
   "metadata": {
    "execution": {
     "iopub.execute_input": "2022-11-29T22:08:36.670096Z",
     "iopub.status.busy": "2022-11-29T22:08:36.669859Z",
     "iopub.status.idle": "2022-11-29T22:08:36.680994Z",
     "shell.execute_reply": "2022-11-29T22:08:36.680566Z"
    },
    "papermill": {
     "duration": 0.035465,
     "end_time": "2022-11-29T22:08:36.682297",
     "exception": false,
     "start_time": "2022-11-29T22:08:36.646832",
     "status": "completed"
    },
    "tags": []
   },
   "outputs": [
    {
     "data": {
      "text/plain": [
       "(8590917, 3)"
      ]
     },
     "execution_count": 20,
     "metadata": {},
     "output_type": "execute_result"
    }
   ],
   "source": [
    "gwas_data.shape"
   ]
  },
  {
   "cell_type": "code",
   "execution_count": 21,
   "id": "b4a906e9-c80a-47fc-9d73-5adb046f8b76",
   "metadata": {
    "execution": {
     "iopub.execute_input": "2022-11-29T22:08:36.727323Z",
     "iopub.status.busy": "2022-11-29T22:08:36.727215Z",
     "iopub.status.idle": "2022-11-29T22:08:36.744168Z",
     "shell.execute_reply": "2022-11-29T22:08:36.743606Z"
    },
    "papermill": {
     "duration": 0.040454,
     "end_time": "2022-11-29T22:08:36.745078",
     "exception": false,
     "start_time": "2022-11-29T22:08:36.704624",
     "status": "completed"
    },
    "tags": []
   },
   "outputs": [
    {
     "data": {
      "text/html": [
       "<div>\n",
       "<style scoped>\n",
       "    .dataframe tbody tr th:only-of-type {\n",
       "        vertical-align: middle;\n",
       "    }\n",
       "\n",
       "    .dataframe tbody tr th {\n",
       "        vertical-align: top;\n",
       "    }\n",
       "\n",
       "    .dataframe thead th {\n",
       "        text-align: right;\n",
       "    }\n",
       "</style>\n",
       "<table border=\"1\" class=\"dataframe\">\n",
       "  <thead>\n",
       "    <tr style=\"text-align: right;\">\n",
       "      <th></th>\n",
       "      <th>panel_variant_id</th>\n",
       "      <th>zscore</th>\n",
       "      <th>pvalue</th>\n",
       "    </tr>\n",
       "  </thead>\n",
       "  <tbody>\n",
       "    <tr>\n",
       "      <th>0</th>\n",
       "      <td>chr1_54490_G_A_b38</td>\n",
       "      <td>0.399701</td>\n",
       "      <td>0.689377</td>\n",
       "    </tr>\n",
       "    <tr>\n",
       "      <th>1</th>\n",
       "      <td>chr1_87021_T_C_b38</td>\n",
       "      <td>1.185593</td>\n",
       "      <td>0.235783</td>\n",
       "    </tr>\n",
       "    <tr>\n",
       "      <th>2</th>\n",
       "      <td>chr1_263722_C_G_b38</td>\n",
       "      <td>0.288888</td>\n",
       "      <td>0.772667</td>\n",
       "    </tr>\n",
       "    <tr>\n",
       "      <th>3</th>\n",
       "      <td>chr1_594402_C_T_b38</td>\n",
       "      <td>0.346451</td>\n",
       "      <td>0.729003</td>\n",
       "    </tr>\n",
       "    <tr>\n",
       "      <th>4</th>\n",
       "      <td>chr1_630555_C_T_b38</td>\n",
       "      <td>0.091724</td>\n",
       "      <td>0.926917</td>\n",
       "    </tr>\n",
       "  </tbody>\n",
       "</table>\n",
       "</div>"
      ],
      "text/plain": [
       "      panel_variant_id    zscore    pvalue\n",
       "0   chr1_54490_G_A_b38  0.399701  0.689377\n",
       "1   chr1_87021_T_C_b38  1.185593  0.235783\n",
       "2  chr1_263722_C_G_b38  0.288888  0.772667\n",
       "3  chr1_594402_C_T_b38  0.346451  0.729003\n",
       "4  chr1_630555_C_T_b38  0.091724  0.926917"
      ]
     },
     "execution_count": 21,
     "metadata": {},
     "output_type": "execute_result"
    }
   ],
   "source": [
    "gwas_data.head()"
   ]
  },
  {
   "cell_type": "code",
   "execution_count": 22,
   "id": "033c24fb-9c60-4ffd-929e-b0e6089820ae",
   "metadata": {
    "execution": {
     "iopub.execute_input": "2022-11-29T22:08:36.769720Z",
     "iopub.status.busy": "2022-11-29T22:08:36.769262Z",
     "iopub.status.idle": "2022-11-29T22:08:37.665892Z",
     "shell.execute_reply": "2022-11-29T22:08:37.665318Z"
    },
    "papermill": {
     "duration": 0.910474,
     "end_time": "2022-11-29T22:08:37.667393",
     "exception": false,
     "start_time": "2022-11-29T22:08:36.756919",
     "status": "completed"
    },
    "tags": []
   },
   "outputs": [
    {
     "data": {
      "text/plain": [
       "(8586183, 3)"
      ]
     },
     "execution_count": 22,
     "metadata": {},
     "output_type": "execute_result"
    }
   ],
   "source": [
    "gwas_data.dropna().shape"
   ]
  },
  {
   "cell_type": "code",
   "execution_count": 23,
   "id": "28232ce5-0afd-464e-9be3-64c3a68c2b25",
   "metadata": {
    "execution": {
     "iopub.execute_input": "2022-11-29T22:08:37.715515Z",
     "iopub.status.busy": "2022-11-29T22:08:37.715267Z",
     "iopub.status.idle": "2022-11-29T22:08:38.527846Z",
     "shell.execute_reply": "2022-11-29T22:08:38.527227Z"
    },
    "papermill": {
     "duration": 0.838629,
     "end_time": "2022-11-29T22:08:38.529566",
     "exception": false,
     "start_time": "2022-11-29T22:08:37.690937",
     "status": "completed"
    },
    "tags": []
   },
   "outputs": [],
   "source": [
    "# remove SNPs with no results\n",
    "gwas_data = gwas_data.dropna()"
   ]
  },
  {
   "cell_type": "code",
   "execution_count": 24,
   "id": "d9a6c31f-eedd-43e5-b762-5a9663be1b77",
   "metadata": {
    "execution": {
     "iopub.execute_input": "2022-11-29T22:08:38.577981Z",
     "iopub.status.busy": "2022-11-29T22:08:38.577847Z",
     "iopub.status.idle": "2022-11-29T22:08:38.589216Z",
     "shell.execute_reply": "2022-11-29T22:08:38.588701Z"
    },
    "papermill": {
     "duration": 0.036347,
     "end_time": "2022-11-29T22:08:38.590558",
     "exception": false,
     "start_time": "2022-11-29T22:08:38.554211",
     "status": "completed"
    },
    "tags": []
   },
   "outputs": [
    {
     "data": {
      "text/plain": [
       "(8586183, 3)"
      ]
     },
     "execution_count": 24,
     "metadata": {},
     "output_type": "execute_result"
    }
   ],
   "source": [
    "gwas_data.shape"
   ]
  },
  {
   "cell_type": "markdown",
   "id": "8da344de-2aa5-48a9-98ec-e8c3397ae7e6",
   "metadata": {
    "papermill": {
     "duration": 0.02237,
     "end_time": "2022-11-29T22:08:38.636583",
     "exception": false,
     "start_time": "2022-11-29T22:08:38.614213",
     "status": "completed"
    },
    "tags": []
   },
   "source": [
    "## Save GWAS variants"
   ]
  },
  {
   "cell_type": "code",
   "execution_count": 25,
   "id": "ac11fb33-ea3c-4d5c-a90b-0ceebdac43d3",
   "metadata": {
    "execution": {
     "iopub.execute_input": "2022-11-29T22:08:38.661613Z",
     "iopub.status.busy": "2022-11-29T22:08:38.661418Z",
     "iopub.status.idle": "2022-11-29T22:08:38.677277Z",
     "shell.execute_reply": "2022-11-29T22:08:38.676694Z"
    },
    "papermill": {
     "duration": 0.02907,
     "end_time": "2022-11-29T22:08:38.678153",
     "exception": false,
     "start_time": "2022-11-29T22:08:38.649083",
     "status": "completed"
    },
    "tags": []
   },
   "outputs": [
    {
     "data": {
      "text/html": [
       "<div>\n",
       "<style scoped>\n",
       "    .dataframe tbody tr th:only-of-type {\n",
       "        vertical-align: middle;\n",
       "    }\n",
       "\n",
       "    .dataframe tbody tr th {\n",
       "        vertical-align: top;\n",
       "    }\n",
       "\n",
       "    .dataframe thead th {\n",
       "        text-align: right;\n",
       "    }\n",
       "</style>\n",
       "<table border=\"1\" class=\"dataframe\">\n",
       "  <thead>\n",
       "    <tr style=\"text-align: right;\">\n",
       "      <th></th>\n",
       "      <th>panel_variant_id</th>\n",
       "      <th>zscore</th>\n",
       "      <th>pvalue</th>\n",
       "    </tr>\n",
       "  </thead>\n",
       "  <tbody>\n",
       "    <tr>\n",
       "      <th>0</th>\n",
       "      <td>chr1_54490_G_A_b38</td>\n",
       "      <td>0.399701</td>\n",
       "      <td>0.689377</td>\n",
       "    </tr>\n",
       "    <tr>\n",
       "      <th>1</th>\n",
       "      <td>chr1_87021_T_C_b38</td>\n",
       "      <td>1.185593</td>\n",
       "      <td>0.235783</td>\n",
       "    </tr>\n",
       "    <tr>\n",
       "      <th>2</th>\n",
       "      <td>chr1_263722_C_G_b38</td>\n",
       "      <td>0.288888</td>\n",
       "      <td>0.772667</td>\n",
       "    </tr>\n",
       "    <tr>\n",
       "      <th>3</th>\n",
       "      <td>chr1_594402_C_T_b38</td>\n",
       "      <td>0.346451</td>\n",
       "      <td>0.729003</td>\n",
       "    </tr>\n",
       "    <tr>\n",
       "      <th>4</th>\n",
       "      <td>chr1_630555_C_T_b38</td>\n",
       "      <td>0.091724</td>\n",
       "      <td>0.926917</td>\n",
       "    </tr>\n",
       "  </tbody>\n",
       "</table>\n",
       "</div>"
      ],
      "text/plain": [
       "      panel_variant_id    zscore    pvalue\n",
       "0   chr1_54490_G_A_b38  0.399701  0.689377\n",
       "1   chr1_87021_T_C_b38  1.185593  0.235783\n",
       "2  chr1_263722_C_G_b38  0.288888  0.772667\n",
       "3  chr1_594402_C_T_b38  0.346451  0.729003\n",
       "4  chr1_630555_C_T_b38  0.091724  0.926917"
      ]
     },
     "execution_count": 25,
     "metadata": {},
     "output_type": "execute_result"
    }
   ],
   "source": [
    "gwas_data.head()"
   ]
  },
  {
   "cell_type": "code",
   "execution_count": 26,
   "id": "5f34bb3d-761a-4860-a179-77ea5f5784ad",
   "metadata": {
    "execution": {
     "iopub.execute_input": "2022-11-29T22:08:38.703507Z",
     "iopub.status.busy": "2022-11-29T22:08:38.703204Z",
     "iopub.status.idle": "2022-11-29T22:08:42.579234Z",
     "shell.execute_reply": "2022-11-29T22:08:42.578662Z"
    },
    "papermill": {
     "duration": 3.89017,
     "end_time": "2022-11-29T22:08:42.580693",
     "exception": false,
     "start_time": "2022-11-29T22:08:38.690523",
     "status": "completed"
    },
    "tags": []
   },
   "outputs": [
    {
     "data": {
      "text/plain": [
       "True"
      ]
     },
     "execution_count": 26,
     "metadata": {},
     "output_type": "execute_result"
    }
   ],
   "source": [
    "# in eMERGE's results, some values here are repeated (will be removed later by taking the unique set of variant IDs).\n",
    "gwas_data[\"panel_variant_id\"].is_unique"
   ]
  },
  {
   "cell_type": "code",
   "execution_count": 27,
   "id": "d4f23b2f-01a3-4a45-a2b6-31b245b5778e",
   "metadata": {
    "execution": {
     "iopub.execute_input": "2022-11-29T22:08:42.630093Z",
     "iopub.status.busy": "2022-11-29T22:08:42.629919Z",
     "iopub.status.idle": "2022-11-29T22:08:44.642120Z",
     "shell.execute_reply": "2022-11-29T22:08:44.641611Z"
    },
    "papermill": {
     "duration": 2.038919,
     "end_time": "2022-11-29T22:08:44.643516",
     "exception": false,
     "start_time": "2022-11-29T22:08:42.604597",
     "status": "completed"
    },
    "tags": []
   },
   "outputs": [
    {
     "data": {
      "text/plain": [
       "['chr7_153471808_G_T_b38',\n",
       " 'chr14_77634994_G_C_b38',\n",
       " 'chr16_63261216_G_A_b38',\n",
       " 'chr12_72010714_A_C_b38',\n",
       " 'chr12_125510320_G_A_b38']"
      ]
     },
     "execution_count": 27,
     "metadata": {},
     "output_type": "execute_result"
    }
   ],
   "source": [
    "gwas_variants_ids_set = frozenset(gwas_data[\"panel_variant_id\"])\n",
    "list(gwas_variants_ids_set)[:5]"
   ]
  },
  {
   "cell_type": "code",
   "execution_count": 28,
   "id": "b4a441df-07d7-48dc-be36-cdb3f92be651",
   "metadata": {
    "execution": {
     "iopub.execute_input": "2022-11-29T22:08:44.693788Z",
     "iopub.status.busy": "2022-11-29T22:08:44.693675Z",
     "iopub.status.idle": "2022-11-29T22:08:47.664558Z",
     "shell.execute_reply": "2022-11-29T22:08:47.663933Z"
    },
    "papermill": {
     "duration": 2.998554,
     "end_time": "2022-11-29T22:08:47.666337",
     "exception": false,
     "start_time": "2022-11-29T22:08:44.667783",
     "status": "completed"
    },
    "tags": []
   },
   "outputs": [],
   "source": [
    "with open(OUTPUT_DIR_BASE / \"gwas_variant_ids.pkl\", \"wb\") as handle:\n",
    "    pickle.dump(gwas_variants_ids_set, handle, protocol=pickle.HIGHEST_PROTOCOL)"
   ]
  },
  {
   "cell_type": "markdown",
   "id": "abcc4b3d",
   "metadata": {
    "papermill": {
     "duration": 0.023554,
     "end_time": "2022-11-29T22:08:47.714338",
     "exception": false,
     "start_time": "2022-11-29T22:08:47.690784",
     "status": "completed"
    },
    "tags": []
   },
   "source": [
    "# TWAS"
   ]
  },
  {
   "cell_type": "markdown",
   "id": "2fbc7358-0563-4fc6-bc47-a0fbcc5cdfd4",
   "metadata": {
    "papermill": {
     "duration": 0.016651,
     "end_time": "2022-11-29T22:08:47.755037",
     "exception": false,
     "start_time": "2022-11-29T22:08:47.738386",
     "status": "completed"
    },
    "tags": []
   },
   "source": [
    "## Available tissues for eQTL model"
   ]
  },
  {
   "cell_type": "code",
   "execution_count": 29,
   "id": "f32c0a84-030a-436b-b597-852b6150d2ac",
   "metadata": {
    "execution": {
     "iopub.execute_input": "2022-11-29T22:08:47.780790Z",
     "iopub.status.busy": "2022-11-29T22:08:47.780576Z",
     "iopub.status.idle": "2022-11-29T22:08:47.796282Z",
     "shell.execute_reply": "2022-11-29T22:08:47.795781Z"
    },
    "papermill": {
     "duration": 0.029662,
     "end_time": "2022-11-29T22:08:47.797216",
     "exception": false,
     "start_time": "2022-11-29T22:08:47.767554",
     "status": "completed"
    },
    "tags": []
   },
   "outputs": [],
   "source": [
    "prediction_model_tissues = conf.PHENOMEXCAN[\"PREDICTION_MODELS\"][\n",
    "    f\"{EQTL_MODEL}_TISSUES\"\n",
    "].split(\" \")"
   ]
  },
  {
   "cell_type": "code",
   "execution_count": 30,
   "id": "0e760d0e-f23d-4590-abfb-811a43f7c237",
   "metadata": {
    "execution": {
     "iopub.execute_input": "2022-11-29T22:08:47.822775Z",
     "iopub.status.busy": "2022-11-29T22:08:47.822574Z",
     "iopub.status.idle": "2022-11-29T22:08:47.838103Z",
     "shell.execute_reply": "2022-11-29T22:08:47.837625Z"
    },
    "papermill": {
     "duration": 0.02935,
     "end_time": "2022-11-29T22:08:47.838939",
     "exception": false,
     "start_time": "2022-11-29T22:08:47.809589",
     "status": "completed"
    },
    "tags": []
   },
   "outputs": [
    {
     "data": {
      "text/plain": [
       "49"
      ]
     },
     "execution_count": 30,
     "metadata": {},
     "output_type": "execute_result"
    }
   ],
   "source": [
    "len(prediction_model_tissues)"
   ]
  },
  {
   "cell_type": "code",
   "execution_count": 31,
   "id": "fa4d942c-cd67-4b31-9491-585c887c0ee3",
   "metadata": {
    "execution": {
     "iopub.execute_input": "2022-11-29T22:08:47.864672Z",
     "iopub.status.busy": "2022-11-29T22:08:47.864183Z",
     "iopub.status.idle": "2022-11-29T22:08:47.879634Z",
     "shell.execute_reply": "2022-11-29T22:08:47.879157Z"
    },
    "papermill": {
     "duration": 0.029052,
     "end_time": "2022-11-29T22:08:47.880408",
     "exception": false,
     "start_time": "2022-11-29T22:08:47.851356",
     "status": "completed"
    },
    "tags": []
   },
   "outputs": [
    {
     "data": {
      "text/plain": [
       "['Thyroid',\n",
       " 'Artery_Aorta',\n",
       " 'Heart_Atrial_Appendage',\n",
       " 'Liver',\n",
       " 'Heart_Left_Ventricle']"
      ]
     },
     "execution_count": 31,
     "metadata": {},
     "output_type": "execute_result"
    }
   ],
   "source": [
    "prediction_model_tissues[:5]"
   ]
  },
  {
   "cell_type": "markdown",
   "id": "fab4814d-757c-4247-b5e4-891bc4863db7",
   "metadata": {
    "papermill": {
     "duration": 0.012202,
     "end_time": "2022-11-29T22:08:47.904941",
     "exception": false,
     "start_time": "2022-11-29T22:08:47.892739",
     "status": "completed"
    },
    "tags": []
   },
   "source": [
    "## S-MultiXcan results"
   ]
  },
  {
   "cell_type": "code",
   "execution_count": 32,
   "id": "2b73c11e-9aa2-410e-84b4-a70be34d02e4",
   "metadata": {
    "execution": {
     "iopub.execute_input": "2022-11-29T22:08:47.930963Z",
     "iopub.status.busy": "2022-11-29T22:08:47.930570Z",
     "iopub.status.idle": "2022-11-29T22:08:47.994297Z",
     "shell.execute_reply": "2022-11-29T22:08:47.993724Z"
    },
    "papermill": {
     "duration": 0.078369,
     "end_time": "2022-11-29T22:08:47.995761",
     "exception": false,
     "start_time": "2022-11-29T22:08:47.917392",
     "status": "completed"
    },
    "tags": []
   },
   "outputs": [],
   "source": [
    "smultixcan_results = pd.read_csv(\n",
    "    SMULTIXCAN_FILE, sep=\"\\t\", usecols=[\"gene\", \"gene_name\", \"pvalue\", \"n\", \"n_indep\"]\n",
    ")"
   ]
  },
  {
   "cell_type": "code",
   "execution_count": 33,
   "id": "8b5abebd-baab-4188-9e3d-655ebbe32401",
   "metadata": {
    "execution": {
     "iopub.execute_input": "2022-11-29T22:08:48.031692Z",
     "iopub.status.busy": "2022-11-29T22:08:48.031404Z",
     "iopub.status.idle": "2022-11-29T22:08:48.043544Z",
     "shell.execute_reply": "2022-11-29T22:08:48.043120Z"
    },
    "papermill": {
     "duration": 0.033417,
     "end_time": "2022-11-29T22:08:48.044355",
     "exception": false,
     "start_time": "2022-11-29T22:08:48.010938",
     "status": "completed"
    },
    "tags": []
   },
   "outputs": [
    {
     "data": {
      "text/plain": [
       "(22329, 5)"
      ]
     },
     "execution_count": 33,
     "metadata": {},
     "output_type": "execute_result"
    }
   ],
   "source": [
    "smultixcan_results.shape"
   ]
  },
  {
   "cell_type": "code",
   "execution_count": 34,
   "id": "c65e233f-9ef6-4883-9386-7abf1d6d1cbd",
   "metadata": {
    "execution": {
     "iopub.execute_input": "2022-11-29T22:08:48.073857Z",
     "iopub.status.busy": "2022-11-29T22:08:48.073581Z",
     "iopub.status.idle": "2022-11-29T22:08:48.097431Z",
     "shell.execute_reply": "2022-11-29T22:08:48.096904Z"
    },
    "papermill": {
     "duration": 0.040751,
     "end_time": "2022-11-29T22:08:48.098405",
     "exception": false,
     "start_time": "2022-11-29T22:08:48.057654",
     "status": "completed"
    },
    "tags": []
   },
   "outputs": [],
   "source": [
    "smultixcan_results = smultixcan_results.dropna()"
   ]
  },
  {
   "cell_type": "code",
   "execution_count": 35,
   "id": "57d2d311-4a42-4725-9e37-b124ed13ad33",
   "metadata": {
    "execution": {
     "iopub.execute_input": "2022-11-29T22:08:48.125052Z",
     "iopub.status.busy": "2022-11-29T22:08:48.124633Z",
     "iopub.status.idle": "2022-11-29T22:08:48.141262Z",
     "shell.execute_reply": "2022-11-29T22:08:48.140783Z"
    },
    "papermill": {
     "duration": 0.03078,
     "end_time": "2022-11-29T22:08:48.142056",
     "exception": false,
     "start_time": "2022-11-29T22:08:48.111276",
     "status": "completed"
    },
    "tags": []
   },
   "outputs": [
    {
     "data": {
      "text/plain": [
       "(22326, 5)"
      ]
     },
     "execution_count": 35,
     "metadata": {},
     "output_type": "execute_result"
    }
   ],
   "source": [
    "smultixcan_results.shape"
   ]
  },
  {
   "cell_type": "code",
   "execution_count": 36,
   "id": "a36b5b59-f4b6-45bf-b241-ffc9671b357f",
   "metadata": {
    "execution": {
     "iopub.execute_input": "2022-11-29T22:08:48.168706Z",
     "iopub.status.busy": "2022-11-29T22:08:48.168206Z",
     "iopub.status.idle": "2022-11-29T22:08:48.191870Z",
     "shell.execute_reply": "2022-11-29T22:08:48.191345Z"
    },
    "papermill": {
     "duration": 0.037757,
     "end_time": "2022-11-29T22:08:48.192809",
     "exception": false,
     "start_time": "2022-11-29T22:08:48.155052",
     "status": "completed"
    },
    "tags": []
   },
   "outputs": [],
   "source": [
    "smultixcan_results = smultixcan_results.assign(\n",
    "    gene_id=smultixcan_results[\"gene\"].apply(lambda g: g.split(\".\")[0])\n",
    ")"
   ]
  },
  {
   "cell_type": "code",
   "execution_count": 37,
   "id": "c49f62a9-a01a-44af-87da-47d195b0ef7e",
   "metadata": {
    "execution": {
     "iopub.execute_input": "2022-11-29T22:08:48.219553Z",
     "iopub.status.busy": "2022-11-29T22:08:48.219016Z",
     "iopub.status.idle": "2022-11-29T22:08:48.241317Z",
     "shell.execute_reply": "2022-11-29T22:08:48.240825Z"
    },
    "papermill": {
     "duration": 0.036502,
     "end_time": "2022-11-29T22:08:48.242153",
     "exception": false,
     "start_time": "2022-11-29T22:08:48.205651",
     "status": "completed"
    },
    "tags": []
   },
   "outputs": [
    {
     "data": {
      "text/html": [
       "<div>\n",
       "<style scoped>\n",
       "    .dataframe tbody tr th:only-of-type {\n",
       "        vertical-align: middle;\n",
       "    }\n",
       "\n",
       "    .dataframe tbody tr th {\n",
       "        vertical-align: top;\n",
       "    }\n",
       "\n",
       "    .dataframe thead th {\n",
       "        text-align: right;\n",
       "    }\n",
       "</style>\n",
       "<table border=\"1\" class=\"dataframe\">\n",
       "  <thead>\n",
       "    <tr style=\"text-align: right;\">\n",
       "      <th></th>\n",
       "      <th>gene</th>\n",
       "      <th>gene_name</th>\n",
       "      <th>pvalue</th>\n",
       "      <th>n</th>\n",
       "      <th>n_indep</th>\n",
       "      <th>gene_id</th>\n",
       "    </tr>\n",
       "  </thead>\n",
       "  <tbody>\n",
       "    <tr>\n",
       "      <th>0</th>\n",
       "      <td>ENSG00000041357.15</td>\n",
       "      <td>PSMA4</td>\n",
       "      <td>1.536671e-22</td>\n",
       "      <td>49.0</td>\n",
       "      <td>4.0</td>\n",
       "      <td>ENSG00000041357</td>\n",
       "    </tr>\n",
       "    <tr>\n",
       "      <th>1</th>\n",
       "      <td>ENSG00000168743.12</td>\n",
       "      <td>NPNT</td>\n",
       "      <td>1.710790e-22</td>\n",
       "      <td>49.0</td>\n",
       "      <td>5.0</td>\n",
       "      <td>ENSG00000168743</td>\n",
       "    </tr>\n",
       "    <tr>\n",
       "      <th>2</th>\n",
       "      <td>ENSG00000080644.15</td>\n",
       "      <td>CHRNA3</td>\n",
       "      <td>2.757816e-21</td>\n",
       "      <td>19.0</td>\n",
       "      <td>4.0</td>\n",
       "      <td>ENSG00000080644</td>\n",
       "    </tr>\n",
       "    <tr>\n",
       "      <th>3</th>\n",
       "      <td>ENSG00000169684.13</td>\n",
       "      <td>CHRNA5</td>\n",
       "      <td>1.915449e-20</td>\n",
       "      <td>46.0</td>\n",
       "      <td>3.0</td>\n",
       "      <td>ENSG00000169684</td>\n",
       "    </tr>\n",
       "    <tr>\n",
       "      <th>4</th>\n",
       "      <td>ENSG00000188266.13</td>\n",
       "      <td>HYKK</td>\n",
       "      <td>7.494625e-20</td>\n",
       "      <td>34.0</td>\n",
       "      <td>5.0</td>\n",
       "      <td>ENSG00000188266</td>\n",
       "    </tr>\n",
       "  </tbody>\n",
       "</table>\n",
       "</div>"
      ],
      "text/plain": [
       "                 gene gene_name        pvalue     n  n_indep          gene_id\n",
       "0  ENSG00000041357.15     PSMA4  1.536671e-22  49.0      4.0  ENSG00000041357\n",
       "1  ENSG00000168743.12      NPNT  1.710790e-22  49.0      5.0  ENSG00000168743\n",
       "2  ENSG00000080644.15    CHRNA3  2.757816e-21  19.0      4.0  ENSG00000080644\n",
       "3  ENSG00000169684.13    CHRNA5  1.915449e-20  46.0      3.0  ENSG00000169684\n",
       "4  ENSG00000188266.13      HYKK  7.494625e-20  34.0      5.0  ENSG00000188266"
      ]
     },
     "execution_count": 37,
     "metadata": {},
     "output_type": "execute_result"
    }
   ],
   "source": [
    "smultixcan_results.head()"
   ]
  },
  {
   "cell_type": "code",
   "execution_count": 38,
   "id": "9c4c023c-86d6-4c4b-8d57-c2b6b93aaf84",
   "metadata": {
    "execution": {
     "iopub.execute_input": "2022-11-29T22:08:48.269055Z",
     "iopub.status.busy": "2022-11-29T22:08:48.268519Z",
     "iopub.status.idle": "2022-11-29T22:08:48.286954Z",
     "shell.execute_reply": "2022-11-29T22:08:48.286378Z"
    },
    "papermill": {
     "duration": 0.032546,
     "end_time": "2022-11-29T22:08:48.287789",
     "exception": false,
     "start_time": "2022-11-29T22:08:48.255243",
     "status": "completed"
    },
    "tags": []
   },
   "outputs": [],
   "source": [
    "assert smultixcan_results[\"gene_id\"].is_unique"
   ]
  },
  {
   "cell_type": "markdown",
   "id": "1f9939f1-4200-40d9-a8bf-8e4fd68bee48",
   "metadata": {
    "papermill": {
     "duration": 0.012967,
     "end_time": "2022-11-29T22:08:48.313771",
     "exception": false,
     "start_time": "2022-11-29T22:08:48.300804",
     "status": "completed"
    },
    "tags": []
   },
   "source": [
    "### Get common genes with MultiPLIER"
   ]
  },
  {
   "cell_type": "code",
   "execution_count": 39,
   "id": "c820e6cf-6350-45af-b49a-0abd94f570ff",
   "metadata": {
    "execution": {
     "iopub.execute_input": "2022-11-29T22:08:48.340576Z",
     "iopub.status.busy": "2022-11-29T22:08:48.340182Z",
     "iopub.status.idle": "2022-11-29T22:08:48.361489Z",
     "shell.execute_reply": "2022-11-29T22:08:48.360971Z"
    },
    "papermill": {
     "duration": 0.035624,
     "end_time": "2022-11-29T22:08:48.362360",
     "exception": false,
     "start_time": "2022-11-29T22:08:48.326736",
     "status": "completed"
    },
    "tags": []
   },
   "outputs": [],
   "source": [
    "common_genes = set(multiplier_z_genes).intersection(\n",
    "    set(smultixcan_results[\"gene_name\"])\n",
    ")"
   ]
  },
  {
   "cell_type": "code",
   "execution_count": 40,
   "id": "0a7328f9-96c7-4ac6-a9a6-ae4fa121a4cd",
   "metadata": {
    "execution": {
     "iopub.execute_input": "2022-11-29T22:08:48.389500Z",
     "iopub.status.busy": "2022-11-29T22:08:48.389120Z",
     "iopub.status.idle": "2022-11-29T22:08:48.405823Z",
     "shell.execute_reply": "2022-11-29T22:08:48.405315Z"
    },
    "papermill": {
     "duration": 0.031193,
     "end_time": "2022-11-29T22:08:48.406632",
     "exception": false,
     "start_time": "2022-11-29T22:08:48.375439",
     "status": "completed"
    },
    "tags": []
   },
   "outputs": [
    {
     "data": {
      "text/plain": [
       "6445"
      ]
     },
     "execution_count": 40,
     "metadata": {},
     "output_type": "execute_result"
    }
   ],
   "source": [
    "len(common_genes)"
   ]
  },
  {
   "cell_type": "code",
   "execution_count": 41,
   "id": "5b08d362-44c8-4db2-9258-670e2e2a9cc0",
   "metadata": {
    "execution": {
     "iopub.execute_input": "2022-11-29T22:08:48.433598Z",
     "iopub.status.busy": "2022-11-29T22:08:48.433067Z",
     "iopub.status.idle": "2022-11-29T22:08:48.450841Z",
     "shell.execute_reply": "2022-11-29T22:08:48.450363Z"
    },
    "papermill": {
     "duration": 0.032233,
     "end_time": "2022-11-29T22:08:48.451680",
     "exception": false,
     "start_time": "2022-11-29T22:08:48.419447",
     "status": "completed"
    },
    "tags": []
   },
   "outputs": [
    {
     "data": {
      "text/plain": [
       "['A2M', 'AAAS', 'AANAT', 'AARS', 'AARS2']"
      ]
     },
     "execution_count": 41,
     "metadata": {},
     "output_type": "execute_result"
    }
   ],
   "source": [
    "sorted(list(common_genes))[:5]"
   ]
  },
  {
   "cell_type": "markdown",
   "id": "7f51338b-8a75-42c3-a7e5-a0961cefb663",
   "metadata": {
    "papermill": {
     "duration": 0.012964,
     "end_time": "2022-11-29T22:08:48.477739",
     "exception": false,
     "start_time": "2022-11-29T22:08:48.464775",
     "status": "completed"
    },
    "tags": []
   },
   "source": [
    "## Genes info"
   ]
  },
  {
   "cell_type": "code",
   "execution_count": 42,
   "id": "bb932812",
   "metadata": {
    "execution": {
     "iopub.execute_input": "2022-11-29T22:08:48.504816Z",
     "iopub.status.busy": "2022-11-29T22:08:48.504435Z",
     "iopub.status.idle": "2022-11-29T22:08:49.110100Z",
     "shell.execute_reply": "2022-11-29T22:08:49.109666Z"
    },
    "papermill": {
     "duration": 0.620895,
     "end_time": "2022-11-29T22:08:49.111722",
     "exception": false,
     "start_time": "2022-11-29T22:08:48.490827",
     "status": "completed"
    },
    "tags": []
   },
   "outputs": [],
   "source": [
    "multiplier_gene_obj = {\n",
    "    gene_name: Gene(name=gene_name)\n",
    "    for gene_name in common_genes\n",
    "    if gene_name in Gene.GENE_NAME_TO_ID_MAP\n",
    "}"
   ]
  },
  {
   "cell_type": "code",
   "execution_count": 43,
   "id": "cb9d7a45-2b7d-4d10-80dc-212a625b5ae7",
   "metadata": {
    "execution": {
     "iopub.execute_input": "2022-11-29T22:08:49.140009Z",
     "iopub.status.busy": "2022-11-29T22:08:49.139849Z",
     "iopub.status.idle": "2022-11-29T22:08:49.149925Z",
     "shell.execute_reply": "2022-11-29T22:08:49.149565Z"
    },
    "papermill": {
     "duration": 0.0244,
     "end_time": "2022-11-29T22:08:49.150692",
     "exception": false,
     "start_time": "2022-11-29T22:08:49.126292",
     "status": "completed"
    },
    "tags": []
   },
   "outputs": [],
   "source": [
    "# delete common_genes, from now on, genes_info should be used for common genes\n",
    "del common_genes"
   ]
  },
  {
   "cell_type": "code",
   "execution_count": 44,
   "id": "39533214",
   "metadata": {
    "execution": {
     "iopub.execute_input": "2022-11-29T22:08:49.177420Z",
     "iopub.status.busy": "2022-11-29T22:08:49.177299Z",
     "iopub.status.idle": "2022-11-29T22:08:49.186519Z",
     "shell.execute_reply": "2022-11-29T22:08:49.186172Z"
    },
    "papermill": {
     "duration": 0.023512,
     "end_time": "2022-11-29T22:08:49.187272",
     "exception": false,
     "start_time": "2022-11-29T22:08:49.163760",
     "status": "completed"
    },
    "tags": []
   },
   "outputs": [
    {
     "data": {
      "text/plain": [
       "6445"
      ]
     },
     "execution_count": 44,
     "metadata": {},
     "output_type": "execute_result"
    }
   ],
   "source": [
    "len(multiplier_gene_obj)"
   ]
  },
  {
   "cell_type": "code",
   "execution_count": 45,
   "id": "9a5d0b84",
   "metadata": {
    "execution": {
     "iopub.execute_input": "2022-11-29T22:08:49.214194Z",
     "iopub.status.busy": "2022-11-29T22:08:49.214091Z",
     "iopub.status.idle": "2022-11-29T22:08:49.222548Z",
     "shell.execute_reply": "2022-11-29T22:08:49.222188Z"
    },
    "papermill": {
     "duration": 0.022716,
     "end_time": "2022-11-29T22:08:49.223340",
     "exception": false,
     "start_time": "2022-11-29T22:08:49.200624",
     "status": "completed"
    },
    "tags": []
   },
   "outputs": [],
   "source": [
    "assert multiplier_gene_obj[\"GAS6\"].ensembl_id == \"ENSG00000183087\""
   ]
  },
  {
   "cell_type": "code",
   "execution_count": 46,
   "id": "e3ffabc7",
   "metadata": {
    "execution": {
     "iopub.execute_input": "2022-11-29T22:08:49.250333Z",
     "iopub.status.busy": "2022-11-29T22:08:49.250230Z",
     "iopub.status.idle": "2022-11-29T22:08:50.986786Z",
     "shell.execute_reply": "2022-11-29T22:08:50.986353Z"
    },
    "papermill": {
     "duration": 1.751708,
     "end_time": "2022-11-29T22:08:50.988456",
     "exception": false,
     "start_time": "2022-11-29T22:08:49.236748",
     "status": "completed"
    },
    "tags": []
   },
   "outputs": [],
   "source": [
    "_gene_obj = list(multiplier_gene_obj.values())\n",
    "\n",
    "genes_info = pd.DataFrame(\n",
    "    {\n",
    "        \"name\": [g.name for g in _gene_obj],\n",
    "        \"id\": [g.ensembl_id for g in _gene_obj],\n",
    "        \"chr\": [g.chromosome for g in _gene_obj],\n",
    "        \"band\": [g.band for g in _gene_obj],\n",
    "        \"start_position\": [g.get_attribute(\"start_position\") for g in _gene_obj],\n",
    "        \"end_position\": [g.get_attribute(\"end_position\") for g in _gene_obj],\n",
    "    }\n",
    ")"
   ]
  },
  {
   "cell_type": "code",
   "execution_count": 47,
   "id": "00475e72-1cfc-485f-8b4e-1d9cce695f58",
   "metadata": {
    "execution": {
     "iopub.execute_input": "2022-11-29T22:08:51.040985Z",
     "iopub.status.busy": "2022-11-29T22:08:51.040857Z",
     "iopub.status.idle": "2022-11-29T22:08:51.112788Z",
     "shell.execute_reply": "2022-11-29T22:08:51.112213Z"
    },
    "papermill": {
     "duration": 0.099501,
     "end_time": "2022-11-29T22:08:51.114091",
     "exception": false,
     "start_time": "2022-11-29T22:08:51.014590",
     "status": "completed"
    },
    "tags": []
   },
   "outputs": [],
   "source": [
    "genes_info = genes_info.assign(\n",
    "    gene_length=genes_info.apply(\n",
    "        lambda x: x[\"end_position\"] - x[\"start_position\"], axis=1\n",
    "    )\n",
    ")"
   ]
  },
  {
   "cell_type": "code",
   "execution_count": 48,
   "id": "3af1a166-08a0-4333-bc09-b8bc762aa7ef",
   "metadata": {
    "execution": {
     "iopub.execute_input": "2022-11-29T22:08:51.166547Z",
     "iopub.status.busy": "2022-11-29T22:08:51.166419Z",
     "iopub.status.idle": "2022-11-29T22:08:51.177503Z",
     "shell.execute_reply": "2022-11-29T22:08:51.177142Z"
    },
    "papermill": {
     "duration": 0.038122,
     "end_time": "2022-11-29T22:08:51.178766",
     "exception": false,
     "start_time": "2022-11-29T22:08:51.140644",
     "status": "completed"
    },
    "tags": []
   },
   "outputs": [
    {
     "data": {
      "text/plain": [
       "name               object\n",
       "id                 object\n",
       "chr                object\n",
       "band               object\n",
       "start_position    float64\n",
       "end_position      float64\n",
       "gene_length       float64\n",
       "dtype: object"
      ]
     },
     "execution_count": 48,
     "metadata": {},
     "output_type": "execute_result"
    }
   ],
   "source": [
    "genes_info.dtypes"
   ]
  },
  {
   "cell_type": "code",
   "execution_count": 49,
   "id": "08a23f6f-87f6-4072-88c8-010b90a411cd",
   "metadata": {
    "execution": {
     "iopub.execute_input": "2022-11-29T22:08:51.223981Z",
     "iopub.status.busy": "2022-11-29T22:08:51.223856Z",
     "iopub.status.idle": "2022-11-29T22:08:51.240024Z",
     "shell.execute_reply": "2022-11-29T22:08:51.239657Z"
    },
    "papermill": {
     "duration": 0.036241,
     "end_time": "2022-11-29T22:08:51.240790",
     "exception": false,
     "start_time": "2022-11-29T22:08:51.204549",
     "status": "completed"
    },
    "tags": []
   },
   "outputs": [
    {
     "data": {
      "text/html": [
       "<div>\n",
       "<style scoped>\n",
       "    .dataframe tbody tr th:only-of-type {\n",
       "        vertical-align: middle;\n",
       "    }\n",
       "\n",
       "    .dataframe tbody tr th {\n",
       "        vertical-align: top;\n",
       "    }\n",
       "\n",
       "    .dataframe thead th {\n",
       "        text-align: right;\n",
       "    }\n",
       "</style>\n",
       "<table border=\"1\" class=\"dataframe\">\n",
       "  <thead>\n",
       "    <tr style=\"text-align: right;\">\n",
       "      <th></th>\n",
       "      <th>name</th>\n",
       "      <th>id</th>\n",
       "      <th>chr</th>\n",
       "      <th>band</th>\n",
       "      <th>start_position</th>\n",
       "      <th>end_position</th>\n",
       "      <th>gene_length</th>\n",
       "    </tr>\n",
       "  </thead>\n",
       "  <tbody>\n",
       "    <tr>\n",
       "      <th>1189</th>\n",
       "      <td>TMEM133</td>\n",
       "      <td>ENSG00000170647</td>\n",
       "      <td>None</td>\n",
       "      <td>None</td>\n",
       "      <td>NaN</td>\n",
       "      <td>NaN</td>\n",
       "      <td>NaN</td>\n",
       "    </tr>\n",
       "    <tr>\n",
       "      <th>3426</th>\n",
       "      <td>TBCE</td>\n",
       "      <td>ENSG00000116957</td>\n",
       "      <td>None</td>\n",
       "      <td>None</td>\n",
       "      <td>NaN</td>\n",
       "      <td>NaN</td>\n",
       "      <td>NaN</td>\n",
       "    </tr>\n",
       "  </tbody>\n",
       "</table>\n",
       "</div>"
      ],
      "text/plain": [
       "         name               id   chr  band  start_position  end_position  \\\n",
       "1189  TMEM133  ENSG00000170647  None  None             NaN           NaN   \n",
       "3426     TBCE  ENSG00000116957  None  None             NaN           NaN   \n",
       "\n",
       "      gene_length  \n",
       "1189          NaN  \n",
       "3426          NaN  "
      ]
     },
     "metadata": {},
     "output_type": "display_data"
    }
   ],
   "source": [
    "_tmp = genes_info[genes_info.isna().any(axis=1)]\n",
    "display(_tmp)\n",
    "assert _tmp.shape[0] < 5"
   ]
  },
  {
   "cell_type": "code",
   "execution_count": 50,
   "id": "87c010f0-8ad9-4bf0-b12d-02f37a93853a",
   "metadata": {
    "execution": {
     "iopub.execute_input": "2022-11-29T22:08:51.268611Z",
     "iopub.status.busy": "2022-11-29T22:08:51.268483Z",
     "iopub.status.idle": "2022-11-29T22:08:51.280838Z",
     "shell.execute_reply": "2022-11-29T22:08:51.280463Z"
    },
    "papermill": {
     "duration": 0.027176,
     "end_time": "2022-11-29T22:08:51.281630",
     "exception": false,
     "start_time": "2022-11-29T22:08:51.254454",
     "status": "completed"
    },
    "tags": []
   },
   "outputs": [],
   "source": [
    "genes_info = genes_info.dropna()"
   ]
  },
  {
   "cell_type": "code",
   "execution_count": 51,
   "id": "61833f43-3a92-47e9-bca3-e05b6673c7d9",
   "metadata": {
    "execution": {
     "iopub.execute_input": "2022-11-29T22:08:51.309493Z",
     "iopub.status.busy": "2022-11-29T22:08:51.309370Z",
     "iopub.status.idle": "2022-11-29T22:08:51.673235Z",
     "shell.execute_reply": "2022-11-29T22:08:51.672820Z"
    },
    "papermill": {
     "duration": 0.379369,
     "end_time": "2022-11-29T22:08:51.674641",
     "exception": false,
     "start_time": "2022-11-29T22:08:51.295272",
     "status": "completed"
    },
    "tags": []
   },
   "outputs": [],
   "source": [
    "genes_info[\"chr\"] = genes_info[\"chr\"].apply(pd.to_numeric, downcast=\"integer\")\n",
    "genes_info[\"start_position\"] = genes_info[\"start_position\"].astype(int)\n",
    "genes_info[\"end_position\"] = genes_info[\"end_position\"].astype(int)\n",
    "genes_info[\"gene_length\"] = genes_info[\"gene_length\"].astype(int)"
   ]
  },
  {
   "cell_type": "code",
   "execution_count": 52,
   "id": "e4b9ae23-3edb-41a4-97aa-80cc7db6d393",
   "metadata": {
    "execution": {
     "iopub.execute_input": "2022-11-29T22:08:51.727714Z",
     "iopub.status.busy": "2022-11-29T22:08:51.727606Z",
     "iopub.status.idle": "2022-11-29T22:08:51.738520Z",
     "shell.execute_reply": "2022-11-29T22:08:51.738177Z"
    },
    "papermill": {
     "duration": 0.038307,
     "end_time": "2022-11-29T22:08:51.739760",
     "exception": false,
     "start_time": "2022-11-29T22:08:51.701453",
     "status": "completed"
    },
    "tags": []
   },
   "outputs": [
    {
     "data": {
      "text/plain": [
       "name              object\n",
       "id                object\n",
       "chr                 int8\n",
       "band              object\n",
       "start_position     int64\n",
       "end_position       int64\n",
       "gene_length        int64\n",
       "dtype: object"
      ]
     },
     "execution_count": 52,
     "metadata": {},
     "output_type": "execute_result"
    }
   ],
   "source": [
    "genes_info.dtypes"
   ]
  },
  {
   "cell_type": "code",
   "execution_count": 53,
   "id": "09d6320a-b1c4-4200-a23e-184bc4be69c7",
   "metadata": {
    "execution": {
     "iopub.execute_input": "2022-11-29T22:08:51.787006Z",
     "iopub.status.busy": "2022-11-29T22:08:51.786898Z",
     "iopub.status.idle": "2022-11-29T22:08:51.799985Z",
     "shell.execute_reply": "2022-11-29T22:08:51.799527Z"
    },
    "papermill": {
     "duration": 0.035082,
     "end_time": "2022-11-29T22:08:51.800902",
     "exception": false,
     "start_time": "2022-11-29T22:08:51.765820",
     "status": "completed"
    },
    "tags": []
   },
   "outputs": [],
   "source": [
    "assert genes_info[\"name\"].is_unique"
   ]
  },
  {
   "cell_type": "code",
   "execution_count": 54,
   "id": "009d11e4-f8cb-4a81-823d-c7f10b906d3b",
   "metadata": {
    "execution": {
     "iopub.execute_input": "2022-11-29T22:08:51.828996Z",
     "iopub.status.busy": "2022-11-29T22:08:51.828838Z",
     "iopub.status.idle": "2022-11-29T22:08:51.842283Z",
     "shell.execute_reply": "2022-11-29T22:08:51.841814Z"
    },
    "papermill": {
     "duration": 0.028342,
     "end_time": "2022-11-29T22:08:51.843208",
     "exception": false,
     "start_time": "2022-11-29T22:08:51.814866",
     "status": "completed"
    },
    "tags": []
   },
   "outputs": [],
   "source": [
    "assert genes_info[\"id\"].is_unique"
   ]
  },
  {
   "cell_type": "code",
   "execution_count": 55,
   "id": "e23519b8",
   "metadata": {
    "execution": {
     "iopub.execute_input": "2022-11-29T22:08:51.872239Z",
     "iopub.status.busy": "2022-11-29T22:08:51.872004Z",
     "iopub.status.idle": "2022-11-29T22:08:51.885054Z",
     "shell.execute_reply": "2022-11-29T22:08:51.884605Z"
    },
    "papermill": {
     "duration": 0.028154,
     "end_time": "2022-11-29T22:08:51.885867",
     "exception": false,
     "start_time": "2022-11-29T22:08:51.857713",
     "status": "completed"
    },
    "tags": []
   },
   "outputs": [
    {
     "data": {
      "text/plain": [
       "(6443, 7)"
      ]
     },
     "execution_count": 55,
     "metadata": {},
     "output_type": "execute_result"
    }
   ],
   "source": [
    "genes_info.shape"
   ]
  },
  {
   "cell_type": "code",
   "execution_count": 56,
   "id": "0d71881c",
   "metadata": {
    "execution": {
     "iopub.execute_input": "2022-11-29T22:08:51.914285Z",
     "iopub.status.busy": "2022-11-29T22:08:51.913955Z",
     "iopub.status.idle": "2022-11-29T22:08:51.933452Z",
     "shell.execute_reply": "2022-11-29T22:08:51.932969Z"
    },
    "papermill": {
     "duration": 0.034704,
     "end_time": "2022-11-29T22:08:51.934259",
     "exception": false,
     "start_time": "2022-11-29T22:08:51.899555",
     "status": "completed"
    },
    "tags": []
   },
   "outputs": [
    {
     "data": {
      "text/html": [
       "<div>\n",
       "<style scoped>\n",
       "    .dataframe tbody tr th:only-of-type {\n",
       "        vertical-align: middle;\n",
       "    }\n",
       "\n",
       "    .dataframe tbody tr th {\n",
       "        vertical-align: top;\n",
       "    }\n",
       "\n",
       "    .dataframe thead th {\n",
       "        text-align: right;\n",
       "    }\n",
       "</style>\n",
       "<table border=\"1\" class=\"dataframe\">\n",
       "  <thead>\n",
       "    <tr style=\"text-align: right;\">\n",
       "      <th></th>\n",
       "      <th>name</th>\n",
       "      <th>id</th>\n",
       "      <th>chr</th>\n",
       "      <th>band</th>\n",
       "      <th>start_position</th>\n",
       "      <th>end_position</th>\n",
       "      <th>gene_length</th>\n",
       "    </tr>\n",
       "  </thead>\n",
       "  <tbody>\n",
       "    <tr>\n",
       "      <th>0</th>\n",
       "      <td>PPP1R13B</td>\n",
       "      <td>ENSG00000088808</td>\n",
       "      <td>14</td>\n",
       "      <td>14q32.33</td>\n",
       "      <td>103733195</td>\n",
       "      <td>103847590</td>\n",
       "      <td>114395</td>\n",
       "    </tr>\n",
       "    <tr>\n",
       "      <th>1</th>\n",
       "      <td>HNRNPA0</td>\n",
       "      <td>ENSG00000177733</td>\n",
       "      <td>5</td>\n",
       "      <td>5q31.2</td>\n",
       "      <td>137745651</td>\n",
       "      <td>137754376</td>\n",
       "      <td>8725</td>\n",
       "    </tr>\n",
       "    <tr>\n",
       "      <th>2</th>\n",
       "      <td>GSN</td>\n",
       "      <td>ENSG00000148180</td>\n",
       "      <td>9</td>\n",
       "      <td>9q33.2</td>\n",
       "      <td>121207794</td>\n",
       "      <td>121332843</td>\n",
       "      <td>125049</td>\n",
       "    </tr>\n",
       "    <tr>\n",
       "      <th>3</th>\n",
       "      <td>CCR3</td>\n",
       "      <td>ENSG00000183625</td>\n",
       "      <td>3</td>\n",
       "      <td>3p21.31</td>\n",
       "      <td>46163604</td>\n",
       "      <td>46266706</td>\n",
       "      <td>103102</td>\n",
       "    </tr>\n",
       "    <tr>\n",
       "      <th>4</th>\n",
       "      <td>TRIB2</td>\n",
       "      <td>ENSG00000071575</td>\n",
       "      <td>2</td>\n",
       "      <td>2p24.3</td>\n",
       "      <td>12716889</td>\n",
       "      <td>12742734</td>\n",
       "      <td>25845</td>\n",
       "    </tr>\n",
       "  </tbody>\n",
       "</table>\n",
       "</div>"
      ],
      "text/plain": [
       "       name               id  chr      band  start_position  end_position  \\\n",
       "0  PPP1R13B  ENSG00000088808   14  14q32.33       103733195     103847590   \n",
       "1   HNRNPA0  ENSG00000177733    5    5q31.2       137745651     137754376   \n",
       "2       GSN  ENSG00000148180    9    9q33.2       121207794     121332843   \n",
       "3      CCR3  ENSG00000183625    3   3p21.31        46163604      46266706   \n",
       "4     TRIB2  ENSG00000071575    2    2p24.3        12716889      12742734   \n",
       "\n",
       "   gene_length  \n",
       "0       114395  \n",
       "1         8725  \n",
       "2       125049  \n",
       "3       103102  \n",
       "4        25845  "
      ]
     },
     "execution_count": 56,
     "metadata": {},
     "output_type": "execute_result"
    }
   ],
   "source": [
    "genes_info.head()"
   ]
  },
  {
   "cell_type": "code",
   "execution_count": 57,
   "id": "eb968287-d9cf-40f6-a93e-6b322b844404",
   "metadata": {
    "execution": {
     "iopub.execute_input": "2022-11-29T22:08:51.963259Z",
     "iopub.status.busy": "2022-11-29T22:08:51.962768Z",
     "iopub.status.idle": "2022-11-29T22:08:51.986884Z",
     "shell.execute_reply": "2022-11-29T22:08:51.986395Z"
    },
    "papermill": {
     "duration": 0.039423,
     "end_time": "2022-11-29T22:08:51.987691",
     "exception": false,
     "start_time": "2022-11-29T22:08:51.948268",
     "status": "completed"
    },
    "tags": []
   },
   "outputs": [
    {
     "data": {
      "text/html": [
       "<div>\n",
       "<style scoped>\n",
       "    .dataframe tbody tr th:only-of-type {\n",
       "        vertical-align: middle;\n",
       "    }\n",
       "\n",
       "    .dataframe tbody tr th {\n",
       "        vertical-align: top;\n",
       "    }\n",
       "\n",
       "    .dataframe thead th {\n",
       "        text-align: right;\n",
       "    }\n",
       "</style>\n",
       "<table border=\"1\" class=\"dataframe\">\n",
       "  <thead>\n",
       "    <tr style=\"text-align: right;\">\n",
       "      <th></th>\n",
       "      <th>name</th>\n",
       "      <th>id</th>\n",
       "      <th>chr</th>\n",
       "      <th>band</th>\n",
       "      <th>start_position</th>\n",
       "      <th>end_position</th>\n",
       "      <th>gene_length</th>\n",
       "    </tr>\n",
       "  </thead>\n",
       "  <tbody>\n",
       "    <tr>\n",
       "      <th>2186</th>\n",
       "      <td>BCL10</td>\n",
       "      <td>ENSG00000142867</td>\n",
       "      <td>1</td>\n",
       "      <td>1p22.3</td>\n",
       "      <td>85265776</td>\n",
       "      <td>85276904</td>\n",
       "      <td>11128</td>\n",
       "    </tr>\n",
       "    <tr>\n",
       "      <th>5913</th>\n",
       "      <td>C4BPA</td>\n",
       "      <td>ENSG00000123838</td>\n",
       "      <td>1</td>\n",
       "      <td>1q32.2</td>\n",
       "      <td>207104233</td>\n",
       "      <td>207144972</td>\n",
       "      <td>40739</td>\n",
       "    </tr>\n",
       "    <tr>\n",
       "      <th>3442</th>\n",
       "      <td>GNPAT</td>\n",
       "      <td>ENSG00000116906</td>\n",
       "      <td>1</td>\n",
       "      <td>1q42.2</td>\n",
       "      <td>231241207</td>\n",
       "      <td>231277973</td>\n",
       "      <td>36766</td>\n",
       "    </tr>\n",
       "    <tr>\n",
       "      <th>4823</th>\n",
       "      <td>SLAMF8</td>\n",
       "      <td>ENSG00000158714</td>\n",
       "      <td>1</td>\n",
       "      <td>1q23.2</td>\n",
       "      <td>159826811</td>\n",
       "      <td>159837492</td>\n",
       "      <td>10681</td>\n",
       "    </tr>\n",
       "    <tr>\n",
       "      <th>1215</th>\n",
       "      <td>MRPL24</td>\n",
       "      <td>ENSG00000143314</td>\n",
       "      <td>1</td>\n",
       "      <td>1q23.1</td>\n",
       "      <td>156737303</td>\n",
       "      <td>156741590</td>\n",
       "      <td>4287</td>\n",
       "    </tr>\n",
       "    <tr>\n",
       "      <th>...</th>\n",
       "      <td>...</td>\n",
       "      <td>...</td>\n",
       "      <td>...</td>\n",
       "      <td>...</td>\n",
       "      <td>...</td>\n",
       "      <td>...</td>\n",
       "      <td>...</td>\n",
       "    </tr>\n",
       "    <tr>\n",
       "      <th>4003</th>\n",
       "      <td>ALG12</td>\n",
       "      <td>ENSG00000182858</td>\n",
       "      <td>22</td>\n",
       "      <td>22q13.33</td>\n",
       "      <td>49900229</td>\n",
       "      <td>49918438</td>\n",
       "      <td>18209</td>\n",
       "    </tr>\n",
       "    <tr>\n",
       "      <th>6323</th>\n",
       "      <td>SHANK3</td>\n",
       "      <td>ENSG00000251322</td>\n",
       "      <td>22</td>\n",
       "      <td>22q13.33</td>\n",
       "      <td>50674415</td>\n",
       "      <td>50733298</td>\n",
       "      <td>58883</td>\n",
       "    </tr>\n",
       "    <tr>\n",
       "      <th>289</th>\n",
       "      <td>GAL3ST1</td>\n",
       "      <td>ENSG00000128242</td>\n",
       "      <td>22</td>\n",
       "      <td>22q12.2</td>\n",
       "      <td>30554635</td>\n",
       "      <td>30574665</td>\n",
       "      <td>20030</td>\n",
       "    </tr>\n",
       "    <tr>\n",
       "      <th>2762</th>\n",
       "      <td>FBXO7</td>\n",
       "      <td>ENSG00000100225</td>\n",
       "      <td>22</td>\n",
       "      <td>22q12.3</td>\n",
       "      <td>32474676</td>\n",
       "      <td>32498829</td>\n",
       "      <td>24153</td>\n",
       "    </tr>\n",
       "    <tr>\n",
       "      <th>5116</th>\n",
       "      <td>HDAC10</td>\n",
       "      <td>ENSG00000100429</td>\n",
       "      <td>22</td>\n",
       "      <td>22q13.33</td>\n",
       "      <td>50245183</td>\n",
       "      <td>50251405</td>\n",
       "      <td>6222</td>\n",
       "    </tr>\n",
       "  </tbody>\n",
       "</table>\n",
       "<p>6443 rows × 7 columns</p>\n",
       "</div>"
      ],
      "text/plain": [
       "         name               id  chr      band  start_position  end_position  \\\n",
       "2186    BCL10  ENSG00000142867    1    1p22.3        85265776      85276904   \n",
       "5913    C4BPA  ENSG00000123838    1    1q32.2       207104233     207144972   \n",
       "3442    GNPAT  ENSG00000116906    1    1q42.2       231241207     231277973   \n",
       "4823   SLAMF8  ENSG00000158714    1    1q23.2       159826811     159837492   \n",
       "1215   MRPL24  ENSG00000143314    1    1q23.1       156737303     156741590   \n",
       "...       ...              ...  ...       ...             ...           ...   \n",
       "4003    ALG12  ENSG00000182858   22  22q13.33        49900229      49918438   \n",
       "6323   SHANK3  ENSG00000251322   22  22q13.33        50674415      50733298   \n",
       "289   GAL3ST1  ENSG00000128242   22   22q12.2        30554635      30574665   \n",
       "2762    FBXO7  ENSG00000100225   22   22q12.3        32474676      32498829   \n",
       "5116   HDAC10  ENSG00000100429   22  22q13.33        50245183      50251405   \n",
       "\n",
       "      gene_length  \n",
       "2186        11128  \n",
       "5913        40739  \n",
       "3442        36766  \n",
       "4823        10681  \n",
       "1215         4287  \n",
       "...           ...  \n",
       "4003        18209  \n",
       "6323        58883  \n",
       "289         20030  \n",
       "2762        24153  \n",
       "5116         6222  \n",
       "\n",
       "[6443 rows x 7 columns]"
      ]
     },
     "execution_count": 57,
     "metadata": {},
     "output_type": "execute_result"
    }
   ],
   "source": [
    "genes_info.sort_values(\"chr\")"
   ]
  },
  {
   "cell_type": "markdown",
   "id": "7282b84d-f4f3-4e8c-9dd8-6319505ed4b5",
   "metadata": {
    "papermill": {
     "duration": 0.014594,
     "end_time": "2022-11-29T22:08:52.017143",
     "exception": false,
     "start_time": "2022-11-29T22:08:52.002549",
     "status": "completed"
    },
    "tags": []
   },
   "source": [
    "### Save"
   ]
  },
  {
   "cell_type": "code",
   "execution_count": 58,
   "id": "32cf6566-03bb-4a85-81e1-da46fc9f37ad",
   "metadata": {
    "execution": {
     "iopub.execute_input": "2022-11-29T22:08:52.045958Z",
     "iopub.status.busy": "2022-11-29T22:08:52.045729Z",
     "iopub.status.idle": "2022-11-29T22:08:52.067259Z",
     "shell.execute_reply": "2022-11-29T22:08:52.066731Z"
    },
    "papermill": {
     "duration": 0.037027,
     "end_time": "2022-11-29T22:08:52.068140",
     "exception": false,
     "start_time": "2022-11-29T22:08:52.031113",
     "status": "completed"
    },
    "tags": []
   },
   "outputs": [],
   "source": [
    "genes_info.to_pickle(OUTPUT_DIR_BASE / \"genes_info.pkl\")"
   ]
  },
  {
   "cell_type": "markdown",
   "id": "5b9f384a-5a91-4a8d-9007-cfe43f2d86f8",
   "metadata": {
    "papermill": {
     "duration": 0.013863,
     "end_time": "2022-11-29T22:08:52.096102",
     "exception": false,
     "start_time": "2022-11-29T22:08:52.082239",
     "status": "completed"
    },
    "tags": []
   },
   "source": [
    "## S-PrediXcan results"
   ]
  },
  {
   "cell_type": "markdown",
   "id": "fc0a2a4c-960c-4a0a-9b23-b66c3d5d6e07",
   "metadata": {
    "papermill": {
     "duration": 0.01379,
     "end_time": "2022-11-29T22:08:52.123670",
     "exception": false,
     "start_time": "2022-11-29T22:08:52.109880",
     "status": "completed"
    },
    "tags": []
   },
   "source": [
    "### Load results across all tissues"
   ]
  },
  {
   "cell_type": "code",
   "execution_count": 59,
   "id": "0b4867d7-a608-4b08-9d77-1782be3a0c94",
   "metadata": {
    "execution": {
     "iopub.execute_input": "2022-11-29T22:08:52.152787Z",
     "iopub.status.busy": "2022-11-29T22:08:52.152584Z",
     "iopub.status.idle": "2022-11-29T22:08:52.169160Z",
     "shell.execute_reply": "2022-11-29T22:08:52.168666Z"
    },
    "papermill": {
     "duration": 0.03215,
     "end_time": "2022-11-29T22:08:52.170049",
     "exception": false,
     "start_time": "2022-11-29T22:08:52.137899",
     "status": "completed"
    },
    "tags": []
   },
   "outputs": [],
   "source": [
    "spredixcan_result_files = {\n",
    "    t: SPREDIXCAN_FOLDER / SPREDIXCAN_FILE_PATTERN.format(tissue=t)\n",
    "    for t in prediction_model_tissues\n",
    "}"
   ]
  },
  {
   "cell_type": "code",
   "execution_count": 60,
   "id": "0ce270dd-46ac-4eaa-9d86-2b201d67d82f",
   "metadata": {
    "execution": {
     "iopub.execute_input": "2022-11-29T22:08:52.199094Z",
     "iopub.status.busy": "2022-11-29T22:08:52.198894Z",
     "iopub.status.idle": "2022-11-29T22:08:52.215820Z",
     "shell.execute_reply": "2022-11-29T22:08:52.215340Z"
    },
    "papermill": {
     "duration": 0.032316,
     "end_time": "2022-11-29T22:08:52.216631",
     "exception": false,
     "start_time": "2022-11-29T22:08:52.184315",
     "status": "completed"
    },
    "tags": []
   },
   "outputs": [
    {
     "data": {
      "text/plain": [
       "[PosixPath('/opt/data/projects/asthma-copd/results/twas/spredixcan/GWAS_COPD_only_GLM_SNPs_info0.7-gtex_v8-mashr-Thyroid.csv'),\n",
       " PosixPath('/opt/data/projects/asthma-copd/results/twas/spredixcan/GWAS_COPD_only_GLM_SNPs_info0.7-gtex_v8-mashr-Artery_Aorta.csv'),\n",
       " PosixPath('/opt/data/projects/asthma-copd/results/twas/spredixcan/GWAS_COPD_only_GLM_SNPs_info0.7-gtex_v8-mashr-Heart_Atrial_Appendage.csv'),\n",
       " PosixPath('/opt/data/projects/asthma-copd/results/twas/spredixcan/GWAS_COPD_only_GLM_SNPs_info0.7-gtex_v8-mashr-Liver.csv'),\n",
       " PosixPath('/opt/data/projects/asthma-copd/results/twas/spredixcan/GWAS_COPD_only_GLM_SNPs_info0.7-gtex_v8-mashr-Heart_Left_Ventricle.csv')]"
      ]
     },
     "metadata": {},
     "output_type": "display_data"
    }
   ],
   "source": [
    "assert len(spredixcan_result_files) == len(prediction_model_tissues)\n",
    "display(list(spredixcan_result_files.values())[:5])"
   ]
  },
  {
   "cell_type": "code",
   "execution_count": 61,
   "id": "aa140259-303e-4912-b2bf-e7adce662f88",
   "metadata": {
    "execution": {
     "iopub.execute_input": "2022-11-29T22:08:52.246137Z",
     "iopub.status.busy": "2022-11-29T22:08:52.245623Z",
     "iopub.status.idle": "2022-11-29T22:08:52.294047Z",
     "shell.execute_reply": "2022-11-29T22:08:52.293520Z"
    },
    "papermill": {
     "duration": 0.063966,
     "end_time": "2022-11-29T22:08:52.294871",
     "exception": false,
     "start_time": "2022-11-29T22:08:52.230905",
     "status": "completed"
    },
    "tags": []
   },
   "outputs": [
    {
     "data": {
      "text/html": [
       "<div>\n",
       "<style scoped>\n",
       "    .dataframe tbody tr th:only-of-type {\n",
       "        vertical-align: middle;\n",
       "    }\n",
       "\n",
       "    .dataframe tbody tr th {\n",
       "        vertical-align: top;\n",
       "    }\n",
       "\n",
       "    .dataframe thead th {\n",
       "        text-align: right;\n",
       "    }\n",
       "</style>\n",
       "<table border=\"1\" class=\"dataframe\">\n",
       "  <thead>\n",
       "    <tr style=\"text-align: right;\">\n",
       "      <th></th>\n",
       "      <th>gene</th>\n",
       "      <th>gene_name</th>\n",
       "      <th>zscore</th>\n",
       "      <th>effect_size</th>\n",
       "      <th>pvalue</th>\n",
       "      <th>var_g</th>\n",
       "      <th>pred_perf_r2</th>\n",
       "      <th>pred_perf_pval</th>\n",
       "      <th>pred_perf_qval</th>\n",
       "      <th>n_snps_used</th>\n",
       "      <th>n_snps_in_cov</th>\n",
       "      <th>n_snps_in_model</th>\n",
       "      <th>best_gwas_p</th>\n",
       "      <th>largest_weight</th>\n",
       "    </tr>\n",
       "  </thead>\n",
       "  <tbody>\n",
       "    <tr>\n",
       "      <th>0</th>\n",
       "      <td>ENSG00000188266.13</td>\n",
       "      <td>HYKK</td>\n",
       "      <td>-7.977829</td>\n",
       "      <td>NaN</td>\n",
       "      <td>1.489290e-15</td>\n",
       "      <td>0.002663</td>\n",
       "      <td>NaN</td>\n",
       "      <td>NaN</td>\n",
       "      <td>NaN</td>\n",
       "      <td>1</td>\n",
       "      <td>1</td>\n",
       "      <td>1</td>\n",
       "      <td>1.489290e-15</td>\n",
       "      <td>0.076877</td>\n",
       "    </tr>\n",
       "    <tr>\n",
       "      <th>1</th>\n",
       "      <td>ENSG00000041357.15</td>\n",
       "      <td>PSMA4</td>\n",
       "      <td>7.580813</td>\n",
       "      <td>NaN</td>\n",
       "      <td>3.433968e-14</td>\n",
       "      <td>0.006043</td>\n",
       "      <td>NaN</td>\n",
       "      <td>NaN</td>\n",
       "      <td>NaN</td>\n",
       "      <td>3</td>\n",
       "      <td>3</td>\n",
       "      <td>3</td>\n",
       "      <td>1.884797e-15</td>\n",
       "      <td>0.161176</td>\n",
       "    </tr>\n",
       "    <tr>\n",
       "      <th>2</th>\n",
       "      <td>ENSG00000183049.12</td>\n",
       "      <td>CAMK1D</td>\n",
       "      <td>6.846095</td>\n",
       "      <td>NaN</td>\n",
       "      <td>7.589322e-12</td>\n",
       "      <td>0.059839</td>\n",
       "      <td>NaN</td>\n",
       "      <td>NaN</td>\n",
       "      <td>NaN</td>\n",
       "      <td>2</td>\n",
       "      <td>2</td>\n",
       "      <td>2</td>\n",
       "      <td>2.814849e-11</td>\n",
       "      <td>0.277173</td>\n",
       "    </tr>\n",
       "    <tr>\n",
       "      <th>3</th>\n",
       "      <td>ENSG00000165609.12</td>\n",
       "      <td>NUDT5</td>\n",
       "      <td>5.826954</td>\n",
       "      <td>NaN</td>\n",
       "      <td>5.644804e-09</td>\n",
       "      <td>0.005001</td>\n",
       "      <td>NaN</td>\n",
       "      <td>NaN</td>\n",
       "      <td>NaN</td>\n",
       "      <td>1</td>\n",
       "      <td>1</td>\n",
       "      <td>1</td>\n",
       "      <td>5.644804e-09</td>\n",
       "      <td>0.102943</td>\n",
       "    </tr>\n",
       "    <tr>\n",
       "      <th>4</th>\n",
       "      <td>ENSG00000198624.12</td>\n",
       "      <td>CCDC69</td>\n",
       "      <td>-5.352389</td>\n",
       "      <td>NaN</td>\n",
       "      <td>8.680055e-08</td>\n",
       "      <td>0.028808</td>\n",
       "      <td>NaN</td>\n",
       "      <td>NaN</td>\n",
       "      <td>NaN</td>\n",
       "      <td>4</td>\n",
       "      <td>4</td>\n",
       "      <td>4</td>\n",
       "      <td>1.032419e-07</td>\n",
       "      <td>0.170673</td>\n",
       "    </tr>\n",
       "  </tbody>\n",
       "</table>\n",
       "</div>"
      ],
      "text/plain": [
       "                 gene gene_name    zscore  effect_size        pvalue  \\\n",
       "0  ENSG00000188266.13      HYKK -7.977829          NaN  1.489290e-15   \n",
       "1  ENSG00000041357.15     PSMA4  7.580813          NaN  3.433968e-14   \n",
       "2  ENSG00000183049.12    CAMK1D  6.846095          NaN  7.589322e-12   \n",
       "3  ENSG00000165609.12     NUDT5  5.826954          NaN  5.644804e-09   \n",
       "4  ENSG00000198624.12    CCDC69 -5.352389          NaN  8.680055e-08   \n",
       "\n",
       "      var_g  pred_perf_r2  pred_perf_pval  pred_perf_qval  n_snps_used  \\\n",
       "0  0.002663           NaN             NaN             NaN            1   \n",
       "1  0.006043           NaN             NaN             NaN            3   \n",
       "2  0.059839           NaN             NaN             NaN            2   \n",
       "3  0.005001           NaN             NaN             NaN            1   \n",
       "4  0.028808           NaN             NaN             NaN            4   \n",
       "\n",
       "   n_snps_in_cov  n_snps_in_model   best_gwas_p  largest_weight  \n",
       "0              1                1  1.489290e-15        0.076877  \n",
       "1              3                3  1.884797e-15        0.161176  \n",
       "2              2                2  2.814849e-11        0.277173  \n",
       "3              1                1  5.644804e-09        0.102943  \n",
       "4              4                4  1.032419e-07        0.170673  "
      ]
     },
     "execution_count": 61,
     "metadata": {},
     "output_type": "execute_result"
    }
   ],
   "source": [
    "# look at the structure of one result\n",
    "pd.read_csv(spredixcan_result_files[\"Whole_Blood\"]).head()"
   ]
  },
  {
   "cell_type": "code",
   "execution_count": 62,
   "id": "4381b9ff-6ab5-47f1-89d1-560f88fdf07f",
   "metadata": {
    "execution": {
     "iopub.execute_input": "2022-11-29T22:08:52.324771Z",
     "iopub.status.busy": "2022-11-29T22:08:52.324325Z",
     "iopub.status.idle": "2022-11-29T22:08:52.341532Z",
     "shell.execute_reply": "2022-11-29T22:08:52.341042Z"
    },
    "papermill": {
     "duration": 0.033025,
     "end_time": "2022-11-29T22:08:52.342334",
     "exception": false,
     "start_time": "2022-11-29T22:08:52.309309",
     "status": "completed"
    },
    "tags": []
   },
   "outputs": [],
   "source": [
    "assert all(f.exists() for f in spredixcan_result_files.values())"
   ]
  },
  {
   "cell_type": "code",
   "execution_count": 63,
   "id": "d477157f-51e9-4c7c-b826-7ab5f4fdf3e3",
   "metadata": {
    "execution": {
     "iopub.execute_input": "2022-11-29T22:08:52.372193Z",
     "iopub.status.busy": "2022-11-29T22:08:52.371648Z",
     "iopub.status.idle": "2022-11-29T22:08:53.037358Z",
     "shell.execute_reply": "2022-11-29T22:08:53.036913Z"
    },
    "papermill": {
     "duration": 0.682271,
     "end_time": "2022-11-29T22:08:53.039045",
     "exception": false,
     "start_time": "2022-11-29T22:08:52.356774",
     "status": "completed"
    },
    "tags": []
   },
   "outputs": [],
   "source": [
    "spredixcan_dfs = [\n",
    "    pd.read_csv(\n",
    "        f,\n",
    "        usecols=[\n",
    "            \"gene\",\n",
    "            \"zscore\",\n",
    "            \"pvalue\",\n",
    "            \"n_snps_used\",\n",
    "            \"n_snps_in_model\",\n",
    "        ],\n",
    "    )\n",
    "    .dropna(subset=[\"gene\", \"zscore\", \"pvalue\"])\n",
    "    .assign(tissue=t)\n",
    "    for t, f in spredixcan_result_files.items()\n",
    "]"
   ]
  },
  {
   "cell_type": "code",
   "execution_count": 64,
   "id": "9730bd37-b769-411f-bb6b-bb658d1ff88c",
   "metadata": {
    "execution": {
     "iopub.execute_input": "2022-11-29T22:08:53.095501Z",
     "iopub.status.busy": "2022-11-29T22:08:53.095391Z",
     "iopub.status.idle": "2022-11-29T22:08:53.105440Z",
     "shell.execute_reply": "2022-11-29T22:08:53.105081Z"
    },
    "papermill": {
     "duration": 0.039386,
     "end_time": "2022-11-29T22:08:53.106737",
     "exception": false,
     "start_time": "2022-11-29T22:08:53.067351",
     "status": "completed"
    },
    "tags": []
   },
   "outputs": [],
   "source": [
    "assert len(spredixcan_dfs) == len(prediction_model_tissues)"
   ]
  },
  {
   "cell_type": "code",
   "execution_count": 65,
   "id": "bcd73f53-1283-4ff6-bbb5-25fb71f5cb72",
   "metadata": {
    "execution": {
     "iopub.execute_input": "2022-11-29T22:08:53.155769Z",
     "iopub.status.busy": "2022-11-29T22:08:53.155662Z",
     "iopub.status.idle": "2022-11-29T22:08:53.188185Z",
     "shell.execute_reply": "2022-11-29T22:08:53.187647Z"
    },
    "papermill": {
     "duration": 0.055186,
     "end_time": "2022-11-29T22:08:53.189144",
     "exception": false,
     "start_time": "2022-11-29T22:08:53.133958",
     "status": "completed"
    },
    "tags": []
   },
   "outputs": [],
   "source": [
    "spredixcan_dfs = pd.concat(spredixcan_dfs)"
   ]
  },
  {
   "cell_type": "code",
   "execution_count": 66,
   "id": "ae99c7b5-14fc-4b39-a6b2-40fc703acd0a",
   "metadata": {
    "execution": {
     "iopub.execute_input": "2022-11-29T22:08:53.219083Z",
     "iopub.status.busy": "2022-11-29T22:08:53.218813Z",
     "iopub.status.idle": "2022-11-29T22:08:53.265252Z",
     "shell.execute_reply": "2022-11-29T22:08:53.264661Z"
    },
    "papermill": {
     "duration": 0.062265,
     "end_time": "2022-11-29T22:08:53.266140",
     "exception": false,
     "start_time": "2022-11-29T22:08:53.203875",
     "status": "completed"
    },
    "tags": []
   },
   "outputs": [],
   "source": [
    "assert spredixcan_dfs[\"tissue\"].unique().shape[0] == len(prediction_model_tissues)"
   ]
  },
  {
   "cell_type": "code",
   "execution_count": 67,
   "id": "b7223a23-e40f-4cd3-8988-72033f8739bd",
   "metadata": {
    "execution": {
     "iopub.execute_input": "2022-11-29T22:08:53.295804Z",
     "iopub.status.busy": "2022-11-29T22:08:53.295542Z",
     "iopub.status.idle": "2022-11-29T22:08:53.309666Z",
     "shell.execute_reply": "2022-11-29T22:08:53.309222Z"
    },
    "papermill": {
     "duration": 0.029758,
     "end_time": "2022-11-29T22:08:53.310507",
     "exception": false,
     "start_time": "2022-11-29T22:08:53.280749",
     "status": "completed"
    },
    "tags": []
   },
   "outputs": [
    {
     "data": {
      "text/plain": [
       "(659087, 6)"
      ]
     },
     "execution_count": 67,
     "metadata": {},
     "output_type": "execute_result"
    }
   ],
   "source": [
    "spredixcan_dfs.shape"
   ]
  },
  {
   "cell_type": "code",
   "execution_count": 68,
   "id": "4987073a-3b70-4162-93fb-beeb351ebfe0",
   "metadata": {
    "execution": {
     "iopub.execute_input": "2022-11-29T22:08:53.345420Z",
     "iopub.status.busy": "2022-11-29T22:08:53.344649Z",
     "iopub.status.idle": "2022-11-29T22:08:53.532531Z",
     "shell.execute_reply": "2022-11-29T22:08:53.532078Z"
    },
    "papermill": {
     "duration": 0.208429,
     "end_time": "2022-11-29T22:08:53.533470",
     "exception": false,
     "start_time": "2022-11-29T22:08:53.325041",
     "status": "completed"
    },
    "tags": []
   },
   "outputs": [],
   "source": [
    "spredixcan_dfs = spredixcan_dfs.assign(\n",
    "    gene_id=spredixcan_dfs[\"gene\"].apply(lambda g: g.split(\".\")[0])\n",
    ")"
   ]
  },
  {
   "cell_type": "code",
   "execution_count": 69,
   "id": "6b47d026-01c0-4f7c-a90e-f0baa13235f4",
   "metadata": {
    "execution": {
     "iopub.execute_input": "2022-11-29T22:08:53.563617Z",
     "iopub.status.busy": "2022-11-29T22:08:53.563390Z",
     "iopub.status.idle": "2022-11-29T22:08:53.577231Z",
     "shell.execute_reply": "2022-11-29T22:08:53.576875Z"
    },
    "papermill": {
     "duration": 0.029454,
     "end_time": "2022-11-29T22:08:53.577934",
     "exception": false,
     "start_time": "2022-11-29T22:08:53.548480",
     "status": "completed"
    },
    "tags": []
   },
   "outputs": [
    {
     "data": {
      "text/html": [
       "<div>\n",
       "<style scoped>\n",
       "    .dataframe tbody tr th:only-of-type {\n",
       "        vertical-align: middle;\n",
       "    }\n",
       "\n",
       "    .dataframe tbody tr th {\n",
       "        vertical-align: top;\n",
       "    }\n",
       "\n",
       "    .dataframe thead th {\n",
       "        text-align: right;\n",
       "    }\n",
       "</style>\n",
       "<table border=\"1\" class=\"dataframe\">\n",
       "  <thead>\n",
       "    <tr style=\"text-align: right;\">\n",
       "      <th></th>\n",
       "      <th>gene</th>\n",
       "      <th>zscore</th>\n",
       "      <th>pvalue</th>\n",
       "      <th>n_snps_used</th>\n",
       "      <th>n_snps_in_model</th>\n",
       "      <th>tissue</th>\n",
       "      <th>gene_id</th>\n",
       "    </tr>\n",
       "  </thead>\n",
       "  <tbody>\n",
       "    <tr>\n",
       "      <th>0</th>\n",
       "      <td>ENSG00000204385.10</td>\n",
       "      <td>5.449554</td>\n",
       "      <td>5.049626e-08</td>\n",
       "      <td>3</td>\n",
       "      <td>3</td>\n",
       "      <td>Thyroid</td>\n",
       "      <td>ENSG00000204385</td>\n",
       "    </tr>\n",
       "    <tr>\n",
       "      <th>1</th>\n",
       "      <td>ENSG00000135074.15</td>\n",
       "      <td>5.281442</td>\n",
       "      <td>1.281709e-07</td>\n",
       "      <td>2</td>\n",
       "      <td>2</td>\n",
       "      <td>Thyroid</td>\n",
       "      <td>ENSG00000135074</td>\n",
       "    </tr>\n",
       "    <tr>\n",
       "      <th>2</th>\n",
       "      <td>ENSG00000244731.7</td>\n",
       "      <td>-4.999106</td>\n",
       "      <td>5.759674e-07</td>\n",
       "      <td>2</td>\n",
       "      <td>2</td>\n",
       "      <td>Thyroid</td>\n",
       "      <td>ENSG00000244731</td>\n",
       "    </tr>\n",
       "    <tr>\n",
       "      <th>3</th>\n",
       "      <td>ENSG00000166822.12</td>\n",
       "      <td>-4.994474</td>\n",
       "      <td>5.899636e-07</td>\n",
       "      <td>1</td>\n",
       "      <td>1</td>\n",
       "      <td>Thyroid</td>\n",
       "      <td>ENSG00000166822</td>\n",
       "    </tr>\n",
       "    <tr>\n",
       "      <th>4</th>\n",
       "      <td>ENSG00000168769.13</td>\n",
       "      <td>4.899470</td>\n",
       "      <td>9.609559e-07</td>\n",
       "      <td>1</td>\n",
       "      <td>1</td>\n",
       "      <td>Thyroid</td>\n",
       "      <td>ENSG00000168769</td>\n",
       "    </tr>\n",
       "  </tbody>\n",
       "</table>\n",
       "</div>"
      ],
      "text/plain": [
       "                 gene    zscore        pvalue  n_snps_used  n_snps_in_model  \\\n",
       "0  ENSG00000204385.10  5.449554  5.049626e-08            3                3   \n",
       "1  ENSG00000135074.15  5.281442  1.281709e-07            2                2   \n",
       "2   ENSG00000244731.7 -4.999106  5.759674e-07            2                2   \n",
       "3  ENSG00000166822.12 -4.994474  5.899636e-07            1                1   \n",
       "4  ENSG00000168769.13  4.899470  9.609559e-07            1                1   \n",
       "\n",
       "    tissue          gene_id  \n",
       "0  Thyroid  ENSG00000204385  \n",
       "1  Thyroid  ENSG00000135074  \n",
       "2  Thyroid  ENSG00000244731  \n",
       "3  Thyroid  ENSG00000166822  \n",
       "4  Thyroid  ENSG00000168769  "
      ]
     },
     "execution_count": 69,
     "metadata": {},
     "output_type": "execute_result"
    }
   ],
   "source": [
    "spredixcan_dfs.head()"
   ]
  },
  {
   "cell_type": "code",
   "execution_count": 70,
   "id": "d5dbdb2e-b7eb-4665-9fd4-9ce714d6af0c",
   "metadata": {
    "execution": {
     "iopub.execute_input": "2022-11-29T22:08:53.608019Z",
     "iopub.status.busy": "2022-11-29T22:08:53.607796Z",
     "iopub.status.idle": "2022-11-29T22:08:53.695525Z",
     "shell.execute_reply": "2022-11-29T22:08:53.695080Z"
    },
    "papermill": {
     "duration": 0.10364,
     "end_time": "2022-11-29T22:08:53.696414",
     "exception": false,
     "start_time": "2022-11-29T22:08:53.592774",
     "status": "completed"
    },
    "tags": []
   },
   "outputs": [],
   "source": [
    "# leave only common genes\n",
    "spredixcan_dfs = spredixcan_dfs[spredixcan_dfs[\"gene_id\"].isin(set(genes_info[\"id\"]))]"
   ]
  },
  {
   "cell_type": "code",
   "execution_count": 71,
   "id": "8d34f99a-6b43-47aa-bb07-dfc67e169538",
   "metadata": {
    "execution": {
     "iopub.execute_input": "2022-11-29T22:08:53.726491Z",
     "iopub.status.busy": "2022-11-29T22:08:53.726379Z",
     "iopub.status.idle": "2022-11-29T22:08:53.736978Z",
     "shell.execute_reply": "2022-11-29T22:08:53.736625Z"
    },
    "papermill": {
     "duration": 0.02638,
     "end_time": "2022-11-29T22:08:53.737678",
     "exception": false,
     "start_time": "2022-11-29T22:08:53.711298",
     "status": "completed"
    },
    "tags": []
   },
   "outputs": [
    {
     "data": {
      "text/plain": [
       "(235749, 7)"
      ]
     },
     "execution_count": 71,
     "metadata": {},
     "output_type": "execute_result"
    }
   ],
   "source": [
    "spredixcan_dfs.shape"
   ]
  },
  {
   "cell_type": "markdown",
   "id": "5ecfd141-ecb8-47cf-905e-25cc1b4d3f9d",
   "metadata": {
    "papermill": {
     "duration": 0.014511,
     "end_time": "2022-11-29T22:08:53.767020",
     "exception": false,
     "start_time": "2022-11-29T22:08:53.752509",
     "status": "completed"
    },
    "tags": []
   },
   "source": [
    "### Count number of tissues available per gene"
   ]
  },
  {
   "cell_type": "code",
   "execution_count": 72,
   "id": "86fe37e1-a303-4221-a12e-3a54a04dd510",
   "metadata": {
    "execution": {
     "iopub.execute_input": "2022-11-29T22:08:53.797009Z",
     "iopub.status.busy": "2022-11-29T22:08:53.796783Z",
     "iopub.status.idle": "2022-11-29T22:08:53.882916Z",
     "shell.execute_reply": "2022-11-29T22:08:53.882479Z"
    },
    "papermill": {
     "duration": 0.102274,
     "end_time": "2022-11-29T22:08:53.884008",
     "exception": false,
     "start_time": "2022-11-29T22:08:53.781734",
     "status": "completed"
    },
    "tags": []
   },
   "outputs": [],
   "source": [
    "spredixcan_genes_n_models = spredixcan_dfs.groupby(\"gene_id\")[\"tissue\"].nunique()"
   ]
  },
  {
   "cell_type": "code",
   "execution_count": 73,
   "id": "31416d48-1e4d-463f-9a5c-34d29803c3f8",
   "metadata": {
    "execution": {
     "iopub.execute_input": "2022-11-29T22:08:53.915231Z",
     "iopub.status.busy": "2022-11-29T22:08:53.914984Z",
     "iopub.status.idle": "2022-11-29T22:08:53.926805Z",
     "shell.execute_reply": "2022-11-29T22:08:53.926453Z"
    },
    "papermill": {
     "duration": 0.028147,
     "end_time": "2022-11-29T22:08:53.927567",
     "exception": false,
     "start_time": "2022-11-29T22:08:53.899420",
     "status": "completed"
    },
    "tags": []
   },
   "outputs": [
    {
     "data": {
      "text/plain": [
       "gene_id\n",
       "ENSG00000000419     2\n",
       "ENSG00000000938    36\n",
       "ENSG00000000971    34\n",
       "ENSG00000001084    32\n",
       "ENSG00000001167    40\n",
       "                   ..\n",
       "ENSG00000278540    36\n",
       "ENSG00000278828     4\n",
       "ENSG00000278845    49\n",
       "ENSG00000281005    49\n",
       "ENSG00000282608    36\n",
       "Name: tissue, Length: 6443, dtype: int64"
      ]
     },
     "execution_count": 73,
     "metadata": {},
     "output_type": "execute_result"
    }
   ],
   "source": [
    "spredixcan_genes_n_models"
   ]
  },
  {
   "cell_type": "code",
   "execution_count": 74,
   "id": "d737ad4f-f821-4546-9a3e-6703fe264b49",
   "metadata": {
    "execution": {
     "iopub.execute_input": "2022-11-29T22:08:53.957746Z",
     "iopub.status.busy": "2022-11-29T22:08:53.957621Z",
     "iopub.status.idle": "2022-11-29T22:08:53.986296Z",
     "shell.execute_reply": "2022-11-29T22:08:53.985752Z"
    },
    "papermill": {
     "duration": 0.044682,
     "end_time": "2022-11-29T22:08:53.987167",
     "exception": false,
     "start_time": "2022-11-29T22:08:53.942485",
     "status": "completed"
    },
    "tags": []
   },
   "outputs": [],
   "source": [
    "# testing that in S-MultiXcan I get the same number of tissues per gene\n",
    "_tmp_smultixcan_results_n_models = (\n",
    "    smultixcan_results.set_index(\"gene_id\")[\"n\"].astype(int).rename(\"tissue\")\n",
    ")\n",
    "\n",
    "_cg = _tmp_smultixcan_results_n_models.index.intersection(\n",
    "    spredixcan_genes_n_models.index\n",
    ")\n",
    "_tmp_smultixcan_results_n_models = _tmp_smultixcan_results_n_models.loc[_cg]\n",
    "_spredixcan = spredixcan_genes_n_models.loc[_cg]\n",
    "\n",
    "assert _spredixcan.shape[0] == _tmp_smultixcan_results_n_models.shape[0]\n",
    "assert _spredixcan.equals(_tmp_smultixcan_results_n_models.loc[_spredixcan.index])"
   ]
  },
  {
   "cell_type": "markdown",
   "id": "904d7d30-9c2d-4c3e-b674-3f081954fe8b",
   "metadata": {
    "papermill": {
     "duration": 0.014408,
     "end_time": "2022-11-29T22:08:54.016167",
     "exception": false,
     "start_time": "2022-11-29T22:08:54.001759",
     "status": "completed"
    },
    "tags": []
   },
   "source": [
    "### Get tissues available per gene"
   ]
  },
  {
   "cell_type": "code",
   "execution_count": 75,
   "id": "cf014e81-4b4e-4c46-9265-67718b3ab08e",
   "metadata": {
    "execution": {
     "iopub.execute_input": "2022-11-29T22:08:54.069973Z",
     "iopub.status.busy": "2022-11-29T22:08:54.069633Z",
     "iopub.status.idle": "2022-11-29T22:08:54.206637Z",
     "shell.execute_reply": "2022-11-29T22:08:54.206189Z"
    },
    "papermill": {
     "duration": 0.153794,
     "end_time": "2022-11-29T22:08:54.207802",
     "exception": false,
     "start_time": "2022-11-29T22:08:54.054008",
     "status": "completed"
    },
    "tags": []
   },
   "outputs": [],
   "source": [
    "spredixcan_genes_models = spredixcan_dfs.groupby(\"gene_id\")[\"tissue\"].apply(\n",
    "    lambda x: frozenset(x.tolist())\n",
    ")"
   ]
  },
  {
   "cell_type": "code",
   "execution_count": 76,
   "id": "5df09d7f-39c9-408f-9fef-5189e8ca1c87",
   "metadata": {
    "execution": {
     "iopub.execute_input": "2022-11-29T22:08:54.239405Z",
     "iopub.status.busy": "2022-11-29T22:08:54.239293Z",
     "iopub.status.idle": "2022-11-29T22:08:54.252221Z",
     "shell.execute_reply": "2022-11-29T22:08:54.251858Z"
    },
    "papermill": {
     "duration": 0.029435,
     "end_time": "2022-11-29T22:08:54.252985",
     "exception": false,
     "start_time": "2022-11-29T22:08:54.223550",
     "status": "completed"
    },
    "tags": []
   },
   "outputs": [
    {
     "data": {
      "text/plain": [
       "gene_id\n",
       "ENSG00000000419         (Brain_Hypothalamus, Brain_Substantia_nigra)\n",
       "ENSG00000000938    (Brain_Frontal_Cortex_BA9, Nerve_Tibial, Brain...\n",
       "ENSG00000000971    (Brain_Frontal_Cortex_BA9, Nerve_Tibial, Brain...\n",
       "ENSG00000001084    (Brain_Frontal_Cortex_BA9, Nerve_Tibial, Brain...\n",
       "ENSG00000001167    (Nerve_Tibial, Brain_Putamen_basal_ganglia, Br...\n",
       "                                         ...                        \n",
       "ENSG00000278540    (Brain_Frontal_Cortex_BA9, Nerve_Tibial, Brain...\n",
       "ENSG00000278828    (Esophagus_Muscularis, Artery_Coronary, Cells_...\n",
       "ENSG00000278845    (Brain_Frontal_Cortex_BA9, Nerve_Tibial, Brain...\n",
       "ENSG00000281005    (Brain_Frontal_Cortex_BA9, Nerve_Tibial, Brain...\n",
       "ENSG00000282608    (Brain_Frontal_Cortex_BA9, Nerve_Tibial, Brain...\n",
       "Name: tissue, Length: 6443, dtype: object"
      ]
     },
     "execution_count": 76,
     "metadata": {},
     "output_type": "execute_result"
    }
   ],
   "source": [
    "spredixcan_genes_models"
   ]
  },
  {
   "cell_type": "code",
   "execution_count": 77,
   "id": "97c46886-5a48-4813-b890-1dcdb09ec09d",
   "metadata": {
    "execution": {
     "iopub.execute_input": "2022-11-29T22:08:54.283569Z",
     "iopub.status.busy": "2022-11-29T22:08:54.283349Z",
     "iopub.status.idle": "2022-11-29T22:08:54.293557Z",
     "shell.execute_reply": "2022-11-29T22:08:54.293206Z"
    },
    "papermill": {
     "duration": 0.026322,
     "end_time": "2022-11-29T22:08:54.294318",
     "exception": false,
     "start_time": "2022-11-29T22:08:54.267996",
     "status": "completed"
    },
    "tags": []
   },
   "outputs": [],
   "source": [
    "assert spredixcan_genes_n_models.shape[0] == spredixcan_genes_models.shape[0]"
   ]
  },
  {
   "cell_type": "code",
   "execution_count": 78,
   "id": "abc13913-a681-4297-a0e6-dde62f43c36f",
   "metadata": {
    "execution": {
     "iopub.execute_input": "2022-11-29T22:08:54.325046Z",
     "iopub.status.busy": "2022-11-29T22:08:54.324925Z",
     "iopub.status.idle": "2022-11-29T22:08:54.339544Z",
     "shell.execute_reply": "2022-11-29T22:08:54.339066Z"
    },
    "papermill": {
     "duration": 0.030803,
     "end_time": "2022-11-29T22:08:54.340342",
     "exception": false,
     "start_time": "2022-11-29T22:08:54.309539",
     "status": "completed"
    },
    "tags": []
   },
   "outputs": [],
   "source": [
    "assert spredixcan_genes_n_models.index.equals(spredixcan_genes_models.index)"
   ]
  },
  {
   "cell_type": "code",
   "execution_count": 79,
   "id": "995a02e7-b836-471b-b438-17c8c46e4fde",
   "metadata": {
    "execution": {
     "iopub.execute_input": "2022-11-29T22:08:54.371267Z",
     "iopub.status.busy": "2022-11-29T22:08:54.371072Z",
     "iopub.status.idle": "2022-11-29T22:08:54.388529Z",
     "shell.execute_reply": "2022-11-29T22:08:54.388030Z"
    },
    "papermill": {
     "duration": 0.033994,
     "end_time": "2022-11-29T22:08:54.389419",
     "exception": false,
     "start_time": "2022-11-29T22:08:54.355425",
     "status": "completed"
    },
    "tags": []
   },
   "outputs": [],
   "source": [
    "assert (spredixcan_genes_models.apply(len) <= len(prediction_model_tissues)).all()"
   ]
  },
  {
   "cell_type": "code",
   "execution_count": 80,
   "id": "0c1d0c68-1a06-480c-b6d6-d3c4fdf0f5aa",
   "metadata": {
    "execution": {
     "iopub.execute_input": "2022-11-29T22:08:54.420472Z",
     "iopub.status.busy": "2022-11-29T22:08:54.420162Z",
     "iopub.status.idle": "2022-11-29T22:08:54.441686Z",
     "shell.execute_reply": "2022-11-29T22:08:54.441194Z"
    },
    "papermill": {
     "duration": 0.037797,
     "end_time": "2022-11-29T22:08:54.442490",
     "exception": false,
     "start_time": "2022-11-29T22:08:54.404693",
     "status": "completed"
    },
    "tags": []
   },
   "outputs": [
    {
     "data": {
      "text/plain": [
       "count    6443.000000\n",
       "mean       36.589943\n",
       "std        12.865559\n",
       "min         1.000000\n",
       "25%        29.000000\n",
       "50%        42.000000\n",
       "75%        47.000000\n",
       "max        49.000000\n",
       "Name: tissue, dtype: float64"
      ]
     },
     "execution_count": 80,
     "metadata": {},
     "output_type": "execute_result"
    }
   ],
   "source": [
    "spredixcan_genes_models.apply(len).describe()"
   ]
  },
  {
   "cell_type": "code",
   "execution_count": 81,
   "id": "991b9441-6bb5-4b72-9285-5fd579875e40",
   "metadata": {
    "execution": {
     "iopub.execute_input": "2022-11-29T22:08:54.473797Z",
     "iopub.status.busy": "2022-11-29T22:08:54.473599Z",
     "iopub.status.idle": "2022-11-29T22:08:54.493495Z",
     "shell.execute_reply": "2022-11-29T22:08:54.492999Z"
    },
    "papermill": {
     "duration": 0.036578,
     "end_time": "2022-11-29T22:08:54.494361",
     "exception": false,
     "start_time": "2022-11-29T22:08:54.457783",
     "status": "completed"
    },
    "tags": []
   },
   "outputs": [],
   "source": [
    "# testing that I obtained the right number of tissues\n",
    "assert (\n",
    "    spredixcan_genes_models.loc[spredixcan_genes_n_models.index]\n",
    "    .apply(len)\n",
    "    .equals(spredixcan_genes_n_models)\n",
    ")"
   ]
  },
  {
   "cell_type": "markdown",
   "id": "3042b22d-9d88-4e21-b112-ab23cf8d24ea",
   "metadata": {
    "papermill": {
     "duration": 0.015182,
     "end_time": "2022-11-29T22:08:54.524821",
     "exception": false,
     "start_time": "2022-11-29T22:08:54.509639",
     "status": "completed"
    },
    "tags": []
   },
   "source": [
    "### Add gene name and set index"
   ]
  },
  {
   "cell_type": "code",
   "execution_count": 82,
   "id": "3b7b0e76-7aca-44bf-beff-5f1c1b6193ee",
   "metadata": {
    "execution": {
     "iopub.execute_input": "2022-11-29T22:08:54.555909Z",
     "iopub.status.busy": "2022-11-29T22:08:54.555710Z",
     "iopub.status.idle": "2022-11-29T22:08:54.571773Z",
     "shell.execute_reply": "2022-11-29T22:08:54.571274Z"
    },
    "papermill": {
     "duration": 0.032653,
     "end_time": "2022-11-29T22:08:54.572612",
     "exception": false,
     "start_time": "2022-11-29T22:08:54.539959",
     "status": "completed"
    },
    "tags": []
   },
   "outputs": [],
   "source": [
    "spredixcan_genes_models = spredixcan_genes_models.to_frame().reset_index()"
   ]
  },
  {
   "cell_type": "code",
   "execution_count": 83,
   "id": "ffab4b61-c2d4-4bcc-a147-23a4bf30f715",
   "metadata": {
    "execution": {
     "iopub.execute_input": "2022-11-29T22:08:54.604119Z",
     "iopub.status.busy": "2022-11-29T22:08:54.603563Z",
     "iopub.status.idle": "2022-11-29T22:08:54.623755Z",
     "shell.execute_reply": "2022-11-29T22:08:54.623278Z"
    },
    "papermill": {
     "duration": 0.036742,
     "end_time": "2022-11-29T22:08:54.624561",
     "exception": false,
     "start_time": "2022-11-29T22:08:54.587819",
     "status": "completed"
    },
    "tags": []
   },
   "outputs": [
    {
     "data": {
      "text/html": [
       "<div>\n",
       "<style scoped>\n",
       "    .dataframe tbody tr th:only-of-type {\n",
       "        vertical-align: middle;\n",
       "    }\n",
       "\n",
       "    .dataframe tbody tr th {\n",
       "        vertical-align: top;\n",
       "    }\n",
       "\n",
       "    .dataframe thead th {\n",
       "        text-align: right;\n",
       "    }\n",
       "</style>\n",
       "<table border=\"1\" class=\"dataframe\">\n",
       "  <thead>\n",
       "    <tr style=\"text-align: right;\">\n",
       "      <th></th>\n",
       "      <th>gene_id</th>\n",
       "      <th>tissue</th>\n",
       "    </tr>\n",
       "  </thead>\n",
       "  <tbody>\n",
       "    <tr>\n",
       "      <th>0</th>\n",
       "      <td>ENSG00000000419</td>\n",
       "      <td>(Brain_Hypothalamus, Brain_Substantia_nigra)</td>\n",
       "    </tr>\n",
       "    <tr>\n",
       "      <th>1</th>\n",
       "      <td>ENSG00000000938</td>\n",
       "      <td>(Brain_Frontal_Cortex_BA9, Nerve_Tibial, Brain...</td>\n",
       "    </tr>\n",
       "    <tr>\n",
       "      <th>2</th>\n",
       "      <td>ENSG00000000971</td>\n",
       "      <td>(Brain_Frontal_Cortex_BA9, Nerve_Tibial, Brain...</td>\n",
       "    </tr>\n",
       "    <tr>\n",
       "      <th>3</th>\n",
       "      <td>ENSG00000001084</td>\n",
       "      <td>(Brain_Frontal_Cortex_BA9, Nerve_Tibial, Brain...</td>\n",
       "    </tr>\n",
       "    <tr>\n",
       "      <th>4</th>\n",
       "      <td>ENSG00000001167</td>\n",
       "      <td>(Nerve_Tibial, Brain_Putamen_basal_ganglia, Br...</td>\n",
       "    </tr>\n",
       "  </tbody>\n",
       "</table>\n",
       "</div>"
      ],
      "text/plain": [
       "           gene_id                                             tissue\n",
       "0  ENSG00000000419       (Brain_Hypothalamus, Brain_Substantia_nigra)\n",
       "1  ENSG00000000938  (Brain_Frontal_Cortex_BA9, Nerve_Tibial, Brain...\n",
       "2  ENSG00000000971  (Brain_Frontal_Cortex_BA9, Nerve_Tibial, Brain...\n",
       "3  ENSG00000001084  (Brain_Frontal_Cortex_BA9, Nerve_Tibial, Brain...\n",
       "4  ENSG00000001167  (Nerve_Tibial, Brain_Putamen_basal_ganglia, Br..."
      ]
     },
     "execution_count": 83,
     "metadata": {},
     "output_type": "execute_result"
    }
   ],
   "source": [
    "spredixcan_genes_models.head()"
   ]
  },
  {
   "cell_type": "code",
   "execution_count": 84,
   "id": "e1cb2fe5-969f-4526-bca7-a3b8919b3509",
   "metadata": {
    "execution": {
     "iopub.execute_input": "2022-11-29T22:08:54.655937Z",
     "iopub.status.busy": "2022-11-29T22:08:54.655737Z",
     "iopub.status.idle": "2022-11-29T22:08:54.674666Z",
     "shell.execute_reply": "2022-11-29T22:08:54.674160Z"
    },
    "papermill": {
     "duration": 0.035542,
     "end_time": "2022-11-29T22:08:54.675483",
     "exception": false,
     "start_time": "2022-11-29T22:08:54.639941",
     "status": "completed"
    },
    "tags": []
   },
   "outputs": [],
   "source": [
    "spredixcan_genes_models = spredixcan_genes_models.assign(\n",
    "    gene_name=spredixcan_genes_models[\"gene_id\"].apply(\n",
    "        lambda g: Gene.GENE_ID_TO_NAME_MAP[g]\n",
    "    )\n",
    ")"
   ]
  },
  {
   "cell_type": "code",
   "execution_count": 85,
   "id": "ff078ce5-3f18-442e-a593-3326436c758e",
   "metadata": {
    "execution": {
     "iopub.execute_input": "2022-11-29T22:08:54.706854Z",
     "iopub.status.busy": "2022-11-29T22:08:54.706657Z",
     "iopub.status.idle": "2022-11-29T22:08:54.723492Z",
     "shell.execute_reply": "2022-11-29T22:08:54.722992Z"
    },
    "papermill": {
     "duration": 0.033563,
     "end_time": "2022-11-29T22:08:54.724314",
     "exception": false,
     "start_time": "2022-11-29T22:08:54.690751",
     "status": "completed"
    },
    "tags": []
   },
   "outputs": [],
   "source": [
    "spredixcan_genes_models = spredixcan_genes_models[[\"gene_id\", \"gene_name\", \"tissue\"]]"
   ]
  },
  {
   "cell_type": "code",
   "execution_count": 86,
   "id": "a65c8bf2-5ecd-4f80-a857-11f8a0c019c4",
   "metadata": {
    "execution": {
     "iopub.execute_input": "2022-11-29T22:08:54.755746Z",
     "iopub.status.busy": "2022-11-29T22:08:54.755550Z",
     "iopub.status.idle": "2022-11-29T22:08:54.771424Z",
     "shell.execute_reply": "2022-11-29T22:08:54.770936Z"
    },
    "papermill": {
     "duration": 0.032565,
     "end_time": "2022-11-29T22:08:54.772277",
     "exception": false,
     "start_time": "2022-11-29T22:08:54.739712",
     "status": "completed"
    },
    "tags": []
   },
   "outputs": [],
   "source": [
    "spredixcan_genes_models = spredixcan_genes_models.set_index(\"gene_id\")"
   ]
  },
  {
   "cell_type": "code",
   "execution_count": 87,
   "id": "af6b40b9-fc58-47a1-a1b5-4404034b008b",
   "metadata": {
    "execution": {
     "iopub.execute_input": "2022-11-29T22:08:54.803658Z",
     "iopub.status.busy": "2022-11-29T22:08:54.803461Z",
     "iopub.status.idle": "2022-11-29T22:08:54.823906Z",
     "shell.execute_reply": "2022-11-29T22:08:54.823430Z"
    },
    "papermill": {
     "duration": 0.037237,
     "end_time": "2022-11-29T22:08:54.824715",
     "exception": false,
     "start_time": "2022-11-29T22:08:54.787478",
     "status": "completed"
    },
    "tags": []
   },
   "outputs": [
    {
     "data": {
      "text/html": [
       "<div>\n",
       "<style scoped>\n",
       "    .dataframe tbody tr th:only-of-type {\n",
       "        vertical-align: middle;\n",
       "    }\n",
       "\n",
       "    .dataframe tbody tr th {\n",
       "        vertical-align: top;\n",
       "    }\n",
       "\n",
       "    .dataframe thead th {\n",
       "        text-align: right;\n",
       "    }\n",
       "</style>\n",
       "<table border=\"1\" class=\"dataframe\">\n",
       "  <thead>\n",
       "    <tr style=\"text-align: right;\">\n",
       "      <th></th>\n",
       "      <th>gene_name</th>\n",
       "      <th>tissue</th>\n",
       "    </tr>\n",
       "    <tr>\n",
       "      <th>gene_id</th>\n",
       "      <th></th>\n",
       "      <th></th>\n",
       "    </tr>\n",
       "  </thead>\n",
       "  <tbody>\n",
       "    <tr>\n",
       "      <th>ENSG00000000419</th>\n",
       "      <td>DPM1</td>\n",
       "      <td>(Brain_Hypothalamus, Brain_Substantia_nigra)</td>\n",
       "    </tr>\n",
       "    <tr>\n",
       "      <th>ENSG00000000938</th>\n",
       "      <td>FGR</td>\n",
       "      <td>(Brain_Frontal_Cortex_BA9, Nerve_Tibial, Brain...</td>\n",
       "    </tr>\n",
       "    <tr>\n",
       "      <th>ENSG00000000971</th>\n",
       "      <td>CFH</td>\n",
       "      <td>(Brain_Frontal_Cortex_BA9, Nerve_Tibial, Brain...</td>\n",
       "    </tr>\n",
       "    <tr>\n",
       "      <th>ENSG00000001084</th>\n",
       "      <td>GCLC</td>\n",
       "      <td>(Brain_Frontal_Cortex_BA9, Nerve_Tibial, Brain...</td>\n",
       "    </tr>\n",
       "    <tr>\n",
       "      <th>ENSG00000001167</th>\n",
       "      <td>NFYA</td>\n",
       "      <td>(Nerve_Tibial, Brain_Putamen_basal_ganglia, Br...</td>\n",
       "    </tr>\n",
       "  </tbody>\n",
       "</table>\n",
       "</div>"
      ],
      "text/plain": [
       "                gene_name                                             tissue\n",
       "gene_id                                                                     \n",
       "ENSG00000000419      DPM1       (Brain_Hypothalamus, Brain_Substantia_nigra)\n",
       "ENSG00000000938       FGR  (Brain_Frontal_Cortex_BA9, Nerve_Tibial, Brain...\n",
       "ENSG00000000971       CFH  (Brain_Frontal_Cortex_BA9, Nerve_Tibial, Brain...\n",
       "ENSG00000001084      GCLC  (Brain_Frontal_Cortex_BA9, Nerve_Tibial, Brain...\n",
       "ENSG00000001167      NFYA  (Nerve_Tibial, Brain_Putamen_basal_ganglia, Br..."
      ]
     },
     "execution_count": 87,
     "metadata": {},
     "output_type": "execute_result"
    }
   ],
   "source": [
    "spredixcan_genes_models.head()"
   ]
  },
  {
   "cell_type": "markdown",
   "id": "d1e67be9-9094-4a07-b89d-3a0815d503e6",
   "metadata": {
    "papermill": {
     "duration": 0.015299,
     "end_time": "2022-11-29T22:08:54.855551",
     "exception": false,
     "start_time": "2022-11-29T22:08:54.840252",
     "status": "completed"
    },
    "tags": []
   },
   "source": [
    "### Add number of tissues"
   ]
  },
  {
   "cell_type": "code",
   "execution_count": 88,
   "id": "b2702bdb-b3bc-48e6-9c3e-855924d9e74b",
   "metadata": {
    "execution": {
     "iopub.execute_input": "2022-11-29T22:08:54.887402Z",
     "iopub.status.busy": "2022-11-29T22:08:54.887099Z",
     "iopub.status.idle": "2022-11-29T22:08:54.905362Z",
     "shell.execute_reply": "2022-11-29T22:08:54.904857Z"
    },
    "papermill": {
     "duration": 0.035156,
     "end_time": "2022-11-29T22:08:54.906225",
     "exception": false,
     "start_time": "2022-11-29T22:08:54.871069",
     "status": "completed"
    },
    "tags": []
   },
   "outputs": [],
   "source": [
    "spredixcan_genes_models = spredixcan_genes_models.assign(\n",
    "    n_tissues=spredixcan_genes_models[\"tissue\"].apply(len)\n",
    ")"
   ]
  },
  {
   "cell_type": "code",
   "execution_count": 89,
   "id": "4a5eb4b8-5e11-45a3-a991-0515bd83fc03",
   "metadata": {
    "execution": {
     "iopub.execute_input": "2022-11-29T22:08:54.939630Z",
     "iopub.status.busy": "2022-11-29T22:08:54.939083Z",
     "iopub.status.idle": "2022-11-29T22:08:54.960422Z",
     "shell.execute_reply": "2022-11-29T22:08:54.959936Z"
    },
    "papermill": {
     "duration": 0.038379,
     "end_time": "2022-11-29T22:08:54.961226",
     "exception": false,
     "start_time": "2022-11-29T22:08:54.922847",
     "status": "completed"
    },
    "tags": []
   },
   "outputs": [
    {
     "data": {
      "text/html": [
       "<div>\n",
       "<style scoped>\n",
       "    .dataframe tbody tr th:only-of-type {\n",
       "        vertical-align: middle;\n",
       "    }\n",
       "\n",
       "    .dataframe tbody tr th {\n",
       "        vertical-align: top;\n",
       "    }\n",
       "\n",
       "    .dataframe thead th {\n",
       "        text-align: right;\n",
       "    }\n",
       "</style>\n",
       "<table border=\"1\" class=\"dataframe\">\n",
       "  <thead>\n",
       "    <tr style=\"text-align: right;\">\n",
       "      <th></th>\n",
       "      <th>gene_name</th>\n",
       "      <th>tissue</th>\n",
       "      <th>n_tissues</th>\n",
       "    </tr>\n",
       "    <tr>\n",
       "      <th>gene_id</th>\n",
       "      <th></th>\n",
       "      <th></th>\n",
       "      <th></th>\n",
       "    </tr>\n",
       "  </thead>\n",
       "  <tbody>\n",
       "    <tr>\n",
       "      <th>ENSG00000000419</th>\n",
       "      <td>DPM1</td>\n",
       "      <td>(Brain_Hypothalamus, Brain_Substantia_nigra)</td>\n",
       "      <td>2</td>\n",
       "    </tr>\n",
       "    <tr>\n",
       "      <th>ENSG00000000938</th>\n",
       "      <td>FGR</td>\n",
       "      <td>(Brain_Frontal_Cortex_BA9, Nerve_Tibial, Brain...</td>\n",
       "      <td>36</td>\n",
       "    </tr>\n",
       "    <tr>\n",
       "      <th>ENSG00000000971</th>\n",
       "      <td>CFH</td>\n",
       "      <td>(Brain_Frontal_Cortex_BA9, Nerve_Tibial, Brain...</td>\n",
       "      <td>34</td>\n",
       "    </tr>\n",
       "    <tr>\n",
       "      <th>ENSG00000001084</th>\n",
       "      <td>GCLC</td>\n",
       "      <td>(Brain_Frontal_Cortex_BA9, Nerve_Tibial, Brain...</td>\n",
       "      <td>32</td>\n",
       "    </tr>\n",
       "    <tr>\n",
       "      <th>ENSG00000001167</th>\n",
       "      <td>NFYA</td>\n",
       "      <td>(Nerve_Tibial, Brain_Putamen_basal_ganglia, Br...</td>\n",
       "      <td>40</td>\n",
       "    </tr>\n",
       "  </tbody>\n",
       "</table>\n",
       "</div>"
      ],
      "text/plain": [
       "                gene_name                                             tissue  \\\n",
       "gene_id                                                                        \n",
       "ENSG00000000419      DPM1       (Brain_Hypothalamus, Brain_Substantia_nigra)   \n",
       "ENSG00000000938       FGR  (Brain_Frontal_Cortex_BA9, Nerve_Tibial, Brain...   \n",
       "ENSG00000000971       CFH  (Brain_Frontal_Cortex_BA9, Nerve_Tibial, Brain...   \n",
       "ENSG00000001084      GCLC  (Brain_Frontal_Cortex_BA9, Nerve_Tibial, Brain...   \n",
       "ENSG00000001167      NFYA  (Nerve_Tibial, Brain_Putamen_basal_ganglia, Br...   \n",
       "\n",
       "                 n_tissues  \n",
       "gene_id                     \n",
       "ENSG00000000419          2  \n",
       "ENSG00000000938         36  \n",
       "ENSG00000000971         34  \n",
       "ENSG00000001084         32  \n",
       "ENSG00000001167         40  "
      ]
     },
     "execution_count": 89,
     "metadata": {},
     "output_type": "execute_result"
    }
   ],
   "source": [
    "spredixcan_genes_models.head()"
   ]
  },
  {
   "cell_type": "markdown",
   "id": "2abce820-1cb4-4a58-9dc5-b3e37d3ff037",
   "metadata": {
    "papermill": {
     "duration": 0.029607,
     "end_time": "2022-11-29T22:08:55.006437",
     "exception": false,
     "start_time": "2022-11-29T22:08:54.976830",
     "status": "completed"
    },
    "tags": []
   },
   "source": [
    "### Save"
   ]
  },
  {
   "cell_type": "markdown",
   "id": "28462e2a-da49-44c4-ae71-b3830a2b108f",
   "metadata": {
    "papermill": {
     "duration": 0.015827,
     "end_time": "2022-11-29T22:08:55.038816",
     "exception": false,
     "start_time": "2022-11-29T22:08:55.022989",
     "status": "completed"
    },
    "tags": []
   },
   "source": [
    "Here I quickly save these results to a file, given that the next steps (covariates) are slow to compute."
   ]
  },
  {
   "cell_type": "code",
   "execution_count": 90,
   "id": "9cfb687d-5ab2-4e85-9944-f5c685de8046",
   "metadata": {
    "execution": {
     "iopub.execute_input": "2022-11-29T22:08:55.071015Z",
     "iopub.status.busy": "2022-11-29T22:08:55.070817Z",
     "iopub.status.idle": "2022-11-29T22:08:55.089239Z",
     "shell.execute_reply": "2022-11-29T22:08:55.088732Z"
    },
    "papermill": {
     "duration": 0.035547,
     "end_time": "2022-11-29T22:08:55.090096",
     "exception": false,
     "start_time": "2022-11-29T22:08:55.054549",
     "status": "completed"
    },
    "tags": []
   },
   "outputs": [],
   "source": [
    "# this is important, other scripts depend on gene_name to be unique\n",
    "assert spredixcan_genes_models[\"gene_name\"].is_unique"
   ]
  },
  {
   "cell_type": "code",
   "execution_count": 91,
   "id": "b2d9bd26-afaa-4aff-a707-3109e13af9bb",
   "metadata": {
    "execution": {
     "iopub.execute_input": "2022-11-29T22:08:55.122277Z",
     "iopub.status.busy": "2022-11-29T22:08:55.122079Z",
     "iopub.status.idle": "2022-11-29T22:08:55.141758Z",
     "shell.execute_reply": "2022-11-29T22:08:55.141253Z"
    },
    "papermill": {
     "duration": 0.036843,
     "end_time": "2022-11-29T22:08:55.142577",
     "exception": false,
     "start_time": "2022-11-29T22:08:55.105734",
     "status": "completed"
    },
    "tags": []
   },
   "outputs": [
    {
     "name": "stderr",
     "output_type": "stream",
     "text": [
      "/tmp/ipykernel_123/1381297071.py:1: FutureWarning: In a future version of pandas all arguments of DataFrame.any and Series.any will be keyword-only.\n",
      "  assert not spredixcan_genes_models.isna().any(None)\n"
     ]
    }
   ],
   "source": [
    "assert not spredixcan_genes_models.isna().any(None)"
   ]
  },
  {
   "cell_type": "code",
   "execution_count": 92,
   "id": "074b103c-2960-4299-a3ac-fa37ab6f2784",
   "metadata": {
    "execution": {
     "iopub.execute_input": "2022-11-29T22:08:55.175577Z",
     "iopub.status.busy": "2022-11-29T22:08:55.175043Z",
     "iopub.status.idle": "2022-11-29T22:08:55.206292Z",
     "shell.execute_reply": "2022-11-29T22:08:55.205734Z"
    },
    "papermill": {
     "duration": 0.04842,
     "end_time": "2022-11-29T22:08:55.207136",
     "exception": false,
     "start_time": "2022-11-29T22:08:55.158716",
     "status": "completed"
    },
    "tags": []
   },
   "outputs": [],
   "source": [
    "spredixcan_genes_models.to_pickle(OUTPUT_DIR_BASE / \"gene_tissues.pkl\")"
   ]
  },
  {
   "cell_type": "markdown",
   "id": "ae18f693-4da8-48ae-85b6-8194abcca684",
   "metadata": {
    "papermill": {
     "duration": 0.015617,
     "end_time": "2022-11-29T22:08:55.238420",
     "exception": false,
     "start_time": "2022-11-29T22:08:55.222803",
     "status": "completed"
    },
    "tags": []
   },
   "source": [
    "## Add covariates based on S-PrediXcan results"
   ]
  },
  {
   "cell_type": "markdown",
   "id": "bed7a46c-4906-40b9-9dd8-0bfb584e6d2a",
   "metadata": {
    "papermill": {
     "duration": 0.01566,
     "end_time": "2022-11-29T22:08:55.269989",
     "exception": false,
     "start_time": "2022-11-29T22:08:55.254329",
     "status": "completed"
    },
    "tags": []
   },
   "source": [
    "This extend the previous file with more columns"
   ]
  },
  {
   "cell_type": "markdown",
   "id": "850c554f-2ace-40a3-a33a-477246bb07c7",
   "metadata": {
    "papermill": {
     "duration": 0.015494,
     "end_time": "2022-11-29T22:08:55.301377",
     "exception": false,
     "start_time": "2022-11-29T22:08:55.285883",
     "status": "completed"
    },
    "tags": []
   },
   "source": [
    "### Get gene's objects"
   ]
  },
  {
   "cell_type": "code",
   "execution_count": 93,
   "id": "dfd93711-5c91-4cb6-8561-f366e270b6b1",
   "metadata": {
    "execution": {
     "iopub.execute_input": "2022-11-29T22:08:55.333708Z",
     "iopub.status.busy": "2022-11-29T22:08:55.333259Z",
     "iopub.status.idle": "2022-11-29T22:08:55.361739Z",
     "shell.execute_reply": "2022-11-29T22:08:55.361184Z"
    },
    "papermill": {
     "duration": 0.045635,
     "end_time": "2022-11-29T22:08:55.362625",
     "exception": false,
     "start_time": "2022-11-29T22:08:55.316990",
     "status": "completed"
    },
    "tags": []
   },
   "outputs": [],
   "source": [
    "spredixcan_gene_obj = {\n",
    "    gene_id: Gene(ensembl_id=gene_id) for gene_id in spredixcan_genes_models.index\n",
    "}"
   ]
  },
  {
   "cell_type": "code",
   "execution_count": 94,
   "id": "59efbedc-0b5d-4d0b-bd82-95e74c0ba793",
   "metadata": {
    "execution": {
     "iopub.execute_input": "2022-11-29T22:08:55.395668Z",
     "iopub.status.busy": "2022-11-29T22:08:55.395094Z",
     "iopub.status.idle": "2022-11-29T22:08:55.411891Z",
     "shell.execute_reply": "2022-11-29T22:08:55.411422Z"
    },
    "papermill": {
     "duration": 0.033977,
     "end_time": "2022-11-29T22:08:55.412713",
     "exception": false,
     "start_time": "2022-11-29T22:08:55.378736",
     "status": "completed"
    },
    "tags": []
   },
   "outputs": [
    {
     "data": {
      "text/plain": [
       "6443"
      ]
     },
     "execution_count": 94,
     "metadata": {},
     "output_type": "execute_result"
    }
   ],
   "source": [
    "len(spredixcan_gene_obj)"
   ]
  },
  {
   "cell_type": "markdown",
   "id": "27ac1828-755a-424a-b416-6aef1f0c2e45",
   "metadata": {
    "papermill": {
     "duration": 0.015807,
     "end_time": "2022-11-29T22:08:55.444565",
     "exception": false,
     "start_time": "2022-11-29T22:08:55.428758",
     "status": "completed"
    },
    "tags": []
   },
   "source": [
    "### Add genes' variance captured by principal components"
   ]
  },
  {
   "cell_type": "code",
   "execution_count": 95,
   "id": "893b3418-054c-44d2-9ce0-7fa590aef00e",
   "metadata": {
    "execution": {
     "iopub.execute_input": "2022-11-29T22:08:55.477224Z",
     "iopub.status.busy": "2022-11-29T22:08:55.476646Z",
     "iopub.status.idle": "2022-11-29T22:08:55.491640Z",
     "shell.execute_reply": "2022-11-29T22:08:55.491165Z"
    },
    "papermill": {
     "duration": 0.032351,
     "end_time": "2022-11-29T22:08:55.492615",
     "exception": false,
     "start_time": "2022-11-29T22:08:55.460264",
     "status": "completed"
    },
    "tags": []
   },
   "outputs": [],
   "source": [
    "# def _get_gene_pc_variance(gene_row):\n",
    "#     gene_id = gene_row.name\n",
    "#     gene_tissues = gene_row[\"tissue\"]\n",
    "#     gene_obj = spredixcan_gene_obj[gene_id]\n",
    "\n",
    "#     u, s, vt = gene_obj.get_tissues_correlations_svd(\n",
    "#         tissues=gene_tissues,\n",
    "#         snps_subset=gwas_variants_ids_set,\n",
    "#         reference_panel=REFERENCE_PANEL,\n",
    "#         model_type=EQTL_MODEL,\n",
    "#         # use_covariance_matrix=True,\n",
    "#     )\n",
    "\n",
    "#     return s"
   ]
  },
  {
   "cell_type": "code",
   "execution_count": 96,
   "id": "083afa33-cea0-40d3-af20-94a1307a6607",
   "metadata": {
    "execution": {
     "iopub.execute_input": "2022-11-29T22:08:55.525899Z",
     "iopub.status.busy": "2022-11-29T22:08:55.525346Z",
     "iopub.status.idle": "2022-11-29T22:08:55.539734Z",
     "shell.execute_reply": "2022-11-29T22:08:55.539260Z"
    },
    "papermill": {
     "duration": 0.03178,
     "end_time": "2022-11-29T22:08:55.540585",
     "exception": false,
     "start_time": "2022-11-29T22:08:55.508805",
     "status": "completed"
    },
    "tags": []
   },
   "outputs": [],
   "source": [
    "# _tmp = spredixcan_genes_models.loc[\"ENSG00000188976\"]\n",
    "# _get_gene_pc_variance(_tmp)"
   ]
  },
  {
   "cell_type": "code",
   "execution_count": 97,
   "id": "80f7720d-79c9-4183-bb7e-b1480f31ed87",
   "metadata": {
    "execution": {
     "iopub.execute_input": "2022-11-29T22:08:55.573468Z",
     "iopub.status.busy": "2022-11-29T22:08:55.572881Z",
     "iopub.status.idle": "2022-11-29T22:08:55.587175Z",
     "shell.execute_reply": "2022-11-29T22:08:55.586703Z"
    },
    "papermill": {
     "duration": 0.031482,
     "end_time": "2022-11-29T22:08:55.588056",
     "exception": false,
     "start_time": "2022-11-29T22:08:55.556574",
     "status": "completed"
    },
    "tags": []
   },
   "outputs": [],
   "source": [
    "# spredixcan_genes_tissues_pc_variance = spredixcan_genes_models.apply(\n",
    "#     _get_gene_pc_variance, axis=1\n",
    "# )"
   ]
  },
  {
   "cell_type": "code",
   "execution_count": 98,
   "id": "621302a1-1407-4400-9282-e37798bb18b3",
   "metadata": {
    "execution": {
     "iopub.execute_input": "2022-11-29T22:08:55.620767Z",
     "iopub.status.busy": "2022-11-29T22:08:55.620468Z",
     "iopub.status.idle": "2022-11-29T22:08:55.634828Z",
     "shell.execute_reply": "2022-11-29T22:08:55.634345Z"
    },
    "papermill": {
     "duration": 0.031485,
     "end_time": "2022-11-29T22:08:55.635639",
     "exception": false,
     "start_time": "2022-11-29T22:08:55.604154",
     "status": "completed"
    },
    "tags": []
   },
   "outputs": [],
   "source": [
    "# spredixcan_genes_tissues_pc_variance"
   ]
  },
  {
   "cell_type": "code",
   "execution_count": 99,
   "id": "9ac9e0fb-e0cc-4fea-ad01-2e76d40afb3c",
   "metadata": {
    "execution": {
     "iopub.execute_input": "2022-11-29T22:08:55.668731Z",
     "iopub.status.busy": "2022-11-29T22:08:55.668200Z",
     "iopub.status.idle": "2022-11-29T22:08:55.682726Z",
     "shell.execute_reply": "2022-11-29T22:08:55.682249Z"
    },
    "papermill": {
     "duration": 0.031975,
     "end_time": "2022-11-29T22:08:55.683641",
     "exception": false,
     "start_time": "2022-11-29T22:08:55.651666",
     "status": "completed"
    },
    "tags": []
   },
   "outputs": [],
   "source": [
    "# # testing\n",
    "# assert spredixcan_genes_tissues_pc_variance.loc[\n",
    "#     \"ENSG00000188976\"\n",
    "# ].sum() == pytest.approx(44.01605629086847)\n",
    "# # this is using the covariance:\n",
    "# # assert spredixcan_genes_tissues_pc_variance.loc[\"ENSG00000188976\"].sum() == pytest.approx(1.1492946006449425)"
   ]
  },
  {
   "cell_type": "code",
   "execution_count": 100,
   "id": "700ed8c8-16e3-4f44-80ff-a4355349ac26",
   "metadata": {
    "execution": {
     "iopub.execute_input": "2022-11-29T22:08:55.716838Z",
     "iopub.status.busy": "2022-11-29T22:08:55.716446Z",
     "iopub.status.idle": "2022-11-29T22:08:55.730781Z",
     "shell.execute_reply": "2022-11-29T22:08:55.730296Z"
    },
    "papermill": {
     "duration": 0.031819,
     "end_time": "2022-11-29T22:08:55.731648",
     "exception": false,
     "start_time": "2022-11-29T22:08:55.699829",
     "status": "completed"
    },
    "tags": []
   },
   "outputs": [],
   "source": [
    "# # add to spredixcan_genes_models\n",
    "# spredixcan_genes_models = spredixcan_genes_models.join(\n",
    "#     spredixcan_genes_tissues_pc_variance.rename(\"tissues_pc_variances\")\n",
    "# )"
   ]
  },
  {
   "cell_type": "code",
   "execution_count": 101,
   "id": "597f7dff-2425-490d-84d6-537f8bd0f147",
   "metadata": {
    "execution": {
     "iopub.execute_input": "2022-11-29T22:08:55.764602Z",
     "iopub.status.busy": "2022-11-29T22:08:55.764196Z",
     "iopub.status.idle": "2022-11-29T22:08:55.779249Z",
     "shell.execute_reply": "2022-11-29T22:08:55.778774Z"
    },
    "papermill": {
     "duration": 0.03243,
     "end_time": "2022-11-29T22:08:55.780132",
     "exception": false,
     "start_time": "2022-11-29T22:08:55.747702",
     "status": "completed"
    },
    "tags": []
   },
   "outputs": [],
   "source": [
    "# spredixcan_genes_models.shape"
   ]
  },
  {
   "cell_type": "code",
   "execution_count": 102,
   "id": "41bdb249-f7e3-4b07-a534-2c3e46db72dc",
   "metadata": {
    "execution": {
     "iopub.execute_input": "2022-11-29T22:08:55.813451Z",
     "iopub.status.busy": "2022-11-29T22:08:55.812947Z",
     "iopub.status.idle": "2022-11-29T22:08:55.827245Z",
     "shell.execute_reply": "2022-11-29T22:08:55.826766Z"
    },
    "papermill": {
     "duration": 0.031877,
     "end_time": "2022-11-29T22:08:55.828178",
     "exception": false,
     "start_time": "2022-11-29T22:08:55.796301",
     "status": "completed"
    },
    "tags": []
   },
   "outputs": [],
   "source": [
    "# spredixcan_genes_models.head()"
   ]
  },
  {
   "cell_type": "markdown",
   "id": "ef1c76d7-485b-4e8a-932e-fd01382d5520",
   "metadata": {
    "papermill": {
     "duration": 0.015934,
     "end_time": "2022-11-29T22:08:55.860274",
     "exception": false,
     "start_time": "2022-11-29T22:08:55.844340",
     "status": "completed"
    },
    "tags": []
   },
   "source": [
    "### Add gene variance per tissue"
   ]
  },
  {
   "cell_type": "code",
   "execution_count": 103,
   "id": "530f7941-6ad7-4a29-b9e4-a006949282e0",
   "metadata": {
    "execution": {
     "iopub.execute_input": "2022-11-29T22:08:55.893412Z",
     "iopub.status.busy": "2022-11-29T22:08:55.892858Z",
     "iopub.status.idle": "2022-11-29T22:08:55.908648Z",
     "shell.execute_reply": "2022-11-29T22:08:55.908156Z"
    },
    "papermill": {
     "duration": 0.033192,
     "end_time": "2022-11-29T22:08:55.909485",
     "exception": false,
     "start_time": "2022-11-29T22:08:55.876293",
     "status": "completed"
    },
    "tags": []
   },
   "outputs": [],
   "source": [
    "# def _get_gene_variances(gene_row):\n",
    "#     gene_id = gene_row.name\n",
    "#     gene_tissues = gene_row[\"tissue\"]\n",
    "\n",
    "#     tissue_variances = {}\n",
    "#     gene_obj = spredixcan_gene_obj[gene_id]\n",
    "\n",
    "#     for tissue in gene_tissues:\n",
    "#         tissue_var = gene_obj.get_pred_expression_variance(\n",
    "#             tissue=tissue,\n",
    "#             reference_panel=REFERENCE_PANEL,\n",
    "#             model_type=EQTL_MODEL,\n",
    "#             snps_subset=gwas_variants_ids_set,\n",
    "#         )\n",
    "\n",
    "#         if tissue_var is not None:\n",
    "#             tissue_variances[tissue] = tissue_var\n",
    "\n",
    "#     return tissue_variances"
   ]
  },
  {
   "cell_type": "code",
   "execution_count": 104,
   "id": "01eb9e6a-4505-44e6-9e6e-9788e257f319",
   "metadata": {
    "execution": {
     "iopub.execute_input": "2022-11-29T22:08:55.942702Z",
     "iopub.status.busy": "2022-11-29T22:08:55.942171Z",
     "iopub.status.idle": "2022-11-29T22:08:55.957173Z",
     "shell.execute_reply": "2022-11-29T22:08:55.956699Z"
    },
    "papermill": {
     "duration": 0.032391,
     "end_time": "2022-11-29T22:08:55.958038",
     "exception": false,
     "start_time": "2022-11-29T22:08:55.925647",
     "status": "completed"
    },
    "tags": []
   },
   "outputs": [],
   "source": [
    "# _tmp = spredixcan_genes_models.loc[\"ENSG00000000419\"]\n",
    "# _get_gene_variances(_tmp)"
   ]
  },
  {
   "cell_type": "code",
   "execution_count": 105,
   "id": "447061ec-4847-4911-a1d6-8b86d15e4aac",
   "metadata": {
    "execution": {
     "iopub.execute_input": "2022-11-29T22:08:55.991573Z",
     "iopub.status.busy": "2022-11-29T22:08:55.990994Z",
     "iopub.status.idle": "2022-11-29T22:08:56.009248Z",
     "shell.execute_reply": "2022-11-29T22:08:56.008675Z"
    },
    "papermill": {
     "duration": 0.036197,
     "end_time": "2022-11-29T22:08:56.010519",
     "exception": false,
     "start_time": "2022-11-29T22:08:55.974322",
     "status": "completed"
    },
    "tags": []
   },
   "outputs": [],
   "source": [
    "# spredixcan_genes_tissues_variance = spredixcan_genes_models.apply(\n",
    "#     _get_gene_variances, axis=1\n",
    "# )"
   ]
  },
  {
   "cell_type": "code",
   "execution_count": 106,
   "id": "816cbdd2-d667-4eaa-bbf7-335550854ee8",
   "metadata": {
    "execution": {
     "iopub.execute_input": "2022-11-29T22:08:56.047668Z",
     "iopub.status.busy": "2022-11-29T22:08:56.047161Z",
     "iopub.status.idle": "2022-11-29T22:08:56.063558Z",
     "shell.execute_reply": "2022-11-29T22:08:56.063037Z"
    },
    "papermill": {
     "duration": 0.035451,
     "end_time": "2022-11-29T22:08:56.064618",
     "exception": false,
     "start_time": "2022-11-29T22:08:56.029167",
     "status": "completed"
    },
    "tags": []
   },
   "outputs": [],
   "source": [
    "# spredixcan_genes_tissues_variance"
   ]
  },
  {
   "cell_type": "code",
   "execution_count": 107,
   "id": "68c65eb6-15c0-494d-992f-93bc84268a59",
   "metadata": {
    "execution": {
     "iopub.execute_input": "2022-11-29T22:08:56.098248Z",
     "iopub.status.busy": "2022-11-29T22:08:56.097911Z",
     "iopub.status.idle": "2022-11-29T22:08:56.113776Z",
     "shell.execute_reply": "2022-11-29T22:08:56.113235Z"
    },
    "papermill": {
     "duration": 0.033502,
     "end_time": "2022-11-29T22:08:56.114919",
     "exception": false,
     "start_time": "2022-11-29T22:08:56.081417",
     "status": "completed"
    },
    "tags": []
   },
   "outputs": [],
   "source": [
    "# # testing\n",
    "# _gene_id = \"ENSG00000188976\"\n",
    "# x = spredixcan_genes_tissues_variance.loc[_gene_id]\n",
    "# # expected value obtained by sum of PCA eigenvalues on this gene's predicted expression\n",
    "# assert np.sum(list(x.values())) == pytest.approx(1.2326202607409493)"
   ]
  },
  {
   "cell_type": "code",
   "execution_count": 108,
   "id": "1996453a-fdfc-44e9-bbdf-b83e3b3b1aee",
   "metadata": {
    "execution": {
     "iopub.execute_input": "2022-11-29T22:08:56.149233Z",
     "iopub.status.busy": "2022-11-29T22:08:56.148673Z",
     "iopub.status.idle": "2022-11-29T22:08:56.163866Z",
     "shell.execute_reply": "2022-11-29T22:08:56.163376Z"
    },
    "papermill": {
     "duration": 0.033086,
     "end_time": "2022-11-29T22:08:56.164839",
     "exception": false,
     "start_time": "2022-11-29T22:08:56.131753",
     "status": "completed"
    },
    "tags": []
   },
   "outputs": [],
   "source": [
    "# # testing\n",
    "# spredixcan_genes_tissues_variance.loc[\"ENSG00000000419\"]"
   ]
  },
  {
   "cell_type": "code",
   "execution_count": 109,
   "id": "88e42a97-801b-43a4-a829-4eaac03360b8",
   "metadata": {
    "execution": {
     "iopub.execute_input": "2022-11-29T22:08:56.198999Z",
     "iopub.status.busy": "2022-11-29T22:08:56.198539Z",
     "iopub.status.idle": "2022-11-29T22:08:56.213876Z",
     "shell.execute_reply": "2022-11-29T22:08:56.213388Z"
    },
    "papermill": {
     "duration": 0.033024,
     "end_time": "2022-11-29T22:08:56.214842",
     "exception": false,
     "start_time": "2022-11-29T22:08:56.181818",
     "status": "completed"
    },
    "tags": []
   },
   "outputs": [],
   "source": [
    "# # add to spredixcan_genes_models\n",
    "# spredixcan_genes_models = spredixcan_genes_models.join(\n",
    "#     spredixcan_genes_tissues_variance.rename(\"tissues_variances\")\n",
    "# )"
   ]
  },
  {
   "cell_type": "code",
   "execution_count": 110,
   "id": "cb177ca4-fdcb-432f-a102-9c6bd6bd7fa0",
   "metadata": {
    "execution": {
     "iopub.execute_input": "2022-11-29T22:08:56.248856Z",
     "iopub.status.busy": "2022-11-29T22:08:56.248324Z",
     "iopub.status.idle": "2022-11-29T22:08:56.263045Z",
     "shell.execute_reply": "2022-11-29T22:08:56.262566Z"
    },
    "papermill": {
     "duration": 0.032408,
     "end_time": "2022-11-29T22:08:56.263970",
     "exception": false,
     "start_time": "2022-11-29T22:08:56.231562",
     "status": "completed"
    },
    "tags": []
   },
   "outputs": [],
   "source": [
    "# spredixcan_genes_models.shape"
   ]
  },
  {
   "cell_type": "code",
   "execution_count": 111,
   "id": "ccabe1fa-20ae-4893-bf12-9a3359b213b8",
   "metadata": {
    "execution": {
     "iopub.execute_input": "2022-11-29T22:08:56.299597Z",
     "iopub.status.busy": "2022-11-29T22:08:56.299239Z",
     "iopub.status.idle": "2022-11-29T22:08:56.315121Z",
     "shell.execute_reply": "2022-11-29T22:08:56.314607Z"
    },
    "papermill": {
     "duration": 0.035531,
     "end_time": "2022-11-29T22:08:56.316038",
     "exception": false,
     "start_time": "2022-11-29T22:08:56.280507",
     "status": "completed"
    },
    "tags": []
   },
   "outputs": [],
   "source": [
    "# spredixcan_genes_models.head()"
   ]
  },
  {
   "cell_type": "markdown",
   "id": "ab6ff41a-0949-4eea-abef-7dc4f0b373fc",
   "metadata": {
    "papermill": {
     "duration": 0.016358,
     "end_time": "2022-11-29T22:08:56.349368",
     "exception": false,
     "start_time": "2022-11-29T22:08:56.333010",
     "status": "completed"
    },
    "tags": []
   },
   "source": [
    "### Count number of SNPs predictors used across tissue models"
   ]
  },
  {
   "cell_type": "code",
   "execution_count": 112,
   "id": "c8f6cc6f-5812-45c9-b775-6f2193f8a360",
   "metadata": {
    "execution": {
     "iopub.execute_input": "2022-11-29T22:08:56.383475Z",
     "iopub.status.busy": "2022-11-29T22:08:56.382885Z",
     "iopub.status.idle": "2022-11-29T22:08:56.437802Z",
     "shell.execute_reply": "2022-11-29T22:08:56.437254Z"
    },
    "papermill": {
     "duration": 0.073152,
     "end_time": "2022-11-29T22:08:56.439096",
     "exception": false,
     "start_time": "2022-11-29T22:08:56.365944",
     "status": "completed"
    },
    "tags": []
   },
   "outputs": [],
   "source": [
    "spredixcan_genes_sum_of_n_snps_used = (\n",
    "    spredixcan_dfs.groupby(\"gene_id\")[\"n_snps_used\"].sum().rename(\"n_snps_used_sum\")\n",
    ")"
   ]
  },
  {
   "cell_type": "code",
   "execution_count": 113,
   "id": "7255df64-7b9f-4504-a4fa-1f2a9aa56ec0",
   "metadata": {
    "execution": {
     "iopub.execute_input": "2022-11-29T22:08:56.473844Z",
     "iopub.status.busy": "2022-11-29T22:08:56.473206Z",
     "iopub.status.idle": "2022-11-29T22:08:56.491914Z",
     "shell.execute_reply": "2022-11-29T22:08:56.491434Z"
    },
    "papermill": {
     "duration": 0.036488,
     "end_time": "2022-11-29T22:08:56.492761",
     "exception": false,
     "start_time": "2022-11-29T22:08:56.456273",
     "status": "completed"
    },
    "tags": []
   },
   "outputs": [
    {
     "data": {
      "text/plain": [
       "gene_id\n",
       "ENSG00000000419     2\n",
       "ENSG00000000938    40\n",
       "ENSG00000000971    44\n",
       "ENSG00000001084    46\n",
       "ENSG00000001167    47\n",
       "                   ..\n",
       "ENSG00000278540    44\n",
       "ENSG00000278828     5\n",
       "ENSG00000278845    89\n",
       "ENSG00000281005    81\n",
       "ENSG00000282608    40\n",
       "Name: n_snps_used_sum, Length: 6443, dtype: int64"
      ]
     },
     "execution_count": 113,
     "metadata": {},
     "output_type": "execute_result"
    }
   ],
   "source": [
    "spredixcan_genes_sum_of_n_snps_used"
   ]
  },
  {
   "cell_type": "code",
   "execution_count": 114,
   "id": "44bc1222-b334-4ce2-8997-494d0e584cf9",
   "metadata": {
    "execution": {
     "iopub.execute_input": "2022-11-29T22:08:56.535430Z",
     "iopub.status.busy": "2022-11-29T22:08:56.534911Z",
     "iopub.status.idle": "2022-11-29T22:08:56.555519Z",
     "shell.execute_reply": "2022-11-29T22:08:56.554984Z"
    },
    "papermill": {
     "duration": 0.047393,
     "end_time": "2022-11-29T22:08:56.556765",
     "exception": false,
     "start_time": "2022-11-29T22:08:56.509372",
     "status": "completed"
    },
    "tags": []
   },
   "outputs": [],
   "source": [
    "# add sum of snps used to spredixcan_genes_models\n",
    "spredixcan_genes_models = spredixcan_genes_models.join(\n",
    "    spredixcan_genes_sum_of_n_snps_used\n",
    ")"
   ]
  },
  {
   "cell_type": "code",
   "execution_count": 115,
   "id": "5e5e6d7f-b970-4f21-9322-b76bc22afd71",
   "metadata": {
    "execution": {
     "iopub.execute_input": "2022-11-29T22:08:56.591438Z",
     "iopub.status.busy": "2022-11-29T22:08:56.590983Z",
     "iopub.status.idle": "2022-11-29T22:08:56.607669Z",
     "shell.execute_reply": "2022-11-29T22:08:56.607187Z"
    },
    "papermill": {
     "duration": 0.034486,
     "end_time": "2022-11-29T22:08:56.608459",
     "exception": false,
     "start_time": "2022-11-29T22:08:56.573973",
     "status": "completed"
    },
    "tags": []
   },
   "outputs": [
    {
     "data": {
      "text/plain": [
       "(6443, 4)"
      ]
     },
     "execution_count": 115,
     "metadata": {},
     "output_type": "execute_result"
    }
   ],
   "source": [
    "spredixcan_genes_models.shape"
   ]
  },
  {
   "cell_type": "code",
   "execution_count": 116,
   "id": "22c096c2-213a-4001-8454-1633997d404f",
   "metadata": {
    "execution": {
     "iopub.execute_input": "2022-11-29T22:08:56.642243Z",
     "iopub.status.busy": "2022-11-29T22:08:56.641789Z",
     "iopub.status.idle": "2022-11-29T22:08:56.663416Z",
     "shell.execute_reply": "2022-11-29T22:08:56.662920Z"
    },
    "papermill": {
     "duration": 0.039223,
     "end_time": "2022-11-29T22:08:56.664205",
     "exception": false,
     "start_time": "2022-11-29T22:08:56.624982",
     "status": "completed"
    },
    "tags": []
   },
   "outputs": [
    {
     "data": {
      "text/html": [
       "<div>\n",
       "<style scoped>\n",
       "    .dataframe tbody tr th:only-of-type {\n",
       "        vertical-align: middle;\n",
       "    }\n",
       "\n",
       "    .dataframe tbody tr th {\n",
       "        vertical-align: top;\n",
       "    }\n",
       "\n",
       "    .dataframe thead th {\n",
       "        text-align: right;\n",
       "    }\n",
       "</style>\n",
       "<table border=\"1\" class=\"dataframe\">\n",
       "  <thead>\n",
       "    <tr style=\"text-align: right;\">\n",
       "      <th></th>\n",
       "      <th>gene_name</th>\n",
       "      <th>tissue</th>\n",
       "      <th>n_tissues</th>\n",
       "      <th>n_snps_used_sum</th>\n",
       "    </tr>\n",
       "    <tr>\n",
       "      <th>gene_id</th>\n",
       "      <th></th>\n",
       "      <th></th>\n",
       "      <th></th>\n",
       "      <th></th>\n",
       "    </tr>\n",
       "  </thead>\n",
       "  <tbody>\n",
       "    <tr>\n",
       "      <th>ENSG00000000419</th>\n",
       "      <td>DPM1</td>\n",
       "      <td>(Brain_Hypothalamus, Brain_Substantia_nigra)</td>\n",
       "      <td>2</td>\n",
       "      <td>2</td>\n",
       "    </tr>\n",
       "    <tr>\n",
       "      <th>ENSG00000000938</th>\n",
       "      <td>FGR</td>\n",
       "      <td>(Brain_Frontal_Cortex_BA9, Nerve_Tibial, Brain...</td>\n",
       "      <td>36</td>\n",
       "      <td>40</td>\n",
       "    </tr>\n",
       "    <tr>\n",
       "      <th>ENSG00000000971</th>\n",
       "      <td>CFH</td>\n",
       "      <td>(Brain_Frontal_Cortex_BA9, Nerve_Tibial, Brain...</td>\n",
       "      <td>34</td>\n",
       "      <td>44</td>\n",
       "    </tr>\n",
       "    <tr>\n",
       "      <th>ENSG00000001084</th>\n",
       "      <td>GCLC</td>\n",
       "      <td>(Brain_Frontal_Cortex_BA9, Nerve_Tibial, Brain...</td>\n",
       "      <td>32</td>\n",
       "      <td>46</td>\n",
       "    </tr>\n",
       "    <tr>\n",
       "      <th>ENSG00000001167</th>\n",
       "      <td>NFYA</td>\n",
       "      <td>(Nerve_Tibial, Brain_Putamen_basal_ganglia, Br...</td>\n",
       "      <td>40</td>\n",
       "      <td>47</td>\n",
       "    </tr>\n",
       "  </tbody>\n",
       "</table>\n",
       "</div>"
      ],
      "text/plain": [
       "                gene_name                                             tissue  \\\n",
       "gene_id                                                                        \n",
       "ENSG00000000419      DPM1       (Brain_Hypothalamus, Brain_Substantia_nigra)   \n",
       "ENSG00000000938       FGR  (Brain_Frontal_Cortex_BA9, Nerve_Tibial, Brain...   \n",
       "ENSG00000000971       CFH  (Brain_Frontal_Cortex_BA9, Nerve_Tibial, Brain...   \n",
       "ENSG00000001084      GCLC  (Brain_Frontal_Cortex_BA9, Nerve_Tibial, Brain...   \n",
       "ENSG00000001167      NFYA  (Nerve_Tibial, Brain_Putamen_basal_ganglia, Br...   \n",
       "\n",
       "                 n_tissues  n_snps_used_sum  \n",
       "gene_id                                      \n",
       "ENSG00000000419          2                2  \n",
       "ENSG00000000938         36               40  \n",
       "ENSG00000000971         34               44  \n",
       "ENSG00000001084         32               46  \n",
       "ENSG00000001167         40               47  "
      ]
     },
     "execution_count": 116,
     "metadata": {},
     "output_type": "execute_result"
    }
   ],
   "source": [
    "spredixcan_genes_models.head()"
   ]
  },
  {
   "cell_type": "markdown",
   "id": "f4692315-d7be-465e-b756-f6d76fec949e",
   "metadata": {
    "papermill": {
     "duration": 0.016447,
     "end_time": "2022-11-29T22:08:56.697260",
     "exception": false,
     "start_time": "2022-11-29T22:08:56.680813",
     "status": "completed"
    },
    "tags": []
   },
   "source": [
    "### Count number of SNPs predictors in models across tissue models"
   ]
  },
  {
   "cell_type": "code",
   "execution_count": 117,
   "id": "08eed385-36eb-4e42-b28e-51333f9cfcd3",
   "metadata": {
    "execution": {
     "iopub.execute_input": "2022-11-29T22:08:56.731235Z",
     "iopub.status.busy": "2022-11-29T22:08:56.730669Z",
     "iopub.status.idle": "2022-11-29T22:08:56.784930Z",
     "shell.execute_reply": "2022-11-29T22:08:56.784385Z"
    },
    "papermill": {
     "duration": 0.072231,
     "end_time": "2022-11-29T22:08:56.785896",
     "exception": false,
     "start_time": "2022-11-29T22:08:56.713665",
     "status": "completed"
    },
    "tags": []
   },
   "outputs": [],
   "source": [
    "spredixcan_genes_sum_of_n_snps_in_model = (\n",
    "    spredixcan_dfs.groupby(\"gene_id\")[\"n_snps_in_model\"]\n",
    "    .sum()\n",
    "    .rename(\"n_snps_in_model_sum\")\n",
    ")"
   ]
  },
  {
   "cell_type": "code",
   "execution_count": 118,
   "id": "10431f5c-1f56-4664-a09f-53c608bec631",
   "metadata": {
    "execution": {
     "iopub.execute_input": "2022-11-29T22:08:56.821305Z",
     "iopub.status.busy": "2022-11-29T22:08:56.820657Z",
     "iopub.status.idle": "2022-11-29T22:08:56.840666Z",
     "shell.execute_reply": "2022-11-29T22:08:56.840159Z"
    },
    "papermill": {
     "duration": 0.038482,
     "end_time": "2022-11-29T22:08:56.841455",
     "exception": false,
     "start_time": "2022-11-29T22:08:56.802973",
     "status": "completed"
    },
    "tags": []
   },
   "outputs": [
    {
     "data": {
      "text/plain": [
       "gene_id\n",
       "ENSG00000000419     2\n",
       "ENSG00000000938    40\n",
       "ENSG00000000971    44\n",
       "ENSG00000001084    46\n",
       "ENSG00000001167    48\n",
       "                   ..\n",
       "ENSG00000278540    44\n",
       "ENSG00000278828     5\n",
       "ENSG00000278845    91\n",
       "ENSG00000281005    81\n",
       "ENSG00000282608    40\n",
       "Name: n_snps_in_model_sum, Length: 6443, dtype: int64"
      ]
     },
     "execution_count": 118,
     "metadata": {},
     "output_type": "execute_result"
    }
   ],
   "source": [
    "spredixcan_genes_sum_of_n_snps_in_model"
   ]
  },
  {
   "cell_type": "code",
   "execution_count": 119,
   "id": "d13e1d65-0dcb-4a94-aba8-bcdcd09d17c3",
   "metadata": {
    "execution": {
     "iopub.execute_input": "2022-11-29T22:08:56.875714Z",
     "iopub.status.busy": "2022-11-29T22:08:56.875268Z",
     "iopub.status.idle": "2022-11-29T22:08:56.894660Z",
     "shell.execute_reply": "2022-11-29T22:08:56.894017Z"
    },
    "papermill": {
     "duration": 0.037482,
     "end_time": "2022-11-29T22:08:56.895564",
     "exception": false,
     "start_time": "2022-11-29T22:08:56.858082",
     "status": "completed"
    },
    "tags": []
   },
   "outputs": [],
   "source": [
    "# add sum of snps in model to spredixcan_genes_models\n",
    "spredixcan_genes_models = spredixcan_genes_models.join(\n",
    "    spredixcan_genes_sum_of_n_snps_in_model\n",
    ")"
   ]
  },
  {
   "cell_type": "code",
   "execution_count": 120,
   "id": "0d3973d8-5da2-4c9d-b406-2525f615035c",
   "metadata": {
    "execution": {
     "iopub.execute_input": "2022-11-29T22:08:56.929860Z",
     "iopub.status.busy": "2022-11-29T22:08:56.929533Z",
     "iopub.status.idle": "2022-11-29T22:08:56.946048Z",
     "shell.execute_reply": "2022-11-29T22:08:56.945532Z"
    },
    "papermill": {
     "duration": 0.034532,
     "end_time": "2022-11-29T22:08:56.946826",
     "exception": false,
     "start_time": "2022-11-29T22:08:56.912294",
     "status": "completed"
    },
    "tags": []
   },
   "outputs": [
    {
     "data": {
      "text/plain": [
       "(6443, 5)"
      ]
     },
     "execution_count": 120,
     "metadata": {},
     "output_type": "execute_result"
    }
   ],
   "source": [
    "spredixcan_genes_models.shape"
   ]
  },
  {
   "cell_type": "code",
   "execution_count": 121,
   "id": "76c27f05-c5c6-4ed9-9363-fcba871a3572",
   "metadata": {
    "execution": {
     "iopub.execute_input": "2022-11-29T22:08:56.981115Z",
     "iopub.status.busy": "2022-11-29T22:08:56.980551Z",
     "iopub.status.idle": "2022-11-29T22:08:57.002936Z",
     "shell.execute_reply": "2022-11-29T22:08:57.002449Z"
    },
    "papermill": {
     "duration": 0.040407,
     "end_time": "2022-11-29T22:08:57.003787",
     "exception": false,
     "start_time": "2022-11-29T22:08:56.963380",
     "status": "completed"
    },
    "tags": []
   },
   "outputs": [
    {
     "data": {
      "text/html": [
       "<div>\n",
       "<style scoped>\n",
       "    .dataframe tbody tr th:only-of-type {\n",
       "        vertical-align: middle;\n",
       "    }\n",
       "\n",
       "    .dataframe tbody tr th {\n",
       "        vertical-align: top;\n",
       "    }\n",
       "\n",
       "    .dataframe thead th {\n",
       "        text-align: right;\n",
       "    }\n",
       "</style>\n",
       "<table border=\"1\" class=\"dataframe\">\n",
       "  <thead>\n",
       "    <tr style=\"text-align: right;\">\n",
       "      <th></th>\n",
       "      <th>gene_name</th>\n",
       "      <th>tissue</th>\n",
       "      <th>n_tissues</th>\n",
       "      <th>n_snps_used_sum</th>\n",
       "      <th>n_snps_in_model_sum</th>\n",
       "    </tr>\n",
       "    <tr>\n",
       "      <th>gene_id</th>\n",
       "      <th></th>\n",
       "      <th></th>\n",
       "      <th></th>\n",
       "      <th></th>\n",
       "      <th></th>\n",
       "    </tr>\n",
       "  </thead>\n",
       "  <tbody>\n",
       "    <tr>\n",
       "      <th>ENSG00000000419</th>\n",
       "      <td>DPM1</td>\n",
       "      <td>(Brain_Hypothalamus, Brain_Substantia_nigra)</td>\n",
       "      <td>2</td>\n",
       "      <td>2</td>\n",
       "      <td>2</td>\n",
       "    </tr>\n",
       "    <tr>\n",
       "      <th>ENSG00000000938</th>\n",
       "      <td>FGR</td>\n",
       "      <td>(Brain_Frontal_Cortex_BA9, Nerve_Tibial, Brain...</td>\n",
       "      <td>36</td>\n",
       "      <td>40</td>\n",
       "      <td>40</td>\n",
       "    </tr>\n",
       "    <tr>\n",
       "      <th>ENSG00000000971</th>\n",
       "      <td>CFH</td>\n",
       "      <td>(Brain_Frontal_Cortex_BA9, Nerve_Tibial, Brain...</td>\n",
       "      <td>34</td>\n",
       "      <td>44</td>\n",
       "      <td>44</td>\n",
       "    </tr>\n",
       "    <tr>\n",
       "      <th>ENSG00000001084</th>\n",
       "      <td>GCLC</td>\n",
       "      <td>(Brain_Frontal_Cortex_BA9, Nerve_Tibial, Brain...</td>\n",
       "      <td>32</td>\n",
       "      <td>46</td>\n",
       "      <td>46</td>\n",
       "    </tr>\n",
       "    <tr>\n",
       "      <th>ENSG00000001167</th>\n",
       "      <td>NFYA</td>\n",
       "      <td>(Nerve_Tibial, Brain_Putamen_basal_ganglia, Br...</td>\n",
       "      <td>40</td>\n",
       "      <td>47</td>\n",
       "      <td>48</td>\n",
       "    </tr>\n",
       "  </tbody>\n",
       "</table>\n",
       "</div>"
      ],
      "text/plain": [
       "                gene_name                                             tissue  \\\n",
       "gene_id                                                                        \n",
       "ENSG00000000419      DPM1       (Brain_Hypothalamus, Brain_Substantia_nigra)   \n",
       "ENSG00000000938       FGR  (Brain_Frontal_Cortex_BA9, Nerve_Tibial, Brain...   \n",
       "ENSG00000000971       CFH  (Brain_Frontal_Cortex_BA9, Nerve_Tibial, Brain...   \n",
       "ENSG00000001084      GCLC  (Brain_Frontal_Cortex_BA9, Nerve_Tibial, Brain...   \n",
       "ENSG00000001167      NFYA  (Nerve_Tibial, Brain_Putamen_basal_ganglia, Br...   \n",
       "\n",
       "                 n_tissues  n_snps_used_sum  n_snps_in_model_sum  \n",
       "gene_id                                                           \n",
       "ENSG00000000419          2                2                    2  \n",
       "ENSG00000000938         36               40                   40  \n",
       "ENSG00000000971         34               44                   44  \n",
       "ENSG00000001084         32               46                   46  \n",
       "ENSG00000001167         40               47                   48  "
      ]
     },
     "execution_count": 121,
     "metadata": {},
     "output_type": "execute_result"
    }
   ],
   "source": [
    "spredixcan_genes_models.head()"
   ]
  },
  {
   "cell_type": "markdown",
   "id": "e9f61a50-a5b5-4c85-9dec-3ceaaf65c61d",
   "metadata": {
    "papermill": {
     "duration": 0.018026,
     "end_time": "2022-11-29T22:08:57.039470",
     "exception": false,
     "start_time": "2022-11-29T22:08:57.021444",
     "status": "completed"
    },
    "tags": []
   },
   "source": [
    "### Summarize prediction models for each gene"
   ]
  },
  {
   "cell_type": "code",
   "execution_count": 122,
   "id": "4f44928f-b401-4abb-ac00-3b15b2746504",
   "metadata": {
    "execution": {
     "iopub.execute_input": "2022-11-29T22:08:57.075099Z",
     "iopub.status.busy": "2022-11-29T22:08:57.074445Z",
     "iopub.status.idle": "2022-11-29T22:08:57.091196Z",
     "shell.execute_reply": "2022-11-29T22:08:57.090697Z"
    },
    "papermill": {
     "duration": 0.03558,
     "end_time": "2022-11-29T22:08:57.092140",
     "exception": false,
     "start_time": "2022-11-29T22:08:57.056560",
     "status": "completed"
    },
    "tags": []
   },
   "outputs": [],
   "source": [
    "# def _summarize_gene_models(gene_id):\n",
    "#     \"\"\"\n",
    "#     For a given gene ID, it returns a dataframe with predictor SNPs in rows and tissues in columns, where\n",
    "#     values are the weights of SNPs in those tissues.\n",
    "#     It can contain NaNs.\n",
    "#     \"\"\"\n",
    "#     gene_obj = spredixcan_gene_obj[gene_id]\n",
    "#     gene_tissues = spredixcan_genes_models.loc[gene_id, \"tissue\"]\n",
    "\n",
    "#     gene_models = {}\n",
    "#     gene_unique_snps = set()\n",
    "#     for t in gene_tissues:\n",
    "#         gene_model = gene_obj.get_prediction_weights(tissue=t, model_type=EQTL_MODEL)\n",
    "#         gene_models[t] = gene_model\n",
    "\n",
    "#         gene_unique_snps.update(set(gene_model.index))\n",
    "\n",
    "#     df = pd.DataFrame(\n",
    "#         data=np.nan, index=list(gene_unique_snps), columns=list(gene_tissues)\n",
    "#     )\n",
    "\n",
    "#     for t in df.columns:\n",
    "#         for snp in df.index:\n",
    "#             gene_model = gene_models[t]\n",
    "\n",
    "#             if snp in gene_model.index:\n",
    "#                 df.loc[snp, t] = gene_model.loc[snp]\n",
    "\n",
    "#     return df"
   ]
  },
  {
   "cell_type": "code",
   "execution_count": 123,
   "id": "71bb0b5a-fe44-4076-91df-d8077ff85c71",
   "metadata": {
    "execution": {
     "iopub.execute_input": "2022-11-29T22:08:57.127299Z",
     "iopub.status.busy": "2022-11-29T22:08:57.126746Z",
     "iopub.status.idle": "2022-11-29T22:08:57.141397Z",
     "shell.execute_reply": "2022-11-29T22:08:57.140923Z"
    },
    "papermill": {
     "duration": 0.033054,
     "end_time": "2022-11-29T22:08:57.142293",
     "exception": false,
     "start_time": "2022-11-29T22:08:57.109239",
     "status": "completed"
    },
    "tags": []
   },
   "outputs": [],
   "source": [
    "# # testing\n",
    "# spredixcan_gene_obj[\"ENSG00000000419\"].get_prediction_weights(\n",
    "#     tissue=\"Brain_Hypothalamus\", model_type=EQTL_MODEL\n",
    "# )"
   ]
  },
  {
   "cell_type": "code",
   "execution_count": 124,
   "id": "ad18b2d9-f585-445b-a809-bd694d417a8a",
   "metadata": {
    "execution": {
     "iopub.execute_input": "2022-11-29T22:08:57.177789Z",
     "iopub.status.busy": "2022-11-29T22:08:57.177123Z",
     "iopub.status.idle": "2022-11-29T22:08:57.198823Z",
     "shell.execute_reply": "2022-11-29T22:08:57.198195Z"
    },
    "papermill": {
     "duration": 0.040621,
     "end_time": "2022-11-29T22:08:57.199810",
     "exception": false,
     "start_time": "2022-11-29T22:08:57.159189",
     "status": "completed"
    },
    "tags": []
   },
   "outputs": [],
   "source": [
    "# spredixcan_gene_obj[\"ENSG00000000419\"].get_prediction_weights(\n",
    "#     tissue=\"Brain_Substantia_nigra\", model_type=EQTL_MODEL\n",
    "# )"
   ]
  },
  {
   "cell_type": "code",
   "execution_count": 125,
   "id": "82ef5dec-283c-44ee-a118-b28d87a5b298",
   "metadata": {
    "execution": {
     "iopub.execute_input": "2022-11-29T22:08:57.234959Z",
     "iopub.status.busy": "2022-11-29T22:08:57.234424Z",
     "iopub.status.idle": "2022-11-29T22:08:57.256682Z",
     "shell.execute_reply": "2022-11-29T22:08:57.256027Z"
    },
    "papermill": {
     "duration": 0.040833,
     "end_time": "2022-11-29T22:08:57.257691",
     "exception": false,
     "start_time": "2022-11-29T22:08:57.216858",
     "status": "completed"
    },
    "tags": []
   },
   "outputs": [],
   "source": [
    "# # testing\n",
    "# _gene_id = \"ENSG00000000419\"\n",
    "\n",
    "# _gene_model = _summarize_gene_models(_gene_id)\n",
    "# assert (\n",
    "#     _gene_model.loc[\"chr20_50862947_C_T_b38\", \"Brain_Hypothalamus\"].round(5) == 0.43138\n",
    "# )\n",
    "# assert pd.isnull(_gene_model.loc[\"chr20_50957480_C_T_b38\", \"Brain_Hypothalamus\"])\n",
    "\n",
    "# assert pd.isnull(_gene_model.loc[\"chr20_50862947_C_T_b38\", \"Brain_Substantia_nigra\"])\n",
    "# assert (\n",
    "#     _gene_model.loc[\"chr20_50957480_C_T_b38\", \"Brain_Substantia_nigra\"].round(5)\n",
    "#     == -0.1468\n",
    "# )"
   ]
  },
  {
   "cell_type": "code",
   "execution_count": 126,
   "id": "134a7533-69e8-4858-8763-1fd45cbdec77",
   "metadata": {
    "execution": {
     "iopub.execute_input": "2022-11-29T22:08:57.292217Z",
     "iopub.status.busy": "2022-11-29T22:08:57.291897Z",
     "iopub.status.idle": "2022-11-29T22:08:57.310138Z",
     "shell.execute_reply": "2022-11-29T22:08:57.309630Z"
    },
    "papermill": {
     "duration": 0.036408,
     "end_time": "2022-11-29T22:08:57.311064",
     "exception": false,
     "start_time": "2022-11-29T22:08:57.274656",
     "status": "completed"
    },
    "tags": []
   },
   "outputs": [],
   "source": [
    "# gene_models = {}\n",
    "\n",
    "# for gene_id in spredixcan_genes_models.index:\n",
    "#     gene_models[gene_id] = _summarize_gene_models(gene_id)"
   ]
  },
  {
   "cell_type": "code",
   "execution_count": 127,
   "id": "97117dc0-0476-4e7b-98cb-6738dbb28c8a",
   "metadata": {
    "execution": {
     "iopub.execute_input": "2022-11-29T22:08:57.346072Z",
     "iopub.status.busy": "2022-11-29T22:08:57.345509Z",
     "iopub.status.idle": "2022-11-29T22:08:57.360614Z",
     "shell.execute_reply": "2022-11-29T22:08:57.360123Z"
    },
    "papermill": {
     "duration": 0.033434,
     "end_time": "2022-11-29T22:08:57.361505",
     "exception": false,
     "start_time": "2022-11-29T22:08:57.328071",
     "status": "completed"
    },
    "tags": []
   },
   "outputs": [],
   "source": [
    "# # testing\n",
    "# _gene_id = \"ENSG00000000419\"\n",
    "\n",
    "# _gene_model = gene_models[_gene_id]\n",
    "# assert (\n",
    "#     _gene_model.loc[\"chr20_50862947_C_T_b38\", \"Brain_Hypothalamus\"].round(5) == 0.43138\n",
    "# )\n",
    "# assert pd.isnull(_gene_model.loc[\"chr20_50957480_C_T_b38\", \"Brain_Hypothalamus\"])\n",
    "\n",
    "# assert pd.isnull(_gene_model.loc[\"chr20_50862947_C_T_b38\", \"Brain_Substantia_nigra\"])\n",
    "# assert (\n",
    "#     _gene_model.loc[\"chr20_50957480_C_T_b38\", \"Brain_Substantia_nigra\"].round(5)\n",
    "#     == -0.1468\n",
    "# )"
   ]
  },
  {
   "cell_type": "code",
   "execution_count": 128,
   "id": "806cd4a5-51b1-4ed3-8aa3-4970c128ccff",
   "metadata": {
    "execution": {
     "iopub.execute_input": "2022-11-29T22:08:57.396097Z",
     "iopub.status.busy": "2022-11-29T22:08:57.395889Z",
     "iopub.status.idle": "2022-11-29T22:08:57.410512Z",
     "shell.execute_reply": "2022-11-29T22:08:57.410029Z"
    },
    "papermill": {
     "duration": 0.032804,
     "end_time": "2022-11-29T22:08:57.411358",
     "exception": false,
     "start_time": "2022-11-29T22:08:57.378554",
     "status": "completed"
    },
    "tags": []
   },
   "outputs": [],
   "source": [
    "# # save\n",
    "# import gzip\n",
    "\n",
    "# with gzip.GzipFile(OUTPUT_DIR_BASE / \"gene_tissues_models.pkl.gz\", \"w\") as f:\n",
    "#     pickle.dump(gene_models, f)"
   ]
  },
  {
   "cell_type": "code",
   "execution_count": 129,
   "id": "a12a9597-dd0a-40a0-9a42-f288af22e0d2",
   "metadata": {
    "execution": {
     "iopub.execute_input": "2022-11-29T22:08:57.446477Z",
     "iopub.status.busy": "2022-11-29T22:08:57.445951Z",
     "iopub.status.idle": "2022-11-29T22:08:57.460293Z",
     "shell.execute_reply": "2022-11-29T22:08:57.459819Z"
    },
    "papermill": {
     "duration": 0.032719,
     "end_time": "2022-11-29T22:08:57.461199",
     "exception": false,
     "start_time": "2022-11-29T22:08:57.428480",
     "status": "completed"
    },
    "tags": []
   },
   "outputs": [],
   "source": [
    "# # testing saved file\n",
    "# with gzip.GzipFile(OUTPUT_DIR_BASE / \"gene_tissues_models.pkl.gz\", \"r\") as f:\n",
    "#     _tmp = pickle.load(f)"
   ]
  },
  {
   "cell_type": "code",
   "execution_count": 130,
   "id": "a90a8f83-75db-4f73-8f1a-7e0563ba3685",
   "metadata": {
    "execution": {
     "iopub.execute_input": "2022-11-29T22:08:57.495920Z",
     "iopub.status.busy": "2022-11-29T22:08:57.495727Z",
     "iopub.status.idle": "2022-11-29T22:08:57.510579Z",
     "shell.execute_reply": "2022-11-29T22:08:57.510099Z"
    },
    "papermill": {
     "duration": 0.033213,
     "end_time": "2022-11-29T22:08:57.511473",
     "exception": false,
     "start_time": "2022-11-29T22:08:57.478260",
     "status": "completed"
    },
    "tags": []
   },
   "outputs": [],
   "source": [
    "# assert len(gene_models) == len(_tmp)\n",
    "# assert gene_models[\"ENSG00000000419\"].equals(_tmp[\"ENSG00000000419\"])"
   ]
  },
  {
   "cell_type": "markdown",
   "id": "a147f3a8-4efd-457b-9581-00cbfacd4b3d",
   "metadata": {
    "papermill": {
     "duration": 0.016888,
     "end_time": "2022-11-29T22:08:57.545471",
     "exception": false,
     "start_time": "2022-11-29T22:08:57.528583",
     "status": "completed"
    },
    "tags": []
   },
   "source": [
    "### Count number of _unique_ SNPs predictors used and available across tissue models"
   ]
  },
  {
   "cell_type": "code",
   "execution_count": 131,
   "id": "38d5bc57-3c25-4abe-93bd-09bbe200f2ef",
   "metadata": {
    "execution": {
     "iopub.execute_input": "2022-11-29T22:08:57.603252Z",
     "iopub.status.busy": "2022-11-29T22:08:57.603054Z",
     "iopub.status.idle": "2022-11-29T22:08:57.618597Z",
     "shell.execute_reply": "2022-11-29T22:08:57.618117Z"
    },
    "papermill": {
     "duration": 0.034138,
     "end_time": "2022-11-29T22:08:57.619520",
     "exception": false,
     "start_time": "2022-11-29T22:08:57.585382",
     "status": "completed"
    },
    "tags": []
   },
   "outputs": [],
   "source": [
    "# def _count_unique_snps(gene_id):\n",
    "#     \"\"\"\n",
    "#     For a gene_id, it counts unique SNPs in all models and their intersection with GWAS SNPs (therefore, used by S-PrediXcan).\n",
    "#     \"\"\"\n",
    "#     gene_tissues = spredixcan_genes_models.loc[gene_id, \"tissue\"]\n",
    "\n",
    "#     gene_unique_snps = set()\n",
    "#     for t in gene_tissues:\n",
    "#         t_snps = set(gene_models[gene_id].index)\n",
    "#         gene_unique_snps.update(t_snps)\n",
    "\n",
    "#     gene_unique_snps_in_gwas = gwas_variants_ids_set.intersection(gene_unique_snps)\n",
    "\n",
    "#     return pd.Series(\n",
    "#         {\n",
    "#             \"unique_n_snps_in_model\": len(gene_unique_snps),\n",
    "#             \"unique_n_snps_used\": len(gene_unique_snps_in_gwas),\n",
    "#         }\n",
    "#     )"
   ]
  },
  {
   "cell_type": "code",
   "execution_count": 132,
   "id": "059c6e02-67e2-4376-a3e5-b815070779c9",
   "metadata": {
    "execution": {
     "iopub.execute_input": "2022-11-29T22:08:57.654738Z",
     "iopub.status.busy": "2022-11-29T22:08:57.654191Z",
     "iopub.status.idle": "2022-11-29T22:08:57.669069Z",
     "shell.execute_reply": "2022-11-29T22:08:57.668554Z"
    },
    "papermill": {
     "duration": 0.033121,
     "end_time": "2022-11-29T22:08:57.669852",
     "exception": false,
     "start_time": "2022-11-29T22:08:57.636731",
     "status": "completed"
    },
    "tags": []
   },
   "outputs": [],
   "source": [
    "# # testing\n",
    "# spredixcan_genes_models[spredixcan_genes_models[\"n_snps_used_sum\"] == 2].head()"
   ]
  },
  {
   "cell_type": "code",
   "execution_count": 133,
   "id": "4f8a444c-c3e2-4688-a50b-08481d41f614",
   "metadata": {
    "execution": {
     "iopub.execute_input": "2022-11-29T22:08:57.705158Z",
     "iopub.status.busy": "2022-11-29T22:08:57.704588Z",
     "iopub.status.idle": "2022-11-29T22:08:57.719327Z",
     "shell.execute_reply": "2022-11-29T22:08:57.718838Z"
    },
    "papermill": {
     "duration": 0.033249,
     "end_time": "2022-11-29T22:08:57.720225",
     "exception": false,
     "start_time": "2022-11-29T22:08:57.686976",
     "status": "completed"
    },
    "tags": []
   },
   "outputs": [],
   "source": [
    "# # case with two snps, not repeated across tissues\n",
    "# _gene_id = \"ENSG00000000419\"\n",
    "# display(\n",
    "#     spredixcan_gene_obj[_gene_id].get_prediction_weights(\n",
    "#         tissue=\"Brain_Hypothalamus\", model_type=EQTL_MODEL\n",
    "#     )\n",
    "# )\n",
    "# display(\n",
    "#     spredixcan_gene_obj[_gene_id].get_prediction_weights(\n",
    "#         tissue=\"Brain_Substantia_nigra\", model_type=EQTL_MODEL\n",
    "#     )\n",
    "# )"
   ]
  },
  {
   "cell_type": "code",
   "execution_count": 134,
   "id": "f835cf57-eea6-4468-aaf2-d85c8164d177",
   "metadata": {
    "execution": {
     "iopub.execute_input": "2022-11-29T22:08:57.755204Z",
     "iopub.status.busy": "2022-11-29T22:08:57.754699Z",
     "iopub.status.idle": "2022-11-29T22:08:57.769063Z",
     "shell.execute_reply": "2022-11-29T22:08:57.768543Z"
    },
    "papermill": {
     "duration": 0.032507,
     "end_time": "2022-11-29T22:08:57.769833",
     "exception": false,
     "start_time": "2022-11-29T22:08:57.737326",
     "status": "completed"
    },
    "tags": []
   },
   "outputs": [],
   "source": [
    "# _tmp = _count_unique_snps(_gene_id)\n",
    "# assert _tmp.shape[0] == 2\n",
    "# assert _tmp[\"unique_n_snps_in_model\"] == 2\n",
    "# assert _tmp[\"unique_n_snps_used\"] == 2"
   ]
  },
  {
   "cell_type": "code",
   "execution_count": 135,
   "id": "520837f6-5cdd-4958-aa98-00cd1ebab484",
   "metadata": {
    "execution": {
     "iopub.execute_input": "2022-11-29T22:08:57.804953Z",
     "iopub.status.busy": "2022-11-29T22:08:57.804425Z",
     "iopub.status.idle": "2022-11-29T22:08:57.818761Z",
     "shell.execute_reply": "2022-11-29T22:08:57.818289Z"
    },
    "papermill": {
     "duration": 0.032637,
     "end_time": "2022-11-29T22:08:57.819574",
     "exception": false,
     "start_time": "2022-11-29T22:08:57.786937",
     "status": "completed"
    },
    "tags": []
   },
   "outputs": [],
   "source": [
    "# # get unique snps for all genes\n",
    "# spredixcan_genes_unique_n_snps = spredixcan_genes_models.groupby(\"gene_id\").apply(\n",
    "#     lambda x: _count_unique_snps(x.name)\n",
    "# )"
   ]
  },
  {
   "cell_type": "code",
   "execution_count": 136,
   "id": "72633373-73d7-4796-b915-06fcb18feca0",
   "metadata": {
    "execution": {
     "iopub.execute_input": "2022-11-29T22:08:57.854914Z",
     "iopub.status.busy": "2022-11-29T22:08:57.854390Z",
     "iopub.status.idle": "2022-11-29T22:08:57.868839Z",
     "shell.execute_reply": "2022-11-29T22:08:57.868357Z"
    },
    "papermill": {
     "duration": 0.032924,
     "end_time": "2022-11-29T22:08:57.869683",
     "exception": false,
     "start_time": "2022-11-29T22:08:57.836759",
     "status": "completed"
    },
    "tags": []
   },
   "outputs": [],
   "source": [
    "# spredixcan_genes_unique_n_snps.head()"
   ]
  },
  {
   "cell_type": "code",
   "execution_count": 137,
   "id": "3d2b6676-2168-44b8-8d02-d29b934ba2ec",
   "metadata": {
    "execution": {
     "iopub.execute_input": "2022-11-29T22:08:57.905223Z",
     "iopub.status.busy": "2022-11-29T22:08:57.904666Z",
     "iopub.status.idle": "2022-11-29T22:08:57.919030Z",
     "shell.execute_reply": "2022-11-29T22:08:57.918556Z"
    },
    "papermill": {
     "duration": 0.032883,
     "end_time": "2022-11-29T22:08:57.919899",
     "exception": false,
     "start_time": "2022-11-29T22:08:57.887016",
     "status": "completed"
    },
    "tags": []
   },
   "outputs": [],
   "source": [
    "# assert (\n",
    "#     spredixcan_genes_unique_n_snps[\"unique_n_snps_in_model\"]\n",
    "#     >= spredixcan_genes_unique_n_snps[\"unique_n_snps_used\"]\n",
    "# ).all()"
   ]
  },
  {
   "cell_type": "code",
   "execution_count": 138,
   "id": "6accf2fe-93fe-4f7c-86ff-5f0ea3d17e11",
   "metadata": {
    "execution": {
     "iopub.execute_input": "2022-11-29T22:08:57.955496Z",
     "iopub.status.busy": "2022-11-29T22:08:57.954981Z",
     "iopub.status.idle": "2022-11-29T22:08:57.969240Z",
     "shell.execute_reply": "2022-11-29T22:08:57.968767Z"
    },
    "papermill": {
     "duration": 0.032682,
     "end_time": "2022-11-29T22:08:57.970047",
     "exception": false,
     "start_time": "2022-11-29T22:08:57.937365",
     "status": "completed"
    },
    "tags": []
   },
   "outputs": [],
   "source": [
    "# # add unique snps to spredixcan_genes_models\n",
    "# spredixcan_genes_models = spredixcan_genes_models.join(spredixcan_genes_unique_n_snps)"
   ]
  },
  {
   "cell_type": "code",
   "execution_count": 139,
   "id": "25a28358-843b-4421-9d8f-8edc41f016e3",
   "metadata": {
    "execution": {
     "iopub.execute_input": "2022-11-29T22:08:58.006576Z",
     "iopub.status.busy": "2022-11-29T22:08:58.006169Z",
     "iopub.status.idle": "2022-11-29T22:08:58.020699Z",
     "shell.execute_reply": "2022-11-29T22:08:58.020158Z"
    },
    "papermill": {
     "duration": 0.03395,
     "end_time": "2022-11-29T22:08:58.021655",
     "exception": false,
     "start_time": "2022-11-29T22:08:57.987705",
     "status": "completed"
    },
    "tags": []
   },
   "outputs": [],
   "source": [
    "# spredixcan_genes_models.shape"
   ]
  },
  {
   "cell_type": "code",
   "execution_count": 140,
   "id": "ae4f0cd6-a823-4f55-82cf-1a78f0392acf",
   "metadata": {
    "execution": {
     "iopub.execute_input": "2022-11-29T22:08:58.057836Z",
     "iopub.status.busy": "2022-11-29T22:08:58.057640Z",
     "iopub.status.idle": "2022-11-29T22:08:58.072181Z",
     "shell.execute_reply": "2022-11-29T22:08:58.071703Z"
    },
    "papermill": {
     "duration": 0.033515,
     "end_time": "2022-11-29T22:08:58.073130",
     "exception": false,
     "start_time": "2022-11-29T22:08:58.039615",
     "status": "completed"
    },
    "tags": []
   },
   "outputs": [],
   "source": [
    "# spredixcan_genes_models.head()"
   ]
  },
  {
   "cell_type": "markdown",
   "id": "d6947d45-ea78-4c6b-bf71-f7413d1687e3",
   "metadata": {
    "papermill": {
     "duration": 0.017772,
     "end_time": "2022-11-29T22:08:58.109456",
     "exception": false,
     "start_time": "2022-11-29T22:08:58.091684",
     "status": "completed"
    },
    "tags": []
   },
   "source": [
    "### Save"
   ]
  },
  {
   "cell_type": "code",
   "execution_count": 141,
   "id": "ebc3a430-7bd5-4099-8b01-aa77e704e3e7",
   "metadata": {
    "execution": {
     "iopub.execute_input": "2022-11-29T22:08:58.144936Z",
     "iopub.status.busy": "2022-11-29T22:08:58.144741Z",
     "iopub.status.idle": "2022-11-29T22:08:58.161999Z",
     "shell.execute_reply": "2022-11-29T22:08:58.161506Z"
    },
    "papermill": {
     "duration": 0.036293,
     "end_time": "2022-11-29T22:08:58.162953",
     "exception": false,
     "start_time": "2022-11-29T22:08:58.126660",
     "status": "completed"
    },
    "tags": []
   },
   "outputs": [],
   "source": [
    "# this is important, other scripts depend on gene_name to be unique\n",
    "assert spredixcan_genes_models[\"gene_name\"].is_unique"
   ]
  },
  {
   "cell_type": "code",
   "execution_count": 142,
   "id": "e2db5302-3051-4492-97e1-e759d2fb512f",
   "metadata": {
    "execution": {
     "iopub.execute_input": "2022-11-29T22:08:58.198735Z",
     "iopub.status.busy": "2022-11-29T22:08:58.198188Z",
     "iopub.status.idle": "2022-11-29T22:08:58.217935Z",
     "shell.execute_reply": "2022-11-29T22:08:58.217438Z"
    },
    "papermill": {
     "duration": 0.038337,
     "end_time": "2022-11-29T22:08:58.218731",
     "exception": false,
     "start_time": "2022-11-29T22:08:58.180394",
     "status": "completed"
    },
    "tags": []
   },
   "outputs": [
    {
     "name": "stderr",
     "output_type": "stream",
     "text": [
      "/tmp/ipykernel_123/1381297071.py:1: FutureWarning: In a future version of pandas all arguments of DataFrame.any and Series.any will be keyword-only.\n",
      "  assert not spredixcan_genes_models.isna().any(None)\n"
     ]
    }
   ],
   "source": [
    "assert not spredixcan_genes_models.isna().any(None)"
   ]
  },
  {
   "cell_type": "code",
   "execution_count": 143,
   "id": "10e19441-8390-4eb1-8da4-24752597bb54",
   "metadata": {
    "execution": {
     "iopub.execute_input": "2022-11-29T22:08:58.253955Z",
     "iopub.status.busy": "2022-11-29T22:08:58.253430Z",
     "iopub.status.idle": "2022-11-29T22:08:58.285489Z",
     "shell.execute_reply": "2022-11-29T22:08:58.284928Z"
    },
    "papermill": {
     "duration": 0.05059,
     "end_time": "2022-11-29T22:08:58.286366",
     "exception": false,
     "start_time": "2022-11-29T22:08:58.235776",
     "status": "completed"
    },
    "tags": []
   },
   "outputs": [],
   "source": [
    "spredixcan_genes_models.to_pickle(OUTPUT_DIR_BASE / \"gene_tissues.pkl\")"
   ]
  },
  {
   "cell_type": "code",
   "execution_count": null,
   "id": "b25e3ead",
   "metadata": {
    "papermill": {
     "duration": 0.017576,
     "end_time": "2022-11-29T22:08:58.321608",
     "exception": false,
     "start_time": "2022-11-29T22:08:58.304032",
     "status": "completed"
    },
    "tags": []
   },
   "outputs": [],
   "source": []
  }
 ],
 "metadata": {
  "jupytext": {
   "cell_metadata_filter": "all,-execution,-papermill,-trusted",
   "formats": "ipynb,py//py:percent"
  },
  "kernelspec": {
   "display_name": "Python 3 (ipykernel)",
   "language": "python",
   "name": "python3"
  },
  "language_info": {
   "codemirror_mode": {
    "name": "ipython",
    "version": 3
   },
   "file_extension": ".py",
   "mimetype": "text/x-python",
   "name": "python",
   "nbconvert_exporter": "python",
   "pygments_lexer": "ipython3",
   "version": "3.10.6"
  },
  "papermill": {
   "default_parameters": {},
   "duration": 34.201883,
   "end_time": "2022-11-29T22:08:59.158922",
   "environment_variables": {},
   "exception": null,
   "input_path": "projects/asthma-copd/nbs/20_gene_corrs/07-compile_gwas_snps_and_twas_genes.ipynb",
   "output_path": "projects/asthma-copd/nbs/20_gene_corrs/gene_corrs/copd_only/07-compile_gwas_snps_and_twas_genes.run.ipynb",
   "parameters": {
    "COHORT_NAME": "copd_only",
    "GWAS_FILE": "/opt/data/projects/asthma-copd/results/final_imputed_gwas/GWAS_COPD_only_GLM_SNPs_info0.7-harmonized-imputed.txt.gz",
    "OUTPUT_DIR_BASE": "/opt/data/projects/asthma-copd/results/gls_phenoplier",
    "SMULTIXCAN_FILE": "/opt/data/projects/asthma-copd/results/twas/smultixcan/GWAS_COPD_only_GLM_SNPs_info0.7-gtex_v8-mashr-smultixcan.txt",
    "SPREDIXCAN_FILE_PATTERN": "GWAS_COPD_only_GLM_SNPs_info0.7-gtex_v8-mashr-{tissue}.csv",
    "SPREDIXCAN_FOLDER": "/opt/data/projects/asthma-copd/results/twas/spredixcan"
   },
   "start_time": "2022-11-29T22:08:24.957039",
   "version": "2.2.2"
  },
  "toc-autonumbering": true
 },
 "nbformat": 4,
 "nbformat_minor": 5
}
