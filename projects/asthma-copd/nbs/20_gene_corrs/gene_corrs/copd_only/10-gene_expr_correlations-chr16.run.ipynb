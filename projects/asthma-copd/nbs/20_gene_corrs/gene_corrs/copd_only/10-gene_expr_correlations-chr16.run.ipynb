{
 "cells": [
  {
   "cell_type": "markdown",
   "id": "7a6632fb",
   "metadata": {
    "papermill": {
     "duration": 0.009228,
     "end_time": "2022-11-30T00:19:30.632173",
     "exception": false,
     "start_time": "2022-11-30T00:19:30.622945",
     "status": "completed"
    },
    "tags": []
   },
   "source": [
    "# Description"
   ]
  },
  {
   "cell_type": "markdown",
   "id": "7097c346",
   "metadata": {
    "papermill": {
     "duration": 0.008848,
     "end_time": "2022-11-30T00:19:30.650364",
     "exception": false,
     "start_time": "2022-11-30T00:19:30.641516",
     "status": "completed"
    },
    "tags": []
   },
   "source": [
    "(Please, take a look at the README.md file in this directory for instructions on how to run this notebook)\n",
    "\n",
    "This notebook computes predicted expression correlations between all genes in the MultiPLIER models.\n",
    "\n",
    "It has specicfic parameters for papermill (see under `Settings` below).\n",
    "It can be configured to run on a single chromosome to run in parallel.\n",
    "\n",
    "This notebook is not directly run. See README.md."
   ]
  },
  {
   "cell_type": "markdown",
   "id": "c61d8427",
   "metadata": {
    "papermill": {
     "duration": 0.008263,
     "end_time": "2022-11-30T00:19:30.666977",
     "exception": false,
     "start_time": "2022-11-30T00:19:30.658714",
     "status": "completed"
    },
    "tags": []
   },
   "source": [
    "# Modules"
   ]
  },
  {
   "cell_type": "code",
   "execution_count": 1,
   "id": "bbc0234f",
   "metadata": {
    "execution": {
     "iopub.execute_input": "2022-11-30T00:19:30.685789Z",
     "iopub.status.busy": "2022-11-30T00:19:30.685367Z",
     "iopub.status.idle": "2022-11-30T00:19:30.705010Z",
     "shell.execute_reply": "2022-11-30T00:19:30.704409Z"
    },
    "papermill": {
     "duration": 0.030965,
     "end_time": "2022-11-30T00:19:30.706985",
     "exception": false,
     "start_time": "2022-11-30T00:19:30.676020",
     "status": "completed"
    },
    "tags": []
   },
   "outputs": [],
   "source": [
    "%load_ext autoreload\n",
    "%autoreload 2"
   ]
  },
  {
   "cell_type": "code",
   "execution_count": 2,
   "id": "1d5f5a59",
   "metadata": {
    "execution": {
     "iopub.execute_input": "2022-11-30T00:19:30.728720Z",
     "iopub.status.busy": "2022-11-30T00:19:30.728274Z",
     "iopub.status.idle": "2022-11-30T00:19:31.421692Z",
     "shell.execute_reply": "2022-11-30T00:19:31.421082Z"
    },
    "papermill": {
     "duration": 0.705939,
     "end_time": "2022-11-30T00:19:31.423572",
     "exception": false,
     "start_time": "2022-11-30T00:19:30.717633",
     "status": "completed"
    },
    "tags": []
   },
   "outputs": [],
   "source": [
    "from random import sample, seed\n",
    "import warnings\n",
    "from pathlib import Path\n",
    "import pickle\n",
    "import traceback\n",
    "\n",
    "import numpy as np\n",
    "from scipy.spatial.distance import squareform\n",
    "import pandas as pd\n",
    "from tqdm import tqdm\n",
    "import matplotlib.pyplot as plt\n",
    "import seaborn as sns\n",
    "\n",
    "import conf\n",
    "from entity import Gene"
   ]
  },
  {
   "cell_type": "markdown",
   "id": "1eac24b5",
   "metadata": {
    "papermill": {
     "duration": 0.009831,
     "end_time": "2022-11-30T00:19:31.443693",
     "exception": false,
     "start_time": "2022-11-30T00:19:31.433862",
     "status": "completed"
    },
    "tags": []
   },
   "source": [
    "# Settings"
   ]
  },
  {
   "cell_type": "code",
   "execution_count": 3,
   "id": "ca4560ba",
   "metadata": {
    "execution": {
     "iopub.execute_input": "2022-11-30T00:19:31.463551Z",
     "iopub.status.busy": "2022-11-30T00:19:31.463073Z",
     "iopub.status.idle": "2022-11-30T00:19:31.477081Z",
     "shell.execute_reply": "2022-11-30T00:19:31.476526Z"
    },
    "papermill": {
     "duration": 0.024633,
     "end_time": "2022-11-30T00:19:31.478606",
     "exception": false,
     "start_time": "2022-11-30T00:19:31.453973",
     "status": "completed"
    },
    "tags": [
     "parameters"
    ]
   },
   "outputs": [],
   "source": [
    "# a cohort name (it could be something like UK_BIOBANK, etc)\n",
    "COHORT_NAME = None\n",
    "\n",
    "# reference panel such as 1000G or GTEX_V8\n",
    "REFERENCE_PANEL = \"GTEX_V8\"\n",
    "\n",
    "# predictions models such as MASHR or ELASTIC_NET\n",
    "EQTL_MODEL = \"MASHR\"\n",
    "\n",
    "# this is the default value used in S-MultiXcan to select the\n",
    "# top principal components of the expression correlation matrix\n",
    "SMULTIXCAN_CONDITION_NUMBER = 30\n",
    "\n",
    "# specifies a single chromosome value\n",
    "CHROMOSOME = None\n",
    "\n",
    "# If True, computes the correlation between closeby genes only;\n",
    "# otherwise, it computes correlations for all genes in a chromosome\n",
    "COMPUTE_CORRELATIONS_WITHIN_DISTANCE = False\n",
    "\n",
    "# if True, then it will continue if a gene pair correlation fails,\n",
    "# printing the warning/error for debugging. If False, any warning/error\n",
    "# will be thrown\n",
    "DEBUG_MODE = False\n",
    "\n",
    "# output dir\n",
    "OUTPUT_DIR_BASE = None"
   ]
  },
  {
   "cell_type": "code",
   "execution_count": 4,
   "id": "ca5e3175",
   "metadata": {
    "execution": {
     "iopub.execute_input": "2022-11-30T00:19:31.496987Z",
     "iopub.status.busy": "2022-11-30T00:19:31.496806Z",
     "iopub.status.idle": "2022-11-30T00:19:31.514048Z",
     "shell.execute_reply": "2022-11-30T00:19:31.513436Z"
    },
    "papermill": {
     "duration": 0.0281,
     "end_time": "2022-11-30T00:19:31.515831",
     "exception": false,
     "start_time": "2022-11-30T00:19:31.487731",
     "status": "completed"
    },
    "tags": [
     "injected-parameters"
    ]
   },
   "outputs": [],
   "source": [
    "# Parameters\n",
    "COHORT_NAME = \"copd_only\"\n",
    "CHROMOSOME = 16\n",
    "OUTPUT_DIR_BASE = \"/opt/data/projects/asthma-copd/results/gls_phenoplier\"\n"
   ]
  },
  {
   "cell_type": "code",
   "execution_count": 5,
   "id": "3190631f-27fc-480f-b18e-571d580425a5",
   "metadata": {
    "execution": {
     "iopub.execute_input": "2022-11-30T00:19:31.537509Z",
     "iopub.status.busy": "2022-11-30T00:19:31.537262Z",
     "iopub.status.idle": "2022-11-30T00:19:31.565644Z",
     "shell.execute_reply": "2022-11-30T00:19:31.565050Z"
    },
    "papermill": {
     "duration": 0.041082,
     "end_time": "2022-11-30T00:19:31.567318",
     "exception": false,
     "start_time": "2022-11-30T00:19:31.526236",
     "status": "completed"
    },
    "tags": []
   },
   "outputs": [
    {
     "data": {
      "text/plain": [
       "'Cohort name: copd_only'"
      ]
     },
     "metadata": {},
     "output_type": "display_data"
    }
   ],
   "source": [
    "assert COHORT_NAME is not None and len(COHORT_NAME) > 0, \"A cohort name must be given\"\n",
    "\n",
    "COHORT_NAME = COHORT_NAME.lower()\n",
    "display(f\"Cohort name: {COHORT_NAME}\")"
   ]
  },
  {
   "cell_type": "code",
   "execution_count": 6,
   "id": "f53ba19b-0f93-4fa2-a047-63b375939d1a",
   "metadata": {
    "execution": {
     "iopub.execute_input": "2022-11-30T00:19:31.587006Z",
     "iopub.status.busy": "2022-11-30T00:19:31.586775Z",
     "iopub.status.idle": "2022-11-30T00:19:31.605967Z",
     "shell.execute_reply": "2022-11-30T00:19:31.605357Z"
    },
    "papermill": {
     "duration": 0.030351,
     "end_time": "2022-11-30T00:19:31.607296",
     "exception": false,
     "start_time": "2022-11-30T00:19:31.576945",
     "status": "completed"
    },
    "tags": []
   },
   "outputs": [
    {
     "data": {
      "text/plain": [
       "'Reference panel: GTEX_V8'"
      ]
     },
     "metadata": {},
     "output_type": "display_data"
    }
   ],
   "source": [
    "assert (\n",
    "    REFERENCE_PANEL is not None and len(REFERENCE_PANEL) > 0\n",
    "), \"A reference panel must be given\"\n",
    "\n",
    "display(f\"Reference panel: {REFERENCE_PANEL}\")"
   ]
  },
  {
   "cell_type": "code",
   "execution_count": 7,
   "id": "e024d130-c139-429a-9c6e-ccf149e297b0",
   "metadata": {
    "execution": {
     "iopub.execute_input": "2022-11-30T00:19:31.622090Z",
     "iopub.status.busy": "2022-11-30T00:19:31.621838Z",
     "iopub.status.idle": "2022-11-30T00:19:31.641924Z",
     "shell.execute_reply": "2022-11-30T00:19:31.641321Z"
    },
    "papermill": {
     "duration": 0.028979,
     "end_time": "2022-11-30T00:19:31.643246",
     "exception": false,
     "start_time": "2022-11-30T00:19:31.614267",
     "status": "completed"
    },
    "tags": []
   },
   "outputs": [
    {
     "data": {
      "text/plain": [
       "'eQTL model: MASHR) / mashr_'"
      ]
     },
     "metadata": {},
     "output_type": "display_data"
    }
   ],
   "source": [
    "assert (\n",
    "    EQTL_MODEL is not None and len(EQTL_MODEL) > 0\n",
    "), \"A prediction/eQTL model must be given\"\n",
    "\n",
    "EQTL_MODEL_FILES_PREFIX = conf.PHENOMEXCAN[\"PREDICTION_MODELS\"][f\"{EQTL_MODEL}_PREFIX\"]\n",
    "display(f\"eQTL model: {EQTL_MODEL}) / {EQTL_MODEL_FILES_PREFIX}\")"
   ]
  },
  {
   "cell_type": "code",
   "execution_count": 8,
   "id": "552a7f63-a18c-4d3e-bb6a-94f99b431291",
   "metadata": {
    "execution": {
     "iopub.execute_input": "2022-11-30T00:19:31.658182Z",
     "iopub.status.busy": "2022-11-30T00:19:31.657814Z",
     "iopub.status.idle": "2022-11-30T00:19:31.681712Z",
     "shell.execute_reply": "2022-11-30T00:19:31.680969Z"
    },
    "papermill": {
     "duration": 0.032897,
     "end_time": "2022-11-30T00:19:31.683333",
     "exception": false,
     "start_time": "2022-11-30T00:19:31.650436",
     "status": "completed"
    },
    "tags": []
   },
   "outputs": [
    {
     "data": {
      "text/plain": [
       "'S-MultiXcan condition number: 30'"
      ]
     },
     "metadata": {},
     "output_type": "display_data"
    }
   ],
   "source": [
    "assert (\n",
    "    SMULTIXCAN_CONDITION_NUMBER is not None and SMULTIXCAN_CONDITION_NUMBER > 0\n",
    "), \"The S-MultiXcan condition number (positive integer) must be given\"\n",
    "\n",
    "display(f\"S-MultiXcan condition number: {SMULTIXCAN_CONDITION_NUMBER}\")"
   ]
  },
  {
   "cell_type": "code",
   "execution_count": 9,
   "id": "f34a336f-548e-4afe-8955-90eaea4f42c6",
   "metadata": {
    "execution": {
     "iopub.execute_input": "2022-11-30T00:19:31.702778Z",
     "iopub.status.busy": "2022-11-30T00:19:31.702430Z",
     "iopub.status.idle": "2022-11-30T00:19:31.725909Z",
     "shell.execute_reply": "2022-11-30T00:19:31.725188Z"
    },
    "papermill": {
     "duration": 0.03496,
     "end_time": "2022-11-30T00:19:31.727567",
     "exception": false,
     "start_time": "2022-11-30T00:19:31.692607",
     "status": "completed"
    },
    "tags": []
   },
   "outputs": [
    {
     "data": {
      "text/plain": [
       "'Working on chromosome 16'"
      ]
     },
     "metadata": {},
     "output_type": "display_data"
    }
   ],
   "source": [
    "assert CHROMOSOME is not None and (\n",
    "    1 <= CHROMOSOME <= 22\n",
    "), \"You have to select one chromosome (format: number between 1 and 22)\"\n",
    "\n",
    "# CHROMOSOME = str(CHROMOSOME)\n",
    "display(f\"Working on chromosome {CHROMOSOME}\")"
   ]
  },
  {
   "cell_type": "code",
   "execution_count": 10,
   "id": "ab8e96e8-06b5-4363-9dcd-dc4d78cc27f7",
   "metadata": {
    "execution": {
     "iopub.execute_input": "2022-11-30T00:19:31.747751Z",
     "iopub.status.busy": "2022-11-30T00:19:31.747387Z",
     "iopub.status.idle": "2022-11-30T00:19:31.771192Z",
     "shell.execute_reply": "2022-11-30T00:19:31.770458Z"
    },
    "papermill": {
     "duration": 0.035979,
     "end_time": "2022-11-30T00:19:31.772879",
     "exception": false,
     "start_time": "2022-11-30T00:19:31.736900",
     "status": "completed"
    },
    "tags": []
   },
   "outputs": [
    {
     "data": {
      "text/plain": [
       "'Compute correlation within distance False'"
      ]
     },
     "metadata": {},
     "output_type": "display_data"
    }
   ],
   "source": [
    "display(f\"Compute correlation within distance {COMPUTE_CORRELATIONS_WITHIN_DISTANCE}\")"
   ]
  },
  {
   "cell_type": "code",
   "execution_count": 11,
   "id": "b393b698-77e3-4ba2-8ac1-e14d51aa988f",
   "metadata": {
    "execution": {
     "iopub.execute_input": "2022-11-30T00:19:31.792900Z",
     "iopub.status.busy": "2022-11-30T00:19:31.792548Z",
     "iopub.status.idle": "2022-11-30T00:19:31.817001Z",
     "shell.execute_reply": "2022-11-30T00:19:31.816261Z"
    },
    "papermill": {
     "duration": 0.036351,
     "end_time": "2022-11-30T00:19:31.818740",
     "exception": false,
     "start_time": "2022-11-30T00:19:31.782389",
     "status": "completed"
    },
    "tags": []
   },
   "outputs": [
    {
     "data": {
      "text/plain": [
       "'Using output dir base: /opt/data/projects/asthma-copd/results/gls_phenoplier/gene_corrs/copd_only'"
      ]
     },
     "metadata": {},
     "output_type": "display_data"
    }
   ],
   "source": [
    "assert (\n",
    "    OUTPUT_DIR_BASE is not None and len(OUTPUT_DIR_BASE) > 0\n",
    "), \"Output directory path must be given\"\n",
    "\n",
    "OUTPUT_DIR_BASE = (\n",
    "    Path(OUTPUT_DIR_BASE)\n",
    "    / \"gene_corrs\"\n",
    "    / COHORT_NAME\n",
    "    # / REFERENCE_PANEL.lower()\n",
    "    # / EQTL_MODEL.lower()\n",
    ").resolve()\n",
    "\n",
    "OUTPUT_DIR_BASE.mkdir(parents=True, exist_ok=True)\n",
    "\n",
    "display(f\"Using output dir base: {OUTPUT_DIR_BASE}\")"
   ]
  },
  {
   "cell_type": "markdown",
   "id": "d2ba085e",
   "metadata": {
    "papermill": {
     "duration": 0.009845,
     "end_time": "2022-11-30T00:19:31.838517",
     "exception": false,
     "start_time": "2022-11-30T00:19:31.828672",
     "status": "completed"
    },
    "tags": []
   },
   "source": [
    "# Load data"
   ]
  },
  {
   "cell_type": "markdown",
   "id": "7dcb8db7",
   "metadata": {
    "papermill": {
     "duration": 0.009276,
     "end_time": "2022-11-30T00:19:31.857169",
     "exception": false,
     "start_time": "2022-11-30T00:19:31.847893",
     "status": "completed"
    },
    "tags": []
   },
   "source": [
    "## GWAS variants"
   ]
  },
  {
   "cell_type": "code",
   "execution_count": 12,
   "id": "29434c4e-8cd3-4b9b-82e4-b5a251d9dd19",
   "metadata": {
    "execution": {
     "iopub.execute_input": "2022-11-30T00:19:31.876587Z",
     "iopub.status.busy": "2022-11-30T00:19:31.876067Z",
     "iopub.status.idle": "2022-11-30T00:19:33.906024Z",
     "shell.execute_reply": "2022-11-30T00:19:33.905287Z"
    },
    "papermill": {
     "duration": 2.040619,
     "end_time": "2022-11-30T00:19:33.907184",
     "exception": false,
     "start_time": "2022-11-30T00:19:31.866565",
     "status": "completed"
    },
    "tags": []
   },
   "outputs": [],
   "source": [
    "with open(OUTPUT_DIR_BASE / \"gwas_variant_ids.pkl\", \"rb\") as handle:\n",
    "    gwas_variants_ids_set = pickle.load(handle)"
   ]
  },
  {
   "cell_type": "code",
   "execution_count": 13,
   "id": "b9d9dec2-4a76-4bf9-bde2-e24c95acb8a0",
   "metadata": {
    "execution": {
     "iopub.execute_input": "2022-11-30T00:19:33.917995Z",
     "iopub.status.busy": "2022-11-30T00:19:33.917806Z",
     "iopub.status.idle": "2022-11-30T00:19:33.931835Z",
     "shell.execute_reply": "2022-11-30T00:19:33.931364Z"
    },
    "papermill": {
     "duration": 0.020385,
     "end_time": "2022-11-30T00:19:33.932773",
     "exception": false,
     "start_time": "2022-11-30T00:19:33.912388",
     "status": "completed"
    },
    "tags": []
   },
   "outputs": [
    {
     "data": {
      "text/plain": [
       "8586183"
      ]
     },
     "execution_count": 13,
     "metadata": {},
     "output_type": "execute_result"
    }
   ],
   "source": [
    "len(gwas_variants_ids_set)"
   ]
  },
  {
   "cell_type": "code",
   "execution_count": 14,
   "id": "4235b06a-6034-4ee4-a0a3-2ae35d122418",
   "metadata": {
    "execution": {
     "iopub.execute_input": "2022-11-30T00:19:33.943986Z",
     "iopub.status.busy": "2022-11-30T00:19:33.943801Z",
     "iopub.status.idle": "2022-11-30T00:19:34.316798Z",
     "shell.execute_reply": "2022-11-30T00:19:34.316241Z"
    },
    "papermill": {
     "duration": 0.379406,
     "end_time": "2022-11-30T00:19:34.317778",
     "exception": false,
     "start_time": "2022-11-30T00:19:33.938372",
     "status": "completed"
    },
    "tags": []
   },
   "outputs": [
    {
     "data": {
      "text/plain": [
       "['chr3_150874546_T_TATACAC_b38',\n",
       " 'chr4_40444408_C_A_b38',\n",
       " 'chr2_200369849_T_G_b38',\n",
       " 'chr12_1514331_T_A_b38',\n",
       " 'chr4_125448059_T_C_b38']"
      ]
     },
     "execution_count": 14,
     "metadata": {},
     "output_type": "execute_result"
    }
   ],
   "source": [
    "list(gwas_variants_ids_set)[:5]"
   ]
  },
  {
   "cell_type": "markdown",
   "id": "07866999-2305-41f9-a144-e69c9122c212",
   "metadata": {
    "papermill": {
     "duration": 0.004907,
     "end_time": "2022-11-30T00:19:34.327969",
     "exception": false,
     "start_time": "2022-11-30T00:19:34.323062",
     "status": "completed"
    },
    "tags": []
   },
   "source": [
    "## S-PrediXcan tissue models"
   ]
  },
  {
   "cell_type": "code",
   "execution_count": 15,
   "id": "780611d9-77c8-405f-90a4-f271f7b09397",
   "metadata": {
    "execution": {
     "iopub.execute_input": "2022-11-30T00:19:34.339088Z",
     "iopub.status.busy": "2022-11-30T00:19:34.338944Z",
     "iopub.status.idle": "2022-11-30T00:19:34.976159Z",
     "shell.execute_reply": "2022-11-30T00:19:34.975608Z"
    },
    "papermill": {
     "duration": 0.644851,
     "end_time": "2022-11-30T00:19:34.977884",
     "exception": false,
     "start_time": "2022-11-30T00:19:34.333033",
     "status": "completed"
    },
    "tags": []
   },
   "outputs": [],
   "source": [
    "spredixcan_genes_models = pd.read_pickle(OUTPUT_DIR_BASE / \"gene_tissues.pkl\")"
   ]
  },
  {
   "cell_type": "code",
   "execution_count": 16,
   "id": "726dd1f6-9557-4225-91fa-b3b879ea96e1",
   "metadata": {
    "execution": {
     "iopub.execute_input": "2022-11-30T00:19:34.999428Z",
     "iopub.status.busy": "2022-11-30T00:19:34.999248Z",
     "iopub.status.idle": "2022-11-30T00:19:35.013899Z",
     "shell.execute_reply": "2022-11-30T00:19:35.013450Z"
    },
    "papermill": {
     "duration": 0.026642,
     "end_time": "2022-11-30T00:19:35.015309",
     "exception": false,
     "start_time": "2022-11-30T00:19:34.988667",
     "status": "completed"
    },
    "tags": []
   },
   "outputs": [
    {
     "data": {
      "text/plain": [
       "(6443, 5)"
      ]
     },
     "execution_count": 16,
     "metadata": {},
     "output_type": "execute_result"
    }
   ],
   "source": [
    "spredixcan_genes_models.shape"
   ]
  },
  {
   "cell_type": "code",
   "execution_count": 17,
   "id": "944a1b48-222c-4eb0-b252-b9de2cbca215",
   "metadata": {
    "execution": {
     "iopub.execute_input": "2022-11-30T00:19:35.035907Z",
     "iopub.status.busy": "2022-11-30T00:19:35.035728Z",
     "iopub.status.idle": "2022-11-30T00:19:35.052840Z",
     "shell.execute_reply": "2022-11-30T00:19:35.052389Z"
    },
    "papermill": {
     "duration": 0.02892,
     "end_time": "2022-11-30T00:19:35.054239",
     "exception": false,
     "start_time": "2022-11-30T00:19:35.025319",
     "status": "completed"
    },
    "tags": []
   },
   "outputs": [
    {
     "data": {
      "text/html": [
       "<div>\n",
       "<style scoped>\n",
       "    .dataframe tbody tr th:only-of-type {\n",
       "        vertical-align: middle;\n",
       "    }\n",
       "\n",
       "    .dataframe tbody tr th {\n",
       "        vertical-align: top;\n",
       "    }\n",
       "\n",
       "    .dataframe thead th {\n",
       "        text-align: right;\n",
       "    }\n",
       "</style>\n",
       "<table border=\"1\" class=\"dataframe\">\n",
       "  <thead>\n",
       "    <tr style=\"text-align: right;\">\n",
       "      <th></th>\n",
       "      <th>gene_name</th>\n",
       "      <th>tissue</th>\n",
       "      <th>n_tissues</th>\n",
       "      <th>n_snps_used_sum</th>\n",
       "      <th>n_snps_in_model_sum</th>\n",
       "    </tr>\n",
       "    <tr>\n",
       "      <th>gene_id</th>\n",
       "      <th></th>\n",
       "      <th></th>\n",
       "      <th></th>\n",
       "      <th></th>\n",
       "      <th></th>\n",
       "    </tr>\n",
       "  </thead>\n",
       "  <tbody>\n",
       "    <tr>\n",
       "      <th>ENSG00000000419</th>\n",
       "      <td>DPM1</td>\n",
       "      <td>(Brain_Hypothalamus, Brain_Substantia_nigra)</td>\n",
       "      <td>2</td>\n",
       "      <td>2</td>\n",
       "      <td>2</td>\n",
       "    </tr>\n",
       "    <tr>\n",
       "      <th>ENSG00000000938</th>\n",
       "      <td>FGR</td>\n",
       "      <td>(Brain_Hypothalamus, Pancreas, Brain_Anterior_...</td>\n",
       "      <td>36</td>\n",
       "      <td>40</td>\n",
       "      <td>40</td>\n",
       "    </tr>\n",
       "    <tr>\n",
       "      <th>ENSG00000000971</th>\n",
       "      <td>CFH</td>\n",
       "      <td>(Heart_Atrial_Appendage, Brain_Anterior_cingul...</td>\n",
       "      <td>34</td>\n",
       "      <td>44</td>\n",
       "      <td>44</td>\n",
       "    </tr>\n",
       "    <tr>\n",
       "      <th>ENSG00000001084</th>\n",
       "      <td>GCLC</td>\n",
       "      <td>(Heart_Atrial_Appendage, Pancreas, Brain_Anter...</td>\n",
       "      <td>32</td>\n",
       "      <td>46</td>\n",
       "      <td>46</td>\n",
       "    </tr>\n",
       "    <tr>\n",
       "      <th>ENSG00000001167</th>\n",
       "      <td>NFYA</td>\n",
       "      <td>(Brain_Hypothalamus, Heart_Atrial_Appendage, B...</td>\n",
       "      <td>40</td>\n",
       "      <td>47</td>\n",
       "      <td>48</td>\n",
       "    </tr>\n",
       "  </tbody>\n",
       "</table>\n",
       "</div>"
      ],
      "text/plain": [
       "                gene_name                                             tissue  \\\n",
       "gene_id                                                                        \n",
       "ENSG00000000419      DPM1       (Brain_Hypothalamus, Brain_Substantia_nigra)   \n",
       "ENSG00000000938       FGR  (Brain_Hypothalamus, Pancreas, Brain_Anterior_...   \n",
       "ENSG00000000971       CFH  (Heart_Atrial_Appendage, Brain_Anterior_cingul...   \n",
       "ENSG00000001084      GCLC  (Heart_Atrial_Appendage, Pancreas, Brain_Anter...   \n",
       "ENSG00000001167      NFYA  (Brain_Hypothalamus, Heart_Atrial_Appendage, B...   \n",
       "\n",
       "                 n_tissues  n_snps_used_sum  n_snps_in_model_sum  \n",
       "gene_id                                                           \n",
       "ENSG00000000419          2                2                    2  \n",
       "ENSG00000000938         36               40                   40  \n",
       "ENSG00000000971         34               44                   44  \n",
       "ENSG00000001084         32               46                   46  \n",
       "ENSG00000001167         40               47                   48  "
      ]
     },
     "execution_count": 17,
     "metadata": {},
     "output_type": "execute_result"
    }
   ],
   "source": [
    "spredixcan_genes_models.head()"
   ]
  },
  {
   "cell_type": "code",
   "execution_count": 18,
   "id": "d1c11bb1-be0b-4f40-b360-633d6827109f",
   "metadata": {
    "execution": {
     "iopub.execute_input": "2022-11-30T00:19:35.075835Z",
     "iopub.status.busy": "2022-11-30T00:19:35.075662Z",
     "iopub.status.idle": "2022-11-30T00:19:35.088475Z",
     "shell.execute_reply": "2022-11-30T00:19:35.087983Z"
    },
    "papermill": {
     "duration": 0.024905,
     "end_time": "2022-11-30T00:19:35.089871",
     "exception": false,
     "start_time": "2022-11-30T00:19:35.064966",
     "status": "completed"
    },
    "tags": []
   },
   "outputs": [],
   "source": [
    "assert spredixcan_genes_models.index.is_unique"
   ]
  },
  {
   "cell_type": "markdown",
   "id": "a5b5092c-a13e-47c4-a92a-480fcc08f3ae",
   "metadata": {
    "papermill": {
     "duration": 0.010553,
     "end_time": "2022-11-30T00:19:35.110752",
     "exception": false,
     "start_time": "2022-11-30T00:19:35.100199",
     "status": "completed"
    },
    "tags": []
   },
   "source": [
    "## Gene info"
   ]
  },
  {
   "cell_type": "code",
   "execution_count": 19,
   "id": "7d6bb224-88e9-4358-ac10-43a41d92cdad",
   "metadata": {
    "execution": {
     "iopub.execute_input": "2022-11-30T00:19:35.131829Z",
     "iopub.status.busy": "2022-11-30T00:19:35.131639Z",
     "iopub.status.idle": "2022-11-30T00:19:35.152257Z",
     "shell.execute_reply": "2022-11-30T00:19:35.151676Z"
    },
    "papermill": {
     "duration": 0.032795,
     "end_time": "2022-11-30T00:19:35.153691",
     "exception": false,
     "start_time": "2022-11-30T00:19:35.120896",
     "status": "completed"
    },
    "tags": []
   },
   "outputs": [],
   "source": [
    "genes_info = pd.read_pickle(OUTPUT_DIR_BASE / \"genes_info.pkl\")"
   ]
  },
  {
   "cell_type": "code",
   "execution_count": 20,
   "id": "9e32abfa-546d-483e-8c18-d526e9e05903",
   "metadata": {
    "execution": {
     "iopub.execute_input": "2022-11-30T00:19:35.175825Z",
     "iopub.status.busy": "2022-11-30T00:19:35.175582Z",
     "iopub.status.idle": "2022-11-30T00:19:35.195278Z",
     "shell.execute_reply": "2022-11-30T00:19:35.194722Z"
    },
    "papermill": {
     "duration": 0.032396,
     "end_time": "2022-11-30T00:19:35.196697",
     "exception": false,
     "start_time": "2022-11-30T00:19:35.164301",
     "status": "completed"
    },
    "tags": []
   },
   "outputs": [
    {
     "data": {
      "text/plain": [
       "(6443, 7)"
      ]
     },
     "execution_count": 20,
     "metadata": {},
     "output_type": "execute_result"
    }
   ],
   "source": [
    "genes_info.shape"
   ]
  },
  {
   "cell_type": "code",
   "execution_count": 21,
   "id": "d16c3e92-85ec-468a-9a56-e25a9774a1cb",
   "metadata": {
    "execution": {
     "iopub.execute_input": "2022-11-30T00:19:35.218502Z",
     "iopub.status.busy": "2022-11-30T00:19:35.218253Z",
     "iopub.status.idle": "2022-11-30T00:19:35.247297Z",
     "shell.execute_reply": "2022-11-30T00:19:35.246659Z"
    },
    "papermill": {
     "duration": 0.04155,
     "end_time": "2022-11-30T00:19:35.248845",
     "exception": false,
     "start_time": "2022-11-30T00:19:35.207295",
     "status": "completed"
    },
    "tags": []
   },
   "outputs": [
    {
     "data": {
      "text/html": [
       "<div>\n",
       "<style scoped>\n",
       "    .dataframe tbody tr th:only-of-type {\n",
       "        vertical-align: middle;\n",
       "    }\n",
       "\n",
       "    .dataframe tbody tr th {\n",
       "        vertical-align: top;\n",
       "    }\n",
       "\n",
       "    .dataframe thead th {\n",
       "        text-align: right;\n",
       "    }\n",
       "</style>\n",
       "<table border=\"1\" class=\"dataframe\">\n",
       "  <thead>\n",
       "    <tr style=\"text-align: right;\">\n",
       "      <th></th>\n",
       "      <th>name</th>\n",
       "      <th>id</th>\n",
       "      <th>chr</th>\n",
       "      <th>band</th>\n",
       "      <th>start_position</th>\n",
       "      <th>end_position</th>\n",
       "      <th>gene_length</th>\n",
       "    </tr>\n",
       "  </thead>\n",
       "  <tbody>\n",
       "    <tr>\n",
       "      <th>0</th>\n",
       "      <td>PPP1R13B</td>\n",
       "      <td>ENSG00000088808</td>\n",
       "      <td>14</td>\n",
       "      <td>14q32.33</td>\n",
       "      <td>103733195</td>\n",
       "      <td>103847590</td>\n",
       "      <td>114395</td>\n",
       "    </tr>\n",
       "    <tr>\n",
       "      <th>1</th>\n",
       "      <td>HNRNPA0</td>\n",
       "      <td>ENSG00000177733</td>\n",
       "      <td>5</td>\n",
       "      <td>5q31.2</td>\n",
       "      <td>137745651</td>\n",
       "      <td>137754376</td>\n",
       "      <td>8725</td>\n",
       "    </tr>\n",
       "    <tr>\n",
       "      <th>2</th>\n",
       "      <td>GSN</td>\n",
       "      <td>ENSG00000148180</td>\n",
       "      <td>9</td>\n",
       "      <td>9q33.2</td>\n",
       "      <td>121207794</td>\n",
       "      <td>121332843</td>\n",
       "      <td>125049</td>\n",
       "    </tr>\n",
       "    <tr>\n",
       "      <th>3</th>\n",
       "      <td>CCR3</td>\n",
       "      <td>ENSG00000183625</td>\n",
       "      <td>3</td>\n",
       "      <td>3p21.31</td>\n",
       "      <td>46163604</td>\n",
       "      <td>46266706</td>\n",
       "      <td>103102</td>\n",
       "    </tr>\n",
       "    <tr>\n",
       "      <th>4</th>\n",
       "      <td>TRIB2</td>\n",
       "      <td>ENSG00000071575</td>\n",
       "      <td>2</td>\n",
       "      <td>2p24.3</td>\n",
       "      <td>12716889</td>\n",
       "      <td>12742734</td>\n",
       "      <td>25845</td>\n",
       "    </tr>\n",
       "  </tbody>\n",
       "</table>\n",
       "</div>"
      ],
      "text/plain": [
       "       name               id  chr      band  start_position  end_position  \\\n",
       "0  PPP1R13B  ENSG00000088808   14  14q32.33       103733195     103847590   \n",
       "1   HNRNPA0  ENSG00000177733    5    5q31.2       137745651     137754376   \n",
       "2       GSN  ENSG00000148180    9    9q33.2       121207794     121332843   \n",
       "3      CCR3  ENSG00000183625    3   3p21.31        46163604      46266706   \n",
       "4     TRIB2  ENSG00000071575    2    2p24.3        12716889      12742734   \n",
       "\n",
       "   gene_length  \n",
       "0       114395  \n",
       "1         8725  \n",
       "2       125049  \n",
       "3       103102  \n",
       "4        25845  "
      ]
     },
     "execution_count": 21,
     "metadata": {},
     "output_type": "execute_result"
    }
   ],
   "source": [
    "genes_info.head()"
   ]
  },
  {
   "cell_type": "markdown",
   "id": "d3843e06",
   "metadata": {
    "papermill": {
     "duration": 0.010872,
     "end_time": "2022-11-30T00:19:35.270604",
     "exception": false,
     "start_time": "2022-11-30T00:19:35.259732",
     "status": "completed"
    },
    "tags": []
   },
   "source": [
    "# Compute correlations"
   ]
  },
  {
   "cell_type": "code",
   "execution_count": 22,
   "id": "cb859c15-d1f3-4006-a74c-2b83c0db9611",
   "metadata": {
    "execution": {
     "iopub.execute_input": "2022-11-30T00:19:35.293107Z",
     "iopub.status.busy": "2022-11-30T00:19:35.292717Z",
     "iopub.status.idle": "2022-11-30T00:19:35.317469Z",
     "shell.execute_reply": "2022-11-30T00:19:35.316830Z"
    },
    "papermill": {
     "duration": 0.037672,
     "end_time": "2022-11-30T00:19:35.318924",
     "exception": false,
     "start_time": "2022-11-30T00:19:35.281252",
     "status": "completed"
    },
    "tags": []
   },
   "outputs": [
    {
     "data": {
      "text/plain": [
       "PosixPath('/opt/data/projects/asthma-copd/results/gls_phenoplier/gene_corrs/copd_only/by_chr/gene_corrs-chr16.pkl')"
      ]
     },
     "metadata": {},
     "output_type": "display_data"
    }
   ],
   "source": [
    "output_dir = OUTPUT_DIR_BASE / \"by_chr\"\n",
    "output_dir.mkdir(exist_ok=True, parents=True)\n",
    "output_file = output_dir / f\"gene_corrs-chr{CHROMOSOME}.pkl\"\n",
    "display(output_file)"
   ]
  },
  {
   "cell_type": "code",
   "execution_count": 23,
   "id": "aa674fe4-6794-4eed-98fa-32b39d1d4ace",
   "metadata": {
    "execution": {
     "iopub.execute_input": "2022-11-30T00:19:35.342164Z",
     "iopub.status.busy": "2022-11-30T00:19:35.341779Z",
     "iopub.status.idle": "2022-11-30T00:19:35.364604Z",
     "shell.execute_reply": "2022-11-30T00:19:35.363955Z"
    },
    "papermill": {
     "duration": 0.035921,
     "end_time": "2022-11-30T00:19:35.366119",
     "exception": false,
     "start_time": "2022-11-30T00:19:35.330198",
     "status": "completed"
    },
    "tags": []
   },
   "outputs": [],
   "source": [
    "warnings.filterwarnings(\"error\")"
   ]
  },
  {
   "cell_type": "code",
   "execution_count": 24,
   "id": "44d5450b-3baf-43f1-9e2e-4b06f1a785f8",
   "metadata": {
    "execution": {
     "iopub.execute_input": "2022-11-30T00:19:35.389077Z",
     "iopub.status.busy": "2022-11-30T00:19:35.388692Z",
     "iopub.status.idle": "2022-11-30T00:19:35.412624Z",
     "shell.execute_reply": "2022-11-30T00:19:35.411775Z"
    },
    "papermill": {
     "duration": 0.037013,
     "end_time": "2022-11-30T00:19:35.414101",
     "exception": false,
     "start_time": "2022-11-30T00:19:35.377088",
     "status": "completed"
    },
    "tags": []
   },
   "outputs": [],
   "source": [
    "# standard checks\n",
    "all_chrs = genes_info[\"chr\"].dropna().unique()\n",
    "assert all_chrs.shape[0] == 22\n",
    "\n",
    "# select chromosome given by the user\n",
    "assert CHROMOSOME in all_chrs"
   ]
  },
  {
   "cell_type": "code",
   "execution_count": 25,
   "id": "2d7c043c-92a7-4d35-991b-fa69ac1e0268",
   "metadata": {
    "execution": {
     "iopub.execute_input": "2022-11-30T00:19:35.438181Z",
     "iopub.status.busy": "2022-11-30T00:19:35.437615Z",
     "iopub.status.idle": "2022-11-30T00:19:35.462595Z",
     "shell.execute_reply": "2022-11-30T00:19:35.461936Z"
    },
    "papermill": {
     "duration": 0.038113,
     "end_time": "2022-11-30T00:19:35.464025",
     "exception": false,
     "start_time": "2022-11-30T00:19:35.425912",
     "status": "completed"
    },
    "tags": []
   },
   "outputs": [
    {
     "name": "stdout",
     "output_type": "stream",
     "text": [
      "Number of genes in chromosome: 274\n"
     ]
    }
   ],
   "source": [
    "# run only on the chromosome specified\n",
    "all_chrs = [CHROMOSOME]\n",
    "genes_chr = genes_info[genes_info[\"chr\"] == CHROMOSOME]\n",
    "\n",
    "# For testing purposes\n",
    "# genes_chr = genes_chr.sample(n=20)\n",
    "\n",
    "print(f\"Number of genes in chromosome: {genes_chr.shape[0]}\", flush=True)"
   ]
  },
  {
   "cell_type": "code",
   "execution_count": 26,
   "id": "916015d8-2979-46d3-a9b9-1cf5a0932c6a",
   "metadata": {
    "execution": {
     "iopub.execute_input": "2022-11-30T00:19:35.487546Z",
     "iopub.status.busy": "2022-11-30T00:19:35.487187Z",
     "iopub.status.idle": "2022-11-30T00:19:35.510091Z",
     "shell.execute_reply": "2022-11-30T00:19:35.509457Z"
    },
    "papermill": {
     "duration": 0.036413,
     "end_time": "2022-11-30T00:19:35.511614",
     "exception": false,
     "start_time": "2022-11-30T00:19:35.475201",
     "status": "completed"
    },
    "tags": []
   },
   "outputs": [],
   "source": [
    "# sort genes by starting position to make visualizations better later\n",
    "genes_chr = genes_chr.sort_values(\"start_position\")"
   ]
  },
  {
   "cell_type": "code",
   "execution_count": 27,
   "id": "a38aa74a-8ad3-47f6-8ef9-56be0e011774",
   "metadata": {
    "execution": {
     "iopub.execute_input": "2022-11-30T00:19:35.534830Z",
     "iopub.status.busy": "2022-11-30T00:19:35.534492Z",
     "iopub.status.idle": "2022-11-30T00:19:35.556043Z",
     "shell.execute_reply": "2022-11-30T00:19:35.555433Z"
    },
    "papermill": {
     "duration": 0.034773,
     "end_time": "2022-11-30T00:19:35.557539",
     "exception": false,
     "start_time": "2022-11-30T00:19:35.522766",
     "status": "completed"
    },
    "tags": []
   },
   "outputs": [],
   "source": [
    "gene_chr_objs = [Gene(ensembl_id=gene_id) for gene_id in genes_chr[\"id\"]]"
   ]
  },
  {
   "cell_type": "code",
   "execution_count": 28,
   "id": "570f974f-13c3-42b6-ad3a-ce99ca885c1a",
   "metadata": {
    "execution": {
     "iopub.execute_input": "2022-11-30T00:19:35.581188Z",
     "iopub.status.busy": "2022-11-30T00:19:35.580830Z",
     "iopub.status.idle": "2022-11-30T00:19:35.601084Z",
     "shell.execute_reply": "2022-11-30T00:19:35.600499Z"
    },
    "papermill": {
     "duration": 0.03343,
     "end_time": "2022-11-30T00:19:35.602530",
     "exception": false,
     "start_time": "2022-11-30T00:19:35.569100",
     "status": "completed"
    },
    "tags": []
   },
   "outputs": [
    {
     "name": "stdout",
     "output_type": "stream",
     "text": [
      "Number of gene combinations: 37675\n"
     ]
    }
   ],
   "source": [
    "n = len(gene_chr_objs)\n",
    "# diagonal elements + upper triangular matrix\n",
    "n_comb = n + int(n * (n - 1) / 2.0)\n",
    "print(f\"Number of gene combinations: {n_comb}\", flush=True)"
   ]
  },
  {
   "cell_type": "code",
   "execution_count": 29,
   "id": "cdbb90a1",
   "metadata": {
    "execution": {
     "iopub.execute_input": "2022-11-30T00:19:35.626323Z",
     "iopub.status.busy": "2022-11-30T00:19:35.625910Z",
     "iopub.status.idle": "2022-11-30T00:46:04.020675Z",
     "shell.execute_reply": "2022-11-30T00:46:04.020162Z"
    },
    "papermill": {
     "duration": 1588.408095,
     "end_time": "2022-11-30T00:46:04.021943",
     "exception": false,
     "start_time": "2022-11-30T00:19:35.613848",
     "status": "completed"
    },
    "tags": []
   },
   "outputs": [
    {
     "name": "stderr",
     "output_type": "stream",
     "text": [
      "ENSG00000258947 / ENSG00000258947: 100%|██████████████████████| 37675/37675 [26:28<00:00, 23.72it/s]\n"
     ]
    },
    {
     "data": {
      "text/plain": [
       "PosixPath('/opt/data/projects/asthma-copd/results/gls_phenoplier/gene_corrs/copd_only/by_chr/gene_corrs-chr16.pkl')"
      ]
     },
     "metadata": {},
     "output_type": "display_data"
    }
   ],
   "source": [
    "gene_corrs = []\n",
    "gene_corrs_data = np.full(\n",
    "    (n, n),\n",
    "    np.nan,\n",
    "    dtype=np.float64,\n",
    ")\n",
    "\n",
    "i = 0\n",
    "with tqdm(ncols=100, total=n_comb) as pbar:\n",
    "    for gene1_idx in range(0, len(gene_chr_objs)):\n",
    "        gene1_obj = gene_chr_objs[gene1_idx]\n",
    "        gene1_tissues = spredixcan_genes_models.loc[gene1_obj.ensembl_id, \"tissue\"]\n",
    "\n",
    "        for gene2_idx in range(gene1_idx, len(gene_chr_objs)):\n",
    "            gene2_obj = gene_chr_objs[gene2_idx]\n",
    "            gene2_tissues = spredixcan_genes_models.loc[gene2_obj.ensembl_id, \"tissue\"]\n",
    "\n",
    "            pbar.set_description(f\"{gene1_obj.ensembl_id} / {gene2_obj.ensembl_id}\")\n",
    "\n",
    "            try:\n",
    "                r = gene1_obj.get_ssm_correlation(\n",
    "                    other_gene=gene2_obj,\n",
    "                    tissues=gene1_tissues,\n",
    "                    other_tissues=gene2_tissues,\n",
    "                    snps_subset=gwas_variants_ids_set,\n",
    "                    condition_number=SMULTIXCAN_CONDITION_NUMBER,\n",
    "                    reference_panel=REFERENCE_PANEL,\n",
    "                    model_type=EQTL_MODEL,\n",
    "                    use_within_distance=COMPUTE_CORRELATIONS_WITHIN_DISTANCE,\n",
    "                )\n",
    "\n",
    "                if r is None:\n",
    "                    # if r is None, it's very likely because:\n",
    "                    #  * one of the genes has no prediction models\n",
    "                    #  * all the SNPs predictors for the gene are not present in the reference\n",
    "                    #    panel\n",
    "\n",
    "                    r = 0.0\n",
    "\n",
    "                gene_corrs.append(r)\n",
    "\n",
    "                gene_corrs_data[gene1_idx, gene2_idx] = r\n",
    "                gene_corrs_data[gene2_idx, gene1_idx] = r\n",
    "            except Warning as e:\n",
    "                if not DEBUG_MODE:\n",
    "                    raise e\n",
    "\n",
    "                print(\n",
    "                    f\"RuntimeWarning for genes {gene1_obj.ensembl_id} and {gene2_obj.ensembl_id}\",\n",
    "                    flush=True,\n",
    "                )\n",
    "                print(traceback.format_exc(), flush=True)\n",
    "\n",
    "                gene_corrs.append(np.nan)\n",
    "            except Exception as e:\n",
    "                if not DEBUG_MODE:\n",
    "                    raise e\n",
    "\n",
    "                print(\n",
    "                    f\"Exception for genes {gene1_obj.ensembl_id} and {gene2_obj.ensembl_id}\",\n",
    "                    flush=True,\n",
    "                )\n",
    "                print(traceback.format_exc(), flush=True)\n",
    "\n",
    "                gene_corrs.append(np.nan)\n",
    "\n",
    "            pbar.update(1)\n",
    "\n",
    "# create a pandas series\n",
    "gene_corrs_flat = pd.Series(gene_corrs)\n",
    "\n",
    "# save\n",
    "# FIXME: consider saving only the condenced matrix here. See here for\n",
    "# more details: https://github.com/greenelab/phenoplier/pull/38#discussion_r634600813\n",
    "# gene_corrs_data = squareform(np.array(gene_corrs, dtype=np.float64))\n",
    "# np.fill_diagonal(gene_corrs_data, 1.0)\n",
    "\n",
    "gene_chr_ids = [g.ensembl_id for g in gene_chr_objs]\n",
    "gene_corrs_df = pd.DataFrame(\n",
    "    data=gene_corrs_data,\n",
    "    index=gene_chr_ids,\n",
    "    columns=gene_chr_ids,\n",
    ")\n",
    "\n",
    "output_dir.mkdir(exist_ok=True, parents=True)\n",
    "display(output_file)\n",
    "\n",
    "gene_corrs_df.to_pickle(output_file)"
   ]
  },
  {
   "cell_type": "markdown",
   "id": "faa67b51-5373-470f-aa72-2ded53fa6dfe",
   "metadata": {
    "papermill": {
     "duration": 1.496055,
     "end_time": "2022-11-30T00:46:07.104698",
     "exception": false,
     "start_time": "2022-11-30T00:46:05.608643",
     "status": "completed"
    },
    "tags": []
   },
   "source": [
    "# Testing"
   ]
  },
  {
   "cell_type": "code",
   "execution_count": 30,
   "id": "14f7d046-4b55-4896-a56b-990127bcc388",
   "metadata": {
    "execution": {
     "iopub.execute_input": "2022-11-30T00:46:10.159933Z",
     "iopub.status.busy": "2022-11-30T00:46:10.159480Z",
     "iopub.status.idle": "2022-11-30T00:46:10.182018Z",
     "shell.execute_reply": "2022-11-30T00:46:10.181489Z"
    },
    "papermill": {
     "duration": 1.536101,
     "end_time": "2022-11-30T00:46:10.182911",
     "exception": false,
     "start_time": "2022-11-30T00:46:08.646810",
     "status": "completed"
    },
    "tags": []
   },
   "outputs": [
    {
     "data": {
      "text/plain": [
       "(274, 274)"
      ]
     },
     "execution_count": 30,
     "metadata": {},
     "output_type": "execute_result"
    }
   ],
   "source": [
    "gene_corrs_df.shape"
   ]
  },
  {
   "cell_type": "code",
   "execution_count": 31,
   "id": "c7d15414-3297-4537-a7c6-7588c0baeb75",
   "metadata": {
    "execution": {
     "iopub.execute_input": "2022-11-30T00:46:13.120607Z",
     "iopub.status.busy": "2022-11-30T00:46:13.120068Z",
     "iopub.status.idle": "2022-11-30T00:46:13.158567Z",
     "shell.execute_reply": "2022-11-30T00:46:13.157894Z"
    },
    "papermill": {
     "duration": 1.508876,
     "end_time": "2022-11-30T00:46:13.159521",
     "exception": false,
     "start_time": "2022-11-30T00:46:11.650645",
     "status": "completed"
    },
    "tags": []
   },
   "outputs": [
    {
     "data": {
      "text/html": [
       "<div>\n",
       "<style scoped>\n",
       "    .dataframe tbody tr th:only-of-type {\n",
       "        vertical-align: middle;\n",
       "    }\n",
       "\n",
       "    .dataframe tbody tr th {\n",
       "        vertical-align: top;\n",
       "    }\n",
       "\n",
       "    .dataframe thead th {\n",
       "        text-align: right;\n",
       "    }\n",
       "</style>\n",
       "<table border=\"1\" class=\"dataframe\">\n",
       "  <thead>\n",
       "    <tr style=\"text-align: right;\">\n",
       "      <th></th>\n",
       "      <th>ENSG00000161980</th>\n",
       "      <th>ENSG00000103152</th>\n",
       "      <th>ENSG00000206172</th>\n",
       "      <th>ENSG00000086506</th>\n",
       "      <th>ENSG00000076344</th>\n",
       "      <th>ENSG00000103126</th>\n",
       "      <th>ENSG00000086504</th>\n",
       "      <th>ENSG00000103202</th>\n",
       "      <th>ENSG00000242612</th>\n",
       "      <th>ENSG00000090565</th>\n",
       "      <th>...</th>\n",
       "      <th>ENSG00000051523</th>\n",
       "      <th>ENSG00000167508</th>\n",
       "      <th>ENSG00000167513</th>\n",
       "      <th>ENSG00000198931</th>\n",
       "      <th>ENSG00000141012</th>\n",
       "      <th>ENSG00000129993</th>\n",
       "      <th>ENSG00000167526</th>\n",
       "      <th>ENSG00000187741</th>\n",
       "      <th>ENSG00000258839</th>\n",
       "      <th>ENSG00000258947</th>\n",
       "    </tr>\n",
       "  </thead>\n",
       "  <tbody>\n",
       "    <tr>\n",
       "      <th>ENSG00000161980</th>\n",
       "      <td>1.000000</td>\n",
       "      <td>0.311909</td>\n",
       "      <td>0.008425</td>\n",
       "      <td>0.032054</td>\n",
       "      <td>0.013127</td>\n",
       "      <td>0.016392</td>\n",
       "      <td>0.010935</td>\n",
       "      <td>0.013421</td>\n",
       "      <td>0.017843</td>\n",
       "      <td>0.013448</td>\n",
       "      <td>...</td>\n",
       "      <td>0.006475</td>\n",
       "      <td>0.003400</td>\n",
       "      <td>0.001707</td>\n",
       "      <td>0.001380</td>\n",
       "      <td>0.004008</td>\n",
       "      <td>0.004509</td>\n",
       "      <td>0.002774</td>\n",
       "      <td>0.004118</td>\n",
       "      <td>0.015535</td>\n",
       "      <td>0.012611</td>\n",
       "    </tr>\n",
       "    <tr>\n",
       "      <th>ENSG00000103152</th>\n",
       "      <td>0.311909</td>\n",
       "      <td>1.000000</td>\n",
       "      <td>0.034104</td>\n",
       "      <td>0.120279</td>\n",
       "      <td>0.061832</td>\n",
       "      <td>0.029735</td>\n",
       "      <td>0.025689</td>\n",
       "      <td>0.010517</td>\n",
       "      <td>0.008693</td>\n",
       "      <td>0.009125</td>\n",
       "      <td>...</td>\n",
       "      <td>0.006425</td>\n",
       "      <td>0.009523</td>\n",
       "      <td>0.005760</td>\n",
       "      <td>0.004086</td>\n",
       "      <td>0.008773</td>\n",
       "      <td>0.007464</td>\n",
       "      <td>0.008498</td>\n",
       "      <td>0.002811</td>\n",
       "      <td>0.007315</td>\n",
       "      <td>0.016487</td>\n",
       "    </tr>\n",
       "    <tr>\n",
       "      <th>ENSG00000206172</th>\n",
       "      <td>0.008425</td>\n",
       "      <td>0.034104</td>\n",
       "      <td>1.000000</td>\n",
       "      <td>0.059261</td>\n",
       "      <td>0.062245</td>\n",
       "      <td>0.025327</td>\n",
       "      <td>0.103654</td>\n",
       "      <td>0.014437</td>\n",
       "      <td>0.013527</td>\n",
       "      <td>0.011204</td>\n",
       "      <td>...</td>\n",
       "      <td>0.005227</td>\n",
       "      <td>0.006670</td>\n",
       "      <td>0.004734</td>\n",
       "      <td>0.003728</td>\n",
       "      <td>0.001948</td>\n",
       "      <td>0.002297</td>\n",
       "      <td>0.000407</td>\n",
       "      <td>0.001616</td>\n",
       "      <td>0.000899</td>\n",
       "      <td>0.005550</td>\n",
       "    </tr>\n",
       "    <tr>\n",
       "      <th>ENSG00000086506</th>\n",
       "      <td>0.032054</td>\n",
       "      <td>0.120279</td>\n",
       "      <td>0.059261</td>\n",
       "      <td>1.000000</td>\n",
       "      <td>0.169380</td>\n",
       "      <td>0.092479</td>\n",
       "      <td>0.080608</td>\n",
       "      <td>0.014114</td>\n",
       "      <td>0.017748</td>\n",
       "      <td>0.022424</td>\n",
       "      <td>...</td>\n",
       "      <td>0.006776</td>\n",
       "      <td>0.009811</td>\n",
       "      <td>0.004304</td>\n",
       "      <td>0.002996</td>\n",
       "      <td>0.004049</td>\n",
       "      <td>0.004665</td>\n",
       "      <td>0.005203</td>\n",
       "      <td>0.003655</td>\n",
       "      <td>0.003960</td>\n",
       "      <td>0.009180</td>\n",
       "    </tr>\n",
       "    <tr>\n",
       "      <th>ENSG00000076344</th>\n",
       "      <td>0.013127</td>\n",
       "      <td>0.061832</td>\n",
       "      <td>0.062245</td>\n",
       "      <td>0.169380</td>\n",
       "      <td>1.000000</td>\n",
       "      <td>0.133766</td>\n",
       "      <td>0.121072</td>\n",
       "      <td>0.064562</td>\n",
       "      <td>0.023406</td>\n",
       "      <td>0.024921</td>\n",
       "      <td>...</td>\n",
       "      <td>0.001836</td>\n",
       "      <td>0.005022</td>\n",
       "      <td>0.005254</td>\n",
       "      <td>0.003078</td>\n",
       "      <td>0.005179</td>\n",
       "      <td>0.007558</td>\n",
       "      <td>0.001843</td>\n",
       "      <td>0.004544</td>\n",
       "      <td>0.003748</td>\n",
       "      <td>0.005991</td>\n",
       "    </tr>\n",
       "  </tbody>\n",
       "</table>\n",
       "<p>5 rows × 274 columns</p>\n",
       "</div>"
      ],
      "text/plain": [
       "                 ENSG00000161980  ENSG00000103152  ENSG00000206172  \\\n",
       "ENSG00000161980         1.000000         0.311909         0.008425   \n",
       "ENSG00000103152         0.311909         1.000000         0.034104   \n",
       "ENSG00000206172         0.008425         0.034104         1.000000   \n",
       "ENSG00000086506         0.032054         0.120279         0.059261   \n",
       "ENSG00000076344         0.013127         0.061832         0.062245   \n",
       "\n",
       "                 ENSG00000086506  ENSG00000076344  ENSG00000103126  \\\n",
       "ENSG00000161980         0.032054         0.013127         0.016392   \n",
       "ENSG00000103152         0.120279         0.061832         0.029735   \n",
       "ENSG00000206172         0.059261         0.062245         0.025327   \n",
       "ENSG00000086506         1.000000         0.169380         0.092479   \n",
       "ENSG00000076344         0.169380         1.000000         0.133766   \n",
       "\n",
       "                 ENSG00000086504  ENSG00000103202  ENSG00000242612  \\\n",
       "ENSG00000161980         0.010935         0.013421         0.017843   \n",
       "ENSG00000103152         0.025689         0.010517         0.008693   \n",
       "ENSG00000206172         0.103654         0.014437         0.013527   \n",
       "ENSG00000086506         0.080608         0.014114         0.017748   \n",
       "ENSG00000076344         0.121072         0.064562         0.023406   \n",
       "\n",
       "                 ENSG00000090565  ...  ENSG00000051523  ENSG00000167508  \\\n",
       "ENSG00000161980         0.013448  ...         0.006475         0.003400   \n",
       "ENSG00000103152         0.009125  ...         0.006425         0.009523   \n",
       "ENSG00000206172         0.011204  ...         0.005227         0.006670   \n",
       "ENSG00000086506         0.022424  ...         0.006776         0.009811   \n",
       "ENSG00000076344         0.024921  ...         0.001836         0.005022   \n",
       "\n",
       "                 ENSG00000167513  ENSG00000198931  ENSG00000141012  \\\n",
       "ENSG00000161980         0.001707         0.001380         0.004008   \n",
       "ENSG00000103152         0.005760         0.004086         0.008773   \n",
       "ENSG00000206172         0.004734         0.003728         0.001948   \n",
       "ENSG00000086506         0.004304         0.002996         0.004049   \n",
       "ENSG00000076344         0.005254         0.003078         0.005179   \n",
       "\n",
       "                 ENSG00000129993  ENSG00000167526  ENSG00000187741  \\\n",
       "ENSG00000161980         0.004509         0.002774         0.004118   \n",
       "ENSG00000103152         0.007464         0.008498         0.002811   \n",
       "ENSG00000206172         0.002297         0.000407         0.001616   \n",
       "ENSG00000086506         0.004665         0.005203         0.003655   \n",
       "ENSG00000076344         0.007558         0.001843         0.004544   \n",
       "\n",
       "                 ENSG00000258839  ENSG00000258947  \n",
       "ENSG00000161980         0.015535         0.012611  \n",
       "ENSG00000103152         0.007315         0.016487  \n",
       "ENSG00000206172         0.000899         0.005550  \n",
       "ENSG00000086506         0.003960         0.009180  \n",
       "ENSG00000076344         0.003748         0.005991  \n",
       "\n",
       "[5 rows x 274 columns]"
      ]
     },
     "execution_count": 31,
     "metadata": {},
     "output_type": "execute_result"
    }
   ],
   "source": [
    "gene_corrs_df.head()"
   ]
  },
  {
   "cell_type": "markdown",
   "id": "dad6603f-01c6-41fb-a6f6-241051207dd8",
   "metadata": {
    "papermill": {
     "duration": 1.442608,
     "end_time": "2022-11-30T00:46:16.100368",
     "exception": false,
     "start_time": "2022-11-30T00:46:14.657760",
     "status": "completed"
    },
    "tags": []
   },
   "source": [
    "## Standard checks and stats"
   ]
  },
  {
   "cell_type": "code",
   "execution_count": 32,
   "id": "286686af-1b7b-4440-8453-6bdcbd8de19c",
   "metadata": {
    "execution": {
     "iopub.execute_input": "2022-11-30T00:46:19.053203Z",
     "iopub.status.busy": "2022-11-30T00:46:19.052601Z",
     "iopub.status.idle": "2022-11-30T00:46:19.075641Z",
     "shell.execute_reply": "2022-11-30T00:46:19.074960Z"
    },
    "papermill": {
     "duration": 1.497334,
     "end_time": "2022-11-30T00:46:19.076629",
     "exception": false,
     "start_time": "2022-11-30T00:46:17.579295",
     "status": "completed"
    },
    "tags": []
   },
   "outputs": [],
   "source": [
    "assert not gene_corrs_df.isna().any().any()"
   ]
  },
  {
   "cell_type": "code",
   "execution_count": 33,
   "id": "00583efc-7068-4270-ad1e-4a418e91db96",
   "metadata": {
    "execution": {
     "iopub.execute_input": "2022-11-30T00:46:21.978989Z",
     "iopub.status.busy": "2022-11-30T00:46:21.978362Z",
     "iopub.status.idle": "2022-11-30T00:46:22.002772Z",
     "shell.execute_reply": "2022-11-30T00:46:22.002102Z"
    },
    "papermill": {
     "duration": 1.488874,
     "end_time": "2022-11-30T00:46:22.003688",
     "exception": false,
     "start_time": "2022-11-30T00:46:20.514814",
     "status": "completed"
    },
    "tags": []
   },
   "outputs": [
    {
     "data": {
      "text/plain": [
       "1.5042425667065785e-06"
      ]
     },
     "metadata": {},
     "output_type": "display_data"
    }
   ],
   "source": [
    "_min_val = gene_corrs_df.min().min()\n",
    "display(_min_val)\n",
    "assert _min_val >= -0.05"
   ]
  },
  {
   "cell_type": "code",
   "execution_count": 34,
   "id": "d04fb2cf-1050-475b-b855-f5f7cc04092b",
   "metadata": {
    "execution": {
     "iopub.execute_input": "2022-11-30T00:46:24.961393Z",
     "iopub.status.busy": "2022-11-30T00:46:24.960902Z",
     "iopub.status.idle": "2022-11-30T00:46:24.985896Z",
     "shell.execute_reply": "2022-11-30T00:46:24.985401Z"
    },
    "papermill": {
     "duration": 1.510573,
     "end_time": "2022-11-30T00:46:24.986719",
     "exception": false,
     "start_time": "2022-11-30T00:46:23.476146",
     "status": "completed"
    },
    "tags": []
   },
   "outputs": [
    {
     "data": {
      "text/plain": [
       "1.0000000000000029"
      ]
     },
     "metadata": {},
     "output_type": "display_data"
    }
   ],
   "source": [
    "_max_val = gene_corrs_df.max().max()  # this captures the diagonal\n",
    "display(_max_val)\n",
    "assert _max_val <= 1.05"
   ]
  },
  {
   "cell_type": "code",
   "execution_count": 35,
   "id": "96d02c44-1fba-47be-8a93-8f2608420b9c",
   "metadata": {
    "execution": {
     "iopub.execute_input": "2022-11-30T00:46:27.915028Z",
     "iopub.status.busy": "2022-11-30T00:46:27.914672Z",
     "iopub.status.idle": "2022-11-30T00:46:27.933727Z",
     "shell.execute_reply": "2022-11-30T00:46:27.933292Z"
    },
    "papermill": {
     "duration": 1.511217,
     "end_time": "2022-11-30T00:46:27.934554",
     "exception": false,
     "start_time": "2022-11-30T00:46:26.423337",
     "status": "completed"
    },
    "tags": []
   },
   "outputs": [],
   "source": [
    "# check upper triangular values\n",
    "# assert len(gene_corrs) == int(genes_chr.shape[0] * (genes_chr.shape[0] - 1) / 2)"
   ]
  },
  {
   "cell_type": "code",
   "execution_count": 36,
   "id": "fe283586-c348-40e0-8841-f6d97bfb021c",
   "metadata": {
    "execution": {
     "iopub.execute_input": "2022-11-30T00:46:30.841528Z",
     "iopub.status.busy": "2022-11-30T00:46:30.840985Z",
     "iopub.status.idle": "2022-11-30T00:46:30.870451Z",
     "shell.execute_reply": "2022-11-30T00:46:30.869909Z"
    },
    "papermill": {
     "duration": 1.512114,
     "end_time": "2022-11-30T00:46:30.871338",
     "exception": false,
     "start_time": "2022-11-30T00:46:29.359224",
     "status": "completed"
    },
    "tags": []
   },
   "outputs": [
    {
     "data": {
      "text/plain": [
       "count    37675.000000\n",
       "mean         0.018446\n",
       "std          0.096370\n",
       "min          0.000002\n",
       "25%          0.003405\n",
       "50%          0.005364\n",
       "75%          0.007752\n",
       "max          1.000000\n",
       "dtype: float64"
      ]
     },
     "execution_count": 36,
     "metadata": {},
     "output_type": "execute_result"
    }
   ],
   "source": [
    "gene_corrs_flat.describe()"
   ]
  },
  {
   "cell_type": "code",
   "execution_count": 37,
   "id": "b3815678-0f93-4b35-897b-a9d047a2aa78",
   "metadata": {
    "execution": {
     "iopub.execute_input": "2022-11-30T00:46:33.836006Z",
     "iopub.status.busy": "2022-11-30T00:46:33.835780Z",
     "iopub.status.idle": "2022-11-30T00:46:33.853528Z",
     "shell.execute_reply": "2022-11-30T00:46:33.853126Z"
    },
    "papermill": {
     "duration": 1.50165,
     "end_time": "2022-11-30T00:46:33.854321",
     "exception": false,
     "start_time": "2022-11-30T00:46:32.352671",
     "status": "completed"
    },
    "tags": []
   },
   "outputs": [
    {
     "data": {
      "text/plain": [
       "0.00    0.000002\n",
       "0.05    0.001242\n",
       "0.10    0.001946\n",
       "0.15    0.002497\n",
       "0.20    0.002979\n",
       "0.25    0.003405\n",
       "0.30    0.003804\n",
       "0.35    0.004205\n",
       "0.40    0.004591\n",
       "0.45    0.004979\n",
       "0.50    0.005364\n",
       "0.55    0.005768\n",
       "0.60    0.006197\n",
       "0.65    0.006670\n",
       "0.70    0.007182\n",
       "0.75    0.007752\n",
       "0.80    0.008447\n",
       "0.85    0.009345\n",
       "0.90    0.010707\n",
       "0.95    0.014149\n",
       "dtype: float64"
      ]
     },
     "metadata": {},
     "output_type": "display_data"
    }
   ],
   "source": [
    "gene_corrs_quantiles = gene_corrs_flat.quantile(np.arange(0, 1, 0.05))\n",
    "display(gene_corrs_quantiles)"
   ]
  },
  {
   "cell_type": "markdown",
   "id": "87134509-b145-4a10-8bc9-b7e914c2b0fa",
   "metadata": {
    "papermill": {
     "duration": 1.430941,
     "end_time": "2022-11-30T00:46:36.751900",
     "exception": false,
     "start_time": "2022-11-30T00:46:35.320959",
     "status": "completed"
    },
    "tags": []
   },
   "source": [
    "## Positive definiteness"
   ]
  },
  {
   "cell_type": "code",
   "execution_count": 38,
   "id": "07d9a9a1-a4f7-48aa-b916-6d42a8cc6186",
   "metadata": {
    "execution": {
     "iopub.execute_input": "2022-11-30T00:46:39.703800Z",
     "iopub.status.busy": "2022-11-30T00:46:39.703476Z",
     "iopub.status.idle": "2022-11-30T00:46:39.748612Z",
     "shell.execute_reply": "2022-11-30T00:46:39.747933Z"
    },
    "papermill": {
     "duration": 1.496323,
     "end_time": "2022-11-30T00:46:39.749593",
     "exception": false,
     "start_time": "2022-11-30T00:46:38.253270",
     "status": "completed"
    },
    "tags": []
   },
   "outputs": [
    {
     "data": {
      "text/plain": [
       "0"
      ]
     },
     "metadata": {},
     "output_type": "display_data"
    },
    {
     "data": {
      "text/plain": [
       "array([], dtype=float64)"
      ]
     },
     "metadata": {},
     "output_type": "display_data"
    }
   ],
   "source": [
    "# print negative eigenvalues\n",
    "eigs = np.linalg.eigvals(gene_corrs_df.to_numpy())\n",
    "display(len(eigs[eigs < 0]))\n",
    "display(eigs[eigs < 0])"
   ]
  },
  {
   "cell_type": "code",
   "execution_count": 39,
   "id": "6e218436-c3c5-4028-8c94-a4fa6260efce",
   "metadata": {
    "execution": {
     "iopub.execute_input": "2022-11-30T00:46:42.718083Z",
     "iopub.status.busy": "2022-11-30T00:46:42.717769Z",
     "iopub.status.idle": "2022-11-30T00:46:42.746454Z",
     "shell.execute_reply": "2022-11-30T00:46:42.745893Z"
    },
    "papermill": {
     "duration": 1.513943,
     "end_time": "2022-11-30T00:46:42.747322",
     "exception": false,
     "start_time": "2022-11-30T00:46:41.233379",
     "status": "completed"
    },
    "tags": []
   },
   "outputs": [
    {
     "name": "stdout",
     "output_type": "stream",
     "text": [
      "Works!\n"
     ]
    }
   ],
   "source": [
    "try:\n",
    "    chol_mat = np.linalg.cholesky(gene_corrs_df.to_numpy())\n",
    "    cov_inv = np.linalg.inv(chol_mat)\n",
    "    print(\"Works!\")\n",
    "except Exception as e:\n",
    "    print(f\"Cholesky decomposition failed: {str(e)}\")"
   ]
  },
  {
   "cell_type": "code",
   "execution_count": 40,
   "id": "dd8827fb-faf9-4c7c-9454-015e94752706",
   "metadata": {
    "execution": {
     "iopub.execute_input": "2022-11-30T00:46:45.871378Z",
     "iopub.status.busy": "2022-11-30T00:46:45.870939Z",
     "iopub.status.idle": "2022-11-30T00:46:45.898740Z",
     "shell.execute_reply": "2022-11-30T00:46:45.898193Z"
    },
    "papermill": {
     "duration": 1.634433,
     "end_time": "2022-11-30T00:46:45.899695",
     "exception": false,
     "start_time": "2022-11-30T00:46:44.265262",
     "status": "completed"
    },
    "tags": []
   },
   "outputs": [
    {
     "name": "stdout",
     "output_type": "stream",
     "text": [
      "Works!\n"
     ]
    }
   ],
   "source": [
    "try:\n",
    "    # decomposition used by statsmodels.GLS\n",
    "    cholsigmainv = np.linalg.cholesky(np.linalg.inv(gene_corrs_df.to_numpy())).T\n",
    "    print(\"Works!\")\n",
    "except Exception as e:\n",
    "    print(f\"Cholesky decomposition failed (statsmodels.GLS): {str(e)}\")"
   ]
  },
  {
   "cell_type": "markdown",
   "id": "8e60a080-edb2-4e9c-b2ef-22961693200c",
   "metadata": {
    "papermill": {
     "duration": 1.476505,
     "end_time": "2022-11-30T00:46:48.828218",
     "exception": false,
     "start_time": "2022-11-30T00:46:47.351713",
     "status": "completed"
    },
    "tags": []
   },
   "source": [
    "## Plot: distribution"
   ]
  },
  {
   "cell_type": "code",
   "execution_count": 41,
   "id": "8301126b-a7d4-4744-9c7d-f0f86eb6f54c",
   "metadata": {
    "execution": {
     "iopub.execute_input": "2022-11-30T00:46:51.866011Z",
     "iopub.status.busy": "2022-11-30T00:46:51.865564Z",
     "iopub.status.idle": "2022-11-30T00:46:57.014695Z",
     "shell.execute_reply": "2022-11-30T00:46:57.014086Z"
    },
    "papermill": {
     "duration": 6.653704,
     "end_time": "2022-11-30T00:46:57.016158",
     "exception": false,
     "start_time": "2022-11-30T00:46:50.362454",
     "status": "completed"
    },
    "tags": []
   },
   "outputs": [
    {
     "data": {
      "image/png": "[encoded data removed]",
      "text/plain": [
       "<Figure size 700x700 with 1 Axes>"
      ]
     },
     "metadata": {},
     "output_type": "display_data"
    }
   ],
   "source": [
    "with sns.plotting_context(\"paper\", font_scale=1.5):\n",
    "    g = sns.displot(gene_corrs_flat, kde=True, height=7)\n",
    "    g.ax.set_title(\n",
    "        f\"Distribution of gene correlation values in chromosome {CHROMOSOME}\"\n",
    "    )"
   ]
  },
  {
   "cell_type": "markdown",
   "id": "cbd52bca-d878-4a2f-b684-5c83aa3038d4",
   "metadata": {
    "papermill": {
     "duration": 1.465818,
     "end_time": "2022-11-30T00:46:59.993780",
     "exception": false,
     "start_time": "2022-11-30T00:46:58.527962",
     "status": "completed"
    },
    "tags": []
   },
   "source": [
    "## Plot: heatmap"
   ]
  },
  {
   "cell_type": "code",
   "execution_count": 42,
   "id": "d03fe63a-c7b2-4fb9-a53c-db362ce843c9",
   "metadata": {
    "execution": {
     "iopub.execute_input": "2022-11-30T00:47:02.933515Z",
     "iopub.status.busy": "2022-11-30T00:47:02.933075Z",
     "iopub.status.idle": "2022-11-30T00:47:02.949066Z",
     "shell.execute_reply": "2022-11-30T00:47:02.948619Z"
    },
    "papermill": {
     "duration": 1.474616,
     "end_time": "2022-11-30T00:47:02.949923",
     "exception": false,
     "start_time": "2022-11-30T00:47:01.475307",
     "status": "completed"
    },
    "tags": []
   },
   "outputs": [
    {
     "data": {
      "text/plain": [
       "'0.0 / 0.05'"
      ]
     },
     "metadata": {},
     "output_type": "display_data"
    }
   ],
   "source": [
    "vmin_val = min(0.00, gene_corrs_quantiles[0.10])\n",
    "vmax_val = max(0.05, gene_corrs_quantiles[0.90])\n",
    "display(f\"{vmin_val} / {vmax_val}\")"
   ]
  },
  {
   "cell_type": "code",
   "execution_count": 43,
   "id": "dc41b70b-5bcc-4d9e-9f33-a22c4a94dab5",
   "metadata": {
    "execution": {
     "iopub.execute_input": "2022-11-30T00:47:06.045562Z",
     "iopub.status.busy": "2022-11-30T00:47:06.045111Z",
     "iopub.status.idle": "2022-11-30T00:47:06.290221Z",
     "shell.execute_reply": "2022-11-30T00:47:06.289910Z"
    },
    "papermill": {
     "duration": 1.772661,
     "end_time": "2022-11-30T00:47:06.293441",
     "exception": false,
     "start_time": "2022-11-30T00:47:04.520780",
     "status": "completed"
    },
    "tags": []
   },
   "outputs": [
    {
     "data": {
      "text/plain": [
       "Text(0.5, 1.0, 'Gene correlations in chromosome 16')"
      ]
     },
     "execution_count": 43,
     "metadata": {},
     "output_type": "execute_result"
    },
    {
     "data": {
      "image/png": "[encoded data removed]",
      "text/plain": [
       "<Figure size 1000x1000 with 2 Axes>"
      ]
     },
     "metadata": {},
     "output_type": "display_data"
    }
   ],
   "source": [
    "f, ax = plt.subplots(figsize=(10, 10))\n",
    "sns.heatmap(\n",
    "    gene_corrs_df,\n",
    "    xticklabels=False,\n",
    "    yticklabels=False,\n",
    "    square=True,\n",
    "    vmin=vmin_val,\n",
    "    vmax=vmax_val,\n",
    "    cmap=\"rocket_r\",\n",
    "    ax=ax,\n",
    ")\n",
    "ax.set_title(f\"Gene correlations in chromosome {CHROMOSOME}\")"
   ]
  },
  {
   "cell_type": "code",
   "execution_count": null,
   "id": "b25e3ead",
   "metadata": {
    "papermill": {
     "duration": 1.522894,
     "end_time": "2022-11-30T00:47:09.330034",
     "exception": false,
     "start_time": "2022-11-30T00:47:07.807140",
     "status": "completed"
    },
    "tags": []
   },
   "outputs": [],
   "source": []
  }
 ],
 "metadata": {
  "jupytext": {
   "cell_metadata_filter": "all,-execution,-papermill,-trusted",
   "formats": "ipynb,py//py:percent"
  },
  "kernelspec": {
   "display_name": "Python 3 (ipykernel)",
   "language": "python",
   "name": "python3"
  },
  "language_info": {
   "codemirror_mode": {
    "name": "ipython",
    "version": 3
   },
   "file_extension": ".py",
   "mimetype": "text/x-python",
   "name": "python",
   "nbconvert_exporter": "python",
   "pygments_lexer": "ipython3",
   "version": "3.10.6"
  },
  "papermill": {
   "default_parameters": {},
   "duration": 1664.289055,
   "end_time": "2022-11-30T00:47:14.034865",
   "environment_variables": {},
   "exception": null,
   "input_path": "projects/asthma-copd/nbs/20_gene_corrs/10-gene_expr_correlations.ipynb",
   "output_path": "projects/asthma-copd/nbs/20_gene_corrs/gene_corrs/copd_only/10-gene_expr_correlations-chr16.run.ipynb",
   "parameters": {
    "CHROMOSOME": 16,
    "COHORT_NAME": "copd_only",
    "OUTPUT_DIR_BASE": "/opt/data/projects/asthma-copd/results/gls_phenoplier"
   },
   "start_time": "2022-11-30T00:19:29.745810",
   "version": "2.2.2"
  }
 },
 "nbformat": 4,
 "nbformat_minor": 5
}
