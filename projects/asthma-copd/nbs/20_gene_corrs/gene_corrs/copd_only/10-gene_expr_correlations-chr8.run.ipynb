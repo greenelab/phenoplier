{
 "cells": [
  {
   "cell_type": "markdown",
   "id": "7a6632fb",
   "metadata": {
    "papermill": {
     "duration": 0.009005,
     "end_time": "2022-11-29T23:41:58.695203",
     "exception": false,
     "start_time": "2022-11-29T23:41:58.686198",
     "status": "completed"
    },
    "tags": []
   },
   "source": [
    "# Description"
   ]
  },
  {
   "cell_type": "markdown",
   "id": "7097c346",
   "metadata": {
    "papermill": {
     "duration": 0.008142,
     "end_time": "2022-11-29T23:41:58.712769",
     "exception": false,
     "start_time": "2022-11-29T23:41:58.704627",
     "status": "completed"
    },
    "tags": []
   },
   "source": [
    "(Please, take a look at the README.md file in this directory for instructions on how to run this notebook)\n",
    "\n",
    "This notebook computes predicted expression correlations between all genes in the MultiPLIER models.\n",
    "\n",
    "It has specicfic parameters for papermill (see under `Settings` below).\n",
    "It can be configured to run on a single chromosome to run in parallel.\n",
    "\n",
    "This notebook is not directly run. See README.md."
   ]
  },
  {
   "cell_type": "markdown",
   "id": "c61d8427",
   "metadata": {
    "papermill": {
     "duration": 0.008639,
     "end_time": "2022-11-29T23:41:58.729631",
     "exception": false,
     "start_time": "2022-11-29T23:41:58.720992",
     "status": "completed"
    },
    "tags": []
   },
   "source": [
    "# Modules"
   ]
  },
  {
   "cell_type": "code",
   "execution_count": 1,
   "id": "bbc0234f",
   "metadata": {
    "execution": {
     "iopub.execute_input": "2022-11-29T23:41:58.748018Z",
     "iopub.status.busy": "2022-11-29T23:41:58.747697Z",
     "iopub.status.idle": "2022-11-29T23:41:58.765419Z",
     "shell.execute_reply": "2022-11-29T23:41:58.764873Z"
    },
    "papermill": {
     "duration": 0.028736,
     "end_time": "2022-11-29T23:41:58.767296",
     "exception": false,
     "start_time": "2022-11-29T23:41:58.738560",
     "status": "completed"
    },
    "tags": []
   },
   "outputs": [],
   "source": [
    "%load_ext autoreload\n",
    "%autoreload 2"
   ]
  },
  {
   "cell_type": "code",
   "execution_count": 2,
   "id": "1d5f5a59",
   "metadata": {
    "execution": {
     "iopub.execute_input": "2022-11-29T23:41:58.785686Z",
     "iopub.status.busy": "2022-11-29T23:41:58.785242Z",
     "iopub.status.idle": "2022-11-29T23:41:59.469354Z",
     "shell.execute_reply": "2022-11-29T23:41:59.468904Z"
    },
    "papermill": {
     "duration": 0.695118,
     "end_time": "2022-11-29T23:41:59.471067",
     "exception": false,
     "start_time": "2022-11-29T23:41:58.775949",
     "status": "completed"
    },
    "tags": []
   },
   "outputs": [],
   "source": [
    "from random import sample, seed\n",
    "import warnings\n",
    "from pathlib import Path\n",
    "import pickle\n",
    "import traceback\n",
    "\n",
    "import numpy as np\n",
    "from scipy.spatial.distance import squareform\n",
    "import pandas as pd\n",
    "from tqdm import tqdm\n",
    "import matplotlib.pyplot as plt\n",
    "import seaborn as sns\n",
    "\n",
    "import conf\n",
    "from entity import Gene"
   ]
  },
  {
   "cell_type": "markdown",
   "id": "1eac24b5",
   "metadata": {
    "papermill": {
     "duration": 0.009704,
     "end_time": "2022-11-29T23:41:59.489436",
     "exception": false,
     "start_time": "2022-11-29T23:41:59.479732",
     "status": "completed"
    },
    "tags": []
   },
   "source": [
    "# Settings"
   ]
  },
  {
   "cell_type": "code",
   "execution_count": 3,
   "id": "ca4560ba",
   "metadata": {
    "execution": {
     "iopub.execute_input": "2022-11-29T23:41:59.507328Z",
     "iopub.status.busy": "2022-11-29T23:41:59.507190Z",
     "iopub.status.idle": "2022-11-29T23:41:59.520337Z",
     "shell.execute_reply": "2022-11-29T23:41:59.519933Z"
    },
    "papermill": {
     "duration": 0.0231,
     "end_time": "2022-11-29T23:41:59.521379",
     "exception": false,
     "start_time": "2022-11-29T23:41:59.498279",
     "status": "completed"
    },
    "tags": [
     "parameters"
    ]
   },
   "outputs": [],
   "source": [
    "# a cohort name (it could be something like UK_BIOBANK, etc)\n",
    "COHORT_NAME = None\n",
    "\n",
    "# reference panel such as 1000G or GTEX_V8\n",
    "REFERENCE_PANEL = \"GTEX_V8\"\n",
    "\n",
    "# predictions models such as MASHR or ELASTIC_NET\n",
    "EQTL_MODEL = \"MASHR\"\n",
    "\n",
    "# this is the default value used in S-MultiXcan to select the\n",
    "# top principal components of the expression correlation matrix\n",
    "SMULTIXCAN_CONDITION_NUMBER = 30\n",
    "\n",
    "# specifies a single chromosome value\n",
    "CHROMOSOME = None\n",
    "\n",
    "# If True, computes the correlation between closeby genes only;\n",
    "# otherwise, it computes correlations for all genes in a chromosome\n",
    "COMPUTE_CORRELATIONS_WITHIN_DISTANCE = False\n",
    "\n",
    "# if True, then it will continue if a gene pair correlation fails,\n",
    "# printing the warning/error for debugging. If False, any warning/error\n",
    "# will be thrown\n",
    "DEBUG_MODE = False\n",
    "\n",
    "# output dir\n",
    "OUTPUT_DIR_BASE = None"
   ]
  },
  {
   "cell_type": "code",
   "execution_count": 4,
   "id": "0accca6c",
   "metadata": {
    "execution": {
     "iopub.execute_input": "2022-11-29T23:41:59.530875Z",
     "iopub.status.busy": "2022-11-29T23:41:59.530740Z",
     "iopub.status.idle": "2022-11-29T23:41:59.543526Z",
     "shell.execute_reply": "2022-11-29T23:41:59.543121Z"
    },
    "papermill": {
     "duration": 0.018537,
     "end_time": "2022-11-29T23:41:59.544516",
     "exception": false,
     "start_time": "2022-11-29T23:41:59.525979",
     "status": "completed"
    },
    "tags": [
     "injected-parameters"
    ]
   },
   "outputs": [],
   "source": [
    "# Parameters\n",
    "COHORT_NAME = \"copd_only\"\n",
    "CHROMOSOME = 8\n",
    "OUTPUT_DIR_BASE = \"/opt/data/projects/asthma-copd/results/gls_phenoplier\"\n"
   ]
  },
  {
   "cell_type": "code",
   "execution_count": 5,
   "id": "3190631f-27fc-480f-b18e-571d580425a5",
   "metadata": {
    "execution": {
     "iopub.execute_input": "2022-11-29T23:41:59.554513Z",
     "iopub.status.busy": "2022-11-29T23:41:59.554118Z",
     "iopub.status.idle": "2022-11-29T23:41:59.576767Z",
     "shell.execute_reply": "2022-11-29T23:41:59.576180Z"
    },
    "papermill": {
     "duration": 0.028688,
     "end_time": "2022-11-29T23:41:59.578065",
     "exception": false,
     "start_time": "2022-11-29T23:41:59.549377",
     "status": "completed"
    },
    "tags": []
   },
   "outputs": [
    {
     "data": {
      "text/plain": [
       "'Cohort name: copd_only'"
      ]
     },
     "metadata": {},
     "output_type": "display_data"
    }
   ],
   "source": [
    "assert COHORT_NAME is not None and len(COHORT_NAME) > 0, \"A cohort name must be given\"\n",
    "\n",
    "COHORT_NAME = COHORT_NAME.lower()\n",
    "display(f\"Cohort name: {COHORT_NAME}\")"
   ]
  },
  {
   "cell_type": "code",
   "execution_count": 6,
   "id": "f53ba19b-0f93-4fa2-a047-63b375939d1a",
   "metadata": {
    "execution": {
     "iopub.execute_input": "2022-11-29T23:41:59.592563Z",
     "iopub.status.busy": "2022-11-29T23:41:59.592071Z",
     "iopub.status.idle": "2022-11-29T23:41:59.610467Z",
     "shell.execute_reply": "2022-11-29T23:41:59.609970Z"
    },
    "papermill": {
     "duration": 0.02678,
     "end_time": "2022-11-29T23:41:59.611717",
     "exception": false,
     "start_time": "2022-11-29T23:41:59.584937",
     "status": "completed"
    },
    "tags": []
   },
   "outputs": [
    {
     "data": {
      "text/plain": [
       "'Reference panel: GTEX_V8'"
      ]
     },
     "metadata": {},
     "output_type": "display_data"
    }
   ],
   "source": [
    "assert (\n",
    "    REFERENCE_PANEL is not None and len(REFERENCE_PANEL) > 0\n",
    "), \"A reference panel must be given\"\n",
    "\n",
    "display(f\"Reference panel: {REFERENCE_PANEL}\")"
   ]
  },
  {
   "cell_type": "code",
   "execution_count": 7,
   "id": "e024d130-c139-429a-9c6e-ccf149e297b0",
   "metadata": {
    "execution": {
     "iopub.execute_input": "2022-11-29T23:41:59.626325Z",
     "iopub.status.busy": "2022-11-29T23:41:59.626044Z",
     "iopub.status.idle": "2022-11-29T23:41:59.649293Z",
     "shell.execute_reply": "2022-11-29T23:41:59.648642Z"
    },
    "papermill": {
     "duration": 0.032485,
     "end_time": "2022-11-29T23:41:59.650939",
     "exception": false,
     "start_time": "2022-11-29T23:41:59.618454",
     "status": "completed"
    },
    "tags": []
   },
   "outputs": [
    {
     "data": {
      "text/plain": [
       "'eQTL model: MASHR) / mashr_'"
      ]
     },
     "metadata": {},
     "output_type": "display_data"
    }
   ],
   "source": [
    "assert (\n",
    "    EQTL_MODEL is not None and len(EQTL_MODEL) > 0\n",
    "), \"A prediction/eQTL model must be given\"\n",
    "\n",
    "EQTL_MODEL_FILES_PREFIX = conf.PHENOMEXCAN[\"PREDICTION_MODELS\"][f\"{EQTL_MODEL}_PREFIX\"]\n",
    "display(f\"eQTL model: {EQTL_MODEL}) / {EQTL_MODEL_FILES_PREFIX}\")"
   ]
  },
  {
   "cell_type": "code",
   "execution_count": 8,
   "id": "552a7f63-a18c-4d3e-bb6a-94f99b431291",
   "metadata": {
    "execution": {
     "iopub.execute_input": "2022-11-29T23:41:59.670046Z",
     "iopub.status.busy": "2022-11-29T23:41:59.669615Z",
     "iopub.status.idle": "2022-11-29T23:41:59.692537Z",
     "shell.execute_reply": "2022-11-29T23:41:59.691883Z"
    },
    "papermill": {
     "duration": 0.034164,
     "end_time": "2022-11-29T23:41:59.694123",
     "exception": false,
     "start_time": "2022-11-29T23:41:59.659959",
     "status": "completed"
    },
    "tags": []
   },
   "outputs": [
    {
     "data": {
      "text/plain": [
       "'S-MultiXcan condition number: 30'"
      ]
     },
     "metadata": {},
     "output_type": "display_data"
    }
   ],
   "source": [
    "assert (\n",
    "    SMULTIXCAN_CONDITION_NUMBER is not None and SMULTIXCAN_CONDITION_NUMBER > 0\n",
    "), \"The S-MultiXcan condition number (positive integer) must be given\"\n",
    "\n",
    "display(f\"S-MultiXcan condition number: {SMULTIXCAN_CONDITION_NUMBER}\")"
   ]
  },
  {
   "cell_type": "code",
   "execution_count": 9,
   "id": "f34a336f-548e-4afe-8955-90eaea4f42c6",
   "metadata": {
    "execution": {
     "iopub.execute_input": "2022-11-29T23:41:59.713584Z",
     "iopub.status.busy": "2022-11-29T23:41:59.713088Z",
     "iopub.status.idle": "2022-11-29T23:41:59.736078Z",
     "shell.execute_reply": "2022-11-29T23:41:59.735446Z"
    },
    "papermill": {
     "duration": 0.034432,
     "end_time": "2022-11-29T23:41:59.737694",
     "exception": false,
     "start_time": "2022-11-29T23:41:59.703262",
     "status": "completed"
    },
    "tags": []
   },
   "outputs": [
    {
     "data": {
      "text/plain": [
       "'Working on chromosome 8'"
      ]
     },
     "metadata": {},
     "output_type": "display_data"
    }
   ],
   "source": [
    "assert CHROMOSOME is not None and (\n",
    "    1 <= CHROMOSOME <= 22\n",
    "), \"You have to select one chromosome (format: number between 1 and 22)\"\n",
    "\n",
    "# CHROMOSOME = str(CHROMOSOME)\n",
    "display(f\"Working on chromosome {CHROMOSOME}\")"
   ]
  },
  {
   "cell_type": "code",
   "execution_count": 10,
   "id": "ab8e96e8-06b5-4363-9dcd-dc4d78cc27f7",
   "metadata": {
    "execution": {
     "iopub.execute_input": "2022-11-29T23:41:59.757844Z",
     "iopub.status.busy": "2022-11-29T23:41:59.757413Z",
     "iopub.status.idle": "2022-11-29T23:41:59.780320Z",
     "shell.execute_reply": "2022-11-29T23:41:59.779668Z"
    },
    "papermill": {
     "duration": 0.034407,
     "end_time": "2022-11-29T23:41:59.781939",
     "exception": false,
     "start_time": "2022-11-29T23:41:59.747532",
     "status": "completed"
    },
    "tags": []
   },
   "outputs": [
    {
     "data": {
      "text/plain": [
       "'Compute correlation within distance False'"
      ]
     },
     "metadata": {},
     "output_type": "display_data"
    }
   ],
   "source": [
    "display(f\"Compute correlation within distance {COMPUTE_CORRELATIONS_WITHIN_DISTANCE}\")"
   ]
  },
  {
   "cell_type": "code",
   "execution_count": 11,
   "id": "b393b698-77e3-4ba2-8ac1-e14d51aa988f",
   "metadata": {
    "execution": {
     "iopub.execute_input": "2022-11-29T23:41:59.801747Z",
     "iopub.status.busy": "2022-11-29T23:41:59.801320Z",
     "iopub.status.idle": "2022-11-29T23:41:59.825065Z",
     "shell.execute_reply": "2022-11-29T23:41:59.824414Z"
    },
    "papermill": {
     "duration": 0.035335,
     "end_time": "2022-11-29T23:41:59.826651",
     "exception": false,
     "start_time": "2022-11-29T23:41:59.791316",
     "status": "completed"
    },
    "tags": []
   },
   "outputs": [
    {
     "data": {
      "text/plain": [
       "'Using output dir base: /opt/data/projects/asthma-copd/results/gls_phenoplier/gene_corrs/copd_only'"
      ]
     },
     "metadata": {},
     "output_type": "display_data"
    }
   ],
   "source": [
    "assert (\n",
    "    OUTPUT_DIR_BASE is not None and len(OUTPUT_DIR_BASE) > 0\n",
    "), \"Output directory path must be given\"\n",
    "\n",
    "OUTPUT_DIR_BASE = (\n",
    "    Path(OUTPUT_DIR_BASE)\n",
    "    / \"gene_corrs\"\n",
    "    / COHORT_NAME\n",
    "    # / REFERENCE_PANEL.lower()\n",
    "    # / EQTL_MODEL.lower()\n",
    ").resolve()\n",
    "\n",
    "OUTPUT_DIR_BASE.mkdir(parents=True, exist_ok=True)\n",
    "\n",
    "display(f\"Using output dir base: {OUTPUT_DIR_BASE}\")"
   ]
  },
  {
   "cell_type": "markdown",
   "id": "d2ba085e",
   "metadata": {
    "papermill": {
     "duration": 0.009229,
     "end_time": "2022-11-29T23:41:59.846081",
     "exception": false,
     "start_time": "2022-11-29T23:41:59.836852",
     "status": "completed"
    },
    "tags": []
   },
   "source": [
    "# Load data"
   ]
  },
  {
   "cell_type": "markdown",
   "id": "7dcb8db7",
   "metadata": {
    "papermill": {
     "duration": 0.009247,
     "end_time": "2022-11-29T23:41:59.864984",
     "exception": false,
     "start_time": "2022-11-29T23:41:59.855737",
     "status": "completed"
    },
    "tags": []
   },
   "source": [
    "## GWAS variants"
   ]
  },
  {
   "cell_type": "code",
   "execution_count": 12,
   "id": "29434c4e-8cd3-4b9b-82e4-b5a251d9dd19",
   "metadata": {
    "execution": {
     "iopub.execute_input": "2022-11-29T23:41:59.882836Z",
     "iopub.status.busy": "2022-11-29T23:41:59.882632Z",
     "iopub.status.idle": "2022-11-29T23:42:01.867257Z",
     "shell.execute_reply": "2022-11-29T23:42:01.866562Z"
    },
    "papermill": {
     "duration": 1.994834,
     "end_time": "2022-11-29T23:42:01.869098",
     "exception": false,
     "start_time": "2022-11-29T23:41:59.874264",
     "status": "completed"
    },
    "tags": []
   },
   "outputs": [],
   "source": [
    "with open(OUTPUT_DIR_BASE / \"gwas_variant_ids.pkl\", \"rb\") as handle:\n",
    "    gwas_variants_ids_set = pickle.load(handle)"
   ]
  },
  {
   "cell_type": "code",
   "execution_count": 13,
   "id": "b9d9dec2-4a76-4bf9-bde2-e24c95acb8a0",
   "metadata": {
    "execution": {
     "iopub.execute_input": "2022-11-29T23:42:01.889543Z",
     "iopub.status.busy": "2022-11-29T23:42:01.889272Z",
     "iopub.status.idle": "2022-11-29T23:42:01.909998Z",
     "shell.execute_reply": "2022-11-29T23:42:01.909399Z"
    },
    "papermill": {
     "duration": 0.032638,
     "end_time": "2022-11-29T23:42:01.911427",
     "exception": false,
     "start_time": "2022-11-29T23:42:01.878789",
     "status": "completed"
    },
    "tags": []
   },
   "outputs": [
    {
     "data": {
      "text/plain": [
       "8586183"
      ]
     },
     "execution_count": 13,
     "metadata": {},
     "output_type": "execute_result"
    }
   ],
   "source": [
    "len(gwas_variants_ids_set)"
   ]
  },
  {
   "cell_type": "code",
   "execution_count": 14,
   "id": "4235b06a-6034-4ee4-a0a3-2ae35d122418",
   "metadata": {
    "execution": {
     "iopub.execute_input": "2022-11-29T23:42:01.932496Z",
     "iopub.status.busy": "2022-11-29T23:42:01.932212Z",
     "iopub.status.idle": "2022-11-29T23:42:02.323153Z",
     "shell.execute_reply": "2022-11-29T23:42:02.322634Z"
    },
    "papermill": {
     "duration": 0.403457,
     "end_time": "2022-11-29T23:42:02.324641",
     "exception": false,
     "start_time": "2022-11-29T23:42:01.921184",
     "status": "completed"
    },
    "tags": []
   },
   "outputs": [
    {
     "data": {
      "text/plain": [
       "['chr15_78225515_G_C_b38',\n",
       " 'chr4_117948206_C_T_b38',\n",
       " 'chr6_64562520_T_C_b38',\n",
       " 'chr11_90500863_G_A_b38',\n",
       " 'chr10_28060335_C_T_b38']"
      ]
     },
     "execution_count": 14,
     "metadata": {},
     "output_type": "execute_result"
    }
   ],
   "source": [
    "list(gwas_variants_ids_set)[:5]"
   ]
  },
  {
   "cell_type": "markdown",
   "id": "07866999-2305-41f9-a144-e69c9122c212",
   "metadata": {
    "papermill": {
     "duration": 0.009773,
     "end_time": "2022-11-29T23:42:02.344307",
     "exception": false,
     "start_time": "2022-11-29T23:42:02.334534",
     "status": "completed"
    },
    "tags": []
   },
   "source": [
    "## S-PrediXcan tissue models"
   ]
  },
  {
   "cell_type": "code",
   "execution_count": 15,
   "id": "780611d9-77c8-405f-90a4-f271f7b09397",
   "metadata": {
    "execution": {
     "iopub.execute_input": "2022-11-29T23:42:02.364713Z",
     "iopub.status.busy": "2022-11-29T23:42:02.364502Z",
     "iopub.status.idle": "2022-11-29T23:42:02.983976Z",
     "shell.execute_reply": "2022-11-29T23:42:02.983421Z"
    },
    "papermill": {
     "duration": 0.631447,
     "end_time": "2022-11-29T23:42:02.985666",
     "exception": false,
     "start_time": "2022-11-29T23:42:02.354219",
     "status": "completed"
    },
    "tags": []
   },
   "outputs": [],
   "source": [
    "spredixcan_genes_models = pd.read_pickle(OUTPUT_DIR_BASE / \"gene_tissues.pkl\")"
   ]
  },
  {
   "cell_type": "code",
   "execution_count": 16,
   "id": "726dd1f6-9557-4225-91fa-b3b879ea96e1",
   "metadata": {
    "execution": {
     "iopub.execute_input": "2022-11-29T23:42:03.006639Z",
     "iopub.status.busy": "2022-11-29T23:42:03.006508Z",
     "iopub.status.idle": "2022-11-29T23:42:03.020299Z",
     "shell.execute_reply": "2022-11-29T23:42:03.019809Z"
    },
    "papermill": {
     "duration": 0.025467,
     "end_time": "2022-11-29T23:42:03.021674",
     "exception": false,
     "start_time": "2022-11-29T23:42:02.996207",
     "status": "completed"
    },
    "tags": []
   },
   "outputs": [
    {
     "data": {
      "text/plain": [
       "(6443, 5)"
      ]
     },
     "execution_count": 16,
     "metadata": {},
     "output_type": "execute_result"
    }
   ],
   "source": [
    "spredixcan_genes_models.shape"
   ]
  },
  {
   "cell_type": "code",
   "execution_count": 17,
   "id": "944a1b48-222c-4eb0-b252-b9de2cbca215",
   "metadata": {
    "execution": {
     "iopub.execute_input": "2022-11-29T23:42:03.042247Z",
     "iopub.status.busy": "2022-11-29T23:42:03.042111Z",
     "iopub.status.idle": "2022-11-29T23:42:03.059855Z",
     "shell.execute_reply": "2022-11-29T23:42:03.059374Z"
    },
    "papermill": {
     "duration": 0.029532,
     "end_time": "2022-11-29T23:42:03.061171",
     "exception": false,
     "start_time": "2022-11-29T23:42:03.031639",
     "status": "completed"
    },
    "tags": []
   },
   "outputs": [
    {
     "data": {
      "text/html": [
       "<div>\n",
       "<style scoped>\n",
       "    .dataframe tbody tr th:only-of-type {\n",
       "        vertical-align: middle;\n",
       "    }\n",
       "\n",
       "    .dataframe tbody tr th {\n",
       "        vertical-align: top;\n",
       "    }\n",
       "\n",
       "    .dataframe thead th {\n",
       "        text-align: right;\n",
       "    }\n",
       "</style>\n",
       "<table border=\"1\" class=\"dataframe\">\n",
       "  <thead>\n",
       "    <tr style=\"text-align: right;\">\n",
       "      <th></th>\n",
       "      <th>gene_name</th>\n",
       "      <th>tissue</th>\n",
       "      <th>n_tissues</th>\n",
       "      <th>n_snps_used_sum</th>\n",
       "      <th>n_snps_in_model_sum</th>\n",
       "    </tr>\n",
       "    <tr>\n",
       "      <th>gene_id</th>\n",
       "      <th></th>\n",
       "      <th></th>\n",
       "      <th></th>\n",
       "      <th></th>\n",
       "      <th></th>\n",
       "    </tr>\n",
       "  </thead>\n",
       "  <tbody>\n",
       "    <tr>\n",
       "      <th>ENSG00000000419</th>\n",
       "      <td>DPM1</td>\n",
       "      <td>(Brain_Substantia_nigra, Brain_Hypothalamus)</td>\n",
       "      <td>2</td>\n",
       "      <td>2</td>\n",
       "      <td>2</td>\n",
       "    </tr>\n",
       "    <tr>\n",
       "      <th>ENSG00000000938</th>\n",
       "      <td>FGR</td>\n",
       "      <td>(Stomach, Testis, Spleen, Artery_Tibial, Muscl...</td>\n",
       "      <td>36</td>\n",
       "      <td>40</td>\n",
       "      <td>40</td>\n",
       "    </tr>\n",
       "    <tr>\n",
       "      <th>ENSG00000000971</th>\n",
       "      <td>CFH</td>\n",
       "      <td>(Artery_Coronary, Stomach, Testis, Artery_Tibi...</td>\n",
       "      <td>34</td>\n",
       "      <td>44</td>\n",
       "      <td>44</td>\n",
       "    </tr>\n",
       "    <tr>\n",
       "      <th>ENSG00000001084</th>\n",
       "      <td>GCLC</td>\n",
       "      <td>(Artery_Coronary, Testis, Spleen, Artery_Tibia...</td>\n",
       "      <td>32</td>\n",
       "      <td>46</td>\n",
       "      <td>46</td>\n",
       "    </tr>\n",
       "    <tr>\n",
       "      <th>ENSG00000001167</th>\n",
       "      <td>NFYA</td>\n",
       "      <td>(Artery_Coronary, Stomach, Testis, Artery_Tibi...</td>\n",
       "      <td>40</td>\n",
       "      <td>47</td>\n",
       "      <td>48</td>\n",
       "    </tr>\n",
       "  </tbody>\n",
       "</table>\n",
       "</div>"
      ],
      "text/plain": [
       "                gene_name                                             tissue  \\\n",
       "gene_id                                                                        \n",
       "ENSG00000000419      DPM1       (Brain_Substantia_nigra, Brain_Hypothalamus)   \n",
       "ENSG00000000938       FGR  (Stomach, Testis, Spleen, Artery_Tibial, Muscl...   \n",
       "ENSG00000000971       CFH  (Artery_Coronary, Stomach, Testis, Artery_Tibi...   \n",
       "ENSG00000001084      GCLC  (Artery_Coronary, Testis, Spleen, Artery_Tibia...   \n",
       "ENSG00000001167      NFYA  (Artery_Coronary, Stomach, Testis, Artery_Tibi...   \n",
       "\n",
       "                 n_tissues  n_snps_used_sum  n_snps_in_model_sum  \n",
       "gene_id                                                           \n",
       "ENSG00000000419          2                2                    2  \n",
       "ENSG00000000938         36               40                   40  \n",
       "ENSG00000000971         34               44                   44  \n",
       "ENSG00000001084         32               46                   46  \n",
       "ENSG00000001167         40               47                   48  "
      ]
     },
     "execution_count": 17,
     "metadata": {},
     "output_type": "execute_result"
    }
   ],
   "source": [
    "spredixcan_genes_models.head()"
   ]
  },
  {
   "cell_type": "code",
   "execution_count": 18,
   "id": "d1c11bb1-be0b-4f40-b360-633d6827109f",
   "metadata": {
    "execution": {
     "iopub.execute_input": "2022-11-29T23:42:03.082676Z",
     "iopub.status.busy": "2022-11-29T23:42:03.082555Z",
     "iopub.status.idle": "2022-11-29T23:42:03.095419Z",
     "shell.execute_reply": "2022-11-29T23:42:03.094930Z"
    },
    "papermill": {
     "duration": 0.024925,
     "end_time": "2022-11-29T23:42:03.096873",
     "exception": false,
     "start_time": "2022-11-29T23:42:03.071948",
     "status": "completed"
    },
    "tags": []
   },
   "outputs": [],
   "source": [
    "assert spredixcan_genes_models.index.is_unique"
   ]
  },
  {
   "cell_type": "markdown",
   "id": "a5b5092c-a13e-47c4-a92a-480fcc08f3ae",
   "metadata": {
    "papermill": {
     "duration": 0.010064,
     "end_time": "2022-11-29T23:42:03.117266",
     "exception": false,
     "start_time": "2022-11-29T23:42:03.107202",
     "status": "completed"
    },
    "tags": []
   },
   "source": [
    "## Gene info"
   ]
  },
  {
   "cell_type": "code",
   "execution_count": 19,
   "id": "7d6bb224-88e9-4358-ac10-43a41d92cdad",
   "metadata": {
    "execution": {
     "iopub.execute_input": "2022-11-29T23:42:03.139244Z",
     "iopub.status.busy": "2022-11-29T23:42:03.138671Z",
     "iopub.status.idle": "2022-11-29T23:42:03.162565Z",
     "shell.execute_reply": "2022-11-29T23:42:03.162027Z"
    },
    "papermill": {
     "duration": 0.036169,
     "end_time": "2022-11-29T23:42:03.163921",
     "exception": false,
     "start_time": "2022-11-29T23:42:03.127752",
     "status": "completed"
    },
    "tags": []
   },
   "outputs": [],
   "source": [
    "genes_info = pd.read_pickle(OUTPUT_DIR_BASE / \"genes_info.pkl\")"
   ]
  },
  {
   "cell_type": "code",
   "execution_count": 20,
   "id": "9e32abfa-546d-483e-8c18-d526e9e05903",
   "metadata": {
    "execution": {
     "iopub.execute_input": "2022-11-29T23:42:03.186464Z",
     "iopub.status.busy": "2022-11-29T23:42:03.185881Z",
     "iopub.status.idle": "2022-11-29T23:42:03.208214Z",
     "shell.execute_reply": "2022-11-29T23:42:03.207612Z"
    },
    "papermill": {
     "duration": 0.03522,
     "end_time": "2022-11-29T23:42:03.209687",
     "exception": false,
     "start_time": "2022-11-29T23:42:03.174467",
     "status": "completed"
    },
    "tags": []
   },
   "outputs": [
    {
     "data": {
      "text/plain": [
       "(6443, 7)"
      ]
     },
     "execution_count": 20,
     "metadata": {},
     "output_type": "execute_result"
    }
   ],
   "source": [
    "genes_info.shape"
   ]
  },
  {
   "cell_type": "code",
   "execution_count": 21,
   "id": "d16c3e92-85ec-468a-9a56-e25a9774a1cb",
   "metadata": {
    "execution": {
     "iopub.execute_input": "2022-11-29T23:42:03.231750Z",
     "iopub.status.busy": "2022-11-29T23:42:03.231199Z",
     "iopub.status.idle": "2022-11-29T23:42:03.261767Z",
     "shell.execute_reply": "2022-11-29T23:42:03.260985Z"
    },
    "papermill": {
     "duration": 0.043169,
     "end_time": "2022-11-29T23:42:03.263283",
     "exception": false,
     "start_time": "2022-11-29T23:42:03.220114",
     "status": "completed"
    },
    "tags": []
   },
   "outputs": [
    {
     "data": {
      "text/html": [
       "<div>\n",
       "<style scoped>\n",
       "    .dataframe tbody tr th:only-of-type {\n",
       "        vertical-align: middle;\n",
       "    }\n",
       "\n",
       "    .dataframe tbody tr th {\n",
       "        vertical-align: top;\n",
       "    }\n",
       "\n",
       "    .dataframe thead th {\n",
       "        text-align: right;\n",
       "    }\n",
       "</style>\n",
       "<table border=\"1\" class=\"dataframe\">\n",
       "  <thead>\n",
       "    <tr style=\"text-align: right;\">\n",
       "      <th></th>\n",
       "      <th>name</th>\n",
       "      <th>id</th>\n",
       "      <th>chr</th>\n",
       "      <th>band</th>\n",
       "      <th>start_position</th>\n",
       "      <th>end_position</th>\n",
       "      <th>gene_length</th>\n",
       "    </tr>\n",
       "  </thead>\n",
       "  <tbody>\n",
       "    <tr>\n",
       "      <th>0</th>\n",
       "      <td>PPP1R13B</td>\n",
       "      <td>ENSG00000088808</td>\n",
       "      <td>14</td>\n",
       "      <td>14q32.33</td>\n",
       "      <td>103733195</td>\n",
       "      <td>103847590</td>\n",
       "      <td>114395</td>\n",
       "    </tr>\n",
       "    <tr>\n",
       "      <th>1</th>\n",
       "      <td>HNRNPA0</td>\n",
       "      <td>ENSG00000177733</td>\n",
       "      <td>5</td>\n",
       "      <td>5q31.2</td>\n",
       "      <td>137745651</td>\n",
       "      <td>137754376</td>\n",
       "      <td>8725</td>\n",
       "    </tr>\n",
       "    <tr>\n",
       "      <th>2</th>\n",
       "      <td>GSN</td>\n",
       "      <td>ENSG00000148180</td>\n",
       "      <td>9</td>\n",
       "      <td>9q33.2</td>\n",
       "      <td>121207794</td>\n",
       "      <td>121332843</td>\n",
       "      <td>125049</td>\n",
       "    </tr>\n",
       "    <tr>\n",
       "      <th>3</th>\n",
       "      <td>CCR3</td>\n",
       "      <td>ENSG00000183625</td>\n",
       "      <td>3</td>\n",
       "      <td>3p21.31</td>\n",
       "      <td>46163604</td>\n",
       "      <td>46266706</td>\n",
       "      <td>103102</td>\n",
       "    </tr>\n",
       "    <tr>\n",
       "      <th>4</th>\n",
       "      <td>TRIB2</td>\n",
       "      <td>ENSG00000071575</td>\n",
       "      <td>2</td>\n",
       "      <td>2p24.3</td>\n",
       "      <td>12716889</td>\n",
       "      <td>12742734</td>\n",
       "      <td>25845</td>\n",
       "    </tr>\n",
       "  </tbody>\n",
       "</table>\n",
       "</div>"
      ],
      "text/plain": [
       "       name               id  chr      band  start_position  end_position  \\\n",
       "0  PPP1R13B  ENSG00000088808   14  14q32.33       103733195     103847590   \n",
       "1   HNRNPA0  ENSG00000177733    5    5q31.2       137745651     137754376   \n",
       "2       GSN  ENSG00000148180    9    9q33.2       121207794     121332843   \n",
       "3      CCR3  ENSG00000183625    3   3p21.31        46163604      46266706   \n",
       "4     TRIB2  ENSG00000071575    2    2p24.3        12716889      12742734   \n",
       "\n",
       "   gene_length  \n",
       "0       114395  \n",
       "1         8725  \n",
       "2       125049  \n",
       "3       103102  \n",
       "4        25845  "
      ]
     },
     "execution_count": 21,
     "metadata": {},
     "output_type": "execute_result"
    }
   ],
   "source": [
    "genes_info.head()"
   ]
  },
  {
   "cell_type": "markdown",
   "id": "d3843e06",
   "metadata": {
    "papermill": {
     "duration": 0.010877,
     "end_time": "2022-11-29T23:42:03.284865",
     "exception": false,
     "start_time": "2022-11-29T23:42:03.273988",
     "status": "completed"
    },
    "tags": []
   },
   "source": [
    "# Compute correlations"
   ]
  },
  {
   "cell_type": "code",
   "execution_count": 22,
   "id": "cb859c15-d1f3-4006-a74c-2b83c0db9611",
   "metadata": {
    "execution": {
     "iopub.execute_input": "2022-11-29T23:42:03.307157Z",
     "iopub.status.busy": "2022-11-29T23:42:03.306756Z",
     "iopub.status.idle": "2022-11-29T23:42:03.330732Z",
     "shell.execute_reply": "2022-11-29T23:42:03.330121Z"
    },
    "papermill": {
     "duration": 0.03672,
     "end_time": "2022-11-29T23:42:03.332172",
     "exception": false,
     "start_time": "2022-11-29T23:42:03.295452",
     "status": "completed"
    },
    "tags": []
   },
   "outputs": [
    {
     "data": {
      "text/plain": [
       "PosixPath('/opt/data/projects/asthma-copd/results/gls_phenoplier/gene_corrs/copd_only/by_chr/gene_corrs-chr8.pkl')"
      ]
     },
     "metadata": {},
     "output_type": "display_data"
    }
   ],
   "source": [
    "output_dir = OUTPUT_DIR_BASE / \"by_chr\"\n",
    "output_dir.mkdir(exist_ok=True, parents=True)\n",
    "output_file = output_dir / f\"gene_corrs-chr{CHROMOSOME}.pkl\"\n",
    "display(output_file)"
   ]
  },
  {
   "cell_type": "code",
   "execution_count": 23,
   "id": "aa674fe4-6794-4eed-98fa-32b39d1d4ace",
   "metadata": {
    "execution": {
     "iopub.execute_input": "2022-11-29T23:42:03.355163Z",
     "iopub.status.busy": "2022-11-29T23:42:03.354707Z",
     "iopub.status.idle": "2022-11-29T23:42:03.375830Z",
     "shell.execute_reply": "2022-11-29T23:42:03.375213Z"
    },
    "papermill": {
     "duration": 0.034275,
     "end_time": "2022-11-29T23:42:03.377246",
     "exception": false,
     "start_time": "2022-11-29T23:42:03.342971",
     "status": "completed"
    },
    "tags": []
   },
   "outputs": [],
   "source": [
    "warnings.filterwarnings(\"error\")"
   ]
  },
  {
   "cell_type": "code",
   "execution_count": 24,
   "id": "44d5450b-3baf-43f1-9e2e-4b06f1a785f8",
   "metadata": {
    "execution": {
     "iopub.execute_input": "2022-11-29T23:42:03.400071Z",
     "iopub.status.busy": "2022-11-29T23:42:03.399593Z",
     "iopub.status.idle": "2022-11-29T23:42:03.422180Z",
     "shell.execute_reply": "2022-11-29T23:42:03.421551Z"
    },
    "papermill": {
     "duration": 0.035529,
     "end_time": "2022-11-29T23:42:03.423687",
     "exception": false,
     "start_time": "2022-11-29T23:42:03.388158",
     "status": "completed"
    },
    "tags": []
   },
   "outputs": [],
   "source": [
    "# standard checks\n",
    "all_chrs = genes_info[\"chr\"].dropna().unique()\n",
    "assert all_chrs.shape[0] == 22\n",
    "\n",
    "# select chromosome given by the user\n",
    "assert CHROMOSOME in all_chrs"
   ]
  },
  {
   "cell_type": "code",
   "execution_count": 25,
   "id": "2d7c043c-92a7-4d35-991b-fa69ac1e0268",
   "metadata": {
    "execution": {
     "iopub.execute_input": "2022-11-29T23:42:03.447304Z",
     "iopub.status.busy": "2022-11-29T23:42:03.446793Z",
     "iopub.status.idle": "2022-11-29T23:42:03.471522Z",
     "shell.execute_reply": "2022-11-29T23:42:03.470878Z"
    },
    "papermill": {
     "duration": 0.037758,
     "end_time": "2022-11-29T23:42:03.473012",
     "exception": false,
     "start_time": "2022-11-29T23:42:03.435254",
     "status": "completed"
    },
    "tags": []
   },
   "outputs": [
    {
     "name": "stdout",
     "output_type": "stream",
     "text": [
      "Number of genes in chromosome: 222\n"
     ]
    }
   ],
   "source": [
    "# run only on the chromosome specified\n",
    "all_chrs = [CHROMOSOME]\n",
    "genes_chr = genes_info[genes_info[\"chr\"] == CHROMOSOME]\n",
    "\n",
    "# For testing purposes\n",
    "# genes_chr = genes_chr.sample(n=20)\n",
    "\n",
    "print(f\"Number of genes in chromosome: {genes_chr.shape[0]}\", flush=True)"
   ]
  },
  {
   "cell_type": "code",
   "execution_count": 26,
   "id": "916015d8-2979-46d3-a9b9-1cf5a0932c6a",
   "metadata": {
    "execution": {
     "iopub.execute_input": "2022-11-29T23:42:03.496295Z",
     "iopub.status.busy": "2022-11-29T23:42:03.495817Z",
     "iopub.status.idle": "2022-11-29T23:42:03.517642Z",
     "shell.execute_reply": "2022-11-29T23:42:03.517006Z"
    },
    "papermill": {
     "duration": 0.035235,
     "end_time": "2022-11-29T23:42:03.519223",
     "exception": false,
     "start_time": "2022-11-29T23:42:03.483988",
     "status": "completed"
    },
    "tags": []
   },
   "outputs": [],
   "source": [
    "# sort genes by starting position to make visualizations better later\n",
    "genes_chr = genes_chr.sort_values(\"start_position\")"
   ]
  },
  {
   "cell_type": "code",
   "execution_count": 27,
   "id": "a38aa74a-8ad3-47f6-8ef9-56be0e011774",
   "metadata": {
    "execution": {
     "iopub.execute_input": "2022-11-29T23:42:03.542272Z",
     "iopub.status.busy": "2022-11-29T23:42:03.541891Z",
     "iopub.status.idle": "2022-11-29T23:42:03.563755Z",
     "shell.execute_reply": "2022-11-29T23:42:03.563128Z"
    },
    "papermill": {
     "duration": 0.034901,
     "end_time": "2022-11-29T23:42:03.565248",
     "exception": false,
     "start_time": "2022-11-29T23:42:03.530347",
     "status": "completed"
    },
    "tags": []
   },
   "outputs": [],
   "source": [
    "gene_chr_objs = [Gene(ensembl_id=gene_id) for gene_id in genes_chr[\"id\"]]"
   ]
  },
  {
   "cell_type": "code",
   "execution_count": 28,
   "id": "570f974f-13c3-42b6-ad3a-ce99ca885c1a",
   "metadata": {
    "execution": {
     "iopub.execute_input": "2022-11-29T23:42:03.588878Z",
     "iopub.status.busy": "2022-11-29T23:42:03.588359Z",
     "iopub.status.idle": "2022-11-29T23:42:03.611757Z",
     "shell.execute_reply": "2022-11-29T23:42:03.611112Z"
    },
    "papermill": {
     "duration": 0.036919,
     "end_time": "2022-11-29T23:42:03.613212",
     "exception": false,
     "start_time": "2022-11-29T23:42:03.576293",
     "status": "completed"
    },
    "tags": []
   },
   "outputs": [
    {
     "name": "stdout",
     "output_type": "stream",
     "text": [
      "Number of gene combinations: 24753\n"
     ]
    }
   ],
   "source": [
    "n = len(gene_chr_objs)\n",
    "# diagonal elements + upper triangular matrix\n",
    "n_comb = n + int(n * (n - 1) / 2.0)\n",
    "print(f\"Number of gene combinations: {n_comb}\", flush=True)"
   ]
  },
  {
   "cell_type": "code",
   "execution_count": 29,
   "id": "cdbb90a1",
   "metadata": {
    "execution": {
     "iopub.execute_input": "2022-11-29T23:42:03.636913Z",
     "iopub.status.busy": "2022-11-29T23:42:03.636294Z",
     "iopub.status.idle": "2022-11-29T23:58:50.997716Z",
     "shell.execute_reply": "2022-11-29T23:58:50.997337Z"
    },
    "papermill": {
     "duration": 1007.374711,
     "end_time": "2022-11-29T23:58:50.999162",
     "exception": false,
     "start_time": "2022-11-29T23:42:03.624451",
     "status": "completed"
    },
    "tags": []
   },
   "outputs": [
    {
     "name": "stderr",
     "output_type": "stream",
     "text": [
      "ENSG00000196150 / ENSG00000196150: 100%|██████████████████████| 24753/24753 [16:47<00:00, 24.57it/s]\n"
     ]
    },
    {
     "data": {
      "text/plain": [
       "PosixPath('/opt/data/projects/asthma-copd/results/gls_phenoplier/gene_corrs/copd_only/by_chr/gene_corrs-chr8.pkl')"
      ]
     },
     "metadata": {},
     "output_type": "display_data"
    }
   ],
   "source": [
    "gene_corrs = []\n",
    "gene_corrs_data = np.full(\n",
    "    (n, n),\n",
    "    np.nan,\n",
    "    dtype=np.float64,\n",
    ")\n",
    "\n",
    "i = 0\n",
    "with tqdm(ncols=100, total=n_comb) as pbar:\n",
    "    for gene1_idx in range(0, len(gene_chr_objs)):\n",
    "        gene1_obj = gene_chr_objs[gene1_idx]\n",
    "        gene1_tissues = spredixcan_genes_models.loc[gene1_obj.ensembl_id, \"tissue\"]\n",
    "\n",
    "        for gene2_idx in range(gene1_idx, len(gene_chr_objs)):\n",
    "            gene2_obj = gene_chr_objs[gene2_idx]\n",
    "            gene2_tissues = spredixcan_genes_models.loc[gene2_obj.ensembl_id, \"tissue\"]\n",
    "\n",
    "            pbar.set_description(f\"{gene1_obj.ensembl_id} / {gene2_obj.ensembl_id}\")\n",
    "\n",
    "            try:\n",
    "                r = gene1_obj.get_ssm_correlation(\n",
    "                    other_gene=gene2_obj,\n",
    "                    tissues=gene1_tissues,\n",
    "                    other_tissues=gene2_tissues,\n",
    "                    snps_subset=gwas_variants_ids_set,\n",
    "                    condition_number=SMULTIXCAN_CONDITION_NUMBER,\n",
    "                    reference_panel=REFERENCE_PANEL,\n",
    "                    model_type=EQTL_MODEL,\n",
    "                    use_within_distance=COMPUTE_CORRELATIONS_WITHIN_DISTANCE,\n",
    "                )\n",
    "\n",
    "                if r is None:\n",
    "                    # if r is None, it's very likely because:\n",
    "                    #  * one of the genes has no prediction models\n",
    "                    #  * all the SNPs predictors for the gene are not present in the reference\n",
    "                    #    panel\n",
    "\n",
    "                    r = 0.0\n",
    "\n",
    "                gene_corrs.append(r)\n",
    "\n",
    "                gene_corrs_data[gene1_idx, gene2_idx] = r\n",
    "                gene_corrs_data[gene2_idx, gene1_idx] = r\n",
    "            except Warning as e:\n",
    "                if not DEBUG_MODE:\n",
    "                    raise e\n",
    "\n",
    "                print(\n",
    "                    f\"RuntimeWarning for genes {gene1_obj.ensembl_id} and {gene2_obj.ensembl_id}\",\n",
    "                    flush=True,\n",
    "                )\n",
    "                print(traceback.format_exc(), flush=True)\n",
    "\n",
    "                gene_corrs.append(np.nan)\n",
    "            except Exception as e:\n",
    "                if not DEBUG_MODE:\n",
    "                    raise e\n",
    "\n",
    "                print(\n",
    "                    f\"Exception for genes {gene1_obj.ensembl_id} and {gene2_obj.ensembl_id}\",\n",
    "                    flush=True,\n",
    "                )\n",
    "                print(traceback.format_exc(), flush=True)\n",
    "\n",
    "                gene_corrs.append(np.nan)\n",
    "\n",
    "            pbar.update(1)\n",
    "\n",
    "# create a pandas series\n",
    "gene_corrs_flat = pd.Series(gene_corrs)\n",
    "\n",
    "# save\n",
    "# FIXME: consider saving only the condenced matrix here. See here for\n",
    "# more details: https://github.com/greenelab/phenoplier/pull/38#discussion_r634600813\n",
    "# gene_corrs_data = squareform(np.array(gene_corrs, dtype=np.float64))\n",
    "# np.fill_diagonal(gene_corrs_data, 1.0)\n",
    "\n",
    "gene_chr_ids = [g.ensembl_id for g in gene_chr_objs]\n",
    "gene_corrs_df = pd.DataFrame(\n",
    "    data=gene_corrs_data,\n",
    "    index=gene_chr_ids,\n",
    "    columns=gene_chr_ids,\n",
    ")\n",
    "\n",
    "output_dir.mkdir(exist_ok=True, parents=True)\n",
    "display(output_file)\n",
    "\n",
    "gene_corrs_df.to_pickle(output_file)"
   ]
  },
  {
   "cell_type": "markdown",
   "id": "faa67b51-5373-470f-aa72-2ded53fa6dfe",
   "metadata": {
    "papermill": {
     "duration": 0.941984,
     "end_time": "2022-11-29T23:58:52.938115",
     "exception": false,
     "start_time": "2022-11-29T23:58:51.996131",
     "status": "completed"
    },
    "tags": []
   },
   "source": [
    "# Testing"
   ]
  },
  {
   "cell_type": "code",
   "execution_count": 30,
   "id": "14f7d046-4b55-4896-a56b-990127bcc388",
   "metadata": {
    "execution": {
     "iopub.execute_input": "2022-11-29T23:58:54.852698Z",
     "iopub.status.busy": "2022-11-29T23:58:54.852345Z",
     "iopub.status.idle": "2022-11-29T23:58:54.871072Z",
     "shell.execute_reply": "2022-11-29T23:58:54.870605Z"
    },
    "papermill": {
     "duration": 0.947875,
     "end_time": "2022-11-29T23:58:54.871872",
     "exception": false,
     "start_time": "2022-11-29T23:58:53.923997",
     "status": "completed"
    },
    "tags": []
   },
   "outputs": [
    {
     "data": {
      "text/plain": [
       "(222, 222)"
      ]
     },
     "execution_count": 30,
     "metadata": {},
     "output_type": "execute_result"
    }
   ],
   "source": [
    "gene_corrs_df.shape"
   ]
  },
  {
   "cell_type": "code",
   "execution_count": 31,
   "id": "c7d15414-3297-4537-a7c6-7588c0baeb75",
   "metadata": {
    "execution": {
     "iopub.execute_input": "2022-11-29T23:58:56.836293Z",
     "iopub.status.busy": "2022-11-29T23:58:56.835842Z",
     "iopub.status.idle": "2022-11-29T23:58:56.874788Z",
     "shell.execute_reply": "2022-11-29T23:58:56.874247Z"
    },
    "papermill": {
     "duration": 1.035793,
     "end_time": "2022-11-29T23:58:56.875715",
     "exception": false,
     "start_time": "2022-11-29T23:58:55.839922",
     "status": "completed"
    },
    "tags": []
   },
   "outputs": [
    {
     "data": {
      "text/html": [
       "<div>\n",
       "<style scoped>\n",
       "    .dataframe tbody tr th:only-of-type {\n",
       "        vertical-align: middle;\n",
       "    }\n",
       "\n",
       "    .dataframe tbody tr th {\n",
       "        vertical-align: top;\n",
       "    }\n",
       "\n",
       "    .dataframe thead th {\n",
       "        text-align: right;\n",
       "    }\n",
       "</style>\n",
       "<table border=\"1\" class=\"dataframe\">\n",
       "  <thead>\n",
       "    <tr style=\"text-align: right;\">\n",
       "      <th></th>\n",
       "      <th>ENSG00000172748</th>\n",
       "      <th>ENSG00000182372</th>\n",
       "      <th>ENSG00000104728</th>\n",
       "      <th>ENSG00000036448</th>\n",
       "      <th>ENSG00000091879</th>\n",
       "      <th>ENSG00000155189</th>\n",
       "      <th>ENSG00000164821</th>\n",
       "      <th>ENSG00000253958</th>\n",
       "      <th>ENSG00000147324</th>\n",
       "      <th>ENSG00000173281</th>\n",
       "      <th>...</th>\n",
       "      <th>ENSG00000071894</th>\n",
       "      <th>ENSG00000147804</th>\n",
       "      <th>ENSG00000160948</th>\n",
       "      <th>ENSG00000160949</th>\n",
       "      <th>ENSG00000187954</th>\n",
       "      <th>ENSG00000160972</th>\n",
       "      <th>ENSG00000167701</th>\n",
       "      <th>ENSG00000161016</th>\n",
       "      <th>ENSG00000197363</th>\n",
       "      <th>ENSG00000196150</th>\n",
       "    </tr>\n",
       "  </thead>\n",
       "  <tbody>\n",
       "    <tr>\n",
       "      <th>ENSG00000172748</th>\n",
       "      <td>1.000000</td>\n",
       "      <td>0.008203</td>\n",
       "      <td>0.012194</td>\n",
       "      <td>0.010156</td>\n",
       "      <td>0.008627</td>\n",
       "      <td>0.009669</td>\n",
       "      <td>0.008393</td>\n",
       "      <td>0.005256</td>\n",
       "      <td>0.011801</td>\n",
       "      <td>0.009020</td>\n",
       "      <td>...</td>\n",
       "      <td>0.001993</td>\n",
       "      <td>0.006521</td>\n",
       "      <td>0.004225</td>\n",
       "      <td>0.006686</td>\n",
       "      <td>0.006165</td>\n",
       "      <td>0.006528</td>\n",
       "      <td>0.004982</td>\n",
       "      <td>0.003141</td>\n",
       "      <td>0.005853</td>\n",
       "      <td>0.004734</td>\n",
       "    </tr>\n",
       "    <tr>\n",
       "      <th>ENSG00000182372</th>\n",
       "      <td>0.008203</td>\n",
       "      <td>1.000000</td>\n",
       "      <td>0.182559</td>\n",
       "      <td>0.009172</td>\n",
       "      <td>0.007909</td>\n",
       "      <td>0.006291</td>\n",
       "      <td>0.007841</td>\n",
       "      <td>0.004634</td>\n",
       "      <td>0.007929</td>\n",
       "      <td>0.008676</td>\n",
       "      <td>...</td>\n",
       "      <td>0.001879</td>\n",
       "      <td>0.005246</td>\n",
       "      <td>0.000381</td>\n",
       "      <td>0.003761</td>\n",
       "      <td>0.005085</td>\n",
       "      <td>0.008463</td>\n",
       "      <td>0.003099</td>\n",
       "      <td>0.000870</td>\n",
       "      <td>0.004974</td>\n",
       "      <td>0.004808</td>\n",
       "    </tr>\n",
       "    <tr>\n",
       "      <th>ENSG00000104728</th>\n",
       "      <td>0.012194</td>\n",
       "      <td>0.182559</td>\n",
       "      <td>1.000000</td>\n",
       "      <td>0.029586</td>\n",
       "      <td>0.015373</td>\n",
       "      <td>0.016621</td>\n",
       "      <td>0.014423</td>\n",
       "      <td>0.008077</td>\n",
       "      <td>0.013431</td>\n",
       "      <td>0.012562</td>\n",
       "      <td>...</td>\n",
       "      <td>0.007317</td>\n",
       "      <td>0.013190</td>\n",
       "      <td>0.006235</td>\n",
       "      <td>0.009145</td>\n",
       "      <td>0.014295</td>\n",
       "      <td>0.012378</td>\n",
       "      <td>0.012044</td>\n",
       "      <td>0.006637</td>\n",
       "      <td>0.011510</td>\n",
       "      <td>0.010221</td>\n",
       "    </tr>\n",
       "    <tr>\n",
       "      <th>ENSG00000036448</th>\n",
       "      <td>0.010156</td>\n",
       "      <td>0.009172</td>\n",
       "      <td>0.029586</td>\n",
       "      <td>1.000000</td>\n",
       "      <td>0.008107</td>\n",
       "      <td>0.010894</td>\n",
       "      <td>0.007994</td>\n",
       "      <td>0.005563</td>\n",
       "      <td>0.009629</td>\n",
       "      <td>0.005914</td>\n",
       "      <td>...</td>\n",
       "      <td>0.004426</td>\n",
       "      <td>0.008704</td>\n",
       "      <td>0.005407</td>\n",
       "      <td>0.004688</td>\n",
       "      <td>0.006911</td>\n",
       "      <td>0.007968</td>\n",
       "      <td>0.006094</td>\n",
       "      <td>0.001531</td>\n",
       "      <td>0.003547</td>\n",
       "      <td>0.005336</td>\n",
       "    </tr>\n",
       "    <tr>\n",
       "      <th>ENSG00000091879</th>\n",
       "      <td>0.008627</td>\n",
       "      <td>0.007909</td>\n",
       "      <td>0.015373</td>\n",
       "      <td>0.008107</td>\n",
       "      <td>1.000000</td>\n",
       "      <td>0.098748</td>\n",
       "      <td>0.032149</td>\n",
       "      <td>0.005413</td>\n",
       "      <td>0.011595</td>\n",
       "      <td>0.006861</td>\n",
       "      <td>...</td>\n",
       "      <td>0.004385</td>\n",
       "      <td>0.005745</td>\n",
       "      <td>0.003638</td>\n",
       "      <td>0.002783</td>\n",
       "      <td>0.005626</td>\n",
       "      <td>0.006157</td>\n",
       "      <td>0.007570</td>\n",
       "      <td>0.000583</td>\n",
       "      <td>0.001599</td>\n",
       "      <td>0.002434</td>\n",
       "    </tr>\n",
       "  </tbody>\n",
       "</table>\n",
       "<p>5 rows × 222 columns</p>\n",
       "</div>"
      ],
      "text/plain": [
       "                 ENSG00000172748  ENSG00000182372  ENSG00000104728  \\\n",
       "ENSG00000172748         1.000000         0.008203         0.012194   \n",
       "ENSG00000182372         0.008203         1.000000         0.182559   \n",
       "ENSG00000104728         0.012194         0.182559         1.000000   \n",
       "ENSG00000036448         0.010156         0.009172         0.029586   \n",
       "ENSG00000091879         0.008627         0.007909         0.015373   \n",
       "\n",
       "                 ENSG00000036448  ENSG00000091879  ENSG00000155189  \\\n",
       "ENSG00000172748         0.010156         0.008627         0.009669   \n",
       "ENSG00000182372         0.009172         0.007909         0.006291   \n",
       "ENSG00000104728         0.029586         0.015373         0.016621   \n",
       "ENSG00000036448         1.000000         0.008107         0.010894   \n",
       "ENSG00000091879         0.008107         1.000000         0.098748   \n",
       "\n",
       "                 ENSG00000164821  ENSG00000253958  ENSG00000147324  \\\n",
       "ENSG00000172748         0.008393         0.005256         0.011801   \n",
       "ENSG00000182372         0.007841         0.004634         0.007929   \n",
       "ENSG00000104728         0.014423         0.008077         0.013431   \n",
       "ENSG00000036448         0.007994         0.005563         0.009629   \n",
       "ENSG00000091879         0.032149         0.005413         0.011595   \n",
       "\n",
       "                 ENSG00000173281  ...  ENSG00000071894  ENSG00000147804  \\\n",
       "ENSG00000172748         0.009020  ...         0.001993         0.006521   \n",
       "ENSG00000182372         0.008676  ...         0.001879         0.005246   \n",
       "ENSG00000104728         0.012562  ...         0.007317         0.013190   \n",
       "ENSG00000036448         0.005914  ...         0.004426         0.008704   \n",
       "ENSG00000091879         0.006861  ...         0.004385         0.005745   \n",
       "\n",
       "                 ENSG00000160948  ENSG00000160949  ENSG00000187954  \\\n",
       "ENSG00000172748         0.004225         0.006686         0.006165   \n",
       "ENSG00000182372         0.000381         0.003761         0.005085   \n",
       "ENSG00000104728         0.006235         0.009145         0.014295   \n",
       "ENSG00000036448         0.005407         0.004688         0.006911   \n",
       "ENSG00000091879         0.003638         0.002783         0.005626   \n",
       "\n",
       "                 ENSG00000160972  ENSG00000167701  ENSG00000161016  \\\n",
       "ENSG00000172748         0.006528         0.004982         0.003141   \n",
       "ENSG00000182372         0.008463         0.003099         0.000870   \n",
       "ENSG00000104728         0.012378         0.012044         0.006637   \n",
       "ENSG00000036448         0.007968         0.006094         0.001531   \n",
       "ENSG00000091879         0.006157         0.007570         0.000583   \n",
       "\n",
       "                 ENSG00000197363  ENSG00000196150  \n",
       "ENSG00000172748         0.005853         0.004734  \n",
       "ENSG00000182372         0.004974         0.004808  \n",
       "ENSG00000104728         0.011510         0.010221  \n",
       "ENSG00000036448         0.003547         0.005336  \n",
       "ENSG00000091879         0.001599         0.002434  \n",
       "\n",
       "[5 rows x 222 columns]"
      ]
     },
     "execution_count": 31,
     "metadata": {},
     "output_type": "execute_result"
    }
   ],
   "source": [
    "gene_corrs_df.head()"
   ]
  },
  {
   "cell_type": "markdown",
   "id": "dad6603f-01c6-41fb-a6f6-241051207dd8",
   "metadata": {
    "papermill": {
     "duration": 0.947863,
     "end_time": "2022-11-29T23:58:58.780688",
     "exception": false,
     "start_time": "2022-11-29T23:58:57.832825",
     "status": "completed"
    },
    "tags": []
   },
   "source": [
    "## Standard checks and stats"
   ]
  },
  {
   "cell_type": "code",
   "execution_count": 32,
   "id": "286686af-1b7b-4440-8453-6bdcbd8de19c",
   "metadata": {
    "execution": {
     "iopub.execute_input": "2022-11-29T23:59:00.779921Z",
     "iopub.status.busy": "2022-11-29T23:59:00.779507Z",
     "iopub.status.idle": "2022-11-29T23:59:00.802987Z",
     "shell.execute_reply": "2022-11-29T23:59:00.802269Z"
    },
    "papermill": {
     "duration": 0.985532,
     "end_time": "2022-11-29T23:59:00.804080",
     "exception": false,
     "start_time": "2022-11-29T23:58:59.818548",
     "status": "completed"
    },
    "tags": []
   },
   "outputs": [],
   "source": [
    "assert not gene_corrs_df.isna().any().any()"
   ]
  },
  {
   "cell_type": "code",
   "execution_count": 33,
   "id": "00583efc-7068-4270-ad1e-4a418e91db96",
   "metadata": {
    "execution": {
     "iopub.execute_input": "2022-11-29T23:59:02.724965Z",
     "iopub.status.busy": "2022-11-29T23:59:02.724292Z",
     "iopub.status.idle": "2022-11-29T23:59:02.749720Z",
     "shell.execute_reply": "2022-11-29T23:59:02.749021Z"
    },
    "papermill": {
     "duration": 1.002464,
     "end_time": "2022-11-29T23:59:02.750665",
     "exception": false,
     "start_time": "2022-11-29T23:59:01.748201",
     "status": "completed"
    },
    "tags": []
   },
   "outputs": [
    {
     "data": {
      "text/plain": [
       "1.5288509741727188e-06"
      ]
     },
     "metadata": {},
     "output_type": "display_data"
    }
   ],
   "source": [
    "_min_val = gene_corrs_df.min().min()\n",
    "display(_min_val)\n",
    "assert _min_val >= -0.05"
   ]
  },
  {
   "cell_type": "code",
   "execution_count": 34,
   "id": "d04fb2cf-1050-475b-b855-f5f7cc04092b",
   "metadata": {
    "execution": {
     "iopub.execute_input": "2022-11-29T23:59:04.642837Z",
     "iopub.status.busy": "2022-11-29T23:59:04.642184Z",
     "iopub.status.idle": "2022-11-29T23:59:04.664736Z",
     "shell.execute_reply": "2022-11-29T23:59:04.664210Z"
    },
    "papermill": {
     "duration": 0.964691,
     "end_time": "2022-11-29T23:59:04.665641",
     "exception": false,
     "start_time": "2022-11-29T23:59:03.700950",
     "status": "completed"
    },
    "tags": []
   },
   "outputs": [
    {
     "data": {
      "text/plain": [
       "1.0000000000000033"
      ]
     },
     "metadata": {},
     "output_type": "display_data"
    }
   ],
   "source": [
    "_max_val = gene_corrs_df.max().max()  # this captures the diagonal\n",
    "display(_max_val)\n",
    "assert _max_val <= 1.05"
   ]
  },
  {
   "cell_type": "code",
   "execution_count": 35,
   "id": "96d02c44-1fba-47be-8a93-8f2608420b9c",
   "metadata": {
    "execution": {
     "iopub.execute_input": "2022-11-29T23:59:06.602060Z",
     "iopub.status.busy": "2022-11-29T23:59:06.601769Z",
     "iopub.status.idle": "2022-11-29T23:59:06.615322Z",
     "shell.execute_reply": "2022-11-29T23:59:06.614823Z"
    },
    "papermill": {
     "duration": 0.974505,
     "end_time": "2022-11-29T23:59:06.616676",
     "exception": false,
     "start_time": "2022-11-29T23:59:05.642171",
     "status": "completed"
    },
    "tags": []
   },
   "outputs": [],
   "source": [
    "# check upper triangular values\n",
    "# assert len(gene_corrs) == int(genes_chr.shape[0] * (genes_chr.shape[0] - 1) / 2)"
   ]
  },
  {
   "cell_type": "code",
   "execution_count": 36,
   "id": "fe283586-c348-40e0-8841-f6d97bfb021c",
   "metadata": {
    "execution": {
     "iopub.execute_input": "2022-11-29T23:59:08.528764Z",
     "iopub.status.busy": "2022-11-29T23:59:08.528360Z",
     "iopub.status.idle": "2022-11-29T23:59:08.555396Z",
     "shell.execute_reply": "2022-11-29T23:59:08.554799Z"
    },
    "papermill": {
     "duration": 1.001193,
     "end_time": "2022-11-29T23:59:08.556313",
     "exception": false,
     "start_time": "2022-11-29T23:59:07.555120",
     "status": "completed"
    },
    "tags": []
   },
   "outputs": [
    {
     "data": {
      "text/plain": [
       "count    24753.000000\n",
       "mean         0.017080\n",
       "std          0.096619\n",
       "min          0.000002\n",
       "25%          0.004081\n",
       "50%          0.006169\n",
       "75%          0.008558\n",
       "max          1.000000\n",
       "dtype: float64"
      ]
     },
     "execution_count": 36,
     "metadata": {},
     "output_type": "execute_result"
    }
   ],
   "source": [
    "gene_corrs_flat.describe()"
   ]
  },
  {
   "cell_type": "code",
   "execution_count": 37,
   "id": "b3815678-0f93-4b35-897b-a9d047a2aa78",
   "metadata": {
    "execution": {
     "iopub.execute_input": "2022-11-29T23:59:10.439516Z",
     "iopub.status.busy": "2022-11-29T23:59:10.439002Z",
     "iopub.status.idle": "2022-11-29T23:59:10.465950Z",
     "shell.execute_reply": "2022-11-29T23:59:10.465418Z"
    },
    "papermill": {
     "duration": 0.965432,
     "end_time": "2022-11-29T23:59:10.466829",
     "exception": false,
     "start_time": "2022-11-29T23:59:09.501397",
     "status": "completed"
    },
    "tags": []
   },
   "outputs": [
    {
     "data": {
      "text/plain": [
       "0.00    0.000002\n",
       "0.05    0.001621\n",
       "0.10    0.002449\n",
       "0.15    0.003052\n",
       "0.20    0.003595\n",
       "0.25    0.004081\n",
       "0.30    0.004530\n",
       "0.35    0.004951\n",
       "0.40    0.005346\n",
       "0.45    0.005751\n",
       "0.50    0.006169\n",
       "0.55    0.006590\n",
       "0.60    0.007025\n",
       "0.65    0.007489\n",
       "0.70    0.007988\n",
       "0.75    0.008558\n",
       "0.80    0.009228\n",
       "0.85    0.010058\n",
       "0.90    0.011190\n",
       "0.95    0.013320\n",
       "dtype: float64"
      ]
     },
     "metadata": {},
     "output_type": "display_data"
    }
   ],
   "source": [
    "gene_corrs_quantiles = gene_corrs_flat.quantile(np.arange(0, 1, 0.05))\n",
    "display(gene_corrs_quantiles)"
   ]
  },
  {
   "cell_type": "markdown",
   "id": "87134509-b145-4a10-8bc9-b7e914c2b0fa",
   "metadata": {
    "papermill": {
     "duration": 0.941159,
     "end_time": "2022-11-29T23:59:12.383588",
     "exception": false,
     "start_time": "2022-11-29T23:59:11.442429",
     "status": "completed"
    },
    "tags": []
   },
   "source": [
    "## Positive definiteness"
   ]
  },
  {
   "cell_type": "code",
   "execution_count": 38,
   "id": "07d9a9a1-a4f7-48aa-b916-6d42a8cc6186",
   "metadata": {
    "execution": {
     "iopub.execute_input": "2022-11-29T23:59:14.285710Z",
     "iopub.status.busy": "2022-11-29T23:59:14.285197Z",
     "iopub.status.idle": "2022-11-29T23:59:14.325470Z",
     "shell.execute_reply": "2022-11-29T23:59:14.324979Z"
    },
    "papermill": {
     "duration": 1.012168,
     "end_time": "2022-11-29T23:59:14.326357",
     "exception": false,
     "start_time": "2022-11-29T23:59:13.314189",
     "status": "completed"
    },
    "tags": []
   },
   "outputs": [
    {
     "data": {
      "text/plain": [
       "0"
      ]
     },
     "metadata": {},
     "output_type": "display_data"
    },
    {
     "data": {
      "text/plain": [
       "array([], dtype=float64)"
      ]
     },
     "metadata": {},
     "output_type": "display_data"
    }
   ],
   "source": [
    "# print negative eigenvalues\n",
    "eigs = np.linalg.eigvals(gene_corrs_df.to_numpy())\n",
    "display(len(eigs[eigs < 0]))\n",
    "display(eigs[eigs < 0])"
   ]
  },
  {
   "cell_type": "code",
   "execution_count": 39,
   "id": "6e218436-c3c5-4028-8c94-a4fa6260efce",
   "metadata": {
    "execution": {
     "iopub.execute_input": "2022-11-29T23:59:16.230279Z",
     "iopub.status.busy": "2022-11-29T23:59:16.229855Z",
     "iopub.status.idle": "2022-11-29T23:59:16.255491Z",
     "shell.execute_reply": "2022-11-29T23:59:16.255030Z"
    },
    "papermill": {
     "duration": 0.98653,
     "end_time": "2022-11-29T23:59:16.256366",
     "exception": false,
     "start_time": "2022-11-29T23:59:15.269836",
     "status": "completed"
    },
    "tags": []
   },
   "outputs": [
    {
     "name": "stdout",
     "output_type": "stream",
     "text": [
      "Works!\n"
     ]
    }
   ],
   "source": [
    "try:\n",
    "    chol_mat = np.linalg.cholesky(gene_corrs_df.to_numpy())\n",
    "    cov_inv = np.linalg.inv(chol_mat)\n",
    "    print(\"Works!\")\n",
    "except Exception as e:\n",
    "    print(f\"Cholesky decomposition failed: {str(e)}\")"
   ]
  },
  {
   "cell_type": "code",
   "execution_count": 40,
   "id": "dd8827fb-faf9-4c7c-9454-015e94752706",
   "metadata": {
    "execution": {
     "iopub.execute_input": "2022-11-29T23:59:18.169176Z",
     "iopub.status.busy": "2022-11-29T23:59:18.168616Z",
     "iopub.status.idle": "2022-11-29T23:59:18.195365Z",
     "shell.execute_reply": "2022-11-29T23:59:18.194763Z"
    },
    "papermill": {
     "duration": 0.963904,
     "end_time": "2022-11-29T23:59:18.196296",
     "exception": false,
     "start_time": "2022-11-29T23:59:17.232392",
     "status": "completed"
    },
    "tags": []
   },
   "outputs": [
    {
     "name": "stdout",
     "output_type": "stream",
     "text": [
      "Works!\n"
     ]
    }
   ],
   "source": [
    "try:\n",
    "    # decomposition used by statsmodels.GLS\n",
    "    cholsigmainv = np.linalg.cholesky(np.linalg.inv(gene_corrs_df.to_numpy())).T\n",
    "    print(\"Works!\")\n",
    "except Exception as e:\n",
    "    print(f\"Cholesky decomposition failed (statsmodels.GLS): {str(e)}\")"
   ]
  },
  {
   "cell_type": "markdown",
   "id": "8e60a080-edb2-4e9c-b2ef-22961693200c",
   "metadata": {
    "papermill": {
     "duration": 0.971684,
     "end_time": "2022-11-29T23:59:20.103741",
     "exception": false,
     "start_time": "2022-11-29T23:59:19.132057",
     "status": "completed"
    },
    "tags": []
   },
   "source": [
    "## Plot: distribution"
   ]
  },
  {
   "cell_type": "code",
   "execution_count": 41,
   "id": "8301126b-a7d4-4744-9c7d-f0f86eb6f54c",
   "metadata": {
    "execution": {
     "iopub.execute_input": "2022-11-29T23:59:21.976980Z",
     "iopub.status.busy": "2022-11-29T23:59:21.976542Z",
     "iopub.status.idle": "2022-11-29T23:59:26.758169Z",
     "shell.execute_reply": "2022-11-29T23:59:26.757600Z"
    },
    "papermill": {
     "duration": 5.71772,
     "end_time": "2022-11-29T23:59:26.759131",
     "exception": false,
     "start_time": "2022-11-29T23:59:21.041411",
     "status": "completed"
    },
    "tags": []
   },
   "outputs": [
    {
     "data": {
      "image/png": "[encoded data removed]",
      "text/plain": [
       "<Figure size 700x700 with 1 Axes>"
      ]
     },
     "metadata": {},
     "output_type": "display_data"
    }
   ],
   "source": [
    "with sns.plotting_context(\"paper\", font_scale=1.5):\n",
    "    g = sns.displot(gene_corrs_flat, kde=True, height=7)\n",
    "    g.ax.set_title(\n",
    "        f\"Distribution of gene correlation values in chromosome {CHROMOSOME}\"\n",
    "    )"
   ]
  },
  {
   "cell_type": "markdown",
   "id": "cbd52bca-d878-4a2f-b684-5c83aa3038d4",
   "metadata": {
    "papermill": {
     "duration": 0.93967,
     "end_time": "2022-11-29T23:59:28.690206",
     "exception": false,
     "start_time": "2022-11-29T23:59:27.750536",
     "status": "completed"
    },
    "tags": []
   },
   "source": [
    "## Plot: heatmap"
   ]
  },
  {
   "cell_type": "code",
   "execution_count": 42,
   "id": "d03fe63a-c7b2-4fb9-a53c-db362ce843c9",
   "metadata": {
    "execution": {
     "iopub.execute_input": "2022-11-29T23:59:30.614465Z",
     "iopub.status.busy": "2022-11-29T23:59:30.613988Z",
     "iopub.status.idle": "2022-11-29T23:59:30.637760Z",
     "shell.execute_reply": "2022-11-29T23:59:30.637216Z"
    },
    "papermill": {
     "duration": 1.003345,
     "end_time": "2022-11-29T23:59:30.638644",
     "exception": false,
     "start_time": "2022-11-29T23:59:29.635299",
     "status": "completed"
    },
    "tags": []
   },
   "outputs": [
    {
     "data": {
      "text/plain": [
       "'0.0 / 0.05'"
      ]
     },
     "metadata": {},
     "output_type": "display_data"
    }
   ],
   "source": [
    "vmin_val = min(0.00, gene_corrs_quantiles[0.10])\n",
    "vmax_val = max(0.05, gene_corrs_quantiles[0.90])\n",
    "display(f\"{vmin_val} / {vmax_val}\")"
   ]
  },
  {
   "cell_type": "code",
   "execution_count": 43,
   "id": "dc41b70b-5bcc-4d9e-9f33-a22c4a94dab5",
   "metadata": {
    "execution": {
     "iopub.execute_input": "2022-11-29T23:59:32.531316Z",
     "iopub.status.busy": "2022-11-29T23:59:32.530856Z",
     "iopub.status.idle": "2022-11-29T23:59:32.741754Z",
     "shell.execute_reply": "2022-11-29T23:59:32.741334Z"
    },
    "papermill": {
     "duration": 1.151739,
     "end_time": "2022-11-29T23:59:32.744402",
     "exception": false,
     "start_time": "2022-11-29T23:59:31.592663",
     "status": "completed"
    },
    "tags": []
   },
   "outputs": [
    {
     "data": {
      "text/plain": [
       "Text(0.5, 1.0, 'Gene correlations in chromosome 8')"
      ]
     },
     "execution_count": 43,
     "metadata": {},
     "output_type": "execute_result"
    },
    {
     "data": {
      "image/png": "[encoded data removed]",
      "text/plain": [
       "<Figure size 1000x1000 with 2 Axes>"
      ]
     },
     "metadata": {},
     "output_type": "display_data"
    }
   ],
   "source": [
    "f, ax = plt.subplots(figsize=(10, 10))\n",
    "sns.heatmap(\n",
    "    gene_corrs_df,\n",
    "    xticklabels=False,\n",
    "    yticklabels=False,\n",
    "    square=True,\n",
    "    vmin=vmin_val,\n",
    "    vmax=vmax_val,\n",
    "    cmap=\"rocket_r\",\n",
    "    ax=ax,\n",
    ")\n",
    "ax.set_title(f\"Gene correlations in chromosome {CHROMOSOME}\")"
   ]
  },
  {
   "cell_type": "code",
   "execution_count": null,
   "id": "b25e3ead",
   "metadata": {
    "papermill": {
     "duration": 0.945556,
     "end_time": "2022-11-29T23:59:34.722537",
     "exception": false,
     "start_time": "2022-11-29T23:59:33.776981",
     "status": "completed"
    },
    "tags": []
   },
   "outputs": [],
   "source": []
  }
 ],
 "metadata": {
  "jupytext": {
   "cell_metadata_filter": "all,-execution,-papermill,-trusted",
   "formats": "ipynb,py//py:percent"
  },
  "kernelspec": {
   "display_name": "Python 3 (ipykernel)",
   "language": "python",
   "name": "python3"
  },
  "language_info": {
   "codemirror_mode": {
    "name": "ipython",
    "version": 3
   },
   "file_extension": ".py",
   "mimetype": "text/x-python",
   "name": "python",
   "nbconvert_exporter": "python",
   "pygments_lexer": "ipython3",
   "version": "3.10.6"
  },
  "papermill": {
   "default_parameters": {},
   "duration": 1060.589981,
   "end_time": "2022-11-29T23:59:38.401017",
   "environment_variables": {},
   "exception": null,
   "input_path": "projects/asthma-copd/nbs/20_gene_corrs/10-gene_expr_correlations.ipynb",
   "output_path": "projects/asthma-copd/nbs/20_gene_corrs/gene_corrs/copd_only/10-gene_expr_correlations-chr8.run.ipynb",
   "parameters": {
    "CHROMOSOME": 8,
    "COHORT_NAME": "copd_only",
    "OUTPUT_DIR_BASE": "/opt/data/projects/asthma-copd/results/gls_phenoplier"
   },
   "start_time": "2022-11-29T23:41:57.811036",
   "version": "2.2.2"
  }
 },
 "nbformat": 4,
 "nbformat_minor": 5
}
