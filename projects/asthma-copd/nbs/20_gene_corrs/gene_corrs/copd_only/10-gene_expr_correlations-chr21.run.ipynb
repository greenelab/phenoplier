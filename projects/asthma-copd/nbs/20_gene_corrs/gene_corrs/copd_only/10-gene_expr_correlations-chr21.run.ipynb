{
 "cells": [
  {
   "cell_type": "markdown",
   "id": "7a6632fb",
   "metadata": {
    "papermill": {
     "duration": 0.006857,
     "end_time": "2022-11-30T00:36:13.229876",
     "exception": false,
     "start_time": "2022-11-30T00:36:13.223019",
     "status": "completed"
    },
    "tags": []
   },
   "source": [
    "# Description"
   ]
  },
  {
   "cell_type": "markdown",
   "id": "7097c346",
   "metadata": {
    "papermill": {
     "duration": 0.008157,
     "end_time": "2022-11-30T00:36:13.247477",
     "exception": false,
     "start_time": "2022-11-30T00:36:13.239320",
     "status": "completed"
    },
    "tags": []
   },
   "source": [
    "(Please, take a look at the README.md file in this directory for instructions on how to run this notebook)\n",
    "\n",
    "This notebook computes predicted expression correlations between all genes in the MultiPLIER models.\n",
    "\n",
    "It has specicfic parameters for papermill (see under `Settings` below).\n",
    "It can be configured to run on a single chromosome to run in parallel.\n",
    "\n",
    "This notebook is not directly run. See README.md."
   ]
  },
  {
   "cell_type": "markdown",
   "id": "c61d8427",
   "metadata": {
    "papermill": {
     "duration": 0.008513,
     "end_time": "2022-11-30T00:36:13.264216",
     "exception": false,
     "start_time": "2022-11-30T00:36:13.255703",
     "status": "completed"
    },
    "tags": []
   },
   "source": [
    "# Modules"
   ]
  },
  {
   "cell_type": "code",
   "execution_count": 1,
   "id": "bbc0234f",
   "metadata": {
    "execution": {
     "iopub.execute_input": "2022-11-30T00:36:13.283087Z",
     "iopub.status.busy": "2022-11-30T00:36:13.282551Z",
     "iopub.status.idle": "2022-11-30T00:36:13.302828Z",
     "shell.execute_reply": "2022-11-30T00:36:13.302268Z"
    },
    "papermill": {
     "duration": 0.031189,
     "end_time": "2022-11-30T00:36:13.304391",
     "exception": false,
     "start_time": "2022-11-30T00:36:13.273202",
     "status": "completed"
    },
    "tags": []
   },
   "outputs": [],
   "source": [
    "%load_ext autoreload\n",
    "%autoreload 2"
   ]
  },
  {
   "cell_type": "code",
   "execution_count": 2,
   "id": "1d5f5a59",
   "metadata": {
    "execution": {
     "iopub.execute_input": "2022-11-30T00:36:13.322441Z",
     "iopub.status.busy": "2022-11-30T00:36:13.322015Z",
     "iopub.status.idle": "2022-11-30T00:36:14.013386Z",
     "shell.execute_reply": "2022-11-30T00:36:14.012891Z"
    },
    "papermill": {
     "duration": 0.702162,
     "end_time": "2022-11-30T00:36:14.015122",
     "exception": false,
     "start_time": "2022-11-30T00:36:13.312960",
     "status": "completed"
    },
    "tags": []
   },
   "outputs": [],
   "source": [
    "from random import sample, seed\n",
    "import warnings\n",
    "from pathlib import Path\n",
    "import pickle\n",
    "import traceback\n",
    "\n",
    "import numpy as np\n",
    "from scipy.spatial.distance import squareform\n",
    "import pandas as pd\n",
    "from tqdm import tqdm\n",
    "import matplotlib.pyplot as plt\n",
    "import seaborn as sns\n",
    "\n",
    "import conf\n",
    "from entity import Gene"
   ]
  },
  {
   "cell_type": "markdown",
   "id": "1eac24b5",
   "metadata": {
    "papermill": {
     "duration": 0.009671,
     "end_time": "2022-11-30T00:36:14.033586",
     "exception": false,
     "start_time": "2022-11-30T00:36:14.023915",
     "status": "completed"
    },
    "tags": []
   },
   "source": [
    "# Settings"
   ]
  },
  {
   "cell_type": "code",
   "execution_count": 3,
   "id": "ca4560ba",
   "metadata": {
    "execution": {
     "iopub.execute_input": "2022-11-30T00:36:14.051733Z",
     "iopub.status.busy": "2022-11-30T00:36:14.051505Z",
     "iopub.status.idle": "2022-11-30T00:36:14.064709Z",
     "shell.execute_reply": "2022-11-30T00:36:14.064301Z"
    },
    "papermill": {
     "duration": 0.023599,
     "end_time": "2022-11-30T00:36:14.066069",
     "exception": false,
     "start_time": "2022-11-30T00:36:14.042470",
     "status": "completed"
    },
    "tags": [
     "parameters"
    ]
   },
   "outputs": [],
   "source": [
    "# a cohort name (it could be something like UK_BIOBANK, etc)\n",
    "COHORT_NAME = None\n",
    "\n",
    "# reference panel such as 1000G or GTEX_V8\n",
    "REFERENCE_PANEL = \"GTEX_V8\"\n",
    "\n",
    "# predictions models such as MASHR or ELASTIC_NET\n",
    "EQTL_MODEL = \"MASHR\"\n",
    "\n",
    "# this is the default value used in S-MultiXcan to select the\n",
    "# top principal components of the expression correlation matrix\n",
    "SMULTIXCAN_CONDITION_NUMBER = 30\n",
    "\n",
    "# specifies a single chromosome value\n",
    "CHROMOSOME = None\n",
    "\n",
    "# If True, computes the correlation between closeby genes only;\n",
    "# otherwise, it computes correlations for all genes in a chromosome\n",
    "COMPUTE_CORRELATIONS_WITHIN_DISTANCE = False\n",
    "\n",
    "# if True, then it will continue if a gene pair correlation fails,\n",
    "# printing the warning/error for debugging. If False, any warning/error\n",
    "# will be thrown\n",
    "DEBUG_MODE = False\n",
    "\n",
    "# output dir\n",
    "OUTPUT_DIR_BASE = None"
   ]
  },
  {
   "cell_type": "code",
   "execution_count": 4,
   "id": "764ea037",
   "metadata": {
    "execution": {
     "iopub.execute_input": "2022-11-30T00:36:14.083824Z",
     "iopub.status.busy": "2022-11-30T00:36:14.083648Z",
     "iopub.status.idle": "2022-11-30T00:36:14.095506Z",
     "shell.execute_reply": "2022-11-30T00:36:14.095132Z"
    },
    "papermill": {
     "duration": 0.022087,
     "end_time": "2022-11-30T00:36:14.096813",
     "exception": false,
     "start_time": "2022-11-30T00:36:14.074726",
     "status": "completed"
    },
    "tags": [
     "injected-parameters"
    ]
   },
   "outputs": [],
   "source": [
    "# Parameters\n",
    "COHORT_NAME = \"copd_only\"\n",
    "CHROMOSOME = 21\n",
    "OUTPUT_DIR_BASE = \"/opt/data/projects/asthma-copd/results/gls_phenoplier\"\n"
   ]
  },
  {
   "cell_type": "code",
   "execution_count": 5,
   "id": "3190631f-27fc-480f-b18e-571d580425a5",
   "metadata": {
    "execution": {
     "iopub.execute_input": "2022-11-30T00:36:14.114904Z",
     "iopub.status.busy": "2022-11-30T00:36:14.114783Z",
     "iopub.status.idle": "2022-11-30T00:36:14.141110Z",
     "shell.execute_reply": "2022-11-30T00:36:14.140593Z"
    },
    "papermill": {
     "duration": 0.037055,
     "end_time": "2022-11-30T00:36:14.142496",
     "exception": false,
     "start_time": "2022-11-30T00:36:14.105441",
     "status": "completed"
    },
    "tags": []
   },
   "outputs": [
    {
     "data": {
      "text/plain": [
       "'Cohort name: copd_only'"
      ]
     },
     "metadata": {},
     "output_type": "display_data"
    }
   ],
   "source": [
    "assert COHORT_NAME is not None and len(COHORT_NAME) > 0, \"A cohort name must be given\"\n",
    "\n",
    "COHORT_NAME = COHORT_NAME.lower()\n",
    "display(f\"Cohort name: {COHORT_NAME}\")"
   ]
  },
  {
   "cell_type": "code",
   "execution_count": 6,
   "id": "f53ba19b-0f93-4fa2-a047-63b375939d1a",
   "metadata": {
    "execution": {
     "iopub.execute_input": "2022-11-30T00:36:14.161095Z",
     "iopub.status.busy": "2022-11-30T00:36:14.160818Z",
     "iopub.status.idle": "2022-11-30T00:36:14.181993Z",
     "shell.execute_reply": "2022-11-30T00:36:14.181308Z"
    },
    "papermill": {
     "duration": 0.03197,
     "end_time": "2022-11-30T00:36:14.183450",
     "exception": false,
     "start_time": "2022-11-30T00:36:14.151480",
     "status": "completed"
    },
    "tags": []
   },
   "outputs": [
    {
     "data": {
      "text/plain": [
       "'Reference panel: GTEX_V8'"
      ]
     },
     "metadata": {},
     "output_type": "display_data"
    }
   ],
   "source": [
    "assert (\n",
    "    REFERENCE_PANEL is not None and len(REFERENCE_PANEL) > 0\n",
    "), \"A reference panel must be given\"\n",
    "\n",
    "display(f\"Reference panel: {REFERENCE_PANEL}\")"
   ]
  },
  {
   "cell_type": "code",
   "execution_count": 7,
   "id": "e024d130-c139-429a-9c6e-ccf149e297b0",
   "metadata": {
    "execution": {
     "iopub.execute_input": "2022-11-30T00:36:14.201180Z",
     "iopub.status.busy": "2022-11-30T00:36:14.200724Z",
     "iopub.status.idle": "2022-11-30T00:36:14.221216Z",
     "shell.execute_reply": "2022-11-30T00:36:14.220727Z"
    },
    "papermill": {
     "duration": 0.031793,
     "end_time": "2022-11-30T00:36:14.222637",
     "exception": false,
     "start_time": "2022-11-30T00:36:14.190844",
     "status": "completed"
    },
    "tags": []
   },
   "outputs": [
    {
     "data": {
      "text/plain": [
       "'eQTL model: MASHR) / mashr_'"
      ]
     },
     "metadata": {},
     "output_type": "display_data"
    }
   ],
   "source": [
    "assert (\n",
    "    EQTL_MODEL is not None and len(EQTL_MODEL) > 0\n",
    "), \"A prediction/eQTL model must be given\"\n",
    "\n",
    "EQTL_MODEL_FILES_PREFIX = conf.PHENOMEXCAN[\"PREDICTION_MODELS\"][f\"{EQTL_MODEL}_PREFIX\"]\n",
    "display(f\"eQTL model: {EQTL_MODEL}) / {EQTL_MODEL_FILES_PREFIX}\")"
   ]
  },
  {
   "cell_type": "code",
   "execution_count": 8,
   "id": "552a7f63-a18c-4d3e-bb6a-94f99b431291",
   "metadata": {
    "execution": {
     "iopub.execute_input": "2022-11-30T00:36:14.241756Z",
     "iopub.status.busy": "2022-11-30T00:36:14.241280Z",
     "iopub.status.idle": "2022-11-30T00:36:14.261223Z",
     "shell.execute_reply": "2022-11-30T00:36:14.260740Z"
    },
    "papermill": {
     "duration": 0.030968,
     "end_time": "2022-11-30T00:36:14.262624",
     "exception": false,
     "start_time": "2022-11-30T00:36:14.231656",
     "status": "completed"
    },
    "tags": []
   },
   "outputs": [
    {
     "data": {
      "text/plain": [
       "'S-MultiXcan condition number: 30'"
      ]
     },
     "metadata": {},
     "output_type": "display_data"
    }
   ],
   "source": [
    "assert (\n",
    "    SMULTIXCAN_CONDITION_NUMBER is not None and SMULTIXCAN_CONDITION_NUMBER > 0\n",
    "), \"The S-MultiXcan condition number (positive integer) must be given\"\n",
    "\n",
    "display(f\"S-MultiXcan condition number: {SMULTIXCAN_CONDITION_NUMBER}\")"
   ]
  },
  {
   "cell_type": "code",
   "execution_count": 9,
   "id": "f34a336f-548e-4afe-8955-90eaea4f42c6",
   "metadata": {
    "execution": {
     "iopub.execute_input": "2022-11-30T00:36:14.281980Z",
     "iopub.status.busy": "2022-11-30T00:36:14.281557Z",
     "iopub.status.idle": "2022-11-30T00:36:14.303509Z",
     "shell.execute_reply": "2022-11-30T00:36:14.303018Z"
    },
    "papermill": {
     "duration": 0.033167,
     "end_time": "2022-11-30T00:36:14.304938",
     "exception": false,
     "start_time": "2022-11-30T00:36:14.271771",
     "status": "completed"
    },
    "tags": []
   },
   "outputs": [
    {
     "data": {
      "text/plain": [
       "'Working on chromosome 21'"
      ]
     },
     "metadata": {},
     "output_type": "display_data"
    }
   ],
   "source": [
    "assert CHROMOSOME is not None and (\n",
    "    1 <= CHROMOSOME <= 22\n",
    "), \"You have to select one chromosome (format: number between 1 and 22)\"\n",
    "\n",
    "# CHROMOSOME = str(CHROMOSOME)\n",
    "display(f\"Working on chromosome {CHROMOSOME}\")"
   ]
  },
  {
   "cell_type": "code",
   "execution_count": 10,
   "id": "ab8e96e8-06b5-4363-9dcd-dc4d78cc27f7",
   "metadata": {
    "execution": {
     "iopub.execute_input": "2022-11-30T00:36:14.324959Z",
     "iopub.status.busy": "2022-11-30T00:36:14.324544Z",
     "iopub.status.idle": "2022-11-30T00:36:14.344710Z",
     "shell.execute_reply": "2022-11-30T00:36:14.344212Z"
    },
    "papermill": {
     "duration": 0.031449,
     "end_time": "2022-11-30T00:36:14.346129",
     "exception": false,
     "start_time": "2022-11-30T00:36:14.314680",
     "status": "completed"
    },
    "tags": []
   },
   "outputs": [
    {
     "data": {
      "text/plain": [
       "'Compute correlation within distance False'"
      ]
     },
     "metadata": {},
     "output_type": "display_data"
    }
   ],
   "source": [
    "display(f\"Compute correlation within distance {COMPUTE_CORRELATIONS_WITHIN_DISTANCE}\")"
   ]
  },
  {
   "cell_type": "code",
   "execution_count": 11,
   "id": "b393b698-77e3-4ba2-8ac1-e14d51aa988f",
   "metadata": {
    "execution": {
     "iopub.execute_input": "2022-11-30T00:36:14.367557Z",
     "iopub.status.busy": "2022-11-30T00:36:14.367120Z",
     "iopub.status.idle": "2022-11-30T00:36:14.391269Z",
     "shell.execute_reply": "2022-11-30T00:36:14.390776Z"
    },
    "papermill": {
     "duration": 0.037204,
     "end_time": "2022-11-30T00:36:14.392767",
     "exception": false,
     "start_time": "2022-11-30T00:36:14.355563",
     "status": "completed"
    },
    "tags": []
   },
   "outputs": [
    {
     "data": {
      "text/plain": [
       "'Using output dir base: /opt/data/projects/asthma-copd/results/gls_phenoplier/gene_corrs/copd_only'"
      ]
     },
     "metadata": {},
     "output_type": "display_data"
    }
   ],
   "source": [
    "assert (\n",
    "    OUTPUT_DIR_BASE is not None and len(OUTPUT_DIR_BASE) > 0\n",
    "), \"Output directory path must be given\"\n",
    "\n",
    "OUTPUT_DIR_BASE = (\n",
    "    Path(OUTPUT_DIR_BASE)\n",
    "    / \"gene_corrs\"\n",
    "    / COHORT_NAME\n",
    "    # / REFERENCE_PANEL.lower()\n",
    "    # / EQTL_MODEL.lower()\n",
    ").resolve()\n",
    "\n",
    "OUTPUT_DIR_BASE.mkdir(parents=True, exist_ok=True)\n",
    "\n",
    "display(f\"Using output dir base: {OUTPUT_DIR_BASE}\")"
   ]
  },
  {
   "cell_type": "markdown",
   "id": "d2ba085e",
   "metadata": {
    "papermill": {
     "duration": 0.011219,
     "end_time": "2022-11-30T00:36:14.415650",
     "exception": false,
     "start_time": "2022-11-30T00:36:14.404431",
     "status": "completed"
    },
    "tags": []
   },
   "source": [
    "# Load data"
   ]
  },
  {
   "cell_type": "markdown",
   "id": "7dcb8db7",
   "metadata": {
    "papermill": {
     "duration": 0.010809,
     "end_time": "2022-11-30T00:36:14.437730",
     "exception": false,
     "start_time": "2022-11-30T00:36:14.426921",
     "status": "completed"
    },
    "tags": []
   },
   "source": [
    "## GWAS variants"
   ]
  },
  {
   "cell_type": "code",
   "execution_count": 12,
   "id": "29434c4e-8cd3-4b9b-82e4-b5a251d9dd19",
   "metadata": {
    "execution": {
     "iopub.execute_input": "2022-11-30T00:36:14.455222Z",
     "iopub.status.busy": "2022-11-30T00:36:14.454738Z",
     "iopub.status.idle": "2022-11-30T00:36:16.482179Z",
     "shell.execute_reply": "2022-11-30T00:36:16.481680Z"
    },
    "papermill": {
     "duration": 2.036193,
     "end_time": "2022-11-30T00:36:16.483834",
     "exception": false,
     "start_time": "2022-11-30T00:36:14.447641",
     "status": "completed"
    },
    "tags": []
   },
   "outputs": [],
   "source": [
    "with open(OUTPUT_DIR_BASE / \"gwas_variant_ids.pkl\", \"rb\") as handle:\n",
    "    gwas_variants_ids_set = pickle.load(handle)"
   ]
  },
  {
   "cell_type": "code",
   "execution_count": 13,
   "id": "b9d9dec2-4a76-4bf9-bde2-e24c95acb8a0",
   "metadata": {
    "execution": {
     "iopub.execute_input": "2022-11-30T00:36:16.504279Z",
     "iopub.status.busy": "2022-11-30T00:36:16.503956Z",
     "iopub.status.idle": "2022-11-30T00:36:16.517702Z",
     "shell.execute_reply": "2022-11-30T00:36:16.517311Z"
    },
    "papermill": {
     "duration": 0.025393,
     "end_time": "2022-11-30T00:36:16.519071",
     "exception": false,
     "start_time": "2022-11-30T00:36:16.493678",
     "status": "completed"
    },
    "tags": []
   },
   "outputs": [
    {
     "data": {
      "text/plain": [
       "8586183"
      ]
     },
     "execution_count": 13,
     "metadata": {},
     "output_type": "execute_result"
    }
   ],
   "source": [
    "len(gwas_variants_ids_set)"
   ]
  },
  {
   "cell_type": "code",
   "execution_count": 14,
   "id": "4235b06a-6034-4ee4-a0a3-2ae35d122418",
   "metadata": {
    "execution": {
     "iopub.execute_input": "2022-11-30T00:36:16.539844Z",
     "iopub.status.busy": "2022-11-30T00:36:16.539565Z",
     "iopub.status.idle": "2022-11-30T00:36:16.909682Z",
     "shell.execute_reply": "2022-11-30T00:36:16.909281Z"
    },
    "papermill": {
     "duration": 0.382205,
     "end_time": "2022-11-30T00:36:16.911068",
     "exception": false,
     "start_time": "2022-11-30T00:36:16.528863",
     "status": "completed"
    },
    "tags": []
   },
   "outputs": [
    {
     "data": {
      "text/plain": [
       "['chr6_13032217_T_C_b38',\n",
       " 'chr12_114145699_C_T_b38',\n",
       " 'chr14_67489961_G_A_b38',\n",
       " 'chr3_159693091_C_A_b38',\n",
       " 'chr9_101945827_G_A_b38']"
      ]
     },
     "execution_count": 14,
     "metadata": {},
     "output_type": "execute_result"
    }
   ],
   "source": [
    "list(gwas_variants_ids_set)[:5]"
   ]
  },
  {
   "cell_type": "markdown",
   "id": "07866999-2305-41f9-a144-e69c9122c212",
   "metadata": {
    "papermill": {
     "duration": 0.009761,
     "end_time": "2022-11-30T00:36:16.930860",
     "exception": false,
     "start_time": "2022-11-30T00:36:16.921099",
     "status": "completed"
    },
    "tags": []
   },
   "source": [
    "## S-PrediXcan tissue models"
   ]
  },
  {
   "cell_type": "code",
   "execution_count": 15,
   "id": "780611d9-77c8-405f-90a4-f271f7b09397",
   "metadata": {
    "execution": {
     "iopub.execute_input": "2022-11-30T00:36:16.952477Z",
     "iopub.status.busy": "2022-11-30T00:36:16.952291Z",
     "iopub.status.idle": "2022-11-30T00:36:17.658099Z",
     "shell.execute_reply": "2022-11-30T00:36:17.657664Z"
    },
    "papermill": {
     "duration": 0.718176,
     "end_time": "2022-11-30T00:36:17.659745",
     "exception": false,
     "start_time": "2022-11-30T00:36:16.941569",
     "status": "completed"
    },
    "tags": []
   },
   "outputs": [],
   "source": [
    "spredixcan_genes_models = pd.read_pickle(OUTPUT_DIR_BASE / \"gene_tissues.pkl\")"
   ]
  },
  {
   "cell_type": "code",
   "execution_count": 16,
   "id": "726dd1f6-9557-4225-91fa-b3b879ea96e1",
   "metadata": {
    "execution": {
     "iopub.execute_input": "2022-11-30T00:36:17.680916Z",
     "iopub.status.busy": "2022-11-30T00:36:17.680791Z",
     "iopub.status.idle": "2022-11-30T00:36:17.694975Z",
     "shell.execute_reply": "2022-11-30T00:36:17.694587Z"
    },
    "papermill": {
     "duration": 0.026417,
     "end_time": "2022-11-30T00:36:17.696367",
     "exception": false,
     "start_time": "2022-11-30T00:36:17.669950",
     "status": "completed"
    },
    "tags": []
   },
   "outputs": [
    {
     "data": {
      "text/plain": [
       "(6443, 5)"
      ]
     },
     "execution_count": 16,
     "metadata": {},
     "output_type": "execute_result"
    }
   ],
   "source": [
    "spredixcan_genes_models.shape"
   ]
  },
  {
   "cell_type": "code",
   "execution_count": 17,
   "id": "944a1b48-222c-4eb0-b252-b9de2cbca215",
   "metadata": {
    "execution": {
     "iopub.execute_input": "2022-11-30T00:36:17.719434Z",
     "iopub.status.busy": "2022-11-30T00:36:17.719258Z",
     "iopub.status.idle": "2022-11-30T00:36:17.737307Z",
     "shell.execute_reply": "2022-11-30T00:36:17.736900Z"
    },
    "papermill": {
     "duration": 0.030608,
     "end_time": "2022-11-30T00:36:17.738689",
     "exception": false,
     "start_time": "2022-11-30T00:36:17.708081",
     "status": "completed"
    },
    "tags": []
   },
   "outputs": [
    {
     "data": {
      "text/html": [
       "<div>\n",
       "<style scoped>\n",
       "    .dataframe tbody tr th:only-of-type {\n",
       "        vertical-align: middle;\n",
       "    }\n",
       "\n",
       "    .dataframe tbody tr th {\n",
       "        vertical-align: top;\n",
       "    }\n",
       "\n",
       "    .dataframe thead th {\n",
       "        text-align: right;\n",
       "    }\n",
       "</style>\n",
       "<table border=\"1\" class=\"dataframe\">\n",
       "  <thead>\n",
       "    <tr style=\"text-align: right;\">\n",
       "      <th></th>\n",
       "      <th>gene_name</th>\n",
       "      <th>tissue</th>\n",
       "      <th>n_tissues</th>\n",
       "      <th>n_snps_used_sum</th>\n",
       "      <th>n_snps_in_model_sum</th>\n",
       "    </tr>\n",
       "    <tr>\n",
       "      <th>gene_id</th>\n",
       "      <th></th>\n",
       "      <th></th>\n",
       "      <th></th>\n",
       "      <th></th>\n",
       "      <th></th>\n",
       "    </tr>\n",
       "  </thead>\n",
       "  <tbody>\n",
       "    <tr>\n",
       "      <th>ENSG00000000419</th>\n",
       "      <td>DPM1</td>\n",
       "      <td>(Brain_Substantia_nigra, Brain_Hypothalamus)</td>\n",
       "      <td>2</td>\n",
       "      <td>2</td>\n",
       "      <td>2</td>\n",
       "    </tr>\n",
       "    <tr>\n",
       "      <th>ENSG00000000938</th>\n",
       "      <td>FGR</td>\n",
       "      <td>(Thyroid, Pituitary, Cells_EBV-transformed_lym...</td>\n",
       "      <td>36</td>\n",
       "      <td>40</td>\n",
       "      <td>40</td>\n",
       "    </tr>\n",
       "    <tr>\n",
       "      <th>ENSG00000000971</th>\n",
       "      <td>CFH</td>\n",
       "      <td>(Thyroid, Pituitary, Nerve_Tibial, Brain_Subst...</td>\n",
       "      <td>34</td>\n",
       "      <td>44</td>\n",
       "      <td>44</td>\n",
       "    </tr>\n",
       "    <tr>\n",
       "      <th>ENSG00000001084</th>\n",
       "      <td>GCLC</td>\n",
       "      <td>(Thyroid, Pituitary, Cells_EBV-transformed_lym...</td>\n",
       "      <td>32</td>\n",
       "      <td>46</td>\n",
       "      <td>46</td>\n",
       "    </tr>\n",
       "    <tr>\n",
       "      <th>ENSG00000001167</th>\n",
       "      <td>NFYA</td>\n",
       "      <td>(Thyroid, Nerve_Tibial, Whole_Blood, Artery_Ao...</td>\n",
       "      <td>40</td>\n",
       "      <td>47</td>\n",
       "      <td>48</td>\n",
       "    </tr>\n",
       "  </tbody>\n",
       "</table>\n",
       "</div>"
      ],
      "text/plain": [
       "                gene_name                                             tissue  \\\n",
       "gene_id                                                                        \n",
       "ENSG00000000419      DPM1       (Brain_Substantia_nigra, Brain_Hypothalamus)   \n",
       "ENSG00000000938       FGR  (Thyroid, Pituitary, Cells_EBV-transformed_lym...   \n",
       "ENSG00000000971       CFH  (Thyroid, Pituitary, Nerve_Tibial, Brain_Subst...   \n",
       "ENSG00000001084      GCLC  (Thyroid, Pituitary, Cells_EBV-transformed_lym...   \n",
       "ENSG00000001167      NFYA  (Thyroid, Nerve_Tibial, Whole_Blood, Artery_Ao...   \n",
       "\n",
       "                 n_tissues  n_snps_used_sum  n_snps_in_model_sum  \n",
       "gene_id                                                           \n",
       "ENSG00000000419          2                2                    2  \n",
       "ENSG00000000938         36               40                   40  \n",
       "ENSG00000000971         34               44                   44  \n",
       "ENSG00000001084         32               46                   46  \n",
       "ENSG00000001167         40               47                   48  "
      ]
     },
     "execution_count": 17,
     "metadata": {},
     "output_type": "execute_result"
    }
   ],
   "source": [
    "spredixcan_genes_models.head()"
   ]
  },
  {
   "cell_type": "code",
   "execution_count": 18,
   "id": "d1c11bb1-be0b-4f40-b360-633d6827109f",
   "metadata": {
    "execution": {
     "iopub.execute_input": "2022-11-30T00:36:17.759960Z",
     "iopub.status.busy": "2022-11-30T00:36:17.759792Z",
     "iopub.status.idle": "2022-11-30T00:36:17.772130Z",
     "shell.execute_reply": "2022-11-30T00:36:17.771736Z"
    },
    "papermill": {
     "duration": 0.024684,
     "end_time": "2022-11-30T00:36:17.773772",
     "exception": false,
     "start_time": "2022-11-30T00:36:17.749088",
     "status": "completed"
    },
    "tags": []
   },
   "outputs": [],
   "source": [
    "assert spredixcan_genes_models.index.is_unique"
   ]
  },
  {
   "cell_type": "markdown",
   "id": "a5b5092c-a13e-47c4-a92a-480fcc08f3ae",
   "metadata": {
    "papermill": {
     "duration": 0.011385,
     "end_time": "2022-11-30T00:36:17.795908",
     "exception": false,
     "start_time": "2022-11-30T00:36:17.784523",
     "status": "completed"
    },
    "tags": []
   },
   "source": [
    "## Gene info"
   ]
  },
  {
   "cell_type": "code",
   "execution_count": 19,
   "id": "7d6bb224-88e9-4358-ac10-43a41d92cdad",
   "metadata": {
    "execution": {
     "iopub.execute_input": "2022-11-30T00:36:17.818340Z",
     "iopub.status.busy": "2022-11-30T00:36:17.817946Z",
     "iopub.status.idle": "2022-11-30T00:36:17.838458Z",
     "shell.execute_reply": "2022-11-30T00:36:17.837931Z"
    },
    "papermill": {
     "duration": 0.033382,
     "end_time": "2022-11-30T00:36:17.839508",
     "exception": false,
     "start_time": "2022-11-30T00:36:17.806126",
     "status": "completed"
    },
    "tags": []
   },
   "outputs": [],
   "source": [
    "genes_info = pd.read_pickle(OUTPUT_DIR_BASE / \"genes_info.pkl\")"
   ]
  },
  {
   "cell_type": "code",
   "execution_count": 20,
   "id": "9e32abfa-546d-483e-8c18-d526e9e05903",
   "metadata": {
    "execution": {
     "iopub.execute_input": "2022-11-30T00:36:17.851473Z",
     "iopub.status.busy": "2022-11-30T00:36:17.851230Z",
     "iopub.status.idle": "2022-11-30T00:36:17.874507Z",
     "shell.execute_reply": "2022-11-30T00:36:17.873843Z"
    },
    "papermill": {
     "duration": 0.030229,
     "end_time": "2022-11-30T00:36:17.875399",
     "exception": false,
     "start_time": "2022-11-30T00:36:17.845170",
     "status": "completed"
    },
    "tags": []
   },
   "outputs": [
    {
     "data": {
      "text/plain": [
       "(6443, 7)"
      ]
     },
     "execution_count": 20,
     "metadata": {},
     "output_type": "execute_result"
    }
   ],
   "source": [
    "genes_info.shape"
   ]
  },
  {
   "cell_type": "code",
   "execution_count": 21,
   "id": "d16c3e92-85ec-468a-9a56-e25a9774a1cb",
   "metadata": {
    "execution": {
     "iopub.execute_input": "2022-11-30T00:36:17.887815Z",
     "iopub.status.busy": "2022-11-30T00:36:17.887328Z",
     "iopub.status.idle": "2022-11-30T00:36:17.912501Z",
     "shell.execute_reply": "2022-11-30T00:36:17.911862Z"
    },
    "papermill": {
     "duration": 0.032414,
     "end_time": "2022-11-30T00:36:17.913858",
     "exception": false,
     "start_time": "2022-11-30T00:36:17.881444",
     "status": "completed"
    },
    "tags": []
   },
   "outputs": [
    {
     "data": {
      "text/html": [
       "<div>\n",
       "<style scoped>\n",
       "    .dataframe tbody tr th:only-of-type {\n",
       "        vertical-align: middle;\n",
       "    }\n",
       "\n",
       "    .dataframe tbody tr th {\n",
       "        vertical-align: top;\n",
       "    }\n",
       "\n",
       "    .dataframe thead th {\n",
       "        text-align: right;\n",
       "    }\n",
       "</style>\n",
       "<table border=\"1\" class=\"dataframe\">\n",
       "  <thead>\n",
       "    <tr style=\"text-align: right;\">\n",
       "      <th></th>\n",
       "      <th>name</th>\n",
       "      <th>id</th>\n",
       "      <th>chr</th>\n",
       "      <th>band</th>\n",
       "      <th>start_position</th>\n",
       "      <th>end_position</th>\n",
       "      <th>gene_length</th>\n",
       "    </tr>\n",
       "  </thead>\n",
       "  <tbody>\n",
       "    <tr>\n",
       "      <th>0</th>\n",
       "      <td>PPP1R13B</td>\n",
       "      <td>ENSG00000088808</td>\n",
       "      <td>14</td>\n",
       "      <td>14q32.33</td>\n",
       "      <td>103733195</td>\n",
       "      <td>103847590</td>\n",
       "      <td>114395</td>\n",
       "    </tr>\n",
       "    <tr>\n",
       "      <th>1</th>\n",
       "      <td>HNRNPA0</td>\n",
       "      <td>ENSG00000177733</td>\n",
       "      <td>5</td>\n",
       "      <td>5q31.2</td>\n",
       "      <td>137745651</td>\n",
       "      <td>137754376</td>\n",
       "      <td>8725</td>\n",
       "    </tr>\n",
       "    <tr>\n",
       "      <th>2</th>\n",
       "      <td>GSN</td>\n",
       "      <td>ENSG00000148180</td>\n",
       "      <td>9</td>\n",
       "      <td>9q33.2</td>\n",
       "      <td>121207794</td>\n",
       "      <td>121332843</td>\n",
       "      <td>125049</td>\n",
       "    </tr>\n",
       "    <tr>\n",
       "      <th>3</th>\n",
       "      <td>CCR3</td>\n",
       "      <td>ENSG00000183625</td>\n",
       "      <td>3</td>\n",
       "      <td>3p21.31</td>\n",
       "      <td>46163604</td>\n",
       "      <td>46266706</td>\n",
       "      <td>103102</td>\n",
       "    </tr>\n",
       "    <tr>\n",
       "      <th>4</th>\n",
       "      <td>TRIB2</td>\n",
       "      <td>ENSG00000071575</td>\n",
       "      <td>2</td>\n",
       "      <td>2p24.3</td>\n",
       "      <td>12716889</td>\n",
       "      <td>12742734</td>\n",
       "      <td>25845</td>\n",
       "    </tr>\n",
       "  </tbody>\n",
       "</table>\n",
       "</div>"
      ],
      "text/plain": [
       "       name               id  chr      band  start_position  end_position  \\\n",
       "0  PPP1R13B  ENSG00000088808   14  14q32.33       103733195     103847590   \n",
       "1   HNRNPA0  ENSG00000177733    5    5q31.2       137745651     137754376   \n",
       "2       GSN  ENSG00000148180    9    9q33.2       121207794     121332843   \n",
       "3      CCR3  ENSG00000183625    3   3p21.31        46163604      46266706   \n",
       "4     TRIB2  ENSG00000071575    2    2p24.3        12716889      12742734   \n",
       "\n",
       "   gene_length  \n",
       "0       114395  \n",
       "1         8725  \n",
       "2       125049  \n",
       "3       103102  \n",
       "4        25845  "
      ]
     },
     "execution_count": 21,
     "metadata": {},
     "output_type": "execute_result"
    }
   ],
   "source": [
    "genes_info.head()"
   ]
  },
  {
   "cell_type": "markdown",
   "id": "d3843e06",
   "metadata": {
    "papermill": {
     "duration": 0.011076,
     "end_time": "2022-11-30T00:36:17.935817",
     "exception": false,
     "start_time": "2022-11-30T00:36:17.924741",
     "status": "completed"
    },
    "tags": []
   },
   "source": [
    "# Compute correlations"
   ]
  },
  {
   "cell_type": "code",
   "execution_count": 22,
   "id": "cb859c15-d1f3-4006-a74c-2b83c0db9611",
   "metadata": {
    "execution": {
     "iopub.execute_input": "2022-11-30T00:36:17.959582Z",
     "iopub.status.busy": "2022-11-30T00:36:17.959129Z",
     "iopub.status.idle": "2022-11-30T00:36:17.980676Z",
     "shell.execute_reply": "2022-11-30T00:36:17.980038Z"
    },
    "papermill": {
     "duration": 0.034418,
     "end_time": "2022-11-30T00:36:17.982114",
     "exception": false,
     "start_time": "2022-11-30T00:36:17.947696",
     "status": "completed"
    },
    "tags": []
   },
   "outputs": [
    {
     "data": {
      "text/plain": [
       "PosixPath('/opt/data/projects/asthma-copd/results/gls_phenoplier/gene_corrs/copd_only/by_chr/gene_corrs-chr21.pkl')"
      ]
     },
     "metadata": {},
     "output_type": "display_data"
    }
   ],
   "source": [
    "output_dir = OUTPUT_DIR_BASE / \"by_chr\"\n",
    "output_dir.mkdir(exist_ok=True, parents=True)\n",
    "output_file = output_dir / f\"gene_corrs-chr{CHROMOSOME}.pkl\"\n",
    "display(output_file)"
   ]
  },
  {
   "cell_type": "code",
   "execution_count": 23,
   "id": "aa674fe4-6794-4eed-98fa-32b39d1d4ace",
   "metadata": {
    "execution": {
     "iopub.execute_input": "2022-11-30T00:36:18.018458Z",
     "iopub.status.busy": "2022-11-30T00:36:18.018198Z",
     "iopub.status.idle": "2022-11-30T00:36:18.037806Z",
     "shell.execute_reply": "2022-11-30T00:36:18.037185Z"
    },
    "papermill": {
     "duration": 0.041392,
     "end_time": "2022-11-30T00:36:18.039074",
     "exception": false,
     "start_time": "2022-11-30T00:36:17.997682",
     "status": "completed"
    },
    "tags": []
   },
   "outputs": [],
   "source": [
    "warnings.filterwarnings(\"error\")"
   ]
  },
  {
   "cell_type": "code",
   "execution_count": 24,
   "id": "44d5450b-3baf-43f1-9e2e-4b06f1a785f8",
   "metadata": {
    "execution": {
     "iopub.execute_input": "2022-11-30T00:36:18.057243Z",
     "iopub.status.busy": "2022-11-30T00:36:18.056753Z",
     "iopub.status.idle": "2022-11-30T00:36:18.076994Z",
     "shell.execute_reply": "2022-11-30T00:36:18.076351Z"
    },
    "papermill": {
     "duration": 0.030347,
     "end_time": "2022-11-30T00:36:18.078273",
     "exception": false,
     "start_time": "2022-11-30T00:36:18.047926",
     "status": "completed"
    },
    "tags": []
   },
   "outputs": [],
   "source": [
    "# standard checks\n",
    "all_chrs = genes_info[\"chr\"].dropna().unique()\n",
    "assert all_chrs.shape[0] == 22\n",
    "\n",
    "# select chromosome given by the user\n",
    "assert CHROMOSOME in all_chrs"
   ]
  },
  {
   "cell_type": "code",
   "execution_count": 25,
   "id": "2d7c043c-92a7-4d35-991b-fa69ac1e0268",
   "metadata": {
    "execution": {
     "iopub.execute_input": "2022-11-30T00:36:18.096493Z",
     "iopub.status.busy": "2022-11-30T00:36:18.096219Z",
     "iopub.status.idle": "2022-11-30T00:36:18.117696Z",
     "shell.execute_reply": "2022-11-30T00:36:18.117067Z"
    },
    "papermill": {
     "duration": 0.031581,
     "end_time": "2022-11-30T00:36:18.118900",
     "exception": false,
     "start_time": "2022-11-30T00:36:18.087319",
     "status": "completed"
    },
    "tags": []
   },
   "outputs": [
    {
     "name": "stdout",
     "output_type": "stream",
     "text": [
      "Number of genes in chromosome: 62\n"
     ]
    }
   ],
   "source": [
    "# run only on the chromosome specified\n",
    "all_chrs = [CHROMOSOME]\n",
    "genes_chr = genes_info[genes_info[\"chr\"] == CHROMOSOME]\n",
    "\n",
    "# For testing purposes\n",
    "# genes_chr = genes_chr.sample(n=20)\n",
    "\n",
    "print(f\"Number of genes in chromosome: {genes_chr.shape[0]}\", flush=True)"
   ]
  },
  {
   "cell_type": "code",
   "execution_count": 26,
   "id": "916015d8-2979-46d3-a9b9-1cf5a0932c6a",
   "metadata": {
    "execution": {
     "iopub.execute_input": "2022-11-30T00:36:18.136635Z",
     "iopub.status.busy": "2022-11-30T00:36:18.136271Z",
     "iopub.status.idle": "2022-11-30T00:36:18.156243Z",
     "shell.execute_reply": "2022-11-30T00:36:18.155606Z"
    },
    "papermill": {
     "duration": 0.030186,
     "end_time": "2022-11-30T00:36:18.157524",
     "exception": false,
     "start_time": "2022-11-30T00:36:18.127338",
     "status": "completed"
    },
    "tags": []
   },
   "outputs": [],
   "source": [
    "# sort genes by starting position to make visualizations better later\n",
    "genes_chr = genes_chr.sort_values(\"start_position\")"
   ]
  },
  {
   "cell_type": "code",
   "execution_count": 27,
   "id": "a38aa74a-8ad3-47f6-8ef9-56be0e011774",
   "metadata": {
    "execution": {
     "iopub.execute_input": "2022-11-30T00:36:18.175938Z",
     "iopub.status.busy": "2022-11-30T00:36:18.175623Z",
     "iopub.status.idle": "2022-11-30T00:36:18.196160Z",
     "shell.execute_reply": "2022-11-30T00:36:18.195515Z"
    },
    "papermill": {
     "duration": 0.030962,
     "end_time": "2022-11-30T00:36:18.197390",
     "exception": false,
     "start_time": "2022-11-30T00:36:18.166428",
     "status": "completed"
    },
    "tags": []
   },
   "outputs": [],
   "source": [
    "gene_chr_objs = [Gene(ensembl_id=gene_id) for gene_id in genes_chr[\"id\"]]"
   ]
  },
  {
   "cell_type": "code",
   "execution_count": 28,
   "id": "570f974f-13c3-42b6-ad3a-ce99ca885c1a",
   "metadata": {
    "execution": {
     "iopub.execute_input": "2022-11-30T00:36:18.222355Z",
     "iopub.status.busy": "2022-11-30T00:36:18.221870Z",
     "iopub.status.idle": "2022-11-30T00:36:18.245013Z",
     "shell.execute_reply": "2022-11-30T00:36:18.244453Z"
    },
    "papermill": {
     "duration": 0.038109,
     "end_time": "2022-11-30T00:36:18.246434",
     "exception": false,
     "start_time": "2022-11-30T00:36:18.208325",
     "status": "completed"
    },
    "tags": []
   },
   "outputs": [
    {
     "name": "stdout",
     "output_type": "stream",
     "text": [
      "Number of gene combinations: 1953\n"
     ]
    }
   ],
   "source": [
    "n = len(gene_chr_objs)\n",
    "# diagonal elements + upper triangular matrix\n",
    "n_comb = n + int(n * (n - 1) / 2.0)\n",
    "print(f\"Number of gene combinations: {n_comb}\", flush=True)"
   ]
  },
  {
   "cell_type": "code",
   "execution_count": 29,
   "id": "cdbb90a1",
   "metadata": {
    "execution": {
     "iopub.execute_input": "2022-11-30T00:36:18.273377Z",
     "iopub.status.busy": "2022-11-30T00:36:18.273167Z",
     "iopub.status.idle": "2022-11-30T00:37:52.518228Z",
     "shell.execute_reply": "2022-11-30T00:37:52.517663Z"
    },
    "papermill": {
     "duration": 94.261027,
     "end_time": "2022-11-30T00:37:52.519814",
     "exception": false,
     "start_time": "2022-11-30T00:36:18.258787",
     "status": "completed"
    },
    "tags": []
   },
   "outputs": [
    {
     "name": "stderr",
     "output_type": "stream",
     "text": [
      "ENSG00000160307 / ENSG00000160307: 100%|████████████████████████| 1953/1953 [01:34<00:00, 20.73it/s]\n"
     ]
    },
    {
     "data": {
      "text/plain": [
       "PosixPath('/opt/data/projects/asthma-copd/results/gls_phenoplier/gene_corrs/copd_only/by_chr/gene_corrs-chr21.pkl')"
      ]
     },
     "metadata": {},
     "output_type": "display_data"
    }
   ],
   "source": [
    "gene_corrs = []\n",
    "gene_corrs_data = np.full(\n",
    "    (n, n),\n",
    "    np.nan,\n",
    "    dtype=np.float64,\n",
    ")\n",
    "\n",
    "i = 0\n",
    "with tqdm(ncols=100, total=n_comb) as pbar:\n",
    "    for gene1_idx in range(0, len(gene_chr_objs)):\n",
    "        gene1_obj = gene_chr_objs[gene1_idx]\n",
    "        gene1_tissues = spredixcan_genes_models.loc[gene1_obj.ensembl_id, \"tissue\"]\n",
    "\n",
    "        for gene2_idx in range(gene1_idx, len(gene_chr_objs)):\n",
    "            gene2_obj = gene_chr_objs[gene2_idx]\n",
    "            gene2_tissues = spredixcan_genes_models.loc[gene2_obj.ensembl_id, \"tissue\"]\n",
    "\n",
    "            pbar.set_description(f\"{gene1_obj.ensembl_id} / {gene2_obj.ensembl_id}\")\n",
    "\n",
    "            try:\n",
    "                r = gene1_obj.get_ssm_correlation(\n",
    "                    other_gene=gene2_obj,\n",
    "                    tissues=gene1_tissues,\n",
    "                    other_tissues=gene2_tissues,\n",
    "                    snps_subset=gwas_variants_ids_set,\n",
    "                    condition_number=SMULTIXCAN_CONDITION_NUMBER,\n",
    "                    reference_panel=REFERENCE_PANEL,\n",
    "                    model_type=EQTL_MODEL,\n",
    "                    use_within_distance=COMPUTE_CORRELATIONS_WITHIN_DISTANCE,\n",
    "                )\n",
    "\n",
    "                if r is None:\n",
    "                    # if r is None, it's very likely because:\n",
    "                    #  * one of the genes has no prediction models\n",
    "                    #  * all the SNPs predictors for the gene are not present in the reference\n",
    "                    #    panel\n",
    "\n",
    "                    r = 0.0\n",
    "\n",
    "                gene_corrs.append(r)\n",
    "\n",
    "                gene_corrs_data[gene1_idx, gene2_idx] = r\n",
    "                gene_corrs_data[gene2_idx, gene1_idx] = r\n",
    "            except Warning as e:\n",
    "                if not DEBUG_MODE:\n",
    "                    raise e\n",
    "\n",
    "                print(\n",
    "                    f\"RuntimeWarning for genes {gene1_obj.ensembl_id} and {gene2_obj.ensembl_id}\",\n",
    "                    flush=True,\n",
    "                )\n",
    "                print(traceback.format_exc(), flush=True)\n",
    "\n",
    "                gene_corrs.append(np.nan)\n",
    "            except Exception as e:\n",
    "                if not DEBUG_MODE:\n",
    "                    raise e\n",
    "\n",
    "                print(\n",
    "                    f\"Exception for genes {gene1_obj.ensembl_id} and {gene2_obj.ensembl_id}\",\n",
    "                    flush=True,\n",
    "                )\n",
    "                print(traceback.format_exc(), flush=True)\n",
    "\n",
    "                gene_corrs.append(np.nan)\n",
    "\n",
    "            pbar.update(1)\n",
    "\n",
    "# create a pandas series\n",
    "gene_corrs_flat = pd.Series(gene_corrs)\n",
    "\n",
    "# save\n",
    "# FIXME: consider saving only the condenced matrix here. See here for\n",
    "# more details: https://github.com/greenelab/phenoplier/pull/38#discussion_r634600813\n",
    "# gene_corrs_data = squareform(np.array(gene_corrs, dtype=np.float64))\n",
    "# np.fill_diagonal(gene_corrs_data, 1.0)\n",
    "\n",
    "gene_chr_ids = [g.ensembl_id for g in gene_chr_objs]\n",
    "gene_corrs_df = pd.DataFrame(\n",
    "    data=gene_corrs_data,\n",
    "    index=gene_chr_ids,\n",
    "    columns=gene_chr_ids,\n",
    ")\n",
    "\n",
    "output_dir.mkdir(exist_ok=True, parents=True)\n",
    "display(output_file)\n",
    "\n",
    "gene_corrs_df.to_pickle(output_file)"
   ]
  },
  {
   "cell_type": "markdown",
   "id": "faa67b51-5373-470f-aa72-2ded53fa6dfe",
   "metadata": {
    "papermill": {
     "duration": 0.082693,
     "end_time": "2022-11-30T00:37:52.724560",
     "exception": false,
     "start_time": "2022-11-30T00:37:52.641867",
     "status": "completed"
    },
    "tags": []
   },
   "source": [
    "# Testing"
   ]
  },
  {
   "cell_type": "code",
   "execution_count": 30,
   "id": "14f7d046-4b55-4896-a56b-990127bcc388",
   "metadata": {
    "execution": {
     "iopub.execute_input": "2022-11-30T00:37:52.895743Z",
     "iopub.status.busy": "2022-11-30T00:37:52.895249Z",
     "iopub.status.idle": "2022-11-30T00:37:52.914056Z",
     "shell.execute_reply": "2022-11-30T00:37:52.913516Z"
    },
    "papermill": {
     "duration": 0.105737,
     "end_time": "2022-11-30T00:37:52.914964",
     "exception": false,
     "start_time": "2022-11-30T00:37:52.809227",
     "status": "completed"
    },
    "tags": []
   },
   "outputs": [
    {
     "data": {
      "text/plain": [
       "(62, 62)"
      ]
     },
     "execution_count": 30,
     "metadata": {},
     "output_type": "execute_result"
    }
   ],
   "source": [
    "gene_corrs_df.shape"
   ]
  },
  {
   "cell_type": "code",
   "execution_count": 31,
   "id": "c7d15414-3297-4537-a7c6-7588c0baeb75",
   "metadata": {
    "execution": {
     "iopub.execute_input": "2022-11-30T00:37:53.098763Z",
     "iopub.status.busy": "2022-11-30T00:37:53.098477Z",
     "iopub.status.idle": "2022-11-30T00:37:53.122659Z",
     "shell.execute_reply": "2022-11-30T00:37:53.122214Z"
    },
    "papermill": {
     "duration": 0.107348,
     "end_time": "2022-11-30T00:37:53.123463",
     "exception": false,
     "start_time": "2022-11-30T00:37:53.016115",
     "status": "completed"
    },
    "tags": []
   },
   "outputs": [
    {
     "data": {
      "text/html": [
       "<div>\n",
       "<style scoped>\n",
       "    .dataframe tbody tr th:only-of-type {\n",
       "        vertical-align: middle;\n",
       "    }\n",
       "\n",
       "    .dataframe tbody tr th {\n",
       "        vertical-align: top;\n",
       "    }\n",
       "\n",
       "    .dataframe thead th {\n",
       "        text-align: right;\n",
       "    }\n",
       "</style>\n",
       "<table border=\"1\" class=\"dataframe\">\n",
       "  <thead>\n",
       "    <tr style=\"text-align: right;\">\n",
       "      <th></th>\n",
       "      <th>ENSG00000155307</th>\n",
       "      <th>ENSG00000180530</th>\n",
       "      <th>ENSG00000154719</th>\n",
       "      <th>ENSG00000154721</th>\n",
       "      <th>ENSG00000154723</th>\n",
       "      <th>ENSG00000142192</th>\n",
       "      <th>ENSG00000154734</th>\n",
       "      <th>ENSG00000156261</th>\n",
       "      <th>ENSG00000171189</th>\n",
       "      <th>ENSG00000156299</th>\n",
       "      <th>...</th>\n",
       "      <th>ENSG00000160255</th>\n",
       "      <th>ENSG00000197381</th>\n",
       "      <th>ENSG00000182871</th>\n",
       "      <th>ENSG00000173638</th>\n",
       "      <th>ENSG00000142156</th>\n",
       "      <th>ENSG00000142173</th>\n",
       "      <th>ENSG00000160282</th>\n",
       "      <th>ENSG00000160285</th>\n",
       "      <th>ENSG00000160299</th>\n",
       "      <th>ENSG00000160307</th>\n",
       "    </tr>\n",
       "  </thead>\n",
       "  <tbody>\n",
       "    <tr>\n",
       "      <th>ENSG00000155307</th>\n",
       "      <td>1.000000</td>\n",
       "      <td>0.005178</td>\n",
       "      <td>0.004880</td>\n",
       "      <td>0.003141</td>\n",
       "      <td>0.005415</td>\n",
       "      <td>0.005411</td>\n",
       "      <td>0.002136</td>\n",
       "      <td>0.002872</td>\n",
       "      <td>0.006022</td>\n",
       "      <td>0.005140</td>\n",
       "      <td>...</td>\n",
       "      <td>0.013646</td>\n",
       "      <td>0.009796</td>\n",
       "      <td>0.008948</td>\n",
       "      <td>0.012405</td>\n",
       "      <td>0.009493</td>\n",
       "      <td>0.009552</td>\n",
       "      <td>0.008333</td>\n",
       "      <td>0.007346</td>\n",
       "      <td>0.008688</td>\n",
       "      <td>0.008517</td>\n",
       "    </tr>\n",
       "    <tr>\n",
       "      <th>ENSG00000180530</th>\n",
       "      <td>0.005178</td>\n",
       "      <td>1.000000</td>\n",
       "      <td>0.004544</td>\n",
       "      <td>0.006682</td>\n",
       "      <td>0.008033</td>\n",
       "      <td>0.006853</td>\n",
       "      <td>0.004473</td>\n",
       "      <td>0.002112</td>\n",
       "      <td>0.004616</td>\n",
       "      <td>0.009805</td>\n",
       "      <td>...</td>\n",
       "      <td>0.008660</td>\n",
       "      <td>0.011084</td>\n",
       "      <td>0.013611</td>\n",
       "      <td>0.014953</td>\n",
       "      <td>0.012049</td>\n",
       "      <td>0.010289</td>\n",
       "      <td>0.005725</td>\n",
       "      <td>0.008091</td>\n",
       "      <td>0.006533</td>\n",
       "      <td>0.008145</td>\n",
       "    </tr>\n",
       "    <tr>\n",
       "      <th>ENSG00000154719</th>\n",
       "      <td>0.004880</td>\n",
       "      <td>0.004544</td>\n",
       "      <td>1.000000</td>\n",
       "      <td>0.423625</td>\n",
       "      <td>0.151819</td>\n",
       "      <td>0.013017</td>\n",
       "      <td>0.005278</td>\n",
       "      <td>0.003509</td>\n",
       "      <td>0.000581</td>\n",
       "      <td>0.012442</td>\n",
       "      <td>...</td>\n",
       "      <td>0.006062</td>\n",
       "      <td>0.011233</td>\n",
       "      <td>0.009508</td>\n",
       "      <td>0.011899</td>\n",
       "      <td>0.008213</td>\n",
       "      <td>0.012071</td>\n",
       "      <td>0.004721</td>\n",
       "      <td>0.007105</td>\n",
       "      <td>0.006077</td>\n",
       "      <td>0.006459</td>\n",
       "    </tr>\n",
       "    <tr>\n",
       "      <th>ENSG00000154721</th>\n",
       "      <td>0.003141</td>\n",
       "      <td>0.006682</td>\n",
       "      <td>0.423625</td>\n",
       "      <td>1.000000</td>\n",
       "      <td>0.347390</td>\n",
       "      <td>0.012174</td>\n",
       "      <td>0.003218</td>\n",
       "      <td>0.003180</td>\n",
       "      <td>0.001469</td>\n",
       "      <td>0.008599</td>\n",
       "      <td>...</td>\n",
       "      <td>0.008081</td>\n",
       "      <td>0.007519</td>\n",
       "      <td>0.008902</td>\n",
       "      <td>0.009511</td>\n",
       "      <td>0.011769</td>\n",
       "      <td>0.013917</td>\n",
       "      <td>0.004636</td>\n",
       "      <td>0.004128</td>\n",
       "      <td>0.006521</td>\n",
       "      <td>0.006946</td>\n",
       "    </tr>\n",
       "    <tr>\n",
       "      <th>ENSG00000154723</th>\n",
       "      <td>0.005415</td>\n",
       "      <td>0.008033</td>\n",
       "      <td>0.151819</td>\n",
       "      <td>0.347390</td>\n",
       "      <td>1.000000</td>\n",
       "      <td>0.028019</td>\n",
       "      <td>0.006083</td>\n",
       "      <td>0.002333</td>\n",
       "      <td>0.002249</td>\n",
       "      <td>0.012492</td>\n",
       "      <td>...</td>\n",
       "      <td>0.010031</td>\n",
       "      <td>0.011980</td>\n",
       "      <td>0.010866</td>\n",
       "      <td>0.010536</td>\n",
       "      <td>0.011250</td>\n",
       "      <td>0.010151</td>\n",
       "      <td>0.006920</td>\n",
       "      <td>0.004676</td>\n",
       "      <td>0.009942</td>\n",
       "      <td>0.004872</td>\n",
       "    </tr>\n",
       "  </tbody>\n",
       "</table>\n",
       "<p>5 rows × 62 columns</p>\n",
       "</div>"
      ],
      "text/plain": [
       "                 ENSG00000155307  ENSG00000180530  ENSG00000154719  \\\n",
       "ENSG00000155307         1.000000         0.005178         0.004880   \n",
       "ENSG00000180530         0.005178         1.000000         0.004544   \n",
       "ENSG00000154719         0.004880         0.004544         1.000000   \n",
       "ENSG00000154721         0.003141         0.006682         0.423625   \n",
       "ENSG00000154723         0.005415         0.008033         0.151819   \n",
       "\n",
       "                 ENSG00000154721  ENSG00000154723  ENSG00000142192  \\\n",
       "ENSG00000155307         0.003141         0.005415         0.005411   \n",
       "ENSG00000180530         0.006682         0.008033         0.006853   \n",
       "ENSG00000154719         0.423625         0.151819         0.013017   \n",
       "ENSG00000154721         1.000000         0.347390         0.012174   \n",
       "ENSG00000154723         0.347390         1.000000         0.028019   \n",
       "\n",
       "                 ENSG00000154734  ENSG00000156261  ENSG00000171189  \\\n",
       "ENSG00000155307         0.002136         0.002872         0.006022   \n",
       "ENSG00000180530         0.004473         0.002112         0.004616   \n",
       "ENSG00000154719         0.005278         0.003509         0.000581   \n",
       "ENSG00000154721         0.003218         0.003180         0.001469   \n",
       "ENSG00000154723         0.006083         0.002333         0.002249   \n",
       "\n",
       "                 ENSG00000156299  ...  ENSG00000160255  ENSG00000197381  \\\n",
       "ENSG00000155307         0.005140  ...         0.013646         0.009796   \n",
       "ENSG00000180530         0.009805  ...         0.008660         0.011084   \n",
       "ENSG00000154719         0.012442  ...         0.006062         0.011233   \n",
       "ENSG00000154721         0.008599  ...         0.008081         0.007519   \n",
       "ENSG00000154723         0.012492  ...         0.010031         0.011980   \n",
       "\n",
       "                 ENSG00000182871  ENSG00000173638  ENSG00000142156  \\\n",
       "ENSG00000155307         0.008948         0.012405         0.009493   \n",
       "ENSG00000180530         0.013611         0.014953         0.012049   \n",
       "ENSG00000154719         0.009508         0.011899         0.008213   \n",
       "ENSG00000154721         0.008902         0.009511         0.011769   \n",
       "ENSG00000154723         0.010866         0.010536         0.011250   \n",
       "\n",
       "                 ENSG00000142173  ENSG00000160282  ENSG00000160285  \\\n",
       "ENSG00000155307         0.009552         0.008333         0.007346   \n",
       "ENSG00000180530         0.010289         0.005725         0.008091   \n",
       "ENSG00000154719         0.012071         0.004721         0.007105   \n",
       "ENSG00000154721         0.013917         0.004636         0.004128   \n",
       "ENSG00000154723         0.010151         0.006920         0.004676   \n",
       "\n",
       "                 ENSG00000160299  ENSG00000160307  \n",
       "ENSG00000155307         0.008688         0.008517  \n",
       "ENSG00000180530         0.006533         0.008145  \n",
       "ENSG00000154719         0.006077         0.006459  \n",
       "ENSG00000154721         0.006521         0.006946  \n",
       "ENSG00000154723         0.009942         0.004872  \n",
       "\n",
       "[5 rows x 62 columns]"
      ]
     },
     "execution_count": 31,
     "metadata": {},
     "output_type": "execute_result"
    }
   ],
   "source": [
    "gene_corrs_df.head()"
   ]
  },
  {
   "cell_type": "markdown",
   "id": "dad6603f-01c6-41fb-a6f6-241051207dd8",
   "metadata": {
    "papermill": {
     "duration": 0.077468,
     "end_time": "2022-11-30T00:37:53.276447",
     "exception": false,
     "start_time": "2022-11-30T00:37:53.198979",
     "status": "completed"
    },
    "tags": []
   },
   "source": [
    "## Standard checks and stats"
   ]
  },
  {
   "cell_type": "code",
   "execution_count": 32,
   "id": "286686af-1b7b-4440-8453-6bdcbd8de19c",
   "metadata": {
    "execution": {
     "iopub.execute_input": "2022-11-30T00:37:53.428781Z",
     "iopub.status.busy": "2022-11-30T00:37:53.428496Z",
     "iopub.status.idle": "2022-11-30T00:37:53.442427Z",
     "shell.execute_reply": "2022-11-30T00:37:53.442029Z"
    },
    "papermill": {
     "duration": 0.090686,
     "end_time": "2022-11-30T00:37:53.443395",
     "exception": false,
     "start_time": "2022-11-30T00:37:53.352709",
     "status": "completed"
    },
    "tags": []
   },
   "outputs": [],
   "source": [
    "assert not gene_corrs_df.isna().any().any()"
   ]
  },
  {
   "cell_type": "code",
   "execution_count": 33,
   "id": "00583efc-7068-4270-ad1e-4a418e91db96",
   "metadata": {
    "execution": {
     "iopub.execute_input": "2022-11-30T00:37:53.596336Z",
     "iopub.status.busy": "2022-11-30T00:37:53.596060Z",
     "iopub.status.idle": "2022-11-30T00:37:53.610810Z",
     "shell.execute_reply": "2022-11-30T00:37:53.610419Z"
    },
    "papermill": {
     "duration": 0.092136,
     "end_time": "2022-11-30T00:37:53.611701",
     "exception": false,
     "start_time": "2022-11-30T00:37:53.519565",
     "status": "completed"
    },
    "tags": []
   },
   "outputs": [
    {
     "data": {
      "text/plain": [
       "0.0005813800282471682"
      ]
     },
     "metadata": {},
     "output_type": "display_data"
    }
   ],
   "source": [
    "_min_val = gene_corrs_df.min().min()\n",
    "display(_min_val)\n",
    "assert _min_val >= -0.05"
   ]
  },
  {
   "cell_type": "code",
   "execution_count": 34,
   "id": "d04fb2cf-1050-475b-b855-f5f7cc04092b",
   "metadata": {
    "execution": {
     "iopub.execute_input": "2022-11-30T00:37:53.765022Z",
     "iopub.status.busy": "2022-11-30T00:37:53.764742Z",
     "iopub.status.idle": "2022-11-30T00:37:53.784428Z",
     "shell.execute_reply": "2022-11-30T00:37:53.783794Z"
    },
    "papermill": {
     "duration": 0.097126,
     "end_time": "2022-11-30T00:37:53.785408",
     "exception": false,
     "start_time": "2022-11-30T00:37:53.688282",
     "status": "completed"
    },
    "tags": []
   },
   "outputs": [
    {
     "data": {
      "text/plain": [
       "1.0000000000000024"
      ]
     },
     "metadata": {},
     "output_type": "display_data"
    }
   ],
   "source": [
    "_max_val = gene_corrs_df.max().max()  # this captures the diagonal\n",
    "display(_max_val)\n",
    "assert _max_val <= 1.05"
   ]
  },
  {
   "cell_type": "code",
   "execution_count": 35,
   "id": "96d02c44-1fba-47be-8a93-8f2608420b9c",
   "metadata": {
    "execution": {
     "iopub.execute_input": "2022-11-30T00:37:53.940179Z",
     "iopub.status.busy": "2022-11-30T00:37:53.939843Z",
     "iopub.status.idle": "2022-11-30T00:37:53.961218Z",
     "shell.execute_reply": "2022-11-30T00:37:53.960606Z"
    },
    "papermill": {
     "duration": 0.099599,
     "end_time": "2022-11-30T00:37:53.962145",
     "exception": false,
     "start_time": "2022-11-30T00:37:53.862546",
     "status": "completed"
    },
    "tags": []
   },
   "outputs": [],
   "source": [
    "# check upper triangular values\n",
    "# assert len(gene_corrs) == int(genes_chr.shape[0] * (genes_chr.shape[0] - 1) / 2)"
   ]
  },
  {
   "cell_type": "code",
   "execution_count": 36,
   "id": "fe283586-c348-40e0-8841-f6d97bfb021c",
   "metadata": {
    "execution": {
     "iopub.execute_input": "2022-11-30T00:37:54.139524Z",
     "iopub.status.busy": "2022-11-30T00:37:54.139013Z",
     "iopub.status.idle": "2022-11-30T00:37:54.164824Z",
     "shell.execute_reply": "2022-11-30T00:37:54.164159Z"
    },
    "papermill": {
     "duration": 0.104099,
     "end_time": "2022-11-30T00:37:54.166387",
     "exception": false,
     "start_time": "2022-11-30T00:37:54.062288",
     "status": "completed"
    },
    "tags": []
   },
   "outputs": [
    {
     "data": {
      "text/plain": [
       "count    1953.000000\n",
       "mean        0.044814\n",
       "std         0.176992\n",
       "min         0.000581\n",
       "25%         0.005758\n",
       "50%         0.007953\n",
       "75%         0.010789\n",
       "max         1.000000\n",
       "dtype: float64"
      ]
     },
     "execution_count": 36,
     "metadata": {},
     "output_type": "execute_result"
    }
   ],
   "source": [
    "gene_corrs_flat.describe()"
   ]
  },
  {
   "cell_type": "code",
   "execution_count": 37,
   "id": "b3815678-0f93-4b35-897b-a9d047a2aa78",
   "metadata": {
    "execution": {
     "iopub.execute_input": "2022-11-30T00:37:54.322048Z",
     "iopub.status.busy": "2022-11-30T00:37:54.321717Z",
     "iopub.status.idle": "2022-11-30T00:37:54.347238Z",
     "shell.execute_reply": "2022-11-30T00:37:54.346641Z"
    },
    "papermill": {
     "duration": 0.103388,
     "end_time": "2022-11-30T00:37:54.348168",
     "exception": false,
     "start_time": "2022-11-30T00:37:54.244780",
     "status": "completed"
    },
    "tags": []
   },
   "outputs": [
    {
     "data": {
      "text/plain": [
       "0.00    0.000581\n",
       "0.05    0.003187\n",
       "0.10    0.003997\n",
       "0.15    0.004688\n",
       "0.20    0.005174\n",
       "0.25    0.005758\n",
       "0.30    0.006202\n",
       "0.35    0.006627\n",
       "0.40    0.007061\n",
       "0.45    0.007510\n",
       "0.50    0.007953\n",
       "0.55    0.008352\n",
       "0.60    0.008753\n",
       "0.65    0.009253\n",
       "0.70    0.009920\n",
       "0.75    0.010789\n",
       "0.80    0.011683\n",
       "0.85    0.012970\n",
       "0.90    0.015382\n",
       "0.95    0.106134\n",
       "dtype: float64"
      ]
     },
     "metadata": {},
     "output_type": "display_data"
    }
   ],
   "source": [
    "gene_corrs_quantiles = gene_corrs_flat.quantile(np.arange(0, 1, 0.05))\n",
    "display(gene_corrs_quantiles)"
   ]
  },
  {
   "cell_type": "markdown",
   "id": "87134509-b145-4a10-8bc9-b7e914c2b0fa",
   "metadata": {
    "papermill": {
     "duration": 0.076041,
     "end_time": "2022-11-30T00:37:54.499089",
     "exception": false,
     "start_time": "2022-11-30T00:37:54.423048",
     "status": "completed"
    },
    "tags": []
   },
   "source": [
    "## Positive definiteness"
   ]
  },
  {
   "cell_type": "code",
   "execution_count": 38,
   "id": "07d9a9a1-a4f7-48aa-b916-6d42a8cc6186",
   "metadata": {
    "execution": {
     "iopub.execute_input": "2022-11-30T00:37:54.654006Z",
     "iopub.status.busy": "2022-11-30T00:37:54.653646Z",
     "iopub.status.idle": "2022-11-30T00:37:54.679049Z",
     "shell.execute_reply": "2022-11-30T00:37:54.678463Z"
    },
    "papermill": {
     "duration": 0.104056,
     "end_time": "2022-11-30T00:37:54.679979",
     "exception": false,
     "start_time": "2022-11-30T00:37:54.575923",
     "status": "completed"
    },
    "tags": []
   },
   "outputs": [
    {
     "data": {
      "text/plain": [
       "0"
      ]
     },
     "metadata": {},
     "output_type": "display_data"
    },
    {
     "data": {
      "text/plain": [
       "array([], dtype=float64)"
      ]
     },
     "metadata": {},
     "output_type": "display_data"
    }
   ],
   "source": [
    "# print negative eigenvalues\n",
    "eigs = np.linalg.eigvals(gene_corrs_df.to_numpy())\n",
    "display(len(eigs[eigs < 0]))\n",
    "display(eigs[eigs < 0])"
   ]
  },
  {
   "cell_type": "code",
   "execution_count": 39,
   "id": "6e218436-c3c5-4028-8c94-a4fa6260efce",
   "metadata": {
    "execution": {
     "iopub.execute_input": "2022-11-30T00:37:54.833305Z",
     "iopub.status.busy": "2022-11-30T00:37:54.833071Z",
     "iopub.status.idle": "2022-11-30T00:37:54.856068Z",
     "shell.execute_reply": "2022-11-30T00:37:54.855446Z"
    },
    "papermill": {
     "duration": 0.100347,
     "end_time": "2022-11-30T00:37:54.857001",
     "exception": false,
     "start_time": "2022-11-30T00:37:54.756654",
     "status": "completed"
    },
    "tags": []
   },
   "outputs": [
    {
     "name": "stdout",
     "output_type": "stream",
     "text": [
      "Works!\n"
     ]
    }
   ],
   "source": [
    "try:\n",
    "    chol_mat = np.linalg.cholesky(gene_corrs_df.to_numpy())\n",
    "    cov_inv = np.linalg.inv(chol_mat)\n",
    "    print(\"Works!\")\n",
    "except Exception as e:\n",
    "    print(f\"Cholesky decomposition failed: {str(e)}\")"
   ]
  },
  {
   "cell_type": "code",
   "execution_count": 40,
   "id": "dd8827fb-faf9-4c7c-9454-015e94752706",
   "metadata": {
    "execution": {
     "iopub.execute_input": "2022-11-30T00:37:55.034016Z",
     "iopub.status.busy": "2022-11-30T00:37:55.033681Z",
     "iopub.status.idle": "2022-11-30T00:37:55.056545Z",
     "shell.execute_reply": "2022-11-30T00:37:55.055915Z"
    },
    "papermill": {
     "duration": 0.100193,
     "end_time": "2022-11-30T00:37:55.057477",
     "exception": false,
     "start_time": "2022-11-30T00:37:54.957284",
     "status": "completed"
    },
    "tags": []
   },
   "outputs": [
    {
     "name": "stdout",
     "output_type": "stream",
     "text": [
      "Works!\n"
     ]
    }
   ],
   "source": [
    "try:\n",
    "    # decomposition used by statsmodels.GLS\n",
    "    cholsigmainv = np.linalg.cholesky(np.linalg.inv(gene_corrs_df.to_numpy())).T\n",
    "    print(\"Works!\")\n",
    "except Exception as e:\n",
    "    print(f\"Cholesky decomposition failed (statsmodels.GLS): {str(e)}\")"
   ]
  },
  {
   "cell_type": "markdown",
   "id": "8e60a080-edb2-4e9c-b2ef-22961693200c",
   "metadata": {
    "papermill": {
     "duration": 0.075605,
     "end_time": "2022-11-30T00:37:55.208055",
     "exception": false,
     "start_time": "2022-11-30T00:37:55.132450",
     "status": "completed"
    },
    "tags": []
   },
   "source": [
    "## Plot: distribution"
   ]
  },
  {
   "cell_type": "code",
   "execution_count": 41,
   "id": "8301126b-a7d4-4744-9c7d-f0f86eb6f54c",
   "metadata": {
    "execution": {
     "iopub.execute_input": "2022-11-30T00:37:55.360940Z",
     "iopub.status.busy": "2022-11-30T00:37:55.360595Z",
     "iopub.status.idle": "2022-11-30T00:37:56.903258Z",
     "shell.execute_reply": "2022-11-30T00:37:56.902745Z"
    },
    "papermill": {
     "duration": 1.620401,
     "end_time": "2022-11-30T00:37:56.904754",
     "exception": false,
     "start_time": "2022-11-30T00:37:55.284353",
     "status": "completed"
    },
    "tags": []
   },
   "outputs": [
    {
     "data": {
      "image/png": "[encoded data removed]",
      "text/plain": [
       "<Figure size 700x700 with 1 Axes>"
      ]
     },
     "metadata": {},
     "output_type": "display_data"
    }
   ],
   "source": [
    "with sns.plotting_context(\"paper\", font_scale=1.5):\n",
    "    g = sns.displot(gene_corrs_flat, kde=True, height=7)\n",
    "    g.ax.set_title(\n",
    "        f\"Distribution of gene correlation values in chromosome {CHROMOSOME}\"\n",
    "    )"
   ]
  },
  {
   "cell_type": "markdown",
   "id": "cbd52bca-d878-4a2f-b684-5c83aa3038d4",
   "metadata": {
    "papermill": {
     "duration": 0.077951,
     "end_time": "2022-11-30T00:37:57.104450",
     "exception": false,
     "start_time": "2022-11-30T00:37:57.026499",
     "status": "completed"
    },
    "tags": []
   },
   "source": [
    "## Plot: heatmap"
   ]
  },
  {
   "cell_type": "code",
   "execution_count": 42,
   "id": "d03fe63a-c7b2-4fb9-a53c-db362ce843c9",
   "metadata": {
    "execution": {
     "iopub.execute_input": "2022-11-30T00:37:57.258274Z",
     "iopub.status.busy": "2022-11-30T00:37:57.257981Z",
     "iopub.status.idle": "2022-11-30T00:37:57.272461Z",
     "shell.execute_reply": "2022-11-30T00:37:57.272035Z"
    },
    "papermill": {
     "duration": 0.092333,
     "end_time": "2022-11-30T00:37:57.273344",
     "exception": false,
     "start_time": "2022-11-30T00:37:57.181011",
     "status": "completed"
    },
    "tags": []
   },
   "outputs": [
    {
     "data": {
      "text/plain": [
       "'0.0 / 0.05'"
      ]
     },
     "metadata": {},
     "output_type": "display_data"
    }
   ],
   "source": [
    "vmin_val = min(0.00, gene_corrs_quantiles[0.10])\n",
    "vmax_val = max(0.05, gene_corrs_quantiles[0.90])\n",
    "display(f\"{vmin_val} / {vmax_val}\")"
   ]
  },
  {
   "cell_type": "code",
   "execution_count": 43,
   "id": "dc41b70b-5bcc-4d9e-9f33-a22c4a94dab5",
   "metadata": {
    "execution": {
     "iopub.execute_input": "2022-11-30T00:37:57.451814Z",
     "iopub.status.busy": "2022-11-30T00:37:57.451465Z",
     "iopub.status.idle": "2022-11-30T00:37:57.576107Z",
     "shell.execute_reply": "2022-11-30T00:37:57.575561Z"
    },
    "papermill": {
     "duration": 0.203995,
     "end_time": "2022-11-30T00:37:57.577602",
     "exception": false,
     "start_time": "2022-11-30T00:37:57.373607",
     "status": "completed"
    },
    "tags": []
   },
   "outputs": [
    {
     "data": {
      "text/plain": [
       "Text(0.5, 1.0, 'Gene correlations in chromosome 21')"
      ]
     },
     "execution_count": 43,
     "metadata": {},
     "output_type": "execute_result"
    },
    {
     "data": {
      "image/png": "[encoded data removed]",
      "text/plain": [
       "<Figure size 1000x1000 with 2 Axes>"
      ]
     },
     "metadata": {},
     "output_type": "display_data"
    }
   ],
   "source": [
    "f, ax = plt.subplots(figsize=(10, 10))\n",
    "sns.heatmap(\n",
    "    gene_corrs_df,\n",
    "    xticklabels=False,\n",
    "    yticklabels=False,\n",
    "    square=True,\n",
    "    vmin=vmin_val,\n",
    "    vmax=vmax_val,\n",
    "    cmap=\"rocket_r\",\n",
    "    ax=ax,\n",
    ")\n",
    "ax.set_title(f\"Gene correlations in chromosome {CHROMOSOME}\")"
   ]
  },
  {
   "cell_type": "code",
   "execution_count": null,
   "id": "b25e3ead",
   "metadata": {
    "papermill": {
     "duration": 0.080797,
     "end_time": "2022-11-30T00:37:57.780226",
     "exception": false,
     "start_time": "2022-11-30T00:37:57.699429",
     "status": "completed"
    },
    "tags": []
   },
   "outputs": [],
   "source": []
  }
 ],
 "metadata": {
  "jupytext": {
   "cell_metadata_filter": "all,-execution,-papermill,-trusted",
   "formats": "ipynb,py//py:percent"
  },
  "kernelspec": {
   "display_name": "Python 3 (ipykernel)",
   "language": "python",
   "name": "python3"
  },
  "language_info": {
   "codemirror_mode": {
    "name": "ipython",
    "version": 3
   },
   "file_extension": ".py",
   "mimetype": "text/x-python",
   "name": "python",
   "nbconvert_exporter": "python",
   "pygments_lexer": "ipython3",
   "version": "3.10.6"
  },
  "papermill": {
   "default_parameters": {},
   "duration": 108.337626,
   "end_time": "2022-11-30T00:38:00.668814",
   "environment_variables": {},
   "exception": null,
   "input_path": "projects/asthma-copd/nbs/20_gene_corrs/10-gene_expr_correlations.ipynb",
   "output_path": "projects/asthma-copd/nbs/20_gene_corrs/gene_corrs/copd_only/10-gene_expr_correlations-chr21.run.ipynb",
   "parameters": {
    "CHROMOSOME": 21,
    "COHORT_NAME": "copd_only",
    "OUTPUT_DIR_BASE": "/opt/data/projects/asthma-copd/results/gls_phenoplier"
   },
   "start_time": "2022-11-30T00:36:12.331188",
   "version": "2.2.2"
  }
 },
 "nbformat": 4,
 "nbformat_minor": 5
}
