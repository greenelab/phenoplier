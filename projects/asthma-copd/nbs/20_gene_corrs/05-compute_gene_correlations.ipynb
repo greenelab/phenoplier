{
 "cells": [
  {
   "cell_type": "markdown",
   "id": "c935aa7e-fde1-4d1c-b2d7-8c7ee611b1ed",
   "metadata": {
    "papermill": {
     "duration": 0.003013,
     "end_time": "2022-12-15T17:49:21.432310",
     "exception": false,
     "start_time": "2022-12-15T17:49:21.429297",
     "status": "completed"
    },
    "tags": []
   },
   "source": [
    "# Description"
   ]
  },
  {
   "cell_type": "markdown",
   "id": "f66770f7-0585-480b-8daa-1483bc37b494",
   "metadata": {
    "papermill": {
     "duration": 0.002419,
     "end_time": "2022-12-15T17:49:21.444210",
     "exception": false,
     "start_time": "2022-12-15T17:49:21.441791",
     "status": "completed"
    },
    "tags": []
   },
   "source": [
    "It computes gene-gene correlation for all traits in the project. For that, it runs another notebook (in the `jobs/` subfolder) for each chromosome/trait pair. Later, these submatrices will be combined to generate a single gene-gene correlation matrix."
   ]
  },
  {
   "cell_type": "markdown",
   "id": "d389dd7b-20d8-44ed-8053-6e2cd8efea2e",
   "metadata": {
    "papermill": {
     "duration": 0.002329,
     "end_time": "2022-12-15T17:49:21.448974",
     "exception": false,
     "start_time": "2022-12-15T17:49:21.446645",
     "status": "completed"
    },
    "tags": []
   },
   "source": [
    "# Modules"
   ]
  },
  {
   "cell_type": "code",
   "execution_count": 1,
   "id": "69797656-0db2-41d5-b4d6-63c24d47ad38",
   "metadata": {
    "execution": {
     "iopub.execute_input": "2022-12-15T17:49:21.454932Z",
     "iopub.status.busy": "2022-12-15T17:49:21.454667Z",
     "iopub.status.idle": "2022-12-15T17:49:21.462126Z",
     "shell.execute_reply": "2022-12-15T17:49:21.461491Z"
    },
    "papermill": {
     "duration": 0.012269,
     "end_time": "2022-12-15T17:49:21.463645",
     "exception": false,
     "start_time": "2022-12-15T17:49:21.451376",
     "status": "completed"
    },
    "tags": []
   },
   "outputs": [],
   "source": [
    "import os\n",
    "from pathlib import Path"
   ]
  },
  {
   "cell_type": "markdown",
   "id": "dd17aa24-a692-4f62-ac69-c270447c7729",
   "metadata": {
    "papermill": {
     "duration": 0.002361,
     "end_time": "2022-12-15T17:49:21.469339",
     "exception": false,
     "start_time": "2022-12-15T17:49:21.466978",
     "status": "completed"
    },
    "tags": []
   },
   "source": [
    "# Settings"
   ]
  },
  {
   "cell_type": "markdown",
   "id": "3829ee6c-68b6-445e-adce-aa7a6280a56c",
   "metadata": {
    "papermill": {
     "duration": 0.002333,
     "end_time": "2022-12-15T17:49:21.474075",
     "exception": false,
     "start_time": "2022-12-15T17:49:21.471742",
     "status": "completed"
    },
    "tags": []
   },
   "source": [
    "Apparently, there is no easy way to get the parent directory of\n",
    "a notebook in Jupyter, so here I get that information either from\n",
    "the parameter sent by `nbs/run_nbs.sh` (if called from command-line) or\n",
    "from `os.getcwd()` (if called from browser)."
   ]
  },
  {
   "cell_type": "code",
   "execution_count": 2,
   "id": "e8f8093f-7738-448a-b29d-e9059684fcd1",
   "metadata": {
    "execution": {
     "iopub.execute_input": "2022-12-15T17:49:21.480019Z",
     "iopub.status.busy": "2022-12-15T17:49:21.479550Z",
     "iopub.status.idle": "2022-12-15T17:49:21.482648Z",
     "shell.execute_reply": "2022-12-15T17:49:21.482096Z"
    },
    "papermill": {
     "duration": 0.007626,
     "end_time": "2022-12-15T17:49:21.484105",
     "exception": false,
     "start_time": "2022-12-15T17:49:21.476479",
     "status": "completed"
    },
    "tags": [
     "parameters"
    ]
   },
   "outputs": [],
   "source": [
    "PHENOPLIER_NOTEBOOK_FILEPATH = None\n",
    "PHENOPLIER_NOTEBOOK_DIR = os.getcwd()"
   ]
  },
  {
   "cell_type": "code",
   "execution_count": 3,
   "id": "d79cb7b7",
   "metadata": {
    "execution": {
     "iopub.execute_input": "2022-12-15T17:49:21.490176Z",
     "iopub.status.busy": "2022-12-15T17:49:21.489747Z",
     "iopub.status.idle": "2022-12-15T17:49:21.492656Z",
     "shell.execute_reply": "2022-12-15T17:49:21.492088Z"
    },
    "lines_to_next_cell": 2,
    "papermill": {
     "duration": 0.007464,
     "end_time": "2022-12-15T17:49:21.494016",
     "exception": false,
     "start_time": "2022-12-15T17:49:21.486552",
     "status": "completed"
    },
    "tags": [
     "injected-parameters"
    ]
   },
   "outputs": [],
   "source": [
    "# Parameters\n",
    "PHENOPLIER_NOTEBOOK_FILEPATH = (\n",
    "    \"projects/asthma-copd/nbs/20_gene_corrs/05-compute_gene_correlations.ipynb\"\n",
    ")"
   ]
  },
  {
   "cell_type": "code",
   "execution_count": 4,
   "id": "80437810-fd28-40ba-8dab-f60424764bfd",
   "metadata": {
    "execution": {
     "iopub.execute_input": "2022-12-15T17:49:21.499825Z",
     "iopub.status.busy": "2022-12-15T17:49:21.499629Z",
     "iopub.status.idle": "2022-12-15T17:49:21.509131Z",
     "shell.execute_reply": "2022-12-15T17:49:21.508572Z"
    },
    "papermill": {
     "duration": 0.01412,
     "end_time": "2022-12-15T17:49:21.510626",
     "exception": false,
     "start_time": "2022-12-15T17:49:21.496506",
     "status": "completed"
    },
    "tags": []
   },
   "outputs": [
    {
     "data": {
      "text/plain": [
       "'projects/asthma-copd/nbs/20_gene_corrs'"
      ]
     },
     "metadata": {},
     "output_type": "display_data"
    }
   ],
   "source": [
    "if PHENOPLIER_NOTEBOOK_FILEPATH is not None:\n",
    "    PHENOPLIER_NOTEBOOK_DIR = str(Path(PHENOPLIER_NOTEBOOK_FILEPATH).parent)\n",
    "\n",
    "display(PHENOPLIER_NOTEBOOK_DIR)"
   ]
  },
  {
   "cell_type": "markdown",
   "id": "3a558eec-2251-4be7-a754-1f98adde3aec",
   "metadata": {
    "papermill": {
     "duration": 0.002478,
     "end_time": "2022-12-15T17:49:21.515718",
     "exception": false,
     "start_time": "2022-12-15T17:49:21.513240",
     "status": "completed"
    },
    "tags": []
   },
   "source": [
    "# Run"
   ]
  },
  {
   "cell_type": "code",
   "execution_count": 5,
   "id": "0c0cd3d9-b032-4f03-82eb-0017a0ef1cca",
   "metadata": {
    "execution": {
     "iopub.execute_input": "2022-12-15T17:49:21.522148Z",
     "iopub.status.busy": "2022-12-15T17:49:21.521638Z",
     "iopub.status.idle": "2022-12-15T18:55:08.267029Z",
     "shell.execute_reply": "2022-12-15T18:55:08.266204Z"
    },
    "papermill": {
     "duration": 3946.760985,
     "end_time": "2022-12-15T18:55:08.279360",
     "exception": false,
     "start_time": "2022-12-15T17:49:21.518375",
     "status": "completed"
    },
    "tags": []
   },
   "outputs": [
    {
     "name": "stdout",
     "output_type": "stream",
     "text": [
      "Running for asthma_only and chromosome 1\n",
      "Running for asthma_only and chromosome 2\n",
      "Running for asthma_only and chromosome 3\n",
      "Running for asthma_only and chromosome 4\n",
      "Running for asthma_only and chromosome 5\n",
      "Running for asthma_only and chromosome 6\n",
      "Running for asthma_only and chromosome 7\n",
      "Running for asthma_only and chromosome 8\n",
      "Running for asthma_only and chromosome 9\n",
      "Running for asthma_only and chromosome 10\n",
      "Running for asthma_only and chromosome 11\n",
      "Running for asthma_only and chromosome 12\n",
      "Running for asthma_only and chromosome 13\n",
      "Running for asthma_only and chromosome 14\n",
      "Running for asthma_only and chromosome 15\n",
      "Running for asthma_only and chromosome 16\n",
      "Running for asthma_only and chromosome 17\n",
      "Running for asthma_only and chromosome 18\n",
      "Running for asthma_only and chromosome 19\n",
      "Running for asthma_only and chromosome 20\n",
      "Running for asthma_only and chromosome 21\n",
      "Running for asthma_only and chromosome 22\n",
      "Running for copd_only and chromosome 1\n",
      "Running for copd_only and chromosome 2\n",
      "Running for copd_only and chromosome 3\n",
      "Running for copd_only and chromosome 4\n",
      "Running for copd_only and chromosome 5\n",
      "Running for copd_only and chromosome 6\n",
      "Running for copd_only and chromosome 7\n",
      "Running for copd_only and chromosome 8\n",
      "Running for copd_only and chromosome 9\n",
      "Running for copd_only and chromosome 10\n",
      "Running for copd_only and chromosome 11\n",
      "Running for copd_only and chromosome 12\n",
      "Running for copd_only and chromosome 13\n",
      "Running for copd_only and chromosome 14\n",
      "Running for copd_only and chromosome 15\n",
      "Running for copd_only and chromosome 16\n",
      "Running for copd_only and chromosome 17\n",
      "Running for copd_only and chromosome 18\n",
      "Running for copd_only and chromosome 19\n",
      "Running for copd_only and chromosome 20\n",
      "Running for copd_only and chromosome 21\n",
      "Running for copd_only and chromosome 22\n",
      "Running for aco and chromosome 1\n",
      "Running for aco and chromosome 2\n",
      "Running for aco and chromosome 3\n",
      "Running for aco and chromosome 4\n",
      "Running for aco and chromosome 5\n",
      "Running for aco and chromosome 6\n",
      "Running for aco and chromosome 7\n",
      "Running for aco and chromosome 8\n",
      "Running for aco and chromosome 9\n",
      "Running for aco and chromosome 10\n",
      "Running for aco and chromosome 11\n",
      "Running for aco and chromosome 12\n",
      "Running for aco and chromosome 13\n",
      "Running for aco and chromosome 14\n",
      "Running for aco and chromosome 15\n",
      "Running for aco and chromosome 16\n",
      "Running for aco and chromosome 17\n",
      "Running for aco and chromosome 18\n",
      "Running for aco and chromosome 19\n",
      "Running for aco and chromosome 20\n",
      "Running for aco and chromosome 21\n",
      "Running for aco and chromosome 22\n"
     ]
    }
   ],
   "source": [
    "%%bash -s \"$PHENOPLIER_NOTEBOOK_DIR\"\n",
    "set -euo pipefail\n",
    "IFS=$'\\n\\t'\n",
    "\n",
    "# read the notebook directory parameter and remove $1\n",
    "export PHENOPLIER_NOTEBOOK_DIR=\"$1\"\n",
    "shift\n",
    "\n",
    "run_job () {\n",
    "    # run_job is a standard function name that performs a particular job\n",
    "    # depending on the context. It will be called by GNU Parallel below.\n",
    "\n",
    "    # read trait information\n",
    "    # the first parameter to this function is a string with values separated by\n",
    "    # commas (,). So here I split those into different variables.\n",
    "    IFS=',' read -r pheno_id file sample_size n_cases chromosome <<< \"$1\"\n",
    "\n",
    "    INPUT_FILENAME=${file%.*}\n",
    "\n",
    "    # get input GWAS file, there should be a single file\n",
    "    # here I make sure that there are no other files in the folder that\n",
    "    # match this phenotype/trait filename prefix\n",
    "    GWAS_DIR=\"${PHENOPLIER_PROJECTS_ASTHMA_COPD_RESULTS_DIR}/final_imputed_gwas\"\n",
    "    N_GWAS_FILES=$(ls ${GWAS_DIR}/${INPUT_FILENAME}*.txt.gz | wc -l)\n",
    "    if [ \"${N_GWAS_FILES}\" != \"1\" ]; then\n",
    "        echo \"ERROR: found ${N_GWAS_FILES} GWAS files instead of one\"\n",
    "        exit 1\n",
    "    fi\n",
    "    INPUT_GWAS_FILEPATH=$(ls ${GWAS_DIR}/${INPUT_FILENAME}*.txt.gz)\n",
    "\n",
    "    SPREDIXCAN_DIR=${PHENOPLIER_PROJECTS_ASTHMA_COPD_RESULTS_DIR}/twas/spredixcan\n",
    "    SMULTIXCAN_DIR=${PHENOPLIER_PROJECTS_ASTHMA_COPD_RESULTS_DIR}/twas/smultixcan\n",
    "    OUTPUT_DIR=${PHENOPLIER_PROJECTS_ASTHMA_COPD_RESULTS_DIR}/gls_phenoplier\n",
    "\n",
    "    # make sure we are not also parallelizing within numpy, etc\n",
    "    export NUMBA_NUM_THREADS=1\n",
    "    export MKL_NUM_THREADS=1\n",
    "    export OPEN_BLAS_NUM_THREADS=1\n",
    "    export NUMEXPR_NUM_THREADS=1\n",
    "    export OMP_NUM_THREADS=1\n",
    "\n",
    "    cd \"${PHENOPLIER_CODE_DIR}\"\n",
    "\n",
    "    NOTEBOOK_OUTPUT_FOLDER=\"output/${pheno_id,,}\"\n",
    "    FULL_NOTEBOOK_OUTPUT_FOLDER=\"${PHENOPLIER_NOTEBOOK_DIR}/${NOTEBOOK_OUTPUT_FOLDER}\"\n",
    "    mkdir -p \"$FULL_NOTEBOOK_OUTPUT_FOLDER\"\n",
    "\n",
    "    echo \"Running for $pheno_id and chromosome $chromosome\"\n",
    "\n",
    "    bash nbs/run_nbs.sh \\\n",
    "        \"${PHENOPLIER_NOTEBOOK_DIR}/jobs/05-gene_expr_correlations.ipynb\" \\\n",
    "        \"../${NOTEBOOK_OUTPUT_FOLDER}/05-gene_expr_correlations-chr${chromosome}.run.ipynb\" \\\n",
    "        -p COHORT_NAME \"$pheno_id\" \\\n",
    "        -p CHROMOSOME \"$chromosome\" \\\n",
    "        -p OUTPUT_DIR_BASE \"$OUTPUT_DIR\" \\\n",
    "    &>/dev/null\n",
    "}\n",
    "\n",
    "# export function so GNU Parallel can see it\n",
    "export -f run_job\n",
    "\n",
    "# generate a list of run_job calls for GNU Parallel\n",
    "while IFS= read -r line; do\n",
    "    for chromosome in {1..22}; do\n",
    "        echo run_job \"$line,$chromosome\"\n",
    "    done\n",
    "done < <(tail -n \"+2\" \"${PHENOPLIER_PROJECTS_ASTHMA_COPD_TRAITS_INFO_FILE}\") |\n",
    "    parallel -k --lb --halt 2 -j${PHENOPLIER_GENERAL_N_JOBS}"
   ]
  },
  {
   "cell_type": "code",
   "execution_count": null,
   "id": "4c85b633-88a5-4623-b105-42c38208109e",
   "metadata": {
    "papermill": {
     "duration": 0.00599,
     "end_time": "2022-12-15T18:55:08.292074",
     "exception": false,
     "start_time": "2022-12-15T18:55:08.286084",
     "status": "completed"
    },
    "tags": []
   },
   "outputs": [],
   "source": []
  }
 ],
 "metadata": {
  "jupytext": {
   "cell_metadata_filter": "all,-execution,-papermill,-trusted"
  },
  "kernelspec": {
   "display_name": "Python 3 (ipykernel)",
   "language": "python",
   "name": "python3"
  },
  "language_info": {
   "codemirror_mode": {
    "name": "ipython",
    "version": 3
   },
   "file_extension": ".py",
   "mimetype": "text/x-python",
   "name": "python",
   "nbconvert_exporter": "python",
   "pygments_lexer": "ipython3",
   "version": "3.10.6"
  },
  "papermill": {
   "default_parameters": {},
   "duration": 3948.060682,
   "end_time": "2022-12-15T18:55:08.516708",
   "environment_variables": {},
   "exception": null,
   "input_path": "projects/asthma-copd/nbs/20_gene_corrs/05-compute_gene_correlations.ipynb",
   "output_path": "projects/asthma-copd/nbs/20_gene_corrs/05-compute_gene_correlations.run.ipynb",
   "parameters": {
    "PHENOPLIER_NOTEBOOK_FILEPATH": "projects/asthma-copd/nbs/20_gene_corrs/05-compute_gene_correlations.ipynb"
   },
   "start_time": "2022-12-15T17:49:20.456026",
   "version": "2.3.4"
  }
 },
 "nbformat": 4,
 "nbformat_minor": 5
}
