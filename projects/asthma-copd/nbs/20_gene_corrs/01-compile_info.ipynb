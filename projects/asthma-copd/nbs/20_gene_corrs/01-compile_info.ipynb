{
 "cells": [
  {
   "cell_type": "markdown",
   "id": "c935aa7e-fde1-4d1c-b2d7-8c7ee611b1ed",
   "metadata": {
    "papermill": {
     "duration": 0.002929,
     "end_time": "2022-12-15T17:44:59.409990",
     "exception": false,
     "start_time": "2022-12-15T17:44:59.407061",
     "status": "completed"
    },
    "tags": []
   },
   "source": [
    "# Description"
   ]
  },
  {
   "cell_type": "markdown",
   "id": "f66770f7-0585-480b-8daa-1483bc37b494",
   "metadata": {
    "papermill": {
     "duration": 0.002434,
     "end_time": "2022-12-15T17:44:59.421936",
     "exception": false,
     "start_time": "2022-12-15T17:44:59.419502",
     "status": "completed"
    },
    "tags": []
   },
   "source": [
    "It compiles information about the GWAS and TWAS for a particular trait.\n",
    "For example, the set of GWAS variants, variance of predicted expression of genes, etc."
   ]
  },
  {
   "cell_type": "markdown",
   "id": "d389dd7b-20d8-44ed-8053-6e2cd8efea2e",
   "metadata": {
    "papermill": {
     "duration": 0.003489,
     "end_time": "2022-12-15T17:44:59.427841",
     "exception": false,
     "start_time": "2022-12-15T17:44:59.424352",
     "status": "completed"
    },
    "tags": []
   },
   "source": [
    "# Modules"
   ]
  },
  {
   "cell_type": "code",
   "execution_count": 1,
   "id": "69797656-0db2-41d5-b4d6-63c24d47ad38",
   "metadata": {
    "execution": {
     "iopub.execute_input": "2022-12-15T17:44:59.434096Z",
     "iopub.status.busy": "2022-12-15T17:44:59.433498Z",
     "iopub.status.idle": "2022-12-15T17:44:59.440896Z",
     "shell.execute_reply": "2022-12-15T17:44:59.440336Z"
    },
    "papermill": {
     "duration": 0.012057,
     "end_time": "2022-12-15T17:44:59.442321",
     "exception": false,
     "start_time": "2022-12-15T17:44:59.430264",
     "status": "completed"
    },
    "tags": []
   },
   "outputs": [],
   "source": [
    "import os\n",
    "from pathlib import Path"
   ]
  },
  {
   "cell_type": "markdown",
   "id": "dd17aa24-a692-4f62-ac69-c270447c7729",
   "metadata": {
    "papermill": {
     "duration": 0.002345,
     "end_time": "2022-12-15T17:44:59.447354",
     "exception": false,
     "start_time": "2022-12-15T17:44:59.445009",
     "status": "completed"
    },
    "tags": []
   },
   "source": [
    "# Settings"
   ]
  },
  {
   "cell_type": "markdown",
   "id": "3829ee6c-68b6-445e-adce-aa7a6280a56c",
   "metadata": {
    "papermill": {
     "duration": 0.002304,
     "end_time": "2022-12-15T17:44:59.452060",
     "exception": false,
     "start_time": "2022-12-15T17:44:59.449756",
     "status": "completed"
    },
    "tags": []
   },
   "source": [
    "Apparently, there is no easy way to get the parent directory of\n",
    "a notebook in Jupyter, so here I get that information either from\n",
    "the parameter sent by `nbs/run_nbs.sh` (if called from command-line) or\n",
    "from `os.getcwd()` (if called from browser)."
   ]
  },
  {
   "cell_type": "code",
   "execution_count": 2,
   "id": "e8f8093f-7738-448a-b29d-e9059684fcd1",
   "metadata": {
    "execution": {
     "iopub.execute_input": "2022-12-15T17:44:59.458028Z",
     "iopub.status.busy": "2022-12-15T17:44:59.457538Z",
     "iopub.status.idle": "2022-12-15T17:44:59.460831Z",
     "shell.execute_reply": "2022-12-15T17:44:59.460288Z"
    },
    "papermill": {
     "duration": 0.007801,
     "end_time": "2022-12-15T17:44:59.462264",
     "exception": false,
     "start_time": "2022-12-15T17:44:59.454463",
     "status": "completed"
    },
    "tags": [
     "parameters"
    ]
   },
   "outputs": [],
   "source": [
    "PHENOPLIER_NOTEBOOK_FILEPATH = None\n",
    "PHENOPLIER_NOTEBOOK_DIR = os.getcwd()"
   ]
  },
  {
   "cell_type": "code",
   "execution_count": 3,
   "id": "ab7c9b83",
   "metadata": {
    "execution": {
     "iopub.execute_input": "2022-12-15T17:44:59.468217Z",
     "iopub.status.busy": "2022-12-15T17:44:59.467752Z",
     "iopub.status.idle": "2022-12-15T17:44:59.470734Z",
     "shell.execute_reply": "2022-12-15T17:44:59.470184Z"
    },
    "lines_to_next_cell": 2,
    "papermill": {
     "duration": 0.007409,
     "end_time": "2022-12-15T17:44:59.472127",
     "exception": false,
     "start_time": "2022-12-15T17:44:59.464718",
     "status": "completed"
    },
    "tags": [
     "injected-parameters"
    ]
   },
   "outputs": [],
   "source": [
    "# Parameters\n",
    "PHENOPLIER_NOTEBOOK_FILEPATH = (\n",
    "    \"projects/asthma-copd/nbs/20_gene_corrs/01-compile_info.ipynb\"\n",
    ")"
   ]
  },
  {
   "cell_type": "code",
   "execution_count": 4,
   "id": "80437810-fd28-40ba-8dab-f60424764bfd",
   "metadata": {
    "execution": {
     "iopub.execute_input": "2022-12-15T17:44:59.478206Z",
     "iopub.status.busy": "2022-12-15T17:44:59.477728Z",
     "iopub.status.idle": "2022-12-15T17:44:59.487093Z",
     "shell.execute_reply": "2022-12-15T17:44:59.486600Z"
    },
    "papermill": {
     "duration": 0.013941,
     "end_time": "2022-12-15T17:44:59.488578",
     "exception": false,
     "start_time": "2022-12-15T17:44:59.474637",
     "status": "completed"
    },
    "tags": []
   },
   "outputs": [
    {
     "data": {
      "text/plain": [
       "'projects/asthma-copd/nbs/20_gene_corrs'"
      ]
     },
     "metadata": {},
     "output_type": "display_data"
    }
   ],
   "source": [
    "if PHENOPLIER_NOTEBOOK_FILEPATH is not None:\n",
    "    PHENOPLIER_NOTEBOOK_DIR = str(Path(PHENOPLIER_NOTEBOOK_FILEPATH).parent)\n",
    "\n",
    "display(PHENOPLIER_NOTEBOOK_DIR)"
   ]
  },
  {
   "cell_type": "markdown",
   "id": "3a558eec-2251-4be7-a754-1f98adde3aec",
   "metadata": {
    "papermill": {
     "duration": 0.002792,
     "end_time": "2022-12-15T17:44:59.493946",
     "exception": false,
     "start_time": "2022-12-15T17:44:59.491154",
     "status": "completed"
    },
    "tags": []
   },
   "source": [
    "# Run"
   ]
  },
  {
   "cell_type": "code",
   "execution_count": 5,
   "id": "0c0cd3d9-b032-4f03-82eb-0017a0ef1cca",
   "metadata": {
    "execution": {
     "iopub.execute_input": "2022-12-15T17:44:59.500254Z",
     "iopub.status.busy": "2022-12-15T17:44:59.499716Z",
     "iopub.status.idle": "2022-12-15T17:45:33.058112Z",
     "shell.execute_reply": "2022-12-15T17:45:33.057405Z"
    },
    "papermill": {
     "duration": 33.563211,
     "end_time": "2022-12-15T17:45:33.059712",
     "exception": false,
     "start_time": "2022-12-15T17:44:59.496501",
     "status": "completed"
    },
    "tags": []
   },
   "outputs": [
    {
     "name": "stdout",
     "output_type": "stream",
     "text": [
      "Running for asthma_only\n",
      "Running for copd_only\n",
      "Running for aco\n"
     ]
    }
   ],
   "source": [
    "%%bash -s \"$PHENOPLIER_NOTEBOOK_DIR\"\n",
    "set -euo pipefail\n",
    "IFS=$'\\n\\t'\n",
    "\n",
    "# read the notebook directory parameter and remove $1\n",
    "export PHENOPLIER_NOTEBOOK_DIR=\"$1\"\n",
    "shift\n",
    "\n",
    "run_job () {\n",
    "    # run_job is a standard function name that performs a particular job\n",
    "    # depending on the context. It will be called by GNU Parallel below.\n",
    "\n",
    "    # read trait information\n",
    "    # the first parameter to this function is a string with values separated by\n",
    "    # commas (,). So here I split those into different variables.\n",
    "    IFS=',' read -r pheno_id file sample_size n_cases <<< \"$1\"\n",
    "\n",
    "    INPUT_FILENAME=${file%.*}\n",
    "\n",
    "    # get input GWAS file, there should be a single file\n",
    "    # here I make sure that there are no other files in the folder that\n",
    "    # match this phenotype/trait filename prefix\n",
    "    GWAS_DIR=\"${PHENOPLIER_PROJECTS_ASTHMA_COPD_RESULTS_DIR}/final_imputed_gwas\"\n",
    "    N_GWAS_FILES=$(ls ${GWAS_DIR}/${INPUT_FILENAME}*.txt.gz | wc -l)\n",
    "    if [ \"${N_GWAS_FILES}\" != \"1\" ]; then\n",
    "        echo \"ERROR: found ${N_GWAS_FILES} GWAS files instead of one\"\n",
    "        exit 1\n",
    "    fi\n",
    "    INPUT_GWAS_FILEPATH=$(ls ${GWAS_DIR}/${INPUT_FILENAME}*.txt.gz)\n",
    "\n",
    "    SPREDIXCAN_DIR=${PHENOPLIER_PROJECTS_ASTHMA_COPD_RESULTS_DIR}/twas/spredixcan\n",
    "    SPREDIXCAN_FILE_PATTERN=\"${INPUT_FILENAME}-gtex_v8-mashr-{tissue}.csv\"\n",
    "\n",
    "    SMULTIXCAN_DIR=${PHENOPLIER_PROJECTS_ASTHMA_COPD_RESULTS_DIR}/twas/smultixcan\n",
    "    SMULTIXCAN_FILE=\"${SMULTIXCAN_DIR}/${INPUT_FILENAME}-gtex_v8-mashr-smultixcan.txt\"\n",
    "\n",
    "    OUTPUT_DIR=${PHENOPLIER_PROJECTS_ASTHMA_COPD_RESULTS_DIR}/gls_phenoplier\n",
    "\n",
    "    # make sure we are not also parallelizing within numpy, etc\n",
    "    export NUMBA_NUM_THREADS=1\n",
    "    export MKL_NUM_THREADS=1\n",
    "    export OPEN_BLAS_NUM_THREADS=1\n",
    "    export NUMEXPR_NUM_THREADS=1\n",
    "    export OMP_NUM_THREADS=1\n",
    "\n",
    "    cd \"${PHENOPLIER_CODE_DIR}\"\n",
    "\n",
    "    NOTEBOOK_OUTPUT_FOLDER=\"output/${pheno_id,,}\"\n",
    "    FULL_NOTEBOOK_OUTPUT_FOLDER=\"${PHENOPLIER_NOTEBOOK_DIR}/${NOTEBOOK_OUTPUT_FOLDER}\"\n",
    "    mkdir -p \"$FULL_NOTEBOOK_OUTPUT_FOLDER\"\n",
    "\n",
    "    echo \"Running for $pheno_id\"\n",
    "\n",
    "    bash nbs/run_nbs.sh \\\n",
    "        \"${PHENOPLIER_NOTEBOOK_DIR}/jobs/01-compile_gwas_snps_and_twas_genes.ipynb\" \\\n",
    "        \"../${NOTEBOOK_OUTPUT_FOLDER}/01-compile_gwas_snps_and_twas_genes.run.ipynb\" \\\n",
    "        -p COHORT_NAME \"$pheno_id\" \\\n",
    "        -p GWAS_FILE \"$INPUT_GWAS_FILEPATH\" \\\n",
    "        -p SPREDIXCAN_FOLDER \"$SPREDIXCAN_DIR\" \\\n",
    "        -p SPREDIXCAN_FILE_PATTERN \"$SPREDIXCAN_FILE_PATTERN\" \\\n",
    "        -p SMULTIXCAN_FILE \"$SMULTIXCAN_FILE\" \\\n",
    "        -p OUTPUT_DIR_BASE \"$OUTPUT_DIR\" \\\n",
    "    &>/dev/null\n",
    "}\n",
    "\n",
    "# export function so GNU Parallel can see it\n",
    "export -f run_job\n",
    "\n",
    "# generate a list of run_job calls for GNU Parallel\n",
    "while IFS= read -r line; do\n",
    "    echo run_job \"${line}\"\n",
    "done < <(tail -n \"+2\" \"${PHENOPLIER_PROJECTS_ASTHMA_COPD_TRAITS_INFO_FILE}\") |\n",
    "    parallel -k --group --halt 2 -j${PHENOPLIER_GENERAL_N_JOBS}"
   ]
  },
  {
   "cell_type": "code",
   "execution_count": null,
   "id": "4c85b633-88a5-4623-b105-42c38208109e",
   "metadata": {
    "papermill": {
     "duration": 0.002722,
     "end_time": "2022-12-15T17:45:33.065346",
     "exception": false,
     "start_time": "2022-12-15T17:45:33.062624",
     "status": "completed"
    },
    "tags": []
   },
   "outputs": [],
   "source": []
  }
 ],
 "metadata": {
  "jupytext": {
   "cell_metadata_filter": "all,-execution,-papermill,-trusted"
  },
  "kernelspec": {
   "display_name": "Python 3 (ipykernel)",
   "language": "python",
   "name": "python3"
  },
  "language_info": {
   "codemirror_mode": {
    "name": "ipython",
    "version": 3
   },
   "file_extension": ".py",
   "mimetype": "text/x-python",
   "name": "python",
   "nbconvert_exporter": "python",
   "pygments_lexer": "ipython3",
   "version": "3.10.6"
  },
  "papermill": {
   "default_parameters": {},
   "duration": 34.859475,
   "end_time": "2022-12-15T17:45:33.284327",
   "environment_variables": {},
   "exception": null,
   "input_path": "projects/asthma-copd/nbs/20_gene_corrs/01-compile_info.ipynb",
   "output_path": "projects/asthma-copd/nbs/20_gene_corrs/01-compile_info.run.ipynb",
   "parameters": {
    "PHENOPLIER_NOTEBOOK_FILEPATH": "projects/asthma-copd/nbs/20_gene_corrs/01-compile_info.ipynb"
   },
   "start_time": "2022-12-15T17:44:58.424852",
   "version": "2.3.4"
  }
 },
 "nbformat": 4,
 "nbformat_minor": 5
}
