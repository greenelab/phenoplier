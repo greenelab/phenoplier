{
 "cells": [
  {
   "cell_type": "markdown",
   "id": "c935aa7e-fde1-4d1c-b2d7-8c7ee611b1ed",
   "metadata": {
    "papermill": {
     "duration": 0.003266,
     "end_time": "2022-12-05T20:34:00.478085",
     "exception": false,
     "start_time": "2022-12-05T20:34:00.474819",
     "status": "completed"
    },
    "tags": []
   },
   "source": [
    "# Description"
   ]
  },
  {
   "cell_type": "markdown",
   "id": "f66770f7-0585-480b-8daa-1483bc37b494",
   "metadata": {
    "papermill": {
     "duration": 0.002702,
     "end_time": "2022-12-05T20:34:00.486159",
     "exception": false,
     "start_time": "2022-12-05T20:34:00.483457",
     "status": "completed"
    },
    "tags": []
   },
   "source": [
    "It generates LV-specific gene correlations matrices that will be used in the GLS model. The aim of these LV-specific matrices is to speed up the GLS model when computing an LV-trait association."
   ]
  },
  {
   "cell_type": "markdown",
   "id": "d389dd7b-20d8-44ed-8053-6e2cd8efea2e",
   "metadata": {
    "papermill": {
     "duration": 0.002691,
     "end_time": "2022-12-05T20:34:00.492904",
     "exception": false,
     "start_time": "2022-12-05T20:34:00.490213",
     "status": "completed"
    },
    "tags": []
   },
   "source": [
    "# Modules"
   ]
  },
  {
   "cell_type": "code",
   "execution_count": 1,
   "id": "69797656-0db2-41d5-b4d6-63c24d47ad38",
   "metadata": {
    "execution": {
     "iopub.execute_input": "2022-12-05T20:34:00.500053Z",
     "iopub.status.busy": "2022-12-05T20:34:00.499330Z",
     "iopub.status.idle": "2022-12-05T20:34:00.533895Z",
     "shell.execute_reply": "2022-12-05T20:34:00.533325Z"
    },
    "papermill": {
     "duration": 0.039788,
     "end_time": "2022-12-05T20:34:00.535405",
     "exception": false,
     "start_time": "2022-12-05T20:34:00.495617",
     "status": "completed"
    },
    "tags": []
   },
   "outputs": [],
   "source": [
    "import os\n",
    "from pathlib import Path\n",
    "\n",
    "from utils import chunker"
   ]
  },
  {
   "cell_type": "markdown",
   "id": "dd17aa24-a692-4f62-ac69-c270447c7729",
   "metadata": {
    "papermill": {
     "duration": 0.002746,
     "end_time": "2022-12-05T20:34:00.540970",
     "exception": false,
     "start_time": "2022-12-05T20:34:00.538224",
     "status": "completed"
    },
    "tags": []
   },
   "source": [
    "# Settings"
   ]
  },
  {
   "cell_type": "markdown",
   "id": "3829ee6c-68b6-445e-adce-aa7a6280a56c",
   "metadata": {
    "papermill": {
     "duration": 0.002817,
     "end_time": "2022-12-05T20:34:00.546560",
     "exception": false,
     "start_time": "2022-12-05T20:34:00.543743",
     "status": "completed"
    },
    "tags": []
   },
   "source": [
    "Apparently, there is no easy way to get the parent directory of\n",
    "a notebook in Jupyter, so here I get that information either from\n",
    "the parameter sent by `nbs/run_nbs.sh` (if called from command-line) or\n",
    "from `os.getcwd()` (if called from browser)."
   ]
  },
  {
   "cell_type": "code",
   "execution_count": 2,
   "id": "e8f8093f-7738-448a-b29d-e9059684fcd1",
   "metadata": {
    "execution": {
     "iopub.execute_input": "2022-12-05T20:34:00.553140Z",
     "iopub.status.busy": "2022-12-05T20:34:00.552779Z",
     "iopub.status.idle": "2022-12-05T20:34:00.555800Z",
     "shell.execute_reply": "2022-12-05T20:34:00.555264Z"
    },
    "papermill": {
     "duration": 0.00788,
     "end_time": "2022-12-05T20:34:00.557227",
     "exception": false,
     "start_time": "2022-12-05T20:34:00.549347",
     "status": "completed"
    },
    "tags": [
     "parameters"
    ]
   },
   "outputs": [],
   "source": [
    "PHENOPLIER_NOTEBOOK_FILEPATH = None\n",
    "PHENOPLIER_NOTEBOOK_DIR = os.getcwd()"
   ]
  },
  {
   "cell_type": "code",
   "execution_count": 3,
   "id": "d918a2fa",
   "metadata": {
    "execution": {
     "iopub.execute_input": "2022-12-05T20:34:00.564128Z",
     "iopub.status.busy": "2022-12-05T20:34:00.563646Z",
     "iopub.status.idle": "2022-12-05T20:34:00.566492Z",
     "shell.execute_reply": "2022-12-05T20:34:00.565975Z"
    },
    "lines_to_next_cell": 2,
    "papermill": {
     "duration": 0.007866,
     "end_time": "2022-12-05T20:34:00.567936",
     "exception": false,
     "start_time": "2022-12-05T20:34:00.560070",
     "status": "completed"
    },
    "tags": [
     "injected-parameters"
    ]
   },
   "outputs": [],
   "source": [
    "# Parameters\n",
    "PHENOPLIER_NOTEBOOK_FILEPATH = \"projects/asthma-copd/nbs/20_gene_corrs/15-create_lv_specific_gene_correlations.ipynb\""
   ]
  },
  {
   "cell_type": "code",
   "execution_count": 4,
   "id": "80437810-fd28-40ba-8dab-f60424764bfd",
   "metadata": {
    "execution": {
     "iopub.execute_input": "2022-12-05T20:34:00.574706Z",
     "iopub.status.busy": "2022-12-05T20:34:00.574264Z",
     "iopub.status.idle": "2022-12-05T20:34:00.583906Z",
     "shell.execute_reply": "2022-12-05T20:34:00.583379Z"
    },
    "papermill": {
     "duration": 0.014462,
     "end_time": "2022-12-05T20:34:00.585275",
     "exception": false,
     "start_time": "2022-12-05T20:34:00.570813",
     "status": "completed"
    },
    "tags": []
   },
   "outputs": [
    {
     "data": {
      "text/plain": [
       "'projects/asthma-copd/nbs/20_gene_corrs'"
      ]
     },
     "metadata": {},
     "output_type": "display_data"
    }
   ],
   "source": [
    "if PHENOPLIER_NOTEBOOK_FILEPATH is not None:\n",
    "    PHENOPLIER_NOTEBOOK_DIR = str(Path(PHENOPLIER_NOTEBOOK_FILEPATH).parent)\n",
    "\n",
    "display(PHENOPLIER_NOTEBOOK_DIR)"
   ]
  },
  {
   "cell_type": "markdown",
   "id": "3a558eec-2251-4be7-a754-1f98adde3aec",
   "metadata": {
    "papermill": {
     "duration": 0.003134,
     "end_time": "2022-12-05T20:34:00.591804",
     "exception": false,
     "start_time": "2022-12-05T20:34:00.588670",
     "status": "completed"
    },
    "tags": []
   },
   "source": [
    "# Generate list of LVs to parallelize"
   ]
  },
  {
   "cell_type": "code",
   "execution_count": 5,
   "id": "355d86f9-7eb5-48e7-a4a8-6f69880c28f7",
   "metadata": {
    "execution": {
     "iopub.execute_input": "2022-12-05T20:34:00.598926Z",
     "iopub.status.busy": "2022-12-05T20:34:00.598393Z",
     "iopub.status.idle": "2022-12-05T20:34:00.601427Z",
     "shell.execute_reply": "2022-12-05T20:34:00.600889Z"
    },
    "papermill": {
     "duration": 0.008049,
     "end_time": "2022-12-05T20:34:00.602825",
     "exception": false,
     "start_time": "2022-12-05T20:34:00.594776",
     "status": "completed"
    },
    "tags": []
   },
   "outputs": [],
   "source": [
    "CHUNK_SIZE = 50"
   ]
  },
  {
   "cell_type": "code",
   "execution_count": 6,
   "id": "f3cc3b8d-f892-4d9f-a76c-29e13b572e45",
   "metadata": {
    "execution": {
     "iopub.execute_input": "2022-12-05T20:34:00.610064Z",
     "iopub.status.busy": "2022-12-05T20:34:00.609747Z",
     "iopub.status.idle": "2022-12-05T20:34:00.614855Z",
     "shell.execute_reply": "2022-12-05T20:34:00.614330Z"
    },
    "papermill": {
     "duration": 0.010369,
     "end_time": "2022-12-05T20:34:00.616261",
     "exception": false,
     "start_time": "2022-12-05T20:34:00.605892",
     "status": "completed"
    },
    "tags": []
   },
   "outputs": [
    {
     "data": {
      "text/plain": [
       "['1-50', '51-100', '101-150', '151-200', '201-250']"
      ]
     },
     "metadata": {},
     "output_type": "display_data"
    }
   ],
   "source": [
    "# generate a list of chunks with CHUNK_SIZE LVs in each chunk\n",
    "chunks = list(chunker([lv_code for lv_code in range(1, 987 + 1)], CHUNK_SIZE))\n",
    "\n",
    "# for each chunk, generate the range\n",
    "chunks = [f\"{min(lvs)}-{max(lvs)}\" for lvs in chunks]\n",
    "display(chunks[:5])\n",
    "\n",
    "# now join all chunks and separate them by a comma\n",
    "LV_CHUNKS = \",\".join(chunks)"
   ]
  },
  {
   "cell_type": "code",
   "execution_count": 7,
   "id": "6e91d29f-f960-4fc6-8595-ecbae2317e20",
   "metadata": {
    "execution": {
     "iopub.execute_input": "2022-12-05T20:34:00.623728Z",
     "iopub.status.busy": "2022-12-05T20:34:00.623239Z",
     "iopub.status.idle": "2022-12-05T20:34:00.627266Z",
     "shell.execute_reply": "2022-12-05T20:34:00.626742Z"
    },
    "papermill": {
     "duration": 0.009222,
     "end_time": "2022-12-05T20:34:00.628676",
     "exception": false,
     "start_time": "2022-12-05T20:34:00.619454",
     "status": "completed"
    },
    "tags": []
   },
   "outputs": [
    {
     "data": {
      "text/plain": [
       "'1-50,51-100,101-150,151-200,201-250,251-300,301-350,351-400,401-450,451-500,501-550,551-600,601-650,651-700,701-750,751-800,801-850,851-900,901-950,951-987'"
      ]
     },
     "execution_count": 7,
     "metadata": {},
     "output_type": "execute_result"
    }
   ],
   "source": [
    "LV_CHUNKS"
   ]
  },
  {
   "cell_type": "markdown",
   "id": "2b7f8571-8b29-4cab-973e-72ee69ed1187",
   "metadata": {
    "papermill": {
     "duration": 0.003234,
     "end_time": "2022-12-05T20:34:00.635423",
     "exception": false,
     "start_time": "2022-12-05T20:34:00.632189",
     "status": "completed"
    },
    "tags": []
   },
   "source": [
    "# Run"
   ]
  },
  {
   "cell_type": "code",
   "execution_count": 8,
   "id": "0c0cd3d9-b032-4f03-82eb-0017a0ef1cca",
   "metadata": {
    "execution": {
     "iopub.execute_input": "2022-12-05T20:34:00.642987Z",
     "iopub.status.busy": "2022-12-05T20:34:00.642680Z",
     "iopub.status.idle": "2022-12-05T21:54:02.717905Z",
     "shell.execute_reply": "2022-12-05T21:54:02.717226Z"
    },
    "papermill": {
     "duration": 4802.084188,
     "end_time": "2022-12-05T21:54:02.722951",
     "exception": false,
     "start_time": "2022-12-05T20:34:00.638763",
     "status": "completed"
    },
    "tags": []
   },
   "outputs": [
    {
     "name": "stdout",
     "output_type": "stream",
     "text": [
      "Running for asthma_only and range 1-50\n",
      "Running for asthma_only and range 51-100\n",
      "Running for asthma_only and range 101-150\n",
      "Running for asthma_only and range 151-200\n",
      "Running for asthma_only and range 201-250\n",
      "Running for asthma_only and range 251-300\n",
      "Running for asthma_only and range 301-350\n",
      "Running for asthma_only and range 351-400\n",
      "Running for asthma_only and range 401-450\n",
      "Running for asthma_only and range 451-500\n",
      "Running for asthma_only and range 501-550\n",
      "Running for asthma_only and range 551-600\n",
      "Running for asthma_only and range 601-650\n",
      "Running for asthma_only and range 651-700\n",
      "Running for asthma_only and range 701-750\n",
      "Running for asthma_only and range 751-800\n",
      "Running for asthma_only and range 801-850\n",
      "Running for asthma_only and range 851-900\n",
      "Running for asthma_only and range 901-950\n",
      "Running for asthma_only and range 951-987\n",
      "Running for copd_only and range 1-50\n",
      "Running for copd_only and range 51-100\n",
      "Running for copd_only and range 101-150\n",
      "Running for copd_only and range 151-200\n",
      "Running for copd_only and range 201-250\n",
      "Running for copd_only and range 251-300\n",
      "Running for copd_only and range 301-350\n",
      "Running for copd_only and range 351-400\n",
      "Running for copd_only and range 401-450\n",
      "Running for copd_only and range 451-500\n",
      "Running for copd_only and range 501-550\n",
      "Running for copd_only and range 551-600\n",
      "Running for copd_only and range 601-650\n",
      "Running for copd_only and range 651-700\n",
      "Running for copd_only and range 701-750\n",
      "Running for copd_only and range 751-800\n",
      "Running for copd_only and range 801-850\n",
      "Running for copd_only and range 851-900\n",
      "Running for copd_only and range 901-950\n",
      "Running for copd_only and range 951-987\n",
      "Running for aco and range 1-50\n",
      "Running for aco and range 51-100\n",
      "Running for aco and range 101-150\n",
      "Running for aco and range 151-200\n",
      "Running for aco and range 201-250\n",
      "Running for aco and range 251-300\n",
      "Running for aco and range 301-350\n",
      "Running for aco and range 351-400\n",
      "Running for aco and range 401-450\n",
      "Running for aco and range 451-500\n",
      "Running for aco and range 501-550\n",
      "Running for aco and range 551-600\n",
      "Running for aco and range 601-650\n",
      "Running for aco and range 651-700\n",
      "Running for aco and range 701-750\n",
      "Running for aco and range 751-800\n",
      "Running for aco and range 801-850\n",
      "Running for aco and range 851-900\n",
      "Running for aco and range 901-950\n",
      "Running for aco and range 951-987\n"
     ]
    }
   ],
   "source": [
    "%%bash -s \"$PHENOPLIER_NOTEBOOK_DIR\" \"$LV_CHUNKS\"\n",
    "set -euo pipefail\n",
    "IFS=$'\\n\\t'\n",
    "\n",
    "# read the notebook directory parameter and remove $1\n",
    "export PHENOPLIER_NOTEBOOK_DIR=\"$1\"\n",
    "shift\n",
    "\n",
    "# read LVs chunks\n",
    "export LV_CHUNKS=\"$1\"\n",
    "shift\n",
    "\n",
    "run_job () {\n",
    "    # run_job is a standard function name that performs a particular job\n",
    "    # depending on the context. It will be called by GNU Parallel below.\n",
    "\n",
    "    # read trait information\n",
    "    # the first parameter to this function is a string with values separated by\n",
    "    # commas (,). So here I split those into different variables.\n",
    "    IFS=',' read -r pheno_id file sample_size n_cases lv_range <<< \"$1\"\n",
    "\n",
    "    LV_CODE=\"LV${lv_code}\"\n",
    "\n",
    "    # LV_PERC has to match whatever is used in the GLS models: the top\n",
    "    # (LV_PERC * 100) percent of genes in an LV\n",
    "    LV_PERC=0.01\n",
    "\n",
    "    OUTPUT_DIR=${PHENOPLIER_PROJECTS_ASTHMA_COPD_RESULTS_DIR}/gls_phenoplier\n",
    "\n",
    "    # make sure we are not also parallelizing within numpy, etc\n",
    "    export NUMBA_NUM_THREADS=1\n",
    "    export MKL_NUM_THREADS=1\n",
    "    export OPEN_BLAS_NUM_THREADS=1\n",
    "    export NUMEXPR_NUM_THREADS=1\n",
    "    export OMP_NUM_THREADS=1\n",
    "\n",
    "    cd \"${PHENOPLIER_CODE_DIR}\"\n",
    "\n",
    "    NOTEBOOK_OUTPUT_FOLDER=\"output/${pheno_id,,}\"\n",
    "    FULL_NOTEBOOK_OUTPUT_FOLDER=\"${PHENOPLIER_NOTEBOOK_DIR}/${NOTEBOOK_OUTPUT_FOLDER}\"\n",
    "    mkdir -p \"$FULL_NOTEBOOK_OUTPUT_FOLDER\"\n",
    "\n",
    "    echo \"Running for $pheno_id and range $lv_range\"\n",
    "\n",
    "    bash nbs/run_nbs.sh \\\n",
    "        \"${PHENOPLIER_NOTEBOOK_DIR}/jobs/15-create_corr_mat_per_lv.ipynb\" \\\n",
    "        \"../${NOTEBOOK_OUTPUT_FOLDER}/15-create_corr_mat_per_lv-${lv_range}.run.ipynb\" \\\n",
    "        -p COHORT_NAME \"$pheno_id\" \\\n",
    "        -p LV_RANGE \"$lv_range\" \\\n",
    "        -p LV_PERCENTILE \"$LV_PERC\" \\\n",
    "        -p OUTPUT_DIR_BASE \"$OUTPUT_DIR\" \\\n",
    "    &>/dev/null\n",
    "}\n",
    "\n",
    "# export function so GNU Parallel can see it\n",
    "export -f run_job\n",
    "\n",
    "IFS=',' read -ra LV_RANGES <<< \"$LV_CHUNKS\"\n",
    "\n",
    "# generate a list of run_job calls for GNU Parallel\n",
    "while IFS= read -r line; do\n",
    "    for lv_range in \"${LV_RANGES[@]}\"; do\n",
    "        echo run_job \"$line,$lv_range\"\n",
    "    done\n",
    "done < <(tail -n \"+2\" \"${PHENOPLIER_PROJECTS_ASTHMA_COPD_TRAITS_INFO_FILE}\") |\n",
    "    parallel -k --lb --halt 2 -j${PHENOPLIER_GENERAL_N_JOBS}"
   ]
  },
  {
   "cell_type": "code",
   "execution_count": null,
   "id": "4c85b633-88a5-4623-b105-42c38208109e",
   "metadata": {
    "papermill": {
     "duration": 0.006256,
     "end_time": "2022-12-05T21:54:02.735468",
     "exception": false,
     "start_time": "2022-12-05T21:54:02.729212",
     "status": "completed"
    },
    "tags": []
   },
   "outputs": [],
   "source": []
  }
 ],
 "metadata": {
  "jupytext": {
   "cell_metadata_filter": "all,-execution,-papermill,-trusted"
  },
  "kernelspec": {
   "display_name": "Python 3 (ipykernel)",
   "language": "python",
   "name": "python3"
  },
  "language_info": {
   "codemirror_mode": {
    "name": "ipython",
    "version": 3
   },
   "file_extension": ".py",
   "mimetype": "text/x-python",
   "name": "python",
   "nbconvert_exporter": "python",
   "pygments_lexer": "ipython3",
   "version": "3.10.6"
  },
  "papermill": {
   "default_parameters": {},
   "duration": 4803.366076,
   "end_time": "2022-12-05T21:54:02.959912",
   "environment_variables": {},
   "exception": null,
   "input_path": "projects/asthma-copd/nbs/20_gene_corrs/15-create_lv_specific_gene_correlations.ipynb",
   "output_path": "projects/asthma-copd/nbs/20_gene_corrs/15-create_lv_specific_gene_correlations.run.ipynb",
   "parameters": {
    "PHENOPLIER_NOTEBOOK_FILEPATH": "projects/asthma-copd/nbs/20_gene_corrs/15-create_lv_specific_gene_correlations.ipynb"
   },
   "start_time": "2022-12-05T20:33:59.593836",
   "version": "2.3.4"
  }
 },
 "nbformat": 4,
 "nbformat_minor": 5
}
