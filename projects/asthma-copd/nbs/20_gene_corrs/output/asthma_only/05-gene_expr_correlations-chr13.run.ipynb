{
 "cells": [
  {
   "cell_type": "markdown",
   "id": "7a6632fb",
   "metadata": {
    "papermill": {
     "duration": 0.010917,
     "end_time": "2022-12-05T16:52:40.990147",
     "exception": false,
     "start_time": "2022-12-05T16:52:40.979230",
     "status": "completed"
    },
    "tags": []
   },
   "source": [
    "# Description"
   ]
  },
  {
   "cell_type": "markdown",
   "id": "7097c346",
   "metadata": {
    "papermill": {
     "duration": 0.00765,
     "end_time": "2022-12-05T16:52:41.006585",
     "exception": false,
     "start_time": "2022-12-05T16:52:40.998935",
     "status": "completed"
    },
    "tags": []
   },
   "source": [
    "(Please, take a look at the README.md file in this directory for instructions on how to run this notebook)\n",
    "\n",
    "This notebook computes predicted expression correlations between all genes in the MultiPLIER models.\n",
    "\n",
    "It has specicfic parameters for papermill (see under `Settings` below).\n",
    "It can be configured to run on a single chromosome to run in parallel.\n",
    "\n",
    "This notebook is not directly run. See README.md."
   ]
  },
  {
   "cell_type": "markdown",
   "id": "c61d8427",
   "metadata": {
    "papermill": {
     "duration": 0.00774,
     "end_time": "2022-12-05T16:52:41.024758",
     "exception": false,
     "start_time": "2022-12-05T16:52:41.017018",
     "status": "completed"
    },
    "tags": []
   },
   "source": [
    "# Modules"
   ]
  },
  {
   "cell_type": "code",
   "execution_count": 1,
   "id": "bbc0234f",
   "metadata": {
    "execution": {
     "iopub.execute_input": "2022-12-05T16:52:41.044332Z",
     "iopub.status.busy": "2022-12-05T16:52:41.043880Z",
     "iopub.status.idle": "2022-12-05T16:52:41.064113Z",
     "shell.execute_reply": "2022-12-05T16:52:41.063406Z"
    },
    "papermill": {
     "duration": 0.03231,
     "end_time": "2022-12-05T16:52:41.065983",
     "exception": false,
     "start_time": "2022-12-05T16:52:41.033673",
     "status": "completed"
    },
    "tags": []
   },
   "outputs": [],
   "source": [
    "%load_ext autoreload\n",
    "%autoreload 2"
   ]
  },
  {
   "cell_type": "code",
   "execution_count": 2,
   "id": "1d5f5a59",
   "metadata": {
    "execution": {
     "iopub.execute_input": "2022-12-05T16:52:41.084479Z",
     "iopub.status.busy": "2022-12-05T16:52:41.084194Z",
     "iopub.status.idle": "2022-12-05T16:52:41.774450Z",
     "shell.execute_reply": "2022-12-05T16:52:41.773866Z"
    },
    "papermill": {
     "duration": 0.701558,
     "end_time": "2022-12-05T16:52:41.776145",
     "exception": false,
     "start_time": "2022-12-05T16:52:41.074587",
     "status": "completed"
    },
    "tags": []
   },
   "outputs": [],
   "source": [
    "from random import sample, seed\n",
    "import warnings\n",
    "from pathlib import Path\n",
    "import pickle\n",
    "import traceback\n",
    "\n",
    "import numpy as np\n",
    "from scipy.spatial.distance import squareform\n",
    "import pandas as pd\n",
    "from tqdm import tqdm\n",
    "import matplotlib.pyplot as plt\n",
    "import seaborn as sns\n",
    "\n",
    "import conf\n",
    "from entity import Gene"
   ]
  },
  {
   "cell_type": "markdown",
   "id": "1eac24b5",
   "metadata": {
    "papermill": {
     "duration": 0.008302,
     "end_time": "2022-12-05T16:52:41.793054",
     "exception": false,
     "start_time": "2022-12-05T16:52:41.784752",
     "status": "completed"
    },
    "tags": []
   },
   "source": [
    "# Settings"
   ]
  },
  {
   "cell_type": "code",
   "execution_count": 3,
   "id": "ca4560ba",
   "metadata": {
    "execution": {
     "iopub.execute_input": "2022-12-05T16:52:41.810580Z",
     "iopub.status.busy": "2022-12-05T16:52:41.810369Z",
     "iopub.status.idle": "2022-12-05T16:52:41.824079Z",
     "shell.execute_reply": "2022-12-05T16:52:41.823553Z"
    },
    "papermill": {
     "duration": 0.024148,
     "end_time": "2022-12-05T16:52:41.825614",
     "exception": false,
     "start_time": "2022-12-05T16:52:41.801466",
     "status": "completed"
    },
    "tags": [
     "parameters"
    ]
   },
   "outputs": [],
   "source": [
    "# a cohort name (it could be something like UK_BIOBANK, etc)\n",
    "COHORT_NAME = None\n",
    "\n",
    "# reference panel such as 1000G or GTEX_V8\n",
    "REFERENCE_PANEL = \"GTEX_V8\"\n",
    "\n",
    "# predictions models such as MASHR or ELASTIC_NET\n",
    "EQTL_MODEL = \"MASHR\"\n",
    "\n",
    "# this is the default value used in S-MultiXcan to select the\n",
    "# top principal components of the expression correlation matrix\n",
    "SMULTIXCAN_CONDITION_NUMBER = 30\n",
    "\n",
    "# specifies a single chromosome value\n",
    "CHROMOSOME = None\n",
    "\n",
    "# If True, computes the correlation between closeby genes only (see\n",
    "# entity.Gene.within_distance for more details). Otherwise, it computes\n",
    "# correlations for all genes in a chromosome\n",
    "COMPUTE_CORRELATIONS_WITHIN_DISTANCE = True\n",
    "\n",
    "# if True, then it will continue if a gene pair correlation fails,\n",
    "# printing the warning/error for debugging. If False, any warning/error\n",
    "# will be thrown\n",
    "DEBUG_MODE = False\n",
    "\n",
    "# output dir\n",
    "OUTPUT_DIR_BASE = None"
   ]
  },
  {
   "cell_type": "code",
   "execution_count": 4,
   "id": "3cc390fd",
   "metadata": {
    "execution": {
     "iopub.execute_input": "2022-12-05T16:52:41.843966Z",
     "iopub.status.busy": "2022-12-05T16:52:41.843779Z",
     "iopub.status.idle": "2022-12-05T16:52:41.864035Z",
     "shell.execute_reply": "2022-12-05T16:52:41.863304Z"
    },
    "papermill": {
     "duration": 0.031067,
     "end_time": "2022-12-05T16:52:41.865869",
     "exception": false,
     "start_time": "2022-12-05T16:52:41.834802",
     "status": "completed"
    },
    "tags": [
     "injected-parameters"
    ]
   },
   "outputs": [],
   "source": [
    "# Parameters\n",
    "PHENOPLIER_NOTEBOOK_FILEPATH = (\n",
    "    \"projects/asthma-copd/nbs/20_gene_corrs/jobs/05-gene_expr_correlations.ipynb\"\n",
    ")\n",
    "COHORT_NAME = \"asthma_only\"\n",
    "CHROMOSOME = 13\n",
    "OUTPUT_DIR_BASE = \"/opt/data/projects/asthma-copd/results/gls_phenoplier\"\n"
   ]
  },
  {
   "cell_type": "code",
   "execution_count": 5,
   "id": "3190631f-27fc-480f-b18e-571d580425a5",
   "metadata": {
    "execution": {
     "iopub.execute_input": "2022-12-05T16:52:41.885814Z",
     "iopub.status.busy": "2022-12-05T16:52:41.885316Z",
     "iopub.status.idle": "2022-12-05T16:52:41.914228Z",
     "shell.execute_reply": "2022-12-05T16:52:41.913568Z"
    },
    "papermill": {
     "duration": 0.040311,
     "end_time": "2022-12-05T16:52:41.915730",
     "exception": false,
     "start_time": "2022-12-05T16:52:41.875419",
     "status": "completed"
    },
    "tags": []
   },
   "outputs": [
    {
     "data": {
      "text/plain": [
       "'Cohort name: asthma_only'"
      ]
     },
     "metadata": {},
     "output_type": "display_data"
    }
   ],
   "source": [
    "assert COHORT_NAME is not None and len(COHORT_NAME) > 0, \"A cohort name must be given\"\n",
    "\n",
    "COHORT_NAME = COHORT_NAME.lower()\n",
    "display(f\"Cohort name: {COHORT_NAME}\")"
   ]
  },
  {
   "cell_type": "code",
   "execution_count": 6,
   "id": "f53ba19b-0f93-4fa2-a047-63b375939d1a",
   "metadata": {
    "execution": {
     "iopub.execute_input": "2022-12-05T16:52:41.935045Z",
     "iopub.status.busy": "2022-12-05T16:52:41.934480Z",
     "iopub.status.idle": "2022-12-05T16:52:41.957805Z",
     "shell.execute_reply": "2022-12-05T16:52:41.957185Z"
    },
    "papermill": {
     "duration": 0.035062,
     "end_time": "2022-12-05T16:52:41.959236",
     "exception": false,
     "start_time": "2022-12-05T16:52:41.924174",
     "status": "completed"
    },
    "tags": []
   },
   "outputs": [
    {
     "data": {
      "text/plain": [
       "'Reference panel: GTEX_V8'"
      ]
     },
     "metadata": {},
     "output_type": "display_data"
    }
   ],
   "source": [
    "assert (\n",
    "    REFERENCE_PANEL is not None and len(REFERENCE_PANEL) > 0\n",
    "), \"A reference panel must be given\"\n",
    "\n",
    "display(f\"Reference panel: {REFERENCE_PANEL}\")"
   ]
  },
  {
   "cell_type": "code",
   "execution_count": 7,
   "id": "e024d130-c139-429a-9c6e-ccf149e297b0",
   "metadata": {
    "execution": {
     "iopub.execute_input": "2022-12-05T16:52:41.978423Z",
     "iopub.status.busy": "2022-12-05T16:52:41.977872Z",
     "iopub.status.idle": "2022-12-05T16:52:42.002108Z",
     "shell.execute_reply": "2022-12-05T16:52:42.001499Z"
    },
    "papermill": {
     "duration": 0.036152,
     "end_time": "2022-12-05T16:52:42.003784",
     "exception": false,
     "start_time": "2022-12-05T16:52:41.967632",
     "status": "completed"
    },
    "tags": []
   },
   "outputs": [
    {
     "data": {
      "text/plain": [
       "'eQTL model: MASHR) / mashr_'"
      ]
     },
     "metadata": {},
     "output_type": "display_data"
    }
   ],
   "source": [
    "assert (\n",
    "    EQTL_MODEL is not None and len(EQTL_MODEL) > 0\n",
    "), \"A prediction/eQTL model must be given\"\n",
    "\n",
    "EQTL_MODEL_FILES_PREFIX = conf.PHENOMEXCAN[\"PREDICTION_MODELS\"][f\"{EQTL_MODEL}_PREFIX\"]\n",
    "display(f\"eQTL model: {EQTL_MODEL}) / {EQTL_MODEL_FILES_PREFIX}\")"
   ]
  },
  {
   "cell_type": "code",
   "execution_count": 8,
   "id": "552a7f63-a18c-4d3e-bb6a-94f99b431291",
   "metadata": {
    "execution": {
     "iopub.execute_input": "2022-12-05T16:52:42.024825Z",
     "iopub.status.busy": "2022-12-05T16:52:42.024531Z",
     "iopub.status.idle": "2022-12-05T16:52:42.041931Z",
     "shell.execute_reply": "2022-12-05T16:52:42.041290Z"
    },
    "papermill": {
     "duration": 0.030978,
     "end_time": "2022-12-05T16:52:42.044026",
     "exception": false,
     "start_time": "2022-12-05T16:52:42.013048",
     "status": "completed"
    },
    "tags": []
   },
   "outputs": [
    {
     "data": {
      "text/plain": [
       "'S-MultiXcan condition number: 30'"
      ]
     },
     "metadata": {},
     "output_type": "display_data"
    }
   ],
   "source": [
    "assert (\n",
    "    SMULTIXCAN_CONDITION_NUMBER is not None and SMULTIXCAN_CONDITION_NUMBER > 0\n",
    "), \"The S-MultiXcan condition number (positive integer) must be given\"\n",
    "\n",
    "display(f\"S-MultiXcan condition number: {SMULTIXCAN_CONDITION_NUMBER}\")"
   ]
  },
  {
   "cell_type": "code",
   "execution_count": 9,
   "id": "f34a336f-548e-4afe-8955-90eaea4f42c6",
   "metadata": {
    "execution": {
     "iopub.execute_input": "2022-12-05T16:52:42.069935Z",
     "iopub.status.busy": "2022-12-05T16:52:42.069179Z",
     "iopub.status.idle": "2022-12-05T16:52:42.092743Z",
     "shell.execute_reply": "2022-12-05T16:52:42.092107Z"
    },
    "papermill": {
     "duration": 0.03557,
     "end_time": "2022-12-05T16:52:42.094281",
     "exception": false,
     "start_time": "2022-12-05T16:52:42.058711",
     "status": "completed"
    },
    "tags": []
   },
   "outputs": [
    {
     "data": {
      "text/plain": [
       "'Working on chromosome 13'"
      ]
     },
     "metadata": {},
     "output_type": "display_data"
    }
   ],
   "source": [
    "assert CHROMOSOME is not None and (\n",
    "    1 <= CHROMOSOME <= 22\n",
    "), \"You have to select one chromosome (format: number between 1 and 22)\"\n",
    "\n",
    "display(f\"Working on chromosome {CHROMOSOME}\")"
   ]
  },
  {
   "cell_type": "code",
   "execution_count": 10,
   "id": "ab8e96e8-06b5-4363-9dcd-dc4d78cc27f7",
   "metadata": {
    "execution": {
     "iopub.execute_input": "2022-12-05T16:52:42.113747Z",
     "iopub.status.busy": "2022-12-05T16:52:42.113507Z",
     "iopub.status.idle": "2022-12-05T16:52:42.136598Z",
     "shell.execute_reply": "2022-12-05T16:52:42.135997Z"
    },
    "papermill": {
     "duration": 0.034566,
     "end_time": "2022-12-05T16:52:42.138119",
     "exception": false,
     "start_time": "2022-12-05T16:52:42.103553",
     "status": "completed"
    },
    "tags": []
   },
   "outputs": [
    {
     "data": {
      "text/plain": [
       "'Compute correlation within distance True'"
      ]
     },
     "metadata": {},
     "output_type": "display_data"
    }
   ],
   "source": [
    "display(f\"Compute correlation within distance {COMPUTE_CORRELATIONS_WITHIN_DISTANCE}\")"
   ]
  },
  {
   "cell_type": "code",
   "execution_count": 11,
   "id": "b393b698-77e3-4ba2-8ac1-e14d51aa988f",
   "metadata": {
    "execution": {
     "iopub.execute_input": "2022-12-05T16:52:42.158514Z",
     "iopub.status.busy": "2022-12-05T16:52:42.158108Z",
     "iopub.status.idle": "2022-12-05T16:52:42.180797Z",
     "shell.execute_reply": "2022-12-05T16:52:42.180146Z"
    },
    "papermill": {
     "duration": 0.034195,
     "end_time": "2022-12-05T16:52:42.182267",
     "exception": false,
     "start_time": "2022-12-05T16:52:42.148072",
     "status": "completed"
    },
    "tags": []
   },
   "outputs": [
    {
     "data": {
      "text/plain": [
       "'Using output dir base: /opt/data/projects/asthma-copd/results/gls_phenoplier/gene_corrs/asthma_only'"
      ]
     },
     "metadata": {},
     "output_type": "display_data"
    }
   ],
   "source": [
    "assert (\n",
    "    OUTPUT_DIR_BASE is not None and len(OUTPUT_DIR_BASE) > 0\n",
    "), \"Output directory path must be given\"\n",
    "\n",
    "OUTPUT_DIR_BASE = (Path(OUTPUT_DIR_BASE) / \"gene_corrs\" / COHORT_NAME).resolve()\n",
    "\n",
    "OUTPUT_DIR_BASE.mkdir(parents=True, exist_ok=True)\n",
    "\n",
    "display(f\"Using output dir base: {OUTPUT_DIR_BASE}\")"
   ]
  },
  {
   "cell_type": "markdown",
   "id": "d2ba085e",
   "metadata": {
    "papermill": {
     "duration": 0.010134,
     "end_time": "2022-12-05T16:52:42.203078",
     "exception": false,
     "start_time": "2022-12-05T16:52:42.192944",
     "status": "completed"
    },
    "tags": []
   },
   "source": [
    "# Load data"
   ]
  },
  {
   "cell_type": "markdown",
   "id": "7dcb8db7",
   "metadata": {
    "papermill": {
     "duration": 0.009643,
     "end_time": "2022-12-05T16:52:42.222264",
     "exception": false,
     "start_time": "2022-12-05T16:52:42.212621",
     "status": "completed"
    },
    "tags": []
   },
   "source": [
    "## GWAS variants"
   ]
  },
  {
   "cell_type": "code",
   "execution_count": 12,
   "id": "29434c4e-8cd3-4b9b-82e4-b5a251d9dd19",
   "metadata": {
    "execution": {
     "iopub.execute_input": "2022-12-05T16:52:42.239688Z",
     "iopub.status.busy": "2022-12-05T16:52:42.239445Z",
     "iopub.status.idle": "2022-12-05T16:52:44.230826Z",
     "shell.execute_reply": "2022-12-05T16:52:44.230261Z"
    },
    "papermill": {
     "duration": 2.000991,
     "end_time": "2022-12-05T16:52:44.232553",
     "exception": false,
     "start_time": "2022-12-05T16:52:42.231562",
     "status": "completed"
    },
    "tags": []
   },
   "outputs": [],
   "source": [
    "with open(OUTPUT_DIR_BASE / \"gwas_variant_ids.pkl\", \"rb\") as handle:\n",
    "    gwas_variants_ids_set = pickle.load(handle)"
   ]
  },
  {
   "cell_type": "code",
   "execution_count": 13,
   "id": "b9d9dec2-4a76-4bf9-bde2-e24c95acb8a0",
   "metadata": {
    "execution": {
     "iopub.execute_input": "2022-12-05T16:52:44.253227Z",
     "iopub.status.busy": "2022-12-05T16:52:44.252970Z",
     "iopub.status.idle": "2022-12-05T16:52:44.266886Z",
     "shell.execute_reply": "2022-12-05T16:52:44.266389Z"
    },
    "papermill": {
     "duration": 0.025981,
     "end_time": "2022-12-05T16:52:44.268268",
     "exception": false,
     "start_time": "2022-12-05T16:52:44.242287",
     "status": "completed"
    },
    "tags": []
   },
   "outputs": [
    {
     "data": {
      "text/plain": [
       "8578486"
      ]
     },
     "execution_count": 13,
     "metadata": {},
     "output_type": "execute_result"
    }
   ],
   "source": [
    "len(gwas_variants_ids_set)"
   ]
  },
  {
   "cell_type": "code",
   "execution_count": 14,
   "id": "4235b06a-6034-4ee4-a0a3-2ae35d122418",
   "metadata": {
    "execution": {
     "iopub.execute_input": "2022-12-05T16:52:44.289124Z",
     "iopub.status.busy": "2022-12-05T16:52:44.288839Z",
     "iopub.status.idle": "2022-12-05T16:52:44.663595Z",
     "shell.execute_reply": "2022-12-05T16:52:44.663068Z"
    },
    "papermill": {
     "duration": 0.386305,
     "end_time": "2022-12-05T16:52:44.665054",
     "exception": false,
     "start_time": "2022-12-05T16:52:44.278749",
     "status": "completed"
    },
    "tags": []
   },
   "outputs": [
    {
     "data": {
      "text/plain": [
       "['chr8_85428727_CTG_C_b38',\n",
       " 'chr4_42659905_C_T_b38',\n",
       " 'chr12_809727_C_A_b38',\n",
       " 'chr1_212506166_C_G_b38',\n",
       " 'chr5_5262653_G_A_b38']"
      ]
     },
     "execution_count": 14,
     "metadata": {},
     "output_type": "execute_result"
    }
   ],
   "source": [
    "list(gwas_variants_ids_set)[:5]"
   ]
  },
  {
   "cell_type": "markdown",
   "id": "07866999-2305-41f9-a144-e69c9122c212",
   "metadata": {
    "papermill": {
     "duration": 0.009735,
     "end_time": "2022-12-05T16:52:44.684677",
     "exception": false,
     "start_time": "2022-12-05T16:52:44.674942",
     "status": "completed"
    },
    "tags": []
   },
   "source": [
    "## S-PrediXcan tissue models"
   ]
  },
  {
   "cell_type": "code",
   "execution_count": 15,
   "id": "780611d9-77c8-405f-90a4-f271f7b09397",
   "metadata": {
    "execution": {
     "iopub.execute_input": "2022-12-05T16:52:44.705630Z",
     "iopub.status.busy": "2022-12-05T16:52:44.705358Z",
     "iopub.status.idle": "2022-12-05T16:52:45.316253Z",
     "shell.execute_reply": "2022-12-05T16:52:45.315650Z"
    },
    "papermill": {
     "duration": 0.622572,
     "end_time": "2022-12-05T16:52:45.317773",
     "exception": false,
     "start_time": "2022-12-05T16:52:44.695201",
     "status": "completed"
    },
    "tags": []
   },
   "outputs": [],
   "source": [
    "spredixcan_genes_models = pd.read_pickle(OUTPUT_DIR_BASE / \"gene_tissues.pkl\")"
   ]
  },
  {
   "cell_type": "code",
   "execution_count": 16,
   "id": "726dd1f6-9557-4225-91fa-b3b879ea96e1",
   "metadata": {
    "execution": {
     "iopub.execute_input": "2022-12-05T16:52:45.337458Z",
     "iopub.status.busy": "2022-12-05T16:52:45.337146Z",
     "iopub.status.idle": "2022-12-05T16:52:45.351162Z",
     "shell.execute_reply": "2022-12-05T16:52:45.350652Z"
    },
    "papermill": {
     "duration": 0.025328,
     "end_time": "2022-12-05T16:52:45.352058",
     "exception": false,
     "start_time": "2022-12-05T16:52:45.326730",
     "status": "completed"
    },
    "tags": []
   },
   "outputs": [
    {
     "data": {
      "text/plain": [
       "(6443, 5)"
      ]
     },
     "execution_count": 16,
     "metadata": {},
     "output_type": "execute_result"
    }
   ],
   "source": [
    "spredixcan_genes_models.shape"
   ]
  },
  {
   "cell_type": "code",
   "execution_count": 17,
   "id": "944a1b48-222c-4eb0-b252-b9de2cbca215",
   "metadata": {
    "execution": {
     "iopub.execute_input": "2022-12-05T16:52:45.363448Z",
     "iopub.status.busy": "2022-12-05T16:52:45.363199Z",
     "iopub.status.idle": "2022-12-05T16:52:45.380880Z",
     "shell.execute_reply": "2022-12-05T16:52:45.380346Z"
    },
    "papermill": {
     "duration": 0.024435,
     "end_time": "2022-12-05T16:52:45.381759",
     "exception": false,
     "start_time": "2022-12-05T16:52:45.357324",
     "status": "completed"
    },
    "tags": []
   },
   "outputs": [
    {
     "data": {
      "text/html": [
       "<div>\n",
       "<style scoped>\n",
       "    .dataframe tbody tr th:only-of-type {\n",
       "        vertical-align: middle;\n",
       "    }\n",
       "\n",
       "    .dataframe tbody tr th {\n",
       "        vertical-align: top;\n",
       "    }\n",
       "\n",
       "    .dataframe thead th {\n",
       "        text-align: right;\n",
       "    }\n",
       "</style>\n",
       "<table border=\"1\" class=\"dataframe\">\n",
       "  <thead>\n",
       "    <tr style=\"text-align: right;\">\n",
       "      <th></th>\n",
       "      <th>gene_name</th>\n",
       "      <th>tissue</th>\n",
       "      <th>n_tissues</th>\n",
       "      <th>n_snps_used_sum</th>\n",
       "      <th>n_snps_in_model_sum</th>\n",
       "    </tr>\n",
       "    <tr>\n",
       "      <th>gene_id</th>\n",
       "      <th></th>\n",
       "      <th></th>\n",
       "      <th></th>\n",
       "      <th></th>\n",
       "      <th></th>\n",
       "    </tr>\n",
       "  </thead>\n",
       "  <tbody>\n",
       "    <tr>\n",
       "      <th>ENSG00000000419</th>\n",
       "      <td>DPM1</td>\n",
       "      <td>(Brain_Hypothalamus, Brain_Substantia_nigra)</td>\n",
       "      <td>2</td>\n",
       "      <td>2</td>\n",
       "      <td>2</td>\n",
       "    </tr>\n",
       "    <tr>\n",
       "      <th>ENSG00000000938</th>\n",
       "      <td>FGR</td>\n",
       "      <td>(Esophagus_Mucosa, Esophagus_Muscularis, Lung,...</td>\n",
       "      <td>36</td>\n",
       "      <td>40</td>\n",
       "      <td>40</td>\n",
       "    </tr>\n",
       "    <tr>\n",
       "      <th>ENSG00000000971</th>\n",
       "      <td>CFH</td>\n",
       "      <td>(Esophagus_Muscularis, Lung, Brain_Cortex, Art...</td>\n",
       "      <td>34</td>\n",
       "      <td>44</td>\n",
       "      <td>44</td>\n",
       "    </tr>\n",
       "    <tr>\n",
       "      <th>ENSG00000001084</th>\n",
       "      <td>GCLC</td>\n",
       "      <td>(Lung, Muscle_Skeletal, Brain_Cortex, Pancreas...</td>\n",
       "      <td>32</td>\n",
       "      <td>46</td>\n",
       "      <td>46</td>\n",
       "    </tr>\n",
       "    <tr>\n",
       "      <th>ENSG00000001167</th>\n",
       "      <td>NFYA</td>\n",
       "      <td>(Esophagus_Mucosa, Esophagus_Muscularis, Lung,...</td>\n",
       "      <td>40</td>\n",
       "      <td>47</td>\n",
       "      <td>48</td>\n",
       "    </tr>\n",
       "  </tbody>\n",
       "</table>\n",
       "</div>"
      ],
      "text/plain": [
       "                gene_name                                             tissue  \\\n",
       "gene_id                                                                        \n",
       "ENSG00000000419      DPM1       (Brain_Hypothalamus, Brain_Substantia_nigra)   \n",
       "ENSG00000000938       FGR  (Esophagus_Mucosa, Esophagus_Muscularis, Lung,...   \n",
       "ENSG00000000971       CFH  (Esophagus_Muscularis, Lung, Brain_Cortex, Art...   \n",
       "ENSG00000001084      GCLC  (Lung, Muscle_Skeletal, Brain_Cortex, Pancreas...   \n",
       "ENSG00000001167      NFYA  (Esophagus_Mucosa, Esophagus_Muscularis, Lung,...   \n",
       "\n",
       "                 n_tissues  n_snps_used_sum  n_snps_in_model_sum  \n",
       "gene_id                                                           \n",
       "ENSG00000000419          2                2                    2  \n",
       "ENSG00000000938         36               40                   40  \n",
       "ENSG00000000971         34               44                   44  \n",
       "ENSG00000001084         32               46                   46  \n",
       "ENSG00000001167         40               47                   48  "
      ]
     },
     "execution_count": 17,
     "metadata": {},
     "output_type": "execute_result"
    }
   ],
   "source": [
    "spredixcan_genes_models.head()"
   ]
  },
  {
   "cell_type": "code",
   "execution_count": 18,
   "id": "d1c11bb1-be0b-4f40-b360-633d6827109f",
   "metadata": {
    "execution": {
     "iopub.execute_input": "2022-12-05T16:52:45.393827Z",
     "iopub.status.busy": "2022-12-05T16:52:45.393648Z",
     "iopub.status.idle": "2022-12-05T16:52:45.407087Z",
     "shell.execute_reply": "2022-12-05T16:52:45.406577Z"
    },
    "papermill": {
     "duration": 0.020102,
     "end_time": "2022-12-05T16:52:45.408032",
     "exception": false,
     "start_time": "2022-12-05T16:52:45.387930",
     "status": "completed"
    },
    "tags": []
   },
   "outputs": [],
   "source": [
    "assert spredixcan_genes_models.index.is_unique"
   ]
  },
  {
   "cell_type": "markdown",
   "id": "a5b5092c-a13e-47c4-a92a-480fcc08f3ae",
   "metadata": {
    "papermill": {
     "duration": 0.005067,
     "end_time": "2022-12-05T16:52:45.418957",
     "exception": false,
     "start_time": "2022-12-05T16:52:45.413890",
     "status": "completed"
    },
    "tags": []
   },
   "source": [
    "## Gene info"
   ]
  },
  {
   "cell_type": "code",
   "execution_count": 19,
   "id": "7d6bb224-88e9-4358-ac10-43a41d92cdad",
   "metadata": {
    "execution": {
     "iopub.execute_input": "2022-12-05T16:52:45.431287Z",
     "iopub.status.busy": "2022-12-05T16:52:45.430543Z",
     "iopub.status.idle": "2022-12-05T16:52:45.454640Z",
     "shell.execute_reply": "2022-12-05T16:52:45.454177Z"
    },
    "papermill": {
     "duration": 0.031421,
     "end_time": "2022-12-05T16:52:45.455752",
     "exception": false,
     "start_time": "2022-12-05T16:52:45.424331",
     "status": "completed"
    },
    "tags": []
   },
   "outputs": [],
   "source": [
    "genes_info = pd.read_pickle(OUTPUT_DIR_BASE / \"genes_info.pkl\")"
   ]
  },
  {
   "cell_type": "code",
   "execution_count": 20,
   "id": "9e32abfa-546d-483e-8c18-d526e9e05903",
   "metadata": {
    "execution": {
     "iopub.execute_input": "2022-12-05T16:52:45.467739Z",
     "iopub.status.busy": "2022-12-05T16:52:45.467275Z",
     "iopub.status.idle": "2022-12-05T16:52:45.489780Z",
     "shell.execute_reply": "2022-12-05T16:52:45.489246Z"
    },
    "papermill": {
     "duration": 0.029291,
     "end_time": "2022-12-05T16:52:45.490667",
     "exception": false,
     "start_time": "2022-12-05T16:52:45.461376",
     "status": "completed"
    },
    "tags": []
   },
   "outputs": [
    {
     "data": {
      "text/plain": [
       "(6443, 7)"
      ]
     },
     "execution_count": 20,
     "metadata": {},
     "output_type": "execute_result"
    }
   ],
   "source": [
    "genes_info.shape"
   ]
  },
  {
   "cell_type": "code",
   "execution_count": 21,
   "id": "d16c3e92-85ec-468a-9a56-e25a9774a1cb",
   "metadata": {
    "execution": {
     "iopub.execute_input": "2022-12-05T16:52:45.502740Z",
     "iopub.status.busy": "2022-12-05T16:52:45.502512Z",
     "iopub.status.idle": "2022-12-05T16:52:45.529274Z",
     "shell.execute_reply": "2022-12-05T16:52:45.528761Z"
    },
    "papermill": {
     "duration": 0.033572,
     "end_time": "2022-12-05T16:52:45.530166",
     "exception": false,
     "start_time": "2022-12-05T16:52:45.496594",
     "status": "completed"
    },
    "tags": []
   },
   "outputs": [
    {
     "data": {
      "text/html": [
       "<div>\n",
       "<style scoped>\n",
       "    .dataframe tbody tr th:only-of-type {\n",
       "        vertical-align: middle;\n",
       "    }\n",
       "\n",
       "    .dataframe tbody tr th {\n",
       "        vertical-align: top;\n",
       "    }\n",
       "\n",
       "    .dataframe thead th {\n",
       "        text-align: right;\n",
       "    }\n",
       "</style>\n",
       "<table border=\"1\" class=\"dataframe\">\n",
       "  <thead>\n",
       "    <tr style=\"text-align: right;\">\n",
       "      <th></th>\n",
       "      <th>name</th>\n",
       "      <th>id</th>\n",
       "      <th>chr</th>\n",
       "      <th>band</th>\n",
       "      <th>start_position</th>\n",
       "      <th>end_position</th>\n",
       "      <th>gene_length</th>\n",
       "    </tr>\n",
       "  </thead>\n",
       "  <tbody>\n",
       "    <tr>\n",
       "      <th>0</th>\n",
       "      <td>MRPL44</td>\n",
       "      <td>ENSG00000135900</td>\n",
       "      <td>2</td>\n",
       "      <td>2q36.1</td>\n",
       "      <td>223957463</td>\n",
       "      <td>223967714</td>\n",
       "      <td>10251</td>\n",
       "    </tr>\n",
       "    <tr>\n",
       "      <th>1</th>\n",
       "      <td>H1FX</td>\n",
       "      <td>ENSG00000184897</td>\n",
       "      <td>3</td>\n",
       "      <td>3q21.3</td>\n",
       "      <td>129314771</td>\n",
       "      <td>129316286</td>\n",
       "      <td>1515</td>\n",
       "    </tr>\n",
       "    <tr>\n",
       "      <th>2</th>\n",
       "      <td>AGRN</td>\n",
       "      <td>ENSG00000188157</td>\n",
       "      <td>1</td>\n",
       "      <td>1p36.33</td>\n",
       "      <td>1020120</td>\n",
       "      <td>1056118</td>\n",
       "      <td>35998</td>\n",
       "    </tr>\n",
       "    <tr>\n",
       "      <th>3</th>\n",
       "      <td>DNAJB2</td>\n",
       "      <td>ENSG00000135924</td>\n",
       "      <td>2</td>\n",
       "      <td>2q35</td>\n",
       "      <td>219279267</td>\n",
       "      <td>219286900</td>\n",
       "      <td>7633</td>\n",
       "    </tr>\n",
       "    <tr>\n",
       "      <th>4</th>\n",
       "      <td>PISD</td>\n",
       "      <td>ENSG00000241878</td>\n",
       "      <td>22</td>\n",
       "      <td>22q12.2</td>\n",
       "      <td>31618491</td>\n",
       "      <td>31662432</td>\n",
       "      <td>43941</td>\n",
       "    </tr>\n",
       "  </tbody>\n",
       "</table>\n",
       "</div>"
      ],
      "text/plain": [
       "     name               id  chr     band  start_position  end_position  \\\n",
       "0  MRPL44  ENSG00000135900    2   2q36.1       223957463     223967714   \n",
       "1    H1FX  ENSG00000184897    3   3q21.3       129314771     129316286   \n",
       "2    AGRN  ENSG00000188157    1  1p36.33         1020120       1056118   \n",
       "3  DNAJB2  ENSG00000135924    2     2q35       219279267     219286900   \n",
       "4    PISD  ENSG00000241878   22  22q12.2        31618491      31662432   \n",
       "\n",
       "   gene_length  \n",
       "0        10251  \n",
       "1         1515  \n",
       "2        35998  \n",
       "3         7633  \n",
       "4        43941  "
      ]
     },
     "execution_count": 21,
     "metadata": {},
     "output_type": "execute_result"
    }
   ],
   "source": [
    "genes_info.head()"
   ]
  },
  {
   "cell_type": "markdown",
   "id": "d3843e06",
   "metadata": {
    "papermill": {
     "duration": 0.005648,
     "end_time": "2022-12-05T16:52:45.541729",
     "exception": false,
     "start_time": "2022-12-05T16:52:45.536081",
     "status": "completed"
    },
    "tags": []
   },
   "source": [
    "# Compute correlations"
   ]
  },
  {
   "cell_type": "code",
   "execution_count": 22,
   "id": "cb859c15-d1f3-4006-a74c-2b83c0db9611",
   "metadata": {
    "execution": {
     "iopub.execute_input": "2022-12-05T16:52:45.553609Z",
     "iopub.status.busy": "2022-12-05T16:52:45.553071Z",
     "iopub.status.idle": "2022-12-05T16:52:45.575675Z",
     "shell.execute_reply": "2022-12-05T16:52:45.575174Z"
    },
    "papermill": {
     "duration": 0.029539,
     "end_time": "2022-12-05T16:52:45.576557",
     "exception": false,
     "start_time": "2022-12-05T16:52:45.547018",
     "status": "completed"
    },
    "tags": []
   },
   "outputs": [
    {
     "data": {
      "text/plain": [
       "PosixPath('/opt/data/projects/asthma-copd/results/gls_phenoplier/gene_corrs/asthma_only/by_chr/gene_corrs-chr13.pkl')"
      ]
     },
     "metadata": {},
     "output_type": "display_data"
    }
   ],
   "source": [
    "output_dir = OUTPUT_DIR_BASE / \"by_chr\"\n",
    "output_dir.mkdir(exist_ok=True, parents=True)\n",
    "output_file = output_dir / f\"gene_corrs-chr{CHROMOSOME}.pkl\"\n",
    "display(output_file)"
   ]
  },
  {
   "cell_type": "code",
   "execution_count": 23,
   "id": "aa674fe4-6794-4eed-98fa-32b39d1d4ace",
   "metadata": {
    "execution": {
     "iopub.execute_input": "2022-12-05T16:52:45.589039Z",
     "iopub.status.busy": "2022-12-05T16:52:45.588771Z",
     "iopub.status.idle": "2022-12-05T16:52:45.609876Z",
     "shell.execute_reply": "2022-12-05T16:52:45.609351Z"
    },
    "papermill": {
     "duration": 0.028688,
     "end_time": "2022-12-05T16:52:45.610898",
     "exception": false,
     "start_time": "2022-12-05T16:52:45.582210",
     "status": "completed"
    },
    "tags": []
   },
   "outputs": [],
   "source": [
    "warnings.filterwarnings(\"error\")"
   ]
  },
  {
   "cell_type": "code",
   "execution_count": 24,
   "id": "44d5450b-3baf-43f1-9e2e-4b06f1a785f8",
   "metadata": {
    "execution": {
     "iopub.execute_input": "2022-12-05T16:52:45.624235Z",
     "iopub.status.busy": "2022-12-05T16:52:45.623745Z",
     "iopub.status.idle": "2022-12-05T16:52:45.645831Z",
     "shell.execute_reply": "2022-12-05T16:52:45.645300Z"
    },
    "papermill": {
     "duration": 0.029296,
     "end_time": "2022-12-05T16:52:45.646877",
     "exception": false,
     "start_time": "2022-12-05T16:52:45.617581",
     "status": "completed"
    },
    "tags": []
   },
   "outputs": [],
   "source": [
    "# standard checks\n",
    "all_chrs = genes_info[\"chr\"].dropna().unique()\n",
    "assert all_chrs.shape[0] == 22\n",
    "\n",
    "# select chromosome given by the user\n",
    "assert CHROMOSOME in all_chrs"
   ]
  },
  {
   "cell_type": "code",
   "execution_count": 25,
   "id": "2d7c043c-92a7-4d35-991b-fa69ac1e0268",
   "metadata": {
    "execution": {
     "iopub.execute_input": "2022-12-05T16:52:45.659693Z",
     "iopub.status.busy": "2022-12-05T16:52:45.659186Z",
     "iopub.status.idle": "2022-12-05T16:52:45.682470Z",
     "shell.execute_reply": "2022-12-05T16:52:45.681941Z"
    },
    "papermill": {
     "duration": 0.031012,
     "end_time": "2022-12-05T16:52:45.684019",
     "exception": false,
     "start_time": "2022-12-05T16:52:45.653007",
     "status": "completed"
    },
    "tags": []
   },
   "outputs": [
    {
     "name": "stdout",
     "output_type": "stream",
     "text": [
      "Number of genes in chromosome: 118\n"
     ]
    }
   ],
   "source": [
    "# run only on the chromosome specified\n",
    "all_chrs = [CHROMOSOME]\n",
    "genes_chr = genes_info[genes_info[\"chr\"] == CHROMOSOME]\n",
    "\n",
    "# For testing purposes\n",
    "# genes_chr = genes_chr.sample(n=20)\n",
    "\n",
    "print(f\"Number of genes in chromosome: {genes_chr.shape[0]}\", flush=True)"
   ]
  },
  {
   "cell_type": "code",
   "execution_count": 26,
   "id": "916015d8-2979-46d3-a9b9-1cf5a0932c6a",
   "metadata": {
    "execution": {
     "iopub.execute_input": "2022-12-05T16:52:45.707317Z",
     "iopub.status.busy": "2022-12-05T16:52:45.707094Z",
     "iopub.status.idle": "2022-12-05T16:52:45.728784Z",
     "shell.execute_reply": "2022-12-05T16:52:45.728244Z"
    },
    "papermill": {
     "duration": 0.034828,
     "end_time": "2022-12-05T16:52:45.730260",
     "exception": false,
     "start_time": "2022-12-05T16:52:45.695432",
     "status": "completed"
    },
    "tags": []
   },
   "outputs": [],
   "source": [
    "# sort genes by starting position to make visualizations better later\n",
    "genes_chr = genes_chr.sort_values(\"start_position\")"
   ]
  },
  {
   "cell_type": "code",
   "execution_count": 27,
   "id": "a38aa74a-8ad3-47f6-8ef9-56be0e011774",
   "metadata": {
    "execution": {
     "iopub.execute_input": "2022-12-05T16:52:45.756146Z",
     "iopub.status.busy": "2022-12-05T16:52:45.755927Z",
     "iopub.status.idle": "2022-12-05T16:52:45.778130Z",
     "shell.execute_reply": "2022-12-05T16:52:45.777589Z"
    },
    "papermill": {
     "duration": 0.038206,
     "end_time": "2022-12-05T16:52:45.779704",
     "exception": false,
     "start_time": "2022-12-05T16:52:45.741498",
     "status": "completed"
    },
    "tags": []
   },
   "outputs": [],
   "source": [
    "gene_chr_objs = [Gene(ensembl_id=gene_id) for gene_id in genes_chr[\"id\"]]"
   ]
  },
  {
   "cell_type": "code",
   "execution_count": 28,
   "id": "570f974f-13c3-42b6-ad3a-ce99ca885c1a",
   "metadata": {
    "execution": {
     "iopub.execute_input": "2022-12-05T16:52:45.810521Z",
     "iopub.status.busy": "2022-12-05T16:52:45.810301Z",
     "iopub.status.idle": "2022-12-05T16:52:45.832365Z",
     "shell.execute_reply": "2022-12-05T16:52:45.831847Z"
    },
    "papermill": {
     "duration": 0.043075,
     "end_time": "2022-12-05T16:52:45.834403",
     "exception": false,
     "start_time": "2022-12-05T16:52:45.791328",
     "status": "completed"
    },
    "tags": []
   },
   "outputs": [
    {
     "name": "stdout",
     "output_type": "stream",
     "text": [
      "Number of gene combinations: 7021\n"
     ]
    }
   ],
   "source": [
    "n = len(gene_chr_objs)\n",
    "# diagonal elements + upper triangular matrix\n",
    "n_comb = n + int(n * (n - 1) / 2.0)\n",
    "print(f\"Number of gene combinations: {n_comb}\", flush=True)"
   ]
  },
  {
   "cell_type": "code",
   "execution_count": 29,
   "id": "cdbb90a1",
   "metadata": {
    "execution": {
     "iopub.execute_input": "2022-12-05T16:52:45.865911Z",
     "iopub.status.busy": "2022-12-05T16:52:45.865412Z",
     "iopub.status.idle": "2022-12-05T16:53:52.621619Z",
     "shell.execute_reply": "2022-12-05T16:53:52.621092Z"
    },
    "papermill": {
     "duration": 66.771369,
     "end_time": "2022-12-05T16:53:52.623019",
     "exception": false,
     "start_time": "2022-12-05T16:52:45.851650",
     "status": "completed"
    },
    "tags": []
   },
   "outputs": [
    {
     "name": "stderr",
     "output_type": "stream",
     "text": [
      "ENSG00000169062 / ENSG00000169062: 100%|███████████████████████| 7021/7021 [01:06<00:00, 105.23it/s]\n"
     ]
    },
    {
     "data": {
      "text/plain": [
       "PosixPath('/opt/data/projects/asthma-copd/results/gls_phenoplier/gene_corrs/asthma_only/by_chr/gene_corrs-chr13.pkl')"
      ]
     },
     "metadata": {},
     "output_type": "display_data"
    }
   ],
   "source": [
    "gene_corrs = []\n",
    "gene_corrs_data = np.full(\n",
    "    (n, n),\n",
    "    np.nan,\n",
    "    dtype=np.float64,\n",
    ")\n",
    "\n",
    "i = 0\n",
    "with tqdm(ncols=100, total=n_comb) as pbar:\n",
    "    for gene1_idx in range(0, len(gene_chr_objs)):\n",
    "        gene1_obj = gene_chr_objs[gene1_idx]\n",
    "        gene1_tissues = spredixcan_genes_models.loc[gene1_obj.ensembl_id, \"tissue\"]\n",
    "\n",
    "        for gene2_idx in range(gene1_idx, len(gene_chr_objs)):\n",
    "            gene2_obj = gene_chr_objs[gene2_idx]\n",
    "            gene2_tissues = spredixcan_genes_models.loc[gene2_obj.ensembl_id, \"tissue\"]\n",
    "\n",
    "            pbar.set_description(f\"{gene1_obj.ensembl_id} / {gene2_obj.ensembl_id}\")\n",
    "\n",
    "            try:\n",
    "                r = gene1_obj.get_ssm_correlation(\n",
    "                    other_gene=gene2_obj,\n",
    "                    tissues=gene1_tissues,\n",
    "                    other_tissues=gene2_tissues,\n",
    "                    snps_subset=gwas_variants_ids_set,\n",
    "                    condition_number=SMULTIXCAN_CONDITION_NUMBER,\n",
    "                    reference_panel=REFERENCE_PANEL,\n",
    "                    model_type=EQTL_MODEL,\n",
    "                    use_within_distance=COMPUTE_CORRELATIONS_WITHIN_DISTANCE,\n",
    "                )\n",
    "\n",
    "                if r is None:\n",
    "                    # if r is None, it's very likely because:\n",
    "                    #  * one of the genes has no prediction models\n",
    "                    #  * all the SNPs predictors for the gene are not present in the reference\n",
    "                    #    panel\n",
    "\n",
    "                    r = 0.0\n",
    "\n",
    "                gene_corrs.append(r)\n",
    "\n",
    "                gene_corrs_data[gene1_idx, gene2_idx] = r\n",
    "                gene_corrs_data[gene2_idx, gene1_idx] = r\n",
    "            except Warning as e:\n",
    "                if not DEBUG_MODE:\n",
    "                    raise e\n",
    "\n",
    "                print(\n",
    "                    f\"RuntimeWarning for genes {gene1_obj.ensembl_id} and {gene2_obj.ensembl_id}\",\n",
    "                    flush=True,\n",
    "                )\n",
    "                print(traceback.format_exc(), flush=True)\n",
    "\n",
    "                gene_corrs.append(np.nan)\n",
    "            except Exception as e:\n",
    "                if not DEBUG_MODE:\n",
    "                    raise e\n",
    "\n",
    "                print(\n",
    "                    f\"Exception for genes {gene1_obj.ensembl_id} and {gene2_obj.ensembl_id}\",\n",
    "                    flush=True,\n",
    "                )\n",
    "                print(traceback.format_exc(), flush=True)\n",
    "\n",
    "                gene_corrs.append(np.nan)\n",
    "\n",
    "            pbar.update(1)\n",
    "\n",
    "# create a pandas series\n",
    "gene_corrs_flat = pd.Series(gene_corrs)\n",
    "\n",
    "# save\n",
    "# FIXME: consider saving only the condenced matrix here. See here for\n",
    "# more details: https://github.com/greenelab/phenoplier/pull/38#discussion_r634600813\n",
    "# gene_corrs_data = squareform(np.array(gene_corrs, dtype=np.float64))\n",
    "# np.fill_diagonal(gene_corrs_data, 1.0)\n",
    "\n",
    "gene_chr_ids = [g.ensembl_id for g in gene_chr_objs]\n",
    "gene_corrs_df = pd.DataFrame(\n",
    "    data=gene_corrs_data,\n",
    "    index=gene_chr_ids,\n",
    "    columns=gene_chr_ids,\n",
    ")\n",
    "\n",
    "output_dir.mkdir(exist_ok=True, parents=True)\n",
    "display(output_file)\n",
    "\n",
    "gene_corrs_df.to_pickle(output_file)"
   ]
  },
  {
   "cell_type": "markdown",
   "id": "faa67b51-5373-470f-aa72-2ded53fa6dfe",
   "metadata": {
    "papermill": {
     "duration": 0.202312,
     "end_time": "2022-12-05T16:53:53.066296",
     "exception": false,
     "start_time": "2022-12-05T16:53:52.863984",
     "status": "completed"
    },
    "tags": []
   },
   "source": [
    "# Testing"
   ]
  },
  {
   "cell_type": "code",
   "execution_count": 30,
   "id": "14f7d046-4b55-4896-a56b-990127bcc388",
   "metadata": {
    "execution": {
     "iopub.execute_input": "2022-12-05T16:53:53.501339Z",
     "iopub.status.busy": "2022-12-05T16:53:53.500963Z",
     "iopub.status.idle": "2022-12-05T16:53:53.520156Z",
     "shell.execute_reply": "2022-12-05T16:53:53.519602Z"
    },
    "papermill": {
     "duration": 0.225226,
     "end_time": "2022-12-05T16:53:53.521047",
     "exception": false,
     "start_time": "2022-12-05T16:53:53.295821",
     "status": "completed"
    },
    "tags": []
   },
   "outputs": [
    {
     "data": {
      "text/plain": [
       "(118, 118)"
      ]
     },
     "execution_count": 30,
     "metadata": {},
     "output_type": "execute_result"
    }
   ],
   "source": [
    "gene_corrs_df.shape"
   ]
  },
  {
   "cell_type": "code",
   "execution_count": 31,
   "id": "c7d15414-3297-4537-a7c6-7588c0baeb75",
   "metadata": {
    "execution": {
     "iopub.execute_input": "2022-12-05T16:53:53.960110Z",
     "iopub.status.busy": "2022-12-05T16:53:53.959587Z",
     "iopub.status.idle": "2022-12-05T16:53:54.001979Z",
     "shell.execute_reply": "2022-12-05T16:53:54.001125Z"
    },
    "papermill": {
     "duration": 0.276623,
     "end_time": "2022-12-05T16:53:54.003015",
     "exception": false,
     "start_time": "2022-12-05T16:53:53.726392",
     "status": "completed"
    },
    "tags": []
   },
   "outputs": [
    {
     "data": {
      "text/html": [
       "<div>\n",
       "<style scoped>\n",
       "    .dataframe tbody tr th:only-of-type {\n",
       "        vertical-align: middle;\n",
       "    }\n",
       "\n",
       "    .dataframe tbody tr th {\n",
       "        vertical-align: top;\n",
       "    }\n",
       "\n",
       "    .dataframe thead th {\n",
       "        text-align: right;\n",
       "    }\n",
       "</style>\n",
       "<table border=\"1\" class=\"dataframe\">\n",
       "  <thead>\n",
       "    <tr style=\"text-align: right;\">\n",
       "      <th></th>\n",
       "      <th>ENSG00000121741</th>\n",
       "      <th>ENSG00000121743</th>\n",
       "      <th>ENSG00000121742</th>\n",
       "      <th>ENSG00000032742</th>\n",
       "      <th>ENSG00000150457</th>\n",
       "      <th>ENSG00000150459</th>\n",
       "      <th>ENSG00000102678</th>\n",
       "      <th>ENSG00000127863</th>\n",
       "      <th>ENSG00000228741</th>\n",
       "      <th>ENSG00000102699</th>\n",
       "      <th>...</th>\n",
       "      <th>ENSG00000126217</th>\n",
       "      <th>ENSG00000057593</th>\n",
       "      <th>ENSG00000126231</th>\n",
       "      <th>ENSG00000139842</th>\n",
       "      <th>ENSG00000185896</th>\n",
       "      <th>ENSG00000198176</th>\n",
       "      <th>ENSG00000183087</th>\n",
       "      <th>ENSG00000185989</th>\n",
       "      <th>ENSG00000130177</th>\n",
       "      <th>ENSG00000169062</th>\n",
       "    </tr>\n",
       "  </thead>\n",
       "  <tbody>\n",
       "    <tr>\n",
       "      <th>ENSG00000121741</th>\n",
       "      <td>1.000000</td>\n",
       "      <td>0.012097</td>\n",
       "      <td>0.011184</td>\n",
       "      <td>0.002933</td>\n",
       "      <td>0.002772</td>\n",
       "      <td>0.004460</td>\n",
       "      <td>0.004328</td>\n",
       "      <td>0.008426</td>\n",
       "      <td>0.008153</td>\n",
       "      <td>0.005306</td>\n",
       "      <td>...</td>\n",
       "      <td>0.0</td>\n",
       "      <td>0.0</td>\n",
       "      <td>0.0</td>\n",
       "      <td>0.0</td>\n",
       "      <td>0.0</td>\n",
       "      <td>0.0</td>\n",
       "      <td>0.0</td>\n",
       "      <td>0.0</td>\n",
       "      <td>0.0</td>\n",
       "      <td>0.0</td>\n",
       "    </tr>\n",
       "    <tr>\n",
       "      <th>ENSG00000121743</th>\n",
       "      <td>0.012097</td>\n",
       "      <td>1.000000</td>\n",
       "      <td>0.028466</td>\n",
       "      <td>0.009301</td>\n",
       "      <td>0.013014</td>\n",
       "      <td>0.006442</td>\n",
       "      <td>0.003147</td>\n",
       "      <td>0.008373</td>\n",
       "      <td>0.006775</td>\n",
       "      <td>0.006577</td>\n",
       "      <td>...</td>\n",
       "      <td>0.0</td>\n",
       "      <td>0.0</td>\n",
       "      <td>0.0</td>\n",
       "      <td>0.0</td>\n",
       "      <td>0.0</td>\n",
       "      <td>0.0</td>\n",
       "      <td>0.0</td>\n",
       "      <td>0.0</td>\n",
       "      <td>0.0</td>\n",
       "      <td>0.0</td>\n",
       "    </tr>\n",
       "    <tr>\n",
       "      <th>ENSG00000121742</th>\n",
       "      <td>0.011184</td>\n",
       "      <td>0.028466</td>\n",
       "      <td>1.000000</td>\n",
       "      <td>0.010330</td>\n",
       "      <td>0.005040</td>\n",
       "      <td>0.008485</td>\n",
       "      <td>0.006706</td>\n",
       "      <td>0.012004</td>\n",
       "      <td>0.009493</td>\n",
       "      <td>0.004909</td>\n",
       "      <td>...</td>\n",
       "      <td>0.0</td>\n",
       "      <td>0.0</td>\n",
       "      <td>0.0</td>\n",
       "      <td>0.0</td>\n",
       "      <td>0.0</td>\n",
       "      <td>0.0</td>\n",
       "      <td>0.0</td>\n",
       "      <td>0.0</td>\n",
       "      <td>0.0</td>\n",
       "      <td>0.0</td>\n",
       "    </tr>\n",
       "    <tr>\n",
       "      <th>ENSG00000032742</th>\n",
       "      <td>0.002933</td>\n",
       "      <td>0.009301</td>\n",
       "      <td>0.010330</td>\n",
       "      <td>1.000000</td>\n",
       "      <td>0.017363</td>\n",
       "      <td>0.008018</td>\n",
       "      <td>0.005442</td>\n",
       "      <td>0.007502</td>\n",
       "      <td>0.008291</td>\n",
       "      <td>0.006997</td>\n",
       "      <td>...</td>\n",
       "      <td>0.0</td>\n",
       "      <td>0.0</td>\n",
       "      <td>0.0</td>\n",
       "      <td>0.0</td>\n",
       "      <td>0.0</td>\n",
       "      <td>0.0</td>\n",
       "      <td>0.0</td>\n",
       "      <td>0.0</td>\n",
       "      <td>0.0</td>\n",
       "      <td>0.0</td>\n",
       "    </tr>\n",
       "    <tr>\n",
       "      <th>ENSG00000150457</th>\n",
       "      <td>0.002772</td>\n",
       "      <td>0.013014</td>\n",
       "      <td>0.005040</td>\n",
       "      <td>0.017363</td>\n",
       "      <td>1.000000</td>\n",
       "      <td>0.005581</td>\n",
       "      <td>0.009922</td>\n",
       "      <td>0.014383</td>\n",
       "      <td>0.005669</td>\n",
       "      <td>0.005084</td>\n",
       "      <td>...</td>\n",
       "      <td>0.0</td>\n",
       "      <td>0.0</td>\n",
       "      <td>0.0</td>\n",
       "      <td>0.0</td>\n",
       "      <td>0.0</td>\n",
       "      <td>0.0</td>\n",
       "      <td>0.0</td>\n",
       "      <td>0.0</td>\n",
       "      <td>0.0</td>\n",
       "      <td>0.0</td>\n",
       "    </tr>\n",
       "  </tbody>\n",
       "</table>\n",
       "<p>5 rows × 118 columns</p>\n",
       "</div>"
      ],
      "text/plain": [
       "                 ENSG00000121741  ENSG00000121743  ENSG00000121742  \\\n",
       "ENSG00000121741         1.000000         0.012097         0.011184   \n",
       "ENSG00000121743         0.012097         1.000000         0.028466   \n",
       "ENSG00000121742         0.011184         0.028466         1.000000   \n",
       "ENSG00000032742         0.002933         0.009301         0.010330   \n",
       "ENSG00000150457         0.002772         0.013014         0.005040   \n",
       "\n",
       "                 ENSG00000032742  ENSG00000150457  ENSG00000150459  \\\n",
       "ENSG00000121741         0.002933         0.002772         0.004460   \n",
       "ENSG00000121743         0.009301         0.013014         0.006442   \n",
       "ENSG00000121742         0.010330         0.005040         0.008485   \n",
       "ENSG00000032742         1.000000         0.017363         0.008018   \n",
       "ENSG00000150457         0.017363         1.000000         0.005581   \n",
       "\n",
       "                 ENSG00000102678  ENSG00000127863  ENSG00000228741  \\\n",
       "ENSG00000121741         0.004328         0.008426         0.008153   \n",
       "ENSG00000121743         0.003147         0.008373         0.006775   \n",
       "ENSG00000121742         0.006706         0.012004         0.009493   \n",
       "ENSG00000032742         0.005442         0.007502         0.008291   \n",
       "ENSG00000150457         0.009922         0.014383         0.005669   \n",
       "\n",
       "                 ENSG00000102699  ...  ENSG00000126217  ENSG00000057593  \\\n",
       "ENSG00000121741         0.005306  ...              0.0              0.0   \n",
       "ENSG00000121743         0.006577  ...              0.0              0.0   \n",
       "ENSG00000121742         0.004909  ...              0.0              0.0   \n",
       "ENSG00000032742         0.006997  ...              0.0              0.0   \n",
       "ENSG00000150457         0.005084  ...              0.0              0.0   \n",
       "\n",
       "                 ENSG00000126231  ENSG00000139842  ENSG00000185896  \\\n",
       "ENSG00000121741              0.0              0.0              0.0   \n",
       "ENSG00000121743              0.0              0.0              0.0   \n",
       "ENSG00000121742              0.0              0.0              0.0   \n",
       "ENSG00000032742              0.0              0.0              0.0   \n",
       "ENSG00000150457              0.0              0.0              0.0   \n",
       "\n",
       "                 ENSG00000198176  ENSG00000183087  ENSG00000185989  \\\n",
       "ENSG00000121741              0.0              0.0              0.0   \n",
       "ENSG00000121743              0.0              0.0              0.0   \n",
       "ENSG00000121742              0.0              0.0              0.0   \n",
       "ENSG00000032742              0.0              0.0              0.0   \n",
       "ENSG00000150457              0.0              0.0              0.0   \n",
       "\n",
       "                 ENSG00000130177  ENSG00000169062  \n",
       "ENSG00000121741              0.0              0.0  \n",
       "ENSG00000121743              0.0              0.0  \n",
       "ENSG00000121742              0.0              0.0  \n",
       "ENSG00000032742              0.0              0.0  \n",
       "ENSG00000150457              0.0              0.0  \n",
       "\n",
       "[5 rows x 118 columns]"
      ]
     },
     "execution_count": 31,
     "metadata": {},
     "output_type": "execute_result"
    }
   ],
   "source": [
    "gene_corrs_df.head()"
   ]
  },
  {
   "cell_type": "markdown",
   "id": "dad6603f-01c6-41fb-a6f6-241051207dd8",
   "metadata": {
    "papermill": {
     "duration": 0.203005,
     "end_time": "2022-12-05T16:53:54.411992",
     "exception": false,
     "start_time": "2022-12-05T16:53:54.208987",
     "status": "completed"
    },
    "tags": []
   },
   "source": [
    "## Standard checks and stats"
   ]
  },
  {
   "cell_type": "code",
   "execution_count": 32,
   "id": "286686af-1b7b-4440-8453-6bdcbd8de19c",
   "metadata": {
    "execution": {
     "iopub.execute_input": "2022-12-05T16:53:54.845508Z",
     "iopub.status.busy": "2022-12-05T16:53:54.845126Z",
     "iopub.status.idle": "2022-12-05T16:53:54.870102Z",
     "shell.execute_reply": "2022-12-05T16:53:54.869244Z"
    },
    "papermill": {
     "duration": 0.22917,
     "end_time": "2022-12-05T16:53:54.871302",
     "exception": false,
     "start_time": "2022-12-05T16:53:54.642132",
     "status": "completed"
    },
    "tags": []
   },
   "outputs": [],
   "source": [
    "assert not gene_corrs_df.isna().any(axis=None)"
   ]
  },
  {
   "cell_type": "code",
   "execution_count": 33,
   "id": "00583efc-7068-4270-ad1e-4a418e91db96",
   "metadata": {
    "execution": {
     "iopub.execute_input": "2022-12-05T16:53:55.310655Z",
     "iopub.status.busy": "2022-12-05T16:53:55.310249Z",
     "iopub.status.idle": "2022-12-05T16:53:55.335692Z",
     "shell.execute_reply": "2022-12-05T16:53:55.334996Z"
    },
    "papermill": {
     "duration": 0.260098,
     "end_time": "2022-12-05T16:53:55.336814",
     "exception": false,
     "start_time": "2022-12-05T16:53:55.076716",
     "status": "completed"
    },
    "tags": []
   },
   "outputs": [
    {
     "data": {
      "text/plain": [
       "0.0"
      ]
     },
     "metadata": {},
     "output_type": "display_data"
    }
   ],
   "source": [
    "_min_val = gene_corrs_df.min().min()\n",
    "display(_min_val)\n",
    "assert _min_val >= -0.05"
   ]
  },
  {
   "cell_type": "code",
   "execution_count": 34,
   "id": "d04fb2cf-1050-475b-b855-f5f7cc04092b",
   "metadata": {
    "execution": {
     "iopub.execute_input": "2022-12-05T16:53:55.748159Z",
     "iopub.status.busy": "2022-12-05T16:53:55.747779Z",
     "iopub.status.idle": "2022-12-05T16:53:55.772548Z",
     "shell.execute_reply": "2022-12-05T16:53:55.771765Z"
    },
    "papermill": {
     "duration": 0.229883,
     "end_time": "2022-12-05T16:53:55.773598",
     "exception": false,
     "start_time": "2022-12-05T16:53:55.543715",
     "status": "completed"
    },
    "tags": []
   },
   "outputs": [
    {
     "data": {
      "text/plain": [
       "1.0000000000000029"
      ]
     },
     "metadata": {},
     "output_type": "display_data"
    }
   ],
   "source": [
    "_max_val = gene_corrs_df.max().max()  # this captures the diagonal\n",
    "display(_max_val)\n",
    "assert _max_val <= 1.05"
   ]
  },
  {
   "cell_type": "code",
   "execution_count": 35,
   "id": "fe283586-c348-40e0-8841-f6d97bfb021c",
   "metadata": {
    "execution": {
     "iopub.execute_input": "2022-12-05T16:53:56.208180Z",
     "iopub.status.busy": "2022-12-05T16:53:56.207796Z",
     "iopub.status.idle": "2022-12-05T16:53:56.234467Z",
     "shell.execute_reply": "2022-12-05T16:53:56.233999Z"
    },
    "papermill": {
     "duration": 0.258768,
     "end_time": "2022-12-05T16:53:56.235397",
     "exception": false,
     "start_time": "2022-12-05T16:53:55.976629",
     "status": "completed"
    },
    "tags": []
   },
   "outputs": [
    {
     "data": {
      "text/plain": [
       "count    7021.000000\n",
       "mean        0.020925\n",
       "std         0.133208\n",
       "min         0.000000\n",
       "25%         0.000000\n",
       "50%         0.000000\n",
       "75%         0.000000\n",
       "max         1.000000\n",
       "dtype: float64"
      ]
     },
     "execution_count": 35,
     "metadata": {},
     "output_type": "execute_result"
    }
   ],
   "source": [
    "gene_corrs_flat.describe()"
   ]
  },
  {
   "cell_type": "code",
   "execution_count": 36,
   "id": "b3815678-0f93-4b35-897b-a9d047a2aa78",
   "metadata": {
    "execution": {
     "iopub.execute_input": "2022-12-05T16:53:56.649752Z",
     "iopub.status.busy": "2022-12-05T16:53:56.649401Z",
     "iopub.status.idle": "2022-12-05T16:53:56.675333Z",
     "shell.execute_reply": "2022-12-05T16:53:56.674687Z"
    },
    "papermill": {
     "duration": 0.234897,
     "end_time": "2022-12-05T16:53:56.676654",
     "exception": false,
     "start_time": "2022-12-05T16:53:56.441757",
     "status": "completed"
    },
    "tags": []
   },
   "outputs": [
    {
     "data": {
      "text/plain": [
       "0.00    0.000000\n",
       "0.05    0.000000\n",
       "0.10    0.000000\n",
       "0.15    0.000000\n",
       "0.20    0.000000\n",
       "0.25    0.000000\n",
       "0.30    0.000000\n",
       "0.35    0.000000\n",
       "0.40    0.000000\n",
       "0.45    0.000000\n",
       "0.50    0.000000\n",
       "0.55    0.000000\n",
       "0.60    0.000000\n",
       "0.65    0.000000\n",
       "0.70    0.000000\n",
       "0.75    0.000000\n",
       "0.80    0.000000\n",
       "0.85    0.001942\n",
       "0.90    0.006573\n",
       "0.95    0.011050\n",
       "dtype: float64"
      ]
     },
     "metadata": {},
     "output_type": "display_data"
    }
   ],
   "source": [
    "gene_corrs_quantiles = gene_corrs_flat.quantile(np.arange(0, 1, 0.05))\n",
    "display(gene_corrs_quantiles)"
   ]
  },
  {
   "cell_type": "markdown",
   "id": "87134509-b145-4a10-8bc9-b7e914c2b0fa",
   "metadata": {
    "papermill": {
     "duration": 0.206232,
     "end_time": "2022-12-05T16:53:57.126968",
     "exception": false,
     "start_time": "2022-12-05T16:53:56.920736",
     "status": "completed"
    },
    "tags": []
   },
   "source": [
    "## Positive definiteness"
   ]
  },
  {
   "cell_type": "code",
   "execution_count": 37,
   "id": "07d9a9a1-a4f7-48aa-b916-6d42a8cc6186",
   "metadata": {
    "execution": {
     "iopub.execute_input": "2022-12-05T16:53:57.564700Z",
     "iopub.status.busy": "2022-12-05T16:53:57.564312Z",
     "iopub.status.idle": "2022-12-05T16:53:57.591742Z",
     "shell.execute_reply": "2022-12-05T16:53:57.591293Z"
    },
    "papermill": {
     "duration": 0.26035,
     "end_time": "2022-12-05T16:53:57.592622",
     "exception": false,
     "start_time": "2022-12-05T16:53:57.332272",
     "status": "completed"
    },
    "tags": []
   },
   "outputs": [
    {
     "data": {
      "text/plain": [
       "0"
      ]
     },
     "metadata": {},
     "output_type": "display_data"
    },
    {
     "data": {
      "text/plain": [
       "array([], dtype=float64)"
      ]
     },
     "metadata": {},
     "output_type": "display_data"
    }
   ],
   "source": [
    "# print negative eigenvalues\n",
    "eigs = np.linalg.eigvals(gene_corrs_df.to_numpy())\n",
    "display(len(eigs[eigs < 0]))\n",
    "display(eigs[eigs < 0])"
   ]
  },
  {
   "cell_type": "code",
   "execution_count": 38,
   "id": "6e218436-c3c5-4028-8c94-a4fa6260efce",
   "metadata": {
    "execution": {
     "iopub.execute_input": "2022-12-05T16:53:58.027240Z",
     "iopub.status.busy": "2022-12-05T16:53:58.026935Z",
     "iopub.status.idle": "2022-12-05T16:53:58.051416Z",
     "shell.execute_reply": "2022-12-05T16:53:58.050789Z"
    },
    "papermill": {
     "duration": 0.239848,
     "end_time": "2022-12-05T16:53:58.052373",
     "exception": false,
     "start_time": "2022-12-05T16:53:57.812525",
     "status": "completed"
    },
    "tags": []
   },
   "outputs": [
    {
     "name": "stdout",
     "output_type": "stream",
     "text": [
      "Works!\n"
     ]
    }
   ],
   "source": [
    "try:\n",
    "    chol_mat = np.linalg.cholesky(gene_corrs_df.to_numpy())\n",
    "    cov_inv = np.linalg.inv(chol_mat)\n",
    "    print(\"Works!\")\n",
    "except Exception as e:\n",
    "    print(f\"Cholesky decomposition failed: {str(e)}\")"
   ]
  },
  {
   "cell_type": "code",
   "execution_count": 39,
   "id": "dd8827fb-faf9-4c7c-9454-015e94752706",
   "metadata": {
    "execution": {
     "iopub.execute_input": "2022-12-05T16:53:58.488284Z",
     "iopub.status.busy": "2022-12-05T16:53:58.487932Z",
     "iopub.status.idle": "2022-12-05T16:53:58.503302Z",
     "shell.execute_reply": "2022-12-05T16:53:58.502852Z"
    },
    "papermill": {
     "duration": 0.220149,
     "end_time": "2022-12-05T16:53:58.504522",
     "exception": false,
     "start_time": "2022-12-05T16:53:58.284373",
     "status": "completed"
    },
    "tags": []
   },
   "outputs": [
    {
     "name": "stdout",
     "output_type": "stream",
     "text": [
      "Works!\n"
     ]
    }
   ],
   "source": [
    "try:\n",
    "    # decomposition used by statsmodels.GLS\n",
    "    cholsigmainv = np.linalg.cholesky(np.linalg.inv(gene_corrs_df.to_numpy())).T\n",
    "    print(\"Works!\")\n",
    "except Exception as e:\n",
    "    print(f\"Cholesky decomposition failed (statsmodels.GLS): {str(e)}\")"
   ]
  },
  {
   "cell_type": "markdown",
   "id": "8e60a080-edb2-4e9c-b2ef-22961693200c",
   "metadata": {
    "papermill": {
     "duration": 0.248006,
     "end_time": "2022-12-05T16:53:58.983059",
     "exception": false,
     "start_time": "2022-12-05T16:53:58.735053",
     "status": "completed"
    },
    "tags": []
   },
   "source": [
    "## Plot: distribution"
   ]
  },
  {
   "cell_type": "code",
   "execution_count": 40,
   "id": "8301126b-a7d4-4744-9c7d-f0f86eb6f54c",
   "metadata": {
    "execution": {
     "iopub.execute_input": "2022-12-05T16:53:59.392365Z",
     "iopub.status.busy": "2022-12-05T16:53:59.392131Z",
     "iopub.status.idle": "2022-12-05T16:53:59.600251Z",
     "shell.execute_reply": "2022-12-05T16:53:59.599778Z"
    },
    "papermill": {
     "duration": 0.413495,
     "end_time": "2022-12-05T16:53:59.601228",
     "exception": false,
     "start_time": "2022-12-05T16:53:59.187733",
     "status": "completed"
    },
    "tags": []
   },
   "outputs": [
    {
     "data": {
      "image/png": "[encoded data removed]",
      "text/plain": [
       "<Figure size 700x700 with 1 Axes>"
      ]
     },
     "metadata": {},
     "output_type": "display_data"
    }
   ],
   "source": [
    "with sns.plotting_context(\"paper\", font_scale=1.5):\n",
    "    g = sns.displot(gene_corrs_flat, kde=True, height=7)\n",
    "    g.ax.set_title(\n",
    "        f\"Distribution of gene correlation values in chromosome {CHROMOSOME}\"\n",
    "    )"
   ]
  },
  {
   "cell_type": "markdown",
   "id": "cbd52bca-d878-4a2f-b684-5c83aa3038d4",
   "metadata": {
    "papermill": {
     "duration": 0.203755,
     "end_time": "2022-12-05T16:54:00.038213",
     "exception": false,
     "start_time": "2022-12-05T16:53:59.834458",
     "status": "completed"
    },
    "tags": []
   },
   "source": [
    "## Plot: heatmap"
   ]
  },
  {
   "cell_type": "code",
   "execution_count": 41,
   "id": "d03fe63a-c7b2-4fb9-a53c-db362ce843c9",
   "metadata": {
    "execution": {
     "iopub.execute_input": "2022-12-05T16:54:00.474907Z",
     "iopub.status.busy": "2022-12-05T16:54:00.474319Z",
     "iopub.status.idle": "2022-12-05T16:54:00.491741Z",
     "shell.execute_reply": "2022-12-05T16:54:00.491338Z"
    },
    "papermill": {
     "duration": 0.252099,
     "end_time": "2022-12-05T16:54:00.492553",
     "exception": false,
     "start_time": "2022-12-05T16:54:00.240454",
     "status": "completed"
    },
    "tags": []
   },
   "outputs": [
    {
     "data": {
      "text/plain": [
       "'0.0 / 0.05'"
      ]
     },
     "metadata": {},
     "output_type": "display_data"
    }
   ],
   "source": [
    "vmin_val = min(0.00, gene_corrs_quantiles[0.10])\n",
    "vmax_val = max(0.05, gene_corrs_quantiles[0.90])\n",
    "display(f\"{vmin_val} / {vmax_val}\")"
   ]
  },
  {
   "cell_type": "code",
   "execution_count": 42,
   "id": "dc41b70b-5bcc-4d9e-9f33-a22c4a94dab5",
   "metadata": {
    "execution": {
     "iopub.execute_input": "2022-12-05T16:54:00.909071Z",
     "iopub.status.busy": "2022-12-05T16:54:00.908542Z",
     "iopub.status.idle": "2022-12-05T16:54:01.056669Z",
     "shell.execute_reply": "2022-12-05T16:54:01.056201Z"
    },
    "papermill": {
     "duration": 0.363073,
     "end_time": "2022-12-05T16:54:01.057650",
     "exception": false,
     "start_time": "2022-12-05T16:54:00.694577",
     "status": "completed"
    },
    "tags": []
   },
   "outputs": [
    {
     "data": {
      "text/plain": [
       "Text(0.5, 1.0, 'Gene correlations in chromosome 13')"
      ]
     },
     "execution_count": 42,
     "metadata": {},
     "output_type": "execute_result"
    },
    {
     "data": {
      "image/png": "[encoded data removed]",
      "text/plain": [
       "<Figure size 1000x1000 with 2 Axes>"
      ]
     },
     "metadata": {},
     "output_type": "display_data"
    }
   ],
   "source": [
    "f, ax = plt.subplots(figsize=(10, 10))\n",
    "sns.heatmap(\n",
    "    gene_corrs_df,\n",
    "    xticklabels=False,\n",
    "    yticklabels=False,\n",
    "    square=True,\n",
    "    vmin=vmin_val,\n",
    "    vmax=vmax_val,\n",
    "    cmap=\"rocket_r\",\n",
    "    ax=ax,\n",
    ")\n",
    "ax.set_title(f\"Gene correlations in chromosome {CHROMOSOME}\")"
   ]
  },
  {
   "cell_type": "code",
   "execution_count": null,
   "id": "b25e3ead",
   "metadata": {
    "papermill": {
     "duration": 0.205453,
     "end_time": "2022-12-05T16:54:01.514481",
     "exception": false,
     "start_time": "2022-12-05T16:54:01.309028",
     "status": "completed"
    },
    "tags": []
   },
   "outputs": [],
   "source": []
  }
 ],
 "metadata": {
  "jupytext": {
   "cell_metadata_filter": "all,-execution,-papermill,-trusted",
   "formats": "ipynb,py//py:percent"
  },
  "kernelspec": {
   "display_name": "Python 3 (ipykernel)",
   "language": "python",
   "name": "python3"
  },
  "language_info": {
   "codemirror_mode": {
    "name": "ipython",
    "version": 3
   },
   "file_extension": ".py",
   "mimetype": "text/x-python",
   "name": "python",
   "nbconvert_exporter": "python",
   "pygments_lexer": "ipython3",
   "version": "3.10.6"
  },
  "papermill": {
   "default_parameters": {},
   "duration": 84.392379,
   "end_time": "2022-12-05T16:54:04.488632",
   "environment_variables": {},
   "exception": null,
   "input_path": "projects/asthma-copd/nbs/20_gene_corrs/jobs/05-gene_expr_correlations.ipynb",
   "output_path": "projects/asthma-copd/nbs/20_gene_corrs/jobs/../output/asthma_only/05-gene_expr_correlations-chr13.run.ipynb",
   "parameters": {
    "CHROMOSOME": 13,
    "COHORT_NAME": "asthma_only",
    "OUTPUT_DIR_BASE": "/opt/data/projects/asthma-copd/results/gls_phenoplier",
    "PHENOPLIER_NOTEBOOK_FILEPATH": "projects/asthma-copd/nbs/20_gene_corrs/jobs/05-gene_expr_correlations.ipynb"
   },
   "start_time": "2022-12-05T16:52:40.096253",
   "version": "2.2.2"
  }
 },
 "nbformat": 4,
 "nbformat_minor": 5
}
