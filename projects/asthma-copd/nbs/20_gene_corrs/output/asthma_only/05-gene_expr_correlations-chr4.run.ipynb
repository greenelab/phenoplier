{
 "cells": [
  {
   "cell_type": "markdown",
   "id": "7a6632fb",
   "metadata": {
    "papermill": {
     "duration": 0.006766,
     "end_time": "2022-12-15T17:49:22.950041",
     "exception": false,
     "start_time": "2022-12-15T17:49:22.943275",
     "status": "completed"
    },
    "tags": []
   },
   "source": [
    "# Description"
   ]
  },
  {
   "cell_type": "markdown",
   "id": "7097c346",
   "metadata": {
    "papermill": {
     "duration": 0.003906,
     "end_time": "2022-12-15T17:49:22.960496",
     "exception": false,
     "start_time": "2022-12-15T17:49:22.956590",
     "status": "completed"
    },
    "tags": []
   },
   "source": [
    "(Please, take a look at the README.md file in this directory for instructions on how to run this notebook)\n",
    "\n",
    "This notebook computes predicted expression correlations between all genes in the MultiPLIER models.\n",
    "\n",
    "It has specicfic parameters for papermill (see under `Settings` below).\n",
    "It can be configured to run on a single chromosome to run in parallel.\n",
    "\n",
    "This notebook is not directly run. See README.md."
   ]
  },
  {
   "cell_type": "markdown",
   "id": "c61d8427",
   "metadata": {
    "papermill": {
     "duration": 0.003837,
     "end_time": "2022-12-15T17:49:22.968200",
     "exception": false,
     "start_time": "2022-12-15T17:49:22.964363",
     "status": "completed"
    },
    "tags": []
   },
   "source": [
    "# Modules"
   ]
  },
  {
   "cell_type": "code",
   "execution_count": 1,
   "id": "bbc0234f",
   "metadata": {
    "execution": {
     "iopub.execute_input": "2022-12-15T17:49:22.977903Z",
     "iopub.status.busy": "2022-12-15T17:49:22.977500Z",
     "iopub.status.idle": "2022-12-15T17:49:22.996465Z",
     "shell.execute_reply": "2022-12-15T17:49:22.995772Z"
    },
    "papermill": {
     "duration": 0.024851,
     "end_time": "2022-12-15T17:49:22.997404",
     "exception": false,
     "start_time": "2022-12-15T17:49:22.972553",
     "status": "completed"
    },
    "tags": []
   },
   "outputs": [],
   "source": [
    "%load_ext autoreload\n",
    "%autoreload 2"
   ]
  },
  {
   "cell_type": "code",
   "execution_count": 2,
   "id": "1d5f5a59",
   "metadata": {
    "execution": {
     "iopub.execute_input": "2022-12-15T17:49:23.006566Z",
     "iopub.status.busy": "2022-12-15T17:49:23.006181Z",
     "iopub.status.idle": "2022-12-15T17:49:23.937611Z",
     "shell.execute_reply": "2022-12-15T17:49:23.937153Z"
    },
    "papermill": {
     "duration": 0.937609,
     "end_time": "2022-12-15T17:49:23.939153",
     "exception": false,
     "start_time": "2022-12-15T17:49:23.001544",
     "status": "completed"
    },
    "tags": []
   },
   "outputs": [],
   "source": [
    "from random import sample, seed\n",
    "import warnings\n",
    "from pathlib import Path\n",
    "import pickle\n",
    "import traceback\n",
    "\n",
    "import numpy as np\n",
    "from scipy.spatial.distance import squareform\n",
    "import pandas as pd\n",
    "from tqdm import tqdm\n",
    "import matplotlib.pyplot as plt\n",
    "import seaborn as sns\n",
    "\n",
    "import conf\n",
    "from entity import Gene"
   ]
  },
  {
   "cell_type": "markdown",
   "id": "1eac24b5",
   "metadata": {
    "papermill": {
     "duration": 0.007432,
     "end_time": "2022-12-15T17:49:23.954245",
     "exception": false,
     "start_time": "2022-12-15T17:49:23.946813",
     "status": "completed"
    },
    "tags": []
   },
   "source": [
    "# Settings"
   ]
  },
  {
   "cell_type": "code",
   "execution_count": 3,
   "id": "ca4560ba",
   "metadata": {
    "execution": {
     "iopub.execute_input": "2022-12-15T17:49:23.967233Z",
     "iopub.status.busy": "2022-12-15T17:49:23.966903Z",
     "iopub.status.idle": "2022-12-15T17:49:23.993543Z",
     "shell.execute_reply": "2022-12-15T17:49:23.993147Z"
    },
    "papermill": {
     "duration": 0.03376,
     "end_time": "2022-12-15T17:49:23.994964",
     "exception": false,
     "start_time": "2022-12-15T17:49:23.961204",
     "status": "completed"
    },
    "tags": [
     "parameters"
    ]
   },
   "outputs": [],
   "source": [
    "# a cohort name (it could be something like UK_BIOBANK, etc)\n",
    "COHORT_NAME = None\n",
    "\n",
    "# reference panel such as 1000G or GTEX_V8\n",
    "REFERENCE_PANEL = \"GTEX_V8\"\n",
    "\n",
    "# predictions models such as MASHR or ELASTIC_NET\n",
    "EQTL_MODEL = \"MASHR\"\n",
    "\n",
    "# this is the default value used in S-MultiXcan to select the\n",
    "# top principal components of the expression correlation matrix\n",
    "SMULTIXCAN_CONDITION_NUMBER = 30\n",
    "\n",
    "# specifies a single chromosome value\n",
    "CHROMOSOME = None\n",
    "\n",
    "# If True, computes the correlation between closeby genes only (see\n",
    "# entity.Gene.within_distance for more details). Otherwise, it computes\n",
    "# correlations for all genes in a chromosome\n",
    "COMPUTE_CORRELATIONS_WITHIN_DISTANCE = True\n",
    "\n",
    "# if True, then it will continue if a gene pair correlation fails,\n",
    "# printing the warning/error for debugging. If False, any warning/error\n",
    "# will be thrown\n",
    "DEBUG_MODE = False\n",
    "\n",
    "# output dir\n",
    "OUTPUT_DIR_BASE = None"
   ]
  },
  {
   "cell_type": "code",
   "execution_count": 4,
   "id": "0d2c7856",
   "metadata": {
    "execution": {
     "iopub.execute_input": "2022-12-15T17:49:24.009609Z",
     "iopub.status.busy": "2022-12-15T17:49:24.009220Z",
     "iopub.status.idle": "2022-12-15T17:49:24.035194Z",
     "shell.execute_reply": "2022-12-15T17:49:24.034845Z"
    },
    "papermill": {
     "duration": 0.033709,
     "end_time": "2022-12-15T17:49:24.036606",
     "exception": false,
     "start_time": "2022-12-15T17:49:24.002897",
     "status": "completed"
    },
    "tags": [
     "injected-parameters"
    ]
   },
   "outputs": [],
   "source": [
    "# Parameters\n",
    "PHENOPLIER_NOTEBOOK_FILEPATH = (\n",
    "    \"projects/asthma-copd/nbs/20_gene_corrs/jobs/05-gene_expr_correlations.ipynb\"\n",
    ")\n",
    "COHORT_NAME = \"asthma_only\"\n",
    "CHROMOSOME = 4\n",
    "OUTPUT_DIR_BASE = \"/opt/data/projects/asthma-copd/results/gls_phenoplier\"\n"
   ]
  },
  {
   "cell_type": "code",
   "execution_count": 5,
   "id": "3190631f-27fc-480f-b18e-571d580425a5",
   "metadata": {
    "execution": {
     "iopub.execute_input": "2022-12-15T17:49:24.052057Z",
     "iopub.status.busy": "2022-12-15T17:49:24.051628Z",
     "iopub.status.idle": "2022-12-15T17:49:24.093691Z",
     "shell.execute_reply": "2022-12-15T17:49:24.093047Z"
    },
    "papermill": {
     "duration": 0.050288,
     "end_time": "2022-12-15T17:49:24.094702",
     "exception": false,
     "start_time": "2022-12-15T17:49:24.044414",
     "status": "completed"
    },
    "tags": []
   },
   "outputs": [
    {
     "data": {
      "text/plain": [
       "'Cohort name: asthma_only'"
      ]
     },
     "metadata": {},
     "output_type": "display_data"
    }
   ],
   "source": [
    "assert COHORT_NAME is not None and len(COHORT_NAME) > 0, \"A cohort name must be given\"\n",
    "\n",
    "COHORT_NAME = COHORT_NAME.lower()\n",
    "display(f\"Cohort name: {COHORT_NAME}\")"
   ]
  },
  {
   "cell_type": "code",
   "execution_count": 6,
   "id": "f53ba19b-0f93-4fa2-a047-63b375939d1a",
   "metadata": {
    "execution": {
     "iopub.execute_input": "2022-12-15T17:49:24.105377Z",
     "iopub.status.busy": "2022-12-15T17:49:24.104994Z",
     "iopub.status.idle": "2022-12-15T17:49:24.128949Z",
     "shell.execute_reply": "2022-12-15T17:49:24.128407Z"
    },
    "papermill": {
     "duration": 0.030778,
     "end_time": "2022-12-15T17:49:24.130195",
     "exception": false,
     "start_time": "2022-12-15T17:49:24.099417",
     "status": "completed"
    },
    "tags": []
   },
   "outputs": [
    {
     "data": {
      "text/plain": [
       "'Reference panel: GTEX_V8'"
      ]
     },
     "metadata": {},
     "output_type": "display_data"
    }
   ],
   "source": [
    "assert (\n",
    "    REFERENCE_PANEL is not None and len(REFERENCE_PANEL) > 0\n",
    "), \"A reference panel must be given\"\n",
    "\n",
    "display(f\"Reference panel: {REFERENCE_PANEL}\")"
   ]
  },
  {
   "cell_type": "code",
   "execution_count": 7,
   "id": "e024d130-c139-429a-9c6e-ccf149e297b0",
   "metadata": {
    "execution": {
     "iopub.execute_input": "2022-12-15T17:49:24.140585Z",
     "iopub.status.busy": "2022-12-15T17:49:24.140275Z",
     "iopub.status.idle": "2022-12-15T17:49:24.167281Z",
     "shell.execute_reply": "2022-12-15T17:49:24.166764Z"
    },
    "papermill": {
     "duration": 0.033322,
     "end_time": "2022-12-15T17:49:24.168461",
     "exception": false,
     "start_time": "2022-12-15T17:49:24.135139",
     "status": "completed"
    },
    "tags": []
   },
   "outputs": [
    {
     "data": {
      "text/plain": [
       "'eQTL model: MASHR) / mashr_'"
      ]
     },
     "metadata": {},
     "output_type": "display_data"
    }
   ],
   "source": [
    "assert (\n",
    "    EQTL_MODEL is not None and len(EQTL_MODEL) > 0\n",
    "), \"A prediction/eQTL model must be given\"\n",
    "\n",
    "EQTL_MODEL_FILES_PREFIX = conf.PHENOMEXCAN[\"PREDICTION_MODELS\"][f\"{EQTL_MODEL}_PREFIX\"]\n",
    "display(f\"eQTL model: {EQTL_MODEL}) / {EQTL_MODEL_FILES_PREFIX}\")"
   ]
  },
  {
   "cell_type": "code",
   "execution_count": 8,
   "id": "552a7f63-a18c-4d3e-bb6a-94f99b431291",
   "metadata": {
    "execution": {
     "iopub.execute_input": "2022-12-15T17:49:24.178536Z",
     "iopub.status.busy": "2022-12-15T17:49:24.178325Z",
     "iopub.status.idle": "2022-12-15T17:49:24.202931Z",
     "shell.execute_reply": "2022-12-15T17:49:24.202567Z"
    },
    "papermill": {
     "duration": 0.030746,
     "end_time": "2022-12-15T17:49:24.203917",
     "exception": false,
     "start_time": "2022-12-15T17:49:24.173171",
     "status": "completed"
    },
    "tags": []
   },
   "outputs": [
    {
     "data": {
      "text/plain": [
       "'S-MultiXcan condition number: 30'"
      ]
     },
     "metadata": {},
     "output_type": "display_data"
    }
   ],
   "source": [
    "assert (\n",
    "    SMULTIXCAN_CONDITION_NUMBER is not None and SMULTIXCAN_CONDITION_NUMBER > 0\n",
    "), \"The S-MultiXcan condition number (positive integer) must be given\"\n",
    "\n",
    "display(f\"S-MultiXcan condition number: {SMULTIXCAN_CONDITION_NUMBER}\")"
   ]
  },
  {
   "cell_type": "code",
   "execution_count": 9,
   "id": "f34a336f-548e-4afe-8955-90eaea4f42c6",
   "metadata": {
    "execution": {
     "iopub.execute_input": "2022-12-15T17:49:24.220999Z",
     "iopub.status.busy": "2022-12-15T17:49:24.220770Z",
     "iopub.status.idle": "2022-12-15T17:49:24.245051Z",
     "shell.execute_reply": "2022-12-15T17:49:24.244544Z"
    },
    "papermill": {
     "duration": 0.03416,
     "end_time": "2022-12-15T17:49:24.246203",
     "exception": false,
     "start_time": "2022-12-15T17:49:24.212043",
     "status": "completed"
    },
    "tags": []
   },
   "outputs": [
    {
     "data": {
      "text/plain": [
       "'Working on chromosome 4'"
      ]
     },
     "metadata": {},
     "output_type": "display_data"
    }
   ],
   "source": [
    "assert CHROMOSOME is not None and (\n",
    "    1 <= CHROMOSOME <= 22\n",
    "), \"You have to select one chromosome (format: number between 1 and 22)\"\n",
    "\n",
    "display(f\"Working on chromosome {CHROMOSOME}\")"
   ]
  },
  {
   "cell_type": "code",
   "execution_count": 10,
   "id": "ab8e96e8-06b5-4363-9dcd-dc4d78cc27f7",
   "metadata": {
    "execution": {
     "iopub.execute_input": "2022-12-15T17:49:24.263510Z",
     "iopub.status.busy": "2022-12-15T17:49:24.263174Z",
     "iopub.status.idle": "2022-12-15T17:49:24.291080Z",
     "shell.execute_reply": "2022-12-15T17:49:24.290325Z"
    },
    "papermill": {
     "duration": 0.037999,
     "end_time": "2022-12-15T17:49:24.292127",
     "exception": false,
     "start_time": "2022-12-15T17:49:24.254128",
     "status": "completed"
    },
    "tags": []
   },
   "outputs": [
    {
     "data": {
      "text/plain": [
       "'Compute correlation within distance True'"
      ]
     },
     "metadata": {},
     "output_type": "display_data"
    }
   ],
   "source": [
    "display(f\"Compute correlation within distance {COMPUTE_CORRELATIONS_WITHIN_DISTANCE}\")"
   ]
  },
  {
   "cell_type": "code",
   "execution_count": 11,
   "id": "b393b698-77e3-4ba2-8ac1-e14d51aa988f",
   "metadata": {
    "execution": {
     "iopub.execute_input": "2022-12-15T17:49:24.308059Z",
     "iopub.status.busy": "2022-12-15T17:49:24.307647Z",
     "iopub.status.idle": "2022-12-15T17:49:24.332995Z",
     "shell.execute_reply": "2022-12-15T17:49:24.332581Z"
    },
    "papermill": {
     "duration": 0.034109,
     "end_time": "2022-12-15T17:49:24.334669",
     "exception": false,
     "start_time": "2022-12-15T17:49:24.300560",
     "status": "completed"
    },
    "tags": []
   },
   "outputs": [
    {
     "data": {
      "text/plain": [
       "'Using output dir base: /opt/data/projects/asthma-copd/results/gls_phenoplier/gene_corrs/asthma_only'"
      ]
     },
     "metadata": {},
     "output_type": "display_data"
    }
   ],
   "source": [
    "assert (\n",
    "    OUTPUT_DIR_BASE is not None and len(OUTPUT_DIR_BASE) > 0\n",
    "), \"Output directory path must be given\"\n",
    "\n",
    "OUTPUT_DIR_BASE = (Path(OUTPUT_DIR_BASE) / \"gene_corrs\" / COHORT_NAME).resolve()\n",
    "\n",
    "OUTPUT_DIR_BASE.mkdir(parents=True, exist_ok=True)\n",
    "\n",
    "display(f\"Using output dir base: {OUTPUT_DIR_BASE}\")"
   ]
  },
  {
   "cell_type": "markdown",
   "id": "d2ba085e",
   "metadata": {
    "papermill": {
     "duration": 0.008607,
     "end_time": "2022-12-15T17:49:24.353001",
     "exception": false,
     "start_time": "2022-12-15T17:49:24.344394",
     "status": "completed"
    },
    "tags": []
   },
   "source": [
    "# Load data"
   ]
  },
  {
   "cell_type": "markdown",
   "id": "7dcb8db7",
   "metadata": {
    "papermill": {
     "duration": 0.008698,
     "end_time": "2022-12-15T17:49:24.370546",
     "exception": false,
     "start_time": "2022-12-15T17:49:24.361848",
     "status": "completed"
    },
    "tags": []
   },
   "source": [
    "## GWAS variants"
   ]
  },
  {
   "cell_type": "code",
   "execution_count": 12,
   "id": "29434c4e-8cd3-4b9b-82e4-b5a251d9dd19",
   "metadata": {
    "execution": {
     "iopub.execute_input": "2022-12-15T17:49:24.388798Z",
     "iopub.status.busy": "2022-12-15T17:49:24.388530Z",
     "iopub.status.idle": "2022-12-15T17:49:27.530019Z",
     "shell.execute_reply": "2022-12-15T17:49:27.529334Z"
    },
    "papermill": {
     "duration": 3.15366,
     "end_time": "2022-12-15T17:49:27.532699",
     "exception": false,
     "start_time": "2022-12-15T17:49:24.379039",
     "status": "completed"
    },
    "tags": []
   },
   "outputs": [],
   "source": [
    "with open(OUTPUT_DIR_BASE / \"gwas_variant_ids.pkl\", \"rb\") as handle:\n",
    "    gwas_variants_ids_set = pickle.load(handle)"
   ]
  },
  {
   "cell_type": "code",
   "execution_count": 13,
   "id": "b9d9dec2-4a76-4bf9-bde2-e24c95acb8a0",
   "metadata": {
    "execution": {
     "iopub.execute_input": "2022-12-15T17:49:27.554677Z",
     "iopub.status.busy": "2022-12-15T17:49:27.554287Z",
     "iopub.status.idle": "2022-12-15T17:49:27.576981Z",
     "shell.execute_reply": "2022-12-15T17:49:27.576431Z"
    },
    "papermill": {
     "duration": 0.03484,
     "end_time": "2022-12-15T17:49:27.578141",
     "exception": false,
     "start_time": "2022-12-15T17:49:27.543301",
     "status": "completed"
    },
    "tags": []
   },
   "outputs": [
    {
     "data": {
      "text/plain": [
       "8578486"
      ]
     },
     "execution_count": 13,
     "metadata": {},
     "output_type": "execute_result"
    }
   ],
   "source": [
    "len(gwas_variants_ids_set)"
   ]
  },
  {
   "cell_type": "code",
   "execution_count": 14,
   "id": "4235b06a-6034-4ee4-a0a3-2ae35d122418",
   "metadata": {
    "execution": {
     "iopub.execute_input": "2022-12-15T17:49:27.590686Z",
     "iopub.status.busy": "2022-12-15T17:49:27.590355Z",
     "iopub.status.idle": "2022-12-15T17:49:30.179467Z",
     "shell.execute_reply": "2022-12-15T17:49:30.178899Z"
    },
    "papermill": {
     "duration": 2.596883,
     "end_time": "2022-12-15T17:49:30.181018",
     "exception": false,
     "start_time": "2022-12-15T17:49:27.584135",
     "status": "completed"
    },
    "tags": []
   },
   "outputs": [
    {
     "data": {
      "text/plain": [
       "['chr12_57211019_A_G_b38',\n",
       " 'chr11_27229339_G_A_b38',\n",
       " 'chr3_11188210_T_C_b38',\n",
       " 'chr4_85249270_A_T_b38',\n",
       " 'chr4_180120756_T_C_b38']"
      ]
     },
     "execution_count": 14,
     "metadata": {},
     "output_type": "execute_result"
    }
   ],
   "source": [
    "list(gwas_variants_ids_set)[:5]"
   ]
  },
  {
   "cell_type": "markdown",
   "id": "07866999-2305-41f9-a144-e69c9122c212",
   "metadata": {
    "papermill": {
     "duration": 0.008198,
     "end_time": "2022-12-15T17:49:30.198039",
     "exception": false,
     "start_time": "2022-12-15T17:49:30.189841",
     "status": "completed"
    },
    "tags": []
   },
   "source": [
    "## S-PrediXcan tissue models"
   ]
  },
  {
   "cell_type": "code",
   "execution_count": 15,
   "id": "780611d9-77c8-405f-90a4-f271f7b09397",
   "metadata": {
    "execution": {
     "iopub.execute_input": "2022-12-15T17:49:30.215861Z",
     "iopub.status.busy": "2022-12-15T17:49:30.215547Z",
     "iopub.status.idle": "2022-12-15T17:49:30.806697Z",
     "shell.execute_reply": "2022-12-15T17:49:30.806322Z"
    },
    "papermill": {
     "duration": 0.601466,
     "end_time": "2022-12-15T17:49:30.808230",
     "exception": false,
     "start_time": "2022-12-15T17:49:30.206764",
     "status": "completed"
    },
    "tags": []
   },
   "outputs": [],
   "source": [
    "spredixcan_genes_models = pd.read_pickle(OUTPUT_DIR_BASE / \"gene_tissues.pkl\")"
   ]
  },
  {
   "cell_type": "code",
   "execution_count": 16,
   "id": "726dd1f6-9557-4225-91fa-b3b879ea96e1",
   "metadata": {
    "execution": {
     "iopub.execute_input": "2022-12-15T17:49:30.839308Z",
     "iopub.status.busy": "2022-12-15T17:49:30.839095Z",
     "iopub.status.idle": "2022-12-15T17:49:30.856754Z",
     "shell.execute_reply": "2022-12-15T17:49:30.856220Z"
    },
    "papermill": {
     "duration": 0.036138,
     "end_time": "2022-12-15T17:49:30.857773",
     "exception": false,
     "start_time": "2022-12-15T17:49:30.821635",
     "status": "completed"
    },
    "tags": []
   },
   "outputs": [
    {
     "data": {
      "text/plain": [
       "(6443, 5)"
      ]
     },
     "execution_count": 16,
     "metadata": {},
     "output_type": "execute_result"
    }
   ],
   "source": [
    "spredixcan_genes_models.shape"
   ]
  },
  {
   "cell_type": "code",
   "execution_count": 17,
   "id": "944a1b48-222c-4eb0-b252-b9de2cbca215",
   "metadata": {
    "execution": {
     "iopub.execute_input": "2022-12-15T17:49:30.869817Z",
     "iopub.status.busy": "2022-12-15T17:49:30.869321Z",
     "iopub.status.idle": "2022-12-15T17:49:30.895813Z",
     "shell.execute_reply": "2022-12-15T17:49:30.895379Z"
    },
    "papermill": {
     "duration": 0.033595,
     "end_time": "2022-12-15T17:49:30.896749",
     "exception": false,
     "start_time": "2022-12-15T17:49:30.863154",
     "status": "completed"
    },
    "tags": []
   },
   "outputs": [
    {
     "data": {
      "text/html": [
       "<div>\n",
       "<style scoped>\n",
       "    .dataframe tbody tr th:only-of-type {\n",
       "        vertical-align: middle;\n",
       "    }\n",
       "\n",
       "    .dataframe tbody tr th {\n",
       "        vertical-align: top;\n",
       "    }\n",
       "\n",
       "    .dataframe thead th {\n",
       "        text-align: right;\n",
       "    }\n",
       "</style>\n",
       "<table border=\"1\" class=\"dataframe\">\n",
       "  <thead>\n",
       "    <tr style=\"text-align: right;\">\n",
       "      <th></th>\n",
       "      <th>gene_name</th>\n",
       "      <th>tissue</th>\n",
       "      <th>n_tissues</th>\n",
       "      <th>n_snps_used_sum</th>\n",
       "      <th>n_snps_in_model_sum</th>\n",
       "    </tr>\n",
       "    <tr>\n",
       "      <th>gene_id</th>\n",
       "      <th></th>\n",
       "      <th></th>\n",
       "      <th></th>\n",
       "      <th></th>\n",
       "      <th></th>\n",
       "    </tr>\n",
       "  </thead>\n",
       "  <tbody>\n",
       "    <tr>\n",
       "      <th>ENSG00000000419</th>\n",
       "      <td>DPM1</td>\n",
       "      <td>(Brain_Hypothalamus, Brain_Substantia_nigra)</td>\n",
       "      <td>2</td>\n",
       "      <td>2</td>\n",
       "      <td>2</td>\n",
       "    </tr>\n",
       "    <tr>\n",
       "      <th>ENSG00000000938</th>\n",
       "      <td>FGR</td>\n",
       "      <td>(Esophagus_Mucosa, Pancreas, Testis, Prostate,...</td>\n",
       "      <td>36</td>\n",
       "      <td>40</td>\n",
       "      <td>40</td>\n",
       "    </tr>\n",
       "    <tr>\n",
       "      <th>ENSG00000000971</th>\n",
       "      <td>CFH</td>\n",
       "      <td>(Heart_Atrial_Appendage, Testis, Brain_Substan...</td>\n",
       "      <td>34</td>\n",
       "      <td>44</td>\n",
       "      <td>44</td>\n",
       "    </tr>\n",
       "    <tr>\n",
       "      <th>ENSG00000001084</th>\n",
       "      <td>GCLC</td>\n",
       "      <td>(Heart_Atrial_Appendage, Pancreas, Testis, Bra...</td>\n",
       "      <td>32</td>\n",
       "      <td>46</td>\n",
       "      <td>46</td>\n",
       "    </tr>\n",
       "    <tr>\n",
       "      <th>ENSG00000001167</th>\n",
       "      <td>NFYA</td>\n",
       "      <td>(Heart_Atrial_Appendage, Esophagus_Mucosa, Tes...</td>\n",
       "      <td>40</td>\n",
       "      <td>47</td>\n",
       "      <td>48</td>\n",
       "    </tr>\n",
       "  </tbody>\n",
       "</table>\n",
       "</div>"
      ],
      "text/plain": [
       "                gene_name                                             tissue  \\\n",
       "gene_id                                                                        \n",
       "ENSG00000000419      DPM1       (Brain_Hypothalamus, Brain_Substantia_nigra)   \n",
       "ENSG00000000938       FGR  (Esophagus_Mucosa, Pancreas, Testis, Prostate,...   \n",
       "ENSG00000000971       CFH  (Heart_Atrial_Appendage, Testis, Brain_Substan...   \n",
       "ENSG00000001084      GCLC  (Heart_Atrial_Appendage, Pancreas, Testis, Bra...   \n",
       "ENSG00000001167      NFYA  (Heart_Atrial_Appendage, Esophagus_Mucosa, Tes...   \n",
       "\n",
       "                 n_tissues  n_snps_used_sum  n_snps_in_model_sum  \n",
       "gene_id                                                           \n",
       "ENSG00000000419          2                2                    2  \n",
       "ENSG00000000938         36               40                   40  \n",
       "ENSG00000000971         34               44                   44  \n",
       "ENSG00000001084         32               46                   46  \n",
       "ENSG00000001167         40               47                   48  "
      ]
     },
     "execution_count": 17,
     "metadata": {},
     "output_type": "execute_result"
    }
   ],
   "source": [
    "spredixcan_genes_models.head()"
   ]
  },
  {
   "cell_type": "code",
   "execution_count": 18,
   "id": "d1c11bb1-be0b-4f40-b360-633d6827109f",
   "metadata": {
    "execution": {
     "iopub.execute_input": "2022-12-15T17:49:30.914089Z",
     "iopub.status.busy": "2022-12-15T17:49:30.913887Z",
     "iopub.status.idle": "2022-12-15T17:49:30.934175Z",
     "shell.execute_reply": "2022-12-15T17:49:30.933477Z"
    },
    "papermill": {
     "duration": 0.031411,
     "end_time": "2022-12-15T17:49:30.935263",
     "exception": false,
     "start_time": "2022-12-15T17:49:30.903852",
     "status": "completed"
    },
    "tags": []
   },
   "outputs": [],
   "source": [
    "assert spredixcan_genes_models.index.is_unique"
   ]
  },
  {
   "cell_type": "markdown",
   "id": "a5b5092c-a13e-47c4-a92a-480fcc08f3ae",
   "metadata": {
    "papermill": {
     "duration": 0.005082,
     "end_time": "2022-12-15T17:49:30.945754",
     "exception": false,
     "start_time": "2022-12-15T17:49:30.940672",
     "status": "completed"
    },
    "tags": []
   },
   "source": [
    "## Gene info"
   ]
  },
  {
   "cell_type": "code",
   "execution_count": 19,
   "id": "7d6bb224-88e9-4358-ac10-43a41d92cdad",
   "metadata": {
    "execution": {
     "iopub.execute_input": "2022-12-15T17:49:30.957354Z",
     "iopub.status.busy": "2022-12-15T17:49:30.957124Z",
     "iopub.status.idle": "2022-12-15T17:49:30.986597Z",
     "shell.execute_reply": "2022-12-15T17:49:30.985950Z"
    },
    "papermill": {
     "duration": 0.036789,
     "end_time": "2022-12-15T17:49:30.987762",
     "exception": false,
     "start_time": "2022-12-15T17:49:30.950973",
     "status": "completed"
    },
    "tags": []
   },
   "outputs": [],
   "source": [
    "genes_info = pd.read_pickle(OUTPUT_DIR_BASE / \"genes_info.pkl\")"
   ]
  },
  {
   "cell_type": "code",
   "execution_count": 20,
   "id": "9e32abfa-546d-483e-8c18-d526e9e05903",
   "metadata": {
    "execution": {
     "iopub.execute_input": "2022-12-15T17:49:31.017614Z",
     "iopub.status.busy": "2022-12-15T17:49:31.017106Z",
     "iopub.status.idle": "2022-12-15T17:49:31.047445Z",
     "shell.execute_reply": "2022-12-15T17:49:31.046899Z"
    },
    "papermill": {
     "duration": 0.047937,
     "end_time": "2022-12-15T17:49:31.048641",
     "exception": false,
     "start_time": "2022-12-15T17:49:31.000704",
     "status": "completed"
    },
    "tags": []
   },
   "outputs": [
    {
     "data": {
      "text/plain": [
       "(6443, 7)"
      ]
     },
     "execution_count": 20,
     "metadata": {},
     "output_type": "execute_result"
    }
   ],
   "source": [
    "genes_info.shape"
   ]
  },
  {
   "cell_type": "code",
   "execution_count": 21,
   "id": "d16c3e92-85ec-468a-9a56-e25a9774a1cb",
   "metadata": {
    "execution": {
     "iopub.execute_input": "2022-12-15T17:49:31.060456Z",
     "iopub.status.busy": "2022-12-15T17:49:31.060055Z",
     "iopub.status.idle": "2022-12-15T17:49:31.081970Z",
     "shell.execute_reply": "2022-12-15T17:49:31.081413Z"
    },
    "papermill": {
     "duration": 0.029099,
     "end_time": "2022-12-15T17:49:31.083187",
     "exception": false,
     "start_time": "2022-12-15T17:49:31.054088",
     "status": "completed"
    },
    "tags": []
   },
   "outputs": [
    {
     "data": {
      "text/html": [
       "<div>\n",
       "<style scoped>\n",
       "    .dataframe tbody tr th:only-of-type {\n",
       "        vertical-align: middle;\n",
       "    }\n",
       "\n",
       "    .dataframe tbody tr th {\n",
       "        vertical-align: top;\n",
       "    }\n",
       "\n",
       "    .dataframe thead th {\n",
       "        text-align: right;\n",
       "    }\n",
       "</style>\n",
       "<table border=\"1\" class=\"dataframe\">\n",
       "  <thead>\n",
       "    <tr style=\"text-align: right;\">\n",
       "      <th></th>\n",
       "      <th>name</th>\n",
       "      <th>id</th>\n",
       "      <th>chr</th>\n",
       "      <th>band</th>\n",
       "      <th>start_position</th>\n",
       "      <th>end_position</th>\n",
       "      <th>gene_length</th>\n",
       "    </tr>\n",
       "  </thead>\n",
       "  <tbody>\n",
       "    <tr>\n",
       "      <th>0</th>\n",
       "      <td>PSMB9</td>\n",
       "      <td>ENSG00000240065</td>\n",
       "      <td>6</td>\n",
       "      <td>6p21.32</td>\n",
       "      <td>32844136</td>\n",
       "      <td>32859851</td>\n",
       "      <td>15715</td>\n",
       "    </tr>\n",
       "    <tr>\n",
       "      <th>1</th>\n",
       "      <td>EEF1D</td>\n",
       "      <td>ENSG00000104529</td>\n",
       "      <td>8</td>\n",
       "      <td>8q24.3</td>\n",
       "      <td>143579697</td>\n",
       "      <td>143599541</td>\n",
       "      <td>19844</td>\n",
       "    </tr>\n",
       "    <tr>\n",
       "      <th>2</th>\n",
       "      <td>NFKBIL1</td>\n",
       "      <td>ENSG00000204498</td>\n",
       "      <td>6</td>\n",
       "      <td>6p21.33</td>\n",
       "      <td>31546870</td>\n",
       "      <td>31558829</td>\n",
       "      <td>11959</td>\n",
       "    </tr>\n",
       "    <tr>\n",
       "      <th>3</th>\n",
       "      <td>SGSH</td>\n",
       "      <td>ENSG00000181523</td>\n",
       "      <td>17</td>\n",
       "      <td>17q25.3</td>\n",
       "      <td>80206716</td>\n",
       "      <td>80220923</td>\n",
       "      <td>14207</td>\n",
       "    </tr>\n",
       "    <tr>\n",
       "      <th>4</th>\n",
       "      <td>KLF6</td>\n",
       "      <td>ENSG00000067082</td>\n",
       "      <td>10</td>\n",
       "      <td>10p15.2</td>\n",
       "      <td>3775996</td>\n",
       "      <td>3785281</td>\n",
       "      <td>9285</td>\n",
       "    </tr>\n",
       "  </tbody>\n",
       "</table>\n",
       "</div>"
      ],
      "text/plain": [
       "      name               id  chr     band  start_position  end_position  \\\n",
       "0    PSMB9  ENSG00000240065    6  6p21.32        32844136      32859851   \n",
       "1    EEF1D  ENSG00000104529    8   8q24.3       143579697     143599541   \n",
       "2  NFKBIL1  ENSG00000204498    6  6p21.33        31546870      31558829   \n",
       "3     SGSH  ENSG00000181523   17  17q25.3        80206716      80220923   \n",
       "4     KLF6  ENSG00000067082   10  10p15.2         3775996       3785281   \n",
       "\n",
       "   gene_length  \n",
       "0        15715  \n",
       "1        19844  \n",
       "2        11959  \n",
       "3        14207  \n",
       "4         9285  "
      ]
     },
     "execution_count": 21,
     "metadata": {},
     "output_type": "execute_result"
    }
   ],
   "source": [
    "genes_info.head()"
   ]
  },
  {
   "cell_type": "markdown",
   "id": "d3843e06",
   "metadata": {
    "papermill": {
     "duration": 0.008379,
     "end_time": "2022-12-15T17:49:31.099902",
     "exception": false,
     "start_time": "2022-12-15T17:49:31.091523",
     "status": "completed"
    },
    "tags": []
   },
   "source": [
    "# Compute correlations"
   ]
  },
  {
   "cell_type": "code",
   "execution_count": 22,
   "id": "cb859c15-d1f3-4006-a74c-2b83c0db9611",
   "metadata": {
    "execution": {
     "iopub.execute_input": "2022-12-15T17:49:31.115764Z",
     "iopub.status.busy": "2022-12-15T17:49:31.115371Z",
     "iopub.status.idle": "2022-12-15T17:49:31.150445Z",
     "shell.execute_reply": "2022-12-15T17:49:31.149731Z"
    },
    "papermill": {
     "duration": 0.043348,
     "end_time": "2022-12-15T17:49:31.151825",
     "exception": false,
     "start_time": "2022-12-15T17:49:31.108477",
     "status": "completed"
    },
    "tags": []
   },
   "outputs": [
    {
     "data": {
      "text/plain": [
       "PosixPath('/opt/data/projects/asthma-copd/results/gls_phenoplier/gene_corrs/asthma_only/by_chr/gene_corrs-chr4.pkl')"
      ]
     },
     "metadata": {},
     "output_type": "display_data"
    }
   ],
   "source": [
    "output_dir = OUTPUT_DIR_BASE / \"by_chr\"\n",
    "output_dir.mkdir(exist_ok=True, parents=True)\n",
    "output_file = output_dir / f\"gene_corrs-chr{CHROMOSOME}.pkl\"\n",
    "display(output_file)"
   ]
  },
  {
   "cell_type": "code",
   "execution_count": 23,
   "id": "aa674fe4-6794-4eed-98fa-32b39d1d4ace",
   "metadata": {
    "execution": {
     "iopub.execute_input": "2022-12-15T17:49:31.167873Z",
     "iopub.status.busy": "2022-12-15T17:49:31.167240Z",
     "iopub.status.idle": "2022-12-15T17:49:31.203427Z",
     "shell.execute_reply": "2022-12-15T17:49:31.202726Z"
    },
    "papermill": {
     "duration": 0.044592,
     "end_time": "2022-12-15T17:49:31.204619",
     "exception": false,
     "start_time": "2022-12-15T17:49:31.160027",
     "status": "completed"
    },
    "tags": []
   },
   "outputs": [],
   "source": [
    "warnings.filterwarnings(\"error\")"
   ]
  },
  {
   "cell_type": "code",
   "execution_count": 24,
   "id": "44d5450b-3baf-43f1-9e2e-4b06f1a785f8",
   "metadata": {
    "execution": {
     "iopub.execute_input": "2022-12-15T17:49:31.217983Z",
     "iopub.status.busy": "2022-12-15T17:49:31.217395Z",
     "iopub.status.idle": "2022-12-15T17:49:31.242861Z",
     "shell.execute_reply": "2022-12-15T17:49:31.242451Z"
    },
    "papermill": {
     "duration": 0.033381,
     "end_time": "2022-12-15T17:49:31.243950",
     "exception": false,
     "start_time": "2022-12-15T17:49:31.210569",
     "status": "completed"
    },
    "tags": []
   },
   "outputs": [],
   "source": [
    "# standard checks\n",
    "all_chrs = genes_info[\"chr\"].dropna().unique()\n",
    "assert all_chrs.shape[0] == 22\n",
    "\n",
    "# select chromosome given by the user\n",
    "assert CHROMOSOME in all_chrs"
   ]
  },
  {
   "cell_type": "code",
   "execution_count": 25,
   "id": "2d7c043c-92a7-4d35-991b-fa69ac1e0268",
   "metadata": {
    "execution": {
     "iopub.execute_input": "2022-12-15T17:49:31.257811Z",
     "iopub.status.busy": "2022-12-15T17:49:31.257432Z",
     "iopub.status.idle": "2022-12-15T17:49:31.278942Z",
     "shell.execute_reply": "2022-12-15T17:49:31.278626Z"
    },
    "papermill": {
     "duration": 0.030169,
     "end_time": "2022-12-15T17:49:31.280069",
     "exception": false,
     "start_time": "2022-12-15T17:49:31.249900",
     "status": "completed"
    },
    "tags": []
   },
   "outputs": [
    {
     "name": "stdout",
     "output_type": "stream",
     "text": [
      "Number of genes in chromosome: 244\n"
     ]
    }
   ],
   "source": [
    "# run only on the chromosome specified\n",
    "all_chrs = [CHROMOSOME]\n",
    "genes_chr = genes_info[genes_info[\"chr\"] == CHROMOSOME]\n",
    "\n",
    "# For testing purposes\n",
    "# genes_chr = genes_chr.sample(n=20)\n",
    "\n",
    "print(f\"Number of genes in chromosome: {genes_chr.shape[0]}\", flush=True)"
   ]
  },
  {
   "cell_type": "code",
   "execution_count": 26,
   "id": "916015d8-2979-46d3-a9b9-1cf5a0932c6a",
   "metadata": {
    "execution": {
     "iopub.execute_input": "2022-12-15T17:49:31.298945Z",
     "iopub.status.busy": "2022-12-15T17:49:31.298554Z",
     "iopub.status.idle": "2022-12-15T17:49:31.326139Z",
     "shell.execute_reply": "2022-12-15T17:49:31.325481Z"
    },
    "papermill": {
     "duration": 0.03913,
     "end_time": "2022-12-15T17:49:31.328055",
     "exception": false,
     "start_time": "2022-12-15T17:49:31.288925",
     "status": "completed"
    },
    "tags": []
   },
   "outputs": [],
   "source": [
    "# sort genes by starting position to make visualizations better later\n",
    "genes_chr = genes_chr.sort_values(\"start_position\")"
   ]
  },
  {
   "cell_type": "code",
   "execution_count": 27,
   "id": "a38aa74a-8ad3-47f6-8ef9-56be0e011774",
   "metadata": {
    "execution": {
     "iopub.execute_input": "2022-12-15T17:49:31.357877Z",
     "iopub.status.busy": "2022-12-15T17:49:31.357665Z",
     "iopub.status.idle": "2022-12-15T17:49:31.374348Z",
     "shell.execute_reply": "2022-12-15T17:49:31.373936Z"
    },
    "papermill": {
     "duration": 0.036326,
     "end_time": "2022-12-15T17:49:31.375813",
     "exception": false,
     "start_time": "2022-12-15T17:49:31.339487",
     "status": "completed"
    },
    "tags": []
   },
   "outputs": [],
   "source": [
    "gene_chr_objs = [Gene(ensembl_id=gene_id) for gene_id in genes_chr[\"id\"]]"
   ]
  },
  {
   "cell_type": "code",
   "execution_count": 28,
   "id": "570f974f-13c3-42b6-ad3a-ce99ca885c1a",
   "metadata": {
    "execution": {
     "iopub.execute_input": "2022-12-15T17:49:31.395440Z",
     "iopub.status.busy": "2022-12-15T17:49:31.395154Z",
     "iopub.status.idle": "2022-12-15T17:49:31.418349Z",
     "shell.execute_reply": "2022-12-15T17:49:31.417821Z"
    },
    "papermill": {
     "duration": 0.034894,
     "end_time": "2022-12-15T17:49:31.419445",
     "exception": false,
     "start_time": "2022-12-15T17:49:31.384551",
     "status": "completed"
    },
    "tags": []
   },
   "outputs": [
    {
     "name": "stdout",
     "output_type": "stream",
     "text": [
      "Number of gene combinations: 29890\n"
     ]
    }
   ],
   "source": [
    "n = len(gene_chr_objs)\n",
    "# diagonal elements + upper triangular matrix\n",
    "n_comb = n + int(n * (n - 1) / 2.0)\n",
    "print(f\"Number of gene combinations: {n_comb}\", flush=True)"
   ]
  },
  {
   "cell_type": "code",
   "execution_count": 29,
   "id": "cdbb90a1",
   "metadata": {
    "execution": {
     "iopub.execute_input": "2022-12-15T17:49:31.438297Z",
     "iopub.status.busy": "2022-12-15T17:49:31.438123Z",
     "iopub.status.idle": "2022-12-15T17:52:30.357478Z",
     "shell.execute_reply": "2022-12-15T17:52:30.357084Z"
    },
    "papermill": {
     "duration": 178.930009,
     "end_time": "2022-12-15T17:52:30.358444",
     "exception": false,
     "start_time": "2022-12-15T17:49:31.428435",
     "status": "completed"
    },
    "tags": []
   },
   "outputs": [
    {
     "name": "stderr",
     "output_type": "stream",
     "text": [
      "ENSG00000109536 / ENSG00000109536: 100%|█████████████████████| 29890/29890 [02:58<00:00, 167.11it/s]\n"
     ]
    },
    {
     "data": {
      "text/plain": [
       "PosixPath('/opt/data/projects/asthma-copd/results/gls_phenoplier/gene_corrs/asthma_only/by_chr/gene_corrs-chr4.pkl')"
      ]
     },
     "metadata": {},
     "output_type": "display_data"
    }
   ],
   "source": [
    "gene_corrs = []\n",
    "gene_corrs_data = np.full(\n",
    "    (n, n),\n",
    "    np.nan,\n",
    "    dtype=np.float64,\n",
    ")\n",
    "\n",
    "i = 0\n",
    "with tqdm(ncols=100, total=n_comb) as pbar:\n",
    "    for gene1_idx in range(0, len(gene_chr_objs)):\n",
    "        gene1_obj = gene_chr_objs[gene1_idx]\n",
    "        gene1_tissues = spredixcan_genes_models.loc[gene1_obj.ensembl_id, \"tissue\"]\n",
    "\n",
    "        for gene2_idx in range(gene1_idx, len(gene_chr_objs)):\n",
    "            gene2_obj = gene_chr_objs[gene2_idx]\n",
    "            gene2_tissues = spredixcan_genes_models.loc[gene2_obj.ensembl_id, \"tissue\"]\n",
    "\n",
    "            pbar.set_description(f\"{gene1_obj.ensembl_id} / {gene2_obj.ensembl_id}\")\n",
    "\n",
    "            try:\n",
    "                r = gene1_obj.get_ssm_correlation(\n",
    "                    other_gene=gene2_obj,\n",
    "                    tissues=gene1_tissues,\n",
    "                    other_tissues=gene2_tissues,\n",
    "                    snps_subset=gwas_variants_ids_set,\n",
    "                    condition_number=SMULTIXCAN_CONDITION_NUMBER,\n",
    "                    reference_panel=REFERENCE_PANEL,\n",
    "                    model_type=EQTL_MODEL,\n",
    "                    use_within_distance=COMPUTE_CORRELATIONS_WITHIN_DISTANCE,\n",
    "                )\n",
    "\n",
    "                if r is None:\n",
    "                    # if r is None, it's very likely because:\n",
    "                    #  * one of the genes has no prediction models\n",
    "                    #  * all the SNPs predictors for the gene are not present in the reference\n",
    "                    #    panel\n",
    "\n",
    "                    r = 0.0\n",
    "\n",
    "                gene_corrs.append(r)\n",
    "\n",
    "                gene_corrs_data[gene1_idx, gene2_idx] = r\n",
    "                gene_corrs_data[gene2_idx, gene1_idx] = r\n",
    "            except Warning as e:\n",
    "                if not DEBUG_MODE:\n",
    "                    raise e\n",
    "\n",
    "                print(\n",
    "                    f\"RuntimeWarning for genes {gene1_obj.ensembl_id} and {gene2_obj.ensembl_id}\",\n",
    "                    flush=True,\n",
    "                )\n",
    "                print(traceback.format_exc(), flush=True)\n",
    "\n",
    "                gene_corrs.append(np.nan)\n",
    "            except Exception as e:\n",
    "                if not DEBUG_MODE:\n",
    "                    raise e\n",
    "\n",
    "                print(\n",
    "                    f\"Exception for genes {gene1_obj.ensembl_id} and {gene2_obj.ensembl_id}\",\n",
    "                    flush=True,\n",
    "                )\n",
    "                print(traceback.format_exc(), flush=True)\n",
    "\n",
    "                gene_corrs.append(np.nan)\n",
    "\n",
    "            pbar.update(1)\n",
    "\n",
    "# create a pandas series\n",
    "gene_corrs_flat = pd.Series(gene_corrs)\n",
    "\n",
    "# save\n",
    "# FIXME: consider saving only the condenced matrix here. See here for\n",
    "# more details: https://github.com/greenelab/phenoplier/pull/38#discussion_r634600813\n",
    "# gene_corrs_data = squareform(np.array(gene_corrs, dtype=np.float64))\n",
    "# np.fill_diagonal(gene_corrs_data, 1.0)\n",
    "\n",
    "gene_chr_ids = [g.ensembl_id for g in gene_chr_objs]\n",
    "gene_corrs_df = pd.DataFrame(\n",
    "    data=gene_corrs_data,\n",
    "    index=gene_chr_ids,\n",
    "    columns=gene_chr_ids,\n",
    ")\n",
    "\n",
    "output_dir.mkdir(exist_ok=True, parents=True)\n",
    "display(output_file)\n",
    "\n",
    "gene_corrs_df.to_pickle(output_file)"
   ]
  },
  {
   "cell_type": "markdown",
   "id": "faa67b51-5373-470f-aa72-2ded53fa6dfe",
   "metadata": {
    "papermill": {
     "duration": 0.976061,
     "end_time": "2022-12-15T17:52:32.316462",
     "exception": false,
     "start_time": "2022-12-15T17:52:31.340401",
     "status": "completed"
    },
    "tags": []
   },
   "source": [
    "# Testing"
   ]
  },
  {
   "cell_type": "code",
   "execution_count": 30,
   "id": "14f7d046-4b55-4896-a56b-990127bcc388",
   "metadata": {
    "execution": {
     "iopub.execute_input": "2022-12-15T17:52:34.277916Z",
     "iopub.status.busy": "2022-12-15T17:52:34.276993Z",
     "iopub.status.idle": "2022-12-15T17:52:34.298295Z",
     "shell.execute_reply": "2022-12-15T17:52:34.297500Z"
    },
    "papermill": {
     "duration": 1.02018,
     "end_time": "2022-12-15T17:52:34.299348",
     "exception": false,
     "start_time": "2022-12-15T17:52:33.279168",
     "status": "completed"
    },
    "tags": []
   },
   "outputs": [
    {
     "data": {
      "text/plain": [
       "(244, 244)"
      ]
     },
     "execution_count": 30,
     "metadata": {},
     "output_type": "execute_result"
    }
   ],
   "source": [
    "gene_corrs_df.shape"
   ]
  },
  {
   "cell_type": "code",
   "execution_count": 31,
   "id": "c7d15414-3297-4537-a7c6-7588c0baeb75",
   "metadata": {
    "execution": {
     "iopub.execute_input": "2022-12-15T17:52:36.501149Z",
     "iopub.status.busy": "2022-12-15T17:52:36.500953Z",
     "iopub.status.idle": "2022-12-15T17:52:36.531257Z",
     "shell.execute_reply": "2022-12-15T17:52:36.530764Z"
    },
    "papermill": {
     "duration": 1.12897,
     "end_time": "2022-12-15T17:52:36.532605",
     "exception": false,
     "start_time": "2022-12-15T17:52:35.403635",
     "status": "completed"
    },
    "tags": []
   },
   "outputs": [
    {
     "data": {
      "text/html": [
       "<div>\n",
       "<style scoped>\n",
       "    .dataframe tbody tr th:only-of-type {\n",
       "        vertical-align: middle;\n",
       "    }\n",
       "\n",
       "    .dataframe tbody tr th {\n",
       "        vertical-align: top;\n",
       "    }\n",
       "\n",
       "    .dataframe thead th {\n",
       "        text-align: right;\n",
       "    }\n",
       "</style>\n",
       "<table border=\"1\" class=\"dataframe\">\n",
       "  <thead>\n",
       "    <tr style=\"text-align: right;\">\n",
       "      <th></th>\n",
       "      <th>ENSG00000272602</th>\n",
       "      <th>ENSG00000131127</th>\n",
       "      <th>ENSG00000174227</th>\n",
       "      <th>ENSG00000133256</th>\n",
       "      <th>ENSG00000169020</th>\n",
       "      <th>ENSG00000215375</th>\n",
       "      <th>ENSG00000169026</th>\n",
       "      <th>ENSG00000178950</th>\n",
       "      <th>ENSG00000145214</th>\n",
       "      <th>ENSG00000145217</th>\n",
       "      <th>...</th>\n",
       "      <th>ENSG00000109674</th>\n",
       "      <th>ENSG00000038002</th>\n",
       "      <th>ENSG00000129187</th>\n",
       "      <th>ENSG00000168310</th>\n",
       "      <th>ENSG00000164305</th>\n",
       "      <th>ENSG00000151726</th>\n",
       "      <th>ENSG00000151729</th>\n",
       "      <th>ENSG00000164342</th>\n",
       "      <th>ENSG00000164344</th>\n",
       "      <th>ENSG00000109536</th>\n",
       "    </tr>\n",
       "  </thead>\n",
       "  <tbody>\n",
       "    <tr>\n",
       "      <th>ENSG00000272602</th>\n",
       "      <td>1.000000</td>\n",
       "      <td>0.055217</td>\n",
       "      <td>0.168507</td>\n",
       "      <td>0.099181</td>\n",
       "      <td>0.096555</td>\n",
       "      <td>0.045839</td>\n",
       "      <td>0.058575</td>\n",
       "      <td>0.012272</td>\n",
       "      <td>0.006584</td>\n",
       "      <td>0.001559</td>\n",
       "      <td>...</td>\n",
       "      <td>0.0</td>\n",
       "      <td>0.0</td>\n",
       "      <td>0.0</td>\n",
       "      <td>0.0</td>\n",
       "      <td>0.0</td>\n",
       "      <td>0.0</td>\n",
       "      <td>0.0</td>\n",
       "      <td>0.0</td>\n",
       "      <td>0.0</td>\n",
       "      <td>0.0</td>\n",
       "    </tr>\n",
       "    <tr>\n",
       "      <th>ENSG00000131127</th>\n",
       "      <td>0.055217</td>\n",
       "      <td>1.000000</td>\n",
       "      <td>0.263330</td>\n",
       "      <td>0.071177</td>\n",
       "      <td>0.036538</td>\n",
       "      <td>0.034526</td>\n",
       "      <td>0.042024</td>\n",
       "      <td>0.007476</td>\n",
       "      <td>0.009562</td>\n",
       "      <td>0.002483</td>\n",
       "      <td>...</td>\n",
       "      <td>0.0</td>\n",
       "      <td>0.0</td>\n",
       "      <td>0.0</td>\n",
       "      <td>0.0</td>\n",
       "      <td>0.0</td>\n",
       "      <td>0.0</td>\n",
       "      <td>0.0</td>\n",
       "      <td>0.0</td>\n",
       "      <td>0.0</td>\n",
       "      <td>0.0</td>\n",
       "    </tr>\n",
       "    <tr>\n",
       "      <th>ENSG00000174227</th>\n",
       "      <td>0.168507</td>\n",
       "      <td>0.263330</td>\n",
       "      <td>1.000000</td>\n",
       "      <td>0.317910</td>\n",
       "      <td>0.158097</td>\n",
       "      <td>0.069939</td>\n",
       "      <td>0.100279</td>\n",
       "      <td>0.007931</td>\n",
       "      <td>0.008272</td>\n",
       "      <td>0.004041</td>\n",
       "      <td>...</td>\n",
       "      <td>0.0</td>\n",
       "      <td>0.0</td>\n",
       "      <td>0.0</td>\n",
       "      <td>0.0</td>\n",
       "      <td>0.0</td>\n",
       "      <td>0.0</td>\n",
       "      <td>0.0</td>\n",
       "      <td>0.0</td>\n",
       "      <td>0.0</td>\n",
       "      <td>0.0</td>\n",
       "    </tr>\n",
       "    <tr>\n",
       "      <th>ENSG00000133256</th>\n",
       "      <td>0.099181</td>\n",
       "      <td>0.071177</td>\n",
       "      <td>0.317910</td>\n",
       "      <td>1.000000</td>\n",
       "      <td>0.261069</td>\n",
       "      <td>0.202711</td>\n",
       "      <td>0.229258</td>\n",
       "      <td>0.018131</td>\n",
       "      <td>0.011481</td>\n",
       "      <td>0.002283</td>\n",
       "      <td>...</td>\n",
       "      <td>0.0</td>\n",
       "      <td>0.0</td>\n",
       "      <td>0.0</td>\n",
       "      <td>0.0</td>\n",
       "      <td>0.0</td>\n",
       "      <td>0.0</td>\n",
       "      <td>0.0</td>\n",
       "      <td>0.0</td>\n",
       "      <td>0.0</td>\n",
       "      <td>0.0</td>\n",
       "    </tr>\n",
       "    <tr>\n",
       "      <th>ENSG00000169020</th>\n",
       "      <td>0.096555</td>\n",
       "      <td>0.036538</td>\n",
       "      <td>0.158097</td>\n",
       "      <td>0.261069</td>\n",
       "      <td>1.000000</td>\n",
       "      <td>0.153616</td>\n",
       "      <td>0.232199</td>\n",
       "      <td>0.006056</td>\n",
       "      <td>0.006638</td>\n",
       "      <td>0.001911</td>\n",
       "      <td>...</td>\n",
       "      <td>0.0</td>\n",
       "      <td>0.0</td>\n",
       "      <td>0.0</td>\n",
       "      <td>0.0</td>\n",
       "      <td>0.0</td>\n",
       "      <td>0.0</td>\n",
       "      <td>0.0</td>\n",
       "      <td>0.0</td>\n",
       "      <td>0.0</td>\n",
       "      <td>0.0</td>\n",
       "    </tr>\n",
       "  </tbody>\n",
       "</table>\n",
       "<p>5 rows × 244 columns</p>\n",
       "</div>"
      ],
      "text/plain": [
       "                 ENSG00000272602  ENSG00000131127  ENSG00000174227  \\\n",
       "ENSG00000272602         1.000000         0.055217         0.168507   \n",
       "ENSG00000131127         0.055217         1.000000         0.263330   \n",
       "ENSG00000174227         0.168507         0.263330         1.000000   \n",
       "ENSG00000133256         0.099181         0.071177         0.317910   \n",
       "ENSG00000169020         0.096555         0.036538         0.158097   \n",
       "\n",
       "                 ENSG00000133256  ENSG00000169020  ENSG00000215375  \\\n",
       "ENSG00000272602         0.099181         0.096555         0.045839   \n",
       "ENSG00000131127         0.071177         0.036538         0.034526   \n",
       "ENSG00000174227         0.317910         0.158097         0.069939   \n",
       "ENSG00000133256         1.000000         0.261069         0.202711   \n",
       "ENSG00000169020         0.261069         1.000000         0.153616   \n",
       "\n",
       "                 ENSG00000169026  ENSG00000178950  ENSG00000145214  \\\n",
       "ENSG00000272602         0.058575         0.012272         0.006584   \n",
       "ENSG00000131127         0.042024         0.007476         0.009562   \n",
       "ENSG00000174227         0.100279         0.007931         0.008272   \n",
       "ENSG00000133256         0.229258         0.018131         0.011481   \n",
       "ENSG00000169020         0.232199         0.006056         0.006638   \n",
       "\n",
       "                 ENSG00000145217  ...  ENSG00000109674  ENSG00000038002  \\\n",
       "ENSG00000272602         0.001559  ...              0.0              0.0   \n",
       "ENSG00000131127         0.002483  ...              0.0              0.0   \n",
       "ENSG00000174227         0.004041  ...              0.0              0.0   \n",
       "ENSG00000133256         0.002283  ...              0.0              0.0   \n",
       "ENSG00000169020         0.001911  ...              0.0              0.0   \n",
       "\n",
       "                 ENSG00000129187  ENSG00000168310  ENSG00000164305  \\\n",
       "ENSG00000272602              0.0              0.0              0.0   \n",
       "ENSG00000131127              0.0              0.0              0.0   \n",
       "ENSG00000174227              0.0              0.0              0.0   \n",
       "ENSG00000133256              0.0              0.0              0.0   \n",
       "ENSG00000169020              0.0              0.0              0.0   \n",
       "\n",
       "                 ENSG00000151726  ENSG00000151729  ENSG00000164342  \\\n",
       "ENSG00000272602              0.0              0.0              0.0   \n",
       "ENSG00000131127              0.0              0.0              0.0   \n",
       "ENSG00000174227              0.0              0.0              0.0   \n",
       "ENSG00000133256              0.0              0.0              0.0   \n",
       "ENSG00000169020              0.0              0.0              0.0   \n",
       "\n",
       "                 ENSG00000164344  ENSG00000109536  \n",
       "ENSG00000272602              0.0              0.0  \n",
       "ENSG00000131127              0.0              0.0  \n",
       "ENSG00000174227              0.0              0.0  \n",
       "ENSG00000133256              0.0              0.0  \n",
       "ENSG00000169020              0.0              0.0  \n",
       "\n",
       "[5 rows x 244 columns]"
      ]
     },
     "execution_count": 31,
     "metadata": {},
     "output_type": "execute_result"
    }
   ],
   "source": [
    "gene_corrs_df.head()"
   ]
  },
  {
   "cell_type": "markdown",
   "id": "dad6603f-01c6-41fb-a6f6-241051207dd8",
   "metadata": {
    "papermill": {
     "duration": 1.133944,
     "end_time": "2022-12-15T17:52:38.963343",
     "exception": false,
     "start_time": "2022-12-15T17:52:37.829399",
     "status": "completed"
    },
    "tags": []
   },
   "source": [
    "## Standard checks and stats"
   ]
  },
  {
   "cell_type": "code",
   "execution_count": 32,
   "id": "286686af-1b7b-4440-8453-6bdcbd8de19c",
   "metadata": {
    "execution": {
     "iopub.execute_input": "2022-12-15T17:52:41.573562Z",
     "iopub.status.busy": "2022-12-15T17:52:41.573236Z",
     "iopub.status.idle": "2022-12-15T17:52:41.594784Z",
     "shell.execute_reply": "2022-12-15T17:52:41.594219Z"
    },
    "papermill": {
     "duration": 1.39373,
     "end_time": "2022-12-15T17:52:41.595832",
     "exception": false,
     "start_time": "2022-12-15T17:52:40.202102",
     "status": "completed"
    },
    "tags": []
   },
   "outputs": [],
   "source": [
    "assert not gene_corrs_df.isna().any(axis=None)"
   ]
  },
  {
   "cell_type": "code",
   "execution_count": 33,
   "id": "00583efc-7068-4270-ad1e-4a418e91db96",
   "metadata": {
    "execution": {
     "iopub.execute_input": "2022-12-15T17:52:43.624466Z",
     "iopub.status.busy": "2022-12-15T17:52:43.623974Z",
     "iopub.status.idle": "2022-12-15T17:52:43.650057Z",
     "shell.execute_reply": "2022-12-15T17:52:43.649536Z"
    },
    "papermill": {
     "duration": 1.041524,
     "end_time": "2022-12-15T17:52:43.651108",
     "exception": false,
     "start_time": "2022-12-15T17:52:42.609584",
     "status": "completed"
    },
    "tags": []
   },
   "outputs": [
    {
     "data": {
      "text/plain": [
       "0.0"
      ]
     },
     "metadata": {},
     "output_type": "display_data"
    }
   ],
   "source": [
    "_min_val = gene_corrs_df.min().min()\n",
    "display(_min_val)\n",
    "assert _min_val >= -0.05"
   ]
  },
  {
   "cell_type": "code",
   "execution_count": 34,
   "id": "d04fb2cf-1050-475b-b855-f5f7cc04092b",
   "metadata": {
    "execution": {
     "iopub.execute_input": "2022-12-15T17:52:45.687025Z",
     "iopub.status.busy": "2022-12-15T17:52:45.686819Z",
     "iopub.status.idle": "2022-12-15T17:52:45.702620Z",
     "shell.execute_reply": "2022-12-15T17:52:45.702086Z"
    },
    "papermill": {
     "duration": 0.961743,
     "end_time": "2022-12-15T17:52:45.703620",
     "exception": false,
     "start_time": "2022-12-15T17:52:44.741877",
     "status": "completed"
    },
    "tags": []
   },
   "outputs": [
    {
     "data": {
      "text/plain": [
       "1.0000000000000029"
      ]
     },
     "metadata": {},
     "output_type": "display_data"
    }
   ],
   "source": [
    "_max_val = gene_corrs_df.max().max()  # this captures the diagonal\n",
    "display(_max_val)\n",
    "assert _max_val <= 1.05"
   ]
  },
  {
   "cell_type": "code",
   "execution_count": 35,
   "id": "fe283586-c348-40e0-8841-f6d97bfb021c",
   "metadata": {
    "execution": {
     "iopub.execute_input": "2022-12-15T17:52:47.826037Z",
     "iopub.status.busy": "2022-12-15T17:52:47.825690Z",
     "iopub.status.idle": "2022-12-15T17:52:47.843603Z",
     "shell.execute_reply": "2022-12-15T17:52:47.843171Z"
    },
    "papermill": {
     "duration": 1.071647,
     "end_time": "2022-12-15T17:52:47.844511",
     "exception": false,
     "start_time": "2022-12-15T17:52:46.772864",
     "status": "completed"
    },
    "tags": []
   },
   "outputs": [
    {
     "data": {
      "text/plain": [
       "count    29890.000000\n",
       "mean         0.009916\n",
       "std          0.092566\n",
       "min          0.000000\n",
       "25%          0.000000\n",
       "50%          0.000000\n",
       "75%          0.000000\n",
       "max          1.000000\n",
       "dtype: float64"
      ]
     },
     "execution_count": 35,
     "metadata": {},
     "output_type": "execute_result"
    }
   ],
   "source": [
    "gene_corrs_flat.describe()"
   ]
  },
  {
   "cell_type": "code",
   "execution_count": 36,
   "id": "b3815678-0f93-4b35-897b-a9d047a2aa78",
   "metadata": {
    "execution": {
     "iopub.execute_input": "2022-12-15T17:52:50.005192Z",
     "iopub.status.busy": "2022-12-15T17:52:50.004757Z",
     "iopub.status.idle": "2022-12-15T17:52:50.022981Z",
     "shell.execute_reply": "2022-12-15T17:52:50.022454Z"
    },
    "papermill": {
     "duration": 0.997581,
     "end_time": "2022-12-15T17:52:50.023908",
     "exception": false,
     "start_time": "2022-12-15T17:52:49.026327",
     "status": "completed"
    },
    "tags": []
   },
   "outputs": [
    {
     "data": {
      "text/plain": [
       "0.00    0.000000\n",
       "0.05    0.000000\n",
       "0.10    0.000000\n",
       "0.15    0.000000\n",
       "0.20    0.000000\n",
       "0.25    0.000000\n",
       "0.30    0.000000\n",
       "0.35    0.000000\n",
       "0.40    0.000000\n",
       "0.45    0.000000\n",
       "0.50    0.000000\n",
       "0.55    0.000000\n",
       "0.60    0.000000\n",
       "0.65    0.000000\n",
       "0.70    0.000000\n",
       "0.75    0.000000\n",
       "0.80    0.000000\n",
       "0.85    0.000000\n",
       "0.90    0.000000\n",
       "0.95    0.005731\n",
       "dtype: float64"
      ]
     },
     "metadata": {},
     "output_type": "display_data"
    }
   ],
   "source": [
    "gene_corrs_quantiles = gene_corrs_flat.quantile(np.arange(0, 1, 0.05))\n",
    "display(gene_corrs_quantiles)"
   ]
  },
  {
   "cell_type": "markdown",
   "id": "87134509-b145-4a10-8bc9-b7e914c2b0fa",
   "metadata": {
    "papermill": {
     "duration": 1.030816,
     "end_time": "2022-12-15T17:52:52.007226",
     "exception": false,
     "start_time": "2022-12-15T17:52:50.976410",
     "status": "completed"
    },
    "tags": []
   },
   "source": [
    "## Positive definiteness"
   ]
  },
  {
   "cell_type": "code",
   "execution_count": 37,
   "id": "07d9a9a1-a4f7-48aa-b916-6d42a8cc6186",
   "metadata": {
    "execution": {
     "iopub.execute_input": "2022-12-15T17:52:54.734977Z",
     "iopub.status.busy": "2022-12-15T17:52:54.734701Z",
     "iopub.status.idle": "2022-12-15T17:52:54.767572Z",
     "shell.execute_reply": "2022-12-15T17:52:54.767016Z"
    },
    "papermill": {
     "duration": 1.36936,
     "end_time": "2022-12-15T17:52:54.768661",
     "exception": false,
     "start_time": "2022-12-15T17:52:53.399301",
     "status": "completed"
    },
    "tags": []
   },
   "outputs": [
    {
     "data": {
      "text/plain": [
       "0"
      ]
     },
     "metadata": {},
     "output_type": "display_data"
    },
    {
     "data": {
      "text/plain": [
       "array([], dtype=float64)"
      ]
     },
     "metadata": {},
     "output_type": "display_data"
    }
   ],
   "source": [
    "# print negative eigenvalues\n",
    "eigs = np.linalg.eigvals(gene_corrs_df.to_numpy())\n",
    "display(len(eigs[eigs < 0]))\n",
    "display(eigs[eigs < 0])"
   ]
  },
  {
   "cell_type": "code",
   "execution_count": 38,
   "id": "6e218436-c3c5-4028-8c94-a4fa6260efce",
   "metadata": {
    "execution": {
     "iopub.execute_input": "2022-12-15T17:52:56.781211Z",
     "iopub.status.busy": "2022-12-15T17:52:56.780916Z",
     "iopub.status.idle": "2022-12-15T17:52:56.805364Z",
     "shell.execute_reply": "2022-12-15T17:52:56.804948Z"
    },
    "papermill": {
     "duration": 1.039509,
     "end_time": "2022-12-15T17:52:56.806299",
     "exception": false,
     "start_time": "2022-12-15T17:52:55.766790",
     "status": "completed"
    },
    "tags": []
   },
   "outputs": [
    {
     "name": "stdout",
     "output_type": "stream",
     "text": [
      "Works!\n"
     ]
    }
   ],
   "source": [
    "try:\n",
    "    chol_mat = np.linalg.cholesky(gene_corrs_df.to_numpy())\n",
    "    cov_inv = np.linalg.inv(chol_mat)\n",
    "    print(\"Works!\")\n",
    "except Exception as e:\n",
    "    print(f\"Cholesky decomposition failed: {str(e)}\")"
   ]
  },
  {
   "cell_type": "code",
   "execution_count": 39,
   "id": "dd8827fb-faf9-4c7c-9454-015e94752706",
   "metadata": {
    "execution": {
     "iopub.execute_input": "2022-12-15T17:52:58.692290Z",
     "iopub.status.busy": "2022-12-15T17:52:58.691924Z",
     "iopub.status.idle": "2022-12-15T17:52:58.715345Z",
     "shell.execute_reply": "2022-12-15T17:52:58.714594Z"
    },
    "papermill": {
     "duration": 0.964699,
     "end_time": "2022-12-15T17:52:58.716996",
     "exception": false,
     "start_time": "2022-12-15T17:52:57.752297",
     "status": "completed"
    },
    "tags": []
   },
   "outputs": [
    {
     "name": "stdout",
     "output_type": "stream",
     "text": [
      "Works!\n"
     ]
    }
   ],
   "source": [
    "try:\n",
    "    # decomposition used by statsmodels.GLS\n",
    "    cholsigmainv = np.linalg.cholesky(np.linalg.inv(gene_corrs_df.to_numpy())).T\n",
    "    print(\"Works!\")\n",
    "except Exception as e:\n",
    "    print(f\"Cholesky decomposition failed (statsmodels.GLS): {str(e)}\")"
   ]
  },
  {
   "cell_type": "markdown",
   "id": "8e60a080-edb2-4e9c-b2ef-22961693200c",
   "metadata": {
    "papermill": {
     "duration": 1.054176,
     "end_time": "2022-12-15T17:53:00.995026",
     "exception": false,
     "start_time": "2022-12-15T17:52:59.940850",
     "status": "completed"
    },
    "tags": []
   },
   "source": [
    "## Plot: distribution"
   ]
  },
  {
   "cell_type": "code",
   "execution_count": 40,
   "id": "8301126b-a7d4-4744-9c7d-f0f86eb6f54c",
   "metadata": {
    "execution": {
     "iopub.execute_input": "2022-12-15T17:53:02.966400Z",
     "iopub.status.busy": "2022-12-15T17:53:02.966037Z",
     "iopub.status.idle": "2022-12-15T17:53:03.306191Z",
     "shell.execute_reply": "2022-12-15T17:53:03.305746Z"
    },
    "papermill": {
     "duration": 1.267852,
     "end_time": "2022-12-15T17:53:03.307452",
     "exception": false,
     "start_time": "2022-12-15T17:53:02.039600",
     "status": "completed"
    },
    "tags": []
   },
   "outputs": [
    {
     "data": {
      "image/png": "[encoded data removed]",
      "text/plain": [
       "<Figure size 700x700 with 1 Axes>"
      ]
     },
     "metadata": {},
     "output_type": "display_data"
    }
   ],
   "source": [
    "with sns.plotting_context(\"paper\", font_scale=1.5):\n",
    "    g = sns.displot(gene_corrs_flat, kde=True, height=7)\n",
    "    g.ax.set_title(\n",
    "        f\"Distribution of gene correlation values in chromosome {CHROMOSOME}\"\n",
    "    )"
   ]
  },
  {
   "cell_type": "markdown",
   "id": "cbd52bca-d878-4a2f-b684-5c83aa3038d4",
   "metadata": {
    "papermill": {
     "duration": 1.300538,
     "end_time": "2022-12-15T17:53:05.656172",
     "exception": false,
     "start_time": "2022-12-15T17:53:04.355634",
     "status": "completed"
    },
    "tags": []
   },
   "source": [
    "## Plot: heatmap"
   ]
  },
  {
   "cell_type": "code",
   "execution_count": 41,
   "id": "d03fe63a-c7b2-4fb9-a53c-db362ce843c9",
   "metadata": {
    "execution": {
     "iopub.execute_input": "2022-12-15T17:53:07.868752Z",
     "iopub.status.busy": "2022-12-15T17:53:07.868354Z",
     "iopub.status.idle": "2022-12-15T17:53:07.882587Z",
     "shell.execute_reply": "2022-12-15T17:53:07.882282Z"
    },
    "papermill": {
     "duration": 1.152408,
     "end_time": "2022-12-15T17:53:07.883400",
     "exception": false,
     "start_time": "2022-12-15T17:53:06.730992",
     "status": "completed"
    },
    "tags": []
   },
   "outputs": [
    {
     "data": {
      "text/plain": [
       "'0.0 / 0.05'"
      ]
     },
     "metadata": {},
     "output_type": "display_data"
    }
   ],
   "source": [
    "vmin_val = min(0.00, gene_corrs_quantiles[0.10])\n",
    "vmax_val = max(0.05, gene_corrs_quantiles[0.90])\n",
    "display(f\"{vmin_val} / {vmax_val}\")"
   ]
  },
  {
   "cell_type": "code",
   "execution_count": 42,
   "id": "dc41b70b-5bcc-4d9e-9f33-a22c4a94dab5",
   "metadata": {
    "execution": {
     "iopub.execute_input": "2022-12-15T17:53:10.254765Z",
     "iopub.status.busy": "2022-12-15T17:53:10.254370Z",
     "iopub.status.idle": "2022-12-15T17:53:10.519660Z",
     "shell.execute_reply": "2022-12-15T17:53:10.519198Z"
    },
    "papermill": {
     "duration": 1.602313,
     "end_time": "2022-12-15T17:53:10.521104",
     "exception": false,
     "start_time": "2022-12-15T17:53:08.918791",
     "status": "completed"
    },
    "tags": []
   },
   "outputs": [
    {
     "data": {
      "text/plain": [
       "Text(0.5, 1.0, 'Gene correlations in chromosome 4')"
      ]
     },
     "execution_count": 42,
     "metadata": {},
     "output_type": "execute_result"
    },
    {
     "data": {
      "image/png": "[encoded data removed]",
      "text/plain": [
       "<Figure size 1000x1000 with 2 Axes>"
      ]
     },
     "metadata": {},
     "output_type": "display_data"
    }
   ],
   "source": [
    "f, ax = plt.subplots(figsize=(10, 10))\n",
    "sns.heatmap(\n",
    "    gene_corrs_df,\n",
    "    xticklabels=False,\n",
    "    yticklabels=False,\n",
    "    square=True,\n",
    "    vmin=vmin_val,\n",
    "    vmax=vmax_val,\n",
    "    cmap=\"rocket_r\",\n",
    "    ax=ax,\n",
    ")\n",
    "ax.set_title(f\"Gene correlations in chromosome {CHROMOSOME}\")"
   ]
  },
  {
   "cell_type": "code",
   "execution_count": null,
   "id": "b25e3ead",
   "metadata": {
    "papermill": {
     "duration": 0.969966,
     "end_time": "2022-12-15T17:53:12.682414",
     "exception": false,
     "start_time": "2022-12-15T17:53:11.712448",
     "status": "completed"
    },
    "tags": []
   },
   "outputs": [],
   "source": []
  }
 ],
 "metadata": {
  "jupytext": {
   "cell_metadata_filter": "all,-execution,-papermill,-trusted",
   "formats": "ipynb,py//py:percent"
  },
  "kernelspec": {
   "display_name": "Python 3 (ipykernel)",
   "language": "python",
   "name": "python3"
  },
  "language_info": {
   "codemirror_mode": {
    "name": "ipython",
    "version": 3
   },
   "file_extension": ".py",
   "mimetype": "text/x-python",
   "name": "python",
   "nbconvert_exporter": "python",
   "pygments_lexer": "ipython3",
   "version": "3.10.6"
  },
  "papermill": {
   "default_parameters": {},
   "duration": 235.093606,
   "end_time": "2022-12-15T17:53:17.116351",
   "environment_variables": {},
   "exception": null,
   "input_path": "projects/asthma-copd/nbs/20_gene_corrs/jobs/05-gene_expr_correlations.ipynb",
   "output_path": "projects/asthma-copd/nbs/20_gene_corrs/jobs/../output/asthma_only/05-gene_expr_correlations-chr4.run.ipynb",
   "parameters": {
    "CHROMOSOME": 4,
    "COHORT_NAME": "asthma_only",
    "OUTPUT_DIR_BASE": "/opt/data/projects/asthma-copd/results/gls_phenoplier",
    "PHENOPLIER_NOTEBOOK_FILEPATH": "projects/asthma-copd/nbs/20_gene_corrs/jobs/05-gene_expr_correlations.ipynb"
   },
   "start_time": "2022-12-15T17:49:22.022745",
   "version": "2.2.2"
  }
 },
 "nbformat": 4,
 "nbformat_minor": 5
}
