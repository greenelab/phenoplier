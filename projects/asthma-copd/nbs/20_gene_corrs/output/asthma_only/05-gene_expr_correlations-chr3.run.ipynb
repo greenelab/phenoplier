{
 "cells": [
  {
   "cell_type": "markdown",
   "id": "7a6632fb",
   "metadata": {
    "papermill": {
     "duration": 0.008339,
     "end_time": "2022-12-05T16:48:27.692674",
     "exception": false,
     "start_time": "2022-12-05T16:48:27.684335",
     "status": "completed"
    },
    "tags": []
   },
   "source": [
    "# Description"
   ]
  },
  {
   "cell_type": "markdown",
   "id": "7097c346",
   "metadata": {
    "papermill": {
     "duration": 0.008116,
     "end_time": "2022-12-05T16:48:27.708580",
     "exception": false,
     "start_time": "2022-12-05T16:48:27.700464",
     "status": "completed"
    },
    "tags": []
   },
   "source": [
    "(Please, take a look at the README.md file in this directory for instructions on how to run this notebook)\n",
    "\n",
    "This notebook computes predicted expression correlations between all genes in the MultiPLIER models.\n",
    "\n",
    "It has specicfic parameters for papermill (see under `Settings` below).\n",
    "It can be configured to run on a single chromosome to run in parallel.\n",
    "\n",
    "This notebook is not directly run. See README.md."
   ]
  },
  {
   "cell_type": "markdown",
   "id": "c61d8427",
   "metadata": {
    "papermill": {
     "duration": 0.007574,
     "end_time": "2022-12-05T16:48:27.723891",
     "exception": false,
     "start_time": "2022-12-05T16:48:27.716317",
     "status": "completed"
    },
    "tags": []
   },
   "source": [
    "# Modules"
   ]
  },
  {
   "cell_type": "code",
   "execution_count": 1,
   "id": "bbc0234f",
   "metadata": {
    "execution": {
     "iopub.execute_input": "2022-12-05T16:48:27.751800Z",
     "iopub.status.busy": "2022-12-05T16:48:27.751377Z",
     "iopub.status.idle": "2022-12-05T16:48:27.770470Z",
     "shell.execute_reply": "2022-12-05T16:48:27.769938Z"
    },
    "papermill": {
     "duration": 0.034883,
     "end_time": "2022-12-05T16:48:27.772126",
     "exception": false,
     "start_time": "2022-12-05T16:48:27.737243",
     "status": "completed"
    },
    "tags": []
   },
   "outputs": [],
   "source": [
    "%load_ext autoreload\n",
    "%autoreload 2"
   ]
  },
  {
   "cell_type": "code",
   "execution_count": 2,
   "id": "1d5f5a59",
   "metadata": {
    "execution": {
     "iopub.execute_input": "2022-12-05T16:48:27.804227Z",
     "iopub.status.busy": "2022-12-05T16:48:27.803698Z",
     "iopub.status.idle": "2022-12-05T16:48:28.584025Z",
     "shell.execute_reply": "2022-12-05T16:48:28.583572Z"
    },
    "papermill": {
     "duration": 0.800216,
     "end_time": "2022-12-05T16:48:28.585208",
     "exception": false,
     "start_time": "2022-12-05T16:48:27.784992",
     "status": "completed"
    },
    "tags": []
   },
   "outputs": [],
   "source": [
    "from random import sample, seed\n",
    "import warnings\n",
    "from pathlib import Path\n",
    "import pickle\n",
    "import traceback\n",
    "\n",
    "import numpy as np\n",
    "from scipy.spatial.distance import squareform\n",
    "import pandas as pd\n",
    "from tqdm import tqdm\n",
    "import matplotlib.pyplot as plt\n",
    "import seaborn as sns\n",
    "\n",
    "import conf\n",
    "from entity import Gene"
   ]
  },
  {
   "cell_type": "markdown",
   "id": "1eac24b5",
   "metadata": {
    "papermill": {
     "duration": 0.004151,
     "end_time": "2022-12-05T16:48:28.593788",
     "exception": false,
     "start_time": "2022-12-05T16:48:28.589637",
     "status": "completed"
    },
    "tags": []
   },
   "source": [
    "# Settings"
   ]
  },
  {
   "cell_type": "code",
   "execution_count": 3,
   "id": "ca4560ba",
   "metadata": {
    "execution": {
     "iopub.execute_input": "2022-12-05T16:48:28.602839Z",
     "iopub.status.busy": "2022-12-05T16:48:28.602620Z",
     "iopub.status.idle": "2022-12-05T16:48:28.618099Z",
     "shell.execute_reply": "2022-12-05T16:48:28.617614Z"
    },
    "papermill": {
     "duration": 0.021197,
     "end_time": "2022-12-05T16:48:28.619110",
     "exception": false,
     "start_time": "2022-12-05T16:48:28.597913",
     "status": "completed"
    },
    "tags": [
     "parameters"
    ]
   },
   "outputs": [],
   "source": [
    "# a cohort name (it could be something like UK_BIOBANK, etc)\n",
    "COHORT_NAME = None\n",
    "\n",
    "# reference panel such as 1000G or GTEX_V8\n",
    "REFERENCE_PANEL = \"GTEX_V8\"\n",
    "\n",
    "# predictions models such as MASHR or ELASTIC_NET\n",
    "EQTL_MODEL = \"MASHR\"\n",
    "\n",
    "# this is the default value used in S-MultiXcan to select the\n",
    "# top principal components of the expression correlation matrix\n",
    "SMULTIXCAN_CONDITION_NUMBER = 30\n",
    "\n",
    "# specifies a single chromosome value\n",
    "CHROMOSOME = None\n",
    "\n",
    "# If True, computes the correlation between closeby genes only (see\n",
    "# entity.Gene.within_distance for more details). Otherwise, it computes\n",
    "# correlations for all genes in a chromosome\n",
    "COMPUTE_CORRELATIONS_WITHIN_DISTANCE = True\n",
    "\n",
    "# if True, then it will continue if a gene pair correlation fails,\n",
    "# printing the warning/error for debugging. If False, any warning/error\n",
    "# will be thrown\n",
    "DEBUG_MODE = False\n",
    "\n",
    "# output dir\n",
    "OUTPUT_DIR_BASE = None"
   ]
  },
  {
   "cell_type": "code",
   "execution_count": 4,
   "id": "301bcd05",
   "metadata": {
    "execution": {
     "iopub.execute_input": "2022-12-05T16:48:28.633777Z",
     "iopub.status.busy": "2022-12-05T16:48:28.633468Z",
     "iopub.status.idle": "2022-12-05T16:48:28.650380Z",
     "shell.execute_reply": "2022-12-05T16:48:28.649901Z"
    },
    "papermill": {
     "duration": 0.024994,
     "end_time": "2022-12-05T16:48:28.651278",
     "exception": false,
     "start_time": "2022-12-05T16:48:28.626284",
     "status": "completed"
    },
    "tags": [
     "injected-parameters"
    ]
   },
   "outputs": [],
   "source": [
    "# Parameters\n",
    "PHENOPLIER_NOTEBOOK_FILEPATH = (\n",
    "    \"projects/asthma-copd/nbs/20_gene_corrs/jobs/05-gene_expr_correlations.ipynb\"\n",
    ")\n",
    "COHORT_NAME = \"asthma_only\"\n",
    "CHROMOSOME = 3\n",
    "OUTPUT_DIR_BASE = \"/opt/data/projects/asthma-copd/results/gls_phenoplier\"\n"
   ]
  },
  {
   "cell_type": "code",
   "execution_count": 5,
   "id": "3190631f-27fc-480f-b18e-571d580425a5",
   "metadata": {
    "execution": {
     "iopub.execute_input": "2022-12-05T16:48:28.661175Z",
     "iopub.status.busy": "2022-12-05T16:48:28.660972Z",
     "iopub.status.idle": "2022-12-05T16:48:28.684300Z",
     "shell.execute_reply": "2022-12-05T16:48:28.683693Z"
    },
    "papermill": {
     "duration": 0.029547,
     "end_time": "2022-12-05T16:48:28.685120",
     "exception": false,
     "start_time": "2022-12-05T16:48:28.655573",
     "status": "completed"
    },
    "tags": []
   },
   "outputs": [
    {
     "data": {
      "text/plain": [
       "'Cohort name: asthma_only'"
      ]
     },
     "metadata": {},
     "output_type": "display_data"
    }
   ],
   "source": [
    "assert COHORT_NAME is not None and len(COHORT_NAME) > 0, \"A cohort name must be given\"\n",
    "\n",
    "COHORT_NAME = COHORT_NAME.lower()\n",
    "display(f\"Cohort name: {COHORT_NAME}\")"
   ]
  },
  {
   "cell_type": "code",
   "execution_count": 6,
   "id": "f53ba19b-0f93-4fa2-a047-63b375939d1a",
   "metadata": {
    "execution": {
     "iopub.execute_input": "2022-12-05T16:48:28.694967Z",
     "iopub.status.busy": "2022-12-05T16:48:28.694611Z",
     "iopub.status.idle": "2022-12-05T16:48:28.714252Z",
     "shell.execute_reply": "2022-12-05T16:48:28.713799Z"
    },
    "papermill": {
     "duration": 0.025702,
     "end_time": "2022-12-05T16:48:28.715322",
     "exception": false,
     "start_time": "2022-12-05T16:48:28.689620",
     "status": "completed"
    },
    "tags": []
   },
   "outputs": [
    {
     "data": {
      "text/plain": [
       "'Reference panel: GTEX_V8'"
      ]
     },
     "metadata": {},
     "output_type": "display_data"
    }
   ],
   "source": [
    "assert (\n",
    "    REFERENCE_PANEL is not None and len(REFERENCE_PANEL) > 0\n",
    "), \"A reference panel must be given\"\n",
    "\n",
    "display(f\"Reference panel: {REFERENCE_PANEL}\")"
   ]
  },
  {
   "cell_type": "code",
   "execution_count": 7,
   "id": "e024d130-c139-429a-9c6e-ccf149e297b0",
   "metadata": {
    "execution": {
     "iopub.execute_input": "2022-12-05T16:48:28.725298Z",
     "iopub.status.busy": "2022-12-05T16:48:28.725069Z",
     "iopub.status.idle": "2022-12-05T16:48:28.744728Z",
     "shell.execute_reply": "2022-12-05T16:48:28.744336Z"
    },
    "papermill": {
     "duration": 0.025689,
     "end_time": "2022-12-05T16:48:28.745840",
     "exception": false,
     "start_time": "2022-12-05T16:48:28.720151",
     "status": "completed"
    },
    "tags": []
   },
   "outputs": [
    {
     "data": {
      "text/plain": [
       "'eQTL model: MASHR) / mashr_'"
      ]
     },
     "metadata": {},
     "output_type": "display_data"
    }
   ],
   "source": [
    "assert (\n",
    "    EQTL_MODEL is not None and len(EQTL_MODEL) > 0\n",
    "), \"A prediction/eQTL model must be given\"\n",
    "\n",
    "EQTL_MODEL_FILES_PREFIX = conf.PHENOMEXCAN[\"PREDICTION_MODELS\"][f\"{EQTL_MODEL}_PREFIX\"]\n",
    "display(f\"eQTL model: {EQTL_MODEL}) / {EQTL_MODEL_FILES_PREFIX}\")"
   ]
  },
  {
   "cell_type": "code",
   "execution_count": 8,
   "id": "552a7f63-a18c-4d3e-bb6a-94f99b431291",
   "metadata": {
    "execution": {
     "iopub.execute_input": "2022-12-05T16:48:28.758346Z",
     "iopub.status.busy": "2022-12-05T16:48:28.758181Z",
     "iopub.status.idle": "2022-12-05T16:48:28.778242Z",
     "shell.execute_reply": "2022-12-05T16:48:28.777844Z"
    },
    "papermill": {
     "duration": 0.026647,
     "end_time": "2022-12-05T16:48:28.779565",
     "exception": false,
     "start_time": "2022-12-05T16:48:28.752918",
     "status": "completed"
    },
    "tags": []
   },
   "outputs": [
    {
     "data": {
      "text/plain": [
       "'S-MultiXcan condition number: 30'"
      ]
     },
     "metadata": {},
     "output_type": "display_data"
    }
   ],
   "source": [
    "assert (\n",
    "    SMULTIXCAN_CONDITION_NUMBER is not None and SMULTIXCAN_CONDITION_NUMBER > 0\n",
    "), \"The S-MultiXcan condition number (positive integer) must be given\"\n",
    "\n",
    "display(f\"S-MultiXcan condition number: {SMULTIXCAN_CONDITION_NUMBER}\")"
   ]
  },
  {
   "cell_type": "code",
   "execution_count": 9,
   "id": "f34a336f-548e-4afe-8955-90eaea4f42c6",
   "metadata": {
    "execution": {
     "iopub.execute_input": "2022-12-05T16:48:28.797704Z",
     "iopub.status.busy": "2022-12-05T16:48:28.797347Z",
     "iopub.status.idle": "2022-12-05T16:48:28.813624Z",
     "shell.execute_reply": "2022-12-05T16:48:28.813340Z"
    },
    "papermill": {
     "duration": 0.026468,
     "end_time": "2022-12-05T16:48:28.814899",
     "exception": false,
     "start_time": "2022-12-05T16:48:28.788431",
     "status": "completed"
    },
    "tags": []
   },
   "outputs": [
    {
     "data": {
      "text/plain": [
       "'Working on chromosome 3'"
      ]
     },
     "metadata": {},
     "output_type": "display_data"
    }
   ],
   "source": [
    "assert CHROMOSOME is not None and (\n",
    "    1 <= CHROMOSOME <= 22\n",
    "), \"You have to select one chromosome (format: number between 1 and 22)\"\n",
    "\n",
    "display(f\"Working on chromosome {CHROMOSOME}\")"
   ]
  },
  {
   "cell_type": "code",
   "execution_count": 10,
   "id": "ab8e96e8-06b5-4363-9dcd-dc4d78cc27f7",
   "metadata": {
    "execution": {
     "iopub.execute_input": "2022-12-05T16:48:28.835753Z",
     "iopub.status.busy": "2022-12-05T16:48:28.835564Z",
     "iopub.status.idle": "2022-12-05T16:48:28.852859Z",
     "shell.execute_reply": "2022-12-05T16:48:28.852487Z"
    },
    "papermill": {
     "duration": 0.031333,
     "end_time": "2022-12-05T16:48:28.854783",
     "exception": false,
     "start_time": "2022-12-05T16:48:28.823450",
     "status": "completed"
    },
    "tags": []
   },
   "outputs": [
    {
     "data": {
      "text/plain": [
       "'Compute correlation within distance True'"
      ]
     },
     "metadata": {},
     "output_type": "display_data"
    }
   ],
   "source": [
    "display(f\"Compute correlation within distance {COMPUTE_CORRELATIONS_WITHIN_DISTANCE}\")"
   ]
  },
  {
   "cell_type": "code",
   "execution_count": 11,
   "id": "b393b698-77e3-4ba2-8ac1-e14d51aa988f",
   "metadata": {
    "execution": {
     "iopub.execute_input": "2022-12-05T16:48:28.880622Z",
     "iopub.status.busy": "2022-12-05T16:48:28.880428Z",
     "iopub.status.idle": "2022-12-05T16:48:28.901950Z",
     "shell.execute_reply": "2022-12-05T16:48:28.901610Z"
    },
    "papermill": {
     "duration": 0.035675,
     "end_time": "2022-12-05T16:48:28.903360",
     "exception": false,
     "start_time": "2022-12-05T16:48:28.867685",
     "status": "completed"
    },
    "tags": []
   },
   "outputs": [
    {
     "data": {
      "text/plain": [
       "'Using output dir base: /opt/data/projects/asthma-copd/results/gls_phenoplier/gene_corrs/asthma_only'"
      ]
     },
     "metadata": {},
     "output_type": "display_data"
    }
   ],
   "source": [
    "assert (\n",
    "    OUTPUT_DIR_BASE is not None and len(OUTPUT_DIR_BASE) > 0\n",
    "), \"Output directory path must be given\"\n",
    "\n",
    "OUTPUT_DIR_BASE = (Path(OUTPUT_DIR_BASE) / \"gene_corrs\" / COHORT_NAME).resolve()\n",
    "\n",
    "OUTPUT_DIR_BASE.mkdir(parents=True, exist_ok=True)\n",
    "\n",
    "display(f\"Using output dir base: {OUTPUT_DIR_BASE}\")"
   ]
  },
  {
   "cell_type": "markdown",
   "id": "d2ba085e",
   "metadata": {
    "papermill": {
     "duration": 0.011304,
     "end_time": "2022-12-05T16:48:28.923931",
     "exception": false,
     "start_time": "2022-12-05T16:48:28.912627",
     "status": "completed"
    },
    "tags": []
   },
   "source": [
    "# Load data"
   ]
  },
  {
   "cell_type": "markdown",
   "id": "7dcb8db7",
   "metadata": {
    "papermill": {
     "duration": 0.010604,
     "end_time": "2022-12-05T16:48:28.948993",
     "exception": false,
     "start_time": "2022-12-05T16:48:28.938389",
     "status": "completed"
    },
    "tags": []
   },
   "source": [
    "## GWAS variants"
   ]
  },
  {
   "cell_type": "code",
   "execution_count": 12,
   "id": "29434c4e-8cd3-4b9b-82e4-b5a251d9dd19",
   "metadata": {
    "execution": {
     "iopub.execute_input": "2022-12-05T16:48:28.959636Z",
     "iopub.status.busy": "2022-12-05T16:48:28.959376Z",
     "iopub.status.idle": "2022-12-05T16:48:31.310825Z",
     "shell.execute_reply": "2022-12-05T16:48:31.310262Z"
    },
    "papermill": {
     "duration": 2.358631,
     "end_time": "2022-12-05T16:48:31.312668",
     "exception": false,
     "start_time": "2022-12-05T16:48:28.954037",
     "status": "completed"
    },
    "tags": []
   },
   "outputs": [],
   "source": [
    "with open(OUTPUT_DIR_BASE / \"gwas_variant_ids.pkl\", \"rb\") as handle:\n",
    "    gwas_variants_ids_set = pickle.load(handle)"
   ]
  },
  {
   "cell_type": "code",
   "execution_count": 13,
   "id": "b9d9dec2-4a76-4bf9-bde2-e24c95acb8a0",
   "metadata": {
    "execution": {
     "iopub.execute_input": "2022-12-05T16:48:31.328399Z",
     "iopub.status.busy": "2022-12-05T16:48:31.328094Z",
     "iopub.status.idle": "2022-12-05T16:48:31.344316Z",
     "shell.execute_reply": "2022-12-05T16:48:31.343871Z"
    },
    "papermill": {
     "duration": 0.025903,
     "end_time": "2022-12-05T16:48:31.345812",
     "exception": false,
     "start_time": "2022-12-05T16:48:31.319909",
     "status": "completed"
    },
    "tags": []
   },
   "outputs": [
    {
     "data": {
      "text/plain": [
       "8578486"
      ]
     },
     "execution_count": 13,
     "metadata": {},
     "output_type": "execute_result"
    }
   ],
   "source": [
    "len(gwas_variants_ids_set)"
   ]
  },
  {
   "cell_type": "code",
   "execution_count": 14,
   "id": "4235b06a-6034-4ee4-a0a3-2ae35d122418",
   "metadata": {
    "execution": {
     "iopub.execute_input": "2022-12-05T16:48:31.366960Z",
     "iopub.status.busy": "2022-12-05T16:48:31.366673Z",
     "iopub.status.idle": "2022-12-05T16:48:31.916559Z",
     "shell.execute_reply": "2022-12-05T16:48:31.916051Z"
    },
    "papermill": {
     "duration": 0.562211,
     "end_time": "2022-12-05T16:48:31.918446",
     "exception": false,
     "start_time": "2022-12-05T16:48:31.356235",
     "status": "completed"
    },
    "tags": []
   },
   "outputs": [
    {
     "data": {
      "text/plain": [
       "['chr2_62256488_C_T_b38',\n",
       " 'chr4_130361731_C_A_b38',\n",
       " 'chr5_176482489_A_C_b38',\n",
       " 'chr8_3660957_T_A_b38',\n",
       " 'chr6_166210429_A_G_b38']"
      ]
     },
     "execution_count": 14,
     "metadata": {},
     "output_type": "execute_result"
    }
   ],
   "source": [
    "list(gwas_variants_ids_set)[:5]"
   ]
  },
  {
   "cell_type": "markdown",
   "id": "07866999-2305-41f9-a144-e69c9122c212",
   "metadata": {
    "papermill": {
     "duration": 0.01084,
     "end_time": "2022-12-05T16:48:31.940465",
     "exception": false,
     "start_time": "2022-12-05T16:48:31.929625",
     "status": "completed"
    },
    "tags": []
   },
   "source": [
    "## S-PrediXcan tissue models"
   ]
  },
  {
   "cell_type": "code",
   "execution_count": 15,
   "id": "780611d9-77c8-405f-90a4-f271f7b09397",
   "metadata": {
    "execution": {
     "iopub.execute_input": "2022-12-05T16:48:31.963072Z",
     "iopub.status.busy": "2022-12-05T16:48:31.962768Z",
     "iopub.status.idle": "2022-12-05T16:48:32.789541Z",
     "shell.execute_reply": "2022-12-05T16:48:32.789127Z"
    },
    "papermill": {
     "duration": 0.839693,
     "end_time": "2022-12-05T16:48:32.791243",
     "exception": false,
     "start_time": "2022-12-05T16:48:31.951550",
     "status": "completed"
    },
    "tags": []
   },
   "outputs": [],
   "source": [
    "spredixcan_genes_models = pd.read_pickle(OUTPUT_DIR_BASE / \"gene_tissues.pkl\")"
   ]
  },
  {
   "cell_type": "code",
   "execution_count": 16,
   "id": "726dd1f6-9557-4225-91fa-b3b879ea96e1",
   "metadata": {
    "execution": {
     "iopub.execute_input": "2022-12-05T16:48:32.811879Z",
     "iopub.status.busy": "2022-12-05T16:48:32.811633Z",
     "iopub.status.idle": "2022-12-05T16:48:32.826785Z",
     "shell.execute_reply": "2022-12-05T16:48:32.826423Z"
    },
    "papermill": {
     "duration": 0.026878,
     "end_time": "2022-12-05T16:48:32.828265",
     "exception": false,
     "start_time": "2022-12-05T16:48:32.801387",
     "status": "completed"
    },
    "tags": []
   },
   "outputs": [
    {
     "data": {
      "text/plain": [
       "(6443, 5)"
      ]
     },
     "execution_count": 16,
     "metadata": {},
     "output_type": "execute_result"
    }
   ],
   "source": [
    "spredixcan_genes_models.shape"
   ]
  },
  {
   "cell_type": "code",
   "execution_count": 17,
   "id": "944a1b48-222c-4eb0-b252-b9de2cbca215",
   "metadata": {
    "execution": {
     "iopub.execute_input": "2022-12-05T16:48:32.851319Z",
     "iopub.status.busy": "2022-12-05T16:48:32.851076Z",
     "iopub.status.idle": "2022-12-05T16:48:32.869766Z",
     "shell.execute_reply": "2022-12-05T16:48:32.869410Z"
    },
    "papermill": {
     "duration": 0.031815,
     "end_time": "2022-12-05T16:48:32.871269",
     "exception": false,
     "start_time": "2022-12-05T16:48:32.839454",
     "status": "completed"
    },
    "tags": []
   },
   "outputs": [
    {
     "data": {
      "text/html": [
       "<div>\n",
       "<style scoped>\n",
       "    .dataframe tbody tr th:only-of-type {\n",
       "        vertical-align: middle;\n",
       "    }\n",
       "\n",
       "    .dataframe tbody tr th {\n",
       "        vertical-align: top;\n",
       "    }\n",
       "\n",
       "    .dataframe thead th {\n",
       "        text-align: right;\n",
       "    }\n",
       "</style>\n",
       "<table border=\"1\" class=\"dataframe\">\n",
       "  <thead>\n",
       "    <tr style=\"text-align: right;\">\n",
       "      <th></th>\n",
       "      <th>gene_name</th>\n",
       "      <th>tissue</th>\n",
       "      <th>n_tissues</th>\n",
       "      <th>n_snps_used_sum</th>\n",
       "      <th>n_snps_in_model_sum</th>\n",
       "    </tr>\n",
       "    <tr>\n",
       "      <th>gene_id</th>\n",
       "      <th></th>\n",
       "      <th></th>\n",
       "      <th></th>\n",
       "      <th></th>\n",
       "      <th></th>\n",
       "    </tr>\n",
       "  </thead>\n",
       "  <tbody>\n",
       "    <tr>\n",
       "      <th>ENSG00000000419</th>\n",
       "      <td>DPM1</td>\n",
       "      <td>(Brain_Hypothalamus, Brain_Substantia_nigra)</td>\n",
       "      <td>2</td>\n",
       "      <td>2</td>\n",
       "      <td>2</td>\n",
       "    </tr>\n",
       "    <tr>\n",
       "      <th>ENSG00000000938</th>\n",
       "      <td>FGR</td>\n",
       "      <td>(Whole_Blood, Skin_Sun_Exposed_Lower_leg, Esop...</td>\n",
       "      <td>36</td>\n",
       "      <td>40</td>\n",
       "      <td>40</td>\n",
       "    </tr>\n",
       "    <tr>\n",
       "      <th>ENSG00000000971</th>\n",
       "      <td>CFH</td>\n",
       "      <td>(Whole_Blood, Skin_Sun_Exposed_Lower_leg, Kidn...</td>\n",
       "      <td>34</td>\n",
       "      <td>44</td>\n",
       "      <td>44</td>\n",
       "    </tr>\n",
       "    <tr>\n",
       "      <th>ENSG00000001084</th>\n",
       "      <td>GCLC</td>\n",
       "      <td>(Whole_Blood, Nerve_Tibial, Brain_Anterior_cin...</td>\n",
       "      <td>32</td>\n",
       "      <td>46</td>\n",
       "      <td>46</td>\n",
       "    </tr>\n",
       "    <tr>\n",
       "      <th>ENSG00000001167</th>\n",
       "      <td>NFYA</td>\n",
       "      <td>(Whole_Blood, Kidney_Cortex, Esophagus_Mucosa,...</td>\n",
       "      <td>40</td>\n",
       "      <td>47</td>\n",
       "      <td>48</td>\n",
       "    </tr>\n",
       "  </tbody>\n",
       "</table>\n",
       "</div>"
      ],
      "text/plain": [
       "                gene_name                                             tissue  \\\n",
       "gene_id                                                                        \n",
       "ENSG00000000419      DPM1       (Brain_Hypothalamus, Brain_Substantia_nigra)   \n",
       "ENSG00000000938       FGR  (Whole_Blood, Skin_Sun_Exposed_Lower_leg, Esop...   \n",
       "ENSG00000000971       CFH  (Whole_Blood, Skin_Sun_Exposed_Lower_leg, Kidn...   \n",
       "ENSG00000001084      GCLC  (Whole_Blood, Nerve_Tibial, Brain_Anterior_cin...   \n",
       "ENSG00000001167      NFYA  (Whole_Blood, Kidney_Cortex, Esophagus_Mucosa,...   \n",
       "\n",
       "                 n_tissues  n_snps_used_sum  n_snps_in_model_sum  \n",
       "gene_id                                                           \n",
       "ENSG00000000419          2                2                    2  \n",
       "ENSG00000000938         36               40                   40  \n",
       "ENSG00000000971         34               44                   44  \n",
       "ENSG00000001084         32               46                   46  \n",
       "ENSG00000001167         40               47                   48  "
      ]
     },
     "execution_count": 17,
     "metadata": {},
     "output_type": "execute_result"
    }
   ],
   "source": [
    "spredixcan_genes_models.head()"
   ]
  },
  {
   "cell_type": "code",
   "execution_count": 18,
   "id": "d1c11bb1-be0b-4f40-b360-633d6827109f",
   "metadata": {
    "execution": {
     "iopub.execute_input": "2022-12-05T16:48:32.894467Z",
     "iopub.status.busy": "2022-12-05T16:48:32.894263Z",
     "iopub.status.idle": "2022-12-05T16:48:32.909090Z",
     "shell.execute_reply": "2022-12-05T16:48:32.908713Z"
    },
    "papermill": {
     "duration": 0.028081,
     "end_time": "2022-12-05T16:48:32.910646",
     "exception": false,
     "start_time": "2022-12-05T16:48:32.882565",
     "status": "completed"
    },
    "tags": []
   },
   "outputs": [],
   "source": [
    "assert spredixcan_genes_models.index.is_unique"
   ]
  },
  {
   "cell_type": "markdown",
   "id": "a5b5092c-a13e-47c4-a92a-480fcc08f3ae",
   "metadata": {
    "papermill": {
     "duration": 0.009974,
     "end_time": "2022-12-05T16:48:32.931995",
     "exception": false,
     "start_time": "2022-12-05T16:48:32.922021",
     "status": "completed"
    },
    "tags": []
   },
   "source": [
    "## Gene info"
   ]
  },
  {
   "cell_type": "code",
   "execution_count": 19,
   "id": "7d6bb224-88e9-4358-ac10-43a41d92cdad",
   "metadata": {
    "execution": {
     "iopub.execute_input": "2022-12-05T16:48:32.951818Z",
     "iopub.status.busy": "2022-12-05T16:48:32.951604Z",
     "iopub.status.idle": "2022-12-05T16:48:32.974501Z",
     "shell.execute_reply": "2022-12-05T16:48:32.973985Z"
    },
    "papermill": {
     "duration": 0.034597,
     "end_time": "2022-12-05T16:48:32.976086",
     "exception": false,
     "start_time": "2022-12-05T16:48:32.941489",
     "status": "completed"
    },
    "tags": []
   },
   "outputs": [],
   "source": [
    "genes_info = pd.read_pickle(OUTPUT_DIR_BASE / \"genes_info.pkl\")"
   ]
  },
  {
   "cell_type": "code",
   "execution_count": 20,
   "id": "9e32abfa-546d-483e-8c18-d526e9e05903",
   "metadata": {
    "execution": {
     "iopub.execute_input": "2022-12-05T16:48:32.999720Z",
     "iopub.status.busy": "2022-12-05T16:48:32.999281Z",
     "iopub.status.idle": "2022-12-05T16:48:33.018211Z",
     "shell.execute_reply": "2022-12-05T16:48:33.017695Z"
    },
    "papermill": {
     "duration": 0.032461,
     "end_time": "2022-12-05T16:48:33.019622",
     "exception": false,
     "start_time": "2022-12-05T16:48:32.987161",
     "status": "completed"
    },
    "tags": []
   },
   "outputs": [
    {
     "data": {
      "text/plain": [
       "(6443, 7)"
      ]
     },
     "execution_count": 20,
     "metadata": {},
     "output_type": "execute_result"
    }
   ],
   "source": [
    "genes_info.shape"
   ]
  },
  {
   "cell_type": "code",
   "execution_count": 21,
   "id": "d16c3e92-85ec-468a-9a56-e25a9774a1cb",
   "metadata": {
    "execution": {
     "iopub.execute_input": "2022-12-05T16:48:33.040409Z",
     "iopub.status.busy": "2022-12-05T16:48:33.040161Z",
     "iopub.status.idle": "2022-12-05T16:48:33.062696Z",
     "shell.execute_reply": "2022-12-05T16:48:33.062199Z"
    },
    "papermill": {
     "duration": 0.03469,
     "end_time": "2022-12-05T16:48:33.064085",
     "exception": false,
     "start_time": "2022-12-05T16:48:33.029395",
     "status": "completed"
    },
    "tags": []
   },
   "outputs": [
    {
     "data": {
      "text/html": [
       "<div>\n",
       "<style scoped>\n",
       "    .dataframe tbody tr th:only-of-type {\n",
       "        vertical-align: middle;\n",
       "    }\n",
       "\n",
       "    .dataframe tbody tr th {\n",
       "        vertical-align: top;\n",
       "    }\n",
       "\n",
       "    .dataframe thead th {\n",
       "        text-align: right;\n",
       "    }\n",
       "</style>\n",
       "<table border=\"1\" class=\"dataframe\">\n",
       "  <thead>\n",
       "    <tr style=\"text-align: right;\">\n",
       "      <th></th>\n",
       "      <th>name</th>\n",
       "      <th>id</th>\n",
       "      <th>chr</th>\n",
       "      <th>band</th>\n",
       "      <th>start_position</th>\n",
       "      <th>end_position</th>\n",
       "      <th>gene_length</th>\n",
       "    </tr>\n",
       "  </thead>\n",
       "  <tbody>\n",
       "    <tr>\n",
       "      <th>0</th>\n",
       "      <td>MRPL44</td>\n",
       "      <td>ENSG00000135900</td>\n",
       "      <td>2</td>\n",
       "      <td>2q36.1</td>\n",
       "      <td>223957463</td>\n",
       "      <td>223967714</td>\n",
       "      <td>10251</td>\n",
       "    </tr>\n",
       "    <tr>\n",
       "      <th>1</th>\n",
       "      <td>H1FX</td>\n",
       "      <td>ENSG00000184897</td>\n",
       "      <td>3</td>\n",
       "      <td>3q21.3</td>\n",
       "      <td>129314771</td>\n",
       "      <td>129316286</td>\n",
       "      <td>1515</td>\n",
       "    </tr>\n",
       "    <tr>\n",
       "      <th>2</th>\n",
       "      <td>AGRN</td>\n",
       "      <td>ENSG00000188157</td>\n",
       "      <td>1</td>\n",
       "      <td>1p36.33</td>\n",
       "      <td>1020120</td>\n",
       "      <td>1056118</td>\n",
       "      <td>35998</td>\n",
       "    </tr>\n",
       "    <tr>\n",
       "      <th>3</th>\n",
       "      <td>DNAJB2</td>\n",
       "      <td>ENSG00000135924</td>\n",
       "      <td>2</td>\n",
       "      <td>2q35</td>\n",
       "      <td>219279267</td>\n",
       "      <td>219286900</td>\n",
       "      <td>7633</td>\n",
       "    </tr>\n",
       "    <tr>\n",
       "      <th>4</th>\n",
       "      <td>PISD</td>\n",
       "      <td>ENSG00000241878</td>\n",
       "      <td>22</td>\n",
       "      <td>22q12.2</td>\n",
       "      <td>31618491</td>\n",
       "      <td>31662432</td>\n",
       "      <td>43941</td>\n",
       "    </tr>\n",
       "  </tbody>\n",
       "</table>\n",
       "</div>"
      ],
      "text/plain": [
       "     name               id  chr     band  start_position  end_position  \\\n",
       "0  MRPL44  ENSG00000135900    2   2q36.1       223957463     223967714   \n",
       "1    H1FX  ENSG00000184897    3   3q21.3       129314771     129316286   \n",
       "2    AGRN  ENSG00000188157    1  1p36.33         1020120       1056118   \n",
       "3  DNAJB2  ENSG00000135924    2     2q35       219279267     219286900   \n",
       "4    PISD  ENSG00000241878   22  22q12.2        31618491      31662432   \n",
       "\n",
       "   gene_length  \n",
       "0        10251  \n",
       "1         1515  \n",
       "2        35998  \n",
       "3         7633  \n",
       "4        43941  "
      ]
     },
     "execution_count": 21,
     "metadata": {},
     "output_type": "execute_result"
    }
   ],
   "source": [
    "genes_info.head()"
   ]
  },
  {
   "cell_type": "markdown",
   "id": "d3843e06",
   "metadata": {
    "papermill": {
     "duration": 0.009808,
     "end_time": "2022-12-05T16:48:33.084003",
     "exception": false,
     "start_time": "2022-12-05T16:48:33.074195",
     "status": "completed"
    },
    "tags": []
   },
   "source": [
    "# Compute correlations"
   ]
  },
  {
   "cell_type": "code",
   "execution_count": 22,
   "id": "cb859c15-d1f3-4006-a74c-2b83c0db9611",
   "metadata": {
    "execution": {
     "iopub.execute_input": "2022-12-05T16:48:33.105289Z",
     "iopub.status.busy": "2022-12-05T16:48:33.105046Z",
     "iopub.status.idle": "2022-12-05T16:48:33.132351Z",
     "shell.execute_reply": "2022-12-05T16:48:33.131719Z"
    },
    "papermill": {
     "duration": 0.039666,
     "end_time": "2022-12-05T16:48:33.133577",
     "exception": false,
     "start_time": "2022-12-05T16:48:33.093911",
     "status": "completed"
    },
    "tags": []
   },
   "outputs": [
    {
     "data": {
      "text/plain": [
       "PosixPath('/opt/data/projects/asthma-copd/results/gls_phenoplier/gene_corrs/asthma_only/by_chr/gene_corrs-chr3.pkl')"
      ]
     },
     "metadata": {},
     "output_type": "display_data"
    }
   ],
   "source": [
    "output_dir = OUTPUT_DIR_BASE / \"by_chr\"\n",
    "output_dir.mkdir(exist_ok=True, parents=True)\n",
    "output_file = output_dir / f\"gene_corrs-chr{CHROMOSOME}.pkl\"\n",
    "display(output_file)"
   ]
  },
  {
   "cell_type": "code",
   "execution_count": 23,
   "id": "aa674fe4-6794-4eed-98fa-32b39d1d4ace",
   "metadata": {
    "execution": {
     "iopub.execute_input": "2022-12-05T16:48:33.159199Z",
     "iopub.status.busy": "2022-12-05T16:48:33.158872Z",
     "iopub.status.idle": "2022-12-05T16:48:33.182129Z",
     "shell.execute_reply": "2022-12-05T16:48:33.181459Z"
    },
    "papermill": {
     "duration": 0.038512,
     "end_time": "2022-12-05T16:48:33.183539",
     "exception": false,
     "start_time": "2022-12-05T16:48:33.145027",
     "status": "completed"
    },
    "tags": []
   },
   "outputs": [],
   "source": [
    "warnings.filterwarnings(\"error\")"
   ]
  },
  {
   "cell_type": "code",
   "execution_count": 24,
   "id": "44d5450b-3baf-43f1-9e2e-4b06f1a785f8",
   "metadata": {
    "execution": {
     "iopub.execute_input": "2022-12-05T16:48:33.200854Z",
     "iopub.status.busy": "2022-12-05T16:48:33.200501Z",
     "iopub.status.idle": "2022-12-05T16:48:33.224763Z",
     "shell.execute_reply": "2022-12-05T16:48:33.224078Z"
    },
    "papermill": {
     "duration": 0.034254,
     "end_time": "2022-12-05T16:48:33.226139",
     "exception": false,
     "start_time": "2022-12-05T16:48:33.191885",
     "status": "completed"
    },
    "tags": []
   },
   "outputs": [],
   "source": [
    "# standard checks\n",
    "all_chrs = genes_info[\"chr\"].dropna().unique()\n",
    "assert all_chrs.shape[0] == 22\n",
    "\n",
    "# select chromosome given by the user\n",
    "assert CHROMOSOME in all_chrs"
   ]
  },
  {
   "cell_type": "code",
   "execution_count": 25,
   "id": "2d7c043c-92a7-4d35-991b-fa69ac1e0268",
   "metadata": {
    "execution": {
     "iopub.execute_input": "2022-12-05T16:48:33.244384Z",
     "iopub.status.busy": "2022-12-05T16:48:33.243664Z",
     "iopub.status.idle": "2022-12-05T16:48:33.268141Z",
     "shell.execute_reply": "2022-12-05T16:48:33.267486Z"
    },
    "papermill": {
     "duration": 0.034881,
     "end_time": "2022-12-05T16:48:33.269404",
     "exception": false,
     "start_time": "2022-12-05T16:48:33.234523",
     "status": "completed"
    },
    "tags": []
   },
   "outputs": [
    {
     "name": "stdout",
     "output_type": "stream",
     "text": [
      "Number of genes in chromosome: 393\n"
     ]
    }
   ],
   "source": [
    "# run only on the chromosome specified\n",
    "all_chrs = [CHROMOSOME]\n",
    "genes_chr = genes_info[genes_info[\"chr\"] == CHROMOSOME]\n",
    "\n",
    "# For testing purposes\n",
    "# genes_chr = genes_chr.sample(n=20)\n",
    "\n",
    "print(f\"Number of genes in chromosome: {genes_chr.shape[0]}\", flush=True)"
   ]
  },
  {
   "cell_type": "code",
   "execution_count": 26,
   "id": "916015d8-2979-46d3-a9b9-1cf5a0932c6a",
   "metadata": {
    "execution": {
     "iopub.execute_input": "2022-12-05T16:48:33.287835Z",
     "iopub.status.busy": "2022-12-05T16:48:33.287478Z",
     "iopub.status.idle": "2022-12-05T16:48:33.311413Z",
     "shell.execute_reply": "2022-12-05T16:48:33.310735Z"
    },
    "papermill": {
     "duration": 0.034652,
     "end_time": "2022-12-05T16:48:33.312753",
     "exception": false,
     "start_time": "2022-12-05T16:48:33.278101",
     "status": "completed"
    },
    "tags": []
   },
   "outputs": [],
   "source": [
    "# sort genes by starting position to make visualizations better later\n",
    "genes_chr = genes_chr.sort_values(\"start_position\")"
   ]
  },
  {
   "cell_type": "code",
   "execution_count": 27,
   "id": "a38aa74a-8ad3-47f6-8ef9-56be0e011774",
   "metadata": {
    "execution": {
     "iopub.execute_input": "2022-12-05T16:48:33.333307Z",
     "iopub.status.busy": "2022-12-05T16:48:33.332626Z",
     "iopub.status.idle": "2022-12-05T16:48:33.356118Z",
     "shell.execute_reply": "2022-12-05T16:48:33.355446Z"
    },
    "papermill": {
     "duration": 0.035148,
     "end_time": "2022-12-05T16:48:33.357290",
     "exception": false,
     "start_time": "2022-12-05T16:48:33.322142",
     "status": "completed"
    },
    "tags": []
   },
   "outputs": [],
   "source": [
    "gene_chr_objs = [Gene(ensembl_id=gene_id) for gene_id in genes_chr[\"id\"]]"
   ]
  },
  {
   "cell_type": "code",
   "execution_count": 28,
   "id": "570f974f-13c3-42b6-ad3a-ce99ca885c1a",
   "metadata": {
    "execution": {
     "iopub.execute_input": "2022-12-05T16:48:33.370574Z",
     "iopub.status.busy": "2022-12-05T16:48:33.369937Z",
     "iopub.status.idle": "2022-12-05T16:48:33.392398Z",
     "shell.execute_reply": "2022-12-05T16:48:33.391744Z"
    },
    "papermill": {
     "duration": 0.030383,
     "end_time": "2022-12-05T16:48:33.393426",
     "exception": false,
     "start_time": "2022-12-05T16:48:33.363043",
     "status": "completed"
    },
    "tags": []
   },
   "outputs": [
    {
     "name": "stdout",
     "output_type": "stream",
     "text": [
      "Number of gene combinations: 77421\n"
     ]
    }
   ],
   "source": [
    "n = len(gene_chr_objs)\n",
    "# diagonal elements + upper triangular matrix\n",
    "n_comb = n + int(n * (n - 1) / 2.0)\n",
    "print(f\"Number of gene combinations: {n_comb}\", flush=True)"
   ]
  },
  {
   "cell_type": "code",
   "execution_count": 29,
   "id": "cdbb90a1",
   "metadata": {
    "execution": {
     "iopub.execute_input": "2022-12-05T16:48:33.405884Z",
     "iopub.status.busy": "2022-12-05T16:48:33.405401Z",
     "iopub.status.idle": "2022-12-05T16:55:00.184360Z",
     "shell.execute_reply": "2022-12-05T16:55:00.183801Z"
    },
    "papermill": {
     "duration": 386.786138,
     "end_time": "2022-12-05T16:55:00.185273",
     "exception": false,
     "start_time": "2022-12-05T16:48:33.399135",
     "status": "completed"
    },
    "tags": []
   },
   "outputs": [
    {
     "name": "stderr",
     "output_type": "stream",
     "text": [
      "ENSG00000182899 / ENSG00000182899: 100%|█████████████████████| 77421/77421 [06:26<00:00, 200.19it/s]\n"
     ]
    },
    {
     "data": {
      "text/plain": [
       "PosixPath('/opt/data/projects/asthma-copd/results/gls_phenoplier/gene_corrs/asthma_only/by_chr/gene_corrs-chr3.pkl')"
      ]
     },
     "metadata": {},
     "output_type": "display_data"
    }
   ],
   "source": [
    "gene_corrs = []\n",
    "gene_corrs_data = np.full(\n",
    "    (n, n),\n",
    "    np.nan,\n",
    "    dtype=np.float64,\n",
    ")\n",
    "\n",
    "i = 0\n",
    "with tqdm(ncols=100, total=n_comb) as pbar:\n",
    "    for gene1_idx in range(0, len(gene_chr_objs)):\n",
    "        gene1_obj = gene_chr_objs[gene1_idx]\n",
    "        gene1_tissues = spredixcan_genes_models.loc[gene1_obj.ensembl_id, \"tissue\"]\n",
    "\n",
    "        for gene2_idx in range(gene1_idx, len(gene_chr_objs)):\n",
    "            gene2_obj = gene_chr_objs[gene2_idx]\n",
    "            gene2_tissues = spredixcan_genes_models.loc[gene2_obj.ensembl_id, \"tissue\"]\n",
    "\n",
    "            pbar.set_description(f\"{gene1_obj.ensembl_id} / {gene2_obj.ensembl_id}\")\n",
    "\n",
    "            try:\n",
    "                r = gene1_obj.get_ssm_correlation(\n",
    "                    other_gene=gene2_obj,\n",
    "                    tissues=gene1_tissues,\n",
    "                    other_tissues=gene2_tissues,\n",
    "                    snps_subset=gwas_variants_ids_set,\n",
    "                    condition_number=SMULTIXCAN_CONDITION_NUMBER,\n",
    "                    reference_panel=REFERENCE_PANEL,\n",
    "                    model_type=EQTL_MODEL,\n",
    "                    use_within_distance=COMPUTE_CORRELATIONS_WITHIN_DISTANCE,\n",
    "                )\n",
    "\n",
    "                if r is None:\n",
    "                    # if r is None, it's very likely because:\n",
    "                    #  * one of the genes has no prediction models\n",
    "                    #  * all the SNPs predictors for the gene are not present in the reference\n",
    "                    #    panel\n",
    "\n",
    "                    r = 0.0\n",
    "\n",
    "                gene_corrs.append(r)\n",
    "\n",
    "                gene_corrs_data[gene1_idx, gene2_idx] = r\n",
    "                gene_corrs_data[gene2_idx, gene1_idx] = r\n",
    "            except Warning as e:\n",
    "                if not DEBUG_MODE:\n",
    "                    raise e\n",
    "\n",
    "                print(\n",
    "                    f\"RuntimeWarning for genes {gene1_obj.ensembl_id} and {gene2_obj.ensembl_id}\",\n",
    "                    flush=True,\n",
    "                )\n",
    "                print(traceback.format_exc(), flush=True)\n",
    "\n",
    "                gene_corrs.append(np.nan)\n",
    "            except Exception as e:\n",
    "                if not DEBUG_MODE:\n",
    "                    raise e\n",
    "\n",
    "                print(\n",
    "                    f\"Exception for genes {gene1_obj.ensembl_id} and {gene2_obj.ensembl_id}\",\n",
    "                    flush=True,\n",
    "                )\n",
    "                print(traceback.format_exc(), flush=True)\n",
    "\n",
    "                gene_corrs.append(np.nan)\n",
    "\n",
    "            pbar.update(1)\n",
    "\n",
    "# create a pandas series\n",
    "gene_corrs_flat = pd.Series(gene_corrs)\n",
    "\n",
    "# save\n",
    "# FIXME: consider saving only the condenced matrix here. See here for\n",
    "# more details: https://github.com/greenelab/phenoplier/pull/38#discussion_r634600813\n",
    "# gene_corrs_data = squareform(np.array(gene_corrs, dtype=np.float64))\n",
    "# np.fill_diagonal(gene_corrs_data, 1.0)\n",
    "\n",
    "gene_chr_ids = [g.ensembl_id for g in gene_chr_objs]\n",
    "gene_corrs_df = pd.DataFrame(\n",
    "    data=gene_corrs_data,\n",
    "    index=gene_chr_ids,\n",
    "    columns=gene_chr_ids,\n",
    ")\n",
    "\n",
    "output_dir.mkdir(exist_ok=True, parents=True)\n",
    "display(output_file)\n",
    "\n",
    "gene_corrs_df.to_pickle(output_file)"
   ]
  },
  {
   "cell_type": "markdown",
   "id": "faa67b51-5373-470f-aa72-2ded53fa6dfe",
   "metadata": {
    "papermill": {
     "duration": 2.317953,
     "end_time": "2022-12-05T16:55:04.912098",
     "exception": false,
     "start_time": "2022-12-05T16:55:02.594145",
     "status": "completed"
    },
    "tags": []
   },
   "source": [
    "# Testing"
   ]
  },
  {
   "cell_type": "code",
   "execution_count": 30,
   "id": "14f7d046-4b55-4896-a56b-990127bcc388",
   "metadata": {
    "execution": {
     "iopub.execute_input": "2022-12-05T16:55:09.638658Z",
     "iopub.status.busy": "2022-12-05T16:55:09.638268Z",
     "iopub.status.idle": "2022-12-05T16:55:09.659669Z",
     "shell.execute_reply": "2022-12-05T16:55:09.659066Z"
    },
    "papermill": {
     "duration": 2.348612,
     "end_time": "2022-12-05T16:55:09.660588",
     "exception": false,
     "start_time": "2022-12-05T16:55:07.311976",
     "status": "completed"
    },
    "tags": []
   },
   "outputs": [
    {
     "data": {
      "text/plain": [
       "(393, 393)"
      ]
     },
     "execution_count": 30,
     "metadata": {},
     "output_type": "execute_result"
    }
   ],
   "source": [
    "gene_corrs_df.shape"
   ]
  },
  {
   "cell_type": "code",
   "execution_count": 31,
   "id": "c7d15414-3297-4537-a7c6-7588c0baeb75",
   "metadata": {
    "execution": {
     "iopub.execute_input": "2022-12-05T16:55:14.459544Z",
     "iopub.status.busy": "2022-12-05T16:55:14.459181Z",
     "iopub.status.idle": "2022-12-05T16:55:14.494812Z",
     "shell.execute_reply": "2022-12-05T16:55:14.494362Z"
    },
    "papermill": {
     "duration": 2.402737,
     "end_time": "2022-12-05T16:55:14.495690",
     "exception": false,
     "start_time": "2022-12-05T16:55:12.092953",
     "status": "completed"
    },
    "tags": []
   },
   "outputs": [
    {
     "data": {
      "text/html": [
       "<div>\n",
       "<style scoped>\n",
       "    .dataframe tbody tr th:only-of-type {\n",
       "        vertical-align: middle;\n",
       "    }\n",
       "\n",
       "    .dataframe tbody tr th {\n",
       "        vertical-align: top;\n",
       "    }\n",
       "\n",
       "    .dataframe thead th {\n",
       "        text-align: right;\n",
       "    }\n",
       "</style>\n",
       "<table border=\"1\" class=\"dataframe\">\n",
       "  <thead>\n",
       "    <tr style=\"text-align: right;\">\n",
       "      <th></th>\n",
       "      <th>ENSG00000134121</th>\n",
       "      <th>ENSG00000091181</th>\n",
       "      <th>ENSG00000144455</th>\n",
       "      <th>ENSG00000170364</th>\n",
       "      <th>ENSG00000150995</th>\n",
       "      <th>ENSG00000134107</th>\n",
       "      <th>ENSG00000134109</th>\n",
       "      <th>ENSG00000180914</th>\n",
       "      <th>ENSG00000196220</th>\n",
       "      <th>ENSG00000163719</th>\n",
       "      <th>...</th>\n",
       "      <th>ENSG00000061938</th>\n",
       "      <th>ENSG00000072274</th>\n",
       "      <th>ENSG00000161217</th>\n",
       "      <th>ENSG00000174013</th>\n",
       "      <th>ENSG00000163964</th>\n",
       "      <th>ENSG00000180370</th>\n",
       "      <th>ENSG00000114503</th>\n",
       "      <th>ENSG00000075711</th>\n",
       "      <th>ENSG00000161267</th>\n",
       "      <th>ENSG00000182899</th>\n",
       "    </tr>\n",
       "  </thead>\n",
       "  <tbody>\n",
       "    <tr>\n",
       "      <th>ENSG00000134121</th>\n",
       "      <td>1.000000</td>\n",
       "      <td>0.010500</td>\n",
       "      <td>0.004836</td>\n",
       "      <td>0.008180</td>\n",
       "      <td>0.014952</td>\n",
       "      <td>0.012702</td>\n",
       "      <td>0.010060</td>\n",
       "      <td>0.000000</td>\n",
       "      <td>0.000000</td>\n",
       "      <td>0.000000</td>\n",
       "      <td>...</td>\n",
       "      <td>0.0</td>\n",
       "      <td>0.0</td>\n",
       "      <td>0.0</td>\n",
       "      <td>0.0</td>\n",
       "      <td>0.0</td>\n",
       "      <td>0.0</td>\n",
       "      <td>0.0</td>\n",
       "      <td>0.0</td>\n",
       "      <td>0.0</td>\n",
       "      <td>0.0</td>\n",
       "    </tr>\n",
       "    <tr>\n",
       "      <th>ENSG00000091181</th>\n",
       "      <td>0.010500</td>\n",
       "      <td>1.000000</td>\n",
       "      <td>0.007989</td>\n",
       "      <td>0.008589</td>\n",
       "      <td>0.010344</td>\n",
       "      <td>0.007029</td>\n",
       "      <td>0.006443</td>\n",
       "      <td>0.000000</td>\n",
       "      <td>0.000000</td>\n",
       "      <td>0.000000</td>\n",
       "      <td>...</td>\n",
       "      <td>0.0</td>\n",
       "      <td>0.0</td>\n",
       "      <td>0.0</td>\n",
       "      <td>0.0</td>\n",
       "      <td>0.0</td>\n",
       "      <td>0.0</td>\n",
       "      <td>0.0</td>\n",
       "      <td>0.0</td>\n",
       "      <td>0.0</td>\n",
       "      <td>0.0</td>\n",
       "    </tr>\n",
       "    <tr>\n",
       "      <th>ENSG00000144455</th>\n",
       "      <td>0.004836</td>\n",
       "      <td>0.007989</td>\n",
       "      <td>1.000000</td>\n",
       "      <td>0.132198</td>\n",
       "      <td>0.253037</td>\n",
       "      <td>0.009347</td>\n",
       "      <td>0.005872</td>\n",
       "      <td>0.005822</td>\n",
       "      <td>0.003135</td>\n",
       "      <td>0.000000</td>\n",
       "      <td>...</td>\n",
       "      <td>0.0</td>\n",
       "      <td>0.0</td>\n",
       "      <td>0.0</td>\n",
       "      <td>0.0</td>\n",
       "      <td>0.0</td>\n",
       "      <td>0.0</td>\n",
       "      <td>0.0</td>\n",
       "      <td>0.0</td>\n",
       "      <td>0.0</td>\n",
       "      <td>0.0</td>\n",
       "    </tr>\n",
       "    <tr>\n",
       "      <th>ENSG00000170364</th>\n",
       "      <td>0.008180</td>\n",
       "      <td>0.008589</td>\n",
       "      <td>0.132198</td>\n",
       "      <td>1.000000</td>\n",
       "      <td>0.021178</td>\n",
       "      <td>0.006984</td>\n",
       "      <td>0.009413</td>\n",
       "      <td>0.013113</td>\n",
       "      <td>0.007720</td>\n",
       "      <td>0.000000</td>\n",
       "      <td>...</td>\n",
       "      <td>0.0</td>\n",
       "      <td>0.0</td>\n",
       "      <td>0.0</td>\n",
       "      <td>0.0</td>\n",
       "      <td>0.0</td>\n",
       "      <td>0.0</td>\n",
       "      <td>0.0</td>\n",
       "      <td>0.0</td>\n",
       "      <td>0.0</td>\n",
       "      <td>0.0</td>\n",
       "    </tr>\n",
       "    <tr>\n",
       "      <th>ENSG00000150995</th>\n",
       "      <td>0.014952</td>\n",
       "      <td>0.010344</td>\n",
       "      <td>0.253037</td>\n",
       "      <td>0.021178</td>\n",
       "      <td>1.000000</td>\n",
       "      <td>0.054534</td>\n",
       "      <td>0.010422</td>\n",
       "      <td>0.007584</td>\n",
       "      <td>0.002590</td>\n",
       "      <td>0.001889</td>\n",
       "      <td>...</td>\n",
       "      <td>0.0</td>\n",
       "      <td>0.0</td>\n",
       "      <td>0.0</td>\n",
       "      <td>0.0</td>\n",
       "      <td>0.0</td>\n",
       "      <td>0.0</td>\n",
       "      <td>0.0</td>\n",
       "      <td>0.0</td>\n",
       "      <td>0.0</td>\n",
       "      <td>0.0</td>\n",
       "    </tr>\n",
       "  </tbody>\n",
       "</table>\n",
       "<p>5 rows × 393 columns</p>\n",
       "</div>"
      ],
      "text/plain": [
       "                 ENSG00000134121  ENSG00000091181  ENSG00000144455  \\\n",
       "ENSG00000134121         1.000000         0.010500         0.004836   \n",
       "ENSG00000091181         0.010500         1.000000         0.007989   \n",
       "ENSG00000144455         0.004836         0.007989         1.000000   \n",
       "ENSG00000170364         0.008180         0.008589         0.132198   \n",
       "ENSG00000150995         0.014952         0.010344         0.253037   \n",
       "\n",
       "                 ENSG00000170364  ENSG00000150995  ENSG00000134107  \\\n",
       "ENSG00000134121         0.008180         0.014952         0.012702   \n",
       "ENSG00000091181         0.008589         0.010344         0.007029   \n",
       "ENSG00000144455         0.132198         0.253037         0.009347   \n",
       "ENSG00000170364         1.000000         0.021178         0.006984   \n",
       "ENSG00000150995         0.021178         1.000000         0.054534   \n",
       "\n",
       "                 ENSG00000134109  ENSG00000180914  ENSG00000196220  \\\n",
       "ENSG00000134121         0.010060         0.000000         0.000000   \n",
       "ENSG00000091181         0.006443         0.000000         0.000000   \n",
       "ENSG00000144455         0.005872         0.005822         0.003135   \n",
       "ENSG00000170364         0.009413         0.013113         0.007720   \n",
       "ENSG00000150995         0.010422         0.007584         0.002590   \n",
       "\n",
       "                 ENSG00000163719  ...  ENSG00000061938  ENSG00000072274  \\\n",
       "ENSG00000134121         0.000000  ...              0.0              0.0   \n",
       "ENSG00000091181         0.000000  ...              0.0              0.0   \n",
       "ENSG00000144455         0.000000  ...              0.0              0.0   \n",
       "ENSG00000170364         0.000000  ...              0.0              0.0   \n",
       "ENSG00000150995         0.001889  ...              0.0              0.0   \n",
       "\n",
       "                 ENSG00000161217  ENSG00000174013  ENSG00000163964  \\\n",
       "ENSG00000134121              0.0              0.0              0.0   \n",
       "ENSG00000091181              0.0              0.0              0.0   \n",
       "ENSG00000144455              0.0              0.0              0.0   \n",
       "ENSG00000170364              0.0              0.0              0.0   \n",
       "ENSG00000150995              0.0              0.0              0.0   \n",
       "\n",
       "                 ENSG00000180370  ENSG00000114503  ENSG00000075711  \\\n",
       "ENSG00000134121              0.0              0.0              0.0   \n",
       "ENSG00000091181              0.0              0.0              0.0   \n",
       "ENSG00000144455              0.0              0.0              0.0   \n",
       "ENSG00000170364              0.0              0.0              0.0   \n",
       "ENSG00000150995              0.0              0.0              0.0   \n",
       "\n",
       "                 ENSG00000161267  ENSG00000182899  \n",
       "ENSG00000134121              0.0              0.0  \n",
       "ENSG00000091181              0.0              0.0  \n",
       "ENSG00000144455              0.0              0.0  \n",
       "ENSG00000170364              0.0              0.0  \n",
       "ENSG00000150995              0.0              0.0  \n",
       "\n",
       "[5 rows x 393 columns]"
      ]
     },
     "execution_count": 31,
     "metadata": {},
     "output_type": "execute_result"
    }
   ],
   "source": [
    "gene_corrs_df.head()"
   ]
  },
  {
   "cell_type": "markdown",
   "id": "dad6603f-01c6-41fb-a6f6-241051207dd8",
   "metadata": {
    "papermill": {
     "duration": 2.387502,
     "end_time": "2022-12-05T16:55:19.213337",
     "exception": false,
     "start_time": "2022-12-05T16:55:16.825835",
     "status": "completed"
    },
    "tags": []
   },
   "source": [
    "## Standard checks and stats"
   ]
  },
  {
   "cell_type": "code",
   "execution_count": 32,
   "id": "286686af-1b7b-4440-8453-6bdcbd8de19c",
   "metadata": {
    "execution": {
     "iopub.execute_input": "2022-12-05T16:55:23.904143Z",
     "iopub.status.busy": "2022-12-05T16:55:23.903715Z",
     "iopub.status.idle": "2022-12-05T16:55:23.927109Z",
     "shell.execute_reply": "2022-12-05T16:55:23.926522Z"
    },
    "papermill": {
     "duration": 2.39581,
     "end_time": "2022-12-05T16:55:23.928095",
     "exception": false,
     "start_time": "2022-12-05T16:55:21.532285",
     "status": "completed"
    },
    "tags": []
   },
   "outputs": [],
   "source": [
    "assert not gene_corrs_df.isna().any(axis=None)"
   ]
  },
  {
   "cell_type": "code",
   "execution_count": 33,
   "id": "00583efc-7068-4270-ad1e-4a418e91db96",
   "metadata": {
    "execution": {
     "iopub.execute_input": "2022-12-05T16:55:28.774034Z",
     "iopub.status.busy": "2022-12-05T16:55:28.773611Z",
     "iopub.status.idle": "2022-12-05T16:55:28.799231Z",
     "shell.execute_reply": "2022-12-05T16:55:28.798695Z"
    },
    "papermill": {
     "duration": 2.513687,
     "end_time": "2022-12-05T16:55:28.800130",
     "exception": false,
     "start_time": "2022-12-05T16:55:26.286443",
     "status": "completed"
    },
    "tags": []
   },
   "outputs": [
    {
     "data": {
      "text/plain": [
       "0.0"
      ]
     },
     "metadata": {},
     "output_type": "display_data"
    }
   ],
   "source": [
    "_min_val = gene_corrs_df.min().min()\n",
    "display(_min_val)\n",
    "assert _min_val >= -0.05"
   ]
  },
  {
   "cell_type": "code",
   "execution_count": 34,
   "id": "d04fb2cf-1050-475b-b855-f5f7cc04092b",
   "metadata": {
    "execution": {
     "iopub.execute_input": "2022-12-05T16:55:33.528674Z",
     "iopub.status.busy": "2022-12-05T16:55:33.528312Z",
     "iopub.status.idle": "2022-12-05T16:55:33.550967Z",
     "shell.execute_reply": "2022-12-05T16:55:33.550421Z"
    },
    "papermill": {
     "duration": 2.431647,
     "end_time": "2022-12-05T16:55:33.551776",
     "exception": false,
     "start_time": "2022-12-05T16:55:31.120129",
     "status": "completed"
    },
    "tags": []
   },
   "outputs": [
    {
     "data": {
      "text/plain": [
       "1.0000000000000038"
      ]
     },
     "metadata": {},
     "output_type": "display_data"
    }
   ],
   "source": [
    "_max_val = gene_corrs_df.max().max()  # this captures the diagonal\n",
    "display(_max_val)\n",
    "assert _max_val <= 1.05"
   ]
  },
  {
   "cell_type": "code",
   "execution_count": 35,
   "id": "fe283586-c348-40e0-8841-f6d97bfb021c",
   "metadata": {
    "execution": {
     "iopub.execute_input": "2022-12-05T16:55:38.387494Z",
     "iopub.status.busy": "2022-12-05T16:55:38.387103Z",
     "iopub.status.idle": "2022-12-05T16:55:38.417712Z",
     "shell.execute_reply": "2022-12-05T16:55:38.417113Z"
    },
    "papermill": {
     "duration": 2.439704,
     "end_time": "2022-12-05T16:55:38.418618",
     "exception": false,
     "start_time": "2022-12-05T16:55:35.978914",
     "status": "completed"
    },
    "tags": []
   },
   "outputs": [
    {
     "data": {
      "text/plain": [
       "count    77421.000000\n",
       "mean         0.007992\n",
       "std          0.076416\n",
       "min          0.000000\n",
       "25%          0.000000\n",
       "50%          0.000000\n",
       "75%          0.000000\n",
       "max          1.000000\n",
       "dtype: float64"
      ]
     },
     "execution_count": 35,
     "metadata": {},
     "output_type": "execute_result"
    }
   ],
   "source": [
    "gene_corrs_flat.describe()"
   ]
  },
  {
   "cell_type": "code",
   "execution_count": 36,
   "id": "b3815678-0f93-4b35-897b-a9d047a2aa78",
   "metadata": {
    "execution": {
     "iopub.execute_input": "2022-12-05T16:55:43.276377Z",
     "iopub.status.busy": "2022-12-05T16:55:43.275749Z",
     "iopub.status.idle": "2022-12-05T16:55:43.294888Z",
     "shell.execute_reply": "2022-12-05T16:55:43.294451Z"
    },
    "papermill": {
     "duration": 2.541745,
     "end_time": "2022-12-05T16:55:43.295777",
     "exception": false,
     "start_time": "2022-12-05T16:55:40.754032",
     "status": "completed"
    },
    "tags": []
   },
   "outputs": [
    {
     "data": {
      "text/plain": [
       "0.00    0.000000\n",
       "0.05    0.000000\n",
       "0.10    0.000000\n",
       "0.15    0.000000\n",
       "0.20    0.000000\n",
       "0.25    0.000000\n",
       "0.30    0.000000\n",
       "0.35    0.000000\n",
       "0.40    0.000000\n",
       "0.45    0.000000\n",
       "0.50    0.000000\n",
       "0.55    0.000000\n",
       "0.60    0.000000\n",
       "0.65    0.000000\n",
       "0.70    0.000000\n",
       "0.75    0.000000\n",
       "0.80    0.000000\n",
       "0.85    0.000000\n",
       "0.90    0.000000\n",
       "0.95    0.007424\n",
       "dtype: float64"
      ]
     },
     "metadata": {},
     "output_type": "display_data"
    }
   ],
   "source": [
    "gene_corrs_quantiles = gene_corrs_flat.quantile(np.arange(0, 1, 0.05))\n",
    "display(gene_corrs_quantiles)"
   ]
  },
  {
   "cell_type": "markdown",
   "id": "87134509-b145-4a10-8bc9-b7e914c2b0fa",
   "metadata": {
    "papermill": {
     "duration": 2.360161,
     "end_time": "2022-12-05T16:55:47.985426",
     "exception": false,
     "start_time": "2022-12-05T16:55:45.625265",
     "status": "completed"
    },
    "tags": []
   },
   "source": [
    "## Positive definiteness"
   ]
  },
  {
   "cell_type": "code",
   "execution_count": 37,
   "id": "07d9a9a1-a4f7-48aa-b916-6d42a8cc6186",
   "metadata": {
    "execution": {
     "iopub.execute_input": "2022-12-05T16:55:52.755840Z",
     "iopub.status.busy": "2022-12-05T16:55:52.755435Z",
     "iopub.status.idle": "2022-12-05T16:55:52.822495Z",
     "shell.execute_reply": "2022-12-05T16:55:52.821867Z"
    },
    "papermill": {
     "duration": 2.52932,
     "end_time": "2022-12-05T16:55:52.823820",
     "exception": false,
     "start_time": "2022-12-05T16:55:50.294500",
     "status": "completed"
    },
    "tags": []
   },
   "outputs": [
    {
     "data": {
      "text/plain": [
       "0"
      ]
     },
     "metadata": {},
     "output_type": "display_data"
    },
    {
     "data": {
      "text/plain": [
       "array([], dtype=float64)"
      ]
     },
     "metadata": {},
     "output_type": "display_data"
    }
   ],
   "source": [
    "# print negative eigenvalues\n",
    "eigs = np.linalg.eigvals(gene_corrs_df.to_numpy())\n",
    "display(len(eigs[eigs < 0]))\n",
    "display(eigs[eigs < 0])"
   ]
  },
  {
   "cell_type": "code",
   "execution_count": 38,
   "id": "6e218436-c3c5-4028-8c94-a4fa6260efce",
   "metadata": {
    "execution": {
     "iopub.execute_input": "2022-12-05T16:55:57.504281Z",
     "iopub.status.busy": "2022-12-05T16:55:57.503880Z",
     "iopub.status.idle": "2022-12-05T16:55:57.542017Z",
     "shell.execute_reply": "2022-12-05T16:55:57.541339Z"
    },
    "papermill": {
     "duration": 2.397492,
     "end_time": "2022-12-05T16:55:57.542917",
     "exception": false,
     "start_time": "2022-12-05T16:55:55.145425",
     "status": "completed"
    },
    "tags": []
   },
   "outputs": [
    {
     "name": "stdout",
     "output_type": "stream",
     "text": [
      "Works!\n"
     ]
    }
   ],
   "source": [
    "try:\n",
    "    chol_mat = np.linalg.cholesky(gene_corrs_df.to_numpy())\n",
    "    cov_inv = np.linalg.inv(chol_mat)\n",
    "    print(\"Works!\")\n",
    "except Exception as e:\n",
    "    print(f\"Cholesky decomposition failed: {str(e)}\")"
   ]
  },
  {
   "cell_type": "code",
   "execution_count": 39,
   "id": "dd8827fb-faf9-4c7c-9454-015e94752706",
   "metadata": {
    "execution": {
     "iopub.execute_input": "2022-12-05T16:56:02.414856Z",
     "iopub.status.busy": "2022-12-05T16:56:02.414090Z",
     "iopub.status.idle": "2022-12-05T16:56:02.454008Z",
     "shell.execute_reply": "2022-12-05T16:56:02.453249Z"
    },
    "papermill": {
     "duration": 2.61555,
     "end_time": "2022-12-05T16:56:02.455295",
     "exception": false,
     "start_time": "2022-12-05T16:55:59.839745",
     "status": "completed"
    },
    "tags": []
   },
   "outputs": [
    {
     "name": "stdout",
     "output_type": "stream",
     "text": [
      "Works!\n"
     ]
    }
   ],
   "source": [
    "try:\n",
    "    # decomposition used by statsmodels.GLS\n",
    "    cholsigmainv = np.linalg.cholesky(np.linalg.inv(gene_corrs_df.to_numpy())).T\n",
    "    print(\"Works!\")\n",
    "except Exception as e:\n",
    "    print(f\"Cholesky decomposition failed (statsmodels.GLS): {str(e)}\")"
   ]
  },
  {
   "cell_type": "markdown",
   "id": "8e60a080-edb2-4e9c-b2ef-22961693200c",
   "metadata": {
    "papermill": {
     "duration": 2.220335,
     "end_time": "2022-12-05T16:56:07.064605",
     "exception": false,
     "start_time": "2022-12-05T16:56:04.844270",
     "status": "completed"
    },
    "tags": []
   },
   "source": [
    "## Plot: distribution"
   ]
  },
  {
   "cell_type": "code",
   "execution_count": 40,
   "id": "8301126b-a7d4-4744-9c7d-f0f86eb6f54c",
   "metadata": {
    "execution": {
     "iopub.execute_input": "2022-12-05T16:56:11.829112Z",
     "iopub.status.busy": "2022-12-05T16:56:11.828652Z",
     "iopub.status.idle": "2022-12-05T16:56:12.288148Z",
     "shell.execute_reply": "2022-12-05T16:56:12.287655Z"
    },
    "papermill": {
     "duration": 2.778454,
     "end_time": "2022-12-05T16:56:12.289364",
     "exception": false,
     "start_time": "2022-12-05T16:56:09.510910",
     "status": "completed"
    },
    "tags": []
   },
   "outputs": [
    {
     "data": {
      "image/png": "[encoded data removed]",
      "text/plain": [
       "<Figure size 700x700 with 1 Axes>"
      ]
     },
     "metadata": {},
     "output_type": "display_data"
    }
   ],
   "source": [
    "with sns.plotting_context(\"paper\", font_scale=1.5):\n",
    "    g = sns.displot(gene_corrs_flat, kde=True, height=7)\n",
    "    g.ax.set_title(\n",
    "        f\"Distribution of gene correlation values in chromosome {CHROMOSOME}\"\n",
    "    )"
   ]
  },
  {
   "cell_type": "markdown",
   "id": "cbd52bca-d878-4a2f-b684-5c83aa3038d4",
   "metadata": {
    "papermill": {
     "duration": 2.402111,
     "end_time": "2022-12-05T16:56:17.102150",
     "exception": false,
     "start_time": "2022-12-05T16:56:14.700039",
     "status": "completed"
    },
    "tags": []
   },
   "source": [
    "## Plot: heatmap"
   ]
  },
  {
   "cell_type": "code",
   "execution_count": 41,
   "id": "d03fe63a-c7b2-4fb9-a53c-db362ce843c9",
   "metadata": {
    "execution": {
     "iopub.execute_input": "2022-12-05T16:56:21.859496Z",
     "iopub.status.busy": "2022-12-05T16:56:21.859247Z",
     "iopub.status.idle": "2022-12-05T16:56:21.877944Z",
     "shell.execute_reply": "2022-12-05T16:56:21.877433Z"
    },
    "papermill": {
     "duration": 2.393033,
     "end_time": "2022-12-05T16:56:21.878830",
     "exception": false,
     "start_time": "2022-12-05T16:56:19.485797",
     "status": "completed"
    },
    "tags": []
   },
   "outputs": [
    {
     "data": {
      "text/plain": [
       "'0.0 / 0.05'"
      ]
     },
     "metadata": {},
     "output_type": "display_data"
    }
   ],
   "source": [
    "vmin_val = min(0.00, gene_corrs_quantiles[0.10])\n",
    "vmax_val = max(0.05, gene_corrs_quantiles[0.90])\n",
    "display(f\"{vmin_val} / {vmax_val}\")"
   ]
  },
  {
   "cell_type": "code",
   "execution_count": 42,
   "id": "dc41b70b-5bcc-4d9e-9f33-a22c4a94dab5",
   "metadata": {
    "execution": {
     "iopub.execute_input": "2022-12-05T16:56:26.779212Z",
     "iopub.status.busy": "2022-12-05T16:56:26.779022Z",
     "iopub.status.idle": "2022-12-05T16:56:27.058652Z",
     "shell.execute_reply": "2022-12-05T16:56:27.058133Z"
    },
    "papermill": {
     "duration": 2.697387,
     "end_time": "2022-12-05T16:56:27.060870",
     "exception": false,
     "start_time": "2022-12-05T16:56:24.363483",
     "status": "completed"
    },
    "tags": []
   },
   "outputs": [
    {
     "data": {
      "text/plain": [
       "Text(0.5, 1.0, 'Gene correlations in chromosome 3')"
      ]
     },
     "execution_count": 42,
     "metadata": {},
     "output_type": "execute_result"
    },
    {
     "data": {
      "image/png": "[encoded data removed]",
      "text/plain": [
       "<Figure size 1000x1000 with 2 Axes>"
      ]
     },
     "metadata": {},
     "output_type": "display_data"
    }
   ],
   "source": [
    "f, ax = plt.subplots(figsize=(10, 10))\n",
    "sns.heatmap(\n",
    "    gene_corrs_df,\n",
    "    xticklabels=False,\n",
    "    yticklabels=False,\n",
    "    square=True,\n",
    "    vmin=vmin_val,\n",
    "    vmax=vmax_val,\n",
    "    cmap=\"rocket_r\",\n",
    "    ax=ax,\n",
    ")\n",
    "ax.set_title(f\"Gene correlations in chromosome {CHROMOSOME}\")"
   ]
  },
  {
   "cell_type": "code",
   "execution_count": null,
   "id": "b25e3ead",
   "metadata": {
    "papermill": {
     "duration": 2.39134,
     "end_time": "2022-12-05T16:56:31.947402",
     "exception": false,
     "start_time": "2022-12-05T16:56:29.556062",
     "status": "completed"
    },
    "tags": []
   },
   "outputs": [],
   "source": []
  }
 ],
 "metadata": {
  "jupytext": {
   "cell_metadata_filter": "all,-execution,-papermill,-trusted",
   "formats": "ipynb,py//py:percent"
  },
  "kernelspec": {
   "display_name": "Python 3 (ipykernel)",
   "language": "python",
   "name": "python3"
  },
  "language_info": {
   "codemirror_mode": {
    "name": "ipython",
    "version": 3
   },
   "file_extension": ".py",
   "mimetype": "text/x-python",
   "name": "python",
   "nbconvert_exporter": "python",
   "pygments_lexer": "ipython3",
   "version": "3.10.6"
  },
  "papermill": {
   "default_parameters": {},
   "duration": 490.450989,
   "end_time": "2022-12-05T16:56:37.141958",
   "environment_variables": {},
   "exception": null,
   "input_path": "projects/asthma-copd/nbs/20_gene_corrs/jobs/05-gene_expr_correlations.ipynb",
   "output_path": "projects/asthma-copd/nbs/20_gene_corrs/jobs/../output/asthma_only/05-gene_expr_correlations-chr3.run.ipynb",
   "parameters": {
    "CHROMOSOME": 3,
    "COHORT_NAME": "asthma_only",
    "OUTPUT_DIR_BASE": "/opt/data/projects/asthma-copd/results/gls_phenoplier",
    "PHENOPLIER_NOTEBOOK_FILEPATH": "projects/asthma-copd/nbs/20_gene_corrs/jobs/05-gene_expr_correlations.ipynb"
   },
   "start_time": "2022-12-05T16:48:26.690969",
   "version": "2.2.2"
  }
 },
 "nbformat": 4,
 "nbformat_minor": 5
}
