{
 "cells": [
  {
   "cell_type": "markdown",
   "id": "7a6632fb",
   "metadata": {
    "papermill": {
     "duration": 0.008359,
     "end_time": "2022-12-05T16:48:27.720876",
     "exception": false,
     "start_time": "2022-12-05T16:48:27.712517",
     "status": "completed"
    },
    "tags": []
   },
   "source": [
    "# Description"
   ]
  },
  {
   "cell_type": "markdown",
   "id": "7097c346",
   "metadata": {
    "papermill": {
     "duration": 0.007576,
     "end_time": "2022-12-05T16:48:27.736187",
     "exception": false,
     "start_time": "2022-12-05T16:48:27.728611",
     "status": "completed"
    },
    "tags": []
   },
   "source": [
    "(Please, take a look at the README.md file in this directory for instructions on how to run this notebook)\n",
    "\n",
    "This notebook computes predicted expression correlations between all genes in the MultiPLIER models.\n",
    "\n",
    "It has specicfic parameters for papermill (see under `Settings` below).\n",
    "It can be configured to run on a single chromosome to run in parallel.\n",
    "\n",
    "This notebook is not directly run. See README.md."
   ]
  },
  {
   "cell_type": "markdown",
   "id": "c61d8427",
   "metadata": {
    "papermill": {
     "duration": 0.007585,
     "end_time": "2022-12-05T16:48:27.751419",
     "exception": false,
     "start_time": "2022-12-05T16:48:27.743834",
     "status": "completed"
    },
    "tags": []
   },
   "source": [
    "# Modules"
   ]
  },
  {
   "cell_type": "code",
   "execution_count": 1,
   "id": "bbc0234f",
   "metadata": {
    "execution": {
     "iopub.execute_input": "2022-12-05T16:48:27.768741Z",
     "iopub.status.busy": "2022-12-05T16:48:27.768275Z",
     "iopub.status.idle": "2022-12-05T16:48:27.786869Z",
     "shell.execute_reply": "2022-12-05T16:48:27.786367Z"
    },
    "papermill": {
     "duration": 0.028585,
     "end_time": "2022-12-05T16:48:27.788304",
     "exception": false,
     "start_time": "2022-12-05T16:48:27.759719",
     "status": "completed"
    },
    "tags": []
   },
   "outputs": [],
   "source": [
    "%load_ext autoreload\n",
    "%autoreload 2"
   ]
  },
  {
   "cell_type": "code",
   "execution_count": 2,
   "id": "1d5f5a59",
   "metadata": {
    "execution": {
     "iopub.execute_input": "2022-12-05T16:48:27.809610Z",
     "iopub.status.busy": "2022-12-05T16:48:27.809158Z",
     "iopub.status.idle": "2022-12-05T16:48:28.583617Z",
     "shell.execute_reply": "2022-12-05T16:48:28.583159Z"
    },
    "papermill": {
     "duration": 0.789702,
     "end_time": "2022-12-05T16:48:28.585917",
     "exception": false,
     "start_time": "2022-12-05T16:48:27.796215",
     "status": "completed"
    },
    "tags": []
   },
   "outputs": [],
   "source": [
    "from random import sample, seed\n",
    "import warnings\n",
    "from pathlib import Path\n",
    "import pickle\n",
    "import traceback\n",
    "\n",
    "import numpy as np\n",
    "from scipy.spatial.distance import squareform\n",
    "import pandas as pd\n",
    "from tqdm import tqdm\n",
    "import matplotlib.pyplot as plt\n",
    "import seaborn as sns\n",
    "\n",
    "import conf\n",
    "from entity import Gene"
   ]
  },
  {
   "cell_type": "markdown",
   "id": "1eac24b5",
   "metadata": {
    "papermill": {
     "duration": 0.011805,
     "end_time": "2022-12-05T16:48:28.612545",
     "exception": false,
     "start_time": "2022-12-05T16:48:28.600740",
     "status": "completed"
    },
    "tags": []
   },
   "source": [
    "# Settings"
   ]
  },
  {
   "cell_type": "code",
   "execution_count": 3,
   "id": "ca4560ba",
   "metadata": {
    "execution": {
     "iopub.execute_input": "2022-12-05T16:48:28.630305Z",
     "iopub.status.busy": "2022-12-05T16:48:28.629821Z",
     "iopub.status.idle": "2022-12-05T16:48:28.654360Z",
     "shell.execute_reply": "2022-12-05T16:48:28.653812Z"
    },
    "papermill": {
     "duration": 0.03523,
     "end_time": "2022-12-05T16:48:28.655879",
     "exception": false,
     "start_time": "2022-12-05T16:48:28.620649",
     "status": "completed"
    },
    "tags": [
     "parameters"
    ]
   },
   "outputs": [],
   "source": [
    "# a cohort name (it could be something like UK_BIOBANK, etc)\n",
    "COHORT_NAME = None\n",
    "\n",
    "# reference panel such as 1000G or GTEX_V8\n",
    "REFERENCE_PANEL = \"GTEX_V8\"\n",
    "\n",
    "# predictions models such as MASHR or ELASTIC_NET\n",
    "EQTL_MODEL = \"MASHR\"\n",
    "\n",
    "# this is the default value used in S-MultiXcan to select the\n",
    "# top principal components of the expression correlation matrix\n",
    "SMULTIXCAN_CONDITION_NUMBER = 30\n",
    "\n",
    "# specifies a single chromosome value\n",
    "CHROMOSOME = None\n",
    "\n",
    "# If True, computes the correlation between closeby genes only (see\n",
    "# entity.Gene.within_distance for more details). Otherwise, it computes\n",
    "# correlations for all genes in a chromosome\n",
    "COMPUTE_CORRELATIONS_WITHIN_DISTANCE = True\n",
    "\n",
    "# if True, then it will continue if a gene pair correlation fails,\n",
    "# printing the warning/error for debugging. If False, any warning/error\n",
    "# will be thrown\n",
    "DEBUG_MODE = False\n",
    "\n",
    "# output dir\n",
    "OUTPUT_DIR_BASE = None"
   ]
  },
  {
   "cell_type": "code",
   "execution_count": 4,
   "id": "e3c05b31",
   "metadata": {
    "execution": {
     "iopub.execute_input": "2022-12-05T16:48:28.673869Z",
     "iopub.status.busy": "2022-12-05T16:48:28.673292Z",
     "iopub.status.idle": "2022-12-05T16:48:28.696073Z",
     "shell.execute_reply": "2022-12-05T16:48:28.695536Z"
    },
    "papermill": {
     "duration": 0.033198,
     "end_time": "2022-12-05T16:48:28.697503",
     "exception": false,
     "start_time": "2022-12-05T16:48:28.664305",
     "status": "completed"
    },
    "tags": [
     "injected-parameters"
    ]
   },
   "outputs": [],
   "source": [
    "# Parameters\n",
    "PHENOPLIER_NOTEBOOK_FILEPATH = (\n",
    "    \"projects/asthma-copd/nbs/20_gene_corrs/jobs/05-gene_expr_correlations.ipynb\"\n",
    ")\n",
    "COHORT_NAME = \"asthma_only\"\n",
    "CHROMOSOME = 6\n",
    "OUTPUT_DIR_BASE = \"/opt/data/projects/asthma-copd/results/gls_phenoplier\"\n"
   ]
  },
  {
   "cell_type": "code",
   "execution_count": 5,
   "id": "3190631f-27fc-480f-b18e-571d580425a5",
   "metadata": {
    "execution": {
     "iopub.execute_input": "2022-12-05T16:48:28.714484Z",
     "iopub.status.busy": "2022-12-05T16:48:28.714025Z",
     "iopub.status.idle": "2022-12-05T16:48:28.744422Z",
     "shell.execute_reply": "2022-12-05T16:48:28.743904Z"
    },
    "papermill": {
     "duration": 0.040284,
     "end_time": "2022-12-05T16:48:28.745802",
     "exception": false,
     "start_time": "2022-12-05T16:48:28.705518",
     "status": "completed"
    },
    "tags": []
   },
   "outputs": [
    {
     "data": {
      "text/plain": [
       "'Cohort name: asthma_only'"
      ]
     },
     "metadata": {},
     "output_type": "display_data"
    }
   ],
   "source": [
    "assert COHORT_NAME is not None and len(COHORT_NAME) > 0, \"A cohort name must be given\"\n",
    "\n",
    "COHORT_NAME = COHORT_NAME.lower()\n",
    "display(f\"Cohort name: {COHORT_NAME}\")"
   ]
  },
  {
   "cell_type": "code",
   "execution_count": 6,
   "id": "f53ba19b-0f93-4fa2-a047-63b375939d1a",
   "metadata": {
    "execution": {
     "iopub.execute_input": "2022-12-05T16:48:28.763933Z",
     "iopub.status.busy": "2022-12-05T16:48:28.763289Z",
     "iopub.status.idle": "2022-12-05T16:48:28.787280Z",
     "shell.execute_reply": "2022-12-05T16:48:28.786771Z"
    },
    "papermill": {
     "duration": 0.034206,
     "end_time": "2022-12-05T16:48:28.788721",
     "exception": false,
     "start_time": "2022-12-05T16:48:28.754515",
     "status": "completed"
    },
    "tags": []
   },
   "outputs": [
    {
     "data": {
      "text/plain": [
       "'Reference panel: GTEX_V8'"
      ]
     },
     "metadata": {},
     "output_type": "display_data"
    }
   ],
   "source": [
    "assert (\n",
    "    REFERENCE_PANEL is not None and len(REFERENCE_PANEL) > 0\n",
    "), \"A reference panel must be given\"\n",
    "\n",
    "display(f\"Reference panel: {REFERENCE_PANEL}\")"
   ]
  },
  {
   "cell_type": "code",
   "execution_count": 7,
   "id": "e024d130-c139-429a-9c6e-ccf149e297b0",
   "metadata": {
    "execution": {
     "iopub.execute_input": "2022-12-05T16:48:28.806225Z",
     "iopub.status.busy": "2022-12-05T16:48:28.805759Z",
     "iopub.status.idle": "2022-12-05T16:48:28.830100Z",
     "shell.execute_reply": "2022-12-05T16:48:28.829595Z"
    },
    "papermill": {
     "duration": 0.034595,
     "end_time": "2022-12-05T16:48:28.831534",
     "exception": false,
     "start_time": "2022-12-05T16:48:28.796939",
     "status": "completed"
    },
    "tags": []
   },
   "outputs": [
    {
     "data": {
      "text/plain": [
       "'eQTL model: MASHR) / mashr_'"
      ]
     },
     "metadata": {},
     "output_type": "display_data"
    }
   ],
   "source": [
    "assert (\n",
    "    EQTL_MODEL is not None and len(EQTL_MODEL) > 0\n",
    "), \"A prediction/eQTL model must be given\"\n",
    "\n",
    "EQTL_MODEL_FILES_PREFIX = conf.PHENOMEXCAN[\"PREDICTION_MODELS\"][f\"{EQTL_MODEL}_PREFIX\"]\n",
    "display(f\"eQTL model: {EQTL_MODEL}) / {EQTL_MODEL_FILES_PREFIX}\")"
   ]
  },
  {
   "cell_type": "code",
   "execution_count": 8,
   "id": "552a7f63-a18c-4d3e-bb6a-94f99b431291",
   "metadata": {
    "execution": {
     "iopub.execute_input": "2022-12-05T16:48:28.849633Z",
     "iopub.status.busy": "2022-12-05T16:48:28.849317Z",
     "iopub.status.idle": "2022-12-05T16:48:28.873169Z",
     "shell.execute_reply": "2022-12-05T16:48:28.872664Z"
    },
    "papermill": {
     "duration": 0.034695,
     "end_time": "2022-12-05T16:48:28.874546",
     "exception": false,
     "start_time": "2022-12-05T16:48:28.839851",
     "status": "completed"
    },
    "tags": []
   },
   "outputs": [
    {
     "data": {
      "text/plain": [
       "'S-MultiXcan condition number: 30'"
      ]
     },
     "metadata": {},
     "output_type": "display_data"
    }
   ],
   "source": [
    "assert (\n",
    "    SMULTIXCAN_CONDITION_NUMBER is not None and SMULTIXCAN_CONDITION_NUMBER > 0\n",
    "), \"The S-MultiXcan condition number (positive integer) must be given\"\n",
    "\n",
    "display(f\"S-MultiXcan condition number: {SMULTIXCAN_CONDITION_NUMBER}\")"
   ]
  },
  {
   "cell_type": "code",
   "execution_count": 9,
   "id": "f34a336f-548e-4afe-8955-90eaea4f42c6",
   "metadata": {
    "execution": {
     "iopub.execute_input": "2022-12-05T16:48:28.892885Z",
     "iopub.status.busy": "2022-12-05T16:48:28.892236Z",
     "iopub.status.idle": "2022-12-05T16:48:28.917326Z",
     "shell.execute_reply": "2022-12-05T16:48:28.916817Z"
    },
    "papermill": {
     "duration": 0.035675,
     "end_time": "2022-12-05T16:48:28.918718",
     "exception": false,
     "start_time": "2022-12-05T16:48:28.883043",
     "status": "completed"
    },
    "tags": []
   },
   "outputs": [
    {
     "data": {
      "text/plain": [
       "'Working on chromosome 6'"
      ]
     },
     "metadata": {},
     "output_type": "display_data"
    }
   ],
   "source": [
    "assert CHROMOSOME is not None and (\n",
    "    1 <= CHROMOSOME <= 22\n",
    "), \"You have to select one chromosome (format: number between 1 and 22)\"\n",
    "\n",
    "display(f\"Working on chromosome {CHROMOSOME}\")"
   ]
  },
  {
   "cell_type": "code",
   "execution_count": 10,
   "id": "ab8e96e8-06b5-4363-9dcd-dc4d78cc27f7",
   "metadata": {
    "execution": {
     "iopub.execute_input": "2022-12-05T16:48:28.937284Z",
     "iopub.status.busy": "2022-12-05T16:48:28.936676Z",
     "iopub.status.idle": "2022-12-05T16:48:28.961694Z",
     "shell.execute_reply": "2022-12-05T16:48:28.961175Z"
    },
    "papermill": {
     "duration": 0.03578,
     "end_time": "2022-12-05T16:48:28.963134",
     "exception": false,
     "start_time": "2022-12-05T16:48:28.927354",
     "status": "completed"
    },
    "tags": []
   },
   "outputs": [
    {
     "data": {
      "text/plain": [
       "'Compute correlation within distance True'"
      ]
     },
     "metadata": {},
     "output_type": "display_data"
    }
   ],
   "source": [
    "display(f\"Compute correlation within distance {COMPUTE_CORRELATIONS_WITHIN_DISTANCE}\")"
   ]
  },
  {
   "cell_type": "code",
   "execution_count": 11,
   "id": "b393b698-77e3-4ba2-8ac1-e14d51aa988f",
   "metadata": {
    "execution": {
     "iopub.execute_input": "2022-12-05T16:48:28.982006Z",
     "iopub.status.busy": "2022-12-05T16:48:28.981463Z",
     "iopub.status.idle": "2022-12-05T16:48:29.007193Z",
     "shell.execute_reply": "2022-12-05T16:48:29.006683Z"
    },
    "papermill": {
     "duration": 0.036595,
     "end_time": "2022-12-05T16:48:29.008604",
     "exception": false,
     "start_time": "2022-12-05T16:48:28.972009",
     "status": "completed"
    },
    "tags": []
   },
   "outputs": [
    {
     "data": {
      "text/plain": [
       "'Using output dir base: /opt/data/projects/asthma-copd/results/gls_phenoplier/gene_corrs/asthma_only'"
      ]
     },
     "metadata": {},
     "output_type": "display_data"
    }
   ],
   "source": [
    "assert (\n",
    "    OUTPUT_DIR_BASE is not None and len(OUTPUT_DIR_BASE) > 0\n",
    "), \"Output directory path must be given\"\n",
    "\n",
    "OUTPUT_DIR_BASE = (Path(OUTPUT_DIR_BASE) / \"gene_corrs\" / COHORT_NAME).resolve()\n",
    "\n",
    "OUTPUT_DIR_BASE.mkdir(parents=True, exist_ok=True)\n",
    "\n",
    "display(f\"Using output dir base: {OUTPUT_DIR_BASE}\")"
   ]
  },
  {
   "cell_type": "markdown",
   "id": "d2ba085e",
   "metadata": {
    "papermill": {
     "duration": 0.008571,
     "end_time": "2022-12-05T16:48:29.026231",
     "exception": false,
     "start_time": "2022-12-05T16:48:29.017660",
     "status": "completed"
    },
    "tags": []
   },
   "source": [
    "# Load data"
   ]
  },
  {
   "cell_type": "markdown",
   "id": "7dcb8db7",
   "metadata": {
    "papermill": {
     "duration": 0.008576,
     "end_time": "2022-12-05T16:48:29.043658",
     "exception": false,
     "start_time": "2022-12-05T16:48:29.035082",
     "status": "completed"
    },
    "tags": []
   },
   "source": [
    "## GWAS variants"
   ]
  },
  {
   "cell_type": "code",
   "execution_count": 12,
   "id": "29434c4e-8cd3-4b9b-82e4-b5a251d9dd19",
   "metadata": {
    "execution": {
     "iopub.execute_input": "2022-12-05T16:48:29.062513Z",
     "iopub.status.busy": "2022-12-05T16:48:29.061907Z",
     "iopub.status.idle": "2022-12-05T16:48:31.424128Z",
     "shell.execute_reply": "2022-12-05T16:48:31.423585Z"
    },
    "papermill": {
     "duration": 2.373679,
     "end_time": "2022-12-05T16:48:31.425956",
     "exception": false,
     "start_time": "2022-12-05T16:48:29.052277",
     "status": "completed"
    },
    "tags": []
   },
   "outputs": [],
   "source": [
    "with open(OUTPUT_DIR_BASE / \"gwas_variant_ids.pkl\", \"rb\") as handle:\n",
    "    gwas_variants_ids_set = pickle.load(handle)"
   ]
  },
  {
   "cell_type": "code",
   "execution_count": 13,
   "id": "b9d9dec2-4a76-4bf9-bde2-e24c95acb8a0",
   "metadata": {
    "execution": {
     "iopub.execute_input": "2022-12-05T16:48:31.446316Z",
     "iopub.status.busy": "2022-12-05T16:48:31.446024Z",
     "iopub.status.idle": "2022-12-05T16:48:31.460320Z",
     "shell.execute_reply": "2022-12-05T16:48:31.459911Z"
    },
    "papermill": {
     "duration": 0.026127,
     "end_time": "2022-12-05T16:48:31.461715",
     "exception": false,
     "start_time": "2022-12-05T16:48:31.435588",
     "status": "completed"
    },
    "tags": []
   },
   "outputs": [
    {
     "data": {
      "text/plain": [
       "8578486"
      ]
     },
     "execution_count": 13,
     "metadata": {},
     "output_type": "execute_result"
    }
   ],
   "source": [
    "len(gwas_variants_ids_set)"
   ]
  },
  {
   "cell_type": "code",
   "execution_count": 14,
   "id": "4235b06a-6034-4ee4-a0a3-2ae35d122418",
   "metadata": {
    "execution": {
     "iopub.execute_input": "2022-12-05T16:48:31.482854Z",
     "iopub.status.busy": "2022-12-05T16:48:31.482549Z",
     "iopub.status.idle": "2022-12-05T16:48:32.044469Z",
     "shell.execute_reply": "2022-12-05T16:48:32.043969Z"
    },
    "papermill": {
     "duration": 0.57441,
     "end_time": "2022-12-05T16:48:32.045976",
     "exception": false,
     "start_time": "2022-12-05T16:48:31.471566",
     "status": "completed"
    },
    "tags": []
   },
   "outputs": [
    {
     "data": {
      "text/plain": [
       "['chr12_43123601_T_C_b38',\n",
       " 'chr5_25597148_G_T_b38',\n",
       " 'chr6_37451165_T_C_b38',\n",
       " 'chr1_247177892_C_T_b38',\n",
       " 'chr2_222016799_T_G_b38']"
      ]
     },
     "execution_count": 14,
     "metadata": {},
     "output_type": "execute_result"
    }
   ],
   "source": [
    "list(gwas_variants_ids_set)[:5]"
   ]
  },
  {
   "cell_type": "markdown",
   "id": "07866999-2305-41f9-a144-e69c9122c212",
   "metadata": {
    "papermill": {
     "duration": 0.009856,
     "end_time": "2022-12-05T16:48:32.065852",
     "exception": false,
     "start_time": "2022-12-05T16:48:32.055996",
     "status": "completed"
    },
    "tags": []
   },
   "source": [
    "## S-PrediXcan tissue models"
   ]
  },
  {
   "cell_type": "code",
   "execution_count": 15,
   "id": "780611d9-77c8-405f-90a4-f271f7b09397",
   "metadata": {
    "execution": {
     "iopub.execute_input": "2022-12-05T16:48:32.087625Z",
     "iopub.status.busy": "2022-12-05T16:48:32.087288Z",
     "iopub.status.idle": "2022-12-05T16:48:32.866443Z",
     "shell.execute_reply": "2022-12-05T16:48:32.866002Z"
    },
    "papermill": {
     "duration": 0.791926,
     "end_time": "2022-12-05T16:48:32.868012",
     "exception": false,
     "start_time": "2022-12-05T16:48:32.076086",
     "status": "completed"
    },
    "tags": []
   },
   "outputs": [],
   "source": [
    "spredixcan_genes_models = pd.read_pickle(OUTPUT_DIR_BASE / \"gene_tissues.pkl\")"
   ]
  },
  {
   "cell_type": "code",
   "execution_count": 16,
   "id": "726dd1f6-9557-4225-91fa-b3b879ea96e1",
   "metadata": {
    "execution": {
     "iopub.execute_input": "2022-12-05T16:48:32.888769Z",
     "iopub.status.busy": "2022-12-05T16:48:32.888640Z",
     "iopub.status.idle": "2022-12-05T16:48:32.904133Z",
     "shell.execute_reply": "2022-12-05T16:48:32.903737Z"
    },
    "papermill": {
     "duration": 0.027814,
     "end_time": "2022-12-05T16:48:32.905517",
     "exception": false,
     "start_time": "2022-12-05T16:48:32.877703",
     "status": "completed"
    },
    "tags": []
   },
   "outputs": [
    {
     "data": {
      "text/plain": [
       "(6443, 5)"
      ]
     },
     "execution_count": 16,
     "metadata": {},
     "output_type": "execute_result"
    }
   ],
   "source": [
    "spredixcan_genes_models.shape"
   ]
  },
  {
   "cell_type": "code",
   "execution_count": 17,
   "id": "944a1b48-222c-4eb0-b252-b9de2cbca215",
   "metadata": {
    "execution": {
     "iopub.execute_input": "2022-12-05T16:48:32.926221Z",
     "iopub.status.busy": "2022-12-05T16:48:32.926068Z",
     "iopub.status.idle": "2022-12-05T16:48:32.944565Z",
     "shell.execute_reply": "2022-12-05T16:48:32.944163Z"
    },
    "papermill": {
     "duration": 0.030413,
     "end_time": "2022-12-05T16:48:32.945877",
     "exception": false,
     "start_time": "2022-12-05T16:48:32.915464",
     "status": "completed"
    },
    "tags": []
   },
   "outputs": [
    {
     "data": {
      "text/html": [
       "<div>\n",
       "<style scoped>\n",
       "    .dataframe tbody tr th:only-of-type {\n",
       "        vertical-align: middle;\n",
       "    }\n",
       "\n",
       "    .dataframe tbody tr th {\n",
       "        vertical-align: top;\n",
       "    }\n",
       "\n",
       "    .dataframe thead th {\n",
       "        text-align: right;\n",
       "    }\n",
       "</style>\n",
       "<table border=\"1\" class=\"dataframe\">\n",
       "  <thead>\n",
       "    <tr style=\"text-align: right;\">\n",
       "      <th></th>\n",
       "      <th>gene_name</th>\n",
       "      <th>tissue</th>\n",
       "      <th>n_tissues</th>\n",
       "      <th>n_snps_used_sum</th>\n",
       "      <th>n_snps_in_model_sum</th>\n",
       "    </tr>\n",
       "    <tr>\n",
       "      <th>gene_id</th>\n",
       "      <th></th>\n",
       "      <th></th>\n",
       "      <th></th>\n",
       "      <th></th>\n",
       "      <th></th>\n",
       "    </tr>\n",
       "  </thead>\n",
       "  <tbody>\n",
       "    <tr>\n",
       "      <th>ENSG00000000419</th>\n",
       "      <td>DPM1</td>\n",
       "      <td>(Brain_Hypothalamus, Brain_Substantia_nigra)</td>\n",
       "      <td>2</td>\n",
       "      <td>2</td>\n",
       "      <td>2</td>\n",
       "    </tr>\n",
       "    <tr>\n",
       "      <th>ENSG00000000938</th>\n",
       "      <td>FGR</td>\n",
       "      <td>(Brain_Anterior_cingulate_cortex_BA24, Pituita...</td>\n",
       "      <td>36</td>\n",
       "      <td>40</td>\n",
       "      <td>40</td>\n",
       "    </tr>\n",
       "    <tr>\n",
       "      <th>ENSG00000000971</th>\n",
       "      <td>CFH</td>\n",
       "      <td>(Brain_Anterior_cingulate_cortex_BA24, Pituita...</td>\n",
       "      <td>34</td>\n",
       "      <td>44</td>\n",
       "      <td>44</td>\n",
       "    </tr>\n",
       "    <tr>\n",
       "      <th>ENSG00000001084</th>\n",
       "      <td>GCLC</td>\n",
       "      <td>(Brain_Anterior_cingulate_cortex_BA24, Pituita...</td>\n",
       "      <td>32</td>\n",
       "      <td>46</td>\n",
       "      <td>46</td>\n",
       "    </tr>\n",
       "    <tr>\n",
       "      <th>ENSG00000001167</th>\n",
       "      <td>NFYA</td>\n",
       "      <td>(Brain_Anterior_cingulate_cortex_BA24, Esophag...</td>\n",
       "      <td>40</td>\n",
       "      <td>47</td>\n",
       "      <td>48</td>\n",
       "    </tr>\n",
       "  </tbody>\n",
       "</table>\n",
       "</div>"
      ],
      "text/plain": [
       "                gene_name                                             tissue  \\\n",
       "gene_id                                                                        \n",
       "ENSG00000000419      DPM1       (Brain_Hypothalamus, Brain_Substantia_nigra)   \n",
       "ENSG00000000938       FGR  (Brain_Anterior_cingulate_cortex_BA24, Pituita...   \n",
       "ENSG00000000971       CFH  (Brain_Anterior_cingulate_cortex_BA24, Pituita...   \n",
       "ENSG00000001084      GCLC  (Brain_Anterior_cingulate_cortex_BA24, Pituita...   \n",
       "ENSG00000001167      NFYA  (Brain_Anterior_cingulate_cortex_BA24, Esophag...   \n",
       "\n",
       "                 n_tissues  n_snps_used_sum  n_snps_in_model_sum  \n",
       "gene_id                                                           \n",
       "ENSG00000000419          2                2                    2  \n",
       "ENSG00000000938         36               40                   40  \n",
       "ENSG00000000971         34               44                   44  \n",
       "ENSG00000001084         32               46                   46  \n",
       "ENSG00000001167         40               47                   48  "
      ]
     },
     "execution_count": 17,
     "metadata": {},
     "output_type": "execute_result"
    }
   ],
   "source": [
    "spredixcan_genes_models.head()"
   ]
  },
  {
   "cell_type": "code",
   "execution_count": 18,
   "id": "d1c11bb1-be0b-4f40-b360-633d6827109f",
   "metadata": {
    "execution": {
     "iopub.execute_input": "2022-12-05T16:48:32.967233Z",
     "iopub.status.busy": "2022-12-05T16:48:32.966930Z",
     "iopub.status.idle": "2022-12-05T16:48:32.980791Z",
     "shell.execute_reply": "2022-12-05T16:48:32.980354Z"
    },
    "papermill": {
     "duration": 0.02581,
     "end_time": "2022-12-05T16:48:32.982163",
     "exception": false,
     "start_time": "2022-12-05T16:48:32.956353",
     "status": "completed"
    },
    "tags": []
   },
   "outputs": [],
   "source": [
    "assert spredixcan_genes_models.index.is_unique"
   ]
  },
  {
   "cell_type": "markdown",
   "id": "a5b5092c-a13e-47c4-a92a-480fcc08f3ae",
   "metadata": {
    "papermill": {
     "duration": 0.01028,
     "end_time": "2022-12-05T16:48:33.002420",
     "exception": false,
     "start_time": "2022-12-05T16:48:32.992140",
     "status": "completed"
    },
    "tags": []
   },
   "source": [
    "## Gene info"
   ]
  },
  {
   "cell_type": "code",
   "execution_count": 19,
   "id": "7d6bb224-88e9-4358-ac10-43a41d92cdad",
   "metadata": {
    "execution": {
     "iopub.execute_input": "2022-12-05T16:48:33.023071Z",
     "iopub.status.busy": "2022-12-05T16:48:33.022744Z",
     "iopub.status.idle": "2022-12-05T16:48:33.044937Z",
     "shell.execute_reply": "2022-12-05T16:48:33.044427Z"
    },
    "papermill": {
     "duration": 0.033979,
     "end_time": "2022-12-05T16:48:33.046307",
     "exception": false,
     "start_time": "2022-12-05T16:48:33.012328",
     "status": "completed"
    },
    "tags": []
   },
   "outputs": [],
   "source": [
    "genes_info = pd.read_pickle(OUTPUT_DIR_BASE / \"genes_info.pkl\")"
   ]
  },
  {
   "cell_type": "code",
   "execution_count": 20,
   "id": "9e32abfa-546d-483e-8c18-d526e9e05903",
   "metadata": {
    "execution": {
     "iopub.execute_input": "2022-12-05T16:48:33.067936Z",
     "iopub.status.busy": "2022-12-05T16:48:33.067757Z",
     "iopub.status.idle": "2022-12-05T16:48:33.090585Z",
     "shell.execute_reply": "2022-12-05T16:48:33.090077Z"
    },
    "papermill": {
     "duration": 0.035121,
     "end_time": "2022-12-05T16:48:33.091906",
     "exception": false,
     "start_time": "2022-12-05T16:48:33.056785",
     "status": "completed"
    },
    "tags": []
   },
   "outputs": [
    {
     "data": {
      "text/plain": [
       "(6443, 7)"
      ]
     },
     "execution_count": 20,
     "metadata": {},
     "output_type": "execute_result"
    }
   ],
   "source": [
    "genes_info.shape"
   ]
  },
  {
   "cell_type": "code",
   "execution_count": 21,
   "id": "d16c3e92-85ec-468a-9a56-e25a9774a1cb",
   "metadata": {
    "execution": {
     "iopub.execute_input": "2022-12-05T16:48:33.113147Z",
     "iopub.status.busy": "2022-12-05T16:48:33.112939Z",
     "iopub.status.idle": "2022-12-05T16:48:33.142736Z",
     "shell.execute_reply": "2022-12-05T16:48:33.142196Z"
    },
    "papermill": {
     "duration": 0.041955,
     "end_time": "2022-12-05T16:48:33.144063",
     "exception": false,
     "start_time": "2022-12-05T16:48:33.102108",
     "status": "completed"
    },
    "tags": []
   },
   "outputs": [
    {
     "data": {
      "text/html": [
       "<div>\n",
       "<style scoped>\n",
       "    .dataframe tbody tr th:only-of-type {\n",
       "        vertical-align: middle;\n",
       "    }\n",
       "\n",
       "    .dataframe tbody tr th {\n",
       "        vertical-align: top;\n",
       "    }\n",
       "\n",
       "    .dataframe thead th {\n",
       "        text-align: right;\n",
       "    }\n",
       "</style>\n",
       "<table border=\"1\" class=\"dataframe\">\n",
       "  <thead>\n",
       "    <tr style=\"text-align: right;\">\n",
       "      <th></th>\n",
       "      <th>name</th>\n",
       "      <th>id</th>\n",
       "      <th>chr</th>\n",
       "      <th>band</th>\n",
       "      <th>start_position</th>\n",
       "      <th>end_position</th>\n",
       "      <th>gene_length</th>\n",
       "    </tr>\n",
       "  </thead>\n",
       "  <tbody>\n",
       "    <tr>\n",
       "      <th>0</th>\n",
       "      <td>MRPL44</td>\n",
       "      <td>ENSG00000135900</td>\n",
       "      <td>2</td>\n",
       "      <td>2q36.1</td>\n",
       "      <td>223957463</td>\n",
       "      <td>223967714</td>\n",
       "      <td>10251</td>\n",
       "    </tr>\n",
       "    <tr>\n",
       "      <th>1</th>\n",
       "      <td>H1FX</td>\n",
       "      <td>ENSG00000184897</td>\n",
       "      <td>3</td>\n",
       "      <td>3q21.3</td>\n",
       "      <td>129314771</td>\n",
       "      <td>129316286</td>\n",
       "      <td>1515</td>\n",
       "    </tr>\n",
       "    <tr>\n",
       "      <th>2</th>\n",
       "      <td>AGRN</td>\n",
       "      <td>ENSG00000188157</td>\n",
       "      <td>1</td>\n",
       "      <td>1p36.33</td>\n",
       "      <td>1020120</td>\n",
       "      <td>1056118</td>\n",
       "      <td>35998</td>\n",
       "    </tr>\n",
       "    <tr>\n",
       "      <th>3</th>\n",
       "      <td>DNAJB2</td>\n",
       "      <td>ENSG00000135924</td>\n",
       "      <td>2</td>\n",
       "      <td>2q35</td>\n",
       "      <td>219279267</td>\n",
       "      <td>219286900</td>\n",
       "      <td>7633</td>\n",
       "    </tr>\n",
       "    <tr>\n",
       "      <th>4</th>\n",
       "      <td>PISD</td>\n",
       "      <td>ENSG00000241878</td>\n",
       "      <td>22</td>\n",
       "      <td>22q12.2</td>\n",
       "      <td>31618491</td>\n",
       "      <td>31662432</td>\n",
       "      <td>43941</td>\n",
       "    </tr>\n",
       "  </tbody>\n",
       "</table>\n",
       "</div>"
      ],
      "text/plain": [
       "     name               id  chr     band  start_position  end_position  \\\n",
       "0  MRPL44  ENSG00000135900    2   2q36.1       223957463     223967714   \n",
       "1    H1FX  ENSG00000184897    3   3q21.3       129314771     129316286   \n",
       "2    AGRN  ENSG00000188157    1  1p36.33         1020120       1056118   \n",
       "3  DNAJB2  ENSG00000135924    2     2q35       219279267     219286900   \n",
       "4    PISD  ENSG00000241878   22  22q12.2        31618491      31662432   \n",
       "\n",
       "   gene_length  \n",
       "0        10251  \n",
       "1         1515  \n",
       "2        35998  \n",
       "3         7633  \n",
       "4        43941  "
      ]
     },
     "execution_count": 21,
     "metadata": {},
     "output_type": "execute_result"
    }
   ],
   "source": [
    "genes_info.head()"
   ]
  },
  {
   "cell_type": "markdown",
   "id": "d3843e06",
   "metadata": {
    "papermill": {
     "duration": 0.010517,
     "end_time": "2022-12-05T16:48:33.164959",
     "exception": false,
     "start_time": "2022-12-05T16:48:33.154442",
     "status": "completed"
    },
    "tags": []
   },
   "source": [
    "# Compute correlations"
   ]
  },
  {
   "cell_type": "code",
   "execution_count": 22,
   "id": "cb859c15-d1f3-4006-a74c-2b83c0db9611",
   "metadata": {
    "execution": {
     "iopub.execute_input": "2022-12-05T16:48:33.186013Z",
     "iopub.status.busy": "2022-12-05T16:48:33.185498Z",
     "iopub.status.idle": "2022-12-05T16:48:33.209535Z",
     "shell.execute_reply": "2022-12-05T16:48:33.209021Z"
    },
    "papermill": {
     "duration": 0.035984,
     "end_time": "2022-12-05T16:48:33.210868",
     "exception": false,
     "start_time": "2022-12-05T16:48:33.174884",
     "status": "completed"
    },
    "tags": []
   },
   "outputs": [
    {
     "data": {
      "text/plain": [
       "PosixPath('/opt/data/projects/asthma-copd/results/gls_phenoplier/gene_corrs/asthma_only/by_chr/gene_corrs-chr6.pkl')"
      ]
     },
     "metadata": {},
     "output_type": "display_data"
    }
   ],
   "source": [
    "output_dir = OUTPUT_DIR_BASE / \"by_chr\"\n",
    "output_dir.mkdir(exist_ok=True, parents=True)\n",
    "output_file = output_dir / f\"gene_corrs-chr{CHROMOSOME}.pkl\"\n",
    "display(output_file)"
   ]
  },
  {
   "cell_type": "code",
   "execution_count": 23,
   "id": "aa674fe4-6794-4eed-98fa-32b39d1d4ace",
   "metadata": {
    "execution": {
     "iopub.execute_input": "2022-12-05T16:48:33.232444Z",
     "iopub.status.busy": "2022-12-05T16:48:33.231865Z",
     "iopub.status.idle": "2022-12-05T16:48:33.254471Z",
     "shell.execute_reply": "2022-12-05T16:48:33.253868Z"
    },
    "papermill": {
     "duration": 0.0347,
     "end_time": "2022-12-05T16:48:33.255853",
     "exception": false,
     "start_time": "2022-12-05T16:48:33.221153",
     "status": "completed"
    },
    "tags": []
   },
   "outputs": [],
   "source": [
    "warnings.filterwarnings(\"error\")"
   ]
  },
  {
   "cell_type": "code",
   "execution_count": 24,
   "id": "44d5450b-3baf-43f1-9e2e-4b06f1a785f8",
   "metadata": {
    "execution": {
     "iopub.execute_input": "2022-12-05T16:48:33.277193Z",
     "iopub.status.busy": "2022-12-05T16:48:33.276768Z",
     "iopub.status.idle": "2022-12-05T16:48:33.300272Z",
     "shell.execute_reply": "2022-12-05T16:48:33.299698Z"
    },
    "papermill": {
     "duration": 0.035728,
     "end_time": "2022-12-05T16:48:33.301745",
     "exception": false,
     "start_time": "2022-12-05T16:48:33.266017",
     "status": "completed"
    },
    "tags": []
   },
   "outputs": [],
   "source": [
    "# standard checks\n",
    "all_chrs = genes_info[\"chr\"].dropna().unique()\n",
    "assert all_chrs.shape[0] == 22\n",
    "\n",
    "# select chromosome given by the user\n",
    "assert CHROMOSOME in all_chrs"
   ]
  },
  {
   "cell_type": "code",
   "execution_count": 25,
   "id": "2d7c043c-92a7-4d35-991b-fa69ac1e0268",
   "metadata": {
    "execution": {
     "iopub.execute_input": "2022-12-05T16:48:33.324120Z",
     "iopub.status.busy": "2022-12-05T16:48:33.323524Z",
     "iopub.status.idle": "2022-12-05T16:48:33.347748Z",
     "shell.execute_reply": "2022-12-05T16:48:33.347126Z"
    },
    "papermill": {
     "duration": 0.036649,
     "end_time": "2022-12-05T16:48:33.349275",
     "exception": false,
     "start_time": "2022-12-05T16:48:33.312626",
     "status": "completed"
    },
    "tags": []
   },
   "outputs": [
    {
     "name": "stdout",
     "output_type": "stream",
     "text": [
      "Number of genes in chromosome: 339\n"
     ]
    }
   ],
   "source": [
    "# run only on the chromosome specified\n",
    "all_chrs = [CHROMOSOME]\n",
    "genes_chr = genes_info[genes_info[\"chr\"] == CHROMOSOME]\n",
    "\n",
    "# For testing purposes\n",
    "# genes_chr = genes_chr.sample(n=20)\n",
    "\n",
    "print(f\"Number of genes in chromosome: {genes_chr.shape[0]}\", flush=True)"
   ]
  },
  {
   "cell_type": "code",
   "execution_count": 26,
   "id": "916015d8-2979-46d3-a9b9-1cf5a0932c6a",
   "metadata": {
    "execution": {
     "iopub.execute_input": "2022-12-05T16:48:33.371504Z",
     "iopub.status.busy": "2022-12-05T16:48:33.370827Z",
     "iopub.status.idle": "2022-12-05T16:48:33.393382Z",
     "shell.execute_reply": "2022-12-05T16:48:33.392832Z"
    },
    "papermill": {
     "duration": 0.035232,
     "end_time": "2022-12-05T16:48:33.394809",
     "exception": false,
     "start_time": "2022-12-05T16:48:33.359577",
     "status": "completed"
    },
    "tags": []
   },
   "outputs": [],
   "source": [
    "# sort genes by starting position to make visualizations better later\n",
    "genes_chr = genes_chr.sort_values(\"start_position\")"
   ]
  },
  {
   "cell_type": "code",
   "execution_count": 27,
   "id": "a38aa74a-8ad3-47f6-8ef9-56be0e011774",
   "metadata": {
    "execution": {
     "iopub.execute_input": "2022-12-05T16:48:33.416611Z",
     "iopub.status.busy": "2022-12-05T16:48:33.416171Z",
     "iopub.status.idle": "2022-12-05T16:48:33.440436Z",
     "shell.execute_reply": "2022-12-05T16:48:33.439818Z"
    },
    "papermill": {
     "duration": 0.036751,
     "end_time": "2022-12-05T16:48:33.441890",
     "exception": false,
     "start_time": "2022-12-05T16:48:33.405139",
     "status": "completed"
    },
    "tags": []
   },
   "outputs": [],
   "source": [
    "gene_chr_objs = [Gene(ensembl_id=gene_id) for gene_id in genes_chr[\"id\"]]"
   ]
  },
  {
   "cell_type": "code",
   "execution_count": 28,
   "id": "570f974f-13c3-42b6-ad3a-ce99ca885c1a",
   "metadata": {
    "execution": {
     "iopub.execute_input": "2022-12-05T16:48:33.464314Z",
     "iopub.status.busy": "2022-12-05T16:48:33.463738Z",
     "iopub.status.idle": "2022-12-05T16:48:33.487250Z",
     "shell.execute_reply": "2022-12-05T16:48:33.486700Z"
    },
    "papermill": {
     "duration": 0.036244,
     "end_time": "2022-12-05T16:48:33.488726",
     "exception": false,
     "start_time": "2022-12-05T16:48:33.452482",
     "status": "completed"
    },
    "tags": []
   },
   "outputs": [
    {
     "name": "stdout",
     "output_type": "stream",
     "text": [
      "Number of gene combinations: 57630\n"
     ]
    }
   ],
   "source": [
    "n = len(gene_chr_objs)\n",
    "# diagonal elements + upper triangular matrix\n",
    "n_comb = n + int(n * (n - 1) / 2.0)\n",
    "print(f\"Number of gene combinations: {n_comb}\", flush=True)"
   ]
  },
  {
   "cell_type": "code",
   "execution_count": 29,
   "id": "cdbb90a1",
   "metadata": {
    "execution": {
     "iopub.execute_input": "2022-12-05T16:48:33.512579Z",
     "iopub.status.busy": "2022-12-05T16:48:33.512207Z",
     "iopub.status.idle": "2022-12-05T16:55:15.330773Z",
     "shell.execute_reply": "2022-12-05T16:55:15.330249Z"
    },
    "papermill": {
     "duration": 401.879772,
     "end_time": "2022-12-05T16:55:15.379327",
     "exception": false,
     "start_time": "2022-12-05T16:48:33.499555",
     "status": "completed"
    },
    "tags": []
   },
   "outputs": [
    {
     "name": "stderr",
     "output_type": "stream",
     "text": [
      "ENSG00000112592 / ENSG00000112592: 100%|█████████████████████| 57630/57630 [06:41<00:00, 143.44it/s]\n"
     ]
    },
    {
     "data": {
      "text/plain": [
       "PosixPath('/opt/data/projects/asthma-copd/results/gls_phenoplier/gene_corrs/asthma_only/by_chr/gene_corrs-chr6.pkl')"
      ]
     },
     "metadata": {},
     "output_type": "display_data"
    }
   ],
   "source": [
    "gene_corrs = []\n",
    "gene_corrs_data = np.full(\n",
    "    (n, n),\n",
    "    np.nan,\n",
    "    dtype=np.float64,\n",
    ")\n",
    "\n",
    "i = 0\n",
    "with tqdm(ncols=100, total=n_comb) as pbar:\n",
    "    for gene1_idx in range(0, len(gene_chr_objs)):\n",
    "        gene1_obj = gene_chr_objs[gene1_idx]\n",
    "        gene1_tissues = spredixcan_genes_models.loc[gene1_obj.ensembl_id, \"tissue\"]\n",
    "\n",
    "        for gene2_idx in range(gene1_idx, len(gene_chr_objs)):\n",
    "            gene2_obj = gene_chr_objs[gene2_idx]\n",
    "            gene2_tissues = spredixcan_genes_models.loc[gene2_obj.ensembl_id, \"tissue\"]\n",
    "\n",
    "            pbar.set_description(f\"{gene1_obj.ensembl_id} / {gene2_obj.ensembl_id}\")\n",
    "\n",
    "            try:\n",
    "                r = gene1_obj.get_ssm_correlation(\n",
    "                    other_gene=gene2_obj,\n",
    "                    tissues=gene1_tissues,\n",
    "                    other_tissues=gene2_tissues,\n",
    "                    snps_subset=gwas_variants_ids_set,\n",
    "                    condition_number=SMULTIXCAN_CONDITION_NUMBER,\n",
    "                    reference_panel=REFERENCE_PANEL,\n",
    "                    model_type=EQTL_MODEL,\n",
    "                    use_within_distance=COMPUTE_CORRELATIONS_WITHIN_DISTANCE,\n",
    "                )\n",
    "\n",
    "                if r is None:\n",
    "                    # if r is None, it's very likely because:\n",
    "                    #  * one of the genes has no prediction models\n",
    "                    #  * all the SNPs predictors for the gene are not present in the reference\n",
    "                    #    panel\n",
    "\n",
    "                    r = 0.0\n",
    "\n",
    "                gene_corrs.append(r)\n",
    "\n",
    "                gene_corrs_data[gene1_idx, gene2_idx] = r\n",
    "                gene_corrs_data[gene2_idx, gene1_idx] = r\n",
    "            except Warning as e:\n",
    "                if not DEBUG_MODE:\n",
    "                    raise e\n",
    "\n",
    "                print(\n",
    "                    f\"RuntimeWarning for genes {gene1_obj.ensembl_id} and {gene2_obj.ensembl_id}\",\n",
    "                    flush=True,\n",
    "                )\n",
    "                print(traceback.format_exc(), flush=True)\n",
    "\n",
    "                gene_corrs.append(np.nan)\n",
    "            except Exception as e:\n",
    "                if not DEBUG_MODE:\n",
    "                    raise e\n",
    "\n",
    "                print(\n",
    "                    f\"Exception for genes {gene1_obj.ensembl_id} and {gene2_obj.ensembl_id}\",\n",
    "                    flush=True,\n",
    "                )\n",
    "                print(traceback.format_exc(), flush=True)\n",
    "\n",
    "                gene_corrs.append(np.nan)\n",
    "\n",
    "            pbar.update(1)\n",
    "\n",
    "# create a pandas series\n",
    "gene_corrs_flat = pd.Series(gene_corrs)\n",
    "\n",
    "# save\n",
    "# FIXME: consider saving only the condenced matrix here. See here for\n",
    "# more details: https://github.com/greenelab/phenoplier/pull/38#discussion_r634600813\n",
    "# gene_corrs_data = squareform(np.array(gene_corrs, dtype=np.float64))\n",
    "# np.fill_diagonal(gene_corrs_data, 1.0)\n",
    "\n",
    "gene_chr_ids = [g.ensembl_id for g in gene_chr_objs]\n",
    "gene_corrs_df = pd.DataFrame(\n",
    "    data=gene_corrs_data,\n",
    "    index=gene_chr_ids,\n",
    "    columns=gene_chr_ids,\n",
    ")\n",
    "\n",
    "output_dir.mkdir(exist_ok=True, parents=True)\n",
    "display(output_file)\n",
    "\n",
    "gene_corrs_df.to_pickle(output_file)"
   ]
  },
  {
   "cell_type": "markdown",
   "id": "faa67b51-5373-470f-aa72-2ded53fa6dfe",
   "metadata": {
    "papermill": {
     "duration": 1.823912,
     "end_time": "2022-12-05T16:55:19.038218",
     "exception": false,
     "start_time": "2022-12-05T16:55:17.214306",
     "status": "completed"
    },
    "tags": []
   },
   "source": [
    "# Testing"
   ]
  },
  {
   "cell_type": "code",
   "execution_count": 30,
   "id": "14f7d046-4b55-4896-a56b-990127bcc388",
   "metadata": {
    "execution": {
     "iopub.execute_input": "2022-12-05T16:55:22.527241Z",
     "iopub.status.busy": "2022-12-05T16:55:22.527008Z",
     "iopub.status.idle": "2022-12-05T16:55:22.544948Z",
     "shell.execute_reply": "2022-12-05T16:55:22.544324Z"
    },
    "papermill": {
     "duration": 1.711976,
     "end_time": "2022-12-05T16:55:22.545774",
     "exception": false,
     "start_time": "2022-12-05T16:55:20.833798",
     "status": "completed"
    },
    "tags": []
   },
   "outputs": [
    {
     "data": {
      "text/plain": [
       "(339, 339)"
      ]
     },
     "execution_count": 30,
     "metadata": {},
     "output_type": "execute_result"
    }
   ],
   "source": [
    "gene_corrs_df.shape"
   ]
  },
  {
   "cell_type": "code",
   "execution_count": 31,
   "id": "c7d15414-3297-4537-a7c6-7588c0baeb75",
   "metadata": {
    "execution": {
     "iopub.execute_input": "2022-12-05T16:55:26.149410Z",
     "iopub.status.busy": "2022-12-05T16:55:26.148987Z",
     "iopub.status.idle": "2022-12-05T16:55:26.195096Z",
     "shell.execute_reply": "2022-12-05T16:55:26.194436Z"
    },
    "papermill": {
     "duration": 1.856944,
     "end_time": "2022-12-05T16:55:26.195989",
     "exception": false,
     "start_time": "2022-12-05T16:55:24.339045",
     "status": "completed"
    },
    "tags": []
   },
   "outputs": [
    {
     "data": {
      "text/html": [
       "<div>\n",
       "<style scoped>\n",
       "    .dataframe tbody tr th:only-of-type {\n",
       "        vertical-align: middle;\n",
       "    }\n",
       "\n",
       "    .dataframe tbody tr th {\n",
       "        vertical-align: top;\n",
       "    }\n",
       "\n",
       "    .dataframe thead th {\n",
       "        text-align: right;\n",
       "    }\n",
       "</style>\n",
       "<table border=\"1\" class=\"dataframe\">\n",
       "  <thead>\n",
       "    <tr style=\"text-align: right;\">\n",
       "      <th></th>\n",
       "      <th>ENSG00000137265</th>\n",
       "      <th>ENSG00000112685</th>\n",
       "      <th>ENSG00000112699</th>\n",
       "      <th>ENSG00000124570</th>\n",
       "      <th>ENSG00000137275</th>\n",
       "      <th>ENSG00000137267</th>\n",
       "      <th>ENSG00000112739</th>\n",
       "      <th>ENSG00000153046</th>\n",
       "      <th>ENSG00000145982</th>\n",
       "      <th>ENSG00000124491</th>\n",
       "      <th>...</th>\n",
       "      <th>ENSG00000146477</th>\n",
       "      <th>ENSG00000085511</th>\n",
       "      <th>ENSG00000026652</th>\n",
       "      <th>ENSG00000071242</th>\n",
       "      <th>ENSG00000213066</th>\n",
       "      <th>ENSG00000112486</th>\n",
       "      <th>ENSG00000186340</th>\n",
       "      <th>ENSG00000198719</th>\n",
       "      <th>ENSG00000008018</th>\n",
       "      <th>ENSG00000112592</th>\n",
       "    </tr>\n",
       "  </thead>\n",
       "  <tbody>\n",
       "    <tr>\n",
       "      <th>ENSG00000137265</th>\n",
       "      <td>1.000000</td>\n",
       "      <td>0.008054</td>\n",
       "      <td>0.006876</td>\n",
       "      <td>0.004506</td>\n",
       "      <td>0.004133</td>\n",
       "      <td>0.006410</td>\n",
       "      <td>0.002329</td>\n",
       "      <td>0.006452</td>\n",
       "      <td>0.003889</td>\n",
       "      <td>0.000000</td>\n",
       "      <td>...</td>\n",
       "      <td>0.0</td>\n",
       "      <td>0.0</td>\n",
       "      <td>0.0</td>\n",
       "      <td>0.0</td>\n",
       "      <td>0.0</td>\n",
       "      <td>0.0</td>\n",
       "      <td>0.0</td>\n",
       "      <td>0.0</td>\n",
       "      <td>0.0</td>\n",
       "      <td>0.0</td>\n",
       "    </tr>\n",
       "    <tr>\n",
       "      <th>ENSG00000112685</th>\n",
       "      <td>0.008054</td>\n",
       "      <td>1.000000</td>\n",
       "      <td>0.003501</td>\n",
       "      <td>0.004569</td>\n",
       "      <td>0.007774</td>\n",
       "      <td>0.005397</td>\n",
       "      <td>0.004811</td>\n",
       "      <td>0.003971</td>\n",
       "      <td>0.001251</td>\n",
       "      <td>0.000000</td>\n",
       "      <td>...</td>\n",
       "      <td>0.0</td>\n",
       "      <td>0.0</td>\n",
       "      <td>0.0</td>\n",
       "      <td>0.0</td>\n",
       "      <td>0.0</td>\n",
       "      <td>0.0</td>\n",
       "      <td>0.0</td>\n",
       "      <td>0.0</td>\n",
       "      <td>0.0</td>\n",
       "      <td>0.0</td>\n",
       "    </tr>\n",
       "    <tr>\n",
       "      <th>ENSG00000112699</th>\n",
       "      <td>0.006876</td>\n",
       "      <td>0.003501</td>\n",
       "      <td>1.000000</td>\n",
       "      <td>0.012723</td>\n",
       "      <td>0.005330</td>\n",
       "      <td>0.003385</td>\n",
       "      <td>0.009990</td>\n",
       "      <td>0.009226</td>\n",
       "      <td>0.005002</td>\n",
       "      <td>0.010644</td>\n",
       "      <td>...</td>\n",
       "      <td>0.0</td>\n",
       "      <td>0.0</td>\n",
       "      <td>0.0</td>\n",
       "      <td>0.0</td>\n",
       "      <td>0.0</td>\n",
       "      <td>0.0</td>\n",
       "      <td>0.0</td>\n",
       "      <td>0.0</td>\n",
       "      <td>0.0</td>\n",
       "      <td>0.0</td>\n",
       "    </tr>\n",
       "    <tr>\n",
       "      <th>ENSG00000124570</th>\n",
       "      <td>0.004506</td>\n",
       "      <td>0.004569</td>\n",
       "      <td>0.012723</td>\n",
       "      <td>1.000000</td>\n",
       "      <td>0.108738</td>\n",
       "      <td>0.013058</td>\n",
       "      <td>0.013829</td>\n",
       "      <td>0.011003</td>\n",
       "      <td>0.001829</td>\n",
       "      <td>0.012306</td>\n",
       "      <td>...</td>\n",
       "      <td>0.0</td>\n",
       "      <td>0.0</td>\n",
       "      <td>0.0</td>\n",
       "      <td>0.0</td>\n",
       "      <td>0.0</td>\n",
       "      <td>0.0</td>\n",
       "      <td>0.0</td>\n",
       "      <td>0.0</td>\n",
       "      <td>0.0</td>\n",
       "      <td>0.0</td>\n",
       "    </tr>\n",
       "    <tr>\n",
       "      <th>ENSG00000137275</th>\n",
       "      <td>0.004133</td>\n",
       "      <td>0.007774</td>\n",
       "      <td>0.005330</td>\n",
       "      <td>0.108738</td>\n",
       "      <td>1.000000</td>\n",
       "      <td>0.019379</td>\n",
       "      <td>0.005225</td>\n",
       "      <td>0.009162</td>\n",
       "      <td>0.008165</td>\n",
       "      <td>0.010212</td>\n",
       "      <td>...</td>\n",
       "      <td>0.0</td>\n",
       "      <td>0.0</td>\n",
       "      <td>0.0</td>\n",
       "      <td>0.0</td>\n",
       "      <td>0.0</td>\n",
       "      <td>0.0</td>\n",
       "      <td>0.0</td>\n",
       "      <td>0.0</td>\n",
       "      <td>0.0</td>\n",
       "      <td>0.0</td>\n",
       "    </tr>\n",
       "  </tbody>\n",
       "</table>\n",
       "<p>5 rows × 339 columns</p>\n",
       "</div>"
      ],
      "text/plain": [
       "                 ENSG00000137265  ENSG00000112685  ENSG00000112699  \\\n",
       "ENSG00000137265         1.000000         0.008054         0.006876   \n",
       "ENSG00000112685         0.008054         1.000000         0.003501   \n",
       "ENSG00000112699         0.006876         0.003501         1.000000   \n",
       "ENSG00000124570         0.004506         0.004569         0.012723   \n",
       "ENSG00000137275         0.004133         0.007774         0.005330   \n",
       "\n",
       "                 ENSG00000124570  ENSG00000137275  ENSG00000137267  \\\n",
       "ENSG00000137265         0.004506         0.004133         0.006410   \n",
       "ENSG00000112685         0.004569         0.007774         0.005397   \n",
       "ENSG00000112699         0.012723         0.005330         0.003385   \n",
       "ENSG00000124570         1.000000         0.108738         0.013058   \n",
       "ENSG00000137275         0.108738         1.000000         0.019379   \n",
       "\n",
       "                 ENSG00000112739  ENSG00000153046  ENSG00000145982  \\\n",
       "ENSG00000137265         0.002329         0.006452         0.003889   \n",
       "ENSG00000112685         0.004811         0.003971         0.001251   \n",
       "ENSG00000112699         0.009990         0.009226         0.005002   \n",
       "ENSG00000124570         0.013829         0.011003         0.001829   \n",
       "ENSG00000137275         0.005225         0.009162         0.008165   \n",
       "\n",
       "                 ENSG00000124491  ...  ENSG00000146477  ENSG00000085511  \\\n",
       "ENSG00000137265         0.000000  ...              0.0              0.0   \n",
       "ENSG00000112685         0.000000  ...              0.0              0.0   \n",
       "ENSG00000112699         0.010644  ...              0.0              0.0   \n",
       "ENSG00000124570         0.012306  ...              0.0              0.0   \n",
       "ENSG00000137275         0.010212  ...              0.0              0.0   \n",
       "\n",
       "                 ENSG00000026652  ENSG00000071242  ENSG00000213066  \\\n",
       "ENSG00000137265              0.0              0.0              0.0   \n",
       "ENSG00000112685              0.0              0.0              0.0   \n",
       "ENSG00000112699              0.0              0.0              0.0   \n",
       "ENSG00000124570              0.0              0.0              0.0   \n",
       "ENSG00000137275              0.0              0.0              0.0   \n",
       "\n",
       "                 ENSG00000112486  ENSG00000186340  ENSG00000198719  \\\n",
       "ENSG00000137265              0.0              0.0              0.0   \n",
       "ENSG00000112685              0.0              0.0              0.0   \n",
       "ENSG00000112699              0.0              0.0              0.0   \n",
       "ENSG00000124570              0.0              0.0              0.0   \n",
       "ENSG00000137275              0.0              0.0              0.0   \n",
       "\n",
       "                 ENSG00000008018  ENSG00000112592  \n",
       "ENSG00000137265              0.0              0.0  \n",
       "ENSG00000112685              0.0              0.0  \n",
       "ENSG00000112699              0.0              0.0  \n",
       "ENSG00000124570              0.0              0.0  \n",
       "ENSG00000137275              0.0              0.0  \n",
       "\n",
       "[5 rows x 339 columns]"
      ]
     },
     "execution_count": 31,
     "metadata": {},
     "output_type": "execute_result"
    }
   ],
   "source": [
    "gene_corrs_df.head()"
   ]
  },
  {
   "cell_type": "markdown",
   "id": "dad6603f-01c6-41fb-a6f6-241051207dd8",
   "metadata": {
    "papermill": {
     "duration": 1.732782,
     "end_time": "2022-12-05T16:55:29.682590",
     "exception": false,
     "start_time": "2022-12-05T16:55:27.949808",
     "status": "completed"
    },
    "tags": []
   },
   "source": [
    "## Standard checks and stats"
   ]
  },
  {
   "cell_type": "code",
   "execution_count": 32,
   "id": "286686af-1b7b-4440-8453-6bdcbd8de19c",
   "metadata": {
    "execution": {
     "iopub.execute_input": "2022-12-05T16:55:33.159570Z",
     "iopub.status.busy": "2022-12-05T16:55:33.159116Z",
     "iopub.status.idle": "2022-12-05T16:55:33.185687Z",
     "shell.execute_reply": "2022-12-05T16:55:33.184977Z"
    },
    "papermill": {
     "duration": 1.717711,
     "end_time": "2022-12-05T16:55:33.186622",
     "exception": false,
     "start_time": "2022-12-05T16:55:31.468911",
     "status": "completed"
    },
    "tags": []
   },
   "outputs": [],
   "source": [
    "assert not gene_corrs_df.isna().any(axis=None)"
   ]
  },
  {
   "cell_type": "code",
   "execution_count": 33,
   "id": "00583efc-7068-4270-ad1e-4a418e91db96",
   "metadata": {
    "execution": {
     "iopub.execute_input": "2022-12-05T16:55:36.759289Z",
     "iopub.status.busy": "2022-12-05T16:55:36.758833Z",
     "iopub.status.idle": "2022-12-05T16:55:36.785642Z",
     "shell.execute_reply": "2022-12-05T16:55:36.784966Z"
    },
    "papermill": {
     "duration": 1.76457,
     "end_time": "2022-12-05T16:55:36.786681",
     "exception": false,
     "start_time": "2022-12-05T16:55:35.022111",
     "status": "completed"
    },
    "tags": []
   },
   "outputs": [
    {
     "data": {
      "text/plain": [
       "0.0"
      ]
     },
     "metadata": {},
     "output_type": "display_data"
    }
   ],
   "source": [
    "_min_val = gene_corrs_df.min().min()\n",
    "display(_min_val)\n",
    "assert _min_val >= -0.05"
   ]
  },
  {
   "cell_type": "code",
   "execution_count": 34,
   "id": "d04fb2cf-1050-475b-b855-f5f7cc04092b",
   "metadata": {
    "execution": {
     "iopub.execute_input": "2022-12-05T16:55:40.283569Z",
     "iopub.status.busy": "2022-12-05T16:55:40.283324Z",
     "iopub.status.idle": "2022-12-05T16:55:40.305956Z",
     "shell.execute_reply": "2022-12-05T16:55:40.305309Z"
    },
    "papermill": {
     "duration": 1.750616,
     "end_time": "2022-12-05T16:55:40.306920",
     "exception": false,
     "start_time": "2022-12-05T16:55:38.556304",
     "status": "completed"
    },
    "tags": []
   },
   "outputs": [
    {
     "data": {
      "text/plain": [
       "1.0000000000000029"
      ]
     },
     "metadata": {},
     "output_type": "display_data"
    }
   ],
   "source": [
    "_max_val = gene_corrs_df.max().max()  # this captures the diagonal\n",
    "display(_max_val)\n",
    "assert _max_val <= 1.05"
   ]
  },
  {
   "cell_type": "code",
   "execution_count": 35,
   "id": "fe283586-c348-40e0-8841-f6d97bfb021c",
   "metadata": {
    "execution": {
     "iopub.execute_input": "2022-12-05T16:55:43.773798Z",
     "iopub.status.busy": "2022-12-05T16:55:43.773249Z",
     "iopub.status.idle": "2022-12-05T16:55:43.801400Z",
     "shell.execute_reply": "2022-12-05T16:55:43.800712Z"
    },
    "papermill": {
     "duration": 1.715085,
     "end_time": "2022-12-05T16:55:43.802369",
     "exception": false,
     "start_time": "2022-12-05T16:55:42.087284",
     "status": "completed"
    },
    "tags": []
   },
   "outputs": [
    {
     "data": {
      "text/plain": [
       "count    57630.000000\n",
       "mean         0.010556\n",
       "std          0.083352\n",
       "min          0.000000\n",
       "25%          0.000000\n",
       "50%          0.000000\n",
       "75%          0.000000\n",
       "max          1.000000\n",
       "dtype: float64"
      ]
     },
     "execution_count": 35,
     "metadata": {},
     "output_type": "execute_result"
    }
   ],
   "source": [
    "gene_corrs_flat.describe()"
   ]
  },
  {
   "cell_type": "code",
   "execution_count": 36,
   "id": "b3815678-0f93-4b35-897b-a9d047a2aa78",
   "metadata": {
    "execution": {
     "iopub.execute_input": "2022-12-05T16:55:47.268051Z",
     "iopub.status.busy": "2022-12-05T16:55:47.267531Z",
     "iopub.status.idle": "2022-12-05T16:55:47.295441Z",
     "shell.execute_reply": "2022-12-05T16:55:47.294803Z"
    },
    "papermill": {
     "duration": 1.735599,
     "end_time": "2022-12-05T16:55:47.296334",
     "exception": false,
     "start_time": "2022-12-05T16:55:45.560735",
     "status": "completed"
    },
    "tags": []
   },
   "outputs": [
    {
     "data": {
      "text/plain": [
       "0.00    0.000000\n",
       "0.05    0.000000\n",
       "0.10    0.000000\n",
       "0.15    0.000000\n",
       "0.20    0.000000\n",
       "0.25    0.000000\n",
       "0.30    0.000000\n",
       "0.35    0.000000\n",
       "0.40    0.000000\n",
       "0.45    0.000000\n",
       "0.50    0.000000\n",
       "0.55    0.000000\n",
       "0.60    0.000000\n",
       "0.65    0.000000\n",
       "0.70    0.000000\n",
       "0.75    0.000000\n",
       "0.80    0.000000\n",
       "0.85    0.000000\n",
       "0.90    0.004263\n",
       "0.95    0.011971\n",
       "dtype: float64"
      ]
     },
     "metadata": {},
     "output_type": "display_data"
    }
   ],
   "source": [
    "gene_corrs_quantiles = gene_corrs_flat.quantile(np.arange(0, 1, 0.05))\n",
    "display(gene_corrs_quantiles)"
   ]
  },
  {
   "cell_type": "markdown",
   "id": "87134509-b145-4a10-8bc9-b7e914c2b0fa",
   "metadata": {
    "papermill": {
     "duration": 1.732336,
     "end_time": "2022-12-05T16:55:50.768380",
     "exception": false,
     "start_time": "2022-12-05T16:55:49.036044",
     "status": "completed"
    },
    "tags": []
   },
   "source": [
    "## Positive definiteness"
   ]
  },
  {
   "cell_type": "code",
   "execution_count": 37,
   "id": "07d9a9a1-a4f7-48aa-b916-6d42a8cc6186",
   "metadata": {
    "execution": {
     "iopub.execute_input": "2022-12-05T16:55:54.250304Z",
     "iopub.status.busy": "2022-12-05T16:55:54.249925Z",
     "iopub.status.idle": "2022-12-05T16:55:54.290719Z",
     "shell.execute_reply": "2022-12-05T16:55:54.290207Z"
    },
    "papermill": {
     "duration": 1.738066,
     "end_time": "2022-12-05T16:55:54.291565",
     "exception": false,
     "start_time": "2022-12-05T16:55:52.553499",
     "status": "completed"
    },
    "tags": []
   },
   "outputs": [
    {
     "data": {
      "text/plain": [
       "0"
      ]
     },
     "metadata": {},
     "output_type": "display_data"
    },
    {
     "data": {
      "text/plain": [
       "array([], dtype=float64)"
      ]
     },
     "metadata": {},
     "output_type": "display_data"
    }
   ],
   "source": [
    "# print negative eigenvalues\n",
    "eigs = np.linalg.eigvals(gene_corrs_df.to_numpy())\n",
    "display(len(eigs[eigs < 0]))\n",
    "display(eigs[eigs < 0])"
   ]
  },
  {
   "cell_type": "code",
   "execution_count": 38,
   "id": "6e218436-c3c5-4028-8c94-a4fa6260efce",
   "metadata": {
    "execution": {
     "iopub.execute_input": "2022-12-05T16:55:57.780625Z",
     "iopub.status.busy": "2022-12-05T16:55:57.780086Z",
     "iopub.status.idle": "2022-12-05T16:55:57.814514Z",
     "shell.execute_reply": "2022-12-05T16:55:57.813820Z"
    },
    "papermill": {
     "duration": 1.723403,
     "end_time": "2022-12-05T16:55:57.815435",
     "exception": false,
     "start_time": "2022-12-05T16:55:56.092032",
     "status": "completed"
    },
    "tags": []
   },
   "outputs": [
    {
     "name": "stdout",
     "output_type": "stream",
     "text": [
      "Works!\n"
     ]
    }
   ],
   "source": [
    "try:\n",
    "    chol_mat = np.linalg.cholesky(gene_corrs_df.to_numpy())\n",
    "    cov_inv = np.linalg.inv(chol_mat)\n",
    "    print(\"Works!\")\n",
    "except Exception as e:\n",
    "    print(f\"Cholesky decomposition failed: {str(e)}\")"
   ]
  },
  {
   "cell_type": "code",
   "execution_count": 39,
   "id": "dd8827fb-faf9-4c7c-9454-015e94752706",
   "metadata": {
    "execution": {
     "iopub.execute_input": "2022-12-05T16:56:01.280722Z",
     "iopub.status.busy": "2022-12-05T16:56:01.280303Z",
     "iopub.status.idle": "2022-12-05T16:56:01.312197Z",
     "shell.execute_reply": "2022-12-05T16:56:01.311523Z"
    },
    "papermill": {
     "duration": 1.750965,
     "end_time": "2022-12-05T16:56:01.313283",
     "exception": false,
     "start_time": "2022-12-05T16:55:59.562318",
     "status": "completed"
    },
    "tags": []
   },
   "outputs": [
    {
     "name": "stdout",
     "output_type": "stream",
     "text": [
      "Works!\n"
     ]
    }
   ],
   "source": [
    "try:\n",
    "    # decomposition used by statsmodels.GLS\n",
    "    cholsigmainv = np.linalg.cholesky(np.linalg.inv(gene_corrs_df.to_numpy())).T\n",
    "    print(\"Works!\")\n",
    "except Exception as e:\n",
    "    print(f\"Cholesky decomposition failed (statsmodels.GLS): {str(e)}\")"
   ]
  },
  {
   "cell_type": "markdown",
   "id": "8e60a080-edb2-4e9c-b2ef-22961693200c",
   "metadata": {
    "papermill": {
     "duration": 1.67517,
     "end_time": "2022-12-05T16:56:04.766957",
     "exception": false,
     "start_time": "2022-12-05T16:56:03.091787",
     "status": "completed"
    },
    "tags": []
   },
   "source": [
    "## Plot: distribution"
   ]
  },
  {
   "cell_type": "code",
   "execution_count": 40,
   "id": "8301126b-a7d4-4744-9c7d-f0f86eb6f54c",
   "metadata": {
    "execution": {
     "iopub.execute_input": "2022-12-05T16:56:08.267522Z",
     "iopub.status.busy": "2022-12-05T16:56:08.266934Z",
     "iopub.status.idle": "2022-12-05T16:56:09.126207Z",
     "shell.execute_reply": "2022-12-05T16:56:09.125706Z"
    },
    "papermill": {
     "duration": 2.568852,
     "end_time": "2022-12-05T16:56:09.128009",
     "exception": false,
     "start_time": "2022-12-05T16:56:06.559157",
     "status": "completed"
    },
    "tags": []
   },
   "outputs": [
    {
     "data": {
      "image/png": "[encoded data removed]",
      "text/plain": [
       "<Figure size 700x700 with 1 Axes>"
      ]
     },
     "metadata": {},
     "output_type": "display_data"
    }
   ],
   "source": [
    "with sns.plotting_context(\"paper\", font_scale=1.5):\n",
    "    g = sns.displot(gene_corrs_flat, kde=True, height=7)\n",
    "    g.ax.set_title(\n",
    "        f\"Distribution of gene correlation values in chromosome {CHROMOSOME}\"\n",
    "    )"
   ]
  },
  {
   "cell_type": "markdown",
   "id": "cbd52bca-d878-4a2f-b684-5c83aa3038d4",
   "metadata": {
    "papermill": {
     "duration": 1.771072,
     "end_time": "2022-12-05T16:56:12.794795",
     "exception": false,
     "start_time": "2022-12-05T16:56:11.023723",
     "status": "completed"
    },
    "tags": []
   },
   "source": [
    "## Plot: heatmap"
   ]
  },
  {
   "cell_type": "code",
   "execution_count": 41,
   "id": "d03fe63a-c7b2-4fb9-a53c-db362ce843c9",
   "metadata": {
    "execution": {
     "iopub.execute_input": "2022-12-05T16:56:16.349829Z",
     "iopub.status.busy": "2022-12-05T16:56:16.349506Z",
     "iopub.status.idle": "2022-12-05T16:56:16.368191Z",
     "shell.execute_reply": "2022-12-05T16:56:16.367739Z"
    },
    "papermill": {
     "duration": 1.704303,
     "end_time": "2022-12-05T16:56:16.369086",
     "exception": false,
     "start_time": "2022-12-05T16:56:14.664783",
     "status": "completed"
    },
    "tags": []
   },
   "outputs": [
    {
     "data": {
      "text/plain": [
       "'0.0 / 0.05'"
      ]
     },
     "metadata": {},
     "output_type": "display_data"
    }
   ],
   "source": [
    "vmin_val = min(0.00, gene_corrs_quantiles[0.10])\n",
    "vmax_val = max(0.05, gene_corrs_quantiles[0.90])\n",
    "display(f\"{vmin_val} / {vmax_val}\")"
   ]
  },
  {
   "cell_type": "code",
   "execution_count": 42,
   "id": "dc41b70b-5bcc-4d9e-9f33-a22c4a94dab5",
   "metadata": {
    "execution": {
     "iopub.execute_input": "2022-12-05T16:56:19.870146Z",
     "iopub.status.busy": "2022-12-05T16:56:19.869742Z",
     "iopub.status.idle": "2022-12-05T16:56:20.130339Z",
     "shell.execute_reply": "2022-12-05T16:56:20.129932Z"
    },
    "papermill": {
     "duration": 1.987702,
     "end_time": "2022-12-05T16:56:20.131131",
     "exception": false,
     "start_time": "2022-12-05T16:56:18.143429",
     "status": "completed"
    },
    "tags": []
   },
   "outputs": [
    {
     "data": {
      "text/plain": [
       "Text(0.5, 1.0, 'Gene correlations in chromosome 6')"
      ]
     },
     "execution_count": 42,
     "metadata": {},
     "output_type": "execute_result"
    },
    {
     "data": {
      "image/png": "[encoded data removed]",
      "text/plain": [
       "<Figure size 1000x1000 with 2 Axes>"
      ]
     },
     "metadata": {},
     "output_type": "display_data"
    }
   ],
   "source": [
    "f, ax = plt.subplots(figsize=(10, 10))\n",
    "sns.heatmap(\n",
    "    gene_corrs_df,\n",
    "    xticklabels=False,\n",
    "    yticklabels=False,\n",
    "    square=True,\n",
    "    vmin=vmin_val,\n",
    "    vmax=vmax_val,\n",
    "    cmap=\"rocket_r\",\n",
    "    ax=ax,\n",
    ")\n",
    "ax.set_title(f\"Gene correlations in chromosome {CHROMOSOME}\")"
   ]
  },
  {
   "cell_type": "code",
   "execution_count": null,
   "id": "b25e3ead",
   "metadata": {
    "papermill": {
     "duration": 1.722736,
     "end_time": "2022-12-05T16:56:23.606643",
     "exception": false,
     "start_time": "2022-12-05T16:56:21.883907",
     "status": "completed"
    },
    "tags": []
   },
   "outputs": [],
   "source": []
  }
 ],
 "metadata": {
  "jupytext": {
   "cell_metadata_filter": "all,-execution,-papermill,-trusted",
   "formats": "ipynb,py//py:percent"
  },
  "kernelspec": {
   "display_name": "Python 3 (ipykernel)",
   "language": "python",
   "name": "python3"
  },
  "language_info": {
   "codemirror_mode": {
    "name": "ipython",
    "version": 3
   },
   "file_extension": ".py",
   "mimetype": "text/x-python",
   "name": "python",
   "nbconvert_exporter": "python",
   "pygments_lexer": "ipython3",
   "version": "3.10.6"
  },
  "papermill": {
   "default_parameters": {},
   "duration": 481.841807,
   "end_time": "2022-12-05T16:56:28.535597",
   "environment_variables": {},
   "exception": null,
   "input_path": "projects/asthma-copd/nbs/20_gene_corrs/jobs/05-gene_expr_correlations.ipynb",
   "output_path": "projects/asthma-copd/nbs/20_gene_corrs/jobs/../output/asthma_only/05-gene_expr_correlations-chr6.run.ipynb",
   "parameters": {
    "CHROMOSOME": 6,
    "COHORT_NAME": "asthma_only",
    "OUTPUT_DIR_BASE": "/opt/data/projects/asthma-copd/results/gls_phenoplier",
    "PHENOPLIER_NOTEBOOK_FILEPATH": "projects/asthma-copd/nbs/20_gene_corrs/jobs/05-gene_expr_correlations.ipynb"
   },
   "start_time": "2022-12-05T16:48:26.693790",
   "version": "2.2.2"
  }
 },
 "nbformat": 4,
 "nbformat_minor": 5
}
