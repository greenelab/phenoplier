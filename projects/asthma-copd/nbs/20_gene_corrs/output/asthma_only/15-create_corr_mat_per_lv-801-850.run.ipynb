{
 "cells": [
  {
   "cell_type": "markdown",
   "id": "5ef66977",
   "metadata": {
    "papermill": {
     "duration": 0.007524,
     "end_time": "2022-12-15T19:08:03.693303",
     "exception": false,
     "start_time": "2022-12-15T19:08:03.685779",
     "status": "completed"
    },
    "tags": []
   },
   "source": [
    "# Description"
   ]
  },
  {
   "cell_type": "markdown",
   "id": "658d4f7c",
   "metadata": {
    "papermill": {
     "duration": 0.006895,
     "end_time": "2022-12-15T19:08:03.707110",
     "exception": false,
     "start_time": "2022-12-15T19:08:03.700215",
     "status": "completed"
    },
    "tags": []
   },
   "source": [
    "(Please, take a look at the README.md file in this directory for instructions on how to run this notebook)\n",
    "\n",
    "It computes an LV-specific correlation matrix by using the top genes in that LV only.\n",
    "\n",
    "It has specicfic parameters for papermill (see under `Settings` below).\n",
    "\n",
    "This notebook is not directly run. See README.md."
   ]
  },
  {
   "cell_type": "markdown",
   "id": "60fa4530",
   "metadata": {
    "papermill": {
     "duration": 0.010006,
     "end_time": "2022-12-15T19:08:03.727216",
     "exception": false,
     "start_time": "2022-12-15T19:08:03.717210",
     "status": "completed"
    },
    "tags": []
   },
   "source": [
    "# Modules"
   ]
  },
  {
   "cell_type": "code",
   "execution_count": 1,
   "id": "d70b0833",
   "metadata": {
    "execution": {
     "iopub.execute_input": "2022-12-15T19:08:03.744988Z",
     "iopub.status.busy": "2022-12-15T19:08:03.744795Z",
     "iopub.status.idle": "2022-12-15T19:08:03.758416Z",
     "shell.execute_reply": "2022-12-15T19:08:03.757956Z"
    },
    "papermill": {
     "duration": 0.022941,
     "end_time": "2022-12-15T19:08:03.760021",
     "exception": false,
     "start_time": "2022-12-15T19:08:03.737080",
     "status": "completed"
    },
    "tags": []
   },
   "outputs": [],
   "source": [
    "%load_ext autoreload\n",
    "%autoreload 2"
   ]
  },
  {
   "cell_type": "code",
   "execution_count": 2,
   "id": "6b2f9ca0",
   "metadata": {
    "execution": {
     "iopub.execute_input": "2022-12-15T19:08:03.779569Z",
     "iopub.status.busy": "2022-12-15T19:08:03.779301Z",
     "iopub.status.idle": "2022-12-15T19:08:04.541061Z",
     "shell.execute_reply": "2022-12-15T19:08:04.540508Z"
    },
    "papermill": {
     "duration": 0.774395,
     "end_time": "2022-12-15T19:08:04.542777",
     "exception": false,
     "start_time": "2022-12-15T19:08:03.768382",
     "status": "completed"
    },
    "tags": []
   },
   "outputs": [],
   "source": [
    "from pathlib import Path\n",
    "from concurrent.futures import ProcessPoolExecutor, as_completed\n",
    "\n",
    "import numpy as np\n",
    "from scipy.spatial.distance import squareform\n",
    "from scipy import sparse\n",
    "import pandas as pd\n",
    "from tqdm import tqdm\n",
    "\n",
    "import conf\n",
    "from utils import chunker\n",
    "from entity import Gene\n",
    "from gls import GLSPhenoplier"
   ]
  },
  {
   "cell_type": "markdown",
   "id": "5b96e797",
   "metadata": {
    "papermill": {
     "duration": 0.005614,
     "end_time": "2022-12-15T19:08:04.554160",
     "exception": false,
     "start_time": "2022-12-15T19:08:04.548546",
     "status": "completed"
    },
    "tags": []
   },
   "source": [
    "# Settings"
   ]
  },
  {
   "cell_type": "code",
   "execution_count": 3,
   "id": "4fc1b6a0",
   "metadata": {
    "execution": {
     "iopub.execute_input": "2022-12-15T19:08:04.566710Z",
     "iopub.status.busy": "2022-12-15T19:08:04.566467Z",
     "iopub.status.idle": "2022-12-15T19:08:04.600992Z",
     "shell.execute_reply": "2022-12-15T19:08:04.600597Z"
    },
    "papermill": {
     "duration": 0.042486,
     "end_time": "2022-12-15T19:08:04.602646",
     "exception": false,
     "start_time": "2022-12-15T19:08:04.560160",
     "status": "completed"
    },
    "tags": [
     "parameters"
    ]
   },
   "outputs": [],
   "source": [
    "# a cohort name (it could be something like UK_BIOBANK, etc)\n",
    "COHORT_NAME = None\n",
    "\n",
    "# reference panel such as 1000G or GTEX_V8\n",
    "REFERENCE_PANEL = \"GTEX_V8\"\n",
    "\n",
    "# predictions models such as MASHR or ELASTIC_NET\n",
    "EQTL_MODEL = \"MASHR\"\n",
    "\n",
    "# A range of LVs in the format X-Y, such as 1-50 (from LV1 to LV50).\n",
    "# If None, all LVs will be processed.\n",
    "LV_RANGE = None\n",
    "\n",
    "# A number from 0.0 to 1.0 indicating the top percentile of the genes in the LV to keep.\n",
    "# A value of 0.01 would take the top 1% of the genes in the LV.\n",
    "# If zero or None, then all nonzero weighted genes in the LV will be kept.\n",
    "LV_PERCENTILE = None"
   ]
  },
  {
   "cell_type": "code",
   "execution_count": 4,
   "id": "857c6ad6",
   "metadata": {
    "execution": {
     "iopub.execute_input": "2022-12-15T19:08:04.618275Z",
     "iopub.status.busy": "2022-12-15T19:08:04.618053Z",
     "iopub.status.idle": "2022-12-15T19:08:04.648878Z",
     "shell.execute_reply": "2022-12-15T19:08:04.648459Z"
    },
    "papermill": {
     "duration": 0.041618,
     "end_time": "2022-12-15T19:08:04.651107",
     "exception": false,
     "start_time": "2022-12-15T19:08:04.609489",
     "status": "completed"
    },
    "tags": [
     "injected-parameters"
    ]
   },
   "outputs": [],
   "source": [
    "# Parameters\n",
    "PHENOPLIER_NOTEBOOK_FILEPATH = (\n",
    "    \"projects/asthma-copd/nbs/20_gene_corrs/jobs/15-create_corr_mat_per_lv.ipynb\"\n",
    ")\n",
    "COHORT_NAME = \"asthma_only\"\n",
    "LV_RANGE = \"801-850\"\n",
    "LV_PERCENTILE = \"0.01\"\n",
    "OUTPUT_DIR_BASE = \"/opt/data/projects/asthma-copd/results/gls_phenoplier\"\n"
   ]
  },
  {
   "cell_type": "code",
   "execution_count": 5,
   "id": "1dbaa2d1-b4d2-4247-bbdc-84f9a08fe15a",
   "metadata": {
    "execution": {
     "iopub.execute_input": "2022-12-15T19:08:04.672242Z",
     "iopub.status.busy": "2022-12-15T19:08:04.672000Z",
     "iopub.status.idle": "2022-12-15T19:08:04.699234Z",
     "shell.execute_reply": "2022-12-15T19:08:04.698834Z"
    },
    "papermill": {
     "duration": 0.038136,
     "end_time": "2022-12-15T19:08:04.700649",
     "exception": false,
     "start_time": "2022-12-15T19:08:04.662513",
     "status": "completed"
    },
    "tags": []
   },
   "outputs": [],
   "source": [
    "N_JOBS = 1"
   ]
  },
  {
   "cell_type": "code",
   "execution_count": 6,
   "id": "10c1d77a-c024-4d52-8888-7806944731ff",
   "metadata": {
    "execution": {
     "iopub.execute_input": "2022-12-15T19:08:04.711540Z",
     "iopub.status.busy": "2022-12-15T19:08:04.711328Z",
     "iopub.status.idle": "2022-12-15T19:08:04.746144Z",
     "shell.execute_reply": "2022-12-15T19:08:04.745551Z"
    },
    "papermill": {
     "duration": 0.04181,
     "end_time": "2022-12-15T19:08:04.747446",
     "exception": false,
     "start_time": "2022-12-15T19:08:04.705636",
     "status": "completed"
    },
    "tags": []
   },
   "outputs": [
    {
     "data": {
      "text/plain": [
       "'Cohort name: asthma_only'"
      ]
     },
     "metadata": {},
     "output_type": "display_data"
    }
   ],
   "source": [
    "assert COHORT_NAME is not None and len(COHORT_NAME) > 0, \"A cohort name must be given\"\n",
    "\n",
    "COHORT_NAME = COHORT_NAME.lower()\n",
    "display(f\"Cohort name: {COHORT_NAME}\")"
   ]
  },
  {
   "cell_type": "code",
   "execution_count": 7,
   "id": "2d74d598-860b-4994-a8ab-495c6ea1d93d",
   "metadata": {
    "execution": {
     "iopub.execute_input": "2022-12-15T19:08:04.759065Z",
     "iopub.status.busy": "2022-12-15T19:08:04.758822Z",
     "iopub.status.idle": "2022-12-15T19:08:04.791422Z",
     "shell.execute_reply": "2022-12-15T19:08:04.790995Z"
    },
    "papermill": {
     "duration": 0.039104,
     "end_time": "2022-12-15T19:08:04.792589",
     "exception": false,
     "start_time": "2022-12-15T19:08:04.753485",
     "status": "completed"
    },
    "tags": []
   },
   "outputs": [
    {
     "data": {
      "text/plain": [
       "'Reference panel: GTEX_V8'"
      ]
     },
     "metadata": {},
     "output_type": "display_data"
    }
   ],
   "source": [
    "assert (\n",
    "    REFERENCE_PANEL is not None and len(REFERENCE_PANEL) > 0\n",
    "), \"A reference panel must be given\"\n",
    "\n",
    "display(f\"Reference panel: {REFERENCE_PANEL}\")"
   ]
  },
  {
   "cell_type": "code",
   "execution_count": 8,
   "id": "23fccc89-f877-46a0-86c9-caa7b2cd71e2",
   "metadata": {
    "execution": {
     "iopub.execute_input": "2022-12-15T19:08:04.805299Z",
     "iopub.status.busy": "2022-12-15T19:08:04.804651Z",
     "iopub.status.idle": "2022-12-15T19:08:04.836869Z",
     "shell.execute_reply": "2022-12-15T19:08:04.836412Z"
    },
    "papermill": {
     "duration": 0.039171,
     "end_time": "2022-12-15T19:08:04.837882",
     "exception": false,
     "start_time": "2022-12-15T19:08:04.798711",
     "status": "completed"
    },
    "tags": []
   },
   "outputs": [
    {
     "data": {
      "text/plain": [
       "'eQTL model: MASHR / mashr_'"
      ]
     },
     "metadata": {},
     "output_type": "display_data"
    }
   ],
   "source": [
    "assert (\n",
    "    EQTL_MODEL is not None and len(EQTL_MODEL) > 0\n",
    "), \"A prediction/eQTL model must be given\"\n",
    "\n",
    "EQTL_MODEL_FILES_PREFIX = conf.PHENOMEXCAN[\"PREDICTION_MODELS\"][f\"{EQTL_MODEL}_PREFIX\"]\n",
    "display(f\"eQTL model: {EQTL_MODEL} / {EQTL_MODEL_FILES_PREFIX}\")"
   ]
  },
  {
   "cell_type": "code",
   "execution_count": 9,
   "id": "9cf97d20-389b-4919-acff-a1e2e1c5a707",
   "metadata": {
    "execution": {
     "iopub.execute_input": "2022-12-15T19:08:04.846318Z",
     "iopub.status.busy": "2022-12-15T19:08:04.846157Z",
     "iopub.status.idle": "2022-12-15T19:08:04.883170Z",
     "shell.execute_reply": "2022-12-15T19:08:04.882731Z"
    },
    "papermill": {
     "duration": 0.042393,
     "end_time": "2022-12-15T19:08:04.884136",
     "exception": false,
     "start_time": "2022-12-15T19:08:04.841743",
     "status": "completed"
    },
    "tags": []
   },
   "outputs": [
    {
     "data": {
      "text/plain": [
       "'LV percentile: 0.01'"
      ]
     },
     "metadata": {},
     "output_type": "display_data"
    }
   ],
   "source": [
    "if LV_PERCENTILE is not None:\n",
    "    LV_PERCENTILE = float(LV_PERCENTILE)\n",
    "\n",
    "display(f\"LV percentile: {LV_PERCENTILE}\")"
   ]
  },
  {
   "cell_type": "code",
   "execution_count": 10,
   "id": "b3320631-6bf0-4878-85d4-9a81497c0b3c",
   "metadata": {
    "execution": {
     "iopub.execute_input": "2022-12-15T19:08:04.892739Z",
     "iopub.status.busy": "2022-12-15T19:08:04.892579Z",
     "iopub.status.idle": "2022-12-15T19:08:04.918024Z",
     "shell.execute_reply": "2022-12-15T19:08:04.917615Z"
    },
    "papermill": {
     "duration": 0.030966,
     "end_time": "2022-12-15T19:08:04.918980",
     "exception": false,
     "start_time": "2022-12-15T19:08:04.888014",
     "status": "completed"
    },
    "tags": []
   },
   "outputs": [
    {
     "data": {
      "text/plain": [
       "'Using output dir base: /opt/data/projects/asthma-copd/results/gls_phenoplier/gene_corrs/asthma_only'"
      ]
     },
     "metadata": {},
     "output_type": "display_data"
    }
   ],
   "source": [
    "assert (\n",
    "    OUTPUT_DIR_BASE is not None and len(OUTPUT_DIR_BASE) > 0\n",
    "), \"Output directory path must be given\"\n",
    "\n",
    "OUTPUT_DIR_BASE = (Path(OUTPUT_DIR_BASE) / \"gene_corrs\" / COHORT_NAME).resolve()\n",
    "\n",
    "OUTPUT_DIR_BASE.mkdir(parents=True, exist_ok=True)\n",
    "\n",
    "display(f\"Using output dir base: {OUTPUT_DIR_BASE}\")"
   ]
  },
  {
   "cell_type": "markdown",
   "id": "99ccb166",
   "metadata": {
    "papermill": {
     "duration": 0.004064,
     "end_time": "2022-12-15T19:08:04.926917",
     "exception": false,
     "start_time": "2022-12-15T19:08:04.922853",
     "status": "completed"
    },
    "tags": []
   },
   "source": [
    "# Load data"
   ]
  },
  {
   "cell_type": "markdown",
   "id": "d5262187-494c-4399-8b71-cbbc3e20a9df",
   "metadata": {
    "papermill": {
     "duration": 0.003656,
     "end_time": "2022-12-15T19:08:04.934248",
     "exception": false,
     "start_time": "2022-12-15T19:08:04.930592",
     "status": "completed"
    },
    "tags": []
   },
   "source": [
    "## Gene correlations"
   ]
  },
  {
   "cell_type": "code",
   "execution_count": 11,
   "id": "2f174f95-2be3-4b63-95fb-451413ad361d",
   "metadata": {
    "execution": {
     "iopub.execute_input": "2022-12-15T19:08:04.942803Z",
     "iopub.status.busy": "2022-12-15T19:08:04.942553Z",
     "iopub.status.idle": "2022-12-15T19:08:04.975086Z",
     "shell.execute_reply": "2022-12-15T19:08:04.974470Z"
    },
    "papermill": {
     "duration": 0.038042,
     "end_time": "2022-12-15T19:08:04.976086",
     "exception": false,
     "start_time": "2022-12-15T19:08:04.938044",
     "status": "completed"
    },
    "tags": []
   },
   "outputs": [
    {
     "data": {
      "text/plain": [
       "[PosixPath('/opt/data/projects/asthma-copd/results/gls_phenoplier/gene_corrs/asthma_only/gene_corrs-symbols.pkl')]"
      ]
     },
     "metadata": {},
     "output_type": "display_data"
    }
   ],
   "source": [
    "input_files = list(OUTPUT_DIR_BASE.glob(\"gene_corrs-symbols*.pkl\"))\n",
    "display(input_files)\n",
    "assert len(input_files) > 0, \"No input correlation files\""
   ]
  },
  {
   "cell_type": "code",
   "execution_count": 12,
   "id": "e6838c80-57e3-4a7a-8ee1-ed5948645508",
   "metadata": {
    "execution": {
     "iopub.execute_input": "2022-12-15T19:08:04.985022Z",
     "iopub.status.busy": "2022-12-15T19:08:04.984869Z",
     "iopub.status.idle": "2022-12-15T19:08:05.230232Z",
     "shell.execute_reply": "2022-12-15T19:08:05.229664Z"
    },
    "papermill": {
     "duration": 0.251722,
     "end_time": "2022-12-15T19:08:05.231899",
     "exception": false,
     "start_time": "2022-12-15T19:08:04.980177",
     "status": "completed"
    },
    "tags": []
   },
   "outputs": [],
   "source": [
    "# load correlation matrix\n",
    "gene_corrs_dict = {f.name: pd.read_pickle(f) for f in input_files}"
   ]
  },
  {
   "cell_type": "code",
   "execution_count": 13,
   "id": "b9db5c98-a8aa-4e31-b25d-2b9ee16a2182",
   "metadata": {
    "execution": {
     "iopub.execute_input": "2022-12-15T19:08:05.241797Z",
     "iopub.status.busy": "2022-12-15T19:08:05.241561Z",
     "iopub.status.idle": "2022-12-15T19:08:05.263416Z",
     "shell.execute_reply": "2022-12-15T19:08:05.262889Z"
    },
    "papermill": {
     "duration": 0.028444,
     "end_time": "2022-12-15T19:08:05.264986",
     "exception": false,
     "start_time": "2022-12-15T19:08:05.236542",
     "status": "completed"
    },
    "tags": []
   },
   "outputs": [],
   "source": [
    "orig_corr_name = \"gene_corrs-symbols.pkl\""
   ]
  },
  {
   "cell_type": "code",
   "execution_count": 14,
   "id": "981b0c08-4217-4d0b-b0f7-57c8cf015055",
   "metadata": {
    "execution": {
     "iopub.execute_input": "2022-12-15T19:08:05.274821Z",
     "iopub.status.busy": "2022-12-15T19:08:05.274630Z",
     "iopub.status.idle": "2022-12-15T19:08:05.298715Z",
     "shell.execute_reply": "2022-12-15T19:08:05.298299Z"
    },
    "papermill": {
     "duration": 0.030909,
     "end_time": "2022-12-15T19:08:05.300351",
     "exception": false,
     "start_time": "2022-12-15T19:08:05.269442",
     "status": "completed"
    },
    "tags": []
   },
   "outputs": [
    {
     "data": {
      "text/plain": [
       "(6443, 6443)"
      ]
     },
     "execution_count": 14,
     "metadata": {},
     "output_type": "execute_result"
    }
   ],
   "source": [
    "gene_corrs_dict[orig_corr_name].shape"
   ]
  },
  {
   "cell_type": "code",
   "execution_count": 15,
   "id": "49fb8383-23fc-40d7-adf6-70f5770ee37f",
   "metadata": {
    "execution": {
     "iopub.execute_input": "2022-12-15T19:08:05.316803Z",
     "iopub.status.busy": "2022-12-15T19:08:05.316649Z",
     "iopub.status.idle": "2022-12-15T19:08:05.360466Z",
     "shell.execute_reply": "2022-12-15T19:08:05.359842Z"
    },
    "papermill": {
     "duration": 0.054046,
     "end_time": "2022-12-15T19:08:05.362032",
     "exception": false,
     "start_time": "2022-12-15T19:08:05.307986",
     "status": "completed"
    },
    "tags": []
   },
   "outputs": [
    {
     "data": {
      "text/html": [
       "<div>\n",
       "<style scoped>\n",
       "    .dataframe tbody tr th:only-of-type {\n",
       "        vertical-align: middle;\n",
       "    }\n",
       "\n",
       "    .dataframe tbody tr th {\n",
       "        vertical-align: top;\n",
       "    }\n",
       "\n",
       "    .dataframe thead th {\n",
       "        text-align: right;\n",
       "    }\n",
       "</style>\n",
       "<table border=\"1\" class=\"dataframe\">\n",
       "  <thead>\n",
       "    <tr style=\"text-align: right;\">\n",
       "      <th></th>\n",
       "      <th>NOC2L</th>\n",
       "      <th>HES4</th>\n",
       "      <th>ISG15</th>\n",
       "      <th>AGRN</th>\n",
       "      <th>TNFRSF18</th>\n",
       "      <th>TNFRSF4</th>\n",
       "      <th>B3GALT6</th>\n",
       "      <th>UBE2J2</th>\n",
       "      <th>ACAP3</th>\n",
       "      <th>TAS1R3</th>\n",
       "      <th>...</th>\n",
       "      <th>PLXNB2</th>\n",
       "      <th>ADM2</th>\n",
       "      <th>MIOX</th>\n",
       "      <th>SCO2</th>\n",
       "      <th>TYMP</th>\n",
       "      <th>CPT1B</th>\n",
       "      <th>CHKB</th>\n",
       "      <th>MAPK8IP2</th>\n",
       "      <th>ARSA</th>\n",
       "      <th>SHANK3</th>\n",
       "    </tr>\n",
       "  </thead>\n",
       "  <tbody>\n",
       "    <tr>\n",
       "      <th>NOC2L</th>\n",
       "      <td>1.000000</td>\n",
       "      <td>0.120590</td>\n",
       "      <td>0.177063</td>\n",
       "      <td>0.085746</td>\n",
       "      <td>0.006792</td>\n",
       "      <td>0.007685</td>\n",
       "      <td>0.004673</td>\n",
       "      <td>0.010734</td>\n",
       "      <td>0.011200</td>\n",
       "      <td>0.007529</td>\n",
       "      <td>...</td>\n",
       "      <td>0.0</td>\n",
       "      <td>0.0</td>\n",
       "      <td>0.0</td>\n",
       "      <td>0.0</td>\n",
       "      <td>0.0</td>\n",
       "      <td>0.0</td>\n",
       "      <td>0.0</td>\n",
       "      <td>0.0</td>\n",
       "      <td>0.0</td>\n",
       "      <td>0.0</td>\n",
       "    </tr>\n",
       "    <tr>\n",
       "      <th>HES4</th>\n",
       "      <td>0.120590</td>\n",
       "      <td>1.000000</td>\n",
       "      <td>0.672060</td>\n",
       "      <td>0.391127</td>\n",
       "      <td>0.011695</td>\n",
       "      <td>0.009275</td>\n",
       "      <td>0.005970</td>\n",
       "      <td>0.007385</td>\n",
       "      <td>0.002641</td>\n",
       "      <td>0.004767</td>\n",
       "      <td>...</td>\n",
       "      <td>0.0</td>\n",
       "      <td>0.0</td>\n",
       "      <td>0.0</td>\n",
       "      <td>0.0</td>\n",
       "      <td>0.0</td>\n",
       "      <td>0.0</td>\n",
       "      <td>0.0</td>\n",
       "      <td>0.0</td>\n",
       "      <td>0.0</td>\n",
       "      <td>0.0</td>\n",
       "    </tr>\n",
       "    <tr>\n",
       "      <th>ISG15</th>\n",
       "      <td>0.177063</td>\n",
       "      <td>0.672060</td>\n",
       "      <td>1.000000</td>\n",
       "      <td>0.424696</td>\n",
       "      <td>0.013929</td>\n",
       "      <td>0.013311</td>\n",
       "      <td>0.008466</td>\n",
       "      <td>0.010608</td>\n",
       "      <td>0.006689</td>\n",
       "      <td>0.011659</td>\n",
       "      <td>...</td>\n",
       "      <td>0.0</td>\n",
       "      <td>0.0</td>\n",
       "      <td>0.0</td>\n",
       "      <td>0.0</td>\n",
       "      <td>0.0</td>\n",
       "      <td>0.0</td>\n",
       "      <td>0.0</td>\n",
       "      <td>0.0</td>\n",
       "      <td>0.0</td>\n",
       "      <td>0.0</td>\n",
       "    </tr>\n",
       "    <tr>\n",
       "      <th>AGRN</th>\n",
       "      <td>0.085746</td>\n",
       "      <td>0.391127</td>\n",
       "      <td>0.424696</td>\n",
       "      <td>1.000000</td>\n",
       "      <td>0.005309</td>\n",
       "      <td>0.011848</td>\n",
       "      <td>0.002161</td>\n",
       "      <td>0.002535</td>\n",
       "      <td>0.005359</td>\n",
       "      <td>0.007012</td>\n",
       "      <td>...</td>\n",
       "      <td>0.0</td>\n",
       "      <td>0.0</td>\n",
       "      <td>0.0</td>\n",
       "      <td>0.0</td>\n",
       "      <td>0.0</td>\n",
       "      <td>0.0</td>\n",
       "      <td>0.0</td>\n",
       "      <td>0.0</td>\n",
       "      <td>0.0</td>\n",
       "      <td>0.0</td>\n",
       "    </tr>\n",
       "    <tr>\n",
       "      <th>TNFRSF18</th>\n",
       "      <td>0.006792</td>\n",
       "      <td>0.011695</td>\n",
       "      <td>0.013929</td>\n",
       "      <td>0.005309</td>\n",
       "      <td>1.000000</td>\n",
       "      <td>0.338085</td>\n",
       "      <td>0.550817</td>\n",
       "      <td>0.154394</td>\n",
       "      <td>0.193627</td>\n",
       "      <td>0.101004</td>\n",
       "      <td>...</td>\n",
       "      <td>0.0</td>\n",
       "      <td>0.0</td>\n",
       "      <td>0.0</td>\n",
       "      <td>0.0</td>\n",
       "      <td>0.0</td>\n",
       "      <td>0.0</td>\n",
       "      <td>0.0</td>\n",
       "      <td>0.0</td>\n",
       "      <td>0.0</td>\n",
       "      <td>0.0</td>\n",
       "    </tr>\n",
       "  </tbody>\n",
       "</table>\n",
       "<p>5 rows × 6443 columns</p>\n",
       "</div>"
      ],
      "text/plain": [
       "             NOC2L      HES4     ISG15      AGRN  TNFRSF18   TNFRSF4  \\\n",
       "NOC2L     1.000000  0.120590  0.177063  0.085746  0.006792  0.007685   \n",
       "HES4      0.120590  1.000000  0.672060  0.391127  0.011695  0.009275   \n",
       "ISG15     0.177063  0.672060  1.000000  0.424696  0.013929  0.013311   \n",
       "AGRN      0.085746  0.391127  0.424696  1.000000  0.005309  0.011848   \n",
       "TNFRSF18  0.006792  0.011695  0.013929  0.005309  1.000000  0.338085   \n",
       "\n",
       "           B3GALT6    UBE2J2     ACAP3    TAS1R3  ...  PLXNB2  ADM2  MIOX  \\\n",
       "NOC2L     0.004673  0.010734  0.011200  0.007529  ...     0.0   0.0   0.0   \n",
       "HES4      0.005970  0.007385  0.002641  0.004767  ...     0.0   0.0   0.0   \n",
       "ISG15     0.008466  0.010608  0.006689  0.011659  ...     0.0   0.0   0.0   \n",
       "AGRN      0.002161  0.002535  0.005359  0.007012  ...     0.0   0.0   0.0   \n",
       "TNFRSF18  0.550817  0.154394  0.193627  0.101004  ...     0.0   0.0   0.0   \n",
       "\n",
       "          SCO2  TYMP  CPT1B  CHKB  MAPK8IP2  ARSA  SHANK3  \n",
       "NOC2L      0.0   0.0    0.0   0.0       0.0   0.0     0.0  \n",
       "HES4       0.0   0.0    0.0   0.0       0.0   0.0     0.0  \n",
       "ISG15      0.0   0.0    0.0   0.0       0.0   0.0     0.0  \n",
       "AGRN       0.0   0.0    0.0   0.0       0.0   0.0     0.0  \n",
       "TNFRSF18   0.0   0.0    0.0   0.0       0.0   0.0     0.0  \n",
       "\n",
       "[5 rows x 6443 columns]"
      ]
     },
     "execution_count": 15,
     "metadata": {},
     "output_type": "execute_result"
    }
   ],
   "source": [
    "gene_corrs_dict[orig_corr_name].head()"
   ]
  },
  {
   "cell_type": "code",
   "execution_count": 16,
   "id": "4fb66ba4-9fd3-4dc5-9538-eadd5e9f81c7",
   "metadata": {
    "execution": {
     "iopub.execute_input": "2022-12-15T19:08:05.384859Z",
     "iopub.status.busy": "2022-12-15T19:08:05.384573Z",
     "iopub.status.idle": "2022-12-15T19:08:05.413643Z",
     "shell.execute_reply": "2022-12-15T19:08:05.413152Z"
    },
    "papermill": {
     "duration": 0.043876,
     "end_time": "2022-12-15T19:08:05.414865",
     "exception": false,
     "start_time": "2022-12-15T19:08:05.370989",
     "status": "completed"
    },
    "tags": []
   },
   "outputs": [],
   "source": [
    "current_index = gene_corrs_dict[orig_corr_name].index\n",
    "assert all(\n",
    "    [current_index.equals(gc.index) for k, gc in gene_corrs_dict.items()]\n",
    "), \"Correlation matrices are not compatible\""
   ]
  },
  {
   "cell_type": "markdown",
   "id": "46ae0b3e",
   "metadata": {
    "papermill": {
     "duration": 0.00414,
     "end_time": "2022-12-15T19:08:05.423745",
     "exception": false,
     "start_time": "2022-12-15T19:08:05.419605",
     "status": "completed"
    },
    "tags": []
   },
   "source": [
    "## MultiPLIER Z"
   ]
  },
  {
   "cell_type": "code",
   "execution_count": 17,
   "id": "d38d9749",
   "metadata": {
    "execution": {
     "iopub.execute_input": "2022-12-15T19:08:05.432621Z",
     "iopub.status.busy": "2022-12-15T19:08:05.432463Z",
     "iopub.status.idle": "2022-12-15T19:08:05.478725Z",
     "shell.execute_reply": "2022-12-15T19:08:05.478349Z"
    },
    "papermill": {
     "duration": 0.052219,
     "end_time": "2022-12-15T19:08:05.479902",
     "exception": false,
     "start_time": "2022-12-15T19:08:05.427683",
     "status": "completed"
    },
    "tags": []
   },
   "outputs": [],
   "source": [
    "multiplier_z = pd.read_pickle(conf.MULTIPLIER[\"MODEL_Z_MATRIX_FILE\"])"
   ]
  },
  {
   "cell_type": "code",
   "execution_count": 18,
   "id": "67e93797",
   "metadata": {
    "execution": {
     "iopub.execute_input": "2022-12-15T19:08:05.489571Z",
     "iopub.status.busy": "2022-12-15T19:08:05.489413Z",
     "iopub.status.idle": "2022-12-15T19:08:05.513263Z",
     "shell.execute_reply": "2022-12-15T19:08:05.512868Z"
    },
    "papermill": {
     "duration": 0.029839,
     "end_time": "2022-12-15T19:08:05.514148",
     "exception": false,
     "start_time": "2022-12-15T19:08:05.484309",
     "status": "completed"
    },
    "tags": []
   },
   "outputs": [
    {
     "data": {
      "text/plain": [
       "(6750, 987)"
      ]
     },
     "execution_count": 18,
     "metadata": {},
     "output_type": "execute_result"
    }
   ],
   "source": [
    "multiplier_z.shape"
   ]
  },
  {
   "cell_type": "code",
   "execution_count": 19,
   "id": "e1ba1ead",
   "metadata": {
    "execution": {
     "iopub.execute_input": "2022-12-15T19:08:05.523758Z",
     "iopub.status.busy": "2022-12-15T19:08:05.523602Z",
     "iopub.status.idle": "2022-12-15T19:08:05.559366Z",
     "shell.execute_reply": "2022-12-15T19:08:05.558971Z"
    },
    "papermill": {
     "duration": 0.041704,
     "end_time": "2022-12-15T19:08:05.560284",
     "exception": false,
     "start_time": "2022-12-15T19:08:05.518580",
     "status": "completed"
    },
    "tags": []
   },
   "outputs": [
    {
     "data": {
      "text/html": [
       "<div>\n",
       "<style scoped>\n",
       "    .dataframe tbody tr th:only-of-type {\n",
       "        vertical-align: middle;\n",
       "    }\n",
       "\n",
       "    .dataframe tbody tr th {\n",
       "        vertical-align: top;\n",
       "    }\n",
       "\n",
       "    .dataframe thead th {\n",
       "        text-align: right;\n",
       "    }\n",
       "</style>\n",
       "<table border=\"1\" class=\"dataframe\">\n",
       "  <thead>\n",
       "    <tr style=\"text-align: right;\">\n",
       "      <th></th>\n",
       "      <th>LV1</th>\n",
       "      <th>LV2</th>\n",
       "      <th>LV3</th>\n",
       "      <th>LV4</th>\n",
       "      <th>LV5</th>\n",
       "      <th>LV6</th>\n",
       "      <th>LV7</th>\n",
       "      <th>LV8</th>\n",
       "      <th>LV9</th>\n",
       "      <th>LV10</th>\n",
       "      <th>...</th>\n",
       "      <th>LV978</th>\n",
       "      <th>LV979</th>\n",
       "      <th>LV980</th>\n",
       "      <th>LV981</th>\n",
       "      <th>LV982</th>\n",
       "      <th>LV983</th>\n",
       "      <th>LV984</th>\n",
       "      <th>LV985</th>\n",
       "      <th>LV986</th>\n",
       "      <th>LV987</th>\n",
       "    </tr>\n",
       "  </thead>\n",
       "  <tbody>\n",
       "    <tr>\n",
       "      <th>GAS6</th>\n",
       "      <td>0.000000</td>\n",
       "      <td>0.0</td>\n",
       "      <td>0.039438</td>\n",
       "      <td>0.0</td>\n",
       "      <td>0.050476</td>\n",
       "      <td>0.000000</td>\n",
       "      <td>0.0</td>\n",
       "      <td>0.000000</td>\n",
       "      <td>0.590949</td>\n",
       "      <td>0.000000</td>\n",
       "      <td>...</td>\n",
       "      <td>0.050125</td>\n",
       "      <td>0.00000</td>\n",
       "      <td>0.033407</td>\n",
       "      <td>0.000000</td>\n",
       "      <td>0.000000</td>\n",
       "      <td>0.005963</td>\n",
       "      <td>0.347362</td>\n",
       "      <td>0.0</td>\n",
       "      <td>0.000000</td>\n",
       "      <td>0.000000</td>\n",
       "    </tr>\n",
       "    <tr>\n",
       "      <th>MMP14</th>\n",
       "      <td>0.000000</td>\n",
       "      <td>0.0</td>\n",
       "      <td>0.000000</td>\n",
       "      <td>0.0</td>\n",
       "      <td>0.070072</td>\n",
       "      <td>0.000000</td>\n",
       "      <td>0.0</td>\n",
       "      <td>0.004904</td>\n",
       "      <td>1.720179</td>\n",
       "      <td>2.423595</td>\n",
       "      <td>...</td>\n",
       "      <td>0.000000</td>\n",
       "      <td>0.00000</td>\n",
       "      <td>0.001007</td>\n",
       "      <td>0.000000</td>\n",
       "      <td>0.035747</td>\n",
       "      <td>0.000000</td>\n",
       "      <td>0.000000</td>\n",
       "      <td>0.0</td>\n",
       "      <td>0.014978</td>\n",
       "      <td>0.000000</td>\n",
       "    </tr>\n",
       "    <tr>\n",
       "      <th>DSP</th>\n",
       "      <td>0.000000</td>\n",
       "      <td>0.0</td>\n",
       "      <td>0.000000</td>\n",
       "      <td>0.0</td>\n",
       "      <td>0.000000</td>\n",
       "      <td>0.041697</td>\n",
       "      <td>0.0</td>\n",
       "      <td>0.005718</td>\n",
       "      <td>0.000000</td>\n",
       "      <td>0.000000</td>\n",
       "      <td>...</td>\n",
       "      <td>0.020853</td>\n",
       "      <td>0.00000</td>\n",
       "      <td>0.000000</td>\n",
       "      <td>0.000000</td>\n",
       "      <td>0.000000</td>\n",
       "      <td>0.005774</td>\n",
       "      <td>0.000000</td>\n",
       "      <td>0.0</td>\n",
       "      <td>0.000000</td>\n",
       "      <td>0.416405</td>\n",
       "    </tr>\n",
       "    <tr>\n",
       "      <th>MARCKSL1</th>\n",
       "      <td>0.305212</td>\n",
       "      <td>0.0</td>\n",
       "      <td>0.000000</td>\n",
       "      <td>0.0</td>\n",
       "      <td>0.000000</td>\n",
       "      <td>0.000000</td>\n",
       "      <td>0.0</td>\n",
       "      <td>0.000000</td>\n",
       "      <td>0.161843</td>\n",
       "      <td>0.149471</td>\n",
       "      <td>...</td>\n",
       "      <td>0.027134</td>\n",
       "      <td>0.05272</td>\n",
       "      <td>0.000000</td>\n",
       "      <td>0.030189</td>\n",
       "      <td>0.060884</td>\n",
       "      <td>0.000000</td>\n",
       "      <td>0.000000</td>\n",
       "      <td>0.0</td>\n",
       "      <td>0.000000</td>\n",
       "      <td>0.448480</td>\n",
       "    </tr>\n",
       "    <tr>\n",
       "      <th>SPARC</th>\n",
       "      <td>0.000000</td>\n",
       "      <td>0.0</td>\n",
       "      <td>0.000000</td>\n",
       "      <td>0.0</td>\n",
       "      <td>0.000000</td>\n",
       "      <td>0.000000</td>\n",
       "      <td>0.0</td>\n",
       "      <td>0.000000</td>\n",
       "      <td>0.000000</td>\n",
       "      <td>0.014014</td>\n",
       "      <td>...</td>\n",
       "      <td>0.000000</td>\n",
       "      <td>0.00000</td>\n",
       "      <td>0.000000</td>\n",
       "      <td>0.000000</td>\n",
       "      <td>0.000000</td>\n",
       "      <td>0.000000</td>\n",
       "      <td>0.067779</td>\n",
       "      <td>0.0</td>\n",
       "      <td>0.122417</td>\n",
       "      <td>0.062665</td>\n",
       "    </tr>\n",
       "  </tbody>\n",
       "</table>\n",
       "<p>5 rows × 987 columns</p>\n",
       "</div>"
      ],
      "text/plain": [
       "               LV1  LV2       LV3  LV4       LV5       LV6  LV7       LV8  \\\n",
       "GAS6      0.000000  0.0  0.039438  0.0  0.050476  0.000000  0.0  0.000000   \n",
       "MMP14     0.000000  0.0  0.000000  0.0  0.070072  0.000000  0.0  0.004904   \n",
       "DSP       0.000000  0.0  0.000000  0.0  0.000000  0.041697  0.0  0.005718   \n",
       "MARCKSL1  0.305212  0.0  0.000000  0.0  0.000000  0.000000  0.0  0.000000   \n",
       "SPARC     0.000000  0.0  0.000000  0.0  0.000000  0.000000  0.0  0.000000   \n",
       "\n",
       "               LV9      LV10  ...     LV978    LV979     LV980     LV981  \\\n",
       "GAS6      0.590949  0.000000  ...  0.050125  0.00000  0.033407  0.000000   \n",
       "MMP14     1.720179  2.423595  ...  0.000000  0.00000  0.001007  0.000000   \n",
       "DSP       0.000000  0.000000  ...  0.020853  0.00000  0.000000  0.000000   \n",
       "MARCKSL1  0.161843  0.149471  ...  0.027134  0.05272  0.000000  0.030189   \n",
       "SPARC     0.000000  0.014014  ...  0.000000  0.00000  0.000000  0.000000   \n",
       "\n",
       "             LV982     LV983     LV984  LV985     LV986     LV987  \n",
       "GAS6      0.000000  0.005963  0.347362    0.0  0.000000  0.000000  \n",
       "MMP14     0.035747  0.000000  0.000000    0.0  0.014978  0.000000  \n",
       "DSP       0.000000  0.005774  0.000000    0.0  0.000000  0.416405  \n",
       "MARCKSL1  0.060884  0.000000  0.000000    0.0  0.000000  0.448480  \n",
       "SPARC     0.000000  0.000000  0.067779    0.0  0.122417  0.062665  \n",
       "\n",
       "[5 rows x 987 columns]"
      ]
     },
     "execution_count": 19,
     "metadata": {},
     "output_type": "execute_result"
    }
   ],
   "source": [
    "multiplier_z.head()"
   ]
  },
  {
   "cell_type": "markdown",
   "id": "f4d4f177",
   "metadata": {
    "papermill": {
     "duration": 0.004557,
     "end_time": "2022-12-15T19:08:05.569345",
     "exception": false,
     "start_time": "2022-12-15T19:08:05.564788",
     "status": "completed"
    },
    "tags": []
   },
   "source": [
    "# Compute inverse correlation matrix for each LV"
   ]
  },
  {
   "cell_type": "code",
   "execution_count": 20,
   "id": "6f604dfc-91b4-4e2e-b848-6099fed0b44e",
   "metadata": {
    "execution": {
     "iopub.execute_input": "2022-12-15T19:08:05.579036Z",
     "iopub.status.busy": "2022-12-15T19:08:05.578718Z",
     "iopub.status.idle": "2022-12-15T19:08:05.604646Z",
     "shell.execute_reply": "2022-12-15T19:08:05.604339Z"
    },
    "papermill": {
     "duration": 0.032023,
     "end_time": "2022-12-15T19:08:05.605727",
     "exception": false,
     "start_time": "2022-12-15T19:08:05.573704",
     "status": "completed"
    },
    "tags": []
   },
   "outputs": [],
   "source": [
    "def exists_df(output_dir, base_filename):\n",
    "    full_filepath = output_dir / (base_filename + \".npz\")\n",
    "\n",
    "    return full_filepath.exists()"
   ]
  },
  {
   "cell_type": "code",
   "execution_count": 21,
   "id": "f5bd311e-e0f0-424e-8384-763f4bf7e21c",
   "metadata": {
    "execution": {
     "iopub.execute_input": "2022-12-15T19:08:05.616014Z",
     "iopub.status.busy": "2022-12-15T19:08:05.615718Z",
     "iopub.status.idle": "2022-12-15T19:08:05.644781Z",
     "shell.execute_reply": "2022-12-15T19:08:05.644420Z"
    },
    "papermill": {
     "duration": 0.03565,
     "end_time": "2022-12-15T19:08:05.645907",
     "exception": false,
     "start_time": "2022-12-15T19:08:05.610257",
     "status": "completed"
    },
    "tags": []
   },
   "outputs": [],
   "source": [
    "def store_df(output_dir, nparray, base_filename):\n",
    "    if base_filename in (\"metadata\", \"gene_names\"):\n",
    "        np.savez_compressed(output_dir / (base_filename + \".npz\"), data=nparray)\n",
    "    else:\n",
    "        sparse.save_npz(\n",
    "            output_dir / (base_filename + \".npz\"),\n",
    "            sparse.csc_matrix(nparray),\n",
    "            compressed=False,\n",
    "        )"
   ]
  },
  {
   "cell_type": "code",
   "execution_count": 22,
   "id": "3f6edd17-2654-4957-a592-361f74ec96df",
   "metadata": {
    "execution": {
     "iopub.execute_input": "2022-12-15T19:08:05.656129Z",
     "iopub.status.busy": "2022-12-15T19:08:05.655954Z",
     "iopub.status.idle": "2022-12-15T19:08:05.685463Z",
     "shell.execute_reply": "2022-12-15T19:08:05.684933Z"
    },
    "papermill": {
     "duration": 0.035712,
     "end_time": "2022-12-15T19:08:05.686617",
     "exception": false,
     "start_time": "2022-12-15T19:08:05.650905",
     "status": "completed"
    },
    "tags": []
   },
   "outputs": [],
   "source": [
    "def get_output_dir(gene_corr_filename):\n",
    "    path = OUTPUT_DIR_BASE / gene_corr_filename\n",
    "    assert path.exists()\n",
    "    return path.with_suffix(\".per_lv\")"
   ]
  },
  {
   "cell_type": "code",
   "execution_count": 23,
   "id": "39bf4643",
   "metadata": {
    "execution": {
     "iopub.execute_input": "2022-12-15T19:08:05.697172Z",
     "iopub.status.busy": "2022-12-15T19:08:05.697078Z",
     "iopub.status.idle": "2022-12-15T19:08:05.729250Z",
     "shell.execute_reply": "2022-12-15T19:08:05.728884Z"
    },
    "papermill": {
     "duration": 0.039449,
     "end_time": "2022-12-15T19:08:05.730734",
     "exception": false,
     "start_time": "2022-12-15T19:08:05.691285",
     "status": "completed"
    },
    "tags": []
   },
   "outputs": [],
   "source": [
    "def compute_chol_inv(lv_codes):\n",
    "    for gene_corr_filename, gene_corrs in gene_corrs_dict.items():\n",
    "        output_dir = get_output_dir(gene_corr_filename)\n",
    "        output_dir.mkdir(parents=True, exist_ok=True)\n",
    "        display(f\"Output dir: {str(output_dir)}\")\n",
    "\n",
    "        # save LV chol inverse\n",
    "        for lv_code in lv_codes:\n",
    "            lv_data = multiplier_z[lv_code]\n",
    "\n",
    "            corr_mat_sub = GLSPhenoplier.get_sub_mat(gene_corrs, lv_data, LV_PERCENTILE)\n",
    "            store_df(output_dir, corr_mat_sub.to_numpy(), f\"{lv_code}_corr_mat\")\n",
    "\n",
    "            chol_mat = np.linalg.cholesky(corr_mat_sub)\n",
    "            chol_inv = np.linalg.inv(chol_mat)\n",
    "\n",
    "            store_df(output_dir, chol_inv, lv_code)\n",
    "\n",
    "        # save metadata\n",
    "        if not exists_df(output_dir, \"metadata\"):\n",
    "            metadata = np.array([REFERENCE_PANEL, EQTL_MODEL])\n",
    "            store_df(output_dir, metadata, \"metadata\")\n",
    "        else:\n",
    "            display(\"Metadata file already exists\")\n",
    "\n",
    "        # save gene names\n",
    "        if not exists_df(output_dir, \"gene_names\"):\n",
    "            gene_names = np.array(gene_corrs.index.tolist())\n",
    "            store_df(output_dir, gene_names, \"gene_names\")\n",
    "        else:\n",
    "            display(\"Gene names file already exists\")"
   ]
  },
  {
   "cell_type": "code",
   "execution_count": 24,
   "id": "e605c772-15c3-43e0-850b-1bc81bef2dcc",
   "metadata": {
    "execution": {
     "iopub.execute_input": "2022-12-15T19:08:05.748554Z",
     "iopub.status.busy": "2022-12-15T19:08:05.748286Z",
     "iopub.status.idle": "2022-12-15T19:08:05.786636Z",
     "shell.execute_reply": "2022-12-15T19:08:05.786252Z"
    },
    "papermill": {
     "duration": 0.048394,
     "end_time": "2022-12-15T19:08:05.787828",
     "exception": false,
     "start_time": "2022-12-15T19:08:05.739434",
     "status": "completed"
    },
    "tags": []
   },
   "outputs": [
    {
     "data": {
      "text/plain": [
       "'LV_RANGE was given'"
      ]
     },
     "metadata": {},
     "output_type": "display_data"
    }
   ],
   "source": [
    "if LV_RANGE is None:\n",
    "    # divide LVs in chunks for parallel processing\n",
    "    display(\"LV_RANGE was not given\")\n",
    "\n",
    "    lvs_chunks = list(chunker(list(multiplier_z.columns), 50))\n",
    "else:\n",
    "    display(\"LV_RANGE was given\")\n",
    "\n",
    "    assert \"-\" in LV_RANGE, \"LV_RANGE has no '-'\"\n",
    "    lv_min, lv_max = LV_RANGE.split(\"-\")\n",
    "    lv_min, lv_max = int(lv_min), int(lv_max)\n",
    "    assert lv_min <= lv_max, \"LV_RANGE is incorrect\"\n",
    "\n",
    "    # create a single chunk in this case\n",
    "    lvs_chunks = [[f\"LV{i}\" for i in range(lv_min, lv_max + 1)]]"
   ]
  },
  {
   "cell_type": "code",
   "execution_count": 25,
   "id": "9553751f-ae2e-4911-af5a-c25ca8c25878",
   "metadata": {
    "execution": {
     "iopub.execute_input": "2022-12-15T19:08:05.801304Z",
     "iopub.status.busy": "2022-12-15T19:08:05.800869Z",
     "iopub.status.idle": "2022-12-15T19:08:05.837713Z",
     "shell.execute_reply": "2022-12-15T19:08:05.837043Z"
    },
    "papermill": {
     "duration": 0.044872,
     "end_time": "2022-12-15T19:08:05.838740",
     "exception": false,
     "start_time": "2022-12-15T19:08:05.793868",
     "status": "completed"
    },
    "tags": []
   },
   "outputs": [
    {
     "data": {
      "text/plain": [
       "'# of chunks: 1'"
      ]
     },
     "metadata": {},
     "output_type": "display_data"
    },
    {
     "data": {
      "text/plain": [
       "'# of LVs in each chunk: 50'"
      ]
     },
     "metadata": {},
     "output_type": "display_data"
    }
   ],
   "source": [
    "display(f\"# of chunks: {len(lvs_chunks)}\")\n",
    "display(f\"# of LVs in each chunk: {len(lvs_chunks[0])}\")"
   ]
  },
  {
   "cell_type": "code",
   "execution_count": 26,
   "id": "e2511bd6-73c2-4f92-9fb4-ee6ad5a2923f",
   "metadata": {
    "execution": {
     "iopub.execute_input": "2022-12-15T19:08:05.850920Z",
     "iopub.status.busy": "2022-12-15T19:08:05.850639Z",
     "iopub.status.idle": "2022-12-15T19:22:33.082401Z",
     "shell.execute_reply": "2022-12-15T19:22:33.081989Z"
    },
    "papermill": {
     "duration": 867.238656,
     "end_time": "2022-12-15T19:22:33.083339",
     "exception": false,
     "start_time": "2022-12-15T19:08:05.844683",
     "status": "completed"
    },
    "tags": []
   },
   "outputs": [
    {
     "name": "stderr",
     "output_type": "stream",
     "text": [
      "100%|████████████████████████████████████████████████████████████████| 1/1 [14:27<00:00, 867.18s/it]\n"
     ]
    }
   ],
   "source": [
    "with ProcessPoolExecutor(max_workers=N_JOBS) as executor, tqdm(\n",
    "    total=len(lvs_chunks), ncols=100\n",
    ") as pbar:\n",
    "    tasks = [executor.submit(compute_chol_inv, chunk) for chunk in lvs_chunks]\n",
    "    for future in as_completed(tasks):\n",
    "        res = future.result()\n",
    "        pbar.update(1)"
   ]
  },
  {
   "cell_type": "markdown",
   "id": "1169db4b-9af2-4d3c-a27a-198d7730fa67",
   "metadata": {
    "papermill": {
     "duration": 0.005687,
     "end_time": "2022-12-15T19:22:33.094545",
     "exception": false,
     "start_time": "2022-12-15T19:22:33.088858",
     "status": "completed"
    },
    "tags": []
   },
   "source": [
    "## Some checks"
   ]
  },
  {
   "cell_type": "code",
   "execution_count": 27,
   "id": "02e6758b-9e64-4829-bc64-ca0b08221d13",
   "metadata": {
    "execution": {
     "iopub.execute_input": "2022-12-15T19:22:33.107198Z",
     "iopub.status.busy": "2022-12-15T19:22:33.106951Z",
     "iopub.status.idle": "2022-12-15T19:22:33.135531Z",
     "shell.execute_reply": "2022-12-15T19:22:33.134800Z"
    },
    "papermill": {
     "duration": 0.036664,
     "end_time": "2022-12-15T19:22:33.137121",
     "exception": false,
     "start_time": "2022-12-15T19:22:33.100457",
     "status": "completed"
    },
    "tags": []
   },
   "outputs": [],
   "source": [
    "def load_df(output_dir, base_filename):\n",
    "    full_filepath = output_dir / (base_filename + \".npz\")\n",
    "\n",
    "    if base_filename in (\"metadata\", \"gene_names\"):\n",
    "        return np.load(full_filepath)[\"data\"]\n",
    "    else:\n",
    "        return sparse.load_npz(full_filepath).toarray()"
   ]
  },
  {
   "cell_type": "code",
   "execution_count": 28,
   "id": "38cf09b7",
   "metadata": {
    "execution": {
     "iopub.execute_input": "2022-12-15T19:22:33.150451Z",
     "iopub.status.busy": "2022-12-15T19:22:33.149962Z",
     "iopub.status.idle": "2022-12-15T19:22:33.180657Z",
     "shell.execute_reply": "2022-12-15T19:22:33.179890Z"
    },
    "papermill": {
     "duration": 0.040017,
     "end_time": "2022-12-15T19:22:33.182789",
     "exception": false,
     "start_time": "2022-12-15T19:22:33.142772",
     "status": "completed"
    },
    "tags": []
   },
   "outputs": [],
   "source": [
    "_genes = load_df(get_output_dir(orig_corr_name), \"gene_names\")"
   ]
  },
  {
   "cell_type": "code",
   "execution_count": 29,
   "id": "407e202b-5d10-47c5-b751-0d7b79fc32b7",
   "metadata": {
    "execution": {
     "iopub.execute_input": "2022-12-15T19:22:33.201583Z",
     "iopub.status.busy": "2022-12-15T19:22:33.201022Z",
     "iopub.status.idle": "2022-12-15T19:22:33.230310Z",
     "shell.execute_reply": "2022-12-15T19:22:33.229709Z"
    },
    "papermill": {
     "duration": 0.03988,
     "end_time": "2022-12-15T19:22:33.231742",
     "exception": false,
     "start_time": "2022-12-15T19:22:33.191862",
     "status": "completed"
    },
    "tags": []
   },
   "outputs": [
    {
     "data": {
      "text/plain": [
       "6443"
      ]
     },
     "metadata": {},
     "output_type": "display_data"
    }
   ],
   "source": [
    "display(len(_genes))\n",
    "assert len(_genes) == gene_corrs_dict[orig_corr_name].index.shape[0]"
   ]
  },
  {
   "cell_type": "code",
   "execution_count": 30,
   "id": "e66abf5b-ba1b-4f16-96a6-a48e9e7035cc",
   "metadata": {
    "execution": {
     "iopub.execute_input": "2022-12-15T19:22:33.246469Z",
     "iopub.status.busy": "2022-12-15T19:22:33.246225Z",
     "iopub.status.idle": "2022-12-15T19:22:33.272346Z",
     "shell.execute_reply": "2022-12-15T19:22:33.271692Z"
    },
    "papermill": {
     "duration": 0.034531,
     "end_time": "2022-12-15T19:22:33.274151",
     "exception": false,
     "start_time": "2022-12-15T19:22:33.239620",
     "status": "completed"
    },
    "tags": []
   },
   "outputs": [],
   "source": [
    "_metadata = load_df(get_output_dir(orig_corr_name), \"metadata\")"
   ]
  },
  {
   "cell_type": "code",
   "execution_count": 31,
   "id": "c4a58892-1b3f-414e-b5c3-da63a0f0e387",
   "metadata": {
    "execution": {
     "iopub.execute_input": "2022-12-15T19:22:33.291678Z",
     "iopub.status.busy": "2022-12-15T19:22:33.291225Z",
     "iopub.status.idle": "2022-12-15T19:22:33.318924Z",
     "shell.execute_reply": "2022-12-15T19:22:33.318340Z"
    },
    "papermill": {
     "duration": 0.037648,
     "end_time": "2022-12-15T19:22:33.320026",
     "exception": false,
     "start_time": "2022-12-15T19:22:33.282378",
     "status": "completed"
    },
    "tags": []
   },
   "outputs": [
    {
     "data": {
      "text/plain": [
       "array(['GTEX_V8', 'MASHR'], dtype='<U7')"
      ]
     },
     "metadata": {},
     "output_type": "display_data"
    }
   ],
   "source": [
    "display(_metadata)\n",
    "assert _metadata[0] == REFERENCE_PANEL\n",
    "assert _metadata[1] == EQTL_MODEL"
   ]
  },
  {
   "cell_type": "code",
   "execution_count": null,
   "id": "f02e1ec2-095a-4041-987a-bda1a33a9897",
   "metadata": {
    "papermill": {
     "duration": 0.005786,
     "end_time": "2022-12-15T19:22:33.331656",
     "exception": false,
     "start_time": "2022-12-15T19:22:33.325870",
     "status": "completed"
    },
    "tags": []
   },
   "outputs": [],
   "source": []
  }
 ],
 "metadata": {
  "jupytext": {
   "cell_metadata_filter": "all,-execution,-papermill,-trusted",
   "formats": "ipynb,py//py:percent"
  },
  "kernelspec": {
   "display_name": "Python 3 (ipykernel)",
   "language": "python",
   "name": "python3"
  },
  "language_info": {
   "codemirror_mode": {
    "name": "ipython",
    "version": 3
   },
   "file_extension": ".py",
   "mimetype": "text/x-python",
   "name": "python",
   "nbconvert_exporter": "python",
   "pygments_lexer": "ipython3",
   "version": "3.10.6"
  },
  "papermill": {
   "default_parameters": {},
   "duration": 871.097101,
   "end_time": "2022-12-15T19:22:33.861577",
   "environment_variables": {},
   "exception": null,
   "input_path": "projects/asthma-copd/nbs/20_gene_corrs/jobs/15-create_corr_mat_per_lv.ipynb",
   "output_path": "projects/asthma-copd/nbs/20_gene_corrs/jobs/../output/asthma_only/15-create_corr_mat_per_lv-801-850.run.ipynb",
   "parameters": {
    "COHORT_NAME": "asthma_only",
    "LV_PERCENTILE": "0.01",
    "LV_RANGE": "801-850",
    "OUTPUT_DIR_BASE": "/opt/data/projects/asthma-copd/results/gls_phenoplier",
    "PHENOPLIER_NOTEBOOK_FILEPATH": "projects/asthma-copd/nbs/20_gene_corrs/jobs/15-create_corr_mat_per_lv.ipynb"
   },
   "start_time": "2022-12-15T19:08:02.764476",
   "version": "2.2.2"
  }
 },
 "nbformat": 4,
 "nbformat_minor": 5
}
