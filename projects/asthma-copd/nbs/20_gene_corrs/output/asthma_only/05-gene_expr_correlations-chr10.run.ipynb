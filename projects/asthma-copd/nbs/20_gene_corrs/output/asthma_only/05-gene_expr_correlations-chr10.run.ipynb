{
 "cells": [
  {
   "cell_type": "markdown",
   "id": "7a6632fb",
   "metadata": {
    "papermill": {
     "duration": 0.008431,
     "end_time": "2022-12-05T16:48:27.678341",
     "exception": false,
     "start_time": "2022-12-05T16:48:27.669910",
     "status": "completed"
    },
    "tags": []
   },
   "source": [
    "# Description"
   ]
  },
  {
   "cell_type": "markdown",
   "id": "7097c346",
   "metadata": {
    "papermill": {
     "duration": 0.007536,
     "end_time": "2022-12-05T16:48:27.693598",
     "exception": false,
     "start_time": "2022-12-05T16:48:27.686062",
     "status": "completed"
    },
    "tags": []
   },
   "source": [
    "(Please, take a look at the README.md file in this directory for instructions on how to run this notebook)\n",
    "\n",
    "This notebook computes predicted expression correlations between all genes in the MultiPLIER models.\n",
    "\n",
    "It has specicfic parameters for papermill (see under `Settings` below).\n",
    "It can be configured to run on a single chromosome to run in parallel.\n",
    "\n",
    "This notebook is not directly run. See README.md."
   ]
  },
  {
   "cell_type": "markdown",
   "id": "c61d8427",
   "metadata": {
    "papermill": {
     "duration": 0.0076,
     "end_time": "2022-12-05T16:48:27.708783",
     "exception": false,
     "start_time": "2022-12-05T16:48:27.701183",
     "status": "completed"
    },
    "tags": []
   },
   "source": [
    "# Modules"
   ]
  },
  {
   "cell_type": "code",
   "execution_count": 1,
   "id": "bbc0234f",
   "metadata": {
    "execution": {
     "iopub.execute_input": "2022-12-05T16:48:27.726639Z",
     "iopub.status.busy": "2022-12-05T16:48:27.726099Z",
     "iopub.status.idle": "2022-12-05T16:48:27.753972Z",
     "shell.execute_reply": "2022-12-05T16:48:27.753413Z"
    },
    "papermill": {
     "duration": 0.039096,
     "end_time": "2022-12-05T16:48:27.756360",
     "exception": false,
     "start_time": "2022-12-05T16:48:27.717264",
     "status": "completed"
    },
    "tags": []
   },
   "outputs": [],
   "source": [
    "%load_ext autoreload\n",
    "%autoreload 2"
   ]
  },
  {
   "cell_type": "code",
   "execution_count": 2,
   "id": "1d5f5a59",
   "metadata": {
    "execution": {
     "iopub.execute_input": "2022-12-05T16:48:27.774100Z",
     "iopub.status.busy": "2022-12-05T16:48:27.773630Z",
     "iopub.status.idle": "2022-12-05T16:48:28.582665Z",
     "shell.execute_reply": "2022-12-05T16:48:28.582219Z"
    },
    "papermill": {
     "duration": 0.819837,
     "end_time": "2022-12-05T16:48:28.584343",
     "exception": false,
     "start_time": "2022-12-05T16:48:27.764506",
     "status": "completed"
    },
    "tags": []
   },
   "outputs": [],
   "source": [
    "from random import sample, seed\n",
    "import warnings\n",
    "from pathlib import Path\n",
    "import pickle\n",
    "import traceback\n",
    "\n",
    "import numpy as np\n",
    "from scipy.spatial.distance import squareform\n",
    "import pandas as pd\n",
    "from tqdm import tqdm\n",
    "import matplotlib.pyplot as plt\n",
    "import seaborn as sns\n",
    "\n",
    "import conf\n",
    "from entity import Gene"
   ]
  },
  {
   "cell_type": "markdown",
   "id": "1eac24b5",
   "metadata": {
    "papermill": {
     "duration": 0.008047,
     "end_time": "2022-12-05T16:48:28.600812",
     "exception": false,
     "start_time": "2022-12-05T16:48:28.592765",
     "status": "completed"
    },
    "tags": []
   },
   "source": [
    "# Settings"
   ]
  },
  {
   "cell_type": "code",
   "execution_count": 3,
   "id": "ca4560ba",
   "metadata": {
    "execution": {
     "iopub.execute_input": "2022-12-05T16:48:28.617755Z",
     "iopub.status.busy": "2022-12-05T16:48:28.617611Z",
     "iopub.status.idle": "2022-12-05T16:48:28.639933Z",
     "shell.execute_reply": "2022-12-05T16:48:28.639520Z"
    },
    "papermill": {
     "duration": 0.032505,
     "end_time": "2022-12-05T16:48:28.641431",
     "exception": false,
     "start_time": "2022-12-05T16:48:28.608926",
     "status": "completed"
    },
    "tags": [
     "parameters"
    ]
   },
   "outputs": [],
   "source": [
    "# a cohort name (it could be something like UK_BIOBANK, etc)\n",
    "COHORT_NAME = None\n",
    "\n",
    "# reference panel such as 1000G or GTEX_V8\n",
    "REFERENCE_PANEL = \"GTEX_V8\"\n",
    "\n",
    "# predictions models such as MASHR or ELASTIC_NET\n",
    "EQTL_MODEL = \"MASHR\"\n",
    "\n",
    "# this is the default value used in S-MultiXcan to select the\n",
    "# top principal components of the expression correlation matrix\n",
    "SMULTIXCAN_CONDITION_NUMBER = 30\n",
    "\n",
    "# specifies a single chromosome value\n",
    "CHROMOSOME = None\n",
    "\n",
    "# If True, computes the correlation between closeby genes only (see\n",
    "# entity.Gene.within_distance for more details). Otherwise, it computes\n",
    "# correlations for all genes in a chromosome\n",
    "COMPUTE_CORRELATIONS_WITHIN_DISTANCE = True\n",
    "\n",
    "# if True, then it will continue if a gene pair correlation fails,\n",
    "# printing the warning/error for debugging. If False, any warning/error\n",
    "# will be thrown\n",
    "DEBUG_MODE = False\n",
    "\n",
    "# output dir\n",
    "OUTPUT_DIR_BASE = None"
   ]
  },
  {
   "cell_type": "code",
   "execution_count": 4,
   "id": "d64e2d1c",
   "metadata": {
    "execution": {
     "iopub.execute_input": "2022-12-05T16:48:28.658928Z",
     "iopub.status.busy": "2022-12-05T16:48:28.658653Z",
     "iopub.status.idle": "2022-12-05T16:48:28.676895Z",
     "shell.execute_reply": "2022-12-05T16:48:28.676489Z"
    },
    "papermill": {
     "duration": 0.028375,
     "end_time": "2022-12-05T16:48:28.678313",
     "exception": false,
     "start_time": "2022-12-05T16:48:28.649938",
     "status": "completed"
    },
    "tags": [
     "injected-parameters"
    ]
   },
   "outputs": [],
   "source": [
    "# Parameters\n",
    "PHENOPLIER_NOTEBOOK_FILEPATH = (\n",
    "    \"projects/asthma-copd/nbs/20_gene_corrs/jobs/05-gene_expr_correlations.ipynb\"\n",
    ")\n",
    "COHORT_NAME = \"asthma_only\"\n",
    "CHROMOSOME = 10\n",
    "OUTPUT_DIR_BASE = \"/opt/data/projects/asthma-copd/results/gls_phenoplier\"\n"
   ]
  },
  {
   "cell_type": "code",
   "execution_count": 5,
   "id": "3190631f-27fc-480f-b18e-571d580425a5",
   "metadata": {
    "execution": {
     "iopub.execute_input": "2022-12-05T16:48:28.695651Z",
     "iopub.status.busy": "2022-12-05T16:48:28.695494Z",
     "iopub.status.idle": "2022-12-05T16:48:28.716504Z",
     "shell.execute_reply": "2022-12-05T16:48:28.716039Z"
    },
    "papermill": {
     "duration": 0.031108,
     "end_time": "2022-12-05T16:48:28.717908",
     "exception": false,
     "start_time": "2022-12-05T16:48:28.686800",
     "status": "completed"
    },
    "tags": []
   },
   "outputs": [
    {
     "data": {
      "text/plain": [
       "'Cohort name: asthma_only'"
      ]
     },
     "metadata": {},
     "output_type": "display_data"
    }
   ],
   "source": [
    "assert COHORT_NAME is not None and len(COHORT_NAME) > 0, \"A cohort name must be given\"\n",
    "\n",
    "COHORT_NAME = COHORT_NAME.lower()\n",
    "display(f\"Cohort name: {COHORT_NAME}\")"
   ]
  },
  {
   "cell_type": "code",
   "execution_count": 6,
   "id": "f53ba19b-0f93-4fa2-a047-63b375939d1a",
   "metadata": {
    "execution": {
     "iopub.execute_input": "2022-12-05T16:48:28.736101Z",
     "iopub.status.busy": "2022-12-05T16:48:28.735959Z",
     "iopub.status.idle": "2022-12-05T16:48:28.754435Z",
     "shell.execute_reply": "2022-12-05T16:48:28.753825Z"
    },
    "papermill": {
     "duration": 0.029416,
     "end_time": "2022-12-05T16:48:28.755996",
     "exception": false,
     "start_time": "2022-12-05T16:48:28.726580",
     "status": "completed"
    },
    "tags": []
   },
   "outputs": [
    {
     "data": {
      "text/plain": [
       "'Reference panel: GTEX_V8'"
      ]
     },
     "metadata": {},
     "output_type": "display_data"
    }
   ],
   "source": [
    "assert (\n",
    "    REFERENCE_PANEL is not None and len(REFERENCE_PANEL) > 0\n",
    "), \"A reference panel must be given\"\n",
    "\n",
    "display(f\"Reference panel: {REFERENCE_PANEL}\")"
   ]
  },
  {
   "cell_type": "code",
   "execution_count": 7,
   "id": "e024d130-c139-429a-9c6e-ccf149e297b0",
   "metadata": {
    "execution": {
     "iopub.execute_input": "2022-12-05T16:48:28.775035Z",
     "iopub.status.busy": "2022-12-05T16:48:28.774351Z",
     "iopub.status.idle": "2022-12-05T16:48:28.808850Z",
     "shell.execute_reply": "2022-12-05T16:48:28.808206Z"
    },
    "papermill": {
     "duration": 0.045799,
     "end_time": "2022-12-05T16:48:28.810466",
     "exception": false,
     "start_time": "2022-12-05T16:48:28.764667",
     "status": "completed"
    },
    "tags": []
   },
   "outputs": [
    {
     "data": {
      "text/plain": [
       "'eQTL model: MASHR) / mashr_'"
      ]
     },
     "metadata": {},
     "output_type": "display_data"
    }
   ],
   "source": [
    "assert (\n",
    "    EQTL_MODEL is not None and len(EQTL_MODEL) > 0\n",
    "), \"A prediction/eQTL model must be given\"\n",
    "\n",
    "EQTL_MODEL_FILES_PREFIX = conf.PHENOMEXCAN[\"PREDICTION_MODELS\"][f\"{EQTL_MODEL}_PREFIX\"]\n",
    "display(f\"eQTL model: {EQTL_MODEL}) / {EQTL_MODEL_FILES_PREFIX}\")"
   ]
  },
  {
   "cell_type": "code",
   "execution_count": 8,
   "id": "552a7f63-a18c-4d3e-bb6a-94f99b431291",
   "metadata": {
    "execution": {
     "iopub.execute_input": "2022-12-05T16:48:28.828671Z",
     "iopub.status.busy": "2022-12-05T16:48:28.828009Z",
     "iopub.status.idle": "2022-12-05T16:48:28.857802Z",
     "shell.execute_reply": "2022-12-05T16:48:28.857208Z"
    },
    "papermill": {
     "duration": 0.040733,
     "end_time": "2022-12-05T16:48:28.859584",
     "exception": false,
     "start_time": "2022-12-05T16:48:28.818851",
     "status": "completed"
    },
    "tags": []
   },
   "outputs": [
    {
     "data": {
      "text/plain": [
       "'S-MultiXcan condition number: 30'"
      ]
     },
     "metadata": {},
     "output_type": "display_data"
    }
   ],
   "source": [
    "assert (\n",
    "    SMULTIXCAN_CONDITION_NUMBER is not None and SMULTIXCAN_CONDITION_NUMBER > 0\n",
    "), \"The S-MultiXcan condition number (positive integer) must be given\"\n",
    "\n",
    "display(f\"S-MultiXcan condition number: {SMULTIXCAN_CONDITION_NUMBER}\")"
   ]
  },
  {
   "cell_type": "code",
   "execution_count": 9,
   "id": "f34a336f-548e-4afe-8955-90eaea4f42c6",
   "metadata": {
    "execution": {
     "iopub.execute_input": "2022-12-05T16:48:28.883488Z",
     "iopub.status.busy": "2022-12-05T16:48:28.882810Z",
     "iopub.status.idle": "2022-12-05T16:48:28.906070Z",
     "shell.execute_reply": "2022-12-05T16:48:28.905473Z"
    },
    "papermill": {
     "duration": 0.036326,
     "end_time": "2022-12-05T16:48:28.907619",
     "exception": false,
     "start_time": "2022-12-05T16:48:28.871293",
     "status": "completed"
    },
    "tags": []
   },
   "outputs": [
    {
     "data": {
      "text/plain": [
       "'Working on chromosome 10'"
      ]
     },
     "metadata": {},
     "output_type": "display_data"
    }
   ],
   "source": [
    "assert CHROMOSOME is not None and (\n",
    "    1 <= CHROMOSOME <= 22\n",
    "), \"You have to select one chromosome (format: number between 1 and 22)\"\n",
    "\n",
    "display(f\"Working on chromosome {CHROMOSOME}\")"
   ]
  },
  {
   "cell_type": "code",
   "execution_count": 10,
   "id": "ab8e96e8-06b5-4363-9dcd-dc4d78cc27f7",
   "metadata": {
    "execution": {
     "iopub.execute_input": "2022-12-05T16:48:28.926871Z",
     "iopub.status.busy": "2022-12-05T16:48:28.926594Z",
     "iopub.status.idle": "2022-12-05T16:48:28.944234Z",
     "shell.execute_reply": "2022-12-05T16:48:28.943772Z"
    },
    "papermill": {
     "duration": 0.02866,
     "end_time": "2022-12-05T16:48:28.945641",
     "exception": false,
     "start_time": "2022-12-05T16:48:28.916981",
     "status": "completed"
    },
    "tags": []
   },
   "outputs": [
    {
     "data": {
      "text/plain": [
       "'Compute correlation within distance True'"
      ]
     },
     "metadata": {},
     "output_type": "display_data"
    }
   ],
   "source": [
    "display(f\"Compute correlation within distance {COMPUTE_CORRELATIONS_WITHIN_DISTANCE}\")"
   ]
  },
  {
   "cell_type": "code",
   "execution_count": 11,
   "id": "b393b698-77e3-4ba2-8ac1-e14d51aa988f",
   "metadata": {
    "execution": {
     "iopub.execute_input": "2022-12-05T16:48:28.964391Z",
     "iopub.status.busy": "2022-12-05T16:48:28.964276Z",
     "iopub.status.idle": "2022-12-05T16:48:28.979132Z",
     "shell.execute_reply": "2022-12-05T16:48:28.978685Z"
    },
    "papermill": {
     "duration": 0.025763,
     "end_time": "2022-12-05T16:48:28.980563",
     "exception": false,
     "start_time": "2022-12-05T16:48:28.954800",
     "status": "completed"
    },
    "tags": []
   },
   "outputs": [
    {
     "data": {
      "text/plain": [
       "'Using output dir base: /opt/data/projects/asthma-copd/results/gls_phenoplier/gene_corrs/asthma_only'"
      ]
     },
     "metadata": {},
     "output_type": "display_data"
    }
   ],
   "source": [
    "assert (\n",
    "    OUTPUT_DIR_BASE is not None and len(OUTPUT_DIR_BASE) > 0\n",
    "), \"Output directory path must be given\"\n",
    "\n",
    "OUTPUT_DIR_BASE = (Path(OUTPUT_DIR_BASE) / \"gene_corrs\" / COHORT_NAME).resolve()\n",
    "\n",
    "OUTPUT_DIR_BASE.mkdir(parents=True, exist_ok=True)\n",
    "\n",
    "display(f\"Using output dir base: {OUTPUT_DIR_BASE}\")"
   ]
  },
  {
   "cell_type": "markdown",
   "id": "d2ba085e",
   "metadata": {
    "papermill": {
     "duration": 0.009457,
     "end_time": "2022-12-05T16:48:28.999672",
     "exception": false,
     "start_time": "2022-12-05T16:48:28.990215",
     "status": "completed"
    },
    "tags": []
   },
   "source": [
    "# Load data"
   ]
  },
  {
   "cell_type": "markdown",
   "id": "7dcb8db7",
   "metadata": {
    "papermill": {
     "duration": 0.008915,
     "end_time": "2022-12-05T16:48:29.017696",
     "exception": false,
     "start_time": "2022-12-05T16:48:29.008781",
     "status": "completed"
    },
    "tags": []
   },
   "source": [
    "## GWAS variants"
   ]
  },
  {
   "cell_type": "code",
   "execution_count": 12,
   "id": "29434c4e-8cd3-4b9b-82e4-b5a251d9dd19",
   "metadata": {
    "execution": {
     "iopub.execute_input": "2022-12-05T16:48:29.033064Z",
     "iopub.status.busy": "2022-12-05T16:48:29.032909Z",
     "iopub.status.idle": "2022-12-05T16:48:31.262543Z",
     "shell.execute_reply": "2022-12-05T16:48:31.261917Z"
    },
    "papermill": {
     "duration": 2.237917,
     "end_time": "2022-12-05T16:48:31.264553",
     "exception": false,
     "start_time": "2022-12-05T16:48:29.026636",
     "status": "completed"
    },
    "tags": []
   },
   "outputs": [],
   "source": [
    "with open(OUTPUT_DIR_BASE / \"gwas_variant_ids.pkl\", \"rb\") as handle:\n",
    "    gwas_variants_ids_set = pickle.load(handle)"
   ]
  },
  {
   "cell_type": "code",
   "execution_count": 13,
   "id": "b9d9dec2-4a76-4bf9-bde2-e24c95acb8a0",
   "metadata": {
    "execution": {
     "iopub.execute_input": "2022-12-05T16:48:31.284403Z",
     "iopub.status.busy": "2022-12-05T16:48:31.284275Z",
     "iopub.status.idle": "2022-12-05T16:48:31.301066Z",
     "shell.execute_reply": "2022-12-05T16:48:31.300503Z"
    },
    "papermill": {
     "duration": 0.028222,
     "end_time": "2022-12-05T16:48:31.302560",
     "exception": false,
     "start_time": "2022-12-05T16:48:31.274338",
     "status": "completed"
    },
    "tags": []
   },
   "outputs": [
    {
     "data": {
      "text/plain": [
       "8578486"
      ]
     },
     "execution_count": 13,
     "metadata": {},
     "output_type": "execute_result"
    }
   ],
   "source": [
    "len(gwas_variants_ids_set)"
   ]
  },
  {
   "cell_type": "code",
   "execution_count": 14,
   "id": "4235b06a-6034-4ee4-a0a3-2ae35d122418",
   "metadata": {
    "execution": {
     "iopub.execute_input": "2022-12-05T16:48:31.322047Z",
     "iopub.status.busy": "2022-12-05T16:48:31.321933Z",
     "iopub.status.idle": "2022-12-05T16:48:32.265249Z",
     "shell.execute_reply": "2022-12-05T16:48:32.264586Z"
    },
    "papermill": {
     "duration": 0.954654,
     "end_time": "2022-12-05T16:48:32.266799",
     "exception": false,
     "start_time": "2022-12-05T16:48:31.312145",
     "status": "completed"
    },
    "tags": []
   },
   "outputs": [
    {
     "data": {
      "text/plain": [
       "['chr11_101821130_TACTC_T_b38',\n",
       " 'chr10_65671129_G_C_b38',\n",
       " 'chr5_56365469_C_T_b38',\n",
       " 'chr4_184905363_A_G_b38',\n",
       " 'chr3_146288091_G_C_b38']"
      ]
     },
     "execution_count": 14,
     "metadata": {},
     "output_type": "execute_result"
    }
   ],
   "source": [
    "list(gwas_variants_ids_set)[:5]"
   ]
  },
  {
   "cell_type": "markdown",
   "id": "07866999-2305-41f9-a144-e69c9122c212",
   "metadata": {
    "papermill": {
     "duration": 0.009631,
     "end_time": "2022-12-05T16:48:32.287056",
     "exception": false,
     "start_time": "2022-12-05T16:48:32.277425",
     "status": "completed"
    },
    "tags": []
   },
   "source": [
    "## S-PrediXcan tissue models"
   ]
  },
  {
   "cell_type": "code",
   "execution_count": 15,
   "id": "780611d9-77c8-405f-90a4-f271f7b09397",
   "metadata": {
    "execution": {
     "iopub.execute_input": "2022-12-05T16:48:32.307517Z",
     "iopub.status.busy": "2022-12-05T16:48:32.307347Z",
     "iopub.status.idle": "2022-12-05T16:48:32.708002Z",
     "shell.execute_reply": "2022-12-05T16:48:32.707560Z"
    },
    "papermill": {
     "duration": 0.412779,
     "end_time": "2022-12-05T16:48:32.709704",
     "exception": false,
     "start_time": "2022-12-05T16:48:32.296925",
     "status": "completed"
    },
    "tags": []
   },
   "outputs": [],
   "source": [
    "spredixcan_genes_models = pd.read_pickle(OUTPUT_DIR_BASE / \"gene_tissues.pkl\")"
   ]
  },
  {
   "cell_type": "code",
   "execution_count": 16,
   "id": "726dd1f6-9557-4225-91fa-b3b879ea96e1",
   "metadata": {
    "execution": {
     "iopub.execute_input": "2022-12-05T16:48:32.729708Z",
     "iopub.status.busy": "2022-12-05T16:48:32.729574Z",
     "iopub.status.idle": "2022-12-05T16:48:32.743305Z",
     "shell.execute_reply": "2022-12-05T16:48:32.742813Z"
    },
    "papermill": {
     "duration": 0.025188,
     "end_time": "2022-12-05T16:48:32.744762",
     "exception": false,
     "start_time": "2022-12-05T16:48:32.719574",
     "status": "completed"
    },
    "tags": []
   },
   "outputs": [
    {
     "data": {
      "text/plain": [
       "(6443, 5)"
      ]
     },
     "execution_count": 16,
     "metadata": {},
     "output_type": "execute_result"
    }
   ],
   "source": [
    "spredixcan_genes_models.shape"
   ]
  },
  {
   "cell_type": "code",
   "execution_count": 17,
   "id": "944a1b48-222c-4eb0-b252-b9de2cbca215",
   "metadata": {
    "execution": {
     "iopub.execute_input": "2022-12-05T16:48:32.764709Z",
     "iopub.status.busy": "2022-12-05T16:48:32.764573Z",
     "iopub.status.idle": "2022-12-05T16:48:32.781574Z",
     "shell.execute_reply": "2022-12-05T16:48:32.781025Z"
    },
    "papermill": {
     "duration": 0.028478,
     "end_time": "2022-12-05T16:48:32.782997",
     "exception": false,
     "start_time": "2022-12-05T16:48:32.754519",
     "status": "completed"
    },
    "tags": []
   },
   "outputs": [
    {
     "data": {
      "text/html": [
       "<div>\n",
       "<style scoped>\n",
       "    .dataframe tbody tr th:only-of-type {\n",
       "        vertical-align: middle;\n",
       "    }\n",
       "\n",
       "    .dataframe tbody tr th {\n",
       "        vertical-align: top;\n",
       "    }\n",
       "\n",
       "    .dataframe thead th {\n",
       "        text-align: right;\n",
       "    }\n",
       "</style>\n",
       "<table border=\"1\" class=\"dataframe\">\n",
       "  <thead>\n",
       "    <tr style=\"text-align: right;\">\n",
       "      <th></th>\n",
       "      <th>gene_name</th>\n",
       "      <th>tissue</th>\n",
       "      <th>n_tissues</th>\n",
       "      <th>n_snps_used_sum</th>\n",
       "      <th>n_snps_in_model_sum</th>\n",
       "    </tr>\n",
       "    <tr>\n",
       "      <th>gene_id</th>\n",
       "      <th></th>\n",
       "      <th></th>\n",
       "      <th></th>\n",
       "      <th></th>\n",
       "      <th></th>\n",
       "    </tr>\n",
       "  </thead>\n",
       "  <tbody>\n",
       "    <tr>\n",
       "      <th>ENSG00000000419</th>\n",
       "      <td>DPM1</td>\n",
       "      <td>(Brain_Hypothalamus, Brain_Substantia_nigra)</td>\n",
       "      <td>2</td>\n",
       "      <td>2</td>\n",
       "      <td>2</td>\n",
       "    </tr>\n",
       "    <tr>\n",
       "      <th>ENSG00000000938</th>\n",
       "      <td>FGR</td>\n",
       "      <td>(Brain_Hippocampus, Esophagus_Muscularis, Brai...</td>\n",
       "      <td>36</td>\n",
       "      <td>40</td>\n",
       "      <td>40</td>\n",
       "    </tr>\n",
       "    <tr>\n",
       "      <th>ENSG00000000971</th>\n",
       "      <td>CFH</td>\n",
       "      <td>(Brain_Hippocampus, Esophagus_Muscularis, Brai...</td>\n",
       "      <td>34</td>\n",
       "      <td>44</td>\n",
       "      <td>44</td>\n",
       "    </tr>\n",
       "    <tr>\n",
       "      <th>ENSG00000001084</th>\n",
       "      <td>GCLC</td>\n",
       "      <td>(Brain_Hippocampus, Brain_Cortex, Pancreas, Br...</td>\n",
       "      <td>32</td>\n",
       "      <td>46</td>\n",
       "      <td>46</td>\n",
       "    </tr>\n",
       "    <tr>\n",
       "      <th>ENSG00000001167</th>\n",
       "      <td>NFYA</td>\n",
       "      <td>(Minor_Salivary_Gland, Brain_Hippocampus, Esop...</td>\n",
       "      <td>40</td>\n",
       "      <td>47</td>\n",
       "      <td>48</td>\n",
       "    </tr>\n",
       "  </tbody>\n",
       "</table>\n",
       "</div>"
      ],
      "text/plain": [
       "                gene_name                                             tissue  \\\n",
       "gene_id                                                                        \n",
       "ENSG00000000419      DPM1       (Brain_Hypothalamus, Brain_Substantia_nigra)   \n",
       "ENSG00000000938       FGR  (Brain_Hippocampus, Esophagus_Muscularis, Brai...   \n",
       "ENSG00000000971       CFH  (Brain_Hippocampus, Esophagus_Muscularis, Brai...   \n",
       "ENSG00000001084      GCLC  (Brain_Hippocampus, Brain_Cortex, Pancreas, Br...   \n",
       "ENSG00000001167      NFYA  (Minor_Salivary_Gland, Brain_Hippocampus, Esop...   \n",
       "\n",
       "                 n_tissues  n_snps_used_sum  n_snps_in_model_sum  \n",
       "gene_id                                                           \n",
       "ENSG00000000419          2                2                    2  \n",
       "ENSG00000000938         36               40                   40  \n",
       "ENSG00000000971         34               44                   44  \n",
       "ENSG00000001084         32               46                   46  \n",
       "ENSG00000001167         40               47                   48  "
      ]
     },
     "execution_count": 17,
     "metadata": {},
     "output_type": "execute_result"
    }
   ],
   "source": [
    "spredixcan_genes_models.head()"
   ]
  },
  {
   "cell_type": "code",
   "execution_count": 18,
   "id": "d1c11bb1-be0b-4f40-b360-633d6827109f",
   "metadata": {
    "execution": {
     "iopub.execute_input": "2022-12-05T16:48:32.803967Z",
     "iopub.status.busy": "2022-12-05T16:48:32.803847Z",
     "iopub.status.idle": "2022-12-05T16:48:32.818893Z",
     "shell.execute_reply": "2022-12-05T16:48:32.818506Z"
    },
    "papermill": {
     "duration": 0.026966,
     "end_time": "2022-12-05T16:48:32.820395",
     "exception": false,
     "start_time": "2022-12-05T16:48:32.793429",
     "status": "completed"
    },
    "tags": []
   },
   "outputs": [],
   "source": [
    "assert spredixcan_genes_models.index.is_unique"
   ]
  },
  {
   "cell_type": "markdown",
   "id": "a5b5092c-a13e-47c4-a92a-480fcc08f3ae",
   "metadata": {
    "papermill": {
     "duration": 0.00976,
     "end_time": "2022-12-05T16:48:32.840358",
     "exception": false,
     "start_time": "2022-12-05T16:48:32.830598",
     "status": "completed"
    },
    "tags": []
   },
   "source": [
    "## Gene info"
   ]
  },
  {
   "cell_type": "code",
   "execution_count": 19,
   "id": "7d6bb224-88e9-4358-ac10-43a41d92cdad",
   "metadata": {
    "execution": {
     "iopub.execute_input": "2022-12-05T16:48:32.860999Z",
     "iopub.status.busy": "2022-12-05T16:48:32.860830Z",
     "iopub.status.idle": "2022-12-05T16:48:32.884710Z",
     "shell.execute_reply": "2022-12-05T16:48:32.884168Z"
    },
    "papermill": {
     "duration": 0.035987,
     "end_time": "2022-12-05T16:48:32.886320",
     "exception": false,
     "start_time": "2022-12-05T16:48:32.850333",
     "status": "completed"
    },
    "tags": []
   },
   "outputs": [],
   "source": [
    "genes_info = pd.read_pickle(OUTPUT_DIR_BASE / \"genes_info.pkl\")"
   ]
  },
  {
   "cell_type": "code",
   "execution_count": 20,
   "id": "9e32abfa-546d-483e-8c18-d526e9e05903",
   "metadata": {
    "execution": {
     "iopub.execute_input": "2022-12-05T16:48:32.906682Z",
     "iopub.status.busy": "2022-12-05T16:48:32.906469Z",
     "iopub.status.idle": "2022-12-05T16:48:32.929704Z",
     "shell.execute_reply": "2022-12-05T16:48:32.929130Z"
    },
    "papermill": {
     "duration": 0.034825,
     "end_time": "2022-12-05T16:48:32.931251",
     "exception": false,
     "start_time": "2022-12-05T16:48:32.896426",
     "status": "completed"
    },
    "tags": []
   },
   "outputs": [
    {
     "data": {
      "text/plain": [
       "(6443, 7)"
      ]
     },
     "execution_count": 20,
     "metadata": {},
     "output_type": "execute_result"
    }
   ],
   "source": [
    "genes_info.shape"
   ]
  },
  {
   "cell_type": "code",
   "execution_count": 21,
   "id": "d16c3e92-85ec-468a-9a56-e25a9774a1cb",
   "metadata": {
    "execution": {
     "iopub.execute_input": "2022-12-05T16:48:32.952425Z",
     "iopub.status.busy": "2022-12-05T16:48:32.952160Z",
     "iopub.status.idle": "2022-12-05T16:48:32.971681Z",
     "shell.execute_reply": "2022-12-05T16:48:32.971126Z"
    },
    "papermill": {
     "duration": 0.031493,
     "end_time": "2022-12-05T16:48:32.973144",
     "exception": false,
     "start_time": "2022-12-05T16:48:32.941651",
     "status": "completed"
    },
    "tags": []
   },
   "outputs": [
    {
     "data": {
      "text/html": [
       "<div>\n",
       "<style scoped>\n",
       "    .dataframe tbody tr th:only-of-type {\n",
       "        vertical-align: middle;\n",
       "    }\n",
       "\n",
       "    .dataframe tbody tr th {\n",
       "        vertical-align: top;\n",
       "    }\n",
       "\n",
       "    .dataframe thead th {\n",
       "        text-align: right;\n",
       "    }\n",
       "</style>\n",
       "<table border=\"1\" class=\"dataframe\">\n",
       "  <thead>\n",
       "    <tr style=\"text-align: right;\">\n",
       "      <th></th>\n",
       "      <th>name</th>\n",
       "      <th>id</th>\n",
       "      <th>chr</th>\n",
       "      <th>band</th>\n",
       "      <th>start_position</th>\n",
       "      <th>end_position</th>\n",
       "      <th>gene_length</th>\n",
       "    </tr>\n",
       "  </thead>\n",
       "  <tbody>\n",
       "    <tr>\n",
       "      <th>0</th>\n",
       "      <td>MRPL44</td>\n",
       "      <td>ENSG00000135900</td>\n",
       "      <td>2</td>\n",
       "      <td>2q36.1</td>\n",
       "      <td>223957463</td>\n",
       "      <td>223967714</td>\n",
       "      <td>10251</td>\n",
       "    </tr>\n",
       "    <tr>\n",
       "      <th>1</th>\n",
       "      <td>H1FX</td>\n",
       "      <td>ENSG00000184897</td>\n",
       "      <td>3</td>\n",
       "      <td>3q21.3</td>\n",
       "      <td>129314771</td>\n",
       "      <td>129316286</td>\n",
       "      <td>1515</td>\n",
       "    </tr>\n",
       "    <tr>\n",
       "      <th>2</th>\n",
       "      <td>AGRN</td>\n",
       "      <td>ENSG00000188157</td>\n",
       "      <td>1</td>\n",
       "      <td>1p36.33</td>\n",
       "      <td>1020120</td>\n",
       "      <td>1056118</td>\n",
       "      <td>35998</td>\n",
       "    </tr>\n",
       "    <tr>\n",
       "      <th>3</th>\n",
       "      <td>DNAJB2</td>\n",
       "      <td>ENSG00000135924</td>\n",
       "      <td>2</td>\n",
       "      <td>2q35</td>\n",
       "      <td>219279267</td>\n",
       "      <td>219286900</td>\n",
       "      <td>7633</td>\n",
       "    </tr>\n",
       "    <tr>\n",
       "      <th>4</th>\n",
       "      <td>PISD</td>\n",
       "      <td>ENSG00000241878</td>\n",
       "      <td>22</td>\n",
       "      <td>22q12.2</td>\n",
       "      <td>31618491</td>\n",
       "      <td>31662432</td>\n",
       "      <td>43941</td>\n",
       "    </tr>\n",
       "  </tbody>\n",
       "</table>\n",
       "</div>"
      ],
      "text/plain": [
       "     name               id  chr     band  start_position  end_position  \\\n",
       "0  MRPL44  ENSG00000135900    2   2q36.1       223957463     223967714   \n",
       "1    H1FX  ENSG00000184897    3   3q21.3       129314771     129316286   \n",
       "2    AGRN  ENSG00000188157    1  1p36.33         1020120       1056118   \n",
       "3  DNAJB2  ENSG00000135924    2     2q35       219279267     219286900   \n",
       "4    PISD  ENSG00000241878   22  22q12.2        31618491      31662432   \n",
       "\n",
       "   gene_length  \n",
       "0        10251  \n",
       "1         1515  \n",
       "2        35998  \n",
       "3         7633  \n",
       "4        43941  "
      ]
     },
     "execution_count": 21,
     "metadata": {},
     "output_type": "execute_result"
    }
   ],
   "source": [
    "genes_info.head()"
   ]
  },
  {
   "cell_type": "markdown",
   "id": "d3843e06",
   "metadata": {
    "papermill": {
     "duration": 0.010418,
     "end_time": "2022-12-05T16:48:32.994129",
     "exception": false,
     "start_time": "2022-12-05T16:48:32.983711",
     "status": "completed"
    },
    "tags": []
   },
   "source": [
    "# Compute correlations"
   ]
  },
  {
   "cell_type": "code",
   "execution_count": 22,
   "id": "cb859c15-d1f3-4006-a74c-2b83c0db9611",
   "metadata": {
    "execution": {
     "iopub.execute_input": "2022-12-05T16:48:33.015665Z",
     "iopub.status.busy": "2022-12-05T16:48:33.015528Z",
     "iopub.status.idle": "2022-12-05T16:48:33.036605Z",
     "shell.execute_reply": "2022-12-05T16:48:33.036029Z"
    },
    "papermill": {
     "duration": 0.03359,
     "end_time": "2022-12-05T16:48:33.038217",
     "exception": false,
     "start_time": "2022-12-05T16:48:33.004627",
     "status": "completed"
    },
    "tags": []
   },
   "outputs": [
    {
     "data": {
      "text/plain": [
       "PosixPath('/opt/data/projects/asthma-copd/results/gls_phenoplier/gene_corrs/asthma_only/by_chr/gene_corrs-chr10.pkl')"
      ]
     },
     "metadata": {},
     "output_type": "display_data"
    }
   ],
   "source": [
    "output_dir = OUTPUT_DIR_BASE / \"by_chr\"\n",
    "output_dir.mkdir(exist_ok=True, parents=True)\n",
    "output_file = output_dir / f\"gene_corrs-chr{CHROMOSOME}.pkl\"\n",
    "display(output_file)"
   ]
  },
  {
   "cell_type": "code",
   "execution_count": 23,
   "id": "aa674fe4-6794-4eed-98fa-32b39d1d4ace",
   "metadata": {
    "execution": {
     "iopub.execute_input": "2022-12-05T16:48:33.062657Z",
     "iopub.status.busy": "2022-12-05T16:48:33.062386Z",
     "iopub.status.idle": "2022-12-05T16:48:33.086454Z",
     "shell.execute_reply": "2022-12-05T16:48:33.085932Z"
    },
    "papermill": {
     "duration": 0.038038,
     "end_time": "2022-12-05T16:48:33.088089",
     "exception": false,
     "start_time": "2022-12-05T16:48:33.050051",
     "status": "completed"
    },
    "tags": []
   },
   "outputs": [],
   "source": [
    "warnings.filterwarnings(\"error\")"
   ]
  },
  {
   "cell_type": "code",
   "execution_count": 24,
   "id": "44d5450b-3baf-43f1-9e2e-4b06f1a785f8",
   "metadata": {
    "execution": {
     "iopub.execute_input": "2022-12-05T16:48:33.113108Z",
     "iopub.status.busy": "2022-12-05T16:48:33.112541Z",
     "iopub.status.idle": "2022-12-05T16:48:33.137975Z",
     "shell.execute_reply": "2022-12-05T16:48:33.137379Z"
    },
    "papermill": {
     "duration": 0.041612,
     "end_time": "2022-12-05T16:48:33.140107",
     "exception": false,
     "start_time": "2022-12-05T16:48:33.098495",
     "status": "completed"
    },
    "tags": []
   },
   "outputs": [],
   "source": [
    "# standard checks\n",
    "all_chrs = genes_info[\"chr\"].dropna().unique()\n",
    "assert all_chrs.shape[0] == 22\n",
    "\n",
    "# select chromosome given by the user\n",
    "assert CHROMOSOME in all_chrs"
   ]
  },
  {
   "cell_type": "code",
   "execution_count": 25,
   "id": "2d7c043c-92a7-4d35-991b-fa69ac1e0268",
   "metadata": {
    "execution": {
     "iopub.execute_input": "2022-12-05T16:48:33.167438Z",
     "iopub.status.busy": "2022-12-05T16:48:33.167098Z",
     "iopub.status.idle": "2022-12-05T16:48:33.193065Z",
     "shell.execute_reply": "2022-12-05T16:48:33.192515Z"
    },
    "papermill": {
     "duration": 0.035563,
     "end_time": "2022-12-05T16:48:33.194292",
     "exception": false,
     "start_time": "2022-12-05T16:48:33.158729",
     "status": "completed"
    },
    "tags": []
   },
   "outputs": [
    {
     "name": "stdout",
     "output_type": "stream",
     "text": [
      "Number of genes in chromosome: 245\n"
     ]
    }
   ],
   "source": [
    "# run only on the chromosome specified\n",
    "all_chrs = [CHROMOSOME]\n",
    "genes_chr = genes_info[genes_info[\"chr\"] == CHROMOSOME]\n",
    "\n",
    "# For testing purposes\n",
    "# genes_chr = genes_chr.sample(n=20)\n",
    "\n",
    "print(f\"Number of genes in chromosome: {genes_chr.shape[0]}\", flush=True)"
   ]
  },
  {
   "cell_type": "code",
   "execution_count": 26,
   "id": "916015d8-2979-46d3-a9b9-1cf5a0932c6a",
   "metadata": {
    "execution": {
     "iopub.execute_input": "2022-12-05T16:48:33.209217Z",
     "iopub.status.busy": "2022-12-05T16:48:33.208977Z",
     "iopub.status.idle": "2022-12-05T16:48:33.233177Z",
     "shell.execute_reply": "2022-12-05T16:48:33.232561Z"
    },
    "papermill": {
     "duration": 0.032121,
     "end_time": "2022-12-05T16:48:33.234640",
     "exception": false,
     "start_time": "2022-12-05T16:48:33.202519",
     "status": "completed"
    },
    "tags": []
   },
   "outputs": [],
   "source": [
    "# sort genes by starting position to make visualizations better later\n",
    "genes_chr = genes_chr.sort_values(\"start_position\")"
   ]
  },
  {
   "cell_type": "code",
   "execution_count": 27,
   "id": "a38aa74a-8ad3-47f6-8ef9-56be0e011774",
   "metadata": {
    "execution": {
     "iopub.execute_input": "2022-12-05T16:48:33.248905Z",
     "iopub.status.busy": "2022-12-05T16:48:33.248562Z",
     "iopub.status.idle": "2022-12-05T16:48:33.272785Z",
     "shell.execute_reply": "2022-12-05T16:48:33.272232Z"
    },
    "papermill": {
     "duration": 0.031806,
     "end_time": "2022-12-05T16:48:33.274186",
     "exception": false,
     "start_time": "2022-12-05T16:48:33.242380",
     "status": "completed"
    },
    "tags": []
   },
   "outputs": [],
   "source": [
    "gene_chr_objs = [Gene(ensembl_id=gene_id) for gene_id in genes_chr[\"id\"]]"
   ]
  },
  {
   "cell_type": "code",
   "execution_count": 28,
   "id": "570f974f-13c3-42b6-ad3a-ce99ca885c1a",
   "metadata": {
    "execution": {
     "iopub.execute_input": "2022-12-05T16:48:33.287778Z",
     "iopub.status.busy": "2022-12-05T16:48:33.287447Z",
     "iopub.status.idle": "2022-12-05T16:48:33.312061Z",
     "shell.execute_reply": "2022-12-05T16:48:33.311526Z"
    },
    "papermill": {
     "duration": 0.032116,
     "end_time": "2022-12-05T16:48:33.313305",
     "exception": false,
     "start_time": "2022-12-05T16:48:33.281189",
     "status": "completed"
    },
    "tags": []
   },
   "outputs": [
    {
     "name": "stdout",
     "output_type": "stream",
     "text": [
      "Number of gene combinations: 30135\n"
     ]
    }
   ],
   "source": [
    "n = len(gene_chr_objs)\n",
    "# diagonal elements + upper triangular matrix\n",
    "n_comb = n + int(n * (n - 1) / 2.0)\n",
    "print(f\"Number of gene combinations: {n_comb}\", flush=True)"
   ]
  },
  {
   "cell_type": "code",
   "execution_count": 29,
   "id": "cdbb90a1",
   "metadata": {
    "execution": {
     "iopub.execute_input": "2022-12-05T16:48:33.333103Z",
     "iopub.status.busy": "2022-12-05T16:48:33.332759Z",
     "iopub.status.idle": "2022-12-05T16:51:50.943141Z",
     "shell.execute_reply": "2022-12-05T16:51:50.942611Z"
    },
    "papermill": {
     "duration": 197.622142,
     "end_time": "2022-12-05T16:51:50.944530",
     "exception": false,
     "start_time": "2022-12-05T16:48:33.322388",
     "status": "completed"
    },
    "tags": []
   },
   "outputs": [
    {
     "name": "stderr",
     "output_type": "stream",
     "text": [
      "ENSG00000130649 / ENSG00000130649: 100%|█████████████████████| 30135/30135 [03:17<00:00, 152.53it/s]\n"
     ]
    },
    {
     "data": {
      "text/plain": [
       "PosixPath('/opt/data/projects/asthma-copd/results/gls_phenoplier/gene_corrs/asthma_only/by_chr/gene_corrs-chr10.pkl')"
      ]
     },
     "metadata": {},
     "output_type": "display_data"
    }
   ],
   "source": [
    "gene_corrs = []\n",
    "gene_corrs_data = np.full(\n",
    "    (n, n),\n",
    "    np.nan,\n",
    "    dtype=np.float64,\n",
    ")\n",
    "\n",
    "i = 0\n",
    "with tqdm(ncols=100, total=n_comb) as pbar:\n",
    "    for gene1_idx in range(0, len(gene_chr_objs)):\n",
    "        gene1_obj = gene_chr_objs[gene1_idx]\n",
    "        gene1_tissues = spredixcan_genes_models.loc[gene1_obj.ensembl_id, \"tissue\"]\n",
    "\n",
    "        for gene2_idx in range(gene1_idx, len(gene_chr_objs)):\n",
    "            gene2_obj = gene_chr_objs[gene2_idx]\n",
    "            gene2_tissues = spredixcan_genes_models.loc[gene2_obj.ensembl_id, \"tissue\"]\n",
    "\n",
    "            pbar.set_description(f\"{gene1_obj.ensembl_id} / {gene2_obj.ensembl_id}\")\n",
    "\n",
    "            try:\n",
    "                r = gene1_obj.get_ssm_correlation(\n",
    "                    other_gene=gene2_obj,\n",
    "                    tissues=gene1_tissues,\n",
    "                    other_tissues=gene2_tissues,\n",
    "                    snps_subset=gwas_variants_ids_set,\n",
    "                    condition_number=SMULTIXCAN_CONDITION_NUMBER,\n",
    "                    reference_panel=REFERENCE_PANEL,\n",
    "                    model_type=EQTL_MODEL,\n",
    "                    use_within_distance=COMPUTE_CORRELATIONS_WITHIN_DISTANCE,\n",
    "                )\n",
    "\n",
    "                if r is None:\n",
    "                    # if r is None, it's very likely because:\n",
    "                    #  * one of the genes has no prediction models\n",
    "                    #  * all the SNPs predictors for the gene are not present in the reference\n",
    "                    #    panel\n",
    "\n",
    "                    r = 0.0\n",
    "\n",
    "                gene_corrs.append(r)\n",
    "\n",
    "                gene_corrs_data[gene1_idx, gene2_idx] = r\n",
    "                gene_corrs_data[gene2_idx, gene1_idx] = r\n",
    "            except Warning as e:\n",
    "                if not DEBUG_MODE:\n",
    "                    raise e\n",
    "\n",
    "                print(\n",
    "                    f\"RuntimeWarning for genes {gene1_obj.ensembl_id} and {gene2_obj.ensembl_id}\",\n",
    "                    flush=True,\n",
    "                )\n",
    "                print(traceback.format_exc(), flush=True)\n",
    "\n",
    "                gene_corrs.append(np.nan)\n",
    "            except Exception as e:\n",
    "                if not DEBUG_MODE:\n",
    "                    raise e\n",
    "\n",
    "                print(\n",
    "                    f\"Exception for genes {gene1_obj.ensembl_id} and {gene2_obj.ensembl_id}\",\n",
    "                    flush=True,\n",
    "                )\n",
    "                print(traceback.format_exc(), flush=True)\n",
    "\n",
    "                gene_corrs.append(np.nan)\n",
    "\n",
    "            pbar.update(1)\n",
    "\n",
    "# create a pandas series\n",
    "gene_corrs_flat = pd.Series(gene_corrs)\n",
    "\n",
    "# save\n",
    "# FIXME: consider saving only the condenced matrix here. See here for\n",
    "# more details: https://github.com/greenelab/phenoplier/pull/38#discussion_r634600813\n",
    "# gene_corrs_data = squareform(np.array(gene_corrs, dtype=np.float64))\n",
    "# np.fill_diagonal(gene_corrs_data, 1.0)\n",
    "\n",
    "gene_chr_ids = [g.ensembl_id for g in gene_chr_objs]\n",
    "gene_corrs_df = pd.DataFrame(\n",
    "    data=gene_corrs_data,\n",
    "    index=gene_chr_ids,\n",
    "    columns=gene_chr_ids,\n",
    ")\n",
    "\n",
    "output_dir.mkdir(exist_ok=True, parents=True)\n",
    "display(output_file)\n",
    "\n",
    "gene_corrs_df.to_pickle(output_file)"
   ]
  },
  {
   "cell_type": "markdown",
   "id": "faa67b51-5373-470f-aa72-2ded53fa6dfe",
   "metadata": {
    "papermill": {
     "duration": 0.886857,
     "end_time": "2022-12-05T16:51:52.793915",
     "exception": false,
     "start_time": "2022-12-05T16:51:51.907058",
     "status": "completed"
    },
    "tags": []
   },
   "source": [
    "# Testing"
   ]
  },
  {
   "cell_type": "code",
   "execution_count": 30,
   "id": "14f7d046-4b55-4896-a56b-990127bcc388",
   "metadata": {
    "execution": {
     "iopub.execute_input": "2022-12-05T16:51:54.612633Z",
     "iopub.status.busy": "2022-12-05T16:51:54.612372Z",
     "iopub.status.idle": "2022-12-05T16:51:54.627067Z",
     "shell.execute_reply": "2022-12-05T16:51:54.626578Z"
    },
    "papermill": {
     "duration": 0.906738,
     "end_time": "2022-12-05T16:51:54.627874",
     "exception": false,
     "start_time": "2022-12-05T16:51:53.721136",
     "status": "completed"
    },
    "tags": []
   },
   "outputs": [
    {
     "data": {
      "text/plain": [
       "(245, 245)"
      ]
     },
     "execution_count": 30,
     "metadata": {},
     "output_type": "execute_result"
    }
   ],
   "source": [
    "gene_corrs_df.shape"
   ]
  },
  {
   "cell_type": "code",
   "execution_count": 31,
   "id": "c7d15414-3297-4537-a7c6-7588c0baeb75",
   "metadata": {
    "execution": {
     "iopub.execute_input": "2022-12-05T16:51:56.431714Z",
     "iopub.status.busy": "2022-12-05T16:51:56.431201Z",
     "iopub.status.idle": "2022-12-05T16:51:56.480006Z",
     "shell.execute_reply": "2022-12-05T16:51:56.479345Z"
    },
    "papermill": {
     "duration": 0.9513,
     "end_time": "2022-12-05T16:51:56.480983",
     "exception": false,
     "start_time": "2022-12-05T16:51:55.529683",
     "status": "completed"
    },
    "tags": []
   },
   "outputs": [
    {
     "data": {
      "text/html": [
       "<div>\n",
       "<style scoped>\n",
       "    .dataframe tbody tr th:only-of-type {\n",
       "        vertical-align: middle;\n",
       "    }\n",
       "\n",
       "    .dataframe tbody tr th {\n",
       "        vertical-align: top;\n",
       "    }\n",
       "\n",
       "    .dataframe thead th {\n",
       "        text-align: right;\n",
       "    }\n",
       "</style>\n",
       "<table border=\"1\" class=\"dataframe\">\n",
       "  <thead>\n",
       "    <tr style=\"text-align: right;\">\n",
       "      <th></th>\n",
       "      <th>ENSG00000261456</th>\n",
       "      <th>ENSG00000148377</th>\n",
       "      <th>ENSG00000067064</th>\n",
       "      <th>ENSG00000067057</th>\n",
       "      <th>ENSG00000067082</th>\n",
       "      <th>ENSG00000187134</th>\n",
       "      <th>ENSG00000151632</th>\n",
       "      <th>ENSG00000196139</th>\n",
       "      <th>ENSG00000173848</th>\n",
       "      <th>ENSG00000196372</th>\n",
       "      <th>...</th>\n",
       "      <th>ENSG00000148773</th>\n",
       "      <th>ENSG00000170430</th>\n",
       "      <th>ENSG00000175470</th>\n",
       "      <th>ENSG00000176171</th>\n",
       "      <th>ENSG00000151640</th>\n",
       "      <th>ENSG00000068383</th>\n",
       "      <th>ENSG00000130640</th>\n",
       "      <th>ENSG00000127884</th>\n",
       "      <th>ENSG00000148832</th>\n",
       "      <th>ENSG00000130649</th>\n",
       "    </tr>\n",
       "  </thead>\n",
       "  <tbody>\n",
       "    <tr>\n",
       "      <th>ENSG00000261456</th>\n",
       "      <td>1.000000</td>\n",
       "      <td>0.003790</td>\n",
       "      <td>0.012337</td>\n",
       "      <td>0.007815</td>\n",
       "      <td>0.005915</td>\n",
       "      <td>0.007852</td>\n",
       "      <td>0.010083</td>\n",
       "      <td>0.011510</td>\n",
       "      <td>0.000000</td>\n",
       "      <td>0.000000</td>\n",
       "      <td>...</td>\n",
       "      <td>0.0</td>\n",
       "      <td>0.0</td>\n",
       "      <td>0.0</td>\n",
       "      <td>0.0</td>\n",
       "      <td>0.0</td>\n",
       "      <td>0.0</td>\n",
       "      <td>0.0</td>\n",
       "      <td>0.0</td>\n",
       "      <td>0.0</td>\n",
       "      <td>0.0</td>\n",
       "    </tr>\n",
       "    <tr>\n",
       "      <th>ENSG00000148377</th>\n",
       "      <td>0.003790</td>\n",
       "      <td>1.000000</td>\n",
       "      <td>0.084105</td>\n",
       "      <td>0.004528</td>\n",
       "      <td>0.003054</td>\n",
       "      <td>0.006786</td>\n",
       "      <td>0.005735</td>\n",
       "      <td>0.001551</td>\n",
       "      <td>0.000925</td>\n",
       "      <td>0.000890</td>\n",
       "      <td>...</td>\n",
       "      <td>0.0</td>\n",
       "      <td>0.0</td>\n",
       "      <td>0.0</td>\n",
       "      <td>0.0</td>\n",
       "      <td>0.0</td>\n",
       "      <td>0.0</td>\n",
       "      <td>0.0</td>\n",
       "      <td>0.0</td>\n",
       "      <td>0.0</td>\n",
       "      <td>0.0</td>\n",
       "    </tr>\n",
       "    <tr>\n",
       "      <th>ENSG00000067064</th>\n",
       "      <td>0.012337</td>\n",
       "      <td>0.084105</td>\n",
       "      <td>1.000000</td>\n",
       "      <td>0.014470</td>\n",
       "      <td>0.010029</td>\n",
       "      <td>0.010480</td>\n",
       "      <td>0.008932</td>\n",
       "      <td>0.007868</td>\n",
       "      <td>0.006230</td>\n",
       "      <td>0.009131</td>\n",
       "      <td>...</td>\n",
       "      <td>0.0</td>\n",
       "      <td>0.0</td>\n",
       "      <td>0.0</td>\n",
       "      <td>0.0</td>\n",
       "      <td>0.0</td>\n",
       "      <td>0.0</td>\n",
       "      <td>0.0</td>\n",
       "      <td>0.0</td>\n",
       "      <td>0.0</td>\n",
       "      <td>0.0</td>\n",
       "    </tr>\n",
       "    <tr>\n",
       "      <th>ENSG00000067057</th>\n",
       "      <td>0.007815</td>\n",
       "      <td>0.004528</td>\n",
       "      <td>0.014470</td>\n",
       "      <td>1.000000</td>\n",
       "      <td>0.010449</td>\n",
       "      <td>0.012528</td>\n",
       "      <td>0.017848</td>\n",
       "      <td>0.015077</td>\n",
       "      <td>0.011976</td>\n",
       "      <td>0.015208</td>\n",
       "      <td>...</td>\n",
       "      <td>0.0</td>\n",
       "      <td>0.0</td>\n",
       "      <td>0.0</td>\n",
       "      <td>0.0</td>\n",
       "      <td>0.0</td>\n",
       "      <td>0.0</td>\n",
       "      <td>0.0</td>\n",
       "      <td>0.0</td>\n",
       "      <td>0.0</td>\n",
       "      <td>0.0</td>\n",
       "    </tr>\n",
       "    <tr>\n",
       "      <th>ENSG00000067082</th>\n",
       "      <td>0.005915</td>\n",
       "      <td>0.003054</td>\n",
       "      <td>0.010029</td>\n",
       "      <td>0.010449</td>\n",
       "      <td>1.000000</td>\n",
       "      <td>0.005393</td>\n",
       "      <td>0.012874</td>\n",
       "      <td>0.010219</td>\n",
       "      <td>0.007214</td>\n",
       "      <td>0.011455</td>\n",
       "      <td>...</td>\n",
       "      <td>0.0</td>\n",
       "      <td>0.0</td>\n",
       "      <td>0.0</td>\n",
       "      <td>0.0</td>\n",
       "      <td>0.0</td>\n",
       "      <td>0.0</td>\n",
       "      <td>0.0</td>\n",
       "      <td>0.0</td>\n",
       "      <td>0.0</td>\n",
       "      <td>0.0</td>\n",
       "    </tr>\n",
       "  </tbody>\n",
       "</table>\n",
       "<p>5 rows × 245 columns</p>\n",
       "</div>"
      ],
      "text/plain": [
       "                 ENSG00000261456  ENSG00000148377  ENSG00000067064  \\\n",
       "ENSG00000261456         1.000000         0.003790         0.012337   \n",
       "ENSG00000148377         0.003790         1.000000         0.084105   \n",
       "ENSG00000067064         0.012337         0.084105         1.000000   \n",
       "ENSG00000067057         0.007815         0.004528         0.014470   \n",
       "ENSG00000067082         0.005915         0.003054         0.010029   \n",
       "\n",
       "                 ENSG00000067057  ENSG00000067082  ENSG00000187134  \\\n",
       "ENSG00000261456         0.007815         0.005915         0.007852   \n",
       "ENSG00000148377         0.004528         0.003054         0.006786   \n",
       "ENSG00000067064         0.014470         0.010029         0.010480   \n",
       "ENSG00000067057         1.000000         0.010449         0.012528   \n",
       "ENSG00000067082         0.010449         1.000000         0.005393   \n",
       "\n",
       "                 ENSG00000151632  ENSG00000196139  ENSG00000173848  \\\n",
       "ENSG00000261456         0.010083         0.011510         0.000000   \n",
       "ENSG00000148377         0.005735         0.001551         0.000925   \n",
       "ENSG00000067064         0.008932         0.007868         0.006230   \n",
       "ENSG00000067057         0.017848         0.015077         0.011976   \n",
       "ENSG00000067082         0.012874         0.010219         0.007214   \n",
       "\n",
       "                 ENSG00000196372  ...  ENSG00000148773  ENSG00000170430  \\\n",
       "ENSG00000261456         0.000000  ...              0.0              0.0   \n",
       "ENSG00000148377         0.000890  ...              0.0              0.0   \n",
       "ENSG00000067064         0.009131  ...              0.0              0.0   \n",
       "ENSG00000067057         0.015208  ...              0.0              0.0   \n",
       "ENSG00000067082         0.011455  ...              0.0              0.0   \n",
       "\n",
       "                 ENSG00000175470  ENSG00000176171  ENSG00000151640  \\\n",
       "ENSG00000261456              0.0              0.0              0.0   \n",
       "ENSG00000148377              0.0              0.0              0.0   \n",
       "ENSG00000067064              0.0              0.0              0.0   \n",
       "ENSG00000067057              0.0              0.0              0.0   \n",
       "ENSG00000067082              0.0              0.0              0.0   \n",
       "\n",
       "                 ENSG00000068383  ENSG00000130640  ENSG00000127884  \\\n",
       "ENSG00000261456              0.0              0.0              0.0   \n",
       "ENSG00000148377              0.0              0.0              0.0   \n",
       "ENSG00000067064              0.0              0.0              0.0   \n",
       "ENSG00000067057              0.0              0.0              0.0   \n",
       "ENSG00000067082              0.0              0.0              0.0   \n",
       "\n",
       "                 ENSG00000148832  ENSG00000130649  \n",
       "ENSG00000261456              0.0              0.0  \n",
       "ENSG00000148377              0.0              0.0  \n",
       "ENSG00000067064              0.0              0.0  \n",
       "ENSG00000067057              0.0              0.0  \n",
       "ENSG00000067082              0.0              0.0  \n",
       "\n",
       "[5 rows x 245 columns]"
      ]
     },
     "execution_count": 31,
     "metadata": {},
     "output_type": "execute_result"
    }
   ],
   "source": [
    "gene_corrs_df.head()"
   ]
  },
  {
   "cell_type": "markdown",
   "id": "dad6603f-01c6-41fb-a6f6-241051207dd8",
   "metadata": {
    "papermill": {
     "duration": 0.927509,
     "end_time": "2022-12-05T16:51:58.325285",
     "exception": false,
     "start_time": "2022-12-05T16:51:57.397776",
     "status": "completed"
    },
    "tags": []
   },
   "source": [
    "## Standard checks and stats"
   ]
  },
  {
   "cell_type": "code",
   "execution_count": 32,
   "id": "286686af-1b7b-4440-8453-6bdcbd8de19c",
   "metadata": {
    "execution": {
     "iopub.execute_input": "2022-12-05T16:52:00.198346Z",
     "iopub.status.busy": "2022-12-05T16:52:00.197579Z",
     "iopub.status.idle": "2022-12-05T16:52:00.220504Z",
     "shell.execute_reply": "2022-12-05T16:52:00.219866Z"
    },
    "papermill": {
     "duration": 0.999274,
     "end_time": "2022-12-05T16:52:00.221602",
     "exception": false,
     "start_time": "2022-12-05T16:51:59.222328",
     "status": "completed"
    },
    "tags": []
   },
   "outputs": [],
   "source": [
    "assert not gene_corrs_df.isna().any(axis=None)"
   ]
  },
  {
   "cell_type": "code",
   "execution_count": 33,
   "id": "00583efc-7068-4270-ad1e-4a418e91db96",
   "metadata": {
    "execution": {
     "iopub.execute_input": "2022-12-05T16:52:02.089247Z",
     "iopub.status.busy": "2022-12-05T16:52:02.088524Z",
     "iopub.status.idle": "2022-12-05T16:52:02.112752Z",
     "shell.execute_reply": "2022-12-05T16:52:02.112194Z"
    },
    "papermill": {
     "duration": 0.938989,
     "end_time": "2022-12-05T16:52:02.113684",
     "exception": false,
     "start_time": "2022-12-05T16:52:01.174695",
     "status": "completed"
    },
    "tags": []
   },
   "outputs": [
    {
     "data": {
      "text/plain": [
       "0.0"
      ]
     },
     "metadata": {},
     "output_type": "display_data"
    }
   ],
   "source": [
    "_min_val = gene_corrs_df.min().min()\n",
    "display(_min_val)\n",
    "assert _min_val >= -0.05"
   ]
  },
  {
   "cell_type": "code",
   "execution_count": 34,
   "id": "d04fb2cf-1050-475b-b855-f5f7cc04092b",
   "metadata": {
    "execution": {
     "iopub.execute_input": "2022-12-05T16:52:03.985503Z",
     "iopub.status.busy": "2022-12-05T16:52:03.985062Z",
     "iopub.status.idle": "2022-12-05T16:52:04.009881Z",
     "shell.execute_reply": "2022-12-05T16:52:04.009317Z"
    },
    "papermill": {
     "duration": 1.00345,
     "end_time": "2022-12-05T16:52:04.010767",
     "exception": false,
     "start_time": "2022-12-05T16:52:03.007317",
     "status": "completed"
    },
    "tags": []
   },
   "outputs": [
    {
     "data": {
      "text/plain": [
       "1.000000000000003"
      ]
     },
     "metadata": {},
     "output_type": "display_data"
    }
   ],
   "source": [
    "_max_val = gene_corrs_df.max().max()  # this captures the diagonal\n",
    "display(_max_val)\n",
    "assert _max_val <= 1.05"
   ]
  },
  {
   "cell_type": "code",
   "execution_count": 35,
   "id": "fe283586-c348-40e0-8841-f6d97bfb021c",
   "metadata": {
    "execution": {
     "iopub.execute_input": "2022-12-05T16:52:05.791829Z",
     "iopub.status.busy": "2022-12-05T16:52:05.791115Z",
     "iopub.status.idle": "2022-12-05T16:52:05.817912Z",
     "shell.execute_reply": "2022-12-05T16:52:05.817308Z"
    },
    "papermill": {
     "duration": 0.919867,
     "end_time": "2022-12-05T16:52:05.818856",
     "exception": false,
     "start_time": "2022-12-05T16:52:04.898989",
     "status": "completed"
    },
    "tags": []
   },
   "outputs": [
    {
     "data": {
      "text/plain": [
       "count    30135.000000\n",
       "mean         0.010724\n",
       "std          0.094187\n",
       "min          0.000000\n",
       "25%          0.000000\n",
       "50%          0.000000\n",
       "75%          0.000000\n",
       "max          1.000000\n",
       "dtype: float64"
      ]
     },
     "execution_count": 35,
     "metadata": {},
     "output_type": "execute_result"
    }
   ],
   "source": [
    "gene_corrs_flat.describe()"
   ]
  },
  {
   "cell_type": "code",
   "execution_count": 36,
   "id": "b3815678-0f93-4b35-897b-a9d047a2aa78",
   "metadata": {
    "execution": {
     "iopub.execute_input": "2022-12-05T16:52:07.639915Z",
     "iopub.status.busy": "2022-12-05T16:52:07.639510Z",
     "iopub.status.idle": "2022-12-05T16:52:07.661556Z",
     "shell.execute_reply": "2022-12-05T16:52:07.660936Z"
    },
    "papermill": {
     "duration": 0.918999,
     "end_time": "2022-12-05T16:52:07.662463",
     "exception": false,
     "start_time": "2022-12-05T16:52:06.743464",
     "status": "completed"
    },
    "tags": []
   },
   "outputs": [
    {
     "data": {
      "text/plain": [
       "0.00    0.000000\n",
       "0.05    0.000000\n",
       "0.10    0.000000\n",
       "0.15    0.000000\n",
       "0.20    0.000000\n",
       "0.25    0.000000\n",
       "0.30    0.000000\n",
       "0.35    0.000000\n",
       "0.40    0.000000\n",
       "0.45    0.000000\n",
       "0.50    0.000000\n",
       "0.55    0.000000\n",
       "0.60    0.000000\n",
       "0.65    0.000000\n",
       "0.70    0.000000\n",
       "0.75    0.000000\n",
       "0.80    0.000000\n",
       "0.85    0.000000\n",
       "0.90    0.000958\n",
       "0.95    0.008035\n",
       "dtype: float64"
      ]
     },
     "metadata": {},
     "output_type": "display_data"
    }
   ],
   "source": [
    "gene_corrs_quantiles = gene_corrs_flat.quantile(np.arange(0, 1, 0.05))\n",
    "display(gene_corrs_quantiles)"
   ]
  },
  {
   "cell_type": "markdown",
   "id": "87134509-b145-4a10-8bc9-b7e914c2b0fa",
   "metadata": {
    "papermill": {
     "duration": 0.937221,
     "end_time": "2022-12-05T16:52:09.488578",
     "exception": false,
     "start_time": "2022-12-05T16:52:08.551357",
     "status": "completed"
    },
    "tags": []
   },
   "source": [
    "## Positive definiteness"
   ]
  },
  {
   "cell_type": "code",
   "execution_count": 37,
   "id": "07d9a9a1-a4f7-48aa-b916-6d42a8cc6186",
   "metadata": {
    "execution": {
     "iopub.execute_input": "2022-12-05T16:52:11.350438Z",
     "iopub.status.busy": "2022-12-05T16:52:11.350152Z",
     "iopub.status.idle": "2022-12-05T16:52:11.394744Z",
     "shell.execute_reply": "2022-12-05T16:52:11.394085Z"
    },
    "papermill": {
     "duration": 0.981425,
     "end_time": "2022-12-05T16:52:11.395659",
     "exception": false,
     "start_time": "2022-12-05T16:52:10.414234",
     "status": "completed"
    },
    "tags": []
   },
   "outputs": [
    {
     "data": {
      "text/plain": [
       "0"
      ]
     },
     "metadata": {},
     "output_type": "display_data"
    },
    {
     "data": {
      "text/plain": [
       "array([], dtype=float64)"
      ]
     },
     "metadata": {},
     "output_type": "display_data"
    }
   ],
   "source": [
    "# print negative eigenvalues\n",
    "eigs = np.linalg.eigvals(gene_corrs_df.to_numpy())\n",
    "display(len(eigs[eigs < 0]))\n",
    "display(eigs[eigs < 0])"
   ]
  },
  {
   "cell_type": "code",
   "execution_count": 38,
   "id": "6e218436-c3c5-4028-8c94-a4fa6260efce",
   "metadata": {
    "execution": {
     "iopub.execute_input": "2022-12-05T16:52:13.431201Z",
     "iopub.status.busy": "2022-12-05T16:52:13.430775Z",
     "iopub.status.idle": "2022-12-05T16:52:13.459399Z",
     "shell.execute_reply": "2022-12-05T16:52:13.458757Z"
    },
    "papermill": {
     "duration": 1.022938,
     "end_time": "2022-12-05T16:52:13.460368",
     "exception": false,
     "start_time": "2022-12-05T16:52:12.437430",
     "status": "completed"
    },
    "tags": []
   },
   "outputs": [
    {
     "name": "stdout",
     "output_type": "stream",
     "text": [
      "Works!\n"
     ]
    }
   ],
   "source": [
    "try:\n",
    "    chol_mat = np.linalg.cholesky(gene_corrs_df.to_numpy())\n",
    "    cov_inv = np.linalg.inv(chol_mat)\n",
    "    print(\"Works!\")\n",
    "except Exception as e:\n",
    "    print(f\"Cholesky decomposition failed: {str(e)}\")"
   ]
  },
  {
   "cell_type": "code",
   "execution_count": 39,
   "id": "dd8827fb-faf9-4c7c-9454-015e94752706",
   "metadata": {
    "execution": {
     "iopub.execute_input": "2022-12-05T16:52:15.295283Z",
     "iopub.status.busy": "2022-12-05T16:52:15.294865Z",
     "iopub.status.idle": "2022-12-05T16:52:15.322669Z",
     "shell.execute_reply": "2022-12-05T16:52:15.321978Z"
    },
    "papermill": {
     "duration": 0.971637,
     "end_time": "2022-12-05T16:52:15.323600",
     "exception": false,
     "start_time": "2022-12-05T16:52:14.351963",
     "status": "completed"
    },
    "tags": []
   },
   "outputs": [
    {
     "name": "stdout",
     "output_type": "stream",
     "text": [
      "Works!\n"
     ]
    }
   ],
   "source": [
    "try:\n",
    "    # decomposition used by statsmodels.GLS\n",
    "    cholsigmainv = np.linalg.cholesky(np.linalg.inv(gene_corrs_df.to_numpy())).T\n",
    "    print(\"Works!\")\n",
    "except Exception as e:\n",
    "    print(f\"Cholesky decomposition failed (statsmodels.GLS): {str(e)}\")"
   ]
  },
  {
   "cell_type": "markdown",
   "id": "8e60a080-edb2-4e9c-b2ef-22961693200c",
   "metadata": {
    "papermill": {
     "duration": 0.951002,
     "end_time": "2022-12-05T16:52:17.154852",
     "exception": false,
     "start_time": "2022-12-05T16:52:16.203850",
     "status": "completed"
    },
    "tags": []
   },
   "source": [
    "## Plot: distribution"
   ]
  },
  {
   "cell_type": "code",
   "execution_count": 40,
   "id": "8301126b-a7d4-4744-9c7d-f0f86eb6f54c",
   "metadata": {
    "execution": {
     "iopub.execute_input": "2022-12-05T16:52:18.999811Z",
     "iopub.status.busy": "2022-12-05T16:52:18.999404Z",
     "iopub.status.idle": "2022-12-05T16:52:19.307444Z",
     "shell.execute_reply": "2022-12-05T16:52:19.307069Z"
    },
    "papermill": {
     "duration": 1.19571,
     "end_time": "2022-12-05T16:52:19.308554",
     "exception": false,
     "start_time": "2022-12-05T16:52:18.112844",
     "status": "completed"
    },
    "tags": []
   },
   "outputs": [
    {
     "data": {
      "image/png": "[encoded data removed]",
      "text/plain": [
       "<Figure size 700x700 with 1 Axes>"
      ]
     },
     "metadata": {},
     "output_type": "display_data"
    }
   ],
   "source": [
    "with sns.plotting_context(\"paper\", font_scale=1.5):\n",
    "    g = sns.displot(gene_corrs_flat, kde=True, height=7)\n",
    "    g.ax.set_title(\n",
    "        f\"Distribution of gene correlation values in chromosome {CHROMOSOME}\"\n",
    "    )"
   ]
  },
  {
   "cell_type": "markdown",
   "id": "cbd52bca-d878-4a2f-b684-5c83aa3038d4",
   "metadata": {
    "papermill": {
     "duration": 0.962024,
     "end_time": "2022-12-05T16:52:21.230504",
     "exception": false,
     "start_time": "2022-12-05T16:52:20.268480",
     "status": "completed"
    },
    "tags": []
   },
   "source": [
    "## Plot: heatmap"
   ]
  },
  {
   "cell_type": "code",
   "execution_count": 41,
   "id": "d03fe63a-c7b2-4fb9-a53c-db362ce843c9",
   "metadata": {
    "execution": {
     "iopub.execute_input": "2022-12-05T16:52:23.045754Z",
     "iopub.status.busy": "2022-12-05T16:52:23.045412Z",
     "iopub.status.idle": "2022-12-05T16:52:23.068976Z",
     "shell.execute_reply": "2022-12-05T16:52:23.068431Z"
    },
    "papermill": {
     "duration": 0.925255,
     "end_time": "2022-12-05T16:52:23.069836",
     "exception": false,
     "start_time": "2022-12-05T16:52:22.144581",
     "status": "completed"
    },
    "tags": []
   },
   "outputs": [
    {
     "data": {
      "text/plain": [
       "'0.0 / 0.05'"
      ]
     },
     "metadata": {},
     "output_type": "display_data"
    }
   ],
   "source": [
    "vmin_val = min(0.00, gene_corrs_quantiles[0.10])\n",
    "vmax_val = max(0.05, gene_corrs_quantiles[0.90])\n",
    "display(f\"{vmin_val} / {vmax_val}\")"
   ]
  },
  {
   "cell_type": "code",
   "execution_count": 42,
   "id": "dc41b70b-5bcc-4d9e-9f33-a22c4a94dab5",
   "metadata": {
    "execution": {
     "iopub.execute_input": "2022-12-05T16:52:24.927373Z",
     "iopub.status.busy": "2022-12-05T16:52:24.926720Z",
     "iopub.status.idle": "2022-12-05T16:52:25.136777Z",
     "shell.execute_reply": "2022-12-05T16:52:25.136390Z"
    },
    "papermill": {
     "duration": 1.110024,
     "end_time": "2022-12-05T16:52:25.138507",
     "exception": false,
     "start_time": "2022-12-05T16:52:24.028483",
     "status": "completed"
    },
    "tags": []
   },
   "outputs": [
    {
     "data": {
      "text/plain": [
       "Text(0.5, 1.0, 'Gene correlations in chromosome 10')"
      ]
     },
     "execution_count": 42,
     "metadata": {},
     "output_type": "execute_result"
    },
    {
     "data": {
      "image/png": "[encoded data removed]",
      "text/plain": [
       "<Figure size 1000x1000 with 2 Axes>"
      ]
     },
     "metadata": {},
     "output_type": "display_data"
    }
   ],
   "source": [
    "f, ax = plt.subplots(figsize=(10, 10))\n",
    "sns.heatmap(\n",
    "    gene_corrs_df,\n",
    "    xticklabels=False,\n",
    "    yticklabels=False,\n",
    "    square=True,\n",
    "    vmin=vmin_val,\n",
    "    vmax=vmax_val,\n",
    "    cmap=\"rocket_r\",\n",
    "    ax=ax,\n",
    ")\n",
    "ax.set_title(f\"Gene correlations in chromosome {CHROMOSOME}\")"
   ]
  },
  {
   "cell_type": "code",
   "execution_count": null,
   "id": "b25e3ead",
   "metadata": {
    "papermill": {
     "duration": 0.953609,
     "end_time": "2022-12-05T16:52:27.055729",
     "exception": false,
     "start_time": "2022-12-05T16:52:26.102120",
     "status": "completed"
    },
    "tags": []
   },
   "outputs": [],
   "source": []
  }
 ],
 "metadata": {
  "jupytext": {
   "cell_metadata_filter": "all,-execution,-papermill,-trusted",
   "formats": "ipynb,py//py:percent"
  },
  "kernelspec": {
   "display_name": "Python 3 (ipykernel)",
   "language": "python",
   "name": "python3"
  },
  "language_info": {
   "codemirror_mode": {
    "name": "ipython",
    "version": 3
   },
   "file_extension": ".py",
   "mimetype": "text/x-python",
   "name": "python",
   "nbconvert_exporter": "python",
   "pygments_lexer": "ipython3",
   "version": "3.10.6"
  },
  "papermill": {
   "default_parameters": {},
   "duration": 243.987019,
   "end_time": "2022-12-05T16:52:30.666824",
   "environment_variables": {},
   "exception": null,
   "input_path": "projects/asthma-copd/nbs/20_gene_corrs/jobs/05-gene_expr_correlations.ipynb",
   "output_path": "projects/asthma-copd/nbs/20_gene_corrs/jobs/../output/asthma_only/05-gene_expr_correlations-chr10.run.ipynb",
   "parameters": {
    "CHROMOSOME": 10,
    "COHORT_NAME": "asthma_only",
    "OUTPUT_DIR_BASE": "/opt/data/projects/asthma-copd/results/gls_phenoplier",
    "PHENOPLIER_NOTEBOOK_FILEPATH": "projects/asthma-copd/nbs/20_gene_corrs/jobs/05-gene_expr_correlations.ipynb"
   },
   "start_time": "2022-12-05T16:48:26.679805",
   "version": "2.2.2"
  }
 },
 "nbformat": 4,
 "nbformat_minor": 5
}
