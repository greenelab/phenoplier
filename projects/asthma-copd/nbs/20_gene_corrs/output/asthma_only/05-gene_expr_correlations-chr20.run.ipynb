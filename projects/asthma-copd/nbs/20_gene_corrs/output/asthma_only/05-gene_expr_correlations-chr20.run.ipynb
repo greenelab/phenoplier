{
 "cells": [
  {
   "cell_type": "markdown",
   "id": "7a6632fb",
   "metadata": {
    "papermill": {
     "duration": 0.016188,
     "end_time": "2022-12-15T17:49:22.965914",
     "exception": false,
     "start_time": "2022-12-15T17:49:22.949726",
     "status": "completed"
    },
    "tags": []
   },
   "source": [
    "# Description"
   ]
  },
  {
   "cell_type": "markdown",
   "id": "7097c346",
   "metadata": {
    "papermill": {
     "duration": 0.008944,
     "end_time": "2022-12-15T17:49:22.984246",
     "exception": false,
     "start_time": "2022-12-15T17:49:22.975302",
     "status": "completed"
    },
    "tags": []
   },
   "source": [
    "(Please, take a look at the README.md file in this directory for instructions on how to run this notebook)\n",
    "\n",
    "This notebook computes predicted expression correlations between all genes in the MultiPLIER models.\n",
    "\n",
    "It has specicfic parameters for papermill (see under `Settings` below).\n",
    "It can be configured to run on a single chromosome to run in parallel.\n",
    "\n",
    "This notebook is not directly run. See README.md."
   ]
  },
  {
   "cell_type": "markdown",
   "id": "c61d8427",
   "metadata": {
    "papermill": {
     "duration": 0.00852,
     "end_time": "2022-12-15T17:49:23.000799",
     "exception": false,
     "start_time": "2022-12-15T17:49:22.992279",
     "status": "completed"
    },
    "tags": []
   },
   "source": [
    "# Modules"
   ]
  },
  {
   "cell_type": "code",
   "execution_count": 1,
   "id": "bbc0234f",
   "metadata": {
    "execution": {
     "iopub.execute_input": "2022-12-15T17:49:23.031534Z",
     "iopub.status.busy": "2022-12-15T17:49:23.030945Z",
     "iopub.status.idle": "2022-12-15T17:49:23.047189Z",
     "shell.execute_reply": "2022-12-15T17:49:23.046821Z"
    },
    "papermill": {
     "duration": 0.032759,
     "end_time": "2022-12-15T17:49:23.048198",
     "exception": false,
     "start_time": "2022-12-15T17:49:23.015439",
     "status": "completed"
    },
    "tags": []
   },
   "outputs": [],
   "source": [
    "%load_ext autoreload\n",
    "%autoreload 2"
   ]
  },
  {
   "cell_type": "code",
   "execution_count": 2,
   "id": "1d5f5a59",
   "metadata": {
    "execution": {
     "iopub.execute_input": "2022-12-15T17:49:23.058155Z",
     "iopub.status.busy": "2022-12-15T17:49:23.057968Z",
     "iopub.status.idle": "2022-12-15T17:49:23.936211Z",
     "shell.execute_reply": "2022-12-15T17:49:23.935846Z"
    },
    "papermill": {
     "duration": 0.884264,
     "end_time": "2022-12-15T17:49:23.937360",
     "exception": false,
     "start_time": "2022-12-15T17:49:23.053096",
     "status": "completed"
    },
    "tags": []
   },
   "outputs": [],
   "source": [
    "from random import sample, seed\n",
    "import warnings\n",
    "from pathlib import Path\n",
    "import pickle\n",
    "import traceback\n",
    "\n",
    "import numpy as np\n",
    "from scipy.spatial.distance import squareform\n",
    "import pandas as pd\n",
    "from tqdm import tqdm\n",
    "import matplotlib.pyplot as plt\n",
    "import seaborn as sns\n",
    "\n",
    "import conf\n",
    "from entity import Gene"
   ]
  },
  {
   "cell_type": "markdown",
   "id": "1eac24b5",
   "metadata": {
    "papermill": {
     "duration": 0.004211,
     "end_time": "2022-12-15T17:49:23.946245",
     "exception": false,
     "start_time": "2022-12-15T17:49:23.942034",
     "status": "completed"
    },
    "tags": []
   },
   "source": [
    "# Settings"
   ]
  },
  {
   "cell_type": "code",
   "execution_count": 3,
   "id": "ca4560ba",
   "metadata": {
    "execution": {
     "iopub.execute_input": "2022-12-15T17:49:23.956204Z",
     "iopub.status.busy": "2022-12-15T17:49:23.955783Z",
     "iopub.status.idle": "2022-12-15T17:49:23.985987Z",
     "shell.execute_reply": "2022-12-15T17:49:23.985457Z"
    },
    "papermill": {
     "duration": 0.036709,
     "end_time": "2022-12-15T17:49:23.987153",
     "exception": false,
     "start_time": "2022-12-15T17:49:23.950444",
     "status": "completed"
    },
    "tags": [
     "parameters"
    ]
   },
   "outputs": [],
   "source": [
    "# a cohort name (it could be something like UK_BIOBANK, etc)\n",
    "COHORT_NAME = None\n",
    "\n",
    "# reference panel such as 1000G or GTEX_V8\n",
    "REFERENCE_PANEL = \"GTEX_V8\"\n",
    "\n",
    "# predictions models such as MASHR or ELASTIC_NET\n",
    "EQTL_MODEL = \"MASHR\"\n",
    "\n",
    "# this is the default value used in S-MultiXcan to select the\n",
    "# top principal components of the expression correlation matrix\n",
    "SMULTIXCAN_CONDITION_NUMBER = 30\n",
    "\n",
    "# specifies a single chromosome value\n",
    "CHROMOSOME = None\n",
    "\n",
    "# If True, computes the correlation between closeby genes only (see\n",
    "# entity.Gene.within_distance for more details). Otherwise, it computes\n",
    "# correlations for all genes in a chromosome\n",
    "COMPUTE_CORRELATIONS_WITHIN_DISTANCE = True\n",
    "\n",
    "# if True, then it will continue if a gene pair correlation fails,\n",
    "# printing the warning/error for debugging. If False, any warning/error\n",
    "# will be thrown\n",
    "DEBUG_MODE = False\n",
    "\n",
    "# output dir\n",
    "OUTPUT_DIR_BASE = None"
   ]
  },
  {
   "cell_type": "code",
   "execution_count": 4,
   "id": "493cf4a7",
   "metadata": {
    "execution": {
     "iopub.execute_input": "2022-12-15T17:49:23.996954Z",
     "iopub.status.busy": "2022-12-15T17:49:23.996546Z",
     "iopub.status.idle": "2022-12-15T17:49:24.018832Z",
     "shell.execute_reply": "2022-12-15T17:49:24.018192Z"
    },
    "papermill": {
     "duration": 0.02905,
     "end_time": "2022-12-15T17:49:24.020738",
     "exception": false,
     "start_time": "2022-12-15T17:49:23.991688",
     "status": "completed"
    },
    "tags": [
     "injected-parameters"
    ]
   },
   "outputs": [],
   "source": [
    "# Parameters\n",
    "PHENOPLIER_NOTEBOOK_FILEPATH = (\n",
    "    \"projects/asthma-copd/nbs/20_gene_corrs/jobs/05-gene_expr_correlations.ipynb\"\n",
    ")\n",
    "COHORT_NAME = \"asthma_only\"\n",
    "CHROMOSOME = 20\n",
    "OUTPUT_DIR_BASE = \"/opt/data/projects/asthma-copd/results/gls_phenoplier\"\n"
   ]
  },
  {
   "cell_type": "code",
   "execution_count": 5,
   "id": "3190631f-27fc-480f-b18e-571d580425a5",
   "metadata": {
    "execution": {
     "iopub.execute_input": "2022-12-15T17:49:24.037097Z",
     "iopub.status.busy": "2022-12-15T17:49:24.036612Z",
     "iopub.status.idle": "2022-12-15T17:49:24.065917Z",
     "shell.execute_reply": "2022-12-15T17:49:24.065279Z"
    },
    "papermill": {
     "duration": 0.037717,
     "end_time": "2022-12-15T17:49:24.066937",
     "exception": false,
     "start_time": "2022-12-15T17:49:24.029220",
     "status": "completed"
    },
    "tags": []
   },
   "outputs": [
    {
     "data": {
      "text/plain": [
       "'Cohort name: asthma_only'"
      ]
     },
     "metadata": {},
     "output_type": "display_data"
    }
   ],
   "source": [
    "assert COHORT_NAME is not None and len(COHORT_NAME) > 0, \"A cohort name must be given\"\n",
    "\n",
    "COHORT_NAME = COHORT_NAME.lower()\n",
    "display(f\"Cohort name: {COHORT_NAME}\")"
   ]
  },
  {
   "cell_type": "code",
   "execution_count": 6,
   "id": "f53ba19b-0f93-4fa2-a047-63b375939d1a",
   "metadata": {
    "execution": {
     "iopub.execute_input": "2022-12-15T17:49:24.078165Z",
     "iopub.status.busy": "2022-12-15T17:49:24.077531Z",
     "iopub.status.idle": "2022-12-15T17:49:24.113943Z",
     "shell.execute_reply": "2022-12-15T17:49:24.113415Z"
    },
    "papermill": {
     "duration": 0.043377,
     "end_time": "2022-12-15T17:49:24.115138",
     "exception": false,
     "start_time": "2022-12-15T17:49:24.071761",
     "status": "completed"
    },
    "tags": []
   },
   "outputs": [
    {
     "data": {
      "text/plain": [
       "'Reference panel: GTEX_V8'"
      ]
     },
     "metadata": {},
     "output_type": "display_data"
    }
   ],
   "source": [
    "assert (\n",
    "    REFERENCE_PANEL is not None and len(REFERENCE_PANEL) > 0\n",
    "), \"A reference panel must be given\"\n",
    "\n",
    "display(f\"Reference panel: {REFERENCE_PANEL}\")"
   ]
  },
  {
   "cell_type": "code",
   "execution_count": 7,
   "id": "e024d130-c139-429a-9c6e-ccf149e297b0",
   "metadata": {
    "execution": {
     "iopub.execute_input": "2022-12-15T17:49:24.130805Z",
     "iopub.status.busy": "2022-12-15T17:49:24.130349Z",
     "iopub.status.idle": "2022-12-15T17:49:24.155844Z",
     "shell.execute_reply": "2022-12-15T17:49:24.155302Z"
    },
    "papermill": {
     "duration": 0.034327,
     "end_time": "2022-12-15T17:49:24.156811",
     "exception": false,
     "start_time": "2022-12-15T17:49:24.122484",
     "status": "completed"
    },
    "tags": []
   },
   "outputs": [
    {
     "data": {
      "text/plain": [
       "'eQTL model: MASHR) / mashr_'"
      ]
     },
     "metadata": {},
     "output_type": "display_data"
    }
   ],
   "source": [
    "assert (\n",
    "    EQTL_MODEL is not None and len(EQTL_MODEL) > 0\n",
    "), \"A prediction/eQTL model must be given\"\n",
    "\n",
    "EQTL_MODEL_FILES_PREFIX = conf.PHENOMEXCAN[\"PREDICTION_MODELS\"][f\"{EQTL_MODEL}_PREFIX\"]\n",
    "display(f\"eQTL model: {EQTL_MODEL}) / {EQTL_MODEL_FILES_PREFIX}\")"
   ]
  },
  {
   "cell_type": "code",
   "execution_count": 8,
   "id": "552a7f63-a18c-4d3e-bb6a-94f99b431291",
   "metadata": {
    "execution": {
     "iopub.execute_input": "2022-12-15T17:49:24.168467Z",
     "iopub.status.busy": "2022-12-15T17:49:24.168098Z",
     "iopub.status.idle": "2022-12-15T17:49:24.194015Z",
     "shell.execute_reply": "2022-12-15T17:49:24.193542Z"
    },
    "papermill": {
     "duration": 0.033992,
     "end_time": "2022-12-15T17:49:24.195508",
     "exception": false,
     "start_time": "2022-12-15T17:49:24.161516",
     "status": "completed"
    },
    "tags": []
   },
   "outputs": [
    {
     "data": {
      "text/plain": [
       "'S-MultiXcan condition number: 30'"
      ]
     },
     "metadata": {},
     "output_type": "display_data"
    }
   ],
   "source": [
    "assert (\n",
    "    SMULTIXCAN_CONDITION_NUMBER is not None and SMULTIXCAN_CONDITION_NUMBER > 0\n",
    "), \"The S-MultiXcan condition number (positive integer) must be given\"\n",
    "\n",
    "display(f\"S-MultiXcan condition number: {SMULTIXCAN_CONDITION_NUMBER}\")"
   ]
  },
  {
   "cell_type": "code",
   "execution_count": 9,
   "id": "f34a336f-548e-4afe-8955-90eaea4f42c6",
   "metadata": {
    "execution": {
     "iopub.execute_input": "2022-12-15T17:49:24.213758Z",
     "iopub.status.busy": "2022-12-15T17:49:24.213285Z",
     "iopub.status.idle": "2022-12-15T17:49:24.238308Z",
     "shell.execute_reply": "2022-12-15T17:49:24.238008Z"
    },
    "papermill": {
     "duration": 0.032572,
     "end_time": "2022-12-15T17:49:24.239101",
     "exception": false,
     "start_time": "2022-12-15T17:49:24.206529",
     "status": "completed"
    },
    "tags": []
   },
   "outputs": [
    {
     "data": {
      "text/plain": [
       "'Working on chromosome 20'"
      ]
     },
     "metadata": {},
     "output_type": "display_data"
    }
   ],
   "source": [
    "assert CHROMOSOME is not None and (\n",
    "    1 <= CHROMOSOME <= 22\n",
    "), \"You have to select one chromosome (format: number between 1 and 22)\"\n",
    "\n",
    "display(f\"Working on chromosome {CHROMOSOME}\")"
   ]
  },
  {
   "cell_type": "code",
   "execution_count": 10,
   "id": "ab8e96e8-06b5-4363-9dcd-dc4d78cc27f7",
   "metadata": {
    "execution": {
     "iopub.execute_input": "2022-12-15T17:49:24.250937Z",
     "iopub.status.busy": "2022-12-15T17:49:24.250389Z",
     "iopub.status.idle": "2022-12-15T17:49:24.279005Z",
     "shell.execute_reply": "2022-12-15T17:49:24.278635Z"
    },
    "papermill": {
     "duration": 0.035852,
     "end_time": "2022-12-15T17:49:24.279851",
     "exception": false,
     "start_time": "2022-12-15T17:49:24.243999",
     "status": "completed"
    },
    "tags": []
   },
   "outputs": [
    {
     "data": {
      "text/plain": [
       "'Compute correlation within distance True'"
      ]
     },
     "metadata": {},
     "output_type": "display_data"
    }
   ],
   "source": [
    "display(f\"Compute correlation within distance {COMPUTE_CORRELATIONS_WITHIN_DISTANCE}\")"
   ]
  },
  {
   "cell_type": "code",
   "execution_count": 11,
   "id": "b393b698-77e3-4ba2-8ac1-e14d51aa988f",
   "metadata": {
    "execution": {
     "iopub.execute_input": "2022-12-15T17:49:24.293149Z",
     "iopub.status.busy": "2022-12-15T17:49:24.292835Z",
     "iopub.status.idle": "2022-12-15T17:49:24.314045Z",
     "shell.execute_reply": "2022-12-15T17:49:24.313619Z"
    },
    "papermill": {
     "duration": 0.030184,
     "end_time": "2022-12-15T17:49:24.314885",
     "exception": false,
     "start_time": "2022-12-15T17:49:24.284701",
     "status": "completed"
    },
    "tags": []
   },
   "outputs": [
    {
     "data": {
      "text/plain": [
       "'Using output dir base: /opt/data/projects/asthma-copd/results/gls_phenoplier/gene_corrs/asthma_only'"
      ]
     },
     "metadata": {},
     "output_type": "display_data"
    }
   ],
   "source": [
    "assert (\n",
    "    OUTPUT_DIR_BASE is not None and len(OUTPUT_DIR_BASE) > 0\n",
    "), \"Output directory path must be given\"\n",
    "\n",
    "OUTPUT_DIR_BASE = (Path(OUTPUT_DIR_BASE) / \"gene_corrs\" / COHORT_NAME).resolve()\n",
    "\n",
    "OUTPUT_DIR_BASE.mkdir(parents=True, exist_ok=True)\n",
    "\n",
    "display(f\"Using output dir base: {OUTPUT_DIR_BASE}\")"
   ]
  },
  {
   "cell_type": "markdown",
   "id": "d2ba085e",
   "metadata": {
    "papermill": {
     "duration": 0.008399,
     "end_time": "2022-12-15T17:49:24.328574",
     "exception": false,
     "start_time": "2022-12-15T17:49:24.320175",
     "status": "completed"
    },
    "tags": []
   },
   "source": [
    "# Load data"
   ]
  },
  {
   "cell_type": "markdown",
   "id": "7dcb8db7",
   "metadata": {
    "papermill": {
     "duration": 0.007224,
     "end_time": "2022-12-15T17:49:24.344547",
     "exception": false,
     "start_time": "2022-12-15T17:49:24.337323",
     "status": "completed"
    },
    "tags": []
   },
   "source": [
    "## GWAS variants"
   ]
  },
  {
   "cell_type": "code",
   "execution_count": 12,
   "id": "29434c4e-8cd3-4b9b-82e4-b5a251d9dd19",
   "metadata": {
    "execution": {
     "iopub.execute_input": "2022-12-15T17:49:24.361693Z",
     "iopub.status.busy": "2022-12-15T17:49:24.361376Z",
     "iopub.status.idle": "2022-12-15T17:49:27.796026Z",
     "shell.execute_reply": "2022-12-15T17:49:27.795518Z"
    },
    "papermill": {
     "duration": 3.445508,
     "end_time": "2022-12-15T17:49:27.797873",
     "exception": false,
     "start_time": "2022-12-15T17:49:24.352365",
     "status": "completed"
    },
    "tags": []
   },
   "outputs": [],
   "source": [
    "with open(OUTPUT_DIR_BASE / \"gwas_variant_ids.pkl\", \"rb\") as handle:\n",
    "    gwas_variants_ids_set = pickle.load(handle)"
   ]
  },
  {
   "cell_type": "code",
   "execution_count": 13,
   "id": "b9d9dec2-4a76-4bf9-bde2-e24c95acb8a0",
   "metadata": {
    "execution": {
     "iopub.execute_input": "2022-12-15T17:49:27.815343Z",
     "iopub.status.busy": "2022-12-15T17:49:27.815161Z",
     "iopub.status.idle": "2022-12-15T17:49:27.831864Z",
     "shell.execute_reply": "2022-12-15T17:49:27.831465Z"
    },
    "papermill": {
     "duration": 0.027107,
     "end_time": "2022-12-15T17:49:27.833299",
     "exception": false,
     "start_time": "2022-12-15T17:49:27.806192",
     "status": "completed"
    },
    "tags": []
   },
   "outputs": [
    {
     "data": {
      "text/plain": [
       "8578486"
      ]
     },
     "execution_count": 13,
     "metadata": {},
     "output_type": "execute_result"
    }
   ],
   "source": [
    "len(gwas_variants_ids_set)"
   ]
  },
  {
   "cell_type": "code",
   "execution_count": 14,
   "id": "4235b06a-6034-4ee4-a0a3-2ae35d122418",
   "metadata": {
    "execution": {
     "iopub.execute_input": "2022-12-15T17:49:27.848846Z",
     "iopub.status.busy": "2022-12-15T17:49:27.848615Z",
     "iopub.status.idle": "2022-12-15T17:49:29.509335Z",
     "shell.execute_reply": "2022-12-15T17:49:29.508645Z"
    },
    "papermill": {
     "duration": 1.669116,
     "end_time": "2022-12-15T17:49:29.511033",
     "exception": false,
     "start_time": "2022-12-15T17:49:27.841917",
     "status": "completed"
    },
    "tags": []
   },
   "outputs": [
    {
     "data": {
      "text/plain": [
       "['chr7_101459686_G_A_b38',\n",
       " 'chr1_48652831_C_T_b38',\n",
       " 'chr13_33761373_G_A_b38',\n",
       " 'chr1_164093811_C_T_b38',\n",
       " 'chr12_78143036_T_C_b38']"
      ]
     },
     "execution_count": 14,
     "metadata": {},
     "output_type": "execute_result"
    }
   ],
   "source": [
    "list(gwas_variants_ids_set)[:5]"
   ]
  },
  {
   "cell_type": "markdown",
   "id": "07866999-2305-41f9-a144-e69c9122c212",
   "metadata": {
    "papermill": {
     "duration": 0.008386,
     "end_time": "2022-12-15T17:49:29.528742",
     "exception": false,
     "start_time": "2022-12-15T17:49:29.520356",
     "status": "completed"
    },
    "tags": []
   },
   "source": [
    "## S-PrediXcan tissue models"
   ]
  },
  {
   "cell_type": "code",
   "execution_count": 15,
   "id": "780611d9-77c8-405f-90a4-f271f7b09397",
   "metadata": {
    "execution": {
     "iopub.execute_input": "2022-12-15T17:49:29.547698Z",
     "iopub.status.busy": "2022-12-15T17:49:29.547252Z",
     "iopub.status.idle": "2022-12-15T17:49:30.845328Z",
     "shell.execute_reply": "2022-12-15T17:49:30.844862Z"
    },
    "papermill": {
     "duration": 1.30888,
     "end_time": "2022-12-15T17:49:30.846695",
     "exception": false,
     "start_time": "2022-12-15T17:49:29.537815",
     "status": "completed"
    },
    "tags": []
   },
   "outputs": [],
   "source": [
    "spredixcan_genes_models = pd.read_pickle(OUTPUT_DIR_BASE / \"gene_tissues.pkl\")"
   ]
  },
  {
   "cell_type": "code",
   "execution_count": 16,
   "id": "726dd1f6-9557-4225-91fa-b3b879ea96e1",
   "metadata": {
    "execution": {
     "iopub.execute_input": "2022-12-15T17:49:30.862216Z",
     "iopub.status.busy": "2022-12-15T17:49:30.862021Z",
     "iopub.status.idle": "2022-12-15T17:49:30.883093Z",
     "shell.execute_reply": "2022-12-15T17:49:30.882474Z"
    },
    "papermill": {
     "duration": 0.030157,
     "end_time": "2022-12-15T17:49:30.884312",
     "exception": false,
     "start_time": "2022-12-15T17:49:30.854155",
     "status": "completed"
    },
    "tags": []
   },
   "outputs": [
    {
     "data": {
      "text/plain": [
       "(6443, 5)"
      ]
     },
     "execution_count": 16,
     "metadata": {},
     "output_type": "execute_result"
    }
   ],
   "source": [
    "spredixcan_genes_models.shape"
   ]
  },
  {
   "cell_type": "code",
   "execution_count": 17,
   "id": "944a1b48-222c-4eb0-b252-b9de2cbca215",
   "metadata": {
    "execution": {
     "iopub.execute_input": "2022-12-15T17:49:30.899552Z",
     "iopub.status.busy": "2022-12-15T17:49:30.899248Z",
     "iopub.status.idle": "2022-12-15T17:49:30.921781Z",
     "shell.execute_reply": "2022-12-15T17:49:30.921164Z"
    },
    "papermill": {
     "duration": 0.031719,
     "end_time": "2022-12-15T17:49:30.923164",
     "exception": false,
     "start_time": "2022-12-15T17:49:30.891445",
     "status": "completed"
    },
    "tags": []
   },
   "outputs": [
    {
     "data": {
      "text/html": [
       "<div>\n",
       "<style scoped>\n",
       "    .dataframe tbody tr th:only-of-type {\n",
       "        vertical-align: middle;\n",
       "    }\n",
       "\n",
       "    .dataframe tbody tr th {\n",
       "        vertical-align: top;\n",
       "    }\n",
       "\n",
       "    .dataframe thead th {\n",
       "        text-align: right;\n",
       "    }\n",
       "</style>\n",
       "<table border=\"1\" class=\"dataframe\">\n",
       "  <thead>\n",
       "    <tr style=\"text-align: right;\">\n",
       "      <th></th>\n",
       "      <th>gene_name</th>\n",
       "      <th>tissue</th>\n",
       "      <th>n_tissues</th>\n",
       "      <th>n_snps_used_sum</th>\n",
       "      <th>n_snps_in_model_sum</th>\n",
       "    </tr>\n",
       "    <tr>\n",
       "      <th>gene_id</th>\n",
       "      <th></th>\n",
       "      <th></th>\n",
       "      <th></th>\n",
       "      <th></th>\n",
       "      <th></th>\n",
       "    </tr>\n",
       "  </thead>\n",
       "  <tbody>\n",
       "    <tr>\n",
       "      <th>ENSG00000000419</th>\n",
       "      <td>DPM1</td>\n",
       "      <td>(Brain_Hypothalamus, Brain_Substantia_nigra)</td>\n",
       "      <td>2</td>\n",
       "      <td>2</td>\n",
       "      <td>2</td>\n",
       "    </tr>\n",
       "    <tr>\n",
       "      <th>ENSG00000000938</th>\n",
       "      <td>FGR</td>\n",
       "      <td>(Brain_Frontal_Cortex_BA9, Brain_Cerebellar_He...</td>\n",
       "      <td>36</td>\n",
       "      <td>40</td>\n",
       "      <td>40</td>\n",
       "    </tr>\n",
       "    <tr>\n",
       "      <th>ENSG00000000971</th>\n",
       "      <td>CFH</td>\n",
       "      <td>(Brain_Frontal_Cortex_BA9, Brain_Cerebellar_He...</td>\n",
       "      <td>34</td>\n",
       "      <td>44</td>\n",
       "      <td>44</td>\n",
       "    </tr>\n",
       "    <tr>\n",
       "      <th>ENSG00000001084</th>\n",
       "      <td>GCLC</td>\n",
       "      <td>(Brain_Frontal_Cortex_BA9, Brain_Cerebellar_He...</td>\n",
       "      <td>32</td>\n",
       "      <td>46</td>\n",
       "      <td>46</td>\n",
       "    </tr>\n",
       "    <tr>\n",
       "      <th>ENSG00000001167</th>\n",
       "      <td>NFYA</td>\n",
       "      <td>(Brain_Cerebellar_Hemisphere, Skin_Not_Sun_Exp...</td>\n",
       "      <td>40</td>\n",
       "      <td>47</td>\n",
       "      <td>48</td>\n",
       "    </tr>\n",
       "  </tbody>\n",
       "</table>\n",
       "</div>"
      ],
      "text/plain": [
       "                gene_name                                             tissue  \\\n",
       "gene_id                                                                        \n",
       "ENSG00000000419      DPM1       (Brain_Hypothalamus, Brain_Substantia_nigra)   \n",
       "ENSG00000000938       FGR  (Brain_Frontal_Cortex_BA9, Brain_Cerebellar_He...   \n",
       "ENSG00000000971       CFH  (Brain_Frontal_Cortex_BA9, Brain_Cerebellar_He...   \n",
       "ENSG00000001084      GCLC  (Brain_Frontal_Cortex_BA9, Brain_Cerebellar_He...   \n",
       "ENSG00000001167      NFYA  (Brain_Cerebellar_Hemisphere, Skin_Not_Sun_Exp...   \n",
       "\n",
       "                 n_tissues  n_snps_used_sum  n_snps_in_model_sum  \n",
       "gene_id                                                           \n",
       "ENSG00000000419          2                2                    2  \n",
       "ENSG00000000938         36               40                   40  \n",
       "ENSG00000000971         34               44                   44  \n",
       "ENSG00000001084         32               46                   46  \n",
       "ENSG00000001167         40               47                   48  "
      ]
     },
     "execution_count": 17,
     "metadata": {},
     "output_type": "execute_result"
    }
   ],
   "source": [
    "spredixcan_genes_models.head()"
   ]
  },
  {
   "cell_type": "code",
   "execution_count": 18,
   "id": "d1c11bb1-be0b-4f40-b360-633d6827109f",
   "metadata": {
    "execution": {
     "iopub.execute_input": "2022-12-15T17:49:30.939518Z",
     "iopub.status.busy": "2022-12-15T17:49:30.939131Z",
     "iopub.status.idle": "2022-12-15T17:49:30.965322Z",
     "shell.execute_reply": "2022-12-15T17:49:30.964627Z"
    },
    "papermill": {
     "duration": 0.035745,
     "end_time": "2022-12-15T17:49:30.966598",
     "exception": false,
     "start_time": "2022-12-15T17:49:30.930853",
     "status": "completed"
    },
    "tags": []
   },
   "outputs": [],
   "source": [
    "assert spredixcan_genes_models.index.is_unique"
   ]
  },
  {
   "cell_type": "markdown",
   "id": "a5b5092c-a13e-47c4-a92a-480fcc08f3ae",
   "metadata": {
    "papermill": {
     "duration": 0.005447,
     "end_time": "2022-12-15T17:49:30.977375",
     "exception": false,
     "start_time": "2022-12-15T17:49:30.971928",
     "status": "completed"
    },
    "tags": []
   },
   "source": [
    "## Gene info"
   ]
  },
  {
   "cell_type": "code",
   "execution_count": 19,
   "id": "7d6bb224-88e9-4358-ac10-43a41d92cdad",
   "metadata": {
    "execution": {
     "iopub.execute_input": "2022-12-15T17:49:30.994460Z",
     "iopub.status.busy": "2022-12-15T17:49:30.994068Z",
     "iopub.status.idle": "2022-12-15T17:49:31.026867Z",
     "shell.execute_reply": "2022-12-15T17:49:31.026280Z"
    },
    "papermill": {
     "duration": 0.042803,
     "end_time": "2022-12-15T17:49:31.028097",
     "exception": false,
     "start_time": "2022-12-15T17:49:30.985294",
     "status": "completed"
    },
    "tags": []
   },
   "outputs": [],
   "source": [
    "genes_info = pd.read_pickle(OUTPUT_DIR_BASE / \"genes_info.pkl\")"
   ]
  },
  {
   "cell_type": "code",
   "execution_count": 20,
   "id": "9e32abfa-546d-483e-8c18-d526e9e05903",
   "metadata": {
    "execution": {
     "iopub.execute_input": "2022-12-15T17:49:31.040294Z",
     "iopub.status.busy": "2022-12-15T17:49:31.039782Z",
     "iopub.status.idle": "2022-12-15T17:49:31.070640Z",
     "shell.execute_reply": "2022-12-15T17:49:31.069946Z"
    },
    "papermill": {
     "duration": 0.03802,
     "end_time": "2022-12-15T17:49:31.071709",
     "exception": false,
     "start_time": "2022-12-15T17:49:31.033689",
     "status": "completed"
    },
    "tags": []
   },
   "outputs": [
    {
     "data": {
      "text/plain": [
       "(6443, 7)"
      ]
     },
     "execution_count": 20,
     "metadata": {},
     "output_type": "execute_result"
    }
   ],
   "source": [
    "genes_info.shape"
   ]
  },
  {
   "cell_type": "code",
   "execution_count": 21,
   "id": "d16c3e92-85ec-468a-9a56-e25a9774a1cb",
   "metadata": {
    "execution": {
     "iopub.execute_input": "2022-12-15T17:49:31.088175Z",
     "iopub.status.busy": "2022-12-15T17:49:31.087608Z",
     "iopub.status.idle": "2022-12-15T17:49:31.131974Z",
     "shell.execute_reply": "2022-12-15T17:49:31.131603Z"
    },
    "papermill": {
     "duration": 0.054573,
     "end_time": "2022-12-15T17:49:31.132826",
     "exception": false,
     "start_time": "2022-12-15T17:49:31.078253",
     "status": "completed"
    },
    "tags": []
   },
   "outputs": [
    {
     "data": {
      "text/html": [
       "<div>\n",
       "<style scoped>\n",
       "    .dataframe tbody tr th:only-of-type {\n",
       "        vertical-align: middle;\n",
       "    }\n",
       "\n",
       "    .dataframe tbody tr th {\n",
       "        vertical-align: top;\n",
       "    }\n",
       "\n",
       "    .dataframe thead th {\n",
       "        text-align: right;\n",
       "    }\n",
       "</style>\n",
       "<table border=\"1\" class=\"dataframe\">\n",
       "  <thead>\n",
       "    <tr style=\"text-align: right;\">\n",
       "      <th></th>\n",
       "      <th>name</th>\n",
       "      <th>id</th>\n",
       "      <th>chr</th>\n",
       "      <th>band</th>\n",
       "      <th>start_position</th>\n",
       "      <th>end_position</th>\n",
       "      <th>gene_length</th>\n",
       "    </tr>\n",
       "  </thead>\n",
       "  <tbody>\n",
       "    <tr>\n",
       "      <th>0</th>\n",
       "      <td>PSMB9</td>\n",
       "      <td>ENSG00000240065</td>\n",
       "      <td>6</td>\n",
       "      <td>6p21.32</td>\n",
       "      <td>32844136</td>\n",
       "      <td>32859851</td>\n",
       "      <td>15715</td>\n",
       "    </tr>\n",
       "    <tr>\n",
       "      <th>1</th>\n",
       "      <td>EEF1D</td>\n",
       "      <td>ENSG00000104529</td>\n",
       "      <td>8</td>\n",
       "      <td>8q24.3</td>\n",
       "      <td>143579697</td>\n",
       "      <td>143599541</td>\n",
       "      <td>19844</td>\n",
       "    </tr>\n",
       "    <tr>\n",
       "      <th>2</th>\n",
       "      <td>NFKBIL1</td>\n",
       "      <td>ENSG00000204498</td>\n",
       "      <td>6</td>\n",
       "      <td>6p21.33</td>\n",
       "      <td>31546870</td>\n",
       "      <td>31558829</td>\n",
       "      <td>11959</td>\n",
       "    </tr>\n",
       "    <tr>\n",
       "      <th>3</th>\n",
       "      <td>SGSH</td>\n",
       "      <td>ENSG00000181523</td>\n",
       "      <td>17</td>\n",
       "      <td>17q25.3</td>\n",
       "      <td>80206716</td>\n",
       "      <td>80220923</td>\n",
       "      <td>14207</td>\n",
       "    </tr>\n",
       "    <tr>\n",
       "      <th>4</th>\n",
       "      <td>KLF6</td>\n",
       "      <td>ENSG00000067082</td>\n",
       "      <td>10</td>\n",
       "      <td>10p15.2</td>\n",
       "      <td>3775996</td>\n",
       "      <td>3785281</td>\n",
       "      <td>9285</td>\n",
       "    </tr>\n",
       "  </tbody>\n",
       "</table>\n",
       "</div>"
      ],
      "text/plain": [
       "      name               id  chr     band  start_position  end_position  \\\n",
       "0    PSMB9  ENSG00000240065    6  6p21.32        32844136      32859851   \n",
       "1    EEF1D  ENSG00000104529    8   8q24.3       143579697     143599541   \n",
       "2  NFKBIL1  ENSG00000204498    6  6p21.33        31546870      31558829   \n",
       "3     SGSH  ENSG00000181523   17  17q25.3        80206716      80220923   \n",
       "4     KLF6  ENSG00000067082   10  10p15.2         3775996       3785281   \n",
       "\n",
       "   gene_length  \n",
       "0        15715  \n",
       "1        19844  \n",
       "2        11959  \n",
       "3        14207  \n",
       "4         9285  "
      ]
     },
     "execution_count": 21,
     "metadata": {},
     "output_type": "execute_result"
    }
   ],
   "source": [
    "genes_info.head()"
   ]
  },
  {
   "cell_type": "markdown",
   "id": "d3843e06",
   "metadata": {
    "papermill": {
     "duration": 0.008329,
     "end_time": "2022-12-15T17:49:31.148665",
     "exception": false,
     "start_time": "2022-12-15T17:49:31.140336",
     "status": "completed"
    },
    "tags": []
   },
   "source": [
    "# Compute correlations"
   ]
  },
  {
   "cell_type": "code",
   "execution_count": 22,
   "id": "cb859c15-d1f3-4006-a74c-2b83c0db9611",
   "metadata": {
    "execution": {
     "iopub.execute_input": "2022-12-15T17:49:31.166354Z",
     "iopub.status.busy": "2022-12-15T17:49:31.166047Z",
     "iopub.status.idle": "2022-12-15T17:49:31.191162Z",
     "shell.execute_reply": "2022-12-15T17:49:31.190794Z"
    },
    "papermill": {
     "duration": 0.03527,
     "end_time": "2022-12-15T17:49:31.192359",
     "exception": false,
     "start_time": "2022-12-15T17:49:31.157089",
     "status": "completed"
    },
    "tags": []
   },
   "outputs": [
    {
     "data": {
      "text/plain": [
       "PosixPath('/opt/data/projects/asthma-copd/results/gls_phenoplier/gene_corrs/asthma_only/by_chr/gene_corrs-chr20.pkl')"
      ]
     },
     "metadata": {},
     "output_type": "display_data"
    }
   ],
   "source": [
    "output_dir = OUTPUT_DIR_BASE / \"by_chr\"\n",
    "output_dir.mkdir(exist_ok=True, parents=True)\n",
    "output_file = output_dir / f\"gene_corrs-chr{CHROMOSOME}.pkl\"\n",
    "display(output_file)"
   ]
  },
  {
   "cell_type": "code",
   "execution_count": 23,
   "id": "aa674fe4-6794-4eed-98fa-32b39d1d4ace",
   "metadata": {
    "execution": {
     "iopub.execute_input": "2022-12-15T17:49:31.210163Z",
     "iopub.status.busy": "2022-12-15T17:49:31.209697Z",
     "iopub.status.idle": "2022-12-15T17:49:31.245111Z",
     "shell.execute_reply": "2022-12-15T17:49:31.244447Z"
    },
    "papermill": {
     "duration": 0.045088,
     "end_time": "2022-12-15T17:49:31.246724",
     "exception": false,
     "start_time": "2022-12-15T17:49:31.201636",
     "status": "completed"
    },
    "tags": []
   },
   "outputs": [],
   "source": [
    "warnings.filterwarnings(\"error\")"
   ]
  },
  {
   "cell_type": "code",
   "execution_count": 24,
   "id": "44d5450b-3baf-43f1-9e2e-4b06f1a785f8",
   "metadata": {
    "execution": {
     "iopub.execute_input": "2022-12-15T17:49:31.263760Z",
     "iopub.status.busy": "2022-12-15T17:49:31.263001Z",
     "iopub.status.idle": "2022-12-15T17:49:31.284013Z",
     "shell.execute_reply": "2022-12-15T17:49:31.283478Z"
    },
    "papermill": {
     "duration": 0.029107,
     "end_time": "2022-12-15T17:49:31.285202",
     "exception": false,
     "start_time": "2022-12-15T17:49:31.256095",
     "status": "completed"
    },
    "tags": []
   },
   "outputs": [],
   "source": [
    "# standard checks\n",
    "all_chrs = genes_info[\"chr\"].dropna().unique()\n",
    "assert all_chrs.shape[0] == 22\n",
    "\n",
    "# select chromosome given by the user\n",
    "assert CHROMOSOME in all_chrs"
   ]
  },
  {
   "cell_type": "code",
   "execution_count": 25,
   "id": "2d7c043c-92a7-4d35-991b-fa69ac1e0268",
   "metadata": {
    "execution": {
     "iopub.execute_input": "2022-12-15T17:49:31.299691Z",
     "iopub.status.busy": "2022-12-15T17:49:31.298944Z",
     "iopub.status.idle": "2022-12-15T17:49:31.333069Z",
     "shell.execute_reply": "2022-12-15T17:49:31.332384Z"
    },
    "papermill": {
     "duration": 0.043518,
     "end_time": "2022-12-15T17:49:31.335206",
     "exception": false,
     "start_time": "2022-12-15T17:49:31.291688",
     "status": "completed"
    },
    "tags": []
   },
   "outputs": [
    {
     "name": "stdout",
     "output_type": "stream",
     "text": [
      "Number of genes in chromosome: 187\n"
     ]
    }
   ],
   "source": [
    "# run only on the chromosome specified\n",
    "all_chrs = [CHROMOSOME]\n",
    "genes_chr = genes_info[genes_info[\"chr\"] == CHROMOSOME]\n",
    "\n",
    "# For testing purposes\n",
    "# genes_chr = genes_chr.sample(n=20)\n",
    "\n",
    "print(f\"Number of genes in chromosome: {genes_chr.shape[0]}\", flush=True)"
   ]
  },
  {
   "cell_type": "code",
   "execution_count": 26,
   "id": "916015d8-2979-46d3-a9b9-1cf5a0932c6a",
   "metadata": {
    "execution": {
     "iopub.execute_input": "2022-12-15T17:49:31.369992Z",
     "iopub.status.busy": "2022-12-15T17:49:31.369406Z",
     "iopub.status.idle": "2022-12-15T17:49:31.399644Z",
     "shell.execute_reply": "2022-12-15T17:49:31.398822Z"
    },
    "papermill": {
     "duration": 0.050263,
     "end_time": "2022-12-15T17:49:31.402162",
     "exception": false,
     "start_time": "2022-12-15T17:49:31.351899",
     "status": "completed"
    },
    "tags": []
   },
   "outputs": [],
   "source": [
    "# sort genes by starting position to make visualizations better later\n",
    "genes_chr = genes_chr.sort_values(\"start_position\")"
   ]
  },
  {
   "cell_type": "code",
   "execution_count": 27,
   "id": "a38aa74a-8ad3-47f6-8ef9-56be0e011774",
   "metadata": {
    "execution": {
     "iopub.execute_input": "2022-12-15T17:49:31.431335Z",
     "iopub.status.busy": "2022-12-15T17:49:31.430827Z",
     "iopub.status.idle": "2022-12-15T17:49:31.456695Z",
     "shell.execute_reply": "2022-12-15T17:49:31.455939Z"
    },
    "papermill": {
     "duration": 0.039221,
     "end_time": "2022-12-15T17:49:31.458003",
     "exception": false,
     "start_time": "2022-12-15T17:49:31.418782",
     "status": "completed"
    },
    "tags": []
   },
   "outputs": [],
   "source": [
    "gene_chr_objs = [Gene(ensembl_id=gene_id) for gene_id in genes_chr[\"id\"]]"
   ]
  },
  {
   "cell_type": "code",
   "execution_count": 28,
   "id": "570f974f-13c3-42b6-ad3a-ce99ca885c1a",
   "metadata": {
    "execution": {
     "iopub.execute_input": "2022-12-15T17:49:31.471519Z",
     "iopub.status.busy": "2022-12-15T17:49:31.471052Z",
     "iopub.status.idle": "2022-12-15T17:49:31.498252Z",
     "shell.execute_reply": "2022-12-15T17:49:31.497378Z"
    },
    "papermill": {
     "duration": 0.034639,
     "end_time": "2022-12-15T17:49:31.499317",
     "exception": false,
     "start_time": "2022-12-15T17:49:31.464678",
     "status": "completed"
    },
    "tags": []
   },
   "outputs": [
    {
     "name": "stdout",
     "output_type": "stream",
     "text": [
      "Number of gene combinations: 17578\n"
     ]
    }
   ],
   "source": [
    "n = len(gene_chr_objs)\n",
    "# diagonal elements + upper triangular matrix\n",
    "n_comb = n + int(n * (n - 1) / 2.0)\n",
    "print(f\"Number of gene combinations: {n_comb}\", flush=True)"
   ]
  },
  {
   "cell_type": "code",
   "execution_count": 29,
   "id": "cdbb90a1",
   "metadata": {
    "execution": {
     "iopub.execute_input": "2022-12-15T17:49:31.517338Z",
     "iopub.status.busy": "2022-12-15T17:49:31.516829Z",
     "iopub.status.idle": "2022-12-15T17:53:10.738694Z",
     "shell.execute_reply": "2022-12-15T17:53:10.738262Z"
    },
    "papermill": {
     "duration": 219.234317,
     "end_time": "2022-12-15T17:53:10.739720",
     "exception": false,
     "start_time": "2022-12-15T17:49:31.505403",
     "status": "completed"
    },
    "tags": []
   },
   "outputs": [
    {
     "name": "stderr",
     "output_type": "stream",
     "text": [
      "ENSG00000125510 / ENSG00000125510: 100%|██████████████████████| 17578/17578 [03:39<00:00, 80.20it/s]\n"
     ]
    },
    {
     "data": {
      "text/plain": [
       "PosixPath('/opt/data/projects/asthma-copd/results/gls_phenoplier/gene_corrs/asthma_only/by_chr/gene_corrs-chr20.pkl')"
      ]
     },
     "metadata": {},
     "output_type": "display_data"
    }
   ],
   "source": [
    "gene_corrs = []\n",
    "gene_corrs_data = np.full(\n",
    "    (n, n),\n",
    "    np.nan,\n",
    "    dtype=np.float64,\n",
    ")\n",
    "\n",
    "i = 0\n",
    "with tqdm(ncols=100, total=n_comb) as pbar:\n",
    "    for gene1_idx in range(0, len(gene_chr_objs)):\n",
    "        gene1_obj = gene_chr_objs[gene1_idx]\n",
    "        gene1_tissues = spredixcan_genes_models.loc[gene1_obj.ensembl_id, \"tissue\"]\n",
    "\n",
    "        for gene2_idx in range(gene1_idx, len(gene_chr_objs)):\n",
    "            gene2_obj = gene_chr_objs[gene2_idx]\n",
    "            gene2_tissues = spredixcan_genes_models.loc[gene2_obj.ensembl_id, \"tissue\"]\n",
    "\n",
    "            pbar.set_description(f\"{gene1_obj.ensembl_id} / {gene2_obj.ensembl_id}\")\n",
    "\n",
    "            try:\n",
    "                r = gene1_obj.get_ssm_correlation(\n",
    "                    other_gene=gene2_obj,\n",
    "                    tissues=gene1_tissues,\n",
    "                    other_tissues=gene2_tissues,\n",
    "                    snps_subset=gwas_variants_ids_set,\n",
    "                    condition_number=SMULTIXCAN_CONDITION_NUMBER,\n",
    "                    reference_panel=REFERENCE_PANEL,\n",
    "                    model_type=EQTL_MODEL,\n",
    "                    use_within_distance=COMPUTE_CORRELATIONS_WITHIN_DISTANCE,\n",
    "                )\n",
    "\n",
    "                if r is None:\n",
    "                    # if r is None, it's very likely because:\n",
    "                    #  * one of the genes has no prediction models\n",
    "                    #  * all the SNPs predictors for the gene are not present in the reference\n",
    "                    #    panel\n",
    "\n",
    "                    r = 0.0\n",
    "\n",
    "                gene_corrs.append(r)\n",
    "\n",
    "                gene_corrs_data[gene1_idx, gene2_idx] = r\n",
    "                gene_corrs_data[gene2_idx, gene1_idx] = r\n",
    "            except Warning as e:\n",
    "                if not DEBUG_MODE:\n",
    "                    raise e\n",
    "\n",
    "                print(\n",
    "                    f\"RuntimeWarning for genes {gene1_obj.ensembl_id} and {gene2_obj.ensembl_id}\",\n",
    "                    flush=True,\n",
    "                )\n",
    "                print(traceback.format_exc(), flush=True)\n",
    "\n",
    "                gene_corrs.append(np.nan)\n",
    "            except Exception as e:\n",
    "                if not DEBUG_MODE:\n",
    "                    raise e\n",
    "\n",
    "                print(\n",
    "                    f\"Exception for genes {gene1_obj.ensembl_id} and {gene2_obj.ensembl_id}\",\n",
    "                    flush=True,\n",
    "                )\n",
    "                print(traceback.format_exc(), flush=True)\n",
    "\n",
    "                gene_corrs.append(np.nan)\n",
    "\n",
    "            pbar.update(1)\n",
    "\n",
    "# create a pandas series\n",
    "gene_corrs_flat = pd.Series(gene_corrs)\n",
    "\n",
    "# save\n",
    "# FIXME: consider saving only the condenced matrix here. See here for\n",
    "# more details: https://github.com/greenelab/phenoplier/pull/38#discussion_r634600813\n",
    "# gene_corrs_data = squareform(np.array(gene_corrs, dtype=np.float64))\n",
    "# np.fill_diagonal(gene_corrs_data, 1.0)\n",
    "\n",
    "gene_chr_ids = [g.ensembl_id for g in gene_chr_objs]\n",
    "gene_corrs_df = pd.DataFrame(\n",
    "    data=gene_corrs_data,\n",
    "    index=gene_chr_ids,\n",
    "    columns=gene_chr_ids,\n",
    ")\n",
    "\n",
    "output_dir.mkdir(exist_ok=True, parents=True)\n",
    "display(output_file)\n",
    "\n",
    "gene_corrs_df.to_pickle(output_file)"
   ]
  },
  {
   "cell_type": "markdown",
   "id": "faa67b51-5373-470f-aa72-2ded53fa6dfe",
   "metadata": {
    "papermill": {
     "duration": 0.714441,
     "end_time": "2022-12-15T17:53:12.054180",
     "exception": false,
     "start_time": "2022-12-15T17:53:11.339739",
     "status": "completed"
    },
    "tags": []
   },
   "source": [
    "# Testing"
   ]
  },
  {
   "cell_type": "code",
   "execution_count": 30,
   "id": "14f7d046-4b55-4896-a56b-990127bcc388",
   "metadata": {
    "execution": {
     "iopub.execute_input": "2022-12-15T17:53:13.209102Z",
     "iopub.status.busy": "2022-12-15T17:53:13.208772Z",
     "iopub.status.idle": "2022-12-15T17:53:13.230153Z",
     "shell.execute_reply": "2022-12-15T17:53:13.229716Z"
    },
    "papermill": {
     "duration": 0.570627,
     "end_time": "2022-12-15T17:53:13.231122",
     "exception": false,
     "start_time": "2022-12-15T17:53:12.660495",
     "status": "completed"
    },
    "tags": []
   },
   "outputs": [
    {
     "data": {
      "text/plain": [
       "(187, 187)"
      ]
     },
     "execution_count": 30,
     "metadata": {},
     "output_type": "execute_result"
    }
   ],
   "source": [
    "gene_corrs_df.shape"
   ]
  },
  {
   "cell_type": "code",
   "execution_count": 31,
   "id": "c7d15414-3297-4537-a7c6-7588c0baeb75",
   "metadata": {
    "execution": {
     "iopub.execute_input": "2022-12-15T17:53:14.427765Z",
     "iopub.status.busy": "2022-12-15T17:53:14.427412Z",
     "iopub.status.idle": "2022-12-15T17:53:14.454397Z",
     "shell.execute_reply": "2022-12-15T17:53:14.453893Z"
    },
    "papermill": {
     "duration": 0.634072,
     "end_time": "2022-12-15T17:53:14.455382",
     "exception": false,
     "start_time": "2022-12-15T17:53:13.821310",
     "status": "completed"
    },
    "tags": []
   },
   "outputs": [
    {
     "data": {
      "text/html": [
       "<div>\n",
       "<style scoped>\n",
       "    .dataframe tbody tr th:only-of-type {\n",
       "        vertical-align: middle;\n",
       "    }\n",
       "\n",
       "    .dataframe tbody tr th {\n",
       "        vertical-align: top;\n",
       "    }\n",
       "\n",
       "    .dataframe thead th {\n",
       "        text-align: right;\n",
       "    }\n",
       "</style>\n",
       "<table border=\"1\" class=\"dataframe\">\n",
       "  <thead>\n",
       "    <tr style=\"text-align: right;\">\n",
       "      <th></th>\n",
       "      <th>ENSG00000101255</th>\n",
       "      <th>ENSG00000125826</th>\n",
       "      <th>ENSG00000101266</th>\n",
       "      <th>ENSG00000101280</th>\n",
       "      <th>ENSG00000125818</th>\n",
       "      <th>ENSG00000101298</th>\n",
       "      <th>ENSG00000088832</th>\n",
       "      <th>ENSG00000101307</th>\n",
       "      <th>ENSG00000089012</th>\n",
       "      <th>ENSG00000198053</th>\n",
       "      <th>...</th>\n",
       "      <th>ENSG00000092758</th>\n",
       "      <th>ENSG00000101191</th>\n",
       "      <th>ENSG00000101199</th>\n",
       "      <th>ENSG00000243509</th>\n",
       "      <th>ENSG00000203896</th>\n",
       "      <th>ENSG00000101152</th>\n",
       "      <th>ENSG00000198276</th>\n",
       "      <th>ENSG00000101161</th>\n",
       "      <th>ENSG00000171700</th>\n",
       "      <th>ENSG00000125510</th>\n",
       "    </tr>\n",
       "  </thead>\n",
       "  <tbody>\n",
       "    <tr>\n",
       "      <th>ENSG00000101255</th>\n",
       "      <td>1.000000</td>\n",
       "      <td>0.053367</td>\n",
       "      <td>0.033988</td>\n",
       "      <td>0.006994</td>\n",
       "      <td>0.003729</td>\n",
       "      <td>0.007813</td>\n",
       "      <td>0.005031</td>\n",
       "      <td>0.000833</td>\n",
       "      <td>0.006536</td>\n",
       "      <td>0.009378</td>\n",
       "      <td>...</td>\n",
       "      <td>0.0</td>\n",
       "      <td>0.0</td>\n",
       "      <td>0.0</td>\n",
       "      <td>0.0</td>\n",
       "      <td>0.0</td>\n",
       "      <td>0.0</td>\n",
       "      <td>0.0</td>\n",
       "      <td>0.0</td>\n",
       "      <td>0.0</td>\n",
       "      <td>0.0</td>\n",
       "    </tr>\n",
       "    <tr>\n",
       "      <th>ENSG00000125826</th>\n",
       "      <td>0.053367</td>\n",
       "      <td>1.000000</td>\n",
       "      <td>0.087187</td>\n",
       "      <td>0.010155</td>\n",
       "      <td>0.001163</td>\n",
       "      <td>0.009675</td>\n",
       "      <td>0.011102</td>\n",
       "      <td>0.005046</td>\n",
       "      <td>0.004238</td>\n",
       "      <td>0.008991</td>\n",
       "      <td>...</td>\n",
       "      <td>0.0</td>\n",
       "      <td>0.0</td>\n",
       "      <td>0.0</td>\n",
       "      <td>0.0</td>\n",
       "      <td>0.0</td>\n",
       "      <td>0.0</td>\n",
       "      <td>0.0</td>\n",
       "      <td>0.0</td>\n",
       "      <td>0.0</td>\n",
       "      <td>0.0</td>\n",
       "    </tr>\n",
       "    <tr>\n",
       "      <th>ENSG00000101266</th>\n",
       "      <td>0.033988</td>\n",
       "      <td>0.087187</td>\n",
       "      <td>1.000000</td>\n",
       "      <td>0.012261</td>\n",
       "      <td>0.007783</td>\n",
       "      <td>0.008056</td>\n",
       "      <td>0.004488</td>\n",
       "      <td>0.003919</td>\n",
       "      <td>0.006252</td>\n",
       "      <td>0.009082</td>\n",
       "      <td>...</td>\n",
       "      <td>0.0</td>\n",
       "      <td>0.0</td>\n",
       "      <td>0.0</td>\n",
       "      <td>0.0</td>\n",
       "      <td>0.0</td>\n",
       "      <td>0.0</td>\n",
       "      <td>0.0</td>\n",
       "      <td>0.0</td>\n",
       "      <td>0.0</td>\n",
       "      <td>0.0</td>\n",
       "    </tr>\n",
       "    <tr>\n",
       "      <th>ENSG00000101280</th>\n",
       "      <td>0.006994</td>\n",
       "      <td>0.010155</td>\n",
       "      <td>0.012261</td>\n",
       "      <td>1.000000</td>\n",
       "      <td>0.002421</td>\n",
       "      <td>0.013497</td>\n",
       "      <td>0.010529</td>\n",
       "      <td>0.006470</td>\n",
       "      <td>0.007813</td>\n",
       "      <td>0.009474</td>\n",
       "      <td>...</td>\n",
       "      <td>0.0</td>\n",
       "      <td>0.0</td>\n",
       "      <td>0.0</td>\n",
       "      <td>0.0</td>\n",
       "      <td>0.0</td>\n",
       "      <td>0.0</td>\n",
       "      <td>0.0</td>\n",
       "      <td>0.0</td>\n",
       "      <td>0.0</td>\n",
       "      <td>0.0</td>\n",
       "    </tr>\n",
       "    <tr>\n",
       "      <th>ENSG00000125818</th>\n",
       "      <td>0.003729</td>\n",
       "      <td>0.001163</td>\n",
       "      <td>0.007783</td>\n",
       "      <td>0.002421</td>\n",
       "      <td>1.000000</td>\n",
       "      <td>0.009362</td>\n",
       "      <td>0.014513</td>\n",
       "      <td>0.000619</td>\n",
       "      <td>0.005530</td>\n",
       "      <td>0.003788</td>\n",
       "      <td>...</td>\n",
       "      <td>0.0</td>\n",
       "      <td>0.0</td>\n",
       "      <td>0.0</td>\n",
       "      <td>0.0</td>\n",
       "      <td>0.0</td>\n",
       "      <td>0.0</td>\n",
       "      <td>0.0</td>\n",
       "      <td>0.0</td>\n",
       "      <td>0.0</td>\n",
       "      <td>0.0</td>\n",
       "    </tr>\n",
       "  </tbody>\n",
       "</table>\n",
       "<p>5 rows × 187 columns</p>\n",
       "</div>"
      ],
      "text/plain": [
       "                 ENSG00000101255  ENSG00000125826  ENSG00000101266  \\\n",
       "ENSG00000101255         1.000000         0.053367         0.033988   \n",
       "ENSG00000125826         0.053367         1.000000         0.087187   \n",
       "ENSG00000101266         0.033988         0.087187         1.000000   \n",
       "ENSG00000101280         0.006994         0.010155         0.012261   \n",
       "ENSG00000125818         0.003729         0.001163         0.007783   \n",
       "\n",
       "                 ENSG00000101280  ENSG00000125818  ENSG00000101298  \\\n",
       "ENSG00000101255         0.006994         0.003729         0.007813   \n",
       "ENSG00000125826         0.010155         0.001163         0.009675   \n",
       "ENSG00000101266         0.012261         0.007783         0.008056   \n",
       "ENSG00000101280         1.000000         0.002421         0.013497   \n",
       "ENSG00000125818         0.002421         1.000000         0.009362   \n",
       "\n",
       "                 ENSG00000088832  ENSG00000101307  ENSG00000089012  \\\n",
       "ENSG00000101255         0.005031         0.000833         0.006536   \n",
       "ENSG00000125826         0.011102         0.005046         0.004238   \n",
       "ENSG00000101266         0.004488         0.003919         0.006252   \n",
       "ENSG00000101280         0.010529         0.006470         0.007813   \n",
       "ENSG00000125818         0.014513         0.000619         0.005530   \n",
       "\n",
       "                 ENSG00000198053  ...  ENSG00000092758  ENSG00000101191  \\\n",
       "ENSG00000101255         0.009378  ...              0.0              0.0   \n",
       "ENSG00000125826         0.008991  ...              0.0              0.0   \n",
       "ENSG00000101266         0.009082  ...              0.0              0.0   \n",
       "ENSG00000101280         0.009474  ...              0.0              0.0   \n",
       "ENSG00000125818         0.003788  ...              0.0              0.0   \n",
       "\n",
       "                 ENSG00000101199  ENSG00000243509  ENSG00000203896  \\\n",
       "ENSG00000101255              0.0              0.0              0.0   \n",
       "ENSG00000125826              0.0              0.0              0.0   \n",
       "ENSG00000101266              0.0              0.0              0.0   \n",
       "ENSG00000101280              0.0              0.0              0.0   \n",
       "ENSG00000125818              0.0              0.0              0.0   \n",
       "\n",
       "                 ENSG00000101152  ENSG00000198276  ENSG00000101161  \\\n",
       "ENSG00000101255              0.0              0.0              0.0   \n",
       "ENSG00000125826              0.0              0.0              0.0   \n",
       "ENSG00000101266              0.0              0.0              0.0   \n",
       "ENSG00000101280              0.0              0.0              0.0   \n",
       "ENSG00000125818              0.0              0.0              0.0   \n",
       "\n",
       "                 ENSG00000171700  ENSG00000125510  \n",
       "ENSG00000101255              0.0              0.0  \n",
       "ENSG00000125826              0.0              0.0  \n",
       "ENSG00000101266              0.0              0.0  \n",
       "ENSG00000101280              0.0              0.0  \n",
       "ENSG00000125818              0.0              0.0  \n",
       "\n",
       "[5 rows x 187 columns]"
      ]
     },
     "execution_count": 31,
     "metadata": {},
     "output_type": "execute_result"
    }
   ],
   "source": [
    "gene_corrs_df.head()"
   ]
  },
  {
   "cell_type": "markdown",
   "id": "dad6603f-01c6-41fb-a6f6-241051207dd8",
   "metadata": {
    "papermill": {
     "duration": 0.746575,
     "end_time": "2022-12-15T17:53:16.041989",
     "exception": false,
     "start_time": "2022-12-15T17:53:15.295414",
     "status": "completed"
    },
    "tags": []
   },
   "source": [
    "## Standard checks and stats"
   ]
  },
  {
   "cell_type": "code",
   "execution_count": 32,
   "id": "286686af-1b7b-4440-8453-6bdcbd8de19c",
   "metadata": {
    "execution": {
     "iopub.execute_input": "2022-12-15T17:53:17.225869Z",
     "iopub.status.busy": "2022-12-15T17:53:17.225573Z",
     "iopub.status.idle": "2022-12-15T17:53:17.246665Z",
     "shell.execute_reply": "2022-12-15T17:53:17.246217Z"
    },
    "papermill": {
     "duration": 0.625875,
     "end_time": "2022-12-15T17:53:17.247845",
     "exception": false,
     "start_time": "2022-12-15T17:53:16.621970",
     "status": "completed"
    },
    "tags": []
   },
   "outputs": [],
   "source": [
    "assert not gene_corrs_df.isna().any(axis=None)"
   ]
  },
  {
   "cell_type": "code",
   "execution_count": 33,
   "id": "00583efc-7068-4270-ad1e-4a418e91db96",
   "metadata": {
    "execution": {
     "iopub.execute_input": "2022-12-15T17:53:18.392158Z",
     "iopub.status.busy": "2022-12-15T17:53:18.391807Z",
     "iopub.status.idle": "2022-12-15T17:53:18.414028Z",
     "shell.execute_reply": "2022-12-15T17:53:18.413415Z"
    },
    "papermill": {
     "duration": 0.59697,
     "end_time": "2022-12-15T17:53:18.415468",
     "exception": false,
     "start_time": "2022-12-15T17:53:17.818498",
     "status": "completed"
    },
    "tags": []
   },
   "outputs": [
    {
     "data": {
      "text/plain": [
       "0.0"
      ]
     },
     "metadata": {},
     "output_type": "display_data"
    }
   ],
   "source": [
    "_min_val = gene_corrs_df.min().min()\n",
    "display(_min_val)\n",
    "assert _min_val >= -0.05"
   ]
  },
  {
   "cell_type": "code",
   "execution_count": 34,
   "id": "d04fb2cf-1050-475b-b855-f5f7cc04092b",
   "metadata": {
    "execution": {
     "iopub.execute_input": "2022-12-15T17:53:19.660562Z",
     "iopub.status.busy": "2022-12-15T17:53:19.660117Z",
     "iopub.status.idle": "2022-12-15T17:53:19.682805Z",
     "shell.execute_reply": "2022-12-15T17:53:19.682349Z"
    },
    "papermill": {
     "duration": 0.730911,
     "end_time": "2022-12-15T17:53:19.683642",
     "exception": false,
     "start_time": "2022-12-15T17:53:18.952731",
     "status": "completed"
    },
    "tags": []
   },
   "outputs": [
    {
     "data": {
      "text/plain": [
       "1.0000000000000027"
      ]
     },
     "metadata": {},
     "output_type": "display_data"
    }
   ],
   "source": [
    "_max_val = gene_corrs_df.max().max()  # this captures the diagonal\n",
    "display(_max_val)\n",
    "assert _max_val <= 1.05"
   ]
  },
  {
   "cell_type": "code",
   "execution_count": 35,
   "id": "fe283586-c348-40e0-8841-f6d97bfb021c",
   "metadata": {
    "execution": {
     "iopub.execute_input": "2022-12-15T17:53:20.819460Z",
     "iopub.status.busy": "2022-12-15T17:53:20.818757Z",
     "iopub.status.idle": "2022-12-15T17:53:20.851857Z",
     "shell.execute_reply": "2022-12-15T17:53:20.851380Z"
    },
    "papermill": {
     "duration": 0.608147,
     "end_time": "2022-12-15T17:53:20.852849",
     "exception": false,
     "start_time": "2022-12-15T17:53:20.244702",
     "status": "completed"
    },
    "tags": []
   },
   "outputs": [
    {
     "data": {
      "text/plain": [
       "count    17578.000000\n",
       "mean         0.015773\n",
       "std          0.109380\n",
       "min          0.000000\n",
       "25%          0.000000\n",
       "50%          0.000000\n",
       "75%          0.000000\n",
       "max          1.000000\n",
       "dtype: float64"
      ]
     },
     "execution_count": 35,
     "metadata": {},
     "output_type": "execute_result"
    }
   ],
   "source": [
    "gene_corrs_flat.describe()"
   ]
  },
  {
   "cell_type": "code",
   "execution_count": 36,
   "id": "b3815678-0f93-4b35-897b-a9d047a2aa78",
   "metadata": {
    "execution": {
     "iopub.execute_input": "2022-12-15T17:53:22.417562Z",
     "iopub.status.busy": "2022-12-15T17:53:22.416928Z",
     "iopub.status.idle": "2022-12-15T17:53:22.445005Z",
     "shell.execute_reply": "2022-12-15T17:53:22.444201Z"
    },
    "papermill": {
     "duration": 0.798638,
     "end_time": "2022-12-15T17:53:22.446008",
     "exception": false,
     "start_time": "2022-12-15T17:53:21.647370",
     "status": "completed"
    },
    "tags": []
   },
   "outputs": [
    {
     "data": {
      "text/plain": [
       "0.00    0.000000\n",
       "0.05    0.000000\n",
       "0.10    0.000000\n",
       "0.15    0.000000\n",
       "0.20    0.000000\n",
       "0.25    0.000000\n",
       "0.30    0.000000\n",
       "0.35    0.000000\n",
       "0.40    0.000000\n",
       "0.45    0.000000\n",
       "0.50    0.000000\n",
       "0.55    0.000000\n",
       "0.60    0.000000\n",
       "0.65    0.000000\n",
       "0.70    0.000000\n",
       "0.75    0.000000\n",
       "0.80    0.000000\n",
       "0.85    0.003691\n",
       "0.90    0.007084\n",
       "0.95    0.012357\n",
       "dtype: float64"
      ]
     },
     "metadata": {},
     "output_type": "display_data"
    }
   ],
   "source": [
    "gene_corrs_quantiles = gene_corrs_flat.quantile(np.arange(0, 1, 0.05))\n",
    "display(gene_corrs_quantiles)"
   ]
  },
  {
   "cell_type": "markdown",
   "id": "87134509-b145-4a10-8bc9-b7e914c2b0fa",
   "metadata": {
    "papermill": {
     "duration": 0.570231,
     "end_time": "2022-12-15T17:53:23.572497",
     "exception": false,
     "start_time": "2022-12-15T17:53:23.002266",
     "status": "completed"
    },
    "tags": []
   },
   "source": [
    "## Positive definiteness"
   ]
  },
  {
   "cell_type": "code",
   "execution_count": 37,
   "id": "07d9a9a1-a4f7-48aa-b916-6d42a8cc6186",
   "metadata": {
    "execution": {
     "iopub.execute_input": "2022-12-15T17:53:24.781049Z",
     "iopub.status.busy": "2022-12-15T17:53:24.780652Z",
     "iopub.status.idle": "2022-12-15T17:53:24.810700Z",
     "shell.execute_reply": "2022-12-15T17:53:24.810297Z"
    },
    "papermill": {
     "duration": 0.658622,
     "end_time": "2022-12-15T17:53:24.811609",
     "exception": false,
     "start_time": "2022-12-15T17:53:24.152987",
     "status": "completed"
    },
    "tags": []
   },
   "outputs": [
    {
     "data": {
      "text/plain": [
       "0"
      ]
     },
     "metadata": {},
     "output_type": "display_data"
    },
    {
     "data": {
      "text/plain": [
       "array([], dtype=float64)"
      ]
     },
     "metadata": {},
     "output_type": "display_data"
    }
   ],
   "source": [
    "# print negative eigenvalues\n",
    "eigs = np.linalg.eigvals(gene_corrs_df.to_numpy())\n",
    "display(len(eigs[eigs < 0]))\n",
    "display(eigs[eigs < 0])"
   ]
  },
  {
   "cell_type": "code",
   "execution_count": 38,
   "id": "6e218436-c3c5-4028-8c94-a4fa6260efce",
   "metadata": {
    "execution": {
     "iopub.execute_input": "2022-12-15T17:53:25.943220Z",
     "iopub.status.busy": "2022-12-15T17:53:25.942974Z",
     "iopub.status.idle": "2022-12-15T17:53:25.959609Z",
     "shell.execute_reply": "2022-12-15T17:53:25.959123Z"
    },
    "papermill": {
     "duration": 0.555618,
     "end_time": "2022-12-15T17:53:25.960555",
     "exception": false,
     "start_time": "2022-12-15T17:53:25.404937",
     "status": "completed"
    },
    "tags": []
   },
   "outputs": [
    {
     "name": "stdout",
     "output_type": "stream",
     "text": [
      "Works!\n"
     ]
    }
   ],
   "source": [
    "try:\n",
    "    chol_mat = np.linalg.cholesky(gene_corrs_df.to_numpy())\n",
    "    cov_inv = np.linalg.inv(chol_mat)\n",
    "    print(\"Works!\")\n",
    "except Exception as e:\n",
    "    print(f\"Cholesky decomposition failed: {str(e)}\")"
   ]
  },
  {
   "cell_type": "code",
   "execution_count": 39,
   "id": "dd8827fb-faf9-4c7c-9454-015e94752706",
   "metadata": {
    "execution": {
     "iopub.execute_input": "2022-12-15T17:53:27.115577Z",
     "iopub.status.busy": "2022-12-15T17:53:27.115355Z",
     "iopub.status.idle": "2022-12-15T17:53:27.134195Z",
     "shell.execute_reply": "2022-12-15T17:53:27.133751Z"
    },
    "papermill": {
     "duration": 0.592765,
     "end_time": "2022-12-15T17:53:27.135139",
     "exception": false,
     "start_time": "2022-12-15T17:53:26.542374",
     "status": "completed"
    },
    "tags": []
   },
   "outputs": [
    {
     "name": "stdout",
     "output_type": "stream",
     "text": [
      "Works!\n"
     ]
    }
   ],
   "source": [
    "try:\n",
    "    # decomposition used by statsmodels.GLS\n",
    "    cholsigmainv = np.linalg.cholesky(np.linalg.inv(gene_corrs_df.to_numpy())).T\n",
    "    print(\"Works!\")\n",
    "except Exception as e:\n",
    "    print(f\"Cholesky decomposition failed (statsmodels.GLS): {str(e)}\")"
   ]
  },
  {
   "cell_type": "markdown",
   "id": "8e60a080-edb2-4e9c-b2ef-22961693200c",
   "metadata": {
    "papermill": {
     "duration": 0.566601,
     "end_time": "2022-12-15T17:53:28.367953",
     "exception": false,
     "start_time": "2022-12-15T17:53:27.801352",
     "status": "completed"
    },
    "tags": []
   },
   "source": [
    "## Plot: distribution"
   ]
  },
  {
   "cell_type": "code",
   "execution_count": 40,
   "id": "8301126b-a7d4-4744-9c7d-f0f86eb6f54c",
   "metadata": {
    "execution": {
     "iopub.execute_input": "2022-12-15T17:53:29.473869Z",
     "iopub.status.busy": "2022-12-15T17:53:29.473644Z",
     "iopub.status.idle": "2022-12-15T17:53:29.735987Z",
     "shell.execute_reply": "2022-12-15T17:53:29.735491Z"
    },
    "papermill": {
     "duration": 0.829092,
     "end_time": "2022-12-15T17:53:29.737014",
     "exception": false,
     "start_time": "2022-12-15T17:53:28.907922",
     "status": "completed"
    },
    "tags": []
   },
   "outputs": [
    {
     "data": {
      "image/png": "[encoded data removed]",
      "text/plain": [
       "<Figure size 700x700 with 1 Axes>"
      ]
     },
     "metadata": {},
     "output_type": "display_data"
    }
   ],
   "source": [
    "with sns.plotting_context(\"paper\", font_scale=1.5):\n",
    "    g = sns.displot(gene_corrs_flat, kde=True, height=7)\n",
    "    g.ax.set_title(\n",
    "        f\"Distribution of gene correlation values in chromosome {CHROMOSOME}\"\n",
    "    )"
   ]
  },
  {
   "cell_type": "markdown",
   "id": "cbd52bca-d878-4a2f-b684-5c83aa3038d4",
   "metadata": {
    "papermill": {
     "duration": 0.556361,
     "end_time": "2022-12-15T17:53:30.878664",
     "exception": false,
     "start_time": "2022-12-15T17:53:30.322303",
     "status": "completed"
    },
    "tags": []
   },
   "source": [
    "## Plot: heatmap"
   ]
  },
  {
   "cell_type": "code",
   "execution_count": 41,
   "id": "d03fe63a-c7b2-4fb9-a53c-db362ce843c9",
   "metadata": {
    "execution": {
     "iopub.execute_input": "2022-12-15T17:53:32.009201Z",
     "iopub.status.busy": "2022-12-15T17:53:32.008896Z",
     "iopub.status.idle": "2022-12-15T17:53:32.030451Z",
     "shell.execute_reply": "2022-12-15T17:53:32.029962Z"
    },
    "papermill": {
     "duration": 0.579064,
     "end_time": "2022-12-15T17:53:32.031437",
     "exception": false,
     "start_time": "2022-12-15T17:53:31.452373",
     "status": "completed"
    },
    "tags": []
   },
   "outputs": [
    {
     "data": {
      "text/plain": [
       "'0.0 / 0.05'"
      ]
     },
     "metadata": {},
     "output_type": "display_data"
    }
   ],
   "source": [
    "vmin_val = min(0.00, gene_corrs_quantiles[0.10])\n",
    "vmax_val = max(0.05, gene_corrs_quantiles[0.90])\n",
    "display(f\"{vmin_val} / {vmax_val}\")"
   ]
  },
  {
   "cell_type": "code",
   "execution_count": 42,
   "id": "dc41b70b-5bcc-4d9e-9f33-a22c4a94dab5",
   "metadata": {
    "execution": {
     "iopub.execute_input": "2022-12-15T17:53:33.214463Z",
     "iopub.status.busy": "2022-12-15T17:53:33.214217Z",
     "iopub.status.idle": "2022-12-15T17:53:33.877192Z",
     "shell.execute_reply": "2022-12-15T17:53:33.876793Z"
    },
    "papermill": {
     "duration": 1.25324,
     "end_time": "2022-12-15T17:53:33.878609",
     "exception": false,
     "start_time": "2022-12-15T17:53:32.625369",
     "status": "completed"
    },
    "tags": []
   },
   "outputs": [
    {
     "data": {
      "text/plain": [
       "Text(0.5, 1.0, 'Gene correlations in chromosome 20')"
      ]
     },
     "execution_count": 42,
     "metadata": {},
     "output_type": "execute_result"
    },
    {
     "data": {
      "image/png": "[encoded data removed]",
      "text/plain": [
       "<Figure size 1000x1000 with 2 Axes>"
      ]
     },
     "metadata": {},
     "output_type": "display_data"
    }
   ],
   "source": [
    "f, ax = plt.subplots(figsize=(10, 10))\n",
    "sns.heatmap(\n",
    "    gene_corrs_df,\n",
    "    xticklabels=False,\n",
    "    yticklabels=False,\n",
    "    square=True,\n",
    "    vmin=vmin_val,\n",
    "    vmax=vmax_val,\n",
    "    cmap=\"rocket_r\",\n",
    "    ax=ax,\n",
    ")\n",
    "ax.set_title(f\"Gene correlations in chromosome {CHROMOSOME}\")"
   ]
  },
  {
   "cell_type": "code",
   "execution_count": null,
   "id": "b25e3ead",
   "metadata": {
    "papermill": {
     "duration": 0.587169,
     "end_time": "2022-12-15T17:53:35.035003",
     "exception": false,
     "start_time": "2022-12-15T17:53:34.447834",
     "status": "completed"
    },
    "tags": []
   },
   "outputs": [],
   "source": []
  }
 ],
 "metadata": {
  "jupytext": {
   "cell_metadata_filter": "all,-execution,-papermill,-trusted",
   "formats": "ipynb,py//py:percent"
  },
  "kernelspec": {
   "display_name": "Python 3 (ipykernel)",
   "language": "python",
   "name": "python3"
  },
  "language_info": {
   "codemirror_mode": {
    "name": "ipython",
    "version": 3
   },
   "file_extension": ".py",
   "mimetype": "text/x-python",
   "name": "python",
   "nbconvert_exporter": "python",
   "pygments_lexer": "ipython3",
   "version": "3.10.6"
  },
  "papermill": {
   "default_parameters": {},
   "duration": 256.789671,
   "end_time": "2022-12-15T17:53:38.829196",
   "environment_variables": {},
   "exception": null,
   "input_path": "projects/asthma-copd/nbs/20_gene_corrs/jobs/05-gene_expr_correlations.ipynb",
   "output_path": "projects/asthma-copd/nbs/20_gene_corrs/jobs/../output/asthma_only/05-gene_expr_correlations-chr20.run.ipynb",
   "parameters": {
    "CHROMOSOME": 20,
    "COHORT_NAME": "asthma_only",
    "OUTPUT_DIR_BASE": "/opt/data/projects/asthma-copd/results/gls_phenoplier",
    "PHENOPLIER_NOTEBOOK_FILEPATH": "projects/asthma-copd/nbs/20_gene_corrs/jobs/05-gene_expr_correlations.ipynb"
   },
   "start_time": "2022-12-15T17:49:22.039525",
   "version": "2.2.2"
  }
 },
 "nbformat": 4,
 "nbformat_minor": 5
}
