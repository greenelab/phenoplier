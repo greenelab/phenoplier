{
 "cells": [
  {
   "cell_type": "markdown",
   "id": "7a6632fb",
   "metadata": {
    "papermill": {
     "duration": 0.008888,
     "end_time": "2022-12-05T16:48:27.588051",
     "exception": false,
     "start_time": "2022-12-05T16:48:27.579163",
     "status": "completed"
    },
    "tags": []
   },
   "source": [
    "# Description"
   ]
  },
  {
   "cell_type": "markdown",
   "id": "7097c346",
   "metadata": {
    "papermill": {
     "duration": 0.01349,
     "end_time": "2022-12-05T16:48:27.614312",
     "exception": false,
     "start_time": "2022-12-05T16:48:27.600822",
     "status": "completed"
    },
    "tags": []
   },
   "source": [
    "(Please, take a look at the README.md file in this directory for instructions on how to run this notebook)\n",
    "\n",
    "This notebook computes predicted expression correlations between all genes in the MultiPLIER models.\n",
    "\n",
    "It has specicfic parameters for papermill (see under `Settings` below).\n",
    "It can be configured to run on a single chromosome to run in parallel.\n",
    "\n",
    "This notebook is not directly run. See README.md."
   ]
  },
  {
   "cell_type": "markdown",
   "id": "c61d8427",
   "metadata": {
    "papermill": {
     "duration": 0.009132,
     "end_time": "2022-12-05T16:48:27.633254",
     "exception": false,
     "start_time": "2022-12-05T16:48:27.624122",
     "status": "completed"
    },
    "tags": []
   },
   "source": [
    "# Modules"
   ]
  },
  {
   "cell_type": "code",
   "execution_count": 1,
   "id": "bbc0234f",
   "metadata": {
    "execution": {
     "iopub.execute_input": "2022-12-05T16:48:27.660247Z",
     "iopub.status.busy": "2022-12-05T16:48:27.659732Z",
     "iopub.status.idle": "2022-12-05T16:48:27.687060Z",
     "shell.execute_reply": "2022-12-05T16:48:27.686495Z"
    },
    "papermill": {
     "duration": 0.04316,
     "end_time": "2022-12-05T16:48:27.688448",
     "exception": false,
     "start_time": "2022-12-05T16:48:27.645288",
     "status": "completed"
    },
    "tags": []
   },
   "outputs": [],
   "source": [
    "%load_ext autoreload\n",
    "%autoreload 2"
   ]
  },
  {
   "cell_type": "code",
   "execution_count": 2,
   "id": "1d5f5a59",
   "metadata": {
    "execution": {
     "iopub.execute_input": "2022-12-05T16:48:27.702068Z",
     "iopub.status.busy": "2022-12-05T16:48:27.701511Z",
     "iopub.status.idle": "2022-12-05T16:48:28.583113Z",
     "shell.execute_reply": "2022-12-05T16:48:28.582664Z"
    },
    "papermill": {
     "duration": 0.889214,
     "end_time": "2022-12-05T16:48:28.584207",
     "exception": false,
     "start_time": "2022-12-05T16:48:27.694993",
     "status": "completed"
    },
    "tags": []
   },
   "outputs": [],
   "source": [
    "from random import sample, seed\n",
    "import warnings\n",
    "from pathlib import Path\n",
    "import pickle\n",
    "import traceback\n",
    "\n",
    "import numpy as np\n",
    "from scipy.spatial.distance import squareform\n",
    "import pandas as pd\n",
    "from tqdm import tqdm\n",
    "import matplotlib.pyplot as plt\n",
    "import seaborn as sns\n",
    "\n",
    "import conf\n",
    "from entity import Gene"
   ]
  },
  {
   "cell_type": "markdown",
   "id": "1eac24b5",
   "metadata": {
    "papermill": {
     "duration": 0.004086,
     "end_time": "2022-12-05T16:48:28.592939",
     "exception": false,
     "start_time": "2022-12-05T16:48:28.588853",
     "status": "completed"
    },
    "tags": []
   },
   "source": [
    "# Settings"
   ]
  },
  {
   "cell_type": "code",
   "execution_count": 3,
   "id": "ca4560ba",
   "metadata": {
    "execution": {
     "iopub.execute_input": "2022-12-05T16:48:28.601774Z",
     "iopub.status.busy": "2022-12-05T16:48:28.601642Z",
     "iopub.status.idle": "2022-12-05T16:48:28.617369Z",
     "shell.execute_reply": "2022-12-05T16:48:28.616836Z"
    },
    "papermill": {
     "duration": 0.021196,
     "end_time": "2022-12-05T16:48:28.618200",
     "exception": false,
     "start_time": "2022-12-05T16:48:28.597004",
     "status": "completed"
    },
    "tags": [
     "parameters"
    ]
   },
   "outputs": [],
   "source": [
    "# a cohort name (it could be something like UK_BIOBANK, etc)\n",
    "COHORT_NAME = None\n",
    "\n",
    "# reference panel such as 1000G or GTEX_V8\n",
    "REFERENCE_PANEL = \"GTEX_V8\"\n",
    "\n",
    "# predictions models such as MASHR or ELASTIC_NET\n",
    "EQTL_MODEL = \"MASHR\"\n",
    "\n",
    "# this is the default value used in S-MultiXcan to select the\n",
    "# top principal components of the expression correlation matrix\n",
    "SMULTIXCAN_CONDITION_NUMBER = 30\n",
    "\n",
    "# specifies a single chromosome value\n",
    "CHROMOSOME = None\n",
    "\n",
    "# If True, computes the correlation between closeby genes only (see\n",
    "# entity.Gene.within_distance for more details). Otherwise, it computes\n",
    "# correlations for all genes in a chromosome\n",
    "COMPUTE_CORRELATIONS_WITHIN_DISTANCE = True\n",
    "\n",
    "# if True, then it will continue if a gene pair correlation fails,\n",
    "# printing the warning/error for debugging. If False, any warning/error\n",
    "# will be thrown\n",
    "DEBUG_MODE = False\n",
    "\n",
    "# output dir\n",
    "OUTPUT_DIR_BASE = None"
   ]
  },
  {
   "cell_type": "code",
   "execution_count": 4,
   "id": "b7d9dbe6",
   "metadata": {
    "execution": {
     "iopub.execute_input": "2022-12-05T16:48:28.627301Z",
     "iopub.status.busy": "2022-12-05T16:48:28.627185Z",
     "iopub.status.idle": "2022-12-05T16:48:28.645674Z",
     "shell.execute_reply": "2022-12-05T16:48:28.645092Z"
    },
    "papermill": {
     "duration": 0.023962,
     "end_time": "2022-12-05T16:48:28.646548",
     "exception": false,
     "start_time": "2022-12-05T16:48:28.622586",
     "status": "completed"
    },
    "tags": [
     "injected-parameters"
    ]
   },
   "outputs": [],
   "source": [
    "# Parameters\n",
    "PHENOPLIER_NOTEBOOK_FILEPATH = (\n",
    "    \"projects/asthma-copd/nbs/20_gene_corrs/jobs/05-gene_expr_correlations.ipynb\"\n",
    ")\n",
    "COHORT_NAME = \"asthma_only\"\n",
    "CHROMOSOME = 5\n",
    "OUTPUT_DIR_BASE = \"/opt/data/projects/asthma-copd/results/gls_phenoplier\"\n"
   ]
  },
  {
   "cell_type": "code",
   "execution_count": 5,
   "id": "3190631f-27fc-480f-b18e-571d580425a5",
   "metadata": {
    "execution": {
     "iopub.execute_input": "2022-12-05T16:48:28.655695Z",
     "iopub.status.busy": "2022-12-05T16:48:28.655564Z",
     "iopub.status.idle": "2022-12-05T16:48:28.677088Z",
     "shell.execute_reply": "2022-12-05T16:48:28.676721Z"
    },
    "papermill": {
     "duration": 0.026911,
     "end_time": "2022-12-05T16:48:28.677882",
     "exception": false,
     "start_time": "2022-12-05T16:48:28.650971",
     "status": "completed"
    },
    "tags": []
   },
   "outputs": [
    {
     "data": {
      "text/plain": [
       "'Cohort name: asthma_only'"
      ]
     },
     "metadata": {},
     "output_type": "display_data"
    }
   ],
   "source": [
    "assert COHORT_NAME is not None and len(COHORT_NAME) > 0, \"A cohort name must be given\"\n",
    "\n",
    "COHORT_NAME = COHORT_NAME.lower()\n",
    "display(f\"Cohort name: {COHORT_NAME}\")"
   ]
  },
  {
   "cell_type": "code",
   "execution_count": 6,
   "id": "f53ba19b-0f93-4fa2-a047-63b375939d1a",
   "metadata": {
    "execution": {
     "iopub.execute_input": "2022-12-05T16:48:28.687121Z",
     "iopub.status.busy": "2022-12-05T16:48:28.686965Z",
     "iopub.status.idle": "2022-12-05T16:48:28.705044Z",
     "shell.execute_reply": "2022-12-05T16:48:28.704470Z"
    },
    "papermill": {
     "duration": 0.023499,
     "end_time": "2022-12-05T16:48:28.705869",
     "exception": false,
     "start_time": "2022-12-05T16:48:28.682370",
     "status": "completed"
    },
    "tags": []
   },
   "outputs": [
    {
     "data": {
      "text/plain": [
       "'Reference panel: GTEX_V8'"
      ]
     },
     "metadata": {},
     "output_type": "display_data"
    }
   ],
   "source": [
    "assert (\n",
    "    REFERENCE_PANEL is not None and len(REFERENCE_PANEL) > 0\n",
    "), \"A reference panel must be given\"\n",
    "\n",
    "display(f\"Reference panel: {REFERENCE_PANEL}\")"
   ]
  },
  {
   "cell_type": "code",
   "execution_count": 7,
   "id": "e024d130-c139-429a-9c6e-ccf149e297b0",
   "metadata": {
    "execution": {
     "iopub.execute_input": "2022-12-05T16:48:28.715538Z",
     "iopub.status.busy": "2022-12-05T16:48:28.715426Z",
     "iopub.status.idle": "2022-12-05T16:48:28.732101Z",
     "shell.execute_reply": "2022-12-05T16:48:28.731740Z"
    },
    "papermill": {
     "duration": 0.022953,
     "end_time": "2022-12-05T16:48:28.733212",
     "exception": false,
     "start_time": "2022-12-05T16:48:28.710259",
     "status": "completed"
    },
    "tags": []
   },
   "outputs": [
    {
     "data": {
      "text/plain": [
       "'eQTL model: MASHR) / mashr_'"
      ]
     },
     "metadata": {},
     "output_type": "display_data"
    }
   ],
   "source": [
    "assert (\n",
    "    EQTL_MODEL is not None and len(EQTL_MODEL) > 0\n",
    "), \"A prediction/eQTL model must be given\"\n",
    "\n",
    "EQTL_MODEL_FILES_PREFIX = conf.PHENOMEXCAN[\"PREDICTION_MODELS\"][f\"{EQTL_MODEL}_PREFIX\"]\n",
    "display(f\"eQTL model: {EQTL_MODEL}) / {EQTL_MODEL_FILES_PREFIX}\")"
   ]
  },
  {
   "cell_type": "code",
   "execution_count": 8,
   "id": "552a7f63-a18c-4d3e-bb6a-94f99b431291",
   "metadata": {
    "execution": {
     "iopub.execute_input": "2022-12-05T16:48:28.747299Z",
     "iopub.status.busy": "2022-12-05T16:48:28.747101Z",
     "iopub.status.idle": "2022-12-05T16:48:28.763871Z",
     "shell.execute_reply": "2022-12-05T16:48:28.763370Z"
    },
    "papermill": {
     "duration": 0.02352,
     "end_time": "2022-12-05T16:48:28.764651",
     "exception": false,
     "start_time": "2022-12-05T16:48:28.741131",
     "status": "completed"
    },
    "tags": []
   },
   "outputs": [
    {
     "data": {
      "text/plain": [
       "'S-MultiXcan condition number: 30'"
      ]
     },
     "metadata": {},
     "output_type": "display_data"
    }
   ],
   "source": [
    "assert (\n",
    "    SMULTIXCAN_CONDITION_NUMBER is not None and SMULTIXCAN_CONDITION_NUMBER > 0\n",
    "), \"The S-MultiXcan condition number (positive integer) must be given\"\n",
    "\n",
    "display(f\"S-MultiXcan condition number: {SMULTIXCAN_CONDITION_NUMBER}\")"
   ]
  },
  {
   "cell_type": "code",
   "execution_count": 9,
   "id": "f34a336f-548e-4afe-8955-90eaea4f42c6",
   "metadata": {
    "execution": {
     "iopub.execute_input": "2022-12-05T16:48:28.780148Z",
     "iopub.status.busy": "2022-12-05T16:48:28.780031Z",
     "iopub.status.idle": "2022-12-05T16:48:28.796450Z",
     "shell.execute_reply": "2022-12-05T16:48:28.796080Z"
    },
    "papermill": {
     "duration": 0.025731,
     "end_time": "2022-12-05T16:48:28.797226",
     "exception": false,
     "start_time": "2022-12-05T16:48:28.771495",
     "status": "completed"
    },
    "tags": []
   },
   "outputs": [
    {
     "data": {
      "text/plain": [
       "'Working on chromosome 5'"
      ]
     },
     "metadata": {},
     "output_type": "display_data"
    }
   ],
   "source": [
    "assert CHROMOSOME is not None and (\n",
    "    1 <= CHROMOSOME <= 22\n",
    "), \"You have to select one chromosome (format: number between 1 and 22)\"\n",
    "\n",
    "display(f\"Working on chromosome {CHROMOSOME}\")"
   ]
  },
  {
   "cell_type": "code",
   "execution_count": 10,
   "id": "ab8e96e8-06b5-4363-9dcd-dc4d78cc27f7",
   "metadata": {
    "execution": {
     "iopub.execute_input": "2022-12-05T16:48:28.806982Z",
     "iopub.status.busy": "2022-12-05T16:48:28.806760Z",
     "iopub.status.idle": "2022-12-05T16:48:28.823299Z",
     "shell.execute_reply": "2022-12-05T16:48:28.822762Z"
    },
    "papermill": {
     "duration": 0.022327,
     "end_time": "2022-12-05T16:48:28.824131",
     "exception": false,
     "start_time": "2022-12-05T16:48:28.801804",
     "status": "completed"
    },
    "tags": []
   },
   "outputs": [
    {
     "data": {
      "text/plain": [
       "'Compute correlation within distance True'"
      ]
     },
     "metadata": {},
     "output_type": "display_data"
    }
   ],
   "source": [
    "display(f\"Compute correlation within distance {COMPUTE_CORRELATIONS_WITHIN_DISTANCE}\")"
   ]
  },
  {
   "cell_type": "code",
   "execution_count": 11,
   "id": "b393b698-77e3-4ba2-8ac1-e14d51aa988f",
   "metadata": {
    "execution": {
     "iopub.execute_input": "2022-12-05T16:48:28.834287Z",
     "iopub.status.busy": "2022-12-05T16:48:28.833893Z",
     "iopub.status.idle": "2022-12-05T16:48:28.856581Z",
     "shell.execute_reply": "2022-12-05T16:48:28.855897Z"
    },
    "papermill": {
     "duration": 0.028632,
     "end_time": "2022-12-05T16:48:28.857413",
     "exception": false,
     "start_time": "2022-12-05T16:48:28.828781",
     "status": "completed"
    },
    "tags": []
   },
   "outputs": [
    {
     "data": {
      "text/plain": [
       "'Using output dir base: /opt/data/projects/asthma-copd/results/gls_phenoplier/gene_corrs/asthma_only'"
      ]
     },
     "metadata": {},
     "output_type": "display_data"
    }
   ],
   "source": [
    "assert (\n",
    "    OUTPUT_DIR_BASE is not None and len(OUTPUT_DIR_BASE) > 0\n",
    "), \"Output directory path must be given\"\n",
    "\n",
    "OUTPUT_DIR_BASE = (Path(OUTPUT_DIR_BASE) / \"gene_corrs\" / COHORT_NAME).resolve()\n",
    "\n",
    "OUTPUT_DIR_BASE.mkdir(parents=True, exist_ok=True)\n",
    "\n",
    "display(f\"Using output dir base: {OUTPUT_DIR_BASE}\")"
   ]
  },
  {
   "cell_type": "markdown",
   "id": "d2ba085e",
   "metadata": {
    "papermill": {
     "duration": 0.004536,
     "end_time": "2022-12-05T16:48:28.867091",
     "exception": false,
     "start_time": "2022-12-05T16:48:28.862555",
     "status": "completed"
    },
    "tags": []
   },
   "source": [
    "# Load data"
   ]
  },
  {
   "cell_type": "markdown",
   "id": "7dcb8db7",
   "metadata": {
    "papermill": {
     "duration": 0.004608,
     "end_time": "2022-12-05T16:48:28.876255",
     "exception": false,
     "start_time": "2022-12-05T16:48:28.871647",
     "status": "completed"
    },
    "tags": []
   },
   "source": [
    "## GWAS variants"
   ]
  },
  {
   "cell_type": "code",
   "execution_count": 12,
   "id": "29434c4e-8cd3-4b9b-82e4-b5a251d9dd19",
   "metadata": {
    "execution": {
     "iopub.execute_input": "2022-12-05T16:48:28.886655Z",
     "iopub.status.busy": "2022-12-05T16:48:28.886198Z",
     "iopub.status.idle": "2022-12-05T16:48:31.091105Z",
     "shell.execute_reply": "2022-12-05T16:48:31.090545Z"
    },
    "papermill": {
     "duration": 2.212166,
     "end_time": "2022-12-05T16:48:31.093047",
     "exception": false,
     "start_time": "2022-12-05T16:48:28.880881",
     "status": "completed"
    },
    "tags": []
   },
   "outputs": [],
   "source": [
    "with open(OUTPUT_DIR_BASE / \"gwas_variant_ids.pkl\", \"rb\") as handle:\n",
    "    gwas_variants_ids_set = pickle.load(handle)"
   ]
  },
  {
   "cell_type": "code",
   "execution_count": 13,
   "id": "b9d9dec2-4a76-4bf9-bde2-e24c95acb8a0",
   "metadata": {
    "execution": {
     "iopub.execute_input": "2022-12-05T16:48:31.113379Z",
     "iopub.status.busy": "2022-12-05T16:48:31.113248Z",
     "iopub.status.idle": "2022-12-05T16:48:31.129055Z",
     "shell.execute_reply": "2022-12-05T16:48:31.128600Z"
    },
    "papermill": {
     "duration": 0.028116,
     "end_time": "2022-12-05T16:48:31.130996",
     "exception": false,
     "start_time": "2022-12-05T16:48:31.102880",
     "status": "completed"
    },
    "tags": []
   },
   "outputs": [
    {
     "data": {
      "text/plain": [
       "8578486"
      ]
     },
     "execution_count": 13,
     "metadata": {},
     "output_type": "execute_result"
    }
   ],
   "source": [
    "len(gwas_variants_ids_set)"
   ]
  },
  {
   "cell_type": "code",
   "execution_count": 14,
   "id": "4235b06a-6034-4ee4-a0a3-2ae35d122418",
   "metadata": {
    "execution": {
     "iopub.execute_input": "2022-12-05T16:48:31.155074Z",
     "iopub.status.busy": "2022-12-05T16:48:31.154749Z",
     "iopub.status.idle": "2022-12-05T16:48:31.706488Z",
     "shell.execute_reply": "2022-12-05T16:48:31.706059Z"
    },
    "papermill": {
     "duration": 0.565071,
     "end_time": "2022-12-05T16:48:31.707981",
     "exception": false,
     "start_time": "2022-12-05T16:48:31.142910",
     "status": "completed"
    },
    "tags": []
   },
   "outputs": [
    {
     "data": {
      "text/plain": [
       "['chr11_23474744_G_A_b38',\n",
       " 'chr15_67066140_G_A_b38',\n",
       " 'chr2_208130385_T_C_b38',\n",
       " 'chr5_173758879_C_A_b38',\n",
       " 'chr1_99558101_A_G_b38']"
      ]
     },
     "execution_count": 14,
     "metadata": {},
     "output_type": "execute_result"
    }
   ],
   "source": [
    "list(gwas_variants_ids_set)[:5]"
   ]
  },
  {
   "cell_type": "markdown",
   "id": "07866999-2305-41f9-a144-e69c9122c212",
   "metadata": {
    "papermill": {
     "duration": 0.010066,
     "end_time": "2022-12-05T16:48:31.728763",
     "exception": false,
     "start_time": "2022-12-05T16:48:31.718697",
     "status": "completed"
    },
    "tags": []
   },
   "source": [
    "## S-PrediXcan tissue models"
   ]
  },
  {
   "cell_type": "code",
   "execution_count": 15,
   "id": "780611d9-77c8-405f-90a4-f271f7b09397",
   "metadata": {
    "execution": {
     "iopub.execute_input": "2022-12-05T16:48:31.750608Z",
     "iopub.status.busy": "2022-12-05T16:48:31.750312Z",
     "iopub.status.idle": "2022-12-05T16:48:32.619418Z",
     "shell.execute_reply": "2022-12-05T16:48:32.618945Z"
    },
    "papermill": {
     "duration": 0.882114,
     "end_time": "2022-12-05T16:48:32.621308",
     "exception": false,
     "start_time": "2022-12-05T16:48:31.739194",
     "status": "completed"
    },
    "tags": []
   },
   "outputs": [],
   "source": [
    "spredixcan_genes_models = pd.read_pickle(OUTPUT_DIR_BASE / \"gene_tissues.pkl\")"
   ]
  },
  {
   "cell_type": "code",
   "execution_count": 16,
   "id": "726dd1f6-9557-4225-91fa-b3b879ea96e1",
   "metadata": {
    "execution": {
     "iopub.execute_input": "2022-12-05T16:48:32.642771Z",
     "iopub.status.busy": "2022-12-05T16:48:32.642560Z",
     "iopub.status.idle": "2022-12-05T16:48:32.655947Z",
     "shell.execute_reply": "2022-12-05T16:48:32.655568Z"
    },
    "papermill": {
     "duration": 0.025989,
     "end_time": "2022-12-05T16:48:32.657379",
     "exception": false,
     "start_time": "2022-12-05T16:48:32.631390",
     "status": "completed"
    },
    "tags": []
   },
   "outputs": [
    {
     "data": {
      "text/plain": [
       "(6443, 5)"
      ]
     },
     "execution_count": 16,
     "metadata": {},
     "output_type": "execute_result"
    }
   ],
   "source": [
    "spredixcan_genes_models.shape"
   ]
  },
  {
   "cell_type": "code",
   "execution_count": 17,
   "id": "944a1b48-222c-4eb0-b252-b9de2cbca215",
   "metadata": {
    "execution": {
     "iopub.execute_input": "2022-12-05T16:48:32.678548Z",
     "iopub.status.busy": "2022-12-05T16:48:32.678347Z",
     "iopub.status.idle": "2022-12-05T16:48:32.695358Z",
     "shell.execute_reply": "2022-12-05T16:48:32.694963Z"
    },
    "papermill": {
     "duration": 0.029235,
     "end_time": "2022-12-05T16:48:32.696806",
     "exception": false,
     "start_time": "2022-12-05T16:48:32.667571",
     "status": "completed"
    },
    "tags": []
   },
   "outputs": [
    {
     "data": {
      "text/html": [
       "<div>\n",
       "<style scoped>\n",
       "    .dataframe tbody tr th:only-of-type {\n",
       "        vertical-align: middle;\n",
       "    }\n",
       "\n",
       "    .dataframe tbody tr th {\n",
       "        vertical-align: top;\n",
       "    }\n",
       "\n",
       "    .dataframe thead th {\n",
       "        text-align: right;\n",
       "    }\n",
       "</style>\n",
       "<table border=\"1\" class=\"dataframe\">\n",
       "  <thead>\n",
       "    <tr style=\"text-align: right;\">\n",
       "      <th></th>\n",
       "      <th>gene_name</th>\n",
       "      <th>tissue</th>\n",
       "      <th>n_tissues</th>\n",
       "      <th>n_snps_used_sum</th>\n",
       "      <th>n_snps_in_model_sum</th>\n",
       "    </tr>\n",
       "    <tr>\n",
       "      <th>gene_id</th>\n",
       "      <th></th>\n",
       "      <th></th>\n",
       "      <th></th>\n",
       "      <th></th>\n",
       "      <th></th>\n",
       "    </tr>\n",
       "  </thead>\n",
       "  <tbody>\n",
       "    <tr>\n",
       "      <th>ENSG00000000419</th>\n",
       "      <td>DPM1</td>\n",
       "      <td>(Brain_Hypothalamus, Brain_Substantia_nigra)</td>\n",
       "      <td>2</td>\n",
       "      <td>2</td>\n",
       "      <td>2</td>\n",
       "    </tr>\n",
       "    <tr>\n",
       "      <th>ENSG00000000938</th>\n",
       "      <td>FGR</td>\n",
       "      <td>(Nerve_Tibial, Stomach, Lung, Brain_Frontal_Co...</td>\n",
       "      <td>36</td>\n",
       "      <td>40</td>\n",
       "      <td>40</td>\n",
       "    </tr>\n",
       "    <tr>\n",
       "      <th>ENSG00000000971</th>\n",
       "      <td>CFH</td>\n",
       "      <td>(Nerve_Tibial, Brain_Putamen_basal_ganglia, St...</td>\n",
       "      <td>34</td>\n",
       "      <td>44</td>\n",
       "      <td>44</td>\n",
       "    </tr>\n",
       "    <tr>\n",
       "      <th>ENSG00000001084</th>\n",
       "      <td>GCLC</td>\n",
       "      <td>(Nerve_Tibial, Brain_Putamen_basal_ganglia, Lu...</td>\n",
       "      <td>32</td>\n",
       "      <td>46</td>\n",
       "      <td>46</td>\n",
       "    </tr>\n",
       "    <tr>\n",
       "      <th>ENSG00000001167</th>\n",
       "      <td>NFYA</td>\n",
       "      <td>(Nerve_Tibial, Brain_Putamen_basal_ganglia, St...</td>\n",
       "      <td>40</td>\n",
       "      <td>47</td>\n",
       "      <td>48</td>\n",
       "    </tr>\n",
       "  </tbody>\n",
       "</table>\n",
       "</div>"
      ],
      "text/plain": [
       "                gene_name                                             tissue  \\\n",
       "gene_id                                                                        \n",
       "ENSG00000000419      DPM1       (Brain_Hypothalamus, Brain_Substantia_nigra)   \n",
       "ENSG00000000938       FGR  (Nerve_Tibial, Stomach, Lung, Brain_Frontal_Co...   \n",
       "ENSG00000000971       CFH  (Nerve_Tibial, Brain_Putamen_basal_ganglia, St...   \n",
       "ENSG00000001084      GCLC  (Nerve_Tibial, Brain_Putamen_basal_ganglia, Lu...   \n",
       "ENSG00000001167      NFYA  (Nerve_Tibial, Brain_Putamen_basal_ganglia, St...   \n",
       "\n",
       "                 n_tissues  n_snps_used_sum  n_snps_in_model_sum  \n",
       "gene_id                                                           \n",
       "ENSG00000000419          2                2                    2  \n",
       "ENSG00000000938         36               40                   40  \n",
       "ENSG00000000971         34               44                   44  \n",
       "ENSG00000001084         32               46                   46  \n",
       "ENSG00000001167         40               47                   48  "
      ]
     },
     "execution_count": 17,
     "metadata": {},
     "output_type": "execute_result"
    }
   ],
   "source": [
    "spredixcan_genes_models.head()"
   ]
  },
  {
   "cell_type": "code",
   "execution_count": 18,
   "id": "d1c11bb1-be0b-4f40-b360-633d6827109f",
   "metadata": {
    "execution": {
     "iopub.execute_input": "2022-12-05T16:48:32.718773Z",
     "iopub.status.busy": "2022-12-05T16:48:32.718591Z",
     "iopub.status.idle": "2022-12-05T16:48:32.730960Z",
     "shell.execute_reply": "2022-12-05T16:48:32.730573Z"
    },
    "papermill": {
     "duration": 0.02529,
     "end_time": "2022-12-05T16:48:32.732523",
     "exception": false,
     "start_time": "2022-12-05T16:48:32.707233",
     "status": "completed"
    },
    "tags": []
   },
   "outputs": [],
   "source": [
    "assert spredixcan_genes_models.index.is_unique"
   ]
  },
  {
   "cell_type": "markdown",
   "id": "a5b5092c-a13e-47c4-a92a-480fcc08f3ae",
   "metadata": {
    "papermill": {
     "duration": 0.01023,
     "end_time": "2022-12-05T16:48:32.753235",
     "exception": false,
     "start_time": "2022-12-05T16:48:32.743005",
     "status": "completed"
    },
    "tags": []
   },
   "source": [
    "## Gene info"
   ]
  },
  {
   "cell_type": "code",
   "execution_count": 19,
   "id": "7d6bb224-88e9-4358-ac10-43a41d92cdad",
   "metadata": {
    "execution": {
     "iopub.execute_input": "2022-12-05T16:48:32.775030Z",
     "iopub.status.busy": "2022-12-05T16:48:32.774647Z",
     "iopub.status.idle": "2022-12-05T16:48:32.793714Z",
     "shell.execute_reply": "2022-12-05T16:48:32.793201Z"
    },
    "papermill": {
     "duration": 0.031289,
     "end_time": "2022-12-05T16:48:32.794836",
     "exception": false,
     "start_time": "2022-12-05T16:48:32.763547",
     "status": "completed"
    },
    "tags": []
   },
   "outputs": [],
   "source": [
    "genes_info = pd.read_pickle(OUTPUT_DIR_BASE / \"genes_info.pkl\")"
   ]
  },
  {
   "cell_type": "code",
   "execution_count": 20,
   "id": "9e32abfa-546d-483e-8c18-d526e9e05903",
   "metadata": {
    "execution": {
     "iopub.execute_input": "2022-12-05T16:48:32.806091Z",
     "iopub.status.busy": "2022-12-05T16:48:32.805929Z",
     "iopub.status.idle": "2022-12-05T16:48:32.825130Z",
     "shell.execute_reply": "2022-12-05T16:48:32.824637Z"
    },
    "papermill": {
     "duration": 0.025693,
     "end_time": "2022-12-05T16:48:32.826007",
     "exception": false,
     "start_time": "2022-12-05T16:48:32.800314",
     "status": "completed"
    },
    "tags": []
   },
   "outputs": [
    {
     "data": {
      "text/plain": [
       "(6443, 7)"
      ]
     },
     "execution_count": 20,
     "metadata": {},
     "output_type": "execute_result"
    }
   ],
   "source": [
    "genes_info.shape"
   ]
  },
  {
   "cell_type": "code",
   "execution_count": 21,
   "id": "d16c3e92-85ec-468a-9a56-e25a9774a1cb",
   "metadata": {
    "execution": {
     "iopub.execute_input": "2022-12-05T16:48:32.836969Z",
     "iopub.status.busy": "2022-12-05T16:48:32.836808Z",
     "iopub.status.idle": "2022-12-05T16:48:32.858816Z",
     "shell.execute_reply": "2022-12-05T16:48:32.858334Z"
    },
    "papermill": {
     "duration": 0.028446,
     "end_time": "2022-12-05T16:48:32.859647",
     "exception": false,
     "start_time": "2022-12-05T16:48:32.831201",
     "status": "completed"
    },
    "tags": []
   },
   "outputs": [
    {
     "data": {
      "text/html": [
       "<div>\n",
       "<style scoped>\n",
       "    .dataframe tbody tr th:only-of-type {\n",
       "        vertical-align: middle;\n",
       "    }\n",
       "\n",
       "    .dataframe tbody tr th {\n",
       "        vertical-align: top;\n",
       "    }\n",
       "\n",
       "    .dataframe thead th {\n",
       "        text-align: right;\n",
       "    }\n",
       "</style>\n",
       "<table border=\"1\" class=\"dataframe\">\n",
       "  <thead>\n",
       "    <tr style=\"text-align: right;\">\n",
       "      <th></th>\n",
       "      <th>name</th>\n",
       "      <th>id</th>\n",
       "      <th>chr</th>\n",
       "      <th>band</th>\n",
       "      <th>start_position</th>\n",
       "      <th>end_position</th>\n",
       "      <th>gene_length</th>\n",
       "    </tr>\n",
       "  </thead>\n",
       "  <tbody>\n",
       "    <tr>\n",
       "      <th>0</th>\n",
       "      <td>MRPL44</td>\n",
       "      <td>ENSG00000135900</td>\n",
       "      <td>2</td>\n",
       "      <td>2q36.1</td>\n",
       "      <td>223957463</td>\n",
       "      <td>223967714</td>\n",
       "      <td>10251</td>\n",
       "    </tr>\n",
       "    <tr>\n",
       "      <th>1</th>\n",
       "      <td>H1FX</td>\n",
       "      <td>ENSG00000184897</td>\n",
       "      <td>3</td>\n",
       "      <td>3q21.3</td>\n",
       "      <td>129314771</td>\n",
       "      <td>129316286</td>\n",
       "      <td>1515</td>\n",
       "    </tr>\n",
       "    <tr>\n",
       "      <th>2</th>\n",
       "      <td>AGRN</td>\n",
       "      <td>ENSG00000188157</td>\n",
       "      <td>1</td>\n",
       "      <td>1p36.33</td>\n",
       "      <td>1020120</td>\n",
       "      <td>1056118</td>\n",
       "      <td>35998</td>\n",
       "    </tr>\n",
       "    <tr>\n",
       "      <th>3</th>\n",
       "      <td>DNAJB2</td>\n",
       "      <td>ENSG00000135924</td>\n",
       "      <td>2</td>\n",
       "      <td>2q35</td>\n",
       "      <td>219279267</td>\n",
       "      <td>219286900</td>\n",
       "      <td>7633</td>\n",
       "    </tr>\n",
       "    <tr>\n",
       "      <th>4</th>\n",
       "      <td>PISD</td>\n",
       "      <td>ENSG00000241878</td>\n",
       "      <td>22</td>\n",
       "      <td>22q12.2</td>\n",
       "      <td>31618491</td>\n",
       "      <td>31662432</td>\n",
       "      <td>43941</td>\n",
       "    </tr>\n",
       "  </tbody>\n",
       "</table>\n",
       "</div>"
      ],
      "text/plain": [
       "     name               id  chr     band  start_position  end_position  \\\n",
       "0  MRPL44  ENSG00000135900    2   2q36.1       223957463     223967714   \n",
       "1    H1FX  ENSG00000184897    3   3q21.3       129314771     129316286   \n",
       "2    AGRN  ENSG00000188157    1  1p36.33         1020120       1056118   \n",
       "3  DNAJB2  ENSG00000135924    2     2q35       219279267     219286900   \n",
       "4    PISD  ENSG00000241878   22  22q12.2        31618491      31662432   \n",
       "\n",
       "   gene_length  \n",
       "0        10251  \n",
       "1         1515  \n",
       "2        35998  \n",
       "3         7633  \n",
       "4        43941  "
      ]
     },
     "execution_count": 21,
     "metadata": {},
     "output_type": "execute_result"
    }
   ],
   "source": [
    "genes_info.head()"
   ]
  },
  {
   "cell_type": "markdown",
   "id": "d3843e06",
   "metadata": {
    "papermill": {
     "duration": 0.005198,
     "end_time": "2022-12-05T16:48:32.870216",
     "exception": false,
     "start_time": "2022-12-05T16:48:32.865018",
     "status": "completed"
    },
    "tags": []
   },
   "source": [
    "# Compute correlations"
   ]
  },
  {
   "cell_type": "code",
   "execution_count": 22,
   "id": "cb859c15-d1f3-4006-a74c-2b83c0db9611",
   "metadata": {
    "execution": {
     "iopub.execute_input": "2022-12-05T16:48:32.881736Z",
     "iopub.status.busy": "2022-12-05T16:48:32.881466Z",
     "iopub.status.idle": "2022-12-05T16:48:32.906088Z",
     "shell.execute_reply": "2022-12-05T16:48:32.905569Z"
    },
    "papermill": {
     "duration": 0.031471,
     "end_time": "2022-12-05T16:48:32.907003",
     "exception": false,
     "start_time": "2022-12-05T16:48:32.875532",
     "status": "completed"
    },
    "tags": []
   },
   "outputs": [
    {
     "data": {
      "text/plain": [
       "PosixPath('/opt/data/projects/asthma-copd/results/gls_phenoplier/gene_corrs/asthma_only/by_chr/gene_corrs-chr5.pkl')"
      ]
     },
     "metadata": {},
     "output_type": "display_data"
    }
   ],
   "source": [
    "output_dir = OUTPUT_DIR_BASE / \"by_chr\"\n",
    "output_dir.mkdir(exist_ok=True, parents=True)\n",
    "output_file = output_dir / f\"gene_corrs-chr{CHROMOSOME}.pkl\"\n",
    "display(output_file)"
   ]
  },
  {
   "cell_type": "code",
   "execution_count": 23,
   "id": "aa674fe4-6794-4eed-98fa-32b39d1d4ace",
   "metadata": {
    "execution": {
     "iopub.execute_input": "2022-12-05T16:48:32.918766Z",
     "iopub.status.busy": "2022-12-05T16:48:32.918500Z",
     "iopub.status.idle": "2022-12-05T16:48:32.939939Z",
     "shell.execute_reply": "2022-12-05T16:48:32.939417Z"
    },
    "papermill": {
     "duration": 0.028323,
     "end_time": "2022-12-05T16:48:32.940913",
     "exception": false,
     "start_time": "2022-12-05T16:48:32.912590",
     "status": "completed"
    },
    "tags": []
   },
   "outputs": [],
   "source": [
    "warnings.filterwarnings(\"error\")"
   ]
  },
  {
   "cell_type": "code",
   "execution_count": 24,
   "id": "44d5450b-3baf-43f1-9e2e-4b06f1a785f8",
   "metadata": {
    "execution": {
     "iopub.execute_input": "2022-12-05T16:48:32.952984Z",
     "iopub.status.busy": "2022-12-05T16:48:32.952732Z",
     "iopub.status.idle": "2022-12-05T16:48:32.976114Z",
     "shell.execute_reply": "2022-12-05T16:48:32.975723Z"
    },
    "papermill": {
     "duration": 0.030524,
     "end_time": "2022-12-05T16:48:32.977066",
     "exception": false,
     "start_time": "2022-12-05T16:48:32.946542",
     "status": "completed"
    },
    "tags": []
   },
   "outputs": [],
   "source": [
    "# standard checks\n",
    "all_chrs = genes_info[\"chr\"].dropna().unique()\n",
    "assert all_chrs.shape[0] == 22\n",
    "\n",
    "# select chromosome given by the user\n",
    "assert CHROMOSOME in all_chrs"
   ]
  },
  {
   "cell_type": "code",
   "execution_count": 25,
   "id": "2d7c043c-92a7-4d35-991b-fa69ac1e0268",
   "metadata": {
    "execution": {
     "iopub.execute_input": "2022-12-05T16:48:32.988672Z",
     "iopub.status.busy": "2022-12-05T16:48:32.988549Z",
     "iopub.status.idle": "2022-12-05T16:48:33.006377Z",
     "shell.execute_reply": "2022-12-05T16:48:33.005983Z"
    },
    "papermill": {
     "duration": 0.024487,
     "end_time": "2022-12-05T16:48:33.007170",
     "exception": false,
     "start_time": "2022-12-05T16:48:32.982683",
     "status": "completed"
    },
    "tags": []
   },
   "outputs": [
    {
     "name": "stdout",
     "output_type": "stream",
     "text": [
      "Number of genes in chromosome: 305\n"
     ]
    }
   ],
   "source": [
    "# run only on the chromosome specified\n",
    "all_chrs = [CHROMOSOME]\n",
    "genes_chr = genes_info[genes_info[\"chr\"] == CHROMOSOME]\n",
    "\n",
    "# For testing purposes\n",
    "# genes_chr = genes_chr.sample(n=20)\n",
    "\n",
    "print(f\"Number of genes in chromosome: {genes_chr.shape[0]}\", flush=True)"
   ]
  },
  {
   "cell_type": "code",
   "execution_count": 26,
   "id": "916015d8-2979-46d3-a9b9-1cf5a0932c6a",
   "metadata": {
    "execution": {
     "iopub.execute_input": "2022-12-05T16:48:33.018522Z",
     "iopub.status.busy": "2022-12-05T16:48:33.018377Z",
     "iopub.status.idle": "2022-12-05T16:48:33.034054Z",
     "shell.execute_reply": "2022-12-05T16:48:33.033648Z"
    },
    "papermill": {
     "duration": 0.022368,
     "end_time": "2022-12-05T16:48:33.034985",
     "exception": false,
     "start_time": "2022-12-05T16:48:33.012617",
     "status": "completed"
    },
    "tags": []
   },
   "outputs": [],
   "source": [
    "# sort genes by starting position to make visualizations better later\n",
    "genes_chr = genes_chr.sort_values(\"start_position\")"
   ]
  },
  {
   "cell_type": "code",
   "execution_count": 27,
   "id": "a38aa74a-8ad3-47f6-8ef9-56be0e011774",
   "metadata": {
    "execution": {
     "iopub.execute_input": "2022-12-05T16:48:33.046653Z",
     "iopub.status.busy": "2022-12-05T16:48:33.046320Z",
     "iopub.status.idle": "2022-12-05T16:48:33.059717Z",
     "shell.execute_reply": "2022-12-05T16:48:33.059323Z"
    },
    "papermill": {
     "duration": 0.020063,
     "end_time": "2022-12-05T16:48:33.060596",
     "exception": false,
     "start_time": "2022-12-05T16:48:33.040533",
     "status": "completed"
    },
    "tags": []
   },
   "outputs": [],
   "source": [
    "gene_chr_objs = [Gene(ensembl_id=gene_id) for gene_id in genes_chr[\"id\"]]"
   ]
  },
  {
   "cell_type": "code",
   "execution_count": 28,
   "id": "570f974f-13c3-42b6-ad3a-ce99ca885c1a",
   "metadata": {
    "execution": {
     "iopub.execute_input": "2022-12-05T16:48:33.072510Z",
     "iopub.status.busy": "2022-12-05T16:48:33.072184Z",
     "iopub.status.idle": "2022-12-05T16:48:33.090051Z",
     "shell.execute_reply": "2022-12-05T16:48:33.089666Z"
    },
    "papermill": {
     "duration": 0.024667,
     "end_time": "2022-12-05T16:48:33.090822",
     "exception": false,
     "start_time": "2022-12-05T16:48:33.066155",
     "status": "completed"
    },
    "tags": []
   },
   "outputs": [
    {
     "name": "stdout",
     "output_type": "stream",
     "text": [
      "Number of gene combinations: 46665\n"
     ]
    }
   ],
   "source": [
    "n = len(gene_chr_objs)\n",
    "# diagonal elements + upper triangular matrix\n",
    "n_comb = n + int(n * (n - 1) / 2.0)\n",
    "print(f\"Number of gene combinations: {n_comb}\", flush=True)"
   ]
  },
  {
   "cell_type": "code",
   "execution_count": 29,
   "id": "cdbb90a1",
   "metadata": {
    "execution": {
     "iopub.execute_input": "2022-12-05T16:48:33.102684Z",
     "iopub.status.busy": "2022-12-05T16:48:33.102474Z",
     "iopub.status.idle": "2022-12-05T16:52:26.468571Z",
     "shell.execute_reply": "2022-12-05T16:52:26.468125Z"
    },
    "papermill": {
     "duration": 233.37321,
     "end_time": "2022-12-05T16:52:26.469663",
     "exception": false,
     "start_time": "2022-12-05T16:48:33.096453",
     "status": "completed"
    },
    "tags": []
   },
   "outputs": [
    {
     "name": "stderr",
     "output_type": "stream",
     "text": [
      "ENSG00000165810 / ENSG00000165810: 100%|█████████████████████| 46665/46665 [03:53<00:00, 200.01it/s]\n"
     ]
    },
    {
     "data": {
      "text/plain": [
       "PosixPath('/opt/data/projects/asthma-copd/results/gls_phenoplier/gene_corrs/asthma_only/by_chr/gene_corrs-chr5.pkl')"
      ]
     },
     "metadata": {},
     "output_type": "display_data"
    }
   ],
   "source": [
    "gene_corrs = []\n",
    "gene_corrs_data = np.full(\n",
    "    (n, n),\n",
    "    np.nan,\n",
    "    dtype=np.float64,\n",
    ")\n",
    "\n",
    "i = 0\n",
    "with tqdm(ncols=100, total=n_comb) as pbar:\n",
    "    for gene1_idx in range(0, len(gene_chr_objs)):\n",
    "        gene1_obj = gene_chr_objs[gene1_idx]\n",
    "        gene1_tissues = spredixcan_genes_models.loc[gene1_obj.ensembl_id, \"tissue\"]\n",
    "\n",
    "        for gene2_idx in range(gene1_idx, len(gene_chr_objs)):\n",
    "            gene2_obj = gene_chr_objs[gene2_idx]\n",
    "            gene2_tissues = spredixcan_genes_models.loc[gene2_obj.ensembl_id, \"tissue\"]\n",
    "\n",
    "            pbar.set_description(f\"{gene1_obj.ensembl_id} / {gene2_obj.ensembl_id}\")\n",
    "\n",
    "            try:\n",
    "                r = gene1_obj.get_ssm_correlation(\n",
    "                    other_gene=gene2_obj,\n",
    "                    tissues=gene1_tissues,\n",
    "                    other_tissues=gene2_tissues,\n",
    "                    snps_subset=gwas_variants_ids_set,\n",
    "                    condition_number=SMULTIXCAN_CONDITION_NUMBER,\n",
    "                    reference_panel=REFERENCE_PANEL,\n",
    "                    model_type=EQTL_MODEL,\n",
    "                    use_within_distance=COMPUTE_CORRELATIONS_WITHIN_DISTANCE,\n",
    "                )\n",
    "\n",
    "                if r is None:\n",
    "                    # if r is None, it's very likely because:\n",
    "                    #  * one of the genes has no prediction models\n",
    "                    #  * all the SNPs predictors for the gene are not present in the reference\n",
    "                    #    panel\n",
    "\n",
    "                    r = 0.0\n",
    "\n",
    "                gene_corrs.append(r)\n",
    "\n",
    "                gene_corrs_data[gene1_idx, gene2_idx] = r\n",
    "                gene_corrs_data[gene2_idx, gene1_idx] = r\n",
    "            except Warning as e:\n",
    "                if not DEBUG_MODE:\n",
    "                    raise e\n",
    "\n",
    "                print(\n",
    "                    f\"RuntimeWarning for genes {gene1_obj.ensembl_id} and {gene2_obj.ensembl_id}\",\n",
    "                    flush=True,\n",
    "                )\n",
    "                print(traceback.format_exc(), flush=True)\n",
    "\n",
    "                gene_corrs.append(np.nan)\n",
    "            except Exception as e:\n",
    "                if not DEBUG_MODE:\n",
    "                    raise e\n",
    "\n",
    "                print(\n",
    "                    f\"Exception for genes {gene1_obj.ensembl_id} and {gene2_obj.ensembl_id}\",\n",
    "                    flush=True,\n",
    "                )\n",
    "                print(traceback.format_exc(), flush=True)\n",
    "\n",
    "                gene_corrs.append(np.nan)\n",
    "\n",
    "            pbar.update(1)\n",
    "\n",
    "# create a pandas series\n",
    "gene_corrs_flat = pd.Series(gene_corrs)\n",
    "\n",
    "# save\n",
    "# FIXME: consider saving only the condenced matrix here. See here for\n",
    "# more details: https://github.com/greenelab/phenoplier/pull/38#discussion_r634600813\n",
    "# gene_corrs_data = squareform(np.array(gene_corrs, dtype=np.float64))\n",
    "# np.fill_diagonal(gene_corrs_data, 1.0)\n",
    "\n",
    "gene_chr_ids = [g.ensembl_id for g in gene_chr_objs]\n",
    "gene_corrs_df = pd.DataFrame(\n",
    "    data=gene_corrs_data,\n",
    "    index=gene_chr_ids,\n",
    "    columns=gene_chr_ids,\n",
    ")\n",
    "\n",
    "output_dir.mkdir(exist_ok=True, parents=True)\n",
    "display(output_file)\n",
    "\n",
    "gene_corrs_df.to_pickle(output_file)"
   ]
  },
  {
   "cell_type": "markdown",
   "id": "faa67b51-5373-470f-aa72-2ded53fa6dfe",
   "metadata": {
    "papermill": {
     "duration": 1.424261,
     "end_time": "2022-12-05T16:52:29.401878",
     "exception": false,
     "start_time": "2022-12-05T16:52:27.977617",
     "status": "completed"
    },
    "tags": []
   },
   "source": [
    "# Testing"
   ]
  },
  {
   "cell_type": "code",
   "execution_count": 30,
   "id": "14f7d046-4b55-4896-a56b-990127bcc388",
   "metadata": {
    "execution": {
     "iopub.execute_input": "2022-12-05T16:52:32.394906Z",
     "iopub.status.busy": "2022-12-05T16:52:32.394561Z",
     "iopub.status.idle": "2022-12-05T16:52:32.411713Z",
     "shell.execute_reply": "2022-12-05T16:52:32.411244Z"
    },
    "papermill": {
     "duration": 1.588229,
     "end_time": "2022-12-05T16:52:32.412969",
     "exception": false,
     "start_time": "2022-12-05T16:52:30.824740",
     "status": "completed"
    },
    "tags": []
   },
   "outputs": [
    {
     "data": {
      "text/plain": [
       "(305, 305)"
      ]
     },
     "execution_count": 30,
     "metadata": {},
     "output_type": "execute_result"
    }
   ],
   "source": [
    "gene_corrs_df.shape"
   ]
  },
  {
   "cell_type": "code",
   "execution_count": 31,
   "id": "c7d15414-3297-4537-a7c6-7588c0baeb75",
   "metadata": {
    "execution": {
     "iopub.execute_input": "2022-12-05T16:52:35.359578Z",
     "iopub.status.busy": "2022-12-05T16:52:35.359160Z",
     "iopub.status.idle": "2022-12-05T16:52:35.399746Z",
     "shell.execute_reply": "2022-12-05T16:52:35.399198Z"
    },
    "papermill": {
     "duration": 1.475526,
     "end_time": "2022-12-05T16:52:35.400657",
     "exception": false,
     "start_time": "2022-12-05T16:52:33.925131",
     "status": "completed"
    },
    "tags": []
   },
   "outputs": [
    {
     "data": {
      "text/html": [
       "<div>\n",
       "<style scoped>\n",
       "    .dataframe tbody tr th:only-of-type {\n",
       "        vertical-align: middle;\n",
       "    }\n",
       "\n",
       "    .dataframe tbody tr th {\n",
       "        vertical-align: top;\n",
       "    }\n",
       "\n",
       "    .dataframe thead th {\n",
       "        text-align: right;\n",
       "    }\n",
       "</style>\n",
       "<table border=\"1\" class=\"dataframe\">\n",
       "  <thead>\n",
       "    <tr style=\"text-align: right;\">\n",
       "      <th></th>\n",
       "      <th>ENSG00000073578</th>\n",
       "      <th>ENSG00000180104</th>\n",
       "      <th>ENSG00000066230</th>\n",
       "      <th>ENSG00000112877</th>\n",
       "      <th>ENSG00000113504</th>\n",
       "      <th>ENSG00000174358</th>\n",
       "      <th>ENSG00000164362</th>\n",
       "      <th>ENSG00000049656</th>\n",
       "      <th>ENSG00000153395</th>\n",
       "      <th>ENSG00000171421</th>\n",
       "      <th>...</th>\n",
       "      <th>ENSG00000161021</th>\n",
       "      <th>ENSG00000161013</th>\n",
       "      <th>ENSG00000161011</th>\n",
       "      <th>ENSG00000050748</th>\n",
       "      <th>ENSG00000131459</th>\n",
       "      <th>ENSG00000113300</th>\n",
       "      <th>ENSG00000037280</th>\n",
       "      <th>ENSG00000131446</th>\n",
       "      <th>ENSG00000113303</th>\n",
       "      <th>ENSG00000165810</th>\n",
       "    </tr>\n",
       "  </thead>\n",
       "  <tbody>\n",
       "    <tr>\n",
       "      <th>ENSG00000073578</th>\n",
       "      <td>1.000000</td>\n",
       "      <td>0.240815</td>\n",
       "      <td>0.161150</td>\n",
       "      <td>0.049611</td>\n",
       "      <td>0.015151</td>\n",
       "      <td>0.011679</td>\n",
       "      <td>0.008640</td>\n",
       "      <td>0.010104</td>\n",
       "      <td>0.012698</td>\n",
       "      <td>0.008122</td>\n",
       "      <td>...</td>\n",
       "      <td>0.0</td>\n",
       "      <td>0.0</td>\n",
       "      <td>0.0</td>\n",
       "      <td>0.0</td>\n",
       "      <td>0.0</td>\n",
       "      <td>0.0</td>\n",
       "      <td>0.0</td>\n",
       "      <td>0.0</td>\n",
       "      <td>0.0</td>\n",
       "      <td>0.0</td>\n",
       "    </tr>\n",
       "    <tr>\n",
       "      <th>ENSG00000180104</th>\n",
       "      <td>0.240815</td>\n",
       "      <td>1.000000</td>\n",
       "      <td>0.394044</td>\n",
       "      <td>0.092476</td>\n",
       "      <td>0.006065</td>\n",
       "      <td>0.010590</td>\n",
       "      <td>0.007414</td>\n",
       "      <td>0.004419</td>\n",
       "      <td>0.004101</td>\n",
       "      <td>0.006108</td>\n",
       "      <td>...</td>\n",
       "      <td>0.0</td>\n",
       "      <td>0.0</td>\n",
       "      <td>0.0</td>\n",
       "      <td>0.0</td>\n",
       "      <td>0.0</td>\n",
       "      <td>0.0</td>\n",
       "      <td>0.0</td>\n",
       "      <td>0.0</td>\n",
       "      <td>0.0</td>\n",
       "      <td>0.0</td>\n",
       "    </tr>\n",
       "    <tr>\n",
       "      <th>ENSG00000066230</th>\n",
       "      <td>0.161150</td>\n",
       "      <td>0.394044</td>\n",
       "      <td>1.000000</td>\n",
       "      <td>0.216369</td>\n",
       "      <td>0.012961</td>\n",
       "      <td>0.008745</td>\n",
       "      <td>0.006762</td>\n",
       "      <td>0.009393</td>\n",
       "      <td>0.012246</td>\n",
       "      <td>0.008238</td>\n",
       "      <td>...</td>\n",
       "      <td>0.0</td>\n",
       "      <td>0.0</td>\n",
       "      <td>0.0</td>\n",
       "      <td>0.0</td>\n",
       "      <td>0.0</td>\n",
       "      <td>0.0</td>\n",
       "      <td>0.0</td>\n",
       "      <td>0.0</td>\n",
       "      <td>0.0</td>\n",
       "      <td>0.0</td>\n",
       "    </tr>\n",
       "    <tr>\n",
       "      <th>ENSG00000112877</th>\n",
       "      <td>0.049611</td>\n",
       "      <td>0.092476</td>\n",
       "      <td>0.216369</td>\n",
       "      <td>1.000000</td>\n",
       "      <td>0.021994</td>\n",
       "      <td>0.007444</td>\n",
       "      <td>0.007431</td>\n",
       "      <td>0.008093</td>\n",
       "      <td>0.011573</td>\n",
       "      <td>0.003085</td>\n",
       "      <td>...</td>\n",
       "      <td>0.0</td>\n",
       "      <td>0.0</td>\n",
       "      <td>0.0</td>\n",
       "      <td>0.0</td>\n",
       "      <td>0.0</td>\n",
       "      <td>0.0</td>\n",
       "      <td>0.0</td>\n",
       "      <td>0.0</td>\n",
       "      <td>0.0</td>\n",
       "      <td>0.0</td>\n",
       "    </tr>\n",
       "    <tr>\n",
       "      <th>ENSG00000113504</th>\n",
       "      <td>0.015151</td>\n",
       "      <td>0.006065</td>\n",
       "      <td>0.012961</td>\n",
       "      <td>0.021994</td>\n",
       "      <td>1.000000</td>\n",
       "      <td>0.023247</td>\n",
       "      <td>0.009773</td>\n",
       "      <td>0.008319</td>\n",
       "      <td>0.114610</td>\n",
       "      <td>0.008152</td>\n",
       "      <td>...</td>\n",
       "      <td>0.0</td>\n",
       "      <td>0.0</td>\n",
       "      <td>0.0</td>\n",
       "      <td>0.0</td>\n",
       "      <td>0.0</td>\n",
       "      <td>0.0</td>\n",
       "      <td>0.0</td>\n",
       "      <td>0.0</td>\n",
       "      <td>0.0</td>\n",
       "      <td>0.0</td>\n",
       "    </tr>\n",
       "  </tbody>\n",
       "</table>\n",
       "<p>5 rows × 305 columns</p>\n",
       "</div>"
      ],
      "text/plain": [
       "                 ENSG00000073578  ENSG00000180104  ENSG00000066230  \\\n",
       "ENSG00000073578         1.000000         0.240815         0.161150   \n",
       "ENSG00000180104         0.240815         1.000000         0.394044   \n",
       "ENSG00000066230         0.161150         0.394044         1.000000   \n",
       "ENSG00000112877         0.049611         0.092476         0.216369   \n",
       "ENSG00000113504         0.015151         0.006065         0.012961   \n",
       "\n",
       "                 ENSG00000112877  ENSG00000113504  ENSG00000174358  \\\n",
       "ENSG00000073578         0.049611         0.015151         0.011679   \n",
       "ENSG00000180104         0.092476         0.006065         0.010590   \n",
       "ENSG00000066230         0.216369         0.012961         0.008745   \n",
       "ENSG00000112877         1.000000         0.021994         0.007444   \n",
       "ENSG00000113504         0.021994         1.000000         0.023247   \n",
       "\n",
       "                 ENSG00000164362  ENSG00000049656  ENSG00000153395  \\\n",
       "ENSG00000073578         0.008640         0.010104         0.012698   \n",
       "ENSG00000180104         0.007414         0.004419         0.004101   \n",
       "ENSG00000066230         0.006762         0.009393         0.012246   \n",
       "ENSG00000112877         0.007431         0.008093         0.011573   \n",
       "ENSG00000113504         0.009773         0.008319         0.114610   \n",
       "\n",
       "                 ENSG00000171421  ...  ENSG00000161021  ENSG00000161013  \\\n",
       "ENSG00000073578         0.008122  ...              0.0              0.0   \n",
       "ENSG00000180104         0.006108  ...              0.0              0.0   \n",
       "ENSG00000066230         0.008238  ...              0.0              0.0   \n",
       "ENSG00000112877         0.003085  ...              0.0              0.0   \n",
       "ENSG00000113504         0.008152  ...              0.0              0.0   \n",
       "\n",
       "                 ENSG00000161011  ENSG00000050748  ENSG00000131459  \\\n",
       "ENSG00000073578              0.0              0.0              0.0   \n",
       "ENSG00000180104              0.0              0.0              0.0   \n",
       "ENSG00000066230              0.0              0.0              0.0   \n",
       "ENSG00000112877              0.0              0.0              0.0   \n",
       "ENSG00000113504              0.0              0.0              0.0   \n",
       "\n",
       "                 ENSG00000113300  ENSG00000037280  ENSG00000131446  \\\n",
       "ENSG00000073578              0.0              0.0              0.0   \n",
       "ENSG00000180104              0.0              0.0              0.0   \n",
       "ENSG00000066230              0.0              0.0              0.0   \n",
       "ENSG00000112877              0.0              0.0              0.0   \n",
       "ENSG00000113504              0.0              0.0              0.0   \n",
       "\n",
       "                 ENSG00000113303  ENSG00000165810  \n",
       "ENSG00000073578              0.0              0.0  \n",
       "ENSG00000180104              0.0              0.0  \n",
       "ENSG00000066230              0.0              0.0  \n",
       "ENSG00000112877              0.0              0.0  \n",
       "ENSG00000113504              0.0              0.0  \n",
       "\n",
       "[5 rows x 305 columns]"
      ]
     },
     "execution_count": 31,
     "metadata": {},
     "output_type": "execute_result"
    }
   ],
   "source": [
    "gene_corrs_df.head()"
   ]
  },
  {
   "cell_type": "markdown",
   "id": "dad6603f-01c6-41fb-a6f6-241051207dd8",
   "metadata": {
    "papermill": {
     "duration": 1.427658,
     "end_time": "2022-12-05T16:52:38.193057",
     "exception": false,
     "start_time": "2022-12-05T16:52:36.765399",
     "status": "completed"
    },
    "tags": []
   },
   "source": [
    "## Standard checks and stats"
   ]
  },
  {
   "cell_type": "code",
   "execution_count": 32,
   "id": "286686af-1b7b-4440-8453-6bdcbd8de19c",
   "metadata": {
    "execution": {
     "iopub.execute_input": "2022-12-05T16:52:41.011710Z",
     "iopub.status.busy": "2022-12-05T16:52:41.011275Z",
     "iopub.status.idle": "2022-12-05T16:52:41.027396Z",
     "shell.execute_reply": "2022-12-05T16:52:41.027057Z"
    },
    "papermill": {
     "duration": 1.390793,
     "end_time": "2022-12-05T16:52:41.028505",
     "exception": false,
     "start_time": "2022-12-05T16:52:39.637712",
     "status": "completed"
    },
    "tags": []
   },
   "outputs": [],
   "source": [
    "assert not gene_corrs_df.isna().any(axis=None)"
   ]
  },
  {
   "cell_type": "code",
   "execution_count": 33,
   "id": "00583efc-7068-4270-ad1e-4a418e91db96",
   "metadata": {
    "execution": {
     "iopub.execute_input": "2022-12-05T16:52:43.951228Z",
     "iopub.status.busy": "2022-12-05T16:52:43.950606Z",
     "iopub.status.idle": "2022-12-05T16:52:43.976100Z",
     "shell.execute_reply": "2022-12-05T16:52:43.975422Z"
    },
    "papermill": {
     "duration": 1.477092,
     "end_time": "2022-12-05T16:52:43.977063",
     "exception": false,
     "start_time": "2022-12-05T16:52:42.499971",
     "status": "completed"
    },
    "tags": []
   },
   "outputs": [
    {
     "data": {
      "text/plain": [
       "0.0"
      ]
     },
     "metadata": {},
     "output_type": "display_data"
    }
   ],
   "source": [
    "_min_val = gene_corrs_df.min().min()\n",
    "display(_min_val)\n",
    "assert _min_val >= -0.05"
   ]
  },
  {
   "cell_type": "code",
   "execution_count": 34,
   "id": "d04fb2cf-1050-475b-b855-f5f7cc04092b",
   "metadata": {
    "execution": {
     "iopub.execute_input": "2022-12-05T16:52:46.980139Z",
     "iopub.status.busy": "2022-12-05T16:52:46.979644Z",
     "iopub.status.idle": "2022-12-05T16:52:47.004822Z",
     "shell.execute_reply": "2022-12-05T16:52:47.004093Z"
    },
    "papermill": {
     "duration": 1.549943,
     "end_time": "2022-12-05T16:52:47.006082",
     "exception": false,
     "start_time": "2022-12-05T16:52:45.456139",
     "status": "completed"
    },
    "tags": []
   },
   "outputs": [
    {
     "data": {
      "text/plain": [
       "1.0000000000000033"
      ]
     },
     "metadata": {},
     "output_type": "display_data"
    }
   ],
   "source": [
    "_max_val = gene_corrs_df.max().max()  # this captures the diagonal\n",
    "display(_max_val)\n",
    "assert _max_val <= 1.05"
   ]
  },
  {
   "cell_type": "code",
   "execution_count": 35,
   "id": "fe283586-c348-40e0-8841-f6d97bfb021c",
   "metadata": {
    "execution": {
     "iopub.execute_input": "2022-12-05T16:52:49.872350Z",
     "iopub.status.busy": "2022-12-05T16:52:49.871994Z",
     "iopub.status.idle": "2022-12-05T16:52:49.896164Z",
     "shell.execute_reply": "2022-12-05T16:52:49.895675Z"
    },
    "papermill": {
     "duration": 1.479699,
     "end_time": "2022-12-05T16:52:49.897003",
     "exception": false,
     "start_time": "2022-12-05T16:52:48.417304",
     "status": "completed"
    },
    "tags": []
   },
   "outputs": [
    {
     "data": {
      "text/plain": [
       "count    46665.000000\n",
       "mean         0.009107\n",
       "std          0.085836\n",
       "min          0.000000\n",
       "25%          0.000000\n",
       "50%          0.000000\n",
       "75%          0.000000\n",
       "max          1.000000\n",
       "dtype: float64"
      ]
     },
     "execution_count": 35,
     "metadata": {},
     "output_type": "execute_result"
    }
   ],
   "source": [
    "gene_corrs_flat.describe()"
   ]
  },
  {
   "cell_type": "code",
   "execution_count": 36,
   "id": "b3815678-0f93-4b35-897b-a9d047a2aa78",
   "metadata": {
    "execution": {
     "iopub.execute_input": "2022-12-05T16:52:52.652465Z",
     "iopub.status.busy": "2022-12-05T16:52:52.652013Z",
     "iopub.status.idle": "2022-12-05T16:52:52.679637Z",
     "shell.execute_reply": "2022-12-05T16:52:52.679101Z"
    },
    "papermill": {
     "duration": 1.382096,
     "end_time": "2022-12-05T16:52:52.680469",
     "exception": false,
     "start_time": "2022-12-05T16:52:51.298373",
     "status": "completed"
    },
    "tags": []
   },
   "outputs": [
    {
     "data": {
      "text/plain": [
       "0.00    0.000000\n",
       "0.05    0.000000\n",
       "0.10    0.000000\n",
       "0.15    0.000000\n",
       "0.20    0.000000\n",
       "0.25    0.000000\n",
       "0.30    0.000000\n",
       "0.35    0.000000\n",
       "0.40    0.000000\n",
       "0.45    0.000000\n",
       "0.50    0.000000\n",
       "0.55    0.000000\n",
       "0.60    0.000000\n",
       "0.65    0.000000\n",
       "0.70    0.000000\n",
       "0.75    0.000000\n",
       "0.80    0.000000\n",
       "0.85    0.000000\n",
       "0.90    0.000000\n",
       "0.95    0.006342\n",
       "dtype: float64"
      ]
     },
     "metadata": {},
     "output_type": "display_data"
    }
   ],
   "source": [
    "gene_corrs_quantiles = gene_corrs_flat.quantile(np.arange(0, 1, 0.05))\n",
    "display(gene_corrs_quantiles)"
   ]
  },
  {
   "cell_type": "markdown",
   "id": "87134509-b145-4a10-8bc9-b7e914c2b0fa",
   "metadata": {
    "papermill": {
     "duration": 1.402114,
     "end_time": "2022-12-05T16:52:55.564347",
     "exception": false,
     "start_time": "2022-12-05T16:52:54.162233",
     "status": "completed"
    },
    "tags": []
   },
   "source": [
    "## Positive definiteness"
   ]
  },
  {
   "cell_type": "code",
   "execution_count": 37,
   "id": "07d9a9a1-a4f7-48aa-b916-6d42a8cc6186",
   "metadata": {
    "execution": {
     "iopub.execute_input": "2022-12-05T16:52:58.394792Z",
     "iopub.status.busy": "2022-12-05T16:52:58.394486Z",
     "iopub.status.idle": "2022-12-05T16:52:58.437315Z",
     "shell.execute_reply": "2022-12-05T16:52:58.436823Z"
    },
    "papermill": {
     "duration": 1.454516,
     "end_time": "2022-12-05T16:52:58.438151",
     "exception": false,
     "start_time": "2022-12-05T16:52:56.983635",
     "status": "completed"
    },
    "tags": []
   },
   "outputs": [
    {
     "data": {
      "text/plain": [
       "0"
      ]
     },
     "metadata": {},
     "output_type": "display_data"
    },
    {
     "data": {
      "text/plain": [
       "array([], dtype=float64)"
      ]
     },
     "metadata": {},
     "output_type": "display_data"
    }
   ],
   "source": [
    "# print negative eigenvalues\n",
    "eigs = np.linalg.eigvals(gene_corrs_df.to_numpy())\n",
    "display(len(eigs[eigs < 0]))\n",
    "display(eigs[eigs < 0])"
   ]
  },
  {
   "cell_type": "code",
   "execution_count": 38,
   "id": "6e218436-c3c5-4028-8c94-a4fa6260efce",
   "metadata": {
    "execution": {
     "iopub.execute_input": "2022-12-05T16:53:01.203355Z",
     "iopub.status.busy": "2022-12-05T16:53:01.202895Z",
     "iopub.status.idle": "2022-12-05T16:53:01.235687Z",
     "shell.execute_reply": "2022-12-05T16:53:01.235079Z"
    },
    "papermill": {
     "duration": 1.440983,
     "end_time": "2022-12-05T16:53:01.236561",
     "exception": false,
     "start_time": "2022-12-05T16:52:59.795578",
     "status": "completed"
    },
    "tags": []
   },
   "outputs": [
    {
     "name": "stdout",
     "output_type": "stream",
     "text": [
      "Works!\n"
     ]
    }
   ],
   "source": [
    "try:\n",
    "    chol_mat = np.linalg.cholesky(gene_corrs_df.to_numpy())\n",
    "    cov_inv = np.linalg.inv(chol_mat)\n",
    "    print(\"Works!\")\n",
    "except Exception as e:\n",
    "    print(f\"Cholesky decomposition failed: {str(e)}\")"
   ]
  },
  {
   "cell_type": "code",
   "execution_count": 39,
   "id": "dd8827fb-faf9-4c7c-9454-015e94752706",
   "metadata": {
    "execution": {
     "iopub.execute_input": "2022-12-05T16:53:04.046471Z",
     "iopub.status.busy": "2022-12-05T16:53:04.046132Z",
     "iopub.status.idle": "2022-12-05T16:53:04.071338Z",
     "shell.execute_reply": "2022-12-05T16:53:04.070850Z"
    },
    "papermill": {
     "duration": 1.393993,
     "end_time": "2022-12-05T16:53:04.072135",
     "exception": false,
     "start_time": "2022-12-05T16:53:02.678142",
     "status": "completed"
    },
    "tags": []
   },
   "outputs": [
    {
     "name": "stdout",
     "output_type": "stream",
     "text": [
      "Works!\n"
     ]
    }
   ],
   "source": [
    "try:\n",
    "    # decomposition used by statsmodels.GLS\n",
    "    cholsigmainv = np.linalg.cholesky(np.linalg.inv(gene_corrs_df.to_numpy())).T\n",
    "    print(\"Works!\")\n",
    "except Exception as e:\n",
    "    print(f\"Cholesky decomposition failed (statsmodels.GLS): {str(e)}\")"
   ]
  },
  {
   "cell_type": "markdown",
   "id": "8e60a080-edb2-4e9c-b2ef-22961693200c",
   "metadata": {
    "papermill": {
     "duration": 1.420497,
     "end_time": "2022-12-05T16:53:06.917485",
     "exception": false,
     "start_time": "2022-12-05T16:53:05.496988",
     "status": "completed"
    },
    "tags": []
   },
   "source": [
    "## Plot: distribution"
   ]
  },
  {
   "cell_type": "code",
   "execution_count": 40,
   "id": "8301126b-a7d4-4744-9c7d-f0f86eb6f54c",
   "metadata": {
    "execution": {
     "iopub.execute_input": "2022-12-05T16:53:09.810886Z",
     "iopub.status.busy": "2022-12-05T16:53:09.810343Z",
     "iopub.status.idle": "2022-12-05T16:53:10.175278Z",
     "shell.execute_reply": "2022-12-05T16:53:10.174863Z"
    },
    "papermill": {
     "duration": 1.807458,
     "end_time": "2022-12-05T16:53:10.177347",
     "exception": false,
     "start_time": "2022-12-05T16:53:08.369889",
     "status": "completed"
    },
    "tags": []
   },
   "outputs": [
    {
     "data": {
      "image/png": "[encoded data removed]",
      "text/plain": [
       "<Figure size 700x700 with 1 Axes>"
      ]
     },
     "metadata": {},
     "output_type": "display_data"
    }
   ],
   "source": [
    "with sns.plotting_context(\"paper\", font_scale=1.5):\n",
    "    g = sns.displot(gene_corrs_flat, kde=True, height=7)\n",
    "    g.ax.set_title(\n",
    "        f\"Distribution of gene correlation values in chromosome {CHROMOSOME}\"\n",
    "    )"
   ]
  },
  {
   "cell_type": "markdown",
   "id": "cbd52bca-d878-4a2f-b684-5c83aa3038d4",
   "metadata": {
    "papermill": {
     "duration": 1.446411,
     "end_time": "2022-12-05T16:53:13.030194",
     "exception": false,
     "start_time": "2022-12-05T16:53:11.583783",
     "status": "completed"
    },
    "tags": []
   },
   "source": [
    "## Plot: heatmap"
   ]
  },
  {
   "cell_type": "code",
   "execution_count": 41,
   "id": "d03fe63a-c7b2-4fb9-a53c-db362ce843c9",
   "metadata": {
    "execution": {
     "iopub.execute_input": "2022-12-05T16:53:15.939447Z",
     "iopub.status.busy": "2022-12-05T16:53:15.939052Z",
     "iopub.status.idle": "2022-12-05T16:53:15.960637Z",
     "shell.execute_reply": "2022-12-05T16:53:15.960052Z"
    },
    "papermill": {
     "duration": 1.410959,
     "end_time": "2022-12-05T16:53:15.961598",
     "exception": false,
     "start_time": "2022-12-05T16:53:14.550639",
     "status": "completed"
    },
    "tags": []
   },
   "outputs": [
    {
     "data": {
      "text/plain": [
       "'0.0 / 0.05'"
      ]
     },
     "metadata": {},
     "output_type": "display_data"
    }
   ],
   "source": [
    "vmin_val = min(0.00, gene_corrs_quantiles[0.10])\n",
    "vmax_val = max(0.05, gene_corrs_quantiles[0.90])\n",
    "display(f\"{vmin_val} / {vmax_val}\")"
   ]
  },
  {
   "cell_type": "code",
   "execution_count": 42,
   "id": "dc41b70b-5bcc-4d9e-9f33-a22c4a94dab5",
   "metadata": {
    "execution": {
     "iopub.execute_input": "2022-12-05T16:53:18.824362Z",
     "iopub.status.busy": "2022-12-05T16:53:18.823899Z",
     "iopub.status.idle": "2022-12-05T16:53:19.064508Z",
     "shell.execute_reply": "2022-12-05T16:53:19.064022Z"
    },
    "papermill": {
     "duration": 1.675125,
     "end_time": "2022-12-05T16:53:19.066210",
     "exception": false,
     "start_time": "2022-12-05T16:53:17.391085",
     "status": "completed"
    },
    "tags": []
   },
   "outputs": [
    {
     "data": {
      "text/plain": [
       "Text(0.5, 1.0, 'Gene correlations in chromosome 5')"
      ]
     },
     "execution_count": 42,
     "metadata": {},
     "output_type": "execute_result"
    },
    {
     "data": {
      "image/png": "[encoded data removed]",
      "text/plain": [
       "<Figure size 1000x1000 with 2 Axes>"
      ]
     },
     "metadata": {},
     "output_type": "display_data"
    }
   ],
   "source": [
    "f, ax = plt.subplots(figsize=(10, 10))\n",
    "sns.heatmap(\n",
    "    gene_corrs_df,\n",
    "    xticklabels=False,\n",
    "    yticklabels=False,\n",
    "    square=True,\n",
    "    vmin=vmin_val,\n",
    "    vmax=vmax_val,\n",
    "    cmap=\"rocket_r\",\n",
    "    ax=ax,\n",
    ")\n",
    "ax.set_title(f\"Gene correlations in chromosome {CHROMOSOME}\")"
   ]
  },
  {
   "cell_type": "code",
   "execution_count": null,
   "id": "b25e3ead",
   "metadata": {
    "papermill": {
     "duration": 1.474171,
     "end_time": "2022-12-05T16:53:22.017309",
     "exception": false,
     "start_time": "2022-12-05T16:53:20.543138",
     "status": "completed"
    },
    "tags": []
   },
   "outputs": [],
   "source": []
  }
 ],
 "metadata": {
  "jupytext": {
   "cell_metadata_filter": "all,-execution,-papermill,-trusted",
   "formats": "ipynb,py//py:percent"
  },
  "kernelspec": {
   "display_name": "Python 3 (ipykernel)",
   "language": "python",
   "name": "python3"
  },
  "language_info": {
   "codemirror_mode": {
    "name": "ipython",
    "version": 3
   },
   "file_extension": ".py",
   "mimetype": "text/x-python",
   "name": "python",
   "nbconvert_exporter": "python",
   "pygments_lexer": "ipython3",
   "version": "3.10.6"
  },
  "papermill": {
   "default_parameters": {},
   "duration": 299.498819,
   "end_time": "2022-12-05T16:53:26.190284",
   "environment_variables": {},
   "exception": null,
   "input_path": "projects/asthma-copd/nbs/20_gene_corrs/jobs/05-gene_expr_correlations.ipynb",
   "output_path": "projects/asthma-copd/nbs/20_gene_corrs/jobs/../output/asthma_only/05-gene_expr_correlations-chr5.run.ipynb",
   "parameters": {
    "CHROMOSOME": 5,
    "COHORT_NAME": "asthma_only",
    "OUTPUT_DIR_BASE": "/opt/data/projects/asthma-copd/results/gls_phenoplier",
    "PHENOPLIER_NOTEBOOK_FILEPATH": "projects/asthma-copd/nbs/20_gene_corrs/jobs/05-gene_expr_correlations.ipynb"
   },
   "start_time": "2022-12-05T16:48:26.691465",
   "version": "2.2.2"
  }
 },
 "nbformat": 4,
 "nbformat_minor": 5
}
