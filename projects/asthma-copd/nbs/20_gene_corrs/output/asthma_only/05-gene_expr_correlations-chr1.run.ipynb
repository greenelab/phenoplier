{
 "cells": [
  {
   "cell_type": "markdown",
   "id": "7a6632fb",
   "metadata": {
    "papermill": {
     "duration": 0.008677,
     "end_time": "2022-12-15T17:49:22.956649",
     "exception": false,
     "start_time": "2022-12-15T17:49:22.947972",
     "status": "completed"
    },
    "tags": []
   },
   "source": [
    "# Description"
   ]
  },
  {
   "cell_type": "markdown",
   "id": "7097c346",
   "metadata": {
    "papermill": {
     "duration": 0.007622,
     "end_time": "2022-12-15T17:49:22.972341",
     "exception": false,
     "start_time": "2022-12-15T17:49:22.964719",
     "status": "completed"
    },
    "tags": []
   },
   "source": [
    "(Please, take a look at the README.md file in this directory for instructions on how to run this notebook)\n",
    "\n",
    "This notebook computes predicted expression correlations between all genes in the MultiPLIER models.\n",
    "\n",
    "It has specicfic parameters for papermill (see under `Settings` below).\n",
    "It can be configured to run on a single chromosome to run in parallel.\n",
    "\n",
    "This notebook is not directly run. See README.md."
   ]
  },
  {
   "cell_type": "markdown",
   "id": "c61d8427",
   "metadata": {
    "papermill": {
     "duration": 0.007599,
     "end_time": "2022-12-15T17:49:22.987635",
     "exception": false,
     "start_time": "2022-12-15T17:49:22.980036",
     "status": "completed"
    },
    "tags": []
   },
   "source": [
    "# Modules"
   ]
  },
  {
   "cell_type": "code",
   "execution_count": 1,
   "id": "bbc0234f",
   "metadata": {
    "execution": {
     "iopub.execute_input": "2022-12-15T17:49:23.005518Z",
     "iopub.status.busy": "2022-12-15T17:49:23.005058Z",
     "iopub.status.idle": "2022-12-15T17:49:23.025166Z",
     "shell.execute_reply": "2022-12-15T17:49:23.024481Z"
    },
    "papermill": {
     "duration": 0.031043,
     "end_time": "2022-12-15T17:49:23.027089",
     "exception": false,
     "start_time": "2022-12-15T17:49:22.996046",
     "status": "completed"
    },
    "tags": []
   },
   "outputs": [],
   "source": [
    "%load_ext autoreload\n",
    "%autoreload 2"
   ]
  },
  {
   "cell_type": "code",
   "execution_count": 2,
   "id": "1d5f5a59",
   "metadata": {
    "execution": {
     "iopub.execute_input": "2022-12-15T17:49:23.049153Z",
     "iopub.status.busy": "2022-12-15T17:49:23.048704Z",
     "iopub.status.idle": "2022-12-15T17:49:23.930725Z",
     "shell.execute_reply": "2022-12-15T17:49:23.930167Z"
    },
    "papermill": {
     "duration": 0.895835,
     "end_time": "2022-12-15T17:49:23.932383",
     "exception": false,
     "start_time": "2022-12-15T17:49:23.036548",
     "status": "completed"
    },
    "tags": []
   },
   "outputs": [],
   "source": [
    "from random import sample, seed\n",
    "import warnings\n",
    "from pathlib import Path\n",
    "import pickle\n",
    "import traceback\n",
    "\n",
    "import numpy as np\n",
    "from scipy.spatial.distance import squareform\n",
    "import pandas as pd\n",
    "from tqdm import tqdm\n",
    "import matplotlib.pyplot as plt\n",
    "import seaborn as sns\n",
    "\n",
    "import conf\n",
    "from entity import Gene"
   ]
  },
  {
   "cell_type": "markdown",
   "id": "1eac24b5",
   "metadata": {
    "papermill": {
     "duration": 0.004561,
     "end_time": "2022-12-15T17:49:23.943399",
     "exception": false,
     "start_time": "2022-12-15T17:49:23.938838",
     "status": "completed"
    },
    "tags": []
   },
   "source": [
    "# Settings"
   ]
  },
  {
   "cell_type": "code",
   "execution_count": 3,
   "id": "ca4560ba",
   "metadata": {
    "execution": {
     "iopub.execute_input": "2022-12-15T17:49:23.954510Z",
     "iopub.status.busy": "2022-12-15T17:49:23.953840Z",
     "iopub.status.idle": "2022-12-15T17:49:23.981907Z",
     "shell.execute_reply": "2022-12-15T17:49:23.981520Z"
    },
    "papermill": {
     "duration": 0.035287,
     "end_time": "2022-12-15T17:49:23.983301",
     "exception": false,
     "start_time": "2022-12-15T17:49:23.948014",
     "status": "completed"
    },
    "tags": [
     "parameters"
    ]
   },
   "outputs": [],
   "source": [
    "# a cohort name (it could be something like UK_BIOBANK, etc)\n",
    "COHORT_NAME = None\n",
    "\n",
    "# reference panel such as 1000G or GTEX_V8\n",
    "REFERENCE_PANEL = \"GTEX_V8\"\n",
    "\n",
    "# predictions models such as MASHR or ELASTIC_NET\n",
    "EQTL_MODEL = \"MASHR\"\n",
    "\n",
    "# this is the default value used in S-MultiXcan to select the\n",
    "# top principal components of the expression correlation matrix\n",
    "SMULTIXCAN_CONDITION_NUMBER = 30\n",
    "\n",
    "# specifies a single chromosome value\n",
    "CHROMOSOME = None\n",
    "\n",
    "# If True, computes the correlation between closeby genes only (see\n",
    "# entity.Gene.within_distance for more details). Otherwise, it computes\n",
    "# correlations for all genes in a chromosome\n",
    "COMPUTE_CORRELATIONS_WITHIN_DISTANCE = True\n",
    "\n",
    "# if True, then it will continue if a gene pair correlation fails,\n",
    "# printing the warning/error for debugging. If False, any warning/error\n",
    "# will be thrown\n",
    "DEBUG_MODE = False\n",
    "\n",
    "# output dir\n",
    "OUTPUT_DIR_BASE = None"
   ]
  },
  {
   "cell_type": "code",
   "execution_count": 4,
   "id": "65e2e530",
   "metadata": {
    "execution": {
     "iopub.execute_input": "2022-12-15T17:49:23.997583Z",
     "iopub.status.busy": "2022-12-15T17:49:23.996960Z",
     "iopub.status.idle": "2022-12-15T17:49:24.023501Z",
     "shell.execute_reply": "2022-12-15T17:49:24.023115Z"
    },
    "papermill": {
     "duration": 0.034352,
     "end_time": "2022-12-15T17:49:24.024621",
     "exception": false,
     "start_time": "2022-12-15T17:49:23.990269",
     "status": "completed"
    },
    "tags": [
     "injected-parameters"
    ]
   },
   "outputs": [],
   "source": [
    "# Parameters\n",
    "PHENOPLIER_NOTEBOOK_FILEPATH = (\n",
    "    \"projects/asthma-copd/nbs/20_gene_corrs/jobs/05-gene_expr_correlations.ipynb\"\n",
    ")\n",
    "COHORT_NAME = \"asthma_only\"\n",
    "CHROMOSOME = 1\n",
    "OUTPUT_DIR_BASE = \"/opt/data/projects/asthma-copd/results/gls_phenoplier\"\n"
   ]
  },
  {
   "cell_type": "code",
   "execution_count": 5,
   "id": "3190631f-27fc-480f-b18e-571d580425a5",
   "metadata": {
    "execution": {
     "iopub.execute_input": "2022-12-15T17:49:24.034800Z",
     "iopub.status.busy": "2022-12-15T17:49:24.034495Z",
     "iopub.status.idle": "2022-12-15T17:49:24.061787Z",
     "shell.execute_reply": "2022-12-15T17:49:24.061418Z"
    },
    "papermill": {
     "duration": 0.033638,
     "end_time": "2022-12-15T17:49:24.062842",
     "exception": false,
     "start_time": "2022-12-15T17:49:24.029204",
     "status": "completed"
    },
    "tags": []
   },
   "outputs": [
    {
     "data": {
      "text/plain": [
       "'Cohort name: asthma_only'"
      ]
     },
     "metadata": {},
     "output_type": "display_data"
    }
   ],
   "source": [
    "assert COHORT_NAME is not None and len(COHORT_NAME) > 0, \"A cohort name must be given\"\n",
    "\n",
    "COHORT_NAME = COHORT_NAME.lower()\n",
    "display(f\"Cohort name: {COHORT_NAME}\")"
   ]
  },
  {
   "cell_type": "code",
   "execution_count": 6,
   "id": "f53ba19b-0f93-4fa2-a047-63b375939d1a",
   "metadata": {
    "execution": {
     "iopub.execute_input": "2022-12-15T17:49:24.077834Z",
     "iopub.status.busy": "2022-12-15T17:49:24.077580Z",
     "iopub.status.idle": "2022-12-15T17:49:24.102405Z",
     "shell.execute_reply": "2022-12-15T17:49:24.102003Z"
    },
    "papermill": {
     "duration": 0.033437,
     "end_time": "2022-12-15T17:49:24.103273",
     "exception": false,
     "start_time": "2022-12-15T17:49:24.069836",
     "status": "completed"
    },
    "tags": []
   },
   "outputs": [
    {
     "data": {
      "text/plain": [
       "'Reference panel: GTEX_V8'"
      ]
     },
     "metadata": {},
     "output_type": "display_data"
    }
   ],
   "source": [
    "assert (\n",
    "    REFERENCE_PANEL is not None and len(REFERENCE_PANEL) > 0\n",
    "), \"A reference panel must be given\"\n",
    "\n",
    "display(f\"Reference panel: {REFERENCE_PANEL}\")"
   ]
  },
  {
   "cell_type": "code",
   "execution_count": 7,
   "id": "e024d130-c139-429a-9c6e-ccf149e297b0",
   "metadata": {
    "execution": {
     "iopub.execute_input": "2022-12-15T17:49:24.114764Z",
     "iopub.status.busy": "2022-12-15T17:49:24.114538Z",
     "iopub.status.idle": "2022-12-15T17:49:24.138934Z",
     "shell.execute_reply": "2022-12-15T17:49:24.138619Z"
    },
    "papermill": {
     "duration": 0.031689,
     "end_time": "2022-12-15T17:49:24.139813",
     "exception": false,
     "start_time": "2022-12-15T17:49:24.108124",
     "status": "completed"
    },
    "tags": []
   },
   "outputs": [
    {
     "data": {
      "text/plain": [
       "'eQTL model: MASHR) / mashr_'"
      ]
     },
     "metadata": {},
     "output_type": "display_data"
    }
   ],
   "source": [
    "assert (\n",
    "    EQTL_MODEL is not None and len(EQTL_MODEL) > 0\n",
    "), \"A prediction/eQTL model must be given\"\n",
    "\n",
    "EQTL_MODEL_FILES_PREFIX = conf.PHENOMEXCAN[\"PREDICTION_MODELS\"][f\"{EQTL_MODEL}_PREFIX\"]\n",
    "display(f\"eQTL model: {EQTL_MODEL}) / {EQTL_MODEL_FILES_PREFIX}\")"
   ]
  },
  {
   "cell_type": "code",
   "execution_count": 8,
   "id": "552a7f63-a18c-4d3e-bb6a-94f99b431291",
   "metadata": {
    "execution": {
     "iopub.execute_input": "2022-12-15T17:49:24.150546Z",
     "iopub.status.busy": "2022-12-15T17:49:24.150226Z",
     "iopub.status.idle": "2022-12-15T17:49:24.176742Z",
     "shell.execute_reply": "2022-12-15T17:49:24.176272Z"
    },
    "papermill": {
     "duration": 0.032465,
     "end_time": "2022-12-15T17:49:24.177614",
     "exception": false,
     "start_time": "2022-12-15T17:49:24.145149",
     "status": "completed"
    },
    "tags": []
   },
   "outputs": [
    {
     "data": {
      "text/plain": [
       "'S-MultiXcan condition number: 30'"
      ]
     },
     "metadata": {},
     "output_type": "display_data"
    }
   ],
   "source": [
    "assert (\n",
    "    SMULTIXCAN_CONDITION_NUMBER is not None and SMULTIXCAN_CONDITION_NUMBER > 0\n",
    "), \"The S-MultiXcan condition number (positive integer) must be given\"\n",
    "\n",
    "display(f\"S-MultiXcan condition number: {SMULTIXCAN_CONDITION_NUMBER}\")"
   ]
  },
  {
   "cell_type": "code",
   "execution_count": 9,
   "id": "f34a336f-548e-4afe-8955-90eaea4f42c6",
   "metadata": {
    "execution": {
     "iopub.execute_input": "2022-12-15T17:49:24.187982Z",
     "iopub.status.busy": "2022-12-15T17:49:24.187750Z",
     "iopub.status.idle": "2022-12-15T17:49:24.213623Z",
     "shell.execute_reply": "2022-12-15T17:49:24.213210Z"
    },
    "papermill": {
     "duration": 0.033488,
     "end_time": "2022-12-15T17:49:24.215923",
     "exception": false,
     "start_time": "2022-12-15T17:49:24.182435",
     "status": "completed"
    },
    "tags": []
   },
   "outputs": [
    {
     "data": {
      "text/plain": [
       "'Working on chromosome 1'"
      ]
     },
     "metadata": {},
     "output_type": "display_data"
    }
   ],
   "source": [
    "assert CHROMOSOME is not None and (\n",
    "    1 <= CHROMOSOME <= 22\n",
    "), \"You have to select one chromosome (format: number between 1 and 22)\"\n",
    "\n",
    "display(f\"Working on chromosome {CHROMOSOME}\")"
   ]
  },
  {
   "cell_type": "code",
   "execution_count": 10,
   "id": "ab8e96e8-06b5-4363-9dcd-dc4d78cc27f7",
   "metadata": {
    "execution": {
     "iopub.execute_input": "2022-12-15T17:49:24.241775Z",
     "iopub.status.busy": "2022-12-15T17:49:24.241216Z",
     "iopub.status.idle": "2022-12-15T17:49:24.261399Z",
     "shell.execute_reply": "2022-12-15T17:49:24.260755Z"
    },
    "papermill": {
     "duration": 0.03226,
     "end_time": "2022-12-15T17:49:24.262372",
     "exception": false,
     "start_time": "2022-12-15T17:49:24.230112",
     "status": "completed"
    },
    "tags": []
   },
   "outputs": [
    {
     "data": {
      "text/plain": [
       "'Compute correlation within distance True'"
      ]
     },
     "metadata": {},
     "output_type": "display_data"
    }
   ],
   "source": [
    "display(f\"Compute correlation within distance {COMPUTE_CORRELATIONS_WITHIN_DISTANCE}\")"
   ]
  },
  {
   "cell_type": "code",
   "execution_count": 11,
   "id": "b393b698-77e3-4ba2-8ac1-e14d51aa988f",
   "metadata": {
    "execution": {
     "iopub.execute_input": "2022-12-15T17:49:24.272942Z",
     "iopub.status.busy": "2022-12-15T17:49:24.272699Z",
     "iopub.status.idle": "2022-12-15T17:49:24.303088Z",
     "shell.execute_reply": "2022-12-15T17:49:24.302517Z"
    },
    "papermill": {
     "duration": 0.03689,
     "end_time": "2022-12-15T17:49:24.304183",
     "exception": false,
     "start_time": "2022-12-15T17:49:24.267293",
     "status": "completed"
    },
    "tags": []
   },
   "outputs": [
    {
     "data": {
      "text/plain": [
       "'Using output dir base: /opt/data/projects/asthma-copd/results/gls_phenoplier/gene_corrs/asthma_only'"
      ]
     },
     "metadata": {},
     "output_type": "display_data"
    }
   ],
   "source": [
    "assert (\n",
    "    OUTPUT_DIR_BASE is not None and len(OUTPUT_DIR_BASE) > 0\n",
    "), \"Output directory path must be given\"\n",
    "\n",
    "OUTPUT_DIR_BASE = (Path(OUTPUT_DIR_BASE) / \"gene_corrs\" / COHORT_NAME).resolve()\n",
    "\n",
    "OUTPUT_DIR_BASE.mkdir(parents=True, exist_ok=True)\n",
    "\n",
    "display(f\"Using output dir base: {OUTPUT_DIR_BASE}\")"
   ]
  },
  {
   "cell_type": "markdown",
   "id": "d2ba085e",
   "metadata": {
    "papermill": {
     "duration": 0.009396,
     "end_time": "2022-12-15T17:49:24.322733",
     "exception": false,
     "start_time": "2022-12-15T17:49:24.313337",
     "status": "completed"
    },
    "tags": []
   },
   "source": [
    "# Load data"
   ]
  },
  {
   "cell_type": "markdown",
   "id": "7dcb8db7",
   "metadata": {
    "papermill": {
     "duration": 0.004819,
     "end_time": "2022-12-15T17:49:24.333826",
     "exception": false,
     "start_time": "2022-12-15T17:49:24.329007",
     "status": "completed"
    },
    "tags": []
   },
   "source": [
    "## GWAS variants"
   ]
  },
  {
   "cell_type": "code",
   "execution_count": 12,
   "id": "29434c4e-8cd3-4b9b-82e4-b5a251d9dd19",
   "metadata": {
    "execution": {
     "iopub.execute_input": "2022-12-15T17:49:24.344470Z",
     "iopub.status.busy": "2022-12-15T17:49:24.344222Z",
     "iopub.status.idle": "2022-12-15T17:49:27.448659Z",
     "shell.execute_reply": "2022-12-15T17:49:27.447957Z"
    },
    "papermill": {
     "duration": 3.112648,
     "end_time": "2022-12-15T17:49:27.451445",
     "exception": false,
     "start_time": "2022-12-15T17:49:24.338797",
     "status": "completed"
    },
    "tags": []
   },
   "outputs": [],
   "source": [
    "with open(OUTPUT_DIR_BASE / \"gwas_variant_ids.pkl\", \"rb\") as handle:\n",
    "    gwas_variants_ids_set = pickle.load(handle)"
   ]
  },
  {
   "cell_type": "code",
   "execution_count": 13,
   "id": "b9d9dec2-4a76-4bf9-bde2-e24c95acb8a0",
   "metadata": {
    "execution": {
     "iopub.execute_input": "2022-12-15T17:49:27.474642Z",
     "iopub.status.busy": "2022-12-15T17:49:27.474184Z",
     "iopub.status.idle": "2022-12-15T17:49:27.495145Z",
     "shell.execute_reply": "2022-12-15T17:49:27.494650Z"
    },
    "papermill": {
     "duration": 0.035566,
     "end_time": "2022-12-15T17:49:27.497679",
     "exception": false,
     "start_time": "2022-12-15T17:49:27.462113",
     "status": "completed"
    },
    "tags": []
   },
   "outputs": [
    {
     "data": {
      "text/plain": [
       "8578486"
      ]
     },
     "execution_count": 13,
     "metadata": {},
     "output_type": "execute_result"
    }
   ],
   "source": [
    "len(gwas_variants_ids_set)"
   ]
  },
  {
   "cell_type": "code",
   "execution_count": 14,
   "id": "4235b06a-6034-4ee4-a0a3-2ae35d122418",
   "metadata": {
    "execution": {
     "iopub.execute_input": "2022-12-15T17:49:27.529355Z",
     "iopub.status.busy": "2022-12-15T17:49:27.528908Z",
     "iopub.status.idle": "2022-12-15T17:49:28.976776Z",
     "shell.execute_reply": "2022-12-15T17:49:28.975748Z"
    },
    "papermill": {
     "duration": 1.464828,
     "end_time": "2022-12-15T17:49:28.979875",
     "exception": false,
     "start_time": "2022-12-15T17:49:27.515047",
     "status": "completed"
    },
    "tags": []
   },
   "outputs": [
    {
     "data": {
      "text/plain": [
       "['chr3_157566693_T_C_b38',\n",
       " 'chr1_236604528_T_C_b38',\n",
       " 'chr5_97237467_C_G_b38',\n",
       " 'chr3_121094558_G_C_b38',\n",
       " 'chr17_53693765_G_A_b38']"
      ]
     },
     "execution_count": 14,
     "metadata": {},
     "output_type": "execute_result"
    }
   ],
   "source": [
    "list(gwas_variants_ids_set)[:5]"
   ]
  },
  {
   "cell_type": "markdown",
   "id": "07866999-2305-41f9-a144-e69c9122c212",
   "metadata": {
    "papermill": {
     "duration": 0.015409,
     "end_time": "2022-12-15T17:49:29.008967",
     "exception": false,
     "start_time": "2022-12-15T17:49:28.993558",
     "status": "completed"
    },
    "tags": []
   },
   "source": [
    "## S-PrediXcan tissue models"
   ]
  },
  {
   "cell_type": "code",
   "execution_count": 15,
   "id": "780611d9-77c8-405f-90a4-f271f7b09397",
   "metadata": {
    "execution": {
     "iopub.execute_input": "2022-12-15T17:49:29.039738Z",
     "iopub.status.busy": "2022-12-15T17:49:29.038959Z",
     "iopub.status.idle": "2022-12-15T17:49:30.757040Z",
     "shell.execute_reply": "2022-12-15T17:49:30.756576Z"
    },
    "papermill": {
     "duration": 1.735956,
     "end_time": "2022-12-15T17:49:30.758658",
     "exception": false,
     "start_time": "2022-12-15T17:49:29.022702",
     "status": "completed"
    },
    "tags": []
   },
   "outputs": [],
   "source": [
    "spredixcan_genes_models = pd.read_pickle(OUTPUT_DIR_BASE / \"gene_tissues.pkl\")"
   ]
  },
  {
   "cell_type": "code",
   "execution_count": 16,
   "id": "726dd1f6-9557-4225-91fa-b3b879ea96e1",
   "metadata": {
    "execution": {
     "iopub.execute_input": "2022-12-15T17:49:30.777718Z",
     "iopub.status.busy": "2022-12-15T17:49:30.777326Z",
     "iopub.status.idle": "2022-12-15T17:49:30.794301Z",
     "shell.execute_reply": "2022-12-15T17:49:30.793886Z"
    },
    "papermill": {
     "duration": 0.02772,
     "end_time": "2022-12-15T17:49:30.795294",
     "exception": false,
     "start_time": "2022-12-15T17:49:30.767574",
     "status": "completed"
    },
    "tags": []
   },
   "outputs": [
    {
     "data": {
      "text/plain": [
       "(6443, 5)"
      ]
     },
     "execution_count": 16,
     "metadata": {},
     "output_type": "execute_result"
    }
   ],
   "source": [
    "spredixcan_genes_models.shape"
   ]
  },
  {
   "cell_type": "code",
   "execution_count": 17,
   "id": "944a1b48-222c-4eb0-b252-b9de2cbca215",
   "metadata": {
    "execution": {
     "iopub.execute_input": "2022-12-15T17:49:30.814713Z",
     "iopub.status.busy": "2022-12-15T17:49:30.814139Z",
     "iopub.status.idle": "2022-12-15T17:49:30.856979Z",
     "shell.execute_reply": "2022-12-15T17:49:30.856284Z"
    },
    "papermill": {
     "duration": 0.054088,
     "end_time": "2022-12-15T17:49:30.858056",
     "exception": false,
     "start_time": "2022-12-15T17:49:30.803968",
     "status": "completed"
    },
    "tags": []
   },
   "outputs": [
    {
     "data": {
      "text/html": [
       "<div>\n",
       "<style scoped>\n",
       "    .dataframe tbody tr th:only-of-type {\n",
       "        vertical-align: middle;\n",
       "    }\n",
       "\n",
       "    .dataframe tbody tr th {\n",
       "        vertical-align: top;\n",
       "    }\n",
       "\n",
       "    .dataframe thead th {\n",
       "        text-align: right;\n",
       "    }\n",
       "</style>\n",
       "<table border=\"1\" class=\"dataframe\">\n",
       "  <thead>\n",
       "    <tr style=\"text-align: right;\">\n",
       "      <th></th>\n",
       "      <th>gene_name</th>\n",
       "      <th>tissue</th>\n",
       "      <th>n_tissues</th>\n",
       "      <th>n_snps_used_sum</th>\n",
       "      <th>n_snps_in_model_sum</th>\n",
       "    </tr>\n",
       "    <tr>\n",
       "      <th>gene_id</th>\n",
       "      <th></th>\n",
       "      <th></th>\n",
       "      <th></th>\n",
       "      <th></th>\n",
       "      <th></th>\n",
       "    </tr>\n",
       "  </thead>\n",
       "  <tbody>\n",
       "    <tr>\n",
       "      <th>ENSG00000000419</th>\n",
       "      <td>DPM1</td>\n",
       "      <td>(Brain_Substantia_nigra, Brain_Hypothalamus)</td>\n",
       "      <td>2</td>\n",
       "      <td>2</td>\n",
       "      <td>2</td>\n",
       "    </tr>\n",
       "    <tr>\n",
       "      <th>ENSG00000000938</th>\n",
       "      <td>FGR</td>\n",
       "      <td>(Brain_Anterior_cingulate_cortex_BA24, Brain_H...</td>\n",
       "      <td>36</td>\n",
       "      <td>40</td>\n",
       "      <td>40</td>\n",
       "    </tr>\n",
       "    <tr>\n",
       "      <th>ENSG00000000971</th>\n",
       "      <td>CFH</td>\n",
       "      <td>(Brain_Anterior_cingulate_cortex_BA24, Artery_...</td>\n",
       "      <td>34</td>\n",
       "      <td>44</td>\n",
       "      <td>44</td>\n",
       "    </tr>\n",
       "    <tr>\n",
       "      <th>ENSG00000001084</th>\n",
       "      <td>GCLC</td>\n",
       "      <td>(Brain_Anterior_cingulate_cortex_BA24, Artery_...</td>\n",
       "      <td>32</td>\n",
       "      <td>46</td>\n",
       "      <td>46</td>\n",
       "    </tr>\n",
       "    <tr>\n",
       "      <th>ENSG00000001167</th>\n",
       "      <td>NFYA</td>\n",
       "      <td>(Brain_Anterior_cingulate_cortex_BA24, Brain_H...</td>\n",
       "      <td>40</td>\n",
       "      <td>47</td>\n",
       "      <td>48</td>\n",
       "    </tr>\n",
       "  </tbody>\n",
       "</table>\n",
       "</div>"
      ],
      "text/plain": [
       "                gene_name                                             tissue  \\\n",
       "gene_id                                                                        \n",
       "ENSG00000000419      DPM1       (Brain_Substantia_nigra, Brain_Hypothalamus)   \n",
       "ENSG00000000938       FGR  (Brain_Anterior_cingulate_cortex_BA24, Brain_H...   \n",
       "ENSG00000000971       CFH  (Brain_Anterior_cingulate_cortex_BA24, Artery_...   \n",
       "ENSG00000001084      GCLC  (Brain_Anterior_cingulate_cortex_BA24, Artery_...   \n",
       "ENSG00000001167      NFYA  (Brain_Anterior_cingulate_cortex_BA24, Brain_H...   \n",
       "\n",
       "                 n_tissues  n_snps_used_sum  n_snps_in_model_sum  \n",
       "gene_id                                                           \n",
       "ENSG00000000419          2                2                    2  \n",
       "ENSG00000000938         36               40                   40  \n",
       "ENSG00000000971         34               44                   44  \n",
       "ENSG00000001084         32               46                   46  \n",
       "ENSG00000001167         40               47                   48  "
      ]
     },
     "execution_count": 17,
     "metadata": {},
     "output_type": "execute_result"
    }
   ],
   "source": [
    "spredixcan_genes_models.head()"
   ]
  },
  {
   "cell_type": "code",
   "execution_count": 18,
   "id": "d1c11bb1-be0b-4f40-b360-633d6827109f",
   "metadata": {
    "execution": {
     "iopub.execute_input": "2022-12-15T17:49:30.870565Z",
     "iopub.status.busy": "2022-12-15T17:49:30.870060Z",
     "iopub.status.idle": "2022-12-15T17:49:30.899444Z",
     "shell.execute_reply": "2022-12-15T17:49:30.898739Z"
    },
    "papermill": {
     "duration": 0.037725,
     "end_time": "2022-12-15T17:49:30.901238",
     "exception": false,
     "start_time": "2022-12-15T17:49:30.863513",
     "status": "completed"
    },
    "tags": []
   },
   "outputs": [],
   "source": [
    "assert spredixcan_genes_models.index.is_unique"
   ]
  },
  {
   "cell_type": "markdown",
   "id": "a5b5092c-a13e-47c4-a92a-480fcc08f3ae",
   "metadata": {
    "papermill": {
     "duration": 0.006888,
     "end_time": "2022-12-15T17:49:30.917553",
     "exception": false,
     "start_time": "2022-12-15T17:49:30.910665",
     "status": "completed"
    },
    "tags": []
   },
   "source": [
    "## Gene info"
   ]
  },
  {
   "cell_type": "code",
   "execution_count": 19,
   "id": "7d6bb224-88e9-4358-ac10-43a41d92cdad",
   "metadata": {
    "execution": {
     "iopub.execute_input": "2022-12-15T17:49:30.929201Z",
     "iopub.status.busy": "2022-12-15T17:49:30.928808Z",
     "iopub.status.idle": "2022-12-15T17:49:30.959045Z",
     "shell.execute_reply": "2022-12-15T17:49:30.958483Z"
    },
    "papermill": {
     "duration": 0.03747,
     "end_time": "2022-12-15T17:49:30.960170",
     "exception": false,
     "start_time": "2022-12-15T17:49:30.922700",
     "status": "completed"
    },
    "tags": []
   },
   "outputs": [],
   "source": [
    "genes_info = pd.read_pickle(OUTPUT_DIR_BASE / \"genes_info.pkl\")"
   ]
  },
  {
   "cell_type": "code",
   "execution_count": 20,
   "id": "9e32abfa-546d-483e-8c18-d526e9e05903",
   "metadata": {
    "execution": {
     "iopub.execute_input": "2022-12-15T17:49:30.974232Z",
     "iopub.status.busy": "2022-12-15T17:49:30.973892Z",
     "iopub.status.idle": "2022-12-15T17:49:31.001137Z",
     "shell.execute_reply": "2022-12-15T17:49:31.000469Z"
    },
    "papermill": {
     "duration": 0.03669,
     "end_time": "2022-12-15T17:49:31.002528",
     "exception": false,
     "start_time": "2022-12-15T17:49:30.965838",
     "status": "completed"
    },
    "tags": []
   },
   "outputs": [
    {
     "data": {
      "text/plain": [
       "(6443, 7)"
      ]
     },
     "execution_count": 20,
     "metadata": {},
     "output_type": "execute_result"
    }
   ],
   "source": [
    "genes_info.shape"
   ]
  },
  {
   "cell_type": "code",
   "execution_count": 21,
   "id": "d16c3e92-85ec-468a-9a56-e25a9774a1cb",
   "metadata": {
    "execution": {
     "iopub.execute_input": "2022-12-15T17:49:31.021652Z",
     "iopub.status.busy": "2022-12-15T17:49:31.021047Z",
     "iopub.status.idle": "2022-12-15T17:49:31.048089Z",
     "shell.execute_reply": "2022-12-15T17:49:31.047667Z"
    },
    "papermill": {
     "duration": 0.037276,
     "end_time": "2022-12-15T17:49:31.049275",
     "exception": false,
     "start_time": "2022-12-15T17:49:31.011999",
     "status": "completed"
    },
    "tags": []
   },
   "outputs": [
    {
     "data": {
      "text/html": [
       "<div>\n",
       "<style scoped>\n",
       "    .dataframe tbody tr th:only-of-type {\n",
       "        vertical-align: middle;\n",
       "    }\n",
       "\n",
       "    .dataframe tbody tr th {\n",
       "        vertical-align: top;\n",
       "    }\n",
       "\n",
       "    .dataframe thead th {\n",
       "        text-align: right;\n",
       "    }\n",
       "</style>\n",
       "<table border=\"1\" class=\"dataframe\">\n",
       "  <thead>\n",
       "    <tr style=\"text-align: right;\">\n",
       "      <th></th>\n",
       "      <th>name</th>\n",
       "      <th>id</th>\n",
       "      <th>chr</th>\n",
       "      <th>band</th>\n",
       "      <th>start_position</th>\n",
       "      <th>end_position</th>\n",
       "      <th>gene_length</th>\n",
       "    </tr>\n",
       "  </thead>\n",
       "  <tbody>\n",
       "    <tr>\n",
       "      <th>0</th>\n",
       "      <td>PSMB9</td>\n",
       "      <td>ENSG00000240065</td>\n",
       "      <td>6</td>\n",
       "      <td>6p21.32</td>\n",
       "      <td>32844136</td>\n",
       "      <td>32859851</td>\n",
       "      <td>15715</td>\n",
       "    </tr>\n",
       "    <tr>\n",
       "      <th>1</th>\n",
       "      <td>EEF1D</td>\n",
       "      <td>ENSG00000104529</td>\n",
       "      <td>8</td>\n",
       "      <td>8q24.3</td>\n",
       "      <td>143579697</td>\n",
       "      <td>143599541</td>\n",
       "      <td>19844</td>\n",
       "    </tr>\n",
       "    <tr>\n",
       "      <th>2</th>\n",
       "      <td>NFKBIL1</td>\n",
       "      <td>ENSG00000204498</td>\n",
       "      <td>6</td>\n",
       "      <td>6p21.33</td>\n",
       "      <td>31546870</td>\n",
       "      <td>31558829</td>\n",
       "      <td>11959</td>\n",
       "    </tr>\n",
       "    <tr>\n",
       "      <th>3</th>\n",
       "      <td>SGSH</td>\n",
       "      <td>ENSG00000181523</td>\n",
       "      <td>17</td>\n",
       "      <td>17q25.3</td>\n",
       "      <td>80206716</td>\n",
       "      <td>80220923</td>\n",
       "      <td>14207</td>\n",
       "    </tr>\n",
       "    <tr>\n",
       "      <th>4</th>\n",
       "      <td>KLF6</td>\n",
       "      <td>ENSG00000067082</td>\n",
       "      <td>10</td>\n",
       "      <td>10p15.2</td>\n",
       "      <td>3775996</td>\n",
       "      <td>3785281</td>\n",
       "      <td>9285</td>\n",
       "    </tr>\n",
       "  </tbody>\n",
       "</table>\n",
       "</div>"
      ],
      "text/plain": [
       "      name               id  chr     band  start_position  end_position  \\\n",
       "0    PSMB9  ENSG00000240065    6  6p21.32        32844136      32859851   \n",
       "1    EEF1D  ENSG00000104529    8   8q24.3       143579697     143599541   \n",
       "2  NFKBIL1  ENSG00000204498    6  6p21.33        31546870      31558829   \n",
       "3     SGSH  ENSG00000181523   17  17q25.3        80206716      80220923   \n",
       "4     KLF6  ENSG00000067082   10  10p15.2         3775996       3785281   \n",
       "\n",
       "   gene_length  \n",
       "0        15715  \n",
       "1        19844  \n",
       "2        11959  \n",
       "3        14207  \n",
       "4         9285  "
      ]
     },
     "execution_count": 21,
     "metadata": {},
     "output_type": "execute_result"
    }
   ],
   "source": [
    "genes_info.head()"
   ]
  },
  {
   "cell_type": "markdown",
   "id": "d3843e06",
   "metadata": {
    "papermill": {
     "duration": 0.009568,
     "end_time": "2022-12-15T17:49:31.068582",
     "exception": false,
     "start_time": "2022-12-15T17:49:31.059014",
     "status": "completed"
    },
    "tags": []
   },
   "source": [
    "# Compute correlations"
   ]
  },
  {
   "cell_type": "code",
   "execution_count": 22,
   "id": "cb859c15-d1f3-4006-a74c-2b83c0db9611",
   "metadata": {
    "execution": {
     "iopub.execute_input": "2022-12-15T17:49:31.085286Z",
     "iopub.status.busy": "2022-12-15T17:49:31.085058Z",
     "iopub.status.idle": "2022-12-15T17:49:31.107395Z",
     "shell.execute_reply": "2022-12-15T17:49:31.107023Z"
    },
    "papermill": {
     "duration": 0.030428,
     "end_time": "2022-12-15T17:49:31.108567",
     "exception": false,
     "start_time": "2022-12-15T17:49:31.078139",
     "status": "completed"
    },
    "tags": []
   },
   "outputs": [
    {
     "data": {
      "text/plain": [
       "PosixPath('/opt/data/projects/asthma-copd/results/gls_phenoplier/gene_corrs/asthma_only/by_chr/gene_corrs-chr1.pkl')"
      ]
     },
     "metadata": {},
     "output_type": "display_data"
    }
   ],
   "source": [
    "output_dir = OUTPUT_DIR_BASE / \"by_chr\"\n",
    "output_dir.mkdir(exist_ok=True, parents=True)\n",
    "output_file = output_dir / f\"gene_corrs-chr{CHROMOSOME}.pkl\"\n",
    "display(output_file)"
   ]
  },
  {
   "cell_type": "code",
   "execution_count": 23,
   "id": "aa674fe4-6794-4eed-98fa-32b39d1d4ace",
   "metadata": {
    "execution": {
     "iopub.execute_input": "2022-12-15T17:49:31.129198Z",
     "iopub.status.busy": "2022-12-15T17:49:31.128985Z",
     "iopub.status.idle": "2022-12-15T17:49:31.150295Z",
     "shell.execute_reply": "2022-12-15T17:49:31.149902Z"
    },
    "papermill": {
     "duration": 0.032962,
     "end_time": "2022-12-15T17:49:31.151360",
     "exception": false,
     "start_time": "2022-12-15T17:49:31.118398",
     "status": "completed"
    },
    "tags": []
   },
   "outputs": [],
   "source": [
    "warnings.filterwarnings(\"error\")"
   ]
  },
  {
   "cell_type": "code",
   "execution_count": 24,
   "id": "44d5450b-3baf-43f1-9e2e-4b06f1a785f8",
   "metadata": {
    "execution": {
     "iopub.execute_input": "2022-12-15T17:49:31.164060Z",
     "iopub.status.busy": "2022-12-15T17:49:31.163719Z",
     "iopub.status.idle": "2022-12-15T17:49:31.184675Z",
     "shell.execute_reply": "2022-12-15T17:49:31.184126Z"
    },
    "papermill": {
     "duration": 0.028791,
     "end_time": "2022-12-15T17:49:31.185907",
     "exception": false,
     "start_time": "2022-12-15T17:49:31.157116",
     "status": "completed"
    },
    "tags": []
   },
   "outputs": [],
   "source": [
    "# standard checks\n",
    "all_chrs = genes_info[\"chr\"].dropna().unique()\n",
    "assert all_chrs.shape[0] == 22\n",
    "\n",
    "# select chromosome given by the user\n",
    "assert CHROMOSOME in all_chrs"
   ]
  },
  {
   "cell_type": "code",
   "execution_count": 25,
   "id": "2d7c043c-92a7-4d35-991b-fa69ac1e0268",
   "metadata": {
    "execution": {
     "iopub.execute_input": "2022-12-15T17:49:31.199031Z",
     "iopub.status.busy": "2022-12-15T17:49:31.198603Z",
     "iopub.status.idle": "2022-12-15T17:49:31.219738Z",
     "shell.execute_reply": "2022-12-15T17:49:31.219260Z"
    },
    "papermill": {
     "duration": 0.028379,
     "end_time": "2022-12-15T17:49:31.220685",
     "exception": false,
     "start_time": "2022-12-15T17:49:31.192306",
     "status": "completed"
    },
    "tags": []
   },
   "outputs": [
    {
     "name": "stdout",
     "output_type": "stream",
     "text": [
      "Number of genes in chromosome: 698\n"
     ]
    }
   ],
   "source": [
    "# run only on the chromosome specified\n",
    "all_chrs = [CHROMOSOME]\n",
    "genes_chr = genes_info[genes_info[\"chr\"] == CHROMOSOME]\n",
    "\n",
    "# For testing purposes\n",
    "# genes_chr = genes_chr.sample(n=20)\n",
    "\n",
    "print(f\"Number of genes in chromosome: {genes_chr.shape[0]}\", flush=True)"
   ]
  },
  {
   "cell_type": "code",
   "execution_count": 26,
   "id": "916015d8-2979-46d3-a9b9-1cf5a0932c6a",
   "metadata": {
    "execution": {
     "iopub.execute_input": "2022-12-15T17:49:31.233224Z",
     "iopub.status.busy": "2022-12-15T17:49:31.233016Z",
     "iopub.status.idle": "2022-12-15T17:49:31.256864Z",
     "shell.execute_reply": "2022-12-15T17:49:31.256431Z"
    },
    "papermill": {
     "duration": 0.031881,
     "end_time": "2022-12-15T17:49:31.258363",
     "exception": false,
     "start_time": "2022-12-15T17:49:31.226482",
     "status": "completed"
    },
    "tags": []
   },
   "outputs": [],
   "source": [
    "# sort genes by starting position to make visualizations better later\n",
    "genes_chr = genes_chr.sort_values(\"start_position\")"
   ]
  },
  {
   "cell_type": "code",
   "execution_count": 27,
   "id": "a38aa74a-8ad3-47f6-8ef9-56be0e011774",
   "metadata": {
    "execution": {
     "iopub.execute_input": "2022-12-15T17:49:31.279880Z",
     "iopub.status.busy": "2022-12-15T17:49:31.279663Z",
     "iopub.status.idle": "2022-12-15T17:49:31.299227Z",
     "shell.execute_reply": "2022-12-15T17:49:31.298884Z"
    },
    "papermill": {
     "duration": 0.031822,
     "end_time": "2022-12-15T17:49:31.300360",
     "exception": false,
     "start_time": "2022-12-15T17:49:31.268538",
     "status": "completed"
    },
    "tags": []
   },
   "outputs": [],
   "source": [
    "gene_chr_objs = [Gene(ensembl_id=gene_id) for gene_id in genes_chr[\"id\"]]"
   ]
  },
  {
   "cell_type": "code",
   "execution_count": 28,
   "id": "570f974f-13c3-42b6-ad3a-ce99ca885c1a",
   "metadata": {
    "execution": {
     "iopub.execute_input": "2022-12-15T17:49:31.312785Z",
     "iopub.status.busy": "2022-12-15T17:49:31.312588Z",
     "iopub.status.idle": "2022-12-15T17:49:31.336512Z",
     "shell.execute_reply": "2022-12-15T17:49:31.336016Z"
    },
    "papermill": {
     "duration": 0.031076,
     "end_time": "2022-12-15T17:49:31.337407",
     "exception": false,
     "start_time": "2022-12-15T17:49:31.306331",
     "status": "completed"
    },
    "tags": []
   },
   "outputs": [
    {
     "name": "stdout",
     "output_type": "stream",
     "text": [
      "Number of gene combinations: 243951\n"
     ]
    }
   ],
   "source": [
    "n = len(gene_chr_objs)\n",
    "# diagonal elements + upper triangular matrix\n",
    "n_comb = n + int(n * (n - 1) / 2.0)\n",
    "print(f\"Number of gene combinations: {n_comb}\", flush=True)"
   ]
  },
  {
   "cell_type": "code",
   "execution_count": 29,
   "id": "cdbb90a1",
   "metadata": {
    "execution": {
     "iopub.execute_input": "2022-12-15T17:49:31.350825Z",
     "iopub.status.busy": "2022-12-15T17:49:31.350558Z",
     "iopub.status.idle": "2022-12-15T18:06:03.551455Z",
     "shell.execute_reply": "2022-12-15T18:06:03.550900Z"
    },
    "papermill": {
     "duration": 992.20944,
     "end_time": "2022-12-15T18:06:03.552881",
     "exception": false,
     "start_time": "2022-12-15T17:49:31.343441",
     "status": "completed"
    },
    "tags": []
   },
   "outputs": [
    {
     "name": "stderr",
     "output_type": "stream",
     "text": [
      "ENSG00000238243 / ENSG00000238243: 100%|███████████████████| 243951/243951 [16:32<00:00, 245.88it/s]\n"
     ]
    },
    {
     "data": {
      "text/plain": [
       "PosixPath('/opt/data/projects/asthma-copd/results/gls_phenoplier/gene_corrs/asthma_only/by_chr/gene_corrs-chr1.pkl')"
      ]
     },
     "metadata": {},
     "output_type": "display_data"
    }
   ],
   "source": [
    "gene_corrs = []\n",
    "gene_corrs_data = np.full(\n",
    "    (n, n),\n",
    "    np.nan,\n",
    "    dtype=np.float64,\n",
    ")\n",
    "\n",
    "i = 0\n",
    "with tqdm(ncols=100, total=n_comb) as pbar:\n",
    "    for gene1_idx in range(0, len(gene_chr_objs)):\n",
    "        gene1_obj = gene_chr_objs[gene1_idx]\n",
    "        gene1_tissues = spredixcan_genes_models.loc[gene1_obj.ensembl_id, \"tissue\"]\n",
    "\n",
    "        for gene2_idx in range(gene1_idx, len(gene_chr_objs)):\n",
    "            gene2_obj = gene_chr_objs[gene2_idx]\n",
    "            gene2_tissues = spredixcan_genes_models.loc[gene2_obj.ensembl_id, \"tissue\"]\n",
    "\n",
    "            pbar.set_description(f\"{gene1_obj.ensembl_id} / {gene2_obj.ensembl_id}\")\n",
    "\n",
    "            try:\n",
    "                r = gene1_obj.get_ssm_correlation(\n",
    "                    other_gene=gene2_obj,\n",
    "                    tissues=gene1_tissues,\n",
    "                    other_tissues=gene2_tissues,\n",
    "                    snps_subset=gwas_variants_ids_set,\n",
    "                    condition_number=SMULTIXCAN_CONDITION_NUMBER,\n",
    "                    reference_panel=REFERENCE_PANEL,\n",
    "                    model_type=EQTL_MODEL,\n",
    "                    use_within_distance=COMPUTE_CORRELATIONS_WITHIN_DISTANCE,\n",
    "                )\n",
    "\n",
    "                if r is None:\n",
    "                    # if r is None, it's very likely because:\n",
    "                    #  * one of the genes has no prediction models\n",
    "                    #  * all the SNPs predictors for the gene are not present in the reference\n",
    "                    #    panel\n",
    "\n",
    "                    r = 0.0\n",
    "\n",
    "                gene_corrs.append(r)\n",
    "\n",
    "                gene_corrs_data[gene1_idx, gene2_idx] = r\n",
    "                gene_corrs_data[gene2_idx, gene1_idx] = r\n",
    "            except Warning as e:\n",
    "                if not DEBUG_MODE:\n",
    "                    raise e\n",
    "\n",
    "                print(\n",
    "                    f\"RuntimeWarning for genes {gene1_obj.ensembl_id} and {gene2_obj.ensembl_id}\",\n",
    "                    flush=True,\n",
    "                )\n",
    "                print(traceback.format_exc(), flush=True)\n",
    "\n",
    "                gene_corrs.append(np.nan)\n",
    "            except Exception as e:\n",
    "                if not DEBUG_MODE:\n",
    "                    raise e\n",
    "\n",
    "                print(\n",
    "                    f\"Exception for genes {gene1_obj.ensembl_id} and {gene2_obj.ensembl_id}\",\n",
    "                    flush=True,\n",
    "                )\n",
    "                print(traceback.format_exc(), flush=True)\n",
    "\n",
    "                gene_corrs.append(np.nan)\n",
    "\n",
    "            pbar.update(1)\n",
    "\n",
    "# create a pandas series\n",
    "gene_corrs_flat = pd.Series(gene_corrs)\n",
    "\n",
    "# save\n",
    "# FIXME: consider saving only the condenced matrix here. See here for\n",
    "# more details: https://github.com/greenelab/phenoplier/pull/38#discussion_r634600813\n",
    "# gene_corrs_data = squareform(np.array(gene_corrs, dtype=np.float64))\n",
    "# np.fill_diagonal(gene_corrs_data, 1.0)\n",
    "\n",
    "gene_chr_ids = [g.ensembl_id for g in gene_chr_objs]\n",
    "gene_corrs_df = pd.DataFrame(\n",
    "    data=gene_corrs_data,\n",
    "    index=gene_chr_ids,\n",
    "    columns=gene_chr_ids,\n",
    ")\n",
    "\n",
    "output_dir.mkdir(exist_ok=True, parents=True)\n",
    "display(output_file)\n",
    "\n",
    "gene_corrs_df.to_pickle(output_file)"
   ]
  },
  {
   "cell_type": "markdown",
   "id": "faa67b51-5373-470f-aa72-2ded53fa6dfe",
   "metadata": {
    "papermill": {
     "duration": 8.380009,
     "end_time": "2022-12-15T18:06:20.738655",
     "exception": false,
     "start_time": "2022-12-15T18:06:12.358646",
     "status": "completed"
    },
    "tags": []
   },
   "source": [
    "# Testing"
   ]
  },
  {
   "cell_type": "code",
   "execution_count": 30,
   "id": "14f7d046-4b55-4896-a56b-990127bcc388",
   "metadata": {
    "execution": {
     "iopub.execute_input": "2022-12-15T18:06:38.672052Z",
     "iopub.status.busy": "2022-12-15T18:06:38.671379Z",
     "iopub.status.idle": "2022-12-15T18:06:38.687699Z",
     "shell.execute_reply": "2022-12-15T18:06:38.687195Z"
    },
    "papermill": {
     "duration": 9.250502,
     "end_time": "2022-12-15T18:06:38.688915",
     "exception": false,
     "start_time": "2022-12-15T18:06:29.438413",
     "status": "completed"
    },
    "tags": []
   },
   "outputs": [
    {
     "data": {
      "text/plain": [
       "(698, 698)"
      ]
     },
     "execution_count": 30,
     "metadata": {},
     "output_type": "execute_result"
    }
   ],
   "source": [
    "gene_corrs_df.shape"
   ]
  },
  {
   "cell_type": "code",
   "execution_count": 31,
   "id": "c7d15414-3297-4537-a7c6-7588c0baeb75",
   "metadata": {
    "execution": {
     "iopub.execute_input": "2022-12-15T18:06:55.108898Z",
     "iopub.status.busy": "2022-12-15T18:06:55.108417Z",
     "iopub.status.idle": "2022-12-15T18:06:55.152868Z",
     "shell.execute_reply": "2022-12-15T18:06:55.152165Z"
    },
    "papermill": {
     "duration": 8.149141,
     "end_time": "2022-12-15T18:06:55.153841",
     "exception": false,
     "start_time": "2022-12-15T18:06:47.004700",
     "status": "completed"
    },
    "tags": []
   },
   "outputs": [
    {
     "data": {
      "text/html": [
       "<div>\n",
       "<style scoped>\n",
       "    .dataframe tbody tr th:only-of-type {\n",
       "        vertical-align: middle;\n",
       "    }\n",
       "\n",
       "    .dataframe tbody tr th {\n",
       "        vertical-align: top;\n",
       "    }\n",
       "\n",
       "    .dataframe thead th {\n",
       "        text-align: right;\n",
       "    }\n",
       "</style>\n",
       "<table border=\"1\" class=\"dataframe\">\n",
       "  <thead>\n",
       "    <tr style=\"text-align: right;\">\n",
       "      <th></th>\n",
       "      <th>ENSG00000188976</th>\n",
       "      <th>ENSG00000188290</th>\n",
       "      <th>ENSG00000187608</th>\n",
       "      <th>ENSG00000188157</th>\n",
       "      <th>ENSG00000186891</th>\n",
       "      <th>ENSG00000186827</th>\n",
       "      <th>ENSG00000176022</th>\n",
       "      <th>ENSG00000160087</th>\n",
       "      <th>ENSG00000131584</th>\n",
       "      <th>ENSG00000169962</th>\n",
       "      <th>...</th>\n",
       "      <th>ENSG00000054282</th>\n",
       "      <th>ENSG00000117020</th>\n",
       "      <th>ENSG00000035687</th>\n",
       "      <th>ENSG00000153187</th>\n",
       "      <th>ENSG00000162851</th>\n",
       "      <th>ENSG00000153207</th>\n",
       "      <th>ENSG00000162714</th>\n",
       "      <th>ENSG00000162711</th>\n",
       "      <th>ENSG00000162722</th>\n",
       "      <th>ENSG00000238243</th>\n",
       "    </tr>\n",
       "  </thead>\n",
       "  <tbody>\n",
       "    <tr>\n",
       "      <th>ENSG00000188976</th>\n",
       "      <td>1.000000</td>\n",
       "      <td>0.120590</td>\n",
       "      <td>0.177063</td>\n",
       "      <td>0.085746</td>\n",
       "      <td>0.006792</td>\n",
       "      <td>0.007685</td>\n",
       "      <td>0.004673</td>\n",
       "      <td>0.010734</td>\n",
       "      <td>0.011200</td>\n",
       "      <td>0.007529</td>\n",
       "      <td>...</td>\n",
       "      <td>0.0</td>\n",
       "      <td>0.0</td>\n",
       "      <td>0.0</td>\n",
       "      <td>0.0</td>\n",
       "      <td>0.0</td>\n",
       "      <td>0.0</td>\n",
       "      <td>0.0</td>\n",
       "      <td>0.0</td>\n",
       "      <td>0.0</td>\n",
       "      <td>0.0</td>\n",
       "    </tr>\n",
       "    <tr>\n",
       "      <th>ENSG00000188290</th>\n",
       "      <td>0.120590</td>\n",
       "      <td>1.000000</td>\n",
       "      <td>0.672060</td>\n",
       "      <td>0.391127</td>\n",
       "      <td>0.011695</td>\n",
       "      <td>0.009275</td>\n",
       "      <td>0.005970</td>\n",
       "      <td>0.007385</td>\n",
       "      <td>0.002641</td>\n",
       "      <td>0.004767</td>\n",
       "      <td>...</td>\n",
       "      <td>0.0</td>\n",
       "      <td>0.0</td>\n",
       "      <td>0.0</td>\n",
       "      <td>0.0</td>\n",
       "      <td>0.0</td>\n",
       "      <td>0.0</td>\n",
       "      <td>0.0</td>\n",
       "      <td>0.0</td>\n",
       "      <td>0.0</td>\n",
       "      <td>0.0</td>\n",
       "    </tr>\n",
       "    <tr>\n",
       "      <th>ENSG00000187608</th>\n",
       "      <td>0.177063</td>\n",
       "      <td>0.672060</td>\n",
       "      <td>1.000000</td>\n",
       "      <td>0.424696</td>\n",
       "      <td>0.013929</td>\n",
       "      <td>0.013311</td>\n",
       "      <td>0.008466</td>\n",
       "      <td>0.010608</td>\n",
       "      <td>0.006689</td>\n",
       "      <td>0.011659</td>\n",
       "      <td>...</td>\n",
       "      <td>0.0</td>\n",
       "      <td>0.0</td>\n",
       "      <td>0.0</td>\n",
       "      <td>0.0</td>\n",
       "      <td>0.0</td>\n",
       "      <td>0.0</td>\n",
       "      <td>0.0</td>\n",
       "      <td>0.0</td>\n",
       "      <td>0.0</td>\n",
       "      <td>0.0</td>\n",
       "    </tr>\n",
       "    <tr>\n",
       "      <th>ENSG00000188157</th>\n",
       "      <td>0.085746</td>\n",
       "      <td>0.391127</td>\n",
       "      <td>0.424696</td>\n",
       "      <td>1.000000</td>\n",
       "      <td>0.005309</td>\n",
       "      <td>0.011848</td>\n",
       "      <td>0.002161</td>\n",
       "      <td>0.002535</td>\n",
       "      <td>0.005359</td>\n",
       "      <td>0.007012</td>\n",
       "      <td>...</td>\n",
       "      <td>0.0</td>\n",
       "      <td>0.0</td>\n",
       "      <td>0.0</td>\n",
       "      <td>0.0</td>\n",
       "      <td>0.0</td>\n",
       "      <td>0.0</td>\n",
       "      <td>0.0</td>\n",
       "      <td>0.0</td>\n",
       "      <td>0.0</td>\n",
       "      <td>0.0</td>\n",
       "    </tr>\n",
       "    <tr>\n",
       "      <th>ENSG00000186891</th>\n",
       "      <td>0.006792</td>\n",
       "      <td>0.011695</td>\n",
       "      <td>0.013929</td>\n",
       "      <td>0.005309</td>\n",
       "      <td>1.000000</td>\n",
       "      <td>0.338085</td>\n",
       "      <td>0.550817</td>\n",
       "      <td>0.154394</td>\n",
       "      <td>0.193627</td>\n",
       "      <td>0.101004</td>\n",
       "      <td>...</td>\n",
       "      <td>0.0</td>\n",
       "      <td>0.0</td>\n",
       "      <td>0.0</td>\n",
       "      <td>0.0</td>\n",
       "      <td>0.0</td>\n",
       "      <td>0.0</td>\n",
       "      <td>0.0</td>\n",
       "      <td>0.0</td>\n",
       "      <td>0.0</td>\n",
       "      <td>0.0</td>\n",
       "    </tr>\n",
       "  </tbody>\n",
       "</table>\n",
       "<p>5 rows × 698 columns</p>\n",
       "</div>"
      ],
      "text/plain": [
       "                 ENSG00000188976  ENSG00000188290  ENSG00000187608  \\\n",
       "ENSG00000188976         1.000000         0.120590         0.177063   \n",
       "ENSG00000188290         0.120590         1.000000         0.672060   \n",
       "ENSG00000187608         0.177063         0.672060         1.000000   \n",
       "ENSG00000188157         0.085746         0.391127         0.424696   \n",
       "ENSG00000186891         0.006792         0.011695         0.013929   \n",
       "\n",
       "                 ENSG00000188157  ENSG00000186891  ENSG00000186827  \\\n",
       "ENSG00000188976         0.085746         0.006792         0.007685   \n",
       "ENSG00000188290         0.391127         0.011695         0.009275   \n",
       "ENSG00000187608         0.424696         0.013929         0.013311   \n",
       "ENSG00000188157         1.000000         0.005309         0.011848   \n",
       "ENSG00000186891         0.005309         1.000000         0.338085   \n",
       "\n",
       "                 ENSG00000176022  ENSG00000160087  ENSG00000131584  \\\n",
       "ENSG00000188976         0.004673         0.010734         0.011200   \n",
       "ENSG00000188290         0.005970         0.007385         0.002641   \n",
       "ENSG00000187608         0.008466         0.010608         0.006689   \n",
       "ENSG00000188157         0.002161         0.002535         0.005359   \n",
       "ENSG00000186891         0.550817         0.154394         0.193627   \n",
       "\n",
       "                 ENSG00000169962  ...  ENSG00000054282  ENSG00000117020  \\\n",
       "ENSG00000188976         0.007529  ...              0.0              0.0   \n",
       "ENSG00000188290         0.004767  ...              0.0              0.0   \n",
       "ENSG00000187608         0.011659  ...              0.0              0.0   \n",
       "ENSG00000188157         0.007012  ...              0.0              0.0   \n",
       "ENSG00000186891         0.101004  ...              0.0              0.0   \n",
       "\n",
       "                 ENSG00000035687  ENSG00000153187  ENSG00000162851  \\\n",
       "ENSG00000188976              0.0              0.0              0.0   \n",
       "ENSG00000188290              0.0              0.0              0.0   \n",
       "ENSG00000187608              0.0              0.0              0.0   \n",
       "ENSG00000188157              0.0              0.0              0.0   \n",
       "ENSG00000186891              0.0              0.0              0.0   \n",
       "\n",
       "                 ENSG00000153207  ENSG00000162714  ENSG00000162711  \\\n",
       "ENSG00000188976              0.0              0.0              0.0   \n",
       "ENSG00000188290              0.0              0.0              0.0   \n",
       "ENSG00000187608              0.0              0.0              0.0   \n",
       "ENSG00000188157              0.0              0.0              0.0   \n",
       "ENSG00000186891              0.0              0.0              0.0   \n",
       "\n",
       "                 ENSG00000162722  ENSG00000238243  \n",
       "ENSG00000188976              0.0              0.0  \n",
       "ENSG00000188290              0.0              0.0  \n",
       "ENSG00000187608              0.0              0.0  \n",
       "ENSG00000188157              0.0              0.0  \n",
       "ENSG00000186891              0.0              0.0  \n",
       "\n",
       "[5 rows x 698 columns]"
      ]
     },
     "execution_count": 31,
     "metadata": {},
     "output_type": "execute_result"
    }
   ],
   "source": [
    "gene_corrs_df.head()"
   ]
  },
  {
   "cell_type": "markdown",
   "id": "dad6603f-01c6-41fb-a6f6-241051207dd8",
   "metadata": {
    "papermill": {
     "duration": 8.448045,
     "end_time": "2022-12-15T18:07:12.227263",
     "exception": false,
     "start_time": "2022-12-15T18:07:03.779218",
     "status": "completed"
    },
    "tags": []
   },
   "source": [
    "## Standard checks and stats"
   ]
  },
  {
   "cell_type": "code",
   "execution_count": 32,
   "id": "286686af-1b7b-4440-8453-6bdcbd8de19c",
   "metadata": {
    "execution": {
     "iopub.execute_input": "2022-12-15T18:07:28.974877Z",
     "iopub.status.busy": "2022-12-15T18:07:28.974069Z",
     "iopub.status.idle": "2022-12-15T18:07:29.001232Z",
     "shell.execute_reply": "2022-12-15T18:07:29.000566Z"
    },
    "papermill": {
     "duration": 8.608058,
     "end_time": "2022-12-15T18:07:29.002853",
     "exception": false,
     "start_time": "2022-12-15T18:07:20.394795",
     "status": "completed"
    },
    "tags": []
   },
   "outputs": [],
   "source": [
    "assert not gene_corrs_df.isna().any(axis=None)"
   ]
  },
  {
   "cell_type": "code",
   "execution_count": 33,
   "id": "00583efc-7068-4270-ad1e-4a418e91db96",
   "metadata": {
    "execution": {
     "iopub.execute_input": "2022-12-15T18:07:46.079469Z",
     "iopub.status.busy": "2022-12-15T18:07:46.078582Z",
     "iopub.status.idle": "2022-12-15T18:07:46.096063Z",
     "shell.execute_reply": "2022-12-15T18:07:46.095479Z"
    },
    "papermill": {
     "duration": 8.33447,
     "end_time": "2022-12-15T18:07:46.097080",
     "exception": false,
     "start_time": "2022-12-15T18:07:37.762610",
     "status": "completed"
    },
    "tags": []
   },
   "outputs": [
    {
     "data": {
      "text/plain": [
       "0.0"
      ]
     },
     "metadata": {},
     "output_type": "display_data"
    }
   ],
   "source": [
    "_min_val = gene_corrs_df.min().min()\n",
    "display(_min_val)\n",
    "assert _min_val >= -0.05"
   ]
  },
  {
   "cell_type": "code",
   "execution_count": 34,
   "id": "d04fb2cf-1050-475b-b855-f5f7cc04092b",
   "metadata": {
    "execution": {
     "iopub.execute_input": "2022-12-15T18:08:02.335174Z",
     "iopub.status.busy": "2022-12-15T18:08:02.334787Z",
     "iopub.status.idle": "2022-12-15T18:08:02.357969Z",
     "shell.execute_reply": "2022-12-15T18:08:02.357530Z"
    },
    "papermill": {
     "duration": 8.178576,
     "end_time": "2022-12-15T18:08:02.358902",
     "exception": false,
     "start_time": "2022-12-15T18:07:54.180326",
     "status": "completed"
    },
    "tags": []
   },
   "outputs": [
    {
     "data": {
      "text/plain": [
       "1.000000000000003"
      ]
     },
     "metadata": {},
     "output_type": "display_data"
    }
   ],
   "source": [
    "_max_val = gene_corrs_df.max().max()  # this captures the diagonal\n",
    "display(_max_val)\n",
    "assert _max_val <= 1.05"
   ]
  },
  {
   "cell_type": "code",
   "execution_count": 35,
   "id": "fe283586-c348-40e0-8841-f6d97bfb021c",
   "metadata": {
    "execution": {
     "iopub.execute_input": "2022-12-15T18:08:18.855653Z",
     "iopub.status.busy": "2022-12-15T18:08:18.855257Z",
     "iopub.status.idle": "2022-12-15T18:08:18.883592Z",
     "shell.execute_reply": "2022-12-15T18:08:18.883164Z"
    },
    "papermill": {
     "duration": 8.267543,
     "end_time": "2022-12-15T18:08:18.884832",
     "exception": false,
     "start_time": "2022-12-15T18:08:10.617289",
     "status": "completed"
    },
    "tags": []
   },
   "outputs": [
    {
     "data": {
      "text/plain": [
       "count    243951.000000\n",
       "mean          0.004352\n",
       "std           0.057079\n",
       "min           0.000000\n",
       "25%           0.000000\n",
       "50%           0.000000\n",
       "75%           0.000000\n",
       "max           1.000000\n",
       "dtype: float64"
      ]
     },
     "execution_count": 35,
     "metadata": {},
     "output_type": "execute_result"
    }
   ],
   "source": [
    "gene_corrs_flat.describe()"
   ]
  },
  {
   "cell_type": "code",
   "execution_count": 36,
   "id": "b3815678-0f93-4b35-897b-a9d047a2aa78",
   "metadata": {
    "execution": {
     "iopub.execute_input": "2022-12-15T18:08:36.361745Z",
     "iopub.status.busy": "2022-12-15T18:08:36.361345Z",
     "iopub.status.idle": "2022-12-15T18:08:36.391166Z",
     "shell.execute_reply": "2022-12-15T18:08:36.390476Z"
    },
    "papermill": {
     "duration": 8.863079,
     "end_time": "2022-12-15T18:08:36.392609",
     "exception": false,
     "start_time": "2022-12-15T18:08:27.529530",
     "status": "completed"
    },
    "tags": []
   },
   "outputs": [
    {
     "data": {
      "text/plain": [
       "0.00    0.000000\n",
       "0.05    0.000000\n",
       "0.10    0.000000\n",
       "0.15    0.000000\n",
       "0.20    0.000000\n",
       "0.25    0.000000\n",
       "0.30    0.000000\n",
       "0.35    0.000000\n",
       "0.40    0.000000\n",
       "0.45    0.000000\n",
       "0.50    0.000000\n",
       "0.55    0.000000\n",
       "0.60    0.000000\n",
       "0.65    0.000000\n",
       "0.70    0.000000\n",
       "0.75    0.000000\n",
       "0.80    0.000000\n",
       "0.85    0.000000\n",
       "0.90    0.000000\n",
       "0.95    0.003691\n",
       "dtype: float64"
      ]
     },
     "metadata": {},
     "output_type": "display_data"
    }
   ],
   "source": [
    "gene_corrs_quantiles = gene_corrs_flat.quantile(np.arange(0, 1, 0.05))\n",
    "display(gene_corrs_quantiles)"
   ]
  },
  {
   "cell_type": "markdown",
   "id": "87134509-b145-4a10-8bc9-b7e914c2b0fa",
   "metadata": {
    "papermill": {
     "duration": 9.378336,
     "end_time": "2022-12-15T18:08:54.490274",
     "exception": false,
     "start_time": "2022-12-15T18:08:45.111938",
     "status": "completed"
    },
    "tags": []
   },
   "source": [
    "## Positive definiteness"
   ]
  },
  {
   "cell_type": "code",
   "execution_count": 37,
   "id": "07d9a9a1-a4f7-48aa-b916-6d42a8cc6186",
   "metadata": {
    "execution": {
     "iopub.execute_input": "2022-12-15T18:09:13.467734Z",
     "iopub.status.busy": "2022-12-15T18:09:13.467371Z",
     "iopub.status.idle": "2022-12-15T18:09:13.594434Z",
     "shell.execute_reply": "2022-12-15T18:09:13.593959Z"
    },
    "papermill": {
     "duration": 9.593063,
     "end_time": "2022-12-15T18:09:13.595566",
     "exception": false,
     "start_time": "2022-12-15T18:09:04.002503",
     "status": "completed"
    },
    "tags": []
   },
   "outputs": [
    {
     "data": {
      "text/plain": [
       "0"
      ]
     },
     "metadata": {},
     "output_type": "display_data"
    },
    {
     "data": {
      "text/plain": [
       "array([], dtype=float64)"
      ]
     },
     "metadata": {},
     "output_type": "display_data"
    }
   ],
   "source": [
    "# print negative eigenvalues\n",
    "eigs = np.linalg.eigvals(gene_corrs_df.to_numpy())\n",
    "display(len(eigs[eigs < 0]))\n",
    "display(eigs[eigs < 0])"
   ]
  },
  {
   "cell_type": "code",
   "execution_count": 38,
   "id": "6e218436-c3c5-4028-8c94-a4fa6260efce",
   "metadata": {
    "execution": {
     "iopub.execute_input": "2022-12-15T18:09:31.791598Z",
     "iopub.status.busy": "2022-12-15T18:09:31.791370Z",
     "iopub.status.idle": "2022-12-15T18:09:31.841328Z",
     "shell.execute_reply": "2022-12-15T18:09:31.840692Z"
    },
    "papermill": {
     "duration": 7.847047,
     "end_time": "2022-12-15T18:09:31.842603",
     "exception": false,
     "start_time": "2022-12-15T18:09:23.995556",
     "status": "completed"
    },
    "tags": []
   },
   "outputs": [
    {
     "name": "stdout",
     "output_type": "stream",
     "text": [
      "Works!\n"
     ]
    }
   ],
   "source": [
    "try:\n",
    "    chol_mat = np.linalg.cholesky(gene_corrs_df.to_numpy())\n",
    "    cov_inv = np.linalg.inv(chol_mat)\n",
    "    print(\"Works!\")\n",
    "except Exception as e:\n",
    "    print(f\"Cholesky decomposition failed: {str(e)}\")"
   ]
  },
  {
   "cell_type": "code",
   "execution_count": 39,
   "id": "dd8827fb-faf9-4c7c-9454-015e94752706",
   "metadata": {
    "execution": {
     "iopub.execute_input": "2022-12-15T18:09:47.872960Z",
     "iopub.status.busy": "2022-12-15T18:09:47.872541Z",
     "iopub.status.idle": "2022-12-15T18:09:47.926098Z",
     "shell.execute_reply": "2022-12-15T18:09:47.925442Z"
    },
    "papermill": {
     "duration": 8.133052,
     "end_time": "2022-12-15T18:09:47.927353",
     "exception": false,
     "start_time": "2022-12-15T18:09:39.794301",
     "status": "completed"
    },
    "tags": []
   },
   "outputs": [
    {
     "name": "stdout",
     "output_type": "stream",
     "text": [
      "Works!\n"
     ]
    }
   ],
   "source": [
    "try:\n",
    "    # decomposition used by statsmodels.GLS\n",
    "    cholsigmainv = np.linalg.cholesky(np.linalg.inv(gene_corrs_df.to_numpy())).T\n",
    "    print(\"Works!\")\n",
    "except Exception as e:\n",
    "    print(f\"Cholesky decomposition failed (statsmodels.GLS): {str(e)}\")"
   ]
  },
  {
   "cell_type": "markdown",
   "id": "8e60a080-edb2-4e9c-b2ef-22961693200c",
   "metadata": {
    "papermill": {
     "duration": 8.133709,
     "end_time": "2022-12-15T18:10:04.536667",
     "exception": false,
     "start_time": "2022-12-15T18:09:56.402958",
     "status": "completed"
    },
    "tags": []
   },
   "source": [
    "## Plot: distribution"
   ]
  },
  {
   "cell_type": "code",
   "execution_count": 40,
   "id": "8301126b-a7d4-4744-9c7d-f0f86eb6f54c",
   "metadata": {
    "execution": {
     "iopub.execute_input": "2022-12-15T18:10:20.635876Z",
     "iopub.status.busy": "2022-12-15T18:10:20.635644Z",
     "iopub.status.idle": "2022-12-15T18:10:21.875536Z",
     "shell.execute_reply": "2022-12-15T18:10:21.875043Z"
    },
    "papermill": {
     "duration": 9.711544,
     "end_time": "2022-12-15T18:10:21.876885",
     "exception": false,
     "start_time": "2022-12-15T18:10:12.165341",
     "status": "completed"
    },
    "tags": []
   },
   "outputs": [
    {
     "data": {
      "image/png": "[encoded data removed]",
      "text/plain": [
       "<Figure size 700x700 with 1 Axes>"
      ]
     },
     "metadata": {},
     "output_type": "display_data"
    }
   ],
   "source": [
    "with sns.plotting_context(\"paper\", font_scale=1.5):\n",
    "    g = sns.displot(gene_corrs_flat, kde=True, height=7)\n",
    "    g.ax.set_title(\n",
    "        f\"Distribution of gene correlation values in chromosome {CHROMOSOME}\"\n",
    "    )"
   ]
  },
  {
   "cell_type": "markdown",
   "id": "cbd52bca-d878-4a2f-b684-5c83aa3038d4",
   "metadata": {
    "papermill": {
     "duration": 7.82458,
     "end_time": "2022-12-15T18:10:38.041115",
     "exception": false,
     "start_time": "2022-12-15T18:10:30.216535",
     "status": "completed"
    },
    "tags": []
   },
   "source": [
    "## Plot: heatmap"
   ]
  },
  {
   "cell_type": "code",
   "execution_count": 41,
   "id": "d03fe63a-c7b2-4fb9-a53c-db362ce843c9",
   "metadata": {
    "execution": {
     "iopub.execute_input": "2022-12-15T18:10:53.833483Z",
     "iopub.status.busy": "2022-12-15T18:10:53.833059Z",
     "iopub.status.idle": "2022-12-15T18:10:53.851982Z",
     "shell.execute_reply": "2022-12-15T18:10:53.851569Z"
    },
    "papermill": {
     "duration": 7.935448,
     "end_time": "2022-12-15T18:10:53.853230",
     "exception": false,
     "start_time": "2022-12-15T18:10:45.917782",
     "status": "completed"
    },
    "tags": []
   },
   "outputs": [
    {
     "data": {
      "text/plain": [
       "'0.0 / 0.05'"
      ]
     },
     "metadata": {},
     "output_type": "display_data"
    }
   ],
   "source": [
    "vmin_val = min(0.00, gene_corrs_quantiles[0.10])\n",
    "vmax_val = max(0.05, gene_corrs_quantiles[0.90])\n",
    "display(f\"{vmin_val} / {vmax_val}\")"
   ]
  },
  {
   "cell_type": "code",
   "execution_count": 42,
   "id": "dc41b70b-5bcc-4d9e-9f33-a22c4a94dab5",
   "metadata": {
    "execution": {
     "iopub.execute_input": "2022-12-15T18:11:10.813778Z",
     "iopub.status.busy": "2022-12-15T18:11:10.813375Z",
     "iopub.status.idle": "2022-12-15T18:11:11.435320Z",
     "shell.execute_reply": "2022-12-15T18:11:11.434870Z"
    },
    "papermill": {
     "duration": 9.07355,
     "end_time": "2022-12-15T18:11:11.436559",
     "exception": false,
     "start_time": "2022-12-15T18:11:02.363009",
     "status": "completed"
    },
    "tags": []
   },
   "outputs": [
    {
     "data": {
      "text/plain": [
       "Text(0.5, 1.0, 'Gene correlations in chromosome 1')"
      ]
     },
     "execution_count": 42,
     "metadata": {},
     "output_type": "execute_result"
    },
    {
     "data": {
      "image/png": "[encoded data removed]",
      "text/plain": [
       "<Figure size 1000x1000 with 2 Axes>"
      ]
     },
     "metadata": {},
     "output_type": "display_data"
    }
   ],
   "source": [
    "f, ax = plt.subplots(figsize=(10, 10))\n",
    "sns.heatmap(\n",
    "    gene_corrs_df,\n",
    "    xticklabels=False,\n",
    "    yticklabels=False,\n",
    "    square=True,\n",
    "    vmin=vmin_val,\n",
    "    vmax=vmax_val,\n",
    "    cmap=\"rocket_r\",\n",
    "    ax=ax,\n",
    ")\n",
    "ax.set_title(f\"Gene correlations in chromosome {CHROMOSOME}\")"
   ]
  },
  {
   "cell_type": "code",
   "execution_count": null,
   "id": "b25e3ead",
   "metadata": {
    "papermill": {
     "duration": 8.763471,
     "end_time": "2022-12-15T18:11:29.082414",
     "exception": false,
     "start_time": "2022-12-15T18:11:20.318943",
     "status": "completed"
    },
    "tags": []
   },
   "outputs": [],
   "source": []
  }
 ],
 "metadata": {
  "jupytext": {
   "cell_metadata_filter": "all,-execution,-papermill,-trusted",
   "formats": "ipynb,py//py:percent"
  },
  "kernelspec": {
   "display_name": "Python 3 (ipykernel)",
   "language": "python",
   "name": "python3"
  },
  "language_info": {
   "codemirror_mode": {
    "name": "ipython",
    "version": 3
   },
   "file_extension": ".py",
   "mimetype": "text/x-python",
   "name": "python",
   "nbconvert_exporter": "python",
   "pygments_lexer": "ipython3",
   "version": "3.10.6"
  },
  "papermill": {
   "default_parameters": {},
   "duration": 1338.486344,
   "end_time": "2022-12-15T18:11:40.514000",
   "environment_variables": {},
   "exception": null,
   "input_path": "projects/asthma-copd/nbs/20_gene_corrs/jobs/05-gene_expr_correlations.ipynb",
   "output_path": "projects/asthma-copd/nbs/20_gene_corrs/jobs/../output/asthma_only/05-gene_expr_correlations-chr1.run.ipynb",
   "parameters": {
    "CHROMOSOME": 1,
    "COHORT_NAME": "asthma_only",
    "OUTPUT_DIR_BASE": "/opt/data/projects/asthma-copd/results/gls_phenoplier",
    "PHENOPLIER_NOTEBOOK_FILEPATH": "projects/asthma-copd/nbs/20_gene_corrs/jobs/05-gene_expr_correlations.ipynb"
   },
   "start_time": "2022-12-15T17:49:22.027656",
   "version": "2.2.2"
  }
 },
 "nbformat": 4,
 "nbformat_minor": 5
}
