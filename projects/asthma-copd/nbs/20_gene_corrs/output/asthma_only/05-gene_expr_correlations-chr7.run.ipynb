{
 "cells": [
  {
   "cell_type": "markdown",
   "id": "7a6632fb",
   "metadata": {
    "papermill": {
     "duration": 0.008407,
     "end_time": "2022-12-05T16:48:27.562792",
     "exception": false,
     "start_time": "2022-12-05T16:48:27.554385",
     "status": "completed"
    },
    "tags": []
   },
   "source": [
    "# Description"
   ]
  },
  {
   "cell_type": "markdown",
   "id": "7097c346",
   "metadata": {
    "papermill": {
     "duration": 0.007553,
     "end_time": "2022-12-05T16:48:27.578037",
     "exception": false,
     "start_time": "2022-12-05T16:48:27.570484",
     "status": "completed"
    },
    "tags": []
   },
   "source": [
    "(Please, take a look at the README.md file in this directory for instructions on how to run this notebook)\n",
    "\n",
    "This notebook computes predicted expression correlations between all genes in the MultiPLIER models.\n",
    "\n",
    "It has specicfic parameters for papermill (see under `Settings` below).\n",
    "It can be configured to run on a single chromosome to run in parallel.\n",
    "\n",
    "This notebook is not directly run. See README.md."
   ]
  },
  {
   "cell_type": "markdown",
   "id": "c61d8427",
   "metadata": {
    "papermill": {
     "duration": 0.007514,
     "end_time": "2022-12-05T16:48:27.593242",
     "exception": false,
     "start_time": "2022-12-05T16:48:27.585728",
     "status": "completed"
    },
    "tags": []
   },
   "source": [
    "# Modules"
   ]
  },
  {
   "cell_type": "code",
   "execution_count": 1,
   "id": "bbc0234f",
   "metadata": {
    "execution": {
     "iopub.execute_input": "2022-12-05T16:48:27.610219Z",
     "iopub.status.busy": "2022-12-05T16:48:27.609848Z",
     "iopub.status.idle": "2022-12-05T16:48:27.628173Z",
     "shell.execute_reply": "2022-12-05T16:48:27.627640Z"
    },
    "papermill": {
     "duration": 0.028188,
     "end_time": "2022-12-05T16:48:27.629689",
     "exception": false,
     "start_time": "2022-12-05T16:48:27.601501",
     "status": "completed"
    },
    "tags": []
   },
   "outputs": [],
   "source": [
    "%load_ext autoreload\n",
    "%autoreload 2"
   ]
  },
  {
   "cell_type": "code",
   "execution_count": 2,
   "id": "1d5f5a59",
   "metadata": {
    "execution": {
     "iopub.execute_input": "2022-12-05T16:48:27.646567Z",
     "iopub.status.busy": "2022-12-05T16:48:27.646239Z",
     "iopub.status.idle": "2022-12-05T16:48:28.583798Z",
     "shell.execute_reply": "2022-12-05T16:48:28.583259Z"
    },
    "papermill": {
     "duration": 0.947651,
     "end_time": "2022-12-05T16:48:28.585002",
     "exception": false,
     "start_time": "2022-12-05T16:48:27.637351",
     "status": "completed"
    },
    "tags": []
   },
   "outputs": [],
   "source": [
    "from random import sample, seed\n",
    "import warnings\n",
    "from pathlib import Path\n",
    "import pickle\n",
    "import traceback\n",
    "\n",
    "import numpy as np\n",
    "from scipy.spatial.distance import squareform\n",
    "import pandas as pd\n",
    "from tqdm import tqdm\n",
    "import matplotlib.pyplot as plt\n",
    "import seaborn as sns\n",
    "\n",
    "import conf\n",
    "from entity import Gene"
   ]
  },
  {
   "cell_type": "markdown",
   "id": "1eac24b5",
   "metadata": {
    "papermill": {
     "duration": 0.004105,
     "end_time": "2022-12-05T16:48:28.593432",
     "exception": false,
     "start_time": "2022-12-05T16:48:28.589327",
     "status": "completed"
    },
    "tags": []
   },
   "source": [
    "# Settings"
   ]
  },
  {
   "cell_type": "code",
   "execution_count": 3,
   "id": "ca4560ba",
   "metadata": {
    "execution": {
     "iopub.execute_input": "2022-12-05T16:48:28.602348Z",
     "iopub.status.busy": "2022-12-05T16:48:28.602081Z",
     "iopub.status.idle": "2022-12-05T16:48:28.617386Z",
     "shell.execute_reply": "2022-12-05T16:48:28.616933Z"
    },
    "papermill": {
     "duration": 0.021013,
     "end_time": "2022-12-05T16:48:28.618482",
     "exception": false,
     "start_time": "2022-12-05T16:48:28.597469",
     "status": "completed"
    },
    "tags": [
     "parameters"
    ]
   },
   "outputs": [],
   "source": [
    "# a cohort name (it could be something like UK_BIOBANK, etc)\n",
    "COHORT_NAME = None\n",
    "\n",
    "# reference panel such as 1000G or GTEX_V8\n",
    "REFERENCE_PANEL = \"GTEX_V8\"\n",
    "\n",
    "# predictions models such as MASHR or ELASTIC_NET\n",
    "EQTL_MODEL = \"MASHR\"\n",
    "\n",
    "# this is the default value used in S-MultiXcan to select the\n",
    "# top principal components of the expression correlation matrix\n",
    "SMULTIXCAN_CONDITION_NUMBER = 30\n",
    "\n",
    "# specifies a single chromosome value\n",
    "CHROMOSOME = None\n",
    "\n",
    "# If True, computes the correlation between closeby genes only (see\n",
    "# entity.Gene.within_distance for more details). Otherwise, it computes\n",
    "# correlations for all genes in a chromosome\n",
    "COMPUTE_CORRELATIONS_WITHIN_DISTANCE = True\n",
    "\n",
    "# if True, then it will continue if a gene pair correlation fails,\n",
    "# printing the warning/error for debugging. If False, any warning/error\n",
    "# will be thrown\n",
    "DEBUG_MODE = False\n",
    "\n",
    "# output dir\n",
    "OUTPUT_DIR_BASE = None"
   ]
  },
  {
   "cell_type": "code",
   "execution_count": 4,
   "id": "3ca893c1",
   "metadata": {
    "execution": {
     "iopub.execute_input": "2022-12-05T16:48:28.627499Z",
     "iopub.status.busy": "2022-12-05T16:48:28.627370Z",
     "iopub.status.idle": "2022-12-05T16:48:28.645103Z",
     "shell.execute_reply": "2022-12-05T16:48:28.644627Z"
    },
    "papermill": {
     "duration": 0.023689,
     "end_time": "2022-12-05T16:48:28.646457",
     "exception": false,
     "start_time": "2022-12-05T16:48:28.622768",
     "status": "completed"
    },
    "tags": [
     "injected-parameters"
    ]
   },
   "outputs": [],
   "source": [
    "# Parameters\n",
    "PHENOPLIER_NOTEBOOK_FILEPATH = (\n",
    "    \"projects/asthma-copd/nbs/20_gene_corrs/jobs/05-gene_expr_correlations.ipynb\"\n",
    ")\n",
    "COHORT_NAME = \"asthma_only\"\n",
    "CHROMOSOME = 7\n",
    "OUTPUT_DIR_BASE = \"/opt/data/projects/asthma-copd/results/gls_phenoplier\"\n"
   ]
  },
  {
   "cell_type": "code",
   "execution_count": 5,
   "id": "3190631f-27fc-480f-b18e-571d580425a5",
   "metadata": {
    "execution": {
     "iopub.execute_input": "2022-12-05T16:48:28.657010Z",
     "iopub.status.busy": "2022-12-05T16:48:28.656875Z",
     "iopub.status.idle": "2022-12-05T16:48:28.678286Z",
     "shell.execute_reply": "2022-12-05T16:48:28.677837Z"
    },
    "papermill": {
     "duration": 0.027321,
     "end_time": "2022-12-05T16:48:28.679515",
     "exception": false,
     "start_time": "2022-12-05T16:48:28.652194",
     "status": "completed"
    },
    "tags": []
   },
   "outputs": [
    {
     "data": {
      "text/plain": [
       "'Cohort name: asthma_only'"
      ]
     },
     "metadata": {},
     "output_type": "display_data"
    }
   ],
   "source": [
    "assert COHORT_NAME is not None and len(COHORT_NAME) > 0, \"A cohort name must be given\"\n",
    "\n",
    "COHORT_NAME = COHORT_NAME.lower()\n",
    "display(f\"Cohort name: {COHORT_NAME}\")"
   ]
  },
  {
   "cell_type": "code",
   "execution_count": 6,
   "id": "f53ba19b-0f93-4fa2-a047-63b375939d1a",
   "metadata": {
    "execution": {
     "iopub.execute_input": "2022-12-05T16:48:28.690300Z",
     "iopub.status.busy": "2022-12-05T16:48:28.690183Z",
     "iopub.status.idle": "2022-12-05T16:48:28.707675Z",
     "shell.execute_reply": "2022-12-05T16:48:28.707230Z"
    },
    "papermill": {
     "duration": 0.0233,
     "end_time": "2022-12-05T16:48:28.708793",
     "exception": false,
     "start_time": "2022-12-05T16:48:28.685493",
     "status": "completed"
    },
    "tags": []
   },
   "outputs": [
    {
     "data": {
      "text/plain": [
       "'Reference panel: GTEX_V8'"
      ]
     },
     "metadata": {},
     "output_type": "display_data"
    }
   ],
   "source": [
    "assert (\n",
    "    REFERENCE_PANEL is not None and len(REFERENCE_PANEL) > 0\n",
    "), \"A reference panel must be given\"\n",
    "\n",
    "display(f\"Reference panel: {REFERENCE_PANEL}\")"
   ]
  },
  {
   "cell_type": "code",
   "execution_count": 7,
   "id": "e024d130-c139-429a-9c6e-ccf149e297b0",
   "metadata": {
    "execution": {
     "iopub.execute_input": "2022-12-05T16:48:28.720157Z",
     "iopub.status.busy": "2022-12-05T16:48:28.719949Z",
     "iopub.status.idle": "2022-12-05T16:48:28.736414Z",
     "shell.execute_reply": "2022-12-05T16:48:28.735849Z"
    },
    "papermill": {
     "duration": 0.022308,
     "end_time": "2022-12-05T16:48:28.737316",
     "exception": false,
     "start_time": "2022-12-05T16:48:28.715008",
     "status": "completed"
    },
    "tags": []
   },
   "outputs": [
    {
     "data": {
      "text/plain": [
       "'eQTL model: MASHR) / mashr_'"
      ]
     },
     "metadata": {},
     "output_type": "display_data"
    }
   ],
   "source": [
    "assert (\n",
    "    EQTL_MODEL is not None and len(EQTL_MODEL) > 0\n",
    "), \"A prediction/eQTL model must be given\"\n",
    "\n",
    "EQTL_MODEL_FILES_PREFIX = conf.PHENOMEXCAN[\"PREDICTION_MODELS\"][f\"{EQTL_MODEL}_PREFIX\"]\n",
    "display(f\"eQTL model: {EQTL_MODEL}) / {EQTL_MODEL_FILES_PREFIX}\")"
   ]
  },
  {
   "cell_type": "code",
   "execution_count": 8,
   "id": "552a7f63-a18c-4d3e-bb6a-94f99b431291",
   "metadata": {
    "execution": {
     "iopub.execute_input": "2022-12-05T16:48:28.747670Z",
     "iopub.status.busy": "2022-12-05T16:48:28.747296Z",
     "iopub.status.idle": "2022-12-05T16:48:28.764099Z",
     "shell.execute_reply": "2022-12-05T16:48:28.763658Z"
    },
    "papermill": {
     "duration": 0.023001,
     "end_time": "2022-12-05T16:48:28.764869",
     "exception": false,
     "start_time": "2022-12-05T16:48:28.741868",
     "status": "completed"
    },
    "tags": []
   },
   "outputs": [
    {
     "data": {
      "text/plain": [
       "'S-MultiXcan condition number: 30'"
      ]
     },
     "metadata": {},
     "output_type": "display_data"
    }
   ],
   "source": [
    "assert (\n",
    "    SMULTIXCAN_CONDITION_NUMBER is not None and SMULTIXCAN_CONDITION_NUMBER > 0\n",
    "), \"The S-MultiXcan condition number (positive integer) must be given\"\n",
    "\n",
    "display(f\"S-MultiXcan condition number: {SMULTIXCAN_CONDITION_NUMBER}\")"
   ]
  },
  {
   "cell_type": "code",
   "execution_count": 9,
   "id": "f34a336f-548e-4afe-8955-90eaea4f42c6",
   "metadata": {
    "execution": {
     "iopub.execute_input": "2022-12-05T16:48:28.774417Z",
     "iopub.status.busy": "2022-12-05T16:48:28.774233Z",
     "iopub.status.idle": "2022-12-05T16:48:28.789102Z",
     "shell.execute_reply": "2022-12-05T16:48:28.788638Z"
    },
    "papermill": {
     "duration": 0.020544,
     "end_time": "2022-12-05T16:48:28.789939",
     "exception": false,
     "start_time": "2022-12-05T16:48:28.769395",
     "status": "completed"
    },
    "tags": []
   },
   "outputs": [
    {
     "data": {
      "text/plain": [
       "'Working on chromosome 7'"
      ]
     },
     "metadata": {},
     "output_type": "display_data"
    }
   ],
   "source": [
    "assert CHROMOSOME is not None and (\n",
    "    1 <= CHROMOSOME <= 22\n",
    "), \"You have to select one chromosome (format: number between 1 and 22)\"\n",
    "\n",
    "display(f\"Working on chromosome {CHROMOSOME}\")"
   ]
  },
  {
   "cell_type": "code",
   "execution_count": 10,
   "id": "ab8e96e8-06b5-4363-9dcd-dc4d78cc27f7",
   "metadata": {
    "execution": {
     "iopub.execute_input": "2022-12-05T16:48:28.799762Z",
     "iopub.status.busy": "2022-12-05T16:48:28.799627Z",
     "iopub.status.idle": "2022-12-05T16:48:28.815969Z",
     "shell.execute_reply": "2022-12-05T16:48:28.815524Z"
    },
    "papermill": {
     "duration": 0.022256,
     "end_time": "2022-12-05T16:48:28.816822",
     "exception": false,
     "start_time": "2022-12-05T16:48:28.794566",
     "status": "completed"
    },
    "tags": []
   },
   "outputs": [
    {
     "data": {
      "text/plain": [
       "'Compute correlation within distance True'"
      ]
     },
     "metadata": {},
     "output_type": "display_data"
    }
   ],
   "source": [
    "display(f\"Compute correlation within distance {COMPUTE_CORRELATIONS_WITHIN_DISTANCE}\")"
   ]
  },
  {
   "cell_type": "code",
   "execution_count": 11,
   "id": "b393b698-77e3-4ba2-8ac1-e14d51aa988f",
   "metadata": {
    "execution": {
     "iopub.execute_input": "2022-12-05T16:48:28.826833Z",
     "iopub.status.busy": "2022-12-05T16:48:28.826482Z",
     "iopub.status.idle": "2022-12-05T16:48:28.843277Z",
     "shell.execute_reply": "2022-12-05T16:48:28.842822Z"
    },
    "papermill": {
     "duration": 0.022596,
     "end_time": "2022-12-05T16:48:28.844117",
     "exception": false,
     "start_time": "2022-12-05T16:48:28.821521",
     "status": "completed"
    },
    "tags": []
   },
   "outputs": [
    {
     "data": {
      "text/plain": [
       "'Using output dir base: /opt/data/projects/asthma-copd/results/gls_phenoplier/gene_corrs/asthma_only'"
      ]
     },
     "metadata": {},
     "output_type": "display_data"
    }
   ],
   "source": [
    "assert (\n",
    "    OUTPUT_DIR_BASE is not None and len(OUTPUT_DIR_BASE) > 0\n",
    "), \"Output directory path must be given\"\n",
    "\n",
    "OUTPUT_DIR_BASE = (Path(OUTPUT_DIR_BASE) / \"gene_corrs\" / COHORT_NAME).resolve()\n",
    "\n",
    "OUTPUT_DIR_BASE.mkdir(parents=True, exist_ok=True)\n",
    "\n",
    "display(f\"Using output dir base: {OUTPUT_DIR_BASE}\")"
   ]
  },
  {
   "cell_type": "markdown",
   "id": "d2ba085e",
   "metadata": {
    "papermill": {
     "duration": 0.005044,
     "end_time": "2022-12-05T16:48:28.854090",
     "exception": false,
     "start_time": "2022-12-05T16:48:28.849046",
     "status": "completed"
    },
    "tags": []
   },
   "source": [
    "# Load data"
   ]
  },
  {
   "cell_type": "markdown",
   "id": "7dcb8db7",
   "metadata": {
    "papermill": {
     "duration": 0.004432,
     "end_time": "2022-12-05T16:48:28.863093",
     "exception": false,
     "start_time": "2022-12-05T16:48:28.858661",
     "status": "completed"
    },
    "tags": []
   },
   "source": [
    "## GWAS variants"
   ]
  },
  {
   "cell_type": "code",
   "execution_count": 12,
   "id": "29434c4e-8cd3-4b9b-82e4-b5a251d9dd19",
   "metadata": {
    "execution": {
     "iopub.execute_input": "2022-12-05T16:48:28.872905Z",
     "iopub.status.busy": "2022-12-05T16:48:28.872771Z",
     "iopub.status.idle": "2022-12-05T16:48:31.210149Z",
     "shell.execute_reply": "2022-12-05T16:48:31.209611Z"
    },
    "papermill": {
     "duration": 2.344354,
     "end_time": "2022-12-05T16:48:31.211948",
     "exception": false,
     "start_time": "2022-12-05T16:48:28.867594",
     "status": "completed"
    },
    "tags": []
   },
   "outputs": [],
   "source": [
    "with open(OUTPUT_DIR_BASE / \"gwas_variant_ids.pkl\", \"rb\") as handle:\n",
    "    gwas_variants_ids_set = pickle.load(handle)"
   ]
  },
  {
   "cell_type": "code",
   "execution_count": 13,
   "id": "b9d9dec2-4a76-4bf9-bde2-e24c95acb8a0",
   "metadata": {
    "execution": {
     "iopub.execute_input": "2022-12-05T16:48:31.228995Z",
     "iopub.status.busy": "2022-12-05T16:48:31.228573Z",
     "iopub.status.idle": "2022-12-05T16:48:31.246475Z",
     "shell.execute_reply": "2022-12-05T16:48:31.246013Z"
    },
    "papermill": {
     "duration": 0.028334,
     "end_time": "2022-12-05T16:48:31.248091",
     "exception": false,
     "start_time": "2022-12-05T16:48:31.219757",
     "status": "completed"
    },
    "tags": []
   },
   "outputs": [
    {
     "data": {
      "text/plain": [
       "8578486"
      ]
     },
     "execution_count": 13,
     "metadata": {},
     "output_type": "execute_result"
    }
   ],
   "source": [
    "len(gwas_variants_ids_set)"
   ]
  },
  {
   "cell_type": "code",
   "execution_count": 14,
   "id": "4235b06a-6034-4ee4-a0a3-2ae35d122418",
   "metadata": {
    "execution": {
     "iopub.execute_input": "2022-12-05T16:48:31.265720Z",
     "iopub.status.busy": "2022-12-05T16:48:31.265233Z",
     "iopub.status.idle": "2022-12-05T16:48:31.801270Z",
     "shell.execute_reply": "2022-12-05T16:48:31.800819Z"
    },
    "papermill": {
     "duration": 0.546854,
     "end_time": "2022-12-05T16:48:31.802823",
     "exception": false,
     "start_time": "2022-12-05T16:48:31.255969",
     "status": "completed"
    },
    "tags": []
   },
   "outputs": [
    {
     "data": {
      "text/plain": [
       "['chr7_52587480_C_A_b38',\n",
       " 'chr14_41034593_T_C_b38',\n",
       " 'chr5_104360597_T_C_b38',\n",
       " 'chr7_35810612_C_T_b38',\n",
       " 'chr4_142843752_G_T_b38']"
      ]
     },
     "execution_count": 14,
     "metadata": {},
     "output_type": "execute_result"
    }
   ],
   "source": [
    "list(gwas_variants_ids_set)[:5]"
   ]
  },
  {
   "cell_type": "markdown",
   "id": "07866999-2305-41f9-a144-e69c9122c212",
   "metadata": {
    "papermill": {
     "duration": 0.008505,
     "end_time": "2022-12-05T16:48:31.820853",
     "exception": false,
     "start_time": "2022-12-05T16:48:31.812348",
     "status": "completed"
    },
    "tags": []
   },
   "source": [
    "## S-PrediXcan tissue models"
   ]
  },
  {
   "cell_type": "code",
   "execution_count": 15,
   "id": "780611d9-77c8-405f-90a4-f271f7b09397",
   "metadata": {
    "execution": {
     "iopub.execute_input": "2022-12-05T16:48:31.842024Z",
     "iopub.status.busy": "2022-12-05T16:48:31.841518Z",
     "iopub.status.idle": "2022-12-05T16:48:32.718934Z",
     "shell.execute_reply": "2022-12-05T16:48:32.718540Z"
    },
    "papermill": {
     "duration": 0.890959,
     "end_time": "2022-12-05T16:48:32.720663",
     "exception": false,
     "start_time": "2022-12-05T16:48:31.829704",
     "status": "completed"
    },
    "tags": []
   },
   "outputs": [],
   "source": [
    "spredixcan_genes_models = pd.read_pickle(OUTPUT_DIR_BASE / \"gene_tissues.pkl\")"
   ]
  },
  {
   "cell_type": "code",
   "execution_count": 16,
   "id": "726dd1f6-9557-4225-91fa-b3b879ea96e1",
   "metadata": {
    "execution": {
     "iopub.execute_input": "2022-12-05T16:48:32.741834Z",
     "iopub.status.busy": "2022-12-05T16:48:32.741532Z",
     "iopub.status.idle": "2022-12-05T16:48:32.756433Z",
     "shell.execute_reply": "2022-12-05T16:48:32.756093Z"
    },
    "papermill": {
     "duration": 0.027236,
     "end_time": "2022-12-05T16:48:32.757924",
     "exception": false,
     "start_time": "2022-12-05T16:48:32.730688",
     "status": "completed"
    },
    "tags": []
   },
   "outputs": [
    {
     "data": {
      "text/plain": [
       "(6443, 5)"
      ]
     },
     "execution_count": 16,
     "metadata": {},
     "output_type": "execute_result"
    }
   ],
   "source": [
    "spredixcan_genes_models.shape"
   ]
  },
  {
   "cell_type": "code",
   "execution_count": 17,
   "id": "944a1b48-222c-4eb0-b252-b9de2cbca215",
   "metadata": {
    "execution": {
     "iopub.execute_input": "2022-12-05T16:48:32.779935Z",
     "iopub.status.busy": "2022-12-05T16:48:32.779654Z",
     "iopub.status.idle": "2022-12-05T16:48:32.799401Z",
     "shell.execute_reply": "2022-12-05T16:48:32.799052Z"
    },
    "papermill": {
     "duration": 0.032281,
     "end_time": "2022-12-05T16:48:32.800851",
     "exception": false,
     "start_time": "2022-12-05T16:48:32.768570",
     "status": "completed"
    },
    "tags": []
   },
   "outputs": [
    {
     "data": {
      "text/html": [
       "<div>\n",
       "<style scoped>\n",
       "    .dataframe tbody tr th:only-of-type {\n",
       "        vertical-align: middle;\n",
       "    }\n",
       "\n",
       "    .dataframe tbody tr th {\n",
       "        vertical-align: top;\n",
       "    }\n",
       "\n",
       "    .dataframe thead th {\n",
       "        text-align: right;\n",
       "    }\n",
       "</style>\n",
       "<table border=\"1\" class=\"dataframe\">\n",
       "  <thead>\n",
       "    <tr style=\"text-align: right;\">\n",
       "      <th></th>\n",
       "      <th>gene_name</th>\n",
       "      <th>tissue</th>\n",
       "      <th>n_tissues</th>\n",
       "      <th>n_snps_used_sum</th>\n",
       "      <th>n_snps_in_model_sum</th>\n",
       "    </tr>\n",
       "    <tr>\n",
       "      <th>gene_id</th>\n",
       "      <th></th>\n",
       "      <th></th>\n",
       "      <th></th>\n",
       "      <th></th>\n",
       "      <th></th>\n",
       "    </tr>\n",
       "  </thead>\n",
       "  <tbody>\n",
       "    <tr>\n",
       "      <th>ENSG00000000419</th>\n",
       "      <td>DPM1</td>\n",
       "      <td>(Brain_Hypothalamus, Brain_Substantia_nigra)</td>\n",
       "      <td>2</td>\n",
       "      <td>2</td>\n",
       "      <td>2</td>\n",
       "    </tr>\n",
       "    <tr>\n",
       "      <th>ENSG00000000938</th>\n",
       "      <td>FGR</td>\n",
       "      <td>(Cells_EBV-transformed_lymphocytes, Colon_Sigm...</td>\n",
       "      <td>36</td>\n",
       "      <td>40</td>\n",
       "      <td>40</td>\n",
       "    </tr>\n",
       "    <tr>\n",
       "      <th>ENSG00000000971</th>\n",
       "      <td>CFH</td>\n",
       "      <td>(Ovary, Colon_Sigmoid, Breast_Mammary_Tissue, ...</td>\n",
       "      <td>34</td>\n",
       "      <td>44</td>\n",
       "      <td>44</td>\n",
       "    </tr>\n",
       "    <tr>\n",
       "      <th>ENSG00000001084</th>\n",
       "      <td>GCLC</td>\n",
       "      <td>(Cells_EBV-transformed_lymphocytes, Pancreas, ...</td>\n",
       "      <td>32</td>\n",
       "      <td>46</td>\n",
       "      <td>46</td>\n",
       "    </tr>\n",
       "    <tr>\n",
       "      <th>ENSG00000001167</th>\n",
       "      <td>NFYA</td>\n",
       "      <td>(Ovary, Colon_Sigmoid, Breast_Mammary_Tissue, ...</td>\n",
       "      <td>40</td>\n",
       "      <td>47</td>\n",
       "      <td>48</td>\n",
       "    </tr>\n",
       "  </tbody>\n",
       "</table>\n",
       "</div>"
      ],
      "text/plain": [
       "                gene_name                                             tissue  \\\n",
       "gene_id                                                                        \n",
       "ENSG00000000419      DPM1       (Brain_Hypothalamus, Brain_Substantia_nigra)   \n",
       "ENSG00000000938       FGR  (Cells_EBV-transformed_lymphocytes, Colon_Sigm...   \n",
       "ENSG00000000971       CFH  (Ovary, Colon_Sigmoid, Breast_Mammary_Tissue, ...   \n",
       "ENSG00000001084      GCLC  (Cells_EBV-transformed_lymphocytes, Pancreas, ...   \n",
       "ENSG00000001167      NFYA  (Ovary, Colon_Sigmoid, Breast_Mammary_Tissue, ...   \n",
       "\n",
       "                 n_tissues  n_snps_used_sum  n_snps_in_model_sum  \n",
       "gene_id                                                           \n",
       "ENSG00000000419          2                2                    2  \n",
       "ENSG00000000938         36               40                   40  \n",
       "ENSG00000000971         34               44                   44  \n",
       "ENSG00000001084         32               46                   46  \n",
       "ENSG00000001167         40               47                   48  "
      ]
     },
     "execution_count": 17,
     "metadata": {},
     "output_type": "execute_result"
    }
   ],
   "source": [
    "spredixcan_genes_models.head()"
   ]
  },
  {
   "cell_type": "code",
   "execution_count": 18,
   "id": "d1c11bb1-be0b-4f40-b360-633d6827109f",
   "metadata": {
    "execution": {
     "iopub.execute_input": "2022-12-05T16:48:32.823008Z",
     "iopub.status.busy": "2022-12-05T16:48:32.822476Z",
     "iopub.status.idle": "2022-12-05T16:48:32.837500Z",
     "shell.execute_reply": "2022-12-05T16:48:32.837119Z"
    },
    "papermill": {
     "duration": 0.027827,
     "end_time": "2022-12-05T16:48:32.839123",
     "exception": false,
     "start_time": "2022-12-05T16:48:32.811296",
     "status": "completed"
    },
    "tags": []
   },
   "outputs": [],
   "source": [
    "assert spredixcan_genes_models.index.is_unique"
   ]
  },
  {
   "cell_type": "markdown",
   "id": "a5b5092c-a13e-47c4-a92a-480fcc08f3ae",
   "metadata": {
    "papermill": {
     "duration": 0.01096,
     "end_time": "2022-12-05T16:48:32.860794",
     "exception": false,
     "start_time": "2022-12-05T16:48:32.849834",
     "status": "completed"
    },
    "tags": []
   },
   "source": [
    "## Gene info"
   ]
  },
  {
   "cell_type": "code",
   "execution_count": 19,
   "id": "7d6bb224-88e9-4358-ac10-43a41d92cdad",
   "metadata": {
    "execution": {
     "iopub.execute_input": "2022-12-05T16:48:32.882393Z",
     "iopub.status.busy": "2022-12-05T16:48:32.882052Z",
     "iopub.status.idle": "2022-12-05T16:48:32.907995Z",
     "shell.execute_reply": "2022-12-05T16:48:32.907557Z"
    },
    "papermill": {
     "duration": 0.03884,
     "end_time": "2022-12-05T16:48:32.909646",
     "exception": false,
     "start_time": "2022-12-05T16:48:32.870806",
     "status": "completed"
    },
    "tags": []
   },
   "outputs": [],
   "source": [
    "genes_info = pd.read_pickle(OUTPUT_DIR_BASE / \"genes_info.pkl\")"
   ]
  },
  {
   "cell_type": "code",
   "execution_count": 20,
   "id": "9e32abfa-546d-483e-8c18-d526e9e05903",
   "metadata": {
    "execution": {
     "iopub.execute_input": "2022-12-05T16:48:32.932175Z",
     "iopub.status.busy": "2022-12-05T16:48:32.931766Z",
     "iopub.status.idle": "2022-12-05T16:48:32.955322Z",
     "shell.execute_reply": "2022-12-05T16:48:32.954913Z"
    },
    "papermill": {
     "duration": 0.035754,
     "end_time": "2022-12-05T16:48:32.956782",
     "exception": false,
     "start_time": "2022-12-05T16:48:32.921028",
     "status": "completed"
    },
    "tags": []
   },
   "outputs": [
    {
     "data": {
      "text/plain": [
       "(6443, 7)"
      ]
     },
     "execution_count": 20,
     "metadata": {},
     "output_type": "execute_result"
    }
   ],
   "source": [
    "genes_info.shape"
   ]
  },
  {
   "cell_type": "code",
   "execution_count": 21,
   "id": "d16c3e92-85ec-468a-9a56-e25a9774a1cb",
   "metadata": {
    "execution": {
     "iopub.execute_input": "2022-12-05T16:48:32.979177Z",
     "iopub.status.busy": "2022-12-05T16:48:32.978902Z",
     "iopub.status.idle": "2022-12-05T16:48:33.007476Z",
     "shell.execute_reply": "2022-12-05T16:48:33.007075Z"
    },
    "papermill": {
     "duration": 0.041639,
     "end_time": "2022-12-05T16:48:33.008880",
     "exception": false,
     "start_time": "2022-12-05T16:48:32.967241",
     "status": "completed"
    },
    "tags": []
   },
   "outputs": [
    {
     "data": {
      "text/html": [
       "<div>\n",
       "<style scoped>\n",
       "    .dataframe tbody tr th:only-of-type {\n",
       "        vertical-align: middle;\n",
       "    }\n",
       "\n",
       "    .dataframe tbody tr th {\n",
       "        vertical-align: top;\n",
       "    }\n",
       "\n",
       "    .dataframe thead th {\n",
       "        text-align: right;\n",
       "    }\n",
       "</style>\n",
       "<table border=\"1\" class=\"dataframe\">\n",
       "  <thead>\n",
       "    <tr style=\"text-align: right;\">\n",
       "      <th></th>\n",
       "      <th>name</th>\n",
       "      <th>id</th>\n",
       "      <th>chr</th>\n",
       "      <th>band</th>\n",
       "      <th>start_position</th>\n",
       "      <th>end_position</th>\n",
       "      <th>gene_length</th>\n",
       "    </tr>\n",
       "  </thead>\n",
       "  <tbody>\n",
       "    <tr>\n",
       "      <th>0</th>\n",
       "      <td>MRPL44</td>\n",
       "      <td>ENSG00000135900</td>\n",
       "      <td>2</td>\n",
       "      <td>2q36.1</td>\n",
       "      <td>223957463</td>\n",
       "      <td>223967714</td>\n",
       "      <td>10251</td>\n",
       "    </tr>\n",
       "    <tr>\n",
       "      <th>1</th>\n",
       "      <td>H1FX</td>\n",
       "      <td>ENSG00000184897</td>\n",
       "      <td>3</td>\n",
       "      <td>3q21.3</td>\n",
       "      <td>129314771</td>\n",
       "      <td>129316286</td>\n",
       "      <td>1515</td>\n",
       "    </tr>\n",
       "    <tr>\n",
       "      <th>2</th>\n",
       "      <td>AGRN</td>\n",
       "      <td>ENSG00000188157</td>\n",
       "      <td>1</td>\n",
       "      <td>1p36.33</td>\n",
       "      <td>1020120</td>\n",
       "      <td>1056118</td>\n",
       "      <td>35998</td>\n",
       "    </tr>\n",
       "    <tr>\n",
       "      <th>3</th>\n",
       "      <td>DNAJB2</td>\n",
       "      <td>ENSG00000135924</td>\n",
       "      <td>2</td>\n",
       "      <td>2q35</td>\n",
       "      <td>219279267</td>\n",
       "      <td>219286900</td>\n",
       "      <td>7633</td>\n",
       "    </tr>\n",
       "    <tr>\n",
       "      <th>4</th>\n",
       "      <td>PISD</td>\n",
       "      <td>ENSG00000241878</td>\n",
       "      <td>22</td>\n",
       "      <td>22q12.2</td>\n",
       "      <td>31618491</td>\n",
       "      <td>31662432</td>\n",
       "      <td>43941</td>\n",
       "    </tr>\n",
       "  </tbody>\n",
       "</table>\n",
       "</div>"
      ],
      "text/plain": [
       "     name               id  chr     band  start_position  end_position  \\\n",
       "0  MRPL44  ENSG00000135900    2   2q36.1       223957463     223967714   \n",
       "1    H1FX  ENSG00000184897    3   3q21.3       129314771     129316286   \n",
       "2    AGRN  ENSG00000188157    1  1p36.33         1020120       1056118   \n",
       "3  DNAJB2  ENSG00000135924    2     2q35       219279267     219286900   \n",
       "4    PISD  ENSG00000241878   22  22q12.2        31618491      31662432   \n",
       "\n",
       "   gene_length  \n",
       "0        10251  \n",
       "1         1515  \n",
       "2        35998  \n",
       "3         7633  \n",
       "4        43941  "
      ]
     },
     "execution_count": 21,
     "metadata": {},
     "output_type": "execute_result"
    }
   ],
   "source": [
    "genes_info.head()"
   ]
  },
  {
   "cell_type": "markdown",
   "id": "d3843e06",
   "metadata": {
    "papermill": {
     "duration": 0.010447,
     "end_time": "2022-12-05T16:48:33.030546",
     "exception": false,
     "start_time": "2022-12-05T16:48:33.020099",
     "status": "completed"
    },
    "tags": []
   },
   "source": [
    "# Compute correlations"
   ]
  },
  {
   "cell_type": "code",
   "execution_count": 22,
   "id": "cb859c15-d1f3-4006-a74c-2b83c0db9611",
   "metadata": {
    "execution": {
     "iopub.execute_input": "2022-12-05T16:48:33.054227Z",
     "iopub.status.busy": "2022-12-05T16:48:33.053686Z",
     "iopub.status.idle": "2022-12-05T16:48:33.080922Z",
     "shell.execute_reply": "2022-12-05T16:48:33.080301Z"
    },
    "papermill": {
     "duration": 0.041268,
     "end_time": "2022-12-05T16:48:33.082531",
     "exception": false,
     "start_time": "2022-12-05T16:48:33.041263",
     "status": "completed"
    },
    "tags": []
   },
   "outputs": [
    {
     "data": {
      "text/plain": [
       "PosixPath('/opt/data/projects/asthma-copd/results/gls_phenoplier/gene_corrs/asthma_only/by_chr/gene_corrs-chr7.pkl')"
      ]
     },
     "metadata": {},
     "output_type": "display_data"
    }
   ],
   "source": [
    "output_dir = OUTPUT_DIR_BASE / \"by_chr\"\n",
    "output_dir.mkdir(exist_ok=True, parents=True)\n",
    "output_file = output_dir / f\"gene_corrs-chr{CHROMOSOME}.pkl\"\n",
    "display(output_file)"
   ]
  },
  {
   "cell_type": "code",
   "execution_count": 23,
   "id": "aa674fe4-6794-4eed-98fa-32b39d1d4ace",
   "metadata": {
    "execution": {
     "iopub.execute_input": "2022-12-05T16:48:33.108301Z",
     "iopub.status.busy": "2022-12-05T16:48:33.108042Z",
     "iopub.status.idle": "2022-12-05T16:48:33.133451Z",
     "shell.execute_reply": "2022-12-05T16:48:33.132769Z"
    },
    "papermill": {
     "duration": 0.040368,
     "end_time": "2022-12-05T16:48:33.134914",
     "exception": false,
     "start_time": "2022-12-05T16:48:33.094546",
     "status": "completed"
    },
    "tags": []
   },
   "outputs": [],
   "source": [
    "warnings.filterwarnings(\"error\")"
   ]
  },
  {
   "cell_type": "code",
   "execution_count": 24,
   "id": "44d5450b-3baf-43f1-9e2e-4b06f1a785f8",
   "metadata": {
    "execution": {
     "iopub.execute_input": "2022-12-05T16:48:33.156771Z",
     "iopub.status.busy": "2022-12-05T16:48:33.156328Z",
     "iopub.status.idle": "2022-12-05T16:48:33.180229Z",
     "shell.execute_reply": "2022-12-05T16:48:33.179724Z"
    },
    "papermill": {
     "duration": 0.036288,
     "end_time": "2022-12-05T16:48:33.181901",
     "exception": false,
     "start_time": "2022-12-05T16:48:33.145613",
     "status": "completed"
    },
    "tags": []
   },
   "outputs": [],
   "source": [
    "# standard checks\n",
    "all_chrs = genes_info[\"chr\"].dropna().unique()\n",
    "assert all_chrs.shape[0] == 22\n",
    "\n",
    "# select chromosome given by the user\n",
    "assert CHROMOSOME in all_chrs"
   ]
  },
  {
   "cell_type": "code",
   "execution_count": 25,
   "id": "2d7c043c-92a7-4d35-991b-fa69ac1e0268",
   "metadata": {
    "execution": {
     "iopub.execute_input": "2022-12-05T16:48:33.203947Z",
     "iopub.status.busy": "2022-12-05T16:48:33.203681Z",
     "iopub.status.idle": "2022-12-05T16:48:33.229068Z",
     "shell.execute_reply": "2022-12-05T16:48:33.228532Z"
    },
    "papermill": {
     "duration": 0.038041,
     "end_time": "2022-12-05T16:48:33.230504",
     "exception": false,
     "start_time": "2022-12-05T16:48:33.192463",
     "status": "completed"
    },
    "tags": []
   },
   "outputs": [
    {
     "name": "stdout",
     "output_type": "stream",
     "text": [
      "Number of genes in chromosome: 281\n"
     ]
    }
   ],
   "source": [
    "# run only on the chromosome specified\n",
    "all_chrs = [CHROMOSOME]\n",
    "genes_chr = genes_info[genes_info[\"chr\"] == CHROMOSOME]\n",
    "\n",
    "# For testing purposes\n",
    "# genes_chr = genes_chr.sample(n=20)\n",
    "\n",
    "print(f\"Number of genes in chromosome: {genes_chr.shape[0]}\", flush=True)"
   ]
  },
  {
   "cell_type": "code",
   "execution_count": 26,
   "id": "916015d8-2979-46d3-a9b9-1cf5a0932c6a",
   "metadata": {
    "execution": {
     "iopub.execute_input": "2022-12-05T16:48:33.252806Z",
     "iopub.status.busy": "2022-12-05T16:48:33.252520Z",
     "iopub.status.idle": "2022-12-05T16:48:33.275979Z",
     "shell.execute_reply": "2022-12-05T16:48:33.275454Z"
    },
    "papermill": {
     "duration": 0.036275,
     "end_time": "2022-12-05T16:48:33.277741",
     "exception": false,
     "start_time": "2022-12-05T16:48:33.241466",
     "status": "completed"
    },
    "tags": []
   },
   "outputs": [],
   "source": [
    "# sort genes by starting position to make visualizations better later\n",
    "genes_chr = genes_chr.sort_values(\"start_position\")"
   ]
  },
  {
   "cell_type": "code",
   "execution_count": 27,
   "id": "a38aa74a-8ad3-47f6-8ef9-56be0e011774",
   "metadata": {
    "execution": {
     "iopub.execute_input": "2022-12-05T16:48:33.300378Z",
     "iopub.status.busy": "2022-12-05T16:48:33.300030Z",
     "iopub.status.idle": "2022-12-05T16:48:33.324174Z",
     "shell.execute_reply": "2022-12-05T16:48:33.323570Z"
    },
    "papermill": {
     "duration": 0.037328,
     "end_time": "2022-12-05T16:48:33.325815",
     "exception": false,
     "start_time": "2022-12-05T16:48:33.288487",
     "status": "completed"
    },
    "tags": []
   },
   "outputs": [],
   "source": [
    "gene_chr_objs = [Gene(ensembl_id=gene_id) for gene_id in genes_chr[\"id\"]]"
   ]
  },
  {
   "cell_type": "code",
   "execution_count": 28,
   "id": "570f974f-13c3-42b6-ad3a-ce99ca885c1a",
   "metadata": {
    "execution": {
     "iopub.execute_input": "2022-12-05T16:48:33.348551Z",
     "iopub.status.busy": "2022-12-05T16:48:33.348000Z",
     "iopub.status.idle": "2022-12-05T16:48:33.371776Z",
     "shell.execute_reply": "2022-12-05T16:48:33.371177Z"
    },
    "papermill": {
     "duration": 0.036943,
     "end_time": "2022-12-05T16:48:33.373318",
     "exception": false,
     "start_time": "2022-12-05T16:48:33.336375",
     "status": "completed"
    },
    "tags": []
   },
   "outputs": [
    {
     "name": "stdout",
     "output_type": "stream",
     "text": [
      "Number of gene combinations: 39621\n"
     ]
    }
   ],
   "source": [
    "n = len(gene_chr_objs)\n",
    "# diagonal elements + upper triangular matrix\n",
    "n_comb = n + int(n * (n - 1) / 2.0)\n",
    "print(f\"Number of gene combinations: {n_comb}\", flush=True)"
   ]
  },
  {
   "cell_type": "code",
   "execution_count": 29,
   "id": "cdbb90a1",
   "metadata": {
    "execution": {
     "iopub.execute_input": "2022-12-05T16:48:33.396040Z",
     "iopub.status.busy": "2022-12-05T16:48:33.395744Z",
     "iopub.status.idle": "2022-12-05T16:52:01.234434Z",
     "shell.execute_reply": "2022-12-05T16:52:01.233851Z"
    },
    "papermill": {
     "duration": 207.851795,
     "end_time": "2022-12-05T16:52:01.236023",
     "exception": false,
     "start_time": "2022-12-05T16:48:33.384228",
     "status": "completed"
    },
    "tags": []
   },
   "outputs": [
    {
     "name": "stderr",
     "output_type": "stream",
     "text": [
      "ENSG00000106018 / ENSG00000106018: 100%|█████████████████████| 39621/39621 [03:27<00:00, 190.67it/s]\n"
     ]
    },
    {
     "data": {
      "text/plain": [
       "PosixPath('/opt/data/projects/asthma-copd/results/gls_phenoplier/gene_corrs/asthma_only/by_chr/gene_corrs-chr7.pkl')"
      ]
     },
     "metadata": {},
     "output_type": "display_data"
    }
   ],
   "source": [
    "gene_corrs = []\n",
    "gene_corrs_data = np.full(\n",
    "    (n, n),\n",
    "    np.nan,\n",
    "    dtype=np.float64,\n",
    ")\n",
    "\n",
    "i = 0\n",
    "with tqdm(ncols=100, total=n_comb) as pbar:\n",
    "    for gene1_idx in range(0, len(gene_chr_objs)):\n",
    "        gene1_obj = gene_chr_objs[gene1_idx]\n",
    "        gene1_tissues = spredixcan_genes_models.loc[gene1_obj.ensembl_id, \"tissue\"]\n",
    "\n",
    "        for gene2_idx in range(gene1_idx, len(gene_chr_objs)):\n",
    "            gene2_obj = gene_chr_objs[gene2_idx]\n",
    "            gene2_tissues = spredixcan_genes_models.loc[gene2_obj.ensembl_id, \"tissue\"]\n",
    "\n",
    "            pbar.set_description(f\"{gene1_obj.ensembl_id} / {gene2_obj.ensembl_id}\")\n",
    "\n",
    "            try:\n",
    "                r = gene1_obj.get_ssm_correlation(\n",
    "                    other_gene=gene2_obj,\n",
    "                    tissues=gene1_tissues,\n",
    "                    other_tissues=gene2_tissues,\n",
    "                    snps_subset=gwas_variants_ids_set,\n",
    "                    condition_number=SMULTIXCAN_CONDITION_NUMBER,\n",
    "                    reference_panel=REFERENCE_PANEL,\n",
    "                    model_type=EQTL_MODEL,\n",
    "                    use_within_distance=COMPUTE_CORRELATIONS_WITHIN_DISTANCE,\n",
    "                )\n",
    "\n",
    "                if r is None:\n",
    "                    # if r is None, it's very likely because:\n",
    "                    #  * one of the genes has no prediction models\n",
    "                    #  * all the SNPs predictors for the gene are not present in the reference\n",
    "                    #    panel\n",
    "\n",
    "                    r = 0.0\n",
    "\n",
    "                gene_corrs.append(r)\n",
    "\n",
    "                gene_corrs_data[gene1_idx, gene2_idx] = r\n",
    "                gene_corrs_data[gene2_idx, gene1_idx] = r\n",
    "            except Warning as e:\n",
    "                if not DEBUG_MODE:\n",
    "                    raise e\n",
    "\n",
    "                print(\n",
    "                    f\"RuntimeWarning for genes {gene1_obj.ensembl_id} and {gene2_obj.ensembl_id}\",\n",
    "                    flush=True,\n",
    "                )\n",
    "                print(traceback.format_exc(), flush=True)\n",
    "\n",
    "                gene_corrs.append(np.nan)\n",
    "            except Exception as e:\n",
    "                if not DEBUG_MODE:\n",
    "                    raise e\n",
    "\n",
    "                print(\n",
    "                    f\"Exception for genes {gene1_obj.ensembl_id} and {gene2_obj.ensembl_id}\",\n",
    "                    flush=True,\n",
    "                )\n",
    "                print(traceback.format_exc(), flush=True)\n",
    "\n",
    "                gene_corrs.append(np.nan)\n",
    "\n",
    "            pbar.update(1)\n",
    "\n",
    "# create a pandas series\n",
    "gene_corrs_flat = pd.Series(gene_corrs)\n",
    "\n",
    "# save\n",
    "# FIXME: consider saving only the condenced matrix here. See here for\n",
    "# more details: https://github.com/greenelab/phenoplier/pull/38#discussion_r634600813\n",
    "# gene_corrs_data = squareform(np.array(gene_corrs, dtype=np.float64))\n",
    "# np.fill_diagonal(gene_corrs_data, 1.0)\n",
    "\n",
    "gene_chr_ids = [g.ensembl_id for g in gene_chr_objs]\n",
    "gene_corrs_df = pd.DataFrame(\n",
    "    data=gene_corrs_data,\n",
    "    index=gene_chr_ids,\n",
    "    columns=gene_chr_ids,\n",
    ")\n",
    "\n",
    "output_dir.mkdir(exist_ok=True, parents=True)\n",
    "display(output_file)\n",
    "\n",
    "gene_corrs_df.to_pickle(output_file)"
   ]
  },
  {
   "cell_type": "markdown",
   "id": "faa67b51-5373-470f-aa72-2ded53fa6dfe",
   "metadata": {
    "papermill": {
     "duration": 1.224981,
     "end_time": "2022-12-05T16:52:03.704032",
     "exception": false,
     "start_time": "2022-12-05T16:52:02.479051",
     "status": "completed"
    },
    "tags": []
   },
   "source": [
    "# Testing"
   ]
  },
  {
   "cell_type": "code",
   "execution_count": 30,
   "id": "14f7d046-4b55-4896-a56b-990127bcc388",
   "metadata": {
    "execution": {
     "iopub.execute_input": "2022-12-05T16:52:06.073057Z",
     "iopub.status.busy": "2022-12-05T16:52:06.072743Z",
     "iopub.status.idle": "2022-12-05T16:52:06.093100Z",
     "shell.execute_reply": "2022-12-05T16:52:06.092487Z"
    },
    "papermill": {
     "duration": 1.182091,
     "end_time": "2022-12-05T16:52:06.093994",
     "exception": false,
     "start_time": "2022-12-05T16:52:04.911903",
     "status": "completed"
    },
    "tags": []
   },
   "outputs": [
    {
     "data": {
      "text/plain": [
       "(281, 281)"
      ]
     },
     "execution_count": 30,
     "metadata": {},
     "output_type": "execute_result"
    }
   ],
   "source": [
    "gene_corrs_df.shape"
   ]
  },
  {
   "cell_type": "code",
   "execution_count": 31,
   "id": "c7d15414-3297-4537-a7c6-7588c0baeb75",
   "metadata": {
    "execution": {
     "iopub.execute_input": "2022-12-05T16:52:08.496823Z",
     "iopub.status.busy": "2022-12-05T16:52:08.496346Z",
     "iopub.status.idle": "2022-12-05T16:52:08.537840Z",
     "shell.execute_reply": "2022-12-05T16:52:08.537193Z"
    },
    "papermill": {
     "duration": 1.273009,
     "end_time": "2022-12-05T16:52:08.538717",
     "exception": false,
     "start_time": "2022-12-05T16:52:07.265708",
     "status": "completed"
    },
    "tags": []
   },
   "outputs": [
    {
     "data": {
      "text/html": [
       "<div>\n",
       "<style scoped>\n",
       "    .dataframe tbody tr th:only-of-type {\n",
       "        vertical-align: middle;\n",
       "    }\n",
       "\n",
       "    .dataframe tbody tr th {\n",
       "        vertical-align: top;\n",
       "    }\n",
       "\n",
       "    .dataframe thead th {\n",
       "        text-align: right;\n",
       "    }\n",
       "</style>\n",
       "<table border=\"1\" class=\"dataframe\">\n",
       "  <thead>\n",
       "    <tr style=\"text-align: right;\">\n",
       "      <th></th>\n",
       "      <th>ENSG00000197461</th>\n",
       "      <th>ENSG00000188191</th>\n",
       "      <th>ENSG00000105963</th>\n",
       "      <th>ENSG00000198517</th>\n",
       "      <th>ENSG00000002822</th>\n",
       "      <th>ENSG00000106263</th>\n",
       "      <th>ENSG00000136213</th>\n",
       "      <th>ENSG00000106003</th>\n",
       "      <th>ENSG00000146535</th>\n",
       "      <th>ENSG00000198286</th>\n",
       "      <th>...</th>\n",
       "      <th>ENSG00000164889</th>\n",
       "      <th>ENSG00000033100</th>\n",
       "      <th>ENSG00000082014</th>\n",
       "      <th>ENSG00000013374</th>\n",
       "      <th>ENSG00000106615</th>\n",
       "      <th>ENSG00000106617</th>\n",
       "      <th>ENSG00000178234</th>\n",
       "      <th>ENSG00000009335</th>\n",
       "      <th>ENSG00000155093</th>\n",
       "      <th>ENSG00000106018</th>\n",
       "    </tr>\n",
       "  </thead>\n",
       "  <tbody>\n",
       "    <tr>\n",
       "      <th>ENSG00000197461</th>\n",
       "      <td>1.000000</td>\n",
       "      <td>0.083157</td>\n",
       "      <td>0.033978</td>\n",
       "      <td>0.003060</td>\n",
       "      <td>0.013065</td>\n",
       "      <td>0.009004</td>\n",
       "      <td>0.019057</td>\n",
       "      <td>0.012376</td>\n",
       "      <td>0.009234</td>\n",
       "      <td>0.014266</td>\n",
       "      <td>...</td>\n",
       "      <td>0.0</td>\n",
       "      <td>0.0</td>\n",
       "      <td>0.0</td>\n",
       "      <td>0.0</td>\n",
       "      <td>0.0</td>\n",
       "      <td>0.0</td>\n",
       "      <td>0.0</td>\n",
       "      <td>0.0</td>\n",
       "      <td>0.0</td>\n",
       "      <td>0.0</td>\n",
       "    </tr>\n",
       "    <tr>\n",
       "      <th>ENSG00000188191</th>\n",
       "      <td>0.083157</td>\n",
       "      <td>1.000000</td>\n",
       "      <td>0.078571</td>\n",
       "      <td>0.004194</td>\n",
       "      <td>0.009341</td>\n",
       "      <td>0.002894</td>\n",
       "      <td>0.009530</td>\n",
       "      <td>0.004923</td>\n",
       "      <td>0.002952</td>\n",
       "      <td>0.008014</td>\n",
       "      <td>...</td>\n",
       "      <td>0.0</td>\n",
       "      <td>0.0</td>\n",
       "      <td>0.0</td>\n",
       "      <td>0.0</td>\n",
       "      <td>0.0</td>\n",
       "      <td>0.0</td>\n",
       "      <td>0.0</td>\n",
       "      <td>0.0</td>\n",
       "      <td>0.0</td>\n",
       "      <td>0.0</td>\n",
       "    </tr>\n",
       "    <tr>\n",
       "      <th>ENSG00000105963</th>\n",
       "      <td>0.033978</td>\n",
       "      <td>0.078571</td>\n",
       "      <td>1.000000</td>\n",
       "      <td>0.011125</td>\n",
       "      <td>0.016978</td>\n",
       "      <td>0.006438</td>\n",
       "      <td>0.012195</td>\n",
       "      <td>0.010466</td>\n",
       "      <td>0.010749</td>\n",
       "      <td>0.018232</td>\n",
       "      <td>...</td>\n",
       "      <td>0.0</td>\n",
       "      <td>0.0</td>\n",
       "      <td>0.0</td>\n",
       "      <td>0.0</td>\n",
       "      <td>0.0</td>\n",
       "      <td>0.0</td>\n",
       "      <td>0.0</td>\n",
       "      <td>0.0</td>\n",
       "      <td>0.0</td>\n",
       "      <td>0.0</td>\n",
       "    </tr>\n",
       "    <tr>\n",
       "      <th>ENSG00000198517</th>\n",
       "      <td>0.003060</td>\n",
       "      <td>0.004194</td>\n",
       "      <td>0.011125</td>\n",
       "      <td>1.000000</td>\n",
       "      <td>0.008667</td>\n",
       "      <td>0.008283</td>\n",
       "      <td>0.012122</td>\n",
       "      <td>0.007604</td>\n",
       "      <td>0.004019</td>\n",
       "      <td>0.005604</td>\n",
       "      <td>...</td>\n",
       "      <td>0.0</td>\n",
       "      <td>0.0</td>\n",
       "      <td>0.0</td>\n",
       "      <td>0.0</td>\n",
       "      <td>0.0</td>\n",
       "      <td>0.0</td>\n",
       "      <td>0.0</td>\n",
       "      <td>0.0</td>\n",
       "      <td>0.0</td>\n",
       "      <td>0.0</td>\n",
       "    </tr>\n",
       "    <tr>\n",
       "      <th>ENSG00000002822</th>\n",
       "      <td>0.013065</td>\n",
       "      <td>0.009341</td>\n",
       "      <td>0.016978</td>\n",
       "      <td>0.008667</td>\n",
       "      <td>1.000000</td>\n",
       "      <td>0.022969</td>\n",
       "      <td>0.045137</td>\n",
       "      <td>0.019808</td>\n",
       "      <td>0.014914</td>\n",
       "      <td>0.018587</td>\n",
       "      <td>...</td>\n",
       "      <td>0.0</td>\n",
       "      <td>0.0</td>\n",
       "      <td>0.0</td>\n",
       "      <td>0.0</td>\n",
       "      <td>0.0</td>\n",
       "      <td>0.0</td>\n",
       "      <td>0.0</td>\n",
       "      <td>0.0</td>\n",
       "      <td>0.0</td>\n",
       "      <td>0.0</td>\n",
       "    </tr>\n",
       "  </tbody>\n",
       "</table>\n",
       "<p>5 rows × 281 columns</p>\n",
       "</div>"
      ],
      "text/plain": [
       "                 ENSG00000197461  ENSG00000188191  ENSG00000105963  \\\n",
       "ENSG00000197461         1.000000         0.083157         0.033978   \n",
       "ENSG00000188191         0.083157         1.000000         0.078571   \n",
       "ENSG00000105963         0.033978         0.078571         1.000000   \n",
       "ENSG00000198517         0.003060         0.004194         0.011125   \n",
       "ENSG00000002822         0.013065         0.009341         0.016978   \n",
       "\n",
       "                 ENSG00000198517  ENSG00000002822  ENSG00000106263  \\\n",
       "ENSG00000197461         0.003060         0.013065         0.009004   \n",
       "ENSG00000188191         0.004194         0.009341         0.002894   \n",
       "ENSG00000105963         0.011125         0.016978         0.006438   \n",
       "ENSG00000198517         1.000000         0.008667         0.008283   \n",
       "ENSG00000002822         0.008667         1.000000         0.022969   \n",
       "\n",
       "                 ENSG00000136213  ENSG00000106003  ENSG00000146535  \\\n",
       "ENSG00000197461         0.019057         0.012376         0.009234   \n",
       "ENSG00000188191         0.009530         0.004923         0.002952   \n",
       "ENSG00000105963         0.012195         0.010466         0.010749   \n",
       "ENSG00000198517         0.012122         0.007604         0.004019   \n",
       "ENSG00000002822         0.045137         0.019808         0.014914   \n",
       "\n",
       "                 ENSG00000198286  ...  ENSG00000164889  ENSG00000033100  \\\n",
       "ENSG00000197461         0.014266  ...              0.0              0.0   \n",
       "ENSG00000188191         0.008014  ...              0.0              0.0   \n",
       "ENSG00000105963         0.018232  ...              0.0              0.0   \n",
       "ENSG00000198517         0.005604  ...              0.0              0.0   \n",
       "ENSG00000002822         0.018587  ...              0.0              0.0   \n",
       "\n",
       "                 ENSG00000082014  ENSG00000013374  ENSG00000106615  \\\n",
       "ENSG00000197461              0.0              0.0              0.0   \n",
       "ENSG00000188191              0.0              0.0              0.0   \n",
       "ENSG00000105963              0.0              0.0              0.0   \n",
       "ENSG00000198517              0.0              0.0              0.0   \n",
       "ENSG00000002822              0.0              0.0              0.0   \n",
       "\n",
       "                 ENSG00000106617  ENSG00000178234  ENSG00000009335  \\\n",
       "ENSG00000197461              0.0              0.0              0.0   \n",
       "ENSG00000188191              0.0              0.0              0.0   \n",
       "ENSG00000105963              0.0              0.0              0.0   \n",
       "ENSG00000198517              0.0              0.0              0.0   \n",
       "ENSG00000002822              0.0              0.0              0.0   \n",
       "\n",
       "                 ENSG00000155093  ENSG00000106018  \n",
       "ENSG00000197461              0.0              0.0  \n",
       "ENSG00000188191              0.0              0.0  \n",
       "ENSG00000105963              0.0              0.0  \n",
       "ENSG00000198517              0.0              0.0  \n",
       "ENSG00000002822              0.0              0.0  \n",
       "\n",
       "[5 rows x 281 columns]"
      ]
     },
     "execution_count": 31,
     "metadata": {},
     "output_type": "execute_result"
    }
   ],
   "source": [
    "gene_corrs_df.head()"
   ]
  },
  {
   "cell_type": "markdown",
   "id": "dad6603f-01c6-41fb-a6f6-241051207dd8",
   "metadata": {
    "papermill": {
     "duration": 1.218442,
     "end_time": "2022-12-05T16:52:10.943740",
     "exception": false,
     "start_time": "2022-12-05T16:52:09.725298",
     "status": "completed"
    },
    "tags": []
   },
   "source": [
    "## Standard checks and stats"
   ]
  },
  {
   "cell_type": "code",
   "execution_count": 32,
   "id": "286686af-1b7b-4440-8453-6bdcbd8de19c",
   "metadata": {
    "execution": {
     "iopub.execute_input": "2022-12-05T16:52:13.323904Z",
     "iopub.status.busy": "2022-12-05T16:52:13.323494Z",
     "iopub.status.idle": "2022-12-05T16:52:13.337795Z",
     "shell.execute_reply": "2022-12-05T16:52:13.337362Z"
    },
    "papermill": {
     "duration": 1.184632,
     "end_time": "2022-12-05T16:52:13.338809",
     "exception": false,
     "start_time": "2022-12-05T16:52:12.154177",
     "status": "completed"
    },
    "tags": []
   },
   "outputs": [],
   "source": [
    "assert not gene_corrs_df.isna().any(axis=None)"
   ]
  },
  {
   "cell_type": "code",
   "execution_count": 33,
   "id": "00583efc-7068-4270-ad1e-4a418e91db96",
   "metadata": {
    "execution": {
     "iopub.execute_input": "2022-12-05T16:52:15.754203Z",
     "iopub.status.busy": "2022-12-05T16:52:15.753777Z",
     "iopub.status.idle": "2022-12-05T16:52:15.768889Z",
     "shell.execute_reply": "2022-12-05T16:52:15.768504Z"
    },
    "papermill": {
     "duration": 1.174184,
     "end_time": "2022-12-05T16:52:15.770061",
     "exception": false,
     "start_time": "2022-12-05T16:52:14.595877",
     "status": "completed"
    },
    "tags": []
   },
   "outputs": [
    {
     "data": {
      "text/plain": [
       "0.0"
      ]
     },
     "metadata": {},
     "output_type": "display_data"
    }
   ],
   "source": [
    "_min_val = gene_corrs_df.min().min()\n",
    "display(_min_val)\n",
    "assert _min_val >= -0.05"
   ]
  },
  {
   "cell_type": "code",
   "execution_count": 34,
   "id": "d04fb2cf-1050-475b-b855-f5f7cc04092b",
   "metadata": {
    "execution": {
     "iopub.execute_input": "2022-12-05T16:52:18.170172Z",
     "iopub.status.busy": "2022-12-05T16:52:18.169512Z",
     "iopub.status.idle": "2022-12-05T16:52:18.193684Z",
     "shell.execute_reply": "2022-12-05T16:52:18.193069Z"
    },
    "papermill": {
     "duration": 1.226397,
     "end_time": "2022-12-05T16:52:18.194557",
     "exception": false,
     "start_time": "2022-12-05T16:52:16.968160",
     "status": "completed"
    },
    "tags": []
   },
   "outputs": [
    {
     "data": {
      "text/plain": [
       "1.0000000000000029"
      ]
     },
     "metadata": {},
     "output_type": "display_data"
    }
   ],
   "source": [
    "_max_val = gene_corrs_df.max().max()  # this captures the diagonal\n",
    "display(_max_val)\n",
    "assert _max_val <= 1.05"
   ]
  },
  {
   "cell_type": "code",
   "execution_count": 35,
   "id": "fe283586-c348-40e0-8841-f6d97bfb021c",
   "metadata": {
    "execution": {
     "iopub.execute_input": "2022-12-05T16:52:20.589524Z",
     "iopub.status.busy": "2022-12-05T16:52:20.589060Z",
     "iopub.status.idle": "2022-12-05T16:52:20.625792Z",
     "shell.execute_reply": "2022-12-05T16:52:20.625000Z"
    },
    "papermill": {
     "duration": 1.250225,
     "end_time": "2022-12-05T16:52:20.626932",
     "exception": false,
     "start_time": "2022-12-05T16:52:19.376707",
     "status": "completed"
    },
    "tags": []
   },
   "outputs": [
    {
     "data": {
      "text/plain": [
       "count    39621.000000\n",
       "mean         0.010106\n",
       "std          0.088927\n",
       "min          0.000000\n",
       "25%          0.000000\n",
       "50%          0.000000\n",
       "75%          0.000000\n",
       "max          1.000000\n",
       "dtype: float64"
      ]
     },
     "execution_count": 35,
     "metadata": {},
     "output_type": "execute_result"
    }
   ],
   "source": [
    "gene_corrs_flat.describe()"
   ]
  },
  {
   "cell_type": "code",
   "execution_count": 36,
   "id": "b3815678-0f93-4b35-897b-a9d047a2aa78",
   "metadata": {
    "execution": {
     "iopub.execute_input": "2022-12-05T16:52:23.028139Z",
     "iopub.status.busy": "2022-12-05T16:52:23.027786Z",
     "iopub.status.idle": "2022-12-05T16:52:23.053149Z",
     "shell.execute_reply": "2022-12-05T16:52:23.052463Z"
    },
    "papermill": {
     "duration": 1.222209,
     "end_time": "2022-12-05T16:52:23.054147",
     "exception": false,
     "start_time": "2022-12-05T16:52:21.831938",
     "status": "completed"
    },
    "tags": []
   },
   "outputs": [
    {
     "data": {
      "text/plain": [
       "0.00    0.000000\n",
       "0.05    0.000000\n",
       "0.10    0.000000\n",
       "0.15    0.000000\n",
       "0.20    0.000000\n",
       "0.25    0.000000\n",
       "0.30    0.000000\n",
       "0.35    0.000000\n",
       "0.40    0.000000\n",
       "0.45    0.000000\n",
       "0.50    0.000000\n",
       "0.55    0.000000\n",
       "0.60    0.000000\n",
       "0.65    0.000000\n",
       "0.70    0.000000\n",
       "0.75    0.000000\n",
       "0.80    0.000000\n",
       "0.85    0.000000\n",
       "0.90    0.000000\n",
       "0.95    0.007193\n",
       "dtype: float64"
      ]
     },
     "metadata": {},
     "output_type": "display_data"
    }
   ],
   "source": [
    "gene_corrs_quantiles = gene_corrs_flat.quantile(np.arange(0, 1, 0.05))\n",
    "display(gene_corrs_quantiles)"
   ]
  },
  {
   "cell_type": "markdown",
   "id": "87134509-b145-4a10-8bc9-b7e914c2b0fa",
   "metadata": {
    "papermill": {
     "duration": 1.166881,
     "end_time": "2022-12-05T16:52:25.469383",
     "exception": false,
     "start_time": "2022-12-05T16:52:24.302502",
     "status": "completed"
    },
    "tags": []
   },
   "source": [
    "## Positive definiteness"
   ]
  },
  {
   "cell_type": "code",
   "execution_count": 37,
   "id": "07d9a9a1-a4f7-48aa-b916-6d42a8cc6186",
   "metadata": {
    "execution": {
     "iopub.execute_input": "2022-12-05T16:52:27.913101Z",
     "iopub.status.busy": "2022-12-05T16:52:27.912538Z",
     "iopub.status.idle": "2022-12-05T16:52:27.960245Z",
     "shell.execute_reply": "2022-12-05T16:52:27.959751Z"
    },
    "papermill": {
     "duration": 1.253601,
     "end_time": "2022-12-05T16:52:27.961175",
     "exception": false,
     "start_time": "2022-12-05T16:52:26.707574",
     "status": "completed"
    },
    "tags": []
   },
   "outputs": [
    {
     "data": {
      "text/plain": [
       "0"
      ]
     },
     "metadata": {},
     "output_type": "display_data"
    },
    {
     "data": {
      "text/plain": [
       "array([], dtype=float64)"
      ]
     },
     "metadata": {},
     "output_type": "display_data"
    }
   ],
   "source": [
    "# print negative eigenvalues\n",
    "eigs = np.linalg.eigvals(gene_corrs_df.to_numpy())\n",
    "display(len(eigs[eigs < 0]))\n",
    "display(eigs[eigs < 0])"
   ]
  },
  {
   "cell_type": "code",
   "execution_count": 38,
   "id": "6e218436-c3c5-4028-8c94-a4fa6260efce",
   "metadata": {
    "execution": {
     "iopub.execute_input": "2022-12-05T16:52:30.362664Z",
     "iopub.status.busy": "2022-12-05T16:52:30.362304Z",
     "iopub.status.idle": "2022-12-05T16:52:30.387422Z",
     "shell.execute_reply": "2022-12-05T16:52:30.386823Z"
    },
    "papermill": {
     "duration": 1.235171,
     "end_time": "2022-12-05T16:52:30.388307",
     "exception": false,
     "start_time": "2022-12-05T16:52:29.153136",
     "status": "completed"
    },
    "tags": []
   },
   "outputs": [
    {
     "name": "stdout",
     "output_type": "stream",
     "text": [
      "Works!\n"
     ]
    }
   ],
   "source": [
    "try:\n",
    "    chol_mat = np.linalg.cholesky(gene_corrs_df.to_numpy())\n",
    "    cov_inv = np.linalg.inv(chol_mat)\n",
    "    print(\"Works!\")\n",
    "except Exception as e:\n",
    "    print(f\"Cholesky decomposition failed: {str(e)}\")"
   ]
  },
  {
   "cell_type": "code",
   "execution_count": 39,
   "id": "dd8827fb-faf9-4c7c-9454-015e94752706",
   "metadata": {
    "execution": {
     "iopub.execute_input": "2022-12-05T16:52:32.771279Z",
     "iopub.status.busy": "2022-12-05T16:52:32.770642Z",
     "iopub.status.idle": "2022-12-05T16:52:32.796769Z",
     "shell.execute_reply": "2022-12-05T16:52:32.796076Z"
    },
    "papermill": {
     "duration": 1.24503,
     "end_time": "2022-12-05T16:52:32.797755",
     "exception": false,
     "start_time": "2022-12-05T16:52:31.552725",
     "status": "completed"
    },
    "tags": []
   },
   "outputs": [
    {
     "name": "stdout",
     "output_type": "stream",
     "text": [
      "Works!\n"
     ]
    }
   ],
   "source": [
    "try:\n",
    "    # decomposition used by statsmodels.GLS\n",
    "    cholsigmainv = np.linalg.cholesky(np.linalg.inv(gene_corrs_df.to_numpy())).T\n",
    "    print(\"Works!\")\n",
    "except Exception as e:\n",
    "    print(f\"Cholesky decomposition failed (statsmodels.GLS): {str(e)}\")"
   ]
  },
  {
   "cell_type": "markdown",
   "id": "8e60a080-edb2-4e9c-b2ef-22961693200c",
   "metadata": {
    "papermill": {
     "duration": 1.218318,
     "end_time": "2022-12-05T16:52:35.172366",
     "exception": false,
     "start_time": "2022-12-05T16:52:33.954048",
     "status": "completed"
    },
    "tags": []
   },
   "source": [
    "## Plot: distribution"
   ]
  },
  {
   "cell_type": "code",
   "execution_count": 40,
   "id": "8301126b-a7d4-4744-9c7d-f0f86eb6f54c",
   "metadata": {
    "execution": {
     "iopub.execute_input": "2022-12-05T16:52:37.589645Z",
     "iopub.status.busy": "2022-12-05T16:52:37.589182Z",
     "iopub.status.idle": "2022-12-05T16:52:38.396459Z",
     "shell.execute_reply": "2022-12-05T16:52:38.396035Z"
    },
    "papermill": {
     "duration": 1.999201,
     "end_time": "2022-12-05T16:52:38.397553",
     "exception": false,
     "start_time": "2022-12-05T16:52:36.398352",
     "status": "completed"
    },
    "tags": []
   },
   "outputs": [
    {
     "data": {
      "image/png": "[encoded data removed]",
      "text/plain": [
       "<Figure size 700x700 with 1 Axes>"
      ]
     },
     "metadata": {},
     "output_type": "display_data"
    }
   ],
   "source": [
    "with sns.plotting_context(\"paper\", font_scale=1.5):\n",
    "    g = sns.displot(gene_corrs_flat, kde=True, height=7)\n",
    "    g.ax.set_title(\n",
    "        f\"Distribution of gene correlation values in chromosome {CHROMOSOME}\"\n",
    "    )"
   ]
  },
  {
   "cell_type": "markdown",
   "id": "cbd52bca-d878-4a2f-b684-5c83aa3038d4",
   "metadata": {
    "papermill": {
     "duration": 1.268199,
     "end_time": "2022-12-05T16:52:40.883482",
     "exception": false,
     "start_time": "2022-12-05T16:52:39.615283",
     "status": "completed"
    },
    "tags": []
   },
   "source": [
    "## Plot: heatmap"
   ]
  },
  {
   "cell_type": "code",
   "execution_count": 41,
   "id": "d03fe63a-c7b2-4fb9-a53c-db362ce843c9",
   "metadata": {
    "execution": {
     "iopub.execute_input": "2022-12-05T16:52:43.299656Z",
     "iopub.status.busy": "2022-12-05T16:52:43.299152Z",
     "iopub.status.idle": "2022-12-05T16:52:43.318900Z",
     "shell.execute_reply": "2022-12-05T16:52:43.318401Z"
    },
    "papermill": {
     "duration": 1.24479,
     "end_time": "2022-12-05T16:52:43.319775",
     "exception": false,
     "start_time": "2022-12-05T16:52:42.074985",
     "status": "completed"
    },
    "tags": []
   },
   "outputs": [
    {
     "data": {
      "text/plain": [
       "'0.0 / 0.05'"
      ]
     },
     "metadata": {},
     "output_type": "display_data"
    }
   ],
   "source": [
    "vmin_val = min(0.00, gene_corrs_quantiles[0.10])\n",
    "vmax_val = max(0.05, gene_corrs_quantiles[0.90])\n",
    "display(f\"{vmin_val} / {vmax_val}\")"
   ]
  },
  {
   "cell_type": "code",
   "execution_count": 42,
   "id": "dc41b70b-5bcc-4d9e-9f33-a22c4a94dab5",
   "metadata": {
    "execution": {
     "iopub.execute_input": "2022-12-05T16:52:45.745629Z",
     "iopub.status.busy": "2022-12-05T16:52:45.744796Z",
     "iopub.status.idle": "2022-12-05T16:52:45.976614Z",
     "shell.execute_reply": "2022-12-05T16:52:45.976201Z"
    },
    "papermill": {
     "duration": 1.434188,
     "end_time": "2022-12-05T16:52:45.978392",
     "exception": false,
     "start_time": "2022-12-05T16:52:44.544204",
     "status": "completed"
    },
    "tags": []
   },
   "outputs": [
    {
     "data": {
      "text/plain": [
       "Text(0.5, 1.0, 'Gene correlations in chromosome 7')"
      ]
     },
     "execution_count": 42,
     "metadata": {},
     "output_type": "execute_result"
    },
    {
     "data": {
      "image/png": "[encoded data removed]",
      "text/plain": [
       "<Figure size 1000x1000 with 2 Axes>"
      ]
     },
     "metadata": {},
     "output_type": "display_data"
    }
   ],
   "source": [
    "f, ax = plt.subplots(figsize=(10, 10))\n",
    "sns.heatmap(\n",
    "    gene_corrs_df,\n",
    "    xticklabels=False,\n",
    "    yticklabels=False,\n",
    "    square=True,\n",
    "    vmin=vmin_val,\n",
    "    vmax=vmax_val,\n",
    "    cmap=\"rocket_r\",\n",
    "    ax=ax,\n",
    ")\n",
    "ax.set_title(f\"Gene correlations in chromosome {CHROMOSOME}\")"
   ]
  },
  {
   "cell_type": "code",
   "execution_count": null,
   "id": "b25e3ead",
   "metadata": {
    "papermill": {
     "duration": 1.227066,
     "end_time": "2022-12-05T16:52:48.420611",
     "exception": false,
     "start_time": "2022-12-05T16:52:47.193545",
     "status": "completed"
    },
    "tags": []
   },
   "outputs": [],
   "source": []
  }
 ],
 "metadata": {
  "jupytext": {
   "cell_metadata_filter": "all,-execution,-papermill,-trusted",
   "formats": "ipynb,py//py:percent"
  },
  "kernelspec": {
   "display_name": "Python 3 (ipykernel)",
   "language": "python",
   "name": "python3"
  },
  "language_info": {
   "codemirror_mode": {
    "name": "ipython",
    "version": 3
   },
   "file_extension": ".py",
   "mimetype": "text/x-python",
   "name": "python",
   "nbconvert_exporter": "python",
   "pygments_lexer": "ipython3",
   "version": "3.10.6"
  },
  "papermill": {
   "default_parameters": {},
   "duration": 266.194401,
   "end_time": "2022-12-05T16:52:52.855811",
   "environment_variables": {},
   "exception": null,
   "input_path": "projects/asthma-copd/nbs/20_gene_corrs/jobs/05-gene_expr_correlations.ipynb",
   "output_path": "projects/asthma-copd/nbs/20_gene_corrs/jobs/../output/asthma_only/05-gene_expr_correlations-chr7.run.ipynb",
   "parameters": {
    "CHROMOSOME": 7,
    "COHORT_NAME": "asthma_only",
    "OUTPUT_DIR_BASE": "/opt/data/projects/asthma-copd/results/gls_phenoplier",
    "PHENOPLIER_NOTEBOOK_FILEPATH": "projects/asthma-copd/nbs/20_gene_corrs/jobs/05-gene_expr_correlations.ipynb"
   },
   "start_time": "2022-12-05T16:48:26.661410",
   "version": "2.2.2"
  }
 },
 "nbformat": 4,
 "nbformat_minor": 5
}
