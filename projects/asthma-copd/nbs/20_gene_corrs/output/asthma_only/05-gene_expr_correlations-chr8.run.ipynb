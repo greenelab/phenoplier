{
 "cells": [
  {
   "cell_type": "markdown",
   "id": "7a6632fb",
   "metadata": {
    "papermill": {
     "duration": 0.008384,
     "end_time": "2022-12-15T17:49:22.944523",
     "exception": false,
     "start_time": "2022-12-15T17:49:22.936139",
     "status": "completed"
    },
    "tags": []
   },
   "source": [
    "# Description"
   ]
  },
  {
   "cell_type": "markdown",
   "id": "7097c346",
   "metadata": {
    "papermill": {
     "duration": 0.007656,
     "end_time": "2022-12-15T17:49:22.959870",
     "exception": false,
     "start_time": "2022-12-15T17:49:22.952214",
     "status": "completed"
    },
    "tags": []
   },
   "source": [
    "(Please, take a look at the README.md file in this directory for instructions on how to run this notebook)\n",
    "\n",
    "This notebook computes predicted expression correlations between all genes in the MultiPLIER models.\n",
    "\n",
    "It has specicfic parameters for papermill (see under `Settings` below).\n",
    "It can be configured to run on a single chromosome to run in parallel.\n",
    "\n",
    "This notebook is not directly run. See README.md."
   ]
  },
  {
   "cell_type": "markdown",
   "id": "c61d8427",
   "metadata": {
    "papermill": {
     "duration": 0.007481,
     "end_time": "2022-12-15T17:49:22.974920",
     "exception": false,
     "start_time": "2022-12-15T17:49:22.967439",
     "status": "completed"
    },
    "tags": []
   },
   "source": [
    "# Modules"
   ]
  },
  {
   "cell_type": "code",
   "execution_count": 1,
   "id": "bbc0234f",
   "metadata": {
    "execution": {
     "iopub.execute_input": "2022-12-15T17:49:22.992416Z",
     "iopub.status.busy": "2022-12-15T17:49:22.992034Z",
     "iopub.status.idle": "2022-12-15T17:49:23.012969Z",
     "shell.execute_reply": "2022-12-15T17:49:23.012338Z"
    },
    "papermill": {
     "duration": 0.031727,
     "end_time": "2022-12-15T17:49:23.014856",
     "exception": false,
     "start_time": "2022-12-15T17:49:22.983129",
     "status": "completed"
    },
    "tags": []
   },
   "outputs": [],
   "source": [
    "%load_ext autoreload\n",
    "%autoreload 2"
   ]
  },
  {
   "cell_type": "code",
   "execution_count": 2,
   "id": "1d5f5a59",
   "metadata": {
    "execution": {
     "iopub.execute_input": "2022-12-15T17:49:23.032820Z",
     "iopub.status.busy": "2022-12-15T17:49:23.032371Z",
     "iopub.status.idle": "2022-12-15T17:49:23.928766Z",
     "shell.execute_reply": "2022-12-15T17:49:23.928293Z"
    },
    "papermill": {
     "duration": 0.907627,
     "end_time": "2022-12-15T17:49:23.930561",
     "exception": false,
     "start_time": "2022-12-15T17:49:23.022934",
     "status": "completed"
    },
    "tags": []
   },
   "outputs": [],
   "source": [
    "from random import sample, seed\n",
    "import warnings\n",
    "from pathlib import Path\n",
    "import pickle\n",
    "import traceback\n",
    "\n",
    "import numpy as np\n",
    "from scipy.spatial.distance import squareform\n",
    "import pandas as pd\n",
    "from tqdm import tqdm\n",
    "import matplotlib.pyplot as plt\n",
    "import seaborn as sns\n",
    "\n",
    "import conf\n",
    "from entity import Gene"
   ]
  },
  {
   "cell_type": "markdown",
   "id": "1eac24b5",
   "metadata": {
    "papermill": {
     "duration": 0.008503,
     "end_time": "2022-12-15T17:49:23.948709",
     "exception": false,
     "start_time": "2022-12-15T17:49:23.940206",
     "status": "completed"
    },
    "tags": []
   },
   "source": [
    "# Settings"
   ]
  },
  {
   "cell_type": "code",
   "execution_count": 3,
   "id": "ca4560ba",
   "metadata": {
    "execution": {
     "iopub.execute_input": "2022-12-15T17:49:23.966911Z",
     "iopub.status.busy": "2022-12-15T17:49:23.966682Z",
     "iopub.status.idle": "2022-12-15T17:49:23.992156Z",
     "shell.execute_reply": "2022-12-15T17:49:23.991752Z"
    },
    "papermill": {
     "duration": 0.035982,
     "end_time": "2022-12-15T17:49:23.993242",
     "exception": false,
     "start_time": "2022-12-15T17:49:23.957260",
     "status": "completed"
    },
    "tags": [
     "parameters"
    ]
   },
   "outputs": [],
   "source": [
    "# a cohort name (it could be something like UK_BIOBANK, etc)\n",
    "COHORT_NAME = None\n",
    "\n",
    "# reference panel such as 1000G or GTEX_V8\n",
    "REFERENCE_PANEL = \"GTEX_V8\"\n",
    "\n",
    "# predictions models such as MASHR or ELASTIC_NET\n",
    "EQTL_MODEL = \"MASHR\"\n",
    "\n",
    "# this is the default value used in S-MultiXcan to select the\n",
    "# top principal components of the expression correlation matrix\n",
    "SMULTIXCAN_CONDITION_NUMBER = 30\n",
    "\n",
    "# specifies a single chromosome value\n",
    "CHROMOSOME = None\n",
    "\n",
    "# If True, computes the correlation between closeby genes only (see\n",
    "# entity.Gene.within_distance for more details). Otherwise, it computes\n",
    "# correlations for all genes in a chromosome\n",
    "COMPUTE_CORRELATIONS_WITHIN_DISTANCE = True\n",
    "\n",
    "# if True, then it will continue if a gene pair correlation fails,\n",
    "# printing the warning/error for debugging. If False, any warning/error\n",
    "# will be thrown\n",
    "DEBUG_MODE = False\n",
    "\n",
    "# output dir\n",
    "OUTPUT_DIR_BASE = None"
   ]
  },
  {
   "cell_type": "code",
   "execution_count": 4,
   "id": "a9a93b9e",
   "metadata": {
    "execution": {
     "iopub.execute_input": "2022-12-15T17:49:24.003688Z",
     "iopub.status.busy": "2022-12-15T17:49:24.003373Z",
     "iopub.status.idle": "2022-12-15T17:49:24.029978Z",
     "shell.execute_reply": "2022-12-15T17:49:24.029565Z"
    },
    "papermill": {
     "duration": 0.033487,
     "end_time": "2022-12-15T17:49:24.031379",
     "exception": false,
     "start_time": "2022-12-15T17:49:23.997892",
     "status": "completed"
    },
    "tags": [
     "injected-parameters"
    ]
   },
   "outputs": [],
   "source": [
    "# Parameters\n",
    "PHENOPLIER_NOTEBOOK_FILEPATH = (\n",
    "    \"projects/asthma-copd/nbs/20_gene_corrs/jobs/05-gene_expr_correlations.ipynb\"\n",
    ")\n",
    "COHORT_NAME = \"asthma_only\"\n",
    "CHROMOSOME = 8\n",
    "OUTPUT_DIR_BASE = \"/opt/data/projects/asthma-copd/results/gls_phenoplier\"\n"
   ]
  },
  {
   "cell_type": "code",
   "execution_count": 5,
   "id": "3190631f-27fc-480f-b18e-571d580425a5",
   "metadata": {
    "execution": {
     "iopub.execute_input": "2022-12-15T17:49:24.046815Z",
     "iopub.status.busy": "2022-12-15T17:49:24.046427Z",
     "iopub.status.idle": "2022-12-15T17:49:24.085394Z",
     "shell.execute_reply": "2022-12-15T17:49:24.084533Z"
    },
    "papermill": {
     "duration": 0.04856,
     "end_time": "2022-12-15T17:49:24.087132",
     "exception": false,
     "start_time": "2022-12-15T17:49:24.038572",
     "status": "completed"
    },
    "tags": []
   },
   "outputs": [
    {
     "data": {
      "text/plain": [
       "'Cohort name: asthma_only'"
      ]
     },
     "metadata": {},
     "output_type": "display_data"
    }
   ],
   "source": [
    "assert COHORT_NAME is not None and len(COHORT_NAME) > 0, \"A cohort name must be given\"\n",
    "\n",
    "COHORT_NAME = COHORT_NAME.lower()\n",
    "display(f\"Cohort name: {COHORT_NAME}\")"
   ]
  },
  {
   "cell_type": "code",
   "execution_count": 6,
   "id": "f53ba19b-0f93-4fa2-a047-63b375939d1a",
   "metadata": {
    "execution": {
     "iopub.execute_input": "2022-12-15T17:49:24.100400Z",
     "iopub.status.busy": "2022-12-15T17:49:24.100148Z",
     "iopub.status.idle": "2022-12-15T17:49:24.127290Z",
     "shell.execute_reply": "2022-12-15T17:49:24.126984Z"
    },
    "papermill": {
     "duration": 0.033213,
     "end_time": "2022-12-15T17:49:24.128184",
     "exception": false,
     "start_time": "2022-12-15T17:49:24.094971",
     "status": "completed"
    },
    "tags": []
   },
   "outputs": [
    {
     "data": {
      "text/plain": [
       "'Reference panel: GTEX_V8'"
      ]
     },
     "metadata": {},
     "output_type": "display_data"
    }
   ],
   "source": [
    "assert (\n",
    "    REFERENCE_PANEL is not None and len(REFERENCE_PANEL) > 0\n",
    "), \"A reference panel must be given\"\n",
    "\n",
    "display(f\"Reference panel: {REFERENCE_PANEL}\")"
   ]
  },
  {
   "cell_type": "code",
   "execution_count": 7,
   "id": "e024d130-c139-429a-9c6e-ccf149e297b0",
   "metadata": {
    "execution": {
     "iopub.execute_input": "2022-12-15T17:49:24.138409Z",
     "iopub.status.busy": "2022-12-15T17:49:24.138182Z",
     "iopub.status.idle": "2022-12-15T17:49:24.165680Z",
     "shell.execute_reply": "2022-12-15T17:49:24.165253Z"
    },
    "papermill": {
     "duration": 0.033676,
     "end_time": "2022-12-15T17:49:24.166554",
     "exception": false,
     "start_time": "2022-12-15T17:49:24.132878",
     "status": "completed"
    },
    "tags": []
   },
   "outputs": [
    {
     "data": {
      "text/plain": [
       "'eQTL model: MASHR) / mashr_'"
      ]
     },
     "metadata": {},
     "output_type": "display_data"
    }
   ],
   "source": [
    "assert (\n",
    "    EQTL_MODEL is not None and len(EQTL_MODEL) > 0\n",
    "), \"A prediction/eQTL model must be given\"\n",
    "\n",
    "EQTL_MODEL_FILES_PREFIX = conf.PHENOMEXCAN[\"PREDICTION_MODELS\"][f\"{EQTL_MODEL}_PREFIX\"]\n",
    "display(f\"eQTL model: {EQTL_MODEL}) / {EQTL_MODEL_FILES_PREFIX}\")"
   ]
  },
  {
   "cell_type": "code",
   "execution_count": 8,
   "id": "552a7f63-a18c-4d3e-bb6a-94f99b431291",
   "metadata": {
    "execution": {
     "iopub.execute_input": "2022-12-15T17:49:24.176492Z",
     "iopub.status.busy": "2022-12-15T17:49:24.176295Z",
     "iopub.status.idle": "2022-12-15T17:49:24.199470Z",
     "shell.execute_reply": "2022-12-15T17:49:24.199050Z"
    },
    "papermill": {
     "duration": 0.029289,
     "end_time": "2022-12-15T17:49:24.200546",
     "exception": false,
     "start_time": "2022-12-15T17:49:24.171257",
     "status": "completed"
    },
    "tags": []
   },
   "outputs": [
    {
     "data": {
      "text/plain": [
       "'S-MultiXcan condition number: 30'"
      ]
     },
     "metadata": {},
     "output_type": "display_data"
    }
   ],
   "source": [
    "assert (\n",
    "    SMULTIXCAN_CONDITION_NUMBER is not None and SMULTIXCAN_CONDITION_NUMBER > 0\n",
    "), \"The S-MultiXcan condition number (positive integer) must be given\"\n",
    "\n",
    "display(f\"S-MultiXcan condition number: {SMULTIXCAN_CONDITION_NUMBER}\")"
   ]
  },
  {
   "cell_type": "code",
   "execution_count": 9,
   "id": "f34a336f-548e-4afe-8955-90eaea4f42c6",
   "metadata": {
    "execution": {
     "iopub.execute_input": "2022-12-15T17:49:24.211391Z",
     "iopub.status.busy": "2022-12-15T17:49:24.211174Z",
     "iopub.status.idle": "2022-12-15T17:49:24.238676Z",
     "shell.execute_reply": "2022-12-15T17:49:24.238246Z"
    },
    "papermill": {
     "duration": 0.034075,
     "end_time": "2022-12-15T17:49:24.239832",
     "exception": false,
     "start_time": "2022-12-15T17:49:24.205757",
     "status": "completed"
    },
    "tags": []
   },
   "outputs": [
    {
     "data": {
      "text/plain": [
       "'Working on chromosome 8'"
      ]
     },
     "metadata": {},
     "output_type": "display_data"
    }
   ],
   "source": [
    "assert CHROMOSOME is not None and (\n",
    "    1 <= CHROMOSOME <= 22\n",
    "), \"You have to select one chromosome (format: number between 1 and 22)\"\n",
    "\n",
    "display(f\"Working on chromosome {CHROMOSOME}\")"
   ]
  },
  {
   "cell_type": "code",
   "execution_count": 10,
   "id": "ab8e96e8-06b5-4363-9dcd-dc4d78cc27f7",
   "metadata": {
    "execution": {
     "iopub.execute_input": "2022-12-15T17:49:24.253195Z",
     "iopub.status.busy": "2022-12-15T17:49:24.252871Z",
     "iopub.status.idle": "2022-12-15T17:49:24.278772Z",
     "shell.execute_reply": "2022-12-15T17:49:24.278378Z"
    },
    "papermill": {
     "duration": 0.032691,
     "end_time": "2022-12-15T17:49:24.279823",
     "exception": false,
     "start_time": "2022-12-15T17:49:24.247132",
     "status": "completed"
    },
    "tags": []
   },
   "outputs": [
    {
     "data": {
      "text/plain": [
       "'Compute correlation within distance True'"
      ]
     },
     "metadata": {},
     "output_type": "display_data"
    }
   ],
   "source": [
    "display(f\"Compute correlation within distance {COMPUTE_CORRELATIONS_WITHIN_DISTANCE}\")"
   ]
  },
  {
   "cell_type": "code",
   "execution_count": 11,
   "id": "b393b698-77e3-4ba2-8ac1-e14d51aa988f",
   "metadata": {
    "execution": {
     "iopub.execute_input": "2022-12-15T17:49:24.293963Z",
     "iopub.status.busy": "2022-12-15T17:49:24.293656Z",
     "iopub.status.idle": "2022-12-15T17:49:24.316149Z",
     "shell.execute_reply": "2022-12-15T17:49:24.315857Z"
    },
    "papermill": {
     "duration": 0.029398,
     "end_time": "2022-12-15T17:49:24.316959",
     "exception": false,
     "start_time": "2022-12-15T17:49:24.287561",
     "status": "completed"
    },
    "tags": []
   },
   "outputs": [
    {
     "data": {
      "text/plain": [
       "'Using output dir base: /opt/data/projects/asthma-copd/results/gls_phenoplier/gene_corrs/asthma_only'"
      ]
     },
     "metadata": {},
     "output_type": "display_data"
    }
   ],
   "source": [
    "assert (\n",
    "    OUTPUT_DIR_BASE is not None and len(OUTPUT_DIR_BASE) > 0\n",
    "), \"Output directory path must be given\"\n",
    "\n",
    "OUTPUT_DIR_BASE = (Path(OUTPUT_DIR_BASE) / \"gene_corrs\" / COHORT_NAME).resolve()\n",
    "\n",
    "OUTPUT_DIR_BASE.mkdir(parents=True, exist_ok=True)\n",
    "\n",
    "display(f\"Using output dir base: {OUTPUT_DIR_BASE}\")"
   ]
  },
  {
   "cell_type": "markdown",
   "id": "d2ba085e",
   "metadata": {
    "papermill": {
     "duration": 0.008469,
     "end_time": "2022-12-15T17:49:24.330538",
     "exception": false,
     "start_time": "2022-12-15T17:49:24.322069",
     "status": "completed"
    },
    "tags": []
   },
   "source": [
    "# Load data"
   ]
  },
  {
   "cell_type": "markdown",
   "id": "7dcb8db7",
   "metadata": {
    "papermill": {
     "duration": 0.009618,
     "end_time": "2022-12-15T17:49:24.349854",
     "exception": false,
     "start_time": "2022-12-15T17:49:24.340236",
     "status": "completed"
    },
    "tags": []
   },
   "source": [
    "## GWAS variants"
   ]
  },
  {
   "cell_type": "code",
   "execution_count": 12,
   "id": "29434c4e-8cd3-4b9b-82e4-b5a251d9dd19",
   "metadata": {
    "execution": {
     "iopub.execute_input": "2022-12-15T17:49:24.371146Z",
     "iopub.status.busy": "2022-12-15T17:49:24.370878Z",
     "iopub.status.idle": "2022-12-15T17:49:27.783221Z",
     "shell.execute_reply": "2022-12-15T17:49:27.782672Z"
    },
    "papermill": {
     "duration": 3.425154,
     "end_time": "2022-12-15T17:49:27.785016",
     "exception": false,
     "start_time": "2022-12-15T17:49:24.359862",
     "status": "completed"
    },
    "tags": []
   },
   "outputs": [],
   "source": [
    "with open(OUTPUT_DIR_BASE / \"gwas_variant_ids.pkl\", \"rb\") as handle:\n",
    "    gwas_variants_ids_set = pickle.load(handle)"
   ]
  },
  {
   "cell_type": "code",
   "execution_count": 13,
   "id": "b9d9dec2-4a76-4bf9-bde2-e24c95acb8a0",
   "metadata": {
    "execution": {
     "iopub.execute_input": "2022-12-15T17:49:27.798557Z",
     "iopub.status.busy": "2022-12-15T17:49:27.798252Z",
     "iopub.status.idle": "2022-12-15T17:49:27.815469Z",
     "shell.execute_reply": "2022-12-15T17:49:27.815024Z"
    },
    "papermill": {
     "duration": 0.025266,
     "end_time": "2022-12-15T17:49:27.816503",
     "exception": false,
     "start_time": "2022-12-15T17:49:27.791237",
     "status": "completed"
    },
    "tags": []
   },
   "outputs": [
    {
     "data": {
      "text/plain": [
       "8578486"
      ]
     },
     "execution_count": 13,
     "metadata": {},
     "output_type": "execute_result"
    }
   ],
   "source": [
    "len(gwas_variants_ids_set)"
   ]
  },
  {
   "cell_type": "code",
   "execution_count": 14,
   "id": "4235b06a-6034-4ee4-a0a3-2ae35d122418",
   "metadata": {
    "execution": {
     "iopub.execute_input": "2022-12-15T17:49:27.828307Z",
     "iopub.status.busy": "2022-12-15T17:49:27.828069Z",
     "iopub.status.idle": "2022-12-15T17:49:30.250455Z",
     "shell.execute_reply": "2022-12-15T17:49:30.249845Z"
    },
    "papermill": {
     "duration": 2.429376,
     "end_time": "2022-12-15T17:49:30.251700",
     "exception": false,
     "start_time": "2022-12-15T17:49:27.822324",
     "status": "completed"
    },
    "tags": []
   },
   "outputs": [
    {
     "data": {
      "text/plain": [
       "['chr1_210116809_C_T_b38',\n",
       " 'chr1_101738258_A_G_b38',\n",
       " 'chr6_5659671_A_C_b38',\n",
       " 'chr11_124380510_A_G_b38',\n",
       " 'chr2_1438094_G_A_b38']"
      ]
     },
     "execution_count": 14,
     "metadata": {},
     "output_type": "execute_result"
    }
   ],
   "source": [
    "list(gwas_variants_ids_set)[:5]"
   ]
  },
  {
   "cell_type": "markdown",
   "id": "07866999-2305-41f9-a144-e69c9122c212",
   "metadata": {
    "papermill": {
     "duration": 0.006452,
     "end_time": "2022-12-15T17:49:30.265313",
     "exception": false,
     "start_time": "2022-12-15T17:49:30.258861",
     "status": "completed"
    },
    "tags": []
   },
   "source": [
    "## S-PrediXcan tissue models"
   ]
  },
  {
   "cell_type": "code",
   "execution_count": 15,
   "id": "780611d9-77c8-405f-90a4-f271f7b09397",
   "metadata": {
    "execution": {
     "iopub.execute_input": "2022-12-15T17:49:30.279985Z",
     "iopub.status.busy": "2022-12-15T17:49:30.279570Z",
     "iopub.status.idle": "2022-12-15T17:49:30.840345Z",
     "shell.execute_reply": "2022-12-15T17:49:30.839930Z"
    },
    "papermill": {
     "duration": 0.569886,
     "end_time": "2022-12-15T17:49:30.841630",
     "exception": false,
     "start_time": "2022-12-15T17:49:30.271744",
     "status": "completed"
    },
    "tags": []
   },
   "outputs": [],
   "source": [
    "spredixcan_genes_models = pd.read_pickle(OUTPUT_DIR_BASE / \"gene_tissues.pkl\")"
   ]
  },
  {
   "cell_type": "code",
   "execution_count": 16,
   "id": "726dd1f6-9557-4225-91fa-b3b879ea96e1",
   "metadata": {
    "execution": {
     "iopub.execute_input": "2022-12-15T17:49:30.856151Z",
     "iopub.status.busy": "2022-12-15T17:49:30.855949Z",
     "iopub.status.idle": "2022-12-15T17:49:30.878408Z",
     "shell.execute_reply": "2022-12-15T17:49:30.877797Z"
    },
    "papermill": {
     "duration": 0.031141,
     "end_time": "2022-12-15T17:49:30.879613",
     "exception": false,
     "start_time": "2022-12-15T17:49:30.848472",
     "status": "completed"
    },
    "tags": []
   },
   "outputs": [
    {
     "data": {
      "text/plain": [
       "(6443, 5)"
      ]
     },
     "execution_count": 16,
     "metadata": {},
     "output_type": "execute_result"
    }
   ],
   "source": [
    "spredixcan_genes_models.shape"
   ]
  },
  {
   "cell_type": "code",
   "execution_count": 17,
   "id": "944a1b48-222c-4eb0-b252-b9de2cbca215",
   "metadata": {
    "execution": {
     "iopub.execute_input": "2022-12-15T17:49:30.897398Z",
     "iopub.status.busy": "2022-12-15T17:49:30.897176Z",
     "iopub.status.idle": "2022-12-15T17:49:30.925422Z",
     "shell.execute_reply": "2022-12-15T17:49:30.924786Z"
    },
    "papermill": {
     "duration": 0.038888,
     "end_time": "2022-12-15T17:49:30.926428",
     "exception": false,
     "start_time": "2022-12-15T17:49:30.887540",
     "status": "completed"
    },
    "tags": []
   },
   "outputs": [
    {
     "data": {
      "text/html": [
       "<div>\n",
       "<style scoped>\n",
       "    .dataframe tbody tr th:only-of-type {\n",
       "        vertical-align: middle;\n",
       "    }\n",
       "\n",
       "    .dataframe tbody tr th {\n",
       "        vertical-align: top;\n",
       "    }\n",
       "\n",
       "    .dataframe thead th {\n",
       "        text-align: right;\n",
       "    }\n",
       "</style>\n",
       "<table border=\"1\" class=\"dataframe\">\n",
       "  <thead>\n",
       "    <tr style=\"text-align: right;\">\n",
       "      <th></th>\n",
       "      <th>gene_name</th>\n",
       "      <th>tissue</th>\n",
       "      <th>n_tissues</th>\n",
       "      <th>n_snps_used_sum</th>\n",
       "      <th>n_snps_in_model_sum</th>\n",
       "    </tr>\n",
       "    <tr>\n",
       "      <th>gene_id</th>\n",
       "      <th></th>\n",
       "      <th></th>\n",
       "      <th></th>\n",
       "      <th></th>\n",
       "      <th></th>\n",
       "    </tr>\n",
       "  </thead>\n",
       "  <tbody>\n",
       "    <tr>\n",
       "      <th>ENSG00000000419</th>\n",
       "      <td>DPM1</td>\n",
       "      <td>(Brain_Hypothalamus, Brain_Substantia_nigra)</td>\n",
       "      <td>2</td>\n",
       "      <td>2</td>\n",
       "      <td>2</td>\n",
       "    </tr>\n",
       "    <tr>\n",
       "      <th>ENSG00000000938</th>\n",
       "      <td>FGR</td>\n",
       "      <td>(Testis, Brain_Caudate_basal_ganglia, Esophagu...</td>\n",
       "      <td>36</td>\n",
       "      <td>40</td>\n",
       "      <td>40</td>\n",
       "    </tr>\n",
       "    <tr>\n",
       "      <th>ENSG00000000971</th>\n",
       "      <td>CFH</td>\n",
       "      <td>(Testis, Brain_Caudate_basal_ganglia, Heart_At...</td>\n",
       "      <td>34</td>\n",
       "      <td>44</td>\n",
       "      <td>44</td>\n",
       "    </tr>\n",
       "    <tr>\n",
       "      <th>ENSG00000001084</th>\n",
       "      <td>GCLC</td>\n",
       "      <td>(Brain_Amygdala, Testis, Heart_Atrial_Appendag...</td>\n",
       "      <td>32</td>\n",
       "      <td>46</td>\n",
       "      <td>46</td>\n",
       "    </tr>\n",
       "    <tr>\n",
       "      <th>ENSG00000001167</th>\n",
       "      <td>NFYA</td>\n",
       "      <td>(Testis, Brain_Caudate_basal_ganglia, Heart_At...</td>\n",
       "      <td>40</td>\n",
       "      <td>47</td>\n",
       "      <td>48</td>\n",
       "    </tr>\n",
       "  </tbody>\n",
       "</table>\n",
       "</div>"
      ],
      "text/plain": [
       "                gene_name                                             tissue  \\\n",
       "gene_id                                                                        \n",
       "ENSG00000000419      DPM1       (Brain_Hypothalamus, Brain_Substantia_nigra)   \n",
       "ENSG00000000938       FGR  (Testis, Brain_Caudate_basal_ganglia, Esophagu...   \n",
       "ENSG00000000971       CFH  (Testis, Brain_Caudate_basal_ganglia, Heart_At...   \n",
       "ENSG00000001084      GCLC  (Brain_Amygdala, Testis, Heart_Atrial_Appendag...   \n",
       "ENSG00000001167      NFYA  (Testis, Brain_Caudate_basal_ganglia, Heart_At...   \n",
       "\n",
       "                 n_tissues  n_snps_used_sum  n_snps_in_model_sum  \n",
       "gene_id                                                           \n",
       "ENSG00000000419          2                2                    2  \n",
       "ENSG00000000938         36               40                   40  \n",
       "ENSG00000000971         34               44                   44  \n",
       "ENSG00000001084         32               46                   46  \n",
       "ENSG00000001167         40               47                   48  "
      ]
     },
     "execution_count": 17,
     "metadata": {},
     "output_type": "execute_result"
    }
   ],
   "source": [
    "spredixcan_genes_models.head()"
   ]
  },
  {
   "cell_type": "code",
   "execution_count": 18,
   "id": "d1c11bb1-be0b-4f40-b360-633d6827109f",
   "metadata": {
    "execution": {
     "iopub.execute_input": "2022-12-15T17:49:30.937873Z",
     "iopub.status.busy": "2022-12-15T17:49:30.937655Z",
     "iopub.status.idle": "2022-12-15T17:49:30.962437Z",
     "shell.execute_reply": "2022-12-15T17:49:30.961676Z"
    },
    "papermill": {
     "duration": 0.03223,
     "end_time": "2022-12-15T17:49:30.964002",
     "exception": false,
     "start_time": "2022-12-15T17:49:30.931772",
     "status": "completed"
    },
    "tags": []
   },
   "outputs": [],
   "source": [
    "assert spredixcan_genes_models.index.is_unique"
   ]
  },
  {
   "cell_type": "markdown",
   "id": "a5b5092c-a13e-47c4-a92a-480fcc08f3ae",
   "metadata": {
    "papermill": {
     "duration": 0.005435,
     "end_time": "2022-12-15T17:49:30.976738",
     "exception": false,
     "start_time": "2022-12-15T17:49:30.971303",
     "status": "completed"
    },
    "tags": []
   },
   "source": [
    "## Gene info"
   ]
  },
  {
   "cell_type": "code",
   "execution_count": 19,
   "id": "7d6bb224-88e9-4358-ac10-43a41d92cdad",
   "metadata": {
    "execution": {
     "iopub.execute_input": "2022-12-15T17:49:30.993003Z",
     "iopub.status.busy": "2022-12-15T17:49:30.992717Z",
     "iopub.status.idle": "2022-12-15T17:49:31.019747Z",
     "shell.execute_reply": "2022-12-15T17:49:31.019272Z"
    },
    "papermill": {
     "duration": 0.036702,
     "end_time": "2022-12-15T17:49:31.020920",
     "exception": false,
     "start_time": "2022-12-15T17:49:30.984218",
     "status": "completed"
    },
    "tags": []
   },
   "outputs": [],
   "source": [
    "genes_info = pd.read_pickle(OUTPUT_DIR_BASE / \"genes_info.pkl\")"
   ]
  },
  {
   "cell_type": "code",
   "execution_count": 20,
   "id": "9e32abfa-546d-483e-8c18-d526e9e05903",
   "metadata": {
    "execution": {
     "iopub.execute_input": "2022-12-15T17:49:31.033465Z",
     "iopub.status.busy": "2022-12-15T17:49:31.032914Z",
     "iopub.status.idle": "2022-12-15T17:49:31.059737Z",
     "shell.execute_reply": "2022-12-15T17:49:31.059219Z"
    },
    "papermill": {
     "duration": 0.034351,
     "end_time": "2022-12-15T17:49:31.061014",
     "exception": false,
     "start_time": "2022-12-15T17:49:31.026663",
     "status": "completed"
    },
    "tags": []
   },
   "outputs": [
    {
     "data": {
      "text/plain": [
       "(6443, 7)"
      ]
     },
     "execution_count": 20,
     "metadata": {},
     "output_type": "execute_result"
    }
   ],
   "source": [
    "genes_info.shape"
   ]
  },
  {
   "cell_type": "code",
   "execution_count": 21,
   "id": "d16c3e92-85ec-468a-9a56-e25a9774a1cb",
   "metadata": {
    "execution": {
     "iopub.execute_input": "2022-12-15T17:49:31.084611Z",
     "iopub.status.busy": "2022-12-15T17:49:31.084157Z",
     "iopub.status.idle": "2022-12-15T17:49:31.115199Z",
     "shell.execute_reply": "2022-12-15T17:49:31.114467Z"
    },
    "papermill": {
     "duration": 0.045667,
     "end_time": "2022-12-15T17:49:31.117441",
     "exception": false,
     "start_time": "2022-12-15T17:49:31.071774",
     "status": "completed"
    },
    "tags": []
   },
   "outputs": [
    {
     "data": {
      "text/html": [
       "<div>\n",
       "<style scoped>\n",
       "    .dataframe tbody tr th:only-of-type {\n",
       "        vertical-align: middle;\n",
       "    }\n",
       "\n",
       "    .dataframe tbody tr th {\n",
       "        vertical-align: top;\n",
       "    }\n",
       "\n",
       "    .dataframe thead th {\n",
       "        text-align: right;\n",
       "    }\n",
       "</style>\n",
       "<table border=\"1\" class=\"dataframe\">\n",
       "  <thead>\n",
       "    <tr style=\"text-align: right;\">\n",
       "      <th></th>\n",
       "      <th>name</th>\n",
       "      <th>id</th>\n",
       "      <th>chr</th>\n",
       "      <th>band</th>\n",
       "      <th>start_position</th>\n",
       "      <th>end_position</th>\n",
       "      <th>gene_length</th>\n",
       "    </tr>\n",
       "  </thead>\n",
       "  <tbody>\n",
       "    <tr>\n",
       "      <th>0</th>\n",
       "      <td>PSMB9</td>\n",
       "      <td>ENSG00000240065</td>\n",
       "      <td>6</td>\n",
       "      <td>6p21.32</td>\n",
       "      <td>32844136</td>\n",
       "      <td>32859851</td>\n",
       "      <td>15715</td>\n",
       "    </tr>\n",
       "    <tr>\n",
       "      <th>1</th>\n",
       "      <td>EEF1D</td>\n",
       "      <td>ENSG00000104529</td>\n",
       "      <td>8</td>\n",
       "      <td>8q24.3</td>\n",
       "      <td>143579697</td>\n",
       "      <td>143599541</td>\n",
       "      <td>19844</td>\n",
       "    </tr>\n",
       "    <tr>\n",
       "      <th>2</th>\n",
       "      <td>NFKBIL1</td>\n",
       "      <td>ENSG00000204498</td>\n",
       "      <td>6</td>\n",
       "      <td>6p21.33</td>\n",
       "      <td>31546870</td>\n",
       "      <td>31558829</td>\n",
       "      <td>11959</td>\n",
       "    </tr>\n",
       "    <tr>\n",
       "      <th>3</th>\n",
       "      <td>SGSH</td>\n",
       "      <td>ENSG00000181523</td>\n",
       "      <td>17</td>\n",
       "      <td>17q25.3</td>\n",
       "      <td>80206716</td>\n",
       "      <td>80220923</td>\n",
       "      <td>14207</td>\n",
       "    </tr>\n",
       "    <tr>\n",
       "      <th>4</th>\n",
       "      <td>KLF6</td>\n",
       "      <td>ENSG00000067082</td>\n",
       "      <td>10</td>\n",
       "      <td>10p15.2</td>\n",
       "      <td>3775996</td>\n",
       "      <td>3785281</td>\n",
       "      <td>9285</td>\n",
       "    </tr>\n",
       "  </tbody>\n",
       "</table>\n",
       "</div>"
      ],
      "text/plain": [
       "      name               id  chr     band  start_position  end_position  \\\n",
       "0    PSMB9  ENSG00000240065    6  6p21.32        32844136      32859851   \n",
       "1    EEF1D  ENSG00000104529    8   8q24.3       143579697     143599541   \n",
       "2  NFKBIL1  ENSG00000204498    6  6p21.33        31546870      31558829   \n",
       "3     SGSH  ENSG00000181523   17  17q25.3        80206716      80220923   \n",
       "4     KLF6  ENSG00000067082   10  10p15.2         3775996       3785281   \n",
       "\n",
       "   gene_length  \n",
       "0        15715  \n",
       "1        19844  \n",
       "2        11959  \n",
       "3        14207  \n",
       "4         9285  "
      ]
     },
     "execution_count": 21,
     "metadata": {},
     "output_type": "execute_result"
    }
   ],
   "source": [
    "genes_info.head()"
   ]
  },
  {
   "cell_type": "markdown",
   "id": "d3843e06",
   "metadata": {
    "papermill": {
     "duration": 0.010604,
     "end_time": "2022-12-15T17:49:31.144903",
     "exception": false,
     "start_time": "2022-12-15T17:49:31.134299",
     "status": "completed"
    },
    "tags": []
   },
   "source": [
    "# Compute correlations"
   ]
  },
  {
   "cell_type": "code",
   "execution_count": 22,
   "id": "cb859c15-d1f3-4006-a74c-2b83c0db9611",
   "metadata": {
    "execution": {
     "iopub.execute_input": "2022-12-15T17:49:31.168934Z",
     "iopub.status.busy": "2022-12-15T17:49:31.168640Z",
     "iopub.status.idle": "2022-12-15T17:49:31.194006Z",
     "shell.execute_reply": "2022-12-15T17:49:31.193336Z"
    },
    "papermill": {
     "duration": 0.038429,
     "end_time": "2022-12-15T17:49:31.195239",
     "exception": false,
     "start_time": "2022-12-15T17:49:31.156810",
     "status": "completed"
    },
    "tags": []
   },
   "outputs": [
    {
     "data": {
      "text/plain": [
       "PosixPath('/opt/data/projects/asthma-copd/results/gls_phenoplier/gene_corrs/asthma_only/by_chr/gene_corrs-chr8.pkl')"
      ]
     },
     "metadata": {},
     "output_type": "display_data"
    }
   ],
   "source": [
    "output_dir = OUTPUT_DIR_BASE / \"by_chr\"\n",
    "output_dir.mkdir(exist_ok=True, parents=True)\n",
    "output_file = output_dir / f\"gene_corrs-chr{CHROMOSOME}.pkl\"\n",
    "display(output_file)"
   ]
  },
  {
   "cell_type": "code",
   "execution_count": 23,
   "id": "aa674fe4-6794-4eed-98fa-32b39d1d4ace",
   "metadata": {
    "execution": {
     "iopub.execute_input": "2022-12-15T17:49:31.210485Z",
     "iopub.status.busy": "2022-12-15T17:49:31.209863Z",
     "iopub.status.idle": "2022-12-15T17:49:31.230830Z",
     "shell.execute_reply": "2022-12-15T17:49:31.230412Z"
    },
    "papermill": {
     "duration": 0.02849,
     "end_time": "2022-12-15T17:49:31.231996",
     "exception": false,
     "start_time": "2022-12-15T17:49:31.203506",
     "status": "completed"
    },
    "tags": []
   },
   "outputs": [],
   "source": [
    "warnings.filterwarnings(\"error\")"
   ]
  },
  {
   "cell_type": "code",
   "execution_count": 24,
   "id": "44d5450b-3baf-43f1-9e2e-4b06f1a785f8",
   "metadata": {
    "execution": {
     "iopub.execute_input": "2022-12-15T17:49:31.245164Z",
     "iopub.status.busy": "2022-12-15T17:49:31.244783Z",
     "iopub.status.idle": "2022-12-15T17:49:31.261194Z",
     "shell.execute_reply": "2022-12-15T17:49:31.260623Z"
    },
    "papermill": {
     "duration": 0.024752,
     "end_time": "2022-12-15T17:49:31.262726",
     "exception": false,
     "start_time": "2022-12-15T17:49:31.237974",
     "status": "completed"
    },
    "tags": []
   },
   "outputs": [],
   "source": [
    "# standard checks\n",
    "all_chrs = genes_info[\"chr\"].dropna().unique()\n",
    "assert all_chrs.shape[0] == 22\n",
    "\n",
    "# select chromosome given by the user\n",
    "assert CHROMOSOME in all_chrs"
   ]
  },
  {
   "cell_type": "code",
   "execution_count": 25,
   "id": "2d7c043c-92a7-4d35-991b-fa69ac1e0268",
   "metadata": {
    "execution": {
     "iopub.execute_input": "2022-12-15T17:49:31.282457Z",
     "iopub.status.busy": "2022-12-15T17:49:31.282074Z",
     "iopub.status.idle": "2022-12-15T17:49:31.306761Z",
     "shell.execute_reply": "2022-12-15T17:49:31.306376Z"
    },
    "papermill": {
     "duration": 0.03574,
     "end_time": "2022-12-15T17:49:31.307716",
     "exception": false,
     "start_time": "2022-12-15T17:49:31.271976",
     "status": "completed"
    },
    "tags": []
   },
   "outputs": [
    {
     "name": "stdout",
     "output_type": "stream",
     "text": [
      "Number of genes in chromosome: 222\n"
     ]
    }
   ],
   "source": [
    "# run only on the chromosome specified\n",
    "all_chrs = [CHROMOSOME]\n",
    "genes_chr = genes_info[genes_info[\"chr\"] == CHROMOSOME]\n",
    "\n",
    "# For testing purposes\n",
    "# genes_chr = genes_chr.sample(n=20)\n",
    "\n",
    "print(f\"Number of genes in chromosome: {genes_chr.shape[0]}\", flush=True)"
   ]
  },
  {
   "cell_type": "code",
   "execution_count": 26,
   "id": "916015d8-2979-46d3-a9b9-1cf5a0932c6a",
   "metadata": {
    "execution": {
     "iopub.execute_input": "2022-12-15T17:49:31.320945Z",
     "iopub.status.busy": "2022-12-15T17:49:31.320731Z",
     "iopub.status.idle": "2022-12-15T17:49:31.343167Z",
     "shell.execute_reply": "2022-12-15T17:49:31.342672Z"
    },
    "papermill": {
     "duration": 0.031507,
     "end_time": "2022-12-15T17:49:31.345690",
     "exception": false,
     "start_time": "2022-12-15T17:49:31.314183",
     "status": "completed"
    },
    "tags": []
   },
   "outputs": [],
   "source": [
    "# sort genes by starting position to make visualizations better later\n",
    "genes_chr = genes_chr.sort_values(\"start_position\")"
   ]
  },
  {
   "cell_type": "code",
   "execution_count": 27,
   "id": "a38aa74a-8ad3-47f6-8ef9-56be0e011774",
   "metadata": {
    "execution": {
     "iopub.execute_input": "2022-12-15T17:49:31.375450Z",
     "iopub.status.busy": "2022-12-15T17:49:31.375216Z",
     "iopub.status.idle": "2022-12-15T17:49:31.393118Z",
     "shell.execute_reply": "2022-12-15T17:49:31.392585Z"
    },
    "papermill": {
     "duration": 0.031347,
     "end_time": "2022-12-15T17:49:31.394272",
     "exception": false,
     "start_time": "2022-12-15T17:49:31.362925",
     "status": "completed"
    },
    "tags": []
   },
   "outputs": [],
   "source": [
    "gene_chr_objs = [Gene(ensembl_id=gene_id) for gene_id in genes_chr[\"id\"]]"
   ]
  },
  {
   "cell_type": "code",
   "execution_count": 28,
   "id": "570f974f-13c3-42b6-ad3a-ce99ca885c1a",
   "metadata": {
    "execution": {
     "iopub.execute_input": "2022-12-15T17:49:31.413639Z",
     "iopub.status.busy": "2022-12-15T17:49:31.413235Z",
     "iopub.status.idle": "2022-12-15T17:49:31.438701Z",
     "shell.execute_reply": "2022-12-15T17:49:31.437997Z"
    },
    "papermill": {
     "duration": 0.037326,
     "end_time": "2022-12-15T17:49:31.440612",
     "exception": false,
     "start_time": "2022-12-15T17:49:31.403286",
     "status": "completed"
    },
    "tags": []
   },
   "outputs": [
    {
     "name": "stdout",
     "output_type": "stream",
     "text": [
      "Number of gene combinations: 24753\n"
     ]
    }
   ],
   "source": [
    "n = len(gene_chr_objs)\n",
    "# diagonal elements + upper triangular matrix\n",
    "n_comb = n + int(n * (n - 1) / 2.0)\n",
    "print(f\"Number of gene combinations: {n_comb}\", flush=True)"
   ]
  },
  {
   "cell_type": "code",
   "execution_count": 29,
   "id": "cdbb90a1",
   "metadata": {
    "execution": {
     "iopub.execute_input": "2022-12-15T17:49:31.479683Z",
     "iopub.status.busy": "2022-12-15T17:49:31.479382Z",
     "iopub.status.idle": "2022-12-15T17:52:25.691583Z",
     "shell.execute_reply": "2022-12-15T17:52:25.691023Z"
    },
    "papermill": {
     "duration": 174.233216,
     "end_time": "2022-12-15T17:52:25.692631",
     "exception": false,
     "start_time": "2022-12-15T17:49:31.459415",
     "status": "completed"
    },
    "tags": []
   },
   "outputs": [
    {
     "name": "stderr",
     "output_type": "stream",
     "text": [
      "ENSG00000196150 / ENSG00000196150: 100%|█████████████████████| 24753/24753 [02:54<00:00, 142.11it/s]\n"
     ]
    },
    {
     "data": {
      "text/plain": [
       "PosixPath('/opt/data/projects/asthma-copd/results/gls_phenoplier/gene_corrs/asthma_only/by_chr/gene_corrs-chr8.pkl')"
      ]
     },
     "metadata": {},
     "output_type": "display_data"
    }
   ],
   "source": [
    "gene_corrs = []\n",
    "gene_corrs_data = np.full(\n",
    "    (n, n),\n",
    "    np.nan,\n",
    "    dtype=np.float64,\n",
    ")\n",
    "\n",
    "i = 0\n",
    "with tqdm(ncols=100, total=n_comb) as pbar:\n",
    "    for gene1_idx in range(0, len(gene_chr_objs)):\n",
    "        gene1_obj = gene_chr_objs[gene1_idx]\n",
    "        gene1_tissues = spredixcan_genes_models.loc[gene1_obj.ensembl_id, \"tissue\"]\n",
    "\n",
    "        for gene2_idx in range(gene1_idx, len(gene_chr_objs)):\n",
    "            gene2_obj = gene_chr_objs[gene2_idx]\n",
    "            gene2_tissues = spredixcan_genes_models.loc[gene2_obj.ensembl_id, \"tissue\"]\n",
    "\n",
    "            pbar.set_description(f\"{gene1_obj.ensembl_id} / {gene2_obj.ensembl_id}\")\n",
    "\n",
    "            try:\n",
    "                r = gene1_obj.get_ssm_correlation(\n",
    "                    other_gene=gene2_obj,\n",
    "                    tissues=gene1_tissues,\n",
    "                    other_tissues=gene2_tissues,\n",
    "                    snps_subset=gwas_variants_ids_set,\n",
    "                    condition_number=SMULTIXCAN_CONDITION_NUMBER,\n",
    "                    reference_panel=REFERENCE_PANEL,\n",
    "                    model_type=EQTL_MODEL,\n",
    "                    use_within_distance=COMPUTE_CORRELATIONS_WITHIN_DISTANCE,\n",
    "                )\n",
    "\n",
    "                if r is None:\n",
    "                    # if r is None, it's very likely because:\n",
    "                    #  * one of the genes has no prediction models\n",
    "                    #  * all the SNPs predictors for the gene are not present in the reference\n",
    "                    #    panel\n",
    "\n",
    "                    r = 0.0\n",
    "\n",
    "                gene_corrs.append(r)\n",
    "\n",
    "                gene_corrs_data[gene1_idx, gene2_idx] = r\n",
    "                gene_corrs_data[gene2_idx, gene1_idx] = r\n",
    "            except Warning as e:\n",
    "                if not DEBUG_MODE:\n",
    "                    raise e\n",
    "\n",
    "                print(\n",
    "                    f\"RuntimeWarning for genes {gene1_obj.ensembl_id} and {gene2_obj.ensembl_id}\",\n",
    "                    flush=True,\n",
    "                )\n",
    "                print(traceback.format_exc(), flush=True)\n",
    "\n",
    "                gene_corrs.append(np.nan)\n",
    "            except Exception as e:\n",
    "                if not DEBUG_MODE:\n",
    "                    raise e\n",
    "\n",
    "                print(\n",
    "                    f\"Exception for genes {gene1_obj.ensembl_id} and {gene2_obj.ensembl_id}\",\n",
    "                    flush=True,\n",
    "                )\n",
    "                print(traceback.format_exc(), flush=True)\n",
    "\n",
    "                gene_corrs.append(np.nan)\n",
    "\n",
    "            pbar.update(1)\n",
    "\n",
    "# create a pandas series\n",
    "gene_corrs_flat = pd.Series(gene_corrs)\n",
    "\n",
    "# save\n",
    "# FIXME: consider saving only the condenced matrix here. See here for\n",
    "# more details: https://github.com/greenelab/phenoplier/pull/38#discussion_r634600813\n",
    "# gene_corrs_data = squareform(np.array(gene_corrs, dtype=np.float64))\n",
    "# np.fill_diagonal(gene_corrs_data, 1.0)\n",
    "\n",
    "gene_chr_ids = [g.ensembl_id for g in gene_chr_objs]\n",
    "gene_corrs_df = pd.DataFrame(\n",
    "    data=gene_corrs_data,\n",
    "    index=gene_chr_ids,\n",
    "    columns=gene_chr_ids,\n",
    ")\n",
    "\n",
    "output_dir.mkdir(exist_ok=True, parents=True)\n",
    "display(output_file)\n",
    "\n",
    "gene_corrs_df.to_pickle(output_file)"
   ]
  },
  {
   "cell_type": "markdown",
   "id": "faa67b51-5373-470f-aa72-2ded53fa6dfe",
   "metadata": {
    "papermill": {
     "duration": 0.815532,
     "end_time": "2022-12-15T17:52:27.316020",
     "exception": false,
     "start_time": "2022-12-15T17:52:26.500488",
     "status": "completed"
    },
    "tags": []
   },
   "source": [
    "# Testing"
   ]
  },
  {
   "cell_type": "code",
   "execution_count": 30,
   "id": "14f7d046-4b55-4896-a56b-990127bcc388",
   "metadata": {
    "execution": {
     "iopub.execute_input": "2022-12-15T17:52:29.047874Z",
     "iopub.status.busy": "2022-12-15T17:52:29.047581Z",
     "iopub.status.idle": "2022-12-15T17:52:29.063638Z",
     "shell.execute_reply": "2022-12-15T17:52:29.063098Z"
    },
    "papermill": {
     "duration": 0.87336,
     "end_time": "2022-12-15T17:52:29.064982",
     "exception": false,
     "start_time": "2022-12-15T17:52:28.191622",
     "status": "completed"
    },
    "tags": []
   },
   "outputs": [
    {
     "data": {
      "text/plain": [
       "(222, 222)"
      ]
     },
     "execution_count": 30,
     "metadata": {},
     "output_type": "execute_result"
    }
   ],
   "source": [
    "gene_corrs_df.shape"
   ]
  },
  {
   "cell_type": "code",
   "execution_count": 31,
   "id": "c7d15414-3297-4537-a7c6-7588c0baeb75",
   "metadata": {
    "execution": {
     "iopub.execute_input": "2022-12-15T17:52:30.790372Z",
     "iopub.status.busy": "2022-12-15T17:52:30.790023Z",
     "iopub.status.idle": "2022-12-15T17:52:30.827504Z",
     "shell.execute_reply": "2022-12-15T17:52:30.827030Z"
    },
    "papermill": {
     "duration": 0.915358,
     "end_time": "2022-12-15T17:52:30.828555",
     "exception": false,
     "start_time": "2022-12-15T17:52:29.913197",
     "status": "completed"
    },
    "tags": []
   },
   "outputs": [
    {
     "data": {
      "text/html": [
       "<div>\n",
       "<style scoped>\n",
       "    .dataframe tbody tr th:only-of-type {\n",
       "        vertical-align: middle;\n",
       "    }\n",
       "\n",
       "    .dataframe tbody tr th {\n",
       "        vertical-align: top;\n",
       "    }\n",
       "\n",
       "    .dataframe thead th {\n",
       "        text-align: right;\n",
       "    }\n",
       "</style>\n",
       "<table border=\"1\" class=\"dataframe\">\n",
       "  <thead>\n",
       "    <tr style=\"text-align: right;\">\n",
       "      <th></th>\n",
       "      <th>ENSG00000172748</th>\n",
       "      <th>ENSG00000182372</th>\n",
       "      <th>ENSG00000104728</th>\n",
       "      <th>ENSG00000036448</th>\n",
       "      <th>ENSG00000091879</th>\n",
       "      <th>ENSG00000155189</th>\n",
       "      <th>ENSG00000164821</th>\n",
       "      <th>ENSG00000253958</th>\n",
       "      <th>ENSG00000147324</th>\n",
       "      <th>ENSG00000173281</th>\n",
       "      <th>...</th>\n",
       "      <th>ENSG00000071894</th>\n",
       "      <th>ENSG00000147804</th>\n",
       "      <th>ENSG00000160948</th>\n",
       "      <th>ENSG00000160949</th>\n",
       "      <th>ENSG00000187954</th>\n",
       "      <th>ENSG00000160972</th>\n",
       "      <th>ENSG00000167701</th>\n",
       "      <th>ENSG00000161016</th>\n",
       "      <th>ENSG00000197363</th>\n",
       "      <th>ENSG00000196150</th>\n",
       "    </tr>\n",
       "  </thead>\n",
       "  <tbody>\n",
       "    <tr>\n",
       "      <th>ENSG00000172748</th>\n",
       "      <td>1.000000</td>\n",
       "      <td>0.008203</td>\n",
       "      <td>0.012194</td>\n",
       "      <td>0.010156</td>\n",
       "      <td>0.000000</td>\n",
       "      <td>0.000000</td>\n",
       "      <td>0.000000</td>\n",
       "      <td>0.000000</td>\n",
       "      <td>0.000000</td>\n",
       "      <td>0.000000</td>\n",
       "      <td>...</td>\n",
       "      <td>0.0</td>\n",
       "      <td>0.0</td>\n",
       "      <td>0.0</td>\n",
       "      <td>0.0</td>\n",
       "      <td>0.0</td>\n",
       "      <td>0.0</td>\n",
       "      <td>0.0</td>\n",
       "      <td>0.0</td>\n",
       "      <td>0.0</td>\n",
       "      <td>0.0</td>\n",
       "    </tr>\n",
       "    <tr>\n",
       "      <th>ENSG00000182372</th>\n",
       "      <td>0.008203</td>\n",
       "      <td>1.000000</td>\n",
       "      <td>0.182559</td>\n",
       "      <td>0.009172</td>\n",
       "      <td>0.007909</td>\n",
       "      <td>0.006291</td>\n",
       "      <td>0.000000</td>\n",
       "      <td>0.000000</td>\n",
       "      <td>0.000000</td>\n",
       "      <td>0.000000</td>\n",
       "      <td>...</td>\n",
       "      <td>0.0</td>\n",
       "      <td>0.0</td>\n",
       "      <td>0.0</td>\n",
       "      <td>0.0</td>\n",
       "      <td>0.0</td>\n",
       "      <td>0.0</td>\n",
       "      <td>0.0</td>\n",
       "      <td>0.0</td>\n",
       "      <td>0.0</td>\n",
       "      <td>0.0</td>\n",
       "    </tr>\n",
       "    <tr>\n",
       "      <th>ENSG00000104728</th>\n",
       "      <td>0.012194</td>\n",
       "      <td>0.182559</td>\n",
       "      <td>1.000000</td>\n",
       "      <td>0.029586</td>\n",
       "      <td>0.015373</td>\n",
       "      <td>0.016621</td>\n",
       "      <td>0.014423</td>\n",
       "      <td>0.000000</td>\n",
       "      <td>0.000000</td>\n",
       "      <td>0.000000</td>\n",
       "      <td>...</td>\n",
       "      <td>0.0</td>\n",
       "      <td>0.0</td>\n",
       "      <td>0.0</td>\n",
       "      <td>0.0</td>\n",
       "      <td>0.0</td>\n",
       "      <td>0.0</td>\n",
       "      <td>0.0</td>\n",
       "      <td>0.0</td>\n",
       "      <td>0.0</td>\n",
       "      <td>0.0</td>\n",
       "    </tr>\n",
       "    <tr>\n",
       "      <th>ENSG00000036448</th>\n",
       "      <td>0.010156</td>\n",
       "      <td>0.009172</td>\n",
       "      <td>0.029586</td>\n",
       "      <td>1.000000</td>\n",
       "      <td>0.008107</td>\n",
       "      <td>0.010894</td>\n",
       "      <td>0.007994</td>\n",
       "      <td>0.000000</td>\n",
       "      <td>0.000000</td>\n",
       "      <td>0.000000</td>\n",
       "      <td>...</td>\n",
       "      <td>0.0</td>\n",
       "      <td>0.0</td>\n",
       "      <td>0.0</td>\n",
       "      <td>0.0</td>\n",
       "      <td>0.0</td>\n",
       "      <td>0.0</td>\n",
       "      <td>0.0</td>\n",
       "      <td>0.0</td>\n",
       "      <td>0.0</td>\n",
       "      <td>0.0</td>\n",
       "    </tr>\n",
       "    <tr>\n",
       "      <th>ENSG00000091879</th>\n",
       "      <td>0.000000</td>\n",
       "      <td>0.007909</td>\n",
       "      <td>0.015373</td>\n",
       "      <td>0.008107</td>\n",
       "      <td>1.000000</td>\n",
       "      <td>0.098748</td>\n",
       "      <td>0.032149</td>\n",
       "      <td>0.005413</td>\n",
       "      <td>0.011595</td>\n",
       "      <td>0.006861</td>\n",
       "      <td>...</td>\n",
       "      <td>0.0</td>\n",
       "      <td>0.0</td>\n",
       "      <td>0.0</td>\n",
       "      <td>0.0</td>\n",
       "      <td>0.0</td>\n",
       "      <td>0.0</td>\n",
       "      <td>0.0</td>\n",
       "      <td>0.0</td>\n",
       "      <td>0.0</td>\n",
       "      <td>0.0</td>\n",
       "    </tr>\n",
       "  </tbody>\n",
       "</table>\n",
       "<p>5 rows × 222 columns</p>\n",
       "</div>"
      ],
      "text/plain": [
       "                 ENSG00000172748  ENSG00000182372  ENSG00000104728  \\\n",
       "ENSG00000172748         1.000000         0.008203         0.012194   \n",
       "ENSG00000182372         0.008203         1.000000         0.182559   \n",
       "ENSG00000104728         0.012194         0.182559         1.000000   \n",
       "ENSG00000036448         0.010156         0.009172         0.029586   \n",
       "ENSG00000091879         0.000000         0.007909         0.015373   \n",
       "\n",
       "                 ENSG00000036448  ENSG00000091879  ENSG00000155189  \\\n",
       "ENSG00000172748         0.010156         0.000000         0.000000   \n",
       "ENSG00000182372         0.009172         0.007909         0.006291   \n",
       "ENSG00000104728         0.029586         0.015373         0.016621   \n",
       "ENSG00000036448         1.000000         0.008107         0.010894   \n",
       "ENSG00000091879         0.008107         1.000000         0.098748   \n",
       "\n",
       "                 ENSG00000164821  ENSG00000253958  ENSG00000147324  \\\n",
       "ENSG00000172748         0.000000         0.000000         0.000000   \n",
       "ENSG00000182372         0.000000         0.000000         0.000000   \n",
       "ENSG00000104728         0.014423         0.000000         0.000000   \n",
       "ENSG00000036448         0.007994         0.000000         0.000000   \n",
       "ENSG00000091879         0.032149         0.005413         0.011595   \n",
       "\n",
       "                 ENSG00000173281  ...  ENSG00000071894  ENSG00000147804  \\\n",
       "ENSG00000172748         0.000000  ...              0.0              0.0   \n",
       "ENSG00000182372         0.000000  ...              0.0              0.0   \n",
       "ENSG00000104728         0.000000  ...              0.0              0.0   \n",
       "ENSG00000036448         0.000000  ...              0.0              0.0   \n",
       "ENSG00000091879         0.006861  ...              0.0              0.0   \n",
       "\n",
       "                 ENSG00000160948  ENSG00000160949  ENSG00000187954  \\\n",
       "ENSG00000172748              0.0              0.0              0.0   \n",
       "ENSG00000182372              0.0              0.0              0.0   \n",
       "ENSG00000104728              0.0              0.0              0.0   \n",
       "ENSG00000036448              0.0              0.0              0.0   \n",
       "ENSG00000091879              0.0              0.0              0.0   \n",
       "\n",
       "                 ENSG00000160972  ENSG00000167701  ENSG00000161016  \\\n",
       "ENSG00000172748              0.0              0.0              0.0   \n",
       "ENSG00000182372              0.0              0.0              0.0   \n",
       "ENSG00000104728              0.0              0.0              0.0   \n",
       "ENSG00000036448              0.0              0.0              0.0   \n",
       "ENSG00000091879              0.0              0.0              0.0   \n",
       "\n",
       "                 ENSG00000197363  ENSG00000196150  \n",
       "ENSG00000172748              0.0              0.0  \n",
       "ENSG00000182372              0.0              0.0  \n",
       "ENSG00000104728              0.0              0.0  \n",
       "ENSG00000036448              0.0              0.0  \n",
       "ENSG00000091879              0.0              0.0  \n",
       "\n",
       "[5 rows x 222 columns]"
      ]
     },
     "execution_count": 31,
     "metadata": {},
     "output_type": "execute_result"
    }
   ],
   "source": [
    "gene_corrs_df.head()"
   ]
  },
  {
   "cell_type": "markdown",
   "id": "dad6603f-01c6-41fb-a6f6-241051207dd8",
   "metadata": {
    "papermill": {
     "duration": 0.837372,
     "end_time": "2022-12-15T17:52:32.495706",
     "exception": false,
     "start_time": "2022-12-15T17:52:31.658334",
     "status": "completed"
    },
    "tags": []
   },
   "source": [
    "## Standard checks and stats"
   ]
  },
  {
   "cell_type": "code",
   "execution_count": 32,
   "id": "286686af-1b7b-4440-8453-6bdcbd8de19c",
   "metadata": {
    "execution": {
     "iopub.execute_input": "2022-12-15T17:52:34.126087Z",
     "iopub.status.busy": "2022-12-15T17:52:34.125701Z",
     "iopub.status.idle": "2022-12-15T17:52:34.147597Z",
     "shell.execute_reply": "2022-12-15T17:52:34.146929Z"
    },
    "papermill": {
     "duration": 0.810538,
     "end_time": "2022-12-15T17:52:34.148830",
     "exception": false,
     "start_time": "2022-12-15T17:52:33.338292",
     "status": "completed"
    },
    "tags": []
   },
   "outputs": [],
   "source": [
    "assert not gene_corrs_df.isna().any(axis=None)"
   ]
  },
  {
   "cell_type": "code",
   "execution_count": 33,
   "id": "00583efc-7068-4270-ad1e-4a418e91db96",
   "metadata": {
    "execution": {
     "iopub.execute_input": "2022-12-15T17:52:36.012544Z",
     "iopub.status.busy": "2022-12-15T17:52:36.011905Z",
     "iopub.status.idle": "2022-12-15T17:52:36.029038Z",
     "shell.execute_reply": "2022-12-15T17:52:36.028610Z"
    },
    "papermill": {
     "duration": 0.833536,
     "end_time": "2022-12-15T17:52:36.030332",
     "exception": false,
     "start_time": "2022-12-15T17:52:35.196796",
     "status": "completed"
    },
    "tags": []
   },
   "outputs": [
    {
     "data": {
      "text/plain": [
       "0.0"
      ]
     },
     "metadata": {},
     "output_type": "display_data"
    }
   ],
   "source": [
    "_min_val = gene_corrs_df.min().min()\n",
    "display(_min_val)\n",
    "assert _min_val >= -0.05"
   ]
  },
  {
   "cell_type": "code",
   "execution_count": 34,
   "id": "d04fb2cf-1050-475b-b855-f5f7cc04092b",
   "metadata": {
    "execution": {
     "iopub.execute_input": "2022-12-15T17:52:37.839129Z",
     "iopub.status.busy": "2022-12-15T17:52:37.838769Z",
     "iopub.status.idle": "2022-12-15T17:52:37.861611Z",
     "shell.execute_reply": "2022-12-15T17:52:37.861052Z"
    },
    "papermill": {
     "duration": 0.878859,
     "end_time": "2022-12-15T17:52:37.862646",
     "exception": false,
     "start_time": "2022-12-15T17:52:36.983787",
     "status": "completed"
    },
    "tags": []
   },
   "outputs": [
    {
     "data": {
      "text/plain": [
       "1.0000000000000029"
      ]
     },
     "metadata": {},
     "output_type": "display_data"
    }
   ],
   "source": [
    "_max_val = gene_corrs_df.max().max()  # this captures the diagonal\n",
    "display(_max_val)\n",
    "assert _max_val <= 1.05"
   ]
  },
  {
   "cell_type": "code",
   "execution_count": 35,
   "id": "fe283586-c348-40e0-8841-f6d97bfb021c",
   "metadata": {
    "execution": {
     "iopub.execute_input": "2022-12-15T17:52:39.864345Z",
     "iopub.status.busy": "2022-12-15T17:52:39.863963Z",
     "iopub.status.idle": "2022-12-15T17:52:39.888643Z",
     "shell.execute_reply": "2022-12-15T17:52:39.888137Z"
    },
    "papermill": {
     "duration": 1.113864,
     "end_time": "2022-12-15T17:52:39.889929",
     "exception": false,
     "start_time": "2022-12-15T17:52:38.776065",
     "status": "completed"
    },
    "tags": []
   },
   "outputs": [
    {
     "data": {
      "text/plain": [
       "count    24753.000000\n",
       "mean         0.011375\n",
       "std          0.097211\n",
       "min          0.000000\n",
       "25%          0.000000\n",
       "50%          0.000000\n",
       "75%          0.000000\n",
       "max          1.000000\n",
       "dtype: float64"
      ]
     },
     "execution_count": 35,
     "metadata": {},
     "output_type": "execute_result"
    }
   ],
   "source": [
    "gene_corrs_flat.describe()"
   ]
  },
  {
   "cell_type": "code",
   "execution_count": 36,
   "id": "b3815678-0f93-4b35-897b-a9d047a2aa78",
   "metadata": {
    "execution": {
     "iopub.execute_input": "2022-12-15T17:52:41.745937Z",
     "iopub.status.busy": "2022-12-15T17:52:41.745702Z",
     "iopub.status.idle": "2022-12-15T17:52:41.762174Z",
     "shell.execute_reply": "2022-12-15T17:52:41.761791Z"
    },
    "papermill": {
     "duration": 0.886872,
     "end_time": "2022-12-15T17:52:41.763077",
     "exception": false,
     "start_time": "2022-12-15T17:52:40.876205",
     "status": "completed"
    },
    "tags": []
   },
   "outputs": [
    {
     "data": {
      "text/plain": [
       "0.00    0.000000\n",
       "0.05    0.000000\n",
       "0.10    0.000000\n",
       "0.15    0.000000\n",
       "0.20    0.000000\n",
       "0.25    0.000000\n",
       "0.30    0.000000\n",
       "0.35    0.000000\n",
       "0.40    0.000000\n",
       "0.45    0.000000\n",
       "0.50    0.000000\n",
       "0.55    0.000000\n",
       "0.60    0.000000\n",
       "0.65    0.000000\n",
       "0.70    0.000000\n",
       "0.75    0.000000\n",
       "0.80    0.000000\n",
       "0.85    0.000000\n",
       "0.90    0.000000\n",
       "0.95    0.007877\n",
       "dtype: float64"
      ]
     },
     "metadata": {},
     "output_type": "display_data"
    }
   ],
   "source": [
    "gene_corrs_quantiles = gene_corrs_flat.quantile(np.arange(0, 1, 0.05))\n",
    "display(gene_corrs_quantiles)"
   ]
  },
  {
   "cell_type": "markdown",
   "id": "87134509-b145-4a10-8bc9-b7e914c2b0fa",
   "metadata": {
    "papermill": {
     "duration": 0.841884,
     "end_time": "2022-12-15T17:52:43.421807",
     "exception": false,
     "start_time": "2022-12-15T17:52:42.579923",
     "status": "completed"
    },
    "tags": []
   },
   "source": [
    "## Positive definiteness"
   ]
  },
  {
   "cell_type": "code",
   "execution_count": 37,
   "id": "07d9a9a1-a4f7-48aa-b916-6d42a8cc6186",
   "metadata": {
    "execution": {
     "iopub.execute_input": "2022-12-15T17:52:45.431759Z",
     "iopub.status.busy": "2022-12-15T17:52:45.431388Z",
     "iopub.status.idle": "2022-12-15T17:52:45.461908Z",
     "shell.execute_reply": "2022-12-15T17:52:45.461464Z"
    },
    "papermill": {
     "duration": 1.186052,
     "end_time": "2022-12-15T17:52:45.463115",
     "exception": false,
     "start_time": "2022-12-15T17:52:44.277063",
     "status": "completed"
    },
    "tags": []
   },
   "outputs": [
    {
     "data": {
      "text/plain": [
       "0"
      ]
     },
     "metadata": {},
     "output_type": "display_data"
    },
    {
     "data": {
      "text/plain": [
       "array([], dtype=float64)"
      ]
     },
     "metadata": {},
     "output_type": "display_data"
    }
   ],
   "source": [
    "# print negative eigenvalues\n",
    "eigs = np.linalg.eigvals(gene_corrs_df.to_numpy())\n",
    "display(len(eigs[eigs < 0]))\n",
    "display(eigs[eigs < 0])"
   ]
  },
  {
   "cell_type": "code",
   "execution_count": 38,
   "id": "6e218436-c3c5-4028-8c94-a4fa6260efce",
   "metadata": {
    "execution": {
     "iopub.execute_input": "2022-12-15T17:52:47.259336Z",
     "iopub.status.busy": "2022-12-15T17:52:47.259064Z",
     "iopub.status.idle": "2022-12-15T17:52:47.284419Z",
     "shell.execute_reply": "2022-12-15T17:52:47.283862Z"
    },
    "papermill": {
     "duration": 0.842832,
     "end_time": "2022-12-15T17:52:47.285754",
     "exception": false,
     "start_time": "2022-12-15T17:52:46.442922",
     "status": "completed"
    },
    "tags": []
   },
   "outputs": [
    {
     "name": "stdout",
     "output_type": "stream",
     "text": [
      "Works!\n"
     ]
    }
   ],
   "source": [
    "try:\n",
    "    chol_mat = np.linalg.cholesky(gene_corrs_df.to_numpy())\n",
    "    cov_inv = np.linalg.inv(chol_mat)\n",
    "    print(\"Works!\")\n",
    "except Exception as e:\n",
    "    print(f\"Cholesky decomposition failed: {str(e)}\")"
   ]
  },
  {
   "cell_type": "code",
   "execution_count": 39,
   "id": "dd8827fb-faf9-4c7c-9454-015e94752706",
   "metadata": {
    "execution": {
     "iopub.execute_input": "2022-12-15T17:52:49.133140Z",
     "iopub.status.busy": "2022-12-15T17:52:49.132835Z",
     "iopub.status.idle": "2022-12-15T17:52:49.157280Z",
     "shell.execute_reply": "2022-12-15T17:52:49.156664Z"
    },
    "papermill": {
     "duration": 0.846616,
     "end_time": "2022-12-15T17:52:49.158259",
     "exception": false,
     "start_time": "2022-12-15T17:52:48.311643",
     "status": "completed"
    },
    "tags": []
   },
   "outputs": [
    {
     "name": "stdout",
     "output_type": "stream",
     "text": [
      "Works!\n"
     ]
    }
   ],
   "source": [
    "try:\n",
    "    # decomposition used by statsmodels.GLS\n",
    "    cholsigmainv = np.linalg.cholesky(np.linalg.inv(gene_corrs_df.to_numpy())).T\n",
    "    print(\"Works!\")\n",
    "except Exception as e:\n",
    "    print(f\"Cholesky decomposition failed (statsmodels.GLS): {str(e)}\")"
   ]
  },
  {
   "cell_type": "markdown",
   "id": "8e60a080-edb2-4e9c-b2ef-22961693200c",
   "metadata": {
    "papermill": {
     "duration": 0.855552,
     "end_time": "2022-12-15T17:52:50.835279",
     "exception": false,
     "start_time": "2022-12-15T17:52:49.979727",
     "status": "completed"
    },
    "tags": []
   },
   "source": [
    "## Plot: distribution"
   ]
  },
  {
   "cell_type": "code",
   "execution_count": 40,
   "id": "8301126b-a7d4-4744-9c7d-f0f86eb6f54c",
   "metadata": {
    "execution": {
     "iopub.execute_input": "2022-12-15T17:52:52.759119Z",
     "iopub.status.busy": "2022-12-15T17:52:52.758774Z",
     "iopub.status.idle": "2022-12-15T17:52:53.526289Z",
     "shell.execute_reply": "2022-12-15T17:52:53.525845Z"
    },
    "papermill": {
     "duration": 1.700903,
     "end_time": "2022-12-15T17:52:53.528460",
     "exception": false,
     "start_time": "2022-12-15T17:52:51.827557",
     "status": "completed"
    },
    "tags": []
   },
   "outputs": [
    {
     "data": {
      "image/png": "[encoded data removed]",
      "text/plain": [
       "<Figure size 700x700 with 1 Axes>"
      ]
     },
     "metadata": {},
     "output_type": "display_data"
    }
   ],
   "source": [
    "with sns.plotting_context(\"paper\", font_scale=1.5):\n",
    "    g = sns.displot(gene_corrs_flat, kde=True, height=7)\n",
    "    g.ax.set_title(\n",
    "        f\"Distribution of gene correlation values in chromosome {CHROMOSOME}\"\n",
    "    )"
   ]
  },
  {
   "cell_type": "markdown",
   "id": "cbd52bca-d878-4a2f-b684-5c83aa3038d4",
   "metadata": {
    "papermill": {
     "duration": 0.81803,
     "end_time": "2022-12-15T17:52:55.231589",
     "exception": false,
     "start_time": "2022-12-15T17:52:54.413559",
     "status": "completed"
    },
    "tags": []
   },
   "source": [
    "## Plot: heatmap"
   ]
  },
  {
   "cell_type": "code",
   "execution_count": 41,
   "id": "d03fe63a-c7b2-4fb9-a53c-db362ce843c9",
   "metadata": {
    "execution": {
     "iopub.execute_input": "2022-12-15T17:52:56.951058Z",
     "iopub.status.busy": "2022-12-15T17:52:56.950797Z",
     "iopub.status.idle": "2022-12-15T17:52:56.973266Z",
     "shell.execute_reply": "2022-12-15T17:52:56.972767Z"
    },
    "papermill": {
     "duration": 0.923616,
     "end_time": "2022-12-15T17:52:56.974153",
     "exception": false,
     "start_time": "2022-12-15T17:52:56.050537",
     "status": "completed"
    },
    "tags": []
   },
   "outputs": [
    {
     "data": {
      "text/plain": [
       "'0.0 / 0.05'"
      ]
     },
     "metadata": {},
     "output_type": "display_data"
    }
   ],
   "source": [
    "vmin_val = min(0.00, gene_corrs_quantiles[0.10])\n",
    "vmax_val = max(0.05, gene_corrs_quantiles[0.90])\n",
    "display(f\"{vmin_val} / {vmax_val}\")"
   ]
  },
  {
   "cell_type": "code",
   "execution_count": 42,
   "id": "dc41b70b-5bcc-4d9e-9f33-a22c4a94dab5",
   "metadata": {
    "execution": {
     "iopub.execute_input": "2022-12-15T17:52:58.569890Z",
     "iopub.status.busy": "2022-12-15T17:52:58.569368Z",
     "iopub.status.idle": "2022-12-15T17:52:58.750452Z",
     "shell.execute_reply": "2022-12-15T17:52:58.749909Z"
    },
    "papermill": {
     "duration": 0.981448,
     "end_time": "2022-12-15T17:52:58.752021",
     "exception": false,
     "start_time": "2022-12-15T17:52:57.770573",
     "status": "completed"
    },
    "tags": []
   },
   "outputs": [
    {
     "data": {
      "text/plain": [
       "Text(0.5, 1.0, 'Gene correlations in chromosome 8')"
      ]
     },
     "execution_count": 42,
     "metadata": {},
     "output_type": "execute_result"
    },
    {
     "data": {
      "image/png": "[encoded data removed]",
      "text/plain": [
       "<Figure size 1000x1000 with 2 Axes>"
      ]
     },
     "metadata": {},
     "output_type": "display_data"
    }
   ],
   "source": [
    "f, ax = plt.subplots(figsize=(10, 10))\n",
    "sns.heatmap(\n",
    "    gene_corrs_df,\n",
    "    xticklabels=False,\n",
    "    yticklabels=False,\n",
    "    square=True,\n",
    "    vmin=vmin_val,\n",
    "    vmax=vmax_val,\n",
    "    cmap=\"rocket_r\",\n",
    "    ax=ax,\n",
    ")\n",
    "ax.set_title(f\"Gene correlations in chromosome {CHROMOSOME}\")"
   ]
  },
  {
   "cell_type": "code",
   "execution_count": null,
   "id": "b25e3ead",
   "metadata": {
    "papermill": {
     "duration": 0.863157,
     "end_time": "2022-12-15T17:53:00.430395",
     "exception": false,
     "start_time": "2022-12-15T17:52:59.567238",
     "status": "completed"
    },
    "tags": []
   },
   "outputs": [],
   "source": []
  }
 ],
 "metadata": {
  "jupytext": {
   "cell_metadata_filter": "all,-execution,-papermill,-trusted",
   "formats": "ipynb,py//py:percent"
  },
  "kernelspec": {
   "display_name": "Python 3 (ipykernel)",
   "language": "python",
   "name": "python3"
  },
  "language_info": {
   "codemirror_mode": {
    "name": "ipython",
    "version": 3
   },
   "file_extension": ".py",
   "mimetype": "text/x-python",
   "name": "python",
   "nbconvert_exporter": "python",
   "pygments_lexer": "ipython3",
   "version": "3.10.6"
  },
  "papermill": {
   "default_parameters": {},
   "duration": 221.977834,
   "end_time": "2022-12-15T17:53:04.002975",
   "environment_variables": {},
   "exception": null,
   "input_path": "projects/asthma-copd/nbs/20_gene_corrs/jobs/05-gene_expr_correlations.ipynb",
   "output_path": "projects/asthma-copd/nbs/20_gene_corrs/jobs/../output/asthma_only/05-gene_expr_correlations-chr8.run.ipynb",
   "parameters": {
    "CHROMOSOME": 8,
    "COHORT_NAME": "asthma_only",
    "OUTPUT_DIR_BASE": "/opt/data/projects/asthma-copd/results/gls_phenoplier",
    "PHENOPLIER_NOTEBOOK_FILEPATH": "projects/asthma-copd/nbs/20_gene_corrs/jobs/05-gene_expr_correlations.ipynb"
   },
   "start_time": "2022-12-15T17:49:22.025141",
   "version": "2.2.2"
  }
 },
 "nbformat": 4,
 "nbformat_minor": 5
}
