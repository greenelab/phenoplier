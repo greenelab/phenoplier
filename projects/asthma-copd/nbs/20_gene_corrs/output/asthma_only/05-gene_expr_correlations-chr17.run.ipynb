{
 "cells": [
  {
   "cell_type": "markdown",
   "id": "7a6632fb",
   "metadata": {
    "papermill": {
     "duration": 0.013727,
     "end_time": "2022-12-15T17:49:22.962278",
     "exception": false,
     "start_time": "2022-12-15T17:49:22.948551",
     "status": "completed"
    },
    "tags": []
   },
   "source": [
    "# Description"
   ]
  },
  {
   "cell_type": "markdown",
   "id": "7097c346",
   "metadata": {
    "papermill": {
     "duration": 0.014006,
     "end_time": "2022-12-15T17:49:22.990154",
     "exception": false,
     "start_time": "2022-12-15T17:49:22.976148",
     "status": "completed"
    },
    "tags": []
   },
   "source": [
    "(Please, take a look at the README.md file in this directory for instructions on how to run this notebook)\n",
    "\n",
    "This notebook computes predicted expression correlations between all genes in the MultiPLIER models.\n",
    "\n",
    "It has specicfic parameters for papermill (see under `Settings` below).\n",
    "It can be configured to run on a single chromosome to run in parallel.\n",
    "\n",
    "This notebook is not directly run. See README.md."
   ]
  },
  {
   "cell_type": "markdown",
   "id": "c61d8427",
   "metadata": {
    "papermill": {
     "duration": 0.014071,
     "end_time": "2022-12-15T17:49:23.017998",
     "exception": false,
     "start_time": "2022-12-15T17:49:23.003927",
     "status": "completed"
    },
    "tags": []
   },
   "source": [
    "# Modules"
   ]
  },
  {
   "cell_type": "code",
   "execution_count": 1,
   "id": "bbc0234f",
   "metadata": {
    "execution": {
     "iopub.execute_input": "2022-12-15T17:49:23.041846Z",
     "iopub.status.busy": "2022-12-15T17:49:23.041089Z",
     "iopub.status.idle": "2022-12-15T17:49:23.065389Z",
     "shell.execute_reply": "2022-12-15T17:49:23.064716Z"
    },
    "papermill": {
     "duration": 0.034811,
     "end_time": "2022-12-15T17:49:23.067257",
     "exception": false,
     "start_time": "2022-12-15T17:49:23.032446",
     "status": "completed"
    },
    "tags": []
   },
   "outputs": [],
   "source": [
    "%load_ext autoreload\n",
    "%autoreload 2"
   ]
  },
  {
   "cell_type": "code",
   "execution_count": 2,
   "id": "1d5f5a59",
   "metadata": {
    "execution": {
     "iopub.execute_input": "2022-12-15T17:49:23.077961Z",
     "iopub.status.busy": "2022-12-15T17:49:23.077636Z",
     "iopub.status.idle": "2022-12-15T17:49:23.937601Z",
     "shell.execute_reply": "2022-12-15T17:49:23.937103Z"
    },
    "papermill": {
     "duration": 0.866582,
     "end_time": "2022-12-15T17:49:23.938770",
     "exception": false,
     "start_time": "2022-12-15T17:49:23.072188",
     "status": "completed"
    },
    "tags": []
   },
   "outputs": [],
   "source": [
    "from random import sample, seed\n",
    "import warnings\n",
    "from pathlib import Path\n",
    "import pickle\n",
    "import traceback\n",
    "\n",
    "import numpy as np\n",
    "from scipy.spatial.distance import squareform\n",
    "import pandas as pd\n",
    "from tqdm import tqdm\n",
    "import matplotlib.pyplot as plt\n",
    "import seaborn as sns\n",
    "\n",
    "import conf\n",
    "from entity import Gene"
   ]
  },
  {
   "cell_type": "markdown",
   "id": "1eac24b5",
   "metadata": {
    "papermill": {
     "duration": 0.004229,
     "end_time": "2022-12-15T17:49:23.947741",
     "exception": false,
     "start_time": "2022-12-15T17:49:23.943512",
     "status": "completed"
    },
    "tags": []
   },
   "source": [
    "# Settings"
   ]
  },
  {
   "cell_type": "code",
   "execution_count": 3,
   "id": "ca4560ba",
   "metadata": {
    "execution": {
     "iopub.execute_input": "2022-12-15T17:49:23.958932Z",
     "iopub.status.busy": "2022-12-15T17:49:23.958610Z",
     "iopub.status.idle": "2022-12-15T17:49:23.986158Z",
     "shell.execute_reply": "2022-12-15T17:49:23.985734Z"
    },
    "papermill": {
     "duration": 0.035369,
     "end_time": "2022-12-15T17:49:23.987302",
     "exception": false,
     "start_time": "2022-12-15T17:49:23.951933",
     "status": "completed"
    },
    "tags": [
     "parameters"
    ]
   },
   "outputs": [],
   "source": [
    "# a cohort name (it could be something like UK_BIOBANK, etc)\n",
    "COHORT_NAME = None\n",
    "\n",
    "# reference panel such as 1000G or GTEX_V8\n",
    "REFERENCE_PANEL = \"GTEX_V8\"\n",
    "\n",
    "# predictions models such as MASHR or ELASTIC_NET\n",
    "EQTL_MODEL = \"MASHR\"\n",
    "\n",
    "# this is the default value used in S-MultiXcan to select the\n",
    "# top principal components of the expression correlation matrix\n",
    "SMULTIXCAN_CONDITION_NUMBER = 30\n",
    "\n",
    "# specifies a single chromosome value\n",
    "CHROMOSOME = None\n",
    "\n",
    "# If True, computes the correlation between closeby genes only (see\n",
    "# entity.Gene.within_distance for more details). Otherwise, it computes\n",
    "# correlations for all genes in a chromosome\n",
    "COMPUTE_CORRELATIONS_WITHIN_DISTANCE = True\n",
    "\n",
    "# if True, then it will continue if a gene pair correlation fails,\n",
    "# printing the warning/error for debugging. If False, any warning/error\n",
    "# will be thrown\n",
    "DEBUG_MODE = False\n",
    "\n",
    "# output dir\n",
    "OUTPUT_DIR_BASE = None"
   ]
  },
  {
   "cell_type": "code",
   "execution_count": 4,
   "id": "e896ca7f",
   "metadata": {
    "execution": {
     "iopub.execute_input": "2022-12-15T17:49:24.001441Z",
     "iopub.status.busy": "2022-12-15T17:49:24.001233Z",
     "iopub.status.idle": "2022-12-15T17:49:24.026590Z",
     "shell.execute_reply": "2022-12-15T17:49:24.026192Z"
    },
    "papermill": {
     "duration": 0.03271,
     "end_time": "2022-12-15T17:49:24.027843",
     "exception": false,
     "start_time": "2022-12-15T17:49:23.995133",
     "status": "completed"
    },
    "tags": [
     "injected-parameters"
    ]
   },
   "outputs": [],
   "source": [
    "# Parameters\n",
    "PHENOPLIER_NOTEBOOK_FILEPATH = (\n",
    "    \"projects/asthma-copd/nbs/20_gene_corrs/jobs/05-gene_expr_correlations.ipynb\"\n",
    ")\n",
    "COHORT_NAME = \"asthma_only\"\n",
    "CHROMOSOME = 17\n",
    "OUTPUT_DIR_BASE = \"/opt/data/projects/asthma-copd/results/gls_phenoplier\"\n"
   ]
  },
  {
   "cell_type": "code",
   "execution_count": 5,
   "id": "3190631f-27fc-480f-b18e-571d580425a5",
   "metadata": {
    "execution": {
     "iopub.execute_input": "2022-12-15T17:49:24.037690Z",
     "iopub.status.busy": "2022-12-15T17:49:24.037490Z",
     "iopub.status.idle": "2022-12-15T17:49:24.063354Z",
     "shell.execute_reply": "2022-12-15T17:49:24.062982Z"
    },
    "papermill": {
     "duration": 0.0317,
     "end_time": "2022-12-15T17:49:24.064198",
     "exception": false,
     "start_time": "2022-12-15T17:49:24.032498",
     "status": "completed"
    },
    "tags": []
   },
   "outputs": [
    {
     "data": {
      "text/plain": [
       "'Cohort name: asthma_only'"
      ]
     },
     "metadata": {},
     "output_type": "display_data"
    }
   ],
   "source": [
    "assert COHORT_NAME is not None and len(COHORT_NAME) > 0, \"A cohort name must be given\"\n",
    "\n",
    "COHORT_NAME = COHORT_NAME.lower()\n",
    "display(f\"Cohort name: {COHORT_NAME}\")"
   ]
  },
  {
   "cell_type": "code",
   "execution_count": 6,
   "id": "f53ba19b-0f93-4fa2-a047-63b375939d1a",
   "metadata": {
    "execution": {
     "iopub.execute_input": "2022-12-15T17:49:24.074761Z",
     "iopub.status.busy": "2022-12-15T17:49:24.074471Z",
     "iopub.status.idle": "2022-12-15T17:49:24.096191Z",
     "shell.execute_reply": "2022-12-15T17:49:24.095743Z"
    },
    "papermill": {
     "duration": 0.028146,
     "end_time": "2022-12-15T17:49:24.097065",
     "exception": false,
     "start_time": "2022-12-15T17:49:24.068919",
     "status": "completed"
    },
    "tags": []
   },
   "outputs": [
    {
     "data": {
      "text/plain": [
       "'Reference panel: GTEX_V8'"
      ]
     },
     "metadata": {},
     "output_type": "display_data"
    }
   ],
   "source": [
    "assert (\n",
    "    REFERENCE_PANEL is not None and len(REFERENCE_PANEL) > 0\n",
    "), \"A reference panel must be given\"\n",
    "\n",
    "display(f\"Reference panel: {REFERENCE_PANEL}\")"
   ]
  },
  {
   "cell_type": "code",
   "execution_count": 7,
   "id": "e024d130-c139-429a-9c6e-ccf149e297b0",
   "metadata": {
    "execution": {
     "iopub.execute_input": "2022-12-15T17:49:24.107872Z",
     "iopub.status.busy": "2022-12-15T17:49:24.107650Z",
     "iopub.status.idle": "2022-12-15T17:49:24.129265Z",
     "shell.execute_reply": "2022-12-15T17:49:24.128640Z"
    },
    "papermill": {
     "duration": 0.028161,
     "end_time": "2022-12-15T17:49:24.130214",
     "exception": false,
     "start_time": "2022-12-15T17:49:24.102053",
     "status": "completed"
    },
    "tags": []
   },
   "outputs": [
    {
     "data": {
      "text/plain": [
       "'eQTL model: MASHR) / mashr_'"
      ]
     },
     "metadata": {},
     "output_type": "display_data"
    }
   ],
   "source": [
    "assert (\n",
    "    EQTL_MODEL is not None and len(EQTL_MODEL) > 0\n",
    "), \"A prediction/eQTL model must be given\"\n",
    "\n",
    "EQTL_MODEL_FILES_PREFIX = conf.PHENOMEXCAN[\"PREDICTION_MODELS\"][f\"{EQTL_MODEL}_PREFIX\"]\n",
    "display(f\"eQTL model: {EQTL_MODEL}) / {EQTL_MODEL_FILES_PREFIX}\")"
   ]
  },
  {
   "cell_type": "code",
   "execution_count": 8,
   "id": "552a7f63-a18c-4d3e-bb6a-94f99b431291",
   "metadata": {
    "execution": {
     "iopub.execute_input": "2022-12-15T17:49:24.141044Z",
     "iopub.status.busy": "2022-12-15T17:49:24.140838Z",
     "iopub.status.idle": "2022-12-15T17:49:24.167774Z",
     "shell.execute_reply": "2022-12-15T17:49:24.167389Z"
    },
    "papermill": {
     "duration": 0.033631,
     "end_time": "2022-12-15T17:49:24.168643",
     "exception": false,
     "start_time": "2022-12-15T17:49:24.135012",
     "status": "completed"
    },
    "tags": []
   },
   "outputs": [
    {
     "data": {
      "text/plain": [
       "'S-MultiXcan condition number: 30'"
      ]
     },
     "metadata": {},
     "output_type": "display_data"
    }
   ],
   "source": [
    "assert (\n",
    "    SMULTIXCAN_CONDITION_NUMBER is not None and SMULTIXCAN_CONDITION_NUMBER > 0\n",
    "), \"The S-MultiXcan condition number (positive integer) must be given\"\n",
    "\n",
    "display(f\"S-MultiXcan condition number: {SMULTIXCAN_CONDITION_NUMBER}\")"
   ]
  },
  {
   "cell_type": "code",
   "execution_count": 9,
   "id": "f34a336f-548e-4afe-8955-90eaea4f42c6",
   "metadata": {
    "execution": {
     "iopub.execute_input": "2022-12-15T17:49:24.179548Z",
     "iopub.status.busy": "2022-12-15T17:49:24.179122Z",
     "iopub.status.idle": "2022-12-15T17:49:24.205456Z",
     "shell.execute_reply": "2022-12-15T17:49:24.204906Z"
    },
    "papermill": {
     "duration": 0.03323,
     "end_time": "2022-12-15T17:49:24.206588",
     "exception": false,
     "start_time": "2022-12-15T17:49:24.173358",
     "status": "completed"
    },
    "tags": []
   },
   "outputs": [
    {
     "data": {
      "text/plain": [
       "'Working on chromosome 17'"
      ]
     },
     "metadata": {},
     "output_type": "display_data"
    }
   ],
   "source": [
    "assert CHROMOSOME is not None and (\n",
    "    1 <= CHROMOSOME <= 22\n",
    "), \"You have to select one chromosome (format: number between 1 and 22)\"\n",
    "\n",
    "display(f\"Working on chromosome {CHROMOSOME}\")"
   ]
  },
  {
   "cell_type": "code",
   "execution_count": 10,
   "id": "ab8e96e8-06b5-4363-9dcd-dc4d78cc27f7",
   "metadata": {
    "execution": {
     "iopub.execute_input": "2022-12-15T17:49:24.219435Z",
     "iopub.status.busy": "2022-12-15T17:49:24.219171Z",
     "iopub.status.idle": "2022-12-15T17:49:24.243118Z",
     "shell.execute_reply": "2022-12-15T17:49:24.242716Z"
    },
    "papermill": {
     "duration": 0.031134,
     "end_time": "2022-12-15T17:49:24.244792",
     "exception": false,
     "start_time": "2022-12-15T17:49:24.213658",
     "status": "completed"
    },
    "tags": []
   },
   "outputs": [
    {
     "data": {
      "text/plain": [
       "'Compute correlation within distance True'"
      ]
     },
     "metadata": {},
     "output_type": "display_data"
    }
   ],
   "source": [
    "display(f\"Compute correlation within distance {COMPUTE_CORRELATIONS_WITHIN_DISTANCE}\")"
   ]
  },
  {
   "cell_type": "code",
   "execution_count": 11,
   "id": "b393b698-77e3-4ba2-8ac1-e14d51aa988f",
   "metadata": {
    "execution": {
     "iopub.execute_input": "2022-12-15T17:49:24.266478Z",
     "iopub.status.busy": "2022-12-15T17:49:24.266231Z",
     "iopub.status.idle": "2022-12-15T17:49:24.292852Z",
     "shell.execute_reply": "2022-12-15T17:49:24.292386Z"
    },
    "papermill": {
     "duration": 0.038729,
     "end_time": "2022-12-15T17:49:24.293713",
     "exception": false,
     "start_time": "2022-12-15T17:49:24.254984",
     "status": "completed"
    },
    "tags": []
   },
   "outputs": [
    {
     "data": {
      "text/plain": [
       "'Using output dir base: /opt/data/projects/asthma-copd/results/gls_phenoplier/gene_corrs/asthma_only'"
      ]
     },
     "metadata": {},
     "output_type": "display_data"
    }
   ],
   "source": [
    "assert (\n",
    "    OUTPUT_DIR_BASE is not None and len(OUTPUT_DIR_BASE) > 0\n",
    "), \"Output directory path must be given\"\n",
    "\n",
    "OUTPUT_DIR_BASE = (Path(OUTPUT_DIR_BASE) / \"gene_corrs\" / COHORT_NAME).resolve()\n",
    "\n",
    "OUTPUT_DIR_BASE.mkdir(parents=True, exist_ok=True)\n",
    "\n",
    "display(f\"Using output dir base: {OUTPUT_DIR_BASE}\")"
   ]
  },
  {
   "cell_type": "markdown",
   "id": "d2ba085e",
   "metadata": {
    "papermill": {
     "duration": 0.004927,
     "end_time": "2022-12-15T17:49:24.303764",
     "exception": false,
     "start_time": "2022-12-15T17:49:24.298837",
     "status": "completed"
    },
    "tags": []
   },
   "source": [
    "# Load data"
   ]
  },
  {
   "cell_type": "markdown",
   "id": "7dcb8db7",
   "metadata": {
    "papermill": {
     "duration": 0.007641,
     "end_time": "2022-12-15T17:49:24.317017",
     "exception": false,
     "start_time": "2022-12-15T17:49:24.309376",
     "status": "completed"
    },
    "tags": []
   },
   "source": [
    "## GWAS variants"
   ]
  },
  {
   "cell_type": "code",
   "execution_count": 12,
   "id": "29434c4e-8cd3-4b9b-82e4-b5a251d9dd19",
   "metadata": {
    "execution": {
     "iopub.execute_input": "2022-12-15T17:49:24.333328Z",
     "iopub.status.busy": "2022-12-15T17:49:24.333077Z",
     "iopub.status.idle": "2022-12-15T17:49:27.643933Z",
     "shell.execute_reply": "2022-12-15T17:49:27.642825Z"
    },
    "papermill": {
     "duration": 3.321755,
     "end_time": "2022-12-15T17:49:27.646527",
     "exception": false,
     "start_time": "2022-12-15T17:49:24.324772",
     "status": "completed"
    },
    "tags": []
   },
   "outputs": [],
   "source": [
    "with open(OUTPUT_DIR_BASE / \"gwas_variant_ids.pkl\", \"rb\") as handle:\n",
    "    gwas_variants_ids_set = pickle.load(handle)"
   ]
  },
  {
   "cell_type": "code",
   "execution_count": 13,
   "id": "b9d9dec2-4a76-4bf9-bde2-e24c95acb8a0",
   "metadata": {
    "execution": {
     "iopub.execute_input": "2022-12-15T17:49:27.667715Z",
     "iopub.status.busy": "2022-12-15T17:49:27.667335Z",
     "iopub.status.idle": "2022-12-15T17:49:27.693072Z",
     "shell.execute_reply": "2022-12-15T17:49:27.692290Z"
    },
    "papermill": {
     "duration": 0.037872,
     "end_time": "2022-12-15T17:49:27.694265",
     "exception": false,
     "start_time": "2022-12-15T17:49:27.656393",
     "status": "completed"
    },
    "tags": []
   },
   "outputs": [
    {
     "data": {
      "text/plain": [
       "8578486"
      ]
     },
     "execution_count": 13,
     "metadata": {},
     "output_type": "execute_result"
    }
   ],
   "source": [
    "len(gwas_variants_ids_set)"
   ]
  },
  {
   "cell_type": "code",
   "execution_count": 14,
   "id": "4235b06a-6034-4ee4-a0a3-2ae35d122418",
   "metadata": {
    "execution": {
     "iopub.execute_input": "2022-12-15T17:49:27.711758Z",
     "iopub.status.busy": "2022-12-15T17:49:27.711437Z",
     "iopub.status.idle": "2022-12-15T17:49:29.191253Z",
     "shell.execute_reply": "2022-12-15T17:49:29.189390Z"
    },
    "papermill": {
     "duration": 1.492259,
     "end_time": "2022-12-15T17:49:29.194436",
     "exception": false,
     "start_time": "2022-12-15T17:49:27.702177",
     "status": "completed"
    },
    "tags": []
   },
   "outputs": [
    {
     "data": {
      "text/plain": [
       "['chr3_144304541_A_G_b38',\n",
       " 'chr8_130851906_G_C_b38',\n",
       " 'chr18_10619999_G_A_b38',\n",
       " 'chr16_14084413_A_G_b38',\n",
       " 'chr1_151861300_G_T_b38']"
      ]
     },
     "execution_count": 14,
     "metadata": {},
     "output_type": "execute_result"
    }
   ],
   "source": [
    "list(gwas_variants_ids_set)[:5]"
   ]
  },
  {
   "cell_type": "markdown",
   "id": "07866999-2305-41f9-a144-e69c9122c212",
   "metadata": {
    "papermill": {
     "duration": 0.012288,
     "end_time": "2022-12-15T17:49:29.219385",
     "exception": false,
     "start_time": "2022-12-15T17:49:29.207097",
     "status": "completed"
    },
    "tags": []
   },
   "source": [
    "## S-PrediXcan tissue models"
   ]
  },
  {
   "cell_type": "code",
   "execution_count": 15,
   "id": "780611d9-77c8-405f-90a4-f271f7b09397",
   "metadata": {
    "execution": {
     "iopub.execute_input": "2022-12-15T17:49:29.254019Z",
     "iopub.status.busy": "2022-12-15T17:49:29.253134Z",
     "iopub.status.idle": "2022-12-15T17:49:30.774313Z",
     "shell.execute_reply": "2022-12-15T17:49:30.773712Z"
    },
    "papermill": {
     "duration": 1.542262,
     "end_time": "2022-12-15T17:49:30.775770",
     "exception": false,
     "start_time": "2022-12-15T17:49:29.233508",
     "status": "completed"
    },
    "tags": []
   },
   "outputs": [],
   "source": [
    "spredixcan_genes_models = pd.read_pickle(OUTPUT_DIR_BASE / \"gene_tissues.pkl\")"
   ]
  },
  {
   "cell_type": "code",
   "execution_count": 16,
   "id": "726dd1f6-9557-4225-91fa-b3b879ea96e1",
   "metadata": {
    "execution": {
     "iopub.execute_input": "2022-12-15T17:49:30.791238Z",
     "iopub.status.busy": "2022-12-15T17:49:30.790979Z",
     "iopub.status.idle": "2022-12-15T17:49:30.806300Z",
     "shell.execute_reply": "2022-12-15T17:49:30.805835Z"
    },
    "papermill": {
     "duration": 0.024161,
     "end_time": "2022-12-15T17:49:30.807306",
     "exception": false,
     "start_time": "2022-12-15T17:49:30.783145",
     "status": "completed"
    },
    "tags": []
   },
   "outputs": [
    {
     "data": {
      "text/plain": [
       "(6443, 5)"
      ]
     },
     "execution_count": 16,
     "metadata": {},
     "output_type": "execute_result"
    }
   ],
   "source": [
    "spredixcan_genes_models.shape"
   ]
  },
  {
   "cell_type": "code",
   "execution_count": 17,
   "id": "944a1b48-222c-4eb0-b252-b9de2cbca215",
   "metadata": {
    "execution": {
     "iopub.execute_input": "2022-12-15T17:49:30.822620Z",
     "iopub.status.busy": "2022-12-15T17:49:30.821986Z",
     "iopub.status.idle": "2022-12-15T17:49:30.848585Z",
     "shell.execute_reply": "2022-12-15T17:49:30.848159Z"
    },
    "papermill": {
     "duration": 0.035335,
     "end_time": "2022-12-15T17:49:30.849590",
     "exception": false,
     "start_time": "2022-12-15T17:49:30.814255",
     "status": "completed"
    },
    "tags": []
   },
   "outputs": [
    {
     "data": {
      "text/html": [
       "<div>\n",
       "<style scoped>\n",
       "    .dataframe tbody tr th:only-of-type {\n",
       "        vertical-align: middle;\n",
       "    }\n",
       "\n",
       "    .dataframe tbody tr th {\n",
       "        vertical-align: top;\n",
       "    }\n",
       "\n",
       "    .dataframe thead th {\n",
       "        text-align: right;\n",
       "    }\n",
       "</style>\n",
       "<table border=\"1\" class=\"dataframe\">\n",
       "  <thead>\n",
       "    <tr style=\"text-align: right;\">\n",
       "      <th></th>\n",
       "      <th>gene_name</th>\n",
       "      <th>tissue</th>\n",
       "      <th>n_tissues</th>\n",
       "      <th>n_snps_used_sum</th>\n",
       "      <th>n_snps_in_model_sum</th>\n",
       "    </tr>\n",
       "    <tr>\n",
       "      <th>gene_id</th>\n",
       "      <th></th>\n",
       "      <th></th>\n",
       "      <th></th>\n",
       "      <th></th>\n",
       "      <th></th>\n",
       "    </tr>\n",
       "  </thead>\n",
       "  <tbody>\n",
       "    <tr>\n",
       "      <th>ENSG00000000419</th>\n",
       "      <td>DPM1</td>\n",
       "      <td>(Brain_Hypothalamus, Brain_Substantia_nigra)</td>\n",
       "      <td>2</td>\n",
       "      <td>2</td>\n",
       "      <td>2</td>\n",
       "    </tr>\n",
       "    <tr>\n",
       "      <th>ENSG00000000938</th>\n",
       "      <td>FGR</td>\n",
       "      <td>(Esophagus_Muscularis, Colon_Sigmoid, Brain_Co...</td>\n",
       "      <td>36</td>\n",
       "      <td>40</td>\n",
       "      <td>40</td>\n",
       "    </tr>\n",
       "    <tr>\n",
       "      <th>ENSG00000000971</th>\n",
       "      <td>CFH</td>\n",
       "      <td>(Brain_Substantia_nigra, Esophagus_Muscularis,...</td>\n",
       "      <td>34</td>\n",
       "      <td>44</td>\n",
       "      <td>44</td>\n",
       "    </tr>\n",
       "    <tr>\n",
       "      <th>ENSG00000001084</th>\n",
       "      <td>GCLC</td>\n",
       "      <td>(Brain_Substantia_nigra, Adrenal_Gland, Brain_...</td>\n",
       "      <td>32</td>\n",
       "      <td>46</td>\n",
       "      <td>46</td>\n",
       "    </tr>\n",
       "    <tr>\n",
       "      <th>ENSG00000001167</th>\n",
       "      <td>NFYA</td>\n",
       "      <td>(Esophagus_Muscularis, Adrenal_Gland, Colon_Si...</td>\n",
       "      <td>40</td>\n",
       "      <td>47</td>\n",
       "      <td>48</td>\n",
       "    </tr>\n",
       "  </tbody>\n",
       "</table>\n",
       "</div>"
      ],
      "text/plain": [
       "                gene_name                                             tissue  \\\n",
       "gene_id                                                                        \n",
       "ENSG00000000419      DPM1       (Brain_Hypothalamus, Brain_Substantia_nigra)   \n",
       "ENSG00000000938       FGR  (Esophagus_Muscularis, Colon_Sigmoid, Brain_Co...   \n",
       "ENSG00000000971       CFH  (Brain_Substantia_nigra, Esophagus_Muscularis,...   \n",
       "ENSG00000001084      GCLC  (Brain_Substantia_nigra, Adrenal_Gland, Brain_...   \n",
       "ENSG00000001167      NFYA  (Esophagus_Muscularis, Adrenal_Gland, Colon_Si...   \n",
       "\n",
       "                 n_tissues  n_snps_used_sum  n_snps_in_model_sum  \n",
       "gene_id                                                           \n",
       "ENSG00000000419          2                2                    2  \n",
       "ENSG00000000938         36               40                   40  \n",
       "ENSG00000000971         34               44                   44  \n",
       "ENSG00000001084         32               46                   46  \n",
       "ENSG00000001167         40               47                   48  "
      ]
     },
     "execution_count": 17,
     "metadata": {},
     "output_type": "execute_result"
    }
   ],
   "source": [
    "spredixcan_genes_models.head()"
   ]
  },
  {
   "cell_type": "code",
   "execution_count": 18,
   "id": "d1c11bb1-be0b-4f40-b360-633d6827109f",
   "metadata": {
    "execution": {
     "iopub.execute_input": "2022-12-15T17:49:30.865236Z",
     "iopub.status.busy": "2022-12-15T17:49:30.864907Z",
     "iopub.status.idle": "2022-12-15T17:49:30.886795Z",
     "shell.execute_reply": "2022-12-15T17:49:30.886376Z"
    },
    "papermill": {
     "duration": 0.03113,
     "end_time": "2022-12-15T17:49:30.888087",
     "exception": false,
     "start_time": "2022-12-15T17:49:30.856957",
     "status": "completed"
    },
    "tags": []
   },
   "outputs": [],
   "source": [
    "assert spredixcan_genes_models.index.is_unique"
   ]
  },
  {
   "cell_type": "markdown",
   "id": "a5b5092c-a13e-47c4-a92a-480fcc08f3ae",
   "metadata": {
    "papermill": {
     "duration": 0.007352,
     "end_time": "2022-12-15T17:49:30.902586",
     "exception": false,
     "start_time": "2022-12-15T17:49:30.895234",
     "status": "completed"
    },
    "tags": []
   },
   "source": [
    "## Gene info"
   ]
  },
  {
   "cell_type": "code",
   "execution_count": 19,
   "id": "7d6bb224-88e9-4358-ac10-43a41d92cdad",
   "metadata": {
    "execution": {
     "iopub.execute_input": "2022-12-15T17:49:30.916796Z",
     "iopub.status.busy": "2022-12-15T17:49:30.916474Z",
     "iopub.status.idle": "2022-12-15T17:49:30.944493Z",
     "shell.execute_reply": "2022-12-15T17:49:30.943812Z"
    },
    "papermill": {
     "duration": 0.035587,
     "end_time": "2022-12-15T17:49:30.945988",
     "exception": false,
     "start_time": "2022-12-15T17:49:30.910401",
     "status": "completed"
    },
    "tags": []
   },
   "outputs": [],
   "source": [
    "genes_info = pd.read_pickle(OUTPUT_DIR_BASE / \"genes_info.pkl\")"
   ]
  },
  {
   "cell_type": "code",
   "execution_count": 20,
   "id": "9e32abfa-546d-483e-8c18-d526e9e05903",
   "metadata": {
    "execution": {
     "iopub.execute_input": "2022-12-15T17:49:30.959394Z",
     "iopub.status.busy": "2022-12-15T17:49:30.958781Z",
     "iopub.status.idle": "2022-12-15T17:49:30.991140Z",
     "shell.execute_reply": "2022-12-15T17:49:30.990626Z"
    },
    "papermill": {
     "duration": 0.040671,
     "end_time": "2022-12-15T17:49:30.992972",
     "exception": false,
     "start_time": "2022-12-15T17:49:30.952301",
     "status": "completed"
    },
    "tags": []
   },
   "outputs": [
    {
     "data": {
      "text/plain": [
       "(6443, 7)"
      ]
     },
     "execution_count": 20,
     "metadata": {},
     "output_type": "execute_result"
    }
   ],
   "source": [
    "genes_info.shape"
   ]
  },
  {
   "cell_type": "code",
   "execution_count": 21,
   "id": "d16c3e92-85ec-468a-9a56-e25a9774a1cb",
   "metadata": {
    "execution": {
     "iopub.execute_input": "2022-12-15T17:49:31.018949Z",
     "iopub.status.busy": "2022-12-15T17:49:31.018676Z",
     "iopub.status.idle": "2022-12-15T17:49:31.045089Z",
     "shell.execute_reply": "2022-12-15T17:49:31.044726Z"
    },
    "papermill": {
     "duration": 0.03438,
     "end_time": "2022-12-15T17:49:31.045914",
     "exception": false,
     "start_time": "2022-12-15T17:49:31.011534",
     "status": "completed"
    },
    "tags": []
   },
   "outputs": [
    {
     "data": {
      "text/html": [
       "<div>\n",
       "<style scoped>\n",
       "    .dataframe tbody tr th:only-of-type {\n",
       "        vertical-align: middle;\n",
       "    }\n",
       "\n",
       "    .dataframe tbody tr th {\n",
       "        vertical-align: top;\n",
       "    }\n",
       "\n",
       "    .dataframe thead th {\n",
       "        text-align: right;\n",
       "    }\n",
       "</style>\n",
       "<table border=\"1\" class=\"dataframe\">\n",
       "  <thead>\n",
       "    <tr style=\"text-align: right;\">\n",
       "      <th></th>\n",
       "      <th>name</th>\n",
       "      <th>id</th>\n",
       "      <th>chr</th>\n",
       "      <th>band</th>\n",
       "      <th>start_position</th>\n",
       "      <th>end_position</th>\n",
       "      <th>gene_length</th>\n",
       "    </tr>\n",
       "  </thead>\n",
       "  <tbody>\n",
       "    <tr>\n",
       "      <th>0</th>\n",
       "      <td>PSMB9</td>\n",
       "      <td>ENSG00000240065</td>\n",
       "      <td>6</td>\n",
       "      <td>6p21.32</td>\n",
       "      <td>32844136</td>\n",
       "      <td>32859851</td>\n",
       "      <td>15715</td>\n",
       "    </tr>\n",
       "    <tr>\n",
       "      <th>1</th>\n",
       "      <td>EEF1D</td>\n",
       "      <td>ENSG00000104529</td>\n",
       "      <td>8</td>\n",
       "      <td>8q24.3</td>\n",
       "      <td>143579697</td>\n",
       "      <td>143599541</td>\n",
       "      <td>19844</td>\n",
       "    </tr>\n",
       "    <tr>\n",
       "      <th>2</th>\n",
       "      <td>NFKBIL1</td>\n",
       "      <td>ENSG00000204498</td>\n",
       "      <td>6</td>\n",
       "      <td>6p21.33</td>\n",
       "      <td>31546870</td>\n",
       "      <td>31558829</td>\n",
       "      <td>11959</td>\n",
       "    </tr>\n",
       "    <tr>\n",
       "      <th>3</th>\n",
       "      <td>SGSH</td>\n",
       "      <td>ENSG00000181523</td>\n",
       "      <td>17</td>\n",
       "      <td>17q25.3</td>\n",
       "      <td>80206716</td>\n",
       "      <td>80220923</td>\n",
       "      <td>14207</td>\n",
       "    </tr>\n",
       "    <tr>\n",
       "      <th>4</th>\n",
       "      <td>KLF6</td>\n",
       "      <td>ENSG00000067082</td>\n",
       "      <td>10</td>\n",
       "      <td>10p15.2</td>\n",
       "      <td>3775996</td>\n",
       "      <td>3785281</td>\n",
       "      <td>9285</td>\n",
       "    </tr>\n",
       "  </tbody>\n",
       "</table>\n",
       "</div>"
      ],
      "text/plain": [
       "      name               id  chr     band  start_position  end_position  \\\n",
       "0    PSMB9  ENSG00000240065    6  6p21.32        32844136      32859851   \n",
       "1    EEF1D  ENSG00000104529    8   8q24.3       143579697     143599541   \n",
       "2  NFKBIL1  ENSG00000204498    6  6p21.33        31546870      31558829   \n",
       "3     SGSH  ENSG00000181523   17  17q25.3        80206716      80220923   \n",
       "4     KLF6  ENSG00000067082   10  10p15.2         3775996       3785281   \n",
       "\n",
       "   gene_length  \n",
       "0        15715  \n",
       "1        19844  \n",
       "2        11959  \n",
       "3        14207  \n",
       "4         9285  "
      ]
     },
     "execution_count": 21,
     "metadata": {},
     "output_type": "execute_result"
    }
   ],
   "source": [
    "genes_info.head()"
   ]
  },
  {
   "cell_type": "markdown",
   "id": "d3843e06",
   "metadata": {
    "papermill": {
     "duration": 0.005447,
     "end_time": "2022-12-15T17:49:31.056987",
     "exception": false,
     "start_time": "2022-12-15T17:49:31.051540",
     "status": "completed"
    },
    "tags": []
   },
   "source": [
    "# Compute correlations"
   ]
  },
  {
   "cell_type": "code",
   "execution_count": 22,
   "id": "cb859c15-d1f3-4006-a74c-2b83c0db9611",
   "metadata": {
    "execution": {
     "iopub.execute_input": "2022-12-15T17:49:31.075182Z",
     "iopub.status.busy": "2022-12-15T17:49:31.074931Z",
     "iopub.status.idle": "2022-12-15T17:49:31.098301Z",
     "shell.execute_reply": "2022-12-15T17:49:31.097938Z"
    },
    "papermill": {
     "duration": 0.034486,
     "end_time": "2022-12-15T17:49:31.099158",
     "exception": false,
     "start_time": "2022-12-15T17:49:31.064672",
     "status": "completed"
    },
    "tags": []
   },
   "outputs": [
    {
     "data": {
      "text/plain": [
       "PosixPath('/opt/data/projects/asthma-copd/results/gls_phenoplier/gene_corrs/asthma_only/by_chr/gene_corrs-chr17.pkl')"
      ]
     },
     "metadata": {},
     "output_type": "display_data"
    }
   ],
   "source": [
    "output_dir = OUTPUT_DIR_BASE / \"by_chr\"\n",
    "output_dir.mkdir(exist_ok=True, parents=True)\n",
    "output_file = output_dir / f\"gene_corrs-chr{CHROMOSOME}.pkl\"\n",
    "display(output_file)"
   ]
  },
  {
   "cell_type": "code",
   "execution_count": 23,
   "id": "aa674fe4-6794-4eed-98fa-32b39d1d4ace",
   "metadata": {
    "execution": {
     "iopub.execute_input": "2022-12-15T17:49:31.111122Z",
     "iopub.status.busy": "2022-12-15T17:49:31.110953Z",
     "iopub.status.idle": "2022-12-15T17:49:31.127008Z",
     "shell.execute_reply": "2022-12-15T17:49:31.126600Z"
    },
    "papermill": {
     "duration": 0.023572,
     "end_time": "2022-12-15T17:49:31.128381",
     "exception": false,
     "start_time": "2022-12-15T17:49:31.104809",
     "status": "completed"
    },
    "tags": []
   },
   "outputs": [],
   "source": [
    "warnings.filterwarnings(\"error\")"
   ]
  },
  {
   "cell_type": "code",
   "execution_count": 24,
   "id": "44d5450b-3baf-43f1-9e2e-4b06f1a785f8",
   "metadata": {
    "execution": {
     "iopub.execute_input": "2022-12-15T17:49:31.150848Z",
     "iopub.status.busy": "2022-12-15T17:49:31.150148Z",
     "iopub.status.idle": "2022-12-15T17:49:31.182564Z",
     "shell.execute_reply": "2022-12-15T17:49:31.182001Z"
    },
    "papermill": {
     "duration": 0.045989,
     "end_time": "2022-12-15T17:49:31.184344",
     "exception": false,
     "start_time": "2022-12-15T17:49:31.138355",
     "status": "completed"
    },
    "tags": []
   },
   "outputs": [],
   "source": [
    "# standard checks\n",
    "all_chrs = genes_info[\"chr\"].dropna().unique()\n",
    "assert all_chrs.shape[0] == 22\n",
    "\n",
    "# select chromosome given by the user\n",
    "assert CHROMOSOME in all_chrs"
   ]
  },
  {
   "cell_type": "code",
   "execution_count": 25,
   "id": "2d7c043c-92a7-4d35-991b-fa69ac1e0268",
   "metadata": {
    "execution": {
     "iopub.execute_input": "2022-12-15T17:49:31.208626Z",
     "iopub.status.busy": "2022-12-15T17:49:31.208362Z",
     "iopub.status.idle": "2022-12-15T17:49:31.229653Z",
     "shell.execute_reply": "2022-12-15T17:49:31.229274Z"
    },
    "papermill": {
     "duration": 0.03518,
     "end_time": "2022-12-15T17:49:31.231066",
     "exception": false,
     "start_time": "2022-12-15T17:49:31.195886",
     "status": "completed"
    },
    "tags": []
   },
   "outputs": [
    {
     "name": "stdout",
     "output_type": "stream",
     "text": [
      "Number of genes in chromosome: 410\n"
     ]
    }
   ],
   "source": [
    "# run only on the chromosome specified\n",
    "all_chrs = [CHROMOSOME]\n",
    "genes_chr = genes_info[genes_info[\"chr\"] == CHROMOSOME]\n",
    "\n",
    "# For testing purposes\n",
    "# genes_chr = genes_chr.sample(n=20)\n",
    "\n",
    "print(f\"Number of genes in chromosome: {genes_chr.shape[0]}\", flush=True)"
   ]
  },
  {
   "cell_type": "code",
   "execution_count": 26,
   "id": "916015d8-2979-46d3-a9b9-1cf5a0932c6a",
   "metadata": {
    "execution": {
     "iopub.execute_input": "2022-12-15T17:49:31.255348Z",
     "iopub.status.busy": "2022-12-15T17:49:31.254931Z",
     "iopub.status.idle": "2022-12-15T17:49:31.283390Z",
     "shell.execute_reply": "2022-12-15T17:49:31.282836Z"
    },
    "papermill": {
     "duration": 0.042323,
     "end_time": "2022-12-15T17:49:31.284614",
     "exception": false,
     "start_time": "2022-12-15T17:49:31.242291",
     "status": "completed"
    },
    "tags": []
   },
   "outputs": [],
   "source": [
    "# sort genes by starting position to make visualizations better later\n",
    "genes_chr = genes_chr.sort_values(\"start_position\")"
   ]
  },
  {
   "cell_type": "code",
   "execution_count": 27,
   "id": "a38aa74a-8ad3-47f6-8ef9-56be0e011774",
   "metadata": {
    "execution": {
     "iopub.execute_input": "2022-12-15T17:49:31.296983Z",
     "iopub.status.busy": "2022-12-15T17:49:31.296724Z",
     "iopub.status.idle": "2022-12-15T17:49:31.316141Z",
     "shell.execute_reply": "2022-12-15T17:49:31.315695Z"
    },
    "papermill": {
     "duration": 0.026787,
     "end_time": "2022-12-15T17:49:31.317319",
     "exception": false,
     "start_time": "2022-12-15T17:49:31.290532",
     "status": "completed"
    },
    "tags": []
   },
   "outputs": [],
   "source": [
    "gene_chr_objs = [Gene(ensembl_id=gene_id) for gene_id in genes_chr[\"id\"]]"
   ]
  },
  {
   "cell_type": "code",
   "execution_count": 28,
   "id": "570f974f-13c3-42b6-ad3a-ce99ca885c1a",
   "metadata": {
    "execution": {
     "iopub.execute_input": "2022-12-15T17:49:31.331003Z",
     "iopub.status.busy": "2022-12-15T17:49:31.330577Z",
     "iopub.status.idle": "2022-12-15T17:49:31.353528Z",
     "shell.execute_reply": "2022-12-15T17:49:31.353020Z"
    },
    "papermill": {
     "duration": 0.030946,
     "end_time": "2022-12-15T17:49:31.354817",
     "exception": false,
     "start_time": "2022-12-15T17:49:31.323871",
     "status": "completed"
    },
    "tags": []
   },
   "outputs": [
    {
     "name": "stdout",
     "output_type": "stream",
     "text": [
      "Number of gene combinations: 84255\n"
     ]
    }
   ],
   "source": [
    "n = len(gene_chr_objs)\n",
    "# diagonal elements + upper triangular matrix\n",
    "n_comb = n + int(n * (n - 1) / 2.0)\n",
    "print(f\"Number of gene combinations: {n_comb}\", flush=True)"
   ]
  },
  {
   "cell_type": "code",
   "execution_count": 29,
   "id": "cdbb90a1",
   "metadata": {
    "execution": {
     "iopub.execute_input": "2022-12-15T17:49:31.372630Z",
     "iopub.status.busy": "2022-12-15T17:49:31.372329Z",
     "iopub.status.idle": "2022-12-15T18:01:06.732031Z",
     "shell.execute_reply": "2022-12-15T18:01:06.731573Z"
    },
    "papermill": {
     "duration": 695.368375,
     "end_time": "2022-12-15T18:01:06.733303",
     "exception": false,
     "start_time": "2022-12-15T17:49:31.364928",
     "status": "completed"
    },
    "tags": []
   },
   "outputs": [
    {
     "name": "stderr",
     "output_type": "stream",
     "text": [
      "ENSG00000175711 / ENSG00000175711: 100%|█████████████████████| 84255/84255 [11:35<00:00, 121.18it/s]\n"
     ]
    },
    {
     "data": {
      "text/plain": [
       "PosixPath('/opt/data/projects/asthma-copd/results/gls_phenoplier/gene_corrs/asthma_only/by_chr/gene_corrs-chr17.pkl')"
      ]
     },
     "metadata": {},
     "output_type": "display_data"
    }
   ],
   "source": [
    "gene_corrs = []\n",
    "gene_corrs_data = np.full(\n",
    "    (n, n),\n",
    "    np.nan,\n",
    "    dtype=np.float64,\n",
    ")\n",
    "\n",
    "i = 0\n",
    "with tqdm(ncols=100, total=n_comb) as pbar:\n",
    "    for gene1_idx in range(0, len(gene_chr_objs)):\n",
    "        gene1_obj = gene_chr_objs[gene1_idx]\n",
    "        gene1_tissues = spredixcan_genes_models.loc[gene1_obj.ensembl_id, \"tissue\"]\n",
    "\n",
    "        for gene2_idx in range(gene1_idx, len(gene_chr_objs)):\n",
    "            gene2_obj = gene_chr_objs[gene2_idx]\n",
    "            gene2_tissues = spredixcan_genes_models.loc[gene2_obj.ensembl_id, \"tissue\"]\n",
    "\n",
    "            pbar.set_description(f\"{gene1_obj.ensembl_id} / {gene2_obj.ensembl_id}\")\n",
    "\n",
    "            try:\n",
    "                r = gene1_obj.get_ssm_correlation(\n",
    "                    other_gene=gene2_obj,\n",
    "                    tissues=gene1_tissues,\n",
    "                    other_tissues=gene2_tissues,\n",
    "                    snps_subset=gwas_variants_ids_set,\n",
    "                    condition_number=SMULTIXCAN_CONDITION_NUMBER,\n",
    "                    reference_panel=REFERENCE_PANEL,\n",
    "                    model_type=EQTL_MODEL,\n",
    "                    use_within_distance=COMPUTE_CORRELATIONS_WITHIN_DISTANCE,\n",
    "                )\n",
    "\n",
    "                if r is None:\n",
    "                    # if r is None, it's very likely because:\n",
    "                    #  * one of the genes has no prediction models\n",
    "                    #  * all the SNPs predictors for the gene are not present in the reference\n",
    "                    #    panel\n",
    "\n",
    "                    r = 0.0\n",
    "\n",
    "                gene_corrs.append(r)\n",
    "\n",
    "                gene_corrs_data[gene1_idx, gene2_idx] = r\n",
    "                gene_corrs_data[gene2_idx, gene1_idx] = r\n",
    "            except Warning as e:\n",
    "                if not DEBUG_MODE:\n",
    "                    raise e\n",
    "\n",
    "                print(\n",
    "                    f\"RuntimeWarning for genes {gene1_obj.ensembl_id} and {gene2_obj.ensembl_id}\",\n",
    "                    flush=True,\n",
    "                )\n",
    "                print(traceback.format_exc(), flush=True)\n",
    "\n",
    "                gene_corrs.append(np.nan)\n",
    "            except Exception as e:\n",
    "                if not DEBUG_MODE:\n",
    "                    raise e\n",
    "\n",
    "                print(\n",
    "                    f\"Exception for genes {gene1_obj.ensembl_id} and {gene2_obj.ensembl_id}\",\n",
    "                    flush=True,\n",
    "                )\n",
    "                print(traceback.format_exc(), flush=True)\n",
    "\n",
    "                gene_corrs.append(np.nan)\n",
    "\n",
    "            pbar.update(1)\n",
    "\n",
    "# create a pandas series\n",
    "gene_corrs_flat = pd.Series(gene_corrs)\n",
    "\n",
    "# save\n",
    "# FIXME: consider saving only the condenced matrix here. See here for\n",
    "# more details: https://github.com/greenelab/phenoplier/pull/38#discussion_r634600813\n",
    "# gene_corrs_data = squareform(np.array(gene_corrs, dtype=np.float64))\n",
    "# np.fill_diagonal(gene_corrs_data, 1.0)\n",
    "\n",
    "gene_chr_ids = [g.ensembl_id for g in gene_chr_objs]\n",
    "gene_corrs_df = pd.DataFrame(\n",
    "    data=gene_corrs_data,\n",
    "    index=gene_chr_ids,\n",
    "    columns=gene_chr_ids,\n",
    ")\n",
    "\n",
    "output_dir.mkdir(exist_ok=True, parents=True)\n",
    "display(output_file)\n",
    "\n",
    "gene_corrs_df.to_pickle(output_file)"
   ]
  },
  {
   "cell_type": "markdown",
   "id": "faa67b51-5373-470f-aa72-2ded53fa6dfe",
   "metadata": {
    "papermill": {
     "duration": 2.884894,
     "end_time": "2022-12-15T18:01:12.556281",
     "exception": false,
     "start_time": "2022-12-15T18:01:09.671387",
     "status": "completed"
    },
    "tags": []
   },
   "source": [
    "# Testing"
   ]
  },
  {
   "cell_type": "code",
   "execution_count": 30,
   "id": "14f7d046-4b55-4896-a56b-990127bcc388",
   "metadata": {
    "execution": {
     "iopub.execute_input": "2022-12-15T18:01:18.325570Z",
     "iopub.status.busy": "2022-12-15T18:01:18.325168Z",
     "iopub.status.idle": "2022-12-15T18:01:18.348246Z",
     "shell.execute_reply": "2022-12-15T18:01:18.347688Z"
    },
    "papermill": {
     "duration": 2.988336,
     "end_time": "2022-12-15T18:01:18.349486",
     "exception": false,
     "start_time": "2022-12-15T18:01:15.361150",
     "status": "completed"
    },
    "tags": []
   },
   "outputs": [
    {
     "data": {
      "text/plain": [
       "(410, 410)"
      ]
     },
     "execution_count": 30,
     "metadata": {},
     "output_type": "execute_result"
    }
   ],
   "source": [
    "gene_corrs_df.shape"
   ]
  },
  {
   "cell_type": "code",
   "execution_count": 31,
   "id": "c7d15414-3297-4537-a7c6-7588c0baeb75",
   "metadata": {
    "execution": {
     "iopub.execute_input": "2022-12-15T18:01:24.586328Z",
     "iopub.status.busy": "2022-12-15T18:01:24.585734Z",
     "iopub.status.idle": "2022-12-15T18:01:24.618125Z",
     "shell.execute_reply": "2022-12-15T18:01:24.617586Z"
    },
    "papermill": {
     "duration": 2.925292,
     "end_time": "2022-12-15T18:01:24.619086",
     "exception": false,
     "start_time": "2022-12-15T18:01:21.693794",
     "status": "completed"
    },
    "tags": []
   },
   "outputs": [
    {
     "data": {
      "text/html": [
       "<div>\n",
       "<style scoped>\n",
       "    .dataframe tbody tr th:only-of-type {\n",
       "        vertical-align: middle;\n",
       "    }\n",
       "\n",
       "    .dataframe tbody tr th {\n",
       "        vertical-align: top;\n",
       "    }\n",
       "\n",
       "    .dataframe thead th {\n",
       "        text-align: right;\n",
       "    }\n",
       "</style>\n",
       "<table border=\"1\" class=\"dataframe\">\n",
       "  <thead>\n",
       "    <tr style=\"text-align: right;\">\n",
       "      <th></th>\n",
       "      <th>ENSG00000141252</th>\n",
       "      <th>ENSG00000179409</th>\n",
       "      <th>ENSG00000177370</th>\n",
       "      <th>ENSG00000159842</th>\n",
       "      <th>ENSG00000108953</th>\n",
       "      <th>ENSG00000167193</th>\n",
       "      <th>ENSG00000132376</th>\n",
       "      <th>ENSG00000174238</th>\n",
       "      <th>ENSG00000167703</th>\n",
       "      <th>ENSG00000074660</th>\n",
       "      <th>...</th>\n",
       "      <th>ENSG00000169733</th>\n",
       "      <th>ENSG00000169710</th>\n",
       "      <th>ENSG00000141526</th>\n",
       "      <th>ENSG00000141551</th>\n",
       "      <th>ENSG00000173762</th>\n",
       "      <th>ENSG00000141574</th>\n",
       "      <th>ENSG00000141562</th>\n",
       "      <th>ENSG00000141542</th>\n",
       "      <th>ENSG00000141556</th>\n",
       "      <th>ENSG00000175711</th>\n",
       "    </tr>\n",
       "  </thead>\n",
       "  <tbody>\n",
       "    <tr>\n",
       "      <th>ENSG00000141252</th>\n",
       "      <td>1.000000</td>\n",
       "      <td>0.366593</td>\n",
       "      <td>0.009199</td>\n",
       "      <td>0.008510</td>\n",
       "      <td>0.006988</td>\n",
       "      <td>0.003772</td>\n",
       "      <td>0.005305</td>\n",
       "      <td>0.003306</td>\n",
       "      <td>0.011344</td>\n",
       "      <td>0.005720</td>\n",
       "      <td>...</td>\n",
       "      <td>0.0</td>\n",
       "      <td>0.0</td>\n",
       "      <td>0.0</td>\n",
       "      <td>0.0</td>\n",
       "      <td>0.0</td>\n",
       "      <td>0.0</td>\n",
       "      <td>0.0</td>\n",
       "      <td>0.0</td>\n",
       "      <td>0.0</td>\n",
       "      <td>0.0</td>\n",
       "    </tr>\n",
       "    <tr>\n",
       "      <th>ENSG00000179409</th>\n",
       "      <td>0.366593</td>\n",
       "      <td>1.000000</td>\n",
       "      <td>0.007981</td>\n",
       "      <td>0.016424</td>\n",
       "      <td>0.009880</td>\n",
       "      <td>0.005939</td>\n",
       "      <td>0.009246</td>\n",
       "      <td>0.011575</td>\n",
       "      <td>0.013349</td>\n",
       "      <td>0.007921</td>\n",
       "      <td>...</td>\n",
       "      <td>0.0</td>\n",
       "      <td>0.0</td>\n",
       "      <td>0.0</td>\n",
       "      <td>0.0</td>\n",
       "      <td>0.0</td>\n",
       "      <td>0.0</td>\n",
       "      <td>0.0</td>\n",
       "      <td>0.0</td>\n",
       "      <td>0.0</td>\n",
       "      <td>0.0</td>\n",
       "    </tr>\n",
       "    <tr>\n",
       "      <th>ENSG00000177370</th>\n",
       "      <td>0.009199</td>\n",
       "      <td>0.007981</td>\n",
       "      <td>1.000000</td>\n",
       "      <td>0.021239</td>\n",
       "      <td>0.008112</td>\n",
       "      <td>0.007595</td>\n",
       "      <td>0.002450</td>\n",
       "      <td>0.003111</td>\n",
       "      <td>0.009910</td>\n",
       "      <td>0.004425</td>\n",
       "      <td>...</td>\n",
       "      <td>0.0</td>\n",
       "      <td>0.0</td>\n",
       "      <td>0.0</td>\n",
       "      <td>0.0</td>\n",
       "      <td>0.0</td>\n",
       "      <td>0.0</td>\n",
       "      <td>0.0</td>\n",
       "      <td>0.0</td>\n",
       "      <td>0.0</td>\n",
       "      <td>0.0</td>\n",
       "    </tr>\n",
       "    <tr>\n",
       "      <th>ENSG00000159842</th>\n",
       "      <td>0.008510</td>\n",
       "      <td>0.016424</td>\n",
       "      <td>0.021239</td>\n",
       "      <td>1.000000</td>\n",
       "      <td>0.015599</td>\n",
       "      <td>0.010144</td>\n",
       "      <td>0.008676</td>\n",
       "      <td>0.016335</td>\n",
       "      <td>0.019629</td>\n",
       "      <td>0.010601</td>\n",
       "      <td>...</td>\n",
       "      <td>0.0</td>\n",
       "      <td>0.0</td>\n",
       "      <td>0.0</td>\n",
       "      <td>0.0</td>\n",
       "      <td>0.0</td>\n",
       "      <td>0.0</td>\n",
       "      <td>0.0</td>\n",
       "      <td>0.0</td>\n",
       "      <td>0.0</td>\n",
       "      <td>0.0</td>\n",
       "    </tr>\n",
       "    <tr>\n",
       "      <th>ENSG00000108953</th>\n",
       "      <td>0.006988</td>\n",
       "      <td>0.009880</td>\n",
       "      <td>0.008112</td>\n",
       "      <td>0.015599</td>\n",
       "      <td>1.000000</td>\n",
       "      <td>0.155160</td>\n",
       "      <td>0.064426</td>\n",
       "      <td>0.019107</td>\n",
       "      <td>0.018311</td>\n",
       "      <td>0.021128</td>\n",
       "      <td>...</td>\n",
       "      <td>0.0</td>\n",
       "      <td>0.0</td>\n",
       "      <td>0.0</td>\n",
       "      <td>0.0</td>\n",
       "      <td>0.0</td>\n",
       "      <td>0.0</td>\n",
       "      <td>0.0</td>\n",
       "      <td>0.0</td>\n",
       "      <td>0.0</td>\n",
       "      <td>0.0</td>\n",
       "    </tr>\n",
       "  </tbody>\n",
       "</table>\n",
       "<p>5 rows × 410 columns</p>\n",
       "</div>"
      ],
      "text/plain": [
       "                 ENSG00000141252  ENSG00000179409  ENSG00000177370  \\\n",
       "ENSG00000141252         1.000000         0.366593         0.009199   \n",
       "ENSG00000179409         0.366593         1.000000         0.007981   \n",
       "ENSG00000177370         0.009199         0.007981         1.000000   \n",
       "ENSG00000159842         0.008510         0.016424         0.021239   \n",
       "ENSG00000108953         0.006988         0.009880         0.008112   \n",
       "\n",
       "                 ENSG00000159842  ENSG00000108953  ENSG00000167193  \\\n",
       "ENSG00000141252         0.008510         0.006988         0.003772   \n",
       "ENSG00000179409         0.016424         0.009880         0.005939   \n",
       "ENSG00000177370         0.021239         0.008112         0.007595   \n",
       "ENSG00000159842         1.000000         0.015599         0.010144   \n",
       "ENSG00000108953         0.015599         1.000000         0.155160   \n",
       "\n",
       "                 ENSG00000132376  ENSG00000174238  ENSG00000167703  \\\n",
       "ENSG00000141252         0.005305         0.003306         0.011344   \n",
       "ENSG00000179409         0.009246         0.011575         0.013349   \n",
       "ENSG00000177370         0.002450         0.003111         0.009910   \n",
       "ENSG00000159842         0.008676         0.016335         0.019629   \n",
       "ENSG00000108953         0.064426         0.019107         0.018311   \n",
       "\n",
       "                 ENSG00000074660  ...  ENSG00000169733  ENSG00000169710  \\\n",
       "ENSG00000141252         0.005720  ...              0.0              0.0   \n",
       "ENSG00000179409         0.007921  ...              0.0              0.0   \n",
       "ENSG00000177370         0.004425  ...              0.0              0.0   \n",
       "ENSG00000159842         0.010601  ...              0.0              0.0   \n",
       "ENSG00000108953         0.021128  ...              0.0              0.0   \n",
       "\n",
       "                 ENSG00000141526  ENSG00000141551  ENSG00000173762  \\\n",
       "ENSG00000141252              0.0              0.0              0.0   \n",
       "ENSG00000179409              0.0              0.0              0.0   \n",
       "ENSG00000177370              0.0              0.0              0.0   \n",
       "ENSG00000159842              0.0              0.0              0.0   \n",
       "ENSG00000108953              0.0              0.0              0.0   \n",
       "\n",
       "                 ENSG00000141574  ENSG00000141562  ENSG00000141542  \\\n",
       "ENSG00000141252              0.0              0.0              0.0   \n",
       "ENSG00000179409              0.0              0.0              0.0   \n",
       "ENSG00000177370              0.0              0.0              0.0   \n",
       "ENSG00000159842              0.0              0.0              0.0   \n",
       "ENSG00000108953              0.0              0.0              0.0   \n",
       "\n",
       "                 ENSG00000141556  ENSG00000175711  \n",
       "ENSG00000141252              0.0              0.0  \n",
       "ENSG00000179409              0.0              0.0  \n",
       "ENSG00000177370              0.0              0.0  \n",
       "ENSG00000159842              0.0              0.0  \n",
       "ENSG00000108953              0.0              0.0  \n",
       "\n",
       "[5 rows x 410 columns]"
      ]
     },
     "execution_count": 31,
     "metadata": {},
     "output_type": "execute_result"
    }
   ],
   "source": [
    "gene_corrs_df.head()"
   ]
  },
  {
   "cell_type": "markdown",
   "id": "dad6603f-01c6-41fb-a6f6-241051207dd8",
   "metadata": {
    "papermill": {
     "duration": 2.775709,
     "end_time": "2022-12-15T18:01:30.697381",
     "exception": false,
     "start_time": "2022-12-15T18:01:27.921672",
     "status": "completed"
    },
    "tags": []
   },
   "source": [
    "## Standard checks and stats"
   ]
  },
  {
   "cell_type": "code",
   "execution_count": 32,
   "id": "286686af-1b7b-4440-8453-6bdcbd8de19c",
   "metadata": {
    "execution": {
     "iopub.execute_input": "2022-12-15T18:01:36.790787Z",
     "iopub.status.busy": "2022-12-15T18:01:36.790552Z",
     "iopub.status.idle": "2022-12-15T18:01:36.806383Z",
     "shell.execute_reply": "2022-12-15T18:01:36.805920Z"
    },
    "papermill": {
     "duration": 2.948061,
     "end_time": "2022-12-15T18:01:36.807387",
     "exception": false,
     "start_time": "2022-12-15T18:01:33.859326",
     "status": "completed"
    },
    "tags": []
   },
   "outputs": [],
   "source": [
    "assert not gene_corrs_df.isna().any(axis=None)"
   ]
  },
  {
   "cell_type": "code",
   "execution_count": 33,
   "id": "00583efc-7068-4270-ad1e-4a418e91db96",
   "metadata": {
    "execution": {
     "iopub.execute_input": "2022-12-15T18:01:42.747535Z",
     "iopub.status.busy": "2022-12-15T18:01:42.747216Z",
     "iopub.status.idle": "2022-12-15T18:01:42.769073Z",
     "shell.execute_reply": "2022-12-15T18:01:42.768509Z"
    },
    "papermill": {
     "duration": 3.082954,
     "end_time": "2022-12-15T18:01:42.770375",
     "exception": false,
     "start_time": "2022-12-15T18:01:39.687421",
     "status": "completed"
    },
    "tags": []
   },
   "outputs": [
    {
     "data": {
      "text/plain": [
       "0.0"
      ]
     },
     "metadata": {},
     "output_type": "display_data"
    }
   ],
   "source": [
    "_min_val = gene_corrs_df.min().min()\n",
    "display(_min_val)\n",
    "assert _min_val >= -0.05"
   ]
  },
  {
   "cell_type": "code",
   "execution_count": 34,
   "id": "d04fb2cf-1050-475b-b855-f5f7cc04092b",
   "metadata": {
    "execution": {
     "iopub.execute_input": "2022-12-15T18:01:48.780083Z",
     "iopub.status.busy": "2022-12-15T18:01:48.779843Z",
     "iopub.status.idle": "2022-12-15T18:01:48.796027Z",
     "shell.execute_reply": "2022-12-15T18:01:48.795582Z"
    },
    "papermill": {
     "duration": 3.07316,
     "end_time": "2022-12-15T18:01:48.797148",
     "exception": false,
     "start_time": "2022-12-15T18:01:45.723988",
     "status": "completed"
    },
    "tags": []
   },
   "outputs": [
    {
     "data": {
      "text/plain": [
       "1.0000000000000033"
      ]
     },
     "metadata": {},
     "output_type": "display_data"
    }
   ],
   "source": [
    "_max_val = gene_corrs_df.max().max()  # this captures the diagonal\n",
    "display(_max_val)\n",
    "assert _max_val <= 1.05"
   ]
  },
  {
   "cell_type": "code",
   "execution_count": 35,
   "id": "fe283586-c348-40e0-8841-f6d97bfb021c",
   "metadata": {
    "execution": {
     "iopub.execute_input": "2022-12-15T18:01:55.005019Z",
     "iopub.status.busy": "2022-12-15T18:01:55.004735Z",
     "iopub.status.idle": "2022-12-15T18:01:55.026884Z",
     "shell.execute_reply": "2022-12-15T18:01:55.026404Z"
    },
    "papermill": {
     "duration": 2.936091,
     "end_time": "2022-12-15T18:01:55.027943",
     "exception": false,
     "start_time": "2022-12-15T18:01:52.091852",
     "status": "completed"
    },
    "tags": []
   },
   "outputs": [
    {
     "data": {
      "text/plain": [
       "count    84255.000000\n",
       "mean         0.008100\n",
       "std          0.075614\n",
       "min          0.000000\n",
       "25%          0.000000\n",
       "50%          0.000000\n",
       "75%          0.000000\n",
       "max          1.000000\n",
       "dtype: float64"
      ]
     },
     "execution_count": 35,
     "metadata": {},
     "output_type": "execute_result"
    }
   ],
   "source": [
    "gene_corrs_flat.describe()"
   ]
  },
  {
   "cell_type": "code",
   "execution_count": 36,
   "id": "b3815678-0f93-4b35-897b-a9d047a2aa78",
   "metadata": {
    "execution": {
     "iopub.execute_input": "2022-12-15T18:02:01.055139Z",
     "iopub.status.busy": "2022-12-15T18:02:01.054871Z",
     "iopub.status.idle": "2022-12-15T18:02:01.080464Z",
     "shell.execute_reply": "2022-12-15T18:02:01.080015Z"
    },
    "papermill": {
     "duration": 2.857978,
     "end_time": "2022-12-15T18:02:01.081404",
     "exception": false,
     "start_time": "2022-12-15T18:01:58.223426",
     "status": "completed"
    },
    "tags": []
   },
   "outputs": [
    {
     "data": {
      "text/plain": [
       "0.00    0.000000\n",
       "0.05    0.000000\n",
       "0.10    0.000000\n",
       "0.15    0.000000\n",
       "0.20    0.000000\n",
       "0.25    0.000000\n",
       "0.30    0.000000\n",
       "0.35    0.000000\n",
       "0.40    0.000000\n",
       "0.45    0.000000\n",
       "0.50    0.000000\n",
       "0.55    0.000000\n",
       "0.60    0.000000\n",
       "0.65    0.000000\n",
       "0.70    0.000000\n",
       "0.75    0.000000\n",
       "0.80    0.000000\n",
       "0.85    0.000000\n",
       "0.90    0.004517\n",
       "0.95    0.008579\n",
       "dtype: float64"
      ]
     },
     "metadata": {},
     "output_type": "display_data"
    }
   ],
   "source": [
    "gene_corrs_quantiles = gene_corrs_flat.quantile(np.arange(0, 1, 0.05))\n",
    "display(gene_corrs_quantiles)"
   ]
  },
  {
   "cell_type": "markdown",
   "id": "87134509-b145-4a10-8bc9-b7e914c2b0fa",
   "metadata": {
    "papermill": {
     "duration": 3.253456,
     "end_time": "2022-12-15T18:02:07.264583",
     "exception": false,
     "start_time": "2022-12-15T18:02:04.011127",
     "status": "completed"
    },
    "tags": []
   },
   "source": [
    "## Positive definiteness"
   ]
  },
  {
   "cell_type": "code",
   "execution_count": 37,
   "id": "07d9a9a1-a4f7-48aa-b916-6d42a8cc6186",
   "metadata": {
    "execution": {
     "iopub.execute_input": "2022-12-15T18:02:13.222640Z",
     "iopub.status.busy": "2022-12-15T18:02:13.222314Z",
     "iopub.status.idle": "2022-12-15T18:02:13.266020Z",
     "shell.execute_reply": "2022-12-15T18:02:13.265524Z"
    },
    "papermill": {
     "duration": 2.959274,
     "end_time": "2022-12-15T18:02:13.267618",
     "exception": false,
     "start_time": "2022-12-15T18:02:10.308344",
     "status": "completed"
    },
    "tags": []
   },
   "outputs": [
    {
     "data": {
      "text/plain": [
       "0"
      ]
     },
     "metadata": {},
     "output_type": "display_data"
    },
    {
     "data": {
      "text/plain": [
       "array([], dtype=float64)"
      ]
     },
     "metadata": {},
     "output_type": "display_data"
    }
   ],
   "source": [
    "# print negative eigenvalues\n",
    "eigs = np.linalg.eigvals(gene_corrs_df.to_numpy())\n",
    "display(len(eigs[eigs < 0]))\n",
    "display(eigs[eigs < 0])"
   ]
  },
  {
   "cell_type": "code",
   "execution_count": 38,
   "id": "6e218436-c3c5-4028-8c94-a4fa6260efce",
   "metadata": {
    "execution": {
     "iopub.execute_input": "2022-12-15T18:02:19.130604Z",
     "iopub.status.busy": "2022-12-15T18:02:19.130205Z",
     "iopub.status.idle": "2022-12-15T18:02:19.155618Z",
     "shell.execute_reply": "2022-12-15T18:02:19.155147Z"
    },
    "papermill": {
     "duration": 3.011261,
     "end_time": "2022-12-15T18:02:19.156780",
     "exception": false,
     "start_time": "2022-12-15T18:02:16.145519",
     "status": "completed"
    },
    "tags": []
   },
   "outputs": [
    {
     "name": "stdout",
     "output_type": "stream",
     "text": [
      "Works!\n"
     ]
    }
   ],
   "source": [
    "try:\n",
    "    chol_mat = np.linalg.cholesky(gene_corrs_df.to_numpy())\n",
    "    cov_inv = np.linalg.inv(chol_mat)\n",
    "    print(\"Works!\")\n",
    "except Exception as e:\n",
    "    print(f\"Cholesky decomposition failed: {str(e)}\")"
   ]
  },
  {
   "cell_type": "code",
   "execution_count": 39,
   "id": "dd8827fb-faf9-4c7c-9454-015e94752706",
   "metadata": {
    "execution": {
     "iopub.execute_input": "2022-12-15T18:02:25.066414Z",
     "iopub.status.busy": "2022-12-15T18:02:25.065896Z",
     "iopub.status.idle": "2022-12-15T18:02:25.104740Z",
     "shell.execute_reply": "2022-12-15T18:02:25.104125Z"
    },
    "papermill": {
     "duration": 3.073951,
     "end_time": "2022-12-15T18:02:25.106071",
     "exception": false,
     "start_time": "2022-12-15T18:02:22.032120",
     "status": "completed"
    },
    "tags": []
   },
   "outputs": [
    {
     "name": "stdout",
     "output_type": "stream",
     "text": [
      "Works!\n"
     ]
    }
   ],
   "source": [
    "try:\n",
    "    # decomposition used by statsmodels.GLS\n",
    "    cholsigmainv = np.linalg.cholesky(np.linalg.inv(gene_corrs_df.to_numpy())).T\n",
    "    print(\"Works!\")\n",
    "except Exception as e:\n",
    "    print(f\"Cholesky decomposition failed (statsmodels.GLS): {str(e)}\")"
   ]
  },
  {
   "cell_type": "markdown",
   "id": "8e60a080-edb2-4e9c-b2ef-22961693200c",
   "metadata": {
    "papermill": {
     "duration": 4.030838,
     "end_time": "2022-12-15T18:02:32.475805",
     "exception": false,
     "start_time": "2022-12-15T18:02:28.444967",
     "status": "completed"
    },
    "tags": []
   },
   "source": [
    "## Plot: distribution"
   ]
  },
  {
   "cell_type": "code",
   "execution_count": 40,
   "id": "8301126b-a7d4-4744-9c7d-f0f86eb6f54c",
   "metadata": {
    "execution": {
     "iopub.execute_input": "2022-12-15T18:02:38.573185Z",
     "iopub.status.busy": "2022-12-15T18:02:38.572957Z",
     "iopub.status.idle": "2022-12-15T18:02:39.089988Z",
     "shell.execute_reply": "2022-12-15T18:02:39.089598Z"
    },
    "papermill": {
     "duration": 3.522546,
     "end_time": "2022-12-15T18:02:39.091368",
     "exception": false,
     "start_time": "2022-12-15T18:02:35.568822",
     "status": "completed"
    },
    "tags": []
   },
   "outputs": [
    {
     "data": {
      "image/png": "[encoded data removed]",
      "text/plain": [
       "<Figure size 700x700 with 1 Axes>"
      ]
     },
     "metadata": {},
     "output_type": "display_data"
    }
   ],
   "source": [
    "with sns.plotting_context(\"paper\", font_scale=1.5):\n",
    "    g = sns.displot(gene_corrs_flat, kde=True, height=7)\n",
    "    g.ax.set_title(\n",
    "        f\"Distribution of gene correlation values in chromosome {CHROMOSOME}\"\n",
    "    )"
   ]
  },
  {
   "cell_type": "markdown",
   "id": "cbd52bca-d878-4a2f-b684-5c83aa3038d4",
   "metadata": {
    "papermill": {
     "duration": 2.945085,
     "end_time": "2022-12-15T18:02:45.083592",
     "exception": false,
     "start_time": "2022-12-15T18:02:42.138507",
     "status": "completed"
    },
    "tags": []
   },
   "source": [
    "## Plot: heatmap"
   ]
  },
  {
   "cell_type": "code",
   "execution_count": 41,
   "id": "d03fe63a-c7b2-4fb9-a53c-db362ce843c9",
   "metadata": {
    "execution": {
     "iopub.execute_input": "2022-12-15T18:02:50.856320Z",
     "iopub.status.busy": "2022-12-15T18:02:50.855966Z",
     "iopub.status.idle": "2022-12-15T18:02:50.871801Z",
     "shell.execute_reply": "2022-12-15T18:02:50.871430Z"
    },
    "papermill": {
     "duration": 2.756805,
     "end_time": "2022-12-15T18:02:50.872769",
     "exception": false,
     "start_time": "2022-12-15T18:02:48.115964",
     "status": "completed"
    },
    "tags": []
   },
   "outputs": [
    {
     "data": {
      "text/plain": [
       "'0.0 / 0.05'"
      ]
     },
     "metadata": {},
     "output_type": "display_data"
    }
   ],
   "source": [
    "vmin_val = min(0.00, gene_corrs_quantiles[0.10])\n",
    "vmax_val = max(0.05, gene_corrs_quantiles[0.90])\n",
    "display(f\"{vmin_val} / {vmax_val}\")"
   ]
  },
  {
   "cell_type": "code",
   "execution_count": 42,
   "id": "dc41b70b-5bcc-4d9e-9f33-a22c4a94dab5",
   "metadata": {
    "execution": {
     "iopub.execute_input": "2022-12-15T18:02:57.613773Z",
     "iopub.status.busy": "2022-12-15T18:02:57.613487Z",
     "iopub.status.idle": "2022-12-15T18:02:57.969921Z",
     "shell.execute_reply": "2022-12-15T18:02:57.969447Z"
    },
    "papermill": {
     "duration": 4.149954,
     "end_time": "2022-12-15T18:02:57.970911",
     "exception": false,
     "start_time": "2022-12-15T18:02:53.820957",
     "status": "completed"
    },
    "tags": []
   },
   "outputs": [
    {
     "data": {
      "text/plain": [
       "Text(0.5, 1.0, 'Gene correlations in chromosome 17')"
      ]
     },
     "execution_count": 42,
     "metadata": {},
     "output_type": "execute_result"
    },
    {
     "data": {
      "image/png": "[encoded data removed]",
      "text/plain": [
       "<Figure size 1000x1000 with 2 Axes>"
      ]
     },
     "metadata": {},
     "output_type": "display_data"
    }
   ],
   "source": [
    "f, ax = plt.subplots(figsize=(10, 10))\n",
    "sns.heatmap(\n",
    "    gene_corrs_df,\n",
    "    xticklabels=False,\n",
    "    yticklabels=False,\n",
    "    square=True,\n",
    "    vmin=vmin_val,\n",
    "    vmax=vmax_val,\n",
    "    cmap=\"rocket_r\",\n",
    "    ax=ax,\n",
    ")\n",
    "ax.set_title(f\"Gene correlations in chromosome {CHROMOSOME}\")"
   ]
  },
  {
   "cell_type": "code",
   "execution_count": null,
   "id": "b25e3ead",
   "metadata": {
    "papermill": {
     "duration": 3.105662,
     "end_time": "2022-12-15T18:03:04.208778",
     "exception": false,
     "start_time": "2022-12-15T18:03:01.103116",
     "status": "completed"
    },
    "tags": []
   },
   "outputs": [],
   "source": []
  }
 ],
 "metadata": {
  "jupytext": {
   "cell_metadata_filter": "all,-execution,-papermill,-trusted",
   "formats": "ipynb,py//py:percent"
  },
  "kernelspec": {
   "display_name": "Python 3 (ipykernel)",
   "language": "python",
   "name": "python3"
  },
  "language_info": {
   "codemirror_mode": {
    "name": "ipython",
    "version": 3
   },
   "file_extension": ".py",
   "mimetype": "text/x-python",
   "name": "python",
   "nbconvert_exporter": "python",
   "pygments_lexer": "ipython3",
   "version": "3.10.6"
  },
  "papermill": {
   "default_parameters": {},
   "duration": 828.467079,
   "end_time": "2022-12-15T18:03:10.502645",
   "environment_variables": {},
   "exception": null,
   "input_path": "projects/asthma-copd/nbs/20_gene_corrs/jobs/05-gene_expr_correlations.ipynb",
   "output_path": "projects/asthma-copd/nbs/20_gene_corrs/jobs/../output/asthma_only/05-gene_expr_correlations-chr17.run.ipynb",
   "parameters": {
    "CHROMOSOME": 17,
    "COHORT_NAME": "asthma_only",
    "OUTPUT_DIR_BASE": "/opt/data/projects/asthma-copd/results/gls_phenoplier",
    "PHENOPLIER_NOTEBOOK_FILEPATH": "projects/asthma-copd/nbs/20_gene_corrs/jobs/05-gene_expr_correlations.ipynb"
   },
   "start_time": "2022-12-15T17:49:22.035566",
   "version": "2.2.2"
  }
 },
 "nbformat": 4,
 "nbformat_minor": 5
}
