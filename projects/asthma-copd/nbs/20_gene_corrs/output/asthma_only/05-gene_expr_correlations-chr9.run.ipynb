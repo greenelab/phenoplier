{
 "cells": [
  {
   "cell_type": "markdown",
   "id": "7a6632fb",
   "metadata": {
    "papermill": {
     "duration": 0.008947,
     "end_time": "2022-12-05T16:48:27.575553",
     "exception": false,
     "start_time": "2022-12-05T16:48:27.566606",
     "status": "completed"
    },
    "tags": []
   },
   "source": [
    "# Description"
   ]
  },
  {
   "cell_type": "markdown",
   "id": "7097c346",
   "metadata": {
    "papermill": {
     "duration": 0.008179,
     "end_time": "2022-12-05T16:48:27.591938",
     "exception": false,
     "start_time": "2022-12-05T16:48:27.583759",
     "status": "completed"
    },
    "tags": []
   },
   "source": [
    "(Please, take a look at the README.md file in this directory for instructions on how to run this notebook)\n",
    "\n",
    "This notebook computes predicted expression correlations between all genes in the MultiPLIER models.\n",
    "\n",
    "It has specicfic parameters for papermill (see under `Settings` below).\n",
    "It can be configured to run on a single chromosome to run in parallel.\n",
    "\n",
    "This notebook is not directly run. See README.md."
   ]
  },
  {
   "cell_type": "markdown",
   "id": "c61d8427",
   "metadata": {
    "papermill": {
     "duration": 0.00805,
     "end_time": "2022-12-05T16:48:27.608154",
     "exception": false,
     "start_time": "2022-12-05T16:48:27.600104",
     "status": "completed"
    },
    "tags": []
   },
   "source": [
    "# Modules"
   ]
  },
  {
   "cell_type": "code",
   "execution_count": 1,
   "id": "bbc0234f",
   "metadata": {
    "execution": {
     "iopub.execute_input": "2022-12-05T16:48:27.627292Z",
     "iopub.status.busy": "2022-12-05T16:48:27.626654Z",
     "iopub.status.idle": "2022-12-05T16:48:27.645182Z",
     "shell.execute_reply": "2022-12-05T16:48:27.644601Z"
    },
    "papermill": {
     "duration": 0.029702,
     "end_time": "2022-12-05T16:48:27.646685",
     "exception": false,
     "start_time": "2022-12-05T16:48:27.616983",
     "status": "completed"
    },
    "tags": []
   },
   "outputs": [],
   "source": [
    "%load_ext autoreload\n",
    "%autoreload 2"
   ]
  },
  {
   "cell_type": "code",
   "execution_count": 2,
   "id": "1d5f5a59",
   "metadata": {
    "execution": {
     "iopub.execute_input": "2022-12-05T16:48:27.664530Z",
     "iopub.status.busy": "2022-12-05T16:48:27.664124Z",
     "iopub.status.idle": "2022-12-05T16:48:28.583613Z",
     "shell.execute_reply": "2022-12-05T16:48:28.583106Z"
    },
    "papermill": {
     "duration": 0.931034,
     "end_time": "2022-12-05T16:48:28.585992",
     "exception": false,
     "start_time": "2022-12-05T16:48:27.654958",
     "status": "completed"
    },
    "tags": []
   },
   "outputs": [],
   "source": [
    "from random import sample, seed\n",
    "import warnings\n",
    "from pathlib import Path\n",
    "import pickle\n",
    "import traceback\n",
    "\n",
    "import numpy as np\n",
    "from scipy.spatial.distance import squareform\n",
    "import pandas as pd\n",
    "from tqdm import tqdm\n",
    "import matplotlib.pyplot as plt\n",
    "import seaborn as sns\n",
    "\n",
    "import conf\n",
    "from entity import Gene"
   ]
  },
  {
   "cell_type": "markdown",
   "id": "1eac24b5",
   "metadata": {
    "papermill": {
     "duration": 0.011786,
     "end_time": "2022-12-05T16:48:28.612549",
     "exception": false,
     "start_time": "2022-12-05T16:48:28.600763",
     "status": "completed"
    },
    "tags": []
   },
   "source": [
    "# Settings"
   ]
  },
  {
   "cell_type": "code",
   "execution_count": 3,
   "id": "ca4560ba",
   "metadata": {
    "execution": {
     "iopub.execute_input": "2022-12-05T16:48:28.630257Z",
     "iopub.status.busy": "2022-12-05T16:48:28.629722Z",
     "iopub.status.idle": "2022-12-05T16:48:28.654858Z",
     "shell.execute_reply": "2022-12-05T16:48:28.654303Z"
    },
    "papermill": {
     "duration": 0.035697,
     "end_time": "2022-12-05T16:48:28.656362",
     "exception": false,
     "start_time": "2022-12-05T16:48:28.620665",
     "status": "completed"
    },
    "tags": [
     "parameters"
    ]
   },
   "outputs": [],
   "source": [
    "# a cohort name (it could be something like UK_BIOBANK, etc)\n",
    "COHORT_NAME = None\n",
    "\n",
    "# reference panel such as 1000G or GTEX_V8\n",
    "REFERENCE_PANEL = \"GTEX_V8\"\n",
    "\n",
    "# predictions models such as MASHR or ELASTIC_NET\n",
    "EQTL_MODEL = \"MASHR\"\n",
    "\n",
    "# this is the default value used in S-MultiXcan to select the\n",
    "# top principal components of the expression correlation matrix\n",
    "SMULTIXCAN_CONDITION_NUMBER = 30\n",
    "\n",
    "# specifies a single chromosome value\n",
    "CHROMOSOME = None\n",
    "\n",
    "# If True, computes the correlation between closeby genes only (see\n",
    "# entity.Gene.within_distance for more details). Otherwise, it computes\n",
    "# correlations for all genes in a chromosome\n",
    "COMPUTE_CORRELATIONS_WITHIN_DISTANCE = True\n",
    "\n",
    "# if True, then it will continue if a gene pair correlation fails,\n",
    "# printing the warning/error for debugging. If False, any warning/error\n",
    "# will be thrown\n",
    "DEBUG_MODE = False\n",
    "\n",
    "# output dir\n",
    "OUTPUT_DIR_BASE = None"
   ]
  },
  {
   "cell_type": "code",
   "execution_count": 4,
   "id": "2aa708b1",
   "metadata": {
    "execution": {
     "iopub.execute_input": "2022-12-05T16:48:28.674841Z",
     "iopub.status.busy": "2022-12-05T16:48:28.674323Z",
     "iopub.status.idle": "2022-12-05T16:48:28.699267Z",
     "shell.execute_reply": "2022-12-05T16:48:28.698604Z"
    },
    "papermill": {
     "duration": 0.035463,
     "end_time": "2022-12-05T16:48:28.700596",
     "exception": false,
     "start_time": "2022-12-05T16:48:28.665133",
     "status": "completed"
    },
    "tags": [
     "injected-parameters"
    ]
   },
   "outputs": [],
   "source": [
    "# Parameters\n",
    "PHENOPLIER_NOTEBOOK_FILEPATH = (\n",
    "    \"projects/asthma-copd/nbs/20_gene_corrs/jobs/05-gene_expr_correlations.ipynb\"\n",
    ")\n",
    "COHORT_NAME = \"asthma_only\"\n",
    "CHROMOSOME = 9\n",
    "OUTPUT_DIR_BASE = \"/opt/data/projects/asthma-copd/results/gls_phenoplier\"\n"
   ]
  },
  {
   "cell_type": "code",
   "execution_count": 5,
   "id": "3190631f-27fc-480f-b18e-571d580425a5",
   "metadata": {
    "execution": {
     "iopub.execute_input": "2022-12-05T16:48:28.717280Z",
     "iopub.status.busy": "2022-12-05T16:48:28.717041Z",
     "iopub.status.idle": "2022-12-05T16:48:28.741778Z",
     "shell.execute_reply": "2022-12-05T16:48:28.741004Z"
    },
    "papermill": {
     "duration": 0.034694,
     "end_time": "2022-12-05T16:48:28.743272",
     "exception": false,
     "start_time": "2022-12-05T16:48:28.708578",
     "status": "completed"
    },
    "tags": []
   },
   "outputs": [
    {
     "data": {
      "text/plain": [
       "'Cohort name: asthma_only'"
      ]
     },
     "metadata": {},
     "output_type": "display_data"
    }
   ],
   "source": [
    "assert COHORT_NAME is not None and len(COHORT_NAME) > 0, \"A cohort name must be given\"\n",
    "\n",
    "COHORT_NAME = COHORT_NAME.lower()\n",
    "display(f\"Cohort name: {COHORT_NAME}\")"
   ]
  },
  {
   "cell_type": "code",
   "execution_count": 6,
   "id": "f53ba19b-0f93-4fa2-a047-63b375939d1a",
   "metadata": {
    "execution": {
     "iopub.execute_input": "2022-12-05T16:48:28.760747Z",
     "iopub.status.busy": "2022-12-05T16:48:28.760461Z",
     "iopub.status.idle": "2022-12-05T16:48:28.779583Z",
     "shell.execute_reply": "2022-12-05T16:48:28.779287Z"
    },
    "papermill": {
     "duration": 0.029242,
     "end_time": "2022-12-05T16:48:28.780896",
     "exception": false,
     "start_time": "2022-12-05T16:48:28.751654",
     "status": "completed"
    },
    "tags": []
   },
   "outputs": [
    {
     "data": {
      "text/plain": [
       "'Reference panel: GTEX_V8'"
      ]
     },
     "metadata": {},
     "output_type": "display_data"
    }
   ],
   "source": [
    "assert (\n",
    "    REFERENCE_PANEL is not None and len(REFERENCE_PANEL) > 0\n",
    "), \"A reference panel must be given\"\n",
    "\n",
    "display(f\"Reference panel: {REFERENCE_PANEL}\")"
   ]
  },
  {
   "cell_type": "code",
   "execution_count": 7,
   "id": "e024d130-c139-429a-9c6e-ccf149e297b0",
   "metadata": {
    "execution": {
     "iopub.execute_input": "2022-12-05T16:48:28.798574Z",
     "iopub.status.busy": "2022-12-05T16:48:28.797897Z",
     "iopub.status.idle": "2022-12-05T16:48:28.823262Z",
     "shell.execute_reply": "2022-12-05T16:48:28.822622Z"
    },
    "papermill": {
     "duration": 0.035482,
     "end_time": "2022-12-05T16:48:28.824659",
     "exception": false,
     "start_time": "2022-12-05T16:48:28.789177",
     "status": "completed"
    },
    "tags": []
   },
   "outputs": [
    {
     "data": {
      "text/plain": [
       "'eQTL model: MASHR) / mashr_'"
      ]
     },
     "metadata": {},
     "output_type": "display_data"
    }
   ],
   "source": [
    "assert (\n",
    "    EQTL_MODEL is not None and len(EQTL_MODEL) > 0\n",
    "), \"A prediction/eQTL model must be given\"\n",
    "\n",
    "EQTL_MODEL_FILES_PREFIX = conf.PHENOMEXCAN[\"PREDICTION_MODELS\"][f\"{EQTL_MODEL}_PREFIX\"]\n",
    "display(f\"eQTL model: {EQTL_MODEL}) / {EQTL_MODEL_FILES_PREFIX}\")"
   ]
  },
  {
   "cell_type": "code",
   "execution_count": 8,
   "id": "552a7f63-a18c-4d3e-bb6a-94f99b431291",
   "metadata": {
    "execution": {
     "iopub.execute_input": "2022-12-05T16:48:28.843278Z",
     "iopub.status.busy": "2022-12-05T16:48:28.842939Z",
     "iopub.status.idle": "2022-12-05T16:48:28.868157Z",
     "shell.execute_reply": "2022-12-05T16:48:28.867502Z"
    },
    "papermill": {
     "duration": 0.0356,
     "end_time": "2022-12-05T16:48:28.869612",
     "exception": false,
     "start_time": "2022-12-05T16:48:28.834012",
     "status": "completed"
    },
    "tags": []
   },
   "outputs": [
    {
     "data": {
      "text/plain": [
       "'S-MultiXcan condition number: 30'"
      ]
     },
     "metadata": {},
     "output_type": "display_data"
    }
   ],
   "source": [
    "assert (\n",
    "    SMULTIXCAN_CONDITION_NUMBER is not None and SMULTIXCAN_CONDITION_NUMBER > 0\n",
    "), \"The S-MultiXcan condition number (positive integer) must be given\"\n",
    "\n",
    "display(f\"S-MultiXcan condition number: {SMULTIXCAN_CONDITION_NUMBER}\")"
   ]
  },
  {
   "cell_type": "code",
   "execution_count": 9,
   "id": "f34a336f-548e-4afe-8955-90eaea4f42c6",
   "metadata": {
    "execution": {
     "iopub.execute_input": "2022-12-05T16:48:28.889176Z",
     "iopub.status.busy": "2022-12-05T16:48:28.888657Z",
     "iopub.status.idle": "2022-12-05T16:48:28.914048Z",
     "shell.execute_reply": "2022-12-05T16:48:28.913412Z"
    },
    "papermill": {
     "duration": 0.03614,
     "end_time": "2022-12-05T16:48:28.915517",
     "exception": false,
     "start_time": "2022-12-05T16:48:28.879377",
     "status": "completed"
    },
    "tags": []
   },
   "outputs": [
    {
     "data": {
      "text/plain": [
       "'Working on chromosome 9'"
      ]
     },
     "metadata": {},
     "output_type": "display_data"
    }
   ],
   "source": [
    "assert CHROMOSOME is not None and (\n",
    "    1 <= CHROMOSOME <= 22\n",
    "), \"You have to select one chromosome (format: number between 1 and 22)\"\n",
    "\n",
    "display(f\"Working on chromosome {CHROMOSOME}\")"
   ]
  },
  {
   "cell_type": "code",
   "execution_count": 10,
   "id": "ab8e96e8-06b5-4363-9dcd-dc4d78cc27f7",
   "metadata": {
    "execution": {
     "iopub.execute_input": "2022-12-05T16:48:28.934621Z",
     "iopub.status.busy": "2022-12-05T16:48:28.934299Z",
     "iopub.status.idle": "2022-12-05T16:48:28.959077Z",
     "shell.execute_reply": "2022-12-05T16:48:28.958446Z"
    },
    "papermill": {
     "duration": 0.035403,
     "end_time": "2022-12-05T16:48:28.960536",
     "exception": false,
     "start_time": "2022-12-05T16:48:28.925133",
     "status": "completed"
    },
    "tags": []
   },
   "outputs": [
    {
     "data": {
      "text/plain": [
       "'Compute correlation within distance True'"
      ]
     },
     "metadata": {},
     "output_type": "display_data"
    }
   ],
   "source": [
    "display(f\"Compute correlation within distance {COMPUTE_CORRELATIONS_WITHIN_DISTANCE}\")"
   ]
  },
  {
   "cell_type": "code",
   "execution_count": 11,
   "id": "b393b698-77e3-4ba2-8ac1-e14d51aa988f",
   "metadata": {
    "execution": {
     "iopub.execute_input": "2022-12-05T16:48:28.980611Z",
     "iopub.status.busy": "2022-12-05T16:48:28.980227Z",
     "iopub.status.idle": "2022-12-05T16:48:29.006355Z",
     "shell.execute_reply": "2022-12-05T16:48:29.005704Z"
    },
    "papermill": {
     "duration": 0.037118,
     "end_time": "2022-12-05T16:48:29.007841",
     "exception": false,
     "start_time": "2022-12-05T16:48:28.970723",
     "status": "completed"
    },
    "tags": []
   },
   "outputs": [
    {
     "data": {
      "text/plain": [
       "'Using output dir base: /opt/data/projects/asthma-copd/results/gls_phenoplier/gene_corrs/asthma_only'"
      ]
     },
     "metadata": {},
     "output_type": "display_data"
    }
   ],
   "source": [
    "assert (\n",
    "    OUTPUT_DIR_BASE is not None and len(OUTPUT_DIR_BASE) > 0\n",
    "), \"Output directory path must be given\"\n",
    "\n",
    "OUTPUT_DIR_BASE = (Path(OUTPUT_DIR_BASE) / \"gene_corrs\" / COHORT_NAME).resolve()\n",
    "\n",
    "OUTPUT_DIR_BASE.mkdir(parents=True, exist_ok=True)\n",
    "\n",
    "display(f\"Using output dir base: {OUTPUT_DIR_BASE}\")"
   ]
  },
  {
   "cell_type": "markdown",
   "id": "d2ba085e",
   "metadata": {
    "papermill": {
     "duration": 0.008634,
     "end_time": "2022-12-05T16:48:29.026058",
     "exception": false,
     "start_time": "2022-12-05T16:48:29.017424",
     "status": "completed"
    },
    "tags": []
   },
   "source": [
    "# Load data"
   ]
  },
  {
   "cell_type": "markdown",
   "id": "7dcb8db7",
   "metadata": {
    "papermill": {
     "duration": 0.008721,
     "end_time": "2022-12-05T16:48:29.043449",
     "exception": false,
     "start_time": "2022-12-05T16:48:29.034728",
     "status": "completed"
    },
    "tags": []
   },
   "source": [
    "## GWAS variants"
   ]
  },
  {
   "cell_type": "code",
   "execution_count": 12,
   "id": "29434c4e-8cd3-4b9b-82e4-b5a251d9dd19",
   "metadata": {
    "execution": {
     "iopub.execute_input": "2022-12-05T16:48:29.062172Z",
     "iopub.status.busy": "2022-12-05T16:48:29.061766Z",
     "iopub.status.idle": "2022-12-05T16:48:31.416978Z",
     "shell.execute_reply": "2022-12-05T16:48:31.416463Z"
    },
    "papermill": {
     "duration": 2.366307,
     "end_time": "2022-12-05T16:48:31.418397",
     "exception": false,
     "start_time": "2022-12-05T16:48:29.052090",
     "status": "completed"
    },
    "tags": []
   },
   "outputs": [],
   "source": [
    "with open(OUTPUT_DIR_BASE / \"gwas_variant_ids.pkl\", \"rb\") as handle:\n",
    "    gwas_variants_ids_set = pickle.load(handle)"
   ]
  },
  {
   "cell_type": "code",
   "execution_count": 13,
   "id": "b9d9dec2-4a76-4bf9-bde2-e24c95acb8a0",
   "metadata": {
    "execution": {
     "iopub.execute_input": "2022-12-05T16:48:31.434956Z",
     "iopub.status.busy": "2022-12-05T16:48:31.434621Z",
     "iopub.status.idle": "2022-12-05T16:48:31.449112Z",
     "shell.execute_reply": "2022-12-05T16:48:31.448656Z"
    },
    "papermill": {
     "duration": 0.023919,
     "end_time": "2022-12-05T16:48:31.450206",
     "exception": false,
     "start_time": "2022-12-05T16:48:31.426287",
     "status": "completed"
    },
    "tags": []
   },
   "outputs": [
    {
     "data": {
      "text/plain": [
       "8578486"
      ]
     },
     "execution_count": 13,
     "metadata": {},
     "output_type": "execute_result"
    }
   ],
   "source": [
    "len(gwas_variants_ids_set)"
   ]
  },
  {
   "cell_type": "code",
   "execution_count": 14,
   "id": "4235b06a-6034-4ee4-a0a3-2ae35d122418",
   "metadata": {
    "execution": {
     "iopub.execute_input": "2022-12-05T16:48:31.466176Z",
     "iopub.status.busy": "2022-12-05T16:48:31.465876Z",
     "iopub.status.idle": "2022-12-05T16:48:32.042618Z",
     "shell.execute_reply": "2022-12-05T16:48:32.042120Z"
    },
    "papermill": {
     "duration": 0.586023,
     "end_time": "2022-12-05T16:48:32.043715",
     "exception": false,
     "start_time": "2022-12-05T16:48:31.457692",
     "status": "completed"
    },
    "tags": []
   },
   "outputs": [
    {
     "data": {
      "text/plain": [
       "['chr13_83986118_C_G_b38',\n",
       " 'chr1_206451719_G_T_b38',\n",
       " 'chr2_3736098_G_A_b38',\n",
       " 'chr1_79072505_G_A_b38',\n",
       " 'chr7_22666762_T_C_b38']"
      ]
     },
     "execution_count": 14,
     "metadata": {},
     "output_type": "execute_result"
    }
   ],
   "source": [
    "list(gwas_variants_ids_set)[:5]"
   ]
  },
  {
   "cell_type": "markdown",
   "id": "07866999-2305-41f9-a144-e69c9122c212",
   "metadata": {
    "papermill": {
     "duration": 0.007687,
     "end_time": "2022-12-05T16:48:32.058726",
     "exception": false,
     "start_time": "2022-12-05T16:48:32.051039",
     "status": "completed"
    },
    "tags": []
   },
   "source": [
    "## S-PrediXcan tissue models"
   ]
  },
  {
   "cell_type": "code",
   "execution_count": 15,
   "id": "780611d9-77c8-405f-90a4-f271f7b09397",
   "metadata": {
    "execution": {
     "iopub.execute_input": "2022-12-05T16:48:32.074878Z",
     "iopub.status.busy": "2022-12-05T16:48:32.074505Z",
     "iopub.status.idle": "2022-12-05T16:48:32.857340Z",
     "shell.execute_reply": "2022-12-05T16:48:32.856710Z"
    },
    "papermill": {
     "duration": 0.792315,
     "end_time": "2022-12-05T16:48:32.858538",
     "exception": false,
     "start_time": "2022-12-05T16:48:32.066223",
     "status": "completed"
    },
    "tags": []
   },
   "outputs": [],
   "source": [
    "spredixcan_genes_models = pd.read_pickle(OUTPUT_DIR_BASE / \"gene_tissues.pkl\")"
   ]
  },
  {
   "cell_type": "code",
   "execution_count": 16,
   "id": "726dd1f6-9557-4225-91fa-b3b879ea96e1",
   "metadata": {
    "execution": {
     "iopub.execute_input": "2022-12-05T16:48:32.874249Z",
     "iopub.status.busy": "2022-12-05T16:48:32.873987Z",
     "iopub.status.idle": "2022-12-05T16:48:32.890063Z",
     "shell.execute_reply": "2022-12-05T16:48:32.889678Z"
    },
    "papermill": {
     "duration": 0.025313,
     "end_time": "2022-12-05T16:48:32.890904",
     "exception": false,
     "start_time": "2022-12-05T16:48:32.865591",
     "status": "completed"
    },
    "tags": []
   },
   "outputs": [
    {
     "data": {
      "text/plain": [
       "(6443, 5)"
      ]
     },
     "execution_count": 16,
     "metadata": {},
     "output_type": "execute_result"
    }
   ],
   "source": [
    "spredixcan_genes_models.shape"
   ]
  },
  {
   "cell_type": "code",
   "execution_count": 17,
   "id": "944a1b48-222c-4eb0-b252-b9de2cbca215",
   "metadata": {
    "execution": {
     "iopub.execute_input": "2022-12-05T16:48:32.901573Z",
     "iopub.status.busy": "2022-12-05T16:48:32.901449Z",
     "iopub.status.idle": "2022-12-05T16:48:32.920477Z",
     "shell.execute_reply": "2022-12-05T16:48:32.919968Z"
    },
    "papermill": {
     "duration": 0.025291,
     "end_time": "2022-12-05T16:48:32.921336",
     "exception": false,
     "start_time": "2022-12-05T16:48:32.896045",
     "status": "completed"
    },
    "tags": []
   },
   "outputs": [
    {
     "data": {
      "text/html": [
       "<div>\n",
       "<style scoped>\n",
       "    .dataframe tbody tr th:only-of-type {\n",
       "        vertical-align: middle;\n",
       "    }\n",
       "\n",
       "    .dataframe tbody tr th {\n",
       "        vertical-align: top;\n",
       "    }\n",
       "\n",
       "    .dataframe thead th {\n",
       "        text-align: right;\n",
       "    }\n",
       "</style>\n",
       "<table border=\"1\" class=\"dataframe\">\n",
       "  <thead>\n",
       "    <tr style=\"text-align: right;\">\n",
       "      <th></th>\n",
       "      <th>gene_name</th>\n",
       "      <th>tissue</th>\n",
       "      <th>n_tissues</th>\n",
       "      <th>n_snps_used_sum</th>\n",
       "      <th>n_snps_in_model_sum</th>\n",
       "    </tr>\n",
       "    <tr>\n",
       "      <th>gene_id</th>\n",
       "      <th></th>\n",
       "      <th></th>\n",
       "      <th></th>\n",
       "      <th></th>\n",
       "      <th></th>\n",
       "    </tr>\n",
       "  </thead>\n",
       "  <tbody>\n",
       "    <tr>\n",
       "      <th>ENSG00000000419</th>\n",
       "      <td>DPM1</td>\n",
       "      <td>(Brain_Hypothalamus, Brain_Substantia_nigra)</td>\n",
       "      <td>2</td>\n",
       "      <td>2</td>\n",
       "      <td>2</td>\n",
       "    </tr>\n",
       "    <tr>\n",
       "      <th>ENSG00000000938</th>\n",
       "      <td>FGR</td>\n",
       "      <td>(Brain_Hippocampus, Brain_Hypothalamus, Cells_...</td>\n",
       "      <td>36</td>\n",
       "      <td>40</td>\n",
       "      <td>40</td>\n",
       "    </tr>\n",
       "    <tr>\n",
       "      <th>ENSG00000000971</th>\n",
       "      <td>CFH</td>\n",
       "      <td>(Brain_Hippocampus, Skin_Not_Sun_Exposed_Supra...</td>\n",
       "      <td>34</td>\n",
       "      <td>44</td>\n",
       "      <td>44</td>\n",
       "    </tr>\n",
       "    <tr>\n",
       "      <th>ENSG00000001084</th>\n",
       "      <td>GCLC</td>\n",
       "      <td>(Brain_Hippocampus, Cells_EBV-transformed_lymp...</td>\n",
       "      <td>32</td>\n",
       "      <td>46</td>\n",
       "      <td>46</td>\n",
       "    </tr>\n",
       "    <tr>\n",
       "      <th>ENSG00000001167</th>\n",
       "      <td>NFYA</td>\n",
       "      <td>(Brain_Hippocampus, Brain_Hypothalamus, Adipos...</td>\n",
       "      <td>40</td>\n",
       "      <td>47</td>\n",
       "      <td>48</td>\n",
       "    </tr>\n",
       "  </tbody>\n",
       "</table>\n",
       "</div>"
      ],
      "text/plain": [
       "                gene_name                                             tissue  \\\n",
       "gene_id                                                                        \n",
       "ENSG00000000419      DPM1       (Brain_Hypothalamus, Brain_Substantia_nigra)   \n",
       "ENSG00000000938       FGR  (Brain_Hippocampus, Brain_Hypothalamus, Cells_...   \n",
       "ENSG00000000971       CFH  (Brain_Hippocampus, Skin_Not_Sun_Exposed_Supra...   \n",
       "ENSG00000001084      GCLC  (Brain_Hippocampus, Cells_EBV-transformed_lymp...   \n",
       "ENSG00000001167      NFYA  (Brain_Hippocampus, Brain_Hypothalamus, Adipos...   \n",
       "\n",
       "                 n_tissues  n_snps_used_sum  n_snps_in_model_sum  \n",
       "gene_id                                                           \n",
       "ENSG00000000419          2                2                    2  \n",
       "ENSG00000000938         36               40                   40  \n",
       "ENSG00000000971         34               44                   44  \n",
       "ENSG00000001084         32               46                   46  \n",
       "ENSG00000001167         40               47                   48  "
      ]
     },
     "execution_count": 17,
     "metadata": {},
     "output_type": "execute_result"
    }
   ],
   "source": [
    "spredixcan_genes_models.head()"
   ]
  },
  {
   "cell_type": "code",
   "execution_count": 18,
   "id": "d1c11bb1-be0b-4f40-b360-633d6827109f",
   "metadata": {
    "execution": {
     "iopub.execute_input": "2022-12-05T16:48:32.936221Z",
     "iopub.status.busy": "2022-12-05T16:48:32.936103Z",
     "iopub.status.idle": "2022-12-05T16:48:32.951316Z",
     "shell.execute_reply": "2022-12-05T16:48:32.950920Z"
    },
    "papermill": {
     "duration": 0.026115,
     "end_time": "2022-12-05T16:48:32.952758",
     "exception": false,
     "start_time": "2022-12-05T16:48:32.926643",
     "status": "completed"
    },
    "tags": []
   },
   "outputs": [],
   "source": [
    "assert spredixcan_genes_models.index.is_unique"
   ]
  },
  {
   "cell_type": "markdown",
   "id": "a5b5092c-a13e-47c4-a92a-480fcc08f3ae",
   "metadata": {
    "papermill": {
     "duration": 0.00996,
     "end_time": "2022-12-05T16:48:32.973425",
     "exception": false,
     "start_time": "2022-12-05T16:48:32.963465",
     "status": "completed"
    },
    "tags": []
   },
   "source": [
    "## Gene info"
   ]
  },
  {
   "cell_type": "code",
   "execution_count": 19,
   "id": "7d6bb224-88e9-4358-ac10-43a41d92cdad",
   "metadata": {
    "execution": {
     "iopub.execute_input": "2022-12-05T16:48:32.994539Z",
     "iopub.status.busy": "2022-12-05T16:48:32.994252Z",
     "iopub.status.idle": "2022-12-05T16:48:33.011884Z",
     "shell.execute_reply": "2022-12-05T16:48:33.011259Z"
    },
    "papermill": {
     "duration": 0.029953,
     "end_time": "2022-12-05T16:48:33.013329",
     "exception": false,
     "start_time": "2022-12-05T16:48:32.983376",
     "status": "completed"
    },
    "tags": []
   },
   "outputs": [],
   "source": [
    "genes_info = pd.read_pickle(OUTPUT_DIR_BASE / \"genes_info.pkl\")"
   ]
  },
  {
   "cell_type": "code",
   "execution_count": 20,
   "id": "9e32abfa-546d-483e-8c18-d526e9e05903",
   "metadata": {
    "execution": {
     "iopub.execute_input": "2022-12-05T16:48:33.034684Z",
     "iopub.status.busy": "2022-12-05T16:48:33.034463Z",
     "iopub.status.idle": "2022-12-05T16:48:33.050529Z",
     "shell.execute_reply": "2022-12-05T16:48:33.049996Z"
    },
    "papermill": {
     "duration": 0.028,
     "end_time": "2022-12-05T16:48:33.051943",
     "exception": false,
     "start_time": "2022-12-05T16:48:33.023943",
     "status": "completed"
    },
    "tags": []
   },
   "outputs": [
    {
     "data": {
      "text/plain": [
       "(6443, 7)"
      ]
     },
     "execution_count": 20,
     "metadata": {},
     "output_type": "execute_result"
    }
   ],
   "source": [
    "genes_info.shape"
   ]
  },
  {
   "cell_type": "code",
   "execution_count": 21,
   "id": "d16c3e92-85ec-468a-9a56-e25a9774a1cb",
   "metadata": {
    "execution": {
     "iopub.execute_input": "2022-12-05T16:48:33.074092Z",
     "iopub.status.busy": "2022-12-05T16:48:33.073863Z",
     "iopub.status.idle": "2022-12-05T16:48:33.105902Z",
     "shell.execute_reply": "2022-12-05T16:48:33.105237Z"
    },
    "papermill": {
     "duration": 0.045636,
     "end_time": "2022-12-05T16:48:33.107964",
     "exception": false,
     "start_time": "2022-12-05T16:48:33.062328",
     "status": "completed"
    },
    "tags": []
   },
   "outputs": [
    {
     "data": {
      "text/html": [
       "<div>\n",
       "<style scoped>\n",
       "    .dataframe tbody tr th:only-of-type {\n",
       "        vertical-align: middle;\n",
       "    }\n",
       "\n",
       "    .dataframe tbody tr th {\n",
       "        vertical-align: top;\n",
       "    }\n",
       "\n",
       "    .dataframe thead th {\n",
       "        text-align: right;\n",
       "    }\n",
       "</style>\n",
       "<table border=\"1\" class=\"dataframe\">\n",
       "  <thead>\n",
       "    <tr style=\"text-align: right;\">\n",
       "      <th></th>\n",
       "      <th>name</th>\n",
       "      <th>id</th>\n",
       "      <th>chr</th>\n",
       "      <th>band</th>\n",
       "      <th>start_position</th>\n",
       "      <th>end_position</th>\n",
       "      <th>gene_length</th>\n",
       "    </tr>\n",
       "  </thead>\n",
       "  <tbody>\n",
       "    <tr>\n",
       "      <th>0</th>\n",
       "      <td>MRPL44</td>\n",
       "      <td>ENSG00000135900</td>\n",
       "      <td>2</td>\n",
       "      <td>2q36.1</td>\n",
       "      <td>223957463</td>\n",
       "      <td>223967714</td>\n",
       "      <td>10251</td>\n",
       "    </tr>\n",
       "    <tr>\n",
       "      <th>1</th>\n",
       "      <td>H1FX</td>\n",
       "      <td>ENSG00000184897</td>\n",
       "      <td>3</td>\n",
       "      <td>3q21.3</td>\n",
       "      <td>129314771</td>\n",
       "      <td>129316286</td>\n",
       "      <td>1515</td>\n",
       "    </tr>\n",
       "    <tr>\n",
       "      <th>2</th>\n",
       "      <td>AGRN</td>\n",
       "      <td>ENSG00000188157</td>\n",
       "      <td>1</td>\n",
       "      <td>1p36.33</td>\n",
       "      <td>1020120</td>\n",
       "      <td>1056118</td>\n",
       "      <td>35998</td>\n",
       "    </tr>\n",
       "    <tr>\n",
       "      <th>3</th>\n",
       "      <td>DNAJB2</td>\n",
       "      <td>ENSG00000135924</td>\n",
       "      <td>2</td>\n",
       "      <td>2q35</td>\n",
       "      <td>219279267</td>\n",
       "      <td>219286900</td>\n",
       "      <td>7633</td>\n",
       "    </tr>\n",
       "    <tr>\n",
       "      <th>4</th>\n",
       "      <td>PISD</td>\n",
       "      <td>ENSG00000241878</td>\n",
       "      <td>22</td>\n",
       "      <td>22q12.2</td>\n",
       "      <td>31618491</td>\n",
       "      <td>31662432</td>\n",
       "      <td>43941</td>\n",
       "    </tr>\n",
       "  </tbody>\n",
       "</table>\n",
       "</div>"
      ],
      "text/plain": [
       "     name               id  chr     band  start_position  end_position  \\\n",
       "0  MRPL44  ENSG00000135900    2   2q36.1       223957463     223967714   \n",
       "1    H1FX  ENSG00000184897    3   3q21.3       129314771     129316286   \n",
       "2    AGRN  ENSG00000188157    1  1p36.33         1020120       1056118   \n",
       "3  DNAJB2  ENSG00000135924    2     2q35       219279267     219286900   \n",
       "4    PISD  ENSG00000241878   22  22q12.2        31618491      31662432   \n",
       "\n",
       "   gene_length  \n",
       "0        10251  \n",
       "1         1515  \n",
       "2        35998  \n",
       "3         7633  \n",
       "4        43941  "
      ]
     },
     "execution_count": 21,
     "metadata": {},
     "output_type": "execute_result"
    }
   ],
   "source": [
    "genes_info.head()"
   ]
  },
  {
   "cell_type": "markdown",
   "id": "d3843e06",
   "metadata": {
    "papermill": {
     "duration": 0.009979,
     "end_time": "2022-12-05T16:48:33.130612",
     "exception": false,
     "start_time": "2022-12-05T16:48:33.120633",
     "status": "completed"
    },
    "tags": []
   },
   "source": [
    "# Compute correlations"
   ]
  },
  {
   "cell_type": "code",
   "execution_count": 22,
   "id": "cb859c15-d1f3-4006-a74c-2b83c0db9611",
   "metadata": {
    "execution": {
     "iopub.execute_input": "2022-12-05T16:48:33.160643Z",
     "iopub.status.busy": "2022-12-05T16:48:33.160327Z",
     "iopub.status.idle": "2022-12-05T16:48:33.184551Z",
     "shell.execute_reply": "2022-12-05T16:48:33.183900Z"
    },
    "papermill": {
     "duration": 0.043374,
     "end_time": "2022-12-05T16:48:33.185516",
     "exception": false,
     "start_time": "2022-12-05T16:48:33.142142",
     "status": "completed"
    },
    "tags": []
   },
   "outputs": [
    {
     "data": {
      "text/plain": [
       "PosixPath('/opt/data/projects/asthma-copd/results/gls_phenoplier/gene_corrs/asthma_only/by_chr/gene_corrs-chr9.pkl')"
      ]
     },
     "metadata": {},
     "output_type": "display_data"
    }
   ],
   "source": [
    "output_dir = OUTPUT_DIR_BASE / \"by_chr\"\n",
    "output_dir.mkdir(exist_ok=True, parents=True)\n",
    "output_file = output_dir / f\"gene_corrs-chr{CHROMOSOME}.pkl\"\n",
    "display(output_file)"
   ]
  },
  {
   "cell_type": "code",
   "execution_count": 23,
   "id": "aa674fe4-6794-4eed-98fa-32b39d1d4ace",
   "metadata": {
    "execution": {
     "iopub.execute_input": "2022-12-05T16:48:33.201226Z",
     "iopub.status.busy": "2022-12-05T16:48:33.200946Z",
     "iopub.status.idle": "2022-12-05T16:48:33.224147Z",
     "shell.execute_reply": "2022-12-05T16:48:33.223464Z"
    },
    "papermill": {
     "duration": 0.03402,
     "end_time": "2022-12-05T16:48:33.225380",
     "exception": false,
     "start_time": "2022-12-05T16:48:33.191360",
     "status": "completed"
    },
    "tags": []
   },
   "outputs": [],
   "source": [
    "warnings.filterwarnings(\"error\")"
   ]
  },
  {
   "cell_type": "code",
   "execution_count": 24,
   "id": "44d5450b-3baf-43f1-9e2e-4b06f1a785f8",
   "metadata": {
    "execution": {
     "iopub.execute_input": "2022-12-05T16:48:33.239396Z",
     "iopub.status.busy": "2022-12-05T16:48:33.239118Z",
     "iopub.status.idle": "2022-12-05T16:48:33.262628Z",
     "shell.execute_reply": "2022-12-05T16:48:33.261951Z"
    },
    "papermill": {
     "duration": 0.032835,
     "end_time": "2022-12-05T16:48:33.263806",
     "exception": false,
     "start_time": "2022-12-05T16:48:33.230971",
     "status": "completed"
    },
    "tags": []
   },
   "outputs": [],
   "source": [
    "# standard checks\n",
    "all_chrs = genes_info[\"chr\"].dropna().unique()\n",
    "assert all_chrs.shape[0] == 22\n",
    "\n",
    "# select chromosome given by the user\n",
    "assert CHROMOSOME in all_chrs"
   ]
  },
  {
   "cell_type": "code",
   "execution_count": 25,
   "id": "2d7c043c-92a7-4d35-991b-fa69ac1e0268",
   "metadata": {
    "execution": {
     "iopub.execute_input": "2022-12-05T16:48:33.277303Z",
     "iopub.status.busy": "2022-12-05T16:48:33.277077Z",
     "iopub.status.idle": "2022-12-05T16:48:33.301960Z",
     "shell.execute_reply": "2022-12-05T16:48:33.301279Z"
    },
    "papermill": {
     "duration": 0.03319,
     "end_time": "2022-12-05T16:48:33.302884",
     "exception": false,
     "start_time": "2022-12-05T16:48:33.269694",
     "status": "completed"
    },
    "tags": []
   },
   "outputs": [
    {
     "name": "stdout",
     "output_type": "stream",
     "text": [
      "Number of genes in chromosome: 245\n"
     ]
    }
   ],
   "source": [
    "# run only on the chromosome specified\n",
    "all_chrs = [CHROMOSOME]\n",
    "genes_chr = genes_info[genes_info[\"chr\"] == CHROMOSOME]\n",
    "\n",
    "# For testing purposes\n",
    "# genes_chr = genes_chr.sample(n=20)\n",
    "\n",
    "print(f\"Number of genes in chromosome: {genes_chr.shape[0]}\", flush=True)"
   ]
  },
  {
   "cell_type": "code",
   "execution_count": 26,
   "id": "916015d8-2979-46d3-a9b9-1cf5a0932c6a",
   "metadata": {
    "execution": {
     "iopub.execute_input": "2022-12-05T16:48:33.317150Z",
     "iopub.status.busy": "2022-12-05T16:48:33.316770Z",
     "iopub.status.idle": "2022-12-05T16:48:33.339420Z",
     "shell.execute_reply": "2022-12-05T16:48:33.338723Z"
    },
    "papermill": {
     "duration": 0.032621,
     "end_time": "2022-12-05T16:48:33.341088",
     "exception": false,
     "start_time": "2022-12-05T16:48:33.308467",
     "status": "completed"
    },
    "tags": []
   },
   "outputs": [],
   "source": [
    "# sort genes by starting position to make visualizations better later\n",
    "genes_chr = genes_chr.sort_values(\"start_position\")"
   ]
  },
  {
   "cell_type": "code",
   "execution_count": 27,
   "id": "a38aa74a-8ad3-47f6-8ef9-56be0e011774",
   "metadata": {
    "execution": {
     "iopub.execute_input": "2022-12-05T16:48:33.363758Z",
     "iopub.status.busy": "2022-12-05T16:48:33.363272Z",
     "iopub.status.idle": "2022-12-05T16:48:33.386440Z",
     "shell.execute_reply": "2022-12-05T16:48:33.385743Z"
    },
    "papermill": {
     "duration": 0.036125,
     "end_time": "2022-12-05T16:48:33.387986",
     "exception": false,
     "start_time": "2022-12-05T16:48:33.351861",
     "status": "completed"
    },
    "tags": []
   },
   "outputs": [],
   "source": [
    "gene_chr_objs = [Gene(ensembl_id=gene_id) for gene_id in genes_chr[\"id\"]]"
   ]
  },
  {
   "cell_type": "code",
   "execution_count": 28,
   "id": "570f974f-13c3-42b6-ad3a-ce99ca885c1a",
   "metadata": {
    "execution": {
     "iopub.execute_input": "2022-12-05T16:48:33.409795Z",
     "iopub.status.busy": "2022-12-05T16:48:33.409409Z",
     "iopub.status.idle": "2022-12-05T16:48:33.432917Z",
     "shell.execute_reply": "2022-12-05T16:48:33.432232Z"
    },
    "papermill": {
     "duration": 0.036026,
     "end_time": "2022-12-05T16:48:33.434383",
     "exception": false,
     "start_time": "2022-12-05T16:48:33.398357",
     "status": "completed"
    },
    "tags": []
   },
   "outputs": [
    {
     "name": "stdout",
     "output_type": "stream",
     "text": [
      "Number of gene combinations: 30135\n"
     ]
    }
   ],
   "source": [
    "n = len(gene_chr_objs)\n",
    "# diagonal elements + upper triangular matrix\n",
    "n_comb = n + int(n * (n - 1) / 2.0)\n",
    "print(f\"Number of gene combinations: {n_comb}\", flush=True)"
   ]
  },
  {
   "cell_type": "code",
   "execution_count": 29,
   "id": "cdbb90a1",
   "metadata": {
    "execution": {
     "iopub.execute_input": "2022-12-05T16:48:33.457353Z",
     "iopub.status.busy": "2022-12-05T16:48:33.457012Z",
     "iopub.status.idle": "2022-12-05T16:52:22.198355Z",
     "shell.execute_reply": "2022-12-05T16:52:22.197828Z"
    },
    "papermill": {
     "duration": 228.754334,
     "end_time": "2022-12-05T16:52:22.199762",
     "exception": false,
     "start_time": "2022-12-05T16:48:33.445428",
     "status": "completed"
    },
    "tags": []
   },
   "outputs": [
    {
     "name": "stderr",
     "output_type": "stream",
     "text": [
      "ENSG00000181090 / ENSG00000181090: 100%|█████████████████████| 30135/30135 [03:48<00:00, 131.77it/s]\n"
     ]
    },
    {
     "data": {
      "text/plain": [
       "PosixPath('/opt/data/projects/asthma-copd/results/gls_phenoplier/gene_corrs/asthma_only/by_chr/gene_corrs-chr9.pkl')"
      ]
     },
     "metadata": {},
     "output_type": "display_data"
    }
   ],
   "source": [
    "gene_corrs = []\n",
    "gene_corrs_data = np.full(\n",
    "    (n, n),\n",
    "    np.nan,\n",
    "    dtype=np.float64,\n",
    ")\n",
    "\n",
    "i = 0\n",
    "with tqdm(ncols=100, total=n_comb) as pbar:\n",
    "    for gene1_idx in range(0, len(gene_chr_objs)):\n",
    "        gene1_obj = gene_chr_objs[gene1_idx]\n",
    "        gene1_tissues = spredixcan_genes_models.loc[gene1_obj.ensembl_id, \"tissue\"]\n",
    "\n",
    "        for gene2_idx in range(gene1_idx, len(gene_chr_objs)):\n",
    "            gene2_obj = gene_chr_objs[gene2_idx]\n",
    "            gene2_tissues = spredixcan_genes_models.loc[gene2_obj.ensembl_id, \"tissue\"]\n",
    "\n",
    "            pbar.set_description(f\"{gene1_obj.ensembl_id} / {gene2_obj.ensembl_id}\")\n",
    "\n",
    "            try:\n",
    "                r = gene1_obj.get_ssm_correlation(\n",
    "                    other_gene=gene2_obj,\n",
    "                    tissues=gene1_tissues,\n",
    "                    other_tissues=gene2_tissues,\n",
    "                    snps_subset=gwas_variants_ids_set,\n",
    "                    condition_number=SMULTIXCAN_CONDITION_NUMBER,\n",
    "                    reference_panel=REFERENCE_PANEL,\n",
    "                    model_type=EQTL_MODEL,\n",
    "                    use_within_distance=COMPUTE_CORRELATIONS_WITHIN_DISTANCE,\n",
    "                )\n",
    "\n",
    "                if r is None:\n",
    "                    # if r is None, it's very likely because:\n",
    "                    #  * one of the genes has no prediction models\n",
    "                    #  * all the SNPs predictors for the gene are not present in the reference\n",
    "                    #    panel\n",
    "\n",
    "                    r = 0.0\n",
    "\n",
    "                gene_corrs.append(r)\n",
    "\n",
    "                gene_corrs_data[gene1_idx, gene2_idx] = r\n",
    "                gene_corrs_data[gene2_idx, gene1_idx] = r\n",
    "            except Warning as e:\n",
    "                if not DEBUG_MODE:\n",
    "                    raise e\n",
    "\n",
    "                print(\n",
    "                    f\"RuntimeWarning for genes {gene1_obj.ensembl_id} and {gene2_obj.ensembl_id}\",\n",
    "                    flush=True,\n",
    "                )\n",
    "                print(traceback.format_exc(), flush=True)\n",
    "\n",
    "                gene_corrs.append(np.nan)\n",
    "            except Exception as e:\n",
    "                if not DEBUG_MODE:\n",
    "                    raise e\n",
    "\n",
    "                print(\n",
    "                    f\"Exception for genes {gene1_obj.ensembl_id} and {gene2_obj.ensembl_id}\",\n",
    "                    flush=True,\n",
    "                )\n",
    "                print(traceback.format_exc(), flush=True)\n",
    "\n",
    "                gene_corrs.append(np.nan)\n",
    "\n",
    "            pbar.update(1)\n",
    "\n",
    "# create a pandas series\n",
    "gene_corrs_flat = pd.Series(gene_corrs)\n",
    "\n",
    "# save\n",
    "# FIXME: consider saving only the condenced matrix here. See here for\n",
    "# more details: https://github.com/greenelab/phenoplier/pull/38#discussion_r634600813\n",
    "# gene_corrs_data = squareform(np.array(gene_corrs, dtype=np.float64))\n",
    "# np.fill_diagonal(gene_corrs_data, 1.0)\n",
    "\n",
    "gene_chr_ids = [g.ensembl_id for g in gene_chr_objs]\n",
    "gene_corrs_df = pd.DataFrame(\n",
    "    data=gene_corrs_data,\n",
    "    index=gene_chr_ids,\n",
    "    columns=gene_chr_ids,\n",
    ")\n",
    "\n",
    "output_dir.mkdir(exist_ok=True, parents=True)\n",
    "display(output_file)\n",
    "\n",
    "gene_corrs_df.to_pickle(output_file)"
   ]
  },
  {
   "cell_type": "markdown",
   "id": "faa67b51-5373-470f-aa72-2ded53fa6dfe",
   "metadata": {
    "papermill": {
     "duration": 0.910261,
     "end_time": "2022-12-05T16:52:24.071479",
     "exception": false,
     "start_time": "2022-12-05T16:52:23.161218",
     "status": "completed"
    },
    "tags": []
   },
   "source": [
    "# Testing"
   ]
  },
  {
   "cell_type": "code",
   "execution_count": 30,
   "id": "14f7d046-4b55-4896-a56b-990127bcc388",
   "metadata": {
    "execution": {
     "iopub.execute_input": "2022-12-05T16:52:25.927517Z",
     "iopub.status.busy": "2022-12-05T16:52:25.927245Z",
     "iopub.status.idle": "2022-12-05T16:52:25.945958Z",
     "shell.execute_reply": "2022-12-05T16:52:25.945481Z"
    },
    "papermill": {
     "duration": 0.962859,
     "end_time": "2022-12-05T16:52:25.946810",
     "exception": false,
     "start_time": "2022-12-05T16:52:24.983951",
     "status": "completed"
    },
    "tags": []
   },
   "outputs": [
    {
     "data": {
      "text/plain": [
       "(245, 245)"
      ]
     },
     "execution_count": 30,
     "metadata": {},
     "output_type": "execute_result"
    }
   ],
   "source": [
    "gene_corrs_df.shape"
   ]
  },
  {
   "cell_type": "code",
   "execution_count": 31,
   "id": "c7d15414-3297-4537-a7c6-7588c0baeb75",
   "metadata": {
    "execution": {
     "iopub.execute_input": "2022-12-05T16:52:27.767326Z",
     "iopub.status.busy": "2022-12-05T16:52:27.766666Z",
     "iopub.status.idle": "2022-12-05T16:52:27.808196Z",
     "shell.execute_reply": "2022-12-05T16:52:27.807550Z"
    },
    "papermill": {
     "duration": 0.956473,
     "end_time": "2022-12-05T16:52:27.809896",
     "exception": false,
     "start_time": "2022-12-05T16:52:26.853423",
     "status": "completed"
    },
    "tags": []
   },
   "outputs": [
    {
     "data": {
      "text/html": [
       "<div>\n",
       "<style scoped>\n",
       "    .dataframe tbody tr th:only-of-type {\n",
       "        vertical-align: middle;\n",
       "    }\n",
       "\n",
       "    .dataframe tbody tr th {\n",
       "        vertical-align: top;\n",
       "    }\n",
       "\n",
       "    .dataframe thead th {\n",
       "        text-align: right;\n",
       "    }\n",
       "</style>\n",
       "<table border=\"1\" class=\"dataframe\">\n",
       "  <thead>\n",
       "    <tr style=\"text-align: right;\">\n",
       "      <th></th>\n",
       "      <th>ENSG00000107099</th>\n",
       "      <th>ENSG00000080503</th>\n",
       "      <th>ENSG00000147852</th>\n",
       "      <th>ENSG00000107249</th>\n",
       "      <th>ENSG00000147853</th>\n",
       "      <th>ENSG00000096968</th>\n",
       "      <th>ENSG00000107014</th>\n",
       "      <th>ENSG00000120217</th>\n",
       "      <th>ENSG00000197646</th>\n",
       "      <th>ENSG00000178445</th>\n",
       "      <th>...</th>\n",
       "      <th>ENSG00000107317</th>\n",
       "      <th>ENSG00000169583</th>\n",
       "      <th>ENSG00000107331</th>\n",
       "      <th>ENSG00000054179</th>\n",
       "      <th>ENSG00000177239</th>\n",
       "      <th>ENSG00000176248</th>\n",
       "      <th>ENSG00000176101</th>\n",
       "      <th>ENSG00000188747</th>\n",
       "      <th>ENSG00000182154</th>\n",
       "      <th>ENSG00000181090</th>\n",
       "    </tr>\n",
       "  </thead>\n",
       "  <tbody>\n",
       "    <tr>\n",
       "      <th>ENSG00000107099</th>\n",
       "      <td>1.000000</td>\n",
       "      <td>0.004888</td>\n",
       "      <td>0.014346</td>\n",
       "      <td>0.011179</td>\n",
       "      <td>0.008516</td>\n",
       "      <td>0.010086</td>\n",
       "      <td>0.007350</td>\n",
       "      <td>0.010925</td>\n",
       "      <td>0.000000</td>\n",
       "      <td>0.000000</td>\n",
       "      <td>...</td>\n",
       "      <td>0.0</td>\n",
       "      <td>0.0</td>\n",
       "      <td>0.0</td>\n",
       "      <td>0.0</td>\n",
       "      <td>0.0</td>\n",
       "      <td>0.0</td>\n",
       "      <td>0.0</td>\n",
       "      <td>0.0</td>\n",
       "      <td>0.0</td>\n",
       "      <td>0.0</td>\n",
       "    </tr>\n",
       "    <tr>\n",
       "      <th>ENSG00000080503</th>\n",
       "      <td>0.004888</td>\n",
       "      <td>1.000000</td>\n",
       "      <td>0.013387</td>\n",
       "      <td>0.009019</td>\n",
       "      <td>0.008423</td>\n",
       "      <td>0.010715</td>\n",
       "      <td>0.006403</td>\n",
       "      <td>0.009085</td>\n",
       "      <td>0.005355</td>\n",
       "      <td>0.011907</td>\n",
       "      <td>...</td>\n",
       "      <td>0.0</td>\n",
       "      <td>0.0</td>\n",
       "      <td>0.0</td>\n",
       "      <td>0.0</td>\n",
       "      <td>0.0</td>\n",
       "      <td>0.0</td>\n",
       "      <td>0.0</td>\n",
       "      <td>0.0</td>\n",
       "      <td>0.0</td>\n",
       "      <td>0.0</td>\n",
       "    </tr>\n",
       "    <tr>\n",
       "      <th>ENSG00000147852</th>\n",
       "      <td>0.014346</td>\n",
       "      <td>0.013387</td>\n",
       "      <td>1.000000</td>\n",
       "      <td>0.013510</td>\n",
       "      <td>0.014940</td>\n",
       "      <td>0.019684</td>\n",
       "      <td>0.015293</td>\n",
       "      <td>0.019233</td>\n",
       "      <td>0.009658</td>\n",
       "      <td>0.014789</td>\n",
       "      <td>...</td>\n",
       "      <td>0.0</td>\n",
       "      <td>0.0</td>\n",
       "      <td>0.0</td>\n",
       "      <td>0.0</td>\n",
       "      <td>0.0</td>\n",
       "      <td>0.0</td>\n",
       "      <td>0.0</td>\n",
       "      <td>0.0</td>\n",
       "      <td>0.0</td>\n",
       "      <td>0.0</td>\n",
       "    </tr>\n",
       "    <tr>\n",
       "      <th>ENSG00000107249</th>\n",
       "      <td>0.011179</td>\n",
       "      <td>0.009019</td>\n",
       "      <td>0.013510</td>\n",
       "      <td>1.000000</td>\n",
       "      <td>0.013043</td>\n",
       "      <td>0.012821</td>\n",
       "      <td>0.009166</td>\n",
       "      <td>0.012765</td>\n",
       "      <td>0.004407</td>\n",
       "      <td>0.010986</td>\n",
       "      <td>...</td>\n",
       "      <td>0.0</td>\n",
       "      <td>0.0</td>\n",
       "      <td>0.0</td>\n",
       "      <td>0.0</td>\n",
       "      <td>0.0</td>\n",
       "      <td>0.0</td>\n",
       "      <td>0.0</td>\n",
       "      <td>0.0</td>\n",
       "      <td>0.0</td>\n",
       "      <td>0.0</td>\n",
       "    </tr>\n",
       "    <tr>\n",
       "      <th>ENSG00000147853</th>\n",
       "      <td>0.008516</td>\n",
       "      <td>0.008423</td>\n",
       "      <td>0.014940</td>\n",
       "      <td>0.013043</td>\n",
       "      <td>1.000000</td>\n",
       "      <td>0.035341</td>\n",
       "      <td>0.010092</td>\n",
       "      <td>0.014017</td>\n",
       "      <td>0.008673</td>\n",
       "      <td>0.014867</td>\n",
       "      <td>...</td>\n",
       "      <td>0.0</td>\n",
       "      <td>0.0</td>\n",
       "      <td>0.0</td>\n",
       "      <td>0.0</td>\n",
       "      <td>0.0</td>\n",
       "      <td>0.0</td>\n",
       "      <td>0.0</td>\n",
       "      <td>0.0</td>\n",
       "      <td>0.0</td>\n",
       "      <td>0.0</td>\n",
       "    </tr>\n",
       "  </tbody>\n",
       "</table>\n",
       "<p>5 rows × 245 columns</p>\n",
       "</div>"
      ],
      "text/plain": [
       "                 ENSG00000107099  ENSG00000080503  ENSG00000147852  \\\n",
       "ENSG00000107099         1.000000         0.004888         0.014346   \n",
       "ENSG00000080503         0.004888         1.000000         0.013387   \n",
       "ENSG00000147852         0.014346         0.013387         1.000000   \n",
       "ENSG00000107249         0.011179         0.009019         0.013510   \n",
       "ENSG00000147853         0.008516         0.008423         0.014940   \n",
       "\n",
       "                 ENSG00000107249  ENSG00000147853  ENSG00000096968  \\\n",
       "ENSG00000107099         0.011179         0.008516         0.010086   \n",
       "ENSG00000080503         0.009019         0.008423         0.010715   \n",
       "ENSG00000147852         0.013510         0.014940         0.019684   \n",
       "ENSG00000107249         1.000000         0.013043         0.012821   \n",
       "ENSG00000147853         0.013043         1.000000         0.035341   \n",
       "\n",
       "                 ENSG00000107014  ENSG00000120217  ENSG00000197646  \\\n",
       "ENSG00000107099         0.007350         0.010925         0.000000   \n",
       "ENSG00000080503         0.006403         0.009085         0.005355   \n",
       "ENSG00000147852         0.015293         0.019233         0.009658   \n",
       "ENSG00000107249         0.009166         0.012765         0.004407   \n",
       "ENSG00000147853         0.010092         0.014017         0.008673   \n",
       "\n",
       "                 ENSG00000178445  ...  ENSG00000107317  ENSG00000169583  \\\n",
       "ENSG00000107099         0.000000  ...              0.0              0.0   \n",
       "ENSG00000080503         0.011907  ...              0.0              0.0   \n",
       "ENSG00000147852         0.014789  ...              0.0              0.0   \n",
       "ENSG00000107249         0.010986  ...              0.0              0.0   \n",
       "ENSG00000147853         0.014867  ...              0.0              0.0   \n",
       "\n",
       "                 ENSG00000107331  ENSG00000054179  ENSG00000177239  \\\n",
       "ENSG00000107099              0.0              0.0              0.0   \n",
       "ENSG00000080503              0.0              0.0              0.0   \n",
       "ENSG00000147852              0.0              0.0              0.0   \n",
       "ENSG00000107249              0.0              0.0              0.0   \n",
       "ENSG00000147853              0.0              0.0              0.0   \n",
       "\n",
       "                 ENSG00000176248  ENSG00000176101  ENSG00000188747  \\\n",
       "ENSG00000107099              0.0              0.0              0.0   \n",
       "ENSG00000080503              0.0              0.0              0.0   \n",
       "ENSG00000147852              0.0              0.0              0.0   \n",
       "ENSG00000107249              0.0              0.0              0.0   \n",
       "ENSG00000147853              0.0              0.0              0.0   \n",
       "\n",
       "                 ENSG00000182154  ENSG00000181090  \n",
       "ENSG00000107099              0.0              0.0  \n",
       "ENSG00000080503              0.0              0.0  \n",
       "ENSG00000147852              0.0              0.0  \n",
       "ENSG00000107249              0.0              0.0  \n",
       "ENSG00000147853              0.0              0.0  \n",
       "\n",
       "[5 rows x 245 columns]"
      ]
     },
     "execution_count": 31,
     "metadata": {},
     "output_type": "execute_result"
    }
   ],
   "source": [
    "gene_corrs_df.head()"
   ]
  },
  {
   "cell_type": "markdown",
   "id": "dad6603f-01c6-41fb-a6f6-241051207dd8",
   "metadata": {
    "papermill": {
     "duration": 0.911567,
     "end_time": "2022-12-05T16:52:29.679485",
     "exception": false,
     "start_time": "2022-12-05T16:52:28.767918",
     "status": "completed"
    },
    "tags": []
   },
   "source": [
    "## Standard checks and stats"
   ]
  },
  {
   "cell_type": "code",
   "execution_count": 32,
   "id": "286686af-1b7b-4440-8453-6bdcbd8de19c",
   "metadata": {
    "execution": {
     "iopub.execute_input": "2022-12-05T16:52:31.532253Z",
     "iopub.status.busy": "2022-12-05T16:52:31.531465Z",
     "iopub.status.idle": "2022-12-05T16:52:31.555506Z",
     "shell.execute_reply": "2022-12-05T16:52:31.554682Z"
    },
    "papermill": {
     "duration": 0.963602,
     "end_time": "2022-12-05T16:52:31.556818",
     "exception": false,
     "start_time": "2022-12-05T16:52:30.593216",
     "status": "completed"
    },
    "tags": []
   },
   "outputs": [],
   "source": [
    "assert not gene_corrs_df.isna().any(axis=None)"
   ]
  },
  {
   "cell_type": "code",
   "execution_count": 33,
   "id": "00583efc-7068-4270-ad1e-4a418e91db96",
   "metadata": {
    "execution": {
     "iopub.execute_input": "2022-12-05T16:52:33.414016Z",
     "iopub.status.busy": "2022-12-05T16:52:33.413611Z",
     "iopub.status.idle": "2022-12-05T16:52:33.438299Z",
     "shell.execute_reply": "2022-12-05T16:52:33.437618Z"
    },
    "papermill": {
     "duration": 0.973675,
     "end_time": "2022-12-05T16:52:33.439238",
     "exception": false,
     "start_time": "2022-12-05T16:52:32.465563",
     "status": "completed"
    },
    "tags": []
   },
   "outputs": [
    {
     "data": {
      "text/plain": [
       "0.0"
      ]
     },
     "metadata": {},
     "output_type": "display_data"
    }
   ],
   "source": [
    "_min_val = gene_corrs_df.min().min()\n",
    "display(_min_val)\n",
    "assert _min_val >= -0.05"
   ]
  },
  {
   "cell_type": "code",
   "execution_count": 34,
   "id": "d04fb2cf-1050-475b-b855-f5f7cc04092b",
   "metadata": {
    "execution": {
     "iopub.execute_input": "2022-12-05T16:52:35.273343Z",
     "iopub.status.busy": "2022-12-05T16:52:35.273046Z",
     "iopub.status.idle": "2022-12-05T16:52:35.287366Z",
     "shell.execute_reply": "2022-12-05T16:52:35.286969Z"
    },
    "papermill": {
     "duration": 0.946755,
     "end_time": "2022-12-05T16:52:35.288243",
     "exception": false,
     "start_time": "2022-12-05T16:52:34.341488",
     "status": "completed"
    },
    "tags": []
   },
   "outputs": [
    {
     "data": {
      "text/plain": [
       "1.0000000000000029"
      ]
     },
     "metadata": {},
     "output_type": "display_data"
    }
   ],
   "source": [
    "_max_val = gene_corrs_df.max().max()  # this captures the diagonal\n",
    "display(_max_val)\n",
    "assert _max_val <= 1.05"
   ]
  },
  {
   "cell_type": "code",
   "execution_count": 35,
   "id": "fe283586-c348-40e0-8841-f6d97bfb021c",
   "metadata": {
    "execution": {
     "iopub.execute_input": "2022-12-05T16:52:37.104949Z",
     "iopub.status.busy": "2022-12-05T16:52:37.104639Z",
     "iopub.status.idle": "2022-12-05T16:52:37.131772Z",
     "shell.execute_reply": "2022-12-05T16:52:37.131167Z"
    },
    "papermill": {
     "duration": 0.947981,
     "end_time": "2022-12-05T16:52:37.132708",
     "exception": false,
     "start_time": "2022-12-05T16:52:36.184727",
     "status": "completed"
    },
    "tags": []
   },
   "outputs": [
    {
     "data": {
      "text/plain": [
       "count    30135.000000\n",
       "mean         0.011089\n",
       "std          0.093779\n",
       "min          0.000000\n",
       "25%          0.000000\n",
       "50%          0.000000\n",
       "75%          0.000000\n",
       "max          1.000000\n",
       "dtype: float64"
      ]
     },
     "execution_count": 35,
     "metadata": {},
     "output_type": "execute_result"
    }
   ],
   "source": [
    "gene_corrs_flat.describe()"
   ]
  },
  {
   "cell_type": "code",
   "execution_count": 36,
   "id": "b3815678-0f93-4b35-897b-a9d047a2aa78",
   "metadata": {
    "execution": {
     "iopub.execute_input": "2022-12-05T16:52:38.978760Z",
     "iopub.status.busy": "2022-12-05T16:52:38.978526Z",
     "iopub.status.idle": "2022-12-05T16:52:39.000941Z",
     "shell.execute_reply": "2022-12-05T16:52:39.000544Z"
    },
    "papermill": {
     "duration": 0.933928,
     "end_time": "2022-12-05T16:52:39.001795",
     "exception": false,
     "start_time": "2022-12-05T16:52:38.067867",
     "status": "completed"
    },
    "tags": []
   },
   "outputs": [
    {
     "data": {
      "text/plain": [
       "0.00    0.000000\n",
       "0.05    0.000000\n",
       "0.10    0.000000\n",
       "0.15    0.000000\n",
       "0.20    0.000000\n",
       "0.25    0.000000\n",
       "0.30    0.000000\n",
       "0.35    0.000000\n",
       "0.40    0.000000\n",
       "0.45    0.000000\n",
       "0.50    0.000000\n",
       "0.55    0.000000\n",
       "0.60    0.000000\n",
       "0.65    0.000000\n",
       "0.70    0.000000\n",
       "0.75    0.000000\n",
       "0.80    0.000000\n",
       "0.85    0.000000\n",
       "0.90    0.004152\n",
       "0.95    0.008581\n",
       "dtype: float64"
      ]
     },
     "metadata": {},
     "output_type": "display_data"
    }
   ],
   "source": [
    "gene_corrs_quantiles = gene_corrs_flat.quantile(np.arange(0, 1, 0.05))\n",
    "display(gene_corrs_quantiles)"
   ]
  },
  {
   "cell_type": "markdown",
   "id": "87134509-b145-4a10-8bc9-b7e914c2b0fa",
   "metadata": {
    "papermill": {
     "duration": 0.936497,
     "end_time": "2022-12-05T16:52:40.846592",
     "exception": false,
     "start_time": "2022-12-05T16:52:39.910095",
     "status": "completed"
    },
    "tags": []
   },
   "source": [
    "## Positive definiteness"
   ]
  },
  {
   "cell_type": "code",
   "execution_count": 37,
   "id": "07d9a9a1-a4f7-48aa-b916-6d42a8cc6186",
   "metadata": {
    "execution": {
     "iopub.execute_input": "2022-12-05T16:52:42.668477Z",
     "iopub.status.busy": "2022-12-05T16:52:42.668211Z",
     "iopub.status.idle": "2022-12-05T16:52:42.703500Z",
     "shell.execute_reply": "2022-12-05T16:52:42.703118Z"
    },
    "papermill": {
     "duration": 0.953875,
     "end_time": "2022-12-05T16:52:42.704336",
     "exception": false,
     "start_time": "2022-12-05T16:52:41.750461",
     "status": "completed"
    },
    "tags": []
   },
   "outputs": [
    {
     "data": {
      "text/plain": [
       "0"
      ]
     },
     "metadata": {},
     "output_type": "display_data"
    },
    {
     "data": {
      "text/plain": [
       "array([], dtype=float64)"
      ]
     },
     "metadata": {},
     "output_type": "display_data"
    }
   ],
   "source": [
    "# print negative eigenvalues\n",
    "eigs = np.linalg.eigvals(gene_corrs_df.to_numpy())\n",
    "display(len(eigs[eigs < 0]))\n",
    "display(eigs[eigs < 0])"
   ]
  },
  {
   "cell_type": "code",
   "execution_count": 38,
   "id": "6e218436-c3c5-4028-8c94-a4fa6260efce",
   "metadata": {
    "execution": {
     "iopub.execute_input": "2022-12-05T16:52:44.585942Z",
     "iopub.status.busy": "2022-12-05T16:52:44.585478Z",
     "iopub.status.idle": "2022-12-05T16:52:44.604171Z",
     "shell.execute_reply": "2022-12-05T16:52:44.603541Z"
    },
    "papermill": {
     "duration": 0.949882,
     "end_time": "2022-12-05T16:52:44.605104",
     "exception": false,
     "start_time": "2022-12-05T16:52:43.655222",
     "status": "completed"
    },
    "tags": []
   },
   "outputs": [
    {
     "name": "stdout",
     "output_type": "stream",
     "text": [
      "Works!\n"
     ]
    }
   ],
   "source": [
    "try:\n",
    "    chol_mat = np.linalg.cholesky(gene_corrs_df.to_numpy())\n",
    "    cov_inv = np.linalg.inv(chol_mat)\n",
    "    print(\"Works!\")\n",
    "except Exception as e:\n",
    "    print(f\"Cholesky decomposition failed: {str(e)}\")"
   ]
  },
  {
   "cell_type": "code",
   "execution_count": 39,
   "id": "dd8827fb-faf9-4c7c-9454-015e94752706",
   "metadata": {
    "execution": {
     "iopub.execute_input": "2022-12-05T16:52:46.448277Z",
     "iopub.status.busy": "2022-12-05T16:52:46.447751Z",
     "iopub.status.idle": "2022-12-05T16:52:46.477561Z",
     "shell.execute_reply": "2022-12-05T16:52:46.476739Z"
    },
    "papermill": {
     "duration": 0.971574,
     "end_time": "2022-12-05T16:52:46.478533",
     "exception": false,
     "start_time": "2022-12-05T16:52:45.506959",
     "status": "completed"
    },
    "tags": []
   },
   "outputs": [
    {
     "name": "stdout",
     "output_type": "stream",
     "text": [
      "Works!\n"
     ]
    }
   ],
   "source": [
    "try:\n",
    "    # decomposition used by statsmodels.GLS\n",
    "    cholsigmainv = np.linalg.cholesky(np.linalg.inv(gene_corrs_df.to_numpy())).T\n",
    "    print(\"Works!\")\n",
    "except Exception as e:\n",
    "    print(f\"Cholesky decomposition failed (statsmodels.GLS): {str(e)}\")"
   ]
  },
  {
   "cell_type": "markdown",
   "id": "8e60a080-edb2-4e9c-b2ef-22961693200c",
   "metadata": {
    "papermill": {
     "duration": 0.940873,
     "end_time": "2022-12-05T16:52:48.321199",
     "exception": false,
     "start_time": "2022-12-05T16:52:47.380326",
     "status": "completed"
    },
    "tags": []
   },
   "source": [
    "## Plot: distribution"
   ]
  },
  {
   "cell_type": "code",
   "execution_count": 40,
   "id": "8301126b-a7d4-4744-9c7d-f0f86eb6f54c",
   "metadata": {
    "execution": {
     "iopub.execute_input": "2022-12-05T16:52:50.243611Z",
     "iopub.status.busy": "2022-12-05T16:52:50.242995Z",
     "iopub.status.idle": "2022-12-05T16:52:50.561683Z",
     "shell.execute_reply": "2022-12-05T16:52:50.561371Z"
    },
    "papermill": {
     "duration": 1.298142,
     "end_time": "2022-12-05T16:52:50.563077",
     "exception": false,
     "start_time": "2022-12-05T16:52:49.264935",
     "status": "completed"
    },
    "tags": []
   },
   "outputs": [
    {
     "data": {
      "image/png": "[encoded data removed]",
      "text/plain": [
       "<Figure size 700x700 with 1 Axes>"
      ]
     },
     "metadata": {},
     "output_type": "display_data"
    }
   ],
   "source": [
    "with sns.plotting_context(\"paper\", font_scale=1.5):\n",
    "    g = sns.displot(gene_corrs_flat, kde=True, height=7)\n",
    "    g.ax.set_title(\n",
    "        f\"Distribution of gene correlation values in chromosome {CHROMOSOME}\"\n",
    "    )"
   ]
  },
  {
   "cell_type": "markdown",
   "id": "cbd52bca-d878-4a2f-b684-5c83aa3038d4",
   "metadata": {
    "papermill": {
     "duration": 0.911634,
     "end_time": "2022-12-05T16:52:52.413236",
     "exception": false,
     "start_time": "2022-12-05T16:52:51.501602",
     "status": "completed"
    },
    "tags": []
   },
   "source": [
    "## Plot: heatmap"
   ]
  },
  {
   "cell_type": "code",
   "execution_count": 41,
   "id": "d03fe63a-c7b2-4fb9-a53c-db362ce843c9",
   "metadata": {
    "execution": {
     "iopub.execute_input": "2022-12-05T16:52:54.229948Z",
     "iopub.status.busy": "2022-12-05T16:52:54.229709Z",
     "iopub.status.idle": "2022-12-05T16:52:54.249233Z",
     "shell.execute_reply": "2022-12-05T16:52:54.248652Z"
    },
    "papermill": {
     "duration": 0.918287,
     "end_time": "2022-12-05T16:52:54.250147",
     "exception": false,
     "start_time": "2022-12-05T16:52:53.331860",
     "status": "completed"
    },
    "tags": []
   },
   "outputs": [
    {
     "data": {
      "text/plain": [
       "'0.0 / 0.05'"
      ]
     },
     "metadata": {},
     "output_type": "display_data"
    }
   ],
   "source": [
    "vmin_val = min(0.00, gene_corrs_quantiles[0.10])\n",
    "vmax_val = max(0.05, gene_corrs_quantiles[0.90])\n",
    "display(f\"{vmin_val} / {vmax_val}\")"
   ]
  },
  {
   "cell_type": "code",
   "execution_count": 42,
   "id": "dc41b70b-5bcc-4d9e-9f33-a22c4a94dab5",
   "metadata": {
    "execution": {
     "iopub.execute_input": "2022-12-05T16:52:56.145073Z",
     "iopub.status.busy": "2022-12-05T16:52:56.144818Z",
     "iopub.status.idle": "2022-12-05T16:52:56.349919Z",
     "shell.execute_reply": "2022-12-05T16:52:56.349398Z"
    },
    "papermill": {
     "duration": 1.194193,
     "end_time": "2022-12-05T16:52:56.351307",
     "exception": false,
     "start_time": "2022-12-05T16:52:55.157114",
     "status": "completed"
    },
    "tags": []
   },
   "outputs": [
    {
     "data": {
      "text/plain": [
       "Text(0.5, 1.0, 'Gene correlations in chromosome 9')"
      ]
     },
     "execution_count": 42,
     "metadata": {},
     "output_type": "execute_result"
    },
    {
     "data": {
      "image/png": "[encoded data removed]",
      "text/plain": [
       "<Figure size 1000x1000 with 2 Axes>"
      ]
     },
     "metadata": {},
     "output_type": "display_data"
    }
   ],
   "source": [
    "f, ax = plt.subplots(figsize=(10, 10))\n",
    "sns.heatmap(\n",
    "    gene_corrs_df,\n",
    "    xticklabels=False,\n",
    "    yticklabels=False,\n",
    "    square=True,\n",
    "    vmin=vmin_val,\n",
    "    vmax=vmax_val,\n",
    "    cmap=\"rocket_r\",\n",
    "    ax=ax,\n",
    ")\n",
    "ax.set_title(f\"Gene correlations in chromosome {CHROMOSOME}\")"
   ]
  },
  {
   "cell_type": "code",
   "execution_count": null,
   "id": "b25e3ead",
   "metadata": {
    "papermill": {
     "duration": 0.898135,
     "end_time": "2022-12-05T16:52:58.187740",
     "exception": false,
     "start_time": "2022-12-05T16:52:57.289605",
     "status": "completed"
    },
    "tags": []
   },
   "outputs": [],
   "source": []
  }
 ],
 "metadata": {
  "jupytext": {
   "cell_metadata_filter": "all,-execution,-papermill,-trusted",
   "formats": "ipynb,py//py:percent"
  },
  "kernelspec": {
   "display_name": "Python 3 (ipykernel)",
   "language": "python",
   "name": "python3"
  },
  "language_info": {
   "codemirror_mode": {
    "name": "ipython",
    "version": 3
   },
   "file_extension": ".py",
   "mimetype": "text/x-python",
   "name": "python",
   "nbconvert_exporter": "python",
   "pygments_lexer": "ipython3",
   "version": "3.10.6"
  },
  "papermill": {
   "default_parameters": {},
   "duration": 275.998273,
   "end_time": "2022-12-05T16:53:02.683936",
   "environment_variables": {},
   "exception": null,
   "input_path": "projects/asthma-copd/nbs/20_gene_corrs/jobs/05-gene_expr_correlations.ipynb",
   "output_path": "projects/asthma-copd/nbs/20_gene_corrs/jobs/../output/asthma_only/05-gene_expr_correlations-chr9.run.ipynb",
   "parameters": {
    "CHROMOSOME": 9,
    "COHORT_NAME": "asthma_only",
    "OUTPUT_DIR_BASE": "/opt/data/projects/asthma-copd/results/gls_phenoplier",
    "PHENOPLIER_NOTEBOOK_FILEPATH": "projects/asthma-copd/nbs/20_gene_corrs/jobs/05-gene_expr_correlations.ipynb"
   },
   "start_time": "2022-12-05T16:48:26.685663",
   "version": "2.2.2"
  }
 },
 "nbformat": 4,
 "nbformat_minor": 5
}
