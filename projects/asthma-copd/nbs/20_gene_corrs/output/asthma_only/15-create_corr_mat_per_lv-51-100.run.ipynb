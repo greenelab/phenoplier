{
 "cells": [
  {
   "cell_type": "markdown",
   "id": "5ef66977",
   "metadata": {
    "papermill": {
     "duration": 0.006581,
     "end_time": "2022-12-05T20:34:02.056500",
     "exception": false,
     "start_time": "2022-12-05T20:34:02.049919",
     "status": "completed"
    },
    "tags": []
   },
   "source": [
    "# Description"
   ]
  },
  {
   "cell_type": "markdown",
   "id": "658d4f7c",
   "metadata": {
    "papermill": {
     "duration": 0.005785,
     "end_time": "2022-12-05T20:34:02.068206",
     "exception": false,
     "start_time": "2022-12-05T20:34:02.062421",
     "status": "completed"
    },
    "tags": []
   },
   "source": [
    "(Please, take a look at the README.md file in this directory for instructions on how to run this notebook)\n",
    "\n",
    "It computes an LV-specific correlation matrix by using the top genes in that LV only.\n",
    "\n",
    "It has specicfic parameters for papermill (see under `Settings` below).\n",
    "\n",
    "This notebook is not directly run. See README.md."
   ]
  },
  {
   "cell_type": "markdown",
   "id": "60fa4530",
   "metadata": {
    "papermill": {
     "duration": 0.006102,
     "end_time": "2022-12-05T20:34:02.080048",
     "exception": false,
     "start_time": "2022-12-05T20:34:02.073946",
     "status": "completed"
    },
    "tags": []
   },
   "source": [
    "# Modules"
   ]
  },
  {
   "cell_type": "code",
   "execution_count": 1,
   "id": "d70b0833",
   "metadata": {
    "execution": {
     "iopub.execute_input": "2022-12-05T20:34:02.093154Z",
     "iopub.status.busy": "2022-12-05T20:34:02.092597Z",
     "iopub.status.idle": "2022-12-05T20:34:02.111965Z",
     "shell.execute_reply": "2022-12-05T20:34:02.111445Z"
    },
    "papermill": {
     "duration": 0.028459,
     "end_time": "2022-12-05T20:34:02.114263",
     "exception": false,
     "start_time": "2022-12-05T20:34:02.085804",
     "status": "completed"
    },
    "tags": []
   },
   "outputs": [],
   "source": [
    "%load_ext autoreload\n",
    "%autoreload 2"
   ]
  },
  {
   "cell_type": "code",
   "execution_count": 2,
   "id": "6b2f9ca0",
   "metadata": {
    "execution": {
     "iopub.execute_input": "2022-12-05T20:34:02.130449Z",
     "iopub.status.busy": "2022-12-05T20:34:02.129908Z",
     "iopub.status.idle": "2022-12-05T20:34:02.758960Z",
     "shell.execute_reply": "2022-12-05T20:34:02.758656Z"
    },
    "papermill": {
     "duration": 0.639309,
     "end_time": "2022-12-05T20:34:02.760424",
     "exception": false,
     "start_time": "2022-12-05T20:34:02.121115",
     "status": "completed"
    },
    "tags": []
   },
   "outputs": [],
   "source": [
    "from pathlib import Path\n",
    "from concurrent.futures import ProcessPoolExecutor, as_completed\n",
    "\n",
    "import numpy as np\n",
    "from scipy.spatial.distance import squareform\n",
    "from scipy import sparse\n",
    "import pandas as pd\n",
    "from tqdm import tqdm\n",
    "\n",
    "import conf\n",
    "from utils import chunker\n",
    "from entity import Gene\n",
    "from gls import GLSPhenoplier"
   ]
  },
  {
   "cell_type": "markdown",
   "id": "5b96e797",
   "metadata": {
    "papermill": {
     "duration": 0.003251,
     "end_time": "2022-12-05T20:34:02.768435",
     "exception": false,
     "start_time": "2022-12-05T20:34:02.765184",
     "status": "completed"
    },
    "tags": []
   },
   "source": [
    "# Settings"
   ]
  },
  {
   "cell_type": "code",
   "execution_count": 3,
   "id": "4fc1b6a0",
   "metadata": {
    "execution": {
     "iopub.execute_input": "2022-12-05T20:34:02.776261Z",
     "iopub.status.busy": "2022-12-05T20:34:02.775927Z",
     "iopub.status.idle": "2022-12-05T20:34:02.795907Z",
     "shell.execute_reply": "2022-12-05T20:34:02.795620Z"
    },
    "papermill": {
     "duration": 0.027843,
     "end_time": "2022-12-05T20:34:02.799819",
     "exception": false,
     "start_time": "2022-12-05T20:34:02.771976",
     "status": "completed"
    },
    "tags": [
     "parameters"
    ]
   },
   "outputs": [],
   "source": [
    "# a cohort name (it could be something like UK_BIOBANK, etc)\n",
    "COHORT_NAME = None\n",
    "\n",
    "# reference panel such as 1000G or GTEX_V8\n",
    "REFERENCE_PANEL = \"GTEX_V8\"\n",
    "\n",
    "# predictions models such as MASHR or ELASTIC_NET\n",
    "EQTL_MODEL = \"MASHR\"\n",
    "\n",
    "# A range of LVs in the format X-Y, such as 1-50 (from LV1 to LV50).\n",
    "# If None, all LVs will be processed.\n",
    "LV_RANGE = None\n",
    "\n",
    "# A number from 0.0 to 1.0 indicating the top percentile of the genes in the LV to keep.\n",
    "# A value of 0.01 would take the top 1% of the genes in the LV.\n",
    "# If zero or None, then all nonzero weighted genes in the LV will be kept.\n",
    "LV_PERCENTILE = None"
   ]
  },
  {
   "cell_type": "code",
   "execution_count": 4,
   "id": "676d4731",
   "metadata": {
    "execution": {
     "iopub.execute_input": "2022-12-05T20:34:02.812006Z",
     "iopub.status.busy": "2022-12-05T20:34:02.811894Z",
     "iopub.status.idle": "2022-12-05T20:34:02.832098Z",
     "shell.execute_reply": "2022-12-05T20:34:02.831806Z"
    },
    "papermill": {
     "duration": 0.028246,
     "end_time": "2022-12-05T20:34:02.833843",
     "exception": false,
     "start_time": "2022-12-05T20:34:02.805597",
     "status": "completed"
    },
    "tags": [
     "injected-parameters"
    ]
   },
   "outputs": [],
   "source": [
    "# Parameters\n",
    "PHENOPLIER_NOTEBOOK_FILEPATH = (\n",
    "    \"projects/asthma-copd/nbs/20_gene_corrs/jobs/15-create_corr_mat_per_lv.ipynb\"\n",
    ")\n",
    "COHORT_NAME = \"asthma_only\"\n",
    "LV_RANGE = \"51-100\"\n",
    "LV_PERCENTILE = \"0.01\"\n",
    "OUTPUT_DIR_BASE = \"/opt/data/projects/asthma-copd/results/gls_phenoplier\"\n"
   ]
  },
  {
   "cell_type": "code",
   "execution_count": 5,
   "id": "1dbaa2d1-b4d2-4247-bbdc-84f9a08fe15a",
   "metadata": {
    "execution": {
     "iopub.execute_input": "2022-12-05T20:34:02.845531Z",
     "iopub.status.busy": "2022-12-05T20:34:02.845392Z",
     "iopub.status.idle": "2022-12-05T20:34:02.863599Z",
     "shell.execute_reply": "2022-12-05T20:34:02.863304Z"
    },
    "papermill": {
     "duration": 0.024938,
     "end_time": "2022-12-05T20:34:02.864780",
     "exception": false,
     "start_time": "2022-12-05T20:34:02.839842",
     "status": "completed"
    },
    "tags": []
   },
   "outputs": [],
   "source": [
    "N_JOBS = 1"
   ]
  },
  {
   "cell_type": "code",
   "execution_count": 6,
   "id": "10c1d77a-c024-4d52-8888-7806944731ff",
   "metadata": {
    "execution": {
     "iopub.execute_input": "2022-12-05T20:34:02.875800Z",
     "iopub.status.busy": "2022-12-05T20:34:02.875667Z",
     "iopub.status.idle": "2022-12-05T20:34:02.897505Z",
     "shell.execute_reply": "2022-12-05T20:34:02.897249Z"
    },
    "papermill": {
     "duration": 0.02884,
     "end_time": "2022-12-05T20:34:02.898659",
     "exception": false,
     "start_time": "2022-12-05T20:34:02.869819",
     "status": "completed"
    },
    "tags": []
   },
   "outputs": [
    {
     "data": {
      "text/plain": [
       "'Cohort name: asthma_only'"
      ]
     },
     "metadata": {},
     "output_type": "display_data"
    }
   ],
   "source": [
    "assert COHORT_NAME is not None and len(COHORT_NAME) > 0, \"A cohort name must be given\"\n",
    "\n",
    "COHORT_NAME = COHORT_NAME.lower()\n",
    "display(f\"Cohort name: {COHORT_NAME}\")"
   ]
  },
  {
   "cell_type": "code",
   "execution_count": 7,
   "id": "2d74d598-860b-4994-a8ab-495c6ea1d93d",
   "metadata": {
    "execution": {
     "iopub.execute_input": "2022-12-05T20:34:02.909469Z",
     "iopub.status.busy": "2022-12-05T20:34:02.909331Z",
     "iopub.status.idle": "2022-12-05T20:34:02.925296Z",
     "shell.execute_reply": "2022-12-05T20:34:02.924989Z"
    },
    "papermill": {
     "duration": 0.022715,
     "end_time": "2022-12-05T20:34:02.926442",
     "exception": false,
     "start_time": "2022-12-05T20:34:02.903727",
     "status": "completed"
    },
    "tags": []
   },
   "outputs": [
    {
     "data": {
      "text/plain": [
       "'Reference panel: GTEX_V8'"
      ]
     },
     "metadata": {},
     "output_type": "display_data"
    }
   ],
   "source": [
    "assert (\n",
    "    REFERENCE_PANEL is not None and len(REFERENCE_PANEL) > 0\n",
    "), \"A reference panel must be given\"\n",
    "\n",
    "display(f\"Reference panel: {REFERENCE_PANEL}\")"
   ]
  },
  {
   "cell_type": "code",
   "execution_count": 8,
   "id": "23fccc89-f877-46a0-86c9-caa7b2cd71e2",
   "metadata": {
    "execution": {
     "iopub.execute_input": "2022-12-05T20:34:02.937695Z",
     "iopub.status.busy": "2022-12-05T20:34:02.937502Z",
     "iopub.status.idle": "2022-12-05T20:34:02.968262Z",
     "shell.execute_reply": "2022-12-05T20:34:02.967809Z"
    },
    "papermill": {
     "duration": 0.037963,
     "end_time": "2022-12-05T20:34:02.969561",
     "exception": false,
     "start_time": "2022-12-05T20:34:02.931598",
     "status": "completed"
    },
    "tags": []
   },
   "outputs": [
    {
     "data": {
      "text/plain": [
       "'eQTL model: MASHR / mashr_'"
      ]
     },
     "metadata": {},
     "output_type": "display_data"
    }
   ],
   "source": [
    "assert (\n",
    "    EQTL_MODEL is not None and len(EQTL_MODEL) > 0\n",
    "), \"A prediction/eQTL model must be given\"\n",
    "\n",
    "EQTL_MODEL_FILES_PREFIX = conf.PHENOMEXCAN[\"PREDICTION_MODELS\"][f\"{EQTL_MODEL}_PREFIX\"]\n",
    "display(f\"eQTL model: {EQTL_MODEL} / {EQTL_MODEL_FILES_PREFIX}\")"
   ]
  },
  {
   "cell_type": "code",
   "execution_count": 9,
   "id": "9cf97d20-389b-4919-acff-a1e2e1c5a707",
   "metadata": {
    "execution": {
     "iopub.execute_input": "2022-12-05T20:34:02.981047Z",
     "iopub.status.busy": "2022-12-05T20:34:02.980961Z",
     "iopub.status.idle": "2022-12-05T20:34:03.003436Z",
     "shell.execute_reply": "2022-12-05T20:34:03.003164Z"
    },
    "papermill": {
     "duration": 0.029737,
     "end_time": "2022-12-05T20:34:03.004543",
     "exception": false,
     "start_time": "2022-12-05T20:34:02.974806",
     "status": "completed"
    },
    "tags": []
   },
   "outputs": [
    {
     "data": {
      "text/plain": [
       "'LV percentile: 0.01'"
      ]
     },
     "metadata": {},
     "output_type": "display_data"
    }
   ],
   "source": [
    "if LV_PERCENTILE is not None:\n",
    "    LV_PERCENTILE = float(LV_PERCENTILE)\n",
    "\n",
    "display(f\"LV percentile: {LV_PERCENTILE}\")"
   ]
  },
  {
   "cell_type": "code",
   "execution_count": 10,
   "id": "b3320631-6bf0-4878-85d4-9a81497c0b3c",
   "metadata": {
    "execution": {
     "iopub.execute_input": "2022-12-05T20:34:03.013568Z",
     "iopub.status.busy": "2022-12-05T20:34:03.013472Z",
     "iopub.status.idle": "2022-12-05T20:34:03.032298Z",
     "shell.execute_reply": "2022-12-05T20:34:03.031944Z"
    },
    "papermill": {
     "duration": 0.024442,
     "end_time": "2022-12-05T20:34:03.033365",
     "exception": false,
     "start_time": "2022-12-05T20:34:03.008923",
     "status": "completed"
    },
    "tags": []
   },
   "outputs": [
    {
     "data": {
      "text/plain": [
       "'Using output dir base: /opt/data/projects/asthma-copd/results/gls_phenoplier/gene_corrs/asthma_only'"
      ]
     },
     "metadata": {},
     "output_type": "display_data"
    }
   ],
   "source": [
    "assert (\n",
    "    OUTPUT_DIR_BASE is not None and len(OUTPUT_DIR_BASE) > 0\n",
    "), \"Output directory path must be given\"\n",
    "\n",
    "OUTPUT_DIR_BASE = (Path(OUTPUT_DIR_BASE) / \"gene_corrs\" / COHORT_NAME).resolve()\n",
    "\n",
    "OUTPUT_DIR_BASE.mkdir(parents=True, exist_ok=True)\n",
    "\n",
    "display(f\"Using output dir base: {OUTPUT_DIR_BASE}\")"
   ]
  },
  {
   "cell_type": "markdown",
   "id": "99ccb166",
   "metadata": {
    "papermill": {
     "duration": 0.0042,
     "end_time": "2022-12-05T20:34:03.043051",
     "exception": false,
     "start_time": "2022-12-05T20:34:03.038851",
     "status": "completed"
    },
    "tags": []
   },
   "source": [
    "# Load data"
   ]
  },
  {
   "cell_type": "markdown",
   "id": "d5262187-494c-4399-8b71-cbbc3e20a9df",
   "metadata": {
    "papermill": {
     "duration": 0.003588,
     "end_time": "2022-12-05T20:34:03.050250",
     "exception": false,
     "start_time": "2022-12-05T20:34:03.046662",
     "status": "completed"
    },
    "tags": []
   },
   "source": [
    "## Gene correlations"
   ]
  },
  {
   "cell_type": "code",
   "execution_count": 11,
   "id": "2f174f95-2be3-4b63-95fb-451413ad361d",
   "metadata": {
    "execution": {
     "iopub.execute_input": "2022-12-05T20:34:03.061595Z",
     "iopub.status.busy": "2022-12-05T20:34:03.061380Z",
     "iopub.status.idle": "2022-12-05T20:34:03.079178Z",
     "shell.execute_reply": "2022-12-05T20:34:03.078850Z"
    },
    "papermill": {
     "duration": 0.026584,
     "end_time": "2022-12-05T20:34:03.080338",
     "exception": false,
     "start_time": "2022-12-05T20:34:03.053754",
     "status": "completed"
    },
    "tags": []
   },
   "outputs": [
    {
     "data": {
      "text/plain": [
       "[PosixPath('/opt/data/projects/asthma-copd/results/gls_phenoplier/gene_corrs/asthma_only/gene_corrs-symbols.pkl')]"
      ]
     },
     "metadata": {},
     "output_type": "display_data"
    }
   ],
   "source": [
    "input_files = list(OUTPUT_DIR_BASE.glob(\"gene_corrs-symbols*.pkl\"))\n",
    "display(input_files)\n",
    "assert len(input_files) > 0, \"No input correlation files\""
   ]
  },
  {
   "cell_type": "code",
   "execution_count": 12,
   "id": "e6838c80-57e3-4a7a-8ee1-ed5948645508",
   "metadata": {
    "execution": {
     "iopub.execute_input": "2022-12-05T20:34:03.093195Z",
     "iopub.status.busy": "2022-12-05T20:34:03.093088Z",
     "iopub.status.idle": "2022-12-05T20:34:03.227125Z",
     "shell.execute_reply": "2022-12-05T20:34:03.226709Z"
    },
    "papermill": {
     "duration": 0.14227,
     "end_time": "2022-12-05T20:34:03.229144",
     "exception": false,
     "start_time": "2022-12-05T20:34:03.086874",
     "status": "completed"
    },
    "tags": []
   },
   "outputs": [],
   "source": [
    "# load correlation matrix\n",
    "gene_corrs_dict = {f.name: pd.read_pickle(f) for f in input_files}"
   ]
  },
  {
   "cell_type": "code",
   "execution_count": 13,
   "id": "b9db5c98-a8aa-4e31-b25d-2b9ee16a2182",
   "metadata": {
    "execution": {
     "iopub.execute_input": "2022-12-05T20:34:03.245724Z",
     "iopub.status.busy": "2022-12-05T20:34:03.245404Z",
     "iopub.status.idle": "2022-12-05T20:34:03.263742Z",
     "shell.execute_reply": "2022-12-05T20:34:03.263333Z"
    },
    "papermill": {
     "duration": 0.028918,
     "end_time": "2022-12-05T20:34:03.265723",
     "exception": false,
     "start_time": "2022-12-05T20:34:03.236805",
     "status": "completed"
    },
    "tags": []
   },
   "outputs": [],
   "source": [
    "orig_corr_name = \"gene_corrs-symbols.pkl\""
   ]
  },
  {
   "cell_type": "code",
   "execution_count": 14,
   "id": "981b0c08-4217-4d0b-b0f7-57c8cf015055",
   "metadata": {
    "execution": {
     "iopub.execute_input": "2022-12-05T20:34:03.283442Z",
     "iopub.status.busy": "2022-12-05T20:34:03.283166Z",
     "iopub.status.idle": "2022-12-05T20:34:03.302205Z",
     "shell.execute_reply": "2022-12-05T20:34:03.301870Z"
    },
    "papermill": {
     "duration": 0.030393,
     "end_time": "2022-12-05T20:34:03.303905",
     "exception": false,
     "start_time": "2022-12-05T20:34:03.273512",
     "status": "completed"
    },
    "tags": []
   },
   "outputs": [
    {
     "data": {
      "text/plain": [
       "(6443, 6443)"
      ]
     },
     "execution_count": 14,
     "metadata": {},
     "output_type": "execute_result"
    }
   ],
   "source": [
    "gene_corrs_dict[orig_corr_name].shape"
   ]
  },
  {
   "cell_type": "code",
   "execution_count": 15,
   "id": "49fb8383-23fc-40d7-adf6-70f5770ee37f",
   "metadata": {
    "execution": {
     "iopub.execute_input": "2022-12-05T20:34:03.320568Z",
     "iopub.status.busy": "2022-12-05T20:34:03.320330Z",
     "iopub.status.idle": "2022-12-05T20:34:03.349683Z",
     "shell.execute_reply": "2022-12-05T20:34:03.349320Z"
    },
    "papermill": {
     "duration": 0.039502,
     "end_time": "2022-12-05T20:34:03.351173",
     "exception": false,
     "start_time": "2022-12-05T20:34:03.311671",
     "status": "completed"
    },
    "tags": []
   },
   "outputs": [
    {
     "data": {
      "text/html": [
       "<div>\n",
       "<style scoped>\n",
       "    .dataframe tbody tr th:only-of-type {\n",
       "        vertical-align: middle;\n",
       "    }\n",
       "\n",
       "    .dataframe tbody tr th {\n",
       "        vertical-align: top;\n",
       "    }\n",
       "\n",
       "    .dataframe thead th {\n",
       "        text-align: right;\n",
       "    }\n",
       "</style>\n",
       "<table border=\"1\" class=\"dataframe\">\n",
       "  <thead>\n",
       "    <tr style=\"text-align: right;\">\n",
       "      <th></th>\n",
       "      <th>NOC2L</th>\n",
       "      <th>HES4</th>\n",
       "      <th>ISG15</th>\n",
       "      <th>AGRN</th>\n",
       "      <th>TNFRSF18</th>\n",
       "      <th>TNFRSF4</th>\n",
       "      <th>B3GALT6</th>\n",
       "      <th>UBE2J2</th>\n",
       "      <th>ACAP3</th>\n",
       "      <th>TAS1R3</th>\n",
       "      <th>...</th>\n",
       "      <th>PLXNB2</th>\n",
       "      <th>ADM2</th>\n",
       "      <th>MIOX</th>\n",
       "      <th>SCO2</th>\n",
       "      <th>TYMP</th>\n",
       "      <th>CPT1B</th>\n",
       "      <th>CHKB</th>\n",
       "      <th>MAPK8IP2</th>\n",
       "      <th>ARSA</th>\n",
       "      <th>SHANK3</th>\n",
       "    </tr>\n",
       "  </thead>\n",
       "  <tbody>\n",
       "    <tr>\n",
       "      <th>NOC2L</th>\n",
       "      <td>1.000000</td>\n",
       "      <td>0.120590</td>\n",
       "      <td>0.177063</td>\n",
       "      <td>0.085746</td>\n",
       "      <td>0.006792</td>\n",
       "      <td>0.007685</td>\n",
       "      <td>0.004673</td>\n",
       "      <td>0.010734</td>\n",
       "      <td>0.011200</td>\n",
       "      <td>0.007529</td>\n",
       "      <td>...</td>\n",
       "      <td>0.0</td>\n",
       "      <td>0.0</td>\n",
       "      <td>0.0</td>\n",
       "      <td>0.0</td>\n",
       "      <td>0.0</td>\n",
       "      <td>0.0</td>\n",
       "      <td>0.0</td>\n",
       "      <td>0.0</td>\n",
       "      <td>0.0</td>\n",
       "      <td>0.0</td>\n",
       "    </tr>\n",
       "    <tr>\n",
       "      <th>HES4</th>\n",
       "      <td>0.120590</td>\n",
       "      <td>1.000000</td>\n",
       "      <td>0.672060</td>\n",
       "      <td>0.391127</td>\n",
       "      <td>0.011695</td>\n",
       "      <td>0.009275</td>\n",
       "      <td>0.005970</td>\n",
       "      <td>0.007385</td>\n",
       "      <td>0.002641</td>\n",
       "      <td>0.004767</td>\n",
       "      <td>...</td>\n",
       "      <td>0.0</td>\n",
       "      <td>0.0</td>\n",
       "      <td>0.0</td>\n",
       "      <td>0.0</td>\n",
       "      <td>0.0</td>\n",
       "      <td>0.0</td>\n",
       "      <td>0.0</td>\n",
       "      <td>0.0</td>\n",
       "      <td>0.0</td>\n",
       "      <td>0.0</td>\n",
       "    </tr>\n",
       "    <tr>\n",
       "      <th>ISG15</th>\n",
       "      <td>0.177063</td>\n",
       "      <td>0.672060</td>\n",
       "      <td>1.000000</td>\n",
       "      <td>0.424696</td>\n",
       "      <td>0.013929</td>\n",
       "      <td>0.013311</td>\n",
       "      <td>0.008466</td>\n",
       "      <td>0.010608</td>\n",
       "      <td>0.006689</td>\n",
       "      <td>0.011659</td>\n",
       "      <td>...</td>\n",
       "      <td>0.0</td>\n",
       "      <td>0.0</td>\n",
       "      <td>0.0</td>\n",
       "      <td>0.0</td>\n",
       "      <td>0.0</td>\n",
       "      <td>0.0</td>\n",
       "      <td>0.0</td>\n",
       "      <td>0.0</td>\n",
       "      <td>0.0</td>\n",
       "      <td>0.0</td>\n",
       "    </tr>\n",
       "    <tr>\n",
       "      <th>AGRN</th>\n",
       "      <td>0.085746</td>\n",
       "      <td>0.391127</td>\n",
       "      <td>0.424696</td>\n",
       "      <td>1.000000</td>\n",
       "      <td>0.005309</td>\n",
       "      <td>0.011848</td>\n",
       "      <td>0.002161</td>\n",
       "      <td>0.002535</td>\n",
       "      <td>0.005359</td>\n",
       "      <td>0.007012</td>\n",
       "      <td>...</td>\n",
       "      <td>0.0</td>\n",
       "      <td>0.0</td>\n",
       "      <td>0.0</td>\n",
       "      <td>0.0</td>\n",
       "      <td>0.0</td>\n",
       "      <td>0.0</td>\n",
       "      <td>0.0</td>\n",
       "      <td>0.0</td>\n",
       "      <td>0.0</td>\n",
       "      <td>0.0</td>\n",
       "    </tr>\n",
       "    <tr>\n",
       "      <th>TNFRSF18</th>\n",
       "      <td>0.006792</td>\n",
       "      <td>0.011695</td>\n",
       "      <td>0.013929</td>\n",
       "      <td>0.005309</td>\n",
       "      <td>1.000000</td>\n",
       "      <td>0.338085</td>\n",
       "      <td>0.550817</td>\n",
       "      <td>0.154394</td>\n",
       "      <td>0.193627</td>\n",
       "      <td>0.101004</td>\n",
       "      <td>...</td>\n",
       "      <td>0.0</td>\n",
       "      <td>0.0</td>\n",
       "      <td>0.0</td>\n",
       "      <td>0.0</td>\n",
       "      <td>0.0</td>\n",
       "      <td>0.0</td>\n",
       "      <td>0.0</td>\n",
       "      <td>0.0</td>\n",
       "      <td>0.0</td>\n",
       "      <td>0.0</td>\n",
       "    </tr>\n",
       "  </tbody>\n",
       "</table>\n",
       "<p>5 rows × 6443 columns</p>\n",
       "</div>"
      ],
      "text/plain": [
       "             NOC2L      HES4     ISG15      AGRN  TNFRSF18   TNFRSF4  \\\n",
       "NOC2L     1.000000  0.120590  0.177063  0.085746  0.006792  0.007685   \n",
       "HES4      0.120590  1.000000  0.672060  0.391127  0.011695  0.009275   \n",
       "ISG15     0.177063  0.672060  1.000000  0.424696  0.013929  0.013311   \n",
       "AGRN      0.085746  0.391127  0.424696  1.000000  0.005309  0.011848   \n",
       "TNFRSF18  0.006792  0.011695  0.013929  0.005309  1.000000  0.338085   \n",
       "\n",
       "           B3GALT6    UBE2J2     ACAP3    TAS1R3  ...  PLXNB2  ADM2  MIOX  \\\n",
       "NOC2L     0.004673  0.010734  0.011200  0.007529  ...     0.0   0.0   0.0   \n",
       "HES4      0.005970  0.007385  0.002641  0.004767  ...     0.0   0.0   0.0   \n",
       "ISG15     0.008466  0.010608  0.006689  0.011659  ...     0.0   0.0   0.0   \n",
       "AGRN      0.002161  0.002535  0.005359  0.007012  ...     0.0   0.0   0.0   \n",
       "TNFRSF18  0.550817  0.154394  0.193627  0.101004  ...     0.0   0.0   0.0   \n",
       "\n",
       "          SCO2  TYMP  CPT1B  CHKB  MAPK8IP2  ARSA  SHANK3  \n",
       "NOC2L      0.0   0.0    0.0   0.0       0.0   0.0     0.0  \n",
       "HES4       0.0   0.0    0.0   0.0       0.0   0.0     0.0  \n",
       "ISG15      0.0   0.0    0.0   0.0       0.0   0.0     0.0  \n",
       "AGRN       0.0   0.0    0.0   0.0       0.0   0.0     0.0  \n",
       "TNFRSF18   0.0   0.0    0.0   0.0       0.0   0.0     0.0  \n",
       "\n",
       "[5 rows x 6443 columns]"
      ]
     },
     "execution_count": 15,
     "metadata": {},
     "output_type": "execute_result"
    }
   ],
   "source": [
    "gene_corrs_dict[orig_corr_name].head()"
   ]
  },
  {
   "cell_type": "code",
   "execution_count": 16,
   "id": "4fb66ba4-9fd3-4dc5-9538-eadd5e9f81c7",
   "metadata": {
    "execution": {
     "iopub.execute_input": "2022-12-05T20:34:03.368279Z",
     "iopub.status.busy": "2022-12-05T20:34:03.368083Z",
     "iopub.status.idle": "2022-12-05T20:34:03.390454Z",
     "shell.execute_reply": "2022-12-05T20:34:03.390096Z"
    },
    "papermill": {
     "duration": 0.032614,
     "end_time": "2022-12-05T20:34:03.391857",
     "exception": false,
     "start_time": "2022-12-05T20:34:03.359243",
     "status": "completed"
    },
    "tags": []
   },
   "outputs": [],
   "source": [
    "current_index = gene_corrs_dict[orig_corr_name].index\n",
    "assert all(\n",
    "    [current_index.equals(gc.index) for k, gc in gene_corrs_dict.items()]\n",
    "), \"Correlation matrices are not compatible\""
   ]
  },
  {
   "cell_type": "markdown",
   "id": "46ae0b3e",
   "metadata": {
    "papermill": {
     "duration": 0.006261,
     "end_time": "2022-12-05T20:34:03.404747",
     "exception": false,
     "start_time": "2022-12-05T20:34:03.398486",
     "status": "completed"
    },
    "tags": []
   },
   "source": [
    "## MultiPLIER Z"
   ]
  },
  {
   "cell_type": "code",
   "execution_count": 17,
   "id": "d38d9749",
   "metadata": {
    "execution": {
     "iopub.execute_input": "2022-12-05T20:34:03.418339Z",
     "iopub.status.busy": "2022-12-05T20:34:03.417925Z",
     "iopub.status.idle": "2022-12-05T20:34:03.460724Z",
     "shell.execute_reply": "2022-12-05T20:34:03.460065Z"
    },
    "papermill": {
     "duration": 0.051199,
     "end_time": "2022-12-05T20:34:03.462026",
     "exception": false,
     "start_time": "2022-12-05T20:34:03.410827",
     "status": "completed"
    },
    "tags": []
   },
   "outputs": [],
   "source": [
    "multiplier_z = pd.read_pickle(conf.MULTIPLIER[\"MODEL_Z_MATRIX_FILE\"])"
   ]
  },
  {
   "cell_type": "code",
   "execution_count": 18,
   "id": "67e93797",
   "metadata": {
    "execution": {
     "iopub.execute_input": "2022-12-05T20:34:03.471374Z",
     "iopub.status.busy": "2022-12-05T20:34:03.471061Z",
     "iopub.status.idle": "2022-12-05T20:34:03.498282Z",
     "shell.execute_reply": "2022-12-05T20:34:03.497810Z"
    },
    "papermill": {
     "duration": 0.032988,
     "end_time": "2022-12-05T20:34:03.499248",
     "exception": false,
     "start_time": "2022-12-05T20:34:03.466260",
     "status": "completed"
    },
    "tags": []
   },
   "outputs": [
    {
     "data": {
      "text/plain": [
       "(6750, 987)"
      ]
     },
     "execution_count": 18,
     "metadata": {},
     "output_type": "execute_result"
    }
   ],
   "source": [
    "multiplier_z.shape"
   ]
  },
  {
   "cell_type": "code",
   "execution_count": 19,
   "id": "e1ba1ead",
   "metadata": {
    "execution": {
     "iopub.execute_input": "2022-12-05T20:34:03.508550Z",
     "iopub.status.busy": "2022-12-05T20:34:03.508364Z",
     "iopub.status.idle": "2022-12-05T20:34:03.544206Z",
     "shell.execute_reply": "2022-12-05T20:34:03.543722Z"
    },
    "papermill": {
     "duration": 0.041804,
     "end_time": "2022-12-05T20:34:03.545392",
     "exception": false,
     "start_time": "2022-12-05T20:34:03.503588",
     "status": "completed"
    },
    "tags": []
   },
   "outputs": [
    {
     "data": {
      "text/html": [
       "<div>\n",
       "<style scoped>\n",
       "    .dataframe tbody tr th:only-of-type {\n",
       "        vertical-align: middle;\n",
       "    }\n",
       "\n",
       "    .dataframe tbody tr th {\n",
       "        vertical-align: top;\n",
       "    }\n",
       "\n",
       "    .dataframe thead th {\n",
       "        text-align: right;\n",
       "    }\n",
       "</style>\n",
       "<table border=\"1\" class=\"dataframe\">\n",
       "  <thead>\n",
       "    <tr style=\"text-align: right;\">\n",
       "      <th></th>\n",
       "      <th>LV1</th>\n",
       "      <th>LV2</th>\n",
       "      <th>LV3</th>\n",
       "      <th>LV4</th>\n",
       "      <th>LV5</th>\n",
       "      <th>LV6</th>\n",
       "      <th>LV7</th>\n",
       "      <th>LV8</th>\n",
       "      <th>LV9</th>\n",
       "      <th>LV10</th>\n",
       "      <th>...</th>\n",
       "      <th>LV978</th>\n",
       "      <th>LV979</th>\n",
       "      <th>LV980</th>\n",
       "      <th>LV981</th>\n",
       "      <th>LV982</th>\n",
       "      <th>LV983</th>\n",
       "      <th>LV984</th>\n",
       "      <th>LV985</th>\n",
       "      <th>LV986</th>\n",
       "      <th>LV987</th>\n",
       "    </tr>\n",
       "  </thead>\n",
       "  <tbody>\n",
       "    <tr>\n",
       "      <th>GAS6</th>\n",
       "      <td>0.000000</td>\n",
       "      <td>0.0</td>\n",
       "      <td>0.039438</td>\n",
       "      <td>0.0</td>\n",
       "      <td>0.050476</td>\n",
       "      <td>0.000000</td>\n",
       "      <td>0.0</td>\n",
       "      <td>0.000000</td>\n",
       "      <td>0.590949</td>\n",
       "      <td>0.000000</td>\n",
       "      <td>...</td>\n",
       "      <td>0.050125</td>\n",
       "      <td>0.00000</td>\n",
       "      <td>0.033407</td>\n",
       "      <td>0.000000</td>\n",
       "      <td>0.000000</td>\n",
       "      <td>0.005963</td>\n",
       "      <td>0.347362</td>\n",
       "      <td>0.0</td>\n",
       "      <td>0.000000</td>\n",
       "      <td>0.000000</td>\n",
       "    </tr>\n",
       "    <tr>\n",
       "      <th>MMP14</th>\n",
       "      <td>0.000000</td>\n",
       "      <td>0.0</td>\n",
       "      <td>0.000000</td>\n",
       "      <td>0.0</td>\n",
       "      <td>0.070072</td>\n",
       "      <td>0.000000</td>\n",
       "      <td>0.0</td>\n",
       "      <td>0.004904</td>\n",
       "      <td>1.720179</td>\n",
       "      <td>2.423595</td>\n",
       "      <td>...</td>\n",
       "      <td>0.000000</td>\n",
       "      <td>0.00000</td>\n",
       "      <td>0.001007</td>\n",
       "      <td>0.000000</td>\n",
       "      <td>0.035747</td>\n",
       "      <td>0.000000</td>\n",
       "      <td>0.000000</td>\n",
       "      <td>0.0</td>\n",
       "      <td>0.014978</td>\n",
       "      <td>0.000000</td>\n",
       "    </tr>\n",
       "    <tr>\n",
       "      <th>DSP</th>\n",
       "      <td>0.000000</td>\n",
       "      <td>0.0</td>\n",
       "      <td>0.000000</td>\n",
       "      <td>0.0</td>\n",
       "      <td>0.000000</td>\n",
       "      <td>0.041697</td>\n",
       "      <td>0.0</td>\n",
       "      <td>0.005718</td>\n",
       "      <td>0.000000</td>\n",
       "      <td>0.000000</td>\n",
       "      <td>...</td>\n",
       "      <td>0.020853</td>\n",
       "      <td>0.00000</td>\n",
       "      <td>0.000000</td>\n",
       "      <td>0.000000</td>\n",
       "      <td>0.000000</td>\n",
       "      <td>0.005774</td>\n",
       "      <td>0.000000</td>\n",
       "      <td>0.0</td>\n",
       "      <td>0.000000</td>\n",
       "      <td>0.416405</td>\n",
       "    </tr>\n",
       "    <tr>\n",
       "      <th>MARCKSL1</th>\n",
       "      <td>0.305212</td>\n",
       "      <td>0.0</td>\n",
       "      <td>0.000000</td>\n",
       "      <td>0.0</td>\n",
       "      <td>0.000000</td>\n",
       "      <td>0.000000</td>\n",
       "      <td>0.0</td>\n",
       "      <td>0.000000</td>\n",
       "      <td>0.161843</td>\n",
       "      <td>0.149471</td>\n",
       "      <td>...</td>\n",
       "      <td>0.027134</td>\n",
       "      <td>0.05272</td>\n",
       "      <td>0.000000</td>\n",
       "      <td>0.030189</td>\n",
       "      <td>0.060884</td>\n",
       "      <td>0.000000</td>\n",
       "      <td>0.000000</td>\n",
       "      <td>0.0</td>\n",
       "      <td>0.000000</td>\n",
       "      <td>0.448480</td>\n",
       "    </tr>\n",
       "    <tr>\n",
       "      <th>SPARC</th>\n",
       "      <td>0.000000</td>\n",
       "      <td>0.0</td>\n",
       "      <td>0.000000</td>\n",
       "      <td>0.0</td>\n",
       "      <td>0.000000</td>\n",
       "      <td>0.000000</td>\n",
       "      <td>0.0</td>\n",
       "      <td>0.000000</td>\n",
       "      <td>0.000000</td>\n",
       "      <td>0.014014</td>\n",
       "      <td>...</td>\n",
       "      <td>0.000000</td>\n",
       "      <td>0.00000</td>\n",
       "      <td>0.000000</td>\n",
       "      <td>0.000000</td>\n",
       "      <td>0.000000</td>\n",
       "      <td>0.000000</td>\n",
       "      <td>0.067779</td>\n",
       "      <td>0.0</td>\n",
       "      <td>0.122417</td>\n",
       "      <td>0.062665</td>\n",
       "    </tr>\n",
       "  </tbody>\n",
       "</table>\n",
       "<p>5 rows × 987 columns</p>\n",
       "</div>"
      ],
      "text/plain": [
       "               LV1  LV2       LV3  LV4       LV5       LV6  LV7       LV8  \\\n",
       "GAS6      0.000000  0.0  0.039438  0.0  0.050476  0.000000  0.0  0.000000   \n",
       "MMP14     0.000000  0.0  0.000000  0.0  0.070072  0.000000  0.0  0.004904   \n",
       "DSP       0.000000  0.0  0.000000  0.0  0.000000  0.041697  0.0  0.005718   \n",
       "MARCKSL1  0.305212  0.0  0.000000  0.0  0.000000  0.000000  0.0  0.000000   \n",
       "SPARC     0.000000  0.0  0.000000  0.0  0.000000  0.000000  0.0  0.000000   \n",
       "\n",
       "               LV9      LV10  ...     LV978    LV979     LV980     LV981  \\\n",
       "GAS6      0.590949  0.000000  ...  0.050125  0.00000  0.033407  0.000000   \n",
       "MMP14     1.720179  2.423595  ...  0.000000  0.00000  0.001007  0.000000   \n",
       "DSP       0.000000  0.000000  ...  0.020853  0.00000  0.000000  0.000000   \n",
       "MARCKSL1  0.161843  0.149471  ...  0.027134  0.05272  0.000000  0.030189   \n",
       "SPARC     0.000000  0.014014  ...  0.000000  0.00000  0.000000  0.000000   \n",
       "\n",
       "             LV982     LV983     LV984  LV985     LV986     LV987  \n",
       "GAS6      0.000000  0.005963  0.347362    0.0  0.000000  0.000000  \n",
       "MMP14     0.035747  0.000000  0.000000    0.0  0.014978  0.000000  \n",
       "DSP       0.000000  0.005774  0.000000    0.0  0.000000  0.416405  \n",
       "MARCKSL1  0.060884  0.000000  0.000000    0.0  0.000000  0.448480  \n",
       "SPARC     0.000000  0.000000  0.067779    0.0  0.122417  0.062665  \n",
       "\n",
       "[5 rows x 987 columns]"
      ]
     },
     "execution_count": 19,
     "metadata": {},
     "output_type": "execute_result"
    }
   ],
   "source": [
    "multiplier_z.head()"
   ]
  },
  {
   "cell_type": "markdown",
   "id": "f4d4f177",
   "metadata": {
    "papermill": {
     "duration": 0.005873,
     "end_time": "2022-12-05T20:34:03.558828",
     "exception": false,
     "start_time": "2022-12-05T20:34:03.552955",
     "status": "completed"
    },
    "tags": []
   },
   "source": [
    "# Compute inverse correlation matrix for each LV"
   ]
  },
  {
   "cell_type": "code",
   "execution_count": 20,
   "id": "6f604dfc-91b4-4e2e-b848-6099fed0b44e",
   "metadata": {
    "execution": {
     "iopub.execute_input": "2022-12-05T20:34:03.568069Z",
     "iopub.status.busy": "2022-12-05T20:34:03.567907Z",
     "iopub.status.idle": "2022-12-05T20:34:03.586129Z",
     "shell.execute_reply": "2022-12-05T20:34:03.585744Z"
    },
    "papermill": {
     "duration": 0.024197,
     "end_time": "2022-12-05T20:34:03.587363",
     "exception": false,
     "start_time": "2022-12-05T20:34:03.563166",
     "status": "completed"
    },
    "tags": []
   },
   "outputs": [],
   "source": [
    "def exists_df(output_dir, base_filename):\n",
    "    full_filepath = output_dir / (base_filename + \".npz\")\n",
    "\n",
    "    return full_filepath.exists()"
   ]
  },
  {
   "cell_type": "code",
   "execution_count": 21,
   "id": "f5bd311e-e0f0-424e-8384-763f4bf7e21c",
   "metadata": {
    "execution": {
     "iopub.execute_input": "2022-12-05T20:34:03.602994Z",
     "iopub.status.busy": "2022-12-05T20:34:03.602860Z",
     "iopub.status.idle": "2022-12-05T20:34:03.620049Z",
     "shell.execute_reply": "2022-12-05T20:34:03.619675Z"
    },
    "papermill": {
     "duration": 0.026104,
     "end_time": "2022-12-05T20:34:03.621013",
     "exception": false,
     "start_time": "2022-12-05T20:34:03.594909",
     "status": "completed"
    },
    "tags": []
   },
   "outputs": [],
   "source": [
    "def store_df(output_dir, nparray, base_filename):\n",
    "    if base_filename in (\"metadata\", \"gene_names\"):\n",
    "        np.savez_compressed(output_dir / (base_filename + \".npz\"), data=nparray)\n",
    "    else:\n",
    "        sparse.save_npz(\n",
    "            output_dir / (base_filename + \".npz\"),\n",
    "            sparse.csc_matrix(nparray),\n",
    "            compressed=False,\n",
    "        )"
   ]
  },
  {
   "cell_type": "code",
   "execution_count": 22,
   "id": "3f6edd17-2654-4957-a592-361f74ec96df",
   "metadata": {
    "execution": {
     "iopub.execute_input": "2022-12-05T20:34:03.632893Z",
     "iopub.status.busy": "2022-12-05T20:34:03.632742Z",
     "iopub.status.idle": "2022-12-05T20:34:03.652107Z",
     "shell.execute_reply": "2022-12-05T20:34:03.651739Z"
    },
    "papermill": {
     "duration": 0.027818,
     "end_time": "2022-12-05T20:34:03.653182",
     "exception": false,
     "start_time": "2022-12-05T20:34:03.625364",
     "status": "completed"
    },
    "tags": []
   },
   "outputs": [],
   "source": [
    "def get_output_dir(gene_corr_filename):\n",
    "    path = OUTPUT_DIR_BASE / gene_corr_filename\n",
    "    assert path.exists()\n",
    "    return path.with_suffix(\".per_lv\")"
   ]
  },
  {
   "cell_type": "code",
   "execution_count": 23,
   "id": "39bf4643",
   "metadata": {
    "execution": {
     "iopub.execute_input": "2022-12-05T20:34:03.662680Z",
     "iopub.status.busy": "2022-12-05T20:34:03.662547Z",
     "iopub.status.idle": "2022-12-05T20:34:03.680227Z",
     "shell.execute_reply": "2022-12-05T20:34:03.679813Z"
    },
    "papermill": {
     "duration": 0.023655,
     "end_time": "2022-12-05T20:34:03.681301",
     "exception": false,
     "start_time": "2022-12-05T20:34:03.657646",
     "status": "completed"
    },
    "tags": []
   },
   "outputs": [],
   "source": [
    "def compute_chol_inv(lv_codes):\n",
    "    for gene_corr_filename, gene_corrs in gene_corrs_dict.items():\n",
    "        output_dir = get_output_dir(gene_corr_filename)\n",
    "        output_dir.mkdir(parents=True, exist_ok=True)\n",
    "        display(f\"Output dir: {str(output_dir)}\")\n",
    "\n",
    "        # save LV chol inverse\n",
    "        for lv_code in lv_codes:\n",
    "            lv_data = multiplier_z[lv_code]\n",
    "\n",
    "            corr_mat_sub = GLSPhenoplier.get_sub_mat(gene_corrs, lv_data, LV_PERCENTILE)\n",
    "            store_df(output_dir, corr_mat_sub.to_numpy(), f\"{lv_code}_corr_mat\")\n",
    "\n",
    "            chol_mat = np.linalg.cholesky(corr_mat_sub)\n",
    "            chol_inv = np.linalg.inv(chol_mat)\n",
    "\n",
    "            store_df(output_dir, chol_inv, lv_code)\n",
    "\n",
    "        # save metadata\n",
    "        if not exists_df(output_dir, \"metadata\"):\n",
    "            metadata = np.array([REFERENCE_PANEL, EQTL_MODEL])\n",
    "            store_df(output_dir, metadata, \"metadata\")\n",
    "        else:\n",
    "            display(\"Metadata file already exists\")\n",
    "\n",
    "        # save gene names\n",
    "        if not exists_df(output_dir, \"gene_names\"):\n",
    "            gene_names = np.array(gene_corrs.index.tolist())\n",
    "            store_df(output_dir, gene_names, \"gene_names\")\n",
    "        else:\n",
    "            display(\"Gene names file already exists\")"
   ]
  },
  {
   "cell_type": "code",
   "execution_count": 24,
   "id": "e605c772-15c3-43e0-850b-1bc81bef2dcc",
   "metadata": {
    "execution": {
     "iopub.execute_input": "2022-12-05T20:34:03.690901Z",
     "iopub.status.busy": "2022-12-05T20:34:03.690820Z",
     "iopub.status.idle": "2022-12-05T20:34:03.709659Z",
     "shell.execute_reply": "2022-12-05T20:34:03.709305Z"
    },
    "papermill": {
     "duration": 0.024333,
     "end_time": "2022-12-05T20:34:03.710480",
     "exception": false,
     "start_time": "2022-12-05T20:34:03.686147",
     "status": "completed"
    },
    "tags": []
   },
   "outputs": [
    {
     "data": {
      "text/plain": [
       "'LV_RANGE was given'"
      ]
     },
     "metadata": {},
     "output_type": "display_data"
    }
   ],
   "source": [
    "if LV_RANGE is None:\n",
    "    # divide LVs in chunks for parallel processing\n",
    "    display(\"LV_RANGE was not given\")\n",
    "\n",
    "    lvs_chunks = list(chunker(list(multiplier_z.columns), 50))\n",
    "else:\n",
    "    display(\"LV_RANGE was given\")\n",
    "    \n",
    "    assert \"-\" in LV_RANGE, \"LV_RANGE has no '-'\"\n",
    "    lv_min, lv_max = LV_RANGE.split(\"-\")\n",
    "    lv_min, lv_max = int(lv_min), int(lv_max)\n",
    "    assert lv_min <= lv_max, \"LV_RANGE is incorrect\"\n",
    "    \n",
    "    # create a single chunk in this case\n",
    "    lvs_chunks = [[f\"LV{i}\" for i in range(lv_min, lv_max + 1)]]"
   ]
  },
  {
   "cell_type": "code",
   "execution_count": 25,
   "id": "9553751f-ae2e-4911-af5a-c25ca8c25878",
   "metadata": {
    "execution": {
     "iopub.execute_input": "2022-12-05T20:34:03.720375Z",
     "iopub.status.busy": "2022-12-05T20:34:03.720229Z",
     "iopub.status.idle": "2022-12-05T20:34:03.739909Z",
     "shell.execute_reply": "2022-12-05T20:34:03.739559Z"
    },
    "papermill": {
     "duration": 0.025631,
     "end_time": "2022-12-05T20:34:03.740949",
     "exception": false,
     "start_time": "2022-12-05T20:34:03.715318",
     "status": "completed"
    },
    "tags": []
   },
   "outputs": [
    {
     "data": {
      "text/plain": [
       "'# of chunks: 1'"
      ]
     },
     "metadata": {},
     "output_type": "display_data"
    },
    {
     "data": {
      "text/plain": [
       "'# of LVs in each chunk: 50'"
      ]
     },
     "metadata": {},
     "output_type": "display_data"
    }
   ],
   "source": [
    "display(f\"# of chunks: {len(lvs_chunks)}\")\n",
    "display(f\"# of LVs in each chunk: {len(lvs_chunks[0])}\")"
   ]
  },
  {
   "cell_type": "code",
   "execution_count": 26,
   "id": "e2511bd6-73c2-4f92-9fb4-ee6ad5a2923f",
   "metadata": {
    "execution": {
     "iopub.execute_input": "2022-12-05T20:34:03.754554Z",
     "iopub.status.busy": "2022-12-05T20:34:03.754414Z",
     "iopub.status.idle": "2022-12-05T20:47:24.387314Z",
     "shell.execute_reply": "2022-12-05T20:47:24.386607Z"
    },
    "papermill": {
     "duration": 800.639649,
     "end_time": "2022-12-05T20:47:24.388510",
     "exception": false,
     "start_time": "2022-12-05T20:34:03.748861",
     "status": "completed"
    },
    "tags": []
   },
   "outputs": [
    {
     "name": "stderr",
     "output_type": "stream",
     "text": [
      "100%|████████████████████████████████████████████████████████████████| 1/1 [13:20<00:00, 800.59s/it]\n"
     ]
    }
   ],
   "source": [
    "with ProcessPoolExecutor(max_workers=N_JOBS) as executor, tqdm(\n",
    "    total=len(lvs_chunks), ncols=100\n",
    ") as pbar:\n",
    "    tasks = [executor.submit(compute_chol_inv, chunk) for chunk in lvs_chunks]\n",
    "    for future in as_completed(tasks):\n",
    "        res = future.result()\n",
    "        pbar.update(1)"
   ]
  },
  {
   "cell_type": "markdown",
   "id": "1169db4b-9af2-4d3c-a27a-198d7730fa67",
   "metadata": {
    "papermill": {
     "duration": 0.006667,
     "end_time": "2022-12-05T20:47:24.401992",
     "exception": false,
     "start_time": "2022-12-05T20:47:24.395325",
     "status": "completed"
    },
    "tags": []
   },
   "source": [
    "## Some checks"
   ]
  },
  {
   "cell_type": "code",
   "execution_count": 27,
   "id": "02e6758b-9e64-4829-bc64-ca0b08221d13",
   "metadata": {
    "execution": {
     "iopub.execute_input": "2022-12-05T20:47:24.417338Z",
     "iopub.status.busy": "2022-12-05T20:47:24.417001Z",
     "iopub.status.idle": "2022-12-05T20:47:24.445843Z",
     "shell.execute_reply": "2022-12-05T20:47:24.445210Z"
    },
    "papermill": {
     "duration": 0.038616,
     "end_time": "2022-12-05T20:47:24.448006",
     "exception": false,
     "start_time": "2022-12-05T20:47:24.409390",
     "status": "completed"
    },
    "tags": []
   },
   "outputs": [],
   "source": [
    "def load_df(output_dir, base_filename):\n",
    "    full_filepath = output_dir / (base_filename + \".npz\")\n",
    "\n",
    "    if base_filename in (\"metadata\", \"gene_names\"):\n",
    "        return np.load(full_filepath)[\"data\"]\n",
    "    else:\n",
    "        return sparse.load_npz(full_filepath).toarray()"
   ]
  },
  {
   "cell_type": "code",
   "execution_count": 28,
   "id": "38cf09b7",
   "metadata": {
    "execution": {
     "iopub.execute_input": "2022-12-05T20:47:24.474898Z",
     "iopub.status.busy": "2022-12-05T20:47:24.474636Z",
     "iopub.status.idle": "2022-12-05T20:47:24.503771Z",
     "shell.execute_reply": "2022-12-05T20:47:24.503090Z"
    },
    "papermill": {
     "duration": 0.044933,
     "end_time": "2022-12-05T20:47:24.505922",
     "exception": false,
     "start_time": "2022-12-05T20:47:24.460989",
     "status": "completed"
    },
    "tags": []
   },
   "outputs": [],
   "source": [
    "_genes = load_df(get_output_dir(orig_corr_name), \"gene_names\")"
   ]
  },
  {
   "cell_type": "code",
   "execution_count": 29,
   "id": "407e202b-5d10-47c5-b751-0d7b79fc32b7",
   "metadata": {
    "execution": {
     "iopub.execute_input": "2022-12-05T20:47:24.531530Z",
     "iopub.status.busy": "2022-12-05T20:47:24.531269Z",
     "iopub.status.idle": "2022-12-05T20:47:24.559246Z",
     "shell.execute_reply": "2022-12-05T20:47:24.558623Z"
    },
    "papermill": {
     "duration": 0.041008,
     "end_time": "2022-12-05T20:47:24.560333",
     "exception": false,
     "start_time": "2022-12-05T20:47:24.519325",
     "status": "completed"
    },
    "tags": []
   },
   "outputs": [
    {
     "data": {
      "text/plain": [
       "6443"
      ]
     },
     "metadata": {},
     "output_type": "display_data"
    }
   ],
   "source": [
    "display(len(_genes))\n",
    "assert len(_genes) == gene_corrs_dict[orig_corr_name].index.shape[0]"
   ]
  },
  {
   "cell_type": "code",
   "execution_count": 30,
   "id": "e66abf5b-ba1b-4f16-96a6-a48e9e7035cc",
   "metadata": {
    "execution": {
     "iopub.execute_input": "2022-12-05T20:47:24.571244Z",
     "iopub.status.busy": "2022-12-05T20:47:24.571058Z",
     "iopub.status.idle": "2022-12-05T20:47:24.587137Z",
     "shell.execute_reply": "2022-12-05T20:47:24.586790Z"
    },
    "papermill": {
     "duration": 0.022819,
     "end_time": "2022-12-05T20:47:24.588355",
     "exception": false,
     "start_time": "2022-12-05T20:47:24.565536",
     "status": "completed"
    },
    "tags": []
   },
   "outputs": [],
   "source": [
    "_metadata = load_df(get_output_dir(orig_corr_name), \"metadata\")"
   ]
  },
  {
   "cell_type": "code",
   "execution_count": 31,
   "id": "c4a58892-1b3f-414e-b5c3-da63a0f0e387",
   "metadata": {
    "execution": {
     "iopub.execute_input": "2022-12-05T20:47:24.599499Z",
     "iopub.status.busy": "2022-12-05T20:47:24.599364Z",
     "iopub.status.idle": "2022-12-05T20:47:24.615216Z",
     "shell.execute_reply": "2022-12-05T20:47:24.614879Z"
    },
    "papermill": {
     "duration": 0.022268,
     "end_time": "2022-12-05T20:47:24.616125",
     "exception": false,
     "start_time": "2022-12-05T20:47:24.593857",
     "status": "completed"
    },
    "tags": []
   },
   "outputs": [
    {
     "data": {
      "text/plain": [
       "array(['GTEX_V8', 'MASHR'], dtype='<U7')"
      ]
     },
     "metadata": {},
     "output_type": "display_data"
    }
   ],
   "source": [
    "display(_metadata)\n",
    "assert _metadata[0] == REFERENCE_PANEL\n",
    "assert _metadata[1] == EQTL_MODEL"
   ]
  },
  {
   "cell_type": "code",
   "execution_count": null,
   "id": "f02e1ec2-095a-4041-987a-bda1a33a9897",
   "metadata": {
    "papermill": {
     "duration": 0.007442,
     "end_time": "2022-12-05T20:47:24.629847",
     "exception": false,
     "start_time": "2022-12-05T20:47:24.622405",
     "status": "completed"
    },
    "tags": []
   },
   "outputs": [],
   "source": []
  }
 ],
 "metadata": {
  "jupytext": {
   "cell_metadata_filter": "all,-execution,-papermill,-trusted",
   "formats": "ipynb,py//py:percent"
  },
  "kernelspec": {
   "display_name": "Python 3 (ipykernel)",
   "language": "python",
   "name": "python3"
  },
  "language_info": {
   "codemirror_mode": {
    "name": "ipython",
    "version": 3
   },
   "file_extension": ".py",
   "mimetype": "text/x-python",
   "name": "python",
   "nbconvert_exporter": "python",
   "pygments_lexer": "ipython3",
   "version": "3.10.6"
  },
  "papermill": {
   "default_parameters": {},
   "duration": 803.898359,
   "end_time": "2022-12-05T20:47:25.054702",
   "environment_variables": {},
   "exception": null,
   "input_path": "projects/asthma-copd/nbs/20_gene_corrs/jobs/15-create_corr_mat_per_lv.ipynb",
   "output_path": "projects/asthma-copd/nbs/20_gene_corrs/jobs/../output/asthma_only/15-create_corr_mat_per_lv-51-100.run.ipynb",
   "parameters": {
    "COHORT_NAME": "asthma_only",
    "LV_PERCENTILE": "0.01",
    "LV_RANGE": "51-100",
    "OUTPUT_DIR_BASE": "/opt/data/projects/asthma-copd/results/gls_phenoplier",
    "PHENOPLIER_NOTEBOOK_FILEPATH": "projects/asthma-copd/nbs/20_gene_corrs/jobs/15-create_corr_mat_per_lv.ipynb"
   },
   "start_time": "2022-12-05T20:34:01.156343",
   "version": "2.2.2"
  }
 },
 "nbformat": 4,
 "nbformat_minor": 5
}
