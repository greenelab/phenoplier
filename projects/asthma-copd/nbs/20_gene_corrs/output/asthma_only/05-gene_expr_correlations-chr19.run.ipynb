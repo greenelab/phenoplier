{
 "cells": [
  {
   "cell_type": "markdown",
   "id": "7a6632fb",
   "metadata": {
    "papermill": {
     "duration": 0.008595,
     "end_time": "2022-12-05T16:57:08.923537",
     "exception": false,
     "start_time": "2022-12-05T16:57:08.914942",
     "status": "completed"
    },
    "tags": []
   },
   "source": [
    "# Description"
   ]
  },
  {
   "cell_type": "markdown",
   "id": "7097c346",
   "metadata": {
    "papermill": {
     "duration": 0.00811,
     "end_time": "2022-12-05T16:57:08.939567",
     "exception": false,
     "start_time": "2022-12-05T16:57:08.931457",
     "status": "completed"
    },
    "tags": []
   },
   "source": [
    "(Please, take a look at the README.md file in this directory for instructions on how to run this notebook)\n",
    "\n",
    "This notebook computes predicted expression correlations between all genes in the MultiPLIER models.\n",
    "\n",
    "It has specicfic parameters for papermill (see under `Settings` below).\n",
    "It can be configured to run on a single chromosome to run in parallel.\n",
    "\n",
    "This notebook is not directly run. See README.md."
   ]
  },
  {
   "cell_type": "markdown",
   "id": "c61d8427",
   "metadata": {
    "papermill": {
     "duration": 0.007291,
     "end_time": "2022-12-05T16:57:08.954129",
     "exception": false,
     "start_time": "2022-12-05T16:57:08.946838",
     "status": "completed"
    },
    "tags": []
   },
   "source": [
    "# Modules"
   ]
  },
  {
   "cell_type": "code",
   "execution_count": 1,
   "id": "bbc0234f",
   "metadata": {
    "execution": {
     "iopub.execute_input": "2022-12-05T16:57:08.971373Z",
     "iopub.status.busy": "2022-12-05T16:57:08.970956Z",
     "iopub.status.idle": "2022-12-05T16:57:08.985697Z",
     "shell.execute_reply": "2022-12-05T16:57:08.985257Z"
    },
    "papermill": {
     "duration": 0.024638,
     "end_time": "2022-12-05T16:57:08.986951",
     "exception": false,
     "start_time": "2022-12-05T16:57:08.962313",
     "status": "completed"
    },
    "tags": []
   },
   "outputs": [],
   "source": [
    "%load_ext autoreload\n",
    "%autoreload 2"
   ]
  },
  {
   "cell_type": "code",
   "execution_count": 2,
   "id": "1d5f5a59",
   "metadata": {
    "execution": {
     "iopub.execute_input": "2022-12-05T16:57:09.002931Z",
     "iopub.status.busy": "2022-12-05T16:57:09.002727Z",
     "iopub.status.idle": "2022-12-05T16:57:09.706522Z",
     "shell.execute_reply": "2022-12-05T16:57:09.706058Z"
    },
    "papermill": {
     "duration": 0.714611,
     "end_time": "2022-12-05T16:57:09.708335",
     "exception": false,
     "start_time": "2022-12-05T16:57:08.993724",
     "status": "completed"
    },
    "tags": []
   },
   "outputs": [],
   "source": [
    "from random import sample, seed\n",
    "import warnings\n",
    "from pathlib import Path\n",
    "import pickle\n",
    "import traceback\n",
    "\n",
    "import numpy as np\n",
    "from scipy.spatial.distance import squareform\n",
    "import pandas as pd\n",
    "from tqdm import tqdm\n",
    "import matplotlib.pyplot as plt\n",
    "import seaborn as sns\n",
    "\n",
    "import conf\n",
    "from entity import Gene"
   ]
  },
  {
   "cell_type": "markdown",
   "id": "1eac24b5",
   "metadata": {
    "papermill": {
     "duration": 0.010317,
     "end_time": "2022-12-05T16:57:09.727424",
     "exception": false,
     "start_time": "2022-12-05T16:57:09.717107",
     "status": "completed"
    },
    "tags": []
   },
   "source": [
    "# Settings"
   ]
  },
  {
   "cell_type": "code",
   "execution_count": 3,
   "id": "ca4560ba",
   "metadata": {
    "execution": {
     "iopub.execute_input": "2022-12-05T16:57:09.745884Z",
     "iopub.status.busy": "2022-12-05T16:57:09.745202Z",
     "iopub.status.idle": "2022-12-05T16:57:09.764434Z",
     "shell.execute_reply": "2022-12-05T16:57:09.763722Z"
    },
    "papermill": {
     "duration": 0.030015,
     "end_time": "2022-12-05T16:57:09.765871",
     "exception": false,
     "start_time": "2022-12-05T16:57:09.735856",
     "status": "completed"
    },
    "tags": [
     "parameters"
    ]
   },
   "outputs": [],
   "source": [
    "# a cohort name (it could be something like UK_BIOBANK, etc)\n",
    "COHORT_NAME = None\n",
    "\n",
    "# reference panel such as 1000G or GTEX_V8\n",
    "REFERENCE_PANEL = \"GTEX_V8\"\n",
    "\n",
    "# predictions models such as MASHR or ELASTIC_NET\n",
    "EQTL_MODEL = \"MASHR\"\n",
    "\n",
    "# this is the default value used in S-MultiXcan to select the\n",
    "# top principal components of the expression correlation matrix\n",
    "SMULTIXCAN_CONDITION_NUMBER = 30\n",
    "\n",
    "# specifies a single chromosome value\n",
    "CHROMOSOME = None\n",
    "\n",
    "# If True, computes the correlation between closeby genes only (see\n",
    "# entity.Gene.within_distance for more details). Otherwise, it computes\n",
    "# correlations for all genes in a chromosome\n",
    "COMPUTE_CORRELATIONS_WITHIN_DISTANCE = True\n",
    "\n",
    "# if True, then it will continue if a gene pair correlation fails,\n",
    "# printing the warning/error for debugging. If False, any warning/error\n",
    "# will be thrown\n",
    "DEBUG_MODE = False\n",
    "\n",
    "# output dir\n",
    "OUTPUT_DIR_BASE = None"
   ]
  },
  {
   "cell_type": "code",
   "execution_count": 4,
   "id": "b8146cc4",
   "metadata": {
    "execution": {
     "iopub.execute_input": "2022-12-05T16:57:09.783794Z",
     "iopub.status.busy": "2022-12-05T16:57:09.783403Z",
     "iopub.status.idle": "2022-12-05T16:57:09.805185Z",
     "shell.execute_reply": "2022-12-05T16:57:09.804612Z"
    },
    "papermill": {
     "duration": 0.032361,
     "end_time": "2022-12-05T16:57:09.806691",
     "exception": false,
     "start_time": "2022-12-05T16:57:09.774330",
     "status": "completed"
    },
    "tags": [
     "injected-parameters"
    ]
   },
   "outputs": [],
   "source": [
    "# Parameters\n",
    "PHENOPLIER_NOTEBOOK_FILEPATH = (\n",
    "    \"projects/asthma-copd/nbs/20_gene_corrs/jobs/05-gene_expr_correlations.ipynb\"\n",
    ")\n",
    "COHORT_NAME = \"asthma_only\"\n",
    "CHROMOSOME = 19\n",
    "OUTPUT_DIR_BASE = \"/opt/data/projects/asthma-copd/results/gls_phenoplier\"\n"
   ]
  },
  {
   "cell_type": "code",
   "execution_count": 5,
   "id": "3190631f-27fc-480f-b18e-571d580425a5",
   "metadata": {
    "execution": {
     "iopub.execute_input": "2022-12-05T16:57:09.825450Z",
     "iopub.status.busy": "2022-12-05T16:57:09.824975Z",
     "iopub.status.idle": "2022-12-05T16:57:09.853469Z",
     "shell.execute_reply": "2022-12-05T16:57:09.852946Z"
    },
    "papermill": {
     "duration": 0.039533,
     "end_time": "2022-12-05T16:57:09.854718",
     "exception": false,
     "start_time": "2022-12-05T16:57:09.815185",
     "status": "completed"
    },
    "tags": []
   },
   "outputs": [
    {
     "data": {
      "text/plain": [
       "'Cohort name: asthma_only'"
      ]
     },
     "metadata": {},
     "output_type": "display_data"
    }
   ],
   "source": [
    "assert COHORT_NAME is not None and len(COHORT_NAME) > 0, \"A cohort name must be given\"\n",
    "\n",
    "COHORT_NAME = COHORT_NAME.lower()\n",
    "display(f\"Cohort name: {COHORT_NAME}\")"
   ]
  },
  {
   "cell_type": "code",
   "execution_count": 6,
   "id": "f53ba19b-0f93-4fa2-a047-63b375939d1a",
   "metadata": {
    "execution": {
     "iopub.execute_input": "2022-12-05T16:57:09.872112Z",
     "iopub.status.busy": "2022-12-05T16:57:09.871890Z",
     "iopub.status.idle": "2022-12-05T16:57:09.894013Z",
     "shell.execute_reply": "2022-12-05T16:57:09.893613Z"
    },
    "papermill": {
     "duration": 0.032026,
     "end_time": "2022-12-05T16:57:09.895181",
     "exception": false,
     "start_time": "2022-12-05T16:57:09.863155",
     "status": "completed"
    },
    "tags": []
   },
   "outputs": [
    {
     "data": {
      "text/plain": [
       "'Reference panel: GTEX_V8'"
      ]
     },
     "metadata": {},
     "output_type": "display_data"
    }
   ],
   "source": [
    "assert (\n",
    "    REFERENCE_PANEL is not None and len(REFERENCE_PANEL) > 0\n",
    "), \"A reference panel must be given\"\n",
    "\n",
    "display(f\"Reference panel: {REFERENCE_PANEL}\")"
   ]
  },
  {
   "cell_type": "code",
   "execution_count": 7,
   "id": "e024d130-c139-429a-9c6e-ccf149e297b0",
   "metadata": {
    "execution": {
     "iopub.execute_input": "2022-12-05T16:57:09.912247Z",
     "iopub.status.busy": "2022-12-05T16:57:09.912032Z",
     "iopub.status.idle": "2022-12-05T16:57:09.933401Z",
     "shell.execute_reply": "2022-12-05T16:57:09.932980Z"
    },
    "papermill": {
     "duration": 0.031396,
     "end_time": "2022-12-05T16:57:09.934584",
     "exception": false,
     "start_time": "2022-12-05T16:57:09.903188",
     "status": "completed"
    },
    "tags": []
   },
   "outputs": [
    {
     "data": {
      "text/plain": [
       "'eQTL model: MASHR) / mashr_'"
      ]
     },
     "metadata": {},
     "output_type": "display_data"
    }
   ],
   "source": [
    "assert (\n",
    "    EQTL_MODEL is not None and len(EQTL_MODEL) > 0\n",
    "), \"A prediction/eQTL model must be given\"\n",
    "\n",
    "EQTL_MODEL_FILES_PREFIX = conf.PHENOMEXCAN[\"PREDICTION_MODELS\"][f\"{EQTL_MODEL}_PREFIX\"]\n",
    "display(f\"eQTL model: {EQTL_MODEL}) / {EQTL_MODEL_FILES_PREFIX}\")"
   ]
  },
  {
   "cell_type": "code",
   "execution_count": 8,
   "id": "552a7f63-a18c-4d3e-bb6a-94f99b431291",
   "metadata": {
    "execution": {
     "iopub.execute_input": "2022-12-05T16:57:09.951543Z",
     "iopub.status.busy": "2022-12-05T16:57:09.951163Z",
     "iopub.status.idle": "2022-12-05T16:57:09.972081Z",
     "shell.execute_reply": "2022-12-05T16:57:09.971663Z"
    },
    "papermill": {
     "duration": 0.031142,
     "end_time": "2022-12-05T16:57:09.973283",
     "exception": false,
     "start_time": "2022-12-05T16:57:09.942141",
     "status": "completed"
    },
    "tags": []
   },
   "outputs": [
    {
     "data": {
      "text/plain": [
       "'S-MultiXcan condition number: 30'"
      ]
     },
     "metadata": {},
     "output_type": "display_data"
    }
   ],
   "source": [
    "assert (\n",
    "    SMULTIXCAN_CONDITION_NUMBER is not None and SMULTIXCAN_CONDITION_NUMBER > 0\n",
    "), \"The S-MultiXcan condition number (positive integer) must be given\"\n",
    "\n",
    "display(f\"S-MultiXcan condition number: {SMULTIXCAN_CONDITION_NUMBER}\")"
   ]
  },
  {
   "cell_type": "code",
   "execution_count": 9,
   "id": "f34a336f-548e-4afe-8955-90eaea4f42c6",
   "metadata": {
    "execution": {
     "iopub.execute_input": "2022-12-05T16:57:09.991874Z",
     "iopub.status.busy": "2022-12-05T16:57:09.991406Z",
     "iopub.status.idle": "2022-12-05T16:57:10.013530Z",
     "shell.execute_reply": "2022-12-05T16:57:10.013024Z"
    },
    "papermill": {
     "duration": 0.033061,
     "end_time": "2022-12-05T16:57:10.014620",
     "exception": false,
     "start_time": "2022-12-05T16:57:09.981559",
     "status": "completed"
    },
    "tags": []
   },
   "outputs": [
    {
     "data": {
      "text/plain": [
       "'Working on chromosome 19'"
      ]
     },
     "metadata": {},
     "output_type": "display_data"
    }
   ],
   "source": [
    "assert CHROMOSOME is not None and (\n",
    "    1 <= CHROMOSOME <= 22\n",
    "), \"You have to select one chromosome (format: number between 1 and 22)\"\n",
    "\n",
    "display(f\"Working on chromosome {CHROMOSOME}\")"
   ]
  },
  {
   "cell_type": "code",
   "execution_count": 10,
   "id": "ab8e96e8-06b5-4363-9dcd-dc4d78cc27f7",
   "metadata": {
    "execution": {
     "iopub.execute_input": "2022-12-05T16:57:10.032303Z",
     "iopub.status.busy": "2022-12-05T16:57:10.032086Z",
     "iopub.status.idle": "2022-12-05T16:57:10.053432Z",
     "shell.execute_reply": "2022-12-05T16:57:10.052945Z"
    },
    "papermill": {
     "duration": 0.031804,
     "end_time": "2022-12-05T16:57:10.054650",
     "exception": false,
     "start_time": "2022-12-05T16:57:10.022846",
     "status": "completed"
    },
    "tags": []
   },
   "outputs": [
    {
     "data": {
      "text/plain": [
       "'Compute correlation within distance True'"
      ]
     },
     "metadata": {},
     "output_type": "display_data"
    }
   ],
   "source": [
    "display(f\"Compute correlation within distance {COMPUTE_CORRELATIONS_WITHIN_DISTANCE}\")"
   ]
  },
  {
   "cell_type": "code",
   "execution_count": 11,
   "id": "b393b698-77e3-4ba2-8ac1-e14d51aa988f",
   "metadata": {
    "execution": {
     "iopub.execute_input": "2022-12-05T16:57:10.072351Z",
     "iopub.status.busy": "2022-12-05T16:57:10.072130Z",
     "iopub.status.idle": "2022-12-05T16:57:10.094581Z",
     "shell.execute_reply": "2022-12-05T16:57:10.094087Z"
    },
    "papermill": {
     "duration": 0.032525,
     "end_time": "2022-12-05T16:57:10.095821",
     "exception": false,
     "start_time": "2022-12-05T16:57:10.063296",
     "status": "completed"
    },
    "tags": []
   },
   "outputs": [
    {
     "data": {
      "text/plain": [
       "'Using output dir base: /opt/data/projects/asthma-copd/results/gls_phenoplier/gene_corrs/asthma_only'"
      ]
     },
     "metadata": {},
     "output_type": "display_data"
    }
   ],
   "source": [
    "assert (\n",
    "    OUTPUT_DIR_BASE is not None and len(OUTPUT_DIR_BASE) > 0\n",
    "), \"Output directory path must be given\"\n",
    "\n",
    "OUTPUT_DIR_BASE = (Path(OUTPUT_DIR_BASE) / \"gene_corrs\" / COHORT_NAME).resolve()\n",
    "\n",
    "OUTPUT_DIR_BASE.mkdir(parents=True, exist_ok=True)\n",
    "\n",
    "display(f\"Using output dir base: {OUTPUT_DIR_BASE}\")"
   ]
  },
  {
   "cell_type": "markdown",
   "id": "d2ba085e",
   "metadata": {
    "papermill": {
     "duration": 0.008738,
     "end_time": "2022-12-05T16:57:10.113716",
     "exception": false,
     "start_time": "2022-12-05T16:57:10.104978",
     "status": "completed"
    },
    "tags": []
   },
   "source": [
    "# Load data"
   ]
  },
  {
   "cell_type": "markdown",
   "id": "7dcb8db7",
   "metadata": {
    "papermill": {
     "duration": 0.007662,
     "end_time": "2022-12-05T16:57:10.130156",
     "exception": false,
     "start_time": "2022-12-05T16:57:10.122494",
     "status": "completed"
    },
    "tags": []
   },
   "source": [
    "## GWAS variants"
   ]
  },
  {
   "cell_type": "code",
   "execution_count": 12,
   "id": "29434c4e-8cd3-4b9b-82e4-b5a251d9dd19",
   "metadata": {
    "execution": {
     "iopub.execute_input": "2022-12-05T16:57:10.140644Z",
     "iopub.status.busy": "2022-12-05T16:57:10.140424Z",
     "iopub.status.idle": "2022-12-05T16:57:12.564258Z",
     "shell.execute_reply": "2022-12-05T16:57:12.563868Z"
    },
    "papermill": {
     "duration": 2.431094,
     "end_time": "2022-12-05T16:57:12.565941",
     "exception": false,
     "start_time": "2022-12-05T16:57:10.134847",
     "status": "completed"
    },
    "tags": []
   },
   "outputs": [],
   "source": [
    "with open(OUTPUT_DIR_BASE / \"gwas_variant_ids.pkl\", \"rb\") as handle:\n",
    "    gwas_variants_ids_set = pickle.load(handle)"
   ]
  },
  {
   "cell_type": "code",
   "execution_count": 13,
   "id": "b9d9dec2-4a76-4bf9-bde2-e24c95acb8a0",
   "metadata": {
    "execution": {
     "iopub.execute_input": "2022-12-05T16:57:12.584988Z",
     "iopub.status.busy": "2022-12-05T16:57:12.584868Z",
     "iopub.status.idle": "2022-12-05T16:57:12.599070Z",
     "shell.execute_reply": "2022-12-05T16:57:12.598711Z"
    },
    "papermill": {
     "duration": 0.025881,
     "end_time": "2022-12-05T16:57:12.600261",
     "exception": false,
     "start_time": "2022-12-05T16:57:12.574380",
     "status": "completed"
    },
    "tags": []
   },
   "outputs": [
    {
     "data": {
      "text/plain": [
       "8578486"
      ]
     },
     "execution_count": 13,
     "metadata": {},
     "output_type": "execute_result"
    }
   ],
   "source": [
    "len(gwas_variants_ids_set)"
   ]
  },
  {
   "cell_type": "code",
   "execution_count": 14,
   "id": "4235b06a-6034-4ee4-a0a3-2ae35d122418",
   "metadata": {
    "execution": {
     "iopub.execute_input": "2022-12-05T16:57:12.616486Z",
     "iopub.status.busy": "2022-12-05T16:57:12.616357Z",
     "iopub.status.idle": "2022-12-05T16:57:13.596980Z",
     "shell.execute_reply": "2022-12-05T16:57:13.596518Z"
    },
    "papermill": {
     "duration": 0.989742,
     "end_time": "2022-12-05T16:57:13.598226",
     "exception": false,
     "start_time": "2022-12-05T16:57:12.608484",
     "status": "completed"
    },
    "tags": []
   },
   "outputs": [
    {
     "data": {
      "text/plain": [
       "['chr22_17521714_T_G_b38',\n",
       " 'chr17_36683418_G_A_b38',\n",
       " 'chr4_39480363_C_G_b38',\n",
       " 'chr5_40950706_A_G_b38',\n",
       " 'chr9_100828459_T_C_b38']"
      ]
     },
     "execution_count": 14,
     "metadata": {},
     "output_type": "execute_result"
    }
   ],
   "source": [
    "list(gwas_variants_ids_set)[:5]"
   ]
  },
  {
   "cell_type": "markdown",
   "id": "07866999-2305-41f9-a144-e69c9122c212",
   "metadata": {
    "papermill": {
     "duration": 0.008462,
     "end_time": "2022-12-05T16:57:13.615956",
     "exception": false,
     "start_time": "2022-12-05T16:57:13.607494",
     "status": "completed"
    },
    "tags": []
   },
   "source": [
    "## S-PrediXcan tissue models"
   ]
  },
  {
   "cell_type": "code",
   "execution_count": 15,
   "id": "780611d9-77c8-405f-90a4-f271f7b09397",
   "metadata": {
    "execution": {
     "iopub.execute_input": "2022-12-05T16:57:13.630381Z",
     "iopub.status.busy": "2022-12-05T16:57:13.630262Z",
     "iopub.status.idle": "2022-12-05T16:57:14.114612Z",
     "shell.execute_reply": "2022-12-05T16:57:14.114120Z"
    },
    "papermill": {
     "duration": 0.49181,
     "end_time": "2022-12-05T16:57:14.116442",
     "exception": false,
     "start_time": "2022-12-05T16:57:13.624632",
     "status": "completed"
    },
    "tags": []
   },
   "outputs": [],
   "source": [
    "spredixcan_genes_models = pd.read_pickle(OUTPUT_DIR_BASE / \"gene_tissues.pkl\")"
   ]
  },
  {
   "cell_type": "code",
   "execution_count": 16,
   "id": "726dd1f6-9557-4225-91fa-b3b879ea96e1",
   "metadata": {
    "execution": {
     "iopub.execute_input": "2022-12-05T16:57:14.137765Z",
     "iopub.status.busy": "2022-12-05T16:57:14.137631Z",
     "iopub.status.idle": "2022-12-05T16:57:14.152185Z",
     "shell.execute_reply": "2022-12-05T16:57:14.151823Z"
    },
    "papermill": {
     "duration": 0.026571,
     "end_time": "2022-12-05T16:57:14.153554",
     "exception": false,
     "start_time": "2022-12-05T16:57:14.126983",
     "status": "completed"
    },
    "tags": []
   },
   "outputs": [
    {
     "data": {
      "text/plain": [
       "(6443, 5)"
      ]
     },
     "execution_count": 16,
     "metadata": {},
     "output_type": "execute_result"
    }
   ],
   "source": [
    "spredixcan_genes_models.shape"
   ]
  },
  {
   "cell_type": "code",
   "execution_count": 17,
   "id": "944a1b48-222c-4eb0-b252-b9de2cbca215",
   "metadata": {
    "execution": {
     "iopub.execute_input": "2022-12-05T16:57:14.173526Z",
     "iopub.status.busy": "2022-12-05T16:57:14.173402Z",
     "iopub.status.idle": "2022-12-05T16:57:14.198917Z",
     "shell.execute_reply": "2022-12-05T16:57:14.198435Z"
    },
    "papermill": {
     "duration": 0.037064,
     "end_time": "2022-12-05T16:57:14.200375",
     "exception": false,
     "start_time": "2022-12-05T16:57:14.163311",
     "status": "completed"
    },
    "tags": []
   },
   "outputs": [
    {
     "data": {
      "text/html": [
       "<div>\n",
       "<style scoped>\n",
       "    .dataframe tbody tr th:only-of-type {\n",
       "        vertical-align: middle;\n",
       "    }\n",
       "\n",
       "    .dataframe tbody tr th {\n",
       "        vertical-align: top;\n",
       "    }\n",
       "\n",
       "    .dataframe thead th {\n",
       "        text-align: right;\n",
       "    }\n",
       "</style>\n",
       "<table border=\"1\" class=\"dataframe\">\n",
       "  <thead>\n",
       "    <tr style=\"text-align: right;\">\n",
       "      <th></th>\n",
       "      <th>gene_name</th>\n",
       "      <th>tissue</th>\n",
       "      <th>n_tissues</th>\n",
       "      <th>n_snps_used_sum</th>\n",
       "      <th>n_snps_in_model_sum</th>\n",
       "    </tr>\n",
       "    <tr>\n",
       "      <th>gene_id</th>\n",
       "      <th></th>\n",
       "      <th></th>\n",
       "      <th></th>\n",
       "      <th></th>\n",
       "      <th></th>\n",
       "    </tr>\n",
       "  </thead>\n",
       "  <tbody>\n",
       "    <tr>\n",
       "      <th>ENSG00000000419</th>\n",
       "      <td>DPM1</td>\n",
       "      <td>(Brain_Substantia_nigra, Brain_Hypothalamus)</td>\n",
       "      <td>2</td>\n",
       "      <td>2</td>\n",
       "      <td>2</td>\n",
       "    </tr>\n",
       "    <tr>\n",
       "      <th>ENSG00000000938</th>\n",
       "      <td>FGR</td>\n",
       "      <td>(Whole_Blood, Brain_Frontal_Cortex_BA9, Prosta...</td>\n",
       "      <td>36</td>\n",
       "      <td>40</td>\n",
       "      <td>40</td>\n",
       "    </tr>\n",
       "    <tr>\n",
       "      <th>ENSG00000000971</th>\n",
       "      <td>CFH</td>\n",
       "      <td>(Whole_Blood, Heart_Atrial_Appendage, Brain_Fr...</td>\n",
       "      <td>34</td>\n",
       "      <td>44</td>\n",
       "      <td>44</td>\n",
       "    </tr>\n",
       "    <tr>\n",
       "      <th>ENSG00000001084</th>\n",
       "      <td>GCLC</td>\n",
       "      <td>(Whole_Blood, Heart_Atrial_Appendage, Brain_Fr...</td>\n",
       "      <td>32</td>\n",
       "      <td>46</td>\n",
       "      <td>46</td>\n",
       "    </tr>\n",
       "    <tr>\n",
       "      <th>ENSG00000001167</th>\n",
       "      <td>NFYA</td>\n",
       "      <td>(Whole_Blood, Heart_Atrial_Appendage, Prostate...</td>\n",
       "      <td>40</td>\n",
       "      <td>47</td>\n",
       "      <td>48</td>\n",
       "    </tr>\n",
       "  </tbody>\n",
       "</table>\n",
       "</div>"
      ],
      "text/plain": [
       "                gene_name                                             tissue  \\\n",
       "gene_id                                                                        \n",
       "ENSG00000000419      DPM1       (Brain_Substantia_nigra, Brain_Hypothalamus)   \n",
       "ENSG00000000938       FGR  (Whole_Blood, Brain_Frontal_Cortex_BA9, Prosta...   \n",
       "ENSG00000000971       CFH  (Whole_Blood, Heart_Atrial_Appendage, Brain_Fr...   \n",
       "ENSG00000001084      GCLC  (Whole_Blood, Heart_Atrial_Appendage, Brain_Fr...   \n",
       "ENSG00000001167      NFYA  (Whole_Blood, Heart_Atrial_Appendage, Prostate...   \n",
       "\n",
       "                 n_tissues  n_snps_used_sum  n_snps_in_model_sum  \n",
       "gene_id                                                           \n",
       "ENSG00000000419          2                2                    2  \n",
       "ENSG00000000938         36               40                   40  \n",
       "ENSG00000000971         34               44                   44  \n",
       "ENSG00000001084         32               46                   46  \n",
       "ENSG00000001167         40               47                   48  "
      ]
     },
     "execution_count": 17,
     "metadata": {},
     "output_type": "execute_result"
    }
   ],
   "source": [
    "spredixcan_genes_models.head()"
   ]
  },
  {
   "cell_type": "code",
   "execution_count": 18,
   "id": "d1c11bb1-be0b-4f40-b360-633d6827109f",
   "metadata": {
    "execution": {
     "iopub.execute_input": "2022-12-05T16:57:14.221851Z",
     "iopub.status.busy": "2022-12-05T16:57:14.221480Z",
     "iopub.status.idle": "2022-12-05T16:57:14.241250Z",
     "shell.execute_reply": "2022-12-05T16:57:14.240706Z"
    },
    "papermill": {
     "duration": 0.031814,
     "end_time": "2022-12-05T16:57:14.242841",
     "exception": false,
     "start_time": "2022-12-05T16:57:14.211027",
     "status": "completed"
    },
    "tags": []
   },
   "outputs": [],
   "source": [
    "assert spredixcan_genes_models.index.is_unique"
   ]
  },
  {
   "cell_type": "markdown",
   "id": "a5b5092c-a13e-47c4-a92a-480fcc08f3ae",
   "metadata": {
    "papermill": {
     "duration": 0.010167,
     "end_time": "2022-12-05T16:57:14.262921",
     "exception": false,
     "start_time": "2022-12-05T16:57:14.252754",
     "status": "completed"
    },
    "tags": []
   },
   "source": [
    "## Gene info"
   ]
  },
  {
   "cell_type": "code",
   "execution_count": 19,
   "id": "7d6bb224-88e9-4358-ac10-43a41d92cdad",
   "metadata": {
    "execution": {
     "iopub.execute_input": "2022-12-05T16:57:14.283852Z",
     "iopub.status.busy": "2022-12-05T16:57:14.283467Z",
     "iopub.status.idle": "2022-12-05T16:57:14.308957Z",
     "shell.execute_reply": "2022-12-05T16:57:14.308390Z"
    },
    "papermill": {
     "duration": 0.037691,
     "end_time": "2022-12-05T16:57:14.310468",
     "exception": false,
     "start_time": "2022-12-05T16:57:14.272777",
     "status": "completed"
    },
    "tags": []
   },
   "outputs": [],
   "source": [
    "genes_info = pd.read_pickle(OUTPUT_DIR_BASE / \"genes_info.pkl\")"
   ]
  },
  {
   "cell_type": "code",
   "execution_count": 20,
   "id": "9e32abfa-546d-483e-8c18-d526e9e05903",
   "metadata": {
    "execution": {
     "iopub.execute_input": "2022-12-05T16:57:14.332229Z",
     "iopub.status.busy": "2022-12-05T16:57:14.331838Z",
     "iopub.status.idle": "2022-12-05T16:57:14.352393Z",
     "shell.execute_reply": "2022-12-05T16:57:14.351930Z"
    },
    "papermill": {
     "duration": 0.033145,
     "end_time": "2022-12-05T16:57:14.353861",
     "exception": false,
     "start_time": "2022-12-05T16:57:14.320716",
     "status": "completed"
    },
    "tags": []
   },
   "outputs": [
    {
     "data": {
      "text/plain": [
       "(6443, 7)"
      ]
     },
     "execution_count": 20,
     "metadata": {},
     "output_type": "execute_result"
    }
   ],
   "source": [
    "genes_info.shape"
   ]
  },
  {
   "cell_type": "code",
   "execution_count": 21,
   "id": "d16c3e92-85ec-468a-9a56-e25a9774a1cb",
   "metadata": {
    "execution": {
     "iopub.execute_input": "2022-12-05T16:57:14.375071Z",
     "iopub.status.busy": "2022-12-05T16:57:14.374692Z",
     "iopub.status.idle": "2022-12-05T16:57:14.397908Z",
     "shell.execute_reply": "2022-12-05T16:57:14.397435Z"
    },
    "papermill": {
     "duration": 0.035203,
     "end_time": "2022-12-05T16:57:14.399298",
     "exception": false,
     "start_time": "2022-12-05T16:57:14.364095",
     "status": "completed"
    },
    "tags": []
   },
   "outputs": [
    {
     "data": {
      "text/html": [
       "<div>\n",
       "<style scoped>\n",
       "    .dataframe tbody tr th:only-of-type {\n",
       "        vertical-align: middle;\n",
       "    }\n",
       "\n",
       "    .dataframe tbody tr th {\n",
       "        vertical-align: top;\n",
       "    }\n",
       "\n",
       "    .dataframe thead th {\n",
       "        text-align: right;\n",
       "    }\n",
       "</style>\n",
       "<table border=\"1\" class=\"dataframe\">\n",
       "  <thead>\n",
       "    <tr style=\"text-align: right;\">\n",
       "      <th></th>\n",
       "      <th>name</th>\n",
       "      <th>id</th>\n",
       "      <th>chr</th>\n",
       "      <th>band</th>\n",
       "      <th>start_position</th>\n",
       "      <th>end_position</th>\n",
       "      <th>gene_length</th>\n",
       "    </tr>\n",
       "  </thead>\n",
       "  <tbody>\n",
       "    <tr>\n",
       "      <th>0</th>\n",
       "      <td>MRPL44</td>\n",
       "      <td>ENSG00000135900</td>\n",
       "      <td>2</td>\n",
       "      <td>2q36.1</td>\n",
       "      <td>223957463</td>\n",
       "      <td>223967714</td>\n",
       "      <td>10251</td>\n",
       "    </tr>\n",
       "    <tr>\n",
       "      <th>1</th>\n",
       "      <td>H1FX</td>\n",
       "      <td>ENSG00000184897</td>\n",
       "      <td>3</td>\n",
       "      <td>3q21.3</td>\n",
       "      <td>129314771</td>\n",
       "      <td>129316286</td>\n",
       "      <td>1515</td>\n",
       "    </tr>\n",
       "    <tr>\n",
       "      <th>2</th>\n",
       "      <td>AGRN</td>\n",
       "      <td>ENSG00000188157</td>\n",
       "      <td>1</td>\n",
       "      <td>1p36.33</td>\n",
       "      <td>1020120</td>\n",
       "      <td>1056118</td>\n",
       "      <td>35998</td>\n",
       "    </tr>\n",
       "    <tr>\n",
       "      <th>3</th>\n",
       "      <td>DNAJB2</td>\n",
       "      <td>ENSG00000135924</td>\n",
       "      <td>2</td>\n",
       "      <td>2q35</td>\n",
       "      <td>219279267</td>\n",
       "      <td>219286900</td>\n",
       "      <td>7633</td>\n",
       "    </tr>\n",
       "    <tr>\n",
       "      <th>4</th>\n",
       "      <td>PISD</td>\n",
       "      <td>ENSG00000241878</td>\n",
       "      <td>22</td>\n",
       "      <td>22q12.2</td>\n",
       "      <td>31618491</td>\n",
       "      <td>31662432</td>\n",
       "      <td>43941</td>\n",
       "    </tr>\n",
       "  </tbody>\n",
       "</table>\n",
       "</div>"
      ],
      "text/plain": [
       "     name               id  chr     band  start_position  end_position  \\\n",
       "0  MRPL44  ENSG00000135900    2   2q36.1       223957463     223967714   \n",
       "1    H1FX  ENSG00000184897    3   3q21.3       129314771     129316286   \n",
       "2    AGRN  ENSG00000188157    1  1p36.33         1020120       1056118   \n",
       "3  DNAJB2  ENSG00000135924    2     2q35       219279267     219286900   \n",
       "4    PISD  ENSG00000241878   22  22q12.2        31618491      31662432   \n",
       "\n",
       "   gene_length  \n",
       "0        10251  \n",
       "1         1515  \n",
       "2        35998  \n",
       "3         7633  \n",
       "4        43941  "
      ]
     },
     "execution_count": 21,
     "metadata": {},
     "output_type": "execute_result"
    }
   ],
   "source": [
    "genes_info.head()"
   ]
  },
  {
   "cell_type": "markdown",
   "id": "d3843e06",
   "metadata": {
    "papermill": {
     "duration": 0.010827,
     "end_time": "2022-12-05T16:57:14.420575",
     "exception": false,
     "start_time": "2022-12-05T16:57:14.409748",
     "status": "completed"
    },
    "tags": []
   },
   "source": [
    "# Compute correlations"
   ]
  },
  {
   "cell_type": "code",
   "execution_count": 22,
   "id": "cb859c15-d1f3-4006-a74c-2b83c0db9611",
   "metadata": {
    "execution": {
     "iopub.execute_input": "2022-12-05T16:57:14.442248Z",
     "iopub.status.busy": "2022-12-05T16:57:14.441868Z",
     "iopub.status.idle": "2022-12-05T16:57:14.462657Z",
     "shell.execute_reply": "2022-12-05T16:57:14.462160Z"
    },
    "papermill": {
     "duration": 0.033325,
     "end_time": "2022-12-05T16:57:14.464217",
     "exception": false,
     "start_time": "2022-12-05T16:57:14.430892",
     "status": "completed"
    },
    "tags": []
   },
   "outputs": [
    {
     "data": {
      "text/plain": [
       "PosixPath('/opt/data/projects/asthma-copd/results/gls_phenoplier/gene_corrs/asthma_only/by_chr/gene_corrs-chr19.pkl')"
      ]
     },
     "metadata": {},
     "output_type": "display_data"
    }
   ],
   "source": [
    "output_dir = OUTPUT_DIR_BASE / \"by_chr\"\n",
    "output_dir.mkdir(exist_ok=True, parents=True)\n",
    "output_file = output_dir / f\"gene_corrs-chr{CHROMOSOME}.pkl\"\n",
    "display(output_file)"
   ]
  },
  {
   "cell_type": "code",
   "execution_count": 23,
   "id": "aa674fe4-6794-4eed-98fa-32b39d1d4ace",
   "metadata": {
    "execution": {
     "iopub.execute_input": "2022-12-05T16:57:14.488033Z",
     "iopub.status.busy": "2022-12-05T16:57:14.487625Z",
     "iopub.status.idle": "2022-12-05T16:57:14.506823Z",
     "shell.execute_reply": "2022-12-05T16:57:14.506356Z"
    },
    "papermill": {
     "duration": 0.032341,
     "end_time": "2022-12-05T16:57:14.508560",
     "exception": false,
     "start_time": "2022-12-05T16:57:14.476219",
     "status": "completed"
    },
    "tags": []
   },
   "outputs": [],
   "source": [
    "warnings.filterwarnings(\"error\")"
   ]
  },
  {
   "cell_type": "code",
   "execution_count": 24,
   "id": "44d5450b-3baf-43f1-9e2e-4b06f1a785f8",
   "metadata": {
    "execution": {
     "iopub.execute_input": "2022-12-05T16:57:14.533734Z",
     "iopub.status.busy": "2022-12-05T16:57:14.533342Z",
     "iopub.status.idle": "2022-12-05T16:57:14.552383Z",
     "shell.execute_reply": "2022-12-05T16:57:14.551908Z"
    },
    "papermill": {
     "duration": 0.033883,
     "end_time": "2022-12-05T16:57:14.554435",
     "exception": false,
     "start_time": "2022-12-05T16:57:14.520552",
     "status": "completed"
    },
    "tags": []
   },
   "outputs": [],
   "source": [
    "# standard checks\n",
    "all_chrs = genes_info[\"chr\"].dropna().unique()\n",
    "assert all_chrs.shape[0] == 22\n",
    "\n",
    "# select chromosome given by the user\n",
    "assert CHROMOSOME in all_chrs"
   ]
  },
  {
   "cell_type": "code",
   "execution_count": 25,
   "id": "2d7c043c-92a7-4d35-991b-fa69ac1e0268",
   "metadata": {
    "execution": {
     "iopub.execute_input": "2022-12-05T16:57:14.580673Z",
     "iopub.status.busy": "2022-12-05T16:57:14.580254Z",
     "iopub.status.idle": "2022-12-05T16:57:14.601296Z",
     "shell.execute_reply": "2022-12-05T16:57:14.600805Z"
    },
    "papermill": {
     "duration": 0.035269,
     "end_time": "2022-12-05T16:57:14.602773",
     "exception": false,
     "start_time": "2022-12-05T16:57:14.567504",
     "status": "completed"
    },
    "tags": []
   },
   "outputs": [
    {
     "name": "stdout",
     "output_type": "stream",
     "text": [
      "Number of genes in chromosome: 539\n"
     ]
    }
   ],
   "source": [
    "# run only on the chromosome specified\n",
    "all_chrs = [CHROMOSOME]\n",
    "genes_chr = genes_info[genes_info[\"chr\"] == CHROMOSOME]\n",
    "\n",
    "# For testing purposes\n",
    "# genes_chr = genes_chr.sample(n=20)\n",
    "\n",
    "print(f\"Number of genes in chromosome: {genes_chr.shape[0]}\", flush=True)"
   ]
  },
  {
   "cell_type": "code",
   "execution_count": 26,
   "id": "916015d8-2979-46d3-a9b9-1cf5a0932c6a",
   "metadata": {
    "execution": {
     "iopub.execute_input": "2022-12-05T16:57:14.627469Z",
     "iopub.status.busy": "2022-12-05T16:57:14.627052Z",
     "iopub.status.idle": "2022-12-05T16:57:14.646024Z",
     "shell.execute_reply": "2022-12-05T16:57:14.645488Z"
    },
    "papermill": {
     "duration": 0.033425,
     "end_time": "2022-12-05T16:57:14.647850",
     "exception": false,
     "start_time": "2022-12-05T16:57:14.614425",
     "status": "completed"
    },
    "tags": []
   },
   "outputs": [],
   "source": [
    "# sort genes by starting position to make visualizations better later\n",
    "genes_chr = genes_chr.sort_values(\"start_position\")"
   ]
  },
  {
   "cell_type": "code",
   "execution_count": 27,
   "id": "a38aa74a-8ad3-47f6-8ef9-56be0e011774",
   "metadata": {
    "execution": {
     "iopub.execute_input": "2022-12-05T16:57:14.672121Z",
     "iopub.status.busy": "2022-12-05T16:57:14.671791Z",
     "iopub.status.idle": "2022-12-05T16:57:14.691067Z",
     "shell.execute_reply": "2022-12-05T16:57:14.690441Z"
    },
    "papermill": {
     "duration": 0.033324,
     "end_time": "2022-12-05T16:57:14.692967",
     "exception": false,
     "start_time": "2022-12-05T16:57:14.659643",
     "status": "completed"
    },
    "tags": []
   },
   "outputs": [],
   "source": [
    "gene_chr_objs = [Gene(ensembl_id=gene_id) for gene_id in genes_chr[\"id\"]]"
   ]
  },
  {
   "cell_type": "code",
   "execution_count": 28,
   "id": "570f974f-13c3-42b6-ad3a-ce99ca885c1a",
   "metadata": {
    "execution": {
     "iopub.execute_input": "2022-12-05T16:57:14.717688Z",
     "iopub.status.busy": "2022-12-05T16:57:14.717491Z",
     "iopub.status.idle": "2022-12-05T16:57:14.736421Z",
     "shell.execute_reply": "2022-12-05T16:57:14.735935Z"
    },
    "papermill": {
     "duration": 0.032674,
     "end_time": "2022-12-05T16:57:14.737927",
     "exception": false,
     "start_time": "2022-12-05T16:57:14.705253",
     "status": "completed"
    },
    "tags": []
   },
   "outputs": [
    {
     "name": "stdout",
     "output_type": "stream",
     "text": [
      "Number of gene combinations: 145530\n"
     ]
    }
   ],
   "source": [
    "n = len(gene_chr_objs)\n",
    "# diagonal elements + upper triangular matrix\n",
    "n_comb = n + int(n * (n - 1) / 2.0)\n",
    "print(f\"Number of gene combinations: {n_comb}\", flush=True)"
   ]
  },
  {
   "cell_type": "code",
   "execution_count": 29,
   "id": "cdbb90a1",
   "metadata": {
    "execution": {
     "iopub.execute_input": "2022-12-05T16:57:14.762245Z",
     "iopub.status.busy": "2022-12-05T16:57:14.762046Z",
     "iopub.status.idle": "2022-12-05T17:20:18.406069Z",
     "shell.execute_reply": "2022-12-05T17:20:18.405576Z"
    },
    "papermill": {
     "duration": 1387.873665,
     "end_time": "2022-12-05T17:20:22.623215",
     "exception": false,
     "start_time": "2022-12-05T16:57:14.749550",
     "status": "completed"
    },
    "tags": []
   },
   "outputs": [
    {
     "name": "stderr",
     "output_type": "stream",
     "text": [
      "ENSG00000130725 / ENSG00000130725: 100%|███████████████████| 145530/145530 [23:03<00:00, 105.18it/s]\n"
     ]
    },
    {
     "data": {
      "text/plain": [
       "PosixPath('/opt/data/projects/asthma-copd/results/gls_phenoplier/gene_corrs/asthma_only/by_chr/gene_corrs-chr19.pkl')"
      ]
     },
     "metadata": {},
     "output_type": "display_data"
    }
   ],
   "source": [
    "gene_corrs = []\n",
    "gene_corrs_data = np.full(\n",
    "    (n, n),\n",
    "    np.nan,\n",
    "    dtype=np.float64,\n",
    ")\n",
    "\n",
    "i = 0\n",
    "with tqdm(ncols=100, total=n_comb) as pbar:\n",
    "    for gene1_idx in range(0, len(gene_chr_objs)):\n",
    "        gene1_obj = gene_chr_objs[gene1_idx]\n",
    "        gene1_tissues = spredixcan_genes_models.loc[gene1_obj.ensembl_id, \"tissue\"]\n",
    "\n",
    "        for gene2_idx in range(gene1_idx, len(gene_chr_objs)):\n",
    "            gene2_obj = gene_chr_objs[gene2_idx]\n",
    "            gene2_tissues = spredixcan_genes_models.loc[gene2_obj.ensembl_id, \"tissue\"]\n",
    "\n",
    "            pbar.set_description(f\"{gene1_obj.ensembl_id} / {gene2_obj.ensembl_id}\")\n",
    "\n",
    "            try:\n",
    "                r = gene1_obj.get_ssm_correlation(\n",
    "                    other_gene=gene2_obj,\n",
    "                    tissues=gene1_tissues,\n",
    "                    other_tissues=gene2_tissues,\n",
    "                    snps_subset=gwas_variants_ids_set,\n",
    "                    condition_number=SMULTIXCAN_CONDITION_NUMBER,\n",
    "                    reference_panel=REFERENCE_PANEL,\n",
    "                    model_type=EQTL_MODEL,\n",
    "                    use_within_distance=COMPUTE_CORRELATIONS_WITHIN_DISTANCE,\n",
    "                )\n",
    "\n",
    "                if r is None:\n",
    "                    # if r is None, it's very likely because:\n",
    "                    #  * one of the genes has no prediction models\n",
    "                    #  * all the SNPs predictors for the gene are not present in the reference\n",
    "                    #    panel\n",
    "\n",
    "                    r = 0.0\n",
    "\n",
    "                gene_corrs.append(r)\n",
    "\n",
    "                gene_corrs_data[gene1_idx, gene2_idx] = r\n",
    "                gene_corrs_data[gene2_idx, gene1_idx] = r\n",
    "            except Warning as e:\n",
    "                if not DEBUG_MODE:\n",
    "                    raise e\n",
    "\n",
    "                print(\n",
    "                    f\"RuntimeWarning for genes {gene1_obj.ensembl_id} and {gene2_obj.ensembl_id}\",\n",
    "                    flush=True,\n",
    "                )\n",
    "                print(traceback.format_exc(), flush=True)\n",
    "\n",
    "                gene_corrs.append(np.nan)\n",
    "            except Exception as e:\n",
    "                if not DEBUG_MODE:\n",
    "                    raise e\n",
    "\n",
    "                print(\n",
    "                    f\"Exception for genes {gene1_obj.ensembl_id} and {gene2_obj.ensembl_id}\",\n",
    "                    flush=True,\n",
    "                )\n",
    "                print(traceback.format_exc(), flush=True)\n",
    "\n",
    "                gene_corrs.append(np.nan)\n",
    "\n",
    "            pbar.update(1)\n",
    "\n",
    "# create a pandas series\n",
    "gene_corrs_flat = pd.Series(gene_corrs)\n",
    "\n",
    "# save\n",
    "# FIXME: consider saving only the condenced matrix here. See here for\n",
    "# more details: https://github.com/greenelab/phenoplier/pull/38#discussion_r634600813\n",
    "# gene_corrs_data = squareform(np.array(gene_corrs, dtype=np.float64))\n",
    "# np.fill_diagonal(gene_corrs_data, 1.0)\n",
    "\n",
    "gene_chr_ids = [g.ensembl_id for g in gene_chr_objs]\n",
    "gene_corrs_df = pd.DataFrame(\n",
    "    data=gene_corrs_data,\n",
    "    index=gene_chr_ids,\n",
    "    columns=gene_chr_ids,\n",
    ")\n",
    "\n",
    "output_dir.mkdir(exist_ok=True, parents=True)\n",
    "display(output_file)\n",
    "\n",
    "gene_corrs_df.to_pickle(output_file)"
   ]
  },
  {
   "cell_type": "markdown",
   "id": "faa67b51-5373-470f-aa72-2ded53fa6dfe",
   "metadata": {
    "papermill": {
     "duration": 4.480251,
     "end_time": "2022-12-05T17:20:31.510355",
     "exception": false,
     "start_time": "2022-12-05T17:20:27.030104",
     "status": "completed"
    },
    "tags": []
   },
   "source": [
    "# Testing"
   ]
  },
  {
   "cell_type": "code",
   "execution_count": 30,
   "id": "14f7d046-4b55-4896-a56b-990127bcc388",
   "metadata": {
    "execution": {
     "iopub.execute_input": "2022-12-05T17:20:40.623732Z",
     "iopub.status.busy": "2022-12-05T17:20:40.623414Z",
     "iopub.status.idle": "2022-12-05T17:20:40.642404Z",
     "shell.execute_reply": "2022-12-05T17:20:40.641803Z"
    },
    "papermill": {
     "duration": 4.51353,
     "end_time": "2022-12-05T17:20:40.643628",
     "exception": false,
     "start_time": "2022-12-05T17:20:36.130098",
     "status": "completed"
    },
    "tags": []
   },
   "outputs": [
    {
     "data": {
      "text/plain": [
       "(539, 539)"
      ]
     },
     "execution_count": 30,
     "metadata": {},
     "output_type": "execute_result"
    }
   ],
   "source": [
    "gene_corrs_df.shape"
   ]
  },
  {
   "cell_type": "code",
   "execution_count": 31,
   "id": "c7d15414-3297-4537-a7c6-7588c0baeb75",
   "metadata": {
    "execution": {
     "iopub.execute_input": "2022-12-05T17:20:49.642663Z",
     "iopub.status.busy": "2022-12-05T17:20:49.642313Z",
     "iopub.status.idle": "2022-12-05T17:20:49.675508Z",
     "shell.execute_reply": "2022-12-05T17:20:49.674949Z"
    },
    "papermill": {
     "duration": 4.443765,
     "end_time": "2022-12-05T17:20:49.676401",
     "exception": false,
     "start_time": "2022-12-05T17:20:45.232636",
     "status": "completed"
    },
    "tags": []
   },
   "outputs": [
    {
     "data": {
      "text/html": [
       "<div>\n",
       "<style scoped>\n",
       "    .dataframe tbody tr th:only-of-type {\n",
       "        vertical-align: middle;\n",
       "    }\n",
       "\n",
       "    .dataframe tbody tr th {\n",
       "        vertical-align: top;\n",
       "    }\n",
       "\n",
       "    .dataframe thead th {\n",
       "        text-align: right;\n",
       "    }\n",
       "</style>\n",
       "<table border=\"1\" class=\"dataframe\">\n",
       "  <thead>\n",
       "    <tr style=\"text-align: right;\">\n",
       "      <th></th>\n",
       "      <th>ENSG00000129946</th>\n",
       "      <th>ENSG00000099866</th>\n",
       "      <th>ENSG00000099804</th>\n",
       "      <th>ENSG00000197540</th>\n",
       "      <th>ENSG00000172270</th>\n",
       "      <th>ENSG00000099822</th>\n",
       "      <th>ENSG00000099821</th>\n",
       "      <th>ENSG00000011304</th>\n",
       "      <th>ENSG00000172232</th>\n",
       "      <th>ENSG00000196415</th>\n",
       "      <th>...</th>\n",
       "      <th>ENSG00000171606</th>\n",
       "      <th>ENSG00000198131</th>\n",
       "      <th>ENSG00000083845</th>\n",
       "      <th>ENSG00000171574</th>\n",
       "      <th>ENSG00000083812</th>\n",
       "      <th>ENSG00000083838</th>\n",
       "      <th>ENSG00000083807</th>\n",
       "      <th>ENSG00000130726</th>\n",
       "      <th>ENSG00000130724</th>\n",
       "      <th>ENSG00000130725</th>\n",
       "    </tr>\n",
       "  </thead>\n",
       "  <tbody>\n",
       "    <tr>\n",
       "      <th>ENSG00000129946</th>\n",
       "      <td>1.000000</td>\n",
       "      <td>0.338633</td>\n",
       "      <td>0.093565</td>\n",
       "      <td>0.020255</td>\n",
       "      <td>0.011003</td>\n",
       "      <td>0.009783</td>\n",
       "      <td>0.007874</td>\n",
       "      <td>0.007481</td>\n",
       "      <td>0.006953</td>\n",
       "      <td>0.010731</td>\n",
       "      <td>...</td>\n",
       "      <td>0.0</td>\n",
       "      <td>0.0</td>\n",
       "      <td>0.0</td>\n",
       "      <td>0.0</td>\n",
       "      <td>0.0</td>\n",
       "      <td>0.0</td>\n",
       "      <td>0.0</td>\n",
       "      <td>0.0</td>\n",
       "      <td>0.0</td>\n",
       "      <td>0.0</td>\n",
       "    </tr>\n",
       "    <tr>\n",
       "      <th>ENSG00000099866</th>\n",
       "      <td>0.338633</td>\n",
       "      <td>1.000000</td>\n",
       "      <td>0.028779</td>\n",
       "      <td>0.015043</td>\n",
       "      <td>0.008540</td>\n",
       "      <td>0.006466</td>\n",
       "      <td>0.005534</td>\n",
       "      <td>0.012005</td>\n",
       "      <td>0.004044</td>\n",
       "      <td>0.005045</td>\n",
       "      <td>...</td>\n",
       "      <td>0.0</td>\n",
       "      <td>0.0</td>\n",
       "      <td>0.0</td>\n",
       "      <td>0.0</td>\n",
       "      <td>0.0</td>\n",
       "      <td>0.0</td>\n",
       "      <td>0.0</td>\n",
       "      <td>0.0</td>\n",
       "      <td>0.0</td>\n",
       "      <td>0.0</td>\n",
       "    </tr>\n",
       "    <tr>\n",
       "      <th>ENSG00000099804</th>\n",
       "      <td>0.093565</td>\n",
       "      <td>0.028779</td>\n",
       "      <td>1.000000</td>\n",
       "      <td>0.250375</td>\n",
       "      <td>0.126414</td>\n",
       "      <td>0.061093</td>\n",
       "      <td>0.019915</td>\n",
       "      <td>0.020062</td>\n",
       "      <td>0.011394</td>\n",
       "      <td>0.013603</td>\n",
       "      <td>...</td>\n",
       "      <td>0.0</td>\n",
       "      <td>0.0</td>\n",
       "      <td>0.0</td>\n",
       "      <td>0.0</td>\n",
       "      <td>0.0</td>\n",
       "      <td>0.0</td>\n",
       "      <td>0.0</td>\n",
       "      <td>0.0</td>\n",
       "      <td>0.0</td>\n",
       "      <td>0.0</td>\n",
       "    </tr>\n",
       "    <tr>\n",
       "      <th>ENSG00000197540</th>\n",
       "      <td>0.020255</td>\n",
       "      <td>0.015043</td>\n",
       "      <td>0.250375</td>\n",
       "      <td>1.000000</td>\n",
       "      <td>0.112516</td>\n",
       "      <td>0.078156</td>\n",
       "      <td>0.022678</td>\n",
       "      <td>0.020909</td>\n",
       "      <td>0.014599</td>\n",
       "      <td>0.016799</td>\n",
       "      <td>...</td>\n",
       "      <td>0.0</td>\n",
       "      <td>0.0</td>\n",
       "      <td>0.0</td>\n",
       "      <td>0.0</td>\n",
       "      <td>0.0</td>\n",
       "      <td>0.0</td>\n",
       "      <td>0.0</td>\n",
       "      <td>0.0</td>\n",
       "      <td>0.0</td>\n",
       "      <td>0.0</td>\n",
       "    </tr>\n",
       "    <tr>\n",
       "      <th>ENSG00000172270</th>\n",
       "      <td>0.011003</td>\n",
       "      <td>0.008540</td>\n",
       "      <td>0.126414</td>\n",
       "      <td>0.112516</td>\n",
       "      <td>1.000000</td>\n",
       "      <td>0.311204</td>\n",
       "      <td>0.022535</td>\n",
       "      <td>0.040153</td>\n",
       "      <td>0.055534</td>\n",
       "      <td>0.035629</td>\n",
       "      <td>...</td>\n",
       "      <td>0.0</td>\n",
       "      <td>0.0</td>\n",
       "      <td>0.0</td>\n",
       "      <td>0.0</td>\n",
       "      <td>0.0</td>\n",
       "      <td>0.0</td>\n",
       "      <td>0.0</td>\n",
       "      <td>0.0</td>\n",
       "      <td>0.0</td>\n",
       "      <td>0.0</td>\n",
       "    </tr>\n",
       "  </tbody>\n",
       "</table>\n",
       "<p>5 rows × 539 columns</p>\n",
       "</div>"
      ],
      "text/plain": [
       "                 ENSG00000129946  ENSG00000099866  ENSG00000099804  \\\n",
       "ENSG00000129946         1.000000         0.338633         0.093565   \n",
       "ENSG00000099866         0.338633         1.000000         0.028779   \n",
       "ENSG00000099804         0.093565         0.028779         1.000000   \n",
       "ENSG00000197540         0.020255         0.015043         0.250375   \n",
       "ENSG00000172270         0.011003         0.008540         0.126414   \n",
       "\n",
       "                 ENSG00000197540  ENSG00000172270  ENSG00000099822  \\\n",
       "ENSG00000129946         0.020255         0.011003         0.009783   \n",
       "ENSG00000099866         0.015043         0.008540         0.006466   \n",
       "ENSG00000099804         0.250375         0.126414         0.061093   \n",
       "ENSG00000197540         1.000000         0.112516         0.078156   \n",
       "ENSG00000172270         0.112516         1.000000         0.311204   \n",
       "\n",
       "                 ENSG00000099821  ENSG00000011304  ENSG00000172232  \\\n",
       "ENSG00000129946         0.007874         0.007481         0.006953   \n",
       "ENSG00000099866         0.005534         0.012005         0.004044   \n",
       "ENSG00000099804         0.019915         0.020062         0.011394   \n",
       "ENSG00000197540         0.022678         0.020909         0.014599   \n",
       "ENSG00000172270         0.022535         0.040153         0.055534   \n",
       "\n",
       "                 ENSG00000196415  ...  ENSG00000171606  ENSG00000198131  \\\n",
       "ENSG00000129946         0.010731  ...              0.0              0.0   \n",
       "ENSG00000099866         0.005045  ...              0.0              0.0   \n",
       "ENSG00000099804         0.013603  ...              0.0              0.0   \n",
       "ENSG00000197540         0.016799  ...              0.0              0.0   \n",
       "ENSG00000172270         0.035629  ...              0.0              0.0   \n",
       "\n",
       "                 ENSG00000083845  ENSG00000171574  ENSG00000083812  \\\n",
       "ENSG00000129946              0.0              0.0              0.0   \n",
       "ENSG00000099866              0.0              0.0              0.0   \n",
       "ENSG00000099804              0.0              0.0              0.0   \n",
       "ENSG00000197540              0.0              0.0              0.0   \n",
       "ENSG00000172270              0.0              0.0              0.0   \n",
       "\n",
       "                 ENSG00000083838  ENSG00000083807  ENSG00000130726  \\\n",
       "ENSG00000129946              0.0              0.0              0.0   \n",
       "ENSG00000099866              0.0              0.0              0.0   \n",
       "ENSG00000099804              0.0              0.0              0.0   \n",
       "ENSG00000197540              0.0              0.0              0.0   \n",
       "ENSG00000172270              0.0              0.0              0.0   \n",
       "\n",
       "                 ENSG00000130724  ENSG00000130725  \n",
       "ENSG00000129946              0.0              0.0  \n",
       "ENSG00000099866              0.0              0.0  \n",
       "ENSG00000099804              0.0              0.0  \n",
       "ENSG00000197540              0.0              0.0  \n",
       "ENSG00000172270              0.0              0.0  \n",
       "\n",
       "[5 rows x 539 columns]"
      ]
     },
     "execution_count": 31,
     "metadata": {},
     "output_type": "execute_result"
    }
   ],
   "source": [
    "gene_corrs_df.head()"
   ]
  },
  {
   "cell_type": "markdown",
   "id": "dad6603f-01c6-41fb-a6f6-241051207dd8",
   "metadata": {
    "papermill": {
     "duration": 4.592637,
     "end_time": "2022-12-05T17:20:58.762232",
     "exception": false,
     "start_time": "2022-12-05T17:20:54.169595",
     "status": "completed"
    },
    "tags": []
   },
   "source": [
    "## Standard checks and stats"
   ]
  },
  {
   "cell_type": "code",
   "execution_count": 32,
   "id": "286686af-1b7b-4440-8453-6bdcbd8de19c",
   "metadata": {
    "execution": {
     "iopub.execute_input": "2022-12-05T17:21:07.667397Z",
     "iopub.status.busy": "2022-12-05T17:21:07.667089Z",
     "iopub.status.idle": "2022-12-05T17:21:07.692452Z",
     "shell.execute_reply": "2022-12-05T17:21:07.691732Z"
    },
    "papermill": {
     "duration": 4.4511,
     "end_time": "2022-12-05T17:21:07.693560",
     "exception": false,
     "start_time": "2022-12-05T17:21:03.242460",
     "status": "completed"
    },
    "tags": []
   },
   "outputs": [],
   "source": [
    "assert not gene_corrs_df.isna().any(axis=None)"
   ]
  },
  {
   "cell_type": "code",
   "execution_count": 33,
   "id": "00583efc-7068-4270-ad1e-4a418e91db96",
   "metadata": {
    "execution": {
     "iopub.execute_input": "2022-12-05T17:21:16.861281Z",
     "iopub.status.busy": "2022-12-05T17:21:16.861089Z",
     "iopub.status.idle": "2022-12-05T17:21:16.882056Z",
     "shell.execute_reply": "2022-12-05T17:21:16.881569Z"
    },
    "papermill": {
     "duration": 4.558162,
     "end_time": "2022-12-05T17:21:16.882890",
     "exception": false,
     "start_time": "2022-12-05T17:21:12.324728",
     "status": "completed"
    },
    "tags": []
   },
   "outputs": [
    {
     "data": {
      "text/plain": [
       "0.0"
      ]
     },
     "metadata": {},
     "output_type": "display_data"
    }
   ],
   "source": [
    "_min_val = gene_corrs_df.min().min()\n",
    "display(_min_val)\n",
    "assert _min_val >= -0.05"
   ]
  },
  {
   "cell_type": "code",
   "execution_count": 34,
   "id": "d04fb2cf-1050-475b-b855-f5f7cc04092b",
   "metadata": {
    "execution": {
     "iopub.execute_input": "2022-12-05T17:21:26.062817Z",
     "iopub.status.busy": "2022-12-05T17:21:26.062221Z",
     "iopub.status.idle": "2022-12-05T17:21:26.084783Z",
     "shell.execute_reply": "2022-12-05T17:21:26.084239Z"
    },
    "papermill": {
     "duration": 4.54356,
     "end_time": "2022-12-05T17:21:26.085590",
     "exception": false,
     "start_time": "2022-12-05T17:21:21.542030",
     "status": "completed"
    },
    "tags": []
   },
   "outputs": [
    {
     "data": {
      "text/plain": [
       "1.0000000000000033"
      ]
     },
     "metadata": {},
     "output_type": "display_data"
    }
   ],
   "source": [
    "_max_val = gene_corrs_df.max().max()  # this captures the diagonal\n",
    "display(_max_val)\n",
    "assert _max_val <= 1.05"
   ]
  },
  {
   "cell_type": "code",
   "execution_count": 35,
   "id": "fe283586-c348-40e0-8841-f6d97bfb021c",
   "metadata": {
    "execution": {
     "iopub.execute_input": "2022-12-05T17:21:35.212582Z",
     "iopub.status.busy": "2022-12-05T17:21:35.212239Z",
     "iopub.status.idle": "2022-12-05T17:21:35.243931Z",
     "shell.execute_reply": "2022-12-05T17:21:35.243311Z"
    },
    "papermill": {
     "duration": 4.62098,
     "end_time": "2022-12-05T17:21:35.244807",
     "exception": false,
     "start_time": "2022-12-05T17:21:30.623827",
     "status": "completed"
    },
    "tags": []
   },
   "outputs": [
    {
     "data": {
      "text/plain": [
       "count    145530.000000\n",
       "mean          0.006759\n",
       "std           0.065897\n",
       "min           0.000000\n",
       "25%           0.000000\n",
       "50%           0.000000\n",
       "75%           0.000000\n",
       "max           1.000000\n",
       "dtype: float64"
      ]
     },
     "execution_count": 35,
     "metadata": {},
     "output_type": "execute_result"
    }
   ],
   "source": [
    "gene_corrs_flat.describe()"
   ]
  },
  {
   "cell_type": "code",
   "execution_count": 36,
   "id": "b3815678-0f93-4b35-897b-a9d047a2aa78",
   "metadata": {
    "execution": {
     "iopub.execute_input": "2022-12-05T17:21:44.209022Z",
     "iopub.status.busy": "2022-12-05T17:21:44.208663Z",
     "iopub.status.idle": "2022-12-05T17:21:44.239063Z",
     "shell.execute_reply": "2022-12-05T17:21:44.238394Z"
    },
    "papermill": {
     "duration": 4.435653,
     "end_time": "2022-12-05T17:21:44.239965",
     "exception": false,
     "start_time": "2022-12-05T17:21:39.804312",
     "status": "completed"
    },
    "tags": []
   },
   "outputs": [
    {
     "data": {
      "text/plain": [
       "0.00    0.000000\n",
       "0.05    0.000000\n",
       "0.10    0.000000\n",
       "0.15    0.000000\n",
       "0.20    0.000000\n",
       "0.25    0.000000\n",
       "0.30    0.000000\n",
       "0.35    0.000000\n",
       "0.40    0.000000\n",
       "0.45    0.000000\n",
       "0.50    0.000000\n",
       "0.55    0.000000\n",
       "0.60    0.000000\n",
       "0.65    0.000000\n",
       "0.70    0.000000\n",
       "0.75    0.000000\n",
       "0.80    0.000000\n",
       "0.85    0.003624\n",
       "0.90    0.005974\n",
       "0.95    0.008962\n",
       "dtype: float64"
      ]
     },
     "metadata": {},
     "output_type": "display_data"
    }
   ],
   "source": [
    "gene_corrs_quantiles = gene_corrs_flat.quantile(np.arange(0, 1, 0.05))\n",
    "display(gene_corrs_quantiles)"
   ]
  },
  {
   "cell_type": "markdown",
   "id": "87134509-b145-4a10-8bc9-b7e914c2b0fa",
   "metadata": {
    "papermill": {
     "duration": 4.625774,
     "end_time": "2022-12-05T17:21:53.441473",
     "exception": false,
     "start_time": "2022-12-05T17:21:48.815699",
     "status": "completed"
    },
    "tags": []
   },
   "source": [
    "## Positive definiteness"
   ]
  },
  {
   "cell_type": "code",
   "execution_count": 37,
   "id": "07d9a9a1-a4f7-48aa-b916-6d42a8cc6186",
   "metadata": {
    "execution": {
     "iopub.execute_input": "2022-12-05T17:22:02.472567Z",
     "iopub.status.busy": "2022-12-05T17:22:02.472252Z",
     "iopub.status.idle": "2022-12-05T17:22:02.583170Z",
     "shell.execute_reply": "2022-12-05T17:22:02.582696Z"
    },
    "papermill": {
     "duration": 4.640318,
     "end_time": "2022-12-05T17:22:02.583988",
     "exception": false,
     "start_time": "2022-12-05T17:21:57.943670",
     "status": "completed"
    },
    "tags": []
   },
   "outputs": [
    {
     "data": {
      "text/plain": [
       "0"
      ]
     },
     "metadata": {},
     "output_type": "display_data"
    },
    {
     "data": {
      "text/plain": [
       "array([], dtype=float64)"
      ]
     },
     "metadata": {},
     "output_type": "display_data"
    }
   ],
   "source": [
    "# print negative eigenvalues\n",
    "eigs = np.linalg.eigvals(gene_corrs_df.to_numpy())\n",
    "display(len(eigs[eigs < 0]))\n",
    "display(eigs[eigs < 0])"
   ]
  },
  {
   "cell_type": "code",
   "execution_count": 38,
   "id": "6e218436-c3c5-4028-8c94-a4fa6260efce",
   "metadata": {
    "execution": {
     "iopub.execute_input": "2022-12-05T17:22:11.803668Z",
     "iopub.status.busy": "2022-12-05T17:22:11.803006Z",
     "iopub.status.idle": "2022-12-05T17:22:11.843298Z",
     "shell.execute_reply": "2022-12-05T17:22:11.842892Z"
    },
    "papermill": {
     "duration": 4.585282,
     "end_time": "2022-12-05T17:22:11.844105",
     "exception": false,
     "start_time": "2022-12-05T17:22:07.258823",
     "status": "completed"
    },
    "tags": []
   },
   "outputs": [
    {
     "name": "stdout",
     "output_type": "stream",
     "text": [
      "Works!\n"
     ]
    }
   ],
   "source": [
    "try:\n",
    "    chol_mat = np.linalg.cholesky(gene_corrs_df.to_numpy())\n",
    "    cov_inv = np.linalg.inv(chol_mat)\n",
    "    print(\"Works!\")\n",
    "except Exception as e:\n",
    "    print(f\"Cholesky decomposition failed: {str(e)}\")"
   ]
  },
  {
   "cell_type": "code",
   "execution_count": 39,
   "id": "dd8827fb-faf9-4c7c-9454-015e94752706",
   "metadata": {
    "execution": {
     "iopub.execute_input": "2022-12-05T17:22:20.872647Z",
     "iopub.status.busy": "2022-12-05T17:22:20.872402Z",
     "iopub.status.idle": "2022-12-05T17:22:20.914503Z",
     "shell.execute_reply": "2022-12-05T17:22:20.913952Z"
    },
    "papermill": {
     "duration": 4.616518,
     "end_time": "2022-12-05T17:22:20.915709",
     "exception": false,
     "start_time": "2022-12-05T17:22:16.299191",
     "status": "completed"
    },
    "tags": []
   },
   "outputs": [
    {
     "name": "stdout",
     "output_type": "stream",
     "text": [
      "Works!\n"
     ]
    }
   ],
   "source": [
    "try:\n",
    "    # decomposition used by statsmodels.GLS\n",
    "    cholsigmainv = np.linalg.cholesky(np.linalg.inv(gene_corrs_df.to_numpy())).T\n",
    "    print(\"Works!\")\n",
    "except Exception as e:\n",
    "    print(f\"Cholesky decomposition failed (statsmodels.GLS): {str(e)}\")"
   ]
  },
  {
   "cell_type": "markdown",
   "id": "8e60a080-edb2-4e9c-b2ef-22961693200c",
   "metadata": {
    "papermill": {
     "duration": 4.483758,
     "end_time": "2022-12-05T17:22:29.862300",
     "exception": false,
     "start_time": "2022-12-05T17:22:25.378542",
     "status": "completed"
    },
    "tags": []
   },
   "source": [
    "## Plot: distribution"
   ]
  },
  {
   "cell_type": "code",
   "execution_count": 40,
   "id": "8301126b-a7d4-4744-9c7d-f0f86eb6f54c",
   "metadata": {
    "execution": {
     "iopub.execute_input": "2022-12-05T17:22:38.964351Z",
     "iopub.status.busy": "2022-12-05T17:22:38.964014Z",
     "iopub.status.idle": "2022-12-05T17:22:39.693121Z",
     "shell.execute_reply": "2022-12-05T17:22:39.692596Z"
    },
    "papermill": {
     "duration": 5.325546,
     "end_time": "2022-12-05T17:22:39.694053",
     "exception": false,
     "start_time": "2022-12-05T17:22:34.368507",
     "status": "completed"
    },
    "tags": []
   },
   "outputs": [
    {
     "data": {
      "image/png": "[encoded data removed]",
      "text/plain": [
       "<Figure size 700x700 with 1 Axes>"
      ]
     },
     "metadata": {},
     "output_type": "display_data"
    }
   ],
   "source": [
    "with sns.plotting_context(\"paper\", font_scale=1.5):\n",
    "    g = sns.displot(gene_corrs_flat, kde=True, height=7)\n",
    "    g.ax.set_title(\n",
    "        f\"Distribution of gene correlation values in chromosome {CHROMOSOME}\"\n",
    "    )"
   ]
  },
  {
   "cell_type": "markdown",
   "id": "cbd52bca-d878-4a2f-b684-5c83aa3038d4",
   "metadata": {
    "papermill": {
     "duration": 4.887953,
     "end_time": "2022-12-05T17:22:49.039200",
     "exception": false,
     "start_time": "2022-12-05T17:22:44.151247",
     "status": "completed"
    },
    "tags": []
   },
   "source": [
    "## Plot: heatmap"
   ]
  },
  {
   "cell_type": "code",
   "execution_count": 41,
   "id": "d03fe63a-c7b2-4fb9-a53c-db362ce843c9",
   "metadata": {
    "execution": {
     "iopub.execute_input": "2022-12-05T17:22:57.966038Z",
     "iopub.status.busy": "2022-12-05T17:22:57.965753Z",
     "iopub.status.idle": "2022-12-05T17:22:57.990494Z",
     "shell.execute_reply": "2022-12-05T17:22:57.990063Z"
    },
    "papermill": {
     "duration": 4.535388,
     "end_time": "2022-12-05T17:22:57.991403",
     "exception": false,
     "start_time": "2022-12-05T17:22:53.456015",
     "status": "completed"
    },
    "tags": []
   },
   "outputs": [
    {
     "data": {
      "text/plain": [
       "'0.0 / 0.05'"
      ]
     },
     "metadata": {},
     "output_type": "display_data"
    }
   ],
   "source": [
    "vmin_val = min(0.00, gene_corrs_quantiles[0.10])\n",
    "vmax_val = max(0.05, gene_corrs_quantiles[0.90])\n",
    "display(f\"{vmin_val} / {vmax_val}\")"
   ]
  },
  {
   "cell_type": "code",
   "execution_count": 42,
   "id": "dc41b70b-5bcc-4d9e-9f33-a22c4a94dab5",
   "metadata": {
    "execution": {
     "iopub.execute_input": "2022-12-05T17:23:06.934944Z",
     "iopub.status.busy": "2022-12-05T17:23:06.934641Z",
     "iopub.status.idle": "2022-12-05T17:23:07.347343Z",
     "shell.execute_reply": "2022-12-05T17:23:07.346949Z"
    },
    "papermill": {
     "duration": 4.805444,
     "end_time": "2022-12-05T17:23:07.350541",
     "exception": false,
     "start_time": "2022-12-05T17:23:02.545097",
     "status": "completed"
    },
    "tags": []
   },
   "outputs": [
    {
     "data": {
      "text/plain": [
       "Text(0.5, 1.0, 'Gene correlations in chromosome 19')"
      ]
     },
     "execution_count": 42,
     "metadata": {},
     "output_type": "execute_result"
    },
    {
     "data": {
      "image/png": "[encoded data removed]",
      "text/plain": [
       "<Figure size 1000x1000 with 2 Axes>"
      ]
     },
     "metadata": {},
     "output_type": "display_data"
    }
   ],
   "source": [
    "f, ax = plt.subplots(figsize=(10, 10))\n",
    "sns.heatmap(\n",
    "    gene_corrs_df,\n",
    "    xticklabels=False,\n",
    "    yticklabels=False,\n",
    "    square=True,\n",
    "    vmin=vmin_val,\n",
    "    vmax=vmax_val,\n",
    "    cmap=\"rocket_r\",\n",
    "    ax=ax,\n",
    ")\n",
    "ax.set_title(f\"Gene correlations in chromosome {CHROMOSOME}\")"
   ]
  },
  {
   "cell_type": "code",
   "execution_count": null,
   "id": "b25e3ead",
   "metadata": {
    "papermill": {
     "duration": 4.570658,
     "end_time": "2022-12-05T17:23:16.538951",
     "exception": false,
     "start_time": "2022-12-05T17:23:11.968293",
     "status": "completed"
    },
    "tags": []
   },
   "outputs": [],
   "source": []
  }
 ],
 "metadata": {
  "jupytext": {
   "cell_metadata_filter": "all,-execution,-papermill,-trusted",
   "formats": "ipynb,py//py:percent"
  },
  "kernelspec": {
   "display_name": "Python 3 (ipykernel)",
   "language": "python",
   "name": "python3"
  },
  "language_info": {
   "codemirror_mode": {
    "name": "ipython",
    "version": 3
   },
   "file_extension": ".py",
   "mimetype": "text/x-python",
   "name": "python",
   "nbconvert_exporter": "python",
   "pygments_lexer": "ipython3",
   "version": "3.10.6"
  },
  "papermill": {
   "default_parameters": {},
   "duration": 1577.05524,
   "end_time": "2022-12-05T17:23:25.079365",
   "environment_variables": {},
   "exception": null,
   "input_path": "projects/asthma-copd/nbs/20_gene_corrs/jobs/05-gene_expr_correlations.ipynb",
   "output_path": "projects/asthma-copd/nbs/20_gene_corrs/jobs/../output/asthma_only/05-gene_expr_correlations-chr19.run.ipynb",
   "parameters": {
    "CHROMOSOME": 19,
    "COHORT_NAME": "asthma_only",
    "OUTPUT_DIR_BASE": "/opt/data/projects/asthma-copd/results/gls_phenoplier",
    "PHENOPLIER_NOTEBOOK_FILEPATH": "projects/asthma-copd/nbs/20_gene_corrs/jobs/05-gene_expr_correlations.ipynb"
   },
   "start_time": "2022-12-05T16:57:08.024125",
   "version": "2.2.2"
  }
 },
 "nbformat": 4,
 "nbformat_minor": 5
}
