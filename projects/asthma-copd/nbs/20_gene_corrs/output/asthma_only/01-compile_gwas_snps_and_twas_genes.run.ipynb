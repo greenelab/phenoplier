{
 "cells": [
  {
   "cell_type": "markdown",
   "id": "7a6632fb",
   "metadata": {
    "papermill": {
     "duration": 0.017721,
     "end_time": "2022-12-15T17:45:00.945680",
     "exception": false,
     "start_time": "2022-12-15T17:45:00.927959",
     "status": "completed"
    },
    "tags": []
   },
   "source": [
    "# Description"
   ]
  },
  {
   "cell_type": "markdown",
   "id": "7097c346",
   "metadata": {
    "papermill": {
     "duration": 0.016392,
     "end_time": "2022-12-15T17:45:00.979168",
     "exception": false,
     "start_time": "2022-12-15T17:45:00.962776",
     "status": "completed"
    },
    "tags": []
   },
   "source": [
    "This notebook compiles information about the GWAS and TWAS for a particular cohort. For example, the set of GWAS variants, variance of predicted expression of genes, etc.\n",
    "\n",
    "It has specicfic parameters for papermill (see under `Settings` below).\n",
    "\n",
    "This notebook should not be directly run. It is used by other notebooks."
   ]
  },
  {
   "cell_type": "markdown",
   "id": "c61d8427",
   "metadata": {
    "papermill": {
     "duration": 0.015739,
     "end_time": "2022-12-15T17:45:01.011811",
     "exception": false,
     "start_time": "2022-12-15T17:45:00.996072",
     "status": "completed"
    },
    "tags": []
   },
   "source": [
    "# Modules"
   ]
  },
  {
   "cell_type": "code",
   "execution_count": 1,
   "id": "bbc0234f",
   "metadata": {
    "execution": {
     "iopub.execute_input": "2022-12-15T17:45:01.030976Z",
     "iopub.status.busy": "2022-12-15T17:45:01.030435Z",
     "iopub.status.idle": "2022-12-15T17:45:01.048535Z",
     "shell.execute_reply": "2022-12-15T17:45:01.047952Z"
    },
    "papermill": {
     "duration": 0.028729,
     "end_time": "2022-12-15T17:45:01.049482",
     "exception": false,
     "start_time": "2022-12-15T17:45:01.020753",
     "status": "completed"
    },
    "tags": []
   },
   "outputs": [],
   "source": [
    "%load_ext autoreload\n",
    "%autoreload 2"
   ]
  },
  {
   "cell_type": "code",
   "execution_count": 2,
   "id": "1d5f5a59",
   "metadata": {
    "execution": {
     "iopub.execute_input": "2022-12-15T17:45:01.067802Z",
     "iopub.status.busy": "2022-12-15T17:45:01.067335Z",
     "iopub.status.idle": "2022-12-15T17:45:01.437352Z",
     "shell.execute_reply": "2022-12-15T17:45:01.436791Z"
    },
    "papermill": {
     "duration": 0.381082,
     "end_time": "2022-12-15T17:45:01.439161",
     "exception": false,
     "start_time": "2022-12-15T17:45:01.058079",
     "status": "completed"
    },
    "tags": []
   },
   "outputs": [],
   "source": [
    "from pathlib import Path\n",
    "import pickle\n",
    "\n",
    "import numpy as np\n",
    "import pandas as pd\n",
    "\n",
    "import conf\n",
    "from entity import Gene"
   ]
  },
  {
   "cell_type": "markdown",
   "id": "1eac24b5",
   "metadata": {
    "papermill": {
     "duration": 0.016463,
     "end_time": "2022-12-15T17:45:01.473443",
     "exception": false,
     "start_time": "2022-12-15T17:45:01.456980",
     "status": "completed"
    },
    "tags": []
   },
   "source": [
    "# Settings"
   ]
  },
  {
   "cell_type": "code",
   "execution_count": 3,
   "id": "ca4560ba",
   "metadata": {
    "execution": {
     "iopub.execute_input": "2022-12-15T17:45:01.508277Z",
     "iopub.status.busy": "2022-12-15T17:45:01.508121Z",
     "iopub.status.idle": "2022-12-15T17:45:01.519716Z",
     "shell.execute_reply": "2022-12-15T17:45:01.519258Z"
    },
    "papermill": {
     "duration": 0.031058,
     "end_time": "2022-12-15T17:45:01.521073",
     "exception": false,
     "start_time": "2022-12-15T17:45:01.490015",
     "status": "completed"
    },
    "tags": [
     "parameters"
    ]
   },
   "outputs": [],
   "source": [
    "# a cohort name (it could be something like UK_BIOBANK, etc)\n",
    "COHORT_NAME = None\n",
    "\n",
    "# reference panel such as 1000G or GTEX_V8\n",
    "REFERENCE_PANEL = \"GTEX_V8\"\n",
    "\n",
    "# predictions models such as MASHR or ELASTIC_NET\n",
    "EQTL_MODEL = \"MASHR\"\n",
    "\n",
    "# a string with a path pointing to an imputed GWAS\n",
    "GWAS_FILE = None\n",
    "\n",
    "# a string with a path pointing where S-PrediXcan results (tissue-specific are located\n",
    "SPREDIXCAN_FOLDER = None\n",
    "\n",
    "# an f-string with one placeholder {tissue}\n",
    "SPREDIXCAN_FILE_PATTERN = None\n",
    "\n",
    "# a string with a path pointing to an S-MultiXcan result\n",
    "SMULTIXCAN_FILE = None\n",
    "\n",
    "# output dir\n",
    "OUTPUT_DIR_BASE = None"
   ]
  },
  {
   "cell_type": "code",
   "execution_count": 4,
   "id": "8e8813da",
   "metadata": {
    "execution": {
     "iopub.execute_input": "2022-12-15T17:45:01.554905Z",
     "iopub.status.busy": "2022-12-15T17:45:01.554733Z",
     "iopub.status.idle": "2022-12-15T17:45:01.568044Z",
     "shell.execute_reply": "2022-12-15T17:45:01.567510Z"
    },
    "papermill": {
     "duration": 0.030961,
     "end_time": "2022-12-15T17:45:01.568956",
     "exception": false,
     "start_time": "2022-12-15T17:45:01.537995",
     "status": "completed"
    },
    "tags": [
     "injected-parameters"
    ]
   },
   "outputs": [],
   "source": [
    "# Parameters\n",
    "PHENOPLIER_NOTEBOOK_FILEPATH = \"projects/asthma-copd/nbs/20_gene_corrs/jobs/01-compile_gwas_snps_and_twas_genes.ipynb\"\n",
    "COHORT_NAME = \"asthma_only\"\n",
    "GWAS_FILE = \"/opt/data/projects/asthma-copd/results/final_imputed_gwas/GWAS_Asthma_only_GLM_SNPs_info0.7-harmonized-imputed.txt.gz\"\n",
    "SPREDIXCAN_FOLDER = \"/opt/data/projects/asthma-copd/results/twas/spredixcan\"\n",
    "SPREDIXCAN_FILE_PATTERN = \"GWAS_Asthma_only_GLM_SNPs_info0.7-gtex_v8-mashr-{tissue}.csv\"\n",
    "SMULTIXCAN_FILE = \"/opt/data/projects/asthma-copd/results/twas/smultixcan/GWAS_Asthma_only_GLM_SNPs_info0.7-gtex_v8-mashr-smultixcan.txt\"\n",
    "OUTPUT_DIR_BASE = \"/opt/data/projects/asthma-copd/results/gls_phenoplier\"\n"
   ]
  },
  {
   "cell_type": "code",
   "execution_count": 5,
   "id": "8fe24bef",
   "metadata": {
    "execution": {
     "iopub.execute_input": "2022-12-15T17:45:01.587159Z",
     "iopub.status.busy": "2022-12-15T17:45:01.586994Z",
     "iopub.status.idle": "2022-12-15T17:45:01.608586Z",
     "shell.execute_reply": "2022-12-15T17:45:01.607984Z"
    },
    "papermill": {
     "duration": 0.031649,
     "end_time": "2022-12-15T17:45:01.609473",
     "exception": false,
     "start_time": "2022-12-15T17:45:01.577824",
     "status": "completed"
    },
    "tags": []
   },
   "outputs": [
    {
     "data": {
      "text/plain": [
       "'Cohort name: asthma_only'"
      ]
     },
     "metadata": {},
     "output_type": "display_data"
    }
   ],
   "source": [
    "assert COHORT_NAME is not None and len(COHORT_NAME) > 0, \"A cohort name must be given\"\n",
    "\n",
    "COHORT_NAME = COHORT_NAME.lower()\n",
    "display(f\"Cohort name: {COHORT_NAME}\")"
   ]
  },
  {
   "cell_type": "code",
   "execution_count": 6,
   "id": "f53ba19b-0f93-4fa2-a047-63b375939d1a",
   "metadata": {
    "execution": {
     "iopub.execute_input": "2022-12-15T17:45:01.628403Z",
     "iopub.status.busy": "2022-12-15T17:45:01.627883Z",
     "iopub.status.idle": "2022-12-15T17:45:01.644947Z",
     "shell.execute_reply": "2022-12-15T17:45:01.644367Z"
    },
    "papermill": {
     "duration": 0.027174,
     "end_time": "2022-12-15T17:45:01.645798",
     "exception": false,
     "start_time": "2022-12-15T17:45:01.618624",
     "status": "completed"
    },
    "tags": []
   },
   "outputs": [
    {
     "data": {
      "text/plain": [
       "'Reference panel: GTEX_V8'"
      ]
     },
     "metadata": {},
     "output_type": "display_data"
    }
   ],
   "source": [
    "assert (\n",
    "    REFERENCE_PANEL is not None and len(REFERENCE_PANEL) > 0\n",
    "), \"A reference panel must be given\"\n",
    "\n",
    "display(f\"Reference panel: {REFERENCE_PANEL}\")"
   ]
  },
  {
   "cell_type": "code",
   "execution_count": 7,
   "id": "7a970044-2d34-4e5b-a850-eff44079afe8",
   "metadata": {
    "execution": {
     "iopub.execute_input": "2022-12-15T17:45:01.664733Z",
     "iopub.status.busy": "2022-12-15T17:45:01.664220Z",
     "iopub.status.idle": "2022-12-15T17:45:01.681312Z",
     "shell.execute_reply": "2022-12-15T17:45:01.680728Z"
    },
    "papermill": {
     "duration": 0.027544,
     "end_time": "2022-12-15T17:45:01.682223",
     "exception": false,
     "start_time": "2022-12-15T17:45:01.654679",
     "status": "completed"
    },
    "tags": []
   },
   "outputs": [
    {
     "data": {
      "text/plain": [
       "'GWAS file path: /opt/data/projects/asthma-copd/results/final_imputed_gwas/GWAS_Asthma_only_GLM_SNPs_info0.7-harmonized-imputed.txt.gz'"
      ]
     },
     "metadata": {},
     "output_type": "display_data"
    }
   ],
   "source": [
    "assert GWAS_FILE is not None and len(GWAS_FILE) > 0, \"A GWAS file path must be given\"\n",
    "GWAS_FILE = Path(GWAS_FILE).resolve()\n",
    "assert GWAS_FILE.exists(), \"GWAS file does not exist\"\n",
    "\n",
    "display(f\"GWAS file path: {str(GWAS_FILE)}\")"
   ]
  },
  {
   "cell_type": "code",
   "execution_count": 8,
   "id": "552a7f63-a18c-4d3e-bb6a-94f99b431291",
   "metadata": {
    "execution": {
     "iopub.execute_input": "2022-12-15T17:45:01.700824Z",
     "iopub.status.busy": "2022-12-15T17:45:01.700620Z",
     "iopub.status.idle": "2022-12-15T17:45:01.717652Z",
     "shell.execute_reply": "2022-12-15T17:45:01.717071Z"
    },
    "papermill": {
     "duration": 0.02731,
     "end_time": "2022-12-15T17:45:01.718550",
     "exception": false,
     "start_time": "2022-12-15T17:45:01.691240",
     "status": "completed"
    },
    "tags": []
   },
   "outputs": [
    {
     "data": {
      "text/plain": [
       "'S-PrediXcan folder path: /opt/data/projects/asthma-copd/results/twas/spredixcan'"
      ]
     },
     "metadata": {},
     "output_type": "display_data"
    }
   ],
   "source": [
    "assert (\n",
    "    SPREDIXCAN_FOLDER is not None and len(SPREDIXCAN_FOLDER) > 0\n",
    "), \"An S-PrediXcan folder path must be given\"\n",
    "SPREDIXCAN_FOLDER = Path(SPREDIXCAN_FOLDER).resolve()\n",
    "assert (\n",
    "    SPREDIXCAN_FOLDER.exists()\n",
    "), f\"S-PrediXcan folder does not exist: {str(SPREDIXCAN_FOLDER)}\"\n",
    "\n",
    "display(f\"S-PrediXcan folder path: {str(SPREDIXCAN_FOLDER)}\")"
   ]
  },
  {
   "cell_type": "code",
   "execution_count": 9,
   "id": "6e2000dc-f1dc-4db8-93d5-9a7209a2e121",
   "metadata": {
    "execution": {
     "iopub.execute_input": "2022-12-15T17:45:01.737472Z",
     "iopub.status.busy": "2022-12-15T17:45:01.737098Z",
     "iopub.status.idle": "2022-12-15T17:45:01.755055Z",
     "shell.execute_reply": "2022-12-15T17:45:01.754465Z"
    },
    "papermill": {
     "duration": 0.028408,
     "end_time": "2022-12-15T17:45:01.755945",
     "exception": false,
     "start_time": "2022-12-15T17:45:01.727537",
     "status": "completed"
    },
    "tags": []
   },
   "outputs": [
    {
     "data": {
      "text/plain": [
       "'S-PrediXcan file template: GWAS_Asthma_only_GLM_SNPs_info0.7-gtex_v8-mashr-{tissue}.csv'"
      ]
     },
     "metadata": {},
     "output_type": "display_data"
    }
   ],
   "source": [
    "assert (\n",
    "    SPREDIXCAN_FILE_PATTERN is not None and len(SPREDIXCAN_FILE_PATTERN) > 0\n",
    "), \"An S-PrediXcan file pattern must be given\"\n",
    "assert (\n",
    "    \"{tissue}\" in SPREDIXCAN_FILE_PATTERN\n",
    "), \"S-PrediXcan file pattern must have a '{tissue}' placeholder\"\n",
    "\n",
    "display(f\"S-PrediXcan file template: {SPREDIXCAN_FILE_PATTERN}\")"
   ]
  },
  {
   "cell_type": "code",
   "execution_count": 10,
   "id": "f5a5aa9d-c6f3-4fb5-9351-37382b6e67bc",
   "metadata": {
    "execution": {
     "iopub.execute_input": "2022-12-15T17:45:01.775175Z",
     "iopub.status.busy": "2022-12-15T17:45:01.774692Z",
     "iopub.status.idle": "2022-12-15T17:45:01.792904Z",
     "shell.execute_reply": "2022-12-15T17:45:01.792328Z"
    },
    "papermill": {
     "duration": 0.028571,
     "end_time": "2022-12-15T17:45:01.793774",
     "exception": false,
     "start_time": "2022-12-15T17:45:01.765203",
     "status": "completed"
    },
    "tags": []
   },
   "outputs": [
    {
     "data": {
      "text/plain": [
       "'S-MultiXcan file path: /opt/data/projects/asthma-copd/results/twas/smultixcan/GWAS_Asthma_only_GLM_SNPs_info0.7-gtex_v8-mashr-smultixcan.txt'"
      ]
     },
     "metadata": {},
     "output_type": "display_data"
    }
   ],
   "source": [
    "assert (\n",
    "    SMULTIXCAN_FILE is not None and len(SMULTIXCAN_FILE) > 0\n",
    "), \"An S-MultiXcan result file path must be given\"\n",
    "SMULTIXCAN_FILE = Path(SMULTIXCAN_FILE).resolve()\n",
    "assert (\n",
    "    SMULTIXCAN_FILE.exists()\n",
    "), f\"S-MultiXcan result file does not exist: {str(SMULTIXCAN_FILE)}\"\n",
    "\n",
    "display(f\"S-MultiXcan file path: {str(SMULTIXCAN_FILE)}\")"
   ]
  },
  {
   "cell_type": "code",
   "execution_count": 11,
   "id": "0723dc2f-34d1-407c-a55b-d6d13c55d63d",
   "metadata": {
    "execution": {
     "iopub.execute_input": "2022-12-15T17:45:01.813390Z",
     "iopub.status.busy": "2022-12-15T17:45:01.813074Z",
     "iopub.status.idle": "2022-12-15T17:45:01.830453Z",
     "shell.execute_reply": "2022-12-15T17:45:01.829832Z"
    },
    "papermill": {
     "duration": 0.028049,
     "end_time": "2022-12-15T17:45:01.831367",
     "exception": false,
     "start_time": "2022-12-15T17:45:01.803318",
     "status": "completed"
    },
    "tags": []
   },
   "outputs": [
    {
     "data": {
      "text/plain": [
       "'eQTL model: MASHR'"
      ]
     },
     "metadata": {},
     "output_type": "display_data"
    }
   ],
   "source": [
    "assert (\n",
    "    EQTL_MODEL is not None and len(EQTL_MODEL) > 0\n",
    "), \"A prediction/eQTL model must be given\"\n",
    "\n",
    "display(f\"eQTL model: {EQTL_MODEL}\")"
   ]
  },
  {
   "cell_type": "code",
   "execution_count": 12,
   "id": "46b9ec52-9c96-4062-b57a-783dfeea33c4",
   "metadata": {
    "execution": {
     "iopub.execute_input": "2022-12-15T17:45:01.850901Z",
     "iopub.status.busy": "2022-12-15T17:45:01.850369Z",
     "iopub.status.idle": "2022-12-15T17:45:01.868399Z",
     "shell.execute_reply": "2022-12-15T17:45:01.867834Z"
    },
    "papermill": {
     "duration": 0.028552,
     "end_time": "2022-12-15T17:45:01.869211",
     "exception": false,
     "start_time": "2022-12-15T17:45:01.840659",
     "status": "completed"
    },
    "tags": []
   },
   "outputs": [
    {
     "data": {
      "text/plain": [
       "'Using output dir base: /opt/data/projects/asthma-copd/results/gls_phenoplier/gene_corrs/asthma_only'"
      ]
     },
     "metadata": {},
     "output_type": "display_data"
    }
   ],
   "source": [
    "assert (\n",
    "    OUTPUT_DIR_BASE is not None and len(OUTPUT_DIR_BASE) > 0\n",
    "), \"Output directory path must be given\"\n",
    "\n",
    "OUTPUT_DIR_BASE = (Path(OUTPUT_DIR_BASE) / \"gene_corrs\" / COHORT_NAME).resolve()\n",
    "\n",
    "OUTPUT_DIR_BASE.mkdir(parents=True, exist_ok=True)\n",
    "\n",
    "display(f\"Using output dir base: {OUTPUT_DIR_BASE}\")"
   ]
  },
  {
   "cell_type": "markdown",
   "id": "b6ebb422-8204-494b-8c72-360a71ce9863",
   "metadata": {
    "papermill": {
     "duration": 0.009128,
     "end_time": "2022-12-15T17:45:01.887680",
     "exception": false,
     "start_time": "2022-12-15T17:45:01.878552",
     "status": "completed"
    },
    "tags": []
   },
   "source": [
    "# Load MultiPLIER Z genes"
   ]
  },
  {
   "cell_type": "code",
   "execution_count": 13,
   "id": "c48ef527",
   "metadata": {
    "execution": {
     "iopub.execute_input": "2022-12-15T17:45:01.907534Z",
     "iopub.status.busy": "2022-12-15T17:45:01.907058Z",
     "iopub.status.idle": "2022-12-15T17:45:01.974565Z",
     "shell.execute_reply": "2022-12-15T17:45:01.973900Z"
    },
    "papermill": {
     "duration": 0.078786,
     "end_time": "2022-12-15T17:45:01.976118",
     "exception": false,
     "start_time": "2022-12-15T17:45:01.897332",
     "status": "completed"
    },
    "tags": []
   },
   "outputs": [],
   "source": [
    "multiplier_z_genes = pd.read_pickle(\n",
    "    conf.MULTIPLIER[\"MODEL_Z_MATRIX_FILE\"]\n",
    ").index.tolist()"
   ]
  },
  {
   "cell_type": "code",
   "execution_count": 14,
   "id": "0a4ecbd9",
   "metadata": {
    "execution": {
     "iopub.execute_input": "2022-12-15T17:45:02.012957Z",
     "iopub.status.busy": "2022-12-15T17:45:02.012749Z",
     "iopub.status.idle": "2022-12-15T17:45:02.030716Z",
     "shell.execute_reply": "2022-12-15T17:45:02.030089Z"
    },
    "papermill": {
     "duration": 0.038029,
     "end_time": "2022-12-15T17:45:02.032319",
     "exception": false,
     "start_time": "2022-12-15T17:45:01.994290",
     "status": "completed"
    },
    "tags": []
   },
   "outputs": [
    {
     "data": {
      "text/plain": [
       "6750"
      ]
     },
     "execution_count": 14,
     "metadata": {},
     "output_type": "execute_result"
    }
   ],
   "source": [
    "len(multiplier_z_genes)"
   ]
  },
  {
   "cell_type": "code",
   "execution_count": 15,
   "id": "a18ce359-0759-4260-ae6f-053e8c0041b7",
   "metadata": {
    "execution": {
     "iopub.execute_input": "2022-12-15T17:45:02.069445Z",
     "iopub.status.busy": "2022-12-15T17:45:02.068867Z",
     "iopub.status.idle": "2022-12-15T17:45:02.085141Z",
     "shell.execute_reply": "2022-12-15T17:45:02.084562Z"
    },
    "papermill": {
     "duration": 0.036276,
     "end_time": "2022-12-15T17:45:02.086559",
     "exception": false,
     "start_time": "2022-12-15T17:45:02.050283",
     "status": "completed"
    },
    "tags": []
   },
   "outputs": [],
   "source": [
    "assert len(multiplier_z_genes) == len(set(multiplier_z_genes))"
   ]
  },
  {
   "cell_type": "code",
   "execution_count": 16,
   "id": "115e8864",
   "metadata": {
    "execution": {
     "iopub.execute_input": "2022-12-15T17:45:02.123857Z",
     "iopub.status.busy": "2022-12-15T17:45:02.123367Z",
     "iopub.status.idle": "2022-12-15T17:45:02.140814Z",
     "shell.execute_reply": "2022-12-15T17:45:02.140133Z"
    },
    "papermill": {
     "duration": 0.037259,
     "end_time": "2022-12-15T17:45:02.142256",
     "exception": false,
     "start_time": "2022-12-15T17:45:02.104997",
     "status": "completed"
    },
    "tags": []
   },
   "outputs": [
    {
     "data": {
      "text/plain": [
       "['GAS6', 'MMP14', 'DSP', 'MARCKSL1', 'SPARC']"
      ]
     },
     "execution_count": 16,
     "metadata": {},
     "output_type": "execute_result"
    }
   ],
   "source": [
    "multiplier_z_genes[:5]"
   ]
  },
  {
   "cell_type": "markdown",
   "id": "7bed0ce0-e7c7-4300-9a61-5412450b1904",
   "metadata": {
    "papermill": {
     "duration": 0.018244,
     "end_time": "2022-12-15T17:45:02.178570",
     "exception": false,
     "start_time": "2022-12-15T17:45:02.160326",
     "status": "completed"
    },
    "tags": []
   },
   "source": [
    "# GWAS"
   ]
  },
  {
   "cell_type": "code",
   "execution_count": 17,
   "id": "331e5691-c014-43e4-b94c-060c64d329df",
   "metadata": {
    "execution": {
     "iopub.execute_input": "2022-12-15T17:45:02.200925Z",
     "iopub.status.busy": "2022-12-15T17:45:02.200531Z",
     "iopub.status.idle": "2022-12-15T17:45:02.222009Z",
     "shell.execute_reply": "2022-12-15T17:45:02.221395Z"
    },
    "papermill": {
     "duration": 0.032435,
     "end_time": "2022-12-15T17:45:02.222964",
     "exception": false,
     "start_time": "2022-12-15T17:45:02.190529",
     "status": "completed"
    },
    "tags": []
   },
   "outputs": [],
   "source": [
    "gwas_file_columns = pd.read_csv(GWAS_FILE, sep=\"\\t\", nrows=2).columns\n",
    "\n",
    "assert (\n",
    "    \"panel_variant_id\" in gwas_file_columns\n",
    "), \"The GWAS file must be the final imputed one using the TWAS imputation tools with column 'panel_variant_id'\"\n",
    "\n",
    "assert (\n",
    "    \"pvalue\" in gwas_file_columns\n",
    "), \"The GWAS file must be the final imputed one using the TWAS imputation tools with column 'pvalue'\"\n",
    "\n",
    "assert (\n",
    "    \"zscore\" in gwas_file_columns\n",
    "), \"The GWAS file must be the final imputed one using the TWAS imputation tools with column 'zscore'\""
   ]
  },
  {
   "cell_type": "code",
   "execution_count": 18,
   "id": "8d419629-8f4d-4c83-bed3-cfc071a58090",
   "metadata": {
    "execution": {
     "iopub.execute_input": "2022-12-15T17:45:02.243274Z",
     "iopub.status.busy": "2022-12-15T17:45:02.242716Z",
     "iopub.status.idle": "2022-12-15T17:45:11.749667Z",
     "shell.execute_reply": "2022-12-15T17:45:11.749115Z"
    },
    "papermill": {
     "duration": 9.518644,
     "end_time": "2022-12-15T17:45:11.751393",
     "exception": false,
     "start_time": "2022-12-15T17:45:02.232749",
     "status": "completed"
    },
    "tags": []
   },
   "outputs": [],
   "source": [
    "gwas_data = pd.read_csv(\n",
    "    GWAS_FILE,\n",
    "    sep=\"\\t\",\n",
    "    usecols=[\"panel_variant_id\", \"pvalue\", \"zscore\"],\n",
    ")"
   ]
  },
  {
   "cell_type": "code",
   "execution_count": 19,
   "id": "3f4e814e-6b41-407e-9099-86795eec6ed9",
   "metadata": {
    "execution": {
     "iopub.execute_input": "2022-12-15T17:45:11.788648Z",
     "iopub.status.busy": "2022-12-15T17:45:11.788527Z",
     "iopub.status.idle": "2022-12-15T17:45:11.799601Z",
     "shell.execute_reply": "2022-12-15T17:45:11.799168Z"
    },
    "papermill": {
     "duration": 0.031066,
     "end_time": "2022-12-15T17:45:11.800939",
     "exception": false,
     "start_time": "2022-12-15T17:45:11.769873",
     "status": "completed"
    },
    "tags": []
   },
   "outputs": [
    {
     "data": {
      "text/plain": [
       "(8580225, 3)"
      ]
     },
     "execution_count": 19,
     "metadata": {},
     "output_type": "execute_result"
    }
   ],
   "source": [
    "gwas_data.shape"
   ]
  },
  {
   "cell_type": "code",
   "execution_count": 20,
   "id": "b4a906e9-c80a-47fc-9d73-5adb046f8b76",
   "metadata": {
    "execution": {
     "iopub.execute_input": "2022-12-15T17:45:11.838528Z",
     "iopub.status.busy": "2022-12-15T17:45:11.837950Z",
     "iopub.status.idle": "2022-12-15T17:45:11.859642Z",
     "shell.execute_reply": "2022-12-15T17:45:11.859054Z"
    },
    "papermill": {
     "duration": 0.041844,
     "end_time": "2022-12-15T17:45:11.861013",
     "exception": false,
     "start_time": "2022-12-15T17:45:11.819169",
     "status": "completed"
    },
    "tags": []
   },
   "outputs": [
    {
     "data": {
      "text/html": [
       "<div>\n",
       "<style scoped>\n",
       "    .dataframe tbody tr th:only-of-type {\n",
       "        vertical-align: middle;\n",
       "    }\n",
       "\n",
       "    .dataframe tbody tr th {\n",
       "        vertical-align: top;\n",
       "    }\n",
       "\n",
       "    .dataframe thead th {\n",
       "        text-align: right;\n",
       "    }\n",
       "</style>\n",
       "<table border=\"1\" class=\"dataframe\">\n",
       "  <thead>\n",
       "    <tr style=\"text-align: right;\">\n",
       "      <th></th>\n",
       "      <th>panel_variant_id</th>\n",
       "      <th>zscore</th>\n",
       "      <th>pvalue</th>\n",
       "    </tr>\n",
       "  </thead>\n",
       "  <tbody>\n",
       "    <tr>\n",
       "      <th>0</th>\n",
       "      <td>chr1_54490_G_A_b38</td>\n",
       "      <td>0.609075</td>\n",
       "      <td>0.542475</td>\n",
       "    </tr>\n",
       "    <tr>\n",
       "      <th>1</th>\n",
       "      <td>chr1_87021_T_C_b38</td>\n",
       "      <td>-0.940829</td>\n",
       "      <td>0.346793</td>\n",
       "    </tr>\n",
       "    <tr>\n",
       "      <th>2</th>\n",
       "      <td>chr1_263722_C_G_b38</td>\n",
       "      <td>0.562776</td>\n",
       "      <td>0.573587</td>\n",
       "    </tr>\n",
       "    <tr>\n",
       "      <th>3</th>\n",
       "      <td>chr1_594402_C_T_b38</td>\n",
       "      <td>0.183769</td>\n",
       "      <td>0.854195</td>\n",
       "    </tr>\n",
       "    <tr>\n",
       "      <th>4</th>\n",
       "      <td>chr1_630555_C_T_b38</td>\n",
       "      <td>-0.205482</td>\n",
       "      <td>0.837195</td>\n",
       "    </tr>\n",
       "  </tbody>\n",
       "</table>\n",
       "</div>"
      ],
      "text/plain": [
       "      panel_variant_id    zscore    pvalue\n",
       "0   chr1_54490_G_A_b38  0.609075  0.542475\n",
       "1   chr1_87021_T_C_b38 -0.940829  0.346793\n",
       "2  chr1_263722_C_G_b38  0.562776  0.573587\n",
       "3  chr1_594402_C_T_b38  0.183769  0.854195\n",
       "4  chr1_630555_C_T_b38 -0.205482  0.837195"
      ]
     },
     "execution_count": 20,
     "metadata": {},
     "output_type": "execute_result"
    }
   ],
   "source": [
    "gwas_data.head()"
   ]
  },
  {
   "cell_type": "code",
   "execution_count": 21,
   "id": "033c24fb-9c60-4ffd-929e-b0e6089820ae",
   "metadata": {
    "execution": {
     "iopub.execute_input": "2022-12-15T17:45:11.899208Z",
     "iopub.status.busy": "2022-12-15T17:45:11.898718Z",
     "iopub.status.idle": "2022-12-15T17:45:12.829612Z",
     "shell.execute_reply": "2022-12-15T17:45:12.829131Z"
    },
    "papermill": {
     "duration": 0.951217,
     "end_time": "2022-12-15T17:45:12.830943",
     "exception": false,
     "start_time": "2022-12-15T17:45:11.879726",
     "status": "completed"
    },
    "tags": []
   },
   "outputs": [
    {
     "data": {
      "text/plain": [
       "(8578486, 3)"
      ]
     },
     "execution_count": 21,
     "metadata": {},
     "output_type": "execute_result"
    }
   ],
   "source": [
    "gwas_data.dropna().shape"
   ]
  },
  {
   "cell_type": "code",
   "execution_count": 22,
   "id": "28232ce5-0afd-464e-9be3-64c3a68c2b25",
   "metadata": {
    "execution": {
     "iopub.execute_input": "2022-12-15T17:45:12.869376Z",
     "iopub.status.busy": "2022-12-15T17:45:12.869244Z",
     "iopub.status.idle": "2022-12-15T17:45:13.711541Z",
     "shell.execute_reply": "2022-12-15T17:45:13.711006Z"
    },
    "papermill": {
     "duration": 0.863097,
     "end_time": "2022-12-15T17:45:13.713279",
     "exception": false,
     "start_time": "2022-12-15T17:45:12.850182",
     "status": "completed"
    },
    "tags": []
   },
   "outputs": [],
   "source": [
    "# remove SNPs with no results\n",
    "gwas_data = gwas_data.dropna()"
   ]
  },
  {
   "cell_type": "code",
   "execution_count": 23,
   "id": "d9a6c31f-eedd-43e5-b762-5a9663be1b77",
   "metadata": {
    "execution": {
     "iopub.execute_input": "2022-12-15T17:45:13.752020Z",
     "iopub.status.busy": "2022-12-15T17:45:13.751794Z",
     "iopub.status.idle": "2022-12-15T17:45:13.763657Z",
     "shell.execute_reply": "2022-12-15T17:45:13.763239Z"
    },
    "papermill": {
     "duration": 0.032247,
     "end_time": "2022-12-15T17:45:13.764945",
     "exception": false,
     "start_time": "2022-12-15T17:45:13.732698",
     "status": "completed"
    },
    "tags": []
   },
   "outputs": [
    {
     "data": {
      "text/plain": [
       "(8578486, 3)"
      ]
     },
     "execution_count": 23,
     "metadata": {},
     "output_type": "execute_result"
    }
   ],
   "source": [
    "gwas_data.shape"
   ]
  },
  {
   "cell_type": "markdown",
   "id": "8da344de-2aa5-48a9-98ec-e8c3397ae7e6",
   "metadata": {
    "papermill": {
     "duration": 0.01851,
     "end_time": "2022-12-15T17:45:13.802656",
     "exception": false,
     "start_time": "2022-12-15T17:45:13.784146",
     "status": "completed"
    },
    "tags": []
   },
   "source": [
    "## Save GWAS variants"
   ]
  },
  {
   "cell_type": "code",
   "execution_count": 24,
   "id": "ac11fb33-ea3c-4d5c-a90b-0ceebdac43d3",
   "metadata": {
    "execution": {
     "iopub.execute_input": "2022-12-15T17:45:13.829542Z",
     "iopub.status.busy": "2022-12-15T17:45:13.829254Z",
     "iopub.status.idle": "2022-12-15T17:45:13.849594Z",
     "shell.execute_reply": "2022-12-15T17:45:13.849031Z"
    },
    "papermill": {
     "duration": 0.03162,
     "end_time": "2022-12-15T17:45:13.850480",
     "exception": false,
     "start_time": "2022-12-15T17:45:13.818860",
     "status": "completed"
    },
    "tags": []
   },
   "outputs": [
    {
     "data": {
      "text/html": [
       "<div>\n",
       "<style scoped>\n",
       "    .dataframe tbody tr th:only-of-type {\n",
       "        vertical-align: middle;\n",
       "    }\n",
       "\n",
       "    .dataframe tbody tr th {\n",
       "        vertical-align: top;\n",
       "    }\n",
       "\n",
       "    .dataframe thead th {\n",
       "        text-align: right;\n",
       "    }\n",
       "</style>\n",
       "<table border=\"1\" class=\"dataframe\">\n",
       "  <thead>\n",
       "    <tr style=\"text-align: right;\">\n",
       "      <th></th>\n",
       "      <th>panel_variant_id</th>\n",
       "      <th>zscore</th>\n",
       "      <th>pvalue</th>\n",
       "    </tr>\n",
       "  </thead>\n",
       "  <tbody>\n",
       "    <tr>\n",
       "      <th>0</th>\n",
       "      <td>chr1_54490_G_A_b38</td>\n",
       "      <td>0.609075</td>\n",
       "      <td>0.542475</td>\n",
       "    </tr>\n",
       "    <tr>\n",
       "      <th>1</th>\n",
       "      <td>chr1_87021_T_C_b38</td>\n",
       "      <td>-0.940829</td>\n",
       "      <td>0.346793</td>\n",
       "    </tr>\n",
       "    <tr>\n",
       "      <th>2</th>\n",
       "      <td>chr1_263722_C_G_b38</td>\n",
       "      <td>0.562776</td>\n",
       "      <td>0.573587</td>\n",
       "    </tr>\n",
       "    <tr>\n",
       "      <th>3</th>\n",
       "      <td>chr1_594402_C_T_b38</td>\n",
       "      <td>0.183769</td>\n",
       "      <td>0.854195</td>\n",
       "    </tr>\n",
       "    <tr>\n",
       "      <th>4</th>\n",
       "      <td>chr1_630555_C_T_b38</td>\n",
       "      <td>-0.205482</td>\n",
       "      <td>0.837195</td>\n",
       "    </tr>\n",
       "  </tbody>\n",
       "</table>\n",
       "</div>"
      ],
      "text/plain": [
       "      panel_variant_id    zscore    pvalue\n",
       "0   chr1_54490_G_A_b38  0.609075  0.542475\n",
       "1   chr1_87021_T_C_b38 -0.940829  0.346793\n",
       "2  chr1_263722_C_G_b38  0.562776  0.573587\n",
       "3  chr1_594402_C_T_b38  0.183769  0.854195\n",
       "4  chr1_630555_C_T_b38 -0.205482  0.837195"
      ]
     },
     "execution_count": 24,
     "metadata": {},
     "output_type": "execute_result"
    }
   ],
   "source": [
    "gwas_data.head()"
   ]
  },
  {
   "cell_type": "code",
   "execution_count": 25,
   "id": "5f34bb3d-761a-4860-a179-77ea5f5784ad",
   "metadata": {
    "execution": {
     "iopub.execute_input": "2022-12-15T17:45:13.871579Z",
     "iopub.status.busy": "2022-12-15T17:45:13.871032Z",
     "iopub.status.idle": "2022-12-15T17:45:17.737396Z",
     "shell.execute_reply": "2022-12-15T17:45:17.736835Z"
    },
    "papermill": {
     "duration": 3.878415,
     "end_time": "2022-12-15T17:45:17.739029",
     "exception": false,
     "start_time": "2022-12-15T17:45:13.860614",
     "status": "completed"
    },
    "tags": []
   },
   "outputs": [
    {
     "data": {
      "text/plain": [
       "True"
      ]
     },
     "execution_count": 25,
     "metadata": {},
     "output_type": "execute_result"
    }
   ],
   "source": [
    "# in eMERGE's results, some values here are repeated (will be removed later by taking the unique set of variant IDs).\n",
    "gwas_data[\"panel_variant_id\"].is_unique"
   ]
  },
  {
   "cell_type": "code",
   "execution_count": 26,
   "id": "d4f23b2f-01a3-4a45-a2b6-31b245b5778e",
   "metadata": {
    "execution": {
     "iopub.execute_input": "2022-12-15T17:45:17.782827Z",
     "iopub.status.busy": "2022-12-15T17:45:17.782692Z",
     "iopub.status.idle": "2022-12-15T17:45:19.778034Z",
     "shell.execute_reply": "2022-12-15T17:45:19.777482Z"
    },
    "papermill": {
     "duration": 2.017555,
     "end_time": "2022-12-15T17:45:19.779502",
     "exception": false,
     "start_time": "2022-12-15T17:45:17.761947",
     "status": "completed"
    },
    "tags": []
   },
   "outputs": [
    {
     "data": {
      "text/plain": [
       "['chr5_148051349_A_G_b38',\n",
       " 'chr10_117647442_C_T_b38',\n",
       " 'chr15_80454238_A_G_b38',\n",
       " 'chr15_56754998_A_G_b38',\n",
       " 'chr5_14763816_C_T_b38']"
      ]
     },
     "execution_count": 26,
     "metadata": {},
     "output_type": "execute_result"
    }
   ],
   "source": [
    "gwas_variants_ids_set = frozenset(gwas_data[\"panel_variant_id\"])\n",
    "list(gwas_variants_ids_set)[:5]"
   ]
  },
  {
   "cell_type": "code",
   "execution_count": 27,
   "id": "b4a441df-07d7-48dc-be36-cdb3f92be651",
   "metadata": {
    "execution": {
     "iopub.execute_input": "2022-12-15T17:45:19.819078Z",
     "iopub.status.busy": "2022-12-15T17:45:19.818947Z",
     "iopub.status.idle": "2022-12-15T17:45:22.700412Z",
     "shell.execute_reply": "2022-12-15T17:45:22.699852Z"
    },
    "papermill": {
     "duration": 2.903066,
     "end_time": "2022-12-15T17:45:22.702147",
     "exception": false,
     "start_time": "2022-12-15T17:45:19.799081",
     "status": "completed"
    },
    "tags": []
   },
   "outputs": [],
   "source": [
    "with open(OUTPUT_DIR_BASE / \"gwas_variant_ids.pkl\", \"wb\") as handle:\n",
    "    pickle.dump(gwas_variants_ids_set, handle, protocol=pickle.HIGHEST_PROTOCOL)"
   ]
  },
  {
   "cell_type": "markdown",
   "id": "abcc4b3d",
   "metadata": {
    "papermill": {
     "duration": 0.020184,
     "end_time": "2022-12-15T17:45:22.742873",
     "exception": false,
     "start_time": "2022-12-15T17:45:22.722689",
     "status": "completed"
    },
    "tags": []
   },
   "source": [
    "# TWAS"
   ]
  },
  {
   "cell_type": "markdown",
   "id": "2fbc7358-0563-4fc6-bc47-a0fbcc5cdfd4",
   "metadata": {
    "papermill": {
     "duration": 0.019674,
     "end_time": "2022-12-15T17:45:22.782818",
     "exception": false,
     "start_time": "2022-12-15T17:45:22.763144",
     "status": "completed"
    },
    "tags": []
   },
   "source": [
    "## Available tissues for eQTL model"
   ]
  },
  {
   "cell_type": "code",
   "execution_count": 28,
   "id": "f32c0a84-030a-436b-b597-852b6150d2ac",
   "metadata": {
    "execution": {
     "iopub.execute_input": "2022-12-15T17:45:22.804575Z",
     "iopub.status.busy": "2022-12-15T17:45:22.804345Z",
     "iopub.status.idle": "2022-12-15T17:45:22.814708Z",
     "shell.execute_reply": "2022-12-15T17:45:22.814268Z"
    },
    "papermill": {
     "duration": 0.021841,
     "end_time": "2022-12-15T17:45:22.815488",
     "exception": false,
     "start_time": "2022-12-15T17:45:22.793647",
     "status": "completed"
    },
    "tags": []
   },
   "outputs": [],
   "source": [
    "prediction_model_tissues = conf.PHENOMEXCAN[\"PREDICTION_MODELS\"][\n",
    "    f\"{EQTL_MODEL}_TISSUES\"\n",
    "].split(\" \")"
   ]
  },
  {
   "cell_type": "code",
   "execution_count": 29,
   "id": "0e760d0e-f23d-4590-abfb-811a43f7c237",
   "metadata": {
    "execution": {
     "iopub.execute_input": "2022-12-15T17:45:22.836486Z",
     "iopub.status.busy": "2022-12-15T17:45:22.836052Z",
     "iopub.status.idle": "2022-12-15T17:45:22.852091Z",
     "shell.execute_reply": "2022-12-15T17:45:22.851527Z"
    },
    "papermill": {
     "duration": 0.027348,
     "end_time": "2022-12-15T17:45:22.852907",
     "exception": false,
     "start_time": "2022-12-15T17:45:22.825559",
     "status": "completed"
    },
    "tags": []
   },
   "outputs": [
    {
     "data": {
      "text/plain": [
       "49"
      ]
     },
     "execution_count": 29,
     "metadata": {},
     "output_type": "execute_result"
    }
   ],
   "source": [
    "len(prediction_model_tissues)"
   ]
  },
  {
   "cell_type": "code",
   "execution_count": 30,
   "id": "fa4d942c-cd67-4b31-9491-585c887c0ee3",
   "metadata": {
    "execution": {
     "iopub.execute_input": "2022-12-15T17:45:22.874681Z",
     "iopub.status.busy": "2022-12-15T17:45:22.874078Z",
     "iopub.status.idle": "2022-12-15T17:45:22.890359Z",
     "shell.execute_reply": "2022-12-15T17:45:22.889796Z"
    },
    "papermill": {
     "duration": 0.028117,
     "end_time": "2022-12-15T17:45:22.891314",
     "exception": false,
     "start_time": "2022-12-15T17:45:22.863197",
     "status": "completed"
    },
    "tags": []
   },
   "outputs": [
    {
     "data": {
      "text/plain": [
       "['Thyroid',\n",
       " 'Artery_Aorta',\n",
       " 'Heart_Atrial_Appendage',\n",
       " 'Liver',\n",
       " 'Heart_Left_Ventricle']"
      ]
     },
     "execution_count": 30,
     "metadata": {},
     "output_type": "execute_result"
    }
   ],
   "source": [
    "prediction_model_tissues[:5]"
   ]
  },
  {
   "cell_type": "markdown",
   "id": "fab4814d-757c-4247-b5e4-891bc4863db7",
   "metadata": {
    "papermill": {
     "duration": 0.010178,
     "end_time": "2022-12-15T17:45:22.911725",
     "exception": false,
     "start_time": "2022-12-15T17:45:22.901547",
     "status": "completed"
    },
    "tags": []
   },
   "source": [
    "## S-MultiXcan results"
   ]
  },
  {
   "cell_type": "code",
   "execution_count": 31,
   "id": "2b73c11e-9aa2-410e-84b4-a70be34d02e4",
   "metadata": {
    "execution": {
     "iopub.execute_input": "2022-12-15T17:45:22.933370Z",
     "iopub.status.busy": "2022-12-15T17:45:22.932834Z",
     "iopub.status.idle": "2022-12-15T17:45:22.996923Z",
     "shell.execute_reply": "2022-12-15T17:45:22.996254Z"
    },
    "papermill": {
     "duration": 0.075916,
     "end_time": "2022-12-15T17:45:22.997884",
     "exception": false,
     "start_time": "2022-12-15T17:45:22.921968",
     "status": "completed"
    },
    "tags": []
   },
   "outputs": [],
   "source": [
    "smultixcan_results = pd.read_csv(\n",
    "    SMULTIXCAN_FILE, sep=\"\\t\", usecols=[\"gene\", \"gene_name\", \"pvalue\", \"n\", \"n_indep\"]\n",
    ")"
   ]
  },
  {
   "cell_type": "code",
   "execution_count": 32,
   "id": "8b5abebd-baab-4188-9e3d-655ebbe32401",
   "metadata": {
    "execution": {
     "iopub.execute_input": "2022-12-15T17:45:23.019629Z",
     "iopub.status.busy": "2022-12-15T17:45:23.019414Z",
     "iopub.status.idle": "2022-12-15T17:45:23.037090Z",
     "shell.execute_reply": "2022-12-15T17:45:23.036524Z"
    },
    "papermill": {
     "duration": 0.029504,
     "end_time": "2022-12-15T17:45:23.038001",
     "exception": false,
     "start_time": "2022-12-15T17:45:23.008497",
     "status": "completed"
    },
    "tags": []
   },
   "outputs": [
    {
     "data": {
      "text/plain": [
       "(22314, 5)"
      ]
     },
     "execution_count": 32,
     "metadata": {},
     "output_type": "execute_result"
    }
   ],
   "source": [
    "smultixcan_results.shape"
   ]
  },
  {
   "cell_type": "code",
   "execution_count": 33,
   "id": "c65e233f-9ef6-4883-9386-7abf1d6d1cbd",
   "metadata": {
    "execution": {
     "iopub.execute_input": "2022-12-15T17:45:23.059800Z",
     "iopub.status.busy": "2022-12-15T17:45:23.059392Z",
     "iopub.status.idle": "2022-12-15T17:45:23.083219Z",
     "shell.execute_reply": "2022-12-15T17:45:23.082600Z"
    },
    "papermill": {
     "duration": 0.035736,
     "end_time": "2022-12-15T17:45:23.084184",
     "exception": false,
     "start_time": "2022-12-15T17:45:23.048448",
     "status": "completed"
    },
    "tags": []
   },
   "outputs": [],
   "source": [
    "smultixcan_results = smultixcan_results.dropna()"
   ]
  },
  {
   "cell_type": "code",
   "execution_count": 34,
   "id": "57d2d311-4a42-4725-9e37-b124ed13ad33",
   "metadata": {
    "execution": {
     "iopub.execute_input": "2022-12-15T17:45:23.106251Z",
     "iopub.status.busy": "2022-12-15T17:45:23.105686Z",
     "iopub.status.idle": "2022-12-15T17:45:23.122785Z",
     "shell.execute_reply": "2022-12-15T17:45:23.122219Z"
    },
    "papermill": {
     "duration": 0.028968,
     "end_time": "2022-12-15T17:45:23.123671",
     "exception": false,
     "start_time": "2022-12-15T17:45:23.094703",
     "status": "completed"
    },
    "tags": []
   },
   "outputs": [
    {
     "data": {
      "text/plain": [
       "(22311, 5)"
      ]
     },
     "execution_count": 34,
     "metadata": {},
     "output_type": "execute_result"
    }
   ],
   "source": [
    "smultixcan_results.shape"
   ]
  },
  {
   "cell_type": "code",
   "execution_count": 35,
   "id": "a36b5b59-f4b6-45bf-b241-ffc9671b357f",
   "metadata": {
    "execution": {
     "iopub.execute_input": "2022-12-15T17:45:23.145596Z",
     "iopub.status.busy": "2022-12-15T17:45:23.145138Z",
     "iopub.status.idle": "2022-12-15T17:45:23.169533Z",
     "shell.execute_reply": "2022-12-15T17:45:23.168916Z"
    },
    "papermill": {
     "duration": 0.03625,
     "end_time": "2022-12-15T17:45:23.170460",
     "exception": false,
     "start_time": "2022-12-15T17:45:23.134210",
     "status": "completed"
    },
    "tags": []
   },
   "outputs": [],
   "source": [
    "smultixcan_results = smultixcan_results.assign(\n",
    "    gene_id=smultixcan_results[\"gene\"].apply(lambda g: g.split(\".\")[0])\n",
    ")"
   ]
  },
  {
   "cell_type": "code",
   "execution_count": 36,
   "id": "c49f62a9-a01a-44af-87da-47d195b0ef7e",
   "metadata": {
    "execution": {
     "iopub.execute_input": "2022-12-15T17:45:23.192567Z",
     "iopub.status.busy": "2022-12-15T17:45:23.191939Z",
     "iopub.status.idle": "2022-12-15T17:45:23.215557Z",
     "shell.execute_reply": "2022-12-15T17:45:23.214987Z"
    },
    "papermill": {
     "duration": 0.035418,
     "end_time": "2022-12-15T17:45:23.216412",
     "exception": false,
     "start_time": "2022-12-15T17:45:23.180994",
     "status": "completed"
    },
    "tags": []
   },
   "outputs": [
    {
     "data": {
      "text/html": [
       "<div>\n",
       "<style scoped>\n",
       "    .dataframe tbody tr th:only-of-type {\n",
       "        vertical-align: middle;\n",
       "    }\n",
       "\n",
       "    .dataframe tbody tr th {\n",
       "        vertical-align: top;\n",
       "    }\n",
       "\n",
       "    .dataframe thead th {\n",
       "        text-align: right;\n",
       "    }\n",
       "</style>\n",
       "<table border=\"1\" class=\"dataframe\">\n",
       "  <thead>\n",
       "    <tr style=\"text-align: right;\">\n",
       "      <th></th>\n",
       "      <th>gene</th>\n",
       "      <th>gene_name</th>\n",
       "      <th>pvalue</th>\n",
       "      <th>n</th>\n",
       "      <th>n_indep</th>\n",
       "      <th>gene_id</th>\n",
       "    </tr>\n",
       "  </thead>\n",
       "  <tbody>\n",
       "    <tr>\n",
       "      <th>0</th>\n",
       "      <td>ENSG00000196735.11</td>\n",
       "      <td>HLA-DQA1</td>\n",
       "      <td>7.348761e-41</td>\n",
       "      <td>44.0</td>\n",
       "      <td>6.0</td>\n",
       "      <td>ENSG00000196735</td>\n",
       "    </tr>\n",
       "    <tr>\n",
       "      <th>1</th>\n",
       "      <td>ENSG00000204290.10</td>\n",
       "      <td>BTNL2</td>\n",
       "      <td>1.946528e-35</td>\n",
       "      <td>21.0</td>\n",
       "      <td>10.0</td>\n",
       "      <td>ENSG00000204290</td>\n",
       "    </tr>\n",
       "    <tr>\n",
       "      <th>2</th>\n",
       "      <td>ENSG00000204287.13</td>\n",
       "      <td>HLA-DRA</td>\n",
       "      <td>1.368742e-34</td>\n",
       "      <td>31.0</td>\n",
       "      <td>6.0</td>\n",
       "      <td>ENSG00000204287</td>\n",
       "    </tr>\n",
       "    <tr>\n",
       "      <th>3</th>\n",
       "      <td>ENSG00000237541.3</td>\n",
       "      <td>HLA-DQA2</td>\n",
       "      <td>1.435612e-33</td>\n",
       "      <td>45.0</td>\n",
       "      <td>5.0</td>\n",
       "      <td>ENSG00000237541</td>\n",
       "    </tr>\n",
       "    <tr>\n",
       "      <th>4</th>\n",
       "      <td>ENSG00000179344.16</td>\n",
       "      <td>HLA-DQB1</td>\n",
       "      <td>5.862907e-33</td>\n",
       "      <td>49.0</td>\n",
       "      <td>3.0</td>\n",
       "      <td>ENSG00000179344</td>\n",
       "    </tr>\n",
       "  </tbody>\n",
       "</table>\n",
       "</div>"
      ],
      "text/plain": [
       "                 gene gene_name        pvalue     n  n_indep          gene_id\n",
       "0  ENSG00000196735.11  HLA-DQA1  7.348761e-41  44.0      6.0  ENSG00000196735\n",
       "1  ENSG00000204290.10     BTNL2  1.946528e-35  21.0     10.0  ENSG00000204290\n",
       "2  ENSG00000204287.13   HLA-DRA  1.368742e-34  31.0      6.0  ENSG00000204287\n",
       "3   ENSG00000237541.3  HLA-DQA2  1.435612e-33  45.0      5.0  ENSG00000237541\n",
       "4  ENSG00000179344.16  HLA-DQB1  5.862907e-33  49.0      3.0  ENSG00000179344"
      ]
     },
     "execution_count": 36,
     "metadata": {},
     "output_type": "execute_result"
    }
   ],
   "source": [
    "smultixcan_results.head()"
   ]
  },
  {
   "cell_type": "code",
   "execution_count": 37,
   "id": "9c4c023c-86d6-4c4b-8d57-c2b6b93aaf84",
   "metadata": {
    "execution": {
     "iopub.execute_input": "2022-12-15T17:45:23.239150Z",
     "iopub.status.busy": "2022-12-15T17:45:23.238613Z",
     "iopub.status.idle": "2022-12-15T17:45:23.258340Z",
     "shell.execute_reply": "2022-12-15T17:45:23.257742Z"
    },
    "papermill": {
     "duration": 0.03186,
     "end_time": "2022-12-15T17:45:23.259258",
     "exception": false,
     "start_time": "2022-12-15T17:45:23.227398",
     "status": "completed"
    },
    "tags": []
   },
   "outputs": [],
   "source": [
    "assert smultixcan_results[\"gene_id\"].is_unique"
   ]
  },
  {
   "cell_type": "markdown",
   "id": "1f9939f1-4200-40d9-a8bf-8e4fd68bee48",
   "metadata": {
    "papermill": {
     "duration": 0.010484,
     "end_time": "2022-12-15T17:45:23.280991",
     "exception": false,
     "start_time": "2022-12-15T17:45:23.270507",
     "status": "completed"
    },
    "tags": []
   },
   "source": [
    "### Get common genes with MultiPLIER"
   ]
  },
  {
   "cell_type": "code",
   "execution_count": 38,
   "id": "c820e6cf-6350-45af-b49a-0abd94f570ff",
   "metadata": {
    "execution": {
     "iopub.execute_input": "2022-12-15T17:45:23.303576Z",
     "iopub.status.busy": "2022-12-15T17:45:23.303024Z",
     "iopub.status.idle": "2022-12-15T17:45:23.325086Z",
     "shell.execute_reply": "2022-12-15T17:45:23.324476Z"
    },
    "papermill": {
     "duration": 0.034377,
     "end_time": "2022-12-15T17:45:23.326044",
     "exception": false,
     "start_time": "2022-12-15T17:45:23.291667",
     "status": "completed"
    },
    "tags": []
   },
   "outputs": [],
   "source": [
    "common_genes = set(multiplier_z_genes).intersection(\n",
    "    set(smultixcan_results[\"gene_name\"])\n",
    ")"
   ]
  },
  {
   "cell_type": "code",
   "execution_count": 39,
   "id": "0a7328f9-96c7-4ac6-a9a6-ae4fa121a4cd",
   "metadata": {
    "execution": {
     "iopub.execute_input": "2022-12-15T17:45:23.348789Z",
     "iopub.status.busy": "2022-12-15T17:45:23.348237Z",
     "iopub.status.idle": "2022-12-15T17:45:23.366502Z",
     "shell.execute_reply": "2022-12-15T17:45:23.365937Z"
    },
    "papermill": {
     "duration": 0.03027,
     "end_time": "2022-12-15T17:45:23.367334",
     "exception": false,
     "start_time": "2022-12-15T17:45:23.337064",
     "status": "completed"
    },
    "tags": []
   },
   "outputs": [
    {
     "data": {
      "text/plain": [
       "6445"
      ]
     },
     "execution_count": 39,
     "metadata": {},
     "output_type": "execute_result"
    }
   ],
   "source": [
    "len(common_genes)"
   ]
  },
  {
   "cell_type": "code",
   "execution_count": 40,
   "id": "5b08d362-44c8-4db2-9258-670e2e2a9cc0",
   "metadata": {
    "execution": {
     "iopub.execute_input": "2022-12-15T17:45:23.389833Z",
     "iopub.status.busy": "2022-12-15T17:45:23.389418Z",
     "iopub.status.idle": "2022-12-15T17:45:23.408823Z",
     "shell.execute_reply": "2022-12-15T17:45:23.408253Z"
    },
    "papermill": {
     "duration": 0.031449,
     "end_time": "2022-12-15T17:45:23.409627",
     "exception": false,
     "start_time": "2022-12-15T17:45:23.378178",
     "status": "completed"
    },
    "tags": []
   },
   "outputs": [
    {
     "data": {
      "text/plain": [
       "['A2M', 'AAAS', 'AANAT', 'AARS', 'AARS2']"
      ]
     },
     "execution_count": 40,
     "metadata": {},
     "output_type": "execute_result"
    }
   ],
   "source": [
    "sorted(list(common_genes))[:5]"
   ]
  },
  {
   "cell_type": "markdown",
   "id": "7f51338b-8a75-42c3-a7e5-a0961cefb663",
   "metadata": {
    "papermill": {
     "duration": 0.010702,
     "end_time": "2022-12-15T17:45:23.431220",
     "exception": false,
     "start_time": "2022-12-15T17:45:23.420518",
     "status": "completed"
    },
    "tags": []
   },
   "source": [
    "## Genes info"
   ]
  },
  {
   "cell_type": "code",
   "execution_count": 41,
   "id": "bb932812",
   "metadata": {
    "execution": {
     "iopub.execute_input": "2022-12-15T17:45:23.454285Z",
     "iopub.status.busy": "2022-12-15T17:45:23.453814Z",
     "iopub.status.idle": "2022-12-15T17:45:24.057954Z",
     "shell.execute_reply": "2022-12-15T17:45:24.057346Z"
    },
    "papermill": {
     "duration": 0.617427,
     "end_time": "2022-12-15T17:45:24.059651",
     "exception": false,
     "start_time": "2022-12-15T17:45:23.442224",
     "status": "completed"
    },
    "tags": []
   },
   "outputs": [],
   "source": [
    "multiplier_gene_obj = {\n",
    "    gene_name: Gene(name=gene_name)\n",
    "    for gene_name in common_genes\n",
    "    if gene_name in Gene.GENE_NAME_TO_ID_MAP\n",
    "}"
   ]
  },
  {
   "cell_type": "code",
   "execution_count": 42,
   "id": "cb9d7a45-2b7d-4d10-80dc-212a625b5ae7",
   "metadata": {
    "execution": {
     "iopub.execute_input": "2022-12-15T17:45:24.102139Z",
     "iopub.status.busy": "2022-12-15T17:45:24.102004Z",
     "iopub.status.idle": "2022-12-15T17:45:24.112524Z",
     "shell.execute_reply": "2022-12-15T17:45:24.111998Z"
    },
    "papermill": {
     "duration": 0.032862,
     "end_time": "2022-12-15T17:45:24.113865",
     "exception": false,
     "start_time": "2022-12-15T17:45:24.081003",
     "status": "completed"
    },
    "tags": []
   },
   "outputs": [],
   "source": [
    "# delete common_genes, from now on, genes_info should be used for common genes\n",
    "del common_genes"
   ]
  },
  {
   "cell_type": "code",
   "execution_count": 43,
   "id": "39533214",
   "metadata": {
    "execution": {
     "iopub.execute_input": "2022-12-15T17:45:24.155800Z",
     "iopub.status.busy": "2022-12-15T17:45:24.155180Z",
     "iopub.status.idle": "2022-12-15T17:45:24.171614Z",
     "shell.execute_reply": "2022-12-15T17:45:24.171052Z"
    },
    "papermill": {
     "duration": 0.038693,
     "end_time": "2022-12-15T17:45:24.172990",
     "exception": false,
     "start_time": "2022-12-15T17:45:24.134297",
     "status": "completed"
    },
    "tags": []
   },
   "outputs": [
    {
     "data": {
      "text/plain": [
       "6445"
      ]
     },
     "execution_count": 43,
     "metadata": {},
     "output_type": "execute_result"
    }
   ],
   "source": [
    "len(multiplier_gene_obj)"
   ]
  },
  {
   "cell_type": "code",
   "execution_count": 44,
   "id": "9a5d0b84",
   "metadata": {
    "execution": {
     "iopub.execute_input": "2022-12-15T17:45:24.214535Z",
     "iopub.status.busy": "2022-12-15T17:45:24.214328Z",
     "iopub.status.idle": "2022-12-15T17:45:24.230023Z",
     "shell.execute_reply": "2022-12-15T17:45:24.229395Z"
    },
    "papermill": {
     "duration": 0.037169,
     "end_time": "2022-12-15T17:45:24.231027",
     "exception": false,
     "start_time": "2022-12-15T17:45:24.193858",
     "status": "completed"
    },
    "tags": []
   },
   "outputs": [],
   "source": [
    "assert multiplier_gene_obj[\"GAS6\"].ensembl_id == \"ENSG00000183087\""
   ]
  },
  {
   "cell_type": "code",
   "execution_count": 45,
   "id": "e3ffabc7",
   "metadata": {
    "execution": {
     "iopub.execute_input": "2022-12-15T17:45:24.253866Z",
     "iopub.status.busy": "2022-12-15T17:45:24.253308Z",
     "iopub.status.idle": "2022-12-15T17:45:25.984200Z",
     "shell.execute_reply": "2022-12-15T17:45:25.983602Z"
    },
    "papermill": {
     "duration": 1.744012,
     "end_time": "2022-12-15T17:45:25.985995",
     "exception": false,
     "start_time": "2022-12-15T17:45:24.241983",
     "status": "completed"
    },
    "tags": []
   },
   "outputs": [],
   "source": [
    "_gene_obj = list(multiplier_gene_obj.values())\n",
    "\n",
    "genes_info = pd.DataFrame(\n",
    "    {\n",
    "        \"name\": [g.name for g in _gene_obj],\n",
    "        \"id\": [g.ensembl_id for g in _gene_obj],\n",
    "        \"chr\": [g.chromosome for g in _gene_obj],\n",
    "        \"band\": [g.band for g in _gene_obj],\n",
    "        \"start_position\": [g.get_attribute(\"start_position\") for g in _gene_obj],\n",
    "        \"end_position\": [g.get_attribute(\"end_position\") for g in _gene_obj],\n",
    "    }\n",
    ")"
   ]
  },
  {
   "cell_type": "code",
   "execution_count": 46,
   "id": "00475e72-1cfc-485f-8b4e-1d9cce695f58",
   "metadata": {
    "execution": {
     "iopub.execute_input": "2022-12-15T17:45:26.029125Z",
     "iopub.status.busy": "2022-12-15T17:45:26.028998Z",
     "iopub.status.idle": "2022-12-15T17:45:26.071408Z",
     "shell.execute_reply": "2022-12-15T17:45:26.070874Z"
    },
    "papermill": {
     "duration": 0.065508,
     "end_time": "2022-12-15T17:45:26.072860",
     "exception": false,
     "start_time": "2022-12-15T17:45:26.007352",
     "status": "completed"
    },
    "tags": []
   },
   "outputs": [],
   "source": [
    "genes_info = genes_info.assign(\n",
    "    gene_length=genes_info.apply(\n",
    "        lambda x: x[\"end_position\"] - x[\"start_position\"], axis=1\n",
    "    )\n",
    ")"
   ]
  },
  {
   "cell_type": "code",
   "execution_count": 47,
   "id": "3af1a166-08a0-4333-bc09-b8bc762aa7ef",
   "metadata": {
    "execution": {
     "iopub.execute_input": "2022-12-15T17:45:26.115471Z",
     "iopub.status.busy": "2022-12-15T17:45:26.115354Z",
     "iopub.status.idle": "2022-12-15T17:45:26.126919Z",
     "shell.execute_reply": "2022-12-15T17:45:26.126415Z"
    },
    "papermill": {
     "duration": 0.034005,
     "end_time": "2022-12-15T17:45:26.128288",
     "exception": false,
     "start_time": "2022-12-15T17:45:26.094283",
     "status": "completed"
    },
    "tags": []
   },
   "outputs": [
    {
     "data": {
      "text/plain": [
       "name               object\n",
       "id                 object\n",
       "chr                object\n",
       "band               object\n",
       "start_position    float64\n",
       "end_position      float64\n",
       "gene_length       float64\n",
       "dtype: object"
      ]
     },
     "execution_count": 47,
     "metadata": {},
     "output_type": "execute_result"
    }
   ],
   "source": [
    "genes_info.dtypes"
   ]
  },
  {
   "cell_type": "code",
   "execution_count": 48,
   "id": "08a23f6f-87f6-4072-88c8-010b90a411cd",
   "metadata": {
    "execution": {
     "iopub.execute_input": "2022-12-15T17:45:26.170114Z",
     "iopub.status.busy": "2022-12-15T17:45:26.169831Z",
     "iopub.status.idle": "2022-12-15T17:45:26.191921Z",
     "shell.execute_reply": "2022-12-15T17:45:26.191324Z"
    },
    "papermill": {
     "duration": 0.043411,
     "end_time": "2022-12-15T17:45:26.192839",
     "exception": false,
     "start_time": "2022-12-15T17:45:26.149428",
     "status": "completed"
    },
    "tags": []
   },
   "outputs": [
    {
     "data": {
      "text/html": [
       "<div>\n",
       "<style scoped>\n",
       "    .dataframe tbody tr th:only-of-type {\n",
       "        vertical-align: middle;\n",
       "    }\n",
       "\n",
       "    .dataframe tbody tr th {\n",
       "        vertical-align: top;\n",
       "    }\n",
       "\n",
       "    .dataframe thead th {\n",
       "        text-align: right;\n",
       "    }\n",
       "</style>\n",
       "<table border=\"1\" class=\"dataframe\">\n",
       "  <thead>\n",
       "    <tr style=\"text-align: right;\">\n",
       "      <th></th>\n",
       "      <th>name</th>\n",
       "      <th>id</th>\n",
       "      <th>chr</th>\n",
       "      <th>band</th>\n",
       "      <th>start_position</th>\n",
       "      <th>end_position</th>\n",
       "      <th>gene_length</th>\n",
       "    </tr>\n",
       "  </thead>\n",
       "  <tbody>\n",
       "    <tr>\n",
       "      <th>1774</th>\n",
       "      <td>TBCE</td>\n",
       "      <td>ENSG00000116957</td>\n",
       "      <td>None</td>\n",
       "      <td>None</td>\n",
       "      <td>NaN</td>\n",
       "      <td>NaN</td>\n",
       "      <td>NaN</td>\n",
       "    </tr>\n",
       "    <tr>\n",
       "      <th>3960</th>\n",
       "      <td>TMEM133</td>\n",
       "      <td>ENSG00000170647</td>\n",
       "      <td>None</td>\n",
       "      <td>None</td>\n",
       "      <td>NaN</td>\n",
       "      <td>NaN</td>\n",
       "      <td>NaN</td>\n",
       "    </tr>\n",
       "  </tbody>\n",
       "</table>\n",
       "</div>"
      ],
      "text/plain": [
       "         name               id   chr  band  start_position  end_position  \\\n",
       "1774     TBCE  ENSG00000116957  None  None             NaN           NaN   \n",
       "3960  TMEM133  ENSG00000170647  None  None             NaN           NaN   \n",
       "\n",
       "      gene_length  \n",
       "1774          NaN  \n",
       "3960          NaN  "
      ]
     },
     "metadata": {},
     "output_type": "display_data"
    }
   ],
   "source": [
    "_tmp = genes_info[genes_info.isna().any(axis=1)]\n",
    "display(_tmp)\n",
    "assert _tmp.shape[0] < 5"
   ]
  },
  {
   "cell_type": "code",
   "execution_count": 49,
   "id": "87c010f0-8ad9-4bf0-b12d-02f37a93853a",
   "metadata": {
    "execution": {
     "iopub.execute_input": "2022-12-15T17:45:26.216448Z",
     "iopub.status.busy": "2022-12-15T17:45:26.216080Z",
     "iopub.status.idle": "2022-12-15T17:45:26.234089Z",
     "shell.execute_reply": "2022-12-15T17:45:26.233486Z"
    },
    "papermill": {
     "duration": 0.03077,
     "end_time": "2022-12-15T17:45:26.234962",
     "exception": false,
     "start_time": "2022-12-15T17:45:26.204192",
     "status": "completed"
    },
    "tags": []
   },
   "outputs": [],
   "source": [
    "genes_info = genes_info.dropna()"
   ]
  },
  {
   "cell_type": "code",
   "execution_count": 50,
   "id": "61833f43-3a92-47e9-bca3-e05b6673c7d9",
   "metadata": {
    "execution": {
     "iopub.execute_input": "2022-12-15T17:45:26.258114Z",
     "iopub.status.busy": "2022-12-15T17:45:26.257801Z",
     "iopub.status.idle": "2022-12-15T17:45:26.637197Z",
     "shell.execute_reply": "2022-12-15T17:45:26.636642Z"
    },
    "papermill": {
     "duration": 0.392936,
     "end_time": "2022-12-15T17:45:26.638901",
     "exception": false,
     "start_time": "2022-12-15T17:45:26.245965",
     "status": "completed"
    },
    "tags": []
   },
   "outputs": [],
   "source": [
    "genes_info[\"chr\"] = genes_info[\"chr\"].apply(pd.to_numeric, downcast=\"integer\")\n",
    "genes_info[\"start_position\"] = genes_info[\"start_position\"].astype(int)\n",
    "genes_info[\"end_position\"] = genes_info[\"end_position\"].astype(int)\n",
    "genes_info[\"gene_length\"] = genes_info[\"gene_length\"].astype(int)"
   ]
  },
  {
   "cell_type": "code",
   "execution_count": 51,
   "id": "e4b9ae23-3edb-41a4-97aa-80cc7db6d393",
   "metadata": {
    "execution": {
     "iopub.execute_input": "2022-12-15T17:45:26.683479Z",
     "iopub.status.busy": "2022-12-15T17:45:26.683363Z",
     "iopub.status.idle": "2022-12-15T17:45:26.700859Z",
     "shell.execute_reply": "2022-12-15T17:45:26.700281Z"
    },
    "papermill": {
     "duration": 0.041211,
     "end_time": "2022-12-15T17:45:26.702299",
     "exception": false,
     "start_time": "2022-12-15T17:45:26.661088",
     "status": "completed"
    },
    "tags": []
   },
   "outputs": [
    {
     "data": {
      "text/plain": [
       "name              object\n",
       "id                object\n",
       "chr                 int8\n",
       "band              object\n",
       "start_position     int64\n",
       "end_position       int64\n",
       "gene_length        int64\n",
       "dtype: object"
      ]
     },
     "execution_count": 51,
     "metadata": {},
     "output_type": "execute_result"
    }
   ],
   "source": [
    "genes_info.dtypes"
   ]
  },
  {
   "cell_type": "code",
   "execution_count": 52,
   "id": "09d6320a-b1c4-4200-a23e-184bc4be69c7",
   "metadata": {
    "execution": {
     "iopub.execute_input": "2022-12-15T17:45:26.746443Z",
     "iopub.status.busy": "2022-12-15T17:45:26.745943Z",
     "iopub.status.idle": "2022-12-15T17:45:26.763454Z",
     "shell.execute_reply": "2022-12-15T17:45:26.762803Z"
    },
    "papermill": {
     "duration": 0.041188,
     "end_time": "2022-12-15T17:45:26.764938",
     "exception": false,
     "start_time": "2022-12-15T17:45:26.723750",
     "status": "completed"
    },
    "tags": []
   },
   "outputs": [],
   "source": [
    "assert genes_info[\"name\"].is_unique"
   ]
  },
  {
   "cell_type": "code",
   "execution_count": 53,
   "id": "009d11e4-f8cb-4a81-823d-c7f10b906d3b",
   "metadata": {
    "execution": {
     "iopub.execute_input": "2022-12-15T17:45:26.824099Z",
     "iopub.status.busy": "2022-12-15T17:45:26.823588Z",
     "iopub.status.idle": "2022-12-15T17:45:26.841268Z",
     "shell.execute_reply": "2022-12-15T17:45:26.840622Z"
    },
    "papermill": {
     "duration": 0.030745,
     "end_time": "2022-12-15T17:45:26.842200",
     "exception": false,
     "start_time": "2022-12-15T17:45:26.811455",
     "status": "completed"
    },
    "tags": []
   },
   "outputs": [],
   "source": [
    "assert genes_info[\"id\"].is_unique"
   ]
  },
  {
   "cell_type": "code",
   "execution_count": 54,
   "id": "e23519b8",
   "metadata": {
    "execution": {
     "iopub.execute_input": "2022-12-15T17:45:26.865547Z",
     "iopub.status.busy": "2022-12-15T17:45:26.865185Z",
     "iopub.status.idle": "2022-12-15T17:45:26.882765Z",
     "shell.execute_reply": "2022-12-15T17:45:26.882191Z"
    },
    "papermill": {
     "duration": 0.030297,
     "end_time": "2022-12-15T17:45:26.883713",
     "exception": false,
     "start_time": "2022-12-15T17:45:26.853416",
     "status": "completed"
    },
    "tags": []
   },
   "outputs": [
    {
     "data": {
      "text/plain": [
       "(6443, 7)"
      ]
     },
     "execution_count": 54,
     "metadata": {},
     "output_type": "execute_result"
    }
   ],
   "source": [
    "genes_info.shape"
   ]
  },
  {
   "cell_type": "code",
   "execution_count": 55,
   "id": "0d71881c",
   "metadata": {
    "execution": {
     "iopub.execute_input": "2022-12-15T17:45:26.907510Z",
     "iopub.status.busy": "2022-12-15T17:45:26.907050Z",
     "iopub.status.idle": "2022-12-15T17:45:26.928586Z",
     "shell.execute_reply": "2022-12-15T17:45:26.928005Z"
    },
    "papermill": {
     "duration": 0.034321,
     "end_time": "2022-12-15T17:45:26.929508",
     "exception": false,
     "start_time": "2022-12-15T17:45:26.895187",
     "status": "completed"
    },
    "tags": []
   },
   "outputs": [
    {
     "data": {
      "text/html": [
       "<div>\n",
       "<style scoped>\n",
       "    .dataframe tbody tr th:only-of-type {\n",
       "        vertical-align: middle;\n",
       "    }\n",
       "\n",
       "    .dataframe tbody tr th {\n",
       "        vertical-align: top;\n",
       "    }\n",
       "\n",
       "    .dataframe thead th {\n",
       "        text-align: right;\n",
       "    }\n",
       "</style>\n",
       "<table border=\"1\" class=\"dataframe\">\n",
       "  <thead>\n",
       "    <tr style=\"text-align: right;\">\n",
       "      <th></th>\n",
       "      <th>name</th>\n",
       "      <th>id</th>\n",
       "      <th>chr</th>\n",
       "      <th>band</th>\n",
       "      <th>start_position</th>\n",
       "      <th>end_position</th>\n",
       "      <th>gene_length</th>\n",
       "    </tr>\n",
       "  </thead>\n",
       "  <tbody>\n",
       "    <tr>\n",
       "      <th>0</th>\n",
       "      <td>PSMB9</td>\n",
       "      <td>ENSG00000240065</td>\n",
       "      <td>6</td>\n",
       "      <td>6p21.32</td>\n",
       "      <td>32844136</td>\n",
       "      <td>32859851</td>\n",
       "      <td>15715</td>\n",
       "    </tr>\n",
       "    <tr>\n",
       "      <th>1</th>\n",
       "      <td>EEF1D</td>\n",
       "      <td>ENSG00000104529</td>\n",
       "      <td>8</td>\n",
       "      <td>8q24.3</td>\n",
       "      <td>143579697</td>\n",
       "      <td>143599541</td>\n",
       "      <td>19844</td>\n",
       "    </tr>\n",
       "    <tr>\n",
       "      <th>2</th>\n",
       "      <td>NFKBIL1</td>\n",
       "      <td>ENSG00000204498</td>\n",
       "      <td>6</td>\n",
       "      <td>6p21.33</td>\n",
       "      <td>31546870</td>\n",
       "      <td>31558829</td>\n",
       "      <td>11959</td>\n",
       "    </tr>\n",
       "    <tr>\n",
       "      <th>3</th>\n",
       "      <td>SGSH</td>\n",
       "      <td>ENSG00000181523</td>\n",
       "      <td>17</td>\n",
       "      <td>17q25.3</td>\n",
       "      <td>80206716</td>\n",
       "      <td>80220923</td>\n",
       "      <td>14207</td>\n",
       "    </tr>\n",
       "    <tr>\n",
       "      <th>4</th>\n",
       "      <td>KLF6</td>\n",
       "      <td>ENSG00000067082</td>\n",
       "      <td>10</td>\n",
       "      <td>10p15.2</td>\n",
       "      <td>3775996</td>\n",
       "      <td>3785281</td>\n",
       "      <td>9285</td>\n",
       "    </tr>\n",
       "  </tbody>\n",
       "</table>\n",
       "</div>"
      ],
      "text/plain": [
       "      name               id  chr     band  start_position  end_position  \\\n",
       "0    PSMB9  ENSG00000240065    6  6p21.32        32844136      32859851   \n",
       "1    EEF1D  ENSG00000104529    8   8q24.3       143579697     143599541   \n",
       "2  NFKBIL1  ENSG00000204498    6  6p21.33        31546870      31558829   \n",
       "3     SGSH  ENSG00000181523   17  17q25.3        80206716      80220923   \n",
       "4     KLF6  ENSG00000067082   10  10p15.2         3775996       3785281   \n",
       "\n",
       "   gene_length  \n",
       "0        15715  \n",
       "1        19844  \n",
       "2        11959  \n",
       "3        14207  \n",
       "4         9285  "
      ]
     },
     "execution_count": 55,
     "metadata": {},
     "output_type": "execute_result"
    }
   ],
   "source": [
    "genes_info.head()"
   ]
  },
  {
   "cell_type": "code",
   "execution_count": 56,
   "id": "eb968287-d9cf-40f6-a93e-6b322b844404",
   "metadata": {
    "execution": {
     "iopub.execute_input": "2022-12-15T17:45:26.953782Z",
     "iopub.status.busy": "2022-12-15T17:45:26.953284Z",
     "iopub.status.idle": "2022-12-15T17:45:26.978435Z",
     "shell.execute_reply": "2022-12-15T17:45:26.977853Z"
    },
    "papermill": {
     "duration": 0.038216,
     "end_time": "2022-12-15T17:45:26.979373",
     "exception": false,
     "start_time": "2022-12-15T17:45:26.941157",
     "status": "completed"
    },
    "tags": []
   },
   "outputs": [
    {
     "data": {
      "text/html": [
       "<div>\n",
       "<style scoped>\n",
       "    .dataframe tbody tr th:only-of-type {\n",
       "        vertical-align: middle;\n",
       "    }\n",
       "\n",
       "    .dataframe tbody tr th {\n",
       "        vertical-align: top;\n",
       "    }\n",
       "\n",
       "    .dataframe thead th {\n",
       "        text-align: right;\n",
       "    }\n",
       "</style>\n",
       "<table border=\"1\" class=\"dataframe\">\n",
       "  <thead>\n",
       "    <tr style=\"text-align: right;\">\n",
       "      <th></th>\n",
       "      <th>name</th>\n",
       "      <th>id</th>\n",
       "      <th>chr</th>\n",
       "      <th>band</th>\n",
       "      <th>start_position</th>\n",
       "      <th>end_position</th>\n",
       "      <th>gene_length</th>\n",
       "    </tr>\n",
       "  </thead>\n",
       "  <tbody>\n",
       "    <tr>\n",
       "      <th>2294</th>\n",
       "      <td>LEFTY1</td>\n",
       "      <td>ENSG00000243709</td>\n",
       "      <td>1</td>\n",
       "      <td>1q42.12</td>\n",
       "      <td>225886282</td>\n",
       "      <td>225911382</td>\n",
       "      <td>25100</td>\n",
       "    </tr>\n",
       "    <tr>\n",
       "      <th>4983</th>\n",
       "      <td>ERMAP</td>\n",
       "      <td>ENSG00000164010</td>\n",
       "      <td>1</td>\n",
       "      <td>1p34.2</td>\n",
       "      <td>42817122</td>\n",
       "      <td>42844991</td>\n",
       "      <td>27869</td>\n",
       "    </tr>\n",
       "    <tr>\n",
       "      <th>829</th>\n",
       "      <td>MAGI3</td>\n",
       "      <td>ENSG00000081026</td>\n",
       "      <td>1</td>\n",
       "      <td>1p13.2</td>\n",
       "      <td>113390515</td>\n",
       "      <td>113685923</td>\n",
       "      <td>295408</td>\n",
       "    </tr>\n",
       "    <tr>\n",
       "      <th>1949</th>\n",
       "      <td>FH</td>\n",
       "      <td>ENSG00000091483</td>\n",
       "      <td>1</td>\n",
       "      <td>1q43</td>\n",
       "      <td>241497603</td>\n",
       "      <td>241519761</td>\n",
       "      <td>22158</td>\n",
       "    </tr>\n",
       "    <tr>\n",
       "      <th>832</th>\n",
       "      <td>ENO1</td>\n",
       "      <td>ENSG00000074800</td>\n",
       "      <td>1</td>\n",
       "      <td>1p36.23</td>\n",
       "      <td>8861000</td>\n",
       "      <td>8879250</td>\n",
       "      <td>18250</td>\n",
       "    </tr>\n",
       "    <tr>\n",
       "      <th>...</th>\n",
       "      <td>...</td>\n",
       "      <td>...</td>\n",
       "      <td>...</td>\n",
       "      <td>...</td>\n",
       "      <td>...</td>\n",
       "      <td>...</td>\n",
       "      <td>...</td>\n",
       "    </tr>\n",
       "    <tr>\n",
       "      <th>3980</th>\n",
       "      <td>TUBA8</td>\n",
       "      <td>ENSG00000183785</td>\n",
       "      <td>22</td>\n",
       "      <td>22q11.21</td>\n",
       "      <td>18110331</td>\n",
       "      <td>18146554</td>\n",
       "      <td>36223</td>\n",
       "    </tr>\n",
       "    <tr>\n",
       "      <th>5880</th>\n",
       "      <td>GNAZ</td>\n",
       "      <td>ENSG00000128266</td>\n",
       "      <td>22</td>\n",
       "      <td>22q11.22</td>\n",
       "      <td>23070519</td>\n",
       "      <td>23125032</td>\n",
       "      <td>54513</td>\n",
       "    </tr>\n",
       "    <tr>\n",
       "      <th>3988</th>\n",
       "      <td>SEC14L2</td>\n",
       "      <td>ENSG00000100003</td>\n",
       "      <td>22</td>\n",
       "      <td>22q12.2</td>\n",
       "      <td>30396941</td>\n",
       "      <td>30425303</td>\n",
       "      <td>28362</td>\n",
       "    </tr>\n",
       "    <tr>\n",
       "      <th>2758</th>\n",
       "      <td>APOL6</td>\n",
       "      <td>ENSG00000221963</td>\n",
       "      <td>22</td>\n",
       "      <td>22q12.3</td>\n",
       "      <td>35648446</td>\n",
       "      <td>35668404</td>\n",
       "      <td>19958</td>\n",
       "    </tr>\n",
       "    <tr>\n",
       "      <th>1167</th>\n",
       "      <td>NF2</td>\n",
       "      <td>ENSG00000186575</td>\n",
       "      <td>22</td>\n",
       "      <td>22q12.2</td>\n",
       "      <td>29603556</td>\n",
       "      <td>29698598</td>\n",
       "      <td>95042</td>\n",
       "    </tr>\n",
       "  </tbody>\n",
       "</table>\n",
       "<p>6443 rows × 7 columns</p>\n",
       "</div>"
      ],
      "text/plain": [
       "         name               id  chr      band  start_position  end_position  \\\n",
       "2294   LEFTY1  ENSG00000243709    1   1q42.12       225886282     225911382   \n",
       "4983    ERMAP  ENSG00000164010    1    1p34.2        42817122      42844991   \n",
       "829     MAGI3  ENSG00000081026    1    1p13.2       113390515     113685923   \n",
       "1949       FH  ENSG00000091483    1      1q43       241497603     241519761   \n",
       "832      ENO1  ENSG00000074800    1   1p36.23         8861000       8879250   \n",
       "...       ...              ...  ...       ...             ...           ...   \n",
       "3980    TUBA8  ENSG00000183785   22  22q11.21        18110331      18146554   \n",
       "5880     GNAZ  ENSG00000128266   22  22q11.22        23070519      23125032   \n",
       "3988  SEC14L2  ENSG00000100003   22   22q12.2        30396941      30425303   \n",
       "2758    APOL6  ENSG00000221963   22   22q12.3        35648446      35668404   \n",
       "1167      NF2  ENSG00000186575   22   22q12.2        29603556      29698598   \n",
       "\n",
       "      gene_length  \n",
       "2294        25100  \n",
       "4983        27869  \n",
       "829        295408  \n",
       "1949        22158  \n",
       "832         18250  \n",
       "...           ...  \n",
       "3980        36223  \n",
       "5880        54513  \n",
       "3988        28362  \n",
       "2758        19958  \n",
       "1167        95042  \n",
       "\n",
       "[6443 rows x 7 columns]"
      ]
     },
     "execution_count": 56,
     "metadata": {},
     "output_type": "execute_result"
    }
   ],
   "source": [
    "genes_info.sort_values(\"chr\")"
   ]
  },
  {
   "cell_type": "markdown",
   "id": "7282b84d-f4f3-4e8c-9dd8-6319505ed4b5",
   "metadata": {
    "papermill": {
     "duration": 0.011643,
     "end_time": "2022-12-15T17:45:27.002973",
     "exception": false,
     "start_time": "2022-12-15T17:45:26.991330",
     "status": "completed"
    },
    "tags": []
   },
   "source": [
    "### Save"
   ]
  },
  {
   "cell_type": "code",
   "execution_count": 57,
   "id": "32cf6566-03bb-4a85-81e1-da46fc9f37ad",
   "metadata": {
    "execution": {
     "iopub.execute_input": "2022-12-15T17:45:27.027364Z",
     "iopub.status.busy": "2022-12-15T17:45:27.026990Z",
     "iopub.status.idle": "2022-12-15T17:45:27.046816Z",
     "shell.execute_reply": "2022-12-15T17:45:27.046225Z"
    },
    "papermill": {
     "duration": 0.033327,
     "end_time": "2022-12-15T17:45:27.047830",
     "exception": false,
     "start_time": "2022-12-15T17:45:27.014503",
     "status": "completed"
    },
    "tags": []
   },
   "outputs": [],
   "source": [
    "genes_info.to_pickle(OUTPUT_DIR_BASE / \"genes_info.pkl\")"
   ]
  },
  {
   "cell_type": "markdown",
   "id": "5b9f384a-5a91-4a8d-9007-cfe43f2d86f8",
   "metadata": {
    "papermill": {
     "duration": 0.011911,
     "end_time": "2022-12-15T17:45:27.071773",
     "exception": false,
     "start_time": "2022-12-15T17:45:27.059862",
     "status": "completed"
    },
    "tags": []
   },
   "source": [
    "## S-PrediXcan results"
   ]
  },
  {
   "cell_type": "markdown",
   "id": "fc0a2a4c-960c-4a0a-9b23-b66c3d5d6e07",
   "metadata": {
    "papermill": {
     "duration": 0.012085,
     "end_time": "2022-12-15T17:45:27.095499",
     "exception": false,
     "start_time": "2022-12-15T17:45:27.083414",
     "status": "completed"
    },
    "tags": []
   },
   "source": [
    "### Load results across all tissues"
   ]
  },
  {
   "cell_type": "code",
   "execution_count": 58,
   "id": "0b4867d7-a608-4b08-9d77-1782be3a0c94",
   "metadata": {
    "execution": {
     "iopub.execute_input": "2022-12-15T17:45:27.120232Z",
     "iopub.status.busy": "2022-12-15T17:45:27.119717Z",
     "iopub.status.idle": "2022-12-15T17:45:27.136232Z",
     "shell.execute_reply": "2022-12-15T17:45:27.135662Z"
    },
    "papermill": {
     "duration": 0.029846,
     "end_time": "2022-12-15T17:45:27.137164",
     "exception": false,
     "start_time": "2022-12-15T17:45:27.107318",
     "status": "completed"
    },
    "tags": []
   },
   "outputs": [],
   "source": [
    "spredixcan_result_files = {\n",
    "    t: SPREDIXCAN_FOLDER / SPREDIXCAN_FILE_PATTERN.format(tissue=t)\n",
    "    for t in prediction_model_tissues\n",
    "}"
   ]
  },
  {
   "cell_type": "code",
   "execution_count": 59,
   "id": "0ce270dd-46ac-4eaa-9d86-2b201d67d82f",
   "metadata": {
    "execution": {
     "iopub.execute_input": "2022-12-15T17:45:27.161776Z",
     "iopub.status.busy": "2022-12-15T17:45:27.161421Z",
     "iopub.status.idle": "2022-12-15T17:45:27.178834Z",
     "shell.execute_reply": "2022-12-15T17:45:27.178276Z"
    },
    "papermill": {
     "duration": 0.030682,
     "end_time": "2022-12-15T17:45:27.179760",
     "exception": false,
     "start_time": "2022-12-15T17:45:27.149078",
     "status": "completed"
    },
    "tags": []
   },
   "outputs": [
    {
     "data": {
      "text/plain": [
       "[PosixPath('/opt/data/projects/asthma-copd/results/twas/spredixcan/GWAS_Asthma_only_GLM_SNPs_info0.7-gtex_v8-mashr-Thyroid.csv'),\n",
       " PosixPath('/opt/data/projects/asthma-copd/results/twas/spredixcan/GWAS_Asthma_only_GLM_SNPs_info0.7-gtex_v8-mashr-Artery_Aorta.csv'),\n",
       " PosixPath('/opt/data/projects/asthma-copd/results/twas/spredixcan/GWAS_Asthma_only_GLM_SNPs_info0.7-gtex_v8-mashr-Heart_Atrial_Appendage.csv'),\n",
       " PosixPath('/opt/data/projects/asthma-copd/results/twas/spredixcan/GWAS_Asthma_only_GLM_SNPs_info0.7-gtex_v8-mashr-Liver.csv'),\n",
       " PosixPath('/opt/data/projects/asthma-copd/results/twas/spredixcan/GWAS_Asthma_only_GLM_SNPs_info0.7-gtex_v8-mashr-Heart_Left_Ventricle.csv')]"
      ]
     },
     "metadata": {},
     "output_type": "display_data"
    }
   ],
   "source": [
    "assert len(spredixcan_result_files) == len(prediction_model_tissues)\n",
    "display(list(spredixcan_result_files.values())[:5])"
   ]
  },
  {
   "cell_type": "code",
   "execution_count": 60,
   "id": "aa140259-303e-4912-b2bf-e7adce662f88",
   "metadata": {
    "execution": {
     "iopub.execute_input": "2022-12-15T17:45:27.204750Z",
     "iopub.status.busy": "2022-12-15T17:45:27.204285Z",
     "iopub.status.idle": "2022-12-15T17:45:27.253549Z",
     "shell.execute_reply": "2022-12-15T17:45:27.252937Z"
    },
    "papermill": {
     "duration": 0.062674,
     "end_time": "2022-12-15T17:45:27.254481",
     "exception": false,
     "start_time": "2022-12-15T17:45:27.191807",
     "status": "completed"
    },
    "tags": []
   },
   "outputs": [
    {
     "data": {
      "text/html": [
       "<div>\n",
       "<style scoped>\n",
       "    .dataframe tbody tr th:only-of-type {\n",
       "        vertical-align: middle;\n",
       "    }\n",
       "\n",
       "    .dataframe tbody tr th {\n",
       "        vertical-align: top;\n",
       "    }\n",
       "\n",
       "    .dataframe thead th {\n",
       "        text-align: right;\n",
       "    }\n",
       "</style>\n",
       "<table border=\"1\" class=\"dataframe\">\n",
       "  <thead>\n",
       "    <tr style=\"text-align: right;\">\n",
       "      <th></th>\n",
       "      <th>gene</th>\n",
       "      <th>gene_name</th>\n",
       "      <th>zscore</th>\n",
       "      <th>effect_size</th>\n",
       "      <th>pvalue</th>\n",
       "      <th>var_g</th>\n",
       "      <th>pred_perf_r2</th>\n",
       "      <th>pred_perf_pval</th>\n",
       "      <th>pred_perf_qval</th>\n",
       "      <th>n_snps_used</th>\n",
       "      <th>n_snps_in_cov</th>\n",
       "      <th>n_snps_in_model</th>\n",
       "      <th>best_gwas_p</th>\n",
       "      <th>largest_weight</th>\n",
       "    </tr>\n",
       "  </thead>\n",
       "  <tbody>\n",
       "    <tr>\n",
       "      <th>0</th>\n",
       "      <td>ENSG00000179344.16</td>\n",
       "      <td>HLA-DQB1</td>\n",
       "      <td>-12.301224</td>\n",
       "      <td>NaN</td>\n",
       "      <td>8.921179e-35</td>\n",
       "      <td>0.283759</td>\n",
       "      <td>NaN</td>\n",
       "      <td>NaN</td>\n",
       "      <td>NaN</td>\n",
       "      <td>3</td>\n",
       "      <td>3</td>\n",
       "      <td>3</td>\n",
       "      <td>4.004190e-34</td>\n",
       "      <td>0.772332</td>\n",
       "    </tr>\n",
       "    <tr>\n",
       "      <th>1</th>\n",
       "      <td>ENSG00000232629.8</td>\n",
       "      <td>HLA-DQB2</td>\n",
       "      <td>11.907670</td>\n",
       "      <td>NaN</td>\n",
       "      <td>1.079511e-32</td>\n",
       "      <td>1.363601</td>\n",
       "      <td>NaN</td>\n",
       "      <td>NaN</td>\n",
       "      <td>NaN</td>\n",
       "      <td>2</td>\n",
       "      <td>3</td>\n",
       "      <td>3</td>\n",
       "      <td>1.761500e-32</td>\n",
       "      <td>0.972033</td>\n",
       "    </tr>\n",
       "    <tr>\n",
       "      <th>2</th>\n",
       "      <td>ENSG00000237541.3</td>\n",
       "      <td>HLA-DQA2</td>\n",
       "      <td>10.481759</td>\n",
       "      <td>NaN</td>\n",
       "      <td>1.047767e-25</td>\n",
       "      <td>0.118803</td>\n",
       "      <td>NaN</td>\n",
       "      <td>NaN</td>\n",
       "      <td>NaN</td>\n",
       "      <td>2</td>\n",
       "      <td>4</td>\n",
       "      <td>4</td>\n",
       "      <td>4.049999e-21</td>\n",
       "      <td>0.486574</td>\n",
       "    </tr>\n",
       "    <tr>\n",
       "      <th>3</th>\n",
       "      <td>ENSG00000161405.16</td>\n",
       "      <td>IKZF3</td>\n",
       "      <td>-9.524108</td>\n",
       "      <td>NaN</td>\n",
       "      <td>1.664654e-21</td>\n",
       "      <td>0.002611</td>\n",
       "      <td>NaN</td>\n",
       "      <td>NaN</td>\n",
       "      <td>NaN</td>\n",
       "      <td>1</td>\n",
       "      <td>1</td>\n",
       "      <td>1</td>\n",
       "      <td>1.664654e-21</td>\n",
       "      <td>0.073940</td>\n",
       "    </tr>\n",
       "    <tr>\n",
       "      <th>4</th>\n",
       "      <td>ENSG00000073605.18</td>\n",
       "      <td>GSDMB</td>\n",
       "      <td>8.267584</td>\n",
       "      <td>NaN</td>\n",
       "      <td>1.367011e-16</td>\n",
       "      <td>0.098072</td>\n",
       "      <td>NaN</td>\n",
       "      <td>NaN</td>\n",
       "      <td>NaN</td>\n",
       "      <td>3</td>\n",
       "      <td>3</td>\n",
       "      <td>3</td>\n",
       "      <td>5.762121e-21</td>\n",
       "      <td>0.338834</td>\n",
       "    </tr>\n",
       "  </tbody>\n",
       "</table>\n",
       "</div>"
      ],
      "text/plain": [
       "                 gene gene_name     zscore  effect_size        pvalue  \\\n",
       "0  ENSG00000179344.16  HLA-DQB1 -12.301224          NaN  8.921179e-35   \n",
       "1   ENSG00000232629.8  HLA-DQB2  11.907670          NaN  1.079511e-32   \n",
       "2   ENSG00000237541.3  HLA-DQA2  10.481759          NaN  1.047767e-25   \n",
       "3  ENSG00000161405.16     IKZF3  -9.524108          NaN  1.664654e-21   \n",
       "4  ENSG00000073605.18     GSDMB   8.267584          NaN  1.367011e-16   \n",
       "\n",
       "      var_g  pred_perf_r2  pred_perf_pval  pred_perf_qval  n_snps_used  \\\n",
       "0  0.283759           NaN             NaN             NaN            3   \n",
       "1  1.363601           NaN             NaN             NaN            2   \n",
       "2  0.118803           NaN             NaN             NaN            2   \n",
       "3  0.002611           NaN             NaN             NaN            1   \n",
       "4  0.098072           NaN             NaN             NaN            3   \n",
       "\n",
       "   n_snps_in_cov  n_snps_in_model   best_gwas_p  largest_weight  \n",
       "0              3                3  4.004190e-34        0.772332  \n",
       "1              3                3  1.761500e-32        0.972033  \n",
       "2              4                4  4.049999e-21        0.486574  \n",
       "3              1                1  1.664654e-21        0.073940  \n",
       "4              3                3  5.762121e-21        0.338834  "
      ]
     },
     "execution_count": 60,
     "metadata": {},
     "output_type": "execute_result"
    }
   ],
   "source": [
    "# look at the structure of one result\n",
    "pd.read_csv(spredixcan_result_files[\"Whole_Blood\"]).head()"
   ]
  },
  {
   "cell_type": "code",
   "execution_count": 61,
   "id": "4381b9ff-6ab5-47f1-89d1-560f88fdf07f",
   "metadata": {
    "execution": {
     "iopub.execute_input": "2022-12-15T17:45:27.279508Z",
     "iopub.status.busy": "2022-12-15T17:45:27.279115Z",
     "iopub.status.idle": "2022-12-15T17:45:27.296540Z",
     "shell.execute_reply": "2022-12-15T17:45:27.295955Z"
    },
    "papermill": {
     "duration": 0.030865,
     "end_time": "2022-12-15T17:45:27.297476",
     "exception": false,
     "start_time": "2022-12-15T17:45:27.266611",
     "status": "completed"
    },
    "tags": []
   },
   "outputs": [],
   "source": [
    "assert all(f.exists() for f in spredixcan_result_files.values())"
   ]
  },
  {
   "cell_type": "code",
   "execution_count": 62,
   "id": "d477157f-51e9-4c7c-b826-7ab5f4fdf3e3",
   "metadata": {
    "execution": {
     "iopub.execute_input": "2022-12-15T17:45:27.322625Z",
     "iopub.status.busy": "2022-12-15T17:45:27.322147Z",
     "iopub.status.idle": "2022-12-15T17:45:27.982192Z",
     "shell.execute_reply": "2022-12-15T17:45:27.981670Z"
    },
    "papermill": {
     "duration": 0.674336,
     "end_time": "2022-12-15T17:45:27.983899",
     "exception": false,
     "start_time": "2022-12-15T17:45:27.309563",
     "status": "completed"
    },
    "tags": []
   },
   "outputs": [],
   "source": [
    "spredixcan_dfs = [\n",
    "    pd.read_csv(\n",
    "        f,\n",
    "        usecols=[\n",
    "            \"gene\",\n",
    "            \"zscore\",\n",
    "            \"pvalue\",\n",
    "            \"n_snps_used\",\n",
    "            \"n_snps_in_model\",\n",
    "        ],\n",
    "    )\n",
    "    .dropna(subset=[\"gene\", \"zscore\", \"pvalue\"])\n",
    "    .assign(tissue=t)\n",
    "    for t, f in spredixcan_result_files.items()\n",
    "]"
   ]
  },
  {
   "cell_type": "code",
   "execution_count": 63,
   "id": "9730bd37-b769-411f-bb6b-bb658d1ff88c",
   "metadata": {
    "execution": {
     "iopub.execute_input": "2022-12-15T17:45:28.031452Z",
     "iopub.status.busy": "2022-12-15T17:45:28.031331Z",
     "iopub.status.idle": "2022-12-15T17:45:28.041716Z",
     "shell.execute_reply": "2022-12-15T17:45:28.041279Z"
    },
    "papermill": {
     "duration": 0.035797,
     "end_time": "2022-12-15T17:45:28.043002",
     "exception": false,
     "start_time": "2022-12-15T17:45:28.007205",
     "status": "completed"
    },
    "tags": []
   },
   "outputs": [],
   "source": [
    "assert len(spredixcan_dfs) == len(prediction_model_tissues)"
   ]
  },
  {
   "cell_type": "code",
   "execution_count": 64,
   "id": "bcd73f53-1283-4ff6-bbb5-25fb71f5cb72",
   "metadata": {
    "execution": {
     "iopub.execute_input": "2022-12-15T17:45:28.089037Z",
     "iopub.status.busy": "2022-12-15T17:45:28.088730Z",
     "iopub.status.idle": "2022-12-15T17:45:28.118335Z",
     "shell.execute_reply": "2022-12-15T17:45:28.117725Z"
    },
    "papermill": {
     "duration": 0.053073,
     "end_time": "2022-12-15T17:45:28.119221",
     "exception": false,
     "start_time": "2022-12-15T17:45:28.066148",
     "status": "completed"
    },
    "tags": []
   },
   "outputs": [],
   "source": [
    "spredixcan_dfs = pd.concat(spredixcan_dfs)"
   ]
  },
  {
   "cell_type": "code",
   "execution_count": 65,
   "id": "ae99c7b5-14fc-4b39-a6b2-40fc703acd0a",
   "metadata": {
    "execution": {
     "iopub.execute_input": "2022-12-15T17:45:28.144427Z",
     "iopub.status.busy": "2022-12-15T17:45:28.143936Z",
     "iopub.status.idle": "2022-12-15T17:45:28.199069Z",
     "shell.execute_reply": "2022-12-15T17:45:28.198458Z"
    },
    "papermill": {
     "duration": 0.06886,
     "end_time": "2022-12-15T17:45:28.200127",
     "exception": false,
     "start_time": "2022-12-15T17:45:28.131267",
     "status": "completed"
    },
    "tags": []
   },
   "outputs": [],
   "source": [
    "assert spredixcan_dfs[\"tissue\"].unique().shape[0] == len(prediction_model_tissues)"
   ]
  },
  {
   "cell_type": "code",
   "execution_count": 66,
   "id": "b7223a23-e40f-4cd3-8988-72033f8739bd",
   "metadata": {
    "execution": {
     "iopub.execute_input": "2022-12-15T17:45:28.225650Z",
     "iopub.status.busy": "2022-12-15T17:45:28.225276Z",
     "iopub.status.idle": "2022-12-15T17:45:28.242415Z",
     "shell.execute_reply": "2022-12-15T17:45:28.241862Z"
    },
    "papermill": {
     "duration": 0.031165,
     "end_time": "2022-12-15T17:45:28.243327",
     "exception": false,
     "start_time": "2022-12-15T17:45:28.212162",
     "status": "completed"
    },
    "tags": []
   },
   "outputs": [
    {
     "data": {
      "text/plain": [
       "(658530, 6)"
      ]
     },
     "execution_count": 66,
     "metadata": {},
     "output_type": "execute_result"
    }
   ],
   "source": [
    "spredixcan_dfs.shape"
   ]
  },
  {
   "cell_type": "code",
   "execution_count": 67,
   "id": "4987073a-3b70-4162-93fb-beeb351ebfe0",
   "metadata": {
    "execution": {
     "iopub.execute_input": "2022-12-15T17:45:28.268641Z",
     "iopub.status.busy": "2022-12-15T17:45:28.268158Z",
     "iopub.status.idle": "2022-12-15T17:45:28.463410Z",
     "shell.execute_reply": "2022-12-15T17:45:28.462868Z"
    },
    "papermill": {
     "duration": 0.209292,
     "end_time": "2022-12-15T17:45:28.464802",
     "exception": false,
     "start_time": "2022-12-15T17:45:28.255510",
     "status": "completed"
    },
    "tags": []
   },
   "outputs": [],
   "source": [
    "spredixcan_dfs = spredixcan_dfs.assign(\n",
    "    gene_id=spredixcan_dfs[\"gene\"].apply(lambda g: g.split(\".\")[0])\n",
    ")"
   ]
  },
  {
   "cell_type": "code",
   "execution_count": 68,
   "id": "6b47d026-01c0-4f7c-a90e-f0baa13235f4",
   "metadata": {
    "execution": {
     "iopub.execute_input": "2022-12-15T17:45:28.512243Z",
     "iopub.status.busy": "2022-12-15T17:45:28.512127Z",
     "iopub.status.idle": "2022-12-15T17:45:28.527004Z",
     "shell.execute_reply": "2022-12-15T17:45:28.526565Z"
    },
    "papermill": {
     "duration": 0.040025,
     "end_time": "2022-12-15T17:45:28.528332",
     "exception": false,
     "start_time": "2022-12-15T17:45:28.488307",
     "status": "completed"
    },
    "tags": []
   },
   "outputs": [
    {
     "data": {
      "text/html": [
       "<div>\n",
       "<style scoped>\n",
       "    .dataframe tbody tr th:only-of-type {\n",
       "        vertical-align: middle;\n",
       "    }\n",
       "\n",
       "    .dataframe tbody tr th {\n",
       "        vertical-align: top;\n",
       "    }\n",
       "\n",
       "    .dataframe thead th {\n",
       "        text-align: right;\n",
       "    }\n",
       "</style>\n",
       "<table border=\"1\" class=\"dataframe\">\n",
       "  <thead>\n",
       "    <tr style=\"text-align: right;\">\n",
       "      <th></th>\n",
       "      <th>gene</th>\n",
       "      <th>zscore</th>\n",
       "      <th>pvalue</th>\n",
       "      <th>n_snps_used</th>\n",
       "      <th>n_snps_in_model</th>\n",
       "      <th>tissue</th>\n",
       "      <th>gene_id</th>\n",
       "    </tr>\n",
       "  </thead>\n",
       "  <tbody>\n",
       "    <tr>\n",
       "      <th>0</th>\n",
       "      <td>ENSG00000232629.8</td>\n",
       "      <td>12.131690</td>\n",
       "      <td>7.175314e-34</td>\n",
       "      <td>1</td>\n",
       "      <td>2</td>\n",
       "      <td>Thyroid</td>\n",
       "      <td>ENSG00000232629</td>\n",
       "    </tr>\n",
       "    <tr>\n",
       "      <th>1</th>\n",
       "      <td>ENSG00000196735.11</td>\n",
       "      <td>-11.318702</td>\n",
       "      <td>1.060298e-29</td>\n",
       "      <td>3</td>\n",
       "      <td>3</td>\n",
       "      <td>Thyroid</td>\n",
       "      <td>ENSG00000196735</td>\n",
       "    </tr>\n",
       "    <tr>\n",
       "      <th>2</th>\n",
       "      <td>ENSG00000179344.16</td>\n",
       "      <td>-10.453348</td>\n",
       "      <td>1.414416e-25</td>\n",
       "      <td>4</td>\n",
       "      <td>4</td>\n",
       "      <td>Thyroid</td>\n",
       "      <td>ENSG00000179344</td>\n",
       "    </tr>\n",
       "    <tr>\n",
       "      <th>3</th>\n",
       "      <td>ENSG00000237541.3</td>\n",
       "      <td>9.431310</td>\n",
       "      <td>4.049999e-21</td>\n",
       "      <td>1</td>\n",
       "      <td>3</td>\n",
       "      <td>Thyroid</td>\n",
       "      <td>ENSG00000237541</td>\n",
       "    </tr>\n",
       "    <tr>\n",
       "      <th>4</th>\n",
       "      <td>ENSG00000166949.15</td>\n",
       "      <td>-8.748763</td>\n",
       "      <td>2.157045e-18</td>\n",
       "      <td>3</td>\n",
       "      <td>3</td>\n",
       "      <td>Thyroid</td>\n",
       "      <td>ENSG00000166949</td>\n",
       "    </tr>\n",
       "  </tbody>\n",
       "</table>\n",
       "</div>"
      ],
      "text/plain": [
       "                 gene     zscore        pvalue  n_snps_used  n_snps_in_model  \\\n",
       "0   ENSG00000232629.8  12.131690  7.175314e-34            1                2   \n",
       "1  ENSG00000196735.11 -11.318702  1.060298e-29            3                3   \n",
       "2  ENSG00000179344.16 -10.453348  1.414416e-25            4                4   \n",
       "3   ENSG00000237541.3   9.431310  4.049999e-21            1                3   \n",
       "4  ENSG00000166949.15  -8.748763  2.157045e-18            3                3   \n",
       "\n",
       "    tissue          gene_id  \n",
       "0  Thyroid  ENSG00000232629  \n",
       "1  Thyroid  ENSG00000196735  \n",
       "2  Thyroid  ENSG00000179344  \n",
       "3  Thyroid  ENSG00000237541  \n",
       "4  Thyroid  ENSG00000166949  "
      ]
     },
     "execution_count": 68,
     "metadata": {},
     "output_type": "execute_result"
    }
   ],
   "source": [
    "spredixcan_dfs.head()"
   ]
  },
  {
   "cell_type": "code",
   "execution_count": 69,
   "id": "d5dbdb2e-b7eb-4665-9fd4-9ce714d6af0c",
   "metadata": {
    "execution": {
     "iopub.execute_input": "2022-12-15T17:45:28.575461Z",
     "iopub.status.busy": "2022-12-15T17:45:28.575347Z",
     "iopub.status.idle": "2022-12-15T17:45:28.662712Z",
     "shell.execute_reply": "2022-12-15T17:45:28.662170Z"
    },
    "papermill": {
     "duration": 0.111736,
     "end_time": "2022-12-15T17:45:28.663676",
     "exception": false,
     "start_time": "2022-12-15T17:45:28.551940",
     "status": "completed"
    },
    "tags": []
   },
   "outputs": [],
   "source": [
    "# leave only common genes\n",
    "spredixcan_dfs = spredixcan_dfs[spredixcan_dfs[\"gene_id\"].isin(set(genes_info[\"id\"]))]"
   ]
  },
  {
   "cell_type": "code",
   "execution_count": 70,
   "id": "8d34f99a-6b43-47aa-bb07-dfc67e169538",
   "metadata": {
    "execution": {
     "iopub.execute_input": "2022-12-15T17:45:28.689332Z",
     "iopub.status.busy": "2022-12-15T17:45:28.689134Z",
     "iopub.status.idle": "2022-12-15T17:45:28.700092Z",
     "shell.execute_reply": "2022-12-15T17:45:28.699649Z"
    },
    "papermill": {
     "duration": 0.024488,
     "end_time": "2022-12-15T17:45:28.700914",
     "exception": false,
     "start_time": "2022-12-15T17:45:28.676426",
     "status": "completed"
    },
    "tags": []
   },
   "outputs": [
    {
     "data": {
      "text/plain": [
       "(235569, 7)"
      ]
     },
     "execution_count": 70,
     "metadata": {},
     "output_type": "execute_result"
    }
   ],
   "source": [
    "spredixcan_dfs.shape"
   ]
  },
  {
   "cell_type": "markdown",
   "id": "5ecfd141-ecb8-47cf-905e-25cc1b4d3f9d",
   "metadata": {
    "papermill": {
     "duration": 0.012237,
     "end_time": "2022-12-15T17:45:28.725555",
     "exception": false,
     "start_time": "2022-12-15T17:45:28.713318",
     "status": "completed"
    },
    "tags": []
   },
   "source": [
    "### Count number of tissues available per gene"
   ]
  },
  {
   "cell_type": "code",
   "execution_count": 71,
   "id": "86fe37e1-a303-4221-a12e-3a54a04dd510",
   "metadata": {
    "execution": {
     "iopub.execute_input": "2022-12-15T17:45:28.750765Z",
     "iopub.status.busy": "2022-12-15T17:45:28.750512Z",
     "iopub.status.idle": "2022-12-15T17:45:28.805522Z",
     "shell.execute_reply": "2022-12-15T17:45:28.804997Z"
    },
    "papermill": {
     "duration": 0.068635,
     "end_time": "2022-12-15T17:45:28.806404",
     "exception": false,
     "start_time": "2022-12-15T17:45:28.737769",
     "status": "completed"
    },
    "tags": []
   },
   "outputs": [],
   "source": [
    "spredixcan_genes_n_models = spredixcan_dfs.groupby(\"gene_id\")[\"tissue\"].nunique()"
   ]
  },
  {
   "cell_type": "code",
   "execution_count": 72,
   "id": "31416d48-1e4d-463f-9a5c-34d29803c3f8",
   "metadata": {
    "execution": {
     "iopub.execute_input": "2022-12-15T17:45:28.832044Z",
     "iopub.status.busy": "2022-12-15T17:45:28.831609Z",
     "iopub.status.idle": "2022-12-15T17:45:28.847440Z",
     "shell.execute_reply": "2022-12-15T17:45:28.846941Z"
    },
    "papermill": {
     "duration": 0.029596,
     "end_time": "2022-12-15T17:45:28.848234",
     "exception": false,
     "start_time": "2022-12-15T17:45:28.818638",
     "status": "completed"
    },
    "tags": []
   },
   "outputs": [
    {
     "data": {
      "text/plain": [
       "gene_id\n",
       "ENSG00000000419     2\n",
       "ENSG00000000938    36\n",
       "ENSG00000000971    34\n",
       "ENSG00000001084    32\n",
       "ENSG00000001167    40\n",
       "                   ..\n",
       "ENSG00000278540    36\n",
       "ENSG00000278828     4\n",
       "ENSG00000278845    49\n",
       "ENSG00000281005    49\n",
       "ENSG00000282608    36\n",
       "Name: tissue, Length: 6443, dtype: int64"
      ]
     },
     "execution_count": 72,
     "metadata": {},
     "output_type": "execute_result"
    }
   ],
   "source": [
    "spredixcan_genes_n_models"
   ]
  },
  {
   "cell_type": "code",
   "execution_count": 73,
   "id": "d737ad4f-f821-4546-9a3e-6703fe264b49",
   "metadata": {
    "execution": {
     "iopub.execute_input": "2022-12-15T17:45:28.874134Z",
     "iopub.status.busy": "2022-12-15T17:45:28.873695Z",
     "iopub.status.idle": "2022-12-15T17:45:28.898209Z",
     "shell.execute_reply": "2022-12-15T17:45:28.897647Z"
    },
    "papermill": {
     "duration": 0.038551,
     "end_time": "2022-12-15T17:45:28.899192",
     "exception": false,
     "start_time": "2022-12-15T17:45:28.860641",
     "status": "completed"
    },
    "tags": []
   },
   "outputs": [],
   "source": [
    "# testing that in S-MultiXcan I get the same number of tissues per gene\n",
    "_tmp_smultixcan_results_n_models = (\n",
    "    smultixcan_results.set_index(\"gene_id\")[\"n\"].astype(int).rename(\"tissue\")\n",
    ")\n",
    "\n",
    "_cg = _tmp_smultixcan_results_n_models.index.intersection(\n",
    "    spredixcan_genes_n_models.index\n",
    ")\n",
    "_tmp_smultixcan_results_n_models = _tmp_smultixcan_results_n_models.loc[_cg]\n",
    "_spredixcan = spredixcan_genes_n_models.loc[_cg]\n",
    "\n",
    "assert _spredixcan.shape[0] == _tmp_smultixcan_results_n_models.shape[0]\n",
    "assert _spredixcan.equals(_tmp_smultixcan_results_n_models.loc[_spredixcan.index])"
   ]
  },
  {
   "cell_type": "markdown",
   "id": "904d7d30-9c2d-4c3e-b674-3f081954fe8b",
   "metadata": {
    "papermill": {
     "duration": 0.012403,
     "end_time": "2022-12-15T17:45:28.924113",
     "exception": false,
     "start_time": "2022-12-15T17:45:28.911710",
     "status": "completed"
    },
    "tags": []
   },
   "source": [
    "### Get tissues available per gene"
   ]
  },
  {
   "cell_type": "code",
   "execution_count": 74,
   "id": "cf014e81-4b4e-4c46-9265-67718b3ab08e",
   "metadata": {
    "execution": {
     "iopub.execute_input": "2022-12-15T17:45:28.950062Z",
     "iopub.status.busy": "2022-12-15T17:45:28.949603Z",
     "iopub.status.idle": "2022-12-15T17:45:29.084142Z",
     "shell.execute_reply": "2022-12-15T17:45:29.083613Z"
    },
    "papermill": {
     "duration": 0.148916,
     "end_time": "2022-12-15T17:45:29.085495",
     "exception": false,
     "start_time": "2022-12-15T17:45:28.936579",
     "status": "completed"
    },
    "tags": []
   },
   "outputs": [],
   "source": [
    "spredixcan_genes_models = spredixcan_dfs.groupby(\"gene_id\")[\"tissue\"].apply(\n",
    "    lambda x: frozenset(x.tolist())\n",
    ")"
   ]
  },
  {
   "cell_type": "code",
   "execution_count": 75,
   "id": "5df09d7f-39c9-408f-9fef-5189e8ca1c87",
   "metadata": {
    "execution": {
     "iopub.execute_input": "2022-12-15T17:45:29.133731Z",
     "iopub.status.busy": "2022-12-15T17:45:29.133597Z",
     "iopub.status.idle": "2022-12-15T17:45:29.146817Z",
     "shell.execute_reply": "2022-12-15T17:45:29.146380Z"
    },
    "papermill": {
     "duration": 0.038639,
     "end_time": "2022-12-15T17:45:29.148088",
     "exception": false,
     "start_time": "2022-12-15T17:45:29.109449",
     "status": "completed"
    },
    "tags": []
   },
   "outputs": [
    {
     "data": {
      "text/plain": [
       "gene_id\n",
       "ENSG00000000419         (Brain_Hypothalamus, Brain_Substantia_nigra)\n",
       "ENSG00000000938    (Whole_Blood, Brain_Frontal_Cortex_BA9, Esopha...\n",
       "ENSG00000000971    (Whole_Blood, Brain_Frontal_Cortex_BA9, Artery...\n",
       "ENSG00000001084    (Whole_Blood, Brain_Frontal_Cortex_BA9, Artery...\n",
       "ENSG00000001167    (Whole_Blood, Esophagus_Mucosa, Artery_Tibial,...\n",
       "                                         ...                        \n",
       "ENSG00000278540    (Whole_Blood, Brain_Frontal_Cortex_BA9, Esopha...\n",
       "ENSG00000278828    (Esophagus_Muscularis, Cells_EBV-transformed_l...\n",
       "ENSG00000278845    (Whole_Blood, Brain_Frontal_Cortex_BA9, Esopha...\n",
       "ENSG00000281005    (Whole_Blood, Brain_Frontal_Cortex_BA9, Esopha...\n",
       "ENSG00000282608    (Whole_Blood, Brain_Frontal_Cortex_BA9, Esopha...\n",
       "Name: tissue, Length: 6443, dtype: object"
      ]
     },
     "execution_count": 75,
     "metadata": {},
     "output_type": "execute_result"
    }
   ],
   "source": [
    "spredixcan_genes_models"
   ]
  },
  {
   "cell_type": "code",
   "execution_count": 76,
   "id": "97c46886-5a48-4813-b890-1dcdb09ec09d",
   "metadata": {
    "execution": {
     "iopub.execute_input": "2022-12-15T17:45:29.194796Z",
     "iopub.status.busy": "2022-12-15T17:45:29.194523Z",
     "iopub.status.idle": "2022-12-15T17:45:29.207794Z",
     "shell.execute_reply": "2022-12-15T17:45:29.207287Z"
    },
    "papermill": {
     "duration": 0.036665,
     "end_time": "2022-12-15T17:45:29.208728",
     "exception": false,
     "start_time": "2022-12-15T17:45:29.172063",
     "status": "completed"
    },
    "tags": []
   },
   "outputs": [],
   "source": [
    "assert spredixcan_genes_n_models.shape[0] == spredixcan_genes_models.shape[0]"
   ]
  },
  {
   "cell_type": "code",
   "execution_count": 77,
   "id": "abc13913-a681-4297-a0e6-dde62f43c36f",
   "metadata": {
    "execution": {
     "iopub.execute_input": "2022-12-15T17:45:29.235130Z",
     "iopub.status.busy": "2022-12-15T17:45:29.234722Z",
     "iopub.status.idle": "2022-12-15T17:45:29.247926Z",
     "shell.execute_reply": "2022-12-15T17:45:29.247428Z"
    },
    "papermill": {
     "duration": 0.027562,
     "end_time": "2022-12-15T17:45:29.248882",
     "exception": false,
     "start_time": "2022-12-15T17:45:29.221320",
     "status": "completed"
    },
    "tags": []
   },
   "outputs": [],
   "source": [
    "assert spredixcan_genes_n_models.index.equals(spredixcan_genes_models.index)"
   ]
  },
  {
   "cell_type": "code",
   "execution_count": 78,
   "id": "995a02e7-b836-471b-b438-17c8c46e4fde",
   "metadata": {
    "execution": {
     "iopub.execute_input": "2022-12-15T17:45:29.274968Z",
     "iopub.status.busy": "2022-12-15T17:45:29.274659Z",
     "iopub.status.idle": "2022-12-15T17:45:29.292282Z",
     "shell.execute_reply": "2022-12-15T17:45:29.291702Z"
    },
    "papermill": {
     "duration": 0.031621,
     "end_time": "2022-12-15T17:45:29.293194",
     "exception": false,
     "start_time": "2022-12-15T17:45:29.261573",
     "status": "completed"
    },
    "tags": []
   },
   "outputs": [],
   "source": [
    "assert (spredixcan_genes_models.apply(len) <= len(prediction_model_tissues)).all()"
   ]
  },
  {
   "cell_type": "code",
   "execution_count": 79,
   "id": "0c1d0c68-1a06-480c-b6d6-d3c4fdf0f5aa",
   "metadata": {
    "execution": {
     "iopub.execute_input": "2022-12-15T17:45:29.319456Z",
     "iopub.status.busy": "2022-12-15T17:45:29.319007Z",
     "iopub.status.idle": "2022-12-15T17:45:29.341138Z",
     "shell.execute_reply": "2022-12-15T17:45:29.340552Z"
    },
    "papermill": {
     "duration": 0.036336,
     "end_time": "2022-12-15T17:45:29.342054",
     "exception": false,
     "start_time": "2022-12-15T17:45:29.305718",
     "status": "completed"
    },
    "tags": []
   },
   "outputs": [
    {
     "data": {
      "text/plain": [
       "count    6443.000000\n",
       "mean       36.562005\n",
       "std        12.886857\n",
       "min         1.000000\n",
       "25%        29.000000\n",
       "50%        42.000000\n",
       "75%        47.000000\n",
       "max        49.000000\n",
       "Name: tissue, dtype: float64"
      ]
     },
     "execution_count": 79,
     "metadata": {},
     "output_type": "execute_result"
    }
   ],
   "source": [
    "spredixcan_genes_models.apply(len).describe()"
   ]
  },
  {
   "cell_type": "code",
   "execution_count": 80,
   "id": "991b9441-6bb5-4b72-9285-5fd579875e40",
   "metadata": {
    "execution": {
     "iopub.execute_input": "2022-12-15T17:45:29.368591Z",
     "iopub.status.busy": "2022-12-15T17:45:29.368077Z",
     "iopub.status.idle": "2022-12-15T17:45:29.388293Z",
     "shell.execute_reply": "2022-12-15T17:45:29.387703Z"
    },
    "papermill": {
     "duration": 0.034584,
     "end_time": "2022-12-15T17:45:29.389352",
     "exception": false,
     "start_time": "2022-12-15T17:45:29.354768",
     "status": "completed"
    },
    "tags": []
   },
   "outputs": [],
   "source": [
    "# testing that I obtained the right number of tissues\n",
    "assert (\n",
    "    spredixcan_genes_models.loc[spredixcan_genes_n_models.index]\n",
    "    .apply(len)\n",
    "    .equals(spredixcan_genes_n_models)\n",
    ")"
   ]
  },
  {
   "cell_type": "markdown",
   "id": "3042b22d-9d88-4e21-b112-ab23cf8d24ea",
   "metadata": {
    "papermill": {
     "duration": 0.012633,
     "end_time": "2022-12-15T17:45:29.414759",
     "exception": false,
     "start_time": "2022-12-15T17:45:29.402126",
     "status": "completed"
    },
    "tags": []
   },
   "source": [
    "### Add gene name and set index"
   ]
  },
  {
   "cell_type": "code",
   "execution_count": 81,
   "id": "3b7b0e76-7aca-44bf-beff-5f1c1b6193ee",
   "metadata": {
    "execution": {
     "iopub.execute_input": "2022-12-15T17:45:29.441472Z",
     "iopub.status.busy": "2022-12-15T17:45:29.440975Z",
     "iopub.status.idle": "2022-12-15T17:45:29.457920Z",
     "shell.execute_reply": "2022-12-15T17:45:29.457344Z"
    },
    "papermill": {
     "duration": 0.031189,
     "end_time": "2022-12-15T17:45:29.458754",
     "exception": false,
     "start_time": "2022-12-15T17:45:29.427565",
     "status": "completed"
    },
    "tags": []
   },
   "outputs": [],
   "source": [
    "spredixcan_genes_models = spredixcan_genes_models.to_frame().reset_index()"
   ]
  },
  {
   "cell_type": "code",
   "execution_count": 82,
   "id": "ffab4b61-c2d4-4bcc-a147-23a4bf30f715",
   "metadata": {
    "execution": {
     "iopub.execute_input": "2022-12-15T17:45:29.485449Z",
     "iopub.status.busy": "2022-12-15T17:45:29.484992Z",
     "iopub.status.idle": "2022-12-15T17:45:29.505830Z",
     "shell.execute_reply": "2022-12-15T17:45:29.505266Z"
    },
    "papermill": {
     "duration": 0.03527,
     "end_time": "2022-12-15T17:45:29.506751",
     "exception": false,
     "start_time": "2022-12-15T17:45:29.471481",
     "status": "completed"
    },
    "tags": []
   },
   "outputs": [
    {
     "data": {
      "text/html": [
       "<div>\n",
       "<style scoped>\n",
       "    .dataframe tbody tr th:only-of-type {\n",
       "        vertical-align: middle;\n",
       "    }\n",
       "\n",
       "    .dataframe tbody tr th {\n",
       "        vertical-align: top;\n",
       "    }\n",
       "\n",
       "    .dataframe thead th {\n",
       "        text-align: right;\n",
       "    }\n",
       "</style>\n",
       "<table border=\"1\" class=\"dataframe\">\n",
       "  <thead>\n",
       "    <tr style=\"text-align: right;\">\n",
       "      <th></th>\n",
       "      <th>gene_id</th>\n",
       "      <th>tissue</th>\n",
       "    </tr>\n",
       "  </thead>\n",
       "  <tbody>\n",
       "    <tr>\n",
       "      <th>0</th>\n",
       "      <td>ENSG00000000419</td>\n",
       "      <td>(Brain_Hypothalamus, Brain_Substantia_nigra)</td>\n",
       "    </tr>\n",
       "    <tr>\n",
       "      <th>1</th>\n",
       "      <td>ENSG00000000938</td>\n",
       "      <td>(Whole_Blood, Brain_Frontal_Cortex_BA9, Esopha...</td>\n",
       "    </tr>\n",
       "    <tr>\n",
       "      <th>2</th>\n",
       "      <td>ENSG00000000971</td>\n",
       "      <td>(Whole_Blood, Brain_Frontal_Cortex_BA9, Artery...</td>\n",
       "    </tr>\n",
       "    <tr>\n",
       "      <th>3</th>\n",
       "      <td>ENSG00000001084</td>\n",
       "      <td>(Whole_Blood, Brain_Frontal_Cortex_BA9, Artery...</td>\n",
       "    </tr>\n",
       "    <tr>\n",
       "      <th>4</th>\n",
       "      <td>ENSG00000001167</td>\n",
       "      <td>(Whole_Blood, Esophagus_Mucosa, Artery_Tibial,...</td>\n",
       "    </tr>\n",
       "  </tbody>\n",
       "</table>\n",
       "</div>"
      ],
      "text/plain": [
       "           gene_id                                             tissue\n",
       "0  ENSG00000000419       (Brain_Hypothalamus, Brain_Substantia_nigra)\n",
       "1  ENSG00000000938  (Whole_Blood, Brain_Frontal_Cortex_BA9, Esopha...\n",
       "2  ENSG00000000971  (Whole_Blood, Brain_Frontal_Cortex_BA9, Artery...\n",
       "3  ENSG00000001084  (Whole_Blood, Brain_Frontal_Cortex_BA9, Artery...\n",
       "4  ENSG00000001167  (Whole_Blood, Esophagus_Mucosa, Artery_Tibial,..."
      ]
     },
     "execution_count": 82,
     "metadata": {},
     "output_type": "execute_result"
    }
   ],
   "source": [
    "spredixcan_genes_models.head()"
   ]
  },
  {
   "cell_type": "code",
   "execution_count": 83,
   "id": "e1cb2fe5-969f-4526-bca7-a3b8919b3509",
   "metadata": {
    "execution": {
     "iopub.execute_input": "2022-12-15T17:45:29.533294Z",
     "iopub.status.busy": "2022-12-15T17:45:29.532923Z",
     "iopub.status.idle": "2022-12-15T17:45:29.551730Z",
     "shell.execute_reply": "2022-12-15T17:45:29.551139Z"
    },
    "papermill": {
     "duration": 0.033091,
     "end_time": "2022-12-15T17:45:29.552737",
     "exception": false,
     "start_time": "2022-12-15T17:45:29.519646",
     "status": "completed"
    },
    "tags": []
   },
   "outputs": [],
   "source": [
    "spredixcan_genes_models = spredixcan_genes_models.assign(\n",
    "    gene_name=spredixcan_genes_models[\"gene_id\"].apply(\n",
    "        lambda g: Gene.GENE_ID_TO_NAME_MAP[g]\n",
    "    )\n",
    ")"
   ]
  },
  {
   "cell_type": "code",
   "execution_count": 84,
   "id": "ff078ce5-3f18-442e-a593-3326436c758e",
   "metadata": {
    "execution": {
     "iopub.execute_input": "2022-12-15T17:45:29.579389Z",
     "iopub.status.busy": "2022-12-15T17:45:29.579028Z",
     "iopub.status.idle": "2022-12-15T17:45:29.596210Z",
     "shell.execute_reply": "2022-12-15T17:45:29.595626Z"
    },
    "papermill": {
     "duration": 0.031588,
     "end_time": "2022-12-15T17:45:29.597123",
     "exception": false,
     "start_time": "2022-12-15T17:45:29.565535",
     "status": "completed"
    },
    "tags": []
   },
   "outputs": [],
   "source": [
    "spredixcan_genes_models = spredixcan_genes_models[[\"gene_id\", \"gene_name\", \"tissue\"]]"
   ]
  },
  {
   "cell_type": "code",
   "execution_count": 85,
   "id": "a65c8bf2-5ecd-4f80-a857-11f8a0c019c4",
   "metadata": {
    "execution": {
     "iopub.execute_input": "2022-12-15T17:45:29.623707Z",
     "iopub.status.busy": "2022-12-15T17:45:29.623295Z",
     "iopub.status.idle": "2022-12-15T17:45:29.639705Z",
     "shell.execute_reply": "2022-12-15T17:45:29.639128Z"
    },
    "papermill": {
     "duration": 0.030715,
     "end_time": "2022-12-15T17:45:29.640732",
     "exception": false,
     "start_time": "2022-12-15T17:45:29.610017",
     "status": "completed"
    },
    "tags": []
   },
   "outputs": [],
   "source": [
    "spredixcan_genes_models = spredixcan_genes_models.set_index(\"gene_id\")"
   ]
  },
  {
   "cell_type": "code",
   "execution_count": 86,
   "id": "af6b40b9-fc58-47a1-a1b5-4404034b008b",
   "metadata": {
    "execution": {
     "iopub.execute_input": "2022-12-15T17:45:29.667864Z",
     "iopub.status.busy": "2022-12-15T17:45:29.667415Z",
     "iopub.status.idle": "2022-12-15T17:45:29.688576Z",
     "shell.execute_reply": "2022-12-15T17:45:29.687999Z"
    },
    "papermill": {
     "duration": 0.035706,
     "end_time": "2022-12-15T17:45:29.689489",
     "exception": false,
     "start_time": "2022-12-15T17:45:29.653783",
     "status": "completed"
    },
    "tags": []
   },
   "outputs": [
    {
     "data": {
      "text/html": [
       "<div>\n",
       "<style scoped>\n",
       "    .dataframe tbody tr th:only-of-type {\n",
       "        vertical-align: middle;\n",
       "    }\n",
       "\n",
       "    .dataframe tbody tr th {\n",
       "        vertical-align: top;\n",
       "    }\n",
       "\n",
       "    .dataframe thead th {\n",
       "        text-align: right;\n",
       "    }\n",
       "</style>\n",
       "<table border=\"1\" class=\"dataframe\">\n",
       "  <thead>\n",
       "    <tr style=\"text-align: right;\">\n",
       "      <th></th>\n",
       "      <th>gene_name</th>\n",
       "      <th>tissue</th>\n",
       "    </tr>\n",
       "    <tr>\n",
       "      <th>gene_id</th>\n",
       "      <th></th>\n",
       "      <th></th>\n",
       "    </tr>\n",
       "  </thead>\n",
       "  <tbody>\n",
       "    <tr>\n",
       "      <th>ENSG00000000419</th>\n",
       "      <td>DPM1</td>\n",
       "      <td>(Brain_Hypothalamus, Brain_Substantia_nigra)</td>\n",
       "    </tr>\n",
       "    <tr>\n",
       "      <th>ENSG00000000938</th>\n",
       "      <td>FGR</td>\n",
       "      <td>(Whole_Blood, Brain_Frontal_Cortex_BA9, Esopha...</td>\n",
       "    </tr>\n",
       "    <tr>\n",
       "      <th>ENSG00000000971</th>\n",
       "      <td>CFH</td>\n",
       "      <td>(Whole_Blood, Brain_Frontal_Cortex_BA9, Artery...</td>\n",
       "    </tr>\n",
       "    <tr>\n",
       "      <th>ENSG00000001084</th>\n",
       "      <td>GCLC</td>\n",
       "      <td>(Whole_Blood, Brain_Frontal_Cortex_BA9, Artery...</td>\n",
       "    </tr>\n",
       "    <tr>\n",
       "      <th>ENSG00000001167</th>\n",
       "      <td>NFYA</td>\n",
       "      <td>(Whole_Blood, Esophagus_Mucosa, Artery_Tibial,...</td>\n",
       "    </tr>\n",
       "  </tbody>\n",
       "</table>\n",
       "</div>"
      ],
      "text/plain": [
       "                gene_name                                             tissue\n",
       "gene_id                                                                     \n",
       "ENSG00000000419      DPM1       (Brain_Hypothalamus, Brain_Substantia_nigra)\n",
       "ENSG00000000938       FGR  (Whole_Blood, Brain_Frontal_Cortex_BA9, Esopha...\n",
       "ENSG00000000971       CFH  (Whole_Blood, Brain_Frontal_Cortex_BA9, Artery...\n",
       "ENSG00000001084      GCLC  (Whole_Blood, Brain_Frontal_Cortex_BA9, Artery...\n",
       "ENSG00000001167      NFYA  (Whole_Blood, Esophagus_Mucosa, Artery_Tibial,..."
      ]
     },
     "execution_count": 86,
     "metadata": {},
     "output_type": "execute_result"
    }
   ],
   "source": [
    "spredixcan_genes_models.head()"
   ]
  },
  {
   "cell_type": "markdown",
   "id": "d1e67be9-9094-4a07-b89d-3a0815d503e6",
   "metadata": {
    "papermill": {
     "duration": 0.01291,
     "end_time": "2022-12-15T17:45:29.715433",
     "exception": false,
     "start_time": "2022-12-15T17:45:29.702523",
     "status": "completed"
    },
    "tags": []
   },
   "source": [
    "### Add number of tissues"
   ]
  },
  {
   "cell_type": "code",
   "execution_count": 87,
   "id": "b2702bdb-b3bc-48e6-9c3e-855924d9e74b",
   "metadata": {
    "execution": {
     "iopub.execute_input": "2022-12-15T17:45:29.742442Z",
     "iopub.status.busy": "2022-12-15T17:45:29.741924Z",
     "iopub.status.idle": "2022-12-15T17:45:29.760428Z",
     "shell.execute_reply": "2022-12-15T17:45:29.759830Z"
    },
    "papermill": {
     "duration": 0.033071,
     "end_time": "2022-12-15T17:45:29.761351",
     "exception": false,
     "start_time": "2022-12-15T17:45:29.728280",
     "status": "completed"
    },
    "tags": []
   },
   "outputs": [],
   "source": [
    "spredixcan_genes_models = spredixcan_genes_models.assign(\n",
    "    n_tissues=spredixcan_genes_models[\"tissue\"].apply(len)\n",
    ")"
   ]
  },
  {
   "cell_type": "code",
   "execution_count": 88,
   "id": "4a5eb4b8-5e11-45a3-a991-0515bd83fc03",
   "metadata": {
    "execution": {
     "iopub.execute_input": "2022-12-15T17:45:29.788342Z",
     "iopub.status.busy": "2022-12-15T17:45:29.787877Z",
     "iopub.status.idle": "2022-12-15T17:45:29.809493Z",
     "shell.execute_reply": "2022-12-15T17:45:29.808929Z"
    },
    "papermill": {
     "duration": 0.036034,
     "end_time": "2022-12-15T17:45:29.810409",
     "exception": false,
     "start_time": "2022-12-15T17:45:29.774375",
     "status": "completed"
    },
    "tags": []
   },
   "outputs": [
    {
     "data": {
      "text/html": [
       "<div>\n",
       "<style scoped>\n",
       "    .dataframe tbody tr th:only-of-type {\n",
       "        vertical-align: middle;\n",
       "    }\n",
       "\n",
       "    .dataframe tbody tr th {\n",
       "        vertical-align: top;\n",
       "    }\n",
       "\n",
       "    .dataframe thead th {\n",
       "        text-align: right;\n",
       "    }\n",
       "</style>\n",
       "<table border=\"1\" class=\"dataframe\">\n",
       "  <thead>\n",
       "    <tr style=\"text-align: right;\">\n",
       "      <th></th>\n",
       "      <th>gene_name</th>\n",
       "      <th>tissue</th>\n",
       "      <th>n_tissues</th>\n",
       "    </tr>\n",
       "    <tr>\n",
       "      <th>gene_id</th>\n",
       "      <th></th>\n",
       "      <th></th>\n",
       "      <th></th>\n",
       "    </tr>\n",
       "  </thead>\n",
       "  <tbody>\n",
       "    <tr>\n",
       "      <th>ENSG00000000419</th>\n",
       "      <td>DPM1</td>\n",
       "      <td>(Brain_Hypothalamus, Brain_Substantia_nigra)</td>\n",
       "      <td>2</td>\n",
       "    </tr>\n",
       "    <tr>\n",
       "      <th>ENSG00000000938</th>\n",
       "      <td>FGR</td>\n",
       "      <td>(Whole_Blood, Brain_Frontal_Cortex_BA9, Esopha...</td>\n",
       "      <td>36</td>\n",
       "    </tr>\n",
       "    <tr>\n",
       "      <th>ENSG00000000971</th>\n",
       "      <td>CFH</td>\n",
       "      <td>(Whole_Blood, Brain_Frontal_Cortex_BA9, Artery...</td>\n",
       "      <td>34</td>\n",
       "    </tr>\n",
       "    <tr>\n",
       "      <th>ENSG00000001084</th>\n",
       "      <td>GCLC</td>\n",
       "      <td>(Whole_Blood, Brain_Frontal_Cortex_BA9, Artery...</td>\n",
       "      <td>32</td>\n",
       "    </tr>\n",
       "    <tr>\n",
       "      <th>ENSG00000001167</th>\n",
       "      <td>NFYA</td>\n",
       "      <td>(Whole_Blood, Esophagus_Mucosa, Artery_Tibial,...</td>\n",
       "      <td>40</td>\n",
       "    </tr>\n",
       "  </tbody>\n",
       "</table>\n",
       "</div>"
      ],
      "text/plain": [
       "                gene_name                                             tissue  \\\n",
       "gene_id                                                                        \n",
       "ENSG00000000419      DPM1       (Brain_Hypothalamus, Brain_Substantia_nigra)   \n",
       "ENSG00000000938       FGR  (Whole_Blood, Brain_Frontal_Cortex_BA9, Esopha...   \n",
       "ENSG00000000971       CFH  (Whole_Blood, Brain_Frontal_Cortex_BA9, Artery...   \n",
       "ENSG00000001084      GCLC  (Whole_Blood, Brain_Frontal_Cortex_BA9, Artery...   \n",
       "ENSG00000001167      NFYA  (Whole_Blood, Esophagus_Mucosa, Artery_Tibial,...   \n",
       "\n",
       "                 n_tissues  \n",
       "gene_id                     \n",
       "ENSG00000000419          2  \n",
       "ENSG00000000938         36  \n",
       "ENSG00000000971         34  \n",
       "ENSG00000001084         32  \n",
       "ENSG00000001167         40  "
      ]
     },
     "execution_count": 88,
     "metadata": {},
     "output_type": "execute_result"
    }
   ],
   "source": [
    "spredixcan_genes_models.head()"
   ]
  },
  {
   "cell_type": "markdown",
   "id": "2abce820-1cb4-4a58-9dc5-b3e37d3ff037",
   "metadata": {
    "papermill": {
     "duration": 0.013246,
     "end_time": "2022-12-15T17:45:29.836870",
     "exception": false,
     "start_time": "2022-12-15T17:45:29.823624",
     "status": "completed"
    },
    "tags": []
   },
   "source": [
    "### Save"
   ]
  },
  {
   "cell_type": "markdown",
   "id": "28462e2a-da49-44c4-ae71-b3830a2b108f",
   "metadata": {
    "papermill": {
     "duration": 0.013219,
     "end_time": "2022-12-15T17:45:29.863277",
     "exception": false,
     "start_time": "2022-12-15T17:45:29.850058",
     "status": "completed"
    },
    "tags": []
   },
   "source": [
    "Here I quickly save these results to a file, given that the next steps (covariates) are slow to compute."
   ]
  },
  {
   "cell_type": "code",
   "execution_count": 89,
   "id": "9cfb687d-5ab2-4e85-9944-f5c685de8046",
   "metadata": {
    "execution": {
     "iopub.execute_input": "2022-12-15T17:45:29.890853Z",
     "iopub.status.busy": "2022-12-15T17:45:29.890331Z",
     "iopub.status.idle": "2022-12-15T17:45:29.907112Z",
     "shell.execute_reply": "2022-12-15T17:45:29.906535Z"
    },
    "papermill": {
     "duration": 0.031683,
     "end_time": "2022-12-15T17:45:29.908131",
     "exception": false,
     "start_time": "2022-12-15T17:45:29.876448",
     "status": "completed"
    },
    "tags": []
   },
   "outputs": [],
   "source": [
    "# this is important, other scripts depend on gene_name to be unique\n",
    "assert spredixcan_genes_models[\"gene_name\"].is_unique"
   ]
  },
  {
   "cell_type": "code",
   "execution_count": 90,
   "id": "b2d9bd26-afaa-4aff-a707-3109e13af9bb",
   "metadata": {
    "execution": {
     "iopub.execute_input": "2022-12-15T17:45:29.935884Z",
     "iopub.status.busy": "2022-12-15T17:45:29.935464Z",
     "iopub.status.idle": "2022-12-15T17:45:29.954104Z",
     "shell.execute_reply": "2022-12-15T17:45:29.953529Z"
    },
    "papermill": {
     "duration": 0.033416,
     "end_time": "2022-12-15T17:45:29.954979",
     "exception": false,
     "start_time": "2022-12-15T17:45:29.921563",
     "status": "completed"
    },
    "tags": []
   },
   "outputs": [],
   "source": [
    "assert not spredixcan_genes_models.isna().any(axis=None)"
   ]
  },
  {
   "cell_type": "code",
   "execution_count": 91,
   "id": "074b103c-2960-4299-a3ac-fa37ab6f2784",
   "metadata": {
    "execution": {
     "iopub.execute_input": "2022-12-15T17:45:29.982456Z",
     "iopub.status.busy": "2022-12-15T17:45:29.981967Z",
     "iopub.status.idle": "2022-12-15T17:45:30.012014Z",
     "shell.execute_reply": "2022-12-15T17:45:30.011355Z"
    },
    "papermill": {
     "duration": 0.044897,
     "end_time": "2022-12-15T17:45:30.012985",
     "exception": false,
     "start_time": "2022-12-15T17:45:29.968088",
     "status": "completed"
    },
    "tags": []
   },
   "outputs": [],
   "source": [
    "spredixcan_genes_models.to_pickle(OUTPUT_DIR_BASE / \"gene_tissues.pkl\")"
   ]
  },
  {
   "cell_type": "markdown",
   "id": "ae18f693-4da8-48ae-85b6-8194abcca684",
   "metadata": {
    "papermill": {
     "duration": 0.013235,
     "end_time": "2022-12-15T17:45:30.039581",
     "exception": false,
     "start_time": "2022-12-15T17:45:30.026346",
     "status": "completed"
    },
    "tags": []
   },
   "source": [
    "## Add covariates based on S-PrediXcan results"
   ]
  },
  {
   "cell_type": "markdown",
   "id": "bed7a46c-4906-40b9-9dd8-0bfb584e6d2a",
   "metadata": {
    "papermill": {
     "duration": 0.013124,
     "end_time": "2022-12-15T17:45:30.065913",
     "exception": false,
     "start_time": "2022-12-15T17:45:30.052789",
     "status": "completed"
    },
    "tags": []
   },
   "source": [
    "This extend the previous file with more columns"
   ]
  },
  {
   "cell_type": "markdown",
   "id": "850c554f-2ace-40a3-a33a-477246bb07c7",
   "metadata": {
    "papermill": {
     "duration": 0.013323,
     "end_time": "2022-12-15T17:45:30.092518",
     "exception": false,
     "start_time": "2022-12-15T17:45:30.079195",
     "status": "completed"
    },
    "tags": []
   },
   "source": [
    "### Get gene's objects"
   ]
  },
  {
   "cell_type": "code",
   "execution_count": 92,
   "id": "dfd93711-5c91-4cb6-8561-f366e270b6b1",
   "metadata": {
    "execution": {
     "iopub.execute_input": "2022-12-15T17:45:30.120378Z",
     "iopub.status.busy": "2022-12-15T17:45:30.119853Z",
     "iopub.status.idle": "2022-12-15T17:45:30.148868Z",
     "shell.execute_reply": "2022-12-15T17:45:30.148209Z"
    },
    "papermill": {
     "duration": 0.044045,
     "end_time": "2022-12-15T17:45:30.149822",
     "exception": false,
     "start_time": "2022-12-15T17:45:30.105777",
     "status": "completed"
    },
    "tags": []
   },
   "outputs": [],
   "source": [
    "spredixcan_gene_obj = {\n",
    "    gene_id: Gene(ensembl_id=gene_id) for gene_id in spredixcan_genes_models.index\n",
    "}"
   ]
  },
  {
   "cell_type": "code",
   "execution_count": 93,
   "id": "59efbedc-0b5d-4d0b-bd82-95e74c0ba793",
   "metadata": {
    "execution": {
     "iopub.execute_input": "2022-12-15T17:45:30.178510Z",
     "iopub.status.busy": "2022-12-15T17:45:30.177869Z",
     "iopub.status.idle": "2022-12-15T17:45:30.196291Z",
     "shell.execute_reply": "2022-12-15T17:45:30.195723Z"
    },
    "papermill": {
     "duration": 0.033661,
     "end_time": "2022-12-15T17:45:30.197233",
     "exception": false,
     "start_time": "2022-12-15T17:45:30.163572",
     "status": "completed"
    },
    "tags": []
   },
   "outputs": [
    {
     "data": {
      "text/plain": [
       "6443"
      ]
     },
     "execution_count": 93,
     "metadata": {},
     "output_type": "execute_result"
    }
   ],
   "source": [
    "len(spredixcan_gene_obj)"
   ]
  },
  {
   "cell_type": "markdown",
   "id": "ab6ff41a-0949-4eea-abef-7dc4f0b373fc",
   "metadata": {
    "papermill": {
     "duration": 0.013449,
     "end_time": "2022-12-15T17:45:30.224173",
     "exception": false,
     "start_time": "2022-12-15T17:45:30.210724",
     "status": "completed"
    },
    "tags": []
   },
   "source": [
    "### Count number of SNPs predictors used across tissue models"
   ]
  },
  {
   "cell_type": "code",
   "execution_count": 94,
   "id": "c8f6cc6f-5812-45c9-b775-6f2193f8a360",
   "metadata": {
    "execution": {
     "iopub.execute_input": "2022-12-15T17:45:30.252522Z",
     "iopub.status.busy": "2022-12-15T17:45:30.252030Z",
     "iopub.status.idle": "2022-12-15T17:45:30.307538Z",
     "shell.execute_reply": "2022-12-15T17:45:30.306894Z"
    },
    "papermill": {
     "duration": 0.070617,
     "end_time": "2022-12-15T17:45:30.308582",
     "exception": false,
     "start_time": "2022-12-15T17:45:30.237965",
     "status": "completed"
    },
    "tags": []
   },
   "outputs": [],
   "source": [
    "spredixcan_genes_sum_of_n_snps_used = (\n",
    "    spredixcan_dfs.groupby(\"gene_id\")[\"n_snps_used\"].sum().rename(\"n_snps_used_sum\")\n",
    ")"
   ]
  },
  {
   "cell_type": "code",
   "execution_count": 95,
   "id": "7255df64-7b9f-4504-a4fa-1f2a9aa56ec0",
   "metadata": {
    "execution": {
     "iopub.execute_input": "2022-12-15T17:45:30.336143Z",
     "iopub.status.busy": "2022-12-15T17:45:30.335715Z",
     "iopub.status.idle": "2022-12-15T17:45:30.354581Z",
     "shell.execute_reply": "2022-12-15T17:45:30.354017Z"
    },
    "papermill": {
     "duration": 0.033705,
     "end_time": "2022-12-15T17:45:30.355495",
     "exception": false,
     "start_time": "2022-12-15T17:45:30.321790",
     "status": "completed"
    },
    "tags": []
   },
   "outputs": [
    {
     "data": {
      "text/plain": [
       "gene_id\n",
       "ENSG00000000419     2\n",
       "ENSG00000000938    40\n",
       "ENSG00000000971    44\n",
       "ENSG00000001084    46\n",
       "ENSG00000001167    47\n",
       "                   ..\n",
       "ENSG00000278540    44\n",
       "ENSG00000278828     5\n",
       "ENSG00000278845    89\n",
       "ENSG00000281005    81\n",
       "ENSG00000282608    40\n",
       "Name: n_snps_used_sum, Length: 6443, dtype: int64"
      ]
     },
     "execution_count": 95,
     "metadata": {},
     "output_type": "execute_result"
    }
   ],
   "source": [
    "spredixcan_genes_sum_of_n_snps_used"
   ]
  },
  {
   "cell_type": "code",
   "execution_count": 96,
   "id": "44bc1222-b334-4ce2-8997-494d0e584cf9",
   "metadata": {
    "execution": {
     "iopub.execute_input": "2022-12-15T17:45:30.383430Z",
     "iopub.status.busy": "2022-12-15T17:45:30.383068Z",
     "iopub.status.idle": "2022-12-15T17:45:30.402444Z",
     "shell.execute_reply": "2022-12-15T17:45:30.401854Z"
    },
    "papermill": {
     "duration": 0.034278,
     "end_time": "2022-12-15T17:45:30.403283",
     "exception": false,
     "start_time": "2022-12-15T17:45:30.369005",
     "status": "completed"
    },
    "tags": []
   },
   "outputs": [],
   "source": [
    "# add sum of snps used to spredixcan_genes_models\n",
    "spredixcan_genes_models = spredixcan_genes_models.join(\n",
    "    spredixcan_genes_sum_of_n_snps_used\n",
    ")"
   ]
  },
  {
   "cell_type": "code",
   "execution_count": 97,
   "id": "5e5e6d7f-b970-4f21-9322-b76bc22afd71",
   "metadata": {
    "execution": {
     "iopub.execute_input": "2022-12-15T17:45:30.431054Z",
     "iopub.status.busy": "2022-12-15T17:45:30.430697Z",
     "iopub.status.idle": "2022-12-15T17:45:30.447407Z",
     "shell.execute_reply": "2022-12-15T17:45:30.446848Z"
    },
    "papermill": {
     "duration": 0.031575,
     "end_time": "2022-12-15T17:45:30.448322",
     "exception": false,
     "start_time": "2022-12-15T17:45:30.416747",
     "status": "completed"
    },
    "tags": []
   },
   "outputs": [
    {
     "data": {
      "text/plain": [
       "(6443, 4)"
      ]
     },
     "execution_count": 97,
     "metadata": {},
     "output_type": "execute_result"
    }
   ],
   "source": [
    "spredixcan_genes_models.shape"
   ]
  },
  {
   "cell_type": "code",
   "execution_count": 98,
   "id": "22c096c2-213a-4001-8454-1633997d404f",
   "metadata": {
    "execution": {
     "iopub.execute_input": "2022-12-15T17:45:30.476223Z",
     "iopub.status.busy": "2022-12-15T17:45:30.475867Z",
     "iopub.status.idle": "2022-12-15T17:45:30.497223Z",
     "shell.execute_reply": "2022-12-15T17:45:30.496652Z"
    },
    "papermill": {
     "duration": 0.036304,
     "end_time": "2022-12-15T17:45:30.498149",
     "exception": false,
     "start_time": "2022-12-15T17:45:30.461845",
     "status": "completed"
    },
    "tags": []
   },
   "outputs": [
    {
     "data": {
      "text/html": [
       "<div>\n",
       "<style scoped>\n",
       "    .dataframe tbody tr th:only-of-type {\n",
       "        vertical-align: middle;\n",
       "    }\n",
       "\n",
       "    .dataframe tbody tr th {\n",
       "        vertical-align: top;\n",
       "    }\n",
       "\n",
       "    .dataframe thead th {\n",
       "        text-align: right;\n",
       "    }\n",
       "</style>\n",
       "<table border=\"1\" class=\"dataframe\">\n",
       "  <thead>\n",
       "    <tr style=\"text-align: right;\">\n",
       "      <th></th>\n",
       "      <th>gene_name</th>\n",
       "      <th>tissue</th>\n",
       "      <th>n_tissues</th>\n",
       "      <th>n_snps_used_sum</th>\n",
       "    </tr>\n",
       "    <tr>\n",
       "      <th>gene_id</th>\n",
       "      <th></th>\n",
       "      <th></th>\n",
       "      <th></th>\n",
       "      <th></th>\n",
       "    </tr>\n",
       "  </thead>\n",
       "  <tbody>\n",
       "    <tr>\n",
       "      <th>ENSG00000000419</th>\n",
       "      <td>DPM1</td>\n",
       "      <td>(Brain_Hypothalamus, Brain_Substantia_nigra)</td>\n",
       "      <td>2</td>\n",
       "      <td>2</td>\n",
       "    </tr>\n",
       "    <tr>\n",
       "      <th>ENSG00000000938</th>\n",
       "      <td>FGR</td>\n",
       "      <td>(Whole_Blood, Brain_Frontal_Cortex_BA9, Esopha...</td>\n",
       "      <td>36</td>\n",
       "      <td>40</td>\n",
       "    </tr>\n",
       "    <tr>\n",
       "      <th>ENSG00000000971</th>\n",
       "      <td>CFH</td>\n",
       "      <td>(Whole_Blood, Brain_Frontal_Cortex_BA9, Artery...</td>\n",
       "      <td>34</td>\n",
       "      <td>44</td>\n",
       "    </tr>\n",
       "    <tr>\n",
       "      <th>ENSG00000001084</th>\n",
       "      <td>GCLC</td>\n",
       "      <td>(Whole_Blood, Brain_Frontal_Cortex_BA9, Artery...</td>\n",
       "      <td>32</td>\n",
       "      <td>46</td>\n",
       "    </tr>\n",
       "    <tr>\n",
       "      <th>ENSG00000001167</th>\n",
       "      <td>NFYA</td>\n",
       "      <td>(Whole_Blood, Esophagus_Mucosa, Artery_Tibial,...</td>\n",
       "      <td>40</td>\n",
       "      <td>47</td>\n",
       "    </tr>\n",
       "  </tbody>\n",
       "</table>\n",
       "</div>"
      ],
      "text/plain": [
       "                gene_name                                             tissue  \\\n",
       "gene_id                                                                        \n",
       "ENSG00000000419      DPM1       (Brain_Hypothalamus, Brain_Substantia_nigra)   \n",
       "ENSG00000000938       FGR  (Whole_Blood, Brain_Frontal_Cortex_BA9, Esopha...   \n",
       "ENSG00000000971       CFH  (Whole_Blood, Brain_Frontal_Cortex_BA9, Artery...   \n",
       "ENSG00000001084      GCLC  (Whole_Blood, Brain_Frontal_Cortex_BA9, Artery...   \n",
       "ENSG00000001167      NFYA  (Whole_Blood, Esophagus_Mucosa, Artery_Tibial,...   \n",
       "\n",
       "                 n_tissues  n_snps_used_sum  \n",
       "gene_id                                      \n",
       "ENSG00000000419          2                2  \n",
       "ENSG00000000938         36               40  \n",
       "ENSG00000000971         34               44  \n",
       "ENSG00000001084         32               46  \n",
       "ENSG00000001167         40               47  "
      ]
     },
     "execution_count": 98,
     "metadata": {},
     "output_type": "execute_result"
    }
   ],
   "source": [
    "spredixcan_genes_models.head()"
   ]
  },
  {
   "cell_type": "markdown",
   "id": "f4692315-d7be-465e-b756-f6d76fec949e",
   "metadata": {
    "papermill": {
     "duration": 0.013705,
     "end_time": "2022-12-15T17:45:30.525616",
     "exception": false,
     "start_time": "2022-12-15T17:45:30.511911",
     "status": "completed"
    },
    "tags": []
   },
   "source": [
    "### Count number of SNPs predictors in models across tissue models"
   ]
  },
  {
   "cell_type": "code",
   "execution_count": 99,
   "id": "08eed385-36eb-4e42-b28e-51333f9cfcd3",
   "metadata": {
    "execution": {
     "iopub.execute_input": "2022-12-15T17:45:30.554236Z",
     "iopub.status.busy": "2022-12-15T17:45:30.553653Z",
     "iopub.status.idle": "2022-12-15T17:45:30.608153Z",
     "shell.execute_reply": "2022-12-15T17:45:30.607500Z"
    },
    "papermill": {
     "duration": 0.069661,
     "end_time": "2022-12-15T17:45:30.609056",
     "exception": false,
     "start_time": "2022-12-15T17:45:30.539395",
     "status": "completed"
    },
    "tags": []
   },
   "outputs": [],
   "source": [
    "spredixcan_genes_sum_of_n_snps_in_model = (\n",
    "    spredixcan_dfs.groupby(\"gene_id\")[\"n_snps_in_model\"]\n",
    "    .sum()\n",
    "    .rename(\"n_snps_in_model_sum\")\n",
    ")"
   ]
  },
  {
   "cell_type": "code",
   "execution_count": 100,
   "id": "10431f5c-1f56-4664-a09f-53c608bec631",
   "metadata": {
    "execution": {
     "iopub.execute_input": "2022-12-15T17:45:30.637872Z",
     "iopub.status.busy": "2022-12-15T17:45:30.637422Z",
     "iopub.status.idle": "2022-12-15T17:45:30.656525Z",
     "shell.execute_reply": "2022-12-15T17:45:30.655942Z"
    },
    "papermill": {
     "duration": 0.034524,
     "end_time": "2022-12-15T17:45:30.657434",
     "exception": false,
     "start_time": "2022-12-15T17:45:30.622910",
     "status": "completed"
    },
    "tags": []
   },
   "outputs": [
    {
     "data": {
      "text/plain": [
       "gene_id\n",
       "ENSG00000000419     2\n",
       "ENSG00000000938    40\n",
       "ENSG00000000971    44\n",
       "ENSG00000001084    46\n",
       "ENSG00000001167    48\n",
       "                   ..\n",
       "ENSG00000278540    44\n",
       "ENSG00000278828     5\n",
       "ENSG00000278845    91\n",
       "ENSG00000281005    81\n",
       "ENSG00000282608    40\n",
       "Name: n_snps_in_model_sum, Length: 6443, dtype: int64"
      ]
     },
     "execution_count": 100,
     "metadata": {},
     "output_type": "execute_result"
    }
   ],
   "source": [
    "spredixcan_genes_sum_of_n_snps_in_model"
   ]
  },
  {
   "cell_type": "code",
   "execution_count": 101,
   "id": "d13e1d65-0dcb-4a94-aba8-bcdcd09d17c3",
   "metadata": {
    "execution": {
     "iopub.execute_input": "2022-12-15T17:45:30.686520Z",
     "iopub.status.busy": "2022-12-15T17:45:30.685950Z",
     "iopub.status.idle": "2022-12-15T17:45:30.704848Z",
     "shell.execute_reply": "2022-12-15T17:45:30.704238Z"
    },
    "papermill": {
     "duration": 0.034433,
     "end_time": "2022-12-15T17:45:30.705810",
     "exception": false,
     "start_time": "2022-12-15T17:45:30.671377",
     "status": "completed"
    },
    "tags": []
   },
   "outputs": [],
   "source": [
    "# add sum of snps in model to spredixcan_genes_models\n",
    "spredixcan_genes_models = spredixcan_genes_models.join(\n",
    "    spredixcan_genes_sum_of_n_snps_in_model\n",
    ")"
   ]
  },
  {
   "cell_type": "code",
   "execution_count": 102,
   "id": "0d3973d8-5da2-4c9d-b406-2525f615035c",
   "metadata": {
    "execution": {
     "iopub.execute_input": "2022-12-15T17:45:30.734863Z",
     "iopub.status.busy": "2022-12-15T17:45:30.734433Z",
     "iopub.status.idle": "2022-12-15T17:45:30.751386Z",
     "shell.execute_reply": "2022-12-15T17:45:30.750830Z"
    },
    "papermill": {
     "duration": 0.032383,
     "end_time": "2022-12-15T17:45:30.752225",
     "exception": false,
     "start_time": "2022-12-15T17:45:30.719842",
     "status": "completed"
    },
    "tags": []
   },
   "outputs": [
    {
     "data": {
      "text/plain": [
       "(6443, 5)"
      ]
     },
     "execution_count": 102,
     "metadata": {},
     "output_type": "execute_result"
    }
   ],
   "source": [
    "spredixcan_genes_models.shape"
   ]
  },
  {
   "cell_type": "code",
   "execution_count": 103,
   "id": "76c27f05-c5c6-4ed9-9363-fcba871a3572",
   "metadata": {
    "execution": {
     "iopub.execute_input": "2022-12-15T17:45:30.781405Z",
     "iopub.status.busy": "2022-12-15T17:45:30.781015Z",
     "iopub.status.idle": "2022-12-15T17:45:30.802677Z",
     "shell.execute_reply": "2022-12-15T17:45:30.802103Z"
    },
    "papermill": {
     "duration": 0.037277,
     "end_time": "2022-12-15T17:45:30.803602",
     "exception": false,
     "start_time": "2022-12-15T17:45:30.766325",
     "status": "completed"
    },
    "tags": []
   },
   "outputs": [
    {
     "data": {
      "text/html": [
       "<div>\n",
       "<style scoped>\n",
       "    .dataframe tbody tr th:only-of-type {\n",
       "        vertical-align: middle;\n",
       "    }\n",
       "\n",
       "    .dataframe tbody tr th {\n",
       "        vertical-align: top;\n",
       "    }\n",
       "\n",
       "    .dataframe thead th {\n",
       "        text-align: right;\n",
       "    }\n",
       "</style>\n",
       "<table border=\"1\" class=\"dataframe\">\n",
       "  <thead>\n",
       "    <tr style=\"text-align: right;\">\n",
       "      <th></th>\n",
       "      <th>gene_name</th>\n",
       "      <th>tissue</th>\n",
       "      <th>n_tissues</th>\n",
       "      <th>n_snps_used_sum</th>\n",
       "      <th>n_snps_in_model_sum</th>\n",
       "    </tr>\n",
       "    <tr>\n",
       "      <th>gene_id</th>\n",
       "      <th></th>\n",
       "      <th></th>\n",
       "      <th></th>\n",
       "      <th></th>\n",
       "      <th></th>\n",
       "    </tr>\n",
       "  </thead>\n",
       "  <tbody>\n",
       "    <tr>\n",
       "      <th>ENSG00000000419</th>\n",
       "      <td>DPM1</td>\n",
       "      <td>(Brain_Hypothalamus, Brain_Substantia_nigra)</td>\n",
       "      <td>2</td>\n",
       "      <td>2</td>\n",
       "      <td>2</td>\n",
       "    </tr>\n",
       "    <tr>\n",
       "      <th>ENSG00000000938</th>\n",
       "      <td>FGR</td>\n",
       "      <td>(Whole_Blood, Brain_Frontal_Cortex_BA9, Esopha...</td>\n",
       "      <td>36</td>\n",
       "      <td>40</td>\n",
       "      <td>40</td>\n",
       "    </tr>\n",
       "    <tr>\n",
       "      <th>ENSG00000000971</th>\n",
       "      <td>CFH</td>\n",
       "      <td>(Whole_Blood, Brain_Frontal_Cortex_BA9, Artery...</td>\n",
       "      <td>34</td>\n",
       "      <td>44</td>\n",
       "      <td>44</td>\n",
       "    </tr>\n",
       "    <tr>\n",
       "      <th>ENSG00000001084</th>\n",
       "      <td>GCLC</td>\n",
       "      <td>(Whole_Blood, Brain_Frontal_Cortex_BA9, Artery...</td>\n",
       "      <td>32</td>\n",
       "      <td>46</td>\n",
       "      <td>46</td>\n",
       "    </tr>\n",
       "    <tr>\n",
       "      <th>ENSG00000001167</th>\n",
       "      <td>NFYA</td>\n",
       "      <td>(Whole_Blood, Esophagus_Mucosa, Artery_Tibial,...</td>\n",
       "      <td>40</td>\n",
       "      <td>47</td>\n",
       "      <td>48</td>\n",
       "    </tr>\n",
       "  </tbody>\n",
       "</table>\n",
       "</div>"
      ],
      "text/plain": [
       "                gene_name                                             tissue  \\\n",
       "gene_id                                                                        \n",
       "ENSG00000000419      DPM1       (Brain_Hypothalamus, Brain_Substantia_nigra)   \n",
       "ENSG00000000938       FGR  (Whole_Blood, Brain_Frontal_Cortex_BA9, Esopha...   \n",
       "ENSG00000000971       CFH  (Whole_Blood, Brain_Frontal_Cortex_BA9, Artery...   \n",
       "ENSG00000001084      GCLC  (Whole_Blood, Brain_Frontal_Cortex_BA9, Artery...   \n",
       "ENSG00000001167      NFYA  (Whole_Blood, Esophagus_Mucosa, Artery_Tibial,...   \n",
       "\n",
       "                 n_tissues  n_snps_used_sum  n_snps_in_model_sum  \n",
       "gene_id                                                           \n",
       "ENSG00000000419          2                2                    2  \n",
       "ENSG00000000938         36               40                   40  \n",
       "ENSG00000000971         34               44                   44  \n",
       "ENSG00000001084         32               46                   46  \n",
       "ENSG00000001167         40               47                   48  "
      ]
     },
     "execution_count": 103,
     "metadata": {},
     "output_type": "execute_result"
    }
   ],
   "source": [
    "spredixcan_genes_models.head()"
   ]
  },
  {
   "cell_type": "markdown",
   "id": "d6947d45-ea78-4c6b-bf71-f7413d1687e3",
   "metadata": {
    "papermill": {
     "duration": 0.014008,
     "end_time": "2022-12-15T17:45:30.831848",
     "exception": false,
     "start_time": "2022-12-15T17:45:30.817840",
     "status": "completed"
    },
    "tags": []
   },
   "source": [
    "### Save"
   ]
  },
  {
   "cell_type": "code",
   "execution_count": 104,
   "id": "ebc3a430-7bd5-4099-8b01-aa77e704e3e7",
   "metadata": {
    "execution": {
     "iopub.execute_input": "2022-12-15T17:45:30.861474Z",
     "iopub.status.busy": "2022-12-15T17:45:30.860949Z",
     "iopub.status.idle": "2022-12-15T17:45:30.877897Z",
     "shell.execute_reply": "2022-12-15T17:45:30.877311Z"
    },
    "papermill": {
     "duration": 0.03279,
     "end_time": "2022-12-15T17:45:30.878879",
     "exception": false,
     "start_time": "2022-12-15T17:45:30.846089",
     "status": "completed"
    },
    "tags": []
   },
   "outputs": [],
   "source": [
    "# this is important, other scripts depend on gene_name to be unique\n",
    "assert spredixcan_genes_models[\"gene_name\"].is_unique"
   ]
  },
  {
   "cell_type": "code",
   "execution_count": 105,
   "id": "e2db5302-3051-4492-97e1-e759d2fb512f",
   "metadata": {
    "execution": {
     "iopub.execute_input": "2022-12-15T17:45:30.908052Z",
     "iopub.status.busy": "2022-12-15T17:45:30.907554Z",
     "iopub.status.idle": "2022-12-15T17:45:30.926610Z",
     "shell.execute_reply": "2022-12-15T17:45:30.926029Z"
    },
    "papermill": {
     "duration": 0.034544,
     "end_time": "2022-12-15T17:45:30.927528",
     "exception": false,
     "start_time": "2022-12-15T17:45:30.892984",
     "status": "completed"
    },
    "tags": []
   },
   "outputs": [],
   "source": [
    "assert not spredixcan_genes_models.isna().any(axis=None)"
   ]
  },
  {
   "cell_type": "code",
   "execution_count": 106,
   "id": "10e19441-8390-4eb1-8da4-24752597bb54",
   "metadata": {
    "execution": {
     "iopub.execute_input": "2022-12-15T17:45:30.956696Z",
     "iopub.status.busy": "2022-12-15T17:45:30.956199Z",
     "iopub.status.idle": "2022-12-15T17:45:30.988643Z",
     "shell.execute_reply": "2022-12-15T17:45:30.987975Z"
    },
    "papermill": {
     "duration": 0.048028,
     "end_time": "2022-12-15T17:45:30.989576",
     "exception": false,
     "start_time": "2022-12-15T17:45:30.941548",
     "status": "completed"
    },
    "tags": []
   },
   "outputs": [],
   "source": [
    "spredixcan_genes_models.to_pickle(OUTPUT_DIR_BASE / \"gene_tissues.pkl\")"
   ]
  },
  {
   "cell_type": "code",
   "execution_count": null,
   "id": "b25e3ead",
   "metadata": {
    "papermill": {
     "duration": 0.013947,
     "end_time": "2022-12-15T17:45:31.017429",
     "exception": false,
     "start_time": "2022-12-15T17:45:31.003482",
     "status": "completed"
    },
    "tags": []
   },
   "outputs": [],
   "source": []
  }
 ],
 "metadata": {
  "jupytext": {
   "cell_metadata_filter": "all,-execution,-papermill,-trusted",
   "formats": "ipynb,py//py:percent"
  },
  "kernelspec": {
   "display_name": "Python 3 (ipykernel)",
   "language": "python",
   "name": "python3"
  },
  "language_info": {
   "codemirror_mode": {
    "name": "ipython",
    "version": 3
   },
   "file_extension": ".py",
   "mimetype": "text/x-python",
   "name": "python",
   "nbconvert_exporter": "python",
   "pygments_lexer": "ipython3",
   "version": "3.10.6"
  },
  "papermill": {
   "default_parameters": {},
   "duration": 31.889021,
   "end_time": "2022-12-15T17:45:31.851638",
   "environment_variables": {},
   "exception": null,
   "input_path": "projects/asthma-copd/nbs/20_gene_corrs/jobs/01-compile_gwas_snps_and_twas_genes.ipynb",
   "output_path": "projects/asthma-copd/nbs/20_gene_corrs/jobs/../output/asthma_only/01-compile_gwas_snps_and_twas_genes.run.ipynb",
   "parameters": {
    "COHORT_NAME": "asthma_only",
    "GWAS_FILE": "/opt/data/projects/asthma-copd/results/final_imputed_gwas/GWAS_Asthma_only_GLM_SNPs_info0.7-harmonized-imputed.txt.gz",
    "OUTPUT_DIR_BASE": "/opt/data/projects/asthma-copd/results/gls_phenoplier",
    "PHENOPLIER_NOTEBOOK_FILEPATH": "projects/asthma-copd/nbs/20_gene_corrs/jobs/01-compile_gwas_snps_and_twas_genes.ipynb",
    "SMULTIXCAN_FILE": "/opt/data/projects/asthma-copd/results/twas/smultixcan/GWAS_Asthma_only_GLM_SNPs_info0.7-gtex_v8-mashr-smultixcan.txt",
    "SPREDIXCAN_FILE_PATTERN": "GWAS_Asthma_only_GLM_SNPs_info0.7-gtex_v8-mashr-{tissue}.csv",
    "SPREDIXCAN_FOLDER": "/opt/data/projects/asthma-copd/results/twas/spredixcan"
   },
   "start_time": "2022-12-15T17:44:59.962617",
   "version": "2.2.2"
  },
  "toc-autonumbering": true
 },
 "nbformat": 4,
 "nbformat_minor": 5
}
