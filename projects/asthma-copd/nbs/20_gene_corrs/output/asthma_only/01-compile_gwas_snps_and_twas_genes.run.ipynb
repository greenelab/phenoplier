{
 "cells": [
  {
   "cell_type": "markdown",
   "id": "7a6632fb",
   "metadata": {
    "papermill": {
     "duration": 0.009303,
     "end_time": "2022-12-02T21:49:05.435985",
     "exception": false,
     "start_time": "2022-12-02T21:49:05.426682",
     "status": "completed"
    },
    "tags": []
   },
   "source": [
    "# Description"
   ]
  },
  {
   "cell_type": "markdown",
   "id": "7097c346",
   "metadata": {
    "papermill": {
     "duration": 0.00835,
     "end_time": "2022-12-02T21:49:05.452967",
     "exception": false,
     "start_time": "2022-12-02T21:49:05.444617",
     "status": "completed"
    },
    "tags": []
   },
   "source": [
    "This notebook compiles information about the GWAS and TWAS for a particular cohort. For example, the set of GWAS variants, variance of predicted expression of genes, etc.\n",
    "\n",
    "It has specicfic parameters for papermill (see under `Settings` below).\n",
    "\n",
    "This notebook should not be directly run. It is used by other notebooks."
   ]
  },
  {
   "cell_type": "markdown",
   "id": "c61d8427",
   "metadata": {
    "papermill": {
     "duration": 0.008404,
     "end_time": "2022-12-02T21:49:05.470259",
     "exception": false,
     "start_time": "2022-12-02T21:49:05.461855",
     "status": "completed"
    },
    "tags": []
   },
   "source": [
    "# Modules"
   ]
  },
  {
   "cell_type": "code",
   "execution_count": 1,
   "id": "bbc0234f",
   "metadata": {
    "execution": {
     "iopub.execute_input": "2022-12-02T21:49:05.488348Z",
     "iopub.status.busy": "2022-12-02T21:49:05.487838Z",
     "iopub.status.idle": "2022-12-02T21:49:05.505486Z",
     "shell.execute_reply": "2022-12-02T21:49:05.504863Z"
    },
    "papermill": {
     "duration": 0.027605,
     "end_time": "2022-12-02T21:49:05.506439",
     "exception": false,
     "start_time": "2022-12-02T21:49:05.478834",
     "status": "completed"
    },
    "tags": []
   },
   "outputs": [],
   "source": [
    "%load_ext autoreload\n",
    "%autoreload 2"
   ]
  },
  {
   "cell_type": "code",
   "execution_count": 2,
   "id": "1d5f5a59",
   "metadata": {
    "execution": {
     "iopub.execute_input": "2022-12-02T21:49:05.524455Z",
     "iopub.status.busy": "2022-12-02T21:49:05.524106Z",
     "iopub.status.idle": "2022-12-02T21:49:05.835396Z",
     "shell.execute_reply": "2022-12-02T21:49:05.834853Z"
    },
    "papermill": {
     "duration": 0.32203,
     "end_time": "2022-12-02T21:49:05.837003",
     "exception": false,
     "start_time": "2022-12-02T21:49:05.514973",
     "status": "completed"
    },
    "tags": []
   },
   "outputs": [],
   "source": [
    "from pathlib import Path\n",
    "import pickle\n",
    "\n",
    "import numpy as np\n",
    "import pandas as pd\n",
    "\n",
    "import conf\n",
    "from entity import Gene"
   ]
  },
  {
   "cell_type": "markdown",
   "id": "1eac24b5",
   "metadata": {
    "papermill": {
     "duration": 0.01848,
     "end_time": "2022-12-02T21:49:05.872746",
     "exception": false,
     "start_time": "2022-12-02T21:49:05.854266",
     "status": "completed"
    },
    "tags": []
   },
   "source": [
    "# Settings"
   ]
  },
  {
   "cell_type": "code",
   "execution_count": 3,
   "id": "ca4560ba",
   "metadata": {
    "execution": {
     "iopub.execute_input": "2022-12-02T21:49:05.907595Z",
     "iopub.status.busy": "2022-12-02T21:49:05.907317Z",
     "iopub.status.idle": "2022-12-02T21:49:05.918682Z",
     "shell.execute_reply": "2022-12-02T21:49:05.918259Z"
    },
    "papermill": {
     "duration": 0.03019,
     "end_time": "2022-12-02T21:49:05.920036",
     "exception": false,
     "start_time": "2022-12-02T21:49:05.889846",
     "status": "completed"
    },
    "tags": [
     "parameters"
    ]
   },
   "outputs": [],
   "source": [
    "# a cohort name (it could be something like UK_BIOBANK, etc)\n",
    "COHORT_NAME = None\n",
    "\n",
    "# reference panel such as 1000G or GTEX_V8\n",
    "REFERENCE_PANEL = \"GTEX_V8\"\n",
    "\n",
    "# predictions models such as MASHR or ELASTIC_NET\n",
    "EQTL_MODEL = \"MASHR\"\n",
    "\n",
    "# a string with a path pointing to an imputed GWAS\n",
    "GWAS_FILE = None\n",
    "\n",
    "# a string with a path pointing where S-PrediXcan results (tissue-specific are located\n",
    "SPREDIXCAN_FOLDER = None\n",
    "\n",
    "# an f-string with one placeholder {tissue}\n",
    "SPREDIXCAN_FILE_PATTERN = None\n",
    "\n",
    "# a string with a path pointing to an S-MultiXcan result\n",
    "SMULTIXCAN_FILE = None\n",
    "\n",
    "# output dir\n",
    "OUTPUT_DIR_BASE = None"
   ]
  },
  {
   "cell_type": "code",
   "execution_count": 4,
   "id": "f9037597",
   "metadata": {
    "execution": {
     "iopub.execute_input": "2022-12-02T21:49:05.956287Z",
     "iopub.status.busy": "2022-12-02T21:49:05.955850Z",
     "iopub.status.idle": "2022-12-02T21:49:05.971985Z",
     "shell.execute_reply": "2022-12-02T21:49:05.971451Z"
    },
    "papermill": {
     "duration": 0.035133,
     "end_time": "2022-12-02T21:49:05.972948",
     "exception": false,
     "start_time": "2022-12-02T21:49:05.937815",
     "status": "completed"
    },
    "tags": [
     "injected-parameters"
    ]
   },
   "outputs": [],
   "source": [
    "# Parameters\n",
    "PHENOPLIER_NOTEBOOK_FILEPATH = \"projects/asthma-copd/nbs/20_gene_corrs/jobs/01-compile_gwas_snps_and_twas_genes.ipynb\"\n",
    "COHORT_NAME = \"asthma_only\"\n",
    "GWAS_FILE = \"/opt/data/projects/asthma-copd/results/final_imputed_gwas/GWAS_Asthma_only_GLM_SNPs_info0.7-harmonized-imputed.txt.gz\"\n",
    "SPREDIXCAN_FOLDER = \"/opt/data/projects/asthma-copd/results/twas/spredixcan\"\n",
    "SPREDIXCAN_FILE_PATTERN = \"GWAS_Asthma_only_GLM_SNPs_info0.7-gtex_v8-mashr-{tissue}.csv\"\n",
    "SMULTIXCAN_FILE = \"/opt/data/projects/asthma-copd/results/twas/smultixcan/GWAS_Asthma_only_GLM_SNPs_info0.7-gtex_v8-mashr-smultixcan.txt\"\n",
    "OUTPUT_DIR_BASE = \"/opt/data/projects/asthma-copd/results/gls_phenoplier\"\n"
   ]
  },
  {
   "cell_type": "code",
   "execution_count": 5,
   "id": "8fe24bef",
   "metadata": {
    "execution": {
     "iopub.execute_input": "2022-12-02T21:49:05.991449Z",
     "iopub.status.busy": "2022-12-02T21:49:05.990944Z",
     "iopub.status.idle": "2022-12-02T21:49:06.015558Z",
     "shell.execute_reply": "2022-12-02T21:49:06.014915Z"
    },
    "papermill": {
     "duration": 0.034786,
     "end_time": "2022-12-02T21:49:06.016581",
     "exception": false,
     "start_time": "2022-12-02T21:49:05.981795",
     "status": "completed"
    },
    "tags": []
   },
   "outputs": [
    {
     "data": {
      "text/plain": [
       "'Cohort name: asthma_only'"
      ]
     },
     "metadata": {},
     "output_type": "display_data"
    }
   ],
   "source": [
    "assert COHORT_NAME is not None and len(COHORT_NAME) > 0, \"A cohort name must be given\"\n",
    "\n",
    "COHORT_NAME = COHORT_NAME.lower()\n",
    "display(f\"Cohort name: {COHORT_NAME}\")"
   ]
  },
  {
   "cell_type": "code",
   "execution_count": 6,
   "id": "f53ba19b-0f93-4fa2-a047-63b375939d1a",
   "metadata": {
    "execution": {
     "iopub.execute_input": "2022-12-02T21:49:06.035509Z",
     "iopub.status.busy": "2022-12-02T21:49:06.035279Z",
     "iopub.status.idle": "2022-12-02T21:49:06.055800Z",
     "shell.execute_reply": "2022-12-02T21:49:06.055064Z"
    },
    "papermill": {
     "duration": 0.03115,
     "end_time": "2022-12-02T21:49:06.056773",
     "exception": false,
     "start_time": "2022-12-02T21:49:06.025623",
     "status": "completed"
    },
    "tags": []
   },
   "outputs": [
    {
     "data": {
      "text/plain": [
       "'Reference panel: GTEX_V8'"
      ]
     },
     "metadata": {},
     "output_type": "display_data"
    }
   ],
   "source": [
    "assert (\n",
    "    REFERENCE_PANEL is not None and len(REFERENCE_PANEL) > 0\n",
    "), \"A reference panel must be given\"\n",
    "\n",
    "display(f\"Reference panel: {REFERENCE_PANEL}\")"
   ]
  },
  {
   "cell_type": "code",
   "execution_count": 7,
   "id": "7a970044-2d34-4e5b-a850-eff44079afe8",
   "metadata": {
    "execution": {
     "iopub.execute_input": "2022-12-02T21:49:06.076583Z",
     "iopub.status.busy": "2022-12-02T21:49:06.075968Z",
     "iopub.status.idle": "2022-12-02T21:49:06.095398Z",
     "shell.execute_reply": "2022-12-02T21:49:06.094666Z"
    },
    "papermill": {
     "duration": 0.030366,
     "end_time": "2022-12-02T21:49:06.096250",
     "exception": false,
     "start_time": "2022-12-02T21:49:06.065884",
     "status": "completed"
    },
    "tags": []
   },
   "outputs": [
    {
     "data": {
      "text/plain": [
       "'GWAS file path: /opt/data/projects/asthma-copd/results/final_imputed_gwas/GWAS_Asthma_only_GLM_SNPs_info0.7-harmonized-imputed.txt.gz'"
      ]
     },
     "metadata": {},
     "output_type": "display_data"
    }
   ],
   "source": [
    "assert GWAS_FILE is not None and len(GWAS_FILE) > 0, \"A GWAS file path must be given\"\n",
    "GWAS_FILE = Path(GWAS_FILE).resolve()\n",
    "assert GWAS_FILE.exists(), \"GWAS file does not exist\"\n",
    "\n",
    "display(f\"GWAS file path: {str(GWAS_FILE)}\")"
   ]
  },
  {
   "cell_type": "code",
   "execution_count": 8,
   "id": "552a7f63-a18c-4d3e-bb6a-94f99b431291",
   "metadata": {
    "execution": {
     "iopub.execute_input": "2022-12-02T21:49:06.115950Z",
     "iopub.status.busy": "2022-12-02T21:49:06.115326Z",
     "iopub.status.idle": "2022-12-02T21:49:06.134372Z",
     "shell.execute_reply": "2022-12-02T21:49:06.133792Z"
    },
    "papermill": {
     "duration": 0.029727,
     "end_time": "2022-12-02T21:49:06.135304",
     "exception": false,
     "start_time": "2022-12-02T21:49:06.105577",
     "status": "completed"
    },
    "tags": []
   },
   "outputs": [
    {
     "data": {
      "text/plain": [
       "'S-PrediXcan folder path: /opt/data/projects/asthma-copd/results/twas/spredixcan'"
      ]
     },
     "metadata": {},
     "output_type": "display_data"
    }
   ],
   "source": [
    "assert (\n",
    "    SPREDIXCAN_FOLDER is not None and len(SPREDIXCAN_FOLDER) > 0\n",
    "), \"An S-PrediXcan folder path must be given\"\n",
    "SPREDIXCAN_FOLDER = Path(SPREDIXCAN_FOLDER).resolve()\n",
    "assert (\n",
    "    SPREDIXCAN_FOLDER.exists()\n",
    "), f\"S-PrediXcan folder does not exist: {str(SPREDIXCAN_FOLDER)}\"\n",
    "\n",
    "display(f\"S-PrediXcan folder path: {str(SPREDIXCAN_FOLDER)}\")"
   ]
  },
  {
   "cell_type": "code",
   "execution_count": 9,
   "id": "6e2000dc-f1dc-4db8-93d5-9a7209a2e121",
   "metadata": {
    "execution": {
     "iopub.execute_input": "2022-12-02T21:49:06.155882Z",
     "iopub.status.busy": "2022-12-02T21:49:06.155318Z",
     "iopub.status.idle": "2022-12-02T21:49:06.175214Z",
     "shell.execute_reply": "2022-12-02T21:49:06.174595Z"
    },
    "papermill": {
     "duration": 0.030632,
     "end_time": "2022-12-02T21:49:06.176116",
     "exception": false,
     "start_time": "2022-12-02T21:49:06.145484",
     "status": "completed"
    },
    "tags": []
   },
   "outputs": [
    {
     "data": {
      "text/plain": [
       "'S-PrediXcan file template: GWAS_Asthma_only_GLM_SNPs_info0.7-gtex_v8-mashr-{tissue}.csv'"
      ]
     },
     "metadata": {},
     "output_type": "display_data"
    }
   ],
   "source": [
    "assert (\n",
    "    SPREDIXCAN_FILE_PATTERN is not None and len(SPREDIXCAN_FILE_PATTERN) > 0\n",
    "), \"An S-PrediXcan file pattern must be given\"\n",
    "assert (\n",
    "    \"{tissue}\" in SPREDIXCAN_FILE_PATTERN\n",
    "), \"S-PrediXcan file pattern must have a '{tissue}' placeholder\"\n",
    "\n",
    "display(f\"S-PrediXcan file template: {SPREDIXCAN_FILE_PATTERN}\")"
   ]
  },
  {
   "cell_type": "code",
   "execution_count": 10,
   "id": "f5a5aa9d-c6f3-4fb5-9351-37382b6e67bc",
   "metadata": {
    "execution": {
     "iopub.execute_input": "2022-12-02T21:49:06.195627Z",
     "iopub.status.busy": "2022-12-02T21:49:06.195305Z",
     "iopub.status.idle": "2022-12-02T21:49:06.215350Z",
     "shell.execute_reply": "2022-12-02T21:49:06.214552Z"
    },
    "papermill": {
     "duration": 0.031549,
     "end_time": "2022-12-02T21:49:06.216918",
     "exception": false,
     "start_time": "2022-12-02T21:49:06.185369",
     "status": "completed"
    },
    "tags": []
   },
   "outputs": [
    {
     "data": {
      "text/plain": [
       "'S-MultiXcan file path: /opt/data/projects/asthma-copd/results/twas/smultixcan/GWAS_Asthma_only_GLM_SNPs_info0.7-gtex_v8-mashr-smultixcan.txt'"
      ]
     },
     "metadata": {},
     "output_type": "display_data"
    }
   ],
   "source": [
    "assert (\n",
    "    SMULTIXCAN_FILE is not None and len(SMULTIXCAN_FILE) > 0\n",
    "), \"An S-MultiXcan result file path must be given\"\n",
    "SMULTIXCAN_FILE = Path(SMULTIXCAN_FILE).resolve()\n",
    "assert (\n",
    "    SMULTIXCAN_FILE.exists()\n",
    "), f\"S-MultiXcan result file does not exist: {str(SMULTIXCAN_FILE)}\"\n",
    "\n",
    "display(f\"S-MultiXcan file path: {str(SMULTIXCAN_FILE)}\")"
   ]
  },
  {
   "cell_type": "code",
   "execution_count": 11,
   "id": "0723dc2f-34d1-407c-a55b-d6d13c55d63d",
   "metadata": {
    "execution": {
     "iopub.execute_input": "2022-12-02T21:49:06.253949Z",
     "iopub.status.busy": "2022-12-02T21:49:06.253588Z",
     "iopub.status.idle": "2022-12-02T21:49:06.273705Z",
     "shell.execute_reply": "2022-12-02T21:49:06.272996Z"
    },
    "papermill": {
     "duration": 0.040322,
     "end_time": "2022-12-02T21:49:06.275140",
     "exception": false,
     "start_time": "2022-12-02T21:49:06.234818",
     "status": "completed"
    },
    "tags": []
   },
   "outputs": [
    {
     "data": {
      "text/plain": [
       "'eQTL model: MASHR'"
      ]
     },
     "metadata": {},
     "output_type": "display_data"
    }
   ],
   "source": [
    "assert (\n",
    "    EQTL_MODEL is not None and len(EQTL_MODEL) > 0\n",
    "), \"A prediction/eQTL model must be given\"\n",
    "\n",
    "display(f\"eQTL model: {EQTL_MODEL}\")"
   ]
  },
  {
   "cell_type": "code",
   "execution_count": 12,
   "id": "46b9ec52-9c96-4062-b57a-783dfeea33c4",
   "metadata": {
    "execution": {
     "iopub.execute_input": "2022-12-02T21:49:06.311334Z",
     "iopub.status.busy": "2022-12-02T21:49:06.310920Z",
     "iopub.status.idle": "2022-12-02T21:49:06.330212Z",
     "shell.execute_reply": "2022-12-02T21:49:06.329633Z"
    },
    "papermill": {
     "duration": 0.03865,
     "end_time": "2022-12-02T21:49:06.331545",
     "exception": false,
     "start_time": "2022-12-02T21:49:06.292895",
     "status": "completed"
    },
    "tags": []
   },
   "outputs": [
    {
     "data": {
      "text/plain": [
       "'Using output dir base: /opt/data/projects/asthma-copd/results/gls_phenoplier/gene_corrs/asthma_only'"
      ]
     },
     "metadata": {},
     "output_type": "display_data"
    }
   ],
   "source": [
    "assert (\n",
    "    OUTPUT_DIR_BASE is not None and len(OUTPUT_DIR_BASE) > 0\n",
    "), \"Output directory path must be given\"\n",
    "\n",
    "OUTPUT_DIR_BASE = (Path(OUTPUT_DIR_BASE) / \"gene_corrs\" / COHORT_NAME).resolve()\n",
    "\n",
    "OUTPUT_DIR_BASE.mkdir(parents=True, exist_ok=True)\n",
    "\n",
    "display(f\"Using output dir base: {OUTPUT_DIR_BASE}\")"
   ]
  },
  {
   "cell_type": "markdown",
   "id": "b6ebb422-8204-494b-8c72-360a71ce9863",
   "metadata": {
    "papermill": {
     "duration": 0.017492,
     "end_time": "2022-12-02T21:49:06.366510",
     "exception": false,
     "start_time": "2022-12-02T21:49:06.349018",
     "status": "completed"
    },
    "tags": []
   },
   "source": [
    "# Load MultiPLIER Z genes"
   ]
  },
  {
   "cell_type": "code",
   "execution_count": 13,
   "id": "c48ef527",
   "metadata": {
    "execution": {
     "iopub.execute_input": "2022-12-02T21:49:06.390707Z",
     "iopub.status.busy": "2022-12-02T21:49:06.390387Z",
     "iopub.status.idle": "2022-12-02T21:49:06.442332Z",
     "shell.execute_reply": "2022-12-02T21:49:06.441681Z"
    },
    "papermill": {
     "duration": 0.0627,
     "end_time": "2022-12-02T21:49:06.443303",
     "exception": false,
     "start_time": "2022-12-02T21:49:06.380603",
     "status": "completed"
    },
    "tags": []
   },
   "outputs": [],
   "source": [
    "multiplier_z_genes = pd.read_pickle(\n",
    "    conf.MULTIPLIER[\"MODEL_Z_MATRIX_FILE\"]\n",
    ").index.tolist()"
   ]
  },
  {
   "cell_type": "code",
   "execution_count": 14,
   "id": "0a4ecbd9",
   "metadata": {
    "execution": {
     "iopub.execute_input": "2022-12-02T21:49:06.462586Z",
     "iopub.status.busy": "2022-12-02T21:49:06.462367Z",
     "iopub.status.idle": "2022-12-02T21:49:06.481146Z",
     "shell.execute_reply": "2022-12-02T21:49:06.480529Z"
    },
    "papermill": {
     "duration": 0.02948,
     "end_time": "2022-12-02T21:49:06.482052",
     "exception": false,
     "start_time": "2022-12-02T21:49:06.452572",
     "status": "completed"
    },
    "tags": []
   },
   "outputs": [
    {
     "data": {
      "text/plain": [
       "6750"
      ]
     },
     "execution_count": 14,
     "metadata": {},
     "output_type": "execute_result"
    }
   ],
   "source": [
    "len(multiplier_z_genes)"
   ]
  },
  {
   "cell_type": "code",
   "execution_count": 15,
   "id": "a18ce359-0759-4260-ae6f-053e8c0041b7",
   "metadata": {
    "execution": {
     "iopub.execute_input": "2022-12-02T21:49:06.501863Z",
     "iopub.status.busy": "2022-12-02T21:49:06.501299Z",
     "iopub.status.idle": "2022-12-02T21:49:06.519392Z",
     "shell.execute_reply": "2022-12-02T21:49:06.518792Z"
    },
    "papermill": {
     "duration": 0.029117,
     "end_time": "2022-12-02T21:49:06.520415",
     "exception": false,
     "start_time": "2022-12-02T21:49:06.491298",
     "status": "completed"
    },
    "tags": []
   },
   "outputs": [],
   "source": [
    "assert len(multiplier_z_genes) == len(set(multiplier_z_genes))"
   ]
  },
  {
   "cell_type": "code",
   "execution_count": 16,
   "id": "115e8864",
   "metadata": {
    "execution": {
     "iopub.execute_input": "2022-12-02T21:49:06.540160Z",
     "iopub.status.busy": "2022-12-02T21:49:06.539748Z",
     "iopub.status.idle": "2022-12-02T21:49:06.557904Z",
     "shell.execute_reply": "2022-12-02T21:49:06.557177Z"
    },
    "papermill": {
     "duration": 0.029097,
     "end_time": "2022-12-02T21:49:06.558939",
     "exception": false,
     "start_time": "2022-12-02T21:49:06.529842",
     "status": "completed"
    },
    "tags": []
   },
   "outputs": [
    {
     "data": {
      "text/plain": [
       "['GAS6', 'MMP14', 'DSP', 'MARCKSL1', 'SPARC']"
      ]
     },
     "execution_count": 16,
     "metadata": {},
     "output_type": "execute_result"
    }
   ],
   "source": [
    "multiplier_z_genes[:5]"
   ]
  },
  {
   "cell_type": "markdown",
   "id": "7bed0ce0-e7c7-4300-9a61-5412450b1904",
   "metadata": {
    "papermill": {
     "duration": 0.009216,
     "end_time": "2022-12-02T21:49:06.577603",
     "exception": false,
     "start_time": "2022-12-02T21:49:06.568387",
     "status": "completed"
    },
    "tags": []
   },
   "source": [
    "# GWAS"
   ]
  },
  {
   "cell_type": "code",
   "execution_count": 17,
   "id": "331e5691-c014-43e4-b94c-060c64d329df",
   "metadata": {
    "execution": {
     "iopub.execute_input": "2022-12-02T21:49:06.597416Z",
     "iopub.status.busy": "2022-12-02T21:49:06.597008Z",
     "iopub.status.idle": "2022-12-02T21:49:06.621772Z",
     "shell.execute_reply": "2022-12-02T21:49:06.621036Z"
    },
    "papermill": {
     "duration": 0.035849,
     "end_time": "2022-12-02T21:49:06.622820",
     "exception": false,
     "start_time": "2022-12-02T21:49:06.586971",
     "status": "completed"
    },
    "tags": []
   },
   "outputs": [],
   "source": [
    "gwas_file_columns = pd.read_csv(GWAS_FILE, sep=\"\\t\", nrows=2).columns\n",
    "\n",
    "assert (\n",
    "    \"panel_variant_id\" in gwas_file_columns\n",
    "), \"The GWAS file must be the final imputed one using the TWAS imputation tools with column 'panel_variant_id'\"\n",
    "\n",
    "assert (\n",
    "    \"pvalue\" in gwas_file_columns\n",
    "), \"The GWAS file must be the final imputed one using the TWAS imputation tools with column 'pvalue'\"\n",
    "\n",
    "assert (\n",
    "    \"zscore\" in gwas_file_columns\n",
    "), \"The GWAS file must be the final imputed one using the TWAS imputation tools with column 'zscore'\""
   ]
  },
  {
   "cell_type": "code",
   "execution_count": 18,
   "id": "8d419629-8f4d-4c83-bed3-cfc071a58090",
   "metadata": {
    "execution": {
     "iopub.execute_input": "2022-12-02T21:49:06.642575Z",
     "iopub.status.busy": "2022-12-02T21:49:06.642368Z",
     "iopub.status.idle": "2022-12-02T21:49:16.272313Z",
     "shell.execute_reply": "2022-12-02T21:49:16.271779Z"
    },
    "papermill": {
     "duration": 9.641598,
     "end_time": "2022-12-02T21:49:16.274045",
     "exception": false,
     "start_time": "2022-12-02T21:49:06.632447",
     "status": "completed"
    },
    "tags": []
   },
   "outputs": [],
   "source": [
    "gwas_data = pd.read_csv(\n",
    "    GWAS_FILE,\n",
    "    sep=\"\\t\",\n",
    "    usecols=[\"panel_variant_id\", \"pvalue\", \"zscore\"],\n",
    ")"
   ]
  },
  {
   "cell_type": "code",
   "execution_count": 19,
   "id": "3f4e814e-6b41-407e-9099-86795eec6ed9",
   "metadata": {
    "execution": {
     "iopub.execute_input": "2022-12-02T21:49:16.311163Z",
     "iopub.status.busy": "2022-12-02T21:49:16.311034Z",
     "iopub.status.idle": "2022-12-02T21:49:16.322084Z",
     "shell.execute_reply": "2022-12-02T21:49:16.321648Z"
    },
    "papermill": {
     "duration": 0.031149,
     "end_time": "2022-12-02T21:49:16.323422",
     "exception": false,
     "start_time": "2022-12-02T21:49:16.292273",
     "status": "completed"
    },
    "tags": []
   },
   "outputs": [
    {
     "data": {
      "text/plain": [
       "(8580225, 3)"
      ]
     },
     "execution_count": 19,
     "metadata": {},
     "output_type": "execute_result"
    }
   ],
   "source": [
    "gwas_data.shape"
   ]
  },
  {
   "cell_type": "code",
   "execution_count": 20,
   "id": "b4a906e9-c80a-47fc-9d73-5adb046f8b76",
   "metadata": {
    "execution": {
     "iopub.execute_input": "2022-12-02T21:49:16.360470Z",
     "iopub.status.busy": "2022-12-02T21:49:16.360154Z",
     "iopub.status.idle": "2022-12-02T21:49:16.380965Z",
     "shell.execute_reply": "2022-12-02T21:49:16.380376Z"
    },
    "papermill": {
     "duration": 0.040887,
     "end_time": "2022-12-02T21:49:16.382423",
     "exception": false,
     "start_time": "2022-12-02T21:49:16.341536",
     "status": "completed"
    },
    "tags": []
   },
   "outputs": [
    {
     "data": {
      "text/html": [
       "<div>\n",
       "<style scoped>\n",
       "    .dataframe tbody tr th:only-of-type {\n",
       "        vertical-align: middle;\n",
       "    }\n",
       "\n",
       "    .dataframe tbody tr th {\n",
       "        vertical-align: top;\n",
       "    }\n",
       "\n",
       "    .dataframe thead th {\n",
       "        text-align: right;\n",
       "    }\n",
       "</style>\n",
       "<table border=\"1\" class=\"dataframe\">\n",
       "  <thead>\n",
       "    <tr style=\"text-align: right;\">\n",
       "      <th></th>\n",
       "      <th>panel_variant_id</th>\n",
       "      <th>zscore</th>\n",
       "      <th>pvalue</th>\n",
       "    </tr>\n",
       "  </thead>\n",
       "  <tbody>\n",
       "    <tr>\n",
       "      <th>0</th>\n",
       "      <td>chr1_54490_G_A_b38</td>\n",
       "      <td>0.609075</td>\n",
       "      <td>0.542475</td>\n",
       "    </tr>\n",
       "    <tr>\n",
       "      <th>1</th>\n",
       "      <td>chr1_87021_T_C_b38</td>\n",
       "      <td>-0.940829</td>\n",
       "      <td>0.346793</td>\n",
       "    </tr>\n",
       "    <tr>\n",
       "      <th>2</th>\n",
       "      <td>chr1_263722_C_G_b38</td>\n",
       "      <td>0.562776</td>\n",
       "      <td>0.573587</td>\n",
       "    </tr>\n",
       "    <tr>\n",
       "      <th>3</th>\n",
       "      <td>chr1_594402_C_T_b38</td>\n",
       "      <td>0.183769</td>\n",
       "      <td>0.854195</td>\n",
       "    </tr>\n",
       "    <tr>\n",
       "      <th>4</th>\n",
       "      <td>chr1_630555_C_T_b38</td>\n",
       "      <td>-0.205482</td>\n",
       "      <td>0.837195</td>\n",
       "    </tr>\n",
       "  </tbody>\n",
       "</table>\n",
       "</div>"
      ],
      "text/plain": [
       "      panel_variant_id    zscore    pvalue\n",
       "0   chr1_54490_G_A_b38  0.609075  0.542475\n",
       "1   chr1_87021_T_C_b38 -0.940829  0.346793\n",
       "2  chr1_263722_C_G_b38  0.562776  0.573587\n",
       "3  chr1_594402_C_T_b38  0.183769  0.854195\n",
       "4  chr1_630555_C_T_b38 -0.205482  0.837195"
      ]
     },
     "execution_count": 20,
     "metadata": {},
     "output_type": "execute_result"
    }
   ],
   "source": [
    "gwas_data.head()"
   ]
  },
  {
   "cell_type": "code",
   "execution_count": 21,
   "id": "033c24fb-9c60-4ffd-929e-b0e6089820ae",
   "metadata": {
    "execution": {
     "iopub.execute_input": "2022-12-02T21:49:16.420463Z",
     "iopub.status.busy": "2022-12-02T21:49:16.420147Z",
     "iopub.status.idle": "2022-12-02T21:49:17.373550Z",
     "shell.execute_reply": "2022-12-02T21:49:17.372958Z"
    },
    "papermill": {
     "duration": 0.973608,
     "end_time": "2022-12-02T21:49:17.374947",
     "exception": false,
     "start_time": "2022-12-02T21:49:16.401339",
     "status": "completed"
    },
    "tags": []
   },
   "outputs": [
    {
     "data": {
      "text/plain": [
       "(8578486, 3)"
      ]
     },
     "execution_count": 21,
     "metadata": {},
     "output_type": "execute_result"
    }
   ],
   "source": [
    "gwas_data.dropna().shape"
   ]
  },
  {
   "cell_type": "code",
   "execution_count": 22,
   "id": "28232ce5-0afd-464e-9be3-64c3a68c2b25",
   "metadata": {
    "execution": {
     "iopub.execute_input": "2022-12-02T21:49:17.415885Z",
     "iopub.status.busy": "2022-12-02T21:49:17.415574Z",
     "iopub.status.idle": "2022-12-02T21:49:18.254752Z",
     "shell.execute_reply": "2022-12-02T21:49:18.254213Z"
    },
    "papermill": {
     "duration": 0.861196,
     "end_time": "2022-12-02T21:49:18.256491",
     "exception": false,
     "start_time": "2022-12-02T21:49:17.395295",
     "status": "completed"
    },
    "tags": []
   },
   "outputs": [],
   "source": [
    "# remove SNPs with no results\n",
    "gwas_data = gwas_data.dropna()"
   ]
  },
  {
   "cell_type": "code",
   "execution_count": 23,
   "id": "d9a6c31f-eedd-43e5-b762-5a9663be1b77",
   "metadata": {
    "execution": {
     "iopub.execute_input": "2022-12-02T21:49:18.296910Z",
     "iopub.status.busy": "2022-12-02T21:49:18.296658Z",
     "iopub.status.idle": "2022-12-02T21:49:18.309085Z",
     "shell.execute_reply": "2022-12-02T21:49:18.308626Z"
    },
    "papermill": {
     "duration": 0.033725,
     "end_time": "2022-12-02T21:49:18.310423",
     "exception": false,
     "start_time": "2022-12-02T21:49:18.276698",
     "status": "completed"
    },
    "tags": []
   },
   "outputs": [
    {
     "data": {
      "text/plain": [
       "(8578486, 3)"
      ]
     },
     "execution_count": 23,
     "metadata": {},
     "output_type": "execute_result"
    }
   ],
   "source": [
    "gwas_data.shape"
   ]
  },
  {
   "cell_type": "markdown",
   "id": "8da344de-2aa5-48a9-98ec-e8c3397ae7e6",
   "metadata": {
    "papermill": {
     "duration": 0.019891,
     "end_time": "2022-12-02T21:49:18.350348",
     "exception": false,
     "start_time": "2022-12-02T21:49:18.330457",
     "status": "completed"
    },
    "tags": []
   },
   "source": [
    "## Save GWAS variants"
   ]
  },
  {
   "cell_type": "code",
   "execution_count": 24,
   "id": "ac11fb33-ea3c-4d5c-a90b-0ceebdac43d3",
   "metadata": {
    "execution": {
     "iopub.execute_input": "2022-12-02T21:49:18.376067Z",
     "iopub.status.busy": "2022-12-02T21:49:18.375910Z",
     "iopub.status.idle": "2022-12-02T21:49:18.394708Z",
     "shell.execute_reply": "2022-12-02T21:49:18.394129Z"
    },
    "papermill": {
     "duration": 0.030059,
     "end_time": "2022-12-02T21:49:18.395666",
     "exception": false,
     "start_time": "2022-12-02T21:49:18.365607",
     "status": "completed"
    },
    "tags": []
   },
   "outputs": [
    {
     "data": {
      "text/html": [
       "<div>\n",
       "<style scoped>\n",
       "    .dataframe tbody tr th:only-of-type {\n",
       "        vertical-align: middle;\n",
       "    }\n",
       "\n",
       "    .dataframe tbody tr th {\n",
       "        vertical-align: top;\n",
       "    }\n",
       "\n",
       "    .dataframe thead th {\n",
       "        text-align: right;\n",
       "    }\n",
       "</style>\n",
       "<table border=\"1\" class=\"dataframe\">\n",
       "  <thead>\n",
       "    <tr style=\"text-align: right;\">\n",
       "      <th></th>\n",
       "      <th>panel_variant_id</th>\n",
       "      <th>zscore</th>\n",
       "      <th>pvalue</th>\n",
       "    </tr>\n",
       "  </thead>\n",
       "  <tbody>\n",
       "    <tr>\n",
       "      <th>0</th>\n",
       "      <td>chr1_54490_G_A_b38</td>\n",
       "      <td>0.609075</td>\n",
       "      <td>0.542475</td>\n",
       "    </tr>\n",
       "    <tr>\n",
       "      <th>1</th>\n",
       "      <td>chr1_87021_T_C_b38</td>\n",
       "      <td>-0.940829</td>\n",
       "      <td>0.346793</td>\n",
       "    </tr>\n",
       "    <tr>\n",
       "      <th>2</th>\n",
       "      <td>chr1_263722_C_G_b38</td>\n",
       "      <td>0.562776</td>\n",
       "      <td>0.573587</td>\n",
       "    </tr>\n",
       "    <tr>\n",
       "      <th>3</th>\n",
       "      <td>chr1_594402_C_T_b38</td>\n",
       "      <td>0.183769</td>\n",
       "      <td>0.854195</td>\n",
       "    </tr>\n",
       "    <tr>\n",
       "      <th>4</th>\n",
       "      <td>chr1_630555_C_T_b38</td>\n",
       "      <td>-0.205482</td>\n",
       "      <td>0.837195</td>\n",
       "    </tr>\n",
       "  </tbody>\n",
       "</table>\n",
       "</div>"
      ],
      "text/plain": [
       "      panel_variant_id    zscore    pvalue\n",
       "0   chr1_54490_G_A_b38  0.609075  0.542475\n",
       "1   chr1_87021_T_C_b38 -0.940829  0.346793\n",
       "2  chr1_263722_C_G_b38  0.562776  0.573587\n",
       "3  chr1_594402_C_T_b38  0.183769  0.854195\n",
       "4  chr1_630555_C_T_b38 -0.205482  0.837195"
      ]
     },
     "execution_count": 24,
     "metadata": {},
     "output_type": "execute_result"
    }
   ],
   "source": [
    "gwas_data.head()"
   ]
  },
  {
   "cell_type": "code",
   "execution_count": 25,
   "id": "5f34bb3d-761a-4860-a179-77ea5f5784ad",
   "metadata": {
    "execution": {
     "iopub.execute_input": "2022-12-02T21:49:18.417048Z",
     "iopub.status.busy": "2022-12-02T21:49:18.416677Z",
     "iopub.status.idle": "2022-12-02T21:49:22.282873Z",
     "shell.execute_reply": "2022-12-02T21:49:22.282312Z"
    },
    "papermill": {
     "duration": 3.878537,
     "end_time": "2022-12-02T21:49:22.284329",
     "exception": false,
     "start_time": "2022-12-02T21:49:18.405792",
     "status": "completed"
    },
    "tags": []
   },
   "outputs": [
    {
     "data": {
      "text/plain": [
       "True"
      ]
     },
     "execution_count": 25,
     "metadata": {},
     "output_type": "execute_result"
    }
   ],
   "source": [
    "# in eMERGE's results, some values here are repeated (will be removed later by taking the unique set of variant IDs).\n",
    "gwas_data[\"panel_variant_id\"].is_unique"
   ]
  },
  {
   "cell_type": "code",
   "execution_count": 26,
   "id": "d4f23b2f-01a3-4a45-a2b6-31b245b5778e",
   "metadata": {
    "execution": {
     "iopub.execute_input": "2022-12-02T21:49:22.327363Z",
     "iopub.status.busy": "2022-12-02T21:49:22.326909Z",
     "iopub.status.idle": "2022-12-02T21:49:24.337194Z",
     "shell.execute_reply": "2022-12-02T21:49:24.336642Z"
    },
    "papermill": {
     "duration": 2.033137,
     "end_time": "2022-12-02T21:49:24.338628",
     "exception": false,
     "start_time": "2022-12-02T21:49:22.305491",
     "status": "completed"
    },
    "tags": []
   },
   "outputs": [
    {
     "data": {
      "text/plain": [
       "['chr2_4052503_G_A_b38',\n",
       " 'chr14_49009012_G_A_b38',\n",
       " 'chr6_45585720_AG_A_b38',\n",
       " 'chr11_102834927_C_G_b38',\n",
       " 'chr2_2790519_G_A_b38']"
      ]
     },
     "execution_count": 26,
     "metadata": {},
     "output_type": "execute_result"
    }
   ],
   "source": [
    "gwas_variants_ids_set = frozenset(gwas_data[\"panel_variant_id\"])\n",
    "list(gwas_variants_ids_set)[:5]"
   ]
  },
  {
   "cell_type": "code",
   "execution_count": 27,
   "id": "b4a441df-07d7-48dc-be36-cdb3f92be651",
   "metadata": {
    "execution": {
     "iopub.execute_input": "2022-12-02T21:49:24.379414Z",
     "iopub.status.busy": "2022-12-02T21:49:24.379297Z",
     "iopub.status.idle": "2022-12-02T21:49:41.289895Z",
     "shell.execute_reply": "2022-12-02T21:49:41.289350Z"
    },
    "papermill": {
     "duration": 16.934341,
     "end_time": "2022-12-02T21:49:41.293168",
     "exception": false,
     "start_time": "2022-12-02T21:49:24.358827",
     "status": "completed"
    },
    "tags": []
   },
   "outputs": [],
   "source": [
    "with open(OUTPUT_DIR_BASE / \"gwas_variant_ids.pkl\", \"wb\") as handle:\n",
    "    pickle.dump(gwas_variants_ids_set, handle, protocol=pickle.HIGHEST_PROTOCOL)"
   ]
  },
  {
   "cell_type": "markdown",
   "id": "abcc4b3d",
   "metadata": {
    "papermill": {
     "duration": 0.010666,
     "end_time": "2022-12-02T21:49:41.315299",
     "exception": false,
     "start_time": "2022-12-02T21:49:41.304633",
     "status": "completed"
    },
    "tags": []
   },
   "source": [
    "# TWAS"
   ]
  },
  {
   "cell_type": "markdown",
   "id": "2fbc7358-0563-4fc6-bc47-a0fbcc5cdfd4",
   "metadata": {
    "papermill": {
     "duration": 0.010471,
     "end_time": "2022-12-02T21:49:41.337234",
     "exception": false,
     "start_time": "2022-12-02T21:49:41.326763",
     "status": "completed"
    },
    "tags": []
   },
   "source": [
    "## Available tissues for eQTL model"
   ]
  },
  {
   "cell_type": "code",
   "execution_count": 28,
   "id": "f32c0a84-030a-436b-b597-852b6150d2ac",
   "metadata": {
    "execution": {
     "iopub.execute_input": "2022-12-02T21:49:41.362147Z",
     "iopub.status.busy": "2022-12-02T21:49:41.361872Z",
     "iopub.status.idle": "2022-12-02T21:49:41.372436Z",
     "shell.execute_reply": "2022-12-02T21:49:41.372054Z"
    },
    "papermill": {
     "duration": 0.025487,
     "end_time": "2022-12-02T21:49:41.374092",
     "exception": false,
     "start_time": "2022-12-02T21:49:41.348605",
     "status": "completed"
    },
    "tags": []
   },
   "outputs": [],
   "source": [
    "prediction_model_tissues = conf.PHENOMEXCAN[\"PREDICTION_MODELS\"][\n",
    "    f\"{EQTL_MODEL}_TISSUES\"\n",
    "].split(\" \")"
   ]
  },
  {
   "cell_type": "code",
   "execution_count": 29,
   "id": "0e760d0e-f23d-4590-abfb-811a43f7c237",
   "metadata": {
    "execution": {
     "iopub.execute_input": "2022-12-02T21:49:41.414118Z",
     "iopub.status.busy": "2022-12-02T21:49:41.413659Z",
     "iopub.status.idle": "2022-12-02T21:49:41.429852Z",
     "shell.execute_reply": "2022-12-02T21:49:41.429362Z"
    },
    "papermill": {
     "duration": 0.035344,
     "end_time": "2022-12-02T21:49:41.430745",
     "exception": false,
     "start_time": "2022-12-02T21:49:41.395401",
     "status": "completed"
    },
    "tags": []
   },
   "outputs": [
    {
     "data": {
      "text/plain": [
       "49"
      ]
     },
     "execution_count": 29,
     "metadata": {},
     "output_type": "execute_result"
    }
   ],
   "source": [
    "len(prediction_model_tissues)"
   ]
  },
  {
   "cell_type": "code",
   "execution_count": 30,
   "id": "fa4d942c-cd67-4b31-9491-585c887c0ee3",
   "metadata": {
    "execution": {
     "iopub.execute_input": "2022-12-02T21:49:41.453690Z",
     "iopub.status.busy": "2022-12-02T21:49:41.453215Z",
     "iopub.status.idle": "2022-12-02T21:49:41.469507Z",
     "shell.execute_reply": "2022-12-02T21:49:41.469013Z"
    },
    "papermill": {
     "duration": 0.02885,
     "end_time": "2022-12-02T21:49:41.470380",
     "exception": false,
     "start_time": "2022-12-02T21:49:41.441530",
     "status": "completed"
    },
    "tags": []
   },
   "outputs": [
    {
     "data": {
      "text/plain": [
       "['Thyroid',\n",
       " 'Artery_Aorta',\n",
       " 'Heart_Atrial_Appendage',\n",
       " 'Liver',\n",
       " 'Heart_Left_Ventricle']"
      ]
     },
     "execution_count": 30,
     "metadata": {},
     "output_type": "execute_result"
    }
   ],
   "source": [
    "prediction_model_tissues[:5]"
   ]
  },
  {
   "cell_type": "markdown",
   "id": "fab4814d-757c-4247-b5e4-891bc4863db7",
   "metadata": {
    "papermill": {
     "duration": 0.010975,
     "end_time": "2022-12-02T21:49:41.491908",
     "exception": false,
     "start_time": "2022-12-02T21:49:41.480933",
     "status": "completed"
    },
    "tags": []
   },
   "source": [
    "## S-MultiXcan results"
   ]
  },
  {
   "cell_type": "code",
   "execution_count": 31,
   "id": "2b73c11e-9aa2-410e-84b4-a70be34d02e4",
   "metadata": {
    "execution": {
     "iopub.execute_input": "2022-12-02T21:49:41.513620Z",
     "iopub.status.busy": "2022-12-02T21:49:41.513015Z",
     "iopub.status.idle": "2022-12-02T21:49:41.578112Z",
     "shell.execute_reply": "2022-12-02T21:49:41.577545Z"
    },
    "papermill": {
     "duration": 0.077705,
     "end_time": "2022-12-02T21:49:41.579789",
     "exception": false,
     "start_time": "2022-12-02T21:49:41.502084",
     "status": "completed"
    },
    "tags": []
   },
   "outputs": [],
   "source": [
    "smultixcan_results = pd.read_csv(\n",
    "    SMULTIXCAN_FILE, sep=\"\\t\", usecols=[\"gene\", \"gene_name\", \"pvalue\", \"n\", \"n_indep\"]\n",
    ")"
   ]
  },
  {
   "cell_type": "code",
   "execution_count": 32,
   "id": "8b5abebd-baab-4188-9e3d-655ebbe32401",
   "metadata": {
    "execution": {
     "iopub.execute_input": "2022-12-02T21:49:41.604041Z",
     "iopub.status.busy": "2022-12-02T21:49:41.603589Z",
     "iopub.status.idle": "2022-12-02T21:49:41.621231Z",
     "shell.execute_reply": "2022-12-02T21:49:41.620736Z"
    },
    "papermill": {
     "duration": 0.029313,
     "end_time": "2022-12-02T21:49:41.622069",
     "exception": false,
     "start_time": "2022-12-02T21:49:41.592756",
     "status": "completed"
    },
    "tags": []
   },
   "outputs": [
    {
     "data": {
      "text/plain": [
       "(22314, 5)"
      ]
     },
     "execution_count": 32,
     "metadata": {},
     "output_type": "execute_result"
    }
   ],
   "source": [
    "smultixcan_results.shape"
   ]
  },
  {
   "cell_type": "code",
   "execution_count": 33,
   "id": "c65e233f-9ef6-4883-9386-7abf1d6d1cbd",
   "metadata": {
    "execution": {
     "iopub.execute_input": "2022-12-02T21:49:41.643865Z",
     "iopub.status.busy": "2022-12-02T21:49:41.643422Z",
     "iopub.status.idle": "2022-12-02T21:49:41.666833Z",
     "shell.execute_reply": "2022-12-02T21:49:41.666300Z"
    },
    "papermill": {
     "duration": 0.035225,
     "end_time": "2022-12-02T21:49:41.667772",
     "exception": false,
     "start_time": "2022-12-02T21:49:41.632547",
     "status": "completed"
    },
    "tags": []
   },
   "outputs": [],
   "source": [
    "smultixcan_results = smultixcan_results.dropna()"
   ]
  },
  {
   "cell_type": "code",
   "execution_count": 34,
   "id": "57d2d311-4a42-4725-9e37-b124ed13ad33",
   "metadata": {
    "execution": {
     "iopub.execute_input": "2022-12-02T21:49:41.689492Z",
     "iopub.status.busy": "2022-12-02T21:49:41.689289Z",
     "iopub.status.idle": "2022-12-02T21:49:41.705824Z",
     "shell.execute_reply": "2022-12-02T21:49:41.705339Z"
    },
    "papermill": {
     "duration": 0.028565,
     "end_time": "2022-12-02T21:49:41.706692",
     "exception": false,
     "start_time": "2022-12-02T21:49:41.678127",
     "status": "completed"
    },
    "tags": []
   },
   "outputs": [
    {
     "data": {
      "text/plain": [
       "(22311, 5)"
      ]
     },
     "execution_count": 34,
     "metadata": {},
     "output_type": "execute_result"
    }
   ],
   "source": [
    "smultixcan_results.shape"
   ]
  },
  {
   "cell_type": "code",
   "execution_count": 35,
   "id": "a36b5b59-f4b6-45bf-b241-ffc9671b357f",
   "metadata": {
    "execution": {
     "iopub.execute_input": "2022-12-02T21:49:41.729115Z",
     "iopub.status.busy": "2022-12-02T21:49:41.728913Z",
     "iopub.status.idle": "2022-12-02T21:49:41.753788Z",
     "shell.execute_reply": "2022-12-02T21:49:41.753247Z"
    },
    "papermill": {
     "duration": 0.037064,
     "end_time": "2022-12-02T21:49:41.754687",
     "exception": false,
     "start_time": "2022-12-02T21:49:41.717623",
     "status": "completed"
    },
    "tags": []
   },
   "outputs": [],
   "source": [
    "smultixcan_results = smultixcan_results.assign(\n",
    "    gene_id=smultixcan_results[\"gene\"].apply(lambda g: g.split(\".\")[0])\n",
    ")"
   ]
  },
  {
   "cell_type": "code",
   "execution_count": 36,
   "id": "c49f62a9-a01a-44af-87da-47d195b0ef7e",
   "metadata": {
    "execution": {
     "iopub.execute_input": "2022-12-02T21:49:41.777133Z",
     "iopub.status.busy": "2022-12-02T21:49:41.776598Z",
     "iopub.status.idle": "2022-12-02T21:49:41.799838Z",
     "shell.execute_reply": "2022-12-02T21:49:41.799339Z"
    },
    "papermill": {
     "duration": 0.035408,
     "end_time": "2022-12-02T21:49:41.800706",
     "exception": false,
     "start_time": "2022-12-02T21:49:41.765298",
     "status": "completed"
    },
    "tags": []
   },
   "outputs": [
    {
     "data": {
      "text/html": [
       "<div>\n",
       "<style scoped>\n",
       "    .dataframe tbody tr th:only-of-type {\n",
       "        vertical-align: middle;\n",
       "    }\n",
       "\n",
       "    .dataframe tbody tr th {\n",
       "        vertical-align: top;\n",
       "    }\n",
       "\n",
       "    .dataframe thead th {\n",
       "        text-align: right;\n",
       "    }\n",
       "</style>\n",
       "<table border=\"1\" class=\"dataframe\">\n",
       "  <thead>\n",
       "    <tr style=\"text-align: right;\">\n",
       "      <th></th>\n",
       "      <th>gene</th>\n",
       "      <th>gene_name</th>\n",
       "      <th>pvalue</th>\n",
       "      <th>n</th>\n",
       "      <th>n_indep</th>\n",
       "      <th>gene_id</th>\n",
       "    </tr>\n",
       "  </thead>\n",
       "  <tbody>\n",
       "    <tr>\n",
       "      <th>0</th>\n",
       "      <td>ENSG00000196735.11</td>\n",
       "      <td>HLA-DQA1</td>\n",
       "      <td>7.348761e-41</td>\n",
       "      <td>44.0</td>\n",
       "      <td>6.0</td>\n",
       "      <td>ENSG00000196735</td>\n",
       "    </tr>\n",
       "    <tr>\n",
       "      <th>1</th>\n",
       "      <td>ENSG00000204290.10</td>\n",
       "      <td>BTNL2</td>\n",
       "      <td>1.946528e-35</td>\n",
       "      <td>21.0</td>\n",
       "      <td>10.0</td>\n",
       "      <td>ENSG00000204290</td>\n",
       "    </tr>\n",
       "    <tr>\n",
       "      <th>2</th>\n",
       "      <td>ENSG00000204287.13</td>\n",
       "      <td>HLA-DRA</td>\n",
       "      <td>1.368742e-34</td>\n",
       "      <td>31.0</td>\n",
       "      <td>6.0</td>\n",
       "      <td>ENSG00000204287</td>\n",
       "    </tr>\n",
       "    <tr>\n",
       "      <th>3</th>\n",
       "      <td>ENSG00000237541.3</td>\n",
       "      <td>HLA-DQA2</td>\n",
       "      <td>1.435612e-33</td>\n",
       "      <td>45.0</td>\n",
       "      <td>5.0</td>\n",
       "      <td>ENSG00000237541</td>\n",
       "    </tr>\n",
       "    <tr>\n",
       "      <th>4</th>\n",
       "      <td>ENSG00000179344.16</td>\n",
       "      <td>HLA-DQB1</td>\n",
       "      <td>5.862907e-33</td>\n",
       "      <td>49.0</td>\n",
       "      <td>3.0</td>\n",
       "      <td>ENSG00000179344</td>\n",
       "    </tr>\n",
       "  </tbody>\n",
       "</table>\n",
       "</div>"
      ],
      "text/plain": [
       "                 gene gene_name        pvalue     n  n_indep          gene_id\n",
       "0  ENSG00000196735.11  HLA-DQA1  7.348761e-41  44.0      6.0  ENSG00000196735\n",
       "1  ENSG00000204290.10     BTNL2  1.946528e-35  21.0     10.0  ENSG00000204290\n",
       "2  ENSG00000204287.13   HLA-DRA  1.368742e-34  31.0      6.0  ENSG00000204287\n",
       "3   ENSG00000237541.3  HLA-DQA2  1.435612e-33  45.0      5.0  ENSG00000237541\n",
       "4  ENSG00000179344.16  HLA-DQB1  5.862907e-33  49.0      3.0  ENSG00000179344"
      ]
     },
     "execution_count": 36,
     "metadata": {},
     "output_type": "execute_result"
    }
   ],
   "source": [
    "smultixcan_results.head()"
   ]
  },
  {
   "cell_type": "code",
   "execution_count": 37,
   "id": "9c4c023c-86d6-4c4b-8d57-c2b6b93aaf84",
   "metadata": {
    "execution": {
     "iopub.execute_input": "2022-12-02T21:49:41.823016Z",
     "iopub.status.busy": "2022-12-02T21:49:41.822514Z",
     "iopub.status.idle": "2022-12-02T21:49:41.842225Z",
     "shell.execute_reply": "2022-12-02T21:49:41.841711Z"
    },
    "papermill": {
     "duration": 0.031939,
     "end_time": "2022-12-02T21:49:41.843308",
     "exception": false,
     "start_time": "2022-12-02T21:49:41.811369",
     "status": "completed"
    },
    "tags": []
   },
   "outputs": [],
   "source": [
    "assert smultixcan_results[\"gene_id\"].is_unique"
   ]
  },
  {
   "cell_type": "markdown",
   "id": "1f9939f1-4200-40d9-a8bf-8e4fd68bee48",
   "metadata": {
    "papermill": {
     "duration": 0.011453,
     "end_time": "2022-12-02T21:49:41.865770",
     "exception": false,
     "start_time": "2022-12-02T21:49:41.854317",
     "status": "completed"
    },
    "tags": []
   },
   "source": [
    "### Get common genes with MultiPLIER"
   ]
  },
  {
   "cell_type": "code",
   "execution_count": 38,
   "id": "c820e6cf-6350-45af-b49a-0abd94f570ff",
   "metadata": {
    "execution": {
     "iopub.execute_input": "2022-12-02T21:49:41.889283Z",
     "iopub.status.busy": "2022-12-02T21:49:41.889079Z",
     "iopub.status.idle": "2022-12-02T21:49:41.909679Z",
     "shell.execute_reply": "2022-12-02T21:49:41.909145Z"
    },
    "papermill": {
     "duration": 0.033855,
     "end_time": "2022-12-02T21:49:41.910856",
     "exception": false,
     "start_time": "2022-12-02T21:49:41.877001",
     "status": "completed"
    },
    "tags": []
   },
   "outputs": [],
   "source": [
    "common_genes = set(multiplier_z_genes).intersection(\n",
    "    set(smultixcan_results[\"gene_name\"])\n",
    ")"
   ]
  },
  {
   "cell_type": "code",
   "execution_count": 39,
   "id": "0a7328f9-96c7-4ac6-a9a6-ae4fa121a4cd",
   "metadata": {
    "execution": {
     "iopub.execute_input": "2022-12-02T21:49:41.935075Z",
     "iopub.status.busy": "2022-12-02T21:49:41.934466Z",
     "iopub.status.idle": "2022-12-02T21:49:41.951877Z",
     "shell.execute_reply": "2022-12-02T21:49:41.951393Z"
    },
    "papermill": {
     "duration": 0.030587,
     "end_time": "2022-12-02T21:49:41.952742",
     "exception": false,
     "start_time": "2022-12-02T21:49:41.922155",
     "status": "completed"
    },
    "tags": []
   },
   "outputs": [
    {
     "data": {
      "text/plain": [
       "6445"
      ]
     },
     "execution_count": 39,
     "metadata": {},
     "output_type": "execute_result"
    }
   ],
   "source": [
    "len(common_genes)"
   ]
  },
  {
   "cell_type": "code",
   "execution_count": 40,
   "id": "5b08d362-44c8-4db2-9258-670e2e2a9cc0",
   "metadata": {
    "execution": {
     "iopub.execute_input": "2022-12-02T21:49:41.976990Z",
     "iopub.status.busy": "2022-12-02T21:49:41.976472Z",
     "iopub.status.idle": "2022-12-02T21:49:41.994668Z",
     "shell.execute_reply": "2022-12-02T21:49:41.994188Z"
    },
    "papermill": {
     "duration": 0.03142,
     "end_time": "2022-12-02T21:49:41.995513",
     "exception": false,
     "start_time": "2022-12-02T21:49:41.964093",
     "status": "completed"
    },
    "tags": []
   },
   "outputs": [
    {
     "data": {
      "text/plain": [
       "['A2M', 'AAAS', 'AANAT', 'AARS', 'AARS2']"
      ]
     },
     "execution_count": 40,
     "metadata": {},
     "output_type": "execute_result"
    }
   ],
   "source": [
    "sorted(list(common_genes))[:5]"
   ]
  },
  {
   "cell_type": "markdown",
   "id": "7f51338b-8a75-42c3-a7e5-a0961cefb663",
   "metadata": {
    "papermill": {
     "duration": 0.011753,
     "end_time": "2022-12-02T21:49:42.018591",
     "exception": false,
     "start_time": "2022-12-02T21:49:42.006838",
     "status": "completed"
    },
    "tags": []
   },
   "source": [
    "## Genes info"
   ]
  },
  {
   "cell_type": "code",
   "execution_count": 41,
   "id": "bb932812",
   "metadata": {
    "execution": {
     "iopub.execute_input": "2022-12-02T21:49:42.043063Z",
     "iopub.status.busy": "2022-12-02T21:49:42.042529Z",
     "iopub.status.idle": "2022-12-02T21:49:42.654995Z",
     "shell.execute_reply": "2022-12-02T21:49:42.654566Z"
    },
    "papermill": {
     "duration": 0.626515,
     "end_time": "2022-12-02T21:49:42.656513",
     "exception": false,
     "start_time": "2022-12-02T21:49:42.029998",
     "status": "completed"
    },
    "tags": []
   },
   "outputs": [],
   "source": [
    "multiplier_gene_obj = {\n",
    "    gene_name: Gene(name=gene_name)\n",
    "    for gene_name in common_genes\n",
    "    if gene_name in Gene.GENE_NAME_TO_ID_MAP\n",
    "}"
   ]
  },
  {
   "cell_type": "code",
   "execution_count": 42,
   "id": "cb9d7a45-2b7d-4d10-80dc-212a625b5ae7",
   "metadata": {
    "execution": {
     "iopub.execute_input": "2022-12-02T21:49:42.679425Z",
     "iopub.status.busy": "2022-12-02T21:49:42.679316Z",
     "iopub.status.idle": "2022-12-02T21:49:42.689871Z",
     "shell.execute_reply": "2022-12-02T21:49:42.689507Z"
    },
    "papermill": {
     "duration": 0.022662,
     "end_time": "2022-12-02T21:49:42.690580",
     "exception": false,
     "start_time": "2022-12-02T21:49:42.667918",
     "status": "completed"
    },
    "tags": []
   },
   "outputs": [],
   "source": [
    "# delete common_genes, from now on, genes_info should be used for common genes\n",
    "del common_genes"
   ]
  },
  {
   "cell_type": "code",
   "execution_count": 43,
   "id": "39533214",
   "metadata": {
    "execution": {
     "iopub.execute_input": "2022-12-02T21:49:42.712585Z",
     "iopub.status.busy": "2022-12-02T21:49:42.712462Z",
     "iopub.status.idle": "2022-12-02T21:49:42.722084Z",
     "shell.execute_reply": "2022-12-02T21:49:42.721725Z"
    },
    "papermill": {
     "duration": 0.021493,
     "end_time": "2022-12-02T21:49:42.722788",
     "exception": false,
     "start_time": "2022-12-02T21:49:42.701295",
     "status": "completed"
    },
    "tags": []
   },
   "outputs": [
    {
     "data": {
      "text/plain": [
       "6445"
      ]
     },
     "execution_count": 43,
     "metadata": {},
     "output_type": "execute_result"
    }
   ],
   "source": [
    "len(multiplier_gene_obj)"
   ]
  },
  {
   "cell_type": "code",
   "execution_count": 44,
   "id": "9a5d0b84",
   "metadata": {
    "execution": {
     "iopub.execute_input": "2022-12-02T21:49:42.764490Z",
     "iopub.status.busy": "2022-12-02T21:49:42.764383Z",
     "iopub.status.idle": "2022-12-02T21:49:42.776199Z",
     "shell.execute_reply": "2022-12-02T21:49:42.775741Z"
    },
    "papermill": {
     "duration": 0.03485,
     "end_time": "2022-12-02T21:49:42.777502",
     "exception": false,
     "start_time": "2022-12-02T21:49:42.742652",
     "status": "completed"
    },
    "tags": []
   },
   "outputs": [],
   "source": [
    "assert multiplier_gene_obj[\"GAS6\"].ensembl_id == \"ENSG00000183087\""
   ]
  },
  {
   "cell_type": "code",
   "execution_count": 45,
   "id": "e3ffabc7",
   "metadata": {
    "execution": {
     "iopub.execute_input": "2022-12-02T21:49:42.816146Z",
     "iopub.status.busy": "2022-12-02T21:49:42.815989Z",
     "iopub.status.idle": "2022-12-02T21:49:44.583377Z",
     "shell.execute_reply": "2022-12-02T21:49:44.582881Z"
    },
    "papermill": {
     "duration": 1.787236,
     "end_time": "2022-12-02T21:49:44.585019",
     "exception": false,
     "start_time": "2022-12-02T21:49:42.797783",
     "status": "completed"
    },
    "tags": []
   },
   "outputs": [],
   "source": [
    "_gene_obj = list(multiplier_gene_obj.values())\n",
    "\n",
    "genes_info = pd.DataFrame(\n",
    "    {\n",
    "        \"name\": [g.name for g in _gene_obj],\n",
    "        \"id\": [g.ensembl_id for g in _gene_obj],\n",
    "        \"chr\": [g.chromosome for g in _gene_obj],\n",
    "        \"band\": [g.band for g in _gene_obj],\n",
    "        \"start_position\": [g.get_attribute(\"start_position\") for g in _gene_obj],\n",
    "        \"end_position\": [g.get_attribute(\"end_position\") for g in _gene_obj],\n",
    "    }\n",
    ")"
   ]
  },
  {
   "cell_type": "code",
   "execution_count": 46,
   "id": "00475e72-1cfc-485f-8b4e-1d9cce695f58",
   "metadata": {
    "execution": {
     "iopub.execute_input": "2022-12-02T21:49:44.627827Z",
     "iopub.status.busy": "2022-12-02T21:49:44.627710Z",
     "iopub.status.idle": "2022-12-02T21:49:44.669731Z",
     "shell.execute_reply": "2022-12-02T21:49:44.669262Z"
    },
    "papermill": {
     "duration": 0.065074,
     "end_time": "2022-12-02T21:49:44.671033",
     "exception": false,
     "start_time": "2022-12-02T21:49:44.605959",
     "status": "completed"
    },
    "tags": []
   },
   "outputs": [],
   "source": [
    "genes_info = genes_info.assign(\n",
    "    gene_length=genes_info.apply(\n",
    "        lambda x: x[\"end_position\"] - x[\"start_position\"], axis=1\n",
    "    )\n",
    ")"
   ]
  },
  {
   "cell_type": "code",
   "execution_count": 47,
   "id": "3af1a166-08a0-4333-bc09-b8bc762aa7ef",
   "metadata": {
    "execution": {
     "iopub.execute_input": "2022-12-02T21:49:44.712667Z",
     "iopub.status.busy": "2022-12-02T21:49:44.712539Z",
     "iopub.status.idle": "2022-12-02T21:49:44.723665Z",
     "shell.execute_reply": "2022-12-02T21:49:44.723237Z"
    },
    "papermill": {
     "duration": 0.03343,
     "end_time": "2022-12-02T21:49:44.724990",
     "exception": false,
     "start_time": "2022-12-02T21:49:44.691560",
     "status": "completed"
    },
    "tags": []
   },
   "outputs": [
    {
     "data": {
      "text/plain": [
       "name               object\n",
       "id                 object\n",
       "chr                object\n",
       "band               object\n",
       "start_position    float64\n",
       "end_position      float64\n",
       "gene_length       float64\n",
       "dtype: object"
      ]
     },
     "execution_count": 47,
     "metadata": {},
     "output_type": "execute_result"
    }
   ],
   "source": [
    "genes_info.dtypes"
   ]
  },
  {
   "cell_type": "code",
   "execution_count": 48,
   "id": "08a23f6f-87f6-4072-88c8-010b90a411cd",
   "metadata": {
    "execution": {
     "iopub.execute_input": "2022-12-02T21:49:44.766476Z",
     "iopub.status.busy": "2022-12-02T21:49:44.766273Z",
     "iopub.status.idle": "2022-12-02T21:49:44.792951Z",
     "shell.execute_reply": "2022-12-02T21:49:44.792433Z"
    },
    "papermill": {
     "duration": 0.047916,
     "end_time": "2022-12-02T21:49:44.793792",
     "exception": false,
     "start_time": "2022-12-02T21:49:44.745876",
     "status": "completed"
    },
    "tags": []
   },
   "outputs": [
    {
     "data": {
      "text/html": [
       "<div>\n",
       "<style scoped>\n",
       "    .dataframe tbody tr th:only-of-type {\n",
       "        vertical-align: middle;\n",
       "    }\n",
       "\n",
       "    .dataframe tbody tr th {\n",
       "        vertical-align: top;\n",
       "    }\n",
       "\n",
       "    .dataframe thead th {\n",
       "        text-align: right;\n",
       "    }\n",
       "</style>\n",
       "<table border=\"1\" class=\"dataframe\">\n",
       "  <thead>\n",
       "    <tr style=\"text-align: right;\">\n",
       "      <th></th>\n",
       "      <th>name</th>\n",
       "      <th>id</th>\n",
       "      <th>chr</th>\n",
       "      <th>band</th>\n",
       "      <th>start_position</th>\n",
       "      <th>end_position</th>\n",
       "      <th>gene_length</th>\n",
       "    </tr>\n",
       "  </thead>\n",
       "  <tbody>\n",
       "    <tr>\n",
       "      <th>3913</th>\n",
       "      <td>TMEM133</td>\n",
       "      <td>ENSG00000170647</td>\n",
       "      <td>None</td>\n",
       "      <td>None</td>\n",
       "      <td>NaN</td>\n",
       "      <td>NaN</td>\n",
       "      <td>NaN</td>\n",
       "    </tr>\n",
       "    <tr>\n",
       "      <th>4784</th>\n",
       "      <td>TBCE</td>\n",
       "      <td>ENSG00000116957</td>\n",
       "      <td>None</td>\n",
       "      <td>None</td>\n",
       "      <td>NaN</td>\n",
       "      <td>NaN</td>\n",
       "      <td>NaN</td>\n",
       "    </tr>\n",
       "  </tbody>\n",
       "</table>\n",
       "</div>"
      ],
      "text/plain": [
       "         name               id   chr  band  start_position  end_position  \\\n",
       "3913  TMEM133  ENSG00000170647  None  None             NaN           NaN   \n",
       "4784     TBCE  ENSG00000116957  None  None             NaN           NaN   \n",
       "\n",
       "      gene_length  \n",
       "3913          NaN  \n",
       "4784          NaN  "
      ]
     },
     "metadata": {},
     "output_type": "display_data"
    }
   ],
   "source": [
    "_tmp = genes_info[genes_info.isna().any(axis=1)]\n",
    "display(_tmp)\n",
    "assert _tmp.shape[0] < 5"
   ]
  },
  {
   "cell_type": "code",
   "execution_count": 49,
   "id": "87c010f0-8ad9-4bf0-b12d-02f37a93853a",
   "metadata": {
    "execution": {
     "iopub.execute_input": "2022-12-02T21:49:44.816781Z",
     "iopub.status.busy": "2022-12-02T21:49:44.816578Z",
     "iopub.status.idle": "2022-12-02T21:49:44.837434Z",
     "shell.execute_reply": "2022-12-02T21:49:44.836920Z"
    },
    "papermill": {
     "duration": 0.03362,
     "end_time": "2022-12-02T21:49:44.838365",
     "exception": false,
     "start_time": "2022-12-02T21:49:44.804745",
     "status": "completed"
    },
    "tags": []
   },
   "outputs": [],
   "source": [
    "genes_info = genes_info.dropna()"
   ]
  },
  {
   "cell_type": "code",
   "execution_count": 50,
   "id": "61833f43-3a92-47e9-bca3-e05b6673c7d9",
   "metadata": {
    "execution": {
     "iopub.execute_input": "2022-12-02T21:49:44.861455Z",
     "iopub.status.busy": "2022-12-02T21:49:44.861254Z",
     "iopub.status.idle": "2022-12-02T21:49:45.272232Z",
     "shell.execute_reply": "2022-12-02T21:49:45.271810Z"
    },
    "papermill": {
     "duration": 0.424497,
     "end_time": "2022-12-02T21:49:45.273890",
     "exception": false,
     "start_time": "2022-12-02T21:49:44.849393",
     "status": "completed"
    },
    "tags": []
   },
   "outputs": [],
   "source": [
    "genes_info[\"chr\"] = genes_info[\"chr\"].apply(pd.to_numeric, downcast=\"integer\")\n",
    "genes_info[\"start_position\"] = genes_info[\"start_position\"].astype(int)\n",
    "genes_info[\"end_position\"] = genes_info[\"end_position\"].astype(int)\n",
    "genes_info[\"gene_length\"] = genes_info[\"gene_length\"].astype(int)"
   ]
  },
  {
   "cell_type": "code",
   "execution_count": 51,
   "id": "e4b9ae23-3edb-41a4-97aa-80cc7db6d393",
   "metadata": {
    "execution": {
     "iopub.execute_input": "2022-12-02T21:49:45.317050Z",
     "iopub.status.busy": "2022-12-02T21:49:45.316908Z",
     "iopub.status.idle": "2022-12-02T21:49:45.328422Z",
     "shell.execute_reply": "2022-12-02T21:49:45.328051Z"
    },
    "papermill": {
     "duration": 0.034546,
     "end_time": "2022-12-02T21:49:45.329693",
     "exception": false,
     "start_time": "2022-12-02T21:49:45.295147",
     "status": "completed"
    },
    "tags": []
   },
   "outputs": [
    {
     "data": {
      "text/plain": [
       "name              object\n",
       "id                object\n",
       "chr                 int8\n",
       "band              object\n",
       "start_position     int64\n",
       "end_position       int64\n",
       "gene_length        int64\n",
       "dtype: object"
      ]
     },
     "execution_count": 51,
     "metadata": {},
     "output_type": "execute_result"
    }
   ],
   "source": [
    "genes_info.dtypes"
   ]
  },
  {
   "cell_type": "code",
   "execution_count": 52,
   "id": "09d6320a-b1c4-4200-a23e-184bc4be69c7",
   "metadata": {
    "execution": {
     "iopub.execute_input": "2022-12-02T21:49:45.372934Z",
     "iopub.status.busy": "2022-12-02T21:49:45.372801Z",
     "iopub.status.idle": "2022-12-02T21:49:45.383424Z",
     "shell.execute_reply": "2022-12-02T21:49:45.383053Z"
    },
    "papermill": {
     "duration": 0.033233,
     "end_time": "2022-12-02T21:49:45.384449",
     "exception": false,
     "start_time": "2022-12-02T21:49:45.351216",
     "status": "completed"
    },
    "tags": []
   },
   "outputs": [],
   "source": [
    "assert genes_info[\"name\"].is_unique"
   ]
  },
  {
   "cell_type": "code",
   "execution_count": 53,
   "id": "009d11e4-f8cb-4a81-823d-c7f10b906d3b",
   "metadata": {
    "execution": {
     "iopub.execute_input": "2022-12-02T21:49:45.416910Z",
     "iopub.status.busy": "2022-12-02T21:49:45.416767Z",
     "iopub.status.idle": "2022-12-02T21:49:45.434220Z",
     "shell.execute_reply": "2022-12-02T21:49:45.433720Z"
    },
    "papermill": {
     "duration": 0.033931,
     "end_time": "2022-12-02T21:49:45.435160",
     "exception": false,
     "start_time": "2022-12-02T21:49:45.401229",
     "status": "completed"
    },
    "tags": []
   },
   "outputs": [],
   "source": [
    "assert genes_info[\"id\"].is_unique"
   ]
  },
  {
   "cell_type": "code",
   "execution_count": 54,
   "id": "e23519b8",
   "metadata": {
    "execution": {
     "iopub.execute_input": "2022-12-02T21:49:45.458719Z",
     "iopub.status.busy": "2022-12-02T21:49:45.458159Z",
     "iopub.status.idle": "2022-12-02T21:49:45.475710Z",
     "shell.execute_reply": "2022-12-02T21:49:45.475225Z"
    },
    "papermill": {
     "duration": 0.030318,
     "end_time": "2022-12-02T21:49:45.476609",
     "exception": false,
     "start_time": "2022-12-02T21:49:45.446291",
     "status": "completed"
    },
    "tags": []
   },
   "outputs": [
    {
     "data": {
      "text/plain": [
       "(6443, 7)"
      ]
     },
     "execution_count": 54,
     "metadata": {},
     "output_type": "execute_result"
    }
   ],
   "source": [
    "genes_info.shape"
   ]
  },
  {
   "cell_type": "code",
   "execution_count": 55,
   "id": "0d71881c",
   "metadata": {
    "execution": {
     "iopub.execute_input": "2022-12-02T21:49:45.499712Z",
     "iopub.status.busy": "2022-12-02T21:49:45.499499Z",
     "iopub.status.idle": "2022-12-02T21:49:45.519994Z",
     "shell.execute_reply": "2022-12-02T21:49:45.519506Z"
    },
    "papermill": {
     "duration": 0.033032,
     "end_time": "2022-12-02T21:49:45.520795",
     "exception": false,
     "start_time": "2022-12-02T21:49:45.487763",
     "status": "completed"
    },
    "tags": []
   },
   "outputs": [
    {
     "data": {
      "text/html": [
       "<div>\n",
       "<style scoped>\n",
       "    .dataframe tbody tr th:only-of-type {\n",
       "        vertical-align: middle;\n",
       "    }\n",
       "\n",
       "    .dataframe tbody tr th {\n",
       "        vertical-align: top;\n",
       "    }\n",
       "\n",
       "    .dataframe thead th {\n",
       "        text-align: right;\n",
       "    }\n",
       "</style>\n",
       "<table border=\"1\" class=\"dataframe\">\n",
       "  <thead>\n",
       "    <tr style=\"text-align: right;\">\n",
       "      <th></th>\n",
       "      <th>name</th>\n",
       "      <th>id</th>\n",
       "      <th>chr</th>\n",
       "      <th>band</th>\n",
       "      <th>start_position</th>\n",
       "      <th>end_position</th>\n",
       "      <th>gene_length</th>\n",
       "    </tr>\n",
       "  </thead>\n",
       "  <tbody>\n",
       "    <tr>\n",
       "      <th>0</th>\n",
       "      <td>MRPL44</td>\n",
       "      <td>ENSG00000135900</td>\n",
       "      <td>2</td>\n",
       "      <td>2q36.1</td>\n",
       "      <td>223957463</td>\n",
       "      <td>223967714</td>\n",
       "      <td>10251</td>\n",
       "    </tr>\n",
       "    <tr>\n",
       "      <th>1</th>\n",
       "      <td>H1FX</td>\n",
       "      <td>ENSG00000184897</td>\n",
       "      <td>3</td>\n",
       "      <td>3q21.3</td>\n",
       "      <td>129314771</td>\n",
       "      <td>129316286</td>\n",
       "      <td>1515</td>\n",
       "    </tr>\n",
       "    <tr>\n",
       "      <th>2</th>\n",
       "      <td>AGRN</td>\n",
       "      <td>ENSG00000188157</td>\n",
       "      <td>1</td>\n",
       "      <td>1p36.33</td>\n",
       "      <td>1020120</td>\n",
       "      <td>1056118</td>\n",
       "      <td>35998</td>\n",
       "    </tr>\n",
       "    <tr>\n",
       "      <th>3</th>\n",
       "      <td>DNAJB2</td>\n",
       "      <td>ENSG00000135924</td>\n",
       "      <td>2</td>\n",
       "      <td>2q35</td>\n",
       "      <td>219279267</td>\n",
       "      <td>219286900</td>\n",
       "      <td>7633</td>\n",
       "    </tr>\n",
       "    <tr>\n",
       "      <th>4</th>\n",
       "      <td>PISD</td>\n",
       "      <td>ENSG00000241878</td>\n",
       "      <td>22</td>\n",
       "      <td>22q12.2</td>\n",
       "      <td>31618491</td>\n",
       "      <td>31662432</td>\n",
       "      <td>43941</td>\n",
       "    </tr>\n",
       "  </tbody>\n",
       "</table>\n",
       "</div>"
      ],
      "text/plain": [
       "     name               id  chr     band  start_position  end_position  \\\n",
       "0  MRPL44  ENSG00000135900    2   2q36.1       223957463     223967714   \n",
       "1    H1FX  ENSG00000184897    3   3q21.3       129314771     129316286   \n",
       "2    AGRN  ENSG00000188157    1  1p36.33         1020120       1056118   \n",
       "3  DNAJB2  ENSG00000135924    2     2q35       219279267     219286900   \n",
       "4    PISD  ENSG00000241878   22  22q12.2        31618491      31662432   \n",
       "\n",
       "   gene_length  \n",
       "0        10251  \n",
       "1         1515  \n",
       "2        35998  \n",
       "3         7633  \n",
       "4        43941  "
      ]
     },
     "execution_count": 55,
     "metadata": {},
     "output_type": "execute_result"
    }
   ],
   "source": [
    "genes_info.head()"
   ]
  },
  {
   "cell_type": "code",
   "execution_count": 56,
   "id": "eb968287-d9cf-40f6-a93e-6b322b844404",
   "metadata": {
    "execution": {
     "iopub.execute_input": "2022-12-02T21:49:45.544530Z",
     "iopub.status.busy": "2022-12-02T21:49:45.544326Z",
     "iopub.status.idle": "2022-12-02T21:49:45.568794Z",
     "shell.execute_reply": "2022-12-02T21:49:45.568286Z"
    },
    "papermill": {
     "duration": 0.037476,
     "end_time": "2022-12-02T21:49:45.569674",
     "exception": false,
     "start_time": "2022-12-02T21:49:45.532198",
     "status": "completed"
    },
    "tags": []
   },
   "outputs": [
    {
     "data": {
      "text/html": [
       "<div>\n",
       "<style scoped>\n",
       "    .dataframe tbody tr th:only-of-type {\n",
       "        vertical-align: middle;\n",
       "    }\n",
       "\n",
       "    .dataframe tbody tr th {\n",
       "        vertical-align: top;\n",
       "    }\n",
       "\n",
       "    .dataframe thead th {\n",
       "        text-align: right;\n",
       "    }\n",
       "</style>\n",
       "<table border=\"1\" class=\"dataframe\">\n",
       "  <thead>\n",
       "    <tr style=\"text-align: right;\">\n",
       "      <th></th>\n",
       "      <th>name</th>\n",
       "      <th>id</th>\n",
       "      <th>chr</th>\n",
       "      <th>band</th>\n",
       "      <th>start_position</th>\n",
       "      <th>end_position</th>\n",
       "      <th>gene_length</th>\n",
       "    </tr>\n",
       "  </thead>\n",
       "  <tbody>\n",
       "    <tr>\n",
       "      <th>2588</th>\n",
       "      <td>SORT1</td>\n",
       "      <td>ENSG00000134243</td>\n",
       "      <td>1</td>\n",
       "      <td>1p13.3</td>\n",
       "      <td>109309568</td>\n",
       "      <td>109397918</td>\n",
       "      <td>88350</td>\n",
       "    </tr>\n",
       "    <tr>\n",
       "      <th>4009</th>\n",
       "      <td>C4BPB</td>\n",
       "      <td>ENSG00000123843</td>\n",
       "      <td>1</td>\n",
       "      <td>1q32.1</td>\n",
       "      <td>207088860</td>\n",
       "      <td>207099993</td>\n",
       "      <td>11133</td>\n",
       "    </tr>\n",
       "    <tr>\n",
       "      <th>1583</th>\n",
       "      <td>COL9A2</td>\n",
       "      <td>ENSG00000049089</td>\n",
       "      <td>1</td>\n",
       "      <td>1p34.2</td>\n",
       "      <td>40300489</td>\n",
       "      <td>40317813</td>\n",
       "      <td>17324</td>\n",
       "    </tr>\n",
       "    <tr>\n",
       "      <th>4027</th>\n",
       "      <td>MTMR11</td>\n",
       "      <td>ENSG00000014914</td>\n",
       "      <td>1</td>\n",
       "      <td>1q21.2</td>\n",
       "      <td>149928651</td>\n",
       "      <td>149936879</td>\n",
       "      <td>8228</td>\n",
       "    </tr>\n",
       "    <tr>\n",
       "      <th>5487</th>\n",
       "      <td>CD1D</td>\n",
       "      <td>ENSG00000158473</td>\n",
       "      <td>1</td>\n",
       "      <td>1q23.1</td>\n",
       "      <td>158179947</td>\n",
       "      <td>158184896</td>\n",
       "      <td>4949</td>\n",
       "    </tr>\n",
       "    <tr>\n",
       "      <th>...</th>\n",
       "      <td>...</td>\n",
       "      <td>...</td>\n",
       "      <td>...</td>\n",
       "      <td>...</td>\n",
       "      <td>...</td>\n",
       "      <td>...</td>\n",
       "      <td>...</td>\n",
       "    </tr>\n",
       "    <tr>\n",
       "      <th>3389</th>\n",
       "      <td>SSTR3</td>\n",
       "      <td>ENSG00000278195</td>\n",
       "      <td>22</td>\n",
       "      <td>22q13.1</td>\n",
       "      <td>37204237</td>\n",
       "      <td>37212477</td>\n",
       "      <td>8240</td>\n",
       "    </tr>\n",
       "    <tr>\n",
       "      <th>2447</th>\n",
       "      <td>CSNK1E</td>\n",
       "      <td>ENSG00000213923</td>\n",
       "      <td>22</td>\n",
       "      <td>22q13.1</td>\n",
       "      <td>38290691</td>\n",
       "      <td>38318084</td>\n",
       "      <td>27393</td>\n",
       "    </tr>\n",
       "    <tr>\n",
       "      <th>5728</th>\n",
       "      <td>SEZ6L</td>\n",
       "      <td>ENSG00000100095</td>\n",
       "      <td>22</td>\n",
       "      <td>22q12.1</td>\n",
       "      <td>26169462</td>\n",
       "      <td>26383597</td>\n",
       "      <td>214135</td>\n",
       "    </tr>\n",
       "    <tr>\n",
       "      <th>5548</th>\n",
       "      <td>APOBEC3G</td>\n",
       "      <td>ENSG00000239713</td>\n",
       "      <td>22</td>\n",
       "      <td>22q13.1</td>\n",
       "      <td>39077067</td>\n",
       "      <td>39087743</td>\n",
       "      <td>10676</td>\n",
       "    </tr>\n",
       "    <tr>\n",
       "      <th>1194</th>\n",
       "      <td>UQCR10</td>\n",
       "      <td>ENSG00000184076</td>\n",
       "      <td>22</td>\n",
       "      <td>22q12.2</td>\n",
       "      <td>29767369</td>\n",
       "      <td>29770413</td>\n",
       "      <td>3044</td>\n",
       "    </tr>\n",
       "  </tbody>\n",
       "</table>\n",
       "<p>6443 rows × 7 columns</p>\n",
       "</div>"
      ],
      "text/plain": [
       "          name               id  chr     band  start_position  end_position  \\\n",
       "2588     SORT1  ENSG00000134243    1   1p13.3       109309568     109397918   \n",
       "4009     C4BPB  ENSG00000123843    1   1q32.1       207088860     207099993   \n",
       "1583    COL9A2  ENSG00000049089    1   1p34.2        40300489      40317813   \n",
       "4027    MTMR11  ENSG00000014914    1   1q21.2       149928651     149936879   \n",
       "5487      CD1D  ENSG00000158473    1   1q23.1       158179947     158184896   \n",
       "...        ...              ...  ...      ...             ...           ...   \n",
       "3389     SSTR3  ENSG00000278195   22  22q13.1        37204237      37212477   \n",
       "2447    CSNK1E  ENSG00000213923   22  22q13.1        38290691      38318084   \n",
       "5728     SEZ6L  ENSG00000100095   22  22q12.1        26169462      26383597   \n",
       "5548  APOBEC3G  ENSG00000239713   22  22q13.1        39077067      39087743   \n",
       "1194    UQCR10  ENSG00000184076   22  22q12.2        29767369      29770413   \n",
       "\n",
       "      gene_length  \n",
       "2588        88350  \n",
       "4009        11133  \n",
       "1583        17324  \n",
       "4027         8228  \n",
       "5487         4949  \n",
       "...           ...  \n",
       "3389         8240  \n",
       "2447        27393  \n",
       "5728       214135  \n",
       "5548        10676  \n",
       "1194         3044  \n",
       "\n",
       "[6443 rows x 7 columns]"
      ]
     },
     "execution_count": 56,
     "metadata": {},
     "output_type": "execute_result"
    }
   ],
   "source": [
    "genes_info.sort_values(\"chr\")"
   ]
  },
  {
   "cell_type": "markdown",
   "id": "7282b84d-f4f3-4e8c-9dd8-6319505ed4b5",
   "metadata": {
    "papermill": {
     "duration": 0.0118,
     "end_time": "2022-12-02T21:49:45.614451",
     "exception": false,
     "start_time": "2022-12-02T21:49:45.602651",
     "status": "completed"
    },
    "tags": []
   },
   "source": [
    "### Save"
   ]
  },
  {
   "cell_type": "code",
   "execution_count": 57,
   "id": "32cf6566-03bb-4a85-81e1-da46fc9f37ad",
   "metadata": {
    "execution": {
     "iopub.execute_input": "2022-12-02T21:49:45.638933Z",
     "iopub.status.busy": "2022-12-02T21:49:45.638701Z",
     "iopub.status.idle": "2022-12-02T21:49:45.658936Z",
     "shell.execute_reply": "2022-12-02T21:49:45.658406Z"
    },
    "papermill": {
     "duration": 0.033739,
     "end_time": "2022-12-02T21:49:45.659878",
     "exception": false,
     "start_time": "2022-12-02T21:49:45.626139",
     "status": "completed"
    },
    "tags": []
   },
   "outputs": [],
   "source": [
    "genes_info.to_pickle(OUTPUT_DIR_BASE / \"genes_info.pkl\")"
   ]
  },
  {
   "cell_type": "markdown",
   "id": "5b9f384a-5a91-4a8d-9007-cfe43f2d86f8",
   "metadata": {
    "papermill": {
     "duration": 0.011507,
     "end_time": "2022-12-02T21:49:45.683020",
     "exception": false,
     "start_time": "2022-12-02T21:49:45.671513",
     "status": "completed"
    },
    "tags": []
   },
   "source": [
    "## S-PrediXcan results"
   ]
  },
  {
   "cell_type": "markdown",
   "id": "fc0a2a4c-960c-4a0a-9b23-b66c3d5d6e07",
   "metadata": {
    "papermill": {
     "duration": 0.011683,
     "end_time": "2022-12-02T21:49:45.706388",
     "exception": false,
     "start_time": "2022-12-02T21:49:45.694705",
     "status": "completed"
    },
    "tags": []
   },
   "source": [
    "### Load results across all tissues"
   ]
  },
  {
   "cell_type": "code",
   "execution_count": 58,
   "id": "0b4867d7-a608-4b08-9d77-1782be3a0c94",
   "metadata": {
    "execution": {
     "iopub.execute_input": "2022-12-02T21:49:45.730798Z",
     "iopub.status.busy": "2022-12-02T21:49:45.730592Z",
     "iopub.status.idle": "2022-12-02T21:49:45.748033Z",
     "shell.execute_reply": "2022-12-02T21:49:45.747544Z"
    },
    "papermill": {
     "duration": 0.030971,
     "end_time": "2022-12-02T21:49:45.749039",
     "exception": false,
     "start_time": "2022-12-02T21:49:45.718068",
     "status": "completed"
    },
    "tags": []
   },
   "outputs": [],
   "source": [
    "spredixcan_result_files = {\n",
    "    t: SPREDIXCAN_FOLDER / SPREDIXCAN_FILE_PATTERN.format(tissue=t)\n",
    "    for t in prediction_model_tissues\n",
    "}"
   ]
  },
  {
   "cell_type": "code",
   "execution_count": 59,
   "id": "0ce270dd-46ac-4eaa-9d86-2b201d67d82f",
   "metadata": {
    "execution": {
     "iopub.execute_input": "2022-12-02T21:49:45.773183Z",
     "iopub.status.busy": "2022-12-02T21:49:45.772984Z",
     "iopub.status.idle": "2022-12-02T21:49:45.790332Z",
     "shell.execute_reply": "2022-12-02T21:49:45.789857Z"
    },
    "papermill": {
     "duration": 0.030374,
     "end_time": "2022-12-02T21:49:45.791160",
     "exception": false,
     "start_time": "2022-12-02T21:49:45.760786",
     "status": "completed"
    },
    "tags": []
   },
   "outputs": [
    {
     "data": {
      "text/plain": [
       "[PosixPath('/opt/data/projects/asthma-copd/results/twas/spredixcan/GWAS_Asthma_only_GLM_SNPs_info0.7-gtex_v8-mashr-Thyroid.csv'),\n",
       " PosixPath('/opt/data/projects/asthma-copd/results/twas/spredixcan/GWAS_Asthma_only_GLM_SNPs_info0.7-gtex_v8-mashr-Artery_Aorta.csv'),\n",
       " PosixPath('/opt/data/projects/asthma-copd/results/twas/spredixcan/GWAS_Asthma_only_GLM_SNPs_info0.7-gtex_v8-mashr-Heart_Atrial_Appendage.csv'),\n",
       " PosixPath('/opt/data/projects/asthma-copd/results/twas/spredixcan/GWAS_Asthma_only_GLM_SNPs_info0.7-gtex_v8-mashr-Liver.csv'),\n",
       " PosixPath('/opt/data/projects/asthma-copd/results/twas/spredixcan/GWAS_Asthma_only_GLM_SNPs_info0.7-gtex_v8-mashr-Heart_Left_Ventricle.csv')]"
      ]
     },
     "metadata": {},
     "output_type": "display_data"
    }
   ],
   "source": [
    "assert len(spredixcan_result_files) == len(prediction_model_tissues)\n",
    "display(list(spredixcan_result_files.values())[:5])"
   ]
  },
  {
   "cell_type": "code",
   "execution_count": 60,
   "id": "aa140259-303e-4912-b2bf-e7adce662f88",
   "metadata": {
    "execution": {
     "iopub.execute_input": "2022-12-02T21:49:45.815310Z",
     "iopub.status.busy": "2022-12-02T21:49:45.815112Z",
     "iopub.status.idle": "2022-12-02T21:49:45.863525Z",
     "shell.execute_reply": "2022-12-02T21:49:45.863011Z"
    },
    "papermill": {
     "duration": 0.061328,
     "end_time": "2022-12-02T21:49:45.864335",
     "exception": false,
     "start_time": "2022-12-02T21:49:45.803007",
     "status": "completed"
    },
    "tags": []
   },
   "outputs": [
    {
     "data": {
      "text/html": [
       "<div>\n",
       "<style scoped>\n",
       "    .dataframe tbody tr th:only-of-type {\n",
       "        vertical-align: middle;\n",
       "    }\n",
       "\n",
       "    .dataframe tbody tr th {\n",
       "        vertical-align: top;\n",
       "    }\n",
       "\n",
       "    .dataframe thead th {\n",
       "        text-align: right;\n",
       "    }\n",
       "</style>\n",
       "<table border=\"1\" class=\"dataframe\">\n",
       "  <thead>\n",
       "    <tr style=\"text-align: right;\">\n",
       "      <th></th>\n",
       "      <th>gene</th>\n",
       "      <th>gene_name</th>\n",
       "      <th>zscore</th>\n",
       "      <th>effect_size</th>\n",
       "      <th>pvalue</th>\n",
       "      <th>var_g</th>\n",
       "      <th>pred_perf_r2</th>\n",
       "      <th>pred_perf_pval</th>\n",
       "      <th>pred_perf_qval</th>\n",
       "      <th>n_snps_used</th>\n",
       "      <th>n_snps_in_cov</th>\n",
       "      <th>n_snps_in_model</th>\n",
       "      <th>best_gwas_p</th>\n",
       "      <th>largest_weight</th>\n",
       "    </tr>\n",
       "  </thead>\n",
       "  <tbody>\n",
       "    <tr>\n",
       "      <th>0</th>\n",
       "      <td>ENSG00000179344.16</td>\n",
       "      <td>HLA-DQB1</td>\n",
       "      <td>-12.301224</td>\n",
       "      <td>NaN</td>\n",
       "      <td>8.921179e-35</td>\n",
       "      <td>0.283759</td>\n",
       "      <td>NaN</td>\n",
       "      <td>NaN</td>\n",
       "      <td>NaN</td>\n",
       "      <td>3</td>\n",
       "      <td>3</td>\n",
       "      <td>3</td>\n",
       "      <td>4.004190e-34</td>\n",
       "      <td>0.772332</td>\n",
       "    </tr>\n",
       "    <tr>\n",
       "      <th>1</th>\n",
       "      <td>ENSG00000232629.8</td>\n",
       "      <td>HLA-DQB2</td>\n",
       "      <td>11.907670</td>\n",
       "      <td>NaN</td>\n",
       "      <td>1.079511e-32</td>\n",
       "      <td>1.363601</td>\n",
       "      <td>NaN</td>\n",
       "      <td>NaN</td>\n",
       "      <td>NaN</td>\n",
       "      <td>2</td>\n",
       "      <td>3</td>\n",
       "      <td>3</td>\n",
       "      <td>1.761500e-32</td>\n",
       "      <td>0.972033</td>\n",
       "    </tr>\n",
       "    <tr>\n",
       "      <th>2</th>\n",
       "      <td>ENSG00000237541.3</td>\n",
       "      <td>HLA-DQA2</td>\n",
       "      <td>10.481759</td>\n",
       "      <td>NaN</td>\n",
       "      <td>1.047767e-25</td>\n",
       "      <td>0.118803</td>\n",
       "      <td>NaN</td>\n",
       "      <td>NaN</td>\n",
       "      <td>NaN</td>\n",
       "      <td>2</td>\n",
       "      <td>4</td>\n",
       "      <td>4</td>\n",
       "      <td>4.049999e-21</td>\n",
       "      <td>0.486574</td>\n",
       "    </tr>\n",
       "    <tr>\n",
       "      <th>3</th>\n",
       "      <td>ENSG00000161405.16</td>\n",
       "      <td>IKZF3</td>\n",
       "      <td>-9.524108</td>\n",
       "      <td>NaN</td>\n",
       "      <td>1.664654e-21</td>\n",
       "      <td>0.002611</td>\n",
       "      <td>NaN</td>\n",
       "      <td>NaN</td>\n",
       "      <td>NaN</td>\n",
       "      <td>1</td>\n",
       "      <td>1</td>\n",
       "      <td>1</td>\n",
       "      <td>1.664654e-21</td>\n",
       "      <td>0.073940</td>\n",
       "    </tr>\n",
       "    <tr>\n",
       "      <th>4</th>\n",
       "      <td>ENSG00000073605.18</td>\n",
       "      <td>GSDMB</td>\n",
       "      <td>8.267584</td>\n",
       "      <td>NaN</td>\n",
       "      <td>1.367011e-16</td>\n",
       "      <td>0.098072</td>\n",
       "      <td>NaN</td>\n",
       "      <td>NaN</td>\n",
       "      <td>NaN</td>\n",
       "      <td>3</td>\n",
       "      <td>3</td>\n",
       "      <td>3</td>\n",
       "      <td>5.762121e-21</td>\n",
       "      <td>0.338834</td>\n",
       "    </tr>\n",
       "  </tbody>\n",
       "</table>\n",
       "</div>"
      ],
      "text/plain": [
       "                 gene gene_name     zscore  effect_size        pvalue  \\\n",
       "0  ENSG00000179344.16  HLA-DQB1 -12.301224          NaN  8.921179e-35   \n",
       "1   ENSG00000232629.8  HLA-DQB2  11.907670          NaN  1.079511e-32   \n",
       "2   ENSG00000237541.3  HLA-DQA2  10.481759          NaN  1.047767e-25   \n",
       "3  ENSG00000161405.16     IKZF3  -9.524108          NaN  1.664654e-21   \n",
       "4  ENSG00000073605.18     GSDMB   8.267584          NaN  1.367011e-16   \n",
       "\n",
       "      var_g  pred_perf_r2  pred_perf_pval  pred_perf_qval  n_snps_used  \\\n",
       "0  0.283759           NaN             NaN             NaN            3   \n",
       "1  1.363601           NaN             NaN             NaN            2   \n",
       "2  0.118803           NaN             NaN             NaN            2   \n",
       "3  0.002611           NaN             NaN             NaN            1   \n",
       "4  0.098072           NaN             NaN             NaN            3   \n",
       "\n",
       "   n_snps_in_cov  n_snps_in_model   best_gwas_p  largest_weight  \n",
       "0              3                3  4.004190e-34        0.772332  \n",
       "1              3                3  1.761500e-32        0.972033  \n",
       "2              4                4  4.049999e-21        0.486574  \n",
       "3              1                1  1.664654e-21        0.073940  \n",
       "4              3                3  5.762121e-21        0.338834  "
      ]
     },
     "execution_count": 60,
     "metadata": {},
     "output_type": "execute_result"
    }
   ],
   "source": [
    "# look at the structure of one result\n",
    "pd.read_csv(spredixcan_result_files[\"Whole_Blood\"]).head()"
   ]
  },
  {
   "cell_type": "code",
   "execution_count": 61,
   "id": "4381b9ff-6ab5-47f1-89d1-560f88fdf07f",
   "metadata": {
    "execution": {
     "iopub.execute_input": "2022-12-02T21:49:45.889072Z",
     "iopub.status.busy": "2022-12-02T21:49:45.888869Z",
     "iopub.status.idle": "2022-12-02T21:49:45.905414Z",
     "shell.execute_reply": "2022-12-02T21:49:45.904917Z"
    },
    "papermill": {
     "duration": 0.029794,
     "end_time": "2022-12-02T21:49:45.906229",
     "exception": false,
     "start_time": "2022-12-02T21:49:45.876435",
     "status": "completed"
    },
    "tags": []
   },
   "outputs": [],
   "source": [
    "assert all(f.exists() for f in spredixcan_result_files.values())"
   ]
  },
  {
   "cell_type": "code",
   "execution_count": 62,
   "id": "d477157f-51e9-4c7c-b826-7ab5f4fdf3e3",
   "metadata": {
    "execution": {
     "iopub.execute_input": "2022-12-02T21:49:45.931067Z",
     "iopub.status.busy": "2022-12-02T21:49:45.930866Z",
     "iopub.status.idle": "2022-12-02T21:49:46.587181Z",
     "shell.execute_reply": "2022-12-02T21:49:46.586746Z"
    },
    "papermill": {
     "duration": 0.669924,
     "end_time": "2022-12-02T21:49:46.588129",
     "exception": false,
     "start_time": "2022-12-02T21:49:45.918205",
     "status": "completed"
    },
    "tags": []
   },
   "outputs": [],
   "source": [
    "spredixcan_dfs = [\n",
    "    pd.read_csv(\n",
    "        f,\n",
    "        usecols=[\n",
    "            \"gene\",\n",
    "            \"zscore\",\n",
    "            \"pvalue\",\n",
    "            \"n_snps_used\",\n",
    "            \"n_snps_in_model\",\n",
    "        ],\n",
    "    )\n",
    "    .dropna(subset=[\"gene\", \"zscore\", \"pvalue\"])\n",
    "    .assign(tissue=t)\n",
    "    for t, f in spredixcan_result_files.items()\n",
    "]"
   ]
  },
  {
   "cell_type": "code",
   "execution_count": 63,
   "id": "9730bd37-b769-411f-bb6b-bb658d1ff88c",
   "metadata": {
    "execution": {
     "iopub.execute_input": "2022-12-02T21:49:46.612807Z",
     "iopub.status.busy": "2022-12-02T21:49:46.612691Z",
     "iopub.status.idle": "2022-12-02T21:49:46.622960Z",
     "shell.execute_reply": "2022-12-02T21:49:46.622588Z"
    },
    "papermill": {
     "duration": 0.023473,
     "end_time": "2022-12-02T21:49:46.623806",
     "exception": false,
     "start_time": "2022-12-02T21:49:46.600333",
     "status": "completed"
    },
    "tags": []
   },
   "outputs": [],
   "source": [
    "assert len(spredixcan_dfs) == len(prediction_model_tissues)"
   ]
  },
  {
   "cell_type": "code",
   "execution_count": 64,
   "id": "bcd73f53-1283-4ff6-bbb5-25fb71f5cb72",
   "metadata": {
    "execution": {
     "iopub.execute_input": "2022-12-02T21:49:46.648350Z",
     "iopub.status.busy": "2022-12-02T21:49:46.648225Z",
     "iopub.status.idle": "2022-12-02T21:49:46.672749Z",
     "shell.execute_reply": "2022-12-02T21:49:46.672302Z"
    },
    "papermill": {
     "duration": 0.037646,
     "end_time": "2022-12-02T21:49:46.673540",
     "exception": false,
     "start_time": "2022-12-02T21:49:46.635894",
     "status": "completed"
    },
    "tags": []
   },
   "outputs": [],
   "source": [
    "spredixcan_dfs = pd.concat(spredixcan_dfs)"
   ]
  },
  {
   "cell_type": "code",
   "execution_count": 65,
   "id": "ae99c7b5-14fc-4b39-a6b2-40fc703acd0a",
   "metadata": {
    "execution": {
     "iopub.execute_input": "2022-12-02T21:49:46.698023Z",
     "iopub.status.busy": "2022-12-02T21:49:46.697915Z",
     "iopub.status.idle": "2022-12-02T21:49:46.753736Z",
     "shell.execute_reply": "2022-12-02T21:49:46.753188Z"
    },
    "papermill": {
     "duration": 0.069174,
     "end_time": "2022-12-02T21:49:46.754651",
     "exception": false,
     "start_time": "2022-12-02T21:49:46.685477",
     "status": "completed"
    },
    "tags": []
   },
   "outputs": [],
   "source": [
    "assert spredixcan_dfs[\"tissue\"].unique().shape[0] == len(prediction_model_tissues)"
   ]
  },
  {
   "cell_type": "code",
   "execution_count": 66,
   "id": "b7223a23-e40f-4cd3-8988-72033f8739bd",
   "metadata": {
    "execution": {
     "iopub.execute_input": "2022-12-02T21:49:46.779932Z",
     "iopub.status.busy": "2022-12-02T21:49:46.779358Z",
     "iopub.status.idle": "2022-12-02T21:49:46.796163Z",
     "shell.execute_reply": "2022-12-02T21:49:46.795690Z"
    },
    "papermill": {
     "duration": 0.030162,
     "end_time": "2022-12-02T21:49:46.796967",
     "exception": false,
     "start_time": "2022-12-02T21:49:46.766805",
     "status": "completed"
    },
    "tags": []
   },
   "outputs": [
    {
     "data": {
      "text/plain": [
       "(658530, 6)"
      ]
     },
     "execution_count": 66,
     "metadata": {},
     "output_type": "execute_result"
    }
   ],
   "source": [
    "spredixcan_dfs.shape"
   ]
  },
  {
   "cell_type": "code",
   "execution_count": 67,
   "id": "4987073a-3b70-4162-93fb-beeb351ebfe0",
   "metadata": {
    "execution": {
     "iopub.execute_input": "2022-12-02T21:49:46.822503Z",
     "iopub.status.busy": "2022-12-02T21:49:46.821959Z",
     "iopub.status.idle": "2022-12-02T21:49:47.020994Z",
     "shell.execute_reply": "2022-12-02T21:49:47.020530Z"
    },
    "papermill": {
     "duration": 0.212685,
     "end_time": "2022-12-02T21:49:47.021942",
     "exception": false,
     "start_time": "2022-12-02T21:49:46.809257",
     "status": "completed"
    },
    "tags": []
   },
   "outputs": [],
   "source": [
    "spredixcan_dfs = spredixcan_dfs.assign(\n",
    "    gene_id=spredixcan_dfs[\"gene\"].apply(lambda g: g.split(\".\")[0])\n",
    ")"
   ]
  },
  {
   "cell_type": "code",
   "execution_count": 68,
   "id": "6b47d026-01c0-4f7c-a90e-f0baa13235f4",
   "metadata": {
    "execution": {
     "iopub.execute_input": "2022-12-02T21:49:47.046803Z",
     "iopub.status.busy": "2022-12-02T21:49:47.046693Z",
     "iopub.status.idle": "2022-12-02T21:49:47.060438Z",
     "shell.execute_reply": "2022-12-02T21:49:47.060081Z"
    },
    "papermill": {
     "duration": 0.027056,
     "end_time": "2022-12-02T21:49:47.061134",
     "exception": false,
     "start_time": "2022-12-02T21:49:47.034078",
     "status": "completed"
    },
    "tags": []
   },
   "outputs": [
    {
     "data": {
      "text/html": [
       "<div>\n",
       "<style scoped>\n",
       "    .dataframe tbody tr th:only-of-type {\n",
       "        vertical-align: middle;\n",
       "    }\n",
       "\n",
       "    .dataframe tbody tr th {\n",
       "        vertical-align: top;\n",
       "    }\n",
       "\n",
       "    .dataframe thead th {\n",
       "        text-align: right;\n",
       "    }\n",
       "</style>\n",
       "<table border=\"1\" class=\"dataframe\">\n",
       "  <thead>\n",
       "    <tr style=\"text-align: right;\">\n",
       "      <th></th>\n",
       "      <th>gene</th>\n",
       "      <th>zscore</th>\n",
       "      <th>pvalue</th>\n",
       "      <th>n_snps_used</th>\n",
       "      <th>n_snps_in_model</th>\n",
       "      <th>tissue</th>\n",
       "      <th>gene_id</th>\n",
       "    </tr>\n",
       "  </thead>\n",
       "  <tbody>\n",
       "    <tr>\n",
       "      <th>0</th>\n",
       "      <td>ENSG00000232629.8</td>\n",
       "      <td>12.131690</td>\n",
       "      <td>7.175314e-34</td>\n",
       "      <td>1</td>\n",
       "      <td>2</td>\n",
       "      <td>Thyroid</td>\n",
       "      <td>ENSG00000232629</td>\n",
       "    </tr>\n",
       "    <tr>\n",
       "      <th>1</th>\n",
       "      <td>ENSG00000196735.11</td>\n",
       "      <td>-11.318702</td>\n",
       "      <td>1.060298e-29</td>\n",
       "      <td>3</td>\n",
       "      <td>3</td>\n",
       "      <td>Thyroid</td>\n",
       "      <td>ENSG00000196735</td>\n",
       "    </tr>\n",
       "    <tr>\n",
       "      <th>2</th>\n",
       "      <td>ENSG00000179344.16</td>\n",
       "      <td>-10.453348</td>\n",
       "      <td>1.414416e-25</td>\n",
       "      <td>4</td>\n",
       "      <td>4</td>\n",
       "      <td>Thyroid</td>\n",
       "      <td>ENSG00000179344</td>\n",
       "    </tr>\n",
       "    <tr>\n",
       "      <th>3</th>\n",
       "      <td>ENSG00000237541.3</td>\n",
       "      <td>9.431310</td>\n",
       "      <td>4.049999e-21</td>\n",
       "      <td>1</td>\n",
       "      <td>3</td>\n",
       "      <td>Thyroid</td>\n",
       "      <td>ENSG00000237541</td>\n",
       "    </tr>\n",
       "    <tr>\n",
       "      <th>4</th>\n",
       "      <td>ENSG00000166949.15</td>\n",
       "      <td>-8.748763</td>\n",
       "      <td>2.157045e-18</td>\n",
       "      <td>3</td>\n",
       "      <td>3</td>\n",
       "      <td>Thyroid</td>\n",
       "      <td>ENSG00000166949</td>\n",
       "    </tr>\n",
       "  </tbody>\n",
       "</table>\n",
       "</div>"
      ],
      "text/plain": [
       "                 gene     zscore        pvalue  n_snps_used  n_snps_in_model  \\\n",
       "0   ENSG00000232629.8  12.131690  7.175314e-34            1                2   \n",
       "1  ENSG00000196735.11 -11.318702  1.060298e-29            3                3   \n",
       "2  ENSG00000179344.16 -10.453348  1.414416e-25            4                4   \n",
       "3   ENSG00000237541.3   9.431310  4.049999e-21            1                3   \n",
       "4  ENSG00000166949.15  -8.748763  2.157045e-18            3                3   \n",
       "\n",
       "    tissue          gene_id  \n",
       "0  Thyroid  ENSG00000232629  \n",
       "1  Thyroid  ENSG00000196735  \n",
       "2  Thyroid  ENSG00000179344  \n",
       "3  Thyroid  ENSG00000237541  \n",
       "4  Thyroid  ENSG00000166949  "
      ]
     },
     "execution_count": 68,
     "metadata": {},
     "output_type": "execute_result"
    }
   ],
   "source": [
    "spredixcan_dfs.head()"
   ]
  },
  {
   "cell_type": "code",
   "execution_count": 69,
   "id": "d5dbdb2e-b7eb-4665-9fd4-9ce714d6af0c",
   "metadata": {
    "execution": {
     "iopub.execute_input": "2022-12-02T21:49:47.085831Z",
     "iopub.status.busy": "2022-12-02T21:49:47.085725Z",
     "iopub.status.idle": "2022-12-02T21:49:47.199480Z",
     "shell.execute_reply": "2022-12-02T21:49:47.199029Z"
    },
    "papermill": {
     "duration": 0.127033,
     "end_time": "2022-12-02T21:49:47.200396",
     "exception": false,
     "start_time": "2022-12-02T21:49:47.073363",
     "status": "completed"
    },
    "tags": []
   },
   "outputs": [],
   "source": [
    "# leave only common genes\n",
    "spredixcan_dfs = spredixcan_dfs[spredixcan_dfs[\"gene_id\"].isin(set(genes_info[\"id\"]))]"
   ]
  },
  {
   "cell_type": "code",
   "execution_count": 70,
   "id": "8d34f99a-6b43-47aa-bb07-dfc67e169538",
   "metadata": {
    "execution": {
     "iopub.execute_input": "2022-12-02T21:49:47.225673Z",
     "iopub.status.busy": "2022-12-02T21:49:47.225545Z",
     "iopub.status.idle": "2022-12-02T21:49:47.236059Z",
     "shell.execute_reply": "2022-12-02T21:49:47.235707Z"
    },
    "papermill": {
     "duration": 0.023896,
     "end_time": "2022-12-02T21:49:47.236813",
     "exception": false,
     "start_time": "2022-12-02T21:49:47.212917",
     "status": "completed"
    },
    "tags": []
   },
   "outputs": [
    {
     "data": {
      "text/plain": [
       "(235569, 7)"
      ]
     },
     "execution_count": 70,
     "metadata": {},
     "output_type": "execute_result"
    }
   ],
   "source": [
    "spredixcan_dfs.shape"
   ]
  },
  {
   "cell_type": "markdown",
   "id": "5ecfd141-ecb8-47cf-905e-25cc1b4d3f9d",
   "metadata": {
    "papermill": {
     "duration": 0.012079,
     "end_time": "2022-12-02T21:49:47.261166",
     "exception": false,
     "start_time": "2022-12-02T21:49:47.249087",
     "status": "completed"
    },
    "tags": []
   },
   "source": [
    "### Count number of tissues available per gene"
   ]
  },
  {
   "cell_type": "code",
   "execution_count": 71,
   "id": "86fe37e1-a303-4221-a12e-3a54a04dd510",
   "metadata": {
    "execution": {
     "iopub.execute_input": "2022-12-02T21:49:47.286014Z",
     "iopub.status.busy": "2022-12-02T21:49:47.285904Z",
     "iopub.status.idle": "2022-12-02T21:49:47.358780Z",
     "shell.execute_reply": "2022-12-02T21:49:47.358353Z"
    },
    "papermill": {
     "duration": 0.086729,
     "end_time": "2022-12-02T21:49:47.360129",
     "exception": false,
     "start_time": "2022-12-02T21:49:47.273400",
     "status": "completed"
    },
    "tags": []
   },
   "outputs": [],
   "source": [
    "spredixcan_genes_n_models = spredixcan_dfs.groupby(\"gene_id\")[\"tissue\"].nunique()"
   ]
  },
  {
   "cell_type": "code",
   "execution_count": 72,
   "id": "31416d48-1e4d-463f-9a5c-34d29803c3f8",
   "metadata": {
    "execution": {
     "iopub.execute_input": "2022-12-02T21:49:47.407717Z",
     "iopub.status.busy": "2022-12-02T21:49:47.407608Z",
     "iopub.status.idle": "2022-12-02T21:49:47.419269Z",
     "shell.execute_reply": "2022-12-02T21:49:47.418915Z"
    },
    "papermill": {
     "duration": 0.036771,
     "end_time": "2022-12-02T21:49:47.420520",
     "exception": false,
     "start_time": "2022-12-02T21:49:47.383749",
     "status": "completed"
    },
    "tags": []
   },
   "outputs": [
    {
     "data": {
      "text/plain": [
       "gene_id\n",
       "ENSG00000000419     2\n",
       "ENSG00000000938    36\n",
       "ENSG00000000971    34\n",
       "ENSG00000001084    32\n",
       "ENSG00000001167    40\n",
       "                   ..\n",
       "ENSG00000278540    36\n",
       "ENSG00000278828     4\n",
       "ENSG00000278845    49\n",
       "ENSG00000281005    49\n",
       "ENSG00000282608    36\n",
       "Name: tissue, Length: 6443, dtype: int64"
      ]
     },
     "execution_count": 72,
     "metadata": {},
     "output_type": "execute_result"
    }
   ],
   "source": [
    "spredixcan_genes_n_models"
   ]
  },
  {
   "cell_type": "code",
   "execution_count": 73,
   "id": "d737ad4f-f821-4546-9a3e-6703fe264b49",
   "metadata": {
    "execution": {
     "iopub.execute_input": "2022-12-02T21:49:47.465328Z",
     "iopub.status.busy": "2022-12-02T21:49:47.464862Z",
     "iopub.status.idle": "2022-12-02T21:49:47.493933Z",
     "shell.execute_reply": "2022-12-02T21:49:47.493377Z"
    },
    "papermill": {
     "duration": 0.050001,
     "end_time": "2022-12-02T21:49:47.494808",
     "exception": false,
     "start_time": "2022-12-02T21:49:47.444807",
     "status": "completed"
    },
    "tags": []
   },
   "outputs": [],
   "source": [
    "# testing that in S-MultiXcan I get the same number of tissues per gene\n",
    "_tmp_smultixcan_results_n_models = (\n",
    "    smultixcan_results.set_index(\"gene_id\")[\"n\"].astype(int).rename(\"tissue\")\n",
    ")\n",
    "\n",
    "_cg = _tmp_smultixcan_results_n_models.index.intersection(\n",
    "    spredixcan_genes_n_models.index\n",
    ")\n",
    "_tmp_smultixcan_results_n_models = _tmp_smultixcan_results_n_models.loc[_cg]\n",
    "_spredixcan = spredixcan_genes_n_models.loc[_cg]\n",
    "\n",
    "assert _spredixcan.shape[0] == _tmp_smultixcan_results_n_models.shape[0]\n",
    "assert _spredixcan.equals(_tmp_smultixcan_results_n_models.loc[_spredixcan.index])"
   ]
  },
  {
   "cell_type": "markdown",
   "id": "904d7d30-9c2d-4c3e-b674-3f081954fe8b",
   "metadata": {
    "papermill": {
     "duration": 0.01228,
     "end_time": "2022-12-02T21:49:47.519456",
     "exception": false,
     "start_time": "2022-12-02T21:49:47.507176",
     "status": "completed"
    },
    "tags": []
   },
   "source": [
    "### Get tissues available per gene"
   ]
  },
  {
   "cell_type": "code",
   "execution_count": 74,
   "id": "cf014e81-4b4e-4c46-9265-67718b3ab08e",
   "metadata": {
    "execution": {
     "iopub.execute_input": "2022-12-02T21:49:47.545614Z",
     "iopub.status.busy": "2022-12-02T21:49:47.545407Z",
     "iopub.status.idle": "2022-12-02T21:49:47.683904Z",
     "shell.execute_reply": "2022-12-02T21:49:47.683469Z"
    },
    "papermill": {
     "duration": 0.153035,
     "end_time": "2022-12-02T21:49:47.684777",
     "exception": false,
     "start_time": "2022-12-02T21:49:47.531742",
     "status": "completed"
    },
    "tags": []
   },
   "outputs": [],
   "source": [
    "spredixcan_genes_models = spredixcan_dfs.groupby(\"gene_id\")[\"tissue\"].apply(\n",
    "    lambda x: frozenset(x.tolist())\n",
    ")"
   ]
  },
  {
   "cell_type": "code",
   "execution_count": 75,
   "id": "5df09d7f-39c9-408f-9fef-5189e8ca1c87",
   "metadata": {
    "execution": {
     "iopub.execute_input": "2022-12-02T21:49:47.710375Z",
     "iopub.status.busy": "2022-12-02T21:49:47.710034Z",
     "iopub.status.idle": "2022-12-02T21:49:47.723154Z",
     "shell.execute_reply": "2022-12-02T21:49:47.722798Z"
    },
    "papermill": {
     "duration": 0.026614,
     "end_time": "2022-12-02T21:49:47.723892",
     "exception": false,
     "start_time": "2022-12-02T21:49:47.697278",
     "status": "completed"
    },
    "tags": []
   },
   "outputs": [
    {
     "data": {
      "text/plain": [
       "gene_id\n",
       "ENSG00000000419         (Brain_Substantia_nigra, Brain_Hypothalamus)\n",
       "ENSG00000000938    (Adipose_Subcutaneous, Artery_Tibial, Brain_Hi...\n",
       "ENSG00000000971    (Brain_Putamen_basal_ganglia, Artery_Tibial, B...\n",
       "ENSG00000001084    (Brain_Putamen_basal_ganglia, Adipose_Subcutan...\n",
       "ENSG00000001167    (Brain_Putamen_basal_ganglia, Adipose_Subcutan...\n",
       "                                         ...                        \n",
       "ENSG00000278540    (Brain_Putamen_basal_ganglia, Artery_Tibial, B...\n",
       "ENSG00000278828    (Artery_Coronary, Cells_EBV-transformed_lympho...\n",
       "ENSG00000278845    (Brain_Putamen_basal_ganglia, Adipose_Subcutan...\n",
       "ENSG00000281005    (Brain_Putamen_basal_ganglia, Adipose_Subcutan...\n",
       "ENSG00000282608    (Brain_Putamen_basal_ganglia, Adipose_Subcutan...\n",
       "Name: tissue, Length: 6443, dtype: object"
      ]
     },
     "execution_count": 75,
     "metadata": {},
     "output_type": "execute_result"
    }
   ],
   "source": [
    "spredixcan_genes_models"
   ]
  },
  {
   "cell_type": "code",
   "execution_count": 76,
   "id": "97c46886-5a48-4813-b890-1dcdb09ec09d",
   "metadata": {
    "execution": {
     "iopub.execute_input": "2022-12-02T21:49:47.749533Z",
     "iopub.status.busy": "2022-12-02T21:49:47.749408Z",
     "iopub.status.idle": "2022-12-02T21:49:47.764881Z",
     "shell.execute_reply": "2022-12-02T21:49:47.764386Z"
    },
    "papermill": {
     "duration": 0.029171,
     "end_time": "2022-12-02T21:49:47.765773",
     "exception": false,
     "start_time": "2022-12-02T21:49:47.736602",
     "status": "completed"
    },
    "tags": []
   },
   "outputs": [],
   "source": [
    "assert spredixcan_genes_n_models.shape[0] == spredixcan_genes_models.shape[0]"
   ]
  },
  {
   "cell_type": "code",
   "execution_count": 77,
   "id": "abc13913-a681-4297-a0e6-dde62f43c36f",
   "metadata": {
    "execution": {
     "iopub.execute_input": "2022-12-02T21:49:47.791626Z",
     "iopub.status.busy": "2022-12-02T21:49:47.791220Z",
     "iopub.status.idle": "2022-12-02T21:49:47.807021Z",
     "shell.execute_reply": "2022-12-02T21:49:47.806531Z"
    },
    "papermill": {
     "duration": 0.029603,
     "end_time": "2022-12-02T21:49:47.807865",
     "exception": false,
     "start_time": "2022-12-02T21:49:47.778262",
     "status": "completed"
    },
    "tags": []
   },
   "outputs": [],
   "source": [
    "assert spredixcan_genes_n_models.index.equals(spredixcan_genes_models.index)"
   ]
  },
  {
   "cell_type": "code",
   "execution_count": 78,
   "id": "995a02e7-b836-471b-b438-17c8c46e4fde",
   "metadata": {
    "execution": {
     "iopub.execute_input": "2022-12-02T21:49:47.834008Z",
     "iopub.status.busy": "2022-12-02T21:49:47.833577Z",
     "iopub.status.idle": "2022-12-02T21:49:47.850846Z",
     "shell.execute_reply": "2022-12-02T21:49:47.850351Z"
    },
    "papermill": {
     "duration": 0.031098,
     "end_time": "2022-12-02T21:49:47.851692",
     "exception": false,
     "start_time": "2022-12-02T21:49:47.820594",
     "status": "completed"
    },
    "tags": []
   },
   "outputs": [],
   "source": [
    "assert (spredixcan_genes_models.apply(len) <= len(prediction_model_tissues)).all()"
   ]
  },
  {
   "cell_type": "code",
   "execution_count": 79,
   "id": "0c1d0c68-1a06-480c-b6d6-d3c4fdf0f5aa",
   "metadata": {
    "execution": {
     "iopub.execute_input": "2022-12-02T21:49:47.877273Z",
     "iopub.status.busy": "2022-12-02T21:49:47.877076Z",
     "iopub.status.idle": "2022-12-02T21:49:47.898604Z",
     "shell.execute_reply": "2022-12-02T21:49:47.898111Z"
    },
    "papermill": {
     "duration": 0.035224,
     "end_time": "2022-12-02T21:49:47.899402",
     "exception": false,
     "start_time": "2022-12-02T21:49:47.864178",
     "status": "completed"
    },
    "tags": []
   },
   "outputs": [
    {
     "data": {
      "text/plain": [
       "count    6443.000000\n",
       "mean       36.562005\n",
       "std        12.886857\n",
       "min         1.000000\n",
       "25%        29.000000\n",
       "50%        42.000000\n",
       "75%        47.000000\n",
       "max        49.000000\n",
       "Name: tissue, dtype: float64"
      ]
     },
     "execution_count": 79,
     "metadata": {},
     "output_type": "execute_result"
    }
   ],
   "source": [
    "spredixcan_genes_models.apply(len).describe()"
   ]
  },
  {
   "cell_type": "code",
   "execution_count": 80,
   "id": "991b9441-6bb5-4b72-9285-5fd579875e40",
   "metadata": {
    "execution": {
     "iopub.execute_input": "2022-12-02T21:49:47.925611Z",
     "iopub.status.busy": "2022-12-02T21:49:47.925243Z",
     "iopub.status.idle": "2022-12-02T21:49:47.945365Z",
     "shell.execute_reply": "2022-12-02T21:49:47.944862Z"
    },
    "papermill": {
     "duration": 0.034152,
     "end_time": "2022-12-02T21:49:47.946270",
     "exception": false,
     "start_time": "2022-12-02T21:49:47.912118",
     "status": "completed"
    },
    "tags": []
   },
   "outputs": [],
   "source": [
    "# testing that I obtained the right number of tissues\n",
    "assert (\n",
    "    spredixcan_genes_models.loc[spredixcan_genes_n_models.index]\n",
    "    .apply(len)\n",
    "    .equals(spredixcan_genes_n_models)\n",
    ")"
   ]
  },
  {
   "cell_type": "markdown",
   "id": "3042b22d-9d88-4e21-b112-ab23cf8d24ea",
   "metadata": {
    "papermill": {
     "duration": 0.012534,
     "end_time": "2022-12-02T21:49:47.971226",
     "exception": false,
     "start_time": "2022-12-02T21:49:47.958692",
     "status": "completed"
    },
    "tags": []
   },
   "source": [
    "### Add gene name and set index"
   ]
  },
  {
   "cell_type": "code",
   "execution_count": 81,
   "id": "3b7b0e76-7aca-44bf-beff-5f1c1b6193ee",
   "metadata": {
    "execution": {
     "iopub.execute_input": "2022-12-02T21:49:47.997531Z",
     "iopub.status.busy": "2022-12-02T21:49:47.997067Z",
     "iopub.status.idle": "2022-12-02T21:49:48.014504Z",
     "shell.execute_reply": "2022-12-02T21:49:48.014012Z"
    },
    "papermill": {
     "duration": 0.03148,
     "end_time": "2022-12-02T21:49:48.015334",
     "exception": false,
     "start_time": "2022-12-02T21:49:47.983854",
     "status": "completed"
    },
    "tags": []
   },
   "outputs": [],
   "source": [
    "spredixcan_genes_models = spredixcan_genes_models.to_frame().reset_index()"
   ]
  },
  {
   "cell_type": "code",
   "execution_count": 82,
   "id": "ffab4b61-c2d4-4bcc-a147-23a4bf30f715",
   "metadata": {
    "execution": {
     "iopub.execute_input": "2022-12-02T21:49:48.041476Z",
     "iopub.status.busy": "2022-12-02T21:49:48.041111Z",
     "iopub.status.idle": "2022-12-02T21:49:48.062219Z",
     "shell.execute_reply": "2022-12-02T21:49:48.061736Z"
    },
    "papermill": {
     "duration": 0.035179,
     "end_time": "2022-12-02T21:49:48.063008",
     "exception": false,
     "start_time": "2022-12-02T21:49:48.027829",
     "status": "completed"
    },
    "tags": []
   },
   "outputs": [
    {
     "data": {
      "text/html": [
       "<div>\n",
       "<style scoped>\n",
       "    .dataframe tbody tr th:only-of-type {\n",
       "        vertical-align: middle;\n",
       "    }\n",
       "\n",
       "    .dataframe tbody tr th {\n",
       "        vertical-align: top;\n",
       "    }\n",
       "\n",
       "    .dataframe thead th {\n",
       "        text-align: right;\n",
       "    }\n",
       "</style>\n",
       "<table border=\"1\" class=\"dataframe\">\n",
       "  <thead>\n",
       "    <tr style=\"text-align: right;\">\n",
       "      <th></th>\n",
       "      <th>gene_id</th>\n",
       "      <th>tissue</th>\n",
       "    </tr>\n",
       "  </thead>\n",
       "  <tbody>\n",
       "    <tr>\n",
       "      <th>0</th>\n",
       "      <td>ENSG00000000419</td>\n",
       "      <td>(Brain_Substantia_nigra, Brain_Hypothalamus)</td>\n",
       "    </tr>\n",
       "    <tr>\n",
       "      <th>1</th>\n",
       "      <td>ENSG00000000938</td>\n",
       "      <td>(Adipose_Subcutaneous, Artery_Tibial, Brain_Hi...</td>\n",
       "    </tr>\n",
       "    <tr>\n",
       "      <th>2</th>\n",
       "      <td>ENSG00000000971</td>\n",
       "      <td>(Brain_Putamen_basal_ganglia, Artery_Tibial, B...</td>\n",
       "    </tr>\n",
       "    <tr>\n",
       "      <th>3</th>\n",
       "      <td>ENSG00000001084</td>\n",
       "      <td>(Brain_Putamen_basal_ganglia, Adipose_Subcutan...</td>\n",
       "    </tr>\n",
       "    <tr>\n",
       "      <th>4</th>\n",
       "      <td>ENSG00000001167</td>\n",
       "      <td>(Brain_Putamen_basal_ganglia, Adipose_Subcutan...</td>\n",
       "    </tr>\n",
       "  </tbody>\n",
       "</table>\n",
       "</div>"
      ],
      "text/plain": [
       "           gene_id                                             tissue\n",
       "0  ENSG00000000419       (Brain_Substantia_nigra, Brain_Hypothalamus)\n",
       "1  ENSG00000000938  (Adipose_Subcutaneous, Artery_Tibial, Brain_Hi...\n",
       "2  ENSG00000000971  (Brain_Putamen_basal_ganglia, Artery_Tibial, B...\n",
       "3  ENSG00000001084  (Brain_Putamen_basal_ganglia, Adipose_Subcutan...\n",
       "4  ENSG00000001167  (Brain_Putamen_basal_ganglia, Adipose_Subcutan..."
      ]
     },
     "execution_count": 82,
     "metadata": {},
     "output_type": "execute_result"
    }
   ],
   "source": [
    "spredixcan_genes_models.head()"
   ]
  },
  {
   "cell_type": "code",
   "execution_count": 83,
   "id": "e1cb2fe5-969f-4526-bca7-a3b8919b3509",
   "metadata": {
    "execution": {
     "iopub.execute_input": "2022-12-02T21:49:48.089242Z",
     "iopub.status.busy": "2022-12-02T21:49:48.089042Z",
     "iopub.status.idle": "2022-12-02T21:49:48.107645Z",
     "shell.execute_reply": "2022-12-02T21:49:48.107132Z"
    },
    "papermill": {
     "duration": 0.032852,
     "end_time": "2022-12-02T21:49:48.108570",
     "exception": false,
     "start_time": "2022-12-02T21:49:48.075718",
     "status": "completed"
    },
    "tags": []
   },
   "outputs": [],
   "source": [
    "spredixcan_genes_models = spredixcan_genes_models.assign(\n",
    "    gene_name=spredixcan_genes_models[\"gene_id\"].apply(\n",
    "        lambda g: Gene.GENE_ID_TO_NAME_MAP[g]\n",
    "    )\n",
    ")"
   ]
  },
  {
   "cell_type": "code",
   "execution_count": 84,
   "id": "ff078ce5-3f18-442e-a593-3326436c758e",
   "metadata": {
    "execution": {
     "iopub.execute_input": "2022-12-02T21:49:48.134995Z",
     "iopub.status.busy": "2022-12-02T21:49:48.134558Z",
     "iopub.status.idle": "2022-12-02T21:49:48.151500Z",
     "shell.execute_reply": "2022-12-02T21:49:48.150997Z"
    },
    "papermill": {
     "duration": 0.031138,
     "end_time": "2022-12-02T21:49:48.152346",
     "exception": false,
     "start_time": "2022-12-02T21:49:48.121208",
     "status": "completed"
    },
    "tags": []
   },
   "outputs": [],
   "source": [
    "spredixcan_genes_models = spredixcan_genes_models[[\"gene_id\", \"gene_name\", \"tissue\"]]"
   ]
  },
  {
   "cell_type": "code",
   "execution_count": 85,
   "id": "a65c8bf2-5ecd-4f80-a857-11f8a0c019c4",
   "metadata": {
    "execution": {
     "iopub.execute_input": "2022-12-02T21:49:48.179158Z",
     "iopub.status.busy": "2022-12-02T21:49:48.178661Z",
     "iopub.status.idle": "2022-12-02T21:49:48.194812Z",
     "shell.execute_reply": "2022-12-02T21:49:48.194315Z"
    },
    "papermill": {
     "duration": 0.030475,
     "end_time": "2022-12-02T21:49:48.195676",
     "exception": false,
     "start_time": "2022-12-02T21:49:48.165201",
     "status": "completed"
    },
    "tags": []
   },
   "outputs": [],
   "source": [
    "spredixcan_genes_models = spredixcan_genes_models.set_index(\"gene_id\")"
   ]
  },
  {
   "cell_type": "code",
   "execution_count": 86,
   "id": "af6b40b9-fc58-47a1-a1b5-4404034b008b",
   "metadata": {
    "execution": {
     "iopub.execute_input": "2022-12-02T21:49:48.222154Z",
     "iopub.status.busy": "2022-12-02T21:49:48.221739Z",
     "iopub.status.idle": "2022-12-02T21:49:48.242654Z",
     "shell.execute_reply": "2022-12-02T21:49:48.242119Z"
    },
    "papermill": {
     "duration": 0.035031,
     "end_time": "2022-12-02T21:49:48.243429",
     "exception": false,
     "start_time": "2022-12-02T21:49:48.208398",
     "status": "completed"
    },
    "tags": []
   },
   "outputs": [
    {
     "data": {
      "text/html": [
       "<div>\n",
       "<style scoped>\n",
       "    .dataframe tbody tr th:only-of-type {\n",
       "        vertical-align: middle;\n",
       "    }\n",
       "\n",
       "    .dataframe tbody tr th {\n",
       "        vertical-align: top;\n",
       "    }\n",
       "\n",
       "    .dataframe thead th {\n",
       "        text-align: right;\n",
       "    }\n",
       "</style>\n",
       "<table border=\"1\" class=\"dataframe\">\n",
       "  <thead>\n",
       "    <tr style=\"text-align: right;\">\n",
       "      <th></th>\n",
       "      <th>gene_name</th>\n",
       "      <th>tissue</th>\n",
       "    </tr>\n",
       "    <tr>\n",
       "      <th>gene_id</th>\n",
       "      <th></th>\n",
       "      <th></th>\n",
       "    </tr>\n",
       "  </thead>\n",
       "  <tbody>\n",
       "    <tr>\n",
       "      <th>ENSG00000000419</th>\n",
       "      <td>DPM1</td>\n",
       "      <td>(Brain_Substantia_nigra, Brain_Hypothalamus)</td>\n",
       "    </tr>\n",
       "    <tr>\n",
       "      <th>ENSG00000000938</th>\n",
       "      <td>FGR</td>\n",
       "      <td>(Adipose_Subcutaneous, Artery_Tibial, Brain_Hi...</td>\n",
       "    </tr>\n",
       "    <tr>\n",
       "      <th>ENSG00000000971</th>\n",
       "      <td>CFH</td>\n",
       "      <td>(Brain_Putamen_basal_ganglia, Artery_Tibial, B...</td>\n",
       "    </tr>\n",
       "    <tr>\n",
       "      <th>ENSG00000001084</th>\n",
       "      <td>GCLC</td>\n",
       "      <td>(Brain_Putamen_basal_ganglia, Adipose_Subcutan...</td>\n",
       "    </tr>\n",
       "    <tr>\n",
       "      <th>ENSG00000001167</th>\n",
       "      <td>NFYA</td>\n",
       "      <td>(Brain_Putamen_basal_ganglia, Adipose_Subcutan...</td>\n",
       "    </tr>\n",
       "  </tbody>\n",
       "</table>\n",
       "</div>"
      ],
      "text/plain": [
       "                gene_name                                             tissue\n",
       "gene_id                                                                     \n",
       "ENSG00000000419      DPM1       (Brain_Substantia_nigra, Brain_Hypothalamus)\n",
       "ENSG00000000938       FGR  (Adipose_Subcutaneous, Artery_Tibial, Brain_Hi...\n",
       "ENSG00000000971       CFH  (Brain_Putamen_basal_ganglia, Artery_Tibial, B...\n",
       "ENSG00000001084      GCLC  (Brain_Putamen_basal_ganglia, Adipose_Subcutan...\n",
       "ENSG00000001167      NFYA  (Brain_Putamen_basal_ganglia, Adipose_Subcutan..."
      ]
     },
     "execution_count": 86,
     "metadata": {},
     "output_type": "execute_result"
    }
   ],
   "source": [
    "spredixcan_genes_models.head()"
   ]
  },
  {
   "cell_type": "markdown",
   "id": "d1e67be9-9094-4a07-b89d-3a0815d503e6",
   "metadata": {
    "papermill": {
     "duration": 0.013024,
     "end_time": "2022-12-02T21:49:48.269401",
     "exception": false,
     "start_time": "2022-12-02T21:49:48.256377",
     "status": "completed"
    },
    "tags": []
   },
   "source": [
    "### Add number of tissues"
   ]
  },
  {
   "cell_type": "code",
   "execution_count": 87,
   "id": "b2702bdb-b3bc-48e6-9c3e-855924d9e74b",
   "metadata": {
    "execution": {
     "iopub.execute_input": "2022-12-02T21:49:48.296054Z",
     "iopub.status.busy": "2022-12-02T21:49:48.295534Z",
     "iopub.status.idle": "2022-12-02T21:49:48.314508Z",
     "shell.execute_reply": "2022-12-02T21:49:48.314012Z"
    },
    "papermill": {
     "duration": 0.033343,
     "end_time": "2022-12-02T21:49:48.315427",
     "exception": false,
     "start_time": "2022-12-02T21:49:48.282084",
     "status": "completed"
    },
    "tags": []
   },
   "outputs": [],
   "source": [
    "spredixcan_genes_models = spredixcan_genes_models.assign(\n",
    "    n_tissues=spredixcan_genes_models[\"tissue\"].apply(len)\n",
    ")"
   ]
  },
  {
   "cell_type": "code",
   "execution_count": 88,
   "id": "4a5eb4b8-5e11-45a3-a991-0515bd83fc03",
   "metadata": {
    "execution": {
     "iopub.execute_input": "2022-12-02T21:49:48.342287Z",
     "iopub.status.busy": "2022-12-02T21:49:48.341819Z",
     "iopub.status.idle": "2022-12-02T21:49:48.363250Z",
     "shell.execute_reply": "2022-12-02T21:49:48.362763Z"
    },
    "papermill": {
     "duration": 0.035679,
     "end_time": "2022-12-02T21:49:48.364085",
     "exception": false,
     "start_time": "2022-12-02T21:49:48.328406",
     "status": "completed"
    },
    "tags": []
   },
   "outputs": [
    {
     "data": {
      "text/html": [
       "<div>\n",
       "<style scoped>\n",
       "    .dataframe tbody tr th:only-of-type {\n",
       "        vertical-align: middle;\n",
       "    }\n",
       "\n",
       "    .dataframe tbody tr th {\n",
       "        vertical-align: top;\n",
       "    }\n",
       "\n",
       "    .dataframe thead th {\n",
       "        text-align: right;\n",
       "    }\n",
       "</style>\n",
       "<table border=\"1\" class=\"dataframe\">\n",
       "  <thead>\n",
       "    <tr style=\"text-align: right;\">\n",
       "      <th></th>\n",
       "      <th>gene_name</th>\n",
       "      <th>tissue</th>\n",
       "      <th>n_tissues</th>\n",
       "    </tr>\n",
       "    <tr>\n",
       "      <th>gene_id</th>\n",
       "      <th></th>\n",
       "      <th></th>\n",
       "      <th></th>\n",
       "    </tr>\n",
       "  </thead>\n",
       "  <tbody>\n",
       "    <tr>\n",
       "      <th>ENSG00000000419</th>\n",
       "      <td>DPM1</td>\n",
       "      <td>(Brain_Substantia_nigra, Brain_Hypothalamus)</td>\n",
       "      <td>2</td>\n",
       "    </tr>\n",
       "    <tr>\n",
       "      <th>ENSG00000000938</th>\n",
       "      <td>FGR</td>\n",
       "      <td>(Adipose_Subcutaneous, Artery_Tibial, Brain_Hi...</td>\n",
       "      <td>36</td>\n",
       "    </tr>\n",
       "    <tr>\n",
       "      <th>ENSG00000000971</th>\n",
       "      <td>CFH</td>\n",
       "      <td>(Brain_Putamen_basal_ganglia, Artery_Tibial, B...</td>\n",
       "      <td>34</td>\n",
       "    </tr>\n",
       "    <tr>\n",
       "      <th>ENSG00000001084</th>\n",
       "      <td>GCLC</td>\n",
       "      <td>(Brain_Putamen_basal_ganglia, Adipose_Subcutan...</td>\n",
       "      <td>32</td>\n",
       "    </tr>\n",
       "    <tr>\n",
       "      <th>ENSG00000001167</th>\n",
       "      <td>NFYA</td>\n",
       "      <td>(Brain_Putamen_basal_ganglia, Adipose_Subcutan...</td>\n",
       "      <td>40</td>\n",
       "    </tr>\n",
       "  </tbody>\n",
       "</table>\n",
       "</div>"
      ],
      "text/plain": [
       "                gene_name                                             tissue  \\\n",
       "gene_id                                                                        \n",
       "ENSG00000000419      DPM1       (Brain_Substantia_nigra, Brain_Hypothalamus)   \n",
       "ENSG00000000938       FGR  (Adipose_Subcutaneous, Artery_Tibial, Brain_Hi...   \n",
       "ENSG00000000971       CFH  (Brain_Putamen_basal_ganglia, Artery_Tibial, B...   \n",
       "ENSG00000001084      GCLC  (Brain_Putamen_basal_ganglia, Adipose_Subcutan...   \n",
       "ENSG00000001167      NFYA  (Brain_Putamen_basal_ganglia, Adipose_Subcutan...   \n",
       "\n",
       "                 n_tissues  \n",
       "gene_id                     \n",
       "ENSG00000000419          2  \n",
       "ENSG00000000938         36  \n",
       "ENSG00000000971         34  \n",
       "ENSG00000001084         32  \n",
       "ENSG00000001167         40  "
      ]
     },
     "execution_count": 88,
     "metadata": {},
     "output_type": "execute_result"
    }
   ],
   "source": [
    "spredixcan_genes_models.head()"
   ]
  },
  {
   "cell_type": "markdown",
   "id": "2abce820-1cb4-4a58-9dc5-b3e37d3ff037",
   "metadata": {
    "papermill": {
     "duration": 0.013061,
     "end_time": "2022-12-02T21:49:48.390180",
     "exception": false,
     "start_time": "2022-12-02T21:49:48.377119",
     "status": "completed"
    },
    "tags": []
   },
   "source": [
    "### Save"
   ]
  },
  {
   "cell_type": "markdown",
   "id": "28462e2a-da49-44c4-ae71-b3830a2b108f",
   "metadata": {
    "papermill": {
     "duration": 0.013037,
     "end_time": "2022-12-02T21:49:48.416271",
     "exception": false,
     "start_time": "2022-12-02T21:49:48.403234",
     "status": "completed"
    },
    "tags": []
   },
   "source": [
    "Here I quickly save these results to a file, given that the next steps (covariates) are slow to compute."
   ]
  },
  {
   "cell_type": "code",
   "execution_count": 89,
   "id": "9cfb687d-5ab2-4e85-9944-f5c685de8046",
   "metadata": {
    "execution": {
     "iopub.execute_input": "2022-12-02T21:49:48.443270Z",
     "iopub.status.busy": "2022-12-02T21:49:48.443072Z",
     "iopub.status.idle": "2022-12-02T21:49:48.459504Z",
     "shell.execute_reply": "2022-12-02T21:49:48.458994Z"
    },
    "papermill": {
     "duration": 0.031048,
     "end_time": "2022-12-02T21:49:48.460425",
     "exception": false,
     "start_time": "2022-12-02T21:49:48.429377",
     "status": "completed"
    },
    "tags": []
   },
   "outputs": [],
   "source": [
    "# this is important, other scripts depend on gene_name to be unique\n",
    "assert spredixcan_genes_models[\"gene_name\"].is_unique"
   ]
  },
  {
   "cell_type": "code",
   "execution_count": 90,
   "id": "b2d9bd26-afaa-4aff-a707-3109e13af9bb",
   "metadata": {
    "execution": {
     "iopub.execute_input": "2022-12-02T21:49:48.487481Z",
     "iopub.status.busy": "2022-12-02T21:49:48.487096Z",
     "iopub.status.idle": "2022-12-02T21:49:48.506716Z",
     "shell.execute_reply": "2022-12-02T21:49:48.506214Z"
    },
    "papermill": {
     "duration": 0.034143,
     "end_time": "2022-12-02T21:49:48.507597",
     "exception": false,
     "start_time": "2022-12-02T21:49:48.473454",
     "status": "completed"
    },
    "tags": []
   },
   "outputs": [],
   "source": [
    "assert not spredixcan_genes_models.isna().any(axis=None)"
   ]
  },
  {
   "cell_type": "code",
   "execution_count": 91,
   "id": "074b103c-2960-4299-a3ac-fa37ab6f2784",
   "metadata": {
    "execution": {
     "iopub.execute_input": "2022-12-02T21:49:48.534851Z",
     "iopub.status.busy": "2022-12-02T21:49:48.534382Z",
     "iopub.status.idle": "2022-12-02T21:49:48.564831Z",
     "shell.execute_reply": "2022-12-02T21:49:48.564234Z"
    },
    "papermill": {
     "duration": 0.04506,
     "end_time": "2022-12-02T21:49:48.565731",
     "exception": false,
     "start_time": "2022-12-02T21:49:48.520671",
     "status": "completed"
    },
    "tags": []
   },
   "outputs": [],
   "source": [
    "spredixcan_genes_models.to_pickle(OUTPUT_DIR_BASE / \"gene_tissues.pkl\")"
   ]
  },
  {
   "cell_type": "markdown",
   "id": "ae18f693-4da8-48ae-85b6-8194abcca684",
   "metadata": {
    "papermill": {
     "duration": 0.012932,
     "end_time": "2022-12-02T21:49:48.591934",
     "exception": false,
     "start_time": "2022-12-02T21:49:48.579002",
     "status": "completed"
    },
    "tags": []
   },
   "source": [
    "## Add covariates based on S-PrediXcan results"
   ]
  },
  {
   "cell_type": "markdown",
   "id": "bed7a46c-4906-40b9-9dd8-0bfb584e6d2a",
   "metadata": {
    "papermill": {
     "duration": 0.013166,
     "end_time": "2022-12-02T21:49:48.618089",
     "exception": false,
     "start_time": "2022-12-02T21:49:48.604923",
     "status": "completed"
    },
    "tags": []
   },
   "source": [
    "This extend the previous file with more columns"
   ]
  },
  {
   "cell_type": "markdown",
   "id": "850c554f-2ace-40a3-a33a-477246bb07c7",
   "metadata": {
    "papermill": {
     "duration": 0.012962,
     "end_time": "2022-12-02T21:49:48.644179",
     "exception": false,
     "start_time": "2022-12-02T21:49:48.631217",
     "status": "completed"
    },
    "tags": []
   },
   "source": [
    "### Get gene's objects"
   ]
  },
  {
   "cell_type": "code",
   "execution_count": 92,
   "id": "dfd93711-5c91-4cb6-8561-f366e270b6b1",
   "metadata": {
    "execution": {
     "iopub.execute_input": "2022-12-02T21:49:48.671580Z",
     "iopub.status.busy": "2022-12-02T21:49:48.671103Z",
     "iopub.status.idle": "2022-12-02T21:49:48.700416Z",
     "shell.execute_reply": "2022-12-02T21:49:48.699852Z"
    },
    "papermill": {
     "duration": 0.044045,
     "end_time": "2022-12-02T21:49:48.701416",
     "exception": false,
     "start_time": "2022-12-02T21:49:48.657371",
     "status": "completed"
    },
    "tags": []
   },
   "outputs": [],
   "source": [
    "spredixcan_gene_obj = {\n",
    "    gene_id: Gene(ensembl_id=gene_id) for gene_id in spredixcan_genes_models.index\n",
    "}"
   ]
  },
  {
   "cell_type": "code",
   "execution_count": 93,
   "id": "59efbedc-0b5d-4d0b-bd82-95e74c0ba793",
   "metadata": {
    "execution": {
     "iopub.execute_input": "2022-12-02T21:49:48.728661Z",
     "iopub.status.busy": "2022-12-02T21:49:48.728218Z",
     "iopub.status.idle": "2022-12-02T21:49:48.745460Z",
     "shell.execute_reply": "2022-12-02T21:49:48.744979Z"
    },
    "papermill": {
     "duration": 0.03173,
     "end_time": "2022-12-02T21:49:48.746288",
     "exception": false,
     "start_time": "2022-12-02T21:49:48.714558",
     "status": "completed"
    },
    "tags": []
   },
   "outputs": [
    {
     "data": {
      "text/plain": [
       "6443"
      ]
     },
     "execution_count": 93,
     "metadata": {},
     "output_type": "execute_result"
    }
   ],
   "source": [
    "len(spredixcan_gene_obj)"
   ]
  },
  {
   "cell_type": "markdown",
   "id": "ab6ff41a-0949-4eea-abef-7dc4f0b373fc",
   "metadata": {
    "papermill": {
     "duration": 0.013036,
     "end_time": "2022-12-02T21:49:48.772565",
     "exception": false,
     "start_time": "2022-12-02T21:49:48.759529",
     "status": "completed"
    },
    "tags": []
   },
   "source": [
    "### Count number of SNPs predictors used across tissue models"
   ]
  },
  {
   "cell_type": "code",
   "execution_count": 94,
   "id": "c8f6cc6f-5812-45c9-b775-6f2193f8a360",
   "metadata": {
    "execution": {
     "iopub.execute_input": "2022-12-02T21:49:48.800162Z",
     "iopub.status.busy": "2022-12-02T21:49:48.799645Z",
     "iopub.status.idle": "2022-12-02T21:49:48.854199Z",
     "shell.execute_reply": "2022-12-02T21:49:48.853631Z"
    },
    "papermill": {
     "duration": 0.069322,
     "end_time": "2022-12-02T21:49:48.855100",
     "exception": false,
     "start_time": "2022-12-02T21:49:48.785778",
     "status": "completed"
    },
    "tags": []
   },
   "outputs": [],
   "source": [
    "spredixcan_genes_sum_of_n_snps_used = (\n",
    "    spredixcan_dfs.groupby(\"gene_id\")[\"n_snps_used\"].sum().rename(\"n_snps_used_sum\")\n",
    ")"
   ]
  },
  {
   "cell_type": "code",
   "execution_count": 95,
   "id": "7255df64-7b9f-4504-a4fa-1f2a9aa56ec0",
   "metadata": {
    "execution": {
     "iopub.execute_input": "2022-12-02T21:49:48.882447Z",
     "iopub.status.busy": "2022-12-02T21:49:48.882105Z",
     "iopub.status.idle": "2022-12-02T21:49:48.900630Z",
     "shell.execute_reply": "2022-12-02T21:49:48.900145Z"
    },
    "papermill": {
     "duration": 0.033112,
     "end_time": "2022-12-02T21:49:48.901470",
     "exception": false,
     "start_time": "2022-12-02T21:49:48.868358",
     "status": "completed"
    },
    "tags": []
   },
   "outputs": [
    {
     "data": {
      "text/plain": [
       "gene_id\n",
       "ENSG00000000419     2\n",
       "ENSG00000000938    40\n",
       "ENSG00000000971    44\n",
       "ENSG00000001084    46\n",
       "ENSG00000001167    47\n",
       "                   ..\n",
       "ENSG00000278540    44\n",
       "ENSG00000278828     5\n",
       "ENSG00000278845    89\n",
       "ENSG00000281005    81\n",
       "ENSG00000282608    40\n",
       "Name: n_snps_used_sum, Length: 6443, dtype: int64"
      ]
     },
     "execution_count": 95,
     "metadata": {},
     "output_type": "execute_result"
    }
   ],
   "source": [
    "spredixcan_genes_sum_of_n_snps_used"
   ]
  },
  {
   "cell_type": "code",
   "execution_count": 96,
   "id": "44bc1222-b334-4ce2-8997-494d0e584cf9",
   "metadata": {
    "execution": {
     "iopub.execute_input": "2022-12-02T21:49:48.929224Z",
     "iopub.status.busy": "2022-12-02T21:49:48.928905Z",
     "iopub.status.idle": "2022-12-02T21:49:48.948265Z",
     "shell.execute_reply": "2022-12-02T21:49:48.947756Z"
    },
    "papermill": {
     "duration": 0.034252,
     "end_time": "2022-12-02T21:49:48.949119",
     "exception": false,
     "start_time": "2022-12-02T21:49:48.914867",
     "status": "completed"
    },
    "tags": []
   },
   "outputs": [],
   "source": [
    "# add sum of snps used to spredixcan_genes_models\n",
    "spredixcan_genes_models = spredixcan_genes_models.join(\n",
    "    spredixcan_genes_sum_of_n_snps_used\n",
    ")"
   ]
  },
  {
   "cell_type": "code",
   "execution_count": 97,
   "id": "5e5e6d7f-b970-4f21-9322-b76bc22afd71",
   "metadata": {
    "execution": {
     "iopub.execute_input": "2022-12-02T21:49:48.976937Z",
     "iopub.status.busy": "2022-12-02T21:49:48.976488Z",
     "iopub.status.idle": "2022-12-02T21:49:48.993597Z",
     "shell.execute_reply": "2022-12-02T21:49:48.993118Z"
    },
    "papermill": {
     "duration": 0.031892,
     "end_time": "2022-12-02T21:49:48.994447",
     "exception": false,
     "start_time": "2022-12-02T21:49:48.962555",
     "status": "completed"
    },
    "tags": []
   },
   "outputs": [
    {
     "data": {
      "text/plain": [
       "(6443, 4)"
      ]
     },
     "execution_count": 97,
     "metadata": {},
     "output_type": "execute_result"
    }
   ],
   "source": [
    "spredixcan_genes_models.shape"
   ]
  },
  {
   "cell_type": "code",
   "execution_count": 98,
   "id": "22c096c2-213a-4001-8454-1633997d404f",
   "metadata": {
    "execution": {
     "iopub.execute_input": "2022-12-02T21:49:49.023397Z",
     "iopub.status.busy": "2022-12-02T21:49:49.023016Z",
     "iopub.status.idle": "2022-12-02T21:49:49.045224Z",
     "shell.execute_reply": "2022-12-02T21:49:49.044731Z"
    },
    "papermill": {
     "duration": 0.037729,
     "end_time": "2022-12-02T21:49:49.046130",
     "exception": false,
     "start_time": "2022-12-02T21:49:49.008401",
     "status": "completed"
    },
    "tags": []
   },
   "outputs": [
    {
     "data": {
      "text/html": [
       "<div>\n",
       "<style scoped>\n",
       "    .dataframe tbody tr th:only-of-type {\n",
       "        vertical-align: middle;\n",
       "    }\n",
       "\n",
       "    .dataframe tbody tr th {\n",
       "        vertical-align: top;\n",
       "    }\n",
       "\n",
       "    .dataframe thead th {\n",
       "        text-align: right;\n",
       "    }\n",
       "</style>\n",
       "<table border=\"1\" class=\"dataframe\">\n",
       "  <thead>\n",
       "    <tr style=\"text-align: right;\">\n",
       "      <th></th>\n",
       "      <th>gene_name</th>\n",
       "      <th>tissue</th>\n",
       "      <th>n_tissues</th>\n",
       "      <th>n_snps_used_sum</th>\n",
       "    </tr>\n",
       "    <tr>\n",
       "      <th>gene_id</th>\n",
       "      <th></th>\n",
       "      <th></th>\n",
       "      <th></th>\n",
       "      <th></th>\n",
       "    </tr>\n",
       "  </thead>\n",
       "  <tbody>\n",
       "    <tr>\n",
       "      <th>ENSG00000000419</th>\n",
       "      <td>DPM1</td>\n",
       "      <td>(Brain_Substantia_nigra, Brain_Hypothalamus)</td>\n",
       "      <td>2</td>\n",
       "      <td>2</td>\n",
       "    </tr>\n",
       "    <tr>\n",
       "      <th>ENSG00000000938</th>\n",
       "      <td>FGR</td>\n",
       "      <td>(Adipose_Subcutaneous, Artery_Tibial, Brain_Hi...</td>\n",
       "      <td>36</td>\n",
       "      <td>40</td>\n",
       "    </tr>\n",
       "    <tr>\n",
       "      <th>ENSG00000000971</th>\n",
       "      <td>CFH</td>\n",
       "      <td>(Brain_Putamen_basal_ganglia, Artery_Tibial, B...</td>\n",
       "      <td>34</td>\n",
       "      <td>44</td>\n",
       "    </tr>\n",
       "    <tr>\n",
       "      <th>ENSG00000001084</th>\n",
       "      <td>GCLC</td>\n",
       "      <td>(Brain_Putamen_basal_ganglia, Adipose_Subcutan...</td>\n",
       "      <td>32</td>\n",
       "      <td>46</td>\n",
       "    </tr>\n",
       "    <tr>\n",
       "      <th>ENSG00000001167</th>\n",
       "      <td>NFYA</td>\n",
       "      <td>(Brain_Putamen_basal_ganglia, Adipose_Subcutan...</td>\n",
       "      <td>40</td>\n",
       "      <td>47</td>\n",
       "    </tr>\n",
       "  </tbody>\n",
       "</table>\n",
       "</div>"
      ],
      "text/plain": [
       "                gene_name                                             tissue  \\\n",
       "gene_id                                                                        \n",
       "ENSG00000000419      DPM1       (Brain_Substantia_nigra, Brain_Hypothalamus)   \n",
       "ENSG00000000938       FGR  (Adipose_Subcutaneous, Artery_Tibial, Brain_Hi...   \n",
       "ENSG00000000971       CFH  (Brain_Putamen_basal_ganglia, Artery_Tibial, B...   \n",
       "ENSG00000001084      GCLC  (Brain_Putamen_basal_ganglia, Adipose_Subcutan...   \n",
       "ENSG00000001167      NFYA  (Brain_Putamen_basal_ganglia, Adipose_Subcutan...   \n",
       "\n",
       "                 n_tissues  n_snps_used_sum  \n",
       "gene_id                                      \n",
       "ENSG00000000419          2                2  \n",
       "ENSG00000000938         36               40  \n",
       "ENSG00000000971         34               44  \n",
       "ENSG00000001084         32               46  \n",
       "ENSG00000001167         40               47  "
      ]
     },
     "execution_count": 98,
     "metadata": {},
     "output_type": "execute_result"
    }
   ],
   "source": [
    "spredixcan_genes_models.head()"
   ]
  },
  {
   "cell_type": "markdown",
   "id": "f4692315-d7be-465e-b756-f6d76fec949e",
   "metadata": {
    "papermill": {
     "duration": 0.013786,
     "end_time": "2022-12-02T21:49:49.074257",
     "exception": false,
     "start_time": "2022-12-02T21:49:49.060471",
     "status": "completed"
    },
    "tags": []
   },
   "source": [
    "### Count number of SNPs predictors in models across tissue models"
   ]
  },
  {
   "cell_type": "code",
   "execution_count": 99,
   "id": "08eed385-36eb-4e42-b28e-51333f9cfcd3",
   "metadata": {
    "execution": {
     "iopub.execute_input": "2022-12-02T21:49:49.102874Z",
     "iopub.status.busy": "2022-12-02T21:49:49.102462Z",
     "iopub.status.idle": "2022-12-02T21:49:49.156608Z",
     "shell.execute_reply": "2022-12-02T21:49:49.156050Z"
    },
    "papermill": {
     "duration": 0.069237,
     "end_time": "2022-12-02T21:49:49.157594",
     "exception": false,
     "start_time": "2022-12-02T21:49:49.088357",
     "status": "completed"
    },
    "tags": []
   },
   "outputs": [],
   "source": [
    "spredixcan_genes_sum_of_n_snps_in_model = (\n",
    "    spredixcan_dfs.groupby(\"gene_id\")[\"n_snps_in_model\"]\n",
    "    .sum()\n",
    "    .rename(\"n_snps_in_model_sum\")\n",
    ")"
   ]
  },
  {
   "cell_type": "code",
   "execution_count": 100,
   "id": "10431f5c-1f56-4664-a09f-53c608bec631",
   "metadata": {
    "execution": {
     "iopub.execute_input": "2022-12-02T21:49:49.185671Z",
     "iopub.status.busy": "2022-12-02T21:49:49.185242Z",
     "iopub.status.idle": "2022-12-02T21:49:49.203883Z",
     "shell.execute_reply": "2022-12-02T21:49:49.203398Z"
    },
    "papermill": {
     "duration": 0.033515,
     "end_time": "2022-12-02T21:49:49.204693",
     "exception": false,
     "start_time": "2022-12-02T21:49:49.171178",
     "status": "completed"
    },
    "tags": []
   },
   "outputs": [
    {
     "data": {
      "text/plain": [
       "gene_id\n",
       "ENSG00000000419     2\n",
       "ENSG00000000938    40\n",
       "ENSG00000000971    44\n",
       "ENSG00000001084    46\n",
       "ENSG00000001167    48\n",
       "                   ..\n",
       "ENSG00000278540    44\n",
       "ENSG00000278828     5\n",
       "ENSG00000278845    91\n",
       "ENSG00000281005    81\n",
       "ENSG00000282608    40\n",
       "Name: n_snps_in_model_sum, Length: 6443, dtype: int64"
      ]
     },
     "execution_count": 100,
     "metadata": {},
     "output_type": "execute_result"
    }
   ],
   "source": [
    "spredixcan_genes_sum_of_n_snps_in_model"
   ]
  },
  {
   "cell_type": "code",
   "execution_count": 101,
   "id": "d13e1d65-0dcb-4a94-aba8-bcdcd09d17c3",
   "metadata": {
    "execution": {
     "iopub.execute_input": "2022-12-02T21:49:49.233005Z",
     "iopub.status.busy": "2022-12-02T21:49:49.232470Z",
     "iopub.status.idle": "2022-12-02T21:49:49.250823Z",
     "shell.execute_reply": "2022-12-02T21:49:49.250292Z"
    },
    "papermill": {
     "duration": 0.033352,
     "end_time": "2022-12-02T21:49:49.251664",
     "exception": false,
     "start_time": "2022-12-02T21:49:49.218312",
     "status": "completed"
    },
    "tags": []
   },
   "outputs": [],
   "source": [
    "# add sum of snps in model to spredixcan_genes_models\n",
    "spredixcan_genes_models = spredixcan_genes_models.join(\n",
    "    spredixcan_genes_sum_of_n_snps_in_model\n",
    ")"
   ]
  },
  {
   "cell_type": "code",
   "execution_count": 102,
   "id": "0d3973d8-5da2-4c9d-b406-2525f615035c",
   "metadata": {
    "execution": {
     "iopub.execute_input": "2022-12-02T21:49:49.279821Z",
     "iopub.status.busy": "2022-12-02T21:49:49.279397Z",
     "iopub.status.idle": "2022-12-02T21:49:49.295856Z",
     "shell.execute_reply": "2022-12-02T21:49:49.295380Z"
    },
    "papermill": {
     "duration": 0.031428,
     "end_time": "2022-12-02T21:49:49.296662",
     "exception": false,
     "start_time": "2022-12-02T21:49:49.265234",
     "status": "completed"
    },
    "tags": []
   },
   "outputs": [
    {
     "data": {
      "text/plain": [
       "(6443, 5)"
      ]
     },
     "execution_count": 102,
     "metadata": {},
     "output_type": "execute_result"
    }
   ],
   "source": [
    "spredixcan_genes_models.shape"
   ]
  },
  {
   "cell_type": "code",
   "execution_count": 103,
   "id": "76c27f05-c5c6-4ed9-9363-fcba871a3572",
   "metadata": {
    "execution": {
     "iopub.execute_input": "2022-12-02T21:49:49.325311Z",
     "iopub.status.busy": "2022-12-02T21:49:49.324791Z",
     "iopub.status.idle": "2022-12-02T21:49:49.346029Z",
     "shell.execute_reply": "2022-12-02T21:49:49.345546Z"
    },
    "papermill": {
     "duration": 0.036361,
     "end_time": "2022-12-02T21:49:49.346877",
     "exception": false,
     "start_time": "2022-12-02T21:49:49.310516",
     "status": "completed"
    },
    "tags": []
   },
   "outputs": [
    {
     "data": {
      "text/html": [
       "<div>\n",
       "<style scoped>\n",
       "    .dataframe tbody tr th:only-of-type {\n",
       "        vertical-align: middle;\n",
       "    }\n",
       "\n",
       "    .dataframe tbody tr th {\n",
       "        vertical-align: top;\n",
       "    }\n",
       "\n",
       "    .dataframe thead th {\n",
       "        text-align: right;\n",
       "    }\n",
       "</style>\n",
       "<table border=\"1\" class=\"dataframe\">\n",
       "  <thead>\n",
       "    <tr style=\"text-align: right;\">\n",
       "      <th></th>\n",
       "      <th>gene_name</th>\n",
       "      <th>tissue</th>\n",
       "      <th>n_tissues</th>\n",
       "      <th>n_snps_used_sum</th>\n",
       "      <th>n_snps_in_model_sum</th>\n",
       "    </tr>\n",
       "    <tr>\n",
       "      <th>gene_id</th>\n",
       "      <th></th>\n",
       "      <th></th>\n",
       "      <th></th>\n",
       "      <th></th>\n",
       "      <th></th>\n",
       "    </tr>\n",
       "  </thead>\n",
       "  <tbody>\n",
       "    <tr>\n",
       "      <th>ENSG00000000419</th>\n",
       "      <td>DPM1</td>\n",
       "      <td>(Brain_Substantia_nigra, Brain_Hypothalamus)</td>\n",
       "      <td>2</td>\n",
       "      <td>2</td>\n",
       "      <td>2</td>\n",
       "    </tr>\n",
       "    <tr>\n",
       "      <th>ENSG00000000938</th>\n",
       "      <td>FGR</td>\n",
       "      <td>(Adipose_Subcutaneous, Artery_Tibial, Brain_Hi...</td>\n",
       "      <td>36</td>\n",
       "      <td>40</td>\n",
       "      <td>40</td>\n",
       "    </tr>\n",
       "    <tr>\n",
       "      <th>ENSG00000000971</th>\n",
       "      <td>CFH</td>\n",
       "      <td>(Brain_Putamen_basal_ganglia, Artery_Tibial, B...</td>\n",
       "      <td>34</td>\n",
       "      <td>44</td>\n",
       "      <td>44</td>\n",
       "    </tr>\n",
       "    <tr>\n",
       "      <th>ENSG00000001084</th>\n",
       "      <td>GCLC</td>\n",
       "      <td>(Brain_Putamen_basal_ganglia, Adipose_Subcutan...</td>\n",
       "      <td>32</td>\n",
       "      <td>46</td>\n",
       "      <td>46</td>\n",
       "    </tr>\n",
       "    <tr>\n",
       "      <th>ENSG00000001167</th>\n",
       "      <td>NFYA</td>\n",
       "      <td>(Brain_Putamen_basal_ganglia, Adipose_Subcutan...</td>\n",
       "      <td>40</td>\n",
       "      <td>47</td>\n",
       "      <td>48</td>\n",
       "    </tr>\n",
       "  </tbody>\n",
       "</table>\n",
       "</div>"
      ],
      "text/plain": [
       "                gene_name                                             tissue  \\\n",
       "gene_id                                                                        \n",
       "ENSG00000000419      DPM1       (Brain_Substantia_nigra, Brain_Hypothalamus)   \n",
       "ENSG00000000938       FGR  (Adipose_Subcutaneous, Artery_Tibial, Brain_Hi...   \n",
       "ENSG00000000971       CFH  (Brain_Putamen_basal_ganglia, Artery_Tibial, B...   \n",
       "ENSG00000001084      GCLC  (Brain_Putamen_basal_ganglia, Adipose_Subcutan...   \n",
       "ENSG00000001167      NFYA  (Brain_Putamen_basal_ganglia, Adipose_Subcutan...   \n",
       "\n",
       "                 n_tissues  n_snps_used_sum  n_snps_in_model_sum  \n",
       "gene_id                                                           \n",
       "ENSG00000000419          2                2                    2  \n",
       "ENSG00000000938         36               40                   40  \n",
       "ENSG00000000971         34               44                   44  \n",
       "ENSG00000001084         32               46                   46  \n",
       "ENSG00000001167         40               47                   48  "
      ]
     },
     "execution_count": 103,
     "metadata": {},
     "output_type": "execute_result"
    }
   ],
   "source": [
    "spredixcan_genes_models.head()"
   ]
  },
  {
   "cell_type": "markdown",
   "id": "d6947d45-ea78-4c6b-bf71-f7413d1687e3",
   "metadata": {
    "papermill": {
     "duration": 0.013733,
     "end_time": "2022-12-02T21:49:49.374416",
     "exception": false,
     "start_time": "2022-12-02T21:49:49.360683",
     "status": "completed"
    },
    "tags": []
   },
   "source": [
    "### Save"
   ]
  },
  {
   "cell_type": "code",
   "execution_count": 104,
   "id": "ebc3a430-7bd5-4099-8b01-aa77e704e3e7",
   "metadata": {
    "execution": {
     "iopub.execute_input": "2022-12-02T21:49:49.404115Z",
     "iopub.status.busy": "2022-12-02T21:49:49.403813Z",
     "iopub.status.idle": "2022-12-02T21:49:49.420653Z",
     "shell.execute_reply": "2022-12-02T21:49:49.420012Z"
    },
    "papermill": {
     "duration": 0.033324,
     "end_time": "2022-12-02T21:49:49.421552",
     "exception": false,
     "start_time": "2022-12-02T21:49:49.388228",
     "status": "completed"
    },
    "tags": []
   },
   "outputs": [],
   "source": [
    "# this is important, other scripts depend on gene_name to be unique\n",
    "assert spredixcan_genes_models[\"gene_name\"].is_unique"
   ]
  },
  {
   "cell_type": "code",
   "execution_count": 105,
   "id": "e2db5302-3051-4492-97e1-e759d2fb512f",
   "metadata": {
    "execution": {
     "iopub.execute_input": "2022-12-02T21:49:49.450968Z",
     "iopub.status.busy": "2022-12-02T21:49:49.450395Z",
     "iopub.status.idle": "2022-12-02T21:49:49.469380Z",
     "shell.execute_reply": "2022-12-02T21:49:49.468862Z"
    },
    "papermill": {
     "duration": 0.034576,
     "end_time": "2022-12-02T21:49:49.470244",
     "exception": false,
     "start_time": "2022-12-02T21:49:49.435668",
     "status": "completed"
    },
    "tags": []
   },
   "outputs": [],
   "source": [
    "assert not spredixcan_genes_models.isna().any(axis=None)"
   ]
  },
  {
   "cell_type": "code",
   "execution_count": 106,
   "id": "10e19441-8390-4eb1-8da4-24752597bb54",
   "metadata": {
    "execution": {
     "iopub.execute_input": "2022-12-02T21:49:49.499059Z",
     "iopub.status.busy": "2022-12-02T21:49:49.498705Z",
     "iopub.status.idle": "2022-12-02T21:49:49.529542Z",
     "shell.execute_reply": "2022-12-02T21:49:49.528984Z"
    },
    "papermill": {
     "duration": 0.046182,
     "end_time": "2022-12-02T21:49:49.530437",
     "exception": false,
     "start_time": "2022-12-02T21:49:49.484255",
     "status": "completed"
    },
    "tags": []
   },
   "outputs": [],
   "source": [
    "spredixcan_genes_models.to_pickle(OUTPUT_DIR_BASE / \"gene_tissues.pkl\")"
   ]
  },
  {
   "cell_type": "code",
   "execution_count": null,
   "id": "b25e3ead",
   "metadata": {
    "papermill": {
     "duration": 0.014025,
     "end_time": "2022-12-02T21:49:49.558190",
     "exception": false,
     "start_time": "2022-12-02T21:49:49.544165",
     "status": "completed"
    },
    "tags": []
   },
   "outputs": [],
   "source": []
  }
 ],
 "metadata": {
  "jupytext": {
   "cell_metadata_filter": "all,-execution,-papermill,-trusted",
   "formats": "ipynb,py//py:percent"
  },
  "kernelspec": {
   "display_name": "Python 3 (ipykernel)",
   "language": "python",
   "name": "python3"
  },
  "language_info": {
   "codemirror_mode": {
    "name": "ipython",
    "version": 3
   },
   "file_extension": ".py",
   "mimetype": "text/x-python",
   "name": "python",
   "nbconvert_exporter": "python",
   "pygments_lexer": "ipython3",
   "version": "3.10.6"
  },
  "papermill": {
   "default_parameters": {},
   "duration": 46.038927,
   "end_time": "2022-12-02T21:49:50.492904",
   "environment_variables": {},
   "exception": null,
   "input_path": "projects/asthma-copd/nbs/20_gene_corrs/jobs/01-compile_gwas_snps_and_twas_genes.ipynb",
   "output_path": "projects/asthma-copd/nbs/20_gene_corrs/jobs/../output/asthma_only/01-compile_gwas_snps_and_twas_genes.run.ipynb",
   "parameters": {
    "COHORT_NAME": "asthma_only",
    "GWAS_FILE": "/opt/data/projects/asthma-copd/results/final_imputed_gwas/GWAS_Asthma_only_GLM_SNPs_info0.7-harmonized-imputed.txt.gz",
    "OUTPUT_DIR_BASE": "/opt/data/projects/asthma-copd/results/gls_phenoplier",
    "PHENOPLIER_NOTEBOOK_FILEPATH": "projects/asthma-copd/nbs/20_gene_corrs/jobs/01-compile_gwas_snps_and_twas_genes.ipynb",
    "SMULTIXCAN_FILE": "/opt/data/projects/asthma-copd/results/twas/smultixcan/GWAS_Asthma_only_GLM_SNPs_info0.7-gtex_v8-mashr-smultixcan.txt",
    "SPREDIXCAN_FILE_PATTERN": "GWAS_Asthma_only_GLM_SNPs_info0.7-gtex_v8-mashr-{tissue}.csv",
    "SPREDIXCAN_FOLDER": "/opt/data/projects/asthma-copd/results/twas/spredixcan"
   },
   "start_time": "2022-12-02T21:49:04.453977",
   "version": "2.2.2"
  },
  "toc-autonumbering": true
 },
 "nbformat": 4,
 "nbformat_minor": 5
}
