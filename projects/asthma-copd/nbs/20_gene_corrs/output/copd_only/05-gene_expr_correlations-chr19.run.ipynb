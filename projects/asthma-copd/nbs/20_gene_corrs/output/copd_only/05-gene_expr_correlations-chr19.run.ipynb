{
 "cells": [
  {
   "cell_type": "markdown",
   "id": "7a6632fb",
   "metadata": {
    "papermill": {
     "duration": 0.009016,
     "end_time": "2022-12-05T17:12:49.041369",
     "exception": false,
     "start_time": "2022-12-05T17:12:49.032353",
     "status": "completed"
    },
    "tags": []
   },
   "source": [
    "# Description"
   ]
  },
  {
   "cell_type": "markdown",
   "id": "7097c346",
   "metadata": {
    "papermill": {
     "duration": 0.008688,
     "end_time": "2022-12-05T17:12:49.058309",
     "exception": false,
     "start_time": "2022-12-05T17:12:49.049621",
     "status": "completed"
    },
    "tags": []
   },
   "source": [
    "(Please, take a look at the README.md file in this directory for instructions on how to run this notebook)\n",
    "\n",
    "This notebook computes predicted expression correlations between all genes in the MultiPLIER models.\n",
    "\n",
    "It has specicfic parameters for papermill (see under `Settings` below).\n",
    "It can be configured to run on a single chromosome to run in parallel.\n",
    "\n",
    "This notebook is not directly run. See README.md."
   ]
  },
  {
   "cell_type": "markdown",
   "id": "c61d8427",
   "metadata": {
    "papermill": {
     "duration": 0.008027,
     "end_time": "2022-12-05T17:12:49.074600",
     "exception": false,
     "start_time": "2022-12-05T17:12:49.066573",
     "status": "completed"
    },
    "tags": []
   },
   "source": [
    "# Modules"
   ]
  },
  {
   "cell_type": "code",
   "execution_count": 1,
   "id": "bbc0234f",
   "metadata": {
    "execution": {
     "iopub.execute_input": "2022-12-05T17:12:49.093121Z",
     "iopub.status.busy": "2022-12-05T17:12:49.092764Z",
     "iopub.status.idle": "2022-12-05T17:12:49.111487Z",
     "shell.execute_reply": "2022-12-05T17:12:49.110890Z"
    },
    "papermill": {
     "duration": 0.029401,
     "end_time": "2022-12-05T17:12:49.113215",
     "exception": false,
     "start_time": "2022-12-05T17:12:49.083814",
     "status": "completed"
    },
    "tags": []
   },
   "outputs": [],
   "source": [
    "%load_ext autoreload\n",
    "%autoreload 2"
   ]
  },
  {
   "cell_type": "code",
   "execution_count": 2,
   "id": "1d5f5a59",
   "metadata": {
    "execution": {
     "iopub.execute_input": "2022-12-05T17:12:49.130991Z",
     "iopub.status.busy": "2022-12-05T17:12:49.130709Z",
     "iopub.status.idle": "2022-12-05T17:12:49.817171Z",
     "shell.execute_reply": "2022-12-05T17:12:49.816609Z"
    },
    "papermill": {
     "duration": 0.697238,
     "end_time": "2022-12-05T17:12:49.818733",
     "exception": false,
     "start_time": "2022-12-05T17:12:49.121495",
     "status": "completed"
    },
    "tags": []
   },
   "outputs": [],
   "source": [
    "from random import sample, seed\n",
    "import warnings\n",
    "from pathlib import Path\n",
    "import pickle\n",
    "import traceback\n",
    "\n",
    "import numpy as np\n",
    "from scipy.spatial.distance import squareform\n",
    "import pandas as pd\n",
    "from tqdm import tqdm\n",
    "import matplotlib.pyplot as plt\n",
    "import seaborn as sns\n",
    "\n",
    "import conf\n",
    "from entity import Gene"
   ]
  },
  {
   "cell_type": "markdown",
   "id": "1eac24b5",
   "metadata": {
    "papermill": {
     "duration": 0.009782,
     "end_time": "2022-12-05T17:12:49.836688",
     "exception": false,
     "start_time": "2022-12-05T17:12:49.826906",
     "status": "completed"
    },
    "tags": []
   },
   "source": [
    "# Settings"
   ]
  },
  {
   "cell_type": "code",
   "execution_count": 3,
   "id": "ca4560ba",
   "metadata": {
    "execution": {
     "iopub.execute_input": "2022-12-05T17:12:49.853656Z",
     "iopub.status.busy": "2022-12-05T17:12:49.853533Z",
     "iopub.status.idle": "2022-12-05T17:12:49.866448Z",
     "shell.execute_reply": "2022-12-05T17:12:49.865982Z"
    },
    "papermill": {
     "duration": 0.023157,
     "end_time": "2022-12-05T17:12:49.867639",
     "exception": false,
     "start_time": "2022-12-05T17:12:49.844482",
     "status": "completed"
    },
    "tags": [
     "parameters"
    ]
   },
   "outputs": [],
   "source": [
    "# a cohort name (it could be something like UK_BIOBANK, etc)\n",
    "COHORT_NAME = None\n",
    "\n",
    "# reference panel such as 1000G or GTEX_V8\n",
    "REFERENCE_PANEL = \"GTEX_V8\"\n",
    "\n",
    "# predictions models such as MASHR or ELASTIC_NET\n",
    "EQTL_MODEL = \"MASHR\"\n",
    "\n",
    "# this is the default value used in S-MultiXcan to select the\n",
    "# top principal components of the expression correlation matrix\n",
    "SMULTIXCAN_CONDITION_NUMBER = 30\n",
    "\n",
    "# specifies a single chromosome value\n",
    "CHROMOSOME = None\n",
    "\n",
    "# If True, computes the correlation between closeby genes only (see\n",
    "# entity.Gene.within_distance for more details). Otherwise, it computes\n",
    "# correlations for all genes in a chromosome\n",
    "COMPUTE_CORRELATIONS_WITHIN_DISTANCE = True\n",
    "\n",
    "# if True, then it will continue if a gene pair correlation fails,\n",
    "# printing the warning/error for debugging. If False, any warning/error\n",
    "# will be thrown\n",
    "DEBUG_MODE = False\n",
    "\n",
    "# output dir\n",
    "OUTPUT_DIR_BASE = None"
   ]
  },
  {
   "cell_type": "code",
   "execution_count": 4,
   "id": "17179915",
   "metadata": {
    "execution": {
     "iopub.execute_input": "2022-12-05T17:12:49.884996Z",
     "iopub.status.busy": "2022-12-05T17:12:49.884545Z",
     "iopub.status.idle": "2022-12-05T17:12:49.896748Z",
     "shell.execute_reply": "2022-12-05T17:12:49.896282Z"
    },
    "papermill": {
     "duration": 0.022306,
     "end_time": "2022-12-05T17:12:49.897937",
     "exception": false,
     "start_time": "2022-12-05T17:12:49.875631",
     "status": "completed"
    },
    "tags": [
     "injected-parameters"
    ]
   },
   "outputs": [],
   "source": [
    "# Parameters\n",
    "PHENOPLIER_NOTEBOOK_FILEPATH = (\n",
    "    \"projects/asthma-copd/nbs/20_gene_corrs/jobs/05-gene_expr_correlations.ipynb\"\n",
    ")\n",
    "COHORT_NAME = \"copd_only\"\n",
    "CHROMOSOME = 19\n",
    "OUTPUT_DIR_BASE = \"/opt/data/projects/asthma-copd/results/gls_phenoplier\"\n"
   ]
  },
  {
   "cell_type": "code",
   "execution_count": 5,
   "id": "3190631f-27fc-480f-b18e-571d580425a5",
   "metadata": {
    "execution": {
     "iopub.execute_input": "2022-12-05T17:12:49.910851Z",
     "iopub.status.busy": "2022-12-05T17:12:49.910733Z",
     "iopub.status.idle": "2022-12-05T17:12:49.926127Z",
     "shell.execute_reply": "2022-12-05T17:12:49.925672Z"
    },
    "papermill": {
     "duration": 0.022949,
     "end_time": "2022-12-05T17:12:49.927192",
     "exception": false,
     "start_time": "2022-12-05T17:12:49.904243",
     "status": "completed"
    },
    "tags": []
   },
   "outputs": [
    {
     "data": {
      "text/plain": [
       "'Cohort name: copd_only'"
      ]
     },
     "metadata": {},
     "output_type": "display_data"
    }
   ],
   "source": [
    "assert COHORT_NAME is not None and len(COHORT_NAME) > 0, \"A cohort name must be given\"\n",
    "\n",
    "COHORT_NAME = COHORT_NAME.lower()\n",
    "display(f\"Cohort name: {COHORT_NAME}\")"
   ]
  },
  {
   "cell_type": "code",
   "execution_count": 6,
   "id": "f53ba19b-0f93-4fa2-a047-63b375939d1a",
   "metadata": {
    "execution": {
     "iopub.execute_input": "2022-12-05T17:12:49.942939Z",
     "iopub.status.busy": "2022-12-05T17:12:49.942729Z",
     "iopub.status.idle": "2022-12-05T17:12:49.955841Z",
     "shell.execute_reply": "2022-12-05T17:12:49.955396Z"
    },
    "papermill": {
     "duration": 0.023335,
     "end_time": "2022-12-05T17:12:49.957196",
     "exception": false,
     "start_time": "2022-12-05T17:12:49.933861",
     "status": "completed"
    },
    "tags": []
   },
   "outputs": [
    {
     "data": {
      "text/plain": [
       "'Reference panel: GTEX_V8'"
      ]
     },
     "metadata": {},
     "output_type": "display_data"
    }
   ],
   "source": [
    "assert (\n",
    "    REFERENCE_PANEL is not None and len(REFERENCE_PANEL) > 0\n",
    "), \"A reference panel must be given\"\n",
    "\n",
    "display(f\"Reference panel: {REFERENCE_PANEL}\")"
   ]
  },
  {
   "cell_type": "code",
   "execution_count": 7,
   "id": "e024d130-c139-429a-9c6e-ccf149e297b0",
   "metadata": {
    "execution": {
     "iopub.execute_input": "2022-12-05T17:12:49.973812Z",
     "iopub.status.busy": "2022-12-05T17:12:49.973697Z",
     "iopub.status.idle": "2022-12-05T17:12:49.986523Z",
     "shell.execute_reply": "2022-12-05T17:12:49.985981Z"
    },
    "papermill": {
     "duration": 0.02253,
     "end_time": "2022-12-05T17:12:49.987798",
     "exception": false,
     "start_time": "2022-12-05T17:12:49.965268",
     "status": "completed"
    },
    "tags": []
   },
   "outputs": [
    {
     "data": {
      "text/plain": [
       "'eQTL model: MASHR) / mashr_'"
      ]
     },
     "metadata": {},
     "output_type": "display_data"
    }
   ],
   "source": [
    "assert (\n",
    "    EQTL_MODEL is not None and len(EQTL_MODEL) > 0\n",
    "), \"A prediction/eQTL model must be given\"\n",
    "\n",
    "EQTL_MODEL_FILES_PREFIX = conf.PHENOMEXCAN[\"PREDICTION_MODELS\"][f\"{EQTL_MODEL}_PREFIX\"]\n",
    "display(f\"eQTL model: {EQTL_MODEL}) / {EQTL_MODEL_FILES_PREFIX}\")"
   ]
  },
  {
   "cell_type": "code",
   "execution_count": 8,
   "id": "552a7f63-a18c-4d3e-bb6a-94f99b431291",
   "metadata": {
    "execution": {
     "iopub.execute_input": "2022-12-05T17:12:50.004802Z",
     "iopub.status.busy": "2022-12-05T17:12:50.004602Z",
     "iopub.status.idle": "2022-12-05T17:12:50.017596Z",
     "shell.execute_reply": "2022-12-05T17:12:50.017135Z"
    },
    "papermill": {
     "duration": 0.022842,
     "end_time": "2022-12-05T17:12:50.018859",
     "exception": false,
     "start_time": "2022-12-05T17:12:49.996017",
     "status": "completed"
    },
    "tags": []
   },
   "outputs": [
    {
     "data": {
      "text/plain": [
       "'S-MultiXcan condition number: 30'"
      ]
     },
     "metadata": {},
     "output_type": "display_data"
    }
   ],
   "source": [
    "assert (\n",
    "    SMULTIXCAN_CONDITION_NUMBER is not None and SMULTIXCAN_CONDITION_NUMBER > 0\n",
    "), \"The S-MultiXcan condition number (positive integer) must be given\"\n",
    "\n",
    "display(f\"S-MultiXcan condition number: {SMULTIXCAN_CONDITION_NUMBER}\")"
   ]
  },
  {
   "cell_type": "code",
   "execution_count": 9,
   "id": "f34a336f-548e-4afe-8955-90eaea4f42c6",
   "metadata": {
    "execution": {
     "iopub.execute_input": "2022-12-05T17:12:50.036594Z",
     "iopub.status.busy": "2022-12-05T17:12:50.036401Z",
     "iopub.status.idle": "2022-12-05T17:12:50.048907Z",
     "shell.execute_reply": "2022-12-05T17:12:50.048434Z"
    },
    "papermill": {
     "duration": 0.022633,
     "end_time": "2022-12-05T17:12:50.050263",
     "exception": false,
     "start_time": "2022-12-05T17:12:50.027630",
     "status": "completed"
    },
    "tags": []
   },
   "outputs": [
    {
     "data": {
      "text/plain": [
       "'Working on chromosome 19'"
      ]
     },
     "metadata": {},
     "output_type": "display_data"
    }
   ],
   "source": [
    "assert CHROMOSOME is not None and (\n",
    "    1 <= CHROMOSOME <= 22\n",
    "), \"You have to select one chromosome (format: number between 1 and 22)\"\n",
    "\n",
    "display(f\"Working on chromosome {CHROMOSOME}\")"
   ]
  },
  {
   "cell_type": "code",
   "execution_count": 10,
   "id": "ab8e96e8-06b5-4363-9dcd-dc4d78cc27f7",
   "metadata": {
    "execution": {
     "iopub.execute_input": "2022-12-05T17:12:50.067697Z",
     "iopub.status.busy": "2022-12-05T17:12:50.067559Z",
     "iopub.status.idle": "2022-12-05T17:12:50.080545Z",
     "shell.execute_reply": "2022-12-05T17:12:50.080100Z"
    },
    "papermill": {
     "duration": 0.023163,
     "end_time": "2022-12-05T17:12:50.081900",
     "exception": false,
     "start_time": "2022-12-05T17:12:50.058737",
     "status": "completed"
    },
    "tags": []
   },
   "outputs": [
    {
     "data": {
      "text/plain": [
       "'Compute correlation within distance True'"
      ]
     },
     "metadata": {},
     "output_type": "display_data"
    }
   ],
   "source": [
    "display(f\"Compute correlation within distance {COMPUTE_CORRELATIONS_WITHIN_DISTANCE}\")"
   ]
  },
  {
   "cell_type": "code",
   "execution_count": 11,
   "id": "b393b698-77e3-4ba2-8ac1-e14d51aa988f",
   "metadata": {
    "execution": {
     "iopub.execute_input": "2022-12-05T17:12:50.106159Z",
     "iopub.status.busy": "2022-12-05T17:12:50.106043Z",
     "iopub.status.idle": "2022-12-05T17:12:50.119236Z",
     "shell.execute_reply": "2022-12-05T17:12:50.118795Z"
    },
    "papermill": {
     "duration": 0.030687,
     "end_time": "2022-12-05T17:12:50.121167",
     "exception": false,
     "start_time": "2022-12-05T17:12:50.090480",
     "status": "completed"
    },
    "tags": []
   },
   "outputs": [
    {
     "data": {
      "text/plain": [
       "'Using output dir base: /opt/data/projects/asthma-copd/results/gls_phenoplier/gene_corrs/copd_only'"
      ]
     },
     "metadata": {},
     "output_type": "display_data"
    }
   ],
   "source": [
    "assert (\n",
    "    OUTPUT_DIR_BASE is not None and len(OUTPUT_DIR_BASE) > 0\n",
    "), \"Output directory path must be given\"\n",
    "\n",
    "OUTPUT_DIR_BASE = (Path(OUTPUT_DIR_BASE) / \"gene_corrs\" / COHORT_NAME).resolve()\n",
    "\n",
    "OUTPUT_DIR_BASE.mkdir(parents=True, exist_ok=True)\n",
    "\n",
    "display(f\"Using output dir base: {OUTPUT_DIR_BASE}\")"
   ]
  },
  {
   "cell_type": "markdown",
   "id": "d2ba085e",
   "metadata": {
    "papermill": {
     "duration": 0.01389,
     "end_time": "2022-12-05T17:12:50.150842",
     "exception": false,
     "start_time": "2022-12-05T17:12:50.136952",
     "status": "completed"
    },
    "tags": []
   },
   "source": [
    "# Load data"
   ]
  },
  {
   "cell_type": "markdown",
   "id": "7dcb8db7",
   "metadata": {
    "papermill": {
     "duration": 0.005286,
     "end_time": "2022-12-05T17:12:50.164945",
     "exception": false,
     "start_time": "2022-12-05T17:12:50.159659",
     "status": "completed"
    },
    "tags": []
   },
   "source": [
    "## GWAS variants"
   ]
  },
  {
   "cell_type": "code",
   "execution_count": 12,
   "id": "29434c4e-8cd3-4b9b-82e4-b5a251d9dd19",
   "metadata": {
    "execution": {
     "iopub.execute_input": "2022-12-05T17:12:50.175426Z",
     "iopub.status.busy": "2022-12-05T17:12:50.175258Z",
     "iopub.status.idle": "2022-12-05T17:12:52.249487Z",
     "shell.execute_reply": "2022-12-05T17:12:52.248902Z"
    },
    "papermill": {
     "duration": 2.081384,
     "end_time": "2022-12-05T17:12:52.250967",
     "exception": false,
     "start_time": "2022-12-05T17:12:50.169583",
     "status": "completed"
    },
    "tags": []
   },
   "outputs": [],
   "source": [
    "with open(OUTPUT_DIR_BASE / \"gwas_variant_ids.pkl\", \"rb\") as handle:\n",
    "    gwas_variants_ids_set = pickle.load(handle)"
   ]
  },
  {
   "cell_type": "code",
   "execution_count": 13,
   "id": "b9d9dec2-4a76-4bf9-bde2-e24c95acb8a0",
   "metadata": {
    "execution": {
     "iopub.execute_input": "2022-12-05T17:12:52.266400Z",
     "iopub.status.busy": "2022-12-05T17:12:52.266282Z",
     "iopub.status.idle": "2022-12-05T17:12:52.279904Z",
     "shell.execute_reply": "2022-12-05T17:12:52.279403Z"
    },
    "papermill": {
     "duration": 0.022554,
     "end_time": "2022-12-05T17:12:52.280983",
     "exception": false,
     "start_time": "2022-12-05T17:12:52.258429",
     "status": "completed"
    },
    "tags": []
   },
   "outputs": [
    {
     "data": {
      "text/plain": [
       "8586183"
      ]
     },
     "execution_count": 13,
     "metadata": {},
     "output_type": "execute_result"
    }
   ],
   "source": [
    "len(gwas_variants_ids_set)"
   ]
  },
  {
   "cell_type": "code",
   "execution_count": 14,
   "id": "4235b06a-6034-4ee4-a0a3-2ae35d122418",
   "metadata": {
    "execution": {
     "iopub.execute_input": "2022-12-05T17:12:52.296739Z",
     "iopub.status.busy": "2022-12-05T17:12:52.296548Z",
     "iopub.status.idle": "2022-12-05T17:12:52.683809Z",
     "shell.execute_reply": "2022-12-05T17:12:52.683316Z"
    },
    "papermill": {
     "duration": 0.396473,
     "end_time": "2022-12-05T17:12:52.684940",
     "exception": false,
     "start_time": "2022-12-05T17:12:52.288467",
     "status": "completed"
    },
    "tags": []
   },
   "outputs": [
    {
     "data": {
      "text/plain": [
       "['chr2_98860485_A_G_b38',\n",
       " 'chr5_56717636_G_GA_b38',\n",
       " 'chr14_66013956_G_A_b38',\n",
       " 'chr4_24173650_G_A_b38',\n",
       " 'chr5_166680423_C_T_b38']"
      ]
     },
     "execution_count": 14,
     "metadata": {},
     "output_type": "execute_result"
    }
   ],
   "source": [
    "list(gwas_variants_ids_set)[:5]"
   ]
  },
  {
   "cell_type": "markdown",
   "id": "07866999-2305-41f9-a144-e69c9122c212",
   "metadata": {
    "papermill": {
     "duration": 0.007269,
     "end_time": "2022-12-05T17:12:52.700172",
     "exception": false,
     "start_time": "2022-12-05T17:12:52.692903",
     "status": "completed"
    },
    "tags": []
   },
   "source": [
    "## S-PrediXcan tissue models"
   ]
  },
  {
   "cell_type": "code",
   "execution_count": 15,
   "id": "780611d9-77c8-405f-90a4-f271f7b09397",
   "metadata": {
    "execution": {
     "iopub.execute_input": "2022-12-05T17:12:52.717249Z",
     "iopub.status.busy": "2022-12-05T17:12:52.717024Z",
     "iopub.status.idle": "2022-12-05T17:12:53.392190Z",
     "shell.execute_reply": "2022-12-05T17:12:53.391722Z"
    },
    "papermill": {
     "duration": 0.686371,
     "end_time": "2022-12-05T17:12:53.394021",
     "exception": false,
     "start_time": "2022-12-05T17:12:52.707650",
     "status": "completed"
    },
    "tags": []
   },
   "outputs": [],
   "source": [
    "spredixcan_genes_models = pd.read_pickle(OUTPUT_DIR_BASE / \"gene_tissues.pkl\")"
   ]
  },
  {
   "cell_type": "code",
   "execution_count": 16,
   "id": "726dd1f6-9557-4225-91fa-b3b879ea96e1",
   "metadata": {
    "execution": {
     "iopub.execute_input": "2022-12-05T17:12:53.414964Z",
     "iopub.status.busy": "2022-12-05T17:12:53.414846Z",
     "iopub.status.idle": "2022-12-05T17:12:53.428346Z",
     "shell.execute_reply": "2022-12-05T17:12:53.427877Z"
    },
    "papermill": {
     "duration": 0.025591,
     "end_time": "2022-12-05T17:12:53.429829",
     "exception": false,
     "start_time": "2022-12-05T17:12:53.404238",
     "status": "completed"
    },
    "tags": []
   },
   "outputs": [
    {
     "data": {
      "text/plain": [
       "(6443, 5)"
      ]
     },
     "execution_count": 16,
     "metadata": {},
     "output_type": "execute_result"
    }
   ],
   "source": [
    "spredixcan_genes_models.shape"
   ]
  },
  {
   "cell_type": "code",
   "execution_count": 17,
   "id": "944a1b48-222c-4eb0-b252-b9de2cbca215",
   "metadata": {
    "execution": {
     "iopub.execute_input": "2022-12-05T17:12:53.451425Z",
     "iopub.status.busy": "2022-12-05T17:12:53.451310Z",
     "iopub.status.idle": "2022-12-05T17:12:53.468285Z",
     "shell.execute_reply": "2022-12-05T17:12:53.467789Z"
    },
    "papermill": {
     "duration": 0.029586,
     "end_time": "2022-12-05T17:12:53.469662",
     "exception": false,
     "start_time": "2022-12-05T17:12:53.440076",
     "status": "completed"
    },
    "tags": []
   },
   "outputs": [
    {
     "data": {
      "text/html": [
       "<div>\n",
       "<style scoped>\n",
       "    .dataframe tbody tr th:only-of-type {\n",
       "        vertical-align: middle;\n",
       "    }\n",
       "\n",
       "    .dataframe tbody tr th {\n",
       "        vertical-align: top;\n",
       "    }\n",
       "\n",
       "    .dataframe thead th {\n",
       "        text-align: right;\n",
       "    }\n",
       "</style>\n",
       "<table border=\"1\" class=\"dataframe\">\n",
       "  <thead>\n",
       "    <tr style=\"text-align: right;\">\n",
       "      <th></th>\n",
       "      <th>gene_name</th>\n",
       "      <th>tissue</th>\n",
       "      <th>n_tissues</th>\n",
       "      <th>n_snps_used_sum</th>\n",
       "      <th>n_snps_in_model_sum</th>\n",
       "    </tr>\n",
       "    <tr>\n",
       "      <th>gene_id</th>\n",
       "      <th></th>\n",
       "      <th></th>\n",
       "      <th></th>\n",
       "      <th></th>\n",
       "      <th></th>\n",
       "    </tr>\n",
       "  </thead>\n",
       "  <tbody>\n",
       "    <tr>\n",
       "      <th>ENSG00000000419</th>\n",
       "      <td>DPM1</td>\n",
       "      <td>(Brain_Substantia_nigra, Brain_Hypothalamus)</td>\n",
       "      <td>2</td>\n",
       "      <td>2</td>\n",
       "      <td>2</td>\n",
       "    </tr>\n",
       "    <tr>\n",
       "      <th>ENSG00000000938</th>\n",
       "      <td>FGR</td>\n",
       "      <td>(Artery_Aorta, Pancreas, Brain_Nucleus_accumbe...</td>\n",
       "      <td>36</td>\n",
       "      <td>40</td>\n",
       "      <td>40</td>\n",
       "    </tr>\n",
       "    <tr>\n",
       "      <th>ENSG00000000971</th>\n",
       "      <td>CFH</td>\n",
       "      <td>(Artery_Aorta, Esophagus_Muscularis, Testis, N...</td>\n",
       "      <td>34</td>\n",
       "      <td>44</td>\n",
       "      <td>44</td>\n",
       "    </tr>\n",
       "    <tr>\n",
       "      <th>ENSG00000001084</th>\n",
       "      <td>GCLC</td>\n",
       "      <td>(Brain_Amygdala, Artery_Aorta, Pancreas, Brain...</td>\n",
       "      <td>32</td>\n",
       "      <td>46</td>\n",
       "      <td>46</td>\n",
       "    </tr>\n",
       "    <tr>\n",
       "      <th>ENSG00000001167</th>\n",
       "      <td>NFYA</td>\n",
       "      <td>(Artery_Aorta, Brain_Nucleus_accumbens_basal_g...</td>\n",
       "      <td>40</td>\n",
       "      <td>47</td>\n",
       "      <td>48</td>\n",
       "    </tr>\n",
       "  </tbody>\n",
       "</table>\n",
       "</div>"
      ],
      "text/plain": [
       "                gene_name                                             tissue  \\\n",
       "gene_id                                                                        \n",
       "ENSG00000000419      DPM1       (Brain_Substantia_nigra, Brain_Hypothalamus)   \n",
       "ENSG00000000938       FGR  (Artery_Aorta, Pancreas, Brain_Nucleus_accumbe...   \n",
       "ENSG00000000971       CFH  (Artery_Aorta, Esophagus_Muscularis, Testis, N...   \n",
       "ENSG00000001084      GCLC  (Brain_Amygdala, Artery_Aorta, Pancreas, Brain...   \n",
       "ENSG00000001167      NFYA  (Artery_Aorta, Brain_Nucleus_accumbens_basal_g...   \n",
       "\n",
       "                 n_tissues  n_snps_used_sum  n_snps_in_model_sum  \n",
       "gene_id                                                           \n",
       "ENSG00000000419          2                2                    2  \n",
       "ENSG00000000938         36               40                   40  \n",
       "ENSG00000000971         34               44                   44  \n",
       "ENSG00000001084         32               46                   46  \n",
       "ENSG00000001167         40               47                   48  "
      ]
     },
     "execution_count": 17,
     "metadata": {},
     "output_type": "execute_result"
    }
   ],
   "source": [
    "spredixcan_genes_models.head()"
   ]
  },
  {
   "cell_type": "code",
   "execution_count": 18,
   "id": "d1c11bb1-be0b-4f40-b360-633d6827109f",
   "metadata": {
    "execution": {
     "iopub.execute_input": "2022-12-05T17:12:53.491277Z",
     "iopub.status.busy": "2022-12-05T17:12:53.491149Z",
     "iopub.status.idle": "2022-12-05T17:12:53.504373Z",
     "shell.execute_reply": "2022-12-05T17:12:53.503917Z"
    },
    "papermill": {
     "duration": 0.025806,
     "end_time": "2022-12-05T17:12:53.505944",
     "exception": false,
     "start_time": "2022-12-05T17:12:53.480138",
     "status": "completed"
    },
    "tags": []
   },
   "outputs": [],
   "source": [
    "assert spredixcan_genes_models.index.is_unique"
   ]
  },
  {
   "cell_type": "markdown",
   "id": "a5b5092c-a13e-47c4-a92a-480fcc08f3ae",
   "metadata": {
    "papermill": {
     "duration": 0.010837,
     "end_time": "2022-12-05T17:12:53.527428",
     "exception": false,
     "start_time": "2022-12-05T17:12:53.516591",
     "status": "completed"
    },
    "tags": []
   },
   "source": [
    "## Gene info"
   ]
  },
  {
   "cell_type": "code",
   "execution_count": 19,
   "id": "7d6bb224-88e9-4358-ac10-43a41d92cdad",
   "metadata": {
    "execution": {
     "iopub.execute_input": "2022-12-05T17:12:53.549259Z",
     "iopub.status.busy": "2022-12-05T17:12:53.549054Z",
     "iopub.status.idle": "2022-12-05T17:12:53.563734Z",
     "shell.execute_reply": "2022-12-05T17:12:53.563192Z"
    },
    "papermill": {
     "duration": 0.027145,
     "end_time": "2022-12-05T17:12:53.564995",
     "exception": false,
     "start_time": "2022-12-05T17:12:53.537850",
     "status": "completed"
    },
    "tags": []
   },
   "outputs": [],
   "source": [
    "genes_info = pd.read_pickle(OUTPUT_DIR_BASE / \"genes_info.pkl\")"
   ]
  },
  {
   "cell_type": "code",
   "execution_count": 20,
   "id": "9e32abfa-546d-483e-8c18-d526e9e05903",
   "metadata": {
    "execution": {
     "iopub.execute_input": "2022-12-05T17:12:53.577666Z",
     "iopub.status.busy": "2022-12-05T17:12:53.577545Z",
     "iopub.status.idle": "2022-12-05T17:12:53.591263Z",
     "shell.execute_reply": "2022-12-05T17:12:53.590779Z"
    },
    "papermill": {
     "duration": 0.021286,
     "end_time": "2022-12-05T17:12:53.592195",
     "exception": false,
     "start_time": "2022-12-05T17:12:53.570909",
     "status": "completed"
    },
    "tags": []
   },
   "outputs": [
    {
     "data": {
      "text/plain": [
       "(6443, 7)"
      ]
     },
     "execution_count": 20,
     "metadata": {},
     "output_type": "execute_result"
    }
   ],
   "source": [
    "genes_info.shape"
   ]
  },
  {
   "cell_type": "code",
   "execution_count": 21,
   "id": "d16c3e92-85ec-468a-9a56-e25a9774a1cb",
   "metadata": {
    "execution": {
     "iopub.execute_input": "2022-12-05T17:12:53.604458Z",
     "iopub.status.busy": "2022-12-05T17:12:53.604302Z",
     "iopub.status.idle": "2022-12-05T17:12:53.620613Z",
     "shell.execute_reply": "2022-12-05T17:12:53.620075Z"
    },
    "papermill": {
     "duration": 0.023497,
     "end_time": "2022-12-05T17:12:53.621524",
     "exception": false,
     "start_time": "2022-12-05T17:12:53.598027",
     "status": "completed"
    },
    "tags": []
   },
   "outputs": [
    {
     "data": {
      "text/html": [
       "<div>\n",
       "<style scoped>\n",
       "    .dataframe tbody tr th:only-of-type {\n",
       "        vertical-align: middle;\n",
       "    }\n",
       "\n",
       "    .dataframe tbody tr th {\n",
       "        vertical-align: top;\n",
       "    }\n",
       "\n",
       "    .dataframe thead th {\n",
       "        text-align: right;\n",
       "    }\n",
       "</style>\n",
       "<table border=\"1\" class=\"dataframe\">\n",
       "  <thead>\n",
       "    <tr style=\"text-align: right;\">\n",
       "      <th></th>\n",
       "      <th>name</th>\n",
       "      <th>id</th>\n",
       "      <th>chr</th>\n",
       "      <th>band</th>\n",
       "      <th>start_position</th>\n",
       "      <th>end_position</th>\n",
       "      <th>gene_length</th>\n",
       "    </tr>\n",
       "  </thead>\n",
       "  <tbody>\n",
       "    <tr>\n",
       "      <th>0</th>\n",
       "      <td>IL2RB</td>\n",
       "      <td>ENSG00000100385</td>\n",
       "      <td>22</td>\n",
       "      <td>22q12.3</td>\n",
       "      <td>37125843</td>\n",
       "      <td>37175054</td>\n",
       "      <td>49211</td>\n",
       "    </tr>\n",
       "    <tr>\n",
       "      <th>1</th>\n",
       "      <td>ZNF208</td>\n",
       "      <td>ENSG00000160321</td>\n",
       "      <td>19</td>\n",
       "      <td>19p12</td>\n",
       "      <td>21932958</td>\n",
       "      <td>22010949</td>\n",
       "      <td>77991</td>\n",
       "    </tr>\n",
       "    <tr>\n",
       "      <th>2</th>\n",
       "      <td>CES1</td>\n",
       "      <td>ENSG00000198848</td>\n",
       "      <td>16</td>\n",
       "      <td>16q12.2</td>\n",
       "      <td>55802851</td>\n",
       "      <td>55833337</td>\n",
       "      <td>30486</td>\n",
       "    </tr>\n",
       "    <tr>\n",
       "      <th>3</th>\n",
       "      <td>XAB2</td>\n",
       "      <td>ENSG00000076924</td>\n",
       "      <td>19</td>\n",
       "      <td>19p13.2</td>\n",
       "      <td>7619525</td>\n",
       "      <td>7629545</td>\n",
       "      <td>10020</td>\n",
       "    </tr>\n",
       "    <tr>\n",
       "      <th>4</th>\n",
       "      <td>AQP1</td>\n",
       "      <td>ENSG00000240583</td>\n",
       "      <td>7</td>\n",
       "      <td>7p14.3</td>\n",
       "      <td>30911694</td>\n",
       "      <td>30925517</td>\n",
       "      <td>13823</td>\n",
       "    </tr>\n",
       "  </tbody>\n",
       "</table>\n",
       "</div>"
      ],
      "text/plain": [
       "     name               id  chr     band  start_position  end_position  \\\n",
       "0   IL2RB  ENSG00000100385   22  22q12.3        37125843      37175054   \n",
       "1  ZNF208  ENSG00000160321   19    19p12        21932958      22010949   \n",
       "2    CES1  ENSG00000198848   16  16q12.2        55802851      55833337   \n",
       "3    XAB2  ENSG00000076924   19  19p13.2         7619525       7629545   \n",
       "4    AQP1  ENSG00000240583    7   7p14.3        30911694      30925517   \n",
       "\n",
       "   gene_length  \n",
       "0        49211  \n",
       "1        77991  \n",
       "2        30486  \n",
       "3        10020  \n",
       "4        13823  "
      ]
     },
     "execution_count": 21,
     "metadata": {},
     "output_type": "execute_result"
    }
   ],
   "source": [
    "genes_info.head()"
   ]
  },
  {
   "cell_type": "markdown",
   "id": "d3843e06",
   "metadata": {
    "papermill": {
     "duration": 0.005282,
     "end_time": "2022-12-05T17:12:53.632729",
     "exception": false,
     "start_time": "2022-12-05T17:12:53.627447",
     "status": "completed"
    },
    "tags": []
   },
   "source": [
    "# Compute correlations"
   ]
  },
  {
   "cell_type": "code",
   "execution_count": 22,
   "id": "cb859c15-d1f3-4006-a74c-2b83c0db9611",
   "metadata": {
    "execution": {
     "iopub.execute_input": "2022-12-05T17:12:53.644269Z",
     "iopub.status.busy": "2022-12-05T17:12:53.643957Z",
     "iopub.status.idle": "2022-12-05T17:12:53.658535Z",
     "shell.execute_reply": "2022-12-05T17:12:53.658025Z"
    },
    "papermill": {
     "duration": 0.021303,
     "end_time": "2022-12-05T17:12:53.659304",
     "exception": false,
     "start_time": "2022-12-05T17:12:53.638001",
     "status": "completed"
    },
    "tags": []
   },
   "outputs": [
    {
     "data": {
      "text/plain": [
       "PosixPath('/opt/data/projects/asthma-copd/results/gls_phenoplier/gene_corrs/copd_only/by_chr/gene_corrs-chr19.pkl')"
      ]
     },
     "metadata": {},
     "output_type": "display_data"
    }
   ],
   "source": [
    "output_dir = OUTPUT_DIR_BASE / \"by_chr\"\n",
    "output_dir.mkdir(exist_ok=True, parents=True)\n",
    "output_file = output_dir / f\"gene_corrs-chr{CHROMOSOME}.pkl\"\n",
    "display(output_file)"
   ]
  },
  {
   "cell_type": "code",
   "execution_count": 23,
   "id": "aa674fe4-6794-4eed-98fa-32b39d1d4ace",
   "metadata": {
    "execution": {
     "iopub.execute_input": "2022-12-05T17:12:53.671185Z",
     "iopub.status.busy": "2022-12-05T17:12:53.671044Z",
     "iopub.status.idle": "2022-12-05T17:12:53.684495Z",
     "shell.execute_reply": "2022-12-05T17:12:53.683985Z"
    },
    "papermill": {
     "duration": 0.020741,
     "end_time": "2022-12-05T17:12:53.685719",
     "exception": false,
     "start_time": "2022-12-05T17:12:53.664978",
     "status": "completed"
    },
    "tags": []
   },
   "outputs": [],
   "source": [
    "warnings.filterwarnings(\"error\")"
   ]
  },
  {
   "cell_type": "code",
   "execution_count": 24,
   "id": "44d5450b-3baf-43f1-9e2e-4b06f1a785f8",
   "metadata": {
    "execution": {
     "iopub.execute_input": "2022-12-05T17:12:53.698312Z",
     "iopub.status.busy": "2022-12-05T17:12:53.698158Z",
     "iopub.status.idle": "2022-12-05T17:12:53.711559Z",
     "shell.execute_reply": "2022-12-05T17:12:53.711018Z"
    },
    "papermill": {
     "duration": 0.021076,
     "end_time": "2022-12-05T17:12:53.712671",
     "exception": false,
     "start_time": "2022-12-05T17:12:53.691595",
     "status": "completed"
    },
    "tags": []
   },
   "outputs": [],
   "source": [
    "# standard checks\n",
    "all_chrs = genes_info[\"chr\"].dropna().unique()\n",
    "assert all_chrs.shape[0] == 22\n",
    "\n",
    "# select chromosome given by the user\n",
    "assert CHROMOSOME in all_chrs"
   ]
  },
  {
   "cell_type": "code",
   "execution_count": 25,
   "id": "2d7c043c-92a7-4d35-991b-fa69ac1e0268",
   "metadata": {
    "execution": {
     "iopub.execute_input": "2022-12-05T17:12:53.725393Z",
     "iopub.status.busy": "2022-12-05T17:12:53.725135Z",
     "iopub.status.idle": "2022-12-05T17:12:53.739795Z",
     "shell.execute_reply": "2022-12-05T17:12:53.739257Z"
    },
    "papermill": {
     "duration": 0.021974,
     "end_time": "2022-12-05T17:12:53.740730",
     "exception": false,
     "start_time": "2022-12-05T17:12:53.718756",
     "status": "completed"
    },
    "tags": []
   },
   "outputs": [
    {
     "name": "stdout",
     "output_type": "stream",
     "text": [
      "Number of genes in chromosome: 539\n"
     ]
    }
   ],
   "source": [
    "# run only on the chromosome specified\n",
    "all_chrs = [CHROMOSOME]\n",
    "genes_chr = genes_info[genes_info[\"chr\"] == CHROMOSOME]\n",
    "\n",
    "# For testing purposes\n",
    "# genes_chr = genes_chr.sample(n=20)\n",
    "\n",
    "print(f\"Number of genes in chromosome: {genes_chr.shape[0]}\", flush=True)"
   ]
  },
  {
   "cell_type": "code",
   "execution_count": 26,
   "id": "916015d8-2979-46d3-a9b9-1cf5a0932c6a",
   "metadata": {
    "execution": {
     "iopub.execute_input": "2022-12-05T17:12:53.753682Z",
     "iopub.status.busy": "2022-12-05T17:12:53.753417Z",
     "iopub.status.idle": "2022-12-05T17:12:53.766733Z",
     "shell.execute_reply": "2022-12-05T17:12:53.766198Z"
    },
    "papermill": {
     "duration": 0.021256,
     "end_time": "2022-12-05T17:12:53.767893",
     "exception": false,
     "start_time": "2022-12-05T17:12:53.746637",
     "status": "completed"
    },
    "tags": []
   },
   "outputs": [],
   "source": [
    "# sort genes by starting position to make visualizations better later\n",
    "genes_chr = genes_chr.sort_values(\"start_position\")"
   ]
  },
  {
   "cell_type": "code",
   "execution_count": 27,
   "id": "a38aa74a-8ad3-47f6-8ef9-56be0e011774",
   "metadata": {
    "execution": {
     "iopub.execute_input": "2022-12-05T17:12:53.780434Z",
     "iopub.status.busy": "2022-12-05T17:12:53.780289Z",
     "iopub.status.idle": "2022-12-05T17:12:53.793704Z",
     "shell.execute_reply": "2022-12-05T17:12:53.793222Z"
    },
    "papermill": {
     "duration": 0.020962,
     "end_time": "2022-12-05T17:12:53.794814",
     "exception": false,
     "start_time": "2022-12-05T17:12:53.773852",
     "status": "completed"
    },
    "tags": []
   },
   "outputs": [],
   "source": [
    "gene_chr_objs = [Gene(ensembl_id=gene_id) for gene_id in genes_chr[\"id\"]]"
   ]
  },
  {
   "cell_type": "code",
   "execution_count": 28,
   "id": "570f974f-13c3-42b6-ad3a-ce99ca885c1a",
   "metadata": {
    "execution": {
     "iopub.execute_input": "2022-12-05T17:12:53.808044Z",
     "iopub.status.busy": "2022-12-05T17:12:53.807653Z",
     "iopub.status.idle": "2022-12-05T17:12:53.820994Z",
     "shell.execute_reply": "2022-12-05T17:12:53.820473Z"
    },
    "papermill": {
     "duration": 0.02073,
     "end_time": "2022-12-05T17:12:53.821906",
     "exception": false,
     "start_time": "2022-12-05T17:12:53.801176",
     "status": "completed"
    },
    "tags": []
   },
   "outputs": [
    {
     "name": "stdout",
     "output_type": "stream",
     "text": [
      "Number of gene combinations: 145530\n"
     ]
    }
   ],
   "source": [
    "n = len(gene_chr_objs)\n",
    "# diagonal elements + upper triangular matrix\n",
    "n_comb = n + int(n * (n - 1) / 2.0)\n",
    "print(f\"Number of gene combinations: {n_comb}\", flush=True)"
   ]
  },
  {
   "cell_type": "code",
   "execution_count": 29,
   "id": "cdbb90a1",
   "metadata": {
    "execution": {
     "iopub.execute_input": "2022-12-05T17:12:53.834870Z",
     "iopub.status.busy": "2022-12-05T17:12:53.834708Z",
     "iopub.status.idle": "2022-12-05T17:35:25.309167Z",
     "shell.execute_reply": "2022-12-05T17:35:25.308615Z"
    },
    "papermill": {
     "duration": 1351.482702,
     "end_time": "2022-12-05T17:35:25.310634",
     "exception": false,
     "start_time": "2022-12-05T17:12:53.827932",
     "status": "completed"
    },
    "tags": []
   },
   "outputs": [
    {
     "name": "stderr",
     "output_type": "stream",
     "text": [
      "ENSG00000130725 / ENSG00000130725: 100%|███████████████████| 145530/145530 [22:31<00:00, 107.69it/s]\n"
     ]
    },
    {
     "data": {
      "text/plain": [
       "PosixPath('/opt/data/projects/asthma-copd/results/gls_phenoplier/gene_corrs/copd_only/by_chr/gene_corrs-chr19.pkl')"
      ]
     },
     "metadata": {},
     "output_type": "display_data"
    }
   ],
   "source": [
    "gene_corrs = []\n",
    "gene_corrs_data = np.full(\n",
    "    (n, n),\n",
    "    np.nan,\n",
    "    dtype=np.float64,\n",
    ")\n",
    "\n",
    "i = 0\n",
    "with tqdm(ncols=100, total=n_comb) as pbar:\n",
    "    for gene1_idx in range(0, len(gene_chr_objs)):\n",
    "        gene1_obj = gene_chr_objs[gene1_idx]\n",
    "        gene1_tissues = spredixcan_genes_models.loc[gene1_obj.ensembl_id, \"tissue\"]\n",
    "\n",
    "        for gene2_idx in range(gene1_idx, len(gene_chr_objs)):\n",
    "            gene2_obj = gene_chr_objs[gene2_idx]\n",
    "            gene2_tissues = spredixcan_genes_models.loc[gene2_obj.ensembl_id, \"tissue\"]\n",
    "\n",
    "            pbar.set_description(f\"{gene1_obj.ensembl_id} / {gene2_obj.ensembl_id}\")\n",
    "\n",
    "            try:\n",
    "                r = gene1_obj.get_ssm_correlation(\n",
    "                    other_gene=gene2_obj,\n",
    "                    tissues=gene1_tissues,\n",
    "                    other_tissues=gene2_tissues,\n",
    "                    snps_subset=gwas_variants_ids_set,\n",
    "                    condition_number=SMULTIXCAN_CONDITION_NUMBER,\n",
    "                    reference_panel=REFERENCE_PANEL,\n",
    "                    model_type=EQTL_MODEL,\n",
    "                    use_within_distance=COMPUTE_CORRELATIONS_WITHIN_DISTANCE,\n",
    "                )\n",
    "\n",
    "                if r is None:\n",
    "                    # if r is None, it's very likely because:\n",
    "                    #  * one of the genes has no prediction models\n",
    "                    #  * all the SNPs predictors for the gene are not present in the reference\n",
    "                    #    panel\n",
    "\n",
    "                    r = 0.0\n",
    "\n",
    "                gene_corrs.append(r)\n",
    "\n",
    "                gene_corrs_data[gene1_idx, gene2_idx] = r\n",
    "                gene_corrs_data[gene2_idx, gene1_idx] = r\n",
    "            except Warning as e:\n",
    "                if not DEBUG_MODE:\n",
    "                    raise e\n",
    "\n",
    "                print(\n",
    "                    f\"RuntimeWarning for genes {gene1_obj.ensembl_id} and {gene2_obj.ensembl_id}\",\n",
    "                    flush=True,\n",
    "                )\n",
    "                print(traceback.format_exc(), flush=True)\n",
    "\n",
    "                gene_corrs.append(np.nan)\n",
    "            except Exception as e:\n",
    "                if not DEBUG_MODE:\n",
    "                    raise e\n",
    "\n",
    "                print(\n",
    "                    f\"Exception for genes {gene1_obj.ensembl_id} and {gene2_obj.ensembl_id}\",\n",
    "                    flush=True,\n",
    "                )\n",
    "                print(traceback.format_exc(), flush=True)\n",
    "\n",
    "                gene_corrs.append(np.nan)\n",
    "\n",
    "            pbar.update(1)\n",
    "\n",
    "# create a pandas series\n",
    "gene_corrs_flat = pd.Series(gene_corrs)\n",
    "\n",
    "# save\n",
    "# FIXME: consider saving only the condenced matrix here. See here for\n",
    "# more details: https://github.com/greenelab/phenoplier/pull/38#discussion_r634600813\n",
    "# gene_corrs_data = squareform(np.array(gene_corrs, dtype=np.float64))\n",
    "# np.fill_diagonal(gene_corrs_data, 1.0)\n",
    "\n",
    "gene_chr_ids = [g.ensembl_id for g in gene_chr_objs]\n",
    "gene_corrs_df = pd.DataFrame(\n",
    "    data=gene_corrs_data,\n",
    "    index=gene_chr_ids,\n",
    "    columns=gene_chr_ids,\n",
    ")\n",
    "\n",
    "output_dir.mkdir(exist_ok=True, parents=True)\n",
    "display(output_file)\n",
    "\n",
    "gene_corrs_df.to_pickle(output_file)"
   ]
  },
  {
   "cell_type": "markdown",
   "id": "faa67b51-5373-470f-aa72-2ded53fa6dfe",
   "metadata": {
    "papermill": {
     "duration": 4.387308,
     "end_time": "2022-12-05T17:35:34.324064",
     "exception": false,
     "start_time": "2022-12-05T17:35:29.936756",
     "status": "completed"
    },
    "tags": []
   },
   "source": [
    "# Testing"
   ]
  },
  {
   "cell_type": "code",
   "execution_count": 30,
   "id": "14f7d046-4b55-4896-a56b-990127bcc388",
   "metadata": {
    "execution": {
     "iopub.execute_input": "2022-12-05T17:35:43.443181Z",
     "iopub.status.busy": "2022-12-05T17:35:43.442798Z",
     "iopub.status.idle": "2022-12-05T17:35:43.464598Z",
     "shell.execute_reply": "2022-12-05T17:35:43.463969Z"
    },
    "papermill": {
     "duration": 4.652116,
     "end_time": "2022-12-05T17:35:43.465499",
     "exception": false,
     "start_time": "2022-12-05T17:35:38.813383",
     "status": "completed"
    },
    "tags": []
   },
   "outputs": [
    {
     "data": {
      "text/plain": [
       "(539, 539)"
      ]
     },
     "execution_count": 30,
     "metadata": {},
     "output_type": "execute_result"
    }
   ],
   "source": [
    "gene_corrs_df.shape"
   ]
  },
  {
   "cell_type": "code",
   "execution_count": 31,
   "id": "c7d15414-3297-4537-a7c6-7588c0baeb75",
   "metadata": {
    "execution": {
     "iopub.execute_input": "2022-12-05T17:35:52.299701Z",
     "iopub.status.busy": "2022-12-05T17:35:52.299340Z",
     "iopub.status.idle": "2022-12-05T17:35:52.335035Z",
     "shell.execute_reply": "2022-12-05T17:35:52.334356Z"
    },
    "papermill": {
     "duration": 4.491229,
     "end_time": "2022-12-05T17:35:52.335949",
     "exception": false,
     "start_time": "2022-12-05T17:35:47.844720",
     "status": "completed"
    },
    "tags": []
   },
   "outputs": [
    {
     "data": {
      "text/html": [
       "<div>\n",
       "<style scoped>\n",
       "    .dataframe tbody tr th:only-of-type {\n",
       "        vertical-align: middle;\n",
       "    }\n",
       "\n",
       "    .dataframe tbody tr th {\n",
       "        vertical-align: top;\n",
       "    }\n",
       "\n",
       "    .dataframe thead th {\n",
       "        text-align: right;\n",
       "    }\n",
       "</style>\n",
       "<table border=\"1\" class=\"dataframe\">\n",
       "  <thead>\n",
       "    <tr style=\"text-align: right;\">\n",
       "      <th></th>\n",
       "      <th>ENSG00000129946</th>\n",
       "      <th>ENSG00000099866</th>\n",
       "      <th>ENSG00000099804</th>\n",
       "      <th>ENSG00000197540</th>\n",
       "      <th>ENSG00000172270</th>\n",
       "      <th>ENSG00000099822</th>\n",
       "      <th>ENSG00000099821</th>\n",
       "      <th>ENSG00000011304</th>\n",
       "      <th>ENSG00000172232</th>\n",
       "      <th>ENSG00000196415</th>\n",
       "      <th>...</th>\n",
       "      <th>ENSG00000171606</th>\n",
       "      <th>ENSG00000198131</th>\n",
       "      <th>ENSG00000083845</th>\n",
       "      <th>ENSG00000171574</th>\n",
       "      <th>ENSG00000083812</th>\n",
       "      <th>ENSG00000083838</th>\n",
       "      <th>ENSG00000083807</th>\n",
       "      <th>ENSG00000130726</th>\n",
       "      <th>ENSG00000130724</th>\n",
       "      <th>ENSG00000130725</th>\n",
       "    </tr>\n",
       "  </thead>\n",
       "  <tbody>\n",
       "    <tr>\n",
       "      <th>ENSG00000129946</th>\n",
       "      <td>1.000000</td>\n",
       "      <td>0.338633</td>\n",
       "      <td>0.093565</td>\n",
       "      <td>0.020255</td>\n",
       "      <td>0.011003</td>\n",
       "      <td>0.009783</td>\n",
       "      <td>0.007874</td>\n",
       "      <td>0.007481</td>\n",
       "      <td>0.006953</td>\n",
       "      <td>0.010731</td>\n",
       "      <td>...</td>\n",
       "      <td>0.0</td>\n",
       "      <td>0.0</td>\n",
       "      <td>0.0</td>\n",
       "      <td>0.0</td>\n",
       "      <td>0.0</td>\n",
       "      <td>0.0</td>\n",
       "      <td>0.0</td>\n",
       "      <td>0.0</td>\n",
       "      <td>0.0</td>\n",
       "      <td>0.0</td>\n",
       "    </tr>\n",
       "    <tr>\n",
       "      <th>ENSG00000099866</th>\n",
       "      <td>0.338633</td>\n",
       "      <td>1.000000</td>\n",
       "      <td>0.028779</td>\n",
       "      <td>0.015043</td>\n",
       "      <td>0.008540</td>\n",
       "      <td>0.006466</td>\n",
       "      <td>0.005534</td>\n",
       "      <td>0.012005</td>\n",
       "      <td>0.004044</td>\n",
       "      <td>0.005045</td>\n",
       "      <td>...</td>\n",
       "      <td>0.0</td>\n",
       "      <td>0.0</td>\n",
       "      <td>0.0</td>\n",
       "      <td>0.0</td>\n",
       "      <td>0.0</td>\n",
       "      <td>0.0</td>\n",
       "      <td>0.0</td>\n",
       "      <td>0.0</td>\n",
       "      <td>0.0</td>\n",
       "      <td>0.0</td>\n",
       "    </tr>\n",
       "    <tr>\n",
       "      <th>ENSG00000099804</th>\n",
       "      <td>0.093565</td>\n",
       "      <td>0.028779</td>\n",
       "      <td>1.000000</td>\n",
       "      <td>0.250375</td>\n",
       "      <td>0.126414</td>\n",
       "      <td>0.061093</td>\n",
       "      <td>0.019915</td>\n",
       "      <td>0.020062</td>\n",
       "      <td>0.011394</td>\n",
       "      <td>0.013603</td>\n",
       "      <td>...</td>\n",
       "      <td>0.0</td>\n",
       "      <td>0.0</td>\n",
       "      <td>0.0</td>\n",
       "      <td>0.0</td>\n",
       "      <td>0.0</td>\n",
       "      <td>0.0</td>\n",
       "      <td>0.0</td>\n",
       "      <td>0.0</td>\n",
       "      <td>0.0</td>\n",
       "      <td>0.0</td>\n",
       "    </tr>\n",
       "    <tr>\n",
       "      <th>ENSG00000197540</th>\n",
       "      <td>0.020255</td>\n",
       "      <td>0.015043</td>\n",
       "      <td>0.250375</td>\n",
       "      <td>1.000000</td>\n",
       "      <td>0.112516</td>\n",
       "      <td>0.078156</td>\n",
       "      <td>0.022678</td>\n",
       "      <td>0.020909</td>\n",
       "      <td>0.014599</td>\n",
       "      <td>0.016799</td>\n",
       "      <td>...</td>\n",
       "      <td>0.0</td>\n",
       "      <td>0.0</td>\n",
       "      <td>0.0</td>\n",
       "      <td>0.0</td>\n",
       "      <td>0.0</td>\n",
       "      <td>0.0</td>\n",
       "      <td>0.0</td>\n",
       "      <td>0.0</td>\n",
       "      <td>0.0</td>\n",
       "      <td>0.0</td>\n",
       "    </tr>\n",
       "    <tr>\n",
       "      <th>ENSG00000172270</th>\n",
       "      <td>0.011003</td>\n",
       "      <td>0.008540</td>\n",
       "      <td>0.126414</td>\n",
       "      <td>0.112516</td>\n",
       "      <td>1.000000</td>\n",
       "      <td>0.311204</td>\n",
       "      <td>0.022535</td>\n",
       "      <td>0.040153</td>\n",
       "      <td>0.055534</td>\n",
       "      <td>0.035629</td>\n",
       "      <td>...</td>\n",
       "      <td>0.0</td>\n",
       "      <td>0.0</td>\n",
       "      <td>0.0</td>\n",
       "      <td>0.0</td>\n",
       "      <td>0.0</td>\n",
       "      <td>0.0</td>\n",
       "      <td>0.0</td>\n",
       "      <td>0.0</td>\n",
       "      <td>0.0</td>\n",
       "      <td>0.0</td>\n",
       "    </tr>\n",
       "  </tbody>\n",
       "</table>\n",
       "<p>5 rows × 539 columns</p>\n",
       "</div>"
      ],
      "text/plain": [
       "                 ENSG00000129946  ENSG00000099866  ENSG00000099804  \\\n",
       "ENSG00000129946         1.000000         0.338633         0.093565   \n",
       "ENSG00000099866         0.338633         1.000000         0.028779   \n",
       "ENSG00000099804         0.093565         0.028779         1.000000   \n",
       "ENSG00000197540         0.020255         0.015043         0.250375   \n",
       "ENSG00000172270         0.011003         0.008540         0.126414   \n",
       "\n",
       "                 ENSG00000197540  ENSG00000172270  ENSG00000099822  \\\n",
       "ENSG00000129946         0.020255         0.011003         0.009783   \n",
       "ENSG00000099866         0.015043         0.008540         0.006466   \n",
       "ENSG00000099804         0.250375         0.126414         0.061093   \n",
       "ENSG00000197540         1.000000         0.112516         0.078156   \n",
       "ENSG00000172270         0.112516         1.000000         0.311204   \n",
       "\n",
       "                 ENSG00000099821  ENSG00000011304  ENSG00000172232  \\\n",
       "ENSG00000129946         0.007874         0.007481         0.006953   \n",
       "ENSG00000099866         0.005534         0.012005         0.004044   \n",
       "ENSG00000099804         0.019915         0.020062         0.011394   \n",
       "ENSG00000197540         0.022678         0.020909         0.014599   \n",
       "ENSG00000172270         0.022535         0.040153         0.055534   \n",
       "\n",
       "                 ENSG00000196415  ...  ENSG00000171606  ENSG00000198131  \\\n",
       "ENSG00000129946         0.010731  ...              0.0              0.0   \n",
       "ENSG00000099866         0.005045  ...              0.0              0.0   \n",
       "ENSG00000099804         0.013603  ...              0.0              0.0   \n",
       "ENSG00000197540         0.016799  ...              0.0              0.0   \n",
       "ENSG00000172270         0.035629  ...              0.0              0.0   \n",
       "\n",
       "                 ENSG00000083845  ENSG00000171574  ENSG00000083812  \\\n",
       "ENSG00000129946              0.0              0.0              0.0   \n",
       "ENSG00000099866              0.0              0.0              0.0   \n",
       "ENSG00000099804              0.0              0.0              0.0   \n",
       "ENSG00000197540              0.0              0.0              0.0   \n",
       "ENSG00000172270              0.0              0.0              0.0   \n",
       "\n",
       "                 ENSG00000083838  ENSG00000083807  ENSG00000130726  \\\n",
       "ENSG00000129946              0.0              0.0              0.0   \n",
       "ENSG00000099866              0.0              0.0              0.0   \n",
       "ENSG00000099804              0.0              0.0              0.0   \n",
       "ENSG00000197540              0.0              0.0              0.0   \n",
       "ENSG00000172270              0.0              0.0              0.0   \n",
       "\n",
       "                 ENSG00000130724  ENSG00000130725  \n",
       "ENSG00000129946              0.0              0.0  \n",
       "ENSG00000099866              0.0              0.0  \n",
       "ENSG00000099804              0.0              0.0  \n",
       "ENSG00000197540              0.0              0.0  \n",
       "ENSG00000172270              0.0              0.0  \n",
       "\n",
       "[5 rows x 539 columns]"
      ]
     },
     "execution_count": 31,
     "metadata": {},
     "output_type": "execute_result"
    }
   ],
   "source": [
    "gene_corrs_df.head()"
   ]
  },
  {
   "cell_type": "markdown",
   "id": "dad6603f-01c6-41fb-a6f6-241051207dd8",
   "metadata": {
    "papermill": {
     "duration": 4.477434,
     "end_time": "2022-12-05T17:36:01.307691",
     "exception": false,
     "start_time": "2022-12-05T17:35:56.830257",
     "status": "completed"
    },
    "tags": []
   },
   "source": [
    "## Standard checks and stats"
   ]
  },
  {
   "cell_type": "code",
   "execution_count": 32,
   "id": "286686af-1b7b-4440-8453-6bdcbd8de19c",
   "metadata": {
    "execution": {
     "iopub.execute_input": "2022-12-05T17:36:10.448325Z",
     "iopub.status.busy": "2022-12-05T17:36:10.447511Z",
     "iopub.status.idle": "2022-12-05T17:36:10.473111Z",
     "shell.execute_reply": "2022-12-05T17:36:10.472391Z"
    },
    "papermill": {
     "duration": 4.752135,
     "end_time": "2022-12-05T17:36:10.474165",
     "exception": false,
     "start_time": "2022-12-05T17:36:05.722030",
     "status": "completed"
    },
    "tags": []
   },
   "outputs": [],
   "source": [
    "assert not gene_corrs_df.isna().any(axis=None)"
   ]
  },
  {
   "cell_type": "code",
   "execution_count": 33,
   "id": "00583efc-7068-4270-ad1e-4a418e91db96",
   "metadata": {
    "execution": {
     "iopub.execute_input": "2022-12-05T17:36:20.251459Z",
     "iopub.status.busy": "2022-12-05T17:36:20.250672Z",
     "iopub.status.idle": "2022-12-05T17:36:20.279074Z",
     "shell.execute_reply": "2022-12-05T17:36:20.278173Z"
    },
    "papermill": {
     "duration": 5.112997,
     "end_time": "2022-12-05T17:36:20.280326",
     "exception": false,
     "start_time": "2022-12-05T17:36:15.167329",
     "status": "completed"
    },
    "tags": []
   },
   "outputs": [
    {
     "data": {
      "text/plain": [
       "0.0"
      ]
     },
     "metadata": {},
     "output_type": "display_data"
    }
   ],
   "source": [
    "_min_val = gene_corrs_df.min().min()\n",
    "display(_min_val)\n",
    "assert _min_val >= -0.05"
   ]
  },
  {
   "cell_type": "code",
   "execution_count": 34,
   "id": "d04fb2cf-1050-475b-b855-f5f7cc04092b",
   "metadata": {
    "execution": {
     "iopub.execute_input": "2022-12-05T17:36:29.601389Z",
     "iopub.status.busy": "2022-12-05T17:36:29.600978Z",
     "iopub.status.idle": "2022-12-05T17:36:29.627418Z",
     "shell.execute_reply": "2022-12-05T17:36:29.626669Z"
    },
    "papermill": {
     "duration": 4.552322,
     "end_time": "2022-12-05T17:36:29.628306",
     "exception": false,
     "start_time": "2022-12-05T17:36:25.075984",
     "status": "completed"
    },
    "tags": []
   },
   "outputs": [
    {
     "data": {
      "text/plain": [
       "1.0000000000000036"
      ]
     },
     "metadata": {},
     "output_type": "display_data"
    }
   ],
   "source": [
    "_max_val = gene_corrs_df.max().max()  # this captures the diagonal\n",
    "display(_max_val)\n",
    "assert _max_val <= 1.05"
   ]
  },
  {
   "cell_type": "code",
   "execution_count": 35,
   "id": "fe283586-c348-40e0-8841-f6d97bfb021c",
   "metadata": {
    "execution": {
     "iopub.execute_input": "2022-12-05T17:36:38.868264Z",
     "iopub.status.busy": "2022-12-05T17:36:38.867904Z",
     "iopub.status.idle": "2022-12-05T17:36:38.894038Z",
     "shell.execute_reply": "2022-12-05T17:36:38.893467Z"
    },
    "papermill": {
     "duration": 4.646436,
     "end_time": "2022-12-05T17:36:38.894953",
     "exception": false,
     "start_time": "2022-12-05T17:36:34.248517",
     "status": "completed"
    },
    "tags": []
   },
   "outputs": [
    {
     "data": {
      "text/plain": [
       "count    145530.000000\n",
       "mean          0.006759\n",
       "std           0.065896\n",
       "min           0.000000\n",
       "25%           0.000000\n",
       "50%           0.000000\n",
       "75%           0.000000\n",
       "max           1.000000\n",
       "dtype: float64"
      ]
     },
     "execution_count": 35,
     "metadata": {},
     "output_type": "execute_result"
    }
   ],
   "source": [
    "gene_corrs_flat.describe()"
   ]
  },
  {
   "cell_type": "code",
   "execution_count": 36,
   "id": "b3815678-0f93-4b35-897b-a9d047a2aa78",
   "metadata": {
    "execution": {
     "iopub.execute_input": "2022-12-05T17:36:48.001566Z",
     "iopub.status.busy": "2022-12-05T17:36:48.001146Z",
     "iopub.status.idle": "2022-12-05T17:36:48.027493Z",
     "shell.execute_reply": "2022-12-05T17:36:48.026920Z"
    },
    "papermill": {
     "duration": 4.504914,
     "end_time": "2022-12-05T17:36:48.028366",
     "exception": false,
     "start_time": "2022-12-05T17:36:43.523452",
     "status": "completed"
    },
    "tags": []
   },
   "outputs": [
    {
     "data": {
      "text/plain": [
       "0.00    0.000000\n",
       "0.05    0.000000\n",
       "0.10    0.000000\n",
       "0.15    0.000000\n",
       "0.20    0.000000\n",
       "0.25    0.000000\n",
       "0.30    0.000000\n",
       "0.35    0.000000\n",
       "0.40    0.000000\n",
       "0.45    0.000000\n",
       "0.50    0.000000\n",
       "0.55    0.000000\n",
       "0.60    0.000000\n",
       "0.65    0.000000\n",
       "0.70    0.000000\n",
       "0.75    0.000000\n",
       "0.80    0.000000\n",
       "0.85    0.003625\n",
       "0.90    0.005979\n",
       "0.95    0.008968\n",
       "dtype: float64"
      ]
     },
     "metadata": {},
     "output_type": "display_data"
    }
   ],
   "source": [
    "gene_corrs_quantiles = gene_corrs_flat.quantile(np.arange(0, 1, 0.05))\n",
    "display(gene_corrs_quantiles)"
   ]
  },
  {
   "cell_type": "markdown",
   "id": "87134509-b145-4a10-8bc9-b7e914c2b0fa",
   "metadata": {
    "papermill": {
     "duration": 4.620421,
     "end_time": "2022-12-05T17:36:57.252413",
     "exception": false,
     "start_time": "2022-12-05T17:36:52.631992",
     "status": "completed"
    },
    "tags": []
   },
   "source": [
    "## Positive definiteness"
   ]
  },
  {
   "cell_type": "code",
   "execution_count": 37,
   "id": "07d9a9a1-a4f7-48aa-b916-6d42a8cc6186",
   "metadata": {
    "execution": {
     "iopub.execute_input": "2022-12-05T17:37:06.343283Z",
     "iopub.status.busy": "2022-12-05T17:37:06.342873Z",
     "iopub.status.idle": "2022-12-05T17:37:06.452729Z",
     "shell.execute_reply": "2022-12-05T17:37:06.452189Z"
    },
    "papermill": {
     "duration": 4.652832,
     "end_time": "2022-12-05T17:37:06.454245",
     "exception": false,
     "start_time": "2022-12-05T17:37:01.801413",
     "status": "completed"
    },
    "tags": []
   },
   "outputs": [
    {
     "data": {
      "text/plain": [
       "0"
      ]
     },
     "metadata": {},
     "output_type": "display_data"
    },
    {
     "data": {
      "text/plain": [
       "array([], dtype=float64)"
      ]
     },
     "metadata": {},
     "output_type": "display_data"
    }
   ],
   "source": [
    "# print negative eigenvalues\n",
    "eigs = np.linalg.eigvals(gene_corrs_df.to_numpy())\n",
    "display(len(eigs[eigs < 0]))\n",
    "display(eigs[eigs < 0])"
   ]
  },
  {
   "cell_type": "code",
   "execution_count": 38,
   "id": "6e218436-c3c5-4028-8c94-a4fa6260efce",
   "metadata": {
    "execution": {
     "iopub.execute_input": "2022-12-05T17:37:15.833569Z",
     "iopub.status.busy": "2022-12-05T17:37:15.833162Z",
     "iopub.status.idle": "2022-12-05T17:37:15.876820Z",
     "shell.execute_reply": "2022-12-05T17:37:15.876186Z"
    },
    "papermill": {
     "duration": 4.61608,
     "end_time": "2022-12-05T17:37:15.877765",
     "exception": false,
     "start_time": "2022-12-05T17:37:11.261685",
     "status": "completed"
    },
    "tags": []
   },
   "outputs": [
    {
     "name": "stdout",
     "output_type": "stream",
     "text": [
      "Works!\n"
     ]
    }
   ],
   "source": [
    "try:\n",
    "    chol_mat = np.linalg.cholesky(gene_corrs_df.to_numpy())\n",
    "    cov_inv = np.linalg.inv(chol_mat)\n",
    "    print(\"Works!\")\n",
    "except Exception as e:\n",
    "    print(f\"Cholesky decomposition failed: {str(e)}\")"
   ]
  },
  {
   "cell_type": "code",
   "execution_count": 39,
   "id": "dd8827fb-faf9-4c7c-9454-015e94752706",
   "metadata": {
    "execution": {
     "iopub.execute_input": "2022-12-05T17:37:24.887376Z",
     "iopub.status.busy": "2022-12-05T17:37:24.886613Z",
     "iopub.status.idle": "2022-12-05T17:37:24.939669Z",
     "shell.execute_reply": "2022-12-05T17:37:24.938981Z"
    },
    "papermill": {
     "duration": 4.618183,
     "end_time": "2022-12-05T17:37:24.940577",
     "exception": false,
     "start_time": "2022-12-05T17:37:20.322394",
     "status": "completed"
    },
    "tags": []
   },
   "outputs": [
    {
     "name": "stdout",
     "output_type": "stream",
     "text": [
      "Works!\n"
     ]
    }
   ],
   "source": [
    "try:\n",
    "    # decomposition used by statsmodels.GLS\n",
    "    cholsigmainv = np.linalg.cholesky(np.linalg.inv(gene_corrs_df.to_numpy())).T\n",
    "    print(\"Works!\")\n",
    "except Exception as e:\n",
    "    print(f\"Cholesky decomposition failed (statsmodels.GLS): {str(e)}\")"
   ]
  },
  {
   "cell_type": "markdown",
   "id": "8e60a080-edb2-4e9c-b2ef-22961693200c",
   "metadata": {
    "papermill": {
     "duration": 4.463833,
     "end_time": "2022-12-05T17:37:33.794752",
     "exception": false,
     "start_time": "2022-12-05T17:37:29.330919",
     "status": "completed"
    },
    "tags": []
   },
   "source": [
    "## Plot: distribution"
   ]
  },
  {
   "cell_type": "code",
   "execution_count": 40,
   "id": "8301126b-a7d4-4744-9c7d-f0f86eb6f54c",
   "metadata": {
    "execution": {
     "iopub.execute_input": "2022-12-05T17:37:42.875878Z",
     "iopub.status.busy": "2022-12-05T17:37:42.875643Z",
     "iopub.status.idle": "2022-12-05T17:37:43.598927Z",
     "shell.execute_reply": "2022-12-05T17:37:43.598512Z"
    },
    "papermill": {
     "duration": 5.34439,
     "end_time": "2022-12-05T17:37:43.600103",
     "exception": false,
     "start_time": "2022-12-05T17:37:38.255713",
     "status": "completed"
    },
    "tags": []
   },
   "outputs": [
    {
     "data": {
      "image/png": "[encoded data removed]",
      "text/plain": [
       "<Figure size 700x700 with 1 Axes>"
      ]
     },
     "metadata": {},
     "output_type": "display_data"
    }
   ],
   "source": [
    "with sns.plotting_context(\"paper\", font_scale=1.5):\n",
    "    g = sns.displot(gene_corrs_flat, kde=True, height=7)\n",
    "    g.ax.set_title(\n",
    "        f\"Distribution of gene correlation values in chromosome {CHROMOSOME}\"\n",
    "    )"
   ]
  },
  {
   "cell_type": "markdown",
   "id": "cbd52bca-d878-4a2f-b684-5c83aa3038d4",
   "metadata": {
    "papermill": {
     "duration": 4.502938,
     "end_time": "2022-12-05T17:37:52.741047",
     "exception": false,
     "start_time": "2022-12-05T17:37:48.238109",
     "status": "completed"
    },
    "tags": []
   },
   "source": [
    "## Plot: heatmap"
   ]
  },
  {
   "cell_type": "code",
   "execution_count": 41,
   "id": "d03fe63a-c7b2-4fb9-a53c-db362ce843c9",
   "metadata": {
    "execution": {
     "iopub.execute_input": "2022-12-05T17:38:02.288619Z",
     "iopub.status.busy": "2022-12-05T17:38:02.288189Z",
     "iopub.status.idle": "2022-12-05T17:38:02.310317Z",
     "shell.execute_reply": "2022-12-05T17:38:02.309667Z"
    },
    "papermill": {
     "duration": 4.596703,
     "end_time": "2022-12-05T17:38:02.311198",
     "exception": false,
     "start_time": "2022-12-05T17:37:57.714495",
     "status": "completed"
    },
    "tags": []
   },
   "outputs": [
    {
     "data": {
      "text/plain": [
       "'0.0 / 0.05'"
      ]
     },
     "metadata": {},
     "output_type": "display_data"
    }
   ],
   "source": [
    "vmin_val = min(0.00, gene_corrs_quantiles[0.10])\n",
    "vmax_val = max(0.05, gene_corrs_quantiles[0.90])\n",
    "display(f\"{vmin_val} / {vmax_val}\")"
   ]
  },
  {
   "cell_type": "code",
   "execution_count": 42,
   "id": "dc41b70b-5bcc-4d9e-9f33-a22c4a94dab5",
   "metadata": {
    "execution": {
     "iopub.execute_input": "2022-12-05T17:38:12.190832Z",
     "iopub.status.busy": "2022-12-05T17:38:12.190375Z",
     "iopub.status.idle": "2022-12-05T17:38:12.606822Z",
     "shell.execute_reply": "2022-12-05T17:38:12.606311Z"
    },
    "papermill": {
     "duration": 5.599895,
     "end_time": "2022-12-05T17:38:12.608453",
     "exception": false,
     "start_time": "2022-12-05T17:38:07.008558",
     "status": "completed"
    },
    "tags": []
   },
   "outputs": [
    {
     "data": {
      "text/plain": [
       "Text(0.5, 1.0, 'Gene correlations in chromosome 19')"
      ]
     },
     "execution_count": 42,
     "metadata": {},
     "output_type": "execute_result"
    },
    {
     "data": {
      "image/png": "[encoded data removed]",
      "text/plain": [
       "<Figure size 1000x1000 with 2 Axes>"
      ]
     },
     "metadata": {},
     "output_type": "display_data"
    }
   ],
   "source": [
    "f, ax = plt.subplots(figsize=(10, 10))\n",
    "sns.heatmap(\n",
    "    gene_corrs_df,\n",
    "    xticklabels=False,\n",
    "    yticklabels=False,\n",
    "    square=True,\n",
    "    vmin=vmin_val,\n",
    "    vmax=vmax_val,\n",
    "    cmap=\"rocket_r\",\n",
    "    ax=ax,\n",
    ")\n",
    "ax.set_title(f\"Gene correlations in chromosome {CHROMOSOME}\")"
   ]
  },
  {
   "cell_type": "code",
   "execution_count": null,
   "id": "b25e3ead",
   "metadata": {
    "papermill": {
     "duration": 4.791031,
     "end_time": "2022-12-05T17:38:22.440410",
     "exception": false,
     "start_time": "2022-12-05T17:38:17.649379",
     "status": "completed"
    },
    "tags": []
   },
   "outputs": [],
   "source": []
  }
 ],
 "metadata": {
  "jupytext": {
   "cell_metadata_filter": "all,-execution,-papermill,-trusted",
   "formats": "ipynb,py//py:percent"
  },
  "kernelspec": {
   "display_name": "Python 3 (ipykernel)",
   "language": "python",
   "name": "python3"
  },
  "language_info": {
   "codemirror_mode": {
    "name": "ipython",
    "version": 3
   },
   "file_extension": ".py",
   "mimetype": "text/x-python",
   "name": "python",
   "nbconvert_exporter": "python",
   "pygments_lexer": "ipython3",
   "version": "3.10.6"
  },
  "papermill": {
   "default_parameters": {},
   "duration": 1542.383266,
   "end_time": "2022-12-05T17:38:30.529495",
   "environment_variables": {},
   "exception": null,
   "input_path": "projects/asthma-copd/nbs/20_gene_corrs/jobs/05-gene_expr_correlations.ipynb",
   "output_path": "projects/asthma-copd/nbs/20_gene_corrs/jobs/../output/copd_only/05-gene_expr_correlations-chr19.run.ipynb",
   "parameters": {
    "CHROMOSOME": 19,
    "COHORT_NAME": "copd_only",
    "OUTPUT_DIR_BASE": "/opt/data/projects/asthma-copd/results/gls_phenoplier",
    "PHENOPLIER_NOTEBOOK_FILEPATH": "projects/asthma-copd/nbs/20_gene_corrs/jobs/05-gene_expr_correlations.ipynb"
   },
   "start_time": "2022-12-05T17:12:48.146229",
   "version": "2.2.2"
  }
 },
 "nbformat": 4,
 "nbformat_minor": 5
}
