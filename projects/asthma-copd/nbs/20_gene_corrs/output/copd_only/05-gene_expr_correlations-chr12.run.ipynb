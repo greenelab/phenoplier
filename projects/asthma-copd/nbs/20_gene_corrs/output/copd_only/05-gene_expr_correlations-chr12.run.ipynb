{
 "cells": [
  {
   "cell_type": "markdown",
   "id": "7a6632fb",
   "metadata": {
    "papermill": {
     "duration": 0.009136,
     "end_time": "2022-12-05T17:07:39.101202",
     "exception": false,
     "start_time": "2022-12-05T17:07:39.092066",
     "status": "completed"
    },
    "tags": []
   },
   "source": [
    "# Description"
   ]
  },
  {
   "cell_type": "markdown",
   "id": "7097c346",
   "metadata": {
    "papermill": {
     "duration": 0.008721,
     "end_time": "2022-12-05T17:07:39.119406",
     "exception": false,
     "start_time": "2022-12-05T17:07:39.110685",
     "status": "completed"
    },
    "tags": []
   },
   "source": [
    "(Please, take a look at the README.md file in this directory for instructions on how to run this notebook)\n",
    "\n",
    "This notebook computes predicted expression correlations between all genes in the MultiPLIER models.\n",
    "\n",
    "It has specicfic parameters for papermill (see under `Settings` below).\n",
    "It can be configured to run on a single chromosome to run in parallel.\n",
    "\n",
    "This notebook is not directly run. See README.md."
   ]
  },
  {
   "cell_type": "markdown",
   "id": "c61d8427",
   "metadata": {
    "papermill": {
     "duration": 0.008152,
     "end_time": "2022-12-05T17:07:39.135823",
     "exception": false,
     "start_time": "2022-12-05T17:07:39.127671",
     "status": "completed"
    },
    "tags": []
   },
   "source": [
    "# Modules"
   ]
  },
  {
   "cell_type": "code",
   "execution_count": 1,
   "id": "bbc0234f",
   "metadata": {
    "execution": {
     "iopub.execute_input": "2022-12-05T17:07:39.154296Z",
     "iopub.status.busy": "2022-12-05T17:07:39.153978Z",
     "iopub.status.idle": "2022-12-05T17:07:39.170744Z",
     "shell.execute_reply": "2022-12-05T17:07:39.170231Z"
    },
    "papermill": {
     "duration": 0.027559,
     "end_time": "2022-12-05T17:07:39.172339",
     "exception": false,
     "start_time": "2022-12-05T17:07:39.144780",
     "status": "completed"
    },
    "tags": []
   },
   "outputs": [],
   "source": [
    "%load_ext autoreload\n",
    "%autoreload 2"
   ]
  },
  {
   "cell_type": "code",
   "execution_count": 2,
   "id": "1d5f5a59",
   "metadata": {
    "execution": {
     "iopub.execute_input": "2022-12-05T17:07:39.190639Z",
     "iopub.status.busy": "2022-12-05T17:07:39.190358Z",
     "iopub.status.idle": "2022-12-05T17:07:39.866835Z",
     "shell.execute_reply": "2022-12-05T17:07:39.866367Z"
    },
    "papermill": {
     "duration": 0.68775,
     "end_time": "2022-12-05T17:07:39.868613",
     "exception": false,
     "start_time": "2022-12-05T17:07:39.180863",
     "status": "completed"
    },
    "tags": []
   },
   "outputs": [],
   "source": [
    "from random import sample, seed\n",
    "import warnings\n",
    "from pathlib import Path\n",
    "import pickle\n",
    "import traceback\n",
    "\n",
    "import numpy as np\n",
    "from scipy.spatial.distance import squareform\n",
    "import pandas as pd\n",
    "from tqdm import tqdm\n",
    "import matplotlib.pyplot as plt\n",
    "import seaborn as sns\n",
    "\n",
    "import conf\n",
    "from entity import Gene"
   ]
  },
  {
   "cell_type": "markdown",
   "id": "1eac24b5",
   "metadata": {
    "papermill": {
     "duration": 0.009712,
     "end_time": "2022-12-05T17:07:39.886975",
     "exception": false,
     "start_time": "2022-12-05T17:07:39.877263",
     "status": "completed"
    },
    "tags": []
   },
   "source": [
    "# Settings"
   ]
  },
  {
   "cell_type": "code",
   "execution_count": 3,
   "id": "ca4560ba",
   "metadata": {
    "execution": {
     "iopub.execute_input": "2022-12-05T17:07:39.904358Z",
     "iopub.status.busy": "2022-12-05T17:07:39.904139Z",
     "iopub.status.idle": "2022-12-05T17:07:39.917999Z",
     "shell.execute_reply": "2022-12-05T17:07:39.917599Z"
    },
    "papermill": {
     "duration": 0.024334,
     "end_time": "2022-12-05T17:07:39.919527",
     "exception": false,
     "start_time": "2022-12-05T17:07:39.895193",
     "status": "completed"
    },
    "tags": [
     "parameters"
    ]
   },
   "outputs": [],
   "source": [
    "# a cohort name (it could be something like UK_BIOBANK, etc)\n",
    "COHORT_NAME = None\n",
    "\n",
    "# reference panel such as 1000G or GTEX_V8\n",
    "REFERENCE_PANEL = \"GTEX_V8\"\n",
    "\n",
    "# predictions models such as MASHR or ELASTIC_NET\n",
    "EQTL_MODEL = \"MASHR\"\n",
    "\n",
    "# this is the default value used in S-MultiXcan to select the\n",
    "# top principal components of the expression correlation matrix\n",
    "SMULTIXCAN_CONDITION_NUMBER = 30\n",
    "\n",
    "# specifies a single chromosome value\n",
    "CHROMOSOME = None\n",
    "\n",
    "# If True, computes the correlation between closeby genes only (see\n",
    "# entity.Gene.within_distance for more details). Otherwise, it computes\n",
    "# correlations for all genes in a chromosome\n",
    "COMPUTE_CORRELATIONS_WITHIN_DISTANCE = True\n",
    "\n",
    "# if True, then it will continue if a gene pair correlation fails,\n",
    "# printing the warning/error for debugging. If False, any warning/error\n",
    "# will be thrown\n",
    "DEBUG_MODE = False\n",
    "\n",
    "# output dir\n",
    "OUTPUT_DIR_BASE = None"
   ]
  },
  {
   "cell_type": "code",
   "execution_count": 4,
   "id": "aa7a20d1",
   "metadata": {
    "execution": {
     "iopub.execute_input": "2022-12-05T17:07:39.937565Z",
     "iopub.status.busy": "2022-12-05T17:07:39.937211Z",
     "iopub.status.idle": "2022-12-05T17:07:39.958684Z",
     "shell.execute_reply": "2022-12-05T17:07:39.958199Z"
    },
    "papermill": {
     "duration": 0.03186,
     "end_time": "2022-12-05T17:07:39.960063",
     "exception": false,
     "start_time": "2022-12-05T17:07:39.928203",
     "status": "completed"
    },
    "tags": [
     "injected-parameters"
    ]
   },
   "outputs": [],
   "source": [
    "# Parameters\n",
    "PHENOPLIER_NOTEBOOK_FILEPATH = (\n",
    "    \"projects/asthma-copd/nbs/20_gene_corrs/jobs/05-gene_expr_correlations.ipynb\"\n",
    ")\n",
    "COHORT_NAME = \"copd_only\"\n",
    "CHROMOSOME = 12\n",
    "OUTPUT_DIR_BASE = \"/opt/data/projects/asthma-copd/results/gls_phenoplier\"\n"
   ]
  },
  {
   "cell_type": "code",
   "execution_count": 5,
   "id": "3190631f-27fc-480f-b18e-571d580425a5",
   "metadata": {
    "execution": {
     "iopub.execute_input": "2022-12-05T17:07:39.977606Z",
     "iopub.status.busy": "2022-12-05T17:07:39.977110Z",
     "iopub.status.idle": "2022-12-05T17:07:40.007104Z",
     "shell.execute_reply": "2022-12-05T17:07:40.006468Z"
    },
    "papermill": {
     "duration": 0.040721,
     "end_time": "2022-12-05T17:07:40.008378",
     "exception": false,
     "start_time": "2022-12-05T17:07:39.967657",
     "status": "completed"
    },
    "tags": []
   },
   "outputs": [
    {
     "data": {
      "text/plain": [
       "'Cohort name: copd_only'"
      ]
     },
     "metadata": {},
     "output_type": "display_data"
    }
   ],
   "source": [
    "assert COHORT_NAME is not None and len(COHORT_NAME) > 0, \"A cohort name must be given\"\n",
    "\n",
    "COHORT_NAME = COHORT_NAME.lower()\n",
    "display(f\"Cohort name: {COHORT_NAME}\")"
   ]
  },
  {
   "cell_type": "code",
   "execution_count": 6,
   "id": "f53ba19b-0f93-4fa2-a047-63b375939d1a",
   "metadata": {
    "execution": {
     "iopub.execute_input": "2022-12-05T17:07:40.023303Z",
     "iopub.status.busy": "2022-12-05T17:07:40.022765Z",
     "iopub.status.idle": "2022-12-05T17:07:40.048673Z",
     "shell.execute_reply": "2022-12-05T17:07:40.048083Z"
    },
    "papermill": {
     "duration": 0.034708,
     "end_time": "2022-12-05T17:07:40.049900",
     "exception": false,
     "start_time": "2022-12-05T17:07:40.015192",
     "status": "completed"
    },
    "tags": []
   },
   "outputs": [
    {
     "data": {
      "text/plain": [
       "'Reference panel: GTEX_V8'"
      ]
     },
     "metadata": {},
     "output_type": "display_data"
    }
   ],
   "source": [
    "assert (\n",
    "    REFERENCE_PANEL is not None and len(REFERENCE_PANEL) > 0\n",
    "), \"A reference panel must be given\"\n",
    "\n",
    "display(f\"Reference panel: {REFERENCE_PANEL}\")"
   ]
  },
  {
   "cell_type": "code",
   "execution_count": 7,
   "id": "e024d130-c139-429a-9c6e-ccf149e297b0",
   "metadata": {
    "execution": {
     "iopub.execute_input": "2022-12-05T17:07:40.064052Z",
     "iopub.status.busy": "2022-12-05T17:07:40.063628Z",
     "iopub.status.idle": "2022-12-05T17:07:40.086037Z",
     "shell.execute_reply": "2022-12-05T17:07:40.085450Z"
    },
    "papermill": {
     "duration": 0.030882,
     "end_time": "2022-12-05T17:07:40.087375",
     "exception": false,
     "start_time": "2022-12-05T17:07:40.056493",
     "status": "completed"
    },
    "tags": []
   },
   "outputs": [
    {
     "data": {
      "text/plain": [
       "'eQTL model: MASHR) / mashr_'"
      ]
     },
     "metadata": {},
     "output_type": "display_data"
    }
   ],
   "source": [
    "assert (\n",
    "    EQTL_MODEL is not None and len(EQTL_MODEL) > 0\n",
    "), \"A prediction/eQTL model must be given\"\n",
    "\n",
    "EQTL_MODEL_FILES_PREFIX = conf.PHENOMEXCAN[\"PREDICTION_MODELS\"][f\"{EQTL_MODEL}_PREFIX\"]\n",
    "display(f\"eQTL model: {EQTL_MODEL}) / {EQTL_MODEL_FILES_PREFIX}\")"
   ]
  },
  {
   "cell_type": "code",
   "execution_count": 8,
   "id": "552a7f63-a18c-4d3e-bb6a-94f99b431291",
   "metadata": {
    "execution": {
     "iopub.execute_input": "2022-12-05T17:07:40.103358Z",
     "iopub.status.busy": "2022-12-05T17:07:40.102813Z",
     "iopub.status.idle": "2022-12-05T17:07:40.124631Z",
     "shell.execute_reply": "2022-12-05T17:07:40.124063Z"
    },
    "papermill": {
     "duration": 0.030951,
     "end_time": "2022-12-05T17:07:40.125892",
     "exception": false,
     "start_time": "2022-12-05T17:07:40.094941",
     "status": "completed"
    },
    "tags": []
   },
   "outputs": [
    {
     "data": {
      "text/plain": [
       "'S-MultiXcan condition number: 30'"
      ]
     },
     "metadata": {},
     "output_type": "display_data"
    }
   ],
   "source": [
    "assert (\n",
    "    SMULTIXCAN_CONDITION_NUMBER is not None and SMULTIXCAN_CONDITION_NUMBER > 0\n",
    "), \"The S-MultiXcan condition number (positive integer) must be given\"\n",
    "\n",
    "display(f\"S-MultiXcan condition number: {SMULTIXCAN_CONDITION_NUMBER}\")"
   ]
  },
  {
   "cell_type": "code",
   "execution_count": 9,
   "id": "f34a336f-548e-4afe-8955-90eaea4f42c6",
   "metadata": {
    "execution": {
     "iopub.execute_input": "2022-12-05T17:07:40.142955Z",
     "iopub.status.busy": "2022-12-05T17:07:40.142408Z",
     "iopub.status.idle": "2022-12-05T17:07:40.164862Z",
     "shell.execute_reply": "2022-12-05T17:07:40.164183Z"
    },
    "papermill": {
     "duration": 0.032038,
     "end_time": "2022-12-05T17:07:40.166109",
     "exception": false,
     "start_time": "2022-12-05T17:07:40.134071",
     "status": "completed"
    },
    "tags": []
   },
   "outputs": [
    {
     "data": {
      "text/plain": [
       "'Working on chromosome 12'"
      ]
     },
     "metadata": {},
     "output_type": "display_data"
    }
   ],
   "source": [
    "assert CHROMOSOME is not None and (\n",
    "    1 <= CHROMOSOME <= 22\n",
    "), \"You have to select one chromosome (format: number between 1 and 22)\"\n",
    "\n",
    "display(f\"Working on chromosome {CHROMOSOME}\")"
   ]
  },
  {
   "cell_type": "code",
   "execution_count": 10,
   "id": "ab8e96e8-06b5-4363-9dcd-dc4d78cc27f7",
   "metadata": {
    "execution": {
     "iopub.execute_input": "2022-12-05T17:07:40.181696Z",
     "iopub.status.busy": "2022-12-05T17:07:40.181169Z",
     "iopub.status.idle": "2022-12-05T17:07:40.206882Z",
     "shell.execute_reply": "2022-12-05T17:07:40.206225Z"
    },
    "papermill": {
     "duration": 0.035208,
     "end_time": "2022-12-05T17:07:40.208123",
     "exception": false,
     "start_time": "2022-12-05T17:07:40.172915",
     "status": "completed"
    },
    "tags": []
   },
   "outputs": [
    {
     "data": {
      "text/plain": [
       "'Compute correlation within distance True'"
      ]
     },
     "metadata": {},
     "output_type": "display_data"
    }
   ],
   "source": [
    "display(f\"Compute correlation within distance {COMPUTE_CORRELATIONS_WITHIN_DISTANCE}\")"
   ]
  },
  {
   "cell_type": "code",
   "execution_count": 11,
   "id": "b393b698-77e3-4ba2-8ac1-e14d51aa988f",
   "metadata": {
    "execution": {
     "iopub.execute_input": "2022-12-05T17:07:40.225780Z",
     "iopub.status.busy": "2022-12-05T17:07:40.225271Z",
     "iopub.status.idle": "2022-12-05T17:07:40.248868Z",
     "shell.execute_reply": "2022-12-05T17:07:40.248221Z"
    },
    "papermill": {
     "duration": 0.033789,
     "end_time": "2022-12-05T17:07:40.250173",
     "exception": false,
     "start_time": "2022-12-05T17:07:40.216384",
     "status": "completed"
    },
    "tags": []
   },
   "outputs": [
    {
     "data": {
      "text/plain": [
       "'Using output dir base: /opt/data/projects/asthma-copd/results/gls_phenoplier/gene_corrs/copd_only'"
      ]
     },
     "metadata": {},
     "output_type": "display_data"
    }
   ],
   "source": [
    "assert (\n",
    "    OUTPUT_DIR_BASE is not None and len(OUTPUT_DIR_BASE) > 0\n",
    "), \"Output directory path must be given\"\n",
    "\n",
    "OUTPUT_DIR_BASE = (Path(OUTPUT_DIR_BASE) / \"gene_corrs\" / COHORT_NAME).resolve()\n",
    "\n",
    "OUTPUT_DIR_BASE.mkdir(parents=True, exist_ok=True)\n",
    "\n",
    "display(f\"Using output dir base: {OUTPUT_DIR_BASE}\")"
   ]
  },
  {
   "cell_type": "markdown",
   "id": "d2ba085e",
   "metadata": {
    "papermill": {
     "duration": 0.007914,
     "end_time": "2022-12-05T17:07:40.266431",
     "exception": false,
     "start_time": "2022-12-05T17:07:40.258517",
     "status": "completed"
    },
    "tags": []
   },
   "source": [
    "# Load data"
   ]
  },
  {
   "cell_type": "markdown",
   "id": "7dcb8db7",
   "metadata": {
    "papermill": {
     "duration": 0.008481,
     "end_time": "2022-12-05T17:07:40.282950",
     "exception": false,
     "start_time": "2022-12-05T17:07:40.274469",
     "status": "completed"
    },
    "tags": []
   },
   "source": [
    "## GWAS variants"
   ]
  },
  {
   "cell_type": "code",
   "execution_count": 12,
   "id": "29434c4e-8cd3-4b9b-82e4-b5a251d9dd19",
   "metadata": {
    "execution": {
     "iopub.execute_input": "2022-12-05T17:07:40.300178Z",
     "iopub.status.busy": "2022-12-05T17:07:40.299692Z",
     "iopub.status.idle": "2022-12-05T17:07:42.412065Z",
     "shell.execute_reply": "2022-12-05T17:07:42.411512Z"
    },
    "papermill": {
     "duration": 2.12309,
     "end_time": "2022-12-05T17:07:42.414011",
     "exception": false,
     "start_time": "2022-12-05T17:07:40.290921",
     "status": "completed"
    },
    "tags": []
   },
   "outputs": [],
   "source": [
    "with open(OUTPUT_DIR_BASE / \"gwas_variant_ids.pkl\", \"rb\") as handle:\n",
    "    gwas_variants_ids_set = pickle.load(handle)"
   ]
  },
  {
   "cell_type": "code",
   "execution_count": 13,
   "id": "b9d9dec2-4a76-4bf9-bde2-e24c95acb8a0",
   "metadata": {
    "execution": {
     "iopub.execute_input": "2022-12-05T17:07:42.437587Z",
     "iopub.status.busy": "2022-12-05T17:07:42.437460Z",
     "iopub.status.idle": "2022-12-05T17:07:42.452326Z",
     "shell.execute_reply": "2022-12-05T17:07:42.451839Z"
    },
    "papermill": {
     "duration": 0.028597,
     "end_time": "2022-12-05T17:07:42.453728",
     "exception": false,
     "start_time": "2022-12-05T17:07:42.425131",
     "status": "completed"
    },
    "tags": []
   },
   "outputs": [
    {
     "data": {
      "text/plain": [
       "8586183"
      ]
     },
     "execution_count": 13,
     "metadata": {},
     "output_type": "execute_result"
    }
   ],
   "source": [
    "len(gwas_variants_ids_set)"
   ]
  },
  {
   "cell_type": "code",
   "execution_count": 14,
   "id": "4235b06a-6034-4ee4-a0a3-2ae35d122418",
   "metadata": {
    "execution": {
     "iopub.execute_input": "2022-12-05T17:07:42.476096Z",
     "iopub.status.busy": "2022-12-05T17:07:42.475968Z",
     "iopub.status.idle": "2022-12-05T17:07:42.897617Z",
     "shell.execute_reply": "2022-12-05T17:07:42.897121Z"
    },
    "papermill": {
     "duration": 0.434907,
     "end_time": "2022-12-05T17:07:42.899227",
     "exception": false,
     "start_time": "2022-12-05T17:07:42.464320",
     "status": "completed"
    },
    "tags": []
   },
   "outputs": [
    {
     "data": {
      "text/plain": [
       "['chr2_85295070_C_G_b38',\n",
       " 'chr4_136728386_G_A_b38',\n",
       " 'chr8_12740679_T_C_b38',\n",
       " 'chr19_10178085_C_T_b38',\n",
       " 'chr3_43591978_G_A_b38']"
      ]
     },
     "execution_count": 14,
     "metadata": {},
     "output_type": "execute_result"
    }
   ],
   "source": [
    "list(gwas_variants_ids_set)[:5]"
   ]
  },
  {
   "cell_type": "markdown",
   "id": "07866999-2305-41f9-a144-e69c9122c212",
   "metadata": {
    "papermill": {
     "duration": 0.011336,
     "end_time": "2022-12-05T17:07:42.922181",
     "exception": false,
     "start_time": "2022-12-05T17:07:42.910845",
     "status": "completed"
    },
    "tags": []
   },
   "source": [
    "## S-PrediXcan tissue models"
   ]
  },
  {
   "cell_type": "code",
   "execution_count": 15,
   "id": "780611d9-77c8-405f-90a4-f271f7b09397",
   "metadata": {
    "execution": {
     "iopub.execute_input": "2022-12-05T17:07:42.942998Z",
     "iopub.status.busy": "2022-12-05T17:07:42.942742Z",
     "iopub.status.idle": "2022-12-05T17:07:43.648393Z",
     "shell.execute_reply": "2022-12-05T17:07:43.647837Z"
    },
    "papermill": {
     "duration": 0.717701,
     "end_time": "2022-12-05T17:07:43.650191",
     "exception": false,
     "start_time": "2022-12-05T17:07:42.932490",
     "status": "completed"
    },
    "tags": []
   },
   "outputs": [],
   "source": [
    "spredixcan_genes_models = pd.read_pickle(OUTPUT_DIR_BASE / \"gene_tissues.pkl\")"
   ]
  },
  {
   "cell_type": "code",
   "execution_count": 16,
   "id": "726dd1f6-9557-4225-91fa-b3b879ea96e1",
   "metadata": {
    "execution": {
     "iopub.execute_input": "2022-12-05T17:07:43.670661Z",
     "iopub.status.busy": "2022-12-05T17:07:43.670534Z",
     "iopub.status.idle": "2022-12-05T17:07:43.684430Z",
     "shell.execute_reply": "2022-12-05T17:07:43.683974Z"
    },
    "papermill": {
     "duration": 0.025697,
     "end_time": "2022-12-05T17:07:43.685835",
     "exception": false,
     "start_time": "2022-12-05T17:07:43.660138",
     "status": "completed"
    },
    "tags": []
   },
   "outputs": [
    {
     "data": {
      "text/plain": [
       "(6443, 5)"
      ]
     },
     "execution_count": 16,
     "metadata": {},
     "output_type": "execute_result"
    }
   ],
   "source": [
    "spredixcan_genes_models.shape"
   ]
  },
  {
   "cell_type": "code",
   "execution_count": 17,
   "id": "944a1b48-222c-4eb0-b252-b9de2cbca215",
   "metadata": {
    "execution": {
     "iopub.execute_input": "2022-12-05T17:07:43.706999Z",
     "iopub.status.busy": "2022-12-05T17:07:43.706785Z",
     "iopub.status.idle": "2022-12-05T17:07:43.723803Z",
     "shell.execute_reply": "2022-12-05T17:07:43.723332Z"
    },
    "papermill": {
     "duration": 0.028787,
     "end_time": "2022-12-05T17:07:43.725152",
     "exception": false,
     "start_time": "2022-12-05T17:07:43.696365",
     "status": "completed"
    },
    "tags": []
   },
   "outputs": [
    {
     "data": {
      "text/html": [
       "<div>\n",
       "<style scoped>\n",
       "    .dataframe tbody tr th:only-of-type {\n",
       "        vertical-align: middle;\n",
       "    }\n",
       "\n",
       "    .dataframe tbody tr th {\n",
       "        vertical-align: top;\n",
       "    }\n",
       "\n",
       "    .dataframe thead th {\n",
       "        text-align: right;\n",
       "    }\n",
       "</style>\n",
       "<table border=\"1\" class=\"dataframe\">\n",
       "  <thead>\n",
       "    <tr style=\"text-align: right;\">\n",
       "      <th></th>\n",
       "      <th>gene_name</th>\n",
       "      <th>tissue</th>\n",
       "      <th>n_tissues</th>\n",
       "      <th>n_snps_used_sum</th>\n",
       "      <th>n_snps_in_model_sum</th>\n",
       "    </tr>\n",
       "    <tr>\n",
       "      <th>gene_id</th>\n",
       "      <th></th>\n",
       "      <th></th>\n",
       "      <th></th>\n",
       "      <th></th>\n",
       "      <th></th>\n",
       "    </tr>\n",
       "  </thead>\n",
       "  <tbody>\n",
       "    <tr>\n",
       "      <th>ENSG00000000419</th>\n",
       "      <td>DPM1</td>\n",
       "      <td>(Brain_Hypothalamus, Brain_Substantia_nigra)</td>\n",
       "      <td>2</td>\n",
       "      <td>2</td>\n",
       "      <td>2</td>\n",
       "    </tr>\n",
       "    <tr>\n",
       "      <th>ENSG00000000938</th>\n",
       "      <td>FGR</td>\n",
       "      <td>(Nerve_Tibial, Brain_Cortex, Lung, Stomach, Br...</td>\n",
       "      <td>36</td>\n",
       "      <td>40</td>\n",
       "      <td>40</td>\n",
       "    </tr>\n",
       "    <tr>\n",
       "      <th>ENSG00000000971</th>\n",
       "      <td>CFH</td>\n",
       "      <td>(Small_Intestine_Terminal_Ileum, Brain_Substan...</td>\n",
       "      <td>34</td>\n",
       "      <td>44</td>\n",
       "      <td>44</td>\n",
       "    </tr>\n",
       "    <tr>\n",
       "      <th>ENSG00000001084</th>\n",
       "      <td>GCLC</td>\n",
       "      <td>(Small_Intestine_Terminal_Ileum, Brain_Substan...</td>\n",
       "      <td>32</td>\n",
       "      <td>46</td>\n",
       "      <td>46</td>\n",
       "    </tr>\n",
       "    <tr>\n",
       "      <th>ENSG00000001167</th>\n",
       "      <td>NFYA</td>\n",
       "      <td>(Small_Intestine_Terminal_Ileum, Vagina, Minor...</td>\n",
       "      <td>40</td>\n",
       "      <td>47</td>\n",
       "      <td>48</td>\n",
       "    </tr>\n",
       "  </tbody>\n",
       "</table>\n",
       "</div>"
      ],
      "text/plain": [
       "                gene_name                                             tissue  \\\n",
       "gene_id                                                                        \n",
       "ENSG00000000419      DPM1       (Brain_Hypothalamus, Brain_Substantia_nigra)   \n",
       "ENSG00000000938       FGR  (Nerve_Tibial, Brain_Cortex, Lung, Stomach, Br...   \n",
       "ENSG00000000971       CFH  (Small_Intestine_Terminal_Ileum, Brain_Substan...   \n",
       "ENSG00000001084      GCLC  (Small_Intestine_Terminal_Ileum, Brain_Substan...   \n",
       "ENSG00000001167      NFYA  (Small_Intestine_Terminal_Ileum, Vagina, Minor...   \n",
       "\n",
       "                 n_tissues  n_snps_used_sum  n_snps_in_model_sum  \n",
       "gene_id                                                           \n",
       "ENSG00000000419          2                2                    2  \n",
       "ENSG00000000938         36               40                   40  \n",
       "ENSG00000000971         34               44                   44  \n",
       "ENSG00000001084         32               46                   46  \n",
       "ENSG00000001167         40               47                   48  "
      ]
     },
     "execution_count": 17,
     "metadata": {},
     "output_type": "execute_result"
    }
   ],
   "source": [
    "spredixcan_genes_models.head()"
   ]
  },
  {
   "cell_type": "code",
   "execution_count": 18,
   "id": "d1c11bb1-be0b-4f40-b360-633d6827109f",
   "metadata": {
    "execution": {
     "iopub.execute_input": "2022-12-05T17:07:43.746272Z",
     "iopub.status.busy": "2022-12-05T17:07:43.746149Z",
     "iopub.status.idle": "2022-12-05T17:07:43.759853Z",
     "shell.execute_reply": "2022-12-05T17:07:43.759374Z"
    },
    "papermill": {
     "duration": 0.026052,
     "end_time": "2022-12-05T17:07:43.761348",
     "exception": false,
     "start_time": "2022-12-05T17:07:43.735296",
     "status": "completed"
    },
    "tags": []
   },
   "outputs": [],
   "source": [
    "assert spredixcan_genes_models.index.is_unique"
   ]
  },
  {
   "cell_type": "markdown",
   "id": "a5b5092c-a13e-47c4-a92a-480fcc08f3ae",
   "metadata": {
    "papermill": {
     "duration": 0.009933,
     "end_time": "2022-12-05T17:07:43.781984",
     "exception": false,
     "start_time": "2022-12-05T17:07:43.772051",
     "status": "completed"
    },
    "tags": []
   },
   "source": [
    "## Gene info"
   ]
  },
  {
   "cell_type": "code",
   "execution_count": 19,
   "id": "7d6bb224-88e9-4358-ac10-43a41d92cdad",
   "metadata": {
    "execution": {
     "iopub.execute_input": "2022-12-05T17:07:43.802760Z",
     "iopub.status.busy": "2022-12-05T17:07:43.802482Z",
     "iopub.status.idle": "2022-12-05T17:07:43.826227Z",
     "shell.execute_reply": "2022-12-05T17:07:43.825588Z"
    },
    "papermill": {
     "duration": 0.035823,
     "end_time": "2022-12-05T17:07:43.827738",
     "exception": false,
     "start_time": "2022-12-05T17:07:43.791915",
     "status": "completed"
    },
    "tags": []
   },
   "outputs": [],
   "source": [
    "genes_info = pd.read_pickle(OUTPUT_DIR_BASE / \"genes_info.pkl\")"
   ]
  },
  {
   "cell_type": "code",
   "execution_count": 20,
   "id": "9e32abfa-546d-483e-8c18-d526e9e05903",
   "metadata": {
    "execution": {
     "iopub.execute_input": "2022-12-05T17:07:43.850006Z",
     "iopub.status.busy": "2022-12-05T17:07:43.849458Z",
     "iopub.status.idle": "2022-12-05T17:07:43.873673Z",
     "shell.execute_reply": "2022-12-05T17:07:43.873083Z"
    },
    "papermill": {
     "duration": 0.036581,
     "end_time": "2022-12-05T17:07:43.875147",
     "exception": false,
     "start_time": "2022-12-05T17:07:43.838566",
     "status": "completed"
    },
    "tags": []
   },
   "outputs": [
    {
     "data": {
      "text/plain": [
       "(6443, 7)"
      ]
     },
     "execution_count": 20,
     "metadata": {},
     "output_type": "execute_result"
    }
   ],
   "source": [
    "genes_info.shape"
   ]
  },
  {
   "cell_type": "code",
   "execution_count": 21,
   "id": "d16c3e92-85ec-468a-9a56-e25a9774a1cb",
   "metadata": {
    "execution": {
     "iopub.execute_input": "2022-12-05T17:07:43.897508Z",
     "iopub.status.busy": "2022-12-05T17:07:43.896947Z",
     "iopub.status.idle": "2022-12-05T17:07:43.923549Z",
     "shell.execute_reply": "2022-12-05T17:07:43.922948Z"
    },
    "papermill": {
     "duration": 0.039158,
     "end_time": "2022-12-05T17:07:43.924600",
     "exception": false,
     "start_time": "2022-12-05T17:07:43.885442",
     "status": "completed"
    },
    "tags": []
   },
   "outputs": [
    {
     "data": {
      "text/html": [
       "<div>\n",
       "<style scoped>\n",
       "    .dataframe tbody tr th:only-of-type {\n",
       "        vertical-align: middle;\n",
       "    }\n",
       "\n",
       "    .dataframe tbody tr th {\n",
       "        vertical-align: top;\n",
       "    }\n",
       "\n",
       "    .dataframe thead th {\n",
       "        text-align: right;\n",
       "    }\n",
       "</style>\n",
       "<table border=\"1\" class=\"dataframe\">\n",
       "  <thead>\n",
       "    <tr style=\"text-align: right;\">\n",
       "      <th></th>\n",
       "      <th>name</th>\n",
       "      <th>id</th>\n",
       "      <th>chr</th>\n",
       "      <th>band</th>\n",
       "      <th>start_position</th>\n",
       "      <th>end_position</th>\n",
       "      <th>gene_length</th>\n",
       "    </tr>\n",
       "  </thead>\n",
       "  <tbody>\n",
       "    <tr>\n",
       "      <th>0</th>\n",
       "      <td>IL2RB</td>\n",
       "      <td>ENSG00000100385</td>\n",
       "      <td>22</td>\n",
       "      <td>22q12.3</td>\n",
       "      <td>37125843</td>\n",
       "      <td>37175054</td>\n",
       "      <td>49211</td>\n",
       "    </tr>\n",
       "    <tr>\n",
       "      <th>1</th>\n",
       "      <td>ZNF208</td>\n",
       "      <td>ENSG00000160321</td>\n",
       "      <td>19</td>\n",
       "      <td>19p12</td>\n",
       "      <td>21932958</td>\n",
       "      <td>22010949</td>\n",
       "      <td>77991</td>\n",
       "    </tr>\n",
       "    <tr>\n",
       "      <th>2</th>\n",
       "      <td>CES1</td>\n",
       "      <td>ENSG00000198848</td>\n",
       "      <td>16</td>\n",
       "      <td>16q12.2</td>\n",
       "      <td>55802851</td>\n",
       "      <td>55833337</td>\n",
       "      <td>30486</td>\n",
       "    </tr>\n",
       "    <tr>\n",
       "      <th>3</th>\n",
       "      <td>XAB2</td>\n",
       "      <td>ENSG00000076924</td>\n",
       "      <td>19</td>\n",
       "      <td>19p13.2</td>\n",
       "      <td>7619525</td>\n",
       "      <td>7629545</td>\n",
       "      <td>10020</td>\n",
       "    </tr>\n",
       "    <tr>\n",
       "      <th>4</th>\n",
       "      <td>AQP1</td>\n",
       "      <td>ENSG00000240583</td>\n",
       "      <td>7</td>\n",
       "      <td>7p14.3</td>\n",
       "      <td>30911694</td>\n",
       "      <td>30925517</td>\n",
       "      <td>13823</td>\n",
       "    </tr>\n",
       "  </tbody>\n",
       "</table>\n",
       "</div>"
      ],
      "text/plain": [
       "     name               id  chr     band  start_position  end_position  \\\n",
       "0   IL2RB  ENSG00000100385   22  22q12.3        37125843      37175054   \n",
       "1  ZNF208  ENSG00000160321   19    19p12        21932958      22010949   \n",
       "2    CES1  ENSG00000198848   16  16q12.2        55802851      55833337   \n",
       "3    XAB2  ENSG00000076924   19  19p13.2         7619525       7629545   \n",
       "4    AQP1  ENSG00000240583    7   7p14.3        30911694      30925517   \n",
       "\n",
       "   gene_length  \n",
       "0        49211  \n",
       "1        77991  \n",
       "2        30486  \n",
       "3        10020  \n",
       "4        13823  "
      ]
     },
     "execution_count": 21,
     "metadata": {},
     "output_type": "execute_result"
    }
   ],
   "source": [
    "genes_info.head()"
   ]
  },
  {
   "cell_type": "markdown",
   "id": "d3843e06",
   "metadata": {
    "papermill": {
     "duration": 0.005297,
     "end_time": "2022-12-05T17:07:43.935662",
     "exception": false,
     "start_time": "2022-12-05T17:07:43.930365",
     "status": "completed"
    },
    "tags": []
   },
   "source": [
    "# Compute correlations"
   ]
  },
  {
   "cell_type": "code",
   "execution_count": 22,
   "id": "cb859c15-d1f3-4006-a74c-2b83c0db9611",
   "metadata": {
    "execution": {
     "iopub.execute_input": "2022-12-05T17:07:43.947516Z",
     "iopub.status.busy": "2022-12-05T17:07:43.947206Z",
     "iopub.status.idle": "2022-12-05T17:07:43.971792Z",
     "shell.execute_reply": "2022-12-05T17:07:43.971200Z"
    },
    "papermill": {
     "duration": 0.031807,
     "end_time": "2022-12-05T17:07:43.972770",
     "exception": false,
     "start_time": "2022-12-05T17:07:43.940963",
     "status": "completed"
    },
    "tags": []
   },
   "outputs": [
    {
     "data": {
      "text/plain": [
       "PosixPath('/opt/data/projects/asthma-copd/results/gls_phenoplier/gene_corrs/copd_only/by_chr/gene_corrs-chr12.pkl')"
      ]
     },
     "metadata": {},
     "output_type": "display_data"
    }
   ],
   "source": [
    "output_dir = OUTPUT_DIR_BASE / \"by_chr\"\n",
    "output_dir.mkdir(exist_ok=True, parents=True)\n",
    "output_file = output_dir / f\"gene_corrs-chr{CHROMOSOME}.pkl\"\n",
    "display(output_file)"
   ]
  },
  {
   "cell_type": "code",
   "execution_count": 23,
   "id": "aa674fe4-6794-4eed-98fa-32b39d1d4ace",
   "metadata": {
    "execution": {
     "iopub.execute_input": "2022-12-05T17:07:43.984930Z",
     "iopub.status.busy": "2022-12-05T17:07:43.984312Z",
     "iopub.status.idle": "2022-12-05T17:07:44.005636Z",
     "shell.execute_reply": "2022-12-05T17:07:44.004962Z"
    },
    "papermill": {
     "duration": 0.02891,
     "end_time": "2022-12-05T17:07:44.007210",
     "exception": false,
     "start_time": "2022-12-05T17:07:43.978300",
     "status": "completed"
    },
    "tags": []
   },
   "outputs": [],
   "source": [
    "warnings.filterwarnings(\"error\")"
   ]
  },
  {
   "cell_type": "code",
   "execution_count": 24,
   "id": "44d5450b-3baf-43f1-9e2e-4b06f1a785f8",
   "metadata": {
    "execution": {
     "iopub.execute_input": "2022-12-05T17:07:44.030637Z",
     "iopub.status.busy": "2022-12-05T17:07:44.030167Z",
     "iopub.status.idle": "2022-12-05T17:07:44.052656Z",
     "shell.execute_reply": "2022-12-05T17:07:44.051985Z"
    },
    "papermill": {
     "duration": 0.035818,
     "end_time": "2022-12-05T17:07:44.054061",
     "exception": false,
     "start_time": "2022-12-05T17:07:44.018243",
     "status": "completed"
    },
    "tags": []
   },
   "outputs": [],
   "source": [
    "# standard checks\n",
    "all_chrs = genes_info[\"chr\"].dropna().unique()\n",
    "assert all_chrs.shape[0] == 22\n",
    "\n",
    "# select chromosome given by the user\n",
    "assert CHROMOSOME in all_chrs"
   ]
  },
  {
   "cell_type": "code",
   "execution_count": 25,
   "id": "2d7c043c-92a7-4d35-991b-fa69ac1e0268",
   "metadata": {
    "execution": {
     "iopub.execute_input": "2022-12-05T17:07:44.076412Z",
     "iopub.status.busy": "2022-12-05T17:07:44.076099Z",
     "iopub.status.idle": "2022-12-05T17:07:44.099306Z",
     "shell.execute_reply": "2022-12-05T17:07:44.098710Z"
    },
    "papermill": {
     "duration": 0.035677,
     "end_time": "2022-12-05T17:07:44.100361",
     "exception": false,
     "start_time": "2022-12-05T17:07:44.064684",
     "status": "completed"
    },
    "tags": []
   },
   "outputs": [
    {
     "name": "stdout",
     "output_type": "stream",
     "text": [
      "Number of genes in chromosome: 388\n"
     ]
    }
   ],
   "source": [
    "# run only on the chromosome specified\n",
    "all_chrs = [CHROMOSOME]\n",
    "genes_chr = genes_info[genes_info[\"chr\"] == CHROMOSOME]\n",
    "\n",
    "# For testing purposes\n",
    "# genes_chr = genes_chr.sample(n=20)\n",
    "\n",
    "print(f\"Number of genes in chromosome: {genes_chr.shape[0]}\", flush=True)"
   ]
  },
  {
   "cell_type": "code",
   "execution_count": 26,
   "id": "916015d8-2979-46d3-a9b9-1cf5a0932c6a",
   "metadata": {
    "execution": {
     "iopub.execute_input": "2022-12-05T17:07:44.122275Z",
     "iopub.status.busy": "2022-12-05T17:07:44.121692Z",
     "iopub.status.idle": "2022-12-05T17:07:44.143268Z",
     "shell.execute_reply": "2022-12-05T17:07:44.142669Z"
    },
    "papermill": {
     "duration": 0.033766,
     "end_time": "2022-12-05T17:07:44.144532",
     "exception": false,
     "start_time": "2022-12-05T17:07:44.110766",
     "status": "completed"
    },
    "tags": []
   },
   "outputs": [],
   "source": [
    "# sort genes by starting position to make visualizations better later\n",
    "genes_chr = genes_chr.sort_values(\"start_position\")"
   ]
  },
  {
   "cell_type": "code",
   "execution_count": 27,
   "id": "a38aa74a-8ad3-47f6-8ef9-56be0e011774",
   "metadata": {
    "execution": {
     "iopub.execute_input": "2022-12-05T17:07:44.166210Z",
     "iopub.status.busy": "2022-12-05T17:07:44.165662Z",
     "iopub.status.idle": "2022-12-05T17:07:44.189787Z",
     "shell.execute_reply": "2022-12-05T17:07:44.189228Z"
    },
    "papermill": {
     "duration": 0.03659,
     "end_time": "2022-12-05T17:07:44.191094",
     "exception": false,
     "start_time": "2022-12-05T17:07:44.154504",
     "status": "completed"
    },
    "tags": []
   },
   "outputs": [],
   "source": [
    "gene_chr_objs = [Gene(ensembl_id=gene_id) for gene_id in genes_chr[\"id\"]]"
   ]
  },
  {
   "cell_type": "code",
   "execution_count": 28,
   "id": "570f974f-13c3-42b6-ad3a-ce99ca885c1a",
   "metadata": {
    "execution": {
     "iopub.execute_input": "2022-12-05T17:07:44.213403Z",
     "iopub.status.busy": "2022-12-05T17:07:44.212985Z",
     "iopub.status.idle": "2022-12-05T17:07:44.236532Z",
     "shell.execute_reply": "2022-12-05T17:07:44.235981Z"
    },
    "papermill": {
     "duration": 0.03631,
     "end_time": "2022-12-05T17:07:44.237819",
     "exception": false,
     "start_time": "2022-12-05T17:07:44.201509",
     "status": "completed"
    },
    "tags": []
   },
   "outputs": [
    {
     "name": "stdout",
     "output_type": "stream",
     "text": [
      "Number of gene combinations: 75466\n"
     ]
    }
   ],
   "source": [
    "n = len(gene_chr_objs)\n",
    "# diagonal elements + upper triangular matrix\n",
    "n_comb = n + int(n * (n - 1) / 2.0)\n",
    "print(f\"Number of gene combinations: {n_comb}\", flush=True)"
   ]
  },
  {
   "cell_type": "code",
   "execution_count": 29,
   "id": "cdbb90a1",
   "metadata": {
    "execution": {
     "iopub.execute_input": "2022-12-05T17:07:44.260109Z",
     "iopub.status.busy": "2022-12-05T17:07:44.259675Z",
     "iopub.status.idle": "2022-12-05T17:15:24.713607Z",
     "shell.execute_reply": "2022-12-05T17:15:24.713008Z"
    },
    "papermill": {
     "duration": 460.466249,
     "end_time": "2022-12-05T17:15:24.714529",
     "exception": false,
     "start_time": "2022-12-05T17:07:44.248280",
     "status": "completed"
    },
    "tags": []
   },
   "outputs": [
    {
     "name": "stderr",
     "output_type": "stream",
     "text": [
      "ENSG00000256223 / ENSG00000256223: 100%|█████████████████████| 75466/75466 [07:40<00:00, 163.91it/s]\n"
     ]
    },
    {
     "data": {
      "text/plain": [
       "PosixPath('/opt/data/projects/asthma-copd/results/gls_phenoplier/gene_corrs/copd_only/by_chr/gene_corrs-chr12.pkl')"
      ]
     },
     "metadata": {},
     "output_type": "display_data"
    }
   ],
   "source": [
    "gene_corrs = []\n",
    "gene_corrs_data = np.full(\n",
    "    (n, n),\n",
    "    np.nan,\n",
    "    dtype=np.float64,\n",
    ")\n",
    "\n",
    "i = 0\n",
    "with tqdm(ncols=100, total=n_comb) as pbar:\n",
    "    for gene1_idx in range(0, len(gene_chr_objs)):\n",
    "        gene1_obj = gene_chr_objs[gene1_idx]\n",
    "        gene1_tissues = spredixcan_genes_models.loc[gene1_obj.ensembl_id, \"tissue\"]\n",
    "\n",
    "        for gene2_idx in range(gene1_idx, len(gene_chr_objs)):\n",
    "            gene2_obj = gene_chr_objs[gene2_idx]\n",
    "            gene2_tissues = spredixcan_genes_models.loc[gene2_obj.ensembl_id, \"tissue\"]\n",
    "\n",
    "            pbar.set_description(f\"{gene1_obj.ensembl_id} / {gene2_obj.ensembl_id}\")\n",
    "\n",
    "            try:\n",
    "                r = gene1_obj.get_ssm_correlation(\n",
    "                    other_gene=gene2_obj,\n",
    "                    tissues=gene1_tissues,\n",
    "                    other_tissues=gene2_tissues,\n",
    "                    snps_subset=gwas_variants_ids_set,\n",
    "                    condition_number=SMULTIXCAN_CONDITION_NUMBER,\n",
    "                    reference_panel=REFERENCE_PANEL,\n",
    "                    model_type=EQTL_MODEL,\n",
    "                    use_within_distance=COMPUTE_CORRELATIONS_WITHIN_DISTANCE,\n",
    "                )\n",
    "\n",
    "                if r is None:\n",
    "                    # if r is None, it's very likely because:\n",
    "                    #  * one of the genes has no prediction models\n",
    "                    #  * all the SNPs predictors for the gene are not present in the reference\n",
    "                    #    panel\n",
    "\n",
    "                    r = 0.0\n",
    "\n",
    "                gene_corrs.append(r)\n",
    "\n",
    "                gene_corrs_data[gene1_idx, gene2_idx] = r\n",
    "                gene_corrs_data[gene2_idx, gene1_idx] = r\n",
    "            except Warning as e:\n",
    "                if not DEBUG_MODE:\n",
    "                    raise e\n",
    "\n",
    "                print(\n",
    "                    f\"RuntimeWarning for genes {gene1_obj.ensembl_id} and {gene2_obj.ensembl_id}\",\n",
    "                    flush=True,\n",
    "                )\n",
    "                print(traceback.format_exc(), flush=True)\n",
    "\n",
    "                gene_corrs.append(np.nan)\n",
    "            except Exception as e:\n",
    "                if not DEBUG_MODE:\n",
    "                    raise e\n",
    "\n",
    "                print(\n",
    "                    f\"Exception for genes {gene1_obj.ensembl_id} and {gene2_obj.ensembl_id}\",\n",
    "                    flush=True,\n",
    "                )\n",
    "                print(traceback.format_exc(), flush=True)\n",
    "\n",
    "                gene_corrs.append(np.nan)\n",
    "\n",
    "            pbar.update(1)\n",
    "\n",
    "# create a pandas series\n",
    "gene_corrs_flat = pd.Series(gene_corrs)\n",
    "\n",
    "# save\n",
    "# FIXME: consider saving only the condenced matrix here. See here for\n",
    "# more details: https://github.com/greenelab/phenoplier/pull/38#discussion_r634600813\n",
    "# gene_corrs_data = squareform(np.array(gene_corrs, dtype=np.float64))\n",
    "# np.fill_diagonal(gene_corrs_data, 1.0)\n",
    "\n",
    "gene_chr_ids = [g.ensembl_id for g in gene_chr_objs]\n",
    "gene_corrs_df = pd.DataFrame(\n",
    "    data=gene_corrs_data,\n",
    "    index=gene_chr_ids,\n",
    "    columns=gene_chr_ids,\n",
    ")\n",
    "\n",
    "output_dir.mkdir(exist_ok=True, parents=True)\n",
    "display(output_file)\n",
    "\n",
    "gene_corrs_df.to_pickle(output_file)"
   ]
  },
  {
   "cell_type": "markdown",
   "id": "faa67b51-5373-470f-aa72-2ded53fa6dfe",
   "metadata": {
    "papermill": {
     "duration": 2.252013,
     "end_time": "2022-12-05T17:15:29.395381",
     "exception": false,
     "start_time": "2022-12-05T17:15:27.143368",
     "status": "completed"
    },
    "tags": []
   },
   "source": [
    "# Testing"
   ]
  },
  {
   "cell_type": "code",
   "execution_count": 30,
   "id": "14f7d046-4b55-4896-a56b-990127bcc388",
   "metadata": {
    "execution": {
     "iopub.execute_input": "2022-12-05T17:15:34.033138Z",
     "iopub.status.busy": "2022-12-05T17:15:34.032770Z",
     "iopub.status.idle": "2022-12-05T17:15:34.052310Z",
     "shell.execute_reply": "2022-12-05T17:15:34.051663Z"
    },
    "papermill": {
     "duration": 2.350518,
     "end_time": "2022-12-05T17:15:34.053254",
     "exception": false,
     "start_time": "2022-12-05T17:15:31.702736",
     "status": "completed"
    },
    "tags": []
   },
   "outputs": [
    {
     "data": {
      "text/plain": [
       "(388, 388)"
      ]
     },
     "execution_count": 30,
     "metadata": {},
     "output_type": "execute_result"
    }
   ],
   "source": [
    "gene_corrs_df.shape"
   ]
  },
  {
   "cell_type": "code",
   "execution_count": 31,
   "id": "c7d15414-3297-4537-a7c6-7588c0baeb75",
   "metadata": {
    "execution": {
     "iopub.execute_input": "2022-12-05T17:15:38.685452Z",
     "iopub.status.busy": "2022-12-05T17:15:38.685110Z",
     "iopub.status.idle": "2022-12-05T17:15:38.717763Z",
     "shell.execute_reply": "2022-12-05T17:15:38.717234Z"
    },
    "papermill": {
     "duration": 2.302024,
     "end_time": "2022-12-05T17:15:38.718538",
     "exception": false,
     "start_time": "2022-12-05T17:15:36.416514",
     "status": "completed"
    },
    "tags": []
   },
   "outputs": [
    {
     "data": {
      "text/html": [
       "<div>\n",
       "<style scoped>\n",
       "    .dataframe tbody tr th:only-of-type {\n",
       "        vertical-align: middle;\n",
       "    }\n",
       "\n",
       "    .dataframe tbody tr th {\n",
       "        vertical-align: top;\n",
       "    }\n",
       "\n",
       "    .dataframe thead th {\n",
       "        text-align: right;\n",
       "    }\n",
       "</style>\n",
       "<table border=\"1\" class=\"dataframe\">\n",
       "  <thead>\n",
       "    <tr style=\"text-align: right;\">\n",
       "      <th></th>\n",
       "      <th>ENSG00000120645</th>\n",
       "      <th>ENSG00000111181</th>\n",
       "      <th>ENSG00000171840</th>\n",
       "      <th>ENSG00000060237</th>\n",
       "      <th>ENSG00000002016</th>\n",
       "      <th>ENSG00000082805</th>\n",
       "      <th>ENSG00000111186</th>\n",
       "      <th>ENSG00000006831</th>\n",
       "      <th>ENSG00000151062</th>\n",
       "      <th>ENSG00000151065</th>\n",
       "      <th>...</th>\n",
       "      <th>ENSG00000132341</th>\n",
       "      <th>ENSG00000198598</th>\n",
       "      <th>ENSG00000177169</th>\n",
       "      <th>ENSG00000182870</th>\n",
       "      <th>ENSG00000177084</th>\n",
       "      <th>ENSG00000176894</th>\n",
       "      <th>ENSG00000196458</th>\n",
       "      <th>ENSG00000198393</th>\n",
       "      <th>ENSG00000196387</th>\n",
       "      <th>ENSG00000256223</th>\n",
       "    </tr>\n",
       "  </thead>\n",
       "  <tbody>\n",
       "    <tr>\n",
       "      <th>ENSG00000120645</th>\n",
       "      <td>1.000000</td>\n",
       "      <td>0.084977</td>\n",
       "      <td>0.010732</td>\n",
       "      <td>0.013075</td>\n",
       "      <td>0.006635</td>\n",
       "      <td>0.013251</td>\n",
       "      <td>0.008958</td>\n",
       "      <td>0.012192</td>\n",
       "      <td>0.011312</td>\n",
       "      <td>0.007988</td>\n",
       "      <td>...</td>\n",
       "      <td>0.0</td>\n",
       "      <td>0.0</td>\n",
       "      <td>0.0</td>\n",
       "      <td>0.0</td>\n",
       "      <td>0.0</td>\n",
       "      <td>0.0</td>\n",
       "      <td>0.0</td>\n",
       "      <td>0.0</td>\n",
       "      <td>0.0</td>\n",
       "      <td>0.0</td>\n",
       "    </tr>\n",
       "    <tr>\n",
       "      <th>ENSG00000111181</th>\n",
       "      <td>0.084977</td>\n",
       "      <td>1.000000</td>\n",
       "      <td>0.013874</td>\n",
       "      <td>0.010570</td>\n",
       "      <td>0.006832</td>\n",
       "      <td>0.010852</td>\n",
       "      <td>0.007484</td>\n",
       "      <td>0.006804</td>\n",
       "      <td>0.010243</td>\n",
       "      <td>0.007208</td>\n",
       "      <td>...</td>\n",
       "      <td>0.0</td>\n",
       "      <td>0.0</td>\n",
       "      <td>0.0</td>\n",
       "      <td>0.0</td>\n",
       "      <td>0.0</td>\n",
       "      <td>0.0</td>\n",
       "      <td>0.0</td>\n",
       "      <td>0.0</td>\n",
       "      <td>0.0</td>\n",
       "      <td>0.0</td>\n",
       "    </tr>\n",
       "    <tr>\n",
       "      <th>ENSG00000171840</th>\n",
       "      <td>0.010732</td>\n",
       "      <td>0.013874</td>\n",
       "      <td>1.000000</td>\n",
       "      <td>0.147871</td>\n",
       "      <td>0.013080</td>\n",
       "      <td>0.013927</td>\n",
       "      <td>0.013738</td>\n",
       "      <td>0.006195</td>\n",
       "      <td>0.012258</td>\n",
       "      <td>0.007633</td>\n",
       "      <td>...</td>\n",
       "      <td>0.0</td>\n",
       "      <td>0.0</td>\n",
       "      <td>0.0</td>\n",
       "      <td>0.0</td>\n",
       "      <td>0.0</td>\n",
       "      <td>0.0</td>\n",
       "      <td>0.0</td>\n",
       "      <td>0.0</td>\n",
       "      <td>0.0</td>\n",
       "      <td>0.0</td>\n",
       "    </tr>\n",
       "    <tr>\n",
       "      <th>ENSG00000060237</th>\n",
       "      <td>0.013075</td>\n",
       "      <td>0.010570</td>\n",
       "      <td>0.147871</td>\n",
       "      <td>1.000000</td>\n",
       "      <td>0.218221</td>\n",
       "      <td>0.018323</td>\n",
       "      <td>0.011846</td>\n",
       "      <td>0.010363</td>\n",
       "      <td>0.010199</td>\n",
       "      <td>0.007227</td>\n",
       "      <td>...</td>\n",
       "      <td>0.0</td>\n",
       "      <td>0.0</td>\n",
       "      <td>0.0</td>\n",
       "      <td>0.0</td>\n",
       "      <td>0.0</td>\n",
       "      <td>0.0</td>\n",
       "      <td>0.0</td>\n",
       "      <td>0.0</td>\n",
       "      <td>0.0</td>\n",
       "      <td>0.0</td>\n",
       "    </tr>\n",
       "    <tr>\n",
       "      <th>ENSG00000002016</th>\n",
       "      <td>0.006635</td>\n",
       "      <td>0.006832</td>\n",
       "      <td>0.013080</td>\n",
       "      <td>0.218221</td>\n",
       "      <td>1.000000</td>\n",
       "      <td>0.019884</td>\n",
       "      <td>0.009110</td>\n",
       "      <td>0.003982</td>\n",
       "      <td>0.007333</td>\n",
       "      <td>0.007657</td>\n",
       "      <td>...</td>\n",
       "      <td>0.0</td>\n",
       "      <td>0.0</td>\n",
       "      <td>0.0</td>\n",
       "      <td>0.0</td>\n",
       "      <td>0.0</td>\n",
       "      <td>0.0</td>\n",
       "      <td>0.0</td>\n",
       "      <td>0.0</td>\n",
       "      <td>0.0</td>\n",
       "      <td>0.0</td>\n",
       "    </tr>\n",
       "  </tbody>\n",
       "</table>\n",
       "<p>5 rows × 388 columns</p>\n",
       "</div>"
      ],
      "text/plain": [
       "                 ENSG00000120645  ENSG00000111181  ENSG00000171840  \\\n",
       "ENSG00000120645         1.000000         0.084977         0.010732   \n",
       "ENSG00000111181         0.084977         1.000000         0.013874   \n",
       "ENSG00000171840         0.010732         0.013874         1.000000   \n",
       "ENSG00000060237         0.013075         0.010570         0.147871   \n",
       "ENSG00000002016         0.006635         0.006832         0.013080   \n",
       "\n",
       "                 ENSG00000060237  ENSG00000002016  ENSG00000082805  \\\n",
       "ENSG00000120645         0.013075         0.006635         0.013251   \n",
       "ENSG00000111181         0.010570         0.006832         0.010852   \n",
       "ENSG00000171840         0.147871         0.013080         0.013927   \n",
       "ENSG00000060237         1.000000         0.218221         0.018323   \n",
       "ENSG00000002016         0.218221         1.000000         0.019884   \n",
       "\n",
       "                 ENSG00000111186  ENSG00000006831  ENSG00000151062  \\\n",
       "ENSG00000120645         0.008958         0.012192         0.011312   \n",
       "ENSG00000111181         0.007484         0.006804         0.010243   \n",
       "ENSG00000171840         0.013738         0.006195         0.012258   \n",
       "ENSG00000060237         0.011846         0.010363         0.010199   \n",
       "ENSG00000002016         0.009110         0.003982         0.007333   \n",
       "\n",
       "                 ENSG00000151065  ...  ENSG00000132341  ENSG00000198598  \\\n",
       "ENSG00000120645         0.007988  ...              0.0              0.0   \n",
       "ENSG00000111181         0.007208  ...              0.0              0.0   \n",
       "ENSG00000171840         0.007633  ...              0.0              0.0   \n",
       "ENSG00000060237         0.007227  ...              0.0              0.0   \n",
       "ENSG00000002016         0.007657  ...              0.0              0.0   \n",
       "\n",
       "                 ENSG00000177169  ENSG00000182870  ENSG00000177084  \\\n",
       "ENSG00000120645              0.0              0.0              0.0   \n",
       "ENSG00000111181              0.0              0.0              0.0   \n",
       "ENSG00000171840              0.0              0.0              0.0   \n",
       "ENSG00000060237              0.0              0.0              0.0   \n",
       "ENSG00000002016              0.0              0.0              0.0   \n",
       "\n",
       "                 ENSG00000176894  ENSG00000196458  ENSG00000198393  \\\n",
       "ENSG00000120645              0.0              0.0              0.0   \n",
       "ENSG00000111181              0.0              0.0              0.0   \n",
       "ENSG00000171840              0.0              0.0              0.0   \n",
       "ENSG00000060237              0.0              0.0              0.0   \n",
       "ENSG00000002016              0.0              0.0              0.0   \n",
       "\n",
       "                 ENSG00000196387  ENSG00000256223  \n",
       "ENSG00000120645              0.0              0.0  \n",
       "ENSG00000111181              0.0              0.0  \n",
       "ENSG00000171840              0.0              0.0  \n",
       "ENSG00000060237              0.0              0.0  \n",
       "ENSG00000002016              0.0              0.0  \n",
       "\n",
       "[5 rows x 388 columns]"
      ]
     },
     "execution_count": 31,
     "metadata": {},
     "output_type": "execute_result"
    }
   ],
   "source": [
    "gene_corrs_df.head()"
   ]
  },
  {
   "cell_type": "markdown",
   "id": "dad6603f-01c6-41fb-a6f6-241051207dd8",
   "metadata": {
    "papermill": {
     "duration": 2.307803,
     "end_time": "2022-12-05T17:15:43.290723",
     "exception": false,
     "start_time": "2022-12-05T17:15:40.982920",
     "status": "completed"
    },
    "tags": []
   },
   "source": [
    "## Standard checks and stats"
   ]
  },
  {
   "cell_type": "code",
   "execution_count": 32,
   "id": "286686af-1b7b-4440-8453-6bdcbd8de19c",
   "metadata": {
    "execution": {
     "iopub.execute_input": "2022-12-05T17:15:47.859990Z",
     "iopub.status.busy": "2022-12-05T17:15:47.859254Z",
     "iopub.status.idle": "2022-12-05T17:15:47.882647Z",
     "shell.execute_reply": "2022-12-05T17:15:47.881996Z"
    },
    "papermill": {
     "duration": 2.343552,
     "end_time": "2022-12-05T17:15:47.883713",
     "exception": false,
     "start_time": "2022-12-05T17:15:45.540161",
     "status": "completed"
    },
    "tags": []
   },
   "outputs": [],
   "source": [
    "assert not gene_corrs_df.isna().any(axis=None)"
   ]
  },
  {
   "cell_type": "code",
   "execution_count": 33,
   "id": "00583efc-7068-4270-ad1e-4a418e91db96",
   "metadata": {
    "execution": {
     "iopub.execute_input": "2022-12-05T17:15:52.540865Z",
     "iopub.status.busy": "2022-12-05T17:15:52.540074Z",
     "iopub.status.idle": "2022-12-05T17:15:52.565679Z",
     "shell.execute_reply": "2022-12-05T17:15:52.565113Z"
    },
    "papermill": {
     "duration": 2.491426,
     "end_time": "2022-12-05T17:15:52.566594",
     "exception": false,
     "start_time": "2022-12-05T17:15:50.075168",
     "status": "completed"
    },
    "tags": []
   },
   "outputs": [
    {
     "data": {
      "text/plain": [
       "0.0"
      ]
     },
     "metadata": {},
     "output_type": "display_data"
    }
   ],
   "source": [
    "_min_val = gene_corrs_df.min().min()\n",
    "display(_min_val)\n",
    "assert _min_val >= -0.05"
   ]
  },
  {
   "cell_type": "code",
   "execution_count": 34,
   "id": "d04fb2cf-1050-475b-b855-f5f7cc04092b",
   "metadata": {
    "execution": {
     "iopub.execute_input": "2022-12-05T17:15:57.144177Z",
     "iopub.status.busy": "2022-12-05T17:15:57.143519Z",
     "iopub.status.idle": "2022-12-05T17:15:57.163564Z",
     "shell.execute_reply": "2022-12-05T17:15:57.162922Z"
    },
    "papermill": {
     "duration": 2.34237,
     "end_time": "2022-12-05T17:15:57.164494",
     "exception": false,
     "start_time": "2022-12-05T17:15:54.822124",
     "status": "completed"
    },
    "tags": []
   },
   "outputs": [
    {
     "data": {
      "text/plain": [
       "1.0000000000000033"
      ]
     },
     "metadata": {},
     "output_type": "display_data"
    }
   ],
   "source": [
    "_max_val = gene_corrs_df.max().max()  # this captures the diagonal\n",
    "display(_max_val)\n",
    "assert _max_val <= 1.05"
   ]
  },
  {
   "cell_type": "code",
   "execution_count": 35,
   "id": "fe283586-c348-40e0-8841-f6d97bfb021c",
   "metadata": {
    "execution": {
     "iopub.execute_input": "2022-12-05T17:16:01.650874Z",
     "iopub.status.busy": "2022-12-05T17:16:01.650688Z",
     "iopub.status.idle": "2022-12-05T17:16:01.668305Z",
     "shell.execute_reply": "2022-12-05T17:16:01.667697Z"
    },
    "papermill": {
     "duration": 2.325601,
     "end_time": "2022-12-05T17:16:01.669247",
     "exception": false,
     "start_time": "2022-12-05T17:15:59.343646",
     "status": "completed"
    },
    "tags": []
   },
   "outputs": [
    {
     "data": {
      "text/plain": [
       "count    75466.000000\n",
       "mean         0.008291\n",
       "std          0.077818\n",
       "min          0.000000\n",
       "25%          0.000000\n",
       "50%          0.000000\n",
       "75%          0.000000\n",
       "max          1.000000\n",
       "dtype: float64"
      ]
     },
     "execution_count": 35,
     "metadata": {},
     "output_type": "execute_result"
    }
   ],
   "source": [
    "gene_corrs_flat.describe()"
   ]
  },
  {
   "cell_type": "code",
   "execution_count": 36,
   "id": "b3815678-0f93-4b35-897b-a9d047a2aa78",
   "metadata": {
    "execution": {
     "iopub.execute_input": "2022-12-05T17:16:06.180718Z",
     "iopub.status.busy": "2022-12-05T17:16:06.180402Z",
     "iopub.status.idle": "2022-12-05T17:16:06.205458Z",
     "shell.execute_reply": "2022-12-05T17:16:06.204913Z"
    },
    "papermill": {
     "duration": 2.283554,
     "end_time": "2022-12-05T17:16:06.206359",
     "exception": false,
     "start_time": "2022-12-05T17:16:03.922805",
     "status": "completed"
    },
    "tags": []
   },
   "outputs": [
    {
     "data": {
      "text/plain": [
       "0.00    0.000000\n",
       "0.05    0.000000\n",
       "0.10    0.000000\n",
       "0.15    0.000000\n",
       "0.20    0.000000\n",
       "0.25    0.000000\n",
       "0.30    0.000000\n",
       "0.35    0.000000\n",
       "0.40    0.000000\n",
       "0.45    0.000000\n",
       "0.50    0.000000\n",
       "0.55    0.000000\n",
       "0.60    0.000000\n",
       "0.65    0.000000\n",
       "0.70    0.000000\n",
       "0.75    0.000000\n",
       "0.80    0.000000\n",
       "0.85    0.000000\n",
       "0.90    0.003274\n",
       "0.95    0.007834\n",
       "dtype: float64"
      ]
     },
     "metadata": {},
     "output_type": "display_data"
    }
   ],
   "source": [
    "gene_corrs_quantiles = gene_corrs_flat.quantile(np.arange(0, 1, 0.05))\n",
    "display(gene_corrs_quantiles)"
   ]
  },
  {
   "cell_type": "markdown",
   "id": "87134509-b145-4a10-8bc9-b7e914c2b0fa",
   "metadata": {
    "papermill": {
     "duration": 2.284603,
     "end_time": "2022-12-05T17:16:10.916496",
     "exception": false,
     "start_time": "2022-12-05T17:16:08.631893",
     "status": "completed"
    },
    "tags": []
   },
   "source": [
    "## Positive definiteness"
   ]
  },
  {
   "cell_type": "code",
   "execution_count": 37,
   "id": "07d9a9a1-a4f7-48aa-b916-6d42a8cc6186",
   "metadata": {
    "execution": {
     "iopub.execute_input": "2022-12-05T17:16:15.425973Z",
     "iopub.status.busy": "2022-12-05T17:16:15.425362Z",
     "iopub.status.idle": "2022-12-05T17:16:15.507447Z",
     "shell.execute_reply": "2022-12-05T17:16:15.507071Z"
    },
    "papermill": {
     "duration": 2.260927,
     "end_time": "2022-12-05T17:16:15.508225",
     "exception": false,
     "start_time": "2022-12-05T17:16:13.247298",
     "status": "completed"
    },
    "tags": []
   },
   "outputs": [
    {
     "data": {
      "text/plain": [
       "1"
      ]
     },
     "metadata": {},
     "output_type": "display_data"
    },
    {
     "data": {
      "text/plain": [
       "array([-1.04515219e-15])"
      ]
     },
     "metadata": {},
     "output_type": "display_data"
    }
   ],
   "source": [
    "# print negative eigenvalues\n",
    "eigs = np.linalg.eigvals(gene_corrs_df.to_numpy())\n",
    "display(len(eigs[eigs < 0]))\n",
    "display(eigs[eigs < 0])"
   ]
  },
  {
   "cell_type": "code",
   "execution_count": 38,
   "id": "6e218436-c3c5-4028-8c94-a4fa6260efce",
   "metadata": {
    "execution": {
     "iopub.execute_input": "2022-12-05T17:16:20.079282Z",
     "iopub.status.busy": "2022-12-05T17:16:20.078824Z",
     "iopub.status.idle": "2022-12-05T17:16:20.104409Z",
     "shell.execute_reply": "2022-12-05T17:16:20.103702Z"
    },
    "papermill": {
     "duration": 2.281581,
     "end_time": "2022-12-05T17:16:20.105356",
     "exception": false,
     "start_time": "2022-12-05T17:16:17.823775",
     "status": "completed"
    },
    "tags": []
   },
   "outputs": [
    {
     "name": "stdout",
     "output_type": "stream",
     "text": [
      "Cholesky decomposition failed: Matrix is not positive definite\n"
     ]
    }
   ],
   "source": [
    "try:\n",
    "    chol_mat = np.linalg.cholesky(gene_corrs_df.to_numpy())\n",
    "    cov_inv = np.linalg.inv(chol_mat)\n",
    "    print(\"Works!\")\n",
    "except Exception as e:\n",
    "    print(f\"Cholesky decomposition failed: {str(e)}\")"
   ]
  },
  {
   "cell_type": "code",
   "execution_count": 39,
   "id": "dd8827fb-faf9-4c7c-9454-015e94752706",
   "metadata": {
    "execution": {
     "iopub.execute_input": "2022-12-05T17:16:24.704090Z",
     "iopub.status.busy": "2022-12-05T17:16:24.703798Z",
     "iopub.status.idle": "2022-12-05T17:16:24.740328Z",
     "shell.execute_reply": "2022-12-05T17:16:24.739696Z"
    },
    "papermill": {
     "duration": 2.308584,
     "end_time": "2022-12-05T17:16:24.741185",
     "exception": false,
     "start_time": "2022-12-05T17:16:22.432601",
     "status": "completed"
    },
    "tags": []
   },
   "outputs": [
    {
     "name": "stdout",
     "output_type": "stream",
     "text": [
      "Cholesky decomposition failed (statsmodels.GLS): Matrix is not positive definite\n"
     ]
    }
   ],
   "source": [
    "try:\n",
    "    # decomposition used by statsmodels.GLS\n",
    "    cholsigmainv = np.linalg.cholesky(np.linalg.inv(gene_corrs_df.to_numpy())).T\n",
    "    print(\"Works!\")\n",
    "except Exception as e:\n",
    "    print(f\"Cholesky decomposition failed (statsmodels.GLS): {str(e)}\")"
   ]
  },
  {
   "cell_type": "markdown",
   "id": "8e60a080-edb2-4e9c-b2ef-22961693200c",
   "metadata": {
    "papermill": {
     "duration": 2.314816,
     "end_time": "2022-12-05T17:16:29.253217",
     "exception": false,
     "start_time": "2022-12-05T17:16:26.938401",
     "status": "completed"
    },
    "tags": []
   },
   "source": [
    "## Plot: distribution"
   ]
  },
  {
   "cell_type": "code",
   "execution_count": 40,
   "id": "8301126b-a7d4-4744-9c7d-f0f86eb6f54c",
   "metadata": {
    "execution": {
     "iopub.execute_input": "2022-12-05T17:16:33.846503Z",
     "iopub.status.busy": "2022-12-05T17:16:33.845979Z",
     "iopub.status.idle": "2022-12-05T17:16:34.333695Z",
     "shell.execute_reply": "2022-12-05T17:16:34.333391Z"
    },
    "papermill": {
     "duration": 2.818129,
     "end_time": "2022-12-05T17:16:34.335278",
     "exception": false,
     "start_time": "2022-12-05T17:16:31.517149",
     "status": "completed"
    },
    "tags": []
   },
   "outputs": [
    {
     "data": {
      "image/png": "[encoded data removed]",
      "text/plain": [
       "<Figure size 700x700 with 1 Axes>"
      ]
     },
     "metadata": {},
     "output_type": "display_data"
    }
   ],
   "source": [
    "with sns.plotting_context(\"paper\", font_scale=1.5):\n",
    "    g = sns.displot(gene_corrs_flat, kde=True, height=7)\n",
    "    g.ax.set_title(\n",
    "        f\"Distribution of gene correlation values in chromosome {CHROMOSOME}\"\n",
    "    )"
   ]
  },
  {
   "cell_type": "markdown",
   "id": "cbd52bca-d878-4a2f-b684-5c83aa3038d4",
   "metadata": {
    "papermill": {
     "duration": 2.353977,
     "end_time": "2022-12-05T17:16:38.924526",
     "exception": false,
     "start_time": "2022-12-05T17:16:36.570549",
     "status": "completed"
    },
    "tags": []
   },
   "source": [
    "## Plot: heatmap"
   ]
  },
  {
   "cell_type": "code",
   "execution_count": 41,
   "id": "d03fe63a-c7b2-4fb9-a53c-db362ce843c9",
   "metadata": {
    "execution": {
     "iopub.execute_input": "2022-12-05T17:16:43.493681Z",
     "iopub.status.busy": "2022-12-05T17:16:43.493365Z",
     "iopub.status.idle": "2022-12-05T17:16:43.517308Z",
     "shell.execute_reply": "2022-12-05T17:16:43.516798Z"
    },
    "papermill": {
     "duration": 2.300489,
     "end_time": "2022-12-05T17:16:43.518189",
     "exception": false,
     "start_time": "2022-12-05T17:16:41.217700",
     "status": "completed"
    },
    "tags": []
   },
   "outputs": [
    {
     "data": {
      "text/plain": [
       "'0.0 / 0.05'"
      ]
     },
     "metadata": {},
     "output_type": "display_data"
    }
   ],
   "source": [
    "vmin_val = min(0.00, gene_corrs_quantiles[0.10])\n",
    "vmax_val = max(0.05, gene_corrs_quantiles[0.90])\n",
    "display(f\"{vmin_val} / {vmax_val}\")"
   ]
  },
  {
   "cell_type": "code",
   "execution_count": 42,
   "id": "dc41b70b-5bcc-4d9e-9f33-a22c4a94dab5",
   "metadata": {
    "execution": {
     "iopub.execute_input": "2022-12-05T17:16:48.129487Z",
     "iopub.status.busy": "2022-12-05T17:16:48.128925Z",
     "iopub.status.idle": "2022-12-05T17:16:48.420246Z",
     "shell.execute_reply": "2022-12-05T17:16:48.419841Z"
    },
    "papermill": {
     "duration": 2.579108,
     "end_time": "2022-12-05T17:16:48.422374",
     "exception": false,
     "start_time": "2022-12-05T17:16:45.843266",
     "status": "completed"
    },
    "tags": []
   },
   "outputs": [
    {
     "data": {
      "text/plain": [
       "Text(0.5, 1.0, 'Gene correlations in chromosome 12')"
      ]
     },
     "execution_count": 42,
     "metadata": {},
     "output_type": "execute_result"
    },
    {
     "data": {
      "image/png": "[encoded data removed]",
      "text/plain": [
       "<Figure size 1000x1000 with 2 Axes>"
      ]
     },
     "metadata": {},
     "output_type": "display_data"
    }
   ],
   "source": [
    "f, ax = plt.subplots(figsize=(10, 10))\n",
    "sns.heatmap(\n",
    "    gene_corrs_df,\n",
    "    xticklabels=False,\n",
    "    yticklabels=False,\n",
    "    square=True,\n",
    "    vmin=vmin_val,\n",
    "    vmax=vmax_val,\n",
    "    cmap=\"rocket_r\",\n",
    "    ax=ax,\n",
    ")\n",
    "ax.set_title(f\"Gene correlations in chromosome {CHROMOSOME}\")"
   ]
  },
  {
   "cell_type": "code",
   "execution_count": null,
   "id": "b25e3ead",
   "metadata": {
    "papermill": {
     "duration": 2.251001,
     "end_time": "2022-12-05T17:16:53.101326",
     "exception": false,
     "start_time": "2022-12-05T17:16:50.850325",
     "status": "completed"
    },
    "tags": []
   },
   "outputs": [],
   "source": []
  }
 ],
 "metadata": {
  "jupytext": {
   "cell_metadata_filter": "all,-execution,-papermill,-trusted",
   "formats": "ipynb,py//py:percent"
  },
  "kernelspec": {
   "display_name": "Python 3 (ipykernel)",
   "language": "python",
   "name": "python3"
  },
  "language_info": {
   "codemirror_mode": {
    "name": "ipython",
    "version": 3
   },
   "file_extension": ".py",
   "mimetype": "text/x-python",
   "name": "python",
   "nbconvert_exporter": "python",
   "pygments_lexer": "ipython3",
   "version": "3.10.6"
  },
  "papermill": {
   "default_parameters": {},
   "duration": 560.386707,
   "end_time": "2022-12-05T17:16:58.586053",
   "environment_variables": {},
   "exception": null,
   "input_path": "projects/asthma-copd/nbs/20_gene_corrs/jobs/05-gene_expr_correlations.ipynb",
   "output_path": "projects/asthma-copd/nbs/20_gene_corrs/jobs/../output/copd_only/05-gene_expr_correlations-chr12.run.ipynb",
   "parameters": {
    "CHROMOSOME": 12,
    "COHORT_NAME": "copd_only",
    "OUTPUT_DIR_BASE": "/opt/data/projects/asthma-copd/results/gls_phenoplier",
    "PHENOPLIER_NOTEBOOK_FILEPATH": "projects/asthma-copd/nbs/20_gene_corrs/jobs/05-gene_expr_correlations.ipynb"
   },
   "start_time": "2022-12-05T17:07:38.199346",
   "version": "2.2.2"
  }
 },
 "nbformat": 4,
 "nbformat_minor": 5
}
