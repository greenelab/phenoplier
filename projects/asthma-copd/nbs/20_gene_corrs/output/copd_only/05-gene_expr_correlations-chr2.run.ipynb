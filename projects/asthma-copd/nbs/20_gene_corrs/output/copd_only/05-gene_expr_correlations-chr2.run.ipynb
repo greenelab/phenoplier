{
 "cells": [
  {
   "cell_type": "markdown",
   "id": "7a6632fb",
   "metadata": {
    "papermill": {
     "duration": 0.007937,
     "end_time": "2022-12-15T17:53:10.044588",
     "exception": false,
     "start_time": "2022-12-15T17:53:10.036651",
     "status": "completed"
    },
    "tags": []
   },
   "source": [
    "# Description"
   ]
  },
  {
   "cell_type": "markdown",
   "id": "7097c346",
   "metadata": {
    "papermill": {
     "duration": 0.007095,
     "end_time": "2022-12-15T17:53:10.061742",
     "exception": false,
     "start_time": "2022-12-15T17:53:10.054647",
     "status": "completed"
    },
    "tags": []
   },
   "source": [
    "(Please, take a look at the README.md file in this directory for instructions on how to run this notebook)\n",
    "\n",
    "This notebook computes predicted expression correlations between all genes in the MultiPLIER models.\n",
    "\n",
    "It has specicfic parameters for papermill (see under `Settings` below).\n",
    "It can be configured to run on a single chromosome to run in parallel.\n",
    "\n",
    "This notebook is not directly run. See README.md."
   ]
  },
  {
   "cell_type": "markdown",
   "id": "c61d8427",
   "metadata": {
    "papermill": {
     "duration": 0.004385,
     "end_time": "2022-12-15T17:53:10.071509",
     "exception": false,
     "start_time": "2022-12-15T17:53:10.067124",
     "status": "completed"
    },
    "tags": []
   },
   "source": [
    "# Modules"
   ]
  },
  {
   "cell_type": "code",
   "execution_count": 1,
   "id": "bbc0234f",
   "metadata": {
    "execution": {
     "iopub.execute_input": "2022-12-15T17:53:10.082599Z",
     "iopub.status.busy": "2022-12-15T17:53:10.082270Z",
     "iopub.status.idle": "2022-12-15T17:53:10.094917Z",
     "shell.execute_reply": "2022-12-15T17:53:10.094508Z"
    },
    "papermill": {
     "duration": 0.019348,
     "end_time": "2022-12-15T17:53:10.095930",
     "exception": false,
     "start_time": "2022-12-15T17:53:10.076582",
     "status": "completed"
    },
    "tags": []
   },
   "outputs": [],
   "source": [
    "%load_ext autoreload\n",
    "%autoreload 2"
   ]
  },
  {
   "cell_type": "code",
   "execution_count": 2,
   "id": "1d5f5a59",
   "metadata": {
    "execution": {
     "iopub.execute_input": "2022-12-15T17:53:10.105942Z",
     "iopub.status.busy": "2022-12-15T17:53:10.105663Z",
     "iopub.status.idle": "2022-12-15T17:53:10.921790Z",
     "shell.execute_reply": "2022-12-15T17:53:10.921349Z"
    },
    "papermill": {
     "duration": 0.82281,
     "end_time": "2022-12-15T17:53:10.923337",
     "exception": false,
     "start_time": "2022-12-15T17:53:10.100527",
     "status": "completed"
    },
    "tags": []
   },
   "outputs": [],
   "source": [
    "from random import sample, seed\n",
    "import warnings\n",
    "from pathlib import Path\n",
    "import pickle\n",
    "import traceback\n",
    "\n",
    "import numpy as np\n",
    "from scipy.spatial.distance import squareform\n",
    "import pandas as pd\n",
    "from tqdm import tqdm\n",
    "import matplotlib.pyplot as plt\n",
    "import seaborn as sns\n",
    "\n",
    "import conf\n",
    "from entity import Gene"
   ]
  },
  {
   "cell_type": "markdown",
   "id": "1eac24b5",
   "metadata": {
    "papermill": {
     "duration": 0.009839,
     "end_time": "2022-12-15T17:53:10.941499",
     "exception": false,
     "start_time": "2022-12-15T17:53:10.931660",
     "status": "completed"
    },
    "tags": []
   },
   "source": [
    "# Settings"
   ]
  },
  {
   "cell_type": "code",
   "execution_count": 3,
   "id": "ca4560ba",
   "metadata": {
    "execution": {
     "iopub.execute_input": "2022-12-15T17:53:10.959438Z",
     "iopub.status.busy": "2022-12-15T17:53:10.959215Z",
     "iopub.status.idle": "2022-12-15T17:53:10.973346Z",
     "shell.execute_reply": "2022-12-15T17:53:10.972876Z"
    },
    "papermill": {
     "duration": 0.025048,
     "end_time": "2022-12-15T17:53:10.974695",
     "exception": false,
     "start_time": "2022-12-15T17:53:10.949647",
     "status": "completed"
    },
    "tags": [
     "parameters"
    ]
   },
   "outputs": [],
   "source": [
    "# a cohort name (it could be something like UK_BIOBANK, etc)\n",
    "COHORT_NAME = None\n",
    "\n",
    "# reference panel such as 1000G or GTEX_V8\n",
    "REFERENCE_PANEL = \"GTEX_V8\"\n",
    "\n",
    "# predictions models such as MASHR or ELASTIC_NET\n",
    "EQTL_MODEL = \"MASHR\"\n",
    "\n",
    "# this is the default value used in S-MultiXcan to select the\n",
    "# top principal components of the expression correlation matrix\n",
    "SMULTIXCAN_CONDITION_NUMBER = 30\n",
    "\n",
    "# specifies a single chromosome value\n",
    "CHROMOSOME = None\n",
    "\n",
    "# If True, computes the correlation between closeby genes only (see\n",
    "# entity.Gene.within_distance for more details). Otherwise, it computes\n",
    "# correlations for all genes in a chromosome\n",
    "COMPUTE_CORRELATIONS_WITHIN_DISTANCE = True\n",
    "\n",
    "# if True, then it will continue if a gene pair correlation fails,\n",
    "# printing the warning/error for debugging. If False, any warning/error\n",
    "# will be thrown\n",
    "DEBUG_MODE = False\n",
    "\n",
    "# output dir\n",
    "OUTPUT_DIR_BASE = None"
   ]
  },
  {
   "cell_type": "code",
   "execution_count": 4,
   "id": "6cdd6c47",
   "metadata": {
    "execution": {
     "iopub.execute_input": "2022-12-15T17:53:10.992308Z",
     "iopub.status.busy": "2022-12-15T17:53:10.991921Z",
     "iopub.status.idle": "2022-12-15T17:53:11.014492Z",
     "shell.execute_reply": "2022-12-15T17:53:11.013915Z"
    },
    "papermill": {
     "duration": 0.032935,
     "end_time": "2022-12-15T17:53:11.016004",
     "exception": false,
     "start_time": "2022-12-15T17:53:10.983069",
     "status": "completed"
    },
    "tags": [
     "injected-parameters"
    ]
   },
   "outputs": [],
   "source": [
    "# Parameters\n",
    "PHENOPLIER_NOTEBOOK_FILEPATH = (\n",
    "    \"projects/asthma-copd/nbs/20_gene_corrs/jobs/05-gene_expr_correlations.ipynb\"\n",
    ")\n",
    "COHORT_NAME = \"copd_only\"\n",
    "CHROMOSOME = 2\n",
    "OUTPUT_DIR_BASE = \"/opt/data/projects/asthma-copd/results/gls_phenoplier\"\n"
   ]
  },
  {
   "cell_type": "code",
   "execution_count": 5,
   "id": "3190631f-27fc-480f-b18e-571d580425a5",
   "metadata": {
    "execution": {
     "iopub.execute_input": "2022-12-15T17:53:11.033669Z",
     "iopub.status.busy": "2022-12-15T17:53:11.033318Z",
     "iopub.status.idle": "2022-12-15T17:53:11.054987Z",
     "shell.execute_reply": "2022-12-15T17:53:11.054433Z"
    },
    "papermill": {
     "duration": 0.031949,
     "end_time": "2022-12-15T17:53:11.056356",
     "exception": false,
     "start_time": "2022-12-15T17:53:11.024407",
     "status": "completed"
    },
    "tags": []
   },
   "outputs": [
    {
     "data": {
      "text/plain": [
       "'Cohort name: copd_only'"
      ]
     },
     "metadata": {},
     "output_type": "display_data"
    }
   ],
   "source": [
    "assert COHORT_NAME is not None and len(COHORT_NAME) > 0, \"A cohort name must be given\"\n",
    "\n",
    "COHORT_NAME = COHORT_NAME.lower()\n",
    "display(f\"Cohort name: {COHORT_NAME}\")"
   ]
  },
  {
   "cell_type": "code",
   "execution_count": 6,
   "id": "f53ba19b-0f93-4fa2-a047-63b375939d1a",
   "metadata": {
    "execution": {
     "iopub.execute_input": "2022-12-15T17:53:11.075958Z",
     "iopub.status.busy": "2022-12-15T17:53:11.075560Z",
     "iopub.status.idle": "2022-12-15T17:53:11.100192Z",
     "shell.execute_reply": "2022-12-15T17:53:11.099496Z"
    },
    "papermill": {
     "duration": 0.035663,
     "end_time": "2022-12-15T17:53:11.101577",
     "exception": false,
     "start_time": "2022-12-15T17:53:11.065914",
     "status": "completed"
    },
    "tags": []
   },
   "outputs": [
    {
     "data": {
      "text/plain": [
       "'Reference panel: GTEX_V8'"
      ]
     },
     "metadata": {},
     "output_type": "display_data"
    }
   ],
   "source": [
    "assert (\n",
    "    REFERENCE_PANEL is not None and len(REFERENCE_PANEL) > 0\n",
    "), \"A reference panel must be given\"\n",
    "\n",
    "display(f\"Reference panel: {REFERENCE_PANEL}\")"
   ]
  },
  {
   "cell_type": "code",
   "execution_count": 7,
   "id": "e024d130-c139-429a-9c6e-ccf149e297b0",
   "metadata": {
    "execution": {
     "iopub.execute_input": "2022-12-15T17:53:11.119742Z",
     "iopub.status.busy": "2022-12-15T17:53:11.119461Z",
     "iopub.status.idle": "2022-12-15T17:53:11.135050Z",
     "shell.execute_reply": "2022-12-15T17:53:11.134667Z"
    },
    "papermill": {
     "duration": 0.026089,
     "end_time": "2022-12-15T17:53:11.136293",
     "exception": false,
     "start_time": "2022-12-15T17:53:11.110204",
     "status": "completed"
    },
    "tags": []
   },
   "outputs": [
    {
     "data": {
      "text/plain": [
       "'eQTL model: MASHR) / mashr_'"
      ]
     },
     "metadata": {},
     "output_type": "display_data"
    }
   ],
   "source": [
    "assert (\n",
    "    EQTL_MODEL is not None and len(EQTL_MODEL) > 0\n",
    "), \"A prediction/eQTL model must be given\"\n",
    "\n",
    "EQTL_MODEL_FILES_PREFIX = conf.PHENOMEXCAN[\"PREDICTION_MODELS\"][f\"{EQTL_MODEL}_PREFIX\"]\n",
    "display(f\"eQTL model: {EQTL_MODEL}) / {EQTL_MODEL_FILES_PREFIX}\")"
   ]
  },
  {
   "cell_type": "code",
   "execution_count": 8,
   "id": "552a7f63-a18c-4d3e-bb6a-94f99b431291",
   "metadata": {
    "execution": {
     "iopub.execute_input": "2022-12-15T17:53:11.154613Z",
     "iopub.status.busy": "2022-12-15T17:53:11.154350Z",
     "iopub.status.idle": "2022-12-15T17:53:11.170340Z",
     "shell.execute_reply": "2022-12-15T17:53:11.169816Z"
    },
    "papermill": {
     "duration": 0.026768,
     "end_time": "2022-12-15T17:53:11.171589",
     "exception": false,
     "start_time": "2022-12-15T17:53:11.144821",
     "status": "completed"
    },
    "tags": []
   },
   "outputs": [
    {
     "data": {
      "text/plain": [
       "'S-MultiXcan condition number: 30'"
      ]
     },
     "metadata": {},
     "output_type": "display_data"
    }
   ],
   "source": [
    "assert (\n",
    "    SMULTIXCAN_CONDITION_NUMBER is not None and SMULTIXCAN_CONDITION_NUMBER > 0\n",
    "), \"The S-MultiXcan condition number (positive integer) must be given\"\n",
    "\n",
    "display(f\"S-MultiXcan condition number: {SMULTIXCAN_CONDITION_NUMBER}\")"
   ]
  },
  {
   "cell_type": "code",
   "execution_count": 9,
   "id": "f34a336f-548e-4afe-8955-90eaea4f42c6",
   "metadata": {
    "execution": {
     "iopub.execute_input": "2022-12-15T17:53:11.190458Z",
     "iopub.status.busy": "2022-12-15T17:53:11.189901Z",
     "iopub.status.idle": "2022-12-15T17:53:11.211603Z",
     "shell.execute_reply": "2022-12-15T17:53:11.211166Z"
    },
    "papermill": {
     "duration": 0.032622,
     "end_time": "2022-12-15T17:53:11.212911",
     "exception": false,
     "start_time": "2022-12-15T17:53:11.180289",
     "status": "completed"
    },
    "tags": []
   },
   "outputs": [
    {
     "data": {
      "text/plain": [
       "'Working on chromosome 2'"
      ]
     },
     "metadata": {},
     "output_type": "display_data"
    }
   ],
   "source": [
    "assert CHROMOSOME is not None and (\n",
    "    1 <= CHROMOSOME <= 22\n",
    "), \"You have to select one chromosome (format: number between 1 and 22)\"\n",
    "\n",
    "display(f\"Working on chromosome {CHROMOSOME}\")"
   ]
  },
  {
   "cell_type": "code",
   "execution_count": 10,
   "id": "ab8e96e8-06b5-4363-9dcd-dc4d78cc27f7",
   "metadata": {
    "execution": {
     "iopub.execute_input": "2022-12-15T17:53:11.232712Z",
     "iopub.status.busy": "2022-12-15T17:53:11.232402Z",
     "iopub.status.idle": "2022-12-15T17:53:11.254683Z",
     "shell.execute_reply": "2022-12-15T17:53:11.254075Z"
    },
    "papermill": {
     "duration": 0.033334,
     "end_time": "2022-12-15T17:53:11.255983",
     "exception": false,
     "start_time": "2022-12-15T17:53:11.222649",
     "status": "completed"
    },
    "tags": []
   },
   "outputs": [
    {
     "data": {
      "text/plain": [
       "'Compute correlation within distance True'"
      ]
     },
     "metadata": {},
     "output_type": "display_data"
    }
   ],
   "source": [
    "display(f\"Compute correlation within distance {COMPUTE_CORRELATIONS_WITHIN_DISTANCE}\")"
   ]
  },
  {
   "cell_type": "code",
   "execution_count": 11,
   "id": "b393b698-77e3-4ba2-8ac1-e14d51aa988f",
   "metadata": {
    "execution": {
     "iopub.execute_input": "2022-12-15T17:53:11.275277Z",
     "iopub.status.busy": "2022-12-15T17:53:11.274802Z",
     "iopub.status.idle": "2022-12-15T17:53:11.290169Z",
     "shell.execute_reply": "2022-12-15T17:53:11.289817Z"
    },
    "papermill": {
     "duration": 0.025959,
     "end_time": "2022-12-15T17:53:11.291227",
     "exception": false,
     "start_time": "2022-12-15T17:53:11.265268",
     "status": "completed"
    },
    "tags": []
   },
   "outputs": [
    {
     "data": {
      "text/plain": [
       "'Using output dir base: /opt/data/projects/asthma-copd/results/gls_phenoplier/gene_corrs/copd_only'"
      ]
     },
     "metadata": {},
     "output_type": "display_data"
    }
   ],
   "source": [
    "assert (\n",
    "    OUTPUT_DIR_BASE is not None and len(OUTPUT_DIR_BASE) > 0\n",
    "), \"Output directory path must be given\"\n",
    "\n",
    "OUTPUT_DIR_BASE = (Path(OUTPUT_DIR_BASE) / \"gene_corrs\" / COHORT_NAME).resolve()\n",
    "\n",
    "OUTPUT_DIR_BASE.mkdir(parents=True, exist_ok=True)\n",
    "\n",
    "display(f\"Using output dir base: {OUTPUT_DIR_BASE}\")"
   ]
  },
  {
   "cell_type": "markdown",
   "id": "d2ba085e",
   "metadata": {
    "papermill": {
     "duration": 0.008033,
     "end_time": "2022-12-15T17:53:11.306887",
     "exception": false,
     "start_time": "2022-12-15T17:53:11.298854",
     "status": "completed"
    },
    "tags": []
   },
   "source": [
    "# Load data"
   ]
  },
  {
   "cell_type": "markdown",
   "id": "7dcb8db7",
   "metadata": {
    "papermill": {
     "duration": 0.007265,
     "end_time": "2022-12-15T17:53:11.321673",
     "exception": false,
     "start_time": "2022-12-15T17:53:11.314408",
     "status": "completed"
    },
    "tags": []
   },
   "source": [
    "## GWAS variants"
   ]
  },
  {
   "cell_type": "code",
   "execution_count": 12,
   "id": "29434c4e-8cd3-4b9b-82e4-b5a251d9dd19",
   "metadata": {
    "execution": {
     "iopub.execute_input": "2022-12-15T17:53:11.337972Z",
     "iopub.status.busy": "2022-12-15T17:53:11.337622Z",
     "iopub.status.idle": "2022-12-15T17:53:13.533913Z",
     "shell.execute_reply": "2022-12-15T17:53:13.533277Z"
    },
    "papermill": {
     "duration": 2.206321,
     "end_time": "2022-12-15T17:53:13.535541",
     "exception": false,
     "start_time": "2022-12-15T17:53:11.329220",
     "status": "completed"
    },
    "tags": []
   },
   "outputs": [],
   "source": [
    "with open(OUTPUT_DIR_BASE / \"gwas_variant_ids.pkl\", \"rb\") as handle:\n",
    "    gwas_variants_ids_set = pickle.load(handle)"
   ]
  },
  {
   "cell_type": "code",
   "execution_count": 13,
   "id": "b9d9dec2-4a76-4bf9-bde2-e24c95acb8a0",
   "metadata": {
    "execution": {
     "iopub.execute_input": "2022-12-15T17:53:13.556840Z",
     "iopub.status.busy": "2022-12-15T17:53:13.556499Z",
     "iopub.status.idle": "2022-12-15T17:53:13.577765Z",
     "shell.execute_reply": "2022-12-15T17:53:13.577247Z"
    },
    "papermill": {
     "duration": 0.033163,
     "end_time": "2022-12-15T17:53:13.579061",
     "exception": false,
     "start_time": "2022-12-15T17:53:13.545898",
     "status": "completed"
    },
    "tags": []
   },
   "outputs": [
    {
     "data": {
      "text/plain": [
       "8586183"
      ]
     },
     "execution_count": 13,
     "metadata": {},
     "output_type": "execute_result"
    }
   ],
   "source": [
    "len(gwas_variants_ids_set)"
   ]
  },
  {
   "cell_type": "code",
   "execution_count": 14,
   "id": "4235b06a-6034-4ee4-a0a3-2ae35d122418",
   "metadata": {
    "execution": {
     "iopub.execute_input": "2022-12-15T17:53:13.598760Z",
     "iopub.status.busy": "2022-12-15T17:53:13.598490Z",
     "iopub.status.idle": "2022-12-15T17:53:14.111569Z",
     "shell.execute_reply": "2022-12-15T17:53:14.111182Z"
    },
    "papermill": {
     "duration": 0.52431,
     "end_time": "2022-12-15T17:53:14.112887",
     "exception": false,
     "start_time": "2022-12-15T17:53:13.588577",
     "status": "completed"
    },
    "tags": []
   },
   "outputs": [
    {
     "data": {
      "text/plain": [
       "['chr19_33555298_T_C_b38',\n",
       " 'chr12_55643067_C_T_b38',\n",
       " 'chr10_80604783_T_G_b38',\n",
       " 'chr5_172602566_A_C_b38',\n",
       " 'chr4_84750046_T_C_b38']"
      ]
     },
     "execution_count": 14,
     "metadata": {},
     "output_type": "execute_result"
    }
   ],
   "source": [
    "list(gwas_variants_ids_set)[:5]"
   ]
  },
  {
   "cell_type": "markdown",
   "id": "07866999-2305-41f9-a144-e69c9122c212",
   "metadata": {
    "papermill": {
     "duration": 0.010278,
     "end_time": "2022-12-15T17:53:14.133390",
     "exception": false,
     "start_time": "2022-12-15T17:53:14.123112",
     "status": "completed"
    },
    "tags": []
   },
   "source": [
    "## S-PrediXcan tissue models"
   ]
  },
  {
   "cell_type": "code",
   "execution_count": 15,
   "id": "780611d9-77c8-405f-90a4-f271f7b09397",
   "metadata": {
    "execution": {
     "iopub.execute_input": "2022-12-15T17:53:14.155065Z",
     "iopub.status.busy": "2022-12-15T17:53:14.154855Z",
     "iopub.status.idle": "2022-12-15T17:53:14.937714Z",
     "shell.execute_reply": "2022-12-15T17:53:14.937294Z"
    },
    "papermill": {
     "duration": 0.795396,
     "end_time": "2022-12-15T17:53:14.939265",
     "exception": false,
     "start_time": "2022-12-15T17:53:14.143869",
     "status": "completed"
    },
    "tags": []
   },
   "outputs": [],
   "source": [
    "spredixcan_genes_models = pd.read_pickle(OUTPUT_DIR_BASE / \"gene_tissues.pkl\")"
   ]
  },
  {
   "cell_type": "code",
   "execution_count": 16,
   "id": "726dd1f6-9557-4225-91fa-b3b879ea96e1",
   "metadata": {
    "execution": {
     "iopub.execute_input": "2022-12-15T17:53:14.960323Z",
     "iopub.status.busy": "2022-12-15T17:53:14.960111Z",
     "iopub.status.idle": "2022-12-15T17:53:14.974490Z",
     "shell.execute_reply": "2022-12-15T17:53:14.974103Z"
    },
    "papermill": {
     "duration": 0.025894,
     "end_time": "2022-12-15T17:53:14.975737",
     "exception": false,
     "start_time": "2022-12-15T17:53:14.949843",
     "status": "completed"
    },
    "tags": []
   },
   "outputs": [
    {
     "data": {
      "text/plain": [
       "(6443, 5)"
      ]
     },
     "execution_count": 16,
     "metadata": {},
     "output_type": "execute_result"
    }
   ],
   "source": [
    "spredixcan_genes_models.shape"
   ]
  },
  {
   "cell_type": "code",
   "execution_count": 17,
   "id": "944a1b48-222c-4eb0-b252-b9de2cbca215",
   "metadata": {
    "execution": {
     "iopub.execute_input": "2022-12-15T17:53:14.996913Z",
     "iopub.status.busy": "2022-12-15T17:53:14.996528Z",
     "iopub.status.idle": "2022-12-15T17:53:15.028335Z",
     "shell.execute_reply": "2022-12-15T17:53:15.027600Z"
    },
    "papermill": {
     "duration": 0.043891,
     "end_time": "2022-12-15T17:53:15.029739",
     "exception": false,
     "start_time": "2022-12-15T17:53:14.985848",
     "status": "completed"
    },
    "tags": []
   },
   "outputs": [
    {
     "data": {
      "text/html": [
       "<div>\n",
       "<style scoped>\n",
       "    .dataframe tbody tr th:only-of-type {\n",
       "        vertical-align: middle;\n",
       "    }\n",
       "\n",
       "    .dataframe tbody tr th {\n",
       "        vertical-align: top;\n",
       "    }\n",
       "\n",
       "    .dataframe thead th {\n",
       "        text-align: right;\n",
       "    }\n",
       "</style>\n",
       "<table border=\"1\" class=\"dataframe\">\n",
       "  <thead>\n",
       "    <tr style=\"text-align: right;\">\n",
       "      <th></th>\n",
       "      <th>gene_name</th>\n",
       "      <th>tissue</th>\n",
       "      <th>n_tissues</th>\n",
       "      <th>n_snps_used_sum</th>\n",
       "      <th>n_snps_in_model_sum</th>\n",
       "    </tr>\n",
       "    <tr>\n",
       "      <th>gene_id</th>\n",
       "      <th></th>\n",
       "      <th></th>\n",
       "      <th></th>\n",
       "      <th></th>\n",
       "      <th></th>\n",
       "    </tr>\n",
       "  </thead>\n",
       "  <tbody>\n",
       "    <tr>\n",
       "      <th>ENSG00000000419</th>\n",
       "      <td>DPM1</td>\n",
       "      <td>(Brain_Hypothalamus, Brain_Substantia_nigra)</td>\n",
       "      <td>2</td>\n",
       "      <td>2</td>\n",
       "      <td>2</td>\n",
       "    </tr>\n",
       "    <tr>\n",
       "      <th>ENSG00000000938</th>\n",
       "      <td>FGR</td>\n",
       "      <td>(Brain_Cortex, Liver, Brain_Cerebellar_Hemisph...</td>\n",
       "      <td>36</td>\n",
       "      <td>40</td>\n",
       "      <td>40</td>\n",
       "    </tr>\n",
       "    <tr>\n",
       "      <th>ENSG00000000971</th>\n",
       "      <td>CFH</td>\n",
       "      <td>(Brain_Cortex, Brain_Cerebellar_Hemisphere, Sk...</td>\n",
       "      <td>34</td>\n",
       "      <td>44</td>\n",
       "      <td>44</td>\n",
       "    </tr>\n",
       "    <tr>\n",
       "      <th>ENSG00000001084</th>\n",
       "      <td>GCLC</td>\n",
       "      <td>(Brain_Cortex, Brain_Cerebellar_Hemisphere, Sk...</td>\n",
       "      <td>32</td>\n",
       "      <td>46</td>\n",
       "      <td>46</td>\n",
       "    </tr>\n",
       "    <tr>\n",
       "      <th>ENSG00000001167</th>\n",
       "      <td>NFYA</td>\n",
       "      <td>(Brain_Cortex, Brain_Cerebellar_Hemisphere, Sk...</td>\n",
       "      <td>40</td>\n",
       "      <td>47</td>\n",
       "      <td>48</td>\n",
       "    </tr>\n",
       "  </tbody>\n",
       "</table>\n",
       "</div>"
      ],
      "text/plain": [
       "                gene_name                                             tissue  \\\n",
       "gene_id                                                                        \n",
       "ENSG00000000419      DPM1       (Brain_Hypothalamus, Brain_Substantia_nigra)   \n",
       "ENSG00000000938       FGR  (Brain_Cortex, Liver, Brain_Cerebellar_Hemisph...   \n",
       "ENSG00000000971       CFH  (Brain_Cortex, Brain_Cerebellar_Hemisphere, Sk...   \n",
       "ENSG00000001084      GCLC  (Brain_Cortex, Brain_Cerebellar_Hemisphere, Sk...   \n",
       "ENSG00000001167      NFYA  (Brain_Cortex, Brain_Cerebellar_Hemisphere, Sk...   \n",
       "\n",
       "                 n_tissues  n_snps_used_sum  n_snps_in_model_sum  \n",
       "gene_id                                                           \n",
       "ENSG00000000419          2                2                    2  \n",
       "ENSG00000000938         36               40                   40  \n",
       "ENSG00000000971         34               44                   44  \n",
       "ENSG00000001084         32               46                   46  \n",
       "ENSG00000001167         40               47                   48  "
      ]
     },
     "execution_count": 17,
     "metadata": {},
     "output_type": "execute_result"
    }
   ],
   "source": [
    "spredixcan_genes_models.head()"
   ]
  },
  {
   "cell_type": "code",
   "execution_count": 18,
   "id": "d1c11bb1-be0b-4f40-b360-633d6827109f",
   "metadata": {
    "execution": {
     "iopub.execute_input": "2022-12-15T17:53:15.051723Z",
     "iopub.status.busy": "2022-12-15T17:53:15.051340Z",
     "iopub.status.idle": "2022-12-15T17:53:15.075577Z",
     "shell.execute_reply": "2022-12-15T17:53:15.074852Z"
    },
    "papermill": {
     "duration": 0.036848,
     "end_time": "2022-12-15T17:53:15.077307",
     "exception": false,
     "start_time": "2022-12-15T17:53:15.040459",
     "status": "completed"
    },
    "tags": []
   },
   "outputs": [],
   "source": [
    "assert spredixcan_genes_models.index.is_unique"
   ]
  },
  {
   "cell_type": "markdown",
   "id": "a5b5092c-a13e-47c4-a92a-480fcc08f3ae",
   "metadata": {
    "papermill": {
     "duration": 0.010062,
     "end_time": "2022-12-15T17:53:15.097910",
     "exception": false,
     "start_time": "2022-12-15T17:53:15.087848",
     "status": "completed"
    },
    "tags": []
   },
   "source": [
    "## Gene info"
   ]
  },
  {
   "cell_type": "code",
   "execution_count": 19,
   "id": "7d6bb224-88e9-4358-ac10-43a41d92cdad",
   "metadata": {
    "execution": {
     "iopub.execute_input": "2022-12-15T17:53:15.111284Z",
     "iopub.status.busy": "2022-12-15T17:53:15.110943Z",
     "iopub.status.idle": "2022-12-15T17:53:15.133728Z",
     "shell.execute_reply": "2022-12-15T17:53:15.133158Z"
    },
    "papermill": {
     "duration": 0.0301,
     "end_time": "2022-12-15T17:53:15.134851",
     "exception": false,
     "start_time": "2022-12-15T17:53:15.104751",
     "status": "completed"
    },
    "tags": []
   },
   "outputs": [],
   "source": [
    "genes_info = pd.read_pickle(OUTPUT_DIR_BASE / \"genes_info.pkl\")"
   ]
  },
  {
   "cell_type": "code",
   "execution_count": 20,
   "id": "9e32abfa-546d-483e-8c18-d526e9e05903",
   "metadata": {
    "execution": {
     "iopub.execute_input": "2022-12-15T17:53:15.147363Z",
     "iopub.status.busy": "2022-12-15T17:53:15.147048Z",
     "iopub.status.idle": "2022-12-15T17:53:15.167045Z",
     "shell.execute_reply": "2022-12-15T17:53:15.166585Z"
    },
    "papermill": {
     "duration": 0.027103,
     "end_time": "2022-12-15T17:53:15.167954",
     "exception": false,
     "start_time": "2022-12-15T17:53:15.140851",
     "status": "completed"
    },
    "tags": []
   },
   "outputs": [
    {
     "data": {
      "text/plain": [
       "(6443, 7)"
      ]
     },
     "execution_count": 20,
     "metadata": {},
     "output_type": "execute_result"
    }
   ],
   "source": [
    "genes_info.shape"
   ]
  },
  {
   "cell_type": "code",
   "execution_count": 21,
   "id": "d16c3e92-85ec-468a-9a56-e25a9774a1cb",
   "metadata": {
    "execution": {
     "iopub.execute_input": "2022-12-15T17:53:15.180697Z",
     "iopub.status.busy": "2022-12-15T17:53:15.180409Z",
     "iopub.status.idle": "2022-12-15T17:53:15.197760Z",
     "shell.execute_reply": "2022-12-15T17:53:15.197330Z"
    },
    "papermill": {
     "duration": 0.024464,
     "end_time": "2022-12-15T17:53:15.198667",
     "exception": false,
     "start_time": "2022-12-15T17:53:15.174203",
     "status": "completed"
    },
    "tags": []
   },
   "outputs": [
    {
     "data": {
      "text/html": [
       "<div>\n",
       "<style scoped>\n",
       "    .dataframe tbody tr th:only-of-type {\n",
       "        vertical-align: middle;\n",
       "    }\n",
       "\n",
       "    .dataframe tbody tr th {\n",
       "        vertical-align: top;\n",
       "    }\n",
       "\n",
       "    .dataframe thead th {\n",
       "        text-align: right;\n",
       "    }\n",
       "</style>\n",
       "<table border=\"1\" class=\"dataframe\">\n",
       "  <thead>\n",
       "    <tr style=\"text-align: right;\">\n",
       "      <th></th>\n",
       "      <th>name</th>\n",
       "      <th>id</th>\n",
       "      <th>chr</th>\n",
       "      <th>band</th>\n",
       "      <th>start_position</th>\n",
       "      <th>end_position</th>\n",
       "      <th>gene_length</th>\n",
       "    </tr>\n",
       "  </thead>\n",
       "  <tbody>\n",
       "    <tr>\n",
       "      <th>0</th>\n",
       "      <td>MED19</td>\n",
       "      <td>ENSG00000156603</td>\n",
       "      <td>11</td>\n",
       "      <td>11q12.1</td>\n",
       "      <td>57703714</td>\n",
       "      <td>57712323</td>\n",
       "      <td>8609</td>\n",
       "    </tr>\n",
       "    <tr>\n",
       "      <th>1</th>\n",
       "      <td>GFI1</td>\n",
       "      <td>ENSG00000162676</td>\n",
       "      <td>1</td>\n",
       "      <td>1p22.1</td>\n",
       "      <td>92473043</td>\n",
       "      <td>92486925</td>\n",
       "      <td>13882</td>\n",
       "    </tr>\n",
       "    <tr>\n",
       "      <th>2</th>\n",
       "      <td>PAIP1</td>\n",
       "      <td>ENSG00000172239</td>\n",
       "      <td>5</td>\n",
       "      <td>5p12</td>\n",
       "      <td>43526267</td>\n",
       "      <td>43557758</td>\n",
       "      <td>31491</td>\n",
       "    </tr>\n",
       "    <tr>\n",
       "      <th>3</th>\n",
       "      <td>MRPS35</td>\n",
       "      <td>ENSG00000061794</td>\n",
       "      <td>12</td>\n",
       "      <td>12p11.22</td>\n",
       "      <td>27710822</td>\n",
       "      <td>27756295</td>\n",
       "      <td>45473</td>\n",
       "    </tr>\n",
       "    <tr>\n",
       "      <th>4</th>\n",
       "      <td>VAV3</td>\n",
       "      <td>ENSG00000134215</td>\n",
       "      <td>1</td>\n",
       "      <td>1p13.3</td>\n",
       "      <td>107571161</td>\n",
       "      <td>107965180</td>\n",
       "      <td>394019</td>\n",
       "    </tr>\n",
       "  </tbody>\n",
       "</table>\n",
       "</div>"
      ],
      "text/plain": [
       "     name               id  chr      band  start_position  end_position  \\\n",
       "0   MED19  ENSG00000156603   11   11q12.1        57703714      57712323   \n",
       "1    GFI1  ENSG00000162676    1    1p22.1        92473043      92486925   \n",
       "2   PAIP1  ENSG00000172239    5      5p12        43526267      43557758   \n",
       "3  MRPS35  ENSG00000061794   12  12p11.22        27710822      27756295   \n",
       "4    VAV3  ENSG00000134215    1    1p13.3       107571161     107965180   \n",
       "\n",
       "   gene_length  \n",
       "0         8609  \n",
       "1        13882  \n",
       "2        31491  \n",
       "3        45473  \n",
       "4       394019  "
      ]
     },
     "execution_count": 21,
     "metadata": {},
     "output_type": "execute_result"
    }
   ],
   "source": [
    "genes_info.head()"
   ]
  },
  {
   "cell_type": "markdown",
   "id": "d3843e06",
   "metadata": {
    "papermill": {
     "duration": 0.006294,
     "end_time": "2022-12-15T17:53:15.211016",
     "exception": false,
     "start_time": "2022-12-15T17:53:15.204722",
     "status": "completed"
    },
    "tags": []
   },
   "source": [
    "# Compute correlations"
   ]
  },
  {
   "cell_type": "code",
   "execution_count": 22,
   "id": "cb859c15-d1f3-4006-a74c-2b83c0db9611",
   "metadata": {
    "execution": {
     "iopub.execute_input": "2022-12-15T17:53:15.225513Z",
     "iopub.status.busy": "2022-12-15T17:53:15.225345Z",
     "iopub.status.idle": "2022-12-15T17:53:15.239984Z",
     "shell.execute_reply": "2022-12-15T17:53:15.239551Z"
    },
    "papermill": {
     "duration": 0.022907,
     "end_time": "2022-12-15T17:53:15.240895",
     "exception": false,
     "start_time": "2022-12-15T17:53:15.217988",
     "status": "completed"
    },
    "tags": []
   },
   "outputs": [
    {
     "data": {
      "text/plain": [
       "PosixPath('/opt/data/projects/asthma-copd/results/gls_phenoplier/gene_corrs/copd_only/by_chr/gene_corrs-chr2.pkl')"
      ]
     },
     "metadata": {},
     "output_type": "display_data"
    }
   ],
   "source": [
    "output_dir = OUTPUT_DIR_BASE / \"by_chr\"\n",
    "output_dir.mkdir(exist_ok=True, parents=True)\n",
    "output_file = output_dir / f\"gene_corrs-chr{CHROMOSOME}.pkl\"\n",
    "display(output_file)"
   ]
  },
  {
   "cell_type": "code",
   "execution_count": 23,
   "id": "aa674fe4-6794-4eed-98fa-32b39d1d4ace",
   "metadata": {
    "execution": {
     "iopub.execute_input": "2022-12-15T17:53:15.253512Z",
     "iopub.status.busy": "2022-12-15T17:53:15.253363Z",
     "iopub.status.idle": "2022-12-15T17:53:15.266598Z",
     "shell.execute_reply": "2022-12-15T17:53:15.266146Z"
    },
    "papermill": {
     "duration": 0.020617,
     "end_time": "2022-12-15T17:53:15.267620",
     "exception": false,
     "start_time": "2022-12-15T17:53:15.247003",
     "status": "completed"
    },
    "tags": []
   },
   "outputs": [],
   "source": [
    "warnings.filterwarnings(\"error\")"
   ]
  },
  {
   "cell_type": "code",
   "execution_count": 24,
   "id": "44d5450b-3baf-43f1-9e2e-4b06f1a785f8",
   "metadata": {
    "execution": {
     "iopub.execute_input": "2022-12-15T17:53:15.280573Z",
     "iopub.status.busy": "2022-12-15T17:53:15.280425Z",
     "iopub.status.idle": "2022-12-15T17:53:15.293951Z",
     "shell.execute_reply": "2022-12-15T17:53:15.293612Z"
    },
    "papermill": {
     "duration": 0.020819,
     "end_time": "2022-12-15T17:53:15.294960",
     "exception": false,
     "start_time": "2022-12-15T17:53:15.274141",
     "status": "completed"
    },
    "tags": []
   },
   "outputs": [],
   "source": [
    "# standard checks\n",
    "all_chrs = genes_info[\"chr\"].dropna().unique()\n",
    "assert all_chrs.shape[0] == 22\n",
    "\n",
    "# select chromosome given by the user\n",
    "assert CHROMOSOME in all_chrs"
   ]
  },
  {
   "cell_type": "code",
   "execution_count": 25,
   "id": "2d7c043c-92a7-4d35-991b-fa69ac1e0268",
   "metadata": {
    "execution": {
     "iopub.execute_input": "2022-12-15T17:53:15.308288Z",
     "iopub.status.busy": "2022-12-15T17:53:15.308074Z",
     "iopub.status.idle": "2022-12-15T17:53:15.323087Z",
     "shell.execute_reply": "2022-12-15T17:53:15.322641Z"
    },
    "papermill": {
     "duration": 0.022371,
     "end_time": "2022-12-15T17:53:15.323987",
     "exception": false,
     "start_time": "2022-12-15T17:53:15.301616",
     "status": "completed"
    },
    "tags": []
   },
   "outputs": [
    {
     "name": "stdout",
     "output_type": "stream",
     "text": [
      "Number of genes in chromosome: 444\n"
     ]
    }
   ],
   "source": [
    "# run only on the chromosome specified\n",
    "all_chrs = [CHROMOSOME]\n",
    "genes_chr = genes_info[genes_info[\"chr\"] == CHROMOSOME]\n",
    "\n",
    "# For testing purposes\n",
    "# genes_chr = genes_chr.sample(n=20)\n",
    "\n",
    "print(f\"Number of genes in chromosome: {genes_chr.shape[0]}\", flush=True)"
   ]
  },
  {
   "cell_type": "code",
   "execution_count": 26,
   "id": "916015d8-2979-46d3-a9b9-1cf5a0932c6a",
   "metadata": {
    "execution": {
     "iopub.execute_input": "2022-12-15T17:53:15.338377Z",
     "iopub.status.busy": "2022-12-15T17:53:15.338030Z",
     "iopub.status.idle": "2022-12-15T17:53:15.351926Z",
     "shell.execute_reply": "2022-12-15T17:53:15.351471Z"
    },
    "papermill": {
     "duration": 0.022294,
     "end_time": "2022-12-15T17:53:15.352935",
     "exception": false,
     "start_time": "2022-12-15T17:53:15.330641",
     "status": "completed"
    },
    "tags": []
   },
   "outputs": [],
   "source": [
    "# sort genes by starting position to make visualizations better later\n",
    "genes_chr = genes_chr.sort_values(\"start_position\")"
   ]
  },
  {
   "cell_type": "code",
   "execution_count": 27,
   "id": "a38aa74a-8ad3-47f6-8ef9-56be0e011774",
   "metadata": {
    "execution": {
     "iopub.execute_input": "2022-12-15T17:53:15.365787Z",
     "iopub.status.busy": "2022-12-15T17:53:15.365618Z",
     "iopub.status.idle": "2022-12-15T17:53:15.379537Z",
     "shell.execute_reply": "2022-12-15T17:53:15.379180Z"
    },
    "papermill": {
     "duration": 0.021413,
     "end_time": "2022-12-15T17:53:15.380533",
     "exception": false,
     "start_time": "2022-12-15T17:53:15.359120",
     "status": "completed"
    },
    "tags": []
   },
   "outputs": [],
   "source": [
    "gene_chr_objs = [Gene(ensembl_id=gene_id) for gene_id in genes_chr[\"id\"]]"
   ]
  },
  {
   "cell_type": "code",
   "execution_count": 28,
   "id": "570f974f-13c3-42b6-ad3a-ce99ca885c1a",
   "metadata": {
    "execution": {
     "iopub.execute_input": "2022-12-15T17:53:15.393918Z",
     "iopub.status.busy": "2022-12-15T17:53:15.393720Z",
     "iopub.status.idle": "2022-12-15T17:53:15.407321Z",
     "shell.execute_reply": "2022-12-15T17:53:15.406984Z"
    },
    "papermill": {
     "duration": 0.021404,
     "end_time": "2022-12-15T17:53:15.408162",
     "exception": false,
     "start_time": "2022-12-15T17:53:15.386758",
     "status": "completed"
    },
    "tags": []
   },
   "outputs": [
    {
     "name": "stdout",
     "output_type": "stream",
     "text": [
      "Number of gene combinations: 98790\n"
     ]
    }
   ],
   "source": [
    "n = len(gene_chr_objs)\n",
    "# diagonal elements + upper triangular matrix\n",
    "n_comb = n + int(n * (n - 1) / 2.0)\n",
    "print(f\"Number of gene combinations: {n_comb}\", flush=True)"
   ]
  },
  {
   "cell_type": "code",
   "execution_count": 29,
   "id": "cdbb90a1",
   "metadata": {
    "execution": {
     "iopub.execute_input": "2022-12-15T17:53:15.421782Z",
     "iopub.status.busy": "2022-12-15T17:53:15.421580Z",
     "iopub.status.idle": "2022-12-15T17:59:46.969954Z",
     "shell.execute_reply": "2022-12-15T17:59:46.969490Z"
    },
    "papermill": {
     "duration": 391.557352,
     "end_time": "2022-12-15T17:59:46.972159",
     "exception": false,
     "start_time": "2022-12-15T17:53:15.414807",
     "status": "completed"
    },
    "tags": []
   },
   "outputs": [
    {
     "name": "stderr",
     "output_type": "stream",
     "text": [
      "ENSG00000188389 / ENSG00000188389: 100%|█████████████████████| 98790/98790 [06:31<00:00, 252.33it/s]\n"
     ]
    },
    {
     "data": {
      "text/plain": [
       "PosixPath('/opt/data/projects/asthma-copd/results/gls_phenoplier/gene_corrs/copd_only/by_chr/gene_corrs-chr2.pkl')"
      ]
     },
     "metadata": {},
     "output_type": "display_data"
    }
   ],
   "source": [
    "gene_corrs = []\n",
    "gene_corrs_data = np.full(\n",
    "    (n, n),\n",
    "    np.nan,\n",
    "    dtype=np.float64,\n",
    ")\n",
    "\n",
    "i = 0\n",
    "with tqdm(ncols=100, total=n_comb) as pbar:\n",
    "    for gene1_idx in range(0, len(gene_chr_objs)):\n",
    "        gene1_obj = gene_chr_objs[gene1_idx]\n",
    "        gene1_tissues = spredixcan_genes_models.loc[gene1_obj.ensembl_id, \"tissue\"]\n",
    "\n",
    "        for gene2_idx in range(gene1_idx, len(gene_chr_objs)):\n",
    "            gene2_obj = gene_chr_objs[gene2_idx]\n",
    "            gene2_tissues = spredixcan_genes_models.loc[gene2_obj.ensembl_id, \"tissue\"]\n",
    "\n",
    "            pbar.set_description(f\"{gene1_obj.ensembl_id} / {gene2_obj.ensembl_id}\")\n",
    "\n",
    "            try:\n",
    "                r = gene1_obj.get_ssm_correlation(\n",
    "                    other_gene=gene2_obj,\n",
    "                    tissues=gene1_tissues,\n",
    "                    other_tissues=gene2_tissues,\n",
    "                    snps_subset=gwas_variants_ids_set,\n",
    "                    condition_number=SMULTIXCAN_CONDITION_NUMBER,\n",
    "                    reference_panel=REFERENCE_PANEL,\n",
    "                    model_type=EQTL_MODEL,\n",
    "                    use_within_distance=COMPUTE_CORRELATIONS_WITHIN_DISTANCE,\n",
    "                )\n",
    "\n",
    "                if r is None:\n",
    "                    # if r is None, it's very likely because:\n",
    "                    #  * one of the genes has no prediction models\n",
    "                    #  * all the SNPs predictors for the gene are not present in the reference\n",
    "                    #    panel\n",
    "\n",
    "                    r = 0.0\n",
    "\n",
    "                gene_corrs.append(r)\n",
    "\n",
    "                gene_corrs_data[gene1_idx, gene2_idx] = r\n",
    "                gene_corrs_data[gene2_idx, gene1_idx] = r\n",
    "            except Warning as e:\n",
    "                if not DEBUG_MODE:\n",
    "                    raise e\n",
    "\n",
    "                print(\n",
    "                    f\"RuntimeWarning for genes {gene1_obj.ensembl_id} and {gene2_obj.ensembl_id}\",\n",
    "                    flush=True,\n",
    "                )\n",
    "                print(traceback.format_exc(), flush=True)\n",
    "\n",
    "                gene_corrs.append(np.nan)\n",
    "            except Exception as e:\n",
    "                if not DEBUG_MODE:\n",
    "                    raise e\n",
    "\n",
    "                print(\n",
    "                    f\"Exception for genes {gene1_obj.ensembl_id} and {gene2_obj.ensembl_id}\",\n",
    "                    flush=True,\n",
    "                )\n",
    "                print(traceback.format_exc(), flush=True)\n",
    "\n",
    "                gene_corrs.append(np.nan)\n",
    "\n",
    "            pbar.update(1)\n",
    "\n",
    "# create a pandas series\n",
    "gene_corrs_flat = pd.Series(gene_corrs)\n",
    "\n",
    "# save\n",
    "# FIXME: consider saving only the condenced matrix here. See here for\n",
    "# more details: https://github.com/greenelab/phenoplier/pull/38#discussion_r634600813\n",
    "# gene_corrs_data = squareform(np.array(gene_corrs, dtype=np.float64))\n",
    "# np.fill_diagonal(gene_corrs_data, 1.0)\n",
    "\n",
    "gene_chr_ids = [g.ensembl_id for g in gene_chr_objs]\n",
    "gene_corrs_df = pd.DataFrame(\n",
    "    data=gene_corrs_data,\n",
    "    index=gene_chr_ids,\n",
    "    columns=gene_chr_ids,\n",
    ")\n",
    "\n",
    "output_dir.mkdir(exist_ok=True, parents=True)\n",
    "display(output_file)\n",
    "\n",
    "gene_corrs_df.to_pickle(output_file)"
   ]
  },
  {
   "cell_type": "markdown",
   "id": "faa67b51-5373-470f-aa72-2ded53fa6dfe",
   "metadata": {
    "papermill": {
     "duration": 4.044031,
     "end_time": "2022-12-15T17:59:55.072922",
     "exception": false,
     "start_time": "2022-12-15T17:59:51.028891",
     "status": "completed"
    },
    "tags": []
   },
   "source": [
    "# Testing"
   ]
  },
  {
   "cell_type": "code",
   "execution_count": 30,
   "id": "14f7d046-4b55-4896-a56b-990127bcc388",
   "metadata": {
    "execution": {
     "iopub.execute_input": "2022-12-15T18:00:04.098883Z",
     "iopub.status.busy": "2022-12-15T18:00:04.098436Z",
     "iopub.status.idle": "2022-12-15T18:00:04.123654Z",
     "shell.execute_reply": "2022-12-15T18:00:04.123131Z"
    },
    "papermill": {
     "duration": 4.458499,
     "end_time": "2022-12-15T18:00:04.125273",
     "exception": false,
     "start_time": "2022-12-15T17:59:59.666774",
     "status": "completed"
    },
    "tags": []
   },
   "outputs": [
    {
     "data": {
      "text/plain": [
       "(444, 444)"
      ]
     },
     "execution_count": 30,
     "metadata": {},
     "output_type": "execute_result"
    }
   ],
   "source": [
    "gene_corrs_df.shape"
   ]
  },
  {
   "cell_type": "code",
   "execution_count": 31,
   "id": "c7d15414-3297-4537-a7c6-7588c0baeb75",
   "metadata": {
    "execution": {
     "iopub.execute_input": "2022-12-15T18:00:12.204412Z",
     "iopub.status.busy": "2022-12-15T18:00:12.204013Z",
     "iopub.status.idle": "2022-12-15T18:00:12.243069Z",
     "shell.execute_reply": "2022-12-15T18:00:12.242494Z"
    },
    "papermill": {
     "duration": 3.807164,
     "end_time": "2022-12-15T18:00:12.244294",
     "exception": false,
     "start_time": "2022-12-15T18:00:08.437130",
     "status": "completed"
    },
    "tags": []
   },
   "outputs": [
    {
     "data": {
      "text/html": [
       "<div>\n",
       "<style scoped>\n",
       "    .dataframe tbody tr th:only-of-type {\n",
       "        vertical-align: middle;\n",
       "    }\n",
       "\n",
       "    .dataframe tbody tr th {\n",
       "        vertical-align: top;\n",
       "    }\n",
       "\n",
       "    .dataframe thead th {\n",
       "        text-align: right;\n",
       "    }\n",
       "</style>\n",
       "<table border=\"1\" class=\"dataframe\">\n",
       "  <thead>\n",
       "    <tr style=\"text-align: right;\">\n",
       "      <th></th>\n",
       "      <th>ENSG00000143727</th>\n",
       "      <th>ENSG00000115705</th>\n",
       "      <th>ENSG00000130508</th>\n",
       "      <th>ENSG00000182551</th>\n",
       "      <th>ENSG00000171865</th>\n",
       "      <th>ENSG00000171863</th>\n",
       "      <th>ENSG00000134326</th>\n",
       "      <th>ENSG00000134321</th>\n",
       "      <th>ENSG00000115738</th>\n",
       "      <th>ENSG00000134313</th>\n",
       "      <th>...</th>\n",
       "      <th>ENSG00000068024</th>\n",
       "      <th>ENSG00000130414</th>\n",
       "      <th>ENSG00000063660</th>\n",
       "      <th>ENSG00000178623</th>\n",
       "      <th>ENSG00000115687</th>\n",
       "      <th>ENSG00000168385</th>\n",
       "      <th>ENSG00000006607</th>\n",
       "      <th>ENSG00000168393</th>\n",
       "      <th>ENSG00000180902</th>\n",
       "      <th>ENSG00000188389</th>\n",
       "    </tr>\n",
       "  </thead>\n",
       "  <tbody>\n",
       "    <tr>\n",
       "      <th>ENSG00000143727</th>\n",
       "      <td>1.000000</td>\n",
       "      <td>0.008300</td>\n",
       "      <td>0.008055</td>\n",
       "      <td>0.003016</td>\n",
       "      <td>0.008433</td>\n",
       "      <td>0.003120</td>\n",
       "      <td>0.000000</td>\n",
       "      <td>0.000000</td>\n",
       "      <td>0.0</td>\n",
       "      <td>0.0</td>\n",
       "      <td>...</td>\n",
       "      <td>0.0</td>\n",
       "      <td>0.0</td>\n",
       "      <td>0.0</td>\n",
       "      <td>0.0</td>\n",
       "      <td>0.0</td>\n",
       "      <td>0.0</td>\n",
       "      <td>0.0</td>\n",
       "      <td>0.0</td>\n",
       "      <td>0.0</td>\n",
       "      <td>0.0</td>\n",
       "    </tr>\n",
       "    <tr>\n",
       "      <th>ENSG00000115705</th>\n",
       "      <td>0.008300</td>\n",
       "      <td>1.000000</td>\n",
       "      <td>0.016309</td>\n",
       "      <td>0.010477</td>\n",
       "      <td>0.012934</td>\n",
       "      <td>0.011270</td>\n",
       "      <td>0.000000</td>\n",
       "      <td>0.000000</td>\n",
       "      <td>0.0</td>\n",
       "      <td>0.0</td>\n",
       "      <td>...</td>\n",
       "      <td>0.0</td>\n",
       "      <td>0.0</td>\n",
       "      <td>0.0</td>\n",
       "      <td>0.0</td>\n",
       "      <td>0.0</td>\n",
       "      <td>0.0</td>\n",
       "      <td>0.0</td>\n",
       "      <td>0.0</td>\n",
       "      <td>0.0</td>\n",
       "      <td>0.0</td>\n",
       "    </tr>\n",
       "    <tr>\n",
       "      <th>ENSG00000130508</th>\n",
       "      <td>0.008055</td>\n",
       "      <td>0.016309</td>\n",
       "      <td>1.000000</td>\n",
       "      <td>0.010977</td>\n",
       "      <td>0.008181</td>\n",
       "      <td>0.007399</td>\n",
       "      <td>0.000000</td>\n",
       "      <td>0.000000</td>\n",
       "      <td>0.0</td>\n",
       "      <td>0.0</td>\n",
       "      <td>...</td>\n",
       "      <td>0.0</td>\n",
       "      <td>0.0</td>\n",
       "      <td>0.0</td>\n",
       "      <td>0.0</td>\n",
       "      <td>0.0</td>\n",
       "      <td>0.0</td>\n",
       "      <td>0.0</td>\n",
       "      <td>0.0</td>\n",
       "      <td>0.0</td>\n",
       "      <td>0.0</td>\n",
       "    </tr>\n",
       "    <tr>\n",
       "      <th>ENSG00000182551</th>\n",
       "      <td>0.003016</td>\n",
       "      <td>0.010477</td>\n",
       "      <td>0.010977</td>\n",
       "      <td>1.000000</td>\n",
       "      <td>0.134368</td>\n",
       "      <td>0.223789</td>\n",
       "      <td>0.007137</td>\n",
       "      <td>0.008064</td>\n",
       "      <td>0.0</td>\n",
       "      <td>0.0</td>\n",
       "      <td>...</td>\n",
       "      <td>0.0</td>\n",
       "      <td>0.0</td>\n",
       "      <td>0.0</td>\n",
       "      <td>0.0</td>\n",
       "      <td>0.0</td>\n",
       "      <td>0.0</td>\n",
       "      <td>0.0</td>\n",
       "      <td>0.0</td>\n",
       "      <td>0.0</td>\n",
       "      <td>0.0</td>\n",
       "    </tr>\n",
       "    <tr>\n",
       "      <th>ENSG00000171865</th>\n",
       "      <td>0.008433</td>\n",
       "      <td>0.012934</td>\n",
       "      <td>0.008181</td>\n",
       "      <td>0.134368</td>\n",
       "      <td>1.000000</td>\n",
       "      <td>0.115207</td>\n",
       "      <td>0.009295</td>\n",
       "      <td>0.005103</td>\n",
       "      <td>0.0</td>\n",
       "      <td>0.0</td>\n",
       "      <td>...</td>\n",
       "      <td>0.0</td>\n",
       "      <td>0.0</td>\n",
       "      <td>0.0</td>\n",
       "      <td>0.0</td>\n",
       "      <td>0.0</td>\n",
       "      <td>0.0</td>\n",
       "      <td>0.0</td>\n",
       "      <td>0.0</td>\n",
       "      <td>0.0</td>\n",
       "      <td>0.0</td>\n",
       "    </tr>\n",
       "  </tbody>\n",
       "</table>\n",
       "<p>5 rows × 444 columns</p>\n",
       "</div>"
      ],
      "text/plain": [
       "                 ENSG00000143727  ENSG00000115705  ENSG00000130508  \\\n",
       "ENSG00000143727         1.000000         0.008300         0.008055   \n",
       "ENSG00000115705         0.008300         1.000000         0.016309   \n",
       "ENSG00000130508         0.008055         0.016309         1.000000   \n",
       "ENSG00000182551         0.003016         0.010477         0.010977   \n",
       "ENSG00000171865         0.008433         0.012934         0.008181   \n",
       "\n",
       "                 ENSG00000182551  ENSG00000171865  ENSG00000171863  \\\n",
       "ENSG00000143727         0.003016         0.008433         0.003120   \n",
       "ENSG00000115705         0.010477         0.012934         0.011270   \n",
       "ENSG00000130508         0.010977         0.008181         0.007399   \n",
       "ENSG00000182551         1.000000         0.134368         0.223789   \n",
       "ENSG00000171865         0.134368         1.000000         0.115207   \n",
       "\n",
       "                 ENSG00000134326  ENSG00000134321  ENSG00000115738  \\\n",
       "ENSG00000143727         0.000000         0.000000              0.0   \n",
       "ENSG00000115705         0.000000         0.000000              0.0   \n",
       "ENSG00000130508         0.000000         0.000000              0.0   \n",
       "ENSG00000182551         0.007137         0.008064              0.0   \n",
       "ENSG00000171865         0.009295         0.005103              0.0   \n",
       "\n",
       "                 ENSG00000134313  ...  ENSG00000068024  ENSG00000130414  \\\n",
       "ENSG00000143727              0.0  ...              0.0              0.0   \n",
       "ENSG00000115705              0.0  ...              0.0              0.0   \n",
       "ENSG00000130508              0.0  ...              0.0              0.0   \n",
       "ENSG00000182551              0.0  ...              0.0              0.0   \n",
       "ENSG00000171865              0.0  ...              0.0              0.0   \n",
       "\n",
       "                 ENSG00000063660  ENSG00000178623  ENSG00000115687  \\\n",
       "ENSG00000143727              0.0              0.0              0.0   \n",
       "ENSG00000115705              0.0              0.0              0.0   \n",
       "ENSG00000130508              0.0              0.0              0.0   \n",
       "ENSG00000182551              0.0              0.0              0.0   \n",
       "ENSG00000171865              0.0              0.0              0.0   \n",
       "\n",
       "                 ENSG00000168385  ENSG00000006607  ENSG00000168393  \\\n",
       "ENSG00000143727              0.0              0.0              0.0   \n",
       "ENSG00000115705              0.0              0.0              0.0   \n",
       "ENSG00000130508              0.0              0.0              0.0   \n",
       "ENSG00000182551              0.0              0.0              0.0   \n",
       "ENSG00000171865              0.0              0.0              0.0   \n",
       "\n",
       "                 ENSG00000180902  ENSG00000188389  \n",
       "ENSG00000143727              0.0              0.0  \n",
       "ENSG00000115705              0.0              0.0  \n",
       "ENSG00000130508              0.0              0.0  \n",
       "ENSG00000182551              0.0              0.0  \n",
       "ENSG00000171865              0.0              0.0  \n",
       "\n",
       "[5 rows x 444 columns]"
      ]
     },
     "execution_count": 31,
     "metadata": {},
     "output_type": "execute_result"
    }
   ],
   "source": [
    "gene_corrs_df.head()"
   ]
  },
  {
   "cell_type": "markdown",
   "id": "dad6603f-01c6-41fb-a6f6-241051207dd8",
   "metadata": {
    "papermill": {
     "duration": 3.490481,
     "end_time": "2022-12-15T18:00:19.457467",
     "exception": false,
     "start_time": "2022-12-15T18:00:15.966986",
     "status": "completed"
    },
    "tags": []
   },
   "source": [
    "## Standard checks and stats"
   ]
  },
  {
   "cell_type": "code",
   "execution_count": 32,
   "id": "286686af-1b7b-4440-8453-6bdcbd8de19c",
   "metadata": {
    "execution": {
     "iopub.execute_input": "2022-12-15T18:00:26.687285Z",
     "iopub.status.busy": "2022-12-15T18:00:26.686918Z",
     "iopub.status.idle": "2022-12-15T18:00:26.707206Z",
     "shell.execute_reply": "2022-12-15T18:00:26.706540Z"
    },
    "papermill": {
     "duration": 3.857318,
     "end_time": "2022-12-15T18:00:26.708880",
     "exception": false,
     "start_time": "2022-12-15T18:00:22.851562",
     "status": "completed"
    },
    "tags": []
   },
   "outputs": [],
   "source": [
    "assert not gene_corrs_df.isna().any(axis=None)"
   ]
  },
  {
   "cell_type": "code",
   "execution_count": 33,
   "id": "00583efc-7068-4270-ad1e-4a418e91db96",
   "metadata": {
    "execution": {
     "iopub.execute_input": "2022-12-15T18:00:33.278384Z",
     "iopub.status.busy": "2022-12-15T18:00:33.277917Z",
     "iopub.status.idle": "2022-12-15T18:00:33.299825Z",
     "shell.execute_reply": "2022-12-15T18:00:33.299169Z"
    },
    "papermill": {
     "duration": 3.249266,
     "end_time": "2022-12-15T18:00:33.300875",
     "exception": false,
     "start_time": "2022-12-15T18:00:30.051609",
     "status": "completed"
    },
    "tags": []
   },
   "outputs": [
    {
     "data": {
      "text/plain": [
       "0.0"
      ]
     },
     "metadata": {},
     "output_type": "display_data"
    }
   ],
   "source": [
    "_min_val = gene_corrs_df.min().min()\n",
    "display(_min_val)\n",
    "assert _min_val >= -0.05"
   ]
  },
  {
   "cell_type": "code",
   "execution_count": 34,
   "id": "d04fb2cf-1050-475b-b855-f5f7cc04092b",
   "metadata": {
    "execution": {
     "iopub.execute_input": "2022-12-15T18:00:40.065871Z",
     "iopub.status.busy": "2022-12-15T18:00:40.065367Z",
     "iopub.status.idle": "2022-12-15T18:00:40.089025Z",
     "shell.execute_reply": "2022-12-15T18:00:40.088397Z"
    },
    "papermill": {
     "duration": 3.340442,
     "end_time": "2022-12-15T18:00:40.090126",
     "exception": false,
     "start_time": "2022-12-15T18:00:36.749684",
     "status": "completed"
    },
    "tags": []
   },
   "outputs": [
    {
     "data": {
      "text/plain": [
       "1.0000000000000029"
      ]
     },
     "metadata": {},
     "output_type": "display_data"
    }
   ],
   "source": [
    "_max_val = gene_corrs_df.max().max()  # this captures the diagonal\n",
    "display(_max_val)\n",
    "assert _max_val <= 1.05"
   ]
  },
  {
   "cell_type": "code",
   "execution_count": 35,
   "id": "fe283586-c348-40e0-8841-f6d97bfb021c",
   "metadata": {
    "execution": {
     "iopub.execute_input": "2022-12-15T18:00:47.940594Z",
     "iopub.status.busy": "2022-12-15T18:00:47.940211Z",
     "iopub.status.idle": "2022-12-15T18:00:47.971689Z",
     "shell.execute_reply": "2022-12-15T18:00:47.971202Z"
    },
    "papermill": {
     "duration": 3.55075,
     "end_time": "2022-12-15T18:00:47.972943",
     "exception": false,
     "start_time": "2022-12-15T18:00:44.422193",
     "status": "completed"
    },
    "tags": []
   },
   "outputs": [
    {
     "data": {
      "text/plain": [
       "count    98790.000000\n",
       "mean         0.006083\n",
       "std          0.070576\n",
       "min          0.000000\n",
       "25%          0.000000\n",
       "50%          0.000000\n",
       "75%          0.000000\n",
       "max          1.000000\n",
       "dtype: float64"
      ]
     },
     "execution_count": 35,
     "metadata": {},
     "output_type": "execute_result"
    }
   ],
   "source": [
    "gene_corrs_flat.describe()"
   ]
  },
  {
   "cell_type": "code",
   "execution_count": 36,
   "id": "b3815678-0f93-4b35-897b-a9d047a2aa78",
   "metadata": {
    "execution": {
     "iopub.execute_input": "2022-12-15T18:00:54.912777Z",
     "iopub.status.busy": "2022-12-15T18:00:54.912558Z",
     "iopub.status.idle": "2022-12-15T18:00:54.930626Z",
     "shell.execute_reply": "2022-12-15T18:00:54.930100Z"
    },
    "papermill": {
     "duration": 3.486659,
     "end_time": "2022-12-15T18:00:54.931435",
     "exception": false,
     "start_time": "2022-12-15T18:00:51.444776",
     "status": "completed"
    },
    "tags": []
   },
   "outputs": [
    {
     "data": {
      "text/plain": [
       "0.00    0.00000\n",
       "0.05    0.00000\n",
       "0.10    0.00000\n",
       "0.15    0.00000\n",
       "0.20    0.00000\n",
       "0.25    0.00000\n",
       "0.30    0.00000\n",
       "0.35    0.00000\n",
       "0.40    0.00000\n",
       "0.45    0.00000\n",
       "0.50    0.00000\n",
       "0.55    0.00000\n",
       "0.60    0.00000\n",
       "0.65    0.00000\n",
       "0.70    0.00000\n",
       "0.75    0.00000\n",
       "0.80    0.00000\n",
       "0.85    0.00000\n",
       "0.90    0.00000\n",
       "0.95    0.00147\n",
       "dtype: float64"
      ]
     },
     "metadata": {},
     "output_type": "display_data"
    }
   ],
   "source": [
    "gene_corrs_quantiles = gene_corrs_flat.quantile(np.arange(0, 1, 0.05))\n",
    "display(gene_corrs_quantiles)"
   ]
  },
  {
   "cell_type": "markdown",
   "id": "87134509-b145-4a10-8bc9-b7e914c2b0fa",
   "metadata": {
    "papermill": {
     "duration": 3.314642,
     "end_time": "2022-12-15T18:01:01.509640",
     "exception": false,
     "start_time": "2022-12-15T18:00:58.194998",
     "status": "completed"
    },
    "tags": []
   },
   "source": [
    "## Positive definiteness"
   ]
  },
  {
   "cell_type": "code",
   "execution_count": 37,
   "id": "07d9a9a1-a4f7-48aa-b916-6d42a8cc6186",
   "metadata": {
    "execution": {
     "iopub.execute_input": "2022-12-15T18:01:08.518813Z",
     "iopub.status.busy": "2022-12-15T18:01:08.518410Z",
     "iopub.status.idle": "2022-12-15T18:01:08.581086Z",
     "shell.execute_reply": "2022-12-15T18:01:08.580445Z"
    },
    "papermill": {
     "duration": 3.689869,
     "end_time": "2022-12-15T18:01:08.582033",
     "exception": false,
     "start_time": "2022-12-15T18:01:04.892164",
     "status": "completed"
    },
    "tags": []
   },
   "outputs": [
    {
     "data": {
      "text/plain": [
       "0"
      ]
     },
     "metadata": {},
     "output_type": "display_data"
    },
    {
     "data": {
      "text/plain": [
       "array([], dtype=float64)"
      ]
     },
     "metadata": {},
     "output_type": "display_data"
    }
   ],
   "source": [
    "# print negative eigenvalues\n",
    "eigs = np.linalg.eigvals(gene_corrs_df.to_numpy())\n",
    "display(len(eigs[eigs < 0]))\n",
    "display(eigs[eigs < 0])"
   ]
  },
  {
   "cell_type": "code",
   "execution_count": 38,
   "id": "6e218436-c3c5-4028-8c94-a4fa6260efce",
   "metadata": {
    "execution": {
     "iopub.execute_input": "2022-12-15T18:01:15.203646Z",
     "iopub.status.busy": "2022-12-15T18:01:15.203010Z",
     "iopub.status.idle": "2022-12-15T18:01:15.241268Z",
     "shell.execute_reply": "2022-12-15T18:01:15.240614Z"
    },
    "papermill": {
     "duration": 3.373968,
     "end_time": "2022-12-15T18:01:15.242167",
     "exception": false,
     "start_time": "2022-12-15T18:01:11.868199",
     "status": "completed"
    },
    "tags": []
   },
   "outputs": [
    {
     "name": "stdout",
     "output_type": "stream",
     "text": [
      "Works!\n"
     ]
    }
   ],
   "source": [
    "try:\n",
    "    chol_mat = np.linalg.cholesky(gene_corrs_df.to_numpy())\n",
    "    cov_inv = np.linalg.inv(chol_mat)\n",
    "    print(\"Works!\")\n",
    "except Exception as e:\n",
    "    print(f\"Cholesky decomposition failed: {str(e)}\")"
   ]
  },
  {
   "cell_type": "code",
   "execution_count": 39,
   "id": "dd8827fb-faf9-4c7c-9454-015e94752706",
   "metadata": {
    "execution": {
     "iopub.execute_input": "2022-12-15T18:01:22.290827Z",
     "iopub.status.busy": "2022-12-15T18:01:22.290188Z",
     "iopub.status.idle": "2022-12-15T18:01:22.327253Z",
     "shell.execute_reply": "2022-12-15T18:01:22.326588Z"
    },
    "papermill": {
     "duration": 3.474408,
     "end_time": "2022-12-15T18:01:22.328622",
     "exception": false,
     "start_time": "2022-12-15T18:01:18.854214",
     "status": "completed"
    },
    "tags": []
   },
   "outputs": [
    {
     "name": "stdout",
     "output_type": "stream",
     "text": [
      "Works!\n"
     ]
    }
   ],
   "source": [
    "try:\n",
    "    # decomposition used by statsmodels.GLS\n",
    "    cholsigmainv = np.linalg.cholesky(np.linalg.inv(gene_corrs_df.to_numpy())).T\n",
    "    print(\"Works!\")\n",
    "except Exception as e:\n",
    "    print(f\"Cholesky decomposition failed (statsmodels.GLS): {str(e)}\")"
   ]
  },
  {
   "cell_type": "markdown",
   "id": "8e60a080-edb2-4e9c-b2ef-22961693200c",
   "metadata": {
    "papermill": {
     "duration": 3.521429,
     "end_time": "2022-12-15T18:01:29.775107",
     "exception": false,
     "start_time": "2022-12-15T18:01:26.253678",
     "status": "completed"
    },
    "tags": []
   },
   "source": [
    "## Plot: distribution"
   ]
  },
  {
   "cell_type": "code",
   "execution_count": 40,
   "id": "8301126b-a7d4-4744-9c7d-f0f86eb6f54c",
   "metadata": {
    "execution": {
     "iopub.execute_input": "2022-12-15T18:01:36.534300Z",
     "iopub.status.busy": "2022-12-15T18:01:36.533891Z",
     "iopub.status.idle": "2022-12-15T18:01:37.954378Z",
     "shell.execute_reply": "2022-12-15T18:01:37.953922Z"
    },
    "papermill": {
     "duration": 4.870462,
     "end_time": "2022-12-15T18:01:37.955982",
     "exception": false,
     "start_time": "2022-12-15T18:01:33.085520",
     "status": "completed"
    },
    "tags": []
   },
   "outputs": [
    {
     "data": {
      "image/png": "[encoded data removed]",
      "text/plain": [
       "<Figure size 700x700 with 1 Axes>"
      ]
     },
     "metadata": {},
     "output_type": "display_data"
    }
   ],
   "source": [
    "with sns.plotting_context(\"paper\", font_scale=1.5):\n",
    "    g = sns.displot(gene_corrs_flat, kde=True, height=7)\n",
    "    g.ax.set_title(\n",
    "        f\"Distribution of gene correlation values in chromosome {CHROMOSOME}\"\n",
    "    )"
   ]
  },
  {
   "cell_type": "markdown",
   "id": "cbd52bca-d878-4a2f-b684-5c83aa3038d4",
   "metadata": {
    "papermill": {
     "duration": 3.504523,
     "end_time": "2022-12-15T18:01:44.845005",
     "exception": false,
     "start_time": "2022-12-15T18:01:41.340482",
     "status": "completed"
    },
    "tags": []
   },
   "source": [
    "## Plot: heatmap"
   ]
  },
  {
   "cell_type": "code",
   "execution_count": 41,
   "id": "d03fe63a-c7b2-4fb9-a53c-db362ce843c9",
   "metadata": {
    "execution": {
     "iopub.execute_input": "2022-12-15T18:01:51.679842Z",
     "iopub.status.busy": "2022-12-15T18:01:51.679606Z",
     "iopub.status.idle": "2022-12-15T18:01:51.694956Z",
     "shell.execute_reply": "2022-12-15T18:01:51.694563Z"
    },
    "papermill": {
     "duration": 3.454572,
     "end_time": "2022-12-15T18:01:51.695808",
     "exception": false,
     "start_time": "2022-12-15T18:01:48.241236",
     "status": "completed"
    },
    "tags": []
   },
   "outputs": [
    {
     "data": {
      "text/plain": [
       "'0.0 / 0.05'"
      ]
     },
     "metadata": {},
     "output_type": "display_data"
    }
   ],
   "source": [
    "vmin_val = min(0.00, gene_corrs_quantiles[0.10])\n",
    "vmax_val = max(0.05, gene_corrs_quantiles[0.90])\n",
    "display(f\"{vmin_val} / {vmax_val}\")"
   ]
  },
  {
   "cell_type": "code",
   "execution_count": 42,
   "id": "dc41b70b-5bcc-4d9e-9f33-a22c4a94dab5",
   "metadata": {
    "execution": {
     "iopub.execute_input": "2022-12-15T18:01:58.540671Z",
     "iopub.status.busy": "2022-12-15T18:01:58.540434Z",
     "iopub.status.idle": "2022-12-15T18:01:58.880146Z",
     "shell.execute_reply": "2022-12-15T18:01:58.879716Z"
    },
    "papermill": {
     "duration": 3.656004,
     "end_time": "2022-12-15T18:01:58.882003",
     "exception": false,
     "start_time": "2022-12-15T18:01:55.225999",
     "status": "completed"
    },
    "tags": []
   },
   "outputs": [
    {
     "data": {
      "text/plain": [
       "Text(0.5, 1.0, 'Gene correlations in chromosome 2')"
      ]
     },
     "execution_count": 42,
     "metadata": {},
     "output_type": "execute_result"
    },
    {
     "data": {
      "image/png": "[encoded data removed]",
      "text/plain": [
       "<Figure size 1000x1000 with 2 Axes>"
      ]
     },
     "metadata": {},
     "output_type": "display_data"
    }
   ],
   "source": [
    "f, ax = plt.subplots(figsize=(10, 10))\n",
    "sns.heatmap(\n",
    "    gene_corrs_df,\n",
    "    xticklabels=False,\n",
    "    yticklabels=False,\n",
    "    square=True,\n",
    "    vmin=vmin_val,\n",
    "    vmax=vmax_val,\n",
    "    cmap=\"rocket_r\",\n",
    "    ax=ax,\n",
    ")\n",
    "ax.set_title(f\"Gene correlations in chromosome {CHROMOSOME}\")"
   ]
  },
  {
   "cell_type": "code",
   "execution_count": null,
   "id": "b25e3ead",
   "metadata": {
    "papermill": {
     "duration": 3.398223,
     "end_time": "2022-12-15T18:02:05.762738",
     "exception": false,
     "start_time": "2022-12-15T18:02:02.364515",
     "status": "completed"
    },
    "tags": []
   },
   "outputs": [],
   "source": []
  }
 ],
 "metadata": {
  "jupytext": {
   "cell_metadata_filter": "all,-execution,-papermill,-trusted",
   "formats": "ipynb,py//py:percent"
  },
  "kernelspec": {
   "display_name": "Python 3 (ipykernel)",
   "language": "python",
   "name": "python3"
  },
  "language_info": {
   "codemirror_mode": {
    "name": "ipython",
    "version": 3
   },
   "file_extension": ".py",
   "mimetype": "text/x-python",
   "name": "python",
   "nbconvert_exporter": "python",
   "pygments_lexer": "ipython3",
   "version": "3.10.6"
  },
  "papermill": {
   "default_parameters": {},
   "duration": 543.135295,
   "end_time": "2022-12-15T18:02:12.221404",
   "environment_variables": {},
   "exception": null,
   "input_path": "projects/asthma-copd/nbs/20_gene_corrs/jobs/05-gene_expr_correlations.ipynb",
   "output_path": "projects/asthma-copd/nbs/20_gene_corrs/jobs/../output/copd_only/05-gene_expr_correlations-chr2.run.ipynb",
   "parameters": {
    "CHROMOSOME": 2,
    "COHORT_NAME": "copd_only",
    "OUTPUT_DIR_BASE": "/opt/data/projects/asthma-copd/results/gls_phenoplier",
    "PHENOPLIER_NOTEBOOK_FILEPATH": "projects/asthma-copd/nbs/20_gene_corrs/jobs/05-gene_expr_correlations.ipynb"
   },
   "start_time": "2022-12-15T17:53:09.086109",
   "version": "2.2.2"
  }
 },
 "nbformat": 4,
 "nbformat_minor": 5
}
