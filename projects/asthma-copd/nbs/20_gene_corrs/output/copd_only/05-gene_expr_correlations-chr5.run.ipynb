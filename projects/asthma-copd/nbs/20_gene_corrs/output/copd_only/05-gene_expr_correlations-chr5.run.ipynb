{
 "cells": [
  {
   "cell_type": "markdown",
   "id": "7a6632fb",
   "metadata": {
    "papermill": {
     "duration": 0.008908,
     "end_time": "2022-12-05T17:02:12.209465",
     "exception": false,
     "start_time": "2022-12-05T17:02:12.200557",
     "status": "completed"
    },
    "tags": []
   },
   "source": [
    "# Description"
   ]
  },
  {
   "cell_type": "markdown",
   "id": "7097c346",
   "metadata": {
    "papermill": {
     "duration": 0.008141,
     "end_time": "2022-12-05T17:02:12.227728",
     "exception": false,
     "start_time": "2022-12-05T17:02:12.219587",
     "status": "completed"
    },
    "tags": []
   },
   "source": [
    "(Please, take a look at the README.md file in this directory for instructions on how to run this notebook)\n",
    "\n",
    "This notebook computes predicted expression correlations between all genes in the MultiPLIER models.\n",
    "\n",
    "It has specicfic parameters for papermill (see under `Settings` below).\n",
    "It can be configured to run on a single chromosome to run in parallel.\n",
    "\n",
    "This notebook is not directly run. See README.md."
   ]
  },
  {
   "cell_type": "markdown",
   "id": "c61d8427",
   "metadata": {
    "papermill": {
     "duration": 0.008072,
     "end_time": "2022-12-05T17:02:12.243922",
     "exception": false,
     "start_time": "2022-12-05T17:02:12.235850",
     "status": "completed"
    },
    "tags": []
   },
   "source": [
    "# Modules"
   ]
  },
  {
   "cell_type": "code",
   "execution_count": 1,
   "id": "bbc0234f",
   "metadata": {
    "execution": {
     "iopub.execute_input": "2022-12-05T17:02:12.262542Z",
     "iopub.status.busy": "2022-12-05T17:02:12.261872Z",
     "iopub.status.idle": "2022-12-05T17:02:12.280977Z",
     "shell.execute_reply": "2022-12-05T17:02:12.280349Z"
    },
    "papermill": {
     "duration": 0.029806,
     "end_time": "2022-12-05T17:02:12.282536",
     "exception": false,
     "start_time": "2022-12-05T17:02:12.252730",
     "status": "completed"
    },
    "tags": []
   },
   "outputs": [],
   "source": [
    "%load_ext autoreload\n",
    "%autoreload 2"
   ]
  },
  {
   "cell_type": "code",
   "execution_count": 2,
   "id": "1d5f5a59",
   "metadata": {
    "execution": {
     "iopub.execute_input": "2022-12-05T17:02:12.301822Z",
     "iopub.status.busy": "2022-12-05T17:02:12.301381Z",
     "iopub.status.idle": "2022-12-05T17:02:12.996337Z",
     "shell.execute_reply": "2022-12-05T17:02:12.995870Z"
    },
    "papermill": {
     "duration": 0.705713,
     "end_time": "2022-12-05T17:02:12.998042",
     "exception": false,
     "start_time": "2022-12-05T17:02:12.292329",
     "status": "completed"
    },
    "tags": []
   },
   "outputs": [],
   "source": [
    "from random import sample, seed\n",
    "import warnings\n",
    "from pathlib import Path\n",
    "import pickle\n",
    "import traceback\n",
    "\n",
    "import numpy as np\n",
    "from scipy.spatial.distance import squareform\n",
    "import pandas as pd\n",
    "from tqdm import tqdm\n",
    "import matplotlib.pyplot as plt\n",
    "import seaborn as sns\n",
    "\n",
    "import conf\n",
    "from entity import Gene"
   ]
  },
  {
   "cell_type": "markdown",
   "id": "1eac24b5",
   "metadata": {
    "papermill": {
     "duration": 0.009741,
     "end_time": "2022-12-05T17:02:13.016299",
     "exception": false,
     "start_time": "2022-12-05T17:02:13.006558",
     "status": "completed"
    },
    "tags": []
   },
   "source": [
    "# Settings"
   ]
  },
  {
   "cell_type": "code",
   "execution_count": 3,
   "id": "ca4560ba",
   "metadata": {
    "execution": {
     "iopub.execute_input": "2022-12-05T17:02:13.034263Z",
     "iopub.status.busy": "2022-12-05T17:02:13.034101Z",
     "iopub.status.idle": "2022-12-05T17:02:13.047566Z",
     "shell.execute_reply": "2022-12-05T17:02:13.047159Z"
    },
    "papermill": {
     "duration": 0.024538,
     "end_time": "2022-12-05T17:02:13.049046",
     "exception": false,
     "start_time": "2022-12-05T17:02:13.024508",
     "status": "completed"
    },
    "tags": [
     "parameters"
    ]
   },
   "outputs": [],
   "source": [
    "# a cohort name (it could be something like UK_BIOBANK, etc)\n",
    "COHORT_NAME = None\n",
    "\n",
    "# reference panel such as 1000G or GTEX_V8\n",
    "REFERENCE_PANEL = \"GTEX_V8\"\n",
    "\n",
    "# predictions models such as MASHR or ELASTIC_NET\n",
    "EQTL_MODEL = \"MASHR\"\n",
    "\n",
    "# this is the default value used in S-MultiXcan to select the\n",
    "# top principal components of the expression correlation matrix\n",
    "SMULTIXCAN_CONDITION_NUMBER = 30\n",
    "\n",
    "# specifies a single chromosome value\n",
    "CHROMOSOME = None\n",
    "\n",
    "# If True, computes the correlation between closeby genes only (see\n",
    "# entity.Gene.within_distance for more details). Otherwise, it computes\n",
    "# correlations for all genes in a chromosome\n",
    "COMPUTE_CORRELATIONS_WITHIN_DISTANCE = True\n",
    "\n",
    "# if True, then it will continue if a gene pair correlation fails,\n",
    "# printing the warning/error for debugging. If False, any warning/error\n",
    "# will be thrown\n",
    "DEBUG_MODE = False\n",
    "\n",
    "# output dir\n",
    "OUTPUT_DIR_BASE = None"
   ]
  },
  {
   "cell_type": "code",
   "execution_count": 4,
   "id": "b09d3b4d",
   "metadata": {
    "execution": {
     "iopub.execute_input": "2022-12-05T17:02:13.066383Z",
     "iopub.status.busy": "2022-12-05T17:02:13.066242Z",
     "iopub.status.idle": "2022-12-05T17:02:13.078890Z",
     "shell.execute_reply": "2022-12-05T17:02:13.078467Z"
    },
    "papermill": {
     "duration": 0.022854,
     "end_time": "2022-12-05T17:02:13.080376",
     "exception": false,
     "start_time": "2022-12-05T17:02:13.057522",
     "status": "completed"
    },
    "tags": [
     "injected-parameters"
    ]
   },
   "outputs": [],
   "source": [
    "# Parameters\n",
    "PHENOPLIER_NOTEBOOK_FILEPATH = (\n",
    "    \"projects/asthma-copd/nbs/20_gene_corrs/jobs/05-gene_expr_correlations.ipynb\"\n",
    ")\n",
    "COHORT_NAME = \"copd_only\"\n",
    "CHROMOSOME = 5\n",
    "OUTPUT_DIR_BASE = \"/opt/data/projects/asthma-copd/results/gls_phenoplier\"\n"
   ]
  },
  {
   "cell_type": "code",
   "execution_count": 5,
   "id": "3190631f-27fc-480f-b18e-571d580425a5",
   "metadata": {
    "execution": {
     "iopub.execute_input": "2022-12-05T17:02:13.098741Z",
     "iopub.status.busy": "2022-12-05T17:02:13.098611Z",
     "iopub.status.idle": "2022-12-05T17:02:13.115012Z",
     "shell.execute_reply": "2022-12-05T17:02:13.114621Z"
    },
    "papermill": {
     "duration": 0.026633,
     "end_time": "2022-12-05T17:02:13.116386",
     "exception": false,
     "start_time": "2022-12-05T17:02:13.089753",
     "status": "completed"
    },
    "tags": []
   },
   "outputs": [
    {
     "data": {
      "text/plain": [
       "'Cohort name: copd_only'"
      ]
     },
     "metadata": {},
     "output_type": "display_data"
    }
   ],
   "source": [
    "assert COHORT_NAME is not None and len(COHORT_NAME) > 0, \"A cohort name must be given\"\n",
    "\n",
    "COHORT_NAME = COHORT_NAME.lower()\n",
    "display(f\"Cohort name: {COHORT_NAME}\")"
   ]
  },
  {
   "cell_type": "code",
   "execution_count": 6,
   "id": "f53ba19b-0f93-4fa2-a047-63b375939d1a",
   "metadata": {
    "execution": {
     "iopub.execute_input": "2022-12-05T17:02:13.135009Z",
     "iopub.status.busy": "2022-12-05T17:02:13.134860Z",
     "iopub.status.idle": "2022-12-05T17:02:13.152786Z",
     "shell.execute_reply": "2022-12-05T17:02:13.152311Z"
    },
    "papermill": {
     "duration": 0.028271,
     "end_time": "2022-12-05T17:02:13.154140",
     "exception": false,
     "start_time": "2022-12-05T17:02:13.125869",
     "status": "completed"
    },
    "tags": []
   },
   "outputs": [
    {
     "data": {
      "text/plain": [
       "'Reference panel: GTEX_V8'"
      ]
     },
     "metadata": {},
     "output_type": "display_data"
    }
   ],
   "source": [
    "assert (\n",
    "    REFERENCE_PANEL is not None and len(REFERENCE_PANEL) > 0\n",
    "), \"A reference panel must be given\"\n",
    "\n",
    "display(f\"Reference panel: {REFERENCE_PANEL}\")"
   ]
  },
  {
   "cell_type": "code",
   "execution_count": 7,
   "id": "e024d130-c139-429a-9c6e-ccf149e297b0",
   "metadata": {
    "execution": {
     "iopub.execute_input": "2022-12-05T17:02:13.173225Z",
     "iopub.status.busy": "2022-12-05T17:02:13.172819Z",
     "iopub.status.idle": "2022-12-05T17:02:13.195495Z",
     "shell.execute_reply": "2022-12-05T17:02:13.194969Z"
    },
    "papermill": {
     "duration": 0.033323,
     "end_time": "2022-12-05T17:02:13.196958",
     "exception": false,
     "start_time": "2022-12-05T17:02:13.163635",
     "status": "completed"
    },
    "tags": []
   },
   "outputs": [
    {
     "data": {
      "text/plain": [
       "'eQTL model: MASHR) / mashr_'"
      ]
     },
     "metadata": {},
     "output_type": "display_data"
    }
   ],
   "source": [
    "assert (\n",
    "    EQTL_MODEL is not None and len(EQTL_MODEL) > 0\n",
    "), \"A prediction/eQTL model must be given\"\n",
    "\n",
    "EQTL_MODEL_FILES_PREFIX = conf.PHENOMEXCAN[\"PREDICTION_MODELS\"][f\"{EQTL_MODEL}_PREFIX\"]\n",
    "display(f\"eQTL model: {EQTL_MODEL}) / {EQTL_MODEL_FILES_PREFIX}\")"
   ]
  },
  {
   "cell_type": "code",
   "execution_count": 8,
   "id": "552a7f63-a18c-4d3e-bb6a-94f99b431291",
   "metadata": {
    "execution": {
     "iopub.execute_input": "2022-12-05T17:02:13.215674Z",
     "iopub.status.busy": "2022-12-05T17:02:13.215310Z",
     "iopub.status.idle": "2022-12-05T17:02:13.241350Z",
     "shell.execute_reply": "2022-12-05T17:02:13.240776Z"
    },
    "papermill": {
     "duration": 0.037001,
     "end_time": "2022-12-05T17:02:13.242896",
     "exception": false,
     "start_time": "2022-12-05T17:02:13.205895",
     "status": "completed"
    },
    "tags": []
   },
   "outputs": [
    {
     "data": {
      "text/plain": [
       "'S-MultiXcan condition number: 30'"
      ]
     },
     "metadata": {},
     "output_type": "display_data"
    }
   ],
   "source": [
    "assert (\n",
    "    SMULTIXCAN_CONDITION_NUMBER is not None and SMULTIXCAN_CONDITION_NUMBER > 0\n",
    "), \"The S-MultiXcan condition number (positive integer) must be given\"\n",
    "\n",
    "display(f\"S-MultiXcan condition number: {SMULTIXCAN_CONDITION_NUMBER}\")"
   ]
  },
  {
   "cell_type": "code",
   "execution_count": 9,
   "id": "f34a336f-548e-4afe-8955-90eaea4f42c6",
   "metadata": {
    "execution": {
     "iopub.execute_input": "2022-12-05T17:02:13.261850Z",
     "iopub.status.busy": "2022-12-05T17:02:13.261571Z",
     "iopub.status.idle": "2022-12-05T17:02:13.282979Z",
     "shell.execute_reply": "2022-12-05T17:02:13.282383Z"
    },
    "papermill": {
     "duration": 0.032639,
     "end_time": "2022-12-05T17:02:13.284558",
     "exception": false,
     "start_time": "2022-12-05T17:02:13.251919",
     "status": "completed"
    },
    "tags": []
   },
   "outputs": [
    {
     "data": {
      "text/plain": [
       "'Working on chromosome 5'"
      ]
     },
     "metadata": {},
     "output_type": "display_data"
    }
   ],
   "source": [
    "assert CHROMOSOME is not None and (\n",
    "    1 <= CHROMOSOME <= 22\n",
    "), \"You have to select one chromosome (format: number between 1 and 22)\"\n",
    "\n",
    "display(f\"Working on chromosome {CHROMOSOME}\")"
   ]
  },
  {
   "cell_type": "code",
   "execution_count": 10,
   "id": "ab8e96e8-06b5-4363-9dcd-dc4d78cc27f7",
   "metadata": {
    "execution": {
     "iopub.execute_input": "2022-12-05T17:02:13.304179Z",
     "iopub.status.busy": "2022-12-05T17:02:13.304063Z",
     "iopub.status.idle": "2022-12-05T17:02:13.322976Z",
     "shell.execute_reply": "2022-12-05T17:02:13.322415Z"
    },
    "papermill": {
     "duration": 0.030197,
     "end_time": "2022-12-05T17:02:13.324476",
     "exception": false,
     "start_time": "2022-12-05T17:02:13.294279",
     "status": "completed"
    },
    "tags": []
   },
   "outputs": [
    {
     "data": {
      "text/plain": [
       "'Compute correlation within distance True'"
      ]
     },
     "metadata": {},
     "output_type": "display_data"
    }
   ],
   "source": [
    "display(f\"Compute correlation within distance {COMPUTE_CORRELATIONS_WITHIN_DISTANCE}\")"
   ]
  },
  {
   "cell_type": "code",
   "execution_count": 11,
   "id": "b393b698-77e3-4ba2-8ac1-e14d51aa988f",
   "metadata": {
    "execution": {
     "iopub.execute_input": "2022-12-05T17:02:13.345479Z",
     "iopub.status.busy": "2022-12-05T17:02:13.345063Z",
     "iopub.status.idle": "2022-12-05T17:02:13.367870Z",
     "shell.execute_reply": "2022-12-05T17:02:13.367351Z"
    },
    "papermill": {
     "duration": 0.035065,
     "end_time": "2022-12-05T17:02:13.369382",
     "exception": false,
     "start_time": "2022-12-05T17:02:13.334317",
     "status": "completed"
    },
    "tags": []
   },
   "outputs": [
    {
     "data": {
      "text/plain": [
       "'Using output dir base: /opt/data/projects/asthma-copd/results/gls_phenoplier/gene_corrs/copd_only'"
      ]
     },
     "metadata": {},
     "output_type": "display_data"
    }
   ],
   "source": [
    "assert (\n",
    "    OUTPUT_DIR_BASE is not None and len(OUTPUT_DIR_BASE) > 0\n",
    "), \"Output directory path must be given\"\n",
    "\n",
    "OUTPUT_DIR_BASE = (Path(OUTPUT_DIR_BASE) / \"gene_corrs\" / COHORT_NAME).resolve()\n",
    "\n",
    "OUTPUT_DIR_BASE.mkdir(parents=True, exist_ok=True)\n",
    "\n",
    "display(f\"Using output dir base: {OUTPUT_DIR_BASE}\")"
   ]
  },
  {
   "cell_type": "markdown",
   "id": "d2ba085e",
   "metadata": {
    "papermill": {
     "duration": 0.009156,
     "end_time": "2022-12-05T17:02:13.388278",
     "exception": false,
     "start_time": "2022-12-05T17:02:13.379122",
     "status": "completed"
    },
    "tags": []
   },
   "source": [
    "# Load data"
   ]
  },
  {
   "cell_type": "markdown",
   "id": "7dcb8db7",
   "metadata": {
    "papermill": {
     "duration": 0.009187,
     "end_time": "2022-12-05T17:02:13.406676",
     "exception": false,
     "start_time": "2022-12-05T17:02:13.397489",
     "status": "completed"
    },
    "tags": []
   },
   "source": [
    "## GWAS variants"
   ]
  },
  {
   "cell_type": "code",
   "execution_count": 12,
   "id": "29434c4e-8cd3-4b9b-82e4-b5a251d9dd19",
   "metadata": {
    "execution": {
     "iopub.execute_input": "2022-12-05T17:02:13.425741Z",
     "iopub.status.busy": "2022-12-05T17:02:13.425298Z",
     "iopub.status.idle": "2022-12-05T17:02:15.572940Z",
     "shell.execute_reply": "2022-12-05T17:02:15.572459Z"
    },
    "papermill": {
     "duration": 2.159397,
     "end_time": "2022-12-05T17:02:15.575701",
     "exception": false,
     "start_time": "2022-12-05T17:02:13.416304",
     "status": "completed"
    },
    "tags": []
   },
   "outputs": [],
   "source": [
    "with open(OUTPUT_DIR_BASE / \"gwas_variant_ids.pkl\", \"rb\") as handle:\n",
    "    gwas_variants_ids_set = pickle.load(handle)"
   ]
  },
  {
   "cell_type": "code",
   "execution_count": 13,
   "id": "b9d9dec2-4a76-4bf9-bde2-e24c95acb8a0",
   "metadata": {
    "execution": {
     "iopub.execute_input": "2022-12-05T17:02:15.605654Z",
     "iopub.status.busy": "2022-12-05T17:02:15.605537Z",
     "iopub.status.idle": "2022-12-05T17:02:15.618985Z",
     "shell.execute_reply": "2022-12-05T17:02:15.618615Z"
    },
    "papermill": {
     "duration": 0.031288,
     "end_time": "2022-12-05T17:02:15.621762",
     "exception": false,
     "start_time": "2022-12-05T17:02:15.590474",
     "status": "completed"
    },
    "tags": []
   },
   "outputs": [
    {
     "data": {
      "text/plain": [
       "8586183"
      ]
     },
     "execution_count": 13,
     "metadata": {},
     "output_type": "execute_result"
    }
   ],
   "source": [
    "len(gwas_variants_ids_set)"
   ]
  },
  {
   "cell_type": "code",
   "execution_count": 14,
   "id": "4235b06a-6034-4ee4-a0a3-2ae35d122418",
   "metadata": {
    "execution": {
     "iopub.execute_input": "2022-12-05T17:02:15.653718Z",
     "iopub.status.busy": "2022-12-05T17:02:15.653604Z",
     "iopub.status.idle": "2022-12-05T17:02:16.098511Z",
     "shell.execute_reply": "2022-12-05T17:02:16.098102Z"
    },
    "papermill": {
     "duration": 0.461565,
     "end_time": "2022-12-05T17:02:16.100677",
     "exception": false,
     "start_time": "2022-12-05T17:02:15.639112",
     "status": "completed"
    },
    "tags": []
   },
   "outputs": [
    {
     "data": {
      "text/plain": [
       "['chr18_38614024_CA_C_b38',\n",
       " 'chr11_23133705_G_A_b38',\n",
       " 'chr18_5827520_C_T_b38',\n",
       " 'chr6_95944460_A_G_b38',\n",
       " 'chr9_111968808_G_A_b38']"
      ]
     },
     "execution_count": 14,
     "metadata": {},
     "output_type": "execute_result"
    }
   ],
   "source": [
    "list(gwas_variants_ids_set)[:5]"
   ]
  },
  {
   "cell_type": "markdown",
   "id": "07866999-2305-41f9-a144-e69c9122c212",
   "metadata": {
    "papermill": {
     "duration": 0.013024,
     "end_time": "2022-12-05T17:02:16.126072",
     "exception": false,
     "start_time": "2022-12-05T17:02:16.113048",
     "status": "completed"
    },
    "tags": []
   },
   "source": [
    "## S-PrediXcan tissue models"
   ]
  },
  {
   "cell_type": "code",
   "execution_count": 15,
   "id": "780611d9-77c8-405f-90a4-f271f7b09397",
   "metadata": {
    "execution": {
     "iopub.execute_input": "2022-12-05T17:02:16.150849Z",
     "iopub.status.busy": "2022-12-05T17:02:16.150595Z",
     "iopub.status.idle": "2022-12-05T17:02:16.922705Z",
     "shell.execute_reply": "2022-12-05T17:02:16.922242Z"
    },
    "papermill": {
     "duration": 0.785358,
     "end_time": "2022-12-05T17:02:16.924710",
     "exception": false,
     "start_time": "2022-12-05T17:02:16.139352",
     "status": "completed"
    },
    "tags": []
   },
   "outputs": [],
   "source": [
    "spredixcan_genes_models = pd.read_pickle(OUTPUT_DIR_BASE / \"gene_tissues.pkl\")"
   ]
  },
  {
   "cell_type": "code",
   "execution_count": 16,
   "id": "726dd1f6-9557-4225-91fa-b3b879ea96e1",
   "metadata": {
    "execution": {
     "iopub.execute_input": "2022-12-05T17:02:16.948750Z",
     "iopub.status.busy": "2022-12-05T17:02:16.948628Z",
     "iopub.status.idle": "2022-12-05T17:02:16.962282Z",
     "shell.execute_reply": "2022-12-05T17:02:16.961916Z"
    },
    "papermill": {
     "duration": 0.028763,
     "end_time": "2022-12-05T17:02:16.964146",
     "exception": false,
     "start_time": "2022-12-05T17:02:16.935383",
     "status": "completed"
    },
    "tags": []
   },
   "outputs": [
    {
     "data": {
      "text/plain": [
       "(6443, 5)"
      ]
     },
     "execution_count": 16,
     "metadata": {},
     "output_type": "execute_result"
    }
   ],
   "source": [
    "spredixcan_genes_models.shape"
   ]
  },
  {
   "cell_type": "code",
   "execution_count": 17,
   "id": "944a1b48-222c-4eb0-b252-b9de2cbca215",
   "metadata": {
    "execution": {
     "iopub.execute_input": "2022-12-05T17:02:16.986645Z",
     "iopub.status.busy": "2022-12-05T17:02:16.986487Z",
     "iopub.status.idle": "2022-12-05T17:02:17.002604Z",
     "shell.execute_reply": "2022-12-05T17:02:17.002226Z"
    },
    "papermill": {
     "duration": 0.029441,
     "end_time": "2022-12-05T17:02:17.004491",
     "exception": false,
     "start_time": "2022-12-05T17:02:16.975050",
     "status": "completed"
    },
    "tags": []
   },
   "outputs": [
    {
     "data": {
      "text/html": [
       "<div>\n",
       "<style scoped>\n",
       "    .dataframe tbody tr th:only-of-type {\n",
       "        vertical-align: middle;\n",
       "    }\n",
       "\n",
       "    .dataframe tbody tr th {\n",
       "        vertical-align: top;\n",
       "    }\n",
       "\n",
       "    .dataframe thead th {\n",
       "        text-align: right;\n",
       "    }\n",
       "</style>\n",
       "<table border=\"1\" class=\"dataframe\">\n",
       "  <thead>\n",
       "    <tr style=\"text-align: right;\">\n",
       "      <th></th>\n",
       "      <th>gene_name</th>\n",
       "      <th>tissue</th>\n",
       "      <th>n_tissues</th>\n",
       "      <th>n_snps_used_sum</th>\n",
       "      <th>n_snps_in_model_sum</th>\n",
       "    </tr>\n",
       "    <tr>\n",
       "      <th>gene_id</th>\n",
       "      <th></th>\n",
       "      <th></th>\n",
       "      <th></th>\n",
       "      <th></th>\n",
       "      <th></th>\n",
       "    </tr>\n",
       "  </thead>\n",
       "  <tbody>\n",
       "    <tr>\n",
       "      <th>ENSG00000000419</th>\n",
       "      <td>DPM1</td>\n",
       "      <td>(Brain_Hypothalamus, Brain_Substantia_nigra)</td>\n",
       "      <td>2</td>\n",
       "      <td>2</td>\n",
       "      <td>2</td>\n",
       "    </tr>\n",
       "    <tr>\n",
       "      <th>ENSG00000000938</th>\n",
       "      <td>FGR</td>\n",
       "      <td>(Heart_Left_Ventricle, Nerve_Tibial, Brain_Spi...</td>\n",
       "      <td>36</td>\n",
       "      <td>40</td>\n",
       "      <td>40</td>\n",
       "    </tr>\n",
       "    <tr>\n",
       "      <th>ENSG00000000971</th>\n",
       "      <td>CFH</td>\n",
       "      <td>(Heart_Left_Ventricle, Nerve_Tibial, Brain_Spi...</td>\n",
       "      <td>34</td>\n",
       "      <td>44</td>\n",
       "      <td>44</td>\n",
       "    </tr>\n",
       "    <tr>\n",
       "      <th>ENSG00000001084</th>\n",
       "      <td>GCLC</td>\n",
       "      <td>(Heart_Left_Ventricle, Nerve_Tibial, Pituitary...</td>\n",
       "      <td>32</td>\n",
       "      <td>46</td>\n",
       "      <td>46</td>\n",
       "    </tr>\n",
       "    <tr>\n",
       "      <th>ENSG00000001167</th>\n",
       "      <td>NFYA</td>\n",
       "      <td>(Heart_Left_Ventricle, Nerve_Tibial, Vagina, B...</td>\n",
       "      <td>40</td>\n",
       "      <td>47</td>\n",
       "      <td>48</td>\n",
       "    </tr>\n",
       "  </tbody>\n",
       "</table>\n",
       "</div>"
      ],
      "text/plain": [
       "                gene_name                                             tissue  \\\n",
       "gene_id                                                                        \n",
       "ENSG00000000419      DPM1       (Brain_Hypothalamus, Brain_Substantia_nigra)   \n",
       "ENSG00000000938       FGR  (Heart_Left_Ventricle, Nerve_Tibial, Brain_Spi...   \n",
       "ENSG00000000971       CFH  (Heart_Left_Ventricle, Nerve_Tibial, Brain_Spi...   \n",
       "ENSG00000001084      GCLC  (Heart_Left_Ventricle, Nerve_Tibial, Pituitary...   \n",
       "ENSG00000001167      NFYA  (Heart_Left_Ventricle, Nerve_Tibial, Vagina, B...   \n",
       "\n",
       "                 n_tissues  n_snps_used_sum  n_snps_in_model_sum  \n",
       "gene_id                                                           \n",
       "ENSG00000000419          2                2                    2  \n",
       "ENSG00000000938         36               40                   40  \n",
       "ENSG00000000971         34               44                   44  \n",
       "ENSG00000001084         32               46                   46  \n",
       "ENSG00000001167         40               47                   48  "
      ]
     },
     "execution_count": 17,
     "metadata": {},
     "output_type": "execute_result"
    }
   ],
   "source": [
    "spredixcan_genes_models.head()"
   ]
  },
  {
   "cell_type": "code",
   "execution_count": 18,
   "id": "d1c11bb1-be0b-4f40-b360-633d6827109f",
   "metadata": {
    "execution": {
     "iopub.execute_input": "2022-12-05T17:02:17.027865Z",
     "iopub.status.busy": "2022-12-05T17:02:17.027752Z",
     "iopub.status.idle": "2022-12-05T17:02:17.039888Z",
     "shell.execute_reply": "2022-12-05T17:02:17.039448Z"
    },
    "papermill": {
     "duration": 0.026129,
     "end_time": "2022-12-05T17:02:17.041787",
     "exception": false,
     "start_time": "2022-12-05T17:02:17.015658",
     "status": "completed"
    },
    "tags": []
   },
   "outputs": [],
   "source": [
    "assert spredixcan_genes_models.index.is_unique"
   ]
  },
  {
   "cell_type": "markdown",
   "id": "a5b5092c-a13e-47c4-a92a-480fcc08f3ae",
   "metadata": {
    "papermill": {
     "duration": 0.010729,
     "end_time": "2022-12-05T17:02:17.063649",
     "exception": false,
     "start_time": "2022-12-05T17:02:17.052920",
     "status": "completed"
    },
    "tags": []
   },
   "source": [
    "## Gene info"
   ]
  },
  {
   "cell_type": "code",
   "execution_count": 19,
   "id": "7d6bb224-88e9-4358-ac10-43a41d92cdad",
   "metadata": {
    "execution": {
     "iopub.execute_input": "2022-12-05T17:02:17.085916Z",
     "iopub.status.busy": "2022-12-05T17:02:17.085686Z",
     "iopub.status.idle": "2022-12-05T17:02:17.103339Z",
     "shell.execute_reply": "2022-12-05T17:02:17.102862Z"
    },
    "papermill": {
     "duration": 0.029261,
     "end_time": "2022-12-05T17:02:17.104520",
     "exception": false,
     "start_time": "2022-12-05T17:02:17.075259",
     "status": "completed"
    },
    "tags": []
   },
   "outputs": [],
   "source": [
    "genes_info = pd.read_pickle(OUTPUT_DIR_BASE / \"genes_info.pkl\")"
   ]
  },
  {
   "cell_type": "code",
   "execution_count": 20,
   "id": "9e32abfa-546d-483e-8c18-d526e9e05903",
   "metadata": {
    "execution": {
     "iopub.execute_input": "2022-12-05T17:02:17.118182Z",
     "iopub.status.busy": "2022-12-05T17:02:17.117795Z",
     "iopub.status.idle": "2022-12-05T17:02:17.134555Z",
     "shell.execute_reply": "2022-12-05T17:02:17.134097Z"
    },
    "papermill": {
     "duration": 0.025337,
     "end_time": "2022-12-05T17:02:17.136354",
     "exception": false,
     "start_time": "2022-12-05T17:02:17.111017",
     "status": "completed"
    },
    "tags": []
   },
   "outputs": [
    {
     "data": {
      "text/plain": [
       "(6443, 7)"
      ]
     },
     "execution_count": 20,
     "metadata": {},
     "output_type": "execute_result"
    }
   ],
   "source": [
    "genes_info.shape"
   ]
  },
  {
   "cell_type": "code",
   "execution_count": 21,
   "id": "d16c3e92-85ec-468a-9a56-e25a9774a1cb",
   "metadata": {
    "execution": {
     "iopub.execute_input": "2022-12-05T17:02:17.160258Z",
     "iopub.status.busy": "2022-12-05T17:02:17.159806Z",
     "iopub.status.idle": "2022-12-05T17:02:17.183821Z",
     "shell.execute_reply": "2022-12-05T17:02:17.183323Z"
    },
    "papermill": {
     "duration": 0.038157,
     "end_time": "2022-12-05T17:02:17.185930",
     "exception": false,
     "start_time": "2022-12-05T17:02:17.147773",
     "status": "completed"
    },
    "tags": []
   },
   "outputs": [
    {
     "data": {
      "text/html": [
       "<div>\n",
       "<style scoped>\n",
       "    .dataframe tbody tr th:only-of-type {\n",
       "        vertical-align: middle;\n",
       "    }\n",
       "\n",
       "    .dataframe tbody tr th {\n",
       "        vertical-align: top;\n",
       "    }\n",
       "\n",
       "    .dataframe thead th {\n",
       "        text-align: right;\n",
       "    }\n",
       "</style>\n",
       "<table border=\"1\" class=\"dataframe\">\n",
       "  <thead>\n",
       "    <tr style=\"text-align: right;\">\n",
       "      <th></th>\n",
       "      <th>name</th>\n",
       "      <th>id</th>\n",
       "      <th>chr</th>\n",
       "      <th>band</th>\n",
       "      <th>start_position</th>\n",
       "      <th>end_position</th>\n",
       "      <th>gene_length</th>\n",
       "    </tr>\n",
       "  </thead>\n",
       "  <tbody>\n",
       "    <tr>\n",
       "      <th>0</th>\n",
       "      <td>IL2RB</td>\n",
       "      <td>ENSG00000100385</td>\n",
       "      <td>22</td>\n",
       "      <td>22q12.3</td>\n",
       "      <td>37125843</td>\n",
       "      <td>37175054</td>\n",
       "      <td>49211</td>\n",
       "    </tr>\n",
       "    <tr>\n",
       "      <th>1</th>\n",
       "      <td>ZNF208</td>\n",
       "      <td>ENSG00000160321</td>\n",
       "      <td>19</td>\n",
       "      <td>19p12</td>\n",
       "      <td>21932958</td>\n",
       "      <td>22010949</td>\n",
       "      <td>77991</td>\n",
       "    </tr>\n",
       "    <tr>\n",
       "      <th>2</th>\n",
       "      <td>CES1</td>\n",
       "      <td>ENSG00000198848</td>\n",
       "      <td>16</td>\n",
       "      <td>16q12.2</td>\n",
       "      <td>55802851</td>\n",
       "      <td>55833337</td>\n",
       "      <td>30486</td>\n",
       "    </tr>\n",
       "    <tr>\n",
       "      <th>3</th>\n",
       "      <td>XAB2</td>\n",
       "      <td>ENSG00000076924</td>\n",
       "      <td>19</td>\n",
       "      <td>19p13.2</td>\n",
       "      <td>7619525</td>\n",
       "      <td>7629545</td>\n",
       "      <td>10020</td>\n",
       "    </tr>\n",
       "    <tr>\n",
       "      <th>4</th>\n",
       "      <td>AQP1</td>\n",
       "      <td>ENSG00000240583</td>\n",
       "      <td>7</td>\n",
       "      <td>7p14.3</td>\n",
       "      <td>30911694</td>\n",
       "      <td>30925517</td>\n",
       "      <td>13823</td>\n",
       "    </tr>\n",
       "  </tbody>\n",
       "</table>\n",
       "</div>"
      ],
      "text/plain": [
       "     name               id  chr     band  start_position  end_position  \\\n",
       "0   IL2RB  ENSG00000100385   22  22q12.3        37125843      37175054   \n",
       "1  ZNF208  ENSG00000160321   19    19p12        21932958      22010949   \n",
       "2    CES1  ENSG00000198848   16  16q12.2        55802851      55833337   \n",
       "3    XAB2  ENSG00000076924   19  19p13.2         7619525       7629545   \n",
       "4    AQP1  ENSG00000240583    7   7p14.3        30911694      30925517   \n",
       "\n",
       "   gene_length  \n",
       "0        49211  \n",
       "1        77991  \n",
       "2        30486  \n",
       "3        10020  \n",
       "4        13823  "
      ]
     },
     "execution_count": 21,
     "metadata": {},
     "output_type": "execute_result"
    }
   ],
   "source": [
    "genes_info.head()"
   ]
  },
  {
   "cell_type": "markdown",
   "id": "d3843e06",
   "metadata": {
    "papermill": {
     "duration": 0.012996,
     "end_time": "2022-12-05T17:02:17.212121",
     "exception": false,
     "start_time": "2022-12-05T17:02:17.199125",
     "status": "completed"
    },
    "tags": []
   },
   "source": [
    "# Compute correlations"
   ]
  },
  {
   "cell_type": "code",
   "execution_count": 22,
   "id": "cb859c15-d1f3-4006-a74c-2b83c0db9611",
   "metadata": {
    "execution": {
     "iopub.execute_input": "2022-12-05T17:02:17.234992Z",
     "iopub.status.busy": "2022-12-05T17:02:17.234495Z",
     "iopub.status.idle": "2022-12-05T17:02:17.255148Z",
     "shell.execute_reply": "2022-12-05T17:02:17.254648Z"
    },
    "papermill": {
     "duration": 0.032763,
     "end_time": "2022-12-05T17:02:17.256400",
     "exception": false,
     "start_time": "2022-12-05T17:02:17.223637",
     "status": "completed"
    },
    "tags": []
   },
   "outputs": [
    {
     "data": {
      "text/plain": [
       "PosixPath('/opt/data/projects/asthma-copd/results/gls_phenoplier/gene_corrs/copd_only/by_chr/gene_corrs-chr5.pkl')"
      ]
     },
     "metadata": {},
     "output_type": "display_data"
    }
   ],
   "source": [
    "output_dir = OUTPUT_DIR_BASE / \"by_chr\"\n",
    "output_dir.mkdir(exist_ok=True, parents=True)\n",
    "output_file = output_dir / f\"gene_corrs-chr{CHROMOSOME}.pkl\"\n",
    "display(output_file)"
   ]
  },
  {
   "cell_type": "code",
   "execution_count": 23,
   "id": "aa674fe4-6794-4eed-98fa-32b39d1d4ace",
   "metadata": {
    "execution": {
     "iopub.execute_input": "2022-12-05T17:02:17.272608Z",
     "iopub.status.busy": "2022-12-05T17:02:17.272157Z",
     "iopub.status.idle": "2022-12-05T17:02:17.291112Z",
     "shell.execute_reply": "2022-12-05T17:02:17.290610Z"
    },
    "papermill": {
     "duration": 0.028945,
     "end_time": "2022-12-05T17:02:17.292482",
     "exception": false,
     "start_time": "2022-12-05T17:02:17.263537",
     "status": "completed"
    },
    "tags": []
   },
   "outputs": [],
   "source": [
    "warnings.filterwarnings(\"error\")"
   ]
  },
  {
   "cell_type": "code",
   "execution_count": 24,
   "id": "44d5450b-3baf-43f1-9e2e-4b06f1a785f8",
   "metadata": {
    "execution": {
     "iopub.execute_input": "2022-12-05T17:02:17.307853Z",
     "iopub.status.busy": "2022-12-05T17:02:17.307417Z",
     "iopub.status.idle": "2022-12-05T17:02:17.327533Z",
     "shell.execute_reply": "2022-12-05T17:02:17.327027Z"
    },
    "papermill": {
     "duration": 0.02935,
     "end_time": "2022-12-05T17:02:17.328984",
     "exception": false,
     "start_time": "2022-12-05T17:02:17.299634",
     "status": "completed"
    },
    "tags": []
   },
   "outputs": [],
   "source": [
    "# standard checks\n",
    "all_chrs = genes_info[\"chr\"].dropna().unique()\n",
    "assert all_chrs.shape[0] == 22\n",
    "\n",
    "# select chromosome given by the user\n",
    "assert CHROMOSOME in all_chrs"
   ]
  },
  {
   "cell_type": "code",
   "execution_count": 25,
   "id": "2d7c043c-92a7-4d35-991b-fa69ac1e0268",
   "metadata": {
    "execution": {
     "iopub.execute_input": "2022-12-05T17:02:17.346575Z",
     "iopub.status.busy": "2022-12-05T17:02:17.346200Z",
     "iopub.status.idle": "2022-12-05T17:02:17.367337Z",
     "shell.execute_reply": "2022-12-05T17:02:17.366823Z"
    },
    "papermill": {
     "duration": 0.031794,
     "end_time": "2022-12-05T17:02:17.368635",
     "exception": false,
     "start_time": "2022-12-05T17:02:17.336841",
     "status": "completed"
    },
    "tags": []
   },
   "outputs": [
    {
     "name": "stdout",
     "output_type": "stream",
     "text": [
      "Number of genes in chromosome: 305\n"
     ]
    }
   ],
   "source": [
    "# run only on the chromosome specified\n",
    "all_chrs = [CHROMOSOME]\n",
    "genes_chr = genes_info[genes_info[\"chr\"] == CHROMOSOME]\n",
    "\n",
    "# For testing purposes\n",
    "# genes_chr = genes_chr.sample(n=20)\n",
    "\n",
    "print(f\"Number of genes in chromosome: {genes_chr.shape[0]}\", flush=True)"
   ]
  },
  {
   "cell_type": "code",
   "execution_count": 26,
   "id": "916015d8-2979-46d3-a9b9-1cf5a0932c6a",
   "metadata": {
    "execution": {
     "iopub.execute_input": "2022-12-05T17:02:17.384963Z",
     "iopub.status.busy": "2022-12-05T17:02:17.384480Z",
     "iopub.status.idle": "2022-12-05T17:02:17.404100Z",
     "shell.execute_reply": "2022-12-05T17:02:17.403586Z"
    },
    "papermill": {
     "duration": 0.029588,
     "end_time": "2022-12-05T17:02:17.405447",
     "exception": false,
     "start_time": "2022-12-05T17:02:17.375859",
     "status": "completed"
    },
    "tags": []
   },
   "outputs": [],
   "source": [
    "# sort genes by starting position to make visualizations better later\n",
    "genes_chr = genes_chr.sort_values(\"start_position\")"
   ]
  },
  {
   "cell_type": "code",
   "execution_count": 27,
   "id": "a38aa74a-8ad3-47f6-8ef9-56be0e011774",
   "metadata": {
    "execution": {
     "iopub.execute_input": "2022-12-05T17:02:17.421066Z",
     "iopub.status.busy": "2022-12-05T17:02:17.420607Z",
     "iopub.status.idle": "2022-12-05T17:02:17.440327Z",
     "shell.execute_reply": "2022-12-05T17:02:17.439741Z"
    },
    "papermill": {
     "duration": 0.029024,
     "end_time": "2022-12-05T17:02:17.441776",
     "exception": false,
     "start_time": "2022-12-05T17:02:17.412752",
     "status": "completed"
    },
    "tags": []
   },
   "outputs": [],
   "source": [
    "gene_chr_objs = [Gene(ensembl_id=gene_id) for gene_id in genes_chr[\"id\"]]"
   ]
  },
  {
   "cell_type": "code",
   "execution_count": 28,
   "id": "570f974f-13c3-42b6-ad3a-ce99ca885c1a",
   "metadata": {
    "execution": {
     "iopub.execute_input": "2022-12-05T17:02:17.457871Z",
     "iopub.status.busy": "2022-12-05T17:02:17.457646Z",
     "iopub.status.idle": "2022-12-05T17:02:17.477563Z",
     "shell.execute_reply": "2022-12-05T17:02:17.477055Z"
    },
    "papermill": {
     "duration": 0.02989,
     "end_time": "2022-12-05T17:02:17.478915",
     "exception": false,
     "start_time": "2022-12-05T17:02:17.449025",
     "status": "completed"
    },
    "tags": []
   },
   "outputs": [
    {
     "name": "stdout",
     "output_type": "stream",
     "text": [
      "Number of gene combinations: 46665\n"
     ]
    }
   ],
   "source": [
    "n = len(gene_chr_objs)\n",
    "# diagonal elements + upper triangular matrix\n",
    "n_comb = n + int(n * (n - 1) / 2.0)\n",
    "print(f\"Number of gene combinations: {n_comb}\", flush=True)"
   ]
  },
  {
   "cell_type": "code",
   "execution_count": 29,
   "id": "cdbb90a1",
   "metadata": {
    "execution": {
     "iopub.execute_input": "2022-12-05T17:02:17.494743Z",
     "iopub.status.busy": "2022-12-05T17:02:17.494322Z",
     "iopub.status.idle": "2022-12-05T17:06:13.466219Z",
     "shell.execute_reply": "2022-12-05T17:06:13.465693Z"
    },
    "papermill": {
     "duration": 235.981283,
     "end_time": "2022-12-05T17:06:13.467562",
     "exception": false,
     "start_time": "2022-12-05T17:02:17.486279",
     "status": "completed"
    },
    "tags": []
   },
   "outputs": [
    {
     "name": "stderr",
     "output_type": "stream",
     "text": [
      "ENSG00000165810 / ENSG00000165810: 100%|█████████████████████| 46665/46665 [03:55<00:00, 197.79it/s]\n"
     ]
    },
    {
     "data": {
      "text/plain": [
       "PosixPath('/opt/data/projects/asthma-copd/results/gls_phenoplier/gene_corrs/copd_only/by_chr/gene_corrs-chr5.pkl')"
      ]
     },
     "metadata": {},
     "output_type": "display_data"
    }
   ],
   "source": [
    "gene_corrs = []\n",
    "gene_corrs_data = np.full(\n",
    "    (n, n),\n",
    "    np.nan,\n",
    "    dtype=np.float64,\n",
    ")\n",
    "\n",
    "i = 0\n",
    "with tqdm(ncols=100, total=n_comb) as pbar:\n",
    "    for gene1_idx in range(0, len(gene_chr_objs)):\n",
    "        gene1_obj = gene_chr_objs[gene1_idx]\n",
    "        gene1_tissues = spredixcan_genes_models.loc[gene1_obj.ensembl_id, \"tissue\"]\n",
    "\n",
    "        for gene2_idx in range(gene1_idx, len(gene_chr_objs)):\n",
    "            gene2_obj = gene_chr_objs[gene2_idx]\n",
    "            gene2_tissues = spredixcan_genes_models.loc[gene2_obj.ensembl_id, \"tissue\"]\n",
    "\n",
    "            pbar.set_description(f\"{gene1_obj.ensembl_id} / {gene2_obj.ensembl_id}\")\n",
    "\n",
    "            try:\n",
    "                r = gene1_obj.get_ssm_correlation(\n",
    "                    other_gene=gene2_obj,\n",
    "                    tissues=gene1_tissues,\n",
    "                    other_tissues=gene2_tissues,\n",
    "                    snps_subset=gwas_variants_ids_set,\n",
    "                    condition_number=SMULTIXCAN_CONDITION_NUMBER,\n",
    "                    reference_panel=REFERENCE_PANEL,\n",
    "                    model_type=EQTL_MODEL,\n",
    "                    use_within_distance=COMPUTE_CORRELATIONS_WITHIN_DISTANCE,\n",
    "                )\n",
    "\n",
    "                if r is None:\n",
    "                    # if r is None, it's very likely because:\n",
    "                    #  * one of the genes has no prediction models\n",
    "                    #  * all the SNPs predictors for the gene are not present in the reference\n",
    "                    #    panel\n",
    "\n",
    "                    r = 0.0\n",
    "\n",
    "                gene_corrs.append(r)\n",
    "\n",
    "                gene_corrs_data[gene1_idx, gene2_idx] = r\n",
    "                gene_corrs_data[gene2_idx, gene1_idx] = r\n",
    "            except Warning as e:\n",
    "                if not DEBUG_MODE:\n",
    "                    raise e\n",
    "\n",
    "                print(\n",
    "                    f\"RuntimeWarning for genes {gene1_obj.ensembl_id} and {gene2_obj.ensembl_id}\",\n",
    "                    flush=True,\n",
    "                )\n",
    "                print(traceback.format_exc(), flush=True)\n",
    "\n",
    "                gene_corrs.append(np.nan)\n",
    "            except Exception as e:\n",
    "                if not DEBUG_MODE:\n",
    "                    raise e\n",
    "\n",
    "                print(\n",
    "                    f\"Exception for genes {gene1_obj.ensembl_id} and {gene2_obj.ensembl_id}\",\n",
    "                    flush=True,\n",
    "                )\n",
    "                print(traceback.format_exc(), flush=True)\n",
    "\n",
    "                gene_corrs.append(np.nan)\n",
    "\n",
    "            pbar.update(1)\n",
    "\n",
    "# create a pandas series\n",
    "gene_corrs_flat = pd.Series(gene_corrs)\n",
    "\n",
    "# save\n",
    "# FIXME: consider saving only the condenced matrix here. See here for\n",
    "# more details: https://github.com/greenelab/phenoplier/pull/38#discussion_r634600813\n",
    "# gene_corrs_data = squareform(np.array(gene_corrs, dtype=np.float64))\n",
    "# np.fill_diagonal(gene_corrs_data, 1.0)\n",
    "\n",
    "gene_chr_ids = [g.ensembl_id for g in gene_chr_objs]\n",
    "gene_corrs_df = pd.DataFrame(\n",
    "    data=gene_corrs_data,\n",
    "    index=gene_chr_ids,\n",
    "    columns=gene_chr_ids,\n",
    ")\n",
    "\n",
    "output_dir.mkdir(exist_ok=True, parents=True)\n",
    "display(output_file)\n",
    "\n",
    "gene_corrs_df.to_pickle(output_file)"
   ]
  },
  {
   "cell_type": "markdown",
   "id": "faa67b51-5373-470f-aa72-2ded53fa6dfe",
   "metadata": {
    "papermill": {
     "duration": 1.46678,
     "end_time": "2022-12-05T17:06:16.418941",
     "exception": false,
     "start_time": "2022-12-05T17:06:14.952161",
     "status": "completed"
    },
    "tags": []
   },
   "source": [
    "# Testing"
   ]
  },
  {
   "cell_type": "code",
   "execution_count": 30,
   "id": "14f7d046-4b55-4896-a56b-990127bcc388",
   "metadata": {
    "execution": {
     "iopub.execute_input": "2022-12-05T17:06:19.289554Z",
     "iopub.status.busy": "2022-12-05T17:06:19.289300Z",
     "iopub.status.idle": "2022-12-05T17:06:19.309285Z",
     "shell.execute_reply": "2022-12-05T17:06:19.308604Z"
    },
    "papermill": {
     "duration": 1.449559,
     "end_time": "2022-12-05T17:06:19.310242",
     "exception": false,
     "start_time": "2022-12-05T17:06:17.860683",
     "status": "completed"
    },
    "tags": []
   },
   "outputs": [
    {
     "data": {
      "text/plain": [
       "(305, 305)"
      ]
     },
     "execution_count": 30,
     "metadata": {},
     "output_type": "execute_result"
    }
   ],
   "source": [
    "gene_corrs_df.shape"
   ]
  },
  {
   "cell_type": "code",
   "execution_count": 31,
   "id": "c7d15414-3297-4537-a7c6-7588c0baeb75",
   "metadata": {
    "execution": {
     "iopub.execute_input": "2022-12-05T17:06:22.223379Z",
     "iopub.status.busy": "2022-12-05T17:06:22.222670Z",
     "iopub.status.idle": "2022-12-05T17:06:22.264949Z",
     "shell.execute_reply": "2022-12-05T17:06:22.264392Z"
    },
    "papermill": {
     "duration": 1.511414,
     "end_time": "2022-12-05T17:06:22.265756",
     "exception": false,
     "start_time": "2022-12-05T17:06:20.754342",
     "status": "completed"
    },
    "tags": []
   },
   "outputs": [
    {
     "data": {
      "text/html": [
       "<div>\n",
       "<style scoped>\n",
       "    .dataframe tbody tr th:only-of-type {\n",
       "        vertical-align: middle;\n",
       "    }\n",
       "\n",
       "    .dataframe tbody tr th {\n",
       "        vertical-align: top;\n",
       "    }\n",
       "\n",
       "    .dataframe thead th {\n",
       "        text-align: right;\n",
       "    }\n",
       "</style>\n",
       "<table border=\"1\" class=\"dataframe\">\n",
       "  <thead>\n",
       "    <tr style=\"text-align: right;\">\n",
       "      <th></th>\n",
       "      <th>ENSG00000073578</th>\n",
       "      <th>ENSG00000180104</th>\n",
       "      <th>ENSG00000066230</th>\n",
       "      <th>ENSG00000112877</th>\n",
       "      <th>ENSG00000113504</th>\n",
       "      <th>ENSG00000174358</th>\n",
       "      <th>ENSG00000164362</th>\n",
       "      <th>ENSG00000049656</th>\n",
       "      <th>ENSG00000153395</th>\n",
       "      <th>ENSG00000171421</th>\n",
       "      <th>...</th>\n",
       "      <th>ENSG00000161021</th>\n",
       "      <th>ENSG00000161013</th>\n",
       "      <th>ENSG00000161011</th>\n",
       "      <th>ENSG00000050748</th>\n",
       "      <th>ENSG00000131459</th>\n",
       "      <th>ENSG00000113300</th>\n",
       "      <th>ENSG00000037280</th>\n",
       "      <th>ENSG00000131446</th>\n",
       "      <th>ENSG00000113303</th>\n",
       "      <th>ENSG00000165810</th>\n",
       "    </tr>\n",
       "  </thead>\n",
       "  <tbody>\n",
       "    <tr>\n",
       "      <th>ENSG00000073578</th>\n",
       "      <td>1.000000</td>\n",
       "      <td>0.240815</td>\n",
       "      <td>0.161150</td>\n",
       "      <td>0.049611</td>\n",
       "      <td>0.015151</td>\n",
       "      <td>0.011679</td>\n",
       "      <td>0.008640</td>\n",
       "      <td>0.010104</td>\n",
       "      <td>0.012698</td>\n",
       "      <td>0.008122</td>\n",
       "      <td>...</td>\n",
       "      <td>0.0</td>\n",
       "      <td>0.0</td>\n",
       "      <td>0.0</td>\n",
       "      <td>0.0</td>\n",
       "      <td>0.0</td>\n",
       "      <td>0.0</td>\n",
       "      <td>0.0</td>\n",
       "      <td>0.0</td>\n",
       "      <td>0.0</td>\n",
       "      <td>0.0</td>\n",
       "    </tr>\n",
       "    <tr>\n",
       "      <th>ENSG00000180104</th>\n",
       "      <td>0.240815</td>\n",
       "      <td>1.000000</td>\n",
       "      <td>0.394044</td>\n",
       "      <td>0.092476</td>\n",
       "      <td>0.006065</td>\n",
       "      <td>0.010590</td>\n",
       "      <td>0.007414</td>\n",
       "      <td>0.004419</td>\n",
       "      <td>0.004101</td>\n",
       "      <td>0.006108</td>\n",
       "      <td>...</td>\n",
       "      <td>0.0</td>\n",
       "      <td>0.0</td>\n",
       "      <td>0.0</td>\n",
       "      <td>0.0</td>\n",
       "      <td>0.0</td>\n",
       "      <td>0.0</td>\n",
       "      <td>0.0</td>\n",
       "      <td>0.0</td>\n",
       "      <td>0.0</td>\n",
       "      <td>0.0</td>\n",
       "    </tr>\n",
       "    <tr>\n",
       "      <th>ENSG00000066230</th>\n",
       "      <td>0.161150</td>\n",
       "      <td>0.394044</td>\n",
       "      <td>1.000000</td>\n",
       "      <td>0.216369</td>\n",
       "      <td>0.012961</td>\n",
       "      <td>0.008745</td>\n",
       "      <td>0.006762</td>\n",
       "      <td>0.009393</td>\n",
       "      <td>0.012246</td>\n",
       "      <td>0.008238</td>\n",
       "      <td>...</td>\n",
       "      <td>0.0</td>\n",
       "      <td>0.0</td>\n",
       "      <td>0.0</td>\n",
       "      <td>0.0</td>\n",
       "      <td>0.0</td>\n",
       "      <td>0.0</td>\n",
       "      <td>0.0</td>\n",
       "      <td>0.0</td>\n",
       "      <td>0.0</td>\n",
       "      <td>0.0</td>\n",
       "    </tr>\n",
       "    <tr>\n",
       "      <th>ENSG00000112877</th>\n",
       "      <td>0.049611</td>\n",
       "      <td>0.092476</td>\n",
       "      <td>0.216369</td>\n",
       "      <td>1.000000</td>\n",
       "      <td>0.021994</td>\n",
       "      <td>0.007444</td>\n",
       "      <td>0.007431</td>\n",
       "      <td>0.008093</td>\n",
       "      <td>0.011573</td>\n",
       "      <td>0.003085</td>\n",
       "      <td>...</td>\n",
       "      <td>0.0</td>\n",
       "      <td>0.0</td>\n",
       "      <td>0.0</td>\n",
       "      <td>0.0</td>\n",
       "      <td>0.0</td>\n",
       "      <td>0.0</td>\n",
       "      <td>0.0</td>\n",
       "      <td>0.0</td>\n",
       "      <td>0.0</td>\n",
       "      <td>0.0</td>\n",
       "    </tr>\n",
       "    <tr>\n",
       "      <th>ENSG00000113504</th>\n",
       "      <td>0.015151</td>\n",
       "      <td>0.006065</td>\n",
       "      <td>0.012961</td>\n",
       "      <td>0.021994</td>\n",
       "      <td>1.000000</td>\n",
       "      <td>0.023247</td>\n",
       "      <td>0.009773</td>\n",
       "      <td>0.008319</td>\n",
       "      <td>0.114610</td>\n",
       "      <td>0.008152</td>\n",
       "      <td>...</td>\n",
       "      <td>0.0</td>\n",
       "      <td>0.0</td>\n",
       "      <td>0.0</td>\n",
       "      <td>0.0</td>\n",
       "      <td>0.0</td>\n",
       "      <td>0.0</td>\n",
       "      <td>0.0</td>\n",
       "      <td>0.0</td>\n",
       "      <td>0.0</td>\n",
       "      <td>0.0</td>\n",
       "    </tr>\n",
       "  </tbody>\n",
       "</table>\n",
       "<p>5 rows × 305 columns</p>\n",
       "</div>"
      ],
      "text/plain": [
       "                 ENSG00000073578  ENSG00000180104  ENSG00000066230  \\\n",
       "ENSG00000073578         1.000000         0.240815         0.161150   \n",
       "ENSG00000180104         0.240815         1.000000         0.394044   \n",
       "ENSG00000066230         0.161150         0.394044         1.000000   \n",
       "ENSG00000112877         0.049611         0.092476         0.216369   \n",
       "ENSG00000113504         0.015151         0.006065         0.012961   \n",
       "\n",
       "                 ENSG00000112877  ENSG00000113504  ENSG00000174358  \\\n",
       "ENSG00000073578         0.049611         0.015151         0.011679   \n",
       "ENSG00000180104         0.092476         0.006065         0.010590   \n",
       "ENSG00000066230         0.216369         0.012961         0.008745   \n",
       "ENSG00000112877         1.000000         0.021994         0.007444   \n",
       "ENSG00000113504         0.021994         1.000000         0.023247   \n",
       "\n",
       "                 ENSG00000164362  ENSG00000049656  ENSG00000153395  \\\n",
       "ENSG00000073578         0.008640         0.010104         0.012698   \n",
       "ENSG00000180104         0.007414         0.004419         0.004101   \n",
       "ENSG00000066230         0.006762         0.009393         0.012246   \n",
       "ENSG00000112877         0.007431         0.008093         0.011573   \n",
       "ENSG00000113504         0.009773         0.008319         0.114610   \n",
       "\n",
       "                 ENSG00000171421  ...  ENSG00000161021  ENSG00000161013  \\\n",
       "ENSG00000073578         0.008122  ...              0.0              0.0   \n",
       "ENSG00000180104         0.006108  ...              0.0              0.0   \n",
       "ENSG00000066230         0.008238  ...              0.0              0.0   \n",
       "ENSG00000112877         0.003085  ...              0.0              0.0   \n",
       "ENSG00000113504         0.008152  ...              0.0              0.0   \n",
       "\n",
       "                 ENSG00000161011  ENSG00000050748  ENSG00000131459  \\\n",
       "ENSG00000073578              0.0              0.0              0.0   \n",
       "ENSG00000180104              0.0              0.0              0.0   \n",
       "ENSG00000066230              0.0              0.0              0.0   \n",
       "ENSG00000112877              0.0              0.0              0.0   \n",
       "ENSG00000113504              0.0              0.0              0.0   \n",
       "\n",
       "                 ENSG00000113300  ENSG00000037280  ENSG00000131446  \\\n",
       "ENSG00000073578              0.0              0.0              0.0   \n",
       "ENSG00000180104              0.0              0.0              0.0   \n",
       "ENSG00000066230              0.0              0.0              0.0   \n",
       "ENSG00000112877              0.0              0.0              0.0   \n",
       "ENSG00000113504              0.0              0.0              0.0   \n",
       "\n",
       "                 ENSG00000113303  ENSG00000165810  \n",
       "ENSG00000073578              0.0              0.0  \n",
       "ENSG00000180104              0.0              0.0  \n",
       "ENSG00000066230              0.0              0.0  \n",
       "ENSG00000112877              0.0              0.0  \n",
       "ENSG00000113504              0.0              0.0  \n",
       "\n",
       "[5 rows x 305 columns]"
      ]
     },
     "execution_count": 31,
     "metadata": {},
     "output_type": "execute_result"
    }
   ],
   "source": [
    "gene_corrs_df.head()"
   ]
  },
  {
   "cell_type": "markdown",
   "id": "dad6603f-01c6-41fb-a6f6-241051207dd8",
   "metadata": {
    "papermill": {
     "duration": 1.421818,
     "end_time": "2022-12-05T17:06:25.060514",
     "exception": false,
     "start_time": "2022-12-05T17:06:23.638696",
     "status": "completed"
    },
    "tags": []
   },
   "source": [
    "## Standard checks and stats"
   ]
  },
  {
   "cell_type": "code",
   "execution_count": 32,
   "id": "286686af-1b7b-4440-8453-6bdcbd8de19c",
   "metadata": {
    "execution": {
     "iopub.execute_input": "2022-12-05T17:06:27.882866Z",
     "iopub.status.busy": "2022-12-05T17:06:27.882512Z",
     "iopub.status.idle": "2022-12-05T17:06:27.900419Z",
     "shell.execute_reply": "2022-12-05T17:06:27.899860Z"
    },
    "papermill": {
     "duration": 1.403976,
     "end_time": "2022-12-05T17:06:27.901299",
     "exception": false,
     "start_time": "2022-12-05T17:06:26.497323",
     "status": "completed"
    },
    "tags": []
   },
   "outputs": [],
   "source": [
    "assert not gene_corrs_df.isna().any(axis=None)"
   ]
  },
  {
   "cell_type": "code",
   "execution_count": 33,
   "id": "00583efc-7068-4270-ad1e-4a418e91db96",
   "metadata": {
    "execution": {
     "iopub.execute_input": "2022-12-05T17:06:30.751830Z",
     "iopub.status.busy": "2022-12-05T17:06:30.751417Z",
     "iopub.status.idle": "2022-12-05T17:06:30.776207Z",
     "shell.execute_reply": "2022-12-05T17:06:30.775652Z"
    },
    "papermill": {
     "duration": 1.451282,
     "end_time": "2022-12-05T17:06:30.777081",
     "exception": false,
     "start_time": "2022-12-05T17:06:29.325799",
     "status": "completed"
    },
    "tags": []
   },
   "outputs": [
    {
     "data": {
      "text/plain": [
       "0.0"
      ]
     },
     "metadata": {},
     "output_type": "display_data"
    }
   ],
   "source": [
    "_min_val = gene_corrs_df.min().min()\n",
    "display(_min_val)\n",
    "assert _min_val >= -0.05"
   ]
  },
  {
   "cell_type": "code",
   "execution_count": 34,
   "id": "d04fb2cf-1050-475b-b855-f5f7cc04092b",
   "metadata": {
    "execution": {
     "iopub.execute_input": "2022-12-05T17:06:33.630446Z",
     "iopub.status.busy": "2022-12-05T17:06:33.629871Z",
     "iopub.status.idle": "2022-12-05T17:06:33.656038Z",
     "shell.execute_reply": "2022-12-05T17:06:33.655477Z"
    },
    "papermill": {
     "duration": 1.461734,
     "end_time": "2022-12-05T17:06:33.656862",
     "exception": false,
     "start_time": "2022-12-05T17:06:32.195128",
     "status": "completed"
    },
    "tags": []
   },
   "outputs": [
    {
     "data": {
      "text/plain": [
       "1.0000000000000033"
      ]
     },
     "metadata": {},
     "output_type": "display_data"
    }
   ],
   "source": [
    "_max_val = gene_corrs_df.max().max()  # this captures the diagonal\n",
    "display(_max_val)\n",
    "assert _max_val <= 1.05"
   ]
  },
  {
   "cell_type": "code",
   "execution_count": 35,
   "id": "fe283586-c348-40e0-8841-f6d97bfb021c",
   "metadata": {
    "execution": {
     "iopub.execute_input": "2022-12-05T17:06:36.465856Z",
     "iopub.status.busy": "2022-12-05T17:06:36.465298Z",
     "iopub.status.idle": "2022-12-05T17:06:36.493332Z",
     "shell.execute_reply": "2022-12-05T17:06:36.492725Z"
    },
    "papermill": {
     "duration": 1.45108,
     "end_time": "2022-12-05T17:06:36.494215",
     "exception": false,
     "start_time": "2022-12-05T17:06:35.043135",
     "status": "completed"
    },
    "tags": []
   },
   "outputs": [
    {
     "data": {
      "text/plain": [
       "count    46665.000000\n",
       "mean         0.009107\n",
       "std          0.085836\n",
       "min          0.000000\n",
       "25%          0.000000\n",
       "50%          0.000000\n",
       "75%          0.000000\n",
       "max          1.000000\n",
       "dtype: float64"
      ]
     },
     "execution_count": 35,
     "metadata": {},
     "output_type": "execute_result"
    }
   ],
   "source": [
    "gene_corrs_flat.describe()"
   ]
  },
  {
   "cell_type": "code",
   "execution_count": 36,
   "id": "b3815678-0f93-4b35-897b-a9d047a2aa78",
   "metadata": {
    "execution": {
     "iopub.execute_input": "2022-12-05T17:06:39.304363Z",
     "iopub.status.busy": "2022-12-05T17:06:39.304040Z",
     "iopub.status.idle": "2022-12-05T17:06:39.328256Z",
     "shell.execute_reply": "2022-12-05T17:06:39.327757Z"
    },
    "papermill": {
     "duration": 1.397572,
     "end_time": "2022-12-05T17:06:39.329098",
     "exception": false,
     "start_time": "2022-12-05T17:06:37.931526",
     "status": "completed"
    },
    "tags": []
   },
   "outputs": [
    {
     "data": {
      "text/plain": [
       "0.00    0.000000\n",
       "0.05    0.000000\n",
       "0.10    0.000000\n",
       "0.15    0.000000\n",
       "0.20    0.000000\n",
       "0.25    0.000000\n",
       "0.30    0.000000\n",
       "0.35    0.000000\n",
       "0.40    0.000000\n",
       "0.45    0.000000\n",
       "0.50    0.000000\n",
       "0.55    0.000000\n",
       "0.60    0.000000\n",
       "0.65    0.000000\n",
       "0.70    0.000000\n",
       "0.75    0.000000\n",
       "0.80    0.000000\n",
       "0.85    0.000000\n",
       "0.90    0.000000\n",
       "0.95    0.006342\n",
       "dtype: float64"
      ]
     },
     "metadata": {},
     "output_type": "display_data"
    }
   ],
   "source": [
    "gene_corrs_quantiles = gene_corrs_flat.quantile(np.arange(0, 1, 0.05))\n",
    "display(gene_corrs_quantiles)"
   ]
  },
  {
   "cell_type": "markdown",
   "id": "87134509-b145-4a10-8bc9-b7e914c2b0fa",
   "metadata": {
    "papermill": {
     "duration": 1.458778,
     "end_time": "2022-12-05T17:06:42.206802",
     "exception": false,
     "start_time": "2022-12-05T17:06:40.748024",
     "status": "completed"
    },
    "tags": []
   },
   "source": [
    "## Positive definiteness"
   ]
  },
  {
   "cell_type": "code",
   "execution_count": 37,
   "id": "07d9a9a1-a4f7-48aa-b916-6d42a8cc6186",
   "metadata": {
    "execution": {
     "iopub.execute_input": "2022-12-05T17:06:45.048634Z",
     "iopub.status.busy": "2022-12-05T17:06:45.048015Z",
     "iopub.status.idle": "2022-12-05T17:06:45.100360Z",
     "shell.execute_reply": "2022-12-05T17:06:45.099803Z"
    },
    "papermill": {
     "duration": 1.463526,
     "end_time": "2022-12-05T17:06:45.101797",
     "exception": false,
     "start_time": "2022-12-05T17:06:43.638271",
     "status": "completed"
    },
    "tags": []
   },
   "outputs": [
    {
     "data": {
      "text/plain": [
       "0"
      ]
     },
     "metadata": {},
     "output_type": "display_data"
    },
    {
     "data": {
      "text/plain": [
       "array([], dtype=float64)"
      ]
     },
     "metadata": {},
     "output_type": "display_data"
    }
   ],
   "source": [
    "# print negative eigenvalues\n",
    "eigs = np.linalg.eigvals(gene_corrs_df.to_numpy())\n",
    "display(len(eigs[eigs < 0]))\n",
    "display(eigs[eigs < 0])"
   ]
  },
  {
   "cell_type": "code",
   "execution_count": 38,
   "id": "6e218436-c3c5-4028-8c94-a4fa6260efce",
   "metadata": {
    "execution": {
     "iopub.execute_input": "2022-12-05T17:06:47.910514Z",
     "iopub.status.busy": "2022-12-05T17:06:47.909863Z",
     "iopub.status.idle": "2022-12-05T17:06:47.940647Z",
     "shell.execute_reply": "2022-12-05T17:06:47.940024Z"
    },
    "papermill": {
     "duration": 1.449127,
     "end_time": "2022-12-05T17:06:47.941561",
     "exception": false,
     "start_time": "2022-12-05T17:06:46.492434",
     "status": "completed"
    },
    "tags": []
   },
   "outputs": [
    {
     "name": "stdout",
     "output_type": "stream",
     "text": [
      "Works!\n"
     ]
    }
   ],
   "source": [
    "try:\n",
    "    chol_mat = np.linalg.cholesky(gene_corrs_df.to_numpy())\n",
    "    cov_inv = np.linalg.inv(chol_mat)\n",
    "    print(\"Works!\")\n",
    "except Exception as e:\n",
    "    print(f\"Cholesky decomposition failed: {str(e)}\")"
   ]
  },
  {
   "cell_type": "code",
   "execution_count": 39,
   "id": "dd8827fb-faf9-4c7c-9454-015e94752706",
   "metadata": {
    "execution": {
     "iopub.execute_input": "2022-12-05T17:06:50.742040Z",
     "iopub.status.busy": "2022-12-05T17:06:50.741719Z",
     "iopub.status.idle": "2022-12-05T17:06:50.768458Z",
     "shell.execute_reply": "2022-12-05T17:06:50.767936Z"
    },
    "papermill": {
     "duration": 1.396708,
     "end_time": "2022-12-05T17:06:50.769314",
     "exception": false,
     "start_time": "2022-12-05T17:06:49.372606",
     "status": "completed"
    },
    "tags": []
   },
   "outputs": [
    {
     "name": "stdout",
     "output_type": "stream",
     "text": [
      "Works!\n"
     ]
    }
   ],
   "source": [
    "try:\n",
    "    # decomposition used by statsmodels.GLS\n",
    "    cholsigmainv = np.linalg.cholesky(np.linalg.inv(gene_corrs_df.to_numpy())).T\n",
    "    print(\"Works!\")\n",
    "except Exception as e:\n",
    "    print(f\"Cholesky decomposition failed (statsmodels.GLS): {str(e)}\")"
   ]
  },
  {
   "cell_type": "markdown",
   "id": "8e60a080-edb2-4e9c-b2ef-22961693200c",
   "metadata": {
    "papermill": {
     "duration": 1.407351,
     "end_time": "2022-12-05T17:06:53.575822",
     "exception": false,
     "start_time": "2022-12-05T17:06:52.168471",
     "status": "completed"
    },
    "tags": []
   },
   "source": [
    "## Plot: distribution"
   ]
  },
  {
   "cell_type": "code",
   "execution_count": 40,
   "id": "8301126b-a7d4-4744-9c7d-f0f86eb6f54c",
   "metadata": {
    "execution": {
     "iopub.execute_input": "2022-12-05T17:06:56.387941Z",
     "iopub.status.busy": "2022-12-05T17:06:56.387468Z",
     "iopub.status.idle": "2022-12-05T17:06:56.717337Z",
     "shell.execute_reply": "2022-12-05T17:06:56.716941Z"
    },
    "papermill": {
     "duration": 1.740497,
     "end_time": "2022-12-05T17:06:56.718734",
     "exception": false,
     "start_time": "2022-12-05T17:06:54.978237",
     "status": "completed"
    },
    "tags": []
   },
   "outputs": [
    {
     "data": {
      "image/png": "[encoded data removed]",
      "text/plain": [
       "<Figure size 700x700 with 1 Axes>"
      ]
     },
     "metadata": {},
     "output_type": "display_data"
    }
   ],
   "source": [
    "with sns.plotting_context(\"paper\", font_scale=1.5):\n",
    "    g = sns.displot(gene_corrs_flat, kde=True, height=7)\n",
    "    g.ax.set_title(\n",
    "        f\"Distribution of gene correlation values in chromosome {CHROMOSOME}\"\n",
    "    )"
   ]
  },
  {
   "cell_type": "markdown",
   "id": "cbd52bca-d878-4a2f-b684-5c83aa3038d4",
   "metadata": {
    "papermill": {
     "duration": 1.426131,
     "end_time": "2022-12-05T17:06:59.532927",
     "exception": false,
     "start_time": "2022-12-05T17:06:58.106796",
     "status": "completed"
    },
    "tags": []
   },
   "source": [
    "## Plot: heatmap"
   ]
  },
  {
   "cell_type": "code",
   "execution_count": 41,
   "id": "d03fe63a-c7b2-4fb9-a53c-db362ce843c9",
   "metadata": {
    "execution": {
     "iopub.execute_input": "2022-12-05T17:07:02.385703Z",
     "iopub.status.busy": "2022-12-05T17:07:02.385034Z",
     "iopub.status.idle": "2022-12-05T17:07:02.405257Z",
     "shell.execute_reply": "2022-12-05T17:07:02.404657Z"
    },
    "papermill": {
     "duration": 1.407779,
     "end_time": "2022-12-05T17:07:02.406170",
     "exception": false,
     "start_time": "2022-12-05T17:07:00.998391",
     "status": "completed"
    },
    "tags": []
   },
   "outputs": [
    {
     "data": {
      "text/plain": [
       "'0.0 / 0.05'"
      ]
     },
     "metadata": {},
     "output_type": "display_data"
    }
   ],
   "source": [
    "vmin_val = min(0.00, gene_corrs_quantiles[0.10])\n",
    "vmax_val = max(0.05, gene_corrs_quantiles[0.90])\n",
    "display(f\"{vmin_val} / {vmax_val}\")"
   ]
  },
  {
   "cell_type": "code",
   "execution_count": 42,
   "id": "dc41b70b-5bcc-4d9e-9f33-a22c4a94dab5",
   "metadata": {
    "execution": {
     "iopub.execute_input": "2022-12-05T17:07:05.336223Z",
     "iopub.status.busy": "2022-12-05T17:07:05.335457Z",
     "iopub.status.idle": "2022-12-05T17:07:05.576077Z",
     "shell.execute_reply": "2022-12-05T17:07:05.575569Z"
    },
    "papermill": {
     "duration": 1.680529,
     "end_time": "2022-12-05T17:07:05.577833",
     "exception": false,
     "start_time": "2022-12-05T17:07:03.897304",
     "status": "completed"
    },
    "tags": []
   },
   "outputs": [
    {
     "data": {
      "text/plain": [
       "Text(0.5, 1.0, 'Gene correlations in chromosome 5')"
      ]
     },
     "execution_count": 42,
     "metadata": {},
     "output_type": "execute_result"
    },
    {
     "data": {
      "image/png": "[encoded data removed]",
      "text/plain": [
       "<Figure size 1000x1000 with 2 Axes>"
      ]
     },
     "metadata": {},
     "output_type": "display_data"
    }
   ],
   "source": [
    "f, ax = plt.subplots(figsize=(10, 10))\n",
    "sns.heatmap(\n",
    "    gene_corrs_df,\n",
    "    xticklabels=False,\n",
    "    yticklabels=False,\n",
    "    square=True,\n",
    "    vmin=vmin_val,\n",
    "    vmax=vmax_val,\n",
    "    cmap=\"rocket_r\",\n",
    "    ax=ax,\n",
    ")\n",
    "ax.set_title(f\"Gene correlations in chromosome {CHROMOSOME}\")"
   ]
  },
  {
   "cell_type": "code",
   "execution_count": null,
   "id": "b25e3ead",
   "metadata": {
    "papermill": {
     "duration": 1.439505,
     "end_time": "2022-12-05T17:07:08.495003",
     "exception": false,
     "start_time": "2022-12-05T17:07:07.055498",
     "status": "completed"
    },
    "tags": []
   },
   "outputs": [],
   "source": []
  }
 ],
 "metadata": {
  "jupytext": {
   "cell_metadata_filter": "all,-execution,-papermill,-trusted",
   "formats": "ipynb,py//py:percent"
  },
  "kernelspec": {
   "display_name": "Python 3 (ipykernel)",
   "language": "python",
   "name": "python3"
  },
  "language_info": {
   "codemirror_mode": {
    "name": "ipython",
    "version": 3
   },
   "file_extension": ".py",
   "mimetype": "text/x-python",
   "name": "python",
   "nbconvert_exporter": "python",
   "pygments_lexer": "ipython3",
   "version": "3.10.6"
  },
  "papermill": {
   "default_parameters": {},
   "duration": 301.537891,
   "end_time": "2022-12-05T17:07:12.703763",
   "environment_variables": {},
   "exception": null,
   "input_path": "projects/asthma-copd/nbs/20_gene_corrs/jobs/05-gene_expr_correlations.ipynb",
   "output_path": "projects/asthma-copd/nbs/20_gene_corrs/jobs/../output/copd_only/05-gene_expr_correlations-chr5.run.ipynb",
   "parameters": {
    "CHROMOSOME": 5,
    "COHORT_NAME": "copd_only",
    "OUTPUT_DIR_BASE": "/opt/data/projects/asthma-copd/results/gls_phenoplier",
    "PHENOPLIER_NOTEBOOK_FILEPATH": "projects/asthma-copd/nbs/20_gene_corrs/jobs/05-gene_expr_correlations.ipynb"
   },
   "start_time": "2022-12-05T17:02:11.165872",
   "version": "2.2.2"
  }
 },
 "nbformat": 4,
 "nbformat_minor": 5
}
