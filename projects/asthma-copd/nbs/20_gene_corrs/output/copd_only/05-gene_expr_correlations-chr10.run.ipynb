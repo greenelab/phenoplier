{
 "cells": [
  {
   "cell_type": "markdown",
   "id": "7a6632fb",
   "metadata": {
    "papermill": {
     "duration": 0.010864,
     "end_time": "2022-12-05T17:07:29.167349",
     "exception": false,
     "start_time": "2022-12-05T17:07:29.156485",
     "status": "completed"
    },
    "tags": []
   },
   "source": [
    "# Description"
   ]
  },
  {
   "cell_type": "markdown",
   "id": "7097c346",
   "metadata": {
    "papermill": {
     "duration": 0.010926,
     "end_time": "2022-12-05T17:07:29.189670",
     "exception": false,
     "start_time": "2022-12-05T17:07:29.178744",
     "status": "completed"
    },
    "tags": []
   },
   "source": [
    "(Please, take a look at the README.md file in this directory for instructions on how to run this notebook)\n",
    "\n",
    "This notebook computes predicted expression correlations between all genes in the MultiPLIER models.\n",
    "\n",
    "It has specicfic parameters for papermill (see under `Settings` below).\n",
    "It can be configured to run on a single chromosome to run in parallel.\n",
    "\n",
    "This notebook is not directly run. See README.md."
   ]
  },
  {
   "cell_type": "markdown",
   "id": "c61d8427",
   "metadata": {
    "papermill": {
     "duration": 0.007652,
     "end_time": "2022-12-05T17:07:29.205439",
     "exception": false,
     "start_time": "2022-12-05T17:07:29.197787",
     "status": "completed"
    },
    "tags": []
   },
   "source": [
    "# Modules"
   ]
  },
  {
   "cell_type": "code",
   "execution_count": 1,
   "id": "bbc0234f",
   "metadata": {
    "execution": {
     "iopub.execute_input": "2022-12-05T17:07:29.223165Z",
     "iopub.status.busy": "2022-12-05T17:07:29.222655Z",
     "iopub.status.idle": "2022-12-05T17:07:29.241996Z",
     "shell.execute_reply": "2022-12-05T17:07:29.241369Z"
    },
    "papermill": {
     "duration": 0.02973,
     "end_time": "2022-12-05T17:07:29.243564",
     "exception": false,
     "start_time": "2022-12-05T17:07:29.213834",
     "status": "completed"
    },
    "tags": []
   },
   "outputs": [],
   "source": [
    "%load_ext autoreload\n",
    "%autoreload 2"
   ]
  },
  {
   "cell_type": "code",
   "execution_count": 2,
   "id": "1d5f5a59",
   "metadata": {
    "execution": {
     "iopub.execute_input": "2022-12-05T17:07:29.260497Z",
     "iopub.status.busy": "2022-12-05T17:07:29.260159Z",
     "iopub.status.idle": "2022-12-05T17:07:30.006954Z",
     "shell.execute_reply": "2022-12-05T17:07:30.006332Z"
    },
    "papermill": {
     "duration": 0.75781,
     "end_time": "2022-12-05T17:07:30.008982",
     "exception": false,
     "start_time": "2022-12-05T17:07:29.251172",
     "status": "completed"
    },
    "tags": []
   },
   "outputs": [],
   "source": [
    "from random import sample, seed\n",
    "import warnings\n",
    "from pathlib import Path\n",
    "import pickle\n",
    "import traceback\n",
    "\n",
    "import numpy as np\n",
    "from scipy.spatial.distance import squareform\n",
    "import pandas as pd\n",
    "from tqdm import tqdm\n",
    "import matplotlib.pyplot as plt\n",
    "import seaborn as sns\n",
    "\n",
    "import conf\n",
    "from entity import Gene"
   ]
  },
  {
   "cell_type": "markdown",
   "id": "1eac24b5",
   "metadata": {
    "papermill": {
     "duration": 0.009861,
     "end_time": "2022-12-05T17:07:30.027743",
     "exception": false,
     "start_time": "2022-12-05T17:07:30.017882",
     "status": "completed"
    },
    "tags": []
   },
   "source": [
    "# Settings"
   ]
  },
  {
   "cell_type": "code",
   "execution_count": 3,
   "id": "ca4560ba",
   "metadata": {
    "execution": {
     "iopub.execute_input": "2022-12-05T17:07:30.044807Z",
     "iopub.status.busy": "2022-12-05T17:07:30.044496Z",
     "iopub.status.idle": "2022-12-05T17:07:30.058597Z",
     "shell.execute_reply": "2022-12-05T17:07:30.058149Z"
    },
    "papermill": {
     "duration": 0.024256,
     "end_time": "2022-12-05T17:07:30.059994",
     "exception": false,
     "start_time": "2022-12-05T17:07:30.035738",
     "status": "completed"
    },
    "tags": [
     "parameters"
    ]
   },
   "outputs": [],
   "source": [
    "# a cohort name (it could be something like UK_BIOBANK, etc)\n",
    "COHORT_NAME = None\n",
    "\n",
    "# reference panel such as 1000G or GTEX_V8\n",
    "REFERENCE_PANEL = \"GTEX_V8\"\n",
    "\n",
    "# predictions models such as MASHR or ELASTIC_NET\n",
    "EQTL_MODEL = \"MASHR\"\n",
    "\n",
    "# this is the default value used in S-MultiXcan to select the\n",
    "# top principal components of the expression correlation matrix\n",
    "SMULTIXCAN_CONDITION_NUMBER = 30\n",
    "\n",
    "# specifies a single chromosome value\n",
    "CHROMOSOME = None\n",
    "\n",
    "# If True, computes the correlation between closeby genes only (see\n",
    "# entity.Gene.within_distance for more details). Otherwise, it computes\n",
    "# correlations for all genes in a chromosome\n",
    "COMPUTE_CORRELATIONS_WITHIN_DISTANCE = True\n",
    "\n",
    "# if True, then it will continue if a gene pair correlation fails,\n",
    "# printing the warning/error for debugging. If False, any warning/error\n",
    "# will be thrown\n",
    "DEBUG_MODE = False\n",
    "\n",
    "# output dir\n",
    "OUTPUT_DIR_BASE = None"
   ]
  },
  {
   "cell_type": "code",
   "execution_count": 4,
   "id": "58f679c8",
   "metadata": {
    "execution": {
     "iopub.execute_input": "2022-12-05T17:07:30.077741Z",
     "iopub.status.busy": "2022-12-05T17:07:30.077605Z",
     "iopub.status.idle": "2022-12-05T17:07:30.089625Z",
     "shell.execute_reply": "2022-12-05T17:07:30.089139Z"
    },
    "papermill": {
     "duration": 0.022009,
     "end_time": "2022-12-05T17:07:30.090990",
     "exception": false,
     "start_time": "2022-12-05T17:07:30.068981",
     "status": "completed"
    },
    "tags": [
     "injected-parameters"
    ]
   },
   "outputs": [],
   "source": [
    "# Parameters\n",
    "PHENOPLIER_NOTEBOOK_FILEPATH = (\n",
    "    \"projects/asthma-copd/nbs/20_gene_corrs/jobs/05-gene_expr_correlations.ipynb\"\n",
    ")\n",
    "COHORT_NAME = \"copd_only\"\n",
    "CHROMOSOME = 10\n",
    "OUTPUT_DIR_BASE = \"/opt/data/projects/asthma-copd/results/gls_phenoplier\"\n"
   ]
  },
  {
   "cell_type": "code",
   "execution_count": 5,
   "id": "3190631f-27fc-480f-b18e-571d580425a5",
   "metadata": {
    "execution": {
     "iopub.execute_input": "2022-12-05T17:07:30.108150Z",
     "iopub.status.busy": "2022-12-05T17:07:30.107862Z",
     "iopub.status.idle": "2022-12-05T17:07:30.123014Z",
     "shell.execute_reply": "2022-12-05T17:07:30.122582Z"
    },
    "papermill": {
     "duration": 0.025085,
     "end_time": "2022-12-05T17:07:30.124376",
     "exception": false,
     "start_time": "2022-12-05T17:07:30.099291",
     "status": "completed"
    },
    "tags": []
   },
   "outputs": [
    {
     "data": {
      "text/plain": [
       "'Cohort name: copd_only'"
      ]
     },
     "metadata": {},
     "output_type": "display_data"
    }
   ],
   "source": [
    "assert COHORT_NAME is not None and len(COHORT_NAME) > 0, \"A cohort name must be given\"\n",
    "\n",
    "COHORT_NAME = COHORT_NAME.lower()\n",
    "display(f\"Cohort name: {COHORT_NAME}\")"
   ]
  },
  {
   "cell_type": "code",
   "execution_count": 6,
   "id": "f53ba19b-0f93-4fa2-a047-63b375939d1a",
   "metadata": {
    "execution": {
     "iopub.execute_input": "2022-12-05T17:07:30.142453Z",
     "iopub.status.busy": "2022-12-05T17:07:30.142222Z",
     "iopub.status.idle": "2022-12-05T17:07:30.160517Z",
     "shell.execute_reply": "2022-12-05T17:07:30.159921Z"
    },
    "papermill": {
     "duration": 0.028906,
     "end_time": "2022-12-05T17:07:30.161947",
     "exception": false,
     "start_time": "2022-12-05T17:07:30.133041",
     "status": "completed"
    },
    "tags": []
   },
   "outputs": [
    {
     "data": {
      "text/plain": [
       "'Reference panel: GTEX_V8'"
      ]
     },
     "metadata": {},
     "output_type": "display_data"
    }
   ],
   "source": [
    "assert (\n",
    "    REFERENCE_PANEL is not None and len(REFERENCE_PANEL) > 0\n",
    "), \"A reference panel must be given\"\n",
    "\n",
    "display(f\"Reference panel: {REFERENCE_PANEL}\")"
   ]
  },
  {
   "cell_type": "code",
   "execution_count": 7,
   "id": "e024d130-c139-429a-9c6e-ccf149e297b0",
   "metadata": {
    "execution": {
     "iopub.execute_input": "2022-12-05T17:07:30.178838Z",
     "iopub.status.busy": "2022-12-05T17:07:30.178469Z",
     "iopub.status.idle": "2022-12-05T17:07:30.199091Z",
     "shell.execute_reply": "2022-12-05T17:07:30.198496Z"
    },
    "papermill": {
     "duration": 0.030571,
     "end_time": "2022-12-05T17:07:30.200485",
     "exception": false,
     "start_time": "2022-12-05T17:07:30.169914",
     "status": "completed"
    },
    "tags": []
   },
   "outputs": [
    {
     "data": {
      "text/plain": [
       "'eQTL model: MASHR) / mashr_'"
      ]
     },
     "metadata": {},
     "output_type": "display_data"
    }
   ],
   "source": [
    "assert (\n",
    "    EQTL_MODEL is not None and len(EQTL_MODEL) > 0\n",
    "), \"A prediction/eQTL model must be given\"\n",
    "\n",
    "EQTL_MODEL_FILES_PREFIX = conf.PHENOMEXCAN[\"PREDICTION_MODELS\"][f\"{EQTL_MODEL}_PREFIX\"]\n",
    "display(f\"eQTL model: {EQTL_MODEL}) / {EQTL_MODEL_FILES_PREFIX}\")"
   ]
  },
  {
   "cell_type": "code",
   "execution_count": 8,
   "id": "552a7f63-a18c-4d3e-bb6a-94f99b431291",
   "metadata": {
    "execution": {
     "iopub.execute_input": "2022-12-05T17:07:30.217446Z",
     "iopub.status.busy": "2022-12-05T17:07:30.217083Z",
     "iopub.status.idle": "2022-12-05T17:07:30.237275Z",
     "shell.execute_reply": "2022-12-05T17:07:30.236716Z"
    },
    "papermill": {
     "duration": 0.030108,
     "end_time": "2022-12-05T17:07:30.238650",
     "exception": false,
     "start_time": "2022-12-05T17:07:30.208542",
     "status": "completed"
    },
    "tags": []
   },
   "outputs": [
    {
     "data": {
      "text/plain": [
       "'S-MultiXcan condition number: 30'"
      ]
     },
     "metadata": {},
     "output_type": "display_data"
    }
   ],
   "source": [
    "assert (\n",
    "    SMULTIXCAN_CONDITION_NUMBER is not None and SMULTIXCAN_CONDITION_NUMBER > 0\n",
    "), \"The S-MultiXcan condition number (positive integer) must be given\"\n",
    "\n",
    "display(f\"S-MultiXcan condition number: {SMULTIXCAN_CONDITION_NUMBER}\")"
   ]
  },
  {
   "cell_type": "code",
   "execution_count": 9,
   "id": "f34a336f-548e-4afe-8955-90eaea4f42c6",
   "metadata": {
    "execution": {
     "iopub.execute_input": "2022-12-05T17:07:30.256683Z",
     "iopub.status.busy": "2022-12-05T17:07:30.256322Z",
     "iopub.status.idle": "2022-12-05T17:07:30.276754Z",
     "shell.execute_reply": "2022-12-05T17:07:30.276192Z"
    },
    "papermill": {
     "duration": 0.030567,
     "end_time": "2022-12-05T17:07:30.278091",
     "exception": false,
     "start_time": "2022-12-05T17:07:30.247524",
     "status": "completed"
    },
    "tags": []
   },
   "outputs": [
    {
     "data": {
      "text/plain": [
       "'Working on chromosome 10'"
      ]
     },
     "metadata": {},
     "output_type": "display_data"
    }
   ],
   "source": [
    "assert CHROMOSOME is not None and (\n",
    "    1 <= CHROMOSOME <= 22\n",
    "), \"You have to select one chromosome (format: number between 1 and 22)\"\n",
    "\n",
    "display(f\"Working on chromosome {CHROMOSOME}\")"
   ]
  },
  {
   "cell_type": "code",
   "execution_count": 10,
   "id": "ab8e96e8-06b5-4363-9dcd-dc4d78cc27f7",
   "metadata": {
    "execution": {
     "iopub.execute_input": "2022-12-05T17:07:30.295670Z",
     "iopub.status.busy": "2022-12-05T17:07:30.295314Z",
     "iopub.status.idle": "2022-12-05T17:07:30.315208Z",
     "shell.execute_reply": "2022-12-05T17:07:30.314612Z"
    },
    "papermill": {
     "duration": 0.030138,
     "end_time": "2022-12-05T17:07:30.316590",
     "exception": false,
     "start_time": "2022-12-05T17:07:30.286452",
     "status": "completed"
    },
    "tags": []
   },
   "outputs": [
    {
     "data": {
      "text/plain": [
       "'Compute correlation within distance True'"
      ]
     },
     "metadata": {},
     "output_type": "display_data"
    }
   ],
   "source": [
    "display(f\"Compute correlation within distance {COMPUTE_CORRELATIONS_WITHIN_DISTANCE}\")"
   ]
  },
  {
   "cell_type": "code",
   "execution_count": 11,
   "id": "b393b698-77e3-4ba2-8ac1-e14d51aa988f",
   "metadata": {
    "execution": {
     "iopub.execute_input": "2022-12-05T17:07:30.334885Z",
     "iopub.status.busy": "2022-12-05T17:07:30.334678Z",
     "iopub.status.idle": "2022-12-05T17:07:30.355910Z",
     "shell.execute_reply": "2022-12-05T17:07:30.355309Z"
    },
    "papermill": {
     "duration": 0.031687,
     "end_time": "2022-12-05T17:07:30.357313",
     "exception": false,
     "start_time": "2022-12-05T17:07:30.325626",
     "status": "completed"
    },
    "tags": []
   },
   "outputs": [
    {
     "data": {
      "text/plain": [
       "'Using output dir base: /opt/data/projects/asthma-copd/results/gls_phenoplier/gene_corrs/copd_only'"
      ]
     },
     "metadata": {},
     "output_type": "display_data"
    }
   ],
   "source": [
    "assert (\n",
    "    OUTPUT_DIR_BASE is not None and len(OUTPUT_DIR_BASE) > 0\n",
    "), \"Output directory path must be given\"\n",
    "\n",
    "OUTPUT_DIR_BASE = (Path(OUTPUT_DIR_BASE) / \"gene_corrs\" / COHORT_NAME).resolve()\n",
    "\n",
    "OUTPUT_DIR_BASE.mkdir(parents=True, exist_ok=True)\n",
    "\n",
    "display(f\"Using output dir base: {OUTPUT_DIR_BASE}\")"
   ]
  },
  {
   "cell_type": "markdown",
   "id": "d2ba085e",
   "metadata": {
    "papermill": {
     "duration": 0.008365,
     "end_time": "2022-12-05T17:07:30.374428",
     "exception": false,
     "start_time": "2022-12-05T17:07:30.366063",
     "status": "completed"
    },
    "tags": []
   },
   "source": [
    "# Load data"
   ]
  },
  {
   "cell_type": "markdown",
   "id": "7dcb8db7",
   "metadata": {
    "papermill": {
     "duration": 0.008527,
     "end_time": "2022-12-05T17:07:30.391458",
     "exception": false,
     "start_time": "2022-12-05T17:07:30.382931",
     "status": "completed"
    },
    "tags": []
   },
   "source": [
    "## GWAS variants"
   ]
  },
  {
   "cell_type": "code",
   "execution_count": 12,
   "id": "29434c4e-8cd3-4b9b-82e4-b5a251d9dd19",
   "metadata": {
    "execution": {
     "iopub.execute_input": "2022-12-05T17:07:30.409376Z",
     "iopub.status.busy": "2022-12-05T17:07:30.409000Z",
     "iopub.status.idle": "2022-12-05T17:07:33.185693Z",
     "shell.execute_reply": "2022-12-05T17:07:33.184998Z"
    },
    "papermill": {
     "duration": 2.7876,
     "end_time": "2022-12-05T17:07:33.187443",
     "exception": false,
     "start_time": "2022-12-05T17:07:30.399843",
     "status": "completed"
    },
    "tags": []
   },
   "outputs": [],
   "source": [
    "with open(OUTPUT_DIR_BASE / \"gwas_variant_ids.pkl\", \"rb\") as handle:\n",
    "    gwas_variants_ids_set = pickle.load(handle)"
   ]
  },
  {
   "cell_type": "code",
   "execution_count": 13,
   "id": "b9d9dec2-4a76-4bf9-bde2-e24c95acb8a0",
   "metadata": {
    "execution": {
     "iopub.execute_input": "2022-12-05T17:07:33.203546Z",
     "iopub.status.busy": "2022-12-05T17:07:33.203412Z",
     "iopub.status.idle": "2022-12-05T17:07:33.219790Z",
     "shell.execute_reply": "2022-12-05T17:07:33.219307Z"
    },
    "papermill": {
     "duration": 0.025674,
     "end_time": "2022-12-05T17:07:33.221211",
     "exception": false,
     "start_time": "2022-12-05T17:07:33.195537",
     "status": "completed"
    },
    "tags": []
   },
   "outputs": [
    {
     "data": {
      "text/plain": [
       "8586183"
      ]
     },
     "execution_count": 13,
     "metadata": {},
     "output_type": "execute_result"
    }
   ],
   "source": [
    "len(gwas_variants_ids_set)"
   ]
  },
  {
   "cell_type": "code",
   "execution_count": 14,
   "id": "4235b06a-6034-4ee4-a0a3-2ae35d122418",
   "metadata": {
    "execution": {
     "iopub.execute_input": "2022-12-05T17:07:33.241169Z",
     "iopub.status.busy": "2022-12-05T17:07:33.241051Z",
     "iopub.status.idle": "2022-12-05T17:07:33.817826Z",
     "shell.execute_reply": "2022-12-05T17:07:33.817108Z"
    },
    "papermill": {
     "duration": 0.588895,
     "end_time": "2022-12-05T17:07:33.819473",
     "exception": false,
     "start_time": "2022-12-05T17:07:33.230578",
     "status": "completed"
    },
    "tags": []
   },
   "outputs": [
    {
     "data": {
      "text/plain": [
       "['chr11_22110908_A_G_b38',\n",
       " 'chr16_77500915_T_A_b38',\n",
       " 'chr12_38268491_G_C_b38',\n",
       " 'chr5_117345772_C_T_b38',\n",
       " 'chr11_12234751_A_G_b38']"
      ]
     },
     "execution_count": 14,
     "metadata": {},
     "output_type": "execute_result"
    }
   ],
   "source": [
    "list(gwas_variants_ids_set)[:5]"
   ]
  },
  {
   "cell_type": "markdown",
   "id": "07866999-2305-41f9-a144-e69c9122c212",
   "metadata": {
    "papermill": {
     "duration": 0.009863,
     "end_time": "2022-12-05T17:07:33.839362",
     "exception": false,
     "start_time": "2022-12-05T17:07:33.829499",
     "status": "completed"
    },
    "tags": []
   },
   "source": [
    "## S-PrediXcan tissue models"
   ]
  },
  {
   "cell_type": "code",
   "execution_count": 15,
   "id": "780611d9-77c8-405f-90a4-f271f7b09397",
   "metadata": {
    "execution": {
     "iopub.execute_input": "2022-12-05T17:07:33.860364Z",
     "iopub.status.busy": "2022-12-05T17:07:33.860211Z",
     "iopub.status.idle": "2022-12-05T17:07:34.913738Z",
     "shell.execute_reply": "2022-12-05T17:07:34.913164Z"
    },
    "papermill": {
     "duration": 1.066315,
     "end_time": "2022-12-05T17:07:34.915397",
     "exception": false,
     "start_time": "2022-12-05T17:07:33.849082",
     "status": "completed"
    },
    "tags": []
   },
   "outputs": [],
   "source": [
    "spredixcan_genes_models = pd.read_pickle(OUTPUT_DIR_BASE / \"gene_tissues.pkl\")"
   ]
  },
  {
   "cell_type": "code",
   "execution_count": 16,
   "id": "726dd1f6-9557-4225-91fa-b3b879ea96e1",
   "metadata": {
    "execution": {
     "iopub.execute_input": "2022-12-05T17:07:34.935476Z",
     "iopub.status.busy": "2022-12-05T17:07:34.935324Z",
     "iopub.status.idle": "2022-12-05T17:07:34.951189Z",
     "shell.execute_reply": "2022-12-05T17:07:34.950720Z"
    },
    "papermill": {
     "duration": 0.027603,
     "end_time": "2022-12-05T17:07:34.952400",
     "exception": false,
     "start_time": "2022-12-05T17:07:34.924797",
     "status": "completed"
    },
    "tags": []
   },
   "outputs": [
    {
     "data": {
      "text/plain": [
       "(6443, 5)"
      ]
     },
     "execution_count": 16,
     "metadata": {},
     "output_type": "execute_result"
    }
   ],
   "source": [
    "spredixcan_genes_models.shape"
   ]
  },
  {
   "cell_type": "code",
   "execution_count": 17,
   "id": "944a1b48-222c-4eb0-b252-b9de2cbca215",
   "metadata": {
    "execution": {
     "iopub.execute_input": "2022-12-05T17:07:34.970887Z",
     "iopub.status.busy": "2022-12-05T17:07:34.970653Z",
     "iopub.status.idle": "2022-12-05T17:07:34.990016Z",
     "shell.execute_reply": "2022-12-05T17:07:34.989495Z"
    },
    "papermill": {
     "duration": 0.029744,
     "end_time": "2022-12-05T17:07:34.991278",
     "exception": false,
     "start_time": "2022-12-05T17:07:34.961534",
     "status": "completed"
    },
    "tags": []
   },
   "outputs": [
    {
     "data": {
      "text/html": [
       "<div>\n",
       "<style scoped>\n",
       "    .dataframe tbody tr th:only-of-type {\n",
       "        vertical-align: middle;\n",
       "    }\n",
       "\n",
       "    .dataframe tbody tr th {\n",
       "        vertical-align: top;\n",
       "    }\n",
       "\n",
       "    .dataframe thead th {\n",
       "        text-align: right;\n",
       "    }\n",
       "</style>\n",
       "<table border=\"1\" class=\"dataframe\">\n",
       "  <thead>\n",
       "    <tr style=\"text-align: right;\">\n",
       "      <th></th>\n",
       "      <th>gene_name</th>\n",
       "      <th>tissue</th>\n",
       "      <th>n_tissues</th>\n",
       "      <th>n_snps_used_sum</th>\n",
       "      <th>n_snps_in_model_sum</th>\n",
       "    </tr>\n",
       "    <tr>\n",
       "      <th>gene_id</th>\n",
       "      <th></th>\n",
       "      <th></th>\n",
       "      <th></th>\n",
       "      <th></th>\n",
       "      <th></th>\n",
       "    </tr>\n",
       "  </thead>\n",
       "  <tbody>\n",
       "    <tr>\n",
       "      <th>ENSG00000000419</th>\n",
       "      <td>DPM1</td>\n",
       "      <td>(Brain_Substantia_nigra, Brain_Hypothalamus)</td>\n",
       "      <td>2</td>\n",
       "      <td>2</td>\n",
       "      <td>2</td>\n",
       "    </tr>\n",
       "    <tr>\n",
       "      <th>ENSG00000000938</th>\n",
       "      <td>FGR</td>\n",
       "      <td>(Testis, Brain_Frontal_Cortex_BA9, Whole_Blood...</td>\n",
       "      <td>36</td>\n",
       "      <td>40</td>\n",
       "      <td>40</td>\n",
       "    </tr>\n",
       "    <tr>\n",
       "      <th>ENSG00000000971</th>\n",
       "      <td>CFH</td>\n",
       "      <td>(Testis, Brain_Frontal_Cortex_BA9, Whole_Blood...</td>\n",
       "      <td>34</td>\n",
       "      <td>44</td>\n",
       "      <td>44</td>\n",
       "    </tr>\n",
       "    <tr>\n",
       "      <th>ENSG00000001084</th>\n",
       "      <td>GCLC</td>\n",
       "      <td>(Testis, Brain_Frontal_Cortex_BA9, Whole_Blood...</td>\n",
       "      <td>32</td>\n",
       "      <td>46</td>\n",
       "      <td>46</td>\n",
       "    </tr>\n",
       "    <tr>\n",
       "      <th>ENSG00000001167</th>\n",
       "      <td>NFYA</td>\n",
       "      <td>(Testis, Vagina, Whole_Blood, Skin_Not_Sun_Exp...</td>\n",
       "      <td>40</td>\n",
       "      <td>47</td>\n",
       "      <td>48</td>\n",
       "    </tr>\n",
       "  </tbody>\n",
       "</table>\n",
       "</div>"
      ],
      "text/plain": [
       "                gene_name                                             tissue  \\\n",
       "gene_id                                                                        \n",
       "ENSG00000000419      DPM1       (Brain_Substantia_nigra, Brain_Hypothalamus)   \n",
       "ENSG00000000938       FGR  (Testis, Brain_Frontal_Cortex_BA9, Whole_Blood...   \n",
       "ENSG00000000971       CFH  (Testis, Brain_Frontal_Cortex_BA9, Whole_Blood...   \n",
       "ENSG00000001084      GCLC  (Testis, Brain_Frontal_Cortex_BA9, Whole_Blood...   \n",
       "ENSG00000001167      NFYA  (Testis, Vagina, Whole_Blood, Skin_Not_Sun_Exp...   \n",
       "\n",
       "                 n_tissues  n_snps_used_sum  n_snps_in_model_sum  \n",
       "gene_id                                                           \n",
       "ENSG00000000419          2                2                    2  \n",
       "ENSG00000000938         36               40                   40  \n",
       "ENSG00000000971         34               44                   44  \n",
       "ENSG00000001084         32               46                   46  \n",
       "ENSG00000001167         40               47                   48  "
      ]
     },
     "execution_count": 17,
     "metadata": {},
     "output_type": "execute_result"
    }
   ],
   "source": [
    "spredixcan_genes_models.head()"
   ]
  },
  {
   "cell_type": "code",
   "execution_count": 18,
   "id": "d1c11bb1-be0b-4f40-b360-633d6827109f",
   "metadata": {
    "execution": {
     "iopub.execute_input": "2022-12-05T17:07:35.010567Z",
     "iopub.status.busy": "2022-12-05T17:07:35.010314Z",
     "iopub.status.idle": "2022-12-05T17:07:35.025905Z",
     "shell.execute_reply": "2022-12-05T17:07:35.025390Z"
    },
    "papermill": {
     "duration": 0.026437,
     "end_time": "2022-12-05T17:07:35.027296",
     "exception": false,
     "start_time": "2022-12-05T17:07:35.000859",
     "status": "completed"
    },
    "tags": []
   },
   "outputs": [],
   "source": [
    "assert spredixcan_genes_models.index.is_unique"
   ]
  },
  {
   "cell_type": "markdown",
   "id": "a5b5092c-a13e-47c4-a92a-480fcc08f3ae",
   "metadata": {
    "papermill": {
     "duration": 0.008828,
     "end_time": "2022-12-05T17:07:35.045411",
     "exception": false,
     "start_time": "2022-12-05T17:07:35.036583",
     "status": "completed"
    },
    "tags": []
   },
   "source": [
    "## Gene info"
   ]
  },
  {
   "cell_type": "code",
   "execution_count": 19,
   "id": "7d6bb224-88e9-4358-ac10-43a41d92cdad",
   "metadata": {
    "execution": {
     "iopub.execute_input": "2022-12-05T17:07:35.064362Z",
     "iopub.status.busy": "2022-12-05T17:07:35.063951Z",
     "iopub.status.idle": "2022-12-05T17:07:35.091743Z",
     "shell.execute_reply": "2022-12-05T17:07:35.091105Z"
    },
    "papermill": {
     "duration": 0.038988,
     "end_time": "2022-12-05T17:07:35.093202",
     "exception": false,
     "start_time": "2022-12-05T17:07:35.054214",
     "status": "completed"
    },
    "tags": []
   },
   "outputs": [],
   "source": [
    "genes_info = pd.read_pickle(OUTPUT_DIR_BASE / \"genes_info.pkl\")"
   ]
  },
  {
   "cell_type": "code",
   "execution_count": 20,
   "id": "9e32abfa-546d-483e-8c18-d526e9e05903",
   "metadata": {
    "execution": {
     "iopub.execute_input": "2022-12-05T17:07:35.113395Z",
     "iopub.status.busy": "2022-12-05T17:07:35.112978Z",
     "iopub.status.idle": "2022-12-05T17:07:35.138838Z",
     "shell.execute_reply": "2022-12-05T17:07:35.138249Z"
    },
    "papermill": {
     "duration": 0.037545,
     "end_time": "2022-12-05T17:07:35.140085",
     "exception": false,
     "start_time": "2022-12-05T17:07:35.102540",
     "status": "completed"
    },
    "tags": []
   },
   "outputs": [
    {
     "data": {
      "text/plain": [
       "(6443, 7)"
      ]
     },
     "execution_count": 20,
     "metadata": {},
     "output_type": "execute_result"
    }
   ],
   "source": [
    "genes_info.shape"
   ]
  },
  {
   "cell_type": "code",
   "execution_count": 21,
   "id": "d16c3e92-85ec-468a-9a56-e25a9774a1cb",
   "metadata": {
    "execution": {
     "iopub.execute_input": "2022-12-05T17:07:35.160261Z",
     "iopub.status.busy": "2022-12-05T17:07:35.159543Z",
     "iopub.status.idle": "2022-12-05T17:07:35.190458Z",
     "shell.execute_reply": "2022-12-05T17:07:35.189800Z"
    },
    "papermill": {
     "duration": 0.042088,
     "end_time": "2022-12-05T17:07:35.191734",
     "exception": false,
     "start_time": "2022-12-05T17:07:35.149646",
     "status": "completed"
    },
    "tags": []
   },
   "outputs": [
    {
     "data": {
      "text/html": [
       "<div>\n",
       "<style scoped>\n",
       "    .dataframe tbody tr th:only-of-type {\n",
       "        vertical-align: middle;\n",
       "    }\n",
       "\n",
       "    .dataframe tbody tr th {\n",
       "        vertical-align: top;\n",
       "    }\n",
       "\n",
       "    .dataframe thead th {\n",
       "        text-align: right;\n",
       "    }\n",
       "</style>\n",
       "<table border=\"1\" class=\"dataframe\">\n",
       "  <thead>\n",
       "    <tr style=\"text-align: right;\">\n",
       "      <th></th>\n",
       "      <th>name</th>\n",
       "      <th>id</th>\n",
       "      <th>chr</th>\n",
       "      <th>band</th>\n",
       "      <th>start_position</th>\n",
       "      <th>end_position</th>\n",
       "      <th>gene_length</th>\n",
       "    </tr>\n",
       "  </thead>\n",
       "  <tbody>\n",
       "    <tr>\n",
       "      <th>0</th>\n",
       "      <td>IL2RB</td>\n",
       "      <td>ENSG00000100385</td>\n",
       "      <td>22</td>\n",
       "      <td>22q12.3</td>\n",
       "      <td>37125843</td>\n",
       "      <td>37175054</td>\n",
       "      <td>49211</td>\n",
       "    </tr>\n",
       "    <tr>\n",
       "      <th>1</th>\n",
       "      <td>ZNF208</td>\n",
       "      <td>ENSG00000160321</td>\n",
       "      <td>19</td>\n",
       "      <td>19p12</td>\n",
       "      <td>21932958</td>\n",
       "      <td>22010949</td>\n",
       "      <td>77991</td>\n",
       "    </tr>\n",
       "    <tr>\n",
       "      <th>2</th>\n",
       "      <td>CES1</td>\n",
       "      <td>ENSG00000198848</td>\n",
       "      <td>16</td>\n",
       "      <td>16q12.2</td>\n",
       "      <td>55802851</td>\n",
       "      <td>55833337</td>\n",
       "      <td>30486</td>\n",
       "    </tr>\n",
       "    <tr>\n",
       "      <th>3</th>\n",
       "      <td>XAB2</td>\n",
       "      <td>ENSG00000076924</td>\n",
       "      <td>19</td>\n",
       "      <td>19p13.2</td>\n",
       "      <td>7619525</td>\n",
       "      <td>7629545</td>\n",
       "      <td>10020</td>\n",
       "    </tr>\n",
       "    <tr>\n",
       "      <th>4</th>\n",
       "      <td>AQP1</td>\n",
       "      <td>ENSG00000240583</td>\n",
       "      <td>7</td>\n",
       "      <td>7p14.3</td>\n",
       "      <td>30911694</td>\n",
       "      <td>30925517</td>\n",
       "      <td>13823</td>\n",
       "    </tr>\n",
       "  </tbody>\n",
       "</table>\n",
       "</div>"
      ],
      "text/plain": [
       "     name               id  chr     band  start_position  end_position  \\\n",
       "0   IL2RB  ENSG00000100385   22  22q12.3        37125843      37175054   \n",
       "1  ZNF208  ENSG00000160321   19    19p12        21932958      22010949   \n",
       "2    CES1  ENSG00000198848   16  16q12.2        55802851      55833337   \n",
       "3    XAB2  ENSG00000076924   19  19p13.2         7619525       7629545   \n",
       "4    AQP1  ENSG00000240583    7   7p14.3        30911694      30925517   \n",
       "\n",
       "   gene_length  \n",
       "0        49211  \n",
       "1        77991  \n",
       "2        30486  \n",
       "3        10020  \n",
       "4        13823  "
      ]
     },
     "execution_count": 21,
     "metadata": {},
     "output_type": "execute_result"
    }
   ],
   "source": [
    "genes_info.head()"
   ]
  },
  {
   "cell_type": "markdown",
   "id": "d3843e06",
   "metadata": {
    "papermill": {
     "duration": 0.005195,
     "end_time": "2022-12-05T17:07:35.207051",
     "exception": false,
     "start_time": "2022-12-05T17:07:35.201856",
     "status": "completed"
    },
    "tags": []
   },
   "source": [
    "# Compute correlations"
   ]
  },
  {
   "cell_type": "code",
   "execution_count": 22,
   "id": "cb859c15-d1f3-4006-a74c-2b83c0db9611",
   "metadata": {
    "execution": {
     "iopub.execute_input": "2022-12-05T17:07:35.218599Z",
     "iopub.status.busy": "2022-12-05T17:07:35.218217Z",
     "iopub.status.idle": "2022-12-05T17:07:35.245080Z",
     "shell.execute_reply": "2022-12-05T17:07:35.244386Z"
    },
    "papermill": {
     "duration": 0.033877,
     "end_time": "2022-12-05T17:07:35.246088",
     "exception": false,
     "start_time": "2022-12-05T17:07:35.212211",
     "status": "completed"
    },
    "tags": []
   },
   "outputs": [
    {
     "data": {
      "text/plain": [
       "PosixPath('/opt/data/projects/asthma-copd/results/gls_phenoplier/gene_corrs/copd_only/by_chr/gene_corrs-chr10.pkl')"
      ]
     },
     "metadata": {},
     "output_type": "display_data"
    }
   ],
   "source": [
    "output_dir = OUTPUT_DIR_BASE / \"by_chr\"\n",
    "output_dir.mkdir(exist_ok=True, parents=True)\n",
    "output_file = output_dir / f\"gene_corrs-chr{CHROMOSOME}.pkl\"\n",
    "display(output_file)"
   ]
  },
  {
   "cell_type": "code",
   "execution_count": 23,
   "id": "aa674fe4-6794-4eed-98fa-32b39d1d4ace",
   "metadata": {
    "execution": {
     "iopub.execute_input": "2022-12-05T17:07:35.258897Z",
     "iopub.status.busy": "2022-12-05T17:07:35.258481Z",
     "iopub.status.idle": "2022-12-05T17:07:35.283622Z",
     "shell.execute_reply": "2022-12-05T17:07:35.282928Z"
    },
    "papermill": {
     "duration": 0.033122,
     "end_time": "2022-12-05T17:07:35.285336",
     "exception": false,
     "start_time": "2022-12-05T17:07:35.252214",
     "status": "completed"
    },
    "tags": []
   },
   "outputs": [],
   "source": [
    "warnings.filterwarnings(\"error\")"
   ]
  },
  {
   "cell_type": "code",
   "execution_count": 24,
   "id": "44d5450b-3baf-43f1-9e2e-4b06f1a785f8",
   "metadata": {
    "execution": {
     "iopub.execute_input": "2022-12-05T17:07:35.308449Z",
     "iopub.status.busy": "2022-12-05T17:07:35.308136Z",
     "iopub.status.idle": "2022-12-05T17:07:35.334272Z",
     "shell.execute_reply": "2022-12-05T17:07:35.333595Z"
    },
    "papermill": {
     "duration": 0.039566,
     "end_time": "2022-12-05T17:07:35.335921",
     "exception": false,
     "start_time": "2022-12-05T17:07:35.296355",
     "status": "completed"
    },
    "tags": []
   },
   "outputs": [],
   "source": [
    "# standard checks\n",
    "all_chrs = genes_info[\"chr\"].dropna().unique()\n",
    "assert all_chrs.shape[0] == 22\n",
    "\n",
    "# select chromosome given by the user\n",
    "assert CHROMOSOME in all_chrs"
   ]
  },
  {
   "cell_type": "code",
   "execution_count": 25,
   "id": "2d7c043c-92a7-4d35-991b-fa69ac1e0268",
   "metadata": {
    "execution": {
     "iopub.execute_input": "2022-12-05T17:07:35.359090Z",
     "iopub.status.busy": "2022-12-05T17:07:35.358561Z",
     "iopub.status.idle": "2022-12-05T17:07:35.384655Z",
     "shell.execute_reply": "2022-12-05T17:07:35.383958Z"
    },
    "papermill": {
     "duration": 0.038999,
     "end_time": "2022-12-05T17:07:35.386177",
     "exception": false,
     "start_time": "2022-12-05T17:07:35.347178",
     "status": "completed"
    },
    "tags": []
   },
   "outputs": [
    {
     "name": "stdout",
     "output_type": "stream",
     "text": [
      "Number of genes in chromosome: 245\n"
     ]
    }
   ],
   "source": [
    "# run only on the chromosome specified\n",
    "all_chrs = [CHROMOSOME]\n",
    "genes_chr = genes_info[genes_info[\"chr\"] == CHROMOSOME]\n",
    "\n",
    "# For testing purposes\n",
    "# genes_chr = genes_chr.sample(n=20)\n",
    "\n",
    "print(f\"Number of genes in chromosome: {genes_chr.shape[0]}\", flush=True)"
   ]
  },
  {
   "cell_type": "code",
   "execution_count": 26,
   "id": "916015d8-2979-46d3-a9b9-1cf5a0932c6a",
   "metadata": {
    "execution": {
     "iopub.execute_input": "2022-12-05T17:07:35.409241Z",
     "iopub.status.busy": "2022-12-05T17:07:35.408835Z",
     "iopub.status.idle": "2022-12-05T17:07:35.434378Z",
     "shell.execute_reply": "2022-12-05T17:07:35.433683Z"
    },
    "papermill": {
     "duration": 0.039024,
     "end_time": "2022-12-05T17:07:35.436069",
     "exception": false,
     "start_time": "2022-12-05T17:07:35.397045",
     "status": "completed"
    },
    "tags": []
   },
   "outputs": [],
   "source": [
    "# sort genes by starting position to make visualizations better later\n",
    "genes_chr = genes_chr.sort_values(\"start_position\")"
   ]
  },
  {
   "cell_type": "code",
   "execution_count": 27,
   "id": "a38aa74a-8ad3-47f6-8ef9-56be0e011774",
   "metadata": {
    "execution": {
     "iopub.execute_input": "2022-12-05T17:07:35.459143Z",
     "iopub.status.busy": "2022-12-05T17:07:35.458620Z",
     "iopub.status.idle": "2022-12-05T17:07:35.481697Z",
     "shell.execute_reply": "2022-12-05T17:07:35.481021Z"
    },
    "papermill": {
     "duration": 0.036081,
     "end_time": "2022-12-05T17:07:35.483245",
     "exception": false,
     "start_time": "2022-12-05T17:07:35.447164",
     "status": "completed"
    },
    "tags": []
   },
   "outputs": [],
   "source": [
    "gene_chr_objs = [Gene(ensembl_id=gene_id) for gene_id in genes_chr[\"id\"]]"
   ]
  },
  {
   "cell_type": "code",
   "execution_count": 28,
   "id": "570f974f-13c3-42b6-ad3a-ce99ca885c1a",
   "metadata": {
    "execution": {
     "iopub.execute_input": "2022-12-05T17:07:35.506751Z",
     "iopub.status.busy": "2022-12-05T17:07:35.506450Z",
     "iopub.status.idle": "2022-12-05T17:07:35.532364Z",
     "shell.execute_reply": "2022-12-05T17:07:35.531672Z"
    },
    "papermill": {
     "duration": 0.03901,
     "end_time": "2022-12-05T17:07:35.533909",
     "exception": false,
     "start_time": "2022-12-05T17:07:35.494899",
     "status": "completed"
    },
    "tags": []
   },
   "outputs": [
    {
     "name": "stdout",
     "output_type": "stream",
     "text": [
      "Number of gene combinations: 30135\n"
     ]
    }
   ],
   "source": [
    "n = len(gene_chr_objs)\n",
    "# diagonal elements + upper triangular matrix\n",
    "n_comb = n + int(n * (n - 1) / 2.0)\n",
    "print(f\"Number of gene combinations: {n_comb}\", flush=True)"
   ]
  },
  {
   "cell_type": "code",
   "execution_count": 29,
   "id": "cdbb90a1",
   "metadata": {
    "execution": {
     "iopub.execute_input": "2022-12-05T17:07:35.557847Z",
     "iopub.status.busy": "2022-12-05T17:07:35.557393Z",
     "iopub.status.idle": "2022-12-05T17:10:52.872177Z",
     "shell.execute_reply": "2022-12-05T17:10:52.871680Z"
    },
    "papermill": {
     "duration": 197.3284,
     "end_time": "2022-12-05T17:10:52.873407",
     "exception": false,
     "start_time": "2022-12-05T17:07:35.545007",
     "status": "completed"
    },
    "tags": []
   },
   "outputs": [
    {
     "name": "stderr",
     "output_type": "stream",
     "text": [
      "ENSG00000130649 / ENSG00000130649: 100%|█████████████████████| 30135/30135 [03:17<00:00, 152.76it/s]\n"
     ]
    },
    {
     "data": {
      "text/plain": [
       "PosixPath('/opt/data/projects/asthma-copd/results/gls_phenoplier/gene_corrs/copd_only/by_chr/gene_corrs-chr10.pkl')"
      ]
     },
     "metadata": {},
     "output_type": "display_data"
    }
   ],
   "source": [
    "gene_corrs = []\n",
    "gene_corrs_data = np.full(\n",
    "    (n, n),\n",
    "    np.nan,\n",
    "    dtype=np.float64,\n",
    ")\n",
    "\n",
    "i = 0\n",
    "with tqdm(ncols=100, total=n_comb) as pbar:\n",
    "    for gene1_idx in range(0, len(gene_chr_objs)):\n",
    "        gene1_obj = gene_chr_objs[gene1_idx]\n",
    "        gene1_tissues = spredixcan_genes_models.loc[gene1_obj.ensembl_id, \"tissue\"]\n",
    "\n",
    "        for gene2_idx in range(gene1_idx, len(gene_chr_objs)):\n",
    "            gene2_obj = gene_chr_objs[gene2_idx]\n",
    "            gene2_tissues = spredixcan_genes_models.loc[gene2_obj.ensembl_id, \"tissue\"]\n",
    "\n",
    "            pbar.set_description(f\"{gene1_obj.ensembl_id} / {gene2_obj.ensembl_id}\")\n",
    "\n",
    "            try:\n",
    "                r = gene1_obj.get_ssm_correlation(\n",
    "                    other_gene=gene2_obj,\n",
    "                    tissues=gene1_tissues,\n",
    "                    other_tissues=gene2_tissues,\n",
    "                    snps_subset=gwas_variants_ids_set,\n",
    "                    condition_number=SMULTIXCAN_CONDITION_NUMBER,\n",
    "                    reference_panel=REFERENCE_PANEL,\n",
    "                    model_type=EQTL_MODEL,\n",
    "                    use_within_distance=COMPUTE_CORRELATIONS_WITHIN_DISTANCE,\n",
    "                )\n",
    "\n",
    "                if r is None:\n",
    "                    # if r is None, it's very likely because:\n",
    "                    #  * one of the genes has no prediction models\n",
    "                    #  * all the SNPs predictors for the gene are not present in the reference\n",
    "                    #    panel\n",
    "\n",
    "                    r = 0.0\n",
    "\n",
    "                gene_corrs.append(r)\n",
    "\n",
    "                gene_corrs_data[gene1_idx, gene2_idx] = r\n",
    "                gene_corrs_data[gene2_idx, gene1_idx] = r\n",
    "            except Warning as e:\n",
    "                if not DEBUG_MODE:\n",
    "                    raise e\n",
    "\n",
    "                print(\n",
    "                    f\"RuntimeWarning for genes {gene1_obj.ensembl_id} and {gene2_obj.ensembl_id}\",\n",
    "                    flush=True,\n",
    "                )\n",
    "                print(traceback.format_exc(), flush=True)\n",
    "\n",
    "                gene_corrs.append(np.nan)\n",
    "            except Exception as e:\n",
    "                if not DEBUG_MODE:\n",
    "                    raise e\n",
    "\n",
    "                print(\n",
    "                    f\"Exception for genes {gene1_obj.ensembl_id} and {gene2_obj.ensembl_id}\",\n",
    "                    flush=True,\n",
    "                )\n",
    "                print(traceback.format_exc(), flush=True)\n",
    "\n",
    "                gene_corrs.append(np.nan)\n",
    "\n",
    "            pbar.update(1)\n",
    "\n",
    "# create a pandas series\n",
    "gene_corrs_flat = pd.Series(gene_corrs)\n",
    "\n",
    "# save\n",
    "# FIXME: consider saving only the condenced matrix here. See here for\n",
    "# more details: https://github.com/greenelab/phenoplier/pull/38#discussion_r634600813\n",
    "# gene_corrs_data = squareform(np.array(gene_corrs, dtype=np.float64))\n",
    "# np.fill_diagonal(gene_corrs_data, 1.0)\n",
    "\n",
    "gene_chr_ids = [g.ensembl_id for g in gene_chr_objs]\n",
    "gene_corrs_df = pd.DataFrame(\n",
    "    data=gene_corrs_data,\n",
    "    index=gene_chr_ids,\n",
    "    columns=gene_chr_ids,\n",
    ")\n",
    "\n",
    "output_dir.mkdir(exist_ok=True, parents=True)\n",
    "display(output_file)\n",
    "\n",
    "gene_corrs_df.to_pickle(output_file)"
   ]
  },
  {
   "cell_type": "markdown",
   "id": "faa67b51-5373-470f-aa72-2ded53fa6dfe",
   "metadata": {
    "papermill": {
     "duration": 0.902408,
     "end_time": "2022-12-05T17:10:54.783185",
     "exception": false,
     "start_time": "2022-12-05T17:10:53.880777",
     "status": "completed"
    },
    "tags": []
   },
   "source": [
    "# Testing"
   ]
  },
  {
   "cell_type": "code",
   "execution_count": 30,
   "id": "14f7d046-4b55-4896-a56b-990127bcc388",
   "metadata": {
    "execution": {
     "iopub.execute_input": "2022-12-05T17:10:56.622923Z",
     "iopub.status.busy": "2022-12-05T17:10:56.622743Z",
     "iopub.status.idle": "2022-12-05T17:10:56.637248Z",
     "shell.execute_reply": "2022-12-05T17:10:56.636797Z"
    },
    "papermill": {
     "duration": 0.951889,
     "end_time": "2022-12-05T17:10:56.638175",
     "exception": false,
     "start_time": "2022-12-05T17:10:55.686286",
     "status": "completed"
    },
    "tags": []
   },
   "outputs": [
    {
     "data": {
      "text/plain": [
       "(245, 245)"
      ]
     },
     "execution_count": 30,
     "metadata": {},
     "output_type": "execute_result"
    }
   ],
   "source": [
    "gene_corrs_df.shape"
   ]
  },
  {
   "cell_type": "code",
   "execution_count": 31,
   "id": "c7d15414-3297-4537-a7c6-7588c0baeb75",
   "metadata": {
    "execution": {
     "iopub.execute_input": "2022-12-05T17:10:58.422723Z",
     "iopub.status.busy": "2022-12-05T17:10:58.422484Z",
     "iopub.status.idle": "2022-12-05T17:10:58.446224Z",
     "shell.execute_reply": "2022-12-05T17:10:58.445805Z"
    },
    "papermill": {
     "duration": 0.913004,
     "end_time": "2022-12-05T17:10:58.447155",
     "exception": false,
     "start_time": "2022-12-05T17:10:57.534151",
     "status": "completed"
    },
    "tags": []
   },
   "outputs": [
    {
     "data": {
      "text/html": [
       "<div>\n",
       "<style scoped>\n",
       "    .dataframe tbody tr th:only-of-type {\n",
       "        vertical-align: middle;\n",
       "    }\n",
       "\n",
       "    .dataframe tbody tr th {\n",
       "        vertical-align: top;\n",
       "    }\n",
       "\n",
       "    .dataframe thead th {\n",
       "        text-align: right;\n",
       "    }\n",
       "</style>\n",
       "<table border=\"1\" class=\"dataframe\">\n",
       "  <thead>\n",
       "    <tr style=\"text-align: right;\">\n",
       "      <th></th>\n",
       "      <th>ENSG00000261456</th>\n",
       "      <th>ENSG00000148377</th>\n",
       "      <th>ENSG00000067064</th>\n",
       "      <th>ENSG00000067057</th>\n",
       "      <th>ENSG00000067082</th>\n",
       "      <th>ENSG00000187134</th>\n",
       "      <th>ENSG00000151632</th>\n",
       "      <th>ENSG00000196139</th>\n",
       "      <th>ENSG00000173848</th>\n",
       "      <th>ENSG00000196372</th>\n",
       "      <th>...</th>\n",
       "      <th>ENSG00000148773</th>\n",
       "      <th>ENSG00000170430</th>\n",
       "      <th>ENSG00000175470</th>\n",
       "      <th>ENSG00000176171</th>\n",
       "      <th>ENSG00000151640</th>\n",
       "      <th>ENSG00000068383</th>\n",
       "      <th>ENSG00000130640</th>\n",
       "      <th>ENSG00000127884</th>\n",
       "      <th>ENSG00000148832</th>\n",
       "      <th>ENSG00000130649</th>\n",
       "    </tr>\n",
       "  </thead>\n",
       "  <tbody>\n",
       "    <tr>\n",
       "      <th>ENSG00000261456</th>\n",
       "      <td>1.000000</td>\n",
       "      <td>0.003790</td>\n",
       "      <td>0.012337</td>\n",
       "      <td>0.007815</td>\n",
       "      <td>0.005915</td>\n",
       "      <td>0.007852</td>\n",
       "      <td>0.010083</td>\n",
       "      <td>0.011510</td>\n",
       "      <td>0.000000</td>\n",
       "      <td>0.000000</td>\n",
       "      <td>...</td>\n",
       "      <td>0.0</td>\n",
       "      <td>0.0</td>\n",
       "      <td>0.0</td>\n",
       "      <td>0.0</td>\n",
       "      <td>0.0</td>\n",
       "      <td>0.0</td>\n",
       "      <td>0.0</td>\n",
       "      <td>0.0</td>\n",
       "      <td>0.0</td>\n",
       "      <td>0.0</td>\n",
       "    </tr>\n",
       "    <tr>\n",
       "      <th>ENSG00000148377</th>\n",
       "      <td>0.003790</td>\n",
       "      <td>1.000000</td>\n",
       "      <td>0.084105</td>\n",
       "      <td>0.004528</td>\n",
       "      <td>0.003054</td>\n",
       "      <td>0.006786</td>\n",
       "      <td>0.005735</td>\n",
       "      <td>0.001551</td>\n",
       "      <td>0.000925</td>\n",
       "      <td>0.000890</td>\n",
       "      <td>...</td>\n",
       "      <td>0.0</td>\n",
       "      <td>0.0</td>\n",
       "      <td>0.0</td>\n",
       "      <td>0.0</td>\n",
       "      <td>0.0</td>\n",
       "      <td>0.0</td>\n",
       "      <td>0.0</td>\n",
       "      <td>0.0</td>\n",
       "      <td>0.0</td>\n",
       "      <td>0.0</td>\n",
       "    </tr>\n",
       "    <tr>\n",
       "      <th>ENSG00000067064</th>\n",
       "      <td>0.012337</td>\n",
       "      <td>0.084105</td>\n",
       "      <td>1.000000</td>\n",
       "      <td>0.014470</td>\n",
       "      <td>0.010029</td>\n",
       "      <td>0.010480</td>\n",
       "      <td>0.008932</td>\n",
       "      <td>0.007868</td>\n",
       "      <td>0.006230</td>\n",
       "      <td>0.009131</td>\n",
       "      <td>...</td>\n",
       "      <td>0.0</td>\n",
       "      <td>0.0</td>\n",
       "      <td>0.0</td>\n",
       "      <td>0.0</td>\n",
       "      <td>0.0</td>\n",
       "      <td>0.0</td>\n",
       "      <td>0.0</td>\n",
       "      <td>0.0</td>\n",
       "      <td>0.0</td>\n",
       "      <td>0.0</td>\n",
       "    </tr>\n",
       "    <tr>\n",
       "      <th>ENSG00000067057</th>\n",
       "      <td>0.007815</td>\n",
       "      <td>0.004528</td>\n",
       "      <td>0.014470</td>\n",
       "      <td>1.000000</td>\n",
       "      <td>0.010449</td>\n",
       "      <td>0.012528</td>\n",
       "      <td>0.017848</td>\n",
       "      <td>0.015077</td>\n",
       "      <td>0.011976</td>\n",
       "      <td>0.015208</td>\n",
       "      <td>...</td>\n",
       "      <td>0.0</td>\n",
       "      <td>0.0</td>\n",
       "      <td>0.0</td>\n",
       "      <td>0.0</td>\n",
       "      <td>0.0</td>\n",
       "      <td>0.0</td>\n",
       "      <td>0.0</td>\n",
       "      <td>0.0</td>\n",
       "      <td>0.0</td>\n",
       "      <td>0.0</td>\n",
       "    </tr>\n",
       "    <tr>\n",
       "      <th>ENSG00000067082</th>\n",
       "      <td>0.005915</td>\n",
       "      <td>0.003054</td>\n",
       "      <td>0.010029</td>\n",
       "      <td>0.010449</td>\n",
       "      <td>1.000000</td>\n",
       "      <td>0.005393</td>\n",
       "      <td>0.012874</td>\n",
       "      <td>0.010219</td>\n",
       "      <td>0.007214</td>\n",
       "      <td>0.011455</td>\n",
       "      <td>...</td>\n",
       "      <td>0.0</td>\n",
       "      <td>0.0</td>\n",
       "      <td>0.0</td>\n",
       "      <td>0.0</td>\n",
       "      <td>0.0</td>\n",
       "      <td>0.0</td>\n",
       "      <td>0.0</td>\n",
       "      <td>0.0</td>\n",
       "      <td>0.0</td>\n",
       "      <td>0.0</td>\n",
       "    </tr>\n",
       "  </tbody>\n",
       "</table>\n",
       "<p>5 rows × 245 columns</p>\n",
       "</div>"
      ],
      "text/plain": [
       "                 ENSG00000261456  ENSG00000148377  ENSG00000067064  \\\n",
       "ENSG00000261456         1.000000         0.003790         0.012337   \n",
       "ENSG00000148377         0.003790         1.000000         0.084105   \n",
       "ENSG00000067064         0.012337         0.084105         1.000000   \n",
       "ENSG00000067057         0.007815         0.004528         0.014470   \n",
       "ENSG00000067082         0.005915         0.003054         0.010029   \n",
       "\n",
       "                 ENSG00000067057  ENSG00000067082  ENSG00000187134  \\\n",
       "ENSG00000261456         0.007815         0.005915         0.007852   \n",
       "ENSG00000148377         0.004528         0.003054         0.006786   \n",
       "ENSG00000067064         0.014470         0.010029         0.010480   \n",
       "ENSG00000067057         1.000000         0.010449         0.012528   \n",
       "ENSG00000067082         0.010449         1.000000         0.005393   \n",
       "\n",
       "                 ENSG00000151632  ENSG00000196139  ENSG00000173848  \\\n",
       "ENSG00000261456         0.010083         0.011510         0.000000   \n",
       "ENSG00000148377         0.005735         0.001551         0.000925   \n",
       "ENSG00000067064         0.008932         0.007868         0.006230   \n",
       "ENSG00000067057         0.017848         0.015077         0.011976   \n",
       "ENSG00000067082         0.012874         0.010219         0.007214   \n",
       "\n",
       "                 ENSG00000196372  ...  ENSG00000148773  ENSG00000170430  \\\n",
       "ENSG00000261456         0.000000  ...              0.0              0.0   \n",
       "ENSG00000148377         0.000890  ...              0.0              0.0   \n",
       "ENSG00000067064         0.009131  ...              0.0              0.0   \n",
       "ENSG00000067057         0.015208  ...              0.0              0.0   \n",
       "ENSG00000067082         0.011455  ...              0.0              0.0   \n",
       "\n",
       "                 ENSG00000175470  ENSG00000176171  ENSG00000151640  \\\n",
       "ENSG00000261456              0.0              0.0              0.0   \n",
       "ENSG00000148377              0.0              0.0              0.0   \n",
       "ENSG00000067064              0.0              0.0              0.0   \n",
       "ENSG00000067057              0.0              0.0              0.0   \n",
       "ENSG00000067082              0.0              0.0              0.0   \n",
       "\n",
       "                 ENSG00000068383  ENSG00000130640  ENSG00000127884  \\\n",
       "ENSG00000261456              0.0              0.0              0.0   \n",
       "ENSG00000148377              0.0              0.0              0.0   \n",
       "ENSG00000067064              0.0              0.0              0.0   \n",
       "ENSG00000067057              0.0              0.0              0.0   \n",
       "ENSG00000067082              0.0              0.0              0.0   \n",
       "\n",
       "                 ENSG00000148832  ENSG00000130649  \n",
       "ENSG00000261456              0.0              0.0  \n",
       "ENSG00000148377              0.0              0.0  \n",
       "ENSG00000067064              0.0              0.0  \n",
       "ENSG00000067057              0.0              0.0  \n",
       "ENSG00000067082              0.0              0.0  \n",
       "\n",
       "[5 rows x 245 columns]"
      ]
     },
     "execution_count": 31,
     "metadata": {},
     "output_type": "execute_result"
    }
   ],
   "source": [
    "gene_corrs_df.head()"
   ]
  },
  {
   "cell_type": "markdown",
   "id": "dad6603f-01c6-41fb-a6f6-241051207dd8",
   "metadata": {
    "papermill": {
     "duration": 0.895821,
     "end_time": "2022-12-05T17:11:00.276275",
     "exception": false,
     "start_time": "2022-12-05T17:10:59.380454",
     "status": "completed"
    },
    "tags": []
   },
   "source": [
    "## Standard checks and stats"
   ]
  },
  {
   "cell_type": "code",
   "execution_count": 32,
   "id": "286686af-1b7b-4440-8453-6bdcbd8de19c",
   "metadata": {
    "execution": {
     "iopub.execute_input": "2022-12-05T17:11:02.094574Z",
     "iopub.status.busy": "2022-12-05T17:11:02.094340Z",
     "iopub.status.idle": "2022-12-05T17:11:02.108263Z",
     "shell.execute_reply": "2022-12-05T17:11:02.107853Z"
    },
    "papermill": {
     "duration": 0.942674,
     "end_time": "2022-12-05T17:11:02.109252",
     "exception": false,
     "start_time": "2022-12-05T17:11:01.166578",
     "status": "completed"
    },
    "tags": []
   },
   "outputs": [],
   "source": [
    "assert not gene_corrs_df.isna().any(axis=None)"
   ]
  },
  {
   "cell_type": "code",
   "execution_count": 33,
   "id": "00583efc-7068-4270-ad1e-4a418e91db96",
   "metadata": {
    "execution": {
     "iopub.execute_input": "2022-12-05T17:11:03.902095Z",
     "iopub.status.busy": "2022-12-05T17:11:03.901916Z",
     "iopub.status.idle": "2022-12-05T17:11:03.916737Z",
     "shell.execute_reply": "2022-12-05T17:11:03.916326Z"
    },
    "papermill": {
     "duration": 0.907314,
     "end_time": "2022-12-05T17:11:03.917640",
     "exception": false,
     "start_time": "2022-12-05T17:11:03.010326",
     "status": "completed"
    },
    "tags": []
   },
   "outputs": [
    {
     "data": {
      "text/plain": [
       "0.0"
      ]
     },
     "metadata": {},
     "output_type": "display_data"
    }
   ],
   "source": [
    "_min_val = gene_corrs_df.min().min()\n",
    "display(_min_val)\n",
    "assert _min_val >= -0.05"
   ]
  },
  {
   "cell_type": "code",
   "execution_count": 34,
   "id": "d04fb2cf-1050-475b-b855-f5f7cc04092b",
   "metadata": {
    "execution": {
     "iopub.execute_input": "2022-12-05T17:11:05.759491Z",
     "iopub.status.busy": "2022-12-05T17:11:05.759205Z",
     "iopub.status.idle": "2022-12-05T17:11:05.782544Z",
     "shell.execute_reply": "2022-12-05T17:11:05.782126Z"
    },
    "papermill": {
     "duration": 0.929082,
     "end_time": "2022-12-05T17:11:05.783450",
     "exception": false,
     "start_time": "2022-12-05T17:11:04.854368",
     "status": "completed"
    },
    "tags": []
   },
   "outputs": [
    {
     "data": {
      "text/plain": [
       "1.0000000000000022"
      ]
     },
     "metadata": {},
     "output_type": "display_data"
    }
   ],
   "source": [
    "_max_val = gene_corrs_df.max().max()  # this captures the diagonal\n",
    "display(_max_val)\n",
    "assert _max_val <= 1.05"
   ]
  },
  {
   "cell_type": "code",
   "execution_count": 35,
   "id": "fe283586-c348-40e0-8841-f6d97bfb021c",
   "metadata": {
    "execution": {
     "iopub.execute_input": "2022-12-05T17:11:07.613033Z",
     "iopub.status.busy": "2022-12-05T17:11:07.612809Z",
     "iopub.status.idle": "2022-12-05T17:11:07.629129Z",
     "shell.execute_reply": "2022-12-05T17:11:07.628712Z"
    },
    "papermill": {
     "duration": 0.952898,
     "end_time": "2022-12-05T17:11:07.630372",
     "exception": false,
     "start_time": "2022-12-05T17:11:06.677474",
     "status": "completed"
    },
    "tags": []
   },
   "outputs": [
    {
     "data": {
      "text/plain": [
       "count    30135.000000\n",
       "mean         0.010743\n",
       "std          0.094196\n",
       "min          0.000000\n",
       "25%          0.000000\n",
       "50%          0.000000\n",
       "75%          0.000000\n",
       "max          1.000000\n",
       "dtype: float64"
      ]
     },
     "execution_count": 35,
     "metadata": {},
     "output_type": "execute_result"
    }
   ],
   "source": [
    "gene_corrs_flat.describe()"
   ]
  },
  {
   "cell_type": "code",
   "execution_count": 36,
   "id": "b3815678-0f93-4b35-897b-a9d047a2aa78",
   "metadata": {
    "execution": {
     "iopub.execute_input": "2022-12-05T17:11:09.454447Z",
     "iopub.status.busy": "2022-12-05T17:11:09.454098Z",
     "iopub.status.idle": "2022-12-05T17:11:09.477826Z",
     "shell.execute_reply": "2022-12-05T17:11:09.477411Z"
    },
    "papermill": {
     "duration": 0.924911,
     "end_time": "2022-12-05T17:11:09.478707",
     "exception": false,
     "start_time": "2022-12-05T17:11:08.553796",
     "status": "completed"
    },
    "tags": []
   },
   "outputs": [
    {
     "data": {
      "text/plain": [
       "0.00    0.000000\n",
       "0.05    0.000000\n",
       "0.10    0.000000\n",
       "0.15    0.000000\n",
       "0.20    0.000000\n",
       "0.25    0.000000\n",
       "0.30    0.000000\n",
       "0.35    0.000000\n",
       "0.40    0.000000\n",
       "0.45    0.000000\n",
       "0.50    0.000000\n",
       "0.55    0.000000\n",
       "0.60    0.000000\n",
       "0.65    0.000000\n",
       "0.70    0.000000\n",
       "0.75    0.000000\n",
       "0.80    0.000000\n",
       "0.85    0.000000\n",
       "0.90    0.000958\n",
       "0.95    0.008054\n",
       "dtype: float64"
      ]
     },
     "metadata": {},
     "output_type": "display_data"
    }
   ],
   "source": [
    "gene_corrs_quantiles = gene_corrs_flat.quantile(np.arange(0, 1, 0.05))\n",
    "display(gene_corrs_quantiles)"
   ]
  },
  {
   "cell_type": "markdown",
   "id": "87134509-b145-4a10-8bc9-b7e914c2b0fa",
   "metadata": {
    "papermill": {
     "duration": 0.919604,
     "end_time": "2022-12-05T17:11:11.369097",
     "exception": false,
     "start_time": "2022-12-05T17:11:10.449493",
     "status": "completed"
    },
    "tags": []
   },
   "source": [
    "## Positive definiteness"
   ]
  },
  {
   "cell_type": "code",
   "execution_count": 37,
   "id": "07d9a9a1-a4f7-48aa-b916-6d42a8cc6186",
   "metadata": {
    "execution": {
     "iopub.execute_input": "2022-12-05T17:11:13.303390Z",
     "iopub.status.busy": "2022-12-05T17:11:13.303105Z",
     "iopub.status.idle": "2022-12-05T17:11:13.346580Z",
     "shell.execute_reply": "2022-12-05T17:11:13.345968Z"
    },
    "papermill": {
     "duration": 0.982482,
     "end_time": "2022-12-05T17:11:13.347531",
     "exception": false,
     "start_time": "2022-12-05T17:11:12.365049",
     "status": "completed"
    },
    "tags": []
   },
   "outputs": [
    {
     "data": {
      "text/plain": [
       "0"
      ]
     },
     "metadata": {},
     "output_type": "display_data"
    },
    {
     "data": {
      "text/plain": [
       "array([], dtype=float64)"
      ]
     },
     "metadata": {},
     "output_type": "display_data"
    }
   ],
   "source": [
    "# print negative eigenvalues\n",
    "eigs = np.linalg.eigvals(gene_corrs_df.to_numpy())\n",
    "display(len(eigs[eigs < 0]))\n",
    "display(eigs[eigs < 0])"
   ]
  },
  {
   "cell_type": "code",
   "execution_count": 38,
   "id": "6e218436-c3c5-4028-8c94-a4fa6260efce",
   "metadata": {
    "execution": {
     "iopub.execute_input": "2022-12-05T17:11:15.143610Z",
     "iopub.status.busy": "2022-12-05T17:11:15.142970Z",
     "iopub.status.idle": "2022-12-05T17:11:15.170713Z",
     "shell.execute_reply": "2022-12-05T17:11:15.170063Z"
    },
    "papermill": {
     "duration": 0.928867,
     "end_time": "2022-12-05T17:11:15.171592",
     "exception": false,
     "start_time": "2022-12-05T17:11:14.242725",
     "status": "completed"
    },
    "tags": []
   },
   "outputs": [
    {
     "name": "stdout",
     "output_type": "stream",
     "text": [
      "Works!\n"
     ]
    }
   ],
   "source": [
    "try:\n",
    "    chol_mat = np.linalg.cholesky(gene_corrs_df.to_numpy())\n",
    "    cov_inv = np.linalg.inv(chol_mat)\n",
    "    print(\"Works!\")\n",
    "except Exception as e:\n",
    "    print(f\"Cholesky decomposition failed: {str(e)}\")"
   ]
  },
  {
   "cell_type": "code",
   "execution_count": 39,
   "id": "dd8827fb-faf9-4c7c-9454-015e94752706",
   "metadata": {
    "execution": {
     "iopub.execute_input": "2022-12-05T17:11:17.028443Z",
     "iopub.status.busy": "2022-12-05T17:11:17.028113Z",
     "iopub.status.idle": "2022-12-05T17:11:17.053011Z",
     "shell.execute_reply": "2022-12-05T17:11:17.052462Z"
    },
    "papermill": {
     "duration": 0.929014,
     "end_time": "2022-12-05T17:11:17.053848",
     "exception": false,
     "start_time": "2022-12-05T17:11:16.124834",
     "status": "completed"
    },
    "tags": []
   },
   "outputs": [
    {
     "name": "stdout",
     "output_type": "stream",
     "text": [
      "Works!\n"
     ]
    }
   ],
   "source": [
    "try:\n",
    "    # decomposition used by statsmodels.GLS\n",
    "    cholsigmainv = np.linalg.cholesky(np.linalg.inv(gene_corrs_df.to_numpy())).T\n",
    "    print(\"Works!\")\n",
    "except Exception as e:\n",
    "    print(f\"Cholesky decomposition failed (statsmodels.GLS): {str(e)}\")"
   ]
  },
  {
   "cell_type": "markdown",
   "id": "8e60a080-edb2-4e9c-b2ef-22961693200c",
   "metadata": {
    "papermill": {
     "duration": 0.935058,
     "end_time": "2022-12-05T17:11:18.884280",
     "exception": false,
     "start_time": "2022-12-05T17:11:17.949222",
     "status": "completed"
    },
    "tags": []
   },
   "source": [
    "## Plot: distribution"
   ]
  },
  {
   "cell_type": "code",
   "execution_count": 40,
   "id": "8301126b-a7d4-4744-9c7d-f0f86eb6f54c",
   "metadata": {
    "execution": {
     "iopub.execute_input": "2022-12-05T17:11:20.780251Z",
     "iopub.status.busy": "2022-12-05T17:11:20.779898Z",
     "iopub.status.idle": "2022-12-05T17:11:21.101817Z",
     "shell.execute_reply": "2022-12-05T17:11:21.101445Z"
    },
    "papermill": {
     "duration": 1.250433,
     "end_time": "2022-12-05T17:11:21.103577",
     "exception": false,
     "start_time": "2022-12-05T17:11:19.853144",
     "status": "completed"
    },
    "tags": []
   },
   "outputs": [
    {
     "data": {
      "image/png": "[encoded data removed]",
      "text/plain": [
       "<Figure size 700x700 with 1 Axes>"
      ]
     },
     "metadata": {},
     "output_type": "display_data"
    }
   ],
   "source": [
    "with sns.plotting_context(\"paper\", font_scale=1.5):\n",
    "    g = sns.displot(gene_corrs_flat, kde=True, height=7)\n",
    "    g.ax.set_title(\n",
    "        f\"Distribution of gene correlation values in chromosome {CHROMOSOME}\"\n",
    "    )"
   ]
  },
  {
   "cell_type": "markdown",
   "id": "cbd52bca-d878-4a2f-b684-5c83aa3038d4",
   "metadata": {
    "papermill": {
     "duration": 0.981245,
     "end_time": "2022-12-05T17:11:23.081051",
     "exception": false,
     "start_time": "2022-12-05T17:11:22.099806",
     "status": "completed"
    },
    "tags": []
   },
   "source": [
    "## Plot: heatmap"
   ]
  },
  {
   "cell_type": "code",
   "execution_count": 41,
   "id": "d03fe63a-c7b2-4fb9-a53c-db362ce843c9",
   "metadata": {
    "execution": {
     "iopub.execute_input": "2022-12-05T17:11:24.979947Z",
     "iopub.status.busy": "2022-12-05T17:11:24.979629Z",
     "iopub.status.idle": "2022-12-05T17:11:25.003678Z",
     "shell.execute_reply": "2022-12-05T17:11:25.003124Z"
    },
    "papermill": {
     "duration": 0.984451,
     "end_time": "2022-12-05T17:11:25.004534",
     "exception": false,
     "start_time": "2022-12-05T17:11:24.020083",
     "status": "completed"
    },
    "tags": []
   },
   "outputs": [
    {
     "data": {
      "text/plain": [
       "'0.0 / 0.05'"
      ]
     },
     "metadata": {},
     "output_type": "display_data"
    }
   ],
   "source": [
    "vmin_val = min(0.00, gene_corrs_quantiles[0.10])\n",
    "vmax_val = max(0.05, gene_corrs_quantiles[0.90])\n",
    "display(f\"{vmin_val} / {vmax_val}\")"
   ]
  },
  {
   "cell_type": "code",
   "execution_count": 42,
   "id": "dc41b70b-5bcc-4d9e-9f33-a22c4a94dab5",
   "metadata": {
    "execution": {
     "iopub.execute_input": "2022-12-05T17:11:26.849529Z",
     "iopub.status.busy": "2022-12-05T17:11:26.848835Z",
     "iopub.status.idle": "2022-12-05T17:11:27.065108Z",
     "shell.execute_reply": "2022-12-05T17:11:27.064624Z"
    },
    "papermill": {
     "duration": 1.138525,
     "end_time": "2022-12-05T17:11:27.066608",
     "exception": false,
     "start_time": "2022-12-05T17:11:25.928083",
     "status": "completed"
    },
    "tags": []
   },
   "outputs": [
    {
     "data": {
      "text/plain": [
       "Text(0.5, 1.0, 'Gene correlations in chromosome 10')"
      ]
     },
     "execution_count": 42,
     "metadata": {},
     "output_type": "execute_result"
    },
    {
     "data": {
      "image/png": "[encoded data removed]",
      "text/plain": [
       "<Figure size 1000x1000 with 2 Axes>"
      ]
     },
     "metadata": {},
     "output_type": "display_data"
    }
   ],
   "source": [
    "f, ax = plt.subplots(figsize=(10, 10))\n",
    "sns.heatmap(\n",
    "    gene_corrs_df,\n",
    "    xticklabels=False,\n",
    "    yticklabels=False,\n",
    "    square=True,\n",
    "    vmin=vmin_val,\n",
    "    vmax=vmax_val,\n",
    "    cmap=\"rocket_r\",\n",
    "    ax=ax,\n",
    ")\n",
    "ax.set_title(f\"Gene correlations in chromosome {CHROMOSOME}\")"
   ]
  },
  {
   "cell_type": "code",
   "execution_count": null,
   "id": "b25e3ead",
   "metadata": {
    "papermill": {
     "duration": 0.904487,
     "end_time": "2022-12-05T17:11:28.938774",
     "exception": false,
     "start_time": "2022-12-05T17:11:28.034287",
     "status": "completed"
    },
    "tags": []
   },
   "outputs": [],
   "source": []
  }
 ],
 "metadata": {
  "jupytext": {
   "cell_metadata_filter": "all,-execution,-papermill,-trusted",
   "formats": "ipynb,py//py:percent"
  },
  "kernelspec": {
   "display_name": "Python 3 (ipykernel)",
   "language": "python",
   "name": "python3"
  },
  "language_info": {
   "codemirror_mode": {
    "name": "ipython",
    "version": 3
   },
   "file_extension": ".py",
   "mimetype": "text/x-python",
   "name": "python",
   "nbconvert_exporter": "python",
   "pygments_lexer": "ipython3",
   "version": "3.10.6"
  },
  "papermill": {
   "default_parameters": {},
   "duration": 244.977243,
   "end_time": "2022-12-05T17:11:33.030325",
   "environment_variables": {},
   "exception": null,
   "input_path": "projects/asthma-copd/nbs/20_gene_corrs/jobs/05-gene_expr_correlations.ipynb",
   "output_path": "projects/asthma-copd/nbs/20_gene_corrs/jobs/../output/copd_only/05-gene_expr_correlations-chr10.run.ipynb",
   "parameters": {
    "CHROMOSOME": 10,
    "COHORT_NAME": "copd_only",
    "OUTPUT_DIR_BASE": "/opt/data/projects/asthma-copd/results/gls_phenoplier",
    "PHENOPLIER_NOTEBOOK_FILEPATH": "projects/asthma-copd/nbs/20_gene_corrs/jobs/05-gene_expr_correlations.ipynb"
   },
   "start_time": "2022-12-05T17:07:28.053082",
   "version": "2.2.2"
  }
 },
 "nbformat": 4,
 "nbformat_minor": 5
}
