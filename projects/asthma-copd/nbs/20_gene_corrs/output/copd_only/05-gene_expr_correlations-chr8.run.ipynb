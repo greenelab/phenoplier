{
 "cells": [
  {
   "cell_type": "markdown",
   "id": "7a6632fb",
   "metadata": {
    "papermill": {
     "duration": 0.008525,
     "end_time": "2022-12-05T17:04:13.516374",
     "exception": false,
     "start_time": "2022-12-05T17:04:13.507849",
     "status": "completed"
    },
    "tags": []
   },
   "source": [
    "# Description"
   ]
  },
  {
   "cell_type": "markdown",
   "id": "7097c346",
   "metadata": {
    "papermill": {
     "duration": 0.007996,
     "end_time": "2022-12-05T17:04:13.533809",
     "exception": false,
     "start_time": "2022-12-05T17:04:13.525813",
     "status": "completed"
    },
    "tags": []
   },
   "source": [
    "(Please, take a look at the README.md file in this directory for instructions on how to run this notebook)\n",
    "\n",
    "This notebook computes predicted expression correlations between all genes in the MultiPLIER models.\n",
    "\n",
    "It has specicfic parameters for papermill (see under `Settings` below).\n",
    "It can be configured to run on a single chromosome to run in parallel.\n",
    "\n",
    "This notebook is not directly run. See README.md."
   ]
  },
  {
   "cell_type": "markdown",
   "id": "c61d8427",
   "metadata": {
    "papermill": {
     "duration": 0.007485,
     "end_time": "2022-12-05T17:04:13.548838",
     "exception": false,
     "start_time": "2022-12-05T17:04:13.541353",
     "status": "completed"
    },
    "tags": []
   },
   "source": [
    "# Modules"
   ]
  },
  {
   "cell_type": "code",
   "execution_count": 1,
   "id": "bbc0234f",
   "metadata": {
    "execution": {
     "iopub.execute_input": "2022-12-05T17:04:13.566071Z",
     "iopub.status.busy": "2022-12-05T17:04:13.565635Z",
     "iopub.status.idle": "2022-12-05T17:04:13.583347Z",
     "shell.execute_reply": "2022-12-05T17:04:13.582708Z"
    },
    "papermill": {
     "duration": 0.027825,
     "end_time": "2022-12-05T17:04:13.584862",
     "exception": false,
     "start_time": "2022-12-05T17:04:13.557037",
     "status": "completed"
    },
    "tags": []
   },
   "outputs": [],
   "source": [
    "%load_ext autoreload\n",
    "%autoreload 2"
   ]
  },
  {
   "cell_type": "code",
   "execution_count": 2,
   "id": "1d5f5a59",
   "metadata": {
    "execution": {
     "iopub.execute_input": "2022-12-05T17:04:13.601800Z",
     "iopub.status.busy": "2022-12-05T17:04:13.601366Z",
     "iopub.status.idle": "2022-12-05T17:04:14.276791Z",
     "shell.execute_reply": "2022-12-05T17:04:14.276360Z"
    },
    "papermill": {
     "duration": 0.685744,
     "end_time": "2022-12-05T17:04:14.278474",
     "exception": false,
     "start_time": "2022-12-05T17:04:13.592730",
     "status": "completed"
    },
    "tags": []
   },
   "outputs": [],
   "source": [
    "from random import sample, seed\n",
    "import warnings\n",
    "from pathlib import Path\n",
    "import pickle\n",
    "import traceback\n",
    "\n",
    "import numpy as np\n",
    "from scipy.spatial.distance import squareform\n",
    "import pandas as pd\n",
    "from tqdm import tqdm\n",
    "import matplotlib.pyplot as plt\n",
    "import seaborn as sns\n",
    "\n",
    "import conf\n",
    "from entity import Gene"
   ]
  },
  {
   "cell_type": "markdown",
   "id": "1eac24b5",
   "metadata": {
    "papermill": {
     "duration": 0.00982,
     "end_time": "2022-12-05T17:04:14.296741",
     "exception": false,
     "start_time": "2022-12-05T17:04:14.286921",
     "status": "completed"
    },
    "tags": []
   },
   "source": [
    "# Settings"
   ]
  },
  {
   "cell_type": "code",
   "execution_count": 3,
   "id": "ca4560ba",
   "metadata": {
    "execution": {
     "iopub.execute_input": "2022-12-05T17:04:14.313705Z",
     "iopub.status.busy": "2022-12-05T17:04:14.313530Z",
     "iopub.status.idle": "2022-12-05T17:04:14.326094Z",
     "shell.execute_reply": "2022-12-05T17:04:14.325725Z"
    },
    "papermill": {
     "duration": 0.022659,
     "end_time": "2022-12-05T17:04:14.327518",
     "exception": false,
     "start_time": "2022-12-05T17:04:14.304859",
     "status": "completed"
    },
    "tags": [
     "parameters"
    ]
   },
   "outputs": [],
   "source": [
    "# a cohort name (it could be something like UK_BIOBANK, etc)\n",
    "COHORT_NAME = None\n",
    "\n",
    "# reference panel such as 1000G or GTEX_V8\n",
    "REFERENCE_PANEL = \"GTEX_V8\"\n",
    "\n",
    "# predictions models such as MASHR or ELASTIC_NET\n",
    "EQTL_MODEL = \"MASHR\"\n",
    "\n",
    "# this is the default value used in S-MultiXcan to select the\n",
    "# top principal components of the expression correlation matrix\n",
    "SMULTIXCAN_CONDITION_NUMBER = 30\n",
    "\n",
    "# specifies a single chromosome value\n",
    "CHROMOSOME = None\n",
    "\n",
    "# If True, computes the correlation between closeby genes only (see\n",
    "# entity.Gene.within_distance for more details). Otherwise, it computes\n",
    "# correlations for all genes in a chromosome\n",
    "COMPUTE_CORRELATIONS_WITHIN_DISTANCE = True\n",
    "\n",
    "# if True, then it will continue if a gene pair correlation fails,\n",
    "# printing the warning/error for debugging. If False, any warning/error\n",
    "# will be thrown\n",
    "DEBUG_MODE = False\n",
    "\n",
    "# output dir\n",
    "OUTPUT_DIR_BASE = None"
   ]
  },
  {
   "cell_type": "code",
   "execution_count": 4,
   "id": "958de9cf",
   "metadata": {
    "execution": {
     "iopub.execute_input": "2022-12-05T17:04:14.345457Z",
     "iopub.status.busy": "2022-12-05T17:04:14.345270Z",
     "iopub.status.idle": "2022-12-05T17:04:14.364363Z",
     "shell.execute_reply": "2022-12-05T17:04:14.363712Z"
    },
    "papermill": {
     "duration": 0.029443,
     "end_time": "2022-12-05T17:04:14.365903",
     "exception": false,
     "start_time": "2022-12-05T17:04:14.336460",
     "status": "completed"
    },
    "tags": [
     "injected-parameters"
    ]
   },
   "outputs": [],
   "source": [
    "# Parameters\n",
    "PHENOPLIER_NOTEBOOK_FILEPATH = (\n",
    "    \"projects/asthma-copd/nbs/20_gene_corrs/jobs/05-gene_expr_correlations.ipynb\"\n",
    ")\n",
    "COHORT_NAME = \"copd_only\"\n",
    "CHROMOSOME = 8\n",
    "OUTPUT_DIR_BASE = \"/opt/data/projects/asthma-copd/results/gls_phenoplier\"\n"
   ]
  },
  {
   "cell_type": "code",
   "execution_count": 5,
   "id": "3190631f-27fc-480f-b18e-571d580425a5",
   "metadata": {
    "execution": {
     "iopub.execute_input": "2022-12-05T17:04:14.382678Z",
     "iopub.status.busy": "2022-12-05T17:04:14.382349Z",
     "iopub.status.idle": "2022-12-05T17:04:14.409345Z",
     "shell.execute_reply": "2022-12-05T17:04:14.408683Z"
    },
    "papermill": {
     "duration": 0.036911,
     "end_time": "2022-12-05T17:04:14.410817",
     "exception": false,
     "start_time": "2022-12-05T17:04:14.373906",
     "status": "completed"
    },
    "tags": []
   },
   "outputs": [
    {
     "data": {
      "text/plain": [
       "'Cohort name: copd_only'"
      ]
     },
     "metadata": {},
     "output_type": "display_data"
    }
   ],
   "source": [
    "assert COHORT_NAME is not None and len(COHORT_NAME) > 0, \"A cohort name must be given\"\n",
    "\n",
    "COHORT_NAME = COHORT_NAME.lower()\n",
    "display(f\"Cohort name: {COHORT_NAME}\")"
   ]
  },
  {
   "cell_type": "code",
   "execution_count": 6,
   "id": "f53ba19b-0f93-4fa2-a047-63b375939d1a",
   "metadata": {
    "execution": {
     "iopub.execute_input": "2022-12-05T17:04:14.429182Z",
     "iopub.status.busy": "2022-12-05T17:04:14.428642Z",
     "iopub.status.idle": "2022-12-05T17:04:14.450229Z",
     "shell.execute_reply": "2022-12-05T17:04:14.449594Z"
    },
    "papermill": {
     "duration": 0.032265,
     "end_time": "2022-12-05T17:04:14.451672",
     "exception": false,
     "start_time": "2022-12-05T17:04:14.419407",
     "status": "completed"
    },
    "tags": []
   },
   "outputs": [
    {
     "data": {
      "text/plain": [
       "'Reference panel: GTEX_V8'"
      ]
     },
     "metadata": {},
     "output_type": "display_data"
    }
   ],
   "source": [
    "assert (\n",
    "    REFERENCE_PANEL is not None and len(REFERENCE_PANEL) > 0\n",
    "), \"A reference panel must be given\"\n",
    "\n",
    "display(f\"Reference panel: {REFERENCE_PANEL}\")"
   ]
  },
  {
   "cell_type": "code",
   "execution_count": 7,
   "id": "e024d130-c139-429a-9c6e-ccf149e297b0",
   "metadata": {
    "execution": {
     "iopub.execute_input": "2022-12-05T17:04:14.469418Z",
     "iopub.status.busy": "2022-12-05T17:04:14.468982Z",
     "iopub.status.idle": "2022-12-05T17:04:14.490578Z",
     "shell.execute_reply": "2022-12-05T17:04:14.489941Z"
    },
    "papermill": {
     "duration": 0.031892,
     "end_time": "2022-12-05T17:04:14.492041",
     "exception": false,
     "start_time": "2022-12-05T17:04:14.460149",
     "status": "completed"
    },
    "tags": []
   },
   "outputs": [
    {
     "data": {
      "text/plain": [
       "'eQTL model: MASHR) / mashr_'"
      ]
     },
     "metadata": {},
     "output_type": "display_data"
    }
   ],
   "source": [
    "assert (\n",
    "    EQTL_MODEL is not None and len(EQTL_MODEL) > 0\n",
    "), \"A prediction/eQTL model must be given\"\n",
    "\n",
    "EQTL_MODEL_FILES_PREFIX = conf.PHENOMEXCAN[\"PREDICTION_MODELS\"][f\"{EQTL_MODEL}_PREFIX\"]\n",
    "display(f\"eQTL model: {EQTL_MODEL}) / {EQTL_MODEL_FILES_PREFIX}\")"
   ]
  },
  {
   "cell_type": "code",
   "execution_count": 8,
   "id": "552a7f63-a18c-4d3e-bb6a-94f99b431291",
   "metadata": {
    "execution": {
     "iopub.execute_input": "2022-12-05T17:04:14.509715Z",
     "iopub.status.busy": "2022-12-05T17:04:14.509211Z",
     "iopub.status.idle": "2022-12-05T17:04:14.530372Z",
     "shell.execute_reply": "2022-12-05T17:04:14.529738Z"
    },
    "papermill": {
     "duration": 0.031391,
     "end_time": "2022-12-05T17:04:14.531812",
     "exception": false,
     "start_time": "2022-12-05T17:04:14.500421",
     "status": "completed"
    },
    "tags": []
   },
   "outputs": [
    {
     "data": {
      "text/plain": [
       "'S-MultiXcan condition number: 30'"
      ]
     },
     "metadata": {},
     "output_type": "display_data"
    }
   ],
   "source": [
    "assert (\n",
    "    SMULTIXCAN_CONDITION_NUMBER is not None and SMULTIXCAN_CONDITION_NUMBER > 0\n",
    "), \"The S-MultiXcan condition number (positive integer) must be given\"\n",
    "\n",
    "display(f\"S-MultiXcan condition number: {SMULTIXCAN_CONDITION_NUMBER}\")"
   ]
  },
  {
   "cell_type": "code",
   "execution_count": 9,
   "id": "f34a336f-548e-4afe-8955-90eaea4f42c6",
   "metadata": {
    "execution": {
     "iopub.execute_input": "2022-12-05T17:04:14.550238Z",
     "iopub.status.busy": "2022-12-05T17:04:14.549697Z",
     "iopub.status.idle": "2022-12-05T17:04:14.571168Z",
     "shell.execute_reply": "2022-12-05T17:04:14.570532Z"
    },
    "papermill": {
     "duration": 0.031818,
     "end_time": "2022-12-05T17:04:14.572607",
     "exception": false,
     "start_time": "2022-12-05T17:04:14.540789",
     "status": "completed"
    },
    "tags": []
   },
   "outputs": [
    {
     "data": {
      "text/plain": [
       "'Working on chromosome 8'"
      ]
     },
     "metadata": {},
     "output_type": "display_data"
    }
   ],
   "source": [
    "assert CHROMOSOME is not None and (\n",
    "    1 <= CHROMOSOME <= 22\n",
    "), \"You have to select one chromosome (format: number between 1 and 22)\"\n",
    "\n",
    "display(f\"Working on chromosome {CHROMOSOME}\")"
   ]
  },
  {
   "cell_type": "code",
   "execution_count": 10,
   "id": "ab8e96e8-06b5-4363-9dcd-dc4d78cc27f7",
   "metadata": {
    "execution": {
     "iopub.execute_input": "2022-12-05T17:04:14.590812Z",
     "iopub.status.busy": "2022-12-05T17:04:14.590299Z",
     "iopub.status.idle": "2022-12-05T17:04:14.611485Z",
     "shell.execute_reply": "2022-12-05T17:04:14.610842Z"
    },
    "papermill": {
     "duration": 0.031738,
     "end_time": "2022-12-05T17:04:14.612938",
     "exception": false,
     "start_time": "2022-12-05T17:04:14.581200",
     "status": "completed"
    },
    "tags": []
   },
   "outputs": [
    {
     "data": {
      "text/plain": [
       "'Compute correlation within distance True'"
      ]
     },
     "metadata": {},
     "output_type": "display_data"
    }
   ],
   "source": [
    "display(f\"Compute correlation within distance {COMPUTE_CORRELATIONS_WITHIN_DISTANCE}\")"
   ]
  },
  {
   "cell_type": "code",
   "execution_count": 11,
   "id": "b393b698-77e3-4ba2-8ac1-e14d51aa988f",
   "metadata": {
    "execution": {
     "iopub.execute_input": "2022-12-05T17:04:14.631707Z",
     "iopub.status.busy": "2022-12-05T17:04:14.631254Z",
     "iopub.status.idle": "2022-12-05T17:04:14.653366Z",
     "shell.execute_reply": "2022-12-05T17:04:14.652720Z"
    },
    "papermill": {
     "duration": 0.033181,
     "end_time": "2022-12-05T17:04:14.654796",
     "exception": false,
     "start_time": "2022-12-05T17:04:14.621615",
     "status": "completed"
    },
    "tags": []
   },
   "outputs": [
    {
     "data": {
      "text/plain": [
       "'Using output dir base: /opt/data/projects/asthma-copd/results/gls_phenoplier/gene_corrs/copd_only'"
      ]
     },
     "metadata": {},
     "output_type": "display_data"
    }
   ],
   "source": [
    "assert (\n",
    "    OUTPUT_DIR_BASE is not None and len(OUTPUT_DIR_BASE) > 0\n",
    "), \"Output directory path must be given\"\n",
    "\n",
    "OUTPUT_DIR_BASE = (Path(OUTPUT_DIR_BASE) / \"gene_corrs\" / COHORT_NAME).resolve()\n",
    "\n",
    "OUTPUT_DIR_BASE.mkdir(parents=True, exist_ok=True)\n",
    "\n",
    "display(f\"Using output dir base: {OUTPUT_DIR_BASE}\")"
   ]
  },
  {
   "cell_type": "markdown",
   "id": "d2ba085e",
   "metadata": {
    "papermill": {
     "duration": 0.008551,
     "end_time": "2022-12-05T17:04:14.672488",
     "exception": false,
     "start_time": "2022-12-05T17:04:14.663937",
     "status": "completed"
    },
    "tags": []
   },
   "source": [
    "# Load data"
   ]
  },
  {
   "cell_type": "markdown",
   "id": "7dcb8db7",
   "metadata": {
    "papermill": {
     "duration": 0.008483,
     "end_time": "2022-12-05T17:04:14.689993",
     "exception": false,
     "start_time": "2022-12-05T17:04:14.681510",
     "status": "completed"
    },
    "tags": []
   },
   "source": [
    "## GWAS variants"
   ]
  },
  {
   "cell_type": "code",
   "execution_count": 12,
   "id": "29434c4e-8cd3-4b9b-82e4-b5a251d9dd19",
   "metadata": {
    "execution": {
     "iopub.execute_input": "2022-12-05T17:04:14.708201Z",
     "iopub.status.busy": "2022-12-05T17:04:14.707831Z",
     "iopub.status.idle": "2022-12-05T17:04:16.716202Z",
     "shell.execute_reply": "2022-12-05T17:04:16.715751Z"
    },
    "papermill": {
     "duration": 2.019544,
     "end_time": "2022-12-05T17:04:16.718135",
     "exception": false,
     "start_time": "2022-12-05T17:04:14.698591",
     "status": "completed"
    },
    "tags": []
   },
   "outputs": [],
   "source": [
    "with open(OUTPUT_DIR_BASE / \"gwas_variant_ids.pkl\", \"rb\") as handle:\n",
    "    gwas_variants_ids_set = pickle.load(handle)"
   ]
  },
  {
   "cell_type": "code",
   "execution_count": 13,
   "id": "b9d9dec2-4a76-4bf9-bde2-e24c95acb8a0",
   "metadata": {
    "execution": {
     "iopub.execute_input": "2022-12-05T17:04:16.738879Z",
     "iopub.status.busy": "2022-12-05T17:04:16.738698Z",
     "iopub.status.idle": "2022-12-05T17:04:16.752372Z",
     "shell.execute_reply": "2022-12-05T17:04:16.751835Z"
    },
    "papermill": {
     "duration": 0.026145,
     "end_time": "2022-12-05T17:04:16.753819",
     "exception": false,
     "start_time": "2022-12-05T17:04:16.727674",
     "status": "completed"
    },
    "tags": []
   },
   "outputs": [
    {
     "data": {
      "text/plain": [
       "8586183"
      ]
     },
     "execution_count": 13,
     "metadata": {},
     "output_type": "execute_result"
    }
   ],
   "source": [
    "len(gwas_variants_ids_set)"
   ]
  },
  {
   "cell_type": "code",
   "execution_count": 14,
   "id": "4235b06a-6034-4ee4-a0a3-2ae35d122418",
   "metadata": {
    "execution": {
     "iopub.execute_input": "2022-12-05T17:04:16.773939Z",
     "iopub.status.busy": "2022-12-05T17:04:16.773583Z",
     "iopub.status.idle": "2022-12-05T17:04:17.158268Z",
     "shell.execute_reply": "2022-12-05T17:04:17.157684Z"
    },
    "papermill": {
     "duration": 0.396225,
     "end_time": "2022-12-05T17:04:17.159723",
     "exception": false,
     "start_time": "2022-12-05T17:04:16.763498",
     "status": "completed"
    },
    "tags": []
   },
   "outputs": [
    {
     "data": {
      "text/plain": [
       "['chr4_137644149_C_T_b38',\n",
       " 'chr20_18124688_G_A_b38',\n",
       " 'chr8_66411773_G_T_b38',\n",
       " 'chr14_81011093_A_G_b38',\n",
       " 'chr12_78994831_G_A_b38']"
      ]
     },
     "execution_count": 14,
     "metadata": {},
     "output_type": "execute_result"
    }
   ],
   "source": [
    "list(gwas_variants_ids_set)[:5]"
   ]
  },
  {
   "cell_type": "markdown",
   "id": "07866999-2305-41f9-a144-e69c9122c212",
   "metadata": {
    "papermill": {
     "duration": 0.010455,
     "end_time": "2022-12-05T17:04:17.180081",
     "exception": false,
     "start_time": "2022-12-05T17:04:17.169626",
     "status": "completed"
    },
    "tags": []
   },
   "source": [
    "## S-PrediXcan tissue models"
   ]
  },
  {
   "cell_type": "code",
   "execution_count": 15,
   "id": "780611d9-77c8-405f-90a4-f271f7b09397",
   "metadata": {
    "execution": {
     "iopub.execute_input": "2022-12-05T17:04:17.201301Z",
     "iopub.status.busy": "2022-12-05T17:04:17.200938Z",
     "iopub.status.idle": "2022-12-05T17:04:17.815259Z",
     "shell.execute_reply": "2022-12-05T17:04:17.814810Z"
    },
    "papermill": {
     "duration": 0.627102,
     "end_time": "2022-12-05T17:04:17.816978",
     "exception": false,
     "start_time": "2022-12-05T17:04:17.189876",
     "status": "completed"
    },
    "tags": []
   },
   "outputs": [],
   "source": [
    "spredixcan_genes_models = pd.read_pickle(OUTPUT_DIR_BASE / \"gene_tissues.pkl\")"
   ]
  },
  {
   "cell_type": "code",
   "execution_count": 16,
   "id": "726dd1f6-9557-4225-91fa-b3b879ea96e1",
   "metadata": {
    "execution": {
     "iopub.execute_input": "2022-12-05T17:04:17.838060Z",
     "iopub.status.busy": "2022-12-05T17:04:17.837878Z",
     "iopub.status.idle": "2022-12-05T17:04:17.851512Z",
     "shell.execute_reply": "2022-12-05T17:04:17.851011Z"
    },
    "papermill": {
     "duration": 0.026025,
     "end_time": "2022-12-05T17:04:17.853011",
     "exception": false,
     "start_time": "2022-12-05T17:04:17.826986",
     "status": "completed"
    },
    "tags": []
   },
   "outputs": [
    {
     "data": {
      "text/plain": [
       "(6443, 5)"
      ]
     },
     "execution_count": 16,
     "metadata": {},
     "output_type": "execute_result"
    }
   ],
   "source": [
    "spredixcan_genes_models.shape"
   ]
  },
  {
   "cell_type": "code",
   "execution_count": 17,
   "id": "944a1b48-222c-4eb0-b252-b9de2cbca215",
   "metadata": {
    "execution": {
     "iopub.execute_input": "2022-12-05T17:04:17.874742Z",
     "iopub.status.busy": "2022-12-05T17:04:17.874401Z",
     "iopub.status.idle": "2022-12-05T17:04:17.902769Z",
     "shell.execute_reply": "2022-12-05T17:04:17.902115Z"
    },
    "papermill": {
     "duration": 0.041234,
     "end_time": "2022-12-05T17:04:17.904220",
     "exception": false,
     "start_time": "2022-12-05T17:04:17.862986",
     "status": "completed"
    },
    "tags": []
   },
   "outputs": [
    {
     "data": {
      "text/html": [
       "<div>\n",
       "<style scoped>\n",
       "    .dataframe tbody tr th:only-of-type {\n",
       "        vertical-align: middle;\n",
       "    }\n",
       "\n",
       "    .dataframe tbody tr th {\n",
       "        vertical-align: top;\n",
       "    }\n",
       "\n",
       "    .dataframe thead th {\n",
       "        text-align: right;\n",
       "    }\n",
       "</style>\n",
       "<table border=\"1\" class=\"dataframe\">\n",
       "  <thead>\n",
       "    <tr style=\"text-align: right;\">\n",
       "      <th></th>\n",
       "      <th>gene_name</th>\n",
       "      <th>tissue</th>\n",
       "      <th>n_tissues</th>\n",
       "      <th>n_snps_used_sum</th>\n",
       "      <th>n_snps_in_model_sum</th>\n",
       "    </tr>\n",
       "    <tr>\n",
       "      <th>gene_id</th>\n",
       "      <th></th>\n",
       "      <th></th>\n",
       "      <th></th>\n",
       "      <th></th>\n",
       "      <th></th>\n",
       "    </tr>\n",
       "  </thead>\n",
       "  <tbody>\n",
       "    <tr>\n",
       "      <th>ENSG00000000419</th>\n",
       "      <td>DPM1</td>\n",
       "      <td>(Brain_Hypothalamus, Brain_Substantia_nigra)</td>\n",
       "      <td>2</td>\n",
       "      <td>2</td>\n",
       "      <td>2</td>\n",
       "    </tr>\n",
       "    <tr>\n",
       "      <th>ENSG00000000938</th>\n",
       "      <td>FGR</td>\n",
       "      <td>(Muscle_Skeletal, Colon_Sigmoid, Brain_Nucleus...</td>\n",
       "      <td>36</td>\n",
       "      <td>40</td>\n",
       "      <td>40</td>\n",
       "    </tr>\n",
       "    <tr>\n",
       "      <th>ENSG00000000971</th>\n",
       "      <td>CFH</td>\n",
       "      <td>(Colon_Sigmoid, Colon_Transverse, Esophagus_Ga...</td>\n",
       "      <td>34</td>\n",
       "      <td>44</td>\n",
       "      <td>44</td>\n",
       "    </tr>\n",
       "    <tr>\n",
       "      <th>ENSG00000001084</th>\n",
       "      <td>GCLC</td>\n",
       "      <td>(Muscle_Skeletal, Brain_Nucleus_accumbens_basa...</td>\n",
       "      <td>32</td>\n",
       "      <td>46</td>\n",
       "      <td>46</td>\n",
       "    </tr>\n",
       "    <tr>\n",
       "      <th>ENSG00000001167</th>\n",
       "      <td>NFYA</td>\n",
       "      <td>(Vagina, Muscle_Skeletal, Colon_Sigmoid, Brain...</td>\n",
       "      <td>40</td>\n",
       "      <td>47</td>\n",
       "      <td>48</td>\n",
       "    </tr>\n",
       "  </tbody>\n",
       "</table>\n",
       "</div>"
      ],
      "text/plain": [
       "                gene_name                                             tissue  \\\n",
       "gene_id                                                                        \n",
       "ENSG00000000419      DPM1       (Brain_Hypothalamus, Brain_Substantia_nigra)   \n",
       "ENSG00000000938       FGR  (Muscle_Skeletal, Colon_Sigmoid, Brain_Nucleus...   \n",
       "ENSG00000000971       CFH  (Colon_Sigmoid, Colon_Transverse, Esophagus_Ga...   \n",
       "ENSG00000001084      GCLC  (Muscle_Skeletal, Brain_Nucleus_accumbens_basa...   \n",
       "ENSG00000001167      NFYA  (Vagina, Muscle_Skeletal, Colon_Sigmoid, Brain...   \n",
       "\n",
       "                 n_tissues  n_snps_used_sum  n_snps_in_model_sum  \n",
       "gene_id                                                           \n",
       "ENSG00000000419          2                2                    2  \n",
       "ENSG00000000938         36               40                   40  \n",
       "ENSG00000000971         34               44                   44  \n",
       "ENSG00000001084         32               46                   46  \n",
       "ENSG00000001167         40               47                   48  "
      ]
     },
     "execution_count": 17,
     "metadata": {},
     "output_type": "execute_result"
    }
   ],
   "source": [
    "spredixcan_genes_models.head()"
   ]
  },
  {
   "cell_type": "code",
   "execution_count": 18,
   "id": "d1c11bb1-be0b-4f40-b360-633d6827109f",
   "metadata": {
    "execution": {
     "iopub.execute_input": "2022-12-05T17:04:17.925009Z",
     "iopub.status.busy": "2022-12-05T17:04:17.924489Z",
     "iopub.status.idle": "2022-12-05T17:04:17.945177Z",
     "shell.execute_reply": "2022-12-05T17:04:17.944518Z"
    },
    "papermill": {
     "duration": 0.032795,
     "end_time": "2022-12-05T17:04:17.946668",
     "exception": false,
     "start_time": "2022-12-05T17:04:17.913873",
     "status": "completed"
    },
    "tags": []
   },
   "outputs": [],
   "source": [
    "assert spredixcan_genes_models.index.is_unique"
   ]
  },
  {
   "cell_type": "markdown",
   "id": "a5b5092c-a13e-47c4-a92a-480fcc08f3ae",
   "metadata": {
    "papermill": {
     "duration": 0.009377,
     "end_time": "2022-12-05T17:04:17.965685",
     "exception": false,
     "start_time": "2022-12-05T17:04:17.956308",
     "status": "completed"
    },
    "tags": []
   },
   "source": [
    "## Gene info"
   ]
  },
  {
   "cell_type": "code",
   "execution_count": 19,
   "id": "7d6bb224-88e9-4358-ac10-43a41d92cdad",
   "metadata": {
    "execution": {
     "iopub.execute_input": "2022-12-05T17:04:17.985955Z",
     "iopub.status.busy": "2022-12-05T17:04:17.985483Z",
     "iopub.status.idle": "2022-12-05T17:04:18.008374Z",
     "shell.execute_reply": "2022-12-05T17:04:18.007693Z"
    },
    "papermill": {
     "duration": 0.034863,
     "end_time": "2022-12-05T17:04:18.009946",
     "exception": false,
     "start_time": "2022-12-05T17:04:17.975083",
     "status": "completed"
    },
    "tags": []
   },
   "outputs": [],
   "source": [
    "genes_info = pd.read_pickle(OUTPUT_DIR_BASE / \"genes_info.pkl\")"
   ]
  },
  {
   "cell_type": "code",
   "execution_count": 20,
   "id": "9e32abfa-546d-483e-8c18-d526e9e05903",
   "metadata": {
    "execution": {
     "iopub.execute_input": "2022-12-05T17:04:18.030509Z",
     "iopub.status.busy": "2022-12-05T17:04:18.030127Z",
     "iopub.status.idle": "2022-12-05T17:04:18.051510Z",
     "shell.execute_reply": "2022-12-05T17:04:18.050865Z"
    },
    "papermill": {
     "duration": 0.032981,
     "end_time": "2022-12-05T17:04:18.052942",
     "exception": false,
     "start_time": "2022-12-05T17:04:18.019961",
     "status": "completed"
    },
    "tags": []
   },
   "outputs": [
    {
     "data": {
      "text/plain": [
       "(6443, 7)"
      ]
     },
     "execution_count": 20,
     "metadata": {},
     "output_type": "execute_result"
    }
   ],
   "source": [
    "genes_info.shape"
   ]
  },
  {
   "cell_type": "code",
   "execution_count": 21,
   "id": "d16c3e92-85ec-468a-9a56-e25a9774a1cb",
   "metadata": {
    "execution": {
     "iopub.execute_input": "2022-12-05T17:04:18.074037Z",
     "iopub.status.busy": "2022-12-05T17:04:18.073490Z",
     "iopub.status.idle": "2022-12-05T17:04:18.098923Z",
     "shell.execute_reply": "2022-12-05T17:04:18.098283Z"
    },
    "papermill": {
     "duration": 0.037622,
     "end_time": "2022-12-05T17:04:18.100339",
     "exception": false,
     "start_time": "2022-12-05T17:04:18.062717",
     "status": "completed"
    },
    "tags": []
   },
   "outputs": [
    {
     "data": {
      "text/html": [
       "<div>\n",
       "<style scoped>\n",
       "    .dataframe tbody tr th:only-of-type {\n",
       "        vertical-align: middle;\n",
       "    }\n",
       "\n",
       "    .dataframe tbody tr th {\n",
       "        vertical-align: top;\n",
       "    }\n",
       "\n",
       "    .dataframe thead th {\n",
       "        text-align: right;\n",
       "    }\n",
       "</style>\n",
       "<table border=\"1\" class=\"dataframe\">\n",
       "  <thead>\n",
       "    <tr style=\"text-align: right;\">\n",
       "      <th></th>\n",
       "      <th>name</th>\n",
       "      <th>id</th>\n",
       "      <th>chr</th>\n",
       "      <th>band</th>\n",
       "      <th>start_position</th>\n",
       "      <th>end_position</th>\n",
       "      <th>gene_length</th>\n",
       "    </tr>\n",
       "  </thead>\n",
       "  <tbody>\n",
       "    <tr>\n",
       "      <th>0</th>\n",
       "      <td>IL2RB</td>\n",
       "      <td>ENSG00000100385</td>\n",
       "      <td>22</td>\n",
       "      <td>22q12.3</td>\n",
       "      <td>37125843</td>\n",
       "      <td>37175054</td>\n",
       "      <td>49211</td>\n",
       "    </tr>\n",
       "    <tr>\n",
       "      <th>1</th>\n",
       "      <td>ZNF208</td>\n",
       "      <td>ENSG00000160321</td>\n",
       "      <td>19</td>\n",
       "      <td>19p12</td>\n",
       "      <td>21932958</td>\n",
       "      <td>22010949</td>\n",
       "      <td>77991</td>\n",
       "    </tr>\n",
       "    <tr>\n",
       "      <th>2</th>\n",
       "      <td>CES1</td>\n",
       "      <td>ENSG00000198848</td>\n",
       "      <td>16</td>\n",
       "      <td>16q12.2</td>\n",
       "      <td>55802851</td>\n",
       "      <td>55833337</td>\n",
       "      <td>30486</td>\n",
       "    </tr>\n",
       "    <tr>\n",
       "      <th>3</th>\n",
       "      <td>XAB2</td>\n",
       "      <td>ENSG00000076924</td>\n",
       "      <td>19</td>\n",
       "      <td>19p13.2</td>\n",
       "      <td>7619525</td>\n",
       "      <td>7629545</td>\n",
       "      <td>10020</td>\n",
       "    </tr>\n",
       "    <tr>\n",
       "      <th>4</th>\n",
       "      <td>AQP1</td>\n",
       "      <td>ENSG00000240583</td>\n",
       "      <td>7</td>\n",
       "      <td>7p14.3</td>\n",
       "      <td>30911694</td>\n",
       "      <td>30925517</td>\n",
       "      <td>13823</td>\n",
       "    </tr>\n",
       "  </tbody>\n",
       "</table>\n",
       "</div>"
      ],
      "text/plain": [
       "     name               id  chr     band  start_position  end_position  \\\n",
       "0   IL2RB  ENSG00000100385   22  22q12.3        37125843      37175054   \n",
       "1  ZNF208  ENSG00000160321   19    19p12        21932958      22010949   \n",
       "2    CES1  ENSG00000198848   16  16q12.2        55802851      55833337   \n",
       "3    XAB2  ENSG00000076924   19  19p13.2         7619525       7629545   \n",
       "4    AQP1  ENSG00000240583    7   7p14.3        30911694      30925517   \n",
       "\n",
       "   gene_length  \n",
       "0        49211  \n",
       "1        77991  \n",
       "2        30486  \n",
       "3        10020  \n",
       "4        13823  "
      ]
     },
     "execution_count": 21,
     "metadata": {},
     "output_type": "execute_result"
    }
   ],
   "source": [
    "genes_info.head()"
   ]
  },
  {
   "cell_type": "markdown",
   "id": "d3843e06",
   "metadata": {
    "papermill": {
     "duration": 0.009705,
     "end_time": "2022-12-05T17:04:18.120139",
     "exception": false,
     "start_time": "2022-12-05T17:04:18.110434",
     "status": "completed"
    },
    "tags": []
   },
   "source": [
    "# Compute correlations"
   ]
  },
  {
   "cell_type": "code",
   "execution_count": 22,
   "id": "cb859c15-d1f3-4006-a74c-2b83c0db9611",
   "metadata": {
    "execution": {
     "iopub.execute_input": "2022-12-05T17:04:18.141493Z",
     "iopub.status.busy": "2022-12-05T17:04:18.140969Z",
     "iopub.status.idle": "2022-12-05T17:04:18.162743Z",
     "shell.execute_reply": "2022-12-05T17:04:18.162101Z"
    },
    "papermill": {
     "duration": 0.033706,
     "end_time": "2022-12-05T17:04:18.164144",
     "exception": false,
     "start_time": "2022-12-05T17:04:18.130438",
     "status": "completed"
    },
    "tags": []
   },
   "outputs": [
    {
     "data": {
      "text/plain": [
       "PosixPath('/opt/data/projects/asthma-copd/results/gls_phenoplier/gene_corrs/copd_only/by_chr/gene_corrs-chr8.pkl')"
      ]
     },
     "metadata": {},
     "output_type": "display_data"
    }
   ],
   "source": [
    "output_dir = OUTPUT_DIR_BASE / \"by_chr\"\n",
    "output_dir.mkdir(exist_ok=True, parents=True)\n",
    "output_file = output_dir / f\"gene_corrs-chr{CHROMOSOME}.pkl\"\n",
    "display(output_file)"
   ]
  },
  {
   "cell_type": "code",
   "execution_count": 23,
   "id": "aa674fe4-6794-4eed-98fa-32b39d1d4ace",
   "metadata": {
    "execution": {
     "iopub.execute_input": "2022-12-05T17:04:18.185465Z",
     "iopub.status.busy": "2022-12-05T17:04:18.185006Z",
     "iopub.status.idle": "2022-12-05T17:04:18.205049Z",
     "shell.execute_reply": "2022-12-05T17:04:18.204403Z"
    },
    "papermill": {
     "duration": 0.032137,
     "end_time": "2022-12-05T17:04:18.206469",
     "exception": false,
     "start_time": "2022-12-05T17:04:18.174332",
     "status": "completed"
    },
    "tags": []
   },
   "outputs": [],
   "source": [
    "warnings.filterwarnings(\"error\")"
   ]
  },
  {
   "cell_type": "code",
   "execution_count": 24,
   "id": "44d5450b-3baf-43f1-9e2e-4b06f1a785f8",
   "metadata": {
    "execution": {
     "iopub.execute_input": "2022-12-05T17:04:18.228261Z",
     "iopub.status.busy": "2022-12-05T17:04:18.227739Z",
     "iopub.status.idle": "2022-12-05T17:04:18.248559Z",
     "shell.execute_reply": "2022-12-05T17:04:18.247905Z"
    },
    "papermill": {
     "duration": 0.033011,
     "end_time": "2022-12-05T17:04:18.250041",
     "exception": false,
     "start_time": "2022-12-05T17:04:18.217030",
     "status": "completed"
    },
    "tags": []
   },
   "outputs": [],
   "source": [
    "# standard checks\n",
    "all_chrs = genes_info[\"chr\"].dropna().unique()\n",
    "assert all_chrs.shape[0] == 22\n",
    "\n",
    "# select chromosome given by the user\n",
    "assert CHROMOSOME in all_chrs"
   ]
  },
  {
   "cell_type": "code",
   "execution_count": 25,
   "id": "2d7c043c-92a7-4d35-991b-fa69ac1e0268",
   "metadata": {
    "execution": {
     "iopub.execute_input": "2022-12-05T17:04:18.272258Z",
     "iopub.status.busy": "2022-12-05T17:04:18.271792Z",
     "iopub.status.idle": "2022-12-05T17:04:18.294021Z",
     "shell.execute_reply": "2022-12-05T17:04:18.293364Z"
    },
    "papermill": {
     "duration": 0.034919,
     "end_time": "2022-12-05T17:04:18.295447",
     "exception": false,
     "start_time": "2022-12-05T17:04:18.260528",
     "status": "completed"
    },
    "tags": []
   },
   "outputs": [
    {
     "name": "stdout",
     "output_type": "stream",
     "text": [
      "Number of genes in chromosome: 222\n"
     ]
    }
   ],
   "source": [
    "# run only on the chromosome specified\n",
    "all_chrs = [CHROMOSOME]\n",
    "genes_chr = genes_info[genes_info[\"chr\"] == CHROMOSOME]\n",
    "\n",
    "# For testing purposes\n",
    "# genes_chr = genes_chr.sample(n=20)\n",
    "\n",
    "print(f\"Number of genes in chromosome: {genes_chr.shape[0]}\", flush=True)"
   ]
  },
  {
   "cell_type": "code",
   "execution_count": 26,
   "id": "916015d8-2979-46d3-a9b9-1cf5a0932c6a",
   "metadata": {
    "execution": {
     "iopub.execute_input": "2022-12-05T17:04:18.317146Z",
     "iopub.status.busy": "2022-12-05T17:04:18.316636Z",
     "iopub.status.idle": "2022-12-05T17:04:18.337310Z",
     "shell.execute_reply": "2022-12-05T17:04:18.336631Z"
    },
    "papermill": {
     "duration": 0.033001,
     "end_time": "2022-12-05T17:04:18.338884",
     "exception": false,
     "start_time": "2022-12-05T17:04:18.305883",
     "status": "completed"
    },
    "tags": []
   },
   "outputs": [],
   "source": [
    "# sort genes by starting position to make visualizations better later\n",
    "genes_chr = genes_chr.sort_values(\"start_position\")"
   ]
  },
  {
   "cell_type": "code",
   "execution_count": 27,
   "id": "a38aa74a-8ad3-47f6-8ef9-56be0e011774",
   "metadata": {
    "execution": {
     "iopub.execute_input": "2022-12-05T17:04:18.360872Z",
     "iopub.status.busy": "2022-12-05T17:04:18.360593Z",
     "iopub.status.idle": "2022-12-05T17:04:18.381428Z",
     "shell.execute_reply": "2022-12-05T17:04:18.380776Z"
    },
    "papermill": {
     "duration": 0.033652,
     "end_time": "2022-12-05T17:04:18.382903",
     "exception": false,
     "start_time": "2022-12-05T17:04:18.349251",
     "status": "completed"
    },
    "tags": []
   },
   "outputs": [],
   "source": [
    "gene_chr_objs = [Gene(ensembl_id=gene_id) for gene_id in genes_chr[\"id\"]]"
   ]
  },
  {
   "cell_type": "code",
   "execution_count": 28,
   "id": "570f974f-13c3-42b6-ad3a-ce99ca885c1a",
   "metadata": {
    "execution": {
     "iopub.execute_input": "2022-12-05T17:04:18.404410Z",
     "iopub.status.busy": "2022-12-05T17:04:18.404146Z",
     "iopub.status.idle": "2022-12-05T17:04:18.425159Z",
     "shell.execute_reply": "2022-12-05T17:04:18.424493Z"
    },
    "papermill": {
     "duration": 0.033201,
     "end_time": "2022-12-05T17:04:18.426558",
     "exception": false,
     "start_time": "2022-12-05T17:04:18.393357",
     "status": "completed"
    },
    "tags": []
   },
   "outputs": [
    {
     "name": "stdout",
     "output_type": "stream",
     "text": [
      "Number of gene combinations: 24753\n"
     ]
    }
   ],
   "source": [
    "n = len(gene_chr_objs)\n",
    "# diagonal elements + upper triangular matrix\n",
    "n_comb = n + int(n * (n - 1) / 2.0)\n",
    "print(f\"Number of gene combinations: {n_comb}\", flush=True)"
   ]
  },
  {
   "cell_type": "code",
   "execution_count": 29,
   "id": "cdbb90a1",
   "metadata": {
    "execution": {
     "iopub.execute_input": "2022-12-05T17:04:18.448865Z",
     "iopub.status.busy": "2022-12-05T17:04:18.448575Z",
     "iopub.status.idle": "2022-12-05T17:06:44.642459Z",
     "shell.execute_reply": "2022-12-05T17:06:44.641956Z"
    },
    "papermill": {
     "duration": 146.206059,
     "end_time": "2022-12-05T17:06:44.643615",
     "exception": false,
     "start_time": "2022-12-05T17:04:18.437556",
     "status": "completed"
    },
    "tags": []
   },
   "outputs": [
    {
     "name": "stderr",
     "output_type": "stream",
     "text": [
      "ENSG00000196150 / ENSG00000196150: 100%|█████████████████████| 24753/24753 [02:26<00:00, 169.36it/s]\n"
     ]
    },
    {
     "data": {
      "text/plain": [
       "PosixPath('/opt/data/projects/asthma-copd/results/gls_phenoplier/gene_corrs/copd_only/by_chr/gene_corrs-chr8.pkl')"
      ]
     },
     "metadata": {},
     "output_type": "display_data"
    }
   ],
   "source": [
    "gene_corrs = []\n",
    "gene_corrs_data = np.full(\n",
    "    (n, n),\n",
    "    np.nan,\n",
    "    dtype=np.float64,\n",
    ")\n",
    "\n",
    "i = 0\n",
    "with tqdm(ncols=100, total=n_comb) as pbar:\n",
    "    for gene1_idx in range(0, len(gene_chr_objs)):\n",
    "        gene1_obj = gene_chr_objs[gene1_idx]\n",
    "        gene1_tissues = spredixcan_genes_models.loc[gene1_obj.ensembl_id, \"tissue\"]\n",
    "\n",
    "        for gene2_idx in range(gene1_idx, len(gene_chr_objs)):\n",
    "            gene2_obj = gene_chr_objs[gene2_idx]\n",
    "            gene2_tissues = spredixcan_genes_models.loc[gene2_obj.ensembl_id, \"tissue\"]\n",
    "\n",
    "            pbar.set_description(f\"{gene1_obj.ensembl_id} / {gene2_obj.ensembl_id}\")\n",
    "\n",
    "            try:\n",
    "                r = gene1_obj.get_ssm_correlation(\n",
    "                    other_gene=gene2_obj,\n",
    "                    tissues=gene1_tissues,\n",
    "                    other_tissues=gene2_tissues,\n",
    "                    snps_subset=gwas_variants_ids_set,\n",
    "                    condition_number=SMULTIXCAN_CONDITION_NUMBER,\n",
    "                    reference_panel=REFERENCE_PANEL,\n",
    "                    model_type=EQTL_MODEL,\n",
    "                    use_within_distance=COMPUTE_CORRELATIONS_WITHIN_DISTANCE,\n",
    "                )\n",
    "\n",
    "                if r is None:\n",
    "                    # if r is None, it's very likely because:\n",
    "                    #  * one of the genes has no prediction models\n",
    "                    #  * all the SNPs predictors for the gene are not present in the reference\n",
    "                    #    panel\n",
    "\n",
    "                    r = 0.0\n",
    "\n",
    "                gene_corrs.append(r)\n",
    "\n",
    "                gene_corrs_data[gene1_idx, gene2_idx] = r\n",
    "                gene_corrs_data[gene2_idx, gene1_idx] = r\n",
    "            except Warning as e:\n",
    "                if not DEBUG_MODE:\n",
    "                    raise e\n",
    "\n",
    "                print(\n",
    "                    f\"RuntimeWarning for genes {gene1_obj.ensembl_id} and {gene2_obj.ensembl_id}\",\n",
    "                    flush=True,\n",
    "                )\n",
    "                print(traceback.format_exc(), flush=True)\n",
    "\n",
    "                gene_corrs.append(np.nan)\n",
    "            except Exception as e:\n",
    "                if not DEBUG_MODE:\n",
    "                    raise e\n",
    "\n",
    "                print(\n",
    "                    f\"Exception for genes {gene1_obj.ensembl_id} and {gene2_obj.ensembl_id}\",\n",
    "                    flush=True,\n",
    "                )\n",
    "                print(traceback.format_exc(), flush=True)\n",
    "\n",
    "                gene_corrs.append(np.nan)\n",
    "\n",
    "            pbar.update(1)\n",
    "\n",
    "# create a pandas series\n",
    "gene_corrs_flat = pd.Series(gene_corrs)\n",
    "\n",
    "# save\n",
    "# FIXME: consider saving only the condenced matrix here. See here for\n",
    "# more details: https://github.com/greenelab/phenoplier/pull/38#discussion_r634600813\n",
    "# gene_corrs_data = squareform(np.array(gene_corrs, dtype=np.float64))\n",
    "# np.fill_diagonal(gene_corrs_data, 1.0)\n",
    "\n",
    "gene_chr_ids = [g.ensembl_id for g in gene_chr_objs]\n",
    "gene_corrs_df = pd.DataFrame(\n",
    "    data=gene_corrs_data,\n",
    "    index=gene_chr_ids,\n",
    "    columns=gene_chr_ids,\n",
    ")\n",
    "\n",
    "output_dir.mkdir(exist_ok=True, parents=True)\n",
    "display(output_file)\n",
    "\n",
    "gene_corrs_df.to_pickle(output_file)"
   ]
  },
  {
   "cell_type": "markdown",
   "id": "faa67b51-5373-470f-aa72-2ded53fa6dfe",
   "metadata": {
    "papermill": {
     "duration": 0.783748,
     "end_time": "2022-12-05T17:06:46.192309",
     "exception": false,
     "start_time": "2022-12-05T17:06:45.408561",
     "status": "completed"
    },
    "tags": []
   },
   "source": [
    "# Testing"
   ]
  },
  {
   "cell_type": "code",
   "execution_count": 30,
   "id": "14f7d046-4b55-4896-a56b-990127bcc388",
   "metadata": {
    "execution": {
     "iopub.execute_input": "2022-12-05T17:06:47.698004Z",
     "iopub.status.busy": "2022-12-05T17:06:47.697742Z",
     "iopub.status.idle": "2022-12-05T17:06:47.716892Z",
     "shell.execute_reply": "2022-12-05T17:06:47.716347Z"
    },
    "papermill": {
     "duration": 0.77139,
     "end_time": "2022-12-05T17:06:47.717827",
     "exception": false,
     "start_time": "2022-12-05T17:06:46.946437",
     "status": "completed"
    },
    "tags": []
   },
   "outputs": [
    {
     "data": {
      "text/plain": [
       "(222, 222)"
      ]
     },
     "execution_count": 30,
     "metadata": {},
     "output_type": "execute_result"
    }
   ],
   "source": [
    "gene_corrs_df.shape"
   ]
  },
  {
   "cell_type": "code",
   "execution_count": 31,
   "id": "c7d15414-3297-4537-a7c6-7588c0baeb75",
   "metadata": {
    "execution": {
     "iopub.execute_input": "2022-12-05T17:06:49.237342Z",
     "iopub.status.busy": "2022-12-05T17:06:49.237053Z",
     "iopub.status.idle": "2022-12-05T17:06:49.280870Z",
     "shell.execute_reply": "2022-12-05T17:06:49.280170Z"
    },
    "papermill": {
     "duration": 0.803902,
     "end_time": "2022-12-05T17:06:49.281773",
     "exception": false,
     "start_time": "2022-12-05T17:06:48.477871",
     "status": "completed"
    },
    "tags": []
   },
   "outputs": [
    {
     "data": {
      "text/html": [
       "<div>\n",
       "<style scoped>\n",
       "    .dataframe tbody tr th:only-of-type {\n",
       "        vertical-align: middle;\n",
       "    }\n",
       "\n",
       "    .dataframe tbody tr th {\n",
       "        vertical-align: top;\n",
       "    }\n",
       "\n",
       "    .dataframe thead th {\n",
       "        text-align: right;\n",
       "    }\n",
       "</style>\n",
       "<table border=\"1\" class=\"dataframe\">\n",
       "  <thead>\n",
       "    <tr style=\"text-align: right;\">\n",
       "      <th></th>\n",
       "      <th>ENSG00000172748</th>\n",
       "      <th>ENSG00000182372</th>\n",
       "      <th>ENSG00000104728</th>\n",
       "      <th>ENSG00000036448</th>\n",
       "      <th>ENSG00000091879</th>\n",
       "      <th>ENSG00000155189</th>\n",
       "      <th>ENSG00000164821</th>\n",
       "      <th>ENSG00000253958</th>\n",
       "      <th>ENSG00000147324</th>\n",
       "      <th>ENSG00000173281</th>\n",
       "      <th>...</th>\n",
       "      <th>ENSG00000071894</th>\n",
       "      <th>ENSG00000147804</th>\n",
       "      <th>ENSG00000160948</th>\n",
       "      <th>ENSG00000160949</th>\n",
       "      <th>ENSG00000187954</th>\n",
       "      <th>ENSG00000160972</th>\n",
       "      <th>ENSG00000167701</th>\n",
       "      <th>ENSG00000161016</th>\n",
       "      <th>ENSG00000197363</th>\n",
       "      <th>ENSG00000196150</th>\n",
       "    </tr>\n",
       "  </thead>\n",
       "  <tbody>\n",
       "    <tr>\n",
       "      <th>ENSG00000172748</th>\n",
       "      <td>1.000000</td>\n",
       "      <td>0.008203</td>\n",
       "      <td>0.012194</td>\n",
       "      <td>0.010156</td>\n",
       "      <td>0.000000</td>\n",
       "      <td>0.000000</td>\n",
       "      <td>0.000000</td>\n",
       "      <td>0.000000</td>\n",
       "      <td>0.000000</td>\n",
       "      <td>0.000000</td>\n",
       "      <td>...</td>\n",
       "      <td>0.0</td>\n",
       "      <td>0.0</td>\n",
       "      <td>0.0</td>\n",
       "      <td>0.0</td>\n",
       "      <td>0.0</td>\n",
       "      <td>0.0</td>\n",
       "      <td>0.0</td>\n",
       "      <td>0.0</td>\n",
       "      <td>0.0</td>\n",
       "      <td>0.0</td>\n",
       "    </tr>\n",
       "    <tr>\n",
       "      <th>ENSG00000182372</th>\n",
       "      <td>0.008203</td>\n",
       "      <td>1.000000</td>\n",
       "      <td>0.182559</td>\n",
       "      <td>0.009172</td>\n",
       "      <td>0.007909</td>\n",
       "      <td>0.006291</td>\n",
       "      <td>0.000000</td>\n",
       "      <td>0.000000</td>\n",
       "      <td>0.000000</td>\n",
       "      <td>0.000000</td>\n",
       "      <td>...</td>\n",
       "      <td>0.0</td>\n",
       "      <td>0.0</td>\n",
       "      <td>0.0</td>\n",
       "      <td>0.0</td>\n",
       "      <td>0.0</td>\n",
       "      <td>0.0</td>\n",
       "      <td>0.0</td>\n",
       "      <td>0.0</td>\n",
       "      <td>0.0</td>\n",
       "      <td>0.0</td>\n",
       "    </tr>\n",
       "    <tr>\n",
       "      <th>ENSG00000104728</th>\n",
       "      <td>0.012194</td>\n",
       "      <td>0.182559</td>\n",
       "      <td>1.000000</td>\n",
       "      <td>0.029586</td>\n",
       "      <td>0.015373</td>\n",
       "      <td>0.016621</td>\n",
       "      <td>0.014423</td>\n",
       "      <td>0.000000</td>\n",
       "      <td>0.000000</td>\n",
       "      <td>0.000000</td>\n",
       "      <td>...</td>\n",
       "      <td>0.0</td>\n",
       "      <td>0.0</td>\n",
       "      <td>0.0</td>\n",
       "      <td>0.0</td>\n",
       "      <td>0.0</td>\n",
       "      <td>0.0</td>\n",
       "      <td>0.0</td>\n",
       "      <td>0.0</td>\n",
       "      <td>0.0</td>\n",
       "      <td>0.0</td>\n",
       "    </tr>\n",
       "    <tr>\n",
       "      <th>ENSG00000036448</th>\n",
       "      <td>0.010156</td>\n",
       "      <td>0.009172</td>\n",
       "      <td>0.029586</td>\n",
       "      <td>1.000000</td>\n",
       "      <td>0.008107</td>\n",
       "      <td>0.010894</td>\n",
       "      <td>0.007994</td>\n",
       "      <td>0.000000</td>\n",
       "      <td>0.000000</td>\n",
       "      <td>0.000000</td>\n",
       "      <td>...</td>\n",
       "      <td>0.0</td>\n",
       "      <td>0.0</td>\n",
       "      <td>0.0</td>\n",
       "      <td>0.0</td>\n",
       "      <td>0.0</td>\n",
       "      <td>0.0</td>\n",
       "      <td>0.0</td>\n",
       "      <td>0.0</td>\n",
       "      <td>0.0</td>\n",
       "      <td>0.0</td>\n",
       "    </tr>\n",
       "    <tr>\n",
       "      <th>ENSG00000091879</th>\n",
       "      <td>0.000000</td>\n",
       "      <td>0.007909</td>\n",
       "      <td>0.015373</td>\n",
       "      <td>0.008107</td>\n",
       "      <td>1.000000</td>\n",
       "      <td>0.098748</td>\n",
       "      <td>0.032149</td>\n",
       "      <td>0.005413</td>\n",
       "      <td>0.011595</td>\n",
       "      <td>0.006861</td>\n",
       "      <td>...</td>\n",
       "      <td>0.0</td>\n",
       "      <td>0.0</td>\n",
       "      <td>0.0</td>\n",
       "      <td>0.0</td>\n",
       "      <td>0.0</td>\n",
       "      <td>0.0</td>\n",
       "      <td>0.0</td>\n",
       "      <td>0.0</td>\n",
       "      <td>0.0</td>\n",
       "      <td>0.0</td>\n",
       "    </tr>\n",
       "  </tbody>\n",
       "</table>\n",
       "<p>5 rows × 222 columns</p>\n",
       "</div>"
      ],
      "text/plain": [
       "                 ENSG00000172748  ENSG00000182372  ENSG00000104728  \\\n",
       "ENSG00000172748         1.000000         0.008203         0.012194   \n",
       "ENSG00000182372         0.008203         1.000000         0.182559   \n",
       "ENSG00000104728         0.012194         0.182559         1.000000   \n",
       "ENSG00000036448         0.010156         0.009172         0.029586   \n",
       "ENSG00000091879         0.000000         0.007909         0.015373   \n",
       "\n",
       "                 ENSG00000036448  ENSG00000091879  ENSG00000155189  \\\n",
       "ENSG00000172748         0.010156         0.000000         0.000000   \n",
       "ENSG00000182372         0.009172         0.007909         0.006291   \n",
       "ENSG00000104728         0.029586         0.015373         0.016621   \n",
       "ENSG00000036448         1.000000         0.008107         0.010894   \n",
       "ENSG00000091879         0.008107         1.000000         0.098748   \n",
       "\n",
       "                 ENSG00000164821  ENSG00000253958  ENSG00000147324  \\\n",
       "ENSG00000172748         0.000000         0.000000         0.000000   \n",
       "ENSG00000182372         0.000000         0.000000         0.000000   \n",
       "ENSG00000104728         0.014423         0.000000         0.000000   \n",
       "ENSG00000036448         0.007994         0.000000         0.000000   \n",
       "ENSG00000091879         0.032149         0.005413         0.011595   \n",
       "\n",
       "                 ENSG00000173281  ...  ENSG00000071894  ENSG00000147804  \\\n",
       "ENSG00000172748         0.000000  ...              0.0              0.0   \n",
       "ENSG00000182372         0.000000  ...              0.0              0.0   \n",
       "ENSG00000104728         0.000000  ...              0.0              0.0   \n",
       "ENSG00000036448         0.000000  ...              0.0              0.0   \n",
       "ENSG00000091879         0.006861  ...              0.0              0.0   \n",
       "\n",
       "                 ENSG00000160948  ENSG00000160949  ENSG00000187954  \\\n",
       "ENSG00000172748              0.0              0.0              0.0   \n",
       "ENSG00000182372              0.0              0.0              0.0   \n",
       "ENSG00000104728              0.0              0.0              0.0   \n",
       "ENSG00000036448              0.0              0.0              0.0   \n",
       "ENSG00000091879              0.0              0.0              0.0   \n",
       "\n",
       "                 ENSG00000160972  ENSG00000167701  ENSG00000161016  \\\n",
       "ENSG00000172748              0.0              0.0              0.0   \n",
       "ENSG00000182372              0.0              0.0              0.0   \n",
       "ENSG00000104728              0.0              0.0              0.0   \n",
       "ENSG00000036448              0.0              0.0              0.0   \n",
       "ENSG00000091879              0.0              0.0              0.0   \n",
       "\n",
       "                 ENSG00000197363  ENSG00000196150  \n",
       "ENSG00000172748              0.0              0.0  \n",
       "ENSG00000182372              0.0              0.0  \n",
       "ENSG00000104728              0.0              0.0  \n",
       "ENSG00000036448              0.0              0.0  \n",
       "ENSG00000091879              0.0              0.0  \n",
       "\n",
       "[5 rows x 222 columns]"
      ]
     },
     "execution_count": 31,
     "metadata": {},
     "output_type": "execute_result"
    }
   ],
   "source": [
    "gene_corrs_df.head()"
   ]
  },
  {
   "cell_type": "markdown",
   "id": "dad6603f-01c6-41fb-a6f6-241051207dd8",
   "metadata": {
    "papermill": {
     "duration": 0.745987,
     "end_time": "2022-12-05T17:06:50.774830",
     "exception": false,
     "start_time": "2022-12-05T17:06:50.028843",
     "status": "completed"
    },
    "tags": []
   },
   "source": [
    "## Standard checks and stats"
   ]
  },
  {
   "cell_type": "code",
   "execution_count": 32,
   "id": "286686af-1b7b-4440-8453-6bdcbd8de19c",
   "metadata": {
    "execution": {
     "iopub.execute_input": "2022-12-05T17:06:52.289720Z",
     "iopub.status.busy": "2022-12-05T17:06:52.289382Z",
     "iopub.status.idle": "2022-12-05T17:06:52.313618Z",
     "shell.execute_reply": "2022-12-05T17:06:52.312885Z"
    },
    "papermill": {
     "duration": 0.793046,
     "end_time": "2022-12-05T17:06:52.314567",
     "exception": false,
     "start_time": "2022-12-05T17:06:51.521521",
     "status": "completed"
    },
    "tags": []
   },
   "outputs": [],
   "source": [
    "assert not gene_corrs_df.isna().any(axis=None)"
   ]
  },
  {
   "cell_type": "code",
   "execution_count": 33,
   "id": "00583efc-7068-4270-ad1e-4a418e91db96",
   "metadata": {
    "execution": {
     "iopub.execute_input": "2022-12-05T17:06:53.819370Z",
     "iopub.status.busy": "2022-12-05T17:06:53.818949Z",
     "iopub.status.idle": "2022-12-05T17:06:53.843265Z",
     "shell.execute_reply": "2022-12-05T17:06:53.842667Z"
    },
    "papermill": {
     "duration": 0.782449,
     "end_time": "2022-12-05T17:06:53.844150",
     "exception": false,
     "start_time": "2022-12-05T17:06:53.061701",
     "status": "completed"
    },
    "tags": []
   },
   "outputs": [
    {
     "data": {
      "text/plain": [
       "0.0"
      ]
     },
     "metadata": {},
     "output_type": "display_data"
    }
   ],
   "source": [
    "_min_val = gene_corrs_df.min().min()\n",
    "display(_min_val)\n",
    "assert _min_val >= -0.05"
   ]
  },
  {
   "cell_type": "code",
   "execution_count": 34,
   "id": "d04fb2cf-1050-475b-b855-f5f7cc04092b",
   "metadata": {
    "execution": {
     "iopub.execute_input": "2022-12-05T17:06:55.341820Z",
     "iopub.status.busy": "2022-12-05T17:06:55.341319Z",
     "iopub.status.idle": "2022-12-05T17:06:55.366328Z",
     "shell.execute_reply": "2022-12-05T17:06:55.365753Z"
    },
    "papermill": {
     "duration": 0.769038,
     "end_time": "2022-12-05T17:06:55.367236",
     "exception": false,
     "start_time": "2022-12-05T17:06:54.598198",
     "status": "completed"
    },
    "tags": []
   },
   "outputs": [
    {
     "data": {
      "text/plain": [
       "1.0000000000000029"
      ]
     },
     "metadata": {},
     "output_type": "display_data"
    }
   ],
   "source": [
    "_max_val = gene_corrs_df.max().max()  # this captures the diagonal\n",
    "display(_max_val)\n",
    "assert _max_val <= 1.05"
   ]
  },
  {
   "cell_type": "code",
   "execution_count": 35,
   "id": "fe283586-c348-40e0-8841-f6d97bfb021c",
   "metadata": {
    "execution": {
     "iopub.execute_input": "2022-12-05T17:06:56.891964Z",
     "iopub.status.busy": "2022-12-05T17:06:56.891645Z",
     "iopub.status.idle": "2022-12-05T17:06:56.920228Z",
     "shell.execute_reply": "2022-12-05T17:06:56.919571Z"
    },
    "papermill": {
     "duration": 0.798123,
     "end_time": "2022-12-05T17:06:56.921191",
     "exception": false,
     "start_time": "2022-12-05T17:06:56.123068",
     "status": "completed"
    },
    "tags": []
   },
   "outputs": [
    {
     "data": {
      "text/plain": [
       "count    24753.000000\n",
       "mean         0.011379\n",
       "std          0.097221\n",
       "min          0.000000\n",
       "25%          0.000000\n",
       "50%          0.000000\n",
       "75%          0.000000\n",
       "max          1.000000\n",
       "dtype: float64"
      ]
     },
     "execution_count": 35,
     "metadata": {},
     "output_type": "execute_result"
    }
   ],
   "source": [
    "gene_corrs_flat.describe()"
   ]
  },
  {
   "cell_type": "code",
   "execution_count": 36,
   "id": "b3815678-0f93-4b35-897b-a9d047a2aa78",
   "metadata": {
    "execution": {
     "iopub.execute_input": "2022-12-05T17:06:58.449481Z",
     "iopub.status.busy": "2022-12-05T17:06:58.448799Z",
     "iopub.status.idle": "2022-12-05T17:06:58.477376Z",
     "shell.execute_reply": "2022-12-05T17:06:58.476712Z"
    },
    "papermill": {
     "duration": 0.795945,
     "end_time": "2022-12-05T17:06:58.478317",
     "exception": false,
     "start_time": "2022-12-05T17:06:57.682372",
     "status": "completed"
    },
    "tags": []
   },
   "outputs": [
    {
     "data": {
      "text/plain": [
       "0.00    0.000000\n",
       "0.05    0.000000\n",
       "0.10    0.000000\n",
       "0.15    0.000000\n",
       "0.20    0.000000\n",
       "0.25    0.000000\n",
       "0.30    0.000000\n",
       "0.35    0.000000\n",
       "0.40    0.000000\n",
       "0.45    0.000000\n",
       "0.50    0.000000\n",
       "0.55    0.000000\n",
       "0.60    0.000000\n",
       "0.65    0.000000\n",
       "0.70    0.000000\n",
       "0.75    0.000000\n",
       "0.80    0.000000\n",
       "0.85    0.000000\n",
       "0.90    0.000000\n",
       "0.95    0.007895\n",
       "dtype: float64"
      ]
     },
     "metadata": {},
     "output_type": "display_data"
    }
   ],
   "source": [
    "gene_corrs_quantiles = gene_corrs_flat.quantile(np.arange(0, 1, 0.05))\n",
    "display(gene_corrs_quantiles)"
   ]
  },
  {
   "cell_type": "markdown",
   "id": "87134509-b145-4a10-8bc9-b7e914c2b0fa",
   "metadata": {
    "papermill": {
     "duration": 0.758878,
     "end_time": "2022-12-05T17:07:00.011374",
     "exception": false,
     "start_time": "2022-12-05T17:06:59.252496",
     "status": "completed"
    },
    "tags": []
   },
   "source": [
    "## Positive definiteness"
   ]
  },
  {
   "cell_type": "code",
   "execution_count": 37,
   "id": "07d9a9a1-a4f7-48aa-b916-6d42a8cc6186",
   "metadata": {
    "execution": {
     "iopub.execute_input": "2022-12-05T17:07:01.523708Z",
     "iopub.status.busy": "2022-12-05T17:07:01.523294Z",
     "iopub.status.idle": "2022-12-05T17:07:01.560626Z",
     "shell.execute_reply": "2022-12-05T17:07:01.559953Z"
    },
    "papermill": {
     "duration": 0.796705,
     "end_time": "2022-12-05T17:07:01.561566",
     "exception": false,
     "start_time": "2022-12-05T17:07:00.764861",
     "status": "completed"
    },
    "tags": []
   },
   "outputs": [
    {
     "data": {
      "text/plain": [
       "0"
      ]
     },
     "metadata": {},
     "output_type": "display_data"
    },
    {
     "data": {
      "text/plain": [
       "array([], dtype=float64)"
      ]
     },
     "metadata": {},
     "output_type": "display_data"
    }
   ],
   "source": [
    "# print negative eigenvalues\n",
    "eigs = np.linalg.eigvals(gene_corrs_df.to_numpy())\n",
    "display(len(eigs[eigs < 0]))\n",
    "display(eigs[eigs < 0])"
   ]
  },
  {
   "cell_type": "code",
   "execution_count": 38,
   "id": "6e218436-c3c5-4028-8c94-a4fa6260efce",
   "metadata": {
    "execution": {
     "iopub.execute_input": "2022-12-05T17:07:03.089061Z",
     "iopub.status.busy": "2022-12-05T17:07:03.088591Z",
     "iopub.status.idle": "2022-12-05T17:07:03.116263Z",
     "shell.execute_reply": "2022-12-05T17:07:03.115519Z"
    },
    "papermill": {
     "duration": 0.805039,
     "end_time": "2022-12-05T17:07:03.117222",
     "exception": false,
     "start_time": "2022-12-05T17:07:02.312183",
     "status": "completed"
    },
    "tags": []
   },
   "outputs": [
    {
     "name": "stdout",
     "output_type": "stream",
     "text": [
      "Works!\n"
     ]
    }
   ],
   "source": [
    "try:\n",
    "    chol_mat = np.linalg.cholesky(gene_corrs_df.to_numpy())\n",
    "    cov_inv = np.linalg.inv(chol_mat)\n",
    "    print(\"Works!\")\n",
    "except Exception as e:\n",
    "    print(f\"Cholesky decomposition failed: {str(e)}\")"
   ]
  },
  {
   "cell_type": "code",
   "execution_count": 39,
   "id": "dd8827fb-faf9-4c7c-9454-015e94752706",
   "metadata": {
    "execution": {
     "iopub.execute_input": "2022-12-05T17:07:04.641490Z",
     "iopub.status.busy": "2022-12-05T17:07:04.641060Z",
     "iopub.status.idle": "2022-12-05T17:07:04.670158Z",
     "shell.execute_reply": "2022-12-05T17:07:04.669392Z"
    },
    "papermill": {
     "duration": 0.790448,
     "end_time": "2022-12-05T17:07:04.671088",
     "exception": false,
     "start_time": "2022-12-05T17:07:03.880640",
     "status": "completed"
    },
    "tags": []
   },
   "outputs": [
    {
     "name": "stdout",
     "output_type": "stream",
     "text": [
      "Works!\n"
     ]
    }
   ],
   "source": [
    "try:\n",
    "    # decomposition used by statsmodels.GLS\n",
    "    cholsigmainv = np.linalg.cholesky(np.linalg.inv(gene_corrs_df.to_numpy())).T\n",
    "    print(\"Works!\")\n",
    "except Exception as e:\n",
    "    print(f\"Cholesky decomposition failed (statsmodels.GLS): {str(e)}\")"
   ]
  },
  {
   "cell_type": "markdown",
   "id": "8e60a080-edb2-4e9c-b2ef-22961693200c",
   "metadata": {
    "papermill": {
     "duration": 0.762649,
     "end_time": "2022-12-05T17:07:06.200143",
     "exception": false,
     "start_time": "2022-12-05T17:07:05.437494",
     "status": "completed"
    },
    "tags": []
   },
   "source": [
    "## Plot: distribution"
   ]
  },
  {
   "cell_type": "code",
   "execution_count": 40,
   "id": "8301126b-a7d4-4744-9c7d-f0f86eb6f54c",
   "metadata": {
    "execution": {
     "iopub.execute_input": "2022-12-05T17:07:07.729310Z",
     "iopub.status.busy": "2022-12-05T17:07:07.728505Z",
     "iopub.status.idle": "2022-12-05T17:07:08.022259Z",
     "shell.execute_reply": "2022-12-05T17:07:08.021675Z"
    },
    "papermill": {
     "duration": 1.065024,
     "end_time": "2022-12-05T17:07:08.023985",
     "exception": false,
     "start_time": "2022-12-05T17:07:06.958961",
     "status": "completed"
    },
    "tags": []
   },
   "outputs": [
    {
     "data": {
      "image/png": "[encoded data removed]",
      "text/plain": [
       "<Figure size 700x700 with 1 Axes>"
      ]
     },
     "metadata": {},
     "output_type": "display_data"
    }
   ],
   "source": [
    "with sns.plotting_context(\"paper\", font_scale=1.5):\n",
    "    g = sns.displot(gene_corrs_flat, kde=True, height=7)\n",
    "    g.ax.set_title(\n",
    "        f\"Distribution of gene correlation values in chromosome {CHROMOSOME}\"\n",
    "    )"
   ]
  },
  {
   "cell_type": "markdown",
   "id": "cbd52bca-d878-4a2f-b684-5c83aa3038d4",
   "metadata": {
    "papermill": {
     "duration": 0.763361,
     "end_time": "2022-12-05T17:07:09.600246",
     "exception": false,
     "start_time": "2022-12-05T17:07:08.836885",
     "status": "completed"
    },
    "tags": []
   },
   "source": [
    "## Plot: heatmap"
   ]
  },
  {
   "cell_type": "code",
   "execution_count": 41,
   "id": "d03fe63a-c7b2-4fb9-a53c-db362ce843c9",
   "metadata": {
    "execution": {
     "iopub.execute_input": "2022-12-05T17:07:11.158274Z",
     "iopub.status.busy": "2022-12-05T17:07:11.157611Z",
     "iopub.status.idle": "2022-12-05T17:07:11.179123Z",
     "shell.execute_reply": "2022-12-05T17:07:11.178457Z"
    },
    "papermill": {
     "duration": 0.785924,
     "end_time": "2022-12-05T17:07:11.180001",
     "exception": false,
     "start_time": "2022-12-05T17:07:10.394077",
     "status": "completed"
    },
    "tags": []
   },
   "outputs": [
    {
     "data": {
      "text/plain": [
       "'0.0 / 0.05'"
      ]
     },
     "metadata": {},
     "output_type": "display_data"
    }
   ],
   "source": [
    "vmin_val = min(0.00, gene_corrs_quantiles[0.10])\n",
    "vmax_val = max(0.05, gene_corrs_quantiles[0.90])\n",
    "display(f\"{vmin_val} / {vmax_val}\")"
   ]
  },
  {
   "cell_type": "code",
   "execution_count": 42,
   "id": "dc41b70b-5bcc-4d9e-9f33-a22c4a94dab5",
   "metadata": {
    "execution": {
     "iopub.execute_input": "2022-12-05T17:07:12.711985Z",
     "iopub.status.busy": "2022-12-05T17:07:12.711234Z",
     "iopub.status.idle": "2022-12-05T17:07:12.919446Z",
     "shell.execute_reply": "2022-12-05T17:07:12.918946Z"
    },
    "papermill": {
     "duration": 0.975915,
     "end_time": "2022-12-05T17:07:12.920284",
     "exception": false,
     "start_time": "2022-12-05T17:07:11.944369",
     "status": "completed"
    },
    "tags": []
   },
   "outputs": [
    {
     "data": {
      "text/plain": [
       "Text(0.5, 1.0, 'Gene correlations in chromosome 8')"
      ]
     },
     "execution_count": 42,
     "metadata": {},
     "output_type": "execute_result"
    },
    {
     "data": {
      "image/png": "[encoded data removed]",
      "text/plain": [
       "<Figure size 1000x1000 with 2 Axes>"
      ]
     },
     "metadata": {},
     "output_type": "display_data"
    }
   ],
   "source": [
    "f, ax = plt.subplots(figsize=(10, 10))\n",
    "sns.heatmap(\n",
    "    gene_corrs_df,\n",
    "    xticklabels=False,\n",
    "    yticklabels=False,\n",
    "    square=True,\n",
    "    vmin=vmin_val,\n",
    "    vmax=vmax_val,\n",
    "    cmap=\"rocket_r\",\n",
    "    ax=ax,\n",
    ")\n",
    "ax.set_title(f\"Gene correlations in chromosome {CHROMOSOME}\")"
   ]
  },
  {
   "cell_type": "code",
   "execution_count": null,
   "id": "b25e3ead",
   "metadata": {
    "papermill": {
     "duration": 0.771621,
     "end_time": "2022-12-05T17:07:14.508745",
     "exception": false,
     "start_time": "2022-12-05T17:07:13.737124",
     "status": "completed"
    },
    "tags": []
   },
   "outputs": [],
   "source": []
  }
 ],
 "metadata": {
  "jupytext": {
   "cell_metadata_filter": "all,-execution,-papermill,-trusted",
   "formats": "ipynb,py//py:percent"
  },
  "kernelspec": {
   "display_name": "Python 3 (ipykernel)",
   "language": "python",
   "name": "python3"
  },
  "language_info": {
   "codemirror_mode": {
    "name": "ipython",
    "version": 3
   },
   "file_extension": ".py",
   "mimetype": "text/x-python",
   "name": "python",
   "nbconvert_exporter": "python",
   "pygments_lexer": "ipython3",
   "version": "3.10.6"
  },
  "papermill": {
   "default_parameters": {},
   "duration": 185.944407,
   "end_time": "2022-12-05T17:07:18.568021",
   "environment_variables": {},
   "exception": null,
   "input_path": "projects/asthma-copd/nbs/20_gene_corrs/jobs/05-gene_expr_correlations.ipynb",
   "output_path": "projects/asthma-copd/nbs/20_gene_corrs/jobs/../output/copd_only/05-gene_expr_correlations-chr8.run.ipynb",
   "parameters": {
    "CHROMOSOME": 8,
    "COHORT_NAME": "copd_only",
    "OUTPUT_DIR_BASE": "/opt/data/projects/asthma-copd/results/gls_phenoplier",
    "PHENOPLIER_NOTEBOOK_FILEPATH": "projects/asthma-copd/nbs/20_gene_corrs/jobs/05-gene_expr_correlations.ipynb"
   },
   "start_time": "2022-12-05T17:04:12.623614",
   "version": "2.2.2"
  }
 },
 "nbformat": 4,
 "nbformat_minor": 5
}
