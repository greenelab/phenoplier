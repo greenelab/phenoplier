{
 "cells": [
  {
   "cell_type": "markdown",
   "id": "5ef66977",
   "metadata": {
    "papermill": {
     "duration": 0.011837,
     "end_time": "2022-12-05T18:46:54.632186",
     "exception": false,
     "start_time": "2022-12-05T18:46:54.620349",
     "status": "completed"
    },
    "tags": []
   },
   "source": [
    "# Description"
   ]
  },
  {
   "cell_type": "markdown",
   "id": "658d4f7c",
   "metadata": {
    "papermill": {
     "duration": 0.011185,
     "end_time": "2022-12-05T18:46:54.654516",
     "exception": false,
     "start_time": "2022-12-05T18:46:54.643331",
     "status": "completed"
    },
    "tags": []
   },
   "source": [
    "(Please, take a look at the README.md file in this directory for instructions on how to run this notebook)\n",
    "\n",
    "This notebook reads all gene correlations across all chromosomes and computes a single correlation matrix by assembling a big correlation matrix with all genes.\n",
    "\n",
    "It has specicfic parameters for papermill (see under `Settings` below).\n",
    "\n",
    "This notebook is not directly run. See README.md."
   ]
  },
  {
   "cell_type": "markdown",
   "id": "60fa4530",
   "metadata": {
    "papermill": {
     "duration": 0.010836,
     "end_time": "2022-12-05T18:46:54.677047",
     "exception": false,
     "start_time": "2022-12-05T18:46:54.666211",
     "status": "completed"
    },
    "tags": []
   },
   "source": [
    "# Modules"
   ]
  },
  {
   "cell_type": "code",
   "execution_count": 1,
   "id": "d70b0833",
   "metadata": {
    "execution": {
     "iopub.execute_input": "2022-12-05T18:46:54.700471Z",
     "iopub.status.busy": "2022-12-05T18:46:54.700063Z",
     "iopub.status.idle": "2022-12-05T18:46:54.719039Z",
     "shell.execute_reply": "2022-12-05T18:46:54.718271Z"
    },
    "papermill": {
     "duration": 0.032106,
     "end_time": "2022-12-05T18:46:54.720030",
     "exception": false,
     "start_time": "2022-12-05T18:46:54.687924",
     "status": "completed"
    },
    "tags": []
   },
   "outputs": [],
   "source": [
    "%load_ext autoreload\n",
    "%autoreload 2"
   ]
  },
  {
   "cell_type": "code",
   "execution_count": 2,
   "id": "6b2f9ca0",
   "metadata": {
    "execution": {
     "iopub.execute_input": "2022-12-05T18:46:54.732528Z",
     "iopub.status.busy": "2022-12-05T18:46:54.732131Z",
     "iopub.status.idle": "2022-12-05T18:46:55.421096Z",
     "shell.execute_reply": "2022-12-05T18:46:55.420523Z"
    },
    "papermill": {
     "duration": 0.697022,
     "end_time": "2022-12-05T18:46:55.422807",
     "exception": false,
     "start_time": "2022-12-05T18:46:54.725785",
     "status": "completed"
    },
    "tags": []
   },
   "outputs": [],
   "source": [
    "import pickle\n",
    "from pathlib import Path\n",
    "\n",
    "import numpy as np\n",
    "from scipy.spatial.distance import squareform\n",
    "import pandas as pd\n",
    "import matplotlib.pyplot as plt\n",
    "import seaborn as sns\n",
    "\n",
    "import conf\n",
    "from entity import Gene\n",
    "from correlations import (\n",
    "    check_pos_def,\n",
    "    compare_matrices,\n",
    "    correct_corr_mat,\n",
    "    adjust_non_pos_def,\n",
    ")"
   ]
  },
  {
   "cell_type": "markdown",
   "id": "5b96e797",
   "metadata": {
    "papermill": {
     "duration": 0.011356,
     "end_time": "2022-12-05T18:46:55.445850",
     "exception": false,
     "start_time": "2022-12-05T18:46:55.434494",
     "status": "completed"
    },
    "tags": []
   },
   "source": [
    "# Settings"
   ]
  },
  {
   "cell_type": "code",
   "execution_count": 3,
   "id": "4fc1b6a0",
   "metadata": {
    "execution": {
     "iopub.execute_input": "2022-12-05T18:46:55.468600Z",
     "iopub.status.busy": "2022-12-05T18:46:55.468460Z",
     "iopub.status.idle": "2022-12-05T18:46:55.481048Z",
     "shell.execute_reply": "2022-12-05T18:46:55.480511Z"
    },
    "papermill": {
     "duration": 0.025755,
     "end_time": "2022-12-05T18:46:55.482543",
     "exception": false,
     "start_time": "2022-12-05T18:46:55.456788",
     "status": "completed"
    },
    "tags": [
     "parameters"
    ]
   },
   "outputs": [],
   "source": [
    "# a cohort name (it could be something like UK_BIOBANK, etc)\n",
    "COHORT_NAME = None\n",
    "\n",
    "# reference panel such as 1000G or GTEX_V8\n",
    "REFERENCE_PANEL = \"GTEX_V8\"\n",
    "\n",
    "# predictions models such as MASHR or ELASTIC_NET\n",
    "EQTL_MODEL = \"MASHR\"\n",
    "\n",
    "# output dir\n",
    "OUTPUT_DIR_BASE = None"
   ]
  },
  {
   "cell_type": "code",
   "execution_count": 4,
   "id": "09298e38",
   "metadata": {
    "execution": {
     "iopub.execute_input": "2022-12-05T18:46:55.506092Z",
     "iopub.status.busy": "2022-12-05T18:46:55.505976Z",
     "iopub.status.idle": "2022-12-05T18:46:55.521907Z",
     "shell.execute_reply": "2022-12-05T18:46:55.521365Z"
    },
    "papermill": {
     "duration": 0.029685,
     "end_time": "2022-12-05T18:46:55.523348",
     "exception": false,
     "start_time": "2022-12-05T18:46:55.493663",
     "status": "completed"
    },
    "tags": [
     "injected-parameters"
    ]
   },
   "outputs": [],
   "source": [
    "# Parameters\n",
    "PHENOPLIER_NOTEBOOK_FILEPATH = \"projects/asthma-copd/nbs/20_gene_corrs/jobs/10-postprocess_gene_expr_correlations.ipynb\"\n",
    "COHORT_NAME = \"copd_only\"\n",
    "OUTPUT_DIR_BASE = \"/opt/data/projects/asthma-copd/results/gls_phenoplier\"\n"
   ]
  },
  {
   "cell_type": "code",
   "execution_count": 5,
   "id": "6dba5c90-40a4-4a62-899e-1711ab4e40bb",
   "metadata": {
    "execution": {
     "iopub.execute_input": "2022-12-05T18:46:55.547510Z",
     "iopub.status.busy": "2022-12-05T18:46:55.547025Z",
     "iopub.status.idle": "2022-12-05T18:46:55.574804Z",
     "shell.execute_reply": "2022-12-05T18:46:55.574211Z"
    },
    "papermill": {
     "duration": 0.041533,
     "end_time": "2022-12-05T18:46:55.576201",
     "exception": false,
     "start_time": "2022-12-05T18:46:55.534668",
     "status": "completed"
    },
    "tags": []
   },
   "outputs": [
    {
     "data": {
      "text/plain": [
       "'Cohort name: copd_only'"
      ]
     },
     "metadata": {},
     "output_type": "display_data"
    }
   ],
   "source": [
    "assert COHORT_NAME is not None and len(COHORT_NAME) > 0, \"A cohort name must be given\"\n",
    "\n",
    "COHORT_NAME = COHORT_NAME.lower()\n",
    "display(f\"Cohort name: {COHORT_NAME}\")"
   ]
  },
  {
   "cell_type": "code",
   "execution_count": 6,
   "id": "90be4359-19db-4c2d-a3ca-202674476164",
   "metadata": {
    "execution": {
     "iopub.execute_input": "2022-12-05T18:46:55.601327Z",
     "iopub.status.busy": "2022-12-05T18:46:55.600741Z",
     "iopub.status.idle": "2022-12-05T18:46:55.622653Z",
     "shell.execute_reply": "2022-12-05T18:46:55.622065Z"
    },
    "papermill": {
     "duration": 0.03668,
     "end_time": "2022-12-05T18:46:55.624106",
     "exception": false,
     "start_time": "2022-12-05T18:46:55.587426",
     "status": "completed"
    },
    "tags": []
   },
   "outputs": [
    {
     "data": {
      "text/plain": [
       "'Reference panel: GTEX_V8'"
      ]
     },
     "metadata": {},
     "output_type": "display_data"
    }
   ],
   "source": [
    "assert (\n",
    "    REFERENCE_PANEL is not None and len(REFERENCE_PANEL) > 0\n",
    "), \"A reference panel must be given\"\n",
    "\n",
    "display(f\"Reference panel: {REFERENCE_PANEL}\")"
   ]
  },
  {
   "cell_type": "code",
   "execution_count": 7,
   "id": "d959f3f4-8f7b-4313-b3b1-37606e7250bf",
   "metadata": {
    "execution": {
     "iopub.execute_input": "2022-12-05T18:46:55.648991Z",
     "iopub.status.busy": "2022-12-05T18:46:55.648391Z",
     "iopub.status.idle": "2022-12-05T18:46:55.671125Z",
     "shell.execute_reply": "2022-12-05T18:46:55.670548Z"
    },
    "papermill": {
     "duration": 0.037169,
     "end_time": "2022-12-05T18:46:55.672595",
     "exception": false,
     "start_time": "2022-12-05T18:46:55.635426",
     "status": "completed"
    },
    "tags": []
   },
   "outputs": [
    {
     "data": {
      "text/plain": [
       "'eQTL model: MASHR)'"
      ]
     },
     "metadata": {},
     "output_type": "display_data"
    }
   ],
   "source": [
    "assert (\n",
    "    EQTL_MODEL is not None and len(EQTL_MODEL) > 0\n",
    "), \"A prediction/eQTL model must be given\"\n",
    "\n",
    "display(f\"eQTL model: {EQTL_MODEL})\")"
   ]
  },
  {
   "cell_type": "code",
   "execution_count": 8,
   "id": "ac0c0705-90e4-42f8-8298-a457c7e778ff",
   "metadata": {
    "execution": {
     "iopub.execute_input": "2022-12-05T18:46:55.697617Z",
     "iopub.status.busy": "2022-12-05T18:46:55.697183Z",
     "iopub.status.idle": "2022-12-05T18:46:55.717143Z",
     "shell.execute_reply": "2022-12-05T18:46:55.716606Z"
    },
    "papermill": {
     "duration": 0.034411,
     "end_time": "2022-12-05T18:46:55.718578",
     "exception": false,
     "start_time": "2022-12-05T18:46:55.684167",
     "status": "completed"
    },
    "tags": []
   },
   "outputs": [
    {
     "data": {
      "text/plain": [
       "'Using output dir base: /opt/data/projects/asthma-copd/results/gls_phenoplier/gene_corrs/copd_only'"
      ]
     },
     "metadata": {},
     "output_type": "display_data"
    }
   ],
   "source": [
    "assert (\n",
    "    OUTPUT_DIR_BASE is not None and len(OUTPUT_DIR_BASE) > 0\n",
    "), \"Output directory path must be given\"\n",
    "\n",
    "OUTPUT_DIR_BASE = (Path(OUTPUT_DIR_BASE) / \"gene_corrs\" / COHORT_NAME).resolve()\n",
    "\n",
    "OUTPUT_DIR_BASE.mkdir(parents=True, exist_ok=True)\n",
    "\n",
    "display(f\"Using output dir base: {OUTPUT_DIR_BASE}\")"
   ]
  },
  {
   "cell_type": "code",
   "execution_count": 9,
   "id": "1afd50f7",
   "metadata": {
    "execution": {
     "iopub.execute_input": "2022-12-05T18:46:55.743660Z",
     "iopub.status.busy": "2022-12-05T18:46:55.743181Z",
     "iopub.status.idle": "2022-12-05T18:46:55.765470Z",
     "shell.execute_reply": "2022-12-05T18:46:55.764886Z"
    },
    "papermill": {
     "duration": 0.036722,
     "end_time": "2022-12-05T18:46:55.766914",
     "exception": false,
     "start_time": "2022-12-05T18:46:55.730192",
     "status": "completed"
    },
    "tags": []
   },
   "outputs": [
    {
     "data": {
      "text/plain": [
       "'Gene correlations input dir: /opt/data/projects/asthma-copd/results/gls_phenoplier/gene_corrs/copd_only/by_chr'"
      ]
     },
     "metadata": {},
     "output_type": "display_data"
    }
   ],
   "source": [
    "INPUT_DIR = OUTPUT_DIR_BASE / \"by_chr\"\n",
    "\n",
    "display(f\"Gene correlations input dir: {INPUT_DIR}\")\n",
    "assert INPUT_DIR.exists()"
   ]
  },
  {
   "cell_type": "markdown",
   "id": "99ccb166",
   "metadata": {
    "papermill": {
     "duration": 0.012286,
     "end_time": "2022-12-05T18:46:55.791069",
     "exception": false,
     "start_time": "2022-12-05T18:46:55.778783",
     "status": "completed"
    },
    "tags": []
   },
   "source": [
    "# Load data"
   ]
  },
  {
   "cell_type": "markdown",
   "id": "028bdd42",
   "metadata": {
    "papermill": {
     "duration": 0.011471,
     "end_time": "2022-12-05T18:46:55.814397",
     "exception": false,
     "start_time": "2022-12-05T18:46:55.802926",
     "status": "completed"
    },
    "tags": []
   },
   "source": [
    "## Gene correlations"
   ]
  },
  {
   "cell_type": "code",
   "execution_count": 10,
   "id": "04624465",
   "metadata": {
    "execution": {
     "iopub.execute_input": "2022-12-05T18:46:55.830495Z",
     "iopub.status.busy": "2022-12-05T18:46:55.830095Z",
     "iopub.status.idle": "2022-12-05T18:46:55.851768Z",
     "shell.execute_reply": "2022-12-05T18:46:55.851176Z"
    },
    "papermill": {
     "duration": 0.029517,
     "end_time": "2022-12-05T18:46:55.852790",
     "exception": false,
     "start_time": "2022-12-05T18:46:55.823273",
     "status": "completed"
    },
    "tags": []
   },
   "outputs": [],
   "source": [
    "all_gene_corr_files = list(INPUT_DIR.glob(\"gene_corrs-chr*.pkl\"))"
   ]
  },
  {
   "cell_type": "code",
   "execution_count": 11,
   "id": "be5869e7-d0e4-4b8f-8c6d-a1c6a9419fe2",
   "metadata": {
    "execution": {
     "iopub.execute_input": "2022-12-05T18:46:55.866095Z",
     "iopub.status.busy": "2022-12-05T18:46:55.865645Z",
     "iopub.status.idle": "2022-12-05T18:46:55.888290Z",
     "shell.execute_reply": "2022-12-05T18:46:55.887673Z"
    },
    "papermill": {
     "duration": 0.030473,
     "end_time": "2022-12-05T18:46:55.889381",
     "exception": false,
     "start_time": "2022-12-05T18:46:55.858908",
     "status": "completed"
    },
    "tags": []
   },
   "outputs": [],
   "source": [
    "# sort by chromosome\n",
    "all_gene_corr_files = sorted(\n",
    "    all_gene_corr_files, key=lambda x: int(x.name.split(\"-chr\")[1].split(\".pkl\")[0])\n",
    ")"
   ]
  },
  {
   "cell_type": "code",
   "execution_count": 12,
   "id": "7d1168f5",
   "metadata": {
    "execution": {
     "iopub.execute_input": "2022-12-05T18:46:55.903159Z",
     "iopub.status.busy": "2022-12-05T18:46:55.902705Z",
     "iopub.status.idle": "2022-12-05T18:46:55.926080Z",
     "shell.execute_reply": "2022-12-05T18:46:55.925481Z"
    },
    "papermill": {
     "duration": 0.031525,
     "end_time": "2022-12-05T18:46:55.927055",
     "exception": false,
     "start_time": "2022-12-05T18:46:55.895530",
     "status": "completed"
    },
    "tags": []
   },
   "outputs": [
    {
     "data": {
      "text/plain": [
       "22"
      ]
     },
     "execution_count": 12,
     "metadata": {},
     "output_type": "execute_result"
    }
   ],
   "source": [
    "len(all_gene_corr_files)"
   ]
  },
  {
   "cell_type": "code",
   "execution_count": 13,
   "id": "39364170",
   "metadata": {
    "execution": {
     "iopub.execute_input": "2022-12-05T18:46:55.940704Z",
     "iopub.status.busy": "2022-12-05T18:46:55.940290Z",
     "iopub.status.idle": "2022-12-05T18:46:55.965625Z",
     "shell.execute_reply": "2022-12-05T18:46:55.965035Z"
    },
    "papermill": {
     "duration": 0.033045,
     "end_time": "2022-12-05T18:46:55.966468",
     "exception": false,
     "start_time": "2022-12-05T18:46:55.933423",
     "status": "completed"
    },
    "tags": []
   },
   "outputs": [
    {
     "data": {
      "text/plain": [
       "[PosixPath('/opt/data/projects/asthma-copd/results/gls_phenoplier/gene_corrs/copd_only/by_chr/gene_corrs-chr1.pkl'),\n",
       " PosixPath('/opt/data/projects/asthma-copd/results/gls_phenoplier/gene_corrs/copd_only/by_chr/gene_corrs-chr2.pkl'),\n",
       " PosixPath('/opt/data/projects/asthma-copd/results/gls_phenoplier/gene_corrs/copd_only/by_chr/gene_corrs-chr3.pkl'),\n",
       " PosixPath('/opt/data/projects/asthma-copd/results/gls_phenoplier/gene_corrs/copd_only/by_chr/gene_corrs-chr4.pkl'),\n",
       " PosixPath('/opt/data/projects/asthma-copd/results/gls_phenoplier/gene_corrs/copd_only/by_chr/gene_corrs-chr5.pkl'),\n",
       " PosixPath('/opt/data/projects/asthma-copd/results/gls_phenoplier/gene_corrs/copd_only/by_chr/gene_corrs-chr6.pkl'),\n",
       " PosixPath('/opt/data/projects/asthma-copd/results/gls_phenoplier/gene_corrs/copd_only/by_chr/gene_corrs-chr7.pkl'),\n",
       " PosixPath('/opt/data/projects/asthma-copd/results/gls_phenoplier/gene_corrs/copd_only/by_chr/gene_corrs-chr8.pkl'),\n",
       " PosixPath('/opt/data/projects/asthma-copd/results/gls_phenoplier/gene_corrs/copd_only/by_chr/gene_corrs-chr9.pkl'),\n",
       " PosixPath('/opt/data/projects/asthma-copd/results/gls_phenoplier/gene_corrs/copd_only/by_chr/gene_corrs-chr10.pkl'),\n",
       " PosixPath('/opt/data/projects/asthma-copd/results/gls_phenoplier/gene_corrs/copd_only/by_chr/gene_corrs-chr11.pkl'),\n",
       " PosixPath('/opt/data/projects/asthma-copd/results/gls_phenoplier/gene_corrs/copd_only/by_chr/gene_corrs-chr12.pkl'),\n",
       " PosixPath('/opt/data/projects/asthma-copd/results/gls_phenoplier/gene_corrs/copd_only/by_chr/gene_corrs-chr13.pkl'),\n",
       " PosixPath('/opt/data/projects/asthma-copd/results/gls_phenoplier/gene_corrs/copd_only/by_chr/gene_corrs-chr14.pkl'),\n",
       " PosixPath('/opt/data/projects/asthma-copd/results/gls_phenoplier/gene_corrs/copd_only/by_chr/gene_corrs-chr15.pkl'),\n",
       " PosixPath('/opt/data/projects/asthma-copd/results/gls_phenoplier/gene_corrs/copd_only/by_chr/gene_corrs-chr16.pkl'),\n",
       " PosixPath('/opt/data/projects/asthma-copd/results/gls_phenoplier/gene_corrs/copd_only/by_chr/gene_corrs-chr17.pkl'),\n",
       " PosixPath('/opt/data/projects/asthma-copd/results/gls_phenoplier/gene_corrs/copd_only/by_chr/gene_corrs-chr18.pkl'),\n",
       " PosixPath('/opt/data/projects/asthma-copd/results/gls_phenoplier/gene_corrs/copd_only/by_chr/gene_corrs-chr19.pkl'),\n",
       " PosixPath('/opt/data/projects/asthma-copd/results/gls_phenoplier/gene_corrs/copd_only/by_chr/gene_corrs-chr20.pkl'),\n",
       " PosixPath('/opt/data/projects/asthma-copd/results/gls_phenoplier/gene_corrs/copd_only/by_chr/gene_corrs-chr21.pkl'),\n",
       " PosixPath('/opt/data/projects/asthma-copd/results/gls_phenoplier/gene_corrs/copd_only/by_chr/gene_corrs-chr22.pkl')]"
      ]
     },
     "execution_count": 13,
     "metadata": {},
     "output_type": "execute_result"
    }
   ],
   "source": [
    "all_gene_corr_files"
   ]
  },
  {
   "cell_type": "code",
   "execution_count": 14,
   "id": "6e48c284",
   "metadata": {
    "execution": {
     "iopub.execute_input": "2022-12-05T18:46:55.980590Z",
     "iopub.status.busy": "2022-12-05T18:46:55.980127Z",
     "iopub.status.idle": "2022-12-05T18:46:56.002654Z",
     "shell.execute_reply": "2022-12-05T18:46:56.002037Z"
    },
    "papermill": {
     "duration": 0.030712,
     "end_time": "2022-12-05T18:46:56.003789",
     "exception": false,
     "start_time": "2022-12-05T18:46:55.973077",
     "status": "completed"
    },
    "tags": []
   },
   "outputs": [],
   "source": [
    "assert len(all_gene_corr_files) == 22"
   ]
  },
  {
   "cell_type": "markdown",
   "id": "99d01a88-2f71-41eb-a423-a17378bbb174",
   "metadata": {
    "papermill": {
     "duration": 0.006274,
     "end_time": "2022-12-05T18:46:56.016783",
     "exception": false,
     "start_time": "2022-12-05T18:46:56.010509",
     "status": "completed"
    },
    "tags": []
   },
   "source": [
    "## Get common genes"
   ]
  },
  {
   "cell_type": "code",
   "execution_count": 15,
   "id": "6a5e95f0-eeab-4716-8982-b1dbbd8763d8",
   "metadata": {
    "execution": {
     "iopub.execute_input": "2022-12-05T18:46:56.030704Z",
     "iopub.status.busy": "2022-12-05T18:46:56.030471Z",
     "iopub.status.idle": "2022-12-05T18:46:56.064780Z",
     "shell.execute_reply": "2022-12-05T18:46:56.064090Z"
    },
    "papermill": {
     "duration": 0.042327,
     "end_time": "2022-12-05T18:46:56.065731",
     "exception": false,
     "start_time": "2022-12-05T18:46:56.023404",
     "status": "completed"
    },
    "tags": []
   },
   "outputs": [],
   "source": [
    "gene_ids = set()\n",
    "for f in all_gene_corr_files:\n",
    "    chr_genes = pd.read_pickle(f).index.tolist()\n",
    "    gene_ids.update(chr_genes)"
   ]
  },
  {
   "cell_type": "code",
   "execution_count": 16,
   "id": "81ca7c6e-69c4-48c4-b44f-ec9a2b8bb527",
   "metadata": {
    "execution": {
     "iopub.execute_input": "2022-12-05T18:46:56.084164Z",
     "iopub.status.busy": "2022-12-05T18:46:56.083686Z",
     "iopub.status.idle": "2022-12-05T18:46:56.108290Z",
     "shell.execute_reply": "2022-12-05T18:46:56.107682Z"
    },
    "papermill": {
     "duration": 0.036389,
     "end_time": "2022-12-05T18:46:56.109532",
     "exception": false,
     "start_time": "2022-12-05T18:46:56.073143",
     "status": "completed"
    },
    "tags": []
   },
   "outputs": [
    {
     "data": {
      "text/plain": [
       "6443"
      ]
     },
     "metadata": {},
     "output_type": "display_data"
    }
   ],
   "source": [
    "display(len(gene_ids))"
   ]
  },
  {
   "cell_type": "code",
   "execution_count": 17,
   "id": "5e8a7f17-c84b-4d71-bf0d-11116a66084e",
   "metadata": {
    "execution": {
     "iopub.execute_input": "2022-12-05T18:46:56.130280Z",
     "iopub.status.busy": "2022-12-05T18:46:56.130049Z",
     "iopub.status.idle": "2022-12-05T18:46:56.154973Z",
     "shell.execute_reply": "2022-12-05T18:46:56.154364Z"
    },
    "papermill": {
     "duration": 0.036713,
     "end_time": "2022-12-05T18:46:56.156190",
     "exception": false,
     "start_time": "2022-12-05T18:46:56.119477",
     "status": "completed"
    },
    "tags": []
   },
   "outputs": [
    {
     "data": {
      "text/plain": [
       "['ENSG00000000419',\n",
       " 'ENSG00000000938',\n",
       " 'ENSG00000000971',\n",
       " 'ENSG00000001084',\n",
       " 'ENSG00000001167']"
      ]
     },
     "execution_count": 17,
     "metadata": {},
     "output_type": "execute_result"
    }
   ],
   "source": [
    "sorted(list(gene_ids))[:5]"
   ]
  },
  {
   "cell_type": "markdown",
   "id": "afb94d22-07be-4b67-b448-1d15d787e882",
   "metadata": {
    "papermill": {
     "duration": 0.009831,
     "end_time": "2022-12-05T18:46:56.175812",
     "exception": false,
     "start_time": "2022-12-05T18:46:56.165981",
     "status": "completed"
    },
    "tags": []
   },
   "source": [
    "## Gene info"
   ]
  },
  {
   "cell_type": "code",
   "execution_count": 18,
   "id": "66346539-e969-46dd-997d-c1f404646caa",
   "metadata": {
    "execution": {
     "iopub.execute_input": "2022-12-05T18:46:56.196784Z",
     "iopub.status.busy": "2022-12-05T18:46:56.196288Z",
     "iopub.status.idle": "2022-12-05T18:46:56.220929Z",
     "shell.execute_reply": "2022-12-05T18:46:56.220247Z"
    },
    "papermill": {
     "duration": 0.036453,
     "end_time": "2022-12-05T18:46:56.222120",
     "exception": false,
     "start_time": "2022-12-05T18:46:56.185667",
     "status": "completed"
    },
    "tags": []
   },
   "outputs": [],
   "source": [
    "genes_info = pd.read_pickle(OUTPUT_DIR_BASE / \"genes_info.pkl\")"
   ]
  },
  {
   "cell_type": "code",
   "execution_count": 19,
   "id": "6cf6e7f6-5c5c-4ee5-a3d6-1fab3f88fd20",
   "metadata": {
    "execution": {
     "iopub.execute_input": "2022-12-05T18:46:56.243431Z",
     "iopub.status.busy": "2022-12-05T18:46:56.243024Z",
     "iopub.status.idle": "2022-12-05T18:46:56.266591Z",
     "shell.execute_reply": "2022-12-05T18:46:56.265998Z"
    },
    "papermill": {
     "duration": 0.035483,
     "end_time": "2022-12-05T18:46:56.267818",
     "exception": false,
     "start_time": "2022-12-05T18:46:56.232335",
     "status": "completed"
    },
    "tags": []
   },
   "outputs": [
    {
     "data": {
      "text/plain": [
       "(6443, 7)"
      ]
     },
     "execution_count": 19,
     "metadata": {},
     "output_type": "execute_result"
    }
   ],
   "source": [
    "genes_info.shape"
   ]
  },
  {
   "cell_type": "code",
   "execution_count": 20,
   "id": "c0c00e56-a168-4502-bad1-178fa736b055",
   "metadata": {
    "execution": {
     "iopub.execute_input": "2022-12-05T18:46:56.288999Z",
     "iopub.status.busy": "2022-12-05T18:46:56.288492Z",
     "iopub.status.idle": "2022-12-05T18:46:56.315947Z",
     "shell.execute_reply": "2022-12-05T18:46:56.315297Z"
    },
    "papermill": {
     "duration": 0.039214,
     "end_time": "2022-12-05T18:46:56.317219",
     "exception": false,
     "start_time": "2022-12-05T18:46:56.278005",
     "status": "completed"
    },
    "tags": []
   },
   "outputs": [
    {
     "data": {
      "text/html": [
       "<div>\n",
       "<style scoped>\n",
       "    .dataframe tbody tr th:only-of-type {\n",
       "        vertical-align: middle;\n",
       "    }\n",
       "\n",
       "    .dataframe tbody tr th {\n",
       "        vertical-align: top;\n",
       "    }\n",
       "\n",
       "    .dataframe thead th {\n",
       "        text-align: right;\n",
       "    }\n",
       "</style>\n",
       "<table border=\"1\" class=\"dataframe\">\n",
       "  <thead>\n",
       "    <tr style=\"text-align: right;\">\n",
       "      <th></th>\n",
       "      <th>name</th>\n",
       "      <th>id</th>\n",
       "      <th>chr</th>\n",
       "      <th>band</th>\n",
       "      <th>start_position</th>\n",
       "      <th>end_position</th>\n",
       "      <th>gene_length</th>\n",
       "    </tr>\n",
       "  </thead>\n",
       "  <tbody>\n",
       "    <tr>\n",
       "      <th>0</th>\n",
       "      <td>IL2RB</td>\n",
       "      <td>ENSG00000100385</td>\n",
       "      <td>22</td>\n",
       "      <td>22q12.3</td>\n",
       "      <td>37125843</td>\n",
       "      <td>37175054</td>\n",
       "      <td>49211</td>\n",
       "    </tr>\n",
       "    <tr>\n",
       "      <th>1</th>\n",
       "      <td>ZNF208</td>\n",
       "      <td>ENSG00000160321</td>\n",
       "      <td>19</td>\n",
       "      <td>19p12</td>\n",
       "      <td>21932958</td>\n",
       "      <td>22010949</td>\n",
       "      <td>77991</td>\n",
       "    </tr>\n",
       "    <tr>\n",
       "      <th>2</th>\n",
       "      <td>CES1</td>\n",
       "      <td>ENSG00000198848</td>\n",
       "      <td>16</td>\n",
       "      <td>16q12.2</td>\n",
       "      <td>55802851</td>\n",
       "      <td>55833337</td>\n",
       "      <td>30486</td>\n",
       "    </tr>\n",
       "    <tr>\n",
       "      <th>3</th>\n",
       "      <td>XAB2</td>\n",
       "      <td>ENSG00000076924</td>\n",
       "      <td>19</td>\n",
       "      <td>19p13.2</td>\n",
       "      <td>7619525</td>\n",
       "      <td>7629545</td>\n",
       "      <td>10020</td>\n",
       "    </tr>\n",
       "    <tr>\n",
       "      <th>4</th>\n",
       "      <td>AQP1</td>\n",
       "      <td>ENSG00000240583</td>\n",
       "      <td>7</td>\n",
       "      <td>7p14.3</td>\n",
       "      <td>30911694</td>\n",
       "      <td>30925517</td>\n",
       "      <td>13823</td>\n",
       "    </tr>\n",
       "  </tbody>\n",
       "</table>\n",
       "</div>"
      ],
      "text/plain": [
       "     name               id  chr     band  start_position  end_position  \\\n",
       "0   IL2RB  ENSG00000100385   22  22q12.3        37125843      37175054   \n",
       "1  ZNF208  ENSG00000160321   19    19p12        21932958      22010949   \n",
       "2    CES1  ENSG00000198848   16  16q12.2        55802851      55833337   \n",
       "3    XAB2  ENSG00000076924   19  19p13.2         7619525       7629545   \n",
       "4    AQP1  ENSG00000240583    7   7p14.3        30911694      30925517   \n",
       "\n",
       "   gene_length  \n",
       "0        49211  \n",
       "1        77991  \n",
       "2        30486  \n",
       "3        10020  \n",
       "4        13823  "
      ]
     },
     "execution_count": 20,
     "metadata": {},
     "output_type": "execute_result"
    }
   ],
   "source": [
    "genes_info.head()"
   ]
  },
  {
   "cell_type": "code",
   "execution_count": 21,
   "id": "c6f52a23-0e0c-4def-8ebe-714793743f4e",
   "metadata": {
    "execution": {
     "iopub.execute_input": "2022-12-05T18:46:56.338767Z",
     "iopub.status.busy": "2022-12-05T18:46:56.338350Z",
     "iopub.status.idle": "2022-12-05T18:46:56.364185Z",
     "shell.execute_reply": "2022-12-05T18:46:56.363537Z"
    },
    "papermill": {
     "duration": 0.037733,
     "end_time": "2022-12-05T18:46:56.365466",
     "exception": false,
     "start_time": "2022-12-05T18:46:56.327733",
     "status": "completed"
    },
    "tags": []
   },
   "outputs": [],
   "source": [
    "# keep genes in correlation matrices only\n",
    "genes_info = genes_info[genes_info[\"id\"].isin(gene_ids)]"
   ]
  },
  {
   "cell_type": "code",
   "execution_count": 22,
   "id": "19cde9f2-0cad-4b4e-a409-0cff052cc77c",
   "metadata": {
    "execution": {
     "iopub.execute_input": "2022-12-05T18:46:56.387863Z",
     "iopub.status.busy": "2022-12-05T18:46:56.387373Z",
     "iopub.status.idle": "2022-12-05T18:46:56.409921Z",
     "shell.execute_reply": "2022-12-05T18:46:56.409312Z"
    },
    "papermill": {
     "duration": 0.035327,
     "end_time": "2022-12-05T18:46:56.411083",
     "exception": false,
     "start_time": "2022-12-05T18:46:56.375756",
     "status": "completed"
    },
    "tags": []
   },
   "outputs": [
    {
     "data": {
      "text/plain": [
       "(6443, 7)"
      ]
     },
     "execution_count": 22,
     "metadata": {},
     "output_type": "execute_result"
    }
   ],
   "source": [
    "genes_info.shape"
   ]
  },
  {
   "cell_type": "code",
   "execution_count": 23,
   "id": "f9e52a95-4c6e-4ce6-ae1d-df635d5dbe47",
   "metadata": {
    "execution": {
     "iopub.execute_input": "2022-12-05T18:46:56.432993Z",
     "iopub.status.busy": "2022-12-05T18:46:56.432551Z",
     "iopub.status.idle": "2022-12-05T18:46:56.458388Z",
     "shell.execute_reply": "2022-12-05T18:46:56.457746Z"
    },
    "papermill": {
     "duration": 0.038364,
     "end_time": "2022-12-05T18:46:56.459710",
     "exception": false,
     "start_time": "2022-12-05T18:46:56.421346",
     "status": "completed"
    },
    "tags": []
   },
   "outputs": [],
   "source": [
    "assert not genes_info.isna().any(axis=None)"
   ]
  },
  {
   "cell_type": "code",
   "execution_count": 24,
   "id": "90028a9b-781e-46c7-97b8-9e1676e682d4",
   "metadata": {
    "execution": {
     "iopub.execute_input": "2022-12-05T18:46:56.482740Z",
     "iopub.status.busy": "2022-12-05T18:46:56.482404Z",
     "iopub.status.idle": "2022-12-05T18:46:56.506573Z",
     "shell.execute_reply": "2022-12-05T18:46:56.505959Z"
    },
    "papermill": {
     "duration": 0.037159,
     "end_time": "2022-12-05T18:46:56.507824",
     "exception": false,
     "start_time": "2022-12-05T18:46:56.470665",
     "status": "completed"
    },
    "tags": []
   },
   "outputs": [
    {
     "data": {
      "text/plain": [
       "name              object\n",
       "id                object\n",
       "chr                 int8\n",
       "band              object\n",
       "start_position     int64\n",
       "end_position       int64\n",
       "gene_length        int64\n",
       "dtype: object"
      ]
     },
     "execution_count": 24,
     "metadata": {},
     "output_type": "execute_result"
    }
   ],
   "source": [
    "genes_info.dtypes"
   ]
  },
  {
   "cell_type": "code",
   "execution_count": 25,
   "id": "adb6d5ce-d010-41f8-bb63-7b5f66bf2c51",
   "metadata": {
    "execution": {
     "iopub.execute_input": "2022-12-05T18:46:56.534328Z",
     "iopub.status.busy": "2022-12-05T18:46:56.533959Z",
     "iopub.status.idle": "2022-12-05T18:46:56.555790Z",
     "shell.execute_reply": "2022-12-05T18:46:56.555291Z"
    },
    "papermill": {
     "duration": 0.035758,
     "end_time": "2022-12-05T18:46:56.556959",
     "exception": false,
     "start_time": "2022-12-05T18:46:56.521201",
     "status": "completed"
    },
    "tags": []
   },
   "outputs": [
    {
     "data": {
      "text/html": [
       "<div>\n",
       "<style scoped>\n",
       "    .dataframe tbody tr th:only-of-type {\n",
       "        vertical-align: middle;\n",
       "    }\n",
       "\n",
       "    .dataframe tbody tr th {\n",
       "        vertical-align: top;\n",
       "    }\n",
       "\n",
       "    .dataframe thead th {\n",
       "        text-align: right;\n",
       "    }\n",
       "</style>\n",
       "<table border=\"1\" class=\"dataframe\">\n",
       "  <thead>\n",
       "    <tr style=\"text-align: right;\">\n",
       "      <th></th>\n",
       "      <th>name</th>\n",
       "      <th>id</th>\n",
       "      <th>chr</th>\n",
       "      <th>band</th>\n",
       "      <th>start_position</th>\n",
       "      <th>end_position</th>\n",
       "      <th>gene_length</th>\n",
       "    </tr>\n",
       "  </thead>\n",
       "  <tbody>\n",
       "    <tr>\n",
       "      <th>0</th>\n",
       "      <td>IL2RB</td>\n",
       "      <td>ENSG00000100385</td>\n",
       "      <td>22</td>\n",
       "      <td>22q12.3</td>\n",
       "      <td>37125843</td>\n",
       "      <td>37175054</td>\n",
       "      <td>49211</td>\n",
       "    </tr>\n",
       "    <tr>\n",
       "      <th>1</th>\n",
       "      <td>ZNF208</td>\n",
       "      <td>ENSG00000160321</td>\n",
       "      <td>19</td>\n",
       "      <td>19p12</td>\n",
       "      <td>21932958</td>\n",
       "      <td>22010949</td>\n",
       "      <td>77991</td>\n",
       "    </tr>\n",
       "    <tr>\n",
       "      <th>2</th>\n",
       "      <td>CES1</td>\n",
       "      <td>ENSG00000198848</td>\n",
       "      <td>16</td>\n",
       "      <td>16q12.2</td>\n",
       "      <td>55802851</td>\n",
       "      <td>55833337</td>\n",
       "      <td>30486</td>\n",
       "    </tr>\n",
       "    <tr>\n",
       "      <th>3</th>\n",
       "      <td>XAB2</td>\n",
       "      <td>ENSG00000076924</td>\n",
       "      <td>19</td>\n",
       "      <td>19p13.2</td>\n",
       "      <td>7619525</td>\n",
       "      <td>7629545</td>\n",
       "      <td>10020</td>\n",
       "    </tr>\n",
       "    <tr>\n",
       "      <th>4</th>\n",
       "      <td>AQP1</td>\n",
       "      <td>ENSG00000240583</td>\n",
       "      <td>7</td>\n",
       "      <td>7p14.3</td>\n",
       "      <td>30911694</td>\n",
       "      <td>30925517</td>\n",
       "      <td>13823</td>\n",
       "    </tr>\n",
       "  </tbody>\n",
       "</table>\n",
       "</div>"
      ],
      "text/plain": [
       "     name               id  chr     band  start_position  end_position  \\\n",
       "0   IL2RB  ENSG00000100385   22  22q12.3        37125843      37175054   \n",
       "1  ZNF208  ENSG00000160321   19    19p12        21932958      22010949   \n",
       "2    CES1  ENSG00000198848   16  16q12.2        55802851      55833337   \n",
       "3    XAB2  ENSG00000076924   19  19p13.2         7619525       7629545   \n",
       "4    AQP1  ENSG00000240583    7   7p14.3        30911694      30925517   \n",
       "\n",
       "   gene_length  \n",
       "0        49211  \n",
       "1        77991  \n",
       "2        30486  \n",
       "3        10020  \n",
       "4        13823  "
      ]
     },
     "execution_count": 25,
     "metadata": {},
     "output_type": "execute_result"
    }
   ],
   "source": [
    "genes_info.head()"
   ]
  },
  {
   "cell_type": "markdown",
   "id": "0bc01310-5d9c-4355-8064-b67c5a22311c",
   "metadata": {
    "papermill": {
     "duration": 0.010659,
     "end_time": "2022-12-05T18:46:56.578237",
     "exception": false,
     "start_time": "2022-12-05T18:46:56.567578",
     "status": "completed"
    },
    "tags": []
   },
   "source": [
    "# Create full correlation matrix"
   ]
  },
  {
   "cell_type": "code",
   "execution_count": 26,
   "id": "fad655cb-e830-496d-8ae1-bd9088623515",
   "metadata": {
    "execution": {
     "iopub.execute_input": "2022-12-05T18:46:56.600488Z",
     "iopub.status.busy": "2022-12-05T18:46:56.600349Z",
     "iopub.status.idle": "2022-12-05T18:46:56.618778Z",
     "shell.execute_reply": "2022-12-05T18:46:56.618268Z"
    },
    "papermill": {
     "duration": 0.031207,
     "end_time": "2022-12-05T18:46:56.620019",
     "exception": false,
     "start_time": "2022-12-05T18:46:56.588812",
     "status": "completed"
    },
    "tags": []
   },
   "outputs": [],
   "source": [
    "genes_info = genes_info.sort_values([\"chr\", \"start_position\"])"
   ]
  },
  {
   "cell_type": "code",
   "execution_count": 27,
   "id": "3d93727c-e045-434b-99ec-2bfc661003f4",
   "metadata": {
    "execution": {
     "iopub.execute_input": "2022-12-05T18:46:56.642295Z",
     "iopub.status.busy": "2022-12-05T18:46:56.641938Z",
     "iopub.status.idle": "2022-12-05T18:46:56.665148Z",
     "shell.execute_reply": "2022-12-05T18:46:56.664643Z"
    },
    "papermill": {
     "duration": 0.035605,
     "end_time": "2022-12-05T18:46:56.666214",
     "exception": false,
     "start_time": "2022-12-05T18:46:56.630609",
     "status": "completed"
    },
    "tags": []
   },
   "outputs": [
    {
     "data": {
      "text/html": [
       "<div>\n",
       "<style scoped>\n",
       "    .dataframe tbody tr th:only-of-type {\n",
       "        vertical-align: middle;\n",
       "    }\n",
       "\n",
       "    .dataframe tbody tr th {\n",
       "        vertical-align: top;\n",
       "    }\n",
       "\n",
       "    .dataframe thead th {\n",
       "        text-align: right;\n",
       "    }\n",
       "</style>\n",
       "<table border=\"1\" class=\"dataframe\">\n",
       "  <thead>\n",
       "    <tr style=\"text-align: right;\">\n",
       "      <th></th>\n",
       "      <th>name</th>\n",
       "      <th>id</th>\n",
       "      <th>chr</th>\n",
       "      <th>band</th>\n",
       "      <th>start_position</th>\n",
       "      <th>end_position</th>\n",
       "      <th>gene_length</th>\n",
       "    </tr>\n",
       "  </thead>\n",
       "  <tbody>\n",
       "    <tr>\n",
       "      <th>5231</th>\n",
       "      <td>NOC2L</td>\n",
       "      <td>ENSG00000188976</td>\n",
       "      <td>1</td>\n",
       "      <td>1p36.33</td>\n",
       "      <td>944203</td>\n",
       "      <td>959309</td>\n",
       "      <td>15106</td>\n",
       "    </tr>\n",
       "    <tr>\n",
       "      <th>250</th>\n",
       "      <td>HES4</td>\n",
       "      <td>ENSG00000188290</td>\n",
       "      <td>1</td>\n",
       "      <td>1p36.33</td>\n",
       "      <td>998962</td>\n",
       "      <td>1000172</td>\n",
       "      <td>1210</td>\n",
       "    </tr>\n",
       "    <tr>\n",
       "      <th>2816</th>\n",
       "      <td>ISG15</td>\n",
       "      <td>ENSG00000187608</td>\n",
       "      <td>1</td>\n",
       "      <td>1p36.33</td>\n",
       "      <td>1001138</td>\n",
       "      <td>1014540</td>\n",
       "      <td>13402</td>\n",
       "    </tr>\n",
       "    <tr>\n",
       "      <th>4208</th>\n",
       "      <td>AGRN</td>\n",
       "      <td>ENSG00000188157</td>\n",
       "      <td>1</td>\n",
       "      <td>1p36.33</td>\n",
       "      <td>1020120</td>\n",
       "      <td>1056118</td>\n",
       "      <td>35998</td>\n",
       "    </tr>\n",
       "    <tr>\n",
       "      <th>2761</th>\n",
       "      <td>TNFRSF18</td>\n",
       "      <td>ENSG00000186891</td>\n",
       "      <td>1</td>\n",
       "      <td>1p36.33</td>\n",
       "      <td>1203508</td>\n",
       "      <td>1206592</td>\n",
       "      <td>3084</td>\n",
       "    </tr>\n",
       "    <tr>\n",
       "      <th>...</th>\n",
       "      <td>...</td>\n",
       "      <td>...</td>\n",
       "      <td>...</td>\n",
       "      <td>...</td>\n",
       "      <td>...</td>\n",
       "      <td>...</td>\n",
       "      <td>...</td>\n",
       "    </tr>\n",
       "    <tr>\n",
       "      <th>2081</th>\n",
       "      <td>CPT1B</td>\n",
       "      <td>ENSG00000205560</td>\n",
       "      <td>22</td>\n",
       "      <td>22q13.33</td>\n",
       "      <td>50568861</td>\n",
       "      <td>50578465</td>\n",
       "      <td>9604</td>\n",
       "    </tr>\n",
       "    <tr>\n",
       "      <th>3588</th>\n",
       "      <td>CHKB</td>\n",
       "      <td>ENSG00000100288</td>\n",
       "      <td>22</td>\n",
       "      <td>22q13.33</td>\n",
       "      <td>50578949</td>\n",
       "      <td>50601455</td>\n",
       "      <td>22506</td>\n",
       "    </tr>\n",
       "    <tr>\n",
       "      <th>2755</th>\n",
       "      <td>MAPK8IP2</td>\n",
       "      <td>ENSG00000008735</td>\n",
       "      <td>22</td>\n",
       "      <td>22q13.33</td>\n",
       "      <td>50600793</td>\n",
       "      <td>50613981</td>\n",
       "      <td>13188</td>\n",
       "    </tr>\n",
       "    <tr>\n",
       "      <th>5482</th>\n",
       "      <td>ARSA</td>\n",
       "      <td>ENSG00000100299</td>\n",
       "      <td>22</td>\n",
       "      <td>22q13.33</td>\n",
       "      <td>50622754</td>\n",
       "      <td>50628173</td>\n",
       "      <td>5419</td>\n",
       "    </tr>\n",
       "    <tr>\n",
       "      <th>6138</th>\n",
       "      <td>SHANK3</td>\n",
       "      <td>ENSG00000251322</td>\n",
       "      <td>22</td>\n",
       "      <td>22q13.33</td>\n",
       "      <td>50674415</td>\n",
       "      <td>50733298</td>\n",
       "      <td>58883</td>\n",
       "    </tr>\n",
       "  </tbody>\n",
       "</table>\n",
       "<p>6443 rows × 7 columns</p>\n",
       "</div>"
      ],
      "text/plain": [
       "          name               id  chr      band  start_position  end_position  \\\n",
       "5231     NOC2L  ENSG00000188976    1   1p36.33          944203        959309   \n",
       "250       HES4  ENSG00000188290    1   1p36.33          998962       1000172   \n",
       "2816     ISG15  ENSG00000187608    1   1p36.33         1001138       1014540   \n",
       "4208      AGRN  ENSG00000188157    1   1p36.33         1020120       1056118   \n",
       "2761  TNFRSF18  ENSG00000186891    1   1p36.33         1203508       1206592   \n",
       "...        ...              ...  ...       ...             ...           ...   \n",
       "2081     CPT1B  ENSG00000205560   22  22q13.33        50568861      50578465   \n",
       "3588      CHKB  ENSG00000100288   22  22q13.33        50578949      50601455   \n",
       "2755  MAPK8IP2  ENSG00000008735   22  22q13.33        50600793      50613981   \n",
       "5482      ARSA  ENSG00000100299   22  22q13.33        50622754      50628173   \n",
       "6138    SHANK3  ENSG00000251322   22  22q13.33        50674415      50733298   \n",
       "\n",
       "      gene_length  \n",
       "5231        15106  \n",
       "250          1210  \n",
       "2816        13402  \n",
       "4208        35998  \n",
       "2761         3084  \n",
       "...           ...  \n",
       "2081         9604  \n",
       "3588        22506  \n",
       "2755        13188  \n",
       "5482         5419  \n",
       "6138        58883  \n",
       "\n",
       "[6443 rows x 7 columns]"
      ]
     },
     "execution_count": 27,
     "metadata": {},
     "output_type": "execute_result"
    }
   ],
   "source": [
    "genes_info"
   ]
  },
  {
   "cell_type": "code",
   "execution_count": 28,
   "id": "1277c7cb-6850-476f-932e-0d166362392c",
   "metadata": {
    "execution": {
     "iopub.execute_input": "2022-12-05T18:46:56.689227Z",
     "iopub.status.busy": "2022-12-05T18:46:56.688815Z",
     "iopub.status.idle": "2022-12-05T18:46:56.702151Z",
     "shell.execute_reply": "2022-12-05T18:46:56.701639Z"
    },
    "papermill": {
     "duration": 0.025826,
     "end_time": "2022-12-05T18:46:56.703267",
     "exception": false,
     "start_time": "2022-12-05T18:46:56.677441",
     "status": "completed"
    },
    "tags": []
   },
   "outputs": [],
   "source": [
    "full_corr_matrix = pd.DataFrame(\n",
    "    np.zeros((genes_info.shape[0], genes_info.shape[0])),\n",
    "    index=genes_info[\"id\"].tolist(),\n",
    "    columns=genes_info[\"id\"].tolist(),\n",
    ")"
   ]
  },
  {
   "cell_type": "code",
   "execution_count": 29,
   "id": "5aa375f4-775a-4dab-80c9-a68a52c69adc",
   "metadata": {
    "execution": {
     "iopub.execute_input": "2022-12-05T18:46:56.726103Z",
     "iopub.status.busy": "2022-12-05T18:46:56.725897Z",
     "iopub.status.idle": "2022-12-05T18:46:56.742210Z",
     "shell.execute_reply": "2022-12-05T18:46:56.741713Z"
    },
    "papermill": {
     "duration": 0.029264,
     "end_time": "2022-12-05T18:46:56.743372",
     "exception": false,
     "start_time": "2022-12-05T18:46:56.714108",
     "status": "completed"
    },
    "tags": []
   },
   "outputs": [],
   "source": [
    "assert full_corr_matrix.index.is_unique & full_corr_matrix.columns.is_unique"
   ]
  },
  {
   "cell_type": "code",
   "execution_count": 30,
   "id": "0afc4716-f607-4634-8a02-5f116fd2c318",
   "metadata": {
    "execution": {
     "iopub.execute_input": "2022-12-05T18:46:56.767043Z",
     "iopub.status.busy": "2022-12-05T18:46:56.766669Z",
     "iopub.status.idle": "2022-12-05T18:46:57.521453Z",
     "shell.execute_reply": "2022-12-05T18:46:57.520942Z"
    },
    "papermill": {
     "duration": 0.768437,
     "end_time": "2022-12-05T18:46:57.523147",
     "exception": false,
     "start_time": "2022-12-05T18:46:56.754710",
     "status": "completed"
    },
    "tags": []
   },
   "outputs": [
    {
     "name": "stdout",
     "output_type": "stream",
     "text": [
      "gene_corrs-chr1.pkl... "
     ]
    },
    {
     "data": {
      "text/plain": [
       "'Number of negative eigenvalues: 0'"
      ]
     },
     "metadata": {},
     "output_type": "display_data"
    },
    {
     "data": {
      "text/plain": [
       "'Negative eigenvalues:\\n[]'"
      ]
     },
     "metadata": {},
     "output_type": "display_data"
    },
    {
     "name": "stdout",
     "output_type": "stream",
     "text": [
      "Works! (statsmodels.GLS)\n",
      "Works!\n",
      "all good.\n",
      "\n",
      "\n",
      "gene_corrs-chr2.pkl... "
     ]
    },
    {
     "data": {
      "text/plain": [
       "'Number of negative eigenvalues: 0'"
      ]
     },
     "metadata": {},
     "output_type": "display_data"
    },
    {
     "data": {
      "text/plain": [
       "'Negative eigenvalues:\\n[]'"
      ]
     },
     "metadata": {},
     "output_type": "display_data"
    },
    {
     "name": "stdout",
     "output_type": "stream",
     "text": [
      "Works! (statsmodels.GLS)\n",
      "Works!\n",
      "all good.\n",
      "\n",
      "\n",
      "gene_corrs-chr3.pkl... "
     ]
    },
    {
     "data": {
      "text/plain": [
       "'Number of negative eigenvalues: 0'"
      ]
     },
     "metadata": {},
     "output_type": "display_data"
    },
    {
     "data": {
      "text/plain": [
       "'Negative eigenvalues:\\n[]'"
      ]
     },
     "metadata": {},
     "output_type": "display_data"
    },
    {
     "name": "stdout",
     "output_type": "stream",
     "text": [
      "Works! (statsmodels.GLS)\n",
      "Works!\n",
      "all good.\n",
      "\n",
      "\n",
      "gene_corrs-chr4.pkl... "
     ]
    },
    {
     "data": {
      "text/plain": [
       "'Number of negative eigenvalues: 0'"
      ]
     },
     "metadata": {},
     "output_type": "display_data"
    },
    {
     "data": {
      "text/plain": [
       "'Negative eigenvalues:\\n[]'"
      ]
     },
     "metadata": {},
     "output_type": "display_data"
    },
    {
     "name": "stdout",
     "output_type": "stream",
     "text": [
      "Works! (statsmodels.GLS)\n",
      "Works!\n",
      "all good.\n",
      "\n",
      "\n",
      "gene_corrs-chr5.pkl... "
     ]
    },
    {
     "data": {
      "text/plain": [
       "'Number of negative eigenvalues: 0'"
      ]
     },
     "metadata": {},
     "output_type": "display_data"
    },
    {
     "data": {
      "text/plain": [
       "'Negative eigenvalues:\\n[]'"
      ]
     },
     "metadata": {},
     "output_type": "display_data"
    },
    {
     "name": "stdout",
     "output_type": "stream",
     "text": [
      "Works! (statsmodels.GLS)\n",
      "Works!\n",
      "all good.\n",
      "\n",
      "\n",
      "gene_corrs-chr6.pkl... "
     ]
    },
    {
     "data": {
      "text/plain": [
       "'Number of negative eigenvalues: 0'"
      ]
     },
     "metadata": {},
     "output_type": "display_data"
    },
    {
     "data": {
      "text/plain": [
       "'Negative eigenvalues:\\n[]'"
      ]
     },
     "metadata": {},
     "output_type": "display_data"
    },
    {
     "name": "stdout",
     "output_type": "stream",
     "text": [
      "Works! (statsmodels.GLS)\n",
      "Works!\n",
      "all good.\n",
      "\n",
      "\n",
      "gene_corrs-chr7.pkl... "
     ]
    },
    {
     "data": {
      "text/plain": [
       "'Number of negative eigenvalues: 0'"
      ]
     },
     "metadata": {},
     "output_type": "display_data"
    },
    {
     "data": {
      "text/plain": [
       "'Negative eigenvalues:\\n[]'"
      ]
     },
     "metadata": {},
     "output_type": "display_data"
    },
    {
     "name": "stdout",
     "output_type": "stream",
     "text": [
      "Works! (statsmodels.GLS)\n",
      "Works!\n",
      "all good.\n",
      "\n",
      "\n",
      "gene_corrs-chr8.pkl... "
     ]
    },
    {
     "data": {
      "text/plain": [
       "'Number of negative eigenvalues: 0'"
      ]
     },
     "metadata": {},
     "output_type": "display_data"
    },
    {
     "data": {
      "text/plain": [
       "'Negative eigenvalues:\\n[]'"
      ]
     },
     "metadata": {},
     "output_type": "display_data"
    },
    {
     "name": "stdout",
     "output_type": "stream",
     "text": [
      "Works! (statsmodels.GLS)\n",
      "Works!\n",
      "all good.\n",
      "\n",
      "\n",
      "gene_corrs-chr9.pkl... "
     ]
    },
    {
     "data": {
      "text/plain": [
       "'Number of negative eigenvalues: 0'"
      ]
     },
     "metadata": {},
     "output_type": "display_data"
    },
    {
     "data": {
      "text/plain": [
       "'Negative eigenvalues:\\n[]'"
      ]
     },
     "metadata": {},
     "output_type": "display_data"
    },
    {
     "name": "stdout",
     "output_type": "stream",
     "text": [
      "Works! (statsmodels.GLS)\n",
      "Works!\n",
      "all good.\n",
      "\n",
      "\n",
      "gene_corrs-chr10.pkl... "
     ]
    },
    {
     "data": {
      "text/plain": [
       "'Number of negative eigenvalues: 0'"
      ]
     },
     "metadata": {},
     "output_type": "display_data"
    },
    {
     "data": {
      "text/plain": [
       "'Negative eigenvalues:\\n[]'"
      ]
     },
     "metadata": {},
     "output_type": "display_data"
    },
    {
     "name": "stdout",
     "output_type": "stream",
     "text": [
      "Works! (statsmodels.GLS)\n",
      "Works!\n",
      "all good.\n",
      "\n",
      "\n",
      "gene_corrs-chr11.pkl... "
     ]
    },
    {
     "data": {
      "text/plain": [
       "'Number of negative eigenvalues: 0'"
      ]
     },
     "metadata": {},
     "output_type": "display_data"
    },
    {
     "data": {
      "text/plain": [
       "'Negative eigenvalues:\\n[]'"
      ]
     },
     "metadata": {},
     "output_type": "display_data"
    },
    {
     "name": "stdout",
     "output_type": "stream",
     "text": [
      "Works! (statsmodels.GLS)\n",
      "Works!\n",
      "all good.\n",
      "\n",
      "\n",
      "gene_corrs-chr12.pkl... "
     ]
    },
    {
     "data": {
      "text/plain": [
       "'Number of negative eigenvalues: 1'"
      ]
     },
     "metadata": {},
     "output_type": "display_data"
    },
    {
     "data": {
      "text/plain": [
       "'Negative eigenvalues:\\n[-1.04515219e-15]'"
      ]
     },
     "metadata": {},
     "output_type": "display_data"
    },
    {
     "name": "stdout",
     "output_type": "stream",
     "text": [
      "Cholesky decomposition failed (statsmodels.GLS): Matrix is not positive definite\n",
      "Cholesky decomposition failed: Matrix is not positive definite\n",
      "not positive definite, fixing... "
     ]
    },
    {
     "data": {
      "text/plain": [
       "'Number of negative eigenvalues: 1'"
      ]
     },
     "metadata": {},
     "output_type": "display_data"
    },
    {
     "data": {
      "text/plain": [
       "'Negative eigenvalues:\\n[-7.08642012e-16]'"
      ]
     },
     "metadata": {},
     "output_type": "display_data"
    },
    {
     "name": "stdout",
     "output_type": "stream",
     "text": [
      "Works! (statsmodels.GLS)\n",
      "Works!\n",
      "fixed! comparing...\n"
     ]
    },
    {
     "data": {
      "text/plain": [
       "count    1.505440e+05\n",
       "mean    -2.778535e-19\n",
       "std      1.545313e-16\n",
       "min     -2.664535e-15\n",
       "25%     -4.468520e-17\n",
       "50%      8.734346e-20\n",
       "75%      4.426792e-17\n",
       "max      3.552714e-15\n",
       "dtype: float64"
      ]
     },
     "metadata": {},
     "output_type": "display_data"
    },
    {
     "data": {
      "text/plain": [
       "ENSG00000111450  ENSG00000111450   -2.664535e-15\n",
       "ENSG00000185633  ENSG00000185633   -2.442491e-15\n",
       "ENSG00000132341  ENSG00000132341   -2.442491e-15\n",
       "ENSG00000111012  ENSG00000175197   -2.275957e-15\n",
       "ENSG00000175197  ENSG00000111012   -2.248202e-15\n",
       "                                        ...     \n",
       "ENSG00000196510  ENSG00000196510    3.219647e-15\n",
       "ENSG00000196876  ENSG00000196876    3.219647e-15\n",
       "ENSG00000111639  ENSG00000010292    3.330669e-15\n",
       "ENSG00000010292  ENSG00000111639    3.330669e-15\n",
       "ENSG00000139132  ENSG00000139132    3.552714e-15\n",
       "Length: 150544, dtype: float64"
      ]
     },
     "metadata": {},
     "output_type": "display_data"
    },
    {
     "name": "stdout",
     "output_type": "stream",
     "text": [
      "\n",
      "\n",
      "gene_corrs-chr13.pkl... "
     ]
    },
    {
     "data": {
      "text/plain": [
       "'Number of negative eigenvalues: 0'"
      ]
     },
     "metadata": {},
     "output_type": "display_data"
    },
    {
     "data": {
      "text/plain": [
       "'Negative eigenvalues:\\n[]'"
      ]
     },
     "metadata": {},
     "output_type": "display_data"
    },
    {
     "name": "stdout",
     "output_type": "stream",
     "text": [
      "Works! (statsmodels.GLS)\n",
      "Works!\n",
      "all good.\n",
      "\n",
      "\n",
      "gene_corrs-chr14.pkl... "
     ]
    },
    {
     "data": {
      "text/plain": [
       "'Number of negative eigenvalues: 0'"
      ]
     },
     "metadata": {},
     "output_type": "display_data"
    },
    {
     "data": {
      "text/plain": [
       "'Negative eigenvalues:\\n[]'"
      ]
     },
     "metadata": {},
     "output_type": "display_data"
    },
    {
     "name": "stdout",
     "output_type": "stream",
     "text": [
      "Works! (statsmodels.GLS)\n",
      "Works!\n",
      "all good.\n",
      "\n",
      "\n",
      "gene_corrs-chr15.pkl... "
     ]
    },
    {
     "data": {
      "text/plain": [
       "'Number of negative eigenvalues: 0'"
      ]
     },
     "metadata": {},
     "output_type": "display_data"
    },
    {
     "data": {
      "text/plain": [
       "'Negative eigenvalues:\\n[]'"
      ]
     },
     "metadata": {},
     "output_type": "display_data"
    },
    {
     "name": "stdout",
     "output_type": "stream",
     "text": [
      "Works! (statsmodels.GLS)\n",
      "Works!\n",
      "all good.\n",
      "\n",
      "\n",
      "gene_corrs-chr16.pkl... "
     ]
    },
    {
     "data": {
      "text/plain": [
       "'Number of negative eigenvalues: 0'"
      ]
     },
     "metadata": {},
     "output_type": "display_data"
    },
    {
     "data": {
      "text/plain": [
       "'Negative eigenvalues:\\n[]'"
      ]
     },
     "metadata": {},
     "output_type": "display_data"
    },
    {
     "name": "stdout",
     "output_type": "stream",
     "text": [
      "Works! (statsmodels.GLS)\n",
      "Works!\n",
      "all good.\n",
      "\n",
      "\n",
      "gene_corrs-chr17.pkl... "
     ]
    },
    {
     "data": {
      "text/plain": [
       "'Number of negative eigenvalues: 0'"
      ]
     },
     "metadata": {},
     "output_type": "display_data"
    },
    {
     "data": {
      "text/plain": [
       "'Negative eigenvalues:\\n[]'"
      ]
     },
     "metadata": {},
     "output_type": "display_data"
    },
    {
     "name": "stdout",
     "output_type": "stream",
     "text": [
      "Works! (statsmodels.GLS)\n",
      "Works!\n",
      "all good.\n",
      "\n",
      "\n",
      "gene_corrs-chr18.pkl... "
     ]
    },
    {
     "data": {
      "text/plain": [
       "'Number of negative eigenvalues: 0'"
      ]
     },
     "metadata": {},
     "output_type": "display_data"
    },
    {
     "data": {
      "text/plain": [
       "'Negative eigenvalues:\\n[]'"
      ]
     },
     "metadata": {},
     "output_type": "display_data"
    },
    {
     "name": "stdout",
     "output_type": "stream",
     "text": [
      "Works! (statsmodels.GLS)\n",
      "Works!\n",
      "all good.\n",
      "\n",
      "\n",
      "gene_corrs-chr19.pkl... "
     ]
    },
    {
     "data": {
      "text/plain": [
       "'Number of negative eigenvalues: 0'"
      ]
     },
     "metadata": {},
     "output_type": "display_data"
    },
    {
     "data": {
      "text/plain": [
       "'Negative eigenvalues:\\n[]'"
      ]
     },
     "metadata": {},
     "output_type": "display_data"
    },
    {
     "name": "stdout",
     "output_type": "stream",
     "text": [
      "Works! (statsmodels.GLS)\n",
      "Works!\n",
      "all good.\n",
      "\n",
      "\n",
      "gene_corrs-chr20.pkl... "
     ]
    },
    {
     "data": {
      "text/plain": [
       "'Number of negative eigenvalues: 0'"
      ]
     },
     "metadata": {},
     "output_type": "display_data"
    },
    {
     "data": {
      "text/plain": [
       "'Negative eigenvalues:\\n[]'"
      ]
     },
     "metadata": {},
     "output_type": "display_data"
    },
    {
     "name": "stdout",
     "output_type": "stream",
     "text": [
      "Works! (statsmodels.GLS)\n",
      "Works!\n",
      "all good.\n",
      "\n",
      "\n",
      "gene_corrs-chr21.pkl... "
     ]
    },
    {
     "data": {
      "text/plain": [
       "'Number of negative eigenvalues: 0'"
      ]
     },
     "metadata": {},
     "output_type": "display_data"
    },
    {
     "data": {
      "text/plain": [
       "'Negative eigenvalues:\\n[]'"
      ]
     },
     "metadata": {},
     "output_type": "display_data"
    },
    {
     "name": "stdout",
     "output_type": "stream",
     "text": [
      "Works! (statsmodels.GLS)\n",
      "Works!\n",
      "all good.\n",
      "\n",
      "\n",
      "gene_corrs-chr22.pkl... "
     ]
    },
    {
     "data": {
      "text/plain": [
       "'Number of negative eigenvalues: 0'"
      ]
     },
     "metadata": {},
     "output_type": "display_data"
    },
    {
     "data": {
      "text/plain": [
       "'Negative eigenvalues:\\n[]'"
      ]
     },
     "metadata": {},
     "output_type": "display_data"
    },
    {
     "name": "stdout",
     "output_type": "stream",
     "text": [
      "Works! (statsmodels.GLS)\n",
      "Works!\n",
      "all good.\n",
      "\n",
      "\n"
     ]
    }
   ],
   "source": [
    "for chr_corr_file in all_gene_corr_files:\n",
    "    print(chr_corr_file.name, flush=True, end=\"... \")\n",
    "\n",
    "    # get correlation matrix for this chromosome\n",
    "    corr_data = pd.read_pickle(chr_corr_file)\n",
    "\n",
    "    # save gene correlation matrix\n",
    "    full_corr_matrix.loc[corr_data.index, corr_data.columns] = corr_data\n",
    "\n",
    "    # save inverse of Cholesky decomposition of gene correlation matrix\n",
    "    # first, adjust correlation matrix if it is not positive definite\n",
    "    is_pos_def = check_pos_def(corr_data)\n",
    "\n",
    "    if is_pos_def:\n",
    "        print(\"all good.\", flush=True, end=\"\\n\")\n",
    "    else:\n",
    "        print(\"not positive definite, fixing... \", flush=True, end=\"\")\n",
    "        corr_data_adjusted = adjust_non_pos_def(corr_data)\n",
    "\n",
    "        is_pos_def = check_pos_def(corr_data_adjusted)\n",
    "        assert is_pos_def, \"Could not adjust gene correlation matrix\"\n",
    "\n",
    "        print(\"fixed! comparing...\", flush=True, end=\"\\n\")\n",
    "        compare_matrices(corr_data, corr_data_adjusted)\n",
    "\n",
    "        corr_data = corr_data_adjusted\n",
    "\n",
    "        # save\n",
    "        full_corr_matrix.loc[corr_data.index, corr_data.columns] = corr_data\n",
    "\n",
    "    print(\"\\n\")"
   ]
  },
  {
   "cell_type": "code",
   "execution_count": 31,
   "id": "a6be3bf7-d1c1-4f90-b074-a6e74d9285a5",
   "metadata": {
    "execution": {
     "iopub.execute_input": "2022-12-05T18:46:57.568709Z",
     "iopub.status.busy": "2022-12-05T18:46:57.568439Z",
     "iopub.status.idle": "2022-12-05T18:46:57.581904Z",
     "shell.execute_reply": "2022-12-05T18:46:57.581451Z"
    },
    "papermill": {
     "duration": 0.035859,
     "end_time": "2022-12-05T18:46:57.583241",
     "exception": false,
     "start_time": "2022-12-05T18:46:57.547382",
     "status": "completed"
    },
    "tags": []
   },
   "outputs": [
    {
     "data": {
      "text/plain": [
       "(6443, 6443)"
      ]
     },
     "execution_count": 31,
     "metadata": {},
     "output_type": "execute_result"
    }
   ],
   "source": [
    "full_corr_matrix.shape"
   ]
  },
  {
   "cell_type": "code",
   "execution_count": 32,
   "id": "aac21a65-87b3-4b87-b17a-cbe3692c88a9",
   "metadata": {
    "execution": {
     "iopub.execute_input": "2022-12-05T18:46:57.624451Z",
     "iopub.status.busy": "2022-12-05T18:46:57.624243Z",
     "iopub.status.idle": "2022-12-05T18:46:57.658853Z",
     "shell.execute_reply": "2022-12-05T18:46:57.658306Z"
    },
    "papermill": {
     "duration": 0.056299,
     "end_time": "2022-12-05T18:46:57.660273",
     "exception": false,
     "start_time": "2022-12-05T18:46:57.603974",
     "status": "completed"
    },
    "tags": []
   },
   "outputs": [
    {
     "data": {
      "text/html": [
       "<div>\n",
       "<style scoped>\n",
       "    .dataframe tbody tr th:only-of-type {\n",
       "        vertical-align: middle;\n",
       "    }\n",
       "\n",
       "    .dataframe tbody tr th {\n",
       "        vertical-align: top;\n",
       "    }\n",
       "\n",
       "    .dataframe thead th {\n",
       "        text-align: right;\n",
       "    }\n",
       "</style>\n",
       "<table border=\"1\" class=\"dataframe\">\n",
       "  <thead>\n",
       "    <tr style=\"text-align: right;\">\n",
       "      <th></th>\n",
       "      <th>ENSG00000188976</th>\n",
       "      <th>ENSG00000188290</th>\n",
       "      <th>ENSG00000187608</th>\n",
       "      <th>ENSG00000188157</th>\n",
       "      <th>ENSG00000186891</th>\n",
       "      <th>ENSG00000186827</th>\n",
       "      <th>ENSG00000176022</th>\n",
       "      <th>ENSG00000160087</th>\n",
       "      <th>ENSG00000131584</th>\n",
       "      <th>ENSG00000169962</th>\n",
       "      <th>...</th>\n",
       "      <th>ENSG00000196576</th>\n",
       "      <th>ENSG00000128165</th>\n",
       "      <th>ENSG00000100253</th>\n",
       "      <th>ENSG00000130489</th>\n",
       "      <th>ENSG00000025708</th>\n",
       "      <th>ENSG00000205560</th>\n",
       "      <th>ENSG00000100288</th>\n",
       "      <th>ENSG00000008735</th>\n",
       "      <th>ENSG00000100299</th>\n",
       "      <th>ENSG00000251322</th>\n",
       "    </tr>\n",
       "  </thead>\n",
       "  <tbody>\n",
       "    <tr>\n",
       "      <th>ENSG00000188976</th>\n",
       "      <td>1.000000</td>\n",
       "      <td>0.120590</td>\n",
       "      <td>0.177063</td>\n",
       "      <td>0.085746</td>\n",
       "      <td>0.006792</td>\n",
       "      <td>0.007685</td>\n",
       "      <td>0.004673</td>\n",
       "      <td>0.010734</td>\n",
       "      <td>0.011200</td>\n",
       "      <td>0.007529</td>\n",
       "      <td>...</td>\n",
       "      <td>0.0</td>\n",
       "      <td>0.0</td>\n",
       "      <td>0.0</td>\n",
       "      <td>0.0</td>\n",
       "      <td>0.0</td>\n",
       "      <td>0.0</td>\n",
       "      <td>0.0</td>\n",
       "      <td>0.0</td>\n",
       "      <td>0.0</td>\n",
       "      <td>0.0</td>\n",
       "    </tr>\n",
       "    <tr>\n",
       "      <th>ENSG00000188290</th>\n",
       "      <td>0.120590</td>\n",
       "      <td>1.000000</td>\n",
       "      <td>0.672060</td>\n",
       "      <td>0.391127</td>\n",
       "      <td>0.011695</td>\n",
       "      <td>0.009275</td>\n",
       "      <td>0.005970</td>\n",
       "      <td>0.007385</td>\n",
       "      <td>0.002641</td>\n",
       "      <td>0.004767</td>\n",
       "      <td>...</td>\n",
       "      <td>0.0</td>\n",
       "      <td>0.0</td>\n",
       "      <td>0.0</td>\n",
       "      <td>0.0</td>\n",
       "      <td>0.0</td>\n",
       "      <td>0.0</td>\n",
       "      <td>0.0</td>\n",
       "      <td>0.0</td>\n",
       "      <td>0.0</td>\n",
       "      <td>0.0</td>\n",
       "    </tr>\n",
       "    <tr>\n",
       "      <th>ENSG00000187608</th>\n",
       "      <td>0.177063</td>\n",
       "      <td>0.672060</td>\n",
       "      <td>1.000000</td>\n",
       "      <td>0.424696</td>\n",
       "      <td>0.013929</td>\n",
       "      <td>0.013311</td>\n",
       "      <td>0.008466</td>\n",
       "      <td>0.010608</td>\n",
       "      <td>0.006689</td>\n",
       "      <td>0.011659</td>\n",
       "      <td>...</td>\n",
       "      <td>0.0</td>\n",
       "      <td>0.0</td>\n",
       "      <td>0.0</td>\n",
       "      <td>0.0</td>\n",
       "      <td>0.0</td>\n",
       "      <td>0.0</td>\n",
       "      <td>0.0</td>\n",
       "      <td>0.0</td>\n",
       "      <td>0.0</td>\n",
       "      <td>0.0</td>\n",
       "    </tr>\n",
       "    <tr>\n",
       "      <th>ENSG00000188157</th>\n",
       "      <td>0.085746</td>\n",
       "      <td>0.391127</td>\n",
       "      <td>0.424696</td>\n",
       "      <td>1.000000</td>\n",
       "      <td>0.005309</td>\n",
       "      <td>0.011848</td>\n",
       "      <td>0.002161</td>\n",
       "      <td>0.002535</td>\n",
       "      <td>0.005359</td>\n",
       "      <td>0.007012</td>\n",
       "      <td>...</td>\n",
       "      <td>0.0</td>\n",
       "      <td>0.0</td>\n",
       "      <td>0.0</td>\n",
       "      <td>0.0</td>\n",
       "      <td>0.0</td>\n",
       "      <td>0.0</td>\n",
       "      <td>0.0</td>\n",
       "      <td>0.0</td>\n",
       "      <td>0.0</td>\n",
       "      <td>0.0</td>\n",
       "    </tr>\n",
       "    <tr>\n",
       "      <th>ENSG00000186891</th>\n",
       "      <td>0.006792</td>\n",
       "      <td>0.011695</td>\n",
       "      <td>0.013929</td>\n",
       "      <td>0.005309</td>\n",
       "      <td>1.000000</td>\n",
       "      <td>0.338085</td>\n",
       "      <td>0.550817</td>\n",
       "      <td>0.154394</td>\n",
       "      <td>0.193627</td>\n",
       "      <td>0.101004</td>\n",
       "      <td>...</td>\n",
       "      <td>0.0</td>\n",
       "      <td>0.0</td>\n",
       "      <td>0.0</td>\n",
       "      <td>0.0</td>\n",
       "      <td>0.0</td>\n",
       "      <td>0.0</td>\n",
       "      <td>0.0</td>\n",
       "      <td>0.0</td>\n",
       "      <td>0.0</td>\n",
       "      <td>0.0</td>\n",
       "    </tr>\n",
       "  </tbody>\n",
       "</table>\n",
       "<p>5 rows × 6443 columns</p>\n",
       "</div>"
      ],
      "text/plain": [
       "                 ENSG00000188976  ENSG00000188290  ENSG00000187608  \\\n",
       "ENSG00000188976         1.000000         0.120590         0.177063   \n",
       "ENSG00000188290         0.120590         1.000000         0.672060   \n",
       "ENSG00000187608         0.177063         0.672060         1.000000   \n",
       "ENSG00000188157         0.085746         0.391127         0.424696   \n",
       "ENSG00000186891         0.006792         0.011695         0.013929   \n",
       "\n",
       "                 ENSG00000188157  ENSG00000186891  ENSG00000186827  \\\n",
       "ENSG00000188976         0.085746         0.006792         0.007685   \n",
       "ENSG00000188290         0.391127         0.011695         0.009275   \n",
       "ENSG00000187608         0.424696         0.013929         0.013311   \n",
       "ENSG00000188157         1.000000         0.005309         0.011848   \n",
       "ENSG00000186891         0.005309         1.000000         0.338085   \n",
       "\n",
       "                 ENSG00000176022  ENSG00000160087  ENSG00000131584  \\\n",
       "ENSG00000188976         0.004673         0.010734         0.011200   \n",
       "ENSG00000188290         0.005970         0.007385         0.002641   \n",
       "ENSG00000187608         0.008466         0.010608         0.006689   \n",
       "ENSG00000188157         0.002161         0.002535         0.005359   \n",
       "ENSG00000186891         0.550817         0.154394         0.193627   \n",
       "\n",
       "                 ENSG00000169962  ...  ENSG00000196576  ENSG00000128165  \\\n",
       "ENSG00000188976         0.007529  ...              0.0              0.0   \n",
       "ENSG00000188290         0.004767  ...              0.0              0.0   \n",
       "ENSG00000187608         0.011659  ...              0.0              0.0   \n",
       "ENSG00000188157         0.007012  ...              0.0              0.0   \n",
       "ENSG00000186891         0.101004  ...              0.0              0.0   \n",
       "\n",
       "                 ENSG00000100253  ENSG00000130489  ENSG00000025708  \\\n",
       "ENSG00000188976              0.0              0.0              0.0   \n",
       "ENSG00000188290              0.0              0.0              0.0   \n",
       "ENSG00000187608              0.0              0.0              0.0   \n",
       "ENSG00000188157              0.0              0.0              0.0   \n",
       "ENSG00000186891              0.0              0.0              0.0   \n",
       "\n",
       "                 ENSG00000205560  ENSG00000100288  ENSG00000008735  \\\n",
       "ENSG00000188976              0.0              0.0              0.0   \n",
       "ENSG00000188290              0.0              0.0              0.0   \n",
       "ENSG00000187608              0.0              0.0              0.0   \n",
       "ENSG00000188157              0.0              0.0              0.0   \n",
       "ENSG00000186891              0.0              0.0              0.0   \n",
       "\n",
       "                 ENSG00000100299  ENSG00000251322  \n",
       "ENSG00000188976              0.0              0.0  \n",
       "ENSG00000188290              0.0              0.0  \n",
       "ENSG00000187608              0.0              0.0  \n",
       "ENSG00000188157              0.0              0.0  \n",
       "ENSG00000186891              0.0              0.0  \n",
       "\n",
       "[5 rows x 6443 columns]"
      ]
     },
     "execution_count": 32,
     "metadata": {},
     "output_type": "execute_result"
    }
   ],
   "source": [
    "full_corr_matrix.head()"
   ]
  },
  {
   "cell_type": "code",
   "execution_count": 33,
   "id": "0d43f268-ad27-4117-b43b-df581deedae5",
   "metadata": {
    "execution": {
     "iopub.execute_input": "2022-12-05T18:46:57.704404Z",
     "iopub.status.busy": "2022-12-05T18:46:57.703838Z",
     "iopub.status.idle": "2022-12-05T18:46:57.728156Z",
     "shell.execute_reply": "2022-12-05T18:46:57.727565Z"
    },
    "papermill": {
     "duration": 0.047173,
     "end_time": "2022-12-05T18:46:57.729629",
     "exception": false,
     "start_time": "2022-12-05T18:46:57.682456",
     "status": "completed"
    },
    "tags": []
   },
   "outputs": [
    {
     "data": {
      "text/plain": [
       "False"
      ]
     },
     "execution_count": 33,
     "metadata": {},
     "output_type": "execute_result"
    }
   ],
   "source": [
    "np.all(full_corr_matrix.to_numpy().diagonal() == 1.0)"
   ]
  },
  {
   "cell_type": "markdown",
   "id": "1169db4b-9af2-4d3c-a27a-198d7730fa67",
   "metadata": {
    "papermill": {
     "duration": 0.020621,
     "end_time": "2022-12-05T18:46:57.771053",
     "exception": false,
     "start_time": "2022-12-05T18:46:57.750432",
     "status": "completed"
    },
    "tags": []
   },
   "source": [
    "## Some checks"
   ]
  },
  {
   "cell_type": "code",
   "execution_count": 34,
   "id": "31b4e109-a020-4667-9326-c63e6d80a33e",
   "metadata": {
    "execution": {
     "iopub.execute_input": "2022-12-05T18:46:57.798398Z",
     "iopub.status.busy": "2022-12-05T18:46:57.797869Z",
     "iopub.status.idle": "2022-12-05T18:46:57.906112Z",
     "shell.execute_reply": "2022-12-05T18:46:57.905592Z"
    },
    "papermill": {
     "duration": 0.121047,
     "end_time": "2022-12-05T18:46:57.907369",
     "exception": false,
     "start_time": "2022-12-05T18:46:57.786322",
     "status": "completed"
    },
    "tags": []
   },
   "outputs": [
    {
     "data": {
      "text/plain": [
       "-1.6547555874423083e-15"
      ]
     },
     "metadata": {},
     "output_type": "display_data"
    }
   ],
   "source": [
    "_min_val = full_corr_matrix.min().min()\n",
    "display(_min_val)\n",
    "# assert _min_val >= -0.05"
   ]
  },
  {
   "cell_type": "code",
   "execution_count": 35,
   "id": "df674d11-939a-4704-a718-f246527a1880",
   "metadata": {
    "execution": {
     "iopub.execute_input": "2022-12-05T18:46:57.950427Z",
     "iopub.status.busy": "2022-12-05T18:46:57.950293Z",
     "iopub.status.idle": "2022-12-05T18:46:57.998569Z",
     "shell.execute_reply": "2022-12-05T18:46:57.998036Z"
    },
    "papermill": {
     "duration": 0.07119,
     "end_time": "2022-12-05T18:46:57.999946",
     "exception": false,
     "start_time": "2022-12-05T18:46:57.928756",
     "status": "completed"
    },
    "tags": []
   },
   "outputs": [
    {
     "data": {
      "text/plain": [
       "1.0000000000000044"
      ]
     },
     "metadata": {},
     "output_type": "display_data"
    }
   ],
   "source": [
    "_max_val = full_corr_matrix.max().max()\n",
    "display(_max_val)\n",
    "# assert _max_val <= 1.05"
   ]
  },
  {
   "cell_type": "markdown",
   "id": "d6b0f6d2-f191-44ba-97da-41f980163729",
   "metadata": {
    "papermill": {
     "duration": 0.020887,
     "end_time": "2022-12-05T18:46:58.041838",
     "exception": false,
     "start_time": "2022-12-05T18:46:58.020951",
     "status": "completed"
    },
    "tags": []
   },
   "source": [
    "## Positive definiteness"
   ]
  },
  {
   "cell_type": "markdown",
   "id": "bd7c979c-1f9c-4396-92a4-c1eb8be339d0",
   "metadata": {
    "papermill": {
     "duration": 0.01385,
     "end_time": "2022-12-05T18:46:58.076550",
     "exception": false,
     "start_time": "2022-12-05T18:46:58.062700",
     "status": "completed"
    },
    "tags": []
   },
   "source": [
    "In some cases, even if the submatrices are adjusted, the whole one is not.\n",
    "\n",
    "So here I check that again."
   ]
  },
  {
   "cell_type": "code",
   "execution_count": 36,
   "id": "6fc157e7-b798-4977-975b-d20d8c1cda09",
   "metadata": {
    "execution": {
     "iopub.execute_input": "2022-12-05T18:46:58.099331Z",
     "iopub.status.busy": "2022-12-05T18:46:58.099107Z",
     "iopub.status.idle": "2022-12-05T18:48:24.046442Z",
     "shell.execute_reply": "2022-12-05T18:48:24.045816Z"
    },
    "papermill": {
     "duration": 85.960394,
     "end_time": "2022-12-05T18:48:24.047906",
     "exception": false,
     "start_time": "2022-12-05T18:46:58.087512",
     "status": "completed"
    },
    "tags": []
   },
   "outputs": [
    {
     "data": {
      "text/plain": [
       "'Number of negative eigenvalues: 0'"
      ]
     },
     "metadata": {},
     "output_type": "display_data"
    },
    {
     "data": {
      "text/plain": [
       "'Negative eigenvalues:\\n[]'"
      ]
     },
     "metadata": {},
     "output_type": "display_data"
    },
    {
     "name": "stdout",
     "output_type": "stream",
     "text": [
      "Works! (statsmodels.GLS)\n",
      "Works!\n",
      "all good.\n"
     ]
    }
   ],
   "source": [
    "is_pos_def = check_pos_def(full_corr_matrix)\n",
    "\n",
    "if is_pos_def:\n",
    "    print(\"all good.\", flush=True, end=\"\\n\")\n",
    "else:\n",
    "    print(\"not positive definite, fixing... \", flush=True, end=\"\")\n",
    "    corr_data_adjusted = adjust_non_pos_def(full_corr_matrix)\n",
    "\n",
    "    is_pos_def = check_pos_def(corr_data_adjusted)\n",
    "    assert is_pos_def, \"Could not adjust gene correlation matrix\"\n",
    "\n",
    "    print(\"fixed! comparing...\", flush=True, end=\"\\n\")\n",
    "    compare_matrices(full_corr_matrix, corr_data_adjusted)\n",
    "\n",
    "    full_corr_matrix = corr_data_adjusted"
   ]
  },
  {
   "cell_type": "markdown",
   "id": "f328f55d-37d5-4346-97b4-7237281d5757",
   "metadata": {
    "papermill": {
     "duration": 0.021137,
     "end_time": "2022-12-05T18:48:24.090751",
     "exception": false,
     "start_time": "2022-12-05T18:48:24.069614",
     "status": "completed"
    },
    "tags": []
   },
   "source": [
    "## Save"
   ]
  },
  {
   "cell_type": "markdown",
   "id": "0bf781b4-7a49-4823-9c40-d6d4151c17b7",
   "metadata": {
    "papermill": {
     "duration": 0.018673,
     "end_time": "2022-12-05T18:48:24.130838",
     "exception": false,
     "start_time": "2022-12-05T18:48:24.112165",
     "status": "completed"
    },
    "tags": []
   },
   "source": [
    "### Gene corrs with gene symbols"
   ]
  },
  {
   "cell_type": "code",
   "execution_count": 37,
   "id": "cd9323bb-f43e-4271-aeae-c4ff9ba150fe",
   "metadata": {
    "execution": {
     "iopub.execute_input": "2022-12-05T18:48:24.153732Z",
     "iopub.status.busy": "2022-12-05T18:48:24.153598Z",
     "iopub.status.idle": "2022-12-05T18:48:24.167222Z",
     "shell.execute_reply": "2022-12-05T18:48:24.166702Z"
    },
    "papermill": {
     "duration": 0.0261,
     "end_time": "2022-12-05T18:48:24.168073",
     "exception": false,
     "start_time": "2022-12-05T18:48:24.141973",
     "status": "completed"
    },
    "tags": []
   },
   "outputs": [
    {
     "data": {
      "text/plain": [
       "PosixPath('/opt/data/projects/asthma-copd/results/gls_phenoplier/gene_corrs/copd_only/gene_corrs-symbols.pkl')"
      ]
     },
     "metadata": {},
     "output_type": "display_data"
    }
   ],
   "source": [
    "output_file = OUTPUT_DIR_BASE / \"gene_corrs-symbols.pkl\"\n",
    "display(output_file)"
   ]
  },
  {
   "cell_type": "code",
   "execution_count": 38,
   "id": "eae70039-4724-49c2-af7f-af868ee71f52",
   "metadata": {
    "execution": {
     "iopub.execute_input": "2022-12-05T18:48:24.191202Z",
     "iopub.status.busy": "2022-12-05T18:48:24.190988Z",
     "iopub.status.idle": "2022-12-05T18:48:24.484275Z",
     "shell.execute_reply": "2022-12-05T18:48:24.483670Z"
    },
    "papermill": {
     "duration": 0.306332,
     "end_time": "2022-12-05T18:48:24.485690",
     "exception": false,
     "start_time": "2022-12-05T18:48:24.179358",
     "status": "completed"
    },
    "tags": []
   },
   "outputs": [],
   "source": [
    "gene_corrs = full_corr_matrix.rename(\n",
    "    index=Gene.GENE_ID_TO_NAME_MAP, columns=Gene.GENE_ID_TO_NAME_MAP\n",
    ")"
   ]
  },
  {
   "cell_type": "code",
   "execution_count": 39,
   "id": "d095a99d-acf0-4290-873b-64079ba70a3a",
   "metadata": {
    "execution": {
     "iopub.execute_input": "2022-12-05T18:48:24.510974Z",
     "iopub.status.busy": "2022-12-05T18:48:24.510849Z",
     "iopub.status.idle": "2022-12-05T18:48:24.576587Z",
     "shell.execute_reply": "2022-12-05T18:48:24.575986Z"
    },
    "papermill": {
     "duration": 0.078795,
     "end_time": "2022-12-05T18:48:24.577950",
     "exception": false,
     "start_time": "2022-12-05T18:48:24.499155",
     "status": "completed"
    },
    "tags": []
   },
   "outputs": [],
   "source": [
    "assert not gene_corrs.isna().any(axis=None)\n",
    "assert not np.isinf(gene_corrs.to_numpy()).any()\n",
    "assert not np.iscomplex(gene_corrs.to_numpy()).any()"
   ]
  },
  {
   "cell_type": "code",
   "execution_count": 40,
   "id": "8a0ee039-378e-4f51-a18a-24fe2c9d9ba8",
   "metadata": {
    "execution": {
     "iopub.execute_input": "2022-12-05T18:48:24.621749Z",
     "iopub.status.busy": "2022-12-05T18:48:24.621617Z",
     "iopub.status.idle": "2022-12-05T18:48:24.643064Z",
     "shell.execute_reply": "2022-12-05T18:48:24.642390Z"
    },
    "papermill": {
     "duration": 0.044927,
     "end_time": "2022-12-05T18:48:24.644506",
     "exception": false,
     "start_time": "2022-12-05T18:48:24.599579",
     "status": "completed"
    },
    "tags": []
   },
   "outputs": [],
   "source": [
    "assert gene_corrs.index.is_unique\n",
    "assert gene_corrs.columns.is_unique"
   ]
  },
  {
   "cell_type": "code",
   "execution_count": 41,
   "id": "7fe158ee-2def-4c61-91a2-f3ec05687237",
   "metadata": {
    "execution": {
     "iopub.execute_input": "2022-12-05T18:48:24.688719Z",
     "iopub.status.busy": "2022-12-05T18:48:24.688319Z",
     "iopub.status.idle": "2022-12-05T18:48:24.709924Z",
     "shell.execute_reply": "2022-12-05T18:48:24.709248Z"
    },
    "papermill": {
     "duration": 0.045135,
     "end_time": "2022-12-05T18:48:24.711341",
     "exception": false,
     "start_time": "2022-12-05T18:48:24.666206",
     "status": "completed"
    },
    "tags": []
   },
   "outputs": [
    {
     "data": {
      "text/plain": [
       "(6443, 6443)"
      ]
     },
     "execution_count": 41,
     "metadata": {},
     "output_type": "execute_result"
    }
   ],
   "source": [
    "gene_corrs.shape"
   ]
  },
  {
   "cell_type": "code",
   "execution_count": 42,
   "id": "28db69f2-6dc8-4a05-a1da-d44998574749",
   "metadata": {
    "execution": {
     "iopub.execute_input": "2022-12-05T18:48:24.755473Z",
     "iopub.status.busy": "2022-12-05T18:48:24.754878Z",
     "iopub.status.idle": "2022-12-05T18:48:24.792793Z",
     "shell.execute_reply": "2022-12-05T18:48:24.792212Z"
    },
    "papermill": {
     "duration": 0.060767,
     "end_time": "2022-12-05T18:48:24.793736",
     "exception": false,
     "start_time": "2022-12-05T18:48:24.732969",
     "status": "completed"
    },
    "tags": []
   },
   "outputs": [
    {
     "data": {
      "text/html": [
       "<div>\n",
       "<style scoped>\n",
       "    .dataframe tbody tr th:only-of-type {\n",
       "        vertical-align: middle;\n",
       "    }\n",
       "\n",
       "    .dataframe tbody tr th {\n",
       "        vertical-align: top;\n",
       "    }\n",
       "\n",
       "    .dataframe thead th {\n",
       "        text-align: right;\n",
       "    }\n",
       "</style>\n",
       "<table border=\"1\" class=\"dataframe\">\n",
       "  <thead>\n",
       "    <tr style=\"text-align: right;\">\n",
       "      <th></th>\n",
       "      <th>NOC2L</th>\n",
       "      <th>HES4</th>\n",
       "      <th>ISG15</th>\n",
       "      <th>AGRN</th>\n",
       "      <th>TNFRSF18</th>\n",
       "      <th>TNFRSF4</th>\n",
       "      <th>B3GALT6</th>\n",
       "      <th>UBE2J2</th>\n",
       "      <th>ACAP3</th>\n",
       "      <th>TAS1R3</th>\n",
       "      <th>...</th>\n",
       "      <th>PLXNB2</th>\n",
       "      <th>ADM2</th>\n",
       "      <th>MIOX</th>\n",
       "      <th>SCO2</th>\n",
       "      <th>TYMP</th>\n",
       "      <th>CPT1B</th>\n",
       "      <th>CHKB</th>\n",
       "      <th>MAPK8IP2</th>\n",
       "      <th>ARSA</th>\n",
       "      <th>SHANK3</th>\n",
       "    </tr>\n",
       "  </thead>\n",
       "  <tbody>\n",
       "    <tr>\n",
       "      <th>NOC2L</th>\n",
       "      <td>1.000000</td>\n",
       "      <td>0.120590</td>\n",
       "      <td>0.177063</td>\n",
       "      <td>0.085746</td>\n",
       "      <td>0.006792</td>\n",
       "      <td>0.007685</td>\n",
       "      <td>0.004673</td>\n",
       "      <td>0.010734</td>\n",
       "      <td>0.011200</td>\n",
       "      <td>0.007529</td>\n",
       "      <td>...</td>\n",
       "      <td>0.0</td>\n",
       "      <td>0.0</td>\n",
       "      <td>0.0</td>\n",
       "      <td>0.0</td>\n",
       "      <td>0.0</td>\n",
       "      <td>0.0</td>\n",
       "      <td>0.0</td>\n",
       "      <td>0.0</td>\n",
       "      <td>0.0</td>\n",
       "      <td>0.0</td>\n",
       "    </tr>\n",
       "    <tr>\n",
       "      <th>HES4</th>\n",
       "      <td>0.120590</td>\n",
       "      <td>1.000000</td>\n",
       "      <td>0.672060</td>\n",
       "      <td>0.391127</td>\n",
       "      <td>0.011695</td>\n",
       "      <td>0.009275</td>\n",
       "      <td>0.005970</td>\n",
       "      <td>0.007385</td>\n",
       "      <td>0.002641</td>\n",
       "      <td>0.004767</td>\n",
       "      <td>...</td>\n",
       "      <td>0.0</td>\n",
       "      <td>0.0</td>\n",
       "      <td>0.0</td>\n",
       "      <td>0.0</td>\n",
       "      <td>0.0</td>\n",
       "      <td>0.0</td>\n",
       "      <td>0.0</td>\n",
       "      <td>0.0</td>\n",
       "      <td>0.0</td>\n",
       "      <td>0.0</td>\n",
       "    </tr>\n",
       "    <tr>\n",
       "      <th>ISG15</th>\n",
       "      <td>0.177063</td>\n",
       "      <td>0.672060</td>\n",
       "      <td>1.000000</td>\n",
       "      <td>0.424696</td>\n",
       "      <td>0.013929</td>\n",
       "      <td>0.013311</td>\n",
       "      <td>0.008466</td>\n",
       "      <td>0.010608</td>\n",
       "      <td>0.006689</td>\n",
       "      <td>0.011659</td>\n",
       "      <td>...</td>\n",
       "      <td>0.0</td>\n",
       "      <td>0.0</td>\n",
       "      <td>0.0</td>\n",
       "      <td>0.0</td>\n",
       "      <td>0.0</td>\n",
       "      <td>0.0</td>\n",
       "      <td>0.0</td>\n",
       "      <td>0.0</td>\n",
       "      <td>0.0</td>\n",
       "      <td>0.0</td>\n",
       "    </tr>\n",
       "    <tr>\n",
       "      <th>AGRN</th>\n",
       "      <td>0.085746</td>\n",
       "      <td>0.391127</td>\n",
       "      <td>0.424696</td>\n",
       "      <td>1.000000</td>\n",
       "      <td>0.005309</td>\n",
       "      <td>0.011848</td>\n",
       "      <td>0.002161</td>\n",
       "      <td>0.002535</td>\n",
       "      <td>0.005359</td>\n",
       "      <td>0.007012</td>\n",
       "      <td>...</td>\n",
       "      <td>0.0</td>\n",
       "      <td>0.0</td>\n",
       "      <td>0.0</td>\n",
       "      <td>0.0</td>\n",
       "      <td>0.0</td>\n",
       "      <td>0.0</td>\n",
       "      <td>0.0</td>\n",
       "      <td>0.0</td>\n",
       "      <td>0.0</td>\n",
       "      <td>0.0</td>\n",
       "    </tr>\n",
       "    <tr>\n",
       "      <th>TNFRSF18</th>\n",
       "      <td>0.006792</td>\n",
       "      <td>0.011695</td>\n",
       "      <td>0.013929</td>\n",
       "      <td>0.005309</td>\n",
       "      <td>1.000000</td>\n",
       "      <td>0.338085</td>\n",
       "      <td>0.550817</td>\n",
       "      <td>0.154394</td>\n",
       "      <td>0.193627</td>\n",
       "      <td>0.101004</td>\n",
       "      <td>...</td>\n",
       "      <td>0.0</td>\n",
       "      <td>0.0</td>\n",
       "      <td>0.0</td>\n",
       "      <td>0.0</td>\n",
       "      <td>0.0</td>\n",
       "      <td>0.0</td>\n",
       "      <td>0.0</td>\n",
       "      <td>0.0</td>\n",
       "      <td>0.0</td>\n",
       "      <td>0.0</td>\n",
       "    </tr>\n",
       "  </tbody>\n",
       "</table>\n",
       "<p>5 rows × 6443 columns</p>\n",
       "</div>"
      ],
      "text/plain": [
       "             NOC2L      HES4     ISG15      AGRN  TNFRSF18   TNFRSF4  \\\n",
       "NOC2L     1.000000  0.120590  0.177063  0.085746  0.006792  0.007685   \n",
       "HES4      0.120590  1.000000  0.672060  0.391127  0.011695  0.009275   \n",
       "ISG15     0.177063  0.672060  1.000000  0.424696  0.013929  0.013311   \n",
       "AGRN      0.085746  0.391127  0.424696  1.000000  0.005309  0.011848   \n",
       "TNFRSF18  0.006792  0.011695  0.013929  0.005309  1.000000  0.338085   \n",
       "\n",
       "           B3GALT6    UBE2J2     ACAP3    TAS1R3  ...  PLXNB2  ADM2  MIOX  \\\n",
       "NOC2L     0.004673  0.010734  0.011200  0.007529  ...     0.0   0.0   0.0   \n",
       "HES4      0.005970  0.007385  0.002641  0.004767  ...     0.0   0.0   0.0   \n",
       "ISG15     0.008466  0.010608  0.006689  0.011659  ...     0.0   0.0   0.0   \n",
       "AGRN      0.002161  0.002535  0.005359  0.007012  ...     0.0   0.0   0.0   \n",
       "TNFRSF18  0.550817  0.154394  0.193627  0.101004  ...     0.0   0.0   0.0   \n",
       "\n",
       "          SCO2  TYMP  CPT1B  CHKB  MAPK8IP2  ARSA  SHANK3  \n",
       "NOC2L      0.0   0.0    0.0   0.0       0.0   0.0     0.0  \n",
       "HES4       0.0   0.0    0.0   0.0       0.0   0.0     0.0  \n",
       "ISG15      0.0   0.0    0.0   0.0       0.0   0.0     0.0  \n",
       "AGRN       0.0   0.0    0.0   0.0       0.0   0.0     0.0  \n",
       "TNFRSF18   0.0   0.0    0.0   0.0       0.0   0.0     0.0  \n",
       "\n",
       "[5 rows x 6443 columns]"
      ]
     },
     "execution_count": 42,
     "metadata": {},
     "output_type": "execute_result"
    }
   ],
   "source": [
    "gene_corrs.head()"
   ]
  },
  {
   "cell_type": "code",
   "execution_count": 43,
   "id": "19f39ddb-854c-4b6a-886c-60e84b5d31ca",
   "metadata": {
    "execution": {
     "iopub.execute_input": "2022-12-05T18:48:24.818649Z",
     "iopub.status.busy": "2022-12-05T18:48:24.818354Z",
     "iopub.status.idle": "2022-12-05T18:48:25.210907Z",
     "shell.execute_reply": "2022-12-05T18:48:25.210374Z"
    },
    "papermill": {
     "duration": 0.406721,
     "end_time": "2022-12-05T18:48:25.212180",
     "exception": false,
     "start_time": "2022-12-05T18:48:24.805459",
     "status": "completed"
    },
    "tags": []
   },
   "outputs": [],
   "source": [
    "gene_corrs.to_pickle(output_file)"
   ]
  },
  {
   "cell_type": "code",
   "execution_count": 44,
   "id": "738f4cf5-44a9-4274-a2c8-11906113fa45",
   "metadata": {
    "execution": {
     "iopub.execute_input": "2022-12-05T18:48:25.248163Z",
     "iopub.status.busy": "2022-12-05T18:48:25.247800Z",
     "iopub.status.idle": "2022-12-05T18:48:25.261916Z",
     "shell.execute_reply": "2022-12-05T18:48:25.261559Z"
    },
    "papermill": {
     "duration": 0.038178,
     "end_time": "2022-12-05T18:48:25.263275",
     "exception": false,
     "start_time": "2022-12-05T18:48:25.225097",
     "status": "completed"
    },
    "tags": []
   },
   "outputs": [],
   "source": [
    "del gene_corrs"
   ]
  },
  {
   "cell_type": "markdown",
   "id": "551bd31a-ad37-45b5-a0c8-6ff1459faf60",
   "metadata": {
    "papermill": {
     "duration": 0.011991,
     "end_time": "2022-12-05T18:48:25.290369",
     "exception": false,
     "start_time": "2022-12-05T18:48:25.278378",
     "status": "completed"
    },
    "tags": []
   },
   "source": [
    "# Stats"
   ]
  },
  {
   "cell_type": "code",
   "execution_count": 45,
   "id": "33b5482f-7ecf-4365-867f-249f28d09180",
   "metadata": {
    "execution": {
     "iopub.execute_input": "2022-12-05T18:48:25.314774Z",
     "iopub.status.busy": "2022-12-05T18:48:25.314553Z",
     "iopub.status.idle": "2022-12-05T18:48:25.894016Z",
     "shell.execute_reply": "2022-12-05T18:48:25.893575Z"
    },
    "papermill": {
     "duration": 0.593364,
     "end_time": "2022-12-05T18:48:25.895478",
     "exception": false,
     "start_time": "2022-12-05T18:48:25.302114",
     "status": "completed"
    },
    "tags": []
   },
   "outputs": [],
   "source": [
    "full_corr_matrix_flat = full_corr_matrix.mask(\n",
    "    np.triu(np.ones(full_corr_matrix.shape)).astype(bool)\n",
    ").stack()"
   ]
  },
  {
   "cell_type": "code",
   "execution_count": 46,
   "id": "e2d950d1-646a-4ba1-bb91-cf07ad00872d",
   "metadata": {
    "execution": {
     "iopub.execute_input": "2022-12-05T18:48:25.938003Z",
     "iopub.status.busy": "2022-12-05T18:48:25.937888Z",
     "iopub.status.idle": "2022-12-05T18:48:25.950880Z",
     "shell.execute_reply": "2022-12-05T18:48:25.950519Z"
    },
    "papermill": {
     "duration": 0.037445,
     "end_time": "2022-12-05T18:48:25.952358",
     "exception": false,
     "start_time": "2022-12-05T18:48:25.914913",
     "status": "completed"
    },
    "tags": []
   },
   "outputs": [
    {
     "data": {
      "text/plain": [
       "(20752903,)"
      ]
     },
     "metadata": {},
     "output_type": "display_data"
    }
   ],
   "source": [
    "display(full_corr_matrix_flat.shape)\n",
    "assert full_corr_matrix_flat.shape[0] == int(\n",
    "    full_corr_matrix.shape[0] * (full_corr_matrix.shape[0] - 1) / 2\n",
    ")"
   ]
  },
  {
   "cell_type": "markdown",
   "id": "5fd7d482-b7b8-4a84-91b0-749d15f0d2c0",
   "metadata": {
    "papermill": {
     "duration": 0.023154,
     "end_time": "2022-12-05T18:48:26.000427",
     "exception": false,
     "start_time": "2022-12-05T18:48:25.977273",
     "status": "completed"
    },
    "tags": []
   },
   "source": [
    "## On all correlations"
   ]
  },
  {
   "cell_type": "code",
   "execution_count": 47,
   "id": "e58ea199-0cc1-449d-a55e-26970fb674a8",
   "metadata": {
    "execution": {
     "iopub.execute_input": "2022-12-05T18:48:26.025403Z",
     "iopub.status.busy": "2022-12-05T18:48:26.025155Z",
     "iopub.status.idle": "2022-12-05T18:48:26.043569Z",
     "shell.execute_reply": "2022-12-05T18:48:26.043078Z"
    },
    "papermill": {
     "duration": 0.031665,
     "end_time": "2022-12-05T18:48:26.044442",
     "exception": false,
     "start_time": "2022-12-05T18:48:26.012777",
     "status": "completed"
    },
    "tags": []
   },
   "outputs": [],
   "source": [
    "_corr_mat = full_corr_matrix_flat"
   ]
  },
  {
   "cell_type": "code",
   "execution_count": 48,
   "id": "c4e71773-0b74-435f-a9d9-cc8671d7c570",
   "metadata": {
    "execution": {
     "iopub.execute_input": "2022-12-05T18:48:26.068813Z",
     "iopub.status.busy": "2022-12-05T18:48:26.068540Z",
     "iopub.status.idle": "2022-12-05T18:48:26.089273Z",
     "shell.execute_reply": "2022-12-05T18:48:26.088797Z"
    },
    "papermill": {
     "duration": 0.034003,
     "end_time": "2022-12-05T18:48:26.090186",
     "exception": false,
     "start_time": "2022-12-05T18:48:26.056183",
     "status": "completed"
    },
    "tags": []
   },
   "outputs": [
    {
     "data": {
      "text/plain": [
       "(20752903,)"
      ]
     },
     "execution_count": 48,
     "metadata": {},
     "output_type": "execute_result"
    }
   ],
   "source": [
    "_corr_mat.shape"
   ]
  },
  {
   "cell_type": "code",
   "execution_count": 49,
   "id": "9907fbe4-85e1-4690-ae0c-3c6f5a19e9b7",
   "metadata": {
    "execution": {
     "iopub.execute_input": "2022-12-05T18:48:26.115089Z",
     "iopub.status.busy": "2022-12-05T18:48:26.114729Z",
     "iopub.status.idle": "2022-12-05T18:48:26.136935Z",
     "shell.execute_reply": "2022-12-05T18:48:26.136439Z"
    },
    "papermill": {
     "duration": 0.035537,
     "end_time": "2022-12-05T18:48:26.137805",
     "exception": false,
     "start_time": "2022-12-05T18:48:26.102268",
     "status": "completed"
    },
    "tags": []
   },
   "outputs": [
    {
     "data": {
      "text/plain": [
       "ENSG00000188290  ENSG00000188976    0.120590\n",
       "ENSG00000187608  ENSG00000188976    0.177063\n",
       "                 ENSG00000188290    0.672060\n",
       "ENSG00000188157  ENSG00000188976    0.085746\n",
       "                 ENSG00000188290    0.391127\n",
       "dtype: float64"
      ]
     },
     "execution_count": 49,
     "metadata": {},
     "output_type": "execute_result"
    }
   ],
   "source": [
    "_corr_mat.head()"
   ]
  },
  {
   "cell_type": "code",
   "execution_count": 50,
   "id": "cb34e9c9-7488-47f2-aa31-c8a8e83f92ae",
   "metadata": {
    "execution": {
     "iopub.execute_input": "2022-12-05T18:48:26.163027Z",
     "iopub.status.busy": "2022-12-05T18:48:26.162633Z",
     "iopub.status.idle": "2022-12-05T18:48:26.548486Z",
     "shell.execute_reply": "2022-12-05T18:48:26.548094Z"
    },
    "papermill": {
     "duration": 0.39978,
     "end_time": "2022-12-05T18:48:26.549910",
     "exception": false,
     "start_time": "2022-12-05T18:48:26.150130",
     "status": "completed"
    },
    "tags": []
   },
   "outputs": [
    {
     "data": {
      "text/plain": [
       "count                20752903.0\n",
       "mean     0.00016514580104168942\n",
       "std        0.006889696086803127\n",
       "min      -1.654754324699484e-15\n",
       "25%                         0.0\n",
       "50%                         0.0\n",
       "75%                         0.0\n",
       "max          0.9999999999999977\n",
       "dtype: object"
      ]
     },
     "execution_count": 50,
     "metadata": {},
     "output_type": "execute_result"
    }
   ],
   "source": [
    "_corr_mat.describe().apply(str)"
   ]
  },
  {
   "cell_type": "code",
   "execution_count": 51,
   "id": "ccb2fbfa-e381-40a0-a269-e280c12c6039",
   "metadata": {
    "execution": {
     "iopub.execute_input": "2022-12-05T18:48:26.601853Z",
     "iopub.status.busy": "2022-12-05T18:48:26.601518Z",
     "iopub.status.idle": "2022-12-05T18:48:26.869110Z",
     "shell.execute_reply": "2022-12-05T18:48:26.868716Z"
    },
    "papermill": {
     "duration": 0.295262,
     "end_time": "2022-12-05T18:48:26.870637",
     "exception": false,
     "start_time": "2022-12-05T18:48:26.575375",
     "status": "completed"
    },
    "tags": []
   },
   "outputs": [
    {
     "data": {
      "text/plain": [
       "0.00   -1.654754e-15\n",
       "0.05    0.000000e+00\n",
       "0.10    0.000000e+00\n",
       "0.15    0.000000e+00\n",
       "0.20    0.000000e+00\n",
       "0.25    0.000000e+00\n",
       "0.30    0.000000e+00\n",
       "0.35    0.000000e+00\n",
       "0.40    0.000000e+00\n",
       "0.45    0.000000e+00\n",
       "0.50    0.000000e+00\n",
       "0.55    0.000000e+00\n",
       "0.60    0.000000e+00\n",
       "0.65    0.000000e+00\n",
       "0.70    0.000000e+00\n",
       "0.75    0.000000e+00\n",
       "0.80    0.000000e+00\n",
       "0.85    0.000000e+00\n",
       "0.90    0.000000e+00\n",
       "0.95    0.000000e+00\n",
       "dtype: float64"
      ]
     },
     "metadata": {},
     "output_type": "display_data"
    }
   ],
   "source": [
    "display(_corr_mat.quantile(np.arange(0, 1, 0.05)))"
   ]
  },
  {
   "cell_type": "code",
   "execution_count": 52,
   "id": "940dcbd0-3a39-4e0b-9b7c-cd3f905ea8fb",
   "metadata": {
    "execution": {
     "iopub.execute_input": "2022-12-05T18:48:26.922692Z",
     "iopub.status.busy": "2022-12-05T18:48:26.922542Z",
     "iopub.status.idle": "2022-12-05T18:48:27.116321Z",
     "shell.execute_reply": "2022-12-05T18:48:27.115881Z"
    },
    "papermill": {
     "duration": 0.22113,
     "end_time": "2022-12-05T18:48:27.117772",
     "exception": false,
     "start_time": "2022-12-05T18:48:26.896642",
     "status": "completed"
    },
    "tags": []
   },
   "outputs": [
    {
     "data": {
      "text/plain": [
       "0.0000   -1.654754e-15\n",
       "0.0001   -2.114470e-16\n",
       "0.0002   -1.507737e-16\n",
       "0.0003   -1.153929e-16\n",
       "0.0004   -9.129619e-17\n",
       "0.0005   -7.399952e-17\n",
       "0.0006   -5.984600e-17\n",
       "0.0007   -4.828129e-17\n",
       "0.0008   -3.870385e-17\n",
       "0.0009   -3.024636e-17\n",
       "dtype: float64"
      ]
     },
     "metadata": {},
     "output_type": "display_data"
    }
   ],
   "source": [
    "display(_corr_mat.quantile(np.arange(0, 0.001, 0.0001)))"
   ]
  },
  {
   "cell_type": "code",
   "execution_count": 53,
   "id": "9c76b62b-be13-4037-a95b-a8c2104055a3",
   "metadata": {
    "execution": {
     "iopub.execute_input": "2022-12-05T18:48:27.169619Z",
     "iopub.status.busy": "2022-12-05T18:48:27.169384Z",
     "iopub.status.idle": "2022-12-05T18:48:27.293089Z",
     "shell.execute_reply": "2022-12-05T18:48:27.292705Z"
    },
    "papermill": {
     "duration": 0.151275,
     "end_time": "2022-12-05T18:48:27.294740",
     "exception": false,
     "start_time": "2022-12-05T18:48:27.143465",
     "status": "completed"
    },
    "tags": []
   },
   "outputs": [
    {
     "data": {
      "text/plain": [
       "0.9990    0.014692\n",
       "0.9991    0.016645\n",
       "0.9992    0.020181\n",
       "0.9993    0.026091\n",
       "0.9994    0.034861\n",
       "0.9995    0.050389\n",
       "0.9996    0.078749\n",
       "0.9997    0.132025\n",
       "0.9998    0.234598\n",
       "0.9999    0.396342\n",
       "1.0000    1.000000\n",
       "dtype: float64"
      ]
     },
     "metadata": {},
     "output_type": "display_data"
    }
   ],
   "source": [
    "display(_corr_mat.quantile(np.arange(0.999, 1.0, 0.0001)))"
   ]
  },
  {
   "cell_type": "markdown",
   "id": "0ed3b3a6-f1ea-4f39-9363-f33b835413d2",
   "metadata": {
    "papermill": {
     "duration": 0.02299,
     "end_time": "2022-12-05T18:48:27.341709",
     "exception": false,
     "start_time": "2022-12-05T18:48:27.318719",
     "status": "completed"
    },
    "tags": []
   },
   "source": [
    "### Plot: distribution"
   ]
  },
  {
   "cell_type": "code",
   "execution_count": 54,
   "id": "8301126b-a7d4-4744-9c7d-f0f86eb6f54c",
   "metadata": {
    "execution": {
     "iopub.execute_input": "2022-12-05T18:48:27.381328Z",
     "iopub.status.busy": "2022-12-05T18:48:27.381018Z",
     "iopub.status.idle": "2022-12-05T18:49:43.519243Z",
     "shell.execute_reply": "2022-12-05T18:49:43.518777Z"
    },
    "papermill": {
     "duration": 76.180545,
     "end_time": "2022-12-05T18:49:43.545365",
     "exception": false,
     "start_time": "2022-12-05T18:48:27.364820",
     "status": "completed"
    },
    "tags": []
   },
   "outputs": [
    {
     "data": {
      "image/png": "[encoded data removed]",
      "text/plain": [
       "<Figure size 700x700 with 1 Axes>"
      ]
     },
     "metadata": {},
     "output_type": "display_data"
    }
   ],
   "source": [
    "with sns.plotting_context(\"paper\", font_scale=1.5):\n",
    "    g = sns.displot(_corr_mat, kde=True, height=7)\n",
    "    g.ax.set_title(\"Distribution of gene correlation values in all chromosomes\")"
   ]
  },
  {
   "cell_type": "markdown",
   "id": "e209767d-44b8-48a4-ad28-478703a3b5bd",
   "metadata": {
    "papermill": {
     "duration": 0.023658,
     "end_time": "2022-12-05T18:49:43.592833",
     "exception": false,
     "start_time": "2022-12-05T18:49:43.569175",
     "status": "completed"
    },
    "tags": []
   },
   "source": [
    "### Plot: heatmap"
   ]
  },
  {
   "cell_type": "code",
   "execution_count": 55,
   "id": "d03fe63a-c7b2-4fb9-a53c-db362ce843c9",
   "metadata": {
    "execution": {
     "iopub.execute_input": "2022-12-05T18:49:43.621949Z",
     "iopub.status.busy": "2022-12-05T18:49:43.621800Z",
     "iopub.status.idle": "2022-12-05T18:49:43.765210Z",
     "shell.execute_reply": "2022-12-05T18:49:43.764706Z"
    },
    "papermill": {
     "duration": 0.157515,
     "end_time": "2022-12-05T18:49:43.766352",
     "exception": false,
     "start_time": "2022-12-05T18:49:43.608837",
     "status": "completed"
    },
    "tags": []
   },
   "outputs": [
    {
     "data": {
      "text/plain": [
       "'0.0 / 0.05'"
      ]
     },
     "metadata": {},
     "output_type": "display_data"
    }
   ],
   "source": [
    "vmin_val = 0.0\n",
    "vmax_val = max(0.05, _corr_mat.quantile(0.99))\n",
    "display(f\"{vmin_val} / {vmax_val}\")"
   ]
  },
  {
   "cell_type": "code",
   "execution_count": 56,
   "id": "dc41b70b-5bcc-4d9e-9f33-a22c4a94dab5",
   "metadata": {
    "execution": {
     "iopub.execute_input": "2022-12-05T18:49:43.804521Z",
     "iopub.status.busy": "2022-12-05T18:49:43.804383Z",
     "iopub.status.idle": "2022-12-05T18:50:14.785935Z",
     "shell.execute_reply": "2022-12-05T18:50:14.785356Z"
    },
    "papermill": {
     "duration": 31.038456,
     "end_time": "2022-12-05T18:50:14.823685",
     "exception": false,
     "start_time": "2022-12-05T18:49:43.785229",
     "status": "completed"
    },
    "tags": []
   },
   "outputs": [
    {
     "data": {
      "text/plain": [
       "Text(0.5, 1.0, 'Gene correlations in all chromosomes')"
      ]
     },
     "execution_count": 56,
     "metadata": {},
     "output_type": "execute_result"
    },
    {
     "data": {
      "image/png": "[encoded data removed]",
      "text/plain": [
       "<Figure size 1000x1000 with 2 Axes>"
      ]
     },
     "metadata": {},
     "output_type": "display_data"
    }
   ],
   "source": [
    "f, ax = plt.subplots(figsize=(10, 10))\n",
    "sns.heatmap(\n",
    "    full_corr_matrix,\n",
    "    xticklabels=False,\n",
    "    yticklabels=False,\n",
    "    square=True,\n",
    "    vmin=vmin_val,\n",
    "    vmax=vmax_val,\n",
    "    cmap=\"rocket_r\",\n",
    "    ax=ax,\n",
    ")\n",
    "ax.set_title(\"Gene correlations in all chromosomes\")"
   ]
  },
  {
   "cell_type": "markdown",
   "id": "5a1b7488-1c3b-4c8b-b619-3b063b3f83c6",
   "metadata": {
    "papermill": {
     "duration": 0.025668,
     "end_time": "2022-12-05T18:50:14.875224",
     "exception": false,
     "start_time": "2022-12-05T18:50:14.849556",
     "status": "completed"
    },
    "tags": []
   },
   "source": [
    "## On nonzero correlations"
   ]
  },
  {
   "cell_type": "code",
   "execution_count": 57,
   "id": "0a07752e-b62f-4f01-af30-847efe9bba54",
   "metadata": {
    "execution": {
     "iopub.execute_input": "2022-12-05T18:50:14.906131Z",
     "iopub.status.busy": "2022-12-05T18:50:14.906011Z",
     "iopub.status.idle": "2022-12-05T18:50:14.946740Z",
     "shell.execute_reply": "2022-12-05T18:50:14.946115Z"
    },
    "papermill": {
     "duration": 0.055227,
     "end_time": "2022-12-05T18:50:14.947753",
     "exception": false,
     "start_time": "2022-12-05T18:50:14.892526",
     "status": "completed"
    },
    "tags": []
   },
   "outputs": [],
   "source": [
    "nonzero_corrs = full_corr_matrix_flat[full_corr_matrix_flat > 0.0]"
   ]
  },
  {
   "cell_type": "code",
   "execution_count": 58,
   "id": "3b509dde-e4ec-4e14-a7d5-09e3fe584027",
   "metadata": {
    "execution": {
     "iopub.execute_input": "2022-12-05T18:50:14.975541Z",
     "iopub.status.busy": "2022-12-05T18:50:14.975082Z",
     "iopub.status.idle": "2022-12-05T18:50:14.995066Z",
     "shell.execute_reply": "2022-12-05T18:50:14.994480Z"
    },
    "papermill": {
     "duration": 0.034944,
     "end_time": "2022-12-05T18:50:14.996182",
     "exception": false,
     "start_time": "2022-12-05T18:50:14.961238",
     "status": "completed"
    },
    "tags": []
   },
   "outputs": [],
   "source": [
    "_corr_mat = nonzero_corrs"
   ]
  },
  {
   "cell_type": "code",
   "execution_count": 59,
   "id": "427cd6b6-411c-4bce-9129-f7e128c9992f",
   "metadata": {
    "execution": {
     "iopub.execute_input": "2022-12-05T18:50:15.023657Z",
     "iopub.status.busy": "2022-12-05T18:50:15.023448Z",
     "iopub.status.idle": "2022-12-05T18:50:15.043942Z",
     "shell.execute_reply": "2022-12-05T18:50:15.043363Z"
    },
    "papermill": {
     "duration": 0.035382,
     "end_time": "2022-12-05T18:50:15.045007",
     "exception": false,
     "start_time": "2022-12-05T18:50:15.009625",
     "status": "completed"
    },
    "tags": []
   },
   "outputs": [
    {
     "data": {
      "text/plain": [
       "(161001,)"
      ]
     },
     "execution_count": 59,
     "metadata": {},
     "output_type": "execute_result"
    }
   ],
   "source": [
    "_corr_mat.shape"
   ]
  },
  {
   "cell_type": "code",
   "execution_count": 60,
   "id": "684ee3aa-d1bf-4f39-883e-1c9cda28f332",
   "metadata": {
    "execution": {
     "iopub.execute_input": "2022-12-05T18:50:15.072527Z",
     "iopub.status.busy": "2022-12-05T18:50:15.072051Z",
     "iopub.status.idle": "2022-12-05T18:50:15.093522Z",
     "shell.execute_reply": "2022-12-05T18:50:15.092878Z"
    },
    "papermill": {
     "duration": 0.036159,
     "end_time": "2022-12-05T18:50:15.094481",
     "exception": false,
     "start_time": "2022-12-05T18:50:15.058322",
     "status": "completed"
    },
    "tags": []
   },
   "outputs": [
    {
     "data": {
      "text/plain": [
       "ENSG00000188290  ENSG00000188976    0.120590\n",
       "ENSG00000187608  ENSG00000188976    0.177063\n",
       "                 ENSG00000188290    0.672060\n",
       "ENSG00000188157  ENSG00000188976    0.085746\n",
       "                 ENSG00000188290    0.391127\n",
       "dtype: float64"
      ]
     },
     "execution_count": 60,
     "metadata": {},
     "output_type": "execute_result"
    }
   ],
   "source": [
    "_corr_mat.head()"
   ]
  },
  {
   "cell_type": "code",
   "execution_count": 61,
   "id": "87467e53-a225-48f9-86ef-d00978925faa",
   "metadata": {
    "execution": {
     "iopub.execute_input": "2022-12-05T18:50:15.121990Z",
     "iopub.status.busy": "2022-12-05T18:50:15.121784Z",
     "iopub.status.idle": "2022-12-05T18:50:15.152143Z",
     "shell.execute_reply": "2022-12-05T18:50:15.151475Z"
    },
    "papermill": {
     "duration": 0.045242,
     "end_time": "2022-12-05T18:50:15.153102",
     "exception": false,
     "start_time": "2022-12-05T18:50:15.107860",
     "status": "completed"
    },
    "tags": []
   },
   "outputs": [
    {
     "data": {
      "text/plain": [
       "count                 161001.0\n",
       "mean      0.021287164613111035\n",
       "std        0.07529265425027146\n",
       "min      6.174405722358211e-22\n",
       "25%      0.0016661464345287223\n",
       "50%       0.005372395196016125\n",
       "75%        0.00918834207114678\n",
       "max         0.9999999999999977\n",
       "dtype: object"
      ]
     },
     "execution_count": 61,
     "metadata": {},
     "output_type": "execute_result"
    }
   ],
   "source": [
    "_corr_mat.describe().apply(str)"
   ]
  },
  {
   "cell_type": "code",
   "execution_count": 62,
   "id": "ece1b4b2-1764-4893-bb0e-837f5d1a6677",
   "metadata": {
    "execution": {
     "iopub.execute_input": "2022-12-05T18:50:15.181035Z",
     "iopub.status.busy": "2022-12-05T18:50:15.180545Z",
     "iopub.status.idle": "2022-12-05T18:50:15.213924Z",
     "shell.execute_reply": "2022-12-05T18:50:15.213269Z"
    },
    "papermill": {
     "duration": 0.048339,
     "end_time": "2022-12-05T18:50:15.214938",
     "exception": false,
     "start_time": "2022-12-05T18:50:15.166599",
     "status": "completed"
    },
    "tags": []
   },
   "outputs": [
    {
     "data": {
      "text/plain": [
       "0.00    6.174406e-22\n",
       "0.05    1.226628e-17\n",
       "0.10    3.819327e-17\n",
       "0.15    8.925766e-17\n",
       "0.20    2.923551e-16\n",
       "0.25    1.666146e-03\n",
       "0.30    2.644817e-03\n",
       "0.35    3.435831e-03\n",
       "0.40    4.113785e-03\n",
       "0.45    4.740195e-03\n",
       "0.50    5.372395e-03\n",
       "0.55    6.002977e-03\n",
       "0.60    6.667714e-03\n",
       "0.65    7.390359e-03\n",
       "0.70    8.200990e-03\n",
       "0.75    9.188342e-03\n",
       "0.80    1.053458e-02\n",
       "0.85    1.281619e-02\n",
       "0.90    2.136614e-02\n",
       "0.95    8.339241e-02\n",
       "dtype: float64"
      ]
     },
     "metadata": {},
     "output_type": "display_data"
    }
   ],
   "source": [
    "display(_corr_mat.quantile(np.arange(0, 1, 0.05)))"
   ]
  },
  {
   "cell_type": "code",
   "execution_count": 63,
   "id": "3543f16e-1453-44e5-ab68-0d03450e559b",
   "metadata": {
    "execution": {
     "iopub.execute_input": "2022-12-05T18:50:15.267156Z",
     "iopub.status.busy": "2022-12-05T18:50:15.266947Z",
     "iopub.status.idle": "2022-12-05T18:50:15.293615Z",
     "shell.execute_reply": "2022-12-05T18:50:15.292955Z"
    },
    "papermill": {
     "duration": 0.054517,
     "end_time": "2022-12-05T18:50:15.295166",
     "exception": false,
     "start_time": "2022-12-05T18:50:15.240649",
     "status": "completed"
    },
    "tags": []
   },
   "outputs": [
    {
     "data": {
      "text/plain": [
       "0.0000    6.174406e-22\n",
       "0.0001    1.339959e-20\n",
       "0.0002    2.913651e-20\n",
       "0.0003    3.984717e-20\n",
       "0.0004    5.503663e-20\n",
       "0.0005    7.180908e-20\n",
       "0.0006    8.410806e-20\n",
       "0.0007    9.309915e-20\n",
       "0.0008    1.047254e-19\n",
       "0.0009    1.172274e-19\n",
       "dtype: float64"
      ]
     },
     "metadata": {},
     "output_type": "display_data"
    }
   ],
   "source": [
    "display(_corr_mat.quantile(np.arange(0, 0.001, 0.0001)))"
   ]
  },
  {
   "cell_type": "code",
   "execution_count": 64,
   "id": "bb34d782-9aaa-48ce-b526-8323522166a3",
   "metadata": {
    "execution": {
     "iopub.execute_input": "2022-12-05T18:50:15.346018Z",
     "iopub.status.busy": "2022-12-05T18:50:15.345809Z",
     "iopub.status.idle": "2022-12-05T18:50:15.370818Z",
     "shell.execute_reply": "2022-12-05T18:50:15.370228Z"
    },
    "papermill": {
     "duration": 0.051184,
     "end_time": "2022-12-05T18:50:15.371778",
     "exception": false,
     "start_time": "2022-12-05T18:50:15.320594",
     "status": "completed"
    },
    "tags": []
   },
   "outputs": [
    {
     "data": {
      "text/plain": [
       "0.9990    0.768463\n",
       "0.9991    0.783436\n",
       "0.9992    0.793351\n",
       "0.9993    0.804966\n",
       "0.9994    0.826526\n",
       "0.9995    0.858734\n",
       "0.9996    0.889738\n",
       "0.9997    0.931425\n",
       "0.9998    0.956656\n",
       "0.9999    0.984731\n",
       "1.0000    1.000000\n",
       "dtype: float64"
      ]
     },
     "metadata": {},
     "output_type": "display_data"
    }
   ],
   "source": [
    "display(_corr_mat.quantile(np.arange(0.999, 1.0, 0.0001)))"
   ]
  },
  {
   "cell_type": "markdown",
   "id": "fd4ce75c-e759-48b5-9b2b-584438302fff",
   "metadata": {
    "papermill": {
     "duration": 0.013363,
     "end_time": "2022-12-05T18:50:15.398553",
     "exception": false,
     "start_time": "2022-12-05T18:50:15.385190",
     "status": "completed"
    },
    "tags": []
   },
   "source": [
    "### Plot: distribution"
   ]
  },
  {
   "cell_type": "code",
   "execution_count": 65,
   "id": "7da6aa50-81da-4f75-9d54-4fad6a3fb5a5",
   "metadata": {
    "execution": {
     "iopub.execute_input": "2022-12-05T18:50:15.426712Z",
     "iopub.status.busy": "2022-12-05T18:50:15.426145Z",
     "iopub.status.idle": "2022-12-05T18:50:20.802870Z",
     "shell.execute_reply": "2022-12-05T18:50:20.802297Z"
    },
    "papermill": {
     "duration": 5.392338,
     "end_time": "2022-12-05T18:50:20.804307",
     "exception": false,
     "start_time": "2022-12-05T18:50:15.411969",
     "status": "completed"
    },
    "tags": []
   },
   "outputs": [
    {
     "data": {
      "image/png": "[encoded data removed]",
      "text/plain": [
       "<Figure size 700x700 with 1 Axes>"
      ]
     },
     "metadata": {},
     "output_type": "display_data"
    }
   ],
   "source": [
    "with sns.plotting_context(\"paper\", font_scale=1.5):\n",
    "    g = sns.displot(_corr_mat, kde=True, height=7)\n",
    "    g.ax.set_title(\"Distribution of gene correlation values in all chromosomes\")"
   ]
  },
  {
   "cell_type": "code",
   "execution_count": null,
   "id": "38cf09b7",
   "metadata": {
    "papermill": {
     "duration": 0.026997,
     "end_time": "2022-12-05T18:50:20.859252",
     "exception": false,
     "start_time": "2022-12-05T18:50:20.832255",
     "status": "completed"
    },
    "tags": []
   },
   "outputs": [],
   "source": []
  }
 ],
 "metadata": {
  "jupytext": {
   "cell_metadata_filter": "all,-execution,-papermill,-trusted",
   "formats": "ipynb,py//py:percent"
  },
  "kernelspec": {
   "display_name": "Python 3 (ipykernel)",
   "language": "python",
   "name": "python3"
  },
  "language_info": {
   "codemirror_mode": {
    "name": "ipython",
    "version": 3
   },
   "file_extension": ".py",
   "mimetype": "text/x-python",
   "name": "python",
   "nbconvert_exporter": "python",
   "pygments_lexer": "ipython3",
   "version": "3.10.6"
  },
  "papermill": {
   "default_parameters": {},
   "duration": 207.748842,
   "end_time": "2022-12-05T18:50:21.403567",
   "environment_variables": {},
   "exception": null,
   "input_path": "projects/asthma-copd/nbs/20_gene_corrs/jobs/10-postprocess_gene_expr_correlations.ipynb",
   "output_path": "projects/asthma-copd/nbs/20_gene_corrs/jobs/../output/copd_only/10-postprocess_gene_expr_correlations.run.ipynb",
   "parameters": {
    "COHORT_NAME": "copd_only",
    "OUTPUT_DIR_BASE": "/opt/data/projects/asthma-copd/results/gls_phenoplier",
    "PHENOPLIER_NOTEBOOK_FILEPATH": "projects/asthma-copd/nbs/20_gene_corrs/jobs/10-postprocess_gene_expr_correlations.ipynb"
   },
   "start_time": "2022-12-05T18:46:53.654725",
   "version": "2.2.2"
  }
 },
 "nbformat": 4,
 "nbformat_minor": 5
}
