{
 "cells": [
  {
   "cell_type": "markdown",
   "id": "5ef66977",
   "metadata": {
    "papermill": {
     "duration": 0.011661,
     "end_time": "2022-12-15T19:02:35.296078",
     "exception": false,
     "start_time": "2022-12-15T19:02:35.284417",
     "status": "completed"
    },
    "tags": []
   },
   "source": [
    "# Description"
   ]
  },
  {
   "cell_type": "markdown",
   "id": "658d4f7c",
   "metadata": {
    "papermill": {
     "duration": 0.011113,
     "end_time": "2022-12-15T19:02:35.318153",
     "exception": false,
     "start_time": "2022-12-15T19:02:35.307040",
     "status": "completed"
    },
    "tags": []
   },
   "source": [
    "(Please, take a look at the README.md file in this directory for instructions on how to run this notebook)\n",
    "\n",
    "This notebook reads all gene correlations across all chromosomes and computes a single correlation matrix by assembling a big correlation matrix with all genes.\n",
    "\n",
    "It has specicfic parameters for papermill (see under `Settings` below).\n",
    "\n",
    "This notebook is not directly run. See README.md."
   ]
  },
  {
   "cell_type": "markdown",
   "id": "60fa4530",
   "metadata": {
    "papermill": {
     "duration": 0.010767,
     "end_time": "2022-12-15T19:02:35.340442",
     "exception": false,
     "start_time": "2022-12-15T19:02:35.329675",
     "status": "completed"
    },
    "tags": []
   },
   "source": [
    "# Modules"
   ]
  },
  {
   "cell_type": "code",
   "execution_count": 1,
   "id": "d70b0833",
   "metadata": {
    "execution": {
     "iopub.execute_input": "2022-12-15T19:02:35.363295Z",
     "iopub.status.busy": "2022-12-15T19:02:35.363013Z",
     "iopub.status.idle": "2022-12-15T19:02:35.381240Z",
     "shell.execute_reply": "2022-12-15T19:02:35.380647Z"
    },
    "papermill": {
     "duration": 0.030946,
     "end_time": "2022-12-15T19:02:35.382201",
     "exception": false,
     "start_time": "2022-12-15T19:02:35.351255",
     "status": "completed"
    },
    "tags": []
   },
   "outputs": [],
   "source": [
    "%load_ext autoreload\n",
    "%autoreload 2"
   ]
  },
  {
   "cell_type": "code",
   "execution_count": 2,
   "id": "6b2f9ca0",
   "metadata": {
    "execution": {
     "iopub.execute_input": "2022-12-15T19:02:35.394910Z",
     "iopub.status.busy": "2022-12-15T19:02:35.394521Z",
     "iopub.status.idle": "2022-12-15T19:02:36.060773Z",
     "shell.execute_reply": "2022-12-15T19:02:36.060214Z"
    },
    "papermill": {
     "duration": 0.674294,
     "end_time": "2022-12-15T19:02:36.062467",
     "exception": false,
     "start_time": "2022-12-15T19:02:35.388173",
     "status": "completed"
    },
    "tags": []
   },
   "outputs": [],
   "source": [
    "import pickle\n",
    "from pathlib import Path\n",
    "\n",
    "import numpy as np\n",
    "from scipy.spatial.distance import squareform\n",
    "import pandas as pd\n",
    "import matplotlib.pyplot as plt\n",
    "import seaborn as sns\n",
    "\n",
    "import conf\n",
    "from entity import Gene\n",
    "from correlations import (\n",
    "    check_pos_def,\n",
    "    compare_matrices,\n",
    "    correct_corr_mat,\n",
    "    adjust_non_pos_def,\n",
    ")"
   ]
  },
  {
   "cell_type": "markdown",
   "id": "5b96e797",
   "metadata": {
    "papermill": {
     "duration": 0.010862,
     "end_time": "2022-12-15T19:02:36.084587",
     "exception": false,
     "start_time": "2022-12-15T19:02:36.073725",
     "status": "completed"
    },
    "tags": []
   },
   "source": [
    "# Settings"
   ]
  },
  {
   "cell_type": "code",
   "execution_count": 3,
   "id": "4fc1b6a0",
   "metadata": {
    "execution": {
     "iopub.execute_input": "2022-12-15T19:02:36.107516Z",
     "iopub.status.busy": "2022-12-15T19:02:36.107276Z",
     "iopub.status.idle": "2022-12-15T19:02:36.120634Z",
     "shell.execute_reply": "2022-12-15T19:02:36.120160Z"
    },
    "papermill": {
     "duration": 0.026226,
     "end_time": "2022-12-15T19:02:36.121907",
     "exception": false,
     "start_time": "2022-12-15T19:02:36.095681",
     "status": "completed"
    },
    "tags": [
     "parameters"
    ]
   },
   "outputs": [],
   "source": [
    "# a cohort name (it could be something like UK_BIOBANK, etc)\n",
    "COHORT_NAME = None\n",
    "\n",
    "# reference panel such as 1000G or GTEX_V8\n",
    "REFERENCE_PANEL = \"GTEX_V8\"\n",
    "\n",
    "# predictions models such as MASHR or ELASTIC_NET\n",
    "EQTL_MODEL = \"MASHR\"\n",
    "\n",
    "# output dir\n",
    "OUTPUT_DIR_BASE = None"
   ]
  },
  {
   "cell_type": "code",
   "execution_count": 4,
   "id": "ce922ddf",
   "metadata": {
    "execution": {
     "iopub.execute_input": "2022-12-15T19:02:36.144289Z",
     "iopub.status.busy": "2022-12-15T19:02:36.144096Z",
     "iopub.status.idle": "2022-12-15T19:02:36.156577Z",
     "shell.execute_reply": "2022-12-15T19:02:36.156105Z"
    },
    "papermill": {
     "duration": 0.024989,
     "end_time": "2022-12-15T19:02:36.157825",
     "exception": false,
     "start_time": "2022-12-15T19:02:36.132836",
     "status": "completed"
    },
    "tags": [
     "injected-parameters"
    ]
   },
   "outputs": [],
   "source": [
    "# Parameters\n",
    "PHENOPLIER_NOTEBOOK_FILEPATH = \"projects/asthma-copd/nbs/20_gene_corrs/jobs/10-postprocess_gene_expr_correlations.ipynb\"\n",
    "COHORT_NAME = \"copd_only\"\n",
    "OUTPUT_DIR_BASE = \"/opt/data/projects/asthma-copd/results/gls_phenoplier\"\n"
   ]
  },
  {
   "cell_type": "code",
   "execution_count": 5,
   "id": "6dba5c90-40a4-4a62-899e-1711ab4e40bb",
   "metadata": {
    "execution": {
     "iopub.execute_input": "2022-12-15T19:02:36.180709Z",
     "iopub.status.busy": "2022-12-15T19:02:36.180523Z",
     "iopub.status.idle": "2022-12-15T19:02:36.203229Z",
     "shell.execute_reply": "2022-12-15T19:02:36.202695Z"
    },
    "papermill": {
     "duration": 0.035455,
     "end_time": "2022-12-15T19:02:36.204671",
     "exception": false,
     "start_time": "2022-12-15T19:02:36.169216",
     "status": "completed"
    },
    "tags": []
   },
   "outputs": [
    {
     "data": {
      "text/plain": [
       "'Cohort name: copd_only'"
      ]
     },
     "metadata": {},
     "output_type": "display_data"
    }
   ],
   "source": [
    "assert COHORT_NAME is not None and len(COHORT_NAME) > 0, \"A cohort name must be given\"\n",
    "\n",
    "COHORT_NAME = COHORT_NAME.lower()\n",
    "display(f\"Cohort name: {COHORT_NAME}\")"
   ]
  },
  {
   "cell_type": "code",
   "execution_count": 6,
   "id": "90be4359-19db-4c2d-a3ca-202674476164",
   "metadata": {
    "execution": {
     "iopub.execute_input": "2022-12-15T19:02:36.227685Z",
     "iopub.status.busy": "2022-12-15T19:02:36.227434Z",
     "iopub.status.idle": "2022-12-15T19:02:36.246365Z",
     "shell.execute_reply": "2022-12-15T19:02:36.245824Z"
    },
    "papermill": {
     "duration": 0.031884,
     "end_time": "2022-12-15T19:02:36.247731",
     "exception": false,
     "start_time": "2022-12-15T19:02:36.215847",
     "status": "completed"
    },
    "tags": []
   },
   "outputs": [
    {
     "data": {
      "text/plain": [
       "'Reference panel: GTEX_V8'"
      ]
     },
     "metadata": {},
     "output_type": "display_data"
    }
   ],
   "source": [
    "assert (\n",
    "    REFERENCE_PANEL is not None and len(REFERENCE_PANEL) > 0\n",
    "), \"A reference panel must be given\"\n",
    "\n",
    "display(f\"Reference panel: {REFERENCE_PANEL}\")"
   ]
  },
  {
   "cell_type": "code",
   "execution_count": 7,
   "id": "d959f3f4-8f7b-4313-b3b1-37606e7250bf",
   "metadata": {
    "execution": {
     "iopub.execute_input": "2022-12-15T19:02:36.274078Z",
     "iopub.status.busy": "2022-12-15T19:02:36.273750Z",
     "iopub.status.idle": "2022-12-15T19:02:36.292939Z",
     "shell.execute_reply": "2022-12-15T19:02:36.292398Z"
    },
    "papermill": {
     "duration": 0.032705,
     "end_time": "2022-12-15T19:02:36.294318",
     "exception": false,
     "start_time": "2022-12-15T19:02:36.261613",
     "status": "completed"
    },
    "tags": []
   },
   "outputs": [
    {
     "data": {
      "text/plain": [
       "'eQTL model: MASHR)'"
      ]
     },
     "metadata": {},
     "output_type": "display_data"
    }
   ],
   "source": [
    "assert (\n",
    "    EQTL_MODEL is not None and len(EQTL_MODEL) > 0\n",
    "), \"A prediction/eQTL model must be given\"\n",
    "\n",
    "display(f\"eQTL model: {EQTL_MODEL})\")"
   ]
  },
  {
   "cell_type": "code",
   "execution_count": 8,
   "id": "ac0c0705-90e4-42f8-8298-a457c7e778ff",
   "metadata": {
    "execution": {
     "iopub.execute_input": "2022-12-15T19:02:36.318027Z",
     "iopub.status.busy": "2022-12-15T19:02:36.317536Z",
     "iopub.status.idle": "2022-12-15T19:02:36.339936Z",
     "shell.execute_reply": "2022-12-15T19:02:36.339342Z"
    },
    "papermill": {
     "duration": 0.035605,
     "end_time": "2022-12-15T19:02:36.341283",
     "exception": false,
     "start_time": "2022-12-15T19:02:36.305678",
     "status": "completed"
    },
    "tags": []
   },
   "outputs": [
    {
     "data": {
      "text/plain": [
       "'Using output dir base: /opt/data/projects/asthma-copd/results/gls_phenoplier/gene_corrs/copd_only'"
      ]
     },
     "metadata": {},
     "output_type": "display_data"
    }
   ],
   "source": [
    "assert (\n",
    "    OUTPUT_DIR_BASE is not None and len(OUTPUT_DIR_BASE) > 0\n",
    "), \"Output directory path must be given\"\n",
    "\n",
    "OUTPUT_DIR_BASE = (Path(OUTPUT_DIR_BASE) / \"gene_corrs\" / COHORT_NAME).resolve()\n",
    "\n",
    "OUTPUT_DIR_BASE.mkdir(parents=True, exist_ok=True)\n",
    "\n",
    "display(f\"Using output dir base: {OUTPUT_DIR_BASE}\")"
   ]
  },
  {
   "cell_type": "code",
   "execution_count": 9,
   "id": "1afd50f7",
   "metadata": {
    "execution": {
     "iopub.execute_input": "2022-12-15T19:02:36.365571Z",
     "iopub.status.busy": "2022-12-15T19:02:36.365073Z",
     "iopub.status.idle": "2022-12-15T19:02:36.386665Z",
     "shell.execute_reply": "2022-12-15T19:02:36.386134Z"
    },
    "papermill": {
     "duration": 0.034454,
     "end_time": "2022-12-15T19:02:36.387472",
     "exception": false,
     "start_time": "2022-12-15T19:02:36.353018",
     "status": "completed"
    },
    "tags": []
   },
   "outputs": [
    {
     "data": {
      "text/plain": [
       "'Gene correlations input dir: /opt/data/projects/asthma-copd/results/gls_phenoplier/gene_corrs/copd_only/by_chr'"
      ]
     },
     "metadata": {},
     "output_type": "display_data"
    }
   ],
   "source": [
    "INPUT_DIR = OUTPUT_DIR_BASE / \"by_chr\"\n",
    "\n",
    "display(f\"Gene correlations input dir: {INPUT_DIR}\")\n",
    "assert INPUT_DIR.exists()"
   ]
  },
  {
   "cell_type": "markdown",
   "id": "99ccb166",
   "metadata": {
    "papermill": {
     "duration": 0.005997,
     "end_time": "2022-12-15T19:02:36.399560",
     "exception": false,
     "start_time": "2022-12-15T19:02:36.393563",
     "status": "completed"
    },
    "tags": []
   },
   "source": [
    "# Load data"
   ]
  },
  {
   "cell_type": "markdown",
   "id": "028bdd42",
   "metadata": {
    "papermill": {
     "duration": 0.005985,
     "end_time": "2022-12-15T19:02:36.411955",
     "exception": false,
     "start_time": "2022-12-15T19:02:36.405970",
     "status": "completed"
    },
    "tags": []
   },
   "source": [
    "## Gene correlations"
   ]
  },
  {
   "cell_type": "code",
   "execution_count": 10,
   "id": "04624465",
   "metadata": {
    "execution": {
     "iopub.execute_input": "2022-12-15T19:02:36.425253Z",
     "iopub.status.busy": "2022-12-15T19:02:36.424719Z",
     "iopub.status.idle": "2022-12-15T19:02:36.446907Z",
     "shell.execute_reply": "2022-12-15T19:02:36.446362Z"
    },
    "papermill": {
     "duration": 0.029883,
     "end_time": "2022-12-15T19:02:36.447859",
     "exception": false,
     "start_time": "2022-12-15T19:02:36.417976",
     "status": "completed"
    },
    "tags": []
   },
   "outputs": [],
   "source": [
    "all_gene_corr_files = list(INPUT_DIR.glob(\"gene_corrs-chr*.pkl\"))"
   ]
  },
  {
   "cell_type": "code",
   "execution_count": 11,
   "id": "be5869e7-d0e4-4b8f-8c6d-a1c6a9419fe2",
   "metadata": {
    "execution": {
     "iopub.execute_input": "2022-12-15T19:02:36.461616Z",
     "iopub.status.busy": "2022-12-15T19:02:36.461155Z",
     "iopub.status.idle": "2022-12-15T19:02:36.483439Z",
     "shell.execute_reply": "2022-12-15T19:02:36.482931Z"
    },
    "papermill": {
     "duration": 0.029975,
     "end_time": "2022-12-15T19:02:36.484337",
     "exception": false,
     "start_time": "2022-12-15T19:02:36.454362",
     "status": "completed"
    },
    "tags": []
   },
   "outputs": [],
   "source": [
    "# sort by chromosome\n",
    "all_gene_corr_files = sorted(\n",
    "    all_gene_corr_files, key=lambda x: int(x.name.split(\"-chr\")[1].split(\".pkl\")[0])\n",
    ")"
   ]
  },
  {
   "cell_type": "code",
   "execution_count": 12,
   "id": "7d1168f5",
   "metadata": {
    "execution": {
     "iopub.execute_input": "2022-12-15T19:02:36.497952Z",
     "iopub.status.busy": "2022-12-15T19:02:36.497418Z",
     "iopub.status.idle": "2022-12-15T19:02:36.520406Z",
     "shell.execute_reply": "2022-12-15T19:02:36.519856Z"
    },
    "papermill": {
     "duration": 0.030671,
     "end_time": "2022-12-15T19:02:36.521277",
     "exception": false,
     "start_time": "2022-12-15T19:02:36.490606",
     "status": "completed"
    },
    "tags": []
   },
   "outputs": [
    {
     "data": {
      "text/plain": [
       "22"
      ]
     },
     "execution_count": 12,
     "metadata": {},
     "output_type": "execute_result"
    }
   ],
   "source": [
    "len(all_gene_corr_files)"
   ]
  },
  {
   "cell_type": "code",
   "execution_count": 13,
   "id": "39364170",
   "metadata": {
    "execution": {
     "iopub.execute_input": "2022-12-15T19:02:36.535006Z",
     "iopub.status.busy": "2022-12-15T19:02:36.534509Z",
     "iopub.status.idle": "2022-12-15T19:02:36.557428Z",
     "shell.execute_reply": "2022-12-15T19:02:36.556942Z"
    },
    "papermill": {
     "duration": 0.030558,
     "end_time": "2022-12-15T19:02:36.558256",
     "exception": false,
     "start_time": "2022-12-15T19:02:36.527698",
     "status": "completed"
    },
    "tags": []
   },
   "outputs": [
    {
     "data": {
      "text/plain": [
       "[PosixPath('/opt/data/projects/asthma-copd/results/gls_phenoplier/gene_corrs/copd_only/by_chr/gene_corrs-chr1.pkl'),\n",
       " PosixPath('/opt/data/projects/asthma-copd/results/gls_phenoplier/gene_corrs/copd_only/by_chr/gene_corrs-chr2.pkl'),\n",
       " PosixPath('/opt/data/projects/asthma-copd/results/gls_phenoplier/gene_corrs/copd_only/by_chr/gene_corrs-chr3.pkl'),\n",
       " PosixPath('/opt/data/projects/asthma-copd/results/gls_phenoplier/gene_corrs/copd_only/by_chr/gene_corrs-chr4.pkl'),\n",
       " PosixPath('/opt/data/projects/asthma-copd/results/gls_phenoplier/gene_corrs/copd_only/by_chr/gene_corrs-chr5.pkl'),\n",
       " PosixPath('/opt/data/projects/asthma-copd/results/gls_phenoplier/gene_corrs/copd_only/by_chr/gene_corrs-chr6.pkl'),\n",
       " PosixPath('/opt/data/projects/asthma-copd/results/gls_phenoplier/gene_corrs/copd_only/by_chr/gene_corrs-chr7.pkl'),\n",
       " PosixPath('/opt/data/projects/asthma-copd/results/gls_phenoplier/gene_corrs/copd_only/by_chr/gene_corrs-chr8.pkl'),\n",
       " PosixPath('/opt/data/projects/asthma-copd/results/gls_phenoplier/gene_corrs/copd_only/by_chr/gene_corrs-chr9.pkl'),\n",
       " PosixPath('/opt/data/projects/asthma-copd/results/gls_phenoplier/gene_corrs/copd_only/by_chr/gene_corrs-chr10.pkl'),\n",
       " PosixPath('/opt/data/projects/asthma-copd/results/gls_phenoplier/gene_corrs/copd_only/by_chr/gene_corrs-chr11.pkl'),\n",
       " PosixPath('/opt/data/projects/asthma-copd/results/gls_phenoplier/gene_corrs/copd_only/by_chr/gene_corrs-chr12.pkl'),\n",
       " PosixPath('/opt/data/projects/asthma-copd/results/gls_phenoplier/gene_corrs/copd_only/by_chr/gene_corrs-chr13.pkl'),\n",
       " PosixPath('/opt/data/projects/asthma-copd/results/gls_phenoplier/gene_corrs/copd_only/by_chr/gene_corrs-chr14.pkl'),\n",
       " PosixPath('/opt/data/projects/asthma-copd/results/gls_phenoplier/gene_corrs/copd_only/by_chr/gene_corrs-chr15.pkl'),\n",
       " PosixPath('/opt/data/projects/asthma-copd/results/gls_phenoplier/gene_corrs/copd_only/by_chr/gene_corrs-chr16.pkl'),\n",
       " PosixPath('/opt/data/projects/asthma-copd/results/gls_phenoplier/gene_corrs/copd_only/by_chr/gene_corrs-chr17.pkl'),\n",
       " PosixPath('/opt/data/projects/asthma-copd/results/gls_phenoplier/gene_corrs/copd_only/by_chr/gene_corrs-chr18.pkl'),\n",
       " PosixPath('/opt/data/projects/asthma-copd/results/gls_phenoplier/gene_corrs/copd_only/by_chr/gene_corrs-chr19.pkl'),\n",
       " PosixPath('/opt/data/projects/asthma-copd/results/gls_phenoplier/gene_corrs/copd_only/by_chr/gene_corrs-chr20.pkl'),\n",
       " PosixPath('/opt/data/projects/asthma-copd/results/gls_phenoplier/gene_corrs/copd_only/by_chr/gene_corrs-chr21.pkl'),\n",
       " PosixPath('/opt/data/projects/asthma-copd/results/gls_phenoplier/gene_corrs/copd_only/by_chr/gene_corrs-chr22.pkl')]"
      ]
     },
     "execution_count": 13,
     "metadata": {},
     "output_type": "execute_result"
    }
   ],
   "source": [
    "all_gene_corr_files"
   ]
  },
  {
   "cell_type": "code",
   "execution_count": 14,
   "id": "6e48c284",
   "metadata": {
    "execution": {
     "iopub.execute_input": "2022-12-15T19:02:36.572207Z",
     "iopub.status.busy": "2022-12-15T19:02:36.571843Z",
     "iopub.status.idle": "2022-12-15T19:02:36.593470Z",
     "shell.execute_reply": "2022-12-15T19:02:36.592965Z"
    },
    "papermill": {
     "duration": 0.029661,
     "end_time": "2022-12-15T19:02:36.594350",
     "exception": false,
     "start_time": "2022-12-15T19:02:36.564689",
     "status": "completed"
    },
    "tags": []
   },
   "outputs": [],
   "source": [
    "assert len(all_gene_corr_files) == 22"
   ]
  },
  {
   "cell_type": "markdown",
   "id": "99d01a88-2f71-41eb-a423-a17378bbb174",
   "metadata": {
    "papermill": {
     "duration": 0.006257,
     "end_time": "2022-12-15T19:02:36.607253",
     "exception": false,
     "start_time": "2022-12-15T19:02:36.600996",
     "status": "completed"
    },
    "tags": []
   },
   "source": [
    "## Get common genes"
   ]
  },
  {
   "cell_type": "code",
   "execution_count": 15,
   "id": "6a5e95f0-eeab-4716-8982-b1dbbd8763d8",
   "metadata": {
    "execution": {
     "iopub.execute_input": "2022-12-15T19:02:36.621166Z",
     "iopub.status.busy": "2022-12-15T19:02:36.620788Z",
     "iopub.status.idle": "2022-12-15T19:02:36.651872Z",
     "shell.execute_reply": "2022-12-15T19:02:36.651323Z"
    },
    "papermill": {
     "duration": 0.039425,
     "end_time": "2022-12-15T19:02:36.652975",
     "exception": false,
     "start_time": "2022-12-15T19:02:36.613550",
     "status": "completed"
    },
    "tags": []
   },
   "outputs": [],
   "source": [
    "gene_ids = set()\n",
    "for f in all_gene_corr_files:\n",
    "    chr_genes = pd.read_pickle(f).index.tolist()\n",
    "    gene_ids.update(chr_genes)"
   ]
  },
  {
   "cell_type": "code",
   "execution_count": 16,
   "id": "81ca7c6e-69c4-48c4-b44f-ec9a2b8bb527",
   "metadata": {
    "execution": {
     "iopub.execute_input": "2022-12-15T19:02:36.666934Z",
     "iopub.status.busy": "2022-12-15T19:02:36.666537Z",
     "iopub.status.idle": "2022-12-15T19:02:36.689300Z",
     "shell.execute_reply": "2022-12-15T19:02:36.688807Z"
    },
    "papermill": {
     "duration": 0.030544,
     "end_time": "2022-12-15T19:02:36.690137",
     "exception": false,
     "start_time": "2022-12-15T19:02:36.659593",
     "status": "completed"
    },
    "tags": []
   },
   "outputs": [
    {
     "data": {
      "text/plain": [
       "6443"
      ]
     },
     "metadata": {},
     "output_type": "display_data"
    }
   ],
   "source": [
    "display(len(gene_ids))"
   ]
  },
  {
   "cell_type": "code",
   "execution_count": 17,
   "id": "5e8a7f17-c84b-4d71-bf0d-11116a66084e",
   "metadata": {
    "execution": {
     "iopub.execute_input": "2022-12-15T19:02:36.704271Z",
     "iopub.status.busy": "2022-12-15T19:02:36.703851Z",
     "iopub.status.idle": "2022-12-15T19:02:36.729027Z",
     "shell.execute_reply": "2022-12-15T19:02:36.728531Z"
    },
    "papermill": {
     "duration": 0.033069,
     "end_time": "2022-12-15T19:02:36.729865",
     "exception": false,
     "start_time": "2022-12-15T19:02:36.696796",
     "status": "completed"
    },
    "tags": []
   },
   "outputs": [
    {
     "data": {
      "text/plain": [
       "['ENSG00000000419',\n",
       " 'ENSG00000000938',\n",
       " 'ENSG00000000971',\n",
       " 'ENSG00000001084',\n",
       " 'ENSG00000001167']"
      ]
     },
     "execution_count": 17,
     "metadata": {},
     "output_type": "execute_result"
    }
   ],
   "source": [
    "sorted(list(gene_ids))[:5]"
   ]
  },
  {
   "cell_type": "markdown",
   "id": "afb94d22-07be-4b67-b448-1d15d787e882",
   "metadata": {
    "papermill": {
     "duration": 0.006416,
     "end_time": "2022-12-15T19:02:36.742895",
     "exception": false,
     "start_time": "2022-12-15T19:02:36.736479",
     "status": "completed"
    },
    "tags": []
   },
   "source": [
    "## Gene info"
   ]
  },
  {
   "cell_type": "code",
   "execution_count": 18,
   "id": "66346539-e969-46dd-997d-c1f404646caa",
   "metadata": {
    "execution": {
     "iopub.execute_input": "2022-12-15T19:02:36.756735Z",
     "iopub.status.busy": "2022-12-15T19:02:36.756526Z",
     "iopub.status.idle": "2022-12-15T19:02:36.780658Z",
     "shell.execute_reply": "2022-12-15T19:02:36.780110Z"
    },
    "papermill": {
     "duration": 0.032286,
     "end_time": "2022-12-15T19:02:36.781710",
     "exception": false,
     "start_time": "2022-12-15T19:02:36.749424",
     "status": "completed"
    },
    "tags": []
   },
   "outputs": [],
   "source": [
    "genes_info = pd.read_pickle(OUTPUT_DIR_BASE / \"genes_info.pkl\")"
   ]
  },
  {
   "cell_type": "code",
   "execution_count": 19,
   "id": "6cf6e7f6-5c5c-4ee5-a3d6-1fab3f88fd20",
   "metadata": {
    "execution": {
     "iopub.execute_input": "2022-12-15T19:02:36.796343Z",
     "iopub.status.busy": "2022-12-15T19:02:36.795912Z",
     "iopub.status.idle": "2022-12-15T19:02:36.818873Z",
     "shell.execute_reply": "2022-12-15T19:02:36.818379Z"
    },
    "papermill": {
     "duration": 0.031184,
     "end_time": "2022-12-15T19:02:36.819716",
     "exception": false,
     "start_time": "2022-12-15T19:02:36.788532",
     "status": "completed"
    },
    "tags": []
   },
   "outputs": [
    {
     "data": {
      "text/plain": [
       "(6443, 7)"
      ]
     },
     "execution_count": 19,
     "metadata": {},
     "output_type": "execute_result"
    }
   ],
   "source": [
    "genes_info.shape"
   ]
  },
  {
   "cell_type": "code",
   "execution_count": 20,
   "id": "c0c00e56-a168-4502-bad1-178fa736b055",
   "metadata": {
    "execution": {
     "iopub.execute_input": "2022-12-15T19:02:36.834222Z",
     "iopub.status.busy": "2022-12-15T19:02:36.833724Z",
     "iopub.status.idle": "2022-12-15T19:02:36.861902Z",
     "shell.execute_reply": "2022-12-15T19:02:36.861245Z"
    },
    "papermill": {
     "duration": 0.036324,
     "end_time": "2022-12-15T19:02:36.862851",
     "exception": false,
     "start_time": "2022-12-15T19:02:36.826527",
     "status": "completed"
    },
    "tags": []
   },
   "outputs": [
    {
     "data": {
      "text/html": [
       "<div>\n",
       "<style scoped>\n",
       "    .dataframe tbody tr th:only-of-type {\n",
       "        vertical-align: middle;\n",
       "    }\n",
       "\n",
       "    .dataframe tbody tr th {\n",
       "        vertical-align: top;\n",
       "    }\n",
       "\n",
       "    .dataframe thead th {\n",
       "        text-align: right;\n",
       "    }\n",
       "</style>\n",
       "<table border=\"1\" class=\"dataframe\">\n",
       "  <thead>\n",
       "    <tr style=\"text-align: right;\">\n",
       "      <th></th>\n",
       "      <th>name</th>\n",
       "      <th>id</th>\n",
       "      <th>chr</th>\n",
       "      <th>band</th>\n",
       "      <th>start_position</th>\n",
       "      <th>end_position</th>\n",
       "      <th>gene_length</th>\n",
       "    </tr>\n",
       "  </thead>\n",
       "  <tbody>\n",
       "    <tr>\n",
       "      <th>0</th>\n",
       "      <td>MED19</td>\n",
       "      <td>ENSG00000156603</td>\n",
       "      <td>11</td>\n",
       "      <td>11q12.1</td>\n",
       "      <td>57703714</td>\n",
       "      <td>57712323</td>\n",
       "      <td>8609</td>\n",
       "    </tr>\n",
       "    <tr>\n",
       "      <th>1</th>\n",
       "      <td>GFI1</td>\n",
       "      <td>ENSG00000162676</td>\n",
       "      <td>1</td>\n",
       "      <td>1p22.1</td>\n",
       "      <td>92473043</td>\n",
       "      <td>92486925</td>\n",
       "      <td>13882</td>\n",
       "    </tr>\n",
       "    <tr>\n",
       "      <th>2</th>\n",
       "      <td>PAIP1</td>\n",
       "      <td>ENSG00000172239</td>\n",
       "      <td>5</td>\n",
       "      <td>5p12</td>\n",
       "      <td>43526267</td>\n",
       "      <td>43557758</td>\n",
       "      <td>31491</td>\n",
       "    </tr>\n",
       "    <tr>\n",
       "      <th>3</th>\n",
       "      <td>MRPS35</td>\n",
       "      <td>ENSG00000061794</td>\n",
       "      <td>12</td>\n",
       "      <td>12p11.22</td>\n",
       "      <td>27710822</td>\n",
       "      <td>27756295</td>\n",
       "      <td>45473</td>\n",
       "    </tr>\n",
       "    <tr>\n",
       "      <th>4</th>\n",
       "      <td>VAV3</td>\n",
       "      <td>ENSG00000134215</td>\n",
       "      <td>1</td>\n",
       "      <td>1p13.3</td>\n",
       "      <td>107571161</td>\n",
       "      <td>107965180</td>\n",
       "      <td>394019</td>\n",
       "    </tr>\n",
       "  </tbody>\n",
       "</table>\n",
       "</div>"
      ],
      "text/plain": [
       "     name               id  chr      band  start_position  end_position  \\\n",
       "0   MED19  ENSG00000156603   11   11q12.1        57703714      57712323   \n",
       "1    GFI1  ENSG00000162676    1    1p22.1        92473043      92486925   \n",
       "2   PAIP1  ENSG00000172239    5      5p12        43526267      43557758   \n",
       "3  MRPS35  ENSG00000061794   12  12p11.22        27710822      27756295   \n",
       "4    VAV3  ENSG00000134215    1    1p13.3       107571161     107965180   \n",
       "\n",
       "   gene_length  \n",
       "0         8609  \n",
       "1        13882  \n",
       "2        31491  \n",
       "3        45473  \n",
       "4       394019  "
      ]
     },
     "execution_count": 20,
     "metadata": {},
     "output_type": "execute_result"
    }
   ],
   "source": [
    "genes_info.head()"
   ]
  },
  {
   "cell_type": "code",
   "execution_count": 21,
   "id": "c6f52a23-0e0c-4def-8ebe-714793743f4e",
   "metadata": {
    "execution": {
     "iopub.execute_input": "2022-12-15T19:02:36.877630Z",
     "iopub.status.busy": "2022-12-15T19:02:36.877219Z",
     "iopub.status.idle": "2022-12-15T19:02:36.902397Z",
     "shell.execute_reply": "2022-12-15T19:02:36.901721Z"
    },
    "papermill": {
     "duration": 0.033803,
     "end_time": "2022-12-15T19:02:36.903535",
     "exception": false,
     "start_time": "2022-12-15T19:02:36.869732",
     "status": "completed"
    },
    "tags": []
   },
   "outputs": [],
   "source": [
    "# keep genes in correlation matrices only\n",
    "genes_info = genes_info[genes_info[\"id\"].isin(gene_ids)]"
   ]
  },
  {
   "cell_type": "code",
   "execution_count": 22,
   "id": "19cde9f2-0cad-4b4e-a409-0cff052cc77c",
   "metadata": {
    "execution": {
     "iopub.execute_input": "2022-12-15T19:02:36.918347Z",
     "iopub.status.busy": "2022-12-15T19:02:36.917793Z",
     "iopub.status.idle": "2022-12-15T19:02:36.940916Z",
     "shell.execute_reply": "2022-12-15T19:02:36.940284Z"
    },
    "papermill": {
     "duration": 0.031398,
     "end_time": "2022-12-15T19:02:36.941851",
     "exception": false,
     "start_time": "2022-12-15T19:02:36.910453",
     "status": "completed"
    },
    "tags": []
   },
   "outputs": [
    {
     "data": {
      "text/plain": [
       "(6443, 7)"
      ]
     },
     "execution_count": 22,
     "metadata": {},
     "output_type": "execute_result"
    }
   ],
   "source": [
    "genes_info.shape"
   ]
  },
  {
   "cell_type": "code",
   "execution_count": 23,
   "id": "f9e52a95-4c6e-4ce6-ae1d-df635d5dbe47",
   "metadata": {
    "execution": {
     "iopub.execute_input": "2022-12-15T19:02:36.956932Z",
     "iopub.status.busy": "2022-12-15T19:02:36.956387Z",
     "iopub.status.idle": "2022-12-15T19:02:36.982551Z",
     "shell.execute_reply": "2022-12-15T19:02:36.981880Z"
    },
    "papermill": {
     "duration": 0.034685,
     "end_time": "2022-12-15T19:02:36.983651",
     "exception": false,
     "start_time": "2022-12-15T19:02:36.948966",
     "status": "completed"
    },
    "tags": []
   },
   "outputs": [],
   "source": [
    "assert not genes_info.isna().any(axis=None)"
   ]
  },
  {
   "cell_type": "code",
   "execution_count": 24,
   "id": "90028a9b-781e-46c7-97b8-9e1676e682d4",
   "metadata": {
    "execution": {
     "iopub.execute_input": "2022-12-15T19:02:36.998862Z",
     "iopub.status.busy": "2022-12-15T19:02:36.998440Z",
     "iopub.status.idle": "2022-12-15T19:02:37.022589Z",
     "shell.execute_reply": "2022-12-15T19:02:37.021950Z"
    },
    "papermill": {
     "duration": 0.032863,
     "end_time": "2022-12-15T19:02:37.023515",
     "exception": false,
     "start_time": "2022-12-15T19:02:36.990652",
     "status": "completed"
    },
    "tags": []
   },
   "outputs": [
    {
     "data": {
      "text/plain": [
       "name              object\n",
       "id                object\n",
       "chr                 int8\n",
       "band              object\n",
       "start_position     int64\n",
       "end_position       int64\n",
       "gene_length        int64\n",
       "dtype: object"
      ]
     },
     "execution_count": 24,
     "metadata": {},
     "output_type": "execute_result"
    }
   ],
   "source": [
    "genes_info.dtypes"
   ]
  },
  {
   "cell_type": "code",
   "execution_count": 25,
   "id": "adb6d5ce-d010-41f8-bb63-7b5f66bf2c51",
   "metadata": {
    "execution": {
     "iopub.execute_input": "2022-12-15T19:02:37.038812Z",
     "iopub.status.busy": "2022-12-15T19:02:37.038284Z",
     "iopub.status.idle": "2022-12-15T19:02:37.065847Z",
     "shell.execute_reply": "2022-12-15T19:02:37.065210Z"
    },
    "papermill": {
     "duration": 0.036064,
     "end_time": "2022-12-15T19:02:37.066786",
     "exception": false,
     "start_time": "2022-12-15T19:02:37.030722",
     "status": "completed"
    },
    "tags": []
   },
   "outputs": [
    {
     "data": {
      "text/html": [
       "<div>\n",
       "<style scoped>\n",
       "    .dataframe tbody tr th:only-of-type {\n",
       "        vertical-align: middle;\n",
       "    }\n",
       "\n",
       "    .dataframe tbody tr th {\n",
       "        vertical-align: top;\n",
       "    }\n",
       "\n",
       "    .dataframe thead th {\n",
       "        text-align: right;\n",
       "    }\n",
       "</style>\n",
       "<table border=\"1\" class=\"dataframe\">\n",
       "  <thead>\n",
       "    <tr style=\"text-align: right;\">\n",
       "      <th></th>\n",
       "      <th>name</th>\n",
       "      <th>id</th>\n",
       "      <th>chr</th>\n",
       "      <th>band</th>\n",
       "      <th>start_position</th>\n",
       "      <th>end_position</th>\n",
       "      <th>gene_length</th>\n",
       "    </tr>\n",
       "  </thead>\n",
       "  <tbody>\n",
       "    <tr>\n",
       "      <th>0</th>\n",
       "      <td>MED19</td>\n",
       "      <td>ENSG00000156603</td>\n",
       "      <td>11</td>\n",
       "      <td>11q12.1</td>\n",
       "      <td>57703714</td>\n",
       "      <td>57712323</td>\n",
       "      <td>8609</td>\n",
       "    </tr>\n",
       "    <tr>\n",
       "      <th>1</th>\n",
       "      <td>GFI1</td>\n",
       "      <td>ENSG00000162676</td>\n",
       "      <td>1</td>\n",
       "      <td>1p22.1</td>\n",
       "      <td>92473043</td>\n",
       "      <td>92486925</td>\n",
       "      <td>13882</td>\n",
       "    </tr>\n",
       "    <tr>\n",
       "      <th>2</th>\n",
       "      <td>PAIP1</td>\n",
       "      <td>ENSG00000172239</td>\n",
       "      <td>5</td>\n",
       "      <td>5p12</td>\n",
       "      <td>43526267</td>\n",
       "      <td>43557758</td>\n",
       "      <td>31491</td>\n",
       "    </tr>\n",
       "    <tr>\n",
       "      <th>3</th>\n",
       "      <td>MRPS35</td>\n",
       "      <td>ENSG00000061794</td>\n",
       "      <td>12</td>\n",
       "      <td>12p11.22</td>\n",
       "      <td>27710822</td>\n",
       "      <td>27756295</td>\n",
       "      <td>45473</td>\n",
       "    </tr>\n",
       "    <tr>\n",
       "      <th>4</th>\n",
       "      <td>VAV3</td>\n",
       "      <td>ENSG00000134215</td>\n",
       "      <td>1</td>\n",
       "      <td>1p13.3</td>\n",
       "      <td>107571161</td>\n",
       "      <td>107965180</td>\n",
       "      <td>394019</td>\n",
       "    </tr>\n",
       "  </tbody>\n",
       "</table>\n",
       "</div>"
      ],
      "text/plain": [
       "     name               id  chr      band  start_position  end_position  \\\n",
       "0   MED19  ENSG00000156603   11   11q12.1        57703714      57712323   \n",
       "1    GFI1  ENSG00000162676    1    1p22.1        92473043      92486925   \n",
       "2   PAIP1  ENSG00000172239    5      5p12        43526267      43557758   \n",
       "3  MRPS35  ENSG00000061794   12  12p11.22        27710822      27756295   \n",
       "4    VAV3  ENSG00000134215    1    1p13.3       107571161     107965180   \n",
       "\n",
       "   gene_length  \n",
       "0         8609  \n",
       "1        13882  \n",
       "2        31491  \n",
       "3        45473  \n",
       "4       394019  "
      ]
     },
     "execution_count": 25,
     "metadata": {},
     "output_type": "execute_result"
    }
   ],
   "source": [
    "genes_info.head()"
   ]
  },
  {
   "cell_type": "markdown",
   "id": "0bc01310-5d9c-4355-8064-b67c5a22311c",
   "metadata": {
    "papermill": {
     "duration": 0.006891,
     "end_time": "2022-12-15T19:02:37.081109",
     "exception": false,
     "start_time": "2022-12-15T19:02:37.074218",
     "status": "completed"
    },
    "tags": []
   },
   "source": [
    "# Create full correlation matrix"
   ]
  },
  {
   "cell_type": "code",
   "execution_count": 26,
   "id": "fad655cb-e830-496d-8ae1-bd9088623515",
   "metadata": {
    "execution": {
     "iopub.execute_input": "2022-12-15T19:02:37.096358Z",
     "iopub.status.busy": "2022-12-15T19:02:37.095800Z",
     "iopub.status.idle": "2022-12-15T19:02:37.123251Z",
     "shell.execute_reply": "2022-12-15T19:02:37.122577Z"
    },
    "papermill": {
     "duration": 0.036169,
     "end_time": "2022-12-15T19:02:37.124343",
     "exception": false,
     "start_time": "2022-12-15T19:02:37.088174",
     "status": "completed"
    },
    "tags": []
   },
   "outputs": [],
   "source": [
    "genes_info = genes_info.sort_values([\"chr\", \"start_position\"])"
   ]
  },
  {
   "cell_type": "code",
   "execution_count": 27,
   "id": "3d93727c-e045-434b-99ec-2bfc661003f4",
   "metadata": {
    "execution": {
     "iopub.execute_input": "2022-12-15T19:02:37.139854Z",
     "iopub.status.busy": "2022-12-15T19:02:37.139322Z",
     "iopub.status.idle": "2022-12-15T19:02:37.169368Z",
     "shell.execute_reply": "2022-12-15T19:02:37.168718Z"
    },
    "papermill": {
     "duration": 0.038696,
     "end_time": "2022-12-15T19:02:37.170272",
     "exception": false,
     "start_time": "2022-12-15T19:02:37.131576",
     "status": "completed"
    },
    "tags": []
   },
   "outputs": [
    {
     "data": {
      "text/html": [
       "<div>\n",
       "<style scoped>\n",
       "    .dataframe tbody tr th:only-of-type {\n",
       "        vertical-align: middle;\n",
       "    }\n",
       "\n",
       "    .dataframe tbody tr th {\n",
       "        vertical-align: top;\n",
       "    }\n",
       "\n",
       "    .dataframe thead th {\n",
       "        text-align: right;\n",
       "    }\n",
       "</style>\n",
       "<table border=\"1\" class=\"dataframe\">\n",
       "  <thead>\n",
       "    <tr style=\"text-align: right;\">\n",
       "      <th></th>\n",
       "      <th>name</th>\n",
       "      <th>id</th>\n",
       "      <th>chr</th>\n",
       "      <th>band</th>\n",
       "      <th>start_position</th>\n",
       "      <th>end_position</th>\n",
       "      <th>gene_length</th>\n",
       "    </tr>\n",
       "  </thead>\n",
       "  <tbody>\n",
       "    <tr>\n",
       "      <th>234</th>\n",
       "      <td>NOC2L</td>\n",
       "      <td>ENSG00000188976</td>\n",
       "      <td>1</td>\n",
       "      <td>1p36.33</td>\n",
       "      <td>944203</td>\n",
       "      <td>959309</td>\n",
       "      <td>15106</td>\n",
       "    </tr>\n",
       "    <tr>\n",
       "      <th>1400</th>\n",
       "      <td>HES4</td>\n",
       "      <td>ENSG00000188290</td>\n",
       "      <td>1</td>\n",
       "      <td>1p36.33</td>\n",
       "      <td>998962</td>\n",
       "      <td>1000172</td>\n",
       "      <td>1210</td>\n",
       "    </tr>\n",
       "    <tr>\n",
       "      <th>1756</th>\n",
       "      <td>ISG15</td>\n",
       "      <td>ENSG00000187608</td>\n",
       "      <td>1</td>\n",
       "      <td>1p36.33</td>\n",
       "      <td>1001138</td>\n",
       "      <td>1014540</td>\n",
       "      <td>13402</td>\n",
       "    </tr>\n",
       "    <tr>\n",
       "      <th>3750</th>\n",
       "      <td>AGRN</td>\n",
       "      <td>ENSG00000188157</td>\n",
       "      <td>1</td>\n",
       "      <td>1p36.33</td>\n",
       "      <td>1020120</td>\n",
       "      <td>1056118</td>\n",
       "      <td>35998</td>\n",
       "    </tr>\n",
       "    <tr>\n",
       "      <th>2737</th>\n",
       "      <td>TNFRSF18</td>\n",
       "      <td>ENSG00000186891</td>\n",
       "      <td>1</td>\n",
       "      <td>1p36.33</td>\n",
       "      <td>1203508</td>\n",
       "      <td>1206592</td>\n",
       "      <td>3084</td>\n",
       "    </tr>\n",
       "    <tr>\n",
       "      <th>...</th>\n",
       "      <td>...</td>\n",
       "      <td>...</td>\n",
       "      <td>...</td>\n",
       "      <td>...</td>\n",
       "      <td>...</td>\n",
       "      <td>...</td>\n",
       "      <td>...</td>\n",
       "    </tr>\n",
       "    <tr>\n",
       "      <th>4510</th>\n",
       "      <td>CPT1B</td>\n",
       "      <td>ENSG00000205560</td>\n",
       "      <td>22</td>\n",
       "      <td>22q13.33</td>\n",
       "      <td>50568861</td>\n",
       "      <td>50578465</td>\n",
       "      <td>9604</td>\n",
       "    </tr>\n",
       "    <tr>\n",
       "      <th>688</th>\n",
       "      <td>CHKB</td>\n",
       "      <td>ENSG00000100288</td>\n",
       "      <td>22</td>\n",
       "      <td>22q13.33</td>\n",
       "      <td>50578949</td>\n",
       "      <td>50601455</td>\n",
       "      <td>22506</td>\n",
       "    </tr>\n",
       "    <tr>\n",
       "      <th>3729</th>\n",
       "      <td>MAPK8IP2</td>\n",
       "      <td>ENSG00000008735</td>\n",
       "      <td>22</td>\n",
       "      <td>22q13.33</td>\n",
       "      <td>50600793</td>\n",
       "      <td>50613981</td>\n",
       "      <td>13188</td>\n",
       "    </tr>\n",
       "    <tr>\n",
       "      <th>1131</th>\n",
       "      <td>ARSA</td>\n",
       "      <td>ENSG00000100299</td>\n",
       "      <td>22</td>\n",
       "      <td>22q13.33</td>\n",
       "      <td>50622754</td>\n",
       "      <td>50628173</td>\n",
       "      <td>5419</td>\n",
       "    </tr>\n",
       "    <tr>\n",
       "      <th>3993</th>\n",
       "      <td>SHANK3</td>\n",
       "      <td>ENSG00000251322</td>\n",
       "      <td>22</td>\n",
       "      <td>22q13.33</td>\n",
       "      <td>50674415</td>\n",
       "      <td>50733298</td>\n",
       "      <td>58883</td>\n",
       "    </tr>\n",
       "  </tbody>\n",
       "</table>\n",
       "<p>6443 rows × 7 columns</p>\n",
       "</div>"
      ],
      "text/plain": [
       "          name               id  chr      band  start_position  end_position  \\\n",
       "234      NOC2L  ENSG00000188976    1   1p36.33          944203        959309   \n",
       "1400      HES4  ENSG00000188290    1   1p36.33          998962       1000172   \n",
       "1756     ISG15  ENSG00000187608    1   1p36.33         1001138       1014540   \n",
       "3750      AGRN  ENSG00000188157    1   1p36.33         1020120       1056118   \n",
       "2737  TNFRSF18  ENSG00000186891    1   1p36.33         1203508       1206592   \n",
       "...        ...              ...  ...       ...             ...           ...   \n",
       "4510     CPT1B  ENSG00000205560   22  22q13.33        50568861      50578465   \n",
       "688       CHKB  ENSG00000100288   22  22q13.33        50578949      50601455   \n",
       "3729  MAPK8IP2  ENSG00000008735   22  22q13.33        50600793      50613981   \n",
       "1131      ARSA  ENSG00000100299   22  22q13.33        50622754      50628173   \n",
       "3993    SHANK3  ENSG00000251322   22  22q13.33        50674415      50733298   \n",
       "\n",
       "      gene_length  \n",
       "234         15106  \n",
       "1400         1210  \n",
       "1756        13402  \n",
       "3750        35998  \n",
       "2737         3084  \n",
       "...           ...  \n",
       "4510         9604  \n",
       "688         22506  \n",
       "3729        13188  \n",
       "1131         5419  \n",
       "3993        58883  \n",
       "\n",
       "[6443 rows x 7 columns]"
      ]
     },
     "execution_count": 27,
     "metadata": {},
     "output_type": "execute_result"
    }
   ],
   "source": [
    "genes_info"
   ]
  },
  {
   "cell_type": "code",
   "execution_count": 28,
   "id": "1277c7cb-6850-476f-932e-0d166362392c",
   "metadata": {
    "execution": {
     "iopub.execute_input": "2022-12-15T19:02:37.185874Z",
     "iopub.status.busy": "2022-12-15T19:02:37.185502Z",
     "iopub.status.idle": "2022-12-15T19:02:37.209424Z",
     "shell.execute_reply": "2022-12-15T19:02:37.208885Z"
    },
    "papermill": {
     "duration": 0.03279,
     "end_time": "2022-12-15T19:02:37.210441",
     "exception": false,
     "start_time": "2022-12-15T19:02:37.177651",
     "status": "completed"
    },
    "tags": []
   },
   "outputs": [],
   "source": [
    "full_corr_matrix = pd.DataFrame(\n",
    "    np.zeros((genes_info.shape[0], genes_info.shape[0])),\n",
    "    index=genes_info[\"id\"].tolist(),\n",
    "    columns=genes_info[\"id\"].tolist(),\n",
    ")"
   ]
  },
  {
   "cell_type": "code",
   "execution_count": 29,
   "id": "5aa375f4-775a-4dab-80c9-a68a52c69adc",
   "metadata": {
    "execution": {
     "iopub.execute_input": "2022-12-15T19:02:37.226395Z",
     "iopub.status.busy": "2022-12-15T19:02:37.225982Z",
     "iopub.status.idle": "2022-12-15T19:02:37.249258Z",
     "shell.execute_reply": "2022-12-15T19:02:37.248746Z"
    },
    "papermill": {
     "duration": 0.032079,
     "end_time": "2022-12-15T19:02:37.250210",
     "exception": false,
     "start_time": "2022-12-15T19:02:37.218131",
     "status": "completed"
    },
    "tags": []
   },
   "outputs": [],
   "source": [
    "assert full_corr_matrix.index.is_unique & full_corr_matrix.columns.is_unique"
   ]
  },
  {
   "cell_type": "code",
   "execution_count": 30,
   "id": "0afc4716-f607-4634-8a02-5f116fd2c318",
   "metadata": {
    "execution": {
     "iopub.execute_input": "2022-12-15T19:02:37.266119Z",
     "iopub.status.busy": "2022-12-15T19:02:37.265747Z",
     "iopub.status.idle": "2022-12-15T19:02:38.285857Z",
     "shell.execute_reply": "2022-12-15T19:02:38.285461Z"
    },
    "papermill": {
     "duration": 1.029206,
     "end_time": "2022-12-15T19:02:38.287133",
     "exception": false,
     "start_time": "2022-12-15T19:02:37.257927",
     "status": "completed"
    },
    "tags": []
   },
   "outputs": [
    {
     "name": "stdout",
     "output_type": "stream",
     "text": [
      "gene_corrs-chr1.pkl... "
     ]
    },
    {
     "data": {
      "text/plain": [
       "'Number of negative eigenvalues: 0'"
      ]
     },
     "metadata": {},
     "output_type": "display_data"
    },
    {
     "data": {
      "text/plain": [
       "'Negative eigenvalues:\\n[]'"
      ]
     },
     "metadata": {},
     "output_type": "display_data"
    },
    {
     "name": "stdout",
     "output_type": "stream",
     "text": [
      "Works! (statsmodels.GLS)\n",
      "Works!\n",
      "all good.\n",
      "\n",
      "\n",
      "gene_corrs-chr2.pkl... "
     ]
    },
    {
     "data": {
      "text/plain": [
       "'Number of negative eigenvalues: 0'"
      ]
     },
     "metadata": {},
     "output_type": "display_data"
    },
    {
     "data": {
      "text/plain": [
       "'Negative eigenvalues:\\n[]'"
      ]
     },
     "metadata": {},
     "output_type": "display_data"
    },
    {
     "name": "stdout",
     "output_type": "stream",
     "text": [
      "Works! (statsmodels.GLS)\n",
      "Works!\n",
      "all good.\n",
      "\n",
      "\n",
      "gene_corrs-chr3.pkl... "
     ]
    },
    {
     "data": {
      "text/plain": [
       "'Number of negative eigenvalues: 0'"
      ]
     },
     "metadata": {},
     "output_type": "display_data"
    },
    {
     "data": {
      "text/plain": [
       "'Negative eigenvalues:\\n[]'"
      ]
     },
     "metadata": {},
     "output_type": "display_data"
    },
    {
     "name": "stdout",
     "output_type": "stream",
     "text": [
      "Works! (statsmodels.GLS)\n",
      "Works!\n",
      "all good.\n",
      "\n",
      "\n",
      "gene_corrs-chr4.pkl... "
     ]
    },
    {
     "data": {
      "text/plain": [
       "'Number of negative eigenvalues: 0'"
      ]
     },
     "metadata": {},
     "output_type": "display_data"
    },
    {
     "data": {
      "text/plain": [
       "'Negative eigenvalues:\\n[]'"
      ]
     },
     "metadata": {},
     "output_type": "display_data"
    },
    {
     "name": "stdout",
     "output_type": "stream",
     "text": [
      "Works! (statsmodels.GLS)\n",
      "Works!\n",
      "all good.\n",
      "\n",
      "\n",
      "gene_corrs-chr5.pkl... "
     ]
    },
    {
     "data": {
      "text/plain": [
       "'Number of negative eigenvalues: 0'"
      ]
     },
     "metadata": {},
     "output_type": "display_data"
    },
    {
     "data": {
      "text/plain": [
       "'Negative eigenvalues:\\n[]'"
      ]
     },
     "metadata": {},
     "output_type": "display_data"
    },
    {
     "name": "stdout",
     "output_type": "stream",
     "text": [
      "Works! (statsmodels.GLS)\n",
      "Works!\n",
      "all good.\n",
      "\n",
      "\n",
      "gene_corrs-chr6.pkl... "
     ]
    },
    {
     "data": {
      "text/plain": [
       "'Number of negative eigenvalues: 0'"
      ]
     },
     "metadata": {},
     "output_type": "display_data"
    },
    {
     "data": {
      "text/plain": [
       "'Negative eigenvalues:\\n[]'"
      ]
     },
     "metadata": {},
     "output_type": "display_data"
    },
    {
     "name": "stdout",
     "output_type": "stream",
     "text": [
      "Works! (statsmodels.GLS)\n",
      "Works!\n",
      "all good.\n",
      "\n",
      "\n",
      "gene_corrs-chr7.pkl... "
     ]
    },
    {
     "data": {
      "text/plain": [
       "'Number of negative eigenvalues: 0'"
      ]
     },
     "metadata": {},
     "output_type": "display_data"
    },
    {
     "data": {
      "text/plain": [
       "'Negative eigenvalues:\\n[]'"
      ]
     },
     "metadata": {},
     "output_type": "display_data"
    },
    {
     "name": "stdout",
     "output_type": "stream",
     "text": [
      "Works! (statsmodels.GLS)\n",
      "Works!\n",
      "all good.\n",
      "\n",
      "\n",
      "gene_corrs-chr8.pkl... "
     ]
    },
    {
     "data": {
      "text/plain": [
       "'Number of negative eigenvalues: 0'"
      ]
     },
     "metadata": {},
     "output_type": "display_data"
    },
    {
     "data": {
      "text/plain": [
       "'Negative eigenvalues:\\n[]'"
      ]
     },
     "metadata": {},
     "output_type": "display_data"
    },
    {
     "name": "stdout",
     "output_type": "stream",
     "text": [
      "Works! (statsmodels.GLS)\n",
      "Works!\n",
      "all good.\n",
      "\n",
      "\n",
      "gene_corrs-chr9.pkl... "
     ]
    },
    {
     "data": {
      "text/plain": [
       "'Number of negative eigenvalues: 0'"
      ]
     },
     "metadata": {},
     "output_type": "display_data"
    },
    {
     "data": {
      "text/plain": [
       "'Negative eigenvalues:\\n[]'"
      ]
     },
     "metadata": {},
     "output_type": "display_data"
    },
    {
     "name": "stdout",
     "output_type": "stream",
     "text": [
      "Works! (statsmodels.GLS)\n",
      "Works!\n",
      "all good.\n",
      "\n",
      "\n",
      "gene_corrs-chr10.pkl... "
     ]
    },
    {
     "data": {
      "text/plain": [
       "'Number of negative eigenvalues: 0'"
      ]
     },
     "metadata": {},
     "output_type": "display_data"
    },
    {
     "data": {
      "text/plain": [
       "'Negative eigenvalues:\\n[]'"
      ]
     },
     "metadata": {},
     "output_type": "display_data"
    },
    {
     "name": "stdout",
     "output_type": "stream",
     "text": [
      "Works! (statsmodels.GLS)\n",
      "Works!\n",
      "all good.\n",
      "\n",
      "\n",
      "gene_corrs-chr11.pkl... "
     ]
    },
    {
     "data": {
      "text/plain": [
       "'Number of negative eigenvalues: 0'"
      ]
     },
     "metadata": {},
     "output_type": "display_data"
    },
    {
     "data": {
      "text/plain": [
       "'Negative eigenvalues:\\n[]'"
      ]
     },
     "metadata": {},
     "output_type": "display_data"
    },
    {
     "name": "stdout",
     "output_type": "stream",
     "text": [
      "Works! (statsmodels.GLS)\n",
      "Works!\n",
      "all good.\n",
      "\n",
      "\n",
      "gene_corrs-chr12.pkl... "
     ]
    },
    {
     "data": {
      "text/plain": [
       "'Number of negative eigenvalues: 0'"
      ]
     },
     "metadata": {},
     "output_type": "display_data"
    },
    {
     "data": {
      "text/plain": [
       "'Negative eigenvalues:\\n[]'"
      ]
     },
     "metadata": {},
     "output_type": "display_data"
    },
    {
     "name": "stdout",
     "output_type": "stream",
     "text": [
      "Cholesky decomposition failed (statsmodels.GLS): Matrix is not positive definite\n",
      "Cholesky decomposition failed: Matrix is not positive definite\n",
      "not positive definite, fixing... "
     ]
    },
    {
     "data": {
      "text/plain": [
       "'Number of negative eigenvalues: 0'"
      ]
     },
     "metadata": {},
     "output_type": "display_data"
    },
    {
     "data": {
      "text/plain": [
       "'Negative eigenvalues:\\n[]'"
      ]
     },
     "metadata": {},
     "output_type": "display_data"
    },
    {
     "name": "stdout",
     "output_type": "stream",
     "text": [
      "Works! (statsmodels.GLS)\n",
      "Works!\n",
      "fixed! comparing...\n"
     ]
    },
    {
     "data": {
      "text/plain": [
       "count    1.505440e+05\n",
       "mean     1.746595e-18\n",
       "std      1.695419e-16\n",
       "min     -6.772360e-15\n",
       "25%     -4.516211e-17\n",
       "50%      7.465379e-20\n",
       "75%      4.573646e-17\n",
       "max      4.551914e-15\n",
       "dtype: float64"
      ]
     },
     "metadata": {},
     "output_type": "display_data"
    },
    {
     "data": {
      "text/plain": [
       "ENSG00000111670  ENSG00000111670   -6.772360e-15\n",
       "                 ENSG00000111666   -3.941292e-15\n",
       "ENSG00000165682  ENSG00000165682   -3.774758e-15\n",
       "ENSG00000139351  ENSG00000139351   -3.774758e-15\n",
       "ENSG00000111666  ENSG00000111670   -3.774758e-15\n",
       "                                        ...     \n",
       "ENSG00000135643  ENSG00000135643    4.107825e-15\n",
       "ENSG00000155980  ENSG00000155980    4.218847e-15\n",
       "ENSG00000152556  ENSG00000152556    4.440892e-15\n",
       "ENSG00000111596  ENSG00000111596    4.551914e-15\n",
       "ENSG00000111664  ENSG00000111664    4.551914e-15\n",
       "Length: 150544, dtype: float64"
      ]
     },
     "metadata": {},
     "output_type": "display_data"
    },
    {
     "name": "stdout",
     "output_type": "stream",
     "text": [
      "\n",
      "\n",
      "gene_corrs-chr13.pkl... "
     ]
    },
    {
     "data": {
      "text/plain": [
       "'Number of negative eigenvalues: 0'"
      ]
     },
     "metadata": {},
     "output_type": "display_data"
    },
    {
     "data": {
      "text/plain": [
       "'Negative eigenvalues:\\n[]'"
      ]
     },
     "metadata": {},
     "output_type": "display_data"
    },
    {
     "name": "stdout",
     "output_type": "stream",
     "text": [
      "Works! (statsmodels.GLS)\n",
      "Works!\n",
      "all good.\n",
      "\n",
      "\n",
      "gene_corrs-chr14.pkl... "
     ]
    },
    {
     "data": {
      "text/plain": [
       "'Number of negative eigenvalues: 0'"
      ]
     },
     "metadata": {},
     "output_type": "display_data"
    },
    {
     "data": {
      "text/plain": [
       "'Negative eigenvalues:\\n[]'"
      ]
     },
     "metadata": {},
     "output_type": "display_data"
    },
    {
     "name": "stdout",
     "output_type": "stream",
     "text": [
      "Works! (statsmodels.GLS)\n",
      "Works!\n",
      "all good.\n",
      "\n",
      "\n",
      "gene_corrs-chr15.pkl... "
     ]
    },
    {
     "data": {
      "text/plain": [
       "'Number of negative eigenvalues: 0'"
      ]
     },
     "metadata": {},
     "output_type": "display_data"
    },
    {
     "data": {
      "text/plain": [
       "'Negative eigenvalues:\\n[]'"
      ]
     },
     "metadata": {},
     "output_type": "display_data"
    },
    {
     "name": "stdout",
     "output_type": "stream",
     "text": [
      "Works! (statsmodels.GLS)\n",
      "Works!\n",
      "all good.\n",
      "\n",
      "\n",
      "gene_corrs-chr16.pkl... "
     ]
    },
    {
     "data": {
      "text/plain": [
       "'Number of negative eigenvalues: 0'"
      ]
     },
     "metadata": {},
     "output_type": "display_data"
    },
    {
     "data": {
      "text/plain": [
       "'Negative eigenvalues:\\n[]'"
      ]
     },
     "metadata": {},
     "output_type": "display_data"
    },
    {
     "name": "stdout",
     "output_type": "stream",
     "text": [
      "Works! (statsmodels.GLS)\n",
      "Works!\n",
      "all good.\n",
      "\n",
      "\n",
      "gene_corrs-chr17.pkl... "
     ]
    },
    {
     "data": {
      "text/plain": [
       "'Number of negative eigenvalues: 0'"
      ]
     },
     "metadata": {},
     "output_type": "display_data"
    },
    {
     "data": {
      "text/plain": [
       "'Negative eigenvalues:\\n[]'"
      ]
     },
     "metadata": {},
     "output_type": "display_data"
    },
    {
     "name": "stdout",
     "output_type": "stream",
     "text": [
      "Works! (statsmodels.GLS)\n",
      "Works!\n",
      "all good.\n",
      "\n",
      "\n",
      "gene_corrs-chr18.pkl... "
     ]
    },
    {
     "data": {
      "text/plain": [
       "'Number of negative eigenvalues: 0'"
      ]
     },
     "metadata": {},
     "output_type": "display_data"
    },
    {
     "data": {
      "text/plain": [
       "'Negative eigenvalues:\\n[]'"
      ]
     },
     "metadata": {},
     "output_type": "display_data"
    },
    {
     "name": "stdout",
     "output_type": "stream",
     "text": [
      "Works! (statsmodels.GLS)\n",
      "Works!\n",
      "all good.\n",
      "\n",
      "\n",
      "gene_corrs-chr19.pkl... "
     ]
    },
    {
     "data": {
      "text/plain": [
       "'Number of negative eigenvalues: 0'"
      ]
     },
     "metadata": {},
     "output_type": "display_data"
    },
    {
     "data": {
      "text/plain": [
       "'Negative eigenvalues:\\n[]'"
      ]
     },
     "metadata": {},
     "output_type": "display_data"
    },
    {
     "name": "stdout",
     "output_type": "stream",
     "text": [
      "Works! (statsmodels.GLS)\n",
      "Works!\n",
      "all good.\n",
      "\n",
      "\n",
      "gene_corrs-chr20.pkl... "
     ]
    },
    {
     "data": {
      "text/plain": [
       "'Number of negative eigenvalues: 0'"
      ]
     },
     "metadata": {},
     "output_type": "display_data"
    },
    {
     "data": {
      "text/plain": [
       "'Negative eigenvalues:\\n[]'"
      ]
     },
     "metadata": {},
     "output_type": "display_data"
    },
    {
     "name": "stdout",
     "output_type": "stream",
     "text": [
      "Works! (statsmodels.GLS)\n",
      "Works!\n",
      "all good.\n",
      "\n",
      "\n",
      "gene_corrs-chr21.pkl... "
     ]
    },
    {
     "data": {
      "text/plain": [
       "'Number of negative eigenvalues: 0'"
      ]
     },
     "metadata": {},
     "output_type": "display_data"
    },
    {
     "data": {
      "text/plain": [
       "'Negative eigenvalues:\\n[]'"
      ]
     },
     "metadata": {},
     "output_type": "display_data"
    },
    {
     "name": "stdout",
     "output_type": "stream",
     "text": [
      "Works! (statsmodels.GLS)\n",
      "Works!\n",
      "all good.\n",
      "\n",
      "\n",
      "gene_corrs-chr22.pkl... "
     ]
    },
    {
     "data": {
      "text/plain": [
       "'Number of negative eigenvalues: 0'"
      ]
     },
     "metadata": {},
     "output_type": "display_data"
    },
    {
     "data": {
      "text/plain": [
       "'Negative eigenvalues:\\n[]'"
      ]
     },
     "metadata": {},
     "output_type": "display_data"
    },
    {
     "name": "stdout",
     "output_type": "stream",
     "text": [
      "Works! (statsmodels.GLS)\n",
      "Works!\n",
      "all good.\n",
      "\n",
      "\n"
     ]
    }
   ],
   "source": [
    "for chr_corr_file in all_gene_corr_files:\n",
    "    print(chr_corr_file.name, flush=True, end=\"... \")\n",
    "\n",
    "    # get correlation matrix for this chromosome\n",
    "    corr_data = pd.read_pickle(chr_corr_file)\n",
    "\n",
    "    # save gene correlation matrix\n",
    "    full_corr_matrix.loc[corr_data.index, corr_data.columns] = corr_data\n",
    "\n",
    "    # save inverse of Cholesky decomposition of gene correlation matrix\n",
    "    # first, adjust correlation matrix if it is not positive definite\n",
    "    is_pos_def = check_pos_def(corr_data)\n",
    "\n",
    "    if is_pos_def:\n",
    "        print(\"all good.\", flush=True, end=\"\\n\")\n",
    "    else:\n",
    "        print(\"not positive definite, fixing... \", flush=True, end=\"\")\n",
    "        corr_data_adjusted = adjust_non_pos_def(corr_data)\n",
    "\n",
    "        is_pos_def = check_pos_def(corr_data_adjusted)\n",
    "        assert is_pos_def, \"Could not adjust gene correlation matrix\"\n",
    "\n",
    "        print(\"fixed! comparing...\", flush=True, end=\"\\n\")\n",
    "        compare_matrices(corr_data, corr_data_adjusted)\n",
    "\n",
    "        corr_data = corr_data_adjusted\n",
    "\n",
    "        # save\n",
    "        full_corr_matrix.loc[corr_data.index, corr_data.columns] = corr_data\n",
    "\n",
    "    print(\"\\n\")"
   ]
  },
  {
   "cell_type": "code",
   "execution_count": 31,
   "id": "a6be3bf7-d1c1-4f90-b074-a6e74d9285a5",
   "metadata": {
    "execution": {
     "iopub.execute_input": "2022-12-15T19:02:38.328460Z",
     "iopub.status.busy": "2022-12-15T19:02:38.328329Z",
     "iopub.status.idle": "2022-12-15T19:02:38.341516Z",
     "shell.execute_reply": "2022-12-15T19:02:38.341155Z"
    },
    "papermill": {
     "duration": 0.035482,
     "end_time": "2022-12-15T19:02:38.343392",
     "exception": false,
     "start_time": "2022-12-15T19:02:38.307910",
     "status": "completed"
    },
    "tags": []
   },
   "outputs": [
    {
     "data": {
      "text/plain": [
       "(6443, 6443)"
      ]
     },
     "execution_count": 31,
     "metadata": {},
     "output_type": "execute_result"
    }
   ],
   "source": [
    "full_corr_matrix.shape"
   ]
  },
  {
   "cell_type": "code",
   "execution_count": 32,
   "id": "aac21a65-87b3-4b87-b17a-cbe3692c88a9",
   "metadata": {
    "execution": {
     "iopub.execute_input": "2022-12-15T19:02:38.370633Z",
     "iopub.status.busy": "2022-12-15T19:02:38.370509Z",
     "iopub.status.idle": "2022-12-15T19:02:38.391417Z",
     "shell.execute_reply": "2022-12-15T19:02:38.391044Z"
    },
    "papermill": {
     "duration": 0.033,
     "end_time": "2022-12-15T19:02:38.392548",
     "exception": false,
     "start_time": "2022-12-15T19:02:38.359548",
     "status": "completed"
    },
    "tags": []
   },
   "outputs": [
    {
     "data": {
      "text/html": [
       "<div>\n",
       "<style scoped>\n",
       "    .dataframe tbody tr th:only-of-type {\n",
       "        vertical-align: middle;\n",
       "    }\n",
       "\n",
       "    .dataframe tbody tr th {\n",
       "        vertical-align: top;\n",
       "    }\n",
       "\n",
       "    .dataframe thead th {\n",
       "        text-align: right;\n",
       "    }\n",
       "</style>\n",
       "<table border=\"1\" class=\"dataframe\">\n",
       "  <thead>\n",
       "    <tr style=\"text-align: right;\">\n",
       "      <th></th>\n",
       "      <th>ENSG00000188976</th>\n",
       "      <th>ENSG00000188290</th>\n",
       "      <th>ENSG00000187608</th>\n",
       "      <th>ENSG00000188157</th>\n",
       "      <th>ENSG00000186891</th>\n",
       "      <th>ENSG00000186827</th>\n",
       "      <th>ENSG00000176022</th>\n",
       "      <th>ENSG00000160087</th>\n",
       "      <th>ENSG00000131584</th>\n",
       "      <th>ENSG00000169962</th>\n",
       "      <th>...</th>\n",
       "      <th>ENSG00000196576</th>\n",
       "      <th>ENSG00000128165</th>\n",
       "      <th>ENSG00000100253</th>\n",
       "      <th>ENSG00000130489</th>\n",
       "      <th>ENSG00000025708</th>\n",
       "      <th>ENSG00000205560</th>\n",
       "      <th>ENSG00000100288</th>\n",
       "      <th>ENSG00000008735</th>\n",
       "      <th>ENSG00000100299</th>\n",
       "      <th>ENSG00000251322</th>\n",
       "    </tr>\n",
       "  </thead>\n",
       "  <tbody>\n",
       "    <tr>\n",
       "      <th>ENSG00000188976</th>\n",
       "      <td>1.000000</td>\n",
       "      <td>0.120590</td>\n",
       "      <td>0.177063</td>\n",
       "      <td>0.085746</td>\n",
       "      <td>0.006792</td>\n",
       "      <td>0.007685</td>\n",
       "      <td>0.004673</td>\n",
       "      <td>0.010734</td>\n",
       "      <td>0.011200</td>\n",
       "      <td>0.007529</td>\n",
       "      <td>...</td>\n",
       "      <td>0.0</td>\n",
       "      <td>0.0</td>\n",
       "      <td>0.0</td>\n",
       "      <td>0.0</td>\n",
       "      <td>0.0</td>\n",
       "      <td>0.0</td>\n",
       "      <td>0.0</td>\n",
       "      <td>0.0</td>\n",
       "      <td>0.0</td>\n",
       "      <td>0.0</td>\n",
       "    </tr>\n",
       "    <tr>\n",
       "      <th>ENSG00000188290</th>\n",
       "      <td>0.120590</td>\n",
       "      <td>1.000000</td>\n",
       "      <td>0.672060</td>\n",
       "      <td>0.391127</td>\n",
       "      <td>0.011695</td>\n",
       "      <td>0.009275</td>\n",
       "      <td>0.005970</td>\n",
       "      <td>0.007385</td>\n",
       "      <td>0.002641</td>\n",
       "      <td>0.004767</td>\n",
       "      <td>...</td>\n",
       "      <td>0.0</td>\n",
       "      <td>0.0</td>\n",
       "      <td>0.0</td>\n",
       "      <td>0.0</td>\n",
       "      <td>0.0</td>\n",
       "      <td>0.0</td>\n",
       "      <td>0.0</td>\n",
       "      <td>0.0</td>\n",
       "      <td>0.0</td>\n",
       "      <td>0.0</td>\n",
       "    </tr>\n",
       "    <tr>\n",
       "      <th>ENSG00000187608</th>\n",
       "      <td>0.177063</td>\n",
       "      <td>0.672060</td>\n",
       "      <td>1.000000</td>\n",
       "      <td>0.424696</td>\n",
       "      <td>0.013929</td>\n",
       "      <td>0.013311</td>\n",
       "      <td>0.008466</td>\n",
       "      <td>0.010608</td>\n",
       "      <td>0.006689</td>\n",
       "      <td>0.011659</td>\n",
       "      <td>...</td>\n",
       "      <td>0.0</td>\n",
       "      <td>0.0</td>\n",
       "      <td>0.0</td>\n",
       "      <td>0.0</td>\n",
       "      <td>0.0</td>\n",
       "      <td>0.0</td>\n",
       "      <td>0.0</td>\n",
       "      <td>0.0</td>\n",
       "      <td>0.0</td>\n",
       "      <td>0.0</td>\n",
       "    </tr>\n",
       "    <tr>\n",
       "      <th>ENSG00000188157</th>\n",
       "      <td>0.085746</td>\n",
       "      <td>0.391127</td>\n",
       "      <td>0.424696</td>\n",
       "      <td>1.000000</td>\n",
       "      <td>0.005309</td>\n",
       "      <td>0.011848</td>\n",
       "      <td>0.002161</td>\n",
       "      <td>0.002535</td>\n",
       "      <td>0.005359</td>\n",
       "      <td>0.007012</td>\n",
       "      <td>...</td>\n",
       "      <td>0.0</td>\n",
       "      <td>0.0</td>\n",
       "      <td>0.0</td>\n",
       "      <td>0.0</td>\n",
       "      <td>0.0</td>\n",
       "      <td>0.0</td>\n",
       "      <td>0.0</td>\n",
       "      <td>0.0</td>\n",
       "      <td>0.0</td>\n",
       "      <td>0.0</td>\n",
       "    </tr>\n",
       "    <tr>\n",
       "      <th>ENSG00000186891</th>\n",
       "      <td>0.006792</td>\n",
       "      <td>0.011695</td>\n",
       "      <td>0.013929</td>\n",
       "      <td>0.005309</td>\n",
       "      <td>1.000000</td>\n",
       "      <td>0.338085</td>\n",
       "      <td>0.550817</td>\n",
       "      <td>0.154394</td>\n",
       "      <td>0.193627</td>\n",
       "      <td>0.101004</td>\n",
       "      <td>...</td>\n",
       "      <td>0.0</td>\n",
       "      <td>0.0</td>\n",
       "      <td>0.0</td>\n",
       "      <td>0.0</td>\n",
       "      <td>0.0</td>\n",
       "      <td>0.0</td>\n",
       "      <td>0.0</td>\n",
       "      <td>0.0</td>\n",
       "      <td>0.0</td>\n",
       "      <td>0.0</td>\n",
       "    </tr>\n",
       "  </tbody>\n",
       "</table>\n",
       "<p>5 rows × 6443 columns</p>\n",
       "</div>"
      ],
      "text/plain": [
       "                 ENSG00000188976  ENSG00000188290  ENSG00000187608  \\\n",
       "ENSG00000188976         1.000000         0.120590         0.177063   \n",
       "ENSG00000188290         0.120590         1.000000         0.672060   \n",
       "ENSG00000187608         0.177063         0.672060         1.000000   \n",
       "ENSG00000188157         0.085746         0.391127         0.424696   \n",
       "ENSG00000186891         0.006792         0.011695         0.013929   \n",
       "\n",
       "                 ENSG00000188157  ENSG00000186891  ENSG00000186827  \\\n",
       "ENSG00000188976         0.085746         0.006792         0.007685   \n",
       "ENSG00000188290         0.391127         0.011695         0.009275   \n",
       "ENSG00000187608         0.424696         0.013929         0.013311   \n",
       "ENSG00000188157         1.000000         0.005309         0.011848   \n",
       "ENSG00000186891         0.005309         1.000000         0.338085   \n",
       "\n",
       "                 ENSG00000176022  ENSG00000160087  ENSG00000131584  \\\n",
       "ENSG00000188976         0.004673         0.010734         0.011200   \n",
       "ENSG00000188290         0.005970         0.007385         0.002641   \n",
       "ENSG00000187608         0.008466         0.010608         0.006689   \n",
       "ENSG00000188157         0.002161         0.002535         0.005359   \n",
       "ENSG00000186891         0.550817         0.154394         0.193627   \n",
       "\n",
       "                 ENSG00000169962  ...  ENSG00000196576  ENSG00000128165  \\\n",
       "ENSG00000188976         0.007529  ...              0.0              0.0   \n",
       "ENSG00000188290         0.004767  ...              0.0              0.0   \n",
       "ENSG00000187608         0.011659  ...              0.0              0.0   \n",
       "ENSG00000188157         0.007012  ...              0.0              0.0   \n",
       "ENSG00000186891         0.101004  ...              0.0              0.0   \n",
       "\n",
       "                 ENSG00000100253  ENSG00000130489  ENSG00000025708  \\\n",
       "ENSG00000188976              0.0              0.0              0.0   \n",
       "ENSG00000188290              0.0              0.0              0.0   \n",
       "ENSG00000187608              0.0              0.0              0.0   \n",
       "ENSG00000188157              0.0              0.0              0.0   \n",
       "ENSG00000186891              0.0              0.0              0.0   \n",
       "\n",
       "                 ENSG00000205560  ENSG00000100288  ENSG00000008735  \\\n",
       "ENSG00000188976              0.0              0.0              0.0   \n",
       "ENSG00000188290              0.0              0.0              0.0   \n",
       "ENSG00000187608              0.0              0.0              0.0   \n",
       "ENSG00000188157              0.0              0.0              0.0   \n",
       "ENSG00000186891              0.0              0.0              0.0   \n",
       "\n",
       "                 ENSG00000100299  ENSG00000251322  \n",
       "ENSG00000188976              0.0              0.0  \n",
       "ENSG00000188290              0.0              0.0  \n",
       "ENSG00000187608              0.0              0.0  \n",
       "ENSG00000188157              0.0              0.0  \n",
       "ENSG00000186891              0.0              0.0  \n",
       "\n",
       "[5 rows x 6443 columns]"
      ]
     },
     "execution_count": 32,
     "metadata": {},
     "output_type": "execute_result"
    }
   ],
   "source": [
    "full_corr_matrix.head()"
   ]
  },
  {
   "cell_type": "code",
   "execution_count": 33,
   "id": "0d43f268-ad27-4117-b43b-df581deedae5",
   "metadata": {
    "execution": {
     "iopub.execute_input": "2022-12-15T19:02:38.417951Z",
     "iopub.status.busy": "2022-12-15T19:02:38.417825Z",
     "iopub.status.idle": "2022-12-15T19:02:38.435550Z",
     "shell.execute_reply": "2022-12-15T19:02:38.435083Z"
    },
    "papermill": {
     "duration": 0.030119,
     "end_time": "2022-12-15T19:02:38.436725",
     "exception": false,
     "start_time": "2022-12-15T19:02:38.406606",
     "status": "completed"
    },
    "tags": []
   },
   "outputs": [
    {
     "data": {
      "text/plain": [
       "False"
      ]
     },
     "execution_count": 33,
     "metadata": {},
     "output_type": "execute_result"
    }
   ],
   "source": [
    "np.all(full_corr_matrix.to_numpy().diagonal() == 1.0)"
   ]
  },
  {
   "cell_type": "markdown",
   "id": "1169db4b-9af2-4d3c-a27a-198d7730fa67",
   "metadata": {
    "papermill": {
     "duration": 0.016015,
     "end_time": "2022-12-15T19:02:38.472680",
     "exception": false,
     "start_time": "2022-12-15T19:02:38.456665",
     "status": "completed"
    },
    "tags": []
   },
   "source": [
    "## Some checks"
   ]
  },
  {
   "cell_type": "code",
   "execution_count": 34,
   "id": "31b4e109-a020-4667-9326-c63e6d80a33e",
   "metadata": {
    "execution": {
     "iopub.execute_input": "2022-12-15T19:02:38.495360Z",
     "iopub.status.busy": "2022-12-15T19:02:38.495000Z",
     "iopub.status.idle": "2022-12-15T19:02:38.599046Z",
     "shell.execute_reply": "2022-12-15T19:02:38.598644Z"
    },
    "papermill": {
     "duration": 0.116378,
     "end_time": "2022-12-15T19:02:38.599787",
     "exception": false,
     "start_time": "2022-12-15T19:02:38.483409",
     "status": "completed"
    },
    "tags": []
   },
   "outputs": [
    {
     "data": {
      "text/plain": [
       "-1.0320476802168234e-15"
      ]
     },
     "metadata": {},
     "output_type": "display_data"
    }
   ],
   "source": [
    "_min_val = full_corr_matrix.min().min()\n",
    "display(_min_val)\n",
    "# assert _min_val >= -0.05"
   ]
  },
  {
   "cell_type": "code",
   "execution_count": 35,
   "id": "df674d11-939a-4704-a718-f246527a1880",
   "metadata": {
    "execution": {
     "iopub.execute_input": "2022-12-15T19:02:38.622486Z",
     "iopub.status.busy": "2022-12-15T19:02:38.622357Z",
     "iopub.status.idle": "2022-12-15T19:02:38.672314Z",
     "shell.execute_reply": "2022-12-15T19:02:38.671871Z"
    },
    "papermill": {
     "duration": 0.062201,
     "end_time": "2022-12-15T19:02:38.673074",
     "exception": false,
     "start_time": "2022-12-15T19:02:38.610873",
     "status": "completed"
    },
    "tags": []
   },
   "outputs": [
    {
     "data": {
      "text/plain": [
       "1.0000000000000053"
      ]
     },
     "metadata": {},
     "output_type": "display_data"
    }
   ],
   "source": [
    "_max_val = full_corr_matrix.max().max()\n",
    "display(_max_val)\n",
    "# assert _max_val <= 1.05"
   ]
  },
  {
   "cell_type": "markdown",
   "id": "d6b0f6d2-f191-44ba-97da-41f980163729",
   "metadata": {
    "papermill": {
     "duration": 0.010973,
     "end_time": "2022-12-15T19:02:38.695087",
     "exception": false,
     "start_time": "2022-12-15T19:02:38.684114",
     "status": "completed"
    },
    "tags": []
   },
   "source": [
    "## Positive definiteness"
   ]
  },
  {
   "cell_type": "markdown",
   "id": "bd7c979c-1f9c-4396-92a4-c1eb8be339d0",
   "metadata": {
    "papermill": {
     "duration": 0.010875,
     "end_time": "2022-12-15T19:02:38.716844",
     "exception": false,
     "start_time": "2022-12-15T19:02:38.705969",
     "status": "completed"
    },
    "tags": []
   },
   "source": [
    "In some cases, even if the submatrices are adjusted, the whole one is not.\n",
    "\n",
    "So here I check that again."
   ]
  },
  {
   "cell_type": "code",
   "execution_count": 36,
   "id": "6fc157e7-b798-4977-975b-d20d8c1cda09",
   "metadata": {
    "execution": {
     "iopub.execute_input": "2022-12-15T19:02:38.739333Z",
     "iopub.status.busy": "2022-12-15T19:02:38.739208Z",
     "iopub.status.idle": "2022-12-15T19:04:06.662486Z",
     "shell.execute_reply": "2022-12-15T19:04:06.661864Z"
    },
    "papermill": {
     "duration": 87.935593,
     "end_time": "2022-12-15T19:04:06.663385",
     "exception": false,
     "start_time": "2022-12-15T19:02:38.727792",
     "status": "completed"
    },
    "tags": []
   },
   "outputs": [
    {
     "data": {
      "text/plain": [
       "'Number of negative eigenvalues: 0'"
      ]
     },
     "metadata": {},
     "output_type": "display_data"
    },
    {
     "data": {
      "text/plain": [
       "'Negative eigenvalues:\\n[]'"
      ]
     },
     "metadata": {},
     "output_type": "display_data"
    },
    {
     "name": "stdout",
     "output_type": "stream",
     "text": [
      "Works! (statsmodels.GLS)\n",
      "Works!\n",
      "all good.\n"
     ]
    }
   ],
   "source": [
    "is_pos_def = check_pos_def(full_corr_matrix)\n",
    "\n",
    "if is_pos_def:\n",
    "    print(\"all good.\", flush=True, end=\"\\n\")\n",
    "else:\n",
    "    print(\"not positive definite, fixing... \", flush=True, end=\"\")\n",
    "    corr_data_adjusted = adjust_non_pos_def(full_corr_matrix)\n",
    "\n",
    "    is_pos_def = check_pos_def(corr_data_adjusted)\n",
    "    assert is_pos_def, \"Could not adjust gene correlation matrix\"\n",
    "\n",
    "    print(\"fixed! comparing...\", flush=True, end=\"\\n\")\n",
    "    compare_matrices(full_corr_matrix, corr_data_adjusted)\n",
    "\n",
    "    full_corr_matrix = corr_data_adjusted"
   ]
  },
  {
   "cell_type": "markdown",
   "id": "f328f55d-37d5-4346-97b4-7237281d5757",
   "metadata": {
    "papermill": {
     "duration": 0.011277,
     "end_time": "2022-12-15T19:04:06.686221",
     "exception": false,
     "start_time": "2022-12-15T19:04:06.674944",
     "status": "completed"
    },
    "tags": []
   },
   "source": [
    "## Save"
   ]
  },
  {
   "cell_type": "markdown",
   "id": "0bf781b4-7a49-4823-9c40-d6d4151c17b7",
   "metadata": {
    "papermill": {
     "duration": 0.019052,
     "end_time": "2022-12-15T19:04:06.716472",
     "exception": false,
     "start_time": "2022-12-15T19:04:06.697420",
     "status": "completed"
    },
    "tags": []
   },
   "source": [
    "### Gene corrs with gene symbols"
   ]
  },
  {
   "cell_type": "code",
   "execution_count": 37,
   "id": "cd9323bb-f43e-4271-aeae-c4ff9ba150fe",
   "metadata": {
    "execution": {
     "iopub.execute_input": "2022-12-15T19:04:06.752103Z",
     "iopub.status.busy": "2022-12-15T19:04:06.751981Z",
     "iopub.status.idle": "2022-12-15T19:04:06.766228Z",
     "shell.execute_reply": "2022-12-15T19:04:06.765691Z"
    },
    "papermill": {
     "duration": 0.029748,
     "end_time": "2022-12-15T19:04:06.767105",
     "exception": false,
     "start_time": "2022-12-15T19:04:06.737357",
     "status": "completed"
    },
    "tags": []
   },
   "outputs": [
    {
     "data": {
      "text/plain": [
       "PosixPath('/opt/data/projects/asthma-copd/results/gls_phenoplier/gene_corrs/copd_only/gene_corrs-symbols.pkl')"
      ]
     },
     "metadata": {},
     "output_type": "display_data"
    }
   ],
   "source": [
    "output_file = OUTPUT_DIR_BASE / \"gene_corrs-symbols.pkl\"\n",
    "display(output_file)"
   ]
  },
  {
   "cell_type": "code",
   "execution_count": 38,
   "id": "eae70039-4724-49c2-af7f-af868ee71f52",
   "metadata": {
    "execution": {
     "iopub.execute_input": "2022-12-15T19:04:06.790423Z",
     "iopub.status.busy": "2022-12-15T19:04:06.790222Z",
     "iopub.status.idle": "2022-12-15T19:04:07.054771Z",
     "shell.execute_reply": "2022-12-15T19:04:07.054174Z"
    },
    "papermill": {
     "duration": 0.27828,
     "end_time": "2022-12-15T19:04:07.056596",
     "exception": false,
     "start_time": "2022-12-15T19:04:06.778316",
     "status": "completed"
    },
    "tags": []
   },
   "outputs": [],
   "source": [
    "gene_corrs = full_corr_matrix.rename(\n",
    "    index=Gene.GENE_ID_TO_NAME_MAP, columns=Gene.GENE_ID_TO_NAME_MAP\n",
    ")"
   ]
  },
  {
   "cell_type": "code",
   "execution_count": 39,
   "id": "d095a99d-acf0-4290-873b-64079ba70a3a",
   "metadata": {
    "execution": {
     "iopub.execute_input": "2022-12-15T19:04:07.086301Z",
     "iopub.status.busy": "2022-12-15T19:04:07.086033Z",
     "iopub.status.idle": "2022-12-15T19:04:07.153491Z",
     "shell.execute_reply": "2022-12-15T19:04:07.152948Z"
    },
    "papermill": {
     "duration": 0.080926,
     "end_time": "2022-12-15T19:04:07.154962",
     "exception": false,
     "start_time": "2022-12-15T19:04:07.074036",
     "status": "completed"
    },
    "tags": []
   },
   "outputs": [],
   "source": [
    "assert not gene_corrs.isna().any(axis=None)\n",
    "assert not np.isinf(gene_corrs.to_numpy()).any()\n",
    "assert not np.iscomplex(gene_corrs.to_numpy()).any()"
   ]
  },
  {
   "cell_type": "code",
   "execution_count": 40,
   "id": "8a0ee039-378e-4f51-a18a-24fe2c9d9ba8",
   "metadata": {
    "execution": {
     "iopub.execute_input": "2022-12-15T19:04:07.198144Z",
     "iopub.status.busy": "2022-12-15T19:04:07.197955Z",
     "iopub.status.idle": "2022-12-15T19:04:07.211529Z",
     "shell.execute_reply": "2022-12-15T19:04:07.211070Z"
    },
    "papermill": {
     "duration": 0.03649,
     "end_time": "2022-12-15T19:04:07.212818",
     "exception": false,
     "start_time": "2022-12-15T19:04:07.176328",
     "status": "completed"
    },
    "tags": []
   },
   "outputs": [],
   "source": [
    "assert gene_corrs.index.is_unique\n",
    "assert gene_corrs.columns.is_unique"
   ]
  },
  {
   "cell_type": "code",
   "execution_count": 41,
   "id": "7fe158ee-2def-4c61-91a2-f3ec05687237",
   "metadata": {
    "execution": {
     "iopub.execute_input": "2022-12-15T19:04:07.256471Z",
     "iopub.status.busy": "2022-12-15T19:04:07.256172Z",
     "iopub.status.idle": "2022-12-15T19:04:07.272860Z",
     "shell.execute_reply": "2022-12-15T19:04:07.272346Z"
    },
    "papermill": {
     "duration": 0.039359,
     "end_time": "2022-12-15T19:04:07.273724",
     "exception": false,
     "start_time": "2022-12-15T19:04:07.234365",
     "status": "completed"
    },
    "tags": []
   },
   "outputs": [
    {
     "data": {
      "text/plain": [
       "(6443, 6443)"
      ]
     },
     "execution_count": 41,
     "metadata": {},
     "output_type": "execute_result"
    }
   ],
   "source": [
    "gene_corrs.shape"
   ]
  },
  {
   "cell_type": "code",
   "execution_count": 42,
   "id": "28db69f2-6dc8-4a05-a1da-d44998574749",
   "metadata": {
    "execution": {
     "iopub.execute_input": "2022-12-15T19:04:07.297283Z",
     "iopub.status.busy": "2022-12-15T19:04:07.296943Z",
     "iopub.status.idle": "2022-12-15T19:04:07.326222Z",
     "shell.execute_reply": "2022-12-15T19:04:07.325698Z"
    },
    "papermill": {
     "duration": 0.042356,
     "end_time": "2022-12-15T19:04:07.327392",
     "exception": false,
     "start_time": "2022-12-15T19:04:07.285036",
     "status": "completed"
    },
    "tags": []
   },
   "outputs": [
    {
     "data": {
      "text/html": [
       "<div>\n",
       "<style scoped>\n",
       "    .dataframe tbody tr th:only-of-type {\n",
       "        vertical-align: middle;\n",
       "    }\n",
       "\n",
       "    .dataframe tbody tr th {\n",
       "        vertical-align: top;\n",
       "    }\n",
       "\n",
       "    .dataframe thead th {\n",
       "        text-align: right;\n",
       "    }\n",
       "</style>\n",
       "<table border=\"1\" class=\"dataframe\">\n",
       "  <thead>\n",
       "    <tr style=\"text-align: right;\">\n",
       "      <th></th>\n",
       "      <th>NOC2L</th>\n",
       "      <th>HES4</th>\n",
       "      <th>ISG15</th>\n",
       "      <th>AGRN</th>\n",
       "      <th>TNFRSF18</th>\n",
       "      <th>TNFRSF4</th>\n",
       "      <th>B3GALT6</th>\n",
       "      <th>UBE2J2</th>\n",
       "      <th>ACAP3</th>\n",
       "      <th>TAS1R3</th>\n",
       "      <th>...</th>\n",
       "      <th>PLXNB2</th>\n",
       "      <th>ADM2</th>\n",
       "      <th>MIOX</th>\n",
       "      <th>SCO2</th>\n",
       "      <th>TYMP</th>\n",
       "      <th>CPT1B</th>\n",
       "      <th>CHKB</th>\n",
       "      <th>MAPK8IP2</th>\n",
       "      <th>ARSA</th>\n",
       "      <th>SHANK3</th>\n",
       "    </tr>\n",
       "  </thead>\n",
       "  <tbody>\n",
       "    <tr>\n",
       "      <th>NOC2L</th>\n",
       "      <td>1.000000</td>\n",
       "      <td>0.120590</td>\n",
       "      <td>0.177063</td>\n",
       "      <td>0.085746</td>\n",
       "      <td>0.006792</td>\n",
       "      <td>0.007685</td>\n",
       "      <td>0.004673</td>\n",
       "      <td>0.010734</td>\n",
       "      <td>0.011200</td>\n",
       "      <td>0.007529</td>\n",
       "      <td>...</td>\n",
       "      <td>0.0</td>\n",
       "      <td>0.0</td>\n",
       "      <td>0.0</td>\n",
       "      <td>0.0</td>\n",
       "      <td>0.0</td>\n",
       "      <td>0.0</td>\n",
       "      <td>0.0</td>\n",
       "      <td>0.0</td>\n",
       "      <td>0.0</td>\n",
       "      <td>0.0</td>\n",
       "    </tr>\n",
       "    <tr>\n",
       "      <th>HES4</th>\n",
       "      <td>0.120590</td>\n",
       "      <td>1.000000</td>\n",
       "      <td>0.672060</td>\n",
       "      <td>0.391127</td>\n",
       "      <td>0.011695</td>\n",
       "      <td>0.009275</td>\n",
       "      <td>0.005970</td>\n",
       "      <td>0.007385</td>\n",
       "      <td>0.002641</td>\n",
       "      <td>0.004767</td>\n",
       "      <td>...</td>\n",
       "      <td>0.0</td>\n",
       "      <td>0.0</td>\n",
       "      <td>0.0</td>\n",
       "      <td>0.0</td>\n",
       "      <td>0.0</td>\n",
       "      <td>0.0</td>\n",
       "      <td>0.0</td>\n",
       "      <td>0.0</td>\n",
       "      <td>0.0</td>\n",
       "      <td>0.0</td>\n",
       "    </tr>\n",
       "    <tr>\n",
       "      <th>ISG15</th>\n",
       "      <td>0.177063</td>\n",
       "      <td>0.672060</td>\n",
       "      <td>1.000000</td>\n",
       "      <td>0.424696</td>\n",
       "      <td>0.013929</td>\n",
       "      <td>0.013311</td>\n",
       "      <td>0.008466</td>\n",
       "      <td>0.010608</td>\n",
       "      <td>0.006689</td>\n",
       "      <td>0.011659</td>\n",
       "      <td>...</td>\n",
       "      <td>0.0</td>\n",
       "      <td>0.0</td>\n",
       "      <td>0.0</td>\n",
       "      <td>0.0</td>\n",
       "      <td>0.0</td>\n",
       "      <td>0.0</td>\n",
       "      <td>0.0</td>\n",
       "      <td>0.0</td>\n",
       "      <td>0.0</td>\n",
       "      <td>0.0</td>\n",
       "    </tr>\n",
       "    <tr>\n",
       "      <th>AGRN</th>\n",
       "      <td>0.085746</td>\n",
       "      <td>0.391127</td>\n",
       "      <td>0.424696</td>\n",
       "      <td>1.000000</td>\n",
       "      <td>0.005309</td>\n",
       "      <td>0.011848</td>\n",
       "      <td>0.002161</td>\n",
       "      <td>0.002535</td>\n",
       "      <td>0.005359</td>\n",
       "      <td>0.007012</td>\n",
       "      <td>...</td>\n",
       "      <td>0.0</td>\n",
       "      <td>0.0</td>\n",
       "      <td>0.0</td>\n",
       "      <td>0.0</td>\n",
       "      <td>0.0</td>\n",
       "      <td>0.0</td>\n",
       "      <td>0.0</td>\n",
       "      <td>0.0</td>\n",
       "      <td>0.0</td>\n",
       "      <td>0.0</td>\n",
       "    </tr>\n",
       "    <tr>\n",
       "      <th>TNFRSF18</th>\n",
       "      <td>0.006792</td>\n",
       "      <td>0.011695</td>\n",
       "      <td>0.013929</td>\n",
       "      <td>0.005309</td>\n",
       "      <td>1.000000</td>\n",
       "      <td>0.338085</td>\n",
       "      <td>0.550817</td>\n",
       "      <td>0.154394</td>\n",
       "      <td>0.193627</td>\n",
       "      <td>0.101004</td>\n",
       "      <td>...</td>\n",
       "      <td>0.0</td>\n",
       "      <td>0.0</td>\n",
       "      <td>0.0</td>\n",
       "      <td>0.0</td>\n",
       "      <td>0.0</td>\n",
       "      <td>0.0</td>\n",
       "      <td>0.0</td>\n",
       "      <td>0.0</td>\n",
       "      <td>0.0</td>\n",
       "      <td>0.0</td>\n",
       "    </tr>\n",
       "  </tbody>\n",
       "</table>\n",
       "<p>5 rows × 6443 columns</p>\n",
       "</div>"
      ],
      "text/plain": [
       "             NOC2L      HES4     ISG15      AGRN  TNFRSF18   TNFRSF4  \\\n",
       "NOC2L     1.000000  0.120590  0.177063  0.085746  0.006792  0.007685   \n",
       "HES4      0.120590  1.000000  0.672060  0.391127  0.011695  0.009275   \n",
       "ISG15     0.177063  0.672060  1.000000  0.424696  0.013929  0.013311   \n",
       "AGRN      0.085746  0.391127  0.424696  1.000000  0.005309  0.011848   \n",
       "TNFRSF18  0.006792  0.011695  0.013929  0.005309  1.000000  0.338085   \n",
       "\n",
       "           B3GALT6    UBE2J2     ACAP3    TAS1R3  ...  PLXNB2  ADM2  MIOX  \\\n",
       "NOC2L     0.004673  0.010734  0.011200  0.007529  ...     0.0   0.0   0.0   \n",
       "HES4      0.005970  0.007385  0.002641  0.004767  ...     0.0   0.0   0.0   \n",
       "ISG15     0.008466  0.010608  0.006689  0.011659  ...     0.0   0.0   0.0   \n",
       "AGRN      0.002161  0.002535  0.005359  0.007012  ...     0.0   0.0   0.0   \n",
       "TNFRSF18  0.550817  0.154394  0.193627  0.101004  ...     0.0   0.0   0.0   \n",
       "\n",
       "          SCO2  TYMP  CPT1B  CHKB  MAPK8IP2  ARSA  SHANK3  \n",
       "NOC2L      0.0   0.0    0.0   0.0       0.0   0.0     0.0  \n",
       "HES4       0.0   0.0    0.0   0.0       0.0   0.0     0.0  \n",
       "ISG15      0.0   0.0    0.0   0.0       0.0   0.0     0.0  \n",
       "AGRN       0.0   0.0    0.0   0.0       0.0   0.0     0.0  \n",
       "TNFRSF18   0.0   0.0    0.0   0.0       0.0   0.0     0.0  \n",
       "\n",
       "[5 rows x 6443 columns]"
      ]
     },
     "execution_count": 42,
     "metadata": {},
     "output_type": "execute_result"
    }
   ],
   "source": [
    "gene_corrs.head()"
   ]
  },
  {
   "cell_type": "code",
   "execution_count": 43,
   "id": "19f39ddb-854c-4b6a-886c-60e84b5d31ca",
   "metadata": {
    "execution": {
     "iopub.execute_input": "2022-12-15T19:04:07.359679Z",
     "iopub.status.busy": "2022-12-15T19:04:07.359216Z",
     "iopub.status.idle": "2022-12-15T19:04:07.674467Z",
     "shell.execute_reply": "2022-12-15T19:04:07.673919Z"
    },
    "papermill": {
     "duration": 0.329341,
     "end_time": "2022-12-15T19:04:07.676483",
     "exception": false,
     "start_time": "2022-12-15T19:04:07.347142",
     "status": "completed"
    },
    "tags": []
   },
   "outputs": [],
   "source": [
    "gene_corrs.to_pickle(output_file)"
   ]
  },
  {
   "cell_type": "code",
   "execution_count": 44,
   "id": "738f4cf5-44a9-4274-a2c8-11906113fa45",
   "metadata": {
    "execution": {
     "iopub.execute_input": "2022-12-15T19:04:07.726160Z",
     "iopub.status.busy": "2022-12-15T19:04:07.725646Z",
     "iopub.status.idle": "2022-12-15T19:04:07.738512Z",
     "shell.execute_reply": "2022-12-15T19:04:07.738030Z"
    },
    "papermill": {
     "duration": 0.039864,
     "end_time": "2022-12-15T19:04:07.739922",
     "exception": false,
     "start_time": "2022-12-15T19:04:07.700058",
     "status": "completed"
    },
    "tags": []
   },
   "outputs": [],
   "source": [
    "del gene_corrs"
   ]
  },
  {
   "cell_type": "markdown",
   "id": "551bd31a-ad37-45b5-a0c8-6ff1459faf60",
   "metadata": {
    "papermill": {
     "duration": 0.019109,
     "end_time": "2022-12-15T19:04:07.782237",
     "exception": false,
     "start_time": "2022-12-15T19:04:07.763128",
     "status": "completed"
    },
    "tags": []
   },
   "source": [
    "# Stats"
   ]
  },
  {
   "cell_type": "code",
   "execution_count": 45,
   "id": "33b5482f-7ecf-4365-867f-249f28d09180",
   "metadata": {
    "execution": {
     "iopub.execute_input": "2022-12-15T19:04:07.806572Z",
     "iopub.status.busy": "2022-12-15T19:04:07.806051Z",
     "iopub.status.idle": "2022-12-15T19:04:08.381469Z",
     "shell.execute_reply": "2022-12-15T19:04:08.380891Z"
    },
    "papermill": {
     "duration": 0.589424,
     "end_time": "2022-12-15T19:04:08.383165",
     "exception": false,
     "start_time": "2022-12-15T19:04:07.793741",
     "status": "completed"
    },
    "tags": []
   },
   "outputs": [],
   "source": [
    "full_corr_matrix_flat = full_corr_matrix.mask(\n",
    "    np.triu(np.ones(full_corr_matrix.shape)).astype(bool)\n",
    ").stack()"
   ]
  },
  {
   "cell_type": "code",
   "execution_count": 46,
   "id": "e2d950d1-646a-4ba1-bb91-cf07ad00872d",
   "metadata": {
    "execution": {
     "iopub.execute_input": "2022-12-15T19:04:08.408449Z",
     "iopub.status.busy": "2022-12-15T19:04:08.408198Z",
     "iopub.status.idle": "2022-12-15T19:04:08.421979Z",
     "shell.execute_reply": "2022-12-15T19:04:08.421469Z"
    },
    "papermill": {
     "duration": 0.027052,
     "end_time": "2022-12-15T19:04:08.422759",
     "exception": false,
     "start_time": "2022-12-15T19:04:08.395707",
     "status": "completed"
    },
    "tags": []
   },
   "outputs": [
    {
     "data": {
      "text/plain": [
       "(20752903,)"
      ]
     },
     "metadata": {},
     "output_type": "display_data"
    }
   ],
   "source": [
    "display(full_corr_matrix_flat.shape)\n",
    "assert full_corr_matrix_flat.shape[0] == int(\n",
    "    full_corr_matrix.shape[0] * (full_corr_matrix.shape[0] - 1) / 2\n",
    ")"
   ]
  },
  {
   "cell_type": "markdown",
   "id": "5fd7d482-b7b8-4a84-91b0-749d15f0d2c0",
   "metadata": {
    "papermill": {
     "duration": 0.011691,
     "end_time": "2022-12-15T19:04:08.446337",
     "exception": false,
     "start_time": "2022-12-15T19:04:08.434646",
     "status": "completed"
    },
    "tags": []
   },
   "source": [
    "## On all correlations"
   ]
  },
  {
   "cell_type": "code",
   "execution_count": 47,
   "id": "e58ea199-0cc1-449d-a55e-26970fb674a8",
   "metadata": {
    "execution": {
     "iopub.execute_input": "2022-12-15T19:04:08.470680Z",
     "iopub.status.busy": "2022-12-15T19:04:08.470187Z",
     "iopub.status.idle": "2022-12-15T19:04:08.491124Z",
     "shell.execute_reply": "2022-12-15T19:04:08.490513Z"
    },
    "papermill": {
     "duration": 0.034282,
     "end_time": "2022-12-15T19:04:08.492200",
     "exception": false,
     "start_time": "2022-12-15T19:04:08.457918",
     "status": "completed"
    },
    "tags": []
   },
   "outputs": [],
   "source": [
    "_corr_mat = full_corr_matrix_flat"
   ]
  },
  {
   "cell_type": "code",
   "execution_count": 48,
   "id": "c4e71773-0b74-435f-a9d9-cc8671d7c570",
   "metadata": {
    "execution": {
     "iopub.execute_input": "2022-12-15T19:04:08.517410Z",
     "iopub.status.busy": "2022-12-15T19:04:08.516812Z",
     "iopub.status.idle": "2022-12-15T19:04:08.538876Z",
     "shell.execute_reply": "2022-12-15T19:04:08.538293Z"
    },
    "papermill": {
     "duration": 0.03599,
     "end_time": "2022-12-15T19:04:08.540520",
     "exception": false,
     "start_time": "2022-12-15T19:04:08.504530",
     "status": "completed"
    },
    "tags": []
   },
   "outputs": [
    {
     "data": {
      "text/plain": [
       "(20752903,)"
      ]
     },
     "execution_count": 48,
     "metadata": {},
     "output_type": "execute_result"
    }
   ],
   "source": [
    "_corr_mat.shape"
   ]
  },
  {
   "cell_type": "code",
   "execution_count": 49,
   "id": "9907fbe4-85e1-4690-ae0c-3c6f5a19e9b7",
   "metadata": {
    "execution": {
     "iopub.execute_input": "2022-12-15T19:04:08.589224Z",
     "iopub.status.busy": "2022-12-15T19:04:08.588619Z",
     "iopub.status.idle": "2022-12-15T19:04:08.603824Z",
     "shell.execute_reply": "2022-12-15T19:04:08.603312Z"
    },
    "papermill": {
     "duration": 0.040252,
     "end_time": "2022-12-15T19:04:08.604757",
     "exception": false,
     "start_time": "2022-12-15T19:04:08.564505",
     "status": "completed"
    },
    "tags": []
   },
   "outputs": [
    {
     "data": {
      "text/plain": [
       "ENSG00000188290  ENSG00000188976    0.120590\n",
       "ENSG00000187608  ENSG00000188976    0.177063\n",
       "                 ENSG00000188290    0.672060\n",
       "ENSG00000188157  ENSG00000188976    0.085746\n",
       "                 ENSG00000188290    0.391127\n",
       "dtype: float64"
      ]
     },
     "execution_count": 49,
     "metadata": {},
     "output_type": "execute_result"
    }
   ],
   "source": [
    "_corr_mat.head()"
   ]
  },
  {
   "cell_type": "code",
   "execution_count": 50,
   "id": "cb34e9c9-7488-47f2-aa31-c8a8e83f92ae",
   "metadata": {
    "execution": {
     "iopub.execute_input": "2022-12-15T19:04:08.629924Z",
     "iopub.status.busy": "2022-12-15T19:04:08.629709Z",
     "iopub.status.idle": "2022-12-15T19:04:08.983403Z",
     "shell.execute_reply": "2022-12-15T19:04:08.982879Z"
    },
    "papermill": {
     "duration": 0.367117,
     "end_time": "2022-12-15T19:04:08.984383",
     "exception": false,
     "start_time": "2022-12-15T19:04:08.617266",
     "status": "completed"
    },
    "tags": []
   },
   "outputs": [
    {
     "data": {
      "text/plain": [
       "count                20752903.0\n",
       "mean     0.00016514580104168942\n",
       "std        0.006889696086803129\n",
       "min      -1.032047070917523e-15\n",
       "25%                         0.0\n",
       "50%                         0.0\n",
       "75%                         0.0\n",
       "max          0.9999999999999991\n",
       "dtype: object"
      ]
     },
     "execution_count": 50,
     "metadata": {},
     "output_type": "execute_result"
    }
   ],
   "source": [
    "_corr_mat.describe().apply(str)"
   ]
  },
  {
   "cell_type": "code",
   "execution_count": 51,
   "id": "ccb2fbfa-e381-40a0-a269-e280c12c6039",
   "metadata": {
    "execution": {
     "iopub.execute_input": "2022-12-15T19:04:09.009686Z",
     "iopub.status.busy": "2022-12-15T19:04:09.009450Z",
     "iopub.status.idle": "2022-12-15T19:04:09.279239Z",
     "shell.execute_reply": "2022-12-15T19:04:09.278715Z"
    },
    "papermill": {
     "duration": 0.283508,
     "end_time": "2022-12-15T19:04:09.280207",
     "exception": false,
     "start_time": "2022-12-15T19:04:08.996699",
     "status": "completed"
    },
    "tags": []
   },
   "outputs": [
    {
     "data": {
      "text/plain": [
       "0.00   -1.032047e-15\n",
       "0.05    0.000000e+00\n",
       "0.10    0.000000e+00\n",
       "0.15    0.000000e+00\n",
       "0.20    0.000000e+00\n",
       "0.25    0.000000e+00\n",
       "0.30    0.000000e+00\n",
       "0.35    0.000000e+00\n",
       "0.40    0.000000e+00\n",
       "0.45    0.000000e+00\n",
       "0.50    0.000000e+00\n",
       "0.55    0.000000e+00\n",
       "0.60    0.000000e+00\n",
       "0.65    0.000000e+00\n",
       "0.70    0.000000e+00\n",
       "0.75    0.000000e+00\n",
       "0.80    0.000000e+00\n",
       "0.85    0.000000e+00\n",
       "0.90    0.000000e+00\n",
       "0.95    0.000000e+00\n",
       "dtype: float64"
      ]
     },
     "metadata": {},
     "output_type": "display_data"
    }
   ],
   "source": [
    "display(_corr_mat.quantile(np.arange(0, 1, 0.05)))"
   ]
  },
  {
   "cell_type": "code",
   "execution_count": 52,
   "id": "940dcbd0-3a39-4e0b-9b7c-cd3f905ea8fb",
   "metadata": {
    "execution": {
     "iopub.execute_input": "2022-12-15T19:04:09.305550Z",
     "iopub.status.busy": "2022-12-15T19:04:09.305322Z",
     "iopub.status.idle": "2022-12-15T19:04:09.500882Z",
     "shell.execute_reply": "2022-12-15T19:04:09.500355Z"
    },
    "papermill": {
     "duration": 0.20898,
     "end_time": "2022-12-15T19:04:09.501869",
     "exception": false,
     "start_time": "2022-12-15T19:04:09.292889",
     "status": "completed"
    },
    "tags": []
   },
   "outputs": [
    {
     "data": {
      "text/plain": [
       "0.0000   -1.032047e-15\n",
       "0.0001   -2.177657e-16\n",
       "0.0002   -1.548037e-16\n",
       "0.0003   -1.194531e-16\n",
       "0.0004   -9.456984e-17\n",
       "0.0005   -7.531883e-17\n",
       "0.0006   -6.062713e-17\n",
       "0.0007   -4.865031e-17\n",
       "0.0008   -3.882336e-17\n",
       "0.0009   -3.047756e-17\n",
       "dtype: float64"
      ]
     },
     "metadata": {},
     "output_type": "display_data"
    }
   ],
   "source": [
    "display(_corr_mat.quantile(np.arange(0, 0.001, 0.0001)))"
   ]
  },
  {
   "cell_type": "code",
   "execution_count": 53,
   "id": "9c76b62b-be13-4037-a95b-a8c2104055a3",
   "metadata": {
    "execution": {
     "iopub.execute_input": "2022-12-15T19:04:09.527477Z",
     "iopub.status.busy": "2022-12-15T19:04:09.527263Z",
     "iopub.status.idle": "2022-12-15T19:04:09.634145Z",
     "shell.execute_reply": "2022-12-15T19:04:09.633656Z"
    },
    "papermill": {
     "duration": 0.120375,
     "end_time": "2022-12-15T19:04:09.635114",
     "exception": false,
     "start_time": "2022-12-15T19:04:09.514739",
     "status": "completed"
    },
    "tags": []
   },
   "outputs": [
    {
     "data": {
      "text/plain": [
       "0.9990    0.014692\n",
       "0.9991    0.016645\n",
       "0.9992    0.020181\n",
       "0.9993    0.026091\n",
       "0.9994    0.034861\n",
       "0.9995    0.050389\n",
       "0.9996    0.078749\n",
       "0.9997    0.132025\n",
       "0.9998    0.234598\n",
       "0.9999    0.396342\n",
       "1.0000    1.000000\n",
       "dtype: float64"
      ]
     },
     "metadata": {},
     "output_type": "display_data"
    }
   ],
   "source": [
    "display(_corr_mat.quantile(np.arange(0.999, 1.0, 0.0001)))"
   ]
  },
  {
   "cell_type": "markdown",
   "id": "0ed3b3a6-f1ea-4f39-9363-f33b835413d2",
   "metadata": {
    "papermill": {
     "duration": 0.012042,
     "end_time": "2022-12-15T19:04:09.659982",
     "exception": false,
     "start_time": "2022-12-15T19:04:09.647940",
     "status": "completed"
    },
    "tags": []
   },
   "source": [
    "### Plot: distribution"
   ]
  },
  {
   "cell_type": "code",
   "execution_count": 54,
   "id": "8301126b-a7d4-4744-9c7d-f0f86eb6f54c",
   "metadata": {
    "execution": {
     "iopub.execute_input": "2022-12-15T19:04:09.685085Z",
     "iopub.status.busy": "2022-12-15T19:04:09.684862Z",
     "iopub.status.idle": "2022-12-15T19:05:26.301779Z",
     "shell.execute_reply": "2022-12-15T19:05:26.301279Z"
    },
    "papermill": {
     "duration": 76.657507,
     "end_time": "2022-12-15T19:05:26.329443",
     "exception": false,
     "start_time": "2022-12-15T19:04:09.671936",
     "status": "completed"
    },
    "tags": []
   },
   "outputs": [
    {
     "data": {
      "image/png": "[encoded data removed]",
      "text/plain": [
       "<Figure size 700x700 with 1 Axes>"
      ]
     },
     "metadata": {},
     "output_type": "display_data"
    }
   ],
   "source": [
    "with sns.plotting_context(\"paper\", font_scale=1.5):\n",
    "    g = sns.displot(_corr_mat, kde=True, height=7)\n",
    "    g.ax.set_title(\"Distribution of gene correlation values in all chromosomes\")"
   ]
  },
  {
   "cell_type": "markdown",
   "id": "e209767d-44b8-48a4-ad28-478703a3b5bd",
   "metadata": {
    "papermill": {
     "duration": 0.024191,
     "end_time": "2022-12-15T19:05:26.378529",
     "exception": false,
     "start_time": "2022-12-15T19:05:26.354338",
     "status": "completed"
    },
    "tags": []
   },
   "source": [
    "### Plot: heatmap"
   ]
  },
  {
   "cell_type": "code",
   "execution_count": 55,
   "id": "d03fe63a-c7b2-4fb9-a53c-db362ce843c9",
   "metadata": {
    "execution": {
     "iopub.execute_input": "2022-12-15T19:05:26.407771Z",
     "iopub.status.busy": "2022-12-15T19:05:26.407100Z",
     "iopub.status.idle": "2022-12-15T19:05:26.572137Z",
     "shell.execute_reply": "2022-12-15T19:05:26.571636Z"
    },
    "papermill": {
     "duration": 0.179626,
     "end_time": "2022-12-15T19:05:26.573302",
     "exception": false,
     "start_time": "2022-12-15T19:05:26.393676",
     "status": "completed"
    },
    "tags": []
   },
   "outputs": [
    {
     "data": {
      "text/plain": [
       "'0.0 / 0.05'"
      ]
     },
     "metadata": {},
     "output_type": "display_data"
    }
   ],
   "source": [
    "vmin_val = 0.0\n",
    "vmax_val = max(0.05, _corr_mat.quantile(0.99))\n",
    "display(f\"{vmin_val} / {vmax_val}\")"
   ]
  },
  {
   "cell_type": "code",
   "execution_count": 56,
   "id": "dc41b70b-5bcc-4d9e-9f33-a22c4a94dab5",
   "metadata": {
    "execution": {
     "iopub.execute_input": "2022-12-15T19:05:26.617132Z",
     "iopub.status.busy": "2022-12-15T19:05:26.616783Z",
     "iopub.status.idle": "2022-12-15T19:05:57.717319Z",
     "shell.execute_reply": "2022-12-15T19:05:57.716903Z"
    },
    "papermill": {
     "duration": 31.147934,
     "end_time": "2022-12-15T19:05:57.743321",
     "exception": false,
     "start_time": "2022-12-15T19:05:26.595387",
     "status": "completed"
    },
    "tags": []
   },
   "outputs": [
    {
     "data": {
      "text/plain": [
       "Text(0.5, 1.0, 'Gene correlations in all chromosomes')"
      ]
     },
     "execution_count": 56,
     "metadata": {},
     "output_type": "execute_result"
    },
    {
     "data": {
      "image/png": "[encoded data removed]",
      "text/plain": [
       "<Figure size 1000x1000 with 2 Axes>"
      ]
     },
     "metadata": {},
     "output_type": "display_data"
    }
   ],
   "source": [
    "f, ax = plt.subplots(figsize=(10, 10))\n",
    "sns.heatmap(\n",
    "    full_corr_matrix,\n",
    "    xticklabels=False,\n",
    "    yticklabels=False,\n",
    "    square=True,\n",
    "    vmin=vmin_val,\n",
    "    vmax=vmax_val,\n",
    "    cmap=\"rocket_r\",\n",
    "    ax=ax,\n",
    ")\n",
    "ax.set_title(\"Gene correlations in all chromosomes\")"
   ]
  },
  {
   "cell_type": "markdown",
   "id": "5a1b7488-1c3b-4c8b-b619-3b063b3f83c6",
   "metadata": {
    "papermill": {
     "duration": 0.024406,
     "end_time": "2022-12-15T19:05:57.792861",
     "exception": false,
     "start_time": "2022-12-15T19:05:57.768455",
     "status": "completed"
    },
    "tags": []
   },
   "source": [
    "## On nonzero correlations"
   ]
  },
  {
   "cell_type": "code",
   "execution_count": 57,
   "id": "0a07752e-b62f-4f01-af30-847efe9bba54",
   "metadata": {
    "execution": {
     "iopub.execute_input": "2022-12-15T19:05:57.822386Z",
     "iopub.status.busy": "2022-12-15T19:05:57.822229Z",
     "iopub.status.idle": "2022-12-15T19:05:57.863487Z",
     "shell.execute_reply": "2022-12-15T19:05:57.863027Z"
    },
    "papermill": {
     "duration": 0.055613,
     "end_time": "2022-12-15T19:05:57.864528",
     "exception": false,
     "start_time": "2022-12-15T19:05:57.808915",
     "status": "completed"
    },
    "tags": []
   },
   "outputs": [],
   "source": [
    "nonzero_corrs = full_corr_matrix_flat[full_corr_matrix_flat > 0.0]"
   ]
  },
  {
   "cell_type": "code",
   "execution_count": 58,
   "id": "3b509dde-e4ec-4e14-a7d5-09e3fe584027",
   "metadata": {
    "execution": {
     "iopub.execute_input": "2022-12-15T19:05:57.901235Z",
     "iopub.status.busy": "2022-12-15T19:05:57.901118Z",
     "iopub.status.idle": "2022-12-15T19:05:57.913666Z",
     "shell.execute_reply": "2022-12-15T19:05:57.913240Z"
    },
    "papermill": {
     "duration": 0.03438,
     "end_time": "2022-12-15T19:05:57.914519",
     "exception": false,
     "start_time": "2022-12-15T19:05:57.880139",
     "status": "completed"
    },
    "tags": []
   },
   "outputs": [],
   "source": [
    "_corr_mat = nonzero_corrs"
   ]
  },
  {
   "cell_type": "code",
   "execution_count": 59,
   "id": "427cd6b6-411c-4bce-9129-f7e128c9992f",
   "metadata": {
    "execution": {
     "iopub.execute_input": "2022-12-15T19:05:57.952282Z",
     "iopub.status.busy": "2022-12-15T19:05:57.952146Z",
     "iopub.status.idle": "2022-12-15T19:05:57.965292Z",
     "shell.execute_reply": "2022-12-15T19:05:57.964858Z"
    },
    "papermill": {
     "duration": 0.031373,
     "end_time": "2022-12-15T19:05:57.966104",
     "exception": false,
     "start_time": "2022-12-15T19:05:57.934731",
     "status": "completed"
    },
    "tags": []
   },
   "outputs": [
    {
     "data": {
      "text/plain": [
       "(161163,)"
      ]
     },
     "execution_count": 59,
     "metadata": {},
     "output_type": "execute_result"
    }
   ],
   "source": [
    "_corr_mat.shape"
   ]
  },
  {
   "cell_type": "code",
   "execution_count": 60,
   "id": "684ee3aa-d1bf-4f39-883e-1c9cda28f332",
   "metadata": {
    "execution": {
     "iopub.execute_input": "2022-12-15T19:05:57.994592Z",
     "iopub.status.busy": "2022-12-15T19:05:57.994477Z",
     "iopub.status.idle": "2022-12-15T19:05:58.016423Z",
     "shell.execute_reply": "2022-12-15T19:05:58.015888Z"
    },
    "papermill": {
     "duration": 0.036954,
     "end_time": "2022-12-15T19:05:58.017310",
     "exception": false,
     "start_time": "2022-12-15T19:05:57.980356",
     "status": "completed"
    },
    "tags": []
   },
   "outputs": [
    {
     "data": {
      "text/plain": [
       "ENSG00000188290  ENSG00000188976    0.120590\n",
       "ENSG00000187608  ENSG00000188976    0.177063\n",
       "                 ENSG00000188290    0.672060\n",
       "ENSG00000188157  ENSG00000188976    0.085746\n",
       "                 ENSG00000188290    0.391127\n",
       "dtype: float64"
      ]
     },
     "execution_count": 60,
     "metadata": {},
     "output_type": "execute_result"
    }
   ],
   "source": [
    "_corr_mat.head()"
   ]
  },
  {
   "cell_type": "code",
   "execution_count": 61,
   "id": "87467e53-a225-48f9-86ef-d00978925faa",
   "metadata": {
    "execution": {
     "iopub.execute_input": "2022-12-15T19:05:58.050207Z",
     "iopub.status.busy": "2022-12-15T19:05:58.049730Z",
     "iopub.status.idle": "2022-12-15T19:05:58.081662Z",
     "shell.execute_reply": "2022-12-15T19:05:58.081194Z"
    },
    "papermill": {
     "duration": 0.051475,
     "end_time": "2022-12-15T19:05:58.082574",
     "exception": false,
     "start_time": "2022-12-15T19:05:58.031099",
     "status": "completed"
    },
    "tags": []
   },
   "outputs": [
    {
     "data": {
      "text/plain": [
       "count                  161163.0\n",
       "mean       0.021265766893613855\n",
       "std         0.07525782593711441\n",
       "min      1.5693136548242958e-23\n",
       "25%       0.0016475756206519622\n",
       "50%        0.005367557911366972\n",
       "75%        0.009181136047368288\n",
       "max          0.9999999999999991\n",
       "dtype: object"
      ]
     },
     "execution_count": 61,
     "metadata": {},
     "output_type": "execute_result"
    }
   ],
   "source": [
    "_corr_mat.describe().apply(str)"
   ]
  },
  {
   "cell_type": "code",
   "execution_count": 62,
   "id": "ece1b4b2-1764-4893-bb0e-837f5d1a6677",
   "metadata": {
    "execution": {
     "iopub.execute_input": "2022-12-15T19:05:58.111074Z",
     "iopub.status.busy": "2022-12-15T19:05:58.110524Z",
     "iopub.status.idle": "2022-12-15T19:05:58.144726Z",
     "shell.execute_reply": "2022-12-15T19:05:58.144271Z"
    },
    "papermill": {
     "duration": 0.049028,
     "end_time": "2022-12-15T19:05:58.145616",
     "exception": false,
     "start_time": "2022-12-15T19:05:58.096588",
     "status": "completed"
    },
    "tags": []
   },
   "outputs": [
    {
     "data": {
      "text/plain": [
       "0.00    1.569314e-23\n",
       "0.05    1.221311e-17\n",
       "0.10    3.824448e-17\n",
       "0.15    8.776806e-17\n",
       "0.20    2.783858e-16\n",
       "0.25    1.647576e-03\n",
       "0.30    2.631346e-03\n",
       "0.35    3.426019e-03\n",
       "0.40    4.106209e-03\n",
       "0.45    4.734072e-03\n",
       "0.50    5.367558e-03\n",
       "0.55    5.997916e-03\n",
       "0.60    6.662120e-03\n",
       "0.65    7.383398e-03\n",
       "0.70    8.195568e-03\n",
       "0.75    9.181136e-03\n",
       "0.80    1.052688e-02\n",
       "0.85    1.280639e-02\n",
       "0.90    2.132289e-02\n",
       "0.95    8.310114e-02\n",
       "dtype: float64"
      ]
     },
     "metadata": {},
     "output_type": "display_data"
    }
   ],
   "source": [
    "display(_corr_mat.quantile(np.arange(0, 1, 0.05)))"
   ]
  },
  {
   "cell_type": "code",
   "execution_count": 63,
   "id": "3543f16e-1453-44e5-ab68-0d03450e559b",
   "metadata": {
    "execution": {
     "iopub.execute_input": "2022-12-15T19:05:58.174042Z",
     "iopub.status.busy": "2022-12-15T19:05:58.173524Z",
     "iopub.status.idle": "2022-12-15T19:05:58.201405Z",
     "shell.execute_reply": "2022-12-15T19:05:58.200937Z"
    },
    "papermill": {
     "duration": 0.043318,
     "end_time": "2022-12-15T19:05:58.202912",
     "exception": false,
     "start_time": "2022-12-15T19:05:58.159594",
     "status": "completed"
    },
    "tags": []
   },
   "outputs": [
    {
     "data": {
      "text/plain": [
       "0.0000    1.569314e-23\n",
       "0.0001    1.311603e-20\n",
       "0.0002    2.398026e-20\n",
       "0.0003    4.187191e-20\n",
       "0.0004    5.427772e-20\n",
       "0.0005    6.521384e-20\n",
       "0.0006    7.818372e-20\n",
       "0.0007    9.291597e-20\n",
       "0.0008    1.062206e-19\n",
       "0.0009    1.155534e-19\n",
       "dtype: float64"
      ]
     },
     "metadata": {},
     "output_type": "display_data"
    }
   ],
   "source": [
    "display(_corr_mat.quantile(np.arange(0, 0.001, 0.0001)))"
   ]
  },
  {
   "cell_type": "code",
   "execution_count": 64,
   "id": "bb34d782-9aaa-48ce-b526-8323522166a3",
   "metadata": {
    "execution": {
     "iopub.execute_input": "2022-12-15T19:05:58.257097Z",
     "iopub.status.busy": "2022-12-15T19:05:58.256638Z",
     "iopub.status.idle": "2022-12-15T19:05:58.281992Z",
     "shell.execute_reply": "2022-12-15T19:05:58.281454Z"
    },
    "papermill": {
     "duration": 0.052892,
     "end_time": "2022-12-15T19:05:58.283391",
     "exception": false,
     "start_time": "2022-12-15T19:05:58.230499",
     "status": "completed"
    },
    "tags": []
   },
   "outputs": [
    {
     "data": {
      "text/plain": [
       "0.9990    0.768380\n",
       "0.9991    0.783323\n",
       "0.9992    0.793312\n",
       "0.9993    0.804961\n",
       "0.9994    0.826417\n",
       "0.9995    0.858627\n",
       "0.9996    0.889615\n",
       "0.9997    0.931383\n",
       "0.9998    0.956384\n",
       "0.9999    0.984698\n",
       "1.0000    1.000000\n",
       "dtype: float64"
      ]
     },
     "metadata": {},
     "output_type": "display_data"
    }
   ],
   "source": [
    "display(_corr_mat.quantile(np.arange(0.999, 1.0, 0.0001)))"
   ]
  },
  {
   "cell_type": "markdown",
   "id": "fd4ce75c-e759-48b5-9b2b-584438302fff",
   "metadata": {
    "papermill": {
     "duration": 0.023938,
     "end_time": "2022-12-15T19:05:58.333409",
     "exception": false,
     "start_time": "2022-12-15T19:05:58.309471",
     "status": "completed"
    },
    "tags": []
   },
   "source": [
    "### Plot: distribution"
   ]
  },
  {
   "cell_type": "code",
   "execution_count": 65,
   "id": "7da6aa50-81da-4f75-9d54-4fad6a3fb5a5",
   "metadata": {
    "execution": {
     "iopub.execute_input": "2022-12-15T19:05:58.361600Z",
     "iopub.status.busy": "2022-12-15T19:05:58.361031Z",
     "iopub.status.idle": "2022-12-15T19:06:03.815602Z",
     "shell.execute_reply": "2022-12-15T19:06:03.814966Z"
    },
    "papermill": {
     "duration": 5.470381,
     "end_time": "2022-12-15T19:06:03.817267",
     "exception": false,
     "start_time": "2022-12-15T19:05:58.346886",
     "status": "completed"
    },
    "tags": []
   },
   "outputs": [
    {
     "data": {
      "image/png": "[encoded data removed]",
      "text/plain": [
       "<Figure size 700x700 with 1 Axes>"
      ]
     },
     "metadata": {},
     "output_type": "display_data"
    }
   ],
   "source": [
    "with sns.plotting_context(\"paper\", font_scale=1.5):\n",
    "    g = sns.displot(_corr_mat, kde=True, height=7)\n",
    "    g.ax.set_title(\"Distribution of gene correlation values in all chromosomes\")"
   ]
  },
  {
   "cell_type": "code",
   "execution_count": null,
   "id": "38cf09b7",
   "metadata": {
    "papermill": {
     "duration": 0.027011,
     "end_time": "2022-12-15T19:06:03.872380",
     "exception": false,
     "start_time": "2022-12-15T19:06:03.845369",
     "status": "completed"
    },
    "tags": []
   },
   "outputs": [],
   "source": []
  }
 ],
 "metadata": {
  "jupytext": {
   "cell_metadata_filter": "all,-execution,-papermill,-trusted",
   "formats": "ipynb,py//py:percent"
  },
  "kernelspec": {
   "display_name": "Python 3 (ipykernel)",
   "language": "python",
   "name": "python3"
  },
  "language_info": {
   "codemirror_mode": {
    "name": "ipython",
    "version": 3
   },
   "file_extension": ".py",
   "mimetype": "text/x-python",
   "name": "python",
   "nbconvert_exporter": "python",
   "pygments_lexer": "ipython3",
   "version": "3.10.6"
  },
  "papermill": {
   "default_parameters": {},
   "duration": 210.006724,
   "end_time": "2022-12-15T19:06:04.415919",
   "environment_variables": {},
   "exception": null,
   "input_path": "projects/asthma-copd/nbs/20_gene_corrs/jobs/10-postprocess_gene_expr_correlations.ipynb",
   "output_path": "projects/asthma-copd/nbs/20_gene_corrs/jobs/../output/copd_only/10-postprocess_gene_expr_correlations.run.ipynb",
   "parameters": {
    "COHORT_NAME": "copd_only",
    "OUTPUT_DIR_BASE": "/opt/data/projects/asthma-copd/results/gls_phenoplier",
    "PHENOPLIER_NOTEBOOK_FILEPATH": "projects/asthma-copd/nbs/20_gene_corrs/jobs/10-postprocess_gene_expr_correlations.ipynb"
   },
   "start_time": "2022-12-15T19:02:34.409195",
   "version": "2.2.2"
  }
 },
 "nbformat": 4,
 "nbformat_minor": 5
}
