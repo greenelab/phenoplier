{
 "cells": [
  {
   "cell_type": "markdown",
   "id": "7a6632fb",
   "metadata": {
    "papermill": {
     "duration": 0.007634,
     "end_time": "2022-12-15T17:56:20.723974",
     "exception": false,
     "start_time": "2022-12-15T17:56:20.716340",
     "status": "completed"
    },
    "tags": []
   },
   "source": [
    "# Description"
   ]
  },
  {
   "cell_type": "markdown",
   "id": "7097c346",
   "metadata": {
    "papermill": {
     "duration": 0.0051,
     "end_time": "2022-12-15T17:56:20.734621",
     "exception": false,
     "start_time": "2022-12-15T17:56:20.729521",
     "status": "completed"
    },
    "tags": []
   },
   "source": [
    "(Please, take a look at the README.md file in this directory for instructions on how to run this notebook)\n",
    "\n",
    "This notebook computes predicted expression correlations between all genes in the MultiPLIER models.\n",
    "\n",
    "It has specicfic parameters for papermill (see under `Settings` below).\n",
    "It can be configured to run on a single chromosome to run in parallel.\n",
    "\n",
    "This notebook is not directly run. See README.md."
   ]
  },
  {
   "cell_type": "markdown",
   "id": "c61d8427",
   "metadata": {
    "papermill": {
     "duration": 0.004873,
     "end_time": "2022-12-15T17:56:20.744915",
     "exception": false,
     "start_time": "2022-12-15T17:56:20.740042",
     "status": "completed"
    },
    "tags": []
   },
   "source": [
    "# Modules"
   ]
  },
  {
   "cell_type": "code",
   "execution_count": 1,
   "id": "bbc0234f",
   "metadata": {
    "execution": {
     "iopub.execute_input": "2022-12-15T17:56:20.758619Z",
     "iopub.status.busy": "2022-12-15T17:56:20.757796Z",
     "iopub.status.idle": "2022-12-15T17:56:20.788362Z",
     "shell.execute_reply": "2022-12-15T17:56:20.787522Z"
    },
    "papermill": {
     "duration": 0.038884,
     "end_time": "2022-12-15T17:56:20.790568",
     "exception": false,
     "start_time": "2022-12-15T17:56:20.751684",
     "status": "completed"
    },
    "tags": []
   },
   "outputs": [],
   "source": [
    "%load_ext autoreload\n",
    "%autoreload 2"
   ]
  },
  {
   "cell_type": "code",
   "execution_count": 2,
   "id": "1d5f5a59",
   "metadata": {
    "execution": {
     "iopub.execute_input": "2022-12-15T17:56:20.810023Z",
     "iopub.status.busy": "2022-12-15T17:56:20.809712Z",
     "iopub.status.idle": "2022-12-15T17:56:21.637664Z",
     "shell.execute_reply": "2022-12-15T17:56:21.637213Z"
    },
    "papermill": {
     "duration": 0.839613,
     "end_time": "2022-12-15T17:56:21.639200",
     "exception": false,
     "start_time": "2022-12-15T17:56:20.799587",
     "status": "completed"
    },
    "tags": []
   },
   "outputs": [],
   "source": [
    "from random import sample, seed\n",
    "import warnings\n",
    "from pathlib import Path\n",
    "import pickle\n",
    "import traceback\n",
    "\n",
    "import numpy as np\n",
    "from scipy.spatial.distance import squareform\n",
    "import pandas as pd\n",
    "from tqdm import tqdm\n",
    "import matplotlib.pyplot as plt\n",
    "import seaborn as sns\n",
    "\n",
    "import conf\n",
    "from entity import Gene"
   ]
  },
  {
   "cell_type": "markdown",
   "id": "1eac24b5",
   "metadata": {
    "papermill": {
     "duration": 0.008341,
     "end_time": "2022-12-15T17:56:21.655666",
     "exception": false,
     "start_time": "2022-12-15T17:56:21.647325",
     "status": "completed"
    },
    "tags": []
   },
   "source": [
    "# Settings"
   ]
  },
  {
   "cell_type": "code",
   "execution_count": 3,
   "id": "ca4560ba",
   "metadata": {
    "execution": {
     "iopub.execute_input": "2022-12-15T17:56:21.670874Z",
     "iopub.status.busy": "2022-12-15T17:56:21.670511Z",
     "iopub.status.idle": "2022-12-15T17:56:21.685401Z",
     "shell.execute_reply": "2022-12-15T17:56:21.684971Z"
    },
    "papermill": {
     "duration": 0.022985,
     "end_time": "2022-12-15T17:56:21.686475",
     "exception": false,
     "start_time": "2022-12-15T17:56:21.663490",
     "status": "completed"
    },
    "tags": [
     "parameters"
    ]
   },
   "outputs": [],
   "source": [
    "# a cohort name (it could be something like UK_BIOBANK, etc)\n",
    "COHORT_NAME = None\n",
    "\n",
    "# reference panel such as 1000G or GTEX_V8\n",
    "REFERENCE_PANEL = \"GTEX_V8\"\n",
    "\n",
    "# predictions models such as MASHR or ELASTIC_NET\n",
    "EQTL_MODEL = \"MASHR\"\n",
    "\n",
    "# this is the default value used in S-MultiXcan to select the\n",
    "# top principal components of the expression correlation matrix\n",
    "SMULTIXCAN_CONDITION_NUMBER = 30\n",
    "\n",
    "# specifies a single chromosome value\n",
    "CHROMOSOME = None\n",
    "\n",
    "# If True, computes the correlation between closeby genes only (see\n",
    "# entity.Gene.within_distance for more details). Otherwise, it computes\n",
    "# correlations for all genes in a chromosome\n",
    "COMPUTE_CORRELATIONS_WITHIN_DISTANCE = True\n",
    "\n",
    "# if True, then it will continue if a gene pair correlation fails,\n",
    "# printing the warning/error for debugging. If False, any warning/error\n",
    "# will be thrown\n",
    "DEBUG_MODE = False\n",
    "\n",
    "# output dir\n",
    "OUTPUT_DIR_BASE = None"
   ]
  },
  {
   "cell_type": "code",
   "execution_count": 4,
   "id": "8c49a346",
   "metadata": {
    "execution": {
     "iopub.execute_input": "2022-12-15T17:56:21.696206Z",
     "iopub.status.busy": "2022-12-15T17:56:21.696054Z",
     "iopub.status.idle": "2022-12-15T17:56:21.709579Z",
     "shell.execute_reply": "2022-12-15T17:56:21.709155Z"
    },
    "papermill": {
     "duration": 0.019488,
     "end_time": "2022-12-15T17:56:21.710647",
     "exception": false,
     "start_time": "2022-12-15T17:56:21.691159",
     "status": "completed"
    },
    "tags": [
     "injected-parameters"
    ]
   },
   "outputs": [],
   "source": [
    "# Parameters\n",
    "PHENOPLIER_NOTEBOOK_FILEPATH = (\n",
    "    \"projects/asthma-copd/nbs/20_gene_corrs/jobs/05-gene_expr_correlations.ipynb\"\n",
    ")\n",
    "COHORT_NAME = \"copd_only\"\n",
    "CHROMOSOME = 11\n",
    "OUTPUT_DIR_BASE = \"/opt/data/projects/asthma-copd/results/gls_phenoplier\"\n"
   ]
  },
  {
   "cell_type": "code",
   "execution_count": 5,
   "id": "3190631f-27fc-480f-b18e-571d580425a5",
   "metadata": {
    "execution": {
     "iopub.execute_input": "2022-12-15T17:56:21.721037Z",
     "iopub.status.busy": "2022-12-15T17:56:21.720830Z",
     "iopub.status.idle": "2022-12-15T17:56:21.739742Z",
     "shell.execute_reply": "2022-12-15T17:56:21.739231Z"
    },
    "papermill": {
     "duration": 0.024895,
     "end_time": "2022-12-15T17:56:21.740745",
     "exception": false,
     "start_time": "2022-12-15T17:56:21.715850",
     "status": "completed"
    },
    "tags": []
   },
   "outputs": [
    {
     "data": {
      "text/plain": [
       "'Cohort name: copd_only'"
      ]
     },
     "metadata": {},
     "output_type": "display_data"
    }
   ],
   "source": [
    "assert COHORT_NAME is not None and len(COHORT_NAME) > 0, \"A cohort name must be given\"\n",
    "\n",
    "COHORT_NAME = COHORT_NAME.lower()\n",
    "display(f\"Cohort name: {COHORT_NAME}\")"
   ]
  },
  {
   "cell_type": "code",
   "execution_count": 6,
   "id": "f53ba19b-0f93-4fa2-a047-63b375939d1a",
   "metadata": {
    "execution": {
     "iopub.execute_input": "2022-12-15T17:56:21.751018Z",
     "iopub.status.busy": "2022-12-15T17:56:21.750809Z",
     "iopub.status.idle": "2022-12-15T17:56:21.766185Z",
     "shell.execute_reply": "2022-12-15T17:56:21.765767Z"
    },
    "papermill": {
     "duration": 0.021362,
     "end_time": "2022-12-15T17:56:21.767126",
     "exception": false,
     "start_time": "2022-12-15T17:56:21.745764",
     "status": "completed"
    },
    "tags": []
   },
   "outputs": [
    {
     "data": {
      "text/plain": [
       "'Reference panel: GTEX_V8'"
      ]
     },
     "metadata": {},
     "output_type": "display_data"
    }
   ],
   "source": [
    "assert (\n",
    "    REFERENCE_PANEL is not None and len(REFERENCE_PANEL) > 0\n",
    "), \"A reference panel must be given\"\n",
    "\n",
    "display(f\"Reference panel: {REFERENCE_PANEL}\")"
   ]
  },
  {
   "cell_type": "code",
   "execution_count": 7,
   "id": "e024d130-c139-429a-9c6e-ccf149e297b0",
   "metadata": {
    "execution": {
     "iopub.execute_input": "2022-12-15T17:56:21.778182Z",
     "iopub.status.busy": "2022-12-15T17:56:21.777973Z",
     "iopub.status.idle": "2022-12-15T17:56:21.793423Z",
     "shell.execute_reply": "2022-12-15T17:56:21.793000Z"
    },
    "papermill": {
     "duration": 0.022397,
     "end_time": "2022-12-15T17:56:21.794332",
     "exception": false,
     "start_time": "2022-12-15T17:56:21.771935",
     "status": "completed"
    },
    "tags": []
   },
   "outputs": [
    {
     "data": {
      "text/plain": [
       "'eQTL model: MASHR) / mashr_'"
      ]
     },
     "metadata": {},
     "output_type": "display_data"
    }
   ],
   "source": [
    "assert (\n",
    "    EQTL_MODEL is not None and len(EQTL_MODEL) > 0\n",
    "), \"A prediction/eQTL model must be given\"\n",
    "\n",
    "EQTL_MODEL_FILES_PREFIX = conf.PHENOMEXCAN[\"PREDICTION_MODELS\"][f\"{EQTL_MODEL}_PREFIX\"]\n",
    "display(f\"eQTL model: {EQTL_MODEL}) / {EQTL_MODEL_FILES_PREFIX}\")"
   ]
  },
  {
   "cell_type": "code",
   "execution_count": 8,
   "id": "552a7f63-a18c-4d3e-bb6a-94f99b431291",
   "metadata": {
    "execution": {
     "iopub.execute_input": "2022-12-15T17:56:21.804350Z",
     "iopub.status.busy": "2022-12-15T17:56:21.804205Z",
     "iopub.status.idle": "2022-12-15T17:56:21.819665Z",
     "shell.execute_reply": "2022-12-15T17:56:21.819236Z"
    },
    "papermill": {
     "duration": 0.021481,
     "end_time": "2022-12-15T17:56:21.820619",
     "exception": false,
     "start_time": "2022-12-15T17:56:21.799138",
     "status": "completed"
    },
    "tags": []
   },
   "outputs": [
    {
     "data": {
      "text/plain": [
       "'S-MultiXcan condition number: 30'"
      ]
     },
     "metadata": {},
     "output_type": "display_data"
    }
   ],
   "source": [
    "assert (\n",
    "    SMULTIXCAN_CONDITION_NUMBER is not None and SMULTIXCAN_CONDITION_NUMBER > 0\n",
    "), \"The S-MultiXcan condition number (positive integer) must be given\"\n",
    "\n",
    "display(f\"S-MultiXcan condition number: {SMULTIXCAN_CONDITION_NUMBER}\")"
   ]
  },
  {
   "cell_type": "code",
   "execution_count": 9,
   "id": "f34a336f-548e-4afe-8955-90eaea4f42c6",
   "metadata": {
    "execution": {
     "iopub.execute_input": "2022-12-15T17:56:21.832401Z",
     "iopub.status.busy": "2022-12-15T17:56:21.832010Z",
     "iopub.status.idle": "2022-12-15T17:56:21.856361Z",
     "shell.execute_reply": "2022-12-15T17:56:21.855871Z"
    },
    "papermill": {
     "duration": 0.031075,
     "end_time": "2022-12-15T17:56:21.857378",
     "exception": false,
     "start_time": "2022-12-15T17:56:21.826303",
     "status": "completed"
    },
    "tags": []
   },
   "outputs": [
    {
     "data": {
      "text/plain": [
       "'Working on chromosome 11'"
      ]
     },
     "metadata": {},
     "output_type": "display_data"
    }
   ],
   "source": [
    "assert CHROMOSOME is not None and (\n",
    "    1 <= CHROMOSOME <= 22\n",
    "), \"You have to select one chromosome (format: number between 1 and 22)\"\n",
    "\n",
    "display(f\"Working on chromosome {CHROMOSOME}\")"
   ]
  },
  {
   "cell_type": "code",
   "execution_count": 10,
   "id": "ab8e96e8-06b5-4363-9dcd-dc4d78cc27f7",
   "metadata": {
    "execution": {
     "iopub.execute_input": "2022-12-15T17:56:21.868513Z",
     "iopub.status.busy": "2022-12-15T17:56:21.868244Z",
     "iopub.status.idle": "2022-12-15T17:56:21.883386Z",
     "shell.execute_reply": "2022-12-15T17:56:21.882960Z"
    },
    "papermill": {
     "duration": 0.021458,
     "end_time": "2022-12-15T17:56:21.884353",
     "exception": false,
     "start_time": "2022-12-15T17:56:21.862895",
     "status": "completed"
    },
    "tags": []
   },
   "outputs": [
    {
     "data": {
      "text/plain": [
       "'Compute correlation within distance True'"
      ]
     },
     "metadata": {},
     "output_type": "display_data"
    }
   ],
   "source": [
    "display(f\"Compute correlation within distance {COMPUTE_CORRELATIONS_WITHIN_DISTANCE}\")"
   ]
  },
  {
   "cell_type": "code",
   "execution_count": 11,
   "id": "b393b698-77e3-4ba2-8ac1-e14d51aa988f",
   "metadata": {
    "execution": {
     "iopub.execute_input": "2022-12-15T17:56:21.896036Z",
     "iopub.status.busy": "2022-12-15T17:56:21.895561Z",
     "iopub.status.idle": "2022-12-15T17:56:21.910601Z",
     "shell.execute_reply": "2022-12-15T17:56:21.910229Z"
    },
    "papermill": {
     "duration": 0.022659,
     "end_time": "2022-12-15T17:56:21.912200",
     "exception": false,
     "start_time": "2022-12-15T17:56:21.889541",
     "status": "completed"
    },
    "tags": []
   },
   "outputs": [
    {
     "data": {
      "text/plain": [
       "'Using output dir base: /opt/data/projects/asthma-copd/results/gls_phenoplier/gene_corrs/copd_only'"
      ]
     },
     "metadata": {},
     "output_type": "display_data"
    }
   ],
   "source": [
    "assert (\n",
    "    OUTPUT_DIR_BASE is not None and len(OUTPUT_DIR_BASE) > 0\n",
    "), \"Output directory path must be given\"\n",
    "\n",
    "OUTPUT_DIR_BASE = (Path(OUTPUT_DIR_BASE) / \"gene_corrs\" / COHORT_NAME).resolve()\n",
    "\n",
    "OUTPUT_DIR_BASE.mkdir(parents=True, exist_ok=True)\n",
    "\n",
    "display(f\"Using output dir base: {OUTPUT_DIR_BASE}\")"
   ]
  },
  {
   "cell_type": "markdown",
   "id": "d2ba085e",
   "metadata": {
    "papermill": {
     "duration": 0.010705,
     "end_time": "2022-12-15T17:56:21.934368",
     "exception": false,
     "start_time": "2022-12-15T17:56:21.923663",
     "status": "completed"
    },
    "tags": []
   },
   "source": [
    "# Load data"
   ]
  },
  {
   "cell_type": "markdown",
   "id": "7dcb8db7",
   "metadata": {
    "papermill": {
     "duration": 0.00974,
     "end_time": "2022-12-15T17:56:21.953930",
     "exception": false,
     "start_time": "2022-12-15T17:56:21.944190",
     "status": "completed"
    },
    "tags": []
   },
   "source": [
    "## GWAS variants"
   ]
  },
  {
   "cell_type": "code",
   "execution_count": 12,
   "id": "29434c4e-8cd3-4b9b-82e4-b5a251d9dd19",
   "metadata": {
    "execution": {
     "iopub.execute_input": "2022-12-15T17:56:21.970603Z",
     "iopub.status.busy": "2022-12-15T17:56:21.970124Z",
     "iopub.status.idle": "2022-12-15T17:56:24.046090Z",
     "shell.execute_reply": "2022-12-15T17:56:24.045636Z"
    },
    "papermill": {
     "duration": 2.084303,
     "end_time": "2022-12-15T17:56:24.047553",
     "exception": false,
     "start_time": "2022-12-15T17:56:21.963250",
     "status": "completed"
    },
    "tags": []
   },
   "outputs": [],
   "source": [
    "with open(OUTPUT_DIR_BASE / \"gwas_variant_ids.pkl\", \"rb\") as handle:\n",
    "    gwas_variants_ids_set = pickle.load(handle)"
   ]
  },
  {
   "cell_type": "code",
   "execution_count": 13,
   "id": "b9d9dec2-4a76-4bf9-bde2-e24c95acb8a0",
   "metadata": {
    "execution": {
     "iopub.execute_input": "2022-12-15T17:56:24.064925Z",
     "iopub.status.busy": "2022-12-15T17:56:24.064698Z",
     "iopub.status.idle": "2022-12-15T17:56:24.083393Z",
     "shell.execute_reply": "2022-12-15T17:56:24.082914Z"
    },
    "papermill": {
     "duration": 0.02883,
     "end_time": "2022-12-15T17:56:24.084605",
     "exception": false,
     "start_time": "2022-12-15T17:56:24.055775",
     "status": "completed"
    },
    "tags": []
   },
   "outputs": [
    {
     "data": {
      "text/plain": [
       "8586183"
      ]
     },
     "execution_count": 13,
     "metadata": {},
     "output_type": "execute_result"
    }
   ],
   "source": [
    "len(gwas_variants_ids_set)"
   ]
  },
  {
   "cell_type": "code",
   "execution_count": 14,
   "id": "4235b06a-6034-4ee4-a0a3-2ae35d122418",
   "metadata": {
    "execution": {
     "iopub.execute_input": "2022-12-15T17:56:24.102663Z",
     "iopub.status.busy": "2022-12-15T17:56:24.102451Z",
     "iopub.status.idle": "2022-12-15T17:56:24.535326Z",
     "shell.execute_reply": "2022-12-15T17:56:24.534931Z"
    },
    "papermill": {
     "duration": 0.44365,
     "end_time": "2022-12-15T17:56:24.536617",
     "exception": false,
     "start_time": "2022-12-15T17:56:24.092967",
     "status": "completed"
    },
    "tags": []
   },
   "outputs": [
    {
     "data": {
      "text/plain": [
       "['chr4_122080245_C_A_b38',\n",
       " 'chr3_88434796_A_G_b38',\n",
       " 'chr9_22990409_A_G_b38',\n",
       " 'chr15_62666992_G_T_b38',\n",
       " 'chr2_173397134_G_C_b38']"
      ]
     },
     "execution_count": 14,
     "metadata": {},
     "output_type": "execute_result"
    }
   ],
   "source": [
    "list(gwas_variants_ids_set)[:5]"
   ]
  },
  {
   "cell_type": "markdown",
   "id": "07866999-2305-41f9-a144-e69c9122c212",
   "metadata": {
    "papermill": {
     "duration": 0.009736,
     "end_time": "2022-12-15T17:56:24.555786",
     "exception": false,
     "start_time": "2022-12-15T17:56:24.546050",
     "status": "completed"
    },
    "tags": []
   },
   "source": [
    "## S-PrediXcan tissue models"
   ]
  },
  {
   "cell_type": "code",
   "execution_count": 15,
   "id": "780611d9-77c8-405f-90a4-f271f7b09397",
   "metadata": {
    "execution": {
     "iopub.execute_input": "2022-12-15T17:56:24.576042Z",
     "iopub.status.busy": "2022-12-15T17:56:24.575363Z",
     "iopub.status.idle": "2022-12-15T17:56:25.852175Z",
     "shell.execute_reply": "2022-12-15T17:56:25.851706Z"
    },
    "papermill": {
     "duration": 1.288804,
     "end_time": "2022-12-15T17:56:25.853866",
     "exception": false,
     "start_time": "2022-12-15T17:56:24.565062",
     "status": "completed"
    },
    "tags": []
   },
   "outputs": [],
   "source": [
    "spredixcan_genes_models = pd.read_pickle(OUTPUT_DIR_BASE / \"gene_tissues.pkl\")"
   ]
  },
  {
   "cell_type": "code",
   "execution_count": 16,
   "id": "726dd1f6-9557-4225-91fa-b3b879ea96e1",
   "metadata": {
    "execution": {
     "iopub.execute_input": "2022-12-15T17:56:25.873410Z",
     "iopub.status.busy": "2022-12-15T17:56:25.873006Z",
     "iopub.status.idle": "2022-12-15T17:56:25.886998Z",
     "shell.execute_reply": "2022-12-15T17:56:25.886622Z"
    },
    "papermill": {
     "duration": 0.024808,
     "end_time": "2022-12-15T17:56:25.888249",
     "exception": false,
     "start_time": "2022-12-15T17:56:25.863441",
     "status": "completed"
    },
    "tags": []
   },
   "outputs": [
    {
     "data": {
      "text/plain": [
       "(6443, 5)"
      ]
     },
     "execution_count": 16,
     "metadata": {},
     "output_type": "execute_result"
    }
   ],
   "source": [
    "spredixcan_genes_models.shape"
   ]
  },
  {
   "cell_type": "code",
   "execution_count": 17,
   "id": "944a1b48-222c-4eb0-b252-b9de2cbca215",
   "metadata": {
    "execution": {
     "iopub.execute_input": "2022-12-15T17:56:25.908529Z",
     "iopub.status.busy": "2022-12-15T17:56:25.908310Z",
     "iopub.status.idle": "2022-12-15T17:56:25.926628Z",
     "shell.execute_reply": "2022-12-15T17:56:25.926204Z"
    },
    "papermill": {
     "duration": 0.030451,
     "end_time": "2022-12-15T17:56:25.927865",
     "exception": false,
     "start_time": "2022-12-15T17:56:25.897414",
     "status": "completed"
    },
    "tags": []
   },
   "outputs": [
    {
     "data": {
      "text/html": [
       "<div>\n",
       "<style scoped>\n",
       "    .dataframe tbody tr th:only-of-type {\n",
       "        vertical-align: middle;\n",
       "    }\n",
       "\n",
       "    .dataframe tbody tr th {\n",
       "        vertical-align: top;\n",
       "    }\n",
       "\n",
       "    .dataframe thead th {\n",
       "        text-align: right;\n",
       "    }\n",
       "</style>\n",
       "<table border=\"1\" class=\"dataframe\">\n",
       "  <thead>\n",
       "    <tr style=\"text-align: right;\">\n",
       "      <th></th>\n",
       "      <th>gene_name</th>\n",
       "      <th>tissue</th>\n",
       "      <th>n_tissues</th>\n",
       "      <th>n_snps_used_sum</th>\n",
       "      <th>n_snps_in_model_sum</th>\n",
       "    </tr>\n",
       "    <tr>\n",
       "      <th>gene_id</th>\n",
       "      <th></th>\n",
       "      <th></th>\n",
       "      <th></th>\n",
       "      <th></th>\n",
       "      <th></th>\n",
       "    </tr>\n",
       "  </thead>\n",
       "  <tbody>\n",
       "    <tr>\n",
       "      <th>ENSG00000000419</th>\n",
       "      <td>DPM1</td>\n",
       "      <td>(Brain_Hypothalamus, Brain_Substantia_nigra)</td>\n",
       "      <td>2</td>\n",
       "      <td>2</td>\n",
       "      <td>2</td>\n",
       "    </tr>\n",
       "    <tr>\n",
       "      <th>ENSG00000000938</th>\n",
       "      <td>FGR</td>\n",
       "      <td>(Pancreas, Colon_Sigmoid, Heart_Left_Ventricle...</td>\n",
       "      <td>36</td>\n",
       "      <td>40</td>\n",
       "      <td>40</td>\n",
       "    </tr>\n",
       "    <tr>\n",
       "      <th>ENSG00000000971</th>\n",
       "      <td>CFH</td>\n",
       "      <td>(Uterus, Small_Intestine_Terminal_Ileum, Colon...</td>\n",
       "      <td>34</td>\n",
       "      <td>44</td>\n",
       "      <td>44</td>\n",
       "    </tr>\n",
       "    <tr>\n",
       "      <th>ENSG00000001084</th>\n",
       "      <td>GCLC</td>\n",
       "      <td>(Pancreas, Small_Intestine_Terminal_Ileum, Hea...</td>\n",
       "      <td>32</td>\n",
       "      <td>46</td>\n",
       "      <td>46</td>\n",
       "    </tr>\n",
       "    <tr>\n",
       "      <th>ENSG00000001167</th>\n",
       "      <td>NFYA</td>\n",
       "      <td>(Minor_Salivary_Gland, Small_Intestine_Termina...</td>\n",
       "      <td>40</td>\n",
       "      <td>47</td>\n",
       "      <td>48</td>\n",
       "    </tr>\n",
       "  </tbody>\n",
       "</table>\n",
       "</div>"
      ],
      "text/plain": [
       "                gene_name                                             tissue  \\\n",
       "gene_id                                                                        \n",
       "ENSG00000000419      DPM1       (Brain_Hypothalamus, Brain_Substantia_nigra)   \n",
       "ENSG00000000938       FGR  (Pancreas, Colon_Sigmoid, Heart_Left_Ventricle...   \n",
       "ENSG00000000971       CFH  (Uterus, Small_Intestine_Terminal_Ileum, Colon...   \n",
       "ENSG00000001084      GCLC  (Pancreas, Small_Intestine_Terminal_Ileum, Hea...   \n",
       "ENSG00000001167      NFYA  (Minor_Salivary_Gland, Small_Intestine_Termina...   \n",
       "\n",
       "                 n_tissues  n_snps_used_sum  n_snps_in_model_sum  \n",
       "gene_id                                                           \n",
       "ENSG00000000419          2                2                    2  \n",
       "ENSG00000000938         36               40                   40  \n",
       "ENSG00000000971         34               44                   44  \n",
       "ENSG00000001084         32               46                   46  \n",
       "ENSG00000001167         40               47                   48  "
      ]
     },
     "execution_count": 17,
     "metadata": {},
     "output_type": "execute_result"
    }
   ],
   "source": [
    "spredixcan_genes_models.head()"
   ]
  },
  {
   "cell_type": "code",
   "execution_count": 18,
   "id": "d1c11bb1-be0b-4f40-b360-633d6827109f",
   "metadata": {
    "execution": {
     "iopub.execute_input": "2022-12-15T17:56:25.951180Z",
     "iopub.status.busy": "2022-12-15T17:56:25.950827Z",
     "iopub.status.idle": "2022-12-15T17:56:25.972268Z",
     "shell.execute_reply": "2022-12-15T17:56:25.971598Z"
    },
    "papermill": {
     "duration": 0.035785,
     "end_time": "2022-12-15T17:56:25.973746",
     "exception": false,
     "start_time": "2022-12-15T17:56:25.937961",
     "status": "completed"
    },
    "tags": []
   },
   "outputs": [],
   "source": [
    "assert spredixcan_genes_models.index.is_unique"
   ]
  },
  {
   "cell_type": "markdown",
   "id": "a5b5092c-a13e-47c4-a92a-480fcc08f3ae",
   "metadata": {
    "papermill": {
     "duration": 0.010273,
     "end_time": "2022-12-15T17:56:25.994587",
     "exception": false,
     "start_time": "2022-12-15T17:56:25.984314",
     "status": "completed"
    },
    "tags": []
   },
   "source": [
    "## Gene info"
   ]
  },
  {
   "cell_type": "code",
   "execution_count": 19,
   "id": "7d6bb224-88e9-4358-ac10-43a41d92cdad",
   "metadata": {
    "execution": {
     "iopub.execute_input": "2022-12-15T17:56:26.019382Z",
     "iopub.status.busy": "2022-12-15T17:56:26.018946Z",
     "iopub.status.idle": "2022-12-15T17:56:26.044621Z",
     "shell.execute_reply": "2022-12-15T17:56:26.044028Z"
    },
    "papermill": {
     "duration": 0.038556,
     "end_time": "2022-12-15T17:56:26.046007",
     "exception": false,
     "start_time": "2022-12-15T17:56:26.007451",
     "status": "completed"
    },
    "tags": []
   },
   "outputs": [],
   "source": [
    "genes_info = pd.read_pickle(OUTPUT_DIR_BASE / \"genes_info.pkl\")"
   ]
  },
  {
   "cell_type": "code",
   "execution_count": 20,
   "id": "9e32abfa-546d-483e-8c18-d526e9e05903",
   "metadata": {
    "execution": {
     "iopub.execute_input": "2022-12-15T17:56:26.069110Z",
     "iopub.status.busy": "2022-12-15T17:56:26.068646Z",
     "iopub.status.idle": "2022-12-15T17:56:26.092977Z",
     "shell.execute_reply": "2022-12-15T17:56:26.092289Z"
    },
    "papermill": {
     "duration": 0.037686,
     "end_time": "2022-12-15T17:56:26.094291",
     "exception": false,
     "start_time": "2022-12-15T17:56:26.056605",
     "status": "completed"
    },
    "tags": []
   },
   "outputs": [
    {
     "data": {
      "text/plain": [
       "(6443, 7)"
      ]
     },
     "execution_count": 20,
     "metadata": {},
     "output_type": "execute_result"
    }
   ],
   "source": [
    "genes_info.shape"
   ]
  },
  {
   "cell_type": "code",
   "execution_count": 21,
   "id": "d16c3e92-85ec-468a-9a56-e25a9774a1cb",
   "metadata": {
    "execution": {
     "iopub.execute_input": "2022-12-15T17:56:26.116171Z",
     "iopub.status.busy": "2022-12-15T17:56:26.115825Z",
     "iopub.status.idle": "2022-12-15T17:56:26.146044Z",
     "shell.execute_reply": "2022-12-15T17:56:26.145340Z"
    },
    "papermill": {
     "duration": 0.042068,
     "end_time": "2022-12-15T17:56:26.147008",
     "exception": false,
     "start_time": "2022-12-15T17:56:26.104940",
     "status": "completed"
    },
    "tags": []
   },
   "outputs": [
    {
     "data": {
      "text/html": [
       "<div>\n",
       "<style scoped>\n",
       "    .dataframe tbody tr th:only-of-type {\n",
       "        vertical-align: middle;\n",
       "    }\n",
       "\n",
       "    .dataframe tbody tr th {\n",
       "        vertical-align: top;\n",
       "    }\n",
       "\n",
       "    .dataframe thead th {\n",
       "        text-align: right;\n",
       "    }\n",
       "</style>\n",
       "<table border=\"1\" class=\"dataframe\">\n",
       "  <thead>\n",
       "    <tr style=\"text-align: right;\">\n",
       "      <th></th>\n",
       "      <th>name</th>\n",
       "      <th>id</th>\n",
       "      <th>chr</th>\n",
       "      <th>band</th>\n",
       "      <th>start_position</th>\n",
       "      <th>end_position</th>\n",
       "      <th>gene_length</th>\n",
       "    </tr>\n",
       "  </thead>\n",
       "  <tbody>\n",
       "    <tr>\n",
       "      <th>0</th>\n",
       "      <td>MED19</td>\n",
       "      <td>ENSG00000156603</td>\n",
       "      <td>11</td>\n",
       "      <td>11q12.1</td>\n",
       "      <td>57703714</td>\n",
       "      <td>57712323</td>\n",
       "      <td>8609</td>\n",
       "    </tr>\n",
       "    <tr>\n",
       "      <th>1</th>\n",
       "      <td>GFI1</td>\n",
       "      <td>ENSG00000162676</td>\n",
       "      <td>1</td>\n",
       "      <td>1p22.1</td>\n",
       "      <td>92473043</td>\n",
       "      <td>92486925</td>\n",
       "      <td>13882</td>\n",
       "    </tr>\n",
       "    <tr>\n",
       "      <th>2</th>\n",
       "      <td>PAIP1</td>\n",
       "      <td>ENSG00000172239</td>\n",
       "      <td>5</td>\n",
       "      <td>5p12</td>\n",
       "      <td>43526267</td>\n",
       "      <td>43557758</td>\n",
       "      <td>31491</td>\n",
       "    </tr>\n",
       "    <tr>\n",
       "      <th>3</th>\n",
       "      <td>MRPS35</td>\n",
       "      <td>ENSG00000061794</td>\n",
       "      <td>12</td>\n",
       "      <td>12p11.22</td>\n",
       "      <td>27710822</td>\n",
       "      <td>27756295</td>\n",
       "      <td>45473</td>\n",
       "    </tr>\n",
       "    <tr>\n",
       "      <th>4</th>\n",
       "      <td>VAV3</td>\n",
       "      <td>ENSG00000134215</td>\n",
       "      <td>1</td>\n",
       "      <td>1p13.3</td>\n",
       "      <td>107571161</td>\n",
       "      <td>107965180</td>\n",
       "      <td>394019</td>\n",
       "    </tr>\n",
       "  </tbody>\n",
       "</table>\n",
       "</div>"
      ],
      "text/plain": [
       "     name               id  chr      band  start_position  end_position  \\\n",
       "0   MED19  ENSG00000156603   11   11q12.1        57703714      57712323   \n",
       "1    GFI1  ENSG00000162676    1    1p22.1        92473043      92486925   \n",
       "2   PAIP1  ENSG00000172239    5      5p12        43526267      43557758   \n",
       "3  MRPS35  ENSG00000061794   12  12p11.22        27710822      27756295   \n",
       "4    VAV3  ENSG00000134215    1    1p13.3       107571161     107965180   \n",
       "\n",
       "   gene_length  \n",
       "0         8609  \n",
       "1        13882  \n",
       "2        31491  \n",
       "3        45473  \n",
       "4       394019  "
      ]
     },
     "execution_count": 21,
     "metadata": {},
     "output_type": "execute_result"
    }
   ],
   "source": [
    "genes_info.head()"
   ]
  },
  {
   "cell_type": "markdown",
   "id": "d3843e06",
   "metadata": {
    "papermill": {
     "duration": 0.005776,
     "end_time": "2022-12-15T17:56:26.158338",
     "exception": false,
     "start_time": "2022-12-15T17:56:26.152562",
     "status": "completed"
    },
    "tags": []
   },
   "source": [
    "# Compute correlations"
   ]
  },
  {
   "cell_type": "code",
   "execution_count": 22,
   "id": "cb859c15-d1f3-4006-a74c-2b83c0db9611",
   "metadata": {
    "execution": {
     "iopub.execute_input": "2022-12-15T17:56:26.173230Z",
     "iopub.status.busy": "2022-12-15T17:56:26.172984Z",
     "iopub.status.idle": "2022-12-15T17:56:26.194870Z",
     "shell.execute_reply": "2022-12-15T17:56:26.194318Z"
    },
    "papermill": {
     "duration": 0.032028,
     "end_time": "2022-12-15T17:56:26.195829",
     "exception": false,
     "start_time": "2022-12-15T17:56:26.163801",
     "status": "completed"
    },
    "tags": []
   },
   "outputs": [
    {
     "data": {
      "text/plain": [
       "PosixPath('/opt/data/projects/asthma-copd/results/gls_phenoplier/gene_corrs/copd_only/by_chr/gene_corrs-chr11.pkl')"
      ]
     },
     "metadata": {},
     "output_type": "display_data"
    }
   ],
   "source": [
    "output_dir = OUTPUT_DIR_BASE / \"by_chr\"\n",
    "output_dir.mkdir(exist_ok=True, parents=True)\n",
    "output_file = output_dir / f\"gene_corrs-chr{CHROMOSOME}.pkl\"\n",
    "display(output_file)"
   ]
  },
  {
   "cell_type": "code",
   "execution_count": 23,
   "id": "aa674fe4-6794-4eed-98fa-32b39d1d4ace",
   "metadata": {
    "execution": {
     "iopub.execute_input": "2022-12-15T17:56:26.208410Z",
     "iopub.status.busy": "2022-12-15T17:56:26.208070Z",
     "iopub.status.idle": "2022-12-15T17:56:26.230238Z",
     "shell.execute_reply": "2022-12-15T17:56:26.229517Z"
    },
    "papermill": {
     "duration": 0.03005,
     "end_time": "2022-12-15T17:56:26.231504",
     "exception": false,
     "start_time": "2022-12-15T17:56:26.201454",
     "status": "completed"
    },
    "tags": []
   },
   "outputs": [],
   "source": [
    "warnings.filterwarnings(\"error\")"
   ]
  },
  {
   "cell_type": "code",
   "execution_count": 24,
   "id": "44d5450b-3baf-43f1-9e2e-4b06f1a785f8",
   "metadata": {
    "execution": {
     "iopub.execute_input": "2022-12-15T17:56:26.243997Z",
     "iopub.status.busy": "2022-12-15T17:56:26.243631Z",
     "iopub.status.idle": "2022-12-15T17:56:26.267908Z",
     "shell.execute_reply": "2022-12-15T17:56:26.267186Z"
    },
    "papermill": {
     "duration": 0.032314,
     "end_time": "2022-12-15T17:56:26.269609",
     "exception": false,
     "start_time": "2022-12-15T17:56:26.237295",
     "status": "completed"
    },
    "tags": []
   },
   "outputs": [],
   "source": [
    "# standard checks\n",
    "all_chrs = genes_info[\"chr\"].dropna().unique()\n",
    "assert all_chrs.shape[0] == 22\n",
    "\n",
    "# select chromosome given by the user\n",
    "assert CHROMOSOME in all_chrs"
   ]
  },
  {
   "cell_type": "code",
   "execution_count": 25,
   "id": "2d7c043c-92a7-4d35-991b-fa69ac1e0268",
   "metadata": {
    "execution": {
     "iopub.execute_input": "2022-12-15T17:56:26.293340Z",
     "iopub.status.busy": "2022-12-15T17:56:26.292956Z",
     "iopub.status.idle": "2022-12-15T17:56:26.317350Z",
     "shell.execute_reply": "2022-12-15T17:56:26.316757Z"
    },
    "papermill": {
     "duration": 0.03777,
     "end_time": "2022-12-15T17:56:26.318867",
     "exception": false,
     "start_time": "2022-12-15T17:56:26.281097",
     "status": "completed"
    },
    "tags": []
   },
   "outputs": [
    {
     "name": "stdout",
     "output_type": "stream",
     "text": [
      "Number of genes in chromosome: 387\n"
     ]
    }
   ],
   "source": [
    "# run only on the chromosome specified\n",
    "all_chrs = [CHROMOSOME]\n",
    "genes_chr = genes_info[genes_info[\"chr\"] == CHROMOSOME]\n",
    "\n",
    "# For testing purposes\n",
    "# genes_chr = genes_chr.sample(n=20)\n",
    "\n",
    "print(f\"Number of genes in chromosome: {genes_chr.shape[0]}\", flush=True)"
   ]
  },
  {
   "cell_type": "code",
   "execution_count": 26,
   "id": "916015d8-2979-46d3-a9b9-1cf5a0932c6a",
   "metadata": {
    "execution": {
     "iopub.execute_input": "2022-12-15T17:56:26.342674Z",
     "iopub.status.busy": "2022-12-15T17:56:26.342453Z",
     "iopub.status.idle": "2022-12-15T17:56:26.362362Z",
     "shell.execute_reply": "2022-12-15T17:56:26.361795Z"
    },
    "papermill": {
     "duration": 0.034021,
     "end_time": "2022-12-15T17:56:26.364420",
     "exception": false,
     "start_time": "2022-12-15T17:56:26.330399",
     "status": "completed"
    },
    "tags": []
   },
   "outputs": [],
   "source": [
    "# sort genes by starting position to make visualizations better later\n",
    "genes_chr = genes_chr.sort_values(\"start_position\")"
   ]
  },
  {
   "cell_type": "code",
   "execution_count": 27,
   "id": "a38aa74a-8ad3-47f6-8ef9-56be0e011774",
   "metadata": {
    "execution": {
     "iopub.execute_input": "2022-12-15T17:56:26.388415Z",
     "iopub.status.busy": "2022-12-15T17:56:26.388137Z",
     "iopub.status.idle": "2022-12-15T17:56:26.409046Z",
     "shell.execute_reply": "2022-12-15T17:56:26.408551Z"
    },
    "papermill": {
     "duration": 0.033689,
     "end_time": "2022-12-15T17:56:26.410781",
     "exception": false,
     "start_time": "2022-12-15T17:56:26.377092",
     "status": "completed"
    },
    "tags": []
   },
   "outputs": [],
   "source": [
    "gene_chr_objs = [Gene(ensembl_id=gene_id) for gene_id in genes_chr[\"id\"]]"
   ]
  },
  {
   "cell_type": "code",
   "execution_count": 28,
   "id": "570f974f-13c3-42b6-ad3a-ce99ca885c1a",
   "metadata": {
    "execution": {
     "iopub.execute_input": "2022-12-15T17:56:26.435677Z",
     "iopub.status.busy": "2022-12-15T17:56:26.435467Z",
     "iopub.status.idle": "2022-12-15T17:56:26.456177Z",
     "shell.execute_reply": "2022-12-15T17:56:26.455761Z"
    },
    "papermill": {
     "duration": 0.035041,
     "end_time": "2022-12-15T17:56:26.457529",
     "exception": false,
     "start_time": "2022-12-15T17:56:26.422488",
     "status": "completed"
    },
    "tags": []
   },
   "outputs": [
    {
     "name": "stdout",
     "output_type": "stream",
     "text": [
      "Number of gene combinations: 75078\n"
     ]
    }
   ],
   "source": [
    "n = len(gene_chr_objs)\n",
    "# diagonal elements + upper triangular matrix\n",
    "n_comb = n + int(n * (n - 1) / 2.0)\n",
    "print(f\"Number of gene combinations: {n_comb}\", flush=True)"
   ]
  },
  {
   "cell_type": "code",
   "execution_count": 29,
   "id": "cdbb90a1",
   "metadata": {
    "execution": {
     "iopub.execute_input": "2022-12-15T17:56:26.482120Z",
     "iopub.status.busy": "2022-12-15T17:56:26.481816Z",
     "iopub.status.idle": "2022-12-15T18:06:31.039141Z",
     "shell.execute_reply": "2022-12-15T18:06:31.038579Z"
    },
    "papermill": {
     "duration": 604.571095,
     "end_time": "2022-12-15T18:06:31.040364",
     "exception": false,
     "start_time": "2022-12-15T17:56:26.469269",
     "status": "completed"
    },
    "tags": []
   },
   "outputs": [
    {
     "name": "stderr",
     "output_type": "stream",
     "text": [
      "ENSG00000109956 / ENSG00000109956: 100%|█████████████████████| 75078/75078 [10:04<00:00, 124.20it/s]\n"
     ]
    },
    {
     "data": {
      "text/plain": [
       "PosixPath('/opt/data/projects/asthma-copd/results/gls_phenoplier/gene_corrs/copd_only/by_chr/gene_corrs-chr11.pkl')"
      ]
     },
     "metadata": {},
     "output_type": "display_data"
    }
   ],
   "source": [
    "gene_corrs = []\n",
    "gene_corrs_data = np.full(\n",
    "    (n, n),\n",
    "    np.nan,\n",
    "    dtype=np.float64,\n",
    ")\n",
    "\n",
    "i = 0\n",
    "with tqdm(ncols=100, total=n_comb) as pbar:\n",
    "    for gene1_idx in range(0, len(gene_chr_objs)):\n",
    "        gene1_obj = gene_chr_objs[gene1_idx]\n",
    "        gene1_tissues = spredixcan_genes_models.loc[gene1_obj.ensembl_id, \"tissue\"]\n",
    "\n",
    "        for gene2_idx in range(gene1_idx, len(gene_chr_objs)):\n",
    "            gene2_obj = gene_chr_objs[gene2_idx]\n",
    "            gene2_tissues = spredixcan_genes_models.loc[gene2_obj.ensembl_id, \"tissue\"]\n",
    "\n",
    "            pbar.set_description(f\"{gene1_obj.ensembl_id} / {gene2_obj.ensembl_id}\")\n",
    "\n",
    "            try:\n",
    "                r = gene1_obj.get_ssm_correlation(\n",
    "                    other_gene=gene2_obj,\n",
    "                    tissues=gene1_tissues,\n",
    "                    other_tissues=gene2_tissues,\n",
    "                    snps_subset=gwas_variants_ids_set,\n",
    "                    condition_number=SMULTIXCAN_CONDITION_NUMBER,\n",
    "                    reference_panel=REFERENCE_PANEL,\n",
    "                    model_type=EQTL_MODEL,\n",
    "                    use_within_distance=COMPUTE_CORRELATIONS_WITHIN_DISTANCE,\n",
    "                )\n",
    "\n",
    "                if r is None:\n",
    "                    # if r is None, it's very likely because:\n",
    "                    #  * one of the genes has no prediction models\n",
    "                    #  * all the SNPs predictors for the gene are not present in the reference\n",
    "                    #    panel\n",
    "\n",
    "                    r = 0.0\n",
    "\n",
    "                gene_corrs.append(r)\n",
    "\n",
    "                gene_corrs_data[gene1_idx, gene2_idx] = r\n",
    "                gene_corrs_data[gene2_idx, gene1_idx] = r\n",
    "            except Warning as e:\n",
    "                if not DEBUG_MODE:\n",
    "                    raise e\n",
    "\n",
    "                print(\n",
    "                    f\"RuntimeWarning for genes {gene1_obj.ensembl_id} and {gene2_obj.ensembl_id}\",\n",
    "                    flush=True,\n",
    "                )\n",
    "                print(traceback.format_exc(), flush=True)\n",
    "\n",
    "                gene_corrs.append(np.nan)\n",
    "            except Exception as e:\n",
    "                if not DEBUG_MODE:\n",
    "                    raise e\n",
    "\n",
    "                print(\n",
    "                    f\"Exception for genes {gene1_obj.ensembl_id} and {gene2_obj.ensembl_id}\",\n",
    "                    flush=True,\n",
    "                )\n",
    "                print(traceback.format_exc(), flush=True)\n",
    "\n",
    "                gene_corrs.append(np.nan)\n",
    "\n",
    "            pbar.update(1)\n",
    "\n",
    "# create a pandas series\n",
    "gene_corrs_flat = pd.Series(gene_corrs)\n",
    "\n",
    "# save\n",
    "# FIXME: consider saving only the condenced matrix here. See here for\n",
    "# more details: https://github.com/greenelab/phenoplier/pull/38#discussion_r634600813\n",
    "# gene_corrs_data = squareform(np.array(gene_corrs, dtype=np.float64))\n",
    "# np.fill_diagonal(gene_corrs_data, 1.0)\n",
    "\n",
    "gene_chr_ids = [g.ensembl_id for g in gene_chr_objs]\n",
    "gene_corrs_df = pd.DataFrame(\n",
    "    data=gene_corrs_data,\n",
    "    index=gene_chr_ids,\n",
    "    columns=gene_chr_ids,\n",
    ")\n",
    "\n",
    "output_dir.mkdir(exist_ok=True, parents=True)\n",
    "display(output_file)\n",
    "\n",
    "gene_corrs_df.to_pickle(output_file)"
   ]
  },
  {
   "cell_type": "markdown",
   "id": "faa67b51-5373-470f-aa72-2ded53fa6dfe",
   "metadata": {
    "papermill": {
     "duration": 2.380914,
     "end_time": "2022-12-15T18:06:36.083343",
     "exception": false,
     "start_time": "2022-12-15T18:06:33.702429",
     "status": "completed"
    },
    "tags": []
   },
   "source": [
    "# Testing"
   ]
  },
  {
   "cell_type": "code",
   "execution_count": 30,
   "id": "14f7d046-4b55-4896-a56b-990127bcc388",
   "metadata": {
    "execution": {
     "iopub.execute_input": "2022-12-15T18:06:41.254263Z",
     "iopub.status.busy": "2022-12-15T18:06:41.253953Z",
     "iopub.status.idle": "2022-12-15T18:06:41.269705Z",
     "shell.execute_reply": "2022-12-15T18:06:41.269140Z"
    },
    "papermill": {
     "duration": 2.735202,
     "end_time": "2022-12-15T18:06:41.270648",
     "exception": false,
     "start_time": "2022-12-15T18:06:38.535446",
     "status": "completed"
    },
    "tags": []
   },
   "outputs": [
    {
     "data": {
      "text/plain": [
       "(387, 387)"
      ]
     },
     "execution_count": 30,
     "metadata": {},
     "output_type": "execute_result"
    }
   ],
   "source": [
    "gene_corrs_df.shape"
   ]
  },
  {
   "cell_type": "code",
   "execution_count": 31,
   "id": "c7d15414-3297-4537-a7c6-7588c0baeb75",
   "metadata": {
    "execution": {
     "iopub.execute_input": "2022-12-15T18:06:46.513139Z",
     "iopub.status.busy": "2022-12-15T18:06:46.512775Z",
     "iopub.status.idle": "2022-12-15T18:06:46.551830Z",
     "shell.execute_reply": "2022-12-15T18:06:46.551262Z"
    },
    "papermill": {
     "duration": 2.788995,
     "end_time": "2022-12-15T18:06:46.553521",
     "exception": false,
     "start_time": "2022-12-15T18:06:43.764526",
     "status": "completed"
    },
    "tags": []
   },
   "outputs": [
    {
     "data": {
      "text/html": [
       "<div>\n",
       "<style scoped>\n",
       "    .dataframe tbody tr th:only-of-type {\n",
       "        vertical-align: middle;\n",
       "    }\n",
       "\n",
       "    .dataframe tbody tr th {\n",
       "        vertical-align: top;\n",
       "    }\n",
       "\n",
       "    .dataframe thead th {\n",
       "        text-align: right;\n",
       "    }\n",
       "</style>\n",
       "<table border=\"1\" class=\"dataframe\">\n",
       "  <thead>\n",
       "    <tr style=\"text-align: right;\">\n",
       "      <th></th>\n",
       "      <th>ENSG00000177951</th>\n",
       "      <th>ENSG00000142082</th>\n",
       "      <th>ENSG00000185627</th>\n",
       "      <th>ENSG00000185201</th>\n",
       "      <th>ENSG00000185885</th>\n",
       "      <th>ENSG00000142089</th>\n",
       "      <th>ENSG00000185187</th>\n",
       "      <th>ENSG00000174915</th>\n",
       "      <th>ENSG00000174775</th>\n",
       "      <th>ENSG00000185507</th>\n",
       "      <th>...</th>\n",
       "      <th>ENSG00000150455</th>\n",
       "      <th>ENSG00000110063</th>\n",
       "      <th>ENSG00000110080</th>\n",
       "      <th>ENSG00000149571</th>\n",
       "      <th>ENSG00000134954</th>\n",
       "      <th>ENSG00000134909</th>\n",
       "      <th>ENSG00000043039</th>\n",
       "      <th>ENSG00000166086</th>\n",
       "      <th>ENSG00000151498</th>\n",
       "      <th>ENSG00000109956</th>\n",
       "    </tr>\n",
       "  </thead>\n",
       "  <tbody>\n",
       "    <tr>\n",
       "      <th>ENSG00000177951</th>\n",
       "      <td>1.000000</td>\n",
       "      <td>0.702575</td>\n",
       "      <td>0.395580</td>\n",
       "      <td>0.029660</td>\n",
       "      <td>0.023715</td>\n",
       "      <td>0.026406</td>\n",
       "      <td>0.012966</td>\n",
       "      <td>0.010739</td>\n",
       "      <td>0.004092</td>\n",
       "      <td>0.008218</td>\n",
       "      <td>...</td>\n",
       "      <td>0.0</td>\n",
       "      <td>0.0</td>\n",
       "      <td>0.0</td>\n",
       "      <td>0.0</td>\n",
       "      <td>0.0</td>\n",
       "      <td>0.0</td>\n",
       "      <td>0.0</td>\n",
       "      <td>0.0</td>\n",
       "      <td>0.0</td>\n",
       "      <td>0.0</td>\n",
       "    </tr>\n",
       "    <tr>\n",
       "      <th>ENSG00000142082</th>\n",
       "      <td>0.702575</td>\n",
       "      <td>1.000000</td>\n",
       "      <td>0.497631</td>\n",
       "      <td>0.036771</td>\n",
       "      <td>0.032087</td>\n",
       "      <td>0.031863</td>\n",
       "      <td>0.013927</td>\n",
       "      <td>0.010630</td>\n",
       "      <td>0.002997</td>\n",
       "      <td>0.007496</td>\n",
       "      <td>...</td>\n",
       "      <td>0.0</td>\n",
       "      <td>0.0</td>\n",
       "      <td>0.0</td>\n",
       "      <td>0.0</td>\n",
       "      <td>0.0</td>\n",
       "      <td>0.0</td>\n",
       "      <td>0.0</td>\n",
       "      <td>0.0</td>\n",
       "      <td>0.0</td>\n",
       "      <td>0.0</td>\n",
       "    </tr>\n",
       "    <tr>\n",
       "      <th>ENSG00000185627</th>\n",
       "      <td>0.395580</td>\n",
       "      <td>0.497631</td>\n",
       "      <td>1.000000</td>\n",
       "      <td>0.001295</td>\n",
       "      <td>0.001504</td>\n",
       "      <td>0.006742</td>\n",
       "      <td>0.001350</td>\n",
       "      <td>0.003704</td>\n",
       "      <td>0.000780</td>\n",
       "      <td>0.003586</td>\n",
       "      <td>...</td>\n",
       "      <td>0.0</td>\n",
       "      <td>0.0</td>\n",
       "      <td>0.0</td>\n",
       "      <td>0.0</td>\n",
       "      <td>0.0</td>\n",
       "      <td>0.0</td>\n",
       "      <td>0.0</td>\n",
       "      <td>0.0</td>\n",
       "      <td>0.0</td>\n",
       "      <td>0.0</td>\n",
       "    </tr>\n",
       "    <tr>\n",
       "      <th>ENSG00000185201</th>\n",
       "      <td>0.029660</td>\n",
       "      <td>0.036771</td>\n",
       "      <td>0.001295</td>\n",
       "      <td>1.000000</td>\n",
       "      <td>0.339884</td>\n",
       "      <td>0.356068</td>\n",
       "      <td>0.011843</td>\n",
       "      <td>0.009171</td>\n",
       "      <td>0.006437</td>\n",
       "      <td>0.024387</td>\n",
       "      <td>...</td>\n",
       "      <td>0.0</td>\n",
       "      <td>0.0</td>\n",
       "      <td>0.0</td>\n",
       "      <td>0.0</td>\n",
       "      <td>0.0</td>\n",
       "      <td>0.0</td>\n",
       "      <td>0.0</td>\n",
       "      <td>0.0</td>\n",
       "      <td>0.0</td>\n",
       "      <td>0.0</td>\n",
       "    </tr>\n",
       "    <tr>\n",
       "      <th>ENSG00000185885</th>\n",
       "      <td>0.023715</td>\n",
       "      <td>0.032087</td>\n",
       "      <td>0.001504</td>\n",
       "      <td>0.339884</td>\n",
       "      <td>1.000000</td>\n",
       "      <td>0.421889</td>\n",
       "      <td>0.021271</td>\n",
       "      <td>0.018492</td>\n",
       "      <td>0.008508</td>\n",
       "      <td>0.027573</td>\n",
       "      <td>...</td>\n",
       "      <td>0.0</td>\n",
       "      <td>0.0</td>\n",
       "      <td>0.0</td>\n",
       "      <td>0.0</td>\n",
       "      <td>0.0</td>\n",
       "      <td>0.0</td>\n",
       "      <td>0.0</td>\n",
       "      <td>0.0</td>\n",
       "      <td>0.0</td>\n",
       "      <td>0.0</td>\n",
       "    </tr>\n",
       "  </tbody>\n",
       "</table>\n",
       "<p>5 rows × 387 columns</p>\n",
       "</div>"
      ],
      "text/plain": [
       "                 ENSG00000177951  ENSG00000142082  ENSG00000185627  \\\n",
       "ENSG00000177951         1.000000         0.702575         0.395580   \n",
       "ENSG00000142082         0.702575         1.000000         0.497631   \n",
       "ENSG00000185627         0.395580         0.497631         1.000000   \n",
       "ENSG00000185201         0.029660         0.036771         0.001295   \n",
       "ENSG00000185885         0.023715         0.032087         0.001504   \n",
       "\n",
       "                 ENSG00000185201  ENSG00000185885  ENSG00000142089  \\\n",
       "ENSG00000177951         0.029660         0.023715         0.026406   \n",
       "ENSG00000142082         0.036771         0.032087         0.031863   \n",
       "ENSG00000185627         0.001295         0.001504         0.006742   \n",
       "ENSG00000185201         1.000000         0.339884         0.356068   \n",
       "ENSG00000185885         0.339884         1.000000         0.421889   \n",
       "\n",
       "                 ENSG00000185187  ENSG00000174915  ENSG00000174775  \\\n",
       "ENSG00000177951         0.012966         0.010739         0.004092   \n",
       "ENSG00000142082         0.013927         0.010630         0.002997   \n",
       "ENSG00000185627         0.001350         0.003704         0.000780   \n",
       "ENSG00000185201         0.011843         0.009171         0.006437   \n",
       "ENSG00000185885         0.021271         0.018492         0.008508   \n",
       "\n",
       "                 ENSG00000185507  ...  ENSG00000150455  ENSG00000110063  \\\n",
       "ENSG00000177951         0.008218  ...              0.0              0.0   \n",
       "ENSG00000142082         0.007496  ...              0.0              0.0   \n",
       "ENSG00000185627         0.003586  ...              0.0              0.0   \n",
       "ENSG00000185201         0.024387  ...              0.0              0.0   \n",
       "ENSG00000185885         0.027573  ...              0.0              0.0   \n",
       "\n",
       "                 ENSG00000110080  ENSG00000149571  ENSG00000134954  \\\n",
       "ENSG00000177951              0.0              0.0              0.0   \n",
       "ENSG00000142082              0.0              0.0              0.0   \n",
       "ENSG00000185627              0.0              0.0              0.0   \n",
       "ENSG00000185201              0.0              0.0              0.0   \n",
       "ENSG00000185885              0.0              0.0              0.0   \n",
       "\n",
       "                 ENSG00000134909  ENSG00000043039  ENSG00000166086  \\\n",
       "ENSG00000177951              0.0              0.0              0.0   \n",
       "ENSG00000142082              0.0              0.0              0.0   \n",
       "ENSG00000185627              0.0              0.0              0.0   \n",
       "ENSG00000185201              0.0              0.0              0.0   \n",
       "ENSG00000185885              0.0              0.0              0.0   \n",
       "\n",
       "                 ENSG00000151498  ENSG00000109956  \n",
       "ENSG00000177951              0.0              0.0  \n",
       "ENSG00000142082              0.0              0.0  \n",
       "ENSG00000185627              0.0              0.0  \n",
       "ENSG00000185201              0.0              0.0  \n",
       "ENSG00000185885              0.0              0.0  \n",
       "\n",
       "[5 rows x 387 columns]"
      ]
     },
     "execution_count": 31,
     "metadata": {},
     "output_type": "execute_result"
    }
   ],
   "source": [
    "gene_corrs_df.head()"
   ]
  },
  {
   "cell_type": "markdown",
   "id": "dad6603f-01c6-41fb-a6f6-241051207dd8",
   "metadata": {
    "papermill": {
     "duration": 2.676583,
     "end_time": "2022-12-15T18:06:52.084892",
     "exception": false,
     "start_time": "2022-12-15T18:06:49.408309",
     "status": "completed"
    },
    "tags": []
   },
   "source": [
    "## Standard checks and stats"
   ]
  },
  {
   "cell_type": "code",
   "execution_count": 32,
   "id": "286686af-1b7b-4440-8453-6bdcbd8de19c",
   "metadata": {
    "execution": {
     "iopub.execute_input": "2022-12-15T18:06:57.700710Z",
     "iopub.status.busy": "2022-12-15T18:06:57.700459Z",
     "iopub.status.idle": "2022-12-15T18:06:57.715823Z",
     "shell.execute_reply": "2022-12-15T18:06:57.715343Z"
    },
    "papermill": {
     "duration": 2.612083,
     "end_time": "2022-12-15T18:06:57.716956",
     "exception": false,
     "start_time": "2022-12-15T18:06:55.104873",
     "status": "completed"
    },
    "tags": []
   },
   "outputs": [],
   "source": [
    "assert not gene_corrs_df.isna().any(axis=None)"
   ]
  },
  {
   "cell_type": "code",
   "execution_count": 33,
   "id": "00583efc-7068-4270-ad1e-4a418e91db96",
   "metadata": {
    "execution": {
     "iopub.execute_input": "2022-12-15T18:07:03.270567Z",
     "iopub.status.busy": "2022-12-15T18:07:03.270293Z",
     "iopub.status.idle": "2022-12-15T18:07:03.286859Z",
     "shell.execute_reply": "2022-12-15T18:07:03.286416Z"
    },
    "papermill": {
     "duration": 2.719777,
     "end_time": "2022-12-15T18:07:03.287800",
     "exception": false,
     "start_time": "2022-12-15T18:07:00.568023",
     "status": "completed"
    },
    "tags": []
   },
   "outputs": [
    {
     "data": {
      "text/plain": [
       "0.0"
      ]
     },
     "metadata": {},
     "output_type": "display_data"
    }
   ],
   "source": [
    "_min_val = gene_corrs_df.min().min()\n",
    "display(_min_val)\n",
    "assert _min_val >= -0.05"
   ]
  },
  {
   "cell_type": "code",
   "execution_count": 34,
   "id": "d04fb2cf-1050-475b-b855-f5f7cc04092b",
   "metadata": {
    "execution": {
     "iopub.execute_input": "2022-12-15T18:07:08.587329Z",
     "iopub.status.busy": "2022-12-15T18:07:08.586980Z",
     "iopub.status.idle": "2022-12-15T18:07:08.604838Z",
     "shell.execute_reply": "2022-12-15T18:07:08.604374Z"
    },
    "papermill": {
     "duration": 2.789125,
     "end_time": "2022-12-15T18:07:08.605746",
     "exception": false,
     "start_time": "2022-12-15T18:07:05.816621",
     "status": "completed"
    },
    "tags": []
   },
   "outputs": [
    {
     "data": {
      "text/plain": [
       "1.0000000000000029"
      ]
     },
     "metadata": {},
     "output_type": "display_data"
    }
   ],
   "source": [
    "_max_val = gene_corrs_df.max().max()  # this captures the diagonal\n",
    "display(_max_val)\n",
    "assert _max_val <= 1.05"
   ]
  },
  {
   "cell_type": "code",
   "execution_count": 35,
   "id": "fe283586-c348-40e0-8841-f6d97bfb021c",
   "metadata": {
    "execution": {
     "iopub.execute_input": "2022-12-15T18:07:13.931853Z",
     "iopub.status.busy": "2022-12-15T18:07:13.931450Z",
     "iopub.status.idle": "2022-12-15T18:07:13.952024Z",
     "shell.execute_reply": "2022-12-15T18:07:13.951447Z"
    },
    "papermill": {
     "duration": 2.607911,
     "end_time": "2022-12-15T18:07:13.953128",
     "exception": false,
     "start_time": "2022-12-15T18:07:11.345217",
     "status": "completed"
    },
    "tags": []
   },
   "outputs": [
    {
     "data": {
      "text/plain": [
       "count    75078.000000\n",
       "mean         0.008770\n",
       "std          0.078613\n",
       "min          0.000000\n",
       "25%          0.000000\n",
       "50%          0.000000\n",
       "75%          0.000000\n",
       "max          1.000000\n",
       "dtype: float64"
      ]
     },
     "execution_count": 35,
     "metadata": {},
     "output_type": "execute_result"
    }
   ],
   "source": [
    "gene_corrs_flat.describe()"
   ]
  },
  {
   "cell_type": "code",
   "execution_count": 36,
   "id": "b3815678-0f93-4b35-897b-a9d047a2aa78",
   "metadata": {
    "execution": {
     "iopub.execute_input": "2022-12-15T18:07:19.394029Z",
     "iopub.status.busy": "2022-12-15T18:07:19.393643Z",
     "iopub.status.idle": "2022-12-15T18:07:19.420578Z",
     "shell.execute_reply": "2022-12-15T18:07:19.419819Z"
    },
    "papermill": {
     "duration": 2.649407,
     "end_time": "2022-12-15T18:07:19.421885",
     "exception": false,
     "start_time": "2022-12-15T18:07:16.772478",
     "status": "completed"
    },
    "tags": []
   },
   "outputs": [
    {
     "data": {
      "text/plain": [
       "0.00    0.000000\n",
       "0.05    0.000000\n",
       "0.10    0.000000\n",
       "0.15    0.000000\n",
       "0.20    0.000000\n",
       "0.25    0.000000\n",
       "0.30    0.000000\n",
       "0.35    0.000000\n",
       "0.40    0.000000\n",
       "0.45    0.000000\n",
       "0.50    0.000000\n",
       "0.55    0.000000\n",
       "0.60    0.000000\n",
       "0.65    0.000000\n",
       "0.70    0.000000\n",
       "0.75    0.000000\n",
       "0.80    0.000000\n",
       "0.85    0.000000\n",
       "0.90    0.003647\n",
       "0.95    0.008482\n",
       "dtype: float64"
      ]
     },
     "metadata": {},
     "output_type": "display_data"
    }
   ],
   "source": [
    "gene_corrs_quantiles = gene_corrs_flat.quantile(np.arange(0, 1, 0.05))\n",
    "display(gene_corrs_quantiles)"
   ]
  },
  {
   "cell_type": "markdown",
   "id": "87134509-b145-4a10-8bc9-b7e914c2b0fa",
   "metadata": {
    "papermill": {
     "duration": 2.538864,
     "end_time": "2022-12-15T18:07:24.592302",
     "exception": false,
     "start_time": "2022-12-15T18:07:22.053438",
     "status": "completed"
    },
    "tags": []
   },
   "source": [
    "## Positive definiteness"
   ]
  },
  {
   "cell_type": "code",
   "execution_count": 37,
   "id": "07d9a9a1-a4f7-48aa-b916-6d42a8cc6186",
   "metadata": {
    "execution": {
     "iopub.execute_input": "2022-12-15T18:07:29.715193Z",
     "iopub.status.busy": "2022-12-15T18:07:29.714824Z",
     "iopub.status.idle": "2022-12-15T18:07:29.752636Z",
     "shell.execute_reply": "2022-12-15T18:07:29.752280Z"
    },
    "papermill": {
     "duration": 2.622769,
     "end_time": "2022-12-15T18:07:29.753575",
     "exception": false,
     "start_time": "2022-12-15T18:07:27.130806",
     "status": "completed"
    },
    "tags": []
   },
   "outputs": [
    {
     "data": {
      "text/plain": [
       "0"
      ]
     },
     "metadata": {},
     "output_type": "display_data"
    },
    {
     "data": {
      "text/plain": [
       "array([], dtype=float64)"
      ]
     },
     "metadata": {},
     "output_type": "display_data"
    }
   ],
   "source": [
    "# print negative eigenvalues\n",
    "eigs = np.linalg.eigvals(gene_corrs_df.to_numpy())\n",
    "display(len(eigs[eigs < 0]))\n",
    "display(eigs[eigs < 0])"
   ]
  },
  {
   "cell_type": "code",
   "execution_count": 38,
   "id": "6e218436-c3c5-4028-8c94-a4fa6260efce",
   "metadata": {
    "execution": {
     "iopub.execute_input": "2022-12-15T18:07:35.224066Z",
     "iopub.status.busy": "2022-12-15T18:07:35.223747Z",
     "iopub.status.idle": "2022-12-15T18:07:35.247841Z",
     "shell.execute_reply": "2022-12-15T18:07:35.247452Z"
    },
    "papermill": {
     "duration": 2.864679,
     "end_time": "2022-12-15T18:07:35.248823",
     "exception": false,
     "start_time": "2022-12-15T18:07:32.384144",
     "status": "completed"
    },
    "tags": []
   },
   "outputs": [
    {
     "name": "stdout",
     "output_type": "stream",
     "text": [
      "Works!\n"
     ]
    }
   ],
   "source": [
    "try:\n",
    "    chol_mat = np.linalg.cholesky(gene_corrs_df.to_numpy())\n",
    "    cov_inv = np.linalg.inv(chol_mat)\n",
    "    print(\"Works!\")\n",
    "except Exception as e:\n",
    "    print(f\"Cholesky decomposition failed: {str(e)}\")"
   ]
  },
  {
   "cell_type": "code",
   "execution_count": 39,
   "id": "dd8827fb-faf9-4c7c-9454-015e94752706",
   "metadata": {
    "execution": {
     "iopub.execute_input": "2022-12-15T18:07:40.433744Z",
     "iopub.status.busy": "2022-12-15T18:07:40.433394Z",
     "iopub.status.idle": "2022-12-15T18:07:40.475164Z",
     "shell.execute_reply": "2022-12-15T18:07:40.474521Z"
    },
    "papermill": {
     "duration": 2.723979,
     "end_time": "2022-12-15T18:07:40.476555",
     "exception": false,
     "start_time": "2022-12-15T18:07:37.752576",
     "status": "completed"
    },
    "tags": []
   },
   "outputs": [
    {
     "name": "stdout",
     "output_type": "stream",
     "text": [
      "Works!\n"
     ]
    }
   ],
   "source": [
    "try:\n",
    "    # decomposition used by statsmodels.GLS\n",
    "    cholsigmainv = np.linalg.cholesky(np.linalg.inv(gene_corrs_df.to_numpy())).T\n",
    "    print(\"Works!\")\n",
    "except Exception as e:\n",
    "    print(f\"Cholesky decomposition failed (statsmodels.GLS): {str(e)}\")"
   ]
  },
  {
   "cell_type": "markdown",
   "id": "8e60a080-edb2-4e9c-b2ef-22961693200c",
   "metadata": {
    "papermill": {
     "duration": 2.382784,
     "end_time": "2022-12-15T18:07:45.422590",
     "exception": false,
     "start_time": "2022-12-15T18:07:43.039806",
     "status": "completed"
    },
    "tags": []
   },
   "source": [
    "## Plot: distribution"
   ]
  },
  {
   "cell_type": "code",
   "execution_count": 40,
   "id": "8301126b-a7d4-4744-9c7d-f0f86eb6f54c",
   "metadata": {
    "execution": {
     "iopub.execute_input": "2022-12-15T18:07:50.482343Z",
     "iopub.status.busy": "2022-12-15T18:07:50.481900Z",
     "iopub.status.idle": "2022-12-15T18:07:50.980163Z",
     "shell.execute_reply": "2022-12-15T18:07:50.979718Z"
    },
    "papermill": {
     "duration": 3.107867,
     "end_time": "2022-12-15T18:07:50.981410",
     "exception": false,
     "start_time": "2022-12-15T18:07:47.873543",
     "status": "completed"
    },
    "tags": []
   },
   "outputs": [
    {
     "data": {
      "image/png": "[encoded data removed]",
      "text/plain": [
       "<Figure size 700x700 with 1 Axes>"
      ]
     },
     "metadata": {},
     "output_type": "display_data"
    }
   ],
   "source": [
    "with sns.plotting_context(\"paper\", font_scale=1.5):\n",
    "    g = sns.displot(gene_corrs_flat, kde=True, height=7)\n",
    "    g.ax.set_title(\n",
    "        f\"Distribution of gene correlation values in chromosome {CHROMOSOME}\"\n",
    "    )"
   ]
  },
  {
   "cell_type": "markdown",
   "id": "cbd52bca-d878-4a2f-b684-5c83aa3038d4",
   "metadata": {
    "papermill": {
     "duration": 2.530403,
     "end_time": "2022-12-15T18:07:56.163973",
     "exception": false,
     "start_time": "2022-12-15T18:07:53.633570",
     "status": "completed"
    },
    "tags": []
   },
   "source": [
    "## Plot: heatmap"
   ]
  },
  {
   "cell_type": "code",
   "execution_count": 41,
   "id": "d03fe63a-c7b2-4fb9-a53c-db362ce843c9",
   "metadata": {
    "execution": {
     "iopub.execute_input": "2022-12-15T18:08:01.027333Z",
     "iopub.status.busy": "2022-12-15T18:08:01.027057Z",
     "iopub.status.idle": "2022-12-15T18:08:01.050114Z",
     "shell.execute_reply": "2022-12-15T18:08:01.049480Z"
    },
    "papermill": {
     "duration": 2.435804,
     "end_time": "2022-12-15T18:08:01.051202",
     "exception": false,
     "start_time": "2022-12-15T18:07:58.615398",
     "status": "completed"
    },
    "tags": []
   },
   "outputs": [
    {
     "data": {
      "text/plain": [
       "'0.0 / 0.05'"
      ]
     },
     "metadata": {},
     "output_type": "display_data"
    }
   ],
   "source": [
    "vmin_val = min(0.00, gene_corrs_quantiles[0.10])\n",
    "vmax_val = max(0.05, gene_corrs_quantiles[0.90])\n",
    "display(f\"{vmin_val} / {vmax_val}\")"
   ]
  },
  {
   "cell_type": "code",
   "execution_count": 42,
   "id": "dc41b70b-5bcc-4d9e-9f33-a22c4a94dab5",
   "metadata": {
    "execution": {
     "iopub.execute_input": "2022-12-15T18:08:06.281643Z",
     "iopub.status.busy": "2022-12-15T18:08:06.281322Z",
     "iopub.status.idle": "2022-12-15T18:08:06.636363Z",
     "shell.execute_reply": "2022-12-15T18:08:06.635854Z"
    },
    "papermill": {
     "duration": 2.814064,
     "end_time": "2022-12-15T18:08:06.638005",
     "exception": false,
     "start_time": "2022-12-15T18:08:03.823941",
     "status": "completed"
    },
    "tags": []
   },
   "outputs": [
    {
     "data": {
      "text/plain": [
       "Text(0.5, 1.0, 'Gene correlations in chromosome 11')"
      ]
     },
     "execution_count": 42,
     "metadata": {},
     "output_type": "execute_result"
    },
    {
     "data": {
      "image/png": "[encoded data removed]",
      "text/plain": [
       "<Figure size 1000x1000 with 2 Axes>"
      ]
     },
     "metadata": {},
     "output_type": "display_data"
    }
   ],
   "source": [
    "f, ax = plt.subplots(figsize=(10, 10))\n",
    "sns.heatmap(\n",
    "    gene_corrs_df,\n",
    "    xticklabels=False,\n",
    "    yticklabels=False,\n",
    "    square=True,\n",
    "    vmin=vmin_val,\n",
    "    vmax=vmax_val,\n",
    "    cmap=\"rocket_r\",\n",
    "    ax=ax,\n",
    ")\n",
    "ax.set_title(f\"Gene correlations in chromosome {CHROMOSOME}\")"
   ]
  },
  {
   "cell_type": "code",
   "execution_count": null,
   "id": "b25e3ead",
   "metadata": {
    "papermill": {
     "duration": 2.649854,
     "end_time": "2022-12-15T18:08:12.140549",
     "exception": false,
     "start_time": "2022-12-15T18:08:09.490695",
     "status": "completed"
    },
    "tags": []
   },
   "outputs": [],
   "source": []
  }
 ],
 "metadata": {
  "jupytext": {
   "cell_metadata_filter": "all,-execution,-papermill,-trusted",
   "formats": "ipynb,py//py:percent"
  },
  "kernelspec": {
   "display_name": "Python 3 (ipykernel)",
   "language": "python",
   "name": "python3"
  },
  "language_info": {
   "codemirror_mode": {
    "name": "ipython",
    "version": 3
   },
   "file_extension": ".py",
   "mimetype": "text/x-python",
   "name": "python",
   "nbconvert_exporter": "python",
   "pygments_lexer": "ipython3",
   "version": "3.10.6"
  },
  "papermill": {
   "default_parameters": {},
   "duration": 718.022159,
   "end_time": "2022-12-15T18:08:17.707045",
   "environment_variables": {},
   "exception": null,
   "input_path": "projects/asthma-copd/nbs/20_gene_corrs/jobs/05-gene_expr_correlations.ipynb",
   "output_path": "projects/asthma-copd/nbs/20_gene_corrs/jobs/../output/copd_only/05-gene_expr_correlations-chr11.run.ipynb",
   "parameters": {
    "CHROMOSOME": 11,
    "COHORT_NAME": "copd_only",
    "OUTPUT_DIR_BASE": "/opt/data/projects/asthma-copd/results/gls_phenoplier",
    "PHENOPLIER_NOTEBOOK_FILEPATH": "projects/asthma-copd/nbs/20_gene_corrs/jobs/05-gene_expr_correlations.ipynb"
   },
   "start_time": "2022-12-15T17:56:19.684886",
   "version": "2.2.2"
  }
 },
 "nbformat": 4,
 "nbformat_minor": 5
}
