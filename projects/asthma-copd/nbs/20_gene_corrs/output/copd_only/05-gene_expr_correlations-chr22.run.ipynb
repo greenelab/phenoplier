{
 "cells": [
  {
   "cell_type": "markdown",
   "id": "7a6632fb",
   "metadata": {
    "papermill": {
     "duration": 0.00875,
     "end_time": "2022-12-05T17:14:37.160181",
     "exception": false,
     "start_time": "2022-12-05T17:14:37.151431",
     "status": "completed"
    },
    "tags": []
   },
   "source": [
    "# Description"
   ]
  },
  {
   "cell_type": "markdown",
   "id": "7097c346",
   "metadata": {
    "papermill": {
     "duration": 0.008661,
     "end_time": "2022-12-05T17:14:37.178261",
     "exception": false,
     "start_time": "2022-12-05T17:14:37.169600",
     "status": "completed"
    },
    "tags": []
   },
   "source": [
    "(Please, take a look at the README.md file in this directory for instructions on how to run this notebook)\n",
    "\n",
    "This notebook computes predicted expression correlations between all genes in the MultiPLIER models.\n",
    "\n",
    "It has specicfic parameters for papermill (see under `Settings` below).\n",
    "It can be configured to run on a single chromosome to run in parallel.\n",
    "\n",
    "This notebook is not directly run. See README.md."
   ]
  },
  {
   "cell_type": "markdown",
   "id": "c61d8427",
   "metadata": {
    "papermill": {
     "duration": 0.008009,
     "end_time": "2022-12-05T17:14:37.194414",
     "exception": false,
     "start_time": "2022-12-05T17:14:37.186405",
     "status": "completed"
    },
    "tags": []
   },
   "source": [
    "# Modules"
   ]
  },
  {
   "cell_type": "code",
   "execution_count": 1,
   "id": "bbc0234f",
   "metadata": {
    "execution": {
     "iopub.execute_input": "2022-12-05T17:14:37.212742Z",
     "iopub.status.busy": "2022-12-05T17:14:37.212369Z",
     "iopub.status.idle": "2022-12-05T17:14:37.230437Z",
     "shell.execute_reply": "2022-12-05T17:14:37.229914Z"
    },
    "papermill": {
     "duration": 0.028873,
     "end_time": "2022-12-05T17:14:37.232057",
     "exception": false,
     "start_time": "2022-12-05T17:14:37.203184",
     "status": "completed"
    },
    "tags": []
   },
   "outputs": [],
   "source": [
    "%load_ext autoreload\n",
    "%autoreload 2"
   ]
  },
  {
   "cell_type": "code",
   "execution_count": 2,
   "id": "1d5f5a59",
   "metadata": {
    "execution": {
     "iopub.execute_input": "2022-12-05T17:14:37.249980Z",
     "iopub.status.busy": "2022-12-05T17:14:37.249765Z",
     "iopub.status.idle": "2022-12-05T17:14:37.932365Z",
     "shell.execute_reply": "2022-12-05T17:14:37.931919Z"
    },
    "papermill": {
     "duration": 0.693133,
     "end_time": "2022-12-05T17:14:37.934045",
     "exception": false,
     "start_time": "2022-12-05T17:14:37.240912",
     "status": "completed"
    },
    "tags": []
   },
   "outputs": [],
   "source": [
    "from random import sample, seed\n",
    "import warnings\n",
    "from pathlib import Path\n",
    "import pickle\n",
    "import traceback\n",
    "\n",
    "import numpy as np\n",
    "from scipy.spatial.distance import squareform\n",
    "import pandas as pd\n",
    "from tqdm import tqdm\n",
    "import matplotlib.pyplot as plt\n",
    "import seaborn as sns\n",
    "\n",
    "import conf\n",
    "from entity import Gene"
   ]
  },
  {
   "cell_type": "markdown",
   "id": "1eac24b5",
   "metadata": {
    "papermill": {
     "duration": 0.009777,
     "end_time": "2022-12-05T17:14:37.952365",
     "exception": false,
     "start_time": "2022-12-05T17:14:37.942588",
     "status": "completed"
    },
    "tags": []
   },
   "source": [
    "# Settings"
   ]
  },
  {
   "cell_type": "code",
   "execution_count": 3,
   "id": "ca4560ba",
   "metadata": {
    "execution": {
     "iopub.execute_input": "2022-12-05T17:14:37.969452Z",
     "iopub.status.busy": "2022-12-05T17:14:37.969307Z",
     "iopub.status.idle": "2022-12-05T17:14:37.982345Z",
     "shell.execute_reply": "2022-12-05T17:14:37.981938Z"
    },
    "papermill": {
     "duration": 0.023182,
     "end_time": "2022-12-05T17:14:37.983707",
     "exception": false,
     "start_time": "2022-12-05T17:14:37.960525",
     "status": "completed"
    },
    "tags": [
     "parameters"
    ]
   },
   "outputs": [],
   "source": [
    "# a cohort name (it could be something like UK_BIOBANK, etc)\n",
    "COHORT_NAME = None\n",
    "\n",
    "# reference panel such as 1000G or GTEX_V8\n",
    "REFERENCE_PANEL = \"GTEX_V8\"\n",
    "\n",
    "# predictions models such as MASHR or ELASTIC_NET\n",
    "EQTL_MODEL = \"MASHR\"\n",
    "\n",
    "# this is the default value used in S-MultiXcan to select the\n",
    "# top principal components of the expression correlation matrix\n",
    "SMULTIXCAN_CONDITION_NUMBER = 30\n",
    "\n",
    "# specifies a single chromosome value\n",
    "CHROMOSOME = None\n",
    "\n",
    "# If True, computes the correlation between closeby genes only (see\n",
    "# entity.Gene.within_distance for more details). Otherwise, it computes\n",
    "# correlations for all genes in a chromosome\n",
    "COMPUTE_CORRELATIONS_WITHIN_DISTANCE = True\n",
    "\n",
    "# if True, then it will continue if a gene pair correlation fails,\n",
    "# printing the warning/error for debugging. If False, any warning/error\n",
    "# will be thrown\n",
    "DEBUG_MODE = False\n",
    "\n",
    "# output dir\n",
    "OUTPUT_DIR_BASE = None"
   ]
  },
  {
   "cell_type": "code",
   "execution_count": 4,
   "id": "aa7abf43",
   "metadata": {
    "execution": {
     "iopub.execute_input": "2022-12-05T17:14:38.001841Z",
     "iopub.status.busy": "2022-12-05T17:14:38.001683Z",
     "iopub.status.idle": "2022-12-05T17:14:38.014063Z",
     "shell.execute_reply": "2022-12-05T17:14:38.013664Z"
    },
    "papermill": {
     "duration": 0.022615,
     "end_time": "2022-12-05T17:14:38.015437",
     "exception": false,
     "start_time": "2022-12-05T17:14:37.992822",
     "status": "completed"
    },
    "tags": [
     "injected-parameters"
    ]
   },
   "outputs": [],
   "source": [
    "# Parameters\n",
    "PHENOPLIER_NOTEBOOK_FILEPATH = (\n",
    "    \"projects/asthma-copd/nbs/20_gene_corrs/jobs/05-gene_expr_correlations.ipynb\"\n",
    ")\n",
    "COHORT_NAME = \"copd_only\"\n",
    "CHROMOSOME = 22\n",
    "OUTPUT_DIR_BASE = \"/opt/data/projects/asthma-copd/results/gls_phenoplier\"\n"
   ]
  },
  {
   "cell_type": "code",
   "execution_count": 5,
   "id": "3190631f-27fc-480f-b18e-571d580425a5",
   "metadata": {
    "execution": {
     "iopub.execute_input": "2022-12-05T17:14:38.033007Z",
     "iopub.status.busy": "2022-12-05T17:14:38.032828Z",
     "iopub.status.idle": "2022-12-05T17:14:38.054547Z",
     "shell.execute_reply": "2022-12-05T17:14:38.054095Z"
    },
    "papermill": {
     "duration": 0.03199,
     "end_time": "2022-12-05T17:14:38.055953",
     "exception": false,
     "start_time": "2022-12-05T17:14:38.023963",
     "status": "completed"
    },
    "tags": []
   },
   "outputs": [
    {
     "data": {
      "text/plain": [
       "'Cohort name: copd_only'"
      ]
     },
     "metadata": {},
     "output_type": "display_data"
    }
   ],
   "source": [
    "assert COHORT_NAME is not None and len(COHORT_NAME) > 0, \"A cohort name must be given\"\n",
    "\n",
    "COHORT_NAME = COHORT_NAME.lower()\n",
    "display(f\"Cohort name: {COHORT_NAME}\")"
   ]
  },
  {
   "cell_type": "code",
   "execution_count": 6,
   "id": "f53ba19b-0f93-4fa2-a047-63b375939d1a",
   "metadata": {
    "execution": {
     "iopub.execute_input": "2022-12-05T17:14:38.074619Z",
     "iopub.status.busy": "2022-12-05T17:14:38.074443Z",
     "iopub.status.idle": "2022-12-05T17:14:38.092004Z",
     "shell.execute_reply": "2022-12-05T17:14:38.091559Z"
    },
    "papermill": {
     "duration": 0.028565,
     "end_time": "2022-12-05T17:14:38.093396",
     "exception": false,
     "start_time": "2022-12-05T17:14:38.064831",
     "status": "completed"
    },
    "tags": []
   },
   "outputs": [
    {
     "data": {
      "text/plain": [
       "'Reference panel: GTEX_V8'"
      ]
     },
     "metadata": {},
     "output_type": "display_data"
    }
   ],
   "source": [
    "assert (\n",
    "    REFERENCE_PANEL is not None and len(REFERENCE_PANEL) > 0\n",
    "), \"A reference panel must be given\"\n",
    "\n",
    "display(f\"Reference panel: {REFERENCE_PANEL}\")"
   ]
  },
  {
   "cell_type": "code",
   "execution_count": 7,
   "id": "e024d130-c139-429a-9c6e-ccf149e297b0",
   "metadata": {
    "execution": {
     "iopub.execute_input": "2022-12-05T17:14:38.111726Z",
     "iopub.status.busy": "2022-12-05T17:14:38.111491Z",
     "iopub.status.idle": "2022-12-05T17:14:38.133542Z",
     "shell.execute_reply": "2022-12-05T17:14:38.133034Z"
    },
    "papermill": {
     "duration": 0.032792,
     "end_time": "2022-12-05T17:14:38.134961",
     "exception": false,
     "start_time": "2022-12-05T17:14:38.102169",
     "status": "completed"
    },
    "tags": []
   },
   "outputs": [
    {
     "data": {
      "text/plain": [
       "'eQTL model: MASHR) / mashr_'"
      ]
     },
     "metadata": {},
     "output_type": "display_data"
    }
   ],
   "source": [
    "assert (\n",
    "    EQTL_MODEL is not None and len(EQTL_MODEL) > 0\n",
    "), \"A prediction/eQTL model must be given\"\n",
    "\n",
    "EQTL_MODEL_FILES_PREFIX = conf.PHENOMEXCAN[\"PREDICTION_MODELS\"][f\"{EQTL_MODEL}_PREFIX\"]\n",
    "display(f\"eQTL model: {EQTL_MODEL}) / {EQTL_MODEL_FILES_PREFIX}\")"
   ]
  },
  {
   "cell_type": "code",
   "execution_count": 8,
   "id": "552a7f63-a18c-4d3e-bb6a-94f99b431291",
   "metadata": {
    "execution": {
     "iopub.execute_input": "2022-12-05T17:14:38.154153Z",
     "iopub.status.busy": "2022-12-05T17:14:38.153928Z",
     "iopub.status.idle": "2022-12-05T17:14:38.175748Z",
     "shell.execute_reply": "2022-12-05T17:14:38.175236Z"
    },
    "papermill": {
     "duration": 0.033274,
     "end_time": "2022-12-05T17:14:38.177164",
     "exception": false,
     "start_time": "2022-12-05T17:14:38.143890",
     "status": "completed"
    },
    "tags": []
   },
   "outputs": [
    {
     "data": {
      "text/plain": [
       "'S-MultiXcan condition number: 30'"
      ]
     },
     "metadata": {},
     "output_type": "display_data"
    }
   ],
   "source": [
    "assert (\n",
    "    SMULTIXCAN_CONDITION_NUMBER is not None and SMULTIXCAN_CONDITION_NUMBER > 0\n",
    "), \"The S-MultiXcan condition number (positive integer) must be given\"\n",
    "\n",
    "display(f\"S-MultiXcan condition number: {SMULTIXCAN_CONDITION_NUMBER}\")"
   ]
  },
  {
   "cell_type": "code",
   "execution_count": 9,
   "id": "f34a336f-548e-4afe-8955-90eaea4f42c6",
   "metadata": {
    "execution": {
     "iopub.execute_input": "2022-12-05T17:14:38.196207Z",
     "iopub.status.busy": "2022-12-05T17:14:38.195798Z",
     "iopub.status.idle": "2022-12-05T17:14:38.217588Z",
     "shell.execute_reply": "2022-12-05T17:14:38.217081Z"
    },
    "papermill": {
     "duration": 0.032835,
     "end_time": "2022-12-05T17:14:38.219043",
     "exception": false,
     "start_time": "2022-12-05T17:14:38.186208",
     "status": "completed"
    },
    "tags": []
   },
   "outputs": [
    {
     "data": {
      "text/plain": [
       "'Working on chromosome 22'"
      ]
     },
     "metadata": {},
     "output_type": "display_data"
    }
   ],
   "source": [
    "assert CHROMOSOME is not None and (\n",
    "    1 <= CHROMOSOME <= 22\n",
    "), \"You have to select one chromosome (format: number between 1 and 22)\"\n",
    "\n",
    "display(f\"Working on chromosome {CHROMOSOME}\")"
   ]
  },
  {
   "cell_type": "code",
   "execution_count": 10,
   "id": "ab8e96e8-06b5-4363-9dcd-dc4d78cc27f7",
   "metadata": {
    "execution": {
     "iopub.execute_input": "2022-12-05T17:14:38.238273Z",
     "iopub.status.busy": "2022-12-05T17:14:38.237908Z",
     "iopub.status.idle": "2022-12-05T17:14:38.259601Z",
     "shell.execute_reply": "2022-12-05T17:14:38.259085Z"
    },
    "papermill": {
     "duration": 0.032844,
     "end_time": "2022-12-05T17:14:38.261064",
     "exception": false,
     "start_time": "2022-12-05T17:14:38.228220",
     "status": "completed"
    },
    "tags": []
   },
   "outputs": [
    {
     "data": {
      "text/plain": [
       "'Compute correlation within distance True'"
      ]
     },
     "metadata": {},
     "output_type": "display_data"
    }
   ],
   "source": [
    "display(f\"Compute correlation within distance {COMPUTE_CORRELATIONS_WITHIN_DISTANCE}\")"
   ]
  },
  {
   "cell_type": "code",
   "execution_count": 11,
   "id": "b393b698-77e3-4ba2-8ac1-e14d51aa988f",
   "metadata": {
    "execution": {
     "iopub.execute_input": "2022-12-05T17:14:38.281338Z",
     "iopub.status.busy": "2022-12-05T17:14:38.280919Z",
     "iopub.status.idle": "2022-12-05T17:14:38.303696Z",
     "shell.execute_reply": "2022-12-05T17:14:38.303187Z"
    },
    "papermill": {
     "duration": 0.034195,
     "end_time": "2022-12-05T17:14:38.305194",
     "exception": false,
     "start_time": "2022-12-05T17:14:38.270999",
     "status": "completed"
    },
    "tags": []
   },
   "outputs": [
    {
     "data": {
      "text/plain": [
       "'Using output dir base: /opt/data/projects/asthma-copd/results/gls_phenoplier/gene_corrs/copd_only'"
      ]
     },
     "metadata": {},
     "output_type": "display_data"
    }
   ],
   "source": [
    "assert (\n",
    "    OUTPUT_DIR_BASE is not None and len(OUTPUT_DIR_BASE) > 0\n",
    "), \"Output directory path must be given\"\n",
    "\n",
    "OUTPUT_DIR_BASE = (Path(OUTPUT_DIR_BASE) / \"gene_corrs\" / COHORT_NAME).resolve()\n",
    "\n",
    "OUTPUT_DIR_BASE.mkdir(parents=True, exist_ok=True)\n",
    "\n",
    "display(f\"Using output dir base: {OUTPUT_DIR_BASE}\")"
   ]
  },
  {
   "cell_type": "markdown",
   "id": "d2ba085e",
   "metadata": {
    "papermill": {
     "duration": 0.009253,
     "end_time": "2022-12-05T17:14:38.324260",
     "exception": false,
     "start_time": "2022-12-05T17:14:38.315007",
     "status": "completed"
    },
    "tags": []
   },
   "source": [
    "# Load data"
   ]
  },
  {
   "cell_type": "markdown",
   "id": "7dcb8db7",
   "metadata": {
    "papermill": {
     "duration": 0.009485,
     "end_time": "2022-12-05T17:14:38.342923",
     "exception": false,
     "start_time": "2022-12-05T17:14:38.333438",
     "status": "completed"
    },
    "tags": []
   },
   "source": [
    "## GWAS variants"
   ]
  },
  {
   "cell_type": "code",
   "execution_count": 12,
   "id": "29434c4e-8cd3-4b9b-82e4-b5a251d9dd19",
   "metadata": {
    "execution": {
     "iopub.execute_input": "2022-12-05T17:14:38.361642Z",
     "iopub.status.busy": "2022-12-05T17:14:38.361213Z",
     "iopub.status.idle": "2022-12-05T17:14:40.392101Z",
     "shell.execute_reply": "2022-12-05T17:14:40.391649Z"
    },
    "papermill": {
     "duration": 2.041735,
     "end_time": "2022-12-05T17:14:40.393819",
     "exception": false,
     "start_time": "2022-12-05T17:14:38.352084",
     "status": "completed"
    },
    "tags": []
   },
   "outputs": [],
   "source": [
    "with open(OUTPUT_DIR_BASE / \"gwas_variant_ids.pkl\", \"rb\") as handle:\n",
    "    gwas_variants_ids_set = pickle.load(handle)"
   ]
  },
  {
   "cell_type": "code",
   "execution_count": 13,
   "id": "b9d9dec2-4a76-4bf9-bde2-e24c95acb8a0",
   "metadata": {
    "execution": {
     "iopub.execute_input": "2022-12-05T17:14:40.414466Z",
     "iopub.status.busy": "2022-12-05T17:14:40.414337Z",
     "iopub.status.idle": "2022-12-05T17:14:40.427553Z",
     "shell.execute_reply": "2022-12-05T17:14:40.427164Z"
    },
    "papermill": {
     "duration": 0.025675,
     "end_time": "2022-12-05T17:14:40.429042",
     "exception": false,
     "start_time": "2022-12-05T17:14:40.403367",
     "status": "completed"
    },
    "tags": []
   },
   "outputs": [
    {
     "data": {
      "text/plain": [
       "8586183"
      ]
     },
     "execution_count": 13,
     "metadata": {},
     "output_type": "execute_result"
    }
   ],
   "source": [
    "len(gwas_variants_ids_set)"
   ]
  },
  {
   "cell_type": "code",
   "execution_count": 14,
   "id": "4235b06a-6034-4ee4-a0a3-2ae35d122418",
   "metadata": {
    "execution": {
     "iopub.execute_input": "2022-12-05T17:14:40.449428Z",
     "iopub.status.busy": "2022-12-05T17:14:40.449292Z",
     "iopub.status.idle": "2022-12-05T17:14:41.180239Z",
     "shell.execute_reply": "2022-12-05T17:14:41.179726Z"
    },
    "papermill": {
     "duration": 0.74285,
     "end_time": "2022-12-05T17:14:41.181723",
     "exception": false,
     "start_time": "2022-12-05T17:14:40.438873",
     "status": "completed"
    },
    "tags": []
   },
   "outputs": [
    {
     "data": {
      "text/plain": [
       "['chr12_102866856_T_C_b38',\n",
       " 'chr11_113016394_A_G_b38',\n",
       " 'chr5_53893334_C_CGGTG_b38',\n",
       " 'chr3_13220054_A_G_b38',\n",
       " 'chr2_6666583_G_A_b38']"
      ]
     },
     "execution_count": 14,
     "metadata": {},
     "output_type": "execute_result"
    }
   ],
   "source": [
    "list(gwas_variants_ids_set)[:5]"
   ]
  },
  {
   "cell_type": "markdown",
   "id": "07866999-2305-41f9-a144-e69c9122c212",
   "metadata": {
    "papermill": {
     "duration": 0.009834,
     "end_time": "2022-12-05T17:14:41.201686",
     "exception": false,
     "start_time": "2022-12-05T17:14:41.191852",
     "status": "completed"
    },
    "tags": []
   },
   "source": [
    "## S-PrediXcan tissue models"
   ]
  },
  {
   "cell_type": "code",
   "execution_count": 15,
   "id": "780611d9-77c8-405f-90a4-f271f7b09397",
   "metadata": {
    "execution": {
     "iopub.execute_input": "2022-12-05T17:14:41.222351Z",
     "iopub.status.busy": "2022-12-05T17:14:41.222214Z",
     "iopub.status.idle": "2022-12-05T17:14:41.547436Z",
     "shell.execute_reply": "2022-12-05T17:14:41.546883Z"
    },
    "papermill": {
     "duration": 0.337704,
     "end_time": "2022-12-05T17:14:41.549148",
     "exception": false,
     "start_time": "2022-12-05T17:14:41.211444",
     "status": "completed"
    },
    "tags": []
   },
   "outputs": [],
   "source": [
    "spredixcan_genes_models = pd.read_pickle(OUTPUT_DIR_BASE / \"gene_tissues.pkl\")"
   ]
  },
  {
   "cell_type": "code",
   "execution_count": 16,
   "id": "726dd1f6-9557-4225-91fa-b3b879ea96e1",
   "metadata": {
    "execution": {
     "iopub.execute_input": "2022-12-05T17:14:41.569629Z",
     "iopub.status.busy": "2022-12-05T17:14:41.569490Z",
     "iopub.status.idle": "2022-12-05T17:14:41.582961Z",
     "shell.execute_reply": "2022-12-05T17:14:41.582497Z"
    },
    "papermill": {
     "duration": 0.02522,
     "end_time": "2022-12-05T17:14:41.584255",
     "exception": false,
     "start_time": "2022-12-05T17:14:41.559035",
     "status": "completed"
    },
    "tags": []
   },
   "outputs": [
    {
     "data": {
      "text/plain": [
       "(6443, 5)"
      ]
     },
     "execution_count": 16,
     "metadata": {},
     "output_type": "execute_result"
    }
   ],
   "source": [
    "spredixcan_genes_models.shape"
   ]
  },
  {
   "cell_type": "code",
   "execution_count": 17,
   "id": "944a1b48-222c-4eb0-b252-b9de2cbca215",
   "metadata": {
    "execution": {
     "iopub.execute_input": "2022-12-05T17:14:41.604986Z",
     "iopub.status.busy": "2022-12-05T17:14:41.604853Z",
     "iopub.status.idle": "2022-12-05T17:14:41.621038Z",
     "shell.execute_reply": "2022-12-05T17:14:41.620568Z"
    },
    "papermill": {
     "duration": 0.028318,
     "end_time": "2022-12-05T17:14:41.622399",
     "exception": false,
     "start_time": "2022-12-05T17:14:41.594081",
     "status": "completed"
    },
    "tags": []
   },
   "outputs": [
    {
     "data": {
      "text/html": [
       "<div>\n",
       "<style scoped>\n",
       "    .dataframe tbody tr th:only-of-type {\n",
       "        vertical-align: middle;\n",
       "    }\n",
       "\n",
       "    .dataframe tbody tr th {\n",
       "        vertical-align: top;\n",
       "    }\n",
       "\n",
       "    .dataframe thead th {\n",
       "        text-align: right;\n",
       "    }\n",
       "</style>\n",
       "<table border=\"1\" class=\"dataframe\">\n",
       "  <thead>\n",
       "    <tr style=\"text-align: right;\">\n",
       "      <th></th>\n",
       "      <th>gene_name</th>\n",
       "      <th>tissue</th>\n",
       "      <th>n_tissues</th>\n",
       "      <th>n_snps_used_sum</th>\n",
       "      <th>n_snps_in_model_sum</th>\n",
       "    </tr>\n",
       "    <tr>\n",
       "      <th>gene_id</th>\n",
       "      <th></th>\n",
       "      <th></th>\n",
       "      <th></th>\n",
       "      <th></th>\n",
       "      <th></th>\n",
       "    </tr>\n",
       "  </thead>\n",
       "  <tbody>\n",
       "    <tr>\n",
       "      <th>ENSG00000000419</th>\n",
       "      <td>DPM1</td>\n",
       "      <td>(Brain_Hypothalamus, Brain_Substantia_nigra)</td>\n",
       "      <td>2</td>\n",
       "      <td>2</td>\n",
       "      <td>2</td>\n",
       "    </tr>\n",
       "    <tr>\n",
       "      <th>ENSG00000000938</th>\n",
       "      <td>FGR</td>\n",
       "      <td>(Brain_Cerebellar_Hemisphere, Brain_Nucleus_ac...</td>\n",
       "      <td>36</td>\n",
       "      <td>40</td>\n",
       "      <td>40</td>\n",
       "    </tr>\n",
       "    <tr>\n",
       "      <th>ENSG00000000971</th>\n",
       "      <td>CFH</td>\n",
       "      <td>(Brain_Cerebellar_Hemisphere, Stomach, Brain_A...</td>\n",
       "      <td>34</td>\n",
       "      <td>44</td>\n",
       "      <td>44</td>\n",
       "    </tr>\n",
       "    <tr>\n",
       "      <th>ENSG00000001084</th>\n",
       "      <td>GCLC</td>\n",
       "      <td>(Brain_Cerebellar_Hemisphere, Brain_Nucleus_ac...</td>\n",
       "      <td>32</td>\n",
       "      <td>46</td>\n",
       "      <td>46</td>\n",
       "    </tr>\n",
       "    <tr>\n",
       "      <th>ENSG00000001167</th>\n",
       "      <td>NFYA</td>\n",
       "      <td>(Brain_Cerebellar_Hemisphere, Brain_Nucleus_ac...</td>\n",
       "      <td>40</td>\n",
       "      <td>47</td>\n",
       "      <td>48</td>\n",
       "    </tr>\n",
       "  </tbody>\n",
       "</table>\n",
       "</div>"
      ],
      "text/plain": [
       "                gene_name                                             tissue  \\\n",
       "gene_id                                                                        \n",
       "ENSG00000000419      DPM1       (Brain_Hypothalamus, Brain_Substantia_nigra)   \n",
       "ENSG00000000938       FGR  (Brain_Cerebellar_Hemisphere, Brain_Nucleus_ac...   \n",
       "ENSG00000000971       CFH  (Brain_Cerebellar_Hemisphere, Stomach, Brain_A...   \n",
       "ENSG00000001084      GCLC  (Brain_Cerebellar_Hemisphere, Brain_Nucleus_ac...   \n",
       "ENSG00000001167      NFYA  (Brain_Cerebellar_Hemisphere, Brain_Nucleus_ac...   \n",
       "\n",
       "                 n_tissues  n_snps_used_sum  n_snps_in_model_sum  \n",
       "gene_id                                                           \n",
       "ENSG00000000419          2                2                    2  \n",
       "ENSG00000000938         36               40                   40  \n",
       "ENSG00000000971         34               44                   44  \n",
       "ENSG00000001084         32               46                   46  \n",
       "ENSG00000001167         40               47                   48  "
      ]
     },
     "execution_count": 17,
     "metadata": {},
     "output_type": "execute_result"
    }
   ],
   "source": [
    "spredixcan_genes_models.head()"
   ]
  },
  {
   "cell_type": "code",
   "execution_count": 18,
   "id": "d1c11bb1-be0b-4f40-b360-633d6827109f",
   "metadata": {
    "execution": {
     "iopub.execute_input": "2022-12-05T17:14:41.643223Z",
     "iopub.status.busy": "2022-12-05T17:14:41.643101Z",
     "iopub.status.idle": "2022-12-05T17:14:41.655723Z",
     "shell.execute_reply": "2022-12-05T17:14:41.655225Z"
    },
    "papermill": {
     "duration": 0.024458,
     "end_time": "2022-12-05T17:14:41.657081",
     "exception": false,
     "start_time": "2022-12-05T17:14:41.632623",
     "status": "completed"
    },
    "tags": []
   },
   "outputs": [],
   "source": [
    "assert spredixcan_genes_models.index.is_unique"
   ]
  },
  {
   "cell_type": "markdown",
   "id": "a5b5092c-a13e-47c4-a92a-480fcc08f3ae",
   "metadata": {
    "papermill": {
     "duration": 0.010382,
     "end_time": "2022-12-05T17:14:41.677511",
     "exception": false,
     "start_time": "2022-12-05T17:14:41.667129",
     "status": "completed"
    },
    "tags": []
   },
   "source": [
    "## Gene info"
   ]
  },
  {
   "cell_type": "code",
   "execution_count": 19,
   "id": "7d6bb224-88e9-4358-ac10-43a41d92cdad",
   "metadata": {
    "execution": {
     "iopub.execute_input": "2022-12-05T17:14:41.698188Z",
     "iopub.status.busy": "2022-12-05T17:14:41.697947Z",
     "iopub.status.idle": "2022-12-05T17:14:41.715940Z",
     "shell.execute_reply": "2022-12-05T17:14:41.715375Z"
    },
    "papermill": {
     "duration": 0.029914,
     "end_time": "2022-12-05T17:14:41.717370",
     "exception": false,
     "start_time": "2022-12-05T17:14:41.687456",
     "status": "completed"
    },
    "tags": []
   },
   "outputs": [],
   "source": [
    "genes_info = pd.read_pickle(OUTPUT_DIR_BASE / \"genes_info.pkl\")"
   ]
  },
  {
   "cell_type": "code",
   "execution_count": 20,
   "id": "9e32abfa-546d-483e-8c18-d526e9e05903",
   "metadata": {
    "execution": {
     "iopub.execute_input": "2022-12-05T17:14:41.738847Z",
     "iopub.status.busy": "2022-12-05T17:14:41.738681Z",
     "iopub.status.idle": "2022-12-05T17:14:41.755867Z",
     "shell.execute_reply": "2022-12-05T17:14:41.755333Z"
    },
    "papermill": {
     "duration": 0.029603,
     "end_time": "2022-12-05T17:14:41.757308",
     "exception": false,
     "start_time": "2022-12-05T17:14:41.727705",
     "status": "completed"
    },
    "tags": []
   },
   "outputs": [
    {
     "data": {
      "text/plain": [
       "(6443, 7)"
      ]
     },
     "execution_count": 20,
     "metadata": {},
     "output_type": "execute_result"
    }
   ],
   "source": [
    "genes_info.shape"
   ]
  },
  {
   "cell_type": "code",
   "execution_count": 21,
   "id": "d16c3e92-85ec-468a-9a56-e25a9774a1cb",
   "metadata": {
    "execution": {
     "iopub.execute_input": "2022-12-05T17:14:41.778623Z",
     "iopub.status.busy": "2022-12-05T17:14:41.778383Z",
     "iopub.status.idle": "2022-12-05T17:14:41.804283Z",
     "shell.execute_reply": "2022-12-05T17:14:41.803664Z"
    },
    "papermill": {
     "duration": 0.038267,
     "end_time": "2022-12-05T17:14:41.805880",
     "exception": false,
     "start_time": "2022-12-05T17:14:41.767613",
     "status": "completed"
    },
    "tags": []
   },
   "outputs": [
    {
     "data": {
      "text/html": [
       "<div>\n",
       "<style scoped>\n",
       "    .dataframe tbody tr th:only-of-type {\n",
       "        vertical-align: middle;\n",
       "    }\n",
       "\n",
       "    .dataframe tbody tr th {\n",
       "        vertical-align: top;\n",
       "    }\n",
       "\n",
       "    .dataframe thead th {\n",
       "        text-align: right;\n",
       "    }\n",
       "</style>\n",
       "<table border=\"1\" class=\"dataframe\">\n",
       "  <thead>\n",
       "    <tr style=\"text-align: right;\">\n",
       "      <th></th>\n",
       "      <th>name</th>\n",
       "      <th>id</th>\n",
       "      <th>chr</th>\n",
       "      <th>band</th>\n",
       "      <th>start_position</th>\n",
       "      <th>end_position</th>\n",
       "      <th>gene_length</th>\n",
       "    </tr>\n",
       "  </thead>\n",
       "  <tbody>\n",
       "    <tr>\n",
       "      <th>0</th>\n",
       "      <td>IL2RB</td>\n",
       "      <td>ENSG00000100385</td>\n",
       "      <td>22</td>\n",
       "      <td>22q12.3</td>\n",
       "      <td>37125843</td>\n",
       "      <td>37175054</td>\n",
       "      <td>49211</td>\n",
       "    </tr>\n",
       "    <tr>\n",
       "      <th>1</th>\n",
       "      <td>ZNF208</td>\n",
       "      <td>ENSG00000160321</td>\n",
       "      <td>19</td>\n",
       "      <td>19p12</td>\n",
       "      <td>21932958</td>\n",
       "      <td>22010949</td>\n",
       "      <td>77991</td>\n",
       "    </tr>\n",
       "    <tr>\n",
       "      <th>2</th>\n",
       "      <td>CES1</td>\n",
       "      <td>ENSG00000198848</td>\n",
       "      <td>16</td>\n",
       "      <td>16q12.2</td>\n",
       "      <td>55802851</td>\n",
       "      <td>55833337</td>\n",
       "      <td>30486</td>\n",
       "    </tr>\n",
       "    <tr>\n",
       "      <th>3</th>\n",
       "      <td>XAB2</td>\n",
       "      <td>ENSG00000076924</td>\n",
       "      <td>19</td>\n",
       "      <td>19p13.2</td>\n",
       "      <td>7619525</td>\n",
       "      <td>7629545</td>\n",
       "      <td>10020</td>\n",
       "    </tr>\n",
       "    <tr>\n",
       "      <th>4</th>\n",
       "      <td>AQP1</td>\n",
       "      <td>ENSG00000240583</td>\n",
       "      <td>7</td>\n",
       "      <td>7p14.3</td>\n",
       "      <td>30911694</td>\n",
       "      <td>30925517</td>\n",
       "      <td>13823</td>\n",
       "    </tr>\n",
       "  </tbody>\n",
       "</table>\n",
       "</div>"
      ],
      "text/plain": [
       "     name               id  chr     band  start_position  end_position  \\\n",
       "0   IL2RB  ENSG00000100385   22  22q12.3        37125843      37175054   \n",
       "1  ZNF208  ENSG00000160321   19    19p12        21932958      22010949   \n",
       "2    CES1  ENSG00000198848   16  16q12.2        55802851      55833337   \n",
       "3    XAB2  ENSG00000076924   19  19p13.2         7619525       7629545   \n",
       "4    AQP1  ENSG00000240583    7   7p14.3        30911694      30925517   \n",
       "\n",
       "   gene_length  \n",
       "0        49211  \n",
       "1        77991  \n",
       "2        30486  \n",
       "3        10020  \n",
       "4        13823  "
      ]
     },
     "execution_count": 21,
     "metadata": {},
     "output_type": "execute_result"
    }
   ],
   "source": [
    "genes_info.head()"
   ]
  },
  {
   "cell_type": "markdown",
   "id": "d3843e06",
   "metadata": {
    "papermill": {
     "duration": 0.012184,
     "end_time": "2022-12-05T17:14:41.830285",
     "exception": false,
     "start_time": "2022-12-05T17:14:41.818101",
     "status": "completed"
    },
    "tags": []
   },
   "source": [
    "# Compute correlations"
   ]
  },
  {
   "cell_type": "code",
   "execution_count": 22,
   "id": "cb859c15-d1f3-4006-a74c-2b83c0db9611",
   "metadata": {
    "execution": {
     "iopub.execute_input": "2022-12-05T17:14:41.852288Z",
     "iopub.status.busy": "2022-12-05T17:14:41.851817Z",
     "iopub.status.idle": "2022-12-05T17:14:41.874227Z",
     "shell.execute_reply": "2022-12-05T17:14:41.873613Z"
    },
    "papermill": {
     "duration": 0.034951,
     "end_time": "2022-12-05T17:14:41.875611",
     "exception": false,
     "start_time": "2022-12-05T17:14:41.840660",
     "status": "completed"
    },
    "tags": []
   },
   "outputs": [
    {
     "data": {
      "text/plain": [
       "PosixPath('/opt/data/projects/asthma-copd/results/gls_phenoplier/gene_corrs/copd_only/by_chr/gene_corrs-chr22.pkl')"
      ]
     },
     "metadata": {},
     "output_type": "display_data"
    }
   ],
   "source": [
    "output_dir = OUTPUT_DIR_BASE / \"by_chr\"\n",
    "output_dir.mkdir(exist_ok=True, parents=True)\n",
    "output_file = output_dir / f\"gene_corrs-chr{CHROMOSOME}.pkl\"\n",
    "display(output_file)"
   ]
  },
  {
   "cell_type": "code",
   "execution_count": 23,
   "id": "aa674fe4-6794-4eed-98fa-32b39d1d4ace",
   "metadata": {
    "execution": {
     "iopub.execute_input": "2022-12-05T17:14:41.898364Z",
     "iopub.status.busy": "2022-12-05T17:14:41.897879Z",
     "iopub.status.idle": "2022-12-05T17:14:41.918760Z",
     "shell.execute_reply": "2022-12-05T17:14:41.918127Z"
    },
    "papermill": {
     "duration": 0.033656,
     "end_time": "2022-12-05T17:14:41.920214",
     "exception": false,
     "start_time": "2022-12-05T17:14:41.886558",
     "status": "completed"
    },
    "tags": []
   },
   "outputs": [],
   "source": [
    "warnings.filterwarnings(\"error\")"
   ]
  },
  {
   "cell_type": "code",
   "execution_count": 24,
   "id": "44d5450b-3baf-43f1-9e2e-4b06f1a785f8",
   "metadata": {
    "execution": {
     "iopub.execute_input": "2022-12-05T17:14:41.942765Z",
     "iopub.status.busy": "2022-12-05T17:14:41.942323Z",
     "iopub.status.idle": "2022-12-05T17:14:41.964272Z",
     "shell.execute_reply": "2022-12-05T17:14:41.963638Z"
    },
    "papermill": {
     "duration": 0.034773,
     "end_time": "2022-12-05T17:14:41.965698",
     "exception": false,
     "start_time": "2022-12-05T17:14:41.930925",
     "status": "completed"
    },
    "tags": []
   },
   "outputs": [],
   "source": [
    "# standard checks\n",
    "all_chrs = genes_info[\"chr\"].dropna().unique()\n",
    "assert all_chrs.shape[0] == 22\n",
    "\n",
    "# select chromosome given by the user\n",
    "assert CHROMOSOME in all_chrs"
   ]
  },
  {
   "cell_type": "code",
   "execution_count": 25,
   "id": "2d7c043c-92a7-4d35-991b-fa69ac1e0268",
   "metadata": {
    "execution": {
     "iopub.execute_input": "2022-12-05T17:14:41.990307Z",
     "iopub.status.busy": "2022-12-05T17:14:41.989858Z",
     "iopub.status.idle": "2022-12-05T17:14:42.015788Z",
     "shell.execute_reply": "2022-12-05T17:14:42.015208Z"
    },
    "papermill": {
     "duration": 0.040196,
     "end_time": "2022-12-05T17:14:42.017354",
     "exception": false,
     "start_time": "2022-12-05T17:14:41.977158",
     "status": "completed"
    },
    "tags": []
   },
   "outputs": [
    {
     "name": "stdout",
     "output_type": "stream",
     "text": [
      "Number of genes in chromosome: 170\n"
     ]
    }
   ],
   "source": [
    "# run only on the chromosome specified\n",
    "all_chrs = [CHROMOSOME]\n",
    "genes_chr = genes_info[genes_info[\"chr\"] == CHROMOSOME]\n",
    "\n",
    "# For testing purposes\n",
    "# genes_chr = genes_chr.sample(n=20)\n",
    "\n",
    "print(f\"Number of genes in chromosome: {genes_chr.shape[0]}\", flush=True)"
   ]
  },
  {
   "cell_type": "code",
   "execution_count": 26,
   "id": "916015d8-2979-46d3-a9b9-1cf5a0932c6a",
   "metadata": {
    "execution": {
     "iopub.execute_input": "2022-12-05T17:14:42.051944Z",
     "iopub.status.busy": "2022-12-05T17:14:42.051321Z",
     "iopub.status.idle": "2022-12-05T17:14:42.074040Z",
     "shell.execute_reply": "2022-12-05T17:14:42.073357Z"
    },
    "papermill": {
     "duration": 0.041864,
     "end_time": "2022-12-05T17:14:42.075618",
     "exception": false,
     "start_time": "2022-12-05T17:14:42.033754",
     "status": "completed"
    },
    "tags": []
   },
   "outputs": [],
   "source": [
    "# sort genes by starting position to make visualizations better later\n",
    "genes_chr = genes_chr.sort_values(\"start_position\")"
   ]
  },
  {
   "cell_type": "code",
   "execution_count": 27,
   "id": "a38aa74a-8ad3-47f6-8ef9-56be0e011774",
   "metadata": {
    "execution": {
     "iopub.execute_input": "2022-12-05T17:14:42.098868Z",
     "iopub.status.busy": "2022-12-05T17:14:42.098400Z",
     "iopub.status.idle": "2022-12-05T17:14:42.120551Z",
     "shell.execute_reply": "2022-12-05T17:14:42.119864Z"
    },
    "papermill": {
     "duration": 0.03526,
     "end_time": "2022-12-05T17:14:42.122015",
     "exception": false,
     "start_time": "2022-12-05T17:14:42.086755",
     "status": "completed"
    },
    "tags": []
   },
   "outputs": [],
   "source": [
    "gene_chr_objs = [Gene(ensembl_id=gene_id) for gene_id in genes_chr[\"id\"]]"
   ]
  },
  {
   "cell_type": "code",
   "execution_count": 28,
   "id": "570f974f-13c3-42b6-ad3a-ce99ca885c1a",
   "metadata": {
    "execution": {
     "iopub.execute_input": "2022-12-05T17:14:42.145599Z",
     "iopub.status.busy": "2022-12-05T17:14:42.145154Z",
     "iopub.status.idle": "2022-12-05T17:14:42.167014Z",
     "shell.execute_reply": "2022-12-05T17:14:42.166379Z"
    },
    "papermill": {
     "duration": 0.035084,
     "end_time": "2022-12-05T17:14:42.168671",
     "exception": false,
     "start_time": "2022-12-05T17:14:42.133587",
     "status": "completed"
    },
    "tags": []
   },
   "outputs": [
    {
     "name": "stdout",
     "output_type": "stream",
     "text": [
      "Number of gene combinations: 14535\n"
     ]
    }
   ],
   "source": [
    "n = len(gene_chr_objs)\n",
    "# diagonal elements + upper triangular matrix\n",
    "n_comb = n + int(n * (n - 1) / 2.0)\n",
    "print(f\"Number of gene combinations: {n_comb}\", flush=True)"
   ]
  },
  {
   "cell_type": "code",
   "execution_count": 29,
   "id": "cdbb90a1",
   "metadata": {
    "execution": {
     "iopub.execute_input": "2022-12-05T17:14:42.193217Z",
     "iopub.status.busy": "2022-12-05T17:14:42.192802Z",
     "iopub.status.idle": "2022-12-05T17:18:25.093695Z",
     "shell.execute_reply": "2022-12-05T17:18:25.093186Z"
    },
    "papermill": {
     "duration": 222.914607,
     "end_time": "2022-12-05T17:18:25.094993",
     "exception": false,
     "start_time": "2022-12-05T17:14:42.180386",
     "status": "completed"
    },
    "tags": []
   },
   "outputs": [
    {
     "name": "stderr",
     "output_type": "stream",
     "text": [
      "ENSG00000251322 / ENSG00000251322: 100%|██████████████████████| 14535/14535 [03:42<00:00, 65.22it/s]\n"
     ]
    },
    {
     "data": {
      "text/plain": [
       "PosixPath('/opt/data/projects/asthma-copd/results/gls_phenoplier/gene_corrs/copd_only/by_chr/gene_corrs-chr22.pkl')"
      ]
     },
     "metadata": {},
     "output_type": "display_data"
    }
   ],
   "source": [
    "gene_corrs = []\n",
    "gene_corrs_data = np.full(\n",
    "    (n, n),\n",
    "    np.nan,\n",
    "    dtype=np.float64,\n",
    ")\n",
    "\n",
    "i = 0\n",
    "with tqdm(ncols=100, total=n_comb) as pbar:\n",
    "    for gene1_idx in range(0, len(gene_chr_objs)):\n",
    "        gene1_obj = gene_chr_objs[gene1_idx]\n",
    "        gene1_tissues = spredixcan_genes_models.loc[gene1_obj.ensembl_id, \"tissue\"]\n",
    "\n",
    "        for gene2_idx in range(gene1_idx, len(gene_chr_objs)):\n",
    "            gene2_obj = gene_chr_objs[gene2_idx]\n",
    "            gene2_tissues = spredixcan_genes_models.loc[gene2_obj.ensembl_id, \"tissue\"]\n",
    "\n",
    "            pbar.set_description(f\"{gene1_obj.ensembl_id} / {gene2_obj.ensembl_id}\")\n",
    "\n",
    "            try:\n",
    "                r = gene1_obj.get_ssm_correlation(\n",
    "                    other_gene=gene2_obj,\n",
    "                    tissues=gene1_tissues,\n",
    "                    other_tissues=gene2_tissues,\n",
    "                    snps_subset=gwas_variants_ids_set,\n",
    "                    condition_number=SMULTIXCAN_CONDITION_NUMBER,\n",
    "                    reference_panel=REFERENCE_PANEL,\n",
    "                    model_type=EQTL_MODEL,\n",
    "                    use_within_distance=COMPUTE_CORRELATIONS_WITHIN_DISTANCE,\n",
    "                )\n",
    "\n",
    "                if r is None:\n",
    "                    # if r is None, it's very likely because:\n",
    "                    #  * one of the genes has no prediction models\n",
    "                    #  * all the SNPs predictors for the gene are not present in the reference\n",
    "                    #    panel\n",
    "\n",
    "                    r = 0.0\n",
    "\n",
    "                gene_corrs.append(r)\n",
    "\n",
    "                gene_corrs_data[gene1_idx, gene2_idx] = r\n",
    "                gene_corrs_data[gene2_idx, gene1_idx] = r\n",
    "            except Warning as e:\n",
    "                if not DEBUG_MODE:\n",
    "                    raise e\n",
    "\n",
    "                print(\n",
    "                    f\"RuntimeWarning for genes {gene1_obj.ensembl_id} and {gene2_obj.ensembl_id}\",\n",
    "                    flush=True,\n",
    "                )\n",
    "                print(traceback.format_exc(), flush=True)\n",
    "\n",
    "                gene_corrs.append(np.nan)\n",
    "            except Exception as e:\n",
    "                if not DEBUG_MODE:\n",
    "                    raise e\n",
    "\n",
    "                print(\n",
    "                    f\"Exception for genes {gene1_obj.ensembl_id} and {gene2_obj.ensembl_id}\",\n",
    "                    flush=True,\n",
    "                )\n",
    "                print(traceback.format_exc(), flush=True)\n",
    "\n",
    "                gene_corrs.append(np.nan)\n",
    "\n",
    "            pbar.update(1)\n",
    "\n",
    "# create a pandas series\n",
    "gene_corrs_flat = pd.Series(gene_corrs)\n",
    "\n",
    "# save\n",
    "# FIXME: consider saving only the condenced matrix here. See here for\n",
    "# more details: https://github.com/greenelab/phenoplier/pull/38#discussion_r634600813\n",
    "# gene_corrs_data = squareform(np.array(gene_corrs, dtype=np.float64))\n",
    "# np.fill_diagonal(gene_corrs_data, 1.0)\n",
    "\n",
    "gene_chr_ids = [g.ensembl_id for g in gene_chr_objs]\n",
    "gene_corrs_df = pd.DataFrame(\n",
    "    data=gene_corrs_data,\n",
    "    index=gene_chr_ids,\n",
    "    columns=gene_chr_ids,\n",
    ")\n",
    "\n",
    "output_dir.mkdir(exist_ok=True, parents=True)\n",
    "display(output_file)\n",
    "\n",
    "gene_corrs_df.to_pickle(output_file)"
   ]
  },
  {
   "cell_type": "markdown",
   "id": "faa67b51-5373-470f-aa72-2ded53fa6dfe",
   "metadata": {
    "papermill": {
     "duration": 0.485841,
     "end_time": "2022-12-05T17:18:26.090162",
     "exception": false,
     "start_time": "2022-12-05T17:18:25.604321",
     "status": "completed"
    },
    "tags": []
   },
   "source": [
    "# Testing"
   ]
  },
  {
   "cell_type": "code",
   "execution_count": 30,
   "id": "14f7d046-4b55-4896-a56b-990127bcc388",
   "metadata": {
    "execution": {
     "iopub.execute_input": "2022-12-05T17:18:27.011687Z",
     "iopub.status.busy": "2022-12-05T17:18:27.010978Z",
     "iopub.status.idle": "2022-12-05T17:18:27.032176Z",
     "shell.execute_reply": "2022-12-05T17:18:27.031607Z"
    },
    "papermill": {
     "duration": 0.510327,
     "end_time": "2022-12-05T17:18:27.033114",
     "exception": false,
     "start_time": "2022-12-05T17:18:26.522787",
     "status": "completed"
    },
    "tags": []
   },
   "outputs": [
    {
     "data": {
      "text/plain": [
       "(170, 170)"
      ]
     },
     "execution_count": 30,
     "metadata": {},
     "output_type": "execute_result"
    }
   ],
   "source": [
    "gene_corrs_df.shape"
   ]
  },
  {
   "cell_type": "code",
   "execution_count": 31,
   "id": "c7d15414-3297-4537-a7c6-7588c0baeb75",
   "metadata": {
    "execution": {
     "iopub.execute_input": "2022-12-05T17:18:27.943217Z",
     "iopub.status.busy": "2022-12-05T17:18:27.942809Z",
     "iopub.status.idle": "2022-12-05T17:18:27.984140Z",
     "shell.execute_reply": "2022-12-05T17:18:27.983604Z"
    },
    "papermill": {
     "duration": 0.484779,
     "end_time": "2022-12-05T17:18:27.985077",
     "exception": false,
     "start_time": "2022-12-05T17:18:27.500298",
     "status": "completed"
    },
    "tags": []
   },
   "outputs": [
    {
     "data": {
      "text/html": [
       "<div>\n",
       "<style scoped>\n",
       "    .dataframe tbody tr th:only-of-type {\n",
       "        vertical-align: middle;\n",
       "    }\n",
       "\n",
       "    .dataframe tbody tr th {\n",
       "        vertical-align: top;\n",
       "    }\n",
       "\n",
       "    .dataframe thead th {\n",
       "        text-align: right;\n",
       "    }\n",
       "</style>\n",
       "<table border=\"1\" class=\"dataframe\">\n",
       "  <thead>\n",
       "    <tr style=\"text-align: right;\">\n",
       "      <th></th>\n",
       "      <th>ENSG00000177663</th>\n",
       "      <th>ENSG00000131100</th>\n",
       "      <th>ENSG00000099968</th>\n",
       "      <th>ENSG00000015475</th>\n",
       "      <th>ENSG00000243156</th>\n",
       "      <th>ENSG00000215193</th>\n",
       "      <th>ENSG00000183785</th>\n",
       "      <th>ENSG00000184979</th>\n",
       "      <th>ENSG00000100033</th>\n",
       "      <th>ENSG00000100075</th>\n",
       "      <th>...</th>\n",
       "      <th>ENSG00000196576</th>\n",
       "      <th>ENSG00000128165</th>\n",
       "      <th>ENSG00000100253</th>\n",
       "      <th>ENSG00000130489</th>\n",
       "      <th>ENSG00000025708</th>\n",
       "      <th>ENSG00000205560</th>\n",
       "      <th>ENSG00000100288</th>\n",
       "      <th>ENSG00000008735</th>\n",
       "      <th>ENSG00000100299</th>\n",
       "      <th>ENSG00000251322</th>\n",
       "    </tr>\n",
       "  </thead>\n",
       "  <tbody>\n",
       "    <tr>\n",
       "      <th>ENSG00000177663</th>\n",
       "      <td>1.000000</td>\n",
       "      <td>0.003816</td>\n",
       "      <td>0.006914</td>\n",
       "      <td>0.006409</td>\n",
       "      <td>0.005393</td>\n",
       "      <td>0.009169</td>\n",
       "      <td>0.011137</td>\n",
       "      <td>0.008212</td>\n",
       "      <td>0.005694</td>\n",
       "      <td>0.002630</td>\n",
       "      <td>...</td>\n",
       "      <td>0.0</td>\n",
       "      <td>0.0</td>\n",
       "      <td>0.0</td>\n",
       "      <td>0.0</td>\n",
       "      <td>0.0</td>\n",
       "      <td>0.0</td>\n",
       "      <td>0.0</td>\n",
       "      <td>0.0</td>\n",
       "      <td>0.0</td>\n",
       "      <td>0.0</td>\n",
       "    </tr>\n",
       "    <tr>\n",
       "      <th>ENSG00000131100</th>\n",
       "      <td>0.003816</td>\n",
       "      <td>1.000000</td>\n",
       "      <td>0.542060</td>\n",
       "      <td>0.258362</td>\n",
       "      <td>0.008517</td>\n",
       "      <td>0.003627</td>\n",
       "      <td>0.005205</td>\n",
       "      <td>0.003596</td>\n",
       "      <td>0.008233</td>\n",
       "      <td>0.005908</td>\n",
       "      <td>...</td>\n",
       "      <td>0.0</td>\n",
       "      <td>0.0</td>\n",
       "      <td>0.0</td>\n",
       "      <td>0.0</td>\n",
       "      <td>0.0</td>\n",
       "      <td>0.0</td>\n",
       "      <td>0.0</td>\n",
       "      <td>0.0</td>\n",
       "      <td>0.0</td>\n",
       "      <td>0.0</td>\n",
       "    </tr>\n",
       "    <tr>\n",
       "      <th>ENSG00000099968</th>\n",
       "      <td>0.006914</td>\n",
       "      <td>0.542060</td>\n",
       "      <td>1.000000</td>\n",
       "      <td>0.393204</td>\n",
       "      <td>0.017352</td>\n",
       "      <td>0.006770</td>\n",
       "      <td>0.010656</td>\n",
       "      <td>0.006111</td>\n",
       "      <td>0.011148</td>\n",
       "      <td>0.008450</td>\n",
       "      <td>...</td>\n",
       "      <td>0.0</td>\n",
       "      <td>0.0</td>\n",
       "      <td>0.0</td>\n",
       "      <td>0.0</td>\n",
       "      <td>0.0</td>\n",
       "      <td>0.0</td>\n",
       "      <td>0.0</td>\n",
       "      <td>0.0</td>\n",
       "      <td>0.0</td>\n",
       "      <td>0.0</td>\n",
       "    </tr>\n",
       "    <tr>\n",
       "      <th>ENSG00000015475</th>\n",
       "      <td>0.006409</td>\n",
       "      <td>0.258362</td>\n",
       "      <td>0.393204</td>\n",
       "      <td>1.000000</td>\n",
       "      <td>0.023707</td>\n",
       "      <td>0.013641</td>\n",
       "      <td>0.012742</td>\n",
       "      <td>0.009202</td>\n",
       "      <td>0.012669</td>\n",
       "      <td>0.003952</td>\n",
       "      <td>...</td>\n",
       "      <td>0.0</td>\n",
       "      <td>0.0</td>\n",
       "      <td>0.0</td>\n",
       "      <td>0.0</td>\n",
       "      <td>0.0</td>\n",
       "      <td>0.0</td>\n",
       "      <td>0.0</td>\n",
       "      <td>0.0</td>\n",
       "      <td>0.0</td>\n",
       "      <td>0.0</td>\n",
       "    </tr>\n",
       "    <tr>\n",
       "      <th>ENSG00000243156</th>\n",
       "      <td>0.005393</td>\n",
       "      <td>0.008517</td>\n",
       "      <td>0.017352</td>\n",
       "      <td>0.023707</td>\n",
       "      <td>1.000000</td>\n",
       "      <td>0.041902</td>\n",
       "      <td>0.025743</td>\n",
       "      <td>0.021465</td>\n",
       "      <td>0.012505</td>\n",
       "      <td>0.004385</td>\n",
       "      <td>...</td>\n",
       "      <td>0.0</td>\n",
       "      <td>0.0</td>\n",
       "      <td>0.0</td>\n",
       "      <td>0.0</td>\n",
       "      <td>0.0</td>\n",
       "      <td>0.0</td>\n",
       "      <td>0.0</td>\n",
       "      <td>0.0</td>\n",
       "      <td>0.0</td>\n",
       "      <td>0.0</td>\n",
       "    </tr>\n",
       "  </tbody>\n",
       "</table>\n",
       "<p>5 rows × 170 columns</p>\n",
       "</div>"
      ],
      "text/plain": [
       "                 ENSG00000177663  ENSG00000131100  ENSG00000099968  \\\n",
       "ENSG00000177663         1.000000         0.003816         0.006914   \n",
       "ENSG00000131100         0.003816         1.000000         0.542060   \n",
       "ENSG00000099968         0.006914         0.542060         1.000000   \n",
       "ENSG00000015475         0.006409         0.258362         0.393204   \n",
       "ENSG00000243156         0.005393         0.008517         0.017352   \n",
       "\n",
       "                 ENSG00000015475  ENSG00000243156  ENSG00000215193  \\\n",
       "ENSG00000177663         0.006409         0.005393         0.009169   \n",
       "ENSG00000131100         0.258362         0.008517         0.003627   \n",
       "ENSG00000099968         0.393204         0.017352         0.006770   \n",
       "ENSG00000015475         1.000000         0.023707         0.013641   \n",
       "ENSG00000243156         0.023707         1.000000         0.041902   \n",
       "\n",
       "                 ENSG00000183785  ENSG00000184979  ENSG00000100033  \\\n",
       "ENSG00000177663         0.011137         0.008212         0.005694   \n",
       "ENSG00000131100         0.005205         0.003596         0.008233   \n",
       "ENSG00000099968         0.010656         0.006111         0.011148   \n",
       "ENSG00000015475         0.012742         0.009202         0.012669   \n",
       "ENSG00000243156         0.025743         0.021465         0.012505   \n",
       "\n",
       "                 ENSG00000100075  ...  ENSG00000196576  ENSG00000128165  \\\n",
       "ENSG00000177663         0.002630  ...              0.0              0.0   \n",
       "ENSG00000131100         0.005908  ...              0.0              0.0   \n",
       "ENSG00000099968         0.008450  ...              0.0              0.0   \n",
       "ENSG00000015475         0.003952  ...              0.0              0.0   \n",
       "ENSG00000243156         0.004385  ...              0.0              0.0   \n",
       "\n",
       "                 ENSG00000100253  ENSG00000130489  ENSG00000025708  \\\n",
       "ENSG00000177663              0.0              0.0              0.0   \n",
       "ENSG00000131100              0.0              0.0              0.0   \n",
       "ENSG00000099968              0.0              0.0              0.0   \n",
       "ENSG00000015475              0.0              0.0              0.0   \n",
       "ENSG00000243156              0.0              0.0              0.0   \n",
       "\n",
       "                 ENSG00000205560  ENSG00000100288  ENSG00000008735  \\\n",
       "ENSG00000177663              0.0              0.0              0.0   \n",
       "ENSG00000131100              0.0              0.0              0.0   \n",
       "ENSG00000099968              0.0              0.0              0.0   \n",
       "ENSG00000015475              0.0              0.0              0.0   \n",
       "ENSG00000243156              0.0              0.0              0.0   \n",
       "\n",
       "                 ENSG00000100299  ENSG00000251322  \n",
       "ENSG00000177663              0.0              0.0  \n",
       "ENSG00000131100              0.0              0.0  \n",
       "ENSG00000099968              0.0              0.0  \n",
       "ENSG00000015475              0.0              0.0  \n",
       "ENSG00000243156              0.0              0.0  \n",
       "\n",
       "[5 rows x 170 columns]"
      ]
     },
     "execution_count": 31,
     "metadata": {},
     "output_type": "execute_result"
    }
   ],
   "source": [
    "gene_corrs_df.head()"
   ]
  },
  {
   "cell_type": "markdown",
   "id": "dad6603f-01c6-41fb-a6f6-241051207dd8",
   "metadata": {
    "papermill": {
     "duration": 0.469869,
     "end_time": "2022-12-05T17:18:28.918795",
     "exception": false,
     "start_time": "2022-12-05T17:18:28.448926",
     "status": "completed"
    },
    "tags": []
   },
   "source": [
    "## Standard checks and stats"
   ]
  },
  {
   "cell_type": "code",
   "execution_count": 32,
   "id": "286686af-1b7b-4440-8453-6bdcbd8de19c",
   "metadata": {
    "execution": {
     "iopub.execute_input": "2022-12-05T17:18:29.852677Z",
     "iopub.status.busy": "2022-12-05T17:18:29.851778Z",
     "iopub.status.idle": "2022-12-05T17:18:29.881333Z",
     "shell.execute_reply": "2022-12-05T17:18:29.880360Z"
    },
    "papermill": {
     "duration": 0.535598,
     "end_time": "2022-12-05T17:18:29.882601",
     "exception": false,
     "start_time": "2022-12-05T17:18:29.347003",
     "status": "completed"
    },
    "tags": []
   },
   "outputs": [],
   "source": [
    "assert not gene_corrs_df.isna().any(axis=None)"
   ]
  },
  {
   "cell_type": "code",
   "execution_count": 33,
   "id": "00583efc-7068-4270-ad1e-4a418e91db96",
   "metadata": {
    "execution": {
     "iopub.execute_input": "2022-12-05T17:18:30.872306Z",
     "iopub.status.busy": "2022-12-05T17:18:30.871829Z",
     "iopub.status.idle": "2022-12-05T17:18:30.899958Z",
     "shell.execute_reply": "2022-12-05T17:18:30.899313Z"
    },
    "papermill": {
     "duration": 0.52836,
     "end_time": "2022-12-05T17:18:30.900946",
     "exception": false,
     "start_time": "2022-12-05T17:18:30.372586",
     "status": "completed"
    },
    "tags": []
   },
   "outputs": [
    {
     "data": {
      "text/plain": [
       "0.0"
      ]
     },
     "metadata": {},
     "output_type": "display_data"
    }
   ],
   "source": [
    "_min_val = gene_corrs_df.min().min()\n",
    "display(_min_val)\n",
    "assert _min_val >= -0.05"
   ]
  },
  {
   "cell_type": "code",
   "execution_count": 34,
   "id": "d04fb2cf-1050-475b-b855-f5f7cc04092b",
   "metadata": {
    "execution": {
     "iopub.execute_input": "2022-12-05T17:18:31.951413Z",
     "iopub.status.busy": "2022-12-05T17:18:31.950939Z",
     "iopub.status.idle": "2022-12-05T17:18:31.978634Z",
     "shell.execute_reply": "2022-12-05T17:18:31.977869Z"
    },
    "papermill": {
     "duration": 0.565051,
     "end_time": "2022-12-05T17:18:31.979588",
     "exception": false,
     "start_time": "2022-12-05T17:18:31.414537",
     "status": "completed"
    },
    "tags": []
   },
   "outputs": [
    {
     "data": {
      "text/plain": [
       "1.0000000000000033"
      ]
     },
     "metadata": {},
     "output_type": "display_data"
    }
   ],
   "source": [
    "_max_val = gene_corrs_df.max().max()  # this captures the diagonal\n",
    "display(_max_val)\n",
    "assert _max_val <= 1.05"
   ]
  },
  {
   "cell_type": "code",
   "execution_count": 35,
   "id": "fe283586-c348-40e0-8841-f6d97bfb021c",
   "metadata": {
    "execution": {
     "iopub.execute_input": "2022-12-05T17:18:32.967595Z",
     "iopub.status.busy": "2022-12-05T17:18:32.967147Z",
     "iopub.status.idle": "2022-12-05T17:18:32.997745Z",
     "shell.execute_reply": "2022-12-05T17:18:32.997078Z"
    },
    "papermill": {
     "duration": 0.556067,
     "end_time": "2022-12-05T17:18:32.998822",
     "exception": false,
     "start_time": "2022-12-05T17:18:32.442755",
     "status": "completed"
    },
    "tags": []
   },
   "outputs": [
    {
     "data": {
      "text/plain": [
       "count    14535.000000\n",
       "mean         0.018366\n",
       "std          0.114258\n",
       "min          0.000000\n",
       "25%          0.000000\n",
       "50%          0.000000\n",
       "75%          0.002881\n",
       "max          1.000000\n",
       "dtype: float64"
      ]
     },
     "execution_count": 35,
     "metadata": {},
     "output_type": "execute_result"
    }
   ],
   "source": [
    "gene_corrs_flat.describe()"
   ]
  },
  {
   "cell_type": "code",
   "execution_count": 36,
   "id": "b3815678-0f93-4b35-897b-a9d047a2aa78",
   "metadata": {
    "execution": {
     "iopub.execute_input": "2022-12-05T17:18:33.992218Z",
     "iopub.status.busy": "2022-12-05T17:18:33.991497Z",
     "iopub.status.idle": "2022-12-05T17:18:34.019463Z",
     "shell.execute_reply": "2022-12-05T17:18:34.018956Z"
    },
    "papermill": {
     "duration": 0.526879,
     "end_time": "2022-12-05T17:18:34.020291",
     "exception": false,
     "start_time": "2022-12-05T17:18:33.493412",
     "status": "completed"
    },
    "tags": []
   },
   "outputs": [
    {
     "data": {
      "text/plain": [
       "0.00    0.000000\n",
       "0.05    0.000000\n",
       "0.10    0.000000\n",
       "0.15    0.000000\n",
       "0.20    0.000000\n",
       "0.25    0.000000\n",
       "0.30    0.000000\n",
       "0.35    0.000000\n",
       "0.40    0.000000\n",
       "0.45    0.000000\n",
       "0.50    0.000000\n",
       "0.55    0.000000\n",
       "0.60    0.000000\n",
       "0.65    0.000000\n",
       "0.70    0.000000\n",
       "0.75    0.002881\n",
       "0.80    0.004779\n",
       "0.85    0.006512\n",
       "0.90    0.008588\n",
       "0.95    0.014374\n",
       "dtype: float64"
      ]
     },
     "metadata": {},
     "output_type": "display_data"
    }
   ],
   "source": [
    "gene_corrs_quantiles = gene_corrs_flat.quantile(np.arange(0, 1, 0.05))\n",
    "display(gene_corrs_quantiles)"
   ]
  },
  {
   "cell_type": "markdown",
   "id": "87134509-b145-4a10-8bc9-b7e914c2b0fa",
   "metadata": {
    "papermill": {
     "duration": 0.497571,
     "end_time": "2022-12-05T17:18:34.961875",
     "exception": false,
     "start_time": "2022-12-05T17:18:34.464304",
     "status": "completed"
    },
    "tags": []
   },
   "source": [
    "## Positive definiteness"
   ]
  },
  {
   "cell_type": "code",
   "execution_count": 37,
   "id": "07d9a9a1-a4f7-48aa-b916-6d42a8cc6186",
   "metadata": {
    "execution": {
     "iopub.execute_input": "2022-12-05T17:18:35.898532Z",
     "iopub.status.busy": "2022-12-05T17:18:35.897834Z",
     "iopub.status.idle": "2022-12-05T17:18:35.929645Z",
     "shell.execute_reply": "2022-12-05T17:18:35.929165Z"
    },
    "papermill": {
     "duration": 0.525171,
     "end_time": "2022-12-05T17:18:35.930443",
     "exception": false,
     "start_time": "2022-12-05T17:18:35.405272",
     "status": "completed"
    },
    "tags": []
   },
   "outputs": [
    {
     "data": {
      "text/plain": [
       "0"
      ]
     },
     "metadata": {},
     "output_type": "display_data"
    },
    {
     "data": {
      "text/plain": [
       "array([], dtype=float64)"
      ]
     },
     "metadata": {},
     "output_type": "display_data"
    }
   ],
   "source": [
    "# print negative eigenvalues\n",
    "eigs = np.linalg.eigvals(gene_corrs_df.to_numpy())\n",
    "display(len(eigs[eigs < 0]))\n",
    "display(eigs[eigs < 0])"
   ]
  },
  {
   "cell_type": "code",
   "execution_count": 38,
   "id": "6e218436-c3c5-4028-8c94-a4fa6260efce",
   "metadata": {
    "execution": {
     "iopub.execute_input": "2022-12-05T17:18:36.877650Z",
     "iopub.status.busy": "2022-12-05T17:18:36.876993Z",
     "iopub.status.idle": "2022-12-05T17:18:36.903905Z",
     "shell.execute_reply": "2022-12-05T17:18:36.903337Z"
    },
    "papermill": {
     "duration": 0.478697,
     "end_time": "2022-12-05T17:18:36.904752",
     "exception": false,
     "start_time": "2022-12-05T17:18:36.426055",
     "status": "completed"
    },
    "tags": []
   },
   "outputs": [
    {
     "name": "stdout",
     "output_type": "stream",
     "text": [
      "Works!\n"
     ]
    }
   ],
   "source": [
    "try:\n",
    "    chol_mat = np.linalg.cholesky(gene_corrs_df.to_numpy())\n",
    "    cov_inv = np.linalg.inv(chol_mat)\n",
    "    print(\"Works!\")\n",
    "except Exception as e:\n",
    "    print(f\"Cholesky decomposition failed: {str(e)}\")"
   ]
  },
  {
   "cell_type": "code",
   "execution_count": 39,
   "id": "dd8827fb-faf9-4c7c-9454-015e94752706",
   "metadata": {
    "execution": {
     "iopub.execute_input": "2022-12-05T17:18:37.827209Z",
     "iopub.status.busy": "2022-12-05T17:18:37.826845Z",
     "iopub.status.idle": "2022-12-05T17:18:37.852683Z",
     "shell.execute_reply": "2022-12-05T17:18:37.852125Z"
    },
    "papermill": {
     "duration": 0.484143,
     "end_time": "2022-12-05T17:18:37.853579",
     "exception": false,
     "start_time": "2022-12-05T17:18:37.369436",
     "status": "completed"
    },
    "tags": []
   },
   "outputs": [
    {
     "name": "stdout",
     "output_type": "stream",
     "text": [
      "Works!\n"
     ]
    }
   ],
   "source": [
    "try:\n",
    "    # decomposition used by statsmodels.GLS\n",
    "    cholsigmainv = np.linalg.cholesky(np.linalg.inv(gene_corrs_df.to_numpy())).T\n",
    "    print(\"Works!\")\n",
    "except Exception as e:\n",
    "    print(f\"Cholesky decomposition failed (statsmodels.GLS): {str(e)}\")"
   ]
  },
  {
   "cell_type": "markdown",
   "id": "8e60a080-edb2-4e9c-b2ef-22961693200c",
   "metadata": {
    "papermill": {
     "duration": 0.424957,
     "end_time": "2022-12-05T17:18:38.743321",
     "exception": false,
     "start_time": "2022-12-05T17:18:38.318364",
     "status": "completed"
    },
    "tags": []
   },
   "source": [
    "## Plot: distribution"
   ]
  },
  {
   "cell_type": "code",
   "execution_count": 40,
   "id": "8301126b-a7d4-4744-9c7d-f0f86eb6f54c",
   "metadata": {
    "execution": {
     "iopub.execute_input": "2022-12-05T17:18:39.733602Z",
     "iopub.status.busy": "2022-12-05T17:18:39.733408Z",
     "iopub.status.idle": "2022-12-05T17:18:46.764495Z",
     "shell.execute_reply": "2022-12-05T17:18:46.763911Z"
    },
    "papermill": {
     "duration": 7.558966,
     "end_time": "2022-12-05T17:18:46.765631",
     "exception": false,
     "start_time": "2022-12-05T17:18:39.206665",
     "status": "completed"
    },
    "tags": []
   },
   "outputs": [
    {
     "data": {
      "image/png": "[encoded data removed]",
      "text/plain": [
       "<Figure size 700x700 with 1 Axes>"
      ]
     },
     "metadata": {},
     "output_type": "display_data"
    }
   ],
   "source": [
    "with sns.plotting_context(\"paper\", font_scale=1.5):\n",
    "    g = sns.displot(gene_corrs_flat, kde=True, height=7)\n",
    "    g.ax.set_title(\n",
    "        f\"Distribution of gene correlation values in chromosome {CHROMOSOME}\"\n",
    "    )"
   ]
  },
  {
   "cell_type": "markdown",
   "id": "cbd52bca-d878-4a2f-b684-5c83aa3038d4",
   "metadata": {
    "papermill": {
     "duration": 0.458162,
     "end_time": "2022-12-05T17:18:47.656072",
     "exception": false,
     "start_time": "2022-12-05T17:18:47.197910",
     "status": "completed"
    },
    "tags": []
   },
   "source": [
    "## Plot: heatmap"
   ]
  },
  {
   "cell_type": "code",
   "execution_count": 41,
   "id": "d03fe63a-c7b2-4fb9-a53c-db362ce843c9",
   "metadata": {
    "execution": {
     "iopub.execute_input": "2022-12-05T17:18:48.538914Z",
     "iopub.status.busy": "2022-12-05T17:18:48.538672Z",
     "iopub.status.idle": "2022-12-05T17:18:48.558130Z",
     "shell.execute_reply": "2022-12-05T17:18:48.557617Z"
    },
    "papermill": {
     "duration": 0.483452,
     "end_time": "2022-12-05T17:18:48.559013",
     "exception": false,
     "start_time": "2022-12-05T17:18:48.075561",
     "status": "completed"
    },
    "tags": []
   },
   "outputs": [
    {
     "data": {
      "text/plain": [
       "'0.0 / 0.05'"
      ]
     },
     "metadata": {},
     "output_type": "display_data"
    }
   ],
   "source": [
    "vmin_val = min(0.00, gene_corrs_quantiles[0.10])\n",
    "vmax_val = max(0.05, gene_corrs_quantiles[0.90])\n",
    "display(f\"{vmin_val} / {vmax_val}\")"
   ]
  },
  {
   "cell_type": "code",
   "execution_count": 42,
   "id": "dc41b70b-5bcc-4d9e-9f33-a22c4a94dab5",
   "metadata": {
    "execution": {
     "iopub.execute_input": "2022-12-05T17:18:49.445774Z",
     "iopub.status.busy": "2022-12-05T17:18:49.445491Z",
     "iopub.status.idle": "2022-12-05T17:18:49.630558Z",
     "shell.execute_reply": "2022-12-05T17:18:49.629991Z"
    },
    "papermill": {
     "duration": 0.615954,
     "end_time": "2022-12-05T17:18:49.631388",
     "exception": false,
     "start_time": "2022-12-05T17:18:49.015434",
     "status": "completed"
    },
    "tags": []
   },
   "outputs": [
    {
     "data": {
      "text/plain": [
       "Text(0.5, 1.0, 'Gene correlations in chromosome 22')"
      ]
     },
     "execution_count": 42,
     "metadata": {},
     "output_type": "execute_result"
    },
    {
     "data": {
      "image/png": "[encoded data removed]",
      "text/plain": [
       "<Figure size 1000x1000 with 2 Axes>"
      ]
     },
     "metadata": {},
     "output_type": "display_data"
    }
   ],
   "source": [
    "f, ax = plt.subplots(figsize=(10, 10))\n",
    "sns.heatmap(\n",
    "    gene_corrs_df,\n",
    "    xticklabels=False,\n",
    "    yticklabels=False,\n",
    "    square=True,\n",
    "    vmin=vmin_val,\n",
    "    vmax=vmax_val,\n",
    "    cmap=\"rocket_r\",\n",
    "    ax=ax,\n",
    ")\n",
    "ax.set_title(f\"Gene correlations in chromosome {CHROMOSOME}\")"
   ]
  },
  {
   "cell_type": "code",
   "execution_count": null,
   "id": "b25e3ead",
   "metadata": {
    "papermill": {
     "duration": 0.492011,
     "end_time": "2022-12-05T17:18:50.621249",
     "exception": false,
     "start_time": "2022-12-05T17:18:50.129238",
     "status": "completed"
    },
    "tags": []
   },
   "outputs": [],
   "source": []
  }
 ],
 "metadata": {
  "jupytext": {
   "cell_metadata_filter": "all,-execution,-papermill,-trusted",
   "formats": "ipynb,py//py:percent"
  },
  "kernelspec": {
   "display_name": "Python 3 (ipykernel)",
   "language": "python",
   "name": "python3"
  },
  "language_info": {
   "codemirror_mode": {
    "name": "ipython",
    "version": 3
   },
   "file_extension": ".py",
   "mimetype": "text/x-python",
   "name": "python",
   "nbconvert_exporter": "python",
   "pygments_lexer": "ipython3",
   "version": "3.10.6"
  },
  "papermill": {
   "default_parameters": {},
   "duration": 257.643749,
   "end_time": "2022-12-05T17:18:53.806429",
   "environment_variables": {},
   "exception": null,
   "input_path": "projects/asthma-copd/nbs/20_gene_corrs/jobs/05-gene_expr_correlations.ipynb",
   "output_path": "projects/asthma-copd/nbs/20_gene_corrs/jobs/../output/copd_only/05-gene_expr_correlations-chr22.run.ipynb",
   "parameters": {
    "CHROMOSOME": 22,
    "COHORT_NAME": "copd_only",
    "OUTPUT_DIR_BASE": "/opt/data/projects/asthma-copd/results/gls_phenoplier",
    "PHENOPLIER_NOTEBOOK_FILEPATH": "projects/asthma-copd/nbs/20_gene_corrs/jobs/05-gene_expr_correlations.ipynb"
   },
   "start_time": "2022-12-05T17:14:36.162680",
   "version": "2.2.2"
  }
 },
 "nbformat": 4,
 "nbformat_minor": 5
}
