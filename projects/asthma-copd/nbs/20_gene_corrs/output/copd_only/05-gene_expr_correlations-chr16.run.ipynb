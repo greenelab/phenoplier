{
 "cells": [
  {
   "cell_type": "markdown",
   "id": "7a6632fb",
   "metadata": {
    "papermill": {
     "duration": 0.008482,
     "end_time": "2022-12-05T17:10:55.461421",
     "exception": false,
     "start_time": "2022-12-05T17:10:55.452939",
     "status": "completed"
    },
    "tags": []
   },
   "source": [
    "# Description"
   ]
  },
  {
   "cell_type": "markdown",
   "id": "7097c346",
   "metadata": {
    "papermill": {
     "duration": 0.007563,
     "end_time": "2022-12-05T17:10:55.476726",
     "exception": false,
     "start_time": "2022-12-05T17:10:55.469163",
     "status": "completed"
    },
    "tags": []
   },
   "source": [
    "(Please, take a look at the README.md file in this directory for instructions on how to run this notebook)\n",
    "\n",
    "This notebook computes predicted expression correlations between all genes in the MultiPLIER models.\n",
    "\n",
    "It has specicfic parameters for papermill (see under `Settings` below).\n",
    "It can be configured to run on a single chromosome to run in parallel.\n",
    "\n",
    "This notebook is not directly run. See README.md."
   ]
  },
  {
   "cell_type": "markdown",
   "id": "c61d8427",
   "metadata": {
    "papermill": {
     "duration": 0.007994,
     "end_time": "2022-12-05T17:10:55.492352",
     "exception": false,
     "start_time": "2022-12-05T17:10:55.484358",
     "status": "completed"
    },
    "tags": []
   },
   "source": [
    "# Modules"
   ]
  },
  {
   "cell_type": "code",
   "execution_count": 1,
   "id": "bbc0234f",
   "metadata": {
    "execution": {
     "iopub.execute_input": "2022-12-05T17:10:55.509868Z",
     "iopub.status.busy": "2022-12-05T17:10:55.509386Z",
     "iopub.status.idle": "2022-12-05T17:10:55.527997Z",
     "shell.execute_reply": "2022-12-05T17:10:55.527401Z"
    },
    "papermill": {
     "duration": 0.028995,
     "end_time": "2022-12-05T17:10:55.529606",
     "exception": false,
     "start_time": "2022-12-05T17:10:55.500611",
     "status": "completed"
    },
    "tags": []
   },
   "outputs": [],
   "source": [
    "%load_ext autoreload\n",
    "%autoreload 2"
   ]
  },
  {
   "cell_type": "code",
   "execution_count": 2,
   "id": "1d5f5a59",
   "metadata": {
    "execution": {
     "iopub.execute_input": "2022-12-05T17:10:55.546735Z",
     "iopub.status.busy": "2022-12-05T17:10:55.546196Z",
     "iopub.status.idle": "2022-12-05T17:10:56.249003Z",
     "shell.execute_reply": "2022-12-05T17:10:56.248443Z"
    },
    "papermill": {
     "duration": 0.71306,
     "end_time": "2022-12-05T17:10:56.250715",
     "exception": false,
     "start_time": "2022-12-05T17:10:55.537655",
     "status": "completed"
    },
    "tags": []
   },
   "outputs": [],
   "source": [
    "from random import sample, seed\n",
    "import warnings\n",
    "from pathlib import Path\n",
    "import pickle\n",
    "import traceback\n",
    "\n",
    "import numpy as np\n",
    "from scipy.spatial.distance import squareform\n",
    "import pandas as pd\n",
    "from tqdm import tqdm\n",
    "import matplotlib.pyplot as plt\n",
    "import seaborn as sns\n",
    "\n",
    "import conf\n",
    "from entity import Gene"
   ]
  },
  {
   "cell_type": "markdown",
   "id": "1eac24b5",
   "metadata": {
    "papermill": {
     "duration": 0.009739,
     "end_time": "2022-12-05T17:10:56.269598",
     "exception": false,
     "start_time": "2022-12-05T17:10:56.259859",
     "status": "completed"
    },
    "tags": []
   },
   "source": [
    "# Settings"
   ]
  },
  {
   "cell_type": "code",
   "execution_count": 3,
   "id": "ca4560ba",
   "metadata": {
    "execution": {
     "iopub.execute_input": "2022-12-05T17:10:56.287870Z",
     "iopub.status.busy": "2022-12-05T17:10:56.287494Z",
     "iopub.status.idle": "2022-12-05T17:10:56.301784Z",
     "shell.execute_reply": "2022-12-05T17:10:56.301286Z"
    },
    "papermill": {
     "duration": 0.025377,
     "end_time": "2022-12-05T17:10:56.303206",
     "exception": false,
     "start_time": "2022-12-05T17:10:56.277829",
     "status": "completed"
    },
    "tags": [
     "parameters"
    ]
   },
   "outputs": [],
   "source": [
    "# a cohort name (it could be something like UK_BIOBANK, etc)\n",
    "COHORT_NAME = None\n",
    "\n",
    "# reference panel such as 1000G or GTEX_V8\n",
    "REFERENCE_PANEL = \"GTEX_V8\"\n",
    "\n",
    "# predictions models such as MASHR or ELASTIC_NET\n",
    "EQTL_MODEL = \"MASHR\"\n",
    "\n",
    "# this is the default value used in S-MultiXcan to select the\n",
    "# top principal components of the expression correlation matrix\n",
    "SMULTIXCAN_CONDITION_NUMBER = 30\n",
    "\n",
    "# specifies a single chromosome value\n",
    "CHROMOSOME = None\n",
    "\n",
    "# If True, computes the correlation between closeby genes only (see\n",
    "# entity.Gene.within_distance for more details). Otherwise, it computes\n",
    "# correlations for all genes in a chromosome\n",
    "COMPUTE_CORRELATIONS_WITHIN_DISTANCE = True\n",
    "\n",
    "# if True, then it will continue if a gene pair correlation fails,\n",
    "# printing the warning/error for debugging. If False, any warning/error\n",
    "# will be thrown\n",
    "DEBUG_MODE = False\n",
    "\n",
    "# output dir\n",
    "OUTPUT_DIR_BASE = None"
   ]
  },
  {
   "cell_type": "code",
   "execution_count": 4,
   "id": "70a1e491",
   "metadata": {
    "execution": {
     "iopub.execute_input": "2022-12-05T17:10:56.320734Z",
     "iopub.status.busy": "2022-12-05T17:10:56.320551Z",
     "iopub.status.idle": "2022-12-05T17:10:56.333092Z",
     "shell.execute_reply": "2022-12-05T17:10:56.332610Z"
    },
    "papermill": {
     "duration": 0.022789,
     "end_time": "2022-12-05T17:10:56.334533",
     "exception": false,
     "start_time": "2022-12-05T17:10:56.311744",
     "status": "completed"
    },
    "tags": [
     "injected-parameters"
    ]
   },
   "outputs": [],
   "source": [
    "# Parameters\n",
    "PHENOPLIER_NOTEBOOK_FILEPATH = (\n",
    "    \"projects/asthma-copd/nbs/20_gene_corrs/jobs/05-gene_expr_correlations.ipynb\"\n",
    ")\n",
    "COHORT_NAME = \"copd_only\"\n",
    "CHROMOSOME = 16\n",
    "OUTPUT_DIR_BASE = \"/opt/data/projects/asthma-copd/results/gls_phenoplier\"\n"
   ]
  },
  {
   "cell_type": "code",
   "execution_count": 5,
   "id": "3190631f-27fc-480f-b18e-571d580425a5",
   "metadata": {
    "execution": {
     "iopub.execute_input": "2022-12-05T17:10:56.352339Z",
     "iopub.status.busy": "2022-12-05T17:10:56.352166Z",
     "iopub.status.idle": "2022-12-05T17:10:56.374922Z",
     "shell.execute_reply": "2022-12-05T17:10:56.374396Z"
    },
    "papermill": {
     "duration": 0.033216,
     "end_time": "2022-12-05T17:10:56.376539",
     "exception": false,
     "start_time": "2022-12-05T17:10:56.343323",
     "status": "completed"
    },
    "tags": []
   },
   "outputs": [
    {
     "data": {
      "text/plain": [
       "'Cohort name: copd_only'"
      ]
     },
     "metadata": {},
     "output_type": "display_data"
    }
   ],
   "source": [
    "assert COHORT_NAME is not None and len(COHORT_NAME) > 0, \"A cohort name must be given\"\n",
    "\n",
    "COHORT_NAME = COHORT_NAME.lower()\n",
    "display(f\"Cohort name: {COHORT_NAME}\")"
   ]
  },
  {
   "cell_type": "code",
   "execution_count": 6,
   "id": "f53ba19b-0f93-4fa2-a047-63b375939d1a",
   "metadata": {
    "execution": {
     "iopub.execute_input": "2022-12-05T17:10:56.396799Z",
     "iopub.status.busy": "2022-12-05T17:10:56.396290Z",
     "iopub.status.idle": "2022-12-05T17:10:56.417409Z",
     "shell.execute_reply": "2022-12-05T17:10:56.416829Z"
    },
    "papermill": {
     "duration": 0.032486,
     "end_time": "2022-12-05T17:10:56.418869",
     "exception": false,
     "start_time": "2022-12-05T17:10:56.386383",
     "status": "completed"
    },
    "tags": []
   },
   "outputs": [
    {
     "data": {
      "text/plain": [
       "'Reference panel: GTEX_V8'"
      ]
     },
     "metadata": {},
     "output_type": "display_data"
    }
   ],
   "source": [
    "assert (\n",
    "    REFERENCE_PANEL is not None and len(REFERENCE_PANEL) > 0\n",
    "), \"A reference panel must be given\"\n",
    "\n",
    "display(f\"Reference panel: {REFERENCE_PANEL}\")"
   ]
  },
  {
   "cell_type": "code",
   "execution_count": 7,
   "id": "e024d130-c139-429a-9c6e-ccf149e297b0",
   "metadata": {
    "execution": {
     "iopub.execute_input": "2022-12-05T17:10:56.436816Z",
     "iopub.status.busy": "2022-12-05T17:10:56.436351Z",
     "iopub.status.idle": "2022-12-05T17:10:56.458213Z",
     "shell.execute_reply": "2022-12-05T17:10:56.457631Z"
    },
    "papermill": {
     "duration": 0.032109,
     "end_time": "2022-12-05T17:10:56.459730",
     "exception": false,
     "start_time": "2022-12-05T17:10:56.427621",
     "status": "completed"
    },
    "tags": []
   },
   "outputs": [
    {
     "data": {
      "text/plain": [
       "'eQTL model: MASHR) / mashr_'"
      ]
     },
     "metadata": {},
     "output_type": "display_data"
    }
   ],
   "source": [
    "assert (\n",
    "    EQTL_MODEL is not None and len(EQTL_MODEL) > 0\n",
    "), \"A prediction/eQTL model must be given\"\n",
    "\n",
    "EQTL_MODEL_FILES_PREFIX = conf.PHENOMEXCAN[\"PREDICTION_MODELS\"][f\"{EQTL_MODEL}_PREFIX\"]\n",
    "display(f\"eQTL model: {EQTL_MODEL}) / {EQTL_MODEL_FILES_PREFIX}\")"
   ]
  },
  {
   "cell_type": "code",
   "execution_count": 8,
   "id": "552a7f63-a18c-4d3e-bb6a-94f99b431291",
   "metadata": {
    "execution": {
     "iopub.execute_input": "2022-12-05T17:10:56.477342Z",
     "iopub.status.busy": "2022-12-05T17:10:56.476983Z",
     "iopub.status.idle": "2022-12-05T17:10:56.498003Z",
     "shell.execute_reply": "2022-12-05T17:10:56.497424Z"
    },
    "papermill": {
     "duration": 0.031395,
     "end_time": "2022-12-05T17:10:56.499497",
     "exception": false,
     "start_time": "2022-12-05T17:10:56.468102",
     "status": "completed"
    },
    "tags": []
   },
   "outputs": [
    {
     "data": {
      "text/plain": [
       "'S-MultiXcan condition number: 30'"
      ]
     },
     "metadata": {},
     "output_type": "display_data"
    }
   ],
   "source": [
    "assert (\n",
    "    SMULTIXCAN_CONDITION_NUMBER is not None and SMULTIXCAN_CONDITION_NUMBER > 0\n",
    "), \"The S-MultiXcan condition number (positive integer) must be given\"\n",
    "\n",
    "display(f\"S-MultiXcan condition number: {SMULTIXCAN_CONDITION_NUMBER}\")"
   ]
  },
  {
   "cell_type": "code",
   "execution_count": 9,
   "id": "f34a336f-548e-4afe-8955-90eaea4f42c6",
   "metadata": {
    "execution": {
     "iopub.execute_input": "2022-12-05T17:10:56.517834Z",
     "iopub.status.busy": "2022-12-05T17:10:56.517479Z",
     "iopub.status.idle": "2022-12-05T17:10:56.538456Z",
     "shell.execute_reply": "2022-12-05T17:10:56.537893Z"
    },
    "papermill": {
     "duration": 0.031946,
     "end_time": "2022-12-05T17:10:56.539943",
     "exception": false,
     "start_time": "2022-12-05T17:10:56.507997",
     "status": "completed"
    },
    "tags": []
   },
   "outputs": [
    {
     "data": {
      "text/plain": [
       "'Working on chromosome 16'"
      ]
     },
     "metadata": {},
     "output_type": "display_data"
    }
   ],
   "source": [
    "assert CHROMOSOME is not None and (\n",
    "    1 <= CHROMOSOME <= 22\n",
    "), \"You have to select one chromosome (format: number between 1 and 22)\"\n",
    "\n",
    "display(f\"Working on chromosome {CHROMOSOME}\")"
   ]
  },
  {
   "cell_type": "code",
   "execution_count": 10,
   "id": "ab8e96e8-06b5-4363-9dcd-dc4d78cc27f7",
   "metadata": {
    "execution": {
     "iopub.execute_input": "2022-12-05T17:10:56.559010Z",
     "iopub.status.busy": "2022-12-05T17:10:56.558470Z",
     "iopub.status.idle": "2022-12-05T17:10:56.579912Z",
     "shell.execute_reply": "2022-12-05T17:10:56.579248Z"
    },
    "papermill": {
     "duration": 0.032889,
     "end_time": "2022-12-05T17:10:56.581525",
     "exception": false,
     "start_time": "2022-12-05T17:10:56.548636",
     "status": "completed"
    },
    "tags": []
   },
   "outputs": [
    {
     "data": {
      "text/plain": [
       "'Compute correlation within distance True'"
      ]
     },
     "metadata": {},
     "output_type": "display_data"
    }
   ],
   "source": [
    "display(f\"Compute correlation within distance {COMPUTE_CORRELATIONS_WITHIN_DISTANCE}\")"
   ]
  },
  {
   "cell_type": "code",
   "execution_count": 11,
   "id": "b393b698-77e3-4ba2-8ac1-e14d51aa988f",
   "metadata": {
    "execution": {
     "iopub.execute_input": "2022-12-05T17:10:56.599779Z",
     "iopub.status.busy": "2022-12-05T17:10:56.599409Z",
     "iopub.status.idle": "2022-12-05T17:10:56.621433Z",
     "shell.execute_reply": "2022-12-05T17:10:56.620797Z"
    },
    "papermill": {
     "duration": 0.03315,
     "end_time": "2022-12-05T17:10:56.623321",
     "exception": false,
     "start_time": "2022-12-05T17:10:56.590171",
     "status": "completed"
    },
    "tags": []
   },
   "outputs": [
    {
     "data": {
      "text/plain": [
       "'Using output dir base: /opt/data/projects/asthma-copd/results/gls_phenoplier/gene_corrs/copd_only'"
      ]
     },
     "metadata": {},
     "output_type": "display_data"
    }
   ],
   "source": [
    "assert (\n",
    "    OUTPUT_DIR_BASE is not None and len(OUTPUT_DIR_BASE) > 0\n",
    "), \"Output directory path must be given\"\n",
    "\n",
    "OUTPUT_DIR_BASE = (Path(OUTPUT_DIR_BASE) / \"gene_corrs\" / COHORT_NAME).resolve()\n",
    "\n",
    "OUTPUT_DIR_BASE.mkdir(parents=True, exist_ok=True)\n",
    "\n",
    "display(f\"Using output dir base: {OUTPUT_DIR_BASE}\")"
   ]
  },
  {
   "cell_type": "markdown",
   "id": "d2ba085e",
   "metadata": {
    "papermill": {
     "duration": 0.010078,
     "end_time": "2022-12-05T17:10:56.644156",
     "exception": false,
     "start_time": "2022-12-05T17:10:56.634078",
     "status": "completed"
    },
    "tags": []
   },
   "source": [
    "# Load data"
   ]
  },
  {
   "cell_type": "markdown",
   "id": "7dcb8db7",
   "metadata": {
    "papermill": {
     "duration": 0.010487,
     "end_time": "2022-12-05T17:10:56.664873",
     "exception": false,
     "start_time": "2022-12-05T17:10:56.654386",
     "status": "completed"
    },
    "tags": []
   },
   "source": [
    "## GWAS variants"
   ]
  },
  {
   "cell_type": "code",
   "execution_count": 12,
   "id": "29434c4e-8cd3-4b9b-82e4-b5a251d9dd19",
   "metadata": {
    "execution": {
     "iopub.execute_input": "2022-12-05T17:10:56.681064Z",
     "iopub.status.busy": "2022-12-05T17:10:56.680807Z",
     "iopub.status.idle": "2022-12-05T17:10:58.720830Z",
     "shell.execute_reply": "2022-12-05T17:10:58.720242Z"
    },
    "papermill": {
     "duration": 2.048067,
     "end_time": "2022-12-05T17:10:58.722687",
     "exception": false,
     "start_time": "2022-12-05T17:10:56.674620",
     "status": "completed"
    },
    "tags": []
   },
   "outputs": [],
   "source": [
    "with open(OUTPUT_DIR_BASE / \"gwas_variant_ids.pkl\", \"rb\") as handle:\n",
    "    gwas_variants_ids_set = pickle.load(handle)"
   ]
  },
  {
   "cell_type": "code",
   "execution_count": 13,
   "id": "b9d9dec2-4a76-4bf9-bde2-e24c95acb8a0",
   "metadata": {
    "execution": {
     "iopub.execute_input": "2022-12-05T17:10:58.744298Z",
     "iopub.status.busy": "2022-12-05T17:10:58.744106Z",
     "iopub.status.idle": "2022-12-05T17:10:58.757736Z",
     "shell.execute_reply": "2022-12-05T17:10:58.757246Z"
    },
    "papermill": {
     "duration": 0.025378,
     "end_time": "2022-12-05T17:10:58.759101",
     "exception": false,
     "start_time": "2022-12-05T17:10:58.733723",
     "status": "completed"
    },
    "tags": []
   },
   "outputs": [
    {
     "data": {
      "text/plain": [
       "8586183"
      ]
     },
     "execution_count": 13,
     "metadata": {},
     "output_type": "execute_result"
    }
   ],
   "source": [
    "len(gwas_variants_ids_set)"
   ]
  },
  {
   "cell_type": "code",
   "execution_count": 14,
   "id": "4235b06a-6034-4ee4-a0a3-2ae35d122418",
   "metadata": {
    "execution": {
     "iopub.execute_input": "2022-12-05T17:10:58.778909Z",
     "iopub.status.busy": "2022-12-05T17:10:58.778743Z",
     "iopub.status.idle": "2022-12-05T17:10:59.167602Z",
     "shell.execute_reply": "2022-12-05T17:10:59.167058Z"
    },
    "papermill": {
     "duration": 0.400314,
     "end_time": "2022-12-05T17:10:59.169121",
     "exception": false,
     "start_time": "2022-12-05T17:10:58.768807",
     "status": "completed"
    },
    "tags": []
   },
   "outputs": [
    {
     "data": {
      "text/plain": [
       "['chr2_134036327_A_C_b38',\n",
       " 'chr13_18933323_T_C_b38',\n",
       " 'chr12_80360967_G_A_b38',\n",
       " 'chr12_61539346_C_A_b38',\n",
       " 'chr10_119091875_C_T_b38']"
      ]
     },
     "execution_count": 14,
     "metadata": {},
     "output_type": "execute_result"
    }
   ],
   "source": [
    "list(gwas_variants_ids_set)[:5]"
   ]
  },
  {
   "cell_type": "markdown",
   "id": "07866999-2305-41f9-a144-e69c9122c212",
   "metadata": {
    "papermill": {
     "duration": 0.009512,
     "end_time": "2022-12-05T17:10:59.188921",
     "exception": false,
     "start_time": "2022-12-05T17:10:59.179409",
     "status": "completed"
    },
    "tags": []
   },
   "source": [
    "## S-PrediXcan tissue models"
   ]
  },
  {
   "cell_type": "code",
   "execution_count": 15,
   "id": "780611d9-77c8-405f-90a4-f271f7b09397",
   "metadata": {
    "execution": {
     "iopub.execute_input": "2022-12-05T17:10:59.208887Z",
     "iopub.status.busy": "2022-12-05T17:10:59.208758Z",
     "iopub.status.idle": "2022-12-05T17:10:59.852554Z",
     "shell.execute_reply": "2022-12-05T17:10:59.851974Z"
    },
    "papermill": {
     "duration": 0.655608,
     "end_time": "2022-12-05T17:10:59.854292",
     "exception": false,
     "start_time": "2022-12-05T17:10:59.198684",
     "status": "completed"
    },
    "tags": []
   },
   "outputs": [],
   "source": [
    "spredixcan_genes_models = pd.read_pickle(OUTPUT_DIR_BASE / \"gene_tissues.pkl\")"
   ]
  },
  {
   "cell_type": "code",
   "execution_count": 16,
   "id": "726dd1f6-9557-4225-91fa-b3b879ea96e1",
   "metadata": {
    "execution": {
     "iopub.execute_input": "2022-12-05T17:10:59.875517Z",
     "iopub.status.busy": "2022-12-05T17:10:59.875315Z",
     "iopub.status.idle": "2022-12-05T17:10:59.889235Z",
     "shell.execute_reply": "2022-12-05T17:10:59.888707Z"
    },
    "papermill": {
     "duration": 0.025816,
     "end_time": "2022-12-05T17:10:59.890692",
     "exception": false,
     "start_time": "2022-12-05T17:10:59.864876",
     "status": "completed"
    },
    "tags": []
   },
   "outputs": [
    {
     "data": {
      "text/plain": [
       "(6443, 5)"
      ]
     },
     "execution_count": 16,
     "metadata": {},
     "output_type": "execute_result"
    }
   ],
   "source": [
    "spredixcan_genes_models.shape"
   ]
  },
  {
   "cell_type": "code",
   "execution_count": 17,
   "id": "944a1b48-222c-4eb0-b252-b9de2cbca215",
   "metadata": {
    "execution": {
     "iopub.execute_input": "2022-12-05T17:10:59.911170Z",
     "iopub.status.busy": "2022-12-05T17:10:59.910909Z",
     "iopub.status.idle": "2022-12-05T17:10:59.928520Z",
     "shell.execute_reply": "2022-12-05T17:10:59.927988Z"
    },
    "papermill": {
     "duration": 0.029345,
     "end_time": "2022-12-05T17:10:59.930001",
     "exception": false,
     "start_time": "2022-12-05T17:10:59.900656",
     "status": "completed"
    },
    "tags": []
   },
   "outputs": [
    {
     "data": {
      "text/html": [
       "<div>\n",
       "<style scoped>\n",
       "    .dataframe tbody tr th:only-of-type {\n",
       "        vertical-align: middle;\n",
       "    }\n",
       "\n",
       "    .dataframe tbody tr th {\n",
       "        vertical-align: top;\n",
       "    }\n",
       "\n",
       "    .dataframe thead th {\n",
       "        text-align: right;\n",
       "    }\n",
       "</style>\n",
       "<table border=\"1\" class=\"dataframe\">\n",
       "  <thead>\n",
       "    <tr style=\"text-align: right;\">\n",
       "      <th></th>\n",
       "      <th>gene_name</th>\n",
       "      <th>tissue</th>\n",
       "      <th>n_tissues</th>\n",
       "      <th>n_snps_used_sum</th>\n",
       "      <th>n_snps_in_model_sum</th>\n",
       "    </tr>\n",
       "    <tr>\n",
       "      <th>gene_id</th>\n",
       "      <th></th>\n",
       "      <th></th>\n",
       "      <th></th>\n",
       "      <th></th>\n",
       "      <th></th>\n",
       "    </tr>\n",
       "  </thead>\n",
       "  <tbody>\n",
       "    <tr>\n",
       "      <th>ENSG00000000419</th>\n",
       "      <td>DPM1</td>\n",
       "      <td>(Brain_Hypothalamus, Brain_Substantia_nigra)</td>\n",
       "      <td>2</td>\n",
       "      <td>2</td>\n",
       "      <td>2</td>\n",
       "    </tr>\n",
       "    <tr>\n",
       "      <th>ENSG00000000938</th>\n",
       "      <td>FGR</td>\n",
       "      <td>(Artery_Tibial, Colon_Sigmoid, Adipose_Viscera...</td>\n",
       "      <td>36</td>\n",
       "      <td>40</td>\n",
       "      <td>40</td>\n",
       "    </tr>\n",
       "    <tr>\n",
       "      <th>ENSG00000000971</th>\n",
       "      <td>CFH</td>\n",
       "      <td>(Artery_Tibial, Colon_Sigmoid, Stomach, Colon_...</td>\n",
       "      <td>34</td>\n",
       "      <td>44</td>\n",
       "      <td>44</td>\n",
       "    </tr>\n",
       "    <tr>\n",
       "      <th>ENSG00000001084</th>\n",
       "      <td>GCLC</td>\n",
       "      <td>(Artery_Tibial, Adrenal_Gland, Brain_Amygdala,...</td>\n",
       "      <td>32</td>\n",
       "      <td>46</td>\n",
       "      <td>46</td>\n",
       "    </tr>\n",
       "    <tr>\n",
       "      <th>ENSG00000001167</th>\n",
       "      <td>NFYA</td>\n",
       "      <td>(Artery_Tibial, Adrenal_Gland, Colon_Sigmoid, ...</td>\n",
       "      <td>40</td>\n",
       "      <td>47</td>\n",
       "      <td>48</td>\n",
       "    </tr>\n",
       "  </tbody>\n",
       "</table>\n",
       "</div>"
      ],
      "text/plain": [
       "                gene_name                                             tissue  \\\n",
       "gene_id                                                                        \n",
       "ENSG00000000419      DPM1       (Brain_Hypothalamus, Brain_Substantia_nigra)   \n",
       "ENSG00000000938       FGR  (Artery_Tibial, Colon_Sigmoid, Adipose_Viscera...   \n",
       "ENSG00000000971       CFH  (Artery_Tibial, Colon_Sigmoid, Stomach, Colon_...   \n",
       "ENSG00000001084      GCLC  (Artery_Tibial, Adrenal_Gland, Brain_Amygdala,...   \n",
       "ENSG00000001167      NFYA  (Artery_Tibial, Adrenal_Gland, Colon_Sigmoid, ...   \n",
       "\n",
       "                 n_tissues  n_snps_used_sum  n_snps_in_model_sum  \n",
       "gene_id                                                           \n",
       "ENSG00000000419          2                2                    2  \n",
       "ENSG00000000938         36               40                   40  \n",
       "ENSG00000000971         34               44                   44  \n",
       "ENSG00000001084         32               46                   46  \n",
       "ENSG00000001167         40               47                   48  "
      ]
     },
     "execution_count": 17,
     "metadata": {},
     "output_type": "execute_result"
    }
   ],
   "source": [
    "spredixcan_genes_models.head()"
   ]
  },
  {
   "cell_type": "code",
   "execution_count": 18,
   "id": "d1c11bb1-be0b-4f40-b360-633d6827109f",
   "metadata": {
    "execution": {
     "iopub.execute_input": "2022-12-05T17:10:59.951686Z",
     "iopub.status.busy": "2022-12-05T17:10:59.951490Z",
     "iopub.status.idle": "2022-12-05T17:10:59.964663Z",
     "shell.execute_reply": "2022-12-05T17:10:59.964142Z"
    },
    "papermill": {
     "duration": 0.025148,
     "end_time": "2022-12-05T17:10:59.966081",
     "exception": false,
     "start_time": "2022-12-05T17:10:59.940933",
     "status": "completed"
    },
    "tags": []
   },
   "outputs": [],
   "source": [
    "assert spredixcan_genes_models.index.is_unique"
   ]
  },
  {
   "cell_type": "markdown",
   "id": "a5b5092c-a13e-47c4-a92a-480fcc08f3ae",
   "metadata": {
    "papermill": {
     "duration": 0.009997,
     "end_time": "2022-12-05T17:10:59.986361",
     "exception": false,
     "start_time": "2022-12-05T17:10:59.976364",
     "status": "completed"
    },
    "tags": []
   },
   "source": [
    "## Gene info"
   ]
  },
  {
   "cell_type": "code",
   "execution_count": 19,
   "id": "7d6bb224-88e9-4358-ac10-43a41d92cdad",
   "metadata": {
    "execution": {
     "iopub.execute_input": "2022-12-05T17:11:00.007417Z",
     "iopub.status.busy": "2022-12-05T17:11:00.007275Z",
     "iopub.status.idle": "2022-12-05T17:11:00.025897Z",
     "shell.execute_reply": "2022-12-05T17:11:00.025276Z"
    },
    "papermill": {
     "duration": 0.030754,
     "end_time": "2022-12-05T17:11:00.027544",
     "exception": false,
     "start_time": "2022-12-05T17:10:59.996790",
     "status": "completed"
    },
    "tags": []
   },
   "outputs": [],
   "source": [
    "genes_info = pd.read_pickle(OUTPUT_DIR_BASE / \"genes_info.pkl\")"
   ]
  },
  {
   "cell_type": "code",
   "execution_count": 20,
   "id": "9e32abfa-546d-483e-8c18-d526e9e05903",
   "metadata": {
    "execution": {
     "iopub.execute_input": "2022-12-05T17:11:00.051179Z",
     "iopub.status.busy": "2022-12-05T17:11:00.050998Z",
     "iopub.status.idle": "2022-12-05T17:11:00.081927Z",
     "shell.execute_reply": "2022-12-05T17:11:00.081125Z"
    },
    "papermill": {
     "duration": 0.044376,
     "end_time": "2022-12-05T17:11:00.083680",
     "exception": false,
     "start_time": "2022-12-05T17:11:00.039304",
     "status": "completed"
    },
    "tags": []
   },
   "outputs": [
    {
     "data": {
      "text/plain": [
       "(6443, 7)"
      ]
     },
     "execution_count": 20,
     "metadata": {},
     "output_type": "execute_result"
    }
   ],
   "source": [
    "genes_info.shape"
   ]
  },
  {
   "cell_type": "code",
   "execution_count": 21,
   "id": "d16c3e92-85ec-468a-9a56-e25a9774a1cb",
   "metadata": {
    "execution": {
     "iopub.execute_input": "2022-12-05T17:11:00.104442Z",
     "iopub.status.busy": "2022-12-05T17:11:00.104024Z",
     "iopub.status.idle": "2022-12-05T17:11:00.131953Z",
     "shell.execute_reply": "2022-12-05T17:11:00.131293Z"
    },
    "papermill": {
     "duration": 0.040116,
     "end_time": "2022-12-05T17:11:00.133731",
     "exception": false,
     "start_time": "2022-12-05T17:11:00.093615",
     "status": "completed"
    },
    "tags": []
   },
   "outputs": [
    {
     "data": {
      "text/html": [
       "<div>\n",
       "<style scoped>\n",
       "    .dataframe tbody tr th:only-of-type {\n",
       "        vertical-align: middle;\n",
       "    }\n",
       "\n",
       "    .dataframe tbody tr th {\n",
       "        vertical-align: top;\n",
       "    }\n",
       "\n",
       "    .dataframe thead th {\n",
       "        text-align: right;\n",
       "    }\n",
       "</style>\n",
       "<table border=\"1\" class=\"dataframe\">\n",
       "  <thead>\n",
       "    <tr style=\"text-align: right;\">\n",
       "      <th></th>\n",
       "      <th>name</th>\n",
       "      <th>id</th>\n",
       "      <th>chr</th>\n",
       "      <th>band</th>\n",
       "      <th>start_position</th>\n",
       "      <th>end_position</th>\n",
       "      <th>gene_length</th>\n",
       "    </tr>\n",
       "  </thead>\n",
       "  <tbody>\n",
       "    <tr>\n",
       "      <th>0</th>\n",
       "      <td>IL2RB</td>\n",
       "      <td>ENSG00000100385</td>\n",
       "      <td>22</td>\n",
       "      <td>22q12.3</td>\n",
       "      <td>37125843</td>\n",
       "      <td>37175054</td>\n",
       "      <td>49211</td>\n",
       "    </tr>\n",
       "    <tr>\n",
       "      <th>1</th>\n",
       "      <td>ZNF208</td>\n",
       "      <td>ENSG00000160321</td>\n",
       "      <td>19</td>\n",
       "      <td>19p12</td>\n",
       "      <td>21932958</td>\n",
       "      <td>22010949</td>\n",
       "      <td>77991</td>\n",
       "    </tr>\n",
       "    <tr>\n",
       "      <th>2</th>\n",
       "      <td>CES1</td>\n",
       "      <td>ENSG00000198848</td>\n",
       "      <td>16</td>\n",
       "      <td>16q12.2</td>\n",
       "      <td>55802851</td>\n",
       "      <td>55833337</td>\n",
       "      <td>30486</td>\n",
       "    </tr>\n",
       "    <tr>\n",
       "      <th>3</th>\n",
       "      <td>XAB2</td>\n",
       "      <td>ENSG00000076924</td>\n",
       "      <td>19</td>\n",
       "      <td>19p13.2</td>\n",
       "      <td>7619525</td>\n",
       "      <td>7629545</td>\n",
       "      <td>10020</td>\n",
       "    </tr>\n",
       "    <tr>\n",
       "      <th>4</th>\n",
       "      <td>AQP1</td>\n",
       "      <td>ENSG00000240583</td>\n",
       "      <td>7</td>\n",
       "      <td>7p14.3</td>\n",
       "      <td>30911694</td>\n",
       "      <td>30925517</td>\n",
       "      <td>13823</td>\n",
       "    </tr>\n",
       "  </tbody>\n",
       "</table>\n",
       "</div>"
      ],
      "text/plain": [
       "     name               id  chr     band  start_position  end_position  \\\n",
       "0   IL2RB  ENSG00000100385   22  22q12.3        37125843      37175054   \n",
       "1  ZNF208  ENSG00000160321   19    19p12        21932958      22010949   \n",
       "2    CES1  ENSG00000198848   16  16q12.2        55802851      55833337   \n",
       "3    XAB2  ENSG00000076924   19  19p13.2         7619525       7629545   \n",
       "4    AQP1  ENSG00000240583    7   7p14.3        30911694      30925517   \n",
       "\n",
       "   gene_length  \n",
       "0        49211  \n",
       "1        77991  \n",
       "2        30486  \n",
       "3        10020  \n",
       "4        13823  "
      ]
     },
     "execution_count": 21,
     "metadata": {},
     "output_type": "execute_result"
    }
   ],
   "source": [
    "genes_info.head()"
   ]
  },
  {
   "cell_type": "markdown",
   "id": "d3843e06",
   "metadata": {
    "papermill": {
     "duration": 0.009925,
     "end_time": "2022-12-05T17:11:00.153899",
     "exception": false,
     "start_time": "2022-12-05T17:11:00.143974",
     "status": "completed"
    },
    "tags": []
   },
   "source": [
    "# Compute correlations"
   ]
  },
  {
   "cell_type": "code",
   "execution_count": 22,
   "id": "cb859c15-d1f3-4006-a74c-2b83c0db9611",
   "metadata": {
    "execution": {
     "iopub.execute_input": "2022-12-05T17:11:00.175162Z",
     "iopub.status.busy": "2022-12-05T17:11:00.174753Z",
     "iopub.status.idle": "2022-12-05T17:11:00.199858Z",
     "shell.execute_reply": "2022-12-05T17:11:00.199207Z"
    },
    "papermill": {
     "duration": 0.037223,
     "end_time": "2022-12-05T17:11:00.201398",
     "exception": false,
     "start_time": "2022-12-05T17:11:00.164175",
     "status": "completed"
    },
    "tags": []
   },
   "outputs": [
    {
     "data": {
      "text/plain": [
       "PosixPath('/opt/data/projects/asthma-copd/results/gls_phenoplier/gene_corrs/copd_only/by_chr/gene_corrs-chr16.pkl')"
      ]
     },
     "metadata": {},
     "output_type": "display_data"
    }
   ],
   "source": [
    "output_dir = OUTPUT_DIR_BASE / \"by_chr\"\n",
    "output_dir.mkdir(exist_ok=True, parents=True)\n",
    "output_file = output_dir / f\"gene_corrs-chr{CHROMOSOME}.pkl\"\n",
    "display(output_file)"
   ]
  },
  {
   "cell_type": "code",
   "execution_count": 23,
   "id": "aa674fe4-6794-4eed-98fa-32b39d1d4ace",
   "metadata": {
    "execution": {
     "iopub.execute_input": "2022-12-05T17:11:00.223360Z",
     "iopub.status.busy": "2022-12-05T17:11:00.222854Z",
     "iopub.status.idle": "2022-12-05T17:11:00.245804Z",
     "shell.execute_reply": "2022-12-05T17:11:00.245137Z"
    },
    "papermill": {
     "duration": 0.035815,
     "end_time": "2022-12-05T17:11:00.247421",
     "exception": false,
     "start_time": "2022-12-05T17:11:00.211606",
     "status": "completed"
    },
    "tags": []
   },
   "outputs": [],
   "source": [
    "warnings.filterwarnings(\"error\")"
   ]
  },
  {
   "cell_type": "code",
   "execution_count": 24,
   "id": "44d5450b-3baf-43f1-9e2e-4b06f1a785f8",
   "metadata": {
    "execution": {
     "iopub.execute_input": "2022-12-05T17:11:00.268972Z",
     "iopub.status.busy": "2022-12-05T17:11:00.268575Z",
     "iopub.status.idle": "2022-12-05T17:11:00.292254Z",
     "shell.execute_reply": "2022-12-05T17:11:00.291587Z"
    },
    "papermill": {
     "duration": 0.036209,
     "end_time": "2022-12-05T17:11:00.293968",
     "exception": false,
     "start_time": "2022-12-05T17:11:00.257759",
     "status": "completed"
    },
    "tags": []
   },
   "outputs": [],
   "source": [
    "# standard checks\n",
    "all_chrs = genes_info[\"chr\"].dropna().unique()\n",
    "assert all_chrs.shape[0] == 22\n",
    "\n",
    "# select chromosome given by the user\n",
    "assert CHROMOSOME in all_chrs"
   ]
  },
  {
   "cell_type": "code",
   "execution_count": 25,
   "id": "2d7c043c-92a7-4d35-991b-fa69ac1e0268",
   "metadata": {
    "execution": {
     "iopub.execute_input": "2022-12-05T17:11:00.316327Z",
     "iopub.status.busy": "2022-12-05T17:11:00.315847Z",
     "iopub.status.idle": "2022-12-05T17:11:00.338224Z",
     "shell.execute_reply": "2022-12-05T17:11:00.337619Z"
    },
    "papermill": {
     "duration": 0.035144,
     "end_time": "2022-12-05T17:11:00.339709",
     "exception": false,
     "start_time": "2022-12-05T17:11:00.304565",
     "status": "completed"
    },
    "tags": []
   },
   "outputs": [
    {
     "name": "stdout",
     "output_type": "stream",
     "text": [
      "Number of genes in chromosome: 274\n"
     ]
    }
   ],
   "source": [
    "# run only on the chromosome specified\n",
    "all_chrs = [CHROMOSOME]\n",
    "genes_chr = genes_info[genes_info[\"chr\"] == CHROMOSOME]\n",
    "\n",
    "# For testing purposes\n",
    "# genes_chr = genes_chr.sample(n=20)\n",
    "\n",
    "print(f\"Number of genes in chromosome: {genes_chr.shape[0]}\", flush=True)"
   ]
  },
  {
   "cell_type": "code",
   "execution_count": 26,
   "id": "916015d8-2979-46d3-a9b9-1cf5a0932c6a",
   "metadata": {
    "execution": {
     "iopub.execute_input": "2022-12-05T17:11:00.361396Z",
     "iopub.status.busy": "2022-12-05T17:11:00.361018Z",
     "iopub.status.idle": "2022-12-05T17:11:00.384379Z",
     "shell.execute_reply": "2022-12-05T17:11:00.383758Z"
    },
    "papermill": {
     "duration": 0.035913,
     "end_time": "2022-12-05T17:11:00.385987",
     "exception": false,
     "start_time": "2022-12-05T17:11:00.350074",
     "status": "completed"
    },
    "tags": []
   },
   "outputs": [],
   "source": [
    "# sort genes by starting position to make visualizations better later\n",
    "genes_chr = genes_chr.sort_values(\"start_position\")"
   ]
  },
  {
   "cell_type": "code",
   "execution_count": 27,
   "id": "a38aa74a-8ad3-47f6-8ef9-56be0e011774",
   "metadata": {
    "execution": {
     "iopub.execute_input": "2022-12-05T17:11:00.408137Z",
     "iopub.status.busy": "2022-12-05T17:11:00.407879Z",
     "iopub.status.idle": "2022-12-05T17:11:00.431361Z",
     "shell.execute_reply": "2022-12-05T17:11:00.430790Z"
    },
    "papermill": {
     "duration": 0.035992,
     "end_time": "2022-12-05T17:11:00.432919",
     "exception": false,
     "start_time": "2022-12-05T17:11:00.396927",
     "status": "completed"
    },
    "tags": []
   },
   "outputs": [],
   "source": [
    "gene_chr_objs = [Gene(ensembl_id=gene_id) for gene_id in genes_chr[\"id\"]]"
   ]
  },
  {
   "cell_type": "code",
   "execution_count": 28,
   "id": "570f974f-13c3-42b6-ad3a-ce99ca885c1a",
   "metadata": {
    "execution": {
     "iopub.execute_input": "2022-12-05T17:11:00.455100Z",
     "iopub.status.busy": "2022-12-05T17:11:00.454718Z",
     "iopub.status.idle": "2022-12-05T17:11:00.478370Z",
     "shell.execute_reply": "2022-12-05T17:11:00.477770Z"
    },
    "papermill": {
     "duration": 0.036422,
     "end_time": "2022-12-05T17:11:00.479844",
     "exception": false,
     "start_time": "2022-12-05T17:11:00.443422",
     "status": "completed"
    },
    "tags": []
   },
   "outputs": [
    {
     "name": "stdout",
     "output_type": "stream",
     "text": [
      "Number of gene combinations: 37675\n"
     ]
    }
   ],
   "source": [
    "n = len(gene_chr_objs)\n",
    "# diagonal elements + upper triangular matrix\n",
    "n_comb = n + int(n * (n - 1) / 2.0)\n",
    "print(f\"Number of gene combinations: {n_comb}\", flush=True)"
   ]
  },
  {
   "cell_type": "code",
   "execution_count": 29,
   "id": "cdbb90a1",
   "metadata": {
    "execution": {
     "iopub.execute_input": "2022-12-05T17:11:00.501864Z",
     "iopub.status.busy": "2022-12-05T17:11:00.501525Z",
     "iopub.status.idle": "2022-12-05T17:16:23.647560Z",
     "shell.execute_reply": "2022-12-05T17:16:23.647049Z"
    },
    "papermill": {
     "duration": 323.158631,
     "end_time": "2022-12-05T17:16:23.648983",
     "exception": false,
     "start_time": "2022-12-05T17:11:00.490352",
     "status": "completed"
    },
    "tags": []
   },
   "outputs": [
    {
     "name": "stderr",
     "output_type": "stream",
     "text": [
      "ENSG00000258947 / ENSG00000258947: 100%|█████████████████████| 37675/37675 [05:23<00:00, 116.60it/s]\n"
     ]
    },
    {
     "data": {
      "text/plain": [
       "PosixPath('/opt/data/projects/asthma-copd/results/gls_phenoplier/gene_corrs/copd_only/by_chr/gene_corrs-chr16.pkl')"
      ]
     },
     "metadata": {},
     "output_type": "display_data"
    }
   ],
   "source": [
    "gene_corrs = []\n",
    "gene_corrs_data = np.full(\n",
    "    (n, n),\n",
    "    np.nan,\n",
    "    dtype=np.float64,\n",
    ")\n",
    "\n",
    "i = 0\n",
    "with tqdm(ncols=100, total=n_comb) as pbar:\n",
    "    for gene1_idx in range(0, len(gene_chr_objs)):\n",
    "        gene1_obj = gene_chr_objs[gene1_idx]\n",
    "        gene1_tissues = spredixcan_genes_models.loc[gene1_obj.ensembl_id, \"tissue\"]\n",
    "\n",
    "        for gene2_idx in range(gene1_idx, len(gene_chr_objs)):\n",
    "            gene2_obj = gene_chr_objs[gene2_idx]\n",
    "            gene2_tissues = spredixcan_genes_models.loc[gene2_obj.ensembl_id, \"tissue\"]\n",
    "\n",
    "            pbar.set_description(f\"{gene1_obj.ensembl_id} / {gene2_obj.ensembl_id}\")\n",
    "\n",
    "            try:\n",
    "                r = gene1_obj.get_ssm_correlation(\n",
    "                    other_gene=gene2_obj,\n",
    "                    tissues=gene1_tissues,\n",
    "                    other_tissues=gene2_tissues,\n",
    "                    snps_subset=gwas_variants_ids_set,\n",
    "                    condition_number=SMULTIXCAN_CONDITION_NUMBER,\n",
    "                    reference_panel=REFERENCE_PANEL,\n",
    "                    model_type=EQTL_MODEL,\n",
    "                    use_within_distance=COMPUTE_CORRELATIONS_WITHIN_DISTANCE,\n",
    "                )\n",
    "\n",
    "                if r is None:\n",
    "                    # if r is None, it's very likely because:\n",
    "                    #  * one of the genes has no prediction models\n",
    "                    #  * all the SNPs predictors for the gene are not present in the reference\n",
    "                    #    panel\n",
    "\n",
    "                    r = 0.0\n",
    "\n",
    "                gene_corrs.append(r)\n",
    "\n",
    "                gene_corrs_data[gene1_idx, gene2_idx] = r\n",
    "                gene_corrs_data[gene2_idx, gene1_idx] = r\n",
    "            except Warning as e:\n",
    "                if not DEBUG_MODE:\n",
    "                    raise e\n",
    "\n",
    "                print(\n",
    "                    f\"RuntimeWarning for genes {gene1_obj.ensembl_id} and {gene2_obj.ensembl_id}\",\n",
    "                    flush=True,\n",
    "                )\n",
    "                print(traceback.format_exc(), flush=True)\n",
    "\n",
    "                gene_corrs.append(np.nan)\n",
    "            except Exception as e:\n",
    "                if not DEBUG_MODE:\n",
    "                    raise e\n",
    "\n",
    "                print(\n",
    "                    f\"Exception for genes {gene1_obj.ensembl_id} and {gene2_obj.ensembl_id}\",\n",
    "                    flush=True,\n",
    "                )\n",
    "                print(traceback.format_exc(), flush=True)\n",
    "\n",
    "                gene_corrs.append(np.nan)\n",
    "\n",
    "            pbar.update(1)\n",
    "\n",
    "# create a pandas series\n",
    "gene_corrs_flat = pd.Series(gene_corrs)\n",
    "\n",
    "# save\n",
    "# FIXME: consider saving only the condenced matrix here. See here for\n",
    "# more details: https://github.com/greenelab/phenoplier/pull/38#discussion_r634600813\n",
    "# gene_corrs_data = squareform(np.array(gene_corrs, dtype=np.float64))\n",
    "# np.fill_diagonal(gene_corrs_data, 1.0)\n",
    "\n",
    "gene_chr_ids = [g.ensembl_id for g in gene_chr_objs]\n",
    "gene_corrs_df = pd.DataFrame(\n",
    "    data=gene_corrs_data,\n",
    "    index=gene_chr_ids,\n",
    "    columns=gene_chr_ids,\n",
    ")\n",
    "\n",
    "output_dir.mkdir(exist_ok=True, parents=True)\n",
    "display(output_file)\n",
    "\n",
    "gene_corrs_df.to_pickle(output_file)"
   ]
  },
  {
   "cell_type": "markdown",
   "id": "faa67b51-5373-470f-aa72-2ded53fa6dfe",
   "metadata": {
    "papermill": {
     "duration": 1.119585,
     "end_time": "2022-12-05T17:16:25.984893",
     "exception": false,
     "start_time": "2022-12-05T17:16:24.865308",
     "status": "completed"
    },
    "tags": []
   },
   "source": [
    "# Testing"
   ]
  },
  {
   "cell_type": "code",
   "execution_count": 30,
   "id": "14f7d046-4b55-4896-a56b-990127bcc388",
   "metadata": {
    "execution": {
     "iopub.execute_input": "2022-12-05T17:16:28.337973Z",
     "iopub.status.busy": "2022-12-05T17:16:28.337575Z",
     "iopub.status.idle": "2022-12-05T17:16:28.359119Z",
     "shell.execute_reply": "2022-12-05T17:16:28.358530Z"
    },
    "papermill": {
     "duration": 1.195686,
     "end_time": "2022-12-05T17:16:28.360073",
     "exception": false,
     "start_time": "2022-12-05T17:16:27.164387",
     "status": "completed"
    },
    "tags": []
   },
   "outputs": [
    {
     "data": {
      "text/plain": [
       "(274, 274)"
      ]
     },
     "execution_count": 30,
     "metadata": {},
     "output_type": "execute_result"
    }
   ],
   "source": [
    "gene_corrs_df.shape"
   ]
  },
  {
   "cell_type": "code",
   "execution_count": 31,
   "id": "c7d15414-3297-4537-a7c6-7588c0baeb75",
   "metadata": {
    "execution": {
     "iopub.execute_input": "2022-12-05T17:16:30.608865Z",
     "iopub.status.busy": "2022-12-05T17:16:30.608603Z",
     "iopub.status.idle": "2022-12-05T17:16:30.642603Z",
     "shell.execute_reply": "2022-12-05T17:16:30.642080Z"
    },
    "papermill": {
     "duration": 1.161822,
     "end_time": "2022-12-05T17:16:30.643888",
     "exception": false,
     "start_time": "2022-12-05T17:16:29.482066",
     "status": "completed"
    },
    "tags": []
   },
   "outputs": [
    {
     "data": {
      "text/html": [
       "<div>\n",
       "<style scoped>\n",
       "    .dataframe tbody tr th:only-of-type {\n",
       "        vertical-align: middle;\n",
       "    }\n",
       "\n",
       "    .dataframe tbody tr th {\n",
       "        vertical-align: top;\n",
       "    }\n",
       "\n",
       "    .dataframe thead th {\n",
       "        text-align: right;\n",
       "    }\n",
       "</style>\n",
       "<table border=\"1\" class=\"dataframe\">\n",
       "  <thead>\n",
       "    <tr style=\"text-align: right;\">\n",
       "      <th></th>\n",
       "      <th>ENSG00000161980</th>\n",
       "      <th>ENSG00000103152</th>\n",
       "      <th>ENSG00000206172</th>\n",
       "      <th>ENSG00000086506</th>\n",
       "      <th>ENSG00000076344</th>\n",
       "      <th>ENSG00000103126</th>\n",
       "      <th>ENSG00000086504</th>\n",
       "      <th>ENSG00000103202</th>\n",
       "      <th>ENSG00000242612</th>\n",
       "      <th>ENSG00000090565</th>\n",
       "      <th>...</th>\n",
       "      <th>ENSG00000051523</th>\n",
       "      <th>ENSG00000167508</th>\n",
       "      <th>ENSG00000167513</th>\n",
       "      <th>ENSG00000198931</th>\n",
       "      <th>ENSG00000141012</th>\n",
       "      <th>ENSG00000129993</th>\n",
       "      <th>ENSG00000167526</th>\n",
       "      <th>ENSG00000187741</th>\n",
       "      <th>ENSG00000258839</th>\n",
       "      <th>ENSG00000258947</th>\n",
       "    </tr>\n",
       "  </thead>\n",
       "  <tbody>\n",
       "    <tr>\n",
       "      <th>ENSG00000161980</th>\n",
       "      <td>1.000000</td>\n",
       "      <td>0.311909</td>\n",
       "      <td>0.008425</td>\n",
       "      <td>0.032054</td>\n",
       "      <td>0.013127</td>\n",
       "      <td>0.016392</td>\n",
       "      <td>0.010935</td>\n",
       "      <td>0.013421</td>\n",
       "      <td>0.017843</td>\n",
       "      <td>0.013448</td>\n",
       "      <td>...</td>\n",
       "      <td>0.0</td>\n",
       "      <td>0.0</td>\n",
       "      <td>0.0</td>\n",
       "      <td>0.0</td>\n",
       "      <td>0.0</td>\n",
       "      <td>0.0</td>\n",
       "      <td>0.0</td>\n",
       "      <td>0.0</td>\n",
       "      <td>0.0</td>\n",
       "      <td>0.0</td>\n",
       "    </tr>\n",
       "    <tr>\n",
       "      <th>ENSG00000103152</th>\n",
       "      <td>0.311909</td>\n",
       "      <td>1.000000</td>\n",
       "      <td>0.034104</td>\n",
       "      <td>0.120279</td>\n",
       "      <td>0.061832</td>\n",
       "      <td>0.029735</td>\n",
       "      <td>0.025689</td>\n",
       "      <td>0.010517</td>\n",
       "      <td>0.008693</td>\n",
       "      <td>0.009125</td>\n",
       "      <td>...</td>\n",
       "      <td>0.0</td>\n",
       "      <td>0.0</td>\n",
       "      <td>0.0</td>\n",
       "      <td>0.0</td>\n",
       "      <td>0.0</td>\n",
       "      <td>0.0</td>\n",
       "      <td>0.0</td>\n",
       "      <td>0.0</td>\n",
       "      <td>0.0</td>\n",
       "      <td>0.0</td>\n",
       "    </tr>\n",
       "    <tr>\n",
       "      <th>ENSG00000206172</th>\n",
       "      <td>0.008425</td>\n",
       "      <td>0.034104</td>\n",
       "      <td>1.000000</td>\n",
       "      <td>0.059261</td>\n",
       "      <td>0.062245</td>\n",
       "      <td>0.025327</td>\n",
       "      <td>0.103654</td>\n",
       "      <td>0.014437</td>\n",
       "      <td>0.013527</td>\n",
       "      <td>0.011204</td>\n",
       "      <td>...</td>\n",
       "      <td>0.0</td>\n",
       "      <td>0.0</td>\n",
       "      <td>0.0</td>\n",
       "      <td>0.0</td>\n",
       "      <td>0.0</td>\n",
       "      <td>0.0</td>\n",
       "      <td>0.0</td>\n",
       "      <td>0.0</td>\n",
       "      <td>0.0</td>\n",
       "      <td>0.0</td>\n",
       "    </tr>\n",
       "    <tr>\n",
       "      <th>ENSG00000086506</th>\n",
       "      <td>0.032054</td>\n",
       "      <td>0.120279</td>\n",
       "      <td>0.059261</td>\n",
       "      <td>1.000000</td>\n",
       "      <td>0.169380</td>\n",
       "      <td>0.092479</td>\n",
       "      <td>0.080608</td>\n",
       "      <td>0.014114</td>\n",
       "      <td>0.017748</td>\n",
       "      <td>0.022424</td>\n",
       "      <td>...</td>\n",
       "      <td>0.0</td>\n",
       "      <td>0.0</td>\n",
       "      <td>0.0</td>\n",
       "      <td>0.0</td>\n",
       "      <td>0.0</td>\n",
       "      <td>0.0</td>\n",
       "      <td>0.0</td>\n",
       "      <td>0.0</td>\n",
       "      <td>0.0</td>\n",
       "      <td>0.0</td>\n",
       "    </tr>\n",
       "    <tr>\n",
       "      <th>ENSG00000076344</th>\n",
       "      <td>0.013127</td>\n",
       "      <td>0.061832</td>\n",
       "      <td>0.062245</td>\n",
       "      <td>0.169380</td>\n",
       "      <td>1.000000</td>\n",
       "      <td>0.133766</td>\n",
       "      <td>0.121072</td>\n",
       "      <td>0.064562</td>\n",
       "      <td>0.023406</td>\n",
       "      <td>0.024921</td>\n",
       "      <td>...</td>\n",
       "      <td>0.0</td>\n",
       "      <td>0.0</td>\n",
       "      <td>0.0</td>\n",
       "      <td>0.0</td>\n",
       "      <td>0.0</td>\n",
       "      <td>0.0</td>\n",
       "      <td>0.0</td>\n",
       "      <td>0.0</td>\n",
       "      <td>0.0</td>\n",
       "      <td>0.0</td>\n",
       "    </tr>\n",
       "  </tbody>\n",
       "</table>\n",
       "<p>5 rows × 274 columns</p>\n",
       "</div>"
      ],
      "text/plain": [
       "                 ENSG00000161980  ENSG00000103152  ENSG00000206172  \\\n",
       "ENSG00000161980         1.000000         0.311909         0.008425   \n",
       "ENSG00000103152         0.311909         1.000000         0.034104   \n",
       "ENSG00000206172         0.008425         0.034104         1.000000   \n",
       "ENSG00000086506         0.032054         0.120279         0.059261   \n",
       "ENSG00000076344         0.013127         0.061832         0.062245   \n",
       "\n",
       "                 ENSG00000086506  ENSG00000076344  ENSG00000103126  \\\n",
       "ENSG00000161980         0.032054         0.013127         0.016392   \n",
       "ENSG00000103152         0.120279         0.061832         0.029735   \n",
       "ENSG00000206172         0.059261         0.062245         0.025327   \n",
       "ENSG00000086506         1.000000         0.169380         0.092479   \n",
       "ENSG00000076344         0.169380         1.000000         0.133766   \n",
       "\n",
       "                 ENSG00000086504  ENSG00000103202  ENSG00000242612  \\\n",
       "ENSG00000161980         0.010935         0.013421         0.017843   \n",
       "ENSG00000103152         0.025689         0.010517         0.008693   \n",
       "ENSG00000206172         0.103654         0.014437         0.013527   \n",
       "ENSG00000086506         0.080608         0.014114         0.017748   \n",
       "ENSG00000076344         0.121072         0.064562         0.023406   \n",
       "\n",
       "                 ENSG00000090565  ...  ENSG00000051523  ENSG00000167508  \\\n",
       "ENSG00000161980         0.013448  ...              0.0              0.0   \n",
       "ENSG00000103152         0.009125  ...              0.0              0.0   \n",
       "ENSG00000206172         0.011204  ...              0.0              0.0   \n",
       "ENSG00000086506         0.022424  ...              0.0              0.0   \n",
       "ENSG00000076344         0.024921  ...              0.0              0.0   \n",
       "\n",
       "                 ENSG00000167513  ENSG00000198931  ENSG00000141012  \\\n",
       "ENSG00000161980              0.0              0.0              0.0   \n",
       "ENSG00000103152              0.0              0.0              0.0   \n",
       "ENSG00000206172              0.0              0.0              0.0   \n",
       "ENSG00000086506              0.0              0.0              0.0   \n",
       "ENSG00000076344              0.0              0.0              0.0   \n",
       "\n",
       "                 ENSG00000129993  ENSG00000167526  ENSG00000187741  \\\n",
       "ENSG00000161980              0.0              0.0              0.0   \n",
       "ENSG00000103152              0.0              0.0              0.0   \n",
       "ENSG00000206172              0.0              0.0              0.0   \n",
       "ENSG00000086506              0.0              0.0              0.0   \n",
       "ENSG00000076344              0.0              0.0              0.0   \n",
       "\n",
       "                 ENSG00000258839  ENSG00000258947  \n",
       "ENSG00000161980              0.0              0.0  \n",
       "ENSG00000103152              0.0              0.0  \n",
       "ENSG00000206172              0.0              0.0  \n",
       "ENSG00000086506              0.0              0.0  \n",
       "ENSG00000076344              0.0              0.0  \n",
       "\n",
       "[5 rows x 274 columns]"
      ]
     },
     "execution_count": 31,
     "metadata": {},
     "output_type": "execute_result"
    }
   ],
   "source": [
    "gene_corrs_df.head()"
   ]
  },
  {
   "cell_type": "markdown",
   "id": "dad6603f-01c6-41fb-a6f6-241051207dd8",
   "metadata": {
    "papermill": {
     "duration": 1.16384,
     "end_time": "2022-12-05T17:16:32.967323",
     "exception": false,
     "start_time": "2022-12-05T17:16:31.803483",
     "status": "completed"
    },
    "tags": []
   },
   "source": [
    "## Standard checks and stats"
   ]
  },
  {
   "cell_type": "code",
   "execution_count": 32,
   "id": "286686af-1b7b-4440-8453-6bdcbd8de19c",
   "metadata": {
    "execution": {
     "iopub.execute_input": "2022-12-05T17:16:35.252309Z",
     "iopub.status.busy": "2022-12-05T17:16:35.251869Z",
     "iopub.status.idle": "2022-12-05T17:16:35.270460Z",
     "shell.execute_reply": "2022-12-05T17:16:35.269699Z"
    },
    "papermill": {
     "duration": 1.14969,
     "end_time": "2022-12-05T17:16:35.271402",
     "exception": false,
     "start_time": "2022-12-05T17:16:34.121712",
     "status": "completed"
    },
    "tags": []
   },
   "outputs": [],
   "source": [
    "assert not gene_corrs_df.isna().any(axis=None)"
   ]
  },
  {
   "cell_type": "code",
   "execution_count": 33,
   "id": "00583efc-7068-4270-ad1e-4a418e91db96",
   "metadata": {
    "execution": {
     "iopub.execute_input": "2022-12-05T17:16:37.619936Z",
     "iopub.status.busy": "2022-12-05T17:16:37.619411Z",
     "iopub.status.idle": "2022-12-05T17:16:37.644355Z",
     "shell.execute_reply": "2022-12-05T17:16:37.643605Z"
    },
    "papermill": {
     "duration": 1.189713,
     "end_time": "2022-12-05T17:16:37.645364",
     "exception": false,
     "start_time": "2022-12-05T17:16:36.455651",
     "status": "completed"
    },
    "tags": []
   },
   "outputs": [
    {
     "data": {
      "text/plain": [
       "0.0"
      ]
     },
     "metadata": {},
     "output_type": "display_data"
    }
   ],
   "source": [
    "_min_val = gene_corrs_df.min().min()\n",
    "display(_min_val)\n",
    "assert _min_val >= -0.05"
   ]
  },
  {
   "cell_type": "code",
   "execution_count": 34,
   "id": "d04fb2cf-1050-475b-b855-f5f7cc04092b",
   "metadata": {
    "execution": {
     "iopub.execute_input": "2022-12-05T17:16:39.877038Z",
     "iopub.status.busy": "2022-12-05T17:16:39.876480Z",
     "iopub.status.idle": "2022-12-05T17:16:39.900550Z",
     "shell.execute_reply": "2022-12-05T17:16:39.900021Z"
    },
    "papermill": {
     "duration": 1.137106,
     "end_time": "2022-12-05T17:16:39.901488",
     "exception": false,
     "start_time": "2022-12-05T17:16:38.764382",
     "status": "completed"
    },
    "tags": []
   },
   "outputs": [
    {
     "data": {
      "text/plain": [
       "1.000000000000003"
      ]
     },
     "metadata": {},
     "output_type": "display_data"
    }
   ],
   "source": [
    "_max_val = gene_corrs_df.max().max()  # this captures the diagonal\n",
    "display(_max_val)\n",
    "assert _max_val <= 1.05"
   ]
  },
  {
   "cell_type": "code",
   "execution_count": 35,
   "id": "fe283586-c348-40e0-8841-f6d97bfb021c",
   "metadata": {
    "execution": {
     "iopub.execute_input": "2022-12-05T17:16:42.240224Z",
     "iopub.status.busy": "2022-12-05T17:16:42.239843Z",
     "iopub.status.idle": "2022-12-05T17:16:42.267587Z",
     "shell.execute_reply": "2022-12-05T17:16:42.267024Z"
    },
    "papermill": {
     "duration": 1.210682,
     "end_time": "2022-12-05T17:16:42.268478",
     "exception": false,
     "start_time": "2022-12-05T17:16:41.057796",
     "status": "completed"
    },
    "tags": []
   },
   "outputs": [
    {
     "data": {
      "text/plain": [
       "count    37675.000000\n",
       "mean         0.013858\n",
       "std          0.096968\n",
       "min          0.000000\n",
       "25%          0.000000\n",
       "50%          0.000000\n",
       "75%          0.000000\n",
       "max          1.000000\n",
       "dtype: float64"
      ]
     },
     "execution_count": 35,
     "metadata": {},
     "output_type": "execute_result"
    }
   ],
   "source": [
    "gene_corrs_flat.describe()"
   ]
  },
  {
   "cell_type": "code",
   "execution_count": 36,
   "id": "b3815678-0f93-4b35-897b-a9d047a2aa78",
   "metadata": {
    "execution": {
     "iopub.execute_input": "2022-12-05T17:16:44.500308Z",
     "iopub.status.busy": "2022-12-05T17:16:44.499642Z",
     "iopub.status.idle": "2022-12-05T17:16:44.527397Z",
     "shell.execute_reply": "2022-12-05T17:16:44.526784Z"
    },
    "papermill": {
     "duration": 1.14851,
     "end_time": "2022-12-05T17:16:44.528238",
     "exception": false,
     "start_time": "2022-12-05T17:16:43.379728",
     "status": "completed"
    },
    "tags": []
   },
   "outputs": [
    {
     "data": {
      "text/plain": [
       "0.00    0.000000\n",
       "0.05    0.000000\n",
       "0.10    0.000000\n",
       "0.15    0.000000\n",
       "0.20    0.000000\n",
       "0.25    0.000000\n",
       "0.30    0.000000\n",
       "0.35    0.000000\n",
       "0.40    0.000000\n",
       "0.45    0.000000\n",
       "0.50    0.000000\n",
       "0.55    0.000000\n",
       "0.60    0.000000\n",
       "0.65    0.000000\n",
       "0.70    0.000000\n",
       "0.75    0.000000\n",
       "0.80    0.000000\n",
       "0.85    0.002035\n",
       "0.90    0.005797\n",
       "0.95    0.011975\n",
       "dtype: float64"
      ]
     },
     "metadata": {},
     "output_type": "display_data"
    }
   ],
   "source": [
    "gene_corrs_quantiles = gene_corrs_flat.quantile(np.arange(0, 1, 0.05))\n",
    "display(gene_corrs_quantiles)"
   ]
  },
  {
   "cell_type": "markdown",
   "id": "87134509-b145-4a10-8bc9-b7e914c2b0fa",
   "metadata": {
    "papermill": {
     "duration": 1.164071,
     "end_time": "2022-12-05T17:16:46.845843",
     "exception": false,
     "start_time": "2022-12-05T17:16:45.681772",
     "status": "completed"
    },
    "tags": []
   },
   "source": [
    "## Positive definiteness"
   ]
  },
  {
   "cell_type": "code",
   "execution_count": 37,
   "id": "07d9a9a1-a4f7-48aa-b916-6d42a8cc6186",
   "metadata": {
    "execution": {
     "iopub.execute_input": "2022-12-05T17:16:49.088049Z",
     "iopub.status.busy": "2022-12-05T17:16:49.087646Z",
     "iopub.status.idle": "2022-12-05T17:16:49.139541Z",
     "shell.execute_reply": "2022-12-05T17:16:49.138849Z"
    },
    "papermill": {
     "duration": 1.183215,
     "end_time": "2022-12-05T17:16:49.140582",
     "exception": false,
     "start_time": "2022-12-05T17:16:47.957367",
     "status": "completed"
    },
    "tags": []
   },
   "outputs": [
    {
     "data": {
      "text/plain": [
       "0"
      ]
     },
     "metadata": {},
     "output_type": "display_data"
    },
    {
     "data": {
      "text/plain": [
       "array([], dtype=float64)"
      ]
     },
     "metadata": {},
     "output_type": "display_data"
    }
   ],
   "source": [
    "# print negative eigenvalues\n",
    "eigs = np.linalg.eigvals(gene_corrs_df.to_numpy())\n",
    "display(len(eigs[eigs < 0]))\n",
    "display(eigs[eigs < 0])"
   ]
  },
  {
   "cell_type": "code",
   "execution_count": 38,
   "id": "6e218436-c3c5-4028-8c94-a4fa6260efce",
   "metadata": {
    "execution": {
     "iopub.execute_input": "2022-12-05T17:16:51.679344Z",
     "iopub.status.busy": "2022-12-05T17:16:51.679045Z",
     "iopub.status.idle": "2022-12-05T17:16:51.707933Z",
     "shell.execute_reply": "2022-12-05T17:16:51.707246Z"
    },
    "papermill": {
     "duration": 1.291942,
     "end_time": "2022-12-05T17:16:51.708967",
     "exception": false,
     "start_time": "2022-12-05T17:16:50.417025",
     "status": "completed"
    },
    "tags": []
   },
   "outputs": [
    {
     "name": "stdout",
     "output_type": "stream",
     "text": [
      "Works!\n"
     ]
    }
   ],
   "source": [
    "try:\n",
    "    chol_mat = np.linalg.cholesky(gene_corrs_df.to_numpy())\n",
    "    cov_inv = np.linalg.inv(chol_mat)\n",
    "    print(\"Works!\")\n",
    "except Exception as e:\n",
    "    print(f\"Cholesky decomposition failed: {str(e)}\")"
   ]
  },
  {
   "cell_type": "code",
   "execution_count": 39,
   "id": "dd8827fb-faf9-4c7c-9454-015e94752706",
   "metadata": {
    "execution": {
     "iopub.execute_input": "2022-12-05T17:16:54.107208Z",
     "iopub.status.busy": "2022-12-05T17:16:54.106906Z",
     "iopub.status.idle": "2022-12-05T17:16:54.129698Z",
     "shell.execute_reply": "2022-12-05T17:16:54.129052Z"
    },
    "papermill": {
     "duration": 1.202546,
     "end_time": "2022-12-05T17:16:54.130539",
     "exception": false,
     "start_time": "2022-12-05T17:16:52.927993",
     "status": "completed"
    },
    "tags": []
   },
   "outputs": [
    {
     "name": "stdout",
     "output_type": "stream",
     "text": [
      "Works!\n"
     ]
    }
   ],
   "source": [
    "try:\n",
    "    # decomposition used by statsmodels.GLS\n",
    "    cholsigmainv = np.linalg.cholesky(np.linalg.inv(gene_corrs_df.to_numpy())).T\n",
    "    print(\"Works!\")\n",
    "except Exception as e:\n",
    "    print(f\"Cholesky decomposition failed (statsmodels.GLS): {str(e)}\")"
   ]
  },
  {
   "cell_type": "markdown",
   "id": "8e60a080-edb2-4e9c-b2ef-22961693200c",
   "metadata": {
    "papermill": {
     "duration": 1.157114,
     "end_time": "2022-12-05T17:16:56.436240",
     "exception": false,
     "start_time": "2022-12-05T17:16:55.279126",
     "status": "completed"
    },
    "tags": []
   },
   "source": [
    "## Plot: distribution"
   ]
  },
  {
   "cell_type": "code",
   "execution_count": 40,
   "id": "8301126b-a7d4-4744-9c7d-f0f86eb6f54c",
   "metadata": {
    "execution": {
     "iopub.execute_input": "2022-12-05T17:16:58.662169Z",
     "iopub.status.busy": "2022-12-05T17:16:58.661715Z",
     "iopub.status.idle": "2022-12-05T17:16:59.018104Z",
     "shell.execute_reply": "2022-12-05T17:16:59.017691Z"
    },
    "papermill": {
     "duration": 1.474961,
     "end_time": "2022-12-05T17:16:59.019346",
     "exception": false,
     "start_time": "2022-12-05T17:16:57.544385",
     "status": "completed"
    },
    "tags": []
   },
   "outputs": [
    {
     "data": {
      "image/png": "[encoded data removed]",
      "text/plain": [
       "<Figure size 700x700 with 1 Axes>"
      ]
     },
     "metadata": {},
     "output_type": "display_data"
    }
   ],
   "source": [
    "with sns.plotting_context(\"paper\", font_scale=1.5):\n",
    "    g = sns.displot(gene_corrs_flat, kde=True, height=7)\n",
    "    g.ax.set_title(\n",
    "        f\"Distribution of gene correlation values in chromosome {CHROMOSOME}\"\n",
    "    )"
   ]
  },
  {
   "cell_type": "markdown",
   "id": "cbd52bca-d878-4a2f-b684-5c83aa3038d4",
   "metadata": {
    "papermill": {
     "duration": 1.157107,
     "end_time": "2022-12-05T17:17:01.332806",
     "exception": false,
     "start_time": "2022-12-05T17:17:00.175699",
     "status": "completed"
    },
    "tags": []
   },
   "source": [
    "## Plot: heatmap"
   ]
  },
  {
   "cell_type": "code",
   "execution_count": 41,
   "id": "d03fe63a-c7b2-4fb9-a53c-db362ce843c9",
   "metadata": {
    "execution": {
     "iopub.execute_input": "2022-12-05T17:17:03.557226Z",
     "iopub.status.busy": "2022-12-05T17:17:03.556855Z",
     "iopub.status.idle": "2022-12-05T17:17:03.580511Z",
     "shell.execute_reply": "2022-12-05T17:17:03.579978Z"
    },
    "papermill": {
     "duration": 1.142154,
     "end_time": "2022-12-05T17:17:03.581360",
     "exception": false,
     "start_time": "2022-12-05T17:17:02.439206",
     "status": "completed"
    },
    "tags": []
   },
   "outputs": [
    {
     "data": {
      "text/plain": [
       "'0.0 / 0.05'"
      ]
     },
     "metadata": {},
     "output_type": "display_data"
    }
   ],
   "source": [
    "vmin_val = min(0.00, gene_corrs_quantiles[0.10])\n",
    "vmax_val = max(0.05, gene_corrs_quantiles[0.90])\n",
    "display(f\"{vmin_val} / {vmax_val}\")"
   ]
  },
  {
   "cell_type": "code",
   "execution_count": 42,
   "id": "dc41b70b-5bcc-4d9e-9f33-a22c4a94dab5",
   "metadata": {
    "execution": {
     "iopub.execute_input": "2022-12-05T17:17:05.893299Z",
     "iopub.status.busy": "2022-12-05T17:17:05.893062Z",
     "iopub.status.idle": "2022-12-05T17:17:06.094228Z",
     "shell.execute_reply": "2022-12-05T17:17:06.093809Z"
    },
    "papermill": {
     "duration": 1.368058,
     "end_time": "2022-12-05T17:17:06.095081",
     "exception": false,
     "start_time": "2022-12-05T17:17:04.727023",
     "status": "completed"
    },
    "tags": []
   },
   "outputs": [
    {
     "data": {
      "text/plain": [
       "Text(0.5, 1.0, 'Gene correlations in chromosome 16')"
      ]
     },
     "execution_count": 42,
     "metadata": {},
     "output_type": "execute_result"
    },
    {
     "data": {
      "image/png": "[encoded data removed]",
      "text/plain": [
       "<Figure size 1000x1000 with 2 Axes>"
      ]
     },
     "metadata": {},
     "output_type": "display_data"
    }
   ],
   "source": [
    "f, ax = plt.subplots(figsize=(10, 10))\n",
    "sns.heatmap(\n",
    "    gene_corrs_df,\n",
    "    xticklabels=False,\n",
    "    yticklabels=False,\n",
    "    square=True,\n",
    "    vmin=vmin_val,\n",
    "    vmax=vmax_val,\n",
    "    cmap=\"rocket_r\",\n",
    "    ax=ax,\n",
    ")\n",
    "ax.set_title(f\"Gene correlations in chromosome {CHROMOSOME}\")"
   ]
  },
  {
   "cell_type": "code",
   "execution_count": null,
   "id": "b25e3ead",
   "metadata": {
    "papermill": {
     "duration": 1.118347,
     "end_time": "2022-12-05T17:17:08.331446",
     "exception": false,
     "start_time": "2022-12-05T17:17:07.213099",
     "status": "completed"
    },
    "tags": []
   },
   "outputs": [],
   "source": []
  }
 ],
 "metadata": {
  "jupytext": {
   "cell_metadata_filter": "all,-execution,-papermill,-trusted",
   "formats": "ipynb,py//py:percent"
  },
  "kernelspec": {
   "display_name": "Python 3 (ipykernel)",
   "language": "python",
   "name": "python3"
  },
  "language_info": {
   "codemirror_mode": {
    "name": "ipython",
    "version": 3
   },
   "file_extension": ".py",
   "mimetype": "text/x-python",
   "name": "python",
   "nbconvert_exporter": "python",
   "pygments_lexer": "ipython3",
   "version": "3.10.6"
  },
  "papermill": {
   "default_parameters": {},
   "duration": 378.267923,
   "end_time": "2022-12-05T17:17:12.841829",
   "environment_variables": {},
   "exception": null,
   "input_path": "projects/asthma-copd/nbs/20_gene_corrs/jobs/05-gene_expr_correlations.ipynb",
   "output_path": "projects/asthma-copd/nbs/20_gene_corrs/jobs/../output/copd_only/05-gene_expr_correlations-chr16.run.ipynb",
   "parameters": {
    "CHROMOSOME": 16,
    "COHORT_NAME": "copd_only",
    "OUTPUT_DIR_BASE": "/opt/data/projects/asthma-copd/results/gls_phenoplier",
    "PHENOPLIER_NOTEBOOK_FILEPATH": "projects/asthma-copd/nbs/20_gene_corrs/jobs/05-gene_expr_correlations.ipynb"
   },
   "start_time": "2022-12-05T17:10:54.573906",
   "version": "2.2.2"
  }
 },
 "nbformat": 4,
 "nbformat_minor": 5
}
