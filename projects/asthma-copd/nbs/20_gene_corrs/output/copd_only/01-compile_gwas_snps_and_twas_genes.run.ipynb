{
 "cells": [
  {
   "cell_type": "markdown",
   "id": "7a6632fb",
   "metadata": {
    "papermill": {
     "duration": 0.018405,
     "end_time": "2022-12-15T17:45:00.843934",
     "exception": false,
     "start_time": "2022-12-15T17:45:00.825529",
     "status": "completed"
    },
    "tags": []
   },
   "source": [
    "# Description"
   ]
  },
  {
   "cell_type": "markdown",
   "id": "7097c346",
   "metadata": {
    "papermill": {
     "duration": 0.016499,
     "end_time": "2022-12-15T17:45:00.877000",
     "exception": false,
     "start_time": "2022-12-15T17:45:00.860501",
     "status": "completed"
    },
    "tags": []
   },
   "source": [
    "This notebook compiles information about the GWAS and TWAS for a particular cohort. For example, the set of GWAS variants, variance of predicted expression of genes, etc.\n",
    "\n",
    "It has specicfic parameters for papermill (see under `Settings` below).\n",
    "\n",
    "This notebook should not be directly run. It is used by other notebooks."
   ]
  },
  {
   "cell_type": "markdown",
   "id": "c61d8427",
   "metadata": {
    "papermill": {
     "duration": 0.015345,
     "end_time": "2022-12-15T17:45:00.909381",
     "exception": false,
     "start_time": "2022-12-15T17:45:00.894036",
     "status": "completed"
    },
    "tags": []
   },
   "source": [
    "# Modules"
   ]
  },
  {
   "cell_type": "code",
   "execution_count": 1,
   "id": "bbc0234f",
   "metadata": {
    "execution": {
     "iopub.execute_input": "2022-12-15T17:45:00.927719Z",
     "iopub.status.busy": "2022-12-15T17:45:00.927155Z",
     "iopub.status.idle": "2022-12-15T17:45:00.946052Z",
     "shell.execute_reply": "2022-12-15T17:45:00.945394Z"
    },
    "papermill": {
     "duration": 0.029226,
     "end_time": "2022-12-15T17:45:00.947071",
     "exception": false,
     "start_time": "2022-12-15T17:45:00.917845",
     "status": "completed"
    },
    "tags": []
   },
   "outputs": [],
   "source": [
    "%load_ext autoreload\n",
    "%autoreload 2"
   ]
  },
  {
   "cell_type": "code",
   "execution_count": 2,
   "id": "1d5f5a59",
   "metadata": {
    "execution": {
     "iopub.execute_input": "2022-12-15T17:45:00.965301Z",
     "iopub.status.busy": "2022-12-15T17:45:00.964731Z",
     "iopub.status.idle": "2022-12-15T17:45:01.440691Z",
     "shell.execute_reply": "2022-12-15T17:45:01.440117Z"
    },
    "papermill": {
     "duration": 0.486855,
     "end_time": "2022-12-15T17:45:01.442435",
     "exception": false,
     "start_time": "2022-12-15T17:45:00.955580",
     "status": "completed"
    },
    "tags": []
   },
   "outputs": [],
   "source": [
    "from pathlib import Path\n",
    "import pickle\n",
    "\n",
    "import numpy as np\n",
    "import pandas as pd\n",
    "\n",
    "import conf\n",
    "from entity import Gene"
   ]
  },
  {
   "cell_type": "markdown",
   "id": "1eac24b5",
   "metadata": {
    "papermill": {
     "duration": 0.01633,
     "end_time": "2022-12-15T17:45:01.475836",
     "exception": false,
     "start_time": "2022-12-15T17:45:01.459506",
     "status": "completed"
    },
    "tags": []
   },
   "source": [
    "# Settings"
   ]
  },
  {
   "cell_type": "code",
   "execution_count": 3,
   "id": "ca4560ba",
   "metadata": {
    "execution": {
     "iopub.execute_input": "2022-12-15T17:45:01.509484Z",
     "iopub.status.busy": "2022-12-15T17:45:01.509351Z",
     "iopub.status.idle": "2022-12-15T17:45:01.527171Z",
     "shell.execute_reply": "2022-12-15T17:45:01.526445Z"
    },
    "papermill": {
     "duration": 0.036271,
     "end_time": "2022-12-15T17:45:01.528613",
     "exception": false,
     "start_time": "2022-12-15T17:45:01.492342",
     "status": "completed"
    },
    "tags": [
     "parameters"
    ]
   },
   "outputs": [],
   "source": [
    "# a cohort name (it could be something like UK_BIOBANK, etc)\n",
    "COHORT_NAME = None\n",
    "\n",
    "# reference panel such as 1000G or GTEX_V8\n",
    "REFERENCE_PANEL = \"GTEX_V8\"\n",
    "\n",
    "# predictions models such as MASHR or ELASTIC_NET\n",
    "EQTL_MODEL = \"MASHR\"\n",
    "\n",
    "# a string with a path pointing to an imputed GWAS\n",
    "GWAS_FILE = None\n",
    "\n",
    "# a string with a path pointing where S-PrediXcan results (tissue-specific are located\n",
    "SPREDIXCAN_FOLDER = None\n",
    "\n",
    "# an f-string with one placeholder {tissue}\n",
    "SPREDIXCAN_FILE_PATTERN = None\n",
    "\n",
    "# a string with a path pointing to an S-MultiXcan result\n",
    "SMULTIXCAN_FILE = None\n",
    "\n",
    "# output dir\n",
    "OUTPUT_DIR_BASE = None"
   ]
  },
  {
   "cell_type": "code",
   "execution_count": 4,
   "id": "5444e179",
   "metadata": {
    "execution": {
     "iopub.execute_input": "2022-12-15T17:45:01.563741Z",
     "iopub.status.busy": "2022-12-15T17:45:01.563164Z",
     "iopub.status.idle": "2022-12-15T17:45:01.580749Z",
     "shell.execute_reply": "2022-12-15T17:45:01.580121Z"
    },
    "papermill": {
     "duration": 0.03683,
     "end_time": "2022-12-15T17:45:01.582231",
     "exception": false,
     "start_time": "2022-12-15T17:45:01.545401",
     "status": "completed"
    },
    "tags": [
     "injected-parameters"
    ]
   },
   "outputs": [],
   "source": [
    "# Parameters\n",
    "PHENOPLIER_NOTEBOOK_FILEPATH = \"projects/asthma-copd/nbs/20_gene_corrs/jobs/01-compile_gwas_snps_and_twas_genes.ipynb\"\n",
    "COHORT_NAME = \"copd_only\"\n",
    "GWAS_FILE = \"/opt/data/projects/asthma-copd/results/final_imputed_gwas/GWAS_COPD_only_GLM_SNPs_info0.7-harmonized-imputed.txt.gz\"\n",
    "SPREDIXCAN_FOLDER = \"/opt/data/projects/asthma-copd/results/twas/spredixcan\"\n",
    "SPREDIXCAN_FILE_PATTERN = \"GWAS_COPD_only_GLM_SNPs_info0.7-gtex_v8-mashr-{tissue}.csv\"\n",
    "SMULTIXCAN_FILE = \"/opt/data/projects/asthma-copd/results/twas/smultixcan/GWAS_COPD_only_GLM_SNPs_info0.7-gtex_v8-mashr-smultixcan.txt\"\n",
    "OUTPUT_DIR_BASE = \"/opt/data/projects/asthma-copd/results/gls_phenoplier\"\n"
   ]
  },
  {
   "cell_type": "code",
   "execution_count": 5,
   "id": "8fe24bef",
   "metadata": {
    "execution": {
     "iopub.execute_input": "2022-12-15T17:45:01.616896Z",
     "iopub.status.busy": "2022-12-15T17:45:01.616383Z",
     "iopub.status.idle": "2022-12-15T17:45:01.639505Z",
     "shell.execute_reply": "2022-12-15T17:45:01.638901Z"
    },
    "papermill": {
     "duration": 0.041896,
     "end_time": "2022-12-15T17:45:01.641026",
     "exception": false,
     "start_time": "2022-12-15T17:45:01.599130",
     "status": "completed"
    },
    "tags": []
   },
   "outputs": [
    {
     "data": {
      "text/plain": [
       "'Cohort name: copd_only'"
      ]
     },
     "metadata": {},
     "output_type": "display_data"
    }
   ],
   "source": [
    "assert COHORT_NAME is not None and len(COHORT_NAME) > 0, \"A cohort name must be given\"\n",
    "\n",
    "COHORT_NAME = COHORT_NAME.lower()\n",
    "display(f\"Cohort name: {COHORT_NAME}\")"
   ]
  },
  {
   "cell_type": "code",
   "execution_count": 6,
   "id": "f53ba19b-0f93-4fa2-a047-63b375939d1a",
   "metadata": {
    "execution": {
     "iopub.execute_input": "2022-12-15T17:45:01.676134Z",
     "iopub.status.busy": "2022-12-15T17:45:01.675733Z",
     "iopub.status.idle": "2022-12-15T17:45:01.692880Z",
     "shell.execute_reply": "2022-12-15T17:45:01.692282Z"
    },
    "papermill": {
     "duration": 0.036018,
     "end_time": "2022-12-15T17:45:01.694312",
     "exception": false,
     "start_time": "2022-12-15T17:45:01.658294",
     "status": "completed"
    },
    "tags": []
   },
   "outputs": [
    {
     "data": {
      "text/plain": [
       "'Reference panel: GTEX_V8'"
      ]
     },
     "metadata": {},
     "output_type": "display_data"
    }
   ],
   "source": [
    "assert (\n",
    "    REFERENCE_PANEL is not None and len(REFERENCE_PANEL) > 0\n",
    "), \"A reference panel must be given\"\n",
    "\n",
    "display(f\"Reference panel: {REFERENCE_PANEL}\")"
   ]
  },
  {
   "cell_type": "code",
   "execution_count": 7,
   "id": "7a970044-2d34-4e5b-a850-eff44079afe8",
   "metadata": {
    "execution": {
     "iopub.execute_input": "2022-12-15T17:45:01.729600Z",
     "iopub.status.busy": "2022-12-15T17:45:01.729110Z",
     "iopub.status.idle": "2022-12-15T17:45:01.746846Z",
     "shell.execute_reply": "2022-12-15T17:45:01.746254Z"
    },
    "papermill": {
     "duration": 0.036957,
     "end_time": "2022-12-15T17:45:01.748334",
     "exception": false,
     "start_time": "2022-12-15T17:45:01.711377",
     "status": "completed"
    },
    "tags": []
   },
   "outputs": [
    {
     "data": {
      "text/plain": [
       "'GWAS file path: /opt/data/projects/asthma-copd/results/final_imputed_gwas/GWAS_COPD_only_GLM_SNPs_info0.7-harmonized-imputed.txt.gz'"
      ]
     },
     "metadata": {},
     "output_type": "display_data"
    }
   ],
   "source": [
    "assert GWAS_FILE is not None and len(GWAS_FILE) > 0, \"A GWAS file path must be given\"\n",
    "GWAS_FILE = Path(GWAS_FILE).resolve()\n",
    "assert GWAS_FILE.exists(), \"GWAS file does not exist\"\n",
    "\n",
    "display(f\"GWAS file path: {str(GWAS_FILE)}\")"
   ]
  },
  {
   "cell_type": "code",
   "execution_count": 8,
   "id": "552a7f63-a18c-4d3e-bb6a-94f99b431291",
   "metadata": {
    "execution": {
     "iopub.execute_input": "2022-12-15T17:45:01.784070Z",
     "iopub.status.busy": "2022-12-15T17:45:01.783757Z",
     "iopub.status.idle": "2022-12-15T17:45:01.801656Z",
     "shell.execute_reply": "2022-12-15T17:45:01.801053Z"
    },
    "papermill": {
     "duration": 0.037432,
     "end_time": "2022-12-15T17:45:01.803116",
     "exception": false,
     "start_time": "2022-12-15T17:45:01.765684",
     "status": "completed"
    },
    "tags": []
   },
   "outputs": [
    {
     "data": {
      "text/plain": [
       "'S-PrediXcan folder path: /opt/data/projects/asthma-copd/results/twas/spredixcan'"
      ]
     },
     "metadata": {},
     "output_type": "display_data"
    }
   ],
   "source": [
    "assert (\n",
    "    SPREDIXCAN_FOLDER is not None and len(SPREDIXCAN_FOLDER) > 0\n",
    "), \"An S-PrediXcan folder path must be given\"\n",
    "SPREDIXCAN_FOLDER = Path(SPREDIXCAN_FOLDER).resolve()\n",
    "assert (\n",
    "    SPREDIXCAN_FOLDER.exists()\n",
    "), f\"S-PrediXcan folder does not exist: {str(SPREDIXCAN_FOLDER)}\"\n",
    "\n",
    "display(f\"S-PrediXcan folder path: {str(SPREDIXCAN_FOLDER)}\")"
   ]
  },
  {
   "cell_type": "code",
   "execution_count": 9,
   "id": "6e2000dc-f1dc-4db8-93d5-9a7209a2e121",
   "metadata": {
    "execution": {
     "iopub.execute_input": "2022-12-15T17:45:01.839046Z",
     "iopub.status.busy": "2022-12-15T17:45:01.838365Z",
     "iopub.status.idle": "2022-12-15T17:45:01.855357Z",
     "shell.execute_reply": "2022-12-15T17:45:01.854771Z"
    },
    "papermill": {
     "duration": 0.036257,
     "end_time": "2022-12-15T17:45:01.856840",
     "exception": false,
     "start_time": "2022-12-15T17:45:01.820583",
     "status": "completed"
    },
    "tags": []
   },
   "outputs": [
    {
     "data": {
      "text/plain": [
       "'S-PrediXcan file template: GWAS_COPD_only_GLM_SNPs_info0.7-gtex_v8-mashr-{tissue}.csv'"
      ]
     },
     "metadata": {},
     "output_type": "display_data"
    }
   ],
   "source": [
    "assert (\n",
    "    SPREDIXCAN_FILE_PATTERN is not None and len(SPREDIXCAN_FILE_PATTERN) > 0\n",
    "), \"An S-PrediXcan file pattern must be given\"\n",
    "assert (\n",
    "    \"{tissue}\" in SPREDIXCAN_FILE_PATTERN\n",
    "), \"S-PrediXcan file pattern must have a '{tissue}' placeholder\"\n",
    "\n",
    "display(f\"S-PrediXcan file template: {SPREDIXCAN_FILE_PATTERN}\")"
   ]
  },
  {
   "cell_type": "code",
   "execution_count": 10,
   "id": "f5a5aa9d-c6f3-4fb5-9351-37382b6e67bc",
   "metadata": {
    "execution": {
     "iopub.execute_input": "2022-12-15T17:45:01.893006Z",
     "iopub.status.busy": "2022-12-15T17:45:01.892527Z",
     "iopub.status.idle": "2022-12-15T17:45:01.910083Z",
     "shell.execute_reply": "2022-12-15T17:45:01.909491Z"
    },
    "papermill": {
     "duration": 0.036489,
     "end_time": "2022-12-15T17:45:01.911017",
     "exception": false,
     "start_time": "2022-12-15T17:45:01.874528",
     "status": "completed"
    },
    "tags": []
   },
   "outputs": [
    {
     "data": {
      "text/plain": [
       "'S-MultiXcan file path: /opt/data/projects/asthma-copd/results/twas/smultixcan/GWAS_COPD_only_GLM_SNPs_info0.7-gtex_v8-mashr-smultixcan.txt'"
      ]
     },
     "metadata": {},
     "output_type": "display_data"
    }
   ],
   "source": [
    "assert (\n",
    "    SMULTIXCAN_FILE is not None and len(SMULTIXCAN_FILE) > 0\n",
    "), \"An S-MultiXcan result file path must be given\"\n",
    "SMULTIXCAN_FILE = Path(SMULTIXCAN_FILE).resolve()\n",
    "assert (\n",
    "    SMULTIXCAN_FILE.exists()\n",
    "), f\"S-MultiXcan result file does not exist: {str(SMULTIXCAN_FILE)}\"\n",
    "\n",
    "display(f\"S-MultiXcan file path: {str(SMULTIXCAN_FILE)}\")"
   ]
  },
  {
   "cell_type": "code",
   "execution_count": 11,
   "id": "0723dc2f-34d1-407c-a55b-d6d13c55d63d",
   "metadata": {
    "execution": {
     "iopub.execute_input": "2022-12-15T17:45:01.932329Z",
     "iopub.status.busy": "2022-12-15T17:45:01.931866Z",
     "iopub.status.idle": "2022-12-15T17:45:01.948568Z",
     "shell.execute_reply": "2022-12-15T17:45:01.947964Z"
    },
    "papermill": {
     "duration": 0.029124,
     "end_time": "2022-12-15T17:45:01.949493",
     "exception": false,
     "start_time": "2022-12-15T17:45:01.920369",
     "status": "completed"
    },
    "tags": []
   },
   "outputs": [
    {
     "data": {
      "text/plain": [
       "'eQTL model: MASHR'"
      ]
     },
     "metadata": {},
     "output_type": "display_data"
    }
   ],
   "source": [
    "assert (\n",
    "    EQTL_MODEL is not None and len(EQTL_MODEL) > 0\n",
    "), \"A prediction/eQTL model must be given\"\n",
    "\n",
    "display(f\"eQTL model: {EQTL_MODEL}\")"
   ]
  },
  {
   "cell_type": "code",
   "execution_count": 12,
   "id": "46b9ec52-9c96-4062-b57a-783dfeea33c4",
   "metadata": {
    "execution": {
     "iopub.execute_input": "2022-12-15T17:45:01.971056Z",
     "iopub.status.busy": "2022-12-15T17:45:01.970845Z",
     "iopub.status.idle": "2022-12-15T17:45:01.991577Z",
     "shell.execute_reply": "2022-12-15T17:45:01.990950Z"
    },
    "papermill": {
     "duration": 0.033775,
     "end_time": "2022-12-15T17:45:01.992537",
     "exception": false,
     "start_time": "2022-12-15T17:45:01.958762",
     "status": "completed"
    },
    "tags": []
   },
   "outputs": [
    {
     "data": {
      "text/plain": [
       "'Using output dir base: /opt/data/projects/asthma-copd/results/gls_phenoplier/gene_corrs/copd_only'"
      ]
     },
     "metadata": {},
     "output_type": "display_data"
    }
   ],
   "source": [
    "assert (\n",
    "    OUTPUT_DIR_BASE is not None and len(OUTPUT_DIR_BASE) > 0\n",
    "), \"Output directory path must be given\"\n",
    "\n",
    "OUTPUT_DIR_BASE = (Path(OUTPUT_DIR_BASE) / \"gene_corrs\" / COHORT_NAME).resolve()\n",
    "\n",
    "OUTPUT_DIR_BASE.mkdir(parents=True, exist_ok=True)\n",
    "\n",
    "display(f\"Using output dir base: {OUTPUT_DIR_BASE}\")"
   ]
  },
  {
   "cell_type": "markdown",
   "id": "b6ebb422-8204-494b-8c72-360a71ce9863",
   "metadata": {
    "papermill": {
     "duration": 0.009105,
     "end_time": "2022-12-15T17:45:02.010878",
     "exception": false,
     "start_time": "2022-12-15T17:45:02.001773",
     "status": "completed"
    },
    "tags": []
   },
   "source": [
    "# Load MultiPLIER Z genes"
   ]
  },
  {
   "cell_type": "code",
   "execution_count": 13,
   "id": "c48ef527",
   "metadata": {
    "execution": {
     "iopub.execute_input": "2022-12-15T17:45:02.030875Z",
     "iopub.status.busy": "2022-12-15T17:45:02.030257Z",
     "iopub.status.idle": "2022-12-15T17:45:02.081078Z",
     "shell.execute_reply": "2022-12-15T17:45:02.080402Z"
    },
    "papermill": {
     "duration": 0.061679,
     "end_time": "2022-12-15T17:45:02.081948",
     "exception": false,
     "start_time": "2022-12-15T17:45:02.020269",
     "status": "completed"
    },
    "tags": []
   },
   "outputs": [],
   "source": [
    "multiplier_z_genes = pd.read_pickle(\n",
    "    conf.MULTIPLIER[\"MODEL_Z_MATRIX_FILE\"]\n",
    ").index.tolist()"
   ]
  },
  {
   "cell_type": "code",
   "execution_count": 14,
   "id": "0a4ecbd9",
   "metadata": {
    "execution": {
     "iopub.execute_input": "2022-12-15T17:45:02.101337Z",
     "iopub.status.busy": "2022-12-15T17:45:02.101128Z",
     "iopub.status.idle": "2022-12-15T17:45:02.118503Z",
     "shell.execute_reply": "2022-12-15T17:45:02.117933Z"
    },
    "papermill": {
     "duration": 0.028144,
     "end_time": "2022-12-15T17:45:02.119450",
     "exception": false,
     "start_time": "2022-12-15T17:45:02.091306",
     "status": "completed"
    },
    "tags": []
   },
   "outputs": [
    {
     "data": {
      "text/plain": [
       "6750"
      ]
     },
     "execution_count": 14,
     "metadata": {},
     "output_type": "execute_result"
    }
   ],
   "source": [
    "len(multiplier_z_genes)"
   ]
  },
  {
   "cell_type": "code",
   "execution_count": 15,
   "id": "a18ce359-0759-4260-ae6f-053e8c0041b7",
   "metadata": {
    "execution": {
     "iopub.execute_input": "2022-12-15T17:45:02.139454Z",
     "iopub.status.busy": "2022-12-15T17:45:02.138794Z",
     "iopub.status.idle": "2022-12-15T17:45:02.154735Z",
     "shell.execute_reply": "2022-12-15T17:45:02.154157Z"
    },
    "papermill": {
     "duration": 0.026675,
     "end_time": "2022-12-15T17:45:02.155690",
     "exception": false,
     "start_time": "2022-12-15T17:45:02.129015",
     "status": "completed"
    },
    "tags": []
   },
   "outputs": [],
   "source": [
    "assert len(multiplier_z_genes) == len(set(multiplier_z_genes))"
   ]
  },
  {
   "cell_type": "code",
   "execution_count": 16,
   "id": "115e8864",
   "metadata": {
    "execution": {
     "iopub.execute_input": "2022-12-15T17:45:02.175584Z",
     "iopub.status.busy": "2022-12-15T17:45:02.175370Z",
     "iopub.status.idle": "2022-12-15T17:45:02.192657Z",
     "shell.execute_reply": "2022-12-15T17:45:02.192059Z"
    },
    "papermill": {
     "duration": 0.028297,
     "end_time": "2022-12-15T17:45:02.193561",
     "exception": false,
     "start_time": "2022-12-15T17:45:02.165264",
     "status": "completed"
    },
    "tags": []
   },
   "outputs": [
    {
     "data": {
      "text/plain": [
       "['GAS6', 'MMP14', 'DSP', 'MARCKSL1', 'SPARC']"
      ]
     },
     "execution_count": 16,
     "metadata": {},
     "output_type": "execute_result"
    }
   ],
   "source": [
    "multiplier_z_genes[:5]"
   ]
  },
  {
   "cell_type": "markdown",
   "id": "7bed0ce0-e7c7-4300-9a61-5412450b1904",
   "metadata": {
    "papermill": {
     "duration": 0.009522,
     "end_time": "2022-12-15T17:45:02.212623",
     "exception": false,
     "start_time": "2022-12-15T17:45:02.203101",
     "status": "completed"
    },
    "tags": []
   },
   "source": [
    "# GWAS"
   ]
  },
  {
   "cell_type": "code",
   "execution_count": 17,
   "id": "331e5691-c014-43e4-b94c-060c64d329df",
   "metadata": {
    "execution": {
     "iopub.execute_input": "2022-12-15T17:45:02.232525Z",
     "iopub.status.busy": "2022-12-15T17:45:02.232101Z",
     "iopub.status.idle": "2022-12-15T17:45:02.253905Z",
     "shell.execute_reply": "2022-12-15T17:45:02.253281Z"
    },
    "papermill": {
     "duration": 0.032904,
     "end_time": "2022-12-15T17:45:02.254962",
     "exception": false,
     "start_time": "2022-12-15T17:45:02.222058",
     "status": "completed"
    },
    "tags": []
   },
   "outputs": [],
   "source": [
    "gwas_file_columns = pd.read_csv(GWAS_FILE, sep=\"\\t\", nrows=2).columns\n",
    "\n",
    "assert (\n",
    "    \"panel_variant_id\" in gwas_file_columns\n",
    "), \"The GWAS file must be the final imputed one using the TWAS imputation tools with column 'panel_variant_id'\"\n",
    "\n",
    "assert (\n",
    "    \"pvalue\" in gwas_file_columns\n",
    "), \"The GWAS file must be the final imputed one using the TWAS imputation tools with column 'pvalue'\"\n",
    "\n",
    "assert (\n",
    "    \"zscore\" in gwas_file_columns\n",
    "), \"The GWAS file must be the final imputed one using the TWAS imputation tools with column 'zscore'\""
   ]
  },
  {
   "cell_type": "code",
   "execution_count": 18,
   "id": "8d419629-8f4d-4c83-bed3-cfc071a58090",
   "metadata": {
    "execution": {
     "iopub.execute_input": "2022-12-15T17:45:02.274830Z",
     "iopub.status.busy": "2022-12-15T17:45:02.274340Z",
     "iopub.status.idle": "2022-12-15T17:45:12.317251Z",
     "shell.execute_reply": "2022-12-15T17:45:12.316695Z"
    },
    "papermill": {
     "duration": 10.053984,
     "end_time": "2022-12-15T17:45:12.318449",
     "exception": false,
     "start_time": "2022-12-15T17:45:02.264465",
     "status": "completed"
    },
    "tags": []
   },
   "outputs": [],
   "source": [
    "gwas_data = pd.read_csv(\n",
    "    GWAS_FILE,\n",
    "    sep=\"\\t\",\n",
    "    usecols=[\"panel_variant_id\", \"pvalue\", \"zscore\"],\n",
    ")"
   ]
  },
  {
   "cell_type": "code",
   "execution_count": 19,
   "id": "3f4e814e-6b41-407e-9099-86795eec6ed9",
   "metadata": {
    "execution": {
     "iopub.execute_input": "2022-12-15T17:45:12.339278Z",
     "iopub.status.busy": "2022-12-15T17:45:12.339142Z",
     "iopub.status.idle": "2022-12-15T17:45:12.350467Z",
     "shell.execute_reply": "2022-12-15T17:45:12.349994Z"
    },
    "papermill": {
     "duration": 0.022596,
     "end_time": "2022-12-15T17:45:12.351384",
     "exception": false,
     "start_time": "2022-12-15T17:45:12.328788",
     "status": "completed"
    },
    "tags": []
   },
   "outputs": [
    {
     "data": {
      "text/plain": [
       "(8590917, 3)"
      ]
     },
     "execution_count": 19,
     "metadata": {},
     "output_type": "execute_result"
    }
   ],
   "source": [
    "gwas_data.shape"
   ]
  },
  {
   "cell_type": "code",
   "execution_count": 20,
   "id": "b4a906e9-c80a-47fc-9d73-5adb046f8b76",
   "metadata": {
    "execution": {
     "iopub.execute_input": "2022-12-15T17:45:12.372046Z",
     "iopub.status.busy": "2022-12-15T17:45:12.371583Z",
     "iopub.status.idle": "2022-12-15T17:45:12.385535Z",
     "shell.execute_reply": "2022-12-15T17:45:12.385044Z"
    },
    "papermill": {
     "duration": 0.025383,
     "end_time": "2022-12-15T17:45:12.386471",
     "exception": false,
     "start_time": "2022-12-15T17:45:12.361088",
     "status": "completed"
    },
    "tags": []
   },
   "outputs": [
    {
     "data": {
      "text/html": [
       "<div>\n",
       "<style scoped>\n",
       "    .dataframe tbody tr th:only-of-type {\n",
       "        vertical-align: middle;\n",
       "    }\n",
       "\n",
       "    .dataframe tbody tr th {\n",
       "        vertical-align: top;\n",
       "    }\n",
       "\n",
       "    .dataframe thead th {\n",
       "        text-align: right;\n",
       "    }\n",
       "</style>\n",
       "<table border=\"1\" class=\"dataframe\">\n",
       "  <thead>\n",
       "    <tr style=\"text-align: right;\">\n",
       "      <th></th>\n",
       "      <th>panel_variant_id</th>\n",
       "      <th>zscore</th>\n",
       "      <th>pvalue</th>\n",
       "    </tr>\n",
       "  </thead>\n",
       "  <tbody>\n",
       "    <tr>\n",
       "      <th>0</th>\n",
       "      <td>chr1_54490_G_A_b38</td>\n",
       "      <td>0.399701</td>\n",
       "      <td>0.689377</td>\n",
       "    </tr>\n",
       "    <tr>\n",
       "      <th>1</th>\n",
       "      <td>chr1_87021_T_C_b38</td>\n",
       "      <td>1.185593</td>\n",
       "      <td>0.235783</td>\n",
       "    </tr>\n",
       "    <tr>\n",
       "      <th>2</th>\n",
       "      <td>chr1_263722_C_G_b38</td>\n",
       "      <td>0.288888</td>\n",
       "      <td>0.772667</td>\n",
       "    </tr>\n",
       "    <tr>\n",
       "      <th>3</th>\n",
       "      <td>chr1_594402_C_T_b38</td>\n",
       "      <td>0.346451</td>\n",
       "      <td>0.729003</td>\n",
       "    </tr>\n",
       "    <tr>\n",
       "      <th>4</th>\n",
       "      <td>chr1_630555_C_T_b38</td>\n",
       "      <td>0.091724</td>\n",
       "      <td>0.926917</td>\n",
       "    </tr>\n",
       "  </tbody>\n",
       "</table>\n",
       "</div>"
      ],
      "text/plain": [
       "      panel_variant_id    zscore    pvalue\n",
       "0   chr1_54490_G_A_b38  0.399701  0.689377\n",
       "1   chr1_87021_T_C_b38  1.185593  0.235783\n",
       "2  chr1_263722_C_G_b38  0.288888  0.772667\n",
       "3  chr1_594402_C_T_b38  0.346451  0.729003\n",
       "4  chr1_630555_C_T_b38  0.091724  0.926917"
      ]
     },
     "execution_count": 20,
     "metadata": {},
     "output_type": "execute_result"
    }
   ],
   "source": [
    "gwas_data.head()"
   ]
  },
  {
   "cell_type": "code",
   "execution_count": 21,
   "id": "033c24fb-9c60-4ffd-929e-b0e6089820ae",
   "metadata": {
    "execution": {
     "iopub.execute_input": "2022-12-15T17:45:12.407227Z",
     "iopub.status.busy": "2022-12-15T17:45:12.407093Z",
     "iopub.status.idle": "2022-12-15T17:45:13.306463Z",
     "shell.execute_reply": "2022-12-15T17:45:13.305915Z"
    },
    "papermill": {
     "duration": 0.910867,
     "end_time": "2022-12-15T17:45:13.307487",
     "exception": false,
     "start_time": "2022-12-15T17:45:12.396620",
     "status": "completed"
    },
    "tags": []
   },
   "outputs": [
    {
     "data": {
      "text/plain": [
       "(8586183, 3)"
      ]
     },
     "execution_count": 21,
     "metadata": {},
     "output_type": "execute_result"
    }
   ],
   "source": [
    "gwas_data.dropna().shape"
   ]
  },
  {
   "cell_type": "code",
   "execution_count": 22,
   "id": "28232ce5-0afd-464e-9be3-64c3a68c2b25",
   "metadata": {
    "execution": {
     "iopub.execute_input": "2022-12-15T17:45:13.328234Z",
     "iopub.status.busy": "2022-12-15T17:45:13.328002Z",
     "iopub.status.idle": "2022-12-15T17:45:14.175212Z",
     "shell.execute_reply": "2022-12-15T17:45:14.174656Z"
    },
    "papermill": {
     "duration": 0.858809,
     "end_time": "2022-12-15T17:45:14.176434",
     "exception": false,
     "start_time": "2022-12-15T17:45:13.317625",
     "status": "completed"
    },
    "tags": []
   },
   "outputs": [],
   "source": [
    "# remove SNPs with no results\n",
    "gwas_data = gwas_data.dropna()"
   ]
  },
  {
   "cell_type": "code",
   "execution_count": 23,
   "id": "d9a6c31f-eedd-43e5-b762-5a9663be1b77",
   "metadata": {
    "execution": {
     "iopub.execute_input": "2022-12-15T17:45:14.198017Z",
     "iopub.status.busy": "2022-12-15T17:45:14.197471Z",
     "iopub.status.idle": "2022-12-15T17:45:14.208823Z",
     "shell.execute_reply": "2022-12-15T17:45:14.208345Z"
    },
    "papermill": {
     "duration": 0.02281,
     "end_time": "2022-12-15T17:45:14.209791",
     "exception": false,
     "start_time": "2022-12-15T17:45:14.186981",
     "status": "completed"
    },
    "tags": []
   },
   "outputs": [
    {
     "data": {
      "text/plain": [
       "(8586183, 3)"
      ]
     },
     "execution_count": 23,
     "metadata": {},
     "output_type": "execute_result"
    }
   ],
   "source": [
    "gwas_data.shape"
   ]
  },
  {
   "cell_type": "markdown",
   "id": "8da344de-2aa5-48a9-98ec-e8c3397ae7e6",
   "metadata": {
    "papermill": {
     "duration": 0.009772,
     "end_time": "2022-12-15T17:45:14.229868",
     "exception": false,
     "start_time": "2022-12-15T17:45:14.220096",
     "status": "completed"
    },
    "tags": []
   },
   "source": [
    "## Save GWAS variants"
   ]
  },
  {
   "cell_type": "code",
   "execution_count": 24,
   "id": "ac11fb33-ea3c-4d5c-a90b-0ceebdac43d3",
   "metadata": {
    "execution": {
     "iopub.execute_input": "2022-12-15T17:45:14.250197Z",
     "iopub.status.busy": "2022-12-15T17:45:14.249922Z",
     "iopub.status.idle": "2022-12-15T17:45:14.262668Z",
     "shell.execute_reply": "2022-12-15T17:45:14.262183Z"
    },
    "papermill": {
     "duration": 0.023959,
     "end_time": "2022-12-15T17:45:14.263590",
     "exception": false,
     "start_time": "2022-12-15T17:45:14.239631",
     "status": "completed"
    },
    "tags": []
   },
   "outputs": [
    {
     "data": {
      "text/html": [
       "<div>\n",
       "<style scoped>\n",
       "    .dataframe tbody tr th:only-of-type {\n",
       "        vertical-align: middle;\n",
       "    }\n",
       "\n",
       "    .dataframe tbody tr th {\n",
       "        vertical-align: top;\n",
       "    }\n",
       "\n",
       "    .dataframe thead th {\n",
       "        text-align: right;\n",
       "    }\n",
       "</style>\n",
       "<table border=\"1\" class=\"dataframe\">\n",
       "  <thead>\n",
       "    <tr style=\"text-align: right;\">\n",
       "      <th></th>\n",
       "      <th>panel_variant_id</th>\n",
       "      <th>zscore</th>\n",
       "      <th>pvalue</th>\n",
       "    </tr>\n",
       "  </thead>\n",
       "  <tbody>\n",
       "    <tr>\n",
       "      <th>0</th>\n",
       "      <td>chr1_54490_G_A_b38</td>\n",
       "      <td>0.399701</td>\n",
       "      <td>0.689377</td>\n",
       "    </tr>\n",
       "    <tr>\n",
       "      <th>1</th>\n",
       "      <td>chr1_87021_T_C_b38</td>\n",
       "      <td>1.185593</td>\n",
       "      <td>0.235783</td>\n",
       "    </tr>\n",
       "    <tr>\n",
       "      <th>2</th>\n",
       "      <td>chr1_263722_C_G_b38</td>\n",
       "      <td>0.288888</td>\n",
       "      <td>0.772667</td>\n",
       "    </tr>\n",
       "    <tr>\n",
       "      <th>3</th>\n",
       "      <td>chr1_594402_C_T_b38</td>\n",
       "      <td>0.346451</td>\n",
       "      <td>0.729003</td>\n",
       "    </tr>\n",
       "    <tr>\n",
       "      <th>4</th>\n",
       "      <td>chr1_630555_C_T_b38</td>\n",
       "      <td>0.091724</td>\n",
       "      <td>0.926917</td>\n",
       "    </tr>\n",
       "  </tbody>\n",
       "</table>\n",
       "</div>"
      ],
      "text/plain": [
       "      panel_variant_id    zscore    pvalue\n",
       "0   chr1_54490_G_A_b38  0.399701  0.689377\n",
       "1   chr1_87021_T_C_b38  1.185593  0.235783\n",
       "2  chr1_263722_C_G_b38  0.288888  0.772667\n",
       "3  chr1_594402_C_T_b38  0.346451  0.729003\n",
       "4  chr1_630555_C_T_b38  0.091724  0.926917"
      ]
     },
     "execution_count": 24,
     "metadata": {},
     "output_type": "execute_result"
    }
   ],
   "source": [
    "gwas_data.head()"
   ]
  },
  {
   "cell_type": "code",
   "execution_count": 25,
   "id": "5f34bb3d-761a-4860-a179-77ea5f5784ad",
   "metadata": {
    "execution": {
     "iopub.execute_input": "2022-12-15T17:45:14.284298Z",
     "iopub.status.busy": "2022-12-15T17:45:14.284162Z",
     "iopub.status.idle": "2022-12-15T17:45:18.117756Z",
     "shell.execute_reply": "2022-12-15T17:45:18.117113Z"
    },
    "papermill": {
     "duration": 3.844882,
     "end_time": "2022-12-15T17:45:18.118758",
     "exception": false,
     "start_time": "2022-12-15T17:45:14.273876",
     "status": "completed"
    },
    "tags": []
   },
   "outputs": [
    {
     "data": {
      "text/plain": [
       "True"
      ]
     },
     "execution_count": 25,
     "metadata": {},
     "output_type": "execute_result"
    }
   ],
   "source": [
    "# in eMERGE's results, some values here are repeated (will be removed later by taking the unique set of variant IDs).\n",
    "gwas_data[\"panel_variant_id\"].is_unique"
   ]
  },
  {
   "cell_type": "code",
   "execution_count": 26,
   "id": "d4f23b2f-01a3-4a45-a2b6-31b245b5778e",
   "metadata": {
    "execution": {
     "iopub.execute_input": "2022-12-15T17:45:18.140041Z",
     "iopub.status.busy": "2022-12-15T17:45:18.139907Z",
     "iopub.status.idle": "2022-12-15T17:45:20.181709Z",
     "shell.execute_reply": "2022-12-15T17:45:20.181099Z"
    },
    "papermill": {
     "duration": 2.053699,
     "end_time": "2022-12-15T17:45:20.182699",
     "exception": false,
     "start_time": "2022-12-15T17:45:18.129000",
     "status": "completed"
    },
    "tags": []
   },
   "outputs": [
    {
     "data": {
      "text/plain": [
       "['chr6_31809415_A_G_b38',\n",
       " 'chr10_42934866_T_A_b38',\n",
       " 'chr1_65455635_C_T_b38',\n",
       " 'chr2_222723868_A_G_b38',\n",
       " 'chr10_78645142_C_T_b38']"
      ]
     },
     "execution_count": 26,
     "metadata": {},
     "output_type": "execute_result"
    }
   ],
   "source": [
    "gwas_variants_ids_set = frozenset(gwas_data[\"panel_variant_id\"])\n",
    "list(gwas_variants_ids_set)[:5]"
   ]
  },
  {
   "cell_type": "code",
   "execution_count": 27,
   "id": "b4a441df-07d7-48dc-be36-cdb3f92be651",
   "metadata": {
    "execution": {
     "iopub.execute_input": "2022-12-15T17:45:20.204387Z",
     "iopub.status.busy": "2022-12-15T17:45:20.203859Z",
     "iopub.status.idle": "2022-12-15T17:45:23.122730Z",
     "shell.execute_reply": "2022-12-15T17:45:23.122186Z"
    },
    "papermill": {
     "duration": 2.93153,
     "end_time": "2022-12-15T17:45:23.124429",
     "exception": false,
     "start_time": "2022-12-15T17:45:20.192899",
     "status": "completed"
    },
    "tags": []
   },
   "outputs": [],
   "source": [
    "with open(OUTPUT_DIR_BASE / \"gwas_variant_ids.pkl\", \"wb\") as handle:\n",
    "    pickle.dump(gwas_variants_ids_set, handle, protocol=pickle.HIGHEST_PROTOCOL)"
   ]
  },
  {
   "cell_type": "markdown",
   "id": "abcc4b3d",
   "metadata": {
    "papermill": {
     "duration": 0.019287,
     "end_time": "2022-12-15T17:45:23.163182",
     "exception": false,
     "start_time": "2022-12-15T17:45:23.143895",
     "status": "completed"
    },
    "tags": []
   },
   "source": [
    "# TWAS"
   ]
  },
  {
   "cell_type": "markdown",
   "id": "2fbc7358-0563-4fc6-bc47-a0fbcc5cdfd4",
   "metadata": {
    "papermill": {
     "duration": 0.019426,
     "end_time": "2022-12-15T17:45:23.201754",
     "exception": false,
     "start_time": "2022-12-15T17:45:23.182328",
     "status": "completed"
    },
    "tags": []
   },
   "source": [
    "## Available tissues for eQTL model"
   ]
  },
  {
   "cell_type": "code",
   "execution_count": 28,
   "id": "f32c0a84-030a-436b-b597-852b6150d2ac",
   "metadata": {
    "execution": {
     "iopub.execute_input": "2022-12-15T17:45:23.225930Z",
     "iopub.status.busy": "2022-12-15T17:45:23.225340Z",
     "iopub.status.idle": "2022-12-15T17:45:23.239040Z",
     "shell.execute_reply": "2022-12-15T17:45:23.238518Z"
    },
    "papermill": {
     "duration": 0.025409,
     "end_time": "2022-12-15T17:45:23.240014",
     "exception": false,
     "start_time": "2022-12-15T17:45:23.214605",
     "status": "completed"
    },
    "tags": []
   },
   "outputs": [],
   "source": [
    "prediction_model_tissues = conf.PHENOMEXCAN[\"PREDICTION_MODELS\"][\n",
    "    f\"{EQTL_MODEL}_TISSUES\"\n",
    "].split(\" \")"
   ]
  },
  {
   "cell_type": "code",
   "execution_count": 29,
   "id": "0e760d0e-f23d-4590-abfb-811a43f7c237",
   "metadata": {
    "execution": {
     "iopub.execute_input": "2022-12-15T17:45:23.261359Z",
     "iopub.status.busy": "2022-12-15T17:45:23.260932Z",
     "iopub.status.idle": "2022-12-15T17:45:23.274076Z",
     "shell.execute_reply": "2022-12-15T17:45:23.273579Z"
    },
    "papermill": {
     "duration": 0.024565,
     "end_time": "2022-12-15T17:45:23.274892",
     "exception": false,
     "start_time": "2022-12-15T17:45:23.250327",
     "status": "completed"
    },
    "tags": []
   },
   "outputs": [
    {
     "data": {
      "text/plain": [
       "49"
      ]
     },
     "execution_count": 29,
     "metadata": {},
     "output_type": "execute_result"
    }
   ],
   "source": [
    "len(prediction_model_tissues)"
   ]
  },
  {
   "cell_type": "code",
   "execution_count": 30,
   "id": "fa4d942c-cd67-4b31-9491-585c887c0ee3",
   "metadata": {
    "execution": {
     "iopub.execute_input": "2022-12-15T17:45:23.296475Z",
     "iopub.status.busy": "2022-12-15T17:45:23.296051Z",
     "iopub.status.idle": "2022-12-15T17:45:23.312692Z",
     "shell.execute_reply": "2022-12-15T17:45:23.312106Z"
    },
    "papermill": {
     "duration": 0.028266,
     "end_time": "2022-12-15T17:45:23.313617",
     "exception": false,
     "start_time": "2022-12-15T17:45:23.285351",
     "status": "completed"
    },
    "tags": []
   },
   "outputs": [
    {
     "data": {
      "text/plain": [
       "['Thyroid',\n",
       " 'Artery_Aorta',\n",
       " 'Heart_Atrial_Appendage',\n",
       " 'Liver',\n",
       " 'Heart_Left_Ventricle']"
      ]
     },
     "execution_count": 30,
     "metadata": {},
     "output_type": "execute_result"
    }
   ],
   "source": [
    "prediction_model_tissues[:5]"
   ]
  },
  {
   "cell_type": "markdown",
   "id": "fab4814d-757c-4247-b5e4-891bc4863db7",
   "metadata": {
    "papermill": {
     "duration": 0.010042,
     "end_time": "2022-12-15T17:45:23.333983",
     "exception": false,
     "start_time": "2022-12-15T17:45:23.323941",
     "status": "completed"
    },
    "tags": []
   },
   "source": [
    "## S-MultiXcan results"
   ]
  },
  {
   "cell_type": "code",
   "execution_count": 31,
   "id": "2b73c11e-9aa2-410e-84b4-a70be34d02e4",
   "metadata": {
    "execution": {
     "iopub.execute_input": "2022-12-15T17:45:23.355375Z",
     "iopub.status.busy": "2022-12-15T17:45:23.354935Z",
     "iopub.status.idle": "2022-12-15T17:45:23.420881Z",
     "shell.execute_reply": "2022-12-15T17:45:23.420206Z"
    },
    "papermill": {
     "duration": 0.077705,
     "end_time": "2022-12-15T17:45:23.421842",
     "exception": false,
     "start_time": "2022-12-15T17:45:23.344137",
     "status": "completed"
    },
    "tags": []
   },
   "outputs": [],
   "source": [
    "smultixcan_results = pd.read_csv(\n",
    "    SMULTIXCAN_FILE, sep=\"\\t\", usecols=[\"gene\", \"gene_name\", \"pvalue\", \"n\", \"n_indep\"]\n",
    ")"
   ]
  },
  {
   "cell_type": "code",
   "execution_count": 32,
   "id": "8b5abebd-baab-4188-9e3d-655ebbe32401",
   "metadata": {
    "execution": {
     "iopub.execute_input": "2022-12-15T17:45:23.443751Z",
     "iopub.status.busy": "2022-12-15T17:45:23.443246Z",
     "iopub.status.idle": "2022-12-15T17:45:23.460755Z",
     "shell.execute_reply": "2022-12-15T17:45:23.460167Z"
    },
    "papermill": {
     "duration": 0.029406,
     "end_time": "2022-12-15T17:45:23.461686",
     "exception": false,
     "start_time": "2022-12-15T17:45:23.432280",
     "status": "completed"
    },
    "tags": []
   },
   "outputs": [
    {
     "data": {
      "text/plain": [
       "(22329, 5)"
      ]
     },
     "execution_count": 32,
     "metadata": {},
     "output_type": "execute_result"
    }
   ],
   "source": [
    "smultixcan_results.shape"
   ]
  },
  {
   "cell_type": "code",
   "execution_count": 33,
   "id": "c65e233f-9ef6-4883-9386-7abf1d6d1cbd",
   "metadata": {
    "execution": {
     "iopub.execute_input": "2022-12-15T17:45:23.483488Z",
     "iopub.status.busy": "2022-12-15T17:45:23.483004Z",
     "iopub.status.idle": "2022-12-15T17:45:23.506320Z",
     "shell.execute_reply": "2022-12-15T17:45:23.505681Z"
    },
    "papermill": {
     "duration": 0.03515,
     "end_time": "2022-12-15T17:45:23.507263",
     "exception": false,
     "start_time": "2022-12-15T17:45:23.472113",
     "status": "completed"
    },
    "tags": []
   },
   "outputs": [],
   "source": [
    "smultixcan_results = smultixcan_results.dropna()"
   ]
  },
  {
   "cell_type": "code",
   "execution_count": 34,
   "id": "57d2d311-4a42-4725-9e37-b124ed13ad33",
   "metadata": {
    "execution": {
     "iopub.execute_input": "2022-12-15T17:45:23.547897Z",
     "iopub.status.busy": "2022-12-15T17:45:23.547238Z",
     "iopub.status.idle": "2022-12-15T17:45:23.564635Z",
     "shell.execute_reply": "2022-12-15T17:45:23.564034Z"
    },
    "papermill": {
     "duration": 0.038579,
     "end_time": "2022-12-15T17:45:23.565450",
     "exception": false,
     "start_time": "2022-12-15T17:45:23.526871",
     "status": "completed"
    },
    "tags": []
   },
   "outputs": [
    {
     "data": {
      "text/plain": [
       "(22326, 5)"
      ]
     },
     "execution_count": 34,
     "metadata": {},
     "output_type": "execute_result"
    }
   ],
   "source": [
    "smultixcan_results.shape"
   ]
  },
  {
   "cell_type": "code",
   "execution_count": 35,
   "id": "a36b5b59-f4b6-45bf-b241-ffc9671b357f",
   "metadata": {
    "execution": {
     "iopub.execute_input": "2022-12-15T17:45:23.587232Z",
     "iopub.status.busy": "2022-12-15T17:45:23.587026Z",
     "iopub.status.idle": "2022-12-15T17:45:23.611720Z",
     "shell.execute_reply": "2022-12-15T17:45:23.611081Z"
    },
    "papermill": {
     "duration": 0.036486,
     "end_time": "2022-12-15T17:45:23.612629",
     "exception": false,
     "start_time": "2022-12-15T17:45:23.576143",
     "status": "completed"
    },
    "tags": []
   },
   "outputs": [],
   "source": [
    "smultixcan_results = smultixcan_results.assign(\n",
    "    gene_id=smultixcan_results[\"gene\"].apply(lambda g: g.split(\".\")[0])\n",
    ")"
   ]
  },
  {
   "cell_type": "code",
   "execution_count": 36,
   "id": "c49f62a9-a01a-44af-87da-47d195b0ef7e",
   "metadata": {
    "execution": {
     "iopub.execute_input": "2022-12-15T17:45:23.634820Z",
     "iopub.status.busy": "2022-12-15T17:45:23.634282Z",
     "iopub.status.idle": "2022-12-15T17:45:23.657086Z",
     "shell.execute_reply": "2022-12-15T17:45:23.656499Z"
    },
    "papermill": {
     "duration": 0.034889,
     "end_time": "2022-12-15T17:45:23.657926",
     "exception": false,
     "start_time": "2022-12-15T17:45:23.623037",
     "status": "completed"
    },
    "tags": []
   },
   "outputs": [
    {
     "data": {
      "text/html": [
       "<div>\n",
       "<style scoped>\n",
       "    .dataframe tbody tr th:only-of-type {\n",
       "        vertical-align: middle;\n",
       "    }\n",
       "\n",
       "    .dataframe tbody tr th {\n",
       "        vertical-align: top;\n",
       "    }\n",
       "\n",
       "    .dataframe thead th {\n",
       "        text-align: right;\n",
       "    }\n",
       "</style>\n",
       "<table border=\"1\" class=\"dataframe\">\n",
       "  <thead>\n",
       "    <tr style=\"text-align: right;\">\n",
       "      <th></th>\n",
       "      <th>gene</th>\n",
       "      <th>gene_name</th>\n",
       "      <th>pvalue</th>\n",
       "      <th>n</th>\n",
       "      <th>n_indep</th>\n",
       "      <th>gene_id</th>\n",
       "    </tr>\n",
       "  </thead>\n",
       "  <tbody>\n",
       "    <tr>\n",
       "      <th>0</th>\n",
       "      <td>ENSG00000041357.15</td>\n",
       "      <td>PSMA4</td>\n",
       "      <td>1.536671e-22</td>\n",
       "      <td>49.0</td>\n",
       "      <td>4.0</td>\n",
       "      <td>ENSG00000041357</td>\n",
       "    </tr>\n",
       "    <tr>\n",
       "      <th>1</th>\n",
       "      <td>ENSG00000168743.12</td>\n",
       "      <td>NPNT</td>\n",
       "      <td>1.710790e-22</td>\n",
       "      <td>49.0</td>\n",
       "      <td>5.0</td>\n",
       "      <td>ENSG00000168743</td>\n",
       "    </tr>\n",
       "    <tr>\n",
       "      <th>2</th>\n",
       "      <td>ENSG00000080644.15</td>\n",
       "      <td>CHRNA3</td>\n",
       "      <td>2.757816e-21</td>\n",
       "      <td>19.0</td>\n",
       "      <td>4.0</td>\n",
       "      <td>ENSG00000080644</td>\n",
       "    </tr>\n",
       "    <tr>\n",
       "      <th>3</th>\n",
       "      <td>ENSG00000169684.13</td>\n",
       "      <td>CHRNA5</td>\n",
       "      <td>1.915449e-20</td>\n",
       "      <td>46.0</td>\n",
       "      <td>3.0</td>\n",
       "      <td>ENSG00000169684</td>\n",
       "    </tr>\n",
       "    <tr>\n",
       "      <th>4</th>\n",
       "      <td>ENSG00000188266.13</td>\n",
       "      <td>HYKK</td>\n",
       "      <td>7.494625e-20</td>\n",
       "      <td>34.0</td>\n",
       "      <td>5.0</td>\n",
       "      <td>ENSG00000188266</td>\n",
       "    </tr>\n",
       "  </tbody>\n",
       "</table>\n",
       "</div>"
      ],
      "text/plain": [
       "                 gene gene_name        pvalue     n  n_indep          gene_id\n",
       "0  ENSG00000041357.15     PSMA4  1.536671e-22  49.0      4.0  ENSG00000041357\n",
       "1  ENSG00000168743.12      NPNT  1.710790e-22  49.0      5.0  ENSG00000168743\n",
       "2  ENSG00000080644.15    CHRNA3  2.757816e-21  19.0      4.0  ENSG00000080644\n",
       "3  ENSG00000169684.13    CHRNA5  1.915449e-20  46.0      3.0  ENSG00000169684\n",
       "4  ENSG00000188266.13      HYKK  7.494625e-20  34.0      5.0  ENSG00000188266"
      ]
     },
     "execution_count": 36,
     "metadata": {},
     "output_type": "execute_result"
    }
   ],
   "source": [
    "smultixcan_results.head()"
   ]
  },
  {
   "cell_type": "code",
   "execution_count": 37,
   "id": "9c4c023c-86d6-4c4b-8d57-c2b6b93aaf84",
   "metadata": {
    "execution": {
     "iopub.execute_input": "2022-12-15T17:45:23.680176Z",
     "iopub.status.busy": "2022-12-15T17:45:23.679713Z",
     "iopub.status.idle": "2022-12-15T17:45:23.698027Z",
     "shell.execute_reply": "2022-12-15T17:45:23.697441Z"
    },
    "papermill": {
     "duration": 0.030421,
     "end_time": "2022-12-15T17:45:23.698908",
     "exception": false,
     "start_time": "2022-12-15T17:45:23.668487",
     "status": "completed"
    },
    "tags": []
   },
   "outputs": [],
   "source": [
    "assert smultixcan_results[\"gene_id\"].is_unique"
   ]
  },
  {
   "cell_type": "markdown",
   "id": "1f9939f1-4200-40d9-a8bf-8e4fd68bee48",
   "metadata": {
    "papermill": {
     "duration": 0.010639,
     "end_time": "2022-12-15T17:45:23.720249",
     "exception": false,
     "start_time": "2022-12-15T17:45:23.709610",
     "status": "completed"
    },
    "tags": []
   },
   "source": [
    "### Get common genes with MultiPLIER"
   ]
  },
  {
   "cell_type": "code",
   "execution_count": 38,
   "id": "c820e6cf-6350-45af-b49a-0abd94f570ff",
   "metadata": {
    "execution": {
     "iopub.execute_input": "2022-12-15T17:45:23.742656Z",
     "iopub.status.busy": "2022-12-15T17:45:23.742261Z",
     "iopub.status.idle": "2022-12-15T17:45:23.762814Z",
     "shell.execute_reply": "2022-12-15T17:45:23.762198Z"
    },
    "papermill": {
     "duration": 0.032916,
     "end_time": "2022-12-15T17:45:23.763784",
     "exception": false,
     "start_time": "2022-12-15T17:45:23.730868",
     "status": "completed"
    },
    "tags": []
   },
   "outputs": [],
   "source": [
    "common_genes = set(multiplier_z_genes).intersection(\n",
    "    set(smultixcan_results[\"gene_name\"])\n",
    ")"
   ]
  },
  {
   "cell_type": "code",
   "execution_count": 39,
   "id": "0a7328f9-96c7-4ac6-a9a6-ae4fa121a4cd",
   "metadata": {
    "execution": {
     "iopub.execute_input": "2022-12-15T17:45:23.786083Z",
     "iopub.status.busy": "2022-12-15T17:45:23.785632Z",
     "iopub.status.idle": "2022-12-15T17:45:23.802193Z",
     "shell.execute_reply": "2022-12-15T17:45:23.801636Z"
    },
    "papermill": {
     "duration": 0.028703,
     "end_time": "2022-12-15T17:45:23.803078",
     "exception": false,
     "start_time": "2022-12-15T17:45:23.774375",
     "status": "completed"
    },
    "tags": []
   },
   "outputs": [
    {
     "data": {
      "text/plain": [
       "6445"
      ]
     },
     "execution_count": 39,
     "metadata": {},
     "output_type": "execute_result"
    }
   ],
   "source": [
    "len(common_genes)"
   ]
  },
  {
   "cell_type": "code",
   "execution_count": 40,
   "id": "5b08d362-44c8-4db2-9258-670e2e2a9cc0",
   "metadata": {
    "execution": {
     "iopub.execute_input": "2022-12-15T17:45:23.825485Z",
     "iopub.status.busy": "2022-12-15T17:45:23.825037Z",
     "iopub.status.idle": "2022-12-15T17:45:23.842849Z",
     "shell.execute_reply": "2022-12-15T17:45:23.842284Z"
    },
    "papermill": {
     "duration": 0.030024,
     "end_time": "2022-12-15T17:45:23.843717",
     "exception": false,
     "start_time": "2022-12-15T17:45:23.813693",
     "status": "completed"
    },
    "tags": []
   },
   "outputs": [
    {
     "data": {
      "text/plain": [
       "['A2M', 'AAAS', 'AANAT', 'AARS', 'AARS2']"
      ]
     },
     "execution_count": 40,
     "metadata": {},
     "output_type": "execute_result"
    }
   ],
   "source": [
    "sorted(list(common_genes))[:5]"
   ]
  },
  {
   "cell_type": "markdown",
   "id": "7f51338b-8a75-42c3-a7e5-a0961cefb663",
   "metadata": {
    "papermill": {
     "duration": 0.010703,
     "end_time": "2022-12-15T17:45:23.865022",
     "exception": false,
     "start_time": "2022-12-15T17:45:23.854319",
     "status": "completed"
    },
    "tags": []
   },
   "source": [
    "## Genes info"
   ]
  },
  {
   "cell_type": "code",
   "execution_count": 41,
   "id": "bb932812",
   "metadata": {
    "execution": {
     "iopub.execute_input": "2022-12-15T17:45:23.887160Z",
     "iopub.status.busy": "2022-12-15T17:45:23.886957Z",
     "iopub.status.idle": "2022-12-15T17:45:24.505086Z",
     "shell.execute_reply": "2022-12-15T17:45:24.504540Z"
    },
    "papermill": {
     "duration": 0.631017,
     "end_time": "2022-12-15T17:45:24.506623",
     "exception": false,
     "start_time": "2022-12-15T17:45:23.875606",
     "status": "completed"
    },
    "tags": []
   },
   "outputs": [],
   "source": [
    "multiplier_gene_obj = {\n",
    "    gene_name: Gene(name=gene_name)\n",
    "    for gene_name in common_genes\n",
    "    if gene_name in Gene.GENE_NAME_TO_ID_MAP\n",
    "}"
   ]
  },
  {
   "cell_type": "code",
   "execution_count": 42,
   "id": "cb9d7a45-2b7d-4d10-80dc-212a625b5ae7",
   "metadata": {
    "execution": {
     "iopub.execute_input": "2022-12-15T17:45:24.548823Z",
     "iopub.status.busy": "2022-12-15T17:45:24.548703Z",
     "iopub.status.idle": "2022-12-15T17:45:24.558914Z",
     "shell.execute_reply": "2022-12-15T17:45:24.558466Z"
    },
    "papermill": {
     "duration": 0.033256,
     "end_time": "2022-12-15T17:45:24.560334",
     "exception": false,
     "start_time": "2022-12-15T17:45:24.527078",
     "status": "completed"
    },
    "tags": []
   },
   "outputs": [],
   "source": [
    "# delete common_genes, from now on, genes_info should be used for common genes\n",
    "del common_genes"
   ]
  },
  {
   "cell_type": "code",
   "execution_count": 43,
   "id": "39533214",
   "metadata": {
    "execution": {
     "iopub.execute_input": "2022-12-15T17:45:24.601926Z",
     "iopub.status.busy": "2022-12-15T17:45:24.601816Z",
     "iopub.status.idle": "2022-12-15T17:45:24.611415Z",
     "shell.execute_reply": "2022-12-15T17:45:24.610979Z"
    },
    "papermill": {
     "duration": 0.031985,
     "end_time": "2022-12-15T17:45:24.612772",
     "exception": false,
     "start_time": "2022-12-15T17:45:24.580787",
     "status": "completed"
    },
    "tags": []
   },
   "outputs": [
    {
     "data": {
      "text/plain": [
       "6445"
      ]
     },
     "execution_count": 43,
     "metadata": {},
     "output_type": "execute_result"
    }
   ],
   "source": [
    "len(multiplier_gene_obj)"
   ]
  },
  {
   "cell_type": "code",
   "execution_count": 44,
   "id": "9a5d0b84",
   "metadata": {
    "execution": {
     "iopub.execute_input": "2022-12-15T17:45:24.648403Z",
     "iopub.status.busy": "2022-12-15T17:45:24.648008Z",
     "iopub.status.idle": "2022-12-15T17:45:24.663341Z",
     "shell.execute_reply": "2022-12-15T17:45:24.662756Z"
    },
    "papermill": {
     "duration": 0.030966,
     "end_time": "2022-12-15T17:45:24.664294",
     "exception": false,
     "start_time": "2022-12-15T17:45:24.633328",
     "status": "completed"
    },
    "tags": []
   },
   "outputs": [],
   "source": [
    "assert multiplier_gene_obj[\"GAS6\"].ensembl_id == \"ENSG00000183087\""
   ]
  },
  {
   "cell_type": "code",
   "execution_count": 45,
   "id": "e3ffabc7",
   "metadata": {
    "execution": {
     "iopub.execute_input": "2022-12-15T17:45:24.687061Z",
     "iopub.status.busy": "2022-12-15T17:45:24.686612Z",
     "iopub.status.idle": "2022-12-15T17:45:26.427802Z",
     "shell.execute_reply": "2022-12-15T17:45:26.427198Z"
    },
    "papermill": {
     "duration": 1.753808,
     "end_time": "2022-12-15T17:45:26.429016",
     "exception": false,
     "start_time": "2022-12-15T17:45:24.675208",
     "status": "completed"
    },
    "tags": []
   },
   "outputs": [],
   "source": [
    "_gene_obj = list(multiplier_gene_obj.values())\n",
    "\n",
    "genes_info = pd.DataFrame(\n",
    "    {\n",
    "        \"name\": [g.name for g in _gene_obj],\n",
    "        \"id\": [g.ensembl_id for g in _gene_obj],\n",
    "        \"chr\": [g.chromosome for g in _gene_obj],\n",
    "        \"band\": [g.band for g in _gene_obj],\n",
    "        \"start_position\": [g.get_attribute(\"start_position\") for g in _gene_obj],\n",
    "        \"end_position\": [g.get_attribute(\"end_position\") for g in _gene_obj],\n",
    "    }\n",
    ")"
   ]
  },
  {
   "cell_type": "code",
   "execution_count": 46,
   "id": "00475e72-1cfc-485f-8b4e-1d9cce695f58",
   "metadata": {
    "execution": {
     "iopub.execute_input": "2022-12-15T17:45:26.452182Z",
     "iopub.status.busy": "2022-12-15T17:45:26.452061Z",
     "iopub.status.idle": "2022-12-15T17:45:26.494058Z",
     "shell.execute_reply": "2022-12-15T17:45:26.493517Z"
    },
    "papermill": {
     "duration": 0.054313,
     "end_time": "2022-12-15T17:45:26.494936",
     "exception": false,
     "start_time": "2022-12-15T17:45:26.440623",
     "status": "completed"
    },
    "tags": []
   },
   "outputs": [],
   "source": [
    "genes_info = genes_info.assign(\n",
    "    gene_length=genes_info.apply(\n",
    "        lambda x: x[\"end_position\"] - x[\"start_position\"], axis=1\n",
    "    )\n",
    ")"
   ]
  },
  {
   "cell_type": "code",
   "execution_count": 47,
   "id": "3af1a166-08a0-4333-bc09-b8bc762aa7ef",
   "metadata": {
    "execution": {
     "iopub.execute_input": "2022-12-15T17:45:26.517584Z",
     "iopub.status.busy": "2022-12-15T17:45:26.517390Z",
     "iopub.status.idle": "2022-12-15T17:45:26.528679Z",
     "shell.execute_reply": "2022-12-15T17:45:26.528151Z"
    },
    "papermill": {
     "duration": 0.02337,
     "end_time": "2022-12-15T17:45:26.529447",
     "exception": false,
     "start_time": "2022-12-15T17:45:26.506077",
     "status": "completed"
    },
    "tags": []
   },
   "outputs": [
    {
     "data": {
      "text/plain": [
       "name               object\n",
       "id                 object\n",
       "chr                object\n",
       "band               object\n",
       "start_position    float64\n",
       "end_position      float64\n",
       "gene_length       float64\n",
       "dtype: object"
      ]
     },
     "execution_count": 47,
     "metadata": {},
     "output_type": "execute_result"
    }
   ],
   "source": [
    "genes_info.dtypes"
   ]
  },
  {
   "cell_type": "code",
   "execution_count": 48,
   "id": "08a23f6f-87f6-4072-88c8-010b90a411cd",
   "metadata": {
    "execution": {
     "iopub.execute_input": "2022-12-15T17:45:26.552476Z",
     "iopub.status.busy": "2022-12-15T17:45:26.551966Z",
     "iopub.status.idle": "2022-12-15T17:45:26.567714Z",
     "shell.execute_reply": "2022-12-15T17:45:26.567187Z"
    },
    "papermill": {
     "duration": 0.027915,
     "end_time": "2022-12-15T17:45:26.568492",
     "exception": false,
     "start_time": "2022-12-15T17:45:26.540577",
     "status": "completed"
    },
    "tags": []
   },
   "outputs": [
    {
     "data": {
      "text/html": [
       "<div>\n",
       "<style scoped>\n",
       "    .dataframe tbody tr th:only-of-type {\n",
       "        vertical-align: middle;\n",
       "    }\n",
       "\n",
       "    .dataframe tbody tr th {\n",
       "        vertical-align: top;\n",
       "    }\n",
       "\n",
       "    .dataframe thead th {\n",
       "        text-align: right;\n",
       "    }\n",
       "</style>\n",
       "<table border=\"1\" class=\"dataframe\">\n",
       "  <thead>\n",
       "    <tr style=\"text-align: right;\">\n",
       "      <th></th>\n",
       "      <th>name</th>\n",
       "      <th>id</th>\n",
       "      <th>chr</th>\n",
       "      <th>band</th>\n",
       "      <th>start_position</th>\n",
       "      <th>end_position</th>\n",
       "      <th>gene_length</th>\n",
       "    </tr>\n",
       "  </thead>\n",
       "  <tbody>\n",
       "    <tr>\n",
       "      <th>205</th>\n",
       "      <td>TBCE</td>\n",
       "      <td>ENSG00000116957</td>\n",
       "      <td>None</td>\n",
       "      <td>None</td>\n",
       "      <td>NaN</td>\n",
       "      <td>NaN</td>\n",
       "      <td>NaN</td>\n",
       "    </tr>\n",
       "    <tr>\n",
       "      <th>4656</th>\n",
       "      <td>TMEM133</td>\n",
       "      <td>ENSG00000170647</td>\n",
       "      <td>None</td>\n",
       "      <td>None</td>\n",
       "      <td>NaN</td>\n",
       "      <td>NaN</td>\n",
       "      <td>NaN</td>\n",
       "    </tr>\n",
       "  </tbody>\n",
       "</table>\n",
       "</div>"
      ],
      "text/plain": [
       "         name               id   chr  band  start_position  end_position  \\\n",
       "205      TBCE  ENSG00000116957  None  None             NaN           NaN   \n",
       "4656  TMEM133  ENSG00000170647  None  None             NaN           NaN   \n",
       "\n",
       "      gene_length  \n",
       "205           NaN  \n",
       "4656          NaN  "
      ]
     },
     "metadata": {},
     "output_type": "display_data"
    }
   ],
   "source": [
    "_tmp = genes_info[genes_info.isna().any(axis=1)]\n",
    "display(_tmp)\n",
    "assert _tmp.shape[0] < 5"
   ]
  },
  {
   "cell_type": "code",
   "execution_count": 49,
   "id": "87c010f0-8ad9-4bf0-b12d-02f37a93853a",
   "metadata": {
    "execution": {
     "iopub.execute_input": "2022-12-15T17:45:26.591074Z",
     "iopub.status.busy": "2022-12-15T17:45:26.590944Z",
     "iopub.status.idle": "2022-12-15T17:45:26.603545Z",
     "shell.execute_reply": "2022-12-15T17:45:26.603073Z"
    },
    "papermill": {
     "duration": 0.02487,
     "end_time": "2022-12-15T17:45:26.604439",
     "exception": false,
     "start_time": "2022-12-15T17:45:26.579569",
     "status": "completed"
    },
    "tags": []
   },
   "outputs": [],
   "source": [
    "genes_info = genes_info.dropna()"
   ]
  },
  {
   "cell_type": "code",
   "execution_count": 50,
   "id": "61833f43-3a92-47e9-bca3-e05b6673c7d9",
   "metadata": {
    "execution": {
     "iopub.execute_input": "2022-12-15T17:45:26.628104Z",
     "iopub.status.busy": "2022-12-15T17:45:26.627578Z",
     "iopub.status.idle": "2022-12-15T17:45:27.031970Z",
     "shell.execute_reply": "2022-12-15T17:45:27.031441Z"
    },
    "papermill": {
     "duration": 0.417413,
     "end_time": "2022-12-15T17:45:27.033199",
     "exception": false,
     "start_time": "2022-12-15T17:45:26.615786",
     "status": "completed"
    },
    "tags": []
   },
   "outputs": [],
   "source": [
    "genes_info[\"chr\"] = genes_info[\"chr\"].apply(pd.to_numeric, downcast=\"integer\")\n",
    "genes_info[\"start_position\"] = genes_info[\"start_position\"].astype(int)\n",
    "genes_info[\"end_position\"] = genes_info[\"end_position\"].astype(int)\n",
    "genes_info[\"gene_length\"] = genes_info[\"gene_length\"].astype(int)"
   ]
  },
  {
   "cell_type": "code",
   "execution_count": 51,
   "id": "e4b9ae23-3edb-41a4-97aa-80cc7db6d393",
   "metadata": {
    "execution": {
     "iopub.execute_input": "2022-12-15T17:45:27.056337Z",
     "iopub.status.busy": "2022-12-15T17:45:27.056213Z",
     "iopub.status.idle": "2022-12-15T17:45:27.067684Z",
     "shell.execute_reply": "2022-12-15T17:45:27.067247Z"
    },
    "papermill": {
     "duration": 0.023765,
     "end_time": "2022-12-15T17:45:27.068474",
     "exception": false,
     "start_time": "2022-12-15T17:45:27.044709",
     "status": "completed"
    },
    "tags": []
   },
   "outputs": [
    {
     "data": {
      "text/plain": [
       "name              object\n",
       "id                object\n",
       "chr                 int8\n",
       "band              object\n",
       "start_position     int64\n",
       "end_position       int64\n",
       "gene_length        int64\n",
       "dtype: object"
      ]
     },
     "execution_count": 51,
     "metadata": {},
     "output_type": "execute_result"
    }
   ],
   "source": [
    "genes_info.dtypes"
   ]
  },
  {
   "cell_type": "code",
   "execution_count": 52,
   "id": "09d6320a-b1c4-4200-a23e-184bc4be69c7",
   "metadata": {
    "execution": {
     "iopub.execute_input": "2022-12-15T17:45:27.091662Z",
     "iopub.status.busy": "2022-12-15T17:45:27.091533Z",
     "iopub.status.idle": "2022-12-15T17:45:27.101452Z",
     "shell.execute_reply": "2022-12-15T17:45:27.101004Z"
    },
    "papermill": {
     "duration": 0.022437,
     "end_time": "2022-12-15T17:45:27.102212",
     "exception": false,
     "start_time": "2022-12-15T17:45:27.079775",
     "status": "completed"
    },
    "tags": []
   },
   "outputs": [],
   "source": [
    "assert genes_info[\"name\"].is_unique"
   ]
  },
  {
   "cell_type": "code",
   "execution_count": 53,
   "id": "009d11e4-f8cb-4a81-823d-c7f10b906d3b",
   "metadata": {
    "execution": {
     "iopub.execute_input": "2022-12-15T17:45:27.147268Z",
     "iopub.status.busy": "2022-12-15T17:45:27.146949Z",
     "iopub.status.idle": "2022-12-15T17:45:27.160388Z",
     "shell.execute_reply": "2022-12-15T17:45:27.159855Z"
    },
    "papermill": {
     "duration": 0.026222,
     "end_time": "2022-12-15T17:45:27.161278",
     "exception": false,
     "start_time": "2022-12-15T17:45:27.135056",
     "status": "completed"
    },
    "tags": []
   },
   "outputs": [],
   "source": [
    "assert genes_info[\"id\"].is_unique"
   ]
  },
  {
   "cell_type": "code",
   "execution_count": 54,
   "id": "e23519b8",
   "metadata": {
    "execution": {
     "iopub.execute_input": "2022-12-15T17:45:27.184669Z",
     "iopub.status.busy": "2022-12-15T17:45:27.184508Z",
     "iopub.status.idle": "2022-12-15T17:45:27.200472Z",
     "shell.execute_reply": "2022-12-15T17:45:27.199890Z"
    },
    "papermill": {
     "duration": 0.028877,
     "end_time": "2022-12-15T17:45:27.201406",
     "exception": false,
     "start_time": "2022-12-15T17:45:27.172529",
     "status": "completed"
    },
    "tags": []
   },
   "outputs": [
    {
     "data": {
      "text/plain": [
       "(6443, 7)"
      ]
     },
     "execution_count": 54,
     "metadata": {},
     "output_type": "execute_result"
    }
   ],
   "source": [
    "genes_info.shape"
   ]
  },
  {
   "cell_type": "code",
   "execution_count": 55,
   "id": "0d71881c",
   "metadata": {
    "execution": {
     "iopub.execute_input": "2022-12-15T17:45:27.241709Z",
     "iopub.status.busy": "2022-12-15T17:45:27.241226Z",
     "iopub.status.idle": "2022-12-15T17:45:27.263461Z",
     "shell.execute_reply": "2022-12-15T17:45:27.262883Z"
    },
    "papermill": {
     "duration": 0.045492,
     "end_time": "2022-12-15T17:45:27.264297",
     "exception": false,
     "start_time": "2022-12-15T17:45:27.218805",
     "status": "completed"
    },
    "tags": []
   },
   "outputs": [
    {
     "data": {
      "text/html": [
       "<div>\n",
       "<style scoped>\n",
       "    .dataframe tbody tr th:only-of-type {\n",
       "        vertical-align: middle;\n",
       "    }\n",
       "\n",
       "    .dataframe tbody tr th {\n",
       "        vertical-align: top;\n",
       "    }\n",
       "\n",
       "    .dataframe thead th {\n",
       "        text-align: right;\n",
       "    }\n",
       "</style>\n",
       "<table border=\"1\" class=\"dataframe\">\n",
       "  <thead>\n",
       "    <tr style=\"text-align: right;\">\n",
       "      <th></th>\n",
       "      <th>name</th>\n",
       "      <th>id</th>\n",
       "      <th>chr</th>\n",
       "      <th>band</th>\n",
       "      <th>start_position</th>\n",
       "      <th>end_position</th>\n",
       "      <th>gene_length</th>\n",
       "    </tr>\n",
       "  </thead>\n",
       "  <tbody>\n",
       "    <tr>\n",
       "      <th>0</th>\n",
       "      <td>MED19</td>\n",
       "      <td>ENSG00000156603</td>\n",
       "      <td>11</td>\n",
       "      <td>11q12.1</td>\n",
       "      <td>57703714</td>\n",
       "      <td>57712323</td>\n",
       "      <td>8609</td>\n",
       "    </tr>\n",
       "    <tr>\n",
       "      <th>1</th>\n",
       "      <td>GFI1</td>\n",
       "      <td>ENSG00000162676</td>\n",
       "      <td>1</td>\n",
       "      <td>1p22.1</td>\n",
       "      <td>92473043</td>\n",
       "      <td>92486925</td>\n",
       "      <td>13882</td>\n",
       "    </tr>\n",
       "    <tr>\n",
       "      <th>2</th>\n",
       "      <td>PAIP1</td>\n",
       "      <td>ENSG00000172239</td>\n",
       "      <td>5</td>\n",
       "      <td>5p12</td>\n",
       "      <td>43526267</td>\n",
       "      <td>43557758</td>\n",
       "      <td>31491</td>\n",
       "    </tr>\n",
       "    <tr>\n",
       "      <th>3</th>\n",
       "      <td>MRPS35</td>\n",
       "      <td>ENSG00000061794</td>\n",
       "      <td>12</td>\n",
       "      <td>12p11.22</td>\n",
       "      <td>27710822</td>\n",
       "      <td>27756295</td>\n",
       "      <td>45473</td>\n",
       "    </tr>\n",
       "    <tr>\n",
       "      <th>4</th>\n",
       "      <td>VAV3</td>\n",
       "      <td>ENSG00000134215</td>\n",
       "      <td>1</td>\n",
       "      <td>1p13.3</td>\n",
       "      <td>107571161</td>\n",
       "      <td>107965180</td>\n",
       "      <td>394019</td>\n",
       "    </tr>\n",
       "  </tbody>\n",
       "</table>\n",
       "</div>"
      ],
      "text/plain": [
       "     name               id  chr      band  start_position  end_position  \\\n",
       "0   MED19  ENSG00000156603   11   11q12.1        57703714      57712323   \n",
       "1    GFI1  ENSG00000162676    1    1p22.1        92473043      92486925   \n",
       "2   PAIP1  ENSG00000172239    5      5p12        43526267      43557758   \n",
       "3  MRPS35  ENSG00000061794   12  12p11.22        27710822      27756295   \n",
       "4    VAV3  ENSG00000134215    1    1p13.3       107571161     107965180   \n",
       "\n",
       "   gene_length  \n",
       "0         8609  \n",
       "1        13882  \n",
       "2        31491  \n",
       "3        45473  \n",
       "4       394019  "
      ]
     },
     "execution_count": 55,
     "metadata": {},
     "output_type": "execute_result"
    }
   ],
   "source": [
    "genes_info.head()"
   ]
  },
  {
   "cell_type": "code",
   "execution_count": 56,
   "id": "eb968287-d9cf-40f6-a93e-6b322b844404",
   "metadata": {
    "execution": {
     "iopub.execute_input": "2022-12-15T17:45:27.288530Z",
     "iopub.status.busy": "2022-12-15T17:45:27.288125Z",
     "iopub.status.idle": "2022-12-15T17:45:27.312951Z",
     "shell.execute_reply": "2022-12-15T17:45:27.312359Z"
    },
    "papermill": {
     "duration": 0.037963,
     "end_time": "2022-12-15T17:45:27.313819",
     "exception": false,
     "start_time": "2022-12-15T17:45:27.275856",
     "status": "completed"
    },
    "tags": []
   },
   "outputs": [
    {
     "data": {
      "text/html": [
       "<div>\n",
       "<style scoped>\n",
       "    .dataframe tbody tr th:only-of-type {\n",
       "        vertical-align: middle;\n",
       "    }\n",
       "\n",
       "    .dataframe tbody tr th {\n",
       "        vertical-align: top;\n",
       "    }\n",
       "\n",
       "    .dataframe thead th {\n",
       "        text-align: right;\n",
       "    }\n",
       "</style>\n",
       "<table border=\"1\" class=\"dataframe\">\n",
       "  <thead>\n",
       "    <tr style=\"text-align: right;\">\n",
       "      <th></th>\n",
       "      <th>name</th>\n",
       "      <th>id</th>\n",
       "      <th>chr</th>\n",
       "      <th>band</th>\n",
       "      <th>start_position</th>\n",
       "      <th>end_position</th>\n",
       "      <th>gene_length</th>\n",
       "    </tr>\n",
       "  </thead>\n",
       "  <tbody>\n",
       "    <tr>\n",
       "      <th>5172</th>\n",
       "      <td>RAB4A</td>\n",
       "      <td>ENSG00000168118</td>\n",
       "      <td>1</td>\n",
       "      <td>1q42.13</td>\n",
       "      <td>229271062</td>\n",
       "      <td>229305894</td>\n",
       "      <td>34832</td>\n",
       "    </tr>\n",
       "    <tr>\n",
       "      <th>4721</th>\n",
       "      <td>EDEM3</td>\n",
       "      <td>ENSG00000116406</td>\n",
       "      <td>1</td>\n",
       "      <td>1q25.3</td>\n",
       "      <td>184690237</td>\n",
       "      <td>184754907</td>\n",
       "      <td>64670</td>\n",
       "    </tr>\n",
       "    <tr>\n",
       "      <th>711</th>\n",
       "      <td>CTRC</td>\n",
       "      <td>ENSG00000162438</td>\n",
       "      <td>1</td>\n",
       "      <td>1p36.21</td>\n",
       "      <td>15438439</td>\n",
       "      <td>15449242</td>\n",
       "      <td>10803</td>\n",
       "    </tr>\n",
       "    <tr>\n",
       "      <th>6102</th>\n",
       "      <td>PTGER3</td>\n",
       "      <td>ENSG00000050628</td>\n",
       "      <td>1</td>\n",
       "      <td>1p31.1</td>\n",
       "      <td>70852353</td>\n",
       "      <td>71047808</td>\n",
       "      <td>195455</td>\n",
       "    </tr>\n",
       "    <tr>\n",
       "      <th>1758</th>\n",
       "      <td>MTF1</td>\n",
       "      <td>ENSG00000188786</td>\n",
       "      <td>1</td>\n",
       "      <td>1p34.3</td>\n",
       "      <td>37809574</td>\n",
       "      <td>37859592</td>\n",
       "      <td>50018</td>\n",
       "    </tr>\n",
       "    <tr>\n",
       "      <th>...</th>\n",
       "      <td>...</td>\n",
       "      <td>...</td>\n",
       "      <td>...</td>\n",
       "      <td>...</td>\n",
       "      <td>...</td>\n",
       "      <td>...</td>\n",
       "      <td>...</td>\n",
       "    </tr>\n",
       "    <tr>\n",
       "      <th>943</th>\n",
       "      <td>LGALS2</td>\n",
       "      <td>ENSG00000100079</td>\n",
       "      <td>22</td>\n",
       "      <td>22q13.1</td>\n",
       "      <td>37570248</td>\n",
       "      <td>37582616</td>\n",
       "      <td>12368</td>\n",
       "    </tr>\n",
       "    <tr>\n",
       "      <th>2235</th>\n",
       "      <td>CDC45</td>\n",
       "      <td>ENSG00000093009</td>\n",
       "      <td>22</td>\n",
       "      <td>22q11.21</td>\n",
       "      <td>19479459</td>\n",
       "      <td>19520612</td>\n",
       "      <td>41153</td>\n",
       "    </tr>\n",
       "    <tr>\n",
       "      <th>941</th>\n",
       "      <td>PISD</td>\n",
       "      <td>ENSG00000241878</td>\n",
       "      <td>22</td>\n",
       "      <td>22q12.2</td>\n",
       "      <td>31618491</td>\n",
       "      <td>31662432</td>\n",
       "      <td>43941</td>\n",
       "    </tr>\n",
       "    <tr>\n",
       "      <th>253</th>\n",
       "      <td>TIMP3</td>\n",
       "      <td>ENSG00000100234</td>\n",
       "      <td>22</td>\n",
       "      <td>22q12.3</td>\n",
       "      <td>32801701</td>\n",
       "      <td>32863043</td>\n",
       "      <td>61342</td>\n",
       "    </tr>\n",
       "    <tr>\n",
       "      <th>5685</th>\n",
       "      <td>PHF5A</td>\n",
       "      <td>ENSG00000100410</td>\n",
       "      <td>22</td>\n",
       "      <td>22q13.2</td>\n",
       "      <td>41459717</td>\n",
       "      <td>41468692</td>\n",
       "      <td>8975</td>\n",
       "    </tr>\n",
       "  </tbody>\n",
       "</table>\n",
       "<p>6443 rows × 7 columns</p>\n",
       "</div>"
      ],
      "text/plain": [
       "        name               id  chr      band  start_position  end_position  \\\n",
       "5172   RAB4A  ENSG00000168118    1   1q42.13       229271062     229305894   \n",
       "4721   EDEM3  ENSG00000116406    1    1q25.3       184690237     184754907   \n",
       "711     CTRC  ENSG00000162438    1   1p36.21        15438439      15449242   \n",
       "6102  PTGER3  ENSG00000050628    1    1p31.1        70852353      71047808   \n",
       "1758    MTF1  ENSG00000188786    1    1p34.3        37809574      37859592   \n",
       "...      ...              ...  ...       ...             ...           ...   \n",
       "943   LGALS2  ENSG00000100079   22   22q13.1        37570248      37582616   \n",
       "2235   CDC45  ENSG00000093009   22  22q11.21        19479459      19520612   \n",
       "941     PISD  ENSG00000241878   22   22q12.2        31618491      31662432   \n",
       "253    TIMP3  ENSG00000100234   22   22q12.3        32801701      32863043   \n",
       "5685   PHF5A  ENSG00000100410   22   22q13.2        41459717      41468692   \n",
       "\n",
       "      gene_length  \n",
       "5172        34832  \n",
       "4721        64670  \n",
       "711         10803  \n",
       "6102       195455  \n",
       "1758        50018  \n",
       "...           ...  \n",
       "943         12368  \n",
       "2235        41153  \n",
       "941         43941  \n",
       "253         61342  \n",
       "5685         8975  \n",
       "\n",
       "[6443 rows x 7 columns]"
      ]
     },
     "execution_count": 56,
     "metadata": {},
     "output_type": "execute_result"
    }
   ],
   "source": [
    "genes_info.sort_values(\"chr\")"
   ]
  },
  {
   "cell_type": "markdown",
   "id": "7282b84d-f4f3-4e8c-9dd8-6319505ed4b5",
   "metadata": {
    "papermill": {
     "duration": 0.011479,
     "end_time": "2022-12-15T17:45:27.337170",
     "exception": false,
     "start_time": "2022-12-15T17:45:27.325691",
     "status": "completed"
    },
    "tags": []
   },
   "source": [
    "### Save"
   ]
  },
  {
   "cell_type": "code",
   "execution_count": 57,
   "id": "32cf6566-03bb-4a85-81e1-da46fc9f37ad",
   "metadata": {
    "execution": {
     "iopub.execute_input": "2022-12-15T17:45:27.361580Z",
     "iopub.status.busy": "2022-12-15T17:45:27.361081Z",
     "iopub.status.idle": "2022-12-15T17:45:27.380517Z",
     "shell.execute_reply": "2022-12-15T17:45:27.379899Z"
    },
    "papermill": {
     "duration": 0.03266,
     "end_time": "2022-12-15T17:45:27.381450",
     "exception": false,
     "start_time": "2022-12-15T17:45:27.348790",
     "status": "completed"
    },
    "tags": []
   },
   "outputs": [],
   "source": [
    "genes_info.to_pickle(OUTPUT_DIR_BASE / \"genes_info.pkl\")"
   ]
  },
  {
   "cell_type": "markdown",
   "id": "5b9f384a-5a91-4a8d-9007-cfe43f2d86f8",
   "metadata": {
    "papermill": {
     "duration": 0.011887,
     "end_time": "2022-12-15T17:45:27.405149",
     "exception": false,
     "start_time": "2022-12-15T17:45:27.393262",
     "status": "completed"
    },
    "tags": []
   },
   "source": [
    "## S-PrediXcan results"
   ]
  },
  {
   "cell_type": "markdown",
   "id": "fc0a2a4c-960c-4a0a-9b23-b66c3d5d6e07",
   "metadata": {
    "papermill": {
     "duration": 0.011746,
     "end_time": "2022-12-15T17:45:27.428489",
     "exception": false,
     "start_time": "2022-12-15T17:45:27.416743",
     "status": "completed"
    },
    "tags": []
   },
   "source": [
    "### Load results across all tissues"
   ]
  },
  {
   "cell_type": "code",
   "execution_count": 58,
   "id": "0b4867d7-a608-4b08-9d77-1782be3a0c94",
   "metadata": {
    "execution": {
     "iopub.execute_input": "2022-12-15T17:45:27.453105Z",
     "iopub.status.busy": "2022-12-15T17:45:27.452516Z",
     "iopub.status.idle": "2022-12-15T17:45:27.468765Z",
     "shell.execute_reply": "2022-12-15T17:45:27.468177Z"
    },
    "papermill": {
     "duration": 0.029474,
     "end_time": "2022-12-15T17:45:27.469683",
     "exception": false,
     "start_time": "2022-12-15T17:45:27.440209",
     "status": "completed"
    },
    "tags": []
   },
   "outputs": [],
   "source": [
    "spredixcan_result_files = {\n",
    "    t: SPREDIXCAN_FOLDER / SPREDIXCAN_FILE_PATTERN.format(tissue=t)\n",
    "    for t in prediction_model_tissues\n",
    "}"
   ]
  },
  {
   "cell_type": "code",
   "execution_count": 59,
   "id": "0ce270dd-46ac-4eaa-9d86-2b201d67d82f",
   "metadata": {
    "execution": {
     "iopub.execute_input": "2022-12-15T17:45:27.493881Z",
     "iopub.status.busy": "2022-12-15T17:45:27.493679Z",
     "iopub.status.idle": "2022-12-15T17:45:27.510196Z",
     "shell.execute_reply": "2022-12-15T17:45:27.509632Z"
    },
    "papermill": {
     "duration": 0.029542,
     "end_time": "2022-12-15T17:45:27.511029",
     "exception": false,
     "start_time": "2022-12-15T17:45:27.481487",
     "status": "completed"
    },
    "tags": []
   },
   "outputs": [
    {
     "data": {
      "text/plain": [
       "[PosixPath('/opt/data/projects/asthma-copd/results/twas/spredixcan/GWAS_COPD_only_GLM_SNPs_info0.7-gtex_v8-mashr-Thyroid.csv'),\n",
       " PosixPath('/opt/data/projects/asthma-copd/results/twas/spredixcan/GWAS_COPD_only_GLM_SNPs_info0.7-gtex_v8-mashr-Artery_Aorta.csv'),\n",
       " PosixPath('/opt/data/projects/asthma-copd/results/twas/spredixcan/GWAS_COPD_only_GLM_SNPs_info0.7-gtex_v8-mashr-Heart_Atrial_Appendage.csv'),\n",
       " PosixPath('/opt/data/projects/asthma-copd/results/twas/spredixcan/GWAS_COPD_only_GLM_SNPs_info0.7-gtex_v8-mashr-Liver.csv'),\n",
       " PosixPath('/opt/data/projects/asthma-copd/results/twas/spredixcan/GWAS_COPD_only_GLM_SNPs_info0.7-gtex_v8-mashr-Heart_Left_Ventricle.csv')]"
      ]
     },
     "metadata": {},
     "output_type": "display_data"
    }
   ],
   "source": [
    "assert len(spredixcan_result_files) == len(prediction_model_tissues)\n",
    "display(list(spredixcan_result_files.values())[:5])"
   ]
  },
  {
   "cell_type": "code",
   "execution_count": 60,
   "id": "aa140259-303e-4912-b2bf-e7adce662f88",
   "metadata": {
    "execution": {
     "iopub.execute_input": "2022-12-15T17:45:27.535917Z",
     "iopub.status.busy": "2022-12-15T17:45:27.535473Z",
     "iopub.status.idle": "2022-12-15T17:45:27.583902Z",
     "shell.execute_reply": "2022-12-15T17:45:27.583285Z"
    },
    "papermill": {
     "duration": 0.061811,
     "end_time": "2022-12-15T17:45:27.584805",
     "exception": false,
     "start_time": "2022-12-15T17:45:27.522994",
     "status": "completed"
    },
    "tags": []
   },
   "outputs": [
    {
     "data": {
      "text/html": [
       "<div>\n",
       "<style scoped>\n",
       "    .dataframe tbody tr th:only-of-type {\n",
       "        vertical-align: middle;\n",
       "    }\n",
       "\n",
       "    .dataframe tbody tr th {\n",
       "        vertical-align: top;\n",
       "    }\n",
       "\n",
       "    .dataframe thead th {\n",
       "        text-align: right;\n",
       "    }\n",
       "</style>\n",
       "<table border=\"1\" class=\"dataframe\">\n",
       "  <thead>\n",
       "    <tr style=\"text-align: right;\">\n",
       "      <th></th>\n",
       "      <th>gene</th>\n",
       "      <th>gene_name</th>\n",
       "      <th>zscore</th>\n",
       "      <th>effect_size</th>\n",
       "      <th>pvalue</th>\n",
       "      <th>var_g</th>\n",
       "      <th>pred_perf_r2</th>\n",
       "      <th>pred_perf_pval</th>\n",
       "      <th>pred_perf_qval</th>\n",
       "      <th>n_snps_used</th>\n",
       "      <th>n_snps_in_cov</th>\n",
       "      <th>n_snps_in_model</th>\n",
       "      <th>best_gwas_p</th>\n",
       "      <th>largest_weight</th>\n",
       "    </tr>\n",
       "  </thead>\n",
       "  <tbody>\n",
       "    <tr>\n",
       "      <th>0</th>\n",
       "      <td>ENSG00000188266.13</td>\n",
       "      <td>HYKK</td>\n",
       "      <td>-7.977829</td>\n",
       "      <td>NaN</td>\n",
       "      <td>1.489290e-15</td>\n",
       "      <td>0.002663</td>\n",
       "      <td>NaN</td>\n",
       "      <td>NaN</td>\n",
       "      <td>NaN</td>\n",
       "      <td>1</td>\n",
       "      <td>1</td>\n",
       "      <td>1</td>\n",
       "      <td>1.489290e-15</td>\n",
       "      <td>0.076877</td>\n",
       "    </tr>\n",
       "    <tr>\n",
       "      <th>1</th>\n",
       "      <td>ENSG00000041357.15</td>\n",
       "      <td>PSMA4</td>\n",
       "      <td>7.580813</td>\n",
       "      <td>NaN</td>\n",
       "      <td>3.433968e-14</td>\n",
       "      <td>0.006043</td>\n",
       "      <td>NaN</td>\n",
       "      <td>NaN</td>\n",
       "      <td>NaN</td>\n",
       "      <td>3</td>\n",
       "      <td>3</td>\n",
       "      <td>3</td>\n",
       "      <td>1.884797e-15</td>\n",
       "      <td>0.161176</td>\n",
       "    </tr>\n",
       "    <tr>\n",
       "      <th>2</th>\n",
       "      <td>ENSG00000183049.12</td>\n",
       "      <td>CAMK1D</td>\n",
       "      <td>6.846095</td>\n",
       "      <td>NaN</td>\n",
       "      <td>7.589322e-12</td>\n",
       "      <td>0.059839</td>\n",
       "      <td>NaN</td>\n",
       "      <td>NaN</td>\n",
       "      <td>NaN</td>\n",
       "      <td>2</td>\n",
       "      <td>2</td>\n",
       "      <td>2</td>\n",
       "      <td>2.814849e-11</td>\n",
       "      <td>0.277173</td>\n",
       "    </tr>\n",
       "    <tr>\n",
       "      <th>3</th>\n",
       "      <td>ENSG00000165609.12</td>\n",
       "      <td>NUDT5</td>\n",
       "      <td>5.826954</td>\n",
       "      <td>NaN</td>\n",
       "      <td>5.644804e-09</td>\n",
       "      <td>0.005001</td>\n",
       "      <td>NaN</td>\n",
       "      <td>NaN</td>\n",
       "      <td>NaN</td>\n",
       "      <td>1</td>\n",
       "      <td>1</td>\n",
       "      <td>1</td>\n",
       "      <td>5.644804e-09</td>\n",
       "      <td>0.102943</td>\n",
       "    </tr>\n",
       "    <tr>\n",
       "      <th>4</th>\n",
       "      <td>ENSG00000198624.12</td>\n",
       "      <td>CCDC69</td>\n",
       "      <td>-5.352389</td>\n",
       "      <td>NaN</td>\n",
       "      <td>8.680055e-08</td>\n",
       "      <td>0.028808</td>\n",
       "      <td>NaN</td>\n",
       "      <td>NaN</td>\n",
       "      <td>NaN</td>\n",
       "      <td>4</td>\n",
       "      <td>4</td>\n",
       "      <td>4</td>\n",
       "      <td>1.032419e-07</td>\n",
       "      <td>0.170673</td>\n",
       "    </tr>\n",
       "  </tbody>\n",
       "</table>\n",
       "</div>"
      ],
      "text/plain": [
       "                 gene gene_name    zscore  effect_size        pvalue  \\\n",
       "0  ENSG00000188266.13      HYKK -7.977829          NaN  1.489290e-15   \n",
       "1  ENSG00000041357.15     PSMA4  7.580813          NaN  3.433968e-14   \n",
       "2  ENSG00000183049.12    CAMK1D  6.846095          NaN  7.589322e-12   \n",
       "3  ENSG00000165609.12     NUDT5  5.826954          NaN  5.644804e-09   \n",
       "4  ENSG00000198624.12    CCDC69 -5.352389          NaN  8.680055e-08   \n",
       "\n",
       "      var_g  pred_perf_r2  pred_perf_pval  pred_perf_qval  n_snps_used  \\\n",
       "0  0.002663           NaN             NaN             NaN            1   \n",
       "1  0.006043           NaN             NaN             NaN            3   \n",
       "2  0.059839           NaN             NaN             NaN            2   \n",
       "3  0.005001           NaN             NaN             NaN            1   \n",
       "4  0.028808           NaN             NaN             NaN            4   \n",
       "\n",
       "   n_snps_in_cov  n_snps_in_model   best_gwas_p  largest_weight  \n",
       "0              1                1  1.489290e-15        0.076877  \n",
       "1              3                3  1.884797e-15        0.161176  \n",
       "2              2                2  2.814849e-11        0.277173  \n",
       "3              1                1  5.644804e-09        0.102943  \n",
       "4              4                4  1.032419e-07        0.170673  "
      ]
     },
     "execution_count": 60,
     "metadata": {},
     "output_type": "execute_result"
    }
   ],
   "source": [
    "# look at the structure of one result\n",
    "pd.read_csv(spredixcan_result_files[\"Whole_Blood\"]).head()"
   ]
  },
  {
   "cell_type": "code",
   "execution_count": 61,
   "id": "4381b9ff-6ab5-47f1-89d1-560f88fdf07f",
   "metadata": {
    "execution": {
     "iopub.execute_input": "2022-12-15T17:45:27.620027Z",
     "iopub.status.busy": "2022-12-15T17:45:27.619438Z",
     "iopub.status.idle": "2022-12-15T17:45:27.636026Z",
     "shell.execute_reply": "2022-12-15T17:45:27.635445Z"
    },
    "papermill": {
     "duration": 0.036628,
     "end_time": "2022-12-15T17:45:27.637217",
     "exception": false,
     "start_time": "2022-12-15T17:45:27.600589",
     "status": "completed"
    },
    "tags": []
   },
   "outputs": [],
   "source": [
    "assert all(f.exists() for f in spredixcan_result_files.values())"
   ]
  },
  {
   "cell_type": "code",
   "execution_count": 62,
   "id": "d477157f-51e9-4c7c-b826-7ab5f4fdf3e3",
   "metadata": {
    "execution": {
     "iopub.execute_input": "2022-12-15T17:45:27.674379Z",
     "iopub.status.busy": "2022-12-15T17:45:27.673897Z",
     "iopub.status.idle": "2022-12-15T17:45:28.345955Z",
     "shell.execute_reply": "2022-12-15T17:45:28.345429Z"
    },
    "papermill": {
     "duration": 0.692017,
     "end_time": "2022-12-15T17:45:28.347482",
     "exception": false,
     "start_time": "2022-12-15T17:45:27.655465",
     "status": "completed"
    },
    "tags": []
   },
   "outputs": [],
   "source": [
    "spredixcan_dfs = [\n",
    "    pd.read_csv(\n",
    "        f,\n",
    "        usecols=[\n",
    "            \"gene\",\n",
    "            \"zscore\",\n",
    "            \"pvalue\",\n",
    "            \"n_snps_used\",\n",
    "            \"n_snps_in_model\",\n",
    "        ],\n",
    "    )\n",
    "    .dropna(subset=[\"gene\", \"zscore\", \"pvalue\"])\n",
    "    .assign(tissue=t)\n",
    "    for t, f in spredixcan_result_files.items()\n",
    "]"
   ]
  },
  {
   "cell_type": "code",
   "execution_count": 63,
   "id": "9730bd37-b769-411f-bb6b-bb658d1ff88c",
   "metadata": {
    "execution": {
     "iopub.execute_input": "2022-12-15T17:45:28.394017Z",
     "iopub.status.busy": "2022-12-15T17:45:28.393900Z",
     "iopub.status.idle": "2022-12-15T17:45:28.404147Z",
     "shell.execute_reply": "2022-12-15T17:45:28.403703Z"
    },
    "papermill": {
     "duration": 0.035056,
     "end_time": "2022-12-15T17:45:28.405519",
     "exception": false,
     "start_time": "2022-12-15T17:45:28.370463",
     "status": "completed"
    },
    "tags": []
   },
   "outputs": [],
   "source": [
    "assert len(spredixcan_dfs) == len(prediction_model_tissues)"
   ]
  },
  {
   "cell_type": "code",
   "execution_count": 64,
   "id": "bcd73f53-1283-4ff6-bbb5-25fb71f5cb72",
   "metadata": {
    "execution": {
     "iopub.execute_input": "2022-12-15T17:45:28.451810Z",
     "iopub.status.busy": "2022-12-15T17:45:28.451486Z",
     "iopub.status.idle": "2022-12-15T17:45:28.485469Z",
     "shell.execute_reply": "2022-12-15T17:45:28.484823Z"
    },
    "papermill": {
     "duration": 0.05786,
     "end_time": "2022-12-15T17:45:28.486378",
     "exception": false,
     "start_time": "2022-12-15T17:45:28.428518",
     "status": "completed"
    },
    "tags": []
   },
   "outputs": [],
   "source": [
    "spredixcan_dfs = pd.concat(spredixcan_dfs)"
   ]
  },
  {
   "cell_type": "code",
   "execution_count": 65,
   "id": "ae99c7b5-14fc-4b39-a6b2-40fc703acd0a",
   "metadata": {
    "execution": {
     "iopub.execute_input": "2022-12-15T17:45:28.511005Z",
     "iopub.status.busy": "2022-12-15T17:45:28.510797Z",
     "iopub.status.idle": "2022-12-15T17:45:28.568814Z",
     "shell.execute_reply": "2022-12-15T17:45:28.568156Z"
    },
    "papermill": {
     "duration": 0.071468,
     "end_time": "2022-12-15T17:45:28.569781",
     "exception": false,
     "start_time": "2022-12-15T17:45:28.498313",
     "status": "completed"
    },
    "tags": []
   },
   "outputs": [],
   "source": [
    "assert spredixcan_dfs[\"tissue\"].unique().shape[0] == len(prediction_model_tissues)"
   ]
  },
  {
   "cell_type": "code",
   "execution_count": 66,
   "id": "b7223a23-e40f-4cd3-8988-72033f8739bd",
   "metadata": {
    "execution": {
     "iopub.execute_input": "2022-12-15T17:45:28.594707Z",
     "iopub.status.busy": "2022-12-15T17:45:28.594498Z",
     "iopub.status.idle": "2022-12-15T17:45:28.612389Z",
     "shell.execute_reply": "2022-12-15T17:45:28.611819Z"
    },
    "papermill": {
     "duration": 0.03149,
     "end_time": "2022-12-15T17:45:28.613268",
     "exception": false,
     "start_time": "2022-12-15T17:45:28.581778",
     "status": "completed"
    },
    "tags": []
   },
   "outputs": [
    {
     "data": {
      "text/plain": [
       "(659087, 6)"
      ]
     },
     "execution_count": 66,
     "metadata": {},
     "output_type": "execute_result"
    }
   ],
   "source": [
    "spredixcan_dfs.shape"
   ]
  },
  {
   "cell_type": "code",
   "execution_count": 67,
   "id": "4987073a-3b70-4162-93fb-beeb351ebfe0",
   "metadata": {
    "execution": {
     "iopub.execute_input": "2022-12-15T17:45:28.638874Z",
     "iopub.status.busy": "2022-12-15T17:45:28.638461Z",
     "iopub.status.idle": "2022-12-15T17:45:28.834829Z",
     "shell.execute_reply": "2022-12-15T17:45:28.834281Z"
    },
    "papermill": {
     "duration": 0.210263,
     "end_time": "2022-12-15T17:45:28.835757",
     "exception": false,
     "start_time": "2022-12-15T17:45:28.625494",
     "status": "completed"
    },
    "tags": []
   },
   "outputs": [],
   "source": [
    "spredixcan_dfs = spredixcan_dfs.assign(\n",
    "    gene_id=spredixcan_dfs[\"gene\"].apply(lambda g: g.split(\".\")[0])\n",
    ")"
   ]
  },
  {
   "cell_type": "code",
   "execution_count": 68,
   "id": "6b47d026-01c0-4f7c-a90e-f0baa13235f4",
   "metadata": {
    "execution": {
     "iopub.execute_input": "2022-12-15T17:45:28.860653Z",
     "iopub.status.busy": "2022-12-15T17:45:28.860537Z",
     "iopub.status.idle": "2022-12-15T17:45:28.874348Z",
     "shell.execute_reply": "2022-12-15T17:45:28.873904Z"
    },
    "papermill": {
     "duration": 0.027256,
     "end_time": "2022-12-15T17:45:28.875196",
     "exception": false,
     "start_time": "2022-12-15T17:45:28.847940",
     "status": "completed"
    },
    "tags": []
   },
   "outputs": [
    {
     "data": {
      "text/html": [
       "<div>\n",
       "<style scoped>\n",
       "    .dataframe tbody tr th:only-of-type {\n",
       "        vertical-align: middle;\n",
       "    }\n",
       "\n",
       "    .dataframe tbody tr th {\n",
       "        vertical-align: top;\n",
       "    }\n",
       "\n",
       "    .dataframe thead th {\n",
       "        text-align: right;\n",
       "    }\n",
       "</style>\n",
       "<table border=\"1\" class=\"dataframe\">\n",
       "  <thead>\n",
       "    <tr style=\"text-align: right;\">\n",
       "      <th></th>\n",
       "      <th>gene</th>\n",
       "      <th>zscore</th>\n",
       "      <th>pvalue</th>\n",
       "      <th>n_snps_used</th>\n",
       "      <th>n_snps_in_model</th>\n",
       "      <th>tissue</th>\n",
       "      <th>gene_id</th>\n",
       "    </tr>\n",
       "  </thead>\n",
       "  <tbody>\n",
       "    <tr>\n",
       "      <th>0</th>\n",
       "      <td>ENSG00000204385.10</td>\n",
       "      <td>5.449554</td>\n",
       "      <td>5.049626e-08</td>\n",
       "      <td>3</td>\n",
       "      <td>3</td>\n",
       "      <td>Thyroid</td>\n",
       "      <td>ENSG00000204385</td>\n",
       "    </tr>\n",
       "    <tr>\n",
       "      <th>1</th>\n",
       "      <td>ENSG00000135074.15</td>\n",
       "      <td>5.281442</td>\n",
       "      <td>1.281709e-07</td>\n",
       "      <td>2</td>\n",
       "      <td>2</td>\n",
       "      <td>Thyroid</td>\n",
       "      <td>ENSG00000135074</td>\n",
       "    </tr>\n",
       "    <tr>\n",
       "      <th>2</th>\n",
       "      <td>ENSG00000244731.7</td>\n",
       "      <td>-4.999106</td>\n",
       "      <td>5.759674e-07</td>\n",
       "      <td>2</td>\n",
       "      <td>2</td>\n",
       "      <td>Thyroid</td>\n",
       "      <td>ENSG00000244731</td>\n",
       "    </tr>\n",
       "    <tr>\n",
       "      <th>3</th>\n",
       "      <td>ENSG00000166822.12</td>\n",
       "      <td>-4.994474</td>\n",
       "      <td>5.899636e-07</td>\n",
       "      <td>1</td>\n",
       "      <td>1</td>\n",
       "      <td>Thyroid</td>\n",
       "      <td>ENSG00000166822</td>\n",
       "    </tr>\n",
       "    <tr>\n",
       "      <th>4</th>\n",
       "      <td>ENSG00000168769.13</td>\n",
       "      <td>4.899470</td>\n",
       "      <td>9.609559e-07</td>\n",
       "      <td>1</td>\n",
       "      <td>1</td>\n",
       "      <td>Thyroid</td>\n",
       "      <td>ENSG00000168769</td>\n",
       "    </tr>\n",
       "  </tbody>\n",
       "</table>\n",
       "</div>"
      ],
      "text/plain": [
       "                 gene    zscore        pvalue  n_snps_used  n_snps_in_model  \\\n",
       "0  ENSG00000204385.10  5.449554  5.049626e-08            3                3   \n",
       "1  ENSG00000135074.15  5.281442  1.281709e-07            2                2   \n",
       "2   ENSG00000244731.7 -4.999106  5.759674e-07            2                2   \n",
       "3  ENSG00000166822.12 -4.994474  5.899636e-07            1                1   \n",
       "4  ENSG00000168769.13  4.899470  9.609559e-07            1                1   \n",
       "\n",
       "    tissue          gene_id  \n",
       "0  Thyroid  ENSG00000204385  \n",
       "1  Thyroid  ENSG00000135074  \n",
       "2  Thyroid  ENSG00000244731  \n",
       "3  Thyroid  ENSG00000166822  \n",
       "4  Thyroid  ENSG00000168769  "
      ]
     },
     "execution_count": 68,
     "metadata": {},
     "output_type": "execute_result"
    }
   ],
   "source": [
    "spredixcan_dfs.head()"
   ]
  },
  {
   "cell_type": "code",
   "execution_count": 69,
   "id": "d5dbdb2e-b7eb-4665-9fd4-9ce714d6af0c",
   "metadata": {
    "execution": {
     "iopub.execute_input": "2022-12-15T17:45:28.900342Z",
     "iopub.status.busy": "2022-12-15T17:45:28.900224Z",
     "iopub.status.idle": "2022-12-15T17:45:28.987026Z",
     "shell.execute_reply": "2022-12-15T17:45:28.986471Z"
    },
    "papermill": {
     "duration": 0.100301,
     "end_time": "2022-12-15T17:45:28.987883",
     "exception": false,
     "start_time": "2022-12-15T17:45:28.887582",
     "status": "completed"
    },
    "tags": []
   },
   "outputs": [],
   "source": [
    "# leave only common genes\n",
    "spredixcan_dfs = spredixcan_dfs[spredixcan_dfs[\"gene_id\"].isin(set(genes_info[\"id\"]))]"
   ]
  },
  {
   "cell_type": "code",
   "execution_count": 70,
   "id": "8d34f99a-6b43-47aa-bb07-dfc67e169538",
   "metadata": {
    "execution": {
     "iopub.execute_input": "2022-12-15T17:45:29.013133Z",
     "iopub.status.busy": "2022-12-15T17:45:29.013016Z",
     "iopub.status.idle": "2022-12-15T17:45:29.023764Z",
     "shell.execute_reply": "2022-12-15T17:45:29.023333Z"
    },
    "papermill": {
     "duration": 0.024377,
     "end_time": "2022-12-15T17:45:29.024536",
     "exception": false,
     "start_time": "2022-12-15T17:45:29.000159",
     "status": "completed"
    },
    "tags": []
   },
   "outputs": [
    {
     "data": {
      "text/plain": [
       "(235749, 7)"
      ]
     },
     "execution_count": 70,
     "metadata": {},
     "output_type": "execute_result"
    }
   ],
   "source": [
    "spredixcan_dfs.shape"
   ]
  },
  {
   "cell_type": "markdown",
   "id": "5ecfd141-ecb8-47cf-905e-25cc1b4d3f9d",
   "metadata": {
    "papermill": {
     "duration": 0.012338,
     "end_time": "2022-12-15T17:45:29.049371",
     "exception": false,
     "start_time": "2022-12-15T17:45:29.037033",
     "status": "completed"
    },
    "tags": []
   },
   "source": [
    "### Count number of tissues available per gene"
   ]
  },
  {
   "cell_type": "code",
   "execution_count": 71,
   "id": "86fe37e1-a303-4221-a12e-3a54a04dd510",
   "metadata": {
    "execution": {
     "iopub.execute_input": "2022-12-15T17:45:29.074683Z",
     "iopub.status.busy": "2022-12-15T17:45:29.074571Z",
     "iopub.status.idle": "2022-12-15T17:45:29.158004Z",
     "shell.execute_reply": "2022-12-15T17:45:29.157472Z"
    },
    "papermill": {
     "duration": 0.097278,
     "end_time": "2022-12-15T17:45:29.158891",
     "exception": false,
     "start_time": "2022-12-15T17:45:29.061613",
     "status": "completed"
    },
    "tags": []
   },
   "outputs": [],
   "source": [
    "spredixcan_genes_n_models = spredixcan_dfs.groupby(\"gene_id\")[\"tissue\"].nunique()"
   ]
  },
  {
   "cell_type": "code",
   "execution_count": 72,
   "id": "31416d48-1e4d-463f-9a5c-34d29803c3f8",
   "metadata": {
    "execution": {
     "iopub.execute_input": "2022-12-15T17:45:29.184316Z",
     "iopub.status.busy": "2022-12-15T17:45:29.184188Z",
     "iopub.status.idle": "2022-12-15T17:45:29.196643Z",
     "shell.execute_reply": "2022-12-15T17:45:29.196192Z"
    },
    "papermill": {
     "duration": 0.02601,
     "end_time": "2022-12-15T17:45:29.197415",
     "exception": false,
     "start_time": "2022-12-15T17:45:29.171405",
     "status": "completed"
    },
    "tags": []
   },
   "outputs": [
    {
     "data": {
      "text/plain": [
       "gene_id\n",
       "ENSG00000000419     2\n",
       "ENSG00000000938    36\n",
       "ENSG00000000971    34\n",
       "ENSG00000001084    32\n",
       "ENSG00000001167    40\n",
       "                   ..\n",
       "ENSG00000278540    36\n",
       "ENSG00000278828     4\n",
       "ENSG00000278845    49\n",
       "ENSG00000281005    49\n",
       "ENSG00000282608    36\n",
       "Name: tissue, Length: 6443, dtype: int64"
      ]
     },
     "execution_count": 72,
     "metadata": {},
     "output_type": "execute_result"
    }
   ],
   "source": [
    "spredixcan_genes_n_models"
   ]
  },
  {
   "cell_type": "code",
   "execution_count": 73,
   "id": "d737ad4f-f821-4546-9a3e-6703fe264b49",
   "metadata": {
    "execution": {
     "iopub.execute_input": "2022-12-15T17:45:29.222808Z",
     "iopub.status.busy": "2022-12-15T17:45:29.222694Z",
     "iopub.status.idle": "2022-12-15T17:45:29.240600Z",
     "shell.execute_reply": "2022-12-15T17:45:29.240082Z"
    },
    "papermill": {
     "duration": 0.031593,
     "end_time": "2022-12-15T17:45:29.241439",
     "exception": false,
     "start_time": "2022-12-15T17:45:29.209846",
     "status": "completed"
    },
    "tags": []
   },
   "outputs": [],
   "source": [
    "# testing that in S-MultiXcan I get the same number of tissues per gene\n",
    "_tmp_smultixcan_results_n_models = (\n",
    "    smultixcan_results.set_index(\"gene_id\")[\"n\"].astype(int).rename(\"tissue\")\n",
    ")\n",
    "\n",
    "_cg = _tmp_smultixcan_results_n_models.index.intersection(\n",
    "    spredixcan_genes_n_models.index\n",
    ")\n",
    "_tmp_smultixcan_results_n_models = _tmp_smultixcan_results_n_models.loc[_cg]\n",
    "_spredixcan = spredixcan_genes_n_models.loc[_cg]\n",
    "\n",
    "assert _spredixcan.shape[0] == _tmp_smultixcan_results_n_models.shape[0]\n",
    "assert _spredixcan.equals(_tmp_smultixcan_results_n_models.loc[_spredixcan.index])"
   ]
  },
  {
   "cell_type": "markdown",
   "id": "904d7d30-9c2d-4c3e-b674-3f081954fe8b",
   "metadata": {
    "papermill": {
     "duration": 0.012438,
     "end_time": "2022-12-15T17:45:29.266285",
     "exception": false,
     "start_time": "2022-12-15T17:45:29.253847",
     "status": "completed"
    },
    "tags": []
   },
   "source": [
    "### Get tissues available per gene"
   ]
  },
  {
   "cell_type": "code",
   "execution_count": 74,
   "id": "cf014e81-4b4e-4c46-9265-67718b3ab08e",
   "metadata": {
    "execution": {
     "iopub.execute_input": "2022-12-15T17:45:29.291940Z",
     "iopub.status.busy": "2022-12-15T17:45:29.291733Z",
     "iopub.status.idle": "2022-12-15T17:45:29.414675Z",
     "shell.execute_reply": "2022-12-15T17:45:29.414142Z"
    },
    "papermill": {
     "duration": 0.137169,
     "end_time": "2022-12-15T17:45:29.415952",
     "exception": false,
     "start_time": "2022-12-15T17:45:29.278783",
     "status": "completed"
    },
    "tags": []
   },
   "outputs": [],
   "source": [
    "spredixcan_genes_models = spredixcan_dfs.groupby(\"gene_id\")[\"tissue\"].apply(\n",
    "    lambda x: frozenset(x.tolist())\n",
    ")"
   ]
  },
  {
   "cell_type": "code",
   "execution_count": 75,
   "id": "5df09d7f-39c9-408f-9fef-5189e8ca1c87",
   "metadata": {
    "execution": {
     "iopub.execute_input": "2022-12-15T17:45:29.441768Z",
     "iopub.status.busy": "2022-12-15T17:45:29.441649Z",
     "iopub.status.idle": "2022-12-15T17:45:29.455378Z",
     "shell.execute_reply": "2022-12-15T17:45:29.454936Z"
    },
    "papermill": {
     "duration": 0.027601,
     "end_time": "2022-12-15T17:45:29.456222",
     "exception": false,
     "start_time": "2022-12-15T17:45:29.428621",
     "status": "completed"
    },
    "tags": []
   },
   "outputs": [
    {
     "data": {
      "text/plain": [
       "gene_id\n",
       "ENSG00000000419         (Brain_Hypothalamus, Brain_Substantia_nigra)\n",
       "ENSG00000000938    (Nerve_Tibial, Pituitary, Esophagus_Muscularis...\n",
       "ENSG00000000971    (Nerve_Tibial, Pituitary, Esophagus_Muscularis...\n",
       "ENSG00000001084    (Nerve_Tibial, Pituitary, Pancreas, Adrenal_Gl...\n",
       "ENSG00000001167    (Nerve_Tibial, Vagina, Esophagus_Muscularis, P...\n",
       "                                         ...                        \n",
       "ENSG00000278540    (Nerve_Tibial, Vagina, Pituitary, Esophagus_Mu...\n",
       "ENSG00000278828    (Adipose_Visceral_Omentum, Artery_Coronary, Ce...\n",
       "ENSG00000278845    (Nerve_Tibial, Vagina, Pituitary, Esophagus_Mu...\n",
       "ENSG00000281005    (Nerve_Tibial, Vagina, Pituitary, Esophagus_Mu...\n",
       "ENSG00000282608    (Nerve_Tibial, Esophagus_Muscularis, Pancreas,...\n",
       "Name: tissue, Length: 6443, dtype: object"
      ]
     },
     "execution_count": 75,
     "metadata": {},
     "output_type": "execute_result"
    }
   ],
   "source": [
    "spredixcan_genes_models"
   ]
  },
  {
   "cell_type": "code",
   "execution_count": 76,
   "id": "97c46886-5a48-4813-b890-1dcdb09ec09d",
   "metadata": {
    "execution": {
     "iopub.execute_input": "2022-12-15T17:45:29.481870Z",
     "iopub.status.busy": "2022-12-15T17:45:29.481670Z",
     "iopub.status.idle": "2022-12-15T17:45:29.491861Z",
     "shell.execute_reply": "2022-12-15T17:45:29.491427Z"
    },
    "papermill": {
     "duration": 0.023936,
     "end_time": "2022-12-15T17:45:29.492716",
     "exception": false,
     "start_time": "2022-12-15T17:45:29.468780",
     "status": "completed"
    },
    "tags": []
   },
   "outputs": [],
   "source": [
    "assert spredixcan_genes_n_models.shape[0] == spredixcan_genes_models.shape[0]"
   ]
  },
  {
   "cell_type": "code",
   "execution_count": 77,
   "id": "abc13913-a681-4297-a0e6-dde62f43c36f",
   "metadata": {
    "execution": {
     "iopub.execute_input": "2022-12-15T17:45:29.518323Z",
     "iopub.status.busy": "2022-12-15T17:45:29.518194Z",
     "iopub.status.idle": "2022-12-15T17:45:29.534763Z",
     "shell.execute_reply": "2022-12-15T17:45:29.534186Z"
    },
    "papermill": {
     "duration": 0.030591,
     "end_time": "2022-12-15T17:45:29.535787",
     "exception": false,
     "start_time": "2022-12-15T17:45:29.505196",
     "status": "completed"
    },
    "tags": []
   },
   "outputs": [],
   "source": [
    "assert spredixcan_genes_n_models.index.equals(spredixcan_genes_models.index)"
   ]
  },
  {
   "cell_type": "code",
   "execution_count": 78,
   "id": "995a02e7-b836-471b-b438-17c8c46e4fde",
   "metadata": {
    "execution": {
     "iopub.execute_input": "2022-12-15T17:45:29.561789Z",
     "iopub.status.busy": "2022-12-15T17:45:29.561586Z",
     "iopub.status.idle": "2022-12-15T17:45:29.579775Z",
     "shell.execute_reply": "2022-12-15T17:45:29.579199Z"
    },
    "papermill": {
     "duration": 0.032231,
     "end_time": "2022-12-15T17:45:29.580710",
     "exception": false,
     "start_time": "2022-12-15T17:45:29.548479",
     "status": "completed"
    },
    "tags": []
   },
   "outputs": [],
   "source": [
    "assert (spredixcan_genes_models.apply(len) <= len(prediction_model_tissues)).all()"
   ]
  },
  {
   "cell_type": "code",
   "execution_count": 79,
   "id": "0c1d0c68-1a06-480c-b6d6-d3c4fdf0f5aa",
   "metadata": {
    "execution": {
     "iopub.execute_input": "2022-12-15T17:45:29.606646Z",
     "iopub.status.busy": "2022-12-15T17:45:29.606445Z",
     "iopub.status.idle": "2022-12-15T17:45:29.628570Z",
     "shell.execute_reply": "2022-12-15T17:45:29.627971Z"
    },
    "papermill": {
     "duration": 0.036214,
     "end_time": "2022-12-15T17:45:29.629546",
     "exception": false,
     "start_time": "2022-12-15T17:45:29.593332",
     "status": "completed"
    },
    "tags": []
   },
   "outputs": [
    {
     "data": {
      "text/plain": [
       "count    6443.000000\n",
       "mean       36.589943\n",
       "std        12.865559\n",
       "min         1.000000\n",
       "25%        29.000000\n",
       "50%        42.000000\n",
       "75%        47.000000\n",
       "max        49.000000\n",
       "Name: tissue, dtype: float64"
      ]
     },
     "execution_count": 79,
     "metadata": {},
     "output_type": "execute_result"
    }
   ],
   "source": [
    "spredixcan_genes_models.apply(len).describe()"
   ]
  },
  {
   "cell_type": "code",
   "execution_count": 80,
   "id": "991b9441-6bb5-4b72-9285-5fd579875e40",
   "metadata": {
    "execution": {
     "iopub.execute_input": "2022-12-15T17:45:29.656095Z",
     "iopub.status.busy": "2022-12-15T17:45:29.655653Z",
     "iopub.status.idle": "2022-12-15T17:45:29.676654Z",
     "shell.execute_reply": "2022-12-15T17:45:29.676041Z"
    },
    "papermill": {
     "duration": 0.035412,
     "end_time": "2022-12-15T17:45:29.677603",
     "exception": false,
     "start_time": "2022-12-15T17:45:29.642191",
     "status": "completed"
    },
    "tags": []
   },
   "outputs": [],
   "source": [
    "# testing that I obtained the right number of tissues\n",
    "assert (\n",
    "    spredixcan_genes_models.loc[spredixcan_genes_n_models.index]\n",
    "    .apply(len)\n",
    "    .equals(spredixcan_genes_n_models)\n",
    ")"
   ]
  },
  {
   "cell_type": "markdown",
   "id": "3042b22d-9d88-4e21-b112-ab23cf8d24ea",
   "metadata": {
    "papermill": {
     "duration": 0.012611,
     "end_time": "2022-12-15T17:45:29.703004",
     "exception": false,
     "start_time": "2022-12-15T17:45:29.690393",
     "status": "completed"
    },
    "tags": []
   },
   "source": [
    "### Add gene name and set index"
   ]
  },
  {
   "cell_type": "code",
   "execution_count": 81,
   "id": "3b7b0e76-7aca-44bf-beff-5f1c1b6193ee",
   "metadata": {
    "execution": {
     "iopub.execute_input": "2022-12-15T17:45:29.729314Z",
     "iopub.status.busy": "2022-12-15T17:45:29.729105Z",
     "iopub.status.idle": "2022-12-15T17:45:29.745264Z",
     "shell.execute_reply": "2022-12-15T17:45:29.744673Z"
    },
    "papermill": {
     "duration": 0.03062,
     "end_time": "2022-12-15T17:45:29.746254",
     "exception": false,
     "start_time": "2022-12-15T17:45:29.715634",
     "status": "completed"
    },
    "tags": []
   },
   "outputs": [],
   "source": [
    "spredixcan_genes_models = spredixcan_genes_models.to_frame().reset_index()"
   ]
  },
  {
   "cell_type": "code",
   "execution_count": 82,
   "id": "ffab4b61-c2d4-4bcc-a147-23a4bf30f715",
   "metadata": {
    "execution": {
     "iopub.execute_input": "2022-12-15T17:45:29.772591Z",
     "iopub.status.busy": "2022-12-15T17:45:29.772189Z",
     "iopub.status.idle": "2022-12-15T17:45:29.793091Z",
     "shell.execute_reply": "2022-12-15T17:45:29.792519Z"
    },
    "papermill": {
     "duration": 0.034989,
     "end_time": "2022-12-15T17:45:29.793950",
     "exception": false,
     "start_time": "2022-12-15T17:45:29.758961",
     "status": "completed"
    },
    "tags": []
   },
   "outputs": [
    {
     "data": {
      "text/html": [
       "<div>\n",
       "<style scoped>\n",
       "    .dataframe tbody tr th:only-of-type {\n",
       "        vertical-align: middle;\n",
       "    }\n",
       "\n",
       "    .dataframe tbody tr th {\n",
       "        vertical-align: top;\n",
       "    }\n",
       "\n",
       "    .dataframe thead th {\n",
       "        text-align: right;\n",
       "    }\n",
       "</style>\n",
       "<table border=\"1\" class=\"dataframe\">\n",
       "  <thead>\n",
       "    <tr style=\"text-align: right;\">\n",
       "      <th></th>\n",
       "      <th>gene_id</th>\n",
       "      <th>tissue</th>\n",
       "    </tr>\n",
       "  </thead>\n",
       "  <tbody>\n",
       "    <tr>\n",
       "      <th>0</th>\n",
       "      <td>ENSG00000000419</td>\n",
       "      <td>(Brain_Hypothalamus, Brain_Substantia_nigra)</td>\n",
       "    </tr>\n",
       "    <tr>\n",
       "      <th>1</th>\n",
       "      <td>ENSG00000000938</td>\n",
       "      <td>(Nerve_Tibial, Pituitary, Esophagus_Muscularis...</td>\n",
       "    </tr>\n",
       "    <tr>\n",
       "      <th>2</th>\n",
       "      <td>ENSG00000000971</td>\n",
       "      <td>(Nerve_Tibial, Pituitary, Esophagus_Muscularis...</td>\n",
       "    </tr>\n",
       "    <tr>\n",
       "      <th>3</th>\n",
       "      <td>ENSG00000001084</td>\n",
       "      <td>(Nerve_Tibial, Pituitary, Pancreas, Adrenal_Gl...</td>\n",
       "    </tr>\n",
       "    <tr>\n",
       "      <th>4</th>\n",
       "      <td>ENSG00000001167</td>\n",
       "      <td>(Nerve_Tibial, Vagina, Esophagus_Muscularis, P...</td>\n",
       "    </tr>\n",
       "  </tbody>\n",
       "</table>\n",
       "</div>"
      ],
      "text/plain": [
       "           gene_id                                             tissue\n",
       "0  ENSG00000000419       (Brain_Hypothalamus, Brain_Substantia_nigra)\n",
       "1  ENSG00000000938  (Nerve_Tibial, Pituitary, Esophagus_Muscularis...\n",
       "2  ENSG00000000971  (Nerve_Tibial, Pituitary, Esophagus_Muscularis...\n",
       "3  ENSG00000001084  (Nerve_Tibial, Pituitary, Pancreas, Adrenal_Gl...\n",
       "4  ENSG00000001167  (Nerve_Tibial, Vagina, Esophagus_Muscularis, P..."
      ]
     },
     "execution_count": 82,
     "metadata": {},
     "output_type": "execute_result"
    }
   ],
   "source": [
    "spredixcan_genes_models.head()"
   ]
  },
  {
   "cell_type": "code",
   "execution_count": 83,
   "id": "e1cb2fe5-969f-4526-bca7-a3b8919b3509",
   "metadata": {
    "execution": {
     "iopub.execute_input": "2022-12-15T17:45:29.820482Z",
     "iopub.status.busy": "2022-12-15T17:45:29.820278Z",
     "iopub.status.idle": "2022-12-15T17:45:29.839664Z",
     "shell.execute_reply": "2022-12-15T17:45:29.839068Z"
    },
    "papermill": {
     "duration": 0.033997,
     "end_time": "2022-12-15T17:45:29.840696",
     "exception": false,
     "start_time": "2022-12-15T17:45:29.806699",
     "status": "completed"
    },
    "tags": []
   },
   "outputs": [],
   "source": [
    "spredixcan_genes_models = spredixcan_genes_models.assign(\n",
    "    gene_name=spredixcan_genes_models[\"gene_id\"].apply(\n",
    "        lambda g: Gene.GENE_ID_TO_NAME_MAP[g]\n",
    "    )\n",
    ")"
   ]
  },
  {
   "cell_type": "code",
   "execution_count": 84,
   "id": "ff078ce5-3f18-442e-a593-3326436c758e",
   "metadata": {
    "execution": {
     "iopub.execute_input": "2022-12-15T17:45:29.867707Z",
     "iopub.status.busy": "2022-12-15T17:45:29.867244Z",
     "iopub.status.idle": "2022-12-15T17:45:29.884075Z",
     "shell.execute_reply": "2022-12-15T17:45:29.883482Z"
    },
    "papermill": {
     "duration": 0.031377,
     "end_time": "2022-12-15T17:45:29.885068",
     "exception": false,
     "start_time": "2022-12-15T17:45:29.853691",
     "status": "completed"
    },
    "tags": []
   },
   "outputs": [],
   "source": [
    "spredixcan_genes_models = spredixcan_genes_models[[\"gene_id\", \"gene_name\", \"tissue\"]]"
   ]
  },
  {
   "cell_type": "code",
   "execution_count": 85,
   "id": "a65c8bf2-5ecd-4f80-a857-11f8a0c019c4",
   "metadata": {
    "execution": {
     "iopub.execute_input": "2022-12-15T17:45:29.911789Z",
     "iopub.status.busy": "2022-12-15T17:45:29.911585Z",
     "iopub.status.idle": "2022-12-15T17:45:29.927490Z",
     "shell.execute_reply": "2022-12-15T17:45:29.926905Z"
    },
    "papermill": {
     "duration": 0.030401,
     "end_time": "2022-12-15T17:45:29.928496",
     "exception": false,
     "start_time": "2022-12-15T17:45:29.898095",
     "status": "completed"
    },
    "tags": []
   },
   "outputs": [],
   "source": [
    "spredixcan_genes_models = spredixcan_genes_models.set_index(\"gene_id\")"
   ]
  },
  {
   "cell_type": "code",
   "execution_count": 86,
   "id": "af6b40b9-fc58-47a1-a1b5-4404034b008b",
   "metadata": {
    "execution": {
     "iopub.execute_input": "2022-12-15T17:45:29.955314Z",
     "iopub.status.busy": "2022-12-15T17:45:29.954883Z",
     "iopub.status.idle": "2022-12-15T17:45:29.975313Z",
     "shell.execute_reply": "2022-12-15T17:45:29.974745Z"
    },
    "papermill": {
     "duration": 0.034728,
     "end_time": "2022-12-15T17:45:29.976202",
     "exception": false,
     "start_time": "2022-12-15T17:45:29.941474",
     "status": "completed"
    },
    "tags": []
   },
   "outputs": [
    {
     "data": {
      "text/html": [
       "<div>\n",
       "<style scoped>\n",
       "    .dataframe tbody tr th:only-of-type {\n",
       "        vertical-align: middle;\n",
       "    }\n",
       "\n",
       "    .dataframe tbody tr th {\n",
       "        vertical-align: top;\n",
       "    }\n",
       "\n",
       "    .dataframe thead th {\n",
       "        text-align: right;\n",
       "    }\n",
       "</style>\n",
       "<table border=\"1\" class=\"dataframe\">\n",
       "  <thead>\n",
       "    <tr style=\"text-align: right;\">\n",
       "      <th></th>\n",
       "      <th>gene_name</th>\n",
       "      <th>tissue</th>\n",
       "    </tr>\n",
       "    <tr>\n",
       "      <th>gene_id</th>\n",
       "      <th></th>\n",
       "      <th></th>\n",
       "    </tr>\n",
       "  </thead>\n",
       "  <tbody>\n",
       "    <tr>\n",
       "      <th>ENSG00000000419</th>\n",
       "      <td>DPM1</td>\n",
       "      <td>(Brain_Hypothalamus, Brain_Substantia_nigra)</td>\n",
       "    </tr>\n",
       "    <tr>\n",
       "      <th>ENSG00000000938</th>\n",
       "      <td>FGR</td>\n",
       "      <td>(Nerve_Tibial, Pituitary, Esophagus_Muscularis...</td>\n",
       "    </tr>\n",
       "    <tr>\n",
       "      <th>ENSG00000000971</th>\n",
       "      <td>CFH</td>\n",
       "      <td>(Nerve_Tibial, Pituitary, Esophagus_Muscularis...</td>\n",
       "    </tr>\n",
       "    <tr>\n",
       "      <th>ENSG00000001084</th>\n",
       "      <td>GCLC</td>\n",
       "      <td>(Nerve_Tibial, Pituitary, Pancreas, Adrenal_Gl...</td>\n",
       "    </tr>\n",
       "    <tr>\n",
       "      <th>ENSG00000001167</th>\n",
       "      <td>NFYA</td>\n",
       "      <td>(Nerve_Tibial, Vagina, Esophagus_Muscularis, P...</td>\n",
       "    </tr>\n",
       "  </tbody>\n",
       "</table>\n",
       "</div>"
      ],
      "text/plain": [
       "                gene_name                                             tissue\n",
       "gene_id                                                                     \n",
       "ENSG00000000419      DPM1       (Brain_Hypothalamus, Brain_Substantia_nigra)\n",
       "ENSG00000000938       FGR  (Nerve_Tibial, Pituitary, Esophagus_Muscularis...\n",
       "ENSG00000000971       CFH  (Nerve_Tibial, Pituitary, Esophagus_Muscularis...\n",
       "ENSG00000001084      GCLC  (Nerve_Tibial, Pituitary, Pancreas, Adrenal_Gl...\n",
       "ENSG00000001167      NFYA  (Nerve_Tibial, Vagina, Esophagus_Muscularis, P..."
      ]
     },
     "execution_count": 86,
     "metadata": {},
     "output_type": "execute_result"
    }
   ],
   "source": [
    "spredixcan_genes_models.head()"
   ]
  },
  {
   "cell_type": "markdown",
   "id": "d1e67be9-9094-4a07-b89d-3a0815d503e6",
   "metadata": {
    "papermill": {
     "duration": 0.012869,
     "end_time": "2022-12-15T17:45:30.002064",
     "exception": false,
     "start_time": "2022-12-15T17:45:29.989195",
     "status": "completed"
    },
    "tags": []
   },
   "source": [
    "### Add number of tissues"
   ]
  },
  {
   "cell_type": "code",
   "execution_count": 87,
   "id": "b2702bdb-b3bc-48e6-9c3e-855924d9e74b",
   "metadata": {
    "execution": {
     "iopub.execute_input": "2022-12-15T17:45:30.028847Z",
     "iopub.status.busy": "2022-12-15T17:45:30.028637Z",
     "iopub.status.idle": "2022-12-15T17:45:30.047274Z",
     "shell.execute_reply": "2022-12-15T17:45:30.046687Z"
    },
    "papermill": {
     "duration": 0.033193,
     "end_time": "2022-12-15T17:45:30.048274",
     "exception": false,
     "start_time": "2022-12-15T17:45:30.015081",
     "status": "completed"
    },
    "tags": []
   },
   "outputs": [],
   "source": [
    "spredixcan_genes_models = spredixcan_genes_models.assign(\n",
    "    n_tissues=spredixcan_genes_models[\"tissue\"].apply(len)\n",
    ")"
   ]
  },
  {
   "cell_type": "code",
   "execution_count": 88,
   "id": "4a5eb4b8-5e11-45a3-a991-0515bd83fc03",
   "metadata": {
    "execution": {
     "iopub.execute_input": "2022-12-15T17:45:30.075283Z",
     "iopub.status.busy": "2022-12-15T17:45:30.075079Z",
     "iopub.status.idle": "2022-12-15T17:45:30.095872Z",
     "shell.execute_reply": "2022-12-15T17:45:30.095303Z"
    },
    "papermill": {
     "duration": 0.035209,
     "end_time": "2022-12-15T17:45:30.096682",
     "exception": false,
     "start_time": "2022-12-15T17:45:30.061473",
     "status": "completed"
    },
    "tags": []
   },
   "outputs": [
    {
     "data": {
      "text/html": [
       "<div>\n",
       "<style scoped>\n",
       "    .dataframe tbody tr th:only-of-type {\n",
       "        vertical-align: middle;\n",
       "    }\n",
       "\n",
       "    .dataframe tbody tr th {\n",
       "        vertical-align: top;\n",
       "    }\n",
       "\n",
       "    .dataframe thead th {\n",
       "        text-align: right;\n",
       "    }\n",
       "</style>\n",
       "<table border=\"1\" class=\"dataframe\">\n",
       "  <thead>\n",
       "    <tr style=\"text-align: right;\">\n",
       "      <th></th>\n",
       "      <th>gene_name</th>\n",
       "      <th>tissue</th>\n",
       "      <th>n_tissues</th>\n",
       "    </tr>\n",
       "    <tr>\n",
       "      <th>gene_id</th>\n",
       "      <th></th>\n",
       "      <th></th>\n",
       "      <th></th>\n",
       "    </tr>\n",
       "  </thead>\n",
       "  <tbody>\n",
       "    <tr>\n",
       "      <th>ENSG00000000419</th>\n",
       "      <td>DPM1</td>\n",
       "      <td>(Brain_Hypothalamus, Brain_Substantia_nigra)</td>\n",
       "      <td>2</td>\n",
       "    </tr>\n",
       "    <tr>\n",
       "      <th>ENSG00000000938</th>\n",
       "      <td>FGR</td>\n",
       "      <td>(Nerve_Tibial, Pituitary, Esophagus_Muscularis...</td>\n",
       "      <td>36</td>\n",
       "    </tr>\n",
       "    <tr>\n",
       "      <th>ENSG00000000971</th>\n",
       "      <td>CFH</td>\n",
       "      <td>(Nerve_Tibial, Pituitary, Esophagus_Muscularis...</td>\n",
       "      <td>34</td>\n",
       "    </tr>\n",
       "    <tr>\n",
       "      <th>ENSG00000001084</th>\n",
       "      <td>GCLC</td>\n",
       "      <td>(Nerve_Tibial, Pituitary, Pancreas, Adrenal_Gl...</td>\n",
       "      <td>32</td>\n",
       "    </tr>\n",
       "    <tr>\n",
       "      <th>ENSG00000001167</th>\n",
       "      <td>NFYA</td>\n",
       "      <td>(Nerve_Tibial, Vagina, Esophagus_Muscularis, P...</td>\n",
       "      <td>40</td>\n",
       "    </tr>\n",
       "  </tbody>\n",
       "</table>\n",
       "</div>"
      ],
      "text/plain": [
       "                gene_name                                             tissue  \\\n",
       "gene_id                                                                        \n",
       "ENSG00000000419      DPM1       (Brain_Hypothalamus, Brain_Substantia_nigra)   \n",
       "ENSG00000000938       FGR  (Nerve_Tibial, Pituitary, Esophagus_Muscularis...   \n",
       "ENSG00000000971       CFH  (Nerve_Tibial, Pituitary, Esophagus_Muscularis...   \n",
       "ENSG00000001084      GCLC  (Nerve_Tibial, Pituitary, Pancreas, Adrenal_Gl...   \n",
       "ENSG00000001167      NFYA  (Nerve_Tibial, Vagina, Esophagus_Muscularis, P...   \n",
       "\n",
       "                 n_tissues  \n",
       "gene_id                     \n",
       "ENSG00000000419          2  \n",
       "ENSG00000000938         36  \n",
       "ENSG00000000971         34  \n",
       "ENSG00000001084         32  \n",
       "ENSG00000001167         40  "
      ]
     },
     "execution_count": 88,
     "metadata": {},
     "output_type": "execute_result"
    }
   ],
   "source": [
    "spredixcan_genes_models.head()"
   ]
  },
  {
   "cell_type": "markdown",
   "id": "2abce820-1cb4-4a58-9dc5-b3e37d3ff037",
   "metadata": {
    "papermill": {
     "duration": 0.013094,
     "end_time": "2022-12-15T17:45:30.123101",
     "exception": false,
     "start_time": "2022-12-15T17:45:30.110007",
     "status": "completed"
    },
    "tags": []
   },
   "source": [
    "### Save"
   ]
  },
  {
   "cell_type": "markdown",
   "id": "28462e2a-da49-44c4-ae71-b3830a2b108f",
   "metadata": {
    "papermill": {
     "duration": 0.012988,
     "end_time": "2022-12-15T17:45:30.149257",
     "exception": false,
     "start_time": "2022-12-15T17:45:30.136269",
     "status": "completed"
    },
    "tags": []
   },
   "source": [
    "Here I quickly save these results to a file, given that the next steps (covariates) are slow to compute."
   ]
  },
  {
   "cell_type": "code",
   "execution_count": 89,
   "id": "9cfb687d-5ab2-4e85-9944-f5c685de8046",
   "metadata": {
    "execution": {
     "iopub.execute_input": "2022-12-15T17:45:30.176670Z",
     "iopub.status.busy": "2022-12-15T17:45:30.176463Z",
     "iopub.status.idle": "2022-12-15T17:45:30.193910Z",
     "shell.execute_reply": "2022-12-15T17:45:30.193329Z"
    },
    "papermill": {
     "duration": 0.032247,
     "end_time": "2022-12-15T17:45:30.194915",
     "exception": false,
     "start_time": "2022-12-15T17:45:30.162668",
     "status": "completed"
    },
    "tags": []
   },
   "outputs": [],
   "source": [
    "# this is important, other scripts depend on gene_name to be unique\n",
    "assert spredixcan_genes_models[\"gene_name\"].is_unique"
   ]
  },
  {
   "cell_type": "code",
   "execution_count": 90,
   "id": "b2d9bd26-afaa-4aff-a707-3109e13af9bb",
   "metadata": {
    "execution": {
     "iopub.execute_input": "2022-12-15T17:45:30.221886Z",
     "iopub.status.busy": "2022-12-15T17:45:30.221684Z",
     "iopub.status.idle": "2022-12-15T17:45:30.240279Z",
     "shell.execute_reply": "2022-12-15T17:45:30.239671Z"
    },
    "papermill": {
     "duration": 0.033178,
     "end_time": "2022-12-15T17:45:30.241266",
     "exception": false,
     "start_time": "2022-12-15T17:45:30.208088",
     "status": "completed"
    },
    "tags": []
   },
   "outputs": [],
   "source": [
    "assert not spredixcan_genes_models.isna().any(axis=None)"
   ]
  },
  {
   "cell_type": "code",
   "execution_count": 91,
   "id": "074b103c-2960-4299-a3ac-fa37ab6f2784",
   "metadata": {
    "execution": {
     "iopub.execute_input": "2022-12-15T17:45:30.268640Z",
     "iopub.status.busy": "2022-12-15T17:45:30.268178Z",
     "iopub.status.idle": "2022-12-15T17:45:30.297817Z",
     "shell.execute_reply": "2022-12-15T17:45:30.297163Z"
    },
    "papermill": {
     "duration": 0.044231,
     "end_time": "2022-12-15T17:45:30.298723",
     "exception": false,
     "start_time": "2022-12-15T17:45:30.254492",
     "status": "completed"
    },
    "tags": []
   },
   "outputs": [],
   "source": [
    "spredixcan_genes_models.to_pickle(OUTPUT_DIR_BASE / \"gene_tissues.pkl\")"
   ]
  },
  {
   "cell_type": "markdown",
   "id": "ae18f693-4da8-48ae-85b6-8194abcca684",
   "metadata": {
    "papermill": {
     "duration": 0.013079,
     "end_time": "2022-12-15T17:45:30.325016",
     "exception": false,
     "start_time": "2022-12-15T17:45:30.311937",
     "status": "completed"
    },
    "tags": []
   },
   "source": [
    "## Add covariates based on S-PrediXcan results"
   ]
  },
  {
   "cell_type": "markdown",
   "id": "bed7a46c-4906-40b9-9dd8-0bfb584e6d2a",
   "metadata": {
    "papermill": {
     "duration": 0.013124,
     "end_time": "2022-12-15T17:45:30.351222",
     "exception": false,
     "start_time": "2022-12-15T17:45:30.338098",
     "status": "completed"
    },
    "tags": []
   },
   "source": [
    "This extend the previous file with more columns"
   ]
  },
  {
   "cell_type": "markdown",
   "id": "850c554f-2ace-40a3-a33a-477246bb07c7",
   "metadata": {
    "papermill": {
     "duration": 0.013046,
     "end_time": "2022-12-15T17:45:30.377523",
     "exception": false,
     "start_time": "2022-12-15T17:45:30.364477",
     "status": "completed"
    },
    "tags": []
   },
   "source": [
    "### Get gene's objects"
   ]
  },
  {
   "cell_type": "code",
   "execution_count": 92,
   "id": "dfd93711-5c91-4cb6-8561-f366e270b6b1",
   "metadata": {
    "execution": {
     "iopub.execute_input": "2022-12-15T17:45:30.404801Z",
     "iopub.status.busy": "2022-12-15T17:45:30.404592Z",
     "iopub.status.idle": "2022-12-15T17:45:30.433282Z",
     "shell.execute_reply": "2022-12-15T17:45:30.432616Z"
    },
    "papermill": {
     "duration": 0.043548,
     "end_time": "2022-12-15T17:45:30.434280",
     "exception": false,
     "start_time": "2022-12-15T17:45:30.390732",
     "status": "completed"
    },
    "tags": []
   },
   "outputs": [],
   "source": [
    "spredixcan_gene_obj = {\n",
    "    gene_id: Gene(ensembl_id=gene_id) for gene_id in spredixcan_genes_models.index\n",
    "}"
   ]
  },
  {
   "cell_type": "code",
   "execution_count": 93,
   "id": "59efbedc-0b5d-4d0b-bd82-95e74c0ba793",
   "metadata": {
    "execution": {
     "iopub.execute_input": "2022-12-15T17:45:30.461616Z",
     "iopub.status.busy": "2022-12-15T17:45:30.461147Z",
     "iopub.status.idle": "2022-12-15T17:45:30.479088Z",
     "shell.execute_reply": "2022-12-15T17:45:30.478521Z"
    },
    "papermill": {
     "duration": 0.032584,
     "end_time": "2022-12-15T17:45:30.479969",
     "exception": false,
     "start_time": "2022-12-15T17:45:30.447385",
     "status": "completed"
    },
    "tags": []
   },
   "outputs": [
    {
     "data": {
      "text/plain": [
       "6443"
      ]
     },
     "execution_count": 93,
     "metadata": {},
     "output_type": "execute_result"
    }
   ],
   "source": [
    "len(spredixcan_gene_obj)"
   ]
  },
  {
   "cell_type": "markdown",
   "id": "ab6ff41a-0949-4eea-abef-7dc4f0b373fc",
   "metadata": {
    "papermill": {
     "duration": 0.013142,
     "end_time": "2022-12-15T17:45:30.506635",
     "exception": false,
     "start_time": "2022-12-15T17:45:30.493493",
     "status": "completed"
    },
    "tags": []
   },
   "source": [
    "### Count number of SNPs predictors used across tissue models"
   ]
  },
  {
   "cell_type": "code",
   "execution_count": 94,
   "id": "c8f6cc6f-5812-45c9-b775-6f2193f8a360",
   "metadata": {
    "execution": {
     "iopub.execute_input": "2022-12-15T17:45:30.534008Z",
     "iopub.status.busy": "2022-12-15T17:45:30.533803Z",
     "iopub.status.idle": "2022-12-15T17:45:30.587486Z",
     "shell.execute_reply": "2022-12-15T17:45:30.586821Z"
    },
    "papermill": {
     "duration": 0.068475,
     "end_time": "2022-12-15T17:45:30.588449",
     "exception": false,
     "start_time": "2022-12-15T17:45:30.519974",
     "status": "completed"
    },
    "tags": []
   },
   "outputs": [],
   "source": [
    "spredixcan_genes_sum_of_n_snps_used = (\n",
    "    spredixcan_dfs.groupby(\"gene_id\")[\"n_snps_used\"].sum().rename(\"n_snps_used_sum\")\n",
    ")"
   ]
  },
  {
   "cell_type": "code",
   "execution_count": 95,
   "id": "7255df64-7b9f-4504-a4fa-1f2a9aa56ec0",
   "metadata": {
    "execution": {
     "iopub.execute_input": "2022-12-15T17:45:30.616421Z",
     "iopub.status.busy": "2022-12-15T17:45:30.616205Z",
     "iopub.status.idle": "2022-12-15T17:45:30.634641Z",
     "shell.execute_reply": "2022-12-15T17:45:30.634078Z"
    },
    "papermill": {
     "duration": 0.033291,
     "end_time": "2022-12-15T17:45:30.635523",
     "exception": false,
     "start_time": "2022-12-15T17:45:30.602232",
     "status": "completed"
    },
    "tags": []
   },
   "outputs": [
    {
     "data": {
      "text/plain": [
       "gene_id\n",
       "ENSG00000000419     2\n",
       "ENSG00000000938    40\n",
       "ENSG00000000971    44\n",
       "ENSG00000001084    46\n",
       "ENSG00000001167    47\n",
       "                   ..\n",
       "ENSG00000278540    44\n",
       "ENSG00000278828     5\n",
       "ENSG00000278845    89\n",
       "ENSG00000281005    81\n",
       "ENSG00000282608    40\n",
       "Name: n_snps_used_sum, Length: 6443, dtype: int64"
      ]
     },
     "execution_count": 95,
     "metadata": {},
     "output_type": "execute_result"
    }
   ],
   "source": [
    "spredixcan_genes_sum_of_n_snps_used"
   ]
  },
  {
   "cell_type": "code",
   "execution_count": 96,
   "id": "44bc1222-b334-4ce2-8997-494d0e584cf9",
   "metadata": {
    "execution": {
     "iopub.execute_input": "2022-12-15T17:45:30.663216Z",
     "iopub.status.busy": "2022-12-15T17:45:30.663010Z",
     "iopub.status.idle": "2022-12-15T17:45:30.682223Z",
     "shell.execute_reply": "2022-12-15T17:45:30.681630Z"
    },
    "papermill": {
     "duration": 0.034096,
     "end_time": "2022-12-15T17:45:30.683127",
     "exception": false,
     "start_time": "2022-12-15T17:45:30.649031",
     "status": "completed"
    },
    "tags": []
   },
   "outputs": [],
   "source": [
    "# add sum of snps used to spredixcan_genes_models\n",
    "spredixcan_genes_models = spredixcan_genes_models.join(\n",
    "    spredixcan_genes_sum_of_n_snps_used\n",
    ")"
   ]
  },
  {
   "cell_type": "code",
   "execution_count": 97,
   "id": "5e5e6d7f-b970-4f21-9322-b76bc22afd71",
   "metadata": {
    "execution": {
     "iopub.execute_input": "2022-12-15T17:45:30.710614Z",
     "iopub.status.busy": "2022-12-15T17:45:30.710409Z",
     "iopub.status.idle": "2022-12-15T17:45:30.726969Z",
     "shell.execute_reply": "2022-12-15T17:45:30.726401Z"
    },
    "papermill": {
     "duration": 0.031436,
     "end_time": "2022-12-15T17:45:30.727861",
     "exception": false,
     "start_time": "2022-12-15T17:45:30.696425",
     "status": "completed"
    },
    "tags": []
   },
   "outputs": [
    {
     "data": {
      "text/plain": [
       "(6443, 4)"
      ]
     },
     "execution_count": 97,
     "metadata": {},
     "output_type": "execute_result"
    }
   ],
   "source": [
    "spredixcan_genes_models.shape"
   ]
  },
  {
   "cell_type": "code",
   "execution_count": 98,
   "id": "22c096c2-213a-4001-8454-1633997d404f",
   "metadata": {
    "execution": {
     "iopub.execute_input": "2022-12-15T17:45:30.755895Z",
     "iopub.status.busy": "2022-12-15T17:45:30.755463Z",
     "iopub.status.idle": "2022-12-15T17:45:30.776453Z",
     "shell.execute_reply": "2022-12-15T17:45:30.775871Z"
    },
    "papermill": {
     "duration": 0.035798,
     "end_time": "2022-12-15T17:45:30.777345",
     "exception": false,
     "start_time": "2022-12-15T17:45:30.741547",
     "status": "completed"
    },
    "tags": []
   },
   "outputs": [
    {
     "data": {
      "text/html": [
       "<div>\n",
       "<style scoped>\n",
       "    .dataframe tbody tr th:only-of-type {\n",
       "        vertical-align: middle;\n",
       "    }\n",
       "\n",
       "    .dataframe tbody tr th {\n",
       "        vertical-align: top;\n",
       "    }\n",
       "\n",
       "    .dataframe thead th {\n",
       "        text-align: right;\n",
       "    }\n",
       "</style>\n",
       "<table border=\"1\" class=\"dataframe\">\n",
       "  <thead>\n",
       "    <tr style=\"text-align: right;\">\n",
       "      <th></th>\n",
       "      <th>gene_name</th>\n",
       "      <th>tissue</th>\n",
       "      <th>n_tissues</th>\n",
       "      <th>n_snps_used_sum</th>\n",
       "    </tr>\n",
       "    <tr>\n",
       "      <th>gene_id</th>\n",
       "      <th></th>\n",
       "      <th></th>\n",
       "      <th></th>\n",
       "      <th></th>\n",
       "    </tr>\n",
       "  </thead>\n",
       "  <tbody>\n",
       "    <tr>\n",
       "      <th>ENSG00000000419</th>\n",
       "      <td>DPM1</td>\n",
       "      <td>(Brain_Hypothalamus, Brain_Substantia_nigra)</td>\n",
       "      <td>2</td>\n",
       "      <td>2</td>\n",
       "    </tr>\n",
       "    <tr>\n",
       "      <th>ENSG00000000938</th>\n",
       "      <td>FGR</td>\n",
       "      <td>(Nerve_Tibial, Pituitary, Esophagus_Muscularis...</td>\n",
       "      <td>36</td>\n",
       "      <td>40</td>\n",
       "    </tr>\n",
       "    <tr>\n",
       "      <th>ENSG00000000971</th>\n",
       "      <td>CFH</td>\n",
       "      <td>(Nerve_Tibial, Pituitary, Esophagus_Muscularis...</td>\n",
       "      <td>34</td>\n",
       "      <td>44</td>\n",
       "    </tr>\n",
       "    <tr>\n",
       "      <th>ENSG00000001084</th>\n",
       "      <td>GCLC</td>\n",
       "      <td>(Nerve_Tibial, Pituitary, Pancreas, Adrenal_Gl...</td>\n",
       "      <td>32</td>\n",
       "      <td>46</td>\n",
       "    </tr>\n",
       "    <tr>\n",
       "      <th>ENSG00000001167</th>\n",
       "      <td>NFYA</td>\n",
       "      <td>(Nerve_Tibial, Vagina, Esophagus_Muscularis, P...</td>\n",
       "      <td>40</td>\n",
       "      <td>47</td>\n",
       "    </tr>\n",
       "  </tbody>\n",
       "</table>\n",
       "</div>"
      ],
      "text/plain": [
       "                gene_name                                             tissue  \\\n",
       "gene_id                                                                        \n",
       "ENSG00000000419      DPM1       (Brain_Hypothalamus, Brain_Substantia_nigra)   \n",
       "ENSG00000000938       FGR  (Nerve_Tibial, Pituitary, Esophagus_Muscularis...   \n",
       "ENSG00000000971       CFH  (Nerve_Tibial, Pituitary, Esophagus_Muscularis...   \n",
       "ENSG00000001084      GCLC  (Nerve_Tibial, Pituitary, Pancreas, Adrenal_Gl...   \n",
       "ENSG00000001167      NFYA  (Nerve_Tibial, Vagina, Esophagus_Muscularis, P...   \n",
       "\n",
       "                 n_tissues  n_snps_used_sum  \n",
       "gene_id                                      \n",
       "ENSG00000000419          2                2  \n",
       "ENSG00000000938         36               40  \n",
       "ENSG00000000971         34               44  \n",
       "ENSG00000001084         32               46  \n",
       "ENSG00000001167         40               47  "
      ]
     },
     "execution_count": 98,
     "metadata": {},
     "output_type": "execute_result"
    }
   ],
   "source": [
    "spredixcan_genes_models.head()"
   ]
  },
  {
   "cell_type": "markdown",
   "id": "f4692315-d7be-465e-b756-f6d76fec949e",
   "metadata": {
    "papermill": {
     "duration": 0.013609,
     "end_time": "2022-12-15T17:45:30.804768",
     "exception": false,
     "start_time": "2022-12-15T17:45:30.791159",
     "status": "completed"
    },
    "tags": []
   },
   "source": [
    "### Count number of SNPs predictors in models across tissue models"
   ]
  },
  {
   "cell_type": "code",
   "execution_count": 99,
   "id": "08eed385-36eb-4e42-b28e-51333f9cfcd3",
   "metadata": {
    "execution": {
     "iopub.execute_input": "2022-12-15T17:45:30.832669Z",
     "iopub.status.busy": "2022-12-15T17:45:30.832465Z",
     "iopub.status.idle": "2022-12-15T17:45:30.885877Z",
     "shell.execute_reply": "2022-12-15T17:45:30.885213Z"
    },
    "papermill": {
     "duration": 0.068581,
     "end_time": "2022-12-15T17:45:30.886875",
     "exception": false,
     "start_time": "2022-12-15T17:45:30.818294",
     "status": "completed"
    },
    "tags": []
   },
   "outputs": [],
   "source": [
    "spredixcan_genes_sum_of_n_snps_in_model = (\n",
    "    spredixcan_dfs.groupby(\"gene_id\")[\"n_snps_in_model\"]\n",
    "    .sum()\n",
    "    .rename(\"n_snps_in_model_sum\")\n",
    ")"
   ]
  },
  {
   "cell_type": "code",
   "execution_count": 100,
   "id": "10431f5c-1f56-4664-a09f-53c608bec631",
   "metadata": {
    "execution": {
     "iopub.execute_input": "2022-12-15T17:45:30.915362Z",
     "iopub.status.busy": "2022-12-15T17:45:30.914898Z",
     "iopub.status.idle": "2022-12-15T17:45:30.933873Z",
     "shell.execute_reply": "2022-12-15T17:45:30.933295Z"
    },
    "papermill": {
     "duration": 0.034115,
     "end_time": "2022-12-15T17:45:30.934762",
     "exception": false,
     "start_time": "2022-12-15T17:45:30.900647",
     "status": "completed"
    },
    "tags": []
   },
   "outputs": [
    {
     "data": {
      "text/plain": [
       "gene_id\n",
       "ENSG00000000419     2\n",
       "ENSG00000000938    40\n",
       "ENSG00000000971    44\n",
       "ENSG00000001084    46\n",
       "ENSG00000001167    48\n",
       "                   ..\n",
       "ENSG00000278540    44\n",
       "ENSG00000278828     5\n",
       "ENSG00000278845    91\n",
       "ENSG00000281005    81\n",
       "ENSG00000282608    40\n",
       "Name: n_snps_in_model_sum, Length: 6443, dtype: int64"
      ]
     },
     "execution_count": 100,
     "metadata": {},
     "output_type": "execute_result"
    }
   ],
   "source": [
    "spredixcan_genes_sum_of_n_snps_in_model"
   ]
  },
  {
   "cell_type": "code",
   "execution_count": 101,
   "id": "d13e1d65-0dcb-4a94-aba8-bcdcd09d17c3",
   "metadata": {
    "execution": {
     "iopub.execute_input": "2022-12-15T17:45:30.963308Z",
     "iopub.status.busy": "2022-12-15T17:45:30.962800Z",
     "iopub.status.idle": "2022-12-15T17:45:30.981406Z",
     "shell.execute_reply": "2022-12-15T17:45:30.980791Z"
    },
    "papermill": {
     "duration": 0.033759,
     "end_time": "2022-12-15T17:45:30.982290",
     "exception": false,
     "start_time": "2022-12-15T17:45:30.948531",
     "status": "completed"
    },
    "tags": []
   },
   "outputs": [],
   "source": [
    "# add sum of snps in model to spredixcan_genes_models\n",
    "spredixcan_genes_models = spredixcan_genes_models.join(\n",
    "    spredixcan_genes_sum_of_n_snps_in_model\n",
    ")"
   ]
  },
  {
   "cell_type": "code",
   "execution_count": 102,
   "id": "0d3973d8-5da2-4c9d-b406-2525f615035c",
   "metadata": {
    "execution": {
     "iopub.execute_input": "2022-12-15T17:45:31.010498Z",
     "iopub.status.busy": "2022-12-15T17:45:31.010077Z",
     "iopub.status.idle": "2022-12-15T17:45:31.026766Z",
     "shell.execute_reply": "2022-12-15T17:45:31.026203Z"
    },
    "papermill": {
     "duration": 0.031761,
     "end_time": "2022-12-15T17:45:31.027591",
     "exception": false,
     "start_time": "2022-12-15T17:45:30.995830",
     "status": "completed"
    },
    "tags": []
   },
   "outputs": [
    {
     "data": {
      "text/plain": [
       "(6443, 5)"
      ]
     },
     "execution_count": 102,
     "metadata": {},
     "output_type": "execute_result"
    }
   ],
   "source": [
    "spredixcan_genes_models.shape"
   ]
  },
  {
   "cell_type": "code",
   "execution_count": 103,
   "id": "76c27f05-c5c6-4ed9-9363-fcba871a3572",
   "metadata": {
    "execution": {
     "iopub.execute_input": "2022-12-15T17:45:31.056308Z",
     "iopub.status.busy": "2022-12-15T17:45:31.055858Z",
     "iopub.status.idle": "2022-12-15T17:45:31.076971Z",
     "shell.execute_reply": "2022-12-15T17:45:31.076384Z"
    },
    "papermill": {
     "duration": 0.036362,
     "end_time": "2022-12-15T17:45:31.077864",
     "exception": false,
     "start_time": "2022-12-15T17:45:31.041502",
     "status": "completed"
    },
    "tags": []
   },
   "outputs": [
    {
     "data": {
      "text/html": [
       "<div>\n",
       "<style scoped>\n",
       "    .dataframe tbody tr th:only-of-type {\n",
       "        vertical-align: middle;\n",
       "    }\n",
       "\n",
       "    .dataframe tbody tr th {\n",
       "        vertical-align: top;\n",
       "    }\n",
       "\n",
       "    .dataframe thead th {\n",
       "        text-align: right;\n",
       "    }\n",
       "</style>\n",
       "<table border=\"1\" class=\"dataframe\">\n",
       "  <thead>\n",
       "    <tr style=\"text-align: right;\">\n",
       "      <th></th>\n",
       "      <th>gene_name</th>\n",
       "      <th>tissue</th>\n",
       "      <th>n_tissues</th>\n",
       "      <th>n_snps_used_sum</th>\n",
       "      <th>n_snps_in_model_sum</th>\n",
       "    </tr>\n",
       "    <tr>\n",
       "      <th>gene_id</th>\n",
       "      <th></th>\n",
       "      <th></th>\n",
       "      <th></th>\n",
       "      <th></th>\n",
       "      <th></th>\n",
       "    </tr>\n",
       "  </thead>\n",
       "  <tbody>\n",
       "    <tr>\n",
       "      <th>ENSG00000000419</th>\n",
       "      <td>DPM1</td>\n",
       "      <td>(Brain_Hypothalamus, Brain_Substantia_nigra)</td>\n",
       "      <td>2</td>\n",
       "      <td>2</td>\n",
       "      <td>2</td>\n",
       "    </tr>\n",
       "    <tr>\n",
       "      <th>ENSG00000000938</th>\n",
       "      <td>FGR</td>\n",
       "      <td>(Nerve_Tibial, Pituitary, Esophagus_Muscularis...</td>\n",
       "      <td>36</td>\n",
       "      <td>40</td>\n",
       "      <td>40</td>\n",
       "    </tr>\n",
       "    <tr>\n",
       "      <th>ENSG00000000971</th>\n",
       "      <td>CFH</td>\n",
       "      <td>(Nerve_Tibial, Pituitary, Esophagus_Muscularis...</td>\n",
       "      <td>34</td>\n",
       "      <td>44</td>\n",
       "      <td>44</td>\n",
       "    </tr>\n",
       "    <tr>\n",
       "      <th>ENSG00000001084</th>\n",
       "      <td>GCLC</td>\n",
       "      <td>(Nerve_Tibial, Pituitary, Pancreas, Adrenal_Gl...</td>\n",
       "      <td>32</td>\n",
       "      <td>46</td>\n",
       "      <td>46</td>\n",
       "    </tr>\n",
       "    <tr>\n",
       "      <th>ENSG00000001167</th>\n",
       "      <td>NFYA</td>\n",
       "      <td>(Nerve_Tibial, Vagina, Esophagus_Muscularis, P...</td>\n",
       "      <td>40</td>\n",
       "      <td>47</td>\n",
       "      <td>48</td>\n",
       "    </tr>\n",
       "  </tbody>\n",
       "</table>\n",
       "</div>"
      ],
      "text/plain": [
       "                gene_name                                             tissue  \\\n",
       "gene_id                                                                        \n",
       "ENSG00000000419      DPM1       (Brain_Hypothalamus, Brain_Substantia_nigra)   \n",
       "ENSG00000000938       FGR  (Nerve_Tibial, Pituitary, Esophagus_Muscularis...   \n",
       "ENSG00000000971       CFH  (Nerve_Tibial, Pituitary, Esophagus_Muscularis...   \n",
       "ENSG00000001084      GCLC  (Nerve_Tibial, Pituitary, Pancreas, Adrenal_Gl...   \n",
       "ENSG00000001167      NFYA  (Nerve_Tibial, Vagina, Esophagus_Muscularis, P...   \n",
       "\n",
       "                 n_tissues  n_snps_used_sum  n_snps_in_model_sum  \n",
       "gene_id                                                           \n",
       "ENSG00000000419          2                2                    2  \n",
       "ENSG00000000938         36               40                   40  \n",
       "ENSG00000000971         34               44                   44  \n",
       "ENSG00000001084         32               46                   46  \n",
       "ENSG00000001167         40               47                   48  "
      ]
     },
     "execution_count": 103,
     "metadata": {},
     "output_type": "execute_result"
    }
   ],
   "source": [
    "spredixcan_genes_models.head()"
   ]
  },
  {
   "cell_type": "markdown",
   "id": "d6947d45-ea78-4c6b-bf71-f7413d1687e3",
   "metadata": {
    "papermill": {
     "duration": 0.013763,
     "end_time": "2022-12-15T17:45:31.105618",
     "exception": false,
     "start_time": "2022-12-15T17:45:31.091855",
     "status": "completed"
    },
    "tags": []
   },
   "source": [
    "### Save"
   ]
  },
  {
   "cell_type": "code",
   "execution_count": 104,
   "id": "ebc3a430-7bd5-4099-8b01-aa77e704e3e7",
   "metadata": {
    "execution": {
     "iopub.execute_input": "2022-12-15T17:45:31.134547Z",
     "iopub.status.busy": "2022-12-15T17:45:31.134108Z",
     "iopub.status.idle": "2022-12-15T17:45:31.149983Z",
     "shell.execute_reply": "2022-12-15T17:45:31.149399Z"
    },
    "papermill": {
     "duration": 0.031332,
     "end_time": "2022-12-15T17:45:31.150872",
     "exception": false,
     "start_time": "2022-12-15T17:45:31.119540",
     "status": "completed"
    },
    "tags": []
   },
   "outputs": [],
   "source": [
    "# this is important, other scripts depend on gene_name to be unique\n",
    "assert spredixcan_genes_models[\"gene_name\"].is_unique"
   ]
  },
  {
   "cell_type": "code",
   "execution_count": 105,
   "id": "e2db5302-3051-4492-97e1-e759d2fb512f",
   "metadata": {
    "execution": {
     "iopub.execute_input": "2022-12-15T17:45:31.180082Z",
     "iopub.status.busy": "2022-12-15T17:45:31.179632Z",
     "iopub.status.idle": "2022-12-15T17:45:31.197504Z",
     "shell.execute_reply": "2022-12-15T17:45:31.196917Z"
    },
    "papermill": {
     "duration": 0.033533,
     "end_time": "2022-12-15T17:45:31.198356",
     "exception": false,
     "start_time": "2022-12-15T17:45:31.164823",
     "status": "completed"
    },
    "tags": []
   },
   "outputs": [],
   "source": [
    "assert not spredixcan_genes_models.isna().any(axis=None)"
   ]
  },
  {
   "cell_type": "code",
   "execution_count": 106,
   "id": "10e19441-8390-4eb1-8da4-24752597bb54",
   "metadata": {
    "execution": {
     "iopub.execute_input": "2022-12-15T17:45:31.227936Z",
     "iopub.status.busy": "2022-12-15T17:45:31.227444Z",
     "iopub.status.idle": "2022-12-15T17:45:31.258219Z",
     "shell.execute_reply": "2022-12-15T17:45:31.257553Z"
    },
    "papermill": {
     "duration": 0.046483,
     "end_time": "2022-12-15T17:45:31.259043",
     "exception": false,
     "start_time": "2022-12-15T17:45:31.212560",
     "status": "completed"
    },
    "tags": []
   },
   "outputs": [],
   "source": [
    "spredixcan_genes_models.to_pickle(OUTPUT_DIR_BASE / \"gene_tissues.pkl\")"
   ]
  },
  {
   "cell_type": "code",
   "execution_count": null,
   "id": "b25e3ead",
   "metadata": {
    "papermill": {
     "duration": 0.013831,
     "end_time": "2022-12-15T17:45:31.286759",
     "exception": false,
     "start_time": "2022-12-15T17:45:31.272928",
     "status": "completed"
    },
    "tags": []
   },
   "outputs": [],
   "source": []
  }
 ],
 "metadata": {
  "jupytext": {
   "cell_metadata_filter": "all,-execution,-papermill,-trusted",
   "formats": "ipynb,py//py:percent"
  },
  "kernelspec": {
   "display_name": "Python 3 (ipykernel)",
   "language": "python",
   "name": "python3"
  },
  "language_info": {
   "codemirror_mode": {
    "name": "ipython",
    "version": 3
   },
   "file_extension": ".py",
   "mimetype": "text/x-python",
   "name": "python",
   "nbconvert_exporter": "python",
   "pygments_lexer": "ipython3",
   "version": "3.10.6"
  },
  "papermill": {
   "default_parameters": {},
   "duration": 32.283376,
   "end_time": "2022-12-15T17:45:32.221054",
   "environment_variables": {},
   "exception": null,
   "input_path": "projects/asthma-copd/nbs/20_gene_corrs/jobs/01-compile_gwas_snps_and_twas_genes.ipynb",
   "output_path": "projects/asthma-copd/nbs/20_gene_corrs/jobs/../output/copd_only/01-compile_gwas_snps_and_twas_genes.run.ipynb",
   "parameters": {
    "COHORT_NAME": "copd_only",
    "GWAS_FILE": "/opt/data/projects/asthma-copd/results/final_imputed_gwas/GWAS_COPD_only_GLM_SNPs_info0.7-harmonized-imputed.txt.gz",
    "OUTPUT_DIR_BASE": "/opt/data/projects/asthma-copd/results/gls_phenoplier",
    "PHENOPLIER_NOTEBOOK_FILEPATH": "projects/asthma-copd/nbs/20_gene_corrs/jobs/01-compile_gwas_snps_and_twas_genes.ipynb",
    "SMULTIXCAN_FILE": "/opt/data/projects/asthma-copd/results/twas/smultixcan/GWAS_COPD_only_GLM_SNPs_info0.7-gtex_v8-mashr-smultixcan.txt",
    "SPREDIXCAN_FILE_PATTERN": "GWAS_COPD_only_GLM_SNPs_info0.7-gtex_v8-mashr-{tissue}.csv",
    "SPREDIXCAN_FOLDER": "/opt/data/projects/asthma-copd/results/twas/spredixcan"
   },
   "start_time": "2022-12-15T17:44:59.937678",
   "version": "2.2.2"
  },
  "toc-autonumbering": true
 },
 "nbformat": 4,
 "nbformat_minor": 5
}
