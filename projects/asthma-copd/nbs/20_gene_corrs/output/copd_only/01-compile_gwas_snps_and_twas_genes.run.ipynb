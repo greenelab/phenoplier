{
 "cells": [
  {
   "cell_type": "markdown",
   "id": "7a6632fb",
   "metadata": {
    "papermill": {
     "duration": 0.017315,
     "end_time": "2022-12-02T21:49:05.442132",
     "exception": false,
     "start_time": "2022-12-02T21:49:05.424817",
     "status": "completed"
    },
    "tags": []
   },
   "source": [
    "# Description"
   ]
  },
  {
   "cell_type": "markdown",
   "id": "7097c346",
   "metadata": {
    "papermill": {
     "duration": 0.016212,
     "end_time": "2022-12-02T21:49:05.474721",
     "exception": false,
     "start_time": "2022-12-02T21:49:05.458509",
     "status": "completed"
    },
    "tags": []
   },
   "source": [
    "This notebook compiles information about the GWAS and TWAS for a particular cohort. For example, the set of GWAS variants, variance of predicted expression of genes, etc.\n",
    "\n",
    "It has specicfic parameters for papermill (see under `Settings` below).\n",
    "\n",
    "This notebook should not be directly run. It is used by other notebooks."
   ]
  },
  {
   "cell_type": "markdown",
   "id": "c61d8427",
   "metadata": {
    "papermill": {
     "duration": 0.015668,
     "end_time": "2022-12-02T21:49:05.506918",
     "exception": false,
     "start_time": "2022-12-02T21:49:05.491250",
     "status": "completed"
    },
    "tags": []
   },
   "source": [
    "# Modules"
   ]
  },
  {
   "cell_type": "code",
   "execution_count": 1,
   "id": "bbc0234f",
   "metadata": {
    "execution": {
     "iopub.execute_input": "2022-12-02T21:49:05.525420Z",
     "iopub.status.busy": "2022-12-02T21:49:05.525194Z",
     "iopub.status.idle": "2022-12-02T21:49:05.542210Z",
     "shell.execute_reply": "2022-12-02T21:49:05.541574Z"
    },
    "papermill": {
     "duration": 0.026895,
     "end_time": "2022-12-02T21:49:05.543187",
     "exception": false,
     "start_time": "2022-12-02T21:49:05.516292",
     "status": "completed"
    },
    "tags": []
   },
   "outputs": [],
   "source": [
    "%load_ext autoreload\n",
    "%autoreload 2"
   ]
  },
  {
   "cell_type": "code",
   "execution_count": 2,
   "id": "1d5f5a59",
   "metadata": {
    "execution": {
     "iopub.execute_input": "2022-12-02T21:49:05.561051Z",
     "iopub.status.busy": "2022-12-02T21:49:05.560844Z",
     "iopub.status.idle": "2022-12-02T21:49:05.869055Z",
     "shell.execute_reply": "2022-12-02T21:49:05.868444Z"
    },
    "papermill": {
     "duration": 0.319062,
     "end_time": "2022-12-02T21:49:05.870648",
     "exception": false,
     "start_time": "2022-12-02T21:49:05.551586",
     "status": "completed"
    },
    "tags": []
   },
   "outputs": [],
   "source": [
    "from pathlib import Path\n",
    "import pickle\n",
    "\n",
    "import numpy as np\n",
    "import pandas as pd\n",
    "\n",
    "import conf\n",
    "from entity import Gene"
   ]
  },
  {
   "cell_type": "markdown",
   "id": "1eac24b5",
   "metadata": {
    "papermill": {
     "duration": 0.016055,
     "end_time": "2022-12-02T21:49:05.903400",
     "exception": false,
     "start_time": "2022-12-02T21:49:05.887345",
     "status": "completed"
    },
    "tags": []
   },
   "source": [
    "# Settings"
   ]
  },
  {
   "cell_type": "code",
   "execution_count": 3,
   "id": "ca4560ba",
   "metadata": {
    "execution": {
     "iopub.execute_input": "2022-12-02T21:49:05.936728Z",
     "iopub.status.busy": "2022-12-02T21:49:05.936565Z",
     "iopub.status.idle": "2022-12-02T21:49:05.947532Z",
     "shell.execute_reply": "2022-12-02T21:49:05.947043Z"
    },
    "papermill": {
     "duration": 0.02902,
     "end_time": "2022-12-02T21:49:05.948830",
     "exception": false,
     "start_time": "2022-12-02T21:49:05.919810",
     "status": "completed"
    },
    "tags": [
     "parameters"
    ]
   },
   "outputs": [],
   "source": [
    "# a cohort name (it could be something like UK_BIOBANK, etc)\n",
    "COHORT_NAME = None\n",
    "\n",
    "# reference panel such as 1000G or GTEX_V8\n",
    "REFERENCE_PANEL = \"GTEX_V8\"\n",
    "\n",
    "# predictions models such as MASHR or ELASTIC_NET\n",
    "EQTL_MODEL = \"MASHR\"\n",
    "\n",
    "# a string with a path pointing to an imputed GWAS\n",
    "GWAS_FILE = None\n",
    "\n",
    "# a string with a path pointing where S-PrediXcan results (tissue-specific are located\n",
    "SPREDIXCAN_FOLDER = None\n",
    "\n",
    "# an f-string with one placeholder {tissue}\n",
    "SPREDIXCAN_FILE_PATTERN = None\n",
    "\n",
    "# a string with a path pointing to an S-MultiXcan result\n",
    "SMULTIXCAN_FILE = None\n",
    "\n",
    "# output dir\n",
    "OUTPUT_DIR_BASE = None"
   ]
  },
  {
   "cell_type": "code",
   "execution_count": 4,
   "id": "36669784",
   "metadata": {
    "execution": {
     "iopub.execute_input": "2022-12-02T21:49:05.982412Z",
     "iopub.status.busy": "2022-12-02T21:49:05.982289Z",
     "iopub.status.idle": "2022-12-02T21:49:05.999798Z",
     "shell.execute_reply": "2022-12-02T21:49:05.999110Z"
    },
    "papermill": {
     "duration": 0.035231,
     "end_time": "2022-12-02T21:49:06.000830",
     "exception": false,
     "start_time": "2022-12-02T21:49:05.965599",
     "status": "completed"
    },
    "tags": [
     "injected-parameters"
    ]
   },
   "outputs": [],
   "source": [
    "# Parameters\n",
    "PHENOPLIER_NOTEBOOK_FILEPATH = \"projects/asthma-copd/nbs/20_gene_corrs/jobs/01-compile_gwas_snps_and_twas_genes.ipynb\"\n",
    "COHORT_NAME = \"copd_only\"\n",
    "GWAS_FILE = \"/opt/data/projects/asthma-copd/results/final_imputed_gwas/GWAS_COPD_only_GLM_SNPs_info0.7-harmonized-imputed.txt.gz\"\n",
    "SPREDIXCAN_FOLDER = \"/opt/data/projects/asthma-copd/results/twas/spredixcan\"\n",
    "SPREDIXCAN_FILE_PATTERN = \"GWAS_COPD_only_GLM_SNPs_info0.7-gtex_v8-mashr-{tissue}.csv\"\n",
    "SMULTIXCAN_FILE = \"/opt/data/projects/asthma-copd/results/twas/smultixcan/GWAS_COPD_only_GLM_SNPs_info0.7-gtex_v8-mashr-smultixcan.txt\"\n",
    "OUTPUT_DIR_BASE = \"/opt/data/projects/asthma-copd/results/gls_phenoplier\"\n"
   ]
  },
  {
   "cell_type": "code",
   "execution_count": 5,
   "id": "8fe24bef",
   "metadata": {
    "execution": {
     "iopub.execute_input": "2022-12-02T21:49:06.023820Z",
     "iopub.status.busy": "2022-12-02T21:49:06.023287Z",
     "iopub.status.idle": "2022-12-02T21:49:06.049402Z",
     "shell.execute_reply": "2022-12-02T21:49:06.048719Z"
    },
    "papermill": {
     "duration": 0.040704,
     "end_time": "2022-12-02T21:49:06.050493",
     "exception": false,
     "start_time": "2022-12-02T21:49:06.009789",
     "status": "completed"
    },
    "tags": []
   },
   "outputs": [
    {
     "data": {
      "text/plain": [
       "'Cohort name: copd_only'"
      ]
     },
     "metadata": {},
     "output_type": "display_data"
    }
   ],
   "source": [
    "assert COHORT_NAME is not None and len(COHORT_NAME) > 0, \"A cohort name must be given\"\n",
    "\n",
    "COHORT_NAME = COHORT_NAME.lower()\n",
    "display(f\"Cohort name: {COHORT_NAME}\")"
   ]
  },
  {
   "cell_type": "code",
   "execution_count": 6,
   "id": "f53ba19b-0f93-4fa2-a047-63b375939d1a",
   "metadata": {
    "execution": {
     "iopub.execute_input": "2022-12-02T21:49:06.072381Z",
     "iopub.status.busy": "2022-12-02T21:49:06.072138Z",
     "iopub.status.idle": "2022-12-02T21:49:06.084115Z",
     "shell.execute_reply": "2022-12-02T21:49:06.083611Z"
    },
    "papermill": {
     "duration": 0.023531,
     "end_time": "2022-12-02T21:49:06.084919",
     "exception": false,
     "start_time": "2022-12-02T21:49:06.061388",
     "status": "completed"
    },
    "tags": []
   },
   "outputs": [
    {
     "data": {
      "text/plain": [
       "'Reference panel: GTEX_V8'"
      ]
     },
     "metadata": {},
     "output_type": "display_data"
    }
   ],
   "source": [
    "assert (\n",
    "    REFERENCE_PANEL is not None and len(REFERENCE_PANEL) > 0\n",
    "), \"A reference panel must be given\"\n",
    "\n",
    "display(f\"Reference panel: {REFERENCE_PANEL}\")"
   ]
  },
  {
   "cell_type": "code",
   "execution_count": 7,
   "id": "7a970044-2d34-4e5b-a850-eff44079afe8",
   "metadata": {
    "execution": {
     "iopub.execute_input": "2022-12-02T21:49:06.106020Z",
     "iopub.status.busy": "2022-12-02T21:49:06.105384Z",
     "iopub.status.idle": "2022-12-02T21:49:06.126948Z",
     "shell.execute_reply": "2022-12-02T21:49:06.126274Z"
    },
    "papermill": {
     "duration": 0.0329,
     "end_time": "2022-12-02T21:49:06.128161",
     "exception": false,
     "start_time": "2022-12-02T21:49:06.095261",
     "status": "completed"
    },
    "tags": []
   },
   "outputs": [
    {
     "data": {
      "text/plain": [
       "'GWAS file path: /opt/data/projects/asthma-copd/results/final_imputed_gwas/GWAS_COPD_only_GLM_SNPs_info0.7-harmonized-imputed.txt.gz'"
      ]
     },
     "metadata": {},
     "output_type": "display_data"
    }
   ],
   "source": [
    "assert GWAS_FILE is not None and len(GWAS_FILE) > 0, \"A GWAS file path must be given\"\n",
    "GWAS_FILE = Path(GWAS_FILE).resolve()\n",
    "assert GWAS_FILE.exists(), \"GWAS file does not exist\"\n",
    "\n",
    "display(f\"GWAS file path: {str(GWAS_FILE)}\")"
   ]
  },
  {
   "cell_type": "code",
   "execution_count": 8,
   "id": "552a7f63-a18c-4d3e-bb6a-94f99b431291",
   "metadata": {
    "execution": {
     "iopub.execute_input": "2022-12-02T21:49:06.152151Z",
     "iopub.status.busy": "2022-12-02T21:49:06.151642Z",
     "iopub.status.idle": "2022-12-02T21:49:06.173450Z",
     "shell.execute_reply": "2022-12-02T21:49:06.172851Z"
    },
    "papermill": {
     "duration": 0.035731,
     "end_time": "2022-12-02T21:49:06.174620",
     "exception": false,
     "start_time": "2022-12-02T21:49:06.138889",
     "status": "completed"
    },
    "tags": []
   },
   "outputs": [
    {
     "data": {
      "text/plain": [
       "'S-PrediXcan folder path: /opt/data/projects/asthma-copd/results/twas/spredixcan'"
      ]
     },
     "metadata": {},
     "output_type": "display_data"
    }
   ],
   "source": [
    "assert (\n",
    "    SPREDIXCAN_FOLDER is not None and len(SPREDIXCAN_FOLDER) > 0\n",
    "), \"An S-PrediXcan folder path must be given\"\n",
    "SPREDIXCAN_FOLDER = Path(SPREDIXCAN_FOLDER).resolve()\n",
    "assert (\n",
    "    SPREDIXCAN_FOLDER.exists()\n",
    "), f\"S-PrediXcan folder does not exist: {str(SPREDIXCAN_FOLDER)}\"\n",
    "\n",
    "display(f\"S-PrediXcan folder path: {str(SPREDIXCAN_FOLDER)}\")"
   ]
  },
  {
   "cell_type": "code",
   "execution_count": 9,
   "id": "6e2000dc-f1dc-4db8-93d5-9a7209a2e121",
   "metadata": {
    "execution": {
     "iopub.execute_input": "2022-12-02T21:49:06.196420Z",
     "iopub.status.busy": "2022-12-02T21:49:06.195851Z",
     "iopub.status.idle": "2022-12-02T21:49:06.217545Z",
     "shell.execute_reply": "2022-12-02T21:49:06.216946Z"
    },
    "papermill": {
     "duration": 0.034738,
     "end_time": "2022-12-02T21:49:06.218644",
     "exception": false,
     "start_time": "2022-12-02T21:49:06.183906",
     "status": "completed"
    },
    "tags": []
   },
   "outputs": [
    {
     "data": {
      "text/plain": [
       "'S-PrediXcan file template: GWAS_COPD_only_GLM_SNPs_info0.7-gtex_v8-mashr-{tissue}.csv'"
      ]
     },
     "metadata": {},
     "output_type": "display_data"
    }
   ],
   "source": [
    "assert (\n",
    "    SPREDIXCAN_FILE_PATTERN is not None and len(SPREDIXCAN_FILE_PATTERN) > 0\n",
    "), \"An S-PrediXcan file pattern must be given\"\n",
    "assert (\n",
    "    \"{tissue}\" in SPREDIXCAN_FILE_PATTERN\n",
    "), \"S-PrediXcan file pattern must have a '{tissue}' placeholder\"\n",
    "\n",
    "display(f\"S-PrediXcan file template: {SPREDIXCAN_FILE_PATTERN}\")"
   ]
  },
  {
   "cell_type": "code",
   "execution_count": 10,
   "id": "f5a5aa9d-c6f3-4fb5-9351-37382b6e67bc",
   "metadata": {
    "execution": {
     "iopub.execute_input": "2022-12-02T21:49:06.242151Z",
     "iopub.status.busy": "2022-12-02T21:49:06.241541Z",
     "iopub.status.idle": "2022-12-02T21:49:06.260306Z",
     "shell.execute_reply": "2022-12-02T21:49:06.259736Z"
    },
    "papermill": {
     "duration": 0.031759,
     "end_time": "2022-12-02T21:49:06.261268",
     "exception": false,
     "start_time": "2022-12-02T21:49:06.229509",
     "status": "completed"
    },
    "tags": []
   },
   "outputs": [
    {
     "data": {
      "text/plain": [
       "'S-MultiXcan file path: /opt/data/projects/asthma-copd/results/twas/smultixcan/GWAS_COPD_only_GLM_SNPs_info0.7-gtex_v8-mashr-smultixcan.txt'"
      ]
     },
     "metadata": {},
     "output_type": "display_data"
    }
   ],
   "source": [
    "assert (\n",
    "    SMULTIXCAN_FILE is not None and len(SMULTIXCAN_FILE) > 0\n",
    "), \"An S-MultiXcan result file path must be given\"\n",
    "SMULTIXCAN_FILE = Path(SMULTIXCAN_FILE).resolve()\n",
    "assert (\n",
    "    SMULTIXCAN_FILE.exists()\n",
    "), f\"S-MultiXcan result file does not exist: {str(SMULTIXCAN_FILE)}\"\n",
    "\n",
    "display(f\"S-MultiXcan file path: {str(SMULTIXCAN_FILE)}\")"
   ]
  },
  {
   "cell_type": "code",
   "execution_count": 11,
   "id": "0723dc2f-34d1-407c-a55b-d6d13c55d63d",
   "metadata": {
    "execution": {
     "iopub.execute_input": "2022-12-02T21:49:06.280813Z",
     "iopub.status.busy": "2022-12-02T21:49:06.280304Z",
     "iopub.status.idle": "2022-12-02T21:49:06.296412Z",
     "shell.execute_reply": "2022-12-02T21:49:06.295865Z"
    },
    "papermill": {
     "duration": 0.026465,
     "end_time": "2022-12-02T21:49:06.297253",
     "exception": false,
     "start_time": "2022-12-02T21:49:06.270788",
     "status": "completed"
    },
    "tags": []
   },
   "outputs": [
    {
     "data": {
      "text/plain": [
       "'eQTL model: MASHR'"
      ]
     },
     "metadata": {},
     "output_type": "display_data"
    }
   ],
   "source": [
    "assert (\n",
    "    EQTL_MODEL is not None and len(EQTL_MODEL) > 0\n",
    "), \"A prediction/eQTL model must be given\"\n",
    "\n",
    "display(f\"eQTL model: {EQTL_MODEL}\")"
   ]
  },
  {
   "cell_type": "code",
   "execution_count": 12,
   "id": "46b9ec52-9c96-4062-b57a-783dfeea33c4",
   "metadata": {
    "execution": {
     "iopub.execute_input": "2022-12-02T21:49:06.316447Z",
     "iopub.status.busy": "2022-12-02T21:49:06.316043Z",
     "iopub.status.idle": "2022-12-02T21:49:06.333420Z",
     "shell.execute_reply": "2022-12-02T21:49:06.332862Z"
    },
    "papermill": {
     "duration": 0.027858,
     "end_time": "2022-12-02T21:49:06.334315",
     "exception": false,
     "start_time": "2022-12-02T21:49:06.306457",
     "status": "completed"
    },
    "tags": []
   },
   "outputs": [
    {
     "data": {
      "text/plain": [
       "'Using output dir base: /opt/data/projects/asthma-copd/results/gls_phenoplier/gene_corrs/copd_only'"
      ]
     },
     "metadata": {},
     "output_type": "display_data"
    }
   ],
   "source": [
    "assert (\n",
    "    OUTPUT_DIR_BASE is not None and len(OUTPUT_DIR_BASE) > 0\n",
    "), \"Output directory path must be given\"\n",
    "\n",
    "OUTPUT_DIR_BASE = (Path(OUTPUT_DIR_BASE) / \"gene_corrs\" / COHORT_NAME).resolve()\n",
    "\n",
    "OUTPUT_DIR_BASE.mkdir(parents=True, exist_ok=True)\n",
    "\n",
    "display(f\"Using output dir base: {OUTPUT_DIR_BASE}\")"
   ]
  },
  {
   "cell_type": "markdown",
   "id": "b6ebb422-8204-494b-8c72-360a71ce9863",
   "metadata": {
    "papermill": {
     "duration": 0.009054,
     "end_time": "2022-12-02T21:49:06.352487",
     "exception": false,
     "start_time": "2022-12-02T21:49:06.343433",
     "status": "completed"
    },
    "tags": []
   },
   "source": [
    "# Load MultiPLIER Z genes"
   ]
  },
  {
   "cell_type": "code",
   "execution_count": 13,
   "id": "c48ef527",
   "metadata": {
    "execution": {
     "iopub.execute_input": "2022-12-02T21:49:06.371584Z",
     "iopub.status.busy": "2022-12-02T21:49:06.371279Z",
     "iopub.status.idle": "2022-12-02T21:49:06.420685Z",
     "shell.execute_reply": "2022-12-02T21:49:06.420027Z"
    },
    "papermill": {
     "duration": 0.060147,
     "end_time": "2022-12-02T21:49:06.421720",
     "exception": false,
     "start_time": "2022-12-02T21:49:06.361573",
     "status": "completed"
    },
    "tags": []
   },
   "outputs": [],
   "source": [
    "multiplier_z_genes = pd.read_pickle(\n",
    "    conf.MULTIPLIER[\"MODEL_Z_MATRIX_FILE\"]\n",
    ").index.tolist()"
   ]
  },
  {
   "cell_type": "code",
   "execution_count": 14,
   "id": "0a4ecbd9",
   "metadata": {
    "execution": {
     "iopub.execute_input": "2022-12-02T21:49:06.440857Z",
     "iopub.status.busy": "2022-12-02T21:49:06.440525Z",
     "iopub.status.idle": "2022-12-02T21:49:06.457759Z",
     "shell.execute_reply": "2022-12-02T21:49:06.457205Z"
    },
    "papermill": {
     "duration": 0.02776,
     "end_time": "2022-12-02T21:49:06.458660",
     "exception": false,
     "start_time": "2022-12-02T21:49:06.430900",
     "status": "completed"
    },
    "tags": []
   },
   "outputs": [
    {
     "data": {
      "text/plain": [
       "6750"
      ]
     },
     "execution_count": 14,
     "metadata": {},
     "output_type": "execute_result"
    }
   ],
   "source": [
    "len(multiplier_z_genes)"
   ]
  },
  {
   "cell_type": "code",
   "execution_count": 15,
   "id": "a18ce359-0759-4260-ae6f-053e8c0041b7",
   "metadata": {
    "execution": {
     "iopub.execute_input": "2022-12-02T21:49:06.478059Z",
     "iopub.status.busy": "2022-12-02T21:49:06.477746Z",
     "iopub.status.idle": "2022-12-02T21:49:06.493244Z",
     "shell.execute_reply": "2022-12-02T21:49:06.492674Z"
    },
    "papermill": {
     "duration": 0.026094,
     "end_time": "2022-12-02T21:49:06.494135",
     "exception": false,
     "start_time": "2022-12-02T21:49:06.468041",
     "status": "completed"
    },
    "tags": []
   },
   "outputs": [],
   "source": [
    "assert len(multiplier_z_genes) == len(set(multiplier_z_genes))"
   ]
  },
  {
   "cell_type": "code",
   "execution_count": 16,
   "id": "115e8864",
   "metadata": {
    "execution": {
     "iopub.execute_input": "2022-12-02T21:49:06.513473Z",
     "iopub.status.busy": "2022-12-02T21:49:06.513160Z",
     "iopub.status.idle": "2022-12-02T21:49:06.529116Z",
     "shell.execute_reply": "2022-12-02T21:49:06.528555Z"
    },
    "papermill": {
     "duration": 0.026481,
     "end_time": "2022-12-02T21:49:06.530012",
     "exception": false,
     "start_time": "2022-12-02T21:49:06.503531",
     "status": "completed"
    },
    "tags": []
   },
   "outputs": [
    {
     "data": {
      "text/plain": [
       "['GAS6', 'MMP14', 'DSP', 'MARCKSL1', 'SPARC']"
      ]
     },
     "execution_count": 16,
     "metadata": {},
     "output_type": "execute_result"
    }
   ],
   "source": [
    "multiplier_z_genes[:5]"
   ]
  },
  {
   "cell_type": "markdown",
   "id": "7bed0ce0-e7c7-4300-9a61-5412450b1904",
   "metadata": {
    "papermill": {
     "duration": 0.009273,
     "end_time": "2022-12-02T21:49:06.548602",
     "exception": false,
     "start_time": "2022-12-02T21:49:06.539329",
     "status": "completed"
    },
    "tags": []
   },
   "source": [
    "# GWAS"
   ]
  },
  {
   "cell_type": "code",
   "execution_count": 17,
   "id": "331e5691-c014-43e4-b94c-060c64d329df",
   "metadata": {
    "execution": {
     "iopub.execute_input": "2022-12-02T21:49:06.568153Z",
     "iopub.status.busy": "2022-12-02T21:49:06.567853Z",
     "iopub.status.idle": "2022-12-02T21:49:06.589030Z",
     "shell.execute_reply": "2022-12-02T21:49:06.588412Z"
    },
    "papermill": {
     "duration": 0.032135,
     "end_time": "2022-12-02T21:49:06.590022",
     "exception": false,
     "start_time": "2022-12-02T21:49:06.557887",
     "status": "completed"
    },
    "tags": []
   },
   "outputs": [],
   "source": [
    "gwas_file_columns = pd.read_csv(GWAS_FILE, sep=\"\\t\", nrows=2).columns\n",
    "\n",
    "assert (\n",
    "    \"panel_variant_id\" in gwas_file_columns\n",
    "), \"The GWAS file must be the final imputed one using the TWAS imputation tools with column 'panel_variant_id'\"\n",
    "\n",
    "assert (\n",
    "    \"pvalue\" in gwas_file_columns\n",
    "), \"The GWAS file must be the final imputed one using the TWAS imputation tools with column 'pvalue'\"\n",
    "\n",
    "assert (\n",
    "    \"zscore\" in gwas_file_columns\n",
    "), \"The GWAS file must be the final imputed one using the TWAS imputation tools with column 'zscore'\""
   ]
  },
  {
   "cell_type": "code",
   "execution_count": 18,
   "id": "8d419629-8f4d-4c83-bed3-cfc071a58090",
   "metadata": {
    "execution": {
     "iopub.execute_input": "2022-12-02T21:49:06.609625Z",
     "iopub.status.busy": "2022-12-02T21:49:06.609311Z",
     "iopub.status.idle": "2022-12-02T21:49:16.181815Z",
     "shell.execute_reply": "2022-12-02T21:49:16.181352Z"
    },
    "papermill": {
     "duration": 9.584114,
     "end_time": "2022-12-02T21:49:16.183616",
     "exception": false,
     "start_time": "2022-12-02T21:49:06.599502",
     "status": "completed"
    },
    "tags": []
   },
   "outputs": [],
   "source": [
    "gwas_data = pd.read_csv(\n",
    "    GWAS_FILE,\n",
    "    sep=\"\\t\",\n",
    "    usecols=[\"panel_variant_id\", \"pvalue\", \"zscore\"],\n",
    ")"
   ]
  },
  {
   "cell_type": "code",
   "execution_count": 19,
   "id": "3f4e814e-6b41-407e-9099-86795eec6ed9",
   "metadata": {
    "execution": {
     "iopub.execute_input": "2022-12-02T21:49:16.221660Z",
     "iopub.status.busy": "2022-12-02T21:49:16.221397Z",
     "iopub.status.idle": "2022-12-02T21:49:16.232346Z",
     "shell.execute_reply": "2022-12-02T21:49:16.231916Z"
    },
    "papermill": {
     "duration": 0.030774,
     "end_time": "2022-12-02T21:49:16.233779",
     "exception": false,
     "start_time": "2022-12-02T21:49:16.203005",
     "status": "completed"
    },
    "tags": []
   },
   "outputs": [
    {
     "data": {
      "text/plain": [
       "(8590917, 3)"
      ]
     },
     "execution_count": 19,
     "metadata": {},
     "output_type": "execute_result"
    }
   ],
   "source": [
    "gwas_data.shape"
   ]
  },
  {
   "cell_type": "code",
   "execution_count": 20,
   "id": "b4a906e9-c80a-47fc-9d73-5adb046f8b76",
   "metadata": {
    "execution": {
     "iopub.execute_input": "2022-12-02T21:49:16.270995Z",
     "iopub.status.busy": "2022-12-02T21:49:16.270560Z",
     "iopub.status.idle": "2022-12-02T21:49:16.295262Z",
     "shell.execute_reply": "2022-12-02T21:49:16.294663Z"
    },
    "papermill": {
     "duration": 0.044596,
     "end_time": "2022-12-02T21:49:16.296643",
     "exception": false,
     "start_time": "2022-12-02T21:49:16.252047",
     "status": "completed"
    },
    "tags": []
   },
   "outputs": [
    {
     "data": {
      "text/html": [
       "<div>\n",
       "<style scoped>\n",
       "    .dataframe tbody tr th:only-of-type {\n",
       "        vertical-align: middle;\n",
       "    }\n",
       "\n",
       "    .dataframe tbody tr th {\n",
       "        vertical-align: top;\n",
       "    }\n",
       "\n",
       "    .dataframe thead th {\n",
       "        text-align: right;\n",
       "    }\n",
       "</style>\n",
       "<table border=\"1\" class=\"dataframe\">\n",
       "  <thead>\n",
       "    <tr style=\"text-align: right;\">\n",
       "      <th></th>\n",
       "      <th>panel_variant_id</th>\n",
       "      <th>zscore</th>\n",
       "      <th>pvalue</th>\n",
       "    </tr>\n",
       "  </thead>\n",
       "  <tbody>\n",
       "    <tr>\n",
       "      <th>0</th>\n",
       "      <td>chr1_54490_G_A_b38</td>\n",
       "      <td>0.399701</td>\n",
       "      <td>0.689377</td>\n",
       "    </tr>\n",
       "    <tr>\n",
       "      <th>1</th>\n",
       "      <td>chr1_87021_T_C_b38</td>\n",
       "      <td>1.185593</td>\n",
       "      <td>0.235783</td>\n",
       "    </tr>\n",
       "    <tr>\n",
       "      <th>2</th>\n",
       "      <td>chr1_263722_C_G_b38</td>\n",
       "      <td>0.288888</td>\n",
       "      <td>0.772667</td>\n",
       "    </tr>\n",
       "    <tr>\n",
       "      <th>3</th>\n",
       "      <td>chr1_594402_C_T_b38</td>\n",
       "      <td>0.346451</td>\n",
       "      <td>0.729003</td>\n",
       "    </tr>\n",
       "    <tr>\n",
       "      <th>4</th>\n",
       "      <td>chr1_630555_C_T_b38</td>\n",
       "      <td>0.091724</td>\n",
       "      <td>0.926917</td>\n",
       "    </tr>\n",
       "  </tbody>\n",
       "</table>\n",
       "</div>"
      ],
      "text/plain": [
       "      panel_variant_id    zscore    pvalue\n",
       "0   chr1_54490_G_A_b38  0.399701  0.689377\n",
       "1   chr1_87021_T_C_b38  1.185593  0.235783\n",
       "2  chr1_263722_C_G_b38  0.288888  0.772667\n",
       "3  chr1_594402_C_T_b38  0.346451  0.729003\n",
       "4  chr1_630555_C_T_b38  0.091724  0.926917"
      ]
     },
     "execution_count": 20,
     "metadata": {},
     "output_type": "execute_result"
    }
   ],
   "source": [
    "gwas_data.head()"
   ]
  },
  {
   "cell_type": "code",
   "execution_count": 21,
   "id": "033c24fb-9c60-4ffd-929e-b0e6089820ae",
   "metadata": {
    "execution": {
     "iopub.execute_input": "2022-12-02T21:49:16.334665Z",
     "iopub.status.busy": "2022-12-02T21:49:16.334230Z",
     "iopub.status.idle": "2022-12-02T21:49:17.306845Z",
     "shell.execute_reply": "2022-12-02T21:49:17.306353Z"
    },
    "papermill": {
     "duration": 0.993115,
     "end_time": "2022-12-02T21:49:17.308289",
     "exception": false,
     "start_time": "2022-12-02T21:49:16.315174",
     "status": "completed"
    },
    "tags": []
   },
   "outputs": [
    {
     "data": {
      "text/plain": [
       "(8586183, 3)"
      ]
     },
     "execution_count": 21,
     "metadata": {},
     "output_type": "execute_result"
    }
   ],
   "source": [
    "gwas_data.dropna().shape"
   ]
  },
  {
   "cell_type": "code",
   "execution_count": 22,
   "id": "28232ce5-0afd-464e-9be3-64c3a68c2b25",
   "metadata": {
    "execution": {
     "iopub.execute_input": "2022-12-02T21:49:17.346430Z",
     "iopub.status.busy": "2022-12-02T21:49:17.346312Z",
     "iopub.status.idle": "2022-12-02T21:49:18.179462Z",
     "shell.execute_reply": "2022-12-02T21:49:18.178894Z"
    },
    "papermill": {
     "duration": 0.854283,
     "end_time": "2022-12-02T21:49:18.181512",
     "exception": false,
     "start_time": "2022-12-02T21:49:17.327229",
     "status": "completed"
    },
    "tags": []
   },
   "outputs": [],
   "source": [
    "# remove SNPs with no results\n",
    "gwas_data = gwas_data.dropna()"
   ]
  },
  {
   "cell_type": "code",
   "execution_count": 23,
   "id": "d9a6c31f-eedd-43e5-b762-5a9663be1b77",
   "metadata": {
    "execution": {
     "iopub.execute_input": "2022-12-02T21:49:18.219503Z",
     "iopub.status.busy": "2022-12-02T21:49:18.219368Z",
     "iopub.status.idle": "2022-12-02T21:49:18.230997Z",
     "shell.execute_reply": "2022-12-02T21:49:18.230500Z"
    },
    "papermill": {
     "duration": 0.032079,
     "end_time": "2022-12-02T21:49:18.232464",
     "exception": false,
     "start_time": "2022-12-02T21:49:18.200385",
     "status": "completed"
    },
    "tags": []
   },
   "outputs": [
    {
     "data": {
      "text/plain": [
       "(8586183, 3)"
      ]
     },
     "execution_count": 23,
     "metadata": {},
     "output_type": "execute_result"
    }
   ],
   "source": [
    "gwas_data.shape"
   ]
  },
  {
   "cell_type": "markdown",
   "id": "8da344de-2aa5-48a9-98ec-e8c3397ae7e6",
   "metadata": {
    "papermill": {
     "duration": 0.018303,
     "end_time": "2022-12-02T21:49:18.269852",
     "exception": false,
     "start_time": "2022-12-02T21:49:18.251549",
     "status": "completed"
    },
    "tags": []
   },
   "source": [
    "## Save GWAS variants"
   ]
  },
  {
   "cell_type": "code",
   "execution_count": 24,
   "id": "ac11fb33-ea3c-4d5c-a90b-0ceebdac43d3",
   "metadata": {
    "execution": {
     "iopub.execute_input": "2022-12-02T21:49:18.297271Z",
     "iopub.status.busy": "2022-12-02T21:49:18.297064Z",
     "iopub.status.idle": "2022-12-02T21:49:18.317545Z",
     "shell.execute_reply": "2022-12-02T21:49:18.317023Z"
    },
    "papermill": {
     "duration": 0.031746,
     "end_time": "2022-12-02T21:49:18.318485",
     "exception": false,
     "start_time": "2022-12-02T21:49:18.286739",
     "status": "completed"
    },
    "tags": []
   },
   "outputs": [
    {
     "data": {
      "text/html": [
       "<div>\n",
       "<style scoped>\n",
       "    .dataframe tbody tr th:only-of-type {\n",
       "        vertical-align: middle;\n",
       "    }\n",
       "\n",
       "    .dataframe tbody tr th {\n",
       "        vertical-align: top;\n",
       "    }\n",
       "\n",
       "    .dataframe thead th {\n",
       "        text-align: right;\n",
       "    }\n",
       "</style>\n",
       "<table border=\"1\" class=\"dataframe\">\n",
       "  <thead>\n",
       "    <tr style=\"text-align: right;\">\n",
       "      <th></th>\n",
       "      <th>panel_variant_id</th>\n",
       "      <th>zscore</th>\n",
       "      <th>pvalue</th>\n",
       "    </tr>\n",
       "  </thead>\n",
       "  <tbody>\n",
       "    <tr>\n",
       "      <th>0</th>\n",
       "      <td>chr1_54490_G_A_b38</td>\n",
       "      <td>0.399701</td>\n",
       "      <td>0.689377</td>\n",
       "    </tr>\n",
       "    <tr>\n",
       "      <th>1</th>\n",
       "      <td>chr1_87021_T_C_b38</td>\n",
       "      <td>1.185593</td>\n",
       "      <td>0.235783</td>\n",
       "    </tr>\n",
       "    <tr>\n",
       "      <th>2</th>\n",
       "      <td>chr1_263722_C_G_b38</td>\n",
       "      <td>0.288888</td>\n",
       "      <td>0.772667</td>\n",
       "    </tr>\n",
       "    <tr>\n",
       "      <th>3</th>\n",
       "      <td>chr1_594402_C_T_b38</td>\n",
       "      <td>0.346451</td>\n",
       "      <td>0.729003</td>\n",
       "    </tr>\n",
       "    <tr>\n",
       "      <th>4</th>\n",
       "      <td>chr1_630555_C_T_b38</td>\n",
       "      <td>0.091724</td>\n",
       "      <td>0.926917</td>\n",
       "    </tr>\n",
       "  </tbody>\n",
       "</table>\n",
       "</div>"
      ],
      "text/plain": [
       "      panel_variant_id    zscore    pvalue\n",
       "0   chr1_54490_G_A_b38  0.399701  0.689377\n",
       "1   chr1_87021_T_C_b38  1.185593  0.235783\n",
       "2  chr1_263722_C_G_b38  0.288888  0.772667\n",
       "3  chr1_594402_C_T_b38  0.346451  0.729003\n",
       "4  chr1_630555_C_T_b38  0.091724  0.926917"
      ]
     },
     "execution_count": 24,
     "metadata": {},
     "output_type": "execute_result"
    }
   ],
   "source": [
    "gwas_data.head()"
   ]
  },
  {
   "cell_type": "code",
   "execution_count": 25,
   "id": "5f34bb3d-761a-4860-a179-77ea5f5784ad",
   "metadata": {
    "execution": {
     "iopub.execute_input": "2022-12-02T21:49:18.339364Z",
     "iopub.status.busy": "2022-12-02T21:49:18.339157Z",
     "iopub.status.idle": "2022-12-02T21:49:22.194632Z",
     "shell.execute_reply": "2022-12-02T21:49:22.193953Z"
    },
    "papermill": {
     "duration": 3.86737,
     "end_time": "2022-12-02T21:49:22.196147",
     "exception": false,
     "start_time": "2022-12-02T21:49:18.328777",
     "status": "completed"
    },
    "tags": []
   },
   "outputs": [
    {
     "data": {
      "text/plain": [
       "True"
      ]
     },
     "execution_count": 25,
     "metadata": {},
     "output_type": "execute_result"
    }
   ],
   "source": [
    "# in eMERGE's results, some values here are repeated (will be removed later by taking the unique set of variant IDs).\n",
    "gwas_data[\"panel_variant_id\"].is_unique"
   ]
  },
  {
   "cell_type": "code",
   "execution_count": 26,
   "id": "d4f23b2f-01a3-4a45-a2b6-31b245b5778e",
   "metadata": {
    "execution": {
     "iopub.execute_input": "2022-12-02T21:49:22.235123Z",
     "iopub.status.busy": "2022-12-02T21:49:22.234988Z",
     "iopub.status.idle": "2022-12-02T21:49:24.219646Z",
     "shell.execute_reply": "2022-12-02T21:49:24.218968Z"
    },
    "papermill": {
     "duration": 2.005511,
     "end_time": "2022-12-02T21:49:24.221106",
     "exception": false,
     "start_time": "2022-12-02T21:49:22.215595",
     "status": "completed"
    },
    "tags": []
   },
   "outputs": [
    {
     "data": {
      "text/plain": [
       "['chr14_61556200_AAGG_A_b38',\n",
       " 'chr4_81835373_G_A_b38',\n",
       " 'chr6_103813531_A_T_b38',\n",
       " 'chr16_26638863_T_A_b38',\n",
       " 'chr17_81363447_C_T_b38']"
      ]
     },
     "execution_count": 26,
     "metadata": {},
     "output_type": "execute_result"
    }
   ],
   "source": [
    "gwas_variants_ids_set = frozenset(gwas_data[\"panel_variant_id\"])\n",
    "list(gwas_variants_ids_set)[:5]"
   ]
  },
  {
   "cell_type": "code",
   "execution_count": 27,
   "id": "b4a441df-07d7-48dc-be36-cdb3f92be651",
   "metadata": {
    "execution": {
     "iopub.execute_input": "2022-12-02T21:49:24.259919Z",
     "iopub.status.busy": "2022-12-02T21:49:24.259807Z",
     "iopub.status.idle": "2022-12-02T21:49:41.129898Z",
     "shell.execute_reply": "2022-12-02T21:49:41.129265Z"
    },
    "papermill": {
     "duration": 16.891447,
     "end_time": "2022-12-02T21:49:41.131666",
     "exception": false,
     "start_time": "2022-12-02T21:49:24.240219",
     "status": "completed"
    },
    "tags": []
   },
   "outputs": [],
   "source": [
    "with open(OUTPUT_DIR_BASE / \"gwas_variant_ids.pkl\", \"wb\") as handle:\n",
    "    pickle.dump(gwas_variants_ids_set, handle, protocol=pickle.HIGHEST_PROTOCOL)"
   ]
  },
  {
   "cell_type": "markdown",
   "id": "abcc4b3d",
   "metadata": {
    "papermill": {
     "duration": 0.019056,
     "end_time": "2022-12-02T21:49:41.170242",
     "exception": false,
     "start_time": "2022-12-02T21:49:41.151186",
     "status": "completed"
    },
    "tags": []
   },
   "source": [
    "# TWAS"
   ]
  },
  {
   "cell_type": "markdown",
   "id": "2fbc7358-0563-4fc6-bc47-a0fbcc5cdfd4",
   "metadata": {
    "papermill": {
     "duration": 0.018757,
     "end_time": "2022-12-02T21:49:41.208303",
     "exception": false,
     "start_time": "2022-12-02T21:49:41.189546",
     "status": "completed"
    },
    "tags": []
   },
   "source": [
    "## Available tissues for eQTL model"
   ]
  },
  {
   "cell_type": "code",
   "execution_count": 28,
   "id": "f32c0a84-030a-436b-b597-852b6150d2ac",
   "metadata": {
    "execution": {
     "iopub.execute_input": "2022-12-02T21:49:41.231406Z",
     "iopub.status.busy": "2022-12-02T21:49:41.230943Z",
     "iopub.status.idle": "2022-12-02T21:49:41.245455Z",
     "shell.execute_reply": "2022-12-02T21:49:41.244910Z"
    },
    "papermill": {
     "duration": 0.026043,
     "end_time": "2022-12-02T21:49:41.246312",
     "exception": false,
     "start_time": "2022-12-02T21:49:41.220269",
     "status": "completed"
    },
    "tags": []
   },
   "outputs": [],
   "source": [
    "prediction_model_tissues = conf.PHENOMEXCAN[\"PREDICTION_MODELS\"][\n",
    "    f\"{EQTL_MODEL}_TISSUES\"\n",
    "].split(\" \")"
   ]
  },
  {
   "cell_type": "code",
   "execution_count": 29,
   "id": "0e760d0e-f23d-4590-abfb-811a43f7c237",
   "metadata": {
    "execution": {
     "iopub.execute_input": "2022-12-02T21:49:41.290836Z",
     "iopub.status.busy": "2022-12-02T21:49:41.290638Z",
     "iopub.status.idle": "2022-12-02T21:49:41.302867Z",
     "shell.execute_reply": "2022-12-02T21:49:41.302410Z"
    },
    "papermill": {
     "duration": 0.044586,
     "end_time": "2022-12-02T21:49:41.303699",
     "exception": false,
     "start_time": "2022-12-02T21:49:41.259113",
     "status": "completed"
    },
    "tags": []
   },
   "outputs": [
    {
     "data": {
      "text/plain": [
       "49"
      ]
     },
     "execution_count": 29,
     "metadata": {},
     "output_type": "execute_result"
    }
   ],
   "source": [
    "len(prediction_model_tissues)"
   ]
  },
  {
   "cell_type": "code",
   "execution_count": 30,
   "id": "fa4d942c-cd67-4b31-9491-585c887c0ee3",
   "metadata": {
    "execution": {
     "iopub.execute_input": "2022-12-02T21:49:41.325407Z",
     "iopub.status.busy": "2022-12-02T21:49:41.325261Z",
     "iopub.status.idle": "2022-12-02T21:49:41.335617Z",
     "shell.execute_reply": "2022-12-02T21:49:41.335346Z"
    },
    "papermill": {
     "duration": 0.022053,
     "end_time": "2022-12-02T21:49:41.336384",
     "exception": false,
     "start_time": "2022-12-02T21:49:41.314331",
     "status": "completed"
    },
    "tags": []
   },
   "outputs": [
    {
     "data": {
      "text/plain": [
       "['Thyroid',\n",
       " 'Artery_Aorta',\n",
       " 'Heart_Atrial_Appendage',\n",
       " 'Liver',\n",
       " 'Heart_Left_Ventricle']"
      ]
     },
     "execution_count": 30,
     "metadata": {},
     "output_type": "execute_result"
    }
   ],
   "source": [
    "prediction_model_tissues[:5]"
   ]
  },
  {
   "cell_type": "markdown",
   "id": "fab4814d-757c-4247-b5e4-891bc4863db7",
   "metadata": {
    "papermill": {
     "duration": 0.010357,
     "end_time": "2022-12-02T21:49:41.357169",
     "exception": false,
     "start_time": "2022-12-02T21:49:41.346812",
     "status": "completed"
    },
    "tags": []
   },
   "source": [
    "## S-MultiXcan results"
   ]
  },
  {
   "cell_type": "code",
   "execution_count": 31,
   "id": "2b73c11e-9aa2-410e-84b4-a70be34d02e4",
   "metadata": {
    "execution": {
     "iopub.execute_input": "2022-12-02T21:49:41.378957Z",
     "iopub.status.busy": "2022-12-02T21:49:41.378404Z",
     "iopub.status.idle": "2022-12-02T21:49:41.444993Z",
     "shell.execute_reply": "2022-12-02T21:49:41.444529Z"
    },
    "papermill": {
     "duration": 0.079182,
     "end_time": "2022-12-02T21:49:41.446572",
     "exception": false,
     "start_time": "2022-12-02T21:49:41.367390",
     "status": "completed"
    },
    "tags": []
   },
   "outputs": [],
   "source": [
    "smultixcan_results = pd.read_csv(\n",
    "    SMULTIXCAN_FILE, sep=\"\\t\", usecols=[\"gene\", \"gene_name\", \"pvalue\", \"n\", \"n_indep\"]\n",
    ")"
   ]
  },
  {
   "cell_type": "code",
   "execution_count": 32,
   "id": "8b5abebd-baab-4188-9e3d-655ebbe32401",
   "metadata": {
    "execution": {
     "iopub.execute_input": "2022-12-02T21:49:41.470850Z",
     "iopub.status.busy": "2022-12-02T21:49:41.470719Z",
     "iopub.status.idle": "2022-12-02T21:49:41.482437Z",
     "shell.execute_reply": "2022-12-02T21:49:41.482061Z"
    },
    "papermill": {
     "duration": 0.023246,
     "end_time": "2022-12-02T21:49:41.483279",
     "exception": false,
     "start_time": "2022-12-02T21:49:41.460033",
     "status": "completed"
    },
    "tags": []
   },
   "outputs": [
    {
     "data": {
      "text/plain": [
       "(22329, 5)"
      ]
     },
     "execution_count": 32,
     "metadata": {},
     "output_type": "execute_result"
    }
   ],
   "source": [
    "smultixcan_results.shape"
   ]
  },
  {
   "cell_type": "code",
   "execution_count": 33,
   "id": "c65e233f-9ef6-4883-9386-7abf1d6d1cbd",
   "metadata": {
    "execution": {
     "iopub.execute_input": "2022-12-02T21:49:41.504602Z",
     "iopub.status.busy": "2022-12-02T21:49:41.504432Z",
     "iopub.status.idle": "2022-12-02T21:49:41.518980Z",
     "shell.execute_reply": "2022-12-02T21:49:41.518562Z"
    },
    "papermill": {
     "duration": 0.026284,
     "end_time": "2022-12-02T21:49:41.520022",
     "exception": false,
     "start_time": "2022-12-02T21:49:41.493738",
     "status": "completed"
    },
    "tags": []
   },
   "outputs": [],
   "source": [
    "smultixcan_results = smultixcan_results.dropna()"
   ]
  },
  {
   "cell_type": "code",
   "execution_count": 34,
   "id": "57d2d311-4a42-4725-9e37-b124ed13ad33",
   "metadata": {
    "execution": {
     "iopub.execute_input": "2022-12-02T21:49:41.541614Z",
     "iopub.status.busy": "2022-12-02T21:49:41.541433Z",
     "iopub.status.idle": "2022-12-02T21:49:41.552400Z",
     "shell.execute_reply": "2022-12-02T21:49:41.552023Z"
    },
    "papermill": {
     "duration": 0.022474,
     "end_time": "2022-12-02T21:49:41.553231",
     "exception": false,
     "start_time": "2022-12-02T21:49:41.530757",
     "status": "completed"
    },
    "tags": []
   },
   "outputs": [
    {
     "data": {
      "text/plain": [
       "(22326, 5)"
      ]
     },
     "execution_count": 34,
     "metadata": {},
     "output_type": "execute_result"
    }
   ],
   "source": [
    "smultixcan_results.shape"
   ]
  },
  {
   "cell_type": "code",
   "execution_count": 35,
   "id": "a36b5b59-f4b6-45bf-b241-ffc9671b357f",
   "metadata": {
    "execution": {
     "iopub.execute_input": "2022-12-02T21:49:41.574871Z",
     "iopub.status.busy": "2022-12-02T21:49:41.574703Z",
     "iopub.status.idle": "2022-12-02T21:49:41.589734Z",
     "shell.execute_reply": "2022-12-02T21:49:41.589286Z"
    },
    "papermill": {
     "duration": 0.026836,
     "end_time": "2022-12-02T21:49:41.590763",
     "exception": false,
     "start_time": "2022-12-02T21:49:41.563927",
     "status": "completed"
    },
    "tags": []
   },
   "outputs": [],
   "source": [
    "smultixcan_results = smultixcan_results.assign(\n",
    "    gene_id=smultixcan_results[\"gene\"].apply(lambda g: g.split(\".\")[0])\n",
    ")"
   ]
  },
  {
   "cell_type": "code",
   "execution_count": 36,
   "id": "c49f62a9-a01a-44af-87da-47d195b0ef7e",
   "metadata": {
    "execution": {
     "iopub.execute_input": "2022-12-02T21:49:41.612393Z",
     "iopub.status.busy": "2022-12-02T21:49:41.612220Z",
     "iopub.status.idle": "2022-12-02T21:49:41.627326Z",
     "shell.execute_reply": "2022-12-02T21:49:41.626950Z"
    },
    "papermill": {
     "duration": 0.027214,
     "end_time": "2022-12-02T21:49:41.628676",
     "exception": false,
     "start_time": "2022-12-02T21:49:41.601462",
     "status": "completed"
    },
    "tags": []
   },
   "outputs": [
    {
     "data": {
      "text/html": [
       "<div>\n",
       "<style scoped>\n",
       "    .dataframe tbody tr th:only-of-type {\n",
       "        vertical-align: middle;\n",
       "    }\n",
       "\n",
       "    .dataframe tbody tr th {\n",
       "        vertical-align: top;\n",
       "    }\n",
       "\n",
       "    .dataframe thead th {\n",
       "        text-align: right;\n",
       "    }\n",
       "</style>\n",
       "<table border=\"1\" class=\"dataframe\">\n",
       "  <thead>\n",
       "    <tr style=\"text-align: right;\">\n",
       "      <th></th>\n",
       "      <th>gene</th>\n",
       "      <th>gene_name</th>\n",
       "      <th>pvalue</th>\n",
       "      <th>n</th>\n",
       "      <th>n_indep</th>\n",
       "      <th>gene_id</th>\n",
       "    </tr>\n",
       "  </thead>\n",
       "  <tbody>\n",
       "    <tr>\n",
       "      <th>0</th>\n",
       "      <td>ENSG00000041357.15</td>\n",
       "      <td>PSMA4</td>\n",
       "      <td>1.536671e-22</td>\n",
       "      <td>49.0</td>\n",
       "      <td>4.0</td>\n",
       "      <td>ENSG00000041357</td>\n",
       "    </tr>\n",
       "    <tr>\n",
       "      <th>1</th>\n",
       "      <td>ENSG00000168743.12</td>\n",
       "      <td>NPNT</td>\n",
       "      <td>1.710790e-22</td>\n",
       "      <td>49.0</td>\n",
       "      <td>5.0</td>\n",
       "      <td>ENSG00000168743</td>\n",
       "    </tr>\n",
       "    <tr>\n",
       "      <th>2</th>\n",
       "      <td>ENSG00000080644.15</td>\n",
       "      <td>CHRNA3</td>\n",
       "      <td>2.757816e-21</td>\n",
       "      <td>19.0</td>\n",
       "      <td>4.0</td>\n",
       "      <td>ENSG00000080644</td>\n",
       "    </tr>\n",
       "    <tr>\n",
       "      <th>3</th>\n",
       "      <td>ENSG00000169684.13</td>\n",
       "      <td>CHRNA5</td>\n",
       "      <td>1.915449e-20</td>\n",
       "      <td>46.0</td>\n",
       "      <td>3.0</td>\n",
       "      <td>ENSG00000169684</td>\n",
       "    </tr>\n",
       "    <tr>\n",
       "      <th>4</th>\n",
       "      <td>ENSG00000188266.13</td>\n",
       "      <td>HYKK</td>\n",
       "      <td>7.494625e-20</td>\n",
       "      <td>34.0</td>\n",
       "      <td>5.0</td>\n",
       "      <td>ENSG00000188266</td>\n",
       "    </tr>\n",
       "  </tbody>\n",
       "</table>\n",
       "</div>"
      ],
      "text/plain": [
       "                 gene gene_name        pvalue     n  n_indep          gene_id\n",
       "0  ENSG00000041357.15     PSMA4  1.536671e-22  49.0      4.0  ENSG00000041357\n",
       "1  ENSG00000168743.12      NPNT  1.710790e-22  49.0      5.0  ENSG00000168743\n",
       "2  ENSG00000080644.15    CHRNA3  2.757816e-21  19.0      4.0  ENSG00000080644\n",
       "3  ENSG00000169684.13    CHRNA5  1.915449e-20  46.0      3.0  ENSG00000169684\n",
       "4  ENSG00000188266.13      HYKK  7.494625e-20  34.0      5.0  ENSG00000188266"
      ]
     },
     "execution_count": 36,
     "metadata": {},
     "output_type": "execute_result"
    }
   ],
   "source": [
    "smultixcan_results.head()"
   ]
  },
  {
   "cell_type": "code",
   "execution_count": 37,
   "id": "9c4c023c-86d6-4c4b-8d57-c2b6b93aaf84",
   "metadata": {
    "execution": {
     "iopub.execute_input": "2022-12-02T21:49:41.670799Z",
     "iopub.status.busy": "2022-12-02T21:49:41.670627Z",
     "iopub.status.idle": "2022-12-02T21:49:41.690417Z",
     "shell.execute_reply": "2022-12-02T21:49:41.689759Z"
    },
    "papermill": {
     "duration": 0.041414,
     "end_time": "2022-12-02T21:49:41.691459",
     "exception": false,
     "start_time": "2022-12-02T21:49:41.650045",
     "status": "completed"
    },
    "tags": []
   },
   "outputs": [],
   "source": [
    "assert smultixcan_results[\"gene_id\"].is_unique"
   ]
  },
  {
   "cell_type": "markdown",
   "id": "1f9939f1-4200-40d9-a8bf-8e4fd68bee48",
   "metadata": {
    "papermill": {
     "duration": 0.010526,
     "end_time": "2022-12-02T21:49:41.712660",
     "exception": false,
     "start_time": "2022-12-02T21:49:41.702134",
     "status": "completed"
    },
    "tags": []
   },
   "source": [
    "### Get common genes with MultiPLIER"
   ]
  },
  {
   "cell_type": "code",
   "execution_count": 38,
   "id": "c820e6cf-6350-45af-b49a-0abd94f570ff",
   "metadata": {
    "execution": {
     "iopub.execute_input": "2022-12-02T21:49:41.734692Z",
     "iopub.status.busy": "2022-12-02T21:49:41.734331Z",
     "iopub.status.idle": "2022-12-02T21:49:41.756892Z",
     "shell.execute_reply": "2022-12-02T21:49:41.756217Z"
    },
    "papermill": {
     "duration": 0.034981,
     "end_time": "2022-12-02T21:49:41.758099",
     "exception": false,
     "start_time": "2022-12-02T21:49:41.723118",
     "status": "completed"
    },
    "tags": []
   },
   "outputs": [],
   "source": [
    "common_genes = set(multiplier_z_genes).intersection(\n",
    "    set(smultixcan_results[\"gene_name\"])\n",
    ")"
   ]
  },
  {
   "cell_type": "code",
   "execution_count": 39,
   "id": "0a7328f9-96c7-4ac6-a9a6-ae4fa121a4cd",
   "metadata": {
    "execution": {
     "iopub.execute_input": "2022-12-02T21:49:41.780794Z",
     "iopub.status.busy": "2022-12-02T21:49:41.780324Z",
     "iopub.status.idle": "2022-12-02T21:49:41.799040Z",
     "shell.execute_reply": "2022-12-02T21:49:41.798413Z"
    },
    "papermill": {
     "duration": 0.031618,
     "end_time": "2022-12-02T21:49:41.800686",
     "exception": false,
     "start_time": "2022-12-02T21:49:41.769068",
     "status": "completed"
    },
    "tags": []
   },
   "outputs": [
    {
     "data": {
      "text/plain": [
       "6445"
      ]
     },
     "execution_count": 39,
     "metadata": {},
     "output_type": "execute_result"
    }
   ],
   "source": [
    "len(common_genes)"
   ]
  },
  {
   "cell_type": "code",
   "execution_count": 40,
   "id": "5b08d362-44c8-4db2-9258-670e2e2a9cc0",
   "metadata": {
    "execution": {
     "iopub.execute_input": "2022-12-02T21:49:41.843383Z",
     "iopub.status.busy": "2022-12-02T21:49:41.842768Z",
     "iopub.status.idle": "2022-12-02T21:49:41.862388Z",
     "shell.execute_reply": "2022-12-02T21:49:41.861877Z"
    },
    "papermill": {
     "duration": 0.04188,
     "end_time": "2022-12-02T21:49:41.863815",
     "exception": false,
     "start_time": "2022-12-02T21:49:41.821935",
     "status": "completed"
    },
    "tags": []
   },
   "outputs": [
    {
     "data": {
      "text/plain": [
       "['A2M', 'AAAS', 'AANAT', 'AARS', 'AARS2']"
      ]
     },
     "execution_count": 40,
     "metadata": {},
     "output_type": "execute_result"
    }
   ],
   "source": [
    "sorted(list(common_genes))[:5]"
   ]
  },
  {
   "cell_type": "markdown",
   "id": "7f51338b-8a75-42c3-a7e5-a0961cefb663",
   "metadata": {
    "papermill": {
     "duration": 0.019764,
     "end_time": "2022-12-02T21:49:41.904320",
     "exception": false,
     "start_time": "2022-12-02T21:49:41.884556",
     "status": "completed"
    },
    "tags": []
   },
   "source": [
    "## Genes info"
   ]
  },
  {
   "cell_type": "code",
   "execution_count": 41,
   "id": "bb932812",
   "metadata": {
    "execution": {
     "iopub.execute_input": "2022-12-02T21:49:41.927363Z",
     "iopub.status.busy": "2022-12-02T21:49:41.927026Z",
     "iopub.status.idle": "2022-12-02T21:49:42.535624Z",
     "shell.execute_reply": "2022-12-02T21:49:42.535189Z"
    },
    "papermill": {
     "duration": 0.622075,
     "end_time": "2022-12-02T21:49:42.537266",
     "exception": false,
     "start_time": "2022-12-02T21:49:41.915191",
     "status": "completed"
    },
    "tags": []
   },
   "outputs": [],
   "source": [
    "multiplier_gene_obj = {\n",
    "    gene_name: Gene(name=gene_name)\n",
    "    for gene_name in common_genes\n",
    "    if gene_name in Gene.GENE_NAME_TO_ID_MAP\n",
    "}"
   ]
  },
  {
   "cell_type": "code",
   "execution_count": 42,
   "id": "cb9d7a45-2b7d-4d10-80dc-212a625b5ae7",
   "metadata": {
    "execution": {
     "iopub.execute_input": "2022-12-02T21:49:42.561598Z",
     "iopub.status.busy": "2022-12-02T21:49:42.561363Z",
     "iopub.status.idle": "2022-12-02T21:49:42.571443Z",
     "shell.execute_reply": "2022-12-02T21:49:42.571077Z"
    },
    "papermill": {
     "duration": 0.02222,
     "end_time": "2022-12-02T21:49:42.572206",
     "exception": false,
     "start_time": "2022-12-02T21:49:42.549986",
     "status": "completed"
    },
    "tags": []
   },
   "outputs": [],
   "source": [
    "# delete common_genes, from now on, genes_info should be used for common genes\n",
    "del common_genes"
   ]
  },
  {
   "cell_type": "code",
   "execution_count": 43,
   "id": "39533214",
   "metadata": {
    "execution": {
     "iopub.execute_input": "2022-12-02T21:49:42.594562Z",
     "iopub.status.busy": "2022-12-02T21:49:42.594294Z",
     "iopub.status.idle": "2022-12-02T21:49:42.609650Z",
     "shell.execute_reply": "2022-12-02T21:49:42.609195Z"
    },
    "papermill": {
     "duration": 0.027478,
     "end_time": "2022-12-02T21:49:42.610458",
     "exception": false,
     "start_time": "2022-12-02T21:49:42.582980",
     "status": "completed"
    },
    "tags": []
   },
   "outputs": [
    {
     "data": {
      "text/plain": [
       "6445"
      ]
     },
     "execution_count": 43,
     "metadata": {},
     "output_type": "execute_result"
    }
   ],
   "source": [
    "len(multiplier_gene_obj)"
   ]
  },
  {
   "cell_type": "code",
   "execution_count": 44,
   "id": "9a5d0b84",
   "metadata": {
    "execution": {
     "iopub.execute_input": "2022-12-02T21:49:42.633364Z",
     "iopub.status.busy": "2022-12-02T21:49:42.632985Z",
     "iopub.status.idle": "2022-12-02T21:49:42.649285Z",
     "shell.execute_reply": "2022-12-02T21:49:42.648770Z"
    },
    "papermill": {
     "duration": 0.028744,
     "end_time": "2022-12-02T21:49:42.650176",
     "exception": false,
     "start_time": "2022-12-02T21:49:42.621432",
     "status": "completed"
    },
    "tags": []
   },
   "outputs": [],
   "source": [
    "assert multiplier_gene_obj[\"GAS6\"].ensembl_id == \"ENSG00000183087\""
   ]
  },
  {
   "cell_type": "code",
   "execution_count": 45,
   "id": "e3ffabc7",
   "metadata": {
    "execution": {
     "iopub.execute_input": "2022-12-02T21:49:42.673066Z",
     "iopub.status.busy": "2022-12-02T21:49:42.672601Z",
     "iopub.status.idle": "2022-12-02T21:49:44.452585Z",
     "shell.execute_reply": "2022-12-02T21:49:44.452169Z"
    },
    "papermill": {
     "duration": 1.793174,
     "end_time": "2022-12-02T21:49:44.454221",
     "exception": false,
     "start_time": "2022-12-02T21:49:42.661047",
     "status": "completed"
    },
    "tags": []
   },
   "outputs": [],
   "source": [
    "_gene_obj = list(multiplier_gene_obj.values())\n",
    "\n",
    "genes_info = pd.DataFrame(\n",
    "    {\n",
    "        \"name\": [g.name for g in _gene_obj],\n",
    "        \"id\": [g.ensembl_id for g in _gene_obj],\n",
    "        \"chr\": [g.chromosome for g in _gene_obj],\n",
    "        \"band\": [g.band for g in _gene_obj],\n",
    "        \"start_position\": [g.get_attribute(\"start_position\") for g in _gene_obj],\n",
    "        \"end_position\": [g.get_attribute(\"end_position\") for g in _gene_obj],\n",
    "    }\n",
    ")"
   ]
  },
  {
   "cell_type": "code",
   "execution_count": 46,
   "id": "00475e72-1cfc-485f-8b4e-1d9cce695f58",
   "metadata": {
    "execution": {
     "iopub.execute_input": "2022-12-02T21:49:44.499113Z",
     "iopub.status.busy": "2022-12-02T21:49:44.498977Z",
     "iopub.status.idle": "2022-12-02T21:49:44.541260Z",
     "shell.execute_reply": "2022-12-02T21:49:44.540827Z"
    },
    "papermill": {
     "duration": 0.066457,
     "end_time": "2022-12-02T21:49:44.542734",
     "exception": false,
     "start_time": "2022-12-02T21:49:44.476277",
     "status": "completed"
    },
    "tags": []
   },
   "outputs": [],
   "source": [
    "genes_info = genes_info.assign(\n",
    "    gene_length=genes_info.apply(\n",
    "        lambda x: x[\"end_position\"] - x[\"start_position\"], axis=1\n",
    "    )\n",
    ")"
   ]
  },
  {
   "cell_type": "code",
   "execution_count": 47,
   "id": "3af1a166-08a0-4333-bc09-b8bc762aa7ef",
   "metadata": {
    "execution": {
     "iopub.execute_input": "2022-12-02T21:49:44.586911Z",
     "iopub.status.busy": "2022-12-02T21:49:44.586629Z",
     "iopub.status.idle": "2022-12-02T21:49:44.605297Z",
     "shell.execute_reply": "2022-12-02T21:49:44.604757Z"
    },
    "papermill": {
     "duration": 0.041948,
     "end_time": "2022-12-02T21:49:44.606648",
     "exception": false,
     "start_time": "2022-12-02T21:49:44.564700",
     "status": "completed"
    },
    "tags": []
   },
   "outputs": [
    {
     "data": {
      "text/plain": [
       "name               object\n",
       "id                 object\n",
       "chr                object\n",
       "band               object\n",
       "start_position    float64\n",
       "end_position      float64\n",
       "gene_length       float64\n",
       "dtype: object"
      ]
     },
     "execution_count": 47,
     "metadata": {},
     "output_type": "execute_result"
    }
   ],
   "source": [
    "genes_info.dtypes"
   ]
  },
  {
   "cell_type": "code",
   "execution_count": 48,
   "id": "08a23f6f-87f6-4072-88c8-010b90a411cd",
   "metadata": {
    "execution": {
     "iopub.execute_input": "2022-12-02T21:49:44.649203Z",
     "iopub.status.busy": "2022-12-02T21:49:44.648939Z",
     "iopub.status.idle": "2022-12-02T21:49:44.675984Z",
     "shell.execute_reply": "2022-12-02T21:49:44.675478Z"
    },
    "papermill": {
     "duration": 0.049834,
     "end_time": "2022-12-02T21:49:44.677367",
     "exception": false,
     "start_time": "2022-12-02T21:49:44.627533",
     "status": "completed"
    },
    "tags": []
   },
   "outputs": [
    {
     "data": {
      "text/html": [
       "<div>\n",
       "<style scoped>\n",
       "    .dataframe tbody tr th:only-of-type {\n",
       "        vertical-align: middle;\n",
       "    }\n",
       "\n",
       "    .dataframe tbody tr th {\n",
       "        vertical-align: top;\n",
       "    }\n",
       "\n",
       "    .dataframe thead th {\n",
       "        text-align: right;\n",
       "    }\n",
       "</style>\n",
       "<table border=\"1\" class=\"dataframe\">\n",
       "  <thead>\n",
       "    <tr style=\"text-align: right;\">\n",
       "      <th></th>\n",
       "      <th>name</th>\n",
       "      <th>id</th>\n",
       "      <th>chr</th>\n",
       "      <th>band</th>\n",
       "      <th>start_position</th>\n",
       "      <th>end_position</th>\n",
       "      <th>gene_length</th>\n",
       "    </tr>\n",
       "  </thead>\n",
       "  <tbody>\n",
       "    <tr>\n",
       "      <th>3282</th>\n",
       "      <td>TBCE</td>\n",
       "      <td>ENSG00000116957</td>\n",
       "      <td>None</td>\n",
       "      <td>None</td>\n",
       "      <td>NaN</td>\n",
       "      <td>NaN</td>\n",
       "      <td>NaN</td>\n",
       "    </tr>\n",
       "    <tr>\n",
       "      <th>3426</th>\n",
       "      <td>TMEM133</td>\n",
       "      <td>ENSG00000170647</td>\n",
       "      <td>None</td>\n",
       "      <td>None</td>\n",
       "      <td>NaN</td>\n",
       "      <td>NaN</td>\n",
       "      <td>NaN</td>\n",
       "    </tr>\n",
       "  </tbody>\n",
       "</table>\n",
       "</div>"
      ],
      "text/plain": [
       "         name               id   chr  band  start_position  end_position  \\\n",
       "3282     TBCE  ENSG00000116957  None  None             NaN           NaN   \n",
       "3426  TMEM133  ENSG00000170647  None  None             NaN           NaN   \n",
       "\n",
       "      gene_length  \n",
       "3282          NaN  \n",
       "3426          NaN  "
      ]
     },
     "metadata": {},
     "output_type": "display_data"
    }
   ],
   "source": [
    "_tmp = genes_info[genes_info.isna().any(axis=1)]\n",
    "display(_tmp)\n",
    "assert _tmp.shape[0] < 5"
   ]
  },
  {
   "cell_type": "code",
   "execution_count": 49,
   "id": "87c010f0-8ad9-4bf0-b12d-02f37a93853a",
   "metadata": {
    "execution": {
     "iopub.execute_input": "2022-12-02T21:49:44.720647Z",
     "iopub.status.busy": "2022-12-02T21:49:44.720372Z",
     "iopub.status.idle": "2022-12-02T21:49:44.741869Z",
     "shell.execute_reply": "2022-12-02T21:49:44.741326Z"
    },
    "papermill": {
     "duration": 0.044585,
     "end_time": "2022-12-02T21:49:44.743379",
     "exception": false,
     "start_time": "2022-12-02T21:49:44.698794",
     "status": "completed"
    },
    "tags": []
   },
   "outputs": [],
   "source": [
    "genes_info = genes_info.dropna()"
   ]
  },
  {
   "cell_type": "code",
   "execution_count": 50,
   "id": "61833f43-3a92-47e9-bca3-e05b6673c7d9",
   "metadata": {
    "execution": {
     "iopub.execute_input": "2022-12-02T21:49:44.787179Z",
     "iopub.status.busy": "2022-12-02T21:49:44.786709Z",
     "iopub.status.idle": "2022-12-02T21:49:45.192577Z",
     "shell.execute_reply": "2022-12-02T21:49:45.192148Z"
    },
    "papermill": {
     "duration": 0.429222,
     "end_time": "2022-12-02T21:49:45.194196",
     "exception": false,
     "start_time": "2022-12-02T21:49:44.764974",
     "status": "completed"
    },
    "tags": []
   },
   "outputs": [],
   "source": [
    "genes_info[\"chr\"] = genes_info[\"chr\"].apply(pd.to_numeric, downcast=\"integer\")\n",
    "genes_info[\"start_position\"] = genes_info[\"start_position\"].astype(int)\n",
    "genes_info[\"end_position\"] = genes_info[\"end_position\"].astype(int)\n",
    "genes_info[\"gene_length\"] = genes_info[\"gene_length\"].astype(int)"
   ]
  },
  {
   "cell_type": "code",
   "execution_count": 51,
   "id": "e4b9ae23-3edb-41a4-97aa-80cc7db6d393",
   "metadata": {
    "execution": {
     "iopub.execute_input": "2022-12-02T21:49:45.240846Z",
     "iopub.status.busy": "2022-12-02T21:49:45.240660Z",
     "iopub.status.idle": "2022-12-02T21:49:45.252285Z",
     "shell.execute_reply": "2022-12-02T21:49:45.251916Z"
    },
    "papermill": {
     "duration": 0.036842,
     "end_time": "2022-12-02T21:49:45.253563",
     "exception": false,
     "start_time": "2022-12-02T21:49:45.216721",
     "status": "completed"
    },
    "tags": []
   },
   "outputs": [
    {
     "data": {
      "text/plain": [
       "name              object\n",
       "id                object\n",
       "chr                 int8\n",
       "band              object\n",
       "start_position     int64\n",
       "end_position       int64\n",
       "gene_length        int64\n",
       "dtype: object"
      ]
     },
     "execution_count": 51,
     "metadata": {},
     "output_type": "execute_result"
    }
   ],
   "source": [
    "genes_info.dtypes"
   ]
  },
  {
   "cell_type": "code",
   "execution_count": 52,
   "id": "09d6320a-b1c4-4200-a23e-184bc4be69c7",
   "metadata": {
    "execution": {
     "iopub.execute_input": "2022-12-02T21:49:45.299215Z",
     "iopub.status.busy": "2022-12-02T21:49:45.299090Z",
     "iopub.status.idle": "2022-12-02T21:49:45.310546Z",
     "shell.execute_reply": "2022-12-02T21:49:45.310168Z"
    },
    "papermill": {
     "duration": 0.03492,
     "end_time": "2022-12-02T21:49:45.311360",
     "exception": false,
     "start_time": "2022-12-02T21:49:45.276440",
     "status": "completed"
    },
    "tags": []
   },
   "outputs": [],
   "source": [
    "assert genes_info[\"name\"].is_unique"
   ]
  },
  {
   "cell_type": "code",
   "execution_count": 53,
   "id": "009d11e4-f8cb-4a81-823d-c7f10b906d3b",
   "metadata": {
    "execution": {
     "iopub.execute_input": "2022-12-02T21:49:45.334478Z",
     "iopub.status.busy": "2022-12-02T21:49:45.334213Z",
     "iopub.status.idle": "2022-12-02T21:49:45.352265Z",
     "shell.execute_reply": "2022-12-02T21:49:45.351741Z"
    },
    "papermill": {
     "duration": 0.030581,
     "end_time": "2022-12-02T21:49:45.353210",
     "exception": false,
     "start_time": "2022-12-02T21:49:45.322629",
     "status": "completed"
    },
    "tags": []
   },
   "outputs": [],
   "source": [
    "assert genes_info[\"id\"].is_unique"
   ]
  },
  {
   "cell_type": "code",
   "execution_count": 54,
   "id": "e23519b8",
   "metadata": {
    "execution": {
     "iopub.execute_input": "2022-12-02T21:49:45.376729Z",
     "iopub.status.busy": "2022-12-02T21:49:45.376310Z",
     "iopub.status.idle": "2022-12-02T21:49:45.394554Z",
     "shell.execute_reply": "2022-12-02T21:49:45.394063Z"
    },
    "papermill": {
     "duration": 0.03102,
     "end_time": "2022-12-02T21:49:45.395443",
     "exception": false,
     "start_time": "2022-12-02T21:49:45.364423",
     "status": "completed"
    },
    "tags": []
   },
   "outputs": [
    {
     "data": {
      "text/plain": [
       "(6443, 7)"
      ]
     },
     "execution_count": 54,
     "metadata": {},
     "output_type": "execute_result"
    }
   ],
   "source": [
    "genes_info.shape"
   ]
  },
  {
   "cell_type": "code",
   "execution_count": 55,
   "id": "0d71881c",
   "metadata": {
    "execution": {
     "iopub.execute_input": "2022-12-02T21:49:45.419210Z",
     "iopub.status.busy": "2022-12-02T21:49:45.418823Z",
     "iopub.status.idle": "2022-12-02T21:49:45.441140Z",
     "shell.execute_reply": "2022-12-02T21:49:45.440579Z"
    },
    "papermill": {
     "duration": 0.035138,
     "end_time": "2022-12-02T21:49:45.441995",
     "exception": false,
     "start_time": "2022-12-02T21:49:45.406857",
     "status": "completed"
    },
    "tags": []
   },
   "outputs": [
    {
     "data": {
      "text/html": [
       "<div>\n",
       "<style scoped>\n",
       "    .dataframe tbody tr th:only-of-type {\n",
       "        vertical-align: middle;\n",
       "    }\n",
       "\n",
       "    .dataframe tbody tr th {\n",
       "        vertical-align: top;\n",
       "    }\n",
       "\n",
       "    .dataframe thead th {\n",
       "        text-align: right;\n",
       "    }\n",
       "</style>\n",
       "<table border=\"1\" class=\"dataframe\">\n",
       "  <thead>\n",
       "    <tr style=\"text-align: right;\">\n",
       "      <th></th>\n",
       "      <th>name</th>\n",
       "      <th>id</th>\n",
       "      <th>chr</th>\n",
       "      <th>band</th>\n",
       "      <th>start_position</th>\n",
       "      <th>end_position</th>\n",
       "      <th>gene_length</th>\n",
       "    </tr>\n",
       "  </thead>\n",
       "  <tbody>\n",
       "    <tr>\n",
       "      <th>0</th>\n",
       "      <td>IL2RB</td>\n",
       "      <td>ENSG00000100385</td>\n",
       "      <td>22</td>\n",
       "      <td>22q12.3</td>\n",
       "      <td>37125843</td>\n",
       "      <td>37175054</td>\n",
       "      <td>49211</td>\n",
       "    </tr>\n",
       "    <tr>\n",
       "      <th>1</th>\n",
       "      <td>ZNF208</td>\n",
       "      <td>ENSG00000160321</td>\n",
       "      <td>19</td>\n",
       "      <td>19p12</td>\n",
       "      <td>21932958</td>\n",
       "      <td>22010949</td>\n",
       "      <td>77991</td>\n",
       "    </tr>\n",
       "    <tr>\n",
       "      <th>2</th>\n",
       "      <td>CES1</td>\n",
       "      <td>ENSG00000198848</td>\n",
       "      <td>16</td>\n",
       "      <td>16q12.2</td>\n",
       "      <td>55802851</td>\n",
       "      <td>55833337</td>\n",
       "      <td>30486</td>\n",
       "    </tr>\n",
       "    <tr>\n",
       "      <th>3</th>\n",
       "      <td>XAB2</td>\n",
       "      <td>ENSG00000076924</td>\n",
       "      <td>19</td>\n",
       "      <td>19p13.2</td>\n",
       "      <td>7619525</td>\n",
       "      <td>7629545</td>\n",
       "      <td>10020</td>\n",
       "    </tr>\n",
       "    <tr>\n",
       "      <th>4</th>\n",
       "      <td>AQP1</td>\n",
       "      <td>ENSG00000240583</td>\n",
       "      <td>7</td>\n",
       "      <td>7p14.3</td>\n",
       "      <td>30911694</td>\n",
       "      <td>30925517</td>\n",
       "      <td>13823</td>\n",
       "    </tr>\n",
       "  </tbody>\n",
       "</table>\n",
       "</div>"
      ],
      "text/plain": [
       "     name               id  chr     band  start_position  end_position  \\\n",
       "0   IL2RB  ENSG00000100385   22  22q12.3        37125843      37175054   \n",
       "1  ZNF208  ENSG00000160321   19    19p12        21932958      22010949   \n",
       "2    CES1  ENSG00000198848   16  16q12.2        55802851      55833337   \n",
       "3    XAB2  ENSG00000076924   19  19p13.2         7619525       7629545   \n",
       "4    AQP1  ENSG00000240583    7   7p14.3        30911694      30925517   \n",
       "\n",
       "   gene_length  \n",
       "0        49211  \n",
       "1        77991  \n",
       "2        30486  \n",
       "3        10020  \n",
       "4        13823  "
      ]
     },
     "execution_count": 55,
     "metadata": {},
     "output_type": "execute_result"
    }
   ],
   "source": [
    "genes_info.head()"
   ]
  },
  {
   "cell_type": "code",
   "execution_count": 56,
   "id": "eb968287-d9cf-40f6-a93e-6b322b844404",
   "metadata": {
    "execution": {
     "iopub.execute_input": "2022-12-02T21:49:45.465889Z",
     "iopub.status.busy": "2022-12-02T21:49:45.465507Z",
     "iopub.status.idle": "2022-12-02T21:49:45.491650Z",
     "shell.execute_reply": "2022-12-02T21:49:45.491129Z"
    },
    "papermill": {
     "duration": 0.039043,
     "end_time": "2022-12-02T21:49:45.492563",
     "exception": false,
     "start_time": "2022-12-02T21:49:45.453520",
     "status": "completed"
    },
    "tags": []
   },
   "outputs": [
    {
     "data": {
      "text/html": [
       "<div>\n",
       "<style scoped>\n",
       "    .dataframe tbody tr th:only-of-type {\n",
       "        vertical-align: middle;\n",
       "    }\n",
       "\n",
       "    .dataframe tbody tr th {\n",
       "        vertical-align: top;\n",
       "    }\n",
       "\n",
       "    .dataframe thead th {\n",
       "        text-align: right;\n",
       "    }\n",
       "</style>\n",
       "<table border=\"1\" class=\"dataframe\">\n",
       "  <thead>\n",
       "    <tr style=\"text-align: right;\">\n",
       "      <th></th>\n",
       "      <th>name</th>\n",
       "      <th>id</th>\n",
       "      <th>chr</th>\n",
       "      <th>band</th>\n",
       "      <th>start_position</th>\n",
       "      <th>end_position</th>\n",
       "      <th>gene_length</th>\n",
       "    </tr>\n",
       "  </thead>\n",
       "  <tbody>\n",
       "    <tr>\n",
       "      <th>6444</th>\n",
       "      <td>RFWD2</td>\n",
       "      <td>ENSG00000143207</td>\n",
       "      <td>1</td>\n",
       "      <td>1q25.2</td>\n",
       "      <td>175944831</td>\n",
       "      <td>176207286</td>\n",
       "      <td>262455</td>\n",
       "    </tr>\n",
       "    <tr>\n",
       "      <th>6300</th>\n",
       "      <td>HMGCL</td>\n",
       "      <td>ENSG00000117305</td>\n",
       "      <td>1</td>\n",
       "      <td>1p36.11</td>\n",
       "      <td>23801885</td>\n",
       "      <td>23838620</td>\n",
       "      <td>36735</td>\n",
       "    </tr>\n",
       "    <tr>\n",
       "      <th>5334</th>\n",
       "      <td>SLAMF1</td>\n",
       "      <td>ENSG00000117090</td>\n",
       "      <td>1</td>\n",
       "      <td>1q23.3</td>\n",
       "      <td>160608106</td>\n",
       "      <td>160647295</td>\n",
       "      <td>39189</td>\n",
       "    </tr>\n",
       "    <tr>\n",
       "      <th>5337</th>\n",
       "      <td>STMN1</td>\n",
       "      <td>ENSG00000117632</td>\n",
       "      <td>1</td>\n",
       "      <td>1p36.11</td>\n",
       "      <td>25884181</td>\n",
       "      <td>25906991</td>\n",
       "      <td>22810</td>\n",
       "    </tr>\n",
       "    <tr>\n",
       "      <th>1678</th>\n",
       "      <td>S100A12</td>\n",
       "      <td>ENSG00000163221</td>\n",
       "      <td>1</td>\n",
       "      <td>1q21.3</td>\n",
       "      <td>153373711</td>\n",
       "      <td>153375621</td>\n",
       "      <td>1910</td>\n",
       "    </tr>\n",
       "    <tr>\n",
       "      <th>...</th>\n",
       "      <td>...</td>\n",
       "      <td>...</td>\n",
       "      <td>...</td>\n",
       "      <td>...</td>\n",
       "      <td>...</td>\n",
       "      <td>...</td>\n",
       "      <td>...</td>\n",
       "    </tr>\n",
       "    <tr>\n",
       "      <th>3955</th>\n",
       "      <td>MN1</td>\n",
       "      <td>ENSG00000169184</td>\n",
       "      <td>22</td>\n",
       "      <td>22q12.1</td>\n",
       "      <td>27748277</td>\n",
       "      <td>27801756</td>\n",
       "      <td>53479</td>\n",
       "    </tr>\n",
       "    <tr>\n",
       "      <th>3952</th>\n",
       "      <td>POLR3H</td>\n",
       "      <td>ENSG00000100413</td>\n",
       "      <td>22</td>\n",
       "      <td>22q13.2</td>\n",
       "      <td>41525799</td>\n",
       "      <td>41544606</td>\n",
       "      <td>18807</td>\n",
       "    </tr>\n",
       "    <tr>\n",
       "      <th>3916</th>\n",
       "      <td>TUBA8</td>\n",
       "      <td>ENSG00000183785</td>\n",
       "      <td>22</td>\n",
       "      <td>22q11.21</td>\n",
       "      <td>18110331</td>\n",
       "      <td>18146554</td>\n",
       "      <td>36223</td>\n",
       "    </tr>\n",
       "    <tr>\n",
       "      <th>4272</th>\n",
       "      <td>TYMP</td>\n",
       "      <td>ENSG00000025708</td>\n",
       "      <td>22</td>\n",
       "      <td>22q13.33</td>\n",
       "      <td>50525752</td>\n",
       "      <td>50530032</td>\n",
       "      <td>4280</td>\n",
       "    </tr>\n",
       "    <tr>\n",
       "      <th>3221</th>\n",
       "      <td>TAB1</td>\n",
       "      <td>ENSG00000100324</td>\n",
       "      <td>22</td>\n",
       "      <td>22q13.1</td>\n",
       "      <td>39399778</td>\n",
       "      <td>39437060</td>\n",
       "      <td>37282</td>\n",
       "    </tr>\n",
       "  </tbody>\n",
       "</table>\n",
       "<p>6443 rows × 7 columns</p>\n",
       "</div>"
      ],
      "text/plain": [
       "         name               id  chr      band  start_position  end_position  \\\n",
       "6444    RFWD2  ENSG00000143207    1    1q25.2       175944831     176207286   \n",
       "6300    HMGCL  ENSG00000117305    1   1p36.11        23801885      23838620   \n",
       "5334   SLAMF1  ENSG00000117090    1    1q23.3       160608106     160647295   \n",
       "5337    STMN1  ENSG00000117632    1   1p36.11        25884181      25906991   \n",
       "1678  S100A12  ENSG00000163221    1    1q21.3       153373711     153375621   \n",
       "...       ...              ...  ...       ...             ...           ...   \n",
       "3955      MN1  ENSG00000169184   22   22q12.1        27748277      27801756   \n",
       "3952   POLR3H  ENSG00000100413   22   22q13.2        41525799      41544606   \n",
       "3916    TUBA8  ENSG00000183785   22  22q11.21        18110331      18146554   \n",
       "4272     TYMP  ENSG00000025708   22  22q13.33        50525752      50530032   \n",
       "3221     TAB1  ENSG00000100324   22   22q13.1        39399778      39437060   \n",
       "\n",
       "      gene_length  \n",
       "6444       262455  \n",
       "6300        36735  \n",
       "5334        39189  \n",
       "5337        22810  \n",
       "1678         1910  \n",
       "...           ...  \n",
       "3955        53479  \n",
       "3952        18807  \n",
       "3916        36223  \n",
       "4272         4280  \n",
       "3221        37282  \n",
       "\n",
       "[6443 rows x 7 columns]"
      ]
     },
     "execution_count": 56,
     "metadata": {},
     "output_type": "execute_result"
    }
   ],
   "source": [
    "genes_info.sort_values(\"chr\")"
   ]
  },
  {
   "cell_type": "markdown",
   "id": "7282b84d-f4f3-4e8c-9dd8-6319505ed4b5",
   "metadata": {
    "papermill": {
     "duration": 0.01148,
     "end_time": "2022-12-02T21:49:45.537730",
     "exception": false,
     "start_time": "2022-12-02T21:49:45.526250",
     "status": "completed"
    },
    "tags": []
   },
   "source": [
    "### Save"
   ]
  },
  {
   "cell_type": "code",
   "execution_count": 57,
   "id": "32cf6566-03bb-4a85-81e1-da46fc9f37ad",
   "metadata": {
    "execution": {
     "iopub.execute_input": "2022-12-02T21:49:45.562028Z",
     "iopub.status.busy": "2022-12-02T21:49:45.561681Z",
     "iopub.status.idle": "2022-12-02T21:49:45.582961Z",
     "shell.execute_reply": "2022-12-02T21:49:45.582435Z"
    },
    "papermill": {
     "duration": 0.034661,
     "end_time": "2022-12-02T21:49:45.583988",
     "exception": false,
     "start_time": "2022-12-02T21:49:45.549327",
     "status": "completed"
    },
    "tags": []
   },
   "outputs": [],
   "source": [
    "genes_info.to_pickle(OUTPUT_DIR_BASE / \"genes_info.pkl\")"
   ]
  },
  {
   "cell_type": "markdown",
   "id": "5b9f384a-5a91-4a8d-9007-cfe43f2d86f8",
   "metadata": {
    "papermill": {
     "duration": 0.011542,
     "end_time": "2022-12-02T21:49:45.607513",
     "exception": false,
     "start_time": "2022-12-02T21:49:45.595971",
     "status": "completed"
    },
    "tags": []
   },
   "source": [
    "## S-PrediXcan results"
   ]
  },
  {
   "cell_type": "markdown",
   "id": "fc0a2a4c-960c-4a0a-9b23-b66c3d5d6e07",
   "metadata": {
    "papermill": {
     "duration": 0.011555,
     "end_time": "2022-12-02T21:49:45.630509",
     "exception": false,
     "start_time": "2022-12-02T21:49:45.618954",
     "status": "completed"
    },
    "tags": []
   },
   "source": [
    "### Load results across all tissues"
   ]
  },
  {
   "cell_type": "code",
   "execution_count": 58,
   "id": "0b4867d7-a608-4b08-9d77-1782be3a0c94",
   "metadata": {
    "execution": {
     "iopub.execute_input": "2022-12-02T21:49:45.654592Z",
     "iopub.status.busy": "2022-12-02T21:49:45.654270Z",
     "iopub.status.idle": "2022-12-02T21:49:45.671900Z",
     "shell.execute_reply": "2022-12-02T21:49:45.671379Z"
    },
    "papermill": {
     "duration": 0.030679,
     "end_time": "2022-12-02T21:49:45.672807",
     "exception": false,
     "start_time": "2022-12-02T21:49:45.642128",
     "status": "completed"
    },
    "tags": []
   },
   "outputs": [],
   "source": [
    "spredixcan_result_files = {\n",
    "    t: SPREDIXCAN_FOLDER / SPREDIXCAN_FILE_PATTERN.format(tissue=t)\n",
    "    for t in prediction_model_tissues\n",
    "}"
   ]
  },
  {
   "cell_type": "code",
   "execution_count": 59,
   "id": "0ce270dd-46ac-4eaa-9d86-2b201d67d82f",
   "metadata": {
    "execution": {
     "iopub.execute_input": "2022-12-02T21:49:45.697152Z",
     "iopub.status.busy": "2022-12-02T21:49:45.696749Z",
     "iopub.status.idle": "2022-12-02T21:49:45.714286Z",
     "shell.execute_reply": "2022-12-02T21:49:45.713794Z"
    },
    "papermill": {
     "duration": 0.030489,
     "end_time": "2022-12-02T21:49:45.715134",
     "exception": false,
     "start_time": "2022-12-02T21:49:45.684645",
     "status": "completed"
    },
    "tags": []
   },
   "outputs": [
    {
     "data": {
      "text/plain": [
       "[PosixPath('/opt/data/projects/asthma-copd/results/twas/spredixcan/GWAS_COPD_only_GLM_SNPs_info0.7-gtex_v8-mashr-Thyroid.csv'),\n",
       " PosixPath('/opt/data/projects/asthma-copd/results/twas/spredixcan/GWAS_COPD_only_GLM_SNPs_info0.7-gtex_v8-mashr-Artery_Aorta.csv'),\n",
       " PosixPath('/opt/data/projects/asthma-copd/results/twas/spredixcan/GWAS_COPD_only_GLM_SNPs_info0.7-gtex_v8-mashr-Heart_Atrial_Appendage.csv'),\n",
       " PosixPath('/opt/data/projects/asthma-copd/results/twas/spredixcan/GWAS_COPD_only_GLM_SNPs_info0.7-gtex_v8-mashr-Liver.csv'),\n",
       " PosixPath('/opt/data/projects/asthma-copd/results/twas/spredixcan/GWAS_COPD_only_GLM_SNPs_info0.7-gtex_v8-mashr-Heart_Left_Ventricle.csv')]"
      ]
     },
     "metadata": {},
     "output_type": "display_data"
    }
   ],
   "source": [
    "assert len(spredixcan_result_files) == len(prediction_model_tissues)\n",
    "display(list(spredixcan_result_files.values())[:5])"
   ]
  },
  {
   "cell_type": "code",
   "execution_count": 60,
   "id": "aa140259-303e-4912-b2bf-e7adce662f88",
   "metadata": {
    "execution": {
     "iopub.execute_input": "2022-12-02T21:49:45.740221Z",
     "iopub.status.busy": "2022-12-02T21:49:45.739926Z",
     "iopub.status.idle": "2022-12-02T21:49:45.791278Z",
     "shell.execute_reply": "2022-12-02T21:49:45.790619Z"
    },
    "papermill": {
     "duration": 0.065394,
     "end_time": "2022-12-02T21:49:45.792954",
     "exception": false,
     "start_time": "2022-12-02T21:49:45.727560",
     "status": "completed"
    },
    "tags": []
   },
   "outputs": [
    {
     "data": {
      "text/html": [
       "<div>\n",
       "<style scoped>\n",
       "    .dataframe tbody tr th:only-of-type {\n",
       "        vertical-align: middle;\n",
       "    }\n",
       "\n",
       "    .dataframe tbody tr th {\n",
       "        vertical-align: top;\n",
       "    }\n",
       "\n",
       "    .dataframe thead th {\n",
       "        text-align: right;\n",
       "    }\n",
       "</style>\n",
       "<table border=\"1\" class=\"dataframe\">\n",
       "  <thead>\n",
       "    <tr style=\"text-align: right;\">\n",
       "      <th></th>\n",
       "      <th>gene</th>\n",
       "      <th>gene_name</th>\n",
       "      <th>zscore</th>\n",
       "      <th>effect_size</th>\n",
       "      <th>pvalue</th>\n",
       "      <th>var_g</th>\n",
       "      <th>pred_perf_r2</th>\n",
       "      <th>pred_perf_pval</th>\n",
       "      <th>pred_perf_qval</th>\n",
       "      <th>n_snps_used</th>\n",
       "      <th>n_snps_in_cov</th>\n",
       "      <th>n_snps_in_model</th>\n",
       "      <th>best_gwas_p</th>\n",
       "      <th>largest_weight</th>\n",
       "    </tr>\n",
       "  </thead>\n",
       "  <tbody>\n",
       "    <tr>\n",
       "      <th>0</th>\n",
       "      <td>ENSG00000188266.13</td>\n",
       "      <td>HYKK</td>\n",
       "      <td>-7.977829</td>\n",
       "      <td>NaN</td>\n",
       "      <td>1.489290e-15</td>\n",
       "      <td>0.002663</td>\n",
       "      <td>NaN</td>\n",
       "      <td>NaN</td>\n",
       "      <td>NaN</td>\n",
       "      <td>1</td>\n",
       "      <td>1</td>\n",
       "      <td>1</td>\n",
       "      <td>1.489290e-15</td>\n",
       "      <td>0.076877</td>\n",
       "    </tr>\n",
       "    <tr>\n",
       "      <th>1</th>\n",
       "      <td>ENSG00000041357.15</td>\n",
       "      <td>PSMA4</td>\n",
       "      <td>7.580813</td>\n",
       "      <td>NaN</td>\n",
       "      <td>3.433968e-14</td>\n",
       "      <td>0.006043</td>\n",
       "      <td>NaN</td>\n",
       "      <td>NaN</td>\n",
       "      <td>NaN</td>\n",
       "      <td>3</td>\n",
       "      <td>3</td>\n",
       "      <td>3</td>\n",
       "      <td>1.884797e-15</td>\n",
       "      <td>0.161176</td>\n",
       "    </tr>\n",
       "    <tr>\n",
       "      <th>2</th>\n",
       "      <td>ENSG00000183049.12</td>\n",
       "      <td>CAMK1D</td>\n",
       "      <td>6.846095</td>\n",
       "      <td>NaN</td>\n",
       "      <td>7.589322e-12</td>\n",
       "      <td>0.059839</td>\n",
       "      <td>NaN</td>\n",
       "      <td>NaN</td>\n",
       "      <td>NaN</td>\n",
       "      <td>2</td>\n",
       "      <td>2</td>\n",
       "      <td>2</td>\n",
       "      <td>2.814849e-11</td>\n",
       "      <td>0.277173</td>\n",
       "    </tr>\n",
       "    <tr>\n",
       "      <th>3</th>\n",
       "      <td>ENSG00000165609.12</td>\n",
       "      <td>NUDT5</td>\n",
       "      <td>5.826954</td>\n",
       "      <td>NaN</td>\n",
       "      <td>5.644804e-09</td>\n",
       "      <td>0.005001</td>\n",
       "      <td>NaN</td>\n",
       "      <td>NaN</td>\n",
       "      <td>NaN</td>\n",
       "      <td>1</td>\n",
       "      <td>1</td>\n",
       "      <td>1</td>\n",
       "      <td>5.644804e-09</td>\n",
       "      <td>0.102943</td>\n",
       "    </tr>\n",
       "    <tr>\n",
       "      <th>4</th>\n",
       "      <td>ENSG00000198624.12</td>\n",
       "      <td>CCDC69</td>\n",
       "      <td>-5.352389</td>\n",
       "      <td>NaN</td>\n",
       "      <td>8.680055e-08</td>\n",
       "      <td>0.028808</td>\n",
       "      <td>NaN</td>\n",
       "      <td>NaN</td>\n",
       "      <td>NaN</td>\n",
       "      <td>4</td>\n",
       "      <td>4</td>\n",
       "      <td>4</td>\n",
       "      <td>1.032419e-07</td>\n",
       "      <td>0.170673</td>\n",
       "    </tr>\n",
       "  </tbody>\n",
       "</table>\n",
       "</div>"
      ],
      "text/plain": [
       "                 gene gene_name    zscore  effect_size        pvalue  \\\n",
       "0  ENSG00000188266.13      HYKK -7.977829          NaN  1.489290e-15   \n",
       "1  ENSG00000041357.15     PSMA4  7.580813          NaN  3.433968e-14   \n",
       "2  ENSG00000183049.12    CAMK1D  6.846095          NaN  7.589322e-12   \n",
       "3  ENSG00000165609.12     NUDT5  5.826954          NaN  5.644804e-09   \n",
       "4  ENSG00000198624.12    CCDC69 -5.352389          NaN  8.680055e-08   \n",
       "\n",
       "      var_g  pred_perf_r2  pred_perf_pval  pred_perf_qval  n_snps_used  \\\n",
       "0  0.002663           NaN             NaN             NaN            1   \n",
       "1  0.006043           NaN             NaN             NaN            3   \n",
       "2  0.059839           NaN             NaN             NaN            2   \n",
       "3  0.005001           NaN             NaN             NaN            1   \n",
       "4  0.028808           NaN             NaN             NaN            4   \n",
       "\n",
       "   n_snps_in_cov  n_snps_in_model   best_gwas_p  largest_weight  \n",
       "0              1                1  1.489290e-15        0.076877  \n",
       "1              3                3  1.884797e-15        0.161176  \n",
       "2              2                2  2.814849e-11        0.277173  \n",
       "3              1                1  5.644804e-09        0.102943  \n",
       "4              4                4  1.032419e-07        0.170673  "
      ]
     },
     "execution_count": 60,
     "metadata": {},
     "output_type": "execute_result"
    }
   ],
   "source": [
    "# look at the structure of one result\n",
    "pd.read_csv(spredixcan_result_files[\"Whole_Blood\"]).head()"
   ]
  },
  {
   "cell_type": "code",
   "execution_count": 61,
   "id": "4381b9ff-6ab5-47f1-89d1-560f88fdf07f",
   "metadata": {
    "execution": {
     "iopub.execute_input": "2022-12-02T21:49:45.840261Z",
     "iopub.status.busy": "2022-12-02T21:49:45.839800Z",
     "iopub.status.idle": "2022-12-02T21:49:45.856923Z",
     "shell.execute_reply": "2022-12-02T21:49:45.856402Z"
    },
    "papermill": {
     "duration": 0.042102,
     "end_time": "2022-12-02T21:49:45.858537",
     "exception": false,
     "start_time": "2022-12-02T21:49:45.816435",
     "status": "completed"
    },
    "tags": []
   },
   "outputs": [],
   "source": [
    "assert all(f.exists() for f in spredixcan_result_files.values())"
   ]
  },
  {
   "cell_type": "code",
   "execution_count": 62,
   "id": "d477157f-51e9-4c7c-b826-7ab5f4fdf3e3",
   "metadata": {
    "execution": {
     "iopub.execute_input": "2022-12-02T21:49:45.904464Z",
     "iopub.status.busy": "2022-12-02T21:49:45.904227Z",
     "iopub.status.idle": "2022-12-02T21:49:46.539385Z",
     "shell.execute_reply": "2022-12-02T21:49:46.538968Z"
    },
    "papermill": {
     "duration": 0.658934,
     "end_time": "2022-12-02T21:49:46.540543",
     "exception": false,
     "start_time": "2022-12-02T21:49:45.881609",
     "status": "completed"
    },
    "tags": []
   },
   "outputs": [],
   "source": [
    "spredixcan_dfs = [\n",
    "    pd.read_csv(\n",
    "        f,\n",
    "        usecols=[\n",
    "            \"gene\",\n",
    "            \"zscore\",\n",
    "            \"pvalue\",\n",
    "            \"n_snps_used\",\n",
    "            \"n_snps_in_model\",\n",
    "        ],\n",
    "    )\n",
    "    .dropna(subset=[\"gene\", \"zscore\", \"pvalue\"])\n",
    "    .assign(tissue=t)\n",
    "    for t, f in spredixcan_result_files.items()\n",
    "]"
   ]
  },
  {
   "cell_type": "code",
   "execution_count": 63,
   "id": "9730bd37-b769-411f-bb6b-bb658d1ff88c",
   "metadata": {
    "execution": {
     "iopub.execute_input": "2022-12-02T21:49:46.566070Z",
     "iopub.status.busy": "2022-12-02T21:49:46.565889Z",
     "iopub.status.idle": "2022-12-02T21:49:46.576075Z",
     "shell.execute_reply": "2022-12-02T21:49:46.575677Z"
    },
    "papermill": {
     "duration": 0.023454,
     "end_time": "2022-12-02T21:49:46.576988",
     "exception": false,
     "start_time": "2022-12-02T21:49:46.553534",
     "status": "completed"
    },
    "tags": []
   },
   "outputs": [],
   "source": [
    "assert len(spredixcan_dfs) == len(prediction_model_tissues)"
   ]
  },
  {
   "cell_type": "code",
   "execution_count": 64,
   "id": "bcd73f53-1283-4ff6-bbb5-25fb71f5cb72",
   "metadata": {
    "execution": {
     "iopub.execute_input": "2022-12-02T21:49:46.601901Z",
     "iopub.status.busy": "2022-12-02T21:49:46.601734Z",
     "iopub.status.idle": "2022-12-02T21:49:46.628539Z",
     "shell.execute_reply": "2022-12-02T21:49:46.628079Z"
    },
    "papermill": {
     "duration": 0.040418,
     "end_time": "2022-12-02T21:49:46.629682",
     "exception": false,
     "start_time": "2022-12-02T21:49:46.589264",
     "status": "completed"
    },
    "tags": []
   },
   "outputs": [],
   "source": [
    "spredixcan_dfs = pd.concat(spredixcan_dfs)"
   ]
  },
  {
   "cell_type": "code",
   "execution_count": 65,
   "id": "ae99c7b5-14fc-4b39-a6b2-40fc703acd0a",
   "metadata": {
    "execution": {
     "iopub.execute_input": "2022-12-02T21:49:46.654684Z",
     "iopub.status.busy": "2022-12-02T21:49:46.654523Z",
     "iopub.status.idle": "2022-12-02T21:49:46.686232Z",
     "shell.execute_reply": "2022-12-02T21:49:46.685822Z"
    },
    "papermill": {
     "duration": 0.045145,
     "end_time": "2022-12-02T21:49:46.687296",
     "exception": false,
     "start_time": "2022-12-02T21:49:46.642151",
     "status": "completed"
    },
    "tags": []
   },
   "outputs": [],
   "source": [
    "assert spredixcan_dfs[\"tissue\"].unique().shape[0] == len(prediction_model_tissues)"
   ]
  },
  {
   "cell_type": "code",
   "execution_count": 66,
   "id": "b7223a23-e40f-4cd3-8988-72033f8739bd",
   "metadata": {
    "execution": {
     "iopub.execute_input": "2022-12-02T21:49:46.712439Z",
     "iopub.status.busy": "2022-12-02T21:49:46.712258Z",
     "iopub.status.idle": "2022-12-02T21:49:46.723221Z",
     "shell.execute_reply": "2022-12-02T21:49:46.722850Z"
    },
    "papermill": {
     "duration": 0.024162,
     "end_time": "2022-12-02T21:49:46.724079",
     "exception": false,
     "start_time": "2022-12-02T21:49:46.699917",
     "status": "completed"
    },
    "tags": []
   },
   "outputs": [
    {
     "data": {
      "text/plain": [
       "(659087, 6)"
      ]
     },
     "execution_count": 66,
     "metadata": {},
     "output_type": "execute_result"
    }
   ],
   "source": [
    "spredixcan_dfs.shape"
   ]
  },
  {
   "cell_type": "code",
   "execution_count": 67,
   "id": "4987073a-3b70-4162-93fb-beeb351ebfe0",
   "metadata": {
    "execution": {
     "iopub.execute_input": "2022-12-02T21:49:46.749450Z",
     "iopub.status.busy": "2022-12-02T21:49:46.749288Z",
     "iopub.status.idle": "2022-12-02T21:49:46.926054Z",
     "shell.execute_reply": "2022-12-02T21:49:46.925616Z"
    },
    "papermill": {
     "duration": 0.190393,
     "end_time": "2022-12-02T21:49:46.927184",
     "exception": false,
     "start_time": "2022-12-02T21:49:46.736791",
     "status": "completed"
    },
    "tags": []
   },
   "outputs": [],
   "source": [
    "spredixcan_dfs = spredixcan_dfs.assign(\n",
    "    gene_id=spredixcan_dfs[\"gene\"].apply(lambda g: g.split(\".\")[0])\n",
    ")"
   ]
  },
  {
   "cell_type": "code",
   "execution_count": 68,
   "id": "6b47d026-01c0-4f7c-a90e-f0baa13235f4",
   "metadata": {
    "execution": {
     "iopub.execute_input": "2022-12-02T21:49:46.952473Z",
     "iopub.status.busy": "2022-12-02T21:49:46.952298Z",
     "iopub.status.idle": "2022-12-02T21:49:46.966534Z",
     "shell.execute_reply": "2022-12-02T21:49:46.966152Z"
    },
    "papermill": {
     "duration": 0.027702,
     "end_time": "2022-12-02T21:49:46.967411",
     "exception": false,
     "start_time": "2022-12-02T21:49:46.939709",
     "status": "completed"
    },
    "tags": []
   },
   "outputs": [
    {
     "data": {
      "text/html": [
       "<div>\n",
       "<style scoped>\n",
       "    .dataframe tbody tr th:only-of-type {\n",
       "        vertical-align: middle;\n",
       "    }\n",
       "\n",
       "    .dataframe tbody tr th {\n",
       "        vertical-align: top;\n",
       "    }\n",
       "\n",
       "    .dataframe thead th {\n",
       "        text-align: right;\n",
       "    }\n",
       "</style>\n",
       "<table border=\"1\" class=\"dataframe\">\n",
       "  <thead>\n",
       "    <tr style=\"text-align: right;\">\n",
       "      <th></th>\n",
       "      <th>gene</th>\n",
       "      <th>zscore</th>\n",
       "      <th>pvalue</th>\n",
       "      <th>n_snps_used</th>\n",
       "      <th>n_snps_in_model</th>\n",
       "      <th>tissue</th>\n",
       "      <th>gene_id</th>\n",
       "    </tr>\n",
       "  </thead>\n",
       "  <tbody>\n",
       "    <tr>\n",
       "      <th>0</th>\n",
       "      <td>ENSG00000204385.10</td>\n",
       "      <td>5.449554</td>\n",
       "      <td>5.049626e-08</td>\n",
       "      <td>3</td>\n",
       "      <td>3</td>\n",
       "      <td>Thyroid</td>\n",
       "      <td>ENSG00000204385</td>\n",
       "    </tr>\n",
       "    <tr>\n",
       "      <th>1</th>\n",
       "      <td>ENSG00000135074.15</td>\n",
       "      <td>5.281442</td>\n",
       "      <td>1.281709e-07</td>\n",
       "      <td>2</td>\n",
       "      <td>2</td>\n",
       "      <td>Thyroid</td>\n",
       "      <td>ENSG00000135074</td>\n",
       "    </tr>\n",
       "    <tr>\n",
       "      <th>2</th>\n",
       "      <td>ENSG00000244731.7</td>\n",
       "      <td>-4.999106</td>\n",
       "      <td>5.759674e-07</td>\n",
       "      <td>2</td>\n",
       "      <td>2</td>\n",
       "      <td>Thyroid</td>\n",
       "      <td>ENSG00000244731</td>\n",
       "    </tr>\n",
       "    <tr>\n",
       "      <th>3</th>\n",
       "      <td>ENSG00000166822.12</td>\n",
       "      <td>-4.994474</td>\n",
       "      <td>5.899636e-07</td>\n",
       "      <td>1</td>\n",
       "      <td>1</td>\n",
       "      <td>Thyroid</td>\n",
       "      <td>ENSG00000166822</td>\n",
       "    </tr>\n",
       "    <tr>\n",
       "      <th>4</th>\n",
       "      <td>ENSG00000168769.13</td>\n",
       "      <td>4.899470</td>\n",
       "      <td>9.609559e-07</td>\n",
       "      <td>1</td>\n",
       "      <td>1</td>\n",
       "      <td>Thyroid</td>\n",
       "      <td>ENSG00000168769</td>\n",
       "    </tr>\n",
       "  </tbody>\n",
       "</table>\n",
       "</div>"
      ],
      "text/plain": [
       "                 gene    zscore        pvalue  n_snps_used  n_snps_in_model  \\\n",
       "0  ENSG00000204385.10  5.449554  5.049626e-08            3                3   \n",
       "1  ENSG00000135074.15  5.281442  1.281709e-07            2                2   \n",
       "2   ENSG00000244731.7 -4.999106  5.759674e-07            2                2   \n",
       "3  ENSG00000166822.12 -4.994474  5.899636e-07            1                1   \n",
       "4  ENSG00000168769.13  4.899470  9.609559e-07            1                1   \n",
       "\n",
       "    tissue          gene_id  \n",
       "0  Thyroid  ENSG00000204385  \n",
       "1  Thyroid  ENSG00000135074  \n",
       "2  Thyroid  ENSG00000244731  \n",
       "3  Thyroid  ENSG00000166822  \n",
       "4  Thyroid  ENSG00000168769  "
      ]
     },
     "execution_count": 68,
     "metadata": {},
     "output_type": "execute_result"
    }
   ],
   "source": [
    "spredixcan_dfs.head()"
   ]
  },
  {
   "cell_type": "code",
   "execution_count": 69,
   "id": "d5dbdb2e-b7eb-4665-9fd4-9ce714d6af0c",
   "metadata": {
    "execution": {
     "iopub.execute_input": "2022-12-02T21:49:46.992980Z",
     "iopub.status.busy": "2022-12-02T21:49:46.992848Z",
     "iopub.status.idle": "2022-12-02T21:49:47.081130Z",
     "shell.execute_reply": "2022-12-02T21:49:47.080689Z"
    },
    "papermill": {
     "duration": 0.102065,
     "end_time": "2022-12-02T21:49:47.082268",
     "exception": false,
     "start_time": "2022-12-02T21:49:46.980203",
     "status": "completed"
    },
    "tags": []
   },
   "outputs": [],
   "source": [
    "# leave only common genes\n",
    "spredixcan_dfs = spredixcan_dfs[spredixcan_dfs[\"gene_id\"].isin(set(genes_info[\"id\"]))]"
   ]
  },
  {
   "cell_type": "code",
   "execution_count": 70,
   "id": "8d34f99a-6b43-47aa-bb07-dfc67e169538",
   "metadata": {
    "execution": {
     "iopub.execute_input": "2022-12-02T21:49:47.107842Z",
     "iopub.status.busy": "2022-12-02T21:49:47.107669Z",
     "iopub.status.idle": "2022-12-02T21:49:47.118658Z",
     "shell.execute_reply": "2022-12-02T21:49:47.118246Z"
    },
    "papermill": {
     "duration": 0.024356,
     "end_time": "2022-12-02T21:49:47.119522",
     "exception": false,
     "start_time": "2022-12-02T21:49:47.095166",
     "status": "completed"
    },
    "tags": []
   },
   "outputs": [
    {
     "data": {
      "text/plain": [
       "(235749, 7)"
      ]
     },
     "execution_count": 70,
     "metadata": {},
     "output_type": "execute_result"
    }
   ],
   "source": [
    "spredixcan_dfs.shape"
   ]
  },
  {
   "cell_type": "markdown",
   "id": "5ecfd141-ecb8-47cf-905e-25cc1b4d3f9d",
   "metadata": {
    "papermill": {
     "duration": 0.012301,
     "end_time": "2022-12-02T21:49:47.144318",
     "exception": false,
     "start_time": "2022-12-02T21:49:47.132017",
     "status": "completed"
    },
    "tags": []
   },
   "source": [
    "### Count number of tissues available per gene"
   ]
  },
  {
   "cell_type": "code",
   "execution_count": 71,
   "id": "86fe37e1-a303-4221-a12e-3a54a04dd510",
   "metadata": {
    "execution": {
     "iopub.execute_input": "2022-12-02T21:49:47.169374Z",
     "iopub.status.busy": "2022-12-02T21:49:47.169203Z",
     "iopub.status.idle": "2022-12-02T21:49:47.227099Z",
     "shell.execute_reply": "2022-12-02T21:49:47.226666Z"
    },
    "papermill": {
     "duration": 0.071629,
     "end_time": "2022-12-02T21:49:47.228219",
     "exception": false,
     "start_time": "2022-12-02T21:49:47.156590",
     "status": "completed"
    },
    "tags": []
   },
   "outputs": [],
   "source": [
    "spredixcan_genes_n_models = spredixcan_dfs.groupby(\"gene_id\")[\"tissue\"].nunique()"
   ]
  },
  {
   "cell_type": "code",
   "execution_count": 72,
   "id": "31416d48-1e4d-463f-9a5c-34d29803c3f8",
   "metadata": {
    "execution": {
     "iopub.execute_input": "2022-12-02T21:49:47.254073Z",
     "iopub.status.busy": "2022-12-02T21:49:47.253885Z",
     "iopub.status.idle": "2022-12-02T21:49:47.266110Z",
     "shell.execute_reply": "2022-12-02T21:49:47.265724Z"
    },
    "papermill": {
     "duration": 0.02606,
     "end_time": "2022-12-02T21:49:47.266982",
     "exception": false,
     "start_time": "2022-12-02T21:49:47.240922",
     "status": "completed"
    },
    "tags": []
   },
   "outputs": [
    {
     "data": {
      "text/plain": [
       "gene_id\n",
       "ENSG00000000419     2\n",
       "ENSG00000000938    36\n",
       "ENSG00000000971    34\n",
       "ENSG00000001084    32\n",
       "ENSG00000001167    40\n",
       "                   ..\n",
       "ENSG00000278540    36\n",
       "ENSG00000278828     4\n",
       "ENSG00000278845    49\n",
       "ENSG00000281005    49\n",
       "ENSG00000282608    36\n",
       "Name: tissue, Length: 6443, dtype: int64"
      ]
     },
     "execution_count": 72,
     "metadata": {},
     "output_type": "execute_result"
    }
   ],
   "source": [
    "spredixcan_genes_n_models"
   ]
  },
  {
   "cell_type": "code",
   "execution_count": 73,
   "id": "d737ad4f-f821-4546-9a3e-6703fe264b49",
   "metadata": {
    "execution": {
     "iopub.execute_input": "2022-12-02T21:49:47.292744Z",
     "iopub.status.busy": "2022-12-02T21:49:47.292618Z",
     "iopub.status.idle": "2022-12-02T21:49:47.318063Z",
     "shell.execute_reply": "2022-12-02T21:49:47.317528Z"
    },
    "papermill": {
     "duration": 0.039504,
     "end_time": "2022-12-02T21:49:47.319521",
     "exception": false,
     "start_time": "2022-12-02T21:49:47.280017",
     "status": "completed"
    },
    "tags": []
   },
   "outputs": [],
   "source": [
    "# testing that in S-MultiXcan I get the same number of tissues per gene\n",
    "_tmp_smultixcan_results_n_models = (\n",
    "    smultixcan_results.set_index(\"gene_id\")[\"n\"].astype(int).rename(\"tissue\")\n",
    ")\n",
    "\n",
    "_cg = _tmp_smultixcan_results_n_models.index.intersection(\n",
    "    spredixcan_genes_n_models.index\n",
    ")\n",
    "_tmp_smultixcan_results_n_models = _tmp_smultixcan_results_n_models.loc[_cg]\n",
    "_spredixcan = spredixcan_genes_n_models.loc[_cg]\n",
    "\n",
    "assert _spredixcan.shape[0] == _tmp_smultixcan_results_n_models.shape[0]\n",
    "assert _spredixcan.equals(_tmp_smultixcan_results_n_models.loc[_spredixcan.index])"
   ]
  },
  {
   "cell_type": "markdown",
   "id": "904d7d30-9c2d-4c3e-b674-3f081954fe8b",
   "metadata": {
    "papermill": {
     "duration": 0.01834,
     "end_time": "2022-12-02T21:49:47.356975",
     "exception": false,
     "start_time": "2022-12-02T21:49:47.338635",
     "status": "completed"
    },
    "tags": []
   },
   "source": [
    "### Get tissues available per gene"
   ]
  },
  {
   "cell_type": "code",
   "execution_count": 74,
   "id": "cf014e81-4b4e-4c46-9265-67718b3ab08e",
   "metadata": {
    "execution": {
     "iopub.execute_input": "2022-12-02T21:49:47.389223Z",
     "iopub.status.busy": "2022-12-02T21:49:47.389031Z",
     "iopub.status.idle": "2022-12-02T21:49:47.494178Z",
     "shell.execute_reply": "2022-12-02T21:49:47.493757Z"
    },
    "papermill": {
     "duration": 0.119832,
     "end_time": "2022-12-02T21:49:47.495279",
     "exception": false,
     "start_time": "2022-12-02T21:49:47.375447",
     "status": "completed"
    },
    "tags": []
   },
   "outputs": [],
   "source": [
    "spredixcan_genes_models = spredixcan_dfs.groupby(\"gene_id\")[\"tissue\"].apply(\n",
    "    lambda x: frozenset(x.tolist())\n",
    ")"
   ]
  },
  {
   "cell_type": "code",
   "execution_count": 75,
   "id": "5df09d7f-39c9-408f-9fef-5189e8ca1c87",
   "metadata": {
    "execution": {
     "iopub.execute_input": "2022-12-02T21:49:47.520935Z",
     "iopub.status.busy": "2022-12-02T21:49:47.520795Z",
     "iopub.status.idle": "2022-12-02T21:49:47.534590Z",
     "shell.execute_reply": "2022-12-02T21:49:47.534211Z"
    },
    "papermill": {
     "duration": 0.027468,
     "end_time": "2022-12-02T21:49:47.535462",
     "exception": false,
     "start_time": "2022-12-02T21:49:47.507994",
     "status": "completed"
    },
    "tags": []
   },
   "outputs": [
    {
     "data": {
      "text/plain": [
       "gene_id\n",
       "ENSG00000000419         (Brain_Substantia_nigra, Brain_Hypothalamus)\n",
       "ENSG00000000938    (Lung, Muscle_Skeletal, Esophagus_Gastroesopha...\n",
       "ENSG00000000971    (Artery_Coronary, Lung, Esophagus_Gastroesopha...\n",
       "ENSG00000001084    (Artery_Coronary, Lung, Muscle_Skeletal, Brain...\n",
       "ENSG00000001167    (Artery_Coronary, Lung, Muscle_Skeletal, Esoph...\n",
       "                                         ...                        \n",
       "ENSG00000278540    (Esophagus_Gastroesophageal_Junction, Brain_Am...\n",
       "ENSG00000278828    (Cells_EBV-transformed_lymphocytes, Esophagus_...\n",
       "ENSG00000278845    (Artery_Coronary, Lung, Muscle_Skeletal, Esoph...\n",
       "ENSG00000281005    (Artery_Coronary, Lung, Muscle_Skeletal, Esoph...\n",
       "ENSG00000282608    (Artery_Coronary, Lung, Muscle_Skeletal, Esoph...\n",
       "Name: tissue, Length: 6443, dtype: object"
      ]
     },
     "execution_count": 75,
     "metadata": {},
     "output_type": "execute_result"
    }
   ],
   "source": [
    "spredixcan_genes_models"
   ]
  },
  {
   "cell_type": "code",
   "execution_count": 76,
   "id": "97c46886-5a48-4813-b890-1dcdb09ec09d",
   "metadata": {
    "execution": {
     "iopub.execute_input": "2022-12-02T21:49:47.561314Z",
     "iopub.status.busy": "2022-12-02T21:49:47.561150Z",
     "iopub.status.idle": "2022-12-02T21:49:47.572346Z",
     "shell.execute_reply": "2022-12-02T21:49:47.571977Z"
    },
    "papermill": {
     "duration": 0.02489,
     "end_time": "2022-12-02T21:49:47.573199",
     "exception": false,
     "start_time": "2022-12-02T21:49:47.548309",
     "status": "completed"
    },
    "tags": []
   },
   "outputs": [],
   "source": [
    "assert spredixcan_genes_n_models.shape[0] == spredixcan_genes_models.shape[0]"
   ]
  },
  {
   "cell_type": "code",
   "execution_count": 77,
   "id": "abc13913-a681-4297-a0e6-dde62f43c36f",
   "metadata": {
    "execution": {
     "iopub.execute_input": "2022-12-02T21:49:47.599083Z",
     "iopub.status.busy": "2022-12-02T21:49:47.598907Z",
     "iopub.status.idle": "2022-12-02T21:49:47.610262Z",
     "shell.execute_reply": "2022-12-02T21:49:47.609884Z"
    },
    "papermill": {
     "duration": 0.025118,
     "end_time": "2022-12-02T21:49:47.611139",
     "exception": false,
     "start_time": "2022-12-02T21:49:47.586021",
     "status": "completed"
    },
    "tags": []
   },
   "outputs": [],
   "source": [
    "assert spredixcan_genes_n_models.index.equals(spredixcan_genes_models.index)"
   ]
  },
  {
   "cell_type": "code",
   "execution_count": 78,
   "id": "995a02e7-b836-471b-b438-17c8c46e4fde",
   "metadata": {
    "execution": {
     "iopub.execute_input": "2022-12-02T21:49:47.636919Z",
     "iopub.status.busy": "2022-12-02T21:49:47.636750Z",
     "iopub.status.idle": "2022-12-02T21:49:47.648177Z",
     "shell.execute_reply": "2022-12-02T21:49:47.647800Z"
    },
    "papermill": {
     "duration": 0.025276,
     "end_time": "2022-12-02T21:49:47.649123",
     "exception": false,
     "start_time": "2022-12-02T21:49:47.623847",
     "status": "completed"
    },
    "tags": []
   },
   "outputs": [],
   "source": [
    "assert (spredixcan_genes_models.apply(len) <= len(prediction_model_tissues)).all()"
   ]
  },
  {
   "cell_type": "code",
   "execution_count": 79,
   "id": "0c1d0c68-1a06-480c-b6d6-d3c4fdf0f5aa",
   "metadata": {
    "execution": {
     "iopub.execute_input": "2022-12-02T21:49:47.675161Z",
     "iopub.status.busy": "2022-12-02T21:49:47.674992Z",
     "iopub.status.idle": "2022-12-02T21:49:47.689091Z",
     "shell.execute_reply": "2022-12-02T21:49:47.688680Z"
    },
    "papermill": {
     "duration": 0.027847,
     "end_time": "2022-12-02T21:49:47.689972",
     "exception": false,
     "start_time": "2022-12-02T21:49:47.662125",
     "status": "completed"
    },
    "tags": []
   },
   "outputs": [
    {
     "data": {
      "text/plain": [
       "count    6443.000000\n",
       "mean       36.589943\n",
       "std        12.865559\n",
       "min         1.000000\n",
       "25%        29.000000\n",
       "50%        42.000000\n",
       "75%        47.000000\n",
       "max        49.000000\n",
       "Name: tissue, dtype: float64"
      ]
     },
     "execution_count": 79,
     "metadata": {},
     "output_type": "execute_result"
    }
   ],
   "source": [
    "spredixcan_genes_models.apply(len).describe()"
   ]
  },
  {
   "cell_type": "code",
   "execution_count": 80,
   "id": "991b9441-6bb5-4b72-9285-5fd579875e40",
   "metadata": {
    "execution": {
     "iopub.execute_input": "2022-12-02T21:49:47.716140Z",
     "iopub.status.busy": "2022-12-02T21:49:47.715958Z",
     "iopub.status.idle": "2022-12-02T21:49:47.728848Z",
     "shell.execute_reply": "2022-12-02T21:49:47.728433Z"
    },
    "papermill": {
     "duration": 0.026756,
     "end_time": "2022-12-02T21:49:47.729776",
     "exception": false,
     "start_time": "2022-12-02T21:49:47.703020",
     "status": "completed"
    },
    "tags": []
   },
   "outputs": [],
   "source": [
    "# testing that I obtained the right number of tissues\n",
    "assert (\n",
    "    spredixcan_genes_models.loc[spredixcan_genes_n_models.index]\n",
    "    .apply(len)\n",
    "    .equals(spredixcan_genes_n_models)\n",
    ")"
   ]
  },
  {
   "cell_type": "markdown",
   "id": "3042b22d-9d88-4e21-b112-ab23cf8d24ea",
   "metadata": {
    "papermill": {
     "duration": 0.012451,
     "end_time": "2022-12-02T21:49:47.755516",
     "exception": false,
     "start_time": "2022-12-02T21:49:47.743065",
     "status": "completed"
    },
    "tags": []
   },
   "source": [
    "### Add gene name and set index"
   ]
  },
  {
   "cell_type": "code",
   "execution_count": 81,
   "id": "3b7b0e76-7aca-44bf-beff-5f1c1b6193ee",
   "metadata": {
    "execution": {
     "iopub.execute_input": "2022-12-02T21:49:47.781175Z",
     "iopub.status.busy": "2022-12-02T21:49:47.781038Z",
     "iopub.status.idle": "2022-12-02T21:49:47.791752Z",
     "shell.execute_reply": "2022-12-02T21:49:47.791373Z"
    },
    "papermill": {
     "duration": 0.024661,
     "end_time": "2022-12-02T21:49:47.792673",
     "exception": false,
     "start_time": "2022-12-02T21:49:47.768012",
     "status": "completed"
    },
    "tags": []
   },
   "outputs": [],
   "source": [
    "spredixcan_genes_models = spredixcan_genes_models.to_frame().reset_index()"
   ]
  },
  {
   "cell_type": "code",
   "execution_count": 82,
   "id": "ffab4b61-c2d4-4bcc-a147-23a4bf30f715",
   "metadata": {
    "execution": {
     "iopub.execute_input": "2022-12-02T21:49:47.818939Z",
     "iopub.status.busy": "2022-12-02T21:49:47.818768Z",
     "iopub.status.idle": "2022-12-02T21:49:47.832468Z",
     "shell.execute_reply": "2022-12-02T21:49:47.832093Z"
    },
    "papermill": {
     "duration": 0.027602,
     "end_time": "2022-12-02T21:49:47.833364",
     "exception": false,
     "start_time": "2022-12-02T21:49:47.805762",
     "status": "completed"
    },
    "tags": []
   },
   "outputs": [
    {
     "data": {
      "text/html": [
       "<div>\n",
       "<style scoped>\n",
       "    .dataframe tbody tr th:only-of-type {\n",
       "        vertical-align: middle;\n",
       "    }\n",
       "\n",
       "    .dataframe tbody tr th {\n",
       "        vertical-align: top;\n",
       "    }\n",
       "\n",
       "    .dataframe thead th {\n",
       "        text-align: right;\n",
       "    }\n",
       "</style>\n",
       "<table border=\"1\" class=\"dataframe\">\n",
       "  <thead>\n",
       "    <tr style=\"text-align: right;\">\n",
       "      <th></th>\n",
       "      <th>gene_id</th>\n",
       "      <th>tissue</th>\n",
       "    </tr>\n",
       "  </thead>\n",
       "  <tbody>\n",
       "    <tr>\n",
       "      <th>0</th>\n",
       "      <td>ENSG00000000419</td>\n",
       "      <td>(Brain_Substantia_nigra, Brain_Hypothalamus)</td>\n",
       "    </tr>\n",
       "    <tr>\n",
       "      <th>1</th>\n",
       "      <td>ENSG00000000938</td>\n",
       "      <td>(Lung, Muscle_Skeletal, Esophagus_Gastroesopha...</td>\n",
       "    </tr>\n",
       "    <tr>\n",
       "      <th>2</th>\n",
       "      <td>ENSG00000000971</td>\n",
       "      <td>(Artery_Coronary, Lung, Esophagus_Gastroesopha...</td>\n",
       "    </tr>\n",
       "    <tr>\n",
       "      <th>3</th>\n",
       "      <td>ENSG00000001084</td>\n",
       "      <td>(Artery_Coronary, Lung, Muscle_Skeletal, Brain...</td>\n",
       "    </tr>\n",
       "    <tr>\n",
       "      <th>4</th>\n",
       "      <td>ENSG00000001167</td>\n",
       "      <td>(Artery_Coronary, Lung, Muscle_Skeletal, Esoph...</td>\n",
       "    </tr>\n",
       "  </tbody>\n",
       "</table>\n",
       "</div>"
      ],
      "text/plain": [
       "           gene_id                                             tissue\n",
       "0  ENSG00000000419       (Brain_Substantia_nigra, Brain_Hypothalamus)\n",
       "1  ENSG00000000938  (Lung, Muscle_Skeletal, Esophagus_Gastroesopha...\n",
       "2  ENSG00000000971  (Artery_Coronary, Lung, Esophagus_Gastroesopha...\n",
       "3  ENSG00000001084  (Artery_Coronary, Lung, Muscle_Skeletal, Brain...\n",
       "4  ENSG00000001167  (Artery_Coronary, Lung, Muscle_Skeletal, Esoph..."
      ]
     },
     "execution_count": 82,
     "metadata": {},
     "output_type": "execute_result"
    }
   ],
   "source": [
    "spredixcan_genes_models.head()"
   ]
  },
  {
   "cell_type": "code",
   "execution_count": 83,
   "id": "e1cb2fe5-969f-4526-bca7-a3b8919b3509",
   "metadata": {
    "execution": {
     "iopub.execute_input": "2022-12-02T21:49:47.859812Z",
     "iopub.status.busy": "2022-12-02T21:49:47.859637Z",
     "iopub.status.idle": "2022-12-02T21:49:47.873046Z",
     "shell.execute_reply": "2022-12-02T21:49:47.872640Z"
    },
    "papermill": {
     "duration": 0.027627,
     "end_time": "2022-12-02T21:49:47.874050",
     "exception": false,
     "start_time": "2022-12-02T21:49:47.846423",
     "status": "completed"
    },
    "tags": []
   },
   "outputs": [],
   "source": [
    "spredixcan_genes_models = spredixcan_genes_models.assign(\n",
    "    gene_name=spredixcan_genes_models[\"gene_id\"].apply(\n",
    "        lambda g: Gene.GENE_ID_TO_NAME_MAP[g]\n",
    "    )\n",
    ")"
   ]
  },
  {
   "cell_type": "code",
   "execution_count": 84,
   "id": "ff078ce5-3f18-442e-a593-3326436c758e",
   "metadata": {
    "execution": {
     "iopub.execute_input": "2022-12-02T21:49:47.900551Z",
     "iopub.status.busy": "2022-12-02T21:49:47.900372Z",
     "iopub.status.idle": "2022-12-02T21:49:47.911754Z",
     "shell.execute_reply": "2022-12-02T21:49:47.911391Z"
    },
    "papermill": {
     "duration": 0.026129,
     "end_time": "2022-12-02T21:49:47.913268",
     "exception": false,
     "start_time": "2022-12-02T21:49:47.887139",
     "status": "completed"
    },
    "tags": []
   },
   "outputs": [],
   "source": [
    "spredixcan_genes_models = spredixcan_genes_models[[\"gene_id\", \"gene_name\", \"tissue\"]]"
   ]
  },
  {
   "cell_type": "code",
   "execution_count": 85,
   "id": "a65c8bf2-5ecd-4f80-a857-11f8a0c019c4",
   "metadata": {
    "execution": {
     "iopub.execute_input": "2022-12-02T21:49:47.957315Z",
     "iopub.status.busy": "2022-12-02T21:49:47.957164Z",
     "iopub.status.idle": "2022-12-02T21:49:47.974482Z",
     "shell.execute_reply": "2022-12-02T21:49:47.973831Z"
    },
    "papermill": {
     "duration": 0.036225,
     "end_time": "2022-12-02T21:49:47.975566",
     "exception": false,
     "start_time": "2022-12-02T21:49:47.939341",
     "status": "completed"
    },
    "tags": []
   },
   "outputs": [],
   "source": [
    "spredixcan_genes_models = spredixcan_genes_models.set_index(\"gene_id\")"
   ]
  },
  {
   "cell_type": "code",
   "execution_count": 86,
   "id": "af6b40b9-fc58-47a1-a1b5-4404034b008b",
   "metadata": {
    "execution": {
     "iopub.execute_input": "2022-12-02T21:49:48.002536Z",
     "iopub.status.busy": "2022-12-02T21:49:48.002035Z",
     "iopub.status.idle": "2022-12-02T21:49:48.025059Z",
     "shell.execute_reply": "2022-12-02T21:49:48.024367Z"
    },
    "papermill": {
     "duration": 0.037366,
     "end_time": "2022-12-02T21:49:48.025919",
     "exception": false,
     "start_time": "2022-12-02T21:49:47.988553",
     "status": "completed"
    },
    "tags": []
   },
   "outputs": [
    {
     "data": {
      "text/html": [
       "<div>\n",
       "<style scoped>\n",
       "    .dataframe tbody tr th:only-of-type {\n",
       "        vertical-align: middle;\n",
       "    }\n",
       "\n",
       "    .dataframe tbody tr th {\n",
       "        vertical-align: top;\n",
       "    }\n",
       "\n",
       "    .dataframe thead th {\n",
       "        text-align: right;\n",
       "    }\n",
       "</style>\n",
       "<table border=\"1\" class=\"dataframe\">\n",
       "  <thead>\n",
       "    <tr style=\"text-align: right;\">\n",
       "      <th></th>\n",
       "      <th>gene_name</th>\n",
       "      <th>tissue</th>\n",
       "    </tr>\n",
       "    <tr>\n",
       "      <th>gene_id</th>\n",
       "      <th></th>\n",
       "      <th></th>\n",
       "    </tr>\n",
       "  </thead>\n",
       "  <tbody>\n",
       "    <tr>\n",
       "      <th>ENSG00000000419</th>\n",
       "      <td>DPM1</td>\n",
       "      <td>(Brain_Substantia_nigra, Brain_Hypothalamus)</td>\n",
       "    </tr>\n",
       "    <tr>\n",
       "      <th>ENSG00000000938</th>\n",
       "      <td>FGR</td>\n",
       "      <td>(Lung, Muscle_Skeletal, Esophagus_Gastroesopha...</td>\n",
       "    </tr>\n",
       "    <tr>\n",
       "      <th>ENSG00000000971</th>\n",
       "      <td>CFH</td>\n",
       "      <td>(Artery_Coronary, Lung, Esophagus_Gastroesopha...</td>\n",
       "    </tr>\n",
       "    <tr>\n",
       "      <th>ENSG00000001084</th>\n",
       "      <td>GCLC</td>\n",
       "      <td>(Artery_Coronary, Lung, Muscle_Skeletal, Brain...</td>\n",
       "    </tr>\n",
       "    <tr>\n",
       "      <th>ENSG00000001167</th>\n",
       "      <td>NFYA</td>\n",
       "      <td>(Artery_Coronary, Lung, Muscle_Skeletal, Esoph...</td>\n",
       "    </tr>\n",
       "  </tbody>\n",
       "</table>\n",
       "</div>"
      ],
      "text/plain": [
       "                gene_name                                             tissue\n",
       "gene_id                                                                     \n",
       "ENSG00000000419      DPM1       (Brain_Substantia_nigra, Brain_Hypothalamus)\n",
       "ENSG00000000938       FGR  (Lung, Muscle_Skeletal, Esophagus_Gastroesopha...\n",
       "ENSG00000000971       CFH  (Artery_Coronary, Lung, Esophagus_Gastroesopha...\n",
       "ENSG00000001084      GCLC  (Artery_Coronary, Lung, Muscle_Skeletal, Brain...\n",
       "ENSG00000001167      NFYA  (Artery_Coronary, Lung, Muscle_Skeletal, Esoph..."
      ]
     },
     "execution_count": 86,
     "metadata": {},
     "output_type": "execute_result"
    }
   ],
   "source": [
    "spredixcan_genes_models.head()"
   ]
  },
  {
   "cell_type": "markdown",
   "id": "d1e67be9-9094-4a07-b89d-3a0815d503e6",
   "metadata": {
    "papermill": {
     "duration": 0.012849,
     "end_time": "2022-12-02T21:49:48.051996",
     "exception": false,
     "start_time": "2022-12-02T21:49:48.039147",
     "status": "completed"
    },
    "tags": []
   },
   "source": [
    "### Add number of tissues"
   ]
  },
  {
   "cell_type": "code",
   "execution_count": 87,
   "id": "b2702bdb-b3bc-48e6-9c3e-855924d9e74b",
   "metadata": {
    "execution": {
     "iopub.execute_input": "2022-12-02T21:49:48.078270Z",
     "iopub.status.busy": "2022-12-02T21:49:48.078046Z",
     "iopub.status.idle": "2022-12-02T21:49:48.097709Z",
     "shell.execute_reply": "2022-12-02T21:49:48.097186Z"
    },
    "papermill": {
     "duration": 0.034058,
     "end_time": "2022-12-02T21:49:48.098714",
     "exception": false,
     "start_time": "2022-12-02T21:49:48.064656",
     "status": "completed"
    },
    "tags": []
   },
   "outputs": [],
   "source": [
    "spredixcan_genes_models = spredixcan_genes_models.assign(\n",
    "    n_tissues=spredixcan_genes_models[\"tissue\"].apply(len)\n",
    ")"
   ]
  },
  {
   "cell_type": "code",
   "execution_count": 88,
   "id": "4a5eb4b8-5e11-45a3-a991-0515bd83fc03",
   "metadata": {
    "execution": {
     "iopub.execute_input": "2022-12-02T21:49:48.125824Z",
     "iopub.status.busy": "2022-12-02T21:49:48.125555Z",
     "iopub.status.idle": "2022-12-02T21:49:48.147964Z",
     "shell.execute_reply": "2022-12-02T21:49:48.147474Z"
    },
    "papermill": {
     "duration": 0.036858,
     "end_time": "2022-12-02T21:49:48.148884",
     "exception": false,
     "start_time": "2022-12-02T21:49:48.112026",
     "status": "completed"
    },
    "tags": []
   },
   "outputs": [
    {
     "data": {
      "text/html": [
       "<div>\n",
       "<style scoped>\n",
       "    .dataframe tbody tr th:only-of-type {\n",
       "        vertical-align: middle;\n",
       "    }\n",
       "\n",
       "    .dataframe tbody tr th {\n",
       "        vertical-align: top;\n",
       "    }\n",
       "\n",
       "    .dataframe thead th {\n",
       "        text-align: right;\n",
       "    }\n",
       "</style>\n",
       "<table border=\"1\" class=\"dataframe\">\n",
       "  <thead>\n",
       "    <tr style=\"text-align: right;\">\n",
       "      <th></th>\n",
       "      <th>gene_name</th>\n",
       "      <th>tissue</th>\n",
       "      <th>n_tissues</th>\n",
       "    </tr>\n",
       "    <tr>\n",
       "      <th>gene_id</th>\n",
       "      <th></th>\n",
       "      <th></th>\n",
       "      <th></th>\n",
       "    </tr>\n",
       "  </thead>\n",
       "  <tbody>\n",
       "    <tr>\n",
       "      <th>ENSG00000000419</th>\n",
       "      <td>DPM1</td>\n",
       "      <td>(Brain_Substantia_nigra, Brain_Hypothalamus)</td>\n",
       "      <td>2</td>\n",
       "    </tr>\n",
       "    <tr>\n",
       "      <th>ENSG00000000938</th>\n",
       "      <td>FGR</td>\n",
       "      <td>(Lung, Muscle_Skeletal, Esophagus_Gastroesopha...</td>\n",
       "      <td>36</td>\n",
       "    </tr>\n",
       "    <tr>\n",
       "      <th>ENSG00000000971</th>\n",
       "      <td>CFH</td>\n",
       "      <td>(Artery_Coronary, Lung, Esophagus_Gastroesopha...</td>\n",
       "      <td>34</td>\n",
       "    </tr>\n",
       "    <tr>\n",
       "      <th>ENSG00000001084</th>\n",
       "      <td>GCLC</td>\n",
       "      <td>(Artery_Coronary, Lung, Muscle_Skeletal, Brain...</td>\n",
       "      <td>32</td>\n",
       "    </tr>\n",
       "    <tr>\n",
       "      <th>ENSG00000001167</th>\n",
       "      <td>NFYA</td>\n",
       "      <td>(Artery_Coronary, Lung, Muscle_Skeletal, Esoph...</td>\n",
       "      <td>40</td>\n",
       "    </tr>\n",
       "  </tbody>\n",
       "</table>\n",
       "</div>"
      ],
      "text/plain": [
       "                gene_name                                             tissue  \\\n",
       "gene_id                                                                        \n",
       "ENSG00000000419      DPM1       (Brain_Substantia_nigra, Brain_Hypothalamus)   \n",
       "ENSG00000000938       FGR  (Lung, Muscle_Skeletal, Esophagus_Gastroesopha...   \n",
       "ENSG00000000971       CFH  (Artery_Coronary, Lung, Esophagus_Gastroesopha...   \n",
       "ENSG00000001084      GCLC  (Artery_Coronary, Lung, Muscle_Skeletal, Brain...   \n",
       "ENSG00000001167      NFYA  (Artery_Coronary, Lung, Muscle_Skeletal, Esoph...   \n",
       "\n",
       "                 n_tissues  \n",
       "gene_id                     \n",
       "ENSG00000000419          2  \n",
       "ENSG00000000938         36  \n",
       "ENSG00000000971         34  \n",
       "ENSG00000001084         32  \n",
       "ENSG00000001167         40  "
      ]
     },
     "execution_count": 88,
     "metadata": {},
     "output_type": "execute_result"
    }
   ],
   "source": [
    "spredixcan_genes_models.head()"
   ]
  },
  {
   "cell_type": "markdown",
   "id": "2abce820-1cb4-4a58-9dc5-b3e37d3ff037",
   "metadata": {
    "papermill": {
     "duration": 0.013013,
     "end_time": "2022-12-02T21:49:48.175164",
     "exception": false,
     "start_time": "2022-12-02T21:49:48.162151",
     "status": "completed"
    },
    "tags": []
   },
   "source": [
    "### Save"
   ]
  },
  {
   "cell_type": "markdown",
   "id": "28462e2a-da49-44c4-ae71-b3830a2b108f",
   "metadata": {
    "papermill": {
     "duration": 0.013,
     "end_time": "2022-12-02T21:49:48.201136",
     "exception": false,
     "start_time": "2022-12-02T21:49:48.188136",
     "status": "completed"
    },
    "tags": []
   },
   "source": [
    "Here I quickly save these results to a file, given that the next steps (covariates) are slow to compute."
   ]
  },
  {
   "cell_type": "code",
   "execution_count": 89,
   "id": "9cfb687d-5ab2-4e85-9944-f5c685de8046",
   "metadata": {
    "execution": {
     "iopub.execute_input": "2022-12-02T21:49:48.227984Z",
     "iopub.status.busy": "2022-12-02T21:49:48.227610Z",
     "iopub.status.idle": "2022-12-02T21:49:48.245499Z",
     "shell.execute_reply": "2022-12-02T21:49:48.244966Z"
    },
    "papermill": {
     "duration": 0.032473,
     "end_time": "2022-12-02T21:49:48.246509",
     "exception": false,
     "start_time": "2022-12-02T21:49:48.214036",
     "status": "completed"
    },
    "tags": []
   },
   "outputs": [],
   "source": [
    "# this is important, other scripts depend on gene_name to be unique\n",
    "assert spredixcan_genes_models[\"gene_name\"].is_unique"
   ]
  },
  {
   "cell_type": "code",
   "execution_count": 90,
   "id": "b2d9bd26-afaa-4aff-a707-3109e13af9bb",
   "metadata": {
    "execution": {
     "iopub.execute_input": "2022-12-02T21:49:48.274067Z",
     "iopub.status.busy": "2022-12-02T21:49:48.273699Z",
     "iopub.status.idle": "2022-12-02T21:49:48.293083Z",
     "shell.execute_reply": "2022-12-02T21:49:48.292559Z"
    },
    "papermill": {
     "duration": 0.034034,
     "end_time": "2022-12-02T21:49:48.294066",
     "exception": false,
     "start_time": "2022-12-02T21:49:48.260032",
     "status": "completed"
    },
    "tags": []
   },
   "outputs": [],
   "source": [
    "assert not spredixcan_genes_models.isna().any(axis=None)"
   ]
  },
  {
   "cell_type": "code",
   "execution_count": 91,
   "id": "074b103c-2960-4299-a3ac-fa37ab6f2784",
   "metadata": {
    "execution": {
     "iopub.execute_input": "2022-12-02T21:49:48.321665Z",
     "iopub.status.busy": "2022-12-02T21:49:48.321306Z",
     "iopub.status.idle": "2022-12-02T21:49:48.353406Z",
     "shell.execute_reply": "2022-12-02T21:49:48.352859Z"
    },
    "papermill": {
     "duration": 0.046844,
     "end_time": "2022-12-02T21:49:48.354523",
     "exception": false,
     "start_time": "2022-12-02T21:49:48.307679",
     "status": "completed"
    },
    "tags": []
   },
   "outputs": [],
   "source": [
    "spredixcan_genes_models.to_pickle(OUTPUT_DIR_BASE / \"gene_tissues.pkl\")"
   ]
  },
  {
   "cell_type": "markdown",
   "id": "ae18f693-4da8-48ae-85b6-8194abcca684",
   "metadata": {
    "papermill": {
     "duration": 0.013084,
     "end_time": "2022-12-02T21:49:48.381188",
     "exception": false,
     "start_time": "2022-12-02T21:49:48.368104",
     "status": "completed"
    },
    "tags": []
   },
   "source": [
    "## Add covariates based on S-PrediXcan results"
   ]
  },
  {
   "cell_type": "markdown",
   "id": "bed7a46c-4906-40b9-9dd8-0bfb584e6d2a",
   "metadata": {
    "papermill": {
     "duration": 0.012908,
     "end_time": "2022-12-02T21:49:48.407227",
     "exception": false,
     "start_time": "2022-12-02T21:49:48.394319",
     "status": "completed"
    },
    "tags": []
   },
   "source": [
    "This extend the previous file with more columns"
   ]
  },
  {
   "cell_type": "markdown",
   "id": "850c554f-2ace-40a3-a33a-477246bb07c7",
   "metadata": {
    "papermill": {
     "duration": 0.012832,
     "end_time": "2022-12-02T21:49:48.433078",
     "exception": false,
     "start_time": "2022-12-02T21:49:48.420246",
     "status": "completed"
    },
    "tags": []
   },
   "source": [
    "### Get gene's objects"
   ]
  },
  {
   "cell_type": "code",
   "execution_count": 92,
   "id": "dfd93711-5c91-4cb6-8561-f366e270b6b1",
   "metadata": {
    "execution": {
     "iopub.execute_input": "2022-12-02T21:49:48.460243Z",
     "iopub.status.busy": "2022-12-02T21:49:48.459851Z",
     "iopub.status.idle": "2022-12-02T21:49:48.489551Z",
     "shell.execute_reply": "2022-12-02T21:49:48.488991Z"
    },
    "papermill": {
     "duration": 0.044566,
     "end_time": "2022-12-02T21:49:48.490718",
     "exception": false,
     "start_time": "2022-12-02T21:49:48.446152",
     "status": "completed"
    },
    "tags": []
   },
   "outputs": [],
   "source": [
    "spredixcan_gene_obj = {\n",
    "    gene_id: Gene(ensembl_id=gene_id) for gene_id in spredixcan_genes_models.index\n",
    "}"
   ]
  },
  {
   "cell_type": "code",
   "execution_count": 93,
   "id": "59efbedc-0b5d-4d0b-bd82-95e74c0ba793",
   "metadata": {
    "execution": {
     "iopub.execute_input": "2022-12-02T21:49:48.518619Z",
     "iopub.status.busy": "2022-12-02T21:49:48.518339Z",
     "iopub.status.idle": "2022-12-02T21:49:48.535832Z",
     "shell.execute_reply": "2022-12-02T21:49:48.535353Z"
    },
    "papermill": {
     "duration": 0.032261,
     "end_time": "2022-12-02T21:49:48.536731",
     "exception": false,
     "start_time": "2022-12-02T21:49:48.504470",
     "status": "completed"
    },
    "tags": []
   },
   "outputs": [
    {
     "data": {
      "text/plain": [
       "6443"
      ]
     },
     "execution_count": 93,
     "metadata": {},
     "output_type": "execute_result"
    }
   ],
   "source": [
    "len(spredixcan_gene_obj)"
   ]
  },
  {
   "cell_type": "markdown",
   "id": "ab6ff41a-0949-4eea-abef-7dc4f0b373fc",
   "metadata": {
    "papermill": {
     "duration": 0.013231,
     "end_time": "2022-12-02T21:49:48.563489",
     "exception": false,
     "start_time": "2022-12-02T21:49:48.550258",
     "status": "completed"
    },
    "tags": []
   },
   "source": [
    "### Count number of SNPs predictors used across tissue models"
   ]
  },
  {
   "cell_type": "code",
   "execution_count": 94,
   "id": "c8f6cc6f-5812-45c9-b775-6f2193f8a360",
   "metadata": {
    "execution": {
     "iopub.execute_input": "2022-12-02T21:49:48.590545Z",
     "iopub.status.busy": "2022-12-02T21:49:48.590187Z",
     "iopub.status.idle": "2022-12-02T21:49:48.644213Z",
     "shell.execute_reply": "2022-12-02T21:49:48.643641Z"
    },
    "papermill": {
     "duration": 0.068863,
     "end_time": "2022-12-02T21:49:48.645382",
     "exception": false,
     "start_time": "2022-12-02T21:49:48.576519",
     "status": "completed"
    },
    "tags": []
   },
   "outputs": [],
   "source": [
    "spredixcan_genes_sum_of_n_snps_used = (\n",
    "    spredixcan_dfs.groupby(\"gene_id\")[\"n_snps_used\"].sum().rename(\"n_snps_used_sum\")\n",
    ")"
   ]
  },
  {
   "cell_type": "code",
   "execution_count": 95,
   "id": "7255df64-7b9f-4504-a4fa-1f2a9aa56ec0",
   "metadata": {
    "execution": {
     "iopub.execute_input": "2022-12-02T21:49:48.672874Z",
     "iopub.status.busy": "2022-12-02T21:49:48.672595Z",
     "iopub.status.idle": "2022-12-02T21:49:48.692580Z",
     "shell.execute_reply": "2022-12-02T21:49:48.692091Z"
    },
    "papermill": {
     "duration": 0.034486,
     "end_time": "2022-12-02T21:49:48.693440",
     "exception": false,
     "start_time": "2022-12-02T21:49:48.658954",
     "status": "completed"
    },
    "tags": []
   },
   "outputs": [
    {
     "data": {
      "text/plain": [
       "gene_id\n",
       "ENSG00000000419     2\n",
       "ENSG00000000938    40\n",
       "ENSG00000000971    44\n",
       "ENSG00000001084    46\n",
       "ENSG00000001167    47\n",
       "                   ..\n",
       "ENSG00000278540    44\n",
       "ENSG00000278828     5\n",
       "ENSG00000278845    89\n",
       "ENSG00000281005    81\n",
       "ENSG00000282608    40\n",
       "Name: n_snps_used_sum, Length: 6443, dtype: int64"
      ]
     },
     "execution_count": 95,
     "metadata": {},
     "output_type": "execute_result"
    }
   ],
   "source": [
    "spredixcan_genes_sum_of_n_snps_used"
   ]
  },
  {
   "cell_type": "code",
   "execution_count": 96,
   "id": "44bc1222-b334-4ce2-8997-494d0e584cf9",
   "metadata": {
    "execution": {
     "iopub.execute_input": "2022-12-02T21:49:48.721110Z",
     "iopub.status.busy": "2022-12-02T21:49:48.720825Z",
     "iopub.status.idle": "2022-12-02T21:49:48.741619Z",
     "shell.execute_reply": "2022-12-02T21:49:48.741097Z"
    },
    "papermill": {
     "duration": 0.035566,
     "end_time": "2022-12-02T21:49:48.742626",
     "exception": false,
     "start_time": "2022-12-02T21:49:48.707060",
     "status": "completed"
    },
    "tags": []
   },
   "outputs": [],
   "source": [
    "# add sum of snps used to spredixcan_genes_models\n",
    "spredixcan_genes_models = spredixcan_genes_models.join(\n",
    "    spredixcan_genes_sum_of_n_snps_used\n",
    ")"
   ]
  },
  {
   "cell_type": "code",
   "execution_count": 97,
   "id": "5e5e6d7f-b970-4f21-9322-b76bc22afd71",
   "metadata": {
    "execution": {
     "iopub.execute_input": "2022-12-02T21:49:48.770815Z",
     "iopub.status.busy": "2022-12-02T21:49:48.770545Z",
     "iopub.status.idle": "2022-12-02T21:49:48.787945Z",
     "shell.execute_reply": "2022-12-02T21:49:48.787462Z"
    },
    "papermill": {
     "duration": 0.032159,
     "end_time": "2022-12-02T21:49:48.788799",
     "exception": false,
     "start_time": "2022-12-02T21:49:48.756640",
     "status": "completed"
    },
    "tags": []
   },
   "outputs": [
    {
     "data": {
      "text/plain": [
       "(6443, 4)"
      ]
     },
     "execution_count": 97,
     "metadata": {},
     "output_type": "execute_result"
    }
   ],
   "source": [
    "spredixcan_genes_models.shape"
   ]
  },
  {
   "cell_type": "code",
   "execution_count": 98,
   "id": "22c096c2-213a-4001-8454-1633997d404f",
   "metadata": {
    "execution": {
     "iopub.execute_input": "2022-12-02T21:49:48.816910Z",
     "iopub.status.busy": "2022-12-02T21:49:48.816403Z",
     "iopub.status.idle": "2022-12-02T21:49:48.839061Z",
     "shell.execute_reply": "2022-12-02T21:49:48.838568Z"
    },
    "papermill": {
     "duration": 0.037453,
     "end_time": "2022-12-02T21:49:48.839914",
     "exception": false,
     "start_time": "2022-12-02T21:49:48.802461",
     "status": "completed"
    },
    "tags": []
   },
   "outputs": [
    {
     "data": {
      "text/html": [
       "<div>\n",
       "<style scoped>\n",
       "    .dataframe tbody tr th:only-of-type {\n",
       "        vertical-align: middle;\n",
       "    }\n",
       "\n",
       "    .dataframe tbody tr th {\n",
       "        vertical-align: top;\n",
       "    }\n",
       "\n",
       "    .dataframe thead th {\n",
       "        text-align: right;\n",
       "    }\n",
       "</style>\n",
       "<table border=\"1\" class=\"dataframe\">\n",
       "  <thead>\n",
       "    <tr style=\"text-align: right;\">\n",
       "      <th></th>\n",
       "      <th>gene_name</th>\n",
       "      <th>tissue</th>\n",
       "      <th>n_tissues</th>\n",
       "      <th>n_snps_used_sum</th>\n",
       "    </tr>\n",
       "    <tr>\n",
       "      <th>gene_id</th>\n",
       "      <th></th>\n",
       "      <th></th>\n",
       "      <th></th>\n",
       "      <th></th>\n",
       "    </tr>\n",
       "  </thead>\n",
       "  <tbody>\n",
       "    <tr>\n",
       "      <th>ENSG00000000419</th>\n",
       "      <td>DPM1</td>\n",
       "      <td>(Brain_Substantia_nigra, Brain_Hypothalamus)</td>\n",
       "      <td>2</td>\n",
       "      <td>2</td>\n",
       "    </tr>\n",
       "    <tr>\n",
       "      <th>ENSG00000000938</th>\n",
       "      <td>FGR</td>\n",
       "      <td>(Lung, Muscle_Skeletal, Esophagus_Gastroesopha...</td>\n",
       "      <td>36</td>\n",
       "      <td>40</td>\n",
       "    </tr>\n",
       "    <tr>\n",
       "      <th>ENSG00000000971</th>\n",
       "      <td>CFH</td>\n",
       "      <td>(Artery_Coronary, Lung, Esophagus_Gastroesopha...</td>\n",
       "      <td>34</td>\n",
       "      <td>44</td>\n",
       "    </tr>\n",
       "    <tr>\n",
       "      <th>ENSG00000001084</th>\n",
       "      <td>GCLC</td>\n",
       "      <td>(Artery_Coronary, Lung, Muscle_Skeletal, Brain...</td>\n",
       "      <td>32</td>\n",
       "      <td>46</td>\n",
       "    </tr>\n",
       "    <tr>\n",
       "      <th>ENSG00000001167</th>\n",
       "      <td>NFYA</td>\n",
       "      <td>(Artery_Coronary, Lung, Muscle_Skeletal, Esoph...</td>\n",
       "      <td>40</td>\n",
       "      <td>47</td>\n",
       "    </tr>\n",
       "  </tbody>\n",
       "</table>\n",
       "</div>"
      ],
      "text/plain": [
       "                gene_name                                             tissue  \\\n",
       "gene_id                                                                        \n",
       "ENSG00000000419      DPM1       (Brain_Substantia_nigra, Brain_Hypothalamus)   \n",
       "ENSG00000000938       FGR  (Lung, Muscle_Skeletal, Esophagus_Gastroesopha...   \n",
       "ENSG00000000971       CFH  (Artery_Coronary, Lung, Esophagus_Gastroesopha...   \n",
       "ENSG00000001084      GCLC  (Artery_Coronary, Lung, Muscle_Skeletal, Brain...   \n",
       "ENSG00000001167      NFYA  (Artery_Coronary, Lung, Muscle_Skeletal, Esoph...   \n",
       "\n",
       "                 n_tissues  n_snps_used_sum  \n",
       "gene_id                                      \n",
       "ENSG00000000419          2                2  \n",
       "ENSG00000000938         36               40  \n",
       "ENSG00000000971         34               44  \n",
       "ENSG00000001084         32               46  \n",
       "ENSG00000001167         40               47  "
      ]
     },
     "execution_count": 98,
     "metadata": {},
     "output_type": "execute_result"
    }
   ],
   "source": [
    "spredixcan_genes_models.head()"
   ]
  },
  {
   "cell_type": "markdown",
   "id": "f4692315-d7be-465e-b756-f6d76fec949e",
   "metadata": {
    "papermill": {
     "duration": 0.013369,
     "end_time": "2022-12-02T21:49:48.867212",
     "exception": false,
     "start_time": "2022-12-02T21:49:48.853843",
     "status": "completed"
    },
    "tags": []
   },
   "source": [
    "### Count number of SNPs predictors in models across tissue models"
   ]
  },
  {
   "cell_type": "code",
   "execution_count": 99,
   "id": "08eed385-36eb-4e42-b28e-51333f9cfcd3",
   "metadata": {
    "execution": {
     "iopub.execute_input": "2022-12-02T21:49:48.894904Z",
     "iopub.status.busy": "2022-12-02T21:49:48.894564Z",
     "iopub.status.idle": "2022-12-02T21:49:48.948482Z",
     "shell.execute_reply": "2022-12-02T21:49:48.947935Z"
    },
    "papermill": {
     "duration": 0.069429,
     "end_time": "2022-12-02T21:49:48.950026",
     "exception": false,
     "start_time": "2022-12-02T21:49:48.880597",
     "status": "completed"
    },
    "tags": []
   },
   "outputs": [],
   "source": [
    "spredixcan_genes_sum_of_n_snps_in_model = (\n",
    "    spredixcan_dfs.groupby(\"gene_id\")[\"n_snps_in_model\"]\n",
    "    .sum()\n",
    "    .rename(\"n_snps_in_model_sum\")\n",
    ")"
   ]
  },
  {
   "cell_type": "code",
   "execution_count": 100,
   "id": "10431f5c-1f56-4664-a09f-53c608bec631",
   "metadata": {
    "execution": {
     "iopub.execute_input": "2022-12-02T21:49:48.979409Z",
     "iopub.status.busy": "2022-12-02T21:49:48.979188Z",
     "iopub.status.idle": "2022-12-02T21:49:48.999102Z",
     "shell.execute_reply": "2022-12-02T21:49:48.998610Z"
    },
    "papermill": {
     "duration": 0.034891,
     "end_time": "2022-12-02T21:49:48.999956",
     "exception": false,
     "start_time": "2022-12-02T21:49:48.965065",
     "status": "completed"
    },
    "tags": []
   },
   "outputs": [
    {
     "data": {
      "text/plain": [
       "gene_id\n",
       "ENSG00000000419     2\n",
       "ENSG00000000938    40\n",
       "ENSG00000000971    44\n",
       "ENSG00000001084    46\n",
       "ENSG00000001167    48\n",
       "                   ..\n",
       "ENSG00000278540    44\n",
       "ENSG00000278828     5\n",
       "ENSG00000278845    91\n",
       "ENSG00000281005    81\n",
       "ENSG00000282608    40\n",
       "Name: n_snps_in_model_sum, Length: 6443, dtype: int64"
      ]
     },
     "execution_count": 100,
     "metadata": {},
     "output_type": "execute_result"
    }
   ],
   "source": [
    "spredixcan_genes_sum_of_n_snps_in_model"
   ]
  },
  {
   "cell_type": "code",
   "execution_count": 101,
   "id": "d13e1d65-0dcb-4a94-aba8-bcdcd09d17c3",
   "metadata": {
    "execution": {
     "iopub.execute_input": "2022-12-02T21:49:49.032900Z",
     "iopub.status.busy": "2022-12-02T21:49:49.032581Z",
     "iopub.status.idle": "2022-12-02T21:49:49.052516Z",
     "shell.execute_reply": "2022-12-02T21:49:49.051981Z"
    },
    "papermill": {
     "duration": 0.037603,
     "end_time": "2022-12-02T21:49:49.053530",
     "exception": false,
     "start_time": "2022-12-02T21:49:49.015927",
     "status": "completed"
    },
    "tags": []
   },
   "outputs": [],
   "source": [
    "# add sum of snps in model to spredixcan_genes_models\n",
    "spredixcan_genes_models = spredixcan_genes_models.join(\n",
    "    spredixcan_genes_sum_of_n_snps_in_model\n",
    ")"
   ]
  },
  {
   "cell_type": "code",
   "execution_count": 102,
   "id": "0d3973d8-5da2-4c9d-b406-2525f615035c",
   "metadata": {
    "execution": {
     "iopub.execute_input": "2022-12-02T21:49:49.081996Z",
     "iopub.status.busy": "2022-12-02T21:49:49.081778Z",
     "iopub.status.idle": "2022-12-02T21:49:49.099296Z",
     "shell.execute_reply": "2022-12-02T21:49:49.098799Z"
    },
    "papermill": {
     "duration": 0.032598,
     "end_time": "2022-12-02T21:49:49.100132",
     "exception": false,
     "start_time": "2022-12-02T21:49:49.067534",
     "status": "completed"
    },
    "tags": []
   },
   "outputs": [
    {
     "data": {
      "text/plain": [
       "(6443, 5)"
      ]
     },
     "execution_count": 102,
     "metadata": {},
     "output_type": "execute_result"
    }
   ],
   "source": [
    "spredixcan_genes_models.shape"
   ]
  },
  {
   "cell_type": "code",
   "execution_count": 103,
   "id": "76c27f05-c5c6-4ed9-9363-fcba871a3572",
   "metadata": {
    "execution": {
     "iopub.execute_input": "2022-12-02T21:49:49.128908Z",
     "iopub.status.busy": "2022-12-02T21:49:49.128416Z",
     "iopub.status.idle": "2022-12-02T21:49:49.151376Z",
     "shell.execute_reply": "2022-12-02T21:49:49.150888Z"
    },
    "papermill": {
     "duration": 0.037986,
     "end_time": "2022-12-02T21:49:49.152231",
     "exception": false,
     "start_time": "2022-12-02T21:49:49.114245",
     "status": "completed"
    },
    "tags": []
   },
   "outputs": [
    {
     "data": {
      "text/html": [
       "<div>\n",
       "<style scoped>\n",
       "    .dataframe tbody tr th:only-of-type {\n",
       "        vertical-align: middle;\n",
       "    }\n",
       "\n",
       "    .dataframe tbody tr th {\n",
       "        vertical-align: top;\n",
       "    }\n",
       "\n",
       "    .dataframe thead th {\n",
       "        text-align: right;\n",
       "    }\n",
       "</style>\n",
       "<table border=\"1\" class=\"dataframe\">\n",
       "  <thead>\n",
       "    <tr style=\"text-align: right;\">\n",
       "      <th></th>\n",
       "      <th>gene_name</th>\n",
       "      <th>tissue</th>\n",
       "      <th>n_tissues</th>\n",
       "      <th>n_snps_used_sum</th>\n",
       "      <th>n_snps_in_model_sum</th>\n",
       "    </tr>\n",
       "    <tr>\n",
       "      <th>gene_id</th>\n",
       "      <th></th>\n",
       "      <th></th>\n",
       "      <th></th>\n",
       "      <th></th>\n",
       "      <th></th>\n",
       "    </tr>\n",
       "  </thead>\n",
       "  <tbody>\n",
       "    <tr>\n",
       "      <th>ENSG00000000419</th>\n",
       "      <td>DPM1</td>\n",
       "      <td>(Brain_Substantia_nigra, Brain_Hypothalamus)</td>\n",
       "      <td>2</td>\n",
       "      <td>2</td>\n",
       "      <td>2</td>\n",
       "    </tr>\n",
       "    <tr>\n",
       "      <th>ENSG00000000938</th>\n",
       "      <td>FGR</td>\n",
       "      <td>(Lung, Muscle_Skeletal, Esophagus_Gastroesopha...</td>\n",
       "      <td>36</td>\n",
       "      <td>40</td>\n",
       "      <td>40</td>\n",
       "    </tr>\n",
       "    <tr>\n",
       "      <th>ENSG00000000971</th>\n",
       "      <td>CFH</td>\n",
       "      <td>(Artery_Coronary, Lung, Esophagus_Gastroesopha...</td>\n",
       "      <td>34</td>\n",
       "      <td>44</td>\n",
       "      <td>44</td>\n",
       "    </tr>\n",
       "    <tr>\n",
       "      <th>ENSG00000001084</th>\n",
       "      <td>GCLC</td>\n",
       "      <td>(Artery_Coronary, Lung, Muscle_Skeletal, Brain...</td>\n",
       "      <td>32</td>\n",
       "      <td>46</td>\n",
       "      <td>46</td>\n",
       "    </tr>\n",
       "    <tr>\n",
       "      <th>ENSG00000001167</th>\n",
       "      <td>NFYA</td>\n",
       "      <td>(Artery_Coronary, Lung, Muscle_Skeletal, Esoph...</td>\n",
       "      <td>40</td>\n",
       "      <td>47</td>\n",
       "      <td>48</td>\n",
       "    </tr>\n",
       "  </tbody>\n",
       "</table>\n",
       "</div>"
      ],
      "text/plain": [
       "                gene_name                                             tissue  \\\n",
       "gene_id                                                                        \n",
       "ENSG00000000419      DPM1       (Brain_Substantia_nigra, Brain_Hypothalamus)   \n",
       "ENSG00000000938       FGR  (Lung, Muscle_Skeletal, Esophagus_Gastroesopha...   \n",
       "ENSG00000000971       CFH  (Artery_Coronary, Lung, Esophagus_Gastroesopha...   \n",
       "ENSG00000001084      GCLC  (Artery_Coronary, Lung, Muscle_Skeletal, Brain...   \n",
       "ENSG00000001167      NFYA  (Artery_Coronary, Lung, Muscle_Skeletal, Esoph...   \n",
       "\n",
       "                 n_tissues  n_snps_used_sum  n_snps_in_model_sum  \n",
       "gene_id                                                           \n",
       "ENSG00000000419          2                2                    2  \n",
       "ENSG00000000938         36               40                   40  \n",
       "ENSG00000000971         34               44                   44  \n",
       "ENSG00000001084         32               46                   46  \n",
       "ENSG00000001167         40               47                   48  "
      ]
     },
     "execution_count": 103,
     "metadata": {},
     "output_type": "execute_result"
    }
   ],
   "source": [
    "spredixcan_genes_models.head()"
   ]
  },
  {
   "cell_type": "markdown",
   "id": "d6947d45-ea78-4c6b-bf71-f7413d1687e3",
   "metadata": {
    "papermill": {
     "duration": 0.013712,
     "end_time": "2022-12-02T21:49:49.180173",
     "exception": false,
     "start_time": "2022-12-02T21:49:49.166461",
     "status": "completed"
    },
    "tags": []
   },
   "source": [
    "### Save"
   ]
  },
  {
   "cell_type": "code",
   "execution_count": 104,
   "id": "ebc3a430-7bd5-4099-8b01-aa77e704e3e7",
   "metadata": {
    "execution": {
     "iopub.execute_input": "2022-12-02T21:49:49.208575Z",
     "iopub.status.busy": "2022-12-02T21:49:49.208191Z",
     "iopub.status.idle": "2022-12-02T21:49:49.225813Z",
     "shell.execute_reply": "2022-12-02T21:49:49.225307Z"
    },
    "papermill": {
     "duration": 0.032884,
     "end_time": "2022-12-02T21:49:49.226754",
     "exception": false,
     "start_time": "2022-12-02T21:49:49.193870",
     "status": "completed"
    },
    "tags": []
   },
   "outputs": [],
   "source": [
    "# this is important, other scripts depend on gene_name to be unique\n",
    "assert spredixcan_genes_models[\"gene_name\"].is_unique"
   ]
  },
  {
   "cell_type": "code",
   "execution_count": 105,
   "id": "e2db5302-3051-4492-97e1-e759d2fb512f",
   "metadata": {
    "execution": {
     "iopub.execute_input": "2022-12-02T21:49:49.255915Z",
     "iopub.status.busy": "2022-12-02T21:49:49.255422Z",
     "iopub.status.idle": "2022-12-02T21:49:49.275439Z",
     "shell.execute_reply": "2022-12-02T21:49:49.274932Z"
    },
    "papermill": {
     "duration": 0.035491,
     "end_time": "2022-12-02T21:49:49.276470",
     "exception": false,
     "start_time": "2022-12-02T21:49:49.240979",
     "status": "completed"
    },
    "tags": []
   },
   "outputs": [],
   "source": [
    "assert not spredixcan_genes_models.isna().any(axis=None)"
   ]
  },
  {
   "cell_type": "code",
   "execution_count": 106,
   "id": "10e19441-8390-4eb1-8da4-24752597bb54",
   "metadata": {
    "execution": {
     "iopub.execute_input": "2022-12-02T21:49:49.309767Z",
     "iopub.status.busy": "2022-12-02T21:49:49.309250Z",
     "iopub.status.idle": "2022-12-02T21:49:49.342460Z",
     "shell.execute_reply": "2022-12-02T21:49:49.341919Z"
    },
    "papermill": {
     "duration": 0.052874,
     "end_time": "2022-12-02T21:49:49.343622",
     "exception": false,
     "start_time": "2022-12-02T21:49:49.290748",
     "status": "completed"
    },
    "tags": []
   },
   "outputs": [],
   "source": [
    "spredixcan_genes_models.to_pickle(OUTPUT_DIR_BASE / \"gene_tissues.pkl\")"
   ]
  },
  {
   "cell_type": "code",
   "execution_count": null,
   "id": "b25e3ead",
   "metadata": {
    "papermill": {
     "duration": 0.013902,
     "end_time": "2022-12-02T21:49:49.371639",
     "exception": false,
     "start_time": "2022-12-02T21:49:49.357737",
     "status": "completed"
    },
    "tags": []
   },
   "outputs": [],
   "source": []
  }
 ],
 "metadata": {
  "jupytext": {
   "cell_metadata_filter": "all,-execution,-papermill,-trusted",
   "formats": "ipynb,py//py:percent"
  },
  "kernelspec": {
   "display_name": "Python 3 (ipykernel)",
   "language": "python",
   "name": "python3"
  },
  "language_info": {
   "codemirror_mode": {
    "name": "ipython",
    "version": 3
   },
   "file_extension": ".py",
   "mimetype": "text/x-python",
   "name": "python",
   "nbconvert_exporter": "python",
   "pygments_lexer": "ipython3",
   "version": "3.10.6"
  },
  "papermill": {
   "default_parameters": {},
   "duration": 45.852242,
   "end_time": "2022-12-02T21:49:50.307587",
   "environment_variables": {},
   "exception": null,
   "input_path": "projects/asthma-copd/nbs/20_gene_corrs/jobs/01-compile_gwas_snps_and_twas_genes.ipynb",
   "output_path": "projects/asthma-copd/nbs/20_gene_corrs/jobs/../output/copd_only/01-compile_gwas_snps_and_twas_genes.run.ipynb",
   "parameters": {
    "COHORT_NAME": "copd_only",
    "GWAS_FILE": "/opt/data/projects/asthma-copd/results/final_imputed_gwas/GWAS_COPD_only_GLM_SNPs_info0.7-harmonized-imputed.txt.gz",
    "OUTPUT_DIR_BASE": "/opt/data/projects/asthma-copd/results/gls_phenoplier",
    "PHENOPLIER_NOTEBOOK_FILEPATH": "projects/asthma-copd/nbs/20_gene_corrs/jobs/01-compile_gwas_snps_and_twas_genes.ipynb",
    "SMULTIXCAN_FILE": "/opt/data/projects/asthma-copd/results/twas/smultixcan/GWAS_COPD_only_GLM_SNPs_info0.7-gtex_v8-mashr-smultixcan.txt",
    "SPREDIXCAN_FILE_PATTERN": "GWAS_COPD_only_GLM_SNPs_info0.7-gtex_v8-mashr-{tissue}.csv",
    "SPREDIXCAN_FOLDER": "/opt/data/projects/asthma-copd/results/twas/spredixcan"
   },
   "start_time": "2022-12-02T21:49:04.455345",
   "version": "2.2.2"
  },
  "toc-autonumbering": true
 },
 "nbformat": 4,
 "nbformat_minor": 5
}
