{
 "cells": [
  {
   "cell_type": "markdown",
   "id": "7a6632fb",
   "metadata": {
    "papermill": {
     "duration": 0.009524,
     "end_time": "2022-12-05T17:18:58.628291",
     "exception": false,
     "start_time": "2022-12-05T17:18:58.618767",
     "status": "completed"
    },
    "tags": []
   },
   "source": [
    "# Description"
   ]
  },
  {
   "cell_type": "markdown",
   "id": "7097c346",
   "metadata": {
    "papermill": {
     "duration": 0.008104,
     "end_time": "2022-12-05T17:18:58.645823",
     "exception": false,
     "start_time": "2022-12-05T17:18:58.637719",
     "status": "completed"
    },
    "tags": []
   },
   "source": [
    "(Please, take a look at the README.md file in this directory for instructions on how to run this notebook)\n",
    "\n",
    "This notebook computes predicted expression correlations between all genes in the MultiPLIER models.\n",
    "\n",
    "It has specicfic parameters for papermill (see under `Settings` below).\n",
    "It can be configured to run on a single chromosome to run in parallel.\n",
    "\n",
    "This notebook is not directly run. See README.md."
   ]
  },
  {
   "cell_type": "markdown",
   "id": "c61d8427",
   "metadata": {
    "papermill": {
     "duration": 0.008103,
     "end_time": "2022-12-05T17:18:58.662066",
     "exception": false,
     "start_time": "2022-12-05T17:18:58.653963",
     "status": "completed"
    },
    "tags": []
   },
   "source": [
    "# Modules"
   ]
  },
  {
   "cell_type": "code",
   "execution_count": 1,
   "id": "bbc0234f",
   "metadata": {
    "execution": {
     "iopub.execute_input": "2022-12-05T17:18:58.680551Z",
     "iopub.status.busy": "2022-12-05T17:18:58.680229Z",
     "iopub.status.idle": "2022-12-05T17:18:58.694337Z",
     "shell.execute_reply": "2022-12-05T17:18:58.693871Z"
    },
    "papermill": {
     "duration": 0.024858,
     "end_time": "2022-12-05T17:18:58.695673",
     "exception": false,
     "start_time": "2022-12-05T17:18:58.670815",
     "status": "completed"
    },
    "tags": []
   },
   "outputs": [],
   "source": [
    "%load_ext autoreload\n",
    "%autoreload 2"
   ]
  },
  {
   "cell_type": "code",
   "execution_count": 2,
   "id": "1d5f5a59",
   "metadata": {
    "execution": {
     "iopub.execute_input": "2022-12-05T17:18:58.708994Z",
     "iopub.status.busy": "2022-12-05T17:18:58.708868Z",
     "iopub.status.idle": "2022-12-05T17:18:59.372969Z",
     "shell.execute_reply": "2022-12-05T17:18:59.372505Z"
    },
    "papermill": {
     "duration": 0.671044,
     "end_time": "2022-12-05T17:18:59.374774",
     "exception": false,
     "start_time": "2022-12-05T17:18:58.703730",
     "status": "completed"
    },
    "tags": []
   },
   "outputs": [],
   "source": [
    "from random import sample, seed\n",
    "import warnings\n",
    "from pathlib import Path\n",
    "import pickle\n",
    "import traceback\n",
    "\n",
    "import numpy as np\n",
    "from scipy.spatial.distance import squareform\n",
    "import pandas as pd\n",
    "from tqdm import tqdm\n",
    "import matplotlib.pyplot as plt\n",
    "import seaborn as sns\n",
    "\n",
    "import conf\n",
    "from entity import Gene"
   ]
  },
  {
   "cell_type": "markdown",
   "id": "1eac24b5",
   "metadata": {
    "papermill": {
     "duration": 0.00982,
     "end_time": "2022-12-05T17:18:59.393295",
     "exception": false,
     "start_time": "2022-12-05T17:18:59.383475",
     "status": "completed"
    },
    "tags": []
   },
   "source": [
    "# Settings"
   ]
  },
  {
   "cell_type": "code",
   "execution_count": 3,
   "id": "ca4560ba",
   "metadata": {
    "execution": {
     "iopub.execute_input": "2022-12-05T17:18:59.411322Z",
     "iopub.status.busy": "2022-12-05T17:18:59.411122Z",
     "iopub.status.idle": "2022-12-05T17:18:59.424736Z",
     "shell.execute_reply": "2022-12-05T17:18:59.424316Z"
    },
    "papermill": {
     "duration": 0.024148,
     "end_time": "2022-12-05T17:18:59.426273",
     "exception": false,
     "start_time": "2022-12-05T17:18:59.402125",
     "status": "completed"
    },
    "tags": [
     "parameters"
    ]
   },
   "outputs": [],
   "source": [
    "# a cohort name (it could be something like UK_BIOBANK, etc)\n",
    "COHORT_NAME = None\n",
    "\n",
    "# reference panel such as 1000G or GTEX_V8\n",
    "REFERENCE_PANEL = \"GTEX_V8\"\n",
    "\n",
    "# predictions models such as MASHR or ELASTIC_NET\n",
    "EQTL_MODEL = \"MASHR\"\n",
    "\n",
    "# this is the default value used in S-MultiXcan to select the\n",
    "# top principal components of the expression correlation matrix\n",
    "SMULTIXCAN_CONDITION_NUMBER = 30\n",
    "\n",
    "# specifies a single chromosome value\n",
    "CHROMOSOME = None\n",
    "\n",
    "# If True, computes the correlation between closeby genes only (see\n",
    "# entity.Gene.within_distance for more details). Otherwise, it computes\n",
    "# correlations for all genes in a chromosome\n",
    "COMPUTE_CORRELATIONS_WITHIN_DISTANCE = True\n",
    "\n",
    "# if True, then it will continue if a gene pair correlation fails,\n",
    "# printing the warning/error for debugging. If False, any warning/error\n",
    "# will be thrown\n",
    "DEBUG_MODE = False\n",
    "\n",
    "# output dir\n",
    "OUTPUT_DIR_BASE = None"
   ]
  },
  {
   "cell_type": "code",
   "execution_count": 4,
   "id": "03b69552",
   "metadata": {
    "execution": {
     "iopub.execute_input": "2022-12-05T17:18:59.444570Z",
     "iopub.status.busy": "2022-12-05T17:18:59.444230Z",
     "iopub.status.idle": "2022-12-05T17:18:59.465757Z",
     "shell.execute_reply": "2022-12-05T17:18:59.465149Z"
    },
    "papermill": {
     "duration": 0.032372,
     "end_time": "2022-12-05T17:18:59.467456",
     "exception": false,
     "start_time": "2022-12-05T17:18:59.435084",
     "status": "completed"
    },
    "tags": [
     "injected-parameters"
    ]
   },
   "outputs": [],
   "source": [
    "# Parameters\n",
    "PHENOPLIER_NOTEBOOK_FILEPATH = (\n",
    "    \"projects/asthma-copd/nbs/20_gene_corrs/jobs/05-gene_expr_correlations.ipynb\"\n",
    ")\n",
    "COHORT_NAME = \"aco\"\n",
    "CHROMOSOME = 5\n",
    "OUTPUT_DIR_BASE = \"/opt/data/projects/asthma-copd/results/gls_phenoplier\"\n"
   ]
  },
  {
   "cell_type": "code",
   "execution_count": 5,
   "id": "3190631f-27fc-480f-b18e-571d580425a5",
   "metadata": {
    "execution": {
     "iopub.execute_input": "2022-12-05T17:18:59.486204Z",
     "iopub.status.busy": "2022-12-05T17:18:59.485777Z",
     "iopub.status.idle": "2022-12-05T17:18:59.514399Z",
     "shell.execute_reply": "2022-12-05T17:18:59.513702Z"
    },
    "papermill": {
     "duration": 0.039742,
     "end_time": "2022-12-05T17:18:59.516000",
     "exception": false,
     "start_time": "2022-12-05T17:18:59.476258",
     "status": "completed"
    },
    "tags": []
   },
   "outputs": [
    {
     "data": {
      "text/plain": [
       "'Cohort name: aco'"
      ]
     },
     "metadata": {},
     "output_type": "display_data"
    }
   ],
   "source": [
    "assert COHORT_NAME is not None and len(COHORT_NAME) > 0, \"A cohort name must be given\"\n",
    "\n",
    "COHORT_NAME = COHORT_NAME.lower()\n",
    "display(f\"Cohort name: {COHORT_NAME}\")"
   ]
  },
  {
   "cell_type": "code",
   "execution_count": 6,
   "id": "f53ba19b-0f93-4fa2-a047-63b375939d1a",
   "metadata": {
    "execution": {
     "iopub.execute_input": "2022-12-05T17:18:59.534972Z",
     "iopub.status.busy": "2022-12-05T17:18:59.534537Z",
     "iopub.status.idle": "2022-12-05T17:18:59.557183Z",
     "shell.execute_reply": "2022-12-05T17:18:59.556544Z"
    },
    "papermill": {
     "duration": 0.033554,
     "end_time": "2022-12-05T17:18:59.558708",
     "exception": false,
     "start_time": "2022-12-05T17:18:59.525154",
     "status": "completed"
    },
    "tags": []
   },
   "outputs": [
    {
     "data": {
      "text/plain": [
       "'Reference panel: GTEX_V8'"
      ]
     },
     "metadata": {},
     "output_type": "display_data"
    }
   ],
   "source": [
    "assert (\n",
    "    REFERENCE_PANEL is not None and len(REFERENCE_PANEL) > 0\n",
    "), \"A reference panel must be given\"\n",
    "\n",
    "display(f\"Reference panel: {REFERENCE_PANEL}\")"
   ]
  },
  {
   "cell_type": "code",
   "execution_count": 7,
   "id": "e024d130-c139-429a-9c6e-ccf149e297b0",
   "metadata": {
    "execution": {
     "iopub.execute_input": "2022-12-05T17:18:59.577568Z",
     "iopub.status.busy": "2022-12-05T17:18:59.577183Z",
     "iopub.status.idle": "2022-12-05T17:18:59.600221Z",
     "shell.execute_reply": "2022-12-05T17:18:59.599593Z"
    },
    "papermill": {
     "duration": 0.034101,
     "end_time": "2022-12-05T17:18:59.601882",
     "exception": false,
     "start_time": "2022-12-05T17:18:59.567781",
     "status": "completed"
    },
    "tags": []
   },
   "outputs": [
    {
     "data": {
      "text/plain": [
       "'eQTL model: MASHR) / mashr_'"
      ]
     },
     "metadata": {},
     "output_type": "display_data"
    }
   ],
   "source": [
    "assert (\n",
    "    EQTL_MODEL is not None and len(EQTL_MODEL) > 0\n",
    "), \"A prediction/eQTL model must be given\"\n",
    "\n",
    "EQTL_MODEL_FILES_PREFIX = conf.PHENOMEXCAN[\"PREDICTION_MODELS\"][f\"{EQTL_MODEL}_PREFIX\"]\n",
    "display(f\"eQTL model: {EQTL_MODEL}) / {EQTL_MODEL_FILES_PREFIX}\")"
   ]
  },
  {
   "cell_type": "code",
   "execution_count": 8,
   "id": "552a7f63-a18c-4d3e-bb6a-94f99b431291",
   "metadata": {
    "execution": {
     "iopub.execute_input": "2022-12-05T17:18:59.621330Z",
     "iopub.status.busy": "2022-12-05T17:18:59.620990Z",
     "iopub.status.idle": "2022-12-05T17:18:59.643695Z",
     "shell.execute_reply": "2022-12-05T17:18:59.643091Z"
    },
    "papermill": {
     "duration": 0.033783,
     "end_time": "2022-12-05T17:18:59.645310",
     "exception": false,
     "start_time": "2022-12-05T17:18:59.611527",
     "status": "completed"
    },
    "tags": []
   },
   "outputs": [
    {
     "data": {
      "text/plain": [
       "'S-MultiXcan condition number: 30'"
      ]
     },
     "metadata": {},
     "output_type": "display_data"
    }
   ],
   "source": [
    "assert (\n",
    "    SMULTIXCAN_CONDITION_NUMBER is not None and SMULTIXCAN_CONDITION_NUMBER > 0\n",
    "), \"The S-MultiXcan condition number (positive integer) must be given\"\n",
    "\n",
    "display(f\"S-MultiXcan condition number: {SMULTIXCAN_CONDITION_NUMBER}\")"
   ]
  },
  {
   "cell_type": "code",
   "execution_count": 9,
   "id": "f34a336f-548e-4afe-8955-90eaea4f42c6",
   "metadata": {
    "execution": {
     "iopub.execute_input": "2022-12-05T17:18:59.664739Z",
     "iopub.status.busy": "2022-12-05T17:18:59.664242Z",
     "iopub.status.idle": "2022-12-05T17:18:59.686998Z",
     "shell.execute_reply": "2022-12-05T17:18:59.686349Z"
    },
    "papermill": {
     "duration": 0.033989,
     "end_time": "2022-12-05T17:18:59.688531",
     "exception": false,
     "start_time": "2022-12-05T17:18:59.654542",
     "status": "completed"
    },
    "tags": []
   },
   "outputs": [
    {
     "data": {
      "text/plain": [
       "'Working on chromosome 5'"
      ]
     },
     "metadata": {},
     "output_type": "display_data"
    }
   ],
   "source": [
    "assert CHROMOSOME is not None and (\n",
    "    1 <= CHROMOSOME <= 22\n",
    "), \"You have to select one chromosome (format: number between 1 and 22)\"\n",
    "\n",
    "display(f\"Working on chromosome {CHROMOSOME}\")"
   ]
  },
  {
   "cell_type": "code",
   "execution_count": 10,
   "id": "ab8e96e8-06b5-4363-9dcd-dc4d78cc27f7",
   "metadata": {
    "execution": {
     "iopub.execute_input": "2022-12-05T17:18:59.708926Z",
     "iopub.status.busy": "2022-12-05T17:18:59.708551Z",
     "iopub.status.idle": "2022-12-05T17:18:59.731276Z",
     "shell.execute_reply": "2022-12-05T17:18:59.730618Z"
    },
    "papermill": {
     "duration": 0.034673,
     "end_time": "2022-12-05T17:18:59.732801",
     "exception": false,
     "start_time": "2022-12-05T17:18:59.698128",
     "status": "completed"
    },
    "tags": []
   },
   "outputs": [
    {
     "data": {
      "text/plain": [
       "'Compute correlation within distance True'"
      ]
     },
     "metadata": {},
     "output_type": "display_data"
    }
   ],
   "source": [
    "display(f\"Compute correlation within distance {COMPUTE_CORRELATIONS_WITHIN_DISTANCE}\")"
   ]
  },
  {
   "cell_type": "code",
   "execution_count": 11,
   "id": "b393b698-77e3-4ba2-8ac1-e14d51aa988f",
   "metadata": {
    "execution": {
     "iopub.execute_input": "2022-12-05T17:18:59.752872Z",
     "iopub.status.busy": "2022-12-05T17:18:59.752529Z",
     "iopub.status.idle": "2022-12-05T17:18:59.776066Z",
     "shell.execute_reply": "2022-12-05T17:18:59.775410Z"
    },
    "papermill": {
     "duration": 0.035305,
     "end_time": "2022-12-05T17:18:59.777686",
     "exception": false,
     "start_time": "2022-12-05T17:18:59.742381",
     "status": "completed"
    },
    "tags": []
   },
   "outputs": [
    {
     "data": {
      "text/plain": [
       "'Using output dir base: /opt/data/projects/asthma-copd/results/gls_phenoplier/gene_corrs/aco'"
      ]
     },
     "metadata": {},
     "output_type": "display_data"
    }
   ],
   "source": [
    "assert (\n",
    "    OUTPUT_DIR_BASE is not None and len(OUTPUT_DIR_BASE) > 0\n",
    "), \"Output directory path must be given\"\n",
    "\n",
    "OUTPUT_DIR_BASE = (Path(OUTPUT_DIR_BASE) / \"gene_corrs\" / COHORT_NAME).resolve()\n",
    "\n",
    "OUTPUT_DIR_BASE.mkdir(parents=True, exist_ok=True)\n",
    "\n",
    "display(f\"Using output dir base: {OUTPUT_DIR_BASE}\")"
   ]
  },
  {
   "cell_type": "markdown",
   "id": "d2ba085e",
   "metadata": {
    "papermill": {
     "duration": 0.00993,
     "end_time": "2022-12-05T17:18:59.797497",
     "exception": false,
     "start_time": "2022-12-05T17:18:59.787567",
     "status": "completed"
    },
    "tags": []
   },
   "source": [
    "# Load data"
   ]
  },
  {
   "cell_type": "markdown",
   "id": "7dcb8db7",
   "metadata": {
    "papermill": {
     "duration": 0.009174,
     "end_time": "2022-12-05T17:18:59.815988",
     "exception": false,
     "start_time": "2022-12-05T17:18:59.806814",
     "status": "completed"
    },
    "tags": []
   },
   "source": [
    "## GWAS variants"
   ]
  },
  {
   "cell_type": "code",
   "execution_count": 12,
   "id": "29434c4e-8cd3-4b9b-82e4-b5a251d9dd19",
   "metadata": {
    "execution": {
     "iopub.execute_input": "2022-12-05T17:18:59.834344Z",
     "iopub.status.busy": "2022-12-05T17:18:59.833977Z",
     "iopub.status.idle": "2022-12-05T17:19:01.983229Z",
     "shell.execute_reply": "2022-12-05T17:19:01.982599Z"
    },
    "papermill": {
     "duration": 2.160194,
     "end_time": "2022-12-05T17:19:01.985394",
     "exception": false,
     "start_time": "2022-12-05T17:18:59.825200",
     "status": "completed"
    },
    "tags": []
   },
   "outputs": [],
   "source": [
    "with open(OUTPUT_DIR_BASE / \"gwas_variant_ids.pkl\", \"rb\") as handle:\n",
    "    gwas_variants_ids_set = pickle.load(handle)"
   ]
  },
  {
   "cell_type": "code",
   "execution_count": 13,
   "id": "b9d9dec2-4a76-4bf9-bde2-e24c95acb8a0",
   "metadata": {
    "execution": {
     "iopub.execute_input": "2022-12-05T17:19:02.009667Z",
     "iopub.status.busy": "2022-12-05T17:19:02.009233Z",
     "iopub.status.idle": "2022-12-05T17:19:02.024193Z",
     "shell.execute_reply": "2022-12-05T17:19:02.023664Z"
    },
    "papermill": {
     "duration": 0.02814,
     "end_time": "2022-12-05T17:19:02.025653",
     "exception": false,
     "start_time": "2022-12-05T17:19:01.997513",
     "status": "completed"
    },
    "tags": []
   },
   "outputs": [
    {
     "data": {
      "text/plain": [
       "8561476"
      ]
     },
     "execution_count": 13,
     "metadata": {},
     "output_type": "execute_result"
    }
   ],
   "source": [
    "len(gwas_variants_ids_set)"
   ]
  },
  {
   "cell_type": "code",
   "execution_count": 14,
   "id": "4235b06a-6034-4ee4-a0a3-2ae35d122418",
   "metadata": {
    "execution": {
     "iopub.execute_input": "2022-12-05T17:19:02.045589Z",
     "iopub.status.busy": "2022-12-05T17:19:02.045467Z",
     "iopub.status.idle": "2022-12-05T17:19:02.820508Z",
     "shell.execute_reply": "2022-12-05T17:19:02.819964Z"
    },
    "papermill": {
     "duration": 0.78673,
     "end_time": "2022-12-05T17:19:02.822051",
     "exception": false,
     "start_time": "2022-12-05T17:19:02.035321",
     "status": "completed"
    },
    "tags": []
   },
   "outputs": [
    {
     "data": {
      "text/plain": [
       "['chr6_32340568_T_G_b38',\n",
       " 'chr12_111883867_G_A_b38',\n",
       " 'chr3_60043282_A_T_b38',\n",
       " 'chr18_58803836_G_C_b38',\n",
       " 'chr2_126534958_GAC_G_b38']"
      ]
     },
     "execution_count": 14,
     "metadata": {},
     "output_type": "execute_result"
    }
   ],
   "source": [
    "list(gwas_variants_ids_set)[:5]"
   ]
  },
  {
   "cell_type": "markdown",
   "id": "07866999-2305-41f9-a144-e69c9122c212",
   "metadata": {
    "papermill": {
     "duration": 0.011034,
     "end_time": "2022-12-05T17:19:02.843686",
     "exception": false,
     "start_time": "2022-12-05T17:19:02.832652",
     "status": "completed"
    },
    "tags": []
   },
   "source": [
    "## S-PrediXcan tissue models"
   ]
  },
  {
   "cell_type": "code",
   "execution_count": 15,
   "id": "780611d9-77c8-405f-90a4-f271f7b09397",
   "metadata": {
    "execution": {
     "iopub.execute_input": "2022-12-05T17:19:02.867309Z",
     "iopub.status.busy": "2022-12-05T17:19:02.867168Z",
     "iopub.status.idle": "2022-12-05T17:19:03.235356Z",
     "shell.execute_reply": "2022-12-05T17:19:03.234646Z"
    },
    "papermill": {
     "duration": 0.381775,
     "end_time": "2022-12-05T17:19:03.237037",
     "exception": false,
     "start_time": "2022-12-05T17:19:02.855262",
     "status": "completed"
    },
    "tags": []
   },
   "outputs": [],
   "source": [
    "spredixcan_genes_models = pd.read_pickle(OUTPUT_DIR_BASE / \"gene_tissues.pkl\")"
   ]
  },
  {
   "cell_type": "code",
   "execution_count": 16,
   "id": "726dd1f6-9557-4225-91fa-b3b879ea96e1",
   "metadata": {
    "execution": {
     "iopub.execute_input": "2022-12-05T17:19:03.258359Z",
     "iopub.status.busy": "2022-12-05T17:19:03.258193Z",
     "iopub.status.idle": "2022-12-05T17:19:03.272788Z",
     "shell.execute_reply": "2022-12-05T17:19:03.272158Z"
    },
    "papermill": {
     "duration": 0.026496,
     "end_time": "2022-12-05T17:19:03.274249",
     "exception": false,
     "start_time": "2022-12-05T17:19:03.247753",
     "status": "completed"
    },
    "tags": []
   },
   "outputs": [
    {
     "data": {
      "text/plain": [
       "(6442, 5)"
      ]
     },
     "execution_count": 16,
     "metadata": {},
     "output_type": "execute_result"
    }
   ],
   "source": [
    "spredixcan_genes_models.shape"
   ]
  },
  {
   "cell_type": "code",
   "execution_count": 17,
   "id": "944a1b48-222c-4eb0-b252-b9de2cbca215",
   "metadata": {
    "execution": {
     "iopub.execute_input": "2022-12-05T17:19:03.294926Z",
     "iopub.status.busy": "2022-12-05T17:19:03.294738Z",
     "iopub.status.idle": "2022-12-05T17:19:03.312264Z",
     "shell.execute_reply": "2022-12-05T17:19:03.311685Z"
    },
    "papermill": {
     "duration": 0.029346,
     "end_time": "2022-12-05T17:19:03.313642",
     "exception": false,
     "start_time": "2022-12-05T17:19:03.284296",
     "status": "completed"
    },
    "tags": []
   },
   "outputs": [
    {
     "data": {
      "text/html": [
       "<div>\n",
       "<style scoped>\n",
       "    .dataframe tbody tr th:only-of-type {\n",
       "        vertical-align: middle;\n",
       "    }\n",
       "\n",
       "    .dataframe tbody tr th {\n",
       "        vertical-align: top;\n",
       "    }\n",
       "\n",
       "    .dataframe thead th {\n",
       "        text-align: right;\n",
       "    }\n",
       "</style>\n",
       "<table border=\"1\" class=\"dataframe\">\n",
       "  <thead>\n",
       "    <tr style=\"text-align: right;\">\n",
       "      <th></th>\n",
       "      <th>gene_name</th>\n",
       "      <th>tissue</th>\n",
       "      <th>n_tissues</th>\n",
       "      <th>n_snps_used_sum</th>\n",
       "      <th>n_snps_in_model_sum</th>\n",
       "    </tr>\n",
       "    <tr>\n",
       "      <th>gene_id</th>\n",
       "      <th></th>\n",
       "      <th></th>\n",
       "      <th></th>\n",
       "      <th></th>\n",
       "      <th></th>\n",
       "    </tr>\n",
       "  </thead>\n",
       "  <tbody>\n",
       "    <tr>\n",
       "      <th>ENSG00000000419</th>\n",
       "      <td>DPM1</td>\n",
       "      <td>(Brain_Hypothalamus, Brain_Substantia_nigra)</td>\n",
       "      <td>2</td>\n",
       "      <td>2</td>\n",
       "      <td>2</td>\n",
       "    </tr>\n",
       "    <tr>\n",
       "      <th>ENSG00000000938</th>\n",
       "      <td>FGR</td>\n",
       "      <td>(Colon_Sigmoid, Brain_Frontal_Cortex_BA9, Lung...</td>\n",
       "      <td>36</td>\n",
       "      <td>40</td>\n",
       "      <td>40</td>\n",
       "    </tr>\n",
       "    <tr>\n",
       "      <th>ENSG00000000971</th>\n",
       "      <td>CFH</td>\n",
       "      <td>(Colon_Sigmoid, Brain_Frontal_Cortex_BA9, Lung...</td>\n",
       "      <td>34</td>\n",
       "      <td>44</td>\n",
       "      <td>44</td>\n",
       "    </tr>\n",
       "    <tr>\n",
       "      <th>ENSG00000001084</th>\n",
       "      <td>GCLC</td>\n",
       "      <td>(Brain_Frontal_Cortex_BA9, Lung, Skin_Not_Sun_...</td>\n",
       "      <td>32</td>\n",
       "      <td>46</td>\n",
       "      <td>46</td>\n",
       "    </tr>\n",
       "    <tr>\n",
       "      <th>ENSG00000001167</th>\n",
       "      <td>NFYA</td>\n",
       "      <td>(Colon_Sigmoid, Lung, Brain_Anterior_cingulate...</td>\n",
       "      <td>40</td>\n",
       "      <td>47</td>\n",
       "      <td>48</td>\n",
       "    </tr>\n",
       "  </tbody>\n",
       "</table>\n",
       "</div>"
      ],
      "text/plain": [
       "                gene_name                                             tissue  \\\n",
       "gene_id                                                                        \n",
       "ENSG00000000419      DPM1       (Brain_Hypothalamus, Brain_Substantia_nigra)   \n",
       "ENSG00000000938       FGR  (Colon_Sigmoid, Brain_Frontal_Cortex_BA9, Lung...   \n",
       "ENSG00000000971       CFH  (Colon_Sigmoid, Brain_Frontal_Cortex_BA9, Lung...   \n",
       "ENSG00000001084      GCLC  (Brain_Frontal_Cortex_BA9, Lung, Skin_Not_Sun_...   \n",
       "ENSG00000001167      NFYA  (Colon_Sigmoid, Lung, Brain_Anterior_cingulate...   \n",
       "\n",
       "                 n_tissues  n_snps_used_sum  n_snps_in_model_sum  \n",
       "gene_id                                                           \n",
       "ENSG00000000419          2                2                    2  \n",
       "ENSG00000000938         36               40                   40  \n",
       "ENSG00000000971         34               44                   44  \n",
       "ENSG00000001084         32               46                   46  \n",
       "ENSG00000001167         40               47                   48  "
      ]
     },
     "execution_count": 17,
     "metadata": {},
     "output_type": "execute_result"
    }
   ],
   "source": [
    "spredixcan_genes_models.head()"
   ]
  },
  {
   "cell_type": "code",
   "execution_count": 18,
   "id": "d1c11bb1-be0b-4f40-b360-633d6827109f",
   "metadata": {
    "execution": {
     "iopub.execute_input": "2022-12-05T17:19:03.335448Z",
     "iopub.status.busy": "2022-12-05T17:19:03.335289Z",
     "iopub.status.idle": "2022-12-05T17:19:03.348217Z",
     "shell.execute_reply": "2022-12-05T17:19:03.347815Z"
    },
    "papermill": {
     "duration": 0.025176,
     "end_time": "2022-12-05T17:19:03.349694",
     "exception": false,
     "start_time": "2022-12-05T17:19:03.324518",
     "status": "completed"
    },
    "tags": []
   },
   "outputs": [],
   "source": [
    "assert spredixcan_genes_models.index.is_unique"
   ]
  },
  {
   "cell_type": "markdown",
   "id": "a5b5092c-a13e-47c4-a92a-480fcc08f3ae",
   "metadata": {
    "papermill": {
     "duration": 0.010096,
     "end_time": "2022-12-05T17:19:03.370228",
     "exception": false,
     "start_time": "2022-12-05T17:19:03.360132",
     "status": "completed"
    },
    "tags": []
   },
   "source": [
    "## Gene info"
   ]
  },
  {
   "cell_type": "code",
   "execution_count": 19,
   "id": "7d6bb224-88e9-4358-ac10-43a41d92cdad",
   "metadata": {
    "execution": {
     "iopub.execute_input": "2022-12-05T17:19:03.391474Z",
     "iopub.status.busy": "2022-12-05T17:19:03.391278Z",
     "iopub.status.idle": "2022-12-05T17:19:03.411117Z",
     "shell.execute_reply": "2022-12-05T17:19:03.410619Z"
    },
    "papermill": {
     "duration": 0.031702,
     "end_time": "2022-12-05T17:19:03.412593",
     "exception": false,
     "start_time": "2022-12-05T17:19:03.380891",
     "status": "completed"
    },
    "tags": []
   },
   "outputs": [],
   "source": [
    "genes_info = pd.read_pickle(OUTPUT_DIR_BASE / \"genes_info.pkl\")"
   ]
  },
  {
   "cell_type": "code",
   "execution_count": 20,
   "id": "9e32abfa-546d-483e-8c18-d526e9e05903",
   "metadata": {
    "execution": {
     "iopub.execute_input": "2022-12-05T17:19:03.430595Z",
     "iopub.status.busy": "2022-12-05T17:19:03.430359Z",
     "iopub.status.idle": "2022-12-05T17:19:03.449085Z",
     "shell.execute_reply": "2022-12-05T17:19:03.448507Z"
    },
    "papermill": {
     "duration": 0.028805,
     "end_time": "2022-12-05T17:19:03.450402",
     "exception": false,
     "start_time": "2022-12-05T17:19:03.421597",
     "status": "completed"
    },
    "tags": []
   },
   "outputs": [
    {
     "data": {
      "text/plain": [
       "(6442, 7)"
      ]
     },
     "execution_count": 20,
     "metadata": {},
     "output_type": "execute_result"
    }
   ],
   "source": [
    "genes_info.shape"
   ]
  },
  {
   "cell_type": "code",
   "execution_count": 21,
   "id": "d16c3e92-85ec-468a-9a56-e25a9774a1cb",
   "metadata": {
    "execution": {
     "iopub.execute_input": "2022-12-05T17:19:03.473180Z",
     "iopub.status.busy": "2022-12-05T17:19:03.472644Z",
     "iopub.status.idle": "2022-12-05T17:19:03.500198Z",
     "shell.execute_reply": "2022-12-05T17:19:03.499524Z"
    },
    "papermill": {
     "duration": 0.040824,
     "end_time": "2022-12-05T17:19:03.501901",
     "exception": false,
     "start_time": "2022-12-05T17:19:03.461077",
     "status": "completed"
    },
    "tags": []
   },
   "outputs": [
    {
     "data": {
      "text/html": [
       "<div>\n",
       "<style scoped>\n",
       "    .dataframe tbody tr th:only-of-type {\n",
       "        vertical-align: middle;\n",
       "    }\n",
       "\n",
       "    .dataframe tbody tr th {\n",
       "        vertical-align: top;\n",
       "    }\n",
       "\n",
       "    .dataframe thead th {\n",
       "        text-align: right;\n",
       "    }\n",
       "</style>\n",
       "<table border=\"1\" class=\"dataframe\">\n",
       "  <thead>\n",
       "    <tr style=\"text-align: right;\">\n",
       "      <th></th>\n",
       "      <th>name</th>\n",
       "      <th>id</th>\n",
       "      <th>chr</th>\n",
       "      <th>band</th>\n",
       "      <th>start_position</th>\n",
       "      <th>end_position</th>\n",
       "      <th>gene_length</th>\n",
       "    </tr>\n",
       "  </thead>\n",
       "  <tbody>\n",
       "    <tr>\n",
       "      <th>0</th>\n",
       "      <td>ASPM</td>\n",
       "      <td>ENSG00000066279</td>\n",
       "      <td>1</td>\n",
       "      <td>1q31.3</td>\n",
       "      <td>197084127</td>\n",
       "      <td>197146694</td>\n",
       "      <td>62567</td>\n",
       "    </tr>\n",
       "    <tr>\n",
       "      <th>1</th>\n",
       "      <td>GPAM</td>\n",
       "      <td>ENSG00000119927</td>\n",
       "      <td>10</td>\n",
       "      <td>10q25.2</td>\n",
       "      <td>112149865</td>\n",
       "      <td>112215377</td>\n",
       "      <td>65512</td>\n",
       "    </tr>\n",
       "    <tr>\n",
       "      <th>2</th>\n",
       "      <td>MAPK7</td>\n",
       "      <td>ENSG00000166484</td>\n",
       "      <td>17</td>\n",
       "      <td>17p11.2</td>\n",
       "      <td>19377721</td>\n",
       "      <td>19383544</td>\n",
       "      <td>5823</td>\n",
       "    </tr>\n",
       "    <tr>\n",
       "      <th>3</th>\n",
       "      <td>SLC3A2</td>\n",
       "      <td>ENSG00000168003</td>\n",
       "      <td>11</td>\n",
       "      <td>11q12.3</td>\n",
       "      <td>62856102</td>\n",
       "      <td>62888875</td>\n",
       "      <td>32773</td>\n",
       "    </tr>\n",
       "    <tr>\n",
       "      <th>4</th>\n",
       "      <td>GINS2</td>\n",
       "      <td>ENSG00000131153</td>\n",
       "      <td>16</td>\n",
       "      <td>16q24.1</td>\n",
       "      <td>85676198</td>\n",
       "      <td>85690073</td>\n",
       "      <td>13875</td>\n",
       "    </tr>\n",
       "  </tbody>\n",
       "</table>\n",
       "</div>"
      ],
      "text/plain": [
       "     name               id  chr     band  start_position  end_position  \\\n",
       "0    ASPM  ENSG00000066279    1   1q31.3       197084127     197146694   \n",
       "1    GPAM  ENSG00000119927   10  10q25.2       112149865     112215377   \n",
       "2   MAPK7  ENSG00000166484   17  17p11.2        19377721      19383544   \n",
       "3  SLC3A2  ENSG00000168003   11  11q12.3        62856102      62888875   \n",
       "4   GINS2  ENSG00000131153   16  16q24.1        85676198      85690073   \n",
       "\n",
       "   gene_length  \n",
       "0        62567  \n",
       "1        65512  \n",
       "2         5823  \n",
       "3        32773  \n",
       "4        13875  "
      ]
     },
     "execution_count": 21,
     "metadata": {},
     "output_type": "execute_result"
    }
   ],
   "source": [
    "genes_info.head()"
   ]
  },
  {
   "cell_type": "markdown",
   "id": "d3843e06",
   "metadata": {
    "papermill": {
     "duration": 0.010523,
     "end_time": "2022-12-05T17:19:03.523352",
     "exception": false,
     "start_time": "2022-12-05T17:19:03.512829",
     "status": "completed"
    },
    "tags": []
   },
   "source": [
    "# Compute correlations"
   ]
  },
  {
   "cell_type": "code",
   "execution_count": 22,
   "id": "cb859c15-d1f3-4006-a74c-2b83c0db9611",
   "metadata": {
    "execution": {
     "iopub.execute_input": "2022-12-05T17:19:03.546052Z",
     "iopub.status.busy": "2022-12-05T17:19:03.545748Z",
     "iopub.status.idle": "2022-12-05T17:19:03.569368Z",
     "shell.execute_reply": "2022-12-05T17:19:03.568700Z"
    },
    "papermill": {
     "duration": 0.03719,
     "end_time": "2022-12-05T17:19:03.570988",
     "exception": false,
     "start_time": "2022-12-05T17:19:03.533798",
     "status": "completed"
    },
    "tags": []
   },
   "outputs": [
    {
     "data": {
      "text/plain": [
       "PosixPath('/opt/data/projects/asthma-copd/results/gls_phenoplier/gene_corrs/aco/by_chr/gene_corrs-chr5.pkl')"
      ]
     },
     "metadata": {},
     "output_type": "display_data"
    }
   ],
   "source": [
    "output_dir = OUTPUT_DIR_BASE / \"by_chr\"\n",
    "output_dir.mkdir(exist_ok=True, parents=True)\n",
    "output_file = output_dir / f\"gene_corrs-chr{CHROMOSOME}.pkl\"\n",
    "display(output_file)"
   ]
  },
  {
   "cell_type": "code",
   "execution_count": 23,
   "id": "aa674fe4-6794-4eed-98fa-32b39d1d4ace",
   "metadata": {
    "execution": {
     "iopub.execute_input": "2022-12-05T17:19:03.594105Z",
     "iopub.status.busy": "2022-12-05T17:19:03.593627Z",
     "iopub.status.idle": "2022-12-05T17:19:03.615374Z",
     "shell.execute_reply": "2022-12-05T17:19:03.614824Z"
    },
    "papermill": {
     "duration": 0.035225,
     "end_time": "2022-12-05T17:19:03.617195",
     "exception": false,
     "start_time": "2022-12-05T17:19:03.581970",
     "status": "completed"
    },
    "tags": []
   },
   "outputs": [],
   "source": [
    "warnings.filterwarnings(\"error\")"
   ]
  },
  {
   "cell_type": "code",
   "execution_count": 24,
   "id": "44d5450b-3baf-43f1-9e2e-4b06f1a785f8",
   "metadata": {
    "execution": {
     "iopub.execute_input": "2022-12-05T17:19:03.640973Z",
     "iopub.status.busy": "2022-12-05T17:19:03.640500Z",
     "iopub.status.idle": "2022-12-05T17:19:03.663375Z",
     "shell.execute_reply": "2022-12-05T17:19:03.662808Z"
    },
    "papermill": {
     "duration": 0.036346,
     "end_time": "2022-12-05T17:19:03.665195",
     "exception": false,
     "start_time": "2022-12-05T17:19:03.628849",
     "status": "completed"
    },
    "tags": []
   },
   "outputs": [],
   "source": [
    "# standard checks\n",
    "all_chrs = genes_info[\"chr\"].dropna().unique()\n",
    "assert all_chrs.shape[0] == 22\n",
    "\n",
    "# select chromosome given by the user\n",
    "assert CHROMOSOME in all_chrs"
   ]
  },
  {
   "cell_type": "code",
   "execution_count": 25,
   "id": "2d7c043c-92a7-4d35-991b-fa69ac1e0268",
   "metadata": {
    "execution": {
     "iopub.execute_input": "2022-12-05T17:19:03.688721Z",
     "iopub.status.busy": "2022-12-05T17:19:03.688266Z",
     "iopub.status.idle": "2022-12-05T17:19:03.712421Z",
     "shell.execute_reply": "2022-12-05T17:19:03.711759Z"
    },
    "papermill": {
     "duration": 0.037476,
     "end_time": "2022-12-05T17:19:03.714077",
     "exception": false,
     "start_time": "2022-12-05T17:19:03.676601",
     "status": "completed"
    },
    "tags": []
   },
   "outputs": [
    {
     "name": "stdout",
     "output_type": "stream",
     "text": [
      "Number of genes in chromosome: 305\n"
     ]
    }
   ],
   "source": [
    "# run only on the chromosome specified\n",
    "all_chrs = [CHROMOSOME]\n",
    "genes_chr = genes_info[genes_info[\"chr\"] == CHROMOSOME]\n",
    "\n",
    "# For testing purposes\n",
    "# genes_chr = genes_chr.sample(n=20)\n",
    "\n",
    "print(f\"Number of genes in chromosome: {genes_chr.shape[0]}\", flush=True)"
   ]
  },
  {
   "cell_type": "code",
   "execution_count": 26,
   "id": "916015d8-2979-46d3-a9b9-1cf5a0932c6a",
   "metadata": {
    "execution": {
     "iopub.execute_input": "2022-12-05T17:19:03.738105Z",
     "iopub.status.busy": "2022-12-05T17:19:03.737693Z",
     "iopub.status.idle": "2022-12-05T17:19:03.760254Z",
     "shell.execute_reply": "2022-12-05T17:19:03.759678Z"
    },
    "papermill": {
     "duration": 0.036307,
     "end_time": "2022-12-05T17:19:03.762064",
     "exception": false,
     "start_time": "2022-12-05T17:19:03.725757",
     "status": "completed"
    },
    "tags": []
   },
   "outputs": [],
   "source": [
    "# sort genes by starting position to make visualizations better later\n",
    "genes_chr = genes_chr.sort_values(\"start_position\")"
   ]
  },
  {
   "cell_type": "code",
   "execution_count": 27,
   "id": "a38aa74a-8ad3-47f6-8ef9-56be0e011774",
   "metadata": {
    "execution": {
     "iopub.execute_input": "2022-12-05T17:19:03.786220Z",
     "iopub.status.busy": "2022-12-05T17:19:03.785741Z",
     "iopub.status.idle": "2022-12-05T17:19:03.808640Z",
     "shell.execute_reply": "2022-12-05T17:19:03.808079Z"
    },
    "papermill": {
     "duration": 0.037031,
     "end_time": "2022-12-05T17:19:03.810427",
     "exception": false,
     "start_time": "2022-12-05T17:19:03.773396",
     "status": "completed"
    },
    "tags": []
   },
   "outputs": [],
   "source": [
    "gene_chr_objs = [Gene(ensembl_id=gene_id) for gene_id in genes_chr[\"id\"]]"
   ]
  },
  {
   "cell_type": "code",
   "execution_count": 28,
   "id": "570f974f-13c3-42b6-ad3a-ce99ca885c1a",
   "metadata": {
    "execution": {
     "iopub.execute_input": "2022-12-05T17:19:03.834053Z",
     "iopub.status.busy": "2022-12-05T17:19:03.833628Z",
     "iopub.status.idle": "2022-12-05T17:19:03.856627Z",
     "shell.execute_reply": "2022-12-05T17:19:03.855990Z"
    },
    "papermill": {
     "duration": 0.036517,
     "end_time": "2022-12-05T17:19:03.858265",
     "exception": false,
     "start_time": "2022-12-05T17:19:03.821748",
     "status": "completed"
    },
    "tags": []
   },
   "outputs": [
    {
     "name": "stdout",
     "output_type": "stream",
     "text": [
      "Number of gene combinations: 46665\n"
     ]
    }
   ],
   "source": [
    "n = len(gene_chr_objs)\n",
    "# diagonal elements + upper triangular matrix\n",
    "n_comb = n + int(n * (n - 1) / 2.0)\n",
    "print(f\"Number of gene combinations: {n_comb}\", flush=True)"
   ]
  },
  {
   "cell_type": "code",
   "execution_count": 29,
   "id": "cdbb90a1",
   "metadata": {
    "execution": {
     "iopub.execute_input": "2022-12-05T17:19:03.882554Z",
     "iopub.status.busy": "2022-12-05T17:19:03.882174Z",
     "iopub.status.idle": "2022-12-05T17:22:56.743591Z",
     "shell.execute_reply": "2022-12-05T17:22:56.743054Z"
    },
    "papermill": {
     "duration": 232.875073,
     "end_time": "2022-12-05T17:22:56.745217",
     "exception": false,
     "start_time": "2022-12-05T17:19:03.870144",
     "status": "completed"
    },
    "tags": []
   },
   "outputs": [
    {
     "name": "stderr",
     "output_type": "stream",
     "text": [
      "ENSG00000165810 / ENSG00000165810: 100%|█████████████████████| 46665/46665 [03:52<00:00, 200.43it/s]\n"
     ]
    },
    {
     "data": {
      "text/plain": [
       "PosixPath('/opt/data/projects/asthma-copd/results/gls_phenoplier/gene_corrs/aco/by_chr/gene_corrs-chr5.pkl')"
      ]
     },
     "metadata": {},
     "output_type": "display_data"
    }
   ],
   "source": [
    "gene_corrs = []\n",
    "gene_corrs_data = np.full(\n",
    "    (n, n),\n",
    "    np.nan,\n",
    "    dtype=np.float64,\n",
    ")\n",
    "\n",
    "i = 0\n",
    "with tqdm(ncols=100, total=n_comb) as pbar:\n",
    "    for gene1_idx in range(0, len(gene_chr_objs)):\n",
    "        gene1_obj = gene_chr_objs[gene1_idx]\n",
    "        gene1_tissues = spredixcan_genes_models.loc[gene1_obj.ensembl_id, \"tissue\"]\n",
    "\n",
    "        for gene2_idx in range(gene1_idx, len(gene_chr_objs)):\n",
    "            gene2_obj = gene_chr_objs[gene2_idx]\n",
    "            gene2_tissues = spredixcan_genes_models.loc[gene2_obj.ensembl_id, \"tissue\"]\n",
    "\n",
    "            pbar.set_description(f\"{gene1_obj.ensembl_id} / {gene2_obj.ensembl_id}\")\n",
    "\n",
    "            try:\n",
    "                r = gene1_obj.get_ssm_correlation(\n",
    "                    other_gene=gene2_obj,\n",
    "                    tissues=gene1_tissues,\n",
    "                    other_tissues=gene2_tissues,\n",
    "                    snps_subset=gwas_variants_ids_set,\n",
    "                    condition_number=SMULTIXCAN_CONDITION_NUMBER,\n",
    "                    reference_panel=REFERENCE_PANEL,\n",
    "                    model_type=EQTL_MODEL,\n",
    "                    use_within_distance=COMPUTE_CORRELATIONS_WITHIN_DISTANCE,\n",
    "                )\n",
    "\n",
    "                if r is None:\n",
    "                    # if r is None, it's very likely because:\n",
    "                    #  * one of the genes has no prediction models\n",
    "                    #  * all the SNPs predictors for the gene are not present in the reference\n",
    "                    #    panel\n",
    "\n",
    "                    r = 0.0\n",
    "\n",
    "                gene_corrs.append(r)\n",
    "\n",
    "                gene_corrs_data[gene1_idx, gene2_idx] = r\n",
    "                gene_corrs_data[gene2_idx, gene1_idx] = r\n",
    "            except Warning as e:\n",
    "                if not DEBUG_MODE:\n",
    "                    raise e\n",
    "\n",
    "                print(\n",
    "                    f\"RuntimeWarning for genes {gene1_obj.ensembl_id} and {gene2_obj.ensembl_id}\",\n",
    "                    flush=True,\n",
    "                )\n",
    "                print(traceback.format_exc(), flush=True)\n",
    "\n",
    "                gene_corrs.append(np.nan)\n",
    "            except Exception as e:\n",
    "                if not DEBUG_MODE:\n",
    "                    raise e\n",
    "\n",
    "                print(\n",
    "                    f\"Exception for genes {gene1_obj.ensembl_id} and {gene2_obj.ensembl_id}\",\n",
    "                    flush=True,\n",
    "                )\n",
    "                print(traceback.format_exc(), flush=True)\n",
    "\n",
    "                gene_corrs.append(np.nan)\n",
    "\n",
    "            pbar.update(1)\n",
    "\n",
    "# create a pandas series\n",
    "gene_corrs_flat = pd.Series(gene_corrs)\n",
    "\n",
    "# save\n",
    "# FIXME: consider saving only the condenced matrix here. See here for\n",
    "# more details: https://github.com/greenelab/phenoplier/pull/38#discussion_r634600813\n",
    "# gene_corrs_data = squareform(np.array(gene_corrs, dtype=np.float64))\n",
    "# np.fill_diagonal(gene_corrs_data, 1.0)\n",
    "\n",
    "gene_chr_ids = [g.ensembl_id for g in gene_chr_objs]\n",
    "gene_corrs_df = pd.DataFrame(\n",
    "    data=gene_corrs_data,\n",
    "    index=gene_chr_ids,\n",
    "    columns=gene_chr_ids,\n",
    ")\n",
    "\n",
    "output_dir.mkdir(exist_ok=True, parents=True)\n",
    "display(output_file)\n",
    "\n",
    "gene_corrs_df.to_pickle(output_file)"
   ]
  },
  {
   "cell_type": "markdown",
   "id": "faa67b51-5373-470f-aa72-2ded53fa6dfe",
   "metadata": {
    "papermill": {
     "duration": 1.433514,
     "end_time": "2022-12-05T17:22:59.649489",
     "exception": false,
     "start_time": "2022-12-05T17:22:58.215975",
     "status": "completed"
    },
    "tags": []
   },
   "source": [
    "# Testing"
   ]
  },
  {
   "cell_type": "code",
   "execution_count": 30,
   "id": "14f7d046-4b55-4896-a56b-990127bcc388",
   "metadata": {
    "execution": {
     "iopub.execute_input": "2022-12-05T17:23:02.555548Z",
     "iopub.status.busy": "2022-12-05T17:23:02.555168Z",
     "iopub.status.idle": "2022-12-05T17:23:02.575401Z",
     "shell.execute_reply": "2022-12-05T17:23:02.574820Z"
    },
    "papermill": {
     "duration": 1.485782,
     "end_time": "2022-12-05T17:23:02.576416",
     "exception": false,
     "start_time": "2022-12-05T17:23:01.090634",
     "status": "completed"
    },
    "tags": []
   },
   "outputs": [
    {
     "data": {
      "text/plain": [
       "(305, 305)"
      ]
     },
     "execution_count": 30,
     "metadata": {},
     "output_type": "execute_result"
    }
   ],
   "source": [
    "gene_corrs_df.shape"
   ]
  },
  {
   "cell_type": "code",
   "execution_count": 31,
   "id": "c7d15414-3297-4537-a7c6-7588c0baeb75",
   "metadata": {
    "execution": {
     "iopub.execute_input": "2022-12-05T17:23:05.537099Z",
     "iopub.status.busy": "2022-12-05T17:23:05.536756Z",
     "iopub.status.idle": "2022-12-05T17:23:05.567425Z",
     "shell.execute_reply": "2022-12-05T17:23:05.566717Z"
    },
    "papermill": {
     "duration": 1.531496,
     "end_time": "2022-12-05T17:23:05.568439",
     "exception": false,
     "start_time": "2022-12-05T17:23:04.036943",
     "status": "completed"
    },
    "tags": []
   },
   "outputs": [
    {
     "data": {
      "text/html": [
       "<div>\n",
       "<style scoped>\n",
       "    .dataframe tbody tr th:only-of-type {\n",
       "        vertical-align: middle;\n",
       "    }\n",
       "\n",
       "    .dataframe tbody tr th {\n",
       "        vertical-align: top;\n",
       "    }\n",
       "\n",
       "    .dataframe thead th {\n",
       "        text-align: right;\n",
       "    }\n",
       "</style>\n",
       "<table border=\"1\" class=\"dataframe\">\n",
       "  <thead>\n",
       "    <tr style=\"text-align: right;\">\n",
       "      <th></th>\n",
       "      <th>ENSG00000073578</th>\n",
       "      <th>ENSG00000180104</th>\n",
       "      <th>ENSG00000066230</th>\n",
       "      <th>ENSG00000112877</th>\n",
       "      <th>ENSG00000113504</th>\n",
       "      <th>ENSG00000174358</th>\n",
       "      <th>ENSG00000164362</th>\n",
       "      <th>ENSG00000049656</th>\n",
       "      <th>ENSG00000153395</th>\n",
       "      <th>ENSG00000171421</th>\n",
       "      <th>...</th>\n",
       "      <th>ENSG00000161021</th>\n",
       "      <th>ENSG00000161013</th>\n",
       "      <th>ENSG00000161011</th>\n",
       "      <th>ENSG00000050748</th>\n",
       "      <th>ENSG00000131459</th>\n",
       "      <th>ENSG00000113300</th>\n",
       "      <th>ENSG00000037280</th>\n",
       "      <th>ENSG00000131446</th>\n",
       "      <th>ENSG00000113303</th>\n",
       "      <th>ENSG00000165810</th>\n",
       "    </tr>\n",
       "  </thead>\n",
       "  <tbody>\n",
       "    <tr>\n",
       "      <th>ENSG00000073578</th>\n",
       "      <td>1.000000</td>\n",
       "      <td>0.240815</td>\n",
       "      <td>0.161150</td>\n",
       "      <td>0.049611</td>\n",
       "      <td>0.015151</td>\n",
       "      <td>0.011679</td>\n",
       "      <td>0.008640</td>\n",
       "      <td>0.010104</td>\n",
       "      <td>0.012698</td>\n",
       "      <td>0.008122</td>\n",
       "      <td>...</td>\n",
       "      <td>0.0</td>\n",
       "      <td>0.0</td>\n",
       "      <td>0.0</td>\n",
       "      <td>0.0</td>\n",
       "      <td>0.0</td>\n",
       "      <td>0.0</td>\n",
       "      <td>0.0</td>\n",
       "      <td>0.0</td>\n",
       "      <td>0.0</td>\n",
       "      <td>0.0</td>\n",
       "    </tr>\n",
       "    <tr>\n",
       "      <th>ENSG00000180104</th>\n",
       "      <td>0.240815</td>\n",
       "      <td>1.000000</td>\n",
       "      <td>0.394044</td>\n",
       "      <td>0.092476</td>\n",
       "      <td>0.006065</td>\n",
       "      <td>0.010590</td>\n",
       "      <td>0.007414</td>\n",
       "      <td>0.004419</td>\n",
       "      <td>0.004101</td>\n",
       "      <td>0.006108</td>\n",
       "      <td>...</td>\n",
       "      <td>0.0</td>\n",
       "      <td>0.0</td>\n",
       "      <td>0.0</td>\n",
       "      <td>0.0</td>\n",
       "      <td>0.0</td>\n",
       "      <td>0.0</td>\n",
       "      <td>0.0</td>\n",
       "      <td>0.0</td>\n",
       "      <td>0.0</td>\n",
       "      <td>0.0</td>\n",
       "    </tr>\n",
       "    <tr>\n",
       "      <th>ENSG00000066230</th>\n",
       "      <td>0.161150</td>\n",
       "      <td>0.394044</td>\n",
       "      <td>1.000000</td>\n",
       "      <td>0.216369</td>\n",
       "      <td>0.012961</td>\n",
       "      <td>0.008745</td>\n",
       "      <td>0.006762</td>\n",
       "      <td>0.009393</td>\n",
       "      <td>0.012246</td>\n",
       "      <td>0.008238</td>\n",
       "      <td>...</td>\n",
       "      <td>0.0</td>\n",
       "      <td>0.0</td>\n",
       "      <td>0.0</td>\n",
       "      <td>0.0</td>\n",
       "      <td>0.0</td>\n",
       "      <td>0.0</td>\n",
       "      <td>0.0</td>\n",
       "      <td>0.0</td>\n",
       "      <td>0.0</td>\n",
       "      <td>0.0</td>\n",
       "    </tr>\n",
       "    <tr>\n",
       "      <th>ENSG00000112877</th>\n",
       "      <td>0.049611</td>\n",
       "      <td>0.092476</td>\n",
       "      <td>0.216369</td>\n",
       "      <td>1.000000</td>\n",
       "      <td>0.021994</td>\n",
       "      <td>0.007444</td>\n",
       "      <td>0.007431</td>\n",
       "      <td>0.008093</td>\n",
       "      <td>0.011573</td>\n",
       "      <td>0.003085</td>\n",
       "      <td>...</td>\n",
       "      <td>0.0</td>\n",
       "      <td>0.0</td>\n",
       "      <td>0.0</td>\n",
       "      <td>0.0</td>\n",
       "      <td>0.0</td>\n",
       "      <td>0.0</td>\n",
       "      <td>0.0</td>\n",
       "      <td>0.0</td>\n",
       "      <td>0.0</td>\n",
       "      <td>0.0</td>\n",
       "    </tr>\n",
       "    <tr>\n",
       "      <th>ENSG00000113504</th>\n",
       "      <td>0.015151</td>\n",
       "      <td>0.006065</td>\n",
       "      <td>0.012961</td>\n",
       "      <td>0.021994</td>\n",
       "      <td>1.000000</td>\n",
       "      <td>0.023247</td>\n",
       "      <td>0.009773</td>\n",
       "      <td>0.008319</td>\n",
       "      <td>0.114610</td>\n",
       "      <td>0.008152</td>\n",
       "      <td>...</td>\n",
       "      <td>0.0</td>\n",
       "      <td>0.0</td>\n",
       "      <td>0.0</td>\n",
       "      <td>0.0</td>\n",
       "      <td>0.0</td>\n",
       "      <td>0.0</td>\n",
       "      <td>0.0</td>\n",
       "      <td>0.0</td>\n",
       "      <td>0.0</td>\n",
       "      <td>0.0</td>\n",
       "    </tr>\n",
       "  </tbody>\n",
       "</table>\n",
       "<p>5 rows × 305 columns</p>\n",
       "</div>"
      ],
      "text/plain": [
       "                 ENSG00000073578  ENSG00000180104  ENSG00000066230  \\\n",
       "ENSG00000073578         1.000000         0.240815         0.161150   \n",
       "ENSG00000180104         0.240815         1.000000         0.394044   \n",
       "ENSG00000066230         0.161150         0.394044         1.000000   \n",
       "ENSG00000112877         0.049611         0.092476         0.216369   \n",
       "ENSG00000113504         0.015151         0.006065         0.012961   \n",
       "\n",
       "                 ENSG00000112877  ENSG00000113504  ENSG00000174358  \\\n",
       "ENSG00000073578         0.049611         0.015151         0.011679   \n",
       "ENSG00000180104         0.092476         0.006065         0.010590   \n",
       "ENSG00000066230         0.216369         0.012961         0.008745   \n",
       "ENSG00000112877         1.000000         0.021994         0.007444   \n",
       "ENSG00000113504         0.021994         1.000000         0.023247   \n",
       "\n",
       "                 ENSG00000164362  ENSG00000049656  ENSG00000153395  \\\n",
       "ENSG00000073578         0.008640         0.010104         0.012698   \n",
       "ENSG00000180104         0.007414         0.004419         0.004101   \n",
       "ENSG00000066230         0.006762         0.009393         0.012246   \n",
       "ENSG00000112877         0.007431         0.008093         0.011573   \n",
       "ENSG00000113504         0.009773         0.008319         0.114610   \n",
       "\n",
       "                 ENSG00000171421  ...  ENSG00000161021  ENSG00000161013  \\\n",
       "ENSG00000073578         0.008122  ...              0.0              0.0   \n",
       "ENSG00000180104         0.006108  ...              0.0              0.0   \n",
       "ENSG00000066230         0.008238  ...              0.0              0.0   \n",
       "ENSG00000112877         0.003085  ...              0.0              0.0   \n",
       "ENSG00000113504         0.008152  ...              0.0              0.0   \n",
       "\n",
       "                 ENSG00000161011  ENSG00000050748  ENSG00000131459  \\\n",
       "ENSG00000073578              0.0              0.0              0.0   \n",
       "ENSG00000180104              0.0              0.0              0.0   \n",
       "ENSG00000066230              0.0              0.0              0.0   \n",
       "ENSG00000112877              0.0              0.0              0.0   \n",
       "ENSG00000113504              0.0              0.0              0.0   \n",
       "\n",
       "                 ENSG00000113300  ENSG00000037280  ENSG00000131446  \\\n",
       "ENSG00000073578              0.0              0.0              0.0   \n",
       "ENSG00000180104              0.0              0.0              0.0   \n",
       "ENSG00000066230              0.0              0.0              0.0   \n",
       "ENSG00000112877              0.0              0.0              0.0   \n",
       "ENSG00000113504              0.0              0.0              0.0   \n",
       "\n",
       "                 ENSG00000113303  ENSG00000165810  \n",
       "ENSG00000073578              0.0              0.0  \n",
       "ENSG00000180104              0.0              0.0  \n",
       "ENSG00000066230              0.0              0.0  \n",
       "ENSG00000112877              0.0              0.0  \n",
       "ENSG00000113504              0.0              0.0  \n",
       "\n",
       "[5 rows x 305 columns]"
      ]
     },
     "execution_count": 31,
     "metadata": {},
     "output_type": "execute_result"
    }
   ],
   "source": [
    "gene_corrs_df.head()"
   ]
  },
  {
   "cell_type": "markdown",
   "id": "dad6603f-01c6-41fb-a6f6-241051207dd8",
   "metadata": {
    "papermill": {
     "duration": 1.433378,
     "end_time": "2022-12-05T17:23:08.415157",
     "exception": false,
     "start_time": "2022-12-05T17:23:06.981779",
     "status": "completed"
    },
    "tags": []
   },
   "source": [
    "## Standard checks and stats"
   ]
  },
  {
   "cell_type": "code",
   "execution_count": 32,
   "id": "286686af-1b7b-4440-8453-6bdcbd8de19c",
   "metadata": {
    "execution": {
     "iopub.execute_input": "2022-12-05T17:23:11.244001Z",
     "iopub.status.busy": "2022-12-05T17:23:11.243584Z",
     "iopub.status.idle": "2022-12-05T17:23:11.266794Z",
     "shell.execute_reply": "2022-12-05T17:23:11.266088Z"
    },
    "papermill": {
     "duration": 1.413258,
     "end_time": "2022-12-05T17:23:11.267708",
     "exception": false,
     "start_time": "2022-12-05T17:23:09.854450",
     "status": "completed"
    },
    "tags": []
   },
   "outputs": [],
   "source": [
    "assert not gene_corrs_df.isna().any(axis=None)"
   ]
  },
  {
   "cell_type": "code",
   "execution_count": 33,
   "id": "00583efc-7068-4270-ad1e-4a418e91db96",
   "metadata": {
    "execution": {
     "iopub.execute_input": "2022-12-05T17:23:14.149417Z",
     "iopub.status.busy": "2022-12-05T17:23:14.148965Z",
     "iopub.status.idle": "2022-12-05T17:23:14.173958Z",
     "shell.execute_reply": "2022-12-05T17:23:14.173285Z"
    },
    "papermill": {
     "duration": 1.466338,
     "end_time": "2022-12-05T17:23:14.174842",
     "exception": false,
     "start_time": "2022-12-05T17:23:12.708504",
     "status": "completed"
    },
    "tags": []
   },
   "outputs": [
    {
     "data": {
      "text/plain": [
       "0.0"
      ]
     },
     "metadata": {},
     "output_type": "display_data"
    }
   ],
   "source": [
    "_min_val = gene_corrs_df.min().min()\n",
    "display(_min_val)\n",
    "assert _min_val >= -0.05"
   ]
  },
  {
   "cell_type": "code",
   "execution_count": 34,
   "id": "d04fb2cf-1050-475b-b855-f5f7cc04092b",
   "metadata": {
    "execution": {
     "iopub.execute_input": "2022-12-05T17:23:17.080599Z",
     "iopub.status.busy": "2022-12-05T17:23:17.080182Z",
     "iopub.status.idle": "2022-12-05T17:23:17.102834Z",
     "shell.execute_reply": "2022-12-05T17:23:17.102271Z"
    },
    "papermill": {
     "duration": 1.489152,
     "end_time": "2022-12-05T17:23:17.103714",
     "exception": false,
     "start_time": "2022-12-05T17:23:15.614562",
     "status": "completed"
    },
    "tags": []
   },
   "outputs": [
    {
     "data": {
      "text/plain": [
       "1.000000000000003"
      ]
     },
     "metadata": {},
     "output_type": "display_data"
    }
   ],
   "source": [
    "_max_val = gene_corrs_df.max().max()  # this captures the diagonal\n",
    "display(_max_val)\n",
    "assert _max_val <= 1.05"
   ]
  },
  {
   "cell_type": "code",
   "execution_count": 35,
   "id": "fe283586-c348-40e0-8841-f6d97bfb021c",
   "metadata": {
    "execution": {
     "iopub.execute_input": "2022-12-05T17:23:19.976213Z",
     "iopub.status.busy": "2022-12-05T17:23:19.975883Z",
     "iopub.status.idle": "2022-12-05T17:23:20.000974Z",
     "shell.execute_reply": "2022-12-05T17:23:20.000391Z"
    },
    "papermill": {
     "duration": 1.490572,
     "end_time": "2022-12-05T17:23:20.001858",
     "exception": false,
     "start_time": "2022-12-05T17:23:18.511286",
     "status": "completed"
    },
    "tags": []
   },
   "outputs": [
    {
     "data": {
      "text/plain": [
       "count    46665.000000\n",
       "mean         0.009101\n",
       "std          0.085833\n",
       "min          0.000000\n",
       "25%          0.000000\n",
       "50%          0.000000\n",
       "75%          0.000000\n",
       "max          1.000000\n",
       "dtype: float64"
      ]
     },
     "execution_count": 35,
     "metadata": {},
     "output_type": "execute_result"
    }
   ],
   "source": [
    "gene_corrs_flat.describe()"
   ]
  },
  {
   "cell_type": "code",
   "execution_count": 36,
   "id": "b3815678-0f93-4b35-897b-a9d047a2aa78",
   "metadata": {
    "execution": {
     "iopub.execute_input": "2022-12-05T17:23:22.899743Z",
     "iopub.status.busy": "2022-12-05T17:23:22.899345Z",
     "iopub.status.idle": "2022-12-05T17:23:22.926729Z",
     "shell.execute_reply": "2022-12-05T17:23:22.926153Z"
    },
    "papermill": {
     "duration": 1.443322,
     "end_time": "2022-12-05T17:23:22.927605",
     "exception": false,
     "start_time": "2022-12-05T17:23:21.484283",
     "status": "completed"
    },
    "tags": []
   },
   "outputs": [
    {
     "data": {
      "text/plain": [
       "0.00    0.000000\n",
       "0.05    0.000000\n",
       "0.10    0.000000\n",
       "0.15    0.000000\n",
       "0.20    0.000000\n",
       "0.25    0.000000\n",
       "0.30    0.000000\n",
       "0.35    0.000000\n",
       "0.40    0.000000\n",
       "0.45    0.000000\n",
       "0.50    0.000000\n",
       "0.55    0.000000\n",
       "0.60    0.000000\n",
       "0.65    0.000000\n",
       "0.70    0.000000\n",
       "0.75    0.000000\n",
       "0.80    0.000000\n",
       "0.85    0.000000\n",
       "0.90    0.000000\n",
       "0.95    0.006334\n",
       "dtype: float64"
      ]
     },
     "metadata": {},
     "output_type": "display_data"
    }
   ],
   "source": [
    "gene_corrs_quantiles = gene_corrs_flat.quantile(np.arange(0, 1, 0.05))\n",
    "display(gene_corrs_quantiles)"
   ]
  },
  {
   "cell_type": "markdown",
   "id": "87134509-b145-4a10-8bc9-b7e914c2b0fa",
   "metadata": {
    "papermill": {
     "duration": 1.457592,
     "end_time": "2022-12-05T17:23:25.846375",
     "exception": false,
     "start_time": "2022-12-05T17:23:24.388783",
     "status": "completed"
    },
    "tags": []
   },
   "source": [
    "## Positive definiteness"
   ]
  },
  {
   "cell_type": "code",
   "execution_count": 37,
   "id": "07d9a9a1-a4f7-48aa-b916-6d42a8cc6186",
   "metadata": {
    "execution": {
     "iopub.execute_input": "2022-12-05T17:23:28.828386Z",
     "iopub.status.busy": "2022-12-05T17:23:28.827627Z",
     "iopub.status.idle": "2022-12-05T17:23:28.880787Z",
     "shell.execute_reply": "2022-12-05T17:23:28.880231Z"
    },
    "papermill": {
     "duration": 1.551641,
     "end_time": "2022-12-05T17:23:28.881700",
     "exception": false,
     "start_time": "2022-12-05T17:23:27.330059",
     "status": "completed"
    },
    "tags": []
   },
   "outputs": [
    {
     "data": {
      "text/plain": [
       "0"
      ]
     },
     "metadata": {},
     "output_type": "display_data"
    },
    {
     "data": {
      "text/plain": [
       "array([], dtype=float64)"
      ]
     },
     "metadata": {},
     "output_type": "display_data"
    }
   ],
   "source": [
    "# print negative eigenvalues\n",
    "eigs = np.linalg.eigvals(gene_corrs_df.to_numpy())\n",
    "display(len(eigs[eigs < 0]))\n",
    "display(eigs[eigs < 0])"
   ]
  },
  {
   "cell_type": "code",
   "execution_count": 38,
   "id": "6e218436-c3c5-4028-8c94-a4fa6260efce",
   "metadata": {
    "execution": {
     "iopub.execute_input": "2022-12-05T17:23:31.792973Z",
     "iopub.status.busy": "2022-12-05T17:23:31.792534Z",
     "iopub.status.idle": "2022-12-05T17:23:31.821261Z",
     "shell.execute_reply": "2022-12-05T17:23:31.820567Z"
    },
    "papermill": {
     "duration": 1.508723,
     "end_time": "2022-12-05T17:23:31.822287",
     "exception": false,
     "start_time": "2022-12-05T17:23:30.313564",
     "status": "completed"
    },
    "tags": []
   },
   "outputs": [
    {
     "name": "stdout",
     "output_type": "stream",
     "text": [
      "Works!\n"
     ]
    }
   ],
   "source": [
    "try:\n",
    "    chol_mat = np.linalg.cholesky(gene_corrs_df.to_numpy())\n",
    "    cov_inv = np.linalg.inv(chol_mat)\n",
    "    print(\"Works!\")\n",
    "except Exception as e:\n",
    "    print(f\"Cholesky decomposition failed: {str(e)}\")"
   ]
  },
  {
   "cell_type": "code",
   "execution_count": 39,
   "id": "dd8827fb-faf9-4c7c-9454-015e94752706",
   "metadata": {
    "execution": {
     "iopub.execute_input": "2022-12-05T17:23:34.744112Z",
     "iopub.status.busy": "2022-12-05T17:23:34.743499Z",
     "iopub.status.idle": "2022-12-05T17:23:34.770612Z",
     "shell.execute_reply": "2022-12-05T17:23:34.770119Z"
    },
    "papermill": {
     "duration": 1.459989,
     "end_time": "2022-12-05T17:23:34.771438",
     "exception": false,
     "start_time": "2022-12-05T17:23:33.311449",
     "status": "completed"
    },
    "tags": []
   },
   "outputs": [
    {
     "name": "stdout",
     "output_type": "stream",
     "text": [
      "Works!\n"
     ]
    }
   ],
   "source": [
    "try:\n",
    "    # decomposition used by statsmodels.GLS\n",
    "    cholsigmainv = np.linalg.cholesky(np.linalg.inv(gene_corrs_df.to_numpy())).T\n",
    "    print(\"Works!\")\n",
    "except Exception as e:\n",
    "    print(f\"Cholesky decomposition failed (statsmodels.GLS): {str(e)}\")"
   ]
  },
  {
   "cell_type": "markdown",
   "id": "8e60a080-edb2-4e9c-b2ef-22961693200c",
   "metadata": {
    "papermill": {
     "duration": 1.604821,
     "end_time": "2022-12-05T17:23:37.871345",
     "exception": false,
     "start_time": "2022-12-05T17:23:36.266524",
     "status": "completed"
    },
    "tags": []
   },
   "source": [
    "## Plot: distribution"
   ]
  },
  {
   "cell_type": "code",
   "execution_count": 40,
   "id": "8301126b-a7d4-4744-9c7d-f0f86eb6f54c",
   "metadata": {
    "execution": {
     "iopub.execute_input": "2022-12-05T17:23:40.979584Z",
     "iopub.status.busy": "2022-12-05T17:23:40.979128Z",
     "iopub.status.idle": "2022-12-05T17:23:41.353069Z",
     "shell.execute_reply": "2022-12-05T17:23:41.352523Z"
    },
    "papermill": {
     "duration": 1.925239,
     "end_time": "2022-12-05T17:23:41.354340",
     "exception": false,
     "start_time": "2022-12-05T17:23:39.429101",
     "status": "completed"
    },
    "tags": []
   },
   "outputs": [
    {
     "data": {
      "image/png": "[encoded data removed]",
      "text/plain": [
       "<Figure size 700x700 with 1 Axes>"
      ]
     },
     "metadata": {},
     "output_type": "display_data"
    }
   ],
   "source": [
    "with sns.plotting_context(\"paper\", font_scale=1.5):\n",
    "    g = sns.displot(gene_corrs_flat, kde=True, height=7)\n",
    "    g.ax.set_title(\n",
    "        f\"Distribution of gene correlation values in chromosome {CHROMOSOME}\"\n",
    "    )"
   ]
  },
  {
   "cell_type": "markdown",
   "id": "cbd52bca-d878-4a2f-b684-5c83aa3038d4",
   "metadata": {
    "papermill": {
     "duration": 1.477266,
     "end_time": "2022-12-05T17:23:44.260973",
     "exception": false,
     "start_time": "2022-12-05T17:23:42.783707",
     "status": "completed"
    },
    "tags": []
   },
   "source": [
    "## Plot: heatmap"
   ]
  },
  {
   "cell_type": "code",
   "execution_count": 41,
   "id": "d03fe63a-c7b2-4fb9-a53c-db362ce843c9",
   "metadata": {
    "execution": {
     "iopub.execute_input": "2022-12-05T17:23:47.169198Z",
     "iopub.status.busy": "2022-12-05T17:23:47.168427Z",
     "iopub.status.idle": "2022-12-05T17:23:47.190280Z",
     "shell.execute_reply": "2022-12-05T17:23:47.189596Z"
    },
    "papermill": {
     "duration": 1.459774,
     "end_time": "2022-12-05T17:23:47.191219",
     "exception": false,
     "start_time": "2022-12-05T17:23:45.731445",
     "status": "completed"
    },
    "tags": []
   },
   "outputs": [
    {
     "data": {
      "text/plain": [
       "'0.0 / 0.05'"
      ]
     },
     "metadata": {},
     "output_type": "display_data"
    }
   ],
   "source": [
    "vmin_val = min(0.00, gene_corrs_quantiles[0.10])\n",
    "vmax_val = max(0.05, gene_corrs_quantiles[0.90])\n",
    "display(f\"{vmin_val} / {vmax_val}\")"
   ]
  },
  {
   "cell_type": "code",
   "execution_count": 42,
   "id": "dc41b70b-5bcc-4d9e-9f33-a22c4a94dab5",
   "metadata": {
    "execution": {
     "iopub.execute_input": "2022-12-05T17:23:50.148196Z",
     "iopub.status.busy": "2022-12-05T17:23:50.147833Z",
     "iopub.status.idle": "2022-12-05T17:23:50.387500Z",
     "shell.execute_reply": "2022-12-05T17:23:50.386963Z"
    },
    "papermill": {
     "duration": 1.719261,
     "end_time": "2022-12-05T17:23:50.388591",
     "exception": false,
     "start_time": "2022-12-05T17:23:48.669330",
     "status": "completed"
    },
    "tags": []
   },
   "outputs": [
    {
     "data": {
      "text/plain": [
       "Text(0.5, 1.0, 'Gene correlations in chromosome 5')"
      ]
     },
     "execution_count": 42,
     "metadata": {},
     "output_type": "execute_result"
    },
    {
     "data": {
      "image/png": "[encoded data removed]",
      "text/plain": [
       "<Figure size 1000x1000 with 2 Axes>"
      ]
     },
     "metadata": {},
     "output_type": "display_data"
    }
   ],
   "source": [
    "f, ax = plt.subplots(figsize=(10, 10))\n",
    "sns.heatmap(\n",
    "    gene_corrs_df,\n",
    "    xticklabels=False,\n",
    "    yticklabels=False,\n",
    "    square=True,\n",
    "    vmin=vmin_val,\n",
    "    vmax=vmax_val,\n",
    "    cmap=\"rocket_r\",\n",
    "    ax=ax,\n",
    ")\n",
    "ax.set_title(f\"Gene correlations in chromosome {CHROMOSOME}\")"
   ]
  },
  {
   "cell_type": "code",
   "execution_count": null,
   "id": "b25e3ead",
   "metadata": {
    "papermill": {
     "duration": 1.566532,
     "end_time": "2022-12-05T17:23:53.490520",
     "exception": false,
     "start_time": "2022-12-05T17:23:51.923988",
     "status": "completed"
    },
    "tags": []
   },
   "outputs": [],
   "source": []
  }
 ],
 "metadata": {
  "jupytext": {
   "cell_metadata_filter": "all,-execution,-papermill,-trusted",
   "formats": "ipynb,py//py:percent"
  },
  "kernelspec": {
   "display_name": "Python 3 (ipykernel)",
   "language": "python",
   "name": "python3"
  },
  "language_info": {
   "codemirror_mode": {
    "name": "ipython",
    "version": 3
   },
   "file_extension": ".py",
   "mimetype": "text/x-python",
   "name": "python",
   "nbconvert_exporter": "python",
   "pygments_lexer": "ipython3",
   "version": "3.10.6"
  },
  "papermill": {
   "default_parameters": {},
   "duration": 300.584255,
   "end_time": "2022-12-05T17:23:58.322252",
   "environment_variables": {},
   "exception": null,
   "input_path": "projects/asthma-copd/nbs/20_gene_corrs/jobs/05-gene_expr_correlations.ipynb",
   "output_path": "projects/asthma-copd/nbs/20_gene_corrs/jobs/../output/aco/05-gene_expr_correlations-chr5.run.ipynb",
   "parameters": {
    "CHROMOSOME": 5,
    "COHORT_NAME": "aco",
    "OUTPUT_DIR_BASE": "/opt/data/projects/asthma-copd/results/gls_phenoplier",
    "PHENOPLIER_NOTEBOOK_FILEPATH": "projects/asthma-copd/nbs/20_gene_corrs/jobs/05-gene_expr_correlations.ipynb"
   },
   "start_time": "2022-12-05T17:18:57.737997",
   "version": "2.2.2"
  }
 },
 "nbformat": 4,
 "nbformat_minor": 5
}
