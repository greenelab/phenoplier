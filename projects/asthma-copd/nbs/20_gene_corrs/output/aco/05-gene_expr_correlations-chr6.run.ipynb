{
 "cells": [
  {
   "cell_type": "markdown",
   "id": "7a6632fb",
   "metadata": {
    "papermill": {
     "duration": 0.017024,
     "end_time": "2022-12-15T18:03:29.164679",
     "exception": false,
     "start_time": "2022-12-15T18:03:29.147655",
     "status": "completed"
    },
    "tags": []
   },
   "source": [
    "# Description"
   ]
  },
  {
   "cell_type": "markdown",
   "id": "7097c346",
   "metadata": {
    "papermill": {
     "duration": 0.01411,
     "end_time": "2022-12-15T18:03:29.193368",
     "exception": false,
     "start_time": "2022-12-15T18:03:29.179258",
     "status": "completed"
    },
    "tags": []
   },
   "source": [
    "(Please, take a look at the README.md file in this directory for instructions on how to run this notebook)\n",
    "\n",
    "This notebook computes predicted expression correlations between all genes in the MultiPLIER models.\n",
    "\n",
    "It has specicfic parameters for papermill (see under `Settings` below).\n",
    "It can be configured to run on a single chromosome to run in parallel.\n",
    "\n",
    "This notebook is not directly run. See README.md."
   ]
  },
  {
   "cell_type": "markdown",
   "id": "c61d8427",
   "metadata": {
    "papermill": {
     "duration": 0.013477,
     "end_time": "2022-12-15T18:03:29.220910",
     "exception": false,
     "start_time": "2022-12-15T18:03:29.207433",
     "status": "completed"
    },
    "tags": []
   },
   "source": [
    "# Modules"
   ]
  },
  {
   "cell_type": "code",
   "execution_count": 1,
   "id": "bbc0234f",
   "metadata": {
    "execution": {
     "iopub.execute_input": "2022-12-15T18:03:29.254426Z",
     "iopub.status.busy": "2022-12-15T18:03:29.254071Z",
     "iopub.status.idle": "2022-12-15T18:03:29.271800Z",
     "shell.execute_reply": "2022-12-15T18:03:29.271154Z"
    },
    "papermill": {
     "duration": 0.036798,
     "end_time": "2022-12-15T18:03:29.275275",
     "exception": false,
     "start_time": "2022-12-15T18:03:29.238477",
     "status": "completed"
    },
    "tags": []
   },
   "outputs": [],
   "source": [
    "%load_ext autoreload\n",
    "%autoreload 2"
   ]
  },
  {
   "cell_type": "code",
   "execution_count": 2,
   "id": "1d5f5a59",
   "metadata": {
    "execution": {
     "iopub.execute_input": "2022-12-15T18:03:29.305414Z",
     "iopub.status.busy": "2022-12-15T18:03:29.305129Z",
     "iopub.status.idle": "2022-12-15T18:03:30.074179Z",
     "shell.execute_reply": "2022-12-15T18:03:30.073581Z"
    },
    "papermill": {
     "duration": 0.788785,
     "end_time": "2022-12-15T18:03:30.078541",
     "exception": false,
     "start_time": "2022-12-15T18:03:29.289756",
     "status": "completed"
    },
    "tags": []
   },
   "outputs": [],
   "source": [
    "from random import sample, seed\n",
    "import warnings\n",
    "from pathlib import Path\n",
    "import pickle\n",
    "import traceback\n",
    "\n",
    "import numpy as np\n",
    "from scipy.spatial.distance import squareform\n",
    "import pandas as pd\n",
    "from tqdm import tqdm\n",
    "import matplotlib.pyplot as plt\n",
    "import seaborn as sns\n",
    "\n",
    "import conf\n",
    "from entity import Gene"
   ]
  },
  {
   "cell_type": "markdown",
   "id": "1eac24b5",
   "metadata": {
    "papermill": {
     "duration": 0.01685,
     "end_time": "2022-12-15T18:03:30.113005",
     "exception": false,
     "start_time": "2022-12-15T18:03:30.096155",
     "status": "completed"
    },
    "tags": []
   },
   "source": [
    "# Settings"
   ]
  },
  {
   "cell_type": "code",
   "execution_count": 3,
   "id": "ca4560ba",
   "metadata": {
    "execution": {
     "iopub.execute_input": "2022-12-15T18:03:30.149505Z",
     "iopub.status.busy": "2022-12-15T18:03:30.148838Z",
     "iopub.status.idle": "2022-12-15T18:03:30.169035Z",
     "shell.execute_reply": "2022-12-15T18:03:30.168456Z"
    },
    "papermill": {
     "duration": 0.043345,
     "end_time": "2022-12-15T18:03:30.173687",
     "exception": false,
     "start_time": "2022-12-15T18:03:30.130342",
     "status": "completed"
    },
    "tags": [
     "parameters"
    ]
   },
   "outputs": [],
   "source": [
    "# a cohort name (it could be something like UK_BIOBANK, etc)\n",
    "COHORT_NAME = None\n",
    "\n",
    "# reference panel such as 1000G or GTEX_V8\n",
    "REFERENCE_PANEL = \"GTEX_V8\"\n",
    "\n",
    "# predictions models such as MASHR or ELASTIC_NET\n",
    "EQTL_MODEL = \"MASHR\"\n",
    "\n",
    "# this is the default value used in S-MultiXcan to select the\n",
    "# top principal components of the expression correlation matrix\n",
    "SMULTIXCAN_CONDITION_NUMBER = 30\n",
    "\n",
    "# specifies a single chromosome value\n",
    "CHROMOSOME = None\n",
    "\n",
    "# If True, computes the correlation between closeby genes only (see\n",
    "# entity.Gene.within_distance for more details). Otherwise, it computes\n",
    "# correlations for all genes in a chromosome\n",
    "COMPUTE_CORRELATIONS_WITHIN_DISTANCE = True\n",
    "\n",
    "# if True, then it will continue if a gene pair correlation fails,\n",
    "# printing the warning/error for debugging. If False, any warning/error\n",
    "# will be thrown\n",
    "DEBUG_MODE = False\n",
    "\n",
    "# output dir\n",
    "OUTPUT_DIR_BASE = None"
   ]
  },
  {
   "cell_type": "code",
   "execution_count": 4,
   "id": "4f57281e",
   "metadata": {
    "execution": {
     "iopub.execute_input": "2022-12-15T18:03:30.211100Z",
     "iopub.status.busy": "2022-12-15T18:03:30.210377Z",
     "iopub.status.idle": "2022-12-15T18:03:30.236844Z",
     "shell.execute_reply": "2022-12-15T18:03:30.236138Z"
    },
    "papermill": {
     "duration": 0.048538,
     "end_time": "2022-12-15T18:03:30.241323",
     "exception": false,
     "start_time": "2022-12-15T18:03:30.192785",
     "status": "completed"
    },
    "tags": [
     "injected-parameters"
    ]
   },
   "outputs": [],
   "source": [
    "# Parameters\n",
    "PHENOPLIER_NOTEBOOK_FILEPATH = (\n",
    "    \"projects/asthma-copd/nbs/20_gene_corrs/jobs/05-gene_expr_correlations.ipynb\"\n",
    ")\n",
    "COHORT_NAME = \"aco\"\n",
    "CHROMOSOME = 6\n",
    "OUTPUT_DIR_BASE = \"/opt/data/projects/asthma-copd/results/gls_phenoplier\"\n"
   ]
  },
  {
   "cell_type": "code",
   "execution_count": 5,
   "id": "3190631f-27fc-480f-b18e-571d580425a5",
   "metadata": {
    "execution": {
     "iopub.execute_input": "2022-12-15T18:03:30.275143Z",
     "iopub.status.busy": "2022-12-15T18:03:30.274691Z",
     "iopub.status.idle": "2022-12-15T18:03:30.305108Z",
     "shell.execute_reply": "2022-12-15T18:03:30.304380Z"
    },
    "papermill": {
     "duration": 0.053392,
     "end_time": "2022-12-15T18:03:30.311213",
     "exception": false,
     "start_time": "2022-12-15T18:03:30.257821",
     "status": "completed"
    },
    "tags": []
   },
   "outputs": [
    {
     "data": {
      "text/plain": [
       "'Cohort name: aco'"
      ]
     },
     "metadata": {},
     "output_type": "display_data"
    }
   ],
   "source": [
    "assert COHORT_NAME is not None and len(COHORT_NAME) > 0, \"A cohort name must be given\"\n",
    "\n",
    "COHORT_NAME = COHORT_NAME.lower()\n",
    "display(f\"Cohort name: {COHORT_NAME}\")"
   ]
  },
  {
   "cell_type": "code",
   "execution_count": 6,
   "id": "f53ba19b-0f93-4fa2-a047-63b375939d1a",
   "metadata": {
    "execution": {
     "iopub.execute_input": "2022-12-15T18:03:30.349576Z",
     "iopub.status.busy": "2022-12-15T18:03:30.349258Z",
     "iopub.status.idle": "2022-12-15T18:03:30.369784Z",
     "shell.execute_reply": "2022-12-15T18:03:30.369297Z"
    },
    "papermill": {
     "duration": 0.046495,
     "end_time": "2022-12-15T18:03:30.375871",
     "exception": false,
     "start_time": "2022-12-15T18:03:30.329376",
     "status": "completed"
    },
    "tags": []
   },
   "outputs": [
    {
     "data": {
      "text/plain": [
       "'Reference panel: GTEX_V8'"
      ]
     },
     "metadata": {},
     "output_type": "display_data"
    }
   ],
   "source": [
    "assert (\n",
    "    REFERENCE_PANEL is not None and len(REFERENCE_PANEL) > 0\n",
    "), \"A reference panel must be given\"\n",
    "\n",
    "display(f\"Reference panel: {REFERENCE_PANEL}\")"
   ]
  },
  {
   "cell_type": "code",
   "execution_count": 7,
   "id": "e024d130-c139-429a-9c6e-ccf149e297b0",
   "metadata": {
    "execution": {
     "iopub.execute_input": "2022-12-15T18:03:30.411971Z",
     "iopub.status.busy": "2022-12-15T18:03:30.411618Z",
     "iopub.status.idle": "2022-12-15T18:03:30.435975Z",
     "shell.execute_reply": "2022-12-15T18:03:30.435349Z"
    },
    "papermill": {
     "duration": 0.048272,
     "end_time": "2022-12-15T18:03:30.441882",
     "exception": false,
     "start_time": "2022-12-15T18:03:30.393610",
     "status": "completed"
    },
    "tags": []
   },
   "outputs": [
    {
     "data": {
      "text/plain": [
       "'eQTL model: MASHR) / mashr_'"
      ]
     },
     "metadata": {},
     "output_type": "display_data"
    }
   ],
   "source": [
    "assert (\n",
    "    EQTL_MODEL is not None and len(EQTL_MODEL) > 0\n",
    "), \"A prediction/eQTL model must be given\"\n",
    "\n",
    "EQTL_MODEL_FILES_PREFIX = conf.PHENOMEXCAN[\"PREDICTION_MODELS\"][f\"{EQTL_MODEL}_PREFIX\"]\n",
    "display(f\"eQTL model: {EQTL_MODEL}) / {EQTL_MODEL_FILES_PREFIX}\")"
   ]
  },
  {
   "cell_type": "code",
   "execution_count": 8,
   "id": "552a7f63-a18c-4d3e-bb6a-94f99b431291",
   "metadata": {
    "execution": {
     "iopub.execute_input": "2022-12-15T18:03:30.480778Z",
     "iopub.status.busy": "2022-12-15T18:03:30.480253Z",
     "iopub.status.idle": "2022-12-15T18:03:30.504161Z",
     "shell.execute_reply": "2022-12-15T18:03:30.503604Z"
    },
    "papermill": {
     "duration": 0.050827,
     "end_time": "2022-12-15T18:03:30.510172",
     "exception": false,
     "start_time": "2022-12-15T18:03:30.459345",
     "status": "completed"
    },
    "tags": []
   },
   "outputs": [
    {
     "data": {
      "text/plain": [
       "'S-MultiXcan condition number: 30'"
      ]
     },
     "metadata": {},
     "output_type": "display_data"
    }
   ],
   "source": [
    "assert (\n",
    "    SMULTIXCAN_CONDITION_NUMBER is not None and SMULTIXCAN_CONDITION_NUMBER > 0\n",
    "), \"The S-MultiXcan condition number (positive integer) must be given\"\n",
    "\n",
    "display(f\"S-MultiXcan condition number: {SMULTIXCAN_CONDITION_NUMBER}\")"
   ]
  },
  {
   "cell_type": "code",
   "execution_count": 9,
   "id": "f34a336f-548e-4afe-8955-90eaea4f42c6",
   "metadata": {
    "execution": {
     "iopub.execute_input": "2022-12-15T18:03:30.547822Z",
     "iopub.status.busy": "2022-12-15T18:03:30.547558Z",
     "iopub.status.idle": "2022-12-15T18:03:30.562776Z",
     "shell.execute_reply": "2022-12-15T18:03:30.562378Z"
    },
    "papermill": {
     "duration": 0.040294,
     "end_time": "2022-12-15T18:03:30.569105",
     "exception": false,
     "start_time": "2022-12-15T18:03:30.528811",
     "status": "completed"
    },
    "tags": []
   },
   "outputs": [
    {
     "data": {
      "text/plain": [
       "'Working on chromosome 6'"
      ]
     },
     "metadata": {},
     "output_type": "display_data"
    }
   ],
   "source": [
    "assert CHROMOSOME is not None and (\n",
    "    1 <= CHROMOSOME <= 22\n",
    "), \"You have to select one chromosome (format: number between 1 and 22)\"\n",
    "\n",
    "display(f\"Working on chromosome {CHROMOSOME}\")"
   ]
  },
  {
   "cell_type": "code",
   "execution_count": 10,
   "id": "ab8e96e8-06b5-4363-9dcd-dc4d78cc27f7",
   "metadata": {
    "execution": {
     "iopub.execute_input": "2022-12-15T18:03:30.608546Z",
     "iopub.status.busy": "2022-12-15T18:03:30.608167Z",
     "iopub.status.idle": "2022-12-15T18:03:30.629397Z",
     "shell.execute_reply": "2022-12-15T18:03:30.628935Z"
    },
    "papermill": {
     "duration": 0.047454,
     "end_time": "2022-12-15T18:03:30.635506",
     "exception": false,
     "start_time": "2022-12-15T18:03:30.588052",
     "status": "completed"
    },
    "tags": []
   },
   "outputs": [
    {
     "data": {
      "text/plain": [
       "'Compute correlation within distance True'"
      ]
     },
     "metadata": {},
     "output_type": "display_data"
    }
   ],
   "source": [
    "display(f\"Compute correlation within distance {COMPUTE_CORRELATIONS_WITHIN_DISTANCE}\")"
   ]
  },
  {
   "cell_type": "code",
   "execution_count": 11,
   "id": "b393b698-77e3-4ba2-8ac1-e14d51aa988f",
   "metadata": {
    "execution": {
     "iopub.execute_input": "2022-12-15T18:03:30.676897Z",
     "iopub.status.busy": "2022-12-15T18:03:30.676627Z",
     "iopub.status.idle": "2022-12-15T18:03:30.693123Z",
     "shell.execute_reply": "2022-12-15T18:03:30.692688Z"
    },
    "papermill": {
     "duration": 0.043102,
     "end_time": "2022-12-15T18:03:30.699476",
     "exception": false,
     "start_time": "2022-12-15T18:03:30.656374",
     "status": "completed"
    },
    "tags": []
   },
   "outputs": [
    {
     "data": {
      "text/plain": [
       "'Using output dir base: /opt/data/projects/asthma-copd/results/gls_phenoplier/gene_corrs/aco'"
      ]
     },
     "metadata": {},
     "output_type": "display_data"
    }
   ],
   "source": [
    "assert (\n",
    "    OUTPUT_DIR_BASE is not None and len(OUTPUT_DIR_BASE) > 0\n",
    "), \"Output directory path must be given\"\n",
    "\n",
    "OUTPUT_DIR_BASE = (Path(OUTPUT_DIR_BASE) / \"gene_corrs\" / COHORT_NAME).resolve()\n",
    "\n",
    "OUTPUT_DIR_BASE.mkdir(parents=True, exist_ok=True)\n",
    "\n",
    "display(f\"Using output dir base: {OUTPUT_DIR_BASE}\")"
   ]
  },
  {
   "cell_type": "markdown",
   "id": "d2ba085e",
   "metadata": {
    "papermill": {
     "duration": 0.019239,
     "end_time": "2022-12-15T18:03:30.739627",
     "exception": false,
     "start_time": "2022-12-15T18:03:30.720388",
     "status": "completed"
    },
    "tags": []
   },
   "source": [
    "# Load data"
   ]
  },
  {
   "cell_type": "markdown",
   "id": "7dcb8db7",
   "metadata": {
    "papermill": {
     "duration": 0.021572,
     "end_time": "2022-12-15T18:03:30.780294",
     "exception": false,
     "start_time": "2022-12-15T18:03:30.758722",
     "status": "completed"
    },
    "tags": []
   },
   "source": [
    "## GWAS variants"
   ]
  },
  {
   "cell_type": "code",
   "execution_count": 12,
   "id": "29434c4e-8cd3-4b9b-82e4-b5a251d9dd19",
   "metadata": {
    "execution": {
     "iopub.execute_input": "2022-12-15T18:03:30.822497Z",
     "iopub.status.busy": "2022-12-15T18:03:30.821925Z",
     "iopub.status.idle": "2022-12-15T18:03:33.292332Z",
     "shell.execute_reply": "2022-12-15T18:03:33.291724Z"
    },
    "papermill": {
     "duration": 2.49354,
     "end_time": "2022-12-15T18:03:33.294142",
     "exception": false,
     "start_time": "2022-12-15T18:03:30.800602",
     "status": "completed"
    },
    "tags": []
   },
   "outputs": [],
   "source": [
    "with open(OUTPUT_DIR_BASE / \"gwas_variant_ids.pkl\", \"rb\") as handle:\n",
    "    gwas_variants_ids_set = pickle.load(handle)"
   ]
  },
  {
   "cell_type": "code",
   "execution_count": 13,
   "id": "b9d9dec2-4a76-4bf9-bde2-e24c95acb8a0",
   "metadata": {
    "execution": {
     "iopub.execute_input": "2022-12-15T18:03:33.314558Z",
     "iopub.status.busy": "2022-12-15T18:03:33.314347Z",
     "iopub.status.idle": "2022-12-15T18:03:33.330786Z",
     "shell.execute_reply": "2022-12-15T18:03:33.330308Z"
    },
    "papermill": {
     "duration": 0.028329,
     "end_time": "2022-12-15T18:03:33.331745",
     "exception": false,
     "start_time": "2022-12-15T18:03:33.303416",
     "status": "completed"
    },
    "tags": []
   },
   "outputs": [
    {
     "data": {
      "text/plain": [
       "8561476"
      ]
     },
     "execution_count": 13,
     "metadata": {},
     "output_type": "execute_result"
    }
   ],
   "source": [
    "len(gwas_variants_ids_set)"
   ]
  },
  {
   "cell_type": "code",
   "execution_count": 14,
   "id": "4235b06a-6034-4ee4-a0a3-2ae35d122418",
   "metadata": {
    "execution": {
     "iopub.execute_input": "2022-12-15T18:03:33.344124Z",
     "iopub.status.busy": "2022-12-15T18:03:33.343900Z",
     "iopub.status.idle": "2022-12-15T18:03:33.900740Z",
     "shell.execute_reply": "2022-12-15T18:03:33.900247Z"
    },
    "papermill": {
     "duration": 0.56404,
     "end_time": "2022-12-15T18:03:33.901725",
     "exception": false,
     "start_time": "2022-12-15T18:03:33.337685",
     "status": "completed"
    },
    "tags": []
   },
   "outputs": [
    {
     "data": {
      "text/plain": [
       "['chr15_32012577_A_G_b38',\n",
       " 'chr7_22997940_T_G_b38',\n",
       " 'chr8_117254695_G_T_b38',\n",
       " 'chr22_28837274_T_C_b38',\n",
       " 'chr2_236851836_T_C_b38']"
      ]
     },
     "execution_count": 14,
     "metadata": {},
     "output_type": "execute_result"
    }
   ],
   "source": [
    "list(gwas_variants_ids_set)[:5]"
   ]
  },
  {
   "cell_type": "markdown",
   "id": "07866999-2305-41f9-a144-e69c9122c212",
   "metadata": {
    "papermill": {
     "duration": 0.010122,
     "end_time": "2022-12-15T18:03:33.918283",
     "exception": false,
     "start_time": "2022-12-15T18:03:33.908161",
     "status": "completed"
    },
    "tags": []
   },
   "source": [
    "## S-PrediXcan tissue models"
   ]
  },
  {
   "cell_type": "code",
   "execution_count": 15,
   "id": "780611d9-77c8-405f-90a4-f271f7b09397",
   "metadata": {
    "execution": {
     "iopub.execute_input": "2022-12-15T18:03:33.934835Z",
     "iopub.status.busy": "2022-12-15T18:03:33.934593Z",
     "iopub.status.idle": "2022-12-15T18:03:34.985462Z",
     "shell.execute_reply": "2022-12-15T18:03:34.984853Z"
    },
    "papermill": {
     "duration": 1.060982,
     "end_time": "2022-12-15T18:03:34.987351",
     "exception": false,
     "start_time": "2022-12-15T18:03:33.926369",
     "status": "completed"
    },
    "tags": []
   },
   "outputs": [],
   "source": [
    "spredixcan_genes_models = pd.read_pickle(OUTPUT_DIR_BASE / \"gene_tissues.pkl\")"
   ]
  },
  {
   "cell_type": "code",
   "execution_count": 16,
   "id": "726dd1f6-9557-4225-91fa-b3b879ea96e1",
   "metadata": {
    "execution": {
     "iopub.execute_input": "2022-12-15T18:03:35.010996Z",
     "iopub.status.busy": "2022-12-15T18:03:35.010756Z",
     "iopub.status.idle": "2022-12-15T18:03:35.026548Z",
     "shell.execute_reply": "2022-12-15T18:03:35.025917Z"
    },
    "papermill": {
     "duration": 0.029028,
     "end_time": "2022-12-15T18:03:35.028811",
     "exception": false,
     "start_time": "2022-12-15T18:03:34.999783",
     "status": "completed"
    },
    "tags": []
   },
   "outputs": [
    {
     "data": {
      "text/plain": [
       "(6442, 5)"
      ]
     },
     "execution_count": 16,
     "metadata": {},
     "output_type": "execute_result"
    }
   ],
   "source": [
    "spredixcan_genes_models.shape"
   ]
  },
  {
   "cell_type": "code",
   "execution_count": 17,
   "id": "944a1b48-222c-4eb0-b252-b9de2cbca215",
   "metadata": {
    "execution": {
     "iopub.execute_input": "2022-12-15T18:03:35.066808Z",
     "iopub.status.busy": "2022-12-15T18:03:35.066239Z",
     "iopub.status.idle": "2022-12-15T18:03:35.095271Z",
     "shell.execute_reply": "2022-12-15T18:03:35.094735Z"
    },
    "papermill": {
     "duration": 0.049983,
     "end_time": "2022-12-15T18:03:35.097027",
     "exception": false,
     "start_time": "2022-12-15T18:03:35.047044",
     "status": "completed"
    },
    "tags": []
   },
   "outputs": [
    {
     "data": {
      "text/html": [
       "<div>\n",
       "<style scoped>\n",
       "    .dataframe tbody tr th:only-of-type {\n",
       "        vertical-align: middle;\n",
       "    }\n",
       "\n",
       "    .dataframe tbody tr th {\n",
       "        vertical-align: top;\n",
       "    }\n",
       "\n",
       "    .dataframe thead th {\n",
       "        text-align: right;\n",
       "    }\n",
       "</style>\n",
       "<table border=\"1\" class=\"dataframe\">\n",
       "  <thead>\n",
       "    <tr style=\"text-align: right;\">\n",
       "      <th></th>\n",
       "      <th>gene_name</th>\n",
       "      <th>tissue</th>\n",
       "      <th>n_tissues</th>\n",
       "      <th>n_snps_used_sum</th>\n",
       "      <th>n_snps_in_model_sum</th>\n",
       "    </tr>\n",
       "    <tr>\n",
       "      <th>gene_id</th>\n",
       "      <th></th>\n",
       "      <th></th>\n",
       "      <th></th>\n",
       "      <th></th>\n",
       "      <th></th>\n",
       "    </tr>\n",
       "  </thead>\n",
       "  <tbody>\n",
       "    <tr>\n",
       "      <th>ENSG00000000419</th>\n",
       "      <td>DPM1</td>\n",
       "      <td>(Brain_Substantia_nigra, Brain_Hypothalamus)</td>\n",
       "      <td>2</td>\n",
       "      <td>2</td>\n",
       "      <td>2</td>\n",
       "    </tr>\n",
       "    <tr>\n",
       "      <th>ENSG00000000938</th>\n",
       "      <td>FGR</td>\n",
       "      <td>(Brain_Frontal_Cortex_BA9, Colon_Sigmoid, Panc...</td>\n",
       "      <td>36</td>\n",
       "      <td>40</td>\n",
       "      <td>40</td>\n",
       "    </tr>\n",
       "    <tr>\n",
       "      <th>ENSG00000000971</th>\n",
       "      <td>CFH</td>\n",
       "      <td>(Brain_Frontal_Cortex_BA9, Colon_Sigmoid, Brai...</td>\n",
       "      <td>34</td>\n",
       "      <td>44</td>\n",
       "      <td>44</td>\n",
       "    </tr>\n",
       "    <tr>\n",
       "      <th>ENSG00000001084</th>\n",
       "      <td>GCLC</td>\n",
       "      <td>(Brain_Frontal_Cortex_BA9, Pancreas, Brain_Nuc...</td>\n",
       "      <td>32</td>\n",
       "      <td>46</td>\n",
       "      <td>46</td>\n",
       "    </tr>\n",
       "    <tr>\n",
       "      <th>ENSG00000001167</th>\n",
       "      <td>NFYA</td>\n",
       "      <td>(Colon_Sigmoid, Brain_Nucleus_accumbens_basal_...</td>\n",
       "      <td>40</td>\n",
       "      <td>47</td>\n",
       "      <td>48</td>\n",
       "    </tr>\n",
       "  </tbody>\n",
       "</table>\n",
       "</div>"
      ],
      "text/plain": [
       "                gene_name                                             tissue  \\\n",
       "gene_id                                                                        \n",
       "ENSG00000000419      DPM1       (Brain_Substantia_nigra, Brain_Hypothalamus)   \n",
       "ENSG00000000938       FGR  (Brain_Frontal_Cortex_BA9, Colon_Sigmoid, Panc...   \n",
       "ENSG00000000971       CFH  (Brain_Frontal_Cortex_BA9, Colon_Sigmoid, Brai...   \n",
       "ENSG00000001084      GCLC  (Brain_Frontal_Cortex_BA9, Pancreas, Brain_Nuc...   \n",
       "ENSG00000001167      NFYA  (Colon_Sigmoid, Brain_Nucleus_accumbens_basal_...   \n",
       "\n",
       "                 n_tissues  n_snps_used_sum  n_snps_in_model_sum  \n",
       "gene_id                                                           \n",
       "ENSG00000000419          2                2                    2  \n",
       "ENSG00000000938         36               40                   40  \n",
       "ENSG00000000971         34               44                   44  \n",
       "ENSG00000001084         32               46                   46  \n",
       "ENSG00000001167         40               47                   48  "
      ]
     },
     "execution_count": 17,
     "metadata": {},
     "output_type": "execute_result"
    }
   ],
   "source": [
    "spredixcan_genes_models.head()"
   ]
  },
  {
   "cell_type": "code",
   "execution_count": 18,
   "id": "d1c11bb1-be0b-4f40-b360-633d6827109f",
   "metadata": {
    "execution": {
     "iopub.execute_input": "2022-12-15T18:03:35.118902Z",
     "iopub.status.busy": "2022-12-15T18:03:35.118646Z",
     "iopub.status.idle": "2022-12-15T18:03:35.140690Z",
     "shell.execute_reply": "2022-12-15T18:03:35.139970Z"
    },
    "papermill": {
     "duration": 0.033794,
     "end_time": "2022-12-15T18:03:35.141986",
     "exception": false,
     "start_time": "2022-12-15T18:03:35.108192",
     "status": "completed"
    },
    "tags": []
   },
   "outputs": [],
   "source": [
    "assert spredixcan_genes_models.index.is_unique"
   ]
  },
  {
   "cell_type": "markdown",
   "id": "a5b5092c-a13e-47c4-a92a-480fcc08f3ae",
   "metadata": {
    "papermill": {
     "duration": 0.009294,
     "end_time": "2022-12-15T18:03:35.160952",
     "exception": false,
     "start_time": "2022-12-15T18:03:35.151658",
     "status": "completed"
    },
    "tags": []
   },
   "source": [
    "## Gene info"
   ]
  },
  {
   "cell_type": "code",
   "execution_count": 19,
   "id": "7d6bb224-88e9-4358-ac10-43a41d92cdad",
   "metadata": {
    "execution": {
     "iopub.execute_input": "2022-12-15T18:03:35.177577Z",
     "iopub.status.busy": "2022-12-15T18:03:35.177301Z",
     "iopub.status.idle": "2022-12-15T18:03:35.200082Z",
     "shell.execute_reply": "2022-12-15T18:03:35.199634Z"
    },
    "papermill": {
     "duration": 0.030363,
     "end_time": "2022-12-15T18:03:35.201211",
     "exception": false,
     "start_time": "2022-12-15T18:03:35.170848",
     "status": "completed"
    },
    "tags": []
   },
   "outputs": [],
   "source": [
    "genes_info = pd.read_pickle(OUTPUT_DIR_BASE / \"genes_info.pkl\")"
   ]
  },
  {
   "cell_type": "code",
   "execution_count": 20,
   "id": "9e32abfa-546d-483e-8c18-d526e9e05903",
   "metadata": {
    "execution": {
     "iopub.execute_input": "2022-12-15T18:03:35.213661Z",
     "iopub.status.busy": "2022-12-15T18:03:35.213475Z",
     "iopub.status.idle": "2022-12-15T18:03:35.228942Z",
     "shell.execute_reply": "2022-12-15T18:03:35.228582Z"
    },
    "papermill": {
     "duration": 0.022297,
     "end_time": "2022-12-15T18:03:35.229928",
     "exception": false,
     "start_time": "2022-12-15T18:03:35.207631",
     "status": "completed"
    },
    "tags": []
   },
   "outputs": [
    {
     "data": {
      "text/plain": [
       "(6442, 7)"
      ]
     },
     "execution_count": 20,
     "metadata": {},
     "output_type": "execute_result"
    }
   ],
   "source": [
    "genes_info.shape"
   ]
  },
  {
   "cell_type": "code",
   "execution_count": 21,
   "id": "d16c3e92-85ec-468a-9a56-e25a9774a1cb",
   "metadata": {
    "execution": {
     "iopub.execute_input": "2022-12-15T18:03:35.247733Z",
     "iopub.status.busy": "2022-12-15T18:03:35.247412Z",
     "iopub.status.idle": "2022-12-15T18:03:35.272420Z",
     "shell.execute_reply": "2022-12-15T18:03:35.271885Z"
    },
    "papermill": {
     "duration": 0.036082,
     "end_time": "2022-12-15T18:03:35.273460",
     "exception": false,
     "start_time": "2022-12-15T18:03:35.237378",
     "status": "completed"
    },
    "tags": []
   },
   "outputs": [
    {
     "data": {
      "text/html": [
       "<div>\n",
       "<style scoped>\n",
       "    .dataframe tbody tr th:only-of-type {\n",
       "        vertical-align: middle;\n",
       "    }\n",
       "\n",
       "    .dataframe tbody tr th {\n",
       "        vertical-align: top;\n",
       "    }\n",
       "\n",
       "    .dataframe thead th {\n",
       "        text-align: right;\n",
       "    }\n",
       "</style>\n",
       "<table border=\"1\" class=\"dataframe\">\n",
       "  <thead>\n",
       "    <tr style=\"text-align: right;\">\n",
       "      <th></th>\n",
       "      <th>name</th>\n",
       "      <th>id</th>\n",
       "      <th>chr</th>\n",
       "      <th>band</th>\n",
       "      <th>start_position</th>\n",
       "      <th>end_position</th>\n",
       "      <th>gene_length</th>\n",
       "    </tr>\n",
       "  </thead>\n",
       "  <tbody>\n",
       "    <tr>\n",
       "      <th>0</th>\n",
       "      <td>SLC38A1</td>\n",
       "      <td>ENSG00000111371</td>\n",
       "      <td>12</td>\n",
       "      <td>12q13.11</td>\n",
       "      <td>46183063</td>\n",
       "      <td>46270017</td>\n",
       "      <td>86954</td>\n",
       "    </tr>\n",
       "    <tr>\n",
       "      <th>1</th>\n",
       "      <td>SEC61A1</td>\n",
       "      <td>ENSG00000058262</td>\n",
       "      <td>3</td>\n",
       "      <td>3q21.3</td>\n",
       "      <td>128051641</td>\n",
       "      <td>128071683</td>\n",
       "      <td>20042</td>\n",
       "    </tr>\n",
       "    <tr>\n",
       "      <th>2</th>\n",
       "      <td>SYDE1</td>\n",
       "      <td>ENSG00000105137</td>\n",
       "      <td>19</td>\n",
       "      <td>19p13.12</td>\n",
       "      <td>15107401</td>\n",
       "      <td>15114985</td>\n",
       "      <td>7584</td>\n",
       "    </tr>\n",
       "    <tr>\n",
       "      <th>3</th>\n",
       "      <td>GEM</td>\n",
       "      <td>ENSG00000164949</td>\n",
       "      <td>8</td>\n",
       "      <td>8q22.1</td>\n",
       "      <td>94249253</td>\n",
       "      <td>94262350</td>\n",
       "      <td>13097</td>\n",
       "    </tr>\n",
       "    <tr>\n",
       "      <th>4</th>\n",
       "      <td>PTGS2</td>\n",
       "      <td>ENSG00000073756</td>\n",
       "      <td>1</td>\n",
       "      <td>1q31.1</td>\n",
       "      <td>186671791</td>\n",
       "      <td>186680423</td>\n",
       "      <td>8632</td>\n",
       "    </tr>\n",
       "  </tbody>\n",
       "</table>\n",
       "</div>"
      ],
      "text/plain": [
       "      name               id  chr      band  start_position  end_position  \\\n",
       "0  SLC38A1  ENSG00000111371   12  12q13.11        46183063      46270017   \n",
       "1  SEC61A1  ENSG00000058262    3    3q21.3       128051641     128071683   \n",
       "2    SYDE1  ENSG00000105137   19  19p13.12        15107401      15114985   \n",
       "3      GEM  ENSG00000164949    8    8q22.1        94249253      94262350   \n",
       "4    PTGS2  ENSG00000073756    1    1q31.1       186671791     186680423   \n",
       "\n",
       "   gene_length  \n",
       "0        86954  \n",
       "1        20042  \n",
       "2         7584  \n",
       "3        13097  \n",
       "4         8632  "
      ]
     },
     "execution_count": 21,
     "metadata": {},
     "output_type": "execute_result"
    }
   ],
   "source": [
    "genes_info.head()"
   ]
  },
  {
   "cell_type": "markdown",
   "id": "d3843e06",
   "metadata": {
    "papermill": {
     "duration": 0.006737,
     "end_time": "2022-12-15T18:03:35.288019",
     "exception": false,
     "start_time": "2022-12-15T18:03:35.281282",
     "status": "completed"
    },
    "tags": []
   },
   "source": [
    "# Compute correlations"
   ]
  },
  {
   "cell_type": "code",
   "execution_count": 22,
   "id": "cb859c15-d1f3-4006-a74c-2b83c0db9611",
   "metadata": {
    "execution": {
     "iopub.execute_input": "2022-12-15T18:03:35.302786Z",
     "iopub.status.busy": "2022-12-15T18:03:35.302447Z",
     "iopub.status.idle": "2022-12-15T18:03:35.325216Z",
     "shell.execute_reply": "2022-12-15T18:03:35.324588Z"
    },
    "papermill": {
     "duration": 0.031899,
     "end_time": "2022-12-15T18:03:35.326468",
     "exception": false,
     "start_time": "2022-12-15T18:03:35.294569",
     "status": "completed"
    },
    "tags": []
   },
   "outputs": [
    {
     "data": {
      "text/plain": [
       "PosixPath('/opt/data/projects/asthma-copd/results/gls_phenoplier/gene_corrs/aco/by_chr/gene_corrs-chr6.pkl')"
      ]
     },
     "metadata": {},
     "output_type": "display_data"
    }
   ],
   "source": [
    "output_dir = OUTPUT_DIR_BASE / \"by_chr\"\n",
    "output_dir.mkdir(exist_ok=True, parents=True)\n",
    "output_file = output_dir / f\"gene_corrs-chr{CHROMOSOME}.pkl\"\n",
    "display(output_file)"
   ]
  },
  {
   "cell_type": "code",
   "execution_count": 23,
   "id": "aa674fe4-6794-4eed-98fa-32b39d1d4ace",
   "metadata": {
    "execution": {
     "iopub.execute_input": "2022-12-15T18:03:35.347865Z",
     "iopub.status.busy": "2022-12-15T18:03:35.347345Z",
     "iopub.status.idle": "2022-12-15T18:03:35.368034Z",
     "shell.execute_reply": "2022-12-15T18:03:35.367300Z"
    },
    "papermill": {
     "duration": 0.03252,
     "end_time": "2022-12-15T18:03:35.369372",
     "exception": false,
     "start_time": "2022-12-15T18:03:35.336852",
     "status": "completed"
    },
    "tags": []
   },
   "outputs": [],
   "source": [
    "warnings.filterwarnings(\"error\")"
   ]
  },
  {
   "cell_type": "code",
   "execution_count": 24,
   "id": "44d5450b-3baf-43f1-9e2e-4b06f1a785f8",
   "metadata": {
    "execution": {
     "iopub.execute_input": "2022-12-15T18:03:35.390571Z",
     "iopub.status.busy": "2022-12-15T18:03:35.390190Z",
     "iopub.status.idle": "2022-12-15T18:03:35.411886Z",
     "shell.execute_reply": "2022-12-15T18:03:35.411203Z"
    },
    "papermill": {
     "duration": 0.034422,
     "end_time": "2022-12-15T18:03:35.413307",
     "exception": false,
     "start_time": "2022-12-15T18:03:35.378885",
     "status": "completed"
    },
    "tags": []
   },
   "outputs": [],
   "source": [
    "# standard checks\n",
    "all_chrs = genes_info[\"chr\"].dropna().unique()\n",
    "assert all_chrs.shape[0] == 22\n",
    "\n",
    "# select chromosome given by the user\n",
    "assert CHROMOSOME in all_chrs"
   ]
  },
  {
   "cell_type": "code",
   "execution_count": 25,
   "id": "2d7c043c-92a7-4d35-991b-fa69ac1e0268",
   "metadata": {
    "execution": {
     "iopub.execute_input": "2022-12-15T18:03:35.434994Z",
     "iopub.status.busy": "2022-12-15T18:03:35.434758Z",
     "iopub.status.idle": "2022-12-15T18:03:35.456212Z",
     "shell.execute_reply": "2022-12-15T18:03:35.455736Z"
    },
    "papermill": {
     "duration": 0.033345,
     "end_time": "2022-12-15T18:03:35.457482",
     "exception": false,
     "start_time": "2022-12-15T18:03:35.424137",
     "status": "completed"
    },
    "tags": []
   },
   "outputs": [
    {
     "name": "stdout",
     "output_type": "stream",
     "text": [
      "Number of genes in chromosome: 339\n"
     ]
    }
   ],
   "source": [
    "# run only on the chromosome specified\n",
    "all_chrs = [CHROMOSOME]\n",
    "genes_chr = genes_info[genes_info[\"chr\"] == CHROMOSOME]\n",
    "\n",
    "# For testing purposes\n",
    "# genes_chr = genes_chr.sample(n=20)\n",
    "\n",
    "print(f\"Number of genes in chromosome: {genes_chr.shape[0]}\", flush=True)"
   ]
  },
  {
   "cell_type": "code",
   "execution_count": 26,
   "id": "916015d8-2979-46d3-a9b9-1cf5a0932c6a",
   "metadata": {
    "execution": {
     "iopub.execute_input": "2022-12-15T18:03:35.478990Z",
     "iopub.status.busy": "2022-12-15T18:03:35.478612Z",
     "iopub.status.idle": "2022-12-15T18:03:35.499729Z",
     "shell.execute_reply": "2022-12-15T18:03:35.499116Z"
    },
    "papermill": {
     "duration": 0.033539,
     "end_time": "2022-12-15T18:03:35.501335",
     "exception": false,
     "start_time": "2022-12-15T18:03:35.467796",
     "status": "completed"
    },
    "tags": []
   },
   "outputs": [],
   "source": [
    "# sort genes by starting position to make visualizations better later\n",
    "genes_chr = genes_chr.sort_values(\"start_position\")"
   ]
  },
  {
   "cell_type": "code",
   "execution_count": 27,
   "id": "a38aa74a-8ad3-47f6-8ef9-56be0e011774",
   "metadata": {
    "execution": {
     "iopub.execute_input": "2022-12-15T18:03:35.523734Z",
     "iopub.status.busy": "2022-12-15T18:03:35.523554Z",
     "iopub.status.idle": "2022-12-15T18:03:35.542958Z",
     "shell.execute_reply": "2022-12-15T18:03:35.542427Z"
    },
    "papermill": {
     "duration": 0.032179,
     "end_time": "2022-12-15T18:03:35.544289",
     "exception": false,
     "start_time": "2022-12-15T18:03:35.512110",
     "status": "completed"
    },
    "tags": []
   },
   "outputs": [],
   "source": [
    "gene_chr_objs = [Gene(ensembl_id=gene_id) for gene_id in genes_chr[\"id\"]]"
   ]
  },
  {
   "cell_type": "code",
   "execution_count": 28,
   "id": "570f974f-13c3-42b6-ad3a-ce99ca885c1a",
   "metadata": {
    "execution": {
     "iopub.execute_input": "2022-12-15T18:03:35.566065Z",
     "iopub.status.busy": "2022-12-15T18:03:35.565822Z",
     "iopub.status.idle": "2022-12-15T18:03:35.586494Z",
     "shell.execute_reply": "2022-12-15T18:03:35.585983Z"
    },
    "papermill": {
     "duration": 0.032876,
     "end_time": "2022-12-15T18:03:35.587501",
     "exception": false,
     "start_time": "2022-12-15T18:03:35.554625",
     "status": "completed"
    },
    "tags": []
   },
   "outputs": [
    {
     "name": "stdout",
     "output_type": "stream",
     "text": [
      "Number of gene combinations: 57630\n"
     ]
    }
   ],
   "source": [
    "n = len(gene_chr_objs)\n",
    "# diagonal elements + upper triangular matrix\n",
    "n_comb = n + int(n * (n - 1) / 2.0)\n",
    "print(f\"Number of gene combinations: {n_comb}\", flush=True)"
   ]
  },
  {
   "cell_type": "code",
   "execution_count": 29,
   "id": "cdbb90a1",
   "metadata": {
    "execution": {
     "iopub.execute_input": "2022-12-15T18:03:35.604103Z",
     "iopub.status.busy": "2022-12-15T18:03:35.603853Z",
     "iopub.status.idle": "2022-12-15T18:11:15.798782Z",
     "shell.execute_reply": "2022-12-15T18:11:15.798360Z"
    },
    "papermill": {
     "duration": 460.2043,
     "end_time": "2022-12-15T18:11:15.800027",
     "exception": false,
     "start_time": "2022-12-15T18:03:35.595727",
     "status": "completed"
    },
    "tags": []
   },
   "outputs": [
    {
     "name": "stderr",
     "output_type": "stream",
     "text": [
      "ENSG00000112592 / ENSG00000112592: 100%|█████████████████████| 57630/57630 [07:40<00:00, 125.24it/s]\n"
     ]
    },
    {
     "data": {
      "text/plain": [
       "PosixPath('/opt/data/projects/asthma-copd/results/gls_phenoplier/gene_corrs/aco/by_chr/gene_corrs-chr6.pkl')"
      ]
     },
     "metadata": {},
     "output_type": "display_data"
    }
   ],
   "source": [
    "gene_corrs = []\n",
    "gene_corrs_data = np.full(\n",
    "    (n, n),\n",
    "    np.nan,\n",
    "    dtype=np.float64,\n",
    ")\n",
    "\n",
    "i = 0\n",
    "with tqdm(ncols=100, total=n_comb) as pbar:\n",
    "    for gene1_idx in range(0, len(gene_chr_objs)):\n",
    "        gene1_obj = gene_chr_objs[gene1_idx]\n",
    "        gene1_tissues = spredixcan_genes_models.loc[gene1_obj.ensembl_id, \"tissue\"]\n",
    "\n",
    "        for gene2_idx in range(gene1_idx, len(gene_chr_objs)):\n",
    "            gene2_obj = gene_chr_objs[gene2_idx]\n",
    "            gene2_tissues = spredixcan_genes_models.loc[gene2_obj.ensembl_id, \"tissue\"]\n",
    "\n",
    "            pbar.set_description(f\"{gene1_obj.ensembl_id} / {gene2_obj.ensembl_id}\")\n",
    "\n",
    "            try:\n",
    "                r = gene1_obj.get_ssm_correlation(\n",
    "                    other_gene=gene2_obj,\n",
    "                    tissues=gene1_tissues,\n",
    "                    other_tissues=gene2_tissues,\n",
    "                    snps_subset=gwas_variants_ids_set,\n",
    "                    condition_number=SMULTIXCAN_CONDITION_NUMBER,\n",
    "                    reference_panel=REFERENCE_PANEL,\n",
    "                    model_type=EQTL_MODEL,\n",
    "                    use_within_distance=COMPUTE_CORRELATIONS_WITHIN_DISTANCE,\n",
    "                )\n",
    "\n",
    "                if r is None:\n",
    "                    # if r is None, it's very likely because:\n",
    "                    #  * one of the genes has no prediction models\n",
    "                    #  * all the SNPs predictors for the gene are not present in the reference\n",
    "                    #    panel\n",
    "\n",
    "                    r = 0.0\n",
    "\n",
    "                gene_corrs.append(r)\n",
    "\n",
    "                gene_corrs_data[gene1_idx, gene2_idx] = r\n",
    "                gene_corrs_data[gene2_idx, gene1_idx] = r\n",
    "            except Warning as e:\n",
    "                if not DEBUG_MODE:\n",
    "                    raise e\n",
    "\n",
    "                print(\n",
    "                    f\"RuntimeWarning for genes {gene1_obj.ensembl_id} and {gene2_obj.ensembl_id}\",\n",
    "                    flush=True,\n",
    "                )\n",
    "                print(traceback.format_exc(), flush=True)\n",
    "\n",
    "                gene_corrs.append(np.nan)\n",
    "            except Exception as e:\n",
    "                if not DEBUG_MODE:\n",
    "                    raise e\n",
    "\n",
    "                print(\n",
    "                    f\"Exception for genes {gene1_obj.ensembl_id} and {gene2_obj.ensembl_id}\",\n",
    "                    flush=True,\n",
    "                )\n",
    "                print(traceback.format_exc(), flush=True)\n",
    "\n",
    "                gene_corrs.append(np.nan)\n",
    "\n",
    "            pbar.update(1)\n",
    "\n",
    "# create a pandas series\n",
    "gene_corrs_flat = pd.Series(gene_corrs)\n",
    "\n",
    "# save\n",
    "# FIXME: consider saving only the condenced matrix here. See here for\n",
    "# more details: https://github.com/greenelab/phenoplier/pull/38#discussion_r634600813\n",
    "# gene_corrs_data = squareform(np.array(gene_corrs, dtype=np.float64))\n",
    "# np.fill_diagonal(gene_corrs_data, 1.0)\n",
    "\n",
    "gene_chr_ids = [g.ensembl_id for g in gene_chr_objs]\n",
    "gene_corrs_df = pd.DataFrame(\n",
    "    data=gene_corrs_data,\n",
    "    index=gene_chr_ids,\n",
    "    columns=gene_chr_ids,\n",
    ")\n",
    "\n",
    "output_dir.mkdir(exist_ok=True, parents=True)\n",
    "display(output_file)\n",
    "\n",
    "gene_corrs_df.to_pickle(output_file)"
   ]
  },
  {
   "cell_type": "markdown",
   "id": "faa67b51-5373-470f-aa72-2ded53fa6dfe",
   "metadata": {
    "papermill": {
     "duration": 1.909069,
     "end_time": "2022-12-15T18:11:19.713626",
     "exception": false,
     "start_time": "2022-12-15T18:11:17.804557",
     "status": "completed"
    },
    "tags": []
   },
   "source": [
    "# Testing"
   ]
  },
  {
   "cell_type": "code",
   "execution_count": 30,
   "id": "14f7d046-4b55-4896-a56b-990127bcc388",
   "metadata": {
    "execution": {
     "iopub.execute_input": "2022-12-15T18:11:23.669358Z",
     "iopub.status.busy": "2022-12-15T18:11:23.669049Z",
     "iopub.status.idle": "2022-12-15T18:11:23.689285Z",
     "shell.execute_reply": "2022-12-15T18:11:23.688582Z"
    },
    "papermill": {
     "duration": 1.914303,
     "end_time": "2022-12-15T18:11:23.690296",
     "exception": false,
     "start_time": "2022-12-15T18:11:21.775993",
     "status": "completed"
    },
    "tags": []
   },
   "outputs": [
    {
     "data": {
      "text/plain": [
       "(339, 339)"
      ]
     },
     "execution_count": 30,
     "metadata": {},
     "output_type": "execute_result"
    }
   ],
   "source": [
    "gene_corrs_df.shape"
   ]
  },
  {
   "cell_type": "code",
   "execution_count": 31,
   "id": "c7d15414-3297-4537-a7c6-7588c0baeb75",
   "metadata": {
    "execution": {
     "iopub.execute_input": "2022-12-15T18:11:27.435106Z",
     "iopub.status.busy": "2022-12-15T18:11:27.434695Z",
     "iopub.status.idle": "2022-12-15T18:11:27.477208Z",
     "shell.execute_reply": "2022-12-15T18:11:27.476325Z"
    },
    "papermill": {
     "duration": 1.863287,
     "end_time": "2022-12-15T18:11:27.478358",
     "exception": false,
     "start_time": "2022-12-15T18:11:25.615071",
     "status": "completed"
    },
    "tags": []
   },
   "outputs": [
    {
     "data": {
      "text/html": [
       "<div>\n",
       "<style scoped>\n",
       "    .dataframe tbody tr th:only-of-type {\n",
       "        vertical-align: middle;\n",
       "    }\n",
       "\n",
       "    .dataframe tbody tr th {\n",
       "        vertical-align: top;\n",
       "    }\n",
       "\n",
       "    .dataframe thead th {\n",
       "        text-align: right;\n",
       "    }\n",
       "</style>\n",
       "<table border=\"1\" class=\"dataframe\">\n",
       "  <thead>\n",
       "    <tr style=\"text-align: right;\">\n",
       "      <th></th>\n",
       "      <th>ENSG00000137265</th>\n",
       "      <th>ENSG00000112685</th>\n",
       "      <th>ENSG00000112699</th>\n",
       "      <th>ENSG00000124570</th>\n",
       "      <th>ENSG00000137275</th>\n",
       "      <th>ENSG00000137267</th>\n",
       "      <th>ENSG00000112739</th>\n",
       "      <th>ENSG00000153046</th>\n",
       "      <th>ENSG00000145982</th>\n",
       "      <th>ENSG00000124491</th>\n",
       "      <th>...</th>\n",
       "      <th>ENSG00000146477</th>\n",
       "      <th>ENSG00000085511</th>\n",
       "      <th>ENSG00000026652</th>\n",
       "      <th>ENSG00000071242</th>\n",
       "      <th>ENSG00000213066</th>\n",
       "      <th>ENSG00000112486</th>\n",
       "      <th>ENSG00000186340</th>\n",
       "      <th>ENSG00000198719</th>\n",
       "      <th>ENSG00000008018</th>\n",
       "      <th>ENSG00000112592</th>\n",
       "    </tr>\n",
       "  </thead>\n",
       "  <tbody>\n",
       "    <tr>\n",
       "      <th>ENSG00000137265</th>\n",
       "      <td>1.000000</td>\n",
       "      <td>0.008054</td>\n",
       "      <td>0.006876</td>\n",
       "      <td>0.004506</td>\n",
       "      <td>0.004133</td>\n",
       "      <td>0.006410</td>\n",
       "      <td>0.002329</td>\n",
       "      <td>0.006452</td>\n",
       "      <td>0.003889</td>\n",
       "      <td>0.000000</td>\n",
       "      <td>...</td>\n",
       "      <td>0.0</td>\n",
       "      <td>0.0</td>\n",
       "      <td>0.0</td>\n",
       "      <td>0.0</td>\n",
       "      <td>0.0</td>\n",
       "      <td>0.0</td>\n",
       "      <td>0.0</td>\n",
       "      <td>0.0</td>\n",
       "      <td>0.0</td>\n",
       "      <td>0.0</td>\n",
       "    </tr>\n",
       "    <tr>\n",
       "      <th>ENSG00000112685</th>\n",
       "      <td>0.008054</td>\n",
       "      <td>1.000000</td>\n",
       "      <td>0.003501</td>\n",
       "      <td>0.004569</td>\n",
       "      <td>0.007774</td>\n",
       "      <td>0.005397</td>\n",
       "      <td>0.004811</td>\n",
       "      <td>0.003971</td>\n",
       "      <td>0.001251</td>\n",
       "      <td>0.000000</td>\n",
       "      <td>...</td>\n",
       "      <td>0.0</td>\n",
       "      <td>0.0</td>\n",
       "      <td>0.0</td>\n",
       "      <td>0.0</td>\n",
       "      <td>0.0</td>\n",
       "      <td>0.0</td>\n",
       "      <td>0.0</td>\n",
       "      <td>0.0</td>\n",
       "      <td>0.0</td>\n",
       "      <td>0.0</td>\n",
       "    </tr>\n",
       "    <tr>\n",
       "      <th>ENSG00000112699</th>\n",
       "      <td>0.006876</td>\n",
       "      <td>0.003501</td>\n",
       "      <td>1.000000</td>\n",
       "      <td>0.012723</td>\n",
       "      <td>0.005330</td>\n",
       "      <td>0.003385</td>\n",
       "      <td>0.009990</td>\n",
       "      <td>0.009226</td>\n",
       "      <td>0.005002</td>\n",
       "      <td>0.010644</td>\n",
       "      <td>...</td>\n",
       "      <td>0.0</td>\n",
       "      <td>0.0</td>\n",
       "      <td>0.0</td>\n",
       "      <td>0.0</td>\n",
       "      <td>0.0</td>\n",
       "      <td>0.0</td>\n",
       "      <td>0.0</td>\n",
       "      <td>0.0</td>\n",
       "      <td>0.0</td>\n",
       "      <td>0.0</td>\n",
       "    </tr>\n",
       "    <tr>\n",
       "      <th>ENSG00000124570</th>\n",
       "      <td>0.004506</td>\n",
       "      <td>0.004569</td>\n",
       "      <td>0.012723</td>\n",
       "      <td>1.000000</td>\n",
       "      <td>0.108738</td>\n",
       "      <td>0.013058</td>\n",
       "      <td>0.013829</td>\n",
       "      <td>0.011003</td>\n",
       "      <td>0.001829</td>\n",
       "      <td>0.012306</td>\n",
       "      <td>...</td>\n",
       "      <td>0.0</td>\n",
       "      <td>0.0</td>\n",
       "      <td>0.0</td>\n",
       "      <td>0.0</td>\n",
       "      <td>0.0</td>\n",
       "      <td>0.0</td>\n",
       "      <td>0.0</td>\n",
       "      <td>0.0</td>\n",
       "      <td>0.0</td>\n",
       "      <td>0.0</td>\n",
       "    </tr>\n",
       "    <tr>\n",
       "      <th>ENSG00000137275</th>\n",
       "      <td>0.004133</td>\n",
       "      <td>0.007774</td>\n",
       "      <td>0.005330</td>\n",
       "      <td>0.108738</td>\n",
       "      <td>1.000000</td>\n",
       "      <td>0.019379</td>\n",
       "      <td>0.005225</td>\n",
       "      <td>0.009162</td>\n",
       "      <td>0.008165</td>\n",
       "      <td>0.010212</td>\n",
       "      <td>...</td>\n",
       "      <td>0.0</td>\n",
       "      <td>0.0</td>\n",
       "      <td>0.0</td>\n",
       "      <td>0.0</td>\n",
       "      <td>0.0</td>\n",
       "      <td>0.0</td>\n",
       "      <td>0.0</td>\n",
       "      <td>0.0</td>\n",
       "      <td>0.0</td>\n",
       "      <td>0.0</td>\n",
       "    </tr>\n",
       "  </tbody>\n",
       "</table>\n",
       "<p>5 rows × 339 columns</p>\n",
       "</div>"
      ],
      "text/plain": [
       "                 ENSG00000137265  ENSG00000112685  ENSG00000112699  \\\n",
       "ENSG00000137265         1.000000         0.008054         0.006876   \n",
       "ENSG00000112685         0.008054         1.000000         0.003501   \n",
       "ENSG00000112699         0.006876         0.003501         1.000000   \n",
       "ENSG00000124570         0.004506         0.004569         0.012723   \n",
       "ENSG00000137275         0.004133         0.007774         0.005330   \n",
       "\n",
       "                 ENSG00000124570  ENSG00000137275  ENSG00000137267  \\\n",
       "ENSG00000137265         0.004506         0.004133         0.006410   \n",
       "ENSG00000112685         0.004569         0.007774         0.005397   \n",
       "ENSG00000112699         0.012723         0.005330         0.003385   \n",
       "ENSG00000124570         1.000000         0.108738         0.013058   \n",
       "ENSG00000137275         0.108738         1.000000         0.019379   \n",
       "\n",
       "                 ENSG00000112739  ENSG00000153046  ENSG00000145982  \\\n",
       "ENSG00000137265         0.002329         0.006452         0.003889   \n",
       "ENSG00000112685         0.004811         0.003971         0.001251   \n",
       "ENSG00000112699         0.009990         0.009226         0.005002   \n",
       "ENSG00000124570         0.013829         0.011003         0.001829   \n",
       "ENSG00000137275         0.005225         0.009162         0.008165   \n",
       "\n",
       "                 ENSG00000124491  ...  ENSG00000146477  ENSG00000085511  \\\n",
       "ENSG00000137265         0.000000  ...              0.0              0.0   \n",
       "ENSG00000112685         0.000000  ...              0.0              0.0   \n",
       "ENSG00000112699         0.010644  ...              0.0              0.0   \n",
       "ENSG00000124570         0.012306  ...              0.0              0.0   \n",
       "ENSG00000137275         0.010212  ...              0.0              0.0   \n",
       "\n",
       "                 ENSG00000026652  ENSG00000071242  ENSG00000213066  \\\n",
       "ENSG00000137265              0.0              0.0              0.0   \n",
       "ENSG00000112685              0.0              0.0              0.0   \n",
       "ENSG00000112699              0.0              0.0              0.0   \n",
       "ENSG00000124570              0.0              0.0              0.0   \n",
       "ENSG00000137275              0.0              0.0              0.0   \n",
       "\n",
       "                 ENSG00000112486  ENSG00000186340  ENSG00000198719  \\\n",
       "ENSG00000137265              0.0              0.0              0.0   \n",
       "ENSG00000112685              0.0              0.0              0.0   \n",
       "ENSG00000112699              0.0              0.0              0.0   \n",
       "ENSG00000124570              0.0              0.0              0.0   \n",
       "ENSG00000137275              0.0              0.0              0.0   \n",
       "\n",
       "                 ENSG00000008018  ENSG00000112592  \n",
       "ENSG00000137265              0.0              0.0  \n",
       "ENSG00000112685              0.0              0.0  \n",
       "ENSG00000112699              0.0              0.0  \n",
       "ENSG00000124570              0.0              0.0  \n",
       "ENSG00000137275              0.0              0.0  \n",
       "\n",
       "[5 rows x 339 columns]"
      ]
     },
     "execution_count": 31,
     "metadata": {},
     "output_type": "execute_result"
    }
   ],
   "source": [
    "gene_corrs_df.head()"
   ]
  },
  {
   "cell_type": "markdown",
   "id": "dad6603f-01c6-41fb-a6f6-241051207dd8",
   "metadata": {
    "papermill": {
     "duration": 2.461202,
     "end_time": "2022-12-15T18:11:32.039601",
     "exception": false,
     "start_time": "2022-12-15T18:11:29.578399",
     "status": "completed"
    },
    "tags": []
   },
   "source": [
    "## Standard checks and stats"
   ]
  },
  {
   "cell_type": "code",
   "execution_count": 32,
   "id": "286686af-1b7b-4440-8453-6bdcbd8de19c",
   "metadata": {
    "execution": {
     "iopub.execute_input": "2022-12-15T18:11:36.543566Z",
     "iopub.status.busy": "2022-12-15T18:11:36.543027Z",
     "iopub.status.idle": "2022-12-15T18:11:36.570588Z",
     "shell.execute_reply": "2022-12-15T18:11:36.569889Z"
    },
    "papermill": {
     "duration": 2.107965,
     "end_time": "2022-12-15T18:11:36.571952",
     "exception": false,
     "start_time": "2022-12-15T18:11:34.463987",
     "status": "completed"
    },
    "tags": []
   },
   "outputs": [],
   "source": [
    "assert not gene_corrs_df.isna().any(axis=None)"
   ]
  },
  {
   "cell_type": "code",
   "execution_count": 33,
   "id": "00583efc-7068-4270-ad1e-4a418e91db96",
   "metadata": {
    "execution": {
     "iopub.execute_input": "2022-12-15T18:11:40.681993Z",
     "iopub.status.busy": "2022-12-15T18:11:40.681604Z",
     "iopub.status.idle": "2022-12-15T18:11:40.698903Z",
     "shell.execute_reply": "2022-12-15T18:11:40.698505Z"
    },
    "papermill": {
     "duration": 2.009834,
     "end_time": "2022-12-15T18:11:40.700098",
     "exception": false,
     "start_time": "2022-12-15T18:11:38.690264",
     "status": "completed"
    },
    "tags": []
   },
   "outputs": [
    {
     "data": {
      "text/plain": [
       "0.0"
      ]
     },
     "metadata": {},
     "output_type": "display_data"
    }
   ],
   "source": [
    "_min_val = gene_corrs_df.min().min()\n",
    "display(_min_val)\n",
    "assert _min_val >= -0.05"
   ]
  },
  {
   "cell_type": "code",
   "execution_count": 34,
   "id": "d04fb2cf-1050-475b-b855-f5f7cc04092b",
   "metadata": {
    "execution": {
     "iopub.execute_input": "2022-12-15T18:11:44.691205Z",
     "iopub.status.busy": "2022-12-15T18:11:44.690690Z",
     "iopub.status.idle": "2022-12-15T18:11:44.718241Z",
     "shell.execute_reply": "2022-12-15T18:11:44.717483Z"
    },
    "papermill": {
     "duration": 2.057211,
     "end_time": "2022-12-15T18:11:44.719287",
     "exception": false,
     "start_time": "2022-12-15T18:11:42.662076",
     "status": "completed"
    },
    "tags": []
   },
   "outputs": [
    {
     "data": {
      "text/plain": [
       "1.0000000000000027"
      ]
     },
     "metadata": {},
     "output_type": "display_data"
    }
   ],
   "source": [
    "_max_val = gene_corrs_df.max().max()  # this captures the diagonal\n",
    "display(_max_val)\n",
    "assert _max_val <= 1.05"
   ]
  },
  {
   "cell_type": "code",
   "execution_count": 35,
   "id": "fe283586-c348-40e0-8841-f6d97bfb021c",
   "metadata": {
    "execution": {
     "iopub.execute_input": "2022-12-15T18:11:48.759234Z",
     "iopub.status.busy": "2022-12-15T18:11:48.758607Z",
     "iopub.status.idle": "2022-12-15T18:11:48.794776Z",
     "shell.execute_reply": "2022-12-15T18:11:48.793646Z"
    },
    "papermill": {
     "duration": 1.990881,
     "end_time": "2022-12-15T18:11:48.795827",
     "exception": false,
     "start_time": "2022-12-15T18:11:46.804946",
     "status": "completed"
    },
    "tags": []
   },
   "outputs": [
    {
     "data": {
      "text/plain": [
       "count    57630.000000\n",
       "mean         0.010555\n",
       "std          0.083352\n",
       "min          0.000000\n",
       "25%          0.000000\n",
       "50%          0.000000\n",
       "75%          0.000000\n",
       "max          1.000000\n",
       "dtype: float64"
      ]
     },
     "execution_count": 35,
     "metadata": {},
     "output_type": "execute_result"
    }
   ],
   "source": [
    "gene_corrs_flat.describe()"
   ]
  },
  {
   "cell_type": "code",
   "execution_count": 36,
   "id": "b3815678-0f93-4b35-897b-a9d047a2aa78",
   "metadata": {
    "execution": {
     "iopub.execute_input": "2022-12-15T18:11:53.037810Z",
     "iopub.status.busy": "2022-12-15T18:11:53.037318Z",
     "iopub.status.idle": "2022-12-15T18:11:53.069104Z",
     "shell.execute_reply": "2022-12-15T18:11:53.068367Z"
    },
    "papermill": {
     "duration": 1.975316,
     "end_time": "2022-12-15T18:11:53.070328",
     "exception": false,
     "start_time": "2022-12-15T18:11:51.095012",
     "status": "completed"
    },
    "tags": []
   },
   "outputs": [
    {
     "data": {
      "text/plain": [
       "0.00    0.000000\n",
       "0.05    0.000000\n",
       "0.10    0.000000\n",
       "0.15    0.000000\n",
       "0.20    0.000000\n",
       "0.25    0.000000\n",
       "0.30    0.000000\n",
       "0.35    0.000000\n",
       "0.40    0.000000\n",
       "0.45    0.000000\n",
       "0.50    0.000000\n",
       "0.55    0.000000\n",
       "0.60    0.000000\n",
       "0.65    0.000000\n",
       "0.70    0.000000\n",
       "0.75    0.000000\n",
       "0.80    0.000000\n",
       "0.85    0.000000\n",
       "0.90    0.004262\n",
       "0.95    0.011971\n",
       "dtype: float64"
      ]
     },
     "metadata": {},
     "output_type": "display_data"
    }
   ],
   "source": [
    "gene_corrs_quantiles = gene_corrs_flat.quantile(np.arange(0, 1, 0.05))\n",
    "display(gene_corrs_quantiles)"
   ]
  },
  {
   "cell_type": "markdown",
   "id": "87134509-b145-4a10-8bc9-b7e914c2b0fa",
   "metadata": {
    "papermill": {
     "duration": 1.948505,
     "end_time": "2022-12-15T18:11:57.229500",
     "exception": false,
     "start_time": "2022-12-15T18:11:55.280995",
     "status": "completed"
    },
    "tags": []
   },
   "source": [
    "## Positive definiteness"
   ]
  },
  {
   "cell_type": "code",
   "execution_count": 37,
   "id": "07d9a9a1-a4f7-48aa-b916-6d42a8cc6186",
   "metadata": {
    "execution": {
     "iopub.execute_input": "2022-12-15T18:12:01.606769Z",
     "iopub.status.busy": "2022-12-15T18:12:01.606329Z",
     "iopub.status.idle": "2022-12-15T18:12:01.654742Z",
     "shell.execute_reply": "2022-12-15T18:12:01.654070Z"
    },
    "papermill": {
     "duration": 2.037272,
     "end_time": "2022-12-15T18:12:01.655994",
     "exception": false,
     "start_time": "2022-12-15T18:11:59.618722",
     "status": "completed"
    },
    "tags": []
   },
   "outputs": [
    {
     "data": {
      "text/plain": [
       "0"
      ]
     },
     "metadata": {},
     "output_type": "display_data"
    },
    {
     "data": {
      "text/plain": [
       "array([], dtype=float64)"
      ]
     },
     "metadata": {},
     "output_type": "display_data"
    }
   ],
   "source": [
    "# print negative eigenvalues\n",
    "eigs = np.linalg.eigvals(gene_corrs_df.to_numpy())\n",
    "display(len(eigs[eigs < 0]))\n",
    "display(eigs[eigs < 0])"
   ]
  },
  {
   "cell_type": "code",
   "execution_count": 38,
   "id": "6e218436-c3c5-4028-8c94-a4fa6260efce",
   "metadata": {
    "execution": {
     "iopub.execute_input": "2022-12-15T18:12:06.032447Z",
     "iopub.status.busy": "2022-12-15T18:12:06.031975Z",
     "iopub.status.idle": "2022-12-15T18:12:06.059865Z",
     "shell.execute_reply": "2022-12-15T18:12:06.059238Z"
    },
    "papermill": {
     "duration": 2.142614,
     "end_time": "2022-12-15T18:12:06.061276",
     "exception": false,
     "start_time": "2022-12-15T18:12:03.918662",
     "status": "completed"
    },
    "tags": []
   },
   "outputs": [
    {
     "name": "stdout",
     "output_type": "stream",
     "text": [
      "Works!\n"
     ]
    }
   ],
   "source": [
    "try:\n",
    "    chol_mat = np.linalg.cholesky(gene_corrs_df.to_numpy())\n",
    "    cov_inv = np.linalg.inv(chol_mat)\n",
    "    print(\"Works!\")\n",
    "except Exception as e:\n",
    "    print(f\"Cholesky decomposition failed: {str(e)}\")"
   ]
  },
  {
   "cell_type": "code",
   "execution_count": 39,
   "id": "dd8827fb-faf9-4c7c-9454-015e94752706",
   "metadata": {
    "execution": {
     "iopub.execute_input": "2022-12-15T18:12:10.052519Z",
     "iopub.status.busy": "2022-12-15T18:12:10.052225Z",
     "iopub.status.idle": "2022-12-15T18:12:10.084084Z",
     "shell.execute_reply": "2022-12-15T18:12:10.083510Z"
    },
    "papermill": {
     "duration": 1.910136,
     "end_time": "2022-12-15T18:12:10.084947",
     "exception": false,
     "start_time": "2022-12-15T18:12:08.174811",
     "status": "completed"
    },
    "tags": []
   },
   "outputs": [
    {
     "name": "stdout",
     "output_type": "stream",
     "text": [
      "Works!\n"
     ]
    }
   ],
   "source": [
    "try:\n",
    "    # decomposition used by statsmodels.GLS\n",
    "    cholsigmainv = np.linalg.cholesky(np.linalg.inv(gene_corrs_df.to_numpy())).T\n",
    "    print(\"Works!\")\n",
    "except Exception as e:\n",
    "    print(f\"Cholesky decomposition failed (statsmodels.GLS): {str(e)}\")"
   ]
  },
  {
   "cell_type": "markdown",
   "id": "8e60a080-edb2-4e9c-b2ef-22961693200c",
   "metadata": {
    "papermill": {
     "duration": 1.751448,
     "end_time": "2022-12-15T18:12:13.719164",
     "exception": false,
     "start_time": "2022-12-15T18:12:11.967716",
     "status": "completed"
    },
    "tags": []
   },
   "source": [
    "## Plot: distribution"
   ]
  },
  {
   "cell_type": "code",
   "execution_count": 40,
   "id": "8301126b-a7d4-4744-9c7d-f0f86eb6f54c",
   "metadata": {
    "execution": {
     "iopub.execute_input": "2022-12-15T18:12:17.544460Z",
     "iopub.status.busy": "2022-12-15T18:12:17.544044Z",
     "iopub.status.idle": "2022-12-15T18:12:18.405688Z",
     "shell.execute_reply": "2022-12-15T18:12:18.405267Z"
    },
    "papermill": {
     "duration": 2.784552,
     "end_time": "2022-12-15T18:12:18.407053",
     "exception": false,
     "start_time": "2022-12-15T18:12:15.622501",
     "status": "completed"
    },
    "tags": []
   },
   "outputs": [
    {
     "data": {
      "image/png": "[encoded data removed]",
      "text/plain": [
       "<Figure size 700x700 with 1 Axes>"
      ]
     },
     "metadata": {},
     "output_type": "display_data"
    }
   ],
   "source": [
    "with sns.plotting_context(\"paper\", font_scale=1.5):\n",
    "    g = sns.displot(gene_corrs_flat, kde=True, height=7)\n",
    "    g.ax.set_title(\n",
    "        f\"Distribution of gene correlation values in chromosome {CHROMOSOME}\"\n",
    "    )"
   ]
  },
  {
   "cell_type": "markdown",
   "id": "cbd52bca-d878-4a2f-b684-5c83aa3038d4",
   "metadata": {
    "papermill": {
     "duration": 1.785171,
     "end_time": "2022-12-15T18:12:22.102327",
     "exception": false,
     "start_time": "2022-12-15T18:12:20.317156",
     "status": "completed"
    },
    "tags": []
   },
   "source": [
    "## Plot: heatmap"
   ]
  },
  {
   "cell_type": "code",
   "execution_count": 41,
   "id": "d03fe63a-c7b2-4fb9-a53c-db362ce843c9",
   "metadata": {
    "execution": {
     "iopub.execute_input": "2022-12-15T18:12:25.655593Z",
     "iopub.status.busy": "2022-12-15T18:12:25.655321Z",
     "iopub.status.idle": "2022-12-15T18:12:25.676407Z",
     "shell.execute_reply": "2022-12-15T18:12:25.675712Z"
    },
    "papermill": {
     "duration": 1.756353,
     "end_time": "2022-12-15T18:12:25.677611",
     "exception": false,
     "start_time": "2022-12-15T18:12:23.921258",
     "status": "completed"
    },
    "tags": []
   },
   "outputs": [
    {
     "data": {
      "text/plain": [
       "'0.0 / 0.05'"
      ]
     },
     "metadata": {},
     "output_type": "display_data"
    }
   ],
   "source": [
    "vmin_val = min(0.00, gene_corrs_quantiles[0.10])\n",
    "vmax_val = max(0.05, gene_corrs_quantiles[0.90])\n",
    "display(f\"{vmin_val} / {vmax_val}\")"
   ]
  },
  {
   "cell_type": "code",
   "execution_count": 42,
   "id": "dc41b70b-5bcc-4d9e-9f33-a22c4a94dab5",
   "metadata": {
    "execution": {
     "iopub.execute_input": "2022-12-15T18:12:29.406872Z",
     "iopub.status.busy": "2022-12-15T18:12:29.405904Z",
     "iopub.status.idle": "2022-12-15T18:12:29.653247Z",
     "shell.execute_reply": "2022-12-15T18:12:29.652567Z"
    },
    "papermill": {
     "duration": 2.078886,
     "end_time": "2022-12-15T18:12:29.654343",
     "exception": false,
     "start_time": "2022-12-15T18:12:27.575457",
     "status": "completed"
    },
    "tags": []
   },
   "outputs": [
    {
     "data": {
      "text/plain": [
       "Text(0.5, 1.0, 'Gene correlations in chromosome 6')"
      ]
     },
     "execution_count": 42,
     "metadata": {},
     "output_type": "execute_result"
    },
    {
     "data": {
      "image/png": "[encoded data removed]",
      "text/plain": [
       "<Figure size 1000x1000 with 2 Axes>"
      ]
     },
     "metadata": {},
     "output_type": "display_data"
    }
   ],
   "source": [
    "f, ax = plt.subplots(figsize=(10, 10))\n",
    "sns.heatmap(\n",
    "    gene_corrs_df,\n",
    "    xticklabels=False,\n",
    "    yticklabels=False,\n",
    "    square=True,\n",
    "    vmin=vmin_val,\n",
    "    vmax=vmax_val,\n",
    "    cmap=\"rocket_r\",\n",
    "    ax=ax,\n",
    ")\n",
    "ax.set_title(f\"Gene correlations in chromosome {CHROMOSOME}\")"
   ]
  },
  {
   "cell_type": "code",
   "execution_count": null,
   "id": "b25e3ead",
   "metadata": {
    "papermill": {
     "duration": 1.891829,
     "end_time": "2022-12-15T18:12:33.509886",
     "exception": false,
     "start_time": "2022-12-15T18:12:31.618057",
     "status": "completed"
    },
    "tags": []
   },
   "outputs": [],
   "source": []
  }
 ],
 "metadata": {
  "jupytext": {
   "cell_metadata_filter": "all,-execution,-papermill,-trusted",
   "formats": "ipynb,py//py:percent"
  },
  "kernelspec": {
   "display_name": "Python 3 (ipykernel)",
   "language": "python",
   "name": "python3"
  },
  "language_info": {
   "codemirror_mode": {
    "name": "ipython",
    "version": 3
   },
   "file_extension": ".py",
   "mimetype": "text/x-python",
   "name": "python",
   "nbconvert_exporter": "python",
   "pygments_lexer": "ipython3",
   "version": "3.10.6"
  },
  "papermill": {
   "default_parameters": {},
   "duration": 550.367353,
   "end_time": "2022-12-15T18:12:38.579678",
   "environment_variables": {},
   "exception": null,
   "input_path": "projects/asthma-copd/nbs/20_gene_corrs/jobs/05-gene_expr_correlations.ipynb",
   "output_path": "projects/asthma-copd/nbs/20_gene_corrs/jobs/../output/aco/05-gene_expr_correlations-chr6.run.ipynb",
   "parameters": {
    "CHROMOSOME": 6,
    "COHORT_NAME": "aco",
    "OUTPUT_DIR_BASE": "/opt/data/projects/asthma-copd/results/gls_phenoplier",
    "PHENOPLIER_NOTEBOOK_FILEPATH": "projects/asthma-copd/nbs/20_gene_corrs/jobs/05-gene_expr_correlations.ipynb"
   },
   "start_time": "2022-12-15T18:03:28.212325",
   "version": "2.2.2"
  }
 },
 "nbformat": 4,
 "nbformat_minor": 5
}
