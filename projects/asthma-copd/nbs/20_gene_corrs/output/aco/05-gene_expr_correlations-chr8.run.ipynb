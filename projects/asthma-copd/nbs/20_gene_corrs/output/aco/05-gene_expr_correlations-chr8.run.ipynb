{
 "cells": [
  {
   "cell_type": "markdown",
   "id": "7a6632fb",
   "metadata": {
    "papermill": {
     "duration": 0.0096,
     "end_time": "2022-12-15T18:04:20.858155",
     "exception": false,
     "start_time": "2022-12-15T18:04:20.848555",
     "status": "completed"
    },
    "tags": []
   },
   "source": [
    "# Description"
   ]
  },
  {
   "cell_type": "markdown",
   "id": "7097c346",
   "metadata": {
    "papermill": {
     "duration": 0.007233,
     "end_time": "2022-12-15T18:04:20.874772",
     "exception": false,
     "start_time": "2022-12-15T18:04:20.867539",
     "status": "completed"
    },
    "tags": []
   },
   "source": [
    "(Please, take a look at the README.md file in this directory for instructions on how to run this notebook)\n",
    "\n",
    "This notebook computes predicted expression correlations between all genes in the MultiPLIER models.\n",
    "\n",
    "It has specicfic parameters for papermill (see under `Settings` below).\n",
    "It can be configured to run on a single chromosome to run in parallel.\n",
    "\n",
    "This notebook is not directly run. See README.md."
   ]
  },
  {
   "cell_type": "markdown",
   "id": "c61d8427",
   "metadata": {
    "papermill": {
     "duration": 0.007095,
     "end_time": "2022-12-15T18:04:20.889035",
     "exception": false,
     "start_time": "2022-12-15T18:04:20.881940",
     "status": "completed"
    },
    "tags": []
   },
   "source": [
    "# Modules"
   ]
  },
  {
   "cell_type": "code",
   "execution_count": 1,
   "id": "bbc0234f",
   "metadata": {
    "execution": {
     "iopub.execute_input": "2022-12-15T18:04:20.909061Z",
     "iopub.status.busy": "2022-12-15T18:04:20.908752Z",
     "iopub.status.idle": "2022-12-15T18:04:20.925476Z",
     "shell.execute_reply": "2022-12-15T18:04:20.924951Z"
    },
    "papermill": {
     "duration": 0.029386,
     "end_time": "2022-12-15T18:04:20.926785",
     "exception": false,
     "start_time": "2022-12-15T18:04:20.897399",
     "status": "completed"
    },
    "tags": []
   },
   "outputs": [],
   "source": [
    "%load_ext autoreload\n",
    "%autoreload 2"
   ]
  },
  {
   "cell_type": "code",
   "execution_count": 2,
   "id": "1d5f5a59",
   "metadata": {
    "execution": {
     "iopub.execute_input": "2022-12-15T18:04:20.942941Z",
     "iopub.status.busy": "2022-12-15T18:04:20.942749Z",
     "iopub.status.idle": "2022-12-15T18:04:21.785242Z",
     "shell.execute_reply": "2022-12-15T18:04:21.784625Z"
    },
    "papermill": {
     "duration": 0.852525,
     "end_time": "2022-12-15T18:04:21.786887",
     "exception": false,
     "start_time": "2022-12-15T18:04:20.934362",
     "status": "completed"
    },
    "tags": []
   },
   "outputs": [],
   "source": [
    "from random import sample, seed\n",
    "import warnings\n",
    "from pathlib import Path\n",
    "import pickle\n",
    "import traceback\n",
    "\n",
    "import numpy as np\n",
    "from scipy.spatial.distance import squareform\n",
    "import pandas as pd\n",
    "from tqdm import tqdm\n",
    "import matplotlib.pyplot as plt\n",
    "import seaborn as sns\n",
    "\n",
    "import conf\n",
    "from entity import Gene"
   ]
  },
  {
   "cell_type": "markdown",
   "id": "1eac24b5",
   "metadata": {
    "papermill": {
     "duration": 0.009993,
     "end_time": "2022-12-15T18:04:21.803288",
     "exception": false,
     "start_time": "2022-12-15T18:04:21.793295",
     "status": "completed"
    },
    "tags": []
   },
   "source": [
    "# Settings"
   ]
  },
  {
   "cell_type": "code",
   "execution_count": 3,
   "id": "ca4560ba",
   "metadata": {
    "execution": {
     "iopub.execute_input": "2022-12-15T18:04:21.817478Z",
     "iopub.status.busy": "2022-12-15T18:04:21.817272Z",
     "iopub.status.idle": "2022-12-15T18:04:21.833952Z",
     "shell.execute_reply": "2022-12-15T18:04:21.833444Z"
    },
    "papermill": {
     "duration": 0.025535,
     "end_time": "2022-12-15T18:04:21.835614",
     "exception": false,
     "start_time": "2022-12-15T18:04:21.810079",
     "status": "completed"
    },
    "tags": [
     "parameters"
    ]
   },
   "outputs": [],
   "source": [
    "# a cohort name (it could be something like UK_BIOBANK, etc)\n",
    "COHORT_NAME = None\n",
    "\n",
    "# reference panel such as 1000G or GTEX_V8\n",
    "REFERENCE_PANEL = \"GTEX_V8\"\n",
    "\n",
    "# predictions models such as MASHR or ELASTIC_NET\n",
    "EQTL_MODEL = \"MASHR\"\n",
    "\n",
    "# this is the default value used in S-MultiXcan to select the\n",
    "# top principal components of the expression correlation matrix\n",
    "SMULTIXCAN_CONDITION_NUMBER = 30\n",
    "\n",
    "# specifies a single chromosome value\n",
    "CHROMOSOME = None\n",
    "\n",
    "# If True, computes the correlation between closeby genes only (see\n",
    "# entity.Gene.within_distance for more details). Otherwise, it computes\n",
    "# correlations for all genes in a chromosome\n",
    "COMPUTE_CORRELATIONS_WITHIN_DISTANCE = True\n",
    "\n",
    "# if True, then it will continue if a gene pair correlation fails,\n",
    "# printing the warning/error for debugging. If False, any warning/error\n",
    "# will be thrown\n",
    "DEBUG_MODE = False\n",
    "\n",
    "# output dir\n",
    "OUTPUT_DIR_BASE = None"
   ]
  },
  {
   "cell_type": "code",
   "execution_count": 4,
   "id": "beed1a26",
   "metadata": {
    "execution": {
     "iopub.execute_input": "2022-12-15T18:04:21.850288Z",
     "iopub.status.busy": "2022-12-15T18:04:21.850000Z",
     "iopub.status.idle": "2022-12-15T18:04:21.865072Z",
     "shell.execute_reply": "2022-12-15T18:04:21.864610Z"
    },
    "papermill": {
     "duration": 0.02454,
     "end_time": "2022-12-15T18:04:21.866995",
     "exception": false,
     "start_time": "2022-12-15T18:04:21.842455",
     "status": "completed"
    },
    "tags": [
     "injected-parameters"
    ]
   },
   "outputs": [],
   "source": [
    "# Parameters\n",
    "PHENOPLIER_NOTEBOOK_FILEPATH = (\n",
    "    \"projects/asthma-copd/nbs/20_gene_corrs/jobs/05-gene_expr_correlations.ipynb\"\n",
    ")\n",
    "COHORT_NAME = \"aco\"\n",
    "CHROMOSOME = 8\n",
    "OUTPUT_DIR_BASE = \"/opt/data/projects/asthma-copd/results/gls_phenoplier\"\n"
   ]
  },
  {
   "cell_type": "code",
   "execution_count": 5,
   "id": "3190631f-27fc-480f-b18e-571d580425a5",
   "metadata": {
    "execution": {
     "iopub.execute_input": "2022-12-15T18:04:21.885637Z",
     "iopub.status.busy": "2022-12-15T18:04:21.885317Z",
     "iopub.status.idle": "2022-12-15T18:04:21.905242Z",
     "shell.execute_reply": "2022-12-15T18:04:21.904803Z"
    },
    "papermill": {
     "duration": 0.031496,
     "end_time": "2022-12-15T18:04:21.906814",
     "exception": false,
     "start_time": "2022-12-15T18:04:21.875318",
     "status": "completed"
    },
    "tags": []
   },
   "outputs": [
    {
     "data": {
      "text/plain": [
       "'Cohort name: aco'"
      ]
     },
     "metadata": {},
     "output_type": "display_data"
    }
   ],
   "source": [
    "assert COHORT_NAME is not None and len(COHORT_NAME) > 0, \"A cohort name must be given\"\n",
    "\n",
    "COHORT_NAME = COHORT_NAME.lower()\n",
    "display(f\"Cohort name: {COHORT_NAME}\")"
   ]
  },
  {
   "cell_type": "code",
   "execution_count": 6,
   "id": "f53ba19b-0f93-4fa2-a047-63b375939d1a",
   "metadata": {
    "execution": {
     "iopub.execute_input": "2022-12-15T18:04:21.924626Z",
     "iopub.status.busy": "2022-12-15T18:04:21.924355Z",
     "iopub.status.idle": "2022-12-15T18:04:21.940080Z",
     "shell.execute_reply": "2022-12-15T18:04:21.939513Z"
    },
    "papermill": {
     "duration": 0.025926,
     "end_time": "2022-12-15T18:04:21.941395",
     "exception": false,
     "start_time": "2022-12-15T18:04:21.915469",
     "status": "completed"
    },
    "tags": []
   },
   "outputs": [
    {
     "data": {
      "text/plain": [
       "'Reference panel: GTEX_V8'"
      ]
     },
     "metadata": {},
     "output_type": "display_data"
    }
   ],
   "source": [
    "assert (\n",
    "    REFERENCE_PANEL is not None and len(REFERENCE_PANEL) > 0\n",
    "), \"A reference panel must be given\"\n",
    "\n",
    "display(f\"Reference panel: {REFERENCE_PANEL}\")"
   ]
  },
  {
   "cell_type": "code",
   "execution_count": 7,
   "id": "e024d130-c139-429a-9c6e-ccf149e297b0",
   "metadata": {
    "execution": {
     "iopub.execute_input": "2022-12-15T18:04:21.958346Z",
     "iopub.status.busy": "2022-12-15T18:04:21.958077Z",
     "iopub.status.idle": "2022-12-15T18:04:21.974035Z",
     "shell.execute_reply": "2022-12-15T18:04:21.973522Z"
    },
    "papermill": {
     "duration": 0.025549,
     "end_time": "2022-12-15T18:04:21.975304",
     "exception": false,
     "start_time": "2022-12-15T18:04:21.949755",
     "status": "completed"
    },
    "tags": []
   },
   "outputs": [
    {
     "data": {
      "text/plain": [
       "'eQTL model: MASHR) / mashr_'"
      ]
     },
     "metadata": {},
     "output_type": "display_data"
    }
   ],
   "source": [
    "assert (\n",
    "    EQTL_MODEL is not None and len(EQTL_MODEL) > 0\n",
    "), \"A prediction/eQTL model must be given\"\n",
    "\n",
    "EQTL_MODEL_FILES_PREFIX = conf.PHENOMEXCAN[\"PREDICTION_MODELS\"][f\"{EQTL_MODEL}_PREFIX\"]\n",
    "display(f\"eQTL model: {EQTL_MODEL}) / {EQTL_MODEL_FILES_PREFIX}\")"
   ]
  },
  {
   "cell_type": "code",
   "execution_count": 8,
   "id": "552a7f63-a18c-4d3e-bb6a-94f99b431291",
   "metadata": {
    "execution": {
     "iopub.execute_input": "2022-12-15T18:04:21.993259Z",
     "iopub.status.busy": "2022-12-15T18:04:21.993077Z",
     "iopub.status.idle": "2022-12-15T18:04:22.010227Z",
     "shell.execute_reply": "2022-12-15T18:04:22.009697Z"
    },
    "papermill": {
     "duration": 0.026947,
     "end_time": "2022-12-15T18:04:22.011444",
     "exception": false,
     "start_time": "2022-12-15T18:04:21.984497",
     "status": "completed"
    },
    "tags": []
   },
   "outputs": [
    {
     "data": {
      "text/plain": [
       "'S-MultiXcan condition number: 30'"
      ]
     },
     "metadata": {},
     "output_type": "display_data"
    }
   ],
   "source": [
    "assert (\n",
    "    SMULTIXCAN_CONDITION_NUMBER is not None and SMULTIXCAN_CONDITION_NUMBER > 0\n",
    "), \"The S-MultiXcan condition number (positive integer) must be given\"\n",
    "\n",
    "display(f\"S-MultiXcan condition number: {SMULTIXCAN_CONDITION_NUMBER}\")"
   ]
  },
  {
   "cell_type": "code",
   "execution_count": 9,
   "id": "f34a336f-548e-4afe-8955-90eaea4f42c6",
   "metadata": {
    "execution": {
     "iopub.execute_input": "2022-12-15T18:04:22.028774Z",
     "iopub.status.busy": "2022-12-15T18:04:22.028385Z",
     "iopub.status.idle": "2022-12-15T18:04:22.054505Z",
     "shell.execute_reply": "2022-12-15T18:04:22.053823Z"
    },
    "papermill": {
     "duration": 0.036075,
     "end_time": "2022-12-15T18:04:22.055781",
     "exception": false,
     "start_time": "2022-12-15T18:04:22.019706",
     "status": "completed"
    },
    "tags": []
   },
   "outputs": [
    {
     "data": {
      "text/plain": [
       "'Working on chromosome 8'"
      ]
     },
     "metadata": {},
     "output_type": "display_data"
    }
   ],
   "source": [
    "assert CHROMOSOME is not None and (\n",
    "    1 <= CHROMOSOME <= 22\n",
    "), \"You have to select one chromosome (format: number between 1 and 22)\"\n",
    "\n",
    "display(f\"Working on chromosome {CHROMOSOME}\")"
   ]
  },
  {
   "cell_type": "code",
   "execution_count": 10,
   "id": "ab8e96e8-06b5-4363-9dcd-dc4d78cc27f7",
   "metadata": {
    "execution": {
     "iopub.execute_input": "2022-12-15T18:04:22.074402Z",
     "iopub.status.busy": "2022-12-15T18:04:22.074112Z",
     "iopub.status.idle": "2022-12-15T18:04:22.089992Z",
     "shell.execute_reply": "2022-12-15T18:04:22.089588Z"
    },
    "papermill": {
     "duration": 0.02615,
     "end_time": "2022-12-15T18:04:22.091369",
     "exception": false,
     "start_time": "2022-12-15T18:04:22.065219",
     "status": "completed"
    },
    "tags": []
   },
   "outputs": [
    {
     "data": {
      "text/plain": [
       "'Compute correlation within distance True'"
      ]
     },
     "metadata": {},
     "output_type": "display_data"
    }
   ],
   "source": [
    "display(f\"Compute correlation within distance {COMPUTE_CORRELATIONS_WITHIN_DISTANCE}\")"
   ]
  },
  {
   "cell_type": "code",
   "execution_count": 11,
   "id": "b393b698-77e3-4ba2-8ac1-e14d51aa988f",
   "metadata": {
    "execution": {
     "iopub.execute_input": "2022-12-15T18:04:22.109984Z",
     "iopub.status.busy": "2022-12-15T18:04:22.109773Z",
     "iopub.status.idle": "2022-12-15T18:04:22.130403Z",
     "shell.execute_reply": "2022-12-15T18:04:22.129853Z"
    },
    "papermill": {
     "duration": 0.031145,
     "end_time": "2022-12-15T18:04:22.131453",
     "exception": false,
     "start_time": "2022-12-15T18:04:22.100308",
     "status": "completed"
    },
    "tags": []
   },
   "outputs": [
    {
     "data": {
      "text/plain": [
       "'Using output dir base: /opt/data/projects/asthma-copd/results/gls_phenoplier/gene_corrs/aco'"
      ]
     },
     "metadata": {},
     "output_type": "display_data"
    }
   ],
   "source": [
    "assert (\n",
    "    OUTPUT_DIR_BASE is not None and len(OUTPUT_DIR_BASE) > 0\n",
    "), \"Output directory path must be given\"\n",
    "\n",
    "OUTPUT_DIR_BASE = (Path(OUTPUT_DIR_BASE) / \"gene_corrs\" / COHORT_NAME).resolve()\n",
    "\n",
    "OUTPUT_DIR_BASE.mkdir(parents=True, exist_ok=True)\n",
    "\n",
    "display(f\"Using output dir base: {OUTPUT_DIR_BASE}\")"
   ]
  },
  {
   "cell_type": "markdown",
   "id": "d2ba085e",
   "metadata": {
    "papermill": {
     "duration": 0.00489,
     "end_time": "2022-12-15T18:04:22.142787",
     "exception": false,
     "start_time": "2022-12-15T18:04:22.137897",
     "status": "completed"
    },
    "tags": []
   },
   "source": [
    "# Load data"
   ]
  },
  {
   "cell_type": "markdown",
   "id": "7dcb8db7",
   "metadata": {
    "papermill": {
     "duration": 0.004826,
     "end_time": "2022-12-15T18:04:22.153132",
     "exception": false,
     "start_time": "2022-12-15T18:04:22.148306",
     "status": "completed"
    },
    "tags": []
   },
   "source": [
    "## GWAS variants"
   ]
  },
  {
   "cell_type": "code",
   "execution_count": 12,
   "id": "29434c4e-8cd3-4b9b-82e4-b5a251d9dd19",
   "metadata": {
    "execution": {
     "iopub.execute_input": "2022-12-15T18:04:22.164307Z",
     "iopub.status.busy": "2022-12-15T18:04:22.163775Z",
     "iopub.status.idle": "2022-12-15T18:04:24.597517Z",
     "shell.execute_reply": "2022-12-15T18:04:24.597077Z"
    },
    "papermill": {
     "duration": 2.440837,
     "end_time": "2022-12-15T18:04:24.598784",
     "exception": false,
     "start_time": "2022-12-15T18:04:22.157947",
     "status": "completed"
    },
    "tags": []
   },
   "outputs": [],
   "source": [
    "with open(OUTPUT_DIR_BASE / \"gwas_variant_ids.pkl\", \"rb\") as handle:\n",
    "    gwas_variants_ids_set = pickle.load(handle)"
   ]
  },
  {
   "cell_type": "code",
   "execution_count": 13,
   "id": "b9d9dec2-4a76-4bf9-bde2-e24c95acb8a0",
   "metadata": {
    "execution": {
     "iopub.execute_input": "2022-12-15T18:04:24.615706Z",
     "iopub.status.busy": "2022-12-15T18:04:24.615481Z",
     "iopub.status.idle": "2022-12-15T18:04:24.630471Z",
     "shell.execute_reply": "2022-12-15T18:04:24.630080Z"
    },
    "papermill": {
     "duration": 0.02723,
     "end_time": "2022-12-15T18:04:24.631419",
     "exception": false,
     "start_time": "2022-12-15T18:04:24.604189",
     "status": "completed"
    },
    "tags": []
   },
   "outputs": [
    {
     "data": {
      "text/plain": [
       "8561476"
      ]
     },
     "execution_count": 13,
     "metadata": {},
     "output_type": "execute_result"
    }
   ],
   "source": [
    "len(gwas_variants_ids_set)"
   ]
  },
  {
   "cell_type": "code",
   "execution_count": 14,
   "id": "4235b06a-6034-4ee4-a0a3-2ae35d122418",
   "metadata": {
    "execution": {
     "iopub.execute_input": "2022-12-15T18:04:24.642910Z",
     "iopub.status.busy": "2022-12-15T18:04:24.642696Z",
     "iopub.status.idle": "2022-12-15T18:04:25.156179Z",
     "shell.execute_reply": "2022-12-15T18:04:25.155761Z"
    },
    "papermill": {
     "duration": 0.520283,
     "end_time": "2022-12-15T18:04:25.157131",
     "exception": false,
     "start_time": "2022-12-15T18:04:24.636848",
     "status": "completed"
    },
    "tags": []
   },
   "outputs": [
    {
     "data": {
      "text/plain": [
       "['chr19_12606171_C_T_b38',\n",
       " 'chr1_34668116_A_G_b38',\n",
       " 'chr16_82138114_A_C_b38',\n",
       " 'chr13_75896778_C_T_b38',\n",
       " 'chr8_78850423_C_T_b38']"
      ]
     },
     "execution_count": 14,
     "metadata": {},
     "output_type": "execute_result"
    }
   ],
   "source": [
    "list(gwas_variants_ids_set)[:5]"
   ]
  },
  {
   "cell_type": "markdown",
   "id": "07866999-2305-41f9-a144-e69c9122c212",
   "metadata": {
    "papermill": {
     "duration": 0.005145,
     "end_time": "2022-12-15T18:04:25.167724",
     "exception": false,
     "start_time": "2022-12-15T18:04:25.162579",
     "status": "completed"
    },
    "tags": []
   },
   "source": [
    "## S-PrediXcan tissue models"
   ]
  },
  {
   "cell_type": "code",
   "execution_count": 15,
   "id": "780611d9-77c8-405f-90a4-f271f7b09397",
   "metadata": {
    "execution": {
     "iopub.execute_input": "2022-12-15T18:04:25.179498Z",
     "iopub.status.busy": "2022-12-15T18:04:25.179278Z",
     "iopub.status.idle": "2022-12-15T18:04:26.264615Z",
     "shell.execute_reply": "2022-12-15T18:04:26.264133Z"
    },
    "papermill": {
     "duration": 1.092445,
     "end_time": "2022-12-15T18:04:26.265885",
     "exception": false,
     "start_time": "2022-12-15T18:04:25.173440",
     "status": "completed"
    },
    "tags": []
   },
   "outputs": [],
   "source": [
    "spredixcan_genes_models = pd.read_pickle(OUTPUT_DIR_BASE / \"gene_tissues.pkl\")"
   ]
  },
  {
   "cell_type": "code",
   "execution_count": 16,
   "id": "726dd1f6-9557-4225-91fa-b3b879ea96e1",
   "metadata": {
    "execution": {
     "iopub.execute_input": "2022-12-15T18:04:26.277947Z",
     "iopub.status.busy": "2022-12-15T18:04:26.277570Z",
     "iopub.status.idle": "2022-12-15T18:04:26.300603Z",
     "shell.execute_reply": "2022-12-15T18:04:26.300226Z"
    },
    "papermill": {
     "duration": 0.029999,
     "end_time": "2022-12-15T18:04:26.301469",
     "exception": false,
     "start_time": "2022-12-15T18:04:26.271470",
     "status": "completed"
    },
    "tags": []
   },
   "outputs": [
    {
     "data": {
      "text/plain": [
       "(6442, 5)"
      ]
     },
     "execution_count": 16,
     "metadata": {},
     "output_type": "execute_result"
    }
   ],
   "source": [
    "spredixcan_genes_models.shape"
   ]
  },
  {
   "cell_type": "code",
   "execution_count": 17,
   "id": "944a1b48-222c-4eb0-b252-b9de2cbca215",
   "metadata": {
    "execution": {
     "iopub.execute_input": "2022-12-15T18:04:26.313126Z",
     "iopub.status.busy": "2022-12-15T18:04:26.312805Z",
     "iopub.status.idle": "2022-12-15T18:04:26.332092Z",
     "shell.execute_reply": "2022-12-15T18:04:26.331742Z"
    },
    "papermill": {
     "duration": 0.026592,
     "end_time": "2022-12-15T18:04:26.333499",
     "exception": false,
     "start_time": "2022-12-15T18:04:26.306907",
     "status": "completed"
    },
    "tags": []
   },
   "outputs": [
    {
     "data": {
      "text/html": [
       "<div>\n",
       "<style scoped>\n",
       "    .dataframe tbody tr th:only-of-type {\n",
       "        vertical-align: middle;\n",
       "    }\n",
       "\n",
       "    .dataframe tbody tr th {\n",
       "        vertical-align: top;\n",
       "    }\n",
       "\n",
       "    .dataframe thead th {\n",
       "        text-align: right;\n",
       "    }\n",
       "</style>\n",
       "<table border=\"1\" class=\"dataframe\">\n",
       "  <thead>\n",
       "    <tr style=\"text-align: right;\">\n",
       "      <th></th>\n",
       "      <th>gene_name</th>\n",
       "      <th>tissue</th>\n",
       "      <th>n_tissues</th>\n",
       "      <th>n_snps_used_sum</th>\n",
       "      <th>n_snps_in_model_sum</th>\n",
       "    </tr>\n",
       "    <tr>\n",
       "      <th>gene_id</th>\n",
       "      <th></th>\n",
       "      <th></th>\n",
       "      <th></th>\n",
       "      <th></th>\n",
       "      <th></th>\n",
       "    </tr>\n",
       "  </thead>\n",
       "  <tbody>\n",
       "    <tr>\n",
       "      <th>ENSG00000000419</th>\n",
       "      <td>DPM1</td>\n",
       "      <td>(Brain_Hypothalamus, Brain_Substantia_nigra)</td>\n",
       "      <td>2</td>\n",
       "      <td>2</td>\n",
       "      <td>2</td>\n",
       "    </tr>\n",
       "    <tr>\n",
       "      <th>ENSG00000000938</th>\n",
       "      <td>FGR</td>\n",
       "      <td>(Brain_Spinal_cord_cervical_c-1, Prostate, Ski...</td>\n",
       "      <td>36</td>\n",
       "      <td>40</td>\n",
       "      <td>40</td>\n",
       "    </tr>\n",
       "    <tr>\n",
       "      <th>ENSG00000000971</th>\n",
       "      <td>CFH</td>\n",
       "      <td>(Brain_Spinal_cord_cervical_c-1, Skin_Not_Sun_...</td>\n",
       "      <td>34</td>\n",
       "      <td>44</td>\n",
       "      <td>44</td>\n",
       "    </tr>\n",
       "    <tr>\n",
       "      <th>ENSG00000001084</th>\n",
       "      <td>GCLC</td>\n",
       "      <td>(Adrenal_Gland, Skin_Not_Sun_Exposed_Suprapubi...</td>\n",
       "      <td>32</td>\n",
       "      <td>46</td>\n",
       "      <td>46</td>\n",
       "    </tr>\n",
       "    <tr>\n",
       "      <th>ENSG00000001167</th>\n",
       "      <td>NFYA</td>\n",
       "      <td>(Brain_Spinal_cord_cervical_c-1, Prostate, Adr...</td>\n",
       "      <td>40</td>\n",
       "      <td>47</td>\n",
       "      <td>48</td>\n",
       "    </tr>\n",
       "  </tbody>\n",
       "</table>\n",
       "</div>"
      ],
      "text/plain": [
       "                gene_name                                             tissue  \\\n",
       "gene_id                                                                        \n",
       "ENSG00000000419      DPM1       (Brain_Hypothalamus, Brain_Substantia_nigra)   \n",
       "ENSG00000000938       FGR  (Brain_Spinal_cord_cervical_c-1, Prostate, Ski...   \n",
       "ENSG00000000971       CFH  (Brain_Spinal_cord_cervical_c-1, Skin_Not_Sun_...   \n",
       "ENSG00000001084      GCLC  (Adrenal_Gland, Skin_Not_Sun_Exposed_Suprapubi...   \n",
       "ENSG00000001167      NFYA  (Brain_Spinal_cord_cervical_c-1, Prostate, Adr...   \n",
       "\n",
       "                 n_tissues  n_snps_used_sum  n_snps_in_model_sum  \n",
       "gene_id                                                           \n",
       "ENSG00000000419          2                2                    2  \n",
       "ENSG00000000938         36               40                   40  \n",
       "ENSG00000000971         34               44                   44  \n",
       "ENSG00000001084         32               46                   46  \n",
       "ENSG00000001167         40               47                   48  "
      ]
     },
     "execution_count": 17,
     "metadata": {},
     "output_type": "execute_result"
    }
   ],
   "source": [
    "spredixcan_genes_models.head()"
   ]
  },
  {
   "cell_type": "code",
   "execution_count": 18,
   "id": "d1c11bb1-be0b-4f40-b360-633d6827109f",
   "metadata": {
    "execution": {
     "iopub.execute_input": "2022-12-15T18:04:26.355263Z",
     "iopub.status.busy": "2022-12-15T18:04:26.354859Z",
     "iopub.status.idle": "2022-12-15T18:04:26.369278Z",
     "shell.execute_reply": "2022-12-15T18:04:26.368888Z"
    },
    "papermill": {
     "duration": 0.027539,
     "end_time": "2022-12-15T18:04:26.370820",
     "exception": false,
     "start_time": "2022-12-15T18:04:26.343281",
     "status": "completed"
    },
    "tags": []
   },
   "outputs": [],
   "source": [
    "assert spredixcan_genes_models.index.is_unique"
   ]
  },
  {
   "cell_type": "markdown",
   "id": "a5b5092c-a13e-47c4-a92a-480fcc08f3ae",
   "metadata": {
    "papermill": {
     "duration": 0.009954,
     "end_time": "2022-12-15T18:04:26.391228",
     "exception": false,
     "start_time": "2022-12-15T18:04:26.381274",
     "status": "completed"
    },
    "tags": []
   },
   "source": [
    "## Gene info"
   ]
  },
  {
   "cell_type": "code",
   "execution_count": 19,
   "id": "7d6bb224-88e9-4358-ac10-43a41d92cdad",
   "metadata": {
    "execution": {
     "iopub.execute_input": "2022-12-15T18:04:26.412474Z",
     "iopub.status.busy": "2022-12-15T18:04:26.412265Z",
     "iopub.status.idle": "2022-12-15T18:04:26.433234Z",
     "shell.execute_reply": "2022-12-15T18:04:26.432611Z"
    },
    "papermill": {
     "duration": 0.033904,
     "end_time": "2022-12-15T18:04:26.434942",
     "exception": false,
     "start_time": "2022-12-15T18:04:26.401038",
     "status": "completed"
    },
    "tags": []
   },
   "outputs": [],
   "source": [
    "genes_info = pd.read_pickle(OUTPUT_DIR_BASE / \"genes_info.pkl\")"
   ]
  },
  {
   "cell_type": "code",
   "execution_count": 20,
   "id": "9e32abfa-546d-483e-8c18-d526e9e05903",
   "metadata": {
    "execution": {
     "iopub.execute_input": "2022-12-15T18:04:26.456156Z",
     "iopub.status.busy": "2022-12-15T18:04:26.455684Z",
     "iopub.status.idle": "2022-12-15T18:04:26.478100Z",
     "shell.execute_reply": "2022-12-15T18:04:26.477633Z"
    },
    "papermill": {
     "duration": 0.034881,
     "end_time": "2022-12-15T18:04:26.479546",
     "exception": false,
     "start_time": "2022-12-15T18:04:26.444665",
     "status": "completed"
    },
    "tags": []
   },
   "outputs": [
    {
     "data": {
      "text/plain": [
       "(6442, 7)"
      ]
     },
     "execution_count": 20,
     "metadata": {},
     "output_type": "execute_result"
    }
   ],
   "source": [
    "genes_info.shape"
   ]
  },
  {
   "cell_type": "code",
   "execution_count": 21,
   "id": "d16c3e92-85ec-468a-9a56-e25a9774a1cb",
   "metadata": {
    "execution": {
     "iopub.execute_input": "2022-12-15T18:04:26.493038Z",
     "iopub.status.busy": "2022-12-15T18:04:26.492834Z",
     "iopub.status.idle": "2022-12-15T18:04:26.510957Z",
     "shell.execute_reply": "2022-12-15T18:04:26.510378Z"
    },
    "papermill": {
     "duration": 0.025614,
     "end_time": "2022-12-15T18:04:26.512149",
     "exception": false,
     "start_time": "2022-12-15T18:04:26.486535",
     "status": "completed"
    },
    "tags": []
   },
   "outputs": [
    {
     "data": {
      "text/html": [
       "<div>\n",
       "<style scoped>\n",
       "    .dataframe tbody tr th:only-of-type {\n",
       "        vertical-align: middle;\n",
       "    }\n",
       "\n",
       "    .dataframe tbody tr th {\n",
       "        vertical-align: top;\n",
       "    }\n",
       "\n",
       "    .dataframe thead th {\n",
       "        text-align: right;\n",
       "    }\n",
       "</style>\n",
       "<table border=\"1\" class=\"dataframe\">\n",
       "  <thead>\n",
       "    <tr style=\"text-align: right;\">\n",
       "      <th></th>\n",
       "      <th>name</th>\n",
       "      <th>id</th>\n",
       "      <th>chr</th>\n",
       "      <th>band</th>\n",
       "      <th>start_position</th>\n",
       "      <th>end_position</th>\n",
       "      <th>gene_length</th>\n",
       "    </tr>\n",
       "  </thead>\n",
       "  <tbody>\n",
       "    <tr>\n",
       "      <th>0</th>\n",
       "      <td>SLC38A1</td>\n",
       "      <td>ENSG00000111371</td>\n",
       "      <td>12</td>\n",
       "      <td>12q13.11</td>\n",
       "      <td>46183063</td>\n",
       "      <td>46270017</td>\n",
       "      <td>86954</td>\n",
       "    </tr>\n",
       "    <tr>\n",
       "      <th>1</th>\n",
       "      <td>SEC61A1</td>\n",
       "      <td>ENSG00000058262</td>\n",
       "      <td>3</td>\n",
       "      <td>3q21.3</td>\n",
       "      <td>128051641</td>\n",
       "      <td>128071683</td>\n",
       "      <td>20042</td>\n",
       "    </tr>\n",
       "    <tr>\n",
       "      <th>2</th>\n",
       "      <td>SYDE1</td>\n",
       "      <td>ENSG00000105137</td>\n",
       "      <td>19</td>\n",
       "      <td>19p13.12</td>\n",
       "      <td>15107401</td>\n",
       "      <td>15114985</td>\n",
       "      <td>7584</td>\n",
       "    </tr>\n",
       "    <tr>\n",
       "      <th>3</th>\n",
       "      <td>GEM</td>\n",
       "      <td>ENSG00000164949</td>\n",
       "      <td>8</td>\n",
       "      <td>8q22.1</td>\n",
       "      <td>94249253</td>\n",
       "      <td>94262350</td>\n",
       "      <td>13097</td>\n",
       "    </tr>\n",
       "    <tr>\n",
       "      <th>4</th>\n",
       "      <td>PTGS2</td>\n",
       "      <td>ENSG00000073756</td>\n",
       "      <td>1</td>\n",
       "      <td>1q31.1</td>\n",
       "      <td>186671791</td>\n",
       "      <td>186680423</td>\n",
       "      <td>8632</td>\n",
       "    </tr>\n",
       "  </tbody>\n",
       "</table>\n",
       "</div>"
      ],
      "text/plain": [
       "      name               id  chr      band  start_position  end_position  \\\n",
       "0  SLC38A1  ENSG00000111371   12  12q13.11        46183063      46270017   \n",
       "1  SEC61A1  ENSG00000058262    3    3q21.3       128051641     128071683   \n",
       "2    SYDE1  ENSG00000105137   19  19p13.12        15107401      15114985   \n",
       "3      GEM  ENSG00000164949    8    8q22.1        94249253      94262350   \n",
       "4    PTGS2  ENSG00000073756    1    1q31.1       186671791     186680423   \n",
       "\n",
       "   gene_length  \n",
       "0        86954  \n",
       "1        20042  \n",
       "2         7584  \n",
       "3        13097  \n",
       "4         8632  "
      ]
     },
     "execution_count": 21,
     "metadata": {},
     "output_type": "execute_result"
    }
   ],
   "source": [
    "genes_info.head()"
   ]
  },
  {
   "cell_type": "markdown",
   "id": "d3843e06",
   "metadata": {
    "papermill": {
     "duration": 0.006239,
     "end_time": "2022-12-15T18:04:26.524730",
     "exception": false,
     "start_time": "2022-12-15T18:04:26.518491",
     "status": "completed"
    },
    "tags": []
   },
   "source": [
    "# Compute correlations"
   ]
  },
  {
   "cell_type": "code",
   "execution_count": 22,
   "id": "cb859c15-d1f3-4006-a74c-2b83c0db9611",
   "metadata": {
    "execution": {
     "iopub.execute_input": "2022-12-15T18:04:26.536985Z",
     "iopub.status.busy": "2022-12-15T18:04:26.536674Z",
     "iopub.status.idle": "2022-12-15T18:04:26.552839Z",
     "shell.execute_reply": "2022-12-15T18:04:26.552284Z"
    },
    "papermill": {
     "duration": 0.023206,
     "end_time": "2022-12-15T18:04:26.553835",
     "exception": false,
     "start_time": "2022-12-15T18:04:26.530629",
     "status": "completed"
    },
    "tags": []
   },
   "outputs": [
    {
     "data": {
      "text/plain": [
       "PosixPath('/opt/data/projects/asthma-copd/results/gls_phenoplier/gene_corrs/aco/by_chr/gene_corrs-chr8.pkl')"
      ]
     },
     "metadata": {},
     "output_type": "display_data"
    }
   ],
   "source": [
    "output_dir = OUTPUT_DIR_BASE / \"by_chr\"\n",
    "output_dir.mkdir(exist_ok=True, parents=True)\n",
    "output_file = output_dir / f\"gene_corrs-chr{CHROMOSOME}.pkl\"\n",
    "display(output_file)"
   ]
  },
  {
   "cell_type": "code",
   "execution_count": 23,
   "id": "aa674fe4-6794-4eed-98fa-32b39d1d4ace",
   "metadata": {
    "execution": {
     "iopub.execute_input": "2022-12-15T18:04:26.567704Z",
     "iopub.status.busy": "2022-12-15T18:04:26.567387Z",
     "iopub.status.idle": "2022-12-15T18:04:26.588296Z",
     "shell.execute_reply": "2022-12-15T18:04:26.587605Z"
    },
    "papermill": {
     "duration": 0.029472,
     "end_time": "2022-12-15T18:04:26.589517",
     "exception": false,
     "start_time": "2022-12-15T18:04:26.560045",
     "status": "completed"
    },
    "tags": []
   },
   "outputs": [],
   "source": [
    "warnings.filterwarnings(\"error\")"
   ]
  },
  {
   "cell_type": "code",
   "execution_count": 24,
   "id": "44d5450b-3baf-43f1-9e2e-4b06f1a785f8",
   "metadata": {
    "execution": {
     "iopub.execute_input": "2022-12-15T18:04:26.603804Z",
     "iopub.status.busy": "2022-12-15T18:04:26.603093Z",
     "iopub.status.idle": "2022-12-15T18:04:26.625228Z",
     "shell.execute_reply": "2022-12-15T18:04:26.624640Z"
    },
    "papermill": {
     "duration": 0.030321,
     "end_time": "2022-12-15T18:04:26.626161",
     "exception": false,
     "start_time": "2022-12-15T18:04:26.595840",
     "status": "completed"
    },
    "tags": []
   },
   "outputs": [],
   "source": [
    "# standard checks\n",
    "all_chrs = genes_info[\"chr\"].dropna().unique()\n",
    "assert all_chrs.shape[0] == 22\n",
    "\n",
    "# select chromosome given by the user\n",
    "assert CHROMOSOME in all_chrs"
   ]
  },
  {
   "cell_type": "code",
   "execution_count": 25,
   "id": "2d7c043c-92a7-4d35-991b-fa69ac1e0268",
   "metadata": {
    "execution": {
     "iopub.execute_input": "2022-12-15T18:04:26.644773Z",
     "iopub.status.busy": "2022-12-15T18:04:26.644017Z",
     "iopub.status.idle": "2022-12-15T18:04:26.668424Z",
     "shell.execute_reply": "2022-12-15T18:04:26.667701Z"
    },
    "papermill": {
     "duration": 0.036669,
     "end_time": "2022-12-15T18:04:26.669733",
     "exception": false,
     "start_time": "2022-12-15T18:04:26.633064",
     "status": "completed"
    },
    "tags": []
   },
   "outputs": [
    {
     "name": "stdout",
     "output_type": "stream",
     "text": [
      "Number of genes in chromosome: 222\n"
     ]
    }
   ],
   "source": [
    "# run only on the chromosome specified\n",
    "all_chrs = [CHROMOSOME]\n",
    "genes_chr = genes_info[genes_info[\"chr\"] == CHROMOSOME]\n",
    "\n",
    "# For testing purposes\n",
    "# genes_chr = genes_chr.sample(n=20)\n",
    "\n",
    "print(f\"Number of genes in chromosome: {genes_chr.shape[0]}\", flush=True)"
   ]
  },
  {
   "cell_type": "code",
   "execution_count": 26,
   "id": "916015d8-2979-46d3-a9b9-1cf5a0932c6a",
   "metadata": {
    "execution": {
     "iopub.execute_input": "2022-12-15T18:04:26.694301Z",
     "iopub.status.busy": "2022-12-15T18:04:26.693940Z",
     "iopub.status.idle": "2022-12-15T18:04:26.715829Z",
     "shell.execute_reply": "2022-12-15T18:04:26.715106Z"
    },
    "papermill": {
     "duration": 0.035441,
     "end_time": "2022-12-15T18:04:26.717233",
     "exception": false,
     "start_time": "2022-12-15T18:04:26.681792",
     "status": "completed"
    },
    "tags": []
   },
   "outputs": [],
   "source": [
    "# sort genes by starting position to make visualizations better later\n",
    "genes_chr = genes_chr.sort_values(\"start_position\")"
   ]
  },
  {
   "cell_type": "code",
   "execution_count": 27,
   "id": "a38aa74a-8ad3-47f6-8ef9-56be0e011774",
   "metadata": {
    "execution": {
     "iopub.execute_input": "2022-12-15T18:04:26.731358Z",
     "iopub.status.busy": "2022-12-15T18:04:26.731029Z",
     "iopub.status.idle": "2022-12-15T18:04:26.753191Z",
     "shell.execute_reply": "2022-12-15T18:04:26.752592Z"
    },
    "papermill": {
     "duration": 0.030612,
     "end_time": "2022-12-15T18:04:26.754385",
     "exception": false,
     "start_time": "2022-12-15T18:04:26.723773",
     "status": "completed"
    },
    "tags": []
   },
   "outputs": [],
   "source": [
    "gene_chr_objs = [Gene(ensembl_id=gene_id) for gene_id in genes_chr[\"id\"]]"
   ]
  },
  {
   "cell_type": "code",
   "execution_count": 28,
   "id": "570f974f-13c3-42b6-ad3a-ce99ca885c1a",
   "metadata": {
    "execution": {
     "iopub.execute_input": "2022-12-15T18:04:26.767718Z",
     "iopub.status.busy": "2022-12-15T18:04:26.767386Z",
     "iopub.status.idle": "2022-12-15T18:04:26.789337Z",
     "shell.execute_reply": "2022-12-15T18:04:26.788772Z"
    },
    "papermill": {
     "duration": 0.029701,
     "end_time": "2022-12-15T18:04:26.790207",
     "exception": false,
     "start_time": "2022-12-15T18:04:26.760506",
     "status": "completed"
    },
    "tags": []
   },
   "outputs": [
    {
     "name": "stdout",
     "output_type": "stream",
     "text": [
      "Number of gene combinations: 24753\n"
     ]
    }
   ],
   "source": [
    "n = len(gene_chr_objs)\n",
    "# diagonal elements + upper triangular matrix\n",
    "n_comb = n + int(n * (n - 1) / 2.0)\n",
    "print(f\"Number of gene combinations: {n_comb}\", flush=True)"
   ]
  },
  {
   "cell_type": "code",
   "execution_count": 29,
   "id": "cdbb90a1",
   "metadata": {
    "execution": {
     "iopub.execute_input": "2022-12-15T18:04:26.803874Z",
     "iopub.status.busy": "2022-12-15T18:04:26.803430Z",
     "iopub.status.idle": "2022-12-15T18:07:22.121236Z",
     "shell.execute_reply": "2022-12-15T18:07:22.120685Z"
    },
    "papermill": {
     "duration": 175.326305,
     "end_time": "2022-12-15T18:07:22.122835",
     "exception": false,
     "start_time": "2022-12-15T18:04:26.796530",
     "status": "completed"
    },
    "tags": []
   },
   "outputs": [
    {
     "name": "stderr",
     "output_type": "stream",
     "text": [
      "ENSG00000196150 / ENSG00000196150: 100%|█████████████████████| 24753/24753 [02:55<00:00, 141.22it/s]\n"
     ]
    },
    {
     "data": {
      "text/plain": [
       "PosixPath('/opt/data/projects/asthma-copd/results/gls_phenoplier/gene_corrs/aco/by_chr/gene_corrs-chr8.pkl')"
      ]
     },
     "metadata": {},
     "output_type": "display_data"
    }
   ],
   "source": [
    "gene_corrs = []\n",
    "gene_corrs_data = np.full(\n",
    "    (n, n),\n",
    "    np.nan,\n",
    "    dtype=np.float64,\n",
    ")\n",
    "\n",
    "i = 0\n",
    "with tqdm(ncols=100, total=n_comb) as pbar:\n",
    "    for gene1_idx in range(0, len(gene_chr_objs)):\n",
    "        gene1_obj = gene_chr_objs[gene1_idx]\n",
    "        gene1_tissues = spredixcan_genes_models.loc[gene1_obj.ensembl_id, \"tissue\"]\n",
    "\n",
    "        for gene2_idx in range(gene1_idx, len(gene_chr_objs)):\n",
    "            gene2_obj = gene_chr_objs[gene2_idx]\n",
    "            gene2_tissues = spredixcan_genes_models.loc[gene2_obj.ensembl_id, \"tissue\"]\n",
    "\n",
    "            pbar.set_description(f\"{gene1_obj.ensembl_id} / {gene2_obj.ensembl_id}\")\n",
    "\n",
    "            try:\n",
    "                r = gene1_obj.get_ssm_correlation(\n",
    "                    other_gene=gene2_obj,\n",
    "                    tissues=gene1_tissues,\n",
    "                    other_tissues=gene2_tissues,\n",
    "                    snps_subset=gwas_variants_ids_set,\n",
    "                    condition_number=SMULTIXCAN_CONDITION_NUMBER,\n",
    "                    reference_panel=REFERENCE_PANEL,\n",
    "                    model_type=EQTL_MODEL,\n",
    "                    use_within_distance=COMPUTE_CORRELATIONS_WITHIN_DISTANCE,\n",
    "                )\n",
    "\n",
    "                if r is None:\n",
    "                    # if r is None, it's very likely because:\n",
    "                    #  * one of the genes has no prediction models\n",
    "                    #  * all the SNPs predictors for the gene are not present in the reference\n",
    "                    #    panel\n",
    "\n",
    "                    r = 0.0\n",
    "\n",
    "                gene_corrs.append(r)\n",
    "\n",
    "                gene_corrs_data[gene1_idx, gene2_idx] = r\n",
    "                gene_corrs_data[gene2_idx, gene1_idx] = r\n",
    "            except Warning as e:\n",
    "                if not DEBUG_MODE:\n",
    "                    raise e\n",
    "\n",
    "                print(\n",
    "                    f\"RuntimeWarning for genes {gene1_obj.ensembl_id} and {gene2_obj.ensembl_id}\",\n",
    "                    flush=True,\n",
    "                )\n",
    "                print(traceback.format_exc(), flush=True)\n",
    "\n",
    "                gene_corrs.append(np.nan)\n",
    "            except Exception as e:\n",
    "                if not DEBUG_MODE:\n",
    "                    raise e\n",
    "\n",
    "                print(\n",
    "                    f\"Exception for genes {gene1_obj.ensembl_id} and {gene2_obj.ensembl_id}\",\n",
    "                    flush=True,\n",
    "                )\n",
    "                print(traceback.format_exc(), flush=True)\n",
    "\n",
    "                gene_corrs.append(np.nan)\n",
    "\n",
    "            pbar.update(1)\n",
    "\n",
    "# create a pandas series\n",
    "gene_corrs_flat = pd.Series(gene_corrs)\n",
    "\n",
    "# save\n",
    "# FIXME: consider saving only the condenced matrix here. See here for\n",
    "# more details: https://github.com/greenelab/phenoplier/pull/38#discussion_r634600813\n",
    "# gene_corrs_data = squareform(np.array(gene_corrs, dtype=np.float64))\n",
    "# np.fill_diagonal(gene_corrs_data, 1.0)\n",
    "\n",
    "gene_chr_ids = [g.ensembl_id for g in gene_chr_objs]\n",
    "gene_corrs_df = pd.DataFrame(\n",
    "    data=gene_corrs_data,\n",
    "    index=gene_chr_ids,\n",
    "    columns=gene_chr_ids,\n",
    ")\n",
    "\n",
    "output_dir.mkdir(exist_ok=True, parents=True)\n",
    "display(output_file)\n",
    "\n",
    "gene_corrs_df.to_pickle(output_file)"
   ]
  },
  {
   "cell_type": "markdown",
   "id": "faa67b51-5373-470f-aa72-2ded53fa6dfe",
   "metadata": {
    "papermill": {
     "duration": 0.800525,
     "end_time": "2022-12-15T18:07:23.799409",
     "exception": false,
     "start_time": "2022-12-15T18:07:22.998884",
     "status": "completed"
    },
    "tags": []
   },
   "source": [
    "# Testing"
   ]
  },
  {
   "cell_type": "code",
   "execution_count": 30,
   "id": "14f7d046-4b55-4896-a56b-990127bcc388",
   "metadata": {
    "execution": {
     "iopub.execute_input": "2022-12-15T18:07:25.478503Z",
     "iopub.status.busy": "2022-12-15T18:07:25.478114Z",
     "iopub.status.idle": "2022-12-15T18:07:25.501459Z",
     "shell.execute_reply": "2022-12-15T18:07:25.500846Z"
    },
    "papermill": {
     "duration": 0.895034,
     "end_time": "2022-12-15T18:07:25.502448",
     "exception": false,
     "start_time": "2022-12-15T18:07:24.607414",
     "status": "completed"
    },
    "tags": []
   },
   "outputs": [
    {
     "data": {
      "text/plain": [
       "(222, 222)"
      ]
     },
     "execution_count": 30,
     "metadata": {},
     "output_type": "execute_result"
    }
   ],
   "source": [
    "gene_corrs_df.shape"
   ]
  },
  {
   "cell_type": "code",
   "execution_count": 31,
   "id": "c7d15414-3297-4537-a7c6-7588c0baeb75",
   "metadata": {
    "execution": {
     "iopub.execute_input": "2022-12-15T18:07:27.154797Z",
     "iopub.status.busy": "2022-12-15T18:07:27.154440Z",
     "iopub.status.idle": "2022-12-15T18:07:27.191216Z",
     "shell.execute_reply": "2022-12-15T18:07:27.190699Z"
    },
    "papermill": {
     "duration": 0.862034,
     "end_time": "2022-12-15T18:07:27.192052",
     "exception": false,
     "start_time": "2022-12-15T18:07:26.330018",
     "status": "completed"
    },
    "tags": []
   },
   "outputs": [
    {
     "data": {
      "text/html": [
       "<div>\n",
       "<style scoped>\n",
       "    .dataframe tbody tr th:only-of-type {\n",
       "        vertical-align: middle;\n",
       "    }\n",
       "\n",
       "    .dataframe tbody tr th {\n",
       "        vertical-align: top;\n",
       "    }\n",
       "\n",
       "    .dataframe thead th {\n",
       "        text-align: right;\n",
       "    }\n",
       "</style>\n",
       "<table border=\"1\" class=\"dataframe\">\n",
       "  <thead>\n",
       "    <tr style=\"text-align: right;\">\n",
       "      <th></th>\n",
       "      <th>ENSG00000172748</th>\n",
       "      <th>ENSG00000182372</th>\n",
       "      <th>ENSG00000104728</th>\n",
       "      <th>ENSG00000036448</th>\n",
       "      <th>ENSG00000091879</th>\n",
       "      <th>ENSG00000155189</th>\n",
       "      <th>ENSG00000164821</th>\n",
       "      <th>ENSG00000253958</th>\n",
       "      <th>ENSG00000147324</th>\n",
       "      <th>ENSG00000173281</th>\n",
       "      <th>...</th>\n",
       "      <th>ENSG00000071894</th>\n",
       "      <th>ENSG00000147804</th>\n",
       "      <th>ENSG00000160948</th>\n",
       "      <th>ENSG00000160949</th>\n",
       "      <th>ENSG00000187954</th>\n",
       "      <th>ENSG00000160972</th>\n",
       "      <th>ENSG00000167701</th>\n",
       "      <th>ENSG00000161016</th>\n",
       "      <th>ENSG00000197363</th>\n",
       "      <th>ENSG00000196150</th>\n",
       "    </tr>\n",
       "  </thead>\n",
       "  <tbody>\n",
       "    <tr>\n",
       "      <th>ENSG00000172748</th>\n",
       "      <td>1.000000</td>\n",
       "      <td>0.008203</td>\n",
       "      <td>0.012194</td>\n",
       "      <td>0.010156</td>\n",
       "      <td>0.000000</td>\n",
       "      <td>0.000000</td>\n",
       "      <td>0.000000</td>\n",
       "      <td>0.000000</td>\n",
       "      <td>0.000000</td>\n",
       "      <td>0.000000</td>\n",
       "      <td>...</td>\n",
       "      <td>0.0</td>\n",
       "      <td>0.0</td>\n",
       "      <td>0.0</td>\n",
       "      <td>0.0</td>\n",
       "      <td>0.0</td>\n",
       "      <td>0.0</td>\n",
       "      <td>0.0</td>\n",
       "      <td>0.0</td>\n",
       "      <td>0.0</td>\n",
       "      <td>0.0</td>\n",
       "    </tr>\n",
       "    <tr>\n",
       "      <th>ENSG00000182372</th>\n",
       "      <td>0.008203</td>\n",
       "      <td>1.000000</td>\n",
       "      <td>0.182559</td>\n",
       "      <td>0.009172</td>\n",
       "      <td>0.007909</td>\n",
       "      <td>0.006291</td>\n",
       "      <td>0.000000</td>\n",
       "      <td>0.000000</td>\n",
       "      <td>0.000000</td>\n",
       "      <td>0.000000</td>\n",
       "      <td>...</td>\n",
       "      <td>0.0</td>\n",
       "      <td>0.0</td>\n",
       "      <td>0.0</td>\n",
       "      <td>0.0</td>\n",
       "      <td>0.0</td>\n",
       "      <td>0.0</td>\n",
       "      <td>0.0</td>\n",
       "      <td>0.0</td>\n",
       "      <td>0.0</td>\n",
       "      <td>0.0</td>\n",
       "    </tr>\n",
       "    <tr>\n",
       "      <th>ENSG00000104728</th>\n",
       "      <td>0.012194</td>\n",
       "      <td>0.182559</td>\n",
       "      <td>1.000000</td>\n",
       "      <td>0.029586</td>\n",
       "      <td>0.015373</td>\n",
       "      <td>0.016621</td>\n",
       "      <td>0.014423</td>\n",
       "      <td>0.000000</td>\n",
       "      <td>0.000000</td>\n",
       "      <td>0.000000</td>\n",
       "      <td>...</td>\n",
       "      <td>0.0</td>\n",
       "      <td>0.0</td>\n",
       "      <td>0.0</td>\n",
       "      <td>0.0</td>\n",
       "      <td>0.0</td>\n",
       "      <td>0.0</td>\n",
       "      <td>0.0</td>\n",
       "      <td>0.0</td>\n",
       "      <td>0.0</td>\n",
       "      <td>0.0</td>\n",
       "    </tr>\n",
       "    <tr>\n",
       "      <th>ENSG00000036448</th>\n",
       "      <td>0.010156</td>\n",
       "      <td>0.009172</td>\n",
       "      <td>0.029586</td>\n",
       "      <td>1.000000</td>\n",
       "      <td>0.008107</td>\n",
       "      <td>0.010894</td>\n",
       "      <td>0.007994</td>\n",
       "      <td>0.000000</td>\n",
       "      <td>0.000000</td>\n",
       "      <td>0.000000</td>\n",
       "      <td>...</td>\n",
       "      <td>0.0</td>\n",
       "      <td>0.0</td>\n",
       "      <td>0.0</td>\n",
       "      <td>0.0</td>\n",
       "      <td>0.0</td>\n",
       "      <td>0.0</td>\n",
       "      <td>0.0</td>\n",
       "      <td>0.0</td>\n",
       "      <td>0.0</td>\n",
       "      <td>0.0</td>\n",
       "    </tr>\n",
       "    <tr>\n",
       "      <th>ENSG00000091879</th>\n",
       "      <td>0.000000</td>\n",
       "      <td>0.007909</td>\n",
       "      <td>0.015373</td>\n",
       "      <td>0.008107</td>\n",
       "      <td>1.000000</td>\n",
       "      <td>0.098748</td>\n",
       "      <td>0.032149</td>\n",
       "      <td>0.005413</td>\n",
       "      <td>0.011595</td>\n",
       "      <td>0.006861</td>\n",
       "      <td>...</td>\n",
       "      <td>0.0</td>\n",
       "      <td>0.0</td>\n",
       "      <td>0.0</td>\n",
       "      <td>0.0</td>\n",
       "      <td>0.0</td>\n",
       "      <td>0.0</td>\n",
       "      <td>0.0</td>\n",
       "      <td>0.0</td>\n",
       "      <td>0.0</td>\n",
       "      <td>0.0</td>\n",
       "    </tr>\n",
       "  </tbody>\n",
       "</table>\n",
       "<p>5 rows × 222 columns</p>\n",
       "</div>"
      ],
      "text/plain": [
       "                 ENSG00000172748  ENSG00000182372  ENSG00000104728  \\\n",
       "ENSG00000172748         1.000000         0.008203         0.012194   \n",
       "ENSG00000182372         0.008203         1.000000         0.182559   \n",
       "ENSG00000104728         0.012194         0.182559         1.000000   \n",
       "ENSG00000036448         0.010156         0.009172         0.029586   \n",
       "ENSG00000091879         0.000000         0.007909         0.015373   \n",
       "\n",
       "                 ENSG00000036448  ENSG00000091879  ENSG00000155189  \\\n",
       "ENSG00000172748         0.010156         0.000000         0.000000   \n",
       "ENSG00000182372         0.009172         0.007909         0.006291   \n",
       "ENSG00000104728         0.029586         0.015373         0.016621   \n",
       "ENSG00000036448         1.000000         0.008107         0.010894   \n",
       "ENSG00000091879         0.008107         1.000000         0.098748   \n",
       "\n",
       "                 ENSG00000164821  ENSG00000253958  ENSG00000147324  \\\n",
       "ENSG00000172748         0.000000         0.000000         0.000000   \n",
       "ENSG00000182372         0.000000         0.000000         0.000000   \n",
       "ENSG00000104728         0.014423         0.000000         0.000000   \n",
       "ENSG00000036448         0.007994         0.000000         0.000000   \n",
       "ENSG00000091879         0.032149         0.005413         0.011595   \n",
       "\n",
       "                 ENSG00000173281  ...  ENSG00000071894  ENSG00000147804  \\\n",
       "ENSG00000172748         0.000000  ...              0.0              0.0   \n",
       "ENSG00000182372         0.000000  ...              0.0              0.0   \n",
       "ENSG00000104728         0.000000  ...              0.0              0.0   \n",
       "ENSG00000036448         0.000000  ...              0.0              0.0   \n",
       "ENSG00000091879         0.006861  ...              0.0              0.0   \n",
       "\n",
       "                 ENSG00000160948  ENSG00000160949  ENSG00000187954  \\\n",
       "ENSG00000172748              0.0              0.0              0.0   \n",
       "ENSG00000182372              0.0              0.0              0.0   \n",
       "ENSG00000104728              0.0              0.0              0.0   \n",
       "ENSG00000036448              0.0              0.0              0.0   \n",
       "ENSG00000091879              0.0              0.0              0.0   \n",
       "\n",
       "                 ENSG00000160972  ENSG00000167701  ENSG00000161016  \\\n",
       "ENSG00000172748              0.0              0.0              0.0   \n",
       "ENSG00000182372              0.0              0.0              0.0   \n",
       "ENSG00000104728              0.0              0.0              0.0   \n",
       "ENSG00000036448              0.0              0.0              0.0   \n",
       "ENSG00000091879              0.0              0.0              0.0   \n",
       "\n",
       "                 ENSG00000197363  ENSG00000196150  \n",
       "ENSG00000172748              0.0              0.0  \n",
       "ENSG00000182372              0.0              0.0  \n",
       "ENSG00000104728              0.0              0.0  \n",
       "ENSG00000036448              0.0              0.0  \n",
       "ENSG00000091879              0.0              0.0  \n",
       "\n",
       "[5 rows x 222 columns]"
      ]
     },
     "execution_count": 31,
     "metadata": {},
     "output_type": "execute_result"
    }
   ],
   "source": [
    "gene_corrs_df.head()"
   ]
  },
  {
   "cell_type": "markdown",
   "id": "dad6603f-01c6-41fb-a6f6-241051207dd8",
   "metadata": {
    "papermill": {
     "duration": 0.824375,
     "end_time": "2022-12-15T18:07:28.830550",
     "exception": false,
     "start_time": "2022-12-15T18:07:28.006175",
     "status": "completed"
    },
    "tags": []
   },
   "source": [
    "## Standard checks and stats"
   ]
  },
  {
   "cell_type": "code",
   "execution_count": 32,
   "id": "286686af-1b7b-4440-8453-6bdcbd8de19c",
   "metadata": {
    "execution": {
     "iopub.execute_input": "2022-12-15T18:07:30.902947Z",
     "iopub.status.busy": "2022-12-15T18:07:30.902444Z",
     "iopub.status.idle": "2022-12-15T18:07:30.918658Z",
     "shell.execute_reply": "2022-12-15T18:07:30.918227Z"
    },
    "papermill": {
     "duration": 0.859907,
     "end_time": "2022-12-15T18:07:30.920152",
     "exception": false,
     "start_time": "2022-12-15T18:07:30.060245",
     "status": "completed"
    },
    "tags": []
   },
   "outputs": [],
   "source": [
    "assert not gene_corrs_df.isna().any(axis=None)"
   ]
  },
  {
   "cell_type": "code",
   "execution_count": 33,
   "id": "00583efc-7068-4270-ad1e-4a418e91db96",
   "metadata": {
    "execution": {
     "iopub.execute_input": "2022-12-15T18:07:32.554276Z",
     "iopub.status.busy": "2022-12-15T18:07:32.553707Z",
     "iopub.status.idle": "2022-12-15T18:07:32.576038Z",
     "shell.execute_reply": "2022-12-15T18:07:32.575605Z"
    },
    "papermill": {
     "duration": 0.813288,
     "end_time": "2022-12-15T18:07:32.577002",
     "exception": false,
     "start_time": "2022-12-15T18:07:31.763714",
     "status": "completed"
    },
    "tags": []
   },
   "outputs": [
    {
     "data": {
      "text/plain": [
       "0.0"
      ]
     },
     "metadata": {},
     "output_type": "display_data"
    }
   ],
   "source": [
    "_min_val = gene_corrs_df.min().min()\n",
    "display(_min_val)\n",
    "assert _min_val >= -0.05"
   ]
  },
  {
   "cell_type": "code",
   "execution_count": 34,
   "id": "d04fb2cf-1050-475b-b855-f5f7cc04092b",
   "metadata": {
    "execution": {
     "iopub.execute_input": "2022-12-15T18:07:34.141909Z",
     "iopub.status.busy": "2022-12-15T18:07:34.141556Z",
     "iopub.status.idle": "2022-12-15T18:07:34.164428Z",
     "shell.execute_reply": "2022-12-15T18:07:34.163992Z"
    },
    "papermill": {
     "duration": 0.801974,
     "end_time": "2022-12-15T18:07:34.165656",
     "exception": false,
     "start_time": "2022-12-15T18:07:33.363682",
     "status": "completed"
    },
    "tags": []
   },
   "outputs": [
    {
     "data": {
      "text/plain": [
       "1.0000000000000029"
      ]
     },
     "metadata": {},
     "output_type": "display_data"
    }
   ],
   "source": [
    "_max_val = gene_corrs_df.max().max()  # this captures the diagonal\n",
    "display(_max_val)\n",
    "assert _max_val <= 1.05"
   ]
  },
  {
   "cell_type": "code",
   "execution_count": 35,
   "id": "fe283586-c348-40e0-8841-f6d97bfb021c",
   "metadata": {
    "execution": {
     "iopub.execute_input": "2022-12-15T18:07:35.765077Z",
     "iopub.status.busy": "2022-12-15T18:07:35.764775Z",
     "iopub.status.idle": "2022-12-15T18:07:35.782837Z",
     "shell.execute_reply": "2022-12-15T18:07:35.782401Z"
    },
    "papermill": {
     "duration": 0.816927,
     "end_time": "2022-12-15T18:07:35.783726",
     "exception": false,
     "start_time": "2022-12-15T18:07:34.966799",
     "status": "completed"
    },
    "tags": []
   },
   "outputs": [
    {
     "data": {
      "text/plain": [
       "count    24753.000000\n",
       "mean         0.011375\n",
       "std          0.097211\n",
       "min          0.000000\n",
       "25%          0.000000\n",
       "50%          0.000000\n",
       "75%          0.000000\n",
       "max          1.000000\n",
       "dtype: float64"
      ]
     },
     "execution_count": 35,
     "metadata": {},
     "output_type": "execute_result"
    }
   ],
   "source": [
    "gene_corrs_flat.describe()"
   ]
  },
  {
   "cell_type": "code",
   "execution_count": 36,
   "id": "b3815678-0f93-4b35-897b-a9d047a2aa78",
   "metadata": {
    "execution": {
     "iopub.execute_input": "2022-12-15T18:07:37.816784Z",
     "iopub.status.busy": "2022-12-15T18:07:37.816483Z",
     "iopub.status.idle": "2022-12-15T18:07:37.834825Z",
     "shell.execute_reply": "2022-12-15T18:07:37.834368Z"
    },
    "papermill": {
     "duration": 1.238088,
     "end_time": "2022-12-15T18:07:37.835745",
     "exception": false,
     "start_time": "2022-12-15T18:07:36.597657",
     "status": "completed"
    },
    "tags": []
   },
   "outputs": [
    {
     "data": {
      "text/plain": [
       "0.00    0.000000\n",
       "0.05    0.000000\n",
       "0.10    0.000000\n",
       "0.15    0.000000\n",
       "0.20    0.000000\n",
       "0.25    0.000000\n",
       "0.30    0.000000\n",
       "0.35    0.000000\n",
       "0.40    0.000000\n",
       "0.45    0.000000\n",
       "0.50    0.000000\n",
       "0.55    0.000000\n",
       "0.60    0.000000\n",
       "0.65    0.000000\n",
       "0.70    0.000000\n",
       "0.75    0.000000\n",
       "0.80    0.000000\n",
       "0.85    0.000000\n",
       "0.90    0.000000\n",
       "0.95    0.007877\n",
       "dtype: float64"
      ]
     },
     "metadata": {},
     "output_type": "display_data"
    }
   ],
   "source": [
    "gene_corrs_quantiles = gene_corrs_flat.quantile(np.arange(0, 1, 0.05))\n",
    "display(gene_corrs_quantiles)"
   ]
  },
  {
   "cell_type": "markdown",
   "id": "87134509-b145-4a10-8bc9-b7e914c2b0fa",
   "metadata": {
    "papermill": {
     "duration": 0.887706,
     "end_time": "2022-12-15T18:07:39.607240",
     "exception": false,
     "start_time": "2022-12-15T18:07:38.719534",
     "status": "completed"
    },
    "tags": []
   },
   "source": [
    "## Positive definiteness"
   ]
  },
  {
   "cell_type": "code",
   "execution_count": 37,
   "id": "07d9a9a1-a4f7-48aa-b916-6d42a8cc6186",
   "metadata": {
    "execution": {
     "iopub.execute_input": "2022-12-15T18:07:42.093029Z",
     "iopub.status.busy": "2022-12-15T18:07:42.092475Z",
     "iopub.status.idle": "2022-12-15T18:07:42.125638Z",
     "shell.execute_reply": "2022-12-15T18:07:42.125008Z"
    },
    "papermill": {
     "duration": 1.163875,
     "end_time": "2022-12-15T18:07:42.126595",
     "exception": false,
     "start_time": "2022-12-15T18:07:40.962720",
     "status": "completed"
    },
    "tags": []
   },
   "outputs": [
    {
     "data": {
      "text/plain": [
       "0"
      ]
     },
     "metadata": {},
     "output_type": "display_data"
    },
    {
     "data": {
      "text/plain": [
       "array([], dtype=float64)"
      ]
     },
     "metadata": {},
     "output_type": "display_data"
    }
   ],
   "source": [
    "# print negative eigenvalues\n",
    "eigs = np.linalg.eigvals(gene_corrs_df.to_numpy())\n",
    "display(len(eigs[eigs < 0]))\n",
    "display(eigs[eigs < 0])"
   ]
  },
  {
   "cell_type": "code",
   "execution_count": 38,
   "id": "6e218436-c3c5-4028-8c94-a4fa6260efce",
   "metadata": {
    "execution": {
     "iopub.execute_input": "2022-12-15T18:07:43.732909Z",
     "iopub.status.busy": "2022-12-15T18:07:43.732683Z",
     "iopub.status.idle": "2022-12-15T18:07:43.748820Z",
     "shell.execute_reply": "2022-12-15T18:07:43.748422Z"
    },
    "papermill": {
     "duration": 0.826201,
     "end_time": "2022-12-15T18:07:43.750072",
     "exception": false,
     "start_time": "2022-12-15T18:07:42.923871",
     "status": "completed"
    },
    "tags": []
   },
   "outputs": [
    {
     "name": "stdout",
     "output_type": "stream",
     "text": [
      "Works!\n"
     ]
    }
   ],
   "source": [
    "try:\n",
    "    chol_mat = np.linalg.cholesky(gene_corrs_df.to_numpy())\n",
    "    cov_inv = np.linalg.inv(chol_mat)\n",
    "    print(\"Works!\")\n",
    "except Exception as e:\n",
    "    print(f\"Cholesky decomposition failed: {str(e)}\")"
   ]
  },
  {
   "cell_type": "code",
   "execution_count": 39,
   "id": "dd8827fb-faf9-4c7c-9454-015e94752706",
   "metadata": {
    "execution": {
     "iopub.execute_input": "2022-12-15T18:07:45.444217Z",
     "iopub.status.busy": "2022-12-15T18:07:45.443839Z",
     "iopub.status.idle": "2022-12-15T18:07:45.468755Z",
     "shell.execute_reply": "2022-12-15T18:07:45.468099Z"
    },
    "papermill": {
     "duration": 0.904014,
     "end_time": "2022-12-15T18:07:45.470153",
     "exception": false,
     "start_time": "2022-12-15T18:07:44.566139",
     "status": "completed"
    },
    "tags": []
   },
   "outputs": [
    {
     "name": "stdout",
     "output_type": "stream",
     "text": [
      "Works!\n"
     ]
    }
   ],
   "source": [
    "try:\n",
    "    # decomposition used by statsmodels.GLS\n",
    "    cholsigmainv = np.linalg.cholesky(np.linalg.inv(gene_corrs_df.to_numpy())).T\n",
    "    print(\"Works!\")\n",
    "except Exception as e:\n",
    "    print(f\"Cholesky decomposition failed (statsmodels.GLS): {str(e)}\")"
   ]
  },
  {
   "cell_type": "markdown",
   "id": "8e60a080-edb2-4e9c-b2ef-22961693200c",
   "metadata": {
    "papermill": {
     "duration": 0.796,
     "end_time": "2022-12-15T18:07:47.077291",
     "exception": false,
     "start_time": "2022-12-15T18:07:46.281291",
     "status": "completed"
    },
    "tags": []
   },
   "source": [
    "## Plot: distribution"
   ]
  },
  {
   "cell_type": "code",
   "execution_count": 40,
   "id": "8301126b-a7d4-4744-9c7d-f0f86eb6f54c",
   "metadata": {
    "execution": {
     "iopub.execute_input": "2022-12-15T18:07:48.732646Z",
     "iopub.status.busy": "2022-12-15T18:07:48.731981Z",
     "iopub.status.idle": "2022-12-15T18:07:49.008112Z",
     "shell.execute_reply": "2022-12-15T18:07:49.007557Z"
    },
    "papermill": {
     "duration": 1.067942,
     "end_time": "2022-12-15T18:07:49.009347",
     "exception": false,
     "start_time": "2022-12-15T18:07:47.941405",
     "status": "completed"
    },
    "tags": []
   },
   "outputs": [
    {
     "data": {
      "image/png": "[encoded data removed]",
      "text/plain": [
       "<Figure size 700x700 with 1 Axes>"
      ]
     },
     "metadata": {},
     "output_type": "display_data"
    }
   ],
   "source": [
    "with sns.plotting_context(\"paper\", font_scale=1.5):\n",
    "    g = sns.displot(gene_corrs_flat, kde=True, height=7)\n",
    "    g.ax.set_title(\n",
    "        f\"Distribution of gene correlation values in chromosome {CHROMOSOME}\"\n",
    "    )"
   ]
  },
  {
   "cell_type": "markdown",
   "id": "cbd52bca-d878-4a2f-b684-5c83aa3038d4",
   "metadata": {
    "papermill": {
     "duration": 0.855786,
     "end_time": "2022-12-15T18:07:50.918885",
     "exception": false,
     "start_time": "2022-12-15T18:07:50.063099",
     "status": "completed"
    },
    "tags": []
   },
   "source": [
    "## Plot: heatmap"
   ]
  },
  {
   "cell_type": "code",
   "execution_count": 41,
   "id": "d03fe63a-c7b2-4fb9-a53c-db362ce843c9",
   "metadata": {
    "execution": {
     "iopub.execute_input": "2022-12-15T18:07:52.615915Z",
     "iopub.status.busy": "2022-12-15T18:07:52.615110Z",
     "iopub.status.idle": "2022-12-15T18:07:52.641126Z",
     "shell.execute_reply": "2022-12-15T18:07:52.640494Z"
    },
    "papermill": {
     "duration": 0.823047,
     "end_time": "2022-12-15T18:07:52.642088",
     "exception": false,
     "start_time": "2022-12-15T18:07:51.819041",
     "status": "completed"
    },
    "tags": []
   },
   "outputs": [
    {
     "data": {
      "text/plain": [
       "'0.0 / 0.05'"
      ]
     },
     "metadata": {},
     "output_type": "display_data"
    }
   ],
   "source": [
    "vmin_val = min(0.00, gene_corrs_quantiles[0.10])\n",
    "vmax_val = max(0.05, gene_corrs_quantiles[0.90])\n",
    "display(f\"{vmin_val} / {vmax_val}\")"
   ]
  },
  {
   "cell_type": "code",
   "execution_count": 42,
   "id": "dc41b70b-5bcc-4d9e-9f33-a22c4a94dab5",
   "metadata": {
    "execution": {
     "iopub.execute_input": "2022-12-15T18:07:54.341128Z",
     "iopub.status.busy": "2022-12-15T18:07:54.340489Z",
     "iopub.status.idle": "2022-12-15T18:07:54.533232Z",
     "shell.execute_reply": "2022-12-15T18:07:54.532797Z"
    },
    "papermill": {
     "duration": 1.066396,
     "end_time": "2022-12-15T18:07:54.534527",
     "exception": false,
     "start_time": "2022-12-15T18:07:53.468131",
     "status": "completed"
    },
    "tags": []
   },
   "outputs": [
    {
     "data": {
      "text/plain": [
       "Text(0.5, 1.0, 'Gene correlations in chromosome 8')"
      ]
     },
     "execution_count": 42,
     "metadata": {},
     "output_type": "execute_result"
    },
    {
     "data": {
      "image/png": "[encoded data removed]",
      "text/plain": [
       "<Figure size 1000x1000 with 2 Axes>"
      ]
     },
     "metadata": {},
     "output_type": "display_data"
    }
   ],
   "source": [
    "f, ax = plt.subplots(figsize=(10, 10))\n",
    "sns.heatmap(\n",
    "    gene_corrs_df,\n",
    "    xticklabels=False,\n",
    "    yticklabels=False,\n",
    "    square=True,\n",
    "    vmin=vmin_val,\n",
    "    vmax=vmax_val,\n",
    "    cmap=\"rocket_r\",\n",
    "    ax=ax,\n",
    ")\n",
    "ax.set_title(f\"Gene correlations in chromosome {CHROMOSOME}\")"
   ]
  },
  {
   "cell_type": "code",
   "execution_count": null,
   "id": "b25e3ead",
   "metadata": {
    "papermill": {
     "duration": 0.910729,
     "end_time": "2022-12-15T18:07:56.631737",
     "exception": false,
     "start_time": "2022-12-15T18:07:55.721008",
     "status": "completed"
    },
    "tags": []
   },
   "outputs": [],
   "source": []
  }
 ],
 "metadata": {
  "jupytext": {
   "cell_metadata_filter": "all,-execution,-papermill,-trusted",
   "formats": "ipynb,py//py:percent"
  },
  "kernelspec": {
   "display_name": "Python 3 (ipykernel)",
   "language": "python",
   "name": "python3"
  },
  "language_info": {
   "codemirror_mode": {
    "name": "ipython",
    "version": 3
   },
   "file_extension": ".py",
   "mimetype": "text/x-python",
   "name": "python",
   "nbconvert_exporter": "python",
   "pygments_lexer": "ipython3",
   "version": "3.10.6"
  },
  "papermill": {
   "default_parameters": {},
   "duration": 220.983436,
   "end_time": "2022-12-15T18:08:00.888734",
   "environment_variables": {},
   "exception": null,
   "input_path": "projects/asthma-copd/nbs/20_gene_corrs/jobs/05-gene_expr_correlations.ipynb",
   "output_path": "projects/asthma-copd/nbs/20_gene_corrs/jobs/../output/aco/05-gene_expr_correlations-chr8.run.ipynb",
   "parameters": {
    "CHROMOSOME": 8,
    "COHORT_NAME": "aco",
    "OUTPUT_DIR_BASE": "/opt/data/projects/asthma-copd/results/gls_phenoplier",
    "PHENOPLIER_NOTEBOOK_FILEPATH": "projects/asthma-copd/nbs/20_gene_corrs/jobs/05-gene_expr_correlations.ipynb"
   },
   "start_time": "2022-12-15T18:04:19.905298",
   "version": "2.2.2"
  }
 },
 "nbformat": 4,
 "nbformat_minor": 5
}
