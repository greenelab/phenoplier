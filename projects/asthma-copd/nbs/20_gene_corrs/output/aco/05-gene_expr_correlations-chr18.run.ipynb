{
 "cells": [
  {
   "cell_type": "markdown",
   "id": "7a6632fb",
   "metadata": {
    "papermill": {
     "duration": 0.005016,
     "end_time": "2022-12-15T18:09:24.169616",
     "exception": false,
     "start_time": "2022-12-15T18:09:24.164600",
     "status": "completed"
    },
    "tags": []
   },
   "source": [
    "# Description"
   ]
  },
  {
   "cell_type": "markdown",
   "id": "7097c346",
   "metadata": {
    "papermill": {
     "duration": 0.004777,
     "end_time": "2022-12-15T18:09:24.178867",
     "exception": false,
     "start_time": "2022-12-15T18:09:24.174090",
     "status": "completed"
    },
    "tags": []
   },
   "source": [
    "(Please, take a look at the README.md file in this directory for instructions on how to run this notebook)\n",
    "\n",
    "This notebook computes predicted expression correlations between all genes in the MultiPLIER models.\n",
    "\n",
    "It has specicfic parameters for papermill (see under `Settings` below).\n",
    "It can be configured to run on a single chromosome to run in parallel.\n",
    "\n",
    "This notebook is not directly run. See README.md."
   ]
  },
  {
   "cell_type": "markdown",
   "id": "c61d8427",
   "metadata": {
    "papermill": {
     "duration": 0.004238,
     "end_time": "2022-12-15T18:09:24.187455",
     "exception": false,
     "start_time": "2022-12-15T18:09:24.183217",
     "status": "completed"
    },
    "tags": []
   },
   "source": [
    "# Modules"
   ]
  },
  {
   "cell_type": "code",
   "execution_count": 1,
   "id": "bbc0234f",
   "metadata": {
    "execution": {
     "iopub.execute_input": "2022-12-15T18:09:24.199080Z",
     "iopub.status.busy": "2022-12-15T18:09:24.198575Z",
     "iopub.status.idle": "2022-12-15T18:09:24.218446Z",
     "shell.execute_reply": "2022-12-15T18:09:24.217875Z"
    },
    "papermill": {
     "duration": 0.027025,
     "end_time": "2022-12-15T18:09:24.219721",
     "exception": false,
     "start_time": "2022-12-15T18:09:24.192696",
     "status": "completed"
    },
    "tags": []
   },
   "outputs": [],
   "source": [
    "%load_ext autoreload\n",
    "%autoreload 2"
   ]
  },
  {
   "cell_type": "code",
   "execution_count": 2,
   "id": "1d5f5a59",
   "metadata": {
    "execution": {
     "iopub.execute_input": "2022-12-15T18:09:24.230562Z",
     "iopub.status.busy": "2022-12-15T18:09:24.230182Z",
     "iopub.status.idle": "2022-12-15T18:09:25.002203Z",
     "shell.execute_reply": "2022-12-15T18:09:25.001670Z"
    },
    "papermill": {
     "duration": 0.778903,
     "end_time": "2022-12-15T18:09:25.003680",
     "exception": false,
     "start_time": "2022-12-15T18:09:24.224777",
     "status": "completed"
    },
    "tags": []
   },
   "outputs": [],
   "source": [
    "from random import sample, seed\n",
    "import warnings\n",
    "from pathlib import Path\n",
    "import pickle\n",
    "import traceback\n",
    "\n",
    "import numpy as np\n",
    "from scipy.spatial.distance import squareform\n",
    "import pandas as pd\n",
    "from tqdm import tqdm\n",
    "import matplotlib.pyplot as plt\n",
    "import seaborn as sns\n",
    "\n",
    "import conf\n",
    "from entity import Gene"
   ]
  },
  {
   "cell_type": "markdown",
   "id": "1eac24b5",
   "metadata": {
    "papermill": {
     "duration": 0.004469,
     "end_time": "2022-12-15T18:09:25.013047",
     "exception": false,
     "start_time": "2022-12-15T18:09:25.008578",
     "status": "completed"
    },
    "tags": []
   },
   "source": [
    "# Settings"
   ]
  },
  {
   "cell_type": "code",
   "execution_count": 3,
   "id": "ca4560ba",
   "metadata": {
    "execution": {
     "iopub.execute_input": "2022-12-15T18:09:25.023217Z",
     "iopub.status.busy": "2022-12-15T18:09:25.023015Z",
     "iopub.status.idle": "2022-12-15T18:09:25.037786Z",
     "shell.execute_reply": "2022-12-15T18:09:25.037377Z"
    },
    "papermill": {
     "duration": 0.021082,
     "end_time": "2022-12-15T18:09:25.038959",
     "exception": false,
     "start_time": "2022-12-15T18:09:25.017877",
     "status": "completed"
    },
    "tags": [
     "parameters"
    ]
   },
   "outputs": [],
   "source": [
    "# a cohort name (it could be something like UK_BIOBANK, etc)\n",
    "COHORT_NAME = None\n",
    "\n",
    "# reference panel such as 1000G or GTEX_V8\n",
    "REFERENCE_PANEL = \"GTEX_V8\"\n",
    "\n",
    "# predictions models such as MASHR or ELASTIC_NET\n",
    "EQTL_MODEL = \"MASHR\"\n",
    "\n",
    "# this is the default value used in S-MultiXcan to select the\n",
    "# top principal components of the expression correlation matrix\n",
    "SMULTIXCAN_CONDITION_NUMBER = 30\n",
    "\n",
    "# specifies a single chromosome value\n",
    "CHROMOSOME = None\n",
    "\n",
    "# If True, computes the correlation between closeby genes only (see\n",
    "# entity.Gene.within_distance for more details). Otherwise, it computes\n",
    "# correlations for all genes in a chromosome\n",
    "COMPUTE_CORRELATIONS_WITHIN_DISTANCE = True\n",
    "\n",
    "# if True, then it will continue if a gene pair correlation fails,\n",
    "# printing the warning/error for debugging. If False, any warning/error\n",
    "# will be thrown\n",
    "DEBUG_MODE = False\n",
    "\n",
    "# output dir\n",
    "OUTPUT_DIR_BASE = None"
   ]
  },
  {
   "cell_type": "code",
   "execution_count": 4,
   "id": "8580b300",
   "metadata": {
    "execution": {
     "iopub.execute_input": "2022-12-15T18:09:25.049395Z",
     "iopub.status.busy": "2022-12-15T18:09:25.049217Z",
     "iopub.status.idle": "2022-12-15T18:09:25.062911Z",
     "shell.execute_reply": "2022-12-15T18:09:25.062567Z"
    },
    "papermill": {
     "duration": 0.019916,
     "end_time": "2022-12-15T18:09:25.063933",
     "exception": false,
     "start_time": "2022-12-15T18:09:25.044017",
     "status": "completed"
    },
    "tags": [
     "injected-parameters"
    ]
   },
   "outputs": [],
   "source": [
    "# Parameters\n",
    "PHENOPLIER_NOTEBOOK_FILEPATH = (\n",
    "    \"projects/asthma-copd/nbs/20_gene_corrs/jobs/05-gene_expr_correlations.ipynb\"\n",
    ")\n",
    "COHORT_NAME = \"aco\"\n",
    "CHROMOSOME = 18\n",
    "OUTPUT_DIR_BASE = \"/opt/data/projects/asthma-copd/results/gls_phenoplier\"\n"
   ]
  },
  {
   "cell_type": "code",
   "execution_count": 5,
   "id": "3190631f-27fc-480f-b18e-571d580425a5",
   "metadata": {
    "execution": {
     "iopub.execute_input": "2022-12-15T18:09:25.074099Z",
     "iopub.status.busy": "2022-12-15T18:09:25.073893Z",
     "iopub.status.idle": "2022-12-15T18:09:25.091346Z",
     "shell.execute_reply": "2022-12-15T18:09:25.090922Z"
    },
    "papermill": {
     "duration": 0.02352,
     "end_time": "2022-12-15T18:09:25.092249",
     "exception": false,
     "start_time": "2022-12-15T18:09:25.068729",
     "status": "completed"
    },
    "tags": []
   },
   "outputs": [
    {
     "data": {
      "text/plain": [
       "'Cohort name: aco'"
      ]
     },
     "metadata": {},
     "output_type": "display_data"
    }
   ],
   "source": [
    "assert COHORT_NAME is not None and len(COHORT_NAME) > 0, \"A cohort name must be given\"\n",
    "\n",
    "COHORT_NAME = COHORT_NAME.lower()\n",
    "display(f\"Cohort name: {COHORT_NAME}\")"
   ]
  },
  {
   "cell_type": "code",
   "execution_count": 6,
   "id": "f53ba19b-0f93-4fa2-a047-63b375939d1a",
   "metadata": {
    "execution": {
     "iopub.execute_input": "2022-12-15T18:09:25.103447Z",
     "iopub.status.busy": "2022-12-15T18:09:25.102992Z",
     "iopub.status.idle": "2022-12-15T18:09:25.118201Z",
     "shell.execute_reply": "2022-12-15T18:09:25.117743Z"
    },
    "papermill": {
     "duration": 0.022689,
     "end_time": "2022-12-15T18:09:25.119867",
     "exception": false,
     "start_time": "2022-12-15T18:09:25.097178",
     "status": "completed"
    },
    "tags": []
   },
   "outputs": [
    {
     "data": {
      "text/plain": [
       "'Reference panel: GTEX_V8'"
      ]
     },
     "metadata": {},
     "output_type": "display_data"
    }
   ],
   "source": [
    "assert (\n",
    "    REFERENCE_PANEL is not None and len(REFERENCE_PANEL) > 0\n",
    "), \"A reference panel must be given\"\n",
    "\n",
    "display(f\"Reference panel: {REFERENCE_PANEL}\")"
   ]
  },
  {
   "cell_type": "code",
   "execution_count": 7,
   "id": "e024d130-c139-429a-9c6e-ccf149e297b0",
   "metadata": {
    "execution": {
     "iopub.execute_input": "2022-12-15T18:09:25.140643Z",
     "iopub.status.busy": "2022-12-15T18:09:25.140135Z",
     "iopub.status.idle": "2022-12-15T18:09:25.165572Z",
     "shell.execute_reply": "2022-12-15T18:09:25.165052Z"
    },
    "papermill": {
     "duration": 0.037251,
     "end_time": "2022-12-15T18:09:25.166496",
     "exception": false,
     "start_time": "2022-12-15T18:09:25.129245",
     "status": "completed"
    },
    "tags": []
   },
   "outputs": [
    {
     "data": {
      "text/plain": [
       "'eQTL model: MASHR) / mashr_'"
      ]
     },
     "metadata": {},
     "output_type": "display_data"
    }
   ],
   "source": [
    "assert (\n",
    "    EQTL_MODEL is not None and len(EQTL_MODEL) > 0\n",
    "), \"A prediction/eQTL model must be given\"\n",
    "\n",
    "EQTL_MODEL_FILES_PREFIX = conf.PHENOMEXCAN[\"PREDICTION_MODELS\"][f\"{EQTL_MODEL}_PREFIX\"]\n",
    "display(f\"eQTL model: {EQTL_MODEL}) / {EQTL_MODEL_FILES_PREFIX}\")"
   ]
  },
  {
   "cell_type": "code",
   "execution_count": 8,
   "id": "552a7f63-a18c-4d3e-bb6a-94f99b431291",
   "metadata": {
    "execution": {
     "iopub.execute_input": "2022-12-15T18:09:25.177451Z",
     "iopub.status.busy": "2022-12-15T18:09:25.177304Z",
     "iopub.status.idle": "2022-12-15T18:09:25.191931Z",
     "shell.execute_reply": "2022-12-15T18:09:25.191331Z"
    },
    "papermill": {
     "duration": 0.02159,
     "end_time": "2022-12-15T18:09:25.193310",
     "exception": false,
     "start_time": "2022-12-15T18:09:25.171720",
     "status": "completed"
    },
    "tags": []
   },
   "outputs": [
    {
     "data": {
      "text/plain": [
       "'S-MultiXcan condition number: 30'"
      ]
     },
     "metadata": {},
     "output_type": "display_data"
    }
   ],
   "source": [
    "assert (\n",
    "    SMULTIXCAN_CONDITION_NUMBER is not None and SMULTIXCAN_CONDITION_NUMBER > 0\n",
    "), \"The S-MultiXcan condition number (positive integer) must be given\"\n",
    "\n",
    "display(f\"S-MultiXcan condition number: {SMULTIXCAN_CONDITION_NUMBER}\")"
   ]
  },
  {
   "cell_type": "code",
   "execution_count": 9,
   "id": "f34a336f-548e-4afe-8955-90eaea4f42c6",
   "metadata": {
    "execution": {
     "iopub.execute_input": "2022-12-15T18:09:25.212912Z",
     "iopub.status.busy": "2022-12-15T18:09:25.212634Z",
     "iopub.status.idle": "2022-12-15T18:09:25.237410Z",
     "shell.execute_reply": "2022-12-15T18:09:25.236857Z"
    },
    "papermill": {
     "duration": 0.036767,
     "end_time": "2022-12-15T18:09:25.239134",
     "exception": false,
     "start_time": "2022-12-15T18:09:25.202367",
     "status": "completed"
    },
    "tags": []
   },
   "outputs": [
    {
     "data": {
      "text/plain": [
       "'Working on chromosome 18'"
      ]
     },
     "metadata": {},
     "output_type": "display_data"
    }
   ],
   "source": [
    "assert CHROMOSOME is not None and (\n",
    "    1 <= CHROMOSOME <= 22\n",
    "), \"You have to select one chromosome (format: number between 1 and 22)\"\n",
    "\n",
    "display(f\"Working on chromosome {CHROMOSOME}\")"
   ]
  },
  {
   "cell_type": "code",
   "execution_count": 10,
   "id": "ab8e96e8-06b5-4363-9dcd-dc4d78cc27f7",
   "metadata": {
    "execution": {
     "iopub.execute_input": "2022-12-15T18:09:25.260187Z",
     "iopub.status.busy": "2022-12-15T18:09:25.259829Z",
     "iopub.status.idle": "2022-12-15T18:09:25.283873Z",
     "shell.execute_reply": "2022-12-15T18:09:25.283225Z"
    },
    "papermill": {
     "duration": 0.036621,
     "end_time": "2022-12-15T18:09:25.285604",
     "exception": false,
     "start_time": "2022-12-15T18:09:25.248983",
     "status": "completed"
    },
    "tags": []
   },
   "outputs": [
    {
     "data": {
      "text/plain": [
       "'Compute correlation within distance True'"
      ]
     },
     "metadata": {},
     "output_type": "display_data"
    }
   ],
   "source": [
    "display(f\"Compute correlation within distance {COMPUTE_CORRELATIONS_WITHIN_DISTANCE}\")"
   ]
  },
  {
   "cell_type": "code",
   "execution_count": 11,
   "id": "b393b698-77e3-4ba2-8ac1-e14d51aa988f",
   "metadata": {
    "execution": {
     "iopub.execute_input": "2022-12-15T18:09:25.306500Z",
     "iopub.status.busy": "2022-12-15T18:09:25.305869Z",
     "iopub.status.idle": "2022-12-15T18:09:25.331373Z",
     "shell.execute_reply": "2022-12-15T18:09:25.330681Z"
    },
    "papermill": {
     "duration": 0.037351,
     "end_time": "2022-12-15T18:09:25.332731",
     "exception": false,
     "start_time": "2022-12-15T18:09:25.295380",
     "status": "completed"
    },
    "tags": []
   },
   "outputs": [
    {
     "data": {
      "text/plain": [
       "'Using output dir base: /opt/data/projects/asthma-copd/results/gls_phenoplier/gene_corrs/aco'"
      ]
     },
     "metadata": {},
     "output_type": "display_data"
    }
   ],
   "source": [
    "assert (\n",
    "    OUTPUT_DIR_BASE is not None and len(OUTPUT_DIR_BASE) > 0\n",
    "), \"Output directory path must be given\"\n",
    "\n",
    "OUTPUT_DIR_BASE = (Path(OUTPUT_DIR_BASE) / \"gene_corrs\" / COHORT_NAME).resolve()\n",
    "\n",
    "OUTPUT_DIR_BASE.mkdir(parents=True, exist_ok=True)\n",
    "\n",
    "display(f\"Using output dir base: {OUTPUT_DIR_BASE}\")"
   ]
  },
  {
   "cell_type": "markdown",
   "id": "d2ba085e",
   "metadata": {
    "papermill": {
     "duration": 0.007107,
     "end_time": "2022-12-15T18:09:25.347584",
     "exception": false,
     "start_time": "2022-12-15T18:09:25.340477",
     "status": "completed"
    },
    "tags": []
   },
   "source": [
    "# Load data"
   ]
  },
  {
   "cell_type": "markdown",
   "id": "7dcb8db7",
   "metadata": {
    "papermill": {
     "duration": 0.007227,
     "end_time": "2022-12-15T18:09:25.362473",
     "exception": false,
     "start_time": "2022-12-15T18:09:25.355246",
     "status": "completed"
    },
    "tags": []
   },
   "source": [
    "## GWAS variants"
   ]
  },
  {
   "cell_type": "code",
   "execution_count": 12,
   "id": "29434c4e-8cd3-4b9b-82e4-b5a251d9dd19",
   "metadata": {
    "execution": {
     "iopub.execute_input": "2022-12-15T18:09:25.378438Z",
     "iopub.status.busy": "2022-12-15T18:09:25.378016Z",
     "iopub.status.idle": "2022-12-15T18:09:27.643268Z",
     "shell.execute_reply": "2022-12-15T18:09:27.642776Z"
    },
    "papermill": {
     "duration": 2.274798,
     "end_time": "2022-12-15T18:09:27.644540",
     "exception": false,
     "start_time": "2022-12-15T18:09:25.369742",
     "status": "completed"
    },
    "tags": []
   },
   "outputs": [],
   "source": [
    "with open(OUTPUT_DIR_BASE / \"gwas_variant_ids.pkl\", \"rb\") as handle:\n",
    "    gwas_variants_ids_set = pickle.load(handle)"
   ]
  },
  {
   "cell_type": "code",
   "execution_count": 13,
   "id": "b9d9dec2-4a76-4bf9-bde2-e24c95acb8a0",
   "metadata": {
    "execution": {
     "iopub.execute_input": "2022-12-15T18:09:27.655451Z",
     "iopub.status.busy": "2022-12-15T18:09:27.655266Z",
     "iopub.status.idle": "2022-12-15T18:09:27.669241Z",
     "shell.execute_reply": "2022-12-15T18:09:27.668843Z"
    },
    "papermill": {
     "duration": 0.02042,
     "end_time": "2022-12-15T18:09:27.670196",
     "exception": false,
     "start_time": "2022-12-15T18:09:27.649776",
     "status": "completed"
    },
    "tags": []
   },
   "outputs": [
    {
     "data": {
      "text/plain": [
       "8561476"
      ]
     },
     "execution_count": 13,
     "metadata": {},
     "output_type": "execute_result"
    }
   ],
   "source": [
    "len(gwas_variants_ids_set)"
   ]
  },
  {
   "cell_type": "code",
   "execution_count": 14,
   "id": "4235b06a-6034-4ee4-a0a3-2ae35d122418",
   "metadata": {
    "execution": {
     "iopub.execute_input": "2022-12-15T18:09:27.682736Z",
     "iopub.status.busy": "2022-12-15T18:09:27.682426Z",
     "iopub.status.idle": "2022-12-15T18:09:28.561373Z",
     "shell.execute_reply": "2022-12-15T18:09:28.560801Z"
    },
    "papermill": {
     "duration": 0.886035,
     "end_time": "2022-12-15T18:09:28.562379",
     "exception": false,
     "start_time": "2022-12-15T18:09:27.676344",
     "status": "completed"
    },
    "tags": []
   },
   "outputs": [
    {
     "data": {
      "text/plain": [
       "['chr10_2233846_A_C_b38',\n",
       " 'chr4_124592749_C_G_b38',\n",
       " 'chr4_114458386_T_G_b38',\n",
       " 'chr10_22821399_T_C_b38',\n",
       " 'chr2_128904778_A_G_b38']"
      ]
     },
     "execution_count": 14,
     "metadata": {},
     "output_type": "execute_result"
    }
   ],
   "source": [
    "list(gwas_variants_ids_set)[:5]"
   ]
  },
  {
   "cell_type": "markdown",
   "id": "07866999-2305-41f9-a144-e69c9122c212",
   "metadata": {
    "papermill": {
     "duration": 0.005611,
     "end_time": "2022-12-15T18:09:28.573328",
     "exception": false,
     "start_time": "2022-12-15T18:09:28.567717",
     "status": "completed"
    },
    "tags": []
   },
   "source": [
    "## S-PrediXcan tissue models"
   ]
  },
  {
   "cell_type": "code",
   "execution_count": 15,
   "id": "780611d9-77c8-405f-90a4-f271f7b09397",
   "metadata": {
    "execution": {
     "iopub.execute_input": "2022-12-15T18:09:28.584818Z",
     "iopub.status.busy": "2022-12-15T18:09:28.584408Z",
     "iopub.status.idle": "2022-12-15T18:09:28.971505Z",
     "shell.execute_reply": "2022-12-15T18:09:28.971036Z"
    },
    "papermill": {
     "duration": 0.394447,
     "end_time": "2022-12-15T18:09:28.973017",
     "exception": false,
     "start_time": "2022-12-15T18:09:28.578570",
     "status": "completed"
    },
    "tags": []
   },
   "outputs": [],
   "source": [
    "spredixcan_genes_models = pd.read_pickle(OUTPUT_DIR_BASE / \"gene_tissues.pkl\")"
   ]
  },
  {
   "cell_type": "code",
   "execution_count": 16,
   "id": "726dd1f6-9557-4225-91fa-b3b879ea96e1",
   "metadata": {
    "execution": {
     "iopub.execute_input": "2022-12-15T18:09:28.993822Z",
     "iopub.status.busy": "2022-12-15T18:09:28.993440Z",
     "iopub.status.idle": "2022-12-15T18:09:29.014798Z",
     "shell.execute_reply": "2022-12-15T18:09:29.014324Z"
    },
    "papermill": {
     "duration": 0.033399,
     "end_time": "2022-12-15T18:09:29.016075",
     "exception": false,
     "start_time": "2022-12-15T18:09:28.982676",
     "status": "completed"
    },
    "tags": []
   },
   "outputs": [
    {
     "data": {
      "text/plain": [
       "(6442, 5)"
      ]
     },
     "execution_count": 16,
     "metadata": {},
     "output_type": "execute_result"
    }
   ],
   "source": [
    "spredixcan_genes_models.shape"
   ]
  },
  {
   "cell_type": "code",
   "execution_count": 17,
   "id": "944a1b48-222c-4eb0-b252-b9de2cbca215",
   "metadata": {
    "execution": {
     "iopub.execute_input": "2022-12-15T18:09:29.036062Z",
     "iopub.status.busy": "2022-12-15T18:09:29.035851Z",
     "iopub.status.idle": "2022-12-15T18:09:29.063247Z",
     "shell.execute_reply": "2022-12-15T18:09:29.062589Z"
    },
    "papermill": {
     "duration": 0.038447,
     "end_time": "2022-12-15T18:09:29.064280",
     "exception": false,
     "start_time": "2022-12-15T18:09:29.025833",
     "status": "completed"
    },
    "tags": []
   },
   "outputs": [
    {
     "data": {
      "text/html": [
       "<div>\n",
       "<style scoped>\n",
       "    .dataframe tbody tr th:only-of-type {\n",
       "        vertical-align: middle;\n",
       "    }\n",
       "\n",
       "    .dataframe tbody tr th {\n",
       "        vertical-align: top;\n",
       "    }\n",
       "\n",
       "    .dataframe thead th {\n",
       "        text-align: right;\n",
       "    }\n",
       "</style>\n",
       "<table border=\"1\" class=\"dataframe\">\n",
       "  <thead>\n",
       "    <tr style=\"text-align: right;\">\n",
       "      <th></th>\n",
       "      <th>gene_name</th>\n",
       "      <th>tissue</th>\n",
       "      <th>n_tissues</th>\n",
       "      <th>n_snps_used_sum</th>\n",
       "      <th>n_snps_in_model_sum</th>\n",
       "    </tr>\n",
       "    <tr>\n",
       "      <th>gene_id</th>\n",
       "      <th></th>\n",
       "      <th></th>\n",
       "      <th></th>\n",
       "      <th></th>\n",
       "      <th></th>\n",
       "    </tr>\n",
       "  </thead>\n",
       "  <tbody>\n",
       "    <tr>\n",
       "      <th>ENSG00000000419</th>\n",
       "      <td>DPM1</td>\n",
       "      <td>(Brain_Substantia_nigra, Brain_Hypothalamus)</td>\n",
       "      <td>2</td>\n",
       "      <td>2</td>\n",
       "      <td>2</td>\n",
       "    </tr>\n",
       "    <tr>\n",
       "      <th>ENSG00000000938</th>\n",
       "      <td>FGR</td>\n",
       "      <td>(Esophagus_Mucosa, Skin_Sun_Exposed_Lower_leg,...</td>\n",
       "      <td>36</td>\n",
       "      <td>40</td>\n",
       "      <td>40</td>\n",
       "    </tr>\n",
       "    <tr>\n",
       "      <th>ENSG00000000971</th>\n",
       "      <td>CFH</td>\n",
       "      <td>(Skin_Sun_Exposed_Lower_leg, Artery_Aorta, Art...</td>\n",
       "      <td>34</td>\n",
       "      <td>44</td>\n",
       "      <td>44</td>\n",
       "    </tr>\n",
       "    <tr>\n",
       "      <th>ENSG00000001084</th>\n",
       "      <td>GCLC</td>\n",
       "      <td>(Skin_Sun_Exposed_Lower_leg, Artery_Aorta, Art...</td>\n",
       "      <td>32</td>\n",
       "      <td>46</td>\n",
       "      <td>46</td>\n",
       "    </tr>\n",
       "    <tr>\n",
       "      <th>ENSG00000001167</th>\n",
       "      <td>NFYA</td>\n",
       "      <td>(Esophagus_Mucosa, Skin_Sun_Exposed_Lower_leg,...</td>\n",
       "      <td>40</td>\n",
       "      <td>47</td>\n",
       "      <td>48</td>\n",
       "    </tr>\n",
       "  </tbody>\n",
       "</table>\n",
       "</div>"
      ],
      "text/plain": [
       "                gene_name                                             tissue  \\\n",
       "gene_id                                                                        \n",
       "ENSG00000000419      DPM1       (Brain_Substantia_nigra, Brain_Hypothalamus)   \n",
       "ENSG00000000938       FGR  (Esophagus_Mucosa, Skin_Sun_Exposed_Lower_leg,...   \n",
       "ENSG00000000971       CFH  (Skin_Sun_Exposed_Lower_leg, Artery_Aorta, Art...   \n",
       "ENSG00000001084      GCLC  (Skin_Sun_Exposed_Lower_leg, Artery_Aorta, Art...   \n",
       "ENSG00000001167      NFYA  (Esophagus_Mucosa, Skin_Sun_Exposed_Lower_leg,...   \n",
       "\n",
       "                 n_tissues  n_snps_used_sum  n_snps_in_model_sum  \n",
       "gene_id                                                           \n",
       "ENSG00000000419          2                2                    2  \n",
       "ENSG00000000938         36               40                   40  \n",
       "ENSG00000000971         34               44                   44  \n",
       "ENSG00000001084         32               46                   46  \n",
       "ENSG00000001167         40               47                   48  "
      ]
     },
     "execution_count": 17,
     "metadata": {},
     "output_type": "execute_result"
    }
   ],
   "source": [
    "spredixcan_genes_models.head()"
   ]
  },
  {
   "cell_type": "code",
   "execution_count": 18,
   "id": "d1c11bb1-be0b-4f40-b360-633d6827109f",
   "metadata": {
    "execution": {
     "iopub.execute_input": "2022-12-15T18:09:29.078120Z",
     "iopub.status.busy": "2022-12-15T18:09:29.077823Z",
     "iopub.status.idle": "2022-12-15T18:09:29.098228Z",
     "shell.execute_reply": "2022-12-15T18:09:29.097528Z"
    },
    "papermill": {
     "duration": 0.028678,
     "end_time": "2022-12-15T18:09:29.099250",
     "exception": false,
     "start_time": "2022-12-15T18:09:29.070572",
     "status": "completed"
    },
    "tags": []
   },
   "outputs": [],
   "source": [
    "assert spredixcan_genes_models.index.is_unique"
   ]
  },
  {
   "cell_type": "markdown",
   "id": "a5b5092c-a13e-47c4-a92a-480fcc08f3ae",
   "metadata": {
    "papermill": {
     "duration": 0.005629,
     "end_time": "2022-12-15T18:09:29.110403",
     "exception": false,
     "start_time": "2022-12-15T18:09:29.104774",
     "status": "completed"
    },
    "tags": []
   },
   "source": [
    "## Gene info"
   ]
  },
  {
   "cell_type": "code",
   "execution_count": 19,
   "id": "7d6bb224-88e9-4358-ac10-43a41d92cdad",
   "metadata": {
    "execution": {
     "iopub.execute_input": "2022-12-15T18:09:29.122531Z",
     "iopub.status.busy": "2022-12-15T18:09:29.121911Z",
     "iopub.status.idle": "2022-12-15T18:09:29.145384Z",
     "shell.execute_reply": "2022-12-15T18:09:29.144690Z"
    },
    "papermill": {
     "duration": 0.030557,
     "end_time": "2022-12-15T18:09:29.146414",
     "exception": false,
     "start_time": "2022-12-15T18:09:29.115857",
     "status": "completed"
    },
    "tags": []
   },
   "outputs": [],
   "source": [
    "genes_info = pd.read_pickle(OUTPUT_DIR_BASE / \"genes_info.pkl\")"
   ]
  },
  {
   "cell_type": "code",
   "execution_count": 20,
   "id": "9e32abfa-546d-483e-8c18-d526e9e05903",
   "metadata": {
    "execution": {
     "iopub.execute_input": "2022-12-15T18:09:29.159232Z",
     "iopub.status.busy": "2022-12-15T18:09:29.158593Z",
     "iopub.status.idle": "2022-12-15T18:09:29.180640Z",
     "shell.execute_reply": "2022-12-15T18:09:29.179988Z"
    },
    "papermill": {
     "duration": 0.029566,
     "end_time": "2022-12-15T18:09:29.181625",
     "exception": false,
     "start_time": "2022-12-15T18:09:29.152059",
     "status": "completed"
    },
    "tags": []
   },
   "outputs": [
    {
     "data": {
      "text/plain": [
       "(6442, 7)"
      ]
     },
     "execution_count": 20,
     "metadata": {},
     "output_type": "execute_result"
    }
   ],
   "source": [
    "genes_info.shape"
   ]
  },
  {
   "cell_type": "code",
   "execution_count": 21,
   "id": "d16c3e92-85ec-468a-9a56-e25a9774a1cb",
   "metadata": {
    "execution": {
     "iopub.execute_input": "2022-12-15T18:09:29.196487Z",
     "iopub.status.busy": "2022-12-15T18:09:29.195816Z",
     "iopub.status.idle": "2022-12-15T18:09:29.222018Z",
     "shell.execute_reply": "2022-12-15T18:09:29.221422Z"
    },
    "papermill": {
     "duration": 0.036032,
     "end_time": "2022-12-15T18:09:29.223518",
     "exception": false,
     "start_time": "2022-12-15T18:09:29.187486",
     "status": "completed"
    },
    "tags": []
   },
   "outputs": [
    {
     "data": {
      "text/html": [
       "<div>\n",
       "<style scoped>\n",
       "    .dataframe tbody tr th:only-of-type {\n",
       "        vertical-align: middle;\n",
       "    }\n",
       "\n",
       "    .dataframe tbody tr th {\n",
       "        vertical-align: top;\n",
       "    }\n",
       "\n",
       "    .dataframe thead th {\n",
       "        text-align: right;\n",
       "    }\n",
       "</style>\n",
       "<table border=\"1\" class=\"dataframe\">\n",
       "  <thead>\n",
       "    <tr style=\"text-align: right;\">\n",
       "      <th></th>\n",
       "      <th>name</th>\n",
       "      <th>id</th>\n",
       "      <th>chr</th>\n",
       "      <th>band</th>\n",
       "      <th>start_position</th>\n",
       "      <th>end_position</th>\n",
       "      <th>gene_length</th>\n",
       "    </tr>\n",
       "  </thead>\n",
       "  <tbody>\n",
       "    <tr>\n",
       "      <th>0</th>\n",
       "      <td>SLC38A1</td>\n",
       "      <td>ENSG00000111371</td>\n",
       "      <td>12</td>\n",
       "      <td>12q13.11</td>\n",
       "      <td>46183063</td>\n",
       "      <td>46270017</td>\n",
       "      <td>86954</td>\n",
       "    </tr>\n",
       "    <tr>\n",
       "      <th>1</th>\n",
       "      <td>SEC61A1</td>\n",
       "      <td>ENSG00000058262</td>\n",
       "      <td>3</td>\n",
       "      <td>3q21.3</td>\n",
       "      <td>128051641</td>\n",
       "      <td>128071683</td>\n",
       "      <td>20042</td>\n",
       "    </tr>\n",
       "    <tr>\n",
       "      <th>2</th>\n",
       "      <td>SYDE1</td>\n",
       "      <td>ENSG00000105137</td>\n",
       "      <td>19</td>\n",
       "      <td>19p13.12</td>\n",
       "      <td>15107401</td>\n",
       "      <td>15114985</td>\n",
       "      <td>7584</td>\n",
       "    </tr>\n",
       "    <tr>\n",
       "      <th>3</th>\n",
       "      <td>GEM</td>\n",
       "      <td>ENSG00000164949</td>\n",
       "      <td>8</td>\n",
       "      <td>8q22.1</td>\n",
       "      <td>94249253</td>\n",
       "      <td>94262350</td>\n",
       "      <td>13097</td>\n",
       "    </tr>\n",
       "    <tr>\n",
       "      <th>4</th>\n",
       "      <td>PTGS2</td>\n",
       "      <td>ENSG00000073756</td>\n",
       "      <td>1</td>\n",
       "      <td>1q31.1</td>\n",
       "      <td>186671791</td>\n",
       "      <td>186680423</td>\n",
       "      <td>8632</td>\n",
       "    </tr>\n",
       "  </tbody>\n",
       "</table>\n",
       "</div>"
      ],
      "text/plain": [
       "      name               id  chr      band  start_position  end_position  \\\n",
       "0  SLC38A1  ENSG00000111371   12  12q13.11        46183063      46270017   \n",
       "1  SEC61A1  ENSG00000058262    3    3q21.3       128051641     128071683   \n",
       "2    SYDE1  ENSG00000105137   19  19p13.12        15107401      15114985   \n",
       "3      GEM  ENSG00000164949    8    8q22.1        94249253      94262350   \n",
       "4    PTGS2  ENSG00000073756    1    1q31.1       186671791     186680423   \n",
       "\n",
       "   gene_length  \n",
       "0        86954  \n",
       "1        20042  \n",
       "2         7584  \n",
       "3        13097  \n",
       "4         8632  "
      ]
     },
     "execution_count": 21,
     "metadata": {},
     "output_type": "execute_result"
    }
   ],
   "source": [
    "genes_info.head()"
   ]
  },
  {
   "cell_type": "markdown",
   "id": "d3843e06",
   "metadata": {
    "papermill": {
     "duration": 0.010985,
     "end_time": "2022-12-15T18:09:29.245543",
     "exception": false,
     "start_time": "2022-12-15T18:09:29.234558",
     "status": "completed"
    },
    "tags": []
   },
   "source": [
    "# Compute correlations"
   ]
  },
  {
   "cell_type": "code",
   "execution_count": 22,
   "id": "cb859c15-d1f3-4006-a74c-2b83c0db9611",
   "metadata": {
    "execution": {
     "iopub.execute_input": "2022-12-15T18:09:29.269077Z",
     "iopub.status.busy": "2022-12-15T18:09:29.268710Z",
     "iopub.status.idle": "2022-12-15T18:09:29.290930Z",
     "shell.execute_reply": "2022-12-15T18:09:29.290170Z"
    },
    "papermill": {
     "duration": 0.035649,
     "end_time": "2022-12-15T18:09:29.292488",
     "exception": false,
     "start_time": "2022-12-15T18:09:29.256839",
     "status": "completed"
    },
    "tags": []
   },
   "outputs": [
    {
     "data": {
      "text/plain": [
       "PosixPath('/opt/data/projects/asthma-copd/results/gls_phenoplier/gene_corrs/aco/by_chr/gene_corrs-chr18.pkl')"
      ]
     },
     "metadata": {},
     "output_type": "display_data"
    }
   ],
   "source": [
    "output_dir = OUTPUT_DIR_BASE / \"by_chr\"\n",
    "output_dir.mkdir(exist_ok=True, parents=True)\n",
    "output_file = output_dir / f\"gene_corrs-chr{CHROMOSOME}.pkl\"\n",
    "display(output_file)"
   ]
  },
  {
   "cell_type": "code",
   "execution_count": 23,
   "id": "aa674fe4-6794-4eed-98fa-32b39d1d4ace",
   "metadata": {
    "execution": {
     "iopub.execute_input": "2022-12-15T18:09:29.315673Z",
     "iopub.status.busy": "2022-12-15T18:09:29.315321Z",
     "iopub.status.idle": "2022-12-15T18:09:29.336448Z",
     "shell.execute_reply": "2022-12-15T18:09:29.335552Z"
    },
    "papermill": {
     "duration": 0.034529,
     "end_time": "2022-12-15T18:09:29.338079",
     "exception": false,
     "start_time": "2022-12-15T18:09:29.303550",
     "status": "completed"
    },
    "tags": []
   },
   "outputs": [],
   "source": [
    "warnings.filterwarnings(\"error\")"
   ]
  },
  {
   "cell_type": "code",
   "execution_count": 24,
   "id": "44d5450b-3baf-43f1-9e2e-4b06f1a785f8",
   "metadata": {
    "execution": {
     "iopub.execute_input": "2022-12-15T18:09:29.361945Z",
     "iopub.status.busy": "2022-12-15T18:09:29.361699Z",
     "iopub.status.idle": "2022-12-15T18:09:29.383600Z",
     "shell.execute_reply": "2022-12-15T18:09:29.382805Z"
    },
    "papermill": {
     "duration": 0.035256,
     "end_time": "2022-12-15T18:09:29.385100",
     "exception": false,
     "start_time": "2022-12-15T18:09:29.349844",
     "status": "completed"
    },
    "tags": []
   },
   "outputs": [],
   "source": [
    "# standard checks\n",
    "all_chrs = genes_info[\"chr\"].dropna().unique()\n",
    "assert all_chrs.shape[0] == 22\n",
    "\n",
    "# select chromosome given by the user\n",
    "assert CHROMOSOME in all_chrs"
   ]
  },
  {
   "cell_type": "code",
   "execution_count": 25,
   "id": "2d7c043c-92a7-4d35-991b-fa69ac1e0268",
   "metadata": {
    "execution": {
     "iopub.execute_input": "2022-12-15T18:09:29.409625Z",
     "iopub.status.busy": "2022-12-15T18:09:29.409029Z",
     "iopub.status.idle": "2022-12-15T18:09:29.425529Z",
     "shell.execute_reply": "2022-12-15T18:09:29.424932Z"
    },
    "papermill": {
     "duration": 0.029866,
     "end_time": "2022-12-15T18:09:29.426464",
     "exception": false,
     "start_time": "2022-12-15T18:09:29.396598",
     "status": "completed"
    },
    "tags": []
   },
   "outputs": [
    {
     "name": "stdout",
     "output_type": "stream",
     "text": [
      "Number of genes in chromosome: 96\n"
     ]
    }
   ],
   "source": [
    "# run only on the chromosome specified\n",
    "all_chrs = [CHROMOSOME]\n",
    "genes_chr = genes_info[genes_info[\"chr\"] == CHROMOSOME]\n",
    "\n",
    "# For testing purposes\n",
    "# genes_chr = genes_chr.sample(n=20)\n",
    "\n",
    "print(f\"Number of genes in chromosome: {genes_chr.shape[0]}\", flush=True)"
   ]
  },
  {
   "cell_type": "code",
   "execution_count": 26,
   "id": "916015d8-2979-46d3-a9b9-1cf5a0932c6a",
   "metadata": {
    "execution": {
     "iopub.execute_input": "2022-12-15T18:09:29.439060Z",
     "iopub.status.busy": "2022-12-15T18:09:29.438725Z",
     "iopub.status.idle": "2022-12-15T18:09:29.453591Z",
     "shell.execute_reply": "2022-12-15T18:09:29.452989Z"
    },
    "papermill": {
     "duration": 0.022127,
     "end_time": "2022-12-15T18:09:29.454626",
     "exception": false,
     "start_time": "2022-12-15T18:09:29.432499",
     "status": "completed"
    },
    "tags": []
   },
   "outputs": [],
   "source": [
    "# sort genes by starting position to make visualizations better later\n",
    "genes_chr = genes_chr.sort_values(\"start_position\")"
   ]
  },
  {
   "cell_type": "code",
   "execution_count": 27,
   "id": "a38aa74a-8ad3-47f6-8ef9-56be0e011774",
   "metadata": {
    "execution": {
     "iopub.execute_input": "2022-12-15T18:09:29.468104Z",
     "iopub.status.busy": "2022-12-15T18:09:29.467495Z",
     "iopub.status.idle": "2022-12-15T18:09:29.488613Z",
     "shell.execute_reply": "2022-12-15T18:09:29.487952Z"
    },
    "papermill": {
     "duration": 0.028711,
     "end_time": "2022-12-15T18:09:29.489728",
     "exception": false,
     "start_time": "2022-12-15T18:09:29.461017",
     "status": "completed"
    },
    "tags": []
   },
   "outputs": [],
   "source": [
    "gene_chr_objs = [Gene(ensembl_id=gene_id) for gene_id in genes_chr[\"id\"]]"
   ]
  },
  {
   "cell_type": "code",
   "execution_count": 28,
   "id": "570f974f-13c3-42b6-ad3a-ce99ca885c1a",
   "metadata": {
    "execution": {
     "iopub.execute_input": "2022-12-15T18:09:29.503326Z",
     "iopub.status.busy": "2022-12-15T18:09:29.502867Z",
     "iopub.status.idle": "2022-12-15T18:09:29.518394Z",
     "shell.execute_reply": "2022-12-15T18:09:29.517918Z"
    },
    "papermill": {
     "duration": 0.023479,
     "end_time": "2022-12-15T18:09:29.519243",
     "exception": false,
     "start_time": "2022-12-15T18:09:29.495764",
     "status": "completed"
    },
    "tags": []
   },
   "outputs": [
    {
     "name": "stdout",
     "output_type": "stream",
     "text": [
      "Number of gene combinations: 4656\n"
     ]
    }
   ],
   "source": [
    "n = len(gene_chr_objs)\n",
    "# diagonal elements + upper triangular matrix\n",
    "n_comb = n + int(n * (n - 1) / 2.0)\n",
    "print(f\"Number of gene combinations: {n_comb}\", flush=True)"
   ]
  },
  {
   "cell_type": "code",
   "execution_count": 29,
   "id": "cdbb90a1",
   "metadata": {
    "execution": {
     "iopub.execute_input": "2022-12-15T18:09:29.534911Z",
     "iopub.status.busy": "2022-12-15T18:09:29.534480Z",
     "iopub.status.idle": "2022-12-15T18:10:26.234909Z",
     "shell.execute_reply": "2022-12-15T18:10:26.234343Z"
    },
    "papermill": {
     "duration": 56.709957,
     "end_time": "2022-12-15T18:10:26.236130",
     "exception": false,
     "start_time": "2022-12-15T18:09:29.526173",
     "status": "completed"
    },
    "tags": []
   },
   "outputs": [
    {
     "name": "stderr",
     "output_type": "stream",
     "text": [
      "ENSG00000178184 / ENSG00000178184: 100%|████████████████████████| 4656/4656 [00:56<00:00, 82.17it/s]\n"
     ]
    },
    {
     "data": {
      "text/plain": [
       "PosixPath('/opt/data/projects/asthma-copd/results/gls_phenoplier/gene_corrs/aco/by_chr/gene_corrs-chr18.pkl')"
      ]
     },
     "metadata": {},
     "output_type": "display_data"
    }
   ],
   "source": [
    "gene_corrs = []\n",
    "gene_corrs_data = np.full(\n",
    "    (n, n),\n",
    "    np.nan,\n",
    "    dtype=np.float64,\n",
    ")\n",
    "\n",
    "i = 0\n",
    "with tqdm(ncols=100, total=n_comb) as pbar:\n",
    "    for gene1_idx in range(0, len(gene_chr_objs)):\n",
    "        gene1_obj = gene_chr_objs[gene1_idx]\n",
    "        gene1_tissues = spredixcan_genes_models.loc[gene1_obj.ensembl_id, \"tissue\"]\n",
    "\n",
    "        for gene2_idx in range(gene1_idx, len(gene_chr_objs)):\n",
    "            gene2_obj = gene_chr_objs[gene2_idx]\n",
    "            gene2_tissues = spredixcan_genes_models.loc[gene2_obj.ensembl_id, \"tissue\"]\n",
    "\n",
    "            pbar.set_description(f\"{gene1_obj.ensembl_id} / {gene2_obj.ensembl_id}\")\n",
    "\n",
    "            try:\n",
    "                r = gene1_obj.get_ssm_correlation(\n",
    "                    other_gene=gene2_obj,\n",
    "                    tissues=gene1_tissues,\n",
    "                    other_tissues=gene2_tissues,\n",
    "                    snps_subset=gwas_variants_ids_set,\n",
    "                    condition_number=SMULTIXCAN_CONDITION_NUMBER,\n",
    "                    reference_panel=REFERENCE_PANEL,\n",
    "                    model_type=EQTL_MODEL,\n",
    "                    use_within_distance=COMPUTE_CORRELATIONS_WITHIN_DISTANCE,\n",
    "                )\n",
    "\n",
    "                if r is None:\n",
    "                    # if r is None, it's very likely because:\n",
    "                    #  * one of the genes has no prediction models\n",
    "                    #  * all the SNPs predictors for the gene are not present in the reference\n",
    "                    #    panel\n",
    "\n",
    "                    r = 0.0\n",
    "\n",
    "                gene_corrs.append(r)\n",
    "\n",
    "                gene_corrs_data[gene1_idx, gene2_idx] = r\n",
    "                gene_corrs_data[gene2_idx, gene1_idx] = r\n",
    "            except Warning as e:\n",
    "                if not DEBUG_MODE:\n",
    "                    raise e\n",
    "\n",
    "                print(\n",
    "                    f\"RuntimeWarning for genes {gene1_obj.ensembl_id} and {gene2_obj.ensembl_id}\",\n",
    "                    flush=True,\n",
    "                )\n",
    "                print(traceback.format_exc(), flush=True)\n",
    "\n",
    "                gene_corrs.append(np.nan)\n",
    "            except Exception as e:\n",
    "                if not DEBUG_MODE:\n",
    "                    raise e\n",
    "\n",
    "                print(\n",
    "                    f\"Exception for genes {gene1_obj.ensembl_id} and {gene2_obj.ensembl_id}\",\n",
    "                    flush=True,\n",
    "                )\n",
    "                print(traceback.format_exc(), flush=True)\n",
    "\n",
    "                gene_corrs.append(np.nan)\n",
    "\n",
    "            pbar.update(1)\n",
    "\n",
    "# create a pandas series\n",
    "gene_corrs_flat = pd.Series(gene_corrs)\n",
    "\n",
    "# save\n",
    "# FIXME: consider saving only the condenced matrix here. See here for\n",
    "# more details: https://github.com/greenelab/phenoplier/pull/38#discussion_r634600813\n",
    "# gene_corrs_data = squareform(np.array(gene_corrs, dtype=np.float64))\n",
    "# np.fill_diagonal(gene_corrs_data, 1.0)\n",
    "\n",
    "gene_chr_ids = [g.ensembl_id for g in gene_chr_objs]\n",
    "gene_corrs_df = pd.DataFrame(\n",
    "    data=gene_corrs_data,\n",
    "    index=gene_chr_ids,\n",
    "    columns=gene_chr_ids,\n",
    ")\n",
    "\n",
    "output_dir.mkdir(exist_ok=True, parents=True)\n",
    "display(output_file)\n",
    "\n",
    "gene_corrs_df.to_pickle(output_file)"
   ]
  },
  {
   "cell_type": "markdown",
   "id": "faa67b51-5373-470f-aa72-2ded53fa6dfe",
   "metadata": {
    "papermill": {
     "duration": 0.172851,
     "end_time": "2022-12-15T18:10:26.583079",
     "exception": false,
     "start_time": "2022-12-15T18:10:26.410228",
     "status": "completed"
    },
    "tags": []
   },
   "source": [
    "# Testing"
   ]
  },
  {
   "cell_type": "code",
   "execution_count": 30,
   "id": "14f7d046-4b55-4896-a56b-990127bcc388",
   "metadata": {
    "execution": {
     "iopub.execute_input": "2022-12-15T18:10:26.875477Z",
     "iopub.status.busy": "2022-12-15T18:10:26.875099Z",
     "iopub.status.idle": "2022-12-15T18:10:26.897658Z",
     "shell.execute_reply": "2022-12-15T18:10:26.897045Z"
    },
    "papermill": {
     "duration": 0.170685,
     "end_time": "2022-12-15T18:10:26.898544",
     "exception": false,
     "start_time": "2022-12-15T18:10:26.727859",
     "status": "completed"
    },
    "tags": []
   },
   "outputs": [
    {
     "data": {
      "text/plain": [
       "(96, 96)"
      ]
     },
     "execution_count": 30,
     "metadata": {},
     "output_type": "execute_result"
    }
   ],
   "source": [
    "gene_corrs_df.shape"
   ]
  },
  {
   "cell_type": "code",
   "execution_count": 31,
   "id": "c7d15414-3297-4537-a7c6-7588c0baeb75",
   "metadata": {
    "execution": {
     "iopub.execute_input": "2022-12-15T18:10:27.211909Z",
     "iopub.status.busy": "2022-12-15T18:10:27.211587Z",
     "iopub.status.idle": "2022-12-15T18:10:27.255204Z",
     "shell.execute_reply": "2022-12-15T18:10:27.254478Z"
    },
    "papermill": {
     "duration": 0.215856,
     "end_time": "2022-12-15T18:10:27.256688",
     "exception": false,
     "start_time": "2022-12-15T18:10:27.040832",
     "status": "completed"
    },
    "tags": []
   },
   "outputs": [
    {
     "data": {
      "text/html": [
       "<div>\n",
       "<style scoped>\n",
       "    .dataframe tbody tr th:only-of-type {\n",
       "        vertical-align: middle;\n",
       "    }\n",
       "\n",
       "    .dataframe tbody tr th {\n",
       "        vertical-align: top;\n",
       "    }\n",
       "\n",
       "    .dataframe thead th {\n",
       "        text-align: right;\n",
       "    }\n",
       "</style>\n",
       "<table border=\"1\" class=\"dataframe\">\n",
       "  <thead>\n",
       "    <tr style=\"text-align: right;\">\n",
       "      <th></th>\n",
       "      <th>ENSG00000079134</th>\n",
       "      <th>ENSG00000158270</th>\n",
       "      <th>ENSG00000176890</th>\n",
       "      <th>ENSG00000176105</th>\n",
       "      <th>ENSG00000080986</th>\n",
       "      <th>ENSG00000132205</th>\n",
       "      <th>ENSG00000101577</th>\n",
       "      <th>ENSG00000101608</th>\n",
       "      <th>ENSG00000118680</th>\n",
       "      <th>ENSG00000177426</th>\n",
       "      <th>...</th>\n",
       "      <th>ENSG00000166347</th>\n",
       "      <th>ENSG00000133313</th>\n",
       "      <th>ENSG00000166573</th>\n",
       "      <th>ENSG00000166377</th>\n",
       "      <th>ENSG00000131196</th>\n",
       "      <th>ENSG00000060069</th>\n",
       "      <th>ENSG00000178342</th>\n",
       "      <th>ENSG00000122490</th>\n",
       "      <th>ENSG00000141759</th>\n",
       "      <th>ENSG00000178184</th>\n",
       "    </tr>\n",
       "  </thead>\n",
       "  <tbody>\n",
       "    <tr>\n",
       "      <th>ENSG00000079134</th>\n",
       "      <td>1.000000</td>\n",
       "      <td>0.029305</td>\n",
       "      <td>0.013882</td>\n",
       "      <td>0.005950</td>\n",
       "      <td>0.005183</td>\n",
       "      <td>0.012414</td>\n",
       "      <td>0.009022</td>\n",
       "      <td>0.009353</td>\n",
       "      <td>0.008122</td>\n",
       "      <td>0.010012</td>\n",
       "      <td>...</td>\n",
       "      <td>0.0</td>\n",
       "      <td>0.0</td>\n",
       "      <td>0.0</td>\n",
       "      <td>0.0</td>\n",
       "      <td>0.0</td>\n",
       "      <td>0.0</td>\n",
       "      <td>0.0</td>\n",
       "      <td>0.0</td>\n",
       "      <td>0.0</td>\n",
       "      <td>0.0</td>\n",
       "    </tr>\n",
       "    <tr>\n",
       "      <th>ENSG00000158270</th>\n",
       "      <td>0.029305</td>\n",
       "      <td>1.000000</td>\n",
       "      <td>0.019775</td>\n",
       "      <td>0.012679</td>\n",
       "      <td>0.009545</td>\n",
       "      <td>0.014981</td>\n",
       "      <td>0.015845</td>\n",
       "      <td>0.010495</td>\n",
       "      <td>0.009299</td>\n",
       "      <td>0.013425</td>\n",
       "      <td>...</td>\n",
       "      <td>0.0</td>\n",
       "      <td>0.0</td>\n",
       "      <td>0.0</td>\n",
       "      <td>0.0</td>\n",
       "      <td>0.0</td>\n",
       "      <td>0.0</td>\n",
       "      <td>0.0</td>\n",
       "      <td>0.0</td>\n",
       "      <td>0.0</td>\n",
       "      <td>0.0</td>\n",
       "    </tr>\n",
       "    <tr>\n",
       "      <th>ENSG00000176890</th>\n",
       "      <td>0.013882</td>\n",
       "      <td>0.019775</td>\n",
       "      <td>1.000000</td>\n",
       "      <td>0.146938</td>\n",
       "      <td>0.013808</td>\n",
       "      <td>0.013387</td>\n",
       "      <td>0.012297</td>\n",
       "      <td>0.009375</td>\n",
       "      <td>0.010458</td>\n",
       "      <td>0.009753</td>\n",
       "      <td>...</td>\n",
       "      <td>0.0</td>\n",
       "      <td>0.0</td>\n",
       "      <td>0.0</td>\n",
       "      <td>0.0</td>\n",
       "      <td>0.0</td>\n",
       "      <td>0.0</td>\n",
       "      <td>0.0</td>\n",
       "      <td>0.0</td>\n",
       "      <td>0.0</td>\n",
       "      <td>0.0</td>\n",
       "    </tr>\n",
       "    <tr>\n",
       "      <th>ENSG00000176105</th>\n",
       "      <td>0.005950</td>\n",
       "      <td>0.012679</td>\n",
       "      <td>0.146938</td>\n",
       "      <td>1.000000</td>\n",
       "      <td>0.006168</td>\n",
       "      <td>0.004426</td>\n",
       "      <td>0.007289</td>\n",
       "      <td>0.005115</td>\n",
       "      <td>0.003651</td>\n",
       "      <td>0.009098</td>\n",
       "      <td>...</td>\n",
       "      <td>0.0</td>\n",
       "      <td>0.0</td>\n",
       "      <td>0.0</td>\n",
       "      <td>0.0</td>\n",
       "      <td>0.0</td>\n",
       "      <td>0.0</td>\n",
       "      <td>0.0</td>\n",
       "      <td>0.0</td>\n",
       "      <td>0.0</td>\n",
       "      <td>0.0</td>\n",
       "    </tr>\n",
       "    <tr>\n",
       "      <th>ENSG00000080986</th>\n",
       "      <td>0.005183</td>\n",
       "      <td>0.009545</td>\n",
       "      <td>0.013808</td>\n",
       "      <td>0.006168</td>\n",
       "      <td>1.000000</td>\n",
       "      <td>0.014786</td>\n",
       "      <td>0.015237</td>\n",
       "      <td>0.005943</td>\n",
       "      <td>0.008302</td>\n",
       "      <td>0.004584</td>\n",
       "      <td>...</td>\n",
       "      <td>0.0</td>\n",
       "      <td>0.0</td>\n",
       "      <td>0.0</td>\n",
       "      <td>0.0</td>\n",
       "      <td>0.0</td>\n",
       "      <td>0.0</td>\n",
       "      <td>0.0</td>\n",
       "      <td>0.0</td>\n",
       "      <td>0.0</td>\n",
       "      <td>0.0</td>\n",
       "    </tr>\n",
       "  </tbody>\n",
       "</table>\n",
       "<p>5 rows × 96 columns</p>\n",
       "</div>"
      ],
      "text/plain": [
       "                 ENSG00000079134  ENSG00000158270  ENSG00000176890  \\\n",
       "ENSG00000079134         1.000000         0.029305         0.013882   \n",
       "ENSG00000158270         0.029305         1.000000         0.019775   \n",
       "ENSG00000176890         0.013882         0.019775         1.000000   \n",
       "ENSG00000176105         0.005950         0.012679         0.146938   \n",
       "ENSG00000080986         0.005183         0.009545         0.013808   \n",
       "\n",
       "                 ENSG00000176105  ENSG00000080986  ENSG00000132205  \\\n",
       "ENSG00000079134         0.005950         0.005183         0.012414   \n",
       "ENSG00000158270         0.012679         0.009545         0.014981   \n",
       "ENSG00000176890         0.146938         0.013808         0.013387   \n",
       "ENSG00000176105         1.000000         0.006168         0.004426   \n",
       "ENSG00000080986         0.006168         1.000000         0.014786   \n",
       "\n",
       "                 ENSG00000101577  ENSG00000101608  ENSG00000118680  \\\n",
       "ENSG00000079134         0.009022         0.009353         0.008122   \n",
       "ENSG00000158270         0.015845         0.010495         0.009299   \n",
       "ENSG00000176890         0.012297         0.009375         0.010458   \n",
       "ENSG00000176105         0.007289         0.005115         0.003651   \n",
       "ENSG00000080986         0.015237         0.005943         0.008302   \n",
       "\n",
       "                 ENSG00000177426  ...  ENSG00000166347  ENSG00000133313  \\\n",
       "ENSG00000079134         0.010012  ...              0.0              0.0   \n",
       "ENSG00000158270         0.013425  ...              0.0              0.0   \n",
       "ENSG00000176890         0.009753  ...              0.0              0.0   \n",
       "ENSG00000176105         0.009098  ...              0.0              0.0   \n",
       "ENSG00000080986         0.004584  ...              0.0              0.0   \n",
       "\n",
       "                 ENSG00000166573  ENSG00000166377  ENSG00000131196  \\\n",
       "ENSG00000079134              0.0              0.0              0.0   \n",
       "ENSG00000158270              0.0              0.0              0.0   \n",
       "ENSG00000176890              0.0              0.0              0.0   \n",
       "ENSG00000176105              0.0              0.0              0.0   \n",
       "ENSG00000080986              0.0              0.0              0.0   \n",
       "\n",
       "                 ENSG00000060069  ENSG00000178342  ENSG00000122490  \\\n",
       "ENSG00000079134              0.0              0.0              0.0   \n",
       "ENSG00000158270              0.0              0.0              0.0   \n",
       "ENSG00000176890              0.0              0.0              0.0   \n",
       "ENSG00000176105              0.0              0.0              0.0   \n",
       "ENSG00000080986              0.0              0.0              0.0   \n",
       "\n",
       "                 ENSG00000141759  ENSG00000178184  \n",
       "ENSG00000079134              0.0              0.0  \n",
       "ENSG00000158270              0.0              0.0  \n",
       "ENSG00000176890              0.0              0.0  \n",
       "ENSG00000176105              0.0              0.0  \n",
       "ENSG00000080986              0.0              0.0  \n",
       "\n",
       "[5 rows x 96 columns]"
      ]
     },
     "execution_count": 31,
     "metadata": {},
     "output_type": "execute_result"
    }
   ],
   "source": [
    "gene_corrs_df.head()"
   ]
  },
  {
   "cell_type": "markdown",
   "id": "dad6603f-01c6-41fb-a6f6-241051207dd8",
   "metadata": {
    "papermill": {
     "duration": 0.141836,
     "end_time": "2022-12-15T18:10:27.540037",
     "exception": false,
     "start_time": "2022-12-15T18:10:27.398201",
     "status": "completed"
    },
    "tags": []
   },
   "source": [
    "## Standard checks and stats"
   ]
  },
  {
   "cell_type": "code",
   "execution_count": 32,
   "id": "286686af-1b7b-4440-8453-6bdcbd8de19c",
   "metadata": {
    "execution": {
     "iopub.execute_input": "2022-12-15T18:10:27.827993Z",
     "iopub.status.busy": "2022-12-15T18:10:27.827573Z",
     "iopub.status.idle": "2022-12-15T18:10:27.851951Z",
     "shell.execute_reply": "2022-12-15T18:10:27.851333Z"
    },
    "papermill": {
     "duration": 0.169816,
     "end_time": "2022-12-15T18:10:27.853166",
     "exception": false,
     "start_time": "2022-12-15T18:10:27.683350",
     "status": "completed"
    },
    "tags": []
   },
   "outputs": [],
   "source": [
    "assert not gene_corrs_df.isna().any(axis=None)"
   ]
  },
  {
   "cell_type": "code",
   "execution_count": 33,
   "id": "00583efc-7068-4270-ad1e-4a418e91db96",
   "metadata": {
    "execution": {
     "iopub.execute_input": "2022-12-15T18:10:28.167624Z",
     "iopub.status.busy": "2022-12-15T18:10:28.167286Z",
     "iopub.status.idle": "2022-12-15T18:10:28.184275Z",
     "shell.execute_reply": "2022-12-15T18:10:28.183773Z"
    },
    "papermill": {
     "duration": 0.164234,
     "end_time": "2022-12-15T18:10:28.185163",
     "exception": false,
     "start_time": "2022-12-15T18:10:28.020929",
     "status": "completed"
    },
    "tags": []
   },
   "outputs": [
    {
     "data": {
      "text/plain": [
       "0.0"
      ]
     },
     "metadata": {},
     "output_type": "display_data"
    }
   ],
   "source": [
    "_min_val = gene_corrs_df.min().min()\n",
    "display(_min_val)\n",
    "assert _min_val >= -0.05"
   ]
  },
  {
   "cell_type": "code",
   "execution_count": 34,
   "id": "d04fb2cf-1050-475b-b855-f5f7cc04092b",
   "metadata": {
    "execution": {
     "iopub.execute_input": "2022-12-15T18:10:28.474849Z",
     "iopub.status.busy": "2022-12-15T18:10:28.474142Z",
     "iopub.status.idle": "2022-12-15T18:10:28.491851Z",
     "shell.execute_reply": "2022-12-15T18:10:28.491314Z"
    },
    "papermill": {
     "duration": 0.163752,
     "end_time": "2022-12-15T18:10:28.492890",
     "exception": false,
     "start_time": "2022-12-15T18:10:28.329138",
     "status": "completed"
    },
    "tags": []
   },
   "outputs": [
    {
     "data": {
      "text/plain": [
       "1.0000000000000024"
      ]
     },
     "metadata": {},
     "output_type": "display_data"
    }
   ],
   "source": [
    "_max_val = gene_corrs_df.max().max()  # this captures the diagonal\n",
    "display(_max_val)\n",
    "assert _max_val <= 1.05"
   ]
  },
  {
   "cell_type": "code",
   "execution_count": 35,
   "id": "fe283586-c348-40e0-8841-f6d97bfb021c",
   "metadata": {
    "execution": {
     "iopub.execute_input": "2022-12-15T18:10:28.808748Z",
     "iopub.status.busy": "2022-12-15T18:10:28.808052Z",
     "iopub.status.idle": "2022-12-15T18:10:28.834617Z",
     "shell.execute_reply": "2022-12-15T18:10:28.834124Z"
    },
    "papermill": {
     "duration": 0.172817,
     "end_time": "2022-12-15T18:10:28.835547",
     "exception": false,
     "start_time": "2022-12-15T18:10:28.662730",
     "status": "completed"
    },
    "tags": []
   },
   "outputs": [
    {
     "data": {
      "text/plain": [
       "count    4656.000000\n",
       "mean        0.023288\n",
       "std         0.143455\n",
       "min         0.000000\n",
       "25%         0.000000\n",
       "50%         0.000000\n",
       "75%         0.000000\n",
       "max         1.000000\n",
       "dtype: float64"
      ]
     },
     "execution_count": 35,
     "metadata": {},
     "output_type": "execute_result"
    }
   ],
   "source": [
    "gene_corrs_flat.describe()"
   ]
  },
  {
   "cell_type": "code",
   "execution_count": 36,
   "id": "b3815678-0f93-4b35-897b-a9d047a2aa78",
   "metadata": {
    "execution": {
     "iopub.execute_input": "2022-12-15T18:10:29.129717Z",
     "iopub.status.busy": "2022-12-15T18:10:29.129317Z",
     "iopub.status.idle": "2022-12-15T18:10:29.156763Z",
     "shell.execute_reply": "2022-12-15T18:10:29.155994Z"
    },
    "papermill": {
     "duration": 0.178191,
     "end_time": "2022-12-15T18:10:29.157834",
     "exception": false,
     "start_time": "2022-12-15T18:10:28.979643",
     "status": "completed"
    },
    "tags": []
   },
   "outputs": [
    {
     "data": {
      "text/plain": [
       "0.00    0.000000\n",
       "0.05    0.000000\n",
       "0.10    0.000000\n",
       "0.15    0.000000\n",
       "0.20    0.000000\n",
       "0.25    0.000000\n",
       "0.30    0.000000\n",
       "0.35    0.000000\n",
       "0.40    0.000000\n",
       "0.45    0.000000\n",
       "0.50    0.000000\n",
       "0.55    0.000000\n",
       "0.60    0.000000\n",
       "0.65    0.000000\n",
       "0.70    0.000000\n",
       "0.75    0.000000\n",
       "0.80    0.000000\n",
       "0.85    0.000000\n",
       "0.90    0.006326\n",
       "0.95    0.011464\n",
       "dtype: float64"
      ]
     },
     "metadata": {},
     "output_type": "display_data"
    }
   ],
   "source": [
    "gene_corrs_quantiles = gene_corrs_flat.quantile(np.arange(0, 1, 0.05))\n",
    "display(gene_corrs_quantiles)"
   ]
  },
  {
   "cell_type": "markdown",
   "id": "87134509-b145-4a10-8bc9-b7e914c2b0fa",
   "metadata": {
    "papermill": {
     "duration": 0.174031,
     "end_time": "2022-12-15T18:10:29.480597",
     "exception": false,
     "start_time": "2022-12-15T18:10:29.306566",
     "status": "completed"
    },
    "tags": []
   },
   "source": [
    "## Positive definiteness"
   ]
  },
  {
   "cell_type": "code",
   "execution_count": 37,
   "id": "07d9a9a1-a4f7-48aa-b916-6d42a8cc6186",
   "metadata": {
    "execution": {
     "iopub.execute_input": "2022-12-15T18:10:29.775575Z",
     "iopub.status.busy": "2022-12-15T18:10:29.775274Z",
     "iopub.status.idle": "2022-12-15T18:10:29.792900Z",
     "shell.execute_reply": "2022-12-15T18:10:29.792228Z"
    },
    "papermill": {
     "duration": 0.165693,
     "end_time": "2022-12-15T18:10:29.793779",
     "exception": false,
     "start_time": "2022-12-15T18:10:29.628086",
     "status": "completed"
    },
    "tags": []
   },
   "outputs": [
    {
     "data": {
      "text/plain": [
       "0"
      ]
     },
     "metadata": {},
     "output_type": "display_data"
    },
    {
     "data": {
      "text/plain": [
       "array([], dtype=float64)"
      ]
     },
     "metadata": {},
     "output_type": "display_data"
    }
   ],
   "source": [
    "# print negative eigenvalues\n",
    "eigs = np.linalg.eigvals(gene_corrs_df.to_numpy())\n",
    "display(len(eigs[eigs < 0]))\n",
    "display(eigs[eigs < 0])"
   ]
  },
  {
   "cell_type": "code",
   "execution_count": 38,
   "id": "6e218436-c3c5-4028-8c94-a4fa6260efce",
   "metadata": {
    "execution": {
     "iopub.execute_input": "2022-12-15T18:10:30.122065Z",
     "iopub.status.busy": "2022-12-15T18:10:30.121708Z",
     "iopub.status.idle": "2022-12-15T18:10:30.140227Z",
     "shell.execute_reply": "2022-12-15T18:10:30.139775Z"
    },
    "papermill": {
     "duration": 0.201295,
     "end_time": "2022-12-15T18:10:30.141153",
     "exception": false,
     "start_time": "2022-12-15T18:10:29.939858",
     "status": "completed"
    },
    "tags": []
   },
   "outputs": [
    {
     "name": "stdout",
     "output_type": "stream",
     "text": [
      "Works!\n"
     ]
    }
   ],
   "source": [
    "try:\n",
    "    chol_mat = np.linalg.cholesky(gene_corrs_df.to_numpy())\n",
    "    cov_inv = np.linalg.inv(chol_mat)\n",
    "    print(\"Works!\")\n",
    "except Exception as e:\n",
    "    print(f\"Cholesky decomposition failed: {str(e)}\")"
   ]
  },
  {
   "cell_type": "code",
   "execution_count": 39,
   "id": "dd8827fb-faf9-4c7c-9454-015e94752706",
   "metadata": {
    "execution": {
     "iopub.execute_input": "2022-12-15T18:10:30.475736Z",
     "iopub.status.busy": "2022-12-15T18:10:30.475386Z",
     "iopub.status.idle": "2022-12-15T18:10:30.495361Z",
     "shell.execute_reply": "2022-12-15T18:10:30.494953Z"
    },
    "papermill": {
     "duration": 0.205324,
     "end_time": "2022-12-15T18:10:30.496296",
     "exception": false,
     "start_time": "2022-12-15T18:10:30.290972",
     "status": "completed"
    },
    "tags": []
   },
   "outputs": [
    {
     "name": "stdout",
     "output_type": "stream",
     "text": [
      "Works!\n"
     ]
    }
   ],
   "source": [
    "try:\n",
    "    # decomposition used by statsmodels.GLS\n",
    "    cholsigmainv = np.linalg.cholesky(np.linalg.inv(gene_corrs_df.to_numpy())).T\n",
    "    print(\"Works!\")\n",
    "except Exception as e:\n",
    "    print(f\"Cholesky decomposition failed (statsmodels.GLS): {str(e)}\")"
   ]
  },
  {
   "cell_type": "markdown",
   "id": "8e60a080-edb2-4e9c-b2ef-22961693200c",
   "metadata": {
    "papermill": {
     "duration": 0.152064,
     "end_time": "2022-12-15T18:10:30.800575",
     "exception": false,
     "start_time": "2022-12-15T18:10:30.648511",
     "status": "completed"
    },
    "tags": []
   },
   "source": [
    "## Plot: distribution"
   ]
  },
  {
   "cell_type": "code",
   "execution_count": 40,
   "id": "8301126b-a7d4-4744-9c7d-f0f86eb6f54c",
   "metadata": {
    "execution": {
     "iopub.execute_input": "2022-12-15T18:10:31.116323Z",
     "iopub.status.busy": "2022-12-15T18:10:31.116017Z",
     "iopub.status.idle": "2022-12-15T18:10:31.387461Z",
     "shell.execute_reply": "2022-12-15T18:10:31.386868Z"
    },
    "papermill": {
     "duration": 0.416857,
     "end_time": "2022-12-15T18:10:31.388685",
     "exception": false,
     "start_time": "2022-12-15T18:10:30.971828",
     "status": "completed"
    },
    "tags": []
   },
   "outputs": [
    {
     "data": {
      "image/png": "[encoded data removed]",
      "text/plain": [
       "<Figure size 700x700 with 1 Axes>"
      ]
     },
     "metadata": {},
     "output_type": "display_data"
    }
   ],
   "source": [
    "with sns.plotting_context(\"paper\", font_scale=1.5):\n",
    "    g = sns.displot(gene_corrs_flat, kde=True, height=7)\n",
    "    g.ax.set_title(\n",
    "        f\"Distribution of gene correlation values in chromosome {CHROMOSOME}\"\n",
    "    )"
   ]
  },
  {
   "cell_type": "markdown",
   "id": "cbd52bca-d878-4a2f-b684-5c83aa3038d4",
   "metadata": {
    "papermill": {
     "duration": 0.151834,
     "end_time": "2022-12-15T18:10:31.718439",
     "exception": false,
     "start_time": "2022-12-15T18:10:31.566605",
     "status": "completed"
    },
    "tags": []
   },
   "source": [
    "## Plot: heatmap"
   ]
  },
  {
   "cell_type": "code",
   "execution_count": 41,
   "id": "d03fe63a-c7b2-4fb9-a53c-db362ce843c9",
   "metadata": {
    "execution": {
     "iopub.execute_input": "2022-12-15T18:10:32.051546Z",
     "iopub.status.busy": "2022-12-15T18:10:32.051175Z",
     "iopub.status.idle": "2022-12-15T18:10:32.074173Z",
     "shell.execute_reply": "2022-12-15T18:10:32.073659Z"
    },
    "papermill": {
     "duration": 0.170535,
     "end_time": "2022-12-15T18:10:32.075079",
     "exception": false,
     "start_time": "2022-12-15T18:10:31.904544",
     "status": "completed"
    },
    "tags": []
   },
   "outputs": [
    {
     "data": {
      "text/plain": [
       "'0.0 / 0.05'"
      ]
     },
     "metadata": {},
     "output_type": "display_data"
    }
   ],
   "source": [
    "vmin_val = min(0.00, gene_corrs_quantiles[0.10])\n",
    "vmax_val = max(0.05, gene_corrs_quantiles[0.90])\n",
    "display(f\"{vmin_val} / {vmax_val}\")"
   ]
  },
  {
   "cell_type": "code",
   "execution_count": 42,
   "id": "dc41b70b-5bcc-4d9e-9f33-a22c4a94dab5",
   "metadata": {
    "execution": {
     "iopub.execute_input": "2022-12-15T18:10:32.374256Z",
     "iopub.status.busy": "2022-12-15T18:10:32.373855Z",
     "iopub.status.idle": "2022-12-15T18:10:32.566682Z",
     "shell.execute_reply": "2022-12-15T18:10:32.566019Z"
    },
    "papermill": {
     "duration": 0.342208,
     "end_time": "2022-12-15T18:10:32.568416",
     "exception": false,
     "start_time": "2022-12-15T18:10:32.226208",
     "status": "completed"
    },
    "tags": []
   },
   "outputs": [
    {
     "data": {
      "text/plain": [
       "Text(0.5, 1.0, 'Gene correlations in chromosome 18')"
      ]
     },
     "execution_count": 42,
     "metadata": {},
     "output_type": "execute_result"
    },
    {
     "data": {
      "image/png": "[encoded data removed]",
      "text/plain": [
       "<Figure size 1000x1000 with 2 Axes>"
      ]
     },
     "metadata": {},
     "output_type": "display_data"
    }
   ],
   "source": [
    "f, ax = plt.subplots(figsize=(10, 10))\n",
    "sns.heatmap(\n",
    "    gene_corrs_df,\n",
    "    xticklabels=False,\n",
    "    yticklabels=False,\n",
    "    square=True,\n",
    "    vmin=vmin_val,\n",
    "    vmax=vmax_val,\n",
    "    cmap=\"rocket_r\",\n",
    "    ax=ax,\n",
    ")\n",
    "ax.set_title(f\"Gene correlations in chromosome {CHROMOSOME}\")"
   ]
  },
  {
   "cell_type": "code",
   "execution_count": null,
   "id": "b25e3ead",
   "metadata": {
    "papermill": {
     "duration": 0.178619,
     "end_time": "2022-12-15T18:10:32.937979",
     "exception": false,
     "start_time": "2022-12-15T18:10:32.759360",
     "status": "completed"
    },
    "tags": []
   },
   "outputs": [],
   "source": []
  }
 ],
 "metadata": {
  "jupytext": {
   "cell_metadata_filter": "all,-execution,-papermill,-trusted",
   "formats": "ipynb,py//py:percent"
  },
  "kernelspec": {
   "display_name": "Python 3 (ipykernel)",
   "language": "python",
   "name": "python3"
  },
  "language_info": {
   "codemirror_mode": {
    "name": "ipython",
    "version": 3
   },
   "file_extension": ".py",
   "mimetype": "text/x-python",
   "name": "python",
   "nbconvert_exporter": "python",
   "pygments_lexer": "ipython3",
   "version": "3.10.6"
  },
  "papermill": {
   "default_parameters": {},
   "duration": 73.407339,
   "end_time": "2022-12-15T18:10:36.662005",
   "environment_variables": {},
   "exception": null,
   "input_path": "projects/asthma-copd/nbs/20_gene_corrs/jobs/05-gene_expr_correlations.ipynb",
   "output_path": "projects/asthma-copd/nbs/20_gene_corrs/jobs/../output/aco/05-gene_expr_correlations-chr18.run.ipynb",
   "parameters": {
    "CHROMOSOME": 18,
    "COHORT_NAME": "aco",
    "OUTPUT_DIR_BASE": "/opt/data/projects/asthma-copd/results/gls_phenoplier",
    "PHENOPLIER_NOTEBOOK_FILEPATH": "projects/asthma-copd/nbs/20_gene_corrs/jobs/05-gene_expr_correlations.ipynb"
   },
   "start_time": "2022-12-15T18:09:23.254666",
   "version": "2.2.2"
  }
 },
 "nbformat": 4,
 "nbformat_minor": 5
}
