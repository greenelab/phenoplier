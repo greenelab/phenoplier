{
 "cells": [
  {
   "cell_type": "markdown",
   "id": "7a6632fb",
   "metadata": {
    "papermill": {
     "duration": 0.010501,
     "end_time": "2022-12-15T18:06:07.951254",
     "exception": false,
     "start_time": "2022-12-15T18:06:07.940753",
     "status": "completed"
    },
    "tags": []
   },
   "source": [
    "# Description"
   ]
  },
  {
   "cell_type": "markdown",
   "id": "7097c346",
   "metadata": {
    "papermill": {
     "duration": 0.008469,
     "end_time": "2022-12-15T18:06:07.969166",
     "exception": false,
     "start_time": "2022-12-15T18:06:07.960697",
     "status": "completed"
    },
    "tags": []
   },
   "source": [
    "(Please, take a look at the README.md file in this directory for instructions on how to run this notebook)\n",
    "\n",
    "This notebook computes predicted expression correlations between all genes in the MultiPLIER models.\n",
    "\n",
    "It has specicfic parameters for papermill (see under `Settings` below).\n",
    "It can be configured to run on a single chromosome to run in parallel.\n",
    "\n",
    "This notebook is not directly run. See README.md."
   ]
  },
  {
   "cell_type": "markdown",
   "id": "c61d8427",
   "metadata": {
    "papermill": {
     "duration": 0.008688,
     "end_time": "2022-12-15T18:06:07.986318",
     "exception": false,
     "start_time": "2022-12-15T18:06:07.977630",
     "status": "completed"
    },
    "tags": []
   },
   "source": [
    "# Modules"
   ]
  },
  {
   "cell_type": "code",
   "execution_count": 1,
   "id": "bbc0234f",
   "metadata": {
    "execution": {
     "iopub.execute_input": "2022-12-15T18:06:08.005562Z",
     "iopub.status.busy": "2022-12-15T18:06:08.005349Z",
     "iopub.status.idle": "2022-12-15T18:06:08.017275Z",
     "shell.execute_reply": "2022-12-15T18:06:08.016721Z"
    },
    "papermill": {
     "duration": 0.023721,
     "end_time": "2022-12-15T18:06:08.019192",
     "exception": false,
     "start_time": "2022-12-15T18:06:07.995471",
     "status": "completed"
    },
    "tags": []
   },
   "outputs": [],
   "source": [
    "%load_ext autoreload\n",
    "%autoreload 2"
   ]
  },
  {
   "cell_type": "code",
   "execution_count": 2,
   "id": "1d5f5a59",
   "metadata": {
    "execution": {
     "iopub.execute_input": "2022-12-15T18:06:08.037157Z",
     "iopub.status.busy": "2022-12-15T18:06:08.037013Z",
     "iopub.status.idle": "2022-12-15T18:06:08.854659Z",
     "shell.execute_reply": "2022-12-15T18:06:08.854013Z"
    },
    "papermill": {
     "duration": 0.828313,
     "end_time": "2022-12-15T18:06:08.856196",
     "exception": false,
     "start_time": "2022-12-15T18:06:08.027883",
     "status": "completed"
    },
    "tags": []
   },
   "outputs": [],
   "source": [
    "from random import sample, seed\n",
    "import warnings\n",
    "from pathlib import Path\n",
    "import pickle\n",
    "import traceback\n",
    "\n",
    "import numpy as np\n",
    "from scipy.spatial.distance import squareform\n",
    "import pandas as pd\n",
    "from tqdm import tqdm\n",
    "import matplotlib.pyplot as plt\n",
    "import seaborn as sns\n",
    "\n",
    "import conf\n",
    "from entity import Gene"
   ]
  },
  {
   "cell_type": "markdown",
   "id": "1eac24b5",
   "metadata": {
    "papermill": {
     "duration": 0.009736,
     "end_time": "2022-12-15T18:06:08.874370",
     "exception": false,
     "start_time": "2022-12-15T18:06:08.864634",
     "status": "completed"
    },
    "tags": []
   },
   "source": [
    "# Settings"
   ]
  },
  {
   "cell_type": "code",
   "execution_count": 3,
   "id": "ca4560ba",
   "metadata": {
    "execution": {
     "iopub.execute_input": "2022-12-15T18:06:08.890762Z",
     "iopub.status.busy": "2022-12-15T18:06:08.890624Z",
     "iopub.status.idle": "2022-12-15T18:06:08.905187Z",
     "shell.execute_reply": "2022-12-15T18:06:08.904628Z"
    },
    "papermill": {
     "duration": 0.024306,
     "end_time": "2022-12-15T18:06:08.906546",
     "exception": false,
     "start_time": "2022-12-15T18:06:08.882240",
     "status": "completed"
    },
    "tags": [
     "parameters"
    ]
   },
   "outputs": [],
   "source": [
    "# a cohort name (it could be something like UK_BIOBANK, etc)\n",
    "COHORT_NAME = None\n",
    "\n",
    "# reference panel such as 1000G or GTEX_V8\n",
    "REFERENCE_PANEL = \"GTEX_V8\"\n",
    "\n",
    "# predictions models such as MASHR or ELASTIC_NET\n",
    "EQTL_MODEL = \"MASHR\"\n",
    "\n",
    "# this is the default value used in S-MultiXcan to select the\n",
    "# top principal components of the expression correlation matrix\n",
    "SMULTIXCAN_CONDITION_NUMBER = 30\n",
    "\n",
    "# specifies a single chromosome value\n",
    "CHROMOSOME = None\n",
    "\n",
    "# If True, computes the correlation between closeby genes only (see\n",
    "# entity.Gene.within_distance for more details). Otherwise, it computes\n",
    "# correlations for all genes in a chromosome\n",
    "COMPUTE_CORRELATIONS_WITHIN_DISTANCE = True\n",
    "\n",
    "# if True, then it will continue if a gene pair correlation fails,\n",
    "# printing the warning/error for debugging. If False, any warning/error\n",
    "# will be thrown\n",
    "DEBUG_MODE = False\n",
    "\n",
    "# output dir\n",
    "OUTPUT_DIR_BASE = None"
   ]
  },
  {
   "cell_type": "code",
   "execution_count": 4,
   "id": "9da1da8e",
   "metadata": {
    "execution": {
     "iopub.execute_input": "2022-12-15T18:06:08.923981Z",
     "iopub.status.busy": "2022-12-15T18:06:08.923751Z",
     "iopub.status.idle": "2022-12-15T18:06:08.937552Z",
     "shell.execute_reply": "2022-12-15T18:06:08.937079Z"
    },
    "papermill": {
     "duration": 0.023786,
     "end_time": "2022-12-15T18:06:08.938809",
     "exception": false,
     "start_time": "2022-12-15T18:06:08.915023",
     "status": "completed"
    },
    "tags": [
     "injected-parameters"
    ]
   },
   "outputs": [],
   "source": [
    "# Parameters\n",
    "PHENOPLIER_NOTEBOOK_FILEPATH = (\n",
    "    \"projects/asthma-copd/nbs/20_gene_corrs/jobs/05-gene_expr_correlations.ipynb\"\n",
    ")\n",
    "COHORT_NAME = \"aco\"\n",
    "CHROMOSOME = 12\n",
    "OUTPUT_DIR_BASE = \"/opt/data/projects/asthma-copd/results/gls_phenoplier\"\n"
   ]
  },
  {
   "cell_type": "code",
   "execution_count": 5,
   "id": "3190631f-27fc-480f-b18e-571d580425a5",
   "metadata": {
    "execution": {
     "iopub.execute_input": "2022-12-15T18:06:08.956879Z",
     "iopub.status.busy": "2022-12-15T18:06:08.956682Z",
     "iopub.status.idle": "2022-12-15T18:06:08.974733Z",
     "shell.execute_reply": "2022-12-15T18:06:08.974302Z"
    },
    "papermill": {
     "duration": 0.02812,
     "end_time": "2022-12-15T18:06:08.976047",
     "exception": false,
     "start_time": "2022-12-15T18:06:08.947927",
     "status": "completed"
    },
    "tags": []
   },
   "outputs": [
    {
     "data": {
      "text/plain": [
       "'Cohort name: aco'"
      ]
     },
     "metadata": {},
     "output_type": "display_data"
    }
   ],
   "source": [
    "assert COHORT_NAME is not None and len(COHORT_NAME) > 0, \"A cohort name must be given\"\n",
    "\n",
    "COHORT_NAME = COHORT_NAME.lower()\n",
    "display(f\"Cohort name: {COHORT_NAME}\")"
   ]
  },
  {
   "cell_type": "code",
   "execution_count": 6,
   "id": "f53ba19b-0f93-4fa2-a047-63b375939d1a",
   "metadata": {
    "execution": {
     "iopub.execute_input": "2022-12-15T18:06:08.994183Z",
     "iopub.status.busy": "2022-12-15T18:06:08.993778Z",
     "iopub.status.idle": "2022-12-15T18:06:09.020683Z",
     "shell.execute_reply": "2022-12-15T18:06:09.019964Z"
    },
    "papermill": {
     "duration": 0.037111,
     "end_time": "2022-12-15T18:06:09.021883",
     "exception": false,
     "start_time": "2022-12-15T18:06:08.984772",
     "status": "completed"
    },
    "tags": []
   },
   "outputs": [
    {
     "data": {
      "text/plain": [
       "'Reference panel: GTEX_V8'"
      ]
     },
     "metadata": {},
     "output_type": "display_data"
    }
   ],
   "source": [
    "assert (\n",
    "    REFERENCE_PANEL is not None and len(REFERENCE_PANEL) > 0\n",
    "), \"A reference panel must be given\"\n",
    "\n",
    "display(f\"Reference panel: {REFERENCE_PANEL}\")"
   ]
  },
  {
   "cell_type": "code",
   "execution_count": 7,
   "id": "e024d130-c139-429a-9c6e-ccf149e297b0",
   "metadata": {
    "execution": {
     "iopub.execute_input": "2022-12-15T18:06:09.038263Z",
     "iopub.status.busy": "2022-12-15T18:06:09.037889Z",
     "iopub.status.idle": "2022-12-15T18:06:09.060124Z",
     "shell.execute_reply": "2022-12-15T18:06:09.059605Z"
    },
    "papermill": {
     "duration": 0.031902,
     "end_time": "2022-12-15T18:06:09.061490",
     "exception": false,
     "start_time": "2022-12-15T18:06:09.029588",
     "status": "completed"
    },
    "tags": []
   },
   "outputs": [
    {
     "data": {
      "text/plain": [
       "'eQTL model: MASHR) / mashr_'"
      ]
     },
     "metadata": {},
     "output_type": "display_data"
    }
   ],
   "source": [
    "assert (\n",
    "    EQTL_MODEL is not None and len(EQTL_MODEL) > 0\n",
    "), \"A prediction/eQTL model must be given\"\n",
    "\n",
    "EQTL_MODEL_FILES_PREFIX = conf.PHENOMEXCAN[\"PREDICTION_MODELS\"][f\"{EQTL_MODEL}_PREFIX\"]\n",
    "display(f\"eQTL model: {EQTL_MODEL}) / {EQTL_MODEL_FILES_PREFIX}\")"
   ]
  },
  {
   "cell_type": "code",
   "execution_count": 8,
   "id": "552a7f63-a18c-4d3e-bb6a-94f99b431291",
   "metadata": {
    "execution": {
     "iopub.execute_input": "2022-12-15T18:06:09.080881Z",
     "iopub.status.busy": "2022-12-15T18:06:09.080523Z",
     "iopub.status.idle": "2022-12-15T18:06:09.096746Z",
     "shell.execute_reply": "2022-12-15T18:06:09.096288Z"
    },
    "papermill": {
     "duration": 0.027641,
     "end_time": "2022-12-15T18:06:09.098132",
     "exception": false,
     "start_time": "2022-12-15T18:06:09.070491",
     "status": "completed"
    },
    "tags": []
   },
   "outputs": [
    {
     "data": {
      "text/plain": [
       "'S-MultiXcan condition number: 30'"
      ]
     },
     "metadata": {},
     "output_type": "display_data"
    }
   ],
   "source": [
    "assert (\n",
    "    SMULTIXCAN_CONDITION_NUMBER is not None and SMULTIXCAN_CONDITION_NUMBER > 0\n",
    "), \"The S-MultiXcan condition number (positive integer) must be given\"\n",
    "\n",
    "display(f\"S-MultiXcan condition number: {SMULTIXCAN_CONDITION_NUMBER}\")"
   ]
  },
  {
   "cell_type": "code",
   "execution_count": 9,
   "id": "f34a336f-548e-4afe-8955-90eaea4f42c6",
   "metadata": {
    "execution": {
     "iopub.execute_input": "2022-12-15T18:06:09.118427Z",
     "iopub.status.busy": "2022-12-15T18:06:09.118095Z",
     "iopub.status.idle": "2022-12-15T18:06:09.137385Z",
     "shell.execute_reply": "2022-12-15T18:06:09.136979Z"
    },
    "papermill": {
     "duration": 0.030754,
     "end_time": "2022-12-15T18:06:09.138724",
     "exception": false,
     "start_time": "2022-12-15T18:06:09.107970",
     "status": "completed"
    },
    "tags": []
   },
   "outputs": [
    {
     "data": {
      "text/plain": [
       "'Working on chromosome 12'"
      ]
     },
     "metadata": {},
     "output_type": "display_data"
    }
   ],
   "source": [
    "assert CHROMOSOME is not None and (\n",
    "    1 <= CHROMOSOME <= 22\n",
    "), \"You have to select one chromosome (format: number between 1 and 22)\"\n",
    "\n",
    "display(f\"Working on chromosome {CHROMOSOME}\")"
   ]
  },
  {
   "cell_type": "code",
   "execution_count": 10,
   "id": "ab8e96e8-06b5-4363-9dcd-dc4d78cc27f7",
   "metadata": {
    "execution": {
     "iopub.execute_input": "2022-12-15T18:06:09.158837Z",
     "iopub.status.busy": "2022-12-15T18:06:09.158407Z",
     "iopub.status.idle": "2022-12-15T18:06:09.177693Z",
     "shell.execute_reply": "2022-12-15T18:06:09.177252Z"
    },
    "papermill": {
     "duration": 0.030744,
     "end_time": "2022-12-15T18:06:09.179011",
     "exception": false,
     "start_time": "2022-12-15T18:06:09.148267",
     "status": "completed"
    },
    "tags": []
   },
   "outputs": [
    {
     "data": {
      "text/plain": [
       "'Compute correlation within distance True'"
      ]
     },
     "metadata": {},
     "output_type": "display_data"
    }
   ],
   "source": [
    "display(f\"Compute correlation within distance {COMPUTE_CORRELATIONS_WITHIN_DISTANCE}\")"
   ]
  },
  {
   "cell_type": "code",
   "execution_count": 11,
   "id": "b393b698-77e3-4ba2-8ac1-e14d51aa988f",
   "metadata": {
    "execution": {
     "iopub.execute_input": "2022-12-15T18:06:09.198768Z",
     "iopub.status.busy": "2022-12-15T18:06:09.198554Z",
     "iopub.status.idle": "2022-12-15T18:06:09.213336Z",
     "shell.execute_reply": "2022-12-15T18:06:09.213006Z"
    },
    "papermill": {
     "duration": 0.026179,
     "end_time": "2022-12-15T18:06:09.214543",
     "exception": false,
     "start_time": "2022-12-15T18:06:09.188364",
     "status": "completed"
    },
    "tags": []
   },
   "outputs": [
    {
     "data": {
      "text/plain": [
       "'Using output dir base: /opt/data/projects/asthma-copd/results/gls_phenoplier/gene_corrs/aco'"
      ]
     },
     "metadata": {},
     "output_type": "display_data"
    }
   ],
   "source": [
    "assert (\n",
    "    OUTPUT_DIR_BASE is not None and len(OUTPUT_DIR_BASE) > 0\n",
    "), \"Output directory path must be given\"\n",
    "\n",
    "OUTPUT_DIR_BASE = (Path(OUTPUT_DIR_BASE) / \"gene_corrs\" / COHORT_NAME).resolve()\n",
    "\n",
    "OUTPUT_DIR_BASE.mkdir(parents=True, exist_ok=True)\n",
    "\n",
    "display(f\"Using output dir base: {OUTPUT_DIR_BASE}\")"
   ]
  },
  {
   "cell_type": "markdown",
   "id": "d2ba085e",
   "metadata": {
    "papermill": {
     "duration": 0.009194,
     "end_time": "2022-12-15T18:06:09.233303",
     "exception": false,
     "start_time": "2022-12-15T18:06:09.224109",
     "status": "completed"
    },
    "tags": []
   },
   "source": [
    "# Load data"
   ]
  },
  {
   "cell_type": "markdown",
   "id": "7dcb8db7",
   "metadata": {
    "papermill": {
     "duration": 0.009197,
     "end_time": "2022-12-15T18:06:09.251595",
     "exception": false,
     "start_time": "2022-12-15T18:06:09.242398",
     "status": "completed"
    },
    "tags": []
   },
   "source": [
    "## GWAS variants"
   ]
  },
  {
   "cell_type": "code",
   "execution_count": 12,
   "id": "29434c4e-8cd3-4b9b-82e4-b5a251d9dd19",
   "metadata": {
    "execution": {
     "iopub.execute_input": "2022-12-15T18:06:09.271447Z",
     "iopub.status.busy": "2022-12-15T18:06:09.271151Z",
     "iopub.status.idle": "2022-12-15T18:06:11.410450Z",
     "shell.execute_reply": "2022-12-15T18:06:11.410056Z"
    },
    "papermill": {
     "duration": 2.150852,
     "end_time": "2022-12-15T18:06:11.411998",
     "exception": false,
     "start_time": "2022-12-15T18:06:09.261146",
     "status": "completed"
    },
    "tags": []
   },
   "outputs": [],
   "source": [
    "with open(OUTPUT_DIR_BASE / \"gwas_variant_ids.pkl\", \"rb\") as handle:\n",
    "    gwas_variants_ids_set = pickle.load(handle)"
   ]
  },
  {
   "cell_type": "code",
   "execution_count": 13,
   "id": "b9d9dec2-4a76-4bf9-bde2-e24c95acb8a0",
   "metadata": {
    "execution": {
     "iopub.execute_input": "2022-12-15T18:06:11.432179Z",
     "iopub.status.busy": "2022-12-15T18:06:11.431864Z",
     "iopub.status.idle": "2022-12-15T18:06:11.445947Z",
     "shell.execute_reply": "2022-12-15T18:06:11.445606Z"
    },
    "papermill": {
     "duration": 0.0257,
     "end_time": "2022-12-15T18:06:11.447141",
     "exception": false,
     "start_time": "2022-12-15T18:06:11.421441",
     "status": "completed"
    },
    "tags": []
   },
   "outputs": [
    {
     "data": {
      "text/plain": [
       "8561476"
      ]
     },
     "execution_count": 13,
     "metadata": {},
     "output_type": "execute_result"
    }
   ],
   "source": [
    "len(gwas_variants_ids_set)"
   ]
  },
  {
   "cell_type": "code",
   "execution_count": 14,
   "id": "4235b06a-6034-4ee4-a0a3-2ae35d122418",
   "metadata": {
    "execution": {
     "iopub.execute_input": "2022-12-15T18:06:11.467784Z",
     "iopub.status.busy": "2022-12-15T18:06:11.467539Z",
     "iopub.status.idle": "2022-12-15T18:06:11.913235Z",
     "shell.execute_reply": "2022-12-15T18:06:11.912782Z"
    },
    "papermill": {
     "duration": 0.457098,
     "end_time": "2022-12-15T18:06:11.914492",
     "exception": false,
     "start_time": "2022-12-15T18:06:11.457394",
     "status": "completed"
    },
    "tags": []
   },
   "outputs": [
    {
     "data": {
      "text/plain": [
       "['chr2_178374266_C_T_b38',\n",
       " 'chr4_37221731_C_A_b38',\n",
       " 'chr14_81366595_A_G_b38',\n",
       " 'chr3_7883084_T_C_b38',\n",
       " 'chr2_77217730_C_T_b38']"
      ]
     },
     "execution_count": 14,
     "metadata": {},
     "output_type": "execute_result"
    }
   ],
   "source": [
    "list(gwas_variants_ids_set)[:5]"
   ]
  },
  {
   "cell_type": "markdown",
   "id": "07866999-2305-41f9-a144-e69c9122c212",
   "metadata": {
    "papermill": {
     "duration": 0.009746,
     "end_time": "2022-12-15T18:06:11.933882",
     "exception": false,
     "start_time": "2022-12-15T18:06:11.924136",
     "status": "completed"
    },
    "tags": []
   },
   "source": [
    "## S-PrediXcan tissue models"
   ]
  },
  {
   "cell_type": "code",
   "execution_count": 15,
   "id": "780611d9-77c8-405f-90a4-f271f7b09397",
   "metadata": {
    "execution": {
     "iopub.execute_input": "2022-12-15T18:06:11.954341Z",
     "iopub.status.busy": "2022-12-15T18:06:11.954181Z",
     "iopub.status.idle": "2022-12-15T18:06:12.935874Z",
     "shell.execute_reply": "2022-12-15T18:06:12.935191Z"
    },
    "papermill": {
     "duration": 0.994214,
     "end_time": "2022-12-15T18:06:12.937596",
     "exception": false,
     "start_time": "2022-12-15T18:06:11.943382",
     "status": "completed"
    },
    "tags": []
   },
   "outputs": [],
   "source": [
    "spredixcan_genes_models = pd.read_pickle(OUTPUT_DIR_BASE / \"gene_tissues.pkl\")"
   ]
  },
  {
   "cell_type": "code",
   "execution_count": 16,
   "id": "726dd1f6-9557-4225-91fa-b3b879ea96e1",
   "metadata": {
    "execution": {
     "iopub.execute_input": "2022-12-15T18:06:12.958240Z",
     "iopub.status.busy": "2022-12-15T18:06:12.957979Z",
     "iopub.status.idle": "2022-12-15T18:06:12.976097Z",
     "shell.execute_reply": "2022-12-15T18:06:12.975615Z"
    },
    "papermill": {
     "duration": 0.029975,
     "end_time": "2022-12-15T18:06:12.977398",
     "exception": false,
     "start_time": "2022-12-15T18:06:12.947423",
     "status": "completed"
    },
    "tags": []
   },
   "outputs": [
    {
     "data": {
      "text/plain": [
       "(6442, 5)"
      ]
     },
     "execution_count": 16,
     "metadata": {},
     "output_type": "execute_result"
    }
   ],
   "source": [
    "spredixcan_genes_models.shape"
   ]
  },
  {
   "cell_type": "code",
   "execution_count": 17,
   "id": "944a1b48-222c-4eb0-b252-b9de2cbca215",
   "metadata": {
    "execution": {
     "iopub.execute_input": "2022-12-15T18:06:12.996076Z",
     "iopub.status.busy": "2022-12-15T18:06:12.995671Z",
     "iopub.status.idle": "2022-12-15T18:06:13.016706Z",
     "shell.execute_reply": "2022-12-15T18:06:13.016282Z"
    },
    "papermill": {
     "duration": 0.030113,
     "end_time": "2022-12-15T18:06:13.018034",
     "exception": false,
     "start_time": "2022-12-15T18:06:12.987921",
     "status": "completed"
    },
    "tags": []
   },
   "outputs": [
    {
     "data": {
      "text/html": [
       "<div>\n",
       "<style scoped>\n",
       "    .dataframe tbody tr th:only-of-type {\n",
       "        vertical-align: middle;\n",
       "    }\n",
       "\n",
       "    .dataframe tbody tr th {\n",
       "        vertical-align: top;\n",
       "    }\n",
       "\n",
       "    .dataframe thead th {\n",
       "        text-align: right;\n",
       "    }\n",
       "</style>\n",
       "<table border=\"1\" class=\"dataframe\">\n",
       "  <thead>\n",
       "    <tr style=\"text-align: right;\">\n",
       "      <th></th>\n",
       "      <th>gene_name</th>\n",
       "      <th>tissue</th>\n",
       "      <th>n_tissues</th>\n",
       "      <th>n_snps_used_sum</th>\n",
       "      <th>n_snps_in_model_sum</th>\n",
       "    </tr>\n",
       "    <tr>\n",
       "      <th>gene_id</th>\n",
       "      <th></th>\n",
       "      <th></th>\n",
       "      <th></th>\n",
       "      <th></th>\n",
       "      <th></th>\n",
       "    </tr>\n",
       "  </thead>\n",
       "  <tbody>\n",
       "    <tr>\n",
       "      <th>ENSG00000000419</th>\n",
       "      <td>DPM1</td>\n",
       "      <td>(Brain_Substantia_nigra, Brain_Hypothalamus)</td>\n",
       "      <td>2</td>\n",
       "      <td>2</td>\n",
       "      <td>2</td>\n",
       "    </tr>\n",
       "    <tr>\n",
       "      <th>ENSG00000000938</th>\n",
       "      <td>FGR</td>\n",
       "      <td>(Esophagus_Gastroesophageal_Junction, Muscle_S...</td>\n",
       "      <td>36</td>\n",
       "      <td>40</td>\n",
       "      <td>40</td>\n",
       "    </tr>\n",
       "    <tr>\n",
       "      <th>ENSG00000000971</th>\n",
       "      <td>CFH</td>\n",
       "      <td>(Esophagus_Gastroesophageal_Junction, Testis, ...</td>\n",
       "      <td>34</td>\n",
       "      <td>44</td>\n",
       "      <td>44</td>\n",
       "    </tr>\n",
       "    <tr>\n",
       "      <th>ENSG00000001084</th>\n",
       "      <td>GCLC</td>\n",
       "      <td>(Muscle_Skeletal, Testis, Brain_Cerebellum, Br...</td>\n",
       "      <td>32</td>\n",
       "      <td>46</td>\n",
       "      <td>46</td>\n",
       "    </tr>\n",
       "    <tr>\n",
       "      <th>ENSG00000001167</th>\n",
       "      <td>NFYA</td>\n",
       "      <td>(Esophagus_Gastroesophageal_Junction, Muscle_S...</td>\n",
       "      <td>40</td>\n",
       "      <td>47</td>\n",
       "      <td>48</td>\n",
       "    </tr>\n",
       "  </tbody>\n",
       "</table>\n",
       "</div>"
      ],
      "text/plain": [
       "                gene_name                                             tissue  \\\n",
       "gene_id                                                                        \n",
       "ENSG00000000419      DPM1       (Brain_Substantia_nigra, Brain_Hypothalamus)   \n",
       "ENSG00000000938       FGR  (Esophagus_Gastroesophageal_Junction, Muscle_S...   \n",
       "ENSG00000000971       CFH  (Esophagus_Gastroesophageal_Junction, Testis, ...   \n",
       "ENSG00000001084      GCLC  (Muscle_Skeletal, Testis, Brain_Cerebellum, Br...   \n",
       "ENSG00000001167      NFYA  (Esophagus_Gastroesophageal_Junction, Muscle_S...   \n",
       "\n",
       "                 n_tissues  n_snps_used_sum  n_snps_in_model_sum  \n",
       "gene_id                                                           \n",
       "ENSG00000000419          2                2                    2  \n",
       "ENSG00000000938         36               40                   40  \n",
       "ENSG00000000971         34               44                   44  \n",
       "ENSG00000001084         32               46                   46  \n",
       "ENSG00000001167         40               47                   48  "
      ]
     },
     "execution_count": 17,
     "metadata": {},
     "output_type": "execute_result"
    }
   ],
   "source": [
    "spredixcan_genes_models.head()"
   ]
  },
  {
   "cell_type": "code",
   "execution_count": 18,
   "id": "d1c11bb1-be0b-4f40-b360-633d6827109f",
   "metadata": {
    "execution": {
     "iopub.execute_input": "2022-12-15T18:06:13.039300Z",
     "iopub.status.busy": "2022-12-15T18:06:13.038980Z",
     "iopub.status.idle": "2022-12-15T18:06:13.059282Z",
     "shell.execute_reply": "2022-12-15T18:06:13.058807Z"
    },
    "papermill": {
     "duration": 0.032216,
     "end_time": "2022-12-15T18:06:13.060616",
     "exception": false,
     "start_time": "2022-12-15T18:06:13.028400",
     "status": "completed"
    },
    "tags": []
   },
   "outputs": [],
   "source": [
    "assert spredixcan_genes_models.index.is_unique"
   ]
  },
  {
   "cell_type": "markdown",
   "id": "a5b5092c-a13e-47c4-a92a-480fcc08f3ae",
   "metadata": {
    "papermill": {
     "duration": 0.010517,
     "end_time": "2022-12-15T18:06:13.081142",
     "exception": false,
     "start_time": "2022-12-15T18:06:13.070625",
     "status": "completed"
    },
    "tags": []
   },
   "source": [
    "## Gene info"
   ]
  },
  {
   "cell_type": "code",
   "execution_count": 19,
   "id": "7d6bb224-88e9-4358-ac10-43a41d92cdad",
   "metadata": {
    "execution": {
     "iopub.execute_input": "2022-12-15T18:06:13.097824Z",
     "iopub.status.busy": "2022-12-15T18:06:13.097548Z",
     "iopub.status.idle": "2022-12-15T18:06:13.117847Z",
     "shell.execute_reply": "2022-12-15T18:06:13.117287Z"
    },
    "papermill": {
     "duration": 0.028053,
     "end_time": "2022-12-15T18:06:13.119017",
     "exception": false,
     "start_time": "2022-12-15T18:06:13.090964",
     "status": "completed"
    },
    "tags": []
   },
   "outputs": [],
   "source": [
    "genes_info = pd.read_pickle(OUTPUT_DIR_BASE / \"genes_info.pkl\")"
   ]
  },
  {
   "cell_type": "code",
   "execution_count": 20,
   "id": "9e32abfa-546d-483e-8c18-d526e9e05903",
   "metadata": {
    "execution": {
     "iopub.execute_input": "2022-12-15T18:06:13.132606Z",
     "iopub.status.busy": "2022-12-15T18:06:13.132302Z",
     "iopub.status.idle": "2022-12-15T18:06:13.153611Z",
     "shell.execute_reply": "2022-12-15T18:06:13.152974Z"
    },
    "papermill": {
     "duration": 0.029206,
     "end_time": "2022-12-15T18:06:13.154552",
     "exception": false,
     "start_time": "2022-12-15T18:06:13.125346",
     "status": "completed"
    },
    "tags": []
   },
   "outputs": [
    {
     "data": {
      "text/plain": [
       "(6442, 7)"
      ]
     },
     "execution_count": 20,
     "metadata": {},
     "output_type": "execute_result"
    }
   ],
   "source": [
    "genes_info.shape"
   ]
  },
  {
   "cell_type": "code",
   "execution_count": 21,
   "id": "d16c3e92-85ec-468a-9a56-e25a9774a1cb",
   "metadata": {
    "execution": {
     "iopub.execute_input": "2022-12-15T18:06:13.167804Z",
     "iopub.status.busy": "2022-12-15T18:06:13.167548Z",
     "iopub.status.idle": "2022-12-15T18:06:13.185098Z",
     "shell.execute_reply": "2022-12-15T18:06:13.184679Z"
    },
    "papermill": {
     "duration": 0.025224,
     "end_time": "2022-12-15T18:06:13.186082",
     "exception": false,
     "start_time": "2022-12-15T18:06:13.160858",
     "status": "completed"
    },
    "tags": []
   },
   "outputs": [
    {
     "data": {
      "text/html": [
       "<div>\n",
       "<style scoped>\n",
       "    .dataframe tbody tr th:only-of-type {\n",
       "        vertical-align: middle;\n",
       "    }\n",
       "\n",
       "    .dataframe tbody tr th {\n",
       "        vertical-align: top;\n",
       "    }\n",
       "\n",
       "    .dataframe thead th {\n",
       "        text-align: right;\n",
       "    }\n",
       "</style>\n",
       "<table border=\"1\" class=\"dataframe\">\n",
       "  <thead>\n",
       "    <tr style=\"text-align: right;\">\n",
       "      <th></th>\n",
       "      <th>name</th>\n",
       "      <th>id</th>\n",
       "      <th>chr</th>\n",
       "      <th>band</th>\n",
       "      <th>start_position</th>\n",
       "      <th>end_position</th>\n",
       "      <th>gene_length</th>\n",
       "    </tr>\n",
       "  </thead>\n",
       "  <tbody>\n",
       "    <tr>\n",
       "      <th>0</th>\n",
       "      <td>SLC38A1</td>\n",
       "      <td>ENSG00000111371</td>\n",
       "      <td>12</td>\n",
       "      <td>12q13.11</td>\n",
       "      <td>46183063</td>\n",
       "      <td>46270017</td>\n",
       "      <td>86954</td>\n",
       "    </tr>\n",
       "    <tr>\n",
       "      <th>1</th>\n",
       "      <td>SEC61A1</td>\n",
       "      <td>ENSG00000058262</td>\n",
       "      <td>3</td>\n",
       "      <td>3q21.3</td>\n",
       "      <td>128051641</td>\n",
       "      <td>128071683</td>\n",
       "      <td>20042</td>\n",
       "    </tr>\n",
       "    <tr>\n",
       "      <th>2</th>\n",
       "      <td>SYDE1</td>\n",
       "      <td>ENSG00000105137</td>\n",
       "      <td>19</td>\n",
       "      <td>19p13.12</td>\n",
       "      <td>15107401</td>\n",
       "      <td>15114985</td>\n",
       "      <td>7584</td>\n",
       "    </tr>\n",
       "    <tr>\n",
       "      <th>3</th>\n",
       "      <td>GEM</td>\n",
       "      <td>ENSG00000164949</td>\n",
       "      <td>8</td>\n",
       "      <td>8q22.1</td>\n",
       "      <td>94249253</td>\n",
       "      <td>94262350</td>\n",
       "      <td>13097</td>\n",
       "    </tr>\n",
       "    <tr>\n",
       "      <th>4</th>\n",
       "      <td>PTGS2</td>\n",
       "      <td>ENSG00000073756</td>\n",
       "      <td>1</td>\n",
       "      <td>1q31.1</td>\n",
       "      <td>186671791</td>\n",
       "      <td>186680423</td>\n",
       "      <td>8632</td>\n",
       "    </tr>\n",
       "  </tbody>\n",
       "</table>\n",
       "</div>"
      ],
      "text/plain": [
       "      name               id  chr      band  start_position  end_position  \\\n",
       "0  SLC38A1  ENSG00000111371   12  12q13.11        46183063      46270017   \n",
       "1  SEC61A1  ENSG00000058262    3    3q21.3       128051641     128071683   \n",
       "2    SYDE1  ENSG00000105137   19  19p13.12        15107401      15114985   \n",
       "3      GEM  ENSG00000164949    8    8q22.1        94249253      94262350   \n",
       "4    PTGS2  ENSG00000073756    1    1q31.1       186671791     186680423   \n",
       "\n",
       "   gene_length  \n",
       "0        86954  \n",
       "1        20042  \n",
       "2         7584  \n",
       "3        13097  \n",
       "4         8632  "
      ]
     },
     "execution_count": 21,
     "metadata": {},
     "output_type": "execute_result"
    }
   ],
   "source": [
    "genes_info.head()"
   ]
  },
  {
   "cell_type": "markdown",
   "id": "d3843e06",
   "metadata": {
    "papermill": {
     "duration": 0.006413,
     "end_time": "2022-12-15T18:06:13.198738",
     "exception": false,
     "start_time": "2022-12-15T18:06:13.192325",
     "status": "completed"
    },
    "tags": []
   },
   "source": [
    "# Compute correlations"
   ]
  },
  {
   "cell_type": "code",
   "execution_count": 22,
   "id": "cb859c15-d1f3-4006-a74c-2b83c0db9611",
   "metadata": {
    "execution": {
     "iopub.execute_input": "2022-12-15T18:06:13.211121Z",
     "iopub.status.busy": "2022-12-15T18:06:13.210874Z",
     "iopub.status.idle": "2022-12-15T18:06:13.225903Z",
     "shell.execute_reply": "2022-12-15T18:06:13.225393Z"
    },
    "papermill": {
     "duration": 0.022462,
     "end_time": "2022-12-15T18:06:13.226906",
     "exception": false,
     "start_time": "2022-12-15T18:06:13.204444",
     "status": "completed"
    },
    "tags": []
   },
   "outputs": [
    {
     "data": {
      "text/plain": [
       "PosixPath('/opt/data/projects/asthma-copd/results/gls_phenoplier/gene_corrs/aco/by_chr/gene_corrs-chr12.pkl')"
      ]
     },
     "metadata": {},
     "output_type": "display_data"
    }
   ],
   "source": [
    "output_dir = OUTPUT_DIR_BASE / \"by_chr\"\n",
    "output_dir.mkdir(exist_ok=True, parents=True)\n",
    "output_file = output_dir / f\"gene_corrs-chr{CHROMOSOME}.pkl\"\n",
    "display(output_file)"
   ]
  },
  {
   "cell_type": "code",
   "execution_count": 23,
   "id": "aa674fe4-6794-4eed-98fa-32b39d1d4ace",
   "metadata": {
    "execution": {
     "iopub.execute_input": "2022-12-15T18:06:13.240663Z",
     "iopub.status.busy": "2022-12-15T18:06:13.240373Z",
     "iopub.status.idle": "2022-12-15T18:06:13.254705Z",
     "shell.execute_reply": "2022-12-15T18:06:13.254203Z"
    },
    "papermill": {
     "duration": 0.022014,
     "end_time": "2022-12-15T18:06:13.255685",
     "exception": false,
     "start_time": "2022-12-15T18:06:13.233671",
     "status": "completed"
    },
    "tags": []
   },
   "outputs": [],
   "source": [
    "warnings.filterwarnings(\"error\")"
   ]
  },
  {
   "cell_type": "code",
   "execution_count": 24,
   "id": "44d5450b-3baf-43f1-9e2e-4b06f1a785f8",
   "metadata": {
    "execution": {
     "iopub.execute_input": "2022-12-15T18:06:13.269305Z",
     "iopub.status.busy": "2022-12-15T18:06:13.268766Z",
     "iopub.status.idle": "2022-12-15T18:06:13.289443Z",
     "shell.execute_reply": "2022-12-15T18:06:13.288909Z"
    },
    "papermill": {
     "duration": 0.028424,
     "end_time": "2022-12-15T18:06:13.290502",
     "exception": false,
     "start_time": "2022-12-15T18:06:13.262078",
     "status": "completed"
    },
    "tags": []
   },
   "outputs": [],
   "source": [
    "# standard checks\n",
    "all_chrs = genes_info[\"chr\"].dropna().unique()\n",
    "assert all_chrs.shape[0] == 22\n",
    "\n",
    "# select chromosome given by the user\n",
    "assert CHROMOSOME in all_chrs"
   ]
  },
  {
   "cell_type": "code",
   "execution_count": 25,
   "id": "2d7c043c-92a7-4d35-991b-fa69ac1e0268",
   "metadata": {
    "execution": {
     "iopub.execute_input": "2022-12-15T18:06:13.304044Z",
     "iopub.status.busy": "2022-12-15T18:06:13.303469Z",
     "iopub.status.idle": "2022-12-15T18:06:13.325592Z",
     "shell.execute_reply": "2022-12-15T18:06:13.325093Z"
    },
    "papermill": {
     "duration": 0.029743,
     "end_time": "2022-12-15T18:06:13.326452",
     "exception": false,
     "start_time": "2022-12-15T18:06:13.296709",
     "status": "completed"
    },
    "tags": []
   },
   "outputs": [
    {
     "name": "stdout",
     "output_type": "stream",
     "text": [
      "Number of genes in chromosome: 388\n"
     ]
    }
   ],
   "source": [
    "# run only on the chromosome specified\n",
    "all_chrs = [CHROMOSOME]\n",
    "genes_chr = genes_info[genes_info[\"chr\"] == CHROMOSOME]\n",
    "\n",
    "# For testing purposes\n",
    "# genes_chr = genes_chr.sample(n=20)\n",
    "\n",
    "print(f\"Number of genes in chromosome: {genes_chr.shape[0]}\", flush=True)"
   ]
  },
  {
   "cell_type": "code",
   "execution_count": 26,
   "id": "916015d8-2979-46d3-a9b9-1cf5a0932c6a",
   "metadata": {
    "execution": {
     "iopub.execute_input": "2022-12-15T18:06:13.339433Z",
     "iopub.status.busy": "2022-12-15T18:06:13.338852Z",
     "iopub.status.idle": "2022-12-15T18:06:13.359657Z",
     "shell.execute_reply": "2022-12-15T18:06:13.359101Z"
    },
    "papermill": {
     "duration": 0.029219,
     "end_time": "2022-12-15T18:06:13.361451",
     "exception": false,
     "start_time": "2022-12-15T18:06:13.332232",
     "status": "completed"
    },
    "tags": []
   },
   "outputs": [],
   "source": [
    "# sort genes by starting position to make visualizations better later\n",
    "genes_chr = genes_chr.sort_values(\"start_position\")"
   ]
  },
  {
   "cell_type": "code",
   "execution_count": 27,
   "id": "a38aa74a-8ad3-47f6-8ef9-56be0e011774",
   "metadata": {
    "execution": {
     "iopub.execute_input": "2022-12-15T18:06:13.393502Z",
     "iopub.status.busy": "2022-12-15T18:06:13.393209Z",
     "iopub.status.idle": "2022-12-15T18:06:13.414646Z",
     "shell.execute_reply": "2022-12-15T18:06:13.414076Z"
    },
    "papermill": {
     "duration": 0.039924,
     "end_time": "2022-12-15T18:06:13.416461",
     "exception": false,
     "start_time": "2022-12-15T18:06:13.376537",
     "status": "completed"
    },
    "tags": []
   },
   "outputs": [],
   "source": [
    "gene_chr_objs = [Gene(ensembl_id=gene_id) for gene_id in genes_chr[\"id\"]]"
   ]
  },
  {
   "cell_type": "code",
   "execution_count": 28,
   "id": "570f974f-13c3-42b6-ad3a-ce99ca885c1a",
   "metadata": {
    "execution": {
     "iopub.execute_input": "2022-12-15T18:06:13.441235Z",
     "iopub.status.busy": "2022-12-15T18:06:13.440978Z",
     "iopub.status.idle": "2022-12-15T18:06:13.462455Z",
     "shell.execute_reply": "2022-12-15T18:06:13.461755Z"
    },
    "papermill": {
     "duration": 0.034584,
     "end_time": "2022-12-15T18:06:13.463493",
     "exception": false,
     "start_time": "2022-12-15T18:06:13.428909",
     "status": "completed"
    },
    "tags": []
   },
   "outputs": [
    {
     "name": "stdout",
     "output_type": "stream",
     "text": [
      "Number of gene combinations: 75466\n"
     ]
    }
   ],
   "source": [
    "n = len(gene_chr_objs)\n",
    "# diagonal elements + upper triangular matrix\n",
    "n_comb = n + int(n * (n - 1) / 2.0)\n",
    "print(f\"Number of gene combinations: {n_comb}\", flush=True)"
   ]
  },
  {
   "cell_type": "code",
   "execution_count": 29,
   "id": "cdbb90a1",
   "metadata": {
    "execution": {
     "iopub.execute_input": "2022-12-15T18:06:13.478667Z",
     "iopub.status.busy": "2022-12-15T18:06:13.478122Z",
     "iopub.status.idle": "2022-12-15T18:14:51.094306Z",
     "shell.execute_reply": "2022-12-15T18:14:51.093824Z"
    },
    "papermill": {
     "duration": 517.624829,
     "end_time": "2022-12-15T18:14:51.095740",
     "exception": false,
     "start_time": "2022-12-15T18:06:13.470911",
     "status": "completed"
    },
    "tags": []
   },
   "outputs": [
    {
     "name": "stderr",
     "output_type": "stream",
     "text": [
      "ENSG00000256223 / ENSG00000256223: 100%|█████████████████████| 75466/75466 [08:37<00:00, 145.81it/s]\n"
     ]
    },
    {
     "data": {
      "text/plain": [
       "PosixPath('/opt/data/projects/asthma-copd/results/gls_phenoplier/gene_corrs/aco/by_chr/gene_corrs-chr12.pkl')"
      ]
     },
     "metadata": {},
     "output_type": "display_data"
    }
   ],
   "source": [
    "gene_corrs = []\n",
    "gene_corrs_data = np.full(\n",
    "    (n, n),\n",
    "    np.nan,\n",
    "    dtype=np.float64,\n",
    ")\n",
    "\n",
    "i = 0\n",
    "with tqdm(ncols=100, total=n_comb) as pbar:\n",
    "    for gene1_idx in range(0, len(gene_chr_objs)):\n",
    "        gene1_obj = gene_chr_objs[gene1_idx]\n",
    "        gene1_tissues = spredixcan_genes_models.loc[gene1_obj.ensembl_id, \"tissue\"]\n",
    "\n",
    "        for gene2_idx in range(gene1_idx, len(gene_chr_objs)):\n",
    "            gene2_obj = gene_chr_objs[gene2_idx]\n",
    "            gene2_tissues = spredixcan_genes_models.loc[gene2_obj.ensembl_id, \"tissue\"]\n",
    "\n",
    "            pbar.set_description(f\"{gene1_obj.ensembl_id} / {gene2_obj.ensembl_id}\")\n",
    "\n",
    "            try:\n",
    "                r = gene1_obj.get_ssm_correlation(\n",
    "                    other_gene=gene2_obj,\n",
    "                    tissues=gene1_tissues,\n",
    "                    other_tissues=gene2_tissues,\n",
    "                    snps_subset=gwas_variants_ids_set,\n",
    "                    condition_number=SMULTIXCAN_CONDITION_NUMBER,\n",
    "                    reference_panel=REFERENCE_PANEL,\n",
    "                    model_type=EQTL_MODEL,\n",
    "                    use_within_distance=COMPUTE_CORRELATIONS_WITHIN_DISTANCE,\n",
    "                )\n",
    "\n",
    "                if r is None:\n",
    "                    # if r is None, it's very likely because:\n",
    "                    #  * one of the genes has no prediction models\n",
    "                    #  * all the SNPs predictors for the gene are not present in the reference\n",
    "                    #    panel\n",
    "\n",
    "                    r = 0.0\n",
    "\n",
    "                gene_corrs.append(r)\n",
    "\n",
    "                gene_corrs_data[gene1_idx, gene2_idx] = r\n",
    "                gene_corrs_data[gene2_idx, gene1_idx] = r\n",
    "            except Warning as e:\n",
    "                if not DEBUG_MODE:\n",
    "                    raise e\n",
    "\n",
    "                print(\n",
    "                    f\"RuntimeWarning for genes {gene1_obj.ensembl_id} and {gene2_obj.ensembl_id}\",\n",
    "                    flush=True,\n",
    "                )\n",
    "                print(traceback.format_exc(), flush=True)\n",
    "\n",
    "                gene_corrs.append(np.nan)\n",
    "            except Exception as e:\n",
    "                if not DEBUG_MODE:\n",
    "                    raise e\n",
    "\n",
    "                print(\n",
    "                    f\"Exception for genes {gene1_obj.ensembl_id} and {gene2_obj.ensembl_id}\",\n",
    "                    flush=True,\n",
    "                )\n",
    "                print(traceback.format_exc(), flush=True)\n",
    "\n",
    "                gene_corrs.append(np.nan)\n",
    "\n",
    "            pbar.update(1)\n",
    "\n",
    "# create a pandas series\n",
    "gene_corrs_flat = pd.Series(gene_corrs)\n",
    "\n",
    "# save\n",
    "# FIXME: consider saving only the condenced matrix here. See here for\n",
    "# more details: https://github.com/greenelab/phenoplier/pull/38#discussion_r634600813\n",
    "# gene_corrs_data = squareform(np.array(gene_corrs, dtype=np.float64))\n",
    "# np.fill_diagonal(gene_corrs_data, 1.0)\n",
    "\n",
    "gene_chr_ids = [g.ensembl_id for g in gene_chr_objs]\n",
    "gene_corrs_df = pd.DataFrame(\n",
    "    data=gene_corrs_data,\n",
    "    index=gene_chr_ids,\n",
    "    columns=gene_chr_ids,\n",
    ")\n",
    "\n",
    "output_dir.mkdir(exist_ok=True, parents=True)\n",
    "display(output_file)\n",
    "\n",
    "gene_corrs_df.to_pickle(output_file)"
   ]
  },
  {
   "cell_type": "markdown",
   "id": "faa67b51-5373-470f-aa72-2ded53fa6dfe",
   "metadata": {
    "papermill": {
     "duration": 2.374623,
     "end_time": "2022-12-15T18:14:55.861359",
     "exception": false,
     "start_time": "2022-12-15T18:14:53.486736",
     "status": "completed"
    },
    "tags": []
   },
   "source": [
    "# Testing"
   ]
  },
  {
   "cell_type": "code",
   "execution_count": 30,
   "id": "14f7d046-4b55-4896-a56b-990127bcc388",
   "metadata": {
    "execution": {
     "iopub.execute_input": "2022-12-15T18:15:00.604740Z",
     "iopub.status.busy": "2022-12-15T18:15:00.604443Z",
     "iopub.status.idle": "2022-12-15T18:15:00.618760Z",
     "shell.execute_reply": "2022-12-15T18:15:00.618360Z"
    },
    "papermill": {
     "duration": 2.444082,
     "end_time": "2022-12-15T18:15:00.619671",
     "exception": false,
     "start_time": "2022-12-15T18:14:58.175589",
     "status": "completed"
    },
    "tags": []
   },
   "outputs": [
    {
     "data": {
      "text/plain": [
       "(388, 388)"
      ]
     },
     "execution_count": 30,
     "metadata": {},
     "output_type": "execute_result"
    }
   ],
   "source": [
    "gene_corrs_df.shape"
   ]
  },
  {
   "cell_type": "code",
   "execution_count": 31,
   "id": "c7d15414-3297-4537-a7c6-7588c0baeb75",
   "metadata": {
    "execution": {
     "iopub.execute_input": "2022-12-15T18:15:05.335620Z",
     "iopub.status.busy": "2022-12-15T18:15:05.335126Z",
     "iopub.status.idle": "2022-12-15T18:15:05.360707Z",
     "shell.execute_reply": "2022-12-15T18:15:05.360050Z"
    },
    "papermill": {
     "duration": 2.419288,
     "end_time": "2022-12-15T18:15:05.361721",
     "exception": false,
     "start_time": "2022-12-15T18:15:02.942433",
     "status": "completed"
    },
    "tags": []
   },
   "outputs": [
    {
     "data": {
      "text/html": [
       "<div>\n",
       "<style scoped>\n",
       "    .dataframe tbody tr th:only-of-type {\n",
       "        vertical-align: middle;\n",
       "    }\n",
       "\n",
       "    .dataframe tbody tr th {\n",
       "        vertical-align: top;\n",
       "    }\n",
       "\n",
       "    .dataframe thead th {\n",
       "        text-align: right;\n",
       "    }\n",
       "</style>\n",
       "<table border=\"1\" class=\"dataframe\">\n",
       "  <thead>\n",
       "    <tr style=\"text-align: right;\">\n",
       "      <th></th>\n",
       "      <th>ENSG00000120645</th>\n",
       "      <th>ENSG00000111181</th>\n",
       "      <th>ENSG00000171840</th>\n",
       "      <th>ENSG00000060237</th>\n",
       "      <th>ENSG00000002016</th>\n",
       "      <th>ENSG00000082805</th>\n",
       "      <th>ENSG00000111186</th>\n",
       "      <th>ENSG00000006831</th>\n",
       "      <th>ENSG00000151062</th>\n",
       "      <th>ENSG00000151065</th>\n",
       "      <th>...</th>\n",
       "      <th>ENSG00000132341</th>\n",
       "      <th>ENSG00000198598</th>\n",
       "      <th>ENSG00000177169</th>\n",
       "      <th>ENSG00000182870</th>\n",
       "      <th>ENSG00000177084</th>\n",
       "      <th>ENSG00000176894</th>\n",
       "      <th>ENSG00000196458</th>\n",
       "      <th>ENSG00000198393</th>\n",
       "      <th>ENSG00000196387</th>\n",
       "      <th>ENSG00000256223</th>\n",
       "    </tr>\n",
       "  </thead>\n",
       "  <tbody>\n",
       "    <tr>\n",
       "      <th>ENSG00000120645</th>\n",
       "      <td>1.000000</td>\n",
       "      <td>0.084977</td>\n",
       "      <td>0.010732</td>\n",
       "      <td>0.013075</td>\n",
       "      <td>0.006635</td>\n",
       "      <td>0.013251</td>\n",
       "      <td>0.008958</td>\n",
       "      <td>0.012192</td>\n",
       "      <td>0.011312</td>\n",
       "      <td>0.007988</td>\n",
       "      <td>...</td>\n",
       "      <td>0.0</td>\n",
       "      <td>0.0</td>\n",
       "      <td>0.0</td>\n",
       "      <td>0.0</td>\n",
       "      <td>0.0</td>\n",
       "      <td>0.0</td>\n",
       "      <td>0.0</td>\n",
       "      <td>0.0</td>\n",
       "      <td>0.0</td>\n",
       "      <td>0.0</td>\n",
       "    </tr>\n",
       "    <tr>\n",
       "      <th>ENSG00000111181</th>\n",
       "      <td>0.084977</td>\n",
       "      <td>1.000000</td>\n",
       "      <td>0.013874</td>\n",
       "      <td>0.010570</td>\n",
       "      <td>0.006832</td>\n",
       "      <td>0.010852</td>\n",
       "      <td>0.007484</td>\n",
       "      <td>0.006804</td>\n",
       "      <td>0.010243</td>\n",
       "      <td>0.007208</td>\n",
       "      <td>...</td>\n",
       "      <td>0.0</td>\n",
       "      <td>0.0</td>\n",
       "      <td>0.0</td>\n",
       "      <td>0.0</td>\n",
       "      <td>0.0</td>\n",
       "      <td>0.0</td>\n",
       "      <td>0.0</td>\n",
       "      <td>0.0</td>\n",
       "      <td>0.0</td>\n",
       "      <td>0.0</td>\n",
       "    </tr>\n",
       "    <tr>\n",
       "      <th>ENSG00000171840</th>\n",
       "      <td>0.010732</td>\n",
       "      <td>0.013874</td>\n",
       "      <td>1.000000</td>\n",
       "      <td>0.147871</td>\n",
       "      <td>0.013080</td>\n",
       "      <td>0.013927</td>\n",
       "      <td>0.013738</td>\n",
       "      <td>0.006195</td>\n",
       "      <td>0.012258</td>\n",
       "      <td>0.007633</td>\n",
       "      <td>...</td>\n",
       "      <td>0.0</td>\n",
       "      <td>0.0</td>\n",
       "      <td>0.0</td>\n",
       "      <td>0.0</td>\n",
       "      <td>0.0</td>\n",
       "      <td>0.0</td>\n",
       "      <td>0.0</td>\n",
       "      <td>0.0</td>\n",
       "      <td>0.0</td>\n",
       "      <td>0.0</td>\n",
       "    </tr>\n",
       "    <tr>\n",
       "      <th>ENSG00000060237</th>\n",
       "      <td>0.013075</td>\n",
       "      <td>0.010570</td>\n",
       "      <td>0.147871</td>\n",
       "      <td>1.000000</td>\n",
       "      <td>0.218221</td>\n",
       "      <td>0.018323</td>\n",
       "      <td>0.011846</td>\n",
       "      <td>0.010363</td>\n",
       "      <td>0.010199</td>\n",
       "      <td>0.007227</td>\n",
       "      <td>...</td>\n",
       "      <td>0.0</td>\n",
       "      <td>0.0</td>\n",
       "      <td>0.0</td>\n",
       "      <td>0.0</td>\n",
       "      <td>0.0</td>\n",
       "      <td>0.0</td>\n",
       "      <td>0.0</td>\n",
       "      <td>0.0</td>\n",
       "      <td>0.0</td>\n",
       "      <td>0.0</td>\n",
       "    </tr>\n",
       "    <tr>\n",
       "      <th>ENSG00000002016</th>\n",
       "      <td>0.006635</td>\n",
       "      <td>0.006832</td>\n",
       "      <td>0.013080</td>\n",
       "      <td>0.218221</td>\n",
       "      <td>1.000000</td>\n",
       "      <td>0.019884</td>\n",
       "      <td>0.009110</td>\n",
       "      <td>0.003982</td>\n",
       "      <td>0.007333</td>\n",
       "      <td>0.007657</td>\n",
       "      <td>...</td>\n",
       "      <td>0.0</td>\n",
       "      <td>0.0</td>\n",
       "      <td>0.0</td>\n",
       "      <td>0.0</td>\n",
       "      <td>0.0</td>\n",
       "      <td>0.0</td>\n",
       "      <td>0.0</td>\n",
       "      <td>0.0</td>\n",
       "      <td>0.0</td>\n",
       "      <td>0.0</td>\n",
       "    </tr>\n",
       "  </tbody>\n",
       "</table>\n",
       "<p>5 rows × 388 columns</p>\n",
       "</div>"
      ],
      "text/plain": [
       "                 ENSG00000120645  ENSG00000111181  ENSG00000171840  \\\n",
       "ENSG00000120645         1.000000         0.084977         0.010732   \n",
       "ENSG00000111181         0.084977         1.000000         0.013874   \n",
       "ENSG00000171840         0.010732         0.013874         1.000000   \n",
       "ENSG00000060237         0.013075         0.010570         0.147871   \n",
       "ENSG00000002016         0.006635         0.006832         0.013080   \n",
       "\n",
       "                 ENSG00000060237  ENSG00000002016  ENSG00000082805  \\\n",
       "ENSG00000120645         0.013075         0.006635         0.013251   \n",
       "ENSG00000111181         0.010570         0.006832         0.010852   \n",
       "ENSG00000171840         0.147871         0.013080         0.013927   \n",
       "ENSG00000060237         1.000000         0.218221         0.018323   \n",
       "ENSG00000002016         0.218221         1.000000         0.019884   \n",
       "\n",
       "                 ENSG00000111186  ENSG00000006831  ENSG00000151062  \\\n",
       "ENSG00000120645         0.008958         0.012192         0.011312   \n",
       "ENSG00000111181         0.007484         0.006804         0.010243   \n",
       "ENSG00000171840         0.013738         0.006195         0.012258   \n",
       "ENSG00000060237         0.011846         0.010363         0.010199   \n",
       "ENSG00000002016         0.009110         0.003982         0.007333   \n",
       "\n",
       "                 ENSG00000151065  ...  ENSG00000132341  ENSG00000198598  \\\n",
       "ENSG00000120645         0.007988  ...              0.0              0.0   \n",
       "ENSG00000111181         0.007208  ...              0.0              0.0   \n",
       "ENSG00000171840         0.007633  ...              0.0              0.0   \n",
       "ENSG00000060237         0.007227  ...              0.0              0.0   \n",
       "ENSG00000002016         0.007657  ...              0.0              0.0   \n",
       "\n",
       "                 ENSG00000177169  ENSG00000182870  ENSG00000177084  \\\n",
       "ENSG00000120645              0.0              0.0              0.0   \n",
       "ENSG00000111181              0.0              0.0              0.0   \n",
       "ENSG00000171840              0.0              0.0              0.0   \n",
       "ENSG00000060237              0.0              0.0              0.0   \n",
       "ENSG00000002016              0.0              0.0              0.0   \n",
       "\n",
       "                 ENSG00000176894  ENSG00000196458  ENSG00000198393  \\\n",
       "ENSG00000120645              0.0              0.0              0.0   \n",
       "ENSG00000111181              0.0              0.0              0.0   \n",
       "ENSG00000171840              0.0              0.0              0.0   \n",
       "ENSG00000060237              0.0              0.0              0.0   \n",
       "ENSG00000002016              0.0              0.0              0.0   \n",
       "\n",
       "                 ENSG00000196387  ENSG00000256223  \n",
       "ENSG00000120645              0.0              0.0  \n",
       "ENSG00000111181              0.0              0.0  \n",
       "ENSG00000171840              0.0              0.0  \n",
       "ENSG00000060237              0.0              0.0  \n",
       "ENSG00000002016              0.0              0.0  \n",
       "\n",
       "[5 rows x 388 columns]"
      ]
     },
     "execution_count": 31,
     "metadata": {},
     "output_type": "execute_result"
    }
   ],
   "source": [
    "gene_corrs_df.head()"
   ]
  },
  {
   "cell_type": "markdown",
   "id": "dad6603f-01c6-41fb-a6f6-241051207dd8",
   "metadata": {
    "papermill": {
     "duration": 2.548234,
     "end_time": "2022-12-15T18:15:10.298503",
     "exception": false,
     "start_time": "2022-12-15T18:15:07.750269",
     "status": "completed"
    },
    "tags": []
   },
   "source": [
    "## Standard checks and stats"
   ]
  },
  {
   "cell_type": "code",
   "execution_count": 32,
   "id": "286686af-1b7b-4440-8453-6bdcbd8de19c",
   "metadata": {
    "execution": {
     "iopub.execute_input": "2022-12-15T18:15:15.904844Z",
     "iopub.status.busy": "2022-12-15T18:15:15.904482Z",
     "iopub.status.idle": "2022-12-15T18:15:15.920609Z",
     "shell.execute_reply": "2022-12-15T18:15:15.919895Z"
    },
    "papermill": {
     "duration": 3.146665,
     "end_time": "2022-12-15T18:15:15.922402",
     "exception": false,
     "start_time": "2022-12-15T18:15:12.775737",
     "status": "completed"
    },
    "tags": []
   },
   "outputs": [],
   "source": [
    "assert not gene_corrs_df.isna().any(axis=None)"
   ]
  },
  {
   "cell_type": "code",
   "execution_count": 33,
   "id": "00583efc-7068-4270-ad1e-4a418e91db96",
   "metadata": {
    "execution": {
     "iopub.execute_input": "2022-12-15T18:15:20.837307Z",
     "iopub.status.busy": "2022-12-15T18:15:20.836593Z",
     "iopub.status.idle": "2022-12-15T18:15:20.862897Z",
     "shell.execute_reply": "2022-12-15T18:15:20.862591Z"
    },
    "papermill": {
     "duration": 2.568545,
     "end_time": "2022-12-15T18:15:20.863692",
     "exception": false,
     "start_time": "2022-12-15T18:15:18.295147",
     "status": "completed"
    },
    "tags": []
   },
   "outputs": [
    {
     "data": {
      "text/plain": [
       "0.0"
      ]
     },
     "metadata": {},
     "output_type": "display_data"
    }
   ],
   "source": [
    "_min_val = gene_corrs_df.min().min()\n",
    "display(_min_val)\n",
    "assert _min_val >= -0.05"
   ]
  },
  {
   "cell_type": "code",
   "execution_count": 34,
   "id": "d04fb2cf-1050-475b-b855-f5f7cc04092b",
   "metadata": {
    "execution": {
     "iopub.execute_input": "2022-12-15T18:15:25.537837Z",
     "iopub.status.busy": "2022-12-15T18:15:25.537473Z",
     "iopub.status.idle": "2022-12-15T18:15:25.560411Z",
     "shell.execute_reply": "2022-12-15T18:15:25.559885Z"
    },
    "papermill": {
     "duration": 2.305359,
     "end_time": "2022-12-15T18:15:25.561308",
     "exception": false,
     "start_time": "2022-12-15T18:15:23.255949",
     "status": "completed"
    },
    "tags": []
   },
   "outputs": [
    {
     "data": {
      "text/plain": [
       "1.000000000000004"
      ]
     },
     "metadata": {},
     "output_type": "display_data"
    }
   ],
   "source": [
    "_max_val = gene_corrs_df.max().max()  # this captures the diagonal\n",
    "display(_max_val)\n",
    "assert _max_val <= 1.05"
   ]
  },
  {
   "cell_type": "code",
   "execution_count": 35,
   "id": "fe283586-c348-40e0-8841-f6d97bfb021c",
   "metadata": {
    "execution": {
     "iopub.execute_input": "2022-12-15T18:15:30.446586Z",
     "iopub.status.busy": "2022-12-15T18:15:30.446260Z",
     "iopub.status.idle": "2022-12-15T18:15:30.472466Z",
     "shell.execute_reply": "2022-12-15T18:15:30.471902Z"
    },
    "papermill": {
     "duration": 2.433227,
     "end_time": "2022-12-15T18:15:30.473323",
     "exception": false,
     "start_time": "2022-12-15T18:15:28.040096",
     "status": "completed"
    },
    "tags": []
   },
   "outputs": [
    {
     "data": {
      "text/plain": [
       "count    75466.000000\n",
       "mean         0.008291\n",
       "std          0.077818\n",
       "min          0.000000\n",
       "25%          0.000000\n",
       "50%          0.000000\n",
       "75%          0.000000\n",
       "max          1.000000\n",
       "dtype: float64"
      ]
     },
     "execution_count": 35,
     "metadata": {},
     "output_type": "execute_result"
    }
   ],
   "source": [
    "gene_corrs_flat.describe()"
   ]
  },
  {
   "cell_type": "code",
   "execution_count": 36,
   "id": "b3815678-0f93-4b35-897b-a9d047a2aa78",
   "metadata": {
    "execution": {
     "iopub.execute_input": "2022-12-15T18:15:35.218364Z",
     "iopub.status.busy": "2022-12-15T18:15:35.217879Z",
     "iopub.status.idle": "2022-12-15T18:15:35.246681Z",
     "shell.execute_reply": "2022-12-15T18:15:35.246112Z"
    },
    "papermill": {
     "duration": 2.280475,
     "end_time": "2022-12-15T18:15:35.247616",
     "exception": false,
     "start_time": "2022-12-15T18:15:32.967141",
     "status": "completed"
    },
    "tags": []
   },
   "outputs": [
    {
     "data": {
      "text/plain": [
       "0.00    0.000000\n",
       "0.05    0.000000\n",
       "0.10    0.000000\n",
       "0.15    0.000000\n",
       "0.20    0.000000\n",
       "0.25    0.000000\n",
       "0.30    0.000000\n",
       "0.35    0.000000\n",
       "0.40    0.000000\n",
       "0.45    0.000000\n",
       "0.50    0.000000\n",
       "0.55    0.000000\n",
       "0.60    0.000000\n",
       "0.65    0.000000\n",
       "0.70    0.000000\n",
       "0.75    0.000000\n",
       "0.80    0.000000\n",
       "0.85    0.000000\n",
       "0.90    0.003271\n",
       "0.95    0.007827\n",
       "dtype: float64"
      ]
     },
     "metadata": {},
     "output_type": "display_data"
    }
   ],
   "source": [
    "gene_corrs_quantiles = gene_corrs_flat.quantile(np.arange(0, 1, 0.05))\n",
    "display(gene_corrs_quantiles)"
   ]
  },
  {
   "cell_type": "markdown",
   "id": "87134509-b145-4a10-8bc9-b7e914c2b0fa",
   "metadata": {
    "papermill": {
     "duration": 2.387163,
     "end_time": "2022-12-15T18:15:40.011732",
     "exception": false,
     "start_time": "2022-12-15T18:15:37.624569",
     "status": "completed"
    },
    "tags": []
   },
   "source": [
    "## Positive definiteness"
   ]
  },
  {
   "cell_type": "code",
   "execution_count": 37,
   "id": "07d9a9a1-a4f7-48aa-b916-6d42a8cc6186",
   "metadata": {
    "execution": {
     "iopub.execute_input": "2022-12-15T18:15:44.878648Z",
     "iopub.status.busy": "2022-12-15T18:15:44.878383Z",
     "iopub.status.idle": "2022-12-15T18:15:44.923438Z",
     "shell.execute_reply": "2022-12-15T18:15:44.923121Z"
    },
    "papermill": {
     "duration": 2.392894,
     "end_time": "2022-12-15T18:15:44.924226",
     "exception": false,
     "start_time": "2022-12-15T18:15:42.531332",
     "status": "completed"
    },
    "tags": []
   },
   "outputs": [
    {
     "data": {
      "text/plain": [
       "0"
      ]
     },
     "metadata": {},
     "output_type": "display_data"
    },
    {
     "data": {
      "text/plain": [
       "array([], dtype=float64)"
      ]
     },
     "metadata": {},
     "output_type": "display_data"
    }
   ],
   "source": [
    "# print negative eigenvalues\n",
    "eigs = np.linalg.eigvals(gene_corrs_df.to_numpy())\n",
    "display(len(eigs[eigs < 0]))\n",
    "display(eigs[eigs < 0])"
   ]
  },
  {
   "cell_type": "code",
   "execution_count": 38,
   "id": "6e218436-c3c5-4028-8c94-a4fa6260efce",
   "metadata": {
    "execution": {
     "iopub.execute_input": "2022-12-15T18:15:49.530974Z",
     "iopub.status.busy": "2022-12-15T18:15:49.530467Z",
     "iopub.status.idle": "2022-12-15T18:15:49.555403Z",
     "shell.execute_reply": "2022-12-15T18:15:49.554712Z"
    },
    "papermill": {
     "duration": 2.411204,
     "end_time": "2022-12-15T18:15:49.556355",
     "exception": false,
     "start_time": "2022-12-15T18:15:47.145151",
     "status": "completed"
    },
    "tags": []
   },
   "outputs": [
    {
     "name": "stdout",
     "output_type": "stream",
     "text": [
      "Cholesky decomposition failed: Matrix is not positive definite\n"
     ]
    }
   ],
   "source": [
    "try:\n",
    "    chol_mat = np.linalg.cholesky(gene_corrs_df.to_numpy())\n",
    "    cov_inv = np.linalg.inv(chol_mat)\n",
    "    print(\"Works!\")\n",
    "except Exception as e:\n",
    "    print(f\"Cholesky decomposition failed: {str(e)}\")"
   ]
  },
  {
   "cell_type": "code",
   "execution_count": 39,
   "id": "dd8827fb-faf9-4c7c-9454-015e94752706",
   "metadata": {
    "execution": {
     "iopub.execute_input": "2022-12-15T18:15:54.364840Z",
     "iopub.status.busy": "2022-12-15T18:15:54.364359Z",
     "iopub.status.idle": "2022-12-15T18:15:54.401195Z",
     "shell.execute_reply": "2022-12-15T18:15:54.400421Z"
    },
    "papermill": {
     "duration": 2.503616,
     "end_time": "2022-12-15T18:15:54.402161",
     "exception": false,
     "start_time": "2022-12-15T18:15:51.898545",
     "status": "completed"
    },
    "tags": []
   },
   "outputs": [
    {
     "name": "stdout",
     "output_type": "stream",
     "text": [
      "Cholesky decomposition failed (statsmodels.GLS): Matrix is not positive definite\n"
     ]
    }
   ],
   "source": [
    "try:\n",
    "    # decomposition used by statsmodels.GLS\n",
    "    cholsigmainv = np.linalg.cholesky(np.linalg.inv(gene_corrs_df.to_numpy())).T\n",
    "    print(\"Works!\")\n",
    "except Exception as e:\n",
    "    print(f\"Cholesky decomposition failed (statsmodels.GLS): {str(e)}\")"
   ]
  },
  {
   "cell_type": "markdown",
   "id": "8e60a080-edb2-4e9c-b2ef-22961693200c",
   "metadata": {
    "papermill": {
     "duration": 2.374638,
     "end_time": "2022-12-15T18:15:59.048374",
     "exception": false,
     "start_time": "2022-12-15T18:15:56.673736",
     "status": "completed"
    },
    "tags": []
   },
   "source": [
    "## Plot: distribution"
   ]
  },
  {
   "cell_type": "code",
   "execution_count": 40,
   "id": "8301126b-a7d4-4744-9c7d-f0f86eb6f54c",
   "metadata": {
    "execution": {
     "iopub.execute_input": "2022-12-15T18:16:03.786329Z",
     "iopub.status.busy": "2022-12-15T18:16:03.785902Z",
     "iopub.status.idle": "2022-12-15T18:16:04.268851Z",
     "shell.execute_reply": "2022-12-15T18:16:04.268465Z"
    },
    "papermill": {
     "duration": 2.895197,
     "end_time": "2022-12-15T18:16:04.269805",
     "exception": false,
     "start_time": "2022-12-15T18:16:01.374608",
     "status": "completed"
    },
    "tags": []
   },
   "outputs": [
    {
     "data": {
      "image/png": "[encoded data removed]",
      "text/plain": [
       "<Figure size 700x700 with 1 Axes>"
      ]
     },
     "metadata": {},
     "output_type": "display_data"
    }
   ],
   "source": [
    "with sns.plotting_context(\"paper\", font_scale=1.5):\n",
    "    g = sns.displot(gene_corrs_flat, kde=True, height=7)\n",
    "    g.ax.set_title(\n",
    "        f\"Distribution of gene correlation values in chromosome {CHROMOSOME}\"\n",
    "    )"
   ]
  },
  {
   "cell_type": "markdown",
   "id": "cbd52bca-d878-4a2f-b684-5c83aa3038d4",
   "metadata": {
    "papermill": {
     "duration": 2.240991,
     "end_time": "2022-12-15T18:16:08.875216",
     "exception": false,
     "start_time": "2022-12-15T18:16:06.634225",
     "status": "completed"
    },
    "tags": []
   },
   "source": [
    "## Plot: heatmap"
   ]
  },
  {
   "cell_type": "code",
   "execution_count": 41,
   "id": "d03fe63a-c7b2-4fb9-a53c-db362ce843c9",
   "metadata": {
    "execution": {
     "iopub.execute_input": "2022-12-15T18:16:13.596924Z",
     "iopub.status.busy": "2022-12-15T18:16:13.596535Z",
     "iopub.status.idle": "2022-12-15T18:16:13.616661Z",
     "shell.execute_reply": "2022-12-15T18:16:13.616064Z"
    },
    "papermill": {
     "duration": 2.33181,
     "end_time": "2022-12-15T18:16:13.617633",
     "exception": false,
     "start_time": "2022-12-15T18:16:11.285823",
     "status": "completed"
    },
    "tags": []
   },
   "outputs": [
    {
     "data": {
      "text/plain": [
       "'0.0 / 0.05'"
      ]
     },
     "metadata": {},
     "output_type": "display_data"
    }
   ],
   "source": [
    "vmin_val = min(0.00, gene_corrs_quantiles[0.10])\n",
    "vmax_val = max(0.05, gene_corrs_quantiles[0.90])\n",
    "display(f\"{vmin_val} / {vmax_val}\")"
   ]
  },
  {
   "cell_type": "code",
   "execution_count": 42,
   "id": "dc41b70b-5bcc-4d9e-9f33-a22c4a94dab5",
   "metadata": {
    "execution": {
     "iopub.execute_input": "2022-12-15T18:16:18.261811Z",
     "iopub.status.busy": "2022-12-15T18:16:18.261171Z",
     "iopub.status.idle": "2022-12-15T18:16:18.574509Z",
     "shell.execute_reply": "2022-12-15T18:16:18.573977Z"
    },
    "papermill": {
     "duration": 2.56056,
     "end_time": "2022-12-15T18:16:18.575399",
     "exception": false,
     "start_time": "2022-12-15T18:16:16.014839",
     "status": "completed"
    },
    "tags": []
   },
   "outputs": [
    {
     "data": {
      "text/plain": [
       "Text(0.5, 1.0, 'Gene correlations in chromosome 12')"
      ]
     },
     "execution_count": 42,
     "metadata": {},
     "output_type": "execute_result"
    },
    {
     "data": {
      "image/png": "[encoded data removed]",
      "text/plain": [
       "<Figure size 1000x1000 with 2 Axes>"
      ]
     },
     "metadata": {},
     "output_type": "display_data"
    }
   ],
   "source": [
    "f, ax = plt.subplots(figsize=(10, 10))\n",
    "sns.heatmap(\n",
    "    gene_corrs_df,\n",
    "    xticklabels=False,\n",
    "    yticklabels=False,\n",
    "    square=True,\n",
    "    vmin=vmin_val,\n",
    "    vmax=vmax_val,\n",
    "    cmap=\"rocket_r\",\n",
    "    ax=ax,\n",
    ")\n",
    "ax.set_title(f\"Gene correlations in chromosome {CHROMOSOME}\")"
   ]
  },
  {
   "cell_type": "code",
   "execution_count": null,
   "id": "b25e3ead",
   "metadata": {
    "papermill": {
     "duration": 2.313098,
     "end_time": "2022-12-15T18:16:23.278868",
     "exception": false,
     "start_time": "2022-12-15T18:16:20.965770",
     "status": "completed"
    },
    "tags": []
   },
   "outputs": [],
   "source": []
  }
 ],
 "metadata": {
  "jupytext": {
   "cell_metadata_filter": "all,-execution,-papermill,-trusted",
   "formats": "ipynb,py//py:percent"
  },
  "kernelspec": {
   "display_name": "Python 3 (ipykernel)",
   "language": "python",
   "name": "python3"
  },
  "language_info": {
   "codemirror_mode": {
    "name": "ipython",
    "version": 3
   },
   "file_extension": ".py",
   "mimetype": "text/x-python",
   "name": "python",
   "nbconvert_exporter": "python",
   "pygments_lexer": "ipython3",
   "version": "3.10.6"
  },
  "papermill": {
   "default_parameters": {},
   "duration": 622.089891,
   "end_time": "2022-12-15T18:16:29.130073",
   "environment_variables": {},
   "exception": null,
   "input_path": "projects/asthma-copd/nbs/20_gene_corrs/jobs/05-gene_expr_correlations.ipynb",
   "output_path": "projects/asthma-copd/nbs/20_gene_corrs/jobs/../output/aco/05-gene_expr_correlations-chr12.run.ipynb",
   "parameters": {
    "CHROMOSOME": 12,
    "COHORT_NAME": "aco",
    "OUTPUT_DIR_BASE": "/opt/data/projects/asthma-copd/results/gls_phenoplier",
    "PHENOPLIER_NOTEBOOK_FILEPATH": "projects/asthma-copd/nbs/20_gene_corrs/jobs/05-gene_expr_correlations.ipynb"
   },
   "start_time": "2022-12-15T18:06:07.040182",
   "version": "2.2.2"
  }
 },
 "nbformat": 4,
 "nbformat_minor": 5
}
