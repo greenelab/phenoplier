{
 "cells": [
  {
   "cell_type": "markdown",
   "id": "7a6632fb",
   "metadata": {
    "papermill": {
     "duration": 0.005017,
     "end_time": "2022-12-15T18:02:20.957582",
     "exception": false,
     "start_time": "2022-12-15T18:02:20.952565",
     "status": "completed"
    },
    "tags": []
   },
   "source": [
    "# Description"
   ]
  },
  {
   "cell_type": "markdown",
   "id": "7097c346",
   "metadata": {
    "papermill": {
     "duration": 0.004578,
     "end_time": "2022-12-15T18:02:20.971638",
     "exception": false,
     "start_time": "2022-12-15T18:02:20.967060",
     "status": "completed"
    },
    "tags": []
   },
   "source": [
    "(Please, take a look at the README.md file in this directory for instructions on how to run this notebook)\n",
    "\n",
    "This notebook computes predicted expression correlations between all genes in the MultiPLIER models.\n",
    "\n",
    "It has specicfic parameters for papermill (see under `Settings` below).\n",
    "It can be configured to run on a single chromosome to run in parallel.\n",
    "\n",
    "This notebook is not directly run. See README.md."
   ]
  },
  {
   "cell_type": "markdown",
   "id": "c61d8427",
   "metadata": {
    "papermill": {
     "duration": 0.004873,
     "end_time": "2022-12-15T18:02:20.981793",
     "exception": false,
     "start_time": "2022-12-15T18:02:20.976920",
     "status": "completed"
    },
    "tags": []
   },
   "source": [
    "# Modules"
   ]
  },
  {
   "cell_type": "code",
   "execution_count": 1,
   "id": "bbc0234f",
   "metadata": {
    "execution": {
     "iopub.execute_input": "2022-12-15T18:02:20.992486Z",
     "iopub.status.busy": "2022-12-15T18:02:20.992143Z",
     "iopub.status.idle": "2022-12-15T18:02:21.007202Z",
     "shell.execute_reply": "2022-12-15T18:02:21.006664Z"
    },
    "papermill": {
     "duration": 0.021131,
     "end_time": "2022-12-15T18:02:21.008142",
     "exception": false,
     "start_time": "2022-12-15T18:02:20.987011",
     "status": "completed"
    },
    "tags": []
   },
   "outputs": [],
   "source": [
    "%load_ext autoreload\n",
    "%autoreload 2"
   ]
  },
  {
   "cell_type": "code",
   "execution_count": 2,
   "id": "1d5f5a59",
   "metadata": {
    "execution": {
     "iopub.execute_input": "2022-12-15T18:02:21.019285Z",
     "iopub.status.busy": "2022-12-15T18:02:21.019064Z",
     "iopub.status.idle": "2022-12-15T18:02:22.023714Z",
     "shell.execute_reply": "2022-12-15T18:02:22.023283Z"
    },
    "papermill": {
     "duration": 1.011967,
     "end_time": "2022-12-15T18:02:22.025205",
     "exception": false,
     "start_time": "2022-12-15T18:02:21.013238",
     "status": "completed"
    },
    "tags": []
   },
   "outputs": [],
   "source": [
    "from random import sample, seed\n",
    "import warnings\n",
    "from pathlib import Path\n",
    "import pickle\n",
    "import traceback\n",
    "\n",
    "import numpy as np\n",
    "from scipy.spatial.distance import squareform\n",
    "import pandas as pd\n",
    "from tqdm import tqdm\n",
    "import matplotlib.pyplot as plt\n",
    "import seaborn as sns\n",
    "\n",
    "import conf\n",
    "from entity import Gene"
   ]
  },
  {
   "cell_type": "markdown",
   "id": "1eac24b5",
   "metadata": {
    "papermill": {
     "duration": 0.011502,
     "end_time": "2022-12-15T18:02:22.047207",
     "exception": false,
     "start_time": "2022-12-15T18:02:22.035705",
     "status": "completed"
    },
    "tags": []
   },
   "source": [
    "# Settings"
   ]
  },
  {
   "cell_type": "code",
   "execution_count": 3,
   "id": "ca4560ba",
   "metadata": {
    "execution": {
     "iopub.execute_input": "2022-12-15T18:02:22.064287Z",
     "iopub.status.busy": "2022-12-15T18:02:22.064059Z",
     "iopub.status.idle": "2022-12-15T18:02:22.077633Z",
     "shell.execute_reply": "2022-12-15T18:02:22.077223Z"
    },
    "papermill": {
     "duration": 0.023673,
     "end_time": "2022-12-15T18:02:22.078958",
     "exception": false,
     "start_time": "2022-12-15T18:02:22.055285",
     "status": "completed"
    },
    "tags": [
     "parameters"
    ]
   },
   "outputs": [],
   "source": [
    "# a cohort name (it could be something like UK_BIOBANK, etc)\n",
    "COHORT_NAME = None\n",
    "\n",
    "# reference panel such as 1000G or GTEX_V8\n",
    "REFERENCE_PANEL = \"GTEX_V8\"\n",
    "\n",
    "# predictions models such as MASHR or ELASTIC_NET\n",
    "EQTL_MODEL = \"MASHR\"\n",
    "\n",
    "# this is the default value used in S-MultiXcan to select the\n",
    "# top principal components of the expression correlation matrix\n",
    "SMULTIXCAN_CONDITION_NUMBER = 30\n",
    "\n",
    "# specifies a single chromosome value\n",
    "CHROMOSOME = None\n",
    "\n",
    "# If True, computes the correlation between closeby genes only (see\n",
    "# entity.Gene.within_distance for more details). Otherwise, it computes\n",
    "# correlations for all genes in a chromosome\n",
    "COMPUTE_CORRELATIONS_WITHIN_DISTANCE = True\n",
    "\n",
    "# if True, then it will continue if a gene pair correlation fails,\n",
    "# printing the warning/error for debugging. If False, any warning/error\n",
    "# will be thrown\n",
    "DEBUG_MODE = False\n",
    "\n",
    "# output dir\n",
    "OUTPUT_DIR_BASE = None"
   ]
  },
  {
   "cell_type": "code",
   "execution_count": 4,
   "id": "1ce4f2dd",
   "metadata": {
    "execution": {
     "iopub.execute_input": "2022-12-15T18:02:22.096966Z",
     "iopub.status.busy": "2022-12-15T18:02:22.096736Z",
     "iopub.status.idle": "2022-12-15T18:02:22.109635Z",
     "shell.execute_reply": "2022-12-15T18:02:22.109237Z"
    },
    "papermill": {
     "duration": 0.023127,
     "end_time": "2022-12-15T18:02:22.111072",
     "exception": false,
     "start_time": "2022-12-15T18:02:22.087945",
     "status": "completed"
    },
    "tags": [
     "injected-parameters"
    ]
   },
   "outputs": [],
   "source": [
    "# Parameters\n",
    "PHENOPLIER_NOTEBOOK_FILEPATH = (\n",
    "    \"projects/asthma-copd/nbs/20_gene_corrs/jobs/05-gene_expr_correlations.ipynb\"\n",
    ")\n",
    "COHORT_NAME = \"aco\"\n",
    "CHROMOSOME = 4\n",
    "OUTPUT_DIR_BASE = \"/opt/data/projects/asthma-copd/results/gls_phenoplier\"\n"
   ]
  },
  {
   "cell_type": "code",
   "execution_count": 5,
   "id": "3190631f-27fc-480f-b18e-571d580425a5",
   "metadata": {
    "execution": {
     "iopub.execute_input": "2022-12-15T18:02:22.126901Z",
     "iopub.status.busy": "2022-12-15T18:02:22.126286Z",
     "iopub.status.idle": "2022-12-15T18:02:22.154088Z",
     "shell.execute_reply": "2022-12-15T18:02:22.153551Z"
    },
    "papermill": {
     "duration": 0.036922,
     "end_time": "2022-12-15T18:02:22.155372",
     "exception": false,
     "start_time": "2022-12-15T18:02:22.118450",
     "status": "completed"
    },
    "tags": []
   },
   "outputs": [
    {
     "data": {
      "text/plain": [
       "'Cohort name: aco'"
      ]
     },
     "metadata": {},
     "output_type": "display_data"
    }
   ],
   "source": [
    "assert COHORT_NAME is not None and len(COHORT_NAME) > 0, \"A cohort name must be given\"\n",
    "\n",
    "COHORT_NAME = COHORT_NAME.lower()\n",
    "display(f\"Cohort name: {COHORT_NAME}\")"
   ]
  },
  {
   "cell_type": "code",
   "execution_count": 6,
   "id": "f53ba19b-0f93-4fa2-a047-63b375939d1a",
   "metadata": {
    "execution": {
     "iopub.execute_input": "2022-12-15T18:02:22.172541Z",
     "iopub.status.busy": "2022-12-15T18:02:22.172180Z",
     "iopub.status.idle": "2022-12-15T18:02:22.196450Z",
     "shell.execute_reply": "2022-12-15T18:02:22.195750Z"
    },
    "papermill": {
     "duration": 0.035564,
     "end_time": "2022-12-15T18:02:22.198117",
     "exception": false,
     "start_time": "2022-12-15T18:02:22.162553",
     "status": "completed"
    },
    "tags": []
   },
   "outputs": [
    {
     "data": {
      "text/plain": [
       "'Reference panel: GTEX_V8'"
      ]
     },
     "metadata": {},
     "output_type": "display_data"
    }
   ],
   "source": [
    "assert (\n",
    "    REFERENCE_PANEL is not None and len(REFERENCE_PANEL) > 0\n",
    "), \"A reference panel must be given\"\n",
    "\n",
    "display(f\"Reference panel: {REFERENCE_PANEL}\")"
   ]
  },
  {
   "cell_type": "code",
   "execution_count": 7,
   "id": "e024d130-c139-429a-9c6e-ccf149e297b0",
   "metadata": {
    "execution": {
     "iopub.execute_input": "2022-12-15T18:02:22.216915Z",
     "iopub.status.busy": "2022-12-15T18:02:22.216436Z",
     "iopub.status.idle": "2022-12-15T18:02:22.241006Z",
     "shell.execute_reply": "2022-12-15T18:02:22.240294Z"
    },
    "papermill": {
     "duration": 0.035584,
     "end_time": "2022-12-15T18:02:22.242422",
     "exception": false,
     "start_time": "2022-12-15T18:02:22.206838",
     "status": "completed"
    },
    "tags": []
   },
   "outputs": [
    {
     "data": {
      "text/plain": [
       "'eQTL model: MASHR) / mashr_'"
      ]
     },
     "metadata": {},
     "output_type": "display_data"
    }
   ],
   "source": [
    "assert (\n",
    "    EQTL_MODEL is not None and len(EQTL_MODEL) > 0\n",
    "), \"A prediction/eQTL model must be given\"\n",
    "\n",
    "EQTL_MODEL_FILES_PREFIX = conf.PHENOMEXCAN[\"PREDICTION_MODELS\"][f\"{EQTL_MODEL}_PREFIX\"]\n",
    "display(f\"eQTL model: {EQTL_MODEL}) / {EQTL_MODEL_FILES_PREFIX}\")"
   ]
  },
  {
   "cell_type": "code",
   "execution_count": 8,
   "id": "552a7f63-a18c-4d3e-bb6a-94f99b431291",
   "metadata": {
    "execution": {
     "iopub.execute_input": "2022-12-15T18:02:22.261900Z",
     "iopub.status.busy": "2022-12-15T18:02:22.261619Z",
     "iopub.status.idle": "2022-12-15T18:02:22.283813Z",
     "shell.execute_reply": "2022-12-15T18:02:22.282189Z"
    },
    "papermill": {
     "duration": 0.033735,
     "end_time": "2022-12-15T18:02:22.285110",
     "exception": false,
     "start_time": "2022-12-15T18:02:22.251375",
     "status": "completed"
    },
    "tags": []
   },
   "outputs": [
    {
     "data": {
      "text/plain": [
       "'S-MultiXcan condition number: 30'"
      ]
     },
     "metadata": {},
     "output_type": "display_data"
    }
   ],
   "source": [
    "assert (\n",
    "    SMULTIXCAN_CONDITION_NUMBER is not None and SMULTIXCAN_CONDITION_NUMBER > 0\n",
    "), \"The S-MultiXcan condition number (positive integer) must be given\"\n",
    "\n",
    "display(f\"S-MultiXcan condition number: {SMULTIXCAN_CONDITION_NUMBER}\")"
   ]
  },
  {
   "cell_type": "code",
   "execution_count": 9,
   "id": "f34a336f-548e-4afe-8955-90eaea4f42c6",
   "metadata": {
    "execution": {
     "iopub.execute_input": "2022-12-15T18:02:22.303871Z",
     "iopub.status.busy": "2022-12-15T18:02:22.303421Z",
     "iopub.status.idle": "2022-12-15T18:02:22.323572Z",
     "shell.execute_reply": "2022-12-15T18:02:22.323092Z"
    },
    "papermill": {
     "duration": 0.030869,
     "end_time": "2022-12-15T18:02:22.324811",
     "exception": false,
     "start_time": "2022-12-15T18:02:22.293942",
     "status": "completed"
    },
    "tags": []
   },
   "outputs": [
    {
     "data": {
      "text/plain": [
       "'Working on chromosome 4'"
      ]
     },
     "metadata": {},
     "output_type": "display_data"
    }
   ],
   "source": [
    "assert CHROMOSOME is not None and (\n",
    "    1 <= CHROMOSOME <= 22\n",
    "), \"You have to select one chromosome (format: number between 1 and 22)\"\n",
    "\n",
    "display(f\"Working on chromosome {CHROMOSOME}\")"
   ]
  },
  {
   "cell_type": "code",
   "execution_count": 10,
   "id": "ab8e96e8-06b5-4363-9dcd-dc4d78cc27f7",
   "metadata": {
    "execution": {
     "iopub.execute_input": "2022-12-15T18:02:22.343441Z",
     "iopub.status.busy": "2022-12-15T18:02:22.343189Z",
     "iopub.status.idle": "2022-12-15T18:02:22.362580Z",
     "shell.execute_reply": "2022-12-15T18:02:22.362098Z"
    },
    "papermill": {
     "duration": 0.030153,
     "end_time": "2022-12-15T18:02:22.363808",
     "exception": false,
     "start_time": "2022-12-15T18:02:22.333655",
     "status": "completed"
    },
    "tags": []
   },
   "outputs": [
    {
     "data": {
      "text/plain": [
       "'Compute correlation within distance True'"
      ]
     },
     "metadata": {},
     "output_type": "display_data"
    }
   ],
   "source": [
    "display(f\"Compute correlation within distance {COMPUTE_CORRELATIONS_WITHIN_DISTANCE}\")"
   ]
  },
  {
   "cell_type": "code",
   "execution_count": 11,
   "id": "b393b698-77e3-4ba2-8ac1-e14d51aa988f",
   "metadata": {
    "execution": {
     "iopub.execute_input": "2022-12-15T18:02:22.383309Z",
     "iopub.status.busy": "2022-12-15T18:02:22.383086Z",
     "iopub.status.idle": "2022-12-15T18:02:22.397495Z",
     "shell.execute_reply": "2022-12-15T18:02:22.397080Z"
    },
    "papermill": {
     "duration": 0.025288,
     "end_time": "2022-12-15T18:02:22.398742",
     "exception": false,
     "start_time": "2022-12-15T18:02:22.373454",
     "status": "completed"
    },
    "tags": []
   },
   "outputs": [
    {
     "data": {
      "text/plain": [
       "'Using output dir base: /opt/data/projects/asthma-copd/results/gls_phenoplier/gene_corrs/aco'"
      ]
     },
     "metadata": {},
     "output_type": "display_data"
    }
   ],
   "source": [
    "assert (\n",
    "    OUTPUT_DIR_BASE is not None and len(OUTPUT_DIR_BASE) > 0\n",
    "), \"Output directory path must be given\"\n",
    "\n",
    "OUTPUT_DIR_BASE = (Path(OUTPUT_DIR_BASE) / \"gene_corrs\" / COHORT_NAME).resolve()\n",
    "\n",
    "OUTPUT_DIR_BASE.mkdir(parents=True, exist_ok=True)\n",
    "\n",
    "display(f\"Using output dir base: {OUTPUT_DIR_BASE}\")"
   ]
  },
  {
   "cell_type": "markdown",
   "id": "d2ba085e",
   "metadata": {
    "papermill": {
     "duration": 0.008902,
     "end_time": "2022-12-15T18:02:22.416978",
     "exception": false,
     "start_time": "2022-12-15T18:02:22.408076",
     "status": "completed"
    },
    "tags": []
   },
   "source": [
    "# Load data"
   ]
  },
  {
   "cell_type": "markdown",
   "id": "7dcb8db7",
   "metadata": {
    "papermill": {
     "duration": 0.009375,
     "end_time": "2022-12-15T18:02:22.435357",
     "exception": false,
     "start_time": "2022-12-15T18:02:22.425982",
     "status": "completed"
    },
    "tags": []
   },
   "source": [
    "## GWAS variants"
   ]
  },
  {
   "cell_type": "code",
   "execution_count": 12,
   "id": "29434c4e-8cd3-4b9b-82e4-b5a251d9dd19",
   "metadata": {
    "execution": {
     "iopub.execute_input": "2022-12-15T18:02:22.454231Z",
     "iopub.status.busy": "2022-12-15T18:02:22.454011Z",
     "iopub.status.idle": "2022-12-15T18:02:24.584888Z",
     "shell.execute_reply": "2022-12-15T18:02:24.584397Z"
    },
    "papermill": {
     "duration": 2.142298,
     "end_time": "2022-12-15T18:02:24.586711",
     "exception": false,
     "start_time": "2022-12-15T18:02:22.444413",
     "status": "completed"
    },
    "tags": []
   },
   "outputs": [],
   "source": [
    "with open(OUTPUT_DIR_BASE / \"gwas_variant_ids.pkl\", \"rb\") as handle:\n",
    "    gwas_variants_ids_set = pickle.load(handle)"
   ]
  },
  {
   "cell_type": "code",
   "execution_count": 13,
   "id": "b9d9dec2-4a76-4bf9-bde2-e24c95acb8a0",
   "metadata": {
    "execution": {
     "iopub.execute_input": "2022-12-15T18:02:24.608384Z",
     "iopub.status.busy": "2022-12-15T18:02:24.608051Z",
     "iopub.status.idle": "2022-12-15T18:02:24.623428Z",
     "shell.execute_reply": "2022-12-15T18:02:24.623046Z"
    },
    "papermill": {
     "duration": 0.027972,
     "end_time": "2022-12-15T18:02:24.624999",
     "exception": false,
     "start_time": "2022-12-15T18:02:24.597027",
     "status": "completed"
    },
    "tags": []
   },
   "outputs": [
    {
     "data": {
      "text/plain": [
       "8561476"
      ]
     },
     "execution_count": 13,
     "metadata": {},
     "output_type": "execute_result"
    }
   ],
   "source": [
    "len(gwas_variants_ids_set)"
   ]
  },
  {
   "cell_type": "code",
   "execution_count": 14,
   "id": "4235b06a-6034-4ee4-a0a3-2ae35d122418",
   "metadata": {
    "execution": {
     "iopub.execute_input": "2022-12-15T18:02:24.647263Z",
     "iopub.status.busy": "2022-12-15T18:02:24.647072Z",
     "iopub.status.idle": "2022-12-15T18:02:25.090065Z",
     "shell.execute_reply": "2022-12-15T18:02:25.089755Z"
    },
    "papermill": {
     "duration": 0.455418,
     "end_time": "2022-12-15T18:02:25.091563",
     "exception": false,
     "start_time": "2022-12-15T18:02:24.636145",
     "status": "completed"
    },
    "tags": []
   },
   "outputs": [
    {
     "data": {
      "text/plain": [
       "['chr5_106529900_G_A_b38',\n",
       " 'chr6_34845760_C_T_b38',\n",
       " 'chr7_75749870_C_T_b38',\n",
       " 'chr10_19654687_G_A_b38',\n",
       " 'chr8_132242871_C_T_b38']"
      ]
     },
     "execution_count": 14,
     "metadata": {},
     "output_type": "execute_result"
    }
   ],
   "source": [
    "list(gwas_variants_ids_set)[:5]"
   ]
  },
  {
   "cell_type": "markdown",
   "id": "07866999-2305-41f9-a144-e69c9122c212",
   "metadata": {
    "papermill": {
     "duration": 0.009778,
     "end_time": "2022-12-15T18:02:25.111704",
     "exception": false,
     "start_time": "2022-12-15T18:02:25.101926",
     "status": "completed"
    },
    "tags": []
   },
   "source": [
    "## S-PrediXcan tissue models"
   ]
  },
  {
   "cell_type": "code",
   "execution_count": 15,
   "id": "780611d9-77c8-405f-90a4-f271f7b09397",
   "metadata": {
    "execution": {
     "iopub.execute_input": "2022-12-15T18:02:25.133073Z",
     "iopub.status.busy": "2022-12-15T18:02:25.132823Z",
     "iopub.status.idle": "2022-12-15T18:02:25.900630Z",
     "shell.execute_reply": "2022-12-15T18:02:25.900180Z"
    },
    "papermill": {
     "duration": 0.779569,
     "end_time": "2022-12-15T18:02:25.901828",
     "exception": false,
     "start_time": "2022-12-15T18:02:25.122259",
     "status": "completed"
    },
    "tags": []
   },
   "outputs": [],
   "source": [
    "spredixcan_genes_models = pd.read_pickle(OUTPUT_DIR_BASE / \"gene_tissues.pkl\")"
   ]
  },
  {
   "cell_type": "code",
   "execution_count": 16,
   "id": "726dd1f6-9557-4225-91fa-b3b879ea96e1",
   "metadata": {
    "execution": {
     "iopub.execute_input": "2022-12-15T18:02:25.913284Z",
     "iopub.status.busy": "2022-12-15T18:02:25.913067Z",
     "iopub.status.idle": "2022-12-15T18:02:25.927060Z",
     "shell.execute_reply": "2022-12-15T18:02:25.926682Z"
    },
    "papermill": {
     "duration": 0.020632,
     "end_time": "2022-12-15T18:02:25.927894",
     "exception": false,
     "start_time": "2022-12-15T18:02:25.907262",
     "status": "completed"
    },
    "tags": []
   },
   "outputs": [
    {
     "data": {
      "text/plain": [
       "(6442, 5)"
      ]
     },
     "execution_count": 16,
     "metadata": {},
     "output_type": "execute_result"
    }
   ],
   "source": [
    "spredixcan_genes_models.shape"
   ]
  },
  {
   "cell_type": "code",
   "execution_count": 17,
   "id": "944a1b48-222c-4eb0-b252-b9de2cbca215",
   "metadata": {
    "execution": {
     "iopub.execute_input": "2022-12-15T18:02:25.939797Z",
     "iopub.status.busy": "2022-12-15T18:02:25.939568Z",
     "iopub.status.idle": "2022-12-15T18:02:25.958631Z",
     "shell.execute_reply": "2022-12-15T18:02:25.958219Z"
    },
    "papermill": {
     "duration": 0.025788,
     "end_time": "2022-12-15T18:02:25.959447",
     "exception": false,
     "start_time": "2022-12-15T18:02:25.933659",
     "status": "completed"
    },
    "tags": []
   },
   "outputs": [
    {
     "data": {
      "text/html": [
       "<div>\n",
       "<style scoped>\n",
       "    .dataframe tbody tr th:only-of-type {\n",
       "        vertical-align: middle;\n",
       "    }\n",
       "\n",
       "    .dataframe tbody tr th {\n",
       "        vertical-align: top;\n",
       "    }\n",
       "\n",
       "    .dataframe thead th {\n",
       "        text-align: right;\n",
       "    }\n",
       "</style>\n",
       "<table border=\"1\" class=\"dataframe\">\n",
       "  <thead>\n",
       "    <tr style=\"text-align: right;\">\n",
       "      <th></th>\n",
       "      <th>gene_name</th>\n",
       "      <th>tissue</th>\n",
       "      <th>n_tissues</th>\n",
       "      <th>n_snps_used_sum</th>\n",
       "      <th>n_snps_in_model_sum</th>\n",
       "    </tr>\n",
       "    <tr>\n",
       "      <th>gene_id</th>\n",
       "      <th></th>\n",
       "      <th></th>\n",
       "      <th></th>\n",
       "      <th></th>\n",
       "      <th></th>\n",
       "    </tr>\n",
       "  </thead>\n",
       "  <tbody>\n",
       "    <tr>\n",
       "      <th>ENSG00000000419</th>\n",
       "      <td>DPM1</td>\n",
       "      <td>(Brain_Substantia_nigra, Brain_Hypothalamus)</td>\n",
       "      <td>2</td>\n",
       "      <td>2</td>\n",
       "      <td>2</td>\n",
       "    </tr>\n",
       "    <tr>\n",
       "      <th>ENSG00000000938</th>\n",
       "      <td>FGR</td>\n",
       "      <td>(Skin_Not_Sun_Exposed_Suprapubic, Brain_Spinal...</td>\n",
       "      <td>36</td>\n",
       "      <td>40</td>\n",
       "      <td>40</td>\n",
       "    </tr>\n",
       "    <tr>\n",
       "      <th>ENSG00000000971</th>\n",
       "      <td>CFH</td>\n",
       "      <td>(Heart_Atrial_Appendage, Cells_Cultured_fibrob...</td>\n",
       "      <td>34</td>\n",
       "      <td>44</td>\n",
       "      <td>44</td>\n",
       "    </tr>\n",
       "    <tr>\n",
       "      <th>ENSG00000001084</th>\n",
       "      <td>GCLC</td>\n",
       "      <td>(Cells_Cultured_fibroblasts, Skin_Not_Sun_Expo...</td>\n",
       "      <td>32</td>\n",
       "      <td>46</td>\n",
       "      <td>46</td>\n",
       "    </tr>\n",
       "    <tr>\n",
       "      <th>ENSG00000001167</th>\n",
       "      <td>NFYA</td>\n",
       "      <td>(Heart_Atrial_Appendage, Cells_Cultured_fibrob...</td>\n",
       "      <td>40</td>\n",
       "      <td>47</td>\n",
       "      <td>48</td>\n",
       "    </tr>\n",
       "  </tbody>\n",
       "</table>\n",
       "</div>"
      ],
      "text/plain": [
       "                gene_name                                             tissue  \\\n",
       "gene_id                                                                        \n",
       "ENSG00000000419      DPM1       (Brain_Substantia_nigra, Brain_Hypothalamus)   \n",
       "ENSG00000000938       FGR  (Skin_Not_Sun_Exposed_Suprapubic, Brain_Spinal...   \n",
       "ENSG00000000971       CFH  (Heart_Atrial_Appendage, Cells_Cultured_fibrob...   \n",
       "ENSG00000001084      GCLC  (Cells_Cultured_fibroblasts, Skin_Not_Sun_Expo...   \n",
       "ENSG00000001167      NFYA  (Heart_Atrial_Appendage, Cells_Cultured_fibrob...   \n",
       "\n",
       "                 n_tissues  n_snps_used_sum  n_snps_in_model_sum  \n",
       "gene_id                                                           \n",
       "ENSG00000000419          2                2                    2  \n",
       "ENSG00000000938         36               40                   40  \n",
       "ENSG00000000971         34               44                   44  \n",
       "ENSG00000001084         32               46                   46  \n",
       "ENSG00000001167         40               47                   48  "
      ]
     },
     "execution_count": 17,
     "metadata": {},
     "output_type": "execute_result"
    }
   ],
   "source": [
    "spredixcan_genes_models.head()"
   ]
  },
  {
   "cell_type": "code",
   "execution_count": 18,
   "id": "d1c11bb1-be0b-4f40-b360-633d6827109f",
   "metadata": {
    "execution": {
     "iopub.execute_input": "2022-12-15T18:02:25.971305Z",
     "iopub.status.busy": "2022-12-15T18:02:25.971082Z",
     "iopub.status.idle": "2022-12-15T18:02:25.985192Z",
     "shell.execute_reply": "2022-12-15T18:02:25.984771Z"
    },
    "papermill": {
     "duration": 0.021282,
     "end_time": "2022-12-15T18:02:25.986091",
     "exception": false,
     "start_time": "2022-12-15T18:02:25.964809",
     "status": "completed"
    },
    "tags": []
   },
   "outputs": [],
   "source": [
    "assert spredixcan_genes_models.index.is_unique"
   ]
  },
  {
   "cell_type": "markdown",
   "id": "a5b5092c-a13e-47c4-a92a-480fcc08f3ae",
   "metadata": {
    "papermill": {
     "duration": 0.005427,
     "end_time": "2022-12-15T18:02:25.997485",
     "exception": false,
     "start_time": "2022-12-15T18:02:25.992058",
     "status": "completed"
    },
    "tags": []
   },
   "source": [
    "## Gene info"
   ]
  },
  {
   "cell_type": "code",
   "execution_count": 19,
   "id": "7d6bb224-88e9-4358-ac10-43a41d92cdad",
   "metadata": {
    "execution": {
     "iopub.execute_input": "2022-12-15T18:02:26.009694Z",
     "iopub.status.busy": "2022-12-15T18:02:26.009470Z",
     "iopub.status.idle": "2022-12-15T18:02:26.023897Z",
     "shell.execute_reply": "2022-12-15T18:02:26.023564Z"
    },
    "papermill": {
     "duration": 0.02154,
     "end_time": "2022-12-15T18:02:26.024766",
     "exception": false,
     "start_time": "2022-12-15T18:02:26.003226",
     "status": "completed"
    },
    "tags": []
   },
   "outputs": [],
   "source": [
    "genes_info = pd.read_pickle(OUTPUT_DIR_BASE / \"genes_info.pkl\")"
   ]
  },
  {
   "cell_type": "code",
   "execution_count": 20,
   "id": "9e32abfa-546d-483e-8c18-d526e9e05903",
   "metadata": {
    "execution": {
     "iopub.execute_input": "2022-12-15T18:02:26.036831Z",
     "iopub.status.busy": "2022-12-15T18:02:26.036653Z",
     "iopub.status.idle": "2022-12-15T18:02:26.051023Z",
     "shell.execute_reply": "2022-12-15T18:02:26.050633Z"
    },
    "papermill": {
     "duration": 0.021207,
     "end_time": "2022-12-15T18:02:26.051921",
     "exception": false,
     "start_time": "2022-12-15T18:02:26.030714",
     "status": "completed"
    },
    "tags": []
   },
   "outputs": [
    {
     "data": {
      "text/plain": [
       "(6442, 7)"
      ]
     },
     "execution_count": 20,
     "metadata": {},
     "output_type": "execute_result"
    }
   ],
   "source": [
    "genes_info.shape"
   ]
  },
  {
   "cell_type": "code",
   "execution_count": 21,
   "id": "d16c3e92-85ec-468a-9a56-e25a9774a1cb",
   "metadata": {
    "execution": {
     "iopub.execute_input": "2022-12-15T18:02:26.064574Z",
     "iopub.status.busy": "2022-12-15T18:02:26.064129Z",
     "iopub.status.idle": "2022-12-15T18:02:26.080678Z",
     "shell.execute_reply": "2022-12-15T18:02:26.080243Z"
    },
    "papermill": {
     "duration": 0.0242,
     "end_time": "2022-12-15T18:02:26.081949",
     "exception": false,
     "start_time": "2022-12-15T18:02:26.057749",
     "status": "completed"
    },
    "tags": []
   },
   "outputs": [
    {
     "data": {
      "text/html": [
       "<div>\n",
       "<style scoped>\n",
       "    .dataframe tbody tr th:only-of-type {\n",
       "        vertical-align: middle;\n",
       "    }\n",
       "\n",
       "    .dataframe tbody tr th {\n",
       "        vertical-align: top;\n",
       "    }\n",
       "\n",
       "    .dataframe thead th {\n",
       "        text-align: right;\n",
       "    }\n",
       "</style>\n",
       "<table border=\"1\" class=\"dataframe\">\n",
       "  <thead>\n",
       "    <tr style=\"text-align: right;\">\n",
       "      <th></th>\n",
       "      <th>name</th>\n",
       "      <th>id</th>\n",
       "      <th>chr</th>\n",
       "      <th>band</th>\n",
       "      <th>start_position</th>\n",
       "      <th>end_position</th>\n",
       "      <th>gene_length</th>\n",
       "    </tr>\n",
       "  </thead>\n",
       "  <tbody>\n",
       "    <tr>\n",
       "      <th>0</th>\n",
       "      <td>SLC38A1</td>\n",
       "      <td>ENSG00000111371</td>\n",
       "      <td>12</td>\n",
       "      <td>12q13.11</td>\n",
       "      <td>46183063</td>\n",
       "      <td>46270017</td>\n",
       "      <td>86954</td>\n",
       "    </tr>\n",
       "    <tr>\n",
       "      <th>1</th>\n",
       "      <td>SEC61A1</td>\n",
       "      <td>ENSG00000058262</td>\n",
       "      <td>3</td>\n",
       "      <td>3q21.3</td>\n",
       "      <td>128051641</td>\n",
       "      <td>128071683</td>\n",
       "      <td>20042</td>\n",
       "    </tr>\n",
       "    <tr>\n",
       "      <th>2</th>\n",
       "      <td>SYDE1</td>\n",
       "      <td>ENSG00000105137</td>\n",
       "      <td>19</td>\n",
       "      <td>19p13.12</td>\n",
       "      <td>15107401</td>\n",
       "      <td>15114985</td>\n",
       "      <td>7584</td>\n",
       "    </tr>\n",
       "    <tr>\n",
       "      <th>3</th>\n",
       "      <td>GEM</td>\n",
       "      <td>ENSG00000164949</td>\n",
       "      <td>8</td>\n",
       "      <td>8q22.1</td>\n",
       "      <td>94249253</td>\n",
       "      <td>94262350</td>\n",
       "      <td>13097</td>\n",
       "    </tr>\n",
       "    <tr>\n",
       "      <th>4</th>\n",
       "      <td>PTGS2</td>\n",
       "      <td>ENSG00000073756</td>\n",
       "      <td>1</td>\n",
       "      <td>1q31.1</td>\n",
       "      <td>186671791</td>\n",
       "      <td>186680423</td>\n",
       "      <td>8632</td>\n",
       "    </tr>\n",
       "  </tbody>\n",
       "</table>\n",
       "</div>"
      ],
      "text/plain": [
       "      name               id  chr      band  start_position  end_position  \\\n",
       "0  SLC38A1  ENSG00000111371   12  12q13.11        46183063      46270017   \n",
       "1  SEC61A1  ENSG00000058262    3    3q21.3       128051641     128071683   \n",
       "2    SYDE1  ENSG00000105137   19  19p13.12        15107401      15114985   \n",
       "3      GEM  ENSG00000164949    8    8q22.1        94249253      94262350   \n",
       "4    PTGS2  ENSG00000073756    1    1q31.1       186671791     186680423   \n",
       "\n",
       "   gene_length  \n",
       "0        86954  \n",
       "1        20042  \n",
       "2         7584  \n",
       "3        13097  \n",
       "4         8632  "
      ]
     },
     "execution_count": 21,
     "metadata": {},
     "output_type": "execute_result"
    }
   ],
   "source": [
    "genes_info.head()"
   ]
  },
  {
   "cell_type": "markdown",
   "id": "d3843e06",
   "metadata": {
    "papermill": {
     "duration": 0.01134,
     "end_time": "2022-12-15T18:02:26.105005",
     "exception": false,
     "start_time": "2022-12-15T18:02:26.093665",
     "status": "completed"
    },
    "tags": []
   },
   "source": [
    "# Compute correlations"
   ]
  },
  {
   "cell_type": "code",
   "execution_count": 22,
   "id": "cb859c15-d1f3-4006-a74c-2b83c0db9611",
   "metadata": {
    "execution": {
     "iopub.execute_input": "2022-12-15T18:02:26.135333Z",
     "iopub.status.busy": "2022-12-15T18:02:26.134926Z",
     "iopub.status.idle": "2022-12-15T18:02:26.150593Z",
     "shell.execute_reply": "2022-12-15T18:02:26.150179Z"
    },
    "papermill": {
     "duration": 0.035016,
     "end_time": "2022-12-15T18:02:26.151464",
     "exception": false,
     "start_time": "2022-12-15T18:02:26.116448",
     "status": "completed"
    },
    "tags": []
   },
   "outputs": [
    {
     "data": {
      "text/plain": [
       "PosixPath('/opt/data/projects/asthma-copd/results/gls_phenoplier/gene_corrs/aco/by_chr/gene_corrs-chr4.pkl')"
      ]
     },
     "metadata": {},
     "output_type": "display_data"
    }
   ],
   "source": [
    "output_dir = OUTPUT_DIR_BASE / \"by_chr\"\n",
    "output_dir.mkdir(exist_ok=True, parents=True)\n",
    "output_file = output_dir / f\"gene_corrs-chr{CHROMOSOME}.pkl\"\n",
    "display(output_file)"
   ]
  },
  {
   "cell_type": "code",
   "execution_count": 23,
   "id": "aa674fe4-6794-4eed-98fa-32b39d1d4ace",
   "metadata": {
    "execution": {
     "iopub.execute_input": "2022-12-15T18:02:26.163678Z",
     "iopub.status.busy": "2022-12-15T18:02:26.163350Z",
     "iopub.status.idle": "2022-12-15T18:02:26.176153Z",
     "shell.execute_reply": "2022-12-15T18:02:26.175714Z"
    },
    "papermill": {
     "duration": 0.019826,
     "end_time": "2022-12-15T18:02:26.177127",
     "exception": false,
     "start_time": "2022-12-15T18:02:26.157301",
     "status": "completed"
    },
    "tags": []
   },
   "outputs": [],
   "source": [
    "warnings.filterwarnings(\"error\")"
   ]
  },
  {
   "cell_type": "code",
   "execution_count": 24,
   "id": "44d5450b-3baf-43f1-9e2e-4b06f1a785f8",
   "metadata": {
    "execution": {
     "iopub.execute_input": "2022-12-15T18:02:26.190294Z",
     "iopub.status.busy": "2022-12-15T18:02:26.190090Z",
     "iopub.status.idle": "2022-12-15T18:02:26.203796Z",
     "shell.execute_reply": "2022-12-15T18:02:26.203374Z"
    },
    "papermill": {
     "duration": 0.02136,
     "end_time": "2022-12-15T18:02:26.204989",
     "exception": false,
     "start_time": "2022-12-15T18:02:26.183629",
     "status": "completed"
    },
    "tags": []
   },
   "outputs": [],
   "source": [
    "# standard checks\n",
    "all_chrs = genes_info[\"chr\"].dropna().unique()\n",
    "assert all_chrs.shape[0] == 22\n",
    "\n",
    "# select chromosome given by the user\n",
    "assert CHROMOSOME in all_chrs"
   ]
  },
  {
   "cell_type": "code",
   "execution_count": 25,
   "id": "2d7c043c-92a7-4d35-991b-fa69ac1e0268",
   "metadata": {
    "execution": {
     "iopub.execute_input": "2022-12-15T18:02:26.218535Z",
     "iopub.status.busy": "2022-12-15T18:02:26.218188Z",
     "iopub.status.idle": "2022-12-15T18:02:26.233088Z",
     "shell.execute_reply": "2022-12-15T18:02:26.232690Z"
    },
    "papermill": {
     "duration": 0.023279,
     "end_time": "2022-12-15T18:02:26.234392",
     "exception": false,
     "start_time": "2022-12-15T18:02:26.211113",
     "status": "completed"
    },
    "tags": []
   },
   "outputs": [
    {
     "name": "stdout",
     "output_type": "stream",
     "text": [
      "Number of genes in chromosome: 244\n"
     ]
    }
   ],
   "source": [
    "# run only on the chromosome specified\n",
    "all_chrs = [CHROMOSOME]\n",
    "genes_chr = genes_info[genes_info[\"chr\"] == CHROMOSOME]\n",
    "\n",
    "# For testing purposes\n",
    "# genes_chr = genes_chr.sample(n=20)\n",
    "\n",
    "print(f\"Number of genes in chromosome: {genes_chr.shape[0]}\", flush=True)"
   ]
  },
  {
   "cell_type": "code",
   "execution_count": 26,
   "id": "916015d8-2979-46d3-a9b9-1cf5a0932c6a",
   "metadata": {
    "execution": {
     "iopub.execute_input": "2022-12-15T18:02:26.257352Z",
     "iopub.status.busy": "2022-12-15T18:02:26.257139Z",
     "iopub.status.idle": "2022-12-15T18:02:26.270285Z",
     "shell.execute_reply": "2022-12-15T18:02:26.269954Z"
    },
    "papermill": {
     "duration": 0.026343,
     "end_time": "2022-12-15T18:02:26.271697",
     "exception": false,
     "start_time": "2022-12-15T18:02:26.245354",
     "status": "completed"
    },
    "tags": []
   },
   "outputs": [],
   "source": [
    "# sort genes by starting position to make visualizations better later\n",
    "genes_chr = genes_chr.sort_values(\"start_position\")"
   ]
  },
  {
   "cell_type": "code",
   "execution_count": 27,
   "id": "a38aa74a-8ad3-47f6-8ef9-56be0e011774",
   "metadata": {
    "execution": {
     "iopub.execute_input": "2022-12-15T18:02:26.294816Z",
     "iopub.status.busy": "2022-12-15T18:02:26.294640Z",
     "iopub.status.idle": "2022-12-15T18:02:26.308512Z",
     "shell.execute_reply": "2022-12-15T18:02:26.308086Z"
    },
    "papermill": {
     "duration": 0.026905,
     "end_time": "2022-12-15T18:02:26.310015",
     "exception": false,
     "start_time": "2022-12-15T18:02:26.283110",
     "status": "completed"
    },
    "tags": []
   },
   "outputs": [],
   "source": [
    "gene_chr_objs = [Gene(ensembl_id=gene_id) for gene_id in genes_chr[\"id\"]]"
   ]
  },
  {
   "cell_type": "code",
   "execution_count": 28,
   "id": "570f974f-13c3-42b6-ad3a-ce99ca885c1a",
   "metadata": {
    "execution": {
     "iopub.execute_input": "2022-12-15T18:02:26.333439Z",
     "iopub.status.busy": "2022-12-15T18:02:26.333047Z",
     "iopub.status.idle": "2022-12-15T18:02:26.355933Z",
     "shell.execute_reply": "2022-12-15T18:02:26.355241Z"
    },
    "papermill": {
     "duration": 0.036231,
     "end_time": "2022-12-15T18:02:26.357304",
     "exception": false,
     "start_time": "2022-12-15T18:02:26.321073",
     "status": "completed"
    },
    "tags": []
   },
   "outputs": [
    {
     "name": "stdout",
     "output_type": "stream",
     "text": [
      "Number of gene combinations: 29890\n"
     ]
    }
   ],
   "source": [
    "n = len(gene_chr_objs)\n",
    "# diagonal elements + upper triangular matrix\n",
    "n_comb = n + int(n * (n - 1) / 2.0)\n",
    "print(f\"Number of gene combinations: {n_comb}\", flush=True)"
   ]
  },
  {
   "cell_type": "code",
   "execution_count": 29,
   "id": "cdbb90a1",
   "metadata": {
    "execution": {
     "iopub.execute_input": "2022-12-15T18:02:26.374971Z",
     "iopub.status.busy": "2022-12-15T18:02:26.374718Z",
     "iopub.status.idle": "2022-12-15T18:05:18.749030Z",
     "shell.execute_reply": "2022-12-15T18:05:18.748441Z"
    },
    "papermill": {
     "duration": 172.382188,
     "end_time": "2022-12-15T18:05:18.750079",
     "exception": false,
     "start_time": "2022-12-15T18:02:26.367891",
     "status": "completed"
    },
    "tags": []
   },
   "outputs": [
    {
     "name": "stderr",
     "output_type": "stream",
     "text": [
      "ENSG00000109536 / ENSG00000109536: 100%|█████████████████████| 29890/29890 [02:52<00:00, 173.43it/s]\n"
     ]
    },
    {
     "data": {
      "text/plain": [
       "PosixPath('/opt/data/projects/asthma-copd/results/gls_phenoplier/gene_corrs/aco/by_chr/gene_corrs-chr4.pkl')"
      ]
     },
     "metadata": {},
     "output_type": "display_data"
    }
   ],
   "source": [
    "gene_corrs = []\n",
    "gene_corrs_data = np.full(\n",
    "    (n, n),\n",
    "    np.nan,\n",
    "    dtype=np.float64,\n",
    ")\n",
    "\n",
    "i = 0\n",
    "with tqdm(ncols=100, total=n_comb) as pbar:\n",
    "    for gene1_idx in range(0, len(gene_chr_objs)):\n",
    "        gene1_obj = gene_chr_objs[gene1_idx]\n",
    "        gene1_tissues = spredixcan_genes_models.loc[gene1_obj.ensembl_id, \"tissue\"]\n",
    "\n",
    "        for gene2_idx in range(gene1_idx, len(gene_chr_objs)):\n",
    "            gene2_obj = gene_chr_objs[gene2_idx]\n",
    "            gene2_tissues = spredixcan_genes_models.loc[gene2_obj.ensembl_id, \"tissue\"]\n",
    "\n",
    "            pbar.set_description(f\"{gene1_obj.ensembl_id} / {gene2_obj.ensembl_id}\")\n",
    "\n",
    "            try:\n",
    "                r = gene1_obj.get_ssm_correlation(\n",
    "                    other_gene=gene2_obj,\n",
    "                    tissues=gene1_tissues,\n",
    "                    other_tissues=gene2_tissues,\n",
    "                    snps_subset=gwas_variants_ids_set,\n",
    "                    condition_number=SMULTIXCAN_CONDITION_NUMBER,\n",
    "                    reference_panel=REFERENCE_PANEL,\n",
    "                    model_type=EQTL_MODEL,\n",
    "                    use_within_distance=COMPUTE_CORRELATIONS_WITHIN_DISTANCE,\n",
    "                )\n",
    "\n",
    "                if r is None:\n",
    "                    # if r is None, it's very likely because:\n",
    "                    #  * one of the genes has no prediction models\n",
    "                    #  * all the SNPs predictors for the gene are not present in the reference\n",
    "                    #    panel\n",
    "\n",
    "                    r = 0.0\n",
    "\n",
    "                gene_corrs.append(r)\n",
    "\n",
    "                gene_corrs_data[gene1_idx, gene2_idx] = r\n",
    "                gene_corrs_data[gene2_idx, gene1_idx] = r\n",
    "            except Warning as e:\n",
    "                if not DEBUG_MODE:\n",
    "                    raise e\n",
    "\n",
    "                print(\n",
    "                    f\"RuntimeWarning for genes {gene1_obj.ensembl_id} and {gene2_obj.ensembl_id}\",\n",
    "                    flush=True,\n",
    "                )\n",
    "                print(traceback.format_exc(), flush=True)\n",
    "\n",
    "                gene_corrs.append(np.nan)\n",
    "            except Exception as e:\n",
    "                if not DEBUG_MODE:\n",
    "                    raise e\n",
    "\n",
    "                print(\n",
    "                    f\"Exception for genes {gene1_obj.ensembl_id} and {gene2_obj.ensembl_id}\",\n",
    "                    flush=True,\n",
    "                )\n",
    "                print(traceback.format_exc(), flush=True)\n",
    "\n",
    "                gene_corrs.append(np.nan)\n",
    "\n",
    "            pbar.update(1)\n",
    "\n",
    "# create a pandas series\n",
    "gene_corrs_flat = pd.Series(gene_corrs)\n",
    "\n",
    "# save\n",
    "# FIXME: consider saving only the condenced matrix here. See here for\n",
    "# more details: https://github.com/greenelab/phenoplier/pull/38#discussion_r634600813\n",
    "# gene_corrs_data = squareform(np.array(gene_corrs, dtype=np.float64))\n",
    "# np.fill_diagonal(gene_corrs_data, 1.0)\n",
    "\n",
    "gene_chr_ids = [g.ensembl_id for g in gene_chr_objs]\n",
    "gene_corrs_df = pd.DataFrame(\n",
    "    data=gene_corrs_data,\n",
    "    index=gene_chr_ids,\n",
    "    columns=gene_chr_ids,\n",
    ")\n",
    "\n",
    "output_dir.mkdir(exist_ok=True, parents=True)\n",
    "display(output_file)\n",
    "\n",
    "gene_corrs_df.to_pickle(output_file)"
   ]
  },
  {
   "cell_type": "markdown",
   "id": "faa67b51-5373-470f-aa72-2ded53fa6dfe",
   "metadata": {
    "papermill": {
     "duration": 0.9568,
     "end_time": "2022-12-15T18:05:20.793172",
     "exception": false,
     "start_time": "2022-12-15T18:05:19.836372",
     "status": "completed"
    },
    "tags": []
   },
   "source": [
    "# Testing"
   ]
  },
  {
   "cell_type": "code",
   "execution_count": 30,
   "id": "14f7d046-4b55-4896-a56b-990127bcc388",
   "metadata": {
    "execution": {
     "iopub.execute_input": "2022-12-15T18:05:22.794134Z",
     "iopub.status.busy": "2022-12-15T18:05:22.793822Z",
     "iopub.status.idle": "2022-12-15T18:05:22.809835Z",
     "shell.execute_reply": "2022-12-15T18:05:22.809292Z"
    },
    "papermill": {
     "duration": 1.047731,
     "end_time": "2022-12-15T18:05:22.810857",
     "exception": false,
     "start_time": "2022-12-15T18:05:21.763126",
     "status": "completed"
    },
    "tags": []
   },
   "outputs": [
    {
     "data": {
      "text/plain": [
       "(244, 244)"
      ]
     },
     "execution_count": 30,
     "metadata": {},
     "output_type": "execute_result"
    }
   ],
   "source": [
    "gene_corrs_df.shape"
   ]
  },
  {
   "cell_type": "code",
   "execution_count": 31,
   "id": "c7d15414-3297-4537-a7c6-7588c0baeb75",
   "metadata": {
    "execution": {
     "iopub.execute_input": "2022-12-15T18:05:24.767718Z",
     "iopub.status.busy": "2022-12-15T18:05:24.767409Z",
     "iopub.status.idle": "2022-12-15T18:05:24.800368Z",
     "shell.execute_reply": "2022-12-15T18:05:24.799881Z"
    },
    "papermill": {
     "duration": 1.033637,
     "end_time": "2022-12-15T18:05:24.801294",
     "exception": false,
     "start_time": "2022-12-15T18:05:23.767657",
     "status": "completed"
    },
    "tags": []
   },
   "outputs": [
    {
     "data": {
      "text/html": [
       "<div>\n",
       "<style scoped>\n",
       "    .dataframe tbody tr th:only-of-type {\n",
       "        vertical-align: middle;\n",
       "    }\n",
       "\n",
       "    .dataframe tbody tr th {\n",
       "        vertical-align: top;\n",
       "    }\n",
       "\n",
       "    .dataframe thead th {\n",
       "        text-align: right;\n",
       "    }\n",
       "</style>\n",
       "<table border=\"1\" class=\"dataframe\">\n",
       "  <thead>\n",
       "    <tr style=\"text-align: right;\">\n",
       "      <th></th>\n",
       "      <th>ENSG00000272602</th>\n",
       "      <th>ENSG00000131127</th>\n",
       "      <th>ENSG00000174227</th>\n",
       "      <th>ENSG00000133256</th>\n",
       "      <th>ENSG00000169020</th>\n",
       "      <th>ENSG00000215375</th>\n",
       "      <th>ENSG00000169026</th>\n",
       "      <th>ENSG00000178950</th>\n",
       "      <th>ENSG00000145214</th>\n",
       "      <th>ENSG00000145217</th>\n",
       "      <th>...</th>\n",
       "      <th>ENSG00000109674</th>\n",
       "      <th>ENSG00000038002</th>\n",
       "      <th>ENSG00000129187</th>\n",
       "      <th>ENSG00000168310</th>\n",
       "      <th>ENSG00000164305</th>\n",
       "      <th>ENSG00000151726</th>\n",
       "      <th>ENSG00000151729</th>\n",
       "      <th>ENSG00000164342</th>\n",
       "      <th>ENSG00000164344</th>\n",
       "      <th>ENSG00000109536</th>\n",
       "    </tr>\n",
       "  </thead>\n",
       "  <tbody>\n",
       "    <tr>\n",
       "      <th>ENSG00000272602</th>\n",
       "      <td>1.000000</td>\n",
       "      <td>0.055217</td>\n",
       "      <td>0.168507</td>\n",
       "      <td>0.099181</td>\n",
       "      <td>0.096555</td>\n",
       "      <td>0.045839</td>\n",
       "      <td>0.058575</td>\n",
       "      <td>0.012272</td>\n",
       "      <td>0.006584</td>\n",
       "      <td>0.001559</td>\n",
       "      <td>...</td>\n",
       "      <td>0.0</td>\n",
       "      <td>0.0</td>\n",
       "      <td>0.0</td>\n",
       "      <td>0.0</td>\n",
       "      <td>0.0</td>\n",
       "      <td>0.0</td>\n",
       "      <td>0.0</td>\n",
       "      <td>0.0</td>\n",
       "      <td>0.0</td>\n",
       "      <td>0.0</td>\n",
       "    </tr>\n",
       "    <tr>\n",
       "      <th>ENSG00000131127</th>\n",
       "      <td>0.055217</td>\n",
       "      <td>1.000000</td>\n",
       "      <td>0.263330</td>\n",
       "      <td>0.071177</td>\n",
       "      <td>0.036538</td>\n",
       "      <td>0.034526</td>\n",
       "      <td>0.042024</td>\n",
       "      <td>0.007476</td>\n",
       "      <td>0.009562</td>\n",
       "      <td>0.002483</td>\n",
       "      <td>...</td>\n",
       "      <td>0.0</td>\n",
       "      <td>0.0</td>\n",
       "      <td>0.0</td>\n",
       "      <td>0.0</td>\n",
       "      <td>0.0</td>\n",
       "      <td>0.0</td>\n",
       "      <td>0.0</td>\n",
       "      <td>0.0</td>\n",
       "      <td>0.0</td>\n",
       "      <td>0.0</td>\n",
       "    </tr>\n",
       "    <tr>\n",
       "      <th>ENSG00000174227</th>\n",
       "      <td>0.168507</td>\n",
       "      <td>0.263330</td>\n",
       "      <td>1.000000</td>\n",
       "      <td>0.317910</td>\n",
       "      <td>0.158097</td>\n",
       "      <td>0.069939</td>\n",
       "      <td>0.100279</td>\n",
       "      <td>0.007931</td>\n",
       "      <td>0.008272</td>\n",
       "      <td>0.004041</td>\n",
       "      <td>...</td>\n",
       "      <td>0.0</td>\n",
       "      <td>0.0</td>\n",
       "      <td>0.0</td>\n",
       "      <td>0.0</td>\n",
       "      <td>0.0</td>\n",
       "      <td>0.0</td>\n",
       "      <td>0.0</td>\n",
       "      <td>0.0</td>\n",
       "      <td>0.0</td>\n",
       "      <td>0.0</td>\n",
       "    </tr>\n",
       "    <tr>\n",
       "      <th>ENSG00000133256</th>\n",
       "      <td>0.099181</td>\n",
       "      <td>0.071177</td>\n",
       "      <td>0.317910</td>\n",
       "      <td>1.000000</td>\n",
       "      <td>0.261069</td>\n",
       "      <td>0.202711</td>\n",
       "      <td>0.229258</td>\n",
       "      <td>0.018131</td>\n",
       "      <td>0.011481</td>\n",
       "      <td>0.002283</td>\n",
       "      <td>...</td>\n",
       "      <td>0.0</td>\n",
       "      <td>0.0</td>\n",
       "      <td>0.0</td>\n",
       "      <td>0.0</td>\n",
       "      <td>0.0</td>\n",
       "      <td>0.0</td>\n",
       "      <td>0.0</td>\n",
       "      <td>0.0</td>\n",
       "      <td>0.0</td>\n",
       "      <td>0.0</td>\n",
       "    </tr>\n",
       "    <tr>\n",
       "      <th>ENSG00000169020</th>\n",
       "      <td>0.096555</td>\n",
       "      <td>0.036538</td>\n",
       "      <td>0.158097</td>\n",
       "      <td>0.261069</td>\n",
       "      <td>1.000000</td>\n",
       "      <td>0.153616</td>\n",
       "      <td>0.232199</td>\n",
       "      <td>0.006056</td>\n",
       "      <td>0.006638</td>\n",
       "      <td>0.001911</td>\n",
       "      <td>...</td>\n",
       "      <td>0.0</td>\n",
       "      <td>0.0</td>\n",
       "      <td>0.0</td>\n",
       "      <td>0.0</td>\n",
       "      <td>0.0</td>\n",
       "      <td>0.0</td>\n",
       "      <td>0.0</td>\n",
       "      <td>0.0</td>\n",
       "      <td>0.0</td>\n",
       "      <td>0.0</td>\n",
       "    </tr>\n",
       "  </tbody>\n",
       "</table>\n",
       "<p>5 rows × 244 columns</p>\n",
       "</div>"
      ],
      "text/plain": [
       "                 ENSG00000272602  ENSG00000131127  ENSG00000174227  \\\n",
       "ENSG00000272602         1.000000         0.055217         0.168507   \n",
       "ENSG00000131127         0.055217         1.000000         0.263330   \n",
       "ENSG00000174227         0.168507         0.263330         1.000000   \n",
       "ENSG00000133256         0.099181         0.071177         0.317910   \n",
       "ENSG00000169020         0.096555         0.036538         0.158097   \n",
       "\n",
       "                 ENSG00000133256  ENSG00000169020  ENSG00000215375  \\\n",
       "ENSG00000272602         0.099181         0.096555         0.045839   \n",
       "ENSG00000131127         0.071177         0.036538         0.034526   \n",
       "ENSG00000174227         0.317910         0.158097         0.069939   \n",
       "ENSG00000133256         1.000000         0.261069         0.202711   \n",
       "ENSG00000169020         0.261069         1.000000         0.153616   \n",
       "\n",
       "                 ENSG00000169026  ENSG00000178950  ENSG00000145214  \\\n",
       "ENSG00000272602         0.058575         0.012272         0.006584   \n",
       "ENSG00000131127         0.042024         0.007476         0.009562   \n",
       "ENSG00000174227         0.100279         0.007931         0.008272   \n",
       "ENSG00000133256         0.229258         0.018131         0.011481   \n",
       "ENSG00000169020         0.232199         0.006056         0.006638   \n",
       "\n",
       "                 ENSG00000145217  ...  ENSG00000109674  ENSG00000038002  \\\n",
       "ENSG00000272602         0.001559  ...              0.0              0.0   \n",
       "ENSG00000131127         0.002483  ...              0.0              0.0   \n",
       "ENSG00000174227         0.004041  ...              0.0              0.0   \n",
       "ENSG00000133256         0.002283  ...              0.0              0.0   \n",
       "ENSG00000169020         0.001911  ...              0.0              0.0   \n",
       "\n",
       "                 ENSG00000129187  ENSG00000168310  ENSG00000164305  \\\n",
       "ENSG00000272602              0.0              0.0              0.0   \n",
       "ENSG00000131127              0.0              0.0              0.0   \n",
       "ENSG00000174227              0.0              0.0              0.0   \n",
       "ENSG00000133256              0.0              0.0              0.0   \n",
       "ENSG00000169020              0.0              0.0              0.0   \n",
       "\n",
       "                 ENSG00000151726  ENSG00000151729  ENSG00000164342  \\\n",
       "ENSG00000272602              0.0              0.0              0.0   \n",
       "ENSG00000131127              0.0              0.0              0.0   \n",
       "ENSG00000174227              0.0              0.0              0.0   \n",
       "ENSG00000133256              0.0              0.0              0.0   \n",
       "ENSG00000169020              0.0              0.0              0.0   \n",
       "\n",
       "                 ENSG00000164344  ENSG00000109536  \n",
       "ENSG00000272602              0.0              0.0  \n",
       "ENSG00000131127              0.0              0.0  \n",
       "ENSG00000174227              0.0              0.0  \n",
       "ENSG00000133256              0.0              0.0  \n",
       "ENSG00000169020              0.0              0.0  \n",
       "\n",
       "[5 rows x 244 columns]"
      ]
     },
     "execution_count": 31,
     "metadata": {},
     "output_type": "execute_result"
    }
   ],
   "source": [
    "gene_corrs_df.head()"
   ]
  },
  {
   "cell_type": "markdown",
   "id": "dad6603f-01c6-41fb-a6f6-241051207dd8",
   "metadata": {
    "papermill": {
     "duration": 1.435875,
     "end_time": "2022-12-15T18:05:27.698713",
     "exception": false,
     "start_time": "2022-12-15T18:05:26.262838",
     "status": "completed"
    },
    "tags": []
   },
   "source": [
    "## Standard checks and stats"
   ]
  },
  {
   "cell_type": "code",
   "execution_count": 32,
   "id": "286686af-1b7b-4440-8453-6bdcbd8de19c",
   "metadata": {
    "execution": {
     "iopub.execute_input": "2022-12-15T18:05:29.881526Z",
     "iopub.status.busy": "2022-12-15T18:05:29.881164Z",
     "iopub.status.idle": "2022-12-15T18:05:29.902403Z",
     "shell.execute_reply": "2022-12-15T18:05:29.901945Z"
    },
    "papermill": {
     "duration": 1.091834,
     "end_time": "2022-12-15T18:05:29.903552",
     "exception": false,
     "start_time": "2022-12-15T18:05:28.811718",
     "status": "completed"
    },
    "tags": []
   },
   "outputs": [],
   "source": [
    "assert not gene_corrs_df.isna().any(axis=None)"
   ]
  },
  {
   "cell_type": "code",
   "execution_count": 33,
   "id": "00583efc-7068-4270-ad1e-4a418e91db96",
   "metadata": {
    "execution": {
     "iopub.execute_input": "2022-12-15T18:05:32.129897Z",
     "iopub.status.busy": "2022-12-15T18:05:32.129650Z",
     "iopub.status.idle": "2022-12-15T18:05:32.145957Z",
     "shell.execute_reply": "2022-12-15T18:05:32.145475Z"
    },
    "papermill": {
     "duration": 1.217619,
     "end_time": "2022-12-15T18:05:32.146938",
     "exception": false,
     "start_time": "2022-12-15T18:05:30.929319",
     "status": "completed"
    },
    "tags": []
   },
   "outputs": [
    {
     "data": {
      "text/plain": [
       "0.0"
      ]
     },
     "metadata": {},
     "output_type": "display_data"
    }
   ],
   "source": [
    "_min_val = gene_corrs_df.min().min()\n",
    "display(_min_val)\n",
    "assert _min_val >= -0.05"
   ]
  },
  {
   "cell_type": "code",
   "execution_count": 34,
   "id": "d04fb2cf-1050-475b-b855-f5f7cc04092b",
   "metadata": {
    "execution": {
     "iopub.execute_input": "2022-12-15T18:05:34.288524Z",
     "iopub.status.busy": "2022-12-15T18:05:34.288153Z",
     "iopub.status.idle": "2022-12-15T18:05:34.304675Z",
     "shell.execute_reply": "2022-12-15T18:05:34.304131Z"
    },
    "papermill": {
     "duration": 0.973397,
     "end_time": "2022-12-15T18:05:34.305627",
     "exception": false,
     "start_time": "2022-12-15T18:05:33.332230",
     "status": "completed"
    },
    "tags": []
   },
   "outputs": [
    {
     "data": {
      "text/plain": [
       "1.000000000000004"
      ]
     },
     "metadata": {},
     "output_type": "display_data"
    }
   ],
   "source": [
    "_max_val = gene_corrs_df.max().max()  # this captures the diagonal\n",
    "display(_max_val)\n",
    "assert _max_val <= 1.05"
   ]
  },
  {
   "cell_type": "code",
   "execution_count": 35,
   "id": "fe283586-c348-40e0-8841-f6d97bfb021c",
   "metadata": {
    "execution": {
     "iopub.execute_input": "2022-12-15T18:05:36.329195Z",
     "iopub.status.busy": "2022-12-15T18:05:36.328963Z",
     "iopub.status.idle": "2022-12-15T18:05:36.353437Z",
     "shell.execute_reply": "2022-12-15T18:05:36.352912Z"
    },
    "papermill": {
     "duration": 1.013594,
     "end_time": "2022-12-15T18:05:36.354368",
     "exception": false,
     "start_time": "2022-12-15T18:05:35.340774",
     "status": "completed"
    },
    "tags": []
   },
   "outputs": [
    {
     "data": {
      "text/plain": [
       "count    29890.000000\n",
       "mean         0.009899\n",
       "std          0.092620\n",
       "min          0.000000\n",
       "25%          0.000000\n",
       "50%          0.000000\n",
       "75%          0.000000\n",
       "max          1.000000\n",
       "dtype: float64"
      ]
     },
     "execution_count": 35,
     "metadata": {},
     "output_type": "execute_result"
    }
   ],
   "source": [
    "gene_corrs_flat.describe()"
   ]
  },
  {
   "cell_type": "code",
   "execution_count": 36,
   "id": "b3815678-0f93-4b35-897b-a9d047a2aa78",
   "metadata": {
    "execution": {
     "iopub.execute_input": "2022-12-15T18:05:38.350084Z",
     "iopub.status.busy": "2022-12-15T18:05:38.349699Z",
     "iopub.status.idle": "2022-12-15T18:05:38.373715Z",
     "shell.execute_reply": "2022-12-15T18:05:38.373280Z"
    },
    "papermill": {
     "duration": 1.042638,
     "end_time": "2022-12-15T18:05:38.374667",
     "exception": false,
     "start_time": "2022-12-15T18:05:37.332029",
     "status": "completed"
    },
    "tags": []
   },
   "outputs": [
    {
     "data": {
      "text/plain": [
       "0.00    0.000000\n",
       "0.05    0.000000\n",
       "0.10    0.000000\n",
       "0.15    0.000000\n",
       "0.20    0.000000\n",
       "0.25    0.000000\n",
       "0.30    0.000000\n",
       "0.35    0.000000\n",
       "0.40    0.000000\n",
       "0.45    0.000000\n",
       "0.50    0.000000\n",
       "0.55    0.000000\n",
       "0.60    0.000000\n",
       "0.65    0.000000\n",
       "0.70    0.000000\n",
       "0.75    0.000000\n",
       "0.80    0.000000\n",
       "0.85    0.000000\n",
       "0.90    0.000000\n",
       "0.95    0.005648\n",
       "dtype: float64"
      ]
     },
     "metadata": {},
     "output_type": "display_data"
    }
   ],
   "source": [
    "gene_corrs_quantiles = gene_corrs_flat.quantile(np.arange(0, 1, 0.05))\n",
    "display(gene_corrs_quantiles)"
   ]
  },
  {
   "cell_type": "markdown",
   "id": "87134509-b145-4a10-8bc9-b7e914c2b0fa",
   "metadata": {
    "papermill": {
     "duration": 0.966334,
     "end_time": "2022-12-15T18:05:40.347023",
     "exception": false,
     "start_time": "2022-12-15T18:05:39.380689",
     "status": "completed"
    },
    "tags": []
   },
   "source": [
    "## Positive definiteness"
   ]
  },
  {
   "cell_type": "code",
   "execution_count": 37,
   "id": "07d9a9a1-a4f7-48aa-b916-6d42a8cc6186",
   "metadata": {
    "execution": {
     "iopub.execute_input": "2022-12-15T18:05:42.267466Z",
     "iopub.status.busy": "2022-12-15T18:05:42.267224Z",
     "iopub.status.idle": "2022-12-15T18:05:42.290886Z",
     "shell.execute_reply": "2022-12-15T18:05:42.290358Z"
    },
    "papermill": {
     "duration": 1.008622,
     "end_time": "2022-12-15T18:05:42.291862",
     "exception": false,
     "start_time": "2022-12-15T18:05:41.283240",
     "status": "completed"
    },
    "tags": []
   },
   "outputs": [
    {
     "data": {
      "text/plain": [
       "0"
      ]
     },
     "metadata": {},
     "output_type": "display_data"
    },
    {
     "data": {
      "text/plain": [
       "array([], dtype=float64)"
      ]
     },
     "metadata": {},
     "output_type": "display_data"
    }
   ],
   "source": [
    "# print negative eigenvalues\n",
    "eigs = np.linalg.eigvals(gene_corrs_df.to_numpy())\n",
    "display(len(eigs[eigs < 0]))\n",
    "display(eigs[eigs < 0])"
   ]
  },
  {
   "cell_type": "code",
   "execution_count": 38,
   "id": "6e218436-c3c5-4028-8c94-a4fa6260efce",
   "metadata": {
    "execution": {
     "iopub.execute_input": "2022-12-15T18:05:44.506718Z",
     "iopub.status.busy": "2022-12-15T18:05:44.506361Z",
     "iopub.status.idle": "2022-12-15T18:05:44.528892Z",
     "shell.execute_reply": "2022-12-15T18:05:44.528301Z"
    },
    "papermill": {
     "duration": 1.292127,
     "end_time": "2022-12-15T18:05:44.529929",
     "exception": false,
     "start_time": "2022-12-15T18:05:43.237802",
     "status": "completed"
    },
    "tags": []
   },
   "outputs": [
    {
     "name": "stdout",
     "output_type": "stream",
     "text": [
      "Works!\n"
     ]
    }
   ],
   "source": [
    "try:\n",
    "    chol_mat = np.linalg.cholesky(gene_corrs_df.to_numpy())\n",
    "    cov_inv = np.linalg.inv(chol_mat)\n",
    "    print(\"Works!\")\n",
    "except Exception as e:\n",
    "    print(f\"Cholesky decomposition failed: {str(e)}\")"
   ]
  },
  {
   "cell_type": "code",
   "execution_count": 39,
   "id": "dd8827fb-faf9-4c7c-9454-015e94752706",
   "metadata": {
    "execution": {
     "iopub.execute_input": "2022-12-15T18:05:46.564796Z",
     "iopub.status.busy": "2022-12-15T18:05:46.564565Z",
     "iopub.status.idle": "2022-12-15T18:05:46.587462Z",
     "shell.execute_reply": "2022-12-15T18:05:46.586867Z"
    },
    "papermill": {
     "duration": 1.120528,
     "end_time": "2022-12-15T18:05:46.588392",
     "exception": false,
     "start_time": "2022-12-15T18:05:45.467864",
     "status": "completed"
    },
    "tags": []
   },
   "outputs": [
    {
     "name": "stdout",
     "output_type": "stream",
     "text": [
      "Works!\n"
     ]
    }
   ],
   "source": [
    "try:\n",
    "    # decomposition used by statsmodels.GLS\n",
    "    cholsigmainv = np.linalg.cholesky(np.linalg.inv(gene_corrs_df.to_numpy())).T\n",
    "    print(\"Works!\")\n",
    "except Exception as e:\n",
    "    print(f\"Cholesky decomposition failed (statsmodels.GLS): {str(e)}\")"
   ]
  },
  {
   "cell_type": "markdown",
   "id": "8e60a080-edb2-4e9c-b2ef-22961693200c",
   "metadata": {
    "papermill": {
     "duration": 1.025076,
     "end_time": "2022-12-15T18:05:48.704693",
     "exception": false,
     "start_time": "2022-12-15T18:05:47.679617",
     "status": "completed"
    },
    "tags": []
   },
   "source": [
    "## Plot: distribution"
   ]
  },
  {
   "cell_type": "code",
   "execution_count": 40,
   "id": "8301126b-a7d4-4744-9c7d-f0f86eb6f54c",
   "metadata": {
    "execution": {
     "iopub.execute_input": "2022-12-15T18:05:50.725114Z",
     "iopub.status.busy": "2022-12-15T18:05:50.724741Z",
     "iopub.status.idle": "2022-12-15T18:05:51.100005Z",
     "shell.execute_reply": "2022-12-15T18:05:51.099439Z"
    },
    "papermill": {
     "duration": 1.36407,
     "end_time": "2022-12-15T18:05:51.101499",
     "exception": false,
     "start_time": "2022-12-15T18:05:49.737429",
     "status": "completed"
    },
    "tags": []
   },
   "outputs": [
    {
     "data": {
      "image/png": "[encoded data removed]",
      "text/plain": [
       "<Figure size 700x700 with 1 Axes>"
      ]
     },
     "metadata": {},
     "output_type": "display_data"
    }
   ],
   "source": [
    "with sns.plotting_context(\"paper\", font_scale=1.5):\n",
    "    g = sns.displot(gene_corrs_flat, kde=True, height=7)\n",
    "    g.ax.set_title(\n",
    "        f\"Distribution of gene correlation values in chromosome {CHROMOSOME}\"\n",
    "    )"
   ]
  },
  {
   "cell_type": "markdown",
   "id": "cbd52bca-d878-4a2f-b684-5c83aa3038d4",
   "metadata": {
    "papermill": {
     "duration": 1.023335,
     "end_time": "2022-12-15T18:05:53.214287",
     "exception": false,
     "start_time": "2022-12-15T18:05:52.190952",
     "status": "completed"
    },
    "tags": []
   },
   "source": [
    "## Plot: heatmap"
   ]
  },
  {
   "cell_type": "code",
   "execution_count": 41,
   "id": "d03fe63a-c7b2-4fb9-a53c-db362ce843c9",
   "metadata": {
    "execution": {
     "iopub.execute_input": "2022-12-15T18:05:55.213763Z",
     "iopub.status.busy": "2022-12-15T18:05:55.213150Z",
     "iopub.status.idle": "2022-12-15T18:05:55.240866Z",
     "shell.execute_reply": "2022-12-15T18:05:55.240254Z"
    },
    "papermill": {
     "duration": 1.011551,
     "end_time": "2022-12-15T18:05:55.241667",
     "exception": false,
     "start_time": "2022-12-15T18:05:54.230116",
     "status": "completed"
    },
    "tags": []
   },
   "outputs": [
    {
     "data": {
      "text/plain": [
       "'0.0 / 0.05'"
      ]
     },
     "metadata": {},
     "output_type": "display_data"
    }
   ],
   "source": [
    "vmin_val = min(0.00, gene_corrs_quantiles[0.10])\n",
    "vmax_val = max(0.05, gene_corrs_quantiles[0.90])\n",
    "display(f\"{vmin_val} / {vmax_val}\")"
   ]
  },
  {
   "cell_type": "code",
   "execution_count": 42,
   "id": "dc41b70b-5bcc-4d9e-9f33-a22c4a94dab5",
   "metadata": {
    "execution": {
     "iopub.execute_input": "2022-12-15T18:05:57.168391Z",
     "iopub.status.busy": "2022-12-15T18:05:57.167926Z",
     "iopub.status.idle": "2022-12-15T18:05:57.361283Z",
     "shell.execute_reply": "2022-12-15T18:05:57.360845Z"
    },
    "papermill": {
     "duration": 1.127086,
     "end_time": "2022-12-15T18:05:57.363252",
     "exception": false,
     "start_time": "2022-12-15T18:05:56.236166",
     "status": "completed"
    },
    "tags": []
   },
   "outputs": [
    {
     "data": {
      "text/plain": [
       "Text(0.5, 1.0, 'Gene correlations in chromosome 4')"
      ]
     },
     "execution_count": 42,
     "metadata": {},
     "output_type": "execute_result"
    },
    {
     "data": {
      "image/png": "[encoded data removed]",
      "text/plain": [
       "<Figure size 1000x1000 with 2 Axes>"
      ]
     },
     "metadata": {},
     "output_type": "display_data"
    }
   ],
   "source": [
    "f, ax = plt.subplots(figsize=(10, 10))\n",
    "sns.heatmap(\n",
    "    gene_corrs_df,\n",
    "    xticklabels=False,\n",
    "    yticklabels=False,\n",
    "    square=True,\n",
    "    vmin=vmin_val,\n",
    "    vmax=vmax_val,\n",
    "    cmap=\"rocket_r\",\n",
    "    ax=ax,\n",
    ")\n",
    "ax.set_title(f\"Gene correlations in chromosome {CHROMOSOME}\")"
   ]
  },
  {
   "cell_type": "code",
   "execution_count": null,
   "id": "b25e3ead",
   "metadata": {
    "papermill": {
     "duration": 1.030326,
     "end_time": "2022-12-15T18:05:59.494331",
     "exception": false,
     "start_time": "2022-12-15T18:05:58.464005",
     "status": "completed"
    },
    "tags": []
   },
   "outputs": [],
   "source": []
  }
 ],
 "metadata": {
  "jupytext": {
   "cell_metadata_filter": "all,-execution,-papermill,-trusted",
   "formats": "ipynb,py//py:percent"
  },
  "kernelspec": {
   "display_name": "Python 3 (ipykernel)",
   "language": "python",
   "name": "python3"
  },
  "language_info": {
   "codemirror_mode": {
    "name": "ipython",
    "version": 3
   },
   "file_extension": ".py",
   "mimetype": "text/x-python",
   "name": "python",
   "nbconvert_exporter": "python",
   "pygments_lexer": "ipython3",
   "version": "3.10.6"
  },
  "papermill": {
   "default_parameters": {},
   "duration": 224.109607,
   "end_time": "2022-12-15T18:06:04.149137",
   "environment_variables": {},
   "exception": null,
   "input_path": "projects/asthma-copd/nbs/20_gene_corrs/jobs/05-gene_expr_correlations.ipynb",
   "output_path": "projects/asthma-copd/nbs/20_gene_corrs/jobs/../output/aco/05-gene_expr_correlations-chr4.run.ipynb",
   "parameters": {
    "CHROMOSOME": 4,
    "COHORT_NAME": "aco",
    "OUTPUT_DIR_BASE": "/opt/data/projects/asthma-copd/results/gls_phenoplier",
    "PHENOPLIER_NOTEBOOK_FILEPATH": "projects/asthma-copd/nbs/20_gene_corrs/jobs/05-gene_expr_correlations.ipynb"
   },
   "start_time": "2022-12-15T18:02:20.039530",
   "version": "2.2.2"
  }
 },
 "nbformat": 4,
 "nbformat_minor": 5
}
