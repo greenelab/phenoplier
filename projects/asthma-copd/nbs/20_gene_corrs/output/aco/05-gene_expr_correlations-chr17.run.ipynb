{
 "cells": [
  {
   "cell_type": "markdown",
   "id": "7a6632fb",
   "metadata": {
    "papermill": {
     "duration": 0.009319,
     "end_time": "2022-12-15T18:09:09.346065",
     "exception": false,
     "start_time": "2022-12-15T18:09:09.336746",
     "status": "completed"
    },
    "tags": []
   },
   "source": [
    "# Description"
   ]
  },
  {
   "cell_type": "markdown",
   "id": "7097c346",
   "metadata": {
    "papermill": {
     "duration": 0.007377,
     "end_time": "2022-12-15T18:09:09.361052",
     "exception": false,
     "start_time": "2022-12-15T18:09:09.353675",
     "status": "completed"
    },
    "tags": []
   },
   "source": [
    "(Please, take a look at the README.md file in this directory for instructions on how to run this notebook)\n",
    "\n",
    "This notebook computes predicted expression correlations between all genes in the MultiPLIER models.\n",
    "\n",
    "It has specicfic parameters for papermill (see under `Settings` below).\n",
    "It can be configured to run on a single chromosome to run in parallel.\n",
    "\n",
    "This notebook is not directly run. See README.md."
   ]
  },
  {
   "cell_type": "markdown",
   "id": "c61d8427",
   "metadata": {
    "papermill": {
     "duration": 0.007321,
     "end_time": "2022-12-15T18:09:09.375782",
     "exception": false,
     "start_time": "2022-12-15T18:09:09.368461",
     "status": "completed"
    },
    "tags": []
   },
   "source": [
    "# Modules"
   ]
  },
  {
   "cell_type": "code",
   "execution_count": 1,
   "id": "bbc0234f",
   "metadata": {
    "execution": {
     "iopub.execute_input": "2022-12-15T18:09:09.393626Z",
     "iopub.status.busy": "2022-12-15T18:09:09.393265Z",
     "iopub.status.idle": "2022-12-15T18:09:09.411137Z",
     "shell.execute_reply": "2022-12-15T18:09:09.410461Z"
    },
    "papermill": {
     "duration": 0.027636,
     "end_time": "2022-12-15T18:09:09.412423",
     "exception": false,
     "start_time": "2022-12-15T18:09:09.384787",
     "status": "completed"
    },
    "tags": []
   },
   "outputs": [],
   "source": [
    "%load_ext autoreload\n",
    "%autoreload 2"
   ]
  },
  {
   "cell_type": "code",
   "execution_count": 2,
   "id": "1d5f5a59",
   "metadata": {
    "execution": {
     "iopub.execute_input": "2022-12-15T18:09:09.428608Z",
     "iopub.status.busy": "2022-12-15T18:09:09.428379Z",
     "iopub.status.idle": "2022-12-15T18:09:10.242662Z",
     "shell.execute_reply": "2022-12-15T18:09:10.242177Z"
    },
    "papermill": {
     "duration": 0.824219,
     "end_time": "2022-12-15T18:09:10.244271",
     "exception": false,
     "start_time": "2022-12-15T18:09:09.420052",
     "status": "completed"
    },
    "tags": []
   },
   "outputs": [],
   "source": [
    "from random import sample, seed\n",
    "import warnings\n",
    "from pathlib import Path\n",
    "import pickle\n",
    "import traceback\n",
    "\n",
    "import numpy as np\n",
    "from scipy.spatial.distance import squareform\n",
    "import pandas as pd\n",
    "from tqdm import tqdm\n",
    "import matplotlib.pyplot as plt\n",
    "import seaborn as sns\n",
    "\n",
    "import conf\n",
    "from entity import Gene"
   ]
  },
  {
   "cell_type": "markdown",
   "id": "1eac24b5",
   "metadata": {
    "papermill": {
     "duration": 0.023555,
     "end_time": "2022-12-15T18:09:10.274223",
     "exception": false,
     "start_time": "2022-12-15T18:09:10.250668",
     "status": "completed"
    },
    "tags": []
   },
   "source": [
    "# Settings"
   ]
  },
  {
   "cell_type": "code",
   "execution_count": 3,
   "id": "ca4560ba",
   "metadata": {
    "execution": {
     "iopub.execute_input": "2022-12-15T18:09:10.284752Z",
     "iopub.status.busy": "2022-12-15T18:09:10.284399Z",
     "iopub.status.idle": "2022-12-15T18:09:10.299549Z",
     "shell.execute_reply": "2022-12-15T18:09:10.299122Z"
    },
    "papermill": {
     "duration": 0.021199,
     "end_time": "2022-12-15T18:09:10.300464",
     "exception": false,
     "start_time": "2022-12-15T18:09:10.279265",
     "status": "completed"
    },
    "tags": [
     "parameters"
    ]
   },
   "outputs": [],
   "source": [
    "# a cohort name (it could be something like UK_BIOBANK, etc)\n",
    "COHORT_NAME = None\n",
    "\n",
    "# reference panel such as 1000G or GTEX_V8\n",
    "REFERENCE_PANEL = \"GTEX_V8\"\n",
    "\n",
    "# predictions models such as MASHR or ELASTIC_NET\n",
    "EQTL_MODEL = \"MASHR\"\n",
    "\n",
    "# this is the default value used in S-MultiXcan to select the\n",
    "# top principal components of the expression correlation matrix\n",
    "SMULTIXCAN_CONDITION_NUMBER = 30\n",
    "\n",
    "# specifies a single chromosome value\n",
    "CHROMOSOME = None\n",
    "\n",
    "# If True, computes the correlation between closeby genes only (see\n",
    "# entity.Gene.within_distance for more details). Otherwise, it computes\n",
    "# correlations for all genes in a chromosome\n",
    "COMPUTE_CORRELATIONS_WITHIN_DISTANCE = True\n",
    "\n",
    "# if True, then it will continue if a gene pair correlation fails,\n",
    "# printing the warning/error for debugging. If False, any warning/error\n",
    "# will be thrown\n",
    "DEBUG_MODE = False\n",
    "\n",
    "# output dir\n",
    "OUTPUT_DIR_BASE = None"
   ]
  },
  {
   "cell_type": "code",
   "execution_count": 4,
   "id": "3dd45b58",
   "metadata": {
    "execution": {
     "iopub.execute_input": "2022-12-15T18:09:10.309685Z",
     "iopub.status.busy": "2022-12-15T18:09:10.309556Z",
     "iopub.status.idle": "2022-12-15T18:09:10.322934Z",
     "shell.execute_reply": "2022-12-15T18:09:10.322586Z"
    },
    "papermill": {
     "duration": 0.018886,
     "end_time": "2022-12-15T18:09:10.323732",
     "exception": false,
     "start_time": "2022-12-15T18:09:10.304846",
     "status": "completed"
    },
    "tags": [
     "injected-parameters"
    ]
   },
   "outputs": [],
   "source": [
    "# Parameters\n",
    "PHENOPLIER_NOTEBOOK_FILEPATH = (\n",
    "    \"projects/asthma-copd/nbs/20_gene_corrs/jobs/05-gene_expr_correlations.ipynb\"\n",
    ")\n",
    "COHORT_NAME = \"aco\"\n",
    "CHROMOSOME = 17\n",
    "OUTPUT_DIR_BASE = \"/opt/data/projects/asthma-copd/results/gls_phenoplier\"\n"
   ]
  },
  {
   "cell_type": "code",
   "execution_count": 5,
   "id": "3190631f-27fc-480f-b18e-571d580425a5",
   "metadata": {
    "execution": {
     "iopub.execute_input": "2022-12-15T18:09:10.333564Z",
     "iopub.status.busy": "2022-12-15T18:09:10.333307Z",
     "iopub.status.idle": "2022-12-15T18:09:10.355777Z",
     "shell.execute_reply": "2022-12-15T18:09:10.355273Z"
    },
    "papermill": {
     "duration": 0.028089,
     "end_time": "2022-12-15T18:09:10.356675",
     "exception": false,
     "start_time": "2022-12-15T18:09:10.328586",
     "status": "completed"
    },
    "tags": []
   },
   "outputs": [
    {
     "data": {
      "text/plain": [
       "'Cohort name: aco'"
      ]
     },
     "metadata": {},
     "output_type": "display_data"
    }
   ],
   "source": [
    "assert COHORT_NAME is not None and len(COHORT_NAME) > 0, \"A cohort name must be given\"\n",
    "\n",
    "COHORT_NAME = COHORT_NAME.lower()\n",
    "display(f\"Cohort name: {COHORT_NAME}\")"
   ]
  },
  {
   "cell_type": "code",
   "execution_count": 6,
   "id": "f53ba19b-0f93-4fa2-a047-63b375939d1a",
   "metadata": {
    "execution": {
     "iopub.execute_input": "2022-12-15T18:09:10.366589Z",
     "iopub.status.busy": "2022-12-15T18:09:10.366264Z",
     "iopub.status.idle": "2022-12-15T18:09:10.385678Z",
     "shell.execute_reply": "2022-12-15T18:09:10.385158Z"
    },
    "papermill": {
     "duration": 0.025223,
     "end_time": "2022-12-15T18:09:10.386550",
     "exception": false,
     "start_time": "2022-12-15T18:09:10.361327",
     "status": "completed"
    },
    "tags": []
   },
   "outputs": [
    {
     "data": {
      "text/plain": [
       "'Reference panel: GTEX_V8'"
      ]
     },
     "metadata": {},
     "output_type": "display_data"
    }
   ],
   "source": [
    "assert (\n",
    "    REFERENCE_PANEL is not None and len(REFERENCE_PANEL) > 0\n",
    "), \"A reference panel must be given\"\n",
    "\n",
    "display(f\"Reference panel: {REFERENCE_PANEL}\")"
   ]
  },
  {
   "cell_type": "code",
   "execution_count": 7,
   "id": "e024d130-c139-429a-9c6e-ccf149e297b0",
   "metadata": {
    "execution": {
     "iopub.execute_input": "2022-12-15T18:09:10.396697Z",
     "iopub.status.busy": "2022-12-15T18:09:10.396399Z",
     "iopub.status.idle": "2022-12-15T18:09:10.414912Z",
     "shell.execute_reply": "2022-12-15T18:09:10.414422Z"
    },
    "papermill": {
     "duration": 0.024867,
     "end_time": "2022-12-15T18:09:10.415797",
     "exception": false,
     "start_time": "2022-12-15T18:09:10.390930",
     "status": "completed"
    },
    "tags": []
   },
   "outputs": [
    {
     "data": {
      "text/plain": [
       "'eQTL model: MASHR) / mashr_'"
      ]
     },
     "metadata": {},
     "output_type": "display_data"
    }
   ],
   "source": [
    "assert (\n",
    "    EQTL_MODEL is not None and len(EQTL_MODEL) > 0\n",
    "), \"A prediction/eQTL model must be given\"\n",
    "\n",
    "EQTL_MODEL_FILES_PREFIX = conf.PHENOMEXCAN[\"PREDICTION_MODELS\"][f\"{EQTL_MODEL}_PREFIX\"]\n",
    "display(f\"eQTL model: {EQTL_MODEL}) / {EQTL_MODEL_FILES_PREFIX}\")"
   ]
  },
  {
   "cell_type": "code",
   "execution_count": 8,
   "id": "552a7f63-a18c-4d3e-bb6a-94f99b431291",
   "metadata": {
    "execution": {
     "iopub.execute_input": "2022-12-15T18:09:10.425667Z",
     "iopub.status.busy": "2022-12-15T18:09:10.425356Z",
     "iopub.status.idle": "2022-12-15T18:09:10.444421Z",
     "shell.execute_reply": "2022-12-15T18:09:10.443890Z"
    },
    "papermill": {
     "duration": 0.025405,
     "end_time": "2022-12-15T18:09:10.445742",
     "exception": false,
     "start_time": "2022-12-15T18:09:10.420337",
     "status": "completed"
    },
    "tags": []
   },
   "outputs": [
    {
     "data": {
      "text/plain": [
       "'S-MultiXcan condition number: 30'"
      ]
     },
     "metadata": {},
     "output_type": "display_data"
    }
   ],
   "source": [
    "assert (\n",
    "    SMULTIXCAN_CONDITION_NUMBER is not None and SMULTIXCAN_CONDITION_NUMBER > 0\n",
    "), \"The S-MultiXcan condition number (positive integer) must be given\"\n",
    "\n",
    "display(f\"S-MultiXcan condition number: {SMULTIXCAN_CONDITION_NUMBER}\")"
   ]
  },
  {
   "cell_type": "code",
   "execution_count": 9,
   "id": "f34a336f-548e-4afe-8955-90eaea4f42c6",
   "metadata": {
    "execution": {
     "iopub.execute_input": "2022-12-15T18:09:10.462808Z",
     "iopub.status.busy": "2022-12-15T18:09:10.462503Z",
     "iopub.status.idle": "2022-12-15T18:09:10.482881Z",
     "shell.execute_reply": "2022-12-15T18:09:10.482505Z"
    },
    "papermill": {
     "duration": 0.030043,
     "end_time": "2022-12-15T18:09:10.484111",
     "exception": false,
     "start_time": "2022-12-15T18:09:10.454068",
     "status": "completed"
    },
    "tags": []
   },
   "outputs": [
    {
     "data": {
      "text/plain": [
       "'Working on chromosome 17'"
      ]
     },
     "metadata": {},
     "output_type": "display_data"
    }
   ],
   "source": [
    "assert CHROMOSOME is not None and (\n",
    "    1 <= CHROMOSOME <= 22\n",
    "), \"You have to select one chromosome (format: number between 1 and 22)\"\n",
    "\n",
    "display(f\"Working on chromosome {CHROMOSOME}\")"
   ]
  },
  {
   "cell_type": "code",
   "execution_count": 10,
   "id": "ab8e96e8-06b5-4363-9dcd-dc4d78cc27f7",
   "metadata": {
    "execution": {
     "iopub.execute_input": "2022-12-15T18:09:10.501944Z",
     "iopub.status.busy": "2022-12-15T18:09:10.501815Z",
     "iopub.status.idle": "2022-12-15T18:09:10.520902Z",
     "shell.execute_reply": "2022-12-15T18:09:10.520431Z"
    },
    "papermill": {
     "duration": 0.028886,
     "end_time": "2022-12-15T18:09:10.522113",
     "exception": false,
     "start_time": "2022-12-15T18:09:10.493227",
     "status": "completed"
    },
    "tags": []
   },
   "outputs": [
    {
     "data": {
      "text/plain": [
       "'Compute correlation within distance True'"
      ]
     },
     "metadata": {},
     "output_type": "display_data"
    }
   ],
   "source": [
    "display(f\"Compute correlation within distance {COMPUTE_CORRELATIONS_WITHIN_DISTANCE}\")"
   ]
  },
  {
   "cell_type": "code",
   "execution_count": 11,
   "id": "b393b698-77e3-4ba2-8ac1-e14d51aa988f",
   "metadata": {
    "execution": {
     "iopub.execute_input": "2022-12-15T18:09:10.539256Z",
     "iopub.status.busy": "2022-12-15T18:09:10.539121Z",
     "iopub.status.idle": "2022-12-15T18:09:10.554145Z",
     "shell.execute_reply": "2022-12-15T18:09:10.553766Z"
    },
    "papermill": {
     "duration": 0.024794,
     "end_time": "2022-12-15T18:09:10.555327",
     "exception": false,
     "start_time": "2022-12-15T18:09:10.530533",
     "status": "completed"
    },
    "tags": []
   },
   "outputs": [
    {
     "data": {
      "text/plain": [
       "'Using output dir base: /opt/data/projects/asthma-copd/results/gls_phenoplier/gene_corrs/aco'"
      ]
     },
     "metadata": {},
     "output_type": "display_data"
    }
   ],
   "source": [
    "assert (\n",
    "    OUTPUT_DIR_BASE is not None and len(OUTPUT_DIR_BASE) > 0\n",
    "), \"Output directory path must be given\"\n",
    "\n",
    "OUTPUT_DIR_BASE = (Path(OUTPUT_DIR_BASE) / \"gene_corrs\" / COHORT_NAME).resolve()\n",
    "\n",
    "OUTPUT_DIR_BASE.mkdir(parents=True, exist_ok=True)\n",
    "\n",
    "display(f\"Using output dir base: {OUTPUT_DIR_BASE}\")"
   ]
  },
  {
   "cell_type": "markdown",
   "id": "d2ba085e",
   "metadata": {
    "papermill": {
     "duration": 0.008804,
     "end_time": "2022-12-15T18:09:10.572845",
     "exception": false,
     "start_time": "2022-12-15T18:09:10.564041",
     "status": "completed"
    },
    "tags": []
   },
   "source": [
    "# Load data"
   ]
  },
  {
   "cell_type": "markdown",
   "id": "7dcb8db7",
   "metadata": {
    "papermill": {
     "duration": 0.008035,
     "end_time": "2022-12-15T18:09:10.588983",
     "exception": false,
     "start_time": "2022-12-15T18:09:10.580948",
     "status": "completed"
    },
    "tags": []
   },
   "source": [
    "## GWAS variants"
   ]
  },
  {
   "cell_type": "code",
   "execution_count": 12,
   "id": "29434c4e-8cd3-4b9b-82e4-b5a251d9dd19",
   "metadata": {
    "execution": {
     "iopub.execute_input": "2022-12-15T18:09:10.606583Z",
     "iopub.status.busy": "2022-12-15T18:09:10.606203Z",
     "iopub.status.idle": "2022-12-15T18:09:13.224609Z",
     "shell.execute_reply": "2022-12-15T18:09:13.223920Z"
    },
    "papermill": {
     "duration": 2.629255,
     "end_time": "2022-12-15T18:09:13.226423",
     "exception": false,
     "start_time": "2022-12-15T18:09:10.597168",
     "status": "completed"
    },
    "tags": []
   },
   "outputs": [],
   "source": [
    "with open(OUTPUT_DIR_BASE / \"gwas_variant_ids.pkl\", \"rb\") as handle:\n",
    "    gwas_variants_ids_set = pickle.load(handle)"
   ]
  },
  {
   "cell_type": "code",
   "execution_count": 13,
   "id": "b9d9dec2-4a76-4bf9-bde2-e24c95acb8a0",
   "metadata": {
    "execution": {
     "iopub.execute_input": "2022-12-15T18:09:13.245008Z",
     "iopub.status.busy": "2022-12-15T18:09:13.244794Z",
     "iopub.status.idle": "2022-12-15T18:09:13.260858Z",
     "shell.execute_reply": "2022-12-15T18:09:13.260395Z"
    },
    "papermill": {
     "duration": 0.026957,
     "end_time": "2022-12-15T18:09:13.262102",
     "exception": false,
     "start_time": "2022-12-15T18:09:13.235145",
     "status": "completed"
    },
    "tags": []
   },
   "outputs": [
    {
     "data": {
      "text/plain": [
       "8561476"
      ]
     },
     "execution_count": 13,
     "metadata": {},
     "output_type": "execute_result"
    }
   ],
   "source": [
    "len(gwas_variants_ids_set)"
   ]
  },
  {
   "cell_type": "code",
   "execution_count": 14,
   "id": "4235b06a-6034-4ee4-a0a3-2ae35d122418",
   "metadata": {
    "execution": {
     "iopub.execute_input": "2022-12-15T18:09:13.280198Z",
     "iopub.status.busy": "2022-12-15T18:09:13.279729Z",
     "iopub.status.idle": "2022-12-15T18:09:13.912522Z",
     "shell.execute_reply": "2022-12-15T18:09:13.912010Z"
    },
    "papermill": {
     "duration": 0.643028,
     "end_time": "2022-12-15T18:09:13.913749",
     "exception": false,
     "start_time": "2022-12-15T18:09:13.270721",
     "status": "completed"
    },
    "tags": []
   },
   "outputs": [
    {
     "data": {
      "text/plain": [
       "['chr20_40822348_C_A_b38',\n",
       " 'chr5_23609548_T_C_b38',\n",
       " 'chr11_24106356_A_C_b38',\n",
       " 'chr12_68140211_G_A_b38',\n",
       " 'chr7_142298281_A_T_b38']"
      ]
     },
     "execution_count": 14,
     "metadata": {},
     "output_type": "execute_result"
    }
   ],
   "source": [
    "list(gwas_variants_ids_set)[:5]"
   ]
  },
  {
   "cell_type": "markdown",
   "id": "07866999-2305-41f9-a144-e69c9122c212",
   "metadata": {
    "papermill": {
     "duration": 0.008314,
     "end_time": "2022-12-15T18:09:13.931064",
     "exception": false,
     "start_time": "2022-12-15T18:09:13.922750",
     "status": "completed"
    },
    "tags": []
   },
   "source": [
    "## S-PrediXcan tissue models"
   ]
  },
  {
   "cell_type": "code",
   "execution_count": 15,
   "id": "780611d9-77c8-405f-90a4-f271f7b09397",
   "metadata": {
    "execution": {
     "iopub.execute_input": "2022-12-15T18:09:13.947133Z",
     "iopub.status.busy": "2022-12-15T18:09:13.946740Z",
     "iopub.status.idle": "2022-12-15T18:09:15.016170Z",
     "shell.execute_reply": "2022-12-15T18:09:15.015416Z"
    },
    "papermill": {
     "duration": 1.077364,
     "end_time": "2022-12-15T18:09:15.017918",
     "exception": false,
     "start_time": "2022-12-15T18:09:13.940554",
     "status": "completed"
    },
    "tags": []
   },
   "outputs": [],
   "source": [
    "spredixcan_genes_models = pd.read_pickle(OUTPUT_DIR_BASE / \"gene_tissues.pkl\")"
   ]
  },
  {
   "cell_type": "code",
   "execution_count": 16,
   "id": "726dd1f6-9557-4225-91fa-b3b879ea96e1",
   "metadata": {
    "execution": {
     "iopub.execute_input": "2022-12-15T18:09:15.035029Z",
     "iopub.status.busy": "2022-12-15T18:09:15.034569Z",
     "iopub.status.idle": "2022-12-15T18:09:15.057599Z",
     "shell.execute_reply": "2022-12-15T18:09:15.056955Z"
    },
    "papermill": {
     "duration": 0.034159,
     "end_time": "2022-12-15T18:09:15.058831",
     "exception": false,
     "start_time": "2022-12-15T18:09:15.024672",
     "status": "completed"
    },
    "tags": []
   },
   "outputs": [
    {
     "data": {
      "text/plain": [
       "(6442, 5)"
      ]
     },
     "execution_count": 16,
     "metadata": {},
     "output_type": "execute_result"
    }
   ],
   "source": [
    "spredixcan_genes_models.shape"
   ]
  },
  {
   "cell_type": "code",
   "execution_count": 17,
   "id": "944a1b48-222c-4eb0-b252-b9de2cbca215",
   "metadata": {
    "execution": {
     "iopub.execute_input": "2022-12-15T18:09:15.078606Z",
     "iopub.status.busy": "2022-12-15T18:09:15.078182Z",
     "iopub.status.idle": "2022-12-15T18:09:15.107650Z",
     "shell.execute_reply": "2022-12-15T18:09:15.107021Z"
    },
    "papermill": {
     "duration": 0.040833,
     "end_time": "2022-12-15T18:09:15.108950",
     "exception": false,
     "start_time": "2022-12-15T18:09:15.068117",
     "status": "completed"
    },
    "tags": []
   },
   "outputs": [
    {
     "data": {
      "text/html": [
       "<div>\n",
       "<style scoped>\n",
       "    .dataframe tbody tr th:only-of-type {\n",
       "        vertical-align: middle;\n",
       "    }\n",
       "\n",
       "    .dataframe tbody tr th {\n",
       "        vertical-align: top;\n",
       "    }\n",
       "\n",
       "    .dataframe thead th {\n",
       "        text-align: right;\n",
       "    }\n",
       "</style>\n",
       "<table border=\"1\" class=\"dataframe\">\n",
       "  <thead>\n",
       "    <tr style=\"text-align: right;\">\n",
       "      <th></th>\n",
       "      <th>gene_name</th>\n",
       "      <th>tissue</th>\n",
       "      <th>n_tissues</th>\n",
       "      <th>n_snps_used_sum</th>\n",
       "      <th>n_snps_in_model_sum</th>\n",
       "    </tr>\n",
       "    <tr>\n",
       "      <th>gene_id</th>\n",
       "      <th></th>\n",
       "      <th></th>\n",
       "      <th></th>\n",
       "      <th></th>\n",
       "      <th></th>\n",
       "    </tr>\n",
       "  </thead>\n",
       "  <tbody>\n",
       "    <tr>\n",
       "      <th>ENSG00000000419</th>\n",
       "      <td>DPM1</td>\n",
       "      <td>(Brain_Hypothalamus, Brain_Substantia_nigra)</td>\n",
       "      <td>2</td>\n",
       "      <td>2</td>\n",
       "      <td>2</td>\n",
       "    </tr>\n",
       "    <tr>\n",
       "      <th>ENSG00000000938</th>\n",
       "      <td>FGR</td>\n",
       "      <td>(Brain_Hypothalamus, Lung, Brain_Spinal_cord_c...</td>\n",
       "      <td>36</td>\n",
       "      <td>40</td>\n",
       "      <td>40</td>\n",
       "    </tr>\n",
       "    <tr>\n",
       "      <th>ENSG00000000971</th>\n",
       "      <td>CFH</td>\n",
       "      <td>(Lung, Brain_Spinal_cord_cervical_c-1, Artery_...</td>\n",
       "      <td>34</td>\n",
       "      <td>44</td>\n",
       "      <td>44</td>\n",
       "    </tr>\n",
       "    <tr>\n",
       "      <th>ENSG00000001084</th>\n",
       "      <td>GCLC</td>\n",
       "      <td>(Adrenal_Gland, Lung, Artery_Tibial, Artery_Co...</td>\n",
       "      <td>32</td>\n",
       "      <td>46</td>\n",
       "      <td>46</td>\n",
       "    </tr>\n",
       "    <tr>\n",
       "      <th>ENSG00000001167</th>\n",
       "      <td>NFYA</td>\n",
       "      <td>(Brain_Hypothalamus, Adrenal_Gland, Lung, Brai...</td>\n",
       "      <td>40</td>\n",
       "      <td>47</td>\n",
       "      <td>48</td>\n",
       "    </tr>\n",
       "  </tbody>\n",
       "</table>\n",
       "</div>"
      ],
      "text/plain": [
       "                gene_name                                             tissue  \\\n",
       "gene_id                                                                        \n",
       "ENSG00000000419      DPM1       (Brain_Hypothalamus, Brain_Substantia_nigra)   \n",
       "ENSG00000000938       FGR  (Brain_Hypothalamus, Lung, Brain_Spinal_cord_c...   \n",
       "ENSG00000000971       CFH  (Lung, Brain_Spinal_cord_cervical_c-1, Artery_...   \n",
       "ENSG00000001084      GCLC  (Adrenal_Gland, Lung, Artery_Tibial, Artery_Co...   \n",
       "ENSG00000001167      NFYA  (Brain_Hypothalamus, Adrenal_Gland, Lung, Brai...   \n",
       "\n",
       "                 n_tissues  n_snps_used_sum  n_snps_in_model_sum  \n",
       "gene_id                                                           \n",
       "ENSG00000000419          2                2                    2  \n",
       "ENSG00000000938         36               40                   40  \n",
       "ENSG00000000971         34               44                   44  \n",
       "ENSG00000001084         32               46                   46  \n",
       "ENSG00000001167         40               47                   48  "
      ]
     },
     "execution_count": 17,
     "metadata": {},
     "output_type": "execute_result"
    }
   ],
   "source": [
    "spredixcan_genes_models.head()"
   ]
  },
  {
   "cell_type": "code",
   "execution_count": 18,
   "id": "d1c11bb1-be0b-4f40-b360-633d6827109f",
   "metadata": {
    "execution": {
     "iopub.execute_input": "2022-12-15T18:09:15.129394Z",
     "iopub.status.busy": "2022-12-15T18:09:15.128963Z",
     "iopub.status.idle": "2022-12-15T18:09:15.151381Z",
     "shell.execute_reply": "2022-12-15T18:09:15.150678Z"
    },
    "papermill": {
     "duration": 0.034069,
     "end_time": "2022-12-15T18:09:15.153150",
     "exception": false,
     "start_time": "2022-12-15T18:09:15.119081",
     "status": "completed"
    },
    "tags": []
   },
   "outputs": [],
   "source": [
    "assert spredixcan_genes_models.index.is_unique"
   ]
  },
  {
   "cell_type": "markdown",
   "id": "a5b5092c-a13e-47c4-a92a-480fcc08f3ae",
   "metadata": {
    "papermill": {
     "duration": 0.009554,
     "end_time": "2022-12-15T18:09:15.172280",
     "exception": false,
     "start_time": "2022-12-15T18:09:15.162726",
     "status": "completed"
    },
    "tags": []
   },
   "source": [
    "## Gene info"
   ]
  },
  {
   "cell_type": "code",
   "execution_count": 19,
   "id": "7d6bb224-88e9-4358-ac10-43a41d92cdad",
   "metadata": {
    "execution": {
     "iopub.execute_input": "2022-12-15T18:09:15.192108Z",
     "iopub.status.busy": "2022-12-15T18:09:15.191690Z",
     "iopub.status.idle": "2022-12-15T18:09:15.210081Z",
     "shell.execute_reply": "2022-12-15T18:09:15.209663Z"
    },
    "papermill": {
     "duration": 0.02975,
     "end_time": "2022-12-15T18:09:15.211391",
     "exception": false,
     "start_time": "2022-12-15T18:09:15.181641",
     "status": "completed"
    },
    "tags": []
   },
   "outputs": [],
   "source": [
    "genes_info = pd.read_pickle(OUTPUT_DIR_BASE / \"genes_info.pkl\")"
   ]
  },
  {
   "cell_type": "code",
   "execution_count": 20,
   "id": "9e32abfa-546d-483e-8c18-d526e9e05903",
   "metadata": {
    "execution": {
     "iopub.execute_input": "2022-12-15T18:09:15.223751Z",
     "iopub.status.busy": "2022-12-15T18:09:15.223380Z",
     "iopub.status.idle": "2022-12-15T18:09:15.238152Z",
     "shell.execute_reply": "2022-12-15T18:09:15.237768Z"
    },
    "papermill": {
     "duration": 0.021779,
     "end_time": "2022-12-15T18:09:15.239206",
     "exception": false,
     "start_time": "2022-12-15T18:09:15.217427",
     "status": "completed"
    },
    "tags": []
   },
   "outputs": [
    {
     "data": {
      "text/plain": [
       "(6442, 7)"
      ]
     },
     "execution_count": 20,
     "metadata": {},
     "output_type": "execute_result"
    }
   ],
   "source": [
    "genes_info.shape"
   ]
  },
  {
   "cell_type": "code",
   "execution_count": 21,
   "id": "d16c3e92-85ec-468a-9a56-e25a9774a1cb",
   "metadata": {
    "execution": {
     "iopub.execute_input": "2022-12-15T18:09:15.254600Z",
     "iopub.status.busy": "2022-12-15T18:09:15.254356Z",
     "iopub.status.idle": "2022-12-15T18:09:15.272374Z",
     "shell.execute_reply": "2022-12-15T18:09:15.271906Z"
    },
    "papermill": {
     "duration": 0.027254,
     "end_time": "2022-12-15T18:09:15.273521",
     "exception": false,
     "start_time": "2022-12-15T18:09:15.246267",
     "status": "completed"
    },
    "tags": []
   },
   "outputs": [
    {
     "data": {
      "text/html": [
       "<div>\n",
       "<style scoped>\n",
       "    .dataframe tbody tr th:only-of-type {\n",
       "        vertical-align: middle;\n",
       "    }\n",
       "\n",
       "    .dataframe tbody tr th {\n",
       "        vertical-align: top;\n",
       "    }\n",
       "\n",
       "    .dataframe thead th {\n",
       "        text-align: right;\n",
       "    }\n",
       "</style>\n",
       "<table border=\"1\" class=\"dataframe\">\n",
       "  <thead>\n",
       "    <tr style=\"text-align: right;\">\n",
       "      <th></th>\n",
       "      <th>name</th>\n",
       "      <th>id</th>\n",
       "      <th>chr</th>\n",
       "      <th>band</th>\n",
       "      <th>start_position</th>\n",
       "      <th>end_position</th>\n",
       "      <th>gene_length</th>\n",
       "    </tr>\n",
       "  </thead>\n",
       "  <tbody>\n",
       "    <tr>\n",
       "      <th>0</th>\n",
       "      <td>SLC38A1</td>\n",
       "      <td>ENSG00000111371</td>\n",
       "      <td>12</td>\n",
       "      <td>12q13.11</td>\n",
       "      <td>46183063</td>\n",
       "      <td>46270017</td>\n",
       "      <td>86954</td>\n",
       "    </tr>\n",
       "    <tr>\n",
       "      <th>1</th>\n",
       "      <td>SEC61A1</td>\n",
       "      <td>ENSG00000058262</td>\n",
       "      <td>3</td>\n",
       "      <td>3q21.3</td>\n",
       "      <td>128051641</td>\n",
       "      <td>128071683</td>\n",
       "      <td>20042</td>\n",
       "    </tr>\n",
       "    <tr>\n",
       "      <th>2</th>\n",
       "      <td>SYDE1</td>\n",
       "      <td>ENSG00000105137</td>\n",
       "      <td>19</td>\n",
       "      <td>19p13.12</td>\n",
       "      <td>15107401</td>\n",
       "      <td>15114985</td>\n",
       "      <td>7584</td>\n",
       "    </tr>\n",
       "    <tr>\n",
       "      <th>3</th>\n",
       "      <td>GEM</td>\n",
       "      <td>ENSG00000164949</td>\n",
       "      <td>8</td>\n",
       "      <td>8q22.1</td>\n",
       "      <td>94249253</td>\n",
       "      <td>94262350</td>\n",
       "      <td>13097</td>\n",
       "    </tr>\n",
       "    <tr>\n",
       "      <th>4</th>\n",
       "      <td>PTGS2</td>\n",
       "      <td>ENSG00000073756</td>\n",
       "      <td>1</td>\n",
       "      <td>1q31.1</td>\n",
       "      <td>186671791</td>\n",
       "      <td>186680423</td>\n",
       "      <td>8632</td>\n",
       "    </tr>\n",
       "  </tbody>\n",
       "</table>\n",
       "</div>"
      ],
      "text/plain": [
       "      name               id  chr      band  start_position  end_position  \\\n",
       "0  SLC38A1  ENSG00000111371   12  12q13.11        46183063      46270017   \n",
       "1  SEC61A1  ENSG00000058262    3    3q21.3       128051641     128071683   \n",
       "2    SYDE1  ENSG00000105137   19  19p13.12        15107401      15114985   \n",
       "3      GEM  ENSG00000164949    8    8q22.1        94249253      94262350   \n",
       "4    PTGS2  ENSG00000073756    1    1q31.1       186671791     186680423   \n",
       "\n",
       "   gene_length  \n",
       "0        86954  \n",
       "1        20042  \n",
       "2         7584  \n",
       "3        13097  \n",
       "4         8632  "
      ]
     },
     "execution_count": 21,
     "metadata": {},
     "output_type": "execute_result"
    }
   ],
   "source": [
    "genes_info.head()"
   ]
  },
  {
   "cell_type": "markdown",
   "id": "d3843e06",
   "metadata": {
    "papermill": {
     "duration": 0.010524,
     "end_time": "2022-12-15T18:09:15.295578",
     "exception": false,
     "start_time": "2022-12-15T18:09:15.285054",
     "status": "completed"
    },
    "tags": []
   },
   "source": [
    "# Compute correlations"
   ]
  },
  {
   "cell_type": "code",
   "execution_count": 22,
   "id": "cb859c15-d1f3-4006-a74c-2b83c0db9611",
   "metadata": {
    "execution": {
     "iopub.execute_input": "2022-12-15T18:09:15.318306Z",
     "iopub.status.busy": "2022-12-15T18:09:15.318009Z",
     "iopub.status.idle": "2022-12-15T18:09:15.340127Z",
     "shell.execute_reply": "2022-12-15T18:09:15.339550Z"
    },
    "papermill": {
     "duration": 0.035937,
     "end_time": "2022-12-15T18:09:15.341462",
     "exception": false,
     "start_time": "2022-12-15T18:09:15.305525",
     "status": "completed"
    },
    "tags": []
   },
   "outputs": [
    {
     "data": {
      "text/plain": [
       "PosixPath('/opt/data/projects/asthma-copd/results/gls_phenoplier/gene_corrs/aco/by_chr/gene_corrs-chr17.pkl')"
      ]
     },
     "metadata": {},
     "output_type": "display_data"
    }
   ],
   "source": [
    "output_dir = OUTPUT_DIR_BASE / \"by_chr\"\n",
    "output_dir.mkdir(exist_ok=True, parents=True)\n",
    "output_file = output_dir / f\"gene_corrs-chr{CHROMOSOME}.pkl\"\n",
    "display(output_file)"
   ]
  },
  {
   "cell_type": "code",
   "execution_count": 23,
   "id": "aa674fe4-6794-4eed-98fa-32b39d1d4ace",
   "metadata": {
    "execution": {
     "iopub.execute_input": "2022-12-15T18:09:15.363013Z",
     "iopub.status.busy": "2022-12-15T18:09:15.362724Z",
     "iopub.status.idle": "2022-12-15T18:09:15.377805Z",
     "shell.execute_reply": "2022-12-15T18:09:15.377254Z"
    },
    "papermill": {
     "duration": 0.0278,
     "end_time": "2022-12-15T18:09:15.379295",
     "exception": false,
     "start_time": "2022-12-15T18:09:15.351495",
     "status": "completed"
    },
    "tags": []
   },
   "outputs": [],
   "source": [
    "warnings.filterwarnings(\"error\")"
   ]
  },
  {
   "cell_type": "code",
   "execution_count": 24,
   "id": "44d5450b-3baf-43f1-9e2e-4b06f1a785f8",
   "metadata": {
    "execution": {
     "iopub.execute_input": "2022-12-15T18:09:15.401783Z",
     "iopub.status.busy": "2022-12-15T18:09:15.401642Z",
     "iopub.status.idle": "2022-12-15T18:09:15.416842Z",
     "shell.execute_reply": "2022-12-15T18:09:15.416284Z"
    },
    "papermill": {
     "duration": 0.028322,
     "end_time": "2022-12-15T18:09:15.418597",
     "exception": false,
     "start_time": "2022-12-15T18:09:15.390275",
     "status": "completed"
    },
    "tags": []
   },
   "outputs": [],
   "source": [
    "# standard checks\n",
    "all_chrs = genes_info[\"chr\"].dropna().unique()\n",
    "assert all_chrs.shape[0] == 22\n",
    "\n",
    "# select chromosome given by the user\n",
    "assert CHROMOSOME in all_chrs"
   ]
  },
  {
   "cell_type": "code",
   "execution_count": 25,
   "id": "2d7c043c-92a7-4d35-991b-fa69ac1e0268",
   "metadata": {
    "execution": {
     "iopub.execute_input": "2022-12-15T18:09:15.440872Z",
     "iopub.status.busy": "2022-12-15T18:09:15.440694Z",
     "iopub.status.idle": "2022-12-15T18:09:15.462792Z",
     "shell.execute_reply": "2022-12-15T18:09:15.462265Z"
    },
    "papermill": {
     "duration": 0.034091,
     "end_time": "2022-12-15T18:09:15.463780",
     "exception": false,
     "start_time": "2022-12-15T18:09:15.429689",
     "status": "completed"
    },
    "tags": []
   },
   "outputs": [
    {
     "name": "stdout",
     "output_type": "stream",
     "text": [
      "Number of genes in chromosome: 410\n"
     ]
    }
   ],
   "source": [
    "# run only on the chromosome specified\n",
    "all_chrs = [CHROMOSOME]\n",
    "genes_chr = genes_info[genes_info[\"chr\"] == CHROMOSOME]\n",
    "\n",
    "# For testing purposes\n",
    "# genes_chr = genes_chr.sample(n=20)\n",
    "\n",
    "print(f\"Number of genes in chromosome: {genes_chr.shape[0]}\", flush=True)"
   ]
  },
  {
   "cell_type": "code",
   "execution_count": 26,
   "id": "916015d8-2979-46d3-a9b9-1cf5a0932c6a",
   "metadata": {
    "execution": {
     "iopub.execute_input": "2022-12-15T18:09:15.477747Z",
     "iopub.status.busy": "2022-12-15T18:09:15.477384Z",
     "iopub.status.idle": "2022-12-15T18:09:15.497696Z",
     "shell.execute_reply": "2022-12-15T18:09:15.497159Z"
    },
    "papermill": {
     "duration": 0.02806,
     "end_time": "2022-12-15T18:09:15.498676",
     "exception": false,
     "start_time": "2022-12-15T18:09:15.470616",
     "status": "completed"
    },
    "tags": []
   },
   "outputs": [],
   "source": [
    "# sort genes by starting position to make visualizations better later\n",
    "genes_chr = genes_chr.sort_values(\"start_position\")"
   ]
  },
  {
   "cell_type": "code",
   "execution_count": 27,
   "id": "a38aa74a-8ad3-47f6-8ef9-56be0e011774",
   "metadata": {
    "execution": {
     "iopub.execute_input": "2022-12-15T18:09:15.513106Z",
     "iopub.status.busy": "2022-12-15T18:09:15.512696Z",
     "iopub.status.idle": "2022-12-15T18:09:15.532968Z",
     "shell.execute_reply": "2022-12-15T18:09:15.532431Z"
    },
    "papermill": {
     "duration": 0.029366,
     "end_time": "2022-12-15T18:09:15.534621",
     "exception": false,
     "start_time": "2022-12-15T18:09:15.505255",
     "status": "completed"
    },
    "tags": []
   },
   "outputs": [],
   "source": [
    "gene_chr_objs = [Gene(ensembl_id=gene_id) for gene_id in genes_chr[\"id\"]]"
   ]
  },
  {
   "cell_type": "code",
   "execution_count": 28,
   "id": "570f974f-13c3-42b6-ad3a-ce99ca885c1a",
   "metadata": {
    "execution": {
     "iopub.execute_input": "2022-12-15T18:09:15.557929Z",
     "iopub.status.busy": "2022-12-15T18:09:15.557630Z",
     "iopub.status.idle": "2022-12-15T18:09:15.577810Z",
     "shell.execute_reply": "2022-12-15T18:09:15.577310Z"
    },
    "papermill": {
     "duration": 0.033143,
     "end_time": "2022-12-15T18:09:15.578869",
     "exception": false,
     "start_time": "2022-12-15T18:09:15.545726",
     "status": "completed"
    },
    "tags": []
   },
   "outputs": [
    {
     "name": "stdout",
     "output_type": "stream",
     "text": [
      "Number of gene combinations: 84255\n"
     ]
    }
   ],
   "source": [
    "n = len(gene_chr_objs)\n",
    "# diagonal elements + upper triangular matrix\n",
    "n_comb = n + int(n * (n - 1) / 2.0)\n",
    "print(f\"Number of gene combinations: {n_comb}\", flush=True)"
   ]
  },
  {
   "cell_type": "code",
   "execution_count": 29,
   "id": "cdbb90a1",
   "metadata": {
    "execution": {
     "iopub.execute_input": "2022-12-15T18:09:15.594448Z",
     "iopub.status.busy": "2022-12-15T18:09:15.594102Z",
     "iopub.status.idle": "2022-12-15T18:19:22.640841Z",
     "shell.execute_reply": "2022-12-15T18:19:22.640286Z"
    },
    "papermill": {
     "duration": 607.055634,
     "end_time": "2022-12-15T18:19:22.642236",
     "exception": false,
     "start_time": "2022-12-15T18:09:15.586602",
     "status": "completed"
    },
    "tags": []
   },
   "outputs": [
    {
     "name": "stderr",
     "output_type": "stream",
     "text": [
      "ENSG00000175711 / ENSG00000175711: 100%|█████████████████████| 84255/84255 [10:07<00:00, 138.80it/s]\n"
     ]
    },
    {
     "data": {
      "text/plain": [
       "PosixPath('/opt/data/projects/asthma-copd/results/gls_phenoplier/gene_corrs/aco/by_chr/gene_corrs-chr17.pkl')"
      ]
     },
     "metadata": {},
     "output_type": "display_data"
    }
   ],
   "source": [
    "gene_corrs = []\n",
    "gene_corrs_data = np.full(\n",
    "    (n, n),\n",
    "    np.nan,\n",
    "    dtype=np.float64,\n",
    ")\n",
    "\n",
    "i = 0\n",
    "with tqdm(ncols=100, total=n_comb) as pbar:\n",
    "    for gene1_idx in range(0, len(gene_chr_objs)):\n",
    "        gene1_obj = gene_chr_objs[gene1_idx]\n",
    "        gene1_tissues = spredixcan_genes_models.loc[gene1_obj.ensembl_id, \"tissue\"]\n",
    "\n",
    "        for gene2_idx in range(gene1_idx, len(gene_chr_objs)):\n",
    "            gene2_obj = gene_chr_objs[gene2_idx]\n",
    "            gene2_tissues = spredixcan_genes_models.loc[gene2_obj.ensembl_id, \"tissue\"]\n",
    "\n",
    "            pbar.set_description(f\"{gene1_obj.ensembl_id} / {gene2_obj.ensembl_id}\")\n",
    "\n",
    "            try:\n",
    "                r = gene1_obj.get_ssm_correlation(\n",
    "                    other_gene=gene2_obj,\n",
    "                    tissues=gene1_tissues,\n",
    "                    other_tissues=gene2_tissues,\n",
    "                    snps_subset=gwas_variants_ids_set,\n",
    "                    condition_number=SMULTIXCAN_CONDITION_NUMBER,\n",
    "                    reference_panel=REFERENCE_PANEL,\n",
    "                    model_type=EQTL_MODEL,\n",
    "                    use_within_distance=COMPUTE_CORRELATIONS_WITHIN_DISTANCE,\n",
    "                )\n",
    "\n",
    "                if r is None:\n",
    "                    # if r is None, it's very likely because:\n",
    "                    #  * one of the genes has no prediction models\n",
    "                    #  * all the SNPs predictors for the gene are not present in the reference\n",
    "                    #    panel\n",
    "\n",
    "                    r = 0.0\n",
    "\n",
    "                gene_corrs.append(r)\n",
    "\n",
    "                gene_corrs_data[gene1_idx, gene2_idx] = r\n",
    "                gene_corrs_data[gene2_idx, gene1_idx] = r\n",
    "            except Warning as e:\n",
    "                if not DEBUG_MODE:\n",
    "                    raise e\n",
    "\n",
    "                print(\n",
    "                    f\"RuntimeWarning for genes {gene1_obj.ensembl_id} and {gene2_obj.ensembl_id}\",\n",
    "                    flush=True,\n",
    "                )\n",
    "                print(traceback.format_exc(), flush=True)\n",
    "\n",
    "                gene_corrs.append(np.nan)\n",
    "            except Exception as e:\n",
    "                if not DEBUG_MODE:\n",
    "                    raise e\n",
    "\n",
    "                print(\n",
    "                    f\"Exception for genes {gene1_obj.ensembl_id} and {gene2_obj.ensembl_id}\",\n",
    "                    flush=True,\n",
    "                )\n",
    "                print(traceback.format_exc(), flush=True)\n",
    "\n",
    "                gene_corrs.append(np.nan)\n",
    "\n",
    "            pbar.update(1)\n",
    "\n",
    "# create a pandas series\n",
    "gene_corrs_flat = pd.Series(gene_corrs)\n",
    "\n",
    "# save\n",
    "# FIXME: consider saving only the condenced matrix here. See here for\n",
    "# more details: https://github.com/greenelab/phenoplier/pull/38#discussion_r634600813\n",
    "# gene_corrs_data = squareform(np.array(gene_corrs, dtype=np.float64))\n",
    "# np.fill_diagonal(gene_corrs_data, 1.0)\n",
    "\n",
    "gene_chr_ids = [g.ensembl_id for g in gene_chr_objs]\n",
    "gene_corrs_df = pd.DataFrame(\n",
    "    data=gene_corrs_data,\n",
    "    index=gene_chr_ids,\n",
    "    columns=gene_chr_ids,\n",
    ")\n",
    "\n",
    "output_dir.mkdir(exist_ok=True, parents=True)\n",
    "display(output_file)\n",
    "\n",
    "gene_corrs_df.to_pickle(output_file)"
   ]
  },
  {
   "cell_type": "markdown",
   "id": "faa67b51-5373-470f-aa72-2ded53fa6dfe",
   "metadata": {
    "papermill": {
     "duration": 2.74026,
     "end_time": "2022-12-15T18:19:28.047867",
     "exception": false,
     "start_time": "2022-12-15T18:19:25.307607",
     "status": "completed"
    },
    "tags": []
   },
   "source": [
    "# Testing"
   ]
  },
  {
   "cell_type": "code",
   "execution_count": 30,
   "id": "14f7d046-4b55-4896-a56b-990127bcc388",
   "metadata": {
    "execution": {
     "iopub.execute_input": "2022-12-15T18:19:33.341490Z",
     "iopub.status.busy": "2022-12-15T18:19:33.341220Z",
     "iopub.status.idle": "2022-12-15T18:19:33.365336Z",
     "shell.execute_reply": "2022-12-15T18:19:33.364713Z"
    },
    "papermill": {
     "duration": 2.675473,
     "end_time": "2022-12-15T18:19:33.366324",
     "exception": false,
     "start_time": "2022-12-15T18:19:30.690851",
     "status": "completed"
    },
    "tags": []
   },
   "outputs": [
    {
     "data": {
      "text/plain": [
       "(410, 410)"
      ]
     },
     "execution_count": 30,
     "metadata": {},
     "output_type": "execute_result"
    }
   ],
   "source": [
    "gene_corrs_df.shape"
   ]
  },
  {
   "cell_type": "code",
   "execution_count": 31,
   "id": "c7d15414-3297-4537-a7c6-7588c0baeb75",
   "metadata": {
    "execution": {
     "iopub.execute_input": "2022-12-15T18:19:38.782606Z",
     "iopub.status.busy": "2022-12-15T18:19:38.782207Z",
     "iopub.status.idle": "2022-12-15T18:19:38.819949Z",
     "shell.execute_reply": "2022-12-15T18:19:38.819331Z"
    },
    "papermill": {
     "duration": 2.7396,
     "end_time": "2022-12-15T18:19:38.820842",
     "exception": false,
     "start_time": "2022-12-15T18:19:36.081242",
     "status": "completed"
    },
    "tags": []
   },
   "outputs": [
    {
     "data": {
      "text/html": [
       "<div>\n",
       "<style scoped>\n",
       "    .dataframe tbody tr th:only-of-type {\n",
       "        vertical-align: middle;\n",
       "    }\n",
       "\n",
       "    .dataframe tbody tr th {\n",
       "        vertical-align: top;\n",
       "    }\n",
       "\n",
       "    .dataframe thead th {\n",
       "        text-align: right;\n",
       "    }\n",
       "</style>\n",
       "<table border=\"1\" class=\"dataframe\">\n",
       "  <thead>\n",
       "    <tr style=\"text-align: right;\">\n",
       "      <th></th>\n",
       "      <th>ENSG00000141252</th>\n",
       "      <th>ENSG00000179409</th>\n",
       "      <th>ENSG00000177370</th>\n",
       "      <th>ENSG00000159842</th>\n",
       "      <th>ENSG00000108953</th>\n",
       "      <th>ENSG00000167193</th>\n",
       "      <th>ENSG00000132376</th>\n",
       "      <th>ENSG00000174238</th>\n",
       "      <th>ENSG00000167703</th>\n",
       "      <th>ENSG00000074660</th>\n",
       "      <th>...</th>\n",
       "      <th>ENSG00000169733</th>\n",
       "      <th>ENSG00000169710</th>\n",
       "      <th>ENSG00000141526</th>\n",
       "      <th>ENSG00000141551</th>\n",
       "      <th>ENSG00000173762</th>\n",
       "      <th>ENSG00000141574</th>\n",
       "      <th>ENSG00000141562</th>\n",
       "      <th>ENSG00000141542</th>\n",
       "      <th>ENSG00000141556</th>\n",
       "      <th>ENSG00000175711</th>\n",
       "    </tr>\n",
       "  </thead>\n",
       "  <tbody>\n",
       "    <tr>\n",
       "      <th>ENSG00000141252</th>\n",
       "      <td>1.000000</td>\n",
       "      <td>0.357534</td>\n",
       "      <td>0.014624</td>\n",
       "      <td>0.008524</td>\n",
       "      <td>0.006832</td>\n",
       "      <td>0.003808</td>\n",
       "      <td>0.005967</td>\n",
       "      <td>0.003746</td>\n",
       "      <td>0.011354</td>\n",
       "      <td>0.005451</td>\n",
       "      <td>...</td>\n",
       "      <td>0.0</td>\n",
       "      <td>0.0</td>\n",
       "      <td>0.0</td>\n",
       "      <td>0.0</td>\n",
       "      <td>0.0</td>\n",
       "      <td>0.0</td>\n",
       "      <td>0.0</td>\n",
       "      <td>0.0</td>\n",
       "      <td>0.0</td>\n",
       "      <td>0.0</td>\n",
       "    </tr>\n",
       "    <tr>\n",
       "      <th>ENSG00000179409</th>\n",
       "      <td>0.357534</td>\n",
       "      <td>1.000000</td>\n",
       "      <td>0.017271</td>\n",
       "      <td>0.016423</td>\n",
       "      <td>0.009999</td>\n",
       "      <td>0.006067</td>\n",
       "      <td>0.009289</td>\n",
       "      <td>0.011373</td>\n",
       "      <td>0.013388</td>\n",
       "      <td>0.008016</td>\n",
       "      <td>...</td>\n",
       "      <td>0.0</td>\n",
       "      <td>0.0</td>\n",
       "      <td>0.0</td>\n",
       "      <td>0.0</td>\n",
       "      <td>0.0</td>\n",
       "      <td>0.0</td>\n",
       "      <td>0.0</td>\n",
       "      <td>0.0</td>\n",
       "      <td>0.0</td>\n",
       "      <td>0.0</td>\n",
       "    </tr>\n",
       "    <tr>\n",
       "      <th>ENSG00000177370</th>\n",
       "      <td>0.014624</td>\n",
       "      <td>0.017271</td>\n",
       "      <td>1.000000</td>\n",
       "      <td>0.108673</td>\n",
       "      <td>0.009214</td>\n",
       "      <td>0.009660</td>\n",
       "      <td>0.005857</td>\n",
       "      <td>0.005354</td>\n",
       "      <td>0.017055</td>\n",
       "      <td>0.006608</td>\n",
       "      <td>...</td>\n",
       "      <td>0.0</td>\n",
       "      <td>0.0</td>\n",
       "      <td>0.0</td>\n",
       "      <td>0.0</td>\n",
       "      <td>0.0</td>\n",
       "      <td>0.0</td>\n",
       "      <td>0.0</td>\n",
       "      <td>0.0</td>\n",
       "      <td>0.0</td>\n",
       "      <td>0.0</td>\n",
       "    </tr>\n",
       "    <tr>\n",
       "      <th>ENSG00000159842</th>\n",
       "      <td>0.008524</td>\n",
       "      <td>0.016423</td>\n",
       "      <td>0.108673</td>\n",
       "      <td>1.000000</td>\n",
       "      <td>0.012891</td>\n",
       "      <td>0.009769</td>\n",
       "      <td>0.007818</td>\n",
       "      <td>0.014939</td>\n",
       "      <td>0.015294</td>\n",
       "      <td>0.008867</td>\n",
       "      <td>...</td>\n",
       "      <td>0.0</td>\n",
       "      <td>0.0</td>\n",
       "      <td>0.0</td>\n",
       "      <td>0.0</td>\n",
       "      <td>0.0</td>\n",
       "      <td>0.0</td>\n",
       "      <td>0.0</td>\n",
       "      <td>0.0</td>\n",
       "      <td>0.0</td>\n",
       "      <td>0.0</td>\n",
       "    </tr>\n",
       "    <tr>\n",
       "      <th>ENSG00000108953</th>\n",
       "      <td>0.006832</td>\n",
       "      <td>0.009999</td>\n",
       "      <td>0.009214</td>\n",
       "      <td>0.012891</td>\n",
       "      <td>1.000000</td>\n",
       "      <td>0.155160</td>\n",
       "      <td>0.064426</td>\n",
       "      <td>0.019107</td>\n",
       "      <td>0.018311</td>\n",
       "      <td>0.021128</td>\n",
       "      <td>...</td>\n",
       "      <td>0.0</td>\n",
       "      <td>0.0</td>\n",
       "      <td>0.0</td>\n",
       "      <td>0.0</td>\n",
       "      <td>0.0</td>\n",
       "      <td>0.0</td>\n",
       "      <td>0.0</td>\n",
       "      <td>0.0</td>\n",
       "      <td>0.0</td>\n",
       "      <td>0.0</td>\n",
       "    </tr>\n",
       "  </tbody>\n",
       "</table>\n",
       "<p>5 rows × 410 columns</p>\n",
       "</div>"
      ],
      "text/plain": [
       "                 ENSG00000141252  ENSG00000179409  ENSG00000177370  \\\n",
       "ENSG00000141252         1.000000         0.357534         0.014624   \n",
       "ENSG00000179409         0.357534         1.000000         0.017271   \n",
       "ENSG00000177370         0.014624         0.017271         1.000000   \n",
       "ENSG00000159842         0.008524         0.016423         0.108673   \n",
       "ENSG00000108953         0.006832         0.009999         0.009214   \n",
       "\n",
       "                 ENSG00000159842  ENSG00000108953  ENSG00000167193  \\\n",
       "ENSG00000141252         0.008524         0.006832         0.003808   \n",
       "ENSG00000179409         0.016423         0.009999         0.006067   \n",
       "ENSG00000177370         0.108673         0.009214         0.009660   \n",
       "ENSG00000159842         1.000000         0.012891         0.009769   \n",
       "ENSG00000108953         0.012891         1.000000         0.155160   \n",
       "\n",
       "                 ENSG00000132376  ENSG00000174238  ENSG00000167703  \\\n",
       "ENSG00000141252         0.005967         0.003746         0.011354   \n",
       "ENSG00000179409         0.009289         0.011373         0.013388   \n",
       "ENSG00000177370         0.005857         0.005354         0.017055   \n",
       "ENSG00000159842         0.007818         0.014939         0.015294   \n",
       "ENSG00000108953         0.064426         0.019107         0.018311   \n",
       "\n",
       "                 ENSG00000074660  ...  ENSG00000169733  ENSG00000169710  \\\n",
       "ENSG00000141252         0.005451  ...              0.0              0.0   \n",
       "ENSG00000179409         0.008016  ...              0.0              0.0   \n",
       "ENSG00000177370         0.006608  ...              0.0              0.0   \n",
       "ENSG00000159842         0.008867  ...              0.0              0.0   \n",
       "ENSG00000108953         0.021128  ...              0.0              0.0   \n",
       "\n",
       "                 ENSG00000141526  ENSG00000141551  ENSG00000173762  \\\n",
       "ENSG00000141252              0.0              0.0              0.0   \n",
       "ENSG00000179409              0.0              0.0              0.0   \n",
       "ENSG00000177370              0.0              0.0              0.0   \n",
       "ENSG00000159842              0.0              0.0              0.0   \n",
       "ENSG00000108953              0.0              0.0              0.0   \n",
       "\n",
       "                 ENSG00000141574  ENSG00000141562  ENSG00000141542  \\\n",
       "ENSG00000141252              0.0              0.0              0.0   \n",
       "ENSG00000179409              0.0              0.0              0.0   \n",
       "ENSG00000177370              0.0              0.0              0.0   \n",
       "ENSG00000159842              0.0              0.0              0.0   \n",
       "ENSG00000108953              0.0              0.0              0.0   \n",
       "\n",
       "                 ENSG00000141556  ENSG00000175711  \n",
       "ENSG00000141252              0.0              0.0  \n",
       "ENSG00000179409              0.0              0.0  \n",
       "ENSG00000177370              0.0              0.0  \n",
       "ENSG00000159842              0.0              0.0  \n",
       "ENSG00000108953              0.0              0.0  \n",
       "\n",
       "[5 rows x 410 columns]"
      ]
     },
     "execution_count": 31,
     "metadata": {},
     "output_type": "execute_result"
    }
   ],
   "source": [
    "gene_corrs_df.head()"
   ]
  },
  {
   "cell_type": "markdown",
   "id": "dad6603f-01c6-41fb-a6f6-241051207dd8",
   "metadata": {
    "papermill": {
     "duration": 2.668407,
     "end_time": "2022-12-15T18:19:44.020046",
     "exception": false,
     "start_time": "2022-12-15T18:19:41.351639",
     "status": "completed"
    },
    "tags": []
   },
   "source": [
    "## Standard checks and stats"
   ]
  },
  {
   "cell_type": "code",
   "execution_count": 32,
   "id": "286686af-1b7b-4440-8453-6bdcbd8de19c",
   "metadata": {
    "execution": {
     "iopub.execute_input": "2022-12-15T18:19:49.345084Z",
     "iopub.status.busy": "2022-12-15T18:19:49.344621Z",
     "iopub.status.idle": "2022-12-15T18:19:49.370748Z",
     "shell.execute_reply": "2022-12-15T18:19:49.370023Z"
    },
    "papermill": {
     "duration": 2.660835,
     "end_time": "2022-12-15T18:19:49.371809",
     "exception": false,
     "start_time": "2022-12-15T18:19:46.710974",
     "status": "completed"
    },
    "tags": []
   },
   "outputs": [],
   "source": [
    "assert not gene_corrs_df.isna().any(axis=None)"
   ]
  },
  {
   "cell_type": "code",
   "execution_count": 33,
   "id": "00583efc-7068-4270-ad1e-4a418e91db96",
   "metadata": {
    "execution": {
     "iopub.execute_input": "2022-12-15T18:19:54.601457Z",
     "iopub.status.busy": "2022-12-15T18:19:54.600636Z",
     "iopub.status.idle": "2022-12-15T18:19:54.627187Z",
     "shell.execute_reply": "2022-12-15T18:19:54.626523Z"
    },
    "papermill": {
     "duration": 2.637717,
     "end_time": "2022-12-15T18:19:54.628236",
     "exception": false,
     "start_time": "2022-12-15T18:19:51.990519",
     "status": "completed"
    },
    "tags": []
   },
   "outputs": [
    {
     "data": {
      "text/plain": [
       "0.0"
      ]
     },
     "metadata": {},
     "output_type": "display_data"
    }
   ],
   "source": [
    "_min_val = gene_corrs_df.min().min()\n",
    "display(_min_val)\n",
    "assert _min_val >= -0.05"
   ]
  },
  {
   "cell_type": "code",
   "execution_count": 34,
   "id": "d04fb2cf-1050-475b-b855-f5f7cc04092b",
   "metadata": {
    "execution": {
     "iopub.execute_input": "2022-12-15T18:19:59.936564Z",
     "iopub.status.busy": "2022-12-15T18:19:59.936074Z",
     "iopub.status.idle": "2022-12-15T18:19:59.962506Z",
     "shell.execute_reply": "2022-12-15T18:19:59.961858Z"
    },
    "papermill": {
     "duration": 2.711847,
     "end_time": "2022-12-15T18:19:59.963467",
     "exception": false,
     "start_time": "2022-12-15T18:19:57.251620",
     "status": "completed"
    },
    "tags": []
   },
   "outputs": [
    {
     "data": {
      "text/plain": [
       "1.0000000000000029"
      ]
     },
     "metadata": {},
     "output_type": "display_data"
    }
   ],
   "source": [
    "_max_val = gene_corrs_df.max().max()  # this captures the diagonal\n",
    "display(_max_val)\n",
    "assert _max_val <= 1.05"
   ]
  },
  {
   "cell_type": "code",
   "execution_count": 35,
   "id": "fe283586-c348-40e0-8841-f6d97bfb021c",
   "metadata": {
    "execution": {
     "iopub.execute_input": "2022-12-15T18:20:05.258294Z",
     "iopub.status.busy": "2022-12-15T18:20:05.257801Z",
     "iopub.status.idle": "2022-12-15T18:20:05.281343Z",
     "shell.execute_reply": "2022-12-15T18:20:05.280626Z"
    },
    "papermill": {
     "duration": 2.679024,
     "end_time": "2022-12-15T18:20:05.282301",
     "exception": false,
     "start_time": "2022-12-15T18:20:02.603277",
     "status": "completed"
    },
    "tags": []
   },
   "outputs": [
    {
     "data": {
      "text/plain": [
       "count    84255.000000\n",
       "mean         0.008102\n",
       "std          0.075614\n",
       "min          0.000000\n",
       "25%          0.000000\n",
       "50%          0.000000\n",
       "75%          0.000000\n",
       "max          1.000000\n",
       "dtype: float64"
      ]
     },
     "execution_count": 35,
     "metadata": {},
     "output_type": "execute_result"
    }
   ],
   "source": [
    "gene_corrs_flat.describe()"
   ]
  },
  {
   "cell_type": "code",
   "execution_count": 36,
   "id": "b3815678-0f93-4b35-897b-a9d047a2aa78",
   "metadata": {
    "execution": {
     "iopub.execute_input": "2022-12-15T18:20:10.523152Z",
     "iopub.status.busy": "2022-12-15T18:20:10.522923Z",
     "iopub.status.idle": "2022-12-15T18:20:10.552308Z",
     "shell.execute_reply": "2022-12-15T18:20:10.551801Z"
    },
    "papermill": {
     "duration": 2.634888,
     "end_time": "2022-12-15T18:20:10.553183",
     "exception": false,
     "start_time": "2022-12-15T18:20:07.918295",
     "status": "completed"
    },
    "tags": []
   },
   "outputs": [
    {
     "data": {
      "text/plain": [
       "0.00    0.000000\n",
       "0.05    0.000000\n",
       "0.10    0.000000\n",
       "0.15    0.000000\n",
       "0.20    0.000000\n",
       "0.25    0.000000\n",
       "0.30    0.000000\n",
       "0.35    0.000000\n",
       "0.40    0.000000\n",
       "0.45    0.000000\n",
       "0.50    0.000000\n",
       "0.55    0.000000\n",
       "0.60    0.000000\n",
       "0.65    0.000000\n",
       "0.70    0.000000\n",
       "0.75    0.000000\n",
       "0.80    0.000000\n",
       "0.85    0.000000\n",
       "0.90    0.004532\n",
       "0.95    0.008588\n",
       "dtype: float64"
      ]
     },
     "metadata": {},
     "output_type": "display_data"
    }
   ],
   "source": [
    "gene_corrs_quantiles = gene_corrs_flat.quantile(np.arange(0, 1, 0.05))\n",
    "display(gene_corrs_quantiles)"
   ]
  },
  {
   "cell_type": "markdown",
   "id": "87134509-b145-4a10-8bc9-b7e914c2b0fa",
   "metadata": {
    "papermill": {
     "duration": 2.596499,
     "end_time": "2022-12-15T18:20:15.814233",
     "exception": false,
     "start_time": "2022-12-15T18:20:13.217734",
     "status": "completed"
    },
    "tags": []
   },
   "source": [
    "## Positive definiteness"
   ]
  },
  {
   "cell_type": "code",
   "execution_count": 37,
   "id": "07d9a9a1-a4f7-48aa-b916-6d42a8cc6186",
   "metadata": {
    "execution": {
     "iopub.execute_input": "2022-12-15T18:20:21.037505Z",
     "iopub.status.busy": "2022-12-15T18:20:21.036970Z",
     "iopub.status.idle": "2022-12-15T18:20:21.117224Z",
     "shell.execute_reply": "2022-12-15T18:20:21.116552Z"
    },
    "papermill": {
     "duration": 2.646843,
     "end_time": "2022-12-15T18:20:21.118199",
     "exception": false,
     "start_time": "2022-12-15T18:20:18.471356",
     "status": "completed"
    },
    "tags": []
   },
   "outputs": [
    {
     "data": {
      "text/plain": [
       "0"
      ]
     },
     "metadata": {},
     "output_type": "display_data"
    },
    {
     "data": {
      "text/plain": [
       "array([], dtype=float64)"
      ]
     },
     "metadata": {},
     "output_type": "display_data"
    }
   ],
   "source": [
    "# print negative eigenvalues\n",
    "eigs = np.linalg.eigvals(gene_corrs_df.to_numpy())\n",
    "display(len(eigs[eigs < 0]))\n",
    "display(eigs[eigs < 0])"
   ]
  },
  {
   "cell_type": "code",
   "execution_count": 38,
   "id": "6e218436-c3c5-4028-8c94-a4fa6260efce",
   "metadata": {
    "execution": {
     "iopub.execute_input": "2022-12-15T18:20:26.328767Z",
     "iopub.status.busy": "2022-12-15T18:20:26.328465Z",
     "iopub.status.idle": "2022-12-15T18:20:26.366457Z",
     "shell.execute_reply": "2022-12-15T18:20:26.365764Z"
    },
    "papermill": {
     "duration": 2.608052,
     "end_time": "2022-12-15T18:20:26.367418",
     "exception": false,
     "start_time": "2022-12-15T18:20:23.759366",
     "status": "completed"
    },
    "tags": []
   },
   "outputs": [
    {
     "name": "stdout",
     "output_type": "stream",
     "text": [
      "Works!\n"
     ]
    }
   ],
   "source": [
    "try:\n",
    "    chol_mat = np.linalg.cholesky(gene_corrs_df.to_numpy())\n",
    "    cov_inv = np.linalg.inv(chol_mat)\n",
    "    print(\"Works!\")\n",
    "except Exception as e:\n",
    "    print(f\"Cholesky decomposition failed: {str(e)}\")"
   ]
  },
  {
   "cell_type": "code",
   "execution_count": 39,
   "id": "dd8827fb-faf9-4c7c-9454-015e94752706",
   "metadata": {
    "execution": {
     "iopub.execute_input": "2022-12-15T18:20:31.561436Z",
     "iopub.status.busy": "2022-12-15T18:20:31.560877Z",
     "iopub.status.idle": "2022-12-15T18:20:31.603368Z",
     "shell.execute_reply": "2022-12-15T18:20:31.602645Z"
    },
    "papermill": {
     "duration": 2.60958,
     "end_time": "2022-12-15T18:20:31.604523",
     "exception": false,
     "start_time": "2022-12-15T18:20:28.994943",
     "status": "completed"
    },
    "tags": []
   },
   "outputs": [
    {
     "name": "stdout",
     "output_type": "stream",
     "text": [
      "Works!\n"
     ]
    }
   ],
   "source": [
    "try:\n",
    "    # decomposition used by statsmodels.GLS\n",
    "    cholsigmainv = np.linalg.cholesky(np.linalg.inv(gene_corrs_df.to_numpy())).T\n",
    "    print(\"Works!\")\n",
    "except Exception as e:\n",
    "    print(f\"Cholesky decomposition failed (statsmodels.GLS): {str(e)}\")"
   ]
  },
  {
   "cell_type": "markdown",
   "id": "8e60a080-edb2-4e9c-b2ef-22961693200c",
   "metadata": {
    "papermill": {
     "duration": 2.607918,
     "end_time": "2022-12-15T18:20:36.915194",
     "exception": false,
     "start_time": "2022-12-15T18:20:34.307276",
     "status": "completed"
    },
    "tags": []
   },
   "source": [
    "## Plot: distribution"
   ]
  },
  {
   "cell_type": "code",
   "execution_count": 40,
   "id": "8301126b-a7d4-4744-9c7d-f0f86eb6f54c",
   "metadata": {
    "execution": {
     "iopub.execute_input": "2022-12-15T18:20:42.062507Z",
     "iopub.status.busy": "2022-12-15T18:20:42.061764Z",
     "iopub.status.idle": "2022-12-15T18:20:42.558327Z",
     "shell.execute_reply": "2022-12-15T18:20:42.557909Z"
    },
    "papermill": {
     "duration": 3.047641,
     "end_time": "2022-12-15T18:20:42.559657",
     "exception": false,
     "start_time": "2022-12-15T18:20:39.512016",
     "status": "completed"
    },
    "tags": []
   },
   "outputs": [
    {
     "data": {
      "image/png": "[encoded data removed]",
      "text/plain": [
       "<Figure size 700x700 with 1 Axes>"
      ]
     },
     "metadata": {},
     "output_type": "display_data"
    }
   ],
   "source": [
    "with sns.plotting_context(\"paper\", font_scale=1.5):\n",
    "    g = sns.displot(gene_corrs_flat, kde=True, height=7)\n",
    "    g.ax.set_title(\n",
    "        f\"Distribution of gene correlation values in chromosome {CHROMOSOME}\"\n",
    "    )"
   ]
  },
  {
   "cell_type": "markdown",
   "id": "cbd52bca-d878-4a2f-b684-5c83aa3038d4",
   "metadata": {
    "papermill": {
     "duration": 2.567293,
     "end_time": "2022-12-15T18:20:47.792186",
     "exception": false,
     "start_time": "2022-12-15T18:20:45.224893",
     "status": "completed"
    },
    "tags": []
   },
   "source": [
    "## Plot: heatmap"
   ]
  },
  {
   "cell_type": "code",
   "execution_count": 41,
   "id": "d03fe63a-c7b2-4fb9-a53c-db362ce843c9",
   "metadata": {
    "execution": {
     "iopub.execute_input": "2022-12-15T18:20:53.026208Z",
     "iopub.status.busy": "2022-12-15T18:20:53.025736Z",
     "iopub.status.idle": "2022-12-15T18:20:53.051809Z",
     "shell.execute_reply": "2022-12-15T18:20:53.051218Z"
    },
    "papermill": {
     "duration": 2.639272,
     "end_time": "2022-12-15T18:20:53.053108",
     "exception": false,
     "start_time": "2022-12-15T18:20:50.413836",
     "status": "completed"
    },
    "tags": []
   },
   "outputs": [
    {
     "data": {
      "text/plain": [
       "'0.0 / 0.05'"
      ]
     },
     "metadata": {},
     "output_type": "display_data"
    }
   ],
   "source": [
    "vmin_val = min(0.00, gene_corrs_quantiles[0.10])\n",
    "vmax_val = max(0.05, gene_corrs_quantiles[0.90])\n",
    "display(f\"{vmin_val} / {vmax_val}\")"
   ]
  },
  {
   "cell_type": "code",
   "execution_count": 42,
   "id": "dc41b70b-5bcc-4d9e-9f33-a22c4a94dab5",
   "metadata": {
    "execution": {
     "iopub.execute_input": "2022-12-15T18:20:58.319304Z",
     "iopub.status.busy": "2022-12-15T18:20:58.318877Z",
     "iopub.status.idle": "2022-12-15T18:20:58.627588Z",
     "shell.execute_reply": "2022-12-15T18:20:58.627184Z"
    },
    "papermill": {
     "duration": 2.912598,
     "end_time": "2022-12-15T18:20:58.629609",
     "exception": false,
     "start_time": "2022-12-15T18:20:55.717011",
     "status": "completed"
    },
    "tags": []
   },
   "outputs": [
    {
     "data": {
      "text/plain": [
       "Text(0.5, 1.0, 'Gene correlations in chromosome 17')"
      ]
     },
     "execution_count": 42,
     "metadata": {},
     "output_type": "execute_result"
    },
    {
     "data": {
      "image/png": "[encoded data removed]",
      "text/plain": [
       "<Figure size 1000x1000 with 2 Axes>"
      ]
     },
     "metadata": {},
     "output_type": "display_data"
    }
   ],
   "source": [
    "f, ax = plt.subplots(figsize=(10, 10))\n",
    "sns.heatmap(\n",
    "    gene_corrs_df,\n",
    "    xticklabels=False,\n",
    "    yticklabels=False,\n",
    "    square=True,\n",
    "    vmin=vmin_val,\n",
    "    vmax=vmax_val,\n",
    "    cmap=\"rocket_r\",\n",
    "    ax=ax,\n",
    ")\n",
    "ax.set_title(f\"Gene correlations in chromosome {CHROMOSOME}\")"
   ]
  },
  {
   "cell_type": "code",
   "execution_count": null,
   "id": "b25e3ead",
   "metadata": {
    "papermill": {
     "duration": 2.604802,
     "end_time": "2022-12-15T18:21:04.043191",
     "exception": false,
     "start_time": "2022-12-15T18:21:01.438389",
     "status": "completed"
    },
    "tags": []
   },
   "outputs": [],
   "source": []
  }
 ],
 "metadata": {
  "jupytext": {
   "cell_metadata_filter": "all,-execution,-papermill,-trusted",
   "formats": "ipynb,py//py:percent"
  },
  "kernelspec": {
   "display_name": "Python 3 (ipykernel)",
   "language": "python",
   "name": "python3"
  },
  "language_info": {
   "codemirror_mode": {
    "name": "ipython",
    "version": 3
   },
   "file_extension": ".py",
   "mimetype": "text/x-python",
   "name": "python",
   "nbconvert_exporter": "python",
   "pygments_lexer": "ipython3",
   "version": "3.10.6"
  },
  "papermill": {
   "default_parameters": {},
   "duration": 721.405595,
   "end_time": "2022-12-15T18:21:09.820958",
   "environment_variables": {},
   "exception": null,
   "input_path": "projects/asthma-copd/nbs/20_gene_corrs/jobs/05-gene_expr_correlations.ipynb",
   "output_path": "projects/asthma-copd/nbs/20_gene_corrs/jobs/../output/aco/05-gene_expr_correlations-chr17.run.ipynb",
   "parameters": {
    "CHROMOSOME": 17,
    "COHORT_NAME": "aco",
    "OUTPUT_DIR_BASE": "/opt/data/projects/asthma-copd/results/gls_phenoplier",
    "PHENOPLIER_NOTEBOOK_FILEPATH": "projects/asthma-copd/nbs/20_gene_corrs/jobs/05-gene_expr_correlations.ipynb"
   },
   "start_time": "2022-12-15T18:09:08.415363",
   "version": "2.2.2"
  }
 },
 "nbformat": 4,
 "nbformat_minor": 5
}
