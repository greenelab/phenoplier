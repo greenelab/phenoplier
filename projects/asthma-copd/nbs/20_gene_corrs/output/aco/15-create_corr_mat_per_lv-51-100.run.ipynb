{
 "cells": [
  {
   "cell_type": "markdown",
   "id": "5ef66977",
   "metadata": {
    "papermill": {
     "duration": 0.007031,
     "end_time": "2022-12-05T21:24:15.464962",
     "exception": false,
     "start_time": "2022-12-05T21:24:15.457931",
     "status": "completed"
    },
    "tags": []
   },
   "source": [
    "# Description"
   ]
  },
  {
   "cell_type": "markdown",
   "id": "658d4f7c",
   "metadata": {
    "papermill": {
     "duration": 0.006399,
     "end_time": "2022-12-05T21:24:15.480830",
     "exception": false,
     "start_time": "2022-12-05T21:24:15.474431",
     "status": "completed"
    },
    "tags": []
   },
   "source": [
    "(Please, take a look at the README.md file in this directory for instructions on how to run this notebook)\n",
    "\n",
    "It computes an LV-specific correlation matrix by using the top genes in that LV only.\n",
    "\n",
    "It has specicfic parameters for papermill (see under `Settings` below).\n",
    "\n",
    "This notebook is not directly run. See README.md."
   ]
  },
  {
   "cell_type": "markdown",
   "id": "60fa4530",
   "metadata": {
    "papermill": {
     "duration": 0.006332,
     "end_time": "2022-12-05T21:24:15.493988",
     "exception": false,
     "start_time": "2022-12-05T21:24:15.487656",
     "status": "completed"
    },
    "tags": []
   },
   "source": [
    "# Modules"
   ]
  },
  {
   "cell_type": "code",
   "execution_count": 1,
   "id": "d70b0833",
   "metadata": {
    "execution": {
     "iopub.execute_input": "2022-12-05T21:24:15.508115Z",
     "iopub.status.busy": "2022-12-05T21:24:15.507800Z",
     "iopub.status.idle": "2022-12-05T21:24:15.526907Z",
     "shell.execute_reply": "2022-12-05T21:24:15.526364Z"
    },
    "papermill": {
     "duration": 0.028486,
     "end_time": "2022-12-05T21:24:15.528769",
     "exception": false,
     "start_time": "2022-12-05T21:24:15.500283",
     "status": "completed"
    },
    "tags": []
   },
   "outputs": [],
   "source": [
    "%load_ext autoreload\n",
    "%autoreload 2"
   ]
  },
  {
   "cell_type": "code",
   "execution_count": 2,
   "id": "6b2f9ca0",
   "metadata": {
    "execution": {
     "iopub.execute_input": "2022-12-05T21:24:15.542963Z",
     "iopub.status.busy": "2022-12-05T21:24:15.542733Z",
     "iopub.status.idle": "2022-12-05T21:24:16.149852Z",
     "shell.execute_reply": "2022-12-05T21:24:16.149447Z"
    },
    "papermill": {
     "duration": 0.616454,
     "end_time": "2022-12-05T21:24:16.151681",
     "exception": false,
     "start_time": "2022-12-05T21:24:15.535227",
     "status": "completed"
    },
    "tags": []
   },
   "outputs": [],
   "source": [
    "from pathlib import Path\n",
    "from concurrent.futures import ProcessPoolExecutor, as_completed\n",
    "\n",
    "import numpy as np\n",
    "from scipy.spatial.distance import squareform\n",
    "from scipy import sparse\n",
    "import pandas as pd\n",
    "from tqdm import tqdm\n",
    "\n",
    "import conf\n",
    "from utils import chunker\n",
    "from entity import Gene\n",
    "from gls import GLSPhenoplier"
   ]
  },
  {
   "cell_type": "markdown",
   "id": "5b96e797",
   "metadata": {
    "papermill": {
     "duration": 0.010498,
     "end_time": "2022-12-05T21:24:16.168712",
     "exception": false,
     "start_time": "2022-12-05T21:24:16.158214",
     "status": "completed"
    },
    "tags": []
   },
   "source": [
    "# Settings"
   ]
  },
  {
   "cell_type": "code",
   "execution_count": 3,
   "id": "4fc1b6a0",
   "metadata": {
    "execution": {
     "iopub.execute_input": "2022-12-05T21:24:16.182608Z",
     "iopub.status.busy": "2022-12-05T21:24:16.182478Z",
     "iopub.status.idle": "2022-12-05T21:24:16.198033Z",
     "shell.execute_reply": "2022-12-05T21:24:16.197657Z"
    },
    "papermill": {
     "duration": 0.024516,
     "end_time": "2022-12-05T21:24:16.199718",
     "exception": false,
     "start_time": "2022-12-05T21:24:16.175202",
     "status": "completed"
    },
    "tags": [
     "parameters"
    ]
   },
   "outputs": [],
   "source": [
    "# a cohort name (it could be something like UK_BIOBANK, etc)\n",
    "COHORT_NAME = None\n",
    "\n",
    "# reference panel such as 1000G or GTEX_V8\n",
    "REFERENCE_PANEL = \"GTEX_V8\"\n",
    "\n",
    "# predictions models such as MASHR or ELASTIC_NET\n",
    "EQTL_MODEL = \"MASHR\"\n",
    "\n",
    "# A range of LVs in the format X-Y, such as 1-50 (from LV1 to LV50).\n",
    "# If None, all LVs will be processed.\n",
    "LV_RANGE = None\n",
    "\n",
    "# A number from 0.0 to 1.0 indicating the top percentile of the genes in the LV to keep.\n",
    "# A value of 0.01 would take the top 1% of the genes in the LV.\n",
    "# If zero or None, then all nonzero weighted genes in the LV will be kept.\n",
    "LV_PERCENTILE = None"
   ]
  },
  {
   "cell_type": "code",
   "execution_count": 4,
   "id": "fffefe27",
   "metadata": {
    "execution": {
     "iopub.execute_input": "2022-12-05T21:24:16.214670Z",
     "iopub.status.busy": "2022-12-05T21:24:16.214526Z",
     "iopub.status.idle": "2022-12-05T21:24:16.229961Z",
     "shell.execute_reply": "2022-12-05T21:24:16.229588Z"
    },
    "papermill": {
     "duration": 0.025287,
     "end_time": "2022-12-05T21:24:16.231604",
     "exception": false,
     "start_time": "2022-12-05T21:24:16.206317",
     "status": "completed"
    },
    "tags": [
     "injected-parameters"
    ]
   },
   "outputs": [],
   "source": [
    "# Parameters\n",
    "PHENOPLIER_NOTEBOOK_FILEPATH = (\n",
    "    \"projects/asthma-copd/nbs/20_gene_corrs/jobs/15-create_corr_mat_per_lv.ipynb\"\n",
    ")\n",
    "COHORT_NAME = \"aco\"\n",
    "LV_RANGE = \"51-100\"\n",
    "LV_PERCENTILE = \"0.01\"\n",
    "OUTPUT_DIR_BASE = \"/opt/data/projects/asthma-copd/results/gls_phenoplier\"\n"
   ]
  },
  {
   "cell_type": "code",
   "execution_count": 5,
   "id": "1dbaa2d1-b4d2-4247-bbdc-84f9a08fe15a",
   "metadata": {
    "execution": {
     "iopub.execute_input": "2022-12-05T21:24:16.245746Z",
     "iopub.status.busy": "2022-12-05T21:24:16.245601Z",
     "iopub.status.idle": "2022-12-05T21:24:16.260892Z",
     "shell.execute_reply": "2022-12-05T21:24:16.260514Z"
    },
    "papermill": {
     "duration": 0.02427,
     "end_time": "2022-12-05T21:24:16.262505",
     "exception": false,
     "start_time": "2022-12-05T21:24:16.238235",
     "status": "completed"
    },
    "tags": []
   },
   "outputs": [],
   "source": [
    "N_JOBS = 1"
   ]
  },
  {
   "cell_type": "code",
   "execution_count": 6,
   "id": "10c1d77a-c024-4d52-8888-7806944731ff",
   "metadata": {
    "execution": {
     "iopub.execute_input": "2022-12-05T21:24:16.277388Z",
     "iopub.status.busy": "2022-12-05T21:24:16.277256Z",
     "iopub.status.idle": "2022-12-05T21:24:16.302714Z",
     "shell.execute_reply": "2022-12-05T21:24:16.302324Z"
    },
    "papermill": {
     "duration": 0.034569,
     "end_time": "2022-12-05T21:24:16.304287",
     "exception": false,
     "start_time": "2022-12-05T21:24:16.269718",
     "status": "completed"
    },
    "tags": []
   },
   "outputs": [
    {
     "data": {
      "text/plain": [
       "'Cohort name: aco'"
      ]
     },
     "metadata": {},
     "output_type": "display_data"
    }
   ],
   "source": [
    "assert COHORT_NAME is not None and len(COHORT_NAME) > 0, \"A cohort name must be given\"\n",
    "\n",
    "COHORT_NAME = COHORT_NAME.lower()\n",
    "display(f\"Cohort name: {COHORT_NAME}\")"
   ]
  },
  {
   "cell_type": "code",
   "execution_count": 7,
   "id": "2d74d598-860b-4994-a8ab-495c6ea1d93d",
   "metadata": {
    "execution": {
     "iopub.execute_input": "2022-12-05T21:24:16.318945Z",
     "iopub.status.busy": "2022-12-05T21:24:16.318783Z",
     "iopub.status.idle": "2022-12-05T21:24:16.339832Z",
     "shell.execute_reply": "2022-12-05T21:24:16.339443Z"
    },
    "papermill": {
     "duration": 0.030235,
     "end_time": "2022-12-05T21:24:16.341263",
     "exception": false,
     "start_time": "2022-12-05T21:24:16.311028",
     "status": "completed"
    },
    "tags": []
   },
   "outputs": [
    {
     "data": {
      "text/plain": [
       "'Reference panel: GTEX_V8'"
      ]
     },
     "metadata": {},
     "output_type": "display_data"
    }
   ],
   "source": [
    "assert (\n",
    "    REFERENCE_PANEL is not None and len(REFERENCE_PANEL) > 0\n",
    "), \"A reference panel must be given\"\n",
    "\n",
    "display(f\"Reference panel: {REFERENCE_PANEL}\")"
   ]
  },
  {
   "cell_type": "code",
   "execution_count": 8,
   "id": "23fccc89-f877-46a0-86c9-caa7b2cd71e2",
   "metadata": {
    "execution": {
     "iopub.execute_input": "2022-12-05T21:24:16.356149Z",
     "iopub.status.busy": "2022-12-05T21:24:16.355990Z",
     "iopub.status.idle": "2022-12-05T21:24:16.377276Z",
     "shell.execute_reply": "2022-12-05T21:24:16.376883Z"
    },
    "papermill": {
     "duration": 0.030561,
     "end_time": "2022-12-05T21:24:16.378674",
     "exception": false,
     "start_time": "2022-12-05T21:24:16.348113",
     "status": "completed"
    },
    "tags": []
   },
   "outputs": [
    {
     "data": {
      "text/plain": [
       "'eQTL model: MASHR / mashr_'"
      ]
     },
     "metadata": {},
     "output_type": "display_data"
    }
   ],
   "source": [
    "assert (\n",
    "    EQTL_MODEL is not None and len(EQTL_MODEL) > 0\n",
    "), \"A prediction/eQTL model must be given\"\n",
    "\n",
    "EQTL_MODEL_FILES_PREFIX = conf.PHENOMEXCAN[\"PREDICTION_MODELS\"][f\"{EQTL_MODEL}_PREFIX\"]\n",
    "display(f\"eQTL model: {EQTL_MODEL} / {EQTL_MODEL_FILES_PREFIX}\")"
   ]
  },
  {
   "cell_type": "code",
   "execution_count": 9,
   "id": "9cf97d20-389b-4919-acff-a1e2e1c5a707",
   "metadata": {
    "execution": {
     "iopub.execute_input": "2022-12-05T21:24:16.394310Z",
     "iopub.status.busy": "2022-12-05T21:24:16.394151Z",
     "iopub.status.idle": "2022-12-05T21:24:16.415254Z",
     "shell.execute_reply": "2022-12-05T21:24:16.414870Z"
    },
    "papermill": {
     "duration": 0.030424,
     "end_time": "2022-12-05T21:24:16.416642",
     "exception": false,
     "start_time": "2022-12-05T21:24:16.386218",
     "status": "completed"
    },
    "tags": []
   },
   "outputs": [
    {
     "data": {
      "text/plain": [
       "'LV percentile: 0.01'"
      ]
     },
     "metadata": {},
     "output_type": "display_data"
    }
   ],
   "source": [
    "if LV_PERCENTILE is not None:\n",
    "    LV_PERCENTILE = float(LV_PERCENTILE)\n",
    "\n",
    "display(f\"LV percentile: {LV_PERCENTILE}\")"
   ]
  },
  {
   "cell_type": "code",
   "execution_count": 10,
   "id": "b3320631-6bf0-4878-85d4-9a81497c0b3c",
   "metadata": {
    "execution": {
     "iopub.execute_input": "2022-12-05T21:24:16.431936Z",
     "iopub.status.busy": "2022-12-05T21:24:16.431781Z",
     "iopub.status.idle": "2022-12-05T21:24:16.457489Z",
     "shell.execute_reply": "2022-12-05T21:24:16.457050Z"
    },
    "papermill": {
     "duration": 0.035168,
     "end_time": "2022-12-05T21:24:16.458943",
     "exception": false,
     "start_time": "2022-12-05T21:24:16.423775",
     "status": "completed"
    },
    "tags": []
   },
   "outputs": [
    {
     "data": {
      "text/plain": [
       "'Using output dir base: /opt/data/projects/asthma-copd/results/gls_phenoplier/gene_corrs/aco'"
      ]
     },
     "metadata": {},
     "output_type": "display_data"
    }
   ],
   "source": [
    "assert (\n",
    "    OUTPUT_DIR_BASE is not None and len(OUTPUT_DIR_BASE) > 0\n",
    "), \"Output directory path must be given\"\n",
    "\n",
    "OUTPUT_DIR_BASE = (Path(OUTPUT_DIR_BASE) / \"gene_corrs\" / COHORT_NAME).resolve()\n",
    "\n",
    "OUTPUT_DIR_BASE.mkdir(parents=True, exist_ok=True)\n",
    "\n",
    "display(f\"Using output dir base: {OUTPUT_DIR_BASE}\")"
   ]
  },
  {
   "cell_type": "markdown",
   "id": "99ccb166",
   "metadata": {
    "papermill": {
     "duration": 0.00724,
     "end_time": "2022-12-05T21:24:16.473369",
     "exception": false,
     "start_time": "2022-12-05T21:24:16.466129",
     "status": "completed"
    },
    "tags": []
   },
   "source": [
    "# Load data"
   ]
  },
  {
   "cell_type": "markdown",
   "id": "d5262187-494c-4399-8b71-cbbc3e20a9df",
   "metadata": {
    "papermill": {
     "duration": 0.007162,
     "end_time": "2022-12-05T21:24:16.488122",
     "exception": false,
     "start_time": "2022-12-05T21:24:16.480960",
     "status": "completed"
    },
    "tags": []
   },
   "source": [
    "## Gene correlations"
   ]
  },
  {
   "cell_type": "code",
   "execution_count": 11,
   "id": "2f174f95-2be3-4b63-95fb-451413ad361d",
   "metadata": {
    "execution": {
     "iopub.execute_input": "2022-12-05T21:24:16.503671Z",
     "iopub.status.busy": "2022-12-05T21:24:16.503476Z",
     "iopub.status.idle": "2022-12-05T21:24:16.530051Z",
     "shell.execute_reply": "2022-12-05T21:24:16.529607Z"
    },
    "papermill": {
     "duration": 0.036294,
     "end_time": "2022-12-05T21:24:16.531528",
     "exception": false,
     "start_time": "2022-12-05T21:24:16.495234",
     "status": "completed"
    },
    "tags": []
   },
   "outputs": [
    {
     "data": {
      "text/plain": [
       "[PosixPath('/opt/data/projects/asthma-copd/results/gls_phenoplier/gene_corrs/aco/gene_corrs-symbols.pkl')]"
      ]
     },
     "metadata": {},
     "output_type": "display_data"
    }
   ],
   "source": [
    "input_files = list(OUTPUT_DIR_BASE.glob(\"gene_corrs-symbols*.pkl\"))\n",
    "display(input_files)\n",
    "assert len(input_files) > 0, \"No input correlation files\""
   ]
  },
  {
   "cell_type": "code",
   "execution_count": 12,
   "id": "e6838c80-57e3-4a7a-8ee1-ed5948645508",
   "metadata": {
    "execution": {
     "iopub.execute_input": "2022-12-05T21:24:16.547573Z",
     "iopub.status.busy": "2022-12-05T21:24:16.547375Z",
     "iopub.status.idle": "2022-12-05T21:24:16.691418Z",
     "shell.execute_reply": "2022-12-05T21:24:16.691042Z"
    },
    "papermill": {
     "duration": 0.154133,
     "end_time": "2022-12-05T21:24:16.693133",
     "exception": false,
     "start_time": "2022-12-05T21:24:16.539000",
     "status": "completed"
    },
    "tags": []
   },
   "outputs": [],
   "source": [
    "# load correlation matrix\n",
    "gene_corrs_dict = {f.name: pd.read_pickle(f) for f in input_files}"
   ]
  },
  {
   "cell_type": "code",
   "execution_count": 13,
   "id": "b9db5c98-a8aa-4e31-b25d-2b9ee16a2182",
   "metadata": {
    "execution": {
     "iopub.execute_input": "2022-12-05T21:24:16.709548Z",
     "iopub.status.busy": "2022-12-05T21:24:16.709423Z",
     "iopub.status.idle": "2022-12-05T21:24:16.724505Z",
     "shell.execute_reply": "2022-12-05T21:24:16.724132Z"
    },
    "papermill": {
     "duration": 0.024964,
     "end_time": "2022-12-05T21:24:16.726121",
     "exception": false,
     "start_time": "2022-12-05T21:24:16.701157",
     "status": "completed"
    },
    "tags": []
   },
   "outputs": [],
   "source": [
    "orig_corr_name = \"gene_corrs-symbols.pkl\""
   ]
  },
  {
   "cell_type": "code",
   "execution_count": 14,
   "id": "981b0c08-4217-4d0b-b0f7-57c8cf015055",
   "metadata": {
    "execution": {
     "iopub.execute_input": "2022-12-05T21:24:16.742602Z",
     "iopub.status.busy": "2022-12-05T21:24:16.742345Z",
     "iopub.status.idle": "2022-12-05T21:24:16.758319Z",
     "shell.execute_reply": "2022-12-05T21:24:16.757990Z"
    },
    "papermill": {
     "duration": 0.026159,
     "end_time": "2022-12-05T21:24:16.759789",
     "exception": false,
     "start_time": "2022-12-05T21:24:16.733630",
     "status": "completed"
    },
    "tags": []
   },
   "outputs": [
    {
     "data": {
      "text/plain": [
       "(6442, 6442)"
      ]
     },
     "execution_count": 14,
     "metadata": {},
     "output_type": "execute_result"
    }
   ],
   "source": [
    "gene_corrs_dict[orig_corr_name].shape"
   ]
  },
  {
   "cell_type": "code",
   "execution_count": 15,
   "id": "49fb8383-23fc-40d7-adf6-70f5770ee37f",
   "metadata": {
    "execution": {
     "iopub.execute_input": "2022-12-05T21:24:16.776083Z",
     "iopub.status.busy": "2022-12-05T21:24:16.775957Z",
     "iopub.status.idle": "2022-12-05T21:24:16.803648Z",
     "shell.execute_reply": "2022-12-05T21:24:16.803285Z"
    },
    "papermill": {
     "duration": 0.0377,
     "end_time": "2022-12-05T21:24:16.805124",
     "exception": false,
     "start_time": "2022-12-05T21:24:16.767424",
     "status": "completed"
    },
    "tags": []
   },
   "outputs": [
    {
     "data": {
      "text/html": [
       "<div>\n",
       "<style scoped>\n",
       "    .dataframe tbody tr th:only-of-type {\n",
       "        vertical-align: middle;\n",
       "    }\n",
       "\n",
       "    .dataframe tbody tr th {\n",
       "        vertical-align: top;\n",
       "    }\n",
       "\n",
       "    .dataframe thead th {\n",
       "        text-align: right;\n",
       "    }\n",
       "</style>\n",
       "<table border=\"1\" class=\"dataframe\">\n",
       "  <thead>\n",
       "    <tr style=\"text-align: right;\">\n",
       "      <th></th>\n",
       "      <th>NOC2L</th>\n",
       "      <th>HES4</th>\n",
       "      <th>ISG15</th>\n",
       "      <th>AGRN</th>\n",
       "      <th>TNFRSF18</th>\n",
       "      <th>TNFRSF4</th>\n",
       "      <th>B3GALT6</th>\n",
       "      <th>UBE2J2</th>\n",
       "      <th>ACAP3</th>\n",
       "      <th>TAS1R3</th>\n",
       "      <th>...</th>\n",
       "      <th>PLXNB2</th>\n",
       "      <th>ADM2</th>\n",
       "      <th>MIOX</th>\n",
       "      <th>SCO2</th>\n",
       "      <th>TYMP</th>\n",
       "      <th>CPT1B</th>\n",
       "      <th>CHKB</th>\n",
       "      <th>MAPK8IP2</th>\n",
       "      <th>ARSA</th>\n",
       "      <th>SHANK3</th>\n",
       "    </tr>\n",
       "  </thead>\n",
       "  <tbody>\n",
       "    <tr>\n",
       "      <th>NOC2L</th>\n",
       "      <td>1.000000</td>\n",
       "      <td>0.120590</td>\n",
       "      <td>0.177063</td>\n",
       "      <td>0.085746</td>\n",
       "      <td>0.006792</td>\n",
       "      <td>0.007685</td>\n",
       "      <td>0.004673</td>\n",
       "      <td>0.010734</td>\n",
       "      <td>0.011200</td>\n",
       "      <td>0.007529</td>\n",
       "      <td>...</td>\n",
       "      <td>0.0</td>\n",
       "      <td>0.0</td>\n",
       "      <td>0.0</td>\n",
       "      <td>0.0</td>\n",
       "      <td>0.0</td>\n",
       "      <td>0.0</td>\n",
       "      <td>0.0</td>\n",
       "      <td>0.0</td>\n",
       "      <td>0.0</td>\n",
       "      <td>0.0</td>\n",
       "    </tr>\n",
       "    <tr>\n",
       "      <th>HES4</th>\n",
       "      <td>0.120590</td>\n",
       "      <td>1.000000</td>\n",
       "      <td>0.672060</td>\n",
       "      <td>0.391127</td>\n",
       "      <td>0.011695</td>\n",
       "      <td>0.009275</td>\n",
       "      <td>0.005970</td>\n",
       "      <td>0.007385</td>\n",
       "      <td>0.002641</td>\n",
       "      <td>0.004767</td>\n",
       "      <td>...</td>\n",
       "      <td>0.0</td>\n",
       "      <td>0.0</td>\n",
       "      <td>0.0</td>\n",
       "      <td>0.0</td>\n",
       "      <td>0.0</td>\n",
       "      <td>0.0</td>\n",
       "      <td>0.0</td>\n",
       "      <td>0.0</td>\n",
       "      <td>0.0</td>\n",
       "      <td>0.0</td>\n",
       "    </tr>\n",
       "    <tr>\n",
       "      <th>ISG15</th>\n",
       "      <td>0.177063</td>\n",
       "      <td>0.672060</td>\n",
       "      <td>1.000000</td>\n",
       "      <td>0.424696</td>\n",
       "      <td>0.013929</td>\n",
       "      <td>0.013311</td>\n",
       "      <td>0.008466</td>\n",
       "      <td>0.010608</td>\n",
       "      <td>0.006689</td>\n",
       "      <td>0.011659</td>\n",
       "      <td>...</td>\n",
       "      <td>0.0</td>\n",
       "      <td>0.0</td>\n",
       "      <td>0.0</td>\n",
       "      <td>0.0</td>\n",
       "      <td>0.0</td>\n",
       "      <td>0.0</td>\n",
       "      <td>0.0</td>\n",
       "      <td>0.0</td>\n",
       "      <td>0.0</td>\n",
       "      <td>0.0</td>\n",
       "    </tr>\n",
       "    <tr>\n",
       "      <th>AGRN</th>\n",
       "      <td>0.085746</td>\n",
       "      <td>0.391127</td>\n",
       "      <td>0.424696</td>\n",
       "      <td>1.000000</td>\n",
       "      <td>0.005309</td>\n",
       "      <td>0.011848</td>\n",
       "      <td>0.002161</td>\n",
       "      <td>0.002535</td>\n",
       "      <td>0.005359</td>\n",
       "      <td>0.007012</td>\n",
       "      <td>...</td>\n",
       "      <td>0.0</td>\n",
       "      <td>0.0</td>\n",
       "      <td>0.0</td>\n",
       "      <td>0.0</td>\n",
       "      <td>0.0</td>\n",
       "      <td>0.0</td>\n",
       "      <td>0.0</td>\n",
       "      <td>0.0</td>\n",
       "      <td>0.0</td>\n",
       "      <td>0.0</td>\n",
       "    </tr>\n",
       "    <tr>\n",
       "      <th>TNFRSF18</th>\n",
       "      <td>0.006792</td>\n",
       "      <td>0.011695</td>\n",
       "      <td>0.013929</td>\n",
       "      <td>0.005309</td>\n",
       "      <td>1.000000</td>\n",
       "      <td>0.338085</td>\n",
       "      <td>0.550817</td>\n",
       "      <td>0.154394</td>\n",
       "      <td>0.193627</td>\n",
       "      <td>0.101004</td>\n",
       "      <td>...</td>\n",
       "      <td>0.0</td>\n",
       "      <td>0.0</td>\n",
       "      <td>0.0</td>\n",
       "      <td>0.0</td>\n",
       "      <td>0.0</td>\n",
       "      <td>0.0</td>\n",
       "      <td>0.0</td>\n",
       "      <td>0.0</td>\n",
       "      <td>0.0</td>\n",
       "      <td>0.0</td>\n",
       "    </tr>\n",
       "  </tbody>\n",
       "</table>\n",
       "<p>5 rows × 6442 columns</p>\n",
       "</div>"
      ],
      "text/plain": [
       "             NOC2L      HES4     ISG15      AGRN  TNFRSF18   TNFRSF4  \\\n",
       "NOC2L     1.000000  0.120590  0.177063  0.085746  0.006792  0.007685   \n",
       "HES4      0.120590  1.000000  0.672060  0.391127  0.011695  0.009275   \n",
       "ISG15     0.177063  0.672060  1.000000  0.424696  0.013929  0.013311   \n",
       "AGRN      0.085746  0.391127  0.424696  1.000000  0.005309  0.011848   \n",
       "TNFRSF18  0.006792  0.011695  0.013929  0.005309  1.000000  0.338085   \n",
       "\n",
       "           B3GALT6    UBE2J2     ACAP3    TAS1R3  ...  PLXNB2  ADM2  MIOX  \\\n",
       "NOC2L     0.004673  0.010734  0.011200  0.007529  ...     0.0   0.0   0.0   \n",
       "HES4      0.005970  0.007385  0.002641  0.004767  ...     0.0   0.0   0.0   \n",
       "ISG15     0.008466  0.010608  0.006689  0.011659  ...     0.0   0.0   0.0   \n",
       "AGRN      0.002161  0.002535  0.005359  0.007012  ...     0.0   0.0   0.0   \n",
       "TNFRSF18  0.550817  0.154394  0.193627  0.101004  ...     0.0   0.0   0.0   \n",
       "\n",
       "          SCO2  TYMP  CPT1B  CHKB  MAPK8IP2  ARSA  SHANK3  \n",
       "NOC2L      0.0   0.0    0.0   0.0       0.0   0.0     0.0  \n",
       "HES4       0.0   0.0    0.0   0.0       0.0   0.0     0.0  \n",
       "ISG15      0.0   0.0    0.0   0.0       0.0   0.0     0.0  \n",
       "AGRN       0.0   0.0    0.0   0.0       0.0   0.0     0.0  \n",
       "TNFRSF18   0.0   0.0    0.0   0.0       0.0   0.0     0.0  \n",
       "\n",
       "[5 rows x 6442 columns]"
      ]
     },
     "execution_count": 15,
     "metadata": {},
     "output_type": "execute_result"
    }
   ],
   "source": [
    "gene_corrs_dict[orig_corr_name].head()"
   ]
  },
  {
   "cell_type": "code",
   "execution_count": 16,
   "id": "4fb66ba4-9fd3-4dc5-9538-eadd5e9f81c7",
   "metadata": {
    "execution": {
     "iopub.execute_input": "2022-12-05T21:24:16.823001Z",
     "iopub.status.busy": "2022-12-05T21:24:16.822740Z",
     "iopub.status.idle": "2022-12-05T21:24:16.838193Z",
     "shell.execute_reply": "2022-12-05T21:24:16.837824Z"
    },
    "papermill": {
     "duration": 0.026076,
     "end_time": "2022-12-05T21:24:16.839815",
     "exception": false,
     "start_time": "2022-12-05T21:24:16.813739",
     "status": "completed"
    },
    "tags": []
   },
   "outputs": [],
   "source": [
    "current_index = gene_corrs_dict[orig_corr_name].index\n",
    "assert all(\n",
    "    [current_index.equals(gc.index) for k, gc in gene_corrs_dict.items()]\n",
    "), \"Correlation matrices are not compatible\""
   ]
  },
  {
   "cell_type": "markdown",
   "id": "46ae0b3e",
   "metadata": {
    "papermill": {
     "duration": 0.008057,
     "end_time": "2022-12-05T21:24:16.856025",
     "exception": false,
     "start_time": "2022-12-05T21:24:16.847968",
     "status": "completed"
    },
    "tags": []
   },
   "source": [
    "## MultiPLIER Z"
   ]
  },
  {
   "cell_type": "code",
   "execution_count": 17,
   "id": "d38d9749",
   "metadata": {
    "execution": {
     "iopub.execute_input": "2022-12-05T21:24:16.873663Z",
     "iopub.status.busy": "2022-12-05T21:24:16.873470Z",
     "iopub.status.idle": "2022-12-05T21:24:16.927154Z",
     "shell.execute_reply": "2022-12-05T21:24:16.926654Z"
    },
    "papermill": {
     "duration": 0.065019,
     "end_time": "2022-12-05T21:24:16.928997",
     "exception": false,
     "start_time": "2022-12-05T21:24:16.863978",
     "status": "completed"
    },
    "tags": []
   },
   "outputs": [],
   "source": [
    "multiplier_z = pd.read_pickle(conf.MULTIPLIER[\"MODEL_Z_MATRIX_FILE\"])"
   ]
  },
  {
   "cell_type": "code",
   "execution_count": 18,
   "id": "67e93797",
   "metadata": {
    "execution": {
     "iopub.execute_input": "2022-12-05T21:24:16.946715Z",
     "iopub.status.busy": "2022-12-05T21:24:16.946399Z",
     "iopub.status.idle": "2022-12-05T21:24:16.972394Z",
     "shell.execute_reply": "2022-12-05T21:24:16.971953Z"
    },
    "papermill": {
     "duration": 0.036689,
     "end_time": "2022-12-05T21:24:16.973810",
     "exception": false,
     "start_time": "2022-12-05T21:24:16.937121",
     "status": "completed"
    },
    "tags": []
   },
   "outputs": [
    {
     "data": {
      "text/plain": [
       "(6750, 987)"
      ]
     },
     "execution_count": 18,
     "metadata": {},
     "output_type": "execute_result"
    }
   ],
   "source": [
    "multiplier_z.shape"
   ]
  },
  {
   "cell_type": "code",
   "execution_count": 19,
   "id": "e1ba1ead",
   "metadata": {
    "execution": {
     "iopub.execute_input": "2022-12-05T21:24:16.992350Z",
     "iopub.status.busy": "2022-12-05T21:24:16.992032Z",
     "iopub.status.idle": "2022-12-05T21:24:17.034142Z",
     "shell.execute_reply": "2022-12-05T21:24:17.033688Z"
    },
    "papermill": {
     "duration": 0.053529,
     "end_time": "2022-12-05T21:24:17.035600",
     "exception": false,
     "start_time": "2022-12-05T21:24:16.982071",
     "status": "completed"
    },
    "tags": []
   },
   "outputs": [
    {
     "data": {
      "text/html": [
       "<div>\n",
       "<style scoped>\n",
       "    .dataframe tbody tr th:only-of-type {\n",
       "        vertical-align: middle;\n",
       "    }\n",
       "\n",
       "    .dataframe tbody tr th {\n",
       "        vertical-align: top;\n",
       "    }\n",
       "\n",
       "    .dataframe thead th {\n",
       "        text-align: right;\n",
       "    }\n",
       "</style>\n",
       "<table border=\"1\" class=\"dataframe\">\n",
       "  <thead>\n",
       "    <tr style=\"text-align: right;\">\n",
       "      <th></th>\n",
       "      <th>LV1</th>\n",
       "      <th>LV2</th>\n",
       "      <th>LV3</th>\n",
       "      <th>LV4</th>\n",
       "      <th>LV5</th>\n",
       "      <th>LV6</th>\n",
       "      <th>LV7</th>\n",
       "      <th>LV8</th>\n",
       "      <th>LV9</th>\n",
       "      <th>LV10</th>\n",
       "      <th>...</th>\n",
       "      <th>LV978</th>\n",
       "      <th>LV979</th>\n",
       "      <th>LV980</th>\n",
       "      <th>LV981</th>\n",
       "      <th>LV982</th>\n",
       "      <th>LV983</th>\n",
       "      <th>LV984</th>\n",
       "      <th>LV985</th>\n",
       "      <th>LV986</th>\n",
       "      <th>LV987</th>\n",
       "    </tr>\n",
       "  </thead>\n",
       "  <tbody>\n",
       "    <tr>\n",
       "      <th>GAS6</th>\n",
       "      <td>0.000000</td>\n",
       "      <td>0.0</td>\n",
       "      <td>0.039438</td>\n",
       "      <td>0.0</td>\n",
       "      <td>0.050476</td>\n",
       "      <td>0.000000</td>\n",
       "      <td>0.0</td>\n",
       "      <td>0.000000</td>\n",
       "      <td>0.590949</td>\n",
       "      <td>0.000000</td>\n",
       "      <td>...</td>\n",
       "      <td>0.050125</td>\n",
       "      <td>0.00000</td>\n",
       "      <td>0.033407</td>\n",
       "      <td>0.000000</td>\n",
       "      <td>0.000000</td>\n",
       "      <td>0.005963</td>\n",
       "      <td>0.347362</td>\n",
       "      <td>0.0</td>\n",
       "      <td>0.000000</td>\n",
       "      <td>0.000000</td>\n",
       "    </tr>\n",
       "    <tr>\n",
       "      <th>MMP14</th>\n",
       "      <td>0.000000</td>\n",
       "      <td>0.0</td>\n",
       "      <td>0.000000</td>\n",
       "      <td>0.0</td>\n",
       "      <td>0.070072</td>\n",
       "      <td>0.000000</td>\n",
       "      <td>0.0</td>\n",
       "      <td>0.004904</td>\n",
       "      <td>1.720179</td>\n",
       "      <td>2.423595</td>\n",
       "      <td>...</td>\n",
       "      <td>0.000000</td>\n",
       "      <td>0.00000</td>\n",
       "      <td>0.001007</td>\n",
       "      <td>0.000000</td>\n",
       "      <td>0.035747</td>\n",
       "      <td>0.000000</td>\n",
       "      <td>0.000000</td>\n",
       "      <td>0.0</td>\n",
       "      <td>0.014978</td>\n",
       "      <td>0.000000</td>\n",
       "    </tr>\n",
       "    <tr>\n",
       "      <th>DSP</th>\n",
       "      <td>0.000000</td>\n",
       "      <td>0.0</td>\n",
       "      <td>0.000000</td>\n",
       "      <td>0.0</td>\n",
       "      <td>0.000000</td>\n",
       "      <td>0.041697</td>\n",
       "      <td>0.0</td>\n",
       "      <td>0.005718</td>\n",
       "      <td>0.000000</td>\n",
       "      <td>0.000000</td>\n",
       "      <td>...</td>\n",
       "      <td>0.020853</td>\n",
       "      <td>0.00000</td>\n",
       "      <td>0.000000</td>\n",
       "      <td>0.000000</td>\n",
       "      <td>0.000000</td>\n",
       "      <td>0.005774</td>\n",
       "      <td>0.000000</td>\n",
       "      <td>0.0</td>\n",
       "      <td>0.000000</td>\n",
       "      <td>0.416405</td>\n",
       "    </tr>\n",
       "    <tr>\n",
       "      <th>MARCKSL1</th>\n",
       "      <td>0.305212</td>\n",
       "      <td>0.0</td>\n",
       "      <td>0.000000</td>\n",
       "      <td>0.0</td>\n",
       "      <td>0.000000</td>\n",
       "      <td>0.000000</td>\n",
       "      <td>0.0</td>\n",
       "      <td>0.000000</td>\n",
       "      <td>0.161843</td>\n",
       "      <td>0.149471</td>\n",
       "      <td>...</td>\n",
       "      <td>0.027134</td>\n",
       "      <td>0.05272</td>\n",
       "      <td>0.000000</td>\n",
       "      <td>0.030189</td>\n",
       "      <td>0.060884</td>\n",
       "      <td>0.000000</td>\n",
       "      <td>0.000000</td>\n",
       "      <td>0.0</td>\n",
       "      <td>0.000000</td>\n",
       "      <td>0.448480</td>\n",
       "    </tr>\n",
       "    <tr>\n",
       "      <th>SPARC</th>\n",
       "      <td>0.000000</td>\n",
       "      <td>0.0</td>\n",
       "      <td>0.000000</td>\n",
       "      <td>0.0</td>\n",
       "      <td>0.000000</td>\n",
       "      <td>0.000000</td>\n",
       "      <td>0.0</td>\n",
       "      <td>0.000000</td>\n",
       "      <td>0.000000</td>\n",
       "      <td>0.014014</td>\n",
       "      <td>...</td>\n",
       "      <td>0.000000</td>\n",
       "      <td>0.00000</td>\n",
       "      <td>0.000000</td>\n",
       "      <td>0.000000</td>\n",
       "      <td>0.000000</td>\n",
       "      <td>0.000000</td>\n",
       "      <td>0.067779</td>\n",
       "      <td>0.0</td>\n",
       "      <td>0.122417</td>\n",
       "      <td>0.062665</td>\n",
       "    </tr>\n",
       "  </tbody>\n",
       "</table>\n",
       "<p>5 rows × 987 columns</p>\n",
       "</div>"
      ],
      "text/plain": [
       "               LV1  LV2       LV3  LV4       LV5       LV6  LV7       LV8  \\\n",
       "GAS6      0.000000  0.0  0.039438  0.0  0.050476  0.000000  0.0  0.000000   \n",
       "MMP14     0.000000  0.0  0.000000  0.0  0.070072  0.000000  0.0  0.004904   \n",
       "DSP       0.000000  0.0  0.000000  0.0  0.000000  0.041697  0.0  0.005718   \n",
       "MARCKSL1  0.305212  0.0  0.000000  0.0  0.000000  0.000000  0.0  0.000000   \n",
       "SPARC     0.000000  0.0  0.000000  0.0  0.000000  0.000000  0.0  0.000000   \n",
       "\n",
       "               LV9      LV10  ...     LV978    LV979     LV980     LV981  \\\n",
       "GAS6      0.590949  0.000000  ...  0.050125  0.00000  0.033407  0.000000   \n",
       "MMP14     1.720179  2.423595  ...  0.000000  0.00000  0.001007  0.000000   \n",
       "DSP       0.000000  0.000000  ...  0.020853  0.00000  0.000000  0.000000   \n",
       "MARCKSL1  0.161843  0.149471  ...  0.027134  0.05272  0.000000  0.030189   \n",
       "SPARC     0.000000  0.014014  ...  0.000000  0.00000  0.000000  0.000000   \n",
       "\n",
       "             LV982     LV983     LV984  LV985     LV986     LV987  \n",
       "GAS6      0.000000  0.005963  0.347362    0.0  0.000000  0.000000  \n",
       "MMP14     0.035747  0.000000  0.000000    0.0  0.014978  0.000000  \n",
       "DSP       0.000000  0.005774  0.000000    0.0  0.000000  0.416405  \n",
       "MARCKSL1  0.060884  0.000000  0.000000    0.0  0.000000  0.448480  \n",
       "SPARC     0.000000  0.000000  0.067779    0.0  0.122417  0.062665  \n",
       "\n",
       "[5 rows x 987 columns]"
      ]
     },
     "execution_count": 19,
     "metadata": {},
     "output_type": "execute_result"
    }
   ],
   "source": [
    "multiplier_z.head()"
   ]
  },
  {
   "cell_type": "markdown",
   "id": "f4d4f177",
   "metadata": {
    "papermill": {
     "duration": 0.008452,
     "end_time": "2022-12-05T21:24:17.052937",
     "exception": false,
     "start_time": "2022-12-05T21:24:17.044485",
     "status": "completed"
    },
    "tags": []
   },
   "source": [
    "# Compute inverse correlation matrix for each LV"
   ]
  },
  {
   "cell_type": "code",
   "execution_count": 20,
   "id": "6f604dfc-91b4-4e2e-b848-6099fed0b44e",
   "metadata": {
    "execution": {
     "iopub.execute_input": "2022-12-05T21:24:17.071916Z",
     "iopub.status.busy": "2022-12-05T21:24:17.071600Z",
     "iopub.status.idle": "2022-12-05T21:24:17.096872Z",
     "shell.execute_reply": "2022-12-05T21:24:17.096364Z"
    },
    "papermill": {
     "duration": 0.036994,
     "end_time": "2022-12-05T21:24:17.098633",
     "exception": false,
     "start_time": "2022-12-05T21:24:17.061639",
     "status": "completed"
    },
    "tags": []
   },
   "outputs": [],
   "source": [
    "def exists_df(output_dir, base_filename):\n",
    "    full_filepath = output_dir / (base_filename + \".npz\")\n",
    "\n",
    "    return full_filepath.exists()"
   ]
  },
  {
   "cell_type": "code",
   "execution_count": 21,
   "id": "f5bd311e-e0f0-424e-8384-763f4bf7e21c",
   "metadata": {
    "execution": {
     "iopub.execute_input": "2022-12-05T21:24:17.117492Z",
     "iopub.status.busy": "2022-12-05T21:24:17.117174Z",
     "iopub.status.idle": "2022-12-05T21:24:17.143115Z",
     "shell.execute_reply": "2022-12-05T21:24:17.142627Z"
    },
    "papermill": {
     "duration": 0.037416,
     "end_time": "2022-12-05T21:24:17.144881",
     "exception": false,
     "start_time": "2022-12-05T21:24:17.107465",
     "status": "completed"
    },
    "tags": []
   },
   "outputs": [],
   "source": [
    "def store_df(output_dir, nparray, base_filename):\n",
    "    if base_filename in (\"metadata\", \"gene_names\"):\n",
    "        np.savez_compressed(output_dir / (base_filename + \".npz\"), data=nparray)\n",
    "    else:\n",
    "        sparse.save_npz(\n",
    "            output_dir / (base_filename + \".npz\"),\n",
    "            sparse.csc_matrix(nparray),\n",
    "            compressed=False,\n",
    "        )"
   ]
  },
  {
   "cell_type": "code",
   "execution_count": 22,
   "id": "3f6edd17-2654-4957-a592-361f74ec96df",
   "metadata": {
    "execution": {
     "iopub.execute_input": "2022-12-05T21:24:17.164065Z",
     "iopub.status.busy": "2022-12-05T21:24:17.163749Z",
     "iopub.status.idle": "2022-12-05T21:24:17.189112Z",
     "shell.execute_reply": "2022-12-05T21:24:17.188620Z"
    },
    "papermill": {
     "duration": 0.03717,
     "end_time": "2022-12-05T21:24:17.190840",
     "exception": false,
     "start_time": "2022-12-05T21:24:17.153670",
     "status": "completed"
    },
    "tags": []
   },
   "outputs": [],
   "source": [
    "def get_output_dir(gene_corr_filename):\n",
    "    path = OUTPUT_DIR_BASE / gene_corr_filename\n",
    "    assert path.exists()\n",
    "    return path.with_suffix(\".per_lv\")"
   ]
  },
  {
   "cell_type": "code",
   "execution_count": 23,
   "id": "39bf4643",
   "metadata": {
    "execution": {
     "iopub.execute_input": "2022-12-05T21:24:17.209924Z",
     "iopub.status.busy": "2022-12-05T21:24:17.209604Z",
     "iopub.status.idle": "2022-12-05T21:24:17.238108Z",
     "shell.execute_reply": "2022-12-05T21:24:17.237623Z"
    },
    "papermill": {
     "duration": 0.040069,
     "end_time": "2022-12-05T21:24:17.239884",
     "exception": false,
     "start_time": "2022-12-05T21:24:17.199815",
     "status": "completed"
    },
    "tags": []
   },
   "outputs": [],
   "source": [
    "def compute_chol_inv(lv_codes):\n",
    "    for gene_corr_filename, gene_corrs in gene_corrs_dict.items():\n",
    "        output_dir = get_output_dir(gene_corr_filename)\n",
    "        output_dir.mkdir(parents=True, exist_ok=True)\n",
    "        display(f\"Output dir: {str(output_dir)}\")\n",
    "\n",
    "        # save LV chol inverse\n",
    "        for lv_code in lv_codes:\n",
    "            lv_data = multiplier_z[lv_code]\n",
    "\n",
    "            corr_mat_sub = GLSPhenoplier.get_sub_mat(gene_corrs, lv_data, LV_PERCENTILE)\n",
    "            store_df(output_dir, corr_mat_sub.to_numpy(), f\"{lv_code}_corr_mat\")\n",
    "\n",
    "            chol_mat = np.linalg.cholesky(corr_mat_sub)\n",
    "            chol_inv = np.linalg.inv(chol_mat)\n",
    "\n",
    "            store_df(output_dir, chol_inv, lv_code)\n",
    "\n",
    "        # save metadata\n",
    "        if not exists_df(output_dir, \"metadata\"):\n",
    "            metadata = np.array([REFERENCE_PANEL, EQTL_MODEL])\n",
    "            store_df(output_dir, metadata, \"metadata\")\n",
    "        else:\n",
    "            display(\"Metadata file already exists\")\n",
    "\n",
    "        # save gene names\n",
    "        if not exists_df(output_dir, \"gene_names\"):\n",
    "            gene_names = np.array(gene_corrs.index.tolist())\n",
    "            store_df(output_dir, gene_names, \"gene_names\")\n",
    "        else:\n",
    "            display(\"Gene names file already exists\")"
   ]
  },
  {
   "cell_type": "code",
   "execution_count": 24,
   "id": "e605c772-15c3-43e0-850b-1bc81bef2dcc",
   "metadata": {
    "execution": {
     "iopub.execute_input": "2022-12-05T21:24:17.259765Z",
     "iopub.status.busy": "2022-12-05T21:24:17.259452Z",
     "iopub.status.idle": "2022-12-05T21:24:17.286906Z",
     "shell.execute_reply": "2022-12-05T21:24:17.286432Z"
    },
    "papermill": {
     "duration": 0.038555,
     "end_time": "2022-12-05T21:24:17.288338",
     "exception": false,
     "start_time": "2022-12-05T21:24:17.249783",
     "status": "completed"
    },
    "tags": []
   },
   "outputs": [
    {
     "data": {
      "text/plain": [
       "'LV_RANGE was given'"
      ]
     },
     "metadata": {},
     "output_type": "display_data"
    }
   ],
   "source": [
    "if LV_RANGE is None:\n",
    "    # divide LVs in chunks for parallel processing\n",
    "    display(\"LV_RANGE was not given\")\n",
    "\n",
    "    lvs_chunks = list(chunker(list(multiplier_z.columns), 50))\n",
    "else:\n",
    "    display(\"LV_RANGE was given\")\n",
    "    \n",
    "    assert \"-\" in LV_RANGE, \"LV_RANGE has no '-'\"\n",
    "    lv_min, lv_max = LV_RANGE.split(\"-\")\n",
    "    lv_min, lv_max = int(lv_min), int(lv_max)\n",
    "    assert lv_min <= lv_max, \"LV_RANGE is incorrect\"\n",
    "    \n",
    "    # create a single chunk in this case\n",
    "    lvs_chunks = [[f\"LV{i}\" for i in range(lv_min, lv_max + 1)]]"
   ]
  },
  {
   "cell_type": "code",
   "execution_count": 25,
   "id": "9553751f-ae2e-4911-af5a-c25ca8c25878",
   "metadata": {
    "execution": {
     "iopub.execute_input": "2022-12-05T21:24:17.307664Z",
     "iopub.status.busy": "2022-12-05T21:24:17.307346Z",
     "iopub.status.idle": "2022-12-05T21:24:17.334352Z",
     "shell.execute_reply": "2022-12-05T21:24:17.333904Z"
    },
    "papermill": {
     "duration": 0.03829,
     "end_time": "2022-12-05T21:24:17.335817",
     "exception": false,
     "start_time": "2022-12-05T21:24:17.297527",
     "status": "completed"
    },
    "tags": []
   },
   "outputs": [
    {
     "data": {
      "text/plain": [
       "'# of chunks: 1'"
      ]
     },
     "metadata": {},
     "output_type": "display_data"
    },
    {
     "data": {
      "text/plain": [
       "'# of LVs in each chunk: 50'"
      ]
     },
     "metadata": {},
     "output_type": "display_data"
    }
   ],
   "source": [
    "display(f\"# of chunks: {len(lvs_chunks)}\")\n",
    "display(f\"# of LVs in each chunk: {len(lvs_chunks[0])}\")"
   ]
  },
  {
   "cell_type": "code",
   "execution_count": 26,
   "id": "e2511bd6-73c2-4f92-9fb4-ee6ad5a2923f",
   "metadata": {
    "execution": {
     "iopub.execute_input": "2022-12-05T21:24:17.356020Z",
     "iopub.status.busy": "2022-12-05T21:24:17.355700Z",
     "iopub.status.idle": "2022-12-05T21:37:27.336444Z",
     "shell.execute_reply": "2022-12-05T21:37:27.335860Z"
    },
    "papermill": {
     "duration": 789.992869,
     "end_time": "2022-12-05T21:37:27.338015",
     "exception": false,
     "start_time": "2022-12-05T21:24:17.345146",
     "status": "completed"
    },
    "tags": []
   },
   "outputs": [
    {
     "name": "stderr",
     "output_type": "stream",
     "text": [
      "100%|████████████████████████████████████████████████████████████████| 1/1 [13:09<00:00, 789.94s/it]\n"
     ]
    }
   ],
   "source": [
    "with ProcessPoolExecutor(max_workers=N_JOBS) as executor, tqdm(\n",
    "    total=len(lvs_chunks), ncols=100\n",
    ") as pbar:\n",
    "    tasks = [executor.submit(compute_chol_inv, chunk) for chunk in lvs_chunks]\n",
    "    for future in as_completed(tasks):\n",
    "        res = future.result()\n",
    "        pbar.update(1)"
   ]
  },
  {
   "cell_type": "markdown",
   "id": "1169db4b-9af2-4d3c-a27a-198d7730fa67",
   "metadata": {
    "papermill": {
     "duration": 0.009548,
     "end_time": "2022-12-05T21:37:27.357296",
     "exception": false,
     "start_time": "2022-12-05T21:37:27.347748",
     "status": "completed"
    },
    "tags": []
   },
   "source": [
    "## Some checks"
   ]
  },
  {
   "cell_type": "code",
   "execution_count": 27,
   "id": "02e6758b-9e64-4829-bc64-ca0b08221d13",
   "metadata": {
    "execution": {
     "iopub.execute_input": "2022-12-05T21:37:27.379564Z",
     "iopub.status.busy": "2022-12-05T21:37:27.379224Z",
     "iopub.status.idle": "2022-12-05T21:37:27.408567Z",
     "shell.execute_reply": "2022-12-05T21:37:27.407855Z"
    },
    "papermill": {
     "duration": 0.043052,
     "end_time": "2022-12-05T21:37:27.410612",
     "exception": false,
     "start_time": "2022-12-05T21:37:27.367560",
     "status": "completed"
    },
    "tags": []
   },
   "outputs": [],
   "source": [
    "def load_df(output_dir, base_filename):\n",
    "    full_filepath = output_dir / (base_filename + \".npz\")\n",
    "\n",
    "    if base_filename in (\"metadata\", \"gene_names\"):\n",
    "        return np.load(full_filepath)[\"data\"]\n",
    "    else:\n",
    "        return sparse.load_npz(full_filepath).toarray()"
   ]
  },
  {
   "cell_type": "code",
   "execution_count": 28,
   "id": "38cf09b7",
   "metadata": {
    "execution": {
     "iopub.execute_input": "2022-12-05T21:37:27.431942Z",
     "iopub.status.busy": "2022-12-05T21:37:27.431370Z",
     "iopub.status.idle": "2022-12-05T21:37:27.459950Z",
     "shell.execute_reply": "2022-12-05T21:37:27.459266Z"
    },
    "papermill": {
     "duration": 0.04142,
     "end_time": "2022-12-05T21:37:27.461874",
     "exception": false,
     "start_time": "2022-12-05T21:37:27.420454",
     "status": "completed"
    },
    "tags": []
   },
   "outputs": [],
   "source": [
    "_genes = load_df(get_output_dir(orig_corr_name), \"gene_names\")"
   ]
  },
  {
   "cell_type": "code",
   "execution_count": 29,
   "id": "407e202b-5d10-47c5-b751-0d7b79fc32b7",
   "metadata": {
    "execution": {
     "iopub.execute_input": "2022-12-05T21:37:27.485146Z",
     "iopub.status.busy": "2022-12-05T21:37:27.484702Z",
     "iopub.status.idle": "2022-12-05T21:37:27.511849Z",
     "shell.execute_reply": "2022-12-05T21:37:27.511211Z"
    },
    "papermill": {
     "duration": 0.040854,
     "end_time": "2022-12-05T21:37:27.513490",
     "exception": false,
     "start_time": "2022-12-05T21:37:27.472636",
     "status": "completed"
    },
    "tags": []
   },
   "outputs": [
    {
     "data": {
      "text/plain": [
       "6442"
      ]
     },
     "metadata": {},
     "output_type": "display_data"
    }
   ],
   "source": [
    "display(len(_genes))\n",
    "assert len(_genes) == gene_corrs_dict[orig_corr_name].index.shape[0]"
   ]
  },
  {
   "cell_type": "code",
   "execution_count": 30,
   "id": "e66abf5b-ba1b-4f16-96a6-a48e9e7035cc",
   "metadata": {
    "execution": {
     "iopub.execute_input": "2022-12-05T21:37:27.535274Z",
     "iopub.status.busy": "2022-12-05T21:37:27.534945Z",
     "iopub.status.idle": "2022-12-05T21:37:27.560882Z",
     "shell.execute_reply": "2022-12-05T21:37:27.560334Z"
    },
    "papermill": {
     "duration": 0.038988,
     "end_time": "2022-12-05T21:37:27.562699",
     "exception": false,
     "start_time": "2022-12-05T21:37:27.523711",
     "status": "completed"
    },
    "tags": []
   },
   "outputs": [],
   "source": [
    "_metadata = load_df(get_output_dir(orig_corr_name), \"metadata\")"
   ]
  },
  {
   "cell_type": "code",
   "execution_count": 31,
   "id": "c4a58892-1b3f-414e-b5c3-da63a0f0e387",
   "metadata": {
    "execution": {
     "iopub.execute_input": "2022-12-05T21:37:27.584640Z",
     "iopub.status.busy": "2022-12-05T21:37:27.584116Z",
     "iopub.status.idle": "2022-12-05T21:37:27.610686Z",
     "shell.execute_reply": "2022-12-05T21:37:27.610203Z"
    },
    "papermill": {
     "duration": 0.039208,
     "end_time": "2022-12-05T21:37:27.612211",
     "exception": false,
     "start_time": "2022-12-05T21:37:27.573003",
     "status": "completed"
    },
    "tags": []
   },
   "outputs": [
    {
     "data": {
      "text/plain": [
       "array(['GTEX_V8', 'MASHR'], dtype='<U7')"
      ]
     },
     "metadata": {},
     "output_type": "display_data"
    }
   ],
   "source": [
    "display(_metadata)\n",
    "assert _metadata[0] == REFERENCE_PANEL\n",
    "assert _metadata[1] == EQTL_MODEL"
   ]
  },
  {
   "cell_type": "code",
   "execution_count": null,
   "id": "f02e1ec2-095a-4041-987a-bda1a33a9897",
   "metadata": {
    "papermill": {
     "duration": 0.010573,
     "end_time": "2022-12-05T21:37:27.633039",
     "exception": false,
     "start_time": "2022-12-05T21:37:27.622466",
     "status": "completed"
    },
    "tags": []
   },
   "outputs": [],
   "source": []
  }
 ],
 "metadata": {
  "jupytext": {
   "cell_metadata_filter": "all,-execution,-papermill,-trusted",
   "formats": "ipynb,py//py:percent"
  },
  "kernelspec": {
   "display_name": "Python 3 (ipykernel)",
   "language": "python",
   "name": "python3"
  },
  "language_info": {
   "codemirror_mode": {
    "name": "ipython",
    "version": 3
   },
   "file_extension": ".py",
   "mimetype": "text/x-python",
   "name": "python",
   "nbconvert_exporter": "python",
   "pygments_lexer": "ipython3",
   "version": "3.10.6"
  },
  "papermill": {
   "default_parameters": {},
   "duration": 793.497479,
   "end_time": "2022-12-05T21:37:28.062825",
   "environment_variables": {},
   "exception": null,
   "input_path": "projects/asthma-copd/nbs/20_gene_corrs/jobs/15-create_corr_mat_per_lv.ipynb",
   "output_path": "projects/asthma-copd/nbs/20_gene_corrs/jobs/../output/aco/15-create_corr_mat_per_lv-51-100.run.ipynb",
   "parameters": {
    "COHORT_NAME": "aco",
    "LV_PERCENTILE": "0.01",
    "LV_RANGE": "51-100",
    "OUTPUT_DIR_BASE": "/opt/data/projects/asthma-copd/results/gls_phenoplier",
    "PHENOPLIER_NOTEBOOK_FILEPATH": "projects/asthma-copd/nbs/20_gene_corrs/jobs/15-create_corr_mat_per_lv.ipynb"
   },
   "start_time": "2022-12-05T21:24:14.565346",
   "version": "2.2.2"
  }
 },
 "nbformat": 4,
 "nbformat_minor": 5
}
