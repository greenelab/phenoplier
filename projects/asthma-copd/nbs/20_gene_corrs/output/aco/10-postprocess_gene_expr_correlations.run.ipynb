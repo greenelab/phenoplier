{
 "cells": [
  {
   "cell_type": "markdown",
   "id": "5ef66977",
   "metadata": {
    "papermill": {
     "duration": 0.011755,
     "end_time": "2022-12-05T18:46:54.562643",
     "exception": false,
     "start_time": "2022-12-05T18:46:54.550888",
     "status": "completed"
    },
    "tags": []
   },
   "source": [
    "# Description"
   ]
  },
  {
   "cell_type": "markdown",
   "id": "658d4f7c",
   "metadata": {
    "papermill": {
     "duration": 0.010842,
     "end_time": "2022-12-05T18:46:54.585297",
     "exception": false,
     "start_time": "2022-12-05T18:46:54.574455",
     "status": "completed"
    },
    "tags": []
   },
   "source": [
    "(Please, take a look at the README.md file in this directory for instructions on how to run this notebook)\n",
    "\n",
    "This notebook reads all gene correlations across all chromosomes and computes a single correlation matrix by assembling a big correlation matrix with all genes.\n",
    "\n",
    "It has specicfic parameters for papermill (see under `Settings` below).\n",
    "\n",
    "This notebook is not directly run. See README.md."
   ]
  },
  {
   "cell_type": "markdown",
   "id": "60fa4530",
   "metadata": {
    "papermill": {
     "duration": 0.010877,
     "end_time": "2022-12-05T18:46:54.607877",
     "exception": false,
     "start_time": "2022-12-05T18:46:54.597000",
     "status": "completed"
    },
    "tags": []
   },
   "source": [
    "# Modules"
   ]
  },
  {
   "cell_type": "code",
   "execution_count": 1,
   "id": "d70b0833",
   "metadata": {
    "execution": {
     "iopub.execute_input": "2022-12-05T18:46:54.631309Z",
     "iopub.status.busy": "2022-12-05T18:46:54.630912Z",
     "iopub.status.idle": "2022-12-05T18:46:54.648680Z",
     "shell.execute_reply": "2022-12-05T18:46:54.648095Z"
    },
    "papermill": {
     "duration": 0.030915,
     "end_time": "2022-12-05T18:46:54.649749",
     "exception": false,
     "start_time": "2022-12-05T18:46:54.618834",
     "status": "completed"
    },
    "tags": []
   },
   "outputs": [],
   "source": [
    "%load_ext autoreload\n",
    "%autoreload 2"
   ]
  },
  {
   "cell_type": "code",
   "execution_count": 2,
   "id": "6b2f9ca0",
   "metadata": {
    "execution": {
     "iopub.execute_input": "2022-12-05T18:46:54.662290Z",
     "iopub.status.busy": "2022-12-05T18:46:54.661769Z",
     "iopub.status.idle": "2022-12-05T18:46:55.334491Z",
     "shell.execute_reply": "2022-12-05T18:46:55.333878Z"
    },
    "papermill": {
     "duration": 0.68076,
     "end_time": "2022-12-05T18:46:55.336226",
     "exception": false,
     "start_time": "2022-12-05T18:46:54.655466",
     "status": "completed"
    },
    "tags": []
   },
   "outputs": [],
   "source": [
    "import pickle\n",
    "from pathlib import Path\n",
    "\n",
    "import numpy as np\n",
    "from scipy.spatial.distance import squareform\n",
    "import pandas as pd\n",
    "import matplotlib.pyplot as plt\n",
    "import seaborn as sns\n",
    "\n",
    "import conf\n",
    "from entity import Gene\n",
    "from correlations import (\n",
    "    check_pos_def,\n",
    "    compare_matrices,\n",
    "    correct_corr_mat,\n",
    "    adjust_non_pos_def,\n",
    ")"
   ]
  },
  {
   "cell_type": "markdown",
   "id": "5b96e797",
   "metadata": {
    "papermill": {
     "duration": 0.01149,
     "end_time": "2022-12-05T18:46:55.359545",
     "exception": false,
     "start_time": "2022-12-05T18:46:55.348055",
     "status": "completed"
    },
    "tags": []
   },
   "source": [
    "# Settings"
   ]
  },
  {
   "cell_type": "code",
   "execution_count": 3,
   "id": "4fc1b6a0",
   "metadata": {
    "execution": {
     "iopub.execute_input": "2022-12-05T18:46:55.385013Z",
     "iopub.status.busy": "2022-12-05T18:46:55.384777Z",
     "iopub.status.idle": "2022-12-05T18:46:55.407920Z",
     "shell.execute_reply": "2022-12-05T18:46:55.407195Z"
    },
    "papermill": {
     "duration": 0.037885,
     "end_time": "2022-12-05T18:46:55.409696",
     "exception": false,
     "start_time": "2022-12-05T18:46:55.371811",
     "status": "completed"
    },
    "tags": [
     "parameters"
    ]
   },
   "outputs": [],
   "source": [
    "# a cohort name (it could be something like UK_BIOBANK, etc)\n",
    "COHORT_NAME = None\n",
    "\n",
    "# reference panel such as 1000G or GTEX_V8\n",
    "REFERENCE_PANEL = \"GTEX_V8\"\n",
    "\n",
    "# predictions models such as MASHR or ELASTIC_NET\n",
    "EQTL_MODEL = \"MASHR\"\n",
    "\n",
    "# output dir\n",
    "OUTPUT_DIR_BASE = None"
   ]
  },
  {
   "cell_type": "code",
   "execution_count": 4,
   "id": "ce17449d",
   "metadata": {
    "execution": {
     "iopub.execute_input": "2022-12-05T18:46:55.435704Z",
     "iopub.status.busy": "2022-12-05T18:46:55.435108Z",
     "iopub.status.idle": "2022-12-05T18:46:55.455478Z",
     "shell.execute_reply": "2022-12-05T18:46:55.454858Z"
    },
    "papermill": {
     "duration": 0.035412,
     "end_time": "2022-12-05T18:46:55.457047",
     "exception": false,
     "start_time": "2022-12-05T18:46:55.421635",
     "status": "completed"
    },
    "tags": [
     "injected-parameters"
    ]
   },
   "outputs": [],
   "source": [
    "# Parameters\n",
    "PHENOPLIER_NOTEBOOK_FILEPATH = \"projects/asthma-copd/nbs/20_gene_corrs/jobs/10-postprocess_gene_expr_correlations.ipynb\"\n",
    "COHORT_NAME = \"aco\"\n",
    "OUTPUT_DIR_BASE = \"/opt/data/projects/asthma-copd/results/gls_phenoplier\"\n"
   ]
  },
  {
   "cell_type": "code",
   "execution_count": 5,
   "id": "6dba5c90-40a4-4a62-899e-1711ab4e40bb",
   "metadata": {
    "execution": {
     "iopub.execute_input": "2022-12-05T18:46:55.481150Z",
     "iopub.status.busy": "2022-12-05T18:46:55.480929Z",
     "iopub.status.idle": "2022-12-05T18:46:55.508063Z",
     "shell.execute_reply": "2022-12-05T18:46:55.507460Z"
    },
    "papermill": {
     "duration": 0.040737,
     "end_time": "2022-12-05T18:46:55.509570",
     "exception": false,
     "start_time": "2022-12-05T18:46:55.468833",
     "status": "completed"
    },
    "tags": []
   },
   "outputs": [
    {
     "data": {
      "text/plain": [
       "'Cohort name: aco'"
      ]
     },
     "metadata": {},
     "output_type": "display_data"
    }
   ],
   "source": [
    "assert COHORT_NAME is not None and len(COHORT_NAME) > 0, \"A cohort name must be given\"\n",
    "\n",
    "COHORT_NAME = COHORT_NAME.lower()\n",
    "display(f\"Cohort name: {COHORT_NAME}\")"
   ]
  },
  {
   "cell_type": "code",
   "execution_count": 6,
   "id": "90be4359-19db-4c2d-a3ca-202674476164",
   "metadata": {
    "execution": {
     "iopub.execute_input": "2022-12-05T18:46:55.533819Z",
     "iopub.status.busy": "2022-12-05T18:46:55.533471Z",
     "iopub.status.idle": "2022-12-05T18:46:55.555294Z",
     "shell.execute_reply": "2022-12-05T18:46:55.554777Z"
    },
    "papermill": {
     "duration": 0.035374,
     "end_time": "2022-12-05T18:46:55.556671",
     "exception": false,
     "start_time": "2022-12-05T18:46:55.521297",
     "status": "completed"
    },
    "tags": []
   },
   "outputs": [
    {
     "data": {
      "text/plain": [
       "'Reference panel: GTEX_V8'"
      ]
     },
     "metadata": {},
     "output_type": "display_data"
    }
   ],
   "source": [
    "assert (\n",
    "    REFERENCE_PANEL is not None and len(REFERENCE_PANEL) > 0\n",
    "), \"A reference panel must be given\"\n",
    "\n",
    "display(f\"Reference panel: {REFERENCE_PANEL}\")"
   ]
  },
  {
   "cell_type": "code",
   "execution_count": 7,
   "id": "d959f3f4-8f7b-4313-b3b1-37606e7250bf",
   "metadata": {
    "execution": {
     "iopub.execute_input": "2022-12-05T18:46:55.580335Z",
     "iopub.status.busy": "2022-12-05T18:46:55.579858Z",
     "iopub.status.idle": "2022-12-05T18:46:55.601727Z",
     "shell.execute_reply": "2022-12-05T18:46:55.601094Z"
    },
    "papermill": {
     "duration": 0.03521,
     "end_time": "2022-12-05T18:46:55.603209",
     "exception": false,
     "start_time": "2022-12-05T18:46:55.567999",
     "status": "completed"
    },
    "tags": []
   },
   "outputs": [
    {
     "data": {
      "text/plain": [
       "'eQTL model: MASHR)'"
      ]
     },
     "metadata": {},
     "output_type": "display_data"
    }
   ],
   "source": [
    "assert (\n",
    "    EQTL_MODEL is not None and len(EQTL_MODEL) > 0\n",
    "), \"A prediction/eQTL model must be given\"\n",
    "\n",
    "display(f\"eQTL model: {EQTL_MODEL})\")"
   ]
  },
  {
   "cell_type": "code",
   "execution_count": 8,
   "id": "ac0c0705-90e4-42f8-8298-a457c7e778ff",
   "metadata": {
    "execution": {
     "iopub.execute_input": "2022-12-05T18:46:55.627270Z",
     "iopub.status.busy": "2022-12-05T18:46:55.627055Z",
     "iopub.status.idle": "2022-12-05T18:46:55.649678Z",
     "shell.execute_reply": "2022-12-05T18:46:55.649109Z"
    },
    "papermill": {
     "duration": 0.036445,
     "end_time": "2022-12-05T18:46:55.651144",
     "exception": false,
     "start_time": "2022-12-05T18:46:55.614699",
     "status": "completed"
    },
    "tags": []
   },
   "outputs": [
    {
     "data": {
      "text/plain": [
       "'Using output dir base: /opt/data/projects/asthma-copd/results/gls_phenoplier/gene_corrs/aco'"
      ]
     },
     "metadata": {},
     "output_type": "display_data"
    }
   ],
   "source": [
    "assert (\n",
    "    OUTPUT_DIR_BASE is not None and len(OUTPUT_DIR_BASE) > 0\n",
    "), \"Output directory path must be given\"\n",
    "\n",
    "OUTPUT_DIR_BASE = (Path(OUTPUT_DIR_BASE) / \"gene_corrs\" / COHORT_NAME).resolve()\n",
    "\n",
    "OUTPUT_DIR_BASE.mkdir(parents=True, exist_ok=True)\n",
    "\n",
    "display(f\"Using output dir base: {OUTPUT_DIR_BASE}\")"
   ]
  },
  {
   "cell_type": "code",
   "execution_count": 9,
   "id": "1afd50f7",
   "metadata": {
    "execution": {
     "iopub.execute_input": "2022-12-05T18:46:55.676424Z",
     "iopub.status.busy": "2022-12-05T18:46:55.675961Z",
     "iopub.status.idle": "2022-12-05T18:46:55.696731Z",
     "shell.execute_reply": "2022-12-05T18:46:55.696142Z"
    },
    "papermill": {
     "duration": 0.035587,
     "end_time": "2022-12-05T18:46:55.698355",
     "exception": false,
     "start_time": "2022-12-05T18:46:55.662768",
     "status": "completed"
    },
    "tags": []
   },
   "outputs": [
    {
     "data": {
      "text/plain": [
       "'Gene correlations input dir: /opt/data/projects/asthma-copd/results/gls_phenoplier/gene_corrs/aco/by_chr'"
      ]
     },
     "metadata": {},
     "output_type": "display_data"
    }
   ],
   "source": [
    "INPUT_DIR = OUTPUT_DIR_BASE / \"by_chr\"\n",
    "\n",
    "display(f\"Gene correlations input dir: {INPUT_DIR}\")\n",
    "assert INPUT_DIR.exists()"
   ]
  },
  {
   "cell_type": "markdown",
   "id": "99ccb166",
   "metadata": {
    "papermill": {
     "duration": 0.011507,
     "end_time": "2022-12-05T18:46:55.721972",
     "exception": false,
     "start_time": "2022-12-05T18:46:55.710465",
     "status": "completed"
    },
    "tags": []
   },
   "source": [
    "# Load data"
   ]
  },
  {
   "cell_type": "markdown",
   "id": "028bdd42",
   "metadata": {
    "papermill": {
     "duration": 0.011736,
     "end_time": "2022-12-05T18:46:55.745508",
     "exception": false,
     "start_time": "2022-12-05T18:46:55.733772",
     "status": "completed"
    },
    "tags": []
   },
   "source": [
    "## Gene correlations"
   ]
  },
  {
   "cell_type": "code",
   "execution_count": 10,
   "id": "04624465",
   "metadata": {
    "execution": {
     "iopub.execute_input": "2022-12-05T18:46:55.759780Z",
     "iopub.status.busy": "2022-12-05T18:46:55.759377Z",
     "iopub.status.idle": "2022-12-05T18:46:55.780189Z",
     "shell.execute_reply": "2022-12-05T18:46:55.779607Z"
    },
    "papermill": {
     "duration": 0.028478,
     "end_time": "2022-12-05T18:46:55.781257",
     "exception": false,
     "start_time": "2022-12-05T18:46:55.752779",
     "status": "completed"
    },
    "tags": []
   },
   "outputs": [],
   "source": [
    "all_gene_corr_files = list(INPUT_DIR.glob(\"gene_corrs-chr*.pkl\"))"
   ]
  },
  {
   "cell_type": "code",
   "execution_count": 11,
   "id": "be5869e7-d0e4-4b8f-8c6d-a1c6a9419fe2",
   "metadata": {
    "execution": {
     "iopub.execute_input": "2022-12-05T18:46:55.794562Z",
     "iopub.status.busy": "2022-12-05T18:46:55.794107Z",
     "iopub.status.idle": "2022-12-05T18:46:55.813409Z",
     "shell.execute_reply": "2022-12-05T18:46:55.812824Z"
    },
    "papermill": {
     "duration": 0.026999,
     "end_time": "2022-12-05T18:46:55.814456",
     "exception": false,
     "start_time": "2022-12-05T18:46:55.787457",
     "status": "completed"
    },
    "tags": []
   },
   "outputs": [],
   "source": [
    "# sort by chromosome\n",
    "all_gene_corr_files = sorted(\n",
    "    all_gene_corr_files, key=lambda x: int(x.name.split(\"-chr\")[1].split(\".pkl\")[0])\n",
    ")"
   ]
  },
  {
   "cell_type": "code",
   "execution_count": 12,
   "id": "7d1168f5",
   "metadata": {
    "execution": {
     "iopub.execute_input": "2022-12-05T18:46:55.827573Z",
     "iopub.status.busy": "2022-12-05T18:46:55.827121Z",
     "iopub.status.idle": "2022-12-05T18:46:55.848001Z",
     "shell.execute_reply": "2022-12-05T18:46:55.847453Z"
    },
    "papermill": {
     "duration": 0.028552,
     "end_time": "2022-12-05T18:46:55.849024",
     "exception": false,
     "start_time": "2022-12-05T18:46:55.820472",
     "status": "completed"
    },
    "tags": []
   },
   "outputs": [
    {
     "data": {
      "text/plain": [
       "22"
      ]
     },
     "execution_count": 12,
     "metadata": {},
     "output_type": "execute_result"
    }
   ],
   "source": [
    "len(all_gene_corr_files)"
   ]
  },
  {
   "cell_type": "code",
   "execution_count": 13,
   "id": "39364170",
   "metadata": {
    "execution": {
     "iopub.execute_input": "2022-12-05T18:46:55.862566Z",
     "iopub.status.busy": "2022-12-05T18:46:55.862115Z",
     "iopub.status.idle": "2022-12-05T18:46:55.883563Z",
     "shell.execute_reply": "2022-12-05T18:46:55.882997Z"
    },
    "papermill": {
     "duration": 0.029116,
     "end_time": "2022-12-05T18:46:55.884486",
     "exception": false,
     "start_time": "2022-12-05T18:46:55.855370",
     "status": "completed"
    },
    "tags": []
   },
   "outputs": [
    {
     "data": {
      "text/plain": [
       "[PosixPath('/opt/data/projects/asthma-copd/results/gls_phenoplier/gene_corrs/aco/by_chr/gene_corrs-chr1.pkl'),\n",
       " PosixPath('/opt/data/projects/asthma-copd/results/gls_phenoplier/gene_corrs/aco/by_chr/gene_corrs-chr2.pkl'),\n",
       " PosixPath('/opt/data/projects/asthma-copd/results/gls_phenoplier/gene_corrs/aco/by_chr/gene_corrs-chr3.pkl'),\n",
       " PosixPath('/opt/data/projects/asthma-copd/results/gls_phenoplier/gene_corrs/aco/by_chr/gene_corrs-chr4.pkl'),\n",
       " PosixPath('/opt/data/projects/asthma-copd/results/gls_phenoplier/gene_corrs/aco/by_chr/gene_corrs-chr5.pkl'),\n",
       " PosixPath('/opt/data/projects/asthma-copd/results/gls_phenoplier/gene_corrs/aco/by_chr/gene_corrs-chr6.pkl'),\n",
       " PosixPath('/opt/data/projects/asthma-copd/results/gls_phenoplier/gene_corrs/aco/by_chr/gene_corrs-chr7.pkl'),\n",
       " PosixPath('/opt/data/projects/asthma-copd/results/gls_phenoplier/gene_corrs/aco/by_chr/gene_corrs-chr8.pkl'),\n",
       " PosixPath('/opt/data/projects/asthma-copd/results/gls_phenoplier/gene_corrs/aco/by_chr/gene_corrs-chr9.pkl'),\n",
       " PosixPath('/opt/data/projects/asthma-copd/results/gls_phenoplier/gene_corrs/aco/by_chr/gene_corrs-chr10.pkl'),\n",
       " PosixPath('/opt/data/projects/asthma-copd/results/gls_phenoplier/gene_corrs/aco/by_chr/gene_corrs-chr11.pkl'),\n",
       " PosixPath('/opt/data/projects/asthma-copd/results/gls_phenoplier/gene_corrs/aco/by_chr/gene_corrs-chr12.pkl'),\n",
       " PosixPath('/opt/data/projects/asthma-copd/results/gls_phenoplier/gene_corrs/aco/by_chr/gene_corrs-chr13.pkl'),\n",
       " PosixPath('/opt/data/projects/asthma-copd/results/gls_phenoplier/gene_corrs/aco/by_chr/gene_corrs-chr14.pkl'),\n",
       " PosixPath('/opt/data/projects/asthma-copd/results/gls_phenoplier/gene_corrs/aco/by_chr/gene_corrs-chr15.pkl'),\n",
       " PosixPath('/opt/data/projects/asthma-copd/results/gls_phenoplier/gene_corrs/aco/by_chr/gene_corrs-chr16.pkl'),\n",
       " PosixPath('/opt/data/projects/asthma-copd/results/gls_phenoplier/gene_corrs/aco/by_chr/gene_corrs-chr17.pkl'),\n",
       " PosixPath('/opt/data/projects/asthma-copd/results/gls_phenoplier/gene_corrs/aco/by_chr/gene_corrs-chr18.pkl'),\n",
       " PosixPath('/opt/data/projects/asthma-copd/results/gls_phenoplier/gene_corrs/aco/by_chr/gene_corrs-chr19.pkl'),\n",
       " PosixPath('/opt/data/projects/asthma-copd/results/gls_phenoplier/gene_corrs/aco/by_chr/gene_corrs-chr20.pkl'),\n",
       " PosixPath('/opt/data/projects/asthma-copd/results/gls_phenoplier/gene_corrs/aco/by_chr/gene_corrs-chr21.pkl'),\n",
       " PosixPath('/opt/data/projects/asthma-copd/results/gls_phenoplier/gene_corrs/aco/by_chr/gene_corrs-chr22.pkl')]"
      ]
     },
     "execution_count": 13,
     "metadata": {},
     "output_type": "execute_result"
    }
   ],
   "source": [
    "all_gene_corr_files"
   ]
  },
  {
   "cell_type": "code",
   "execution_count": 14,
   "id": "6e48c284",
   "metadata": {
    "execution": {
     "iopub.execute_input": "2022-12-05T18:46:55.897989Z",
     "iopub.status.busy": "2022-12-05T18:46:55.897536Z",
     "iopub.status.idle": "2022-12-05T18:46:55.917394Z",
     "shell.execute_reply": "2022-12-05T18:46:55.916832Z"
    },
    "papermill": {
     "duration": 0.027646,
     "end_time": "2022-12-05T18:46:55.918371",
     "exception": false,
     "start_time": "2022-12-05T18:46:55.890725",
     "status": "completed"
    },
    "tags": []
   },
   "outputs": [],
   "source": [
    "assert len(all_gene_corr_files) == 22"
   ]
  },
  {
   "cell_type": "markdown",
   "id": "99d01a88-2f71-41eb-a423-a17378bbb174",
   "metadata": {
    "papermill": {
     "duration": 0.006219,
     "end_time": "2022-12-05T18:46:55.931115",
     "exception": false,
     "start_time": "2022-12-05T18:46:55.924896",
     "status": "completed"
    },
    "tags": []
   },
   "source": [
    "## Get common genes"
   ]
  },
  {
   "cell_type": "code",
   "execution_count": 15,
   "id": "6a5e95f0-eeab-4716-8982-b1dbbd8763d8",
   "metadata": {
    "execution": {
     "iopub.execute_input": "2022-12-05T18:46:55.945127Z",
     "iopub.status.busy": "2022-12-05T18:46:55.944511Z",
     "iopub.status.idle": "2022-12-05T18:46:55.975715Z",
     "shell.execute_reply": "2022-12-05T18:46:55.975083Z"
    },
    "papermill": {
     "duration": 0.039327,
     "end_time": "2022-12-05T18:46:55.976755",
     "exception": false,
     "start_time": "2022-12-05T18:46:55.937428",
     "status": "completed"
    },
    "tags": []
   },
   "outputs": [],
   "source": [
    "gene_ids = set()\n",
    "for f in all_gene_corr_files:\n",
    "    chr_genes = pd.read_pickle(f).index.tolist()\n",
    "    gene_ids.update(chr_genes)"
   ]
  },
  {
   "cell_type": "code",
   "execution_count": 16,
   "id": "81ca7c6e-69c4-48c4-b44f-ec9a2b8bb527",
   "metadata": {
    "execution": {
     "iopub.execute_input": "2022-12-05T18:46:55.990521Z",
     "iopub.status.busy": "2022-12-05T18:46:55.990058Z",
     "iopub.status.idle": "2022-12-05T18:46:56.012370Z",
     "shell.execute_reply": "2022-12-05T18:46:56.011808Z"
    },
    "papermill": {
     "duration": 0.03025,
     "end_time": "2022-12-05T18:46:56.013374",
     "exception": false,
     "start_time": "2022-12-05T18:46:55.983124",
     "status": "completed"
    },
    "tags": []
   },
   "outputs": [
    {
     "data": {
      "text/plain": [
       "6442"
      ]
     },
     "metadata": {},
     "output_type": "display_data"
    }
   ],
   "source": [
    "display(len(gene_ids))"
   ]
  },
  {
   "cell_type": "code",
   "execution_count": 17,
   "id": "5e8a7f17-c84b-4d71-bf0d-11116a66084e",
   "metadata": {
    "execution": {
     "iopub.execute_input": "2022-12-05T18:46:56.027367Z",
     "iopub.status.busy": "2022-12-05T18:46:56.026917Z",
     "iopub.status.idle": "2022-12-05T18:46:56.050860Z",
     "shell.execute_reply": "2022-12-05T18:46:56.050304Z"
    },
    "papermill": {
     "duration": 0.031917,
     "end_time": "2022-12-05T18:46:56.051788",
     "exception": false,
     "start_time": "2022-12-05T18:46:56.019871",
     "status": "completed"
    },
    "tags": []
   },
   "outputs": [
    {
     "data": {
      "text/plain": [
       "['ENSG00000000419',\n",
       " 'ENSG00000000938',\n",
       " 'ENSG00000000971',\n",
       " 'ENSG00000001084',\n",
       " 'ENSG00000001167']"
      ]
     },
     "execution_count": 17,
     "metadata": {},
     "output_type": "execute_result"
    }
   ],
   "source": [
    "sorted(list(gene_ids))[:5]"
   ]
  },
  {
   "cell_type": "markdown",
   "id": "afb94d22-07be-4b67-b448-1d15d787e882",
   "metadata": {
    "papermill": {
     "duration": 0.006335,
     "end_time": "2022-12-05T18:46:56.064546",
     "exception": false,
     "start_time": "2022-12-05T18:46:56.058211",
     "status": "completed"
    },
    "tags": []
   },
   "source": [
    "## Gene info"
   ]
  },
  {
   "cell_type": "code",
   "execution_count": 18,
   "id": "66346539-e969-46dd-997d-c1f404646caa",
   "metadata": {
    "execution": {
     "iopub.execute_input": "2022-12-05T18:46:56.078653Z",
     "iopub.status.busy": "2022-12-05T18:46:56.078203Z",
     "iopub.status.idle": "2022-12-05T18:46:56.101391Z",
     "shell.execute_reply": "2022-12-05T18:46:56.100803Z"
    },
    "papermill": {
     "duration": 0.031081,
     "end_time": "2022-12-05T18:46:56.102254",
     "exception": false,
     "start_time": "2022-12-05T18:46:56.071173",
     "status": "completed"
    },
    "tags": []
   },
   "outputs": [],
   "source": [
    "genes_info = pd.read_pickle(OUTPUT_DIR_BASE / \"genes_info.pkl\")"
   ]
  },
  {
   "cell_type": "code",
   "execution_count": 19,
   "id": "6cf6e7f6-5c5c-4ee5-a3d6-1fab3f88fd20",
   "metadata": {
    "execution": {
     "iopub.execute_input": "2022-12-05T18:46:56.116310Z",
     "iopub.status.busy": "2022-12-05T18:46:56.115830Z",
     "iopub.status.idle": "2022-12-05T18:46:56.137449Z",
     "shell.execute_reply": "2022-12-05T18:46:56.136865Z"
    },
    "papermill": {
     "duration": 0.029563,
     "end_time": "2022-12-05T18:46:56.138367",
     "exception": false,
     "start_time": "2022-12-05T18:46:56.108804",
     "status": "completed"
    },
    "tags": []
   },
   "outputs": [
    {
     "data": {
      "text/plain": [
       "(6442, 7)"
      ]
     },
     "execution_count": 19,
     "metadata": {},
     "output_type": "execute_result"
    }
   ],
   "source": [
    "genes_info.shape"
   ]
  },
  {
   "cell_type": "code",
   "execution_count": 20,
   "id": "c0c00e56-a168-4502-bad1-178fa736b055",
   "metadata": {
    "execution": {
     "iopub.execute_input": "2022-12-05T18:46:56.152588Z",
     "iopub.status.busy": "2022-12-05T18:46:56.152111Z",
     "iopub.status.idle": "2022-12-05T18:46:56.177611Z",
     "shell.execute_reply": "2022-12-05T18:46:56.177009Z"
    },
    "papermill": {
     "duration": 0.033471,
     "end_time": "2022-12-05T18:46:56.178519",
     "exception": false,
     "start_time": "2022-12-05T18:46:56.145048",
     "status": "completed"
    },
    "tags": []
   },
   "outputs": [
    {
     "data": {
      "text/html": [
       "<div>\n",
       "<style scoped>\n",
       "    .dataframe tbody tr th:only-of-type {\n",
       "        vertical-align: middle;\n",
       "    }\n",
       "\n",
       "    .dataframe tbody tr th {\n",
       "        vertical-align: top;\n",
       "    }\n",
       "\n",
       "    .dataframe thead th {\n",
       "        text-align: right;\n",
       "    }\n",
       "</style>\n",
       "<table border=\"1\" class=\"dataframe\">\n",
       "  <thead>\n",
       "    <tr style=\"text-align: right;\">\n",
       "      <th></th>\n",
       "      <th>name</th>\n",
       "      <th>id</th>\n",
       "      <th>chr</th>\n",
       "      <th>band</th>\n",
       "      <th>start_position</th>\n",
       "      <th>end_position</th>\n",
       "      <th>gene_length</th>\n",
       "    </tr>\n",
       "  </thead>\n",
       "  <tbody>\n",
       "    <tr>\n",
       "      <th>0</th>\n",
       "      <td>ASPM</td>\n",
       "      <td>ENSG00000066279</td>\n",
       "      <td>1</td>\n",
       "      <td>1q31.3</td>\n",
       "      <td>197084127</td>\n",
       "      <td>197146694</td>\n",
       "      <td>62567</td>\n",
       "    </tr>\n",
       "    <tr>\n",
       "      <th>1</th>\n",
       "      <td>GPAM</td>\n",
       "      <td>ENSG00000119927</td>\n",
       "      <td>10</td>\n",
       "      <td>10q25.2</td>\n",
       "      <td>112149865</td>\n",
       "      <td>112215377</td>\n",
       "      <td>65512</td>\n",
       "    </tr>\n",
       "    <tr>\n",
       "      <th>2</th>\n",
       "      <td>MAPK7</td>\n",
       "      <td>ENSG00000166484</td>\n",
       "      <td>17</td>\n",
       "      <td>17p11.2</td>\n",
       "      <td>19377721</td>\n",
       "      <td>19383544</td>\n",
       "      <td>5823</td>\n",
       "    </tr>\n",
       "    <tr>\n",
       "      <th>3</th>\n",
       "      <td>SLC3A2</td>\n",
       "      <td>ENSG00000168003</td>\n",
       "      <td>11</td>\n",
       "      <td>11q12.3</td>\n",
       "      <td>62856102</td>\n",
       "      <td>62888875</td>\n",
       "      <td>32773</td>\n",
       "    </tr>\n",
       "    <tr>\n",
       "      <th>4</th>\n",
       "      <td>GINS2</td>\n",
       "      <td>ENSG00000131153</td>\n",
       "      <td>16</td>\n",
       "      <td>16q24.1</td>\n",
       "      <td>85676198</td>\n",
       "      <td>85690073</td>\n",
       "      <td>13875</td>\n",
       "    </tr>\n",
       "  </tbody>\n",
       "</table>\n",
       "</div>"
      ],
      "text/plain": [
       "     name               id  chr     band  start_position  end_position  \\\n",
       "0    ASPM  ENSG00000066279    1   1q31.3       197084127     197146694   \n",
       "1    GPAM  ENSG00000119927   10  10q25.2       112149865     112215377   \n",
       "2   MAPK7  ENSG00000166484   17  17p11.2        19377721      19383544   \n",
       "3  SLC3A2  ENSG00000168003   11  11q12.3        62856102      62888875   \n",
       "4   GINS2  ENSG00000131153   16  16q24.1        85676198      85690073   \n",
       "\n",
       "   gene_length  \n",
       "0        62567  \n",
       "1        65512  \n",
       "2         5823  \n",
       "3        32773  \n",
       "4        13875  "
      ]
     },
     "execution_count": 20,
     "metadata": {},
     "output_type": "execute_result"
    }
   ],
   "source": [
    "genes_info.head()"
   ]
  },
  {
   "cell_type": "code",
   "execution_count": 21,
   "id": "c6f52a23-0e0c-4def-8ebe-714793743f4e",
   "metadata": {
    "execution": {
     "iopub.execute_input": "2022-12-05T18:46:56.192927Z",
     "iopub.status.busy": "2022-12-05T18:46:56.192427Z",
     "iopub.status.idle": "2022-12-05T18:46:56.216919Z",
     "shell.execute_reply": "2022-12-05T18:46:56.216264Z"
    },
    "papermill": {
     "duration": 0.032711,
     "end_time": "2022-12-05T18:46:56.217845",
     "exception": false,
     "start_time": "2022-12-05T18:46:56.185134",
     "status": "completed"
    },
    "tags": []
   },
   "outputs": [],
   "source": [
    "# keep genes in correlation matrices only\n",
    "genes_info = genes_info[genes_info[\"id\"].isin(gene_ids)]"
   ]
  },
  {
   "cell_type": "code",
   "execution_count": 22,
   "id": "19cde9f2-0cad-4b4e-a409-0cff052cc77c",
   "metadata": {
    "execution": {
     "iopub.execute_input": "2022-12-05T18:46:56.232287Z",
     "iopub.status.busy": "2022-12-05T18:46:56.231689Z",
     "iopub.status.idle": "2022-12-05T18:46:56.253731Z",
     "shell.execute_reply": "2022-12-05T18:46:56.253148Z"
    },
    "papermill": {
     "duration": 0.030176,
     "end_time": "2022-12-05T18:46:56.254643",
     "exception": false,
     "start_time": "2022-12-05T18:46:56.224467",
     "status": "completed"
    },
    "tags": []
   },
   "outputs": [
    {
     "data": {
      "text/plain": [
       "(6442, 7)"
      ]
     },
     "execution_count": 22,
     "metadata": {},
     "output_type": "execute_result"
    }
   ],
   "source": [
    "genes_info.shape"
   ]
  },
  {
   "cell_type": "code",
   "execution_count": 23,
   "id": "f9e52a95-4c6e-4ce6-ae1d-df635d5dbe47",
   "metadata": {
    "execution": {
     "iopub.execute_input": "2022-12-05T18:46:56.269042Z",
     "iopub.status.busy": "2022-12-05T18:46:56.268839Z",
     "iopub.status.idle": "2022-12-05T18:46:56.293044Z",
     "shell.execute_reply": "2022-12-05T18:46:56.292420Z"
    },
    "papermill": {
     "duration": 0.032462,
     "end_time": "2022-12-05T18:46:56.293967",
     "exception": false,
     "start_time": "2022-12-05T18:46:56.261505",
     "status": "completed"
    },
    "tags": []
   },
   "outputs": [],
   "source": [
    "assert not genes_info.isna().any(axis=None)"
   ]
  },
  {
   "cell_type": "code",
   "execution_count": 24,
   "id": "90028a9b-781e-46c7-97b8-9e1676e682d4",
   "metadata": {
    "execution": {
     "iopub.execute_input": "2022-12-05T18:46:56.308677Z",
     "iopub.status.busy": "2022-12-05T18:46:56.308249Z",
     "iopub.status.idle": "2022-12-05T18:46:56.329831Z",
     "shell.execute_reply": "2022-12-05T18:46:56.329236Z"
    },
    "papermill": {
     "duration": 0.030065,
     "end_time": "2022-12-05T18:46:56.330746",
     "exception": false,
     "start_time": "2022-12-05T18:46:56.300681",
     "status": "completed"
    },
    "tags": []
   },
   "outputs": [
    {
     "data": {
      "text/plain": [
       "name              object\n",
       "id                object\n",
       "chr                 int8\n",
       "band              object\n",
       "start_position     int64\n",
       "end_position       int64\n",
       "gene_length        int64\n",
       "dtype: object"
      ]
     },
     "execution_count": 24,
     "metadata": {},
     "output_type": "execute_result"
    }
   ],
   "source": [
    "genes_info.dtypes"
   ]
  },
  {
   "cell_type": "code",
   "execution_count": 25,
   "id": "adb6d5ce-d010-41f8-bb63-7b5f66bf2c51",
   "metadata": {
    "execution": {
     "iopub.execute_input": "2022-12-05T18:46:56.345320Z",
     "iopub.status.busy": "2022-12-05T18:46:56.345118Z",
     "iopub.status.idle": "2022-12-05T18:46:56.370933Z",
     "shell.execute_reply": "2022-12-05T18:46:56.370343Z"
    },
    "papermill": {
     "duration": 0.034526,
     "end_time": "2022-12-05T18:46:56.372231",
     "exception": false,
     "start_time": "2022-12-05T18:46:56.337705",
     "status": "completed"
    },
    "tags": []
   },
   "outputs": [
    {
     "data": {
      "text/html": [
       "<div>\n",
       "<style scoped>\n",
       "    .dataframe tbody tr th:only-of-type {\n",
       "        vertical-align: middle;\n",
       "    }\n",
       "\n",
       "    .dataframe tbody tr th {\n",
       "        vertical-align: top;\n",
       "    }\n",
       "\n",
       "    .dataframe thead th {\n",
       "        text-align: right;\n",
       "    }\n",
       "</style>\n",
       "<table border=\"1\" class=\"dataframe\">\n",
       "  <thead>\n",
       "    <tr style=\"text-align: right;\">\n",
       "      <th></th>\n",
       "      <th>name</th>\n",
       "      <th>id</th>\n",
       "      <th>chr</th>\n",
       "      <th>band</th>\n",
       "      <th>start_position</th>\n",
       "      <th>end_position</th>\n",
       "      <th>gene_length</th>\n",
       "    </tr>\n",
       "  </thead>\n",
       "  <tbody>\n",
       "    <tr>\n",
       "      <th>0</th>\n",
       "      <td>ASPM</td>\n",
       "      <td>ENSG00000066279</td>\n",
       "      <td>1</td>\n",
       "      <td>1q31.3</td>\n",
       "      <td>197084127</td>\n",
       "      <td>197146694</td>\n",
       "      <td>62567</td>\n",
       "    </tr>\n",
       "    <tr>\n",
       "      <th>1</th>\n",
       "      <td>GPAM</td>\n",
       "      <td>ENSG00000119927</td>\n",
       "      <td>10</td>\n",
       "      <td>10q25.2</td>\n",
       "      <td>112149865</td>\n",
       "      <td>112215377</td>\n",
       "      <td>65512</td>\n",
       "    </tr>\n",
       "    <tr>\n",
       "      <th>2</th>\n",
       "      <td>MAPK7</td>\n",
       "      <td>ENSG00000166484</td>\n",
       "      <td>17</td>\n",
       "      <td>17p11.2</td>\n",
       "      <td>19377721</td>\n",
       "      <td>19383544</td>\n",
       "      <td>5823</td>\n",
       "    </tr>\n",
       "    <tr>\n",
       "      <th>3</th>\n",
       "      <td>SLC3A2</td>\n",
       "      <td>ENSG00000168003</td>\n",
       "      <td>11</td>\n",
       "      <td>11q12.3</td>\n",
       "      <td>62856102</td>\n",
       "      <td>62888875</td>\n",
       "      <td>32773</td>\n",
       "    </tr>\n",
       "    <tr>\n",
       "      <th>4</th>\n",
       "      <td>GINS2</td>\n",
       "      <td>ENSG00000131153</td>\n",
       "      <td>16</td>\n",
       "      <td>16q24.1</td>\n",
       "      <td>85676198</td>\n",
       "      <td>85690073</td>\n",
       "      <td>13875</td>\n",
       "    </tr>\n",
       "  </tbody>\n",
       "</table>\n",
       "</div>"
      ],
      "text/plain": [
       "     name               id  chr     band  start_position  end_position  \\\n",
       "0    ASPM  ENSG00000066279    1   1q31.3       197084127     197146694   \n",
       "1    GPAM  ENSG00000119927   10  10q25.2       112149865     112215377   \n",
       "2   MAPK7  ENSG00000166484   17  17p11.2        19377721      19383544   \n",
       "3  SLC3A2  ENSG00000168003   11  11q12.3        62856102      62888875   \n",
       "4   GINS2  ENSG00000131153   16  16q24.1        85676198      85690073   \n",
       "\n",
       "   gene_length  \n",
       "0        62567  \n",
       "1        65512  \n",
       "2         5823  \n",
       "3        32773  \n",
       "4        13875  "
      ]
     },
     "execution_count": 25,
     "metadata": {},
     "output_type": "execute_result"
    }
   ],
   "source": [
    "genes_info.head()"
   ]
  },
  {
   "cell_type": "markdown",
   "id": "0bc01310-5d9c-4355-8064-b67c5a22311c",
   "metadata": {
    "papermill": {
     "duration": 0.013175,
     "end_time": "2022-12-05T18:46:56.399072",
     "exception": false,
     "start_time": "2022-12-05T18:46:56.385897",
     "status": "completed"
    },
    "tags": []
   },
   "source": [
    "# Create full correlation matrix"
   ]
  },
  {
   "cell_type": "code",
   "execution_count": 26,
   "id": "fad655cb-e830-496d-8ae1-bd9088623515",
   "metadata": {
    "execution": {
     "iopub.execute_input": "2022-12-05T18:46:56.426928Z",
     "iopub.status.busy": "2022-12-05T18:46:56.426640Z",
     "iopub.status.idle": "2022-12-05T18:46:56.451692Z",
     "shell.execute_reply": "2022-12-05T18:46:56.451056Z"
    },
    "papermill": {
     "duration": 0.040872,
     "end_time": "2022-12-05T18:46:56.453230",
     "exception": false,
     "start_time": "2022-12-05T18:46:56.412358",
     "status": "completed"
    },
    "tags": []
   },
   "outputs": [],
   "source": [
    "genes_info = genes_info.sort_values([\"chr\", \"start_position\"])"
   ]
  },
  {
   "cell_type": "code",
   "execution_count": 27,
   "id": "3d93727c-e045-434b-99ec-2bfc661003f4",
   "metadata": {
    "execution": {
     "iopub.execute_input": "2022-12-05T18:46:56.481538Z",
     "iopub.status.busy": "2022-12-05T18:46:56.481242Z",
     "iopub.status.idle": "2022-12-05T18:46:56.509760Z",
     "shell.execute_reply": "2022-12-05T18:46:56.509164Z"
    },
    "papermill": {
     "duration": 0.044164,
     "end_time": "2022-12-05T18:46:56.511214",
     "exception": false,
     "start_time": "2022-12-05T18:46:56.467050",
     "status": "completed"
    },
    "tags": []
   },
   "outputs": [
    {
     "data": {
      "text/html": [
       "<div>\n",
       "<style scoped>\n",
       "    .dataframe tbody tr th:only-of-type {\n",
       "        vertical-align: middle;\n",
       "    }\n",
       "\n",
       "    .dataframe tbody tr th {\n",
       "        vertical-align: top;\n",
       "    }\n",
       "\n",
       "    .dataframe thead th {\n",
       "        text-align: right;\n",
       "    }\n",
       "</style>\n",
       "<table border=\"1\" class=\"dataframe\">\n",
       "  <thead>\n",
       "    <tr style=\"text-align: right;\">\n",
       "      <th></th>\n",
       "      <th>name</th>\n",
       "      <th>id</th>\n",
       "      <th>chr</th>\n",
       "      <th>band</th>\n",
       "      <th>start_position</th>\n",
       "      <th>end_position</th>\n",
       "      <th>gene_length</th>\n",
       "    </tr>\n",
       "  </thead>\n",
       "  <tbody>\n",
       "    <tr>\n",
       "      <th>2619</th>\n",
       "      <td>NOC2L</td>\n",
       "      <td>ENSG00000188976</td>\n",
       "      <td>1</td>\n",
       "      <td>1p36.33</td>\n",
       "      <td>944203</td>\n",
       "      <td>959309</td>\n",
       "      <td>15106</td>\n",
       "    </tr>\n",
       "    <tr>\n",
       "      <th>2992</th>\n",
       "      <td>HES4</td>\n",
       "      <td>ENSG00000188290</td>\n",
       "      <td>1</td>\n",
       "      <td>1p36.33</td>\n",
       "      <td>998962</td>\n",
       "      <td>1000172</td>\n",
       "      <td>1210</td>\n",
       "    </tr>\n",
       "    <tr>\n",
       "      <th>3567</th>\n",
       "      <td>ISG15</td>\n",
       "      <td>ENSG00000187608</td>\n",
       "      <td>1</td>\n",
       "      <td>1p36.33</td>\n",
       "      <td>1001138</td>\n",
       "      <td>1014540</td>\n",
       "      <td>13402</td>\n",
       "    </tr>\n",
       "    <tr>\n",
       "      <th>2722</th>\n",
       "      <td>AGRN</td>\n",
       "      <td>ENSG00000188157</td>\n",
       "      <td>1</td>\n",
       "      <td>1p36.33</td>\n",
       "      <td>1020120</td>\n",
       "      <td>1056118</td>\n",
       "      <td>35998</td>\n",
       "    </tr>\n",
       "    <tr>\n",
       "      <th>3344</th>\n",
       "      <td>TNFRSF18</td>\n",
       "      <td>ENSG00000186891</td>\n",
       "      <td>1</td>\n",
       "      <td>1p36.33</td>\n",
       "      <td>1203508</td>\n",
       "      <td>1206592</td>\n",
       "      <td>3084</td>\n",
       "    </tr>\n",
       "    <tr>\n",
       "      <th>...</th>\n",
       "      <td>...</td>\n",
       "      <td>...</td>\n",
       "      <td>...</td>\n",
       "      <td>...</td>\n",
       "      <td>...</td>\n",
       "      <td>...</td>\n",
       "      <td>...</td>\n",
       "    </tr>\n",
       "    <tr>\n",
       "      <th>798</th>\n",
       "      <td>CPT1B</td>\n",
       "      <td>ENSG00000205560</td>\n",
       "      <td>22</td>\n",
       "      <td>22q13.33</td>\n",
       "      <td>50568861</td>\n",
       "      <td>50578465</td>\n",
       "      <td>9604</td>\n",
       "    </tr>\n",
       "    <tr>\n",
       "      <th>2420</th>\n",
       "      <td>CHKB</td>\n",
       "      <td>ENSG00000100288</td>\n",
       "      <td>22</td>\n",
       "      <td>22q13.33</td>\n",
       "      <td>50578949</td>\n",
       "      <td>50601455</td>\n",
       "      <td>22506</td>\n",
       "    </tr>\n",
       "    <tr>\n",
       "      <th>4616</th>\n",
       "      <td>MAPK8IP2</td>\n",
       "      <td>ENSG00000008735</td>\n",
       "      <td>22</td>\n",
       "      <td>22q13.33</td>\n",
       "      <td>50600793</td>\n",
       "      <td>50613981</td>\n",
       "      <td>13188</td>\n",
       "    </tr>\n",
       "    <tr>\n",
       "      <th>4329</th>\n",
       "      <td>ARSA</td>\n",
       "      <td>ENSG00000100299</td>\n",
       "      <td>22</td>\n",
       "      <td>22q13.33</td>\n",
       "      <td>50622754</td>\n",
       "      <td>50628173</td>\n",
       "      <td>5419</td>\n",
       "    </tr>\n",
       "    <tr>\n",
       "      <th>5778</th>\n",
       "      <td>SHANK3</td>\n",
       "      <td>ENSG00000251322</td>\n",
       "      <td>22</td>\n",
       "      <td>22q13.33</td>\n",
       "      <td>50674415</td>\n",
       "      <td>50733298</td>\n",
       "      <td>58883</td>\n",
       "    </tr>\n",
       "  </tbody>\n",
       "</table>\n",
       "<p>6442 rows × 7 columns</p>\n",
       "</div>"
      ],
      "text/plain": [
       "          name               id  chr      band  start_position  end_position  \\\n",
       "2619     NOC2L  ENSG00000188976    1   1p36.33          944203        959309   \n",
       "2992      HES4  ENSG00000188290    1   1p36.33          998962       1000172   \n",
       "3567     ISG15  ENSG00000187608    1   1p36.33         1001138       1014540   \n",
       "2722      AGRN  ENSG00000188157    1   1p36.33         1020120       1056118   \n",
       "3344  TNFRSF18  ENSG00000186891    1   1p36.33         1203508       1206592   \n",
       "...        ...              ...  ...       ...             ...           ...   \n",
       "798      CPT1B  ENSG00000205560   22  22q13.33        50568861      50578465   \n",
       "2420      CHKB  ENSG00000100288   22  22q13.33        50578949      50601455   \n",
       "4616  MAPK8IP2  ENSG00000008735   22  22q13.33        50600793      50613981   \n",
       "4329      ARSA  ENSG00000100299   22  22q13.33        50622754      50628173   \n",
       "5778    SHANK3  ENSG00000251322   22  22q13.33        50674415      50733298   \n",
       "\n",
       "      gene_length  \n",
       "2619        15106  \n",
       "2992         1210  \n",
       "3567        13402  \n",
       "2722        35998  \n",
       "3344         3084  \n",
       "...           ...  \n",
       "798          9604  \n",
       "2420        22506  \n",
       "4616        13188  \n",
       "4329         5419  \n",
       "5778        58883  \n",
       "\n",
       "[6442 rows x 7 columns]"
      ]
     },
     "execution_count": 27,
     "metadata": {},
     "output_type": "execute_result"
    }
   ],
   "source": [
    "genes_info"
   ]
  },
  {
   "cell_type": "code",
   "execution_count": 28,
   "id": "1277c7cb-6850-476f-932e-0d166362392c",
   "metadata": {
    "execution": {
     "iopub.execute_input": "2022-12-05T18:46:56.540894Z",
     "iopub.status.busy": "2022-12-05T18:46:56.540678Z",
     "iopub.status.idle": "2022-12-05T18:46:56.562847Z",
     "shell.execute_reply": "2022-12-05T18:46:56.562178Z"
    },
    "papermill": {
     "duration": 0.038364,
     "end_time": "2022-12-05T18:46:56.564193",
     "exception": false,
     "start_time": "2022-12-05T18:46:56.525829",
     "status": "completed"
    },
    "tags": []
   },
   "outputs": [],
   "source": [
    "full_corr_matrix = pd.DataFrame(\n",
    "    np.zeros((genes_info.shape[0], genes_info.shape[0])),\n",
    "    index=genes_info[\"id\"].tolist(),\n",
    "    columns=genes_info[\"id\"].tolist(),\n",
    ")"
   ]
  },
  {
   "cell_type": "code",
   "execution_count": 29,
   "id": "5aa375f4-775a-4dab-80c9-a68a52c69adc",
   "metadata": {
    "execution": {
     "iopub.execute_input": "2022-12-05T18:46:56.593046Z",
     "iopub.status.busy": "2022-12-05T18:46:56.592577Z",
     "iopub.status.idle": "2022-12-05T18:46:56.613510Z",
     "shell.execute_reply": "2022-12-05T18:46:56.612917Z"
    },
    "papermill": {
     "duration": 0.036852,
     "end_time": "2022-12-05T18:46:56.615133",
     "exception": false,
     "start_time": "2022-12-05T18:46:56.578281",
     "status": "completed"
    },
    "tags": []
   },
   "outputs": [],
   "source": [
    "assert full_corr_matrix.index.is_unique & full_corr_matrix.columns.is_unique"
   ]
  },
  {
   "cell_type": "code",
   "execution_count": 30,
   "id": "0afc4716-f607-4634-8a02-5f116fd2c318",
   "metadata": {
    "execution": {
     "iopub.execute_input": "2022-12-05T18:46:56.645290Z",
     "iopub.status.busy": "2022-12-05T18:46:56.645085Z",
     "iopub.status.idle": "2022-12-05T18:46:57.434105Z",
     "shell.execute_reply": "2022-12-05T18:46:57.433601Z"
    },
    "papermill": {
     "duration": 0.804918,
     "end_time": "2022-12-05T18:46:57.435373",
     "exception": false,
     "start_time": "2022-12-05T18:46:56.630455",
     "status": "completed"
    },
    "tags": []
   },
   "outputs": [
    {
     "name": "stdout",
     "output_type": "stream",
     "text": [
      "gene_corrs-chr1.pkl... "
     ]
    },
    {
     "data": {
      "text/plain": [
       "'Number of negative eigenvalues: 0'"
      ]
     },
     "metadata": {},
     "output_type": "display_data"
    },
    {
     "data": {
      "text/plain": [
       "'Negative eigenvalues:\\n[]'"
      ]
     },
     "metadata": {},
     "output_type": "display_data"
    },
    {
     "name": "stdout",
     "output_type": "stream",
     "text": [
      "Works! (statsmodels.GLS)\n",
      "Works!\n",
      "all good.\n",
      "\n",
      "\n",
      "gene_corrs-chr2.pkl... "
     ]
    },
    {
     "data": {
      "text/plain": [
       "'Number of negative eigenvalues: 0'"
      ]
     },
     "metadata": {},
     "output_type": "display_data"
    },
    {
     "data": {
      "text/plain": [
       "'Negative eigenvalues:\\n[]'"
      ]
     },
     "metadata": {},
     "output_type": "display_data"
    },
    {
     "name": "stdout",
     "output_type": "stream",
     "text": [
      "Works! (statsmodels.GLS)\n",
      "Works!\n",
      "all good.\n",
      "\n",
      "\n",
      "gene_corrs-chr3.pkl... "
     ]
    },
    {
     "data": {
      "text/plain": [
       "'Number of negative eigenvalues: 0'"
      ]
     },
     "metadata": {},
     "output_type": "display_data"
    },
    {
     "data": {
      "text/plain": [
       "'Negative eigenvalues:\\n[]'"
      ]
     },
     "metadata": {},
     "output_type": "display_data"
    },
    {
     "name": "stdout",
     "output_type": "stream",
     "text": [
      "Works! (statsmodels.GLS)\n",
      "Works!\n",
      "all good.\n",
      "\n",
      "\n",
      "gene_corrs-chr4.pkl... "
     ]
    },
    {
     "data": {
      "text/plain": [
       "'Number of negative eigenvalues: 0'"
      ]
     },
     "metadata": {},
     "output_type": "display_data"
    },
    {
     "data": {
      "text/plain": [
       "'Negative eigenvalues:\\n[]'"
      ]
     },
     "metadata": {},
     "output_type": "display_data"
    },
    {
     "name": "stdout",
     "output_type": "stream",
     "text": [
      "Works! (statsmodels.GLS)\n",
      "Works!\n",
      "all good.\n",
      "\n",
      "\n",
      "gene_corrs-chr5.pkl... "
     ]
    },
    {
     "data": {
      "text/plain": [
       "'Number of negative eigenvalues: 0'"
      ]
     },
     "metadata": {},
     "output_type": "display_data"
    },
    {
     "data": {
      "text/plain": [
       "'Negative eigenvalues:\\n[]'"
      ]
     },
     "metadata": {},
     "output_type": "display_data"
    },
    {
     "name": "stdout",
     "output_type": "stream",
     "text": [
      "Works! (statsmodels.GLS)\n",
      "Works!\n",
      "all good.\n",
      "\n",
      "\n",
      "gene_corrs-chr6.pkl... "
     ]
    },
    {
     "data": {
      "text/plain": [
       "'Number of negative eigenvalues: 0'"
      ]
     },
     "metadata": {},
     "output_type": "display_data"
    },
    {
     "data": {
      "text/plain": [
       "'Negative eigenvalues:\\n[]'"
      ]
     },
     "metadata": {},
     "output_type": "display_data"
    },
    {
     "name": "stdout",
     "output_type": "stream",
     "text": [
      "Works! (statsmodels.GLS)\n",
      "Works!\n",
      "all good.\n",
      "\n",
      "\n",
      "gene_corrs-chr7.pkl... "
     ]
    },
    {
     "data": {
      "text/plain": [
       "'Number of negative eigenvalues: 0'"
      ]
     },
     "metadata": {},
     "output_type": "display_data"
    },
    {
     "data": {
      "text/plain": [
       "'Negative eigenvalues:\\n[]'"
      ]
     },
     "metadata": {},
     "output_type": "display_data"
    },
    {
     "name": "stdout",
     "output_type": "stream",
     "text": [
      "Works! (statsmodels.GLS)\n",
      "Works!\n",
      "all good.\n",
      "\n",
      "\n",
      "gene_corrs-chr8.pkl... "
     ]
    },
    {
     "data": {
      "text/plain": [
       "'Number of negative eigenvalues: 0'"
      ]
     },
     "metadata": {},
     "output_type": "display_data"
    },
    {
     "data": {
      "text/plain": [
       "'Negative eigenvalues:\\n[]'"
      ]
     },
     "metadata": {},
     "output_type": "display_data"
    },
    {
     "name": "stdout",
     "output_type": "stream",
     "text": [
      "Works! (statsmodels.GLS)\n",
      "Works!\n",
      "all good.\n",
      "\n",
      "\n",
      "gene_corrs-chr9.pkl... "
     ]
    },
    {
     "data": {
      "text/plain": [
       "'Number of negative eigenvalues: 0'"
      ]
     },
     "metadata": {},
     "output_type": "display_data"
    },
    {
     "data": {
      "text/plain": [
       "'Negative eigenvalues:\\n[]'"
      ]
     },
     "metadata": {},
     "output_type": "display_data"
    },
    {
     "name": "stdout",
     "output_type": "stream",
     "text": [
      "Works! (statsmodels.GLS)\n",
      "Works!\n",
      "all good.\n",
      "\n",
      "\n",
      "gene_corrs-chr10.pkl... "
     ]
    },
    {
     "data": {
      "text/plain": [
       "'Number of negative eigenvalues: 0'"
      ]
     },
     "metadata": {},
     "output_type": "display_data"
    },
    {
     "data": {
      "text/plain": [
       "'Negative eigenvalues:\\n[]'"
      ]
     },
     "metadata": {},
     "output_type": "display_data"
    },
    {
     "name": "stdout",
     "output_type": "stream",
     "text": [
      "Works! (statsmodels.GLS)\n",
      "Works!\n",
      "all good.\n",
      "\n",
      "\n",
      "gene_corrs-chr11.pkl... "
     ]
    },
    {
     "data": {
      "text/plain": [
       "'Number of negative eigenvalues: 0'"
      ]
     },
     "metadata": {},
     "output_type": "display_data"
    },
    {
     "data": {
      "text/plain": [
       "'Negative eigenvalues:\\n[]'"
      ]
     },
     "metadata": {},
     "output_type": "display_data"
    },
    {
     "name": "stdout",
     "output_type": "stream",
     "text": [
      "Works! (statsmodels.GLS)\n",
      "Works!\n",
      "all good.\n",
      "\n",
      "\n",
      "gene_corrs-chr12.pkl... "
     ]
    },
    {
     "data": {
      "text/plain": [
       "'Number of negative eigenvalues: 0'"
      ]
     },
     "metadata": {},
     "output_type": "display_data"
    },
    {
     "data": {
      "text/plain": [
       "'Negative eigenvalues:\\n[]'"
      ]
     },
     "metadata": {},
     "output_type": "display_data"
    },
    {
     "name": "stdout",
     "output_type": "stream",
     "text": [
      "Cholesky decomposition failed (statsmodels.GLS): Matrix is not positive definite\n",
      "Cholesky decomposition failed: Matrix is not positive definite\n",
      "not positive definite, fixing... "
     ]
    },
    {
     "data": {
      "text/plain": [
       "'Number of negative eigenvalues: 0'"
      ]
     },
     "metadata": {},
     "output_type": "display_data"
    },
    {
     "data": {
      "text/plain": [
       "'Negative eigenvalues:\\n[]'"
      ]
     },
     "metadata": {},
     "output_type": "display_data"
    },
    {
     "name": "stdout",
     "output_type": "stream",
     "text": [
      "Works! (statsmodels.GLS)\n",
      "Works!\n",
      "fixed! comparing...\n"
     ]
    },
    {
     "data": {
      "text/plain": [
       "count    1.505440e+05\n",
       "mean     1.351593e-18\n",
       "std      1.658494e-16\n",
       "min     -5.329071e-15\n",
       "25%     -4.328044e-17\n",
       "50%      2.499816e-19\n",
       "75%      4.463927e-17\n",
       "max      4.884981e-15\n",
       "dtype: float64"
      ]
     },
     "metadata": {},
     "output_type": "display_data"
    },
    {
     "data": {
      "text/plain": [
       "ENSG00000151233  ENSG00000151233   -5.329071e-15\n",
       "ENSG00000170456  ENSG00000170456   -4.440892e-15\n",
       "ENSG00000184047  ENSG00000184047   -4.218847e-15\n",
       "ENSG00000084463  ENSG00000084463   -3.774758e-15\n",
       "ENSG00000029153  ENSG00000029153   -3.330669e-15\n",
       "                                        ...     \n",
       "ENSG00000075188  ENSG00000075188    3.774758e-15\n",
       "ENSG00000111321  ENSG00000111321    3.996803e-15\n",
       "ENSG00000089022  ENSG00000089022    4.440892e-15\n",
       "ENSG00000167272  ENSG00000167272    4.662937e-15\n",
       "ENSG00000139344  ENSG00000139344    4.884981e-15\n",
       "Length: 150544, dtype: float64"
      ]
     },
     "metadata": {},
     "output_type": "display_data"
    },
    {
     "name": "stdout",
     "output_type": "stream",
     "text": [
      "\n",
      "\n",
      "gene_corrs-chr13.pkl... "
     ]
    },
    {
     "data": {
      "text/plain": [
       "'Number of negative eigenvalues: 0'"
      ]
     },
     "metadata": {},
     "output_type": "display_data"
    },
    {
     "data": {
      "text/plain": [
       "'Negative eigenvalues:\\n[]'"
      ]
     },
     "metadata": {},
     "output_type": "display_data"
    },
    {
     "name": "stdout",
     "output_type": "stream",
     "text": [
      "Works! (statsmodels.GLS)\n",
      "Works!\n",
      "all good.\n",
      "\n",
      "\n",
      "gene_corrs-chr14.pkl... "
     ]
    },
    {
     "data": {
      "text/plain": [
       "'Number of negative eigenvalues: 0'"
      ]
     },
     "metadata": {},
     "output_type": "display_data"
    },
    {
     "data": {
      "text/plain": [
       "'Negative eigenvalues:\\n[]'"
      ]
     },
     "metadata": {},
     "output_type": "display_data"
    },
    {
     "name": "stdout",
     "output_type": "stream",
     "text": [
      "Works! (statsmodels.GLS)\n",
      "Works!\n",
      "all good.\n",
      "\n",
      "\n",
      "gene_corrs-chr15.pkl... "
     ]
    },
    {
     "data": {
      "text/plain": [
       "'Number of negative eigenvalues: 0'"
      ]
     },
     "metadata": {},
     "output_type": "display_data"
    },
    {
     "data": {
      "text/plain": [
       "'Negative eigenvalues:\\n[]'"
      ]
     },
     "metadata": {},
     "output_type": "display_data"
    },
    {
     "name": "stdout",
     "output_type": "stream",
     "text": [
      "Works! (statsmodels.GLS)\n",
      "Works!\n",
      "all good.\n",
      "\n",
      "\n",
      "gene_corrs-chr16.pkl... "
     ]
    },
    {
     "data": {
      "text/plain": [
       "'Number of negative eigenvalues: 0'"
      ]
     },
     "metadata": {},
     "output_type": "display_data"
    },
    {
     "data": {
      "text/plain": [
       "'Negative eigenvalues:\\n[]'"
      ]
     },
     "metadata": {},
     "output_type": "display_data"
    },
    {
     "name": "stdout",
     "output_type": "stream",
     "text": [
      "Works! (statsmodels.GLS)\n",
      "Works!\n",
      "all good.\n",
      "\n",
      "\n",
      "gene_corrs-chr17.pkl... "
     ]
    },
    {
     "data": {
      "text/plain": [
       "'Number of negative eigenvalues: 0'"
      ]
     },
     "metadata": {},
     "output_type": "display_data"
    },
    {
     "data": {
      "text/plain": [
       "'Negative eigenvalues:\\n[]'"
      ]
     },
     "metadata": {},
     "output_type": "display_data"
    },
    {
     "name": "stdout",
     "output_type": "stream",
     "text": [
      "Works! (statsmodels.GLS)\n",
      "Works!\n",
      "all good.\n",
      "\n",
      "\n",
      "gene_corrs-chr18.pkl... "
     ]
    },
    {
     "data": {
      "text/plain": [
       "'Number of negative eigenvalues: 0'"
      ]
     },
     "metadata": {},
     "output_type": "display_data"
    },
    {
     "data": {
      "text/plain": [
       "'Negative eigenvalues:\\n[]'"
      ]
     },
     "metadata": {},
     "output_type": "display_data"
    },
    {
     "name": "stdout",
     "output_type": "stream",
     "text": [
      "Works! (statsmodels.GLS)\n",
      "Works!\n",
      "all good.\n",
      "\n",
      "\n",
      "gene_corrs-chr19.pkl... "
     ]
    },
    {
     "data": {
      "text/plain": [
       "'Number of negative eigenvalues: 0'"
      ]
     },
     "metadata": {},
     "output_type": "display_data"
    },
    {
     "data": {
      "text/plain": [
       "'Negative eigenvalues:\\n[]'"
      ]
     },
     "metadata": {},
     "output_type": "display_data"
    },
    {
     "name": "stdout",
     "output_type": "stream",
     "text": [
      "Works! (statsmodels.GLS)\n",
      "Works!\n",
      "all good.\n",
      "\n",
      "\n",
      "gene_corrs-chr20.pkl... "
     ]
    },
    {
     "data": {
      "text/plain": [
       "'Number of negative eigenvalues: 0'"
      ]
     },
     "metadata": {},
     "output_type": "display_data"
    },
    {
     "data": {
      "text/plain": [
       "'Negative eigenvalues:\\n[]'"
      ]
     },
     "metadata": {},
     "output_type": "display_data"
    },
    {
     "name": "stdout",
     "output_type": "stream",
     "text": [
      "Works! (statsmodels.GLS)\n",
      "Works!\n",
      "all good.\n",
      "\n",
      "\n",
      "gene_corrs-chr21.pkl... "
     ]
    },
    {
     "data": {
      "text/plain": [
       "'Number of negative eigenvalues: 0'"
      ]
     },
     "metadata": {},
     "output_type": "display_data"
    },
    {
     "data": {
      "text/plain": [
       "'Negative eigenvalues:\\n[]'"
      ]
     },
     "metadata": {},
     "output_type": "display_data"
    },
    {
     "name": "stdout",
     "output_type": "stream",
     "text": [
      "Works! (statsmodels.GLS)\n",
      "Works!\n",
      "all good.\n",
      "\n",
      "\n",
      "gene_corrs-chr22.pkl... "
     ]
    },
    {
     "data": {
      "text/plain": [
       "'Number of negative eigenvalues: 0'"
      ]
     },
     "metadata": {},
     "output_type": "display_data"
    },
    {
     "data": {
      "text/plain": [
       "'Negative eigenvalues:\\n[]'"
      ]
     },
     "metadata": {},
     "output_type": "display_data"
    },
    {
     "name": "stdout",
     "output_type": "stream",
     "text": [
      "Works! (statsmodels.GLS)\n",
      "Works!\n",
      "all good.\n",
      "\n",
      "\n"
     ]
    }
   ],
   "source": [
    "for chr_corr_file in all_gene_corr_files:\n",
    "    print(chr_corr_file.name, flush=True, end=\"... \")\n",
    "\n",
    "    # get correlation matrix for this chromosome\n",
    "    corr_data = pd.read_pickle(chr_corr_file)\n",
    "\n",
    "    # save gene correlation matrix\n",
    "    full_corr_matrix.loc[corr_data.index, corr_data.columns] = corr_data\n",
    "\n",
    "    # save inverse of Cholesky decomposition of gene correlation matrix\n",
    "    # first, adjust correlation matrix if it is not positive definite\n",
    "    is_pos_def = check_pos_def(corr_data)\n",
    "\n",
    "    if is_pos_def:\n",
    "        print(\"all good.\", flush=True, end=\"\\n\")\n",
    "    else:\n",
    "        print(\"not positive definite, fixing... \", flush=True, end=\"\")\n",
    "        corr_data_adjusted = adjust_non_pos_def(corr_data)\n",
    "\n",
    "        is_pos_def = check_pos_def(corr_data_adjusted)\n",
    "        assert is_pos_def, \"Could not adjust gene correlation matrix\"\n",
    "\n",
    "        print(\"fixed! comparing...\", flush=True, end=\"\\n\")\n",
    "        compare_matrices(corr_data, corr_data_adjusted)\n",
    "\n",
    "        corr_data = corr_data_adjusted\n",
    "\n",
    "        # save\n",
    "        full_corr_matrix.loc[corr_data.index, corr_data.columns] = corr_data\n",
    "\n",
    "    print(\"\\n\")"
   ]
  },
  {
   "cell_type": "code",
   "execution_count": 31,
   "id": "a6be3bf7-d1c1-4f90-b074-a6e74d9285a5",
   "metadata": {
    "execution": {
     "iopub.execute_input": "2022-12-05T18:46:57.477372Z",
     "iopub.status.busy": "2022-12-05T18:46:57.477250Z",
     "iopub.status.idle": "2022-12-05T18:46:57.497661Z",
     "shell.execute_reply": "2022-12-05T18:46:57.497070Z"
    },
    "papermill": {
     "duration": 0.043016,
     "end_time": "2022-12-05T18:46:57.499079",
     "exception": false,
     "start_time": "2022-12-05T18:46:57.456063",
     "status": "completed"
    },
    "tags": []
   },
   "outputs": [
    {
     "data": {
      "text/plain": [
       "(6442, 6442)"
      ]
     },
     "execution_count": 31,
     "metadata": {},
     "output_type": "execute_result"
    }
   ],
   "source": [
    "full_corr_matrix.shape"
   ]
  },
  {
   "cell_type": "code",
   "execution_count": 32,
   "id": "aac21a65-87b3-4b87-b17a-cbe3692c88a9",
   "metadata": {
    "execution": {
     "iopub.execute_input": "2022-12-05T18:46:57.541273Z",
     "iopub.status.busy": "2022-12-05T18:46:57.540802Z",
     "iopub.status.idle": "2022-12-05T18:46:57.577679Z",
     "shell.execute_reply": "2022-12-05T18:46:57.577086Z"
    },
    "papermill": {
     "duration": 0.059707,
     "end_time": "2022-12-05T18:46:57.579095",
     "exception": false,
     "start_time": "2022-12-05T18:46:57.519388",
     "status": "completed"
    },
    "tags": []
   },
   "outputs": [
    {
     "data": {
      "text/html": [
       "<div>\n",
       "<style scoped>\n",
       "    .dataframe tbody tr th:only-of-type {\n",
       "        vertical-align: middle;\n",
       "    }\n",
       "\n",
       "    .dataframe tbody tr th {\n",
       "        vertical-align: top;\n",
       "    }\n",
       "\n",
       "    .dataframe thead th {\n",
       "        text-align: right;\n",
       "    }\n",
       "</style>\n",
       "<table border=\"1\" class=\"dataframe\">\n",
       "  <thead>\n",
       "    <tr style=\"text-align: right;\">\n",
       "      <th></th>\n",
       "      <th>ENSG00000188976</th>\n",
       "      <th>ENSG00000188290</th>\n",
       "      <th>ENSG00000187608</th>\n",
       "      <th>ENSG00000188157</th>\n",
       "      <th>ENSG00000186891</th>\n",
       "      <th>ENSG00000186827</th>\n",
       "      <th>ENSG00000176022</th>\n",
       "      <th>ENSG00000160087</th>\n",
       "      <th>ENSG00000131584</th>\n",
       "      <th>ENSG00000169962</th>\n",
       "      <th>...</th>\n",
       "      <th>ENSG00000196576</th>\n",
       "      <th>ENSG00000128165</th>\n",
       "      <th>ENSG00000100253</th>\n",
       "      <th>ENSG00000130489</th>\n",
       "      <th>ENSG00000025708</th>\n",
       "      <th>ENSG00000205560</th>\n",
       "      <th>ENSG00000100288</th>\n",
       "      <th>ENSG00000008735</th>\n",
       "      <th>ENSG00000100299</th>\n",
       "      <th>ENSG00000251322</th>\n",
       "    </tr>\n",
       "  </thead>\n",
       "  <tbody>\n",
       "    <tr>\n",
       "      <th>ENSG00000188976</th>\n",
       "      <td>1.000000</td>\n",
       "      <td>0.120590</td>\n",
       "      <td>0.177063</td>\n",
       "      <td>0.085746</td>\n",
       "      <td>0.006792</td>\n",
       "      <td>0.007685</td>\n",
       "      <td>0.004673</td>\n",
       "      <td>0.010734</td>\n",
       "      <td>0.011200</td>\n",
       "      <td>0.007529</td>\n",
       "      <td>...</td>\n",
       "      <td>0.0</td>\n",
       "      <td>0.0</td>\n",
       "      <td>0.0</td>\n",
       "      <td>0.0</td>\n",
       "      <td>0.0</td>\n",
       "      <td>0.0</td>\n",
       "      <td>0.0</td>\n",
       "      <td>0.0</td>\n",
       "      <td>0.0</td>\n",
       "      <td>0.0</td>\n",
       "    </tr>\n",
       "    <tr>\n",
       "      <th>ENSG00000188290</th>\n",
       "      <td>0.120590</td>\n",
       "      <td>1.000000</td>\n",
       "      <td>0.672060</td>\n",
       "      <td>0.391127</td>\n",
       "      <td>0.011695</td>\n",
       "      <td>0.009275</td>\n",
       "      <td>0.005970</td>\n",
       "      <td>0.007385</td>\n",
       "      <td>0.002641</td>\n",
       "      <td>0.004767</td>\n",
       "      <td>...</td>\n",
       "      <td>0.0</td>\n",
       "      <td>0.0</td>\n",
       "      <td>0.0</td>\n",
       "      <td>0.0</td>\n",
       "      <td>0.0</td>\n",
       "      <td>0.0</td>\n",
       "      <td>0.0</td>\n",
       "      <td>0.0</td>\n",
       "      <td>0.0</td>\n",
       "      <td>0.0</td>\n",
       "    </tr>\n",
       "    <tr>\n",
       "      <th>ENSG00000187608</th>\n",
       "      <td>0.177063</td>\n",
       "      <td>0.672060</td>\n",
       "      <td>1.000000</td>\n",
       "      <td>0.424696</td>\n",
       "      <td>0.013929</td>\n",
       "      <td>0.013311</td>\n",
       "      <td>0.008466</td>\n",
       "      <td>0.010608</td>\n",
       "      <td>0.006689</td>\n",
       "      <td>0.011659</td>\n",
       "      <td>...</td>\n",
       "      <td>0.0</td>\n",
       "      <td>0.0</td>\n",
       "      <td>0.0</td>\n",
       "      <td>0.0</td>\n",
       "      <td>0.0</td>\n",
       "      <td>0.0</td>\n",
       "      <td>0.0</td>\n",
       "      <td>0.0</td>\n",
       "      <td>0.0</td>\n",
       "      <td>0.0</td>\n",
       "    </tr>\n",
       "    <tr>\n",
       "      <th>ENSG00000188157</th>\n",
       "      <td>0.085746</td>\n",
       "      <td>0.391127</td>\n",
       "      <td>0.424696</td>\n",
       "      <td>1.000000</td>\n",
       "      <td>0.005309</td>\n",
       "      <td>0.011848</td>\n",
       "      <td>0.002161</td>\n",
       "      <td>0.002535</td>\n",
       "      <td>0.005359</td>\n",
       "      <td>0.007012</td>\n",
       "      <td>...</td>\n",
       "      <td>0.0</td>\n",
       "      <td>0.0</td>\n",
       "      <td>0.0</td>\n",
       "      <td>0.0</td>\n",
       "      <td>0.0</td>\n",
       "      <td>0.0</td>\n",
       "      <td>0.0</td>\n",
       "      <td>0.0</td>\n",
       "      <td>0.0</td>\n",
       "      <td>0.0</td>\n",
       "    </tr>\n",
       "    <tr>\n",
       "      <th>ENSG00000186891</th>\n",
       "      <td>0.006792</td>\n",
       "      <td>0.011695</td>\n",
       "      <td>0.013929</td>\n",
       "      <td>0.005309</td>\n",
       "      <td>1.000000</td>\n",
       "      <td>0.338085</td>\n",
       "      <td>0.550817</td>\n",
       "      <td>0.154394</td>\n",
       "      <td>0.193627</td>\n",
       "      <td>0.101004</td>\n",
       "      <td>...</td>\n",
       "      <td>0.0</td>\n",
       "      <td>0.0</td>\n",
       "      <td>0.0</td>\n",
       "      <td>0.0</td>\n",
       "      <td>0.0</td>\n",
       "      <td>0.0</td>\n",
       "      <td>0.0</td>\n",
       "      <td>0.0</td>\n",
       "      <td>0.0</td>\n",
       "      <td>0.0</td>\n",
       "    </tr>\n",
       "  </tbody>\n",
       "</table>\n",
       "<p>5 rows × 6442 columns</p>\n",
       "</div>"
      ],
      "text/plain": [
       "                 ENSG00000188976  ENSG00000188290  ENSG00000187608  \\\n",
       "ENSG00000188976         1.000000         0.120590         0.177063   \n",
       "ENSG00000188290         0.120590         1.000000         0.672060   \n",
       "ENSG00000187608         0.177063         0.672060         1.000000   \n",
       "ENSG00000188157         0.085746         0.391127         0.424696   \n",
       "ENSG00000186891         0.006792         0.011695         0.013929   \n",
       "\n",
       "                 ENSG00000188157  ENSG00000186891  ENSG00000186827  \\\n",
       "ENSG00000188976         0.085746         0.006792         0.007685   \n",
       "ENSG00000188290         0.391127         0.011695         0.009275   \n",
       "ENSG00000187608         0.424696         0.013929         0.013311   \n",
       "ENSG00000188157         1.000000         0.005309         0.011848   \n",
       "ENSG00000186891         0.005309         1.000000         0.338085   \n",
       "\n",
       "                 ENSG00000176022  ENSG00000160087  ENSG00000131584  \\\n",
       "ENSG00000188976         0.004673         0.010734         0.011200   \n",
       "ENSG00000188290         0.005970         0.007385         0.002641   \n",
       "ENSG00000187608         0.008466         0.010608         0.006689   \n",
       "ENSG00000188157         0.002161         0.002535         0.005359   \n",
       "ENSG00000186891         0.550817         0.154394         0.193627   \n",
       "\n",
       "                 ENSG00000169962  ...  ENSG00000196576  ENSG00000128165  \\\n",
       "ENSG00000188976         0.007529  ...              0.0              0.0   \n",
       "ENSG00000188290         0.004767  ...              0.0              0.0   \n",
       "ENSG00000187608         0.011659  ...              0.0              0.0   \n",
       "ENSG00000188157         0.007012  ...              0.0              0.0   \n",
       "ENSG00000186891         0.101004  ...              0.0              0.0   \n",
       "\n",
       "                 ENSG00000100253  ENSG00000130489  ENSG00000025708  \\\n",
       "ENSG00000188976              0.0              0.0              0.0   \n",
       "ENSG00000188290              0.0              0.0              0.0   \n",
       "ENSG00000187608              0.0              0.0              0.0   \n",
       "ENSG00000188157              0.0              0.0              0.0   \n",
       "ENSG00000186891              0.0              0.0              0.0   \n",
       "\n",
       "                 ENSG00000205560  ENSG00000100288  ENSG00000008735  \\\n",
       "ENSG00000188976              0.0              0.0              0.0   \n",
       "ENSG00000188290              0.0              0.0              0.0   \n",
       "ENSG00000187608              0.0              0.0              0.0   \n",
       "ENSG00000188157              0.0              0.0              0.0   \n",
       "ENSG00000186891              0.0              0.0              0.0   \n",
       "\n",
       "                 ENSG00000100299  ENSG00000251322  \n",
       "ENSG00000188976              0.0              0.0  \n",
       "ENSG00000188290              0.0              0.0  \n",
       "ENSG00000187608              0.0              0.0  \n",
       "ENSG00000188157              0.0              0.0  \n",
       "ENSG00000186891              0.0              0.0  \n",
       "\n",
       "[5 rows x 6442 columns]"
      ]
     },
     "execution_count": 32,
     "metadata": {},
     "output_type": "execute_result"
    }
   ],
   "source": [
    "full_corr_matrix.head()"
   ]
  },
  {
   "cell_type": "code",
   "execution_count": 33,
   "id": "0d43f268-ad27-4117-b43b-df581deedae5",
   "metadata": {
    "execution": {
     "iopub.execute_input": "2022-12-05T18:46:57.621633Z",
     "iopub.status.busy": "2022-12-05T18:46:57.621187Z",
     "iopub.status.idle": "2022-12-05T18:46:57.643433Z",
     "shell.execute_reply": "2022-12-05T18:46:57.642878Z"
    },
    "papermill": {
     "duration": 0.044946,
     "end_time": "2022-12-05T18:46:57.644830",
     "exception": false,
     "start_time": "2022-12-05T18:46:57.599884",
     "status": "completed"
    },
    "tags": []
   },
   "outputs": [
    {
     "data": {
      "text/plain": [
       "False"
      ]
     },
     "execution_count": 33,
     "metadata": {},
     "output_type": "execute_result"
    }
   ],
   "source": [
    "np.all(full_corr_matrix.to_numpy().diagonal() == 1.0)"
   ]
  },
  {
   "cell_type": "markdown",
   "id": "1169db4b-9af2-4d3c-a27a-198d7730fa67",
   "metadata": {
    "papermill": {
     "duration": 0.020631,
     "end_time": "2022-12-05T18:46:57.686135",
     "exception": false,
     "start_time": "2022-12-05T18:46:57.665504",
     "status": "completed"
    },
    "tags": []
   },
   "source": [
    "## Some checks"
   ]
  },
  {
   "cell_type": "code",
   "execution_count": 34,
   "id": "31b4e109-a020-4667-9326-c63e6d80a33e",
   "metadata": {
    "execution": {
     "iopub.execute_input": "2022-12-05T18:46:57.711530Z",
     "iopub.status.busy": "2022-12-05T18:46:57.711041Z",
     "iopub.status.idle": "2022-12-05T18:46:57.814482Z",
     "shell.execute_reply": "2022-12-05T18:46:57.814000Z"
    },
    "papermill": {
     "duration": 0.115961,
     "end_time": "2022-12-05T18:46:57.815573",
     "exception": false,
     "start_time": "2022-12-05T18:46:57.699612",
     "status": "completed"
    },
    "tags": []
   },
   "outputs": [
    {
     "data": {
      "text/plain": [
       "-1.8102381572904225e-15"
      ]
     },
     "metadata": {},
     "output_type": "display_data"
    }
   ],
   "source": [
    "_min_val = full_corr_matrix.min().min()\n",
    "display(_min_val)\n",
    "# assert _min_val >= -0.05"
   ]
  },
  {
   "cell_type": "code",
   "execution_count": 35,
   "id": "df674d11-939a-4704-a718-f246527a1880",
   "metadata": {
    "execution": {
     "iopub.execute_input": "2022-12-05T18:46:57.849309Z",
     "iopub.status.busy": "2022-12-05T18:46:57.849193Z",
     "iopub.status.idle": "2022-12-05T18:46:57.897141Z",
     "shell.execute_reply": "2022-12-05T18:46:57.896622Z"
    },
    "papermill": {
     "duration": 0.065992,
     "end_time": "2022-12-05T18:46:57.898452",
     "exception": false,
     "start_time": "2022-12-05T18:46:57.832460",
     "status": "completed"
    },
    "tags": []
   },
   "outputs": [
    {
     "data": {
      "text/plain": [
       "1.0000000000000044"
      ]
     },
     "metadata": {},
     "output_type": "display_data"
    }
   ],
   "source": [
    "_max_val = full_corr_matrix.max().max()\n",
    "display(_max_val)\n",
    "# assert _max_val <= 1.05"
   ]
  },
  {
   "cell_type": "markdown",
   "id": "d6b0f6d2-f191-44ba-97da-41f980163729",
   "metadata": {
    "papermill": {
     "duration": 0.020608,
     "end_time": "2022-12-05T18:46:57.940445",
     "exception": false,
     "start_time": "2022-12-05T18:46:57.919837",
     "status": "completed"
    },
    "tags": []
   },
   "source": [
    "## Positive definiteness"
   ]
  },
  {
   "cell_type": "markdown",
   "id": "bd7c979c-1f9c-4396-92a4-c1eb8be339d0",
   "metadata": {
    "papermill": {
     "duration": 0.014112,
     "end_time": "2022-12-05T18:46:57.975582",
     "exception": false,
     "start_time": "2022-12-05T18:46:57.961470",
     "status": "completed"
    },
    "tags": []
   },
   "source": [
    "In some cases, even if the submatrices are adjusted, the whole one is not.\n",
    "\n",
    "So here I check that again."
   ]
  },
  {
   "cell_type": "code",
   "execution_count": 36,
   "id": "6fc157e7-b798-4977-975b-d20d8c1cda09",
   "metadata": {
    "execution": {
     "iopub.execute_input": "2022-12-05T18:46:57.998093Z",
     "iopub.status.busy": "2022-12-05T18:46:57.997979Z",
     "iopub.status.idle": "2022-12-05T18:48:24.073240Z",
     "shell.execute_reply": "2022-12-05T18:48:24.072647Z"
    },
    "papermill": {
     "duration": 86.08814,
     "end_time": "2022-12-05T18:48:24.074755",
     "exception": false,
     "start_time": "2022-12-05T18:46:57.986615",
     "status": "completed"
    },
    "tags": []
   },
   "outputs": [
    {
     "data": {
      "text/plain": [
       "'Number of negative eigenvalues: 0'"
      ]
     },
     "metadata": {},
     "output_type": "display_data"
    },
    {
     "data": {
      "text/plain": [
       "'Negative eigenvalues:\\n[]'"
      ]
     },
     "metadata": {},
     "output_type": "display_data"
    },
    {
     "name": "stdout",
     "output_type": "stream",
     "text": [
      "Works! (statsmodels.GLS)\n",
      "Works!\n",
      "all good.\n"
     ]
    }
   ],
   "source": [
    "is_pos_def = check_pos_def(full_corr_matrix)\n",
    "\n",
    "if is_pos_def:\n",
    "    print(\"all good.\", flush=True, end=\"\\n\")\n",
    "else:\n",
    "    print(\"not positive definite, fixing... \", flush=True, end=\"\")\n",
    "    corr_data_adjusted = adjust_non_pos_def(full_corr_matrix)\n",
    "\n",
    "    is_pos_def = check_pos_def(corr_data_adjusted)\n",
    "    assert is_pos_def, \"Could not adjust gene correlation matrix\"\n",
    "\n",
    "    print(\"fixed! comparing...\", flush=True, end=\"\\n\")\n",
    "    compare_matrices(full_corr_matrix, corr_data_adjusted)\n",
    "\n",
    "    full_corr_matrix = corr_data_adjusted"
   ]
  },
  {
   "cell_type": "markdown",
   "id": "f328f55d-37d5-4346-97b4-7237281d5757",
   "metadata": {
    "papermill": {
     "duration": 0.021952,
     "end_time": "2022-12-05T18:48:24.119733",
     "exception": false,
     "start_time": "2022-12-05T18:48:24.097781",
     "status": "completed"
    },
    "tags": []
   },
   "source": [
    "## Save"
   ]
  },
  {
   "cell_type": "markdown",
   "id": "0bf781b4-7a49-4823-9c40-d6d4151c17b7",
   "metadata": {
    "papermill": {
     "duration": 0.020602,
     "end_time": "2022-12-05T18:48:24.163079",
     "exception": false,
     "start_time": "2022-12-05T18:48:24.142477",
     "status": "completed"
    },
    "tags": []
   },
   "source": [
    "### Gene corrs with gene symbols"
   ]
  },
  {
   "cell_type": "code",
   "execution_count": 37,
   "id": "cd9323bb-f43e-4271-aeae-c4ff9ba150fe",
   "metadata": {
    "execution": {
     "iopub.execute_input": "2022-12-05T18:48:24.186347Z",
     "iopub.status.busy": "2022-12-05T18:48:24.186154Z",
     "iopub.status.idle": "2022-12-05T18:48:24.204682Z",
     "shell.execute_reply": "2022-12-05T18:48:24.204163Z"
    },
    "papermill": {
     "duration": 0.031233,
     "end_time": "2022-12-05T18:48:24.205500",
     "exception": false,
     "start_time": "2022-12-05T18:48:24.174267",
     "status": "completed"
    },
    "tags": []
   },
   "outputs": [
    {
     "data": {
      "text/plain": [
       "PosixPath('/opt/data/projects/asthma-copd/results/gls_phenoplier/gene_corrs/aco/gene_corrs-symbols.pkl')"
      ]
     },
     "metadata": {},
     "output_type": "display_data"
    }
   ],
   "source": [
    "output_file = OUTPUT_DIR_BASE / \"gene_corrs-symbols.pkl\"\n",
    "display(output_file)"
   ]
  },
  {
   "cell_type": "code",
   "execution_count": 38,
   "id": "eae70039-4724-49c2-af7f-af868ee71f52",
   "metadata": {
    "execution": {
     "iopub.execute_input": "2022-12-05T18:48:24.228805Z",
     "iopub.status.busy": "2022-12-05T18:48:24.228631Z",
     "iopub.status.idle": "2022-12-05T18:48:24.522763Z",
     "shell.execute_reply": "2022-12-05T18:48:24.522231Z"
    },
    "papermill": {
     "duration": 0.307765,
     "end_time": "2022-12-05T18:48:24.524358",
     "exception": false,
     "start_time": "2022-12-05T18:48:24.216593",
     "status": "completed"
    },
    "tags": []
   },
   "outputs": [],
   "source": [
    "gene_corrs = full_corr_matrix.rename(\n",
    "    index=Gene.GENE_ID_TO_NAME_MAP, columns=Gene.GENE_ID_TO_NAME_MAP\n",
    ")"
   ]
  },
  {
   "cell_type": "code",
   "execution_count": 39,
   "id": "d095a99d-acf0-4290-873b-64079ba70a3a",
   "metadata": {
    "execution": {
     "iopub.execute_input": "2022-12-05T18:48:24.570341Z",
     "iopub.status.busy": "2022-12-05T18:48:24.570222Z",
     "iopub.status.idle": "2022-12-05T18:48:24.636193Z",
     "shell.execute_reply": "2022-12-05T18:48:24.635655Z"
    },
    "papermill": {
     "duration": 0.090837,
     "end_time": "2022-12-05T18:48:24.637856",
     "exception": false,
     "start_time": "2022-12-05T18:48:24.547019",
     "status": "completed"
    },
    "tags": []
   },
   "outputs": [],
   "source": [
    "assert not gene_corrs.isna().any(axis=None)\n",
    "assert not np.isinf(gene_corrs.to_numpy()).any()\n",
    "assert not np.iscomplex(gene_corrs.to_numpy()).any()"
   ]
  },
  {
   "cell_type": "code",
   "execution_count": 40,
   "id": "8a0ee039-378e-4f51-a18a-24fe2c9d9ba8",
   "metadata": {
    "execution": {
     "iopub.execute_input": "2022-12-05T18:48:24.689204Z",
     "iopub.status.busy": "2022-12-05T18:48:24.689087Z",
     "iopub.status.idle": "2022-12-05T18:48:24.703596Z",
     "shell.execute_reply": "2022-12-05T18:48:24.703147Z"
    },
    "papermill": {
     "duration": 0.041765,
     "end_time": "2022-12-05T18:48:24.705241",
     "exception": false,
     "start_time": "2022-12-05T18:48:24.663476",
     "status": "completed"
    },
    "tags": []
   },
   "outputs": [],
   "source": [
    "assert gene_corrs.index.is_unique\n",
    "assert gene_corrs.columns.is_unique"
   ]
  },
  {
   "cell_type": "code",
   "execution_count": 41,
   "id": "7fe158ee-2def-4c61-91a2-f3ec05687237",
   "metadata": {
    "execution": {
     "iopub.execute_input": "2022-12-05T18:48:24.751655Z",
     "iopub.status.busy": "2022-12-05T18:48:24.751544Z",
     "iopub.status.idle": "2022-12-05T18:48:24.772537Z",
     "shell.execute_reply": "2022-12-05T18:48:24.771965Z"
    },
    "papermill": {
     "duration": 0.043158,
     "end_time": "2022-12-05T18:48:24.773429",
     "exception": false,
     "start_time": "2022-12-05T18:48:24.730271",
     "status": "completed"
    },
    "tags": []
   },
   "outputs": [
    {
     "data": {
      "text/plain": [
       "(6442, 6442)"
      ]
     },
     "execution_count": 41,
     "metadata": {},
     "output_type": "execute_result"
    }
   ],
   "source": [
    "gene_corrs.shape"
   ]
  },
  {
   "cell_type": "code",
   "execution_count": 42,
   "id": "28db69f2-6dc8-4a05-a1da-d44998574749",
   "metadata": {
    "execution": {
     "iopub.execute_input": "2022-12-05T18:48:24.797060Z",
     "iopub.status.busy": "2022-12-05T18:48:24.796760Z",
     "iopub.status.idle": "2022-12-05T18:48:24.837313Z",
     "shell.execute_reply": "2022-12-05T18:48:24.836706Z"
    },
    "papermill": {
     "duration": 0.053392,
     "end_time": "2022-12-05T18:48:24.838264",
     "exception": false,
     "start_time": "2022-12-05T18:48:24.784872",
     "status": "completed"
    },
    "tags": []
   },
   "outputs": [
    {
     "data": {
      "text/html": [
       "<div>\n",
       "<style scoped>\n",
       "    .dataframe tbody tr th:only-of-type {\n",
       "        vertical-align: middle;\n",
       "    }\n",
       "\n",
       "    .dataframe tbody tr th {\n",
       "        vertical-align: top;\n",
       "    }\n",
       "\n",
       "    .dataframe thead th {\n",
       "        text-align: right;\n",
       "    }\n",
       "</style>\n",
       "<table border=\"1\" class=\"dataframe\">\n",
       "  <thead>\n",
       "    <tr style=\"text-align: right;\">\n",
       "      <th></th>\n",
       "      <th>NOC2L</th>\n",
       "      <th>HES4</th>\n",
       "      <th>ISG15</th>\n",
       "      <th>AGRN</th>\n",
       "      <th>TNFRSF18</th>\n",
       "      <th>TNFRSF4</th>\n",
       "      <th>B3GALT6</th>\n",
       "      <th>UBE2J2</th>\n",
       "      <th>ACAP3</th>\n",
       "      <th>TAS1R3</th>\n",
       "      <th>...</th>\n",
       "      <th>PLXNB2</th>\n",
       "      <th>ADM2</th>\n",
       "      <th>MIOX</th>\n",
       "      <th>SCO2</th>\n",
       "      <th>TYMP</th>\n",
       "      <th>CPT1B</th>\n",
       "      <th>CHKB</th>\n",
       "      <th>MAPK8IP2</th>\n",
       "      <th>ARSA</th>\n",
       "      <th>SHANK3</th>\n",
       "    </tr>\n",
       "  </thead>\n",
       "  <tbody>\n",
       "    <tr>\n",
       "      <th>NOC2L</th>\n",
       "      <td>1.000000</td>\n",
       "      <td>0.120590</td>\n",
       "      <td>0.177063</td>\n",
       "      <td>0.085746</td>\n",
       "      <td>0.006792</td>\n",
       "      <td>0.007685</td>\n",
       "      <td>0.004673</td>\n",
       "      <td>0.010734</td>\n",
       "      <td>0.011200</td>\n",
       "      <td>0.007529</td>\n",
       "      <td>...</td>\n",
       "      <td>0.0</td>\n",
       "      <td>0.0</td>\n",
       "      <td>0.0</td>\n",
       "      <td>0.0</td>\n",
       "      <td>0.0</td>\n",
       "      <td>0.0</td>\n",
       "      <td>0.0</td>\n",
       "      <td>0.0</td>\n",
       "      <td>0.0</td>\n",
       "      <td>0.0</td>\n",
       "    </tr>\n",
       "    <tr>\n",
       "      <th>HES4</th>\n",
       "      <td>0.120590</td>\n",
       "      <td>1.000000</td>\n",
       "      <td>0.672060</td>\n",
       "      <td>0.391127</td>\n",
       "      <td>0.011695</td>\n",
       "      <td>0.009275</td>\n",
       "      <td>0.005970</td>\n",
       "      <td>0.007385</td>\n",
       "      <td>0.002641</td>\n",
       "      <td>0.004767</td>\n",
       "      <td>...</td>\n",
       "      <td>0.0</td>\n",
       "      <td>0.0</td>\n",
       "      <td>0.0</td>\n",
       "      <td>0.0</td>\n",
       "      <td>0.0</td>\n",
       "      <td>0.0</td>\n",
       "      <td>0.0</td>\n",
       "      <td>0.0</td>\n",
       "      <td>0.0</td>\n",
       "      <td>0.0</td>\n",
       "    </tr>\n",
       "    <tr>\n",
       "      <th>ISG15</th>\n",
       "      <td>0.177063</td>\n",
       "      <td>0.672060</td>\n",
       "      <td>1.000000</td>\n",
       "      <td>0.424696</td>\n",
       "      <td>0.013929</td>\n",
       "      <td>0.013311</td>\n",
       "      <td>0.008466</td>\n",
       "      <td>0.010608</td>\n",
       "      <td>0.006689</td>\n",
       "      <td>0.011659</td>\n",
       "      <td>...</td>\n",
       "      <td>0.0</td>\n",
       "      <td>0.0</td>\n",
       "      <td>0.0</td>\n",
       "      <td>0.0</td>\n",
       "      <td>0.0</td>\n",
       "      <td>0.0</td>\n",
       "      <td>0.0</td>\n",
       "      <td>0.0</td>\n",
       "      <td>0.0</td>\n",
       "      <td>0.0</td>\n",
       "    </tr>\n",
       "    <tr>\n",
       "      <th>AGRN</th>\n",
       "      <td>0.085746</td>\n",
       "      <td>0.391127</td>\n",
       "      <td>0.424696</td>\n",
       "      <td>1.000000</td>\n",
       "      <td>0.005309</td>\n",
       "      <td>0.011848</td>\n",
       "      <td>0.002161</td>\n",
       "      <td>0.002535</td>\n",
       "      <td>0.005359</td>\n",
       "      <td>0.007012</td>\n",
       "      <td>...</td>\n",
       "      <td>0.0</td>\n",
       "      <td>0.0</td>\n",
       "      <td>0.0</td>\n",
       "      <td>0.0</td>\n",
       "      <td>0.0</td>\n",
       "      <td>0.0</td>\n",
       "      <td>0.0</td>\n",
       "      <td>0.0</td>\n",
       "      <td>0.0</td>\n",
       "      <td>0.0</td>\n",
       "    </tr>\n",
       "    <tr>\n",
       "      <th>TNFRSF18</th>\n",
       "      <td>0.006792</td>\n",
       "      <td>0.011695</td>\n",
       "      <td>0.013929</td>\n",
       "      <td>0.005309</td>\n",
       "      <td>1.000000</td>\n",
       "      <td>0.338085</td>\n",
       "      <td>0.550817</td>\n",
       "      <td>0.154394</td>\n",
       "      <td>0.193627</td>\n",
       "      <td>0.101004</td>\n",
       "      <td>...</td>\n",
       "      <td>0.0</td>\n",
       "      <td>0.0</td>\n",
       "      <td>0.0</td>\n",
       "      <td>0.0</td>\n",
       "      <td>0.0</td>\n",
       "      <td>0.0</td>\n",
       "      <td>0.0</td>\n",
       "      <td>0.0</td>\n",
       "      <td>0.0</td>\n",
       "      <td>0.0</td>\n",
       "    </tr>\n",
       "  </tbody>\n",
       "</table>\n",
       "<p>5 rows × 6442 columns</p>\n",
       "</div>"
      ],
      "text/plain": [
       "             NOC2L      HES4     ISG15      AGRN  TNFRSF18   TNFRSF4  \\\n",
       "NOC2L     1.000000  0.120590  0.177063  0.085746  0.006792  0.007685   \n",
       "HES4      0.120590  1.000000  0.672060  0.391127  0.011695  0.009275   \n",
       "ISG15     0.177063  0.672060  1.000000  0.424696  0.013929  0.013311   \n",
       "AGRN      0.085746  0.391127  0.424696  1.000000  0.005309  0.011848   \n",
       "TNFRSF18  0.006792  0.011695  0.013929  0.005309  1.000000  0.338085   \n",
       "\n",
       "           B3GALT6    UBE2J2     ACAP3    TAS1R3  ...  PLXNB2  ADM2  MIOX  \\\n",
       "NOC2L     0.004673  0.010734  0.011200  0.007529  ...     0.0   0.0   0.0   \n",
       "HES4      0.005970  0.007385  0.002641  0.004767  ...     0.0   0.0   0.0   \n",
       "ISG15     0.008466  0.010608  0.006689  0.011659  ...     0.0   0.0   0.0   \n",
       "AGRN      0.002161  0.002535  0.005359  0.007012  ...     0.0   0.0   0.0   \n",
       "TNFRSF18  0.550817  0.154394  0.193627  0.101004  ...     0.0   0.0   0.0   \n",
       "\n",
       "          SCO2  TYMP  CPT1B  CHKB  MAPK8IP2  ARSA  SHANK3  \n",
       "NOC2L      0.0   0.0    0.0   0.0       0.0   0.0     0.0  \n",
       "HES4       0.0   0.0    0.0   0.0       0.0   0.0     0.0  \n",
       "ISG15      0.0   0.0    0.0   0.0       0.0   0.0     0.0  \n",
       "AGRN       0.0   0.0    0.0   0.0       0.0   0.0     0.0  \n",
       "TNFRSF18   0.0   0.0    0.0   0.0       0.0   0.0     0.0  \n",
       "\n",
       "[5 rows x 6442 columns]"
      ]
     },
     "execution_count": 42,
     "metadata": {},
     "output_type": "execute_result"
    }
   ],
   "source": [
    "gene_corrs.head()"
   ]
  },
  {
   "cell_type": "code",
   "execution_count": 43,
   "id": "19f39ddb-854c-4b6a-886c-60e84b5d31ca",
   "metadata": {
    "execution": {
     "iopub.execute_input": "2022-12-05T18:48:24.862425Z",
     "iopub.status.busy": "2022-12-05T18:48:24.862113Z",
     "iopub.status.idle": "2022-12-05T18:48:25.272579Z",
     "shell.execute_reply": "2022-12-05T18:48:25.271927Z"
    },
    "papermill": {
     "duration": 0.424263,
     "end_time": "2022-12-05T18:48:25.274291",
     "exception": false,
     "start_time": "2022-12-05T18:48:24.850028",
     "status": "completed"
    },
    "tags": []
   },
   "outputs": [],
   "source": [
    "gene_corrs.to_pickle(output_file)"
   ]
  },
  {
   "cell_type": "code",
   "execution_count": 44,
   "id": "738f4cf5-44a9-4274-a2c8-11906113fa45",
   "metadata": {
    "execution": {
     "iopub.execute_input": "2022-12-05T18:48:25.320006Z",
     "iopub.status.busy": "2022-12-05T18:48:25.319768Z",
     "iopub.status.idle": "2022-12-05T18:48:25.333612Z",
     "shell.execute_reply": "2022-12-05T18:48:25.333135Z"
    },
    "papermill": {
     "duration": 0.037388,
     "end_time": "2022-12-05T18:48:25.334887",
     "exception": false,
     "start_time": "2022-12-05T18:48:25.297499",
     "status": "completed"
    },
    "tags": []
   },
   "outputs": [],
   "source": [
    "del gene_corrs"
   ]
  },
  {
   "cell_type": "markdown",
   "id": "551bd31a-ad37-45b5-a0c8-6ff1459faf60",
   "metadata": {
    "papermill": {
     "duration": 0.020848,
     "end_time": "2022-12-05T18:48:25.378937",
     "exception": false,
     "start_time": "2022-12-05T18:48:25.358089",
     "status": "completed"
    },
    "tags": []
   },
   "source": [
    "# Stats"
   ]
  },
  {
   "cell_type": "code",
   "execution_count": 45,
   "id": "33b5482f-7ecf-4365-867f-249f28d09180",
   "metadata": {
    "execution": {
     "iopub.execute_input": "2022-12-05T18:48:25.402539Z",
     "iopub.status.busy": "2022-12-05T18:48:25.402414Z",
     "iopub.status.idle": "2022-12-05T18:48:25.982216Z",
     "shell.execute_reply": "2022-12-05T18:48:25.981654Z"
    },
    "papermill": {
     "duration": 0.592874,
     "end_time": "2022-12-05T18:48:25.983334",
     "exception": false,
     "start_time": "2022-12-05T18:48:25.390460",
     "status": "completed"
    },
    "tags": []
   },
   "outputs": [],
   "source": [
    "full_corr_matrix_flat = full_corr_matrix.mask(\n",
    "    np.triu(np.ones(full_corr_matrix.shape)).astype(bool)\n",
    ").stack()"
   ]
  },
  {
   "cell_type": "code",
   "execution_count": 46,
   "id": "e2d950d1-646a-4ba1-bb91-cf07ad00872d",
   "metadata": {
    "execution": {
     "iopub.execute_input": "2022-12-05T18:48:26.007878Z",
     "iopub.status.busy": "2022-12-05T18:48:26.007729Z",
     "iopub.status.idle": "2022-12-05T18:48:26.021776Z",
     "shell.execute_reply": "2022-12-05T18:48:26.021314Z"
    },
    "papermill": {
     "duration": 0.027263,
     "end_time": "2022-12-05T18:48:26.022605",
     "exception": false,
     "start_time": "2022-12-05T18:48:25.995342",
     "status": "completed"
    },
    "tags": []
   },
   "outputs": [
    {
     "data": {
      "text/plain": [
       "(20746461,)"
      ]
     },
     "metadata": {},
     "output_type": "display_data"
    }
   ],
   "source": [
    "display(full_corr_matrix_flat.shape)\n",
    "assert full_corr_matrix_flat.shape[0] == int(\n",
    "    full_corr_matrix.shape[0] * (full_corr_matrix.shape[0] - 1) / 2\n",
    ")"
   ]
  },
  {
   "cell_type": "markdown",
   "id": "5fd7d482-b7b8-4a84-91b0-749d15f0d2c0",
   "metadata": {
    "papermill": {
     "duration": 0.011453,
     "end_time": "2022-12-05T18:48:26.045822",
     "exception": false,
     "start_time": "2022-12-05T18:48:26.034369",
     "status": "completed"
    },
    "tags": []
   },
   "source": [
    "## On all correlations"
   ]
  },
  {
   "cell_type": "code",
   "execution_count": 47,
   "id": "e58ea199-0cc1-449d-a55e-26970fb674a8",
   "metadata": {
    "execution": {
     "iopub.execute_input": "2022-12-05T18:48:26.069651Z",
     "iopub.status.busy": "2022-12-05T18:48:26.069517Z",
     "iopub.status.idle": "2022-12-05T18:48:26.091314Z",
     "shell.execute_reply": "2022-12-05T18:48:26.090651Z"
    },
    "papermill": {
     "duration": 0.03484,
     "end_time": "2022-12-05T18:48:26.092340",
     "exception": false,
     "start_time": "2022-12-05T18:48:26.057500",
     "status": "completed"
    },
    "tags": []
   },
   "outputs": [],
   "source": [
    "_corr_mat = full_corr_matrix_flat"
   ]
  },
  {
   "cell_type": "code",
   "execution_count": 48,
   "id": "c4e71773-0b74-435f-a9d9-cc8671d7c570",
   "metadata": {
    "execution": {
     "iopub.execute_input": "2022-12-05T18:48:26.116977Z",
     "iopub.status.busy": "2022-12-05T18:48:26.116462Z",
     "iopub.status.idle": "2022-12-05T18:48:26.139482Z",
     "shell.execute_reply": "2022-12-05T18:48:26.138896Z"
    },
    "papermill": {
     "duration": 0.036185,
     "end_time": "2022-12-05T18:48:26.140393",
     "exception": false,
     "start_time": "2022-12-05T18:48:26.104208",
     "status": "completed"
    },
    "tags": []
   },
   "outputs": [
    {
     "data": {
      "text/plain": [
       "(20746461,)"
      ]
     },
     "execution_count": 48,
     "metadata": {},
     "output_type": "execute_result"
    }
   ],
   "source": [
    "_corr_mat.shape"
   ]
  },
  {
   "cell_type": "code",
   "execution_count": 49,
   "id": "9907fbe4-85e1-4690-ae0c-3c6f5a19e9b7",
   "metadata": {
    "execution": {
     "iopub.execute_input": "2022-12-05T18:48:26.165081Z",
     "iopub.status.busy": "2022-12-05T18:48:26.164548Z",
     "iopub.status.idle": "2022-12-05T18:48:26.189302Z",
     "shell.execute_reply": "2022-12-05T18:48:26.188702Z"
    },
    "papermill": {
     "duration": 0.03814,
     "end_time": "2022-12-05T18:48:26.190210",
     "exception": false,
     "start_time": "2022-12-05T18:48:26.152070",
     "status": "completed"
    },
    "tags": []
   },
   "outputs": [
    {
     "data": {
      "text/plain": [
       "ENSG00000188290  ENSG00000188976    0.120590\n",
       "ENSG00000187608  ENSG00000188976    0.177063\n",
       "                 ENSG00000188290    0.672060\n",
       "ENSG00000188157  ENSG00000188976    0.085746\n",
       "                 ENSG00000188290    0.391127\n",
       "dtype: float64"
      ]
     },
     "execution_count": 49,
     "metadata": {},
     "output_type": "execute_result"
    }
   ],
   "source": [
    "_corr_mat.head()"
   ]
  },
  {
   "cell_type": "code",
   "execution_count": 50,
   "id": "cb34e9c9-7488-47f2-aa31-c8a8e83f92ae",
   "metadata": {
    "execution": {
     "iopub.execute_input": "2022-12-05T18:48:26.215007Z",
     "iopub.status.busy": "2022-12-05T18:48:26.214792Z",
     "iopub.status.idle": "2022-12-05T18:48:26.606345Z",
     "shell.execute_reply": "2022-12-05T18:48:26.605844Z"
    },
    "papermill": {
     "duration": 0.405009,
     "end_time": "2022-12-05T18:48:26.607354",
     "exception": false,
     "start_time": "2022-12-05T18:48:26.202345",
     "status": "completed"
    },
    "tags": []
   },
   "outputs": [
    {
     "data": {
      "text/plain": [
       "count                20746461.0\n",
       "mean     0.00016513466798933398\n",
       "std         0.00689074778429947\n",
       "min      -1.809370795552434e-15\n",
       "25%                         0.0\n",
       "50%                         0.0\n",
       "75%                         0.0\n",
       "max          0.9999999999999993\n",
       "dtype: object"
      ]
     },
     "execution_count": 50,
     "metadata": {},
     "output_type": "execute_result"
    }
   ],
   "source": [
    "_corr_mat.describe().apply(str)"
   ]
  },
  {
   "cell_type": "code",
   "execution_count": 51,
   "id": "ccb2fbfa-e381-40a0-a269-e280c12c6039",
   "metadata": {
    "execution": {
     "iopub.execute_input": "2022-12-05T18:48:26.643936Z",
     "iopub.status.busy": "2022-12-05T18:48:26.643805Z",
     "iopub.status.idle": "2022-12-05T18:48:26.912601Z",
     "shell.execute_reply": "2022-12-05T18:48:26.912117Z"
    },
    "papermill": {
     "duration": 0.288443,
     "end_time": "2022-12-05T18:48:26.913946",
     "exception": false,
     "start_time": "2022-12-05T18:48:26.625503",
     "status": "completed"
    },
    "tags": []
   },
   "outputs": [
    {
     "data": {
      "text/plain": [
       "0.00   -1.809371e-15\n",
       "0.05    0.000000e+00\n",
       "0.10    0.000000e+00\n",
       "0.15    0.000000e+00\n",
       "0.20    0.000000e+00\n",
       "0.25    0.000000e+00\n",
       "0.30    0.000000e+00\n",
       "0.35    0.000000e+00\n",
       "0.40    0.000000e+00\n",
       "0.45    0.000000e+00\n",
       "0.50    0.000000e+00\n",
       "0.55    0.000000e+00\n",
       "0.60    0.000000e+00\n",
       "0.65    0.000000e+00\n",
       "0.70    0.000000e+00\n",
       "0.75    0.000000e+00\n",
       "0.80    0.000000e+00\n",
       "0.85    0.000000e+00\n",
       "0.90    0.000000e+00\n",
       "0.95    0.000000e+00\n",
       "dtype: float64"
      ]
     },
     "metadata": {},
     "output_type": "display_data"
    }
   ],
   "source": [
    "display(_corr_mat.quantile(np.arange(0, 1, 0.05)))"
   ]
  },
  {
   "cell_type": "code",
   "execution_count": 52,
   "id": "940dcbd0-3a39-4e0b-9b7c-cd3f905ea8fb",
   "metadata": {
    "execution": {
     "iopub.execute_input": "2022-12-05T18:48:26.973527Z",
     "iopub.status.busy": "2022-12-05T18:48:26.973288Z",
     "iopub.status.idle": "2022-12-05T18:48:27.167111Z",
     "shell.execute_reply": "2022-12-05T18:48:27.166617Z"
    },
    "papermill": {
     "duration": 0.23054,
     "end_time": "2022-12-05T18:48:27.168402",
     "exception": false,
     "start_time": "2022-12-05T18:48:26.937862",
     "status": "completed"
    },
    "tags": []
   },
   "outputs": [
    {
     "data": {
      "text/plain": [
       "0.0000   -1.809371e-15\n",
       "0.0001   -2.091527e-16\n",
       "0.0002   -1.468529e-16\n",
       "0.0003   -1.138790e-16\n",
       "0.0004   -9.113829e-17\n",
       "0.0005   -7.395414e-17\n",
       "0.0006   -6.003579e-17\n",
       "0.0007   -4.858802e-17\n",
       "0.0008   -3.876427e-17\n",
       "0.0009   -3.047111e-17\n",
       "dtype: float64"
      ]
     },
     "metadata": {},
     "output_type": "display_data"
    }
   ],
   "source": [
    "display(_corr_mat.quantile(np.arange(0, 0.001, 0.0001)))"
   ]
  },
  {
   "cell_type": "code",
   "execution_count": 53,
   "id": "9c76b62b-be13-4037-a95b-a8c2104055a3",
   "metadata": {
    "execution": {
     "iopub.execute_input": "2022-12-05T18:48:27.215239Z",
     "iopub.status.busy": "2022-12-05T18:48:27.215117Z",
     "iopub.status.idle": "2022-12-05T18:48:27.323563Z",
     "shell.execute_reply": "2022-12-05T18:48:27.323090Z"
    },
    "papermill": {
     "duration": 0.133123,
     "end_time": "2022-12-05T18:48:27.324926",
     "exception": false,
     "start_time": "2022-12-05T18:48:27.191803",
     "status": "completed"
    },
    "tags": []
   },
   "outputs": [
    {
     "data": {
      "text/plain": [
       "0.9990    0.014695\n",
       "0.9991    0.016644\n",
       "0.9992    0.020192\n",
       "0.9993    0.026096\n",
       "0.9994    0.034876\n",
       "0.9995    0.050378\n",
       "0.9996    0.078848\n",
       "0.9997    0.132079\n",
       "0.9998    0.234434\n",
       "0.9999    0.396340\n",
       "1.0000    1.000000\n",
       "dtype: float64"
      ]
     },
     "metadata": {},
     "output_type": "display_data"
    }
   ],
   "source": [
    "display(_corr_mat.quantile(np.arange(0.999, 1.0, 0.0001)))"
   ]
  },
  {
   "cell_type": "markdown",
   "id": "0ed3b3a6-f1ea-4f39-9363-f33b835413d2",
   "metadata": {
    "papermill": {
     "duration": 0.022793,
     "end_time": "2022-12-05T18:48:27.370954",
     "exception": false,
     "start_time": "2022-12-05T18:48:27.348161",
     "status": "completed"
    },
    "tags": []
   },
   "source": [
    "### Plot: distribution"
   ]
  },
  {
   "cell_type": "code",
   "execution_count": 54,
   "id": "8301126b-a7d4-4744-9c7d-f0f86eb6f54c",
   "metadata": {
    "execution": {
     "iopub.execute_input": "2022-12-05T18:48:27.411438Z",
     "iopub.status.busy": "2022-12-05T18:48:27.411322Z",
     "iopub.status.idle": "2022-12-05T18:49:43.701744Z",
     "shell.execute_reply": "2022-12-05T18:49:43.701250Z"
    },
    "papermill": {
     "duration": 76.333901,
     "end_time": "2022-12-05T18:49:43.727593",
     "exception": false,
     "start_time": "2022-12-05T18:48:27.393692",
     "status": "completed"
    },
    "tags": []
   },
   "outputs": [
    {
     "data": {
      "image/png": "[encoded data removed]",
      "text/plain": [
       "<Figure size 700x700 with 1 Axes>"
      ]
     },
     "metadata": {},
     "output_type": "display_data"
    }
   ],
   "source": [
    "with sns.plotting_context(\"paper\", font_scale=1.5):\n",
    "    g = sns.displot(_corr_mat, kde=True, height=7)\n",
    "    g.ax.set_title(\"Distribution of gene correlation values in all chromosomes\")"
   ]
  },
  {
   "cell_type": "markdown",
   "id": "e209767d-44b8-48a4-ad28-478703a3b5bd",
   "metadata": {
    "papermill": {
     "duration": 0.023511,
     "end_time": "2022-12-05T18:49:43.774853",
     "exception": false,
     "start_time": "2022-12-05T18:49:43.751342",
     "status": "completed"
    },
    "tags": []
   },
   "source": [
    "### Plot: heatmap"
   ]
  },
  {
   "cell_type": "code",
   "execution_count": 55,
   "id": "d03fe63a-c7b2-4fb9-a53c-db362ce843c9",
   "metadata": {
    "execution": {
     "iopub.execute_input": "2022-12-05T18:49:43.804949Z",
     "iopub.status.busy": "2022-12-05T18:49:43.804580Z",
     "iopub.status.idle": "2022-12-05T18:49:43.964900Z",
     "shell.execute_reply": "2022-12-05T18:49:43.964357Z"
    },
    "papermill": {
     "duration": 0.174511,
     "end_time": "2022-12-05T18:49:43.966053",
     "exception": false,
     "start_time": "2022-12-05T18:49:43.791542",
     "status": "completed"
    },
    "tags": []
   },
   "outputs": [
    {
     "data": {
      "text/plain": [
       "'0.0 / 0.05'"
      ]
     },
     "metadata": {},
     "output_type": "display_data"
    }
   ],
   "source": [
    "vmin_val = 0.0\n",
    "vmax_val = max(0.05, _corr_mat.quantile(0.99))\n",
    "display(f\"{vmin_val} / {vmax_val}\")"
   ]
  },
  {
   "cell_type": "code",
   "execution_count": 56,
   "id": "dc41b70b-5bcc-4d9e-9f33-a22c4a94dab5",
   "metadata": {
    "execution": {
     "iopub.execute_input": "2022-12-05T18:49:44.009786Z",
     "iopub.status.busy": "2022-12-05T18:49:44.009579Z",
     "iopub.status.idle": "2022-12-05T18:50:15.005773Z",
     "shell.execute_reply": "2022-12-05T18:50:15.005197Z"
    },
    "papermill": {
     "duration": 31.032765,
     "end_time": "2022-12-05T18:50:15.019745",
     "exception": false,
     "start_time": "2022-12-05T18:49:43.986980",
     "status": "completed"
    },
    "tags": []
   },
   "outputs": [
    {
     "data": {
      "text/plain": [
       "Text(0.5, 1.0, 'Gene correlations in all chromosomes')"
      ]
     },
     "execution_count": 56,
     "metadata": {},
     "output_type": "execute_result"
    },
    {
     "data": {
      "image/png": "[encoded data removed]",
      "text/plain": [
       "<Figure size 1000x1000 with 2 Axes>"
      ]
     },
     "metadata": {},
     "output_type": "display_data"
    }
   ],
   "source": [
    "f, ax = plt.subplots(figsize=(10, 10))\n",
    "sns.heatmap(\n",
    "    full_corr_matrix,\n",
    "    xticklabels=False,\n",
    "    yticklabels=False,\n",
    "    square=True,\n",
    "    vmin=vmin_val,\n",
    "    vmax=vmax_val,\n",
    "    cmap=\"rocket_r\",\n",
    "    ax=ax,\n",
    ")\n",
    "ax.set_title(\"Gene correlations in all chromosomes\")"
   ]
  },
  {
   "cell_type": "markdown",
   "id": "5a1b7488-1c3b-4c8b-b619-3b063b3f83c6",
   "metadata": {
    "papermill": {
     "duration": 0.018918,
     "end_time": "2022-12-05T18:50:15.051828",
     "exception": false,
     "start_time": "2022-12-05T18:50:15.032910",
     "status": "completed"
    },
    "tags": []
   },
   "source": [
    "## On nonzero correlations"
   ]
  },
  {
   "cell_type": "code",
   "execution_count": 57,
   "id": "0a07752e-b62f-4f01-af30-847efe9bba54",
   "metadata": {
    "execution": {
     "iopub.execute_input": "2022-12-05T18:50:15.090922Z",
     "iopub.status.busy": "2022-12-05T18:50:15.090762Z",
     "iopub.status.idle": "2022-12-05T18:50:15.159098Z",
     "shell.execute_reply": "2022-12-05T18:50:15.158463Z"
    },
    "papermill": {
     "duration": 0.089237,
     "end_time": "2022-12-05T18:50:15.160276",
     "exception": false,
     "start_time": "2022-12-05T18:50:15.071039",
     "status": "completed"
    },
    "tags": []
   },
   "outputs": [],
   "source": [
    "nonzero_corrs = full_corr_matrix_flat[full_corr_matrix_flat > 0.0]"
   ]
  },
  {
   "cell_type": "code",
   "execution_count": 58,
   "id": "3b509dde-e4ec-4e14-a7d5-09e3fe584027",
   "metadata": {
    "execution": {
     "iopub.execute_input": "2022-12-05T18:50:15.187821Z",
     "iopub.status.busy": "2022-12-05T18:50:15.187454Z",
     "iopub.status.idle": "2022-12-05T18:50:15.209213Z",
     "shell.execute_reply": "2022-12-05T18:50:15.208628Z"
    },
    "papermill": {
     "duration": 0.03637,
     "end_time": "2022-12-05T18:50:15.210121",
     "exception": false,
     "start_time": "2022-12-05T18:50:15.173751",
     "status": "completed"
    },
    "tags": []
   },
   "outputs": [],
   "source": [
    "_corr_mat = nonzero_corrs"
   ]
  },
  {
   "cell_type": "code",
   "execution_count": 59,
   "id": "427cd6b6-411c-4bce-9129-f7e128c9992f",
   "metadata": {
    "execution": {
     "iopub.execute_input": "2022-12-05T18:50:15.237551Z",
     "iopub.status.busy": "2022-12-05T18:50:15.237307Z",
     "iopub.status.idle": "2022-12-05T18:50:15.259165Z",
     "shell.execute_reply": "2022-12-05T18:50:15.258667Z"
    },
    "papermill": {
     "duration": 0.036341,
     "end_time": "2022-12-05T18:50:15.260022",
     "exception": false,
     "start_time": "2022-12-05T18:50:15.223681",
     "status": "completed"
    },
    "tags": []
   },
   "outputs": [
    {
     "data": {
      "text/plain": [
       "(160593,)"
      ]
     },
     "execution_count": 59,
     "metadata": {},
     "output_type": "execute_result"
    }
   ],
   "source": [
    "_corr_mat.shape"
   ]
  },
  {
   "cell_type": "code",
   "execution_count": 60,
   "id": "684ee3aa-d1bf-4f39-883e-1c9cda28f332",
   "metadata": {
    "execution": {
     "iopub.execute_input": "2022-12-05T18:50:15.287651Z",
     "iopub.status.busy": "2022-12-05T18:50:15.287236Z",
     "iopub.status.idle": "2022-12-05T18:50:15.310575Z",
     "shell.execute_reply": "2022-12-05T18:50:15.310078Z"
    },
    "papermill": {
     "duration": 0.037985,
     "end_time": "2022-12-05T18:50:15.311474",
     "exception": false,
     "start_time": "2022-12-05T18:50:15.273489",
     "status": "completed"
    },
    "tags": []
   },
   "outputs": [
    {
     "data": {
      "text/plain": [
       "ENSG00000188290  ENSG00000188976    0.120590\n",
       "ENSG00000187608  ENSG00000188976    0.177063\n",
       "                 ENSG00000188290    0.672060\n",
       "ENSG00000188157  ENSG00000188976    0.085746\n",
       "                 ENSG00000188290    0.391127\n",
       "dtype: float64"
      ]
     },
     "execution_count": 60,
     "metadata": {},
     "output_type": "execute_result"
    }
   ],
   "source": [
    "_corr_mat.head()"
   ]
  },
  {
   "cell_type": "code",
   "execution_count": 61,
   "id": "87467e53-a225-48f9-86ef-d00978925faa",
   "metadata": {
    "execution": {
     "iopub.execute_input": "2022-12-05T18:50:15.339050Z",
     "iopub.status.busy": "2022-12-05T18:50:15.338715Z",
     "iopub.status.idle": "2022-12-05T18:50:15.370639Z",
     "shell.execute_reply": "2022-12-05T18:50:15.370135Z"
    },
    "papermill": {
     "duration": 0.046582,
     "end_time": "2022-12-05T18:50:15.371558",
     "exception": false,
     "start_time": "2022-12-05T18:50:15.324976",
     "status": "completed"
    },
    "tags": []
   },
   "outputs": [
    {
     "data": {
      "text/plain": [
       "count                  160593.0\n",
       "mean       0.021333183570819887\n",
       "std         0.07538264320512299\n",
       "min      2.9518609641795857e-22\n",
       "25%       0.0016897934005945293\n",
       "50%        0.005381889862207424\n",
       "75%          0.0091992655652382\n",
       "max          0.9999999999999993\n",
       "dtype: object"
      ]
     },
     "execution_count": 61,
     "metadata": {},
     "output_type": "execute_result"
    }
   ],
   "source": [
    "_corr_mat.describe().apply(str)"
   ]
  },
  {
   "cell_type": "code",
   "execution_count": 62,
   "id": "ece1b4b2-1764-4893-bb0e-837f5d1a6677",
   "metadata": {
    "execution": {
     "iopub.execute_input": "2022-12-05T18:50:15.399640Z",
     "iopub.status.busy": "2022-12-05T18:50:15.399320Z",
     "iopub.status.idle": "2022-12-05T18:50:15.433320Z",
     "shell.execute_reply": "2022-12-05T18:50:15.432810Z"
    },
    "papermill": {
     "duration": 0.048772,
     "end_time": "2022-12-05T18:50:15.434192",
     "exception": false,
     "start_time": "2022-12-05T18:50:15.385420",
     "status": "completed"
    },
    "tags": []
   },
   "outputs": [
    {
     "data": {
      "text/plain": [
       "0.00    2.951861e-22\n",
       "0.05    1.213023e-17\n",
       "0.10    3.713782e-17\n",
       "0.15    8.522270e-17\n",
       "0.20    3.095846e-16\n",
       "0.25    1.689793e-03\n",
       "0.30    2.659276e-03\n",
       "0.35    3.447663e-03\n",
       "0.40    4.125627e-03\n",
       "0.45    4.749444e-03\n",
       "0.50    5.381890e-03\n",
       "0.55    6.014568e-03\n",
       "0.60    6.679910e-03\n",
       "0.65    7.400380e-03\n",
       "0.70    8.212383e-03\n",
       "0.75    9.199266e-03\n",
       "0.80    1.054871e-02\n",
       "0.85    1.284110e-02\n",
       "0.90    2.147009e-02\n",
       "0.95    8.380892e-02\n",
       "dtype: float64"
      ]
     },
     "metadata": {},
     "output_type": "display_data"
    }
   ],
   "source": [
    "display(_corr_mat.quantile(np.arange(0, 1, 0.05)))"
   ]
  },
  {
   "cell_type": "code",
   "execution_count": 63,
   "id": "3543f16e-1453-44e5-ab68-0d03450e559b",
   "metadata": {
    "execution": {
     "iopub.execute_input": "2022-12-05T18:50:15.474342Z",
     "iopub.status.busy": "2022-12-05T18:50:15.473909Z",
     "iopub.status.idle": "2022-12-05T18:50:15.504718Z",
     "shell.execute_reply": "2022-12-05T18:50:15.504136Z"
    },
    "papermill": {
     "duration": 0.052728,
     "end_time": "2022-12-05T18:50:15.505874",
     "exception": false,
     "start_time": "2022-12-05T18:50:15.453146",
     "status": "completed"
    },
    "tags": []
   },
   "outputs": [
    {
     "data": {
      "text/plain": [
       "0.0000    2.951861e-22\n",
       "0.0001    1.113314e-20\n",
       "0.0002    2.048910e-20\n",
       "0.0003    3.706755e-20\n",
       "0.0004    5.035472e-20\n",
       "0.0005    6.637771e-20\n",
       "0.0006    8.322568e-20\n",
       "0.0007    9.311173e-20\n",
       "0.0008    1.165452e-19\n",
       "0.0009    1.258892e-19\n",
       "dtype: float64"
      ]
     },
     "metadata": {},
     "output_type": "display_data"
    }
   ],
   "source": [
    "display(_corr_mat.quantile(np.arange(0, 0.001, 0.0001)))"
   ]
  },
  {
   "cell_type": "code",
   "execution_count": 64,
   "id": "bb34d782-9aaa-48ce-b526-8323522166a3",
   "metadata": {
    "execution": {
     "iopub.execute_input": "2022-12-05T18:50:15.547471Z",
     "iopub.status.busy": "2022-12-05T18:50:15.547030Z",
     "iopub.status.idle": "2022-12-05T18:50:15.575012Z",
     "shell.execute_reply": "2022-12-05T18:50:15.574444Z"
    },
    "papermill": {
     "duration": 0.049774,
     "end_time": "2022-12-05T18:50:15.576171",
     "exception": false,
     "start_time": "2022-12-05T18:50:15.526397",
     "status": "completed"
    },
    "tags": []
   },
   "outputs": [
    {
     "data": {
      "text/plain": [
       "0.9990    0.769709\n",
       "0.9991    0.784967\n",
       "0.9992    0.793754\n",
       "0.9993    0.805009\n",
       "0.9994    0.828017\n",
       "0.9995    0.860502\n",
       "0.9996    0.893454\n",
       "0.9997    0.933690\n",
       "0.9998    0.960322\n",
       "0.9999    0.984813\n",
       "1.0000    1.000000\n",
       "dtype: float64"
      ]
     },
     "metadata": {},
     "output_type": "display_data"
    }
   ],
   "source": [
    "display(_corr_mat.quantile(np.arange(0.999, 1.0, 0.0001)))"
   ]
  },
  {
   "cell_type": "markdown",
   "id": "fd4ce75c-e759-48b5-9b2b-584438302fff",
   "metadata": {
    "papermill": {
     "duration": 0.019872,
     "end_time": "2022-12-05T18:50:15.616671",
     "exception": false,
     "start_time": "2022-12-05T18:50:15.596799",
     "status": "completed"
    },
    "tags": []
   },
   "source": [
    "### Plot: distribution"
   ]
  },
  {
   "cell_type": "code",
   "execution_count": 65,
   "id": "7da6aa50-81da-4f75-9d54-4fad6a3fb5a5",
   "metadata": {
    "execution": {
     "iopub.execute_input": "2022-12-05T18:50:15.648908Z",
     "iopub.status.busy": "2022-12-05T18:50:15.648421Z",
     "iopub.status.idle": "2022-12-05T18:50:20.895763Z",
     "shell.execute_reply": "2022-12-05T18:50:20.895197Z"
    },
    "papermill": {
     "duration": 5.26312,
     "end_time": "2022-12-05T18:50:20.897493",
     "exception": false,
     "start_time": "2022-12-05T18:50:15.634373",
     "status": "completed"
    },
    "tags": []
   },
   "outputs": [
    {
     "data": {
      "image/png": "[encoded data removed]",
      "text/plain": [
       "<Figure size 700x700 with 1 Axes>"
      ]
     },
     "metadata": {},
     "output_type": "display_data"
    }
   ],
   "source": [
    "with sns.plotting_context(\"paper\", font_scale=1.5):\n",
    "    g = sns.displot(_corr_mat, kde=True, height=7)\n",
    "    g.ax.set_title(\"Distribution of gene correlation values in all chromosomes\")"
   ]
  },
  {
   "cell_type": "code",
   "execution_count": null,
   "id": "38cf09b7",
   "metadata": {
    "papermill": {
     "duration": 0.02587,
     "end_time": "2022-12-05T18:50:20.950287",
     "exception": false,
     "start_time": "2022-12-05T18:50:20.924417",
     "status": "completed"
    },
    "tags": []
   },
   "outputs": [],
   "source": []
  }
 ],
 "metadata": {
  "jupytext": {
   "cell_metadata_filter": "all,-execution,-papermill,-trusted",
   "formats": "ipynb,py//py:percent"
  },
  "kernelspec": {
   "display_name": "Python 3 (ipykernel)",
   "language": "python",
   "name": "python3"
  },
  "language_info": {
   "codemirror_mode": {
    "name": "ipython",
    "version": 3
   },
   "file_extension": ".py",
   "mimetype": "text/x-python",
   "name": "python",
   "nbconvert_exporter": "python",
   "pygments_lexer": "ipython3",
   "version": "3.10.6"
  },
  "papermill": {
   "default_parameters": {},
   "duration": 207.817719,
   "end_time": "2022-12-05T18:50:21.493970",
   "environment_variables": {},
   "exception": null,
   "input_path": "projects/asthma-copd/nbs/20_gene_corrs/jobs/10-postprocess_gene_expr_correlations.ipynb",
   "output_path": "projects/asthma-copd/nbs/20_gene_corrs/jobs/../output/aco/10-postprocess_gene_expr_correlations.run.ipynb",
   "parameters": {
    "COHORT_NAME": "aco",
    "OUTPUT_DIR_BASE": "/opt/data/projects/asthma-copd/results/gls_phenoplier",
    "PHENOPLIER_NOTEBOOK_FILEPATH": "projects/asthma-copd/nbs/20_gene_corrs/jobs/10-postprocess_gene_expr_correlations.ipynb"
   },
   "start_time": "2022-12-05T18:46:53.676251",
   "version": "2.2.2"
  }
 },
 "nbformat": 4,
 "nbformat_minor": 5
}
