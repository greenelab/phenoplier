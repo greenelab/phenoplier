{
 "cells": [
  {
   "cell_type": "markdown",
   "id": "7a6632fb",
   "metadata": {
    "papermill": {
     "duration": 0.006911,
     "end_time": "2022-12-05T17:17:29.269486",
     "exception": false,
     "start_time": "2022-12-05T17:17:29.262575",
     "status": "completed"
    },
    "tags": []
   },
   "source": [
    "# Description"
   ]
  },
  {
   "cell_type": "markdown",
   "id": "7097c346",
   "metadata": {
    "papermill": {
     "duration": 0.006249,
     "end_time": "2022-12-05T17:17:29.282091",
     "exception": false,
     "start_time": "2022-12-05T17:17:29.275842",
     "status": "completed"
    },
    "tags": []
   },
   "source": [
    "(Please, take a look at the README.md file in this directory for instructions on how to run this notebook)\n",
    "\n",
    "This notebook computes predicted expression correlations between all genes in the MultiPLIER models.\n",
    "\n",
    "It has specicfic parameters for papermill (see under `Settings` below).\n",
    "It can be configured to run on a single chromosome to run in parallel.\n",
    "\n",
    "This notebook is not directly run. See README.md."
   ]
  },
  {
   "cell_type": "markdown",
   "id": "c61d8427",
   "metadata": {
    "papermill": {
     "duration": 0.006312,
     "end_time": "2022-12-05T17:17:29.295121",
     "exception": false,
     "start_time": "2022-12-05T17:17:29.288809",
     "status": "completed"
    },
    "tags": []
   },
   "source": [
    "# Modules"
   ]
  },
  {
   "cell_type": "code",
   "execution_count": 1,
   "id": "bbc0234f",
   "metadata": {
    "execution": {
     "iopub.execute_input": "2022-12-05T17:17:29.306628Z",
     "iopub.status.busy": "2022-12-05T17:17:29.305991Z",
     "iopub.status.idle": "2022-12-05T17:17:29.326556Z",
     "shell.execute_reply": "2022-12-05T17:17:29.325898Z"
    },
    "papermill": {
     "duration": 0.027324,
     "end_time": "2022-12-05T17:17:29.327912",
     "exception": false,
     "start_time": "2022-12-05T17:17:29.300588",
     "status": "completed"
    },
    "tags": []
   },
   "outputs": [],
   "source": [
    "%load_ext autoreload\n",
    "%autoreload 2"
   ]
  },
  {
   "cell_type": "code",
   "execution_count": 2,
   "id": "1d5f5a59",
   "metadata": {
    "execution": {
     "iopub.execute_input": "2022-12-05T17:17:29.339005Z",
     "iopub.status.busy": "2022-12-05T17:17:29.338599Z",
     "iopub.status.idle": "2022-12-05T17:17:30.174778Z",
     "shell.execute_reply": "2022-12-05T17:17:30.174312Z"
    },
    "papermill": {
     "duration": 0.843785,
     "end_time": "2022-12-05T17:17:30.176438",
     "exception": false,
     "start_time": "2022-12-05T17:17:29.332653",
     "status": "completed"
    },
    "tags": []
   },
   "outputs": [],
   "source": [
    "from random import sample, seed\n",
    "import warnings\n",
    "from pathlib import Path\n",
    "import pickle\n",
    "import traceback\n",
    "\n",
    "import numpy as np\n",
    "from scipy.spatial.distance import squareform\n",
    "import pandas as pd\n",
    "from tqdm import tqdm\n",
    "import matplotlib.pyplot as plt\n",
    "import seaborn as sns\n",
    "\n",
    "import conf\n",
    "from entity import Gene"
   ]
  },
  {
   "cell_type": "markdown",
   "id": "1eac24b5",
   "metadata": {
    "papermill": {
     "duration": 0.008926,
     "end_time": "2022-12-05T17:17:30.193845",
     "exception": false,
     "start_time": "2022-12-05T17:17:30.184919",
     "status": "completed"
    },
    "tags": []
   },
   "source": [
    "# Settings"
   ]
  },
  {
   "cell_type": "code",
   "execution_count": 3,
   "id": "ca4560ba",
   "metadata": {
    "execution": {
     "iopub.execute_input": "2022-12-05T17:17:30.211215Z",
     "iopub.status.busy": "2022-12-05T17:17:30.210975Z",
     "iopub.status.idle": "2022-12-05T17:17:30.223701Z",
     "shell.execute_reply": "2022-12-05T17:17:30.223322Z"
    },
    "papermill": {
     "duration": 0.023278,
     "end_time": "2022-12-05T17:17:30.225402",
     "exception": false,
     "start_time": "2022-12-05T17:17:30.202124",
     "status": "completed"
    },
    "tags": [
     "parameters"
    ]
   },
   "outputs": [],
   "source": [
    "# a cohort name (it could be something like UK_BIOBANK, etc)\n",
    "COHORT_NAME = None\n",
    "\n",
    "# reference panel such as 1000G or GTEX_V8\n",
    "REFERENCE_PANEL = \"GTEX_V8\"\n",
    "\n",
    "# predictions models such as MASHR or ELASTIC_NET\n",
    "EQTL_MODEL = \"MASHR\"\n",
    "\n",
    "# this is the default value used in S-MultiXcan to select the\n",
    "# top principal components of the expression correlation matrix\n",
    "SMULTIXCAN_CONDITION_NUMBER = 30\n",
    "\n",
    "# specifies a single chromosome value\n",
    "CHROMOSOME = None\n",
    "\n",
    "# If True, computes the correlation between closeby genes only (see\n",
    "# entity.Gene.within_distance for more details). Otherwise, it computes\n",
    "# correlations for all genes in a chromosome\n",
    "COMPUTE_CORRELATIONS_WITHIN_DISTANCE = True\n",
    "\n",
    "# if True, then it will continue if a gene pair correlation fails,\n",
    "# printing the warning/error for debugging. If False, any warning/error\n",
    "# will be thrown\n",
    "DEBUG_MODE = False\n",
    "\n",
    "# output dir\n",
    "OUTPUT_DIR_BASE = None"
   ]
  },
  {
   "cell_type": "code",
   "execution_count": 4,
   "id": "25e143cb",
   "metadata": {
    "execution": {
     "iopub.execute_input": "2022-12-05T17:17:30.244205Z",
     "iopub.status.busy": "2022-12-05T17:17:30.244092Z",
     "iopub.status.idle": "2022-12-05T17:17:30.255867Z",
     "shell.execute_reply": "2022-12-05T17:17:30.255486Z"
    },
    "papermill": {
     "duration": 0.023278,
     "end_time": "2022-12-05T17:17:30.257463",
     "exception": false,
     "start_time": "2022-12-05T17:17:30.234185",
     "status": "completed"
    },
    "tags": [
     "injected-parameters"
    ]
   },
   "outputs": [],
   "source": [
    "# Parameters\n",
    "PHENOPLIER_NOTEBOOK_FILEPATH = (\n",
    "    \"projects/asthma-copd/nbs/20_gene_corrs/jobs/05-gene_expr_correlations.ipynb\"\n",
    ")\n",
    "COHORT_NAME = \"aco\"\n",
    "CHROMOSOME = 2\n",
    "OUTPUT_DIR_BASE = \"/opt/data/projects/asthma-copd/results/gls_phenoplier\"\n"
   ]
  },
  {
   "cell_type": "code",
   "execution_count": 5,
   "id": "3190631f-27fc-480f-b18e-571d580425a5",
   "metadata": {
    "execution": {
     "iopub.execute_input": "2022-12-05T17:17:30.275601Z",
     "iopub.status.busy": "2022-12-05T17:17:30.275490Z",
     "iopub.status.idle": "2022-12-05T17:17:30.295947Z",
     "shell.execute_reply": "2022-12-05T17:17:30.295483Z"
    },
    "papermill": {
     "duration": 0.031158,
     "end_time": "2022-12-05T17:17:30.297495",
     "exception": false,
     "start_time": "2022-12-05T17:17:30.266337",
     "status": "completed"
    },
    "tags": []
   },
   "outputs": [
    {
     "data": {
      "text/plain": [
       "'Cohort name: aco'"
      ]
     },
     "metadata": {},
     "output_type": "display_data"
    }
   ],
   "source": [
    "assert COHORT_NAME is not None and len(COHORT_NAME) > 0, \"A cohort name must be given\"\n",
    "\n",
    "COHORT_NAME = COHORT_NAME.lower()\n",
    "display(f\"Cohort name: {COHORT_NAME}\")"
   ]
  },
  {
   "cell_type": "code",
   "execution_count": 6,
   "id": "f53ba19b-0f93-4fa2-a047-63b375939d1a",
   "metadata": {
    "execution": {
     "iopub.execute_input": "2022-12-05T17:17:30.316705Z",
     "iopub.status.busy": "2022-12-05T17:17:30.316134Z",
     "iopub.status.idle": "2022-12-05T17:17:30.339870Z",
     "shell.execute_reply": "2022-12-05T17:17:30.339238Z"
    },
    "papermill": {
     "duration": 0.034784,
     "end_time": "2022-12-05T17:17:30.341468",
     "exception": false,
     "start_time": "2022-12-05T17:17:30.306684",
     "status": "completed"
    },
    "tags": []
   },
   "outputs": [
    {
     "data": {
      "text/plain": [
       "'Reference panel: GTEX_V8'"
      ]
     },
     "metadata": {},
     "output_type": "display_data"
    }
   ],
   "source": [
    "assert (\n",
    "    REFERENCE_PANEL is not None and len(REFERENCE_PANEL) > 0\n",
    "), \"A reference panel must be given\"\n",
    "\n",
    "display(f\"Reference panel: {REFERENCE_PANEL}\")"
   ]
  },
  {
   "cell_type": "code",
   "execution_count": 7,
   "id": "e024d130-c139-429a-9c6e-ccf149e297b0",
   "metadata": {
    "execution": {
     "iopub.execute_input": "2022-12-05T17:17:30.361379Z",
     "iopub.status.busy": "2022-12-05T17:17:30.360945Z",
     "iopub.status.idle": "2022-12-05T17:17:30.383155Z",
     "shell.execute_reply": "2022-12-05T17:17:30.382644Z"
    },
    "papermill": {
     "duration": 0.033079,
     "end_time": "2022-12-05T17:17:30.384418",
     "exception": false,
     "start_time": "2022-12-05T17:17:30.351339",
     "status": "completed"
    },
    "tags": []
   },
   "outputs": [
    {
     "data": {
      "text/plain": [
       "'eQTL model: MASHR) / mashr_'"
      ]
     },
     "metadata": {},
     "output_type": "display_data"
    }
   ],
   "source": [
    "assert (\n",
    "    EQTL_MODEL is not None and len(EQTL_MODEL) > 0\n",
    "), \"A prediction/eQTL model must be given\"\n",
    "\n",
    "EQTL_MODEL_FILES_PREFIX = conf.PHENOMEXCAN[\"PREDICTION_MODELS\"][f\"{EQTL_MODEL}_PREFIX\"]\n",
    "display(f\"eQTL model: {EQTL_MODEL}) / {EQTL_MODEL_FILES_PREFIX}\")"
   ]
  },
  {
   "cell_type": "code",
   "execution_count": 8,
   "id": "552a7f63-a18c-4d3e-bb6a-94f99b431291",
   "metadata": {
    "execution": {
     "iopub.execute_input": "2022-12-05T17:17:30.402049Z",
     "iopub.status.busy": "2022-12-05T17:17:30.401784Z",
     "iopub.status.idle": "2022-12-05T17:17:30.423454Z",
     "shell.execute_reply": "2022-12-05T17:17:30.422826Z"
    },
    "papermill": {
     "duration": 0.031586,
     "end_time": "2022-12-05T17:17:30.424556",
     "exception": false,
     "start_time": "2022-12-05T17:17:30.392970",
     "status": "completed"
    },
    "tags": []
   },
   "outputs": [
    {
     "data": {
      "text/plain": [
       "'S-MultiXcan condition number: 30'"
      ]
     },
     "metadata": {},
     "output_type": "display_data"
    }
   ],
   "source": [
    "assert (\n",
    "    SMULTIXCAN_CONDITION_NUMBER is not None and SMULTIXCAN_CONDITION_NUMBER > 0\n",
    "), \"The S-MultiXcan condition number (positive integer) must be given\"\n",
    "\n",
    "display(f\"S-MultiXcan condition number: {SMULTIXCAN_CONDITION_NUMBER}\")"
   ]
  },
  {
   "cell_type": "code",
   "execution_count": 9,
   "id": "f34a336f-548e-4afe-8955-90eaea4f42c6",
   "metadata": {
    "execution": {
     "iopub.execute_input": "2022-12-05T17:17:30.436781Z",
     "iopub.status.busy": "2022-12-05T17:17:30.436338Z",
     "iopub.status.idle": "2022-12-05T17:17:30.457721Z",
     "shell.execute_reply": "2022-12-05T17:17:30.457089Z"
    },
    "papermill": {
     "duration": 0.028543,
     "end_time": "2022-12-05T17:17:30.458815",
     "exception": false,
     "start_time": "2022-12-05T17:17:30.430272",
     "status": "completed"
    },
    "tags": []
   },
   "outputs": [
    {
     "data": {
      "text/plain": [
       "'Working on chromosome 2'"
      ]
     },
     "metadata": {},
     "output_type": "display_data"
    }
   ],
   "source": [
    "assert CHROMOSOME is not None and (\n",
    "    1 <= CHROMOSOME <= 22\n",
    "), \"You have to select one chromosome (format: number between 1 and 22)\"\n",
    "\n",
    "display(f\"Working on chromosome {CHROMOSOME}\")"
   ]
  },
  {
   "cell_type": "code",
   "execution_count": 10,
   "id": "ab8e96e8-06b5-4363-9dcd-dc4d78cc27f7",
   "metadata": {
    "execution": {
     "iopub.execute_input": "2022-12-05T17:17:30.471524Z",
     "iopub.status.busy": "2022-12-05T17:17:30.470988Z",
     "iopub.status.idle": "2022-12-05T17:17:30.493040Z",
     "shell.execute_reply": "2022-12-05T17:17:30.492378Z"
    },
    "papermill": {
     "duration": 0.029078,
     "end_time": "2022-12-05T17:17:30.494110",
     "exception": false,
     "start_time": "2022-12-05T17:17:30.465032",
     "status": "completed"
    },
    "tags": []
   },
   "outputs": [
    {
     "data": {
      "text/plain": [
       "'Compute correlation within distance True'"
      ]
     },
     "metadata": {},
     "output_type": "display_data"
    }
   ],
   "source": [
    "display(f\"Compute correlation within distance {COMPUTE_CORRELATIONS_WITHIN_DISTANCE}\")"
   ]
  },
  {
   "cell_type": "code",
   "execution_count": 11,
   "id": "b393b698-77e3-4ba2-8ac1-e14d51aa988f",
   "metadata": {
    "execution": {
     "iopub.execute_input": "2022-12-05T17:17:30.506539Z",
     "iopub.status.busy": "2022-12-05T17:17:30.506207Z",
     "iopub.status.idle": "2022-12-05T17:17:30.528944Z",
     "shell.execute_reply": "2022-12-05T17:17:30.528273Z"
    },
    "papermill": {
     "duration": 0.030164,
     "end_time": "2022-12-05T17:17:30.530044",
     "exception": false,
     "start_time": "2022-12-05T17:17:30.499880",
     "status": "completed"
    },
    "tags": []
   },
   "outputs": [
    {
     "data": {
      "text/plain": [
       "'Using output dir base: /opt/data/projects/asthma-copd/results/gls_phenoplier/gene_corrs/aco'"
      ]
     },
     "metadata": {},
     "output_type": "display_data"
    }
   ],
   "source": [
    "assert (\n",
    "    OUTPUT_DIR_BASE is not None and len(OUTPUT_DIR_BASE) > 0\n",
    "), \"Output directory path must be given\"\n",
    "\n",
    "OUTPUT_DIR_BASE = (Path(OUTPUT_DIR_BASE) / \"gene_corrs\" / COHORT_NAME).resolve()\n",
    "\n",
    "OUTPUT_DIR_BASE.mkdir(parents=True, exist_ok=True)\n",
    "\n",
    "display(f\"Using output dir base: {OUTPUT_DIR_BASE}\")"
   ]
  },
  {
   "cell_type": "markdown",
   "id": "d2ba085e",
   "metadata": {
    "papermill": {
     "duration": 0.005943,
     "end_time": "2022-12-05T17:17:30.541962",
     "exception": false,
     "start_time": "2022-12-05T17:17:30.536019",
     "status": "completed"
    },
    "tags": []
   },
   "source": [
    "# Load data"
   ]
  },
  {
   "cell_type": "markdown",
   "id": "7dcb8db7",
   "metadata": {
    "papermill": {
     "duration": 0.009343,
     "end_time": "2022-12-05T17:17:30.556994",
     "exception": false,
     "start_time": "2022-12-05T17:17:30.547651",
     "status": "completed"
    },
    "tags": []
   },
   "source": [
    "## GWAS variants"
   ]
  },
  {
   "cell_type": "code",
   "execution_count": 12,
   "id": "29434c4e-8cd3-4b9b-82e4-b5a251d9dd19",
   "metadata": {
    "execution": {
     "iopub.execute_input": "2022-12-05T17:17:30.582598Z",
     "iopub.status.busy": "2022-12-05T17:17:30.582092Z",
     "iopub.status.idle": "2022-12-05T17:17:32.915995Z",
     "shell.execute_reply": "2022-12-05T17:17:32.915344Z"
    },
    "papermill": {
     "duration": 2.348941,
     "end_time": "2022-12-05T17:17:32.917908",
     "exception": false,
     "start_time": "2022-12-05T17:17:30.568967",
     "status": "completed"
    },
    "tags": []
   },
   "outputs": [],
   "source": [
    "with open(OUTPUT_DIR_BASE / \"gwas_variant_ids.pkl\", \"rb\") as handle:\n",
    "    gwas_variants_ids_set = pickle.load(handle)"
   ]
  },
  {
   "cell_type": "code",
   "execution_count": 13,
   "id": "b9d9dec2-4a76-4bf9-bde2-e24c95acb8a0",
   "metadata": {
    "execution": {
     "iopub.execute_input": "2022-12-05T17:17:32.939168Z",
     "iopub.status.busy": "2022-12-05T17:17:32.938550Z",
     "iopub.status.idle": "2022-12-05T17:17:32.954465Z",
     "shell.execute_reply": "2022-12-05T17:17:32.953806Z"
    },
    "papermill": {
     "duration": 0.028314,
     "end_time": "2022-12-05T17:17:32.955908",
     "exception": false,
     "start_time": "2022-12-05T17:17:32.927594",
     "status": "completed"
    },
    "tags": []
   },
   "outputs": [
    {
     "data": {
      "text/plain": [
       "8561476"
      ]
     },
     "execution_count": 13,
     "metadata": {},
     "output_type": "execute_result"
    }
   ],
   "source": [
    "len(gwas_variants_ids_set)"
   ]
  },
  {
   "cell_type": "code",
   "execution_count": 14,
   "id": "4235b06a-6034-4ee4-a0a3-2ae35d122418",
   "metadata": {
    "execution": {
     "iopub.execute_input": "2022-12-05T17:17:32.975891Z",
     "iopub.status.busy": "2022-12-05T17:17:32.975670Z",
     "iopub.status.idle": "2022-12-05T17:17:34.163104Z",
     "shell.execute_reply": "2022-12-05T17:17:34.162470Z"
    },
    "papermill": {
     "duration": 1.199132,
     "end_time": "2022-12-05T17:17:34.164564",
     "exception": false,
     "start_time": "2022-12-05T17:17:32.965432",
     "status": "completed"
    },
    "tags": []
   },
   "outputs": [
    {
     "data": {
      "text/plain": [
       "['chr3_116347347_T_G_b38',\n",
       " 'chr5_5091480_C_G_b38',\n",
       " 'chr11_115746823_C_A_b38',\n",
       " 'chr4_14797248_G_A_b38',\n",
       " 'chr8_139137662_G_T_b38']"
      ]
     },
     "execution_count": 14,
     "metadata": {},
     "output_type": "execute_result"
    }
   ],
   "source": [
    "list(gwas_variants_ids_set)[:5]"
   ]
  },
  {
   "cell_type": "markdown",
   "id": "07866999-2305-41f9-a144-e69c9122c212",
   "metadata": {
    "papermill": {
     "duration": 0.010543,
     "end_time": "2022-12-05T17:17:34.184982",
     "exception": false,
     "start_time": "2022-12-05T17:17:34.174439",
     "status": "completed"
    },
    "tags": []
   },
   "source": [
    "## S-PrediXcan tissue models"
   ]
  },
  {
   "cell_type": "code",
   "execution_count": 15,
   "id": "780611d9-77c8-405f-90a4-f271f7b09397",
   "metadata": {
    "execution": {
     "iopub.execute_input": "2022-12-05T17:17:34.205216Z",
     "iopub.status.busy": "2022-12-05T17:17:34.205000Z",
     "iopub.status.idle": "2022-12-05T17:17:34.800872Z",
     "shell.execute_reply": "2022-12-05T17:17:34.800201Z"
    },
    "papermill": {
     "duration": 0.607944,
     "end_time": "2022-12-05T17:17:34.802598",
     "exception": false,
     "start_time": "2022-12-05T17:17:34.194654",
     "status": "completed"
    },
    "tags": []
   },
   "outputs": [],
   "source": [
    "spredixcan_genes_models = pd.read_pickle(OUTPUT_DIR_BASE / \"gene_tissues.pkl\")"
   ]
  },
  {
   "cell_type": "code",
   "execution_count": 16,
   "id": "726dd1f6-9557-4225-91fa-b3b879ea96e1",
   "metadata": {
    "execution": {
     "iopub.execute_input": "2022-12-05T17:17:34.824066Z",
     "iopub.status.busy": "2022-12-05T17:17:34.823582Z",
     "iopub.status.idle": "2022-12-05T17:17:34.839667Z",
     "shell.execute_reply": "2022-12-05T17:17:34.839012Z"
    },
    "papermill": {
     "duration": 0.028455,
     "end_time": "2022-12-05T17:17:34.841049",
     "exception": false,
     "start_time": "2022-12-05T17:17:34.812594",
     "status": "completed"
    },
    "tags": []
   },
   "outputs": [
    {
     "data": {
      "text/plain": [
       "(6442, 5)"
      ]
     },
     "execution_count": 16,
     "metadata": {},
     "output_type": "execute_result"
    }
   ],
   "source": [
    "spredixcan_genes_models.shape"
   ]
  },
  {
   "cell_type": "code",
   "execution_count": 17,
   "id": "944a1b48-222c-4eb0-b252-b9de2cbca215",
   "metadata": {
    "execution": {
     "iopub.execute_input": "2022-12-05T17:17:34.861182Z",
     "iopub.status.busy": "2022-12-05T17:17:34.860970Z",
     "iopub.status.idle": "2022-12-05T17:17:34.881657Z",
     "shell.execute_reply": "2022-12-05T17:17:34.881083Z"
    },
    "papermill": {
     "duration": 0.032397,
     "end_time": "2022-12-05T17:17:34.883053",
     "exception": false,
     "start_time": "2022-12-05T17:17:34.850656",
     "status": "completed"
    },
    "tags": []
   },
   "outputs": [
    {
     "data": {
      "text/html": [
       "<div>\n",
       "<style scoped>\n",
       "    .dataframe tbody tr th:only-of-type {\n",
       "        vertical-align: middle;\n",
       "    }\n",
       "\n",
       "    .dataframe tbody tr th {\n",
       "        vertical-align: top;\n",
       "    }\n",
       "\n",
       "    .dataframe thead th {\n",
       "        text-align: right;\n",
       "    }\n",
       "</style>\n",
       "<table border=\"1\" class=\"dataframe\">\n",
       "  <thead>\n",
       "    <tr style=\"text-align: right;\">\n",
       "      <th></th>\n",
       "      <th>gene_name</th>\n",
       "      <th>tissue</th>\n",
       "      <th>n_tissues</th>\n",
       "      <th>n_snps_used_sum</th>\n",
       "      <th>n_snps_in_model_sum</th>\n",
       "    </tr>\n",
       "    <tr>\n",
       "      <th>gene_id</th>\n",
       "      <th></th>\n",
       "      <th></th>\n",
       "      <th></th>\n",
       "      <th></th>\n",
       "      <th></th>\n",
       "    </tr>\n",
       "  </thead>\n",
       "  <tbody>\n",
       "    <tr>\n",
       "      <th>ENSG00000000419</th>\n",
       "      <td>DPM1</td>\n",
       "      <td>(Brain_Substantia_nigra, Brain_Hypothalamus)</td>\n",
       "      <td>2</td>\n",
       "      <td>2</td>\n",
       "      <td>2</td>\n",
       "    </tr>\n",
       "    <tr>\n",
       "      <th>ENSG00000000938</th>\n",
       "      <td>FGR</td>\n",
       "      <td>(Brain_Cerebellar_Hemisphere, Nerve_Tibial, Br...</td>\n",
       "      <td>36</td>\n",
       "      <td>40</td>\n",
       "      <td>40</td>\n",
       "    </tr>\n",
       "    <tr>\n",
       "      <th>ENSG00000000971</th>\n",
       "      <td>CFH</td>\n",
       "      <td>(Brain_Cerebellar_Hemisphere, Nerve_Tibial, Ov...</td>\n",
       "      <td>34</td>\n",
       "      <td>44</td>\n",
       "      <td>44</td>\n",
       "    </tr>\n",
       "    <tr>\n",
       "      <th>ENSG00000001084</th>\n",
       "      <td>GCLC</td>\n",
       "      <td>(Brain_Cerebellar_Hemisphere, Nerve_Tibial, Br...</td>\n",
       "      <td>32</td>\n",
       "      <td>46</td>\n",
       "      <td>46</td>\n",
       "    </tr>\n",
       "    <tr>\n",
       "      <th>ENSG00000001167</th>\n",
       "      <td>NFYA</td>\n",
       "      <td>(Brain_Cerebellar_Hemisphere, Nerve_Tibial, Ov...</td>\n",
       "      <td>40</td>\n",
       "      <td>47</td>\n",
       "      <td>48</td>\n",
       "    </tr>\n",
       "  </tbody>\n",
       "</table>\n",
       "</div>"
      ],
      "text/plain": [
       "                gene_name                                             tissue  \\\n",
       "gene_id                                                                        \n",
       "ENSG00000000419      DPM1       (Brain_Substantia_nigra, Brain_Hypothalamus)   \n",
       "ENSG00000000938       FGR  (Brain_Cerebellar_Hemisphere, Nerve_Tibial, Br...   \n",
       "ENSG00000000971       CFH  (Brain_Cerebellar_Hemisphere, Nerve_Tibial, Ov...   \n",
       "ENSG00000001084      GCLC  (Brain_Cerebellar_Hemisphere, Nerve_Tibial, Br...   \n",
       "ENSG00000001167      NFYA  (Brain_Cerebellar_Hemisphere, Nerve_Tibial, Ov...   \n",
       "\n",
       "                 n_tissues  n_snps_used_sum  n_snps_in_model_sum  \n",
       "gene_id                                                           \n",
       "ENSG00000000419          2                2                    2  \n",
       "ENSG00000000938         36               40                   40  \n",
       "ENSG00000000971         34               44                   44  \n",
       "ENSG00000001084         32               46                   46  \n",
       "ENSG00000001167         40               47                   48  "
      ]
     },
     "execution_count": 17,
     "metadata": {},
     "output_type": "execute_result"
    }
   ],
   "source": [
    "spredixcan_genes_models.head()"
   ]
  },
  {
   "cell_type": "code",
   "execution_count": 18,
   "id": "d1c11bb1-be0b-4f40-b360-633d6827109f",
   "metadata": {
    "execution": {
     "iopub.execute_input": "2022-12-05T17:17:34.904642Z",
     "iopub.status.busy": "2022-12-05T17:17:34.904184Z",
     "iopub.status.idle": "2022-12-05T17:17:34.919306Z",
     "shell.execute_reply": "2022-12-05T17:17:34.918746Z"
    },
    "papermill": {
     "duration": 0.027623,
     "end_time": "2022-12-05T17:17:34.920741",
     "exception": false,
     "start_time": "2022-12-05T17:17:34.893118",
     "status": "completed"
    },
    "tags": []
   },
   "outputs": [],
   "source": [
    "assert spredixcan_genes_models.index.is_unique"
   ]
  },
  {
   "cell_type": "markdown",
   "id": "a5b5092c-a13e-47c4-a92a-480fcc08f3ae",
   "metadata": {
    "papermill": {
     "duration": 0.010019,
     "end_time": "2022-12-05T17:17:34.940839",
     "exception": false,
     "start_time": "2022-12-05T17:17:34.930820",
     "status": "completed"
    },
    "tags": []
   },
   "source": [
    "## Gene info"
   ]
  },
  {
   "cell_type": "code",
   "execution_count": 19,
   "id": "7d6bb224-88e9-4358-ac10-43a41d92cdad",
   "metadata": {
    "execution": {
     "iopub.execute_input": "2022-12-05T17:17:34.959123Z",
     "iopub.status.busy": "2022-12-05T17:17:34.958575Z",
     "iopub.status.idle": "2022-12-05T17:17:34.984822Z",
     "shell.execute_reply": "2022-12-05T17:17:34.984161Z"
    },
    "papermill": {
     "duration": 0.035066,
     "end_time": "2022-12-05T17:17:34.985809",
     "exception": false,
     "start_time": "2022-12-05T17:17:34.950743",
     "status": "completed"
    },
    "tags": []
   },
   "outputs": [],
   "source": [
    "genes_info = pd.read_pickle(OUTPUT_DIR_BASE / \"genes_info.pkl\")"
   ]
  },
  {
   "cell_type": "code",
   "execution_count": 20,
   "id": "9e32abfa-546d-483e-8c18-d526e9e05903",
   "metadata": {
    "execution": {
     "iopub.execute_input": "2022-12-05T17:17:34.997845Z",
     "iopub.status.busy": "2022-12-05T17:17:34.997306Z",
     "iopub.status.idle": "2022-12-05T17:17:35.020790Z",
     "shell.execute_reply": "2022-12-05T17:17:35.020238Z"
    },
    "papermill": {
     "duration": 0.030458,
     "end_time": "2022-12-05T17:17:35.021691",
     "exception": false,
     "start_time": "2022-12-05T17:17:34.991233",
     "status": "completed"
    },
    "tags": []
   },
   "outputs": [
    {
     "data": {
      "text/plain": [
       "(6442, 7)"
      ]
     },
     "execution_count": 20,
     "metadata": {},
     "output_type": "execute_result"
    }
   ],
   "source": [
    "genes_info.shape"
   ]
  },
  {
   "cell_type": "code",
   "execution_count": 21,
   "id": "d16c3e92-85ec-468a-9a56-e25a9774a1cb",
   "metadata": {
    "execution": {
     "iopub.execute_input": "2022-12-05T17:17:35.033307Z",
     "iopub.status.busy": "2022-12-05T17:17:35.032923Z",
     "iopub.status.idle": "2022-12-05T17:17:35.059058Z",
     "shell.execute_reply": "2022-12-05T17:17:35.058546Z"
    },
    "papermill": {
     "duration": 0.033131,
     "end_time": "2022-12-05T17:17:35.060022",
     "exception": false,
     "start_time": "2022-12-05T17:17:35.026891",
     "status": "completed"
    },
    "tags": []
   },
   "outputs": [
    {
     "data": {
      "text/html": [
       "<div>\n",
       "<style scoped>\n",
       "    .dataframe tbody tr th:only-of-type {\n",
       "        vertical-align: middle;\n",
       "    }\n",
       "\n",
       "    .dataframe tbody tr th {\n",
       "        vertical-align: top;\n",
       "    }\n",
       "\n",
       "    .dataframe thead th {\n",
       "        text-align: right;\n",
       "    }\n",
       "</style>\n",
       "<table border=\"1\" class=\"dataframe\">\n",
       "  <thead>\n",
       "    <tr style=\"text-align: right;\">\n",
       "      <th></th>\n",
       "      <th>name</th>\n",
       "      <th>id</th>\n",
       "      <th>chr</th>\n",
       "      <th>band</th>\n",
       "      <th>start_position</th>\n",
       "      <th>end_position</th>\n",
       "      <th>gene_length</th>\n",
       "    </tr>\n",
       "  </thead>\n",
       "  <tbody>\n",
       "    <tr>\n",
       "      <th>0</th>\n",
       "      <td>ASPM</td>\n",
       "      <td>ENSG00000066279</td>\n",
       "      <td>1</td>\n",
       "      <td>1q31.3</td>\n",
       "      <td>197084127</td>\n",
       "      <td>197146694</td>\n",
       "      <td>62567</td>\n",
       "    </tr>\n",
       "    <tr>\n",
       "      <th>1</th>\n",
       "      <td>GPAM</td>\n",
       "      <td>ENSG00000119927</td>\n",
       "      <td>10</td>\n",
       "      <td>10q25.2</td>\n",
       "      <td>112149865</td>\n",
       "      <td>112215377</td>\n",
       "      <td>65512</td>\n",
       "    </tr>\n",
       "    <tr>\n",
       "      <th>2</th>\n",
       "      <td>MAPK7</td>\n",
       "      <td>ENSG00000166484</td>\n",
       "      <td>17</td>\n",
       "      <td>17p11.2</td>\n",
       "      <td>19377721</td>\n",
       "      <td>19383544</td>\n",
       "      <td>5823</td>\n",
       "    </tr>\n",
       "    <tr>\n",
       "      <th>3</th>\n",
       "      <td>SLC3A2</td>\n",
       "      <td>ENSG00000168003</td>\n",
       "      <td>11</td>\n",
       "      <td>11q12.3</td>\n",
       "      <td>62856102</td>\n",
       "      <td>62888875</td>\n",
       "      <td>32773</td>\n",
       "    </tr>\n",
       "    <tr>\n",
       "      <th>4</th>\n",
       "      <td>GINS2</td>\n",
       "      <td>ENSG00000131153</td>\n",
       "      <td>16</td>\n",
       "      <td>16q24.1</td>\n",
       "      <td>85676198</td>\n",
       "      <td>85690073</td>\n",
       "      <td>13875</td>\n",
       "    </tr>\n",
       "  </tbody>\n",
       "</table>\n",
       "</div>"
      ],
      "text/plain": [
       "     name               id  chr     band  start_position  end_position  \\\n",
       "0    ASPM  ENSG00000066279    1   1q31.3       197084127     197146694   \n",
       "1    GPAM  ENSG00000119927   10  10q25.2       112149865     112215377   \n",
       "2   MAPK7  ENSG00000166484   17  17p11.2        19377721      19383544   \n",
       "3  SLC3A2  ENSG00000168003   11  11q12.3        62856102      62888875   \n",
       "4   GINS2  ENSG00000131153   16  16q24.1        85676198      85690073   \n",
       "\n",
       "   gene_length  \n",
       "0        62567  \n",
       "1        65512  \n",
       "2         5823  \n",
       "3        32773  \n",
       "4        13875  "
      ]
     },
     "execution_count": 21,
     "metadata": {},
     "output_type": "execute_result"
    }
   ],
   "source": [
    "genes_info.head()"
   ]
  },
  {
   "cell_type": "markdown",
   "id": "d3843e06",
   "metadata": {
    "papermill": {
     "duration": 0.005199,
     "end_time": "2022-12-05T17:17:35.070534",
     "exception": false,
     "start_time": "2022-12-05T17:17:35.065335",
     "status": "completed"
    },
    "tags": []
   },
   "source": [
    "# Compute correlations"
   ]
  },
  {
   "cell_type": "code",
   "execution_count": 22,
   "id": "cb859c15-d1f3-4006-a74c-2b83c0db9611",
   "metadata": {
    "execution": {
     "iopub.execute_input": "2022-12-05T17:17:35.082462Z",
     "iopub.status.busy": "2022-12-05T17:17:35.081953Z",
     "iopub.status.idle": "2022-12-05T17:17:35.104015Z",
     "shell.execute_reply": "2022-12-05T17:17:35.103518Z"
    },
    "papermill": {
     "duration": 0.028844,
     "end_time": "2022-12-05T17:17:35.104915",
     "exception": false,
     "start_time": "2022-12-05T17:17:35.076071",
     "status": "completed"
    },
    "tags": []
   },
   "outputs": [
    {
     "data": {
      "text/plain": [
       "PosixPath('/opt/data/projects/asthma-copd/results/gls_phenoplier/gene_corrs/aco/by_chr/gene_corrs-chr2.pkl')"
      ]
     },
     "metadata": {},
     "output_type": "display_data"
    }
   ],
   "source": [
    "output_dir = OUTPUT_DIR_BASE / \"by_chr\"\n",
    "output_dir.mkdir(exist_ok=True, parents=True)\n",
    "output_file = output_dir / f\"gene_corrs-chr{CHROMOSOME}.pkl\"\n",
    "display(output_file)"
   ]
  },
  {
   "cell_type": "code",
   "execution_count": 23,
   "id": "aa674fe4-6794-4eed-98fa-32b39d1d4ace",
   "metadata": {
    "execution": {
     "iopub.execute_input": "2022-12-05T17:17:35.116738Z",
     "iopub.status.busy": "2022-12-05T17:17:35.116330Z",
     "iopub.status.idle": "2022-12-05T17:17:35.136518Z",
     "shell.execute_reply": "2022-12-05T17:17:35.136031Z"
    },
    "papermill": {
     "duration": 0.027044,
     "end_time": "2022-12-05T17:17:35.137439",
     "exception": false,
     "start_time": "2022-12-05T17:17:35.110395",
     "status": "completed"
    },
    "tags": []
   },
   "outputs": [],
   "source": [
    "warnings.filterwarnings(\"error\")"
   ]
  },
  {
   "cell_type": "code",
   "execution_count": 24,
   "id": "44d5450b-3baf-43f1-9e2e-4b06f1a785f8",
   "metadata": {
    "execution": {
     "iopub.execute_input": "2022-12-05T17:17:35.149809Z",
     "iopub.status.busy": "2022-12-05T17:17:35.149405Z",
     "iopub.status.idle": "2022-12-05T17:17:35.170336Z",
     "shell.execute_reply": "2022-12-05T17:17:35.169834Z"
    },
    "papermill": {
     "duration": 0.027948,
     "end_time": "2022-12-05T17:17:35.171236",
     "exception": false,
     "start_time": "2022-12-05T17:17:35.143288",
     "status": "completed"
    },
    "tags": []
   },
   "outputs": [],
   "source": [
    "# standard checks\n",
    "all_chrs = genes_info[\"chr\"].dropna().unique()\n",
    "assert all_chrs.shape[0] == 22\n",
    "\n",
    "# select chromosome given by the user\n",
    "assert CHROMOSOME in all_chrs"
   ]
  },
  {
   "cell_type": "code",
   "execution_count": 25,
   "id": "2d7c043c-92a7-4d35-991b-fa69ac1e0268",
   "metadata": {
    "execution": {
     "iopub.execute_input": "2022-12-05T17:17:35.183611Z",
     "iopub.status.busy": "2022-12-05T17:17:35.183166Z",
     "iopub.status.idle": "2022-12-05T17:17:35.205311Z",
     "shell.execute_reply": "2022-12-05T17:17:35.204782Z"
    },
    "papermill": {
     "duration": 0.029272,
     "end_time": "2022-12-05T17:17:35.206209",
     "exception": false,
     "start_time": "2022-12-05T17:17:35.176937",
     "status": "completed"
    },
    "tags": []
   },
   "outputs": [
    {
     "name": "stdout",
     "output_type": "stream",
     "text": [
      "Number of genes in chromosome: 444\n"
     ]
    }
   ],
   "source": [
    "# run only on the chromosome specified\n",
    "all_chrs = [CHROMOSOME]\n",
    "genes_chr = genes_info[genes_info[\"chr\"] == CHROMOSOME]\n",
    "\n",
    "# For testing purposes\n",
    "# genes_chr = genes_chr.sample(n=20)\n",
    "\n",
    "print(f\"Number of genes in chromosome: {genes_chr.shape[0]}\", flush=True)"
   ]
  },
  {
   "cell_type": "code",
   "execution_count": 26,
   "id": "916015d8-2979-46d3-a9b9-1cf5a0932c6a",
   "metadata": {
    "execution": {
     "iopub.execute_input": "2022-12-05T17:17:35.218277Z",
     "iopub.status.busy": "2022-12-05T17:17:35.217867Z",
     "iopub.status.idle": "2022-12-05T17:17:35.238769Z",
     "shell.execute_reply": "2022-12-05T17:17:35.238260Z"
    },
    "papermill": {
     "duration": 0.02792,
     "end_time": "2022-12-05T17:17:35.239700",
     "exception": false,
     "start_time": "2022-12-05T17:17:35.211780",
     "status": "completed"
    },
    "tags": []
   },
   "outputs": [],
   "source": [
    "# sort genes by starting position to make visualizations better later\n",
    "genes_chr = genes_chr.sort_values(\"start_position\")"
   ]
  },
  {
   "cell_type": "code",
   "execution_count": 27,
   "id": "a38aa74a-8ad3-47f6-8ef9-56be0e011774",
   "metadata": {
    "execution": {
     "iopub.execute_input": "2022-12-05T17:17:35.251935Z",
     "iopub.status.busy": "2022-12-05T17:17:35.251460Z",
     "iopub.status.idle": "2022-12-05T17:17:35.272650Z",
     "shell.execute_reply": "2022-12-05T17:17:35.272163Z"
    },
    "papermill": {
     "duration": 0.028503,
     "end_time": "2022-12-05T17:17:35.273553",
     "exception": false,
     "start_time": "2022-12-05T17:17:35.245050",
     "status": "completed"
    },
    "tags": []
   },
   "outputs": [],
   "source": [
    "gene_chr_objs = [Gene(ensembl_id=gene_id) for gene_id in genes_chr[\"id\"]]"
   ]
  },
  {
   "cell_type": "code",
   "execution_count": 28,
   "id": "570f974f-13c3-42b6-ad3a-ce99ca885c1a",
   "metadata": {
    "execution": {
     "iopub.execute_input": "2022-12-05T17:17:35.285475Z",
     "iopub.status.busy": "2022-12-05T17:17:35.285084Z",
     "iopub.status.idle": "2022-12-05T17:17:35.306136Z",
     "shell.execute_reply": "2022-12-05T17:17:35.305625Z"
    },
    "papermill": {
     "duration": 0.027993,
     "end_time": "2022-12-05T17:17:35.307025",
     "exception": false,
     "start_time": "2022-12-05T17:17:35.279032",
     "status": "completed"
    },
    "tags": []
   },
   "outputs": [
    {
     "name": "stdout",
     "output_type": "stream",
     "text": [
      "Number of gene combinations: 98790\n"
     ]
    }
   ],
   "source": [
    "n = len(gene_chr_objs)\n",
    "# diagonal elements + upper triangular matrix\n",
    "n_comb = n + int(n * (n - 1) / 2.0)\n",
    "print(f\"Number of gene combinations: {n_comb}\", flush=True)"
   ]
  },
  {
   "cell_type": "code",
   "execution_count": 29,
   "id": "cdbb90a1",
   "metadata": {
    "execution": {
     "iopub.execute_input": "2022-12-05T17:17:35.319526Z",
     "iopub.status.busy": "2022-12-05T17:17:35.319260Z",
     "iopub.status.idle": "2022-12-05T17:23:10.523383Z",
     "shell.execute_reply": "2022-12-05T17:23:10.522696Z"
    },
    "papermill": {
     "duration": 335.211804,
     "end_time": "2022-12-05T17:23:10.524805",
     "exception": false,
     "start_time": "2022-12-05T17:17:35.313001",
     "status": "completed"
    },
    "tags": []
   },
   "outputs": [
    {
     "name": "stderr",
     "output_type": "stream",
     "text": [
      "ENSG00000188389 / ENSG00000188389: 100%|█████████████████████| 98790/98790 [05:35<00:00, 294.76it/s]\n"
     ]
    },
    {
     "data": {
      "text/plain": [
       "PosixPath('/opt/data/projects/asthma-copd/results/gls_phenoplier/gene_corrs/aco/by_chr/gene_corrs-chr2.pkl')"
      ]
     },
     "metadata": {},
     "output_type": "display_data"
    }
   ],
   "source": [
    "gene_corrs = []\n",
    "gene_corrs_data = np.full(\n",
    "    (n, n),\n",
    "    np.nan,\n",
    "    dtype=np.float64,\n",
    ")\n",
    "\n",
    "i = 0\n",
    "with tqdm(ncols=100, total=n_comb) as pbar:\n",
    "    for gene1_idx in range(0, len(gene_chr_objs)):\n",
    "        gene1_obj = gene_chr_objs[gene1_idx]\n",
    "        gene1_tissues = spredixcan_genes_models.loc[gene1_obj.ensembl_id, \"tissue\"]\n",
    "\n",
    "        for gene2_idx in range(gene1_idx, len(gene_chr_objs)):\n",
    "            gene2_obj = gene_chr_objs[gene2_idx]\n",
    "            gene2_tissues = spredixcan_genes_models.loc[gene2_obj.ensembl_id, \"tissue\"]\n",
    "\n",
    "            pbar.set_description(f\"{gene1_obj.ensembl_id} / {gene2_obj.ensembl_id}\")\n",
    "\n",
    "            try:\n",
    "                r = gene1_obj.get_ssm_correlation(\n",
    "                    other_gene=gene2_obj,\n",
    "                    tissues=gene1_tissues,\n",
    "                    other_tissues=gene2_tissues,\n",
    "                    snps_subset=gwas_variants_ids_set,\n",
    "                    condition_number=SMULTIXCAN_CONDITION_NUMBER,\n",
    "                    reference_panel=REFERENCE_PANEL,\n",
    "                    model_type=EQTL_MODEL,\n",
    "                    use_within_distance=COMPUTE_CORRELATIONS_WITHIN_DISTANCE,\n",
    "                )\n",
    "\n",
    "                if r is None:\n",
    "                    # if r is None, it's very likely because:\n",
    "                    #  * one of the genes has no prediction models\n",
    "                    #  * all the SNPs predictors for the gene are not present in the reference\n",
    "                    #    panel\n",
    "\n",
    "                    r = 0.0\n",
    "\n",
    "                gene_corrs.append(r)\n",
    "\n",
    "                gene_corrs_data[gene1_idx, gene2_idx] = r\n",
    "                gene_corrs_data[gene2_idx, gene1_idx] = r\n",
    "            except Warning as e:\n",
    "                if not DEBUG_MODE:\n",
    "                    raise e\n",
    "\n",
    "                print(\n",
    "                    f\"RuntimeWarning for genes {gene1_obj.ensembl_id} and {gene2_obj.ensembl_id}\",\n",
    "                    flush=True,\n",
    "                )\n",
    "                print(traceback.format_exc(), flush=True)\n",
    "\n",
    "                gene_corrs.append(np.nan)\n",
    "            except Exception as e:\n",
    "                if not DEBUG_MODE:\n",
    "                    raise e\n",
    "\n",
    "                print(\n",
    "                    f\"Exception for genes {gene1_obj.ensembl_id} and {gene2_obj.ensembl_id}\",\n",
    "                    flush=True,\n",
    "                )\n",
    "                print(traceback.format_exc(), flush=True)\n",
    "\n",
    "                gene_corrs.append(np.nan)\n",
    "\n",
    "            pbar.update(1)\n",
    "\n",
    "# create a pandas series\n",
    "gene_corrs_flat = pd.Series(gene_corrs)\n",
    "\n",
    "# save\n",
    "# FIXME: consider saving only the condenced matrix here. See here for\n",
    "# more details: https://github.com/greenelab/phenoplier/pull/38#discussion_r634600813\n",
    "# gene_corrs_data = squareform(np.array(gene_corrs, dtype=np.float64))\n",
    "# np.fill_diagonal(gene_corrs_data, 1.0)\n",
    "\n",
    "gene_chr_ids = [g.ensembl_id for g in gene_chr_objs]\n",
    "gene_corrs_df = pd.DataFrame(\n",
    "    data=gene_corrs_data,\n",
    "    index=gene_chr_ids,\n",
    "    columns=gene_chr_ids,\n",
    ")\n",
    "\n",
    "output_dir.mkdir(exist_ok=True, parents=True)\n",
    "display(output_file)\n",
    "\n",
    "gene_corrs_df.to_pickle(output_file)"
   ]
  },
  {
   "cell_type": "markdown",
   "id": "faa67b51-5373-470f-aa72-2ded53fa6dfe",
   "metadata": {
    "papermill": {
     "duration": 3.073699,
     "end_time": "2022-12-05T17:23:16.694043",
     "exception": false,
     "start_time": "2022-12-05T17:23:13.620344",
     "status": "completed"
    },
    "tags": []
   },
   "source": [
    "# Testing"
   ]
  },
  {
   "cell_type": "code",
   "execution_count": 30,
   "id": "14f7d046-4b55-4896-a56b-990127bcc388",
   "metadata": {
    "execution": {
     "iopub.execute_input": "2022-12-05T17:23:22.822079Z",
     "iopub.status.busy": "2022-12-05T17:23:22.821644Z",
     "iopub.status.idle": "2022-12-05T17:23:22.842300Z",
     "shell.execute_reply": "2022-12-05T17:23:22.841685Z"
    },
    "papermill": {
     "duration": 3.137551,
     "end_time": "2022-12-05T17:23:22.843153",
     "exception": false,
     "start_time": "2022-12-05T17:23:19.705602",
     "status": "completed"
    },
    "tags": []
   },
   "outputs": [
    {
     "data": {
      "text/plain": [
       "(444, 444)"
      ]
     },
     "execution_count": 30,
     "metadata": {},
     "output_type": "execute_result"
    }
   ],
   "source": [
    "gene_corrs_df.shape"
   ]
  },
  {
   "cell_type": "code",
   "execution_count": 31,
   "id": "c7d15414-3297-4537-a7c6-7588c0baeb75",
   "metadata": {
    "execution": {
     "iopub.execute_input": "2022-12-05T17:23:29.282998Z",
     "iopub.status.busy": "2022-12-05T17:23:29.282518Z",
     "iopub.status.idle": "2022-12-05T17:23:29.327258Z",
     "shell.execute_reply": "2022-12-05T17:23:29.326710Z"
    },
    "papermill": {
     "duration": 3.31007,
     "end_time": "2022-12-05T17:23:29.328286",
     "exception": false,
     "start_time": "2022-12-05T17:23:26.018216",
     "status": "completed"
    },
    "tags": []
   },
   "outputs": [
    {
     "data": {
      "text/html": [
       "<div>\n",
       "<style scoped>\n",
       "    .dataframe tbody tr th:only-of-type {\n",
       "        vertical-align: middle;\n",
       "    }\n",
       "\n",
       "    .dataframe tbody tr th {\n",
       "        vertical-align: top;\n",
       "    }\n",
       "\n",
       "    .dataframe thead th {\n",
       "        text-align: right;\n",
       "    }\n",
       "</style>\n",
       "<table border=\"1\" class=\"dataframe\">\n",
       "  <thead>\n",
       "    <tr style=\"text-align: right;\">\n",
       "      <th></th>\n",
       "      <th>ENSG00000143727</th>\n",
       "      <th>ENSG00000115705</th>\n",
       "      <th>ENSG00000130508</th>\n",
       "      <th>ENSG00000182551</th>\n",
       "      <th>ENSG00000171865</th>\n",
       "      <th>ENSG00000171863</th>\n",
       "      <th>ENSG00000134326</th>\n",
       "      <th>ENSG00000134321</th>\n",
       "      <th>ENSG00000115738</th>\n",
       "      <th>ENSG00000134313</th>\n",
       "      <th>...</th>\n",
       "      <th>ENSG00000068024</th>\n",
       "      <th>ENSG00000130414</th>\n",
       "      <th>ENSG00000063660</th>\n",
       "      <th>ENSG00000178623</th>\n",
       "      <th>ENSG00000115687</th>\n",
       "      <th>ENSG00000168385</th>\n",
       "      <th>ENSG00000006607</th>\n",
       "      <th>ENSG00000168393</th>\n",
       "      <th>ENSG00000180902</th>\n",
       "      <th>ENSG00000188389</th>\n",
       "    </tr>\n",
       "  </thead>\n",
       "  <tbody>\n",
       "    <tr>\n",
       "      <th>ENSG00000143727</th>\n",
       "      <td>1.000000</td>\n",
       "      <td>0.008300</td>\n",
       "      <td>0.008055</td>\n",
       "      <td>0.003016</td>\n",
       "      <td>0.008433</td>\n",
       "      <td>0.003120</td>\n",
       "      <td>0.000000</td>\n",
       "      <td>0.000000</td>\n",
       "      <td>0.0</td>\n",
       "      <td>0.0</td>\n",
       "      <td>...</td>\n",
       "      <td>0.0</td>\n",
       "      <td>0.0</td>\n",
       "      <td>0.0</td>\n",
       "      <td>0.0</td>\n",
       "      <td>0.0</td>\n",
       "      <td>0.0</td>\n",
       "      <td>0.0</td>\n",
       "      <td>0.0</td>\n",
       "      <td>0.0</td>\n",
       "      <td>0.0</td>\n",
       "    </tr>\n",
       "    <tr>\n",
       "      <th>ENSG00000115705</th>\n",
       "      <td>0.008300</td>\n",
       "      <td>1.000000</td>\n",
       "      <td>0.016309</td>\n",
       "      <td>0.010477</td>\n",
       "      <td>0.012934</td>\n",
       "      <td>0.011270</td>\n",
       "      <td>0.000000</td>\n",
       "      <td>0.000000</td>\n",
       "      <td>0.0</td>\n",
       "      <td>0.0</td>\n",
       "      <td>...</td>\n",
       "      <td>0.0</td>\n",
       "      <td>0.0</td>\n",
       "      <td>0.0</td>\n",
       "      <td>0.0</td>\n",
       "      <td>0.0</td>\n",
       "      <td>0.0</td>\n",
       "      <td>0.0</td>\n",
       "      <td>0.0</td>\n",
       "      <td>0.0</td>\n",
       "      <td>0.0</td>\n",
       "    </tr>\n",
       "    <tr>\n",
       "      <th>ENSG00000130508</th>\n",
       "      <td>0.008055</td>\n",
       "      <td>0.016309</td>\n",
       "      <td>1.000000</td>\n",
       "      <td>0.010977</td>\n",
       "      <td>0.008181</td>\n",
       "      <td>0.007399</td>\n",
       "      <td>0.000000</td>\n",
       "      <td>0.000000</td>\n",
       "      <td>0.0</td>\n",
       "      <td>0.0</td>\n",
       "      <td>...</td>\n",
       "      <td>0.0</td>\n",
       "      <td>0.0</td>\n",
       "      <td>0.0</td>\n",
       "      <td>0.0</td>\n",
       "      <td>0.0</td>\n",
       "      <td>0.0</td>\n",
       "      <td>0.0</td>\n",
       "      <td>0.0</td>\n",
       "      <td>0.0</td>\n",
       "      <td>0.0</td>\n",
       "    </tr>\n",
       "    <tr>\n",
       "      <th>ENSG00000182551</th>\n",
       "      <td>0.003016</td>\n",
       "      <td>0.010477</td>\n",
       "      <td>0.010977</td>\n",
       "      <td>1.000000</td>\n",
       "      <td>0.134368</td>\n",
       "      <td>0.223789</td>\n",
       "      <td>0.007137</td>\n",
       "      <td>0.008064</td>\n",
       "      <td>0.0</td>\n",
       "      <td>0.0</td>\n",
       "      <td>...</td>\n",
       "      <td>0.0</td>\n",
       "      <td>0.0</td>\n",
       "      <td>0.0</td>\n",
       "      <td>0.0</td>\n",
       "      <td>0.0</td>\n",
       "      <td>0.0</td>\n",
       "      <td>0.0</td>\n",
       "      <td>0.0</td>\n",
       "      <td>0.0</td>\n",
       "      <td>0.0</td>\n",
       "    </tr>\n",
       "    <tr>\n",
       "      <th>ENSG00000171865</th>\n",
       "      <td>0.008433</td>\n",
       "      <td>0.012934</td>\n",
       "      <td>0.008181</td>\n",
       "      <td>0.134368</td>\n",
       "      <td>1.000000</td>\n",
       "      <td>0.115207</td>\n",
       "      <td>0.009295</td>\n",
       "      <td>0.005103</td>\n",
       "      <td>0.0</td>\n",
       "      <td>0.0</td>\n",
       "      <td>...</td>\n",
       "      <td>0.0</td>\n",
       "      <td>0.0</td>\n",
       "      <td>0.0</td>\n",
       "      <td>0.0</td>\n",
       "      <td>0.0</td>\n",
       "      <td>0.0</td>\n",
       "      <td>0.0</td>\n",
       "      <td>0.0</td>\n",
       "      <td>0.0</td>\n",
       "      <td>0.0</td>\n",
       "    </tr>\n",
       "  </tbody>\n",
       "</table>\n",
       "<p>5 rows × 444 columns</p>\n",
       "</div>"
      ],
      "text/plain": [
       "                 ENSG00000143727  ENSG00000115705  ENSG00000130508  \\\n",
       "ENSG00000143727         1.000000         0.008300         0.008055   \n",
       "ENSG00000115705         0.008300         1.000000         0.016309   \n",
       "ENSG00000130508         0.008055         0.016309         1.000000   \n",
       "ENSG00000182551         0.003016         0.010477         0.010977   \n",
       "ENSG00000171865         0.008433         0.012934         0.008181   \n",
       "\n",
       "                 ENSG00000182551  ENSG00000171865  ENSG00000171863  \\\n",
       "ENSG00000143727         0.003016         0.008433         0.003120   \n",
       "ENSG00000115705         0.010477         0.012934         0.011270   \n",
       "ENSG00000130508         0.010977         0.008181         0.007399   \n",
       "ENSG00000182551         1.000000         0.134368         0.223789   \n",
       "ENSG00000171865         0.134368         1.000000         0.115207   \n",
       "\n",
       "                 ENSG00000134326  ENSG00000134321  ENSG00000115738  \\\n",
       "ENSG00000143727         0.000000         0.000000              0.0   \n",
       "ENSG00000115705         0.000000         0.000000              0.0   \n",
       "ENSG00000130508         0.000000         0.000000              0.0   \n",
       "ENSG00000182551         0.007137         0.008064              0.0   \n",
       "ENSG00000171865         0.009295         0.005103              0.0   \n",
       "\n",
       "                 ENSG00000134313  ...  ENSG00000068024  ENSG00000130414  \\\n",
       "ENSG00000143727              0.0  ...              0.0              0.0   \n",
       "ENSG00000115705              0.0  ...              0.0              0.0   \n",
       "ENSG00000130508              0.0  ...              0.0              0.0   \n",
       "ENSG00000182551              0.0  ...              0.0              0.0   \n",
       "ENSG00000171865              0.0  ...              0.0              0.0   \n",
       "\n",
       "                 ENSG00000063660  ENSG00000178623  ENSG00000115687  \\\n",
       "ENSG00000143727              0.0              0.0              0.0   \n",
       "ENSG00000115705              0.0              0.0              0.0   \n",
       "ENSG00000130508              0.0              0.0              0.0   \n",
       "ENSG00000182551              0.0              0.0              0.0   \n",
       "ENSG00000171865              0.0              0.0              0.0   \n",
       "\n",
       "                 ENSG00000168385  ENSG00000006607  ENSG00000168393  \\\n",
       "ENSG00000143727              0.0              0.0              0.0   \n",
       "ENSG00000115705              0.0              0.0              0.0   \n",
       "ENSG00000130508              0.0              0.0              0.0   \n",
       "ENSG00000182551              0.0              0.0              0.0   \n",
       "ENSG00000171865              0.0              0.0              0.0   \n",
       "\n",
       "                 ENSG00000180902  ENSG00000188389  \n",
       "ENSG00000143727              0.0              0.0  \n",
       "ENSG00000115705              0.0              0.0  \n",
       "ENSG00000130508              0.0              0.0  \n",
       "ENSG00000182551              0.0              0.0  \n",
       "ENSG00000171865              0.0              0.0  \n",
       "\n",
       "[5 rows x 444 columns]"
      ]
     },
     "execution_count": 31,
     "metadata": {},
     "output_type": "execute_result"
    }
   ],
   "source": [
    "gene_corrs_df.head()"
   ]
  },
  {
   "cell_type": "markdown",
   "id": "dad6603f-01c6-41fb-a6f6-241051207dd8",
   "metadata": {
    "papermill": {
     "duration": 3.036857,
     "end_time": "2022-12-05T17:23:35.488423",
     "exception": false,
     "start_time": "2022-12-05T17:23:32.451566",
     "status": "completed"
    },
    "tags": []
   },
   "source": [
    "## Standard checks and stats"
   ]
  },
  {
   "cell_type": "code",
   "execution_count": 32,
   "id": "286686af-1b7b-4440-8453-6bdcbd8de19c",
   "metadata": {
    "execution": {
     "iopub.execute_input": "2022-12-05T17:23:41.990002Z",
     "iopub.status.busy": "2022-12-05T17:23:41.989465Z",
     "iopub.status.idle": "2022-12-05T17:23:42.011126Z",
     "shell.execute_reply": "2022-12-05T17:23:42.010589Z"
    },
    "papermill": {
     "duration": 3.23797,
     "end_time": "2022-12-05T17:23:42.012345",
     "exception": false,
     "start_time": "2022-12-05T17:23:38.774375",
     "status": "completed"
    },
    "tags": []
   },
   "outputs": [],
   "source": [
    "assert not gene_corrs_df.isna().any(axis=None)"
   ]
  },
  {
   "cell_type": "code",
   "execution_count": 33,
   "id": "00583efc-7068-4270-ad1e-4a418e91db96",
   "metadata": {
    "execution": {
     "iopub.execute_input": "2022-12-05T17:23:48.283814Z",
     "iopub.status.busy": "2022-12-05T17:23:48.283324Z",
     "iopub.status.idle": "2022-12-05T17:23:48.309005Z",
     "shell.execute_reply": "2022-12-05T17:23:48.308370Z"
    },
    "papermill": {
     "duration": 3.228216,
     "end_time": "2022-12-05T17:23:48.310022",
     "exception": false,
     "start_time": "2022-12-05T17:23:45.081806",
     "status": "completed"
    },
    "tags": []
   },
   "outputs": [
    {
     "data": {
      "text/plain": [
       "0.0"
      ]
     },
     "metadata": {},
     "output_type": "display_data"
    }
   ],
   "source": [
    "_min_val = gene_corrs_df.min().min()\n",
    "display(_min_val)\n",
    "assert _min_val >= -0.05"
   ]
  },
  {
   "cell_type": "code",
   "execution_count": 34,
   "id": "d04fb2cf-1050-475b-b855-f5f7cc04092b",
   "metadata": {
    "execution": {
     "iopub.execute_input": "2022-12-05T17:23:54.906939Z",
     "iopub.status.busy": "2022-12-05T17:23:54.906117Z",
     "iopub.status.idle": "2022-12-05T17:23:54.933140Z",
     "shell.execute_reply": "2022-12-05T17:23:54.932573Z"
    },
    "papermill": {
     "duration": 3.307877,
     "end_time": "2022-12-05T17:23:54.934042",
     "exception": false,
     "start_time": "2022-12-05T17:23:51.626165",
     "status": "completed"
    },
    "tags": []
   },
   "outputs": [
    {
     "data": {
      "text/plain": [
       "1.0000000000000042"
      ]
     },
     "metadata": {},
     "output_type": "display_data"
    }
   ],
   "source": [
    "_max_val = gene_corrs_df.max().max()  # this captures the diagonal\n",
    "display(_max_val)\n",
    "assert _max_val <= 1.05"
   ]
  },
  {
   "cell_type": "code",
   "execution_count": 35,
   "id": "fe283586-c348-40e0-8841-f6d97bfb021c",
   "metadata": {
    "execution": {
     "iopub.execute_input": "2022-12-05T17:24:01.291749Z",
     "iopub.status.busy": "2022-12-05T17:24:01.291205Z",
     "iopub.status.idle": "2022-12-05T17:24:01.321216Z",
     "shell.execute_reply": "2022-12-05T17:24:01.320674Z"
    },
    "papermill": {
     "duration": 3.177875,
     "end_time": "2022-12-05T17:24:01.322173",
     "exception": false,
     "start_time": "2022-12-05T17:23:58.144298",
     "status": "completed"
    },
    "tags": []
   },
   "outputs": [
    {
     "data": {
      "text/plain": [
       "count    98790.000000\n",
       "mean         0.006086\n",
       "std          0.070585\n",
       "min          0.000000\n",
       "25%          0.000000\n",
       "50%          0.000000\n",
       "75%          0.000000\n",
       "max          1.000000\n",
       "dtype: float64"
      ]
     },
     "execution_count": 35,
     "metadata": {},
     "output_type": "execute_result"
    }
   ],
   "source": [
    "gene_corrs_flat.describe()"
   ]
  },
  {
   "cell_type": "code",
   "execution_count": 36,
   "id": "b3815678-0f93-4b35-897b-a9d047a2aa78",
   "metadata": {
    "execution": {
     "iopub.execute_input": "2022-12-05T17:24:08.134948Z",
     "iopub.status.busy": "2022-12-05T17:24:08.134326Z",
     "iopub.status.idle": "2022-12-05T17:24:08.164831Z",
     "shell.execute_reply": "2022-12-05T17:24:08.164290Z"
    },
    "papermill": {
     "duration": 3.538118,
     "end_time": "2022-12-05T17:24:08.165789",
     "exception": false,
     "start_time": "2022-12-05T17:24:04.627671",
     "status": "completed"
    },
    "tags": []
   },
   "outputs": [
    {
     "data": {
      "text/plain": [
       "0.00    0.00000\n",
       "0.05    0.00000\n",
       "0.10    0.00000\n",
       "0.15    0.00000\n",
       "0.20    0.00000\n",
       "0.25    0.00000\n",
       "0.30    0.00000\n",
       "0.35    0.00000\n",
       "0.40    0.00000\n",
       "0.45    0.00000\n",
       "0.50    0.00000\n",
       "0.55    0.00000\n",
       "0.60    0.00000\n",
       "0.65    0.00000\n",
       "0.70    0.00000\n",
       "0.75    0.00000\n",
       "0.80    0.00000\n",
       "0.85    0.00000\n",
       "0.90    0.00000\n",
       "0.95    0.00147\n",
       "dtype: float64"
      ]
     },
     "metadata": {},
     "output_type": "display_data"
    }
   ],
   "source": [
    "gene_corrs_quantiles = gene_corrs_flat.quantile(np.arange(0, 1, 0.05))\n",
    "display(gene_corrs_quantiles)"
   ]
  },
  {
   "cell_type": "markdown",
   "id": "87134509-b145-4a10-8bc9-b7e914c2b0fa",
   "metadata": {
    "papermill": {
     "duration": 3.148127,
     "end_time": "2022-12-05T17:24:14.570910",
     "exception": false,
     "start_time": "2022-12-05T17:24:11.422783",
     "status": "completed"
    },
    "tags": []
   },
   "source": [
    "## Positive definiteness"
   ]
  },
  {
   "cell_type": "code",
   "execution_count": 37,
   "id": "07d9a9a1-a4f7-48aa-b916-6d42a8cc6186",
   "metadata": {
    "execution": {
     "iopub.execute_input": "2022-12-05T17:24:21.144406Z",
     "iopub.status.busy": "2022-12-05T17:24:21.144121Z",
     "iopub.status.idle": "2022-12-05T17:24:21.219780Z",
     "shell.execute_reply": "2022-12-05T17:24:21.219411Z"
    },
    "papermill": {
     "duration": 3.312381,
     "end_time": "2022-12-05T17:24:21.220766",
     "exception": false,
     "start_time": "2022-12-05T17:24:17.908385",
     "status": "completed"
    },
    "tags": []
   },
   "outputs": [
    {
     "data": {
      "text/plain": [
       "0"
      ]
     },
     "metadata": {},
     "output_type": "display_data"
    },
    {
     "data": {
      "text/plain": [
       "array([], dtype=float64)"
      ]
     },
     "metadata": {},
     "output_type": "display_data"
    }
   ],
   "source": [
    "# print negative eigenvalues\n",
    "eigs = np.linalg.eigvals(gene_corrs_df.to_numpy())\n",
    "display(len(eigs[eigs < 0]))\n",
    "display(eigs[eigs < 0])"
   ]
  },
  {
   "cell_type": "code",
   "execution_count": 38,
   "id": "6e218436-c3c5-4028-8c94-a4fa6260efce",
   "metadata": {
    "execution": {
     "iopub.execute_input": "2022-12-05T17:24:27.304179Z",
     "iopub.status.busy": "2022-12-05T17:24:27.303779Z",
     "iopub.status.idle": "2022-12-05T17:24:27.346173Z",
     "shell.execute_reply": "2022-12-05T17:24:27.345470Z"
    },
    "papermill": {
     "duration": 3.113023,
     "end_time": "2022-12-05T17:24:27.347379",
     "exception": false,
     "start_time": "2022-12-05T17:24:24.234356",
     "status": "completed"
    },
    "tags": []
   },
   "outputs": [
    {
     "name": "stdout",
     "output_type": "stream",
     "text": [
      "Works!\n"
     ]
    }
   ],
   "source": [
    "try:\n",
    "    chol_mat = np.linalg.cholesky(gene_corrs_df.to_numpy())\n",
    "    cov_inv = np.linalg.inv(chol_mat)\n",
    "    print(\"Works!\")\n",
    "except Exception as e:\n",
    "    print(f\"Cholesky decomposition failed: {str(e)}\")"
   ]
  },
  {
   "cell_type": "code",
   "execution_count": 39,
   "id": "dd8827fb-faf9-4c7c-9454-015e94752706",
   "metadata": {
    "execution": {
     "iopub.execute_input": "2022-12-05T17:24:33.654202Z",
     "iopub.status.busy": "2022-12-05T17:24:33.653784Z",
     "iopub.status.idle": "2022-12-05T17:24:33.693959Z",
     "shell.execute_reply": "2022-12-05T17:24:33.693387Z"
    },
    "papermill": {
     "duration": 3.117624,
     "end_time": "2022-12-05T17:24:33.694866",
     "exception": false,
     "start_time": "2022-12-05T17:24:30.577242",
     "status": "completed"
    },
    "tags": []
   },
   "outputs": [
    {
     "name": "stdout",
     "output_type": "stream",
     "text": [
      "Works!\n"
     ]
    }
   ],
   "source": [
    "try:\n",
    "    # decomposition used by statsmodels.GLS\n",
    "    cholsigmainv = np.linalg.cholesky(np.linalg.inv(gene_corrs_df.to_numpy())).T\n",
    "    print(\"Works!\")\n",
    "except Exception as e:\n",
    "    print(f\"Cholesky decomposition failed (statsmodels.GLS): {str(e)}\")"
   ]
  },
  {
   "cell_type": "markdown",
   "id": "8e60a080-edb2-4e9c-b2ef-22961693200c",
   "metadata": {
    "papermill": {
     "duration": 2.978425,
     "end_time": "2022-12-05T17:24:39.638911",
     "exception": false,
     "start_time": "2022-12-05T17:24:36.660486",
     "status": "completed"
    },
    "tags": []
   },
   "source": [
    "## Plot: distribution"
   ]
  },
  {
   "cell_type": "code",
   "execution_count": 40,
   "id": "8301126b-a7d4-4744-9c7d-f0f86eb6f54c",
   "metadata": {
    "execution": {
     "iopub.execute_input": "2022-12-05T17:24:45.946680Z",
     "iopub.status.busy": "2022-12-05T17:24:45.946405Z",
     "iopub.status.idle": "2022-12-05T17:24:46.481648Z",
     "shell.execute_reply": "2022-12-05T17:24:46.481090Z"
    },
    "papermill": {
     "duration": 3.655197,
     "end_time": "2022-12-05T17:24:46.482618",
     "exception": false,
     "start_time": "2022-12-05T17:24:42.827421",
     "status": "completed"
    },
    "tags": []
   },
   "outputs": [
    {
     "data": {
      "image/png": "[encoded data removed]",
      "text/plain": [
       "<Figure size 700x700 with 1 Axes>"
      ]
     },
     "metadata": {},
     "output_type": "display_data"
    }
   ],
   "source": [
    "with sns.plotting_context(\"paper\", font_scale=1.5):\n",
    "    g = sns.displot(gene_corrs_flat, kde=True, height=7)\n",
    "    g.ax.set_title(\n",
    "        f\"Distribution of gene correlation values in chromosome {CHROMOSOME}\"\n",
    "    )"
   ]
  },
  {
   "cell_type": "markdown",
   "id": "cbd52bca-d878-4a2f-b684-5c83aa3038d4",
   "metadata": {
    "papermill": {
     "duration": 3.034752,
     "end_time": "2022-12-05T17:24:52.586718",
     "exception": false,
     "start_time": "2022-12-05T17:24:49.551966",
     "status": "completed"
    },
    "tags": []
   },
   "source": [
    "## Plot: heatmap"
   ]
  },
  {
   "cell_type": "code",
   "execution_count": 41,
   "id": "d03fe63a-c7b2-4fb9-a53c-db362ce843c9",
   "metadata": {
    "execution": {
     "iopub.execute_input": "2022-12-05T17:24:58.919530Z",
     "iopub.status.busy": "2022-12-05T17:24:58.918949Z",
     "iopub.status.idle": "2022-12-05T17:24:58.938821Z",
     "shell.execute_reply": "2022-12-05T17:24:58.938347Z"
    },
    "papermill": {
     "duration": 3.138484,
     "end_time": "2022-12-05T17:24:58.939708",
     "exception": false,
     "start_time": "2022-12-05T17:24:55.801224",
     "status": "completed"
    },
    "tags": []
   },
   "outputs": [
    {
     "data": {
      "text/plain": [
       "'0.0 / 0.05'"
      ]
     },
     "metadata": {},
     "output_type": "display_data"
    }
   ],
   "source": [
    "vmin_val = min(0.00, gene_corrs_quantiles[0.10])\n",
    "vmax_val = max(0.05, gene_corrs_quantiles[0.90])\n",
    "display(f\"{vmin_val} / {vmax_val}\")"
   ]
  },
  {
   "cell_type": "code",
   "execution_count": 42,
   "id": "dc41b70b-5bcc-4d9e-9f33-a22c4a94dab5",
   "metadata": {
    "execution": {
     "iopub.execute_input": "2022-12-05T17:25:05.013459Z",
     "iopub.status.busy": "2022-12-05T17:25:05.012981Z",
     "iopub.status.idle": "2022-12-05T17:25:05.352865Z",
     "shell.execute_reply": "2022-12-05T17:25:05.352254Z"
    },
    "papermill": {
     "duration": 3.359806,
     "end_time": "2022-12-05T17:25:05.353857",
     "exception": false,
     "start_time": "2022-12-05T17:25:01.994051",
     "status": "completed"
    },
    "tags": []
   },
   "outputs": [
    {
     "data": {
      "text/plain": [
       "Text(0.5, 1.0, 'Gene correlations in chromosome 2')"
      ]
     },
     "execution_count": 42,
     "metadata": {},
     "output_type": "execute_result"
    },
    {
     "data": {
      "image/png": "[encoded data removed]",
      "text/plain": [
       "<Figure size 1000x1000 with 2 Axes>"
      ]
     },
     "metadata": {},
     "output_type": "display_data"
    }
   ],
   "source": [
    "f, ax = plt.subplots(figsize=(10, 10))\n",
    "sns.heatmap(\n",
    "    gene_corrs_df,\n",
    "    xticklabels=False,\n",
    "    yticklabels=False,\n",
    "    square=True,\n",
    "    vmin=vmin_val,\n",
    "    vmax=vmax_val,\n",
    "    cmap=\"rocket_r\",\n",
    "    ax=ax,\n",
    ")\n",
    "ax.set_title(f\"Gene correlations in chromosome {CHROMOSOME}\")"
   ]
  },
  {
   "cell_type": "code",
   "execution_count": null,
   "id": "b25e3ead",
   "metadata": {
    "papermill": {
     "duration": 3.089737,
     "end_time": "2022-12-05T17:25:11.523614",
     "exception": false,
     "start_time": "2022-12-05T17:25:08.433877",
     "status": "completed"
    },
    "tags": []
   },
   "outputs": [],
   "source": []
  }
 ],
 "metadata": {
  "jupytext": {
   "cell_metadata_filter": "all,-execution,-papermill,-trusted",
   "formats": "ipynb,py//py:percent"
  },
  "kernelspec": {
   "display_name": "Python 3 (ipykernel)",
   "language": "python",
   "name": "python3"
  },
  "language_info": {
   "codemirror_mode": {
    "name": "ipython",
    "version": 3
   },
   "file_extension": ".py",
   "mimetype": "text/x-python",
   "name": "python",
   "nbconvert_exporter": "python",
   "pygments_lexer": "ipython3",
   "version": "3.10.6"
  },
  "papermill": {
   "default_parameters": {},
   "duration": 468.962594,
   "end_time": "2022-12-05T17:25:17.334756",
   "environment_variables": {},
   "exception": null,
   "input_path": "projects/asthma-copd/nbs/20_gene_corrs/jobs/05-gene_expr_correlations.ipynb",
   "output_path": "projects/asthma-copd/nbs/20_gene_corrs/jobs/../output/aco/05-gene_expr_correlations-chr2.run.ipynb",
   "parameters": {
    "CHROMOSOME": 2,
    "COHORT_NAME": "aco",
    "OUTPUT_DIR_BASE": "/opt/data/projects/asthma-copd/results/gls_phenoplier",
    "PHENOPLIER_NOTEBOOK_FILEPATH": "projects/asthma-copd/nbs/20_gene_corrs/jobs/05-gene_expr_correlations.ipynb"
   },
   "start_time": "2022-12-05T17:17:28.372162",
   "version": "2.2.2"
  }
 },
 "nbformat": 4,
 "nbformat_minor": 5
}
