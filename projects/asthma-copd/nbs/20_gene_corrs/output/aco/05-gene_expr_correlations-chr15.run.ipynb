{
 "cells": [
  {
   "cell_type": "markdown",
   "id": "7a6632fb",
   "metadata": {
    "papermill": {
     "duration": 0.008501,
     "end_time": "2022-12-05T17:31:32.684703",
     "exception": false,
     "start_time": "2022-12-05T17:31:32.676202",
     "status": "completed"
    },
    "tags": []
   },
   "source": [
    "# Description"
   ]
  },
  {
   "cell_type": "markdown",
   "id": "7097c346",
   "metadata": {
    "papermill": {
     "duration": 0.007997,
     "end_time": "2022-12-05T17:31:32.700344",
     "exception": false,
     "start_time": "2022-12-05T17:31:32.692347",
     "status": "completed"
    },
    "tags": []
   },
   "source": [
    "(Please, take a look at the README.md file in this directory for instructions on how to run this notebook)\n",
    "\n",
    "This notebook computes predicted expression correlations between all genes in the MultiPLIER models.\n",
    "\n",
    "It has specicfic parameters for papermill (see under `Settings` below).\n",
    "It can be configured to run on a single chromosome to run in parallel.\n",
    "\n",
    "This notebook is not directly run. See README.md."
   ]
  },
  {
   "cell_type": "markdown",
   "id": "c61d8427",
   "metadata": {
    "papermill": {
     "duration": 0.007541,
     "end_time": "2022-12-05T17:31:32.715452",
     "exception": false,
     "start_time": "2022-12-05T17:31:32.707911",
     "status": "completed"
    },
    "tags": []
   },
   "source": [
    "# Modules"
   ]
  },
  {
   "cell_type": "code",
   "execution_count": 1,
   "id": "bbc0234f",
   "metadata": {
    "execution": {
     "iopub.execute_input": "2022-12-05T17:31:32.732484Z",
     "iopub.status.busy": "2022-12-05T17:31:32.732152Z",
     "iopub.status.idle": "2022-12-05T17:31:32.752001Z",
     "shell.execute_reply": "2022-12-05T17:31:32.751425Z"
    },
    "papermill": {
     "duration": 0.029615,
     "end_time": "2022-12-05T17:31:32.753283",
     "exception": false,
     "start_time": "2022-12-05T17:31:32.723668",
     "status": "completed"
    },
    "tags": []
   },
   "outputs": [],
   "source": [
    "%load_ext autoreload\n",
    "%autoreload 2"
   ]
  },
  {
   "cell_type": "code",
   "execution_count": 2,
   "id": "1d5f5a59",
   "metadata": {
    "execution": {
     "iopub.execute_input": "2022-12-05T17:31:32.766837Z",
     "iopub.status.busy": "2022-12-05T17:31:32.766541Z",
     "iopub.status.idle": "2022-12-05T17:31:33.458312Z",
     "shell.execute_reply": "2022-12-05T17:31:33.457850Z"
    },
    "papermill": {
     "duration": 0.700475,
     "end_time": "2022-12-05T17:31:33.459973",
     "exception": false,
     "start_time": "2022-12-05T17:31:32.759498",
     "status": "completed"
    },
    "tags": []
   },
   "outputs": [],
   "source": [
    "from random import sample, seed\n",
    "import warnings\n",
    "from pathlib import Path\n",
    "import pickle\n",
    "import traceback\n",
    "\n",
    "import numpy as np\n",
    "from scipy.spatial.distance import squareform\n",
    "import pandas as pd\n",
    "from tqdm import tqdm\n",
    "import matplotlib.pyplot as plt\n",
    "import seaborn as sns\n",
    "\n",
    "import conf\n",
    "from entity import Gene"
   ]
  },
  {
   "cell_type": "markdown",
   "id": "1eac24b5",
   "metadata": {
    "papermill": {
     "duration": 0.00979,
     "end_time": "2022-12-05T17:31:33.478263",
     "exception": false,
     "start_time": "2022-12-05T17:31:33.468473",
     "status": "completed"
    },
    "tags": []
   },
   "source": [
    "# Settings"
   ]
  },
  {
   "cell_type": "code",
   "execution_count": 3,
   "id": "ca4560ba",
   "metadata": {
    "execution": {
     "iopub.execute_input": "2022-12-05T17:31:33.495739Z",
     "iopub.status.busy": "2022-12-05T17:31:33.495353Z",
     "iopub.status.idle": "2022-12-05T17:31:33.509944Z",
     "shell.execute_reply": "2022-12-05T17:31:33.509507Z"
    },
    "papermill": {
     "duration": 0.024925,
     "end_time": "2022-12-05T17:31:33.511335",
     "exception": false,
     "start_time": "2022-12-05T17:31:33.486410",
     "status": "completed"
    },
    "tags": [
     "parameters"
    ]
   },
   "outputs": [],
   "source": [
    "# a cohort name (it could be something like UK_BIOBANK, etc)\n",
    "COHORT_NAME = None\n",
    "\n",
    "# reference panel such as 1000G or GTEX_V8\n",
    "REFERENCE_PANEL = \"GTEX_V8\"\n",
    "\n",
    "# predictions models such as MASHR or ELASTIC_NET\n",
    "EQTL_MODEL = \"MASHR\"\n",
    "\n",
    "# this is the default value used in S-MultiXcan to select the\n",
    "# top principal components of the expression correlation matrix\n",
    "SMULTIXCAN_CONDITION_NUMBER = 30\n",
    "\n",
    "# specifies a single chromosome value\n",
    "CHROMOSOME = None\n",
    "\n",
    "# If True, computes the correlation between closeby genes only (see\n",
    "# entity.Gene.within_distance for more details). Otherwise, it computes\n",
    "# correlations for all genes in a chromosome\n",
    "COMPUTE_CORRELATIONS_WITHIN_DISTANCE = True\n",
    "\n",
    "# if True, then it will continue if a gene pair correlation fails,\n",
    "# printing the warning/error for debugging. If False, any warning/error\n",
    "# will be thrown\n",
    "DEBUG_MODE = False\n",
    "\n",
    "# output dir\n",
    "OUTPUT_DIR_BASE = None"
   ]
  },
  {
   "cell_type": "code",
   "execution_count": 4,
   "id": "59062f2c",
   "metadata": {
    "execution": {
     "iopub.execute_input": "2022-12-05T17:31:33.528810Z",
     "iopub.status.busy": "2022-12-05T17:31:33.528668Z",
     "iopub.status.idle": "2022-12-05T17:31:33.542064Z",
     "shell.execute_reply": "2022-12-05T17:31:33.541661Z"
    },
    "papermill": {
     "duration": 0.02344,
     "end_time": "2022-12-05T17:31:33.543456",
     "exception": false,
     "start_time": "2022-12-05T17:31:33.520016",
     "status": "completed"
    },
    "tags": [
     "injected-parameters"
    ]
   },
   "outputs": [],
   "source": [
    "# Parameters\n",
    "PHENOPLIER_NOTEBOOK_FILEPATH = (\n",
    "    \"projects/asthma-copd/nbs/20_gene_corrs/jobs/05-gene_expr_correlations.ipynb\"\n",
    ")\n",
    "COHORT_NAME = \"aco\"\n",
    "CHROMOSOME = 15\n",
    "OUTPUT_DIR_BASE = \"/opt/data/projects/asthma-copd/results/gls_phenoplier\"\n"
   ]
  },
  {
   "cell_type": "code",
   "execution_count": 5,
   "id": "3190631f-27fc-480f-b18e-571d580425a5",
   "metadata": {
    "execution": {
     "iopub.execute_input": "2022-12-05T17:31:33.560926Z",
     "iopub.status.busy": "2022-12-05T17:31:33.560745Z",
     "iopub.status.idle": "2022-12-05T17:31:33.584537Z",
     "shell.execute_reply": "2022-12-05T17:31:33.584046Z"
    },
    "papermill": {
     "duration": 0.034015,
     "end_time": "2022-12-05T17:31:33.586042",
     "exception": false,
     "start_time": "2022-12-05T17:31:33.552027",
     "status": "completed"
    },
    "tags": []
   },
   "outputs": [
    {
     "data": {
      "text/plain": [
       "'Cohort name: aco'"
      ]
     },
     "metadata": {},
     "output_type": "display_data"
    }
   ],
   "source": [
    "assert COHORT_NAME is not None and len(COHORT_NAME) > 0, \"A cohort name must be given\"\n",
    "\n",
    "COHORT_NAME = COHORT_NAME.lower()\n",
    "display(f\"Cohort name: {COHORT_NAME}\")"
   ]
  },
  {
   "cell_type": "code",
   "execution_count": 6,
   "id": "f53ba19b-0f93-4fa2-a047-63b375939d1a",
   "metadata": {
    "execution": {
     "iopub.execute_input": "2022-12-05T17:31:33.606349Z",
     "iopub.status.busy": "2022-12-05T17:31:33.606180Z",
     "iopub.status.idle": "2022-12-05T17:31:33.624855Z",
     "shell.execute_reply": "2022-12-05T17:31:33.624353Z"
    },
    "papermill": {
     "duration": 0.030524,
     "end_time": "2022-12-05T17:31:33.626331",
     "exception": false,
     "start_time": "2022-12-05T17:31:33.595807",
     "status": "completed"
    },
    "tags": []
   },
   "outputs": [
    {
     "data": {
      "text/plain": [
       "'Reference panel: GTEX_V8'"
      ]
     },
     "metadata": {},
     "output_type": "display_data"
    }
   ],
   "source": [
    "assert (\n",
    "    REFERENCE_PANEL is not None and len(REFERENCE_PANEL) > 0\n",
    "), \"A reference panel must be given\"\n",
    "\n",
    "display(f\"Reference panel: {REFERENCE_PANEL}\")"
   ]
  },
  {
   "cell_type": "code",
   "execution_count": 7,
   "id": "e024d130-c139-429a-9c6e-ccf149e297b0",
   "metadata": {
    "execution": {
     "iopub.execute_input": "2022-12-05T17:31:33.646147Z",
     "iopub.status.busy": "2022-12-05T17:31:33.645911Z",
     "iopub.status.idle": "2022-12-05T17:31:33.665503Z",
     "shell.execute_reply": "2022-12-05T17:31:33.665008Z"
    },
    "papermill": {
     "duration": 0.031072,
     "end_time": "2022-12-05T17:31:33.667000",
     "exception": false,
     "start_time": "2022-12-05T17:31:33.635928",
     "status": "completed"
    },
    "tags": []
   },
   "outputs": [
    {
     "data": {
      "text/plain": [
       "'eQTL model: MASHR) / mashr_'"
      ]
     },
     "metadata": {},
     "output_type": "display_data"
    }
   ],
   "source": [
    "assert (\n",
    "    EQTL_MODEL is not None and len(EQTL_MODEL) > 0\n",
    "), \"A prediction/eQTL model must be given\"\n",
    "\n",
    "EQTL_MODEL_FILES_PREFIX = conf.PHENOMEXCAN[\"PREDICTION_MODELS\"][f\"{EQTL_MODEL}_PREFIX\"]\n",
    "display(f\"eQTL model: {EQTL_MODEL}) / {EQTL_MODEL_FILES_PREFIX}\")"
   ]
  },
  {
   "cell_type": "code",
   "execution_count": 8,
   "id": "552a7f63-a18c-4d3e-bb6a-94f99b431291",
   "metadata": {
    "execution": {
     "iopub.execute_input": "2022-12-05T17:31:33.687102Z",
     "iopub.status.busy": "2022-12-05T17:31:33.686916Z",
     "iopub.status.idle": "2022-12-05T17:31:33.708179Z",
     "shell.execute_reply": "2022-12-05T17:31:33.707560Z"
    },
    "papermill": {
     "duration": 0.032942,
     "end_time": "2022-12-05T17:31:33.709714",
     "exception": false,
     "start_time": "2022-12-05T17:31:33.676772",
     "status": "completed"
    },
    "tags": []
   },
   "outputs": [
    {
     "data": {
      "text/plain": [
       "'S-MultiXcan condition number: 30'"
      ]
     },
     "metadata": {},
     "output_type": "display_data"
    }
   ],
   "source": [
    "assert (\n",
    "    SMULTIXCAN_CONDITION_NUMBER is not None and SMULTIXCAN_CONDITION_NUMBER > 0\n",
    "), \"The S-MultiXcan condition number (positive integer) must be given\"\n",
    "\n",
    "display(f\"S-MultiXcan condition number: {SMULTIXCAN_CONDITION_NUMBER}\")"
   ]
  },
  {
   "cell_type": "code",
   "execution_count": 9,
   "id": "f34a336f-548e-4afe-8955-90eaea4f42c6",
   "metadata": {
    "execution": {
     "iopub.execute_input": "2022-12-05T17:31:33.730186Z",
     "iopub.status.busy": "2022-12-05T17:31:33.729700Z",
     "iopub.status.idle": "2022-12-05T17:31:33.753720Z",
     "shell.execute_reply": "2022-12-05T17:31:33.753100Z"
    },
    "papermill": {
     "duration": 0.036027,
     "end_time": "2022-12-05T17:31:33.755307",
     "exception": false,
     "start_time": "2022-12-05T17:31:33.719280",
     "status": "completed"
    },
    "tags": []
   },
   "outputs": [
    {
     "data": {
      "text/plain": [
       "'Working on chromosome 15'"
      ]
     },
     "metadata": {},
     "output_type": "display_data"
    }
   ],
   "source": [
    "assert CHROMOSOME is not None and (\n",
    "    1 <= CHROMOSOME <= 22\n",
    "), \"You have to select one chromosome (format: number between 1 and 22)\"\n",
    "\n",
    "display(f\"Working on chromosome {CHROMOSOME}\")"
   ]
  },
  {
   "cell_type": "code",
   "execution_count": 10,
   "id": "ab8e96e8-06b5-4363-9dcd-dc4d78cc27f7",
   "metadata": {
    "execution": {
     "iopub.execute_input": "2022-12-05T17:31:33.773649Z",
     "iopub.status.busy": "2022-12-05T17:31:33.773306Z",
     "iopub.status.idle": "2022-12-05T17:31:33.794893Z",
     "shell.execute_reply": "2022-12-05T17:31:33.794297Z"
    },
    "papermill": {
     "duration": 0.032217,
     "end_time": "2022-12-05T17:31:33.796408",
     "exception": false,
     "start_time": "2022-12-05T17:31:33.764191",
     "status": "completed"
    },
    "tags": []
   },
   "outputs": [
    {
     "data": {
      "text/plain": [
       "'Compute correlation within distance True'"
      ]
     },
     "metadata": {},
     "output_type": "display_data"
    }
   ],
   "source": [
    "display(f\"Compute correlation within distance {COMPUTE_CORRELATIONS_WITHIN_DISTANCE}\")"
   ]
  },
  {
   "cell_type": "code",
   "execution_count": 11,
   "id": "b393b698-77e3-4ba2-8ac1-e14d51aa988f",
   "metadata": {
    "execution": {
     "iopub.execute_input": "2022-12-05T17:31:33.814863Z",
     "iopub.status.busy": "2022-12-05T17:31:33.814302Z",
     "iopub.status.idle": "2022-12-05T17:31:33.838994Z",
     "shell.execute_reply": "2022-12-05T17:31:33.838423Z"
    },
    "papermill": {
     "duration": 0.035451,
     "end_time": "2022-12-05T17:31:33.840545",
     "exception": false,
     "start_time": "2022-12-05T17:31:33.805094",
     "status": "completed"
    },
    "tags": []
   },
   "outputs": [
    {
     "data": {
      "text/plain": [
       "'Using output dir base: /opt/data/projects/asthma-copd/results/gls_phenoplier/gene_corrs/aco'"
      ]
     },
     "metadata": {},
     "output_type": "display_data"
    }
   ],
   "source": [
    "assert (\n",
    "    OUTPUT_DIR_BASE is not None and len(OUTPUT_DIR_BASE) > 0\n",
    "), \"Output directory path must be given\"\n",
    "\n",
    "OUTPUT_DIR_BASE = (Path(OUTPUT_DIR_BASE) / \"gene_corrs\" / COHORT_NAME).resolve()\n",
    "\n",
    "OUTPUT_DIR_BASE.mkdir(parents=True, exist_ok=True)\n",
    "\n",
    "display(f\"Using output dir base: {OUTPUT_DIR_BASE}\")"
   ]
  },
  {
   "cell_type": "markdown",
   "id": "d2ba085e",
   "metadata": {
    "papermill": {
     "duration": 0.009118,
     "end_time": "2022-12-05T17:31:33.858741",
     "exception": false,
     "start_time": "2022-12-05T17:31:33.849623",
     "status": "completed"
    },
    "tags": []
   },
   "source": [
    "# Load data"
   ]
  },
  {
   "cell_type": "markdown",
   "id": "7dcb8db7",
   "metadata": {
    "papermill": {
     "duration": 0.008462,
     "end_time": "2022-12-05T17:31:33.875799",
     "exception": false,
     "start_time": "2022-12-05T17:31:33.867337",
     "status": "completed"
    },
    "tags": []
   },
   "source": [
    "## GWAS variants"
   ]
  },
  {
   "cell_type": "code",
   "execution_count": 12,
   "id": "29434c4e-8cd3-4b9b-82e4-b5a251d9dd19",
   "metadata": {
    "execution": {
     "iopub.execute_input": "2022-12-05T17:31:33.894508Z",
     "iopub.status.busy": "2022-12-05T17:31:33.894052Z",
     "iopub.status.idle": "2022-12-05T17:31:36.056683Z",
     "shell.execute_reply": "2022-12-05T17:31:36.056226Z"
    },
    "papermill": {
     "duration": 2.173953,
     "end_time": "2022-12-05T17:31:36.058378",
     "exception": false,
     "start_time": "2022-12-05T17:31:33.884425",
     "status": "completed"
    },
    "tags": []
   },
   "outputs": [],
   "source": [
    "with open(OUTPUT_DIR_BASE / \"gwas_variant_ids.pkl\", \"rb\") as handle:\n",
    "    gwas_variants_ids_set = pickle.load(handle)"
   ]
  },
  {
   "cell_type": "code",
   "execution_count": 13,
   "id": "b9d9dec2-4a76-4bf9-bde2-e24c95acb8a0",
   "metadata": {
    "execution": {
     "iopub.execute_input": "2022-12-05T17:31:36.077831Z",
     "iopub.status.busy": "2022-12-05T17:31:36.077717Z",
     "iopub.status.idle": "2022-12-05T17:31:36.091389Z",
     "shell.execute_reply": "2022-12-05T17:31:36.090828Z"
    },
    "papermill": {
     "duration": 0.024865,
     "end_time": "2022-12-05T17:31:36.092847",
     "exception": false,
     "start_time": "2022-12-05T17:31:36.067982",
     "status": "completed"
    },
    "tags": []
   },
   "outputs": [
    {
     "data": {
      "text/plain": [
       "8561476"
      ]
     },
     "execution_count": 13,
     "metadata": {},
     "output_type": "execute_result"
    }
   ],
   "source": [
    "len(gwas_variants_ids_set)"
   ]
  },
  {
   "cell_type": "code",
   "execution_count": 14,
   "id": "4235b06a-6034-4ee4-a0a3-2ae35d122418",
   "metadata": {
    "execution": {
     "iopub.execute_input": "2022-12-05T17:31:36.112391Z",
     "iopub.status.busy": "2022-12-05T17:31:36.112217Z",
     "iopub.status.idle": "2022-12-05T17:31:36.518606Z",
     "shell.execute_reply": "2022-12-05T17:31:36.518236Z"
    },
    "papermill": {
     "duration": 0.417674,
     "end_time": "2022-12-05T17:31:36.520028",
     "exception": false,
     "start_time": "2022-12-05T17:31:36.102354",
     "status": "completed"
    },
    "tags": []
   },
   "outputs": [
    {
     "data": {
      "text/plain": [
       "['chr15_67863372_A_G_b38',\n",
       " 'chr2_66225398_G_A_b38',\n",
       " 'chr15_98516167_G_T_b38',\n",
       " 'chr3_3210386_T_TA_b38',\n",
       " 'chr11_57072516_G_A_b38']"
      ]
     },
     "execution_count": 14,
     "metadata": {},
     "output_type": "execute_result"
    }
   ],
   "source": [
    "list(gwas_variants_ids_set)[:5]"
   ]
  },
  {
   "cell_type": "markdown",
   "id": "07866999-2305-41f9-a144-e69c9122c212",
   "metadata": {
    "papermill": {
     "duration": 0.009482,
     "end_time": "2022-12-05T17:31:36.539862",
     "exception": false,
     "start_time": "2022-12-05T17:31:36.530380",
     "status": "completed"
    },
    "tags": []
   },
   "source": [
    "## S-PrediXcan tissue models"
   ]
  },
  {
   "cell_type": "code",
   "execution_count": 15,
   "id": "780611d9-77c8-405f-90a4-f271f7b09397",
   "metadata": {
    "execution": {
     "iopub.execute_input": "2022-12-05T17:31:36.560453Z",
     "iopub.status.busy": "2022-12-05T17:31:36.560262Z",
     "iopub.status.idle": "2022-12-05T17:31:37.240275Z",
     "shell.execute_reply": "2022-12-05T17:31:37.239815Z"
    },
    "papermill": {
     "duration": 0.692502,
     "end_time": "2022-12-05T17:31:37.242044",
     "exception": false,
     "start_time": "2022-12-05T17:31:36.549542",
     "status": "completed"
    },
    "tags": []
   },
   "outputs": [],
   "source": [
    "spredixcan_genes_models = pd.read_pickle(OUTPUT_DIR_BASE / \"gene_tissues.pkl\")"
   ]
  },
  {
   "cell_type": "code",
   "execution_count": 16,
   "id": "726dd1f6-9557-4225-91fa-b3b879ea96e1",
   "metadata": {
    "execution": {
     "iopub.execute_input": "2022-12-05T17:31:37.264206Z",
     "iopub.status.busy": "2022-12-05T17:31:37.264027Z",
     "iopub.status.idle": "2022-12-05T17:31:37.277888Z",
     "shell.execute_reply": "2022-12-05T17:31:37.277406Z"
    },
    "papermill": {
     "duration": 0.025499,
     "end_time": "2022-12-05T17:31:37.279351",
     "exception": false,
     "start_time": "2022-12-05T17:31:37.253852",
     "status": "completed"
    },
    "tags": []
   },
   "outputs": [
    {
     "data": {
      "text/plain": [
       "(6442, 5)"
      ]
     },
     "execution_count": 16,
     "metadata": {},
     "output_type": "execute_result"
    }
   ],
   "source": [
    "spredixcan_genes_models.shape"
   ]
  },
  {
   "cell_type": "code",
   "execution_count": 17,
   "id": "944a1b48-222c-4eb0-b252-b9de2cbca215",
   "metadata": {
    "execution": {
     "iopub.execute_input": "2022-12-05T17:31:37.299659Z",
     "iopub.status.busy": "2022-12-05T17:31:37.299537Z",
     "iopub.status.idle": "2022-12-05T17:31:37.317082Z",
     "shell.execute_reply": "2022-12-05T17:31:37.316497Z"
    },
    "papermill": {
     "duration": 0.029182,
     "end_time": "2022-12-05T17:31:37.318541",
     "exception": false,
     "start_time": "2022-12-05T17:31:37.289359",
     "status": "completed"
    },
    "tags": []
   },
   "outputs": [
    {
     "data": {
      "text/html": [
       "<div>\n",
       "<style scoped>\n",
       "    .dataframe tbody tr th:only-of-type {\n",
       "        vertical-align: middle;\n",
       "    }\n",
       "\n",
       "    .dataframe tbody tr th {\n",
       "        vertical-align: top;\n",
       "    }\n",
       "\n",
       "    .dataframe thead th {\n",
       "        text-align: right;\n",
       "    }\n",
       "</style>\n",
       "<table border=\"1\" class=\"dataframe\">\n",
       "  <thead>\n",
       "    <tr style=\"text-align: right;\">\n",
       "      <th></th>\n",
       "      <th>gene_name</th>\n",
       "      <th>tissue</th>\n",
       "      <th>n_tissues</th>\n",
       "      <th>n_snps_used_sum</th>\n",
       "      <th>n_snps_in_model_sum</th>\n",
       "    </tr>\n",
       "    <tr>\n",
       "      <th>gene_id</th>\n",
       "      <th></th>\n",
       "      <th></th>\n",
       "      <th></th>\n",
       "      <th></th>\n",
       "      <th></th>\n",
       "    </tr>\n",
       "  </thead>\n",
       "  <tbody>\n",
       "    <tr>\n",
       "      <th>ENSG00000000419</th>\n",
       "      <td>DPM1</td>\n",
       "      <td>(Brain_Substantia_nigra, Brain_Hypothalamus)</td>\n",
       "      <td>2</td>\n",
       "      <td>2</td>\n",
       "      <td>2</td>\n",
       "    </tr>\n",
       "    <tr>\n",
       "      <th>ENSG00000000938</th>\n",
       "      <td>FGR</td>\n",
       "      <td>(Brain_Cerebellum, Esophagus_Muscularis, Brain...</td>\n",
       "      <td>36</td>\n",
       "      <td>40</td>\n",
       "      <td>40</td>\n",
       "    </tr>\n",
       "    <tr>\n",
       "      <th>ENSG00000000971</th>\n",
       "      <td>CFH</td>\n",
       "      <td>(Brain_Cerebellum, Esophagus_Muscularis, Brain...</td>\n",
       "      <td>34</td>\n",
       "      <td>44</td>\n",
       "      <td>44</td>\n",
       "    </tr>\n",
       "    <tr>\n",
       "      <th>ENSG00000001084</th>\n",
       "      <td>GCLC</td>\n",
       "      <td>(Brain_Cerebellum, Brain_Nucleus_accumbens_bas...</td>\n",
       "      <td>32</td>\n",
       "      <td>46</td>\n",
       "      <td>46</td>\n",
       "    </tr>\n",
       "    <tr>\n",
       "      <th>ENSG00000001167</th>\n",
       "      <td>NFYA</td>\n",
       "      <td>(Brain_Cerebellum, Esophagus_Muscularis, Brain...</td>\n",
       "      <td>40</td>\n",
       "      <td>47</td>\n",
       "      <td>48</td>\n",
       "    </tr>\n",
       "  </tbody>\n",
       "</table>\n",
       "</div>"
      ],
      "text/plain": [
       "                gene_name                                             tissue  \\\n",
       "gene_id                                                                        \n",
       "ENSG00000000419      DPM1       (Brain_Substantia_nigra, Brain_Hypothalamus)   \n",
       "ENSG00000000938       FGR  (Brain_Cerebellum, Esophagus_Muscularis, Brain...   \n",
       "ENSG00000000971       CFH  (Brain_Cerebellum, Esophagus_Muscularis, Brain...   \n",
       "ENSG00000001084      GCLC  (Brain_Cerebellum, Brain_Nucleus_accumbens_bas...   \n",
       "ENSG00000001167      NFYA  (Brain_Cerebellum, Esophagus_Muscularis, Brain...   \n",
       "\n",
       "                 n_tissues  n_snps_used_sum  n_snps_in_model_sum  \n",
       "gene_id                                                           \n",
       "ENSG00000000419          2                2                    2  \n",
       "ENSG00000000938         36               40                   40  \n",
       "ENSG00000000971         34               44                   44  \n",
       "ENSG00000001084         32               46                   46  \n",
       "ENSG00000001167         40               47                   48  "
      ]
     },
     "execution_count": 17,
     "metadata": {},
     "output_type": "execute_result"
    }
   ],
   "source": [
    "spredixcan_genes_models.head()"
   ]
  },
  {
   "cell_type": "code",
   "execution_count": 18,
   "id": "d1c11bb1-be0b-4f40-b360-633d6827109f",
   "metadata": {
    "execution": {
     "iopub.execute_input": "2022-12-05T17:31:37.340145Z",
     "iopub.status.busy": "2022-12-05T17:31:37.339841Z",
     "iopub.status.idle": "2022-12-05T17:31:37.353248Z",
     "shell.execute_reply": "2022-12-05T17:31:37.352853Z"
    },
    "papermill": {
     "duration": 0.024874,
     "end_time": "2022-12-05T17:31:37.354224",
     "exception": false,
     "start_time": "2022-12-05T17:31:37.329350",
     "status": "completed"
    },
    "tags": []
   },
   "outputs": [],
   "source": [
    "assert spredixcan_genes_models.index.is_unique"
   ]
  },
  {
   "cell_type": "markdown",
   "id": "a5b5092c-a13e-47c4-a92a-480fcc08f3ae",
   "metadata": {
    "papermill": {
     "duration": 0.005069,
     "end_time": "2022-12-05T17:31:37.364960",
     "exception": false,
     "start_time": "2022-12-05T17:31:37.359891",
     "status": "completed"
    },
    "tags": []
   },
   "source": [
    "## Gene info"
   ]
  },
  {
   "cell_type": "code",
   "execution_count": 19,
   "id": "7d6bb224-88e9-4358-ac10-43a41d92cdad",
   "metadata": {
    "execution": {
     "iopub.execute_input": "2022-12-05T17:31:37.375865Z",
     "iopub.status.busy": "2022-12-05T17:31:37.375521Z",
     "iopub.status.idle": "2022-12-05T17:31:37.395113Z",
     "shell.execute_reply": "2022-12-05T17:31:37.394597Z"
    },
    "papermill": {
     "duration": 0.026488,
     "end_time": "2022-12-05T17:31:37.396476",
     "exception": false,
     "start_time": "2022-12-05T17:31:37.369988",
     "status": "completed"
    },
    "tags": []
   },
   "outputs": [],
   "source": [
    "genes_info = pd.read_pickle(OUTPUT_DIR_BASE / \"genes_info.pkl\")"
   ]
  },
  {
   "cell_type": "code",
   "execution_count": 20,
   "id": "9e32abfa-546d-483e-8c18-d526e9e05903",
   "metadata": {
    "execution": {
     "iopub.execute_input": "2022-12-05T17:31:37.413412Z",
     "iopub.status.busy": "2022-12-05T17:31:37.412980Z",
     "iopub.status.idle": "2022-12-05T17:31:37.430914Z",
     "shell.execute_reply": "2022-12-05T17:31:37.430401Z"
    },
    "papermill": {
     "duration": 0.027261,
     "end_time": "2022-12-05T17:31:37.432130",
     "exception": false,
     "start_time": "2022-12-05T17:31:37.404869",
     "status": "completed"
    },
    "tags": []
   },
   "outputs": [
    {
     "data": {
      "text/plain": [
       "(6442, 7)"
      ]
     },
     "execution_count": 20,
     "metadata": {},
     "output_type": "execute_result"
    }
   ],
   "source": [
    "genes_info.shape"
   ]
  },
  {
   "cell_type": "code",
   "execution_count": 21,
   "id": "d16c3e92-85ec-468a-9a56-e25a9774a1cb",
   "metadata": {
    "execution": {
     "iopub.execute_input": "2022-12-05T17:31:37.449866Z",
     "iopub.status.busy": "2022-12-05T17:31:37.449599Z",
     "iopub.status.idle": "2022-12-05T17:31:37.478245Z",
     "shell.execute_reply": "2022-12-05T17:31:37.477504Z"
    },
    "papermill": {
     "duration": 0.039836,
     "end_time": "2022-12-05T17:31:37.480021",
     "exception": false,
     "start_time": "2022-12-05T17:31:37.440185",
     "status": "completed"
    },
    "tags": []
   },
   "outputs": [
    {
     "data": {
      "text/html": [
       "<div>\n",
       "<style scoped>\n",
       "    .dataframe tbody tr th:only-of-type {\n",
       "        vertical-align: middle;\n",
       "    }\n",
       "\n",
       "    .dataframe tbody tr th {\n",
       "        vertical-align: top;\n",
       "    }\n",
       "\n",
       "    .dataframe thead th {\n",
       "        text-align: right;\n",
       "    }\n",
       "</style>\n",
       "<table border=\"1\" class=\"dataframe\">\n",
       "  <thead>\n",
       "    <tr style=\"text-align: right;\">\n",
       "      <th></th>\n",
       "      <th>name</th>\n",
       "      <th>id</th>\n",
       "      <th>chr</th>\n",
       "      <th>band</th>\n",
       "      <th>start_position</th>\n",
       "      <th>end_position</th>\n",
       "      <th>gene_length</th>\n",
       "    </tr>\n",
       "  </thead>\n",
       "  <tbody>\n",
       "    <tr>\n",
       "      <th>0</th>\n",
       "      <td>ASPM</td>\n",
       "      <td>ENSG00000066279</td>\n",
       "      <td>1</td>\n",
       "      <td>1q31.3</td>\n",
       "      <td>197084127</td>\n",
       "      <td>197146694</td>\n",
       "      <td>62567</td>\n",
       "    </tr>\n",
       "    <tr>\n",
       "      <th>1</th>\n",
       "      <td>GPAM</td>\n",
       "      <td>ENSG00000119927</td>\n",
       "      <td>10</td>\n",
       "      <td>10q25.2</td>\n",
       "      <td>112149865</td>\n",
       "      <td>112215377</td>\n",
       "      <td>65512</td>\n",
       "    </tr>\n",
       "    <tr>\n",
       "      <th>2</th>\n",
       "      <td>MAPK7</td>\n",
       "      <td>ENSG00000166484</td>\n",
       "      <td>17</td>\n",
       "      <td>17p11.2</td>\n",
       "      <td>19377721</td>\n",
       "      <td>19383544</td>\n",
       "      <td>5823</td>\n",
       "    </tr>\n",
       "    <tr>\n",
       "      <th>3</th>\n",
       "      <td>SLC3A2</td>\n",
       "      <td>ENSG00000168003</td>\n",
       "      <td>11</td>\n",
       "      <td>11q12.3</td>\n",
       "      <td>62856102</td>\n",
       "      <td>62888875</td>\n",
       "      <td>32773</td>\n",
       "    </tr>\n",
       "    <tr>\n",
       "      <th>4</th>\n",
       "      <td>GINS2</td>\n",
       "      <td>ENSG00000131153</td>\n",
       "      <td>16</td>\n",
       "      <td>16q24.1</td>\n",
       "      <td>85676198</td>\n",
       "      <td>85690073</td>\n",
       "      <td>13875</td>\n",
       "    </tr>\n",
       "  </tbody>\n",
       "</table>\n",
       "</div>"
      ],
      "text/plain": [
       "     name               id  chr     band  start_position  end_position  \\\n",
       "0    ASPM  ENSG00000066279    1   1q31.3       197084127     197146694   \n",
       "1    GPAM  ENSG00000119927   10  10q25.2       112149865     112215377   \n",
       "2   MAPK7  ENSG00000166484   17  17p11.2        19377721      19383544   \n",
       "3  SLC3A2  ENSG00000168003   11  11q12.3        62856102      62888875   \n",
       "4   GINS2  ENSG00000131153   16  16q24.1        85676198      85690073   \n",
       "\n",
       "   gene_length  \n",
       "0        62567  \n",
       "1        65512  \n",
       "2         5823  \n",
       "3        32773  \n",
       "4        13875  "
      ]
     },
     "execution_count": 21,
     "metadata": {},
     "output_type": "execute_result"
    }
   ],
   "source": [
    "genes_info.head()"
   ]
  },
  {
   "cell_type": "markdown",
   "id": "d3843e06",
   "metadata": {
    "papermill": {
     "duration": 0.010325,
     "end_time": "2022-12-05T17:31:37.501064",
     "exception": false,
     "start_time": "2022-12-05T17:31:37.490739",
     "status": "completed"
    },
    "tags": []
   },
   "source": [
    "# Compute correlations"
   ]
  },
  {
   "cell_type": "code",
   "execution_count": 22,
   "id": "cb859c15-d1f3-4006-a74c-2b83c0db9611",
   "metadata": {
    "execution": {
     "iopub.execute_input": "2022-12-05T17:31:37.523559Z",
     "iopub.status.busy": "2022-12-05T17:31:37.523065Z",
     "iopub.status.idle": "2022-12-05T17:31:37.547267Z",
     "shell.execute_reply": "2022-12-05T17:31:37.546557Z"
    },
    "papermill": {
     "duration": 0.037674,
     "end_time": "2022-12-05T17:31:37.549062",
     "exception": false,
     "start_time": "2022-12-05T17:31:37.511388",
     "status": "completed"
    },
    "tags": []
   },
   "outputs": [
    {
     "data": {
      "text/plain": [
       "PosixPath('/opt/data/projects/asthma-copd/results/gls_phenoplier/gene_corrs/aco/by_chr/gene_corrs-chr15.pkl')"
      ]
     },
     "metadata": {},
     "output_type": "display_data"
    }
   ],
   "source": [
    "output_dir = OUTPUT_DIR_BASE / \"by_chr\"\n",
    "output_dir.mkdir(exist_ok=True, parents=True)\n",
    "output_file = output_dir / f\"gene_corrs-chr{CHROMOSOME}.pkl\"\n",
    "display(output_file)"
   ]
  },
  {
   "cell_type": "code",
   "execution_count": 23,
   "id": "aa674fe4-6794-4eed-98fa-32b39d1d4ace",
   "metadata": {
    "execution": {
     "iopub.execute_input": "2022-12-05T17:31:37.572904Z",
     "iopub.status.busy": "2022-12-05T17:31:37.572472Z",
     "iopub.status.idle": "2022-12-05T17:31:37.594544Z",
     "shell.execute_reply": "2022-12-05T17:31:37.593955Z"
    },
    "papermill": {
     "duration": 0.035506,
     "end_time": "2022-12-05T17:31:37.596410",
     "exception": false,
     "start_time": "2022-12-05T17:31:37.560904",
     "status": "completed"
    },
    "tags": []
   },
   "outputs": [],
   "source": [
    "warnings.filterwarnings(\"error\")"
   ]
  },
  {
   "cell_type": "code",
   "execution_count": 24,
   "id": "44d5450b-3baf-43f1-9e2e-4b06f1a785f8",
   "metadata": {
    "execution": {
     "iopub.execute_input": "2022-12-05T17:31:37.620104Z",
     "iopub.status.busy": "2022-12-05T17:31:37.619743Z",
     "iopub.status.idle": "2022-12-05T17:31:37.642720Z",
     "shell.execute_reply": "2022-12-05T17:31:37.642131Z"
    },
    "papermill": {
     "duration": 0.036239,
     "end_time": "2022-12-05T17:31:37.644587",
     "exception": false,
     "start_time": "2022-12-05T17:31:37.608348",
     "status": "completed"
    },
    "tags": []
   },
   "outputs": [],
   "source": [
    "# standard checks\n",
    "all_chrs = genes_info[\"chr\"].dropna().unique()\n",
    "assert all_chrs.shape[0] == 22\n",
    "\n",
    "# select chromosome given by the user\n",
    "assert CHROMOSOME in all_chrs"
   ]
  },
  {
   "cell_type": "code",
   "execution_count": 25,
   "id": "2d7c043c-92a7-4d35-991b-fa69ac1e0268",
   "metadata": {
    "execution": {
     "iopub.execute_input": "2022-12-05T17:31:37.668040Z",
     "iopub.status.busy": "2022-12-05T17:31:37.667613Z",
     "iopub.status.idle": "2022-12-05T17:31:37.692961Z",
     "shell.execute_reply": "2022-12-05T17:31:37.692394Z"
    },
    "papermill": {
     "duration": 0.038435,
     "end_time": "2022-12-05T17:31:37.694571",
     "exception": false,
     "start_time": "2022-12-05T17:31:37.656136",
     "status": "completed"
    },
    "tags": []
   },
   "outputs": [
    {
     "name": "stdout",
     "output_type": "stream",
     "text": [
      "Number of genes in chromosome: 187\n"
     ]
    }
   ],
   "source": [
    "# run only on the chromosome specified\n",
    "all_chrs = [CHROMOSOME]\n",
    "genes_chr = genes_info[genes_info[\"chr\"] == CHROMOSOME]\n",
    "\n",
    "# For testing purposes\n",
    "# genes_chr = genes_chr.sample(n=20)\n",
    "\n",
    "print(f\"Number of genes in chromosome: {genes_chr.shape[0]}\", flush=True)"
   ]
  },
  {
   "cell_type": "code",
   "execution_count": 26,
   "id": "916015d8-2979-46d3-a9b9-1cf5a0932c6a",
   "metadata": {
    "execution": {
     "iopub.execute_input": "2022-12-05T17:31:37.717886Z",
     "iopub.status.busy": "2022-12-05T17:31:37.717550Z",
     "iopub.status.idle": "2022-12-05T17:31:37.741089Z",
     "shell.execute_reply": "2022-12-05T17:31:37.740625Z"
    },
    "papermill": {
     "duration": 0.036741,
     "end_time": "2022-12-05T17:31:37.742737",
     "exception": false,
     "start_time": "2022-12-05T17:31:37.705996",
     "status": "completed"
    },
    "tags": []
   },
   "outputs": [],
   "source": [
    "# sort genes by starting position to make visualizations better later\n",
    "genes_chr = genes_chr.sort_values(\"start_position\")"
   ]
  },
  {
   "cell_type": "code",
   "execution_count": 27,
   "id": "a38aa74a-8ad3-47f6-8ef9-56be0e011774",
   "metadata": {
    "execution": {
     "iopub.execute_input": "2022-12-05T17:31:37.766979Z",
     "iopub.status.busy": "2022-12-05T17:31:37.766664Z",
     "iopub.status.idle": "2022-12-05T17:31:37.789452Z",
     "shell.execute_reply": "2022-12-05T17:31:37.788924Z"
    },
    "papermill": {
     "duration": 0.036644,
     "end_time": "2022-12-05T17:31:37.791261",
     "exception": false,
     "start_time": "2022-12-05T17:31:37.754617",
     "status": "completed"
    },
    "tags": []
   },
   "outputs": [],
   "source": [
    "gene_chr_objs = [Gene(ensembl_id=gene_id) for gene_id in genes_chr[\"id\"]]"
   ]
  },
  {
   "cell_type": "code",
   "execution_count": 28,
   "id": "570f974f-13c3-42b6-ad3a-ce99ca885c1a",
   "metadata": {
    "execution": {
     "iopub.execute_input": "2022-12-05T17:31:37.814976Z",
     "iopub.status.busy": "2022-12-05T17:31:37.814600Z",
     "iopub.status.idle": "2022-12-05T17:31:37.838319Z",
     "shell.execute_reply": "2022-12-05T17:31:37.837694Z"
    },
    "papermill": {
     "duration": 0.037105,
     "end_time": "2022-12-05T17:31:37.840065",
     "exception": false,
     "start_time": "2022-12-05T17:31:37.802960",
     "status": "completed"
    },
    "tags": []
   },
   "outputs": [
    {
     "name": "stdout",
     "output_type": "stream",
     "text": [
      "Number of gene combinations: 17578\n"
     ]
    }
   ],
   "source": [
    "n = len(gene_chr_objs)\n",
    "# diagonal elements + upper triangular matrix\n",
    "n_comb = n + int(n * (n - 1) / 2.0)\n",
    "print(f\"Number of gene combinations: {n_comb}\", flush=True)"
   ]
  },
  {
   "cell_type": "code",
   "execution_count": 29,
   "id": "cdbb90a1",
   "metadata": {
    "execution": {
     "iopub.execute_input": "2022-12-05T17:31:37.863973Z",
     "iopub.status.busy": "2022-12-05T17:31:37.863635Z",
     "iopub.status.idle": "2022-12-05T17:34:14.370482Z",
     "shell.execute_reply": "2022-12-05T17:34:14.369953Z"
    },
    "papermill": {
     "duration": 156.520053,
     "end_time": "2022-12-05T17:34:14.371817",
     "exception": false,
     "start_time": "2022-12-05T17:31:37.851764",
     "status": "completed"
    },
    "tags": []
   },
   "outputs": [
    {
     "name": "stderr",
     "output_type": "stream",
     "text": [
      "ENSG00000185418 / ENSG00000185418: 100%|█████████████████████| 17578/17578 [02:36<00:00, 112.34it/s]\n"
     ]
    },
    {
     "data": {
      "text/plain": [
       "PosixPath('/opt/data/projects/asthma-copd/results/gls_phenoplier/gene_corrs/aco/by_chr/gene_corrs-chr15.pkl')"
      ]
     },
     "metadata": {},
     "output_type": "display_data"
    }
   ],
   "source": [
    "gene_corrs = []\n",
    "gene_corrs_data = np.full(\n",
    "    (n, n),\n",
    "    np.nan,\n",
    "    dtype=np.float64,\n",
    ")\n",
    "\n",
    "i = 0\n",
    "with tqdm(ncols=100, total=n_comb) as pbar:\n",
    "    for gene1_idx in range(0, len(gene_chr_objs)):\n",
    "        gene1_obj = gene_chr_objs[gene1_idx]\n",
    "        gene1_tissues = spredixcan_genes_models.loc[gene1_obj.ensembl_id, \"tissue\"]\n",
    "\n",
    "        for gene2_idx in range(gene1_idx, len(gene_chr_objs)):\n",
    "            gene2_obj = gene_chr_objs[gene2_idx]\n",
    "            gene2_tissues = spredixcan_genes_models.loc[gene2_obj.ensembl_id, \"tissue\"]\n",
    "\n",
    "            pbar.set_description(f\"{gene1_obj.ensembl_id} / {gene2_obj.ensembl_id}\")\n",
    "\n",
    "            try:\n",
    "                r = gene1_obj.get_ssm_correlation(\n",
    "                    other_gene=gene2_obj,\n",
    "                    tissues=gene1_tissues,\n",
    "                    other_tissues=gene2_tissues,\n",
    "                    snps_subset=gwas_variants_ids_set,\n",
    "                    condition_number=SMULTIXCAN_CONDITION_NUMBER,\n",
    "                    reference_panel=REFERENCE_PANEL,\n",
    "                    model_type=EQTL_MODEL,\n",
    "                    use_within_distance=COMPUTE_CORRELATIONS_WITHIN_DISTANCE,\n",
    "                )\n",
    "\n",
    "                if r is None:\n",
    "                    # if r is None, it's very likely because:\n",
    "                    #  * one of the genes has no prediction models\n",
    "                    #  * all the SNPs predictors for the gene are not present in the reference\n",
    "                    #    panel\n",
    "\n",
    "                    r = 0.0\n",
    "\n",
    "                gene_corrs.append(r)\n",
    "\n",
    "                gene_corrs_data[gene1_idx, gene2_idx] = r\n",
    "                gene_corrs_data[gene2_idx, gene1_idx] = r\n",
    "            except Warning as e:\n",
    "                if not DEBUG_MODE:\n",
    "                    raise e\n",
    "\n",
    "                print(\n",
    "                    f\"RuntimeWarning for genes {gene1_obj.ensembl_id} and {gene2_obj.ensembl_id}\",\n",
    "                    flush=True,\n",
    "                )\n",
    "                print(traceback.format_exc(), flush=True)\n",
    "\n",
    "                gene_corrs.append(np.nan)\n",
    "            except Exception as e:\n",
    "                if not DEBUG_MODE:\n",
    "                    raise e\n",
    "\n",
    "                print(\n",
    "                    f\"Exception for genes {gene1_obj.ensembl_id} and {gene2_obj.ensembl_id}\",\n",
    "                    flush=True,\n",
    "                )\n",
    "                print(traceback.format_exc(), flush=True)\n",
    "\n",
    "                gene_corrs.append(np.nan)\n",
    "\n",
    "            pbar.update(1)\n",
    "\n",
    "# create a pandas series\n",
    "gene_corrs_flat = pd.Series(gene_corrs)\n",
    "\n",
    "# save\n",
    "# FIXME: consider saving only the condenced matrix here. See here for\n",
    "# more details: https://github.com/greenelab/phenoplier/pull/38#discussion_r634600813\n",
    "# gene_corrs_data = squareform(np.array(gene_corrs, dtype=np.float64))\n",
    "# np.fill_diagonal(gene_corrs_data, 1.0)\n",
    "\n",
    "gene_chr_ids = [g.ensembl_id for g in gene_chr_objs]\n",
    "gene_corrs_df = pd.DataFrame(\n",
    "    data=gene_corrs_data,\n",
    "    index=gene_chr_ids,\n",
    "    columns=gene_chr_ids,\n",
    ")\n",
    "\n",
    "output_dir.mkdir(exist_ok=True, parents=True)\n",
    "display(output_file)\n",
    "\n",
    "gene_corrs_df.to_pickle(output_file)"
   ]
  },
  {
   "cell_type": "markdown",
   "id": "faa67b51-5373-470f-aa72-2ded53fa6dfe",
   "metadata": {
    "papermill": {
     "duration": 0.531971,
     "end_time": "2022-12-05T17:34:15.476433",
     "exception": false,
     "start_time": "2022-12-05T17:34:14.944462",
     "status": "completed"
    },
    "tags": []
   },
   "source": [
    "# Testing"
   ]
  },
  {
   "cell_type": "code",
   "execution_count": 30,
   "id": "14f7d046-4b55-4896-a56b-990127bcc388",
   "metadata": {
    "execution": {
     "iopub.execute_input": "2022-12-05T17:34:16.504462Z",
     "iopub.status.busy": "2022-12-05T17:34:16.503739Z",
     "iopub.status.idle": "2022-12-05T17:34:16.532557Z",
     "shell.execute_reply": "2022-12-05T17:34:16.531942Z"
    },
    "papermill": {
     "duration": 0.523701,
     "end_time": "2022-12-05T17:34:16.533480",
     "exception": false,
     "start_time": "2022-12-05T17:34:16.009779",
     "status": "completed"
    },
    "tags": []
   },
   "outputs": [
    {
     "data": {
      "text/plain": [
       "(187, 187)"
      ]
     },
     "execution_count": 30,
     "metadata": {},
     "output_type": "execute_result"
    }
   ],
   "source": [
    "gene_corrs_df.shape"
   ]
  },
  {
   "cell_type": "code",
   "execution_count": 31,
   "id": "c7d15414-3297-4537-a7c6-7588c0baeb75",
   "metadata": {
    "execution": {
     "iopub.execute_input": "2022-12-05T17:34:17.605897Z",
     "iopub.status.busy": "2022-12-05T17:34:17.605404Z",
     "iopub.status.idle": "2022-12-05T17:34:17.629793Z",
     "shell.execute_reply": "2022-12-05T17:34:17.629428Z"
    },
    "papermill": {
     "duration": 0.558402,
     "end_time": "2022-12-05T17:34:17.630627",
     "exception": false,
     "start_time": "2022-12-05T17:34:17.072225",
     "status": "completed"
    },
    "tags": []
   },
   "outputs": [
    {
     "data": {
      "text/html": [
       "<div>\n",
       "<style scoped>\n",
       "    .dataframe tbody tr th:only-of-type {\n",
       "        vertical-align: middle;\n",
       "    }\n",
       "\n",
       "    .dataframe tbody tr th {\n",
       "        vertical-align: top;\n",
       "    }\n",
       "\n",
       "    .dataframe thead th {\n",
       "        text-align: right;\n",
       "    }\n",
       "</style>\n",
       "<table border=\"1\" class=\"dataframe\">\n",
       "  <thead>\n",
       "    <tr style=\"text-align: right;\">\n",
       "      <th></th>\n",
       "      <th>ENSG00000273749</th>\n",
       "      <th>ENSG00000275835</th>\n",
       "      <th>ENSG00000182636</th>\n",
       "      <th>ENSG00000273173</th>\n",
       "      <th>ENSG00000114062</th>\n",
       "      <th>ENSG00000206190</th>\n",
       "      <th>ENSG00000128731</th>\n",
       "      <th>ENSG00000034053</th>\n",
       "      <th>ENSG00000198690</th>\n",
       "      <th>ENSG00000166912</th>\n",
       "      <th>...</th>\n",
       "      <th>ENSG00000182175</th>\n",
       "      <th>ENSG00000140450</th>\n",
       "      <th>ENSG00000140443</th>\n",
       "      <th>ENSG00000068305</th>\n",
       "      <th>ENSG00000183475</th>\n",
       "      <th>ENSG00000184254</th>\n",
       "      <th>ENSG00000131873</th>\n",
       "      <th>ENSG00000131876</th>\n",
       "      <th>ENSG00000140479</th>\n",
       "      <th>ENSG00000185418</th>\n",
       "    </tr>\n",
       "  </thead>\n",
       "  <tbody>\n",
       "    <tr>\n",
       "      <th>ENSG00000273749</th>\n",
       "      <td>1.000000</td>\n",
       "      <td>0.068873</td>\n",
       "      <td>0.008446</td>\n",
       "      <td>0.008907</td>\n",
       "      <td>0.009385</td>\n",
       "      <td>0.013589</td>\n",
       "      <td>0.000000</td>\n",
       "      <td>0.000000</td>\n",
       "      <td>0.0</td>\n",
       "      <td>0.0</td>\n",
       "      <td>...</td>\n",
       "      <td>0.0</td>\n",
       "      <td>0.0</td>\n",
       "      <td>0.0</td>\n",
       "      <td>0.0</td>\n",
       "      <td>0.0</td>\n",
       "      <td>0.0</td>\n",
       "      <td>0.0</td>\n",
       "      <td>0.0</td>\n",
       "      <td>0.0</td>\n",
       "      <td>0.0</td>\n",
       "    </tr>\n",
       "    <tr>\n",
       "      <th>ENSG00000275835</th>\n",
       "      <td>0.068873</td>\n",
       "      <td>1.000000</td>\n",
       "      <td>0.005037</td>\n",
       "      <td>0.002480</td>\n",
       "      <td>0.013758</td>\n",
       "      <td>0.007291</td>\n",
       "      <td>0.000000</td>\n",
       "      <td>0.000000</td>\n",
       "      <td>0.0</td>\n",
       "      <td>0.0</td>\n",
       "      <td>...</td>\n",
       "      <td>0.0</td>\n",
       "      <td>0.0</td>\n",
       "      <td>0.0</td>\n",
       "      <td>0.0</td>\n",
       "      <td>0.0</td>\n",
       "      <td>0.0</td>\n",
       "      <td>0.0</td>\n",
       "      <td>0.0</td>\n",
       "      <td>0.0</td>\n",
       "      <td>0.0</td>\n",
       "    </tr>\n",
       "    <tr>\n",
       "      <th>ENSG00000182636</th>\n",
       "      <td>0.008446</td>\n",
       "      <td>0.005037</td>\n",
       "      <td>1.000000</td>\n",
       "      <td>0.006649</td>\n",
       "      <td>0.002467</td>\n",
       "      <td>0.006949</td>\n",
       "      <td>0.002722</td>\n",
       "      <td>0.000000</td>\n",
       "      <td>0.0</td>\n",
       "      <td>0.0</td>\n",
       "      <td>...</td>\n",
       "      <td>0.0</td>\n",
       "      <td>0.0</td>\n",
       "      <td>0.0</td>\n",
       "      <td>0.0</td>\n",
       "      <td>0.0</td>\n",
       "      <td>0.0</td>\n",
       "      <td>0.0</td>\n",
       "      <td>0.0</td>\n",
       "      <td>0.0</td>\n",
       "      <td>0.0</td>\n",
       "    </tr>\n",
       "    <tr>\n",
       "      <th>ENSG00000273173</th>\n",
       "      <td>0.008907</td>\n",
       "      <td>0.002480</td>\n",
       "      <td>0.006649</td>\n",
       "      <td>1.000000</td>\n",
       "      <td>0.003373</td>\n",
       "      <td>0.010036</td>\n",
       "      <td>0.001674</td>\n",
       "      <td>0.005661</td>\n",
       "      <td>0.0</td>\n",
       "      <td>0.0</td>\n",
       "      <td>...</td>\n",
       "      <td>0.0</td>\n",
       "      <td>0.0</td>\n",
       "      <td>0.0</td>\n",
       "      <td>0.0</td>\n",
       "      <td>0.0</td>\n",
       "      <td>0.0</td>\n",
       "      <td>0.0</td>\n",
       "      <td>0.0</td>\n",
       "      <td>0.0</td>\n",
       "      <td>0.0</td>\n",
       "    </tr>\n",
       "    <tr>\n",
       "      <th>ENSG00000114062</th>\n",
       "      <td>0.009385</td>\n",
       "      <td>0.013758</td>\n",
       "      <td>0.002467</td>\n",
       "      <td>0.003373</td>\n",
       "      <td>1.000000</td>\n",
       "      <td>0.005178</td>\n",
       "      <td>0.001052</td>\n",
       "      <td>0.002218</td>\n",
       "      <td>0.0</td>\n",
       "      <td>0.0</td>\n",
       "      <td>...</td>\n",
       "      <td>0.0</td>\n",
       "      <td>0.0</td>\n",
       "      <td>0.0</td>\n",
       "      <td>0.0</td>\n",
       "      <td>0.0</td>\n",
       "      <td>0.0</td>\n",
       "      <td>0.0</td>\n",
       "      <td>0.0</td>\n",
       "      <td>0.0</td>\n",
       "      <td>0.0</td>\n",
       "    </tr>\n",
       "  </tbody>\n",
       "</table>\n",
       "<p>5 rows × 187 columns</p>\n",
       "</div>"
      ],
      "text/plain": [
       "                 ENSG00000273749  ENSG00000275835  ENSG00000182636  \\\n",
       "ENSG00000273749         1.000000         0.068873         0.008446   \n",
       "ENSG00000275835         0.068873         1.000000         0.005037   \n",
       "ENSG00000182636         0.008446         0.005037         1.000000   \n",
       "ENSG00000273173         0.008907         0.002480         0.006649   \n",
       "ENSG00000114062         0.009385         0.013758         0.002467   \n",
       "\n",
       "                 ENSG00000273173  ENSG00000114062  ENSG00000206190  \\\n",
       "ENSG00000273749         0.008907         0.009385         0.013589   \n",
       "ENSG00000275835         0.002480         0.013758         0.007291   \n",
       "ENSG00000182636         0.006649         0.002467         0.006949   \n",
       "ENSG00000273173         1.000000         0.003373         0.010036   \n",
       "ENSG00000114062         0.003373         1.000000         0.005178   \n",
       "\n",
       "                 ENSG00000128731  ENSG00000034053  ENSG00000198690  \\\n",
       "ENSG00000273749         0.000000         0.000000              0.0   \n",
       "ENSG00000275835         0.000000         0.000000              0.0   \n",
       "ENSG00000182636         0.002722         0.000000              0.0   \n",
       "ENSG00000273173         0.001674         0.005661              0.0   \n",
       "ENSG00000114062         0.001052         0.002218              0.0   \n",
       "\n",
       "                 ENSG00000166912  ...  ENSG00000182175  ENSG00000140450  \\\n",
       "ENSG00000273749              0.0  ...              0.0              0.0   \n",
       "ENSG00000275835              0.0  ...              0.0              0.0   \n",
       "ENSG00000182636              0.0  ...              0.0              0.0   \n",
       "ENSG00000273173              0.0  ...              0.0              0.0   \n",
       "ENSG00000114062              0.0  ...              0.0              0.0   \n",
       "\n",
       "                 ENSG00000140443  ENSG00000068305  ENSG00000183475  \\\n",
       "ENSG00000273749              0.0              0.0              0.0   \n",
       "ENSG00000275835              0.0              0.0              0.0   \n",
       "ENSG00000182636              0.0              0.0              0.0   \n",
       "ENSG00000273173              0.0              0.0              0.0   \n",
       "ENSG00000114062              0.0              0.0              0.0   \n",
       "\n",
       "                 ENSG00000184254  ENSG00000131873  ENSG00000131876  \\\n",
       "ENSG00000273749              0.0              0.0              0.0   \n",
       "ENSG00000275835              0.0              0.0              0.0   \n",
       "ENSG00000182636              0.0              0.0              0.0   \n",
       "ENSG00000273173              0.0              0.0              0.0   \n",
       "ENSG00000114062              0.0              0.0              0.0   \n",
       "\n",
       "                 ENSG00000140479  ENSG00000185418  \n",
       "ENSG00000273749              0.0              0.0  \n",
       "ENSG00000275835              0.0              0.0  \n",
       "ENSG00000182636              0.0              0.0  \n",
       "ENSG00000273173              0.0              0.0  \n",
       "ENSG00000114062              0.0              0.0  \n",
       "\n",
       "[5 rows x 187 columns]"
      ]
     },
     "execution_count": 31,
     "metadata": {},
     "output_type": "execute_result"
    }
   ],
   "source": [
    "gene_corrs_df.head()"
   ]
  },
  {
   "cell_type": "markdown",
   "id": "dad6603f-01c6-41fb-a6f6-241051207dd8",
   "metadata": {
    "papermill": {
     "duration": 0.534518,
     "end_time": "2022-12-05T17:34:18.704672",
     "exception": false,
     "start_time": "2022-12-05T17:34:18.170154",
     "status": "completed"
    },
    "tags": []
   },
   "source": [
    "## Standard checks and stats"
   ]
  },
  {
   "cell_type": "code",
   "execution_count": 32,
   "id": "286686af-1b7b-4440-8453-6bdcbd8de19c",
   "metadata": {
    "execution": {
     "iopub.execute_input": "2022-12-05T17:34:19.747501Z",
     "iopub.status.busy": "2022-12-05T17:34:19.746887Z",
     "iopub.status.idle": "2022-12-05T17:34:19.769967Z",
     "shell.execute_reply": "2022-12-05T17:34:19.769509Z"
    },
    "papermill": {
     "duration": 0.557994,
     "end_time": "2022-12-05T17:34:19.770988",
     "exception": false,
     "start_time": "2022-12-05T17:34:19.212994",
     "status": "completed"
    },
    "tags": []
   },
   "outputs": [],
   "source": [
    "assert not gene_corrs_df.isna().any(axis=None)"
   ]
  },
  {
   "cell_type": "code",
   "execution_count": 33,
   "id": "00583efc-7068-4270-ad1e-4a418e91db96",
   "metadata": {
    "execution": {
     "iopub.execute_input": "2022-12-05T17:34:20.834045Z",
     "iopub.status.busy": "2022-12-05T17:34:20.833420Z",
     "iopub.status.idle": "2022-12-05T17:34:20.857769Z",
     "shell.execute_reply": "2022-12-05T17:34:20.857107Z"
    },
    "papermill": {
     "duration": 0.558707,
     "end_time": "2022-12-05T17:34:20.858787",
     "exception": false,
     "start_time": "2022-12-05T17:34:20.300080",
     "status": "completed"
    },
    "tags": []
   },
   "outputs": [
    {
     "data": {
      "text/plain": [
       "0.0"
      ]
     },
     "metadata": {},
     "output_type": "display_data"
    }
   ],
   "source": [
    "_min_val = gene_corrs_df.min().min()\n",
    "display(_min_val)\n",
    "assert _min_val >= -0.05"
   ]
  },
  {
   "cell_type": "code",
   "execution_count": 34,
   "id": "d04fb2cf-1050-475b-b855-f5f7cc04092b",
   "metadata": {
    "execution": {
     "iopub.execute_input": "2022-12-05T17:34:21.888252Z",
     "iopub.status.busy": "2022-12-05T17:34:21.887581Z",
     "iopub.status.idle": "2022-12-05T17:34:21.913312Z",
     "shell.execute_reply": "2022-12-05T17:34:21.912614Z"
    },
    "papermill": {
     "duration": 0.520612,
     "end_time": "2022-12-05T17:34:21.914251",
     "exception": false,
     "start_time": "2022-12-05T17:34:21.393639",
     "status": "completed"
    },
    "tags": []
   },
   "outputs": [
    {
     "data": {
      "text/plain": [
       "1.0000000000000024"
      ]
     },
     "metadata": {},
     "output_type": "display_data"
    }
   ],
   "source": [
    "_max_val = gene_corrs_df.max().max()  # this captures the diagonal\n",
    "display(_max_val)\n",
    "assert _max_val <= 1.05"
   ]
  },
  {
   "cell_type": "code",
   "execution_count": 35,
   "id": "fe283586-c348-40e0-8841-f6d97bfb021c",
   "metadata": {
    "execution": {
     "iopub.execute_input": "2022-12-05T17:34:22.996109Z",
     "iopub.status.busy": "2022-12-05T17:34:22.995723Z",
     "iopub.status.idle": "2022-12-05T17:34:23.022189Z",
     "shell.execute_reply": "2022-12-05T17:34:23.021526Z"
    },
    "papermill": {
     "duration": 0.582826,
     "end_time": "2022-12-05T17:34:23.023188",
     "exception": false,
     "start_time": "2022-12-05T17:34:22.440362",
     "status": "completed"
    },
    "tags": []
   },
   "outputs": [
    {
     "data": {
      "text/plain": [
       "count    17578.000000\n",
       "mean         0.015327\n",
       "std          0.109015\n",
       "min          0.000000\n",
       "25%          0.000000\n",
       "50%          0.000000\n",
       "75%          0.000000\n",
       "max          1.000000\n",
       "dtype: float64"
      ]
     },
     "execution_count": 35,
     "metadata": {},
     "output_type": "execute_result"
    }
   ],
   "source": [
    "gene_corrs_flat.describe()"
   ]
  },
  {
   "cell_type": "code",
   "execution_count": 36,
   "id": "b3815678-0f93-4b35-897b-a9d047a2aa78",
   "metadata": {
    "execution": {
     "iopub.execute_input": "2022-12-05T17:34:24.151245Z",
     "iopub.status.busy": "2022-12-05T17:34:24.150853Z",
     "iopub.status.idle": "2022-12-05T17:34:24.177609Z",
     "shell.execute_reply": "2022-12-05T17:34:24.176945Z"
    },
    "papermill": {
     "duration": 0.600222,
     "end_time": "2022-12-05T17:34:24.178613",
     "exception": false,
     "start_time": "2022-12-05T17:34:23.578391",
     "status": "completed"
    },
    "tags": []
   },
   "outputs": [
    {
     "data": {
      "text/plain": [
       "0.00    0.000000\n",
       "0.05    0.000000\n",
       "0.10    0.000000\n",
       "0.15    0.000000\n",
       "0.20    0.000000\n",
       "0.25    0.000000\n",
       "0.30    0.000000\n",
       "0.35    0.000000\n",
       "0.40    0.000000\n",
       "0.45    0.000000\n",
       "0.50    0.000000\n",
       "0.55    0.000000\n",
       "0.60    0.000000\n",
       "0.65    0.000000\n",
       "0.70    0.000000\n",
       "0.75    0.000000\n",
       "0.80    0.000000\n",
       "0.85    0.000000\n",
       "0.90    0.005425\n",
       "0.95    0.010597\n",
       "dtype: float64"
      ]
     },
     "metadata": {},
     "output_type": "display_data"
    }
   ],
   "source": [
    "gene_corrs_quantiles = gene_corrs_flat.quantile(np.arange(0, 1, 0.05))\n",
    "display(gene_corrs_quantiles)"
   ]
  },
  {
   "cell_type": "markdown",
   "id": "87134509-b145-4a10-8bc9-b7e914c2b0fa",
   "metadata": {
    "papermill": {
     "duration": 0.52805,
     "end_time": "2022-12-05T17:34:25.243012",
     "exception": false,
     "start_time": "2022-12-05T17:34:24.714962",
     "status": "completed"
    },
    "tags": []
   },
   "source": [
    "## Positive definiteness"
   ]
  },
  {
   "cell_type": "code",
   "execution_count": 37,
   "id": "07d9a9a1-a4f7-48aa-b916-6d42a8cc6186",
   "metadata": {
    "execution": {
     "iopub.execute_input": "2022-12-05T17:34:26.376271Z",
     "iopub.status.busy": "2022-12-05T17:34:26.375777Z",
     "iopub.status.idle": "2022-12-05T17:34:26.411385Z",
     "shell.execute_reply": "2022-12-05T17:34:26.410854Z"
    },
    "papermill": {
     "duration": 0.591428,
     "end_time": "2022-12-05T17:34:26.412318",
     "exception": false,
     "start_time": "2022-12-05T17:34:25.820890",
     "status": "completed"
    },
    "tags": []
   },
   "outputs": [
    {
     "data": {
      "text/plain": [
       "0"
      ]
     },
     "metadata": {},
     "output_type": "display_data"
    },
    {
     "data": {
      "text/plain": [
       "array([], dtype=float64)"
      ]
     },
     "metadata": {},
     "output_type": "display_data"
    }
   ],
   "source": [
    "# print negative eigenvalues\n",
    "eigs = np.linalg.eigvals(gene_corrs_df.to_numpy())\n",
    "display(len(eigs[eigs < 0]))\n",
    "display(eigs[eigs < 0])"
   ]
  },
  {
   "cell_type": "code",
   "execution_count": 38,
   "id": "6e218436-c3c5-4028-8c94-a4fa6260efce",
   "metadata": {
    "execution": {
     "iopub.execute_input": "2022-12-05T17:34:27.526280Z",
     "iopub.status.busy": "2022-12-05T17:34:27.525903Z",
     "iopub.status.idle": "2022-12-05T17:34:27.550866Z",
     "shell.execute_reply": "2022-12-05T17:34:27.550318Z"
    },
    "papermill": {
     "duration": 0.554843,
     "end_time": "2022-12-05T17:34:27.551785",
     "exception": false,
     "start_time": "2022-12-05T17:34:26.996942",
     "status": "completed"
    },
    "tags": []
   },
   "outputs": [
    {
     "name": "stdout",
     "output_type": "stream",
     "text": [
      "Works!\n"
     ]
    }
   ],
   "source": [
    "try:\n",
    "    chol_mat = np.linalg.cholesky(gene_corrs_df.to_numpy())\n",
    "    cov_inv = np.linalg.inv(chol_mat)\n",
    "    print(\"Works!\")\n",
    "except Exception as e:\n",
    "    print(f\"Cholesky decomposition failed: {str(e)}\")"
   ]
  },
  {
   "cell_type": "code",
   "execution_count": 39,
   "id": "dd8827fb-faf9-4c7c-9454-015e94752706",
   "metadata": {
    "execution": {
     "iopub.execute_input": "2022-12-05T17:34:28.631497Z",
     "iopub.status.busy": "2022-12-05T17:34:28.630973Z",
     "iopub.status.idle": "2022-12-05T17:34:28.655627Z",
     "shell.execute_reply": "2022-12-05T17:34:28.655169Z"
    },
    "papermill": {
     "duration": 0.554344,
     "end_time": "2022-12-05T17:34:28.656509",
     "exception": false,
     "start_time": "2022-12-05T17:34:28.102165",
     "status": "completed"
    },
    "tags": []
   },
   "outputs": [
    {
     "name": "stdout",
     "output_type": "stream",
     "text": [
      "Works!\n"
     ]
    }
   ],
   "source": [
    "try:\n",
    "    # decomposition used by statsmodels.GLS\n",
    "    cholsigmainv = np.linalg.cholesky(np.linalg.inv(gene_corrs_df.to_numpy())).T\n",
    "    print(\"Works!\")\n",
    "except Exception as e:\n",
    "    print(f\"Cholesky decomposition failed (statsmodels.GLS): {str(e)}\")"
   ]
  },
  {
   "cell_type": "markdown",
   "id": "8e60a080-edb2-4e9c-b2ef-22961693200c",
   "metadata": {
    "papermill": {
     "duration": 0.527953,
     "end_time": "2022-12-05T17:34:29.723508",
     "exception": false,
     "start_time": "2022-12-05T17:34:29.195555",
     "status": "completed"
    },
    "tags": []
   },
   "source": [
    "## Plot: distribution"
   ]
  },
  {
   "cell_type": "code",
   "execution_count": 40,
   "id": "8301126b-a7d4-4744-9c7d-f0f86eb6f54c",
   "metadata": {
    "execution": {
     "iopub.execute_input": "2022-12-05T17:34:30.754433Z",
     "iopub.status.busy": "2022-12-05T17:34:30.753862Z",
     "iopub.status.idle": "2022-12-05T17:34:31.026935Z",
     "shell.execute_reply": "2022-12-05T17:34:31.026372Z"
    },
    "papermill": {
     "duration": 0.811251,
     "end_time": "2022-12-05T17:34:31.028209",
     "exception": false,
     "start_time": "2022-12-05T17:34:30.216958",
     "status": "completed"
    },
    "tags": []
   },
   "outputs": [
    {
     "data": {
      "image/png": "[encoded data removed]",
      "text/plain": [
       "<Figure size 700x700 with 1 Axes>"
      ]
     },
     "metadata": {},
     "output_type": "display_data"
    }
   ],
   "source": [
    "with sns.plotting_context(\"paper\", font_scale=1.5):\n",
    "    g = sns.displot(gene_corrs_flat, kde=True, height=7)\n",
    "    g.ax.set_title(\n",
    "        f\"Distribution of gene correlation values in chromosome {CHROMOSOME}\"\n",
    "    )"
   ]
  },
  {
   "cell_type": "markdown",
   "id": "cbd52bca-d878-4a2f-b684-5c83aa3038d4",
   "metadata": {
    "papermill": {
     "duration": 0.543509,
     "end_time": "2022-12-05T17:34:32.125785",
     "exception": false,
     "start_time": "2022-12-05T17:34:31.582276",
     "status": "completed"
    },
    "tags": []
   },
   "source": [
    "## Plot: heatmap"
   ]
  },
  {
   "cell_type": "code",
   "execution_count": 41,
   "id": "d03fe63a-c7b2-4fb9-a53c-db362ce843c9",
   "metadata": {
    "execution": {
     "iopub.execute_input": "2022-12-05T17:34:33.172130Z",
     "iopub.status.busy": "2022-12-05T17:34:33.171790Z",
     "iopub.status.idle": "2022-12-05T17:34:33.192247Z",
     "shell.execute_reply": "2022-12-05T17:34:33.191678Z"
    },
    "papermill": {
     "duration": 0.527235,
     "end_time": "2022-12-05T17:34:33.193134",
     "exception": false,
     "start_time": "2022-12-05T17:34:32.665899",
     "status": "completed"
    },
    "tags": []
   },
   "outputs": [
    {
     "data": {
      "text/plain": [
       "'0.0 / 0.05'"
      ]
     },
     "metadata": {},
     "output_type": "display_data"
    }
   ],
   "source": [
    "vmin_val = min(0.00, gene_corrs_quantiles[0.10])\n",
    "vmax_val = max(0.05, gene_corrs_quantiles[0.90])\n",
    "display(f\"{vmin_val} / {vmax_val}\")"
   ]
  },
  {
   "cell_type": "code",
   "execution_count": 42,
   "id": "dc41b70b-5bcc-4d9e-9f33-a22c4a94dab5",
   "metadata": {
    "execution": {
     "iopub.execute_input": "2022-12-05T17:34:34.257220Z",
     "iopub.status.busy": "2022-12-05T17:34:34.256755Z",
     "iopub.status.idle": "2022-12-05T17:34:34.445315Z",
     "shell.execute_reply": "2022-12-05T17:34:34.444773Z"
    },
    "papermill": {
     "duration": 0.724251,
     "end_time": "2022-12-05T17:34:34.446198",
     "exception": false,
     "start_time": "2022-12-05T17:34:33.721947",
     "status": "completed"
    },
    "tags": []
   },
   "outputs": [
    {
     "data": {
      "text/plain": [
       "Text(0.5, 1.0, 'Gene correlations in chromosome 15')"
      ]
     },
     "execution_count": 42,
     "metadata": {},
     "output_type": "execute_result"
    },
    {
     "data": {
      "image/png": "[encoded data removed]",
      "text/plain": [
       "<Figure size 1000x1000 with 2 Axes>"
      ]
     },
     "metadata": {},
     "output_type": "display_data"
    }
   ],
   "source": [
    "f, ax = plt.subplots(figsize=(10, 10))\n",
    "sns.heatmap(\n",
    "    gene_corrs_df,\n",
    "    xticklabels=False,\n",
    "    yticklabels=False,\n",
    "    square=True,\n",
    "    vmin=vmin_val,\n",
    "    vmax=vmax_val,\n",
    "    cmap=\"rocket_r\",\n",
    "    ax=ax,\n",
    ")\n",
    "ax.set_title(f\"Gene correlations in chromosome {CHROMOSOME}\")"
   ]
  },
  {
   "cell_type": "code",
   "execution_count": null,
   "id": "b25e3ead",
   "metadata": {
    "papermill": {
     "duration": 0.540216,
     "end_time": "2022-12-05T17:34:35.534750",
     "exception": false,
     "start_time": "2022-12-05T17:34:34.994534",
     "status": "completed"
    },
    "tags": []
   },
   "outputs": [],
   "source": []
  }
 ],
 "metadata": {
  "jupytext": {
   "cell_metadata_filter": "all,-execution,-papermill,-trusted",
   "formats": "ipynb,py//py:percent"
  },
  "kernelspec": {
   "display_name": "Python 3 (ipykernel)",
   "language": "python",
   "name": "python3"
  },
  "language_info": {
   "codemirror_mode": {
    "name": "ipython",
    "version": 3
   },
   "file_extension": ".py",
   "mimetype": "text/x-python",
   "name": "python",
   "nbconvert_exporter": "python",
   "pygments_lexer": "ipython3",
   "version": "3.10.6"
  },
  "papermill": {
   "default_parameters": {},
   "duration": 187.736058,
   "end_time": "2022-12-05T17:34:39.528806",
   "environment_variables": {},
   "exception": null,
   "input_path": "projects/asthma-copd/nbs/20_gene_corrs/jobs/05-gene_expr_correlations.ipynb",
   "output_path": "projects/asthma-copd/nbs/20_gene_corrs/jobs/../output/aco/05-gene_expr_correlations-chr15.run.ipynb",
   "parameters": {
    "CHROMOSOME": 15,
    "COHORT_NAME": "aco",
    "OUTPUT_DIR_BASE": "/opt/data/projects/asthma-copd/results/gls_phenoplier",
    "PHENOPLIER_NOTEBOOK_FILEPATH": "projects/asthma-copd/nbs/20_gene_corrs/jobs/05-gene_expr_correlations.ipynb"
   },
   "start_time": "2022-12-05T17:31:31.792748",
   "version": "2.2.2"
  }
 },
 "nbformat": 4,
 "nbformat_minor": 5
}
