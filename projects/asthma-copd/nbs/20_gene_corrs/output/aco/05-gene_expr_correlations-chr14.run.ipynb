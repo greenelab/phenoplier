{
 "cells": [
  {
   "cell_type": "markdown",
   "id": "7a6632fb",
   "metadata": {
    "papermill": {
     "duration": 0.009187,
     "end_time": "2022-12-05T17:31:11.956785",
     "exception": false,
     "start_time": "2022-12-05T17:31:11.947598",
     "status": "completed"
    },
    "tags": []
   },
   "source": [
    "# Description"
   ]
  },
  {
   "cell_type": "markdown",
   "id": "7097c346",
   "metadata": {
    "papermill": {
     "duration": 0.008493,
     "end_time": "2022-12-05T17:31:11.974745",
     "exception": false,
     "start_time": "2022-12-05T17:31:11.966252",
     "status": "completed"
    },
    "tags": []
   },
   "source": [
    "(Please, take a look at the README.md file in this directory for instructions on how to run this notebook)\n",
    "\n",
    "This notebook computes predicted expression correlations between all genes in the MultiPLIER models.\n",
    "\n",
    "It has specicfic parameters for papermill (see under `Settings` below).\n",
    "It can be configured to run on a single chromosome to run in parallel.\n",
    "\n",
    "This notebook is not directly run. See README.md."
   ]
  },
  {
   "cell_type": "markdown",
   "id": "c61d8427",
   "metadata": {
    "papermill": {
     "duration": 0.008453,
     "end_time": "2022-12-05T17:31:11.991384",
     "exception": false,
     "start_time": "2022-12-05T17:31:11.982931",
     "status": "completed"
    },
    "tags": []
   },
   "source": [
    "# Modules"
   ]
  },
  {
   "cell_type": "code",
   "execution_count": 1,
   "id": "bbc0234f",
   "metadata": {
    "execution": {
     "iopub.execute_input": "2022-12-05T17:31:12.010901Z",
     "iopub.status.busy": "2022-12-05T17:31:12.010628Z",
     "iopub.status.idle": "2022-12-05T17:31:12.027222Z",
     "shell.execute_reply": "2022-12-05T17:31:12.026723Z"
    },
    "papermill": {
     "duration": 0.028568,
     "end_time": "2022-12-05T17:31:12.028802",
     "exception": false,
     "start_time": "2022-12-05T17:31:12.000234",
     "status": "completed"
    },
    "tags": []
   },
   "outputs": [],
   "source": [
    "%load_ext autoreload\n",
    "%autoreload 2"
   ]
  },
  {
   "cell_type": "code",
   "execution_count": 2,
   "id": "1d5f5a59",
   "metadata": {
    "execution": {
     "iopub.execute_input": "2022-12-05T17:31:12.047612Z",
     "iopub.status.busy": "2022-12-05T17:31:12.047359Z",
     "iopub.status.idle": "2022-12-05T17:31:12.716973Z",
     "shell.execute_reply": "2022-12-05T17:31:12.716487Z"
    },
    "papermill": {
     "duration": 0.680733,
     "end_time": "2022-12-05T17:31:12.718547",
     "exception": false,
     "start_time": "2022-12-05T17:31:12.037814",
     "status": "completed"
    },
    "tags": []
   },
   "outputs": [],
   "source": [
    "from random import sample, seed\n",
    "import warnings\n",
    "from pathlib import Path\n",
    "import pickle\n",
    "import traceback\n",
    "\n",
    "import numpy as np\n",
    "from scipy.spatial.distance import squareform\n",
    "import pandas as pd\n",
    "from tqdm import tqdm\n",
    "import matplotlib.pyplot as plt\n",
    "import seaborn as sns\n",
    "\n",
    "import conf\n",
    "from entity import Gene"
   ]
  },
  {
   "cell_type": "markdown",
   "id": "1eac24b5",
   "metadata": {
    "papermill": {
     "duration": 0.009733,
     "end_time": "2022-12-05T17:31:12.736568",
     "exception": false,
     "start_time": "2022-12-05T17:31:12.726835",
     "status": "completed"
    },
    "tags": []
   },
   "source": [
    "# Settings"
   ]
  },
  {
   "cell_type": "code",
   "execution_count": 3,
   "id": "ca4560ba",
   "metadata": {
    "execution": {
     "iopub.execute_input": "2022-12-05T17:31:12.749622Z",
     "iopub.status.busy": "2022-12-05T17:31:12.749484Z",
     "iopub.status.idle": "2022-12-05T17:31:12.763205Z",
     "shell.execute_reply": "2022-12-05T17:31:12.762784Z"
    },
    "papermill": {
     "duration": 0.019826,
     "end_time": "2022-12-05T17:31:12.764246",
     "exception": false,
     "start_time": "2022-12-05T17:31:12.744420",
     "status": "completed"
    },
    "tags": [
     "parameters"
    ]
   },
   "outputs": [],
   "source": [
    "# a cohort name (it could be something like UK_BIOBANK, etc)\n",
    "COHORT_NAME = None\n",
    "\n",
    "# reference panel such as 1000G or GTEX_V8\n",
    "REFERENCE_PANEL = \"GTEX_V8\"\n",
    "\n",
    "# predictions models such as MASHR or ELASTIC_NET\n",
    "EQTL_MODEL = \"MASHR\"\n",
    "\n",
    "# this is the default value used in S-MultiXcan to select the\n",
    "# top principal components of the expression correlation matrix\n",
    "SMULTIXCAN_CONDITION_NUMBER = 30\n",
    "\n",
    "# specifies a single chromosome value\n",
    "CHROMOSOME = None\n",
    "\n",
    "# If True, computes the correlation between closeby genes only (see\n",
    "# entity.Gene.within_distance for more details). Otherwise, it computes\n",
    "# correlations for all genes in a chromosome\n",
    "COMPUTE_CORRELATIONS_WITHIN_DISTANCE = True\n",
    "\n",
    "# if True, then it will continue if a gene pair correlation fails,\n",
    "# printing the warning/error for debugging. If False, any warning/error\n",
    "# will be thrown\n",
    "DEBUG_MODE = False\n",
    "\n",
    "# output dir\n",
    "OUTPUT_DIR_BASE = None"
   ]
  },
  {
   "cell_type": "code",
   "execution_count": 4,
   "id": "b0289ae2",
   "metadata": {
    "execution": {
     "iopub.execute_input": "2022-12-05T17:31:12.775877Z",
     "iopub.status.busy": "2022-12-05T17:31:12.775692Z",
     "iopub.status.idle": "2022-12-05T17:31:12.793295Z",
     "shell.execute_reply": "2022-12-05T17:31:12.792822Z"
    },
    "papermill": {
     "duration": 0.025853,
     "end_time": "2022-12-05T17:31:12.794645",
     "exception": false,
     "start_time": "2022-12-05T17:31:12.768792",
     "status": "completed"
    },
    "tags": [
     "injected-parameters"
    ]
   },
   "outputs": [],
   "source": [
    "# Parameters\n",
    "PHENOPLIER_NOTEBOOK_FILEPATH = (\n",
    "    \"projects/asthma-copd/nbs/20_gene_corrs/jobs/05-gene_expr_correlations.ipynb\"\n",
    ")\n",
    "COHORT_NAME = \"aco\"\n",
    "CHROMOSOME = 14\n",
    "OUTPUT_DIR_BASE = \"/opt/data/projects/asthma-copd/results/gls_phenoplier\"\n"
   ]
  },
  {
   "cell_type": "code",
   "execution_count": 5,
   "id": "3190631f-27fc-480f-b18e-571d580425a5",
   "metadata": {
    "execution": {
     "iopub.execute_input": "2022-12-05T17:31:12.808522Z",
     "iopub.status.busy": "2022-12-05T17:31:12.808174Z",
     "iopub.status.idle": "2022-12-05T17:31:12.837077Z",
     "shell.execute_reply": "2022-12-05T17:31:12.836406Z"
    },
    "papermill": {
     "duration": 0.037513,
     "end_time": "2022-12-05T17:31:12.838787",
     "exception": false,
     "start_time": "2022-12-05T17:31:12.801274",
     "status": "completed"
    },
    "tags": []
   },
   "outputs": [
    {
     "data": {
      "text/plain": [
       "'Cohort name: aco'"
      ]
     },
     "metadata": {},
     "output_type": "display_data"
    }
   ],
   "source": [
    "assert COHORT_NAME is not None and len(COHORT_NAME) > 0, \"A cohort name must be given\"\n",
    "\n",
    "COHORT_NAME = COHORT_NAME.lower()\n",
    "display(f\"Cohort name: {COHORT_NAME}\")"
   ]
  },
  {
   "cell_type": "code",
   "execution_count": 6,
   "id": "f53ba19b-0f93-4fa2-a047-63b375939d1a",
   "metadata": {
    "execution": {
     "iopub.execute_input": "2022-12-05T17:31:12.857535Z",
     "iopub.status.busy": "2022-12-05T17:31:12.857186Z",
     "iopub.status.idle": "2022-12-05T17:31:12.880612Z",
     "shell.execute_reply": "2022-12-05T17:31:12.879967Z"
    },
    "papermill": {
     "duration": 0.03439,
     "end_time": "2022-12-05T17:31:12.882266",
     "exception": false,
     "start_time": "2022-12-05T17:31:12.847876",
     "status": "completed"
    },
    "tags": []
   },
   "outputs": [
    {
     "data": {
      "text/plain": [
       "'Reference panel: GTEX_V8'"
      ]
     },
     "metadata": {},
     "output_type": "display_data"
    }
   ],
   "source": [
    "assert (\n",
    "    REFERENCE_PANEL is not None and len(REFERENCE_PANEL) > 0\n",
    "), \"A reference panel must be given\"\n",
    "\n",
    "display(f\"Reference panel: {REFERENCE_PANEL}\")"
   ]
  },
  {
   "cell_type": "code",
   "execution_count": 7,
   "id": "e024d130-c139-429a-9c6e-ccf149e297b0",
   "metadata": {
    "execution": {
     "iopub.execute_input": "2022-12-05T17:31:12.901809Z",
     "iopub.status.busy": "2022-12-05T17:31:12.901352Z",
     "iopub.status.idle": "2022-12-05T17:31:12.925034Z",
     "shell.execute_reply": "2022-12-05T17:31:12.924385Z"
    },
    "papermill": {
     "duration": 0.034905,
     "end_time": "2022-12-05T17:31:12.926646",
     "exception": false,
     "start_time": "2022-12-05T17:31:12.891741",
     "status": "completed"
    },
    "tags": []
   },
   "outputs": [
    {
     "data": {
      "text/plain": [
       "'eQTL model: MASHR) / mashr_'"
      ]
     },
     "metadata": {},
     "output_type": "display_data"
    }
   ],
   "source": [
    "assert (\n",
    "    EQTL_MODEL is not None and len(EQTL_MODEL) > 0\n",
    "), \"A prediction/eQTL model must be given\"\n",
    "\n",
    "EQTL_MODEL_FILES_PREFIX = conf.PHENOMEXCAN[\"PREDICTION_MODELS\"][f\"{EQTL_MODEL}_PREFIX\"]\n",
    "display(f\"eQTL model: {EQTL_MODEL}) / {EQTL_MODEL_FILES_PREFIX}\")"
   ]
  },
  {
   "cell_type": "code",
   "execution_count": 8,
   "id": "552a7f63-a18c-4d3e-bb6a-94f99b431291",
   "metadata": {
    "execution": {
     "iopub.execute_input": "2022-12-05T17:31:12.945655Z",
     "iopub.status.busy": "2022-12-05T17:31:12.945157Z",
     "iopub.status.idle": "2022-12-05T17:31:12.968579Z",
     "shell.execute_reply": "2022-12-05T17:31:12.967921Z"
    },
    "papermill": {
     "duration": 0.034664,
     "end_time": "2022-12-05T17:31:12.970259",
     "exception": false,
     "start_time": "2022-12-05T17:31:12.935595",
     "status": "completed"
    },
    "tags": []
   },
   "outputs": [
    {
     "data": {
      "text/plain": [
       "'S-MultiXcan condition number: 30'"
      ]
     },
     "metadata": {},
     "output_type": "display_data"
    }
   ],
   "source": [
    "assert (\n",
    "    SMULTIXCAN_CONDITION_NUMBER is not None and SMULTIXCAN_CONDITION_NUMBER > 0\n",
    "), \"The S-MultiXcan condition number (positive integer) must be given\"\n",
    "\n",
    "display(f\"S-MultiXcan condition number: {SMULTIXCAN_CONDITION_NUMBER}\")"
   ]
  },
  {
   "cell_type": "code",
   "execution_count": 9,
   "id": "f34a336f-548e-4afe-8955-90eaea4f42c6",
   "metadata": {
    "execution": {
     "iopub.execute_input": "2022-12-05T17:31:12.990123Z",
     "iopub.status.busy": "2022-12-05T17:31:12.989563Z",
     "iopub.status.idle": "2022-12-05T17:31:13.013000Z",
     "shell.execute_reply": "2022-12-05T17:31:13.012327Z"
    },
    "papermill": {
     "duration": 0.0348,
     "end_time": "2022-12-05T17:31:13.014642",
     "exception": false,
     "start_time": "2022-12-05T17:31:12.979842",
     "status": "completed"
    },
    "tags": []
   },
   "outputs": [
    {
     "data": {
      "text/plain": [
       "'Working on chromosome 14'"
      ]
     },
     "metadata": {},
     "output_type": "display_data"
    }
   ],
   "source": [
    "assert CHROMOSOME is not None and (\n",
    "    1 <= CHROMOSOME <= 22\n",
    "), \"You have to select one chromosome (format: number between 1 and 22)\"\n",
    "\n",
    "display(f\"Working on chromosome {CHROMOSOME}\")"
   ]
  },
  {
   "cell_type": "code",
   "execution_count": 10,
   "id": "ab8e96e8-06b5-4363-9dcd-dc4d78cc27f7",
   "metadata": {
    "execution": {
     "iopub.execute_input": "2022-12-05T17:31:13.034203Z",
     "iopub.status.busy": "2022-12-05T17:31:13.033834Z",
     "iopub.status.idle": "2022-12-05T17:31:13.057384Z",
     "shell.execute_reply": "2022-12-05T17:31:13.056728Z"
    },
    "papermill": {
     "duration": 0.035161,
     "end_time": "2022-12-05T17:31:13.059021",
     "exception": false,
     "start_time": "2022-12-05T17:31:13.023860",
     "status": "completed"
    },
    "tags": []
   },
   "outputs": [
    {
     "data": {
      "text/plain": [
       "'Compute correlation within distance True'"
      ]
     },
     "metadata": {},
     "output_type": "display_data"
    }
   ],
   "source": [
    "display(f\"Compute correlation within distance {COMPUTE_CORRELATIONS_WITHIN_DISTANCE}\")"
   ]
  },
  {
   "cell_type": "code",
   "execution_count": 11,
   "id": "b393b698-77e3-4ba2-8ac1-e14d51aa988f",
   "metadata": {
    "execution": {
     "iopub.execute_input": "2022-12-05T17:31:13.079603Z",
     "iopub.status.busy": "2022-12-05T17:31:13.079089Z",
     "iopub.status.idle": "2022-12-05T17:31:13.103382Z",
     "shell.execute_reply": "2022-12-05T17:31:13.102723Z"
    },
    "papermill": {
     "duration": 0.036541,
     "end_time": "2022-12-05T17:31:13.105049",
     "exception": false,
     "start_time": "2022-12-05T17:31:13.068508",
     "status": "completed"
    },
    "tags": []
   },
   "outputs": [
    {
     "data": {
      "text/plain": [
       "'Using output dir base: /opt/data/projects/asthma-copd/results/gls_phenoplier/gene_corrs/aco'"
      ]
     },
     "metadata": {},
     "output_type": "display_data"
    }
   ],
   "source": [
    "assert (\n",
    "    OUTPUT_DIR_BASE is not None and len(OUTPUT_DIR_BASE) > 0\n",
    "), \"Output directory path must be given\"\n",
    "\n",
    "OUTPUT_DIR_BASE = (Path(OUTPUT_DIR_BASE) / \"gene_corrs\" / COHORT_NAME).resolve()\n",
    "\n",
    "OUTPUT_DIR_BASE.mkdir(parents=True, exist_ok=True)\n",
    "\n",
    "display(f\"Using output dir base: {OUTPUT_DIR_BASE}\")"
   ]
  },
  {
   "cell_type": "markdown",
   "id": "d2ba085e",
   "metadata": {
    "papermill": {
     "duration": 0.008725,
     "end_time": "2022-12-05T17:31:13.123511",
     "exception": false,
     "start_time": "2022-12-05T17:31:13.114786",
     "status": "completed"
    },
    "tags": []
   },
   "source": [
    "# Load data"
   ]
  },
  {
   "cell_type": "markdown",
   "id": "7dcb8db7",
   "metadata": {
    "papermill": {
     "duration": 0.004672,
     "end_time": "2022-12-05T17:31:13.133661",
     "exception": false,
     "start_time": "2022-12-05T17:31:13.128989",
     "status": "completed"
    },
    "tags": []
   },
   "source": [
    "## GWAS variants"
   ]
  },
  {
   "cell_type": "code",
   "execution_count": 12,
   "id": "29434c4e-8cd3-4b9b-82e4-b5a251d9dd19",
   "metadata": {
    "execution": {
     "iopub.execute_input": "2022-12-05T17:31:13.144448Z",
     "iopub.status.busy": "2022-12-05T17:31:13.144093Z",
     "iopub.status.idle": "2022-12-05T17:31:15.317718Z",
     "shell.execute_reply": "2022-12-05T17:31:15.317295Z"
    },
    "papermill": {
     "duration": 2.180301,
     "end_time": "2022-12-05T17:31:15.318937",
     "exception": false,
     "start_time": "2022-12-05T17:31:13.138636",
     "status": "completed"
    },
    "tags": []
   },
   "outputs": [],
   "source": [
    "with open(OUTPUT_DIR_BASE / \"gwas_variant_ids.pkl\", \"rb\") as handle:\n",
    "    gwas_variants_ids_set = pickle.load(handle)"
   ]
  },
  {
   "cell_type": "code",
   "execution_count": 13,
   "id": "b9d9dec2-4a76-4bf9-bde2-e24c95acb8a0",
   "metadata": {
    "execution": {
     "iopub.execute_input": "2022-12-05T17:31:15.329750Z",
     "iopub.status.busy": "2022-12-05T17:31:15.329543Z",
     "iopub.status.idle": "2022-12-05T17:31:15.343462Z",
     "shell.execute_reply": "2022-12-05T17:31:15.343052Z"
    },
    "papermill": {
     "duration": 0.020278,
     "end_time": "2022-12-05T17:31:15.344376",
     "exception": false,
     "start_time": "2022-12-05T17:31:15.324098",
     "status": "completed"
    },
    "tags": []
   },
   "outputs": [
    {
     "data": {
      "text/plain": [
       "8561476"
      ]
     },
     "execution_count": 13,
     "metadata": {},
     "output_type": "execute_result"
    }
   ],
   "source": [
    "len(gwas_variants_ids_set)"
   ]
  },
  {
   "cell_type": "code",
   "execution_count": 14,
   "id": "4235b06a-6034-4ee4-a0a3-2ae35d122418",
   "metadata": {
    "execution": {
     "iopub.execute_input": "2022-12-05T17:31:15.355483Z",
     "iopub.status.busy": "2022-12-05T17:31:15.355308Z",
     "iopub.status.idle": "2022-12-05T17:31:16.099749Z",
     "shell.execute_reply": "2022-12-05T17:31:16.099298Z"
    },
    "papermill": {
     "duration": 0.750765,
     "end_time": "2022-12-05T17:31:16.100656",
     "exception": false,
     "start_time": "2022-12-05T17:31:15.349891",
     "status": "completed"
    },
    "tags": []
   },
   "outputs": [
    {
     "data": {
      "text/plain": [
       "['chr10_88910845_T_A_b38',\n",
       " 'chr3_149841587_A_G_b38',\n",
       " 'chr16_77383612_C_G_b38',\n",
       " 'chr5_156449493_A_G_b38',\n",
       " 'chr9_19066048_G_A_b38']"
      ]
     },
     "execution_count": 14,
     "metadata": {},
     "output_type": "execute_result"
    }
   ],
   "source": [
    "list(gwas_variants_ids_set)[:5]"
   ]
  },
  {
   "cell_type": "markdown",
   "id": "07866999-2305-41f9-a144-e69c9122c212",
   "metadata": {
    "papermill": {
     "duration": 0.009721,
     "end_time": "2022-12-05T17:31:16.115548",
     "exception": false,
     "start_time": "2022-12-05T17:31:16.105827",
     "status": "completed"
    },
    "tags": []
   },
   "source": [
    "## S-PrediXcan tissue models"
   ]
  },
  {
   "cell_type": "code",
   "execution_count": 15,
   "id": "780611d9-77c8-405f-90a4-f271f7b09397",
   "metadata": {
    "execution": {
     "iopub.execute_input": "2022-12-05T17:31:16.126847Z",
     "iopub.status.busy": "2022-12-05T17:31:16.126633Z",
     "iopub.status.idle": "2022-12-05T17:31:16.539794Z",
     "shell.execute_reply": "2022-12-05T17:31:16.539370Z"
    },
    "papermill": {
     "duration": 0.419855,
     "end_time": "2022-12-05T17:31:16.541016",
     "exception": false,
     "start_time": "2022-12-05T17:31:16.121161",
     "status": "completed"
    },
    "tags": []
   },
   "outputs": [],
   "source": [
    "spredixcan_genes_models = pd.read_pickle(OUTPUT_DIR_BASE / \"gene_tissues.pkl\")"
   ]
  },
  {
   "cell_type": "code",
   "execution_count": 16,
   "id": "726dd1f6-9557-4225-91fa-b3b879ea96e1",
   "metadata": {
    "execution": {
     "iopub.execute_input": "2022-12-05T17:31:16.556817Z",
     "iopub.status.busy": "2022-12-05T17:31:16.556669Z",
     "iopub.status.idle": "2022-12-05T17:31:16.571223Z",
     "shell.execute_reply": "2022-12-05T17:31:16.570903Z"
    },
    "papermill": {
     "duration": 0.025774,
     "end_time": "2022-12-05T17:31:16.572103",
     "exception": false,
     "start_time": "2022-12-05T17:31:16.546329",
     "status": "completed"
    },
    "tags": []
   },
   "outputs": [
    {
     "data": {
      "text/plain": [
       "(6442, 5)"
      ]
     },
     "execution_count": 16,
     "metadata": {},
     "output_type": "execute_result"
    }
   ],
   "source": [
    "spredixcan_genes_models.shape"
   ]
  },
  {
   "cell_type": "code",
   "execution_count": 17,
   "id": "944a1b48-222c-4eb0-b252-b9de2cbca215",
   "metadata": {
    "execution": {
     "iopub.execute_input": "2022-12-05T17:31:16.583508Z",
     "iopub.status.busy": "2022-12-05T17:31:16.583330Z",
     "iopub.status.idle": "2022-12-05T17:31:16.612949Z",
     "shell.execute_reply": "2022-12-05T17:31:16.612248Z"
    },
    "papermill": {
     "duration": 0.036153,
     "end_time": "2022-12-05T17:31:16.613995",
     "exception": false,
     "start_time": "2022-12-05T17:31:16.577842",
     "status": "completed"
    },
    "tags": []
   },
   "outputs": [
    {
     "data": {
      "text/html": [
       "<div>\n",
       "<style scoped>\n",
       "    .dataframe tbody tr th:only-of-type {\n",
       "        vertical-align: middle;\n",
       "    }\n",
       "\n",
       "    .dataframe tbody tr th {\n",
       "        vertical-align: top;\n",
       "    }\n",
       "\n",
       "    .dataframe thead th {\n",
       "        text-align: right;\n",
       "    }\n",
       "</style>\n",
       "<table border=\"1\" class=\"dataframe\">\n",
       "  <thead>\n",
       "    <tr style=\"text-align: right;\">\n",
       "      <th></th>\n",
       "      <th>gene_name</th>\n",
       "      <th>tissue</th>\n",
       "      <th>n_tissues</th>\n",
       "      <th>n_snps_used_sum</th>\n",
       "      <th>n_snps_in_model_sum</th>\n",
       "    </tr>\n",
       "    <tr>\n",
       "      <th>gene_id</th>\n",
       "      <th></th>\n",
       "      <th></th>\n",
       "      <th></th>\n",
       "      <th></th>\n",
       "      <th></th>\n",
       "    </tr>\n",
       "  </thead>\n",
       "  <tbody>\n",
       "    <tr>\n",
       "      <th>ENSG00000000419</th>\n",
       "      <td>DPM1</td>\n",
       "      <td>(Brain_Substantia_nigra, Brain_Hypothalamus)</td>\n",
       "      <td>2</td>\n",
       "      <td>2</td>\n",
       "      <td>2</td>\n",
       "    </tr>\n",
       "    <tr>\n",
       "      <th>ENSG00000000938</th>\n",
       "      <td>FGR</td>\n",
       "      <td>(Brain_Cortex, Heart_Left_Ventricle, Prostate,...</td>\n",
       "      <td>36</td>\n",
       "      <td>40</td>\n",
       "      <td>40</td>\n",
       "    </tr>\n",
       "    <tr>\n",
       "      <th>ENSG00000000971</th>\n",
       "      <td>CFH</td>\n",
       "      <td>(Brain_Cortex, Heart_Left_Ventricle, Pituitary...</td>\n",
       "      <td>34</td>\n",
       "      <td>44</td>\n",
       "      <td>44</td>\n",
       "    </tr>\n",
       "    <tr>\n",
       "      <th>ENSG00000001084</th>\n",
       "      <td>GCLC</td>\n",
       "      <td>(Brain_Cortex, Heart_Left_Ventricle, Pituitary...</td>\n",
       "      <td>32</td>\n",
       "      <td>46</td>\n",
       "      <td>46</td>\n",
       "    </tr>\n",
       "    <tr>\n",
       "      <th>ENSG00000001167</th>\n",
       "      <td>NFYA</td>\n",
       "      <td>(Brain_Cortex, Heart_Left_Ventricle, Prostate,...</td>\n",
       "      <td>40</td>\n",
       "      <td>47</td>\n",
       "      <td>48</td>\n",
       "    </tr>\n",
       "  </tbody>\n",
       "</table>\n",
       "</div>"
      ],
      "text/plain": [
       "                gene_name                                             tissue  \\\n",
       "gene_id                                                                        \n",
       "ENSG00000000419      DPM1       (Brain_Substantia_nigra, Brain_Hypothalamus)   \n",
       "ENSG00000000938       FGR  (Brain_Cortex, Heart_Left_Ventricle, Prostate,...   \n",
       "ENSG00000000971       CFH  (Brain_Cortex, Heart_Left_Ventricle, Pituitary...   \n",
       "ENSG00000001084      GCLC  (Brain_Cortex, Heart_Left_Ventricle, Pituitary...   \n",
       "ENSG00000001167      NFYA  (Brain_Cortex, Heart_Left_Ventricle, Prostate,...   \n",
       "\n",
       "                 n_tissues  n_snps_used_sum  n_snps_in_model_sum  \n",
       "gene_id                                                           \n",
       "ENSG00000000419          2                2                    2  \n",
       "ENSG00000000938         36               40                   40  \n",
       "ENSG00000000971         34               44                   44  \n",
       "ENSG00000001084         32               46                   46  \n",
       "ENSG00000001167         40               47                   48  "
      ]
     },
     "execution_count": 17,
     "metadata": {},
     "output_type": "execute_result"
    }
   ],
   "source": [
    "spredixcan_genes_models.head()"
   ]
  },
  {
   "cell_type": "code",
   "execution_count": 18,
   "id": "d1c11bb1-be0b-4f40-b360-633d6827109f",
   "metadata": {
    "execution": {
     "iopub.execute_input": "2022-12-05T17:31:16.626764Z",
     "iopub.status.busy": "2022-12-05T17:31:16.626337Z",
     "iopub.status.idle": "2022-12-05T17:31:16.648706Z",
     "shell.execute_reply": "2022-12-05T17:31:16.648022Z"
    },
    "papermill": {
     "duration": 0.030423,
     "end_time": "2022-12-05T17:31:16.650377",
     "exception": false,
     "start_time": "2022-12-05T17:31:16.619954",
     "status": "completed"
    },
    "tags": []
   },
   "outputs": [],
   "source": [
    "assert spredixcan_genes_models.index.is_unique"
   ]
  },
  {
   "cell_type": "markdown",
   "id": "a5b5092c-a13e-47c4-a92a-480fcc08f3ae",
   "metadata": {
    "papermill": {
     "duration": 0.010041,
     "end_time": "2022-12-05T17:31:16.670873",
     "exception": false,
     "start_time": "2022-12-05T17:31:16.660832",
     "status": "completed"
    },
    "tags": []
   },
   "source": [
    "## Gene info"
   ]
  },
  {
   "cell_type": "code",
   "execution_count": 19,
   "id": "7d6bb224-88e9-4358-ac10-43a41d92cdad",
   "metadata": {
    "execution": {
     "iopub.execute_input": "2022-12-05T17:31:16.692257Z",
     "iopub.status.busy": "2022-12-05T17:31:16.691751Z",
     "iopub.status.idle": "2022-12-05T17:31:16.714798Z",
     "shell.execute_reply": "2022-12-05T17:31:16.714304Z"
    },
    "papermill": {
     "duration": 0.035413,
     "end_time": "2022-12-05T17:31:16.716343",
     "exception": false,
     "start_time": "2022-12-05T17:31:16.680930",
     "status": "completed"
    },
    "tags": []
   },
   "outputs": [],
   "source": [
    "genes_info = pd.read_pickle(OUTPUT_DIR_BASE / \"genes_info.pkl\")"
   ]
  },
  {
   "cell_type": "code",
   "execution_count": 20,
   "id": "9e32abfa-546d-483e-8c18-d526e9e05903",
   "metadata": {
    "execution": {
     "iopub.execute_input": "2022-12-05T17:31:16.733953Z",
     "iopub.status.busy": "2022-12-05T17:31:16.733554Z",
     "iopub.status.idle": "2022-12-05T17:31:16.752286Z",
     "shell.execute_reply": "2022-12-05T17:31:16.751721Z"
    },
    "papermill": {
     "duration": 0.028899,
     "end_time": "2022-12-05T17:31:16.753884",
     "exception": false,
     "start_time": "2022-12-05T17:31:16.724985",
     "status": "completed"
    },
    "tags": []
   },
   "outputs": [
    {
     "data": {
      "text/plain": [
       "(6442, 7)"
      ]
     },
     "execution_count": 20,
     "metadata": {},
     "output_type": "execute_result"
    }
   ],
   "source": [
    "genes_info.shape"
   ]
  },
  {
   "cell_type": "code",
   "execution_count": 21,
   "id": "d16c3e92-85ec-468a-9a56-e25a9774a1cb",
   "metadata": {
    "execution": {
     "iopub.execute_input": "2022-12-05T17:31:16.776668Z",
     "iopub.status.busy": "2022-12-05T17:31:16.776217Z",
     "iopub.status.idle": "2022-12-05T17:31:16.801266Z",
     "shell.execute_reply": "2022-12-05T17:31:16.800680Z"
    },
    "papermill": {
     "duration": 0.037408,
     "end_time": "2022-12-05T17:31:16.802569",
     "exception": false,
     "start_time": "2022-12-05T17:31:16.765161",
     "status": "completed"
    },
    "tags": []
   },
   "outputs": [
    {
     "data": {
      "text/html": [
       "<div>\n",
       "<style scoped>\n",
       "    .dataframe tbody tr th:only-of-type {\n",
       "        vertical-align: middle;\n",
       "    }\n",
       "\n",
       "    .dataframe tbody tr th {\n",
       "        vertical-align: top;\n",
       "    }\n",
       "\n",
       "    .dataframe thead th {\n",
       "        text-align: right;\n",
       "    }\n",
       "</style>\n",
       "<table border=\"1\" class=\"dataframe\">\n",
       "  <thead>\n",
       "    <tr style=\"text-align: right;\">\n",
       "      <th></th>\n",
       "      <th>name</th>\n",
       "      <th>id</th>\n",
       "      <th>chr</th>\n",
       "      <th>band</th>\n",
       "      <th>start_position</th>\n",
       "      <th>end_position</th>\n",
       "      <th>gene_length</th>\n",
       "    </tr>\n",
       "  </thead>\n",
       "  <tbody>\n",
       "    <tr>\n",
       "      <th>0</th>\n",
       "      <td>ASPM</td>\n",
       "      <td>ENSG00000066279</td>\n",
       "      <td>1</td>\n",
       "      <td>1q31.3</td>\n",
       "      <td>197084127</td>\n",
       "      <td>197146694</td>\n",
       "      <td>62567</td>\n",
       "    </tr>\n",
       "    <tr>\n",
       "      <th>1</th>\n",
       "      <td>GPAM</td>\n",
       "      <td>ENSG00000119927</td>\n",
       "      <td>10</td>\n",
       "      <td>10q25.2</td>\n",
       "      <td>112149865</td>\n",
       "      <td>112215377</td>\n",
       "      <td>65512</td>\n",
       "    </tr>\n",
       "    <tr>\n",
       "      <th>2</th>\n",
       "      <td>MAPK7</td>\n",
       "      <td>ENSG00000166484</td>\n",
       "      <td>17</td>\n",
       "      <td>17p11.2</td>\n",
       "      <td>19377721</td>\n",
       "      <td>19383544</td>\n",
       "      <td>5823</td>\n",
       "    </tr>\n",
       "    <tr>\n",
       "      <th>3</th>\n",
       "      <td>SLC3A2</td>\n",
       "      <td>ENSG00000168003</td>\n",
       "      <td>11</td>\n",
       "      <td>11q12.3</td>\n",
       "      <td>62856102</td>\n",
       "      <td>62888875</td>\n",
       "      <td>32773</td>\n",
       "    </tr>\n",
       "    <tr>\n",
       "      <th>4</th>\n",
       "      <td>GINS2</td>\n",
       "      <td>ENSG00000131153</td>\n",
       "      <td>16</td>\n",
       "      <td>16q24.1</td>\n",
       "      <td>85676198</td>\n",
       "      <td>85690073</td>\n",
       "      <td>13875</td>\n",
       "    </tr>\n",
       "  </tbody>\n",
       "</table>\n",
       "</div>"
      ],
      "text/plain": [
       "     name               id  chr     band  start_position  end_position  \\\n",
       "0    ASPM  ENSG00000066279    1   1q31.3       197084127     197146694   \n",
       "1    GPAM  ENSG00000119927   10  10q25.2       112149865     112215377   \n",
       "2   MAPK7  ENSG00000166484   17  17p11.2        19377721      19383544   \n",
       "3  SLC3A2  ENSG00000168003   11  11q12.3        62856102      62888875   \n",
       "4   GINS2  ENSG00000131153   16  16q24.1        85676198      85690073   \n",
       "\n",
       "   gene_length  \n",
       "0        62567  \n",
       "1        65512  \n",
       "2         5823  \n",
       "3        32773  \n",
       "4        13875  "
      ]
     },
     "execution_count": 21,
     "metadata": {},
     "output_type": "execute_result"
    }
   ],
   "source": [
    "genes_info.head()"
   ]
  },
  {
   "cell_type": "markdown",
   "id": "d3843e06",
   "metadata": {
    "papermill": {
     "duration": 0.008374,
     "end_time": "2022-12-05T17:31:16.819435",
     "exception": false,
     "start_time": "2022-12-05T17:31:16.811061",
     "status": "completed"
    },
    "tags": []
   },
   "source": [
    "# Compute correlations"
   ]
  },
  {
   "cell_type": "code",
   "execution_count": 22,
   "id": "cb859c15-d1f3-4006-a74c-2b83c0db9611",
   "metadata": {
    "execution": {
     "iopub.execute_input": "2022-12-05T17:31:16.836366Z",
     "iopub.status.busy": "2022-12-05T17:31:16.836055Z",
     "iopub.status.idle": "2022-12-05T17:31:16.859559Z",
     "shell.execute_reply": "2022-12-05T17:31:16.858886Z"
    },
    "papermill": {
     "duration": 0.033618,
     "end_time": "2022-12-05T17:31:16.861002",
     "exception": false,
     "start_time": "2022-12-05T17:31:16.827384",
     "status": "completed"
    },
    "tags": []
   },
   "outputs": [
    {
     "data": {
      "text/plain": [
       "PosixPath('/opt/data/projects/asthma-copd/results/gls_phenoplier/gene_corrs/aco/by_chr/gene_corrs-chr14.pkl')"
      ]
     },
     "metadata": {},
     "output_type": "display_data"
    }
   ],
   "source": [
    "output_dir = OUTPUT_DIR_BASE / \"by_chr\"\n",
    "output_dir.mkdir(exist_ok=True, parents=True)\n",
    "output_file = output_dir / f\"gene_corrs-chr{CHROMOSOME}.pkl\"\n",
    "display(output_file)"
   ]
  },
  {
   "cell_type": "code",
   "execution_count": 23,
   "id": "aa674fe4-6794-4eed-98fa-32b39d1d4ace",
   "metadata": {
    "execution": {
     "iopub.execute_input": "2022-12-05T17:31:16.879795Z",
     "iopub.status.busy": "2022-12-05T17:31:16.879305Z",
     "iopub.status.idle": "2022-12-05T17:31:16.900771Z",
     "shell.execute_reply": "2022-12-05T17:31:16.900260Z"
    },
    "papermill": {
     "duration": 0.032388,
     "end_time": "2022-12-05T17:31:16.902039",
     "exception": false,
     "start_time": "2022-12-05T17:31:16.869651",
     "status": "completed"
    },
    "tags": []
   },
   "outputs": [],
   "source": [
    "warnings.filterwarnings(\"error\")"
   ]
  },
  {
   "cell_type": "code",
   "execution_count": 24,
   "id": "44d5450b-3baf-43f1-9e2e-4b06f1a785f8",
   "metadata": {
    "execution": {
     "iopub.execute_input": "2022-12-05T17:31:16.919750Z",
     "iopub.status.busy": "2022-12-05T17:31:16.919264Z",
     "iopub.status.idle": "2022-12-05T17:31:16.941202Z",
     "shell.execute_reply": "2022-12-05T17:31:16.940705Z"
    },
    "papermill": {
     "duration": 0.032084,
     "end_time": "2022-12-05T17:31:16.942523",
     "exception": false,
     "start_time": "2022-12-05T17:31:16.910439",
     "status": "completed"
    },
    "tags": []
   },
   "outputs": [],
   "source": [
    "# standard checks\n",
    "all_chrs = genes_info[\"chr\"].dropna().unique()\n",
    "assert all_chrs.shape[0] == 22\n",
    "\n",
    "# select chromosome given by the user\n",
    "assert CHROMOSOME in all_chrs"
   ]
  },
  {
   "cell_type": "code",
   "execution_count": 25,
   "id": "2d7c043c-92a7-4d35-991b-fa69ac1e0268",
   "metadata": {
    "execution": {
     "iopub.execute_input": "2022-12-05T17:31:16.961038Z",
     "iopub.status.busy": "2022-12-05T17:31:16.960734Z",
     "iopub.status.idle": "2022-12-05T17:31:16.984144Z",
     "shell.execute_reply": "2022-12-05T17:31:16.983618Z"
    },
    "papermill": {
     "duration": 0.033609,
     "end_time": "2022-12-05T17:31:16.985392",
     "exception": false,
     "start_time": "2022-12-05T17:31:16.951783",
     "status": "completed"
    },
    "tags": []
   },
   "outputs": [
    {
     "name": "stdout",
     "output_type": "stream",
     "text": [
      "Number of genes in chromosome: 209\n"
     ]
    }
   ],
   "source": [
    "# run only on the chromosome specified\n",
    "all_chrs = [CHROMOSOME]\n",
    "genes_chr = genes_info[genes_info[\"chr\"] == CHROMOSOME]\n",
    "\n",
    "# For testing purposes\n",
    "# genes_chr = genes_chr.sample(n=20)\n",
    "\n",
    "print(f\"Number of genes in chromosome: {genes_chr.shape[0]}\", flush=True)"
   ]
  },
  {
   "cell_type": "code",
   "execution_count": 26,
   "id": "916015d8-2979-46d3-a9b9-1cf5a0932c6a",
   "metadata": {
    "execution": {
     "iopub.execute_input": "2022-12-05T17:31:17.003257Z",
     "iopub.status.busy": "2022-12-05T17:31:17.003032Z",
     "iopub.status.idle": "2022-12-05T17:31:17.024872Z",
     "shell.execute_reply": "2022-12-05T17:31:17.024351Z"
    },
    "papermill": {
     "duration": 0.032161,
     "end_time": "2022-12-05T17:31:17.026278",
     "exception": false,
     "start_time": "2022-12-05T17:31:16.994117",
     "status": "completed"
    },
    "tags": []
   },
   "outputs": [],
   "source": [
    "# sort genes by starting position to make visualizations better later\n",
    "genes_chr = genes_chr.sort_values(\"start_position\")"
   ]
  },
  {
   "cell_type": "code",
   "execution_count": 27,
   "id": "a38aa74a-8ad3-47f6-8ef9-56be0e011774",
   "metadata": {
    "execution": {
     "iopub.execute_input": "2022-12-05T17:31:17.044657Z",
     "iopub.status.busy": "2022-12-05T17:31:17.044213Z",
     "iopub.status.idle": "2022-12-05T17:31:17.066053Z",
     "shell.execute_reply": "2022-12-05T17:31:17.065569Z"
    },
    "papermill": {
     "duration": 0.032103,
     "end_time": "2022-12-05T17:31:17.067384",
     "exception": false,
     "start_time": "2022-12-05T17:31:17.035281",
     "status": "completed"
    },
    "tags": []
   },
   "outputs": [],
   "source": [
    "gene_chr_objs = [Gene(ensembl_id=gene_id) for gene_id in genes_chr[\"id\"]]"
   ]
  },
  {
   "cell_type": "code",
   "execution_count": 28,
   "id": "570f974f-13c3-42b6-ad3a-ce99ca885c1a",
   "metadata": {
    "execution": {
     "iopub.execute_input": "2022-12-05T17:31:17.085925Z",
     "iopub.status.busy": "2022-12-05T17:31:17.085619Z",
     "iopub.status.idle": "2022-12-05T17:31:17.107937Z",
     "shell.execute_reply": "2022-12-05T17:31:17.107431Z"
    },
    "papermill": {
     "duration": 0.033056,
     "end_time": "2022-12-05T17:31:17.109167",
     "exception": false,
     "start_time": "2022-12-05T17:31:17.076111",
     "status": "completed"
    },
    "tags": []
   },
   "outputs": [
    {
     "name": "stdout",
     "output_type": "stream",
     "text": [
      "Number of gene combinations: 21945\n"
     ]
    }
   ],
   "source": [
    "n = len(gene_chr_objs)\n",
    "# diagonal elements + upper triangular matrix\n",
    "n_comb = n + int(n * (n - 1) / 2.0)\n",
    "print(f\"Number of gene combinations: {n_comb}\", flush=True)"
   ]
  },
  {
   "cell_type": "code",
   "execution_count": 29,
   "id": "cdbb90a1",
   "metadata": {
    "execution": {
     "iopub.execute_input": "2022-12-05T17:31:17.127838Z",
     "iopub.status.busy": "2022-12-05T17:31:17.127374Z",
     "iopub.status.idle": "2022-12-05T17:34:31.753812Z",
     "shell.execute_reply": "2022-12-05T17:34:31.753302Z"
    },
    "papermill": {
     "duration": 194.637136,
     "end_time": "2022-12-05T17:34:31.755182",
     "exception": false,
     "start_time": "2022-12-05T17:31:17.118046",
     "status": "completed"
    },
    "tags": []
   },
   "outputs": [
    {
     "name": "stderr",
     "output_type": "stream",
     "text": [
      "ENSG00000182979 / ENSG00000182979: 100%|█████████████████████| 21945/21945 [03:14<00:00, 112.78it/s]\n"
     ]
    },
    {
     "data": {
      "text/plain": [
       "PosixPath('/opt/data/projects/asthma-copd/results/gls_phenoplier/gene_corrs/aco/by_chr/gene_corrs-chr14.pkl')"
      ]
     },
     "metadata": {},
     "output_type": "display_data"
    }
   ],
   "source": [
    "gene_corrs = []\n",
    "gene_corrs_data = np.full(\n",
    "    (n, n),\n",
    "    np.nan,\n",
    "    dtype=np.float64,\n",
    ")\n",
    "\n",
    "i = 0\n",
    "with tqdm(ncols=100, total=n_comb) as pbar:\n",
    "    for gene1_idx in range(0, len(gene_chr_objs)):\n",
    "        gene1_obj = gene_chr_objs[gene1_idx]\n",
    "        gene1_tissues = spredixcan_genes_models.loc[gene1_obj.ensembl_id, \"tissue\"]\n",
    "\n",
    "        for gene2_idx in range(gene1_idx, len(gene_chr_objs)):\n",
    "            gene2_obj = gene_chr_objs[gene2_idx]\n",
    "            gene2_tissues = spredixcan_genes_models.loc[gene2_obj.ensembl_id, \"tissue\"]\n",
    "\n",
    "            pbar.set_description(f\"{gene1_obj.ensembl_id} / {gene2_obj.ensembl_id}\")\n",
    "\n",
    "            try:\n",
    "                r = gene1_obj.get_ssm_correlation(\n",
    "                    other_gene=gene2_obj,\n",
    "                    tissues=gene1_tissues,\n",
    "                    other_tissues=gene2_tissues,\n",
    "                    snps_subset=gwas_variants_ids_set,\n",
    "                    condition_number=SMULTIXCAN_CONDITION_NUMBER,\n",
    "                    reference_panel=REFERENCE_PANEL,\n",
    "                    model_type=EQTL_MODEL,\n",
    "                    use_within_distance=COMPUTE_CORRELATIONS_WITHIN_DISTANCE,\n",
    "                )\n",
    "\n",
    "                if r is None:\n",
    "                    # if r is None, it's very likely because:\n",
    "                    #  * one of the genes has no prediction models\n",
    "                    #  * all the SNPs predictors for the gene are not present in the reference\n",
    "                    #    panel\n",
    "\n",
    "                    r = 0.0\n",
    "\n",
    "                gene_corrs.append(r)\n",
    "\n",
    "                gene_corrs_data[gene1_idx, gene2_idx] = r\n",
    "                gene_corrs_data[gene2_idx, gene1_idx] = r\n",
    "            except Warning as e:\n",
    "                if not DEBUG_MODE:\n",
    "                    raise e\n",
    "\n",
    "                print(\n",
    "                    f\"RuntimeWarning for genes {gene1_obj.ensembl_id} and {gene2_obj.ensembl_id}\",\n",
    "                    flush=True,\n",
    "                )\n",
    "                print(traceback.format_exc(), flush=True)\n",
    "\n",
    "                gene_corrs.append(np.nan)\n",
    "            except Exception as e:\n",
    "                if not DEBUG_MODE:\n",
    "                    raise e\n",
    "\n",
    "                print(\n",
    "                    f\"Exception for genes {gene1_obj.ensembl_id} and {gene2_obj.ensembl_id}\",\n",
    "                    flush=True,\n",
    "                )\n",
    "                print(traceback.format_exc(), flush=True)\n",
    "\n",
    "                gene_corrs.append(np.nan)\n",
    "\n",
    "            pbar.update(1)\n",
    "\n",
    "# create a pandas series\n",
    "gene_corrs_flat = pd.Series(gene_corrs)\n",
    "\n",
    "# save\n",
    "# FIXME: consider saving only the condenced matrix here. See here for\n",
    "# more details: https://github.com/greenelab/phenoplier/pull/38#discussion_r634600813\n",
    "# gene_corrs_data = squareform(np.array(gene_corrs, dtype=np.float64))\n",
    "# np.fill_diagonal(gene_corrs_data, 1.0)\n",
    "\n",
    "gene_chr_ids = [g.ensembl_id for g in gene_chr_objs]\n",
    "gene_corrs_df = pd.DataFrame(\n",
    "    data=gene_corrs_data,\n",
    "    index=gene_chr_ids,\n",
    "    columns=gene_chr_ids,\n",
    ")\n",
    "\n",
    "output_dir.mkdir(exist_ok=True, parents=True)\n",
    "display(output_file)\n",
    "\n",
    "gene_corrs_df.to_pickle(output_file)"
   ]
  },
  {
   "cell_type": "markdown",
   "id": "faa67b51-5373-470f-aa72-2ded53fa6dfe",
   "metadata": {
    "papermill": {
     "duration": 0.672564,
     "end_time": "2022-12-05T17:34:33.155836",
     "exception": false,
     "start_time": "2022-12-05T17:34:32.483272",
     "status": "completed"
    },
    "tags": []
   },
   "source": [
    "# Testing"
   ]
  },
  {
   "cell_type": "code",
   "execution_count": 30,
   "id": "14f7d046-4b55-4896-a56b-990127bcc388",
   "metadata": {
    "execution": {
     "iopub.execute_input": "2022-12-05T17:34:34.522408Z",
     "iopub.status.busy": "2022-12-05T17:34:34.521761Z",
     "iopub.status.idle": "2022-12-05T17:34:34.545127Z",
     "shell.execute_reply": "2022-12-05T17:34:34.544520Z"
    },
    "papermill": {
     "duration": 0.691237,
     "end_time": "2022-12-05T17:34:34.546065",
     "exception": false,
     "start_time": "2022-12-05T17:34:33.854828",
     "status": "completed"
    },
    "tags": []
   },
   "outputs": [
    {
     "data": {
      "text/plain": [
       "(209, 209)"
      ]
     },
     "execution_count": 30,
     "metadata": {},
     "output_type": "execute_result"
    }
   ],
   "source": [
    "gene_corrs_df.shape"
   ]
  },
  {
   "cell_type": "code",
   "execution_count": 31,
   "id": "c7d15414-3297-4537-a7c6-7588c0baeb75",
   "metadata": {
    "execution": {
     "iopub.execute_input": "2022-12-05T17:34:35.864097Z",
     "iopub.status.busy": "2022-12-05T17:34:35.863758Z",
     "iopub.status.idle": "2022-12-05T17:34:35.904672Z",
     "shell.execute_reply": "2022-12-05T17:34:35.904017Z"
    },
    "papermill": {
     "duration": 0.696356,
     "end_time": "2022-12-05T17:34:35.905532",
     "exception": false,
     "start_time": "2022-12-05T17:34:35.209176",
     "status": "completed"
    },
    "tags": []
   },
   "outputs": [
    {
     "data": {
      "text/html": [
       "<div>\n",
       "<style scoped>\n",
       "    .dataframe tbody tr th:only-of-type {\n",
       "        vertical-align: middle;\n",
       "    }\n",
       "\n",
       "    .dataframe tbody tr th {\n",
       "        vertical-align: top;\n",
       "    }\n",
       "\n",
       "    .dataframe thead th {\n",
       "        text-align: right;\n",
       "    }\n",
       "</style>\n",
       "<table border=\"1\" class=\"dataframe\">\n",
       "  <thead>\n",
       "    <tr style=\"text-align: right;\">\n",
       "      <th></th>\n",
       "      <th>ENSG00000136319</th>\n",
       "      <th>ENSG00000129484</th>\n",
       "      <th>ENSG00000129566</th>\n",
       "      <th>ENSG00000100823</th>\n",
       "      <th>ENSG00000198805</th>\n",
       "      <th>ENSG00000214274</th>\n",
       "      <th>ENSG00000258818</th>\n",
       "      <th>ENSG00000169413</th>\n",
       "      <th>ENSG00000169397</th>\n",
       "      <th>ENSG00000169385</th>\n",
       "      <th>...</th>\n",
       "      <th>ENSG00000126215</th>\n",
       "      <th>ENSG00000088808</th>\n",
       "      <th>ENSG00000066735</th>\n",
       "      <th>ENSG00000185100</th>\n",
       "      <th>ENSG00000142208</th>\n",
       "      <th>ENSG00000166428</th>\n",
       "      <th>ENSG00000183484</th>\n",
       "      <th>ENSG00000184916</th>\n",
       "      <th>ENSG00000185024</th>\n",
       "      <th>ENSG00000182979</th>\n",
       "    </tr>\n",
       "  </thead>\n",
       "  <tbody>\n",
       "    <tr>\n",
       "      <th>ENSG00000136319</th>\n",
       "      <td>1.000000</td>\n",
       "      <td>0.408377</td>\n",
       "      <td>0.016761</td>\n",
       "      <td>0.011939</td>\n",
       "      <td>0.010830</td>\n",
       "      <td>0.007584</td>\n",
       "      <td>0.005983</td>\n",
       "      <td>0.009894</td>\n",
       "      <td>0.005839</td>\n",
       "      <td>0.007804</td>\n",
       "      <td>...</td>\n",
       "      <td>0.0</td>\n",
       "      <td>0.0</td>\n",
       "      <td>0.0</td>\n",
       "      <td>0.0</td>\n",
       "      <td>0.0</td>\n",
       "      <td>0.0</td>\n",
       "      <td>0.0</td>\n",
       "      <td>0.0</td>\n",
       "      <td>0.0</td>\n",
       "      <td>0.0</td>\n",
       "    </tr>\n",
       "    <tr>\n",
       "      <th>ENSG00000129484</th>\n",
       "      <td>0.408377</td>\n",
       "      <td>1.000000</td>\n",
       "      <td>0.009006</td>\n",
       "      <td>0.005022</td>\n",
       "      <td>0.008506</td>\n",
       "      <td>0.004598</td>\n",
       "      <td>0.003830</td>\n",
       "      <td>0.005981</td>\n",
       "      <td>0.003778</td>\n",
       "      <td>0.001958</td>\n",
       "      <td>...</td>\n",
       "      <td>0.0</td>\n",
       "      <td>0.0</td>\n",
       "      <td>0.0</td>\n",
       "      <td>0.0</td>\n",
       "      <td>0.0</td>\n",
       "      <td>0.0</td>\n",
       "      <td>0.0</td>\n",
       "      <td>0.0</td>\n",
       "      <td>0.0</td>\n",
       "      <td>0.0</td>\n",
       "    </tr>\n",
       "    <tr>\n",
       "      <th>ENSG00000129566</th>\n",
       "      <td>0.016761</td>\n",
       "      <td>0.009006</td>\n",
       "      <td>1.000000</td>\n",
       "      <td>0.038817</td>\n",
       "      <td>0.010472</td>\n",
       "      <td>0.008212</td>\n",
       "      <td>0.009654</td>\n",
       "      <td>0.005394</td>\n",
       "      <td>0.005310</td>\n",
       "      <td>0.003982</td>\n",
       "      <td>...</td>\n",
       "      <td>0.0</td>\n",
       "      <td>0.0</td>\n",
       "      <td>0.0</td>\n",
       "      <td>0.0</td>\n",
       "      <td>0.0</td>\n",
       "      <td>0.0</td>\n",
       "      <td>0.0</td>\n",
       "      <td>0.0</td>\n",
       "      <td>0.0</td>\n",
       "      <td>0.0</td>\n",
       "    </tr>\n",
       "    <tr>\n",
       "      <th>ENSG00000100823</th>\n",
       "      <td>0.011939</td>\n",
       "      <td>0.005022</td>\n",
       "      <td>0.038817</td>\n",
       "      <td>1.000000</td>\n",
       "      <td>0.292907</td>\n",
       "      <td>0.004649</td>\n",
       "      <td>0.004009</td>\n",
       "      <td>0.009684</td>\n",
       "      <td>0.010182</td>\n",
       "      <td>0.009390</td>\n",
       "      <td>...</td>\n",
       "      <td>0.0</td>\n",
       "      <td>0.0</td>\n",
       "      <td>0.0</td>\n",
       "      <td>0.0</td>\n",
       "      <td>0.0</td>\n",
       "      <td>0.0</td>\n",
       "      <td>0.0</td>\n",
       "      <td>0.0</td>\n",
       "      <td>0.0</td>\n",
       "      <td>0.0</td>\n",
       "    </tr>\n",
       "    <tr>\n",
       "      <th>ENSG00000198805</th>\n",
       "      <td>0.010830</td>\n",
       "      <td>0.008506</td>\n",
       "      <td>0.010472</td>\n",
       "      <td>0.292907</td>\n",
       "      <td>1.000000</td>\n",
       "      <td>0.003908</td>\n",
       "      <td>0.003859</td>\n",
       "      <td>0.010229</td>\n",
       "      <td>0.005374</td>\n",
       "      <td>0.009092</td>\n",
       "      <td>...</td>\n",
       "      <td>0.0</td>\n",
       "      <td>0.0</td>\n",
       "      <td>0.0</td>\n",
       "      <td>0.0</td>\n",
       "      <td>0.0</td>\n",
       "      <td>0.0</td>\n",
       "      <td>0.0</td>\n",
       "      <td>0.0</td>\n",
       "      <td>0.0</td>\n",
       "      <td>0.0</td>\n",
       "    </tr>\n",
       "  </tbody>\n",
       "</table>\n",
       "<p>5 rows × 209 columns</p>\n",
       "</div>"
      ],
      "text/plain": [
       "                 ENSG00000136319  ENSG00000129484  ENSG00000129566  \\\n",
       "ENSG00000136319         1.000000         0.408377         0.016761   \n",
       "ENSG00000129484         0.408377         1.000000         0.009006   \n",
       "ENSG00000129566         0.016761         0.009006         1.000000   \n",
       "ENSG00000100823         0.011939         0.005022         0.038817   \n",
       "ENSG00000198805         0.010830         0.008506         0.010472   \n",
       "\n",
       "                 ENSG00000100823  ENSG00000198805  ENSG00000214274  \\\n",
       "ENSG00000136319         0.011939         0.010830         0.007584   \n",
       "ENSG00000129484         0.005022         0.008506         0.004598   \n",
       "ENSG00000129566         0.038817         0.010472         0.008212   \n",
       "ENSG00000100823         1.000000         0.292907         0.004649   \n",
       "ENSG00000198805         0.292907         1.000000         0.003908   \n",
       "\n",
       "                 ENSG00000258818  ENSG00000169413  ENSG00000169397  \\\n",
       "ENSG00000136319         0.005983         0.009894         0.005839   \n",
       "ENSG00000129484         0.003830         0.005981         0.003778   \n",
       "ENSG00000129566         0.009654         0.005394         0.005310   \n",
       "ENSG00000100823         0.004009         0.009684         0.010182   \n",
       "ENSG00000198805         0.003859         0.010229         0.005374   \n",
       "\n",
       "                 ENSG00000169385  ...  ENSG00000126215  ENSG00000088808  \\\n",
       "ENSG00000136319         0.007804  ...              0.0              0.0   \n",
       "ENSG00000129484         0.001958  ...              0.0              0.0   \n",
       "ENSG00000129566         0.003982  ...              0.0              0.0   \n",
       "ENSG00000100823         0.009390  ...              0.0              0.0   \n",
       "ENSG00000198805         0.009092  ...              0.0              0.0   \n",
       "\n",
       "                 ENSG00000066735  ENSG00000185100  ENSG00000142208  \\\n",
       "ENSG00000136319              0.0              0.0              0.0   \n",
       "ENSG00000129484              0.0              0.0              0.0   \n",
       "ENSG00000129566              0.0              0.0              0.0   \n",
       "ENSG00000100823              0.0              0.0              0.0   \n",
       "ENSG00000198805              0.0              0.0              0.0   \n",
       "\n",
       "                 ENSG00000166428  ENSG00000183484  ENSG00000184916  \\\n",
       "ENSG00000136319              0.0              0.0              0.0   \n",
       "ENSG00000129484              0.0              0.0              0.0   \n",
       "ENSG00000129566              0.0              0.0              0.0   \n",
       "ENSG00000100823              0.0              0.0              0.0   \n",
       "ENSG00000198805              0.0              0.0              0.0   \n",
       "\n",
       "                 ENSG00000185024  ENSG00000182979  \n",
       "ENSG00000136319              0.0              0.0  \n",
       "ENSG00000129484              0.0              0.0  \n",
       "ENSG00000129566              0.0              0.0  \n",
       "ENSG00000100823              0.0              0.0  \n",
       "ENSG00000198805              0.0              0.0  \n",
       "\n",
       "[5 rows x 209 columns]"
      ]
     },
     "execution_count": 31,
     "metadata": {},
     "output_type": "execute_result"
    }
   ],
   "source": [
    "gene_corrs_df.head()"
   ]
  },
  {
   "cell_type": "markdown",
   "id": "dad6603f-01c6-41fb-a6f6-241051207dd8",
   "metadata": {
    "papermill": {
     "duration": 0.656042,
     "end_time": "2022-12-05T17:34:37.226798",
     "exception": false,
     "start_time": "2022-12-05T17:34:36.570756",
     "status": "completed"
    },
    "tags": []
   },
   "source": [
    "## Standard checks and stats"
   ]
  },
  {
   "cell_type": "code",
   "execution_count": 32,
   "id": "286686af-1b7b-4440-8453-6bdcbd8de19c",
   "metadata": {
    "execution": {
     "iopub.execute_input": "2022-12-05T17:34:38.558453Z",
     "iopub.status.busy": "2022-12-05T17:34:38.558114Z",
     "iopub.status.idle": "2022-12-05T17:34:38.581018Z",
     "shell.execute_reply": "2022-12-05T17:34:38.580441Z"
    },
    "papermill": {
     "duration": 0.690595,
     "end_time": "2022-12-05T17:34:38.581971",
     "exception": false,
     "start_time": "2022-12-05T17:34:37.891376",
     "status": "completed"
    },
    "tags": []
   },
   "outputs": [],
   "source": [
    "assert not gene_corrs_df.isna().any(axis=None)"
   ]
  },
  {
   "cell_type": "code",
   "execution_count": 33,
   "id": "00583efc-7068-4270-ad1e-4a418e91db96",
   "metadata": {
    "execution": {
     "iopub.execute_input": "2022-12-05T17:34:39.907182Z",
     "iopub.status.busy": "2022-12-05T17:34:39.906894Z",
     "iopub.status.idle": "2022-12-05T17:34:39.931266Z",
     "shell.execute_reply": "2022-12-05T17:34:39.930673Z"
    },
    "papermill": {
     "duration": 0.687356,
     "end_time": "2022-12-05T17:34:39.932124",
     "exception": false,
     "start_time": "2022-12-05T17:34:39.244768",
     "status": "completed"
    },
    "tags": []
   },
   "outputs": [
    {
     "data": {
      "text/plain": [
       "0.0"
      ]
     },
     "metadata": {},
     "output_type": "display_data"
    }
   ],
   "source": [
    "_min_val = gene_corrs_df.min().min()\n",
    "display(_min_val)\n",
    "assert _min_val >= -0.05"
   ]
  },
  {
   "cell_type": "code",
   "execution_count": 34,
   "id": "d04fb2cf-1050-475b-b855-f5f7cc04092b",
   "metadata": {
    "execution": {
     "iopub.execute_input": "2022-12-05T17:34:41.251333Z",
     "iopub.status.busy": "2022-12-05T17:34:41.250772Z",
     "iopub.status.idle": "2022-12-05T17:34:41.275258Z",
     "shell.execute_reply": "2022-12-05T17:34:41.274667Z"
    },
    "papermill": {
     "duration": 0.686182,
     "end_time": "2022-12-05T17:34:41.276168",
     "exception": false,
     "start_time": "2022-12-05T17:34:40.589986",
     "status": "completed"
    },
    "tags": []
   },
   "outputs": [
    {
     "data": {
      "text/plain": [
       "1.0000000000000038"
      ]
     },
     "metadata": {},
     "output_type": "display_data"
    }
   ],
   "source": [
    "_max_val = gene_corrs_df.max().max()  # this captures the diagonal\n",
    "display(_max_val)\n",
    "assert _max_val <= 1.05"
   ]
  },
  {
   "cell_type": "code",
   "execution_count": 35,
   "id": "fe283586-c348-40e0-8841-f6d97bfb021c",
   "metadata": {
    "execution": {
     "iopub.execute_input": "2022-12-05T17:34:42.604094Z",
     "iopub.status.busy": "2022-12-05T17:34:42.603501Z",
     "iopub.status.idle": "2022-12-05T17:34:42.631841Z",
     "shell.execute_reply": "2022-12-05T17:34:42.631200Z"
    },
    "papermill": {
     "duration": 0.696339,
     "end_time": "2022-12-05T17:34:42.632729",
     "exception": false,
     "start_time": "2022-12-05T17:34:41.936390",
     "status": "completed"
    },
    "tags": []
   },
   "outputs": [
    {
     "data": {
      "text/plain": [
       "count    21945.000000\n",
       "mean         0.013497\n",
       "std          0.102643\n",
       "min          0.000000\n",
       "25%          0.000000\n",
       "50%          0.000000\n",
       "75%          0.000000\n",
       "max          1.000000\n",
       "dtype: float64"
      ]
     },
     "execution_count": 35,
     "metadata": {},
     "output_type": "execute_result"
    }
   ],
   "source": [
    "gene_corrs_flat.describe()"
   ]
  },
  {
   "cell_type": "code",
   "execution_count": 36,
   "id": "b3815678-0f93-4b35-897b-a9d047a2aa78",
   "metadata": {
    "execution": {
     "iopub.execute_input": "2022-12-05T17:34:43.971006Z",
     "iopub.status.busy": "2022-12-05T17:34:43.970409Z",
     "iopub.status.idle": "2022-12-05T17:34:43.999318Z",
     "shell.execute_reply": "2022-12-05T17:34:43.998711Z"
    },
    "papermill": {
     "duration": 0.697661,
     "end_time": "2022-12-05T17:34:44.000182",
     "exception": false,
     "start_time": "2022-12-05T17:34:43.302521",
     "status": "completed"
    },
    "tags": []
   },
   "outputs": [
    {
     "data": {
      "text/plain": [
       "0.00    0.000000\n",
       "0.05    0.000000\n",
       "0.10    0.000000\n",
       "0.15    0.000000\n",
       "0.20    0.000000\n",
       "0.25    0.000000\n",
       "0.30    0.000000\n",
       "0.35    0.000000\n",
       "0.40    0.000000\n",
       "0.45    0.000000\n",
       "0.50    0.000000\n",
       "0.55    0.000000\n",
       "0.60    0.000000\n",
       "0.65    0.000000\n",
       "0.70    0.000000\n",
       "0.75    0.000000\n",
       "0.80    0.000000\n",
       "0.85    0.002181\n",
       "0.90    0.006164\n",
       "0.95    0.010217\n",
       "dtype: float64"
      ]
     },
     "metadata": {},
     "output_type": "display_data"
    }
   ],
   "source": [
    "gene_corrs_quantiles = gene_corrs_flat.quantile(np.arange(0, 1, 0.05))\n",
    "display(gene_corrs_quantiles)"
   ]
  },
  {
   "cell_type": "markdown",
   "id": "87134509-b145-4a10-8bc9-b7e914c2b0fa",
   "metadata": {
    "papermill": {
     "duration": 0.664332,
     "end_time": "2022-12-05T17:34:45.330017",
     "exception": false,
     "start_time": "2022-12-05T17:34:44.665685",
     "status": "completed"
    },
    "tags": []
   },
   "source": [
    "## Positive definiteness"
   ]
  },
  {
   "cell_type": "code",
   "execution_count": 37,
   "id": "07d9a9a1-a4f7-48aa-b916-6d42a8cc6186",
   "metadata": {
    "execution": {
     "iopub.execute_input": "2022-12-05T17:34:46.666186Z",
     "iopub.status.busy": "2022-12-05T17:34:46.665951Z",
     "iopub.status.idle": "2022-12-05T17:34:46.686858Z",
     "shell.execute_reply": "2022-12-05T17:34:46.686426Z"
    },
    "papermill": {
     "duration": 0.689507,
     "end_time": "2022-12-05T17:34:46.687673",
     "exception": false,
     "start_time": "2022-12-05T17:34:45.998166",
     "status": "completed"
    },
    "tags": []
   },
   "outputs": [
    {
     "data": {
      "text/plain": [
       "0"
      ]
     },
     "metadata": {},
     "output_type": "display_data"
    },
    {
     "data": {
      "text/plain": [
       "array([], dtype=float64)"
      ]
     },
     "metadata": {},
     "output_type": "display_data"
    }
   ],
   "source": [
    "# print negative eigenvalues\n",
    "eigs = np.linalg.eigvals(gene_corrs_df.to_numpy())\n",
    "display(len(eigs[eigs < 0]))\n",
    "display(eigs[eigs < 0])"
   ]
  },
  {
   "cell_type": "code",
   "execution_count": 38,
   "id": "6e218436-c3c5-4028-8c94-a4fa6260efce",
   "metadata": {
    "execution": {
     "iopub.execute_input": "2022-12-05T17:34:48.012321Z",
     "iopub.status.busy": "2022-12-05T17:34:48.011982Z",
     "iopub.status.idle": "2022-12-05T17:34:48.038023Z",
     "shell.execute_reply": "2022-12-05T17:34:48.037471Z"
    },
    "papermill": {
     "duration": 0.688013,
     "end_time": "2022-12-05T17:34:48.038864",
     "exception": false,
     "start_time": "2022-12-05T17:34:47.350851",
     "status": "completed"
    },
    "tags": []
   },
   "outputs": [
    {
     "name": "stdout",
     "output_type": "stream",
     "text": [
      "Works!\n"
     ]
    }
   ],
   "source": [
    "try:\n",
    "    chol_mat = np.linalg.cholesky(gene_corrs_df.to_numpy())\n",
    "    cov_inv = np.linalg.inv(chol_mat)\n",
    "    print(\"Works!\")\n",
    "except Exception as e:\n",
    "    print(f\"Cholesky decomposition failed: {str(e)}\")"
   ]
  },
  {
   "cell_type": "code",
   "execution_count": 39,
   "id": "dd8827fb-faf9-4c7c-9454-015e94752706",
   "metadata": {
    "execution": {
     "iopub.execute_input": "2022-12-05T17:34:49.385211Z",
     "iopub.status.busy": "2022-12-05T17:34:49.384648Z",
     "iopub.status.idle": "2022-12-05T17:34:49.410496Z",
     "shell.execute_reply": "2022-12-05T17:34:49.409940Z"
    },
    "papermill": {
     "duration": 0.690893,
     "end_time": "2022-12-05T17:34:49.411339",
     "exception": false,
     "start_time": "2022-12-05T17:34:48.720446",
     "status": "completed"
    },
    "tags": []
   },
   "outputs": [
    {
     "name": "stdout",
     "output_type": "stream",
     "text": [
      "Works!\n"
     ]
    }
   ],
   "source": [
    "try:\n",
    "    # decomposition used by statsmodels.GLS\n",
    "    cholsigmainv = np.linalg.cholesky(np.linalg.inv(gene_corrs_df.to_numpy())).T\n",
    "    print(\"Works!\")\n",
    "except Exception as e:\n",
    "    print(f\"Cholesky decomposition failed (statsmodels.GLS): {str(e)}\")"
   ]
  },
  {
   "cell_type": "markdown",
   "id": "8e60a080-edb2-4e9c-b2ef-22961693200c",
   "metadata": {
    "papermill": {
     "duration": 0.658134,
     "end_time": "2022-12-05T17:34:50.720890",
     "exception": false,
     "start_time": "2022-12-05T17:34:50.062756",
     "status": "completed"
    },
    "tags": []
   },
   "source": [
    "## Plot: distribution"
   ]
  },
  {
   "cell_type": "code",
   "execution_count": 40,
   "id": "8301126b-a7d4-4744-9c7d-f0f86eb6f54c",
   "metadata": {
    "execution": {
     "iopub.execute_input": "2022-12-05T17:34:52.029116Z",
     "iopub.status.busy": "2022-12-05T17:34:52.028769Z",
     "iopub.status.idle": "2022-12-05T17:34:52.328547Z",
     "shell.execute_reply": "2022-12-05T17:34:52.328092Z"
    },
    "papermill": {
     "duration": 0.955007,
     "end_time": "2022-12-05T17:34:52.329347",
     "exception": false,
     "start_time": "2022-12-05T17:34:51.374340",
     "status": "completed"
    },
    "tags": []
   },
   "outputs": [
    {
     "data": {
      "image/png": "[encoded data removed]",
      "text/plain": [
       "<Figure size 700x700 with 1 Axes>"
      ]
     },
     "metadata": {},
     "output_type": "display_data"
    }
   ],
   "source": [
    "with sns.plotting_context(\"paper\", font_scale=1.5):\n",
    "    g = sns.displot(gene_corrs_flat, kde=True, height=7)\n",
    "    g.ax.set_title(\n",
    "        f\"Distribution of gene correlation values in chromosome {CHROMOSOME}\"\n",
    "    )"
   ]
  },
  {
   "cell_type": "markdown",
   "id": "cbd52bca-d878-4a2f-b684-5c83aa3038d4",
   "metadata": {
    "papermill": {
     "duration": 0.673083,
     "end_time": "2022-12-05T17:34:53.683485",
     "exception": false,
     "start_time": "2022-12-05T17:34:53.010402",
     "status": "completed"
    },
    "tags": []
   },
   "source": [
    "## Plot: heatmap"
   ]
  },
  {
   "cell_type": "code",
   "execution_count": 41,
   "id": "d03fe63a-c7b2-4fb9-a53c-db362ce843c9",
   "metadata": {
    "execution": {
     "iopub.execute_input": "2022-12-05T17:34:55.025004Z",
     "iopub.status.busy": "2022-12-05T17:34:55.024668Z",
     "iopub.status.idle": "2022-12-05T17:34:55.044890Z",
     "shell.execute_reply": "2022-12-05T17:34:55.044352Z"
    },
    "papermill": {
     "duration": 0.691516,
     "end_time": "2022-12-05T17:34:55.045828",
     "exception": false,
     "start_time": "2022-12-05T17:34:54.354312",
     "status": "completed"
    },
    "tags": []
   },
   "outputs": [
    {
     "data": {
      "text/plain": [
       "'0.0 / 0.05'"
      ]
     },
     "metadata": {},
     "output_type": "display_data"
    }
   ],
   "source": [
    "vmin_val = min(0.00, gene_corrs_quantiles[0.10])\n",
    "vmax_val = max(0.05, gene_corrs_quantiles[0.90])\n",
    "display(f\"{vmin_val} / {vmax_val}\")"
   ]
  },
  {
   "cell_type": "code",
   "execution_count": 42,
   "id": "dc41b70b-5bcc-4d9e-9f33-a22c4a94dab5",
   "metadata": {
    "execution": {
     "iopub.execute_input": "2022-12-05T17:34:56.413370Z",
     "iopub.status.busy": "2022-12-05T17:34:56.412779Z",
     "iopub.status.idle": "2022-12-05T17:34:56.622136Z",
     "shell.execute_reply": "2022-12-05T17:34:56.621699Z"
    },
    "papermill": {
     "duration": 0.880401,
     "end_time": "2022-12-05T17:34:56.623112",
     "exception": false,
     "start_time": "2022-12-05T17:34:55.742711",
     "status": "completed"
    },
    "tags": []
   },
   "outputs": [
    {
     "data": {
      "text/plain": [
       "Text(0.5, 1.0, 'Gene correlations in chromosome 14')"
      ]
     },
     "execution_count": 42,
     "metadata": {},
     "output_type": "execute_result"
    },
    {
     "data": {
      "image/png": "[encoded data removed]",
      "text/plain": [
       "<Figure size 1000x1000 with 2 Axes>"
      ]
     },
     "metadata": {},
     "output_type": "display_data"
    }
   ],
   "source": [
    "f, ax = plt.subplots(figsize=(10, 10))\n",
    "sns.heatmap(\n",
    "    gene_corrs_df,\n",
    "    xticklabels=False,\n",
    "    yticklabels=False,\n",
    "    square=True,\n",
    "    vmin=vmin_val,\n",
    "    vmax=vmax_val,\n",
    "    cmap=\"rocket_r\",\n",
    "    ax=ax,\n",
    ")\n",
    "ax.set_title(f\"Gene correlations in chromosome {CHROMOSOME}\")"
   ]
  },
  {
   "cell_type": "code",
   "execution_count": null,
   "id": "b25e3ead",
   "metadata": {
    "papermill": {
     "duration": 0.681206,
     "end_time": "2022-12-05T17:34:58.041247",
     "exception": false,
     "start_time": "2022-12-05T17:34:57.360041",
     "status": "completed"
    },
    "tags": []
   },
   "outputs": [],
   "source": []
  }
 ],
 "metadata": {
  "jupytext": {
   "cell_metadata_filter": "all,-execution,-papermill,-trusted",
   "formats": "ipynb,py//py:percent"
  },
  "kernelspec": {
   "display_name": "Python 3 (ipykernel)",
   "language": "python",
   "name": "python3"
  },
  "language_info": {
   "codemirror_mode": {
    "name": "ipython",
    "version": 3
   },
   "file_extension": ".py",
   "mimetype": "text/x-python",
   "name": "python",
   "nbconvert_exporter": "python",
   "pygments_lexer": "ipython3",
   "version": "3.10.6"
  },
  "papermill": {
   "default_parameters": {},
   "duration": 230.7799,
   "end_time": "2022-12-05T17:35:01.846446",
   "environment_variables": {},
   "exception": null,
   "input_path": "projects/asthma-copd/nbs/20_gene_corrs/jobs/05-gene_expr_correlations.ipynb",
   "output_path": "projects/asthma-copd/nbs/20_gene_corrs/jobs/../output/aco/05-gene_expr_correlations-chr14.run.ipynb",
   "parameters": {
    "CHROMOSOME": 14,
    "COHORT_NAME": "aco",
    "OUTPUT_DIR_BASE": "/opt/data/projects/asthma-copd/results/gls_phenoplier",
    "PHENOPLIER_NOTEBOOK_FILEPATH": "projects/asthma-copd/nbs/20_gene_corrs/jobs/05-gene_expr_correlations.ipynb"
   },
   "start_time": "2022-12-05T17:31:11.066546",
   "version": "2.2.2"
  }
 },
 "nbformat": 4,
 "nbformat_minor": 5
}
