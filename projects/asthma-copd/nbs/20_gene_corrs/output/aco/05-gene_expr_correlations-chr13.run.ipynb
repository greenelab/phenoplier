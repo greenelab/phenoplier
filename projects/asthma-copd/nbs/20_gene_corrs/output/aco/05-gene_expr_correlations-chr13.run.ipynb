{
 "cells": [
  {
   "cell_type": "markdown",
   "id": "7a6632fb",
   "metadata": {
    "papermill": {
     "duration": 0.016785,
     "end_time": "2022-12-15T18:06:16.419117",
     "exception": false,
     "start_time": "2022-12-15T18:06:16.402332",
     "status": "completed"
    },
    "tags": []
   },
   "source": [
    "# Description"
   ]
  },
  {
   "cell_type": "markdown",
   "id": "7097c346",
   "metadata": {
    "papermill": {
     "duration": 0.007128,
     "end_time": "2022-12-15T18:06:16.439454",
     "exception": false,
     "start_time": "2022-12-15T18:06:16.432326",
     "status": "completed"
    },
    "tags": []
   },
   "source": [
    "(Please, take a look at the README.md file in this directory for instructions on how to run this notebook)\n",
    "\n",
    "This notebook computes predicted expression correlations between all genes in the MultiPLIER models.\n",
    "\n",
    "It has specicfic parameters for papermill (see under `Settings` below).\n",
    "It can be configured to run on a single chromosome to run in parallel.\n",
    "\n",
    "This notebook is not directly run. See README.md."
   ]
  },
  {
   "cell_type": "markdown",
   "id": "c61d8427",
   "metadata": {
    "papermill": {
     "duration": 0.006748,
     "end_time": "2022-12-15T18:06:16.452790",
     "exception": false,
     "start_time": "2022-12-15T18:06:16.446042",
     "status": "completed"
    },
    "tags": []
   },
   "source": [
    "# Modules"
   ]
  },
  {
   "cell_type": "code",
   "execution_count": 1,
   "id": "bbc0234f",
   "metadata": {
    "execution": {
     "iopub.execute_input": "2022-12-15T18:06:16.468661Z",
     "iopub.status.busy": "2022-12-15T18:06:16.467917Z",
     "iopub.status.idle": "2022-12-15T18:06:16.485413Z",
     "shell.execute_reply": "2022-12-15T18:06:16.484892Z"
    },
    "papermill": {
     "duration": 0.026772,
     "end_time": "2022-12-15T18:06:16.486871",
     "exception": false,
     "start_time": "2022-12-15T18:06:16.460099",
     "status": "completed"
    },
    "tags": []
   },
   "outputs": [],
   "source": [
    "%load_ext autoreload\n",
    "%autoreload 2"
   ]
  },
  {
   "cell_type": "code",
   "execution_count": 2,
   "id": "1d5f5a59",
   "metadata": {
    "execution": {
     "iopub.execute_input": "2022-12-15T18:06:16.502448Z",
     "iopub.status.busy": "2022-12-15T18:06:16.502132Z",
     "iopub.status.idle": "2022-12-15T18:06:17.312026Z",
     "shell.execute_reply": "2022-12-15T18:06:17.311528Z"
    },
    "papermill": {
     "duration": 0.818941,
     "end_time": "2022-12-15T18:06:17.313300",
     "exception": false,
     "start_time": "2022-12-15T18:06:16.494359",
     "status": "completed"
    },
    "tags": []
   },
   "outputs": [],
   "source": [
    "from random import sample, seed\n",
    "import warnings\n",
    "from pathlib import Path\n",
    "import pickle\n",
    "import traceback\n",
    "\n",
    "import numpy as np\n",
    "from scipy.spatial.distance import squareform\n",
    "import pandas as pd\n",
    "from tqdm import tqdm\n",
    "import matplotlib.pyplot as plt\n",
    "import seaborn as sns\n",
    "\n",
    "import conf\n",
    "from entity import Gene"
   ]
  },
  {
   "cell_type": "markdown",
   "id": "1eac24b5",
   "metadata": {
    "papermill": {
     "duration": 0.009763,
     "end_time": "2022-12-15T18:06:17.328527",
     "exception": false,
     "start_time": "2022-12-15T18:06:17.318764",
     "status": "completed"
    },
    "tags": []
   },
   "source": [
    "# Settings"
   ]
  },
  {
   "cell_type": "code",
   "execution_count": 3,
   "id": "ca4560ba",
   "metadata": {
    "execution": {
     "iopub.execute_input": "2022-12-15T18:06:17.340250Z",
     "iopub.status.busy": "2022-12-15T18:06:17.339977Z",
     "iopub.status.idle": "2022-12-15T18:06:17.354901Z",
     "shell.execute_reply": "2022-12-15T18:06:17.354435Z"
    },
    "papermill": {
     "duration": 0.022268,
     "end_time": "2022-12-15T18:06:17.355895",
     "exception": false,
     "start_time": "2022-12-15T18:06:17.333627",
     "status": "completed"
    },
    "tags": [
     "parameters"
    ]
   },
   "outputs": [],
   "source": [
    "# a cohort name (it could be something like UK_BIOBANK, etc)\n",
    "COHORT_NAME = None\n",
    "\n",
    "# reference panel such as 1000G or GTEX_V8\n",
    "REFERENCE_PANEL = \"GTEX_V8\"\n",
    "\n",
    "# predictions models such as MASHR or ELASTIC_NET\n",
    "EQTL_MODEL = \"MASHR\"\n",
    "\n",
    "# this is the default value used in S-MultiXcan to select the\n",
    "# top principal components of the expression correlation matrix\n",
    "SMULTIXCAN_CONDITION_NUMBER = 30\n",
    "\n",
    "# specifies a single chromosome value\n",
    "CHROMOSOME = None\n",
    "\n",
    "# If True, computes the correlation between closeby genes only (see\n",
    "# entity.Gene.within_distance for more details). Otherwise, it computes\n",
    "# correlations for all genes in a chromosome\n",
    "COMPUTE_CORRELATIONS_WITHIN_DISTANCE = True\n",
    "\n",
    "# if True, then it will continue if a gene pair correlation fails,\n",
    "# printing the warning/error for debugging. If False, any warning/error\n",
    "# will be thrown\n",
    "DEBUG_MODE = False\n",
    "\n",
    "# output dir\n",
    "OUTPUT_DIR_BASE = None"
   ]
  },
  {
   "cell_type": "code",
   "execution_count": 4,
   "id": "be33dd52",
   "metadata": {
    "execution": {
     "iopub.execute_input": "2022-12-15T18:06:17.366855Z",
     "iopub.status.busy": "2022-12-15T18:06:17.366653Z",
     "iopub.status.idle": "2022-12-15T18:06:17.380887Z",
     "shell.execute_reply": "2022-12-15T18:06:17.380380Z"
    },
    "papermill": {
     "duration": 0.020998,
     "end_time": "2022-12-15T18:06:17.382069",
     "exception": false,
     "start_time": "2022-12-15T18:06:17.361071",
     "status": "completed"
    },
    "tags": [
     "injected-parameters"
    ]
   },
   "outputs": [],
   "source": [
    "# Parameters\n",
    "PHENOPLIER_NOTEBOOK_FILEPATH = (\n",
    "    \"projects/asthma-copd/nbs/20_gene_corrs/jobs/05-gene_expr_correlations.ipynb\"\n",
    ")\n",
    "COHORT_NAME = \"aco\"\n",
    "CHROMOSOME = 13\n",
    "OUTPUT_DIR_BASE = \"/opt/data/projects/asthma-copd/results/gls_phenoplier\"\n"
   ]
  },
  {
   "cell_type": "code",
   "execution_count": 5,
   "id": "3190631f-27fc-480f-b18e-571d580425a5",
   "metadata": {
    "execution": {
     "iopub.execute_input": "2022-12-15T18:06:17.392369Z",
     "iopub.status.busy": "2022-12-15T18:06:17.392158Z",
     "iopub.status.idle": "2022-12-15T18:06:17.415688Z",
     "shell.execute_reply": "2022-12-15T18:06:17.415221Z"
    },
    "papermill": {
     "duration": 0.029847,
     "end_time": "2022-12-15T18:06:17.416693",
     "exception": false,
     "start_time": "2022-12-15T18:06:17.386846",
     "status": "completed"
    },
    "tags": []
   },
   "outputs": [
    {
     "data": {
      "text/plain": [
       "'Cohort name: aco'"
      ]
     },
     "metadata": {},
     "output_type": "display_data"
    }
   ],
   "source": [
    "assert COHORT_NAME is not None and len(COHORT_NAME) > 0, \"A cohort name must be given\"\n",
    "\n",
    "COHORT_NAME = COHORT_NAME.lower()\n",
    "display(f\"Cohort name: {COHORT_NAME}\")"
   ]
  },
  {
   "cell_type": "code",
   "execution_count": 6,
   "id": "f53ba19b-0f93-4fa2-a047-63b375939d1a",
   "metadata": {
    "execution": {
     "iopub.execute_input": "2022-12-15T18:06:17.428617Z",
     "iopub.status.busy": "2022-12-15T18:06:17.428334Z",
     "iopub.status.idle": "2022-12-15T18:06:17.444288Z",
     "shell.execute_reply": "2022-12-15T18:06:17.443760Z"
    },
    "papermill": {
     "duration": 0.023246,
     "end_time": "2022-12-15T18:06:17.445259",
     "exception": false,
     "start_time": "2022-12-15T18:06:17.422013",
     "status": "completed"
    },
    "tags": []
   },
   "outputs": [
    {
     "data": {
      "text/plain": [
       "'Reference panel: GTEX_V8'"
      ]
     },
     "metadata": {},
     "output_type": "display_data"
    }
   ],
   "source": [
    "assert (\n",
    "    REFERENCE_PANEL is not None and len(REFERENCE_PANEL) > 0\n",
    "), \"A reference panel must be given\"\n",
    "\n",
    "display(f\"Reference panel: {REFERENCE_PANEL}\")"
   ]
  },
  {
   "cell_type": "code",
   "execution_count": 7,
   "id": "e024d130-c139-429a-9c6e-ccf149e297b0",
   "metadata": {
    "execution": {
     "iopub.execute_input": "2022-12-15T18:06:17.456271Z",
     "iopub.status.busy": "2022-12-15T18:06:17.456064Z",
     "iopub.status.idle": "2022-12-15T18:06:17.476653Z",
     "shell.execute_reply": "2022-12-15T18:06:17.476230Z"
    },
    "papermill": {
     "duration": 0.027179,
     "end_time": "2022-12-15T18:06:17.477610",
     "exception": false,
     "start_time": "2022-12-15T18:06:17.450431",
     "status": "completed"
    },
    "tags": []
   },
   "outputs": [
    {
     "data": {
      "text/plain": [
       "'eQTL model: MASHR) / mashr_'"
      ]
     },
     "metadata": {},
     "output_type": "display_data"
    }
   ],
   "source": [
    "assert (\n",
    "    EQTL_MODEL is not None and len(EQTL_MODEL) > 0\n",
    "), \"A prediction/eQTL model must be given\"\n",
    "\n",
    "EQTL_MODEL_FILES_PREFIX = conf.PHENOMEXCAN[\"PREDICTION_MODELS\"][f\"{EQTL_MODEL}_PREFIX\"]\n",
    "display(f\"eQTL model: {EQTL_MODEL}) / {EQTL_MODEL_FILES_PREFIX}\")"
   ]
  },
  {
   "cell_type": "code",
   "execution_count": 8,
   "id": "552a7f63-a18c-4d3e-bb6a-94f99b431291",
   "metadata": {
    "execution": {
     "iopub.execute_input": "2022-12-15T18:06:17.489424Z",
     "iopub.status.busy": "2022-12-15T18:06:17.489149Z",
     "iopub.status.idle": "2022-12-15T18:06:17.509193Z",
     "shell.execute_reply": "2022-12-15T18:06:17.508772Z"
    },
    "papermill": {
     "duration": 0.027259,
     "end_time": "2022-12-15T18:06:17.510115",
     "exception": false,
     "start_time": "2022-12-15T18:06:17.482856",
     "status": "completed"
    },
    "tags": []
   },
   "outputs": [
    {
     "data": {
      "text/plain": [
       "'S-MultiXcan condition number: 30'"
      ]
     },
     "metadata": {},
     "output_type": "display_data"
    }
   ],
   "source": [
    "assert (\n",
    "    SMULTIXCAN_CONDITION_NUMBER is not None and SMULTIXCAN_CONDITION_NUMBER > 0\n",
    "), \"The S-MultiXcan condition number (positive integer) must be given\"\n",
    "\n",
    "display(f\"S-MultiXcan condition number: {SMULTIXCAN_CONDITION_NUMBER}\")"
   ]
  },
  {
   "cell_type": "code",
   "execution_count": 9,
   "id": "f34a336f-548e-4afe-8955-90eaea4f42c6",
   "metadata": {
    "execution": {
     "iopub.execute_input": "2022-12-15T18:06:17.521912Z",
     "iopub.status.busy": "2022-12-15T18:06:17.521617Z",
     "iopub.status.idle": "2022-12-15T18:06:17.542101Z",
     "shell.execute_reply": "2022-12-15T18:06:17.541577Z"
    },
    "papermill": {
     "duration": 0.02781,
     "end_time": "2022-12-15T18:06:17.543454",
     "exception": false,
     "start_time": "2022-12-15T18:06:17.515644",
     "status": "completed"
    },
    "tags": []
   },
   "outputs": [
    {
     "data": {
      "text/plain": [
       "'Working on chromosome 13'"
      ]
     },
     "metadata": {},
     "output_type": "display_data"
    }
   ],
   "source": [
    "assert CHROMOSOME is not None and (\n",
    "    1 <= CHROMOSOME <= 22\n",
    "), \"You have to select one chromosome (format: number between 1 and 22)\"\n",
    "\n",
    "display(f\"Working on chromosome {CHROMOSOME}\")"
   ]
  },
  {
   "cell_type": "code",
   "execution_count": 10,
   "id": "ab8e96e8-06b5-4363-9dcd-dc4d78cc27f7",
   "metadata": {
    "execution": {
     "iopub.execute_input": "2022-12-15T18:06:17.561424Z",
     "iopub.status.busy": "2022-12-15T18:06:17.561070Z",
     "iopub.status.idle": "2022-12-15T18:06:17.580778Z",
     "shell.execute_reply": "2022-12-15T18:06:17.580351Z"
    },
    "papermill": {
     "duration": 0.029696,
     "end_time": "2022-12-15T18:06:17.582202",
     "exception": false,
     "start_time": "2022-12-15T18:06:17.552506",
     "status": "completed"
    },
    "tags": []
   },
   "outputs": [
    {
     "data": {
      "text/plain": [
       "'Compute correlation within distance True'"
      ]
     },
     "metadata": {},
     "output_type": "display_data"
    }
   ],
   "source": [
    "display(f\"Compute correlation within distance {COMPUTE_CORRELATIONS_WITHIN_DISTANCE}\")"
   ]
  },
  {
   "cell_type": "code",
   "execution_count": 11,
   "id": "b393b698-77e3-4ba2-8ac1-e14d51aa988f",
   "metadata": {
    "execution": {
     "iopub.execute_input": "2022-12-15T18:06:17.600399Z",
     "iopub.status.busy": "2022-12-15T18:06:17.600128Z",
     "iopub.status.idle": "2022-12-15T18:06:17.619868Z",
     "shell.execute_reply": "2022-12-15T18:06:17.619379Z"
    },
    "papermill": {
     "duration": 0.030444,
     "end_time": "2022-12-15T18:06:17.621243",
     "exception": false,
     "start_time": "2022-12-15T18:06:17.590799",
     "status": "completed"
    },
    "tags": []
   },
   "outputs": [
    {
     "data": {
      "text/plain": [
       "'Using output dir base: /opt/data/projects/asthma-copd/results/gls_phenoplier/gene_corrs/aco'"
      ]
     },
     "metadata": {},
     "output_type": "display_data"
    }
   ],
   "source": [
    "assert (\n",
    "    OUTPUT_DIR_BASE is not None and len(OUTPUT_DIR_BASE) > 0\n",
    "), \"Output directory path must be given\"\n",
    "\n",
    "OUTPUT_DIR_BASE = (Path(OUTPUT_DIR_BASE) / \"gene_corrs\" / COHORT_NAME).resolve()\n",
    "\n",
    "OUTPUT_DIR_BASE.mkdir(parents=True, exist_ok=True)\n",
    "\n",
    "display(f\"Using output dir base: {OUTPUT_DIR_BASE}\")"
   ]
  },
  {
   "cell_type": "markdown",
   "id": "d2ba085e",
   "metadata": {
    "papermill": {
     "duration": 0.010945,
     "end_time": "2022-12-15T18:06:17.641314",
     "exception": false,
     "start_time": "2022-12-15T18:06:17.630369",
     "status": "completed"
    },
    "tags": []
   },
   "source": [
    "# Load data"
   ]
  },
  {
   "cell_type": "markdown",
   "id": "7dcb8db7",
   "metadata": {
    "papermill": {
     "duration": 0.008078,
     "end_time": "2022-12-15T18:06:17.657805",
     "exception": false,
     "start_time": "2022-12-15T18:06:17.649727",
     "status": "completed"
    },
    "tags": []
   },
   "source": [
    "## GWAS variants"
   ]
  },
  {
   "cell_type": "code",
   "execution_count": 12,
   "id": "29434c4e-8cd3-4b9b-82e4-b5a251d9dd19",
   "metadata": {
    "execution": {
     "iopub.execute_input": "2022-12-15T18:06:17.675964Z",
     "iopub.status.busy": "2022-12-15T18:06:17.675659Z",
     "iopub.status.idle": "2022-12-15T18:06:19.970762Z",
     "shell.execute_reply": "2022-12-15T18:06:19.970224Z"
    },
    "papermill": {
     "duration": 2.305448,
     "end_time": "2022-12-15T18:06:19.972334",
     "exception": false,
     "start_time": "2022-12-15T18:06:17.666886",
     "status": "completed"
    },
    "tags": []
   },
   "outputs": [],
   "source": [
    "with open(OUTPUT_DIR_BASE / \"gwas_variant_ids.pkl\", \"rb\") as handle:\n",
    "    gwas_variants_ids_set = pickle.load(handle)"
   ]
  },
  {
   "cell_type": "code",
   "execution_count": 13,
   "id": "b9d9dec2-4a76-4bf9-bde2-e24c95acb8a0",
   "metadata": {
    "execution": {
     "iopub.execute_input": "2022-12-15T18:06:19.992882Z",
     "iopub.status.busy": "2022-12-15T18:06:19.992511Z",
     "iopub.status.idle": "2022-12-15T18:06:20.015605Z",
     "shell.execute_reply": "2022-12-15T18:06:20.014839Z"
    },
    "papermill": {
     "duration": 0.035273,
     "end_time": "2022-12-15T18:06:20.016993",
     "exception": false,
     "start_time": "2022-12-15T18:06:19.981720",
     "status": "completed"
    },
    "tags": []
   },
   "outputs": [
    {
     "data": {
      "text/plain": [
       "8561476"
      ]
     },
     "execution_count": 13,
     "metadata": {},
     "output_type": "execute_result"
    }
   ],
   "source": [
    "len(gwas_variants_ids_set)"
   ]
  },
  {
   "cell_type": "code",
   "execution_count": 14,
   "id": "4235b06a-6034-4ee4-a0a3-2ae35d122418",
   "metadata": {
    "execution": {
     "iopub.execute_input": "2022-12-15T18:06:20.037152Z",
     "iopub.status.busy": "2022-12-15T18:06:20.036708Z",
     "iopub.status.idle": "2022-12-15T18:06:20.532739Z",
     "shell.execute_reply": "2022-12-15T18:06:20.532336Z"
    },
    "papermill": {
     "duration": 0.506775,
     "end_time": "2022-12-15T18:06:20.534064",
     "exception": false,
     "start_time": "2022-12-15T18:06:20.027289",
     "status": "completed"
    },
    "tags": []
   },
   "outputs": [
    {
     "data": {
      "text/plain": [
       "['chr10_126140777_A_T_b38',\n",
       " 'chr9_108070976_A_G_b38',\n",
       " 'chr1_48573917_A_T_b38',\n",
       " 'chr17_51852091_C_T_b38',\n",
       " 'chr15_78016426_T_C_b38']"
      ]
     },
     "execution_count": 14,
     "metadata": {},
     "output_type": "execute_result"
    }
   ],
   "source": [
    "list(gwas_variants_ids_set)[:5]"
   ]
  },
  {
   "cell_type": "markdown",
   "id": "07866999-2305-41f9-a144-e69c9122c212",
   "metadata": {
    "papermill": {
     "duration": 0.009792,
     "end_time": "2022-12-15T18:06:20.553729",
     "exception": false,
     "start_time": "2022-12-15T18:06:20.543937",
     "status": "completed"
    },
    "tags": []
   },
   "source": [
    "## S-PrediXcan tissue models"
   ]
  },
  {
   "cell_type": "code",
   "execution_count": 15,
   "id": "780611d9-77c8-405f-90a4-f271f7b09397",
   "metadata": {
    "execution": {
     "iopub.execute_input": "2022-12-15T18:06:20.575718Z",
     "iopub.status.busy": "2022-12-15T18:06:20.575382Z",
     "iopub.status.idle": "2022-12-15T18:06:21.358328Z",
     "shell.execute_reply": "2022-12-15T18:06:21.357767Z"
    },
    "papermill": {
     "duration": 0.795334,
     "end_time": "2022-12-15T18:06:21.359913",
     "exception": false,
     "start_time": "2022-12-15T18:06:20.564579",
     "status": "completed"
    },
    "tags": []
   },
   "outputs": [],
   "source": [
    "spredixcan_genes_models = pd.read_pickle(OUTPUT_DIR_BASE / \"gene_tissues.pkl\")"
   ]
  },
  {
   "cell_type": "code",
   "execution_count": 16,
   "id": "726dd1f6-9557-4225-91fa-b3b879ea96e1",
   "metadata": {
    "execution": {
     "iopub.execute_input": "2022-12-15T18:06:21.380346Z",
     "iopub.status.busy": "2022-12-15T18:06:21.380116Z",
     "iopub.status.idle": "2022-12-15T18:06:21.395288Z",
     "shell.execute_reply": "2022-12-15T18:06:21.394867Z"
    },
    "papermill": {
     "duration": 0.026849,
     "end_time": "2022-12-15T18:06:21.396551",
     "exception": false,
     "start_time": "2022-12-15T18:06:21.369702",
     "status": "completed"
    },
    "tags": []
   },
   "outputs": [
    {
     "data": {
      "text/plain": [
       "(6442, 5)"
      ]
     },
     "execution_count": 16,
     "metadata": {},
     "output_type": "execute_result"
    }
   ],
   "source": [
    "spredixcan_genes_models.shape"
   ]
  },
  {
   "cell_type": "code",
   "execution_count": 17,
   "id": "944a1b48-222c-4eb0-b252-b9de2cbca215",
   "metadata": {
    "execution": {
     "iopub.execute_input": "2022-12-15T18:06:21.416842Z",
     "iopub.status.busy": "2022-12-15T18:06:21.416681Z",
     "iopub.status.idle": "2022-12-15T18:06:21.436640Z",
     "shell.execute_reply": "2022-12-15T18:06:21.436230Z"
    },
    "papermill": {
     "duration": 0.031629,
     "end_time": "2022-12-15T18:06:21.437873",
     "exception": false,
     "start_time": "2022-12-15T18:06:21.406244",
     "status": "completed"
    },
    "tags": []
   },
   "outputs": [
    {
     "data": {
      "text/html": [
       "<div>\n",
       "<style scoped>\n",
       "    .dataframe tbody tr th:only-of-type {\n",
       "        vertical-align: middle;\n",
       "    }\n",
       "\n",
       "    .dataframe tbody tr th {\n",
       "        vertical-align: top;\n",
       "    }\n",
       "\n",
       "    .dataframe thead th {\n",
       "        text-align: right;\n",
       "    }\n",
       "</style>\n",
       "<table border=\"1\" class=\"dataframe\">\n",
       "  <thead>\n",
       "    <tr style=\"text-align: right;\">\n",
       "      <th></th>\n",
       "      <th>gene_name</th>\n",
       "      <th>tissue</th>\n",
       "      <th>n_tissues</th>\n",
       "      <th>n_snps_used_sum</th>\n",
       "      <th>n_snps_in_model_sum</th>\n",
       "    </tr>\n",
       "    <tr>\n",
       "      <th>gene_id</th>\n",
       "      <th></th>\n",
       "      <th></th>\n",
       "      <th></th>\n",
       "      <th></th>\n",
       "      <th></th>\n",
       "    </tr>\n",
       "  </thead>\n",
       "  <tbody>\n",
       "    <tr>\n",
       "      <th>ENSG00000000419</th>\n",
       "      <td>DPM1</td>\n",
       "      <td>(Brain_Hypothalamus, Brain_Substantia_nigra)</td>\n",
       "      <td>2</td>\n",
       "      <td>2</td>\n",
       "      <td>2</td>\n",
       "    </tr>\n",
       "    <tr>\n",
       "      <th>ENSG00000000938</th>\n",
       "      <td>FGR</td>\n",
       "      <td>(Esophagus_Mucosa, Artery_Aorta, Adipose_Subcu...</td>\n",
       "      <td>36</td>\n",
       "      <td>40</td>\n",
       "      <td>40</td>\n",
       "    </tr>\n",
       "    <tr>\n",
       "      <th>ENSG00000000971</th>\n",
       "      <td>CFH</td>\n",
       "      <td>(Artery_Aorta, Stomach, Thyroid, Brain_Hippoca...</td>\n",
       "      <td>34</td>\n",
       "      <td>44</td>\n",
       "      <td>44</td>\n",
       "    </tr>\n",
       "    <tr>\n",
       "      <th>ENSG00000001084</th>\n",
       "      <td>GCLC</td>\n",
       "      <td>(Artery_Aorta, Adipose_Subcutaneous, Thyroid, ...</td>\n",
       "      <td>32</td>\n",
       "      <td>46</td>\n",
       "      <td>46</td>\n",
       "    </tr>\n",
       "    <tr>\n",
       "      <th>ENSG00000001167</th>\n",
       "      <td>NFYA</td>\n",
       "      <td>(Esophagus_Mucosa, Minor_Salivary_Gland, Arter...</td>\n",
       "      <td>40</td>\n",
       "      <td>47</td>\n",
       "      <td>48</td>\n",
       "    </tr>\n",
       "  </tbody>\n",
       "</table>\n",
       "</div>"
      ],
      "text/plain": [
       "                gene_name                                             tissue  \\\n",
       "gene_id                                                                        \n",
       "ENSG00000000419      DPM1       (Brain_Hypothalamus, Brain_Substantia_nigra)   \n",
       "ENSG00000000938       FGR  (Esophagus_Mucosa, Artery_Aorta, Adipose_Subcu...   \n",
       "ENSG00000000971       CFH  (Artery_Aorta, Stomach, Thyroid, Brain_Hippoca...   \n",
       "ENSG00000001084      GCLC  (Artery_Aorta, Adipose_Subcutaneous, Thyroid, ...   \n",
       "ENSG00000001167      NFYA  (Esophagus_Mucosa, Minor_Salivary_Gland, Arter...   \n",
       "\n",
       "                 n_tissues  n_snps_used_sum  n_snps_in_model_sum  \n",
       "gene_id                                                           \n",
       "ENSG00000000419          2                2                    2  \n",
       "ENSG00000000938         36               40                   40  \n",
       "ENSG00000000971         34               44                   44  \n",
       "ENSG00000001084         32               46                   46  \n",
       "ENSG00000001167         40               47                   48  "
      ]
     },
     "execution_count": 17,
     "metadata": {},
     "output_type": "execute_result"
    }
   ],
   "source": [
    "spredixcan_genes_models.head()"
   ]
  },
  {
   "cell_type": "code",
   "execution_count": 18,
   "id": "d1c11bb1-be0b-4f40-b360-633d6827109f",
   "metadata": {
    "execution": {
     "iopub.execute_input": "2022-12-15T18:06:21.458759Z",
     "iopub.status.busy": "2022-12-15T18:06:21.458494Z",
     "iopub.status.idle": "2022-12-15T18:06:21.473337Z",
     "shell.execute_reply": "2022-12-15T18:06:21.472913Z"
    },
    "papermill": {
     "duration": 0.026596,
     "end_time": "2022-12-15T18:06:21.474630",
     "exception": false,
     "start_time": "2022-12-15T18:06:21.448034",
     "status": "completed"
    },
    "tags": []
   },
   "outputs": [],
   "source": [
    "assert spredixcan_genes_models.index.is_unique"
   ]
  },
  {
   "cell_type": "markdown",
   "id": "a5b5092c-a13e-47c4-a92a-480fcc08f3ae",
   "metadata": {
    "papermill": {
     "duration": 0.010387,
     "end_time": "2022-12-15T18:06:21.495045",
     "exception": false,
     "start_time": "2022-12-15T18:06:21.484658",
     "status": "completed"
    },
    "tags": []
   },
   "source": [
    "## Gene info"
   ]
  },
  {
   "cell_type": "code",
   "execution_count": 19,
   "id": "7d6bb224-88e9-4358-ac10-43a41d92cdad",
   "metadata": {
    "execution": {
     "iopub.execute_input": "2022-12-15T18:06:21.515395Z",
     "iopub.status.busy": "2022-12-15T18:06:21.514998Z",
     "iopub.status.idle": "2022-12-15T18:06:21.545125Z",
     "shell.execute_reply": "2022-12-15T18:06:21.544589Z"
    },
    "papermill": {
     "duration": 0.041833,
     "end_time": "2022-12-15T18:06:21.546712",
     "exception": false,
     "start_time": "2022-12-15T18:06:21.504879",
     "status": "completed"
    },
    "tags": []
   },
   "outputs": [],
   "source": [
    "genes_info = pd.read_pickle(OUTPUT_DIR_BASE / \"genes_info.pkl\")"
   ]
  },
  {
   "cell_type": "code",
   "execution_count": 20,
   "id": "9e32abfa-546d-483e-8c18-d526e9e05903",
   "metadata": {
    "execution": {
     "iopub.execute_input": "2022-12-15T18:06:21.569031Z",
     "iopub.status.busy": "2022-12-15T18:06:21.568545Z",
     "iopub.status.idle": "2022-12-15T18:06:21.583320Z",
     "shell.execute_reply": "2022-12-15T18:06:21.582878Z"
    },
    "papermill": {
     "duration": 0.026711,
     "end_time": "2022-12-15T18:06:21.584526",
     "exception": false,
     "start_time": "2022-12-15T18:06:21.557815",
     "status": "completed"
    },
    "tags": []
   },
   "outputs": [
    {
     "data": {
      "text/plain": [
       "(6442, 7)"
      ]
     },
     "execution_count": 20,
     "metadata": {},
     "output_type": "execute_result"
    }
   ],
   "source": [
    "genes_info.shape"
   ]
  },
  {
   "cell_type": "code",
   "execution_count": 21,
   "id": "d16c3e92-85ec-468a-9a56-e25a9774a1cb",
   "metadata": {
    "execution": {
     "iopub.execute_input": "2022-12-15T18:06:21.605789Z",
     "iopub.status.busy": "2022-12-15T18:06:21.605559Z",
     "iopub.status.idle": "2022-12-15T18:06:21.621632Z",
     "shell.execute_reply": "2022-12-15T18:06:21.621197Z"
    },
    "papermill": {
     "duration": 0.028184,
     "end_time": "2022-12-15T18:06:21.622957",
     "exception": false,
     "start_time": "2022-12-15T18:06:21.594773",
     "status": "completed"
    },
    "tags": []
   },
   "outputs": [
    {
     "data": {
      "text/html": [
       "<div>\n",
       "<style scoped>\n",
       "    .dataframe tbody tr th:only-of-type {\n",
       "        vertical-align: middle;\n",
       "    }\n",
       "\n",
       "    .dataframe tbody tr th {\n",
       "        vertical-align: top;\n",
       "    }\n",
       "\n",
       "    .dataframe thead th {\n",
       "        text-align: right;\n",
       "    }\n",
       "</style>\n",
       "<table border=\"1\" class=\"dataframe\">\n",
       "  <thead>\n",
       "    <tr style=\"text-align: right;\">\n",
       "      <th></th>\n",
       "      <th>name</th>\n",
       "      <th>id</th>\n",
       "      <th>chr</th>\n",
       "      <th>band</th>\n",
       "      <th>start_position</th>\n",
       "      <th>end_position</th>\n",
       "      <th>gene_length</th>\n",
       "    </tr>\n",
       "  </thead>\n",
       "  <tbody>\n",
       "    <tr>\n",
       "      <th>0</th>\n",
       "      <td>SLC38A1</td>\n",
       "      <td>ENSG00000111371</td>\n",
       "      <td>12</td>\n",
       "      <td>12q13.11</td>\n",
       "      <td>46183063</td>\n",
       "      <td>46270017</td>\n",
       "      <td>86954</td>\n",
       "    </tr>\n",
       "    <tr>\n",
       "      <th>1</th>\n",
       "      <td>SEC61A1</td>\n",
       "      <td>ENSG00000058262</td>\n",
       "      <td>3</td>\n",
       "      <td>3q21.3</td>\n",
       "      <td>128051641</td>\n",
       "      <td>128071683</td>\n",
       "      <td>20042</td>\n",
       "    </tr>\n",
       "    <tr>\n",
       "      <th>2</th>\n",
       "      <td>SYDE1</td>\n",
       "      <td>ENSG00000105137</td>\n",
       "      <td>19</td>\n",
       "      <td>19p13.12</td>\n",
       "      <td>15107401</td>\n",
       "      <td>15114985</td>\n",
       "      <td>7584</td>\n",
       "    </tr>\n",
       "    <tr>\n",
       "      <th>3</th>\n",
       "      <td>GEM</td>\n",
       "      <td>ENSG00000164949</td>\n",
       "      <td>8</td>\n",
       "      <td>8q22.1</td>\n",
       "      <td>94249253</td>\n",
       "      <td>94262350</td>\n",
       "      <td>13097</td>\n",
       "    </tr>\n",
       "    <tr>\n",
       "      <th>4</th>\n",
       "      <td>PTGS2</td>\n",
       "      <td>ENSG00000073756</td>\n",
       "      <td>1</td>\n",
       "      <td>1q31.1</td>\n",
       "      <td>186671791</td>\n",
       "      <td>186680423</td>\n",
       "      <td>8632</td>\n",
       "    </tr>\n",
       "  </tbody>\n",
       "</table>\n",
       "</div>"
      ],
      "text/plain": [
       "      name               id  chr      band  start_position  end_position  \\\n",
       "0  SLC38A1  ENSG00000111371   12  12q13.11        46183063      46270017   \n",
       "1  SEC61A1  ENSG00000058262    3    3q21.3       128051641     128071683   \n",
       "2    SYDE1  ENSG00000105137   19  19p13.12        15107401      15114985   \n",
       "3      GEM  ENSG00000164949    8    8q22.1        94249253      94262350   \n",
       "4    PTGS2  ENSG00000073756    1    1q31.1       186671791     186680423   \n",
       "\n",
       "   gene_length  \n",
       "0        86954  \n",
       "1        20042  \n",
       "2         7584  \n",
       "3        13097  \n",
       "4         8632  "
      ]
     },
     "execution_count": 21,
     "metadata": {},
     "output_type": "execute_result"
    }
   ],
   "source": [
    "genes_info.head()"
   ]
  },
  {
   "cell_type": "markdown",
   "id": "d3843e06",
   "metadata": {
    "papermill": {
     "duration": 0.010307,
     "end_time": "2022-12-15T18:06:21.643104",
     "exception": false,
     "start_time": "2022-12-15T18:06:21.632797",
     "status": "completed"
    },
    "tags": []
   },
   "source": [
    "# Compute correlations"
   ]
  },
  {
   "cell_type": "code",
   "execution_count": 22,
   "id": "cb859c15-d1f3-4006-a74c-2b83c0db9611",
   "metadata": {
    "execution": {
     "iopub.execute_input": "2022-12-15T18:06:21.665826Z",
     "iopub.status.busy": "2022-12-15T18:06:21.665400Z",
     "iopub.status.idle": "2022-12-15T18:06:21.686729Z",
     "shell.execute_reply": "2022-12-15T18:06:21.686301Z"
    },
    "papermill": {
     "duration": 0.033864,
     "end_time": "2022-12-15T18:06:21.687959",
     "exception": false,
     "start_time": "2022-12-15T18:06:21.654095",
     "status": "completed"
    },
    "tags": []
   },
   "outputs": [
    {
     "data": {
      "text/plain": [
       "PosixPath('/opt/data/projects/asthma-copd/results/gls_phenoplier/gene_corrs/aco/by_chr/gene_corrs-chr13.pkl')"
      ]
     },
     "metadata": {},
     "output_type": "display_data"
    }
   ],
   "source": [
    "output_dir = OUTPUT_DIR_BASE / \"by_chr\"\n",
    "output_dir.mkdir(exist_ok=True, parents=True)\n",
    "output_file = output_dir / f\"gene_corrs-chr{CHROMOSOME}.pkl\"\n",
    "display(output_file)"
   ]
  },
  {
   "cell_type": "code",
   "execution_count": 23,
   "id": "aa674fe4-6794-4eed-98fa-32b39d1d4ace",
   "metadata": {
    "execution": {
     "iopub.execute_input": "2022-12-15T18:06:21.709556Z",
     "iopub.status.busy": "2022-12-15T18:06:21.709370Z",
     "iopub.status.idle": "2022-12-15T18:06:21.722627Z",
     "shell.execute_reply": "2022-12-15T18:06:21.722236Z"
    },
    "papermill": {
     "duration": 0.025929,
     "end_time": "2022-12-15T18:06:21.723866",
     "exception": false,
     "start_time": "2022-12-15T18:06:21.697937",
     "status": "completed"
    },
    "tags": []
   },
   "outputs": [],
   "source": [
    "warnings.filterwarnings(\"error\")"
   ]
  },
  {
   "cell_type": "code",
   "execution_count": 24,
   "id": "44d5450b-3baf-43f1-9e2e-4b06f1a785f8",
   "metadata": {
    "execution": {
     "iopub.execute_input": "2022-12-15T18:06:21.745496Z",
     "iopub.status.busy": "2022-12-15T18:06:21.745301Z",
     "iopub.status.idle": "2022-12-15T18:06:21.764929Z",
     "shell.execute_reply": "2022-12-15T18:06:21.764299Z"
    },
    "papermill": {
     "duration": 0.03173,
     "end_time": "2022-12-15T18:06:21.766088",
     "exception": false,
     "start_time": "2022-12-15T18:06:21.734358",
     "status": "completed"
    },
    "tags": []
   },
   "outputs": [],
   "source": [
    "# standard checks\n",
    "all_chrs = genes_info[\"chr\"].dropna().unique()\n",
    "assert all_chrs.shape[0] == 22\n",
    "\n",
    "# select chromosome given by the user\n",
    "assert CHROMOSOME in all_chrs"
   ]
  },
  {
   "cell_type": "code",
   "execution_count": 25,
   "id": "2d7c043c-92a7-4d35-991b-fa69ac1e0268",
   "metadata": {
    "execution": {
     "iopub.execute_input": "2022-12-15T18:06:21.781634Z",
     "iopub.status.busy": "2022-12-15T18:06:21.781225Z",
     "iopub.status.idle": "2022-12-15T18:06:21.803063Z",
     "shell.execute_reply": "2022-12-15T18:06:21.802522Z"
    },
    "papermill": {
     "duration": 0.030239,
     "end_time": "2022-12-15T18:06:21.804072",
     "exception": false,
     "start_time": "2022-12-15T18:06:21.773833",
     "status": "completed"
    },
    "tags": []
   },
   "outputs": [
    {
     "name": "stdout",
     "output_type": "stream",
     "text": [
      "Number of genes in chromosome: 118\n"
     ]
    }
   ],
   "source": [
    "# run only on the chromosome specified\n",
    "all_chrs = [CHROMOSOME]\n",
    "genes_chr = genes_info[genes_info[\"chr\"] == CHROMOSOME]\n",
    "\n",
    "# For testing purposes\n",
    "# genes_chr = genes_chr.sample(n=20)\n",
    "\n",
    "print(f\"Number of genes in chromosome: {genes_chr.shape[0]}\", flush=True)"
   ]
  },
  {
   "cell_type": "code",
   "execution_count": 26,
   "id": "916015d8-2979-46d3-a9b9-1cf5a0932c6a",
   "metadata": {
    "execution": {
     "iopub.execute_input": "2022-12-15T18:06:21.818857Z",
     "iopub.status.busy": "2022-12-15T18:06:21.818364Z",
     "iopub.status.idle": "2022-12-15T18:06:21.839588Z",
     "shell.execute_reply": "2022-12-15T18:06:21.838882Z"
    },
    "papermill": {
     "duration": 0.030297,
     "end_time": "2022-12-15T18:06:21.840925",
     "exception": false,
     "start_time": "2022-12-15T18:06:21.810628",
     "status": "completed"
    },
    "tags": []
   },
   "outputs": [],
   "source": [
    "# sort genes by starting position to make visualizations better later\n",
    "genes_chr = genes_chr.sort_values(\"start_position\")"
   ]
  },
  {
   "cell_type": "code",
   "execution_count": 27,
   "id": "a38aa74a-8ad3-47f6-8ef9-56be0e011774",
   "metadata": {
    "execution": {
     "iopub.execute_input": "2022-12-15T18:06:21.854548Z",
     "iopub.status.busy": "2022-12-15T18:06:21.854097Z",
     "iopub.status.idle": "2022-12-15T18:06:21.874781Z",
     "shell.execute_reply": "2022-12-15T18:06:21.874127Z"
    },
    "papermill": {
     "duration": 0.028519,
     "end_time": "2022-12-15T18:06:21.875801",
     "exception": false,
     "start_time": "2022-12-15T18:06:21.847282",
     "status": "completed"
    },
    "tags": []
   },
   "outputs": [],
   "source": [
    "gene_chr_objs = [Gene(ensembl_id=gene_id) for gene_id in genes_chr[\"id\"]]"
   ]
  },
  {
   "cell_type": "code",
   "execution_count": 28,
   "id": "570f974f-13c3-42b6-ad3a-ce99ca885c1a",
   "metadata": {
    "execution": {
     "iopub.execute_input": "2022-12-15T18:06:21.889391Z",
     "iopub.status.busy": "2022-12-15T18:06:21.889096Z",
     "iopub.status.idle": "2022-12-15T18:06:21.910561Z",
     "shell.execute_reply": "2022-12-15T18:06:21.909853Z"
    },
    "papermill": {
     "duration": 0.029414,
     "end_time": "2022-12-15T18:06:21.911541",
     "exception": false,
     "start_time": "2022-12-15T18:06:21.882127",
     "status": "completed"
    },
    "tags": []
   },
   "outputs": [
    {
     "name": "stdout",
     "output_type": "stream",
     "text": [
      "Number of gene combinations: 7021\n"
     ]
    }
   ],
   "source": [
    "n = len(gene_chr_objs)\n",
    "# diagonal elements + upper triangular matrix\n",
    "n_comb = n + int(n * (n - 1) / 2.0)\n",
    "print(f\"Number of gene combinations: {n_comb}\", flush=True)"
   ]
  },
  {
   "cell_type": "code",
   "execution_count": 29,
   "id": "cdbb90a1",
   "metadata": {
    "execution": {
     "iopub.execute_input": "2022-12-15T18:06:21.924056Z",
     "iopub.status.busy": "2022-12-15T18:06:21.923781Z",
     "iopub.status.idle": "2022-12-15T18:07:37.437624Z",
     "shell.execute_reply": "2022-12-15T18:07:37.437200Z"
    },
    "papermill": {
     "duration": 75.521167,
     "end_time": "2022-12-15T18:07:37.438574",
     "exception": false,
     "start_time": "2022-12-15T18:06:21.917407",
     "status": "completed"
    },
    "tags": []
   },
   "outputs": [
    {
     "name": "stderr",
     "output_type": "stream",
     "text": [
      "ENSG00000169062 / ENSG00000169062: 100%|████████████████████████| 7021/7021 [01:15<00:00, 93.02it/s]\n"
     ]
    },
    {
     "data": {
      "text/plain": [
       "PosixPath('/opt/data/projects/asthma-copd/results/gls_phenoplier/gene_corrs/aco/by_chr/gene_corrs-chr13.pkl')"
      ]
     },
     "metadata": {},
     "output_type": "display_data"
    }
   ],
   "source": [
    "gene_corrs = []\n",
    "gene_corrs_data = np.full(\n",
    "    (n, n),\n",
    "    np.nan,\n",
    "    dtype=np.float64,\n",
    ")\n",
    "\n",
    "i = 0\n",
    "with tqdm(ncols=100, total=n_comb) as pbar:\n",
    "    for gene1_idx in range(0, len(gene_chr_objs)):\n",
    "        gene1_obj = gene_chr_objs[gene1_idx]\n",
    "        gene1_tissues = spredixcan_genes_models.loc[gene1_obj.ensembl_id, \"tissue\"]\n",
    "\n",
    "        for gene2_idx in range(gene1_idx, len(gene_chr_objs)):\n",
    "            gene2_obj = gene_chr_objs[gene2_idx]\n",
    "            gene2_tissues = spredixcan_genes_models.loc[gene2_obj.ensembl_id, \"tissue\"]\n",
    "\n",
    "            pbar.set_description(f\"{gene1_obj.ensembl_id} / {gene2_obj.ensembl_id}\")\n",
    "\n",
    "            try:\n",
    "                r = gene1_obj.get_ssm_correlation(\n",
    "                    other_gene=gene2_obj,\n",
    "                    tissues=gene1_tissues,\n",
    "                    other_tissues=gene2_tissues,\n",
    "                    snps_subset=gwas_variants_ids_set,\n",
    "                    condition_number=SMULTIXCAN_CONDITION_NUMBER,\n",
    "                    reference_panel=REFERENCE_PANEL,\n",
    "                    model_type=EQTL_MODEL,\n",
    "                    use_within_distance=COMPUTE_CORRELATIONS_WITHIN_DISTANCE,\n",
    "                )\n",
    "\n",
    "                if r is None:\n",
    "                    # if r is None, it's very likely because:\n",
    "                    #  * one of the genes has no prediction models\n",
    "                    #  * all the SNPs predictors for the gene are not present in the reference\n",
    "                    #    panel\n",
    "\n",
    "                    r = 0.0\n",
    "\n",
    "                gene_corrs.append(r)\n",
    "\n",
    "                gene_corrs_data[gene1_idx, gene2_idx] = r\n",
    "                gene_corrs_data[gene2_idx, gene1_idx] = r\n",
    "            except Warning as e:\n",
    "                if not DEBUG_MODE:\n",
    "                    raise e\n",
    "\n",
    "                print(\n",
    "                    f\"RuntimeWarning for genes {gene1_obj.ensembl_id} and {gene2_obj.ensembl_id}\",\n",
    "                    flush=True,\n",
    "                )\n",
    "                print(traceback.format_exc(), flush=True)\n",
    "\n",
    "                gene_corrs.append(np.nan)\n",
    "            except Exception as e:\n",
    "                if not DEBUG_MODE:\n",
    "                    raise e\n",
    "\n",
    "                print(\n",
    "                    f\"Exception for genes {gene1_obj.ensembl_id} and {gene2_obj.ensembl_id}\",\n",
    "                    flush=True,\n",
    "                )\n",
    "                print(traceback.format_exc(), flush=True)\n",
    "\n",
    "                gene_corrs.append(np.nan)\n",
    "\n",
    "            pbar.update(1)\n",
    "\n",
    "# create a pandas series\n",
    "gene_corrs_flat = pd.Series(gene_corrs)\n",
    "\n",
    "# save\n",
    "# FIXME: consider saving only the condenced matrix here. See here for\n",
    "# more details: https://github.com/greenelab/phenoplier/pull/38#discussion_r634600813\n",
    "# gene_corrs_data = squareform(np.array(gene_corrs, dtype=np.float64))\n",
    "# np.fill_diagonal(gene_corrs_data, 1.0)\n",
    "\n",
    "gene_chr_ids = [g.ensembl_id for g in gene_chr_objs]\n",
    "gene_corrs_df = pd.DataFrame(\n",
    "    data=gene_corrs_data,\n",
    "    index=gene_chr_ids,\n",
    "    columns=gene_chr_ids,\n",
    ")\n",
    "\n",
    "output_dir.mkdir(exist_ok=True, parents=True)\n",
    "display(output_file)\n",
    "\n",
    "gene_corrs_df.to_pickle(output_file)"
   ]
  },
  {
   "cell_type": "markdown",
   "id": "faa67b51-5373-470f-aa72-2ded53fa6dfe",
   "metadata": {
    "papermill": {
     "duration": 0.234545,
     "end_time": "2022-12-15T18:07:37.937032",
     "exception": false,
     "start_time": "2022-12-15T18:07:37.702487",
     "status": "completed"
    },
    "tags": []
   },
   "source": [
    "# Testing"
   ]
  },
  {
   "cell_type": "code",
   "execution_count": 30,
   "id": "14f7d046-4b55-4896-a56b-990127bcc388",
   "metadata": {
    "execution": {
     "iopub.execute_input": "2022-12-15T18:07:38.409746Z",
     "iopub.status.busy": "2022-12-15T18:07:38.409382Z",
     "iopub.status.idle": "2022-12-15T18:07:38.429273Z",
     "shell.execute_reply": "2022-12-15T18:07:38.428869Z"
    },
    "papermill": {
     "duration": 0.275748,
     "end_time": "2022-12-15T18:07:38.430165",
     "exception": false,
     "start_time": "2022-12-15T18:07:38.154417",
     "status": "completed"
    },
    "tags": []
   },
   "outputs": [
    {
     "data": {
      "text/plain": [
       "(118, 118)"
      ]
     },
     "execution_count": 30,
     "metadata": {},
     "output_type": "execute_result"
    }
   ],
   "source": [
    "gene_corrs_df.shape"
   ]
  },
  {
   "cell_type": "code",
   "execution_count": 31,
   "id": "c7d15414-3297-4537-a7c6-7588c0baeb75",
   "metadata": {
    "execution": {
     "iopub.execute_input": "2022-12-15T18:07:38.868662Z",
     "iopub.status.busy": "2022-12-15T18:07:38.868303Z",
     "iopub.status.idle": "2022-12-15T18:07:38.906726Z",
     "shell.execute_reply": "2022-12-15T18:07:38.906160Z"
    },
    "papermill": {
     "duration": 0.25719,
     "end_time": "2022-12-15T18:07:38.907976",
     "exception": false,
     "start_time": "2022-12-15T18:07:38.650786",
     "status": "completed"
    },
    "tags": []
   },
   "outputs": [
    {
     "data": {
      "text/html": [
       "<div>\n",
       "<style scoped>\n",
       "    .dataframe tbody tr th:only-of-type {\n",
       "        vertical-align: middle;\n",
       "    }\n",
       "\n",
       "    .dataframe tbody tr th {\n",
       "        vertical-align: top;\n",
       "    }\n",
       "\n",
       "    .dataframe thead th {\n",
       "        text-align: right;\n",
       "    }\n",
       "</style>\n",
       "<table border=\"1\" class=\"dataframe\">\n",
       "  <thead>\n",
       "    <tr style=\"text-align: right;\">\n",
       "      <th></th>\n",
       "      <th>ENSG00000121741</th>\n",
       "      <th>ENSG00000121743</th>\n",
       "      <th>ENSG00000121742</th>\n",
       "      <th>ENSG00000032742</th>\n",
       "      <th>ENSG00000150457</th>\n",
       "      <th>ENSG00000150459</th>\n",
       "      <th>ENSG00000102678</th>\n",
       "      <th>ENSG00000127863</th>\n",
       "      <th>ENSG00000228741</th>\n",
       "      <th>ENSG00000102699</th>\n",
       "      <th>...</th>\n",
       "      <th>ENSG00000126217</th>\n",
       "      <th>ENSG00000057593</th>\n",
       "      <th>ENSG00000126231</th>\n",
       "      <th>ENSG00000139842</th>\n",
       "      <th>ENSG00000185896</th>\n",
       "      <th>ENSG00000198176</th>\n",
       "      <th>ENSG00000183087</th>\n",
       "      <th>ENSG00000185989</th>\n",
       "      <th>ENSG00000130177</th>\n",
       "      <th>ENSG00000169062</th>\n",
       "    </tr>\n",
       "  </thead>\n",
       "  <tbody>\n",
       "    <tr>\n",
       "      <th>ENSG00000121741</th>\n",
       "      <td>1.000000</td>\n",
       "      <td>0.012097</td>\n",
       "      <td>0.011184</td>\n",
       "      <td>0.002933</td>\n",
       "      <td>0.002772</td>\n",
       "      <td>0.004460</td>\n",
       "      <td>0.004328</td>\n",
       "      <td>0.008426</td>\n",
       "      <td>0.008153</td>\n",
       "      <td>0.005306</td>\n",
       "      <td>...</td>\n",
       "      <td>0.0</td>\n",
       "      <td>0.0</td>\n",
       "      <td>0.0</td>\n",
       "      <td>0.0</td>\n",
       "      <td>0.0</td>\n",
       "      <td>0.0</td>\n",
       "      <td>0.0</td>\n",
       "      <td>0.0</td>\n",
       "      <td>0.0</td>\n",
       "      <td>0.0</td>\n",
       "    </tr>\n",
       "    <tr>\n",
       "      <th>ENSG00000121743</th>\n",
       "      <td>0.012097</td>\n",
       "      <td>1.000000</td>\n",
       "      <td>0.028466</td>\n",
       "      <td>0.009301</td>\n",
       "      <td>0.013014</td>\n",
       "      <td>0.006442</td>\n",
       "      <td>0.003147</td>\n",
       "      <td>0.008373</td>\n",
       "      <td>0.006775</td>\n",
       "      <td>0.006577</td>\n",
       "      <td>...</td>\n",
       "      <td>0.0</td>\n",
       "      <td>0.0</td>\n",
       "      <td>0.0</td>\n",
       "      <td>0.0</td>\n",
       "      <td>0.0</td>\n",
       "      <td>0.0</td>\n",
       "      <td>0.0</td>\n",
       "      <td>0.0</td>\n",
       "      <td>0.0</td>\n",
       "      <td>0.0</td>\n",
       "    </tr>\n",
       "    <tr>\n",
       "      <th>ENSG00000121742</th>\n",
       "      <td>0.011184</td>\n",
       "      <td>0.028466</td>\n",
       "      <td>1.000000</td>\n",
       "      <td>0.010330</td>\n",
       "      <td>0.005040</td>\n",
       "      <td>0.008485</td>\n",
       "      <td>0.006706</td>\n",
       "      <td>0.012004</td>\n",
       "      <td>0.009493</td>\n",
       "      <td>0.004909</td>\n",
       "      <td>...</td>\n",
       "      <td>0.0</td>\n",
       "      <td>0.0</td>\n",
       "      <td>0.0</td>\n",
       "      <td>0.0</td>\n",
       "      <td>0.0</td>\n",
       "      <td>0.0</td>\n",
       "      <td>0.0</td>\n",
       "      <td>0.0</td>\n",
       "      <td>0.0</td>\n",
       "      <td>0.0</td>\n",
       "    </tr>\n",
       "    <tr>\n",
       "      <th>ENSG00000032742</th>\n",
       "      <td>0.002933</td>\n",
       "      <td>0.009301</td>\n",
       "      <td>0.010330</td>\n",
       "      <td>1.000000</td>\n",
       "      <td>0.017363</td>\n",
       "      <td>0.008018</td>\n",
       "      <td>0.005442</td>\n",
       "      <td>0.007502</td>\n",
       "      <td>0.008291</td>\n",
       "      <td>0.006997</td>\n",
       "      <td>...</td>\n",
       "      <td>0.0</td>\n",
       "      <td>0.0</td>\n",
       "      <td>0.0</td>\n",
       "      <td>0.0</td>\n",
       "      <td>0.0</td>\n",
       "      <td>0.0</td>\n",
       "      <td>0.0</td>\n",
       "      <td>0.0</td>\n",
       "      <td>0.0</td>\n",
       "      <td>0.0</td>\n",
       "    </tr>\n",
       "    <tr>\n",
       "      <th>ENSG00000150457</th>\n",
       "      <td>0.002772</td>\n",
       "      <td>0.013014</td>\n",
       "      <td>0.005040</td>\n",
       "      <td>0.017363</td>\n",
       "      <td>1.000000</td>\n",
       "      <td>0.005581</td>\n",
       "      <td>0.009922</td>\n",
       "      <td>0.014383</td>\n",
       "      <td>0.005669</td>\n",
       "      <td>0.005084</td>\n",
       "      <td>...</td>\n",
       "      <td>0.0</td>\n",
       "      <td>0.0</td>\n",
       "      <td>0.0</td>\n",
       "      <td>0.0</td>\n",
       "      <td>0.0</td>\n",
       "      <td>0.0</td>\n",
       "      <td>0.0</td>\n",
       "      <td>0.0</td>\n",
       "      <td>0.0</td>\n",
       "      <td>0.0</td>\n",
       "    </tr>\n",
       "  </tbody>\n",
       "</table>\n",
       "<p>5 rows × 118 columns</p>\n",
       "</div>"
      ],
      "text/plain": [
       "                 ENSG00000121741  ENSG00000121743  ENSG00000121742  \\\n",
       "ENSG00000121741         1.000000         0.012097         0.011184   \n",
       "ENSG00000121743         0.012097         1.000000         0.028466   \n",
       "ENSG00000121742         0.011184         0.028466         1.000000   \n",
       "ENSG00000032742         0.002933         0.009301         0.010330   \n",
       "ENSG00000150457         0.002772         0.013014         0.005040   \n",
       "\n",
       "                 ENSG00000032742  ENSG00000150457  ENSG00000150459  \\\n",
       "ENSG00000121741         0.002933         0.002772         0.004460   \n",
       "ENSG00000121743         0.009301         0.013014         0.006442   \n",
       "ENSG00000121742         0.010330         0.005040         0.008485   \n",
       "ENSG00000032742         1.000000         0.017363         0.008018   \n",
       "ENSG00000150457         0.017363         1.000000         0.005581   \n",
       "\n",
       "                 ENSG00000102678  ENSG00000127863  ENSG00000228741  \\\n",
       "ENSG00000121741         0.004328         0.008426         0.008153   \n",
       "ENSG00000121743         0.003147         0.008373         0.006775   \n",
       "ENSG00000121742         0.006706         0.012004         0.009493   \n",
       "ENSG00000032742         0.005442         0.007502         0.008291   \n",
       "ENSG00000150457         0.009922         0.014383         0.005669   \n",
       "\n",
       "                 ENSG00000102699  ...  ENSG00000126217  ENSG00000057593  \\\n",
       "ENSG00000121741         0.005306  ...              0.0              0.0   \n",
       "ENSG00000121743         0.006577  ...              0.0              0.0   \n",
       "ENSG00000121742         0.004909  ...              0.0              0.0   \n",
       "ENSG00000032742         0.006997  ...              0.0              0.0   \n",
       "ENSG00000150457         0.005084  ...              0.0              0.0   \n",
       "\n",
       "                 ENSG00000126231  ENSG00000139842  ENSG00000185896  \\\n",
       "ENSG00000121741              0.0              0.0              0.0   \n",
       "ENSG00000121743              0.0              0.0              0.0   \n",
       "ENSG00000121742              0.0              0.0              0.0   \n",
       "ENSG00000032742              0.0              0.0              0.0   \n",
       "ENSG00000150457              0.0              0.0              0.0   \n",
       "\n",
       "                 ENSG00000198176  ENSG00000183087  ENSG00000185989  \\\n",
       "ENSG00000121741              0.0              0.0              0.0   \n",
       "ENSG00000121743              0.0              0.0              0.0   \n",
       "ENSG00000121742              0.0              0.0              0.0   \n",
       "ENSG00000032742              0.0              0.0              0.0   \n",
       "ENSG00000150457              0.0              0.0              0.0   \n",
       "\n",
       "                 ENSG00000130177  ENSG00000169062  \n",
       "ENSG00000121741              0.0              0.0  \n",
       "ENSG00000121743              0.0              0.0  \n",
       "ENSG00000121742              0.0              0.0  \n",
       "ENSG00000032742              0.0              0.0  \n",
       "ENSG00000150457              0.0              0.0  \n",
       "\n",
       "[5 rows x 118 columns]"
      ]
     },
     "execution_count": 31,
     "metadata": {},
     "output_type": "execute_result"
    }
   ],
   "source": [
    "gene_corrs_df.head()"
   ]
  },
  {
   "cell_type": "markdown",
   "id": "dad6603f-01c6-41fb-a6f6-241051207dd8",
   "metadata": {
    "papermill": {
     "duration": 0.231446,
     "end_time": "2022-12-15T18:07:39.512407",
     "exception": false,
     "start_time": "2022-12-15T18:07:39.280961",
     "status": "completed"
    },
    "tags": []
   },
   "source": [
    "## Standard checks and stats"
   ]
  },
  {
   "cell_type": "code",
   "execution_count": 32,
   "id": "286686af-1b7b-4440-8453-6bdcbd8de19c",
   "metadata": {
    "execution": {
     "iopub.execute_input": "2022-12-15T18:07:40.008246Z",
     "iopub.status.busy": "2022-12-15T18:07:40.007866Z",
     "iopub.status.idle": "2022-12-15T18:07:40.030359Z",
     "shell.execute_reply": "2022-12-15T18:07:40.029707Z"
    },
    "papermill": {
     "duration": 0.287192,
     "end_time": "2022-12-15T18:07:40.031497",
     "exception": false,
     "start_time": "2022-12-15T18:07:39.744305",
     "status": "completed"
    },
    "tags": []
   },
   "outputs": [],
   "source": [
    "assert not gene_corrs_df.isna().any(axis=None)"
   ]
  },
  {
   "cell_type": "code",
   "execution_count": 33,
   "id": "00583efc-7068-4270-ad1e-4a418e91db96",
   "metadata": {
    "execution": {
     "iopub.execute_input": "2022-12-15T18:07:40.520950Z",
     "iopub.status.busy": "2022-12-15T18:07:40.520661Z",
     "iopub.status.idle": "2022-12-15T18:07:40.537388Z",
     "shell.execute_reply": "2022-12-15T18:07:40.536922Z"
    },
    "papermill": {
     "duration": 0.257646,
     "end_time": "2022-12-15T18:07:40.538579",
     "exception": false,
     "start_time": "2022-12-15T18:07:40.280933",
     "status": "completed"
    },
    "tags": []
   },
   "outputs": [
    {
     "data": {
      "text/plain": [
       "0.0"
      ]
     },
     "metadata": {},
     "output_type": "display_data"
    }
   ],
   "source": [
    "_min_val = gene_corrs_df.min().min()\n",
    "display(_min_val)\n",
    "assert _min_val >= -0.05"
   ]
  },
  {
   "cell_type": "code",
   "execution_count": 34,
   "id": "d04fb2cf-1050-475b-b855-f5f7cc04092b",
   "metadata": {
    "execution": {
     "iopub.execute_input": "2022-12-15T18:07:41.013849Z",
     "iopub.status.busy": "2022-12-15T18:07:41.013448Z",
     "iopub.status.idle": "2022-12-15T18:07:41.036562Z",
     "shell.execute_reply": "2022-12-15T18:07:41.036022Z"
    },
    "papermill": {
     "duration": 0.243305,
     "end_time": "2022-12-15T18:07:41.037479",
     "exception": false,
     "start_time": "2022-12-15T18:07:40.794174",
     "status": "completed"
    },
    "tags": []
   },
   "outputs": [
    {
     "data": {
      "text/plain": [
       "1.0000000000000029"
      ]
     },
     "metadata": {},
     "output_type": "display_data"
    }
   ],
   "source": [
    "_max_val = gene_corrs_df.max().max()  # this captures the diagonal\n",
    "display(_max_val)\n",
    "assert _max_val <= 1.05"
   ]
  },
  {
   "cell_type": "code",
   "execution_count": 35,
   "id": "fe283586-c348-40e0-8841-f6d97bfb021c",
   "metadata": {
    "execution": {
     "iopub.execute_input": "2022-12-15T18:07:41.605996Z",
     "iopub.status.busy": "2022-12-15T18:07:41.605167Z",
     "iopub.status.idle": "2022-12-15T18:07:41.637081Z",
     "shell.execute_reply": "2022-12-15T18:07:41.636402Z"
    },
    "papermill": {
     "duration": 0.364297,
     "end_time": "2022-12-15T18:07:41.638229",
     "exception": false,
     "start_time": "2022-12-15T18:07:41.273932",
     "status": "completed"
    },
    "tags": []
   },
   "outputs": [
    {
     "data": {
      "text/plain": [
       "count    7021.000000\n",
       "mean        0.020942\n",
       "std         0.133219\n",
       "min         0.000000\n",
       "25%         0.000000\n",
       "50%         0.000000\n",
       "75%         0.000000\n",
       "max         1.000000\n",
       "dtype: float64"
      ]
     },
     "execution_count": 35,
     "metadata": {},
     "output_type": "execute_result"
    }
   ],
   "source": [
    "gene_corrs_flat.describe()"
   ]
  },
  {
   "cell_type": "code",
   "execution_count": 36,
   "id": "b3815678-0f93-4b35-897b-a9d047a2aa78",
   "metadata": {
    "execution": {
     "iopub.execute_input": "2022-12-15T18:07:42.101106Z",
     "iopub.status.busy": "2022-12-15T18:07:42.100819Z",
     "iopub.status.idle": "2022-12-15T18:07:42.118420Z",
     "shell.execute_reply": "2022-12-15T18:07:42.118000Z"
    },
    "papermill": {
     "duration": 0.243473,
     "end_time": "2022-12-15T18:07:42.119321",
     "exception": false,
     "start_time": "2022-12-15T18:07:41.875848",
     "status": "completed"
    },
    "tags": []
   },
   "outputs": [
    {
     "data": {
      "text/plain": [
       "0.00    0.000000\n",
       "0.05    0.000000\n",
       "0.10    0.000000\n",
       "0.15    0.000000\n",
       "0.20    0.000000\n",
       "0.25    0.000000\n",
       "0.30    0.000000\n",
       "0.35    0.000000\n",
       "0.40    0.000000\n",
       "0.45    0.000000\n",
       "0.50    0.000000\n",
       "0.55    0.000000\n",
       "0.60    0.000000\n",
       "0.65    0.000000\n",
       "0.70    0.000000\n",
       "0.75    0.000000\n",
       "0.80    0.000000\n",
       "0.85    0.001942\n",
       "0.90    0.006582\n",
       "0.95    0.011050\n",
       "dtype: float64"
      ]
     },
     "metadata": {},
     "output_type": "display_data"
    }
   ],
   "source": [
    "gene_corrs_quantiles = gene_corrs_flat.quantile(np.arange(0, 1, 0.05))\n",
    "display(gene_corrs_quantiles)"
   ]
  },
  {
   "cell_type": "markdown",
   "id": "87134509-b145-4a10-8bc9-b7e914c2b0fa",
   "metadata": {
    "papermill": {
     "duration": 0.227083,
     "end_time": "2022-12-15T18:07:42.602572",
     "exception": false,
     "start_time": "2022-12-15T18:07:42.375489",
     "status": "completed"
    },
    "tags": []
   },
   "source": [
    "## Positive definiteness"
   ]
  },
  {
   "cell_type": "code",
   "execution_count": 37,
   "id": "07d9a9a1-a4f7-48aa-b916-6d42a8cc6186",
   "metadata": {
    "execution": {
     "iopub.execute_input": "2022-12-15T18:07:43.075665Z",
     "iopub.status.busy": "2022-12-15T18:07:43.075104Z",
     "iopub.status.idle": "2022-12-15T18:07:43.100043Z",
     "shell.execute_reply": "2022-12-15T18:07:43.099571Z"
    },
    "papermill": {
     "duration": 0.276408,
     "end_time": "2022-12-15T18:07:43.100958",
     "exception": false,
     "start_time": "2022-12-15T18:07:42.824550",
     "status": "completed"
    },
    "tags": []
   },
   "outputs": [
    {
     "data": {
      "text/plain": [
       "0"
      ]
     },
     "metadata": {},
     "output_type": "display_data"
    },
    {
     "data": {
      "text/plain": [
       "array([], dtype=float64)"
      ]
     },
     "metadata": {},
     "output_type": "display_data"
    }
   ],
   "source": [
    "# print negative eigenvalues\n",
    "eigs = np.linalg.eigvals(gene_corrs_df.to_numpy())\n",
    "display(len(eigs[eigs < 0]))\n",
    "display(eigs[eigs < 0])"
   ]
  },
  {
   "cell_type": "code",
   "execution_count": 38,
   "id": "6e218436-c3c5-4028-8c94-a4fa6260efce",
   "metadata": {
    "execution": {
     "iopub.execute_input": "2022-12-15T18:07:43.592986Z",
     "iopub.status.busy": "2022-12-15T18:07:43.592652Z",
     "iopub.status.idle": "2022-12-15T18:07:43.613051Z",
     "shell.execute_reply": "2022-12-15T18:07:43.612567Z"
    },
    "papermill": {
     "duration": 0.292958,
     "end_time": "2022-12-15T18:07:43.613930",
     "exception": false,
     "start_time": "2022-12-15T18:07:43.320972",
     "status": "completed"
    },
    "tags": []
   },
   "outputs": [
    {
     "name": "stdout",
     "output_type": "stream",
     "text": [
      "Works!\n"
     ]
    }
   ],
   "source": [
    "try:\n",
    "    chol_mat = np.linalg.cholesky(gene_corrs_df.to_numpy())\n",
    "    cov_inv = np.linalg.inv(chol_mat)\n",
    "    print(\"Works!\")\n",
    "except Exception as e:\n",
    "    print(f\"Cholesky decomposition failed: {str(e)}\")"
   ]
  },
  {
   "cell_type": "code",
   "execution_count": 39,
   "id": "dd8827fb-faf9-4c7c-9454-015e94752706",
   "metadata": {
    "execution": {
     "iopub.execute_input": "2022-12-15T18:07:44.107540Z",
     "iopub.status.busy": "2022-12-15T18:07:44.107244Z",
     "iopub.status.idle": "2022-12-15T18:07:44.128768Z",
     "shell.execute_reply": "2022-12-15T18:07:44.128261Z"
    },
    "papermill": {
     "duration": 0.253131,
     "end_time": "2022-12-15T18:07:44.129720",
     "exception": false,
     "start_time": "2022-12-15T18:07:43.876589",
     "status": "completed"
    },
    "tags": []
   },
   "outputs": [
    {
     "name": "stdout",
     "output_type": "stream",
     "text": [
      "Works!\n"
     ]
    }
   ],
   "source": [
    "try:\n",
    "    # decomposition used by statsmodels.GLS\n",
    "    cholsigmainv = np.linalg.cholesky(np.linalg.inv(gene_corrs_df.to_numpy())).T\n",
    "    print(\"Works!\")\n",
    "except Exception as e:\n",
    "    print(f\"Cholesky decomposition failed (statsmodels.GLS): {str(e)}\")"
   ]
  },
  {
   "cell_type": "markdown",
   "id": "8e60a080-edb2-4e9c-b2ef-22961693200c",
   "metadata": {
    "papermill": {
     "duration": 0.253522,
     "end_time": "2022-12-15T18:07:44.638925",
     "exception": false,
     "start_time": "2022-12-15T18:07:44.385403",
     "status": "completed"
    },
    "tags": []
   },
   "source": [
    "## Plot: distribution"
   ]
  },
  {
   "cell_type": "code",
   "execution_count": 40,
   "id": "8301126b-a7d4-4744-9c7d-f0f86eb6f54c",
   "metadata": {
    "execution": {
     "iopub.execute_input": "2022-12-15T18:07:45.224080Z",
     "iopub.status.busy": "2022-12-15T18:07:45.223674Z",
     "iopub.status.idle": "2022-12-15T18:07:45.534923Z",
     "shell.execute_reply": "2022-12-15T18:07:45.534418Z"
    },
    "papermill": {
     "duration": 0.538658,
     "end_time": "2022-12-15T18:07:45.536243",
     "exception": false,
     "start_time": "2022-12-15T18:07:44.997585",
     "status": "completed"
    },
    "tags": []
   },
   "outputs": [
    {
     "data": {
      "image/png": "[encoded data removed]",
      "text/plain": [
       "<Figure size 700x700 with 1 Axes>"
      ]
     },
     "metadata": {},
     "output_type": "display_data"
    }
   ],
   "source": [
    "with sns.plotting_context(\"paper\", font_scale=1.5):\n",
    "    g = sns.displot(gene_corrs_flat, kde=True, height=7)\n",
    "    g.ax.set_title(\n",
    "        f\"Distribution of gene correlation values in chromosome {CHROMOSOME}\"\n",
    "    )"
   ]
  },
  {
   "cell_type": "markdown",
   "id": "cbd52bca-d878-4a2f-b684-5c83aa3038d4",
   "metadata": {
    "papermill": {
     "duration": 0.275614,
     "end_time": "2022-12-15T18:07:46.097122",
     "exception": false,
     "start_time": "2022-12-15T18:07:45.821508",
     "status": "completed"
    },
    "tags": []
   },
   "source": [
    "## Plot: heatmap"
   ]
  },
  {
   "cell_type": "code",
   "execution_count": 41,
   "id": "d03fe63a-c7b2-4fb9-a53c-db362ce843c9",
   "metadata": {
    "execution": {
     "iopub.execute_input": "2022-12-15T18:07:46.574624Z",
     "iopub.status.busy": "2022-12-15T18:07:46.574159Z",
     "iopub.status.idle": "2022-12-15T18:07:46.596330Z",
     "shell.execute_reply": "2022-12-15T18:07:46.595690Z"
    },
    "papermill": {
     "duration": 0.281394,
     "end_time": "2022-12-15T18:07:46.597216",
     "exception": false,
     "start_time": "2022-12-15T18:07:46.315822",
     "status": "completed"
    },
    "tags": []
   },
   "outputs": [
    {
     "data": {
      "text/plain": [
       "'0.0 / 0.05'"
      ]
     },
     "metadata": {},
     "output_type": "display_data"
    }
   ],
   "source": [
    "vmin_val = min(0.00, gene_corrs_quantiles[0.10])\n",
    "vmax_val = max(0.05, gene_corrs_quantiles[0.90])\n",
    "display(f\"{vmin_val} / {vmax_val}\")"
   ]
  },
  {
   "cell_type": "code",
   "execution_count": 42,
   "id": "dc41b70b-5bcc-4d9e-9f33-a22c4a94dab5",
   "metadata": {
    "execution": {
     "iopub.execute_input": "2022-12-15T18:07:47.075328Z",
     "iopub.status.busy": "2022-12-15T18:07:47.075090Z",
     "iopub.status.idle": "2022-12-15T18:07:47.283714Z",
     "shell.execute_reply": "2022-12-15T18:07:47.283254Z"
    },
    "papermill": {
     "duration": 0.439448,
     "end_time": "2022-12-15T18:07:47.285564",
     "exception": false,
     "start_time": "2022-12-15T18:07:46.846116",
     "status": "completed"
    },
    "tags": []
   },
   "outputs": [
    {
     "data": {
      "text/plain": [
       "Text(0.5, 1.0, 'Gene correlations in chromosome 13')"
      ]
     },
     "execution_count": 42,
     "metadata": {},
     "output_type": "execute_result"
    },
    {
     "data": {
      "image/png": "[encoded data removed]",
      "text/plain": [
       "<Figure size 1000x1000 with 2 Axes>"
      ]
     },
     "metadata": {},
     "output_type": "display_data"
    }
   ],
   "source": [
    "f, ax = plt.subplots(figsize=(10, 10))\n",
    "sns.heatmap(\n",
    "    gene_corrs_df,\n",
    "    xticklabels=False,\n",
    "    yticklabels=False,\n",
    "    square=True,\n",
    "    vmin=vmin_val,\n",
    "    vmax=vmax_val,\n",
    "    cmap=\"rocket_r\",\n",
    "    ax=ax,\n",
    ")\n",
    "ax.set_title(f\"Gene correlations in chromosome {CHROMOSOME}\")"
   ]
  },
  {
   "cell_type": "code",
   "execution_count": null,
   "id": "b25e3ead",
   "metadata": {
    "papermill": {
     "duration": 0.231112,
     "end_time": "2022-12-15T18:07:47.802512",
     "exception": false,
     "start_time": "2022-12-15T18:07:47.571400",
     "status": "completed"
    },
    "tags": []
   },
   "outputs": [],
   "source": []
  }
 ],
 "metadata": {
  "jupytext": {
   "cell_metadata_filter": "all,-execution,-papermill,-trusted",
   "formats": "ipynb,py//py:percent"
  },
  "kernelspec": {
   "display_name": "Python 3 (ipykernel)",
   "language": "python",
   "name": "python3"
  },
  "language_info": {
   "codemirror_mode": {
    "name": "ipython",
    "version": 3
   },
   "file_extension": ".py",
   "mimetype": "text/x-python",
   "name": "python",
   "nbconvert_exporter": "python",
   "pygments_lexer": "ipython3",
   "version": "3.10.6"
  },
  "papermill": {
   "default_parameters": {},
   "duration": 95.497797,
   "end_time": "2022-12-15T18:07:50.966547",
   "environment_variables": {},
   "exception": null,
   "input_path": "projects/asthma-copd/nbs/20_gene_corrs/jobs/05-gene_expr_correlations.ipynb",
   "output_path": "projects/asthma-copd/nbs/20_gene_corrs/jobs/../output/aco/05-gene_expr_correlations-chr13.run.ipynb",
   "parameters": {
    "CHROMOSOME": 13,
    "COHORT_NAME": "aco",
    "OUTPUT_DIR_BASE": "/opt/data/projects/asthma-copd/results/gls_phenoplier",
    "PHENOPLIER_NOTEBOOK_FILEPATH": "projects/asthma-copd/nbs/20_gene_corrs/jobs/05-gene_expr_correlations.ipynb"
   },
   "start_time": "2022-12-15T18:06:15.468750",
   "version": "2.2.2"
  }
 },
 "nbformat": 4,
 "nbformat_minor": 5
}
