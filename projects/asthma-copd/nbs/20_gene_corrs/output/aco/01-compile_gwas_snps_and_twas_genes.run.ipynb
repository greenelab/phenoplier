{
 "cells": [
  {
   "cell_type": "markdown",
   "id": "7a6632fb",
   "metadata": {
    "papermill": {
     "duration": 0.019049,
     "end_time": "2022-12-15T17:45:00.933933",
     "exception": false,
     "start_time": "2022-12-15T17:45:00.914884",
     "status": "completed"
    },
    "tags": []
   },
   "source": [
    "# Description"
   ]
  },
  {
   "cell_type": "markdown",
   "id": "7097c346",
   "metadata": {
    "papermill": {
     "duration": 0.017267,
     "end_time": "2022-12-15T17:45:00.968738",
     "exception": false,
     "start_time": "2022-12-15T17:45:00.951471",
     "status": "completed"
    },
    "tags": []
   },
   "source": [
    "This notebook compiles information about the GWAS and TWAS for a particular cohort. For example, the set of GWAS variants, variance of predicted expression of genes, etc.\n",
    "\n",
    "It has specicfic parameters for papermill (see under `Settings` below).\n",
    "\n",
    "This notebook should not be directly run. It is used by other notebooks."
   ]
  },
  {
   "cell_type": "markdown",
   "id": "c61d8427",
   "metadata": {
    "papermill": {
     "duration": 0.015568,
     "end_time": "2022-12-15T17:45:01.002215",
     "exception": false,
     "start_time": "2022-12-15T17:45:00.986647",
     "status": "completed"
    },
    "tags": []
   },
   "source": [
    "# Modules"
   ]
  },
  {
   "cell_type": "code",
   "execution_count": 1,
   "id": "bbc0234f",
   "metadata": {
    "execution": {
     "iopub.execute_input": "2022-12-15T17:45:01.021748Z",
     "iopub.status.busy": "2022-12-15T17:45:01.021049Z",
     "iopub.status.idle": "2022-12-15T17:45:01.039169Z",
     "shell.execute_reply": "2022-12-15T17:45:01.038529Z"
    },
    "papermill": {
     "duration": 0.028956,
     "end_time": "2022-12-15T17:45:01.040269",
     "exception": false,
     "start_time": "2022-12-15T17:45:01.011313",
     "status": "completed"
    },
    "tags": []
   },
   "outputs": [],
   "source": [
    "%load_ext autoreload\n",
    "%autoreload 2"
   ]
  },
  {
   "cell_type": "code",
   "execution_count": 2,
   "id": "1d5f5a59",
   "metadata": {
    "execution": {
     "iopub.execute_input": "2022-12-15T17:45:01.059609Z",
     "iopub.status.busy": "2022-12-15T17:45:01.059137Z",
     "iopub.status.idle": "2022-12-15T17:45:01.436428Z",
     "shell.execute_reply": "2022-12-15T17:45:01.435801Z"
    },
    "papermill": {
     "duration": 0.388893,
     "end_time": "2022-12-15T17:45:01.438194",
     "exception": false,
     "start_time": "2022-12-15T17:45:01.049301",
     "status": "completed"
    },
    "tags": []
   },
   "outputs": [],
   "source": [
    "from pathlib import Path\n",
    "import pickle\n",
    "\n",
    "import numpy as np\n",
    "import pandas as pd\n",
    "\n",
    "import conf\n",
    "from entity import Gene"
   ]
  },
  {
   "cell_type": "markdown",
   "id": "1eac24b5",
   "metadata": {
    "papermill": {
     "duration": 0.017162,
     "end_time": "2022-12-15T17:45:01.473293",
     "exception": false,
     "start_time": "2022-12-15T17:45:01.456131",
     "status": "completed"
    },
    "tags": []
   },
   "source": [
    "# Settings"
   ]
  },
  {
   "cell_type": "code",
   "execution_count": 3,
   "id": "ca4560ba",
   "metadata": {
    "execution": {
     "iopub.execute_input": "2022-12-15T17:45:01.509711Z",
     "iopub.status.busy": "2022-12-15T17:45:01.509488Z",
     "iopub.status.idle": "2022-12-15T17:45:01.527622Z",
     "shell.execute_reply": "2022-12-15T17:45:01.526965Z"
    },
    "papermill": {
     "duration": 0.037979,
     "end_time": "2022-12-15T17:45:01.529102",
     "exception": false,
     "start_time": "2022-12-15T17:45:01.491123",
     "status": "completed"
    },
    "tags": [
     "parameters"
    ]
   },
   "outputs": [],
   "source": [
    "# a cohort name (it could be something like UK_BIOBANK, etc)\n",
    "COHORT_NAME = None\n",
    "\n",
    "# reference panel such as 1000G or GTEX_V8\n",
    "REFERENCE_PANEL = \"GTEX_V8\"\n",
    "\n",
    "# predictions models such as MASHR or ELASTIC_NET\n",
    "EQTL_MODEL = \"MASHR\"\n",
    "\n",
    "# a string with a path pointing to an imputed GWAS\n",
    "GWAS_FILE = None\n",
    "\n",
    "# a string with a path pointing where S-PrediXcan results (tissue-specific are located\n",
    "SPREDIXCAN_FOLDER = None\n",
    "\n",
    "# an f-string with one placeholder {tissue}\n",
    "SPREDIXCAN_FILE_PATTERN = None\n",
    "\n",
    "# a string with a path pointing to an S-MultiXcan result\n",
    "SMULTIXCAN_FILE = None\n",
    "\n",
    "# output dir\n",
    "OUTPUT_DIR_BASE = None"
   ]
  },
  {
   "cell_type": "code",
   "execution_count": 4,
   "id": "0d35faa4",
   "metadata": {
    "execution": {
     "iopub.execute_input": "2022-12-15T17:45:01.565494Z",
     "iopub.status.busy": "2022-12-15T17:45:01.565191Z",
     "iopub.status.idle": "2022-12-15T17:45:01.582097Z",
     "shell.execute_reply": "2022-12-15T17:45:01.581508Z"
    },
    "papermill": {
     "duration": 0.037197,
     "end_time": "2022-12-15T17:45:01.583590",
     "exception": false,
     "start_time": "2022-12-15T17:45:01.546393",
     "status": "completed"
    },
    "tags": [
     "injected-parameters"
    ]
   },
   "outputs": [],
   "source": [
    "# Parameters\n",
    "PHENOPLIER_NOTEBOOK_FILEPATH = \"projects/asthma-copd/nbs/20_gene_corrs/jobs/01-compile_gwas_snps_and_twas_genes.ipynb\"\n",
    "COHORT_NAME = \"aco\"\n",
    "GWAS_FILE = \"/opt/data/projects/asthma-copd/results/final_imputed_gwas/GWAS_ACO_GLM_SNPs_info0.7-harmonized-imputed.txt.gz\"\n",
    "SPREDIXCAN_FOLDER = \"/opt/data/projects/asthma-copd/results/twas/spredixcan\"\n",
    "SPREDIXCAN_FILE_PATTERN = \"GWAS_ACO_GLM_SNPs_info0.7-gtex_v8-mashr-{tissue}.csv\"\n",
    "SMULTIXCAN_FILE = \"/opt/data/projects/asthma-copd/results/twas/smultixcan/GWAS_ACO_GLM_SNPs_info0.7-gtex_v8-mashr-smultixcan.txt\"\n",
    "OUTPUT_DIR_BASE = \"/opt/data/projects/asthma-copd/results/gls_phenoplier\"\n"
   ]
  },
  {
   "cell_type": "code",
   "execution_count": 5,
   "id": "8fe24bef",
   "metadata": {
    "execution": {
     "iopub.execute_input": "2022-12-15T17:45:01.620200Z",
     "iopub.status.busy": "2022-12-15T17:45:01.619648Z",
     "iopub.status.idle": "2022-12-15T17:45:01.642863Z",
     "shell.execute_reply": "2022-12-15T17:45:01.642223Z"
    },
    "papermill": {
     "duration": 0.042861,
     "end_time": "2022-12-15T17:45:01.644310",
     "exception": false,
     "start_time": "2022-12-15T17:45:01.601449",
     "status": "completed"
    },
    "tags": []
   },
   "outputs": [
    {
     "data": {
      "text/plain": [
       "'Cohort name: aco'"
      ]
     },
     "metadata": {},
     "output_type": "display_data"
    }
   ],
   "source": [
    "assert COHORT_NAME is not None and len(COHORT_NAME) > 0, \"A cohort name must be given\"\n",
    "\n",
    "COHORT_NAME = COHORT_NAME.lower()\n",
    "display(f\"Cohort name: {COHORT_NAME}\")"
   ]
  },
  {
   "cell_type": "code",
   "execution_count": 6,
   "id": "f53ba19b-0f93-4fa2-a047-63b375939d1a",
   "metadata": {
    "execution": {
     "iopub.execute_input": "2022-12-15T17:45:01.682133Z",
     "iopub.status.busy": "2022-12-15T17:45:01.681558Z",
     "iopub.status.idle": "2022-12-15T17:45:01.698376Z",
     "shell.execute_reply": "2022-12-15T17:45:01.697808Z"
    },
    "papermill": {
     "duration": 0.037926,
     "end_time": "2022-12-15T17:45:01.699806",
     "exception": false,
     "start_time": "2022-12-15T17:45:01.661880",
     "status": "completed"
    },
    "tags": []
   },
   "outputs": [
    {
     "data": {
      "text/plain": [
       "'Reference panel: GTEX_V8'"
      ]
     },
     "metadata": {},
     "output_type": "display_data"
    }
   ],
   "source": [
    "assert (\n",
    "    REFERENCE_PANEL is not None and len(REFERENCE_PANEL) > 0\n",
    "), \"A reference panel must be given\"\n",
    "\n",
    "display(f\"Reference panel: {REFERENCE_PANEL}\")"
   ]
  },
  {
   "cell_type": "code",
   "execution_count": 7,
   "id": "7a970044-2d34-4e5b-a850-eff44079afe8",
   "metadata": {
    "execution": {
     "iopub.execute_input": "2022-12-15T17:45:01.736755Z",
     "iopub.status.busy": "2022-12-15T17:45:01.736365Z",
     "iopub.status.idle": "2022-12-15T17:45:01.754406Z",
     "shell.execute_reply": "2022-12-15T17:45:01.753773Z"
    },
    "papermill": {
     "duration": 0.037301,
     "end_time": "2022-12-15T17:45:01.755245",
     "exception": false,
     "start_time": "2022-12-15T17:45:01.717944",
     "status": "completed"
    },
    "tags": []
   },
   "outputs": [
    {
     "data": {
      "text/plain": [
       "'GWAS file path: /opt/data/projects/asthma-copd/results/final_imputed_gwas/GWAS_ACO_GLM_SNPs_info0.7-harmonized-imputed.txt.gz'"
      ]
     },
     "metadata": {},
     "output_type": "display_data"
    }
   ],
   "source": [
    "assert GWAS_FILE is not None and len(GWAS_FILE) > 0, \"A GWAS file path must be given\"\n",
    "GWAS_FILE = Path(GWAS_FILE).resolve()\n",
    "assert GWAS_FILE.exists(), \"GWAS file does not exist\"\n",
    "\n",
    "display(f\"GWAS file path: {str(GWAS_FILE)}\")"
   ]
  },
  {
   "cell_type": "code",
   "execution_count": 8,
   "id": "552a7f63-a18c-4d3e-bb6a-94f99b431291",
   "metadata": {
    "execution": {
     "iopub.execute_input": "2022-12-15T17:45:01.773912Z",
     "iopub.status.busy": "2022-12-15T17:45:01.773707Z",
     "iopub.status.idle": "2022-12-15T17:45:01.791638Z",
     "shell.execute_reply": "2022-12-15T17:45:01.791067Z"
    },
    "papermill": {
     "duration": 0.028313,
     "end_time": "2022-12-15T17:45:01.792542",
     "exception": false,
     "start_time": "2022-12-15T17:45:01.764229",
     "status": "completed"
    },
    "tags": []
   },
   "outputs": [
    {
     "data": {
      "text/plain": [
       "'S-PrediXcan folder path: /opt/data/projects/asthma-copd/results/twas/spredixcan'"
      ]
     },
     "metadata": {},
     "output_type": "display_data"
    }
   ],
   "source": [
    "assert (\n",
    "    SPREDIXCAN_FOLDER is not None and len(SPREDIXCAN_FOLDER) > 0\n",
    "), \"An S-PrediXcan folder path must be given\"\n",
    "SPREDIXCAN_FOLDER = Path(SPREDIXCAN_FOLDER).resolve()\n",
    "assert (\n",
    "    SPREDIXCAN_FOLDER.exists()\n",
    "), f\"S-PrediXcan folder does not exist: {str(SPREDIXCAN_FOLDER)}\"\n",
    "\n",
    "display(f\"S-PrediXcan folder path: {str(SPREDIXCAN_FOLDER)}\")"
   ]
  },
  {
   "cell_type": "code",
   "execution_count": 9,
   "id": "6e2000dc-f1dc-4db8-93d5-9a7209a2e121",
   "metadata": {
    "execution": {
     "iopub.execute_input": "2022-12-15T17:45:01.811429Z",
     "iopub.status.busy": "2022-12-15T17:45:01.811115Z",
     "iopub.status.idle": "2022-12-15T17:45:01.828481Z",
     "shell.execute_reply": "2022-12-15T17:45:01.827902Z"
    },
    "papermill": {
     "duration": 0.027921,
     "end_time": "2022-12-15T17:45:01.829382",
     "exception": false,
     "start_time": "2022-12-15T17:45:01.801461",
     "status": "completed"
    },
    "tags": []
   },
   "outputs": [
    {
     "data": {
      "text/plain": [
       "'S-PrediXcan file template: GWAS_ACO_GLM_SNPs_info0.7-gtex_v8-mashr-{tissue}.csv'"
      ]
     },
     "metadata": {},
     "output_type": "display_data"
    }
   ],
   "source": [
    "assert (\n",
    "    SPREDIXCAN_FILE_PATTERN is not None and len(SPREDIXCAN_FILE_PATTERN) > 0\n",
    "), \"An S-PrediXcan file pattern must be given\"\n",
    "assert (\n",
    "    \"{tissue}\" in SPREDIXCAN_FILE_PATTERN\n",
    "), \"S-PrediXcan file pattern must have a '{tissue}' placeholder\"\n",
    "\n",
    "display(f\"S-PrediXcan file template: {SPREDIXCAN_FILE_PATTERN}\")"
   ]
  },
  {
   "cell_type": "code",
   "execution_count": 10,
   "id": "f5a5aa9d-c6f3-4fb5-9351-37382b6e67bc",
   "metadata": {
    "execution": {
     "iopub.execute_input": "2022-12-15T17:45:01.848293Z",
     "iopub.status.busy": "2022-12-15T17:45:01.847910Z",
     "iopub.status.idle": "2022-12-15T17:45:01.865606Z",
     "shell.execute_reply": "2022-12-15T17:45:01.865030Z"
    },
    "papermill": {
     "duration": 0.028091,
     "end_time": "2022-12-15T17:45:01.866495",
     "exception": false,
     "start_time": "2022-12-15T17:45:01.838404",
     "status": "completed"
    },
    "tags": []
   },
   "outputs": [
    {
     "data": {
      "text/plain": [
       "'S-MultiXcan file path: /opt/data/projects/asthma-copd/results/twas/smultixcan/GWAS_ACO_GLM_SNPs_info0.7-gtex_v8-mashr-smultixcan.txt'"
      ]
     },
     "metadata": {},
     "output_type": "display_data"
    }
   ],
   "source": [
    "assert (\n",
    "    SMULTIXCAN_FILE is not None and len(SMULTIXCAN_FILE) > 0\n",
    "), \"An S-MultiXcan result file path must be given\"\n",
    "SMULTIXCAN_FILE = Path(SMULTIXCAN_FILE).resolve()\n",
    "assert (\n",
    "    SMULTIXCAN_FILE.exists()\n",
    "), f\"S-MultiXcan result file does not exist: {str(SMULTIXCAN_FILE)}\"\n",
    "\n",
    "display(f\"S-MultiXcan file path: {str(SMULTIXCAN_FILE)}\")"
   ]
  },
  {
   "cell_type": "code",
   "execution_count": 11,
   "id": "0723dc2f-34d1-407c-a55b-d6d13c55d63d",
   "metadata": {
    "execution": {
     "iopub.execute_input": "2022-12-15T17:45:01.885871Z",
     "iopub.status.busy": "2022-12-15T17:45:01.885410Z",
     "iopub.status.idle": "2022-12-15T17:45:01.902031Z",
     "shell.execute_reply": "2022-12-15T17:45:01.901457Z"
    },
    "papermill": {
     "duration": 0.027185,
     "end_time": "2022-12-15T17:45:01.902907",
     "exception": false,
     "start_time": "2022-12-15T17:45:01.875722",
     "status": "completed"
    },
    "tags": []
   },
   "outputs": [
    {
     "data": {
      "text/plain": [
       "'eQTL model: MASHR'"
      ]
     },
     "metadata": {},
     "output_type": "display_data"
    }
   ],
   "source": [
    "assert (\n",
    "    EQTL_MODEL is not None and len(EQTL_MODEL) > 0\n",
    "), \"A prediction/eQTL model must be given\"\n",
    "\n",
    "display(f\"eQTL model: {EQTL_MODEL}\")"
   ]
  },
  {
   "cell_type": "code",
   "execution_count": 12,
   "id": "46b9ec52-9c96-4062-b57a-783dfeea33c4",
   "metadata": {
    "execution": {
     "iopub.execute_input": "2022-12-15T17:45:01.922429Z",
     "iopub.status.busy": "2022-12-15T17:45:01.921919Z",
     "iopub.status.idle": "2022-12-15T17:45:01.938993Z",
     "shell.execute_reply": "2022-12-15T17:45:01.938413Z"
    },
    "papermill": {
     "duration": 0.027687,
     "end_time": "2022-12-15T17:45:01.939950",
     "exception": false,
     "start_time": "2022-12-15T17:45:01.912263",
     "status": "completed"
    },
    "tags": []
   },
   "outputs": [
    {
     "data": {
      "text/plain": [
       "'Using output dir base: /opt/data/projects/asthma-copd/results/gls_phenoplier/gene_corrs/aco'"
      ]
     },
     "metadata": {},
     "output_type": "display_data"
    }
   ],
   "source": [
    "assert (\n",
    "    OUTPUT_DIR_BASE is not None and len(OUTPUT_DIR_BASE) > 0\n",
    "), \"Output directory path must be given\"\n",
    "\n",
    "OUTPUT_DIR_BASE = (Path(OUTPUT_DIR_BASE) / \"gene_corrs\" / COHORT_NAME).resolve()\n",
    "\n",
    "OUTPUT_DIR_BASE.mkdir(parents=True, exist_ok=True)\n",
    "\n",
    "display(f\"Using output dir base: {OUTPUT_DIR_BASE}\")"
   ]
  },
  {
   "cell_type": "markdown",
   "id": "b6ebb422-8204-494b-8c72-360a71ce9863",
   "metadata": {
    "papermill": {
     "duration": 0.009313,
     "end_time": "2022-12-15T17:45:01.958668",
     "exception": false,
     "start_time": "2022-12-15T17:45:01.949355",
     "status": "completed"
    },
    "tags": []
   },
   "source": [
    "# Load MultiPLIER Z genes"
   ]
  },
  {
   "cell_type": "code",
   "execution_count": 13,
   "id": "c48ef527",
   "metadata": {
    "execution": {
     "iopub.execute_input": "2022-12-15T17:45:01.978098Z",
     "iopub.status.busy": "2022-12-15T17:45:01.977893Z",
     "iopub.status.idle": "2022-12-15T17:45:02.028458Z",
     "shell.execute_reply": "2022-12-15T17:45:02.027747Z"
    },
    "papermill": {
     "duration": 0.061532,
     "end_time": "2022-12-15T17:45:02.029513",
     "exception": false,
     "start_time": "2022-12-15T17:45:01.967981",
     "status": "completed"
    },
    "tags": []
   },
   "outputs": [],
   "source": [
    "multiplier_z_genes = pd.read_pickle(\n",
    "    conf.MULTIPLIER[\"MODEL_Z_MATRIX_FILE\"]\n",
    ").index.tolist()"
   ]
  },
  {
   "cell_type": "code",
   "execution_count": 14,
   "id": "0a4ecbd9",
   "metadata": {
    "execution": {
     "iopub.execute_input": "2022-12-15T17:45:02.049168Z",
     "iopub.status.busy": "2022-12-15T17:45:02.048674Z",
     "iopub.status.idle": "2022-12-15T17:45:02.066198Z",
     "shell.execute_reply": "2022-12-15T17:45:02.065628Z"
    },
    "papermill": {
     "duration": 0.028276,
     "end_time": "2022-12-15T17:45:02.067088",
     "exception": false,
     "start_time": "2022-12-15T17:45:02.038812",
     "status": "completed"
    },
    "tags": []
   },
   "outputs": [
    {
     "data": {
      "text/plain": [
       "6750"
      ]
     },
     "execution_count": 14,
     "metadata": {},
     "output_type": "execute_result"
    }
   ],
   "source": [
    "len(multiplier_z_genes)"
   ]
  },
  {
   "cell_type": "code",
   "execution_count": 15,
   "id": "a18ce359-0759-4260-ae6f-053e8c0041b7",
   "metadata": {
    "execution": {
     "iopub.execute_input": "2022-12-15T17:45:02.086689Z",
     "iopub.status.busy": "2022-12-15T17:45:02.086232Z",
     "iopub.status.idle": "2022-12-15T17:45:02.102030Z",
     "shell.execute_reply": "2022-12-15T17:45:02.101447Z"
    },
    "papermill": {
     "duration": 0.026407,
     "end_time": "2022-12-15T17:45:02.102845",
     "exception": false,
     "start_time": "2022-12-15T17:45:02.076438",
     "status": "completed"
    },
    "tags": []
   },
   "outputs": [],
   "source": [
    "assert len(multiplier_z_genes) == len(set(multiplier_z_genes))"
   ]
  },
  {
   "cell_type": "code",
   "execution_count": 16,
   "id": "115e8864",
   "metadata": {
    "execution": {
     "iopub.execute_input": "2022-12-15T17:45:02.122528Z",
     "iopub.status.busy": "2022-12-15T17:45:02.122166Z",
     "iopub.status.idle": "2022-12-15T17:45:02.139016Z",
     "shell.execute_reply": "2022-12-15T17:45:02.138448Z"
    },
    "papermill": {
     "duration": 0.027572,
     "end_time": "2022-12-15T17:45:02.139911",
     "exception": false,
     "start_time": "2022-12-15T17:45:02.112339",
     "status": "completed"
    },
    "tags": []
   },
   "outputs": [
    {
     "data": {
      "text/plain": [
       "['GAS6', 'MMP14', 'DSP', 'MARCKSL1', 'SPARC']"
      ]
     },
     "execution_count": 16,
     "metadata": {},
     "output_type": "execute_result"
    }
   ],
   "source": [
    "multiplier_z_genes[:5]"
   ]
  },
  {
   "cell_type": "markdown",
   "id": "7bed0ce0-e7c7-4300-9a61-5412450b1904",
   "metadata": {
    "papermill": {
     "duration": 0.009462,
     "end_time": "2022-12-15T17:45:02.158814",
     "exception": false,
     "start_time": "2022-12-15T17:45:02.149352",
     "status": "completed"
    },
    "tags": []
   },
   "source": [
    "# GWAS"
   ]
  },
  {
   "cell_type": "code",
   "execution_count": 17,
   "id": "331e5691-c014-43e4-b94c-060c64d329df",
   "metadata": {
    "execution": {
     "iopub.execute_input": "2022-12-15T17:45:02.178670Z",
     "iopub.status.busy": "2022-12-15T17:45:02.178179Z",
     "iopub.status.idle": "2022-12-15T17:45:02.200363Z",
     "shell.execute_reply": "2022-12-15T17:45:02.199720Z"
    },
    "papermill": {
     "duration": 0.033175,
     "end_time": "2022-12-15T17:45:02.201363",
     "exception": false,
     "start_time": "2022-12-15T17:45:02.168188",
     "status": "completed"
    },
    "tags": []
   },
   "outputs": [],
   "source": [
    "gwas_file_columns = pd.read_csv(GWAS_FILE, sep=\"\\t\", nrows=2).columns\n",
    "\n",
    "assert (\n",
    "    \"panel_variant_id\" in gwas_file_columns\n",
    "), \"The GWAS file must be the final imputed one using the TWAS imputation tools with column 'panel_variant_id'\"\n",
    "\n",
    "assert (\n",
    "    \"pvalue\" in gwas_file_columns\n",
    "), \"The GWAS file must be the final imputed one using the TWAS imputation tools with column 'pvalue'\"\n",
    "\n",
    "assert (\n",
    "    \"zscore\" in gwas_file_columns\n",
    "), \"The GWAS file must be the final imputed one using the TWAS imputation tools with column 'zscore'\""
   ]
  },
  {
   "cell_type": "code",
   "execution_count": 18,
   "id": "8d419629-8f4d-4c83-bed3-cfc071a58090",
   "metadata": {
    "execution": {
     "iopub.execute_input": "2022-12-15T17:45:02.221301Z",
     "iopub.status.busy": "2022-12-15T17:45:02.220877Z",
     "iopub.status.idle": "2022-12-15T17:45:11.754683Z",
     "shell.execute_reply": "2022-12-15T17:45:11.754126Z"
    },
    "papermill": {
     "duration": 9.545664,
     "end_time": "2022-12-15T17:45:11.756585",
     "exception": false,
     "start_time": "2022-12-15T17:45:02.210921",
     "status": "completed"
    },
    "tags": []
   },
   "outputs": [],
   "source": [
    "gwas_data = pd.read_csv(\n",
    "    GWAS_FILE,\n",
    "    sep=\"\\t\",\n",
    "    usecols=[\"panel_variant_id\", \"pvalue\", \"zscore\"],\n",
    ")"
   ]
  },
  {
   "cell_type": "code",
   "execution_count": 19,
   "id": "3f4e814e-6b41-407e-9099-86795eec6ed9",
   "metadata": {
    "execution": {
     "iopub.execute_input": "2022-12-15T17:45:11.802784Z",
     "iopub.status.busy": "2022-12-15T17:45:11.802665Z",
     "iopub.status.idle": "2022-12-15T17:45:11.813801Z",
     "shell.execute_reply": "2022-12-15T17:45:11.813357Z"
    },
    "papermill": {
     "duration": 0.035532,
     "end_time": "2022-12-15T17:45:11.815694",
     "exception": false,
     "start_time": "2022-12-15T17:45:11.780162",
     "status": "completed"
    },
    "tags": []
   },
   "outputs": [
    {
     "data": {
      "text/plain": [
       "(8568681, 3)"
      ]
     },
     "execution_count": 19,
     "metadata": {},
     "output_type": "execute_result"
    }
   ],
   "source": [
    "gwas_data.shape"
   ]
  },
  {
   "cell_type": "code",
   "execution_count": 20,
   "id": "b4a906e9-c80a-47fc-9d73-5adb046f8b76",
   "metadata": {
    "execution": {
     "iopub.execute_input": "2022-12-15T17:45:11.857807Z",
     "iopub.status.busy": "2022-12-15T17:45:11.857693Z",
     "iopub.status.idle": "2022-12-15T17:45:11.874530Z",
     "shell.execute_reply": "2022-12-15T17:45:11.873994Z"
    },
    "papermill": {
     "duration": 0.038873,
     "end_time": "2022-12-15T17:45:11.875440",
     "exception": false,
     "start_time": "2022-12-15T17:45:11.836567",
     "status": "completed"
    },
    "tags": []
   },
   "outputs": [
    {
     "data": {
      "text/html": [
       "<div>\n",
       "<style scoped>\n",
       "    .dataframe tbody tr th:only-of-type {\n",
       "        vertical-align: middle;\n",
       "    }\n",
       "\n",
       "    .dataframe tbody tr th {\n",
       "        vertical-align: top;\n",
       "    }\n",
       "\n",
       "    .dataframe thead th {\n",
       "        text-align: right;\n",
       "    }\n",
       "</style>\n",
       "<table border=\"1\" class=\"dataframe\">\n",
       "  <thead>\n",
       "    <tr style=\"text-align: right;\">\n",
       "      <th></th>\n",
       "      <th>panel_variant_id</th>\n",
       "      <th>zscore</th>\n",
       "      <th>pvalue</th>\n",
       "    </tr>\n",
       "  </thead>\n",
       "  <tbody>\n",
       "    <tr>\n",
       "      <th>0</th>\n",
       "      <td>chr1_54490_G_A_b38</td>\n",
       "      <td>-0.871192</td>\n",
       "      <td>0.383649</td>\n",
       "    </tr>\n",
       "    <tr>\n",
       "      <th>1</th>\n",
       "      <td>chr1_87021_T_C_b38</td>\n",
       "      <td>-0.727002</td>\n",
       "      <td>0.467225</td>\n",
       "    </tr>\n",
       "    <tr>\n",
       "      <th>2</th>\n",
       "      <td>chr1_263722_C_G_b38</td>\n",
       "      <td>0.976081</td>\n",
       "      <td>0.329024</td>\n",
       "    </tr>\n",
       "    <tr>\n",
       "      <th>3</th>\n",
       "      <td>chr1_594402_C_T_b38</td>\n",
       "      <td>1.335924</td>\n",
       "      <td>0.181574</td>\n",
       "    </tr>\n",
       "    <tr>\n",
       "      <th>4</th>\n",
       "      <td>chr1_630555_C_T_b38</td>\n",
       "      <td>0.853461</td>\n",
       "      <td>0.393403</td>\n",
       "    </tr>\n",
       "  </tbody>\n",
       "</table>\n",
       "</div>"
      ],
      "text/plain": [
       "      panel_variant_id    zscore    pvalue\n",
       "0   chr1_54490_G_A_b38 -0.871192  0.383649\n",
       "1   chr1_87021_T_C_b38 -0.727002  0.467225\n",
       "2  chr1_263722_C_G_b38  0.976081  0.329024\n",
       "3  chr1_594402_C_T_b38  1.335924  0.181574\n",
       "4  chr1_630555_C_T_b38  0.853461  0.393403"
      ]
     },
     "execution_count": 20,
     "metadata": {},
     "output_type": "execute_result"
    }
   ],
   "source": [
    "gwas_data.head()"
   ]
  },
  {
   "cell_type": "code",
   "execution_count": 21,
   "id": "033c24fb-9c60-4ffd-929e-b0e6089820ae",
   "metadata": {
    "execution": {
     "iopub.execute_input": "2022-12-15T17:45:11.897187Z",
     "iopub.status.busy": "2022-12-15T17:45:11.896822Z",
     "iopub.status.idle": "2022-12-15T17:45:12.832558Z",
     "shell.execute_reply": "2022-12-15T17:45:12.832046Z"
    },
    "papermill": {
     "duration": 0.948218,
     "end_time": "2022-12-15T17:45:12.833986",
     "exception": false,
     "start_time": "2022-12-15T17:45:11.885768",
     "status": "completed"
    },
    "tags": []
   },
   "outputs": [
    {
     "data": {
      "text/plain": [
       "(8561476, 3)"
      ]
     },
     "execution_count": 21,
     "metadata": {},
     "output_type": "execute_result"
    }
   ],
   "source": [
    "gwas_data.dropna().shape"
   ]
  },
  {
   "cell_type": "code",
   "execution_count": 22,
   "id": "28232ce5-0afd-464e-9be3-64c3a68c2b25",
   "metadata": {
    "execution": {
     "iopub.execute_input": "2022-12-15T17:45:12.875060Z",
     "iopub.status.busy": "2022-12-15T17:45:12.874890Z",
     "iopub.status.idle": "2022-12-15T17:45:13.707719Z",
     "shell.execute_reply": "2022-12-15T17:45:13.707104Z"
    },
    "papermill": {
     "duration": 0.855369,
     "end_time": "2022-12-15T17:45:13.709522",
     "exception": false,
     "start_time": "2022-12-15T17:45:12.854153",
     "status": "completed"
    },
    "tags": []
   },
   "outputs": [],
   "source": [
    "# remove SNPs with no results\n",
    "gwas_data = gwas_data.dropna()"
   ]
  },
  {
   "cell_type": "code",
   "execution_count": 23,
   "id": "d9a6c31f-eedd-43e5-b762-5a9663be1b77",
   "metadata": {
    "execution": {
     "iopub.execute_input": "2022-12-15T17:45:13.751374Z",
     "iopub.status.busy": "2022-12-15T17:45:13.751246Z",
     "iopub.status.idle": "2022-12-15T17:45:13.763345Z",
     "shell.execute_reply": "2022-12-15T17:45:13.762765Z"
    },
    "papermill": {
     "duration": 0.034632,
     "end_time": "2022-12-15T17:45:13.764800",
     "exception": false,
     "start_time": "2022-12-15T17:45:13.730168",
     "status": "completed"
    },
    "tags": []
   },
   "outputs": [
    {
     "data": {
      "text/plain": [
       "(8561476, 3)"
      ]
     },
     "execution_count": 23,
     "metadata": {},
     "output_type": "execute_result"
    }
   ],
   "source": [
    "gwas_data.shape"
   ]
  },
  {
   "cell_type": "markdown",
   "id": "8da344de-2aa5-48a9-98ec-e8c3397ae7e6",
   "metadata": {
    "papermill": {
     "duration": 0.019732,
     "end_time": "2022-12-15T17:45:13.804598",
     "exception": false,
     "start_time": "2022-12-15T17:45:13.784866",
     "status": "completed"
    },
    "tags": []
   },
   "source": [
    "## Save GWAS variants"
   ]
  },
  {
   "cell_type": "code",
   "execution_count": 24,
   "id": "ac11fb33-ea3c-4d5c-a90b-0ceebdac43d3",
   "metadata": {
    "execution": {
     "iopub.execute_input": "2022-12-15T17:45:13.831395Z",
     "iopub.status.busy": "2022-12-15T17:45:13.831148Z",
     "iopub.status.idle": "2022-12-15T17:45:13.851531Z",
     "shell.execute_reply": "2022-12-15T17:45:13.850949Z"
    },
    "papermill": {
     "duration": 0.031674,
     "end_time": "2022-12-15T17:45:13.852450",
     "exception": false,
     "start_time": "2022-12-15T17:45:13.820776",
     "status": "completed"
    },
    "tags": []
   },
   "outputs": [
    {
     "data": {
      "text/html": [
       "<div>\n",
       "<style scoped>\n",
       "    .dataframe tbody tr th:only-of-type {\n",
       "        vertical-align: middle;\n",
       "    }\n",
       "\n",
       "    .dataframe tbody tr th {\n",
       "        vertical-align: top;\n",
       "    }\n",
       "\n",
       "    .dataframe thead th {\n",
       "        text-align: right;\n",
       "    }\n",
       "</style>\n",
       "<table border=\"1\" class=\"dataframe\">\n",
       "  <thead>\n",
       "    <tr style=\"text-align: right;\">\n",
       "      <th></th>\n",
       "      <th>panel_variant_id</th>\n",
       "      <th>zscore</th>\n",
       "      <th>pvalue</th>\n",
       "    </tr>\n",
       "  </thead>\n",
       "  <tbody>\n",
       "    <tr>\n",
       "      <th>0</th>\n",
       "      <td>chr1_54490_G_A_b38</td>\n",
       "      <td>-0.871192</td>\n",
       "      <td>0.383649</td>\n",
       "    </tr>\n",
       "    <tr>\n",
       "      <th>1</th>\n",
       "      <td>chr1_87021_T_C_b38</td>\n",
       "      <td>-0.727002</td>\n",
       "      <td>0.467225</td>\n",
       "    </tr>\n",
       "    <tr>\n",
       "      <th>2</th>\n",
       "      <td>chr1_263722_C_G_b38</td>\n",
       "      <td>0.976081</td>\n",
       "      <td>0.329024</td>\n",
       "    </tr>\n",
       "    <tr>\n",
       "      <th>3</th>\n",
       "      <td>chr1_594402_C_T_b38</td>\n",
       "      <td>1.335924</td>\n",
       "      <td>0.181574</td>\n",
       "    </tr>\n",
       "    <tr>\n",
       "      <th>4</th>\n",
       "      <td>chr1_630555_C_T_b38</td>\n",
       "      <td>0.853461</td>\n",
       "      <td>0.393403</td>\n",
       "    </tr>\n",
       "  </tbody>\n",
       "</table>\n",
       "</div>"
      ],
      "text/plain": [
       "      panel_variant_id    zscore    pvalue\n",
       "0   chr1_54490_G_A_b38 -0.871192  0.383649\n",
       "1   chr1_87021_T_C_b38 -0.727002  0.467225\n",
       "2  chr1_263722_C_G_b38  0.976081  0.329024\n",
       "3  chr1_594402_C_T_b38  1.335924  0.181574\n",
       "4  chr1_630555_C_T_b38  0.853461  0.393403"
      ]
     },
     "execution_count": 24,
     "metadata": {},
     "output_type": "execute_result"
    }
   ],
   "source": [
    "gwas_data.head()"
   ]
  },
  {
   "cell_type": "code",
   "execution_count": 25,
   "id": "5f34bb3d-761a-4860-a179-77ea5f5784ad",
   "metadata": {
    "execution": {
     "iopub.execute_input": "2022-12-15T17:45:13.873613Z",
     "iopub.status.busy": "2022-12-15T17:45:13.873014Z",
     "iopub.status.idle": "2022-12-15T17:45:17.730412Z",
     "shell.execute_reply": "2022-12-15T17:45:17.729832Z"
    },
    "papermill": {
     "duration": 3.869335,
     "end_time": "2022-12-15T17:45:17.731935",
     "exception": false,
     "start_time": "2022-12-15T17:45:13.862600",
     "status": "completed"
    },
    "tags": []
   },
   "outputs": [
    {
     "data": {
      "text/plain": [
       "True"
      ]
     },
     "execution_count": 25,
     "metadata": {},
     "output_type": "execute_result"
    }
   ],
   "source": [
    "# in eMERGE's results, some values here are repeated (will be removed later by taking the unique set of variant IDs).\n",
    "gwas_data[\"panel_variant_id\"].is_unique"
   ]
  },
  {
   "cell_type": "code",
   "execution_count": 26,
   "id": "d4f23b2f-01a3-4a45-a2b6-31b245b5778e",
   "metadata": {
    "execution": {
     "iopub.execute_input": "2022-12-15T17:45:17.775037Z",
     "iopub.status.busy": "2022-12-15T17:45:17.774827Z",
     "iopub.status.idle": "2022-12-15T17:45:19.753890Z",
     "shell.execute_reply": "2022-12-15T17:45:19.753326Z"
    },
    "papermill": {
     "duration": 2.002459,
     "end_time": "2022-12-15T17:45:19.755686",
     "exception": false,
     "start_time": "2022-12-15T17:45:17.753227",
     "status": "completed"
    },
    "tags": []
   },
   "outputs": [
    {
     "data": {
      "text/plain": [
       "['chr4_174178029_A_C_b38',\n",
       " 'chr2_184854796_GTGAATCTGTCAGCAC_G_b38',\n",
       " 'chr5_39490754_T_G_b38',\n",
       " 'chr17_74022768_CAT_C_b38',\n",
       " 'chr2_119403867_G_C_b38']"
      ]
     },
     "execution_count": 26,
     "metadata": {},
     "output_type": "execute_result"
    }
   ],
   "source": [
    "gwas_variants_ids_set = frozenset(gwas_data[\"panel_variant_id\"])\n",
    "list(gwas_variants_ids_set)[:5]"
   ]
  },
  {
   "cell_type": "code",
   "execution_count": 27,
   "id": "b4a441df-07d7-48dc-be36-cdb3f92be651",
   "metadata": {
    "execution": {
     "iopub.execute_input": "2022-12-15T17:45:19.798444Z",
     "iopub.status.busy": "2022-12-15T17:45:19.798330Z",
     "iopub.status.idle": "2022-12-15T17:45:22.725839Z",
     "shell.execute_reply": "2022-12-15T17:45:22.725278Z"
    },
    "papermill": {
     "duration": 2.950564,
     "end_time": "2022-12-15T17:45:22.727087",
     "exception": false,
     "start_time": "2022-12-15T17:45:19.776523",
     "status": "completed"
    },
    "tags": []
   },
   "outputs": [],
   "source": [
    "with open(OUTPUT_DIR_BASE / \"gwas_variant_ids.pkl\", \"wb\") as handle:\n",
    "    pickle.dump(gwas_variants_ids_set, handle, protocol=pickle.HIGHEST_PROTOCOL)"
   ]
  },
  {
   "cell_type": "markdown",
   "id": "abcc4b3d",
   "metadata": {
    "papermill": {
     "duration": 0.009905,
     "end_time": "2022-12-15T17:45:22.747363",
     "exception": false,
     "start_time": "2022-12-15T17:45:22.737458",
     "status": "completed"
    },
    "tags": []
   },
   "source": [
    "# TWAS"
   ]
  },
  {
   "cell_type": "markdown",
   "id": "2fbc7358-0563-4fc6-bc47-a0fbcc5cdfd4",
   "metadata": {
    "papermill": {
     "duration": 0.009991,
     "end_time": "2022-12-15T17:45:22.767281",
     "exception": false,
     "start_time": "2022-12-15T17:45:22.757290",
     "status": "completed"
    },
    "tags": []
   },
   "source": [
    "## Available tissues for eQTL model"
   ]
  },
  {
   "cell_type": "code",
   "execution_count": 28,
   "id": "f32c0a84-030a-436b-b597-852b6150d2ac",
   "metadata": {
    "execution": {
     "iopub.execute_input": "2022-12-15T17:45:22.787787Z",
     "iopub.status.busy": "2022-12-15T17:45:22.787563Z",
     "iopub.status.idle": "2022-12-15T17:45:22.797823Z",
     "shell.execute_reply": "2022-12-15T17:45:22.797369Z"
    },
    "papermill": {
     "duration": 0.021571,
     "end_time": "2022-12-15T17:45:22.798689",
     "exception": false,
     "start_time": "2022-12-15T17:45:22.777118",
     "status": "completed"
    },
    "tags": []
   },
   "outputs": [],
   "source": [
    "prediction_model_tissues = conf.PHENOMEXCAN[\"PREDICTION_MODELS\"][\n",
    "    f\"{EQTL_MODEL}_TISSUES\"\n",
    "].split(\" \")"
   ]
  },
  {
   "cell_type": "code",
   "execution_count": 29,
   "id": "0e760d0e-f23d-4590-abfb-811a43f7c237",
   "metadata": {
    "execution": {
     "iopub.execute_input": "2022-12-15T17:45:22.819680Z",
     "iopub.status.busy": "2022-12-15T17:45:22.819549Z",
     "iopub.status.idle": "2022-12-15T17:45:22.832966Z",
     "shell.execute_reply": "2022-12-15T17:45:22.832445Z"
    },
    "papermill": {
     "duration": 0.024958,
     "end_time": "2022-12-15T17:45:22.833893",
     "exception": false,
     "start_time": "2022-12-15T17:45:22.808935",
     "status": "completed"
    },
    "tags": []
   },
   "outputs": [
    {
     "data": {
      "text/plain": [
       "49"
      ]
     },
     "execution_count": 29,
     "metadata": {},
     "output_type": "execute_result"
    }
   ],
   "source": [
    "len(prediction_model_tissues)"
   ]
  },
  {
   "cell_type": "code",
   "execution_count": 30,
   "id": "fa4d942c-cd67-4b31-9491-585c887c0ee3",
   "metadata": {
    "execution": {
     "iopub.execute_input": "2022-12-15T17:45:22.855516Z",
     "iopub.status.busy": "2022-12-15T17:45:22.855033Z",
     "iopub.status.idle": "2022-12-15T17:45:22.871536Z",
     "shell.execute_reply": "2022-12-15T17:45:22.870951Z"
    },
    "papermill": {
     "duration": 0.028108,
     "end_time": "2022-12-15T17:45:22.872406",
     "exception": false,
     "start_time": "2022-12-15T17:45:22.844298",
     "status": "completed"
    },
    "tags": []
   },
   "outputs": [
    {
     "data": {
      "text/plain": [
       "['Thyroid',\n",
       " 'Artery_Aorta',\n",
       " 'Heart_Atrial_Appendage',\n",
       " 'Liver',\n",
       " 'Heart_Left_Ventricle']"
      ]
     },
     "execution_count": 30,
     "metadata": {},
     "output_type": "execute_result"
    }
   ],
   "source": [
    "prediction_model_tissues[:5]"
   ]
  },
  {
   "cell_type": "markdown",
   "id": "fab4814d-757c-4247-b5e4-891bc4863db7",
   "metadata": {
    "papermill": {
     "duration": 0.010092,
     "end_time": "2022-12-15T17:45:22.892874",
     "exception": false,
     "start_time": "2022-12-15T17:45:22.882782",
     "status": "completed"
    },
    "tags": []
   },
   "source": [
    "## S-MultiXcan results"
   ]
  },
  {
   "cell_type": "code",
   "execution_count": 31,
   "id": "2b73c11e-9aa2-410e-84b4-a70be34d02e4",
   "metadata": {
    "execution": {
     "iopub.execute_input": "2022-12-15T17:45:22.914557Z",
     "iopub.status.busy": "2022-12-15T17:45:22.914060Z",
     "iopub.status.idle": "2022-12-15T17:45:22.981159Z",
     "shell.execute_reply": "2022-12-15T17:45:22.980492Z"
    },
    "papermill": {
     "duration": 0.079052,
     "end_time": "2022-12-15T17:45:22.982226",
     "exception": false,
     "start_time": "2022-12-15T17:45:22.903174",
     "status": "completed"
    },
    "tags": []
   },
   "outputs": [],
   "source": [
    "smultixcan_results = pd.read_csv(\n",
    "    SMULTIXCAN_FILE, sep=\"\\t\", usecols=[\"gene\", \"gene_name\", \"pvalue\", \"n\", \"n_indep\"]\n",
    ")"
   ]
  },
  {
   "cell_type": "code",
   "execution_count": 32,
   "id": "8b5abebd-baab-4188-9e3d-655ebbe32401",
   "metadata": {
    "execution": {
     "iopub.execute_input": "2022-12-15T17:45:23.003859Z",
     "iopub.status.busy": "2022-12-15T17:45:23.003427Z",
     "iopub.status.idle": "2022-12-15T17:45:23.020844Z",
     "shell.execute_reply": "2022-12-15T17:45:23.020254Z"
    },
    "papermill": {
     "duration": 0.029275,
     "end_time": "2022-12-15T17:45:23.021794",
     "exception": false,
     "start_time": "2022-12-15T17:45:22.992519",
     "status": "completed"
    },
    "tags": []
   },
   "outputs": [
    {
     "data": {
      "text/plain": [
       "(22321, 5)"
      ]
     },
     "execution_count": 32,
     "metadata": {},
     "output_type": "execute_result"
    }
   ],
   "source": [
    "smultixcan_results.shape"
   ]
  },
  {
   "cell_type": "code",
   "execution_count": 33,
   "id": "c65e233f-9ef6-4883-9386-7abf1d6d1cbd",
   "metadata": {
    "execution": {
     "iopub.execute_input": "2022-12-15T17:45:23.043721Z",
     "iopub.status.busy": "2022-12-15T17:45:23.043178Z",
     "iopub.status.idle": "2022-12-15T17:45:23.066880Z",
     "shell.execute_reply": "2022-12-15T17:45:23.066236Z"
    },
    "papermill": {
     "duration": 0.035447,
     "end_time": "2022-12-15T17:45:23.067835",
     "exception": false,
     "start_time": "2022-12-15T17:45:23.032388",
     "status": "completed"
    },
    "tags": []
   },
   "outputs": [],
   "source": [
    "smultixcan_results = smultixcan_results.dropna()"
   ]
  },
  {
   "cell_type": "code",
   "execution_count": 34,
   "id": "57d2d311-4a42-4725-9e37-b124ed13ad33",
   "metadata": {
    "execution": {
     "iopub.execute_input": "2022-12-15T17:45:23.089740Z",
     "iopub.status.busy": "2022-12-15T17:45:23.089150Z",
     "iopub.status.idle": "2022-12-15T17:45:23.106293Z",
     "shell.execute_reply": "2022-12-15T17:45:23.105718Z"
    },
    "papermill": {
     "duration": 0.028983,
     "end_time": "2022-12-15T17:45:23.107220",
     "exception": false,
     "start_time": "2022-12-15T17:45:23.078237",
     "status": "completed"
    },
    "tags": []
   },
   "outputs": [
    {
     "data": {
      "text/plain": [
       "(22318, 5)"
      ]
     },
     "execution_count": 34,
     "metadata": {},
     "output_type": "execute_result"
    }
   ],
   "source": [
    "smultixcan_results.shape"
   ]
  },
  {
   "cell_type": "code",
   "execution_count": 35,
   "id": "a36b5b59-f4b6-45bf-b241-ffc9671b357f",
   "metadata": {
    "execution": {
     "iopub.execute_input": "2022-12-15T17:45:23.131855Z",
     "iopub.status.busy": "2022-12-15T17:45:23.131282Z",
     "iopub.status.idle": "2022-12-15T17:45:23.155819Z",
     "shell.execute_reply": "2022-12-15T17:45:23.155145Z"
    },
    "papermill": {
     "duration": 0.039534,
     "end_time": "2022-12-15T17:45:23.157338",
     "exception": false,
     "start_time": "2022-12-15T17:45:23.117804",
     "status": "completed"
    },
    "tags": []
   },
   "outputs": [],
   "source": [
    "smultixcan_results = smultixcan_results.assign(\n",
    "    gene_id=smultixcan_results[\"gene\"].apply(lambda g: g.split(\".\")[0])\n",
    ")"
   ]
  },
  {
   "cell_type": "code",
   "execution_count": 36,
   "id": "c49f62a9-a01a-44af-87da-47d195b0ef7e",
   "metadata": {
    "execution": {
     "iopub.execute_input": "2022-12-15T17:45:23.187764Z",
     "iopub.status.busy": "2022-12-15T17:45:23.187292Z",
     "iopub.status.idle": "2022-12-15T17:45:23.211025Z",
     "shell.execute_reply": "2022-12-15T17:45:23.210426Z"
    },
    "papermill": {
     "duration": 0.037622,
     "end_time": "2022-12-15T17:45:23.211982",
     "exception": false,
     "start_time": "2022-12-15T17:45:23.174360",
     "status": "completed"
    },
    "tags": []
   },
   "outputs": [
    {
     "data": {
      "text/html": [
       "<div>\n",
       "<style scoped>\n",
       "    .dataframe tbody tr th:only-of-type {\n",
       "        vertical-align: middle;\n",
       "    }\n",
       "\n",
       "    .dataframe tbody tr th {\n",
       "        vertical-align: top;\n",
       "    }\n",
       "\n",
       "    .dataframe thead th {\n",
       "        text-align: right;\n",
       "    }\n",
       "</style>\n",
       "<table border=\"1\" class=\"dataframe\">\n",
       "  <thead>\n",
       "    <tr style=\"text-align: right;\">\n",
       "      <th></th>\n",
       "      <th>gene</th>\n",
       "      <th>gene_name</th>\n",
       "      <th>pvalue</th>\n",
       "      <th>n</th>\n",
       "      <th>n_indep</th>\n",
       "      <th>gene_id</th>\n",
       "    </tr>\n",
       "  </thead>\n",
       "  <tbody>\n",
       "    <tr>\n",
       "      <th>0</th>\n",
       "      <td>ENSG00000237541.3</td>\n",
       "      <td>HLA-DQA2</td>\n",
       "      <td>1.692207e-33</td>\n",
       "      <td>45.0</td>\n",
       "      <td>5.0</td>\n",
       "      <td>ENSG00000237541</td>\n",
       "    </tr>\n",
       "    <tr>\n",
       "      <th>1</th>\n",
       "      <td>ENSG00000179344.16</td>\n",
       "      <td>HLA-DQB1</td>\n",
       "      <td>5.343156e-29</td>\n",
       "      <td>49.0</td>\n",
       "      <td>3.0</td>\n",
       "      <td>ENSG00000179344</td>\n",
       "    </tr>\n",
       "    <tr>\n",
       "      <th>2</th>\n",
       "      <td>ENSG00000196735.11</td>\n",
       "      <td>HLA-DQA1</td>\n",
       "      <td>1.919708e-28</td>\n",
       "      <td>44.0</td>\n",
       "      <td>6.0</td>\n",
       "      <td>ENSG00000196735</td>\n",
       "    </tr>\n",
       "    <tr>\n",
       "      <th>3</th>\n",
       "      <td>ENSG00000204290.10</td>\n",
       "      <td>BTNL2</td>\n",
       "      <td>1.414254e-27</td>\n",
       "      <td>21.0</td>\n",
       "      <td>10.0</td>\n",
       "      <td>ENSG00000204290</td>\n",
       "    </tr>\n",
       "    <tr>\n",
       "      <th>4</th>\n",
       "      <td>ENSG00000232629.8</td>\n",
       "      <td>HLA-DQB2</td>\n",
       "      <td>1.371715e-24</td>\n",
       "      <td>41.0</td>\n",
       "      <td>3.0</td>\n",
       "      <td>ENSG00000232629</td>\n",
       "    </tr>\n",
       "  </tbody>\n",
       "</table>\n",
       "</div>"
      ],
      "text/plain": [
       "                 gene gene_name        pvalue     n  n_indep          gene_id\n",
       "0   ENSG00000237541.3  HLA-DQA2  1.692207e-33  45.0      5.0  ENSG00000237541\n",
       "1  ENSG00000179344.16  HLA-DQB1  5.343156e-29  49.0      3.0  ENSG00000179344\n",
       "2  ENSG00000196735.11  HLA-DQA1  1.919708e-28  44.0      6.0  ENSG00000196735\n",
       "3  ENSG00000204290.10     BTNL2  1.414254e-27  21.0     10.0  ENSG00000204290\n",
       "4   ENSG00000232629.8  HLA-DQB2  1.371715e-24  41.0      3.0  ENSG00000232629"
      ]
     },
     "execution_count": 36,
     "metadata": {},
     "output_type": "execute_result"
    }
   ],
   "source": [
    "smultixcan_results.head()"
   ]
  },
  {
   "cell_type": "code",
   "execution_count": 37,
   "id": "9c4c023c-86d6-4c4b-8d57-c2b6b93aaf84",
   "metadata": {
    "execution": {
     "iopub.execute_input": "2022-12-15T17:45:23.234709Z",
     "iopub.status.busy": "2022-12-15T17:45:23.234173Z",
     "iopub.status.idle": "2022-12-15T17:45:23.254037Z",
     "shell.execute_reply": "2022-12-15T17:45:23.253423Z"
    },
    "papermill": {
     "duration": 0.032532,
     "end_time": "2022-12-15T17:45:23.255282",
     "exception": false,
     "start_time": "2022-12-15T17:45:23.222750",
     "status": "completed"
    },
    "tags": []
   },
   "outputs": [],
   "source": [
    "assert smultixcan_results[\"gene_id\"].is_unique"
   ]
  },
  {
   "cell_type": "markdown",
   "id": "1f9939f1-4200-40d9-a8bf-8e4fd68bee48",
   "metadata": {
    "papermill": {
     "duration": 0.010608,
     "end_time": "2022-12-15T17:45:23.279191",
     "exception": false,
     "start_time": "2022-12-15T17:45:23.268583",
     "status": "completed"
    },
    "tags": []
   },
   "source": [
    "### Get common genes with MultiPLIER"
   ]
  },
  {
   "cell_type": "code",
   "execution_count": 38,
   "id": "c820e6cf-6350-45af-b49a-0abd94f570ff",
   "metadata": {
    "execution": {
     "iopub.execute_input": "2022-12-15T17:45:23.301645Z",
     "iopub.status.busy": "2022-12-15T17:45:23.301148Z",
     "iopub.status.idle": "2022-12-15T17:45:23.323905Z",
     "shell.execute_reply": "2022-12-15T17:45:23.323257Z"
    },
    "papermill": {
     "duration": 0.035159,
     "end_time": "2022-12-15T17:45:23.324904",
     "exception": false,
     "start_time": "2022-12-15T17:45:23.289745",
     "status": "completed"
    },
    "tags": []
   },
   "outputs": [],
   "source": [
    "common_genes = set(multiplier_z_genes).intersection(\n",
    "    set(smultixcan_results[\"gene_name\"])\n",
    ")"
   ]
  },
  {
   "cell_type": "code",
   "execution_count": 39,
   "id": "0a7328f9-96c7-4ac6-a9a6-ae4fa121a4cd",
   "metadata": {
    "execution": {
     "iopub.execute_input": "2022-12-15T17:45:23.347398Z",
     "iopub.status.busy": "2022-12-15T17:45:23.346850Z",
     "iopub.status.idle": "2022-12-15T17:45:23.365050Z",
     "shell.execute_reply": "2022-12-15T17:45:23.364456Z"
    },
    "papermill": {
     "duration": 0.030399,
     "end_time": "2022-12-15T17:45:23.366012",
     "exception": false,
     "start_time": "2022-12-15T17:45:23.335613",
     "status": "completed"
    },
    "tags": []
   },
   "outputs": [
    {
     "data": {
      "text/plain": [
       "6444"
      ]
     },
     "execution_count": 39,
     "metadata": {},
     "output_type": "execute_result"
    }
   ],
   "source": [
    "len(common_genes)"
   ]
  },
  {
   "cell_type": "code",
   "execution_count": 40,
   "id": "5b08d362-44c8-4db2-9258-670e2e2a9cc0",
   "metadata": {
    "execution": {
     "iopub.execute_input": "2022-12-15T17:45:23.388502Z",
     "iopub.status.busy": "2022-12-15T17:45:23.387974Z",
     "iopub.status.idle": "2022-12-15T17:45:23.407242Z",
     "shell.execute_reply": "2022-12-15T17:45:23.406650Z"
    },
    "papermill": {
     "duration": 0.03152,
     "end_time": "2022-12-15T17:45:23.408209",
     "exception": false,
     "start_time": "2022-12-15T17:45:23.376689",
     "status": "completed"
    },
    "tags": []
   },
   "outputs": [
    {
     "data": {
      "text/plain": [
       "['A2M', 'AAAS', 'AANAT', 'AARS', 'AARS2']"
      ]
     },
     "execution_count": 40,
     "metadata": {},
     "output_type": "execute_result"
    }
   ],
   "source": [
    "sorted(list(common_genes))[:5]"
   ]
  },
  {
   "cell_type": "markdown",
   "id": "7f51338b-8a75-42c3-a7e5-a0961cefb663",
   "metadata": {
    "papermill": {
     "duration": 0.010912,
     "end_time": "2022-12-15T17:45:23.429997",
     "exception": false,
     "start_time": "2022-12-15T17:45:23.419085",
     "status": "completed"
    },
    "tags": []
   },
   "source": [
    "## Genes info"
   ]
  },
  {
   "cell_type": "code",
   "execution_count": 41,
   "id": "bb932812",
   "metadata": {
    "execution": {
     "iopub.execute_input": "2022-12-15T17:45:23.454327Z",
     "iopub.status.busy": "2022-12-15T17:45:23.453834Z",
     "iopub.status.idle": "2022-12-15T17:45:24.081596Z",
     "shell.execute_reply": "2022-12-15T17:45:24.080971Z"
    },
    "papermill": {
     "duration": 0.641456,
     "end_time": "2022-12-15T17:45:24.083392",
     "exception": false,
     "start_time": "2022-12-15T17:45:23.441936",
     "status": "completed"
    },
    "tags": []
   },
   "outputs": [],
   "source": [
    "multiplier_gene_obj = {\n",
    "    gene_name: Gene(name=gene_name)\n",
    "    for gene_name in common_genes\n",
    "    if gene_name in Gene.GENE_NAME_TO_ID_MAP\n",
    "}"
   ]
  },
  {
   "cell_type": "code",
   "execution_count": 42,
   "id": "cb9d7a45-2b7d-4d10-80dc-212a625b5ae7",
   "metadata": {
    "execution": {
     "iopub.execute_input": "2022-12-15T17:45:24.124191Z",
     "iopub.status.busy": "2022-12-15T17:45:24.124075Z",
     "iopub.status.idle": "2022-12-15T17:45:24.140128Z",
     "shell.execute_reply": "2022-12-15T17:45:24.139483Z"
    },
    "papermill": {
     "duration": 0.038056,
     "end_time": "2022-12-15T17:45:24.141515",
     "exception": false,
     "start_time": "2022-12-15T17:45:24.103459",
     "status": "completed"
    },
    "tags": []
   },
   "outputs": [],
   "source": [
    "# delete common_genes, from now on, genes_info should be used for common genes\n",
    "del common_genes"
   ]
  },
  {
   "cell_type": "code",
   "execution_count": 43,
   "id": "39533214",
   "metadata": {
    "execution": {
     "iopub.execute_input": "2022-12-15T17:45:24.179085Z",
     "iopub.status.busy": "2022-12-15T17:45:24.178508Z",
     "iopub.status.idle": "2022-12-15T17:45:24.194935Z",
     "shell.execute_reply": "2022-12-15T17:45:24.194287Z"
    },
    "papermill": {
     "duration": 0.034967,
     "end_time": "2022-12-15T17:45:24.196186",
     "exception": false,
     "start_time": "2022-12-15T17:45:24.161219",
     "status": "completed"
    },
    "tags": []
   },
   "outputs": [
    {
     "data": {
      "text/plain": [
       "6444"
      ]
     },
     "execution_count": 43,
     "metadata": {},
     "output_type": "execute_result"
    }
   ],
   "source": [
    "len(multiplier_gene_obj)"
   ]
  },
  {
   "cell_type": "code",
   "execution_count": 44,
   "id": "9a5d0b84",
   "metadata": {
    "execution": {
     "iopub.execute_input": "2022-12-15T17:45:24.232646Z",
     "iopub.status.busy": "2022-12-15T17:45:24.232446Z",
     "iopub.status.idle": "2022-12-15T17:45:24.247670Z",
     "shell.execute_reply": "2022-12-15T17:45:24.247026Z"
    },
    "papermill": {
     "duration": 0.036189,
     "end_time": "2022-12-15T17:45:24.248922",
     "exception": false,
     "start_time": "2022-12-15T17:45:24.212733",
     "status": "completed"
    },
    "tags": []
   },
   "outputs": [],
   "source": [
    "assert multiplier_gene_obj[\"GAS6\"].ensembl_id == \"ENSG00000183087\""
   ]
  },
  {
   "cell_type": "code",
   "execution_count": 45,
   "id": "e3ffabc7",
   "metadata": {
    "execution": {
     "iopub.execute_input": "2022-12-15T17:45:24.284254Z",
     "iopub.status.busy": "2022-12-15T17:45:24.283711Z",
     "iopub.status.idle": "2022-12-15T17:45:26.028423Z",
     "shell.execute_reply": "2022-12-15T17:45:26.027874Z"
    },
    "papermill": {
     "duration": 1.76132,
     "end_time": "2022-12-15T17:45:26.029603",
     "exception": false,
     "start_time": "2022-12-15T17:45:24.268283",
     "status": "completed"
    },
    "tags": []
   },
   "outputs": [],
   "source": [
    "_gene_obj = list(multiplier_gene_obj.values())\n",
    "\n",
    "genes_info = pd.DataFrame(\n",
    "    {\n",
    "        \"name\": [g.name for g in _gene_obj],\n",
    "        \"id\": [g.ensembl_id for g in _gene_obj],\n",
    "        \"chr\": [g.chromosome for g in _gene_obj],\n",
    "        \"band\": [g.band for g in _gene_obj],\n",
    "        \"start_position\": [g.get_attribute(\"start_position\") for g in _gene_obj],\n",
    "        \"end_position\": [g.get_attribute(\"end_position\") for g in _gene_obj],\n",
    "    }\n",
    ")"
   ]
  },
  {
   "cell_type": "code",
   "execution_count": 46,
   "id": "00475e72-1cfc-485f-8b4e-1d9cce695f58",
   "metadata": {
    "execution": {
     "iopub.execute_input": "2022-12-15T17:45:26.065297Z",
     "iopub.status.busy": "2022-12-15T17:45:26.065179Z",
     "iopub.status.idle": "2022-12-15T17:45:26.124727Z",
     "shell.execute_reply": "2022-12-15T17:45:26.124238Z"
    },
    "papermill": {
     "duration": 0.080379,
     "end_time": "2022-12-15T17:45:26.125712",
     "exception": false,
     "start_time": "2022-12-15T17:45:26.045333",
     "status": "completed"
    },
    "tags": []
   },
   "outputs": [],
   "source": [
    "genes_info = genes_info.assign(\n",
    "    gene_length=genes_info.apply(\n",
    "        lambda x: x[\"end_position\"] - x[\"start_position\"], axis=1\n",
    "    )\n",
    ")"
   ]
  },
  {
   "cell_type": "code",
   "execution_count": 47,
   "id": "3af1a166-08a0-4333-bc09-b8bc762aa7ef",
   "metadata": {
    "execution": {
     "iopub.execute_input": "2022-12-15T17:45:26.148401Z",
     "iopub.status.busy": "2022-12-15T17:45:26.148286Z",
     "iopub.status.idle": "2022-12-15T17:45:26.163096Z",
     "shell.execute_reply": "2022-12-15T17:45:26.162512Z"
    },
    "papermill": {
     "duration": 0.02736,
     "end_time": "2022-12-15T17:45:26.164254",
     "exception": false,
     "start_time": "2022-12-15T17:45:26.136894",
     "status": "completed"
    },
    "tags": []
   },
   "outputs": [
    {
     "data": {
      "text/plain": [
       "name               object\n",
       "id                 object\n",
       "chr                object\n",
       "band               object\n",
       "start_position    float64\n",
       "end_position      float64\n",
       "gene_length       float64\n",
       "dtype: object"
      ]
     },
     "execution_count": 47,
     "metadata": {},
     "output_type": "execute_result"
    }
   ],
   "source": [
    "genes_info.dtypes"
   ]
  },
  {
   "cell_type": "code",
   "execution_count": 48,
   "id": "08a23f6f-87f6-4072-88c8-010b90a411cd",
   "metadata": {
    "execution": {
     "iopub.execute_input": "2022-12-15T17:45:26.195106Z",
     "iopub.status.busy": "2022-12-15T17:45:26.194943Z",
     "iopub.status.idle": "2022-12-15T17:45:26.221068Z",
     "shell.execute_reply": "2022-12-15T17:45:26.220407Z"
    },
    "papermill": {
     "duration": 0.038771,
     "end_time": "2022-12-15T17:45:26.222036",
     "exception": false,
     "start_time": "2022-12-15T17:45:26.183265",
     "status": "completed"
    },
    "tags": []
   },
   "outputs": [
    {
     "data": {
      "text/html": [
       "<div>\n",
       "<style scoped>\n",
       "    .dataframe tbody tr th:only-of-type {\n",
       "        vertical-align: middle;\n",
       "    }\n",
       "\n",
       "    .dataframe tbody tr th {\n",
       "        vertical-align: top;\n",
       "    }\n",
       "\n",
       "    .dataframe thead th {\n",
       "        text-align: right;\n",
       "    }\n",
       "</style>\n",
       "<table border=\"1\" class=\"dataframe\">\n",
       "  <thead>\n",
       "    <tr style=\"text-align: right;\">\n",
       "      <th></th>\n",
       "      <th>name</th>\n",
       "      <th>id</th>\n",
       "      <th>chr</th>\n",
       "      <th>band</th>\n",
       "      <th>start_position</th>\n",
       "      <th>end_position</th>\n",
       "      <th>gene_length</th>\n",
       "    </tr>\n",
       "  </thead>\n",
       "  <tbody>\n",
       "    <tr>\n",
       "      <th>3093</th>\n",
       "      <td>TBCE</td>\n",
       "      <td>ENSG00000116957</td>\n",
       "      <td>None</td>\n",
       "      <td>None</td>\n",
       "      <td>NaN</td>\n",
       "      <td>NaN</td>\n",
       "      <td>NaN</td>\n",
       "    </tr>\n",
       "    <tr>\n",
       "      <th>5145</th>\n",
       "      <td>TMEM133</td>\n",
       "      <td>ENSG00000170647</td>\n",
       "      <td>None</td>\n",
       "      <td>None</td>\n",
       "      <td>NaN</td>\n",
       "      <td>NaN</td>\n",
       "      <td>NaN</td>\n",
       "    </tr>\n",
       "  </tbody>\n",
       "</table>\n",
       "</div>"
      ],
      "text/plain": [
       "         name               id   chr  band  start_position  end_position  \\\n",
       "3093     TBCE  ENSG00000116957  None  None             NaN           NaN   \n",
       "5145  TMEM133  ENSG00000170647  None  None             NaN           NaN   \n",
       "\n",
       "      gene_length  \n",
       "3093          NaN  \n",
       "5145          NaN  "
      ]
     },
     "metadata": {},
     "output_type": "display_data"
    }
   ],
   "source": [
    "_tmp = genes_info[genes_info.isna().any(axis=1)]\n",
    "display(_tmp)\n",
    "assert _tmp.shape[0] < 5"
   ]
  },
  {
   "cell_type": "code",
   "execution_count": 49,
   "id": "87c010f0-8ad9-4bf0-b12d-02f37a93853a",
   "metadata": {
    "execution": {
     "iopub.execute_input": "2022-12-15T17:45:26.252925Z",
     "iopub.status.busy": "2022-12-15T17:45:26.252719Z",
     "iopub.status.idle": "2022-12-15T17:45:26.274383Z",
     "shell.execute_reply": "2022-12-15T17:45:26.273718Z"
    },
    "papermill": {
     "duration": 0.042444,
     "end_time": "2022-12-15T17:45:26.275776",
     "exception": false,
     "start_time": "2022-12-15T17:45:26.233332",
     "status": "completed"
    },
    "tags": []
   },
   "outputs": [],
   "source": [
    "genes_info = genes_info.dropna()"
   ]
  },
  {
   "cell_type": "code",
   "execution_count": 50,
   "id": "61833f43-3a92-47e9-bca3-e05b6673c7d9",
   "metadata": {
    "execution": {
     "iopub.execute_input": "2022-12-15T17:45:26.312619Z",
     "iopub.status.busy": "2022-12-15T17:45:26.312413Z",
     "iopub.status.idle": "2022-12-15T17:45:26.711061Z",
     "shell.execute_reply": "2022-12-15T17:45:26.710457Z"
    },
    "papermill": {
     "duration": 0.41824,
     "end_time": "2022-12-15T17:45:26.712742",
     "exception": false,
     "start_time": "2022-12-15T17:45:26.294502",
     "status": "completed"
    },
    "tags": []
   },
   "outputs": [],
   "source": [
    "genes_info[\"chr\"] = genes_info[\"chr\"].apply(pd.to_numeric, downcast=\"integer\")\n",
    "genes_info[\"start_position\"] = genes_info[\"start_position\"].astype(int)\n",
    "genes_info[\"end_position\"] = genes_info[\"end_position\"].astype(int)\n",
    "genes_info[\"gene_length\"] = genes_info[\"gene_length\"].astype(int)"
   ]
  },
  {
   "cell_type": "code",
   "execution_count": 51,
   "id": "e4b9ae23-3edb-41a4-97aa-80cc7db6d393",
   "metadata": {
    "execution": {
     "iopub.execute_input": "2022-12-15T17:45:26.751895Z",
     "iopub.status.busy": "2022-12-15T17:45:26.751779Z",
     "iopub.status.idle": "2022-12-15T17:45:26.764077Z",
     "shell.execute_reply": "2022-12-15T17:45:26.763630Z"
    },
    "papermill": {
     "duration": 0.033849,
     "end_time": "2022-12-15T17:45:26.765245",
     "exception": false,
     "start_time": "2022-12-15T17:45:26.731396",
     "status": "completed"
    },
    "tags": []
   },
   "outputs": [
    {
     "data": {
      "text/plain": [
       "name              object\n",
       "id                object\n",
       "chr                 int8\n",
       "band              object\n",
       "start_position     int64\n",
       "end_position       int64\n",
       "gene_length        int64\n",
       "dtype: object"
      ]
     },
     "execution_count": 51,
     "metadata": {},
     "output_type": "execute_result"
    }
   ],
   "source": [
    "genes_info.dtypes"
   ]
  },
  {
   "cell_type": "code",
   "execution_count": 52,
   "id": "09d6320a-b1c4-4200-a23e-184bc4be69c7",
   "metadata": {
    "execution": {
     "iopub.execute_input": "2022-12-15T17:45:26.802235Z",
     "iopub.status.busy": "2022-12-15T17:45:26.801988Z",
     "iopub.status.idle": "2022-12-15T17:45:26.812053Z",
     "shell.execute_reply": "2022-12-15T17:45:26.811601Z"
    },
    "papermill": {
     "duration": 0.028887,
     "end_time": "2022-12-15T17:45:26.813255",
     "exception": false,
     "start_time": "2022-12-15T17:45:26.784368",
     "status": "completed"
    },
    "tags": []
   },
   "outputs": [],
   "source": [
    "assert genes_info[\"name\"].is_unique"
   ]
  },
  {
   "cell_type": "code",
   "execution_count": 53,
   "id": "009d11e4-f8cb-4a81-823d-c7f10b906d3b",
   "metadata": {
    "execution": {
     "iopub.execute_input": "2022-12-15T17:45:26.865281Z",
     "iopub.status.busy": "2022-12-15T17:45:26.865169Z",
     "iopub.status.idle": "2022-12-15T17:45:26.882519Z",
     "shell.execute_reply": "2022-12-15T17:45:26.881886Z"
    },
    "papermill": {
     "duration": 0.030642,
     "end_time": "2022-12-15T17:45:26.883613",
     "exception": false,
     "start_time": "2022-12-15T17:45:26.852971",
     "status": "completed"
    },
    "tags": []
   },
   "outputs": [],
   "source": [
    "assert genes_info[\"id\"].is_unique"
   ]
  },
  {
   "cell_type": "code",
   "execution_count": 54,
   "id": "e23519b8",
   "metadata": {
    "execution": {
     "iopub.execute_input": "2022-12-15T17:45:26.906969Z",
     "iopub.status.busy": "2022-12-15T17:45:26.906768Z",
     "iopub.status.idle": "2022-12-15T17:45:26.923960Z",
     "shell.execute_reply": "2022-12-15T17:45:26.923392Z"
    },
    "papermill": {
     "duration": 0.02996,
     "end_time": "2022-12-15T17:45:26.924808",
     "exception": false,
     "start_time": "2022-12-15T17:45:26.894848",
     "status": "completed"
    },
    "tags": []
   },
   "outputs": [
    {
     "data": {
      "text/plain": [
       "(6442, 7)"
      ]
     },
     "execution_count": 54,
     "metadata": {},
     "output_type": "execute_result"
    }
   ],
   "source": [
    "genes_info.shape"
   ]
  },
  {
   "cell_type": "code",
   "execution_count": 55,
   "id": "0d71881c",
   "metadata": {
    "execution": {
     "iopub.execute_input": "2022-12-15T17:45:26.948657Z",
     "iopub.status.busy": "2022-12-15T17:45:26.948160Z",
     "iopub.status.idle": "2022-12-15T17:45:26.968824Z",
     "shell.execute_reply": "2022-12-15T17:45:26.968225Z"
    },
    "papermill": {
     "duration": 0.033662,
     "end_time": "2022-12-15T17:45:26.969779",
     "exception": false,
     "start_time": "2022-12-15T17:45:26.936117",
     "status": "completed"
    },
    "tags": []
   },
   "outputs": [
    {
     "data": {
      "text/html": [
       "<div>\n",
       "<style scoped>\n",
       "    .dataframe tbody tr th:only-of-type {\n",
       "        vertical-align: middle;\n",
       "    }\n",
       "\n",
       "    .dataframe tbody tr th {\n",
       "        vertical-align: top;\n",
       "    }\n",
       "\n",
       "    .dataframe thead th {\n",
       "        text-align: right;\n",
       "    }\n",
       "</style>\n",
       "<table border=\"1\" class=\"dataframe\">\n",
       "  <thead>\n",
       "    <tr style=\"text-align: right;\">\n",
       "      <th></th>\n",
       "      <th>name</th>\n",
       "      <th>id</th>\n",
       "      <th>chr</th>\n",
       "      <th>band</th>\n",
       "      <th>start_position</th>\n",
       "      <th>end_position</th>\n",
       "      <th>gene_length</th>\n",
       "    </tr>\n",
       "  </thead>\n",
       "  <tbody>\n",
       "    <tr>\n",
       "      <th>0</th>\n",
       "      <td>SLC38A1</td>\n",
       "      <td>ENSG00000111371</td>\n",
       "      <td>12</td>\n",
       "      <td>12q13.11</td>\n",
       "      <td>46183063</td>\n",
       "      <td>46270017</td>\n",
       "      <td>86954</td>\n",
       "    </tr>\n",
       "    <tr>\n",
       "      <th>1</th>\n",
       "      <td>SEC61A1</td>\n",
       "      <td>ENSG00000058262</td>\n",
       "      <td>3</td>\n",
       "      <td>3q21.3</td>\n",
       "      <td>128051641</td>\n",
       "      <td>128071683</td>\n",
       "      <td>20042</td>\n",
       "    </tr>\n",
       "    <tr>\n",
       "      <th>2</th>\n",
       "      <td>SYDE1</td>\n",
       "      <td>ENSG00000105137</td>\n",
       "      <td>19</td>\n",
       "      <td>19p13.12</td>\n",
       "      <td>15107401</td>\n",
       "      <td>15114985</td>\n",
       "      <td>7584</td>\n",
       "    </tr>\n",
       "    <tr>\n",
       "      <th>3</th>\n",
       "      <td>GEM</td>\n",
       "      <td>ENSG00000164949</td>\n",
       "      <td>8</td>\n",
       "      <td>8q22.1</td>\n",
       "      <td>94249253</td>\n",
       "      <td>94262350</td>\n",
       "      <td>13097</td>\n",
       "    </tr>\n",
       "    <tr>\n",
       "      <th>4</th>\n",
       "      <td>PTGS2</td>\n",
       "      <td>ENSG00000073756</td>\n",
       "      <td>1</td>\n",
       "      <td>1q31.1</td>\n",
       "      <td>186671791</td>\n",
       "      <td>186680423</td>\n",
       "      <td>8632</td>\n",
       "    </tr>\n",
       "  </tbody>\n",
       "</table>\n",
       "</div>"
      ],
      "text/plain": [
       "      name               id  chr      band  start_position  end_position  \\\n",
       "0  SLC38A1  ENSG00000111371   12  12q13.11        46183063      46270017   \n",
       "1  SEC61A1  ENSG00000058262    3    3q21.3       128051641     128071683   \n",
       "2    SYDE1  ENSG00000105137   19  19p13.12        15107401      15114985   \n",
       "3      GEM  ENSG00000164949    8    8q22.1        94249253      94262350   \n",
       "4    PTGS2  ENSG00000073756    1    1q31.1       186671791     186680423   \n",
       "\n",
       "   gene_length  \n",
       "0        86954  \n",
       "1        20042  \n",
       "2         7584  \n",
       "3        13097  \n",
       "4         8632  "
      ]
     },
     "execution_count": 55,
     "metadata": {},
     "output_type": "execute_result"
    }
   ],
   "source": [
    "genes_info.head()"
   ]
  },
  {
   "cell_type": "code",
   "execution_count": 56,
   "id": "eb968287-d9cf-40f6-a93e-6b322b844404",
   "metadata": {
    "execution": {
     "iopub.execute_input": "2022-12-15T17:45:26.993578Z",
     "iopub.status.busy": "2022-12-15T17:45:26.993374Z",
     "iopub.status.idle": "2022-12-15T17:45:27.017923Z",
     "shell.execute_reply": "2022-12-15T17:45:27.017276Z"
    },
    "papermill": {
     "duration": 0.0376,
     "end_time": "2022-12-15T17:45:27.018857",
     "exception": false,
     "start_time": "2022-12-15T17:45:26.981257",
     "status": "completed"
    },
    "tags": []
   },
   "outputs": [
    {
     "data": {
      "text/html": [
       "<div>\n",
       "<style scoped>\n",
       "    .dataframe tbody tr th:only-of-type {\n",
       "        vertical-align: middle;\n",
       "    }\n",
       "\n",
       "    .dataframe tbody tr th {\n",
       "        vertical-align: top;\n",
       "    }\n",
       "\n",
       "    .dataframe thead th {\n",
       "        text-align: right;\n",
       "    }\n",
       "</style>\n",
       "<table border=\"1\" class=\"dataframe\">\n",
       "  <thead>\n",
       "    <tr style=\"text-align: right;\">\n",
       "      <th></th>\n",
       "      <th>name</th>\n",
       "      <th>id</th>\n",
       "      <th>chr</th>\n",
       "      <th>band</th>\n",
       "      <th>start_position</th>\n",
       "      <th>end_position</th>\n",
       "      <th>gene_length</th>\n",
       "    </tr>\n",
       "  </thead>\n",
       "  <tbody>\n",
       "    <tr>\n",
       "      <th>4972</th>\n",
       "      <td>SDCCAG8</td>\n",
       "      <td>ENSG00000054282</td>\n",
       "      <td>1</td>\n",
       "      <td>1q43</td>\n",
       "      <td>243256034</td>\n",
       "      <td>243500091</td>\n",
       "      <td>244057</td>\n",
       "    </tr>\n",
       "    <tr>\n",
       "      <th>5843</th>\n",
       "      <td>SLAMF1</td>\n",
       "      <td>ENSG00000117090</td>\n",
       "      <td>1</td>\n",
       "      <td>1q23.3</td>\n",
       "      <td>160608106</td>\n",
       "      <td>160647295</td>\n",
       "      <td>39189</td>\n",
       "    </tr>\n",
       "    <tr>\n",
       "      <th>532</th>\n",
       "      <td>KCNC4</td>\n",
       "      <td>ENSG00000116396</td>\n",
       "      <td>1</td>\n",
       "      <td>1p13.3</td>\n",
       "      <td>110211343</td>\n",
       "      <td>110283100</td>\n",
       "      <td>71757</td>\n",
       "    </tr>\n",
       "    <tr>\n",
       "      <th>4166</th>\n",
       "      <td>CDKN2C</td>\n",
       "      <td>ENSG00000123080</td>\n",
       "      <td>1</td>\n",
       "      <td>1p32.3</td>\n",
       "      <td>50960745</td>\n",
       "      <td>50974634</td>\n",
       "      <td>13889</td>\n",
       "    </tr>\n",
       "    <tr>\n",
       "      <th>3642</th>\n",
       "      <td>TNFRSF4</td>\n",
       "      <td>ENSG00000186827</td>\n",
       "      <td>1</td>\n",
       "      <td>1p36.33</td>\n",
       "      <td>1211340</td>\n",
       "      <td>1214153</td>\n",
       "      <td>2813</td>\n",
       "    </tr>\n",
       "    <tr>\n",
       "      <th>...</th>\n",
       "      <td>...</td>\n",
       "      <td>...</td>\n",
       "      <td>...</td>\n",
       "      <td>...</td>\n",
       "      <td>...</td>\n",
       "      <td>...</td>\n",
       "      <td>...</td>\n",
       "    </tr>\n",
       "    <tr>\n",
       "      <th>214</th>\n",
       "      <td>MN1</td>\n",
       "      <td>ENSG00000169184</td>\n",
       "      <td>22</td>\n",
       "      <td>22q12.1</td>\n",
       "      <td>27748277</td>\n",
       "      <td>27801756</td>\n",
       "      <td>53479</td>\n",
       "    </tr>\n",
       "    <tr>\n",
       "      <th>1333</th>\n",
       "      <td>SMARCB1</td>\n",
       "      <td>ENSG00000099956</td>\n",
       "      <td>22</td>\n",
       "      <td>22q11.23</td>\n",
       "      <td>23786931</td>\n",
       "      <td>23838008</td>\n",
       "      <td>51077</td>\n",
       "    </tr>\n",
       "    <tr>\n",
       "      <th>4260</th>\n",
       "      <td>CYP2D6</td>\n",
       "      <td>ENSG00000100197</td>\n",
       "      <td>22</td>\n",
       "      <td>22q13.2</td>\n",
       "      <td>42126499</td>\n",
       "      <td>42130881</td>\n",
       "      <td>4382</td>\n",
       "    </tr>\n",
       "    <tr>\n",
       "      <th>208</th>\n",
       "      <td>ATF4</td>\n",
       "      <td>ENSG00000128272</td>\n",
       "      <td>22</td>\n",
       "      <td>22q13.1</td>\n",
       "      <td>39519695</td>\n",
       "      <td>39522685</td>\n",
       "      <td>2990</td>\n",
       "    </tr>\n",
       "    <tr>\n",
       "      <th>6138</th>\n",
       "      <td>MAFF</td>\n",
       "      <td>ENSG00000185022</td>\n",
       "      <td>22</td>\n",
       "      <td>22q13.1</td>\n",
       "      <td>38200767</td>\n",
       "      <td>38216507</td>\n",
       "      <td>15740</td>\n",
       "    </tr>\n",
       "  </tbody>\n",
       "</table>\n",
       "<p>6442 rows × 7 columns</p>\n",
       "</div>"
      ],
      "text/plain": [
       "         name               id  chr      band  start_position  end_position  \\\n",
       "4972  SDCCAG8  ENSG00000054282    1      1q43       243256034     243500091   \n",
       "5843   SLAMF1  ENSG00000117090    1    1q23.3       160608106     160647295   \n",
       "532     KCNC4  ENSG00000116396    1    1p13.3       110211343     110283100   \n",
       "4166   CDKN2C  ENSG00000123080    1    1p32.3        50960745      50974634   \n",
       "3642  TNFRSF4  ENSG00000186827    1   1p36.33         1211340       1214153   \n",
       "...       ...              ...  ...       ...             ...           ...   \n",
       "214       MN1  ENSG00000169184   22   22q12.1        27748277      27801756   \n",
       "1333  SMARCB1  ENSG00000099956   22  22q11.23        23786931      23838008   \n",
       "4260   CYP2D6  ENSG00000100197   22   22q13.2        42126499      42130881   \n",
       "208      ATF4  ENSG00000128272   22   22q13.1        39519695      39522685   \n",
       "6138     MAFF  ENSG00000185022   22   22q13.1        38200767      38216507   \n",
       "\n",
       "      gene_length  \n",
       "4972       244057  \n",
       "5843        39189  \n",
       "532         71757  \n",
       "4166        13889  \n",
       "3642         2813  \n",
       "...           ...  \n",
       "214         53479  \n",
       "1333        51077  \n",
       "4260         4382  \n",
       "208          2990  \n",
       "6138        15740  \n",
       "\n",
       "[6442 rows x 7 columns]"
      ]
     },
     "execution_count": 56,
     "metadata": {},
     "output_type": "execute_result"
    }
   ],
   "source": [
    "genes_info.sort_values(\"chr\")"
   ]
  },
  {
   "cell_type": "markdown",
   "id": "7282b84d-f4f3-4e8c-9dd8-6319505ed4b5",
   "metadata": {
    "papermill": {
     "duration": 0.011453,
     "end_time": "2022-12-15T17:45:27.042225",
     "exception": false,
     "start_time": "2022-12-15T17:45:27.030772",
     "status": "completed"
    },
    "tags": []
   },
   "source": [
    "### Save"
   ]
  },
  {
   "cell_type": "code",
   "execution_count": 57,
   "id": "32cf6566-03bb-4a85-81e1-da46fc9f37ad",
   "metadata": {
    "execution": {
     "iopub.execute_input": "2022-12-15T17:45:27.066512Z",
     "iopub.status.busy": "2022-12-15T17:45:27.066307Z",
     "iopub.status.idle": "2022-12-15T17:45:27.085664Z",
     "shell.execute_reply": "2022-12-15T17:45:27.085055Z"
    },
    "papermill": {
     "duration": 0.032669,
     "end_time": "2022-12-15T17:45:27.086609",
     "exception": false,
     "start_time": "2022-12-15T17:45:27.053940",
     "status": "completed"
    },
    "tags": []
   },
   "outputs": [],
   "source": [
    "genes_info.to_pickle(OUTPUT_DIR_BASE / \"genes_info.pkl\")"
   ]
  },
  {
   "cell_type": "markdown",
   "id": "5b9f384a-5a91-4a8d-9007-cfe43f2d86f8",
   "metadata": {
    "papermill": {
     "duration": 0.011727,
     "end_time": "2022-12-15T17:45:27.110273",
     "exception": false,
     "start_time": "2022-12-15T17:45:27.098546",
     "status": "completed"
    },
    "tags": []
   },
   "source": [
    "## S-PrediXcan results"
   ]
  },
  {
   "cell_type": "markdown",
   "id": "fc0a2a4c-960c-4a0a-9b23-b66c3d5d6e07",
   "metadata": {
    "papermill": {
     "duration": 0.011622,
     "end_time": "2022-12-15T17:45:27.133650",
     "exception": false,
     "start_time": "2022-12-15T17:45:27.122028",
     "status": "completed"
    },
    "tags": []
   },
   "source": [
    "### Load results across all tissues"
   ]
  },
  {
   "cell_type": "code",
   "execution_count": 58,
   "id": "0b4867d7-a608-4b08-9d77-1782be3a0c94",
   "metadata": {
    "execution": {
     "iopub.execute_input": "2022-12-15T17:45:27.157929Z",
     "iopub.status.busy": "2022-12-15T17:45:27.157722Z",
     "iopub.status.idle": "2022-12-15T17:45:27.174713Z",
     "shell.execute_reply": "2022-12-15T17:45:27.174132Z"
    },
    "papermill": {
     "duration": 0.030225,
     "end_time": "2022-12-15T17:45:27.175567",
     "exception": false,
     "start_time": "2022-12-15T17:45:27.145342",
     "status": "completed"
    },
    "tags": []
   },
   "outputs": [],
   "source": [
    "spredixcan_result_files = {\n",
    "    t: SPREDIXCAN_FOLDER / SPREDIXCAN_FILE_PATTERN.format(tissue=t)\n",
    "    for t in prediction_model_tissues\n",
    "}"
   ]
  },
  {
   "cell_type": "code",
   "execution_count": 59,
   "id": "0ce270dd-46ac-4eaa-9d86-2b201d67d82f",
   "metadata": {
    "execution": {
     "iopub.execute_input": "2022-12-15T17:45:27.199893Z",
     "iopub.status.busy": "2022-12-15T17:45:27.199693Z",
     "iopub.status.idle": "2022-12-15T17:45:27.216841Z",
     "shell.execute_reply": "2022-12-15T17:45:27.216270Z"
    },
    "papermill": {
     "duration": 0.030413,
     "end_time": "2022-12-15T17:45:27.217792",
     "exception": false,
     "start_time": "2022-12-15T17:45:27.187379",
     "status": "completed"
    },
    "tags": []
   },
   "outputs": [
    {
     "data": {
      "text/plain": [
       "[PosixPath('/opt/data/projects/asthma-copd/results/twas/spredixcan/GWAS_ACO_GLM_SNPs_info0.7-gtex_v8-mashr-Thyroid.csv'),\n",
       " PosixPath('/opt/data/projects/asthma-copd/results/twas/spredixcan/GWAS_ACO_GLM_SNPs_info0.7-gtex_v8-mashr-Artery_Aorta.csv'),\n",
       " PosixPath('/opt/data/projects/asthma-copd/results/twas/spredixcan/GWAS_ACO_GLM_SNPs_info0.7-gtex_v8-mashr-Heart_Atrial_Appendage.csv'),\n",
       " PosixPath('/opt/data/projects/asthma-copd/results/twas/spredixcan/GWAS_ACO_GLM_SNPs_info0.7-gtex_v8-mashr-Liver.csv'),\n",
       " PosixPath('/opt/data/projects/asthma-copd/results/twas/spredixcan/GWAS_ACO_GLM_SNPs_info0.7-gtex_v8-mashr-Heart_Left_Ventricle.csv')]"
      ]
     },
     "metadata": {},
     "output_type": "display_data"
    }
   ],
   "source": [
    "assert len(spredixcan_result_files) == len(prediction_model_tissues)\n",
    "display(list(spredixcan_result_files.values())[:5])"
   ]
  },
  {
   "cell_type": "code",
   "execution_count": 60,
   "id": "aa140259-303e-4912-b2bf-e7adce662f88",
   "metadata": {
    "execution": {
     "iopub.execute_input": "2022-12-15T17:45:27.242035Z",
     "iopub.status.busy": "2022-12-15T17:45:27.241833Z",
     "iopub.status.idle": "2022-12-15T17:45:27.292882Z",
     "shell.execute_reply": "2022-12-15T17:45:27.292251Z"
    },
    "papermill": {
     "duration": 0.06426,
     "end_time": "2022-12-15T17:45:27.294019",
     "exception": false,
     "start_time": "2022-12-15T17:45:27.229759",
     "status": "completed"
    },
    "tags": []
   },
   "outputs": [
    {
     "data": {
      "text/html": [
       "<div>\n",
       "<style scoped>\n",
       "    .dataframe tbody tr th:only-of-type {\n",
       "        vertical-align: middle;\n",
       "    }\n",
       "\n",
       "    .dataframe tbody tr th {\n",
       "        vertical-align: top;\n",
       "    }\n",
       "\n",
       "    .dataframe thead th {\n",
       "        text-align: right;\n",
       "    }\n",
       "</style>\n",
       "<table border=\"1\" class=\"dataframe\">\n",
       "  <thead>\n",
       "    <tr style=\"text-align: right;\">\n",
       "      <th></th>\n",
       "      <th>gene</th>\n",
       "      <th>gene_name</th>\n",
       "      <th>zscore</th>\n",
       "      <th>effect_size</th>\n",
       "      <th>pvalue</th>\n",
       "      <th>var_g</th>\n",
       "      <th>pred_perf_r2</th>\n",
       "      <th>pred_perf_pval</th>\n",
       "      <th>pred_perf_qval</th>\n",
       "      <th>n_snps_used</th>\n",
       "      <th>n_snps_in_cov</th>\n",
       "      <th>n_snps_in_model</th>\n",
       "      <th>best_gwas_p</th>\n",
       "      <th>largest_weight</th>\n",
       "    </tr>\n",
       "  </thead>\n",
       "  <tbody>\n",
       "    <tr>\n",
       "      <th>0</th>\n",
       "      <td>ENSG00000179344.16</td>\n",
       "      <td>HLA-DQB1</td>\n",
       "      <td>-11.510273</td>\n",
       "      <td>NaN</td>\n",
       "      <td>1.171072e-30</td>\n",
       "      <td>0.283759</td>\n",
       "      <td>NaN</td>\n",
       "      <td>NaN</td>\n",
       "      <td>NaN</td>\n",
       "      <td>3</td>\n",
       "      <td>3</td>\n",
       "      <td>3</td>\n",
       "      <td>9.769960e-28</td>\n",
       "      <td>0.772332</td>\n",
       "    </tr>\n",
       "    <tr>\n",
       "      <th>1</th>\n",
       "      <td>ENSG00000232629.8</td>\n",
       "      <td>HLA-DQB2</td>\n",
       "      <td>10.404492</td>\n",
       "      <td>NaN</td>\n",
       "      <td>2.365140e-25</td>\n",
       "      <td>1.363601</td>\n",
       "      <td>NaN</td>\n",
       "      <td>NaN</td>\n",
       "      <td>NaN</td>\n",
       "      <td>2</td>\n",
       "      <td>3</td>\n",
       "      <td>3</td>\n",
       "      <td>3.571353e-25</td>\n",
       "      <td>0.972033</td>\n",
       "    </tr>\n",
       "    <tr>\n",
       "      <th>2</th>\n",
       "      <td>ENSG00000237541.3</td>\n",
       "      <td>HLA-DQA2</td>\n",
       "      <td>7.419567</td>\n",
       "      <td>NaN</td>\n",
       "      <td>1.175039e-13</td>\n",
       "      <td>0.118803</td>\n",
       "      <td>NaN</td>\n",
       "      <td>NaN</td>\n",
       "      <td>NaN</td>\n",
       "      <td>2</td>\n",
       "      <td>4</td>\n",
       "      <td>4</td>\n",
       "      <td>7.045886e-16</td>\n",
       "      <td>0.486574</td>\n",
       "    </tr>\n",
       "    <tr>\n",
       "      <th>3</th>\n",
       "      <td>ENSG00000172057.9</td>\n",
       "      <td>ORMDL3</td>\n",
       "      <td>7.301199</td>\n",
       "      <td>NaN</td>\n",
       "      <td>2.852135e-13</td>\n",
       "      <td>0.137414</td>\n",
       "      <td>NaN</td>\n",
       "      <td>NaN</td>\n",
       "      <td>NaN</td>\n",
       "      <td>2</td>\n",
       "      <td>2</td>\n",
       "      <td>2</td>\n",
       "      <td>7.949287e-15</td>\n",
       "      <td>0.397752</td>\n",
       "    </tr>\n",
       "    <tr>\n",
       "      <th>4</th>\n",
       "      <td>ENSG00000224389.8</td>\n",
       "      <td>C4B</td>\n",
       "      <td>7.229532</td>\n",
       "      <td>NaN</td>\n",
       "      <td>4.846619e-13</td>\n",
       "      <td>0.198075</td>\n",
       "      <td>NaN</td>\n",
       "      <td>NaN</td>\n",
       "      <td>NaN</td>\n",
       "      <td>2</td>\n",
       "      <td>2</td>\n",
       "      <td>2</td>\n",
       "      <td>6.175598e-12</td>\n",
       "      <td>1.101481</td>\n",
       "    </tr>\n",
       "  </tbody>\n",
       "</table>\n",
       "</div>"
      ],
      "text/plain": [
       "                 gene gene_name     zscore  effect_size        pvalue  \\\n",
       "0  ENSG00000179344.16  HLA-DQB1 -11.510273          NaN  1.171072e-30   \n",
       "1   ENSG00000232629.8  HLA-DQB2  10.404492          NaN  2.365140e-25   \n",
       "2   ENSG00000237541.3  HLA-DQA2   7.419567          NaN  1.175039e-13   \n",
       "3   ENSG00000172057.9    ORMDL3   7.301199          NaN  2.852135e-13   \n",
       "4   ENSG00000224389.8       C4B   7.229532          NaN  4.846619e-13   \n",
       "\n",
       "      var_g  pred_perf_r2  pred_perf_pval  pred_perf_qval  n_snps_used  \\\n",
       "0  0.283759           NaN             NaN             NaN            3   \n",
       "1  1.363601           NaN             NaN             NaN            2   \n",
       "2  0.118803           NaN             NaN             NaN            2   \n",
       "3  0.137414           NaN             NaN             NaN            2   \n",
       "4  0.198075           NaN             NaN             NaN            2   \n",
       "\n",
       "   n_snps_in_cov  n_snps_in_model   best_gwas_p  largest_weight  \n",
       "0              3                3  9.769960e-28        0.772332  \n",
       "1              3                3  3.571353e-25        0.972033  \n",
       "2              4                4  7.045886e-16        0.486574  \n",
       "3              2                2  7.949287e-15        0.397752  \n",
       "4              2                2  6.175598e-12        1.101481  "
      ]
     },
     "execution_count": 60,
     "metadata": {},
     "output_type": "execute_result"
    }
   ],
   "source": [
    "# look at the structure of one result\n",
    "pd.read_csv(spredixcan_result_files[\"Whole_Blood\"]).head()"
   ]
  },
  {
   "cell_type": "code",
   "execution_count": 61,
   "id": "4381b9ff-6ab5-47f1-89d1-560f88fdf07f",
   "metadata": {
    "execution": {
     "iopub.execute_input": "2022-12-15T17:45:27.319926Z",
     "iopub.status.busy": "2022-12-15T17:45:27.319423Z",
     "iopub.status.idle": "2022-12-15T17:45:27.336985Z",
     "shell.execute_reply": "2022-12-15T17:45:27.336400Z"
    },
    "papermill": {
     "duration": 0.031231,
     "end_time": "2022-12-15T17:45:27.337938",
     "exception": false,
     "start_time": "2022-12-15T17:45:27.306707",
     "status": "completed"
    },
    "tags": []
   },
   "outputs": [],
   "source": [
    "assert all(f.exists() for f in spredixcan_result_files.values())"
   ]
  },
  {
   "cell_type": "code",
   "execution_count": 62,
   "id": "d477157f-51e9-4c7c-b826-7ab5f4fdf3e3",
   "metadata": {
    "execution": {
     "iopub.execute_input": "2022-12-15T17:45:27.371313Z",
     "iopub.status.busy": "2022-12-15T17:45:27.370852Z",
     "iopub.status.idle": "2022-12-15T17:45:28.037067Z",
     "shell.execute_reply": "2022-12-15T17:45:28.036536Z"
    },
    "papermill": {
     "duration": 0.688307,
     "end_time": "2022-12-15T17:45:28.038228",
     "exception": false,
     "start_time": "2022-12-15T17:45:27.349921",
     "status": "completed"
    },
    "tags": []
   },
   "outputs": [],
   "source": [
    "spredixcan_dfs = [\n",
    "    pd.read_csv(\n",
    "        f,\n",
    "        usecols=[\n",
    "            \"gene\",\n",
    "            \"zscore\",\n",
    "            \"pvalue\",\n",
    "            \"n_snps_used\",\n",
    "            \"n_snps_in_model\",\n",
    "        ],\n",
    "    )\n",
    "    .dropna(subset=[\"gene\", \"zscore\", \"pvalue\"])\n",
    "    .assign(tissue=t)\n",
    "    for t, f in spredixcan_result_files.items()\n",
    "]"
   ]
  },
  {
   "cell_type": "code",
   "execution_count": 63,
   "id": "9730bd37-b769-411f-bb6b-bb658d1ff88c",
   "metadata": {
    "execution": {
     "iopub.execute_input": "2022-12-15T17:45:28.073084Z",
     "iopub.status.busy": "2022-12-15T17:45:28.072960Z",
     "iopub.status.idle": "2022-12-15T17:45:28.083447Z",
     "shell.execute_reply": "2022-12-15T17:45:28.082953Z"
    },
    "papermill": {
     "duration": 0.033911,
     "end_time": "2022-12-15T17:45:28.084569",
     "exception": false,
     "start_time": "2022-12-15T17:45:28.050658",
     "status": "completed"
    },
    "tags": []
   },
   "outputs": [],
   "source": [
    "assert len(spredixcan_dfs) == len(prediction_model_tissues)"
   ]
  },
  {
   "cell_type": "code",
   "execution_count": 64,
   "id": "bcd73f53-1283-4ff6-bbb5-25fb71f5cb72",
   "metadata": {
    "execution": {
     "iopub.execute_input": "2022-12-15T17:45:28.124805Z",
     "iopub.status.busy": "2022-12-15T17:45:28.124676Z",
     "iopub.status.idle": "2022-12-15T17:45:28.162770Z",
     "shell.execute_reply": "2022-12-15T17:45:28.162075Z"
    },
    "papermill": {
     "duration": 0.05955,
     "end_time": "2022-12-15T17:45:28.163709",
     "exception": false,
     "start_time": "2022-12-15T17:45:28.104159",
     "status": "completed"
    },
    "tags": []
   },
   "outputs": [],
   "source": [
    "spredixcan_dfs = pd.concat(spredixcan_dfs)"
   ]
  },
  {
   "cell_type": "code",
   "execution_count": 65,
   "id": "ae99c7b5-14fc-4b39-a6b2-40fc703acd0a",
   "metadata": {
    "execution": {
     "iopub.execute_input": "2022-12-15T17:45:28.197921Z",
     "iopub.status.busy": "2022-12-15T17:45:28.197514Z",
     "iopub.status.idle": "2022-12-15T17:45:28.254467Z",
     "shell.execute_reply": "2022-12-15T17:45:28.253828Z"
    },
    "papermill": {
     "duration": 0.076429,
     "end_time": "2022-12-15T17:45:28.255521",
     "exception": false,
     "start_time": "2022-12-15T17:45:28.179092",
     "status": "completed"
    },
    "tags": []
   },
   "outputs": [],
   "source": [
    "assert spredixcan_dfs[\"tissue\"].unique().shape[0] == len(prediction_model_tissues)"
   ]
  },
  {
   "cell_type": "code",
   "execution_count": 66,
   "id": "b7223a23-e40f-4cd3-8988-72033f8739bd",
   "metadata": {
    "execution": {
     "iopub.execute_input": "2022-12-15T17:45:28.285752Z",
     "iopub.status.busy": "2022-12-15T17:45:28.285547Z",
     "iopub.status.idle": "2022-12-15T17:45:28.302596Z",
     "shell.execute_reply": "2022-12-15T17:45:28.302026Z"
    },
    "papermill": {
     "duration": 0.035856,
     "end_time": "2022-12-15T17:45:28.303509",
     "exception": false,
     "start_time": "2022-12-15T17:45:28.267653",
     "status": "completed"
    },
    "tags": []
   },
   "outputs": [
    {
     "data": {
      "text/plain": [
       "(657966, 6)"
      ]
     },
     "execution_count": 66,
     "metadata": {},
     "output_type": "execute_result"
    }
   ],
   "source": [
    "spredixcan_dfs.shape"
   ]
  },
  {
   "cell_type": "code",
   "execution_count": 67,
   "id": "4987073a-3b70-4162-93fb-beeb351ebfe0",
   "metadata": {
    "execution": {
     "iopub.execute_input": "2022-12-15T17:45:28.328565Z",
     "iopub.status.busy": "2022-12-15T17:45:28.328364Z",
     "iopub.status.idle": "2022-12-15T17:45:28.526111Z",
     "shell.execute_reply": "2022-12-15T17:45:28.525551Z"
    },
    "papermill": {
     "duration": 0.211473,
     "end_time": "2022-12-15T17:45:28.527010",
     "exception": false,
     "start_time": "2022-12-15T17:45:28.315537",
     "status": "completed"
    },
    "tags": []
   },
   "outputs": [],
   "source": [
    "spredixcan_dfs = spredixcan_dfs.assign(\n",
    "    gene_id=spredixcan_dfs[\"gene\"].apply(lambda g: g.split(\".\")[0])\n",
    ")"
   ]
  },
  {
   "cell_type": "code",
   "execution_count": 68,
   "id": "6b47d026-01c0-4f7c-a90e-f0baa13235f4",
   "metadata": {
    "execution": {
     "iopub.execute_input": "2022-12-15T17:45:28.551537Z",
     "iopub.status.busy": "2022-12-15T17:45:28.551406Z",
     "iopub.status.idle": "2022-12-15T17:45:28.565291Z",
     "shell.execute_reply": "2022-12-15T17:45:28.564796Z"
    },
    "papermill": {
     "duration": 0.027084,
     "end_time": "2022-12-15T17:45:28.566130",
     "exception": false,
     "start_time": "2022-12-15T17:45:28.539046",
     "status": "completed"
    },
    "tags": []
   },
   "outputs": [
    {
     "data": {
      "text/html": [
       "<div>\n",
       "<style scoped>\n",
       "    .dataframe tbody tr th:only-of-type {\n",
       "        vertical-align: middle;\n",
       "    }\n",
       "\n",
       "    .dataframe tbody tr th {\n",
       "        vertical-align: top;\n",
       "    }\n",
       "\n",
       "    .dataframe thead th {\n",
       "        text-align: right;\n",
       "    }\n",
       "</style>\n",
       "<table border=\"1\" class=\"dataframe\">\n",
       "  <thead>\n",
       "    <tr style=\"text-align: right;\">\n",
       "      <th></th>\n",
       "      <th>gene</th>\n",
       "      <th>zscore</th>\n",
       "      <th>pvalue</th>\n",
       "      <th>n_snps_used</th>\n",
       "      <th>n_snps_in_model</th>\n",
       "      <th>tissue</th>\n",
       "      <th>gene_id</th>\n",
       "    </tr>\n",
       "  </thead>\n",
       "  <tbody>\n",
       "    <tr>\n",
       "      <th>0</th>\n",
       "      <td>ENSG00000232629.8</td>\n",
       "      <td>10.755937</td>\n",
       "      <td>5.556662e-27</td>\n",
       "      <td>1</td>\n",
       "      <td>2</td>\n",
       "      <td>Thyroid</td>\n",
       "      <td>ENSG00000232629</td>\n",
       "    </tr>\n",
       "    <tr>\n",
       "      <th>1</th>\n",
       "      <td>ENSG00000196735.11</td>\n",
       "      <td>-10.752505</td>\n",
       "      <td>5.767350e-27</td>\n",
       "      <td>3</td>\n",
       "      <td>3</td>\n",
       "      <td>Thyroid</td>\n",
       "      <td>ENSG00000196735</td>\n",
       "    </tr>\n",
       "    <tr>\n",
       "      <th>2</th>\n",
       "      <td>ENSG00000179344.16</td>\n",
       "      <td>-9.808153</td>\n",
       "      <td>1.038516e-22</td>\n",
       "      <td>4</td>\n",
       "      <td>4</td>\n",
       "      <td>Thyroid</td>\n",
       "      <td>ENSG00000179344</td>\n",
       "    </tr>\n",
       "    <tr>\n",
       "      <th>3</th>\n",
       "      <td>ENSG00000237541.3</td>\n",
       "      <td>8.069721</td>\n",
       "      <td>7.045886e-16</td>\n",
       "      <td>1</td>\n",
       "      <td>3</td>\n",
       "      <td>Thyroid</td>\n",
       "      <td>ENSG00000237541</td>\n",
       "    </tr>\n",
       "    <tr>\n",
       "      <th>4</th>\n",
       "      <td>ENSG00000244731.7</td>\n",
       "      <td>-7.879190</td>\n",
       "      <td>3.295113e-15</td>\n",
       "      <td>2</td>\n",
       "      <td>2</td>\n",
       "      <td>Thyroid</td>\n",
       "      <td>ENSG00000244731</td>\n",
       "    </tr>\n",
       "  </tbody>\n",
       "</table>\n",
       "</div>"
      ],
      "text/plain": [
       "                 gene     zscore        pvalue  n_snps_used  n_snps_in_model  \\\n",
       "0   ENSG00000232629.8  10.755937  5.556662e-27            1                2   \n",
       "1  ENSG00000196735.11 -10.752505  5.767350e-27            3                3   \n",
       "2  ENSG00000179344.16  -9.808153  1.038516e-22            4                4   \n",
       "3   ENSG00000237541.3   8.069721  7.045886e-16            1                3   \n",
       "4   ENSG00000244731.7  -7.879190  3.295113e-15            2                2   \n",
       "\n",
       "    tissue          gene_id  \n",
       "0  Thyroid  ENSG00000232629  \n",
       "1  Thyroid  ENSG00000196735  \n",
       "2  Thyroid  ENSG00000179344  \n",
       "3  Thyroid  ENSG00000237541  \n",
       "4  Thyroid  ENSG00000244731  "
      ]
     },
     "execution_count": 68,
     "metadata": {},
     "output_type": "execute_result"
    }
   ],
   "source": [
    "spredixcan_dfs.head()"
   ]
  },
  {
   "cell_type": "code",
   "execution_count": 69,
   "id": "d5dbdb2e-b7eb-4665-9fd4-9ce714d6af0c",
   "metadata": {
    "execution": {
     "iopub.execute_input": "2022-12-15T17:45:28.596391Z",
     "iopub.status.busy": "2022-12-15T17:45:28.595971Z",
     "iopub.status.idle": "2022-12-15T17:45:28.712275Z",
     "shell.execute_reply": "2022-12-15T17:45:28.711718Z"
    },
    "papermill": {
     "duration": 0.129933,
     "end_time": "2022-12-15T17:45:28.713197",
     "exception": false,
     "start_time": "2022-12-15T17:45:28.583264",
     "status": "completed"
    },
    "tags": []
   },
   "outputs": [],
   "source": [
    "# leave only common genes\n",
    "spredixcan_dfs = spredixcan_dfs[spredixcan_dfs[\"gene_id\"].isin(set(genes_info[\"id\"]))]"
   ]
  },
  {
   "cell_type": "code",
   "execution_count": 70,
   "id": "8d34f99a-6b43-47aa-bb07-dfc67e169538",
   "metadata": {
    "execution": {
     "iopub.execute_input": "2022-12-15T17:45:28.738465Z",
     "iopub.status.busy": "2022-12-15T17:45:28.738351Z",
     "iopub.status.idle": "2022-12-15T17:45:28.749468Z",
     "shell.execute_reply": "2022-12-15T17:45:28.749024Z"
    },
    "papermill": {
     "duration": 0.02476,
     "end_time": "2022-12-15T17:45:28.750304",
     "exception": false,
     "start_time": "2022-12-15T17:45:28.725544",
     "status": "completed"
    },
    "tags": []
   },
   "outputs": [
    {
     "data": {
      "text/plain": [
       "(235325, 7)"
      ]
     },
     "execution_count": 70,
     "metadata": {},
     "output_type": "execute_result"
    }
   ],
   "source": [
    "spredixcan_dfs.shape"
   ]
  },
  {
   "cell_type": "markdown",
   "id": "5ecfd141-ecb8-47cf-905e-25cc1b4d3f9d",
   "metadata": {
    "papermill": {
     "duration": 0.020076,
     "end_time": "2022-12-15T17:45:28.789659",
     "exception": false,
     "start_time": "2022-12-15T17:45:28.769583",
     "status": "completed"
    },
    "tags": []
   },
   "source": [
    "### Count number of tissues available per gene"
   ]
  },
  {
   "cell_type": "code",
   "execution_count": 71,
   "id": "86fe37e1-a303-4221-a12e-3a54a04dd510",
   "metadata": {
    "execution": {
     "iopub.execute_input": "2022-12-15T17:45:28.817867Z",
     "iopub.status.busy": "2022-12-15T17:45:28.817456Z",
     "iopub.status.idle": "2022-12-15T17:45:28.901959Z",
     "shell.execute_reply": "2022-12-15T17:45:28.901418Z"
    },
    "papermill": {
     "duration": 0.098235,
     "end_time": "2022-12-15T17:45:28.902737",
     "exception": false,
     "start_time": "2022-12-15T17:45:28.804502",
     "status": "completed"
    },
    "tags": []
   },
   "outputs": [],
   "source": [
    "spredixcan_genes_n_models = spredixcan_dfs.groupby(\"gene_id\")[\"tissue\"].nunique()"
   ]
  },
  {
   "cell_type": "code",
   "execution_count": 72,
   "id": "31416d48-1e4d-463f-9a5c-34d29803c3f8",
   "metadata": {
    "execution": {
     "iopub.execute_input": "2022-12-15T17:45:28.928165Z",
     "iopub.status.busy": "2022-12-15T17:45:28.927948Z",
     "iopub.status.idle": "2022-12-15T17:45:28.940286Z",
     "shell.execute_reply": "2022-12-15T17:45:28.939829Z"
    },
    "papermill": {
     "duration": 0.026015,
     "end_time": "2022-12-15T17:45:28.941124",
     "exception": false,
     "start_time": "2022-12-15T17:45:28.915109",
     "status": "completed"
    },
    "tags": []
   },
   "outputs": [
    {
     "data": {
      "text/plain": [
       "gene_id\n",
       "ENSG00000000419     2\n",
       "ENSG00000000938    36\n",
       "ENSG00000000971    34\n",
       "ENSG00000001084    32\n",
       "ENSG00000001167    40\n",
       "                   ..\n",
       "ENSG00000278540    36\n",
       "ENSG00000278828     4\n",
       "ENSG00000278845    49\n",
       "ENSG00000281005    49\n",
       "ENSG00000282608    36\n",
       "Name: tissue, Length: 6442, dtype: int64"
      ]
     },
     "execution_count": 72,
     "metadata": {},
     "output_type": "execute_result"
    }
   ],
   "source": [
    "spredixcan_genes_n_models"
   ]
  },
  {
   "cell_type": "code",
   "execution_count": 73,
   "id": "d737ad4f-f821-4546-9a3e-6703fe264b49",
   "metadata": {
    "execution": {
     "iopub.execute_input": "2022-12-15T17:45:28.966670Z",
     "iopub.status.busy": "2022-12-15T17:45:28.966558Z",
     "iopub.status.idle": "2022-12-15T17:45:28.984116Z",
     "shell.execute_reply": "2022-12-15T17:45:28.983550Z"
    },
    "papermill": {
     "duration": 0.031121,
     "end_time": "2022-12-15T17:45:28.984896",
     "exception": false,
     "start_time": "2022-12-15T17:45:28.953775",
     "status": "completed"
    },
    "tags": []
   },
   "outputs": [],
   "source": [
    "# testing that in S-MultiXcan I get the same number of tissues per gene\n",
    "_tmp_smultixcan_results_n_models = (\n",
    "    smultixcan_results.set_index(\"gene_id\")[\"n\"].astype(int).rename(\"tissue\")\n",
    ")\n",
    "\n",
    "_cg = _tmp_smultixcan_results_n_models.index.intersection(\n",
    "    spredixcan_genes_n_models.index\n",
    ")\n",
    "_tmp_smultixcan_results_n_models = _tmp_smultixcan_results_n_models.loc[_cg]\n",
    "_spredixcan = spredixcan_genes_n_models.loc[_cg]\n",
    "\n",
    "assert _spredixcan.shape[0] == _tmp_smultixcan_results_n_models.shape[0]\n",
    "assert _spredixcan.equals(_tmp_smultixcan_results_n_models.loc[_spredixcan.index])"
   ]
  },
  {
   "cell_type": "markdown",
   "id": "904d7d30-9c2d-4c3e-b674-3f081954fe8b",
   "metadata": {
    "papermill": {
     "duration": 0.012438,
     "end_time": "2022-12-15T17:45:29.009656",
     "exception": false,
     "start_time": "2022-12-15T17:45:28.997218",
     "status": "completed"
    },
    "tags": []
   },
   "source": [
    "### Get tissues available per gene"
   ]
  },
  {
   "cell_type": "code",
   "execution_count": 74,
   "id": "cf014e81-4b4e-4c46-9265-67718b3ab08e",
   "metadata": {
    "execution": {
     "iopub.execute_input": "2022-12-15T17:45:29.035073Z",
     "iopub.status.busy": "2022-12-15T17:45:29.034936Z",
     "iopub.status.idle": "2022-12-15T17:45:29.159972Z",
     "shell.execute_reply": "2022-12-15T17:45:29.159427Z"
    },
    "papermill": {
     "duration": 0.139046,
     "end_time": "2022-12-15T17:45:29.161172",
     "exception": false,
     "start_time": "2022-12-15T17:45:29.022126",
     "status": "completed"
    },
    "tags": []
   },
   "outputs": [],
   "source": [
    "spredixcan_genes_models = spredixcan_dfs.groupby(\"gene_id\")[\"tissue\"].apply(\n",
    "    lambda x: frozenset(x.tolist())\n",
    ")"
   ]
  },
  {
   "cell_type": "code",
   "execution_count": 75,
   "id": "5df09d7f-39c9-408f-9fef-5189e8ca1c87",
   "metadata": {
    "execution": {
     "iopub.execute_input": "2022-12-15T17:45:29.187400Z",
     "iopub.status.busy": "2022-12-15T17:45:29.187279Z",
     "iopub.status.idle": "2022-12-15T17:45:29.201014Z",
     "shell.execute_reply": "2022-12-15T17:45:29.200550Z"
    },
    "papermill": {
     "duration": 0.027694,
     "end_time": "2022-12-15T17:45:29.201778",
     "exception": false,
     "start_time": "2022-12-15T17:45:29.174084",
     "status": "completed"
    },
    "tags": []
   },
   "outputs": [
    {
     "data": {
      "text/plain": [
       "gene_id\n",
       "ENSG00000000419         (Brain_Substantia_nigra, Brain_Hypothalamus)\n",
       "ENSG00000000938    (Heart_Left_Ventricle, Cells_EBV-transformed_l...\n",
       "ENSG00000000971    (Heart_Left_Ventricle, Pituitary, Skin_Sun_Exp...\n",
       "ENSG00000001084    (Heart_Left_Ventricle, Cells_EBV-transformed_l...\n",
       "ENSG00000001167    (Heart_Left_Ventricle, Skin_Sun_Exposed_Lower_...\n",
       "                                         ...                        \n",
       "ENSG00000278540    (Cells_EBV-transformed_lymphocytes, Pituitary,...\n",
       "ENSG00000278828    (Artery_Coronary, Cells_EBV-transformed_lympho...\n",
       "ENSG00000278845    (Heart_Left_Ventricle, Cells_EBV-transformed_l...\n",
       "ENSG00000281005    (Heart_Left_Ventricle, Cells_EBV-transformed_l...\n",
       "ENSG00000282608    (Heart_Left_Ventricle, Artery_Aorta, Brain_Nuc...\n",
       "Name: tissue, Length: 6442, dtype: object"
      ]
     },
     "execution_count": 75,
     "metadata": {},
     "output_type": "execute_result"
    }
   ],
   "source": [
    "spredixcan_genes_models"
   ]
  },
  {
   "cell_type": "code",
   "execution_count": 76,
   "id": "97c46886-5a48-4813-b890-1dcdb09ec09d",
   "metadata": {
    "execution": {
     "iopub.execute_input": "2022-12-15T17:45:29.227647Z",
     "iopub.status.busy": "2022-12-15T17:45:29.227518Z",
     "iopub.status.idle": "2022-12-15T17:45:29.237711Z",
     "shell.execute_reply": "2022-12-15T17:45:29.237267Z"
    },
    "papermill": {
     "duration": 0.024031,
     "end_time": "2022-12-15T17:45:29.238602",
     "exception": false,
     "start_time": "2022-12-15T17:45:29.214571",
     "status": "completed"
    },
    "tags": []
   },
   "outputs": [],
   "source": [
    "assert spredixcan_genes_n_models.shape[0] == spredixcan_genes_models.shape[0]"
   ]
  },
  {
   "cell_type": "code",
   "execution_count": 77,
   "id": "abc13913-a681-4297-a0e6-dde62f43c36f",
   "metadata": {
    "execution": {
     "iopub.execute_input": "2022-12-15T17:45:29.264685Z",
     "iopub.status.busy": "2022-12-15T17:45:29.264165Z",
     "iopub.status.idle": "2022-12-15T17:45:29.279958Z",
     "shell.execute_reply": "2022-12-15T17:45:29.279383Z"
    },
    "papermill": {
     "duration": 0.029606,
     "end_time": "2022-12-15T17:45:29.280927",
     "exception": false,
     "start_time": "2022-12-15T17:45:29.251321",
     "status": "completed"
    },
    "tags": []
   },
   "outputs": [],
   "source": [
    "assert spredixcan_genes_n_models.index.equals(spredixcan_genes_models.index)"
   ]
  },
  {
   "cell_type": "code",
   "execution_count": 78,
   "id": "995a02e7-b836-471b-b438-17c8c46e4fde",
   "metadata": {
    "execution": {
     "iopub.execute_input": "2022-12-15T17:45:29.307026Z",
     "iopub.status.busy": "2022-12-15T17:45:29.306616Z",
     "iopub.status.idle": "2022-12-15T17:45:29.324397Z",
     "shell.execute_reply": "2022-12-15T17:45:29.323805Z"
    },
    "papermill": {
     "duration": 0.031943,
     "end_time": "2022-12-15T17:45:29.325438",
     "exception": false,
     "start_time": "2022-12-15T17:45:29.293495",
     "status": "completed"
    },
    "tags": []
   },
   "outputs": [],
   "source": [
    "assert (spredixcan_genes_models.apply(len) <= len(prediction_model_tissues)).all()"
   ]
  },
  {
   "cell_type": "code",
   "execution_count": 79,
   "id": "0c1d0c68-1a06-480c-b6d6-d3c4fdf0f5aa",
   "metadata": {
    "execution": {
     "iopub.execute_input": "2022-12-15T17:45:29.351455Z",
     "iopub.status.busy": "2022-12-15T17:45:29.350935Z",
     "iopub.status.idle": "2022-12-15T17:45:29.372807Z",
     "shell.execute_reply": "2022-12-15T17:45:29.372201Z"
    },
    "papermill": {
     "duration": 0.035928,
     "end_time": "2022-12-15T17:45:29.373765",
     "exception": false,
     "start_time": "2022-12-15T17:45:29.337837",
     "status": "completed"
    },
    "tags": []
   },
   "outputs": [
    {
     "data": {
      "text/plain": [
       "count    6442.000000\n",
       "mean       36.529804\n",
       "std        12.893981\n",
       "min         1.000000\n",
       "25%        29.000000\n",
       "50%        42.000000\n",
       "75%        47.000000\n",
       "max        49.000000\n",
       "Name: tissue, dtype: float64"
      ]
     },
     "execution_count": 79,
     "metadata": {},
     "output_type": "execute_result"
    }
   ],
   "source": [
    "spredixcan_genes_models.apply(len).describe()"
   ]
  },
  {
   "cell_type": "code",
   "execution_count": 80,
   "id": "991b9441-6bb5-4b72-9285-5fd579875e40",
   "metadata": {
    "execution": {
     "iopub.execute_input": "2022-12-15T17:45:29.400199Z",
     "iopub.status.busy": "2022-12-15T17:45:29.399788Z",
     "iopub.status.idle": "2022-12-15T17:45:29.420254Z",
     "shell.execute_reply": "2022-12-15T17:45:29.419656Z"
    },
    "papermill": {
     "duration": 0.034873,
     "end_time": "2022-12-15T17:45:29.421291",
     "exception": false,
     "start_time": "2022-12-15T17:45:29.386418",
     "status": "completed"
    },
    "tags": []
   },
   "outputs": [],
   "source": [
    "# testing that I obtained the right number of tissues\n",
    "assert (\n",
    "    spredixcan_genes_models.loc[spredixcan_genes_n_models.index]\n",
    "    .apply(len)\n",
    "    .equals(spredixcan_genes_n_models)\n",
    ")"
   ]
  },
  {
   "cell_type": "markdown",
   "id": "3042b22d-9d88-4e21-b112-ab23cf8d24ea",
   "metadata": {
    "papermill": {
     "duration": 0.012746,
     "end_time": "2022-12-15T17:45:29.446944",
     "exception": false,
     "start_time": "2022-12-15T17:45:29.434198",
     "status": "completed"
    },
    "tags": []
   },
   "source": [
    "### Add gene name and set index"
   ]
  },
  {
   "cell_type": "code",
   "execution_count": 81,
   "id": "3b7b0e76-7aca-44bf-beff-5f1c1b6193ee",
   "metadata": {
    "execution": {
     "iopub.execute_input": "2022-12-15T17:45:29.473259Z",
     "iopub.status.busy": "2022-12-15T17:45:29.472772Z",
     "iopub.status.idle": "2022-12-15T17:45:29.489659Z",
     "shell.execute_reply": "2022-12-15T17:45:29.489079Z"
    },
    "papermill": {
     "duration": 0.031134,
     "end_time": "2022-12-15T17:45:29.490628",
     "exception": false,
     "start_time": "2022-12-15T17:45:29.459494",
     "status": "completed"
    },
    "tags": []
   },
   "outputs": [],
   "source": [
    "spredixcan_genes_models = spredixcan_genes_models.to_frame().reset_index()"
   ]
  },
  {
   "cell_type": "code",
   "execution_count": 82,
   "id": "ffab4b61-c2d4-4bcc-a147-23a4bf30f715",
   "metadata": {
    "execution": {
     "iopub.execute_input": "2022-12-15T17:45:29.517322Z",
     "iopub.status.busy": "2022-12-15T17:45:29.516846Z",
     "iopub.status.idle": "2022-12-15T17:45:29.538281Z",
     "shell.execute_reply": "2022-12-15T17:45:29.537700Z"
    },
    "papermill": {
     "duration": 0.035841,
     "end_time": "2022-12-15T17:45:29.539276",
     "exception": false,
     "start_time": "2022-12-15T17:45:29.503435",
     "status": "completed"
    },
    "tags": []
   },
   "outputs": [
    {
     "data": {
      "text/html": [
       "<div>\n",
       "<style scoped>\n",
       "    .dataframe tbody tr th:only-of-type {\n",
       "        vertical-align: middle;\n",
       "    }\n",
       "\n",
       "    .dataframe tbody tr th {\n",
       "        vertical-align: top;\n",
       "    }\n",
       "\n",
       "    .dataframe thead th {\n",
       "        text-align: right;\n",
       "    }\n",
       "</style>\n",
       "<table border=\"1\" class=\"dataframe\">\n",
       "  <thead>\n",
       "    <tr style=\"text-align: right;\">\n",
       "      <th></th>\n",
       "      <th>gene_id</th>\n",
       "      <th>tissue</th>\n",
       "    </tr>\n",
       "  </thead>\n",
       "  <tbody>\n",
       "    <tr>\n",
       "      <th>0</th>\n",
       "      <td>ENSG00000000419</td>\n",
       "      <td>(Brain_Substantia_nigra, Brain_Hypothalamus)</td>\n",
       "    </tr>\n",
       "    <tr>\n",
       "      <th>1</th>\n",
       "      <td>ENSG00000000938</td>\n",
       "      <td>(Heart_Left_Ventricle, Cells_EBV-transformed_l...</td>\n",
       "    </tr>\n",
       "    <tr>\n",
       "      <th>2</th>\n",
       "      <td>ENSG00000000971</td>\n",
       "      <td>(Heart_Left_Ventricle, Pituitary, Skin_Sun_Exp...</td>\n",
       "    </tr>\n",
       "    <tr>\n",
       "      <th>3</th>\n",
       "      <td>ENSG00000001084</td>\n",
       "      <td>(Heart_Left_Ventricle, Cells_EBV-transformed_l...</td>\n",
       "    </tr>\n",
       "    <tr>\n",
       "      <th>4</th>\n",
       "      <td>ENSG00000001167</td>\n",
       "      <td>(Heart_Left_Ventricle, Skin_Sun_Exposed_Lower_...</td>\n",
       "    </tr>\n",
       "  </tbody>\n",
       "</table>\n",
       "</div>"
      ],
      "text/plain": [
       "           gene_id                                             tissue\n",
       "0  ENSG00000000419       (Brain_Substantia_nigra, Brain_Hypothalamus)\n",
       "1  ENSG00000000938  (Heart_Left_Ventricle, Cells_EBV-transformed_l...\n",
       "2  ENSG00000000971  (Heart_Left_Ventricle, Pituitary, Skin_Sun_Exp...\n",
       "3  ENSG00000001084  (Heart_Left_Ventricle, Cells_EBV-transformed_l...\n",
       "4  ENSG00000001167  (Heart_Left_Ventricle, Skin_Sun_Exposed_Lower_..."
      ]
     },
     "execution_count": 82,
     "metadata": {},
     "output_type": "execute_result"
    }
   ],
   "source": [
    "spredixcan_genes_models.head()"
   ]
  },
  {
   "cell_type": "code",
   "execution_count": 83,
   "id": "e1cb2fe5-969f-4526-bca7-a3b8919b3509",
   "metadata": {
    "execution": {
     "iopub.execute_input": "2022-12-15T17:45:29.566038Z",
     "iopub.status.busy": "2022-12-15T17:45:29.565601Z",
     "iopub.status.idle": "2022-12-15T17:45:29.585228Z",
     "shell.execute_reply": "2022-12-15T17:45:29.584618Z"
    },
    "papermill": {
     "duration": 0.03396,
     "end_time": "2022-12-15T17:45:29.586091",
     "exception": false,
     "start_time": "2022-12-15T17:45:29.552131",
     "status": "completed"
    },
    "tags": []
   },
   "outputs": [],
   "source": [
    "spredixcan_genes_models = spredixcan_genes_models.assign(\n",
    "    gene_name=spredixcan_genes_models[\"gene_id\"].apply(\n",
    "        lambda g: Gene.GENE_ID_TO_NAME_MAP[g]\n",
    "    )\n",
    ")"
   ]
  },
  {
   "cell_type": "code",
   "execution_count": 84,
   "id": "ff078ce5-3f18-442e-a593-3326436c758e",
   "metadata": {
    "execution": {
     "iopub.execute_input": "2022-12-15T17:45:29.612683Z",
     "iopub.status.busy": "2022-12-15T17:45:29.612214Z",
     "iopub.status.idle": "2022-12-15T17:45:29.629903Z",
     "shell.execute_reply": "2022-12-15T17:45:29.629303Z"
    },
    "papermill": {
     "duration": 0.031942,
     "end_time": "2022-12-15T17:45:29.630848",
     "exception": false,
     "start_time": "2022-12-15T17:45:29.598906",
     "status": "completed"
    },
    "tags": []
   },
   "outputs": [],
   "source": [
    "spredixcan_genes_models = spredixcan_genes_models[[\"gene_id\", \"gene_name\", \"tissue\"]]"
   ]
  },
  {
   "cell_type": "code",
   "execution_count": 85,
   "id": "a65c8bf2-5ecd-4f80-a857-11f8a0c019c4",
   "metadata": {
    "execution": {
     "iopub.execute_input": "2022-12-15T17:45:29.657839Z",
     "iopub.status.busy": "2022-12-15T17:45:29.657428Z",
     "iopub.status.idle": "2022-12-15T17:45:29.675160Z",
     "shell.execute_reply": "2022-12-15T17:45:29.674553Z"
    },
    "papermill": {
     "duration": 0.032245,
     "end_time": "2022-12-15T17:45:29.676109",
     "exception": false,
     "start_time": "2022-12-15T17:45:29.643864",
     "status": "completed"
    },
    "tags": []
   },
   "outputs": [],
   "source": [
    "spredixcan_genes_models = spredixcan_genes_models.set_index(\"gene_id\")"
   ]
  },
  {
   "cell_type": "code",
   "execution_count": 86,
   "id": "af6b40b9-fc58-47a1-a1b5-4404034b008b",
   "metadata": {
    "execution": {
     "iopub.execute_input": "2022-12-15T17:45:29.703002Z",
     "iopub.status.busy": "2022-12-15T17:45:29.702800Z",
     "iopub.status.idle": "2022-12-15T17:45:29.723464Z",
     "shell.execute_reply": "2022-12-15T17:45:29.722893Z"
    },
    "papermill": {
     "duration": 0.035168,
     "end_time": "2022-12-15T17:45:29.724404",
     "exception": false,
     "start_time": "2022-12-15T17:45:29.689236",
     "status": "completed"
    },
    "tags": []
   },
   "outputs": [
    {
     "data": {
      "text/html": [
       "<div>\n",
       "<style scoped>\n",
       "    .dataframe tbody tr th:only-of-type {\n",
       "        vertical-align: middle;\n",
       "    }\n",
       "\n",
       "    .dataframe tbody tr th {\n",
       "        vertical-align: top;\n",
       "    }\n",
       "\n",
       "    .dataframe thead th {\n",
       "        text-align: right;\n",
       "    }\n",
       "</style>\n",
       "<table border=\"1\" class=\"dataframe\">\n",
       "  <thead>\n",
       "    <tr style=\"text-align: right;\">\n",
       "      <th></th>\n",
       "      <th>gene_name</th>\n",
       "      <th>tissue</th>\n",
       "    </tr>\n",
       "    <tr>\n",
       "      <th>gene_id</th>\n",
       "      <th></th>\n",
       "      <th></th>\n",
       "    </tr>\n",
       "  </thead>\n",
       "  <tbody>\n",
       "    <tr>\n",
       "      <th>ENSG00000000419</th>\n",
       "      <td>DPM1</td>\n",
       "      <td>(Brain_Substantia_nigra, Brain_Hypothalamus)</td>\n",
       "    </tr>\n",
       "    <tr>\n",
       "      <th>ENSG00000000938</th>\n",
       "      <td>FGR</td>\n",
       "      <td>(Heart_Left_Ventricle, Cells_EBV-transformed_l...</td>\n",
       "    </tr>\n",
       "    <tr>\n",
       "      <th>ENSG00000000971</th>\n",
       "      <td>CFH</td>\n",
       "      <td>(Heart_Left_Ventricle, Pituitary, Skin_Sun_Exp...</td>\n",
       "    </tr>\n",
       "    <tr>\n",
       "      <th>ENSG00000001084</th>\n",
       "      <td>GCLC</td>\n",
       "      <td>(Heart_Left_Ventricle, Cells_EBV-transformed_l...</td>\n",
       "    </tr>\n",
       "    <tr>\n",
       "      <th>ENSG00000001167</th>\n",
       "      <td>NFYA</td>\n",
       "      <td>(Heart_Left_Ventricle, Skin_Sun_Exposed_Lower_...</td>\n",
       "    </tr>\n",
       "  </tbody>\n",
       "</table>\n",
       "</div>"
      ],
      "text/plain": [
       "                gene_name                                             tissue\n",
       "gene_id                                                                     \n",
       "ENSG00000000419      DPM1       (Brain_Substantia_nigra, Brain_Hypothalamus)\n",
       "ENSG00000000938       FGR  (Heart_Left_Ventricle, Cells_EBV-transformed_l...\n",
       "ENSG00000000971       CFH  (Heart_Left_Ventricle, Pituitary, Skin_Sun_Exp...\n",
       "ENSG00000001084      GCLC  (Heart_Left_Ventricle, Cells_EBV-transformed_l...\n",
       "ENSG00000001167      NFYA  (Heart_Left_Ventricle, Skin_Sun_Exposed_Lower_..."
      ]
     },
     "execution_count": 86,
     "metadata": {},
     "output_type": "execute_result"
    }
   ],
   "source": [
    "spredixcan_genes_models.head()"
   ]
  },
  {
   "cell_type": "markdown",
   "id": "d1e67be9-9094-4a07-b89d-3a0815d503e6",
   "metadata": {
    "papermill": {
     "duration": 0.01302,
     "end_time": "2022-12-15T17:45:29.750614",
     "exception": false,
     "start_time": "2022-12-15T17:45:29.737594",
     "status": "completed"
    },
    "tags": []
   },
   "source": [
    "### Add number of tissues"
   ]
  },
  {
   "cell_type": "code",
   "execution_count": 87,
   "id": "b2702bdb-b3bc-48e6-9c3e-855924d9e74b",
   "metadata": {
    "execution": {
     "iopub.execute_input": "2022-12-15T17:45:29.777725Z",
     "iopub.status.busy": "2022-12-15T17:45:29.777233Z",
     "iopub.status.idle": "2022-12-15T17:45:29.796433Z",
     "shell.execute_reply": "2022-12-15T17:45:29.795828Z"
    },
    "papermill": {
     "duration": 0.033775,
     "end_time": "2022-12-15T17:45:29.797420",
     "exception": false,
     "start_time": "2022-12-15T17:45:29.763645",
     "status": "completed"
    },
    "tags": []
   },
   "outputs": [],
   "source": [
    "spredixcan_genes_models = spredixcan_genes_models.assign(\n",
    "    n_tissues=spredixcan_genes_models[\"tissue\"].apply(len)\n",
    ")"
   ]
  },
  {
   "cell_type": "code",
   "execution_count": 88,
   "id": "4a5eb4b8-5e11-45a3-a991-0515bd83fc03",
   "metadata": {
    "execution": {
     "iopub.execute_input": "2022-12-15T17:45:29.824419Z",
     "iopub.status.busy": "2022-12-15T17:45:29.824205Z",
     "iopub.status.idle": "2022-12-15T17:45:29.846201Z",
     "shell.execute_reply": "2022-12-15T17:45:29.845623Z"
    },
    "papermill": {
     "duration": 0.036621,
     "end_time": "2022-12-15T17:45:29.847139",
     "exception": false,
     "start_time": "2022-12-15T17:45:29.810518",
     "status": "completed"
    },
    "tags": []
   },
   "outputs": [
    {
     "data": {
      "text/html": [
       "<div>\n",
       "<style scoped>\n",
       "    .dataframe tbody tr th:only-of-type {\n",
       "        vertical-align: middle;\n",
       "    }\n",
       "\n",
       "    .dataframe tbody tr th {\n",
       "        vertical-align: top;\n",
       "    }\n",
       "\n",
       "    .dataframe thead th {\n",
       "        text-align: right;\n",
       "    }\n",
       "</style>\n",
       "<table border=\"1\" class=\"dataframe\">\n",
       "  <thead>\n",
       "    <tr style=\"text-align: right;\">\n",
       "      <th></th>\n",
       "      <th>gene_name</th>\n",
       "      <th>tissue</th>\n",
       "      <th>n_tissues</th>\n",
       "    </tr>\n",
       "    <tr>\n",
       "      <th>gene_id</th>\n",
       "      <th></th>\n",
       "      <th></th>\n",
       "      <th></th>\n",
       "    </tr>\n",
       "  </thead>\n",
       "  <tbody>\n",
       "    <tr>\n",
       "      <th>ENSG00000000419</th>\n",
       "      <td>DPM1</td>\n",
       "      <td>(Brain_Substantia_nigra, Brain_Hypothalamus)</td>\n",
       "      <td>2</td>\n",
       "    </tr>\n",
       "    <tr>\n",
       "      <th>ENSG00000000938</th>\n",
       "      <td>FGR</td>\n",
       "      <td>(Heart_Left_Ventricle, Cells_EBV-transformed_l...</td>\n",
       "      <td>36</td>\n",
       "    </tr>\n",
       "    <tr>\n",
       "      <th>ENSG00000000971</th>\n",
       "      <td>CFH</td>\n",
       "      <td>(Heart_Left_Ventricle, Pituitary, Skin_Sun_Exp...</td>\n",
       "      <td>34</td>\n",
       "    </tr>\n",
       "    <tr>\n",
       "      <th>ENSG00000001084</th>\n",
       "      <td>GCLC</td>\n",
       "      <td>(Heart_Left_Ventricle, Cells_EBV-transformed_l...</td>\n",
       "      <td>32</td>\n",
       "    </tr>\n",
       "    <tr>\n",
       "      <th>ENSG00000001167</th>\n",
       "      <td>NFYA</td>\n",
       "      <td>(Heart_Left_Ventricle, Skin_Sun_Exposed_Lower_...</td>\n",
       "      <td>40</td>\n",
       "    </tr>\n",
       "  </tbody>\n",
       "</table>\n",
       "</div>"
      ],
      "text/plain": [
       "                gene_name                                             tissue  \\\n",
       "gene_id                                                                        \n",
       "ENSG00000000419      DPM1       (Brain_Substantia_nigra, Brain_Hypothalamus)   \n",
       "ENSG00000000938       FGR  (Heart_Left_Ventricle, Cells_EBV-transformed_l...   \n",
       "ENSG00000000971       CFH  (Heart_Left_Ventricle, Pituitary, Skin_Sun_Exp...   \n",
       "ENSG00000001084      GCLC  (Heart_Left_Ventricle, Cells_EBV-transformed_l...   \n",
       "ENSG00000001167      NFYA  (Heart_Left_Ventricle, Skin_Sun_Exposed_Lower_...   \n",
       "\n",
       "                 n_tissues  \n",
       "gene_id                     \n",
       "ENSG00000000419          2  \n",
       "ENSG00000000938         36  \n",
       "ENSG00000000971         34  \n",
       "ENSG00000001084         32  \n",
       "ENSG00000001167         40  "
      ]
     },
     "execution_count": 88,
     "metadata": {},
     "output_type": "execute_result"
    }
   ],
   "source": [
    "spredixcan_genes_models.head()"
   ]
  },
  {
   "cell_type": "markdown",
   "id": "2abce820-1cb4-4a58-9dc5-b3e37d3ff037",
   "metadata": {
    "papermill": {
     "duration": 0.013223,
     "end_time": "2022-12-15T17:45:29.873560",
     "exception": false,
     "start_time": "2022-12-15T17:45:29.860337",
     "status": "completed"
    },
    "tags": []
   },
   "source": [
    "### Save"
   ]
  },
  {
   "cell_type": "markdown",
   "id": "28462e2a-da49-44c4-ae71-b3830a2b108f",
   "metadata": {
    "papermill": {
     "duration": 0.01313,
     "end_time": "2022-12-15T17:45:29.899849",
     "exception": false,
     "start_time": "2022-12-15T17:45:29.886719",
     "status": "completed"
    },
    "tags": []
   },
   "source": [
    "Here I quickly save these results to a file, given that the next steps (covariates) are slow to compute."
   ]
  },
  {
   "cell_type": "code",
   "execution_count": 89,
   "id": "9cfb687d-5ab2-4e85-9944-f5c685de8046",
   "metadata": {
    "execution": {
     "iopub.execute_input": "2022-12-15T17:45:29.927188Z",
     "iopub.status.busy": "2022-12-15T17:45:29.926690Z",
     "iopub.status.idle": "2022-12-15T17:45:29.943431Z",
     "shell.execute_reply": "2022-12-15T17:45:29.942851Z"
    },
    "papermill": {
     "duration": 0.03141,
     "end_time": "2022-12-15T17:45:29.944385",
     "exception": false,
     "start_time": "2022-12-15T17:45:29.912975",
     "status": "completed"
    },
    "tags": []
   },
   "outputs": [],
   "source": [
    "# this is important, other scripts depend on gene_name to be unique\n",
    "assert spredixcan_genes_models[\"gene_name\"].is_unique"
   ]
  },
  {
   "cell_type": "code",
   "execution_count": 90,
   "id": "b2d9bd26-afaa-4aff-a707-3109e13af9bb",
   "metadata": {
    "execution": {
     "iopub.execute_input": "2022-12-15T17:45:29.971858Z",
     "iopub.status.busy": "2022-12-15T17:45:29.971327Z",
     "iopub.status.idle": "2022-12-15T17:45:29.989579Z",
     "shell.execute_reply": "2022-12-15T17:45:29.988989Z"
    },
    "papermill": {
     "duration": 0.032848,
     "end_time": "2022-12-15T17:45:29.990501",
     "exception": false,
     "start_time": "2022-12-15T17:45:29.957653",
     "status": "completed"
    },
    "tags": []
   },
   "outputs": [],
   "source": [
    "assert not spredixcan_genes_models.isna().any(axis=None)"
   ]
  },
  {
   "cell_type": "code",
   "execution_count": 91,
   "id": "074b103c-2960-4299-a3ac-fa37ab6f2784",
   "metadata": {
    "execution": {
     "iopub.execute_input": "2022-12-15T17:45:30.017890Z",
     "iopub.status.busy": "2022-12-15T17:45:30.017423Z",
     "iopub.status.idle": "2022-12-15T17:45:30.047874Z",
     "shell.execute_reply": "2022-12-15T17:45:30.047179Z"
    },
    "papermill": {
     "duration": 0.045243,
     "end_time": "2022-12-15T17:45:30.048890",
     "exception": false,
     "start_time": "2022-12-15T17:45:30.003647",
     "status": "completed"
    },
    "tags": []
   },
   "outputs": [],
   "source": [
    "spredixcan_genes_models.to_pickle(OUTPUT_DIR_BASE / \"gene_tissues.pkl\")"
   ]
  },
  {
   "cell_type": "markdown",
   "id": "ae18f693-4da8-48ae-85b6-8194abcca684",
   "metadata": {
    "papermill": {
     "duration": 0.013217,
     "end_time": "2022-12-15T17:45:30.075369",
     "exception": false,
     "start_time": "2022-12-15T17:45:30.062152",
     "status": "completed"
    },
    "tags": []
   },
   "source": [
    "## Add covariates based on S-PrediXcan results"
   ]
  },
  {
   "cell_type": "markdown",
   "id": "bed7a46c-4906-40b9-9dd8-0bfb584e6d2a",
   "metadata": {
    "papermill": {
     "duration": 0.013231,
     "end_time": "2022-12-15T17:45:30.101792",
     "exception": false,
     "start_time": "2022-12-15T17:45:30.088561",
     "status": "completed"
    },
    "tags": []
   },
   "source": [
    "This extend the previous file with more columns"
   ]
  },
  {
   "cell_type": "markdown",
   "id": "850c554f-2ace-40a3-a33a-477246bb07c7",
   "metadata": {
    "papermill": {
     "duration": 0.013103,
     "end_time": "2022-12-15T17:45:30.128193",
     "exception": false,
     "start_time": "2022-12-15T17:45:30.115090",
     "status": "completed"
    },
    "tags": []
   },
   "source": [
    "### Get gene's objects"
   ]
  },
  {
   "cell_type": "code",
   "execution_count": 92,
   "id": "dfd93711-5c91-4cb6-8561-f366e270b6b1",
   "metadata": {
    "execution": {
     "iopub.execute_input": "2022-12-15T17:45:30.155480Z",
     "iopub.status.busy": "2022-12-15T17:45:30.155264Z",
     "iopub.status.idle": "2022-12-15T17:45:30.184378Z",
     "shell.execute_reply": "2022-12-15T17:45:30.183617Z"
    },
    "papermill": {
     "duration": 0.044026,
     "end_time": "2022-12-15T17:45:30.185386",
     "exception": false,
     "start_time": "2022-12-15T17:45:30.141360",
     "status": "completed"
    },
    "tags": []
   },
   "outputs": [],
   "source": [
    "spredixcan_gene_obj = {\n",
    "    gene_id: Gene(ensembl_id=gene_id) for gene_id in spredixcan_genes_models.index\n",
    "}"
   ]
  },
  {
   "cell_type": "code",
   "execution_count": 93,
   "id": "59efbedc-0b5d-4d0b-bd82-95e74c0ba793",
   "metadata": {
    "execution": {
     "iopub.execute_input": "2022-12-15T17:45:30.212933Z",
     "iopub.status.busy": "2022-12-15T17:45:30.212727Z",
     "iopub.status.idle": "2022-12-15T17:45:30.230158Z",
     "shell.execute_reply": "2022-12-15T17:45:30.229575Z"
    },
    "papermill": {
     "duration": 0.032173,
     "end_time": "2022-12-15T17:45:30.231037",
     "exception": false,
     "start_time": "2022-12-15T17:45:30.198864",
     "status": "completed"
    },
    "tags": []
   },
   "outputs": [
    {
     "data": {
      "text/plain": [
       "6442"
      ]
     },
     "execution_count": 93,
     "metadata": {},
     "output_type": "execute_result"
    }
   ],
   "source": [
    "len(spredixcan_gene_obj)"
   ]
  },
  {
   "cell_type": "markdown",
   "id": "ab6ff41a-0949-4eea-abef-7dc4f0b373fc",
   "metadata": {
    "papermill": {
     "duration": 0.013336,
     "end_time": "2022-12-15T17:45:30.257865",
     "exception": false,
     "start_time": "2022-12-15T17:45:30.244529",
     "status": "completed"
    },
    "tags": []
   },
   "source": [
    "### Count number of SNPs predictors used across tissue models"
   ]
  },
  {
   "cell_type": "code",
   "execution_count": 94,
   "id": "c8f6cc6f-5812-45c9-b775-6f2193f8a360",
   "metadata": {
    "execution": {
     "iopub.execute_input": "2022-12-15T17:45:30.284976Z",
     "iopub.status.busy": "2022-12-15T17:45:30.284768Z",
     "iopub.status.idle": "2022-12-15T17:45:30.339001Z",
     "shell.execute_reply": "2022-12-15T17:45:30.338341Z"
    },
    "papermill": {
     "duration": 0.068854,
     "end_time": "2022-12-15T17:45:30.339956",
     "exception": false,
     "start_time": "2022-12-15T17:45:30.271102",
     "status": "completed"
    },
    "tags": []
   },
   "outputs": [],
   "source": [
    "spredixcan_genes_sum_of_n_snps_used = (\n",
    "    spredixcan_dfs.groupby(\"gene_id\")[\"n_snps_used\"].sum().rename(\"n_snps_used_sum\")\n",
    ")"
   ]
  },
  {
   "cell_type": "code",
   "execution_count": 95,
   "id": "7255df64-7b9f-4504-a4fa-1f2a9aa56ec0",
   "metadata": {
    "execution": {
     "iopub.execute_input": "2022-12-15T17:45:30.367510Z",
     "iopub.status.busy": "2022-12-15T17:45:30.367307Z",
     "iopub.status.idle": "2022-12-15T17:45:30.386268Z",
     "shell.execute_reply": "2022-12-15T17:45:30.385693Z"
    },
    "papermill": {
     "duration": 0.033852,
     "end_time": "2022-12-15T17:45:30.387201",
     "exception": false,
     "start_time": "2022-12-15T17:45:30.353349",
     "status": "completed"
    },
    "tags": []
   },
   "outputs": [
    {
     "data": {
      "text/plain": [
       "gene_id\n",
       "ENSG00000000419     2\n",
       "ENSG00000000938    40\n",
       "ENSG00000000971    44\n",
       "ENSG00000001084    46\n",
       "ENSG00000001167    47\n",
       "                   ..\n",
       "ENSG00000278540    44\n",
       "ENSG00000278828     5\n",
       "ENSG00000278845    89\n",
       "ENSG00000281005    81\n",
       "ENSG00000282608    40\n",
       "Name: n_snps_used_sum, Length: 6442, dtype: int64"
      ]
     },
     "execution_count": 95,
     "metadata": {},
     "output_type": "execute_result"
    }
   ],
   "source": [
    "spredixcan_genes_sum_of_n_snps_used"
   ]
  },
  {
   "cell_type": "code",
   "execution_count": 96,
   "id": "44bc1222-b334-4ce2-8997-494d0e584cf9",
   "metadata": {
    "execution": {
     "iopub.execute_input": "2022-12-15T17:45:30.414902Z",
     "iopub.status.busy": "2022-12-15T17:45:30.414699Z",
     "iopub.status.idle": "2022-12-15T17:45:30.434423Z",
     "shell.execute_reply": "2022-12-15T17:45:30.433787Z"
    },
    "papermill": {
     "duration": 0.034689,
     "end_time": "2022-12-15T17:45:30.435460",
     "exception": false,
     "start_time": "2022-12-15T17:45:30.400771",
     "status": "completed"
    },
    "tags": []
   },
   "outputs": [],
   "source": [
    "# add sum of snps used to spredixcan_genes_models\n",
    "spredixcan_genes_models = spredixcan_genes_models.join(\n",
    "    spredixcan_genes_sum_of_n_snps_used\n",
    ")"
   ]
  },
  {
   "cell_type": "code",
   "execution_count": 97,
   "id": "5e5e6d7f-b970-4f21-9322-b76bc22afd71",
   "metadata": {
    "execution": {
     "iopub.execute_input": "2022-12-15T17:45:30.463129Z",
     "iopub.status.busy": "2022-12-15T17:45:30.462783Z",
     "iopub.status.idle": "2022-12-15T17:45:30.480425Z",
     "shell.execute_reply": "2022-12-15T17:45:30.479827Z"
    },
    "papermill": {
     "duration": 0.032492,
     "end_time": "2022-12-15T17:45:30.481384",
     "exception": false,
     "start_time": "2022-12-15T17:45:30.448892",
     "status": "completed"
    },
    "tags": []
   },
   "outputs": [
    {
     "data": {
      "text/plain": [
       "(6442, 4)"
      ]
     },
     "execution_count": 97,
     "metadata": {},
     "output_type": "execute_result"
    }
   ],
   "source": [
    "spredixcan_genes_models.shape"
   ]
  },
  {
   "cell_type": "code",
   "execution_count": 98,
   "id": "22c096c2-213a-4001-8454-1633997d404f",
   "metadata": {
    "execution": {
     "iopub.execute_input": "2022-12-15T17:45:30.509275Z",
     "iopub.status.busy": "2022-12-15T17:45:30.509056Z",
     "iopub.status.idle": "2022-12-15T17:45:30.531121Z",
     "shell.execute_reply": "2022-12-15T17:45:30.530527Z"
    },
    "papermill": {
     "duration": 0.037083,
     "end_time": "2022-12-15T17:45:30.532057",
     "exception": false,
     "start_time": "2022-12-15T17:45:30.494974",
     "status": "completed"
    },
    "tags": []
   },
   "outputs": [
    {
     "data": {
      "text/html": [
       "<div>\n",
       "<style scoped>\n",
       "    .dataframe tbody tr th:only-of-type {\n",
       "        vertical-align: middle;\n",
       "    }\n",
       "\n",
       "    .dataframe tbody tr th {\n",
       "        vertical-align: top;\n",
       "    }\n",
       "\n",
       "    .dataframe thead th {\n",
       "        text-align: right;\n",
       "    }\n",
       "</style>\n",
       "<table border=\"1\" class=\"dataframe\">\n",
       "  <thead>\n",
       "    <tr style=\"text-align: right;\">\n",
       "      <th></th>\n",
       "      <th>gene_name</th>\n",
       "      <th>tissue</th>\n",
       "      <th>n_tissues</th>\n",
       "      <th>n_snps_used_sum</th>\n",
       "    </tr>\n",
       "    <tr>\n",
       "      <th>gene_id</th>\n",
       "      <th></th>\n",
       "      <th></th>\n",
       "      <th></th>\n",
       "      <th></th>\n",
       "    </tr>\n",
       "  </thead>\n",
       "  <tbody>\n",
       "    <tr>\n",
       "      <th>ENSG00000000419</th>\n",
       "      <td>DPM1</td>\n",
       "      <td>(Brain_Substantia_nigra, Brain_Hypothalamus)</td>\n",
       "      <td>2</td>\n",
       "      <td>2</td>\n",
       "    </tr>\n",
       "    <tr>\n",
       "      <th>ENSG00000000938</th>\n",
       "      <td>FGR</td>\n",
       "      <td>(Heart_Left_Ventricle, Cells_EBV-transformed_l...</td>\n",
       "      <td>36</td>\n",
       "      <td>40</td>\n",
       "    </tr>\n",
       "    <tr>\n",
       "      <th>ENSG00000000971</th>\n",
       "      <td>CFH</td>\n",
       "      <td>(Heart_Left_Ventricle, Pituitary, Skin_Sun_Exp...</td>\n",
       "      <td>34</td>\n",
       "      <td>44</td>\n",
       "    </tr>\n",
       "    <tr>\n",
       "      <th>ENSG00000001084</th>\n",
       "      <td>GCLC</td>\n",
       "      <td>(Heart_Left_Ventricle, Cells_EBV-transformed_l...</td>\n",
       "      <td>32</td>\n",
       "      <td>46</td>\n",
       "    </tr>\n",
       "    <tr>\n",
       "      <th>ENSG00000001167</th>\n",
       "      <td>NFYA</td>\n",
       "      <td>(Heart_Left_Ventricle, Skin_Sun_Exposed_Lower_...</td>\n",
       "      <td>40</td>\n",
       "      <td>47</td>\n",
       "    </tr>\n",
       "  </tbody>\n",
       "</table>\n",
       "</div>"
      ],
      "text/plain": [
       "                gene_name                                             tissue  \\\n",
       "gene_id                                                                        \n",
       "ENSG00000000419      DPM1       (Brain_Substantia_nigra, Brain_Hypothalamus)   \n",
       "ENSG00000000938       FGR  (Heart_Left_Ventricle, Cells_EBV-transformed_l...   \n",
       "ENSG00000000971       CFH  (Heart_Left_Ventricle, Pituitary, Skin_Sun_Exp...   \n",
       "ENSG00000001084      GCLC  (Heart_Left_Ventricle, Cells_EBV-transformed_l...   \n",
       "ENSG00000001167      NFYA  (Heart_Left_Ventricle, Skin_Sun_Exposed_Lower_...   \n",
       "\n",
       "                 n_tissues  n_snps_used_sum  \n",
       "gene_id                                      \n",
       "ENSG00000000419          2                2  \n",
       "ENSG00000000938         36               40  \n",
       "ENSG00000000971         34               44  \n",
       "ENSG00000001084         32               46  \n",
       "ENSG00000001167         40               47  "
      ]
     },
     "execution_count": 98,
     "metadata": {},
     "output_type": "execute_result"
    }
   ],
   "source": [
    "spredixcan_genes_models.head()"
   ]
  },
  {
   "cell_type": "markdown",
   "id": "f4692315-d7be-465e-b756-f6d76fec949e",
   "metadata": {
    "papermill": {
     "duration": 0.013534,
     "end_time": "2022-12-15T17:45:30.559375",
     "exception": false,
     "start_time": "2022-12-15T17:45:30.545841",
     "status": "completed"
    },
    "tags": []
   },
   "source": [
    "### Count number of SNPs predictors in models across tissue models"
   ]
  },
  {
   "cell_type": "code",
   "execution_count": 99,
   "id": "08eed385-36eb-4e42-b28e-51333f9cfcd3",
   "metadata": {
    "execution": {
     "iopub.execute_input": "2022-12-15T17:45:30.587344Z",
     "iopub.status.busy": "2022-12-15T17:45:30.587128Z",
     "iopub.status.idle": "2022-12-15T17:45:30.641702Z",
     "shell.execute_reply": "2022-12-15T17:45:30.641026Z"
    },
    "papermill": {
     "duration": 0.069815,
     "end_time": "2022-12-15T17:45:30.642771",
     "exception": false,
     "start_time": "2022-12-15T17:45:30.572956",
     "status": "completed"
    },
    "tags": []
   },
   "outputs": [],
   "source": [
    "spredixcan_genes_sum_of_n_snps_in_model = (\n",
    "    spredixcan_dfs.groupby(\"gene_id\")[\"n_snps_in_model\"]\n",
    "    .sum()\n",
    "    .rename(\"n_snps_in_model_sum\")\n",
    ")"
   ]
  },
  {
   "cell_type": "code",
   "execution_count": 100,
   "id": "10431f5c-1f56-4664-a09f-53c608bec631",
   "metadata": {
    "execution": {
     "iopub.execute_input": "2022-12-15T17:45:30.671415Z",
     "iopub.status.busy": "2022-12-15T17:45:30.670890Z",
     "iopub.status.idle": "2022-12-15T17:45:30.690233Z",
     "shell.execute_reply": "2022-12-15T17:45:30.689573Z"
    },
    "papermill": {
     "duration": 0.034626,
     "end_time": "2022-12-15T17:45:30.691200",
     "exception": false,
     "start_time": "2022-12-15T17:45:30.656574",
     "status": "completed"
    },
    "tags": []
   },
   "outputs": [
    {
     "data": {
      "text/plain": [
       "gene_id\n",
       "ENSG00000000419     2\n",
       "ENSG00000000938    40\n",
       "ENSG00000000971    44\n",
       "ENSG00000001084    46\n",
       "ENSG00000001167    48\n",
       "                   ..\n",
       "ENSG00000278540    44\n",
       "ENSG00000278828     5\n",
       "ENSG00000278845    91\n",
       "ENSG00000281005    81\n",
       "ENSG00000282608    40\n",
       "Name: n_snps_in_model_sum, Length: 6442, dtype: int64"
      ]
     },
     "execution_count": 100,
     "metadata": {},
     "output_type": "execute_result"
    }
   ],
   "source": [
    "spredixcan_genes_sum_of_n_snps_in_model"
   ]
  },
  {
   "cell_type": "code",
   "execution_count": 101,
   "id": "d13e1d65-0dcb-4a94-aba8-bcdcd09d17c3",
   "metadata": {
    "execution": {
     "iopub.execute_input": "2022-12-15T17:45:30.719608Z",
     "iopub.status.busy": "2022-12-15T17:45:30.719394Z",
     "iopub.status.idle": "2022-12-15T17:45:30.738691Z",
     "shell.execute_reply": "2022-12-15T17:45:30.738065Z"
    },
    "papermill": {
     "duration": 0.034486,
     "end_time": "2022-12-15T17:45:30.739623",
     "exception": false,
     "start_time": "2022-12-15T17:45:30.705137",
     "status": "completed"
    },
    "tags": []
   },
   "outputs": [],
   "source": [
    "# add sum of snps in model to spredixcan_genes_models\n",
    "spredixcan_genes_models = spredixcan_genes_models.join(\n",
    "    spredixcan_genes_sum_of_n_snps_in_model\n",
    ")"
   ]
  },
  {
   "cell_type": "code",
   "execution_count": 102,
   "id": "0d3973d8-5da2-4c9d-b406-2525f615035c",
   "metadata": {
    "execution": {
     "iopub.execute_input": "2022-12-15T17:45:30.768507Z",
     "iopub.status.busy": "2022-12-15T17:45:30.768032Z",
     "iopub.status.idle": "2022-12-15T17:45:30.785024Z",
     "shell.execute_reply": "2022-12-15T17:45:30.784438Z"
    },
    "papermill": {
     "duration": 0.032423,
     "end_time": "2022-12-15T17:45:30.785946",
     "exception": false,
     "start_time": "2022-12-15T17:45:30.753523",
     "status": "completed"
    },
    "tags": []
   },
   "outputs": [
    {
     "data": {
      "text/plain": [
       "(6442, 5)"
      ]
     },
     "execution_count": 102,
     "metadata": {},
     "output_type": "execute_result"
    }
   ],
   "source": [
    "spredixcan_genes_models.shape"
   ]
  },
  {
   "cell_type": "code",
   "execution_count": 103,
   "id": "76c27f05-c5c6-4ed9-9363-fcba871a3572",
   "metadata": {
    "execution": {
     "iopub.execute_input": "2022-12-15T17:45:30.814737Z",
     "iopub.status.busy": "2022-12-15T17:45:30.814310Z",
     "iopub.status.idle": "2022-12-15T17:45:30.836270Z",
     "shell.execute_reply": "2022-12-15T17:45:30.835673Z"
    },
    "papermill": {
     "duration": 0.03733,
     "end_time": "2022-12-15T17:45:30.837212",
     "exception": false,
     "start_time": "2022-12-15T17:45:30.799882",
     "status": "completed"
    },
    "tags": []
   },
   "outputs": [
    {
     "data": {
      "text/html": [
       "<div>\n",
       "<style scoped>\n",
       "    .dataframe tbody tr th:only-of-type {\n",
       "        vertical-align: middle;\n",
       "    }\n",
       "\n",
       "    .dataframe tbody tr th {\n",
       "        vertical-align: top;\n",
       "    }\n",
       "\n",
       "    .dataframe thead th {\n",
       "        text-align: right;\n",
       "    }\n",
       "</style>\n",
       "<table border=\"1\" class=\"dataframe\">\n",
       "  <thead>\n",
       "    <tr style=\"text-align: right;\">\n",
       "      <th></th>\n",
       "      <th>gene_name</th>\n",
       "      <th>tissue</th>\n",
       "      <th>n_tissues</th>\n",
       "      <th>n_snps_used_sum</th>\n",
       "      <th>n_snps_in_model_sum</th>\n",
       "    </tr>\n",
       "    <tr>\n",
       "      <th>gene_id</th>\n",
       "      <th></th>\n",
       "      <th></th>\n",
       "      <th></th>\n",
       "      <th></th>\n",
       "      <th></th>\n",
       "    </tr>\n",
       "  </thead>\n",
       "  <tbody>\n",
       "    <tr>\n",
       "      <th>ENSG00000000419</th>\n",
       "      <td>DPM1</td>\n",
       "      <td>(Brain_Substantia_nigra, Brain_Hypothalamus)</td>\n",
       "      <td>2</td>\n",
       "      <td>2</td>\n",
       "      <td>2</td>\n",
       "    </tr>\n",
       "    <tr>\n",
       "      <th>ENSG00000000938</th>\n",
       "      <td>FGR</td>\n",
       "      <td>(Heart_Left_Ventricle, Cells_EBV-transformed_l...</td>\n",
       "      <td>36</td>\n",
       "      <td>40</td>\n",
       "      <td>40</td>\n",
       "    </tr>\n",
       "    <tr>\n",
       "      <th>ENSG00000000971</th>\n",
       "      <td>CFH</td>\n",
       "      <td>(Heart_Left_Ventricle, Pituitary, Skin_Sun_Exp...</td>\n",
       "      <td>34</td>\n",
       "      <td>44</td>\n",
       "      <td>44</td>\n",
       "    </tr>\n",
       "    <tr>\n",
       "      <th>ENSG00000001084</th>\n",
       "      <td>GCLC</td>\n",
       "      <td>(Heart_Left_Ventricle, Cells_EBV-transformed_l...</td>\n",
       "      <td>32</td>\n",
       "      <td>46</td>\n",
       "      <td>46</td>\n",
       "    </tr>\n",
       "    <tr>\n",
       "      <th>ENSG00000001167</th>\n",
       "      <td>NFYA</td>\n",
       "      <td>(Heart_Left_Ventricle, Skin_Sun_Exposed_Lower_...</td>\n",
       "      <td>40</td>\n",
       "      <td>47</td>\n",
       "      <td>48</td>\n",
       "    </tr>\n",
       "  </tbody>\n",
       "</table>\n",
       "</div>"
      ],
      "text/plain": [
       "                gene_name                                             tissue  \\\n",
       "gene_id                                                                        \n",
       "ENSG00000000419      DPM1       (Brain_Substantia_nigra, Brain_Hypothalamus)   \n",
       "ENSG00000000938       FGR  (Heart_Left_Ventricle, Cells_EBV-transformed_l...   \n",
       "ENSG00000000971       CFH  (Heart_Left_Ventricle, Pituitary, Skin_Sun_Exp...   \n",
       "ENSG00000001084      GCLC  (Heart_Left_Ventricle, Cells_EBV-transformed_l...   \n",
       "ENSG00000001167      NFYA  (Heart_Left_Ventricle, Skin_Sun_Exposed_Lower_...   \n",
       "\n",
       "                 n_tissues  n_snps_used_sum  n_snps_in_model_sum  \n",
       "gene_id                                                           \n",
       "ENSG00000000419          2                2                    2  \n",
       "ENSG00000000938         36               40                   40  \n",
       "ENSG00000000971         34               44                   44  \n",
       "ENSG00000001084         32               46                   46  \n",
       "ENSG00000001167         40               47                   48  "
      ]
     },
     "execution_count": 103,
     "metadata": {},
     "output_type": "execute_result"
    }
   ],
   "source": [
    "spredixcan_genes_models.head()"
   ]
  },
  {
   "cell_type": "markdown",
   "id": "d6947d45-ea78-4c6b-bf71-f7413d1687e3",
   "metadata": {
    "papermill": {
     "duration": 0.013868,
     "end_time": "2022-12-15T17:45:30.865155",
     "exception": false,
     "start_time": "2022-12-15T17:45:30.851287",
     "status": "completed"
    },
    "tags": []
   },
   "source": [
    "### Save"
   ]
  },
  {
   "cell_type": "code",
   "execution_count": 104,
   "id": "ebc3a430-7bd5-4099-8b01-aa77e704e3e7",
   "metadata": {
    "execution": {
     "iopub.execute_input": "2022-12-15T17:45:30.894127Z",
     "iopub.status.busy": "2022-12-15T17:45:30.893599Z",
     "iopub.status.idle": "2022-12-15T17:45:30.910539Z",
     "shell.execute_reply": "2022-12-15T17:45:30.909954Z"
    },
    "papermill": {
     "duration": 0.032573,
     "end_time": "2022-12-15T17:45:30.911474",
     "exception": false,
     "start_time": "2022-12-15T17:45:30.878901",
     "status": "completed"
    },
    "tags": []
   },
   "outputs": [],
   "source": [
    "# this is important, other scripts depend on gene_name to be unique\n",
    "assert spredixcan_genes_models[\"gene_name\"].is_unique"
   ]
  },
  {
   "cell_type": "code",
   "execution_count": 105,
   "id": "e2db5302-3051-4492-97e1-e759d2fb512f",
   "metadata": {
    "execution": {
     "iopub.execute_input": "2022-12-15T17:45:30.940525Z",
     "iopub.status.busy": "2022-12-15T17:45:30.939996Z",
     "iopub.status.idle": "2022-12-15T17:45:30.958387Z",
     "shell.execute_reply": "2022-12-15T17:45:30.957798Z"
    },
    "papermill": {
     "duration": 0.033933,
     "end_time": "2022-12-15T17:45:30.959395",
     "exception": false,
     "start_time": "2022-12-15T17:45:30.925462",
     "status": "completed"
    },
    "tags": []
   },
   "outputs": [],
   "source": [
    "assert not spredixcan_genes_models.isna().any(axis=None)"
   ]
  },
  {
   "cell_type": "code",
   "execution_count": 106,
   "id": "10e19441-8390-4eb1-8da4-24752597bb54",
   "metadata": {
    "execution": {
     "iopub.execute_input": "2022-12-15T17:45:30.988105Z",
     "iopub.status.busy": "2022-12-15T17:45:30.987756Z",
     "iopub.status.idle": "2022-12-15T17:45:31.018971Z",
     "shell.execute_reply": "2022-12-15T17:45:31.018300Z"
    },
    "papermill": {
     "duration": 0.04657,
     "end_time": "2022-12-15T17:45:31.019992",
     "exception": false,
     "start_time": "2022-12-15T17:45:30.973422",
     "status": "completed"
    },
    "tags": []
   },
   "outputs": [],
   "source": [
    "spredixcan_genes_models.to_pickle(OUTPUT_DIR_BASE / \"gene_tissues.pkl\")"
   ]
  },
  {
   "cell_type": "code",
   "execution_count": null,
   "id": "b25e3ead",
   "metadata": {
    "papermill": {
     "duration": 0.013873,
     "end_time": "2022-12-15T17:45:31.047996",
     "exception": false,
     "start_time": "2022-12-15T17:45:31.034123",
     "status": "completed"
    },
    "tags": []
   },
   "outputs": [],
   "source": []
  }
 ],
 "metadata": {
  "jupytext": {
   "cell_metadata_filter": "all,-execution,-papermill,-trusted",
   "formats": "ipynb,py//py:percent"
  },
  "kernelspec": {
   "display_name": "Python 3 (ipykernel)",
   "language": "python",
   "name": "python3"
  },
  "language_info": {
   "codemirror_mode": {
    "name": "ipython",
    "version": 3
   },
   "file_extension": ".py",
   "mimetype": "text/x-python",
   "name": "python",
   "nbconvert_exporter": "python",
   "pygments_lexer": "ipython3",
   "version": "3.10.6"
  },
  "papermill": {
   "default_parameters": {},
   "duration": 31.939144,
   "end_time": "2022-12-15T17:45:31.881215",
   "environment_variables": {},
   "exception": null,
   "input_path": "projects/asthma-copd/nbs/20_gene_corrs/jobs/01-compile_gwas_snps_and_twas_genes.ipynb",
   "output_path": "projects/asthma-copd/nbs/20_gene_corrs/jobs/../output/aco/01-compile_gwas_snps_and_twas_genes.run.ipynb",
   "parameters": {
    "COHORT_NAME": "aco",
    "GWAS_FILE": "/opt/data/projects/asthma-copd/results/final_imputed_gwas/GWAS_ACO_GLM_SNPs_info0.7-harmonized-imputed.txt.gz",
    "OUTPUT_DIR_BASE": "/opt/data/projects/asthma-copd/results/gls_phenoplier",
    "PHENOPLIER_NOTEBOOK_FILEPATH": "projects/asthma-copd/nbs/20_gene_corrs/jobs/01-compile_gwas_snps_and_twas_genes.ipynb",
    "SMULTIXCAN_FILE": "/opt/data/projects/asthma-copd/results/twas/smultixcan/GWAS_ACO_GLM_SNPs_info0.7-gtex_v8-mashr-smultixcan.txt",
    "SPREDIXCAN_FILE_PATTERN": "GWAS_ACO_GLM_SNPs_info0.7-gtex_v8-mashr-{tissue}.csv",
    "SPREDIXCAN_FOLDER": "/opt/data/projects/asthma-copd/results/twas/spredixcan"
   },
   "start_time": "2022-12-15T17:44:59.942071",
   "version": "2.2.2"
  },
  "toc-autonumbering": true
 },
 "nbformat": 4,
 "nbformat_minor": 5
}
