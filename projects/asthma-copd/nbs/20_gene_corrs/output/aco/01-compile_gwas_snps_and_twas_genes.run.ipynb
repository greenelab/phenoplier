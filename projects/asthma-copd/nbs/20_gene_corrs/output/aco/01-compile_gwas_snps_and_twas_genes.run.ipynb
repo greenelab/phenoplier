{
 "cells": [
  {
   "cell_type": "markdown",
   "id": "7a6632fb",
   "metadata": {
    "papermill": {
     "duration": 0.018408,
     "end_time": "2022-12-02T21:49:05.350213",
     "exception": false,
     "start_time": "2022-12-02T21:49:05.331805",
     "status": "completed"
    },
    "tags": []
   },
   "source": [
    "# Description"
   ]
  },
  {
   "cell_type": "markdown",
   "id": "7097c346",
   "metadata": {
    "papermill": {
     "duration": 0.016363,
     "end_time": "2022-12-02T21:49:05.382944",
     "exception": false,
     "start_time": "2022-12-02T21:49:05.366581",
     "status": "completed"
    },
    "tags": []
   },
   "source": [
    "This notebook compiles information about the GWAS and TWAS for a particular cohort. For example, the set of GWAS variants, variance of predicted expression of genes, etc.\n",
    "\n",
    "It has specicfic parameters for papermill (see under `Settings` below).\n",
    "\n",
    "This notebook should not be directly run. It is used by other notebooks."
   ]
  },
  {
   "cell_type": "markdown",
   "id": "c61d8427",
   "metadata": {
    "papermill": {
     "duration": 0.01588,
     "end_time": "2022-12-02T21:49:05.415779",
     "exception": false,
     "start_time": "2022-12-02T21:49:05.399899",
     "status": "completed"
    },
    "tags": []
   },
   "source": [
    "# Modules"
   ]
  },
  {
   "cell_type": "code",
   "execution_count": 1,
   "id": "bbc0234f",
   "metadata": {
    "execution": {
     "iopub.execute_input": "2022-12-02T21:49:05.434481Z",
     "iopub.status.busy": "2022-12-02T21:49:05.434093Z",
     "iopub.status.idle": "2022-12-02T21:49:05.451764Z",
     "shell.execute_reply": "2022-12-02T21:49:05.451116Z"
    },
    "papermill": {
     "duration": 0.027869,
     "end_time": "2022-12-02T21:49:05.452786",
     "exception": false,
     "start_time": "2022-12-02T21:49:05.424917",
     "status": "completed"
    },
    "tags": []
   },
   "outputs": [],
   "source": [
    "%load_ext autoreload\n",
    "%autoreload 2"
   ]
  },
  {
   "cell_type": "code",
   "execution_count": 2,
   "id": "1d5f5a59",
   "metadata": {
    "execution": {
     "iopub.execute_input": "2022-12-02T21:49:05.470603Z",
     "iopub.status.busy": "2022-12-02T21:49:05.470250Z",
     "iopub.status.idle": "2022-12-02T21:49:05.788567Z",
     "shell.execute_reply": "2022-12-02T21:49:05.788023Z"
    },
    "papermill": {
     "duration": 0.329036,
     "end_time": "2022-12-02T21:49:05.790307",
     "exception": false,
     "start_time": "2022-12-02T21:49:05.461271",
     "status": "completed"
    },
    "tags": []
   },
   "outputs": [],
   "source": [
    "from pathlib import Path\n",
    "import pickle\n",
    "\n",
    "import numpy as np\n",
    "import pandas as pd\n",
    "\n",
    "import conf\n",
    "from entity import Gene"
   ]
  },
  {
   "cell_type": "markdown",
   "id": "1eac24b5",
   "metadata": {
    "papermill": {
     "duration": 0.017067,
     "end_time": "2022-12-02T21:49:05.824982",
     "exception": false,
     "start_time": "2022-12-02T21:49:05.807915",
     "status": "completed"
    },
    "tags": []
   },
   "source": [
    "# Settings"
   ]
  },
  {
   "cell_type": "code",
   "execution_count": 3,
   "id": "ca4560ba",
   "metadata": {
    "execution": {
     "iopub.execute_input": "2022-12-02T21:49:05.861316Z",
     "iopub.status.busy": "2022-12-02T21:49:05.861143Z",
     "iopub.status.idle": "2022-12-02T21:49:05.873529Z",
     "shell.execute_reply": "2022-12-02T21:49:05.872859Z"
    },
    "papermill": {
     "duration": 0.032064,
     "end_time": "2022-12-02T21:49:05.875012",
     "exception": false,
     "start_time": "2022-12-02T21:49:05.842948",
     "status": "completed"
    },
    "tags": [
     "parameters"
    ]
   },
   "outputs": [],
   "source": [
    "# a cohort name (it could be something like UK_BIOBANK, etc)\n",
    "COHORT_NAME = None\n",
    "\n",
    "# reference panel such as 1000G or GTEX_V8\n",
    "REFERENCE_PANEL = \"GTEX_V8\"\n",
    "\n",
    "# predictions models such as MASHR or ELASTIC_NET\n",
    "EQTL_MODEL = \"MASHR\"\n",
    "\n",
    "# a string with a path pointing to an imputed GWAS\n",
    "GWAS_FILE = None\n",
    "\n",
    "# a string with a path pointing where S-PrediXcan results (tissue-specific are located\n",
    "SPREDIXCAN_FOLDER = None\n",
    "\n",
    "# an f-string with one placeholder {tissue}\n",
    "SPREDIXCAN_FILE_PATTERN = None\n",
    "\n",
    "# a string with a path pointing to an S-MultiXcan result\n",
    "SMULTIXCAN_FILE = None\n",
    "\n",
    "# output dir\n",
    "OUTPUT_DIR_BASE = None"
   ]
  },
  {
   "cell_type": "code",
   "execution_count": 4,
   "id": "a87d1ae4",
   "metadata": {
    "execution": {
     "iopub.execute_input": "2022-12-02T21:49:05.910955Z",
     "iopub.status.busy": "2022-12-02T21:49:05.910522Z",
     "iopub.status.idle": "2022-12-02T21:49:05.924637Z",
     "shell.execute_reply": "2022-12-02T21:49:05.924158Z"
    },
    "papermill": {
     "duration": 0.032779,
     "end_time": "2022-12-02T21:49:05.925667",
     "exception": false,
     "start_time": "2022-12-02T21:49:05.892888",
     "status": "completed"
    },
    "tags": [
     "injected-parameters"
    ]
   },
   "outputs": [],
   "source": [
    "# Parameters\n",
    "PHENOPLIER_NOTEBOOK_FILEPATH = \"projects/asthma-copd/nbs/20_gene_corrs/jobs/01-compile_gwas_snps_and_twas_genes.ipynb\"\n",
    "COHORT_NAME = \"aco\"\n",
    "GWAS_FILE = \"/opt/data/projects/asthma-copd/results/final_imputed_gwas/GWAS_ACO_GLM_SNPs_info0.7-harmonized-imputed.txt.gz\"\n",
    "SPREDIXCAN_FOLDER = \"/opt/data/projects/asthma-copd/results/twas/spredixcan\"\n",
    "SPREDIXCAN_FILE_PATTERN = \"GWAS_ACO_GLM_SNPs_info0.7-gtex_v8-mashr-{tissue}.csv\"\n",
    "SMULTIXCAN_FILE = \"/opt/data/projects/asthma-copd/results/twas/smultixcan/GWAS_ACO_GLM_SNPs_info0.7-gtex_v8-mashr-smultixcan.txt\"\n",
    "OUTPUT_DIR_BASE = \"/opt/data/projects/asthma-copd/results/gls_phenoplier\"\n"
   ]
  },
  {
   "cell_type": "code",
   "execution_count": 5,
   "id": "8fe24bef",
   "metadata": {
    "execution": {
     "iopub.execute_input": "2022-12-02T21:49:05.944018Z",
     "iopub.status.busy": "2022-12-02T21:49:05.943842Z",
     "iopub.status.idle": "2022-12-02T21:49:05.967346Z",
     "shell.execute_reply": "2022-12-02T21:49:05.966780Z"
    },
    "papermill": {
     "duration": 0.033939,
     "end_time": "2022-12-02T21:49:05.968303",
     "exception": false,
     "start_time": "2022-12-02T21:49:05.934364",
     "status": "completed"
    },
    "tags": []
   },
   "outputs": [
    {
     "data": {
      "text/plain": [
       "'Cohort name: aco'"
      ]
     },
     "metadata": {},
     "output_type": "display_data"
    }
   ],
   "source": [
    "assert COHORT_NAME is not None and len(COHORT_NAME) > 0, \"A cohort name must be given\"\n",
    "\n",
    "COHORT_NAME = COHORT_NAME.lower()\n",
    "display(f\"Cohort name: {COHORT_NAME}\")"
   ]
  },
  {
   "cell_type": "code",
   "execution_count": 6,
   "id": "f53ba19b-0f93-4fa2-a047-63b375939d1a",
   "metadata": {
    "execution": {
     "iopub.execute_input": "2022-12-02T21:49:05.986846Z",
     "iopub.status.busy": "2022-12-02T21:49:05.986427Z",
     "iopub.status.idle": "2022-12-02T21:49:06.005173Z",
     "shell.execute_reply": "2022-12-02T21:49:06.004563Z"
    },
    "papermill": {
     "duration": 0.028988,
     "end_time": "2022-12-02T21:49:06.006139",
     "exception": false,
     "start_time": "2022-12-02T21:49:05.977151",
     "status": "completed"
    },
    "tags": []
   },
   "outputs": [
    {
     "data": {
      "text/plain": [
       "'Reference panel: GTEX_V8'"
      ]
     },
     "metadata": {},
     "output_type": "display_data"
    }
   ],
   "source": [
    "assert (\n",
    "    REFERENCE_PANEL is not None and len(REFERENCE_PANEL) > 0\n",
    "), \"A reference panel must be given\"\n",
    "\n",
    "display(f\"Reference panel: {REFERENCE_PANEL}\")"
   ]
  },
  {
   "cell_type": "code",
   "execution_count": 7,
   "id": "7a970044-2d34-4e5b-a850-eff44079afe8",
   "metadata": {
    "execution": {
     "iopub.execute_input": "2022-12-02T21:49:06.025290Z",
     "iopub.status.busy": "2022-12-02T21:49:06.024995Z",
     "iopub.status.idle": "2022-12-02T21:49:06.048579Z",
     "shell.execute_reply": "2022-12-02T21:49:06.047762Z"
    },
    "papermill": {
     "duration": 0.034725,
     "end_time": "2022-12-02T21:49:06.050203",
     "exception": false,
     "start_time": "2022-12-02T21:49:06.015478",
     "status": "completed"
    },
    "tags": []
   },
   "outputs": [
    {
     "data": {
      "text/plain": [
       "'GWAS file path: /opt/data/projects/asthma-copd/results/final_imputed_gwas/GWAS_ACO_GLM_SNPs_info0.7-harmonized-imputed.txt.gz'"
      ]
     },
     "metadata": {},
     "output_type": "display_data"
    }
   ],
   "source": [
    "assert GWAS_FILE is not None and len(GWAS_FILE) > 0, \"A GWAS file path must be given\"\n",
    "GWAS_FILE = Path(GWAS_FILE).resolve()\n",
    "assert GWAS_FILE.exists(), \"GWAS file does not exist\"\n",
    "\n",
    "display(f\"GWAS file path: {str(GWAS_FILE)}\")"
   ]
  },
  {
   "cell_type": "code",
   "execution_count": 8,
   "id": "552a7f63-a18c-4d3e-bb6a-94f99b431291",
   "metadata": {
    "execution": {
     "iopub.execute_input": "2022-12-02T21:49:06.088764Z",
     "iopub.status.busy": "2022-12-02T21:49:06.088352Z",
     "iopub.status.idle": "2022-12-02T21:49:06.110321Z",
     "shell.execute_reply": "2022-12-02T21:49:06.109707Z"
    },
    "papermill": {
     "duration": 0.042524,
     "end_time": "2022-12-02T21:49:06.111903",
     "exception": false,
     "start_time": "2022-12-02T21:49:06.069379",
     "status": "completed"
    },
    "tags": []
   },
   "outputs": [
    {
     "data": {
      "text/plain": [
       "'S-PrediXcan folder path: /opt/data/projects/asthma-copd/results/twas/spredixcan'"
      ]
     },
     "metadata": {},
     "output_type": "display_data"
    }
   ],
   "source": [
    "assert (\n",
    "    SPREDIXCAN_FOLDER is not None and len(SPREDIXCAN_FOLDER) > 0\n",
    "), \"An S-PrediXcan folder path must be given\"\n",
    "SPREDIXCAN_FOLDER = Path(SPREDIXCAN_FOLDER).resolve()\n",
    "assert (\n",
    "    SPREDIXCAN_FOLDER.exists()\n",
    "), f\"S-PrediXcan folder does not exist: {str(SPREDIXCAN_FOLDER)}\"\n",
    "\n",
    "display(f\"S-PrediXcan folder path: {str(SPREDIXCAN_FOLDER)}\")"
   ]
  },
  {
   "cell_type": "code",
   "execution_count": 9,
   "id": "6e2000dc-f1dc-4db8-93d5-9a7209a2e121",
   "metadata": {
    "execution": {
     "iopub.execute_input": "2022-12-02T21:49:06.151624Z",
     "iopub.status.busy": "2022-12-02T21:49:06.151238Z",
     "iopub.status.idle": "2022-12-02T21:49:06.171086Z",
     "shell.execute_reply": "2022-12-02T21:49:06.170490Z"
    },
    "papermill": {
     "duration": 0.039989,
     "end_time": "2022-12-02T21:49:06.172584",
     "exception": false,
     "start_time": "2022-12-02T21:49:06.132595",
     "status": "completed"
    },
    "tags": []
   },
   "outputs": [
    {
     "data": {
      "text/plain": [
       "'S-PrediXcan file template: GWAS_ACO_GLM_SNPs_info0.7-gtex_v8-mashr-{tissue}.csv'"
      ]
     },
     "metadata": {},
     "output_type": "display_data"
    }
   ],
   "source": [
    "assert (\n",
    "    SPREDIXCAN_FILE_PATTERN is not None and len(SPREDIXCAN_FILE_PATTERN) > 0\n",
    "), \"An S-PrediXcan file pattern must be given\"\n",
    "assert (\n",
    "    \"{tissue}\" in SPREDIXCAN_FILE_PATTERN\n",
    "), \"S-PrediXcan file pattern must have a '{tissue}' placeholder\"\n",
    "\n",
    "display(f\"S-PrediXcan file template: {SPREDIXCAN_FILE_PATTERN}\")"
   ]
  },
  {
   "cell_type": "code",
   "execution_count": 10,
   "id": "f5a5aa9d-c6f3-4fb5-9351-37382b6e67bc",
   "metadata": {
    "execution": {
     "iopub.execute_input": "2022-12-02T21:49:06.214218Z",
     "iopub.status.busy": "2022-12-02T21:49:06.213628Z",
     "iopub.status.idle": "2022-12-02T21:49:06.232512Z",
     "shell.execute_reply": "2022-12-02T21:49:06.231949Z"
    },
    "papermill": {
     "duration": 0.043385,
     "end_time": "2022-12-02T21:49:06.233602",
     "exception": false,
     "start_time": "2022-12-02T21:49:06.190217",
     "status": "completed"
    },
    "tags": []
   },
   "outputs": [
    {
     "data": {
      "text/plain": [
       "'S-MultiXcan file path: /opt/data/projects/asthma-copd/results/twas/smultixcan/GWAS_ACO_GLM_SNPs_info0.7-gtex_v8-mashr-smultixcan.txt'"
      ]
     },
     "metadata": {},
     "output_type": "display_data"
    }
   ],
   "source": [
    "assert (\n",
    "    SMULTIXCAN_FILE is not None and len(SMULTIXCAN_FILE) > 0\n",
    "), \"An S-MultiXcan result file path must be given\"\n",
    "SMULTIXCAN_FILE = Path(SMULTIXCAN_FILE).resolve()\n",
    "assert (\n",
    "    SMULTIXCAN_FILE.exists()\n",
    "), f\"S-MultiXcan result file does not exist: {str(SMULTIXCAN_FILE)}\"\n",
    "\n",
    "display(f\"S-MultiXcan file path: {str(SMULTIXCAN_FILE)}\")"
   ]
  },
  {
   "cell_type": "code",
   "execution_count": 11,
   "id": "0723dc2f-34d1-407c-a55b-d6d13c55d63d",
   "metadata": {
    "execution": {
     "iopub.execute_input": "2022-12-02T21:49:06.255017Z",
     "iopub.status.busy": "2022-12-02T21:49:06.254772Z",
     "iopub.status.idle": "2022-12-02T21:49:06.273731Z",
     "shell.execute_reply": "2022-12-02T21:49:06.273108Z"
    },
    "papermill": {
     "duration": 0.031009,
     "end_time": "2022-12-02T21:49:06.274606",
     "exception": false,
     "start_time": "2022-12-02T21:49:06.243597",
     "status": "completed"
    },
    "tags": []
   },
   "outputs": [
    {
     "data": {
      "text/plain": [
       "'eQTL model: MASHR'"
      ]
     },
     "metadata": {},
     "output_type": "display_data"
    }
   ],
   "source": [
    "assert (\n",
    "    EQTL_MODEL is not None and len(EQTL_MODEL) > 0\n",
    "), \"A prediction/eQTL model must be given\"\n",
    "\n",
    "display(f\"eQTL model: {EQTL_MODEL}\")"
   ]
  },
  {
   "cell_type": "code",
   "execution_count": 12,
   "id": "46b9ec52-9c96-4062-b57a-783dfeea33c4",
   "metadata": {
    "execution": {
     "iopub.execute_input": "2022-12-02T21:49:06.294217Z",
     "iopub.status.busy": "2022-12-02T21:49:06.293738Z",
     "iopub.status.idle": "2022-12-02T21:49:06.310891Z",
     "shell.execute_reply": "2022-12-02T21:49:06.310373Z"
    },
    "papermill": {
     "duration": 0.027691,
     "end_time": "2022-12-02T21:49:06.311785",
     "exception": false,
     "start_time": "2022-12-02T21:49:06.284094",
     "status": "completed"
    },
    "tags": []
   },
   "outputs": [
    {
     "data": {
      "text/plain": [
       "'Using output dir base: /opt/data/projects/asthma-copd/results/gls_phenoplier/gene_corrs/aco'"
      ]
     },
     "metadata": {},
     "output_type": "display_data"
    }
   ],
   "source": [
    "assert (\n",
    "    OUTPUT_DIR_BASE is not None and len(OUTPUT_DIR_BASE) > 0\n",
    "), \"Output directory path must be given\"\n",
    "\n",
    "OUTPUT_DIR_BASE = (Path(OUTPUT_DIR_BASE) / \"gene_corrs\" / COHORT_NAME).resolve()\n",
    "\n",
    "OUTPUT_DIR_BASE.mkdir(parents=True, exist_ok=True)\n",
    "\n",
    "display(f\"Using output dir base: {OUTPUT_DIR_BASE}\")"
   ]
  },
  {
   "cell_type": "markdown",
   "id": "b6ebb422-8204-494b-8c72-360a71ce9863",
   "metadata": {
    "papermill": {
     "duration": 0.009245,
     "end_time": "2022-12-02T21:49:06.330292",
     "exception": false,
     "start_time": "2022-12-02T21:49:06.321047",
     "status": "completed"
    },
    "tags": []
   },
   "source": [
    "# Load MultiPLIER Z genes"
   ]
  },
  {
   "cell_type": "code",
   "execution_count": 13,
   "id": "c48ef527",
   "metadata": {
    "execution": {
     "iopub.execute_input": "2022-12-02T21:49:06.349602Z",
     "iopub.status.busy": "2022-12-02T21:49:06.349396Z",
     "iopub.status.idle": "2022-12-02T21:49:06.398257Z",
     "shell.execute_reply": "2022-12-02T21:49:06.397632Z"
    },
    "papermill": {
     "duration": 0.05968,
     "end_time": "2022-12-02T21:49:06.399130",
     "exception": false,
     "start_time": "2022-12-02T21:49:06.339450",
     "status": "completed"
    },
    "tags": []
   },
   "outputs": [],
   "source": [
    "multiplier_z_genes = pd.read_pickle(\n",
    "    conf.MULTIPLIER[\"MODEL_Z_MATRIX_FILE\"]\n",
    ").index.tolist()"
   ]
  },
  {
   "cell_type": "code",
   "execution_count": 14,
   "id": "0a4ecbd9",
   "metadata": {
    "execution": {
     "iopub.execute_input": "2022-12-02T21:49:06.418984Z",
     "iopub.status.busy": "2022-12-02T21:49:06.418585Z",
     "iopub.status.idle": "2022-12-02T21:49:06.435863Z",
     "shell.execute_reply": "2022-12-02T21:49:06.435290Z"
    },
    "papermill": {
     "duration": 0.028375,
     "end_time": "2022-12-02T21:49:06.436824",
     "exception": false,
     "start_time": "2022-12-02T21:49:06.408449",
     "status": "completed"
    },
    "tags": []
   },
   "outputs": [
    {
     "data": {
      "text/plain": [
       "6750"
      ]
     },
     "execution_count": 14,
     "metadata": {},
     "output_type": "execute_result"
    }
   ],
   "source": [
    "len(multiplier_z_genes)"
   ]
  },
  {
   "cell_type": "code",
   "execution_count": 15,
   "id": "a18ce359-0759-4260-ae6f-053e8c0041b7",
   "metadata": {
    "execution": {
     "iopub.execute_input": "2022-12-02T21:49:06.457019Z",
     "iopub.status.busy": "2022-12-02T21:49:06.456616Z",
     "iopub.status.idle": "2022-12-02T21:49:06.473728Z",
     "shell.execute_reply": "2022-12-02T21:49:06.473131Z"
    },
    "papermill": {
     "duration": 0.027809,
     "end_time": "2022-12-02T21:49:06.474566",
     "exception": false,
     "start_time": "2022-12-02T21:49:06.446757",
     "status": "completed"
    },
    "tags": []
   },
   "outputs": [],
   "source": [
    "assert len(multiplier_z_genes) == len(set(multiplier_z_genes))"
   ]
  },
  {
   "cell_type": "code",
   "execution_count": 16,
   "id": "115e8864",
   "metadata": {
    "execution": {
     "iopub.execute_input": "2022-12-02T21:49:06.494574Z",
     "iopub.status.busy": "2022-12-02T21:49:06.494147Z",
     "iopub.status.idle": "2022-12-02T21:49:06.511482Z",
     "shell.execute_reply": "2022-12-02T21:49:06.510920Z"
    },
    "papermill": {
     "duration": 0.028086,
     "end_time": "2022-12-02T21:49:06.512404",
     "exception": false,
     "start_time": "2022-12-02T21:49:06.484318",
     "status": "completed"
    },
    "tags": []
   },
   "outputs": [
    {
     "data": {
      "text/plain": [
       "['GAS6', 'MMP14', 'DSP', 'MARCKSL1', 'SPARC']"
      ]
     },
     "execution_count": 16,
     "metadata": {},
     "output_type": "execute_result"
    }
   ],
   "source": [
    "multiplier_z_genes[:5]"
   ]
  },
  {
   "cell_type": "markdown",
   "id": "7bed0ce0-e7c7-4300-9a61-5412450b1904",
   "metadata": {
    "papermill": {
     "duration": 0.009232,
     "end_time": "2022-12-02T21:49:06.531329",
     "exception": false,
     "start_time": "2022-12-02T21:49:06.522097",
     "status": "completed"
    },
    "tags": []
   },
   "source": [
    "# GWAS"
   ]
  },
  {
   "cell_type": "code",
   "execution_count": 17,
   "id": "331e5691-c014-43e4-b94c-060c64d329df",
   "metadata": {
    "execution": {
     "iopub.execute_input": "2022-12-02T21:49:06.551081Z",
     "iopub.status.busy": "2022-12-02T21:49:06.550693Z",
     "iopub.status.idle": "2022-12-02T21:49:06.573631Z",
     "shell.execute_reply": "2022-12-02T21:49:06.572991Z"
    },
    "papermill": {
     "duration": 0.033939,
     "end_time": "2022-12-02T21:49:06.574543",
     "exception": false,
     "start_time": "2022-12-02T21:49:06.540604",
     "status": "completed"
    },
    "tags": []
   },
   "outputs": [],
   "source": [
    "gwas_file_columns = pd.read_csv(GWAS_FILE, sep=\"\\t\", nrows=2).columns\n",
    "\n",
    "assert (\n",
    "    \"panel_variant_id\" in gwas_file_columns\n",
    "), \"The GWAS file must be the final imputed one using the TWAS imputation tools with column 'panel_variant_id'\"\n",
    "\n",
    "assert (\n",
    "    \"pvalue\" in gwas_file_columns\n",
    "), \"The GWAS file must be the final imputed one using the TWAS imputation tools with column 'pvalue'\"\n",
    "\n",
    "assert (\n",
    "    \"zscore\" in gwas_file_columns\n",
    "), \"The GWAS file must be the final imputed one using the TWAS imputation tools with column 'zscore'\""
   ]
  },
  {
   "cell_type": "code",
   "execution_count": 18,
   "id": "8d419629-8f4d-4c83-bed3-cfc071a58090",
   "metadata": {
    "execution": {
     "iopub.execute_input": "2022-12-02T21:49:06.594649Z",
     "iopub.status.busy": "2022-12-02T21:49:06.594145Z",
     "iopub.status.idle": "2022-12-02T21:49:16.167641Z",
     "shell.execute_reply": "2022-12-02T21:49:16.167000Z"
    },
    "papermill": {
     "duration": 9.585328,
     "end_time": "2022-12-02T21:49:16.169490",
     "exception": false,
     "start_time": "2022-12-02T21:49:06.584162",
     "status": "completed"
    },
    "tags": []
   },
   "outputs": [],
   "source": [
    "gwas_data = pd.read_csv(\n",
    "    GWAS_FILE,\n",
    "    sep=\"\\t\",\n",
    "    usecols=[\"panel_variant_id\", \"pvalue\", \"zscore\"],\n",
    ")"
   ]
  },
  {
   "cell_type": "code",
   "execution_count": 19,
   "id": "3f4e814e-6b41-407e-9099-86795eec6ed9",
   "metadata": {
    "execution": {
     "iopub.execute_input": "2022-12-02T21:49:16.206399Z",
     "iopub.status.busy": "2022-12-02T21:49:16.206276Z",
     "iopub.status.idle": "2022-12-02T21:49:16.217564Z",
     "shell.execute_reply": "2022-12-02T21:49:16.217039Z"
    },
    "papermill": {
     "duration": 0.031047,
     "end_time": "2022-12-02T21:49:16.218942",
     "exception": false,
     "start_time": "2022-12-02T21:49:16.187895",
     "status": "completed"
    },
    "tags": []
   },
   "outputs": [
    {
     "data": {
      "text/plain": [
       "(8568681, 3)"
      ]
     },
     "execution_count": 19,
     "metadata": {},
     "output_type": "execute_result"
    }
   ],
   "source": [
    "gwas_data.shape"
   ]
  },
  {
   "cell_type": "code",
   "execution_count": 20,
   "id": "b4a906e9-c80a-47fc-9d73-5adb046f8b76",
   "metadata": {
    "execution": {
     "iopub.execute_input": "2022-12-02T21:49:16.256223Z",
     "iopub.status.busy": "2022-12-02T21:49:16.256005Z",
     "iopub.status.idle": "2022-12-02T21:49:16.278156Z",
     "shell.execute_reply": "2022-12-02T21:49:16.277547Z"
    },
    "papermill": {
     "duration": 0.042278,
     "end_time": "2022-12-02T21:49:16.279614",
     "exception": false,
     "start_time": "2022-12-02T21:49:16.237336",
     "status": "completed"
    },
    "tags": []
   },
   "outputs": [
    {
     "data": {
      "text/html": [
       "<div>\n",
       "<style scoped>\n",
       "    .dataframe tbody tr th:only-of-type {\n",
       "        vertical-align: middle;\n",
       "    }\n",
       "\n",
       "    .dataframe tbody tr th {\n",
       "        vertical-align: top;\n",
       "    }\n",
       "\n",
       "    .dataframe thead th {\n",
       "        text-align: right;\n",
       "    }\n",
       "</style>\n",
       "<table border=\"1\" class=\"dataframe\">\n",
       "  <thead>\n",
       "    <tr style=\"text-align: right;\">\n",
       "      <th></th>\n",
       "      <th>panel_variant_id</th>\n",
       "      <th>zscore</th>\n",
       "      <th>pvalue</th>\n",
       "    </tr>\n",
       "  </thead>\n",
       "  <tbody>\n",
       "    <tr>\n",
       "      <th>0</th>\n",
       "      <td>chr1_54490_G_A_b38</td>\n",
       "      <td>-0.871192</td>\n",
       "      <td>0.383649</td>\n",
       "    </tr>\n",
       "    <tr>\n",
       "      <th>1</th>\n",
       "      <td>chr1_87021_T_C_b38</td>\n",
       "      <td>-0.727002</td>\n",
       "      <td>0.467225</td>\n",
       "    </tr>\n",
       "    <tr>\n",
       "      <th>2</th>\n",
       "      <td>chr1_263722_C_G_b38</td>\n",
       "      <td>0.976081</td>\n",
       "      <td>0.329024</td>\n",
       "    </tr>\n",
       "    <tr>\n",
       "      <th>3</th>\n",
       "      <td>chr1_594402_C_T_b38</td>\n",
       "      <td>1.335924</td>\n",
       "      <td>0.181574</td>\n",
       "    </tr>\n",
       "    <tr>\n",
       "      <th>4</th>\n",
       "      <td>chr1_630555_C_T_b38</td>\n",
       "      <td>0.853461</td>\n",
       "      <td>0.393403</td>\n",
       "    </tr>\n",
       "  </tbody>\n",
       "</table>\n",
       "</div>"
      ],
      "text/plain": [
       "      panel_variant_id    zscore    pvalue\n",
       "0   chr1_54490_G_A_b38 -0.871192  0.383649\n",
       "1   chr1_87021_T_C_b38 -0.727002  0.467225\n",
       "2  chr1_263722_C_G_b38  0.976081  0.329024\n",
       "3  chr1_594402_C_T_b38  1.335924  0.181574\n",
       "4  chr1_630555_C_T_b38  0.853461  0.393403"
      ]
     },
     "execution_count": 20,
     "metadata": {},
     "output_type": "execute_result"
    }
   ],
   "source": [
    "gwas_data.head()"
   ]
  },
  {
   "cell_type": "code",
   "execution_count": 21,
   "id": "033c24fb-9c60-4ffd-929e-b0e6089820ae",
   "metadata": {
    "execution": {
     "iopub.execute_input": "2022-12-02T21:49:16.317686Z",
     "iopub.status.busy": "2022-12-02T21:49:16.317208Z",
     "iopub.status.idle": "2022-12-02T21:49:17.267027Z",
     "shell.execute_reply": "2022-12-02T21:49:17.266379Z"
    },
    "papermill": {
     "duration": 0.970102,
     "end_time": "2022-12-02T21:49:17.268492",
     "exception": false,
     "start_time": "2022-12-02T21:49:16.298390",
     "status": "completed"
    },
    "tags": []
   },
   "outputs": [
    {
     "data": {
      "text/plain": [
       "(8561476, 3)"
      ]
     },
     "execution_count": 21,
     "metadata": {},
     "output_type": "execute_result"
    }
   ],
   "source": [
    "gwas_data.dropna().shape"
   ]
  },
  {
   "cell_type": "code",
   "execution_count": 22,
   "id": "28232ce5-0afd-464e-9be3-64c3a68c2b25",
   "metadata": {
    "execution": {
     "iopub.execute_input": "2022-12-02T21:49:17.307378Z",
     "iopub.status.busy": "2022-12-02T21:49:17.306751Z",
     "iopub.status.idle": "2022-12-02T21:49:18.137701Z",
     "shell.execute_reply": "2022-12-02T21:49:18.137235Z"
    },
    "papermill": {
     "duration": 0.85196,
     "end_time": "2022-12-02T21:49:18.139437",
     "exception": false,
     "start_time": "2022-12-02T21:49:17.287477",
     "status": "completed"
    },
    "tags": []
   },
   "outputs": [],
   "source": [
    "# remove SNPs with no results\n",
    "gwas_data = gwas_data.dropna()"
   ]
  },
  {
   "cell_type": "code",
   "execution_count": 23,
   "id": "d9a6c31f-eedd-43e5-b762-5a9663be1b77",
   "metadata": {
    "execution": {
     "iopub.execute_input": "2022-12-02T21:49:18.177601Z",
     "iopub.status.busy": "2022-12-02T21:49:18.177475Z",
     "iopub.status.idle": "2022-12-02T21:49:18.188371Z",
     "shell.execute_reply": "2022-12-02T21:49:18.188021Z"
    },
    "papermill": {
     "duration": 0.03153,
     "end_time": "2022-12-02T21:49:18.189666",
     "exception": false,
     "start_time": "2022-12-02T21:49:18.158136",
     "status": "completed"
    },
    "tags": []
   },
   "outputs": [
    {
     "data": {
      "text/plain": [
       "(8561476, 3)"
      ]
     },
     "execution_count": 23,
     "metadata": {},
     "output_type": "execute_result"
    }
   ],
   "source": [
    "gwas_data.shape"
   ]
  },
  {
   "cell_type": "markdown",
   "id": "8da344de-2aa5-48a9-98ec-e8c3397ae7e6",
   "metadata": {
    "papermill": {
     "duration": 0.018685,
     "end_time": "2022-12-02T21:49:18.227040",
     "exception": false,
     "start_time": "2022-12-02T21:49:18.208355",
     "status": "completed"
    },
    "tags": []
   },
   "source": [
    "## Save GWAS variants"
   ]
  },
  {
   "cell_type": "code",
   "execution_count": 24,
   "id": "ac11fb33-ea3c-4d5c-a90b-0ceebdac43d3",
   "metadata": {
    "execution": {
     "iopub.execute_input": "2022-12-02T21:49:18.253559Z",
     "iopub.status.busy": "2022-12-02T21:49:18.253358Z",
     "iopub.status.idle": "2022-12-02T21:49:18.272787Z",
     "shell.execute_reply": "2022-12-02T21:49:18.272301Z"
    },
    "papermill": {
     "duration": 0.030579,
     "end_time": "2022-12-02T21:49:18.273667",
     "exception": false,
     "start_time": "2022-12-02T21:49:18.243088",
     "status": "completed"
    },
    "tags": []
   },
   "outputs": [
    {
     "data": {
      "text/html": [
       "<div>\n",
       "<style scoped>\n",
       "    .dataframe tbody tr th:only-of-type {\n",
       "        vertical-align: middle;\n",
       "    }\n",
       "\n",
       "    .dataframe tbody tr th {\n",
       "        vertical-align: top;\n",
       "    }\n",
       "\n",
       "    .dataframe thead th {\n",
       "        text-align: right;\n",
       "    }\n",
       "</style>\n",
       "<table border=\"1\" class=\"dataframe\">\n",
       "  <thead>\n",
       "    <tr style=\"text-align: right;\">\n",
       "      <th></th>\n",
       "      <th>panel_variant_id</th>\n",
       "      <th>zscore</th>\n",
       "      <th>pvalue</th>\n",
       "    </tr>\n",
       "  </thead>\n",
       "  <tbody>\n",
       "    <tr>\n",
       "      <th>0</th>\n",
       "      <td>chr1_54490_G_A_b38</td>\n",
       "      <td>-0.871192</td>\n",
       "      <td>0.383649</td>\n",
       "    </tr>\n",
       "    <tr>\n",
       "      <th>1</th>\n",
       "      <td>chr1_87021_T_C_b38</td>\n",
       "      <td>-0.727002</td>\n",
       "      <td>0.467225</td>\n",
       "    </tr>\n",
       "    <tr>\n",
       "      <th>2</th>\n",
       "      <td>chr1_263722_C_G_b38</td>\n",
       "      <td>0.976081</td>\n",
       "      <td>0.329024</td>\n",
       "    </tr>\n",
       "    <tr>\n",
       "      <th>3</th>\n",
       "      <td>chr1_594402_C_T_b38</td>\n",
       "      <td>1.335924</td>\n",
       "      <td>0.181574</td>\n",
       "    </tr>\n",
       "    <tr>\n",
       "      <th>4</th>\n",
       "      <td>chr1_630555_C_T_b38</td>\n",
       "      <td>0.853461</td>\n",
       "      <td>0.393403</td>\n",
       "    </tr>\n",
       "  </tbody>\n",
       "</table>\n",
       "</div>"
      ],
      "text/plain": [
       "      panel_variant_id    zscore    pvalue\n",
       "0   chr1_54490_G_A_b38 -0.871192  0.383649\n",
       "1   chr1_87021_T_C_b38 -0.727002  0.467225\n",
       "2  chr1_263722_C_G_b38  0.976081  0.329024\n",
       "3  chr1_594402_C_T_b38  1.335924  0.181574\n",
       "4  chr1_630555_C_T_b38  0.853461  0.393403"
      ]
     },
     "execution_count": 24,
     "metadata": {},
     "output_type": "execute_result"
    }
   ],
   "source": [
    "gwas_data.head()"
   ]
  },
  {
   "cell_type": "code",
   "execution_count": 25,
   "id": "5f34bb3d-761a-4860-a179-77ea5f5784ad",
   "metadata": {
    "execution": {
     "iopub.execute_input": "2022-12-02T21:49:18.293923Z",
     "iopub.status.busy": "2022-12-02T21:49:18.293725Z",
     "iopub.status.idle": "2022-12-02T21:49:22.150994Z",
     "shell.execute_reply": "2022-12-02T21:49:22.150524Z"
    },
    "papermill": {
     "duration": 3.869152,
     "end_time": "2022-12-02T21:49:22.152503",
     "exception": false,
     "start_time": "2022-12-02T21:49:18.283351",
     "status": "completed"
    },
    "tags": []
   },
   "outputs": [
    {
     "data": {
      "text/plain": [
       "True"
      ]
     },
     "execution_count": 25,
     "metadata": {},
     "output_type": "execute_result"
    }
   ],
   "source": [
    "# in eMERGE's results, some values here are repeated (will be removed later by taking the unique set of variant IDs).\n",
    "gwas_data[\"panel_variant_id\"].is_unique"
   ]
  },
  {
   "cell_type": "code",
   "execution_count": 26,
   "id": "d4f23b2f-01a3-4a45-a2b6-31b245b5778e",
   "metadata": {
    "execution": {
     "iopub.execute_input": "2022-12-02T21:49:22.191486Z",
     "iopub.status.busy": "2022-12-02T21:49:22.191364Z",
     "iopub.status.idle": "2022-12-02T21:49:24.199149Z",
     "shell.execute_reply": "2022-12-02T21:49:24.198692Z"
    },
    "papermill": {
     "duration": 2.028689,
     "end_time": "2022-12-02T21:49:24.200609",
     "exception": false,
     "start_time": "2022-12-02T21:49:22.171920",
     "status": "completed"
    },
    "tags": []
   },
   "outputs": [
    {
     "data": {
      "text/plain": [
       "['chr3_46486440_T_C_b38',\n",
       " 'chr4_73591779_C_T_b38',\n",
       " 'chr2_165709495_A_T_b38',\n",
       " 'chr5_56437171_T_C_b38',\n",
       " 'chr12_82272198_A_G_b38']"
      ]
     },
     "execution_count": 26,
     "metadata": {},
     "output_type": "execute_result"
    }
   ],
   "source": [
    "gwas_variants_ids_set = frozenset(gwas_data[\"panel_variant_id\"])\n",
    "list(gwas_variants_ids_set)[:5]"
   ]
  },
  {
   "cell_type": "code",
   "execution_count": 27,
   "id": "b4a441df-07d7-48dc-be36-cdb3f92be651",
   "metadata": {
    "execution": {
     "iopub.execute_input": "2022-12-02T21:49:24.239574Z",
     "iopub.status.busy": "2022-12-02T21:49:24.239446Z",
     "iopub.status.idle": "2022-12-02T21:49:41.054240Z",
     "shell.execute_reply": "2022-12-02T21:49:41.053785Z"
    },
    "papermill": {
     "duration": 16.835924,
     "end_time": "2022-12-02T21:49:41.056055",
     "exception": false,
     "start_time": "2022-12-02T21:49:24.220131",
     "status": "completed"
    },
    "tags": []
   },
   "outputs": [],
   "source": [
    "with open(OUTPUT_DIR_BASE / \"gwas_variant_ids.pkl\", \"wb\") as handle:\n",
    "    pickle.dump(gwas_variants_ids_set, handle, protocol=pickle.HIGHEST_PROTOCOL)"
   ]
  },
  {
   "cell_type": "markdown",
   "id": "abcc4b3d",
   "metadata": {
    "papermill": {
     "duration": 0.024952,
     "end_time": "2022-12-02T21:49:41.101269",
     "exception": false,
     "start_time": "2022-12-02T21:49:41.076317",
     "status": "completed"
    },
    "tags": []
   },
   "source": [
    "# TWAS"
   ]
  },
  {
   "cell_type": "markdown",
   "id": "2fbc7358-0563-4fc6-bc47-a0fbcc5cdfd4",
   "metadata": {
    "papermill": {
     "duration": 0.017647,
     "end_time": "2022-12-02T21:49:41.143557",
     "exception": false,
     "start_time": "2022-12-02T21:49:41.125910",
     "status": "completed"
    },
    "tags": []
   },
   "source": [
    "## Available tissues for eQTL model"
   ]
  },
  {
   "cell_type": "code",
   "execution_count": 28,
   "id": "f32c0a84-030a-436b-b597-852b6150d2ac",
   "metadata": {
    "execution": {
     "iopub.execute_input": "2022-12-02T21:49:41.169517Z",
     "iopub.status.busy": "2022-12-02T21:49:41.169214Z",
     "iopub.status.idle": "2022-12-02T21:49:41.183328Z",
     "shell.execute_reply": "2022-12-02T21:49:41.182797Z"
    },
    "papermill": {
     "duration": 0.027845,
     "end_time": "2022-12-02T21:49:41.184381",
     "exception": false,
     "start_time": "2022-12-02T21:49:41.156536",
     "status": "completed"
    },
    "tags": []
   },
   "outputs": [],
   "source": [
    "prediction_model_tissues = conf.PHENOMEXCAN[\"PREDICTION_MODELS\"][\n",
    "    f\"{EQTL_MODEL}_TISSUES\"\n",
    "].split(\" \")"
   ]
  },
  {
   "cell_type": "code",
   "execution_count": 29,
   "id": "0e760d0e-f23d-4590-abfb-811a43f7c237",
   "metadata": {
    "execution": {
     "iopub.execute_input": "2022-12-02T21:49:41.206571Z",
     "iopub.status.busy": "2022-12-02T21:49:41.206157Z",
     "iopub.status.idle": "2022-12-02T21:49:41.222372Z",
     "shell.execute_reply": "2022-12-02T21:49:41.221799Z"
    },
    "papermill": {
     "duration": 0.028288,
     "end_time": "2022-12-02T21:49:41.223336",
     "exception": false,
     "start_time": "2022-12-02T21:49:41.195048",
     "status": "completed"
    },
    "tags": []
   },
   "outputs": [
    {
     "data": {
      "text/plain": [
       "49"
      ]
     },
     "execution_count": 29,
     "metadata": {},
     "output_type": "execute_result"
    }
   ],
   "source": [
    "len(prediction_model_tissues)"
   ]
  },
  {
   "cell_type": "code",
   "execution_count": 30,
   "id": "fa4d942c-cd67-4b31-9491-585c887c0ee3",
   "metadata": {
    "execution": {
     "iopub.execute_input": "2022-12-02T21:49:41.249347Z",
     "iopub.status.busy": "2022-12-02T21:49:41.248786Z",
     "iopub.status.idle": "2022-12-02T21:49:41.271812Z",
     "shell.execute_reply": "2022-12-02T21:49:41.271292Z"
    },
    "papermill": {
     "duration": 0.05922,
     "end_time": "2022-12-02T21:49:41.294357",
     "exception": false,
     "start_time": "2022-12-02T21:49:41.235137",
     "status": "completed"
    },
    "tags": []
   },
   "outputs": [
    {
     "data": {
      "text/plain": [
       "['Thyroid',\n",
       " 'Artery_Aorta',\n",
       " 'Heart_Atrial_Appendage',\n",
       " 'Liver',\n",
       " 'Heart_Left_Ventricle']"
      ]
     },
     "execution_count": 30,
     "metadata": {},
     "output_type": "execute_result"
    }
   ],
   "source": [
    "prediction_model_tissues[:5]"
   ]
  },
  {
   "cell_type": "markdown",
   "id": "fab4814d-757c-4247-b5e4-891bc4863db7",
   "metadata": {
    "papermill": {
     "duration": 0.010146,
     "end_time": "2022-12-02T21:49:41.315424",
     "exception": false,
     "start_time": "2022-12-02T21:49:41.305278",
     "status": "completed"
    },
    "tags": []
   },
   "source": [
    "## S-MultiXcan results"
   ]
  },
  {
   "cell_type": "code",
   "execution_count": 31,
   "id": "2b73c11e-9aa2-410e-84b4-a70be34d02e4",
   "metadata": {
    "execution": {
     "iopub.execute_input": "2022-12-02T21:49:41.336857Z",
     "iopub.status.busy": "2022-12-02T21:49:41.336565Z",
     "iopub.status.idle": "2022-12-02T21:49:41.377164Z",
     "shell.execute_reply": "2022-12-02T21:49:41.376510Z"
    },
    "papermill": {
     "duration": 0.052126,
     "end_time": "2022-12-02T21:49:41.377962",
     "exception": false,
     "start_time": "2022-12-02T21:49:41.325836",
     "status": "completed"
    },
    "tags": []
   },
   "outputs": [],
   "source": [
    "smultixcan_results = pd.read_csv(\n",
    "    SMULTIXCAN_FILE, sep=\"\\t\", usecols=[\"gene\", \"gene_name\", \"pvalue\", \"n\", \"n_indep\"]\n",
    ")"
   ]
  },
  {
   "cell_type": "code",
   "execution_count": 32,
   "id": "8b5abebd-baab-4188-9e3d-655ebbe32401",
   "metadata": {
    "execution": {
     "iopub.execute_input": "2022-12-02T21:49:41.399190Z",
     "iopub.status.busy": "2022-12-02T21:49:41.398940Z",
     "iopub.status.idle": "2022-12-02T21:49:41.410632Z",
     "shell.execute_reply": "2022-12-02T21:49:41.410231Z"
    },
    "papermill": {
     "duration": 0.023108,
     "end_time": "2022-12-02T21:49:41.411402",
     "exception": false,
     "start_time": "2022-12-02T21:49:41.388294",
     "status": "completed"
    },
    "tags": []
   },
   "outputs": [
    {
     "data": {
      "text/plain": [
       "(22321, 5)"
      ]
     },
     "execution_count": 32,
     "metadata": {},
     "output_type": "execute_result"
    }
   ],
   "source": [
    "smultixcan_results.shape"
   ]
  },
  {
   "cell_type": "code",
   "execution_count": 33,
   "id": "c65e233f-9ef6-4883-9386-7abf1d6d1cbd",
   "metadata": {
    "execution": {
     "iopub.execute_input": "2022-12-02T21:49:41.432800Z",
     "iopub.status.busy": "2022-12-02T21:49:41.432546Z",
     "iopub.status.idle": "2022-12-02T21:49:41.448241Z",
     "shell.execute_reply": "2022-12-02T21:49:41.447775Z"
    },
    "papermill": {
     "duration": 0.027293,
     "end_time": "2022-12-02T21:49:41.449128",
     "exception": false,
     "start_time": "2022-12-02T21:49:41.421835",
     "status": "completed"
    },
    "tags": []
   },
   "outputs": [],
   "source": [
    "smultixcan_results = smultixcan_results.dropna()"
   ]
  },
  {
   "cell_type": "code",
   "execution_count": 34,
   "id": "57d2d311-4a42-4725-9e37-b124ed13ad33",
   "metadata": {
    "execution": {
     "iopub.execute_input": "2022-12-02T21:49:41.471211Z",
     "iopub.status.busy": "2022-12-02T21:49:41.470620Z",
     "iopub.status.idle": "2022-12-02T21:49:41.489340Z",
     "shell.execute_reply": "2022-12-02T21:49:41.488800Z"
    },
    "papermill": {
     "duration": 0.030569,
     "end_time": "2022-12-02T21:49:41.490189",
     "exception": false,
     "start_time": "2022-12-02T21:49:41.459620",
     "status": "completed"
    },
    "tags": []
   },
   "outputs": [
    {
     "data": {
      "text/plain": [
       "(22318, 5)"
      ]
     },
     "execution_count": 34,
     "metadata": {},
     "output_type": "execute_result"
    }
   ],
   "source": [
    "smultixcan_results.shape"
   ]
  },
  {
   "cell_type": "code",
   "execution_count": 35,
   "id": "a36b5b59-f4b6-45bf-b241-ffc9671b357f",
   "metadata": {
    "execution": {
     "iopub.execute_input": "2022-12-02T21:49:41.512278Z",
     "iopub.status.busy": "2022-12-02T21:49:41.511798Z",
     "iopub.status.idle": "2022-12-02T21:49:41.538704Z",
     "shell.execute_reply": "2022-12-02T21:49:41.538258Z"
    },
    "papermill": {
     "duration": 0.038872,
     "end_time": "2022-12-02T21:49:41.539633",
     "exception": false,
     "start_time": "2022-12-02T21:49:41.500761",
     "status": "completed"
    },
    "tags": []
   },
   "outputs": [],
   "source": [
    "smultixcan_results = smultixcan_results.assign(\n",
    "    gene_id=smultixcan_results[\"gene\"].apply(lambda g: g.split(\".\")[0])\n",
    ")"
   ]
  },
  {
   "cell_type": "code",
   "execution_count": 36,
   "id": "c49f62a9-a01a-44af-87da-47d195b0ef7e",
   "metadata": {
    "execution": {
     "iopub.execute_input": "2022-12-02T21:49:41.561578Z",
     "iopub.status.busy": "2022-12-02T21:49:41.561252Z",
     "iopub.status.idle": "2022-12-02T21:49:41.585408Z",
     "shell.execute_reply": "2022-12-02T21:49:41.584659Z"
    },
    "papermill": {
     "duration": 0.036039,
     "end_time": "2022-12-02T21:49:41.586325",
     "exception": false,
     "start_time": "2022-12-02T21:49:41.550286",
     "status": "completed"
    },
    "tags": []
   },
   "outputs": [
    {
     "data": {
      "text/html": [
       "<div>\n",
       "<style scoped>\n",
       "    .dataframe tbody tr th:only-of-type {\n",
       "        vertical-align: middle;\n",
       "    }\n",
       "\n",
       "    .dataframe tbody tr th {\n",
       "        vertical-align: top;\n",
       "    }\n",
       "\n",
       "    .dataframe thead th {\n",
       "        text-align: right;\n",
       "    }\n",
       "</style>\n",
       "<table border=\"1\" class=\"dataframe\">\n",
       "  <thead>\n",
       "    <tr style=\"text-align: right;\">\n",
       "      <th></th>\n",
       "      <th>gene</th>\n",
       "      <th>gene_name</th>\n",
       "      <th>pvalue</th>\n",
       "      <th>n</th>\n",
       "      <th>n_indep</th>\n",
       "      <th>gene_id</th>\n",
       "    </tr>\n",
       "  </thead>\n",
       "  <tbody>\n",
       "    <tr>\n",
       "      <th>0</th>\n",
       "      <td>ENSG00000237541.3</td>\n",
       "      <td>HLA-DQA2</td>\n",
       "      <td>1.692207e-33</td>\n",
       "      <td>45.0</td>\n",
       "      <td>5.0</td>\n",
       "      <td>ENSG00000237541</td>\n",
       "    </tr>\n",
       "    <tr>\n",
       "      <th>1</th>\n",
       "      <td>ENSG00000179344.16</td>\n",
       "      <td>HLA-DQB1</td>\n",
       "      <td>5.343156e-29</td>\n",
       "      <td>49.0</td>\n",
       "      <td>3.0</td>\n",
       "      <td>ENSG00000179344</td>\n",
       "    </tr>\n",
       "    <tr>\n",
       "      <th>2</th>\n",
       "      <td>ENSG00000196735.11</td>\n",
       "      <td>HLA-DQA1</td>\n",
       "      <td>1.919708e-28</td>\n",
       "      <td>44.0</td>\n",
       "      <td>6.0</td>\n",
       "      <td>ENSG00000196735</td>\n",
       "    </tr>\n",
       "    <tr>\n",
       "      <th>3</th>\n",
       "      <td>ENSG00000204290.10</td>\n",
       "      <td>BTNL2</td>\n",
       "      <td>1.414254e-27</td>\n",
       "      <td>21.0</td>\n",
       "      <td>10.0</td>\n",
       "      <td>ENSG00000204290</td>\n",
       "    </tr>\n",
       "    <tr>\n",
       "      <th>4</th>\n",
       "      <td>ENSG00000232629.8</td>\n",
       "      <td>HLA-DQB2</td>\n",
       "      <td>1.371715e-24</td>\n",
       "      <td>41.0</td>\n",
       "      <td>3.0</td>\n",
       "      <td>ENSG00000232629</td>\n",
       "    </tr>\n",
       "  </tbody>\n",
       "</table>\n",
       "</div>"
      ],
      "text/plain": [
       "                 gene gene_name        pvalue     n  n_indep          gene_id\n",
       "0   ENSG00000237541.3  HLA-DQA2  1.692207e-33  45.0      5.0  ENSG00000237541\n",
       "1  ENSG00000179344.16  HLA-DQB1  5.343156e-29  49.0      3.0  ENSG00000179344\n",
       "2  ENSG00000196735.11  HLA-DQA1  1.919708e-28  44.0      6.0  ENSG00000196735\n",
       "3  ENSG00000204290.10     BTNL2  1.414254e-27  21.0     10.0  ENSG00000204290\n",
       "4   ENSG00000232629.8  HLA-DQB2  1.371715e-24  41.0      3.0  ENSG00000232629"
      ]
     },
     "execution_count": 36,
     "metadata": {},
     "output_type": "execute_result"
    }
   ],
   "source": [
    "smultixcan_results.head()"
   ]
  },
  {
   "cell_type": "code",
   "execution_count": 37,
   "id": "9c4c023c-86d6-4c4b-8d57-c2b6b93aaf84",
   "metadata": {
    "execution": {
     "iopub.execute_input": "2022-12-02T21:49:41.608729Z",
     "iopub.status.busy": "2022-12-02T21:49:41.608202Z",
     "iopub.status.idle": "2022-12-02T21:49:41.629769Z",
     "shell.execute_reply": "2022-12-02T21:49:41.629103Z"
    },
    "papermill": {
     "duration": 0.033649,
     "end_time": "2022-12-02T21:49:41.630683",
     "exception": false,
     "start_time": "2022-12-02T21:49:41.597034",
     "status": "completed"
    },
    "tags": []
   },
   "outputs": [],
   "source": [
    "assert smultixcan_results[\"gene_id\"].is_unique"
   ]
  },
  {
   "cell_type": "markdown",
   "id": "1f9939f1-4200-40d9-a8bf-8e4fd68bee48",
   "metadata": {
    "papermill": {
     "duration": 0.010385,
     "end_time": "2022-12-02T21:49:41.651823",
     "exception": false,
     "start_time": "2022-12-02T21:49:41.641438",
     "status": "completed"
    },
    "tags": []
   },
   "source": [
    "### Get common genes with MultiPLIER"
   ]
  },
  {
   "cell_type": "code",
   "execution_count": 38,
   "id": "c820e6cf-6350-45af-b49a-0abd94f570ff",
   "metadata": {
    "execution": {
     "iopub.execute_input": "2022-12-02T21:49:41.674108Z",
     "iopub.status.busy": "2022-12-02T21:49:41.673482Z",
     "iopub.status.idle": "2022-12-02T21:49:41.696511Z",
     "shell.execute_reply": "2022-12-02T21:49:41.695822Z"
    },
    "papermill": {
     "duration": 0.035027,
     "end_time": "2022-12-02T21:49:41.697465",
     "exception": false,
     "start_time": "2022-12-02T21:49:41.662438",
     "status": "completed"
    },
    "tags": []
   },
   "outputs": [],
   "source": [
    "common_genes = set(multiplier_z_genes).intersection(\n",
    "    set(smultixcan_results[\"gene_name\"])\n",
    ")"
   ]
  },
  {
   "cell_type": "code",
   "execution_count": 39,
   "id": "0a7328f9-96c7-4ac6-a9a6-ae4fa121a4cd",
   "metadata": {
    "execution": {
     "iopub.execute_input": "2022-12-02T21:49:41.719989Z",
     "iopub.status.busy": "2022-12-02T21:49:41.719386Z",
     "iopub.status.idle": "2022-12-02T21:49:41.738192Z",
     "shell.execute_reply": "2022-12-02T21:49:41.737552Z"
    },
    "papermill": {
     "duration": 0.030684,
     "end_time": "2022-12-02T21:49:41.739053",
     "exception": false,
     "start_time": "2022-12-02T21:49:41.708369",
     "status": "completed"
    },
    "tags": []
   },
   "outputs": [
    {
     "data": {
      "text/plain": [
       "6444"
      ]
     },
     "execution_count": 39,
     "metadata": {},
     "output_type": "execute_result"
    }
   ],
   "source": [
    "len(common_genes)"
   ]
  },
  {
   "cell_type": "code",
   "execution_count": 40,
   "id": "5b08d362-44c8-4db2-9258-670e2e2a9cc0",
   "metadata": {
    "execution": {
     "iopub.execute_input": "2022-12-02T21:49:41.761101Z",
     "iopub.status.busy": "2022-12-02T21:49:41.760773Z",
     "iopub.status.idle": "2022-12-02T21:49:41.781099Z",
     "shell.execute_reply": "2022-12-02T21:49:41.780426Z"
    },
    "papermill": {
     "duration": 0.032255,
     "end_time": "2022-12-02T21:49:41.781965",
     "exception": false,
     "start_time": "2022-12-02T21:49:41.749710",
     "status": "completed"
    },
    "tags": []
   },
   "outputs": [
    {
     "data": {
      "text/plain": [
       "['A2M', 'AAAS', 'AANAT', 'AARS', 'AARS2']"
      ]
     },
     "execution_count": 40,
     "metadata": {},
     "output_type": "execute_result"
    }
   ],
   "source": [
    "sorted(list(common_genes))[:5]"
   ]
  },
  {
   "cell_type": "markdown",
   "id": "7f51338b-8a75-42c3-a7e5-a0961cefb663",
   "metadata": {
    "papermill": {
     "duration": 0.010522,
     "end_time": "2022-12-02T21:49:41.803104",
     "exception": false,
     "start_time": "2022-12-02T21:49:41.792582",
     "status": "completed"
    },
    "tags": []
   },
   "source": [
    "## Genes info"
   ]
  },
  {
   "cell_type": "code",
   "execution_count": 41,
   "id": "bb932812",
   "metadata": {
    "execution": {
     "iopub.execute_input": "2022-12-02T21:49:41.825141Z",
     "iopub.status.busy": "2022-12-02T21:49:41.824915Z",
     "iopub.status.idle": "2022-12-02T21:49:42.437936Z",
     "shell.execute_reply": "2022-12-02T21:49:42.437535Z"
    },
    "papermill": {
     "duration": 0.62586,
     "end_time": "2022-12-02T21:49:42.439621",
     "exception": false,
     "start_time": "2022-12-02T21:49:41.813761",
     "status": "completed"
    },
    "tags": []
   },
   "outputs": [],
   "source": [
    "multiplier_gene_obj = {\n",
    "    gene_name: Gene(name=gene_name)\n",
    "    for gene_name in common_genes\n",
    "    if gene_name in Gene.GENE_NAME_TO_ID_MAP\n",
    "}"
   ]
  },
  {
   "cell_type": "code",
   "execution_count": 42,
   "id": "cb9d7a45-2b7d-4d10-80dc-212a625b5ae7",
   "metadata": {
    "execution": {
     "iopub.execute_input": "2022-12-02T21:49:42.481694Z",
     "iopub.status.busy": "2022-12-02T21:49:42.481567Z",
     "iopub.status.idle": "2022-12-02T21:49:42.491448Z",
     "shell.execute_reply": "2022-12-02T21:49:42.491117Z"
    },
    "papermill": {
     "duration": 0.032002,
     "end_time": "2022-12-02T21:49:42.492735",
     "exception": false,
     "start_time": "2022-12-02T21:49:42.460733",
     "status": "completed"
    },
    "tags": []
   },
   "outputs": [],
   "source": [
    "# delete common_genes, from now on, genes_info should be used for common genes\n",
    "del common_genes"
   ]
  },
  {
   "cell_type": "code",
   "execution_count": 43,
   "id": "39533214",
   "metadata": {
    "execution": {
     "iopub.execute_input": "2022-12-02T21:49:42.534131Z",
     "iopub.status.busy": "2022-12-02T21:49:42.534014Z",
     "iopub.status.idle": "2022-12-02T21:49:42.543363Z",
     "shell.execute_reply": "2022-12-02T21:49:42.543035Z"
    },
    "papermill": {
     "duration": 0.031166,
     "end_time": "2022-12-02T21:49:42.544610",
     "exception": false,
     "start_time": "2022-12-02T21:49:42.513444",
     "status": "completed"
    },
    "tags": []
   },
   "outputs": [
    {
     "data": {
      "text/plain": [
       "6444"
      ]
     },
     "execution_count": 43,
     "metadata": {},
     "output_type": "execute_result"
    }
   ],
   "source": [
    "len(multiplier_gene_obj)"
   ]
  },
  {
   "cell_type": "code",
   "execution_count": 44,
   "id": "9a5d0b84",
   "metadata": {
    "execution": {
     "iopub.execute_input": "2022-12-02T21:49:42.579896Z",
     "iopub.status.busy": "2022-12-02T21:49:42.579786Z",
     "iopub.status.idle": "2022-12-02T21:49:42.594655Z",
     "shell.execute_reply": "2022-12-02T21:49:42.594031Z"
    },
    "papermill": {
     "duration": 0.030448,
     "end_time": "2022-12-02T21:49:42.595564",
     "exception": false,
     "start_time": "2022-12-02T21:49:42.565116",
     "status": "completed"
    },
    "tags": []
   },
   "outputs": [],
   "source": [
    "assert multiplier_gene_obj[\"GAS6\"].ensembl_id == \"ENSG00000183087\""
   ]
  },
  {
   "cell_type": "code",
   "execution_count": 45,
   "id": "e3ffabc7",
   "metadata": {
    "execution": {
     "iopub.execute_input": "2022-12-02T21:49:42.617771Z",
     "iopub.status.busy": "2022-12-02T21:49:42.617562Z",
     "iopub.status.idle": "2022-12-02T21:49:44.399649Z",
     "shell.execute_reply": "2022-12-02T21:49:44.399255Z"
    },
    "papermill": {
     "duration": 1.79494,
     "end_time": "2022-12-02T21:49:44.401287",
     "exception": false,
     "start_time": "2022-12-02T21:49:42.606347",
     "status": "completed"
    },
    "tags": []
   },
   "outputs": [],
   "source": [
    "_gene_obj = list(multiplier_gene_obj.values())\n",
    "\n",
    "genes_info = pd.DataFrame(\n",
    "    {\n",
    "        \"name\": [g.name for g in _gene_obj],\n",
    "        \"id\": [g.ensembl_id for g in _gene_obj],\n",
    "        \"chr\": [g.chromosome for g in _gene_obj],\n",
    "        \"band\": [g.band for g in _gene_obj],\n",
    "        \"start_position\": [g.get_attribute(\"start_position\") for g in _gene_obj],\n",
    "        \"end_position\": [g.get_attribute(\"end_position\") for g in _gene_obj],\n",
    "    }\n",
    ")"
   ]
  },
  {
   "cell_type": "code",
   "execution_count": 46,
   "id": "00475e72-1cfc-485f-8b4e-1d9cce695f58",
   "metadata": {
    "execution": {
     "iopub.execute_input": "2022-12-02T21:49:44.443975Z",
     "iopub.status.busy": "2022-12-02T21:49:44.443854Z",
     "iopub.status.idle": "2022-12-02T21:49:44.486110Z",
     "shell.execute_reply": "2022-12-02T21:49:44.485733Z"
    },
    "papermill": {
     "duration": 0.064772,
     "end_time": "2022-12-02T21:49:44.487423",
     "exception": false,
     "start_time": "2022-12-02T21:49:44.422651",
     "status": "completed"
    },
    "tags": []
   },
   "outputs": [],
   "source": [
    "genes_info = genes_info.assign(\n",
    "    gene_length=genes_info.apply(\n",
    "        lambda x: x[\"end_position\"] - x[\"start_position\"], axis=1\n",
    "    )\n",
    ")"
   ]
  },
  {
   "cell_type": "code",
   "execution_count": 47,
   "id": "3af1a166-08a0-4333-bc09-b8bc762aa7ef",
   "metadata": {
    "execution": {
     "iopub.execute_input": "2022-12-02T21:49:44.529351Z",
     "iopub.status.busy": "2022-12-02T21:49:44.529213Z",
     "iopub.status.idle": "2022-12-02T21:49:44.541069Z",
     "shell.execute_reply": "2022-12-02T21:49:44.540674Z"
    },
    "papermill": {
     "duration": 0.034099,
     "end_time": "2022-12-02T21:49:44.542320",
     "exception": false,
     "start_time": "2022-12-02T21:49:44.508221",
     "status": "completed"
    },
    "tags": []
   },
   "outputs": [
    {
     "data": {
      "text/plain": [
       "name               object\n",
       "id                 object\n",
       "chr                object\n",
       "band               object\n",
       "start_position    float64\n",
       "end_position      float64\n",
       "gene_length       float64\n",
       "dtype: object"
      ]
     },
     "execution_count": 47,
     "metadata": {},
     "output_type": "execute_result"
    }
   ],
   "source": [
    "genes_info.dtypes"
   ]
  },
  {
   "cell_type": "code",
   "execution_count": 48,
   "id": "08a23f6f-87f6-4072-88c8-010b90a411cd",
   "metadata": {
    "execution": {
     "iopub.execute_input": "2022-12-02T21:49:44.584354Z",
     "iopub.status.busy": "2022-12-02T21:49:44.584220Z",
     "iopub.status.idle": "2022-12-02T21:49:44.607622Z",
     "shell.execute_reply": "2022-12-02T21:49:44.607111Z"
    },
    "papermill": {
     "duration": 0.04505,
     "end_time": "2022-12-02T21:49:44.608443",
     "exception": false,
     "start_time": "2022-12-02T21:49:44.563393",
     "status": "completed"
    },
    "tags": []
   },
   "outputs": [
    {
     "data": {
      "text/html": [
       "<div>\n",
       "<style scoped>\n",
       "    .dataframe tbody tr th:only-of-type {\n",
       "        vertical-align: middle;\n",
       "    }\n",
       "\n",
       "    .dataframe tbody tr th {\n",
       "        vertical-align: top;\n",
       "    }\n",
       "\n",
       "    .dataframe thead th {\n",
       "        text-align: right;\n",
       "    }\n",
       "</style>\n",
       "<table border=\"1\" class=\"dataframe\">\n",
       "  <thead>\n",
       "    <tr style=\"text-align: right;\">\n",
       "      <th></th>\n",
       "      <th>name</th>\n",
       "      <th>id</th>\n",
       "      <th>chr</th>\n",
       "      <th>band</th>\n",
       "      <th>start_position</th>\n",
       "      <th>end_position</th>\n",
       "      <th>gene_length</th>\n",
       "    </tr>\n",
       "  </thead>\n",
       "  <tbody>\n",
       "    <tr>\n",
       "      <th>1279</th>\n",
       "      <td>TMEM133</td>\n",
       "      <td>ENSG00000170647</td>\n",
       "      <td>None</td>\n",
       "      <td>None</td>\n",
       "      <td>NaN</td>\n",
       "      <td>NaN</td>\n",
       "      <td>NaN</td>\n",
       "    </tr>\n",
       "    <tr>\n",
       "      <th>4796</th>\n",
       "      <td>TBCE</td>\n",
       "      <td>ENSG00000116957</td>\n",
       "      <td>None</td>\n",
       "      <td>None</td>\n",
       "      <td>NaN</td>\n",
       "      <td>NaN</td>\n",
       "      <td>NaN</td>\n",
       "    </tr>\n",
       "  </tbody>\n",
       "</table>\n",
       "</div>"
      ],
      "text/plain": [
       "         name               id   chr  band  start_position  end_position  \\\n",
       "1279  TMEM133  ENSG00000170647  None  None             NaN           NaN   \n",
       "4796     TBCE  ENSG00000116957  None  None             NaN           NaN   \n",
       "\n",
       "      gene_length  \n",
       "1279          NaN  \n",
       "4796          NaN  "
      ]
     },
     "metadata": {},
     "output_type": "display_data"
    }
   ],
   "source": [
    "_tmp = genes_info[genes_info.isna().any(axis=1)]\n",
    "display(_tmp)\n",
    "assert _tmp.shape[0] < 5"
   ]
  },
  {
   "cell_type": "code",
   "execution_count": 49,
   "id": "87c010f0-8ad9-4bf0-b12d-02f37a93853a",
   "metadata": {
    "execution": {
     "iopub.execute_input": "2022-12-02T21:49:44.631497Z",
     "iopub.status.busy": "2022-12-02T21:49:44.630997Z",
     "iopub.status.idle": "2022-12-02T21:49:44.653932Z",
     "shell.execute_reply": "2022-12-02T21:49:44.653254Z"
    },
    "papermill": {
     "duration": 0.035241,
     "end_time": "2022-12-02T21:49:44.654788",
     "exception": false,
     "start_time": "2022-12-02T21:49:44.619547",
     "status": "completed"
    },
    "tags": []
   },
   "outputs": [],
   "source": [
    "genes_info = genes_info.dropna()"
   ]
  },
  {
   "cell_type": "code",
   "execution_count": 50,
   "id": "61833f43-3a92-47e9-bca3-e05b6673c7d9",
   "metadata": {
    "execution": {
     "iopub.execute_input": "2022-12-02T21:49:44.678226Z",
     "iopub.status.busy": "2022-12-02T21:49:44.677653Z",
     "iopub.status.idle": "2022-12-02T21:49:45.087132Z",
     "shell.execute_reply": "2022-12-02T21:49:45.086698Z"
    },
    "papermill": {
     "duration": 0.423017,
     "end_time": "2022-12-02T21:49:45.088786",
     "exception": false,
     "start_time": "2022-12-02T21:49:44.665769",
     "status": "completed"
    },
    "tags": []
   },
   "outputs": [],
   "source": [
    "genes_info[\"chr\"] = genes_info[\"chr\"].apply(pd.to_numeric, downcast=\"integer\")\n",
    "genes_info[\"start_position\"] = genes_info[\"start_position\"].astype(int)\n",
    "genes_info[\"end_position\"] = genes_info[\"end_position\"].astype(int)\n",
    "genes_info[\"gene_length\"] = genes_info[\"gene_length\"].astype(int)"
   ]
  },
  {
   "cell_type": "code",
   "execution_count": 51,
   "id": "e4b9ae23-3edb-41a4-97aa-80cc7db6d393",
   "metadata": {
    "execution": {
     "iopub.execute_input": "2022-12-02T21:49:45.132887Z",
     "iopub.status.busy": "2022-12-02T21:49:45.132344Z",
     "iopub.status.idle": "2022-12-02T21:49:45.150050Z",
     "shell.execute_reply": "2022-12-02T21:49:45.149561Z"
    },
    "papermill": {
     "duration": 0.041227,
     "end_time": "2022-12-02T21:49:45.151428",
     "exception": false,
     "start_time": "2022-12-02T21:49:45.110201",
     "status": "completed"
    },
    "tags": []
   },
   "outputs": [
    {
     "data": {
      "text/plain": [
       "name              object\n",
       "id                object\n",
       "chr                 int8\n",
       "band              object\n",
       "start_position     int64\n",
       "end_position       int64\n",
       "gene_length        int64\n",
       "dtype: object"
      ]
     },
     "execution_count": 51,
     "metadata": {},
     "output_type": "execute_result"
    }
   ],
   "source": [
    "genes_info.dtypes"
   ]
  },
  {
   "cell_type": "code",
   "execution_count": 52,
   "id": "09d6320a-b1c4-4200-a23e-184bc4be69c7",
   "metadata": {
    "execution": {
     "iopub.execute_input": "2022-12-02T21:49:45.195228Z",
     "iopub.status.busy": "2022-12-02T21:49:45.194828Z",
     "iopub.status.idle": "2022-12-02T21:49:45.211237Z",
     "shell.execute_reply": "2022-12-02T21:49:45.210736Z"
    },
    "papermill": {
     "duration": 0.039936,
     "end_time": "2022-12-02T21:49:45.212545",
     "exception": false,
     "start_time": "2022-12-02T21:49:45.172609",
     "status": "completed"
    },
    "tags": []
   },
   "outputs": [],
   "source": [
    "assert genes_info[\"name\"].is_unique"
   ]
  },
  {
   "cell_type": "code",
   "execution_count": 53,
   "id": "009d11e4-f8cb-4a81-823d-c7f10b906d3b",
   "metadata": {
    "execution": {
     "iopub.execute_input": "2022-12-02T21:49:45.255052Z",
     "iopub.status.busy": "2022-12-02T21:49:45.254662Z",
     "iopub.status.idle": "2022-12-02T21:49:45.271400Z",
     "shell.execute_reply": "2022-12-02T21:49:45.270901Z"
    },
    "papermill": {
     "duration": 0.038545,
     "end_time": "2022-12-02T21:49:45.272340",
     "exception": false,
     "start_time": "2022-12-02T21:49:45.233795",
     "status": "completed"
    },
    "tags": []
   },
   "outputs": [],
   "source": [
    "assert genes_info[\"id\"].is_unique"
   ]
  },
  {
   "cell_type": "code",
   "execution_count": 54,
   "id": "e23519b8",
   "metadata": {
    "execution": {
     "iopub.execute_input": "2022-12-02T21:49:45.295690Z",
     "iopub.status.busy": "2022-12-02T21:49:45.295406Z",
     "iopub.status.idle": "2022-12-02T21:49:45.312544Z",
     "shell.execute_reply": "2022-12-02T21:49:45.312067Z"
    },
    "papermill": {
     "duration": 0.029877,
     "end_time": "2022-12-02T21:49:45.313399",
     "exception": false,
     "start_time": "2022-12-02T21:49:45.283522",
     "status": "completed"
    },
    "tags": []
   },
   "outputs": [
    {
     "data": {
      "text/plain": [
       "(6442, 7)"
      ]
     },
     "execution_count": 54,
     "metadata": {},
     "output_type": "execute_result"
    }
   ],
   "source": [
    "genes_info.shape"
   ]
  },
  {
   "cell_type": "code",
   "execution_count": 55,
   "id": "0d71881c",
   "metadata": {
    "execution": {
     "iopub.execute_input": "2022-12-02T21:49:45.336732Z",
     "iopub.status.busy": "2022-12-02T21:49:45.336436Z",
     "iopub.status.idle": "2022-12-02T21:49:45.357597Z",
     "shell.execute_reply": "2022-12-02T21:49:45.357108Z"
    },
    "papermill": {
     "duration": 0.033783,
     "end_time": "2022-12-02T21:49:45.358455",
     "exception": false,
     "start_time": "2022-12-02T21:49:45.324672",
     "status": "completed"
    },
    "tags": []
   },
   "outputs": [
    {
     "data": {
      "text/html": [
       "<div>\n",
       "<style scoped>\n",
       "    .dataframe tbody tr th:only-of-type {\n",
       "        vertical-align: middle;\n",
       "    }\n",
       "\n",
       "    .dataframe tbody tr th {\n",
       "        vertical-align: top;\n",
       "    }\n",
       "\n",
       "    .dataframe thead th {\n",
       "        text-align: right;\n",
       "    }\n",
       "</style>\n",
       "<table border=\"1\" class=\"dataframe\">\n",
       "  <thead>\n",
       "    <tr style=\"text-align: right;\">\n",
       "      <th></th>\n",
       "      <th>name</th>\n",
       "      <th>id</th>\n",
       "      <th>chr</th>\n",
       "      <th>band</th>\n",
       "      <th>start_position</th>\n",
       "      <th>end_position</th>\n",
       "      <th>gene_length</th>\n",
       "    </tr>\n",
       "  </thead>\n",
       "  <tbody>\n",
       "    <tr>\n",
       "      <th>0</th>\n",
       "      <td>ASPM</td>\n",
       "      <td>ENSG00000066279</td>\n",
       "      <td>1</td>\n",
       "      <td>1q31.3</td>\n",
       "      <td>197084127</td>\n",
       "      <td>197146694</td>\n",
       "      <td>62567</td>\n",
       "    </tr>\n",
       "    <tr>\n",
       "      <th>1</th>\n",
       "      <td>GPAM</td>\n",
       "      <td>ENSG00000119927</td>\n",
       "      <td>10</td>\n",
       "      <td>10q25.2</td>\n",
       "      <td>112149865</td>\n",
       "      <td>112215377</td>\n",
       "      <td>65512</td>\n",
       "    </tr>\n",
       "    <tr>\n",
       "      <th>2</th>\n",
       "      <td>MAPK7</td>\n",
       "      <td>ENSG00000166484</td>\n",
       "      <td>17</td>\n",
       "      <td>17p11.2</td>\n",
       "      <td>19377721</td>\n",
       "      <td>19383544</td>\n",
       "      <td>5823</td>\n",
       "    </tr>\n",
       "    <tr>\n",
       "      <th>3</th>\n",
       "      <td>SLC3A2</td>\n",
       "      <td>ENSG00000168003</td>\n",
       "      <td>11</td>\n",
       "      <td>11q12.3</td>\n",
       "      <td>62856102</td>\n",
       "      <td>62888875</td>\n",
       "      <td>32773</td>\n",
       "    </tr>\n",
       "    <tr>\n",
       "      <th>4</th>\n",
       "      <td>GINS2</td>\n",
       "      <td>ENSG00000131153</td>\n",
       "      <td>16</td>\n",
       "      <td>16q24.1</td>\n",
       "      <td>85676198</td>\n",
       "      <td>85690073</td>\n",
       "      <td>13875</td>\n",
       "    </tr>\n",
       "  </tbody>\n",
       "</table>\n",
       "</div>"
      ],
      "text/plain": [
       "     name               id  chr     band  start_position  end_position  \\\n",
       "0    ASPM  ENSG00000066279    1   1q31.3       197084127     197146694   \n",
       "1    GPAM  ENSG00000119927   10  10q25.2       112149865     112215377   \n",
       "2   MAPK7  ENSG00000166484   17  17p11.2        19377721      19383544   \n",
       "3  SLC3A2  ENSG00000168003   11  11q12.3        62856102      62888875   \n",
       "4   GINS2  ENSG00000131153   16  16q24.1        85676198      85690073   \n",
       "\n",
       "   gene_length  \n",
       "0        62567  \n",
       "1        65512  \n",
       "2         5823  \n",
       "3        32773  \n",
       "4        13875  "
      ]
     },
     "execution_count": 55,
     "metadata": {},
     "output_type": "execute_result"
    }
   ],
   "source": [
    "genes_info.head()"
   ]
  },
  {
   "cell_type": "code",
   "execution_count": 56,
   "id": "eb968287-d9cf-40f6-a93e-6b322b844404",
   "metadata": {
    "execution": {
     "iopub.execute_input": "2022-12-02T21:49:45.382317Z",
     "iopub.status.busy": "2022-12-02T21:49:45.381746Z",
     "iopub.status.idle": "2022-12-02T21:49:45.407148Z",
     "shell.execute_reply": "2022-12-02T21:49:45.406653Z"
    },
    "papermill": {
     "duration": 0.038071,
     "end_time": "2022-12-02T21:49:45.407951",
     "exception": false,
     "start_time": "2022-12-02T21:49:45.369880",
     "status": "completed"
    },
    "tags": []
   },
   "outputs": [
    {
     "data": {
      "text/html": [
       "<div>\n",
       "<style scoped>\n",
       "    .dataframe tbody tr th:only-of-type {\n",
       "        vertical-align: middle;\n",
       "    }\n",
       "\n",
       "    .dataframe tbody tr th {\n",
       "        vertical-align: top;\n",
       "    }\n",
       "\n",
       "    .dataframe thead th {\n",
       "        text-align: right;\n",
       "    }\n",
       "</style>\n",
       "<table border=\"1\" class=\"dataframe\">\n",
       "  <thead>\n",
       "    <tr style=\"text-align: right;\">\n",
       "      <th></th>\n",
       "      <th>name</th>\n",
       "      <th>id</th>\n",
       "      <th>chr</th>\n",
       "      <th>band</th>\n",
       "      <th>start_position</th>\n",
       "      <th>end_position</th>\n",
       "      <th>gene_length</th>\n",
       "    </tr>\n",
       "  </thead>\n",
       "  <tbody>\n",
       "    <tr>\n",
       "      <th>0</th>\n",
       "      <td>ASPM</td>\n",
       "      <td>ENSG00000066279</td>\n",
       "      <td>1</td>\n",
       "      <td>1q31.3</td>\n",
       "      <td>197084127</td>\n",
       "      <td>197146694</td>\n",
       "      <td>62567</td>\n",
       "    </tr>\n",
       "    <tr>\n",
       "      <th>5432</th>\n",
       "      <td>HDAC1</td>\n",
       "      <td>ENSG00000116478</td>\n",
       "      <td>1</td>\n",
       "      <td>1p35.2</td>\n",
       "      <td>32292083</td>\n",
       "      <td>32333635</td>\n",
       "      <td>41552</td>\n",
       "    </tr>\n",
       "    <tr>\n",
       "      <th>1840</th>\n",
       "      <td>RUSC1</td>\n",
       "      <td>ENSG00000160753</td>\n",
       "      <td>1</td>\n",
       "      <td>1q22</td>\n",
       "      <td>155320894</td>\n",
       "      <td>155331114</td>\n",
       "      <td>10220</td>\n",
       "    </tr>\n",
       "    <tr>\n",
       "      <th>3749</th>\n",
       "      <td>CACYBP</td>\n",
       "      <td>ENSG00000116161</td>\n",
       "      <td>1</td>\n",
       "      <td>1q25.1</td>\n",
       "      <td>174999163</td>\n",
       "      <td>175011715</td>\n",
       "      <td>12552</td>\n",
       "    </tr>\n",
       "    <tr>\n",
       "      <th>1837</th>\n",
       "      <td>CAMTA1</td>\n",
       "      <td>ENSG00000171735</td>\n",
       "      <td>1</td>\n",
       "      <td>1p36.31</td>\n",
       "      <td>6785454</td>\n",
       "      <td>7769706</td>\n",
       "      <td>984252</td>\n",
       "    </tr>\n",
       "    <tr>\n",
       "      <th>...</th>\n",
       "      <td>...</td>\n",
       "      <td>...</td>\n",
       "      <td>...</td>\n",
       "      <td>...</td>\n",
       "      <td>...</td>\n",
       "      <td>...</td>\n",
       "      <td>...</td>\n",
       "    </tr>\n",
       "    <tr>\n",
       "      <th>2738</th>\n",
       "      <td>MCM5</td>\n",
       "      <td>ENSG00000100297</td>\n",
       "      <td>22</td>\n",
       "      <td>22q12.3</td>\n",
       "      <td>35400134</td>\n",
       "      <td>35425431</td>\n",
       "      <td>25297</td>\n",
       "    </tr>\n",
       "    <tr>\n",
       "      <th>3544</th>\n",
       "      <td>DNAL4</td>\n",
       "      <td>ENSG00000100246</td>\n",
       "      <td>22</td>\n",
       "      <td>22q13.1</td>\n",
       "      <td>38778508</td>\n",
       "      <td>38794198</td>\n",
       "      <td>15690</td>\n",
       "    </tr>\n",
       "    <tr>\n",
       "      <th>3550</th>\n",
       "      <td>RTN4R</td>\n",
       "      <td>ENSG00000040608</td>\n",
       "      <td>22</td>\n",
       "      <td>22q11.21</td>\n",
       "      <td>20241415</td>\n",
       "      <td>20283246</td>\n",
       "      <td>41831</td>\n",
       "    </tr>\n",
       "    <tr>\n",
       "      <th>3482</th>\n",
       "      <td>TTC28</td>\n",
       "      <td>ENSG00000100154</td>\n",
       "      <td>22</td>\n",
       "      <td>22q12.1</td>\n",
       "      <td>27978014</td>\n",
       "      <td>28679865</td>\n",
       "      <td>701851</td>\n",
       "    </tr>\n",
       "    <tr>\n",
       "      <th>2089</th>\n",
       "      <td>IGLL1</td>\n",
       "      <td>ENSG00000128322</td>\n",
       "      <td>22</td>\n",
       "      <td>22q11.23</td>\n",
       "      <td>23573125</td>\n",
       "      <td>23580302</td>\n",
       "      <td>7177</td>\n",
       "    </tr>\n",
       "  </tbody>\n",
       "</table>\n",
       "<p>6442 rows × 7 columns</p>\n",
       "</div>"
      ],
      "text/plain": [
       "        name               id  chr      band  start_position  end_position  \\\n",
       "0       ASPM  ENSG00000066279    1    1q31.3       197084127     197146694   \n",
       "5432   HDAC1  ENSG00000116478    1    1p35.2        32292083      32333635   \n",
       "1840   RUSC1  ENSG00000160753    1      1q22       155320894     155331114   \n",
       "3749  CACYBP  ENSG00000116161    1    1q25.1       174999163     175011715   \n",
       "1837  CAMTA1  ENSG00000171735    1   1p36.31         6785454       7769706   \n",
       "...      ...              ...  ...       ...             ...           ...   \n",
       "2738    MCM5  ENSG00000100297   22   22q12.3        35400134      35425431   \n",
       "3544   DNAL4  ENSG00000100246   22   22q13.1        38778508      38794198   \n",
       "3550   RTN4R  ENSG00000040608   22  22q11.21        20241415      20283246   \n",
       "3482   TTC28  ENSG00000100154   22   22q12.1        27978014      28679865   \n",
       "2089   IGLL1  ENSG00000128322   22  22q11.23        23573125      23580302   \n",
       "\n",
       "      gene_length  \n",
       "0           62567  \n",
       "5432        41552  \n",
       "1840        10220  \n",
       "3749        12552  \n",
       "1837       984252  \n",
       "...           ...  \n",
       "2738        25297  \n",
       "3544        15690  \n",
       "3550        41831  \n",
       "3482       701851  \n",
       "2089         7177  \n",
       "\n",
       "[6442 rows x 7 columns]"
      ]
     },
     "execution_count": 56,
     "metadata": {},
     "output_type": "execute_result"
    }
   ],
   "source": [
    "genes_info.sort_values(\"chr\")"
   ]
  },
  {
   "cell_type": "markdown",
   "id": "7282b84d-f4f3-4e8c-9dd8-6319505ed4b5",
   "metadata": {
    "papermill": {
     "duration": 0.011693,
     "end_time": "2022-12-02T21:49:45.452692",
     "exception": false,
     "start_time": "2022-12-02T21:49:45.440999",
     "status": "completed"
    },
    "tags": []
   },
   "source": [
    "### Save"
   ]
  },
  {
   "cell_type": "code",
   "execution_count": 57,
   "id": "32cf6566-03bb-4a85-81e1-da46fc9f37ad",
   "metadata": {
    "execution": {
     "iopub.execute_input": "2022-12-02T21:49:45.477019Z",
     "iopub.status.busy": "2022-12-02T21:49:45.476698Z",
     "iopub.status.idle": "2022-12-02T21:49:45.496900Z",
     "shell.execute_reply": "2022-12-02T21:49:45.496340Z"
    },
    "papermill": {
     "duration": 0.033418,
     "end_time": "2022-12-02T21:49:45.497769",
     "exception": false,
     "start_time": "2022-12-02T21:49:45.464351",
     "status": "completed"
    },
    "tags": []
   },
   "outputs": [],
   "source": [
    "genes_info.to_pickle(OUTPUT_DIR_BASE / \"genes_info.pkl\")"
   ]
  },
  {
   "cell_type": "markdown",
   "id": "5b9f384a-5a91-4a8d-9007-cfe43f2d86f8",
   "metadata": {
    "papermill": {
     "duration": 0.011718,
     "end_time": "2022-12-02T21:49:45.521103",
     "exception": false,
     "start_time": "2022-12-02T21:49:45.509385",
     "status": "completed"
    },
    "tags": []
   },
   "source": [
    "## S-PrediXcan results"
   ]
  },
  {
   "cell_type": "markdown",
   "id": "fc0a2a4c-960c-4a0a-9b23-b66c3d5d6e07",
   "metadata": {
    "papermill": {
     "duration": 0.011523,
     "end_time": "2022-12-02T21:49:45.544160",
     "exception": false,
     "start_time": "2022-12-02T21:49:45.532637",
     "status": "completed"
    },
    "tags": []
   },
   "source": [
    "### Load results across all tissues"
   ]
  },
  {
   "cell_type": "code",
   "execution_count": 58,
   "id": "0b4867d7-a608-4b08-9d77-1782be3a0c94",
   "metadata": {
    "execution": {
     "iopub.execute_input": "2022-12-02T21:49:45.568331Z",
     "iopub.status.busy": "2022-12-02T21:49:45.568020Z",
     "iopub.status.idle": "2022-12-02T21:49:45.585113Z",
     "shell.execute_reply": "2022-12-02T21:49:45.584608Z"
    },
    "papermill": {
     "duration": 0.030176,
     "end_time": "2022-12-02T21:49:45.585995",
     "exception": false,
     "start_time": "2022-12-02T21:49:45.555819",
     "status": "completed"
    },
    "tags": []
   },
   "outputs": [],
   "source": [
    "spredixcan_result_files = {\n",
    "    t: SPREDIXCAN_FOLDER / SPREDIXCAN_FILE_PATTERN.format(tissue=t)\n",
    "    for t in prediction_model_tissues\n",
    "}"
   ]
  },
  {
   "cell_type": "code",
   "execution_count": 59,
   "id": "0ce270dd-46ac-4eaa-9d86-2b201d67d82f",
   "metadata": {
    "execution": {
     "iopub.execute_input": "2022-12-02T21:49:45.610345Z",
     "iopub.status.busy": "2022-12-02T21:49:45.609880Z",
     "iopub.status.idle": "2022-12-02T21:49:45.626348Z",
     "shell.execute_reply": "2022-12-02T21:49:45.625859Z"
    },
    "papermill": {
     "duration": 0.029477,
     "end_time": "2022-12-02T21:49:45.627148",
     "exception": false,
     "start_time": "2022-12-02T21:49:45.597671",
     "status": "completed"
    },
    "tags": []
   },
   "outputs": [
    {
     "data": {
      "text/plain": [
       "[PosixPath('/opt/data/projects/asthma-copd/results/twas/spredixcan/GWAS_ACO_GLM_SNPs_info0.7-gtex_v8-mashr-Thyroid.csv'),\n",
       " PosixPath('/opt/data/projects/asthma-copd/results/twas/spredixcan/GWAS_ACO_GLM_SNPs_info0.7-gtex_v8-mashr-Artery_Aorta.csv'),\n",
       " PosixPath('/opt/data/projects/asthma-copd/results/twas/spredixcan/GWAS_ACO_GLM_SNPs_info0.7-gtex_v8-mashr-Heart_Atrial_Appendage.csv'),\n",
       " PosixPath('/opt/data/projects/asthma-copd/results/twas/spredixcan/GWAS_ACO_GLM_SNPs_info0.7-gtex_v8-mashr-Liver.csv'),\n",
       " PosixPath('/opt/data/projects/asthma-copd/results/twas/spredixcan/GWAS_ACO_GLM_SNPs_info0.7-gtex_v8-mashr-Heart_Left_Ventricle.csv')]"
      ]
     },
     "metadata": {},
     "output_type": "display_data"
    }
   ],
   "source": [
    "assert len(spredixcan_result_files) == len(prediction_model_tissues)\n",
    "display(list(spredixcan_result_files.values())[:5])"
   ]
  },
  {
   "cell_type": "code",
   "execution_count": 60,
   "id": "aa140259-303e-4912-b2bf-e7adce662f88",
   "metadata": {
    "execution": {
     "iopub.execute_input": "2022-12-02T21:49:45.651580Z",
     "iopub.status.busy": "2022-12-02T21:49:45.651250Z",
     "iopub.status.idle": "2022-12-02T21:49:45.701013Z",
     "shell.execute_reply": "2022-12-02T21:49:45.700488Z"
    },
    "papermill": {
     "duration": 0.062925,
     "end_time": "2022-12-02T21:49:45.701876",
     "exception": false,
     "start_time": "2022-12-02T21:49:45.638951",
     "status": "completed"
    },
    "tags": []
   },
   "outputs": [
    {
     "data": {
      "text/html": [
       "<div>\n",
       "<style scoped>\n",
       "    .dataframe tbody tr th:only-of-type {\n",
       "        vertical-align: middle;\n",
       "    }\n",
       "\n",
       "    .dataframe tbody tr th {\n",
       "        vertical-align: top;\n",
       "    }\n",
       "\n",
       "    .dataframe thead th {\n",
       "        text-align: right;\n",
       "    }\n",
       "</style>\n",
       "<table border=\"1\" class=\"dataframe\">\n",
       "  <thead>\n",
       "    <tr style=\"text-align: right;\">\n",
       "      <th></th>\n",
       "      <th>gene</th>\n",
       "      <th>gene_name</th>\n",
       "      <th>zscore</th>\n",
       "      <th>effect_size</th>\n",
       "      <th>pvalue</th>\n",
       "      <th>var_g</th>\n",
       "      <th>pred_perf_r2</th>\n",
       "      <th>pred_perf_pval</th>\n",
       "      <th>pred_perf_qval</th>\n",
       "      <th>n_snps_used</th>\n",
       "      <th>n_snps_in_cov</th>\n",
       "      <th>n_snps_in_model</th>\n",
       "      <th>best_gwas_p</th>\n",
       "      <th>largest_weight</th>\n",
       "    </tr>\n",
       "  </thead>\n",
       "  <tbody>\n",
       "    <tr>\n",
       "      <th>0</th>\n",
       "      <td>ENSG00000179344.16</td>\n",
       "      <td>HLA-DQB1</td>\n",
       "      <td>-11.510273</td>\n",
       "      <td>NaN</td>\n",
       "      <td>1.171072e-30</td>\n",
       "      <td>0.283759</td>\n",
       "      <td>NaN</td>\n",
       "      <td>NaN</td>\n",
       "      <td>NaN</td>\n",
       "      <td>3</td>\n",
       "      <td>3</td>\n",
       "      <td>3</td>\n",
       "      <td>9.769960e-28</td>\n",
       "      <td>0.772332</td>\n",
       "    </tr>\n",
       "    <tr>\n",
       "      <th>1</th>\n",
       "      <td>ENSG00000232629.8</td>\n",
       "      <td>HLA-DQB2</td>\n",
       "      <td>10.404492</td>\n",
       "      <td>NaN</td>\n",
       "      <td>2.365140e-25</td>\n",
       "      <td>1.363601</td>\n",
       "      <td>NaN</td>\n",
       "      <td>NaN</td>\n",
       "      <td>NaN</td>\n",
       "      <td>2</td>\n",
       "      <td>3</td>\n",
       "      <td>3</td>\n",
       "      <td>3.571353e-25</td>\n",
       "      <td>0.972033</td>\n",
       "    </tr>\n",
       "    <tr>\n",
       "      <th>2</th>\n",
       "      <td>ENSG00000237541.3</td>\n",
       "      <td>HLA-DQA2</td>\n",
       "      <td>7.419567</td>\n",
       "      <td>NaN</td>\n",
       "      <td>1.175039e-13</td>\n",
       "      <td>0.118803</td>\n",
       "      <td>NaN</td>\n",
       "      <td>NaN</td>\n",
       "      <td>NaN</td>\n",
       "      <td>2</td>\n",
       "      <td>4</td>\n",
       "      <td>4</td>\n",
       "      <td>7.045886e-16</td>\n",
       "      <td>0.486574</td>\n",
       "    </tr>\n",
       "    <tr>\n",
       "      <th>3</th>\n",
       "      <td>ENSG00000172057.9</td>\n",
       "      <td>ORMDL3</td>\n",
       "      <td>7.301199</td>\n",
       "      <td>NaN</td>\n",
       "      <td>2.852135e-13</td>\n",
       "      <td>0.137414</td>\n",
       "      <td>NaN</td>\n",
       "      <td>NaN</td>\n",
       "      <td>NaN</td>\n",
       "      <td>2</td>\n",
       "      <td>2</td>\n",
       "      <td>2</td>\n",
       "      <td>7.949287e-15</td>\n",
       "      <td>0.397752</td>\n",
       "    </tr>\n",
       "    <tr>\n",
       "      <th>4</th>\n",
       "      <td>ENSG00000224389.8</td>\n",
       "      <td>C4B</td>\n",
       "      <td>7.229532</td>\n",
       "      <td>NaN</td>\n",
       "      <td>4.846619e-13</td>\n",
       "      <td>0.198075</td>\n",
       "      <td>NaN</td>\n",
       "      <td>NaN</td>\n",
       "      <td>NaN</td>\n",
       "      <td>2</td>\n",
       "      <td>2</td>\n",
       "      <td>2</td>\n",
       "      <td>6.175598e-12</td>\n",
       "      <td>1.101481</td>\n",
       "    </tr>\n",
       "  </tbody>\n",
       "</table>\n",
       "</div>"
      ],
      "text/plain": [
       "                 gene gene_name     zscore  effect_size        pvalue  \\\n",
       "0  ENSG00000179344.16  HLA-DQB1 -11.510273          NaN  1.171072e-30   \n",
       "1   ENSG00000232629.8  HLA-DQB2  10.404492          NaN  2.365140e-25   \n",
       "2   ENSG00000237541.3  HLA-DQA2   7.419567          NaN  1.175039e-13   \n",
       "3   ENSG00000172057.9    ORMDL3   7.301199          NaN  2.852135e-13   \n",
       "4   ENSG00000224389.8       C4B   7.229532          NaN  4.846619e-13   \n",
       "\n",
       "      var_g  pred_perf_r2  pred_perf_pval  pred_perf_qval  n_snps_used  \\\n",
       "0  0.283759           NaN             NaN             NaN            3   \n",
       "1  1.363601           NaN             NaN             NaN            2   \n",
       "2  0.118803           NaN             NaN             NaN            2   \n",
       "3  0.137414           NaN             NaN             NaN            2   \n",
       "4  0.198075           NaN             NaN             NaN            2   \n",
       "\n",
       "   n_snps_in_cov  n_snps_in_model   best_gwas_p  largest_weight  \n",
       "0              3                3  9.769960e-28        0.772332  \n",
       "1              3                3  3.571353e-25        0.972033  \n",
       "2              4                4  7.045886e-16        0.486574  \n",
       "3              2                2  7.949287e-15        0.397752  \n",
       "4              2                2  6.175598e-12        1.101481  "
      ]
     },
     "execution_count": 60,
     "metadata": {},
     "output_type": "execute_result"
    }
   ],
   "source": [
    "# look at the structure of one result\n",
    "pd.read_csv(spredixcan_result_files[\"Whole_Blood\"]).head()"
   ]
  },
  {
   "cell_type": "code",
   "execution_count": 61,
   "id": "4381b9ff-6ab5-47f1-89d1-560f88fdf07f",
   "metadata": {
    "execution": {
     "iopub.execute_input": "2022-12-02T21:49:45.726707Z",
     "iopub.status.busy": "2022-12-02T21:49:45.726292Z",
     "iopub.status.idle": "2022-12-02T21:49:45.743856Z",
     "shell.execute_reply": "2022-12-02T21:49:45.743366Z"
    },
    "papermill": {
     "duration": 0.030894,
     "end_time": "2022-12-02T21:49:45.744750",
     "exception": false,
     "start_time": "2022-12-02T21:49:45.713856",
     "status": "completed"
    },
    "tags": []
   },
   "outputs": [],
   "source": [
    "assert all(f.exists() for f in spredixcan_result_files.values())"
   ]
  },
  {
   "cell_type": "code",
   "execution_count": 62,
   "id": "d477157f-51e9-4c7c-b826-7ab5f4fdf3e3",
   "metadata": {
    "execution": {
     "iopub.execute_input": "2022-12-02T21:49:45.769741Z",
     "iopub.status.busy": "2022-12-02T21:49:45.769282Z",
     "iopub.status.idle": "2022-12-02T21:49:46.430647Z",
     "shell.execute_reply": "2022-12-02T21:49:46.430219Z"
    },
    "papermill": {
     "duration": 0.675286,
     "end_time": "2022-12-02T21:49:46.432093",
     "exception": false,
     "start_time": "2022-12-02T21:49:45.756807",
     "status": "completed"
    },
    "tags": []
   },
   "outputs": [],
   "source": [
    "spredixcan_dfs = [\n",
    "    pd.read_csv(\n",
    "        f,\n",
    "        usecols=[\n",
    "            \"gene\",\n",
    "            \"zscore\",\n",
    "            \"pvalue\",\n",
    "            \"n_snps_used\",\n",
    "            \"n_snps_in_model\",\n",
    "        ],\n",
    "    )\n",
    "    .dropna(subset=[\"gene\", \"zscore\", \"pvalue\"])\n",
    "    .assign(tissue=t)\n",
    "    for t, f in spredixcan_result_files.items()\n",
    "]"
   ]
  },
  {
   "cell_type": "code",
   "execution_count": 63,
   "id": "9730bd37-b769-411f-bb6b-bb658d1ff88c",
   "metadata": {
    "execution": {
     "iopub.execute_input": "2022-12-02T21:49:46.478300Z",
     "iopub.status.busy": "2022-12-02T21:49:46.478189Z",
     "iopub.status.idle": "2022-12-02T21:49:46.488140Z",
     "shell.execute_reply": "2022-12-02T21:49:46.487783Z"
    },
    "papermill": {
     "duration": 0.034495,
     "end_time": "2022-12-02T21:49:46.489382",
     "exception": false,
     "start_time": "2022-12-02T21:49:46.454887",
     "status": "completed"
    },
    "tags": []
   },
   "outputs": [],
   "source": [
    "assert len(spredixcan_dfs) == len(prediction_model_tissues)"
   ]
  },
  {
   "cell_type": "code",
   "execution_count": 64,
   "id": "bcd73f53-1283-4ff6-bbb5-25fb71f5cb72",
   "metadata": {
    "execution": {
     "iopub.execute_input": "2022-12-02T21:49:46.535371Z",
     "iopub.status.busy": "2022-12-02T21:49:46.535203Z",
     "iopub.status.idle": "2022-12-02T21:49:46.560432Z",
     "shell.execute_reply": "2022-12-02T21:49:46.559990Z"
    },
    "papermill": {
     "duration": 0.048882,
     "end_time": "2022-12-02T21:49:46.561351",
     "exception": false,
     "start_time": "2022-12-02T21:49:46.512469",
     "status": "completed"
    },
    "tags": []
   },
   "outputs": [],
   "source": [
    "spredixcan_dfs = pd.concat(spredixcan_dfs)"
   ]
  },
  {
   "cell_type": "code",
   "execution_count": 65,
   "id": "ae99c7b5-14fc-4b39-a6b2-40fc703acd0a",
   "metadata": {
    "execution": {
     "iopub.execute_input": "2022-12-02T21:49:46.585886Z",
     "iopub.status.busy": "2022-12-02T21:49:46.585778Z",
     "iopub.status.idle": "2022-12-02T21:49:46.616460Z",
     "shell.execute_reply": "2022-12-02T21:49:46.616026Z"
    },
    "papermill": {
     "duration": 0.04393,
     "end_time": "2022-12-02T21:49:46.617303",
     "exception": false,
     "start_time": "2022-12-02T21:49:46.573373",
     "status": "completed"
    },
    "tags": []
   },
   "outputs": [],
   "source": [
    "assert spredixcan_dfs[\"tissue\"].unique().shape[0] == len(prediction_model_tissues)"
   ]
  },
  {
   "cell_type": "code",
   "execution_count": 66,
   "id": "b7223a23-e40f-4cd3-8988-72033f8739bd",
   "metadata": {
    "execution": {
     "iopub.execute_input": "2022-12-02T21:49:46.641983Z",
     "iopub.status.busy": "2022-12-02T21:49:46.641801Z",
     "iopub.status.idle": "2022-12-02T21:49:46.658585Z",
     "shell.execute_reply": "2022-12-02T21:49:46.658105Z"
    },
    "papermill": {
     "duration": 0.030038,
     "end_time": "2022-12-02T21:49:46.659414",
     "exception": false,
     "start_time": "2022-12-02T21:49:46.629376",
     "status": "completed"
    },
    "tags": []
   },
   "outputs": [
    {
     "data": {
      "text/plain": [
       "(657966, 6)"
      ]
     },
     "execution_count": 66,
     "metadata": {},
     "output_type": "execute_result"
    }
   ],
   "source": [
    "spredixcan_dfs.shape"
   ]
  },
  {
   "cell_type": "code",
   "execution_count": 67,
   "id": "4987073a-3b70-4162-93fb-beeb351ebfe0",
   "metadata": {
    "execution": {
     "iopub.execute_input": "2022-12-02T21:49:46.684559Z",
     "iopub.status.busy": "2022-12-02T21:49:46.684067Z",
     "iopub.status.idle": "2022-12-02T21:49:46.883648Z",
     "shell.execute_reply": "2022-12-02T21:49:46.883202Z"
    },
    "papermill": {
     "duration": 0.213034,
     "end_time": "2022-12-02T21:49:46.884579",
     "exception": false,
     "start_time": "2022-12-02T21:49:46.671545",
     "status": "completed"
    },
    "tags": []
   },
   "outputs": [],
   "source": [
    "spredixcan_dfs = spredixcan_dfs.assign(\n",
    "    gene_id=spredixcan_dfs[\"gene\"].apply(lambda g: g.split(\".\")[0])\n",
    ")"
   ]
  },
  {
   "cell_type": "code",
   "execution_count": 68,
   "id": "6b47d026-01c0-4f7c-a90e-f0baa13235f4",
   "metadata": {
    "execution": {
     "iopub.execute_input": "2022-12-02T21:49:46.909722Z",
     "iopub.status.busy": "2022-12-02T21:49:46.909597Z",
     "iopub.status.idle": "2022-12-02T21:49:46.923399Z",
     "shell.execute_reply": "2022-12-02T21:49:46.923034Z"
    },
    "papermill": {
     "duration": 0.026973,
     "end_time": "2022-12-02T21:49:46.924099",
     "exception": false,
     "start_time": "2022-12-02T21:49:46.897126",
     "status": "completed"
    },
    "tags": []
   },
   "outputs": [
    {
     "data": {
      "text/html": [
       "<div>\n",
       "<style scoped>\n",
       "    .dataframe tbody tr th:only-of-type {\n",
       "        vertical-align: middle;\n",
       "    }\n",
       "\n",
       "    .dataframe tbody tr th {\n",
       "        vertical-align: top;\n",
       "    }\n",
       "\n",
       "    .dataframe thead th {\n",
       "        text-align: right;\n",
       "    }\n",
       "</style>\n",
       "<table border=\"1\" class=\"dataframe\">\n",
       "  <thead>\n",
       "    <tr style=\"text-align: right;\">\n",
       "      <th></th>\n",
       "      <th>gene</th>\n",
       "      <th>zscore</th>\n",
       "      <th>pvalue</th>\n",
       "      <th>n_snps_used</th>\n",
       "      <th>n_snps_in_model</th>\n",
       "      <th>tissue</th>\n",
       "      <th>gene_id</th>\n",
       "    </tr>\n",
       "  </thead>\n",
       "  <tbody>\n",
       "    <tr>\n",
       "      <th>0</th>\n",
       "      <td>ENSG00000232629.8</td>\n",
       "      <td>10.755937</td>\n",
       "      <td>5.556662e-27</td>\n",
       "      <td>1</td>\n",
       "      <td>2</td>\n",
       "      <td>Thyroid</td>\n",
       "      <td>ENSG00000232629</td>\n",
       "    </tr>\n",
       "    <tr>\n",
       "      <th>1</th>\n",
       "      <td>ENSG00000196735.11</td>\n",
       "      <td>-10.752505</td>\n",
       "      <td>5.767350e-27</td>\n",
       "      <td>3</td>\n",
       "      <td>3</td>\n",
       "      <td>Thyroid</td>\n",
       "      <td>ENSG00000196735</td>\n",
       "    </tr>\n",
       "    <tr>\n",
       "      <th>2</th>\n",
       "      <td>ENSG00000179344.16</td>\n",
       "      <td>-9.808153</td>\n",
       "      <td>1.038516e-22</td>\n",
       "      <td>4</td>\n",
       "      <td>4</td>\n",
       "      <td>Thyroid</td>\n",
       "      <td>ENSG00000179344</td>\n",
       "    </tr>\n",
       "    <tr>\n",
       "      <th>3</th>\n",
       "      <td>ENSG00000237541.3</td>\n",
       "      <td>8.069721</td>\n",
       "      <td>7.045886e-16</td>\n",
       "      <td>1</td>\n",
       "      <td>3</td>\n",
       "      <td>Thyroid</td>\n",
       "      <td>ENSG00000237541</td>\n",
       "    </tr>\n",
       "    <tr>\n",
       "      <th>4</th>\n",
       "      <td>ENSG00000244731.7</td>\n",
       "      <td>-7.879190</td>\n",
       "      <td>3.295113e-15</td>\n",
       "      <td>2</td>\n",
       "      <td>2</td>\n",
       "      <td>Thyroid</td>\n",
       "      <td>ENSG00000244731</td>\n",
       "    </tr>\n",
       "  </tbody>\n",
       "</table>\n",
       "</div>"
      ],
      "text/plain": [
       "                 gene     zscore        pvalue  n_snps_used  n_snps_in_model  \\\n",
       "0   ENSG00000232629.8  10.755937  5.556662e-27            1                2   \n",
       "1  ENSG00000196735.11 -10.752505  5.767350e-27            3                3   \n",
       "2  ENSG00000179344.16  -9.808153  1.038516e-22            4                4   \n",
       "3   ENSG00000237541.3   8.069721  7.045886e-16            1                3   \n",
       "4   ENSG00000244731.7  -7.879190  3.295113e-15            2                2   \n",
       "\n",
       "    tissue          gene_id  \n",
       "0  Thyroid  ENSG00000232629  \n",
       "1  Thyroid  ENSG00000196735  \n",
       "2  Thyroid  ENSG00000179344  \n",
       "3  Thyroid  ENSG00000237541  \n",
       "4  Thyroid  ENSG00000244731  "
      ]
     },
     "execution_count": 68,
     "metadata": {},
     "output_type": "execute_result"
    }
   ],
   "source": [
    "spredixcan_dfs.head()"
   ]
  },
  {
   "cell_type": "code",
   "execution_count": 69,
   "id": "d5dbdb2e-b7eb-4665-9fd4-9ce714d6af0c",
   "metadata": {
    "execution": {
     "iopub.execute_input": "2022-12-02T21:49:46.949132Z",
     "iopub.status.busy": "2022-12-02T21:49:46.949011Z",
     "iopub.status.idle": "2022-12-02T21:49:47.038127Z",
     "shell.execute_reply": "2022-12-02T21:49:47.037689Z"
    },
    "papermill": {
     "duration": 0.102733,
     "end_time": "2022-12-02T21:49:47.038961",
     "exception": false,
     "start_time": "2022-12-02T21:49:46.936228",
     "status": "completed"
    },
    "tags": []
   },
   "outputs": [],
   "source": [
    "# leave only common genes\n",
    "spredixcan_dfs = spredixcan_dfs[spredixcan_dfs[\"gene_id\"].isin(set(genes_info[\"id\"]))]"
   ]
  },
  {
   "cell_type": "code",
   "execution_count": 70,
   "id": "8d34f99a-6b43-47aa-bb07-dfc67e169538",
   "metadata": {
    "execution": {
     "iopub.execute_input": "2022-12-02T21:49:47.064100Z",
     "iopub.status.busy": "2022-12-02T21:49:47.063974Z",
     "iopub.status.idle": "2022-12-02T21:49:47.074778Z",
     "shell.execute_reply": "2022-12-02T21:49:47.074429Z"
    },
    "papermill": {
     "duration": 0.024146,
     "end_time": "2022-12-02T21:49:47.075520",
     "exception": false,
     "start_time": "2022-12-02T21:49:47.051374",
     "status": "completed"
    },
    "tags": []
   },
   "outputs": [
    {
     "data": {
      "text/plain": [
       "(235325, 7)"
      ]
     },
     "execution_count": 70,
     "metadata": {},
     "output_type": "execute_result"
    }
   ],
   "source": [
    "spredixcan_dfs.shape"
   ]
  },
  {
   "cell_type": "markdown",
   "id": "5ecfd141-ecb8-47cf-905e-25cc1b4d3f9d",
   "metadata": {
    "papermill": {
     "duration": 0.012353,
     "end_time": "2022-12-02T21:49:47.100255",
     "exception": false,
     "start_time": "2022-12-02T21:49:47.087902",
     "status": "completed"
    },
    "tags": []
   },
   "source": [
    "### Count number of tissues available per gene"
   ]
  },
  {
   "cell_type": "code",
   "execution_count": 71,
   "id": "86fe37e1-a303-4221-a12e-3a54a04dd510",
   "metadata": {
    "execution": {
     "iopub.execute_input": "2022-12-02T21:49:47.125839Z",
     "iopub.status.busy": "2022-12-02T21:49:47.125721Z",
     "iopub.status.idle": "2022-12-02T21:49:47.211745Z",
     "shell.execute_reply": "2022-12-02T21:49:47.211312Z"
    },
    "papermill": {
     "duration": 0.099855,
     "end_time": "2022-12-02T21:49:47.212668",
     "exception": false,
     "start_time": "2022-12-02T21:49:47.112813",
     "status": "completed"
    },
    "tags": []
   },
   "outputs": [],
   "source": [
    "spredixcan_genes_n_models = spredixcan_dfs.groupby(\"gene_id\")[\"tissue\"].nunique()"
   ]
  },
  {
   "cell_type": "code",
   "execution_count": 72,
   "id": "31416d48-1e4d-463f-9a5c-34d29803c3f8",
   "metadata": {
    "execution": {
     "iopub.execute_input": "2022-12-02T21:49:47.238043Z",
     "iopub.status.busy": "2022-12-02T21:49:47.237932Z",
     "iopub.status.idle": "2022-12-02T21:49:47.249847Z",
     "shell.execute_reply": "2022-12-02T21:49:47.249483Z"
    },
    "papermill": {
     "duration": 0.025245,
     "end_time": "2022-12-02T21:49:47.250562",
     "exception": false,
     "start_time": "2022-12-02T21:49:47.225317",
     "status": "completed"
    },
    "tags": []
   },
   "outputs": [
    {
     "data": {
      "text/plain": [
       "gene_id\n",
       "ENSG00000000419     2\n",
       "ENSG00000000938    36\n",
       "ENSG00000000971    34\n",
       "ENSG00000001084    32\n",
       "ENSG00000001167    40\n",
       "                   ..\n",
       "ENSG00000278540    36\n",
       "ENSG00000278828     4\n",
       "ENSG00000278845    49\n",
       "ENSG00000281005    49\n",
       "ENSG00000282608    36\n",
       "Name: tissue, Length: 6442, dtype: int64"
      ]
     },
     "execution_count": 72,
     "metadata": {},
     "output_type": "execute_result"
    }
   ],
   "source": [
    "spredixcan_genes_n_models"
   ]
  },
  {
   "cell_type": "code",
   "execution_count": 73,
   "id": "d737ad4f-f821-4546-9a3e-6703fe264b49",
   "metadata": {
    "execution": {
     "iopub.execute_input": "2022-12-02T21:49:47.275920Z",
     "iopub.status.busy": "2022-12-02T21:49:47.275752Z",
     "iopub.status.idle": "2022-12-02T21:49:47.303784Z",
     "shell.execute_reply": "2022-12-02T21:49:47.303238Z"
    },
    "papermill": {
     "duration": 0.041694,
     "end_time": "2022-12-02T21:49:47.304738",
     "exception": false,
     "start_time": "2022-12-02T21:49:47.263044",
     "status": "completed"
    },
    "tags": []
   },
   "outputs": [],
   "source": [
    "# testing that in S-MultiXcan I get the same number of tissues per gene\n",
    "_tmp_smultixcan_results_n_models = (\n",
    "    smultixcan_results.set_index(\"gene_id\")[\"n\"].astype(int).rename(\"tissue\")\n",
    ")\n",
    "\n",
    "_cg = _tmp_smultixcan_results_n_models.index.intersection(\n",
    "    spredixcan_genes_n_models.index\n",
    ")\n",
    "_tmp_smultixcan_results_n_models = _tmp_smultixcan_results_n_models.loc[_cg]\n",
    "_spredixcan = spredixcan_genes_n_models.loc[_cg]\n",
    "\n",
    "assert _spredixcan.shape[0] == _tmp_smultixcan_results_n_models.shape[0]\n",
    "assert _spredixcan.equals(_tmp_smultixcan_results_n_models.loc[_spredixcan.index])"
   ]
  },
  {
   "cell_type": "markdown",
   "id": "904d7d30-9c2d-4c3e-b674-3f081954fe8b",
   "metadata": {
    "papermill": {
     "duration": 0.012354,
     "end_time": "2022-12-02T21:49:47.329607",
     "exception": false,
     "start_time": "2022-12-02T21:49:47.317253",
     "status": "completed"
    },
    "tags": []
   },
   "source": [
    "### Get tissues available per gene"
   ]
  },
  {
   "cell_type": "code",
   "execution_count": 74,
   "id": "cf014e81-4b4e-4c46-9265-67718b3ab08e",
   "metadata": {
    "execution": {
     "iopub.execute_input": "2022-12-02T21:49:47.355805Z",
     "iopub.status.busy": "2022-12-02T21:49:47.355327Z",
     "iopub.status.idle": "2022-12-02T21:49:47.491310Z",
     "shell.execute_reply": "2022-12-02T21:49:47.490878Z"
    },
    "papermill": {
     "duration": 0.150129,
     "end_time": "2022-12-02T21:49:47.492259",
     "exception": false,
     "start_time": "2022-12-02T21:49:47.342130",
     "status": "completed"
    },
    "tags": []
   },
   "outputs": [],
   "source": [
    "spredixcan_genes_models = spredixcan_dfs.groupby(\"gene_id\")[\"tissue\"].apply(\n",
    "    lambda x: frozenset(x.tolist())\n",
    ")"
   ]
  },
  {
   "cell_type": "code",
   "execution_count": 75,
   "id": "5df09d7f-39c9-408f-9fef-5189e8ca1c87",
   "metadata": {
    "execution": {
     "iopub.execute_input": "2022-12-02T21:49:47.518180Z",
     "iopub.status.busy": "2022-12-02T21:49:47.518006Z",
     "iopub.status.idle": "2022-12-02T21:49:47.531361Z",
     "shell.execute_reply": "2022-12-02T21:49:47.530998Z"
    },
    "papermill": {
     "duration": 0.027324,
     "end_time": "2022-12-02T21:49:47.532149",
     "exception": false,
     "start_time": "2022-12-02T21:49:47.504825",
     "status": "completed"
    },
    "tags": []
   },
   "outputs": [
    {
     "data": {
      "text/plain": [
       "gene_id\n",
       "ENSG00000000419         (Brain_Substantia_nigra, Brain_Hypothalamus)\n",
       "ENSG00000000938    (Cells_EBV-transformed_lymphocytes, Skin_Sun_E...\n",
       "ENSG00000000971    (Skin_Sun_Exposed_Lower_leg, Brain_Putamen_bas...\n",
       "ENSG00000001084    (Cells_EBV-transformed_lymphocytes, Skin_Sun_E...\n",
       "ENSG00000001167    (Skin_Sun_Exposed_Lower_leg, Brain_Putamen_bas...\n",
       "                                         ...                        \n",
       "ENSG00000278540    (Cells_EBV-transformed_lymphocytes, Skin_Sun_E...\n",
       "ENSG00000278828    (Cells_EBV-transformed_lymphocytes, Esophagus_...\n",
       "ENSG00000278845    (Cells_EBV-transformed_lymphocytes, Skin_Sun_E...\n",
       "ENSG00000281005    (Cells_EBV-transformed_lymphocytes, Skin_Sun_E...\n",
       "ENSG00000282608    (Brain_Putamen_basal_ganglia, Liver, Prostate,...\n",
       "Name: tissue, Length: 6442, dtype: object"
      ]
     },
     "execution_count": 75,
     "metadata": {},
     "output_type": "execute_result"
    }
   ],
   "source": [
    "spredixcan_genes_models"
   ]
  },
  {
   "cell_type": "code",
   "execution_count": 76,
   "id": "97c46886-5a48-4813-b890-1dcdb09ec09d",
   "metadata": {
    "execution": {
     "iopub.execute_input": "2022-12-02T21:49:47.558553Z",
     "iopub.status.busy": "2022-12-02T21:49:47.558103Z",
     "iopub.status.idle": "2022-12-02T21:49:47.574751Z",
     "shell.execute_reply": "2022-12-02T21:49:47.574259Z"
    },
    "papermill": {
     "duration": 0.031086,
     "end_time": "2022-12-02T21:49:47.575630",
     "exception": false,
     "start_time": "2022-12-02T21:49:47.544544",
     "status": "completed"
    },
    "tags": []
   },
   "outputs": [],
   "source": [
    "assert spredixcan_genes_n_models.shape[0] == spredixcan_genes_models.shape[0]"
   ]
  },
  {
   "cell_type": "code",
   "execution_count": 77,
   "id": "abc13913-a681-4297-a0e6-dde62f43c36f",
   "metadata": {
    "execution": {
     "iopub.execute_input": "2022-12-02T21:49:47.601899Z",
     "iopub.status.busy": "2022-12-02T21:49:47.601454Z",
     "iopub.status.idle": "2022-12-02T21:49:47.618694Z",
     "shell.execute_reply": "2022-12-02T21:49:47.618172Z"
    },
    "papermill": {
     "duration": 0.031468,
     "end_time": "2022-12-02T21:49:47.619642",
     "exception": false,
     "start_time": "2022-12-02T21:49:47.588174",
     "status": "completed"
    },
    "tags": []
   },
   "outputs": [],
   "source": [
    "assert spredixcan_genes_n_models.index.equals(spredixcan_genes_models.index)"
   ]
  },
  {
   "cell_type": "code",
   "execution_count": 78,
   "id": "995a02e7-b836-471b-b438-17c8c46e4fde",
   "metadata": {
    "execution": {
     "iopub.execute_input": "2022-12-02T21:49:47.645848Z",
     "iopub.status.busy": "2022-12-02T21:49:47.645472Z",
     "iopub.status.idle": "2022-12-02T21:49:47.663339Z",
     "shell.execute_reply": "2022-12-02T21:49:47.662841Z"
    },
    "papermill": {
     "duration": 0.031995,
     "end_time": "2022-12-02T21:49:47.664287",
     "exception": false,
     "start_time": "2022-12-02T21:49:47.632292",
     "status": "completed"
    },
    "tags": []
   },
   "outputs": [],
   "source": [
    "assert (spredixcan_genes_models.apply(len) <= len(prediction_model_tissues)).all()"
   ]
  },
  {
   "cell_type": "code",
   "execution_count": 79,
   "id": "0c1d0c68-1a06-480c-b6d6-d3c4fdf0f5aa",
   "metadata": {
    "execution": {
     "iopub.execute_input": "2022-12-02T21:49:47.690211Z",
     "iopub.status.busy": "2022-12-02T21:49:47.690013Z",
     "iopub.status.idle": "2022-12-02T21:49:47.711607Z",
     "shell.execute_reply": "2022-12-02T21:49:47.711098Z"
    },
    "papermill": {
     "duration": 0.035555,
     "end_time": "2022-12-02T21:49:47.712454",
     "exception": false,
     "start_time": "2022-12-02T21:49:47.676899",
     "status": "completed"
    },
    "tags": []
   },
   "outputs": [
    {
     "data": {
      "text/plain": [
       "count    6442.000000\n",
       "mean       36.529804\n",
       "std        12.893981\n",
       "min         1.000000\n",
       "25%        29.000000\n",
       "50%        42.000000\n",
       "75%        47.000000\n",
       "max        49.000000\n",
       "Name: tissue, dtype: float64"
      ]
     },
     "execution_count": 79,
     "metadata": {},
     "output_type": "execute_result"
    }
   ],
   "source": [
    "spredixcan_genes_models.apply(len).describe()"
   ]
  },
  {
   "cell_type": "code",
   "execution_count": 80,
   "id": "991b9441-6bb5-4b72-9285-5fd579875e40",
   "metadata": {
    "execution": {
     "iopub.execute_input": "2022-12-02T21:49:47.738726Z",
     "iopub.status.busy": "2022-12-02T21:49:47.738526Z",
     "iopub.status.idle": "2022-12-02T21:49:47.758938Z",
     "shell.execute_reply": "2022-12-02T21:49:47.758428Z"
    },
    "papermill": {
     "duration": 0.034548,
     "end_time": "2022-12-02T21:49:47.759873",
     "exception": false,
     "start_time": "2022-12-02T21:49:47.725325",
     "status": "completed"
    },
    "tags": []
   },
   "outputs": [],
   "source": [
    "# testing that I obtained the right number of tissues\n",
    "assert (\n",
    "    spredixcan_genes_models.loc[spredixcan_genes_n_models.index]\n",
    "    .apply(len)\n",
    "    .equals(spredixcan_genes_n_models)\n",
    ")"
   ]
  },
  {
   "cell_type": "markdown",
   "id": "3042b22d-9d88-4e21-b112-ab23cf8d24ea",
   "metadata": {
    "papermill": {
     "duration": 0.012767,
     "end_time": "2022-12-02T21:49:47.785272",
     "exception": false,
     "start_time": "2022-12-02T21:49:47.772505",
     "status": "completed"
    },
    "tags": []
   },
   "source": [
    "### Add gene name and set index"
   ]
  },
  {
   "cell_type": "code",
   "execution_count": 81,
   "id": "3b7b0e76-7aca-44bf-beff-5f1c1b6193ee",
   "metadata": {
    "execution": {
     "iopub.execute_input": "2022-12-02T21:49:47.811679Z",
     "iopub.status.busy": "2022-12-02T21:49:47.811280Z",
     "iopub.status.idle": "2022-12-02T21:49:47.828039Z",
     "shell.execute_reply": "2022-12-02T21:49:47.827541Z"
    },
    "papermill": {
     "duration": 0.030851,
     "end_time": "2022-12-02T21:49:47.828991",
     "exception": false,
     "start_time": "2022-12-02T21:49:47.798140",
     "status": "completed"
    },
    "tags": []
   },
   "outputs": [],
   "source": [
    "spredixcan_genes_models = spredixcan_genes_models.to_frame().reset_index()"
   ]
  },
  {
   "cell_type": "code",
   "execution_count": 82,
   "id": "ffab4b61-c2d4-4bcc-a147-23a4bf30f715",
   "metadata": {
    "execution": {
     "iopub.execute_input": "2022-12-02T21:49:47.855083Z",
     "iopub.status.busy": "2022-12-02T21:49:47.854701Z",
     "iopub.status.idle": "2022-12-02T21:49:47.875883Z",
     "shell.execute_reply": "2022-12-02T21:49:47.875399Z"
    },
    "papermill": {
     "duration": 0.035239,
     "end_time": "2022-12-02T21:49:47.876740",
     "exception": false,
     "start_time": "2022-12-02T21:49:47.841501",
     "status": "completed"
    },
    "tags": []
   },
   "outputs": [
    {
     "data": {
      "text/html": [
       "<div>\n",
       "<style scoped>\n",
       "    .dataframe tbody tr th:only-of-type {\n",
       "        vertical-align: middle;\n",
       "    }\n",
       "\n",
       "    .dataframe tbody tr th {\n",
       "        vertical-align: top;\n",
       "    }\n",
       "\n",
       "    .dataframe thead th {\n",
       "        text-align: right;\n",
       "    }\n",
       "</style>\n",
       "<table border=\"1\" class=\"dataframe\">\n",
       "  <thead>\n",
       "    <tr style=\"text-align: right;\">\n",
       "      <th></th>\n",
       "      <th>gene_id</th>\n",
       "      <th>tissue</th>\n",
       "    </tr>\n",
       "  </thead>\n",
       "  <tbody>\n",
       "    <tr>\n",
       "      <th>0</th>\n",
       "      <td>ENSG00000000419</td>\n",
       "      <td>(Brain_Substantia_nigra, Brain_Hypothalamus)</td>\n",
       "    </tr>\n",
       "    <tr>\n",
       "      <th>1</th>\n",
       "      <td>ENSG00000000938</td>\n",
       "      <td>(Cells_EBV-transformed_lymphocytes, Skin_Sun_E...</td>\n",
       "    </tr>\n",
       "    <tr>\n",
       "      <th>2</th>\n",
       "      <td>ENSG00000000971</td>\n",
       "      <td>(Skin_Sun_Exposed_Lower_leg, Brain_Putamen_bas...</td>\n",
       "    </tr>\n",
       "    <tr>\n",
       "      <th>3</th>\n",
       "      <td>ENSG00000001084</td>\n",
       "      <td>(Cells_EBV-transformed_lymphocytes, Skin_Sun_E...</td>\n",
       "    </tr>\n",
       "    <tr>\n",
       "      <th>4</th>\n",
       "      <td>ENSG00000001167</td>\n",
       "      <td>(Skin_Sun_Exposed_Lower_leg, Brain_Putamen_bas...</td>\n",
       "    </tr>\n",
       "  </tbody>\n",
       "</table>\n",
       "</div>"
      ],
      "text/plain": [
       "           gene_id                                             tissue\n",
       "0  ENSG00000000419       (Brain_Substantia_nigra, Brain_Hypothalamus)\n",
       "1  ENSG00000000938  (Cells_EBV-transformed_lymphocytes, Skin_Sun_E...\n",
       "2  ENSG00000000971  (Skin_Sun_Exposed_Lower_leg, Brain_Putamen_bas...\n",
       "3  ENSG00000001084  (Cells_EBV-transformed_lymphocytes, Skin_Sun_E...\n",
       "4  ENSG00000001167  (Skin_Sun_Exposed_Lower_leg, Brain_Putamen_bas..."
      ]
     },
     "execution_count": 82,
     "metadata": {},
     "output_type": "execute_result"
    }
   ],
   "source": [
    "spredixcan_genes_models.head()"
   ]
  },
  {
   "cell_type": "code",
   "execution_count": 83,
   "id": "e1cb2fe5-969f-4526-bca7-a3b8919b3509",
   "metadata": {
    "execution": {
     "iopub.execute_input": "2022-12-02T21:49:47.903037Z",
     "iopub.status.busy": "2022-12-02T21:49:47.902837Z",
     "iopub.status.idle": "2022-12-02T21:49:47.921967Z",
     "shell.execute_reply": "2022-12-02T21:49:47.921452Z"
    },
    "papermill": {
     "duration": 0.03328,
     "end_time": "2022-12-02T21:49:47.922910",
     "exception": false,
     "start_time": "2022-12-02T21:49:47.889630",
     "status": "completed"
    },
    "tags": []
   },
   "outputs": [],
   "source": [
    "spredixcan_genes_models = spredixcan_genes_models.assign(\n",
    "    gene_name=spredixcan_genes_models[\"gene_id\"].apply(\n",
    "        lambda g: Gene.GENE_ID_TO_NAME_MAP[g]\n",
    "    )\n",
    ")"
   ]
  },
  {
   "cell_type": "code",
   "execution_count": 84,
   "id": "ff078ce5-3f18-442e-a593-3326436c758e",
   "metadata": {
    "execution": {
     "iopub.execute_input": "2022-12-02T21:49:47.949479Z",
     "iopub.status.busy": "2022-12-02T21:49:47.949097Z",
     "iopub.status.idle": "2022-12-02T21:49:47.966620Z",
     "shell.execute_reply": "2022-12-02T21:49:47.966108Z"
    },
    "papermill": {
     "duration": 0.031863,
     "end_time": "2022-12-02T21:49:47.967552",
     "exception": false,
     "start_time": "2022-12-02T21:49:47.935689",
     "status": "completed"
    },
    "tags": []
   },
   "outputs": [],
   "source": [
    "spredixcan_genes_models = spredixcan_genes_models[[\"gene_id\", \"gene_name\", \"tissue\"]]"
   ]
  },
  {
   "cell_type": "code",
   "execution_count": 85,
   "id": "a65c8bf2-5ecd-4f80-a857-11f8a0c019c4",
   "metadata": {
    "execution": {
     "iopub.execute_input": "2022-12-02T21:49:47.993990Z",
     "iopub.status.busy": "2022-12-02T21:49:47.993660Z",
     "iopub.status.idle": "2022-12-02T21:49:48.011110Z",
     "shell.execute_reply": "2022-12-02T21:49:48.010615Z"
    },
    "papermill": {
     "duration": 0.031711,
     "end_time": "2022-12-02T21:49:48.012045",
     "exception": false,
     "start_time": "2022-12-02T21:49:47.980334",
     "status": "completed"
    },
    "tags": []
   },
   "outputs": [],
   "source": [
    "spredixcan_genes_models = spredixcan_genes_models.set_index(\"gene_id\")"
   ]
  },
  {
   "cell_type": "code",
   "execution_count": 86,
   "id": "af6b40b9-fc58-47a1-a1b5-4404034b008b",
   "metadata": {
    "execution": {
     "iopub.execute_input": "2022-12-02T21:49:48.038377Z",
     "iopub.status.busy": "2022-12-02T21:49:48.038180Z",
     "iopub.status.idle": "2022-12-02T21:49:48.059700Z",
     "shell.execute_reply": "2022-12-02T21:49:48.059218Z"
    },
    "papermill": {
     "duration": 0.035637,
     "end_time": "2022-12-02T21:49:48.060502",
     "exception": false,
     "start_time": "2022-12-02T21:49:48.024865",
     "status": "completed"
    },
    "tags": []
   },
   "outputs": [
    {
     "data": {
      "text/html": [
       "<div>\n",
       "<style scoped>\n",
       "    .dataframe tbody tr th:only-of-type {\n",
       "        vertical-align: middle;\n",
       "    }\n",
       "\n",
       "    .dataframe tbody tr th {\n",
       "        vertical-align: top;\n",
       "    }\n",
       "\n",
       "    .dataframe thead th {\n",
       "        text-align: right;\n",
       "    }\n",
       "</style>\n",
       "<table border=\"1\" class=\"dataframe\">\n",
       "  <thead>\n",
       "    <tr style=\"text-align: right;\">\n",
       "      <th></th>\n",
       "      <th>gene_name</th>\n",
       "      <th>tissue</th>\n",
       "    </tr>\n",
       "    <tr>\n",
       "      <th>gene_id</th>\n",
       "      <th></th>\n",
       "      <th></th>\n",
       "    </tr>\n",
       "  </thead>\n",
       "  <tbody>\n",
       "    <tr>\n",
       "      <th>ENSG00000000419</th>\n",
       "      <td>DPM1</td>\n",
       "      <td>(Brain_Substantia_nigra, Brain_Hypothalamus)</td>\n",
       "    </tr>\n",
       "    <tr>\n",
       "      <th>ENSG00000000938</th>\n",
       "      <td>FGR</td>\n",
       "      <td>(Cells_EBV-transformed_lymphocytes, Skin_Sun_E...</td>\n",
       "    </tr>\n",
       "    <tr>\n",
       "      <th>ENSG00000000971</th>\n",
       "      <td>CFH</td>\n",
       "      <td>(Skin_Sun_Exposed_Lower_leg, Brain_Putamen_bas...</td>\n",
       "    </tr>\n",
       "    <tr>\n",
       "      <th>ENSG00000001084</th>\n",
       "      <td>GCLC</td>\n",
       "      <td>(Cells_EBV-transformed_lymphocytes, Skin_Sun_E...</td>\n",
       "    </tr>\n",
       "    <tr>\n",
       "      <th>ENSG00000001167</th>\n",
       "      <td>NFYA</td>\n",
       "      <td>(Skin_Sun_Exposed_Lower_leg, Brain_Putamen_bas...</td>\n",
       "    </tr>\n",
       "  </tbody>\n",
       "</table>\n",
       "</div>"
      ],
      "text/plain": [
       "                gene_name                                             tissue\n",
       "gene_id                                                                     \n",
       "ENSG00000000419      DPM1       (Brain_Substantia_nigra, Brain_Hypothalamus)\n",
       "ENSG00000000938       FGR  (Cells_EBV-transformed_lymphocytes, Skin_Sun_E...\n",
       "ENSG00000000971       CFH  (Skin_Sun_Exposed_Lower_leg, Brain_Putamen_bas...\n",
       "ENSG00000001084      GCLC  (Cells_EBV-transformed_lymphocytes, Skin_Sun_E...\n",
       "ENSG00000001167      NFYA  (Skin_Sun_Exposed_Lower_leg, Brain_Putamen_bas..."
      ]
     },
     "execution_count": 86,
     "metadata": {},
     "output_type": "execute_result"
    }
   ],
   "source": [
    "spredixcan_genes_models.head()"
   ]
  },
  {
   "cell_type": "markdown",
   "id": "d1e67be9-9094-4a07-b89d-3a0815d503e6",
   "metadata": {
    "papermill": {
     "duration": 0.012766,
     "end_time": "2022-12-02T21:49:48.086239",
     "exception": false,
     "start_time": "2022-12-02T21:49:48.073473",
     "status": "completed"
    },
    "tags": []
   },
   "source": [
    "### Add number of tissues"
   ]
  },
  {
   "cell_type": "code",
   "execution_count": 87,
   "id": "b2702bdb-b3bc-48e6-9c3e-855924d9e74b",
   "metadata": {
    "execution": {
     "iopub.execute_input": "2022-12-02T21:49:48.112924Z",
     "iopub.status.busy": "2022-12-02T21:49:48.112520Z",
     "iopub.status.idle": "2022-12-02T21:49:48.130935Z",
     "shell.execute_reply": "2022-12-02T21:49:48.130435Z"
    },
    "papermill": {
     "duration": 0.032798,
     "end_time": "2022-12-02T21:49:48.131884",
     "exception": false,
     "start_time": "2022-12-02T21:49:48.099086",
     "status": "completed"
    },
    "tags": []
   },
   "outputs": [],
   "source": [
    "spredixcan_genes_models = spredixcan_genes_models.assign(\n",
    "    n_tissues=spredixcan_genes_models[\"tissue\"].apply(len)\n",
    ")"
   ]
  },
  {
   "cell_type": "code",
   "execution_count": 88,
   "id": "4a5eb4b8-5e11-45a3-a991-0515bd83fc03",
   "metadata": {
    "execution": {
     "iopub.execute_input": "2022-12-02T21:49:48.158591Z",
     "iopub.status.busy": "2022-12-02T21:49:48.158209Z",
     "iopub.status.idle": "2022-12-02T21:49:48.179400Z",
     "shell.execute_reply": "2022-12-02T21:49:48.178882Z"
    },
    "papermill": {
     "duration": 0.035427,
     "end_time": "2022-12-02T21:49:48.180199",
     "exception": false,
     "start_time": "2022-12-02T21:49:48.144772",
     "status": "completed"
    },
    "tags": []
   },
   "outputs": [
    {
     "data": {
      "text/html": [
       "<div>\n",
       "<style scoped>\n",
       "    .dataframe tbody tr th:only-of-type {\n",
       "        vertical-align: middle;\n",
       "    }\n",
       "\n",
       "    .dataframe tbody tr th {\n",
       "        vertical-align: top;\n",
       "    }\n",
       "\n",
       "    .dataframe thead th {\n",
       "        text-align: right;\n",
       "    }\n",
       "</style>\n",
       "<table border=\"1\" class=\"dataframe\">\n",
       "  <thead>\n",
       "    <tr style=\"text-align: right;\">\n",
       "      <th></th>\n",
       "      <th>gene_name</th>\n",
       "      <th>tissue</th>\n",
       "      <th>n_tissues</th>\n",
       "    </tr>\n",
       "    <tr>\n",
       "      <th>gene_id</th>\n",
       "      <th></th>\n",
       "      <th></th>\n",
       "      <th></th>\n",
       "    </tr>\n",
       "  </thead>\n",
       "  <tbody>\n",
       "    <tr>\n",
       "      <th>ENSG00000000419</th>\n",
       "      <td>DPM1</td>\n",
       "      <td>(Brain_Substantia_nigra, Brain_Hypothalamus)</td>\n",
       "      <td>2</td>\n",
       "    </tr>\n",
       "    <tr>\n",
       "      <th>ENSG00000000938</th>\n",
       "      <td>FGR</td>\n",
       "      <td>(Cells_EBV-transformed_lymphocytes, Skin_Sun_E...</td>\n",
       "      <td>36</td>\n",
       "    </tr>\n",
       "    <tr>\n",
       "      <th>ENSG00000000971</th>\n",
       "      <td>CFH</td>\n",
       "      <td>(Skin_Sun_Exposed_Lower_leg, Brain_Putamen_bas...</td>\n",
       "      <td>34</td>\n",
       "    </tr>\n",
       "    <tr>\n",
       "      <th>ENSG00000001084</th>\n",
       "      <td>GCLC</td>\n",
       "      <td>(Cells_EBV-transformed_lymphocytes, Skin_Sun_E...</td>\n",
       "      <td>32</td>\n",
       "    </tr>\n",
       "    <tr>\n",
       "      <th>ENSG00000001167</th>\n",
       "      <td>NFYA</td>\n",
       "      <td>(Skin_Sun_Exposed_Lower_leg, Brain_Putamen_bas...</td>\n",
       "      <td>40</td>\n",
       "    </tr>\n",
       "  </tbody>\n",
       "</table>\n",
       "</div>"
      ],
      "text/plain": [
       "                gene_name                                             tissue  \\\n",
       "gene_id                                                                        \n",
       "ENSG00000000419      DPM1       (Brain_Substantia_nigra, Brain_Hypothalamus)   \n",
       "ENSG00000000938       FGR  (Cells_EBV-transformed_lymphocytes, Skin_Sun_E...   \n",
       "ENSG00000000971       CFH  (Skin_Sun_Exposed_Lower_leg, Brain_Putamen_bas...   \n",
       "ENSG00000001084      GCLC  (Cells_EBV-transformed_lymphocytes, Skin_Sun_E...   \n",
       "ENSG00000001167      NFYA  (Skin_Sun_Exposed_Lower_leg, Brain_Putamen_bas...   \n",
       "\n",
       "                 n_tissues  \n",
       "gene_id                     \n",
       "ENSG00000000419          2  \n",
       "ENSG00000000938         36  \n",
       "ENSG00000000971         34  \n",
       "ENSG00000001084         32  \n",
       "ENSG00000001167         40  "
      ]
     },
     "execution_count": 88,
     "metadata": {},
     "output_type": "execute_result"
    }
   ],
   "source": [
    "spredixcan_genes_models.head()"
   ]
  },
  {
   "cell_type": "markdown",
   "id": "2abce820-1cb4-4a58-9dc5-b3e37d3ff037",
   "metadata": {
    "papermill": {
     "duration": 0.012956,
     "end_time": "2022-12-02T21:49:48.206155",
     "exception": false,
     "start_time": "2022-12-02T21:49:48.193199",
     "status": "completed"
    },
    "tags": []
   },
   "source": [
    "### Save"
   ]
  },
  {
   "cell_type": "markdown",
   "id": "28462e2a-da49-44c4-ae71-b3830a2b108f",
   "metadata": {
    "papermill": {
     "duration": 0.012971,
     "end_time": "2022-12-02T21:49:48.232049",
     "exception": false,
     "start_time": "2022-12-02T21:49:48.219078",
     "status": "completed"
    },
    "tags": []
   },
   "source": [
    "Here I quickly save these results to a file, given that the next steps (covariates) are slow to compute."
   ]
  },
  {
   "cell_type": "code",
   "execution_count": 89,
   "id": "9cfb687d-5ab2-4e85-9944-f5c685de8046",
   "metadata": {
    "execution": {
     "iopub.execute_input": "2022-12-02T21:49:48.259102Z",
     "iopub.status.busy": "2022-12-02T21:49:48.258661Z",
     "iopub.status.idle": "2022-12-02T21:49:48.275432Z",
     "shell.execute_reply": "2022-12-02T21:49:48.274929Z"
    },
    "papermill": {
     "duration": 0.031304,
     "end_time": "2022-12-02T21:49:48.276366",
     "exception": false,
     "start_time": "2022-12-02T21:49:48.245062",
     "status": "completed"
    },
    "tags": []
   },
   "outputs": [],
   "source": [
    "# this is important, other scripts depend on gene_name to be unique\n",
    "assert spredixcan_genes_models[\"gene_name\"].is_unique"
   ]
  },
  {
   "cell_type": "code",
   "execution_count": 90,
   "id": "b2d9bd26-afaa-4aff-a707-3109e13af9bb",
   "metadata": {
    "execution": {
     "iopub.execute_input": "2022-12-02T21:49:48.303419Z",
     "iopub.status.busy": "2022-12-02T21:49:48.303089Z",
     "iopub.status.idle": "2022-12-02T21:49:48.321841Z",
     "shell.execute_reply": "2022-12-02T21:49:48.321338Z"
    },
    "papermill": {
     "duration": 0.033143,
     "end_time": "2022-12-02T21:49:48.322686",
     "exception": false,
     "start_time": "2022-12-02T21:49:48.289543",
     "status": "completed"
    },
    "tags": []
   },
   "outputs": [],
   "source": [
    "assert not spredixcan_genes_models.isna().any(axis=None)"
   ]
  },
  {
   "cell_type": "code",
   "execution_count": 91,
   "id": "074b103c-2960-4299-a3ac-fa37ab6f2784",
   "metadata": {
    "execution": {
     "iopub.execute_input": "2022-12-02T21:49:48.349657Z",
     "iopub.status.busy": "2022-12-02T21:49:48.349277Z",
     "iopub.status.idle": "2022-12-02T21:49:48.380987Z",
     "shell.execute_reply": "2022-12-02T21:49:48.380425Z"
    },
    "papermill": {
     "duration": 0.046205,
     "end_time": "2022-12-02T21:49:48.381861",
     "exception": false,
     "start_time": "2022-12-02T21:49:48.335656",
     "status": "completed"
    },
    "tags": []
   },
   "outputs": [],
   "source": [
    "spredixcan_genes_models.to_pickle(OUTPUT_DIR_BASE / \"gene_tissues.pkl\")"
   ]
  },
  {
   "cell_type": "markdown",
   "id": "ae18f693-4da8-48ae-85b6-8194abcca684",
   "metadata": {
    "papermill": {
     "duration": 0.012985,
     "end_time": "2022-12-02T21:49:48.407915",
     "exception": false,
     "start_time": "2022-12-02T21:49:48.394930",
     "status": "completed"
    },
    "tags": []
   },
   "source": [
    "## Add covariates based on S-PrediXcan results"
   ]
  },
  {
   "cell_type": "markdown",
   "id": "bed7a46c-4906-40b9-9dd8-0bfb584e6d2a",
   "metadata": {
    "papermill": {
     "duration": 0.012955,
     "end_time": "2022-12-02T21:49:48.433863",
     "exception": false,
     "start_time": "2022-12-02T21:49:48.420908",
     "status": "completed"
    },
    "tags": []
   },
   "source": [
    "This extend the previous file with more columns"
   ]
  },
  {
   "cell_type": "markdown",
   "id": "850c554f-2ace-40a3-a33a-477246bb07c7",
   "metadata": {
    "papermill": {
     "duration": 0.012943,
     "end_time": "2022-12-02T21:49:48.459884",
     "exception": false,
     "start_time": "2022-12-02T21:49:48.446941",
     "status": "completed"
    },
    "tags": []
   },
   "source": [
    "### Get gene's objects"
   ]
  },
  {
   "cell_type": "code",
   "execution_count": 92,
   "id": "dfd93711-5c91-4cb6-8561-f366e270b6b1",
   "metadata": {
    "execution": {
     "iopub.execute_input": "2022-12-02T21:49:48.487308Z",
     "iopub.status.busy": "2022-12-02T21:49:48.486839Z",
     "iopub.status.idle": "2022-12-02T21:49:48.516756Z",
     "shell.execute_reply": "2022-12-02T21:49:48.516192Z"
    },
    "papermill": {
     "duration": 0.044697,
     "end_time": "2022-12-02T21:49:48.517752",
     "exception": false,
     "start_time": "2022-12-02T21:49:48.473055",
     "status": "completed"
    },
    "tags": []
   },
   "outputs": [],
   "source": [
    "spredixcan_gene_obj = {\n",
    "    gene_id: Gene(ensembl_id=gene_id) for gene_id in spredixcan_genes_models.index\n",
    "}"
   ]
  },
  {
   "cell_type": "code",
   "execution_count": 93,
   "id": "59efbedc-0b5d-4d0b-bd82-95e74c0ba793",
   "metadata": {
    "execution": {
     "iopub.execute_input": "2022-12-02T21:49:48.545087Z",
     "iopub.status.busy": "2022-12-02T21:49:48.544690Z",
     "iopub.status.idle": "2022-12-02T21:49:48.561777Z",
     "shell.execute_reply": "2022-12-02T21:49:48.561303Z"
    },
    "papermill": {
     "duration": 0.031678,
     "end_time": "2022-12-02T21:49:48.562619",
     "exception": false,
     "start_time": "2022-12-02T21:49:48.530941",
     "status": "completed"
    },
    "tags": []
   },
   "outputs": [
    {
     "data": {
      "text/plain": [
       "6442"
      ]
     },
     "execution_count": 93,
     "metadata": {},
     "output_type": "execute_result"
    }
   ],
   "source": [
    "len(spredixcan_gene_obj)"
   ]
  },
  {
   "cell_type": "markdown",
   "id": "ab6ff41a-0949-4eea-abef-7dc4f0b373fc",
   "metadata": {
    "papermill": {
     "duration": 0.013153,
     "end_time": "2022-12-02T21:49:48.589008",
     "exception": false,
     "start_time": "2022-12-02T21:49:48.575855",
     "status": "completed"
    },
    "tags": []
   },
   "source": [
    "### Count number of SNPs predictors used across tissue models"
   ]
  },
  {
   "cell_type": "code",
   "execution_count": 94,
   "id": "c8f6cc6f-5812-45c9-b775-6f2193f8a360",
   "metadata": {
    "execution": {
     "iopub.execute_input": "2022-12-02T21:49:48.616316Z",
     "iopub.status.busy": "2022-12-02T21:49:48.615916Z",
     "iopub.status.idle": "2022-12-02T21:49:48.669452Z",
     "shell.execute_reply": "2022-12-02T21:49:48.668884Z"
    },
    "papermill": {
     "duration": 0.068174,
     "end_time": "2022-12-02T21:49:48.670423",
     "exception": false,
     "start_time": "2022-12-02T21:49:48.602249",
     "status": "completed"
    },
    "tags": []
   },
   "outputs": [],
   "source": [
    "spredixcan_genes_sum_of_n_snps_used = (\n",
    "    spredixcan_dfs.groupby(\"gene_id\")[\"n_snps_used\"].sum().rename(\"n_snps_used_sum\")\n",
    ")"
   ]
  },
  {
   "cell_type": "code",
   "execution_count": 95,
   "id": "7255df64-7b9f-4504-a4fa-1f2a9aa56ec0",
   "metadata": {
    "execution": {
     "iopub.execute_input": "2022-12-02T21:49:48.697806Z",
     "iopub.status.busy": "2022-12-02T21:49:48.697605Z",
     "iopub.status.idle": "2022-12-02T21:49:48.716102Z",
     "shell.execute_reply": "2022-12-02T21:49:48.715622Z"
    },
    "papermill": {
     "duration": 0.03312,
     "end_time": "2022-12-02T21:49:48.716911",
     "exception": false,
     "start_time": "2022-12-02T21:49:48.683791",
     "status": "completed"
    },
    "tags": []
   },
   "outputs": [
    {
     "data": {
      "text/plain": [
       "gene_id\n",
       "ENSG00000000419     2\n",
       "ENSG00000000938    40\n",
       "ENSG00000000971    44\n",
       "ENSG00000001084    46\n",
       "ENSG00000001167    47\n",
       "                   ..\n",
       "ENSG00000278540    44\n",
       "ENSG00000278828     5\n",
       "ENSG00000278845    89\n",
       "ENSG00000281005    81\n",
       "ENSG00000282608    40\n",
       "Name: n_snps_used_sum, Length: 6442, dtype: int64"
      ]
     },
     "execution_count": 95,
     "metadata": {},
     "output_type": "execute_result"
    }
   ],
   "source": [
    "spredixcan_genes_sum_of_n_snps_used"
   ]
  },
  {
   "cell_type": "code",
   "execution_count": 96,
   "id": "44bc1222-b334-4ce2-8997-494d0e584cf9",
   "metadata": {
    "execution": {
     "iopub.execute_input": "2022-12-02T21:49:48.744847Z",
     "iopub.status.busy": "2022-12-02T21:49:48.744459Z",
     "iopub.status.idle": "2022-12-02T21:49:48.763676Z",
     "shell.execute_reply": "2022-12-02T21:49:48.763169Z"
    },
    "papermill": {
     "duration": 0.034102,
     "end_time": "2022-12-02T21:49:48.764619",
     "exception": false,
     "start_time": "2022-12-02T21:49:48.730517",
     "status": "completed"
    },
    "tags": []
   },
   "outputs": [],
   "source": [
    "# add sum of snps used to spredixcan_genes_models\n",
    "spredixcan_genes_models = spredixcan_genes_models.join(\n",
    "    spredixcan_genes_sum_of_n_snps_used\n",
    ")"
   ]
  },
  {
   "cell_type": "code",
   "execution_count": 97,
   "id": "5e5e6d7f-b970-4f21-9322-b76bc22afd71",
   "metadata": {
    "execution": {
     "iopub.execute_input": "2022-12-02T21:49:48.792139Z",
     "iopub.status.busy": "2022-12-02T21:49:48.791944Z",
     "iopub.status.idle": "2022-12-02T21:49:48.809048Z",
     "shell.execute_reply": "2022-12-02T21:49:48.808549Z"
    },
    "papermill": {
     "duration": 0.031779,
     "end_time": "2022-12-02T21:49:48.809865",
     "exception": false,
     "start_time": "2022-12-02T21:49:48.778086",
     "status": "completed"
    },
    "tags": []
   },
   "outputs": [
    {
     "data": {
      "text/plain": [
       "(6442, 4)"
      ]
     },
     "execution_count": 97,
     "metadata": {},
     "output_type": "execute_result"
    }
   ],
   "source": [
    "spredixcan_genes_models.shape"
   ]
  },
  {
   "cell_type": "code",
   "execution_count": 98,
   "id": "22c096c2-213a-4001-8454-1633997d404f",
   "metadata": {
    "execution": {
     "iopub.execute_input": "2022-12-02T21:49:48.837975Z",
     "iopub.status.busy": "2022-12-02T21:49:48.837640Z",
     "iopub.status.idle": "2022-12-02T21:49:48.858731Z",
     "shell.execute_reply": "2022-12-02T21:49:48.858247Z"
    },
    "papermill": {
     "duration": 0.03625,
     "end_time": "2022-12-02T21:49:48.859542",
     "exception": false,
     "start_time": "2022-12-02T21:49:48.823292",
     "status": "completed"
    },
    "tags": []
   },
   "outputs": [
    {
     "data": {
      "text/html": [
       "<div>\n",
       "<style scoped>\n",
       "    .dataframe tbody tr th:only-of-type {\n",
       "        vertical-align: middle;\n",
       "    }\n",
       "\n",
       "    .dataframe tbody tr th {\n",
       "        vertical-align: top;\n",
       "    }\n",
       "\n",
       "    .dataframe thead th {\n",
       "        text-align: right;\n",
       "    }\n",
       "</style>\n",
       "<table border=\"1\" class=\"dataframe\">\n",
       "  <thead>\n",
       "    <tr style=\"text-align: right;\">\n",
       "      <th></th>\n",
       "      <th>gene_name</th>\n",
       "      <th>tissue</th>\n",
       "      <th>n_tissues</th>\n",
       "      <th>n_snps_used_sum</th>\n",
       "    </tr>\n",
       "    <tr>\n",
       "      <th>gene_id</th>\n",
       "      <th></th>\n",
       "      <th></th>\n",
       "      <th></th>\n",
       "      <th></th>\n",
       "    </tr>\n",
       "  </thead>\n",
       "  <tbody>\n",
       "    <tr>\n",
       "      <th>ENSG00000000419</th>\n",
       "      <td>DPM1</td>\n",
       "      <td>(Brain_Substantia_nigra, Brain_Hypothalamus)</td>\n",
       "      <td>2</td>\n",
       "      <td>2</td>\n",
       "    </tr>\n",
       "    <tr>\n",
       "      <th>ENSG00000000938</th>\n",
       "      <td>FGR</td>\n",
       "      <td>(Cells_EBV-transformed_lymphocytes, Skin_Sun_E...</td>\n",
       "      <td>36</td>\n",
       "      <td>40</td>\n",
       "    </tr>\n",
       "    <tr>\n",
       "      <th>ENSG00000000971</th>\n",
       "      <td>CFH</td>\n",
       "      <td>(Skin_Sun_Exposed_Lower_leg, Brain_Putamen_bas...</td>\n",
       "      <td>34</td>\n",
       "      <td>44</td>\n",
       "    </tr>\n",
       "    <tr>\n",
       "      <th>ENSG00000001084</th>\n",
       "      <td>GCLC</td>\n",
       "      <td>(Cells_EBV-transformed_lymphocytes, Skin_Sun_E...</td>\n",
       "      <td>32</td>\n",
       "      <td>46</td>\n",
       "    </tr>\n",
       "    <tr>\n",
       "      <th>ENSG00000001167</th>\n",
       "      <td>NFYA</td>\n",
       "      <td>(Skin_Sun_Exposed_Lower_leg, Brain_Putamen_bas...</td>\n",
       "      <td>40</td>\n",
       "      <td>47</td>\n",
       "    </tr>\n",
       "  </tbody>\n",
       "</table>\n",
       "</div>"
      ],
      "text/plain": [
       "                gene_name                                             tissue  \\\n",
       "gene_id                                                                        \n",
       "ENSG00000000419      DPM1       (Brain_Substantia_nigra, Brain_Hypothalamus)   \n",
       "ENSG00000000938       FGR  (Cells_EBV-transformed_lymphocytes, Skin_Sun_E...   \n",
       "ENSG00000000971       CFH  (Skin_Sun_Exposed_Lower_leg, Brain_Putamen_bas...   \n",
       "ENSG00000001084      GCLC  (Cells_EBV-transformed_lymphocytes, Skin_Sun_E...   \n",
       "ENSG00000001167      NFYA  (Skin_Sun_Exposed_Lower_leg, Brain_Putamen_bas...   \n",
       "\n",
       "                 n_tissues  n_snps_used_sum  \n",
       "gene_id                                      \n",
       "ENSG00000000419          2                2  \n",
       "ENSG00000000938         36               40  \n",
       "ENSG00000000971         34               44  \n",
       "ENSG00000001084         32               46  \n",
       "ENSG00000001167         40               47  "
      ]
     },
     "execution_count": 98,
     "metadata": {},
     "output_type": "execute_result"
    }
   ],
   "source": [
    "spredixcan_genes_models.head()"
   ]
  },
  {
   "cell_type": "markdown",
   "id": "f4692315-d7be-465e-b756-f6d76fec949e",
   "metadata": {
    "papermill": {
     "duration": 0.013564,
     "end_time": "2022-12-02T21:49:48.886778",
     "exception": false,
     "start_time": "2022-12-02T21:49:48.873214",
     "status": "completed"
    },
    "tags": []
   },
   "source": [
    "### Count number of SNPs predictors in models across tissue models"
   ]
  },
  {
   "cell_type": "code",
   "execution_count": 99,
   "id": "08eed385-36eb-4e42-b28e-51333f9cfcd3",
   "metadata": {
    "execution": {
     "iopub.execute_input": "2022-12-02T21:49:48.915342Z",
     "iopub.status.busy": "2022-12-02T21:49:48.914902Z",
     "iopub.status.idle": "2022-12-02T21:49:48.968888Z",
     "shell.execute_reply": "2022-12-02T21:49:48.968326Z"
    },
    "papermill": {
     "duration": 0.06959,
     "end_time": "2022-12-02T21:49:48.969889",
     "exception": false,
     "start_time": "2022-12-02T21:49:48.900299",
     "status": "completed"
    },
    "tags": []
   },
   "outputs": [],
   "source": [
    "spredixcan_genes_sum_of_n_snps_in_model = (\n",
    "    spredixcan_dfs.groupby(\"gene_id\")[\"n_snps_in_model\"]\n",
    "    .sum()\n",
    "    .rename(\"n_snps_in_model_sum\")\n",
    ")"
   ]
  },
  {
   "cell_type": "code",
   "execution_count": 100,
   "id": "10431f5c-1f56-4664-a09f-53c608bec631",
   "metadata": {
    "execution": {
     "iopub.execute_input": "2022-12-02T21:49:48.998227Z",
     "iopub.status.busy": "2022-12-02T21:49:48.997737Z",
     "iopub.status.idle": "2022-12-02T21:49:49.016628Z",
     "shell.execute_reply": "2022-12-02T21:49:49.016143Z"
    },
    "papermill": {
     "duration": 0.033972,
     "end_time": "2022-12-02T21:49:49.017550",
     "exception": false,
     "start_time": "2022-12-02T21:49:48.983578",
     "status": "completed"
    },
    "tags": []
   },
   "outputs": [
    {
     "data": {
      "text/plain": [
       "gene_id\n",
       "ENSG00000000419     2\n",
       "ENSG00000000938    40\n",
       "ENSG00000000971    44\n",
       "ENSG00000001084    46\n",
       "ENSG00000001167    48\n",
       "                   ..\n",
       "ENSG00000278540    44\n",
       "ENSG00000278828     5\n",
       "ENSG00000278845    91\n",
       "ENSG00000281005    81\n",
       "ENSG00000282608    40\n",
       "Name: n_snps_in_model_sum, Length: 6442, dtype: int64"
      ]
     },
     "execution_count": 100,
     "metadata": {},
     "output_type": "execute_result"
    }
   ],
   "source": [
    "spredixcan_genes_sum_of_n_snps_in_model"
   ]
  },
  {
   "cell_type": "code",
   "execution_count": 101,
   "id": "d13e1d65-0dcb-4a94-aba8-bcdcd09d17c3",
   "metadata": {
    "execution": {
     "iopub.execute_input": "2022-12-02T21:49:49.046437Z",
     "iopub.status.busy": "2022-12-02T21:49:49.046101Z",
     "iopub.status.idle": "2022-12-02T21:49:49.064568Z",
     "shell.execute_reply": "2022-12-02T21:49:49.064044Z"
    },
    "papermill": {
     "duration": 0.033659,
     "end_time": "2022-12-02T21:49:49.065434",
     "exception": false,
     "start_time": "2022-12-02T21:49:49.031775",
     "status": "completed"
    },
    "tags": []
   },
   "outputs": [],
   "source": [
    "# add sum of snps in model to spredixcan_genes_models\n",
    "spredixcan_genes_models = spredixcan_genes_models.join(\n",
    "    spredixcan_genes_sum_of_n_snps_in_model\n",
    ")"
   ]
  },
  {
   "cell_type": "code",
   "execution_count": 102,
   "id": "0d3973d8-5da2-4c9d-b406-2525f615035c",
   "metadata": {
    "execution": {
     "iopub.execute_input": "2022-12-02T21:49:49.093669Z",
     "iopub.status.busy": "2022-12-02T21:49:49.093423Z",
     "iopub.status.idle": "2022-12-02T21:49:49.110506Z",
     "shell.execute_reply": "2022-12-02T21:49:49.110020Z"
    },
    "papermill": {
     "duration": 0.032202,
     "end_time": "2022-12-02T21:49:49.111298",
     "exception": false,
     "start_time": "2022-12-02T21:49:49.079096",
     "status": "completed"
    },
    "tags": []
   },
   "outputs": [
    {
     "data": {
      "text/plain": [
       "(6442, 5)"
      ]
     },
     "execution_count": 102,
     "metadata": {},
     "output_type": "execute_result"
    }
   ],
   "source": [
    "spredixcan_genes_models.shape"
   ]
  },
  {
   "cell_type": "code",
   "execution_count": 103,
   "id": "76c27f05-c5c6-4ed9-9363-fcba871a3572",
   "metadata": {
    "execution": {
     "iopub.execute_input": "2022-12-02T21:49:49.139767Z",
     "iopub.status.busy": "2022-12-02T21:49:49.139361Z",
     "iopub.status.idle": "2022-12-02T21:49:49.160873Z",
     "shell.execute_reply": "2022-12-02T21:49:49.160386Z"
    },
    "papermill": {
     "duration": 0.036547,
     "end_time": "2022-12-02T21:49:49.161713",
     "exception": false,
     "start_time": "2022-12-02T21:49:49.125166",
     "status": "completed"
    },
    "tags": []
   },
   "outputs": [
    {
     "data": {
      "text/html": [
       "<div>\n",
       "<style scoped>\n",
       "    .dataframe tbody tr th:only-of-type {\n",
       "        vertical-align: middle;\n",
       "    }\n",
       "\n",
       "    .dataframe tbody tr th {\n",
       "        vertical-align: top;\n",
       "    }\n",
       "\n",
       "    .dataframe thead th {\n",
       "        text-align: right;\n",
       "    }\n",
       "</style>\n",
       "<table border=\"1\" class=\"dataframe\">\n",
       "  <thead>\n",
       "    <tr style=\"text-align: right;\">\n",
       "      <th></th>\n",
       "      <th>gene_name</th>\n",
       "      <th>tissue</th>\n",
       "      <th>n_tissues</th>\n",
       "      <th>n_snps_used_sum</th>\n",
       "      <th>n_snps_in_model_sum</th>\n",
       "    </tr>\n",
       "    <tr>\n",
       "      <th>gene_id</th>\n",
       "      <th></th>\n",
       "      <th></th>\n",
       "      <th></th>\n",
       "      <th></th>\n",
       "      <th></th>\n",
       "    </tr>\n",
       "  </thead>\n",
       "  <tbody>\n",
       "    <tr>\n",
       "      <th>ENSG00000000419</th>\n",
       "      <td>DPM1</td>\n",
       "      <td>(Brain_Substantia_nigra, Brain_Hypothalamus)</td>\n",
       "      <td>2</td>\n",
       "      <td>2</td>\n",
       "      <td>2</td>\n",
       "    </tr>\n",
       "    <tr>\n",
       "      <th>ENSG00000000938</th>\n",
       "      <td>FGR</td>\n",
       "      <td>(Cells_EBV-transformed_lymphocytes, Skin_Sun_E...</td>\n",
       "      <td>36</td>\n",
       "      <td>40</td>\n",
       "      <td>40</td>\n",
       "    </tr>\n",
       "    <tr>\n",
       "      <th>ENSG00000000971</th>\n",
       "      <td>CFH</td>\n",
       "      <td>(Skin_Sun_Exposed_Lower_leg, Brain_Putamen_bas...</td>\n",
       "      <td>34</td>\n",
       "      <td>44</td>\n",
       "      <td>44</td>\n",
       "    </tr>\n",
       "    <tr>\n",
       "      <th>ENSG00000001084</th>\n",
       "      <td>GCLC</td>\n",
       "      <td>(Cells_EBV-transformed_lymphocytes, Skin_Sun_E...</td>\n",
       "      <td>32</td>\n",
       "      <td>46</td>\n",
       "      <td>46</td>\n",
       "    </tr>\n",
       "    <tr>\n",
       "      <th>ENSG00000001167</th>\n",
       "      <td>NFYA</td>\n",
       "      <td>(Skin_Sun_Exposed_Lower_leg, Brain_Putamen_bas...</td>\n",
       "      <td>40</td>\n",
       "      <td>47</td>\n",
       "      <td>48</td>\n",
       "    </tr>\n",
       "  </tbody>\n",
       "</table>\n",
       "</div>"
      ],
      "text/plain": [
       "                gene_name                                             tissue  \\\n",
       "gene_id                                                                        \n",
       "ENSG00000000419      DPM1       (Brain_Substantia_nigra, Brain_Hypothalamus)   \n",
       "ENSG00000000938       FGR  (Cells_EBV-transformed_lymphocytes, Skin_Sun_E...   \n",
       "ENSG00000000971       CFH  (Skin_Sun_Exposed_Lower_leg, Brain_Putamen_bas...   \n",
       "ENSG00000001084      GCLC  (Cells_EBV-transformed_lymphocytes, Skin_Sun_E...   \n",
       "ENSG00000001167      NFYA  (Skin_Sun_Exposed_Lower_leg, Brain_Putamen_bas...   \n",
       "\n",
       "                 n_tissues  n_snps_used_sum  n_snps_in_model_sum  \n",
       "gene_id                                                           \n",
       "ENSG00000000419          2                2                    2  \n",
       "ENSG00000000938         36               40                   40  \n",
       "ENSG00000000971         34               44                   44  \n",
       "ENSG00000001084         32               46                   46  \n",
       "ENSG00000001167         40               47                   48  "
      ]
     },
     "execution_count": 103,
     "metadata": {},
     "output_type": "execute_result"
    }
   ],
   "source": [
    "spredixcan_genes_models.head()"
   ]
  },
  {
   "cell_type": "markdown",
   "id": "d6947d45-ea78-4c6b-bf71-f7413d1687e3",
   "metadata": {
    "papermill": {
     "duration": 0.0141,
     "end_time": "2022-12-02T21:49:49.189683",
     "exception": false,
     "start_time": "2022-12-02T21:49:49.175583",
     "status": "completed"
    },
    "tags": []
   },
   "source": [
    "### Save"
   ]
  },
  {
   "cell_type": "code",
   "execution_count": 104,
   "id": "ebc3a430-7bd5-4099-8b01-aa77e704e3e7",
   "metadata": {
    "execution": {
     "iopub.execute_input": "2022-12-02T21:49:49.218403Z",
     "iopub.status.busy": "2022-12-02T21:49:49.218153Z",
     "iopub.status.idle": "2022-12-02T21:49:49.235021Z",
     "shell.execute_reply": "2022-12-02T21:49:49.234523Z"
    },
    "papermill": {
     "duration": 0.032454,
     "end_time": "2022-12-02T21:49:49.235961",
     "exception": false,
     "start_time": "2022-12-02T21:49:49.203507",
     "status": "completed"
    },
    "tags": []
   },
   "outputs": [],
   "source": [
    "# this is important, other scripts depend on gene_name to be unique\n",
    "assert spredixcan_genes_models[\"gene_name\"].is_unique"
   ]
  },
  {
   "cell_type": "code",
   "execution_count": 105,
   "id": "e2db5302-3051-4492-97e1-e759d2fb512f",
   "metadata": {
    "execution": {
     "iopub.execute_input": "2022-12-02T21:49:49.264889Z",
     "iopub.status.busy": "2022-12-02T21:49:49.264545Z",
     "iopub.status.idle": "2022-12-02T21:49:49.283306Z",
     "shell.execute_reply": "2022-12-02T21:49:49.282805Z"
    },
    "papermill": {
     "duration": 0.03419,
     "end_time": "2022-12-02T21:49:49.284216",
     "exception": false,
     "start_time": "2022-12-02T21:49:49.250026",
     "status": "completed"
    },
    "tags": []
   },
   "outputs": [],
   "source": [
    "assert not spredixcan_genes_models.isna().any(axis=None)"
   ]
  },
  {
   "cell_type": "code",
   "execution_count": 106,
   "id": "10e19441-8390-4eb1-8da4-24752597bb54",
   "metadata": {
    "execution": {
     "iopub.execute_input": "2022-12-02T21:49:49.313237Z",
     "iopub.status.busy": "2022-12-02T21:49:49.313031Z",
     "iopub.status.idle": "2022-12-02T21:49:49.345283Z",
     "shell.execute_reply": "2022-12-02T21:49:49.344716Z"
    },
    "papermill": {
     "duration": 0.047887,
     "end_time": "2022-12-02T21:49:49.346227",
     "exception": false,
     "start_time": "2022-12-02T21:49:49.298340",
     "status": "completed"
    },
    "tags": []
   },
   "outputs": [],
   "source": [
    "spredixcan_genes_models.to_pickle(OUTPUT_DIR_BASE / \"gene_tissues.pkl\")"
   ]
  },
  {
   "cell_type": "code",
   "execution_count": null,
   "id": "b25e3ead",
   "metadata": {
    "papermill": {
     "duration": 0.013953,
     "end_time": "2022-12-02T21:49:49.374609",
     "exception": false,
     "start_time": "2022-12-02T21:49:49.360656",
     "status": "completed"
    },
    "tags": []
   },
   "outputs": [],
   "source": []
  }
 ],
 "metadata": {
  "jupytext": {
   "cell_metadata_filter": "all,-execution,-papermill,-trusted",
   "formats": "ipynb,py//py:percent"
  },
  "kernelspec": {
   "display_name": "Python 3 (ipykernel)",
   "language": "python",
   "name": "python3"
  },
  "language_info": {
   "codemirror_mode": {
    "name": "ipython",
    "version": 3
   },
   "file_extension": ".py",
   "mimetype": "text/x-python",
   "name": "python",
   "nbconvert_exporter": "python",
   "pygments_lexer": "ipython3",
   "version": "3.10.6"
  },
  "papermill": {
   "default_parameters": {},
   "duration": 45.858065,
   "end_time": "2022-12-02T21:49:50.308924",
   "environment_variables": {},
   "exception": null,
   "input_path": "projects/asthma-copd/nbs/20_gene_corrs/jobs/01-compile_gwas_snps_and_twas_genes.ipynb",
   "output_path": "projects/asthma-copd/nbs/20_gene_corrs/jobs/../output/aco/01-compile_gwas_snps_and_twas_genes.run.ipynb",
   "parameters": {
    "COHORT_NAME": "aco",
    "GWAS_FILE": "/opt/data/projects/asthma-copd/results/final_imputed_gwas/GWAS_ACO_GLM_SNPs_info0.7-harmonized-imputed.txt.gz",
    "OUTPUT_DIR_BASE": "/opt/data/projects/asthma-copd/results/gls_phenoplier",
    "PHENOPLIER_NOTEBOOK_FILEPATH": "projects/asthma-copd/nbs/20_gene_corrs/jobs/01-compile_gwas_snps_and_twas_genes.ipynb",
    "SMULTIXCAN_FILE": "/opt/data/projects/asthma-copd/results/twas/smultixcan/GWAS_ACO_GLM_SNPs_info0.7-gtex_v8-mashr-smultixcan.txt",
    "SPREDIXCAN_FILE_PATTERN": "GWAS_ACO_GLM_SNPs_info0.7-gtex_v8-mashr-{tissue}.csv",
    "SPREDIXCAN_FOLDER": "/opt/data/projects/asthma-copd/results/twas/spredixcan"
   },
   "start_time": "2022-12-02T21:49:04.450859",
   "version": "2.2.2"
  },
  "toc-autonumbering": true
 },
 "nbformat": 4,
 "nbformat_minor": 5
}
