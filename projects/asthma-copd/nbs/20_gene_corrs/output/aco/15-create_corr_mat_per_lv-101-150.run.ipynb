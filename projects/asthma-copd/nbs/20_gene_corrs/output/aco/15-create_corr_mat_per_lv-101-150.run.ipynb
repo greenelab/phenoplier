{
 "cells": [
  {
   "cell_type": "markdown",
   "id": "5ef66977",
   "metadata": {
    "papermill": {
     "duration": 0.007278,
     "end_time": "2022-12-15T19:36:55.590168",
     "exception": false,
     "start_time": "2022-12-15T19:36:55.582890",
     "status": "completed"
    },
    "tags": []
   },
   "source": [
    "# Description"
   ]
  },
  {
   "cell_type": "markdown",
   "id": "658d4f7c",
   "metadata": {
    "papermill": {
     "duration": 0.00602,
     "end_time": "2022-12-15T19:36:55.605771",
     "exception": false,
     "start_time": "2022-12-15T19:36:55.599751",
     "status": "completed"
    },
    "tags": []
   },
   "source": [
    "(Please, take a look at the README.md file in this directory for instructions on how to run this notebook)\n",
    "\n",
    "It computes an LV-specific correlation matrix by using the top genes in that LV only.\n",
    "\n",
    "It has specicfic parameters for papermill (see under `Settings` below).\n",
    "\n",
    "This notebook is not directly run. See README.md."
   ]
  },
  {
   "cell_type": "markdown",
   "id": "60fa4530",
   "metadata": {
    "papermill": {
     "duration": 0.006051,
     "end_time": "2022-12-15T19:36:55.617653",
     "exception": false,
     "start_time": "2022-12-15T19:36:55.611602",
     "status": "completed"
    },
    "tags": []
   },
   "source": [
    "# Modules"
   ]
  },
  {
   "cell_type": "code",
   "execution_count": 1,
   "id": "d70b0833",
   "metadata": {
    "execution": {
     "iopub.execute_input": "2022-12-15T19:36:55.632020Z",
     "iopub.status.busy": "2022-12-15T19:36:55.631606Z",
     "iopub.status.idle": "2022-12-15T19:36:55.649708Z",
     "shell.execute_reply": "2022-12-15T19:36:55.649079Z"
    },
    "papermill": {
     "duration": 0.027817,
     "end_time": "2022-12-15T19:36:55.651656",
     "exception": false,
     "start_time": "2022-12-15T19:36:55.623839",
     "status": "completed"
    },
    "tags": []
   },
   "outputs": [],
   "source": [
    "%load_ext autoreload\n",
    "%autoreload 2"
   ]
  },
  {
   "cell_type": "code",
   "execution_count": 2,
   "id": "6b2f9ca0",
   "metadata": {
    "execution": {
     "iopub.execute_input": "2022-12-15T19:36:55.665979Z",
     "iopub.status.busy": "2022-12-15T19:36:55.665581Z",
     "iopub.status.idle": "2022-12-15T19:36:56.438958Z",
     "shell.execute_reply": "2022-12-15T19:36:56.438405Z"
    },
    "papermill": {
     "duration": 0.782954,
     "end_time": "2022-12-15T19:36:56.440963",
     "exception": false,
     "start_time": "2022-12-15T19:36:55.658009",
     "status": "completed"
    },
    "tags": []
   },
   "outputs": [],
   "source": [
    "from pathlib import Path\n",
    "from concurrent.futures import ProcessPoolExecutor, as_completed\n",
    "\n",
    "import numpy as np\n",
    "from scipy.spatial.distance import squareform\n",
    "from scipy import sparse\n",
    "import pandas as pd\n",
    "from tqdm import tqdm\n",
    "\n",
    "import conf\n",
    "from utils import chunker\n",
    "from entity import Gene\n",
    "from gls import GLSPhenoplier"
   ]
  },
  {
   "cell_type": "markdown",
   "id": "5b96e797",
   "metadata": {
    "papermill": {
     "duration": 0.010042,
     "end_time": "2022-12-15T19:36:56.457267",
     "exception": false,
     "start_time": "2022-12-15T19:36:56.447225",
     "status": "completed"
    },
    "tags": []
   },
   "source": [
    "# Settings"
   ]
  },
  {
   "cell_type": "code",
   "execution_count": 3,
   "id": "4fc1b6a0",
   "metadata": {
    "execution": {
     "iopub.execute_input": "2022-12-15T19:36:56.471311Z",
     "iopub.status.busy": "2022-12-15T19:36:56.471036Z",
     "iopub.status.idle": "2022-12-15T19:36:56.491439Z",
     "shell.execute_reply": "2022-12-15T19:36:56.490664Z"
    },
    "papermill": {
     "duration": 0.030214,
     "end_time": "2022-12-15T19:36:56.493818",
     "exception": false,
     "start_time": "2022-12-15T19:36:56.463604",
     "status": "completed"
    },
    "tags": [
     "parameters"
    ]
   },
   "outputs": [],
   "source": [
    "# a cohort name (it could be something like UK_BIOBANK, etc)\n",
    "COHORT_NAME = None\n",
    "\n",
    "# reference panel such as 1000G or GTEX_V8\n",
    "REFERENCE_PANEL = \"GTEX_V8\"\n",
    "\n",
    "# predictions models such as MASHR or ELASTIC_NET\n",
    "EQTL_MODEL = \"MASHR\"\n",
    "\n",
    "# A range of LVs in the format X-Y, such as 1-50 (from LV1 to LV50).\n",
    "# If None, all LVs will be processed.\n",
    "LV_RANGE = None\n",
    "\n",
    "# A number from 0.0 to 1.0 indicating the top percentile of the genes in the LV to keep.\n",
    "# A value of 0.01 would take the top 1% of the genes in the LV.\n",
    "# If zero or None, then all nonzero weighted genes in the LV will be kept.\n",
    "LV_PERCENTILE = None"
   ]
  },
  {
   "cell_type": "code",
   "execution_count": 4,
   "id": "0430632c",
   "metadata": {
    "execution": {
     "iopub.execute_input": "2022-12-15T19:36:56.513365Z",
     "iopub.status.busy": "2022-12-15T19:36:56.512923Z",
     "iopub.status.idle": "2022-12-15T19:36:56.543004Z",
     "shell.execute_reply": "2022-12-15T19:36:56.542272Z"
    },
    "papermill": {
     "duration": 0.042661,
     "end_time": "2022-12-15T19:36:56.545278",
     "exception": false,
     "start_time": "2022-12-15T19:36:56.502617",
     "status": "completed"
    },
    "tags": [
     "injected-parameters"
    ]
   },
   "outputs": [],
   "source": [
    "# Parameters\n",
    "PHENOPLIER_NOTEBOOK_FILEPATH = (\n",
    "    \"projects/asthma-copd/nbs/20_gene_corrs/jobs/15-create_corr_mat_per_lv.ipynb\"\n",
    ")\n",
    "COHORT_NAME = \"aco\"\n",
    "LV_RANGE = \"101-150\"\n",
    "LV_PERCENTILE = \"0.01\"\n",
    "OUTPUT_DIR_BASE = \"/opt/data/projects/asthma-copd/results/gls_phenoplier\"\n"
   ]
  },
  {
   "cell_type": "code",
   "execution_count": 5,
   "id": "1dbaa2d1-b4d2-4247-bbdc-84f9a08fe15a",
   "metadata": {
    "execution": {
     "iopub.execute_input": "2022-12-15T19:36:56.560974Z",
     "iopub.status.busy": "2022-12-15T19:36:56.560626Z",
     "iopub.status.idle": "2022-12-15T19:36:56.587571Z",
     "shell.execute_reply": "2022-12-15T19:36:56.586879Z"
    },
    "papermill": {
     "duration": 0.037342,
     "end_time": "2022-12-15T19:36:56.589728",
     "exception": false,
     "start_time": "2022-12-15T19:36:56.552386",
     "status": "completed"
    },
    "tags": []
   },
   "outputs": [],
   "source": [
    "N_JOBS = 1"
   ]
  },
  {
   "cell_type": "code",
   "execution_count": 6,
   "id": "10c1d77a-c024-4d52-8888-7806944731ff",
   "metadata": {
    "execution": {
     "iopub.execute_input": "2022-12-15T19:36:56.605782Z",
     "iopub.status.busy": "2022-12-15T19:36:56.605454Z",
     "iopub.status.idle": "2022-12-15T19:36:56.641448Z",
     "shell.execute_reply": "2022-12-15T19:36:56.640875Z"
    },
    "papermill": {
     "duration": 0.046207,
     "end_time": "2022-12-15T19:36:56.643026",
     "exception": false,
     "start_time": "2022-12-15T19:36:56.596819",
     "status": "completed"
    },
    "tags": []
   },
   "outputs": [
    {
     "data": {
      "text/plain": [
       "'Cohort name: aco'"
      ]
     },
     "metadata": {},
     "output_type": "display_data"
    }
   ],
   "source": [
    "assert COHORT_NAME is not None and len(COHORT_NAME) > 0, \"A cohort name must be given\"\n",
    "\n",
    "COHORT_NAME = COHORT_NAME.lower()\n",
    "display(f\"Cohort name: {COHORT_NAME}\")"
   ]
  },
  {
   "cell_type": "code",
   "execution_count": 7,
   "id": "2d74d598-860b-4994-a8ab-495c6ea1d93d",
   "metadata": {
    "execution": {
     "iopub.execute_input": "2022-12-15T19:36:56.658786Z",
     "iopub.status.busy": "2022-12-15T19:36:56.658453Z",
     "iopub.status.idle": "2022-12-15T19:36:56.686514Z",
     "shell.execute_reply": "2022-12-15T19:36:56.685966Z"
    },
    "papermill": {
     "duration": 0.038176,
     "end_time": "2022-12-15T19:36:56.687960",
     "exception": false,
     "start_time": "2022-12-15T19:36:56.649784",
     "status": "completed"
    },
    "tags": []
   },
   "outputs": [
    {
     "data": {
      "text/plain": [
       "'Reference panel: GTEX_V8'"
      ]
     },
     "metadata": {},
     "output_type": "display_data"
    }
   ],
   "source": [
    "assert (\n",
    "    REFERENCE_PANEL is not None and len(REFERENCE_PANEL) > 0\n",
    "), \"A reference panel must be given\"\n",
    "\n",
    "display(f\"Reference panel: {REFERENCE_PANEL}\")"
   ]
  },
  {
   "cell_type": "code",
   "execution_count": 8,
   "id": "23fccc89-f877-46a0-86c9-caa7b2cd71e2",
   "metadata": {
    "execution": {
     "iopub.execute_input": "2022-12-15T19:36:56.703250Z",
     "iopub.status.busy": "2022-12-15T19:36:56.702927Z",
     "iopub.status.idle": "2022-12-15T19:36:56.730706Z",
     "shell.execute_reply": "2022-12-15T19:36:56.730142Z"
    },
    "papermill": {
     "duration": 0.037456,
     "end_time": "2022-12-15T19:36:56.732157",
     "exception": false,
     "start_time": "2022-12-15T19:36:56.694701",
     "status": "completed"
    },
    "tags": []
   },
   "outputs": [
    {
     "data": {
      "text/plain": [
       "'eQTL model: MASHR / mashr_'"
      ]
     },
     "metadata": {},
     "output_type": "display_data"
    }
   ],
   "source": [
    "assert (\n",
    "    EQTL_MODEL is not None and len(EQTL_MODEL) > 0\n",
    "), \"A prediction/eQTL model must be given\"\n",
    "\n",
    "EQTL_MODEL_FILES_PREFIX = conf.PHENOMEXCAN[\"PREDICTION_MODELS\"][f\"{EQTL_MODEL}_PREFIX\"]\n",
    "display(f\"eQTL model: {EQTL_MODEL} / {EQTL_MODEL_FILES_PREFIX}\")"
   ]
  },
  {
   "cell_type": "code",
   "execution_count": 9,
   "id": "9cf97d20-389b-4919-acff-a1e2e1c5a707",
   "metadata": {
    "execution": {
     "iopub.execute_input": "2022-12-15T19:36:56.749130Z",
     "iopub.status.busy": "2022-12-15T19:36:56.748769Z",
     "iopub.status.idle": "2022-12-15T19:36:56.775977Z",
     "shell.execute_reply": "2022-12-15T19:36:56.775398Z"
    },
    "papermill": {
     "duration": 0.038012,
     "end_time": "2022-12-15T19:36:56.777493",
     "exception": false,
     "start_time": "2022-12-15T19:36:56.739481",
     "status": "completed"
    },
    "tags": []
   },
   "outputs": [
    {
     "data": {
      "text/plain": [
       "'LV percentile: 0.01'"
      ]
     },
     "metadata": {},
     "output_type": "display_data"
    }
   ],
   "source": [
    "if LV_PERCENTILE is not None:\n",
    "    LV_PERCENTILE = float(LV_PERCENTILE)\n",
    "\n",
    "display(f\"LV percentile: {LV_PERCENTILE}\")"
   ]
  },
  {
   "cell_type": "code",
   "execution_count": 10,
   "id": "b3320631-6bf0-4878-85d4-9a81497c0b3c",
   "metadata": {
    "execution": {
     "iopub.execute_input": "2022-12-15T19:36:56.793344Z",
     "iopub.status.busy": "2022-12-15T19:36:56.793014Z",
     "iopub.status.idle": "2022-12-15T19:36:56.824947Z",
     "shell.execute_reply": "2022-12-15T19:36:56.824018Z"
    },
    "papermill": {
     "duration": 0.042439,
     "end_time": "2022-12-15T19:36:56.826773",
     "exception": false,
     "start_time": "2022-12-15T19:36:56.784334",
     "status": "completed"
    },
    "tags": []
   },
   "outputs": [
    {
     "data": {
      "text/plain": [
       "'Using output dir base: /opt/data/projects/asthma-copd/results/gls_phenoplier/gene_corrs/aco'"
      ]
     },
     "metadata": {},
     "output_type": "display_data"
    }
   ],
   "source": [
    "assert (\n",
    "    OUTPUT_DIR_BASE is not None and len(OUTPUT_DIR_BASE) > 0\n",
    "), \"Output directory path must be given\"\n",
    "\n",
    "OUTPUT_DIR_BASE = (Path(OUTPUT_DIR_BASE) / \"gene_corrs\" / COHORT_NAME).resolve()\n",
    "\n",
    "OUTPUT_DIR_BASE.mkdir(parents=True, exist_ok=True)\n",
    "\n",
    "display(f\"Using output dir base: {OUTPUT_DIR_BASE}\")"
   ]
  },
  {
   "cell_type": "markdown",
   "id": "99ccb166",
   "metadata": {
    "papermill": {
     "duration": 0.008235,
     "end_time": "2022-12-15T19:36:56.843284",
     "exception": false,
     "start_time": "2022-12-15T19:36:56.835049",
     "status": "completed"
    },
    "tags": []
   },
   "source": [
    "# Load data"
   ]
  },
  {
   "cell_type": "markdown",
   "id": "d5262187-494c-4399-8b71-cbbc3e20a9df",
   "metadata": {
    "papermill": {
     "duration": 0.008093,
     "end_time": "2022-12-15T19:36:56.859617",
     "exception": false,
     "start_time": "2022-12-15T19:36:56.851524",
     "status": "completed"
    },
    "tags": []
   },
   "source": [
    "## Gene correlations"
   ]
  },
  {
   "cell_type": "code",
   "execution_count": 11,
   "id": "2f174f95-2be3-4b63-95fb-451413ad361d",
   "metadata": {
    "execution": {
     "iopub.execute_input": "2022-12-15T19:36:56.878576Z",
     "iopub.status.busy": "2022-12-15T19:36:56.878214Z",
     "iopub.status.idle": "2022-12-15T19:36:56.908555Z",
     "shell.execute_reply": "2022-12-15T19:36:56.907940Z"
    },
    "papermill": {
     "duration": 0.042276,
     "end_time": "2022-12-15T19:36:56.910197",
     "exception": false,
     "start_time": "2022-12-15T19:36:56.867921",
     "status": "completed"
    },
    "tags": []
   },
   "outputs": [
    {
     "data": {
      "text/plain": [
       "[PosixPath('/opt/data/projects/asthma-copd/results/gls_phenoplier/gene_corrs/aco/gene_corrs-symbols.pkl')]"
      ]
     },
     "metadata": {},
     "output_type": "display_data"
    }
   ],
   "source": [
    "input_files = list(OUTPUT_DIR_BASE.glob(\"gene_corrs-symbols*.pkl\"))\n",
    "display(input_files)\n",
    "assert len(input_files) > 0, \"No input correlation files\""
   ]
  },
  {
   "cell_type": "code",
   "execution_count": 12,
   "id": "e6838c80-57e3-4a7a-8ee1-ed5948645508",
   "metadata": {
    "execution": {
     "iopub.execute_input": "2022-12-15T19:36:56.928331Z",
     "iopub.status.busy": "2022-12-15T19:36:56.927921Z",
     "iopub.status.idle": "2022-12-15T19:36:57.138568Z",
     "shell.execute_reply": "2022-12-15T19:36:57.137980Z"
    },
    "papermill": {
     "duration": 0.222486,
     "end_time": "2022-12-15T19:36:57.140717",
     "exception": false,
     "start_time": "2022-12-15T19:36:56.918231",
     "status": "completed"
    },
    "tags": []
   },
   "outputs": [],
   "source": [
    "# load correlation matrix\n",
    "gene_corrs_dict = {f.name: pd.read_pickle(f) for f in input_files}"
   ]
  },
  {
   "cell_type": "code",
   "execution_count": 13,
   "id": "b9db5c98-a8aa-4e31-b25d-2b9ee16a2182",
   "metadata": {
    "execution": {
     "iopub.execute_input": "2022-12-15T19:36:57.160339Z",
     "iopub.status.busy": "2022-12-15T19:36:57.160052Z",
     "iopub.status.idle": "2022-12-15T19:36:57.177779Z",
     "shell.execute_reply": "2022-12-15T19:36:57.177194Z"
    },
    "papermill": {
     "duration": 0.030696,
     "end_time": "2022-12-15T19:36:57.179628",
     "exception": false,
     "start_time": "2022-12-15T19:36:57.148932",
     "status": "completed"
    },
    "tags": []
   },
   "outputs": [],
   "source": [
    "orig_corr_name = \"gene_corrs-symbols.pkl\""
   ]
  },
  {
   "cell_type": "code",
   "execution_count": 14,
   "id": "981b0c08-4217-4d0b-b0f7-57c8cf015055",
   "metadata": {
    "execution": {
     "iopub.execute_input": "2022-12-15T19:36:57.198563Z",
     "iopub.status.busy": "2022-12-15T19:36:57.198255Z",
     "iopub.status.idle": "2022-12-15T19:36:57.222806Z",
     "shell.execute_reply": "2022-12-15T19:36:57.222247Z"
    },
    "papermill": {
     "duration": 0.036692,
     "end_time": "2022-12-15T19:36:57.224437",
     "exception": false,
     "start_time": "2022-12-15T19:36:57.187745",
     "status": "completed"
    },
    "tags": []
   },
   "outputs": [
    {
     "data": {
      "text/plain": [
       "(6442, 6442)"
      ]
     },
     "execution_count": 14,
     "metadata": {},
     "output_type": "execute_result"
    }
   ],
   "source": [
    "gene_corrs_dict[orig_corr_name].shape"
   ]
  },
  {
   "cell_type": "code",
   "execution_count": 15,
   "id": "49fb8383-23fc-40d7-adf6-70f5770ee37f",
   "metadata": {
    "execution": {
     "iopub.execute_input": "2022-12-15T19:36:57.242785Z",
     "iopub.status.busy": "2022-12-15T19:36:57.242424Z",
     "iopub.status.idle": "2022-12-15T19:36:57.295214Z",
     "shell.execute_reply": "2022-12-15T19:36:57.294683Z"
    },
    "papermill": {
     "duration": 0.064056,
     "end_time": "2022-12-15T19:36:57.296744",
     "exception": false,
     "start_time": "2022-12-15T19:36:57.232688",
     "status": "completed"
    },
    "tags": []
   },
   "outputs": [
    {
     "data": {
      "text/html": [
       "<div>\n",
       "<style scoped>\n",
       "    .dataframe tbody tr th:only-of-type {\n",
       "        vertical-align: middle;\n",
       "    }\n",
       "\n",
       "    .dataframe tbody tr th {\n",
       "        vertical-align: top;\n",
       "    }\n",
       "\n",
       "    .dataframe thead th {\n",
       "        text-align: right;\n",
       "    }\n",
       "</style>\n",
       "<table border=\"1\" class=\"dataframe\">\n",
       "  <thead>\n",
       "    <tr style=\"text-align: right;\">\n",
       "      <th></th>\n",
       "      <th>NOC2L</th>\n",
       "      <th>HES4</th>\n",
       "      <th>ISG15</th>\n",
       "      <th>AGRN</th>\n",
       "      <th>TNFRSF18</th>\n",
       "      <th>TNFRSF4</th>\n",
       "      <th>B3GALT6</th>\n",
       "      <th>UBE2J2</th>\n",
       "      <th>ACAP3</th>\n",
       "      <th>TAS1R3</th>\n",
       "      <th>...</th>\n",
       "      <th>PLXNB2</th>\n",
       "      <th>ADM2</th>\n",
       "      <th>MIOX</th>\n",
       "      <th>SCO2</th>\n",
       "      <th>TYMP</th>\n",
       "      <th>CPT1B</th>\n",
       "      <th>CHKB</th>\n",
       "      <th>MAPK8IP2</th>\n",
       "      <th>ARSA</th>\n",
       "      <th>SHANK3</th>\n",
       "    </tr>\n",
       "  </thead>\n",
       "  <tbody>\n",
       "    <tr>\n",
       "      <th>NOC2L</th>\n",
       "      <td>1.000000</td>\n",
       "      <td>0.120590</td>\n",
       "      <td>0.177063</td>\n",
       "      <td>0.085746</td>\n",
       "      <td>0.006792</td>\n",
       "      <td>0.007685</td>\n",
       "      <td>0.004673</td>\n",
       "      <td>0.010734</td>\n",
       "      <td>0.011200</td>\n",
       "      <td>0.007529</td>\n",
       "      <td>...</td>\n",
       "      <td>0.0</td>\n",
       "      <td>0.0</td>\n",
       "      <td>0.0</td>\n",
       "      <td>0.0</td>\n",
       "      <td>0.0</td>\n",
       "      <td>0.0</td>\n",
       "      <td>0.0</td>\n",
       "      <td>0.0</td>\n",
       "      <td>0.0</td>\n",
       "      <td>0.0</td>\n",
       "    </tr>\n",
       "    <tr>\n",
       "      <th>HES4</th>\n",
       "      <td>0.120590</td>\n",
       "      <td>1.000000</td>\n",
       "      <td>0.672060</td>\n",
       "      <td>0.391127</td>\n",
       "      <td>0.011695</td>\n",
       "      <td>0.009275</td>\n",
       "      <td>0.005970</td>\n",
       "      <td>0.007385</td>\n",
       "      <td>0.002641</td>\n",
       "      <td>0.004767</td>\n",
       "      <td>...</td>\n",
       "      <td>0.0</td>\n",
       "      <td>0.0</td>\n",
       "      <td>0.0</td>\n",
       "      <td>0.0</td>\n",
       "      <td>0.0</td>\n",
       "      <td>0.0</td>\n",
       "      <td>0.0</td>\n",
       "      <td>0.0</td>\n",
       "      <td>0.0</td>\n",
       "      <td>0.0</td>\n",
       "    </tr>\n",
       "    <tr>\n",
       "      <th>ISG15</th>\n",
       "      <td>0.177063</td>\n",
       "      <td>0.672060</td>\n",
       "      <td>1.000000</td>\n",
       "      <td>0.424696</td>\n",
       "      <td>0.013929</td>\n",
       "      <td>0.013311</td>\n",
       "      <td>0.008466</td>\n",
       "      <td>0.010608</td>\n",
       "      <td>0.006689</td>\n",
       "      <td>0.011659</td>\n",
       "      <td>...</td>\n",
       "      <td>0.0</td>\n",
       "      <td>0.0</td>\n",
       "      <td>0.0</td>\n",
       "      <td>0.0</td>\n",
       "      <td>0.0</td>\n",
       "      <td>0.0</td>\n",
       "      <td>0.0</td>\n",
       "      <td>0.0</td>\n",
       "      <td>0.0</td>\n",
       "      <td>0.0</td>\n",
       "    </tr>\n",
       "    <tr>\n",
       "      <th>AGRN</th>\n",
       "      <td>0.085746</td>\n",
       "      <td>0.391127</td>\n",
       "      <td>0.424696</td>\n",
       "      <td>1.000000</td>\n",
       "      <td>0.005309</td>\n",
       "      <td>0.011848</td>\n",
       "      <td>0.002161</td>\n",
       "      <td>0.002535</td>\n",
       "      <td>0.005359</td>\n",
       "      <td>0.007012</td>\n",
       "      <td>...</td>\n",
       "      <td>0.0</td>\n",
       "      <td>0.0</td>\n",
       "      <td>0.0</td>\n",
       "      <td>0.0</td>\n",
       "      <td>0.0</td>\n",
       "      <td>0.0</td>\n",
       "      <td>0.0</td>\n",
       "      <td>0.0</td>\n",
       "      <td>0.0</td>\n",
       "      <td>0.0</td>\n",
       "    </tr>\n",
       "    <tr>\n",
       "      <th>TNFRSF18</th>\n",
       "      <td>0.006792</td>\n",
       "      <td>0.011695</td>\n",
       "      <td>0.013929</td>\n",
       "      <td>0.005309</td>\n",
       "      <td>1.000000</td>\n",
       "      <td>0.338085</td>\n",
       "      <td>0.550817</td>\n",
       "      <td>0.154394</td>\n",
       "      <td>0.193627</td>\n",
       "      <td>0.101004</td>\n",
       "      <td>...</td>\n",
       "      <td>0.0</td>\n",
       "      <td>0.0</td>\n",
       "      <td>0.0</td>\n",
       "      <td>0.0</td>\n",
       "      <td>0.0</td>\n",
       "      <td>0.0</td>\n",
       "      <td>0.0</td>\n",
       "      <td>0.0</td>\n",
       "      <td>0.0</td>\n",
       "      <td>0.0</td>\n",
       "    </tr>\n",
       "  </tbody>\n",
       "</table>\n",
       "<p>5 rows × 6442 columns</p>\n",
       "</div>"
      ],
      "text/plain": [
       "             NOC2L      HES4     ISG15      AGRN  TNFRSF18   TNFRSF4  \\\n",
       "NOC2L     1.000000  0.120590  0.177063  0.085746  0.006792  0.007685   \n",
       "HES4      0.120590  1.000000  0.672060  0.391127  0.011695  0.009275   \n",
       "ISG15     0.177063  0.672060  1.000000  0.424696  0.013929  0.013311   \n",
       "AGRN      0.085746  0.391127  0.424696  1.000000  0.005309  0.011848   \n",
       "TNFRSF18  0.006792  0.011695  0.013929  0.005309  1.000000  0.338085   \n",
       "\n",
       "           B3GALT6    UBE2J2     ACAP3    TAS1R3  ...  PLXNB2  ADM2  MIOX  \\\n",
       "NOC2L     0.004673  0.010734  0.011200  0.007529  ...     0.0   0.0   0.0   \n",
       "HES4      0.005970  0.007385  0.002641  0.004767  ...     0.0   0.0   0.0   \n",
       "ISG15     0.008466  0.010608  0.006689  0.011659  ...     0.0   0.0   0.0   \n",
       "AGRN      0.002161  0.002535  0.005359  0.007012  ...     0.0   0.0   0.0   \n",
       "TNFRSF18  0.550817  0.154394  0.193627  0.101004  ...     0.0   0.0   0.0   \n",
       "\n",
       "          SCO2  TYMP  CPT1B  CHKB  MAPK8IP2  ARSA  SHANK3  \n",
       "NOC2L      0.0   0.0    0.0   0.0       0.0   0.0     0.0  \n",
       "HES4       0.0   0.0    0.0   0.0       0.0   0.0     0.0  \n",
       "ISG15      0.0   0.0    0.0   0.0       0.0   0.0     0.0  \n",
       "AGRN       0.0   0.0    0.0   0.0       0.0   0.0     0.0  \n",
       "TNFRSF18   0.0   0.0    0.0   0.0       0.0   0.0     0.0  \n",
       "\n",
       "[5 rows x 6442 columns]"
      ]
     },
     "execution_count": 15,
     "metadata": {},
     "output_type": "execute_result"
    }
   ],
   "source": [
    "gene_corrs_dict[orig_corr_name].head()"
   ]
  },
  {
   "cell_type": "code",
   "execution_count": 16,
   "id": "4fb66ba4-9fd3-4dc5-9538-eadd5e9f81c7",
   "metadata": {
    "execution": {
     "iopub.execute_input": "2022-12-15T19:36:57.315499Z",
     "iopub.status.busy": "2022-12-15T19:36:57.315224Z",
     "iopub.status.idle": "2022-12-15T19:36:57.333587Z",
     "shell.execute_reply": "2022-12-15T19:36:57.333048Z"
    },
    "papermill": {
     "duration": 0.029663,
     "end_time": "2022-12-15T19:36:57.335310",
     "exception": false,
     "start_time": "2022-12-15T19:36:57.305647",
     "status": "completed"
    },
    "tags": []
   },
   "outputs": [],
   "source": [
    "current_index = gene_corrs_dict[orig_corr_name].index\n",
    "assert all(\n",
    "    [current_index.equals(gc.index) for k, gc in gene_corrs_dict.items()]\n",
    "), \"Correlation matrices are not compatible\""
   ]
  },
  {
   "cell_type": "markdown",
   "id": "46ae0b3e",
   "metadata": {
    "papermill": {
     "duration": 0.007974,
     "end_time": "2022-12-15T19:36:57.352013",
     "exception": false,
     "start_time": "2022-12-15T19:36:57.344039",
     "status": "completed"
    },
    "tags": []
   },
   "source": [
    "## MultiPLIER Z"
   ]
  },
  {
   "cell_type": "code",
   "execution_count": 17,
   "id": "d38d9749",
   "metadata": {
    "execution": {
     "iopub.execute_input": "2022-12-15T19:36:57.370091Z",
     "iopub.status.busy": "2022-12-15T19:36:57.369752Z",
     "iopub.status.idle": "2022-12-15T19:36:57.426538Z",
     "shell.execute_reply": "2022-12-15T19:36:57.425883Z"
    },
    "papermill": {
     "duration": 0.068332,
     "end_time": "2022-12-15T19:36:57.428475",
     "exception": false,
     "start_time": "2022-12-15T19:36:57.360143",
     "status": "completed"
    },
    "tags": []
   },
   "outputs": [],
   "source": [
    "multiplier_z = pd.read_pickle(conf.MULTIPLIER[\"MODEL_Z_MATRIX_FILE\"])"
   ]
  },
  {
   "cell_type": "code",
   "execution_count": 18,
   "id": "67e93797",
   "metadata": {
    "execution": {
     "iopub.execute_input": "2022-12-15T19:36:57.447276Z",
     "iopub.status.busy": "2022-12-15T19:36:57.446913Z",
     "iopub.status.idle": "2022-12-15T19:36:57.474576Z",
     "shell.execute_reply": "2022-12-15T19:36:57.473972Z"
    },
    "papermill": {
     "duration": 0.039477,
     "end_time": "2022-12-15T19:36:57.476181",
     "exception": false,
     "start_time": "2022-12-15T19:36:57.436704",
     "status": "completed"
    },
    "tags": []
   },
   "outputs": [
    {
     "data": {
      "text/plain": [
       "(6750, 987)"
      ]
     },
     "execution_count": 18,
     "metadata": {},
     "output_type": "execute_result"
    }
   ],
   "source": [
    "multiplier_z.shape"
   ]
  },
  {
   "cell_type": "code",
   "execution_count": 19,
   "id": "e1ba1ead",
   "metadata": {
    "execution": {
     "iopub.execute_input": "2022-12-15T19:36:57.494772Z",
     "iopub.status.busy": "2022-12-15T19:36:57.494473Z",
     "iopub.status.idle": "2022-12-15T19:36:57.537060Z",
     "shell.execute_reply": "2022-12-15T19:36:57.536488Z"
    },
    "papermill": {
     "duration": 0.053437,
     "end_time": "2022-12-15T19:36:57.538477",
     "exception": false,
     "start_time": "2022-12-15T19:36:57.485040",
     "status": "completed"
    },
    "tags": []
   },
   "outputs": [
    {
     "data": {
      "text/html": [
       "<div>\n",
       "<style scoped>\n",
       "    .dataframe tbody tr th:only-of-type {\n",
       "        vertical-align: middle;\n",
       "    }\n",
       "\n",
       "    .dataframe tbody tr th {\n",
       "        vertical-align: top;\n",
       "    }\n",
       "\n",
       "    .dataframe thead th {\n",
       "        text-align: right;\n",
       "    }\n",
       "</style>\n",
       "<table border=\"1\" class=\"dataframe\">\n",
       "  <thead>\n",
       "    <tr style=\"text-align: right;\">\n",
       "      <th></th>\n",
       "      <th>LV1</th>\n",
       "      <th>LV2</th>\n",
       "      <th>LV3</th>\n",
       "      <th>LV4</th>\n",
       "      <th>LV5</th>\n",
       "      <th>LV6</th>\n",
       "      <th>LV7</th>\n",
       "      <th>LV8</th>\n",
       "      <th>LV9</th>\n",
       "      <th>LV10</th>\n",
       "      <th>...</th>\n",
       "      <th>LV978</th>\n",
       "      <th>LV979</th>\n",
       "      <th>LV980</th>\n",
       "      <th>LV981</th>\n",
       "      <th>LV982</th>\n",
       "      <th>LV983</th>\n",
       "      <th>LV984</th>\n",
       "      <th>LV985</th>\n",
       "      <th>LV986</th>\n",
       "      <th>LV987</th>\n",
       "    </tr>\n",
       "  </thead>\n",
       "  <tbody>\n",
       "    <tr>\n",
       "      <th>GAS6</th>\n",
       "      <td>0.000000</td>\n",
       "      <td>0.0</td>\n",
       "      <td>0.039438</td>\n",
       "      <td>0.0</td>\n",
       "      <td>0.050476</td>\n",
       "      <td>0.000000</td>\n",
       "      <td>0.0</td>\n",
       "      <td>0.000000</td>\n",
       "      <td>0.590949</td>\n",
       "      <td>0.000000</td>\n",
       "      <td>...</td>\n",
       "      <td>0.050125</td>\n",
       "      <td>0.00000</td>\n",
       "      <td>0.033407</td>\n",
       "      <td>0.000000</td>\n",
       "      <td>0.000000</td>\n",
       "      <td>0.005963</td>\n",
       "      <td>0.347362</td>\n",
       "      <td>0.0</td>\n",
       "      <td>0.000000</td>\n",
       "      <td>0.000000</td>\n",
       "    </tr>\n",
       "    <tr>\n",
       "      <th>MMP14</th>\n",
       "      <td>0.000000</td>\n",
       "      <td>0.0</td>\n",
       "      <td>0.000000</td>\n",
       "      <td>0.0</td>\n",
       "      <td>0.070072</td>\n",
       "      <td>0.000000</td>\n",
       "      <td>0.0</td>\n",
       "      <td>0.004904</td>\n",
       "      <td>1.720179</td>\n",
       "      <td>2.423595</td>\n",
       "      <td>...</td>\n",
       "      <td>0.000000</td>\n",
       "      <td>0.00000</td>\n",
       "      <td>0.001007</td>\n",
       "      <td>0.000000</td>\n",
       "      <td>0.035747</td>\n",
       "      <td>0.000000</td>\n",
       "      <td>0.000000</td>\n",
       "      <td>0.0</td>\n",
       "      <td>0.014978</td>\n",
       "      <td>0.000000</td>\n",
       "    </tr>\n",
       "    <tr>\n",
       "      <th>DSP</th>\n",
       "      <td>0.000000</td>\n",
       "      <td>0.0</td>\n",
       "      <td>0.000000</td>\n",
       "      <td>0.0</td>\n",
       "      <td>0.000000</td>\n",
       "      <td>0.041697</td>\n",
       "      <td>0.0</td>\n",
       "      <td>0.005718</td>\n",
       "      <td>0.000000</td>\n",
       "      <td>0.000000</td>\n",
       "      <td>...</td>\n",
       "      <td>0.020853</td>\n",
       "      <td>0.00000</td>\n",
       "      <td>0.000000</td>\n",
       "      <td>0.000000</td>\n",
       "      <td>0.000000</td>\n",
       "      <td>0.005774</td>\n",
       "      <td>0.000000</td>\n",
       "      <td>0.0</td>\n",
       "      <td>0.000000</td>\n",
       "      <td>0.416405</td>\n",
       "    </tr>\n",
       "    <tr>\n",
       "      <th>MARCKSL1</th>\n",
       "      <td>0.305212</td>\n",
       "      <td>0.0</td>\n",
       "      <td>0.000000</td>\n",
       "      <td>0.0</td>\n",
       "      <td>0.000000</td>\n",
       "      <td>0.000000</td>\n",
       "      <td>0.0</td>\n",
       "      <td>0.000000</td>\n",
       "      <td>0.161843</td>\n",
       "      <td>0.149471</td>\n",
       "      <td>...</td>\n",
       "      <td>0.027134</td>\n",
       "      <td>0.05272</td>\n",
       "      <td>0.000000</td>\n",
       "      <td>0.030189</td>\n",
       "      <td>0.060884</td>\n",
       "      <td>0.000000</td>\n",
       "      <td>0.000000</td>\n",
       "      <td>0.0</td>\n",
       "      <td>0.000000</td>\n",
       "      <td>0.448480</td>\n",
       "    </tr>\n",
       "    <tr>\n",
       "      <th>SPARC</th>\n",
       "      <td>0.000000</td>\n",
       "      <td>0.0</td>\n",
       "      <td>0.000000</td>\n",
       "      <td>0.0</td>\n",
       "      <td>0.000000</td>\n",
       "      <td>0.000000</td>\n",
       "      <td>0.0</td>\n",
       "      <td>0.000000</td>\n",
       "      <td>0.000000</td>\n",
       "      <td>0.014014</td>\n",
       "      <td>...</td>\n",
       "      <td>0.000000</td>\n",
       "      <td>0.00000</td>\n",
       "      <td>0.000000</td>\n",
       "      <td>0.000000</td>\n",
       "      <td>0.000000</td>\n",
       "      <td>0.000000</td>\n",
       "      <td>0.067779</td>\n",
       "      <td>0.0</td>\n",
       "      <td>0.122417</td>\n",
       "      <td>0.062665</td>\n",
       "    </tr>\n",
       "  </tbody>\n",
       "</table>\n",
       "<p>5 rows × 987 columns</p>\n",
       "</div>"
      ],
      "text/plain": [
       "               LV1  LV2       LV3  LV4       LV5       LV6  LV7       LV8  \\\n",
       "GAS6      0.000000  0.0  0.039438  0.0  0.050476  0.000000  0.0  0.000000   \n",
       "MMP14     0.000000  0.0  0.000000  0.0  0.070072  0.000000  0.0  0.004904   \n",
       "DSP       0.000000  0.0  0.000000  0.0  0.000000  0.041697  0.0  0.005718   \n",
       "MARCKSL1  0.305212  0.0  0.000000  0.0  0.000000  0.000000  0.0  0.000000   \n",
       "SPARC     0.000000  0.0  0.000000  0.0  0.000000  0.000000  0.0  0.000000   \n",
       "\n",
       "               LV9      LV10  ...     LV978    LV979     LV980     LV981  \\\n",
       "GAS6      0.590949  0.000000  ...  0.050125  0.00000  0.033407  0.000000   \n",
       "MMP14     1.720179  2.423595  ...  0.000000  0.00000  0.001007  0.000000   \n",
       "DSP       0.000000  0.000000  ...  0.020853  0.00000  0.000000  0.000000   \n",
       "MARCKSL1  0.161843  0.149471  ...  0.027134  0.05272  0.000000  0.030189   \n",
       "SPARC     0.000000  0.014014  ...  0.000000  0.00000  0.000000  0.000000   \n",
       "\n",
       "             LV982     LV983     LV984  LV985     LV986     LV987  \n",
       "GAS6      0.000000  0.005963  0.347362    0.0  0.000000  0.000000  \n",
       "MMP14     0.035747  0.000000  0.000000    0.0  0.014978  0.000000  \n",
       "DSP       0.000000  0.005774  0.000000    0.0  0.000000  0.416405  \n",
       "MARCKSL1  0.060884  0.000000  0.000000    0.0  0.000000  0.448480  \n",
       "SPARC     0.000000  0.000000  0.067779    0.0  0.122417  0.062665  \n",
       "\n",
       "[5 rows x 987 columns]"
      ]
     },
     "execution_count": 19,
     "metadata": {},
     "output_type": "execute_result"
    }
   ],
   "source": [
    "multiplier_z.head()"
   ]
  },
  {
   "cell_type": "markdown",
   "id": "f4d4f177",
   "metadata": {
    "papermill": {
     "duration": 0.008573,
     "end_time": "2022-12-15T19:36:57.555972",
     "exception": false,
     "start_time": "2022-12-15T19:36:57.547399",
     "status": "completed"
    },
    "tags": []
   },
   "source": [
    "# Compute inverse correlation matrix for each LV"
   ]
  },
  {
   "cell_type": "code",
   "execution_count": 20,
   "id": "6f604dfc-91b4-4e2e-b848-6099fed0b44e",
   "metadata": {
    "execution": {
     "iopub.execute_input": "2022-12-15T19:36:57.575099Z",
     "iopub.status.busy": "2022-12-15T19:36:57.574797Z",
     "iopub.status.idle": "2022-12-15T19:36:57.600975Z",
     "shell.execute_reply": "2022-12-15T19:36:57.600198Z"
    },
    "papermill": {
     "duration": 0.037781,
     "end_time": "2022-12-15T19:36:57.602897",
     "exception": false,
     "start_time": "2022-12-15T19:36:57.565116",
     "status": "completed"
    },
    "tags": []
   },
   "outputs": [],
   "source": [
    "def exists_df(output_dir, base_filename):\n",
    "    full_filepath = output_dir / (base_filename + \".npz\")\n",
    "\n",
    "    return full_filepath.exists()"
   ]
  },
  {
   "cell_type": "code",
   "execution_count": 21,
   "id": "f5bd311e-e0f0-424e-8384-763f4bf7e21c",
   "metadata": {
    "execution": {
     "iopub.execute_input": "2022-12-15T19:36:57.621725Z",
     "iopub.status.busy": "2022-12-15T19:36:57.621387Z",
     "iopub.status.idle": "2022-12-15T19:36:57.648377Z",
     "shell.execute_reply": "2022-12-15T19:36:57.647591Z"
    },
    "papermill": {
     "duration": 0.038728,
     "end_time": "2022-12-15T19:36:57.650136",
     "exception": false,
     "start_time": "2022-12-15T19:36:57.611408",
     "status": "completed"
    },
    "tags": []
   },
   "outputs": [],
   "source": [
    "def store_df(output_dir, nparray, base_filename):\n",
    "    if base_filename in (\"metadata\", \"gene_names\"):\n",
    "        np.savez_compressed(output_dir / (base_filename + \".npz\"), data=nparray)\n",
    "    else:\n",
    "        sparse.save_npz(\n",
    "            output_dir / (base_filename + \".npz\"),\n",
    "            sparse.csc_matrix(nparray),\n",
    "            compressed=False,\n",
    "        )"
   ]
  },
  {
   "cell_type": "code",
   "execution_count": 22,
   "id": "3f6edd17-2654-4957-a592-361f74ec96df",
   "metadata": {
    "execution": {
     "iopub.execute_input": "2022-12-15T19:36:57.668096Z",
     "iopub.status.busy": "2022-12-15T19:36:57.667773Z",
     "iopub.status.idle": "2022-12-15T19:36:57.694441Z",
     "shell.execute_reply": "2022-12-15T19:36:57.693626Z"
    },
    "papermill": {
     "duration": 0.037784,
     "end_time": "2022-12-15T19:36:57.696220",
     "exception": false,
     "start_time": "2022-12-15T19:36:57.658436",
     "status": "completed"
    },
    "tags": []
   },
   "outputs": [],
   "source": [
    "def get_output_dir(gene_corr_filename):\n",
    "    path = OUTPUT_DIR_BASE / gene_corr_filename\n",
    "    assert path.exists()\n",
    "    return path.with_suffix(\".per_lv\")"
   ]
  },
  {
   "cell_type": "code",
   "execution_count": 23,
   "id": "39bf4643",
   "metadata": {
    "execution": {
     "iopub.execute_input": "2022-12-15T19:36:57.715628Z",
     "iopub.status.busy": "2022-12-15T19:36:57.715328Z",
     "iopub.status.idle": "2022-12-15T19:36:57.745740Z",
     "shell.execute_reply": "2022-12-15T19:36:57.744960Z"
    },
    "papermill": {
     "duration": 0.04221,
     "end_time": "2022-12-15T19:36:57.747662",
     "exception": false,
     "start_time": "2022-12-15T19:36:57.705452",
     "status": "completed"
    },
    "tags": []
   },
   "outputs": [],
   "source": [
    "def compute_chol_inv(lv_codes):\n",
    "    for gene_corr_filename, gene_corrs in gene_corrs_dict.items():\n",
    "        output_dir = get_output_dir(gene_corr_filename)\n",
    "        output_dir.mkdir(parents=True, exist_ok=True)\n",
    "        display(f\"Output dir: {str(output_dir)}\")\n",
    "\n",
    "        # save LV chol inverse\n",
    "        for lv_code in lv_codes:\n",
    "            lv_data = multiplier_z[lv_code]\n",
    "\n",
    "            corr_mat_sub = GLSPhenoplier.get_sub_mat(gene_corrs, lv_data, LV_PERCENTILE)\n",
    "            store_df(output_dir, corr_mat_sub.to_numpy(), f\"{lv_code}_corr_mat\")\n",
    "\n",
    "            chol_mat = np.linalg.cholesky(corr_mat_sub)\n",
    "            chol_inv = np.linalg.inv(chol_mat)\n",
    "\n",
    "            store_df(output_dir, chol_inv, lv_code)\n",
    "\n",
    "        # save metadata\n",
    "        if not exists_df(output_dir, \"metadata\"):\n",
    "            metadata = np.array([REFERENCE_PANEL, EQTL_MODEL])\n",
    "            store_df(output_dir, metadata, \"metadata\")\n",
    "        else:\n",
    "            display(\"Metadata file already exists\")\n",
    "\n",
    "        # save gene names\n",
    "        if not exists_df(output_dir, \"gene_names\"):\n",
    "            gene_names = np.array(gene_corrs.index.tolist())\n",
    "            store_df(output_dir, gene_names, \"gene_names\")\n",
    "        else:\n",
    "            display(\"Gene names file already exists\")"
   ]
  },
  {
   "cell_type": "code",
   "execution_count": 24,
   "id": "e605c772-15c3-43e0-850b-1bc81bef2dcc",
   "metadata": {
    "execution": {
     "iopub.execute_input": "2022-12-15T19:36:57.766512Z",
     "iopub.status.busy": "2022-12-15T19:36:57.766184Z",
     "iopub.status.idle": "2022-12-15T19:36:57.796085Z",
     "shell.execute_reply": "2022-12-15T19:36:57.795287Z"
    },
    "papermill": {
     "duration": 0.041273,
     "end_time": "2022-12-15T19:36:57.797963",
     "exception": false,
     "start_time": "2022-12-15T19:36:57.756690",
     "status": "completed"
    },
    "tags": []
   },
   "outputs": [
    {
     "data": {
      "text/plain": [
       "'LV_RANGE was given'"
      ]
     },
     "metadata": {},
     "output_type": "display_data"
    }
   ],
   "source": [
    "if LV_RANGE is None:\n",
    "    # divide LVs in chunks for parallel processing\n",
    "    display(\"LV_RANGE was not given\")\n",
    "\n",
    "    lvs_chunks = list(chunker(list(multiplier_z.columns), 50))\n",
    "else:\n",
    "    display(\"LV_RANGE was given\")\n",
    "\n",
    "    assert \"-\" in LV_RANGE, \"LV_RANGE has no '-'\"\n",
    "    lv_min, lv_max = LV_RANGE.split(\"-\")\n",
    "    lv_min, lv_max = int(lv_min), int(lv_max)\n",
    "    assert lv_min <= lv_max, \"LV_RANGE is incorrect\"\n",
    "\n",
    "    # create a single chunk in this case\n",
    "    lvs_chunks = [[f\"LV{i}\" for i in range(lv_min, lv_max + 1)]]"
   ]
  },
  {
   "cell_type": "code",
   "execution_count": 25,
   "id": "9553751f-ae2e-4911-af5a-c25ca8c25878",
   "metadata": {
    "execution": {
     "iopub.execute_input": "2022-12-15T19:36:57.818545Z",
     "iopub.status.busy": "2022-12-15T19:36:57.818230Z",
     "iopub.status.idle": "2022-12-15T19:36:57.849069Z",
     "shell.execute_reply": "2022-12-15T19:36:57.848355Z"
    },
    "papermill": {
     "duration": 0.042616,
     "end_time": "2022-12-15T19:36:57.850637",
     "exception": false,
     "start_time": "2022-12-15T19:36:57.808021",
     "status": "completed"
    },
    "tags": []
   },
   "outputs": [
    {
     "data": {
      "text/plain": [
       "'# of chunks: 1'"
      ]
     },
     "metadata": {},
     "output_type": "display_data"
    },
    {
     "data": {
      "text/plain": [
       "'# of LVs in each chunk: 50'"
      ]
     },
     "metadata": {},
     "output_type": "display_data"
    }
   ],
   "source": [
    "display(f\"# of chunks: {len(lvs_chunks)}\")\n",
    "display(f\"# of LVs in each chunk: {len(lvs_chunks[0])}\")"
   ]
  },
  {
   "cell_type": "code",
   "execution_count": 26,
   "id": "e2511bd6-73c2-4f92-9fb4-ee6ad5a2923f",
   "metadata": {
    "execution": {
     "iopub.execute_input": "2022-12-15T19:36:57.871725Z",
     "iopub.status.busy": "2022-12-15T19:36:57.871396Z",
     "iopub.status.idle": "2022-12-15T19:50:59.911319Z",
     "shell.execute_reply": "2022-12-15T19:50:59.910613Z"
    },
    "papermill": {
     "duration": 842.052078,
     "end_time": "2022-12-15T19:50:59.912308",
     "exception": false,
     "start_time": "2022-12-15T19:36:57.860230",
     "status": "completed"
    },
    "tags": []
   },
   "outputs": [
    {
     "name": "stderr",
     "output_type": "stream",
     "text": [
      "100%|████████████████████████████████████████████████████████████████| 1/1 [14:01<00:00, 841.99s/it]\n"
     ]
    }
   ],
   "source": [
    "with ProcessPoolExecutor(max_workers=N_JOBS) as executor, tqdm(\n",
    "    total=len(lvs_chunks), ncols=100\n",
    ") as pbar:\n",
    "    tasks = [executor.submit(compute_chol_inv, chunk) for chunk in lvs_chunks]\n",
    "    for future in as_completed(tasks):\n",
    "        res = future.result()\n",
    "        pbar.update(1)"
   ]
  },
  {
   "cell_type": "markdown",
   "id": "1169db4b-9af2-4d3c-a27a-198d7730fa67",
   "metadata": {
    "papermill": {
     "duration": 0.005185,
     "end_time": "2022-12-15T19:50:59.922801",
     "exception": false,
     "start_time": "2022-12-15T19:50:59.917616",
     "status": "completed"
    },
    "tags": []
   },
   "source": [
    "## Some checks"
   ]
  },
  {
   "cell_type": "code",
   "execution_count": 27,
   "id": "02e6758b-9e64-4829-bc64-ca0b08221d13",
   "metadata": {
    "execution": {
     "iopub.execute_input": "2022-12-15T19:50:59.935758Z",
     "iopub.status.busy": "2022-12-15T19:50:59.935506Z",
     "iopub.status.idle": "2022-12-15T19:50:59.961788Z",
     "shell.execute_reply": "2022-12-15T19:50:59.961151Z"
    },
    "papermill": {
     "duration": 0.034148,
     "end_time": "2022-12-15T19:50:59.963116",
     "exception": false,
     "start_time": "2022-12-15T19:50:59.928968",
     "status": "completed"
    },
    "tags": []
   },
   "outputs": [],
   "source": [
    "def load_df(output_dir, base_filename):\n",
    "    full_filepath = output_dir / (base_filename + \".npz\")\n",
    "\n",
    "    if base_filename in (\"metadata\", \"gene_names\"):\n",
    "        return np.load(full_filepath)[\"data\"]\n",
    "    else:\n",
    "        return sparse.load_npz(full_filepath).toarray()"
   ]
  },
  {
   "cell_type": "code",
   "execution_count": 28,
   "id": "38cf09b7",
   "metadata": {
    "execution": {
     "iopub.execute_input": "2022-12-15T19:50:59.975088Z",
     "iopub.status.busy": "2022-12-15T19:50:59.974854Z",
     "iopub.status.idle": "2022-12-15T19:51:00.000844Z",
     "shell.execute_reply": "2022-12-15T19:51:00.000200Z"
    },
    "papermill": {
     "duration": 0.034061,
     "end_time": "2022-12-15T19:51:00.002620",
     "exception": false,
     "start_time": "2022-12-15T19:50:59.968559",
     "status": "completed"
    },
    "tags": []
   },
   "outputs": [],
   "source": [
    "_genes = load_df(get_output_dir(orig_corr_name), \"gene_names\")"
   ]
  },
  {
   "cell_type": "code",
   "execution_count": 29,
   "id": "407e202b-5d10-47c5-b751-0d7b79fc32b7",
   "metadata": {
    "execution": {
     "iopub.execute_input": "2022-12-15T19:51:00.025236Z",
     "iopub.status.busy": "2022-12-15T19:51:00.024999Z",
     "iopub.status.idle": "2022-12-15T19:51:00.049499Z",
     "shell.execute_reply": "2022-12-15T19:51:00.048946Z"
    },
    "papermill": {
     "duration": 0.037312,
     "end_time": "2022-12-15T19:51:00.050995",
     "exception": false,
     "start_time": "2022-12-15T19:51:00.013683",
     "status": "completed"
    },
    "tags": []
   },
   "outputs": [
    {
     "data": {
      "text/plain": [
       "6442"
      ]
     },
     "metadata": {},
     "output_type": "display_data"
    }
   ],
   "source": [
    "display(len(_genes))\n",
    "assert len(_genes) == gene_corrs_dict[orig_corr_name].index.shape[0]"
   ]
  },
  {
   "cell_type": "code",
   "execution_count": 30,
   "id": "e66abf5b-ba1b-4f16-96a6-a48e9e7035cc",
   "metadata": {
    "execution": {
     "iopub.execute_input": "2022-12-15T19:51:00.073642Z",
     "iopub.status.busy": "2022-12-15T19:51:00.073395Z",
     "iopub.status.idle": "2022-12-15T19:51:00.097479Z",
     "shell.execute_reply": "2022-12-15T19:51:00.096854Z"
    },
    "papermill": {
     "duration": 0.038121,
     "end_time": "2022-12-15T19:51:00.099444",
     "exception": false,
     "start_time": "2022-12-15T19:51:00.061323",
     "status": "completed"
    },
    "tags": []
   },
   "outputs": [],
   "source": [
    "_metadata = load_df(get_output_dir(orig_corr_name), \"metadata\")"
   ]
  },
  {
   "cell_type": "code",
   "execution_count": 31,
   "id": "c4a58892-1b3f-414e-b5c3-da63a0f0e387",
   "metadata": {
    "execution": {
     "iopub.execute_input": "2022-12-15T19:51:00.121611Z",
     "iopub.status.busy": "2022-12-15T19:51:00.121374Z",
     "iopub.status.idle": "2022-12-15T19:51:00.145696Z",
     "shell.execute_reply": "2022-12-15T19:51:00.145140Z"
    },
    "papermill": {
     "duration": 0.037219,
     "end_time": "2022-12-15T19:51:00.147184",
     "exception": false,
     "start_time": "2022-12-15T19:51:00.109965",
     "status": "completed"
    },
    "tags": []
   },
   "outputs": [
    {
     "data": {
      "text/plain": [
       "array(['GTEX_V8', 'MASHR'], dtype='<U7')"
      ]
     },
     "metadata": {},
     "output_type": "display_data"
    }
   ],
   "source": [
    "display(_metadata)\n",
    "assert _metadata[0] == REFERENCE_PANEL\n",
    "assert _metadata[1] == EQTL_MODEL"
   ]
  },
  {
   "cell_type": "code",
   "execution_count": null,
   "id": "f02e1ec2-095a-4041-987a-bda1a33a9897",
   "metadata": {
    "papermill": {
     "duration": 0.010465,
     "end_time": "2022-12-15T19:51:00.168828",
     "exception": false,
     "start_time": "2022-12-15T19:51:00.158363",
     "status": "completed"
    },
    "tags": []
   },
   "outputs": [],
   "source": []
  }
 ],
 "metadata": {
  "jupytext": {
   "cell_metadata_filter": "all,-execution,-papermill,-trusted",
   "formats": "ipynb,py//py:percent"
  },
  "kernelspec": {
   "display_name": "Python 3 (ipykernel)",
   "language": "python",
   "name": "python3"
  },
  "language_info": {
   "codemirror_mode": {
    "name": "ipython",
    "version": 3
   },
   "file_extension": ".py",
   "mimetype": "text/x-python",
   "name": "python",
   "nbconvert_exporter": "python",
   "pygments_lexer": "ipython3",
   "version": "3.10.6"
  },
  "papermill": {
   "default_parameters": {},
   "duration": 846.296002,
   "end_time": "2022-12-15T19:51:00.700827",
   "environment_variables": {},
   "exception": null,
   "input_path": "projects/asthma-copd/nbs/20_gene_corrs/jobs/15-create_corr_mat_per_lv.ipynb",
   "output_path": "projects/asthma-copd/nbs/20_gene_corrs/jobs/../output/aco/15-create_corr_mat_per_lv-101-150.run.ipynb",
   "parameters": {
    "COHORT_NAME": "aco",
    "LV_PERCENTILE": "0.01",
    "LV_RANGE": "101-150",
    "OUTPUT_DIR_BASE": "/opt/data/projects/asthma-copd/results/gls_phenoplier",
    "PHENOPLIER_NOTEBOOK_FILEPATH": "projects/asthma-copd/nbs/20_gene_corrs/jobs/15-create_corr_mat_per_lv.ipynb"
   },
   "start_time": "2022-12-15T19:36:54.404825",
   "version": "2.2.2"
  }
 },
 "nbformat": 4,
 "nbformat_minor": 5
}
