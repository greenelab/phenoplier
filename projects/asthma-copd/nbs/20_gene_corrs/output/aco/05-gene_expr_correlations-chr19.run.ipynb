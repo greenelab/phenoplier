{
 "cells": [
  {
   "cell_type": "markdown",
   "id": "7a6632fb",
   "metadata": {
    "papermill": {
     "duration": 0.009045,
     "end_time": "2022-12-05T17:35:08.450172",
     "exception": false,
     "start_time": "2022-12-05T17:35:08.441127",
     "status": "completed"
    },
    "tags": []
   },
   "source": [
    "# Description"
   ]
  },
  {
   "cell_type": "markdown",
   "id": "7097c346",
   "metadata": {
    "papermill": {
     "duration": 0.008052,
     "end_time": "2022-12-05T17:35:08.467679",
     "exception": false,
     "start_time": "2022-12-05T17:35:08.459627",
     "status": "completed"
    },
    "tags": []
   },
   "source": [
    "(Please, take a look at the README.md file in this directory for instructions on how to run this notebook)\n",
    "\n",
    "This notebook computes predicted expression correlations between all genes in the MultiPLIER models.\n",
    "\n",
    "It has specicfic parameters for papermill (see under `Settings` below).\n",
    "It can be configured to run on a single chromosome to run in parallel.\n",
    "\n",
    "This notebook is not directly run. See README.md."
   ]
  },
  {
   "cell_type": "markdown",
   "id": "c61d8427",
   "metadata": {
    "papermill": {
     "duration": 0.008681,
     "end_time": "2022-12-05T17:35:08.484434",
     "exception": false,
     "start_time": "2022-12-05T17:35:08.475753",
     "status": "completed"
    },
    "tags": []
   },
   "source": [
    "# Modules"
   ]
  },
  {
   "cell_type": "code",
   "execution_count": 1,
   "id": "bbc0234f",
   "metadata": {
    "execution": {
     "iopub.execute_input": "2022-12-05T17:35:08.502574Z",
     "iopub.status.busy": "2022-12-05T17:35:08.502191Z",
     "iopub.status.idle": "2022-12-05T17:35:08.520719Z",
     "shell.execute_reply": "2022-12-05T17:35:08.520080Z"
    },
    "papermill": {
     "duration": 0.029136,
     "end_time": "2022-12-05T17:35:08.522303",
     "exception": false,
     "start_time": "2022-12-05T17:35:08.493167",
     "status": "completed"
    },
    "tags": []
   },
   "outputs": [],
   "source": [
    "%load_ext autoreload\n",
    "%autoreload 2"
   ]
  },
  {
   "cell_type": "code",
   "execution_count": 2,
   "id": "1d5f5a59",
   "metadata": {
    "execution": {
     "iopub.execute_input": "2022-12-05T17:35:08.539691Z",
     "iopub.status.busy": "2022-12-05T17:35:08.539476Z",
     "iopub.status.idle": "2022-12-05T17:35:09.228994Z",
     "shell.execute_reply": "2022-12-05T17:35:09.228407Z"
    },
    "papermill": {
     "duration": 0.700054,
     "end_time": "2022-12-05T17:35:09.230707",
     "exception": false,
     "start_time": "2022-12-05T17:35:08.530653",
     "status": "completed"
    },
    "tags": []
   },
   "outputs": [],
   "source": [
    "from random import sample, seed\n",
    "import warnings\n",
    "from pathlib import Path\n",
    "import pickle\n",
    "import traceback\n",
    "\n",
    "import numpy as np\n",
    "from scipy.spatial.distance import squareform\n",
    "import pandas as pd\n",
    "from tqdm import tqdm\n",
    "import matplotlib.pyplot as plt\n",
    "import seaborn as sns\n",
    "\n",
    "import conf\n",
    "from entity import Gene"
   ]
  },
  {
   "cell_type": "markdown",
   "id": "1eac24b5",
   "metadata": {
    "papermill": {
     "duration": 0.009788,
     "end_time": "2022-12-05T17:35:09.249638",
     "exception": false,
     "start_time": "2022-12-05T17:35:09.239850",
     "status": "completed"
    },
    "tags": []
   },
   "source": [
    "# Settings"
   ]
  },
  {
   "cell_type": "code",
   "execution_count": 3,
   "id": "ca4560ba",
   "metadata": {
    "execution": {
     "iopub.execute_input": "2022-12-05T17:35:09.266882Z",
     "iopub.status.busy": "2022-12-05T17:35:09.266633Z",
     "iopub.status.idle": "2022-12-05T17:35:09.280035Z",
     "shell.execute_reply": "2022-12-05T17:35:09.279557Z"
    },
    "papermill": {
     "duration": 0.023523,
     "end_time": "2022-12-05T17:35:09.281373",
     "exception": false,
     "start_time": "2022-12-05T17:35:09.257850",
     "status": "completed"
    },
    "tags": [
     "parameters"
    ]
   },
   "outputs": [],
   "source": [
    "# a cohort name (it could be something like UK_BIOBANK, etc)\n",
    "COHORT_NAME = None\n",
    "\n",
    "# reference panel such as 1000G or GTEX_V8\n",
    "REFERENCE_PANEL = \"GTEX_V8\"\n",
    "\n",
    "# predictions models such as MASHR or ELASTIC_NET\n",
    "EQTL_MODEL = \"MASHR\"\n",
    "\n",
    "# this is the default value used in S-MultiXcan to select the\n",
    "# top principal components of the expression correlation matrix\n",
    "SMULTIXCAN_CONDITION_NUMBER = 30\n",
    "\n",
    "# specifies a single chromosome value\n",
    "CHROMOSOME = None\n",
    "\n",
    "# If True, computes the correlation between closeby genes only (see\n",
    "# entity.Gene.within_distance for more details). Otherwise, it computes\n",
    "# correlations for all genes in a chromosome\n",
    "COMPUTE_CORRELATIONS_WITHIN_DISTANCE = True\n",
    "\n",
    "# if True, then it will continue if a gene pair correlation fails,\n",
    "# printing the warning/error for debugging. If False, any warning/error\n",
    "# will be thrown\n",
    "DEBUG_MODE = False\n",
    "\n",
    "# output dir\n",
    "OUTPUT_DIR_BASE = None"
   ]
  },
  {
   "cell_type": "code",
   "execution_count": 4,
   "id": "4cc0920c",
   "metadata": {
    "execution": {
     "iopub.execute_input": "2022-12-05T17:35:09.298609Z",
     "iopub.status.busy": "2022-12-05T17:35:09.298383Z",
     "iopub.status.idle": "2022-12-05T17:35:09.314190Z",
     "shell.execute_reply": "2022-12-05T17:35:09.313656Z"
    },
    "papermill": {
     "duration": 0.025948,
     "end_time": "2022-12-05T17:35:09.315641",
     "exception": false,
     "start_time": "2022-12-05T17:35:09.289693",
     "status": "completed"
    },
    "tags": [
     "injected-parameters"
    ]
   },
   "outputs": [],
   "source": [
    "# Parameters\n",
    "PHENOPLIER_NOTEBOOK_FILEPATH = (\n",
    "    \"projects/asthma-copd/nbs/20_gene_corrs/jobs/05-gene_expr_correlations.ipynb\"\n",
    ")\n",
    "COHORT_NAME = \"aco\"\n",
    "CHROMOSOME = 19\n",
    "OUTPUT_DIR_BASE = \"/opt/data/projects/asthma-copd/results/gls_phenoplier\"\n"
   ]
  },
  {
   "cell_type": "code",
   "execution_count": 5,
   "id": "3190631f-27fc-480f-b18e-571d580425a5",
   "metadata": {
    "execution": {
     "iopub.execute_input": "2022-12-05T17:35:09.333827Z",
     "iopub.status.busy": "2022-12-05T17:35:09.333640Z",
     "iopub.status.idle": "2022-12-05T17:35:09.361890Z",
     "shell.execute_reply": "2022-12-05T17:35:09.361191Z"
    },
    "papermill": {
     "duration": 0.038645,
     "end_time": "2022-12-05T17:35:09.363325",
     "exception": false,
     "start_time": "2022-12-05T17:35:09.324680",
     "status": "completed"
    },
    "tags": []
   },
   "outputs": [
    {
     "data": {
      "text/plain": [
       "'Cohort name: aco'"
      ]
     },
     "metadata": {},
     "output_type": "display_data"
    }
   ],
   "source": [
    "assert COHORT_NAME is not None and len(COHORT_NAME) > 0, \"A cohort name must be given\"\n",
    "\n",
    "COHORT_NAME = COHORT_NAME.lower()\n",
    "display(f\"Cohort name: {COHORT_NAME}\")"
   ]
  },
  {
   "cell_type": "code",
   "execution_count": 6,
   "id": "f53ba19b-0f93-4fa2-a047-63b375939d1a",
   "metadata": {
    "execution": {
     "iopub.execute_input": "2022-12-05T17:35:09.381471Z",
     "iopub.status.busy": "2022-12-05T17:35:09.381138Z",
     "iopub.status.idle": "2022-12-05T17:35:09.403960Z",
     "shell.execute_reply": "2022-12-05T17:35:09.403227Z"
    },
    "papermill": {
     "duration": 0.033383,
     "end_time": "2022-12-05T17:35:09.405472",
     "exception": false,
     "start_time": "2022-12-05T17:35:09.372089",
     "status": "completed"
    },
    "tags": []
   },
   "outputs": [
    {
     "data": {
      "text/plain": [
       "'Reference panel: GTEX_V8'"
      ]
     },
     "metadata": {},
     "output_type": "display_data"
    }
   ],
   "source": [
    "assert (\n",
    "    REFERENCE_PANEL is not None and len(REFERENCE_PANEL) > 0\n",
    "), \"A reference panel must be given\"\n",
    "\n",
    "display(f\"Reference panel: {REFERENCE_PANEL}\")"
   ]
  },
  {
   "cell_type": "code",
   "execution_count": 7,
   "id": "e024d130-c139-429a-9c6e-ccf149e297b0",
   "metadata": {
    "execution": {
     "iopub.execute_input": "2022-12-05T17:35:09.424299Z",
     "iopub.status.busy": "2022-12-05T17:35:09.423953Z",
     "iopub.status.idle": "2022-12-05T17:35:09.446597Z",
     "shell.execute_reply": "2022-12-05T17:35:09.445988Z"
    },
    "papermill": {
     "duration": 0.033452,
     "end_time": "2022-12-05T17:35:09.448060",
     "exception": false,
     "start_time": "2022-12-05T17:35:09.414608",
     "status": "completed"
    },
    "tags": []
   },
   "outputs": [
    {
     "data": {
      "text/plain": [
       "'eQTL model: MASHR) / mashr_'"
      ]
     },
     "metadata": {},
     "output_type": "display_data"
    }
   ],
   "source": [
    "assert (\n",
    "    EQTL_MODEL is not None and len(EQTL_MODEL) > 0\n",
    "), \"A prediction/eQTL model must be given\"\n",
    "\n",
    "EQTL_MODEL_FILES_PREFIX = conf.PHENOMEXCAN[\"PREDICTION_MODELS\"][f\"{EQTL_MODEL}_PREFIX\"]\n",
    "display(f\"eQTL model: {EQTL_MODEL}) / {EQTL_MODEL_FILES_PREFIX}\")"
   ]
  },
  {
   "cell_type": "code",
   "execution_count": 8,
   "id": "552a7f63-a18c-4d3e-bb6a-94f99b431291",
   "metadata": {
    "execution": {
     "iopub.execute_input": "2022-12-05T17:35:09.466408Z",
     "iopub.status.busy": "2022-12-05T17:35:09.466063Z",
     "iopub.status.idle": "2022-12-05T17:35:09.487790Z",
     "shell.execute_reply": "2022-12-05T17:35:09.487154Z"
    },
    "papermill": {
     "duration": 0.0324,
     "end_time": "2022-12-05T17:35:09.489211",
     "exception": false,
     "start_time": "2022-12-05T17:35:09.456811",
     "status": "completed"
    },
    "tags": []
   },
   "outputs": [
    {
     "data": {
      "text/plain": [
       "'S-MultiXcan condition number: 30'"
      ]
     },
     "metadata": {},
     "output_type": "display_data"
    }
   ],
   "source": [
    "assert (\n",
    "    SMULTIXCAN_CONDITION_NUMBER is not None and SMULTIXCAN_CONDITION_NUMBER > 0\n",
    "), \"The S-MultiXcan condition number (positive integer) must be given\"\n",
    "\n",
    "display(f\"S-MultiXcan condition number: {SMULTIXCAN_CONDITION_NUMBER}\")"
   ]
  },
  {
   "cell_type": "code",
   "execution_count": 9,
   "id": "f34a336f-548e-4afe-8955-90eaea4f42c6",
   "metadata": {
    "execution": {
     "iopub.execute_input": "2022-12-05T17:35:09.508551Z",
     "iopub.status.busy": "2022-12-05T17:35:09.508201Z",
     "iopub.status.idle": "2022-12-05T17:35:09.530597Z",
     "shell.execute_reply": "2022-12-05T17:35:09.529963Z"
    },
    "papermill": {
     "duration": 0.033813,
     "end_time": "2022-12-05T17:35:09.531993",
     "exception": false,
     "start_time": "2022-12-05T17:35:09.498180",
     "status": "completed"
    },
    "tags": []
   },
   "outputs": [
    {
     "data": {
      "text/plain": [
       "'Working on chromosome 19'"
      ]
     },
     "metadata": {},
     "output_type": "display_data"
    }
   ],
   "source": [
    "assert CHROMOSOME is not None and (\n",
    "    1 <= CHROMOSOME <= 22\n",
    "), \"You have to select one chromosome (format: number between 1 and 22)\"\n",
    "\n",
    "display(f\"Working on chromosome {CHROMOSOME}\")"
   ]
  },
  {
   "cell_type": "code",
   "execution_count": 10,
   "id": "ab8e96e8-06b5-4363-9dcd-dc4d78cc27f7",
   "metadata": {
    "execution": {
     "iopub.execute_input": "2022-12-05T17:35:09.551127Z",
     "iopub.status.busy": "2022-12-05T17:35:09.550790Z",
     "iopub.status.idle": "2022-12-05T17:35:09.572829Z",
     "shell.execute_reply": "2022-12-05T17:35:09.572156Z"
    },
    "papermill": {
     "duration": 0.033259,
     "end_time": "2022-12-05T17:35:09.574328",
     "exception": false,
     "start_time": "2022-12-05T17:35:09.541069",
     "status": "completed"
    },
    "tags": []
   },
   "outputs": [
    {
     "data": {
      "text/plain": [
       "'Compute correlation within distance True'"
      ]
     },
     "metadata": {},
     "output_type": "display_data"
    }
   ],
   "source": [
    "display(f\"Compute correlation within distance {COMPUTE_CORRELATIONS_WITHIN_DISTANCE}\")"
   ]
  },
  {
   "cell_type": "code",
   "execution_count": 11,
   "id": "b393b698-77e3-4ba2-8ac1-e14d51aa988f",
   "metadata": {
    "execution": {
     "iopub.execute_input": "2022-12-05T17:35:09.593654Z",
     "iopub.status.busy": "2022-12-05T17:35:09.593312Z",
     "iopub.status.idle": "2022-12-05T17:35:09.616537Z",
     "shell.execute_reply": "2022-12-05T17:35:09.615895Z"
    },
    "papermill": {
     "duration": 0.034501,
     "end_time": "2022-12-05T17:35:09.618017",
     "exception": false,
     "start_time": "2022-12-05T17:35:09.583516",
     "status": "completed"
    },
    "tags": []
   },
   "outputs": [
    {
     "data": {
      "text/plain": [
       "'Using output dir base: /opt/data/projects/asthma-copd/results/gls_phenoplier/gene_corrs/aco'"
      ]
     },
     "metadata": {},
     "output_type": "display_data"
    }
   ],
   "source": [
    "assert (\n",
    "    OUTPUT_DIR_BASE is not None and len(OUTPUT_DIR_BASE) > 0\n",
    "), \"Output directory path must be given\"\n",
    "\n",
    "OUTPUT_DIR_BASE = (Path(OUTPUT_DIR_BASE) / \"gene_corrs\" / COHORT_NAME).resolve()\n",
    "\n",
    "OUTPUT_DIR_BASE.mkdir(parents=True, exist_ok=True)\n",
    "\n",
    "display(f\"Using output dir base: {OUTPUT_DIR_BASE}\")"
   ]
  },
  {
   "cell_type": "markdown",
   "id": "d2ba085e",
   "metadata": {
    "papermill": {
     "duration": 0.0092,
     "end_time": "2022-12-05T17:35:09.637301",
     "exception": false,
     "start_time": "2022-12-05T17:35:09.628101",
     "status": "completed"
    },
    "tags": []
   },
   "source": [
    "# Load data"
   ]
  },
  {
   "cell_type": "markdown",
   "id": "7dcb8db7",
   "metadata": {
    "papermill": {
     "duration": 0.00906,
     "end_time": "2022-12-05T17:35:09.655574",
     "exception": false,
     "start_time": "2022-12-05T17:35:09.646514",
     "status": "completed"
    },
    "tags": []
   },
   "source": [
    "## GWAS variants"
   ]
  },
  {
   "cell_type": "code",
   "execution_count": 12,
   "id": "29434c4e-8cd3-4b9b-82e4-b5a251d9dd19",
   "metadata": {
    "execution": {
     "iopub.execute_input": "2022-12-05T17:35:09.675331Z",
     "iopub.status.busy": "2022-12-05T17:35:09.674945Z",
     "iopub.status.idle": "2022-12-05T17:35:11.807040Z",
     "shell.execute_reply": "2022-12-05T17:35:11.806491Z"
    },
    "papermill": {
     "duration": 2.143856,
     "end_time": "2022-12-05T17:35:11.809043",
     "exception": false,
     "start_time": "2022-12-05T17:35:09.665187",
     "status": "completed"
    },
    "tags": []
   },
   "outputs": [],
   "source": [
    "with open(OUTPUT_DIR_BASE / \"gwas_variant_ids.pkl\", \"rb\") as handle:\n",
    "    gwas_variants_ids_set = pickle.load(handle)"
   ]
  },
  {
   "cell_type": "code",
   "execution_count": 13,
   "id": "b9d9dec2-4a76-4bf9-bde2-e24c95acb8a0",
   "metadata": {
    "execution": {
     "iopub.execute_input": "2022-12-05T17:35:11.829566Z",
     "iopub.status.busy": "2022-12-05T17:35:11.829318Z",
     "iopub.status.idle": "2022-12-05T17:35:11.843044Z",
     "shell.execute_reply": "2022-12-05T17:35:11.842575Z"
    },
    "papermill": {
     "duration": 0.025731,
     "end_time": "2022-12-05T17:35:11.844520",
     "exception": false,
     "start_time": "2022-12-05T17:35:11.818789",
     "status": "completed"
    },
    "tags": []
   },
   "outputs": [
    {
     "data": {
      "text/plain": [
       "8561476"
      ]
     },
     "execution_count": 13,
     "metadata": {},
     "output_type": "execute_result"
    }
   ],
   "source": [
    "len(gwas_variants_ids_set)"
   ]
  },
  {
   "cell_type": "code",
   "execution_count": 14,
   "id": "4235b06a-6034-4ee4-a0a3-2ae35d122418",
   "metadata": {
    "execution": {
     "iopub.execute_input": "2022-12-05T17:35:11.864970Z",
     "iopub.status.busy": "2022-12-05T17:35:11.864817Z",
     "iopub.status.idle": "2022-12-05T17:35:12.252156Z",
     "shell.execute_reply": "2022-12-05T17:35:12.251609Z"
    },
    "papermill": {
     "duration": 0.399446,
     "end_time": "2022-12-05T17:35:12.253658",
     "exception": false,
     "start_time": "2022-12-05T17:35:11.854212",
     "status": "completed"
    },
    "tags": []
   },
   "outputs": [
    {
     "data": {
      "text/plain": [
       "['chr3_183832624_A_T_b38',\n",
       " 'chr4_44407356_G_C_b38',\n",
       " 'chr22_27814366_G_A_b38',\n",
       " 'chr7_151879573_GT_G_b38',\n",
       " 'chr2_191165665_C_T_b38']"
      ]
     },
     "execution_count": 14,
     "metadata": {},
     "output_type": "execute_result"
    }
   ],
   "source": [
    "list(gwas_variants_ids_set)[:5]"
   ]
  },
  {
   "cell_type": "markdown",
   "id": "07866999-2305-41f9-a144-e69c9122c212",
   "metadata": {
    "papermill": {
     "duration": 0.009868,
     "end_time": "2022-12-05T17:35:12.273399",
     "exception": false,
     "start_time": "2022-12-05T17:35:12.263531",
     "status": "completed"
    },
    "tags": []
   },
   "source": [
    "## S-PrediXcan tissue models"
   ]
  },
  {
   "cell_type": "code",
   "execution_count": 15,
   "id": "780611d9-77c8-405f-90a4-f271f7b09397",
   "metadata": {
    "execution": {
     "iopub.execute_input": "2022-12-05T17:35:12.293631Z",
     "iopub.status.busy": "2022-12-05T17:35:12.293453Z",
     "iopub.status.idle": "2022-12-05T17:35:12.934928Z",
     "shell.execute_reply": "2022-12-05T17:35:12.934345Z"
    },
    "papermill": {
     "duration": 0.653451,
     "end_time": "2022-12-05T17:35:12.936620",
     "exception": false,
     "start_time": "2022-12-05T17:35:12.283169",
     "status": "completed"
    },
    "tags": []
   },
   "outputs": [],
   "source": [
    "spredixcan_genes_models = pd.read_pickle(OUTPUT_DIR_BASE / \"gene_tissues.pkl\")"
   ]
  },
  {
   "cell_type": "code",
   "execution_count": 16,
   "id": "726dd1f6-9557-4225-91fa-b3b879ea96e1",
   "metadata": {
    "execution": {
     "iopub.execute_input": "2022-12-05T17:35:12.959757Z",
     "iopub.status.busy": "2022-12-05T17:35:12.959618Z",
     "iopub.status.idle": "2022-12-05T17:35:12.973323Z",
     "shell.execute_reply": "2022-12-05T17:35:12.972868Z"
    },
    "papermill": {
     "duration": 0.026689,
     "end_time": "2022-12-05T17:35:12.974747",
     "exception": false,
     "start_time": "2022-12-05T17:35:12.948058",
     "status": "completed"
    },
    "tags": []
   },
   "outputs": [
    {
     "data": {
      "text/plain": [
       "(6442, 5)"
      ]
     },
     "execution_count": 16,
     "metadata": {},
     "output_type": "execute_result"
    }
   ],
   "source": [
    "spredixcan_genes_models.shape"
   ]
  },
  {
   "cell_type": "code",
   "execution_count": 17,
   "id": "944a1b48-222c-4eb0-b252-b9de2cbca215",
   "metadata": {
    "execution": {
     "iopub.execute_input": "2022-12-05T17:35:12.995206Z",
     "iopub.status.busy": "2022-12-05T17:35:12.995083Z",
     "iopub.status.idle": "2022-12-05T17:35:13.012661Z",
     "shell.execute_reply": "2022-12-05T17:35:13.012186Z"
    },
    "papermill": {
     "duration": 0.029254,
     "end_time": "2022-12-05T17:35:13.014099",
     "exception": false,
     "start_time": "2022-12-05T17:35:12.984845",
     "status": "completed"
    },
    "tags": []
   },
   "outputs": [
    {
     "data": {
      "text/html": [
       "<div>\n",
       "<style scoped>\n",
       "    .dataframe tbody tr th:only-of-type {\n",
       "        vertical-align: middle;\n",
       "    }\n",
       "\n",
       "    .dataframe tbody tr th {\n",
       "        vertical-align: top;\n",
       "    }\n",
       "\n",
       "    .dataframe thead th {\n",
       "        text-align: right;\n",
       "    }\n",
       "</style>\n",
       "<table border=\"1\" class=\"dataframe\">\n",
       "  <thead>\n",
       "    <tr style=\"text-align: right;\">\n",
       "      <th></th>\n",
       "      <th>gene_name</th>\n",
       "      <th>tissue</th>\n",
       "      <th>n_tissues</th>\n",
       "      <th>n_snps_used_sum</th>\n",
       "      <th>n_snps_in_model_sum</th>\n",
       "    </tr>\n",
       "    <tr>\n",
       "      <th>gene_id</th>\n",
       "      <th></th>\n",
       "      <th></th>\n",
       "      <th></th>\n",
       "      <th></th>\n",
       "      <th></th>\n",
       "    </tr>\n",
       "  </thead>\n",
       "  <tbody>\n",
       "    <tr>\n",
       "      <th>ENSG00000000419</th>\n",
       "      <td>DPM1</td>\n",
       "      <td>(Brain_Hypothalamus, Brain_Substantia_nigra)</td>\n",
       "      <td>2</td>\n",
       "      <td>2</td>\n",
       "      <td>2</td>\n",
       "    </tr>\n",
       "    <tr>\n",
       "      <th>ENSG00000000938</th>\n",
       "      <td>FGR</td>\n",
       "      <td>(Esophagus_Gastroesophageal_Junction, Nerve_Ti...</td>\n",
       "      <td>36</td>\n",
       "      <td>40</td>\n",
       "      <td>40</td>\n",
       "    </tr>\n",
       "    <tr>\n",
       "      <th>ENSG00000000971</th>\n",
       "      <td>CFH</td>\n",
       "      <td>(Esophagus_Gastroesophageal_Junction, Nerve_Ti...</td>\n",
       "      <td>34</td>\n",
       "      <td>44</td>\n",
       "      <td>44</td>\n",
       "    </tr>\n",
       "    <tr>\n",
       "      <th>ENSG00000001084</th>\n",
       "      <td>GCLC</td>\n",
       "      <td>(Nerve_Tibial, Brain_Amygdala, Thyroid, Whole_...</td>\n",
       "      <td>32</td>\n",
       "      <td>46</td>\n",
       "      <td>46</td>\n",
       "    </tr>\n",
       "    <tr>\n",
       "      <th>ENSG00000001167</th>\n",
       "      <td>NFYA</td>\n",
       "      <td>(Esophagus_Gastroesophageal_Junction, Nerve_Ti...</td>\n",
       "      <td>40</td>\n",
       "      <td>47</td>\n",
       "      <td>48</td>\n",
       "    </tr>\n",
       "  </tbody>\n",
       "</table>\n",
       "</div>"
      ],
      "text/plain": [
       "                gene_name                                             tissue  \\\n",
       "gene_id                                                                        \n",
       "ENSG00000000419      DPM1       (Brain_Hypothalamus, Brain_Substantia_nigra)   \n",
       "ENSG00000000938       FGR  (Esophagus_Gastroesophageal_Junction, Nerve_Ti...   \n",
       "ENSG00000000971       CFH  (Esophagus_Gastroesophageal_Junction, Nerve_Ti...   \n",
       "ENSG00000001084      GCLC  (Nerve_Tibial, Brain_Amygdala, Thyroid, Whole_...   \n",
       "ENSG00000001167      NFYA  (Esophagus_Gastroesophageal_Junction, Nerve_Ti...   \n",
       "\n",
       "                 n_tissues  n_snps_used_sum  n_snps_in_model_sum  \n",
       "gene_id                                                           \n",
       "ENSG00000000419          2                2                    2  \n",
       "ENSG00000000938         36               40                   40  \n",
       "ENSG00000000971         34               44                   44  \n",
       "ENSG00000001084         32               46                   46  \n",
       "ENSG00000001167         40               47                   48  "
      ]
     },
     "execution_count": 17,
     "metadata": {},
     "output_type": "execute_result"
    }
   ],
   "source": [
    "spredixcan_genes_models.head()"
   ]
  },
  {
   "cell_type": "code",
   "execution_count": 18,
   "id": "d1c11bb1-be0b-4f40-b360-633d6827109f",
   "metadata": {
    "execution": {
     "iopub.execute_input": "2022-12-05T17:35:13.035598Z",
     "iopub.status.busy": "2022-12-05T17:35:13.035466Z",
     "iopub.status.idle": "2022-12-05T17:35:13.048635Z",
     "shell.execute_reply": "2022-12-05T17:35:13.048166Z"
    },
    "papermill": {
     "duration": 0.025231,
     "end_time": "2022-12-05T17:35:13.050109",
     "exception": false,
     "start_time": "2022-12-05T17:35:13.024878",
     "status": "completed"
    },
    "tags": []
   },
   "outputs": [],
   "source": [
    "assert spredixcan_genes_models.index.is_unique"
   ]
  },
  {
   "cell_type": "markdown",
   "id": "a5b5092c-a13e-47c4-a92a-480fcc08f3ae",
   "metadata": {
    "papermill": {
     "duration": 0.00999,
     "end_time": "2022-12-05T17:35:13.070411",
     "exception": false,
     "start_time": "2022-12-05T17:35:13.060421",
     "status": "completed"
    },
    "tags": []
   },
   "source": [
    "## Gene info"
   ]
  },
  {
   "cell_type": "code",
   "execution_count": 19,
   "id": "7d6bb224-88e9-4358-ac10-43a41d92cdad",
   "metadata": {
    "execution": {
     "iopub.execute_input": "2022-12-05T17:35:13.091771Z",
     "iopub.status.busy": "2022-12-05T17:35:13.091470Z",
     "iopub.status.idle": "2022-12-05T17:35:13.110526Z",
     "shell.execute_reply": "2022-12-05T17:35:13.109890Z"
    },
    "papermill": {
     "duration": 0.031353,
     "end_time": "2022-12-05T17:35:13.112189",
     "exception": false,
     "start_time": "2022-12-05T17:35:13.080836",
     "status": "completed"
    },
    "tags": []
   },
   "outputs": [],
   "source": [
    "genes_info = pd.read_pickle(OUTPUT_DIR_BASE / \"genes_info.pkl\")"
   ]
  },
  {
   "cell_type": "code",
   "execution_count": 20,
   "id": "9e32abfa-546d-483e-8c18-d526e9e05903",
   "metadata": {
    "execution": {
     "iopub.execute_input": "2022-12-05T17:35:13.134632Z",
     "iopub.status.busy": "2022-12-05T17:35:13.134178Z",
     "iopub.status.idle": "2022-12-05T17:35:13.152226Z",
     "shell.execute_reply": "2022-12-05T17:35:13.151660Z"
    },
    "papermill": {
     "duration": 0.030812,
     "end_time": "2022-12-05T17:35:13.153695",
     "exception": false,
     "start_time": "2022-12-05T17:35:13.122883",
     "status": "completed"
    },
    "tags": []
   },
   "outputs": [
    {
     "data": {
      "text/plain": [
       "(6442, 7)"
      ]
     },
     "execution_count": 20,
     "metadata": {},
     "output_type": "execute_result"
    }
   ],
   "source": [
    "genes_info.shape"
   ]
  },
  {
   "cell_type": "code",
   "execution_count": 21,
   "id": "d16c3e92-85ec-468a-9a56-e25a9774a1cb",
   "metadata": {
    "execution": {
     "iopub.execute_input": "2022-12-05T17:35:13.175205Z",
     "iopub.status.busy": "2022-12-05T17:35:13.174997Z",
     "iopub.status.idle": "2022-12-05T17:35:13.201511Z",
     "shell.execute_reply": "2022-12-05T17:35:13.200719Z"
    },
    "papermill": {
     "duration": 0.038879,
     "end_time": "2022-12-05T17:35:13.203072",
     "exception": false,
     "start_time": "2022-12-05T17:35:13.164193",
     "status": "completed"
    },
    "tags": []
   },
   "outputs": [
    {
     "data": {
      "text/html": [
       "<div>\n",
       "<style scoped>\n",
       "    .dataframe tbody tr th:only-of-type {\n",
       "        vertical-align: middle;\n",
       "    }\n",
       "\n",
       "    .dataframe tbody tr th {\n",
       "        vertical-align: top;\n",
       "    }\n",
       "\n",
       "    .dataframe thead th {\n",
       "        text-align: right;\n",
       "    }\n",
       "</style>\n",
       "<table border=\"1\" class=\"dataframe\">\n",
       "  <thead>\n",
       "    <tr style=\"text-align: right;\">\n",
       "      <th></th>\n",
       "      <th>name</th>\n",
       "      <th>id</th>\n",
       "      <th>chr</th>\n",
       "      <th>band</th>\n",
       "      <th>start_position</th>\n",
       "      <th>end_position</th>\n",
       "      <th>gene_length</th>\n",
       "    </tr>\n",
       "  </thead>\n",
       "  <tbody>\n",
       "    <tr>\n",
       "      <th>0</th>\n",
       "      <td>ASPM</td>\n",
       "      <td>ENSG00000066279</td>\n",
       "      <td>1</td>\n",
       "      <td>1q31.3</td>\n",
       "      <td>197084127</td>\n",
       "      <td>197146694</td>\n",
       "      <td>62567</td>\n",
       "    </tr>\n",
       "    <tr>\n",
       "      <th>1</th>\n",
       "      <td>GPAM</td>\n",
       "      <td>ENSG00000119927</td>\n",
       "      <td>10</td>\n",
       "      <td>10q25.2</td>\n",
       "      <td>112149865</td>\n",
       "      <td>112215377</td>\n",
       "      <td>65512</td>\n",
       "    </tr>\n",
       "    <tr>\n",
       "      <th>2</th>\n",
       "      <td>MAPK7</td>\n",
       "      <td>ENSG00000166484</td>\n",
       "      <td>17</td>\n",
       "      <td>17p11.2</td>\n",
       "      <td>19377721</td>\n",
       "      <td>19383544</td>\n",
       "      <td>5823</td>\n",
       "    </tr>\n",
       "    <tr>\n",
       "      <th>3</th>\n",
       "      <td>SLC3A2</td>\n",
       "      <td>ENSG00000168003</td>\n",
       "      <td>11</td>\n",
       "      <td>11q12.3</td>\n",
       "      <td>62856102</td>\n",
       "      <td>62888875</td>\n",
       "      <td>32773</td>\n",
       "    </tr>\n",
       "    <tr>\n",
       "      <th>4</th>\n",
       "      <td>GINS2</td>\n",
       "      <td>ENSG00000131153</td>\n",
       "      <td>16</td>\n",
       "      <td>16q24.1</td>\n",
       "      <td>85676198</td>\n",
       "      <td>85690073</td>\n",
       "      <td>13875</td>\n",
       "    </tr>\n",
       "  </tbody>\n",
       "</table>\n",
       "</div>"
      ],
      "text/plain": [
       "     name               id  chr     band  start_position  end_position  \\\n",
       "0    ASPM  ENSG00000066279    1   1q31.3       197084127     197146694   \n",
       "1    GPAM  ENSG00000119927   10  10q25.2       112149865     112215377   \n",
       "2   MAPK7  ENSG00000166484   17  17p11.2        19377721      19383544   \n",
       "3  SLC3A2  ENSG00000168003   11  11q12.3        62856102      62888875   \n",
       "4   GINS2  ENSG00000131153   16  16q24.1        85676198      85690073   \n",
       "\n",
       "   gene_length  \n",
       "0        62567  \n",
       "1        65512  \n",
       "2         5823  \n",
       "3        32773  \n",
       "4        13875  "
      ]
     },
     "execution_count": 21,
     "metadata": {},
     "output_type": "execute_result"
    }
   ],
   "source": [
    "genes_info.head()"
   ]
  },
  {
   "cell_type": "markdown",
   "id": "d3843e06",
   "metadata": {
    "papermill": {
     "duration": 0.010795,
     "end_time": "2022-12-05T17:35:13.224617",
     "exception": false,
     "start_time": "2022-12-05T17:35:13.213822",
     "status": "completed"
    },
    "tags": []
   },
   "source": [
    "# Compute correlations"
   ]
  },
  {
   "cell_type": "code",
   "execution_count": 22,
   "id": "cb859c15-d1f3-4006-a74c-2b83c0db9611",
   "metadata": {
    "execution": {
     "iopub.execute_input": "2022-12-05T17:35:13.246761Z",
     "iopub.status.busy": "2022-12-05T17:35:13.246295Z",
     "iopub.status.idle": "2022-12-05T17:35:13.269524Z",
     "shell.execute_reply": "2022-12-05T17:35:13.268862Z"
    },
    "papermill": {
     "duration": 0.036117,
     "end_time": "2022-12-05T17:35:13.271164",
     "exception": false,
     "start_time": "2022-12-05T17:35:13.235047",
     "status": "completed"
    },
    "tags": []
   },
   "outputs": [
    {
     "data": {
      "text/plain": [
       "PosixPath('/opt/data/projects/asthma-copd/results/gls_phenoplier/gene_corrs/aco/by_chr/gene_corrs-chr19.pkl')"
      ]
     },
     "metadata": {},
     "output_type": "display_data"
    }
   ],
   "source": [
    "output_dir = OUTPUT_DIR_BASE / \"by_chr\"\n",
    "output_dir.mkdir(exist_ok=True, parents=True)\n",
    "output_file = output_dir / f\"gene_corrs-chr{CHROMOSOME}.pkl\"\n",
    "display(output_file)"
   ]
  },
  {
   "cell_type": "code",
   "execution_count": 23,
   "id": "aa674fe4-6794-4eed-98fa-32b39d1d4ace",
   "metadata": {
    "execution": {
     "iopub.execute_input": "2022-12-05T17:35:13.293911Z",
     "iopub.status.busy": "2022-12-05T17:35:13.293573Z",
     "iopub.status.idle": "2022-12-05T17:35:13.315193Z",
     "shell.execute_reply": "2022-12-05T17:35:13.314635Z"
    },
    "papermill": {
     "duration": 0.034888,
     "end_time": "2022-12-05T17:35:13.316991",
     "exception": false,
     "start_time": "2022-12-05T17:35:13.282103",
     "status": "completed"
    },
    "tags": []
   },
   "outputs": [],
   "source": [
    "warnings.filterwarnings(\"error\")"
   ]
  },
  {
   "cell_type": "code",
   "execution_count": 24,
   "id": "44d5450b-3baf-43f1-9e2e-4b06f1a785f8",
   "metadata": {
    "execution": {
     "iopub.execute_input": "2022-12-05T17:35:13.340153Z",
     "iopub.status.busy": "2022-12-05T17:35:13.339716Z",
     "iopub.status.idle": "2022-12-05T17:35:13.362225Z",
     "shell.execute_reply": "2022-12-05T17:35:13.361684Z"
    },
    "papermill": {
     "duration": 0.035738,
     "end_time": "2022-12-05T17:35:13.363935",
     "exception": false,
     "start_time": "2022-12-05T17:35:13.328197",
     "status": "completed"
    },
    "tags": []
   },
   "outputs": [],
   "source": [
    "# standard checks\n",
    "all_chrs = genes_info[\"chr\"].dropna().unique()\n",
    "assert all_chrs.shape[0] == 22\n",
    "\n",
    "# select chromosome given by the user\n",
    "assert CHROMOSOME in all_chrs"
   ]
  },
  {
   "cell_type": "code",
   "execution_count": 25,
   "id": "2d7c043c-92a7-4d35-991b-fa69ac1e0268",
   "metadata": {
    "execution": {
     "iopub.execute_input": "2022-12-05T17:35:13.387283Z",
     "iopub.status.busy": "2022-12-05T17:35:13.386840Z",
     "iopub.status.idle": "2022-12-05T17:35:13.410676Z",
     "shell.execute_reply": "2022-12-05T17:35:13.410021Z"
    },
    "papermill": {
     "duration": 0.037123,
     "end_time": "2022-12-05T17:35:13.412303",
     "exception": false,
     "start_time": "2022-12-05T17:35:13.375180",
     "status": "completed"
    },
    "tags": []
   },
   "outputs": [
    {
     "name": "stdout",
     "output_type": "stream",
     "text": [
      "Number of genes in chromosome: 538\n"
     ]
    }
   ],
   "source": [
    "# run only on the chromosome specified\n",
    "all_chrs = [CHROMOSOME]\n",
    "genes_chr = genes_info[genes_info[\"chr\"] == CHROMOSOME]\n",
    "\n",
    "# For testing purposes\n",
    "# genes_chr = genes_chr.sample(n=20)\n",
    "\n",
    "print(f\"Number of genes in chromosome: {genes_chr.shape[0]}\", flush=True)"
   ]
  },
  {
   "cell_type": "code",
   "execution_count": 26,
   "id": "916015d8-2979-46d3-a9b9-1cf5a0932c6a",
   "metadata": {
    "execution": {
     "iopub.execute_input": "2022-12-05T17:35:13.436284Z",
     "iopub.status.busy": "2022-12-05T17:35:13.435738Z",
     "iopub.status.idle": "2022-12-05T17:35:13.458088Z",
     "shell.execute_reply": "2022-12-05T17:35:13.457513Z"
    },
    "papermill": {
     "duration": 0.0359,
     "end_time": "2022-12-05T17:35:13.459856",
     "exception": false,
     "start_time": "2022-12-05T17:35:13.423956",
     "status": "completed"
    },
    "tags": []
   },
   "outputs": [],
   "source": [
    "# sort genes by starting position to make visualizations better later\n",
    "genes_chr = genes_chr.sort_values(\"start_position\")"
   ]
  },
  {
   "cell_type": "code",
   "execution_count": 27,
   "id": "a38aa74a-8ad3-47f6-8ef9-56be0e011774",
   "metadata": {
    "execution": {
     "iopub.execute_input": "2022-12-05T17:35:13.483690Z",
     "iopub.status.busy": "2022-12-05T17:35:13.483239Z",
     "iopub.status.idle": "2022-12-05T17:35:13.506185Z",
     "shell.execute_reply": "2022-12-05T17:35:13.505633Z"
    },
    "papermill": {
     "duration": 0.036908,
     "end_time": "2022-12-05T17:35:13.507871",
     "exception": false,
     "start_time": "2022-12-05T17:35:13.470963",
     "status": "completed"
    },
    "tags": []
   },
   "outputs": [],
   "source": [
    "gene_chr_objs = [Gene(ensembl_id=gene_id) for gene_id in genes_chr[\"id\"]]"
   ]
  },
  {
   "cell_type": "code",
   "execution_count": 28,
   "id": "570f974f-13c3-42b6-ad3a-ce99ca885c1a",
   "metadata": {
    "execution": {
     "iopub.execute_input": "2022-12-05T17:35:13.531397Z",
     "iopub.status.busy": "2022-12-05T17:35:13.530844Z",
     "iopub.status.idle": "2022-12-05T17:35:13.553626Z",
     "shell.execute_reply": "2022-12-05T17:35:13.553064Z"
    },
    "papermill": {
     "duration": 0.036192,
     "end_time": "2022-12-05T17:35:13.555219",
     "exception": false,
     "start_time": "2022-12-05T17:35:13.519027",
     "status": "completed"
    },
    "tags": []
   },
   "outputs": [
    {
     "name": "stdout",
     "output_type": "stream",
     "text": [
      "Number of gene combinations: 144991\n"
     ]
    }
   ],
   "source": [
    "n = len(gene_chr_objs)\n",
    "# diagonal elements + upper triangular matrix\n",
    "n_comb = n + int(n * (n - 1) / 2.0)\n",
    "print(f\"Number of gene combinations: {n_comb}\", flush=True)"
   ]
  },
  {
   "cell_type": "code",
   "execution_count": 29,
   "id": "cdbb90a1",
   "metadata": {
    "execution": {
     "iopub.execute_input": "2022-12-05T17:35:13.579337Z",
     "iopub.status.busy": "2022-12-05T17:35:13.579029Z",
     "iopub.status.idle": "2022-12-05T17:57:09.352053Z",
     "shell.execute_reply": "2022-12-05T17:57:09.351543Z"
    },
    "papermill": {
     "duration": 1315.786496,
     "end_time": "2022-12-05T17:57:09.353426",
     "exception": false,
     "start_time": "2022-12-05T17:35:13.566930",
     "status": "completed"
    },
    "tags": []
   },
   "outputs": [
    {
     "name": "stderr",
     "output_type": "stream",
     "text": [
      "ENSG00000130725 / ENSG00000130725: 100%|███████████████████| 144991/144991 [21:55<00:00, 110.20it/s]\n"
     ]
    },
    {
     "data": {
      "text/plain": [
       "PosixPath('/opt/data/projects/asthma-copd/results/gls_phenoplier/gene_corrs/aco/by_chr/gene_corrs-chr19.pkl')"
      ]
     },
     "metadata": {},
     "output_type": "display_data"
    }
   ],
   "source": [
    "gene_corrs = []\n",
    "gene_corrs_data = np.full(\n",
    "    (n, n),\n",
    "    np.nan,\n",
    "    dtype=np.float64,\n",
    ")\n",
    "\n",
    "i = 0\n",
    "with tqdm(ncols=100, total=n_comb) as pbar:\n",
    "    for gene1_idx in range(0, len(gene_chr_objs)):\n",
    "        gene1_obj = gene_chr_objs[gene1_idx]\n",
    "        gene1_tissues = spredixcan_genes_models.loc[gene1_obj.ensembl_id, \"tissue\"]\n",
    "\n",
    "        for gene2_idx in range(gene1_idx, len(gene_chr_objs)):\n",
    "            gene2_obj = gene_chr_objs[gene2_idx]\n",
    "            gene2_tissues = spredixcan_genes_models.loc[gene2_obj.ensembl_id, \"tissue\"]\n",
    "\n",
    "            pbar.set_description(f\"{gene1_obj.ensembl_id} / {gene2_obj.ensembl_id}\")\n",
    "\n",
    "            try:\n",
    "                r = gene1_obj.get_ssm_correlation(\n",
    "                    other_gene=gene2_obj,\n",
    "                    tissues=gene1_tissues,\n",
    "                    other_tissues=gene2_tissues,\n",
    "                    snps_subset=gwas_variants_ids_set,\n",
    "                    condition_number=SMULTIXCAN_CONDITION_NUMBER,\n",
    "                    reference_panel=REFERENCE_PANEL,\n",
    "                    model_type=EQTL_MODEL,\n",
    "                    use_within_distance=COMPUTE_CORRELATIONS_WITHIN_DISTANCE,\n",
    "                )\n",
    "\n",
    "                if r is None:\n",
    "                    # if r is None, it's very likely because:\n",
    "                    #  * one of the genes has no prediction models\n",
    "                    #  * all the SNPs predictors for the gene are not present in the reference\n",
    "                    #    panel\n",
    "\n",
    "                    r = 0.0\n",
    "\n",
    "                gene_corrs.append(r)\n",
    "\n",
    "                gene_corrs_data[gene1_idx, gene2_idx] = r\n",
    "                gene_corrs_data[gene2_idx, gene1_idx] = r\n",
    "            except Warning as e:\n",
    "                if not DEBUG_MODE:\n",
    "                    raise e\n",
    "\n",
    "                print(\n",
    "                    f\"RuntimeWarning for genes {gene1_obj.ensembl_id} and {gene2_obj.ensembl_id}\",\n",
    "                    flush=True,\n",
    "                )\n",
    "                print(traceback.format_exc(), flush=True)\n",
    "\n",
    "                gene_corrs.append(np.nan)\n",
    "            except Exception as e:\n",
    "                if not DEBUG_MODE:\n",
    "                    raise e\n",
    "\n",
    "                print(\n",
    "                    f\"Exception for genes {gene1_obj.ensembl_id} and {gene2_obj.ensembl_id}\",\n",
    "                    flush=True,\n",
    "                )\n",
    "                print(traceback.format_exc(), flush=True)\n",
    "\n",
    "                gene_corrs.append(np.nan)\n",
    "\n",
    "            pbar.update(1)\n",
    "\n",
    "# create a pandas series\n",
    "gene_corrs_flat = pd.Series(gene_corrs)\n",
    "\n",
    "# save\n",
    "# FIXME: consider saving only the condenced matrix here. See here for\n",
    "# more details: https://github.com/greenelab/phenoplier/pull/38#discussion_r634600813\n",
    "# gene_corrs_data = squareform(np.array(gene_corrs, dtype=np.float64))\n",
    "# np.fill_diagonal(gene_corrs_data, 1.0)\n",
    "\n",
    "gene_chr_ids = [g.ensembl_id for g in gene_chr_objs]\n",
    "gene_corrs_df = pd.DataFrame(\n",
    "    data=gene_corrs_data,\n",
    "    index=gene_chr_ids,\n",
    "    columns=gene_chr_ids,\n",
    ")\n",
    "\n",
    "output_dir.mkdir(exist_ok=True, parents=True)\n",
    "display(output_file)\n",
    "\n",
    "gene_corrs_df.to_pickle(output_file)"
   ]
  },
  {
   "cell_type": "markdown",
   "id": "faa67b51-5373-470f-aa72-2ded53fa6dfe",
   "metadata": {
    "papermill": {
     "duration": 4.360032,
     "end_time": "2022-12-05T17:57:18.021589",
     "exception": false,
     "start_time": "2022-12-05T17:57:13.661557",
     "status": "completed"
    },
    "tags": []
   },
   "source": [
    "# Testing"
   ]
  },
  {
   "cell_type": "code",
   "execution_count": 30,
   "id": "14f7d046-4b55-4896-a56b-990127bcc388",
   "metadata": {
    "execution": {
     "iopub.execute_input": "2022-12-05T17:57:26.609165Z",
     "iopub.status.busy": "2022-12-05T17:57:26.608510Z",
     "iopub.status.idle": "2022-12-05T17:57:26.627522Z",
     "shell.execute_reply": "2022-12-05T17:57:26.626937Z"
    },
    "papermill": {
     "duration": 4.260947,
     "end_time": "2022-12-05T17:57:26.628419",
     "exception": false,
     "start_time": "2022-12-05T17:57:22.367472",
     "status": "completed"
    },
    "tags": []
   },
   "outputs": [
    {
     "data": {
      "text/plain": [
       "(538, 538)"
      ]
     },
     "execution_count": 30,
     "metadata": {},
     "output_type": "execute_result"
    }
   ],
   "source": [
    "gene_corrs_df.shape"
   ]
  },
  {
   "cell_type": "code",
   "execution_count": 31,
   "id": "c7d15414-3297-4537-a7c6-7588c0baeb75",
   "metadata": {
    "execution": {
     "iopub.execute_input": "2022-12-05T17:57:35.185697Z",
     "iopub.status.busy": "2022-12-05T17:57:35.185375Z",
     "iopub.status.idle": "2022-12-05T17:57:35.224595Z",
     "shell.execute_reply": "2022-12-05T17:57:35.223945Z"
    },
    "papermill": {
     "duration": 4.329773,
     "end_time": "2022-12-05T17:57:35.225836",
     "exception": false,
     "start_time": "2022-12-05T17:57:30.896063",
     "status": "completed"
    },
    "tags": []
   },
   "outputs": [
    {
     "data": {
      "text/html": [
       "<div>\n",
       "<style scoped>\n",
       "    .dataframe tbody tr th:only-of-type {\n",
       "        vertical-align: middle;\n",
       "    }\n",
       "\n",
       "    .dataframe tbody tr th {\n",
       "        vertical-align: top;\n",
       "    }\n",
       "\n",
       "    .dataframe thead th {\n",
       "        text-align: right;\n",
       "    }\n",
       "</style>\n",
       "<table border=\"1\" class=\"dataframe\">\n",
       "  <thead>\n",
       "    <tr style=\"text-align: right;\">\n",
       "      <th></th>\n",
       "      <th>ENSG00000129946</th>\n",
       "      <th>ENSG00000099866</th>\n",
       "      <th>ENSG00000099804</th>\n",
       "      <th>ENSG00000197540</th>\n",
       "      <th>ENSG00000172270</th>\n",
       "      <th>ENSG00000099822</th>\n",
       "      <th>ENSG00000099821</th>\n",
       "      <th>ENSG00000011304</th>\n",
       "      <th>ENSG00000172232</th>\n",
       "      <th>ENSG00000196415</th>\n",
       "      <th>...</th>\n",
       "      <th>ENSG00000171606</th>\n",
       "      <th>ENSG00000198131</th>\n",
       "      <th>ENSG00000083845</th>\n",
       "      <th>ENSG00000171574</th>\n",
       "      <th>ENSG00000083812</th>\n",
       "      <th>ENSG00000083838</th>\n",
       "      <th>ENSG00000083807</th>\n",
       "      <th>ENSG00000130726</th>\n",
       "      <th>ENSG00000130724</th>\n",
       "      <th>ENSG00000130725</th>\n",
       "    </tr>\n",
       "  </thead>\n",
       "  <tbody>\n",
       "    <tr>\n",
       "      <th>ENSG00000129946</th>\n",
       "      <td>1.000000</td>\n",
       "      <td>0.338633</td>\n",
       "      <td>0.093565</td>\n",
       "      <td>0.020255</td>\n",
       "      <td>0.011003</td>\n",
       "      <td>0.009783</td>\n",
       "      <td>0.007874</td>\n",
       "      <td>0.007481</td>\n",
       "      <td>0.006953</td>\n",
       "      <td>0.010731</td>\n",
       "      <td>...</td>\n",
       "      <td>0.0</td>\n",
       "      <td>0.0</td>\n",
       "      <td>0.0</td>\n",
       "      <td>0.0</td>\n",
       "      <td>0.0</td>\n",
       "      <td>0.0</td>\n",
       "      <td>0.0</td>\n",
       "      <td>0.0</td>\n",
       "      <td>0.0</td>\n",
       "      <td>0.0</td>\n",
       "    </tr>\n",
       "    <tr>\n",
       "      <th>ENSG00000099866</th>\n",
       "      <td>0.338633</td>\n",
       "      <td>1.000000</td>\n",
       "      <td>0.028779</td>\n",
       "      <td>0.015043</td>\n",
       "      <td>0.008540</td>\n",
       "      <td>0.006466</td>\n",
       "      <td>0.005534</td>\n",
       "      <td>0.012005</td>\n",
       "      <td>0.004044</td>\n",
       "      <td>0.005045</td>\n",
       "      <td>...</td>\n",
       "      <td>0.0</td>\n",
       "      <td>0.0</td>\n",
       "      <td>0.0</td>\n",
       "      <td>0.0</td>\n",
       "      <td>0.0</td>\n",
       "      <td>0.0</td>\n",
       "      <td>0.0</td>\n",
       "      <td>0.0</td>\n",
       "      <td>0.0</td>\n",
       "      <td>0.0</td>\n",
       "    </tr>\n",
       "    <tr>\n",
       "      <th>ENSG00000099804</th>\n",
       "      <td>0.093565</td>\n",
       "      <td>0.028779</td>\n",
       "      <td>1.000000</td>\n",
       "      <td>0.250375</td>\n",
       "      <td>0.126414</td>\n",
       "      <td>0.061093</td>\n",
       "      <td>0.019915</td>\n",
       "      <td>0.020062</td>\n",
       "      <td>0.011394</td>\n",
       "      <td>0.013603</td>\n",
       "      <td>...</td>\n",
       "      <td>0.0</td>\n",
       "      <td>0.0</td>\n",
       "      <td>0.0</td>\n",
       "      <td>0.0</td>\n",
       "      <td>0.0</td>\n",
       "      <td>0.0</td>\n",
       "      <td>0.0</td>\n",
       "      <td>0.0</td>\n",
       "      <td>0.0</td>\n",
       "      <td>0.0</td>\n",
       "    </tr>\n",
       "    <tr>\n",
       "      <th>ENSG00000197540</th>\n",
       "      <td>0.020255</td>\n",
       "      <td>0.015043</td>\n",
       "      <td>0.250375</td>\n",
       "      <td>1.000000</td>\n",
       "      <td>0.112516</td>\n",
       "      <td>0.078156</td>\n",
       "      <td>0.022678</td>\n",
       "      <td>0.020909</td>\n",
       "      <td>0.014599</td>\n",
       "      <td>0.016799</td>\n",
       "      <td>...</td>\n",
       "      <td>0.0</td>\n",
       "      <td>0.0</td>\n",
       "      <td>0.0</td>\n",
       "      <td>0.0</td>\n",
       "      <td>0.0</td>\n",
       "      <td>0.0</td>\n",
       "      <td>0.0</td>\n",
       "      <td>0.0</td>\n",
       "      <td>0.0</td>\n",
       "      <td>0.0</td>\n",
       "    </tr>\n",
       "    <tr>\n",
       "      <th>ENSG00000172270</th>\n",
       "      <td>0.011003</td>\n",
       "      <td>0.008540</td>\n",
       "      <td>0.126414</td>\n",
       "      <td>0.112516</td>\n",
       "      <td>1.000000</td>\n",
       "      <td>0.311204</td>\n",
       "      <td>0.022535</td>\n",
       "      <td>0.040153</td>\n",
       "      <td>0.055534</td>\n",
       "      <td>0.035629</td>\n",
       "      <td>...</td>\n",
       "      <td>0.0</td>\n",
       "      <td>0.0</td>\n",
       "      <td>0.0</td>\n",
       "      <td>0.0</td>\n",
       "      <td>0.0</td>\n",
       "      <td>0.0</td>\n",
       "      <td>0.0</td>\n",
       "      <td>0.0</td>\n",
       "      <td>0.0</td>\n",
       "      <td>0.0</td>\n",
       "    </tr>\n",
       "  </tbody>\n",
       "</table>\n",
       "<p>5 rows × 538 columns</p>\n",
       "</div>"
      ],
      "text/plain": [
       "                 ENSG00000129946  ENSG00000099866  ENSG00000099804  \\\n",
       "ENSG00000129946         1.000000         0.338633         0.093565   \n",
       "ENSG00000099866         0.338633         1.000000         0.028779   \n",
       "ENSG00000099804         0.093565         0.028779         1.000000   \n",
       "ENSG00000197540         0.020255         0.015043         0.250375   \n",
       "ENSG00000172270         0.011003         0.008540         0.126414   \n",
       "\n",
       "                 ENSG00000197540  ENSG00000172270  ENSG00000099822  \\\n",
       "ENSG00000129946         0.020255         0.011003         0.009783   \n",
       "ENSG00000099866         0.015043         0.008540         0.006466   \n",
       "ENSG00000099804         0.250375         0.126414         0.061093   \n",
       "ENSG00000197540         1.000000         0.112516         0.078156   \n",
       "ENSG00000172270         0.112516         1.000000         0.311204   \n",
       "\n",
       "                 ENSG00000099821  ENSG00000011304  ENSG00000172232  \\\n",
       "ENSG00000129946         0.007874         0.007481         0.006953   \n",
       "ENSG00000099866         0.005534         0.012005         0.004044   \n",
       "ENSG00000099804         0.019915         0.020062         0.011394   \n",
       "ENSG00000197540         0.022678         0.020909         0.014599   \n",
       "ENSG00000172270         0.022535         0.040153         0.055534   \n",
       "\n",
       "                 ENSG00000196415  ...  ENSG00000171606  ENSG00000198131  \\\n",
       "ENSG00000129946         0.010731  ...              0.0              0.0   \n",
       "ENSG00000099866         0.005045  ...              0.0              0.0   \n",
       "ENSG00000099804         0.013603  ...              0.0              0.0   \n",
       "ENSG00000197540         0.016799  ...              0.0              0.0   \n",
       "ENSG00000172270         0.035629  ...              0.0              0.0   \n",
       "\n",
       "                 ENSG00000083845  ENSG00000171574  ENSG00000083812  \\\n",
       "ENSG00000129946              0.0              0.0              0.0   \n",
       "ENSG00000099866              0.0              0.0              0.0   \n",
       "ENSG00000099804              0.0              0.0              0.0   \n",
       "ENSG00000197540              0.0              0.0              0.0   \n",
       "ENSG00000172270              0.0              0.0              0.0   \n",
       "\n",
       "                 ENSG00000083838  ENSG00000083807  ENSG00000130726  \\\n",
       "ENSG00000129946              0.0              0.0              0.0   \n",
       "ENSG00000099866              0.0              0.0              0.0   \n",
       "ENSG00000099804              0.0              0.0              0.0   \n",
       "ENSG00000197540              0.0              0.0              0.0   \n",
       "ENSG00000172270              0.0              0.0              0.0   \n",
       "\n",
       "                 ENSG00000130724  ENSG00000130725  \n",
       "ENSG00000129946              0.0              0.0  \n",
       "ENSG00000099866              0.0              0.0  \n",
       "ENSG00000099804              0.0              0.0  \n",
       "ENSG00000197540              0.0              0.0  \n",
       "ENSG00000172270              0.0              0.0  \n",
       "\n",
       "[5 rows x 538 columns]"
      ]
     },
     "execution_count": 31,
     "metadata": {},
     "output_type": "execute_result"
    }
   ],
   "source": [
    "gene_corrs_df.head()"
   ]
  },
  {
   "cell_type": "markdown",
   "id": "dad6603f-01c6-41fb-a6f6-241051207dd8",
   "metadata": {
    "papermill": {
     "duration": 4.351442,
     "end_time": "2022-12-05T17:57:43.879143",
     "exception": false,
     "start_time": "2022-12-05T17:57:39.527701",
     "status": "completed"
    },
    "tags": []
   },
   "source": [
    "## Standard checks and stats"
   ]
  },
  {
   "cell_type": "code",
   "execution_count": 32,
   "id": "286686af-1b7b-4440-8453-6bdcbd8de19c",
   "metadata": {
    "execution": {
     "iopub.execute_input": "2022-12-05T17:57:52.378827Z",
     "iopub.status.busy": "2022-12-05T17:57:52.377865Z",
     "iopub.status.idle": "2022-12-05T17:57:52.400392Z",
     "shell.execute_reply": "2022-12-05T17:57:52.399769Z"
    },
    "papermill": {
     "duration": 4.286165,
     "end_time": "2022-12-05T17:57:52.401413",
     "exception": false,
     "start_time": "2022-12-05T17:57:48.115248",
     "status": "completed"
    },
    "tags": []
   },
   "outputs": [],
   "source": [
    "assert not gene_corrs_df.isna().any(axis=None)"
   ]
  },
  {
   "cell_type": "code",
   "execution_count": 33,
   "id": "00583efc-7068-4270-ad1e-4a418e91db96",
   "metadata": {
    "execution": {
     "iopub.execute_input": "2022-12-05T17:58:00.975784Z",
     "iopub.status.busy": "2022-12-05T17:58:00.975094Z",
     "iopub.status.idle": "2022-12-05T17:58:00.999143Z",
     "shell.execute_reply": "2022-12-05T17:58:00.998453Z"
    },
    "papermill": {
     "duration": 4.311294,
     "end_time": "2022-12-05T17:58:01.000077",
     "exception": false,
     "start_time": "2022-12-05T17:57:56.688783",
     "status": "completed"
    },
    "tags": []
   },
   "outputs": [
    {
     "data": {
      "text/plain": [
       "0.0"
      ]
     },
     "metadata": {},
     "output_type": "display_data"
    }
   ],
   "source": [
    "_min_val = gene_corrs_df.min().min()\n",
    "display(_min_val)\n",
    "assert _min_val >= -0.05"
   ]
  },
  {
   "cell_type": "code",
   "execution_count": 34,
   "id": "d04fb2cf-1050-475b-b855-f5f7cc04092b",
   "metadata": {
    "execution": {
     "iopub.execute_input": "2022-12-05T17:58:09.583019Z",
     "iopub.status.busy": "2022-12-05T17:58:09.582531Z",
     "iopub.status.idle": "2022-12-05T17:58:09.606396Z",
     "shell.execute_reply": "2022-12-05T17:58:09.605790Z"
    },
    "papermill": {
     "duration": 4.315708,
     "end_time": "2022-12-05T17:58:09.607352",
     "exception": false,
     "start_time": "2022-12-05T17:58:05.291644",
     "status": "completed"
    },
    "tags": []
   },
   "outputs": [
    {
     "data": {
      "text/plain": [
       "1.000000000000003"
      ]
     },
     "metadata": {},
     "output_type": "display_data"
    }
   ],
   "source": [
    "_max_val = gene_corrs_df.max().max()  # this captures the diagonal\n",
    "display(_max_val)\n",
    "assert _max_val <= 1.05"
   ]
  },
  {
   "cell_type": "code",
   "execution_count": 35,
   "id": "fe283586-c348-40e0-8841-f6d97bfb021c",
   "metadata": {
    "execution": {
     "iopub.execute_input": "2022-12-05T17:58:18.119328Z",
     "iopub.status.busy": "2022-12-05T17:58:18.118555Z",
     "iopub.status.idle": "2022-12-05T17:58:18.147253Z",
     "shell.execute_reply": "2022-12-05T17:58:18.146588Z"
    },
    "papermill": {
     "duration": 4.204676,
     "end_time": "2022-12-05T17:58:18.148223",
     "exception": false,
     "start_time": "2022-12-05T17:58:13.943547",
     "status": "completed"
    },
    "tags": []
   },
   "outputs": [
    {
     "data": {
      "text/plain": [
       "count    144991.000000\n",
       "mean          0.006768\n",
       "std           0.065956\n",
       "min           0.000000\n",
       "25%           0.000000\n",
       "50%           0.000000\n",
       "75%           0.000000\n",
       "max           1.000000\n",
       "dtype: float64"
      ]
     },
     "execution_count": 35,
     "metadata": {},
     "output_type": "execute_result"
    }
   ],
   "source": [
    "gene_corrs_flat.describe()"
   ]
  },
  {
   "cell_type": "code",
   "execution_count": 36,
   "id": "b3815678-0f93-4b35-897b-a9d047a2aa78",
   "metadata": {
    "execution": {
     "iopub.execute_input": "2022-12-05T17:58:26.719883Z",
     "iopub.status.busy": "2022-12-05T17:58:26.719550Z",
     "iopub.status.idle": "2022-12-05T17:58:26.748065Z",
     "shell.execute_reply": "2022-12-05T17:58:26.747499Z"
    },
    "papermill": {
     "duration": 4.314764,
     "end_time": "2022-12-05T17:58:26.748931",
     "exception": false,
     "start_time": "2022-12-05T17:58:22.434167",
     "status": "completed"
    },
    "tags": []
   },
   "outputs": [
    {
     "data": {
      "text/plain": [
       "0.00    0.000000\n",
       "0.05    0.000000\n",
       "0.10    0.000000\n",
       "0.15    0.000000\n",
       "0.20    0.000000\n",
       "0.25    0.000000\n",
       "0.30    0.000000\n",
       "0.35    0.000000\n",
       "0.40    0.000000\n",
       "0.45    0.000000\n",
       "0.50    0.000000\n",
       "0.55    0.000000\n",
       "0.60    0.000000\n",
       "0.65    0.000000\n",
       "0.70    0.000000\n",
       "0.75    0.000000\n",
       "0.80    0.000000\n",
       "0.85    0.003612\n",
       "0.90    0.005975\n",
       "0.95    0.008963\n",
       "dtype: float64"
      ]
     },
     "metadata": {},
     "output_type": "display_data"
    }
   ],
   "source": [
    "gene_corrs_quantiles = gene_corrs_flat.quantile(np.arange(0, 1, 0.05))\n",
    "display(gene_corrs_quantiles)"
   ]
  },
  {
   "cell_type": "markdown",
   "id": "87134509-b145-4a10-8bc9-b7e914c2b0fa",
   "metadata": {
    "papermill": {
     "duration": 4.234424,
     "end_time": "2022-12-05T17:58:35.362689",
     "exception": false,
     "start_time": "2022-12-05T17:58:31.128265",
     "status": "completed"
    },
    "tags": []
   },
   "source": [
    "## Positive definiteness"
   ]
  },
  {
   "cell_type": "code",
   "execution_count": 37,
   "id": "07d9a9a1-a4f7-48aa-b916-6d42a8cc6186",
   "metadata": {
    "execution": {
     "iopub.execute_input": "2022-12-05T17:58:44.030375Z",
     "iopub.status.busy": "2022-12-05T17:58:44.029645Z",
     "iopub.status.idle": "2022-12-05T17:58:44.138300Z",
     "shell.execute_reply": "2022-12-05T17:58:44.137918Z"
    },
    "papermill": {
     "duration": 4.486067,
     "end_time": "2022-12-05T17:58:44.139349",
     "exception": false,
     "start_time": "2022-12-05T17:58:39.653282",
     "status": "completed"
    },
    "tags": []
   },
   "outputs": [
    {
     "data": {
      "text/plain": [
       "0"
      ]
     },
     "metadata": {},
     "output_type": "display_data"
    },
    {
     "data": {
      "text/plain": [
       "array([], dtype=float64)"
      ]
     },
     "metadata": {},
     "output_type": "display_data"
    }
   ],
   "source": [
    "# print negative eigenvalues\n",
    "eigs = np.linalg.eigvals(gene_corrs_df.to_numpy())\n",
    "display(len(eigs[eigs < 0]))\n",
    "display(eigs[eigs < 0])"
   ]
  },
  {
   "cell_type": "code",
   "execution_count": 38,
   "id": "6e218436-c3c5-4028-8c94-a4fa6260efce",
   "metadata": {
    "execution": {
     "iopub.execute_input": "2022-12-05T17:58:52.692615Z",
     "iopub.status.busy": "2022-12-05T17:58:52.691994Z",
     "iopub.status.idle": "2022-12-05T17:58:52.741656Z",
     "shell.execute_reply": "2022-12-05T17:58:52.741111Z"
    },
    "papermill": {
     "duration": 4.354604,
     "end_time": "2022-12-05T17:58:52.742500",
     "exception": false,
     "start_time": "2022-12-05T17:58:48.387896",
     "status": "completed"
    },
    "tags": []
   },
   "outputs": [
    {
     "name": "stdout",
     "output_type": "stream",
     "text": [
      "Works!\n"
     ]
    }
   ],
   "source": [
    "try:\n",
    "    chol_mat = np.linalg.cholesky(gene_corrs_df.to_numpy())\n",
    "    cov_inv = np.linalg.inv(chol_mat)\n",
    "    print(\"Works!\")\n",
    "except Exception as e:\n",
    "    print(f\"Cholesky decomposition failed: {str(e)}\")"
   ]
  },
  {
   "cell_type": "code",
   "execution_count": 39,
   "id": "dd8827fb-faf9-4c7c-9454-015e94752706",
   "metadata": {
    "execution": {
     "iopub.execute_input": "2022-12-05T17:59:01.394108Z",
     "iopub.status.busy": "2022-12-05T17:59:01.393654Z",
     "iopub.status.idle": "2022-12-05T17:59:01.442307Z",
     "shell.execute_reply": "2022-12-05T17:59:01.441762Z"
    },
    "papermill": {
     "duration": 4.438829,
     "end_time": "2022-12-05T17:59:01.443543",
     "exception": false,
     "start_time": "2022-12-05T17:58:57.004714",
     "status": "completed"
    },
    "tags": []
   },
   "outputs": [
    {
     "name": "stdout",
     "output_type": "stream",
     "text": [
      "Works!\n"
     ]
    }
   ],
   "source": [
    "try:\n",
    "    # decomposition used by statsmodels.GLS\n",
    "    cholsigmainv = np.linalg.cholesky(np.linalg.inv(gene_corrs_df.to_numpy())).T\n",
    "    print(\"Works!\")\n",
    "except Exception as e:\n",
    "    print(f\"Cholesky decomposition failed (statsmodels.GLS): {str(e)}\")"
   ]
  },
  {
   "cell_type": "markdown",
   "id": "8e60a080-edb2-4e9c-b2ef-22961693200c",
   "metadata": {
    "papermill": {
     "duration": 4.305516,
     "end_time": "2022-12-05T17:59:09.949993",
     "exception": false,
     "start_time": "2022-12-05T17:59:05.644477",
     "status": "completed"
    },
    "tags": []
   },
   "source": [
    "## Plot: distribution"
   ]
  },
  {
   "cell_type": "code",
   "execution_count": 40,
   "id": "8301126b-a7d4-4744-9c7d-f0f86eb6f54c",
   "metadata": {
    "execution": {
     "iopub.execute_input": "2022-12-05T17:59:18.493585Z",
     "iopub.status.busy": "2022-12-05T17:59:18.493137Z",
     "iopub.status.idle": "2022-12-05T17:59:19.193844Z",
     "shell.execute_reply": "2022-12-05T17:59:19.193378Z"
    },
    "papermill": {
     "duration": 4.923201,
     "end_time": "2022-12-05T17:59:19.195008",
     "exception": false,
     "start_time": "2022-12-05T17:59:14.271807",
     "status": "completed"
    },
    "tags": []
   },
   "outputs": [
    {
     "data": {
      "image/png": "[encoded data removed]",
      "text/plain": [
       "<Figure size 700x700 with 1 Axes>"
      ]
     },
     "metadata": {},
     "output_type": "display_data"
    }
   ],
   "source": [
    "with sns.plotting_context(\"paper\", font_scale=1.5):\n",
    "    g = sns.displot(gene_corrs_flat, kde=True, height=7)\n",
    "    g.ax.set_title(\n",
    "        f\"Distribution of gene correlation values in chromosome {CHROMOSOME}\"\n",
    "    )"
   ]
  },
  {
   "cell_type": "markdown",
   "id": "cbd52bca-d878-4a2f-b684-5c83aa3038d4",
   "metadata": {
    "papermill": {
     "duration": 4.28705,
     "end_time": "2022-12-05T17:59:27.817207",
     "exception": false,
     "start_time": "2022-12-05T17:59:23.530157",
     "status": "completed"
    },
    "tags": []
   },
   "source": [
    "## Plot: heatmap"
   ]
  },
  {
   "cell_type": "code",
   "execution_count": 41,
   "id": "d03fe63a-c7b2-4fb9-a53c-db362ce843c9",
   "metadata": {
    "execution": {
     "iopub.execute_input": "2022-12-05T17:59:36.337467Z",
     "iopub.status.busy": "2022-12-05T17:59:36.336731Z",
     "iopub.status.idle": "2022-12-05T17:59:36.359848Z",
     "shell.execute_reply": "2022-12-05T17:59:36.359335Z"
    },
    "papermill": {
     "duration": 4.248664,
     "end_time": "2022-12-05T17:59:36.360702",
     "exception": false,
     "start_time": "2022-12-05T17:59:32.112038",
     "status": "completed"
    },
    "tags": []
   },
   "outputs": [
    {
     "data": {
      "text/plain": [
       "'0.0 / 0.05'"
      ]
     },
     "metadata": {},
     "output_type": "display_data"
    }
   ],
   "source": [
    "vmin_val = min(0.00, gene_corrs_quantiles[0.10])\n",
    "vmax_val = max(0.05, gene_corrs_quantiles[0.90])\n",
    "display(f\"{vmin_val} / {vmax_val}\")"
   ]
  },
  {
   "cell_type": "code",
   "execution_count": 42,
   "id": "dc41b70b-5bcc-4d9e-9f33-a22c4a94dab5",
   "metadata": {
    "execution": {
     "iopub.execute_input": "2022-12-05T17:59:45.045197Z",
     "iopub.status.busy": "2022-12-05T17:59:45.044502Z",
     "iopub.status.idle": "2022-12-05T17:59:45.449308Z",
     "shell.execute_reply": "2022-12-05T17:59:45.448898Z"
    },
    "papermill": {
     "duration": 4.784299,
     "end_time": "2022-12-05T17:59:45.451683",
     "exception": false,
     "start_time": "2022-12-05T17:59:40.667384",
     "status": "completed"
    },
    "tags": []
   },
   "outputs": [
    {
     "data": {
      "text/plain": [
       "Text(0.5, 1.0, 'Gene correlations in chromosome 19')"
      ]
     },
     "execution_count": 42,
     "metadata": {},
     "output_type": "execute_result"
    },
    {
     "data": {
      "image/png": "[encoded data removed]",
      "text/plain": [
       "<Figure size 1000x1000 with 2 Axes>"
      ]
     },
     "metadata": {},
     "output_type": "display_data"
    }
   ],
   "source": [
    "f, ax = plt.subplots(figsize=(10, 10))\n",
    "sns.heatmap(\n",
    "    gene_corrs_df,\n",
    "    xticklabels=False,\n",
    "    yticklabels=False,\n",
    "    square=True,\n",
    "    vmin=vmin_val,\n",
    "    vmax=vmax_val,\n",
    "    cmap=\"rocket_r\",\n",
    "    ax=ax,\n",
    ")\n",
    "ax.set_title(f\"Gene correlations in chromosome {CHROMOSOME}\")"
   ]
  },
  {
   "cell_type": "code",
   "execution_count": null,
   "id": "b25e3ead",
   "metadata": {
    "papermill": {
     "duration": 4.210178,
     "end_time": "2022-12-05T17:59:54.072678",
     "exception": false,
     "start_time": "2022-12-05T17:59:49.862500",
     "status": "completed"
    },
    "tags": []
   },
   "outputs": [],
   "source": []
  }
 ],
 "metadata": {
  "jupytext": {
   "cell_metadata_filter": "all,-execution,-papermill,-trusted",
   "formats": "ipynb,py//py:percent"
  },
  "kernelspec": {
   "display_name": "Python 3 (ipykernel)",
   "language": "python",
   "name": "python3"
  },
  "language_info": {
   "codemirror_mode": {
    "name": "ipython",
    "version": 3
   },
   "file_extension": ".py",
   "mimetype": "text/x-python",
   "name": "python",
   "nbconvert_exporter": "python",
   "pygments_lexer": "ipython3",
   "version": "3.10.6"
  },
  "papermill": {
   "default_parameters": {},
   "duration": 1494.243828,
   "end_time": "2022-12-05T18:00:01.801967",
   "environment_variables": {},
   "exception": null,
   "input_path": "projects/asthma-copd/nbs/20_gene_corrs/jobs/05-gene_expr_correlations.ipynb",
   "output_path": "projects/asthma-copd/nbs/20_gene_corrs/jobs/../output/aco/05-gene_expr_correlations-chr19.run.ipynb",
   "parameters": {
    "CHROMOSOME": 19,
    "COHORT_NAME": "aco",
    "OUTPUT_DIR_BASE": "/opt/data/projects/asthma-copd/results/gls_phenoplier",
    "PHENOPLIER_NOTEBOOK_FILEPATH": "projects/asthma-copd/nbs/20_gene_corrs/jobs/05-gene_expr_correlations.ipynb"
   },
   "start_time": "2022-12-05T17:35:07.558139",
   "version": "2.2.2"
  }
 },
 "nbformat": 4,
 "nbformat_minor": 5
}
