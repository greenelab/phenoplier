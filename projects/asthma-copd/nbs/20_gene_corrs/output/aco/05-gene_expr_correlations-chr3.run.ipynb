{
 "cells": [
  {
   "cell_type": "markdown",
   "id": "7a6632fb",
   "metadata": {
    "papermill": {
     "duration": 0.009275,
     "end_time": "2022-12-05T17:17:54.467763",
     "exception": false,
     "start_time": "2022-12-05T17:17:54.458488",
     "status": "completed"
    },
    "tags": []
   },
   "source": [
    "# Description"
   ]
  },
  {
   "cell_type": "markdown",
   "id": "7097c346",
   "metadata": {
    "papermill": {
     "duration": 0.008563,
     "end_time": "2022-12-05T17:17:54.485760",
     "exception": false,
     "start_time": "2022-12-05T17:17:54.477197",
     "status": "completed"
    },
    "tags": []
   },
   "source": [
    "(Please, take a look at the README.md file in this directory for instructions on how to run this notebook)\n",
    "\n",
    "This notebook computes predicted expression correlations between all genes in the MultiPLIER models.\n",
    "\n",
    "It has specicfic parameters for papermill (see under `Settings` below).\n",
    "It can be configured to run on a single chromosome to run in parallel.\n",
    "\n",
    "This notebook is not directly run. See README.md."
   ]
  },
  {
   "cell_type": "markdown",
   "id": "c61d8427",
   "metadata": {
    "papermill": {
     "duration": 0.007976,
     "end_time": "2022-12-05T17:17:54.501799",
     "exception": false,
     "start_time": "2022-12-05T17:17:54.493823",
     "status": "completed"
    },
    "tags": []
   },
   "source": [
    "# Modules"
   ]
  },
  {
   "cell_type": "code",
   "execution_count": 1,
   "id": "bbc0234f",
   "metadata": {
    "execution": {
     "iopub.execute_input": "2022-12-05T17:17:54.520574Z",
     "iopub.status.busy": "2022-12-05T17:17:54.520126Z",
     "iopub.status.idle": "2022-12-05T17:17:54.540918Z",
     "shell.execute_reply": "2022-12-05T17:17:54.540163Z"
    },
    "papermill": {
     "duration": 0.031893,
     "end_time": "2022-12-05T17:17:54.542571",
     "exception": false,
     "start_time": "2022-12-05T17:17:54.510678",
     "status": "completed"
    },
    "tags": []
   },
   "outputs": [],
   "source": [
    "%load_ext autoreload\n",
    "%autoreload 2"
   ]
  },
  {
   "cell_type": "code",
   "execution_count": 2,
   "id": "1d5f5a59",
   "metadata": {
    "execution": {
     "iopub.execute_input": "2022-12-05T17:17:54.560704Z",
     "iopub.status.busy": "2022-12-05T17:17:54.560307Z",
     "iopub.status.idle": "2022-12-05T17:17:55.380063Z",
     "shell.execute_reply": "2022-12-05T17:17:55.379513Z"
    },
    "papermill": {
     "duration": 0.830816,
     "end_time": "2022-12-05T17:17:55.381935",
     "exception": false,
     "start_time": "2022-12-05T17:17:54.551119",
     "status": "completed"
    },
    "tags": []
   },
   "outputs": [],
   "source": [
    "from random import sample, seed\n",
    "import warnings\n",
    "from pathlib import Path\n",
    "import pickle\n",
    "import traceback\n",
    "\n",
    "import numpy as np\n",
    "from scipy.spatial.distance import squareform\n",
    "import pandas as pd\n",
    "from tqdm import tqdm\n",
    "import matplotlib.pyplot as plt\n",
    "import seaborn as sns\n",
    "\n",
    "import conf\n",
    "from entity import Gene"
   ]
  },
  {
   "cell_type": "markdown",
   "id": "1eac24b5",
   "metadata": {
    "papermill": {
     "duration": 0.009879,
     "end_time": "2022-12-05T17:17:55.400483",
     "exception": false,
     "start_time": "2022-12-05T17:17:55.390604",
     "status": "completed"
    },
    "tags": []
   },
   "source": [
    "# Settings"
   ]
  },
  {
   "cell_type": "code",
   "execution_count": 3,
   "id": "ca4560ba",
   "metadata": {
    "execution": {
     "iopub.execute_input": "2022-12-05T17:17:55.418011Z",
     "iopub.status.busy": "2022-12-05T17:17:55.417710Z",
     "iopub.status.idle": "2022-12-05T17:17:55.437818Z",
     "shell.execute_reply": "2022-12-05T17:17:55.437247Z"
    },
    "papermill": {
     "duration": 0.030713,
     "end_time": "2022-12-05T17:17:55.439249",
     "exception": false,
     "start_time": "2022-12-05T17:17:55.408536",
     "status": "completed"
    },
    "tags": [
     "parameters"
    ]
   },
   "outputs": [],
   "source": [
    "# a cohort name (it could be something like UK_BIOBANK, etc)\n",
    "COHORT_NAME = None\n",
    "\n",
    "# reference panel such as 1000G or GTEX_V8\n",
    "REFERENCE_PANEL = \"GTEX_V8\"\n",
    "\n",
    "# predictions models such as MASHR or ELASTIC_NET\n",
    "EQTL_MODEL = \"MASHR\"\n",
    "\n",
    "# this is the default value used in S-MultiXcan to select the\n",
    "# top principal components of the expression correlation matrix\n",
    "SMULTIXCAN_CONDITION_NUMBER = 30\n",
    "\n",
    "# specifies a single chromosome value\n",
    "CHROMOSOME = None\n",
    "\n",
    "# If True, computes the correlation between closeby genes only (see\n",
    "# entity.Gene.within_distance for more details). Otherwise, it computes\n",
    "# correlations for all genes in a chromosome\n",
    "COMPUTE_CORRELATIONS_WITHIN_DISTANCE = True\n",
    "\n",
    "# if True, then it will continue if a gene pair correlation fails,\n",
    "# printing the warning/error for debugging. If False, any warning/error\n",
    "# will be thrown\n",
    "DEBUG_MODE = False\n",
    "\n",
    "# output dir\n",
    "OUTPUT_DIR_BASE = None"
   ]
  },
  {
   "cell_type": "code",
   "execution_count": 4,
   "id": "b563d52d",
   "metadata": {
    "execution": {
     "iopub.execute_input": "2022-12-05T17:17:55.458667Z",
     "iopub.status.busy": "2022-12-05T17:17:55.458104Z",
     "iopub.status.idle": "2022-12-05T17:17:55.481858Z",
     "shell.execute_reply": "2022-12-05T17:17:55.481161Z"
    },
    "papermill": {
     "duration": 0.034929,
     "end_time": "2022-12-05T17:17:55.483313",
     "exception": false,
     "start_time": "2022-12-05T17:17:55.448384",
     "status": "completed"
    },
    "tags": [
     "injected-parameters"
    ]
   },
   "outputs": [],
   "source": [
    "# Parameters\n",
    "PHENOPLIER_NOTEBOOK_FILEPATH = (\n",
    "    \"projects/asthma-copd/nbs/20_gene_corrs/jobs/05-gene_expr_correlations.ipynb\"\n",
    ")\n",
    "COHORT_NAME = \"aco\"\n",
    "CHROMOSOME = 3\n",
    "OUTPUT_DIR_BASE = \"/opt/data/projects/asthma-copd/results/gls_phenoplier\"\n"
   ]
  },
  {
   "cell_type": "code",
   "execution_count": 5,
   "id": "3190631f-27fc-480f-b18e-571d580425a5",
   "metadata": {
    "execution": {
     "iopub.execute_input": "2022-12-05T17:17:55.501217Z",
     "iopub.status.busy": "2022-12-05T17:17:55.500837Z",
     "iopub.status.idle": "2022-12-05T17:17:55.531483Z",
     "shell.execute_reply": "2022-12-05T17:17:55.530904Z"
    },
    "papermill": {
     "duration": 0.041272,
     "end_time": "2022-12-05T17:17:55.532912",
     "exception": false,
     "start_time": "2022-12-05T17:17:55.491640",
     "status": "completed"
    },
    "tags": []
   },
   "outputs": [
    {
     "data": {
      "text/plain": [
       "'Cohort name: aco'"
      ]
     },
     "metadata": {},
     "output_type": "display_data"
    }
   ],
   "source": [
    "assert COHORT_NAME is not None and len(COHORT_NAME) > 0, \"A cohort name must be given\"\n",
    "\n",
    "COHORT_NAME = COHORT_NAME.lower()\n",
    "display(f\"Cohort name: {COHORT_NAME}\")"
   ]
  },
  {
   "cell_type": "code",
   "execution_count": 6,
   "id": "f53ba19b-0f93-4fa2-a047-63b375939d1a",
   "metadata": {
    "execution": {
     "iopub.execute_input": "2022-12-05T17:17:55.551802Z",
     "iopub.status.busy": "2022-12-05T17:17:55.551294Z",
     "iopub.status.idle": "2022-12-05T17:17:55.576300Z",
     "shell.execute_reply": "2022-12-05T17:17:55.575751Z"
    },
    "papermill": {
     "duration": 0.036264,
     "end_time": "2022-12-05T17:17:55.577861",
     "exception": false,
     "start_time": "2022-12-05T17:17:55.541597",
     "status": "completed"
    },
    "tags": []
   },
   "outputs": [
    {
     "data": {
      "text/plain": [
       "'Reference panel: GTEX_V8'"
      ]
     },
     "metadata": {},
     "output_type": "display_data"
    }
   ],
   "source": [
    "assert (\n",
    "    REFERENCE_PANEL is not None and len(REFERENCE_PANEL) > 0\n",
    "), \"A reference panel must be given\"\n",
    "\n",
    "display(f\"Reference panel: {REFERENCE_PANEL}\")"
   ]
  },
  {
   "cell_type": "code",
   "execution_count": 7,
   "id": "e024d130-c139-429a-9c6e-ccf149e297b0",
   "metadata": {
    "execution": {
     "iopub.execute_input": "2022-12-05T17:17:55.597938Z",
     "iopub.status.busy": "2022-12-05T17:17:55.597363Z",
     "iopub.status.idle": "2022-12-05T17:17:55.622705Z",
     "shell.execute_reply": "2022-12-05T17:17:55.622218Z"
    },
    "papermill": {
     "duration": 0.036572,
     "end_time": "2022-12-05T17:17:55.624037",
     "exception": false,
     "start_time": "2022-12-05T17:17:55.587465",
     "status": "completed"
    },
    "tags": []
   },
   "outputs": [
    {
     "data": {
      "text/plain": [
       "'eQTL model: MASHR) / mashr_'"
      ]
     },
     "metadata": {},
     "output_type": "display_data"
    }
   ],
   "source": [
    "assert (\n",
    "    EQTL_MODEL is not None and len(EQTL_MODEL) > 0\n",
    "), \"A prediction/eQTL model must be given\"\n",
    "\n",
    "EQTL_MODEL_FILES_PREFIX = conf.PHENOMEXCAN[\"PREDICTION_MODELS\"][f\"{EQTL_MODEL}_PREFIX\"]\n",
    "display(f\"eQTL model: {EQTL_MODEL}) / {EQTL_MODEL_FILES_PREFIX}\")"
   ]
  },
  {
   "cell_type": "code",
   "execution_count": 8,
   "id": "552a7f63-a18c-4d3e-bb6a-94f99b431291",
   "metadata": {
    "execution": {
     "iopub.execute_input": "2022-12-05T17:17:55.642873Z",
     "iopub.status.busy": "2022-12-05T17:17:55.642571Z",
     "iopub.status.idle": "2022-12-05T17:17:55.662201Z",
     "shell.execute_reply": "2022-12-05T17:17:55.661753Z"
    },
    "papermill": {
     "duration": 0.031124,
     "end_time": "2022-12-05T17:17:55.663731",
     "exception": false,
     "start_time": "2022-12-05T17:17:55.632607",
     "status": "completed"
    },
    "tags": []
   },
   "outputs": [
    {
     "data": {
      "text/plain": [
       "'S-MultiXcan condition number: 30'"
      ]
     },
     "metadata": {},
     "output_type": "display_data"
    }
   ],
   "source": [
    "assert (\n",
    "    SMULTIXCAN_CONDITION_NUMBER is not None and SMULTIXCAN_CONDITION_NUMBER > 0\n",
    "), \"The S-MultiXcan condition number (positive integer) must be given\"\n",
    "\n",
    "display(f\"S-MultiXcan condition number: {SMULTIXCAN_CONDITION_NUMBER}\")"
   ]
  },
  {
   "cell_type": "code",
   "execution_count": 9,
   "id": "f34a336f-548e-4afe-8955-90eaea4f42c6",
   "metadata": {
    "execution": {
     "iopub.execute_input": "2022-12-05T17:17:55.683908Z",
     "iopub.status.busy": "2022-12-05T17:17:55.683556Z",
     "iopub.status.idle": "2022-12-05T17:17:55.703115Z",
     "shell.execute_reply": "2022-12-05T17:17:55.702634Z"
    },
    "papermill": {
     "duration": 0.030614,
     "end_time": "2022-12-05T17:17:55.704432",
     "exception": false,
     "start_time": "2022-12-05T17:17:55.673818",
     "status": "completed"
    },
    "tags": []
   },
   "outputs": [
    {
     "data": {
      "text/plain": [
       "'Working on chromosome 3'"
      ]
     },
     "metadata": {},
     "output_type": "display_data"
    }
   ],
   "source": [
    "assert CHROMOSOME is not None and (\n",
    "    1 <= CHROMOSOME <= 22\n",
    "), \"You have to select one chromosome (format: number between 1 and 22)\"\n",
    "\n",
    "display(f\"Working on chromosome {CHROMOSOME}\")"
   ]
  },
  {
   "cell_type": "code",
   "execution_count": 10,
   "id": "ab8e96e8-06b5-4363-9dcd-dc4d78cc27f7",
   "metadata": {
    "execution": {
     "iopub.execute_input": "2022-12-05T17:17:55.723364Z",
     "iopub.status.busy": "2022-12-05T17:17:55.723027Z",
     "iopub.status.idle": "2022-12-05T17:17:55.742879Z",
     "shell.execute_reply": "2022-12-05T17:17:55.742394Z"
    },
    "papermill": {
     "duration": 0.031034,
     "end_time": "2022-12-05T17:17:55.744270",
     "exception": false,
     "start_time": "2022-12-05T17:17:55.713236",
     "status": "completed"
    },
    "tags": []
   },
   "outputs": [
    {
     "data": {
      "text/plain": [
       "'Compute correlation within distance True'"
      ]
     },
     "metadata": {},
     "output_type": "display_data"
    }
   ],
   "source": [
    "display(f\"Compute correlation within distance {COMPUTE_CORRELATIONS_WITHIN_DISTANCE}\")"
   ]
  },
  {
   "cell_type": "code",
   "execution_count": 11,
   "id": "b393b698-77e3-4ba2-8ac1-e14d51aa988f",
   "metadata": {
    "execution": {
     "iopub.execute_input": "2022-12-05T17:17:55.764180Z",
     "iopub.status.busy": "2022-12-05T17:17:55.763828Z",
     "iopub.status.idle": "2022-12-05T17:17:55.784498Z",
     "shell.execute_reply": "2022-12-05T17:17:55.784015Z"
    },
    "papermill": {
     "duration": 0.032106,
     "end_time": "2022-12-05T17:17:55.785880",
     "exception": false,
     "start_time": "2022-12-05T17:17:55.753774",
     "status": "completed"
    },
    "tags": []
   },
   "outputs": [
    {
     "data": {
      "text/plain": [
       "'Using output dir base: /opt/data/projects/asthma-copd/results/gls_phenoplier/gene_corrs/aco'"
      ]
     },
     "metadata": {},
     "output_type": "display_data"
    }
   ],
   "source": [
    "assert (\n",
    "    OUTPUT_DIR_BASE is not None and len(OUTPUT_DIR_BASE) > 0\n",
    "), \"Output directory path must be given\"\n",
    "\n",
    "OUTPUT_DIR_BASE = (Path(OUTPUT_DIR_BASE) / \"gene_corrs\" / COHORT_NAME).resolve()\n",
    "\n",
    "OUTPUT_DIR_BASE.mkdir(parents=True, exist_ok=True)\n",
    "\n",
    "display(f\"Using output dir base: {OUTPUT_DIR_BASE}\")"
   ]
  },
  {
   "cell_type": "markdown",
   "id": "d2ba085e",
   "metadata": {
    "papermill": {
     "duration": 0.008961,
     "end_time": "2022-12-05T17:17:55.804241",
     "exception": false,
     "start_time": "2022-12-05T17:17:55.795280",
     "status": "completed"
    },
    "tags": []
   },
   "source": [
    "# Load data"
   ]
  },
  {
   "cell_type": "markdown",
   "id": "7dcb8db7",
   "metadata": {
    "papermill": {
     "duration": 0.009215,
     "end_time": "2022-12-05T17:17:55.822488",
     "exception": false,
     "start_time": "2022-12-05T17:17:55.813273",
     "status": "completed"
    },
    "tags": []
   },
   "source": [
    "## GWAS variants"
   ]
  },
  {
   "cell_type": "code",
   "execution_count": 12,
   "id": "29434c4e-8cd3-4b9b-82e4-b5a251d9dd19",
   "metadata": {
    "execution": {
     "iopub.execute_input": "2022-12-05T17:17:55.841680Z",
     "iopub.status.busy": "2022-12-05T17:17:55.841159Z",
     "iopub.status.idle": "2022-12-05T17:17:58.602055Z",
     "shell.execute_reply": "2022-12-05T17:17:58.601534Z"
    },
    "papermill": {
     "duration": 2.772114,
     "end_time": "2022-12-05T17:17:58.603824",
     "exception": false,
     "start_time": "2022-12-05T17:17:55.831710",
     "status": "completed"
    },
    "tags": []
   },
   "outputs": [],
   "source": [
    "with open(OUTPUT_DIR_BASE / \"gwas_variant_ids.pkl\", \"rb\") as handle:\n",
    "    gwas_variants_ids_set = pickle.load(handle)"
   ]
  },
  {
   "cell_type": "code",
   "execution_count": 13,
   "id": "b9d9dec2-4a76-4bf9-bde2-e24c95acb8a0",
   "metadata": {
    "execution": {
     "iopub.execute_input": "2022-12-05T17:17:58.624386Z",
     "iopub.status.busy": "2022-12-05T17:17:58.624108Z",
     "iopub.status.idle": "2022-12-05T17:17:58.640372Z",
     "shell.execute_reply": "2022-12-05T17:17:58.639933Z"
    },
    "papermill": {
     "duration": 0.028753,
     "end_time": "2022-12-05T17:17:58.641551",
     "exception": false,
     "start_time": "2022-12-05T17:17:58.612798",
     "status": "completed"
    },
    "tags": []
   },
   "outputs": [
    {
     "data": {
      "text/plain": [
       "8561476"
      ]
     },
     "execution_count": 13,
     "metadata": {},
     "output_type": "execute_result"
    }
   ],
   "source": [
    "len(gwas_variants_ids_set)"
   ]
  },
  {
   "cell_type": "code",
   "execution_count": 14,
   "id": "4235b06a-6034-4ee4-a0a3-2ae35d122418",
   "metadata": {
    "execution": {
     "iopub.execute_input": "2022-12-05T17:17:58.659689Z",
     "iopub.status.busy": "2022-12-05T17:17:58.659377Z",
     "iopub.status.idle": "2022-12-05T17:17:59.174791Z",
     "shell.execute_reply": "2022-12-05T17:17:59.174366Z"
    },
    "papermill": {
     "duration": 0.525935,
     "end_time": "2022-12-05T17:17:59.176064",
     "exception": false,
     "start_time": "2022-12-05T17:17:58.650129",
     "status": "completed"
    },
    "tags": []
   },
   "outputs": [
    {
     "data": {
      "text/plain": [
       "['chr5_77920518_C_T_b38',\n",
       " 'chr4_41045993_TTTA_T_b38',\n",
       " 'chr9_84909975_T_A_b38',\n",
       " 'chr20_36723005_A_G_b38',\n",
       " 'chr2_183038483_G_A_b38']"
      ]
     },
     "execution_count": 14,
     "metadata": {},
     "output_type": "execute_result"
    }
   ],
   "source": [
    "list(gwas_variants_ids_set)[:5]"
   ]
  },
  {
   "cell_type": "markdown",
   "id": "07866999-2305-41f9-a144-e69c9122c212",
   "metadata": {
    "papermill": {
     "duration": 0.009743,
     "end_time": "2022-12-05T17:17:59.194948",
     "exception": false,
     "start_time": "2022-12-05T17:17:59.185205",
     "status": "completed"
    },
    "tags": []
   },
   "source": [
    "## S-PrediXcan tissue models"
   ]
  },
  {
   "cell_type": "code",
   "execution_count": 15,
   "id": "780611d9-77c8-405f-90a4-f271f7b09397",
   "metadata": {
    "execution": {
     "iopub.execute_input": "2022-12-05T17:17:59.208635Z",
     "iopub.status.busy": "2022-12-05T17:17:59.208445Z",
     "iopub.status.idle": "2022-12-05T17:18:00.148894Z",
     "shell.execute_reply": "2022-12-05T17:18:00.148375Z"
    },
    "papermill": {
     "duration": 0.947744,
     "end_time": "2022-12-05T17:18:00.150843",
     "exception": false,
     "start_time": "2022-12-05T17:17:59.203099",
     "status": "completed"
    },
    "tags": []
   },
   "outputs": [],
   "source": [
    "spredixcan_genes_models = pd.read_pickle(OUTPUT_DIR_BASE / \"gene_tissues.pkl\")"
   ]
  },
  {
   "cell_type": "code",
   "execution_count": 16,
   "id": "726dd1f6-9557-4225-91fa-b3b879ea96e1",
   "metadata": {
    "execution": {
     "iopub.execute_input": "2022-12-05T17:18:00.171757Z",
     "iopub.status.busy": "2022-12-05T17:18:00.171633Z",
     "iopub.status.idle": "2022-12-05T17:18:00.186239Z",
     "shell.execute_reply": "2022-12-05T17:18:00.185875Z"
    },
    "papermill": {
     "duration": 0.026501,
     "end_time": "2022-12-05T17:18:00.187574",
     "exception": false,
     "start_time": "2022-12-05T17:18:00.161073",
     "status": "completed"
    },
    "tags": []
   },
   "outputs": [
    {
     "data": {
      "text/plain": [
       "(6442, 5)"
      ]
     },
     "execution_count": 16,
     "metadata": {},
     "output_type": "execute_result"
    }
   ],
   "source": [
    "spredixcan_genes_models.shape"
   ]
  },
  {
   "cell_type": "code",
   "execution_count": 17,
   "id": "944a1b48-222c-4eb0-b252-b9de2cbca215",
   "metadata": {
    "execution": {
     "iopub.execute_input": "2022-12-05T17:18:00.208261Z",
     "iopub.status.busy": "2022-12-05T17:18:00.208145Z",
     "iopub.status.idle": "2022-12-05T17:18:00.224250Z",
     "shell.execute_reply": "2022-12-05T17:18:00.223884Z"
    },
    "papermill": {
     "duration": 0.027645,
     "end_time": "2022-12-05T17:18:00.225657",
     "exception": false,
     "start_time": "2022-12-05T17:18:00.198012",
     "status": "completed"
    },
    "tags": []
   },
   "outputs": [
    {
     "data": {
      "text/html": [
       "<div>\n",
       "<style scoped>\n",
       "    .dataframe tbody tr th:only-of-type {\n",
       "        vertical-align: middle;\n",
       "    }\n",
       "\n",
       "    .dataframe tbody tr th {\n",
       "        vertical-align: top;\n",
       "    }\n",
       "\n",
       "    .dataframe thead th {\n",
       "        text-align: right;\n",
       "    }\n",
       "</style>\n",
       "<table border=\"1\" class=\"dataframe\">\n",
       "  <thead>\n",
       "    <tr style=\"text-align: right;\">\n",
       "      <th></th>\n",
       "      <th>gene_name</th>\n",
       "      <th>tissue</th>\n",
       "      <th>n_tissues</th>\n",
       "      <th>n_snps_used_sum</th>\n",
       "      <th>n_snps_in_model_sum</th>\n",
       "    </tr>\n",
       "    <tr>\n",
       "      <th>gene_id</th>\n",
       "      <th></th>\n",
       "      <th></th>\n",
       "      <th></th>\n",
       "      <th></th>\n",
       "      <th></th>\n",
       "    </tr>\n",
       "  </thead>\n",
       "  <tbody>\n",
       "    <tr>\n",
       "      <th>ENSG00000000419</th>\n",
       "      <td>DPM1</td>\n",
       "      <td>(Brain_Hypothalamus, Brain_Substantia_nigra)</td>\n",
       "      <td>2</td>\n",
       "      <td>2</td>\n",
       "      <td>2</td>\n",
       "    </tr>\n",
       "    <tr>\n",
       "      <th>ENSG00000000938</th>\n",
       "      <td>FGR</td>\n",
       "      <td>(Testis, Esophagus_Mucosa, Adipose_Subcutaneou...</td>\n",
       "      <td>36</td>\n",
       "      <td>40</td>\n",
       "      <td>40</td>\n",
       "    </tr>\n",
       "    <tr>\n",
       "      <th>ENSG00000000971</th>\n",
       "      <td>CFH</td>\n",
       "      <td>(Testis, Lung, Brain_Cerebellar_Hemisphere, Co...</td>\n",
       "      <td>34</td>\n",
       "      <td>44</td>\n",
       "      <td>44</td>\n",
       "    </tr>\n",
       "    <tr>\n",
       "      <th>ENSG00000001084</th>\n",
       "      <td>GCLC</td>\n",
       "      <td>(Testis, Adipose_Subcutaneous, Lung, Brain_Cer...</td>\n",
       "      <td>32</td>\n",
       "      <td>46</td>\n",
       "      <td>46</td>\n",
       "    </tr>\n",
       "    <tr>\n",
       "      <th>ENSG00000001167</th>\n",
       "      <td>NFYA</td>\n",
       "      <td>(Testis, Esophagus_Mucosa, Adipose_Subcutaneou...</td>\n",
       "      <td>40</td>\n",
       "      <td>47</td>\n",
       "      <td>48</td>\n",
       "    </tr>\n",
       "  </tbody>\n",
       "</table>\n",
       "</div>"
      ],
      "text/plain": [
       "                gene_name                                             tissue  \\\n",
       "gene_id                                                                        \n",
       "ENSG00000000419      DPM1       (Brain_Hypothalamus, Brain_Substantia_nigra)   \n",
       "ENSG00000000938       FGR  (Testis, Esophagus_Mucosa, Adipose_Subcutaneou...   \n",
       "ENSG00000000971       CFH  (Testis, Lung, Brain_Cerebellar_Hemisphere, Co...   \n",
       "ENSG00000001084      GCLC  (Testis, Adipose_Subcutaneous, Lung, Brain_Cer...   \n",
       "ENSG00000001167      NFYA  (Testis, Esophagus_Mucosa, Adipose_Subcutaneou...   \n",
       "\n",
       "                 n_tissues  n_snps_used_sum  n_snps_in_model_sum  \n",
       "gene_id                                                           \n",
       "ENSG00000000419          2                2                    2  \n",
       "ENSG00000000938         36               40                   40  \n",
       "ENSG00000000971         34               44                   44  \n",
       "ENSG00000001084         32               46                   46  \n",
       "ENSG00000001167         40               47                   48  "
      ]
     },
     "execution_count": 17,
     "metadata": {},
     "output_type": "execute_result"
    }
   ],
   "source": [
    "spredixcan_genes_models.head()"
   ]
  },
  {
   "cell_type": "code",
   "execution_count": 18,
   "id": "d1c11bb1-be0b-4f40-b360-633d6827109f",
   "metadata": {
    "execution": {
     "iopub.execute_input": "2022-12-05T17:18:00.246062Z",
     "iopub.status.busy": "2022-12-05T17:18:00.245923Z",
     "iopub.status.idle": "2022-12-05T17:18:00.258236Z",
     "shell.execute_reply": "2022-12-05T17:18:00.257822Z"
    },
    "papermill": {
     "duration": 0.023994,
     "end_time": "2022-12-05T17:18:00.259549",
     "exception": false,
     "start_time": "2022-12-05T17:18:00.235555",
     "status": "completed"
    },
    "tags": []
   },
   "outputs": [],
   "source": [
    "assert spredixcan_genes_models.index.is_unique"
   ]
  },
  {
   "cell_type": "markdown",
   "id": "a5b5092c-a13e-47c4-a92a-480fcc08f3ae",
   "metadata": {
    "papermill": {
     "duration": 0.009374,
     "end_time": "2022-12-05T17:18:00.279161",
     "exception": false,
     "start_time": "2022-12-05T17:18:00.269787",
     "status": "completed"
    },
    "tags": []
   },
   "source": [
    "## Gene info"
   ]
  },
  {
   "cell_type": "code",
   "execution_count": 19,
   "id": "7d6bb224-88e9-4358-ac10-43a41d92cdad",
   "metadata": {
    "execution": {
     "iopub.execute_input": "2022-12-05T17:18:00.298222Z",
     "iopub.status.busy": "2022-12-05T17:18:00.298092Z",
     "iopub.status.idle": "2022-12-05T17:18:00.316210Z",
     "shell.execute_reply": "2022-12-05T17:18:00.315746Z"
    },
    "papermill": {
     "duration": 0.029141,
     "end_time": "2022-12-05T17:18:00.317528",
     "exception": false,
     "start_time": "2022-12-05T17:18:00.288387",
     "status": "completed"
    },
    "tags": []
   },
   "outputs": [],
   "source": [
    "genes_info = pd.read_pickle(OUTPUT_DIR_BASE / \"genes_info.pkl\")"
   ]
  },
  {
   "cell_type": "code",
   "execution_count": 20,
   "id": "9e32abfa-546d-483e-8c18-d526e9e05903",
   "metadata": {
    "execution": {
     "iopub.execute_input": "2022-12-05T17:18:00.337305Z",
     "iopub.status.busy": "2022-12-05T17:18:00.337148Z",
     "iopub.status.idle": "2022-12-05T17:18:00.354295Z",
     "shell.execute_reply": "2022-12-05T17:18:00.353869Z"
    },
    "papermill": {
     "duration": 0.02832,
     "end_time": "2022-12-05T17:18:00.355644",
     "exception": false,
     "start_time": "2022-12-05T17:18:00.327324",
     "status": "completed"
    },
    "tags": []
   },
   "outputs": [
    {
     "data": {
      "text/plain": [
       "(6442, 7)"
      ]
     },
     "execution_count": 20,
     "metadata": {},
     "output_type": "execute_result"
    }
   ],
   "source": [
    "genes_info.shape"
   ]
  },
  {
   "cell_type": "code",
   "execution_count": 21,
   "id": "d16c3e92-85ec-468a-9a56-e25a9774a1cb",
   "metadata": {
    "execution": {
     "iopub.execute_input": "2022-12-05T17:18:00.376279Z",
     "iopub.status.busy": "2022-12-05T17:18:00.376122Z",
     "iopub.status.idle": "2022-12-05T17:18:00.401164Z",
     "shell.execute_reply": "2022-12-05T17:18:00.400630Z"
    },
    "papermill": {
     "duration": 0.036956,
     "end_time": "2022-12-05T17:18:00.402517",
     "exception": false,
     "start_time": "2022-12-05T17:18:00.365561",
     "status": "completed"
    },
    "tags": []
   },
   "outputs": [
    {
     "data": {
      "text/html": [
       "<div>\n",
       "<style scoped>\n",
       "    .dataframe tbody tr th:only-of-type {\n",
       "        vertical-align: middle;\n",
       "    }\n",
       "\n",
       "    .dataframe tbody tr th {\n",
       "        vertical-align: top;\n",
       "    }\n",
       "\n",
       "    .dataframe thead th {\n",
       "        text-align: right;\n",
       "    }\n",
       "</style>\n",
       "<table border=\"1\" class=\"dataframe\">\n",
       "  <thead>\n",
       "    <tr style=\"text-align: right;\">\n",
       "      <th></th>\n",
       "      <th>name</th>\n",
       "      <th>id</th>\n",
       "      <th>chr</th>\n",
       "      <th>band</th>\n",
       "      <th>start_position</th>\n",
       "      <th>end_position</th>\n",
       "      <th>gene_length</th>\n",
       "    </tr>\n",
       "  </thead>\n",
       "  <tbody>\n",
       "    <tr>\n",
       "      <th>0</th>\n",
       "      <td>ASPM</td>\n",
       "      <td>ENSG00000066279</td>\n",
       "      <td>1</td>\n",
       "      <td>1q31.3</td>\n",
       "      <td>197084127</td>\n",
       "      <td>197146694</td>\n",
       "      <td>62567</td>\n",
       "    </tr>\n",
       "    <tr>\n",
       "      <th>1</th>\n",
       "      <td>GPAM</td>\n",
       "      <td>ENSG00000119927</td>\n",
       "      <td>10</td>\n",
       "      <td>10q25.2</td>\n",
       "      <td>112149865</td>\n",
       "      <td>112215377</td>\n",
       "      <td>65512</td>\n",
       "    </tr>\n",
       "    <tr>\n",
       "      <th>2</th>\n",
       "      <td>MAPK7</td>\n",
       "      <td>ENSG00000166484</td>\n",
       "      <td>17</td>\n",
       "      <td>17p11.2</td>\n",
       "      <td>19377721</td>\n",
       "      <td>19383544</td>\n",
       "      <td>5823</td>\n",
       "    </tr>\n",
       "    <tr>\n",
       "      <th>3</th>\n",
       "      <td>SLC3A2</td>\n",
       "      <td>ENSG00000168003</td>\n",
       "      <td>11</td>\n",
       "      <td>11q12.3</td>\n",
       "      <td>62856102</td>\n",
       "      <td>62888875</td>\n",
       "      <td>32773</td>\n",
       "    </tr>\n",
       "    <tr>\n",
       "      <th>4</th>\n",
       "      <td>GINS2</td>\n",
       "      <td>ENSG00000131153</td>\n",
       "      <td>16</td>\n",
       "      <td>16q24.1</td>\n",
       "      <td>85676198</td>\n",
       "      <td>85690073</td>\n",
       "      <td>13875</td>\n",
       "    </tr>\n",
       "  </tbody>\n",
       "</table>\n",
       "</div>"
      ],
      "text/plain": [
       "     name               id  chr     band  start_position  end_position  \\\n",
       "0    ASPM  ENSG00000066279    1   1q31.3       197084127     197146694   \n",
       "1    GPAM  ENSG00000119927   10  10q25.2       112149865     112215377   \n",
       "2   MAPK7  ENSG00000166484   17  17p11.2        19377721      19383544   \n",
       "3  SLC3A2  ENSG00000168003   11  11q12.3        62856102      62888875   \n",
       "4   GINS2  ENSG00000131153   16  16q24.1        85676198      85690073   \n",
       "\n",
       "   gene_length  \n",
       "0        62567  \n",
       "1        65512  \n",
       "2         5823  \n",
       "3        32773  \n",
       "4        13875  "
      ]
     },
     "execution_count": 21,
     "metadata": {},
     "output_type": "execute_result"
    }
   ],
   "source": [
    "genes_info.head()"
   ]
  },
  {
   "cell_type": "markdown",
   "id": "d3843e06",
   "metadata": {
    "papermill": {
     "duration": 0.00962,
     "end_time": "2022-12-05T17:18:00.421857",
     "exception": false,
     "start_time": "2022-12-05T17:18:00.412237",
     "status": "completed"
    },
    "tags": []
   },
   "source": [
    "# Compute correlations"
   ]
  },
  {
   "cell_type": "code",
   "execution_count": 22,
   "id": "cb859c15-d1f3-4006-a74c-2b83c0db9611",
   "metadata": {
    "execution": {
     "iopub.execute_input": "2022-12-05T17:18:00.442332Z",
     "iopub.status.busy": "2022-12-05T17:18:00.442126Z",
     "iopub.status.idle": "2022-12-05T17:18:00.463625Z",
     "shell.execute_reply": "2022-12-05T17:18:00.463143Z"
    },
    "papermill": {
     "duration": 0.033447,
     "end_time": "2022-12-05T17:18:00.464928",
     "exception": false,
     "start_time": "2022-12-05T17:18:00.431481",
     "status": "completed"
    },
    "tags": []
   },
   "outputs": [
    {
     "data": {
      "text/plain": [
       "PosixPath('/opt/data/projects/asthma-copd/results/gls_phenoplier/gene_corrs/aco/by_chr/gene_corrs-chr3.pkl')"
      ]
     },
     "metadata": {},
     "output_type": "display_data"
    }
   ],
   "source": [
    "output_dir = OUTPUT_DIR_BASE / \"by_chr\"\n",
    "output_dir.mkdir(exist_ok=True, parents=True)\n",
    "output_file = output_dir / f\"gene_corrs-chr{CHROMOSOME}.pkl\"\n",
    "display(output_file)"
   ]
  },
  {
   "cell_type": "code",
   "execution_count": 23,
   "id": "aa674fe4-6794-4eed-98fa-32b39d1d4ace",
   "metadata": {
    "execution": {
     "iopub.execute_input": "2022-12-05T17:18:00.485298Z",
     "iopub.status.busy": "2022-12-05T17:18:00.485094Z",
     "iopub.status.idle": "2022-12-05T17:18:00.504806Z",
     "shell.execute_reply": "2022-12-05T17:18:00.504302Z"
    },
    "papermill": {
     "duration": 0.031416,
     "end_time": "2022-12-05T17:18:00.506172",
     "exception": false,
     "start_time": "2022-12-05T17:18:00.474756",
     "status": "completed"
    },
    "tags": []
   },
   "outputs": [],
   "source": [
    "warnings.filterwarnings(\"error\")"
   ]
  },
  {
   "cell_type": "code",
   "execution_count": 24,
   "id": "44d5450b-3baf-43f1-9e2e-4b06f1a785f8",
   "metadata": {
    "execution": {
     "iopub.execute_input": "2022-12-05T17:18:00.527176Z",
     "iopub.status.busy": "2022-12-05T17:18:00.526697Z",
     "iopub.status.idle": "2022-12-05T17:18:00.547328Z",
     "shell.execute_reply": "2022-12-05T17:18:00.546824Z"
    },
    "papermill": {
     "duration": 0.032346,
     "end_time": "2022-12-05T17:18:00.548723",
     "exception": false,
     "start_time": "2022-12-05T17:18:00.516377",
     "status": "completed"
    },
    "tags": []
   },
   "outputs": [],
   "source": [
    "# standard checks\n",
    "all_chrs = genes_info[\"chr\"].dropna().unique()\n",
    "assert all_chrs.shape[0] == 22\n",
    "\n",
    "# select chromosome given by the user\n",
    "assert CHROMOSOME in all_chrs"
   ]
  },
  {
   "cell_type": "code",
   "execution_count": 25,
   "id": "2d7c043c-92a7-4d35-991b-fa69ac1e0268",
   "metadata": {
    "execution": {
     "iopub.execute_input": "2022-12-05T17:18:00.569451Z",
     "iopub.status.busy": "2022-12-05T17:18:00.569248Z",
     "iopub.status.idle": "2022-12-05T17:18:00.591135Z",
     "shell.execute_reply": "2022-12-05T17:18:00.590624Z"
    },
    "papermill": {
     "duration": 0.033708,
     "end_time": "2022-12-05T17:18:00.592490",
     "exception": false,
     "start_time": "2022-12-05T17:18:00.558782",
     "status": "completed"
    },
    "tags": []
   },
   "outputs": [
    {
     "name": "stdout",
     "output_type": "stream",
     "text": [
      "Number of genes in chromosome: 393\n"
     ]
    }
   ],
   "source": [
    "# run only on the chromosome specified\n",
    "all_chrs = [CHROMOSOME]\n",
    "genes_chr = genes_info[genes_info[\"chr\"] == CHROMOSOME]\n",
    "\n",
    "# For testing purposes\n",
    "# genes_chr = genes_chr.sample(n=20)\n",
    "\n",
    "print(f\"Number of genes in chromosome: {genes_chr.shape[0]}\", flush=True)"
   ]
  },
  {
   "cell_type": "code",
   "execution_count": 26,
   "id": "916015d8-2979-46d3-a9b9-1cf5a0932c6a",
   "metadata": {
    "execution": {
     "iopub.execute_input": "2022-12-05T17:18:00.613745Z",
     "iopub.status.busy": "2022-12-05T17:18:00.613404Z",
     "iopub.status.idle": "2022-12-05T17:18:00.634013Z",
     "shell.execute_reply": "2022-12-05T17:18:00.633498Z"
    },
    "papermill": {
     "duration": 0.032558,
     "end_time": "2022-12-05T17:18:00.635366",
     "exception": false,
     "start_time": "2022-12-05T17:18:00.602808",
     "status": "completed"
    },
    "tags": []
   },
   "outputs": [],
   "source": [
    "# sort genes by starting position to make visualizations better later\n",
    "genes_chr = genes_chr.sort_values(\"start_position\")"
   ]
  },
  {
   "cell_type": "code",
   "execution_count": 27,
   "id": "a38aa74a-8ad3-47f6-8ef9-56be0e011774",
   "metadata": {
    "execution": {
     "iopub.execute_input": "2022-12-05T17:18:00.656532Z",
     "iopub.status.busy": "2022-12-05T17:18:00.656191Z",
     "iopub.status.idle": "2022-12-05T17:18:00.676849Z",
     "shell.execute_reply": "2022-12-05T17:18:00.676336Z"
    },
    "papermill": {
     "duration": 0.032874,
     "end_time": "2022-12-05T17:18:00.678197",
     "exception": false,
     "start_time": "2022-12-05T17:18:00.645323",
     "status": "completed"
    },
    "tags": []
   },
   "outputs": [],
   "source": [
    "gene_chr_objs = [Gene(ensembl_id=gene_id) for gene_id in genes_chr[\"id\"]]"
   ]
  },
  {
   "cell_type": "code",
   "execution_count": 28,
   "id": "570f974f-13c3-42b6-ad3a-ce99ca885c1a",
   "metadata": {
    "execution": {
     "iopub.execute_input": "2022-12-05T17:18:00.699163Z",
     "iopub.status.busy": "2022-12-05T17:18:00.698723Z",
     "iopub.status.idle": "2022-12-05T17:18:00.719360Z",
     "shell.execute_reply": "2022-12-05T17:18:00.718859Z"
    },
    "papermill": {
     "duration": 0.032558,
     "end_time": "2022-12-05T17:18:00.720723",
     "exception": false,
     "start_time": "2022-12-05T17:18:00.688165",
     "status": "completed"
    },
    "tags": []
   },
   "outputs": [
    {
     "name": "stdout",
     "output_type": "stream",
     "text": [
      "Number of gene combinations: 77421\n"
     ]
    }
   ],
   "source": [
    "n = len(gene_chr_objs)\n",
    "# diagonal elements + upper triangular matrix\n",
    "n_comb = n + int(n * (n - 1) / 2.0)\n",
    "print(f\"Number of gene combinations: {n_comb}\", flush=True)"
   ]
  },
  {
   "cell_type": "code",
   "execution_count": 29,
   "id": "cdbb90a1",
   "metadata": {
    "execution": {
     "iopub.execute_input": "2022-12-05T17:18:00.742411Z",
     "iopub.status.busy": "2022-12-05T17:18:00.742020Z",
     "iopub.status.idle": "2022-12-05T17:24:11.899070Z",
     "shell.execute_reply": "2022-12-05T17:24:11.898387Z"
    },
    "papermill": {
     "duration": 371.169602,
     "end_time": "2022-12-05T17:24:11.900811",
     "exception": false,
     "start_time": "2022-12-05T17:18:00.731209",
     "status": "completed"
    },
    "tags": []
   },
   "outputs": [
    {
     "name": "stderr",
     "output_type": "stream",
     "text": [
      "ENSG00000182899 / ENSG00000182899: 100%|█████████████████████| 77421/77421 [06:11<00:00, 208.62it/s]\n"
     ]
    },
    {
     "data": {
      "text/plain": [
       "PosixPath('/opt/data/projects/asthma-copd/results/gls_phenoplier/gene_corrs/aco/by_chr/gene_corrs-chr3.pkl')"
      ]
     },
     "metadata": {},
     "output_type": "display_data"
    }
   ],
   "source": [
    "gene_corrs = []\n",
    "gene_corrs_data = np.full(\n",
    "    (n, n),\n",
    "    np.nan,\n",
    "    dtype=np.float64,\n",
    ")\n",
    "\n",
    "i = 0\n",
    "with tqdm(ncols=100, total=n_comb) as pbar:\n",
    "    for gene1_idx in range(0, len(gene_chr_objs)):\n",
    "        gene1_obj = gene_chr_objs[gene1_idx]\n",
    "        gene1_tissues = spredixcan_genes_models.loc[gene1_obj.ensembl_id, \"tissue\"]\n",
    "\n",
    "        for gene2_idx in range(gene1_idx, len(gene_chr_objs)):\n",
    "            gene2_obj = gene_chr_objs[gene2_idx]\n",
    "            gene2_tissues = spredixcan_genes_models.loc[gene2_obj.ensembl_id, \"tissue\"]\n",
    "\n",
    "            pbar.set_description(f\"{gene1_obj.ensembl_id} / {gene2_obj.ensembl_id}\")\n",
    "\n",
    "            try:\n",
    "                r = gene1_obj.get_ssm_correlation(\n",
    "                    other_gene=gene2_obj,\n",
    "                    tissues=gene1_tissues,\n",
    "                    other_tissues=gene2_tissues,\n",
    "                    snps_subset=gwas_variants_ids_set,\n",
    "                    condition_number=SMULTIXCAN_CONDITION_NUMBER,\n",
    "                    reference_panel=REFERENCE_PANEL,\n",
    "                    model_type=EQTL_MODEL,\n",
    "                    use_within_distance=COMPUTE_CORRELATIONS_WITHIN_DISTANCE,\n",
    "                )\n",
    "\n",
    "                if r is None:\n",
    "                    # if r is None, it's very likely because:\n",
    "                    #  * one of the genes has no prediction models\n",
    "                    #  * all the SNPs predictors for the gene are not present in the reference\n",
    "                    #    panel\n",
    "\n",
    "                    r = 0.0\n",
    "\n",
    "                gene_corrs.append(r)\n",
    "\n",
    "                gene_corrs_data[gene1_idx, gene2_idx] = r\n",
    "                gene_corrs_data[gene2_idx, gene1_idx] = r\n",
    "            except Warning as e:\n",
    "                if not DEBUG_MODE:\n",
    "                    raise e\n",
    "\n",
    "                print(\n",
    "                    f\"RuntimeWarning for genes {gene1_obj.ensembl_id} and {gene2_obj.ensembl_id}\",\n",
    "                    flush=True,\n",
    "                )\n",
    "                print(traceback.format_exc(), flush=True)\n",
    "\n",
    "                gene_corrs.append(np.nan)\n",
    "            except Exception as e:\n",
    "                if not DEBUG_MODE:\n",
    "                    raise e\n",
    "\n",
    "                print(\n",
    "                    f\"Exception for genes {gene1_obj.ensembl_id} and {gene2_obj.ensembl_id}\",\n",
    "                    flush=True,\n",
    "                )\n",
    "                print(traceback.format_exc(), flush=True)\n",
    "\n",
    "                gene_corrs.append(np.nan)\n",
    "\n",
    "            pbar.update(1)\n",
    "\n",
    "# create a pandas series\n",
    "gene_corrs_flat = pd.Series(gene_corrs)\n",
    "\n",
    "# save\n",
    "# FIXME: consider saving only the condenced matrix here. See here for\n",
    "# more details: https://github.com/greenelab/phenoplier/pull/38#discussion_r634600813\n",
    "# gene_corrs_data = squareform(np.array(gene_corrs, dtype=np.float64))\n",
    "# np.fill_diagonal(gene_corrs_data, 1.0)\n",
    "\n",
    "gene_chr_ids = [g.ensembl_id for g in gene_chr_objs]\n",
    "gene_corrs_df = pd.DataFrame(\n",
    "    data=gene_corrs_data,\n",
    "    index=gene_chr_ids,\n",
    "    columns=gene_chr_ids,\n",
    ")\n",
    "\n",
    "output_dir.mkdir(exist_ok=True, parents=True)\n",
    "display(output_file)\n",
    "\n",
    "gene_corrs_df.to_pickle(output_file)"
   ]
  },
  {
   "cell_type": "markdown",
   "id": "faa67b51-5373-470f-aa72-2ded53fa6dfe",
   "metadata": {
    "papermill": {
     "duration": 2.533042,
     "end_time": "2022-12-05T17:24:17.068644",
     "exception": false,
     "start_time": "2022-12-05T17:24:14.535602",
     "status": "completed"
    },
    "tags": []
   },
   "source": [
    "# Testing"
   ]
  },
  {
   "cell_type": "code",
   "execution_count": 30,
   "id": "14f7d046-4b55-4896-a56b-990127bcc388",
   "metadata": {
    "execution": {
     "iopub.execute_input": "2022-12-05T17:24:22.085661Z",
     "iopub.status.busy": "2022-12-05T17:24:22.085225Z",
     "iopub.status.idle": "2022-12-05T17:24:22.105535Z",
     "shell.execute_reply": "2022-12-05T17:24:22.104988Z"
    },
    "papermill": {
     "duration": 2.506521,
     "end_time": "2022-12-05T17:24:22.106378",
     "exception": false,
     "start_time": "2022-12-05T17:24:19.599857",
     "status": "completed"
    },
    "tags": []
   },
   "outputs": [
    {
     "data": {
      "text/plain": [
       "(393, 393)"
      ]
     },
     "execution_count": 30,
     "metadata": {},
     "output_type": "execute_result"
    }
   ],
   "source": [
    "gene_corrs_df.shape"
   ]
  },
  {
   "cell_type": "code",
   "execution_count": 31,
   "id": "c7d15414-3297-4537-a7c6-7588c0baeb75",
   "metadata": {
    "execution": {
     "iopub.execute_input": "2022-12-05T17:24:26.785477Z",
     "iopub.status.busy": "2022-12-05T17:24:26.784608Z",
     "iopub.status.idle": "2022-12-05T17:24:26.828206Z",
     "shell.execute_reply": "2022-12-05T17:24:26.827574Z"
    },
    "papermill": {
     "duration": 2.427364,
     "end_time": "2022-12-05T17:24:26.829153",
     "exception": false,
     "start_time": "2022-12-05T17:24:24.401789",
     "status": "completed"
    },
    "tags": []
   },
   "outputs": [
    {
     "data": {
      "text/html": [
       "<div>\n",
       "<style scoped>\n",
       "    .dataframe tbody tr th:only-of-type {\n",
       "        vertical-align: middle;\n",
       "    }\n",
       "\n",
       "    .dataframe tbody tr th {\n",
       "        vertical-align: top;\n",
       "    }\n",
       "\n",
       "    .dataframe thead th {\n",
       "        text-align: right;\n",
       "    }\n",
       "</style>\n",
       "<table border=\"1\" class=\"dataframe\">\n",
       "  <thead>\n",
       "    <tr style=\"text-align: right;\">\n",
       "      <th></th>\n",
       "      <th>ENSG00000134121</th>\n",
       "      <th>ENSG00000091181</th>\n",
       "      <th>ENSG00000144455</th>\n",
       "      <th>ENSG00000170364</th>\n",
       "      <th>ENSG00000150995</th>\n",
       "      <th>ENSG00000134107</th>\n",
       "      <th>ENSG00000134109</th>\n",
       "      <th>ENSG00000180914</th>\n",
       "      <th>ENSG00000196220</th>\n",
       "      <th>ENSG00000163719</th>\n",
       "      <th>...</th>\n",
       "      <th>ENSG00000061938</th>\n",
       "      <th>ENSG00000072274</th>\n",
       "      <th>ENSG00000161217</th>\n",
       "      <th>ENSG00000174013</th>\n",
       "      <th>ENSG00000163964</th>\n",
       "      <th>ENSG00000180370</th>\n",
       "      <th>ENSG00000114503</th>\n",
       "      <th>ENSG00000075711</th>\n",
       "      <th>ENSG00000161267</th>\n",
       "      <th>ENSG00000182899</th>\n",
       "    </tr>\n",
       "  </thead>\n",
       "  <tbody>\n",
       "    <tr>\n",
       "      <th>ENSG00000134121</th>\n",
       "      <td>1.000000</td>\n",
       "      <td>0.009219</td>\n",
       "      <td>0.005425</td>\n",
       "      <td>0.008712</td>\n",
       "      <td>0.014601</td>\n",
       "      <td>0.012164</td>\n",
       "      <td>0.011181</td>\n",
       "      <td>0.000000</td>\n",
       "      <td>0.000000</td>\n",
       "      <td>0.000000</td>\n",
       "      <td>...</td>\n",
       "      <td>0.0</td>\n",
       "      <td>0.0</td>\n",
       "      <td>0.0</td>\n",
       "      <td>0.0</td>\n",
       "      <td>0.0</td>\n",
       "      <td>0.0</td>\n",
       "      <td>0.0</td>\n",
       "      <td>0.0</td>\n",
       "      <td>0.0</td>\n",
       "      <td>0.0</td>\n",
       "    </tr>\n",
       "    <tr>\n",
       "      <th>ENSG00000091181</th>\n",
       "      <td>0.009219</td>\n",
       "      <td>1.000000</td>\n",
       "      <td>0.007989</td>\n",
       "      <td>0.008589</td>\n",
       "      <td>0.010344</td>\n",
       "      <td>0.007029</td>\n",
       "      <td>0.006443</td>\n",
       "      <td>0.000000</td>\n",
       "      <td>0.000000</td>\n",
       "      <td>0.000000</td>\n",
       "      <td>...</td>\n",
       "      <td>0.0</td>\n",
       "      <td>0.0</td>\n",
       "      <td>0.0</td>\n",
       "      <td>0.0</td>\n",
       "      <td>0.0</td>\n",
       "      <td>0.0</td>\n",
       "      <td>0.0</td>\n",
       "      <td>0.0</td>\n",
       "      <td>0.0</td>\n",
       "      <td>0.0</td>\n",
       "    </tr>\n",
       "    <tr>\n",
       "      <th>ENSG00000144455</th>\n",
       "      <td>0.005425</td>\n",
       "      <td>0.007989</td>\n",
       "      <td>1.000000</td>\n",
       "      <td>0.132198</td>\n",
       "      <td>0.253037</td>\n",
       "      <td>0.009347</td>\n",
       "      <td>0.005872</td>\n",
       "      <td>0.005822</td>\n",
       "      <td>0.003135</td>\n",
       "      <td>0.000000</td>\n",
       "      <td>...</td>\n",
       "      <td>0.0</td>\n",
       "      <td>0.0</td>\n",
       "      <td>0.0</td>\n",
       "      <td>0.0</td>\n",
       "      <td>0.0</td>\n",
       "      <td>0.0</td>\n",
       "      <td>0.0</td>\n",
       "      <td>0.0</td>\n",
       "      <td>0.0</td>\n",
       "      <td>0.0</td>\n",
       "    </tr>\n",
       "    <tr>\n",
       "      <th>ENSG00000170364</th>\n",
       "      <td>0.008712</td>\n",
       "      <td>0.008589</td>\n",
       "      <td>0.132198</td>\n",
       "      <td>1.000000</td>\n",
       "      <td>0.021178</td>\n",
       "      <td>0.006984</td>\n",
       "      <td>0.009413</td>\n",
       "      <td>0.013113</td>\n",
       "      <td>0.007720</td>\n",
       "      <td>0.000000</td>\n",
       "      <td>...</td>\n",
       "      <td>0.0</td>\n",
       "      <td>0.0</td>\n",
       "      <td>0.0</td>\n",
       "      <td>0.0</td>\n",
       "      <td>0.0</td>\n",
       "      <td>0.0</td>\n",
       "      <td>0.0</td>\n",
       "      <td>0.0</td>\n",
       "      <td>0.0</td>\n",
       "      <td>0.0</td>\n",
       "    </tr>\n",
       "    <tr>\n",
       "      <th>ENSG00000150995</th>\n",
       "      <td>0.014601</td>\n",
       "      <td>0.010344</td>\n",
       "      <td>0.253037</td>\n",
       "      <td>0.021178</td>\n",
       "      <td>1.000000</td>\n",
       "      <td>0.054534</td>\n",
       "      <td>0.010422</td>\n",
       "      <td>0.007584</td>\n",
       "      <td>0.002590</td>\n",
       "      <td>0.001889</td>\n",
       "      <td>...</td>\n",
       "      <td>0.0</td>\n",
       "      <td>0.0</td>\n",
       "      <td>0.0</td>\n",
       "      <td>0.0</td>\n",
       "      <td>0.0</td>\n",
       "      <td>0.0</td>\n",
       "      <td>0.0</td>\n",
       "      <td>0.0</td>\n",
       "      <td>0.0</td>\n",
       "      <td>0.0</td>\n",
       "    </tr>\n",
       "  </tbody>\n",
       "</table>\n",
       "<p>5 rows × 393 columns</p>\n",
       "</div>"
      ],
      "text/plain": [
       "                 ENSG00000134121  ENSG00000091181  ENSG00000144455  \\\n",
       "ENSG00000134121         1.000000         0.009219         0.005425   \n",
       "ENSG00000091181         0.009219         1.000000         0.007989   \n",
       "ENSG00000144455         0.005425         0.007989         1.000000   \n",
       "ENSG00000170364         0.008712         0.008589         0.132198   \n",
       "ENSG00000150995         0.014601         0.010344         0.253037   \n",
       "\n",
       "                 ENSG00000170364  ENSG00000150995  ENSG00000134107  \\\n",
       "ENSG00000134121         0.008712         0.014601         0.012164   \n",
       "ENSG00000091181         0.008589         0.010344         0.007029   \n",
       "ENSG00000144455         0.132198         0.253037         0.009347   \n",
       "ENSG00000170364         1.000000         0.021178         0.006984   \n",
       "ENSG00000150995         0.021178         1.000000         0.054534   \n",
       "\n",
       "                 ENSG00000134109  ENSG00000180914  ENSG00000196220  \\\n",
       "ENSG00000134121         0.011181         0.000000         0.000000   \n",
       "ENSG00000091181         0.006443         0.000000         0.000000   \n",
       "ENSG00000144455         0.005872         0.005822         0.003135   \n",
       "ENSG00000170364         0.009413         0.013113         0.007720   \n",
       "ENSG00000150995         0.010422         0.007584         0.002590   \n",
       "\n",
       "                 ENSG00000163719  ...  ENSG00000061938  ENSG00000072274  \\\n",
       "ENSG00000134121         0.000000  ...              0.0              0.0   \n",
       "ENSG00000091181         0.000000  ...              0.0              0.0   \n",
       "ENSG00000144455         0.000000  ...              0.0              0.0   \n",
       "ENSG00000170364         0.000000  ...              0.0              0.0   \n",
       "ENSG00000150995         0.001889  ...              0.0              0.0   \n",
       "\n",
       "                 ENSG00000161217  ENSG00000174013  ENSG00000163964  \\\n",
       "ENSG00000134121              0.0              0.0              0.0   \n",
       "ENSG00000091181              0.0              0.0              0.0   \n",
       "ENSG00000144455              0.0              0.0              0.0   \n",
       "ENSG00000170364              0.0              0.0              0.0   \n",
       "ENSG00000150995              0.0              0.0              0.0   \n",
       "\n",
       "                 ENSG00000180370  ENSG00000114503  ENSG00000075711  \\\n",
       "ENSG00000134121              0.0              0.0              0.0   \n",
       "ENSG00000091181              0.0              0.0              0.0   \n",
       "ENSG00000144455              0.0              0.0              0.0   \n",
       "ENSG00000170364              0.0              0.0              0.0   \n",
       "ENSG00000150995              0.0              0.0              0.0   \n",
       "\n",
       "                 ENSG00000161267  ENSG00000182899  \n",
       "ENSG00000134121              0.0              0.0  \n",
       "ENSG00000091181              0.0              0.0  \n",
       "ENSG00000144455              0.0              0.0  \n",
       "ENSG00000170364              0.0              0.0  \n",
       "ENSG00000150995              0.0              0.0  \n",
       "\n",
       "[5 rows x 393 columns]"
      ]
     },
     "execution_count": 31,
     "metadata": {},
     "output_type": "execute_result"
    }
   ],
   "source": [
    "gene_corrs_df.head()"
   ]
  },
  {
   "cell_type": "markdown",
   "id": "dad6603f-01c6-41fb-a6f6-241051207dd8",
   "metadata": {
    "papermill": {
     "duration": 2.425463,
     "end_time": "2022-12-05T17:24:31.575415",
     "exception": false,
     "start_time": "2022-12-05T17:24:29.149952",
     "status": "completed"
    },
    "tags": []
   },
   "source": [
    "## Standard checks and stats"
   ]
  },
  {
   "cell_type": "code",
   "execution_count": 32,
   "id": "286686af-1b7b-4440-8453-6bdcbd8de19c",
   "metadata": {
    "execution": {
     "iopub.execute_input": "2022-12-05T17:24:36.233446Z",
     "iopub.status.busy": "2022-12-05T17:24:36.233111Z",
     "iopub.status.idle": "2022-12-05T17:24:36.251885Z",
     "shell.execute_reply": "2022-12-05T17:24:36.251305Z"
    },
    "papermill": {
     "duration": 2.30974,
     "end_time": "2022-12-05T17:24:36.252886",
     "exception": false,
     "start_time": "2022-12-05T17:24:33.943146",
     "status": "completed"
    },
    "tags": []
   },
   "outputs": [],
   "source": [
    "assert not gene_corrs_df.isna().any(axis=None)"
   ]
  },
  {
   "cell_type": "code",
   "execution_count": 33,
   "id": "00583efc-7068-4270-ad1e-4a418e91db96",
   "metadata": {
    "execution": {
     "iopub.execute_input": "2022-12-05T17:24:40.994939Z",
     "iopub.status.busy": "2022-12-05T17:24:40.994239Z",
     "iopub.status.idle": "2022-12-05T17:24:41.019469Z",
     "shell.execute_reply": "2022-12-05T17:24:41.018852Z"
    },
    "papermill": {
     "duration": 2.36794,
     "end_time": "2022-12-05T17:24:41.020418",
     "exception": false,
     "start_time": "2022-12-05T17:24:38.652478",
     "status": "completed"
    },
    "tags": []
   },
   "outputs": [
    {
     "data": {
      "text/plain": [
       "0.0"
      ]
     },
     "metadata": {},
     "output_type": "display_data"
    }
   ],
   "source": [
    "_min_val = gene_corrs_df.min().min()\n",
    "display(_min_val)\n",
    "assert _min_val >= -0.05"
   ]
  },
  {
   "cell_type": "code",
   "execution_count": 34,
   "id": "d04fb2cf-1050-475b-b855-f5f7cc04092b",
   "metadata": {
    "execution": {
     "iopub.execute_input": "2022-12-05T17:24:45.830059Z",
     "iopub.status.busy": "2022-12-05T17:24:45.829832Z",
     "iopub.status.idle": "2022-12-05T17:24:45.845472Z",
     "shell.execute_reply": "2022-12-05T17:24:45.844992Z"
    },
    "papermill": {
     "duration": 2.374331,
     "end_time": "2022-12-05T17:24:45.846654",
     "exception": false,
     "start_time": "2022-12-05T17:24:43.472323",
     "status": "completed"
    },
    "tags": []
   },
   "outputs": [
    {
     "data": {
      "text/plain": [
       "1.0000000000000033"
      ]
     },
     "metadata": {},
     "output_type": "display_data"
    }
   ],
   "source": [
    "_max_val = gene_corrs_df.max().max()  # this captures the diagonal\n",
    "display(_max_val)\n",
    "assert _max_val <= 1.05"
   ]
  },
  {
   "cell_type": "code",
   "execution_count": 35,
   "id": "fe283586-c348-40e0-8841-f6d97bfb021c",
   "metadata": {
    "execution": {
     "iopub.execute_input": "2022-12-05T17:24:50.531834Z",
     "iopub.status.busy": "2022-12-05T17:24:50.531613Z",
     "iopub.status.idle": "2022-12-05T17:24:50.549378Z",
     "shell.execute_reply": "2022-12-05T17:24:50.548884Z"
    },
    "papermill": {
     "duration": 2.421016,
     "end_time": "2022-12-05T17:24:50.550364",
     "exception": false,
     "start_time": "2022-12-05T17:24:48.129348",
     "status": "completed"
    },
    "tags": []
   },
   "outputs": [
    {
     "data": {
      "text/plain": [
       "count    77421.000000\n",
       "mean         0.007992\n",
       "std          0.076416\n",
       "min          0.000000\n",
       "25%          0.000000\n",
       "50%          0.000000\n",
       "75%          0.000000\n",
       "max          1.000000\n",
       "dtype: float64"
      ]
     },
     "execution_count": 35,
     "metadata": {},
     "output_type": "execute_result"
    }
   ],
   "source": [
    "gene_corrs_flat.describe()"
   ]
  },
  {
   "cell_type": "code",
   "execution_count": 36,
   "id": "b3815678-0f93-4b35-897b-a9d047a2aa78",
   "metadata": {
    "execution": {
     "iopub.execute_input": "2022-12-05T17:24:55.414573Z",
     "iopub.status.busy": "2022-12-05T17:24:55.414238Z",
     "iopub.status.idle": "2022-12-05T17:24:55.442869Z",
     "shell.execute_reply": "2022-12-05T17:24:55.442309Z"
    },
    "papermill": {
     "duration": 2.444797,
     "end_time": "2022-12-05T17:24:55.444321",
     "exception": false,
     "start_time": "2022-12-05T17:24:52.999524",
     "status": "completed"
    },
    "tags": []
   },
   "outputs": [
    {
     "data": {
      "text/plain": [
       "0.00    0.000000\n",
       "0.05    0.000000\n",
       "0.10    0.000000\n",
       "0.15    0.000000\n",
       "0.20    0.000000\n",
       "0.25    0.000000\n",
       "0.30    0.000000\n",
       "0.35    0.000000\n",
       "0.40    0.000000\n",
       "0.45    0.000000\n",
       "0.50    0.000000\n",
       "0.55    0.000000\n",
       "0.60    0.000000\n",
       "0.65    0.000000\n",
       "0.70    0.000000\n",
       "0.75    0.000000\n",
       "0.80    0.000000\n",
       "0.85    0.000000\n",
       "0.90    0.000000\n",
       "0.95    0.007424\n",
       "dtype: float64"
      ]
     },
     "metadata": {},
     "output_type": "display_data"
    }
   ],
   "source": [
    "gene_corrs_quantiles = gene_corrs_flat.quantile(np.arange(0, 1, 0.05))\n",
    "display(gene_corrs_quantiles)"
   ]
  },
  {
   "cell_type": "markdown",
   "id": "87134509-b145-4a10-8bc9-b7e914c2b0fa",
   "metadata": {
    "papermill": {
     "duration": 2.39981,
     "end_time": "2022-12-05T17:25:00.210009",
     "exception": false,
     "start_time": "2022-12-05T17:24:57.810199",
     "status": "completed"
    },
    "tags": []
   },
   "source": [
    "## Positive definiteness"
   ]
  },
  {
   "cell_type": "code",
   "execution_count": 37,
   "id": "07d9a9a1-a4f7-48aa-b916-6d42a8cc6186",
   "metadata": {
    "execution": {
     "iopub.execute_input": "2022-12-05T17:25:04.923928Z",
     "iopub.status.busy": "2022-12-05T17:25:04.923136Z",
     "iopub.status.idle": "2022-12-05T17:25:04.985749Z",
     "shell.execute_reply": "2022-12-05T17:25:04.985241Z"
    },
    "papermill": {
     "duration": 2.464159,
     "end_time": "2022-12-05T17:25:04.986669",
     "exception": false,
     "start_time": "2022-12-05T17:25:02.522510",
     "status": "completed"
    },
    "tags": []
   },
   "outputs": [
    {
     "data": {
      "text/plain": [
       "0"
      ]
     },
     "metadata": {},
     "output_type": "display_data"
    },
    {
     "data": {
      "text/plain": [
       "array([], dtype=float64)"
      ]
     },
     "metadata": {},
     "output_type": "display_data"
    }
   ],
   "source": [
    "# print negative eigenvalues\n",
    "eigs = np.linalg.eigvals(gene_corrs_df.to_numpy())\n",
    "display(len(eigs[eigs < 0]))\n",
    "display(eigs[eigs < 0])"
   ]
  },
  {
   "cell_type": "code",
   "execution_count": 38,
   "id": "6e218436-c3c5-4028-8c94-a4fa6260efce",
   "metadata": {
    "execution": {
     "iopub.execute_input": "2022-12-05T17:25:09.907194Z",
     "iopub.status.busy": "2022-12-05T17:25:09.906781Z",
     "iopub.status.idle": "2022-12-05T17:25:09.938244Z",
     "shell.execute_reply": "2022-12-05T17:25:09.937650Z"
    },
    "papermill": {
     "duration": 2.577619,
     "end_time": "2022-12-05T17:25:09.939083",
     "exception": false,
     "start_time": "2022-12-05T17:25:07.361464",
     "status": "completed"
    },
    "tags": []
   },
   "outputs": [
    {
     "name": "stdout",
     "output_type": "stream",
     "text": [
      "Works!\n"
     ]
    }
   ],
   "source": [
    "try:\n",
    "    chol_mat = np.linalg.cholesky(gene_corrs_df.to_numpy())\n",
    "    cov_inv = np.linalg.inv(chol_mat)\n",
    "    print(\"Works!\")\n",
    "except Exception as e:\n",
    "    print(f\"Cholesky decomposition failed: {str(e)}\")"
   ]
  },
  {
   "cell_type": "code",
   "execution_count": 39,
   "id": "dd8827fb-faf9-4c7c-9454-015e94752706",
   "metadata": {
    "execution": {
     "iopub.execute_input": "2022-12-05T17:25:14.694568Z",
     "iopub.status.busy": "2022-12-05T17:25:14.694067Z",
     "iopub.status.idle": "2022-12-05T17:25:14.731786Z",
     "shell.execute_reply": "2022-12-05T17:25:14.731161Z"
    },
    "papermill": {
     "duration": 2.430507,
     "end_time": "2022-12-05T17:25:14.732737",
     "exception": false,
     "start_time": "2022-12-05T17:25:12.302230",
     "status": "completed"
    },
    "tags": []
   },
   "outputs": [
    {
     "name": "stdout",
     "output_type": "stream",
     "text": [
      "Works!\n"
     ]
    }
   ],
   "source": [
    "try:\n",
    "    # decomposition used by statsmodels.GLS\n",
    "    cholsigmainv = np.linalg.cholesky(np.linalg.inv(gene_corrs_df.to_numpy())).T\n",
    "    print(\"Works!\")\n",
    "except Exception as e:\n",
    "    print(f\"Cholesky decomposition failed (statsmodels.GLS): {str(e)}\")"
   ]
  },
  {
   "cell_type": "markdown",
   "id": "8e60a080-edb2-4e9c-b2ef-22961693200c",
   "metadata": {
    "papermill": {
     "duration": 2.377826,
     "end_time": "2022-12-05T17:25:19.419371",
     "exception": false,
     "start_time": "2022-12-05T17:25:17.041545",
     "status": "completed"
    },
    "tags": []
   },
   "source": [
    "## Plot: distribution"
   ]
  },
  {
   "cell_type": "code",
   "execution_count": 40,
   "id": "8301126b-a7d4-4744-9c7d-f0f86eb6f54c",
   "metadata": {
    "execution": {
     "iopub.execute_input": "2022-12-05T17:25:24.144706Z",
     "iopub.status.busy": "2022-12-05T17:25:24.144199Z",
     "iopub.status.idle": "2022-12-05T17:25:24.638915Z",
     "shell.execute_reply": "2022-12-05T17:25:24.638391Z"
    },
    "papermill": {
     "duration": 2.885649,
     "end_time": "2022-12-05T17:25:24.640085",
     "exception": false,
     "start_time": "2022-12-05T17:25:21.754436",
     "status": "completed"
    },
    "tags": []
   },
   "outputs": [
    {
     "data": {
      "image/png": "[encoded data removed]",
      "text/plain": [
       "<Figure size 700x700 with 1 Axes>"
      ]
     },
     "metadata": {},
     "output_type": "display_data"
    }
   ],
   "source": [
    "with sns.plotting_context(\"paper\", font_scale=1.5):\n",
    "    g = sns.displot(gene_corrs_flat, kde=True, height=7)\n",
    "    g.ax.set_title(\n",
    "        f\"Distribution of gene correlation values in chromosome {CHROMOSOME}\"\n",
    "    )"
   ]
  },
  {
   "cell_type": "markdown",
   "id": "cbd52bca-d878-4a2f-b684-5c83aa3038d4",
   "metadata": {
    "papermill": {
     "duration": 2.421034,
     "end_time": "2022-12-05T17:25:29.465029",
     "exception": false,
     "start_time": "2022-12-05T17:25:27.043995",
     "status": "completed"
    },
    "tags": []
   },
   "source": [
    "## Plot: heatmap"
   ]
  },
  {
   "cell_type": "code",
   "execution_count": 41,
   "id": "d03fe63a-c7b2-4fb9-a53c-db362ce843c9",
   "metadata": {
    "execution": {
     "iopub.execute_input": "2022-12-05T17:25:34.224776Z",
     "iopub.status.busy": "2022-12-05T17:25:34.223852Z",
     "iopub.status.idle": "2022-12-05T17:25:34.241332Z",
     "shell.execute_reply": "2022-12-05T17:25:34.240730Z"
    },
    "papermill": {
     "duration": 2.441931,
     "end_time": "2022-12-05T17:25:34.242199",
     "exception": false,
     "start_time": "2022-12-05T17:25:31.800268",
     "status": "completed"
    },
    "tags": []
   },
   "outputs": [
    {
     "data": {
      "text/plain": [
       "'0.0 / 0.05'"
      ]
     },
     "metadata": {},
     "output_type": "display_data"
    }
   ],
   "source": [
    "vmin_val = min(0.00, gene_corrs_quantiles[0.10])\n",
    "vmax_val = max(0.05, gene_corrs_quantiles[0.90])\n",
    "display(f\"{vmin_val} / {vmax_val}\")"
   ]
  },
  {
   "cell_type": "code",
   "execution_count": 42,
   "id": "dc41b70b-5bcc-4d9e-9f33-a22c4a94dab5",
   "metadata": {
    "execution": {
     "iopub.execute_input": "2022-12-05T17:25:38.955862Z",
     "iopub.status.busy": "2022-12-05T17:25:38.955387Z",
     "iopub.status.idle": "2022-12-05T17:25:39.255268Z",
     "shell.execute_reply": "2022-12-05T17:25:39.254820Z"
    },
    "papermill": {
     "duration": 2.639892,
     "end_time": "2022-12-05T17:25:39.257879",
     "exception": false,
     "start_time": "2022-12-05T17:25:36.617987",
     "status": "completed"
    },
    "tags": []
   },
   "outputs": [
    {
     "data": {
      "text/plain": [
       "Text(0.5, 1.0, 'Gene correlations in chromosome 3')"
      ]
     },
     "execution_count": 42,
     "metadata": {},
     "output_type": "execute_result"
    },
    {
     "data": {
      "image/png": "[encoded data removed]",
      "text/plain": [
       "<Figure size 1000x1000 with 2 Axes>"
      ]
     },
     "metadata": {},
     "output_type": "display_data"
    }
   ],
   "source": [
    "f, ax = plt.subplots(figsize=(10, 10))\n",
    "sns.heatmap(\n",
    "    gene_corrs_df,\n",
    "    xticklabels=False,\n",
    "    yticklabels=False,\n",
    "    square=True,\n",
    "    vmin=vmin_val,\n",
    "    vmax=vmax_val,\n",
    "    cmap=\"rocket_r\",\n",
    "    ax=ax,\n",
    ")\n",
    "ax.set_title(f\"Gene correlations in chromosome {CHROMOSOME}\")"
   ]
  },
  {
   "cell_type": "code",
   "execution_count": null,
   "id": "b25e3ead",
   "metadata": {
    "papermill": {
     "duration": 2.408847,
     "end_time": "2022-12-05T17:25:44.187861",
     "exception": false,
     "start_time": "2022-12-05T17:25:41.779014",
     "status": "completed"
    },
    "tags": []
   },
   "outputs": [],
   "source": []
  }
 ],
 "metadata": {
  "jupytext": {
   "cell_metadata_filter": "all,-execution,-papermill,-trusted",
   "formats": "ipynb,py//py:percent"
  },
  "kernelspec": {
   "display_name": "Python 3 (ipykernel)",
   "language": "python",
   "name": "python3"
  },
  "language_info": {
   "codemirror_mode": {
    "name": "ipython",
    "version": 3
   },
   "file_extension": ".py",
   "mimetype": "text/x-python",
   "name": "python",
   "nbconvert_exporter": "python",
   "pygments_lexer": "ipython3",
   "version": "3.10.6"
  },
  "papermill": {
   "default_parameters": {},
   "duration": 476.759723,
   "end_time": "2022-12-05T17:25:50.317121",
   "environment_variables": {},
   "exception": null,
   "input_path": "projects/asthma-copd/nbs/20_gene_corrs/jobs/05-gene_expr_correlations.ipynb",
   "output_path": "projects/asthma-copd/nbs/20_gene_corrs/jobs/../output/aco/05-gene_expr_correlations-chr3.run.ipynb",
   "parameters": {
    "CHROMOSOME": 3,
    "COHORT_NAME": "aco",
    "OUTPUT_DIR_BASE": "/opt/data/projects/asthma-copd/results/gls_phenoplier",
    "PHENOPLIER_NOTEBOOK_FILEPATH": "projects/asthma-copd/nbs/20_gene_corrs/jobs/05-gene_expr_correlations.ipynb"
   },
   "start_time": "2022-12-05T17:17:53.557398",
   "version": "2.2.2"
  }
 },
 "nbformat": 4,
 "nbformat_minor": 5
}
