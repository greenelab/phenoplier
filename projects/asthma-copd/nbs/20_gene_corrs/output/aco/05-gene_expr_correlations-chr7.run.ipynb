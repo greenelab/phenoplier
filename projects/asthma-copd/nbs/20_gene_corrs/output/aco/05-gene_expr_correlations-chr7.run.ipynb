{
 "cells": [
  {
   "cell_type": "markdown",
   "id": "7a6632fb",
   "metadata": {
    "papermill": {
     "duration": 0.009156,
     "end_time": "2022-12-05T17:24:10.503724",
     "exception": false,
     "start_time": "2022-12-05T17:24:10.494568",
     "status": "completed"
    },
    "tags": []
   },
   "source": [
    "# Description"
   ]
  },
  {
   "cell_type": "markdown",
   "id": "7097c346",
   "metadata": {
    "papermill": {
     "duration": 0.007917,
     "end_time": "2022-12-05T17:24:10.521612",
     "exception": false,
     "start_time": "2022-12-05T17:24:10.513695",
     "status": "completed"
    },
    "tags": []
   },
   "source": [
    "(Please, take a look at the README.md file in this directory for instructions on how to run this notebook)\n",
    "\n",
    "This notebook computes predicted expression correlations between all genes in the MultiPLIER models.\n",
    "\n",
    "It has specicfic parameters for papermill (see under `Settings` below).\n",
    "It can be configured to run on a single chromosome to run in parallel.\n",
    "\n",
    "This notebook is not directly run. See README.md."
   ]
  },
  {
   "cell_type": "markdown",
   "id": "c61d8427",
   "metadata": {
    "papermill": {
     "duration": 0.00786,
     "end_time": "2022-12-05T17:24:10.537565",
     "exception": false,
     "start_time": "2022-12-05T17:24:10.529705",
     "status": "completed"
    },
    "tags": []
   },
   "source": [
    "# Modules"
   ]
  },
  {
   "cell_type": "code",
   "execution_count": 1,
   "id": "bbc0234f",
   "metadata": {
    "execution": {
     "iopub.execute_input": "2022-12-05T17:24:10.556253Z",
     "iopub.status.busy": "2022-12-05T17:24:10.555649Z",
     "iopub.status.idle": "2022-12-05T17:24:10.574581Z",
     "shell.execute_reply": "2022-12-05T17:24:10.574170Z"
    },
    "papermill": {
     "duration": 0.029964,
     "end_time": "2022-12-05T17:24:10.576282",
     "exception": false,
     "start_time": "2022-12-05T17:24:10.546318",
     "status": "completed"
    },
    "tags": []
   },
   "outputs": [],
   "source": [
    "%load_ext autoreload\n",
    "%autoreload 2"
   ]
  },
  {
   "cell_type": "code",
   "execution_count": 2,
   "id": "1d5f5a59",
   "metadata": {
    "execution": {
     "iopub.execute_input": "2022-12-05T17:24:10.594077Z",
     "iopub.status.busy": "2022-12-05T17:24:10.593735Z",
     "iopub.status.idle": "2022-12-05T17:24:11.324137Z",
     "shell.execute_reply": "2022-12-05T17:24:11.323627Z"
    },
    "papermill": {
     "duration": 0.741408,
     "end_time": "2022-12-05T17:24:11.326117",
     "exception": false,
     "start_time": "2022-12-05T17:24:10.584709",
     "status": "completed"
    },
    "tags": []
   },
   "outputs": [],
   "source": [
    "from random import sample, seed\n",
    "import warnings\n",
    "from pathlib import Path\n",
    "import pickle\n",
    "import traceback\n",
    "\n",
    "import numpy as np\n",
    "from scipy.spatial.distance import squareform\n",
    "import pandas as pd\n",
    "from tqdm import tqdm\n",
    "import matplotlib.pyplot as plt\n",
    "import seaborn as sns\n",
    "\n",
    "import conf\n",
    "from entity import Gene"
   ]
  },
  {
   "cell_type": "markdown",
   "id": "1eac24b5",
   "metadata": {
    "papermill": {
     "duration": 0.009781,
     "end_time": "2022-12-05T17:24:11.345555",
     "exception": false,
     "start_time": "2022-12-05T17:24:11.335774",
     "status": "completed"
    },
    "tags": []
   },
   "source": [
    "# Settings"
   ]
  },
  {
   "cell_type": "code",
   "execution_count": 3,
   "id": "ca4560ba",
   "metadata": {
    "execution": {
     "iopub.execute_input": "2022-12-05T17:24:11.363291Z",
     "iopub.status.busy": "2022-12-05T17:24:11.363124Z",
     "iopub.status.idle": "2022-12-05T17:24:11.377163Z",
     "shell.execute_reply": "2022-12-05T17:24:11.376793Z"
    },
    "papermill": {
     "duration": 0.025066,
     "end_time": "2022-12-05T17:24:11.378612",
     "exception": false,
     "start_time": "2022-12-05T17:24:11.353546",
     "status": "completed"
    },
    "tags": [
     "parameters"
    ]
   },
   "outputs": [],
   "source": [
    "# a cohort name (it could be something like UK_BIOBANK, etc)\n",
    "COHORT_NAME = None\n",
    "\n",
    "# reference panel such as 1000G or GTEX_V8\n",
    "REFERENCE_PANEL = \"GTEX_V8\"\n",
    "\n",
    "# predictions models such as MASHR or ELASTIC_NET\n",
    "EQTL_MODEL = \"MASHR\"\n",
    "\n",
    "# this is the default value used in S-MultiXcan to select the\n",
    "# top principal components of the expression correlation matrix\n",
    "SMULTIXCAN_CONDITION_NUMBER = 30\n",
    "\n",
    "# specifies a single chromosome value\n",
    "CHROMOSOME = None\n",
    "\n",
    "# If True, computes the correlation between closeby genes only (see\n",
    "# entity.Gene.within_distance for more details). Otherwise, it computes\n",
    "# correlations for all genes in a chromosome\n",
    "COMPUTE_CORRELATIONS_WITHIN_DISTANCE = True\n",
    "\n",
    "# if True, then it will continue if a gene pair correlation fails,\n",
    "# printing the warning/error for debugging. If False, any warning/error\n",
    "# will be thrown\n",
    "DEBUG_MODE = False\n",
    "\n",
    "# output dir\n",
    "OUTPUT_DIR_BASE = None"
   ]
  },
  {
   "cell_type": "code",
   "execution_count": 4,
   "id": "5f94f564",
   "metadata": {
    "execution": {
     "iopub.execute_input": "2022-12-05T17:24:11.395721Z",
     "iopub.status.busy": "2022-12-05T17:24:11.395600Z",
     "iopub.status.idle": "2022-12-05T17:24:11.407580Z",
     "shell.execute_reply": "2022-12-05T17:24:11.407232Z"
    },
    "papermill": {
     "duration": 0.022005,
     "end_time": "2022-12-05T17:24:11.409036",
     "exception": false,
     "start_time": "2022-12-05T17:24:11.387031",
     "status": "completed"
    },
    "tags": [
     "injected-parameters"
    ]
   },
   "outputs": [],
   "source": [
    "# Parameters\n",
    "PHENOPLIER_NOTEBOOK_FILEPATH = (\n",
    "    \"projects/asthma-copd/nbs/20_gene_corrs/jobs/05-gene_expr_correlations.ipynb\"\n",
    ")\n",
    "COHORT_NAME = \"aco\"\n",
    "CHROMOSOME = 7\n",
    "OUTPUT_DIR_BASE = \"/opt/data/projects/asthma-copd/results/gls_phenoplier\"\n"
   ]
  },
  {
   "cell_type": "code",
   "execution_count": 5,
   "id": "3190631f-27fc-480f-b18e-571d580425a5",
   "metadata": {
    "execution": {
     "iopub.execute_input": "2022-12-05T17:24:11.428614Z",
     "iopub.status.busy": "2022-12-05T17:24:11.428274Z",
     "iopub.status.idle": "2022-12-05T17:24:11.457105Z",
     "shell.execute_reply": "2022-12-05T17:24:11.456436Z"
    },
    "papermill": {
     "duration": 0.040693,
     "end_time": "2022-12-05T17:24:11.458616",
     "exception": false,
     "start_time": "2022-12-05T17:24:11.417923",
     "status": "completed"
    },
    "tags": []
   },
   "outputs": [
    {
     "data": {
      "text/plain": [
       "'Cohort name: aco'"
      ]
     },
     "metadata": {},
     "output_type": "display_data"
    }
   ],
   "source": [
    "assert COHORT_NAME is not None and len(COHORT_NAME) > 0, \"A cohort name must be given\"\n",
    "\n",
    "COHORT_NAME = COHORT_NAME.lower()\n",
    "display(f\"Cohort name: {COHORT_NAME}\")"
   ]
  },
  {
   "cell_type": "code",
   "execution_count": 6,
   "id": "f53ba19b-0f93-4fa2-a047-63b375939d1a",
   "metadata": {
    "execution": {
     "iopub.execute_input": "2022-12-05T17:24:11.477002Z",
     "iopub.status.busy": "2022-12-05T17:24:11.476650Z",
     "iopub.status.idle": "2022-12-05T17:24:11.499601Z",
     "shell.execute_reply": "2022-12-05T17:24:11.498952Z"
    },
    "papermill": {
     "duration": 0.033777,
     "end_time": "2022-12-05T17:24:11.501379",
     "exception": false,
     "start_time": "2022-12-05T17:24:11.467602",
     "status": "completed"
    },
    "tags": []
   },
   "outputs": [
    {
     "data": {
      "text/plain": [
       "'Reference panel: GTEX_V8'"
      ]
     },
     "metadata": {},
     "output_type": "display_data"
    }
   ],
   "source": [
    "assert (\n",
    "    REFERENCE_PANEL is not None and len(REFERENCE_PANEL) > 0\n",
    "), \"A reference panel must be given\"\n",
    "\n",
    "display(f\"Reference panel: {REFERENCE_PANEL}\")"
   ]
  },
  {
   "cell_type": "code",
   "execution_count": 7,
   "id": "e024d130-c139-429a-9c6e-ccf149e297b0",
   "metadata": {
    "execution": {
     "iopub.execute_input": "2022-12-05T17:24:11.523128Z",
     "iopub.status.busy": "2022-12-05T17:24:11.522633Z",
     "iopub.status.idle": "2022-12-05T17:24:11.545094Z",
     "shell.execute_reply": "2022-12-05T17:24:11.544573Z"
    },
    "papermill": {
     "duration": 0.034805,
     "end_time": "2022-12-05T17:24:11.546740",
     "exception": false,
     "start_time": "2022-12-05T17:24:11.511935",
     "status": "completed"
    },
    "tags": []
   },
   "outputs": [
    {
     "data": {
      "text/plain": [
       "'eQTL model: MASHR) / mashr_'"
      ]
     },
     "metadata": {},
     "output_type": "display_data"
    }
   ],
   "source": [
    "assert (\n",
    "    EQTL_MODEL is not None and len(EQTL_MODEL) > 0\n",
    "), \"A prediction/eQTL model must be given\"\n",
    "\n",
    "EQTL_MODEL_FILES_PREFIX = conf.PHENOMEXCAN[\"PREDICTION_MODELS\"][f\"{EQTL_MODEL}_PREFIX\"]\n",
    "display(f\"eQTL model: {EQTL_MODEL}) / {EQTL_MODEL_FILES_PREFIX}\")"
   ]
  },
  {
   "cell_type": "code",
   "execution_count": 8,
   "id": "552a7f63-a18c-4d3e-bb6a-94f99b431291",
   "metadata": {
    "execution": {
     "iopub.execute_input": "2022-12-05T17:24:11.568279Z",
     "iopub.status.busy": "2022-12-05T17:24:11.568060Z",
     "iopub.status.idle": "2022-12-05T17:24:11.590136Z",
     "shell.execute_reply": "2022-12-05T17:24:11.589634Z"
    },
    "papermill": {
     "duration": 0.034918,
     "end_time": "2022-12-05T17:24:11.591752",
     "exception": false,
     "start_time": "2022-12-05T17:24:11.556834",
     "status": "completed"
    },
    "tags": []
   },
   "outputs": [
    {
     "data": {
      "text/plain": [
       "'S-MultiXcan condition number: 30'"
      ]
     },
     "metadata": {},
     "output_type": "display_data"
    }
   ],
   "source": [
    "assert (\n",
    "    SMULTIXCAN_CONDITION_NUMBER is not None and SMULTIXCAN_CONDITION_NUMBER > 0\n",
    "), \"The S-MultiXcan condition number (positive integer) must be given\"\n",
    "\n",
    "display(f\"S-MultiXcan condition number: {SMULTIXCAN_CONDITION_NUMBER}\")"
   ]
  },
  {
   "cell_type": "code",
   "execution_count": 9,
   "id": "f34a336f-548e-4afe-8955-90eaea4f42c6",
   "metadata": {
    "execution": {
     "iopub.execute_input": "2022-12-05T17:24:11.613618Z",
     "iopub.status.busy": "2022-12-05T17:24:11.613161Z",
     "iopub.status.idle": "2022-12-05T17:24:11.635274Z",
     "shell.execute_reply": "2022-12-05T17:24:11.634760Z"
    },
    "papermill": {
     "duration": 0.034468,
     "end_time": "2022-12-05T17:24:11.636866",
     "exception": false,
     "start_time": "2022-12-05T17:24:11.602398",
     "status": "completed"
    },
    "tags": []
   },
   "outputs": [
    {
     "data": {
      "text/plain": [
       "'Working on chromosome 7'"
      ]
     },
     "metadata": {},
     "output_type": "display_data"
    }
   ],
   "source": [
    "assert CHROMOSOME is not None and (\n",
    "    1 <= CHROMOSOME <= 22\n",
    "), \"You have to select one chromosome (format: number between 1 and 22)\"\n",
    "\n",
    "display(f\"Working on chromosome {CHROMOSOME}\")"
   ]
  },
  {
   "cell_type": "code",
   "execution_count": 10,
   "id": "ab8e96e8-06b5-4363-9dcd-dc4d78cc27f7",
   "metadata": {
    "execution": {
     "iopub.execute_input": "2022-12-05T17:24:11.656914Z",
     "iopub.status.busy": "2022-12-05T17:24:11.656437Z",
     "iopub.status.idle": "2022-12-05T17:24:11.678339Z",
     "shell.execute_reply": "2022-12-05T17:24:11.677841Z"
    },
    "papermill": {
     "duration": 0.033102,
     "end_time": "2022-12-05T17:24:11.679898",
     "exception": false,
     "start_time": "2022-12-05T17:24:11.646796",
     "status": "completed"
    },
    "tags": []
   },
   "outputs": [
    {
     "data": {
      "text/plain": [
       "'Compute correlation within distance True'"
      ]
     },
     "metadata": {},
     "output_type": "display_data"
    }
   ],
   "source": [
    "display(f\"Compute correlation within distance {COMPUTE_CORRELATIONS_WITHIN_DISTANCE}\")"
   ]
  },
  {
   "cell_type": "code",
   "execution_count": 11,
   "id": "b393b698-77e3-4ba2-8ac1-e14d51aa988f",
   "metadata": {
    "execution": {
     "iopub.execute_input": "2022-12-05T17:24:11.702843Z",
     "iopub.status.busy": "2022-12-05T17:24:11.702352Z",
     "iopub.status.idle": "2022-12-05T17:24:11.725392Z",
     "shell.execute_reply": "2022-12-05T17:24:11.724886Z"
    },
    "papermill": {
     "duration": 0.03596,
     "end_time": "2022-12-05T17:24:11.726981",
     "exception": false,
     "start_time": "2022-12-05T17:24:11.691021",
     "status": "completed"
    },
    "tags": []
   },
   "outputs": [
    {
     "data": {
      "text/plain": [
       "'Using output dir base: /opt/data/projects/asthma-copd/results/gls_phenoplier/gene_corrs/aco'"
      ]
     },
     "metadata": {},
     "output_type": "display_data"
    }
   ],
   "source": [
    "assert (\n",
    "    OUTPUT_DIR_BASE is not None and len(OUTPUT_DIR_BASE) > 0\n",
    "), \"Output directory path must be given\"\n",
    "\n",
    "OUTPUT_DIR_BASE = (Path(OUTPUT_DIR_BASE) / \"gene_corrs\" / COHORT_NAME).resolve()\n",
    "\n",
    "OUTPUT_DIR_BASE.mkdir(parents=True, exist_ok=True)\n",
    "\n",
    "display(f\"Using output dir base: {OUTPUT_DIR_BASE}\")"
   ]
  },
  {
   "cell_type": "markdown",
   "id": "d2ba085e",
   "metadata": {
    "papermill": {
     "duration": 0.009398,
     "end_time": "2022-12-05T17:24:11.747866",
     "exception": false,
     "start_time": "2022-12-05T17:24:11.738468",
     "status": "completed"
    },
    "tags": []
   },
   "source": [
    "# Load data"
   ]
  },
  {
   "cell_type": "markdown",
   "id": "7dcb8db7",
   "metadata": {
    "papermill": {
     "duration": 0.009096,
     "end_time": "2022-12-05T17:24:11.766417",
     "exception": false,
     "start_time": "2022-12-05T17:24:11.757321",
     "status": "completed"
    },
    "tags": []
   },
   "source": [
    "## GWAS variants"
   ]
  },
  {
   "cell_type": "code",
   "execution_count": 12,
   "id": "29434c4e-8cd3-4b9b-82e4-b5a251d9dd19",
   "metadata": {
    "execution": {
     "iopub.execute_input": "2022-12-05T17:24:11.784157Z",
     "iopub.status.busy": "2022-12-05T17:24:11.783882Z",
     "iopub.status.idle": "2022-12-05T17:24:14.297976Z",
     "shell.execute_reply": "2022-12-05T17:24:14.297342Z"
    },
    "papermill": {
     "duration": 2.524475,
     "end_time": "2022-12-05T17:24:14.299792",
     "exception": false,
     "start_time": "2022-12-05T17:24:11.775317",
     "status": "completed"
    },
    "tags": []
   },
   "outputs": [],
   "source": [
    "with open(OUTPUT_DIR_BASE / \"gwas_variant_ids.pkl\", \"rb\") as handle:\n",
    "    gwas_variants_ids_set = pickle.load(handle)"
   ]
  },
  {
   "cell_type": "code",
   "execution_count": 13,
   "id": "b9d9dec2-4a76-4bf9-bde2-e24c95acb8a0",
   "metadata": {
    "execution": {
     "iopub.execute_input": "2022-12-05T17:24:14.320966Z",
     "iopub.status.busy": "2022-12-05T17:24:14.320663Z",
     "iopub.status.idle": "2022-12-05T17:24:14.337108Z",
     "shell.execute_reply": "2022-12-05T17:24:14.336550Z"
    },
    "papermill": {
     "duration": 0.029406,
     "end_time": "2022-12-05T17:24:14.338217",
     "exception": false,
     "start_time": "2022-12-05T17:24:14.308811",
     "status": "completed"
    },
    "tags": []
   },
   "outputs": [
    {
     "data": {
      "text/plain": [
       "8561476"
      ]
     },
     "execution_count": 13,
     "metadata": {},
     "output_type": "execute_result"
    }
   ],
   "source": [
    "len(gwas_variants_ids_set)"
   ]
  },
  {
   "cell_type": "code",
   "execution_count": 14,
   "id": "4235b06a-6034-4ee4-a0a3-2ae35d122418",
   "metadata": {
    "execution": {
     "iopub.execute_input": "2022-12-05T17:24:14.355108Z",
     "iopub.status.busy": "2022-12-05T17:24:14.354833Z",
     "iopub.status.idle": "2022-12-05T17:24:15.373712Z",
     "shell.execute_reply": "2022-12-05T17:24:15.373201Z"
    },
    "papermill": {
     "duration": 1.028629,
     "end_time": "2022-12-05T17:24:15.374934",
     "exception": false,
     "start_time": "2022-12-05T17:24:14.346305",
     "status": "completed"
    },
    "tags": []
   },
   "outputs": [
    {
     "data": {
      "text/plain": [
       "['chr2_193665518_T_C_b38',\n",
       " 'chr1_220536617_G_A_b38',\n",
       " 'chr9_128350974_G_T_b38',\n",
       " 'chr1_56380917_C_T_b38',\n",
       " 'chr15_100179755_T_C_b38']"
      ]
     },
     "execution_count": 14,
     "metadata": {},
     "output_type": "execute_result"
    }
   ],
   "source": [
    "list(gwas_variants_ids_set)[:5]"
   ]
  },
  {
   "cell_type": "markdown",
   "id": "07866999-2305-41f9-a144-e69c9122c212",
   "metadata": {
    "papermill": {
     "duration": 0.010491,
     "end_time": "2022-12-05T17:24:15.394559",
     "exception": false,
     "start_time": "2022-12-05T17:24:15.384068",
     "status": "completed"
    },
    "tags": []
   },
   "source": [
    "## S-PrediXcan tissue models"
   ]
  },
  {
   "cell_type": "code",
   "execution_count": 15,
   "id": "780611d9-77c8-405f-90a4-f271f7b09397",
   "metadata": {
    "execution": {
     "iopub.execute_input": "2022-12-05T17:24:15.414235Z",
     "iopub.status.busy": "2022-12-05T17:24:15.413895Z",
     "iopub.status.idle": "2022-12-05T17:24:15.927317Z",
     "shell.execute_reply": "2022-12-05T17:24:15.926714Z"
    },
    "papermill": {
     "duration": 0.525779,
     "end_time": "2022-12-05T17:24:15.929207",
     "exception": false,
     "start_time": "2022-12-05T17:24:15.403428",
     "status": "completed"
    },
    "tags": []
   },
   "outputs": [],
   "source": [
    "spredixcan_genes_models = pd.read_pickle(OUTPUT_DIR_BASE / \"gene_tissues.pkl\")"
   ]
  },
  {
   "cell_type": "code",
   "execution_count": 16,
   "id": "726dd1f6-9557-4225-91fa-b3b879ea96e1",
   "metadata": {
    "execution": {
     "iopub.execute_input": "2022-12-05T17:24:15.950414Z",
     "iopub.status.busy": "2022-12-05T17:24:15.950121Z",
     "iopub.status.idle": "2022-12-05T17:24:15.966382Z",
     "shell.execute_reply": "2022-12-05T17:24:15.965854Z"
    },
    "papermill": {
     "duration": 0.028543,
     "end_time": "2022-12-05T17:24:15.967812",
     "exception": false,
     "start_time": "2022-12-05T17:24:15.939269",
     "status": "completed"
    },
    "tags": []
   },
   "outputs": [
    {
     "data": {
      "text/plain": [
       "(6442, 5)"
      ]
     },
     "execution_count": 16,
     "metadata": {},
     "output_type": "execute_result"
    }
   ],
   "source": [
    "spredixcan_genes_models.shape"
   ]
  },
  {
   "cell_type": "code",
   "execution_count": 17,
   "id": "944a1b48-222c-4eb0-b252-b9de2cbca215",
   "metadata": {
    "execution": {
     "iopub.execute_input": "2022-12-05T17:24:15.989246Z",
     "iopub.status.busy": "2022-12-05T17:24:15.988986Z",
     "iopub.status.idle": "2022-12-05T17:24:16.009886Z",
     "shell.execute_reply": "2022-12-05T17:24:16.009370Z"
    },
    "papermill": {
     "duration": 0.033481,
     "end_time": "2022-12-05T17:24:16.011226",
     "exception": false,
     "start_time": "2022-12-05T17:24:15.977745",
     "status": "completed"
    },
    "tags": []
   },
   "outputs": [
    {
     "data": {
      "text/html": [
       "<div>\n",
       "<style scoped>\n",
       "    .dataframe tbody tr th:only-of-type {\n",
       "        vertical-align: middle;\n",
       "    }\n",
       "\n",
       "    .dataframe tbody tr th {\n",
       "        vertical-align: top;\n",
       "    }\n",
       "\n",
       "    .dataframe thead th {\n",
       "        text-align: right;\n",
       "    }\n",
       "</style>\n",
       "<table border=\"1\" class=\"dataframe\">\n",
       "  <thead>\n",
       "    <tr style=\"text-align: right;\">\n",
       "      <th></th>\n",
       "      <th>gene_name</th>\n",
       "      <th>tissue</th>\n",
       "      <th>n_tissues</th>\n",
       "      <th>n_snps_used_sum</th>\n",
       "      <th>n_snps_in_model_sum</th>\n",
       "    </tr>\n",
       "    <tr>\n",
       "      <th>gene_id</th>\n",
       "      <th></th>\n",
       "      <th></th>\n",
       "      <th></th>\n",
       "      <th></th>\n",
       "      <th></th>\n",
       "    </tr>\n",
       "  </thead>\n",
       "  <tbody>\n",
       "    <tr>\n",
       "      <th>ENSG00000000419</th>\n",
       "      <td>DPM1</td>\n",
       "      <td>(Brain_Substantia_nigra, Brain_Hypothalamus)</td>\n",
       "      <td>2</td>\n",
       "      <td>2</td>\n",
       "      <td>2</td>\n",
       "    </tr>\n",
       "    <tr>\n",
       "      <th>ENSG00000000938</th>\n",
       "      <td>FGR</td>\n",
       "      <td>(Colon_Sigmoid, Esophagus_Gastroesophageal_Jun...</td>\n",
       "      <td>36</td>\n",
       "      <td>40</td>\n",
       "      <td>40</td>\n",
       "    </tr>\n",
       "    <tr>\n",
       "      <th>ENSG00000000971</th>\n",
       "      <td>CFH</td>\n",
       "      <td>(Colon_Sigmoid, Cells_Cultured_fibroblasts, Es...</td>\n",
       "      <td>34</td>\n",
       "      <td>44</td>\n",
       "      <td>44</td>\n",
       "    </tr>\n",
       "    <tr>\n",
       "      <th>ENSG00000001084</th>\n",
       "      <td>GCLC</td>\n",
       "      <td>(Cells_Cultured_fibroblasts, Heart_Atrial_Appe...</td>\n",
       "      <td>32</td>\n",
       "      <td>46</td>\n",
       "      <td>46</td>\n",
       "    </tr>\n",
       "    <tr>\n",
       "      <th>ENSG00000001167</th>\n",
       "      <td>NFYA</td>\n",
       "      <td>(Colon_Sigmoid, Cells_Cultured_fibroblasts, Es...</td>\n",
       "      <td>40</td>\n",
       "      <td>47</td>\n",
       "      <td>48</td>\n",
       "    </tr>\n",
       "  </tbody>\n",
       "</table>\n",
       "</div>"
      ],
      "text/plain": [
       "                gene_name                                             tissue  \\\n",
       "gene_id                                                                        \n",
       "ENSG00000000419      DPM1       (Brain_Substantia_nigra, Brain_Hypothalamus)   \n",
       "ENSG00000000938       FGR  (Colon_Sigmoid, Esophagus_Gastroesophageal_Jun...   \n",
       "ENSG00000000971       CFH  (Colon_Sigmoid, Cells_Cultured_fibroblasts, Es...   \n",
       "ENSG00000001084      GCLC  (Cells_Cultured_fibroblasts, Heart_Atrial_Appe...   \n",
       "ENSG00000001167      NFYA  (Colon_Sigmoid, Cells_Cultured_fibroblasts, Es...   \n",
       "\n",
       "                 n_tissues  n_snps_used_sum  n_snps_in_model_sum  \n",
       "gene_id                                                           \n",
       "ENSG00000000419          2                2                    2  \n",
       "ENSG00000000938         36               40                   40  \n",
       "ENSG00000000971         34               44                   44  \n",
       "ENSG00000001084         32               46                   46  \n",
       "ENSG00000001167         40               47                   48  "
      ]
     },
     "execution_count": 17,
     "metadata": {},
     "output_type": "execute_result"
    }
   ],
   "source": [
    "spredixcan_genes_models.head()"
   ]
  },
  {
   "cell_type": "code",
   "execution_count": 18,
   "id": "d1c11bb1-be0b-4f40-b360-633d6827109f",
   "metadata": {
    "execution": {
     "iopub.execute_input": "2022-12-05T17:24:16.032367Z",
     "iopub.status.busy": "2022-12-05T17:24:16.032110Z",
     "iopub.status.idle": "2022-12-05T17:24:16.047859Z",
     "shell.execute_reply": "2022-12-05T17:24:16.047264Z"
    },
    "papermill": {
     "duration": 0.027956,
     "end_time": "2022-12-05T17:24:16.049334",
     "exception": false,
     "start_time": "2022-12-05T17:24:16.021378",
     "status": "completed"
    },
    "tags": []
   },
   "outputs": [],
   "source": [
    "assert spredixcan_genes_models.index.is_unique"
   ]
  },
  {
   "cell_type": "markdown",
   "id": "a5b5092c-a13e-47c4-a92a-480fcc08f3ae",
   "metadata": {
    "papermill": {
     "duration": 0.010324,
     "end_time": "2022-12-05T17:24:16.069839",
     "exception": false,
     "start_time": "2022-12-05T17:24:16.059515",
     "status": "completed"
    },
    "tags": []
   },
   "source": [
    "## Gene info"
   ]
  },
  {
   "cell_type": "code",
   "execution_count": 19,
   "id": "7d6bb224-88e9-4358-ac10-43a41d92cdad",
   "metadata": {
    "execution": {
     "iopub.execute_input": "2022-12-05T17:24:16.093270Z",
     "iopub.status.busy": "2022-12-05T17:24:16.093000Z",
     "iopub.status.idle": "2022-12-05T17:24:16.115238Z",
     "shell.execute_reply": "2022-12-05T17:24:16.114599Z"
    },
    "papermill": {
     "duration": 0.036294,
     "end_time": "2022-12-05T17:24:16.117214",
     "exception": false,
     "start_time": "2022-12-05T17:24:16.080920",
     "status": "completed"
    },
    "tags": []
   },
   "outputs": [],
   "source": [
    "genes_info = pd.read_pickle(OUTPUT_DIR_BASE / \"genes_info.pkl\")"
   ]
  },
  {
   "cell_type": "code",
   "execution_count": 20,
   "id": "9e32abfa-546d-483e-8c18-d526e9e05903",
   "metadata": {
    "execution": {
     "iopub.execute_input": "2022-12-05T17:24:16.142383Z",
     "iopub.status.busy": "2022-12-05T17:24:16.141989Z",
     "iopub.status.idle": "2022-12-05T17:24:16.162498Z",
     "shell.execute_reply": "2022-12-05T17:24:16.161871Z"
    },
    "papermill": {
     "duration": 0.034535,
     "end_time": "2022-12-05T17:24:16.164266",
     "exception": false,
     "start_time": "2022-12-05T17:24:16.129731",
     "status": "completed"
    },
    "tags": []
   },
   "outputs": [
    {
     "data": {
      "text/plain": [
       "(6442, 7)"
      ]
     },
     "execution_count": 20,
     "metadata": {},
     "output_type": "execute_result"
    }
   ],
   "source": [
    "genes_info.shape"
   ]
  },
  {
   "cell_type": "code",
   "execution_count": 21,
   "id": "d16c3e92-85ec-468a-9a56-e25a9774a1cb",
   "metadata": {
    "execution": {
     "iopub.execute_input": "2022-12-05T17:24:16.188709Z",
     "iopub.status.busy": "2022-12-05T17:24:16.188171Z",
     "iopub.status.idle": "2022-12-05T17:24:16.212465Z",
     "shell.execute_reply": "2022-12-05T17:24:16.211874Z"
    },
    "papermill": {
     "duration": 0.038538,
     "end_time": "2022-12-05T17:24:16.214249",
     "exception": false,
     "start_time": "2022-12-05T17:24:16.175711",
     "status": "completed"
    },
    "tags": []
   },
   "outputs": [
    {
     "data": {
      "text/html": [
       "<div>\n",
       "<style scoped>\n",
       "    .dataframe tbody tr th:only-of-type {\n",
       "        vertical-align: middle;\n",
       "    }\n",
       "\n",
       "    .dataframe tbody tr th {\n",
       "        vertical-align: top;\n",
       "    }\n",
       "\n",
       "    .dataframe thead th {\n",
       "        text-align: right;\n",
       "    }\n",
       "</style>\n",
       "<table border=\"1\" class=\"dataframe\">\n",
       "  <thead>\n",
       "    <tr style=\"text-align: right;\">\n",
       "      <th></th>\n",
       "      <th>name</th>\n",
       "      <th>id</th>\n",
       "      <th>chr</th>\n",
       "      <th>band</th>\n",
       "      <th>start_position</th>\n",
       "      <th>end_position</th>\n",
       "      <th>gene_length</th>\n",
       "    </tr>\n",
       "  </thead>\n",
       "  <tbody>\n",
       "    <tr>\n",
       "      <th>0</th>\n",
       "      <td>ASPM</td>\n",
       "      <td>ENSG00000066279</td>\n",
       "      <td>1</td>\n",
       "      <td>1q31.3</td>\n",
       "      <td>197084127</td>\n",
       "      <td>197146694</td>\n",
       "      <td>62567</td>\n",
       "    </tr>\n",
       "    <tr>\n",
       "      <th>1</th>\n",
       "      <td>GPAM</td>\n",
       "      <td>ENSG00000119927</td>\n",
       "      <td>10</td>\n",
       "      <td>10q25.2</td>\n",
       "      <td>112149865</td>\n",
       "      <td>112215377</td>\n",
       "      <td>65512</td>\n",
       "    </tr>\n",
       "    <tr>\n",
       "      <th>2</th>\n",
       "      <td>MAPK7</td>\n",
       "      <td>ENSG00000166484</td>\n",
       "      <td>17</td>\n",
       "      <td>17p11.2</td>\n",
       "      <td>19377721</td>\n",
       "      <td>19383544</td>\n",
       "      <td>5823</td>\n",
       "    </tr>\n",
       "    <tr>\n",
       "      <th>3</th>\n",
       "      <td>SLC3A2</td>\n",
       "      <td>ENSG00000168003</td>\n",
       "      <td>11</td>\n",
       "      <td>11q12.3</td>\n",
       "      <td>62856102</td>\n",
       "      <td>62888875</td>\n",
       "      <td>32773</td>\n",
       "    </tr>\n",
       "    <tr>\n",
       "      <th>4</th>\n",
       "      <td>GINS2</td>\n",
       "      <td>ENSG00000131153</td>\n",
       "      <td>16</td>\n",
       "      <td>16q24.1</td>\n",
       "      <td>85676198</td>\n",
       "      <td>85690073</td>\n",
       "      <td>13875</td>\n",
       "    </tr>\n",
       "  </tbody>\n",
       "</table>\n",
       "</div>"
      ],
      "text/plain": [
       "     name               id  chr     band  start_position  end_position  \\\n",
       "0    ASPM  ENSG00000066279    1   1q31.3       197084127     197146694   \n",
       "1    GPAM  ENSG00000119927   10  10q25.2       112149865     112215377   \n",
       "2   MAPK7  ENSG00000166484   17  17p11.2        19377721      19383544   \n",
       "3  SLC3A2  ENSG00000168003   11  11q12.3        62856102      62888875   \n",
       "4   GINS2  ENSG00000131153   16  16q24.1        85676198      85690073   \n",
       "\n",
       "   gene_length  \n",
       "0        62567  \n",
       "1        65512  \n",
       "2         5823  \n",
       "3        32773  \n",
       "4        13875  "
      ]
     },
     "execution_count": 21,
     "metadata": {},
     "output_type": "execute_result"
    }
   ],
   "source": [
    "genes_info.head()"
   ]
  },
  {
   "cell_type": "markdown",
   "id": "d3843e06",
   "metadata": {
    "papermill": {
     "duration": 0.011694,
     "end_time": "2022-12-05T17:24:16.238459",
     "exception": false,
     "start_time": "2022-12-05T17:24:16.226765",
     "status": "completed"
    },
    "tags": []
   },
   "source": [
    "# Compute correlations"
   ]
  },
  {
   "cell_type": "code",
   "execution_count": 22,
   "id": "cb859c15-d1f3-4006-a74c-2b83c0db9611",
   "metadata": {
    "execution": {
     "iopub.execute_input": "2022-12-05T17:24:16.263756Z",
     "iopub.status.busy": "2022-12-05T17:24:16.263300Z",
     "iopub.status.idle": "2022-12-05T17:24:16.289012Z",
     "shell.execute_reply": "2022-12-05T17:24:16.288346Z"
    },
    "papermill": {
     "duration": 0.040013,
     "end_time": "2022-12-05T17:24:16.290359",
     "exception": false,
     "start_time": "2022-12-05T17:24:16.250346",
     "status": "completed"
    },
    "tags": []
   },
   "outputs": [
    {
     "data": {
      "text/plain": [
       "PosixPath('/opt/data/projects/asthma-copd/results/gls_phenoplier/gene_corrs/aco/by_chr/gene_corrs-chr7.pkl')"
      ]
     },
     "metadata": {},
     "output_type": "display_data"
    }
   ],
   "source": [
    "output_dir = OUTPUT_DIR_BASE / \"by_chr\"\n",
    "output_dir.mkdir(exist_ok=True, parents=True)\n",
    "output_file = output_dir / f\"gene_corrs-chr{CHROMOSOME}.pkl\"\n",
    "display(output_file)"
   ]
  },
  {
   "cell_type": "code",
   "execution_count": 23,
   "id": "aa674fe4-6794-4eed-98fa-32b39d1d4ace",
   "metadata": {
    "execution": {
     "iopub.execute_input": "2022-12-05T17:24:16.306042Z",
     "iopub.status.busy": "2022-12-05T17:24:16.305632Z",
     "iopub.status.idle": "2022-12-05T17:24:16.329508Z",
     "shell.execute_reply": "2022-12-05T17:24:16.328805Z"
    },
    "papermill": {
     "duration": 0.032971,
     "end_time": "2022-12-05T17:24:16.330835",
     "exception": false,
     "start_time": "2022-12-05T17:24:16.297864",
     "status": "completed"
    },
    "tags": []
   },
   "outputs": [],
   "source": [
    "warnings.filterwarnings(\"error\")"
   ]
  },
  {
   "cell_type": "code",
   "execution_count": 24,
   "id": "44d5450b-3baf-43f1-9e2e-4b06f1a785f8",
   "metadata": {
    "execution": {
     "iopub.execute_input": "2022-12-05T17:24:16.346099Z",
     "iopub.status.busy": "2022-12-05T17:24:16.345664Z",
     "iopub.status.idle": "2022-12-05T17:24:16.369838Z",
     "shell.execute_reply": "2022-12-05T17:24:16.369106Z"
    },
    "papermill": {
     "duration": 0.03376,
     "end_time": "2022-12-05T17:24:16.371280",
     "exception": false,
     "start_time": "2022-12-05T17:24:16.337520",
     "status": "completed"
    },
    "tags": []
   },
   "outputs": [],
   "source": [
    "# standard checks\n",
    "all_chrs = genes_info[\"chr\"].dropna().unique()\n",
    "assert all_chrs.shape[0] == 22\n",
    "\n",
    "# select chromosome given by the user\n",
    "assert CHROMOSOME in all_chrs"
   ]
  },
  {
   "cell_type": "code",
   "execution_count": 25,
   "id": "2d7c043c-92a7-4d35-991b-fa69ac1e0268",
   "metadata": {
    "execution": {
     "iopub.execute_input": "2022-12-05T17:24:16.386570Z",
     "iopub.status.busy": "2022-12-05T17:24:16.386030Z",
     "iopub.status.idle": "2022-12-05T17:24:16.412084Z",
     "shell.execute_reply": "2022-12-05T17:24:16.411283Z"
    },
    "papermill": {
     "duration": 0.035203,
     "end_time": "2022-12-05T17:24:16.413362",
     "exception": false,
     "start_time": "2022-12-05T17:24:16.378159",
     "status": "completed"
    },
    "tags": []
   },
   "outputs": [
    {
     "name": "stdout",
     "output_type": "stream",
     "text": [
      "Number of genes in chromosome: 281\n"
     ]
    }
   ],
   "source": [
    "# run only on the chromosome specified\n",
    "all_chrs = [CHROMOSOME]\n",
    "genes_chr = genes_info[genes_info[\"chr\"] == CHROMOSOME]\n",
    "\n",
    "# For testing purposes\n",
    "# genes_chr = genes_chr.sample(n=20)\n",
    "\n",
    "print(f\"Number of genes in chromosome: {genes_chr.shape[0]}\", flush=True)"
   ]
  },
  {
   "cell_type": "code",
   "execution_count": 26,
   "id": "916015d8-2979-46d3-a9b9-1cf5a0932c6a",
   "metadata": {
    "execution": {
     "iopub.execute_input": "2022-12-05T17:24:16.428620Z",
     "iopub.status.busy": "2022-12-05T17:24:16.428112Z",
     "iopub.status.idle": "2022-12-05T17:24:16.452265Z",
     "shell.execute_reply": "2022-12-05T17:24:16.451546Z"
    },
    "papermill": {
     "duration": 0.033296,
     "end_time": "2022-12-05T17:24:16.453683",
     "exception": false,
     "start_time": "2022-12-05T17:24:16.420387",
     "status": "completed"
    },
    "tags": []
   },
   "outputs": [],
   "source": [
    "# sort genes by starting position to make visualizations better later\n",
    "genes_chr = genes_chr.sort_values(\"start_position\")"
   ]
  },
  {
   "cell_type": "code",
   "execution_count": 27,
   "id": "a38aa74a-8ad3-47f6-8ef9-56be0e011774",
   "metadata": {
    "execution": {
     "iopub.execute_input": "2022-12-05T17:24:16.468816Z",
     "iopub.status.busy": "2022-12-05T17:24:16.468198Z",
     "iopub.status.idle": "2022-12-05T17:24:16.492592Z",
     "shell.execute_reply": "2022-12-05T17:24:16.491919Z"
    },
    "papermill": {
     "duration": 0.033485,
     "end_time": "2022-12-05T17:24:16.494008",
     "exception": false,
     "start_time": "2022-12-05T17:24:16.460523",
     "status": "completed"
    },
    "tags": []
   },
   "outputs": [],
   "source": [
    "gene_chr_objs = [Gene(ensembl_id=gene_id) for gene_id in genes_chr[\"id\"]]"
   ]
  },
  {
   "cell_type": "code",
   "execution_count": 28,
   "id": "570f974f-13c3-42b6-ad3a-ce99ca885c1a",
   "metadata": {
    "execution": {
     "iopub.execute_input": "2022-12-05T17:24:16.509548Z",
     "iopub.status.busy": "2022-12-05T17:24:16.508978Z",
     "iopub.status.idle": "2022-12-05T17:24:16.533563Z",
     "shell.execute_reply": "2022-12-05T17:24:16.532873Z"
    },
    "papermill": {
     "duration": 0.033782,
     "end_time": "2022-12-05T17:24:16.534878",
     "exception": false,
     "start_time": "2022-12-05T17:24:16.501096",
     "status": "completed"
    },
    "tags": []
   },
   "outputs": [
    {
     "name": "stdout",
     "output_type": "stream",
     "text": [
      "Number of gene combinations: 39621\n"
     ]
    }
   ],
   "source": [
    "n = len(gene_chr_objs)\n",
    "# diagonal elements + upper triangular matrix\n",
    "n_comb = n + int(n * (n - 1) / 2.0)\n",
    "print(f\"Number of gene combinations: {n_comb}\", flush=True)"
   ]
  },
  {
   "cell_type": "code",
   "execution_count": 29,
   "id": "cdbb90a1",
   "metadata": {
    "execution": {
     "iopub.execute_input": "2022-12-05T17:24:16.550346Z",
     "iopub.status.busy": "2022-12-05T17:24:16.549837Z",
     "iopub.status.idle": "2022-12-05T17:27:38.352129Z",
     "shell.execute_reply": "2022-12-05T17:27:38.351591Z"
    },
    "papermill": {
     "duration": 201.811599,
     "end_time": "2022-12-05T17:27:38.353160",
     "exception": false,
     "start_time": "2022-12-05T17:24:16.541561",
     "status": "completed"
    },
    "tags": []
   },
   "outputs": [
    {
     "name": "stderr",
     "output_type": "stream",
     "text": [
      "ENSG00000106018 / ENSG00000106018: 100%|█████████████████████| 39621/39621 [03:21<00:00, 196.38it/s]\n"
     ]
    },
    {
     "data": {
      "text/plain": [
       "PosixPath('/opt/data/projects/asthma-copd/results/gls_phenoplier/gene_corrs/aco/by_chr/gene_corrs-chr7.pkl')"
      ]
     },
     "metadata": {},
     "output_type": "display_data"
    }
   ],
   "source": [
    "gene_corrs = []\n",
    "gene_corrs_data = np.full(\n",
    "    (n, n),\n",
    "    np.nan,\n",
    "    dtype=np.float64,\n",
    ")\n",
    "\n",
    "i = 0\n",
    "with tqdm(ncols=100, total=n_comb) as pbar:\n",
    "    for gene1_idx in range(0, len(gene_chr_objs)):\n",
    "        gene1_obj = gene_chr_objs[gene1_idx]\n",
    "        gene1_tissues = spredixcan_genes_models.loc[gene1_obj.ensembl_id, \"tissue\"]\n",
    "\n",
    "        for gene2_idx in range(gene1_idx, len(gene_chr_objs)):\n",
    "            gene2_obj = gene_chr_objs[gene2_idx]\n",
    "            gene2_tissues = spredixcan_genes_models.loc[gene2_obj.ensembl_id, \"tissue\"]\n",
    "\n",
    "            pbar.set_description(f\"{gene1_obj.ensembl_id} / {gene2_obj.ensembl_id}\")\n",
    "\n",
    "            try:\n",
    "                r = gene1_obj.get_ssm_correlation(\n",
    "                    other_gene=gene2_obj,\n",
    "                    tissues=gene1_tissues,\n",
    "                    other_tissues=gene2_tissues,\n",
    "                    snps_subset=gwas_variants_ids_set,\n",
    "                    condition_number=SMULTIXCAN_CONDITION_NUMBER,\n",
    "                    reference_panel=REFERENCE_PANEL,\n",
    "                    model_type=EQTL_MODEL,\n",
    "                    use_within_distance=COMPUTE_CORRELATIONS_WITHIN_DISTANCE,\n",
    "                )\n",
    "\n",
    "                if r is None:\n",
    "                    # if r is None, it's very likely because:\n",
    "                    #  * one of the genes has no prediction models\n",
    "                    #  * all the SNPs predictors for the gene are not present in the reference\n",
    "                    #    panel\n",
    "\n",
    "                    r = 0.0\n",
    "\n",
    "                gene_corrs.append(r)\n",
    "\n",
    "                gene_corrs_data[gene1_idx, gene2_idx] = r\n",
    "                gene_corrs_data[gene2_idx, gene1_idx] = r\n",
    "            except Warning as e:\n",
    "                if not DEBUG_MODE:\n",
    "                    raise e\n",
    "\n",
    "                print(\n",
    "                    f\"RuntimeWarning for genes {gene1_obj.ensembl_id} and {gene2_obj.ensembl_id}\",\n",
    "                    flush=True,\n",
    "                )\n",
    "                print(traceback.format_exc(), flush=True)\n",
    "\n",
    "                gene_corrs.append(np.nan)\n",
    "            except Exception as e:\n",
    "                if not DEBUG_MODE:\n",
    "                    raise e\n",
    "\n",
    "                print(\n",
    "                    f\"Exception for genes {gene1_obj.ensembl_id} and {gene2_obj.ensembl_id}\",\n",
    "                    flush=True,\n",
    "                )\n",
    "                print(traceback.format_exc(), flush=True)\n",
    "\n",
    "                gene_corrs.append(np.nan)\n",
    "\n",
    "            pbar.update(1)\n",
    "\n",
    "# create a pandas series\n",
    "gene_corrs_flat = pd.Series(gene_corrs)\n",
    "\n",
    "# save\n",
    "# FIXME: consider saving only the condenced matrix here. See here for\n",
    "# more details: https://github.com/greenelab/phenoplier/pull/38#discussion_r634600813\n",
    "# gene_corrs_data = squareform(np.array(gene_corrs, dtype=np.float64))\n",
    "# np.fill_diagonal(gene_corrs_data, 1.0)\n",
    "\n",
    "gene_chr_ids = [g.ensembl_id for g in gene_chr_objs]\n",
    "gene_corrs_df = pd.DataFrame(\n",
    "    data=gene_corrs_data,\n",
    "    index=gene_chr_ids,\n",
    "    columns=gene_chr_ids,\n",
    ")\n",
    "\n",
    "output_dir.mkdir(exist_ok=True, parents=True)\n",
    "display(output_file)\n",
    "\n",
    "gene_corrs_df.to_pickle(output_file)"
   ]
  },
  {
   "cell_type": "markdown",
   "id": "faa67b51-5373-470f-aa72-2ded53fa6dfe",
   "metadata": {
    "papermill": {
     "duration": 1.239424,
     "end_time": "2022-12-05T17:27:40.816437",
     "exception": false,
     "start_time": "2022-12-05T17:27:39.577013",
     "status": "completed"
    },
    "tags": []
   },
   "source": [
    "# Testing"
   ]
  },
  {
   "cell_type": "code",
   "execution_count": 30,
   "id": "14f7d046-4b55-4896-a56b-990127bcc388",
   "metadata": {
    "execution": {
     "iopub.execute_input": "2022-12-05T17:27:43.338736Z",
     "iopub.status.busy": "2022-12-05T17:27:43.338432Z",
     "iopub.status.idle": "2022-12-05T17:27:43.353271Z",
     "shell.execute_reply": "2022-12-05T17:27:43.352815Z"
    },
    "papermill": {
     "duration": 1.251063,
     "end_time": "2022-12-05T17:27:43.354213",
     "exception": false,
     "start_time": "2022-12-05T17:27:42.103150",
     "status": "completed"
    },
    "tags": []
   },
   "outputs": [
    {
     "data": {
      "text/plain": [
       "(281, 281)"
      ]
     },
     "execution_count": 30,
     "metadata": {},
     "output_type": "execute_result"
    }
   ],
   "source": [
    "gene_corrs_df.shape"
   ]
  },
  {
   "cell_type": "code",
   "execution_count": 31,
   "id": "c7d15414-3297-4537-a7c6-7588c0baeb75",
   "metadata": {
    "execution": {
     "iopub.execute_input": "2022-12-05T17:27:45.767429Z",
     "iopub.status.busy": "2022-12-05T17:27:45.767124Z",
     "iopub.status.idle": "2022-12-05T17:27:45.792444Z",
     "shell.execute_reply": "2022-12-05T17:27:45.791731Z"
    },
    "papermill": {
     "duration": 1.218677,
     "end_time": "2022-12-05T17:27:45.793351",
     "exception": false,
     "start_time": "2022-12-05T17:27:44.574674",
     "status": "completed"
    },
    "tags": []
   },
   "outputs": [
    {
     "data": {
      "text/html": [
       "<div>\n",
       "<style scoped>\n",
       "    .dataframe tbody tr th:only-of-type {\n",
       "        vertical-align: middle;\n",
       "    }\n",
       "\n",
       "    .dataframe tbody tr th {\n",
       "        vertical-align: top;\n",
       "    }\n",
       "\n",
       "    .dataframe thead th {\n",
       "        text-align: right;\n",
       "    }\n",
       "</style>\n",
       "<table border=\"1\" class=\"dataframe\">\n",
       "  <thead>\n",
       "    <tr style=\"text-align: right;\">\n",
       "      <th></th>\n",
       "      <th>ENSG00000197461</th>\n",
       "      <th>ENSG00000188191</th>\n",
       "      <th>ENSG00000105963</th>\n",
       "      <th>ENSG00000198517</th>\n",
       "      <th>ENSG00000002822</th>\n",
       "      <th>ENSG00000106263</th>\n",
       "      <th>ENSG00000136213</th>\n",
       "      <th>ENSG00000106003</th>\n",
       "      <th>ENSG00000146535</th>\n",
       "      <th>ENSG00000198286</th>\n",
       "      <th>...</th>\n",
       "      <th>ENSG00000164889</th>\n",
       "      <th>ENSG00000033100</th>\n",
       "      <th>ENSG00000082014</th>\n",
       "      <th>ENSG00000013374</th>\n",
       "      <th>ENSG00000106615</th>\n",
       "      <th>ENSG00000106617</th>\n",
       "      <th>ENSG00000178234</th>\n",
       "      <th>ENSG00000009335</th>\n",
       "      <th>ENSG00000155093</th>\n",
       "      <th>ENSG00000106018</th>\n",
       "    </tr>\n",
       "  </thead>\n",
       "  <tbody>\n",
       "    <tr>\n",
       "      <th>ENSG00000197461</th>\n",
       "      <td>1.000000</td>\n",
       "      <td>0.083157</td>\n",
       "      <td>0.033978</td>\n",
       "      <td>0.003060</td>\n",
       "      <td>0.013065</td>\n",
       "      <td>0.009004</td>\n",
       "      <td>0.019057</td>\n",
       "      <td>0.012376</td>\n",
       "      <td>0.009234</td>\n",
       "      <td>0.014266</td>\n",
       "      <td>...</td>\n",
       "      <td>0.0</td>\n",
       "      <td>0.0</td>\n",
       "      <td>0.0</td>\n",
       "      <td>0.0</td>\n",
       "      <td>0.0</td>\n",
       "      <td>0.0</td>\n",
       "      <td>0.0</td>\n",
       "      <td>0.0</td>\n",
       "      <td>0.0</td>\n",
       "      <td>0.0</td>\n",
       "    </tr>\n",
       "    <tr>\n",
       "      <th>ENSG00000188191</th>\n",
       "      <td>0.083157</td>\n",
       "      <td>1.000000</td>\n",
       "      <td>0.078571</td>\n",
       "      <td>0.004194</td>\n",
       "      <td>0.009341</td>\n",
       "      <td>0.002894</td>\n",
       "      <td>0.009530</td>\n",
       "      <td>0.004923</td>\n",
       "      <td>0.002952</td>\n",
       "      <td>0.008014</td>\n",
       "      <td>...</td>\n",
       "      <td>0.0</td>\n",
       "      <td>0.0</td>\n",
       "      <td>0.0</td>\n",
       "      <td>0.0</td>\n",
       "      <td>0.0</td>\n",
       "      <td>0.0</td>\n",
       "      <td>0.0</td>\n",
       "      <td>0.0</td>\n",
       "      <td>0.0</td>\n",
       "      <td>0.0</td>\n",
       "    </tr>\n",
       "    <tr>\n",
       "      <th>ENSG00000105963</th>\n",
       "      <td>0.033978</td>\n",
       "      <td>0.078571</td>\n",
       "      <td>1.000000</td>\n",
       "      <td>0.011125</td>\n",
       "      <td>0.016978</td>\n",
       "      <td>0.006438</td>\n",
       "      <td>0.012195</td>\n",
       "      <td>0.010466</td>\n",
       "      <td>0.010749</td>\n",
       "      <td>0.018232</td>\n",
       "      <td>...</td>\n",
       "      <td>0.0</td>\n",
       "      <td>0.0</td>\n",
       "      <td>0.0</td>\n",
       "      <td>0.0</td>\n",
       "      <td>0.0</td>\n",
       "      <td>0.0</td>\n",
       "      <td>0.0</td>\n",
       "      <td>0.0</td>\n",
       "      <td>0.0</td>\n",
       "      <td>0.0</td>\n",
       "    </tr>\n",
       "    <tr>\n",
       "      <th>ENSG00000198517</th>\n",
       "      <td>0.003060</td>\n",
       "      <td>0.004194</td>\n",
       "      <td>0.011125</td>\n",
       "      <td>1.000000</td>\n",
       "      <td>0.008667</td>\n",
       "      <td>0.008283</td>\n",
       "      <td>0.012122</td>\n",
       "      <td>0.007604</td>\n",
       "      <td>0.004019</td>\n",
       "      <td>0.005604</td>\n",
       "      <td>...</td>\n",
       "      <td>0.0</td>\n",
       "      <td>0.0</td>\n",
       "      <td>0.0</td>\n",
       "      <td>0.0</td>\n",
       "      <td>0.0</td>\n",
       "      <td>0.0</td>\n",
       "      <td>0.0</td>\n",
       "      <td>0.0</td>\n",
       "      <td>0.0</td>\n",
       "      <td>0.0</td>\n",
       "    </tr>\n",
       "    <tr>\n",
       "      <th>ENSG00000002822</th>\n",
       "      <td>0.013065</td>\n",
       "      <td>0.009341</td>\n",
       "      <td>0.016978</td>\n",
       "      <td>0.008667</td>\n",
       "      <td>1.000000</td>\n",
       "      <td>0.022969</td>\n",
       "      <td>0.045137</td>\n",
       "      <td>0.019808</td>\n",
       "      <td>0.014914</td>\n",
       "      <td>0.018587</td>\n",
       "      <td>...</td>\n",
       "      <td>0.0</td>\n",
       "      <td>0.0</td>\n",
       "      <td>0.0</td>\n",
       "      <td>0.0</td>\n",
       "      <td>0.0</td>\n",
       "      <td>0.0</td>\n",
       "      <td>0.0</td>\n",
       "      <td>0.0</td>\n",
       "      <td>0.0</td>\n",
       "      <td>0.0</td>\n",
       "    </tr>\n",
       "  </tbody>\n",
       "</table>\n",
       "<p>5 rows × 281 columns</p>\n",
       "</div>"
      ],
      "text/plain": [
       "                 ENSG00000197461  ENSG00000188191  ENSG00000105963  \\\n",
       "ENSG00000197461         1.000000         0.083157         0.033978   \n",
       "ENSG00000188191         0.083157         1.000000         0.078571   \n",
       "ENSG00000105963         0.033978         0.078571         1.000000   \n",
       "ENSG00000198517         0.003060         0.004194         0.011125   \n",
       "ENSG00000002822         0.013065         0.009341         0.016978   \n",
       "\n",
       "                 ENSG00000198517  ENSG00000002822  ENSG00000106263  \\\n",
       "ENSG00000197461         0.003060         0.013065         0.009004   \n",
       "ENSG00000188191         0.004194         0.009341         0.002894   \n",
       "ENSG00000105963         0.011125         0.016978         0.006438   \n",
       "ENSG00000198517         1.000000         0.008667         0.008283   \n",
       "ENSG00000002822         0.008667         1.000000         0.022969   \n",
       "\n",
       "                 ENSG00000136213  ENSG00000106003  ENSG00000146535  \\\n",
       "ENSG00000197461         0.019057         0.012376         0.009234   \n",
       "ENSG00000188191         0.009530         0.004923         0.002952   \n",
       "ENSG00000105963         0.012195         0.010466         0.010749   \n",
       "ENSG00000198517         0.012122         0.007604         0.004019   \n",
       "ENSG00000002822         0.045137         0.019808         0.014914   \n",
       "\n",
       "                 ENSG00000198286  ...  ENSG00000164889  ENSG00000033100  \\\n",
       "ENSG00000197461         0.014266  ...              0.0              0.0   \n",
       "ENSG00000188191         0.008014  ...              0.0              0.0   \n",
       "ENSG00000105963         0.018232  ...              0.0              0.0   \n",
       "ENSG00000198517         0.005604  ...              0.0              0.0   \n",
       "ENSG00000002822         0.018587  ...              0.0              0.0   \n",
       "\n",
       "                 ENSG00000082014  ENSG00000013374  ENSG00000106615  \\\n",
       "ENSG00000197461              0.0              0.0              0.0   \n",
       "ENSG00000188191              0.0              0.0              0.0   \n",
       "ENSG00000105963              0.0              0.0              0.0   \n",
       "ENSG00000198517              0.0              0.0              0.0   \n",
       "ENSG00000002822              0.0              0.0              0.0   \n",
       "\n",
       "                 ENSG00000106617  ENSG00000178234  ENSG00000009335  \\\n",
       "ENSG00000197461              0.0              0.0              0.0   \n",
       "ENSG00000188191              0.0              0.0              0.0   \n",
       "ENSG00000105963              0.0              0.0              0.0   \n",
       "ENSG00000198517              0.0              0.0              0.0   \n",
       "ENSG00000002822              0.0              0.0              0.0   \n",
       "\n",
       "                 ENSG00000155093  ENSG00000106018  \n",
       "ENSG00000197461              0.0              0.0  \n",
       "ENSG00000188191              0.0              0.0  \n",
       "ENSG00000105963              0.0              0.0  \n",
       "ENSG00000198517              0.0              0.0  \n",
       "ENSG00000002822              0.0              0.0  \n",
       "\n",
       "[5 rows x 281 columns]"
      ]
     },
     "execution_count": 31,
     "metadata": {},
     "output_type": "execute_result"
    }
   ],
   "source": [
    "gene_corrs_df.head()"
   ]
  },
  {
   "cell_type": "markdown",
   "id": "dad6603f-01c6-41fb-a6f6-241051207dd8",
   "metadata": {
    "papermill": {
     "duration": 1.225841,
     "end_time": "2022-12-05T17:27:48.257647",
     "exception": false,
     "start_time": "2022-12-05T17:27:47.031806",
     "status": "completed"
    },
    "tags": []
   },
   "source": [
    "## Standard checks and stats"
   ]
  },
  {
   "cell_type": "code",
   "execution_count": 32,
   "id": "286686af-1b7b-4440-8453-6bdcbd8de19c",
   "metadata": {
    "execution": {
     "iopub.execute_input": "2022-12-05T17:27:50.675677Z",
     "iopub.status.busy": "2022-12-05T17:27:50.675386Z",
     "iopub.status.idle": "2022-12-05T17:27:50.690167Z",
     "shell.execute_reply": "2022-12-05T17:27:50.689684Z"
    },
    "papermill": {
     "duration": 1.25145,
     "end_time": "2022-12-05T17:27:50.691231",
     "exception": false,
     "start_time": "2022-12-05T17:27:49.439781",
     "status": "completed"
    },
    "tags": []
   },
   "outputs": [],
   "source": [
    "assert not gene_corrs_df.isna().any(axis=None)"
   ]
  },
  {
   "cell_type": "code",
   "execution_count": 33,
   "id": "00583efc-7068-4270-ad1e-4a418e91db96",
   "metadata": {
    "execution": {
     "iopub.execute_input": "2022-12-05T17:27:53.111981Z",
     "iopub.status.busy": "2022-12-05T17:27:53.111626Z",
     "iopub.status.idle": "2022-12-05T17:27:53.142095Z",
     "shell.execute_reply": "2022-12-05T17:27:53.141529Z"
    },
    "papermill": {
     "duration": 1.260433,
     "end_time": "2022-12-05T17:27:53.142927",
     "exception": false,
     "start_time": "2022-12-05T17:27:51.882494",
     "status": "completed"
    },
    "tags": []
   },
   "outputs": [
    {
     "data": {
      "text/plain": [
       "0.0"
      ]
     },
     "metadata": {},
     "output_type": "display_data"
    }
   ],
   "source": [
    "_min_val = gene_corrs_df.min().min()\n",
    "display(_min_val)\n",
    "assert _min_val >= -0.05"
   ]
  },
  {
   "cell_type": "code",
   "execution_count": 34,
   "id": "d04fb2cf-1050-475b-b855-f5f7cc04092b",
   "metadata": {
    "execution": {
     "iopub.execute_input": "2022-12-05T17:27:55.572205Z",
     "iopub.status.busy": "2022-12-05T17:27:55.571832Z",
     "iopub.status.idle": "2022-12-05T17:27:55.594587Z",
     "shell.execute_reply": "2022-12-05T17:27:55.594084Z"
    },
    "papermill": {
     "duration": 1.210958,
     "end_time": "2022-12-05T17:27:55.595428",
     "exception": false,
     "start_time": "2022-12-05T17:27:54.384470",
     "status": "completed"
    },
    "tags": []
   },
   "outputs": [
    {
     "data": {
      "text/plain": [
       "1.0000000000000029"
      ]
     },
     "metadata": {},
     "output_type": "display_data"
    }
   ],
   "source": [
    "_max_val = gene_corrs_df.max().max()  # this captures the diagonal\n",
    "display(_max_val)\n",
    "assert _max_val <= 1.05"
   ]
  },
  {
   "cell_type": "code",
   "execution_count": 35,
   "id": "fe283586-c348-40e0-8841-f6d97bfb021c",
   "metadata": {
    "execution": {
     "iopub.execute_input": "2022-12-05T17:27:58.017789Z",
     "iopub.status.busy": "2022-12-05T17:27:58.017119Z",
     "iopub.status.idle": "2022-12-05T17:27:58.044972Z",
     "shell.execute_reply": "2022-12-05T17:27:58.044251Z"
    },
    "papermill": {
     "duration": 1.21914,
     "end_time": "2022-12-05T17:27:58.045928",
     "exception": false,
     "start_time": "2022-12-05T17:27:56.826788",
     "status": "completed"
    },
    "tags": []
   },
   "outputs": [
    {
     "data": {
      "text/plain": [
       "count    39621.000000\n",
       "mean         0.010105\n",
       "std          0.088925\n",
       "min          0.000000\n",
       "25%          0.000000\n",
       "50%          0.000000\n",
       "75%          0.000000\n",
       "max          1.000000\n",
       "dtype: float64"
      ]
     },
     "execution_count": 35,
     "metadata": {},
     "output_type": "execute_result"
    }
   ],
   "source": [
    "gene_corrs_flat.describe()"
   ]
  },
  {
   "cell_type": "code",
   "execution_count": 36,
   "id": "b3815678-0f93-4b35-897b-a9d047a2aa78",
   "metadata": {
    "execution": {
     "iopub.execute_input": "2022-12-05T17:28:00.496062Z",
     "iopub.status.busy": "2022-12-05T17:28:00.495517Z",
     "iopub.status.idle": "2022-12-05T17:28:00.522625Z",
     "shell.execute_reply": "2022-12-05T17:28:00.521962Z"
    },
    "papermill": {
     "duration": 1.260363,
     "end_time": "2022-12-05T17:28:00.523579",
     "exception": false,
     "start_time": "2022-12-05T17:27:59.263216",
     "status": "completed"
    },
    "tags": []
   },
   "outputs": [
    {
     "data": {
      "text/plain": [
       "0.00    0.000000\n",
       "0.05    0.000000\n",
       "0.10    0.000000\n",
       "0.15    0.000000\n",
       "0.20    0.000000\n",
       "0.25    0.000000\n",
       "0.30    0.000000\n",
       "0.35    0.000000\n",
       "0.40    0.000000\n",
       "0.45    0.000000\n",
       "0.50    0.000000\n",
       "0.55    0.000000\n",
       "0.60    0.000000\n",
       "0.65    0.000000\n",
       "0.70    0.000000\n",
       "0.75    0.000000\n",
       "0.80    0.000000\n",
       "0.85    0.000000\n",
       "0.90    0.000000\n",
       "0.95    0.007193\n",
       "dtype: float64"
      ]
     },
     "metadata": {},
     "output_type": "display_data"
    }
   ],
   "source": [
    "gene_corrs_quantiles = gene_corrs_flat.quantile(np.arange(0, 1, 0.05))\n",
    "display(gene_corrs_quantiles)"
   ]
  },
  {
   "cell_type": "markdown",
   "id": "87134509-b145-4a10-8bc9-b7e914c2b0fa",
   "metadata": {
    "papermill": {
     "duration": 1.248702,
     "end_time": "2022-12-05T17:28:02.980969",
     "exception": false,
     "start_time": "2022-12-05T17:28:01.732267",
     "status": "completed"
    },
    "tags": []
   },
   "source": [
    "## Positive definiteness"
   ]
  },
  {
   "cell_type": "code",
   "execution_count": 37,
   "id": "07d9a9a1-a4f7-48aa-b916-6d42a8cc6186",
   "metadata": {
    "execution": {
     "iopub.execute_input": "2022-12-05T17:28:05.390631Z",
     "iopub.status.busy": "2022-12-05T17:28:05.390166Z",
     "iopub.status.idle": "2022-12-05T17:28:05.426721Z",
     "shell.execute_reply": "2022-12-05T17:28:05.426026Z"
    },
    "papermill": {
     "duration": 1.256639,
     "end_time": "2022-12-05T17:28:05.427721",
     "exception": false,
     "start_time": "2022-12-05T17:28:04.171082",
     "status": "completed"
    },
    "tags": []
   },
   "outputs": [
    {
     "data": {
      "text/plain": [
       "0"
      ]
     },
     "metadata": {},
     "output_type": "display_data"
    },
    {
     "data": {
      "text/plain": [
       "array([], dtype=float64)"
      ]
     },
     "metadata": {},
     "output_type": "display_data"
    }
   ],
   "source": [
    "# print negative eigenvalues\n",
    "eigs = np.linalg.eigvals(gene_corrs_df.to_numpy())\n",
    "display(len(eigs[eigs < 0]))\n",
    "display(eigs[eigs < 0])"
   ]
  },
  {
   "cell_type": "code",
   "execution_count": 38,
   "id": "6e218436-c3c5-4028-8c94-a4fa6260efce",
   "metadata": {
    "execution": {
     "iopub.execute_input": "2022-12-05T17:28:07.878942Z",
     "iopub.status.busy": "2022-12-05T17:28:07.878537Z",
     "iopub.status.idle": "2022-12-05T17:28:07.907842Z",
     "shell.execute_reply": "2022-12-05T17:28:07.907154Z"
    },
    "papermill": {
     "duration": 1.219743,
     "end_time": "2022-12-05T17:28:07.908787",
     "exception": false,
     "start_time": "2022-12-05T17:28:06.689044",
     "status": "completed"
    },
    "tags": []
   },
   "outputs": [
    {
     "name": "stdout",
     "output_type": "stream",
     "text": [
      "Works!\n"
     ]
    }
   ],
   "source": [
    "try:\n",
    "    chol_mat = np.linalg.cholesky(gene_corrs_df.to_numpy())\n",
    "    cov_inv = np.linalg.inv(chol_mat)\n",
    "    print(\"Works!\")\n",
    "except Exception as e:\n",
    "    print(f\"Cholesky decomposition failed: {str(e)}\")"
   ]
  },
  {
   "cell_type": "code",
   "execution_count": 39,
   "id": "dd8827fb-faf9-4c7c-9454-015e94752706",
   "metadata": {
    "execution": {
     "iopub.execute_input": "2022-12-05T17:28:10.338967Z",
     "iopub.status.busy": "2022-12-05T17:28:10.338402Z",
     "iopub.status.idle": "2022-12-05T17:28:10.367671Z",
     "shell.execute_reply": "2022-12-05T17:28:10.366986Z"
    },
    "papermill": {
     "duration": 1.237149,
     "end_time": "2022-12-05T17:28:10.368589",
     "exception": false,
     "start_time": "2022-12-05T17:28:09.131440",
     "status": "completed"
    },
    "tags": []
   },
   "outputs": [
    {
     "name": "stdout",
     "output_type": "stream",
     "text": [
      "Works!\n"
     ]
    }
   ],
   "source": [
    "try:\n",
    "    # decomposition used by statsmodels.GLS\n",
    "    cholsigmainv = np.linalg.cholesky(np.linalg.inv(gene_corrs_df.to_numpy())).T\n",
    "    print(\"Works!\")\n",
    "except Exception as e:\n",
    "    print(f\"Cholesky decomposition failed (statsmodels.GLS): {str(e)}\")"
   ]
  },
  {
   "cell_type": "markdown",
   "id": "8e60a080-edb2-4e9c-b2ef-22961693200c",
   "metadata": {
    "papermill": {
     "duration": 1.270222,
     "end_time": "2022-12-05T17:28:12.974888",
     "exception": false,
     "start_time": "2022-12-05T17:28:11.704666",
     "status": "completed"
    },
    "tags": []
   },
   "source": [
    "## Plot: distribution"
   ]
  },
  {
   "cell_type": "code",
   "execution_count": 40,
   "id": "8301126b-a7d4-4744-9c7d-f0f86eb6f54c",
   "metadata": {
    "execution": {
     "iopub.execute_input": "2022-12-05T17:28:15.536255Z",
     "iopub.status.busy": "2022-12-05T17:28:15.535633Z",
     "iopub.status.idle": "2022-12-05T17:28:16.352728Z",
     "shell.execute_reply": "2022-12-05T17:28:16.352185Z"
    },
    "papermill": {
     "duration": 2.163587,
     "end_time": "2022-12-05T17:28:16.353841",
     "exception": false,
     "start_time": "2022-12-05T17:28:14.190254",
     "status": "completed"
    },
    "tags": []
   },
   "outputs": [
    {
     "data": {
      "image/png": "[encoded data removed]",
      "text/plain": [
       "<Figure size 700x700 with 1 Axes>"
      ]
     },
     "metadata": {},
     "output_type": "display_data"
    }
   ],
   "source": [
    "with sns.plotting_context(\"paper\", font_scale=1.5):\n",
    "    g = sns.displot(gene_corrs_flat, kde=True, height=7)\n",
    "    g.ax.set_title(\n",
    "        f\"Distribution of gene correlation values in chromosome {CHROMOSOME}\"\n",
    "    )"
   ]
  },
  {
   "cell_type": "markdown",
   "id": "cbd52bca-d878-4a2f-b684-5c83aa3038d4",
   "metadata": {
    "papermill": {
     "duration": 1.212441,
     "end_time": "2022-12-05T17:28:18.842791",
     "exception": false,
     "start_time": "2022-12-05T17:28:17.630350",
     "status": "completed"
    },
    "tags": []
   },
   "source": [
    "## Plot: heatmap"
   ]
  },
  {
   "cell_type": "code",
   "execution_count": 41,
   "id": "d03fe63a-c7b2-4fb9-a53c-db362ce843c9",
   "metadata": {
    "execution": {
     "iopub.execute_input": "2022-12-05T17:28:21.340217Z",
     "iopub.status.busy": "2022-12-05T17:28:21.339715Z",
     "iopub.status.idle": "2022-12-05T17:28:21.362487Z",
     "shell.execute_reply": "2022-12-05T17:28:21.361679Z"
    },
    "papermill": {
     "duration": 1.239352,
     "end_time": "2022-12-05T17:28:21.363387",
     "exception": false,
     "start_time": "2022-12-05T17:28:20.124035",
     "status": "completed"
    },
    "tags": []
   },
   "outputs": [
    {
     "data": {
      "text/plain": [
       "'0.0 / 0.05'"
      ]
     },
     "metadata": {},
     "output_type": "display_data"
    }
   ],
   "source": [
    "vmin_val = min(0.00, gene_corrs_quantiles[0.10])\n",
    "vmax_val = max(0.05, gene_corrs_quantiles[0.90])\n",
    "display(f\"{vmin_val} / {vmax_val}\")"
   ]
  },
  {
   "cell_type": "code",
   "execution_count": 42,
   "id": "dc41b70b-5bcc-4d9e-9f33-a22c4a94dab5",
   "metadata": {
    "execution": {
     "iopub.execute_input": "2022-12-05T17:28:23.891734Z",
     "iopub.status.busy": "2022-12-05T17:28:23.891487Z",
     "iopub.status.idle": "2022-12-05T17:28:24.085931Z",
     "shell.execute_reply": "2022-12-05T17:28:24.085465Z"
    },
    "papermill": {
     "duration": 1.493788,
     "end_time": "2022-12-05T17:28:24.086758",
     "exception": false,
     "start_time": "2022-12-05T17:28:22.592970",
     "status": "completed"
    },
    "tags": []
   },
   "outputs": [
    {
     "data": {
      "text/plain": [
       "Text(0.5, 1.0, 'Gene correlations in chromosome 7')"
      ]
     },
     "execution_count": 42,
     "metadata": {},
     "output_type": "execute_result"
    },
    {
     "data": {
      "image/png": "[encoded data removed]",
      "text/plain": [
       "<Figure size 1000x1000 with 2 Axes>"
      ]
     },
     "metadata": {},
     "output_type": "display_data"
    }
   ],
   "source": [
    "f, ax = plt.subplots(figsize=(10, 10))\n",
    "sns.heatmap(\n",
    "    gene_corrs_df,\n",
    "    xticklabels=False,\n",
    "    yticklabels=False,\n",
    "    square=True,\n",
    "    vmin=vmin_val,\n",
    "    vmax=vmax_val,\n",
    "    cmap=\"rocket_r\",\n",
    "    ax=ax,\n",
    ")\n",
    "ax.set_title(f\"Gene correlations in chromosome {CHROMOSOME}\")"
   ]
  },
  {
   "cell_type": "code",
   "execution_count": null,
   "id": "b25e3ead",
   "metadata": {
    "papermill": {
     "duration": 1.209546,
     "end_time": "2022-12-05T17:28:26.530151",
     "exception": false,
     "start_time": "2022-12-05T17:28:25.320605",
     "status": "completed"
    },
    "tags": []
   },
   "outputs": [],
   "source": []
  }
 ],
 "metadata": {
  "jupytext": {
   "cell_metadata_filter": "all,-execution,-papermill,-trusted",
   "formats": "ipynb,py//py:percent"
  },
  "kernelspec": {
   "display_name": "Python 3 (ipykernel)",
   "language": "python",
   "name": "python3"
  },
  "language_info": {
   "codemirror_mode": {
    "name": "ipython",
    "version": 3
   },
   "file_extension": ".py",
   "mimetype": "text/x-python",
   "name": "python",
   "nbconvert_exporter": "python",
   "pygments_lexer": "ipython3",
   "version": "3.10.6"
  },
  "papermill": {
   "default_parameters": {},
   "duration": 261.368292,
   "end_time": "2022-12-05T17:28:30.972239",
   "environment_variables": {},
   "exception": null,
   "input_path": "projects/asthma-copd/nbs/20_gene_corrs/jobs/05-gene_expr_correlations.ipynb",
   "output_path": "projects/asthma-copd/nbs/20_gene_corrs/jobs/../output/aco/05-gene_expr_correlations-chr7.run.ipynb",
   "parameters": {
    "CHROMOSOME": 7,
    "COHORT_NAME": "aco",
    "OUTPUT_DIR_BASE": "/opt/data/projects/asthma-copd/results/gls_phenoplier",
    "PHENOPLIER_NOTEBOOK_FILEPATH": "projects/asthma-copd/nbs/20_gene_corrs/jobs/05-gene_expr_correlations.ipynb"
   },
   "start_time": "2022-12-05T17:24:09.603947",
   "version": "2.2.2"
  }
 },
 "nbformat": 4,
 "nbformat_minor": 5
}
