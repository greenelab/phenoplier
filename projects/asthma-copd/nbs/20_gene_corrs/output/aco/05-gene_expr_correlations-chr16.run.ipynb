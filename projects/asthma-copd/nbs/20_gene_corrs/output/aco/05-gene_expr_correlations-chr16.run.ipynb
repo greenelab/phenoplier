{
 "cells": [
  {
   "cell_type": "markdown",
   "id": "7a6632fb",
   "metadata": {
    "papermill": {
     "duration": 0.00963,
     "end_time": "2022-12-05T17:31:45.220478",
     "exception": false,
     "start_time": "2022-12-05T17:31:45.210848",
     "status": "completed"
    },
    "tags": []
   },
   "source": [
    "# Description"
   ]
  },
  {
   "cell_type": "markdown",
   "id": "7097c346",
   "metadata": {
    "papermill": {
     "duration": 0.008083,
     "end_time": "2022-12-05T17:31:45.238019",
     "exception": false,
     "start_time": "2022-12-05T17:31:45.229936",
     "status": "completed"
    },
    "tags": []
   },
   "source": [
    "(Please, take a look at the README.md file in this directory for instructions on how to run this notebook)\n",
    "\n",
    "This notebook computes predicted expression correlations between all genes in the MultiPLIER models.\n",
    "\n",
    "It has specicfic parameters for papermill (see under `Settings` below).\n",
    "It can be configured to run on a single chromosome to run in parallel.\n",
    "\n",
    "This notebook is not directly run. See README.md."
   ]
  },
  {
   "cell_type": "markdown",
   "id": "c61d8427",
   "metadata": {
    "papermill": {
     "duration": 0.008056,
     "end_time": "2022-12-05T17:31:45.254177",
     "exception": false,
     "start_time": "2022-12-05T17:31:45.246121",
     "status": "completed"
    },
    "tags": []
   },
   "source": [
    "# Modules"
   ]
  },
  {
   "cell_type": "code",
   "execution_count": 1,
   "id": "bbc0234f",
   "metadata": {
    "execution": {
     "iopub.execute_input": "2022-12-05T17:31:45.272791Z",
     "iopub.status.busy": "2022-12-05T17:31:45.272365Z",
     "iopub.status.idle": "2022-12-05T17:31:45.291080Z",
     "shell.execute_reply": "2022-12-05T17:31:45.290446Z"
    },
    "papermill": {
     "duration": 0.029388,
     "end_time": "2022-12-05T17:31:45.292599",
     "exception": false,
     "start_time": "2022-12-05T17:31:45.263211",
     "status": "completed"
    },
    "tags": []
   },
   "outputs": [],
   "source": [
    "%load_ext autoreload\n",
    "%autoreload 2"
   ]
  },
  {
   "cell_type": "code",
   "execution_count": 2,
   "id": "1d5f5a59",
   "metadata": {
    "execution": {
     "iopub.execute_input": "2022-12-05T17:31:45.310696Z",
     "iopub.status.busy": "2022-12-05T17:31:45.310088Z",
     "iopub.status.idle": "2022-12-05T17:31:46.002021Z",
     "shell.execute_reply": "2022-12-05T17:31:46.001480Z"
    },
    "papermill": {
     "duration": 0.702774,
     "end_time": "2022-12-05T17:31:46.003771",
     "exception": false,
     "start_time": "2022-12-05T17:31:45.300997",
     "status": "completed"
    },
    "tags": []
   },
   "outputs": [],
   "source": [
    "from random import sample, seed\n",
    "import warnings\n",
    "from pathlib import Path\n",
    "import pickle\n",
    "import traceback\n",
    "\n",
    "import numpy as np\n",
    "from scipy.spatial.distance import squareform\n",
    "import pandas as pd\n",
    "from tqdm import tqdm\n",
    "import matplotlib.pyplot as plt\n",
    "import seaborn as sns\n",
    "\n",
    "import conf\n",
    "from entity import Gene"
   ]
  },
  {
   "cell_type": "markdown",
   "id": "1eac24b5",
   "metadata": {
    "papermill": {
     "duration": 0.009778,
     "end_time": "2022-12-05T17:31:46.022831",
     "exception": false,
     "start_time": "2022-12-05T17:31:46.013053",
     "status": "completed"
    },
    "tags": []
   },
   "source": [
    "# Settings"
   ]
  },
  {
   "cell_type": "code",
   "execution_count": 3,
   "id": "ca4560ba",
   "metadata": {
    "execution": {
     "iopub.execute_input": "2022-12-05T17:31:46.039997Z",
     "iopub.status.busy": "2022-12-05T17:31:46.039842Z",
     "iopub.status.idle": "2022-12-05T17:31:46.053460Z",
     "shell.execute_reply": "2022-12-05T17:31:46.052960Z"
    },
    "papermill": {
     "duration": 0.024045,
     "end_time": "2022-12-05T17:31:46.055014",
     "exception": false,
     "start_time": "2022-12-05T17:31:46.030969",
     "status": "completed"
    },
    "tags": [
     "parameters"
    ]
   },
   "outputs": [],
   "source": [
    "# a cohort name (it could be something like UK_BIOBANK, etc)\n",
    "COHORT_NAME = None\n",
    "\n",
    "# reference panel such as 1000G or GTEX_V8\n",
    "REFERENCE_PANEL = \"GTEX_V8\"\n",
    "\n",
    "# predictions models such as MASHR or ELASTIC_NET\n",
    "EQTL_MODEL = \"MASHR\"\n",
    "\n",
    "# this is the default value used in S-MultiXcan to select the\n",
    "# top principal components of the expression correlation matrix\n",
    "SMULTIXCAN_CONDITION_NUMBER = 30\n",
    "\n",
    "# specifies a single chromosome value\n",
    "CHROMOSOME = None\n",
    "\n",
    "# If True, computes the correlation between closeby genes only (see\n",
    "# entity.Gene.within_distance for more details). Otherwise, it computes\n",
    "# correlations for all genes in a chromosome\n",
    "COMPUTE_CORRELATIONS_WITHIN_DISTANCE = True\n",
    "\n",
    "# if True, then it will continue if a gene pair correlation fails,\n",
    "# printing the warning/error for debugging. If False, any warning/error\n",
    "# will be thrown\n",
    "DEBUG_MODE = False\n",
    "\n",
    "# output dir\n",
    "OUTPUT_DIR_BASE = None"
   ]
  },
  {
   "cell_type": "code",
   "execution_count": 4,
   "id": "e89e7a26",
   "metadata": {
    "execution": {
     "iopub.execute_input": "2022-12-05T17:31:46.072955Z",
     "iopub.status.busy": "2022-12-05T17:31:46.072751Z",
     "iopub.status.idle": "2022-12-05T17:31:46.085684Z",
     "shell.execute_reply": "2022-12-05T17:31:46.085185Z"
    },
    "papermill": {
     "duration": 0.02362,
     "end_time": "2022-12-05T17:31:46.087146",
     "exception": false,
     "start_time": "2022-12-05T17:31:46.063526",
     "status": "completed"
    },
    "tags": [
     "injected-parameters"
    ]
   },
   "outputs": [],
   "source": [
    "# Parameters\n",
    "PHENOPLIER_NOTEBOOK_FILEPATH = (\n",
    "    \"projects/asthma-copd/nbs/20_gene_corrs/jobs/05-gene_expr_correlations.ipynb\"\n",
    ")\n",
    "COHORT_NAME = \"aco\"\n",
    "CHROMOSOME = 16\n",
    "OUTPUT_DIR_BASE = \"/opt/data/projects/asthma-copd/results/gls_phenoplier\"\n"
   ]
  },
  {
   "cell_type": "code",
   "execution_count": 5,
   "id": "3190631f-27fc-480f-b18e-571d580425a5",
   "metadata": {
    "execution": {
     "iopub.execute_input": "2022-12-05T17:31:46.104703Z",
     "iopub.status.busy": "2022-12-05T17:31:46.104526Z",
     "iopub.status.idle": "2022-12-05T17:31:46.126687Z",
     "shell.execute_reply": "2022-12-05T17:31:46.126154Z"
    },
    "papermill": {
     "duration": 0.032365,
     "end_time": "2022-12-05T17:31:46.128145",
     "exception": false,
     "start_time": "2022-12-05T17:31:46.095780",
     "status": "completed"
    },
    "tags": []
   },
   "outputs": [
    {
     "data": {
      "text/plain": [
       "'Cohort name: aco'"
      ]
     },
     "metadata": {},
     "output_type": "display_data"
    }
   ],
   "source": [
    "assert COHORT_NAME is not None and len(COHORT_NAME) > 0, \"A cohort name must be given\"\n",
    "\n",
    "COHORT_NAME = COHORT_NAME.lower()\n",
    "display(f\"Cohort name: {COHORT_NAME}\")"
   ]
  },
  {
   "cell_type": "code",
   "execution_count": 6,
   "id": "f53ba19b-0f93-4fa2-a047-63b375939d1a",
   "metadata": {
    "execution": {
     "iopub.execute_input": "2022-12-05T17:31:46.146293Z",
     "iopub.status.busy": "2022-12-05T17:31:46.145925Z",
     "iopub.status.idle": "2022-12-05T17:31:46.163725Z",
     "shell.execute_reply": "2022-12-05T17:31:46.163212Z"
    },
    "papermill": {
     "duration": 0.028129,
     "end_time": "2022-12-05T17:31:46.165105",
     "exception": false,
     "start_time": "2022-12-05T17:31:46.136976",
     "status": "completed"
    },
    "tags": []
   },
   "outputs": [
    {
     "data": {
      "text/plain": [
       "'Reference panel: GTEX_V8'"
      ]
     },
     "metadata": {},
     "output_type": "display_data"
    }
   ],
   "source": [
    "assert (\n",
    "    REFERENCE_PANEL is not None and len(REFERENCE_PANEL) > 0\n",
    "), \"A reference panel must be given\"\n",
    "\n",
    "display(f\"Reference panel: {REFERENCE_PANEL}\")"
   ]
  },
  {
   "cell_type": "code",
   "execution_count": 7,
   "id": "e024d130-c139-429a-9c6e-ccf149e297b0",
   "metadata": {
    "execution": {
     "iopub.execute_input": "2022-12-05T17:31:46.184159Z",
     "iopub.status.busy": "2022-12-05T17:31:46.183643Z",
     "iopub.status.idle": "2022-12-05T17:31:46.206410Z",
     "shell.execute_reply": "2022-12-05T17:31:46.205805Z"
    },
    "papermill": {
     "duration": 0.033506,
     "end_time": "2022-12-05T17:31:46.207825",
     "exception": false,
     "start_time": "2022-12-05T17:31:46.174319",
     "status": "completed"
    },
    "tags": []
   },
   "outputs": [
    {
     "data": {
      "text/plain": [
       "'eQTL model: MASHR) / mashr_'"
      ]
     },
     "metadata": {},
     "output_type": "display_data"
    }
   ],
   "source": [
    "assert (\n",
    "    EQTL_MODEL is not None and len(EQTL_MODEL) > 0\n",
    "), \"A prediction/eQTL model must be given\"\n",
    "\n",
    "EQTL_MODEL_FILES_PREFIX = conf.PHENOMEXCAN[\"PREDICTION_MODELS\"][f\"{EQTL_MODEL}_PREFIX\"]\n",
    "display(f\"eQTL model: {EQTL_MODEL}) / {EQTL_MODEL_FILES_PREFIX}\")"
   ]
  },
  {
   "cell_type": "code",
   "execution_count": 8,
   "id": "552a7f63-a18c-4d3e-bb6a-94f99b431291",
   "metadata": {
    "execution": {
     "iopub.execute_input": "2022-12-05T17:31:46.226595Z",
     "iopub.status.busy": "2022-12-05T17:31:46.226092Z",
     "iopub.status.idle": "2022-12-05T17:31:46.248438Z",
     "shell.execute_reply": "2022-12-05T17:31:46.247859Z"
    },
    "papermill": {
     "duration": 0.033287,
     "end_time": "2022-12-05T17:31:46.249946",
     "exception": false,
     "start_time": "2022-12-05T17:31:46.216659",
     "status": "completed"
    },
    "tags": []
   },
   "outputs": [
    {
     "data": {
      "text/plain": [
       "'S-MultiXcan condition number: 30'"
      ]
     },
     "metadata": {},
     "output_type": "display_data"
    }
   ],
   "source": [
    "assert (\n",
    "    SMULTIXCAN_CONDITION_NUMBER is not None and SMULTIXCAN_CONDITION_NUMBER > 0\n",
    "), \"The S-MultiXcan condition number (positive integer) must be given\"\n",
    "\n",
    "display(f\"S-MultiXcan condition number: {SMULTIXCAN_CONDITION_NUMBER}\")"
   ]
  },
  {
   "cell_type": "code",
   "execution_count": 9,
   "id": "f34a336f-548e-4afe-8955-90eaea4f42c6",
   "metadata": {
    "execution": {
     "iopub.execute_input": "2022-12-05T17:31:46.269577Z",
     "iopub.status.busy": "2022-12-05T17:31:46.269182Z",
     "iopub.status.idle": "2022-12-05T17:31:46.283677Z",
     "shell.execute_reply": "2022-12-05T17:31:46.283204Z"
    },
    "papermill": {
     "duration": 0.026027,
     "end_time": "2022-12-05T17:31:46.285003",
     "exception": false,
     "start_time": "2022-12-05T17:31:46.258976",
     "status": "completed"
    },
    "tags": []
   },
   "outputs": [
    {
     "data": {
      "text/plain": [
       "'Working on chromosome 16'"
      ]
     },
     "metadata": {},
     "output_type": "display_data"
    }
   ],
   "source": [
    "assert CHROMOSOME is not None and (\n",
    "    1 <= CHROMOSOME <= 22\n",
    "), \"You have to select one chromosome (format: number between 1 and 22)\"\n",
    "\n",
    "display(f\"Working on chromosome {CHROMOSOME}\")"
   ]
  },
  {
   "cell_type": "code",
   "execution_count": 10,
   "id": "ab8e96e8-06b5-4363-9dcd-dc4d78cc27f7",
   "metadata": {
    "execution": {
     "iopub.execute_input": "2022-12-05T17:31:46.304137Z",
     "iopub.status.busy": "2022-12-05T17:31:46.303859Z",
     "iopub.status.idle": "2022-12-05T17:31:46.318449Z",
     "shell.execute_reply": "2022-12-05T17:31:46.317966Z"
    },
    "papermill": {
     "duration": 0.025731,
     "end_time": "2022-12-05T17:31:46.319758",
     "exception": false,
     "start_time": "2022-12-05T17:31:46.294027",
     "status": "completed"
    },
    "tags": []
   },
   "outputs": [
    {
     "data": {
      "text/plain": [
       "'Compute correlation within distance True'"
      ]
     },
     "metadata": {},
     "output_type": "display_data"
    }
   ],
   "source": [
    "display(f\"Compute correlation within distance {COMPUTE_CORRELATIONS_WITHIN_DISTANCE}\")"
   ]
  },
  {
   "cell_type": "code",
   "execution_count": 11,
   "id": "b393b698-77e3-4ba2-8ac1-e14d51aa988f",
   "metadata": {
    "execution": {
     "iopub.execute_input": "2022-12-05T17:31:46.339520Z",
     "iopub.status.busy": "2022-12-05T17:31:46.339011Z",
     "iopub.status.idle": "2022-12-05T17:31:46.360709Z",
     "shell.execute_reply": "2022-12-05T17:31:46.360079Z"
    },
    "papermill": {
     "duration": 0.033315,
     "end_time": "2022-12-05T17:31:46.362174",
     "exception": false,
     "start_time": "2022-12-05T17:31:46.328859",
     "status": "completed"
    },
    "tags": []
   },
   "outputs": [
    {
     "data": {
      "text/plain": [
       "'Using output dir base: /opt/data/projects/asthma-copd/results/gls_phenoplier/gene_corrs/aco'"
      ]
     },
     "metadata": {},
     "output_type": "display_data"
    }
   ],
   "source": [
    "assert (\n",
    "    OUTPUT_DIR_BASE is not None and len(OUTPUT_DIR_BASE) > 0\n",
    "), \"Output directory path must be given\"\n",
    "\n",
    "OUTPUT_DIR_BASE = (Path(OUTPUT_DIR_BASE) / \"gene_corrs\" / COHORT_NAME).resolve()\n",
    "\n",
    "OUTPUT_DIR_BASE.mkdir(parents=True, exist_ok=True)\n",
    "\n",
    "display(f\"Using output dir base: {OUTPUT_DIR_BASE}\")"
   ]
  },
  {
   "cell_type": "markdown",
   "id": "d2ba085e",
   "metadata": {
    "papermill": {
     "duration": 0.009031,
     "end_time": "2022-12-05T17:31:46.380661",
     "exception": false,
     "start_time": "2022-12-05T17:31:46.371630",
     "status": "completed"
    },
    "tags": []
   },
   "source": [
    "# Load data"
   ]
  },
  {
   "cell_type": "markdown",
   "id": "7dcb8db7",
   "metadata": {
    "papermill": {
     "duration": 0.00908,
     "end_time": "2022-12-05T17:31:46.398944",
     "exception": false,
     "start_time": "2022-12-05T17:31:46.389864",
     "status": "completed"
    },
    "tags": []
   },
   "source": [
    "## GWAS variants"
   ]
  },
  {
   "cell_type": "code",
   "execution_count": 12,
   "id": "29434c4e-8cd3-4b9b-82e4-b5a251d9dd19",
   "metadata": {
    "execution": {
     "iopub.execute_input": "2022-12-05T17:31:46.418014Z",
     "iopub.status.busy": "2022-12-05T17:31:46.417508Z",
     "iopub.status.idle": "2022-12-05T17:31:48.649345Z",
     "shell.execute_reply": "2022-12-05T17:31:48.648814Z"
    },
    "papermill": {
     "duration": 2.242729,
     "end_time": "2022-12-05T17:31:48.651327",
     "exception": false,
     "start_time": "2022-12-05T17:31:46.408598",
     "status": "completed"
    },
    "tags": []
   },
   "outputs": [],
   "source": [
    "with open(OUTPUT_DIR_BASE / \"gwas_variant_ids.pkl\", \"rb\") as handle:\n",
    "    gwas_variants_ids_set = pickle.load(handle)"
   ]
  },
  {
   "cell_type": "code",
   "execution_count": 13,
   "id": "b9d9dec2-4a76-4bf9-bde2-e24c95acb8a0",
   "metadata": {
    "execution": {
     "iopub.execute_input": "2022-12-05T17:31:48.673749Z",
     "iopub.status.busy": "2022-12-05T17:31:48.673492Z",
     "iopub.status.idle": "2022-12-05T17:31:48.687860Z",
     "shell.execute_reply": "2022-12-05T17:31:48.687383Z"
    },
    "papermill": {
     "duration": 0.026564,
     "end_time": "2022-12-05T17:31:48.689316",
     "exception": false,
     "start_time": "2022-12-05T17:31:48.662752",
     "status": "completed"
    },
    "tags": []
   },
   "outputs": [
    {
     "data": {
      "text/plain": [
       "8561476"
      ]
     },
     "execution_count": 13,
     "metadata": {},
     "output_type": "execute_result"
    }
   ],
   "source": [
    "len(gwas_variants_ids_set)"
   ]
  },
  {
   "cell_type": "code",
   "execution_count": 14,
   "id": "4235b06a-6034-4ee4-a0a3-2ae35d122418",
   "metadata": {
    "execution": {
     "iopub.execute_input": "2022-12-05T17:31:48.710029Z",
     "iopub.status.busy": "2022-12-05T17:31:48.709774Z",
     "iopub.status.idle": "2022-12-05T17:31:49.464756Z",
     "shell.execute_reply": "2022-12-05T17:31:49.464234Z"
    },
    "papermill": {
     "duration": 0.767353,
     "end_time": "2022-12-05T17:31:49.466226",
     "exception": false,
     "start_time": "2022-12-05T17:31:48.698873",
     "status": "completed"
    },
    "tags": []
   },
   "outputs": [
    {
     "data": {
      "text/plain": [
       "['chr22_21600652_C_T_b38',\n",
       " 'chr14_91372434_C_T_b38',\n",
       " 'chr4_121364573_G_A_b38',\n",
       " 'chr2_130352524_T_C_b38',\n",
       " 'chr5_75161339_C_T_b38']"
      ]
     },
     "execution_count": 14,
     "metadata": {},
     "output_type": "execute_result"
    }
   ],
   "source": [
    "list(gwas_variants_ids_set)[:5]"
   ]
  },
  {
   "cell_type": "markdown",
   "id": "07866999-2305-41f9-a144-e69c9122c212",
   "metadata": {
    "papermill": {
     "duration": 0.00981,
     "end_time": "2022-12-05T17:31:49.485900",
     "exception": false,
     "start_time": "2022-12-05T17:31:49.476090",
     "status": "completed"
    },
    "tags": []
   },
   "source": [
    "## S-PrediXcan tissue models"
   ]
  },
  {
   "cell_type": "code",
   "execution_count": 15,
   "id": "780611d9-77c8-405f-90a4-f271f7b09397",
   "metadata": {
    "execution": {
     "iopub.execute_input": "2022-12-05T17:31:49.507151Z",
     "iopub.status.busy": "2022-12-05T17:31:49.506887Z",
     "iopub.status.idle": "2022-12-05T17:31:49.866900Z",
     "shell.execute_reply": "2022-12-05T17:31:49.866271Z"
    },
    "papermill": {
     "duration": 0.372988,
     "end_time": "2022-12-05T17:31:49.868681",
     "exception": false,
     "start_time": "2022-12-05T17:31:49.495693",
     "status": "completed"
    },
    "tags": []
   },
   "outputs": [],
   "source": [
    "spredixcan_genes_models = pd.read_pickle(OUTPUT_DIR_BASE / \"gene_tissues.pkl\")"
   ]
  },
  {
   "cell_type": "code",
   "execution_count": 16,
   "id": "726dd1f6-9557-4225-91fa-b3b879ea96e1",
   "metadata": {
    "execution": {
     "iopub.execute_input": "2022-12-05T17:31:49.889472Z",
     "iopub.status.busy": "2022-12-05T17:31:49.889207Z",
     "iopub.status.idle": "2022-12-05T17:31:49.903774Z",
     "shell.execute_reply": "2022-12-05T17:31:49.903272Z"
    },
    "papermill": {
     "duration": 0.026621,
     "end_time": "2022-12-05T17:31:49.905294",
     "exception": false,
     "start_time": "2022-12-05T17:31:49.878673",
     "status": "completed"
    },
    "tags": []
   },
   "outputs": [
    {
     "data": {
      "text/plain": [
       "(6442, 5)"
      ]
     },
     "execution_count": 16,
     "metadata": {},
     "output_type": "execute_result"
    }
   ],
   "source": [
    "spredixcan_genes_models.shape"
   ]
  },
  {
   "cell_type": "code",
   "execution_count": 17,
   "id": "944a1b48-222c-4eb0-b252-b9de2cbca215",
   "metadata": {
    "execution": {
     "iopub.execute_input": "2022-12-05T17:31:49.928019Z",
     "iopub.status.busy": "2022-12-05T17:31:49.927498Z",
     "iopub.status.idle": "2022-12-05T17:31:49.946212Z",
     "shell.execute_reply": "2022-12-05T17:31:49.945689Z"
    },
    "papermill": {
     "duration": 0.032044,
     "end_time": "2022-12-05T17:31:49.947556",
     "exception": false,
     "start_time": "2022-12-05T17:31:49.915512",
     "status": "completed"
    },
    "tags": []
   },
   "outputs": [
    {
     "data": {
      "text/html": [
       "<div>\n",
       "<style scoped>\n",
       "    .dataframe tbody tr th:only-of-type {\n",
       "        vertical-align: middle;\n",
       "    }\n",
       "\n",
       "    .dataframe tbody tr th {\n",
       "        vertical-align: top;\n",
       "    }\n",
       "\n",
       "    .dataframe thead th {\n",
       "        text-align: right;\n",
       "    }\n",
       "</style>\n",
       "<table border=\"1\" class=\"dataframe\">\n",
       "  <thead>\n",
       "    <tr style=\"text-align: right;\">\n",
       "      <th></th>\n",
       "      <th>gene_name</th>\n",
       "      <th>tissue</th>\n",
       "      <th>n_tissues</th>\n",
       "      <th>n_snps_used_sum</th>\n",
       "      <th>n_snps_in_model_sum</th>\n",
       "    </tr>\n",
       "    <tr>\n",
       "      <th>gene_id</th>\n",
       "      <th></th>\n",
       "      <th></th>\n",
       "      <th></th>\n",
       "      <th></th>\n",
       "      <th></th>\n",
       "    </tr>\n",
       "  </thead>\n",
       "  <tbody>\n",
       "    <tr>\n",
       "      <th>ENSG00000000419</th>\n",
       "      <td>DPM1</td>\n",
       "      <td>(Brain_Substantia_nigra, Brain_Hypothalamus)</td>\n",
       "      <td>2</td>\n",
       "      <td>2</td>\n",
       "      <td>2</td>\n",
       "    </tr>\n",
       "    <tr>\n",
       "      <th>ENSG00000000938</th>\n",
       "      <td>FGR</td>\n",
       "      <td>(Colon_Transverse, Heart_Left_Ventricle, Whole...</td>\n",
       "      <td>36</td>\n",
       "      <td>40</td>\n",
       "      <td>40</td>\n",
       "    </tr>\n",
       "    <tr>\n",
       "      <th>ENSG00000000971</th>\n",
       "      <td>CFH</td>\n",
       "      <td>(Colon_Transverse, Artery_Coronary, Cells_Cult...</td>\n",
       "      <td>34</td>\n",
       "      <td>44</td>\n",
       "      <td>44</td>\n",
       "    </tr>\n",
       "    <tr>\n",
       "      <th>ENSG00000001084</th>\n",
       "      <td>GCLC</td>\n",
       "      <td>(Colon_Transverse, Artery_Coronary, Cells_Cult...</td>\n",
       "      <td>32</td>\n",
       "      <td>46</td>\n",
       "      <td>46</td>\n",
       "    </tr>\n",
       "    <tr>\n",
       "      <th>ENSG00000001167</th>\n",
       "      <td>NFYA</td>\n",
       "      <td>(Colon_Transverse, Artery_Coronary, Cells_Cult...</td>\n",
       "      <td>40</td>\n",
       "      <td>47</td>\n",
       "      <td>48</td>\n",
       "    </tr>\n",
       "  </tbody>\n",
       "</table>\n",
       "</div>"
      ],
      "text/plain": [
       "                gene_name                                             tissue  \\\n",
       "gene_id                                                                        \n",
       "ENSG00000000419      DPM1       (Brain_Substantia_nigra, Brain_Hypothalamus)   \n",
       "ENSG00000000938       FGR  (Colon_Transverse, Heart_Left_Ventricle, Whole...   \n",
       "ENSG00000000971       CFH  (Colon_Transverse, Artery_Coronary, Cells_Cult...   \n",
       "ENSG00000001084      GCLC  (Colon_Transverse, Artery_Coronary, Cells_Cult...   \n",
       "ENSG00000001167      NFYA  (Colon_Transverse, Artery_Coronary, Cells_Cult...   \n",
       "\n",
       "                 n_tissues  n_snps_used_sum  n_snps_in_model_sum  \n",
       "gene_id                                                           \n",
       "ENSG00000000419          2                2                    2  \n",
       "ENSG00000000938         36               40                   40  \n",
       "ENSG00000000971         34               44                   44  \n",
       "ENSG00000001084         32               46                   46  \n",
       "ENSG00000001167         40               47                   48  "
      ]
     },
     "execution_count": 17,
     "metadata": {},
     "output_type": "execute_result"
    }
   ],
   "source": [
    "spredixcan_genes_models.head()"
   ]
  },
  {
   "cell_type": "code",
   "execution_count": 18,
   "id": "d1c11bb1-be0b-4f40-b360-633d6827109f",
   "metadata": {
    "execution": {
     "iopub.execute_input": "2022-12-05T17:31:49.969036Z",
     "iopub.status.busy": "2022-12-05T17:31:49.968577Z",
     "iopub.status.idle": "2022-12-05T17:31:49.982810Z",
     "shell.execute_reply": "2022-12-05T17:31:49.982274Z"
    },
    "papermill": {
     "duration": 0.026593,
     "end_time": "2022-12-05T17:31:49.984328",
     "exception": false,
     "start_time": "2022-12-05T17:31:49.957735",
     "status": "completed"
    },
    "tags": []
   },
   "outputs": [],
   "source": [
    "assert spredixcan_genes_models.index.is_unique"
   ]
  },
  {
   "cell_type": "markdown",
   "id": "a5b5092c-a13e-47c4-a92a-480fcc08f3ae",
   "metadata": {
    "papermill": {
     "duration": 0.014821,
     "end_time": "2022-12-05T17:31:50.009843",
     "exception": false,
     "start_time": "2022-12-05T17:31:49.995022",
     "status": "completed"
    },
    "tags": []
   },
   "source": [
    "## Gene info"
   ]
  },
  {
   "cell_type": "code",
   "execution_count": 19,
   "id": "7d6bb224-88e9-4358-ac10-43a41d92cdad",
   "metadata": {
    "execution": {
     "iopub.execute_input": "2022-12-05T17:31:50.031206Z",
     "iopub.status.busy": "2022-12-05T17:31:50.030897Z",
     "iopub.status.idle": "2022-12-05T17:31:50.046866Z",
     "shell.execute_reply": "2022-12-05T17:31:50.046339Z"
    },
    "papermill": {
     "duration": 0.027777,
     "end_time": "2022-12-05T17:31:50.047739",
     "exception": false,
     "start_time": "2022-12-05T17:31:50.019962",
     "status": "completed"
    },
    "tags": []
   },
   "outputs": [],
   "source": [
    "genes_info = pd.read_pickle(OUTPUT_DIR_BASE / \"genes_info.pkl\")"
   ]
  },
  {
   "cell_type": "code",
   "execution_count": 20,
   "id": "9e32abfa-546d-483e-8c18-d526e9e05903",
   "metadata": {
    "execution": {
     "iopub.execute_input": "2022-12-05T17:31:50.060385Z",
     "iopub.status.busy": "2022-12-05T17:31:50.060132Z",
     "iopub.status.idle": "2022-12-05T17:31:50.074866Z",
     "shell.execute_reply": "2022-12-05T17:31:50.074328Z"
    },
    "papermill": {
     "duration": 0.02227,
     "end_time": "2022-12-05T17:31:50.075775",
     "exception": false,
     "start_time": "2022-12-05T17:31:50.053505",
     "status": "completed"
    },
    "tags": []
   },
   "outputs": [
    {
     "data": {
      "text/plain": [
       "(6442, 7)"
      ]
     },
     "execution_count": 20,
     "metadata": {},
     "output_type": "execute_result"
    }
   ],
   "source": [
    "genes_info.shape"
   ]
  },
  {
   "cell_type": "code",
   "execution_count": 21,
   "id": "d16c3e92-85ec-468a-9a56-e25a9774a1cb",
   "metadata": {
    "execution": {
     "iopub.execute_input": "2022-12-05T17:31:50.088066Z",
     "iopub.status.busy": "2022-12-05T17:31:50.087799Z",
     "iopub.status.idle": "2022-12-05T17:31:50.105117Z",
     "shell.execute_reply": "2022-12-05T17:31:50.104559Z"
    },
    "papermill": {
     "duration": 0.024666,
     "end_time": "2022-12-05T17:31:50.106074",
     "exception": false,
     "start_time": "2022-12-05T17:31:50.081408",
     "status": "completed"
    },
    "tags": []
   },
   "outputs": [
    {
     "data": {
      "text/html": [
       "<div>\n",
       "<style scoped>\n",
       "    .dataframe tbody tr th:only-of-type {\n",
       "        vertical-align: middle;\n",
       "    }\n",
       "\n",
       "    .dataframe tbody tr th {\n",
       "        vertical-align: top;\n",
       "    }\n",
       "\n",
       "    .dataframe thead th {\n",
       "        text-align: right;\n",
       "    }\n",
       "</style>\n",
       "<table border=\"1\" class=\"dataframe\">\n",
       "  <thead>\n",
       "    <tr style=\"text-align: right;\">\n",
       "      <th></th>\n",
       "      <th>name</th>\n",
       "      <th>id</th>\n",
       "      <th>chr</th>\n",
       "      <th>band</th>\n",
       "      <th>start_position</th>\n",
       "      <th>end_position</th>\n",
       "      <th>gene_length</th>\n",
       "    </tr>\n",
       "  </thead>\n",
       "  <tbody>\n",
       "    <tr>\n",
       "      <th>0</th>\n",
       "      <td>ASPM</td>\n",
       "      <td>ENSG00000066279</td>\n",
       "      <td>1</td>\n",
       "      <td>1q31.3</td>\n",
       "      <td>197084127</td>\n",
       "      <td>197146694</td>\n",
       "      <td>62567</td>\n",
       "    </tr>\n",
       "    <tr>\n",
       "      <th>1</th>\n",
       "      <td>GPAM</td>\n",
       "      <td>ENSG00000119927</td>\n",
       "      <td>10</td>\n",
       "      <td>10q25.2</td>\n",
       "      <td>112149865</td>\n",
       "      <td>112215377</td>\n",
       "      <td>65512</td>\n",
       "    </tr>\n",
       "    <tr>\n",
       "      <th>2</th>\n",
       "      <td>MAPK7</td>\n",
       "      <td>ENSG00000166484</td>\n",
       "      <td>17</td>\n",
       "      <td>17p11.2</td>\n",
       "      <td>19377721</td>\n",
       "      <td>19383544</td>\n",
       "      <td>5823</td>\n",
       "    </tr>\n",
       "    <tr>\n",
       "      <th>3</th>\n",
       "      <td>SLC3A2</td>\n",
       "      <td>ENSG00000168003</td>\n",
       "      <td>11</td>\n",
       "      <td>11q12.3</td>\n",
       "      <td>62856102</td>\n",
       "      <td>62888875</td>\n",
       "      <td>32773</td>\n",
       "    </tr>\n",
       "    <tr>\n",
       "      <th>4</th>\n",
       "      <td>GINS2</td>\n",
       "      <td>ENSG00000131153</td>\n",
       "      <td>16</td>\n",
       "      <td>16q24.1</td>\n",
       "      <td>85676198</td>\n",
       "      <td>85690073</td>\n",
       "      <td>13875</td>\n",
       "    </tr>\n",
       "  </tbody>\n",
       "</table>\n",
       "</div>"
      ],
      "text/plain": [
       "     name               id  chr     band  start_position  end_position  \\\n",
       "0    ASPM  ENSG00000066279    1   1q31.3       197084127     197146694   \n",
       "1    GPAM  ENSG00000119927   10  10q25.2       112149865     112215377   \n",
       "2   MAPK7  ENSG00000166484   17  17p11.2        19377721      19383544   \n",
       "3  SLC3A2  ENSG00000168003   11  11q12.3        62856102      62888875   \n",
       "4   GINS2  ENSG00000131153   16  16q24.1        85676198      85690073   \n",
       "\n",
       "   gene_length  \n",
       "0        62567  \n",
       "1        65512  \n",
       "2         5823  \n",
       "3        32773  \n",
       "4        13875  "
      ]
     },
     "execution_count": 21,
     "metadata": {},
     "output_type": "execute_result"
    }
   ],
   "source": [
    "genes_info.head()"
   ]
  },
  {
   "cell_type": "markdown",
   "id": "d3843e06",
   "metadata": {
    "papermill": {
     "duration": 0.005842,
     "end_time": "2022-12-05T17:31:50.118226",
     "exception": false,
     "start_time": "2022-12-05T17:31:50.112384",
     "status": "completed"
    },
    "tags": []
   },
   "source": [
    "# Compute correlations"
   ]
  },
  {
   "cell_type": "code",
   "execution_count": 22,
   "id": "cb859c15-d1f3-4006-a74c-2b83c0db9611",
   "metadata": {
    "execution": {
     "iopub.execute_input": "2022-12-05T17:31:50.131801Z",
     "iopub.status.busy": "2022-12-05T17:31:50.131147Z",
     "iopub.status.idle": "2022-12-05T17:31:50.155574Z",
     "shell.execute_reply": "2022-12-05T17:31:50.154898Z"
    },
    "papermill": {
     "duration": 0.032504,
     "end_time": "2022-12-05T17:31:50.156500",
     "exception": false,
     "start_time": "2022-12-05T17:31:50.123996",
     "status": "completed"
    },
    "tags": []
   },
   "outputs": [
    {
     "data": {
      "text/plain": [
       "PosixPath('/opt/data/projects/asthma-copd/results/gls_phenoplier/gene_corrs/aco/by_chr/gene_corrs-chr16.pkl')"
      ]
     },
     "metadata": {},
     "output_type": "display_data"
    }
   ],
   "source": [
    "output_dir = OUTPUT_DIR_BASE / \"by_chr\"\n",
    "output_dir.mkdir(exist_ok=True, parents=True)\n",
    "output_file = output_dir / f\"gene_corrs-chr{CHROMOSOME}.pkl\"\n",
    "display(output_file)"
   ]
  },
  {
   "cell_type": "code",
   "execution_count": 23,
   "id": "aa674fe4-6794-4eed-98fa-32b39d1d4ace",
   "metadata": {
    "execution": {
     "iopub.execute_input": "2022-12-05T17:31:50.170457Z",
     "iopub.status.busy": "2022-12-05T17:31:50.169897Z",
     "iopub.status.idle": "2022-12-05T17:31:50.191925Z",
     "shell.execute_reply": "2022-12-05T17:31:50.191210Z"
    },
    "papermill": {
     "duration": 0.030097,
     "end_time": "2022-12-05T17:31:50.193008",
     "exception": false,
     "start_time": "2022-12-05T17:31:50.162911",
     "status": "completed"
    },
    "tags": []
   },
   "outputs": [],
   "source": [
    "warnings.filterwarnings(\"error\")"
   ]
  },
  {
   "cell_type": "code",
   "execution_count": 24,
   "id": "44d5450b-3baf-43f1-9e2e-4b06f1a785f8",
   "metadata": {
    "execution": {
     "iopub.execute_input": "2022-12-05T17:31:50.206778Z",
     "iopub.status.busy": "2022-12-05T17:31:50.206242Z",
     "iopub.status.idle": "2022-12-05T17:31:50.229194Z",
     "shell.execute_reply": "2022-12-05T17:31:50.228442Z"
    },
    "papermill": {
     "duration": 0.031351,
     "end_time": "2022-12-05T17:31:50.230293",
     "exception": false,
     "start_time": "2022-12-05T17:31:50.198942",
     "status": "completed"
    },
    "tags": []
   },
   "outputs": [],
   "source": [
    "# standard checks\n",
    "all_chrs = genes_info[\"chr\"].dropna().unique()\n",
    "assert all_chrs.shape[0] == 22\n",
    "\n",
    "# select chromosome given by the user\n",
    "assert CHROMOSOME in all_chrs"
   ]
  },
  {
   "cell_type": "code",
   "execution_count": 25,
   "id": "2d7c043c-92a7-4d35-991b-fa69ac1e0268",
   "metadata": {
    "execution": {
     "iopub.execute_input": "2022-12-05T17:31:50.243275Z",
     "iopub.status.busy": "2022-12-05T17:31:50.242827Z",
     "iopub.status.idle": "2022-12-05T17:31:50.258821Z",
     "shell.execute_reply": "2022-12-05T17:31:50.258085Z"
    },
    "papermill": {
     "duration": 0.02335,
     "end_time": "2022-12-05T17:31:50.259807",
     "exception": false,
     "start_time": "2022-12-05T17:31:50.236457",
     "status": "completed"
    },
    "tags": []
   },
   "outputs": [
    {
     "name": "stdout",
     "output_type": "stream",
     "text": [
      "Number of genes in chromosome: 274\n"
     ]
    }
   ],
   "source": [
    "# run only on the chromosome specified\n",
    "all_chrs = [CHROMOSOME]\n",
    "genes_chr = genes_info[genes_info[\"chr\"] == CHROMOSOME]\n",
    "\n",
    "# For testing purposes\n",
    "# genes_chr = genes_chr.sample(n=20)\n",
    "\n",
    "print(f\"Number of genes in chromosome: {genes_chr.shape[0]}\", flush=True)"
   ]
  },
  {
   "cell_type": "code",
   "execution_count": 26,
   "id": "916015d8-2979-46d3-a9b9-1cf5a0932c6a",
   "metadata": {
    "execution": {
     "iopub.execute_input": "2022-12-05T17:31:50.272269Z",
     "iopub.status.busy": "2022-12-05T17:31:50.271820Z",
     "iopub.status.idle": "2022-12-05T17:31:50.294708Z",
     "shell.execute_reply": "2022-12-05T17:31:50.293950Z"
    },
    "papermill": {
     "duration": 0.030336,
     "end_time": "2022-12-05T17:31:50.295744",
     "exception": false,
     "start_time": "2022-12-05T17:31:50.265408",
     "status": "completed"
    },
    "tags": []
   },
   "outputs": [],
   "source": [
    "# sort genes by starting position to make visualizations better later\n",
    "genes_chr = genes_chr.sort_values(\"start_position\")"
   ]
  },
  {
   "cell_type": "code",
   "execution_count": 27,
   "id": "a38aa74a-8ad3-47f6-8ef9-56be0e011774",
   "metadata": {
    "execution": {
     "iopub.execute_input": "2022-12-05T17:31:50.308935Z",
     "iopub.status.busy": "2022-12-05T17:31:50.308376Z",
     "iopub.status.idle": "2022-12-05T17:31:50.331437Z",
     "shell.execute_reply": "2022-12-05T17:31:50.330729Z"
    },
    "papermill": {
     "duration": 0.031701,
     "end_time": "2022-12-05T17:31:50.333274",
     "exception": false,
     "start_time": "2022-12-05T17:31:50.301573",
     "status": "completed"
    },
    "tags": []
   },
   "outputs": [],
   "source": [
    "gene_chr_objs = [Gene(ensembl_id=gene_id) for gene_id in genes_chr[\"id\"]]"
   ]
  },
  {
   "cell_type": "code",
   "execution_count": 28,
   "id": "570f974f-13c3-42b6-ad3a-ce99ca885c1a",
   "metadata": {
    "execution": {
     "iopub.execute_input": "2022-12-05T17:31:50.358290Z",
     "iopub.status.busy": "2022-12-05T17:31:50.357762Z",
     "iopub.status.idle": "2022-12-05T17:31:50.380940Z",
     "shell.execute_reply": "2022-12-05T17:31:50.380205Z"
    },
    "papermill": {
     "duration": 0.03748,
     "end_time": "2022-12-05T17:31:50.382403",
     "exception": false,
     "start_time": "2022-12-05T17:31:50.344923",
     "status": "completed"
    },
    "tags": []
   },
   "outputs": [
    {
     "name": "stdout",
     "output_type": "stream",
     "text": [
      "Number of gene combinations: 37675\n"
     ]
    }
   ],
   "source": [
    "n = len(gene_chr_objs)\n",
    "# diagonal elements + upper triangular matrix\n",
    "n_comb = n + int(n * (n - 1) / 2.0)\n",
    "print(f\"Number of gene combinations: {n_comb}\", flush=True)"
   ]
  },
  {
   "cell_type": "code",
   "execution_count": 29,
   "id": "cdbb90a1",
   "metadata": {
    "execution": {
     "iopub.execute_input": "2022-12-05T17:31:50.406987Z",
     "iopub.status.busy": "2022-12-05T17:31:50.406439Z",
     "iopub.status.idle": "2022-12-05T17:37:09.907418Z",
     "shell.execute_reply": "2022-12-05T17:37:09.906832Z"
    },
    "papermill": {
     "duration": 319.514875,
     "end_time": "2022-12-05T17:37:09.908796",
     "exception": false,
     "start_time": "2022-12-05T17:31:50.393921",
     "status": "completed"
    },
    "tags": []
   },
   "outputs": [
    {
     "name": "stderr",
     "output_type": "stream",
     "text": [
      "ENSG00000258947 / ENSG00000258947: 100%|█████████████████████| 37675/37675 [05:19<00:00, 117.93it/s]\n"
     ]
    },
    {
     "data": {
      "text/plain": [
       "PosixPath('/opt/data/projects/asthma-copd/results/gls_phenoplier/gene_corrs/aco/by_chr/gene_corrs-chr16.pkl')"
      ]
     },
     "metadata": {},
     "output_type": "display_data"
    }
   ],
   "source": [
    "gene_corrs = []\n",
    "gene_corrs_data = np.full(\n",
    "    (n, n),\n",
    "    np.nan,\n",
    "    dtype=np.float64,\n",
    ")\n",
    "\n",
    "i = 0\n",
    "with tqdm(ncols=100, total=n_comb) as pbar:\n",
    "    for gene1_idx in range(0, len(gene_chr_objs)):\n",
    "        gene1_obj = gene_chr_objs[gene1_idx]\n",
    "        gene1_tissues = spredixcan_genes_models.loc[gene1_obj.ensembl_id, \"tissue\"]\n",
    "\n",
    "        for gene2_idx in range(gene1_idx, len(gene_chr_objs)):\n",
    "            gene2_obj = gene_chr_objs[gene2_idx]\n",
    "            gene2_tissues = spredixcan_genes_models.loc[gene2_obj.ensembl_id, \"tissue\"]\n",
    "\n",
    "            pbar.set_description(f\"{gene1_obj.ensembl_id} / {gene2_obj.ensembl_id}\")\n",
    "\n",
    "            try:\n",
    "                r = gene1_obj.get_ssm_correlation(\n",
    "                    other_gene=gene2_obj,\n",
    "                    tissues=gene1_tissues,\n",
    "                    other_tissues=gene2_tissues,\n",
    "                    snps_subset=gwas_variants_ids_set,\n",
    "                    condition_number=SMULTIXCAN_CONDITION_NUMBER,\n",
    "                    reference_panel=REFERENCE_PANEL,\n",
    "                    model_type=EQTL_MODEL,\n",
    "                    use_within_distance=COMPUTE_CORRELATIONS_WITHIN_DISTANCE,\n",
    "                )\n",
    "\n",
    "                if r is None:\n",
    "                    # if r is None, it's very likely because:\n",
    "                    #  * one of the genes has no prediction models\n",
    "                    #  * all the SNPs predictors for the gene are not present in the reference\n",
    "                    #    panel\n",
    "\n",
    "                    r = 0.0\n",
    "\n",
    "                gene_corrs.append(r)\n",
    "\n",
    "                gene_corrs_data[gene1_idx, gene2_idx] = r\n",
    "                gene_corrs_data[gene2_idx, gene1_idx] = r\n",
    "            except Warning as e:\n",
    "                if not DEBUG_MODE:\n",
    "                    raise e\n",
    "\n",
    "                print(\n",
    "                    f\"RuntimeWarning for genes {gene1_obj.ensembl_id} and {gene2_obj.ensembl_id}\",\n",
    "                    flush=True,\n",
    "                )\n",
    "                print(traceback.format_exc(), flush=True)\n",
    "\n",
    "                gene_corrs.append(np.nan)\n",
    "            except Exception as e:\n",
    "                if not DEBUG_MODE:\n",
    "                    raise e\n",
    "\n",
    "                print(\n",
    "                    f\"Exception for genes {gene1_obj.ensembl_id} and {gene2_obj.ensembl_id}\",\n",
    "                    flush=True,\n",
    "                )\n",
    "                print(traceback.format_exc(), flush=True)\n",
    "\n",
    "                gene_corrs.append(np.nan)\n",
    "\n",
    "            pbar.update(1)\n",
    "\n",
    "# create a pandas series\n",
    "gene_corrs_flat = pd.Series(gene_corrs)\n",
    "\n",
    "# save\n",
    "# FIXME: consider saving only the condenced matrix here. See here for\n",
    "# more details: https://github.com/greenelab/phenoplier/pull/38#discussion_r634600813\n",
    "# gene_corrs_data = squareform(np.array(gene_corrs, dtype=np.float64))\n",
    "# np.fill_diagonal(gene_corrs_data, 1.0)\n",
    "\n",
    "gene_chr_ids = [g.ensembl_id for g in gene_chr_objs]\n",
    "gene_corrs_df = pd.DataFrame(\n",
    "    data=gene_corrs_data,\n",
    "    index=gene_chr_ids,\n",
    "    columns=gene_chr_ids,\n",
    ")\n",
    "\n",
    "output_dir.mkdir(exist_ok=True, parents=True)\n",
    "display(output_file)\n",
    "\n",
    "gene_corrs_df.to_pickle(output_file)"
   ]
  },
  {
   "cell_type": "markdown",
   "id": "faa67b51-5373-470f-aa72-2ded53fa6dfe",
   "metadata": {
    "papermill": {
     "duration": 1.159547,
     "end_time": "2022-12-05T17:37:12.315099",
     "exception": false,
     "start_time": "2022-12-05T17:37:11.155552",
     "status": "completed"
    },
    "tags": []
   },
   "source": [
    "# Testing"
   ]
  },
  {
   "cell_type": "code",
   "execution_count": 30,
   "id": "14f7d046-4b55-4896-a56b-990127bcc388",
   "metadata": {
    "execution": {
     "iopub.execute_input": "2022-12-05T17:37:14.733588Z",
     "iopub.status.busy": "2022-12-05T17:37:14.733174Z",
     "iopub.status.idle": "2022-12-05T17:37:14.756417Z",
     "shell.execute_reply": "2022-12-05T17:37:14.755824Z"
    },
    "papermill": {
     "duration": 1.242898,
     "end_time": "2022-12-05T17:37:14.757401",
     "exception": false,
     "start_time": "2022-12-05T17:37:13.514503",
     "status": "completed"
    },
    "tags": []
   },
   "outputs": [
    {
     "data": {
      "text/plain": [
       "(274, 274)"
      ]
     },
     "execution_count": 30,
     "metadata": {},
     "output_type": "execute_result"
    }
   ],
   "source": [
    "gene_corrs_df.shape"
   ]
  },
  {
   "cell_type": "code",
   "execution_count": 31,
   "id": "c7d15414-3297-4537-a7c6-7588c0baeb75",
   "metadata": {
    "execution": {
     "iopub.execute_input": "2022-12-05T17:37:17.070535Z",
     "iopub.status.busy": "2022-12-05T17:37:17.070173Z",
     "iopub.status.idle": "2022-12-05T17:37:17.106946Z",
     "shell.execute_reply": "2022-12-05T17:37:17.106448Z"
    },
    "papermill": {
     "duration": 1.166788,
     "end_time": "2022-12-05T17:37:17.107782",
     "exception": false,
     "start_time": "2022-12-05T17:37:15.940994",
     "status": "completed"
    },
    "tags": []
   },
   "outputs": [
    {
     "data": {
      "text/html": [
       "<div>\n",
       "<style scoped>\n",
       "    .dataframe tbody tr th:only-of-type {\n",
       "        vertical-align: middle;\n",
       "    }\n",
       "\n",
       "    .dataframe tbody tr th {\n",
       "        vertical-align: top;\n",
       "    }\n",
       "\n",
       "    .dataframe thead th {\n",
       "        text-align: right;\n",
       "    }\n",
       "</style>\n",
       "<table border=\"1\" class=\"dataframe\">\n",
       "  <thead>\n",
       "    <tr style=\"text-align: right;\">\n",
       "      <th></th>\n",
       "      <th>ENSG00000161980</th>\n",
       "      <th>ENSG00000103152</th>\n",
       "      <th>ENSG00000206172</th>\n",
       "      <th>ENSG00000086506</th>\n",
       "      <th>ENSG00000076344</th>\n",
       "      <th>ENSG00000103126</th>\n",
       "      <th>ENSG00000086504</th>\n",
       "      <th>ENSG00000103202</th>\n",
       "      <th>ENSG00000242612</th>\n",
       "      <th>ENSG00000090565</th>\n",
       "      <th>...</th>\n",
       "      <th>ENSG00000051523</th>\n",
       "      <th>ENSG00000167508</th>\n",
       "      <th>ENSG00000167513</th>\n",
       "      <th>ENSG00000198931</th>\n",
       "      <th>ENSG00000141012</th>\n",
       "      <th>ENSG00000129993</th>\n",
       "      <th>ENSG00000167526</th>\n",
       "      <th>ENSG00000187741</th>\n",
       "      <th>ENSG00000258839</th>\n",
       "      <th>ENSG00000258947</th>\n",
       "    </tr>\n",
       "  </thead>\n",
       "  <tbody>\n",
       "    <tr>\n",
       "      <th>ENSG00000161980</th>\n",
       "      <td>1.000000</td>\n",
       "      <td>0.311909</td>\n",
       "      <td>0.008425</td>\n",
       "      <td>0.032054</td>\n",
       "      <td>0.013127</td>\n",
       "      <td>0.016392</td>\n",
       "      <td>0.010935</td>\n",
       "      <td>0.013421</td>\n",
       "      <td>0.017843</td>\n",
       "      <td>0.013448</td>\n",
       "      <td>...</td>\n",
       "      <td>0.0</td>\n",
       "      <td>0.0</td>\n",
       "      <td>0.0</td>\n",
       "      <td>0.0</td>\n",
       "      <td>0.0</td>\n",
       "      <td>0.0</td>\n",
       "      <td>0.0</td>\n",
       "      <td>0.0</td>\n",
       "      <td>0.0</td>\n",
       "      <td>0.0</td>\n",
       "    </tr>\n",
       "    <tr>\n",
       "      <th>ENSG00000103152</th>\n",
       "      <td>0.311909</td>\n",
       "      <td>1.000000</td>\n",
       "      <td>0.034104</td>\n",
       "      <td>0.120279</td>\n",
       "      <td>0.061832</td>\n",
       "      <td>0.029735</td>\n",
       "      <td>0.025689</td>\n",
       "      <td>0.010517</td>\n",
       "      <td>0.008693</td>\n",
       "      <td>0.009125</td>\n",
       "      <td>...</td>\n",
       "      <td>0.0</td>\n",
       "      <td>0.0</td>\n",
       "      <td>0.0</td>\n",
       "      <td>0.0</td>\n",
       "      <td>0.0</td>\n",
       "      <td>0.0</td>\n",
       "      <td>0.0</td>\n",
       "      <td>0.0</td>\n",
       "      <td>0.0</td>\n",
       "      <td>0.0</td>\n",
       "    </tr>\n",
       "    <tr>\n",
       "      <th>ENSG00000206172</th>\n",
       "      <td>0.008425</td>\n",
       "      <td>0.034104</td>\n",
       "      <td>1.000000</td>\n",
       "      <td>0.059261</td>\n",
       "      <td>0.062245</td>\n",
       "      <td>0.025327</td>\n",
       "      <td>0.103654</td>\n",
       "      <td>0.014437</td>\n",
       "      <td>0.013527</td>\n",
       "      <td>0.011204</td>\n",
       "      <td>...</td>\n",
       "      <td>0.0</td>\n",
       "      <td>0.0</td>\n",
       "      <td>0.0</td>\n",
       "      <td>0.0</td>\n",
       "      <td>0.0</td>\n",
       "      <td>0.0</td>\n",
       "      <td>0.0</td>\n",
       "      <td>0.0</td>\n",
       "      <td>0.0</td>\n",
       "      <td>0.0</td>\n",
       "    </tr>\n",
       "    <tr>\n",
       "      <th>ENSG00000086506</th>\n",
       "      <td>0.032054</td>\n",
       "      <td>0.120279</td>\n",
       "      <td>0.059261</td>\n",
       "      <td>1.000000</td>\n",
       "      <td>0.169380</td>\n",
       "      <td>0.092479</td>\n",
       "      <td>0.080608</td>\n",
       "      <td>0.014114</td>\n",
       "      <td>0.017748</td>\n",
       "      <td>0.022424</td>\n",
       "      <td>...</td>\n",
       "      <td>0.0</td>\n",
       "      <td>0.0</td>\n",
       "      <td>0.0</td>\n",
       "      <td>0.0</td>\n",
       "      <td>0.0</td>\n",
       "      <td>0.0</td>\n",
       "      <td>0.0</td>\n",
       "      <td>0.0</td>\n",
       "      <td>0.0</td>\n",
       "      <td>0.0</td>\n",
       "    </tr>\n",
       "    <tr>\n",
       "      <th>ENSG00000076344</th>\n",
       "      <td>0.013127</td>\n",
       "      <td>0.061832</td>\n",
       "      <td>0.062245</td>\n",
       "      <td>0.169380</td>\n",
       "      <td>1.000000</td>\n",
       "      <td>0.133766</td>\n",
       "      <td>0.121072</td>\n",
       "      <td>0.064562</td>\n",
       "      <td>0.023406</td>\n",
       "      <td>0.024921</td>\n",
       "      <td>...</td>\n",
       "      <td>0.0</td>\n",
       "      <td>0.0</td>\n",
       "      <td>0.0</td>\n",
       "      <td>0.0</td>\n",
       "      <td>0.0</td>\n",
       "      <td>0.0</td>\n",
       "      <td>0.0</td>\n",
       "      <td>0.0</td>\n",
       "      <td>0.0</td>\n",
       "      <td>0.0</td>\n",
       "    </tr>\n",
       "  </tbody>\n",
       "</table>\n",
       "<p>5 rows × 274 columns</p>\n",
       "</div>"
      ],
      "text/plain": [
       "                 ENSG00000161980  ENSG00000103152  ENSG00000206172  \\\n",
       "ENSG00000161980         1.000000         0.311909         0.008425   \n",
       "ENSG00000103152         0.311909         1.000000         0.034104   \n",
       "ENSG00000206172         0.008425         0.034104         1.000000   \n",
       "ENSG00000086506         0.032054         0.120279         0.059261   \n",
       "ENSG00000076344         0.013127         0.061832         0.062245   \n",
       "\n",
       "                 ENSG00000086506  ENSG00000076344  ENSG00000103126  \\\n",
       "ENSG00000161980         0.032054         0.013127         0.016392   \n",
       "ENSG00000103152         0.120279         0.061832         0.029735   \n",
       "ENSG00000206172         0.059261         0.062245         0.025327   \n",
       "ENSG00000086506         1.000000         0.169380         0.092479   \n",
       "ENSG00000076344         0.169380         1.000000         0.133766   \n",
       "\n",
       "                 ENSG00000086504  ENSG00000103202  ENSG00000242612  \\\n",
       "ENSG00000161980         0.010935         0.013421         0.017843   \n",
       "ENSG00000103152         0.025689         0.010517         0.008693   \n",
       "ENSG00000206172         0.103654         0.014437         0.013527   \n",
       "ENSG00000086506         0.080608         0.014114         0.017748   \n",
       "ENSG00000076344         0.121072         0.064562         0.023406   \n",
       "\n",
       "                 ENSG00000090565  ...  ENSG00000051523  ENSG00000167508  \\\n",
       "ENSG00000161980         0.013448  ...              0.0              0.0   \n",
       "ENSG00000103152         0.009125  ...              0.0              0.0   \n",
       "ENSG00000206172         0.011204  ...              0.0              0.0   \n",
       "ENSG00000086506         0.022424  ...              0.0              0.0   \n",
       "ENSG00000076344         0.024921  ...              0.0              0.0   \n",
       "\n",
       "                 ENSG00000167513  ENSG00000198931  ENSG00000141012  \\\n",
       "ENSG00000161980              0.0              0.0              0.0   \n",
       "ENSG00000103152              0.0              0.0              0.0   \n",
       "ENSG00000206172              0.0              0.0              0.0   \n",
       "ENSG00000086506              0.0              0.0              0.0   \n",
       "ENSG00000076344              0.0              0.0              0.0   \n",
       "\n",
       "                 ENSG00000129993  ENSG00000167526  ENSG00000187741  \\\n",
       "ENSG00000161980              0.0              0.0              0.0   \n",
       "ENSG00000103152              0.0              0.0              0.0   \n",
       "ENSG00000206172              0.0              0.0              0.0   \n",
       "ENSG00000086506              0.0              0.0              0.0   \n",
       "ENSG00000076344              0.0              0.0              0.0   \n",
       "\n",
       "                 ENSG00000258839  ENSG00000258947  \n",
       "ENSG00000161980              0.0              0.0  \n",
       "ENSG00000103152              0.0              0.0  \n",
       "ENSG00000206172              0.0              0.0  \n",
       "ENSG00000086506              0.0              0.0  \n",
       "ENSG00000076344              0.0              0.0  \n",
       "\n",
       "[5 rows x 274 columns]"
      ]
     },
     "execution_count": 31,
     "metadata": {},
     "output_type": "execute_result"
    }
   ],
   "source": [
    "gene_corrs_df.head()"
   ]
  },
  {
   "cell_type": "markdown",
   "id": "dad6603f-01c6-41fb-a6f6-241051207dd8",
   "metadata": {
    "papermill": {
     "duration": 1.166853,
     "end_time": "2022-12-05T17:37:19.436252",
     "exception": false,
     "start_time": "2022-12-05T17:37:18.269399",
     "status": "completed"
    },
    "tags": []
   },
   "source": [
    "## Standard checks and stats"
   ]
  },
  {
   "cell_type": "code",
   "execution_count": 32,
   "id": "286686af-1b7b-4440-8453-6bdcbd8de19c",
   "metadata": {
    "execution": {
     "iopub.execute_input": "2022-12-05T17:37:21.739124Z",
     "iopub.status.busy": "2022-12-05T17:37:21.738701Z",
     "iopub.status.idle": "2022-12-05T17:37:21.762768Z",
     "shell.execute_reply": "2022-12-05T17:37:21.762088Z"
    },
    "papermill": {
     "duration": 1.174837,
     "end_time": "2022-12-05T17:37:21.763794",
     "exception": false,
     "start_time": "2022-12-05T17:37:20.588957",
     "status": "completed"
    },
    "tags": []
   },
   "outputs": [],
   "source": [
    "assert not gene_corrs_df.isna().any(axis=None)"
   ]
  },
  {
   "cell_type": "code",
   "execution_count": 33,
   "id": "00583efc-7068-4270-ad1e-4a418e91db96",
   "metadata": {
    "execution": {
     "iopub.execute_input": "2022-12-05T17:37:24.099063Z",
     "iopub.status.busy": "2022-12-05T17:37:24.098636Z",
     "iopub.status.idle": "2022-12-05T17:37:24.124060Z",
     "shell.execute_reply": "2022-12-05T17:37:24.123360Z"
    },
    "papermill": {
     "duration": 1.194543,
     "end_time": "2022-12-05T17:37:24.125017",
     "exception": false,
     "start_time": "2022-12-05T17:37:22.930474",
     "status": "completed"
    },
    "tags": []
   },
   "outputs": [
    {
     "data": {
      "text/plain": [
       "0.0"
      ]
     },
     "metadata": {},
     "output_type": "display_data"
    }
   ],
   "source": [
    "_min_val = gene_corrs_df.min().min()\n",
    "display(_min_val)\n",
    "assert _min_val >= -0.05"
   ]
  },
  {
   "cell_type": "code",
   "execution_count": 34,
   "id": "d04fb2cf-1050-475b-b855-f5f7cc04092b",
   "metadata": {
    "execution": {
     "iopub.execute_input": "2022-12-05T17:37:26.369874Z",
     "iopub.status.busy": "2022-12-05T17:37:26.369465Z",
     "iopub.status.idle": "2022-12-05T17:37:26.393718Z",
     "shell.execute_reply": "2022-12-05T17:37:26.393128Z"
    },
    "papermill": {
     "duration": 1.149307,
     "end_time": "2022-12-05T17:37:26.394567",
     "exception": false,
     "start_time": "2022-12-05T17:37:25.245260",
     "status": "completed"
    },
    "tags": []
   },
   "outputs": [
    {
     "data": {
      "text/plain": [
       "1.0000000000000042"
      ]
     },
     "metadata": {},
     "output_type": "display_data"
    }
   ],
   "source": [
    "_max_val = gene_corrs_df.max().max()  # this captures the diagonal\n",
    "display(_max_val)\n",
    "assert _max_val <= 1.05"
   ]
  },
  {
   "cell_type": "code",
   "execution_count": 35,
   "id": "fe283586-c348-40e0-8841-f6d97bfb021c",
   "metadata": {
    "execution": {
     "iopub.execute_input": "2022-12-05T17:37:28.714030Z",
     "iopub.status.busy": "2022-12-05T17:37:28.713611Z",
     "iopub.status.idle": "2022-12-05T17:37:28.740731Z",
     "shell.execute_reply": "2022-12-05T17:37:28.740123Z"
    },
    "papermill": {
     "duration": 1.18257,
     "end_time": "2022-12-05T17:37:28.741573",
     "exception": false,
     "start_time": "2022-12-05T17:37:27.559003",
     "status": "completed"
    },
    "tags": []
   },
   "outputs": [
    {
     "data": {
      "text/plain": [
       "count    37675.000000\n",
       "mean         0.013868\n",
       "std          0.096981\n",
       "min          0.000000\n",
       "25%          0.000000\n",
       "50%          0.000000\n",
       "75%          0.000000\n",
       "max          1.000000\n",
       "dtype: float64"
      ]
     },
     "execution_count": 35,
     "metadata": {},
     "output_type": "execute_result"
    }
   ],
   "source": [
    "gene_corrs_flat.describe()"
   ]
  },
  {
   "cell_type": "code",
   "execution_count": 36,
   "id": "b3815678-0f93-4b35-897b-a9d047a2aa78",
   "metadata": {
    "execution": {
     "iopub.execute_input": "2022-12-05T17:37:30.976798Z",
     "iopub.status.busy": "2022-12-05T17:37:30.976366Z",
     "iopub.status.idle": "2022-12-05T17:37:31.004148Z",
     "shell.execute_reply": "2022-12-05T17:37:31.003596Z"
    },
    "papermill": {
     "duration": 1.146562,
     "end_time": "2022-12-05T17:37:31.005039",
     "exception": false,
     "start_time": "2022-12-05T17:37:29.858477",
     "status": "completed"
    },
    "tags": []
   },
   "outputs": [
    {
     "data": {
      "text/plain": [
       "0.00    0.000000\n",
       "0.05    0.000000\n",
       "0.10    0.000000\n",
       "0.15    0.000000\n",
       "0.20    0.000000\n",
       "0.25    0.000000\n",
       "0.30    0.000000\n",
       "0.35    0.000000\n",
       "0.40    0.000000\n",
       "0.45    0.000000\n",
       "0.50    0.000000\n",
       "0.55    0.000000\n",
       "0.60    0.000000\n",
       "0.65    0.000000\n",
       "0.70    0.000000\n",
       "0.75    0.000000\n",
       "0.80    0.000000\n",
       "0.85    0.002031\n",
       "0.90    0.005829\n",
       "0.95    0.012004\n",
       "dtype: float64"
      ]
     },
     "metadata": {},
     "output_type": "display_data"
    }
   ],
   "source": [
    "gene_corrs_quantiles = gene_corrs_flat.quantile(np.arange(0, 1, 0.05))\n",
    "display(gene_corrs_quantiles)"
   ]
  },
  {
   "cell_type": "markdown",
   "id": "87134509-b145-4a10-8bc9-b7e914c2b0fa",
   "metadata": {
    "papermill": {
     "duration": 1.155421,
     "end_time": "2022-12-05T17:37:33.315872",
     "exception": false,
     "start_time": "2022-12-05T17:37:32.160451",
     "status": "completed"
    },
    "tags": []
   },
   "source": [
    "## Positive definiteness"
   ]
  },
  {
   "cell_type": "code",
   "execution_count": 37,
   "id": "07d9a9a1-a4f7-48aa-b916-6d42a8cc6186",
   "metadata": {
    "execution": {
     "iopub.execute_input": "2022-12-05T17:37:35.553334Z",
     "iopub.status.busy": "2022-12-05T17:37:35.553078Z",
     "iopub.status.idle": "2022-12-05T17:37:35.577220Z",
     "shell.execute_reply": "2022-12-05T17:37:35.576850Z"
    },
    "papermill": {
     "duration": 1.136695,
     "end_time": "2022-12-05T17:37:35.578466",
     "exception": false,
     "start_time": "2022-12-05T17:37:34.441771",
     "status": "completed"
    },
    "tags": []
   },
   "outputs": [
    {
     "data": {
      "text/plain": [
       "0"
      ]
     },
     "metadata": {},
     "output_type": "display_data"
    },
    {
     "data": {
      "text/plain": [
       "array([], dtype=float64)"
      ]
     },
     "metadata": {},
     "output_type": "display_data"
    }
   ],
   "source": [
    "# print negative eigenvalues\n",
    "eigs = np.linalg.eigvals(gene_corrs_df.to_numpy())\n",
    "display(len(eigs[eigs < 0]))\n",
    "display(eigs[eigs < 0])"
   ]
  },
  {
   "cell_type": "code",
   "execution_count": 38,
   "id": "6e218436-c3c5-4028-8c94-a4fa6260efce",
   "metadata": {
    "execution": {
     "iopub.execute_input": "2022-12-05T17:37:37.955716Z",
     "iopub.status.busy": "2022-12-05T17:37:37.955177Z",
     "iopub.status.idle": "2022-12-05T17:37:37.984100Z",
     "shell.execute_reply": "2022-12-05T17:37:37.983550Z"
    },
    "papermill": {
     "duration": 1.182682,
     "end_time": "2022-12-05T17:37:37.985024",
     "exception": false,
     "start_time": "2022-12-05T17:37:36.802342",
     "status": "completed"
    },
    "tags": []
   },
   "outputs": [
    {
     "name": "stdout",
     "output_type": "stream",
     "text": [
      "Works!\n"
     ]
    }
   ],
   "source": [
    "try:\n",
    "    chol_mat = np.linalg.cholesky(gene_corrs_df.to_numpy())\n",
    "    cov_inv = np.linalg.inv(chol_mat)\n",
    "    print(\"Works!\")\n",
    "except Exception as e:\n",
    "    print(f\"Cholesky decomposition failed: {str(e)}\")"
   ]
  },
  {
   "cell_type": "code",
   "execution_count": 39,
   "id": "dd8827fb-faf9-4c7c-9454-015e94752706",
   "metadata": {
    "execution": {
     "iopub.execute_input": "2022-12-05T17:37:40.204090Z",
     "iopub.status.busy": "2022-12-05T17:37:40.203772Z",
     "iopub.status.idle": "2022-12-05T17:37:40.232025Z",
     "shell.execute_reply": "2022-12-05T17:37:40.231479Z"
    },
    "papermill": {
     "duration": 1.140722,
     "end_time": "2022-12-05T17:37:40.233009",
     "exception": false,
     "start_time": "2022-12-05T17:37:39.092287",
     "status": "completed"
    },
    "tags": []
   },
   "outputs": [
    {
     "name": "stdout",
     "output_type": "stream",
     "text": [
      "Works!\n"
     ]
    }
   ],
   "source": [
    "try:\n",
    "    # decomposition used by statsmodels.GLS\n",
    "    cholsigmainv = np.linalg.cholesky(np.linalg.inv(gene_corrs_df.to_numpy())).T\n",
    "    print(\"Works!\")\n",
    "except Exception as e:\n",
    "    print(f\"Cholesky decomposition failed (statsmodels.GLS): {str(e)}\")"
   ]
  },
  {
   "cell_type": "markdown",
   "id": "8e60a080-edb2-4e9c-b2ef-22961693200c",
   "metadata": {
    "papermill": {
     "duration": 1.192218,
     "end_time": "2022-12-05T17:37:42.697958",
     "exception": false,
     "start_time": "2022-12-05T17:37:41.505740",
     "status": "completed"
    },
    "tags": []
   },
   "source": [
    "## Plot: distribution"
   ]
  },
  {
   "cell_type": "code",
   "execution_count": 40,
   "id": "8301126b-a7d4-4744-9c7d-f0f86eb6f54c",
   "metadata": {
    "execution": {
     "iopub.execute_input": "2022-12-05T17:37:44.952589Z",
     "iopub.status.busy": "2022-12-05T17:37:44.952099Z",
     "iopub.status.idle": "2022-12-05T17:37:45.311927Z",
     "shell.execute_reply": "2022-12-05T17:37:45.311528Z"
    },
    "papermill": {
     "duration": 1.481857,
     "end_time": "2022-12-05T17:37:45.313092",
     "exception": false,
     "start_time": "2022-12-05T17:37:43.831235",
     "status": "completed"
    },
    "tags": []
   },
   "outputs": [
    {
     "data": {
      "image/png": "[encoded data removed]",
      "text/plain": [
       "<Figure size 700x700 with 1 Axes>"
      ]
     },
     "metadata": {},
     "output_type": "display_data"
    }
   ],
   "source": [
    "with sns.plotting_context(\"paper\", font_scale=1.5):\n",
    "    g = sns.displot(gene_corrs_flat, kde=True, height=7)\n",
    "    g.ax.set_title(\n",
    "        f\"Distribution of gene correlation values in chromosome {CHROMOSOME}\"\n",
    "    )"
   ]
  },
  {
   "cell_type": "markdown",
   "id": "cbd52bca-d878-4a2f-b684-5c83aa3038d4",
   "metadata": {
    "papermill": {
     "duration": 1.156965,
     "end_time": "2022-12-05T17:37:47.647815",
     "exception": false,
     "start_time": "2022-12-05T17:37:46.490850",
     "status": "completed"
    },
    "tags": []
   },
   "source": [
    "## Plot: heatmap"
   ]
  },
  {
   "cell_type": "code",
   "execution_count": 41,
   "id": "d03fe63a-c7b2-4fb9-a53c-db362ce843c9",
   "metadata": {
    "execution": {
     "iopub.execute_input": "2022-12-05T17:37:49.891622Z",
     "iopub.status.busy": "2022-12-05T17:37:49.891254Z",
     "iopub.status.idle": "2022-12-05T17:37:49.914808Z",
     "shell.execute_reply": "2022-12-05T17:37:49.914274Z"
    },
    "papermill": {
     "duration": 1.140299,
     "end_time": "2022-12-05T17:37:49.915780",
     "exception": false,
     "start_time": "2022-12-05T17:37:48.775481",
     "status": "completed"
    },
    "tags": []
   },
   "outputs": [
    {
     "data": {
      "text/plain": [
       "'0.0 / 0.05'"
      ]
     },
     "metadata": {},
     "output_type": "display_data"
    }
   ],
   "source": [
    "vmin_val = min(0.00, gene_corrs_quantiles[0.10])\n",
    "vmax_val = max(0.05, gene_corrs_quantiles[0.90])\n",
    "display(f\"{vmin_val} / {vmax_val}\")"
   ]
  },
  {
   "cell_type": "code",
   "execution_count": 42,
   "id": "dc41b70b-5bcc-4d9e-9f33-a22c4a94dab5",
   "metadata": {
    "execution": {
     "iopub.execute_input": "2022-12-05T17:37:52.242422Z",
     "iopub.status.busy": "2022-12-05T17:37:52.241877Z",
     "iopub.status.idle": "2022-12-05T17:37:52.472469Z",
     "shell.execute_reply": "2022-12-05T17:37:52.472080Z"
    },
    "papermill": {
     "duration": 1.406796,
     "end_time": "2022-12-05T17:37:52.473428",
     "exception": false,
     "start_time": "2022-12-05T17:37:51.066632",
     "status": "completed"
    },
    "tags": []
   },
   "outputs": [
    {
     "data": {
      "text/plain": [
       "Text(0.5, 1.0, 'Gene correlations in chromosome 16')"
      ]
     },
     "execution_count": 42,
     "metadata": {},
     "output_type": "execute_result"
    },
    {
     "data": {
      "image/png": "[encoded data removed]",
      "text/plain": [
       "<Figure size 1000x1000 with 2 Axes>"
      ]
     },
     "metadata": {},
     "output_type": "display_data"
    }
   ],
   "source": [
    "f, ax = plt.subplots(figsize=(10, 10))\n",
    "sns.heatmap(\n",
    "    gene_corrs_df,\n",
    "    xticklabels=False,\n",
    "    yticklabels=False,\n",
    "    square=True,\n",
    "    vmin=vmin_val,\n",
    "    vmax=vmax_val,\n",
    "    cmap=\"rocket_r\",\n",
    "    ax=ax,\n",
    ")\n",
    "ax.set_title(f\"Gene correlations in chromosome {CHROMOSOME}\")"
   ]
  },
  {
   "cell_type": "code",
   "execution_count": null,
   "id": "b25e3ead",
   "metadata": {
    "papermill": {
     "duration": 1.191524,
     "end_time": "2022-12-05T17:37:54.832177",
     "exception": false,
     "start_time": "2022-12-05T17:37:53.640653",
     "status": "completed"
    },
    "tags": []
   },
   "outputs": [],
   "source": []
  }
 ],
 "metadata": {
  "jupytext": {
   "cell_metadata_filter": "all,-execution,-papermill,-trusted",
   "formats": "ipynb,py//py:percent"
  },
  "kernelspec": {
   "display_name": "Python 3 (ipykernel)",
   "language": "python",
   "name": "python3"
  },
  "language_info": {
   "codemirror_mode": {
    "name": "ipython",
    "version": 3
   },
   "file_extension": ".py",
   "mimetype": "text/x-python",
   "name": "python",
   "nbconvert_exporter": "python",
   "pygments_lexer": "ipython3",
   "version": "3.10.6"
  },
  "papermill": {
   "default_parameters": {},
   "duration": 375.235933,
   "end_time": "2022-12-05T17:37:59.541837",
   "environment_variables": {},
   "exception": null,
   "input_path": "projects/asthma-copd/nbs/20_gene_corrs/jobs/05-gene_expr_correlations.ipynb",
   "output_path": "projects/asthma-copd/nbs/20_gene_corrs/jobs/../output/aco/05-gene_expr_correlations-chr16.run.ipynb",
   "parameters": {
    "CHROMOSOME": 16,
    "COHORT_NAME": "aco",
    "OUTPUT_DIR_BASE": "/opt/data/projects/asthma-copd/results/gls_phenoplier",
    "PHENOPLIER_NOTEBOOK_FILEPATH": "projects/asthma-copd/nbs/20_gene_corrs/jobs/05-gene_expr_correlations.ipynb"
   },
   "start_time": "2022-12-05T17:31:44.305904",
   "version": "2.2.2"
  }
 },
 "nbformat": 4,
 "nbformat_minor": 5
}
