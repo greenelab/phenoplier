{
 "cells": [
  {
   "cell_type": "code",
   "execution_count": 1,
   "id": "1ace3e81",
   "metadata": {
    "execution": {
     "iopub.execute_input": "2022-12-15T17:32:07.898687Z",
     "iopub.status.busy": "2022-12-15T17:32:07.896811Z",
     "iopub.status.idle": "2022-12-15T17:32:07.939877Z",
     "shell.execute_reply": "2022-12-15T17:32:07.938800Z"
    },
    "lines_to_next_cell": 2,
    "papermill": {
     "duration": 0.072328,
     "end_time": "2022-12-15T17:32:07.941308",
     "exception": false,
     "start_time": "2022-12-15T17:32:07.868980",
     "status": "completed"
    },
    "tags": [
     "injected-parameters"
    ]
   },
   "outputs": [],
   "source": [
    "# Parameters\n",
    "PHENOPLIER_NOTEBOOK_FILEPATH <- \"projects/asthma-copd/nbs/15_twas/10-twas-qqplot.ipynb\""
   ]
  },
  {
   "cell_type": "markdown",
   "id": "8943b47b-26b2-4677-b69a-4a82a0913569",
   "metadata": {
    "papermill": {
     "duration": 0.008248,
     "end_time": "2022-12-15T17:32:07.957667",
     "exception": false,
     "start_time": "2022-12-15T17:32:07.949419",
     "status": "completed"
    },
    "tags": []
   },
   "source": [
    "# Description"
   ]
  },
  {
   "cell_type": "markdown",
   "id": "4a526bcc-e43b-49c2-99d8-afdf01fdf044",
   "metadata": {
    "papermill": {
     "duration": 0.008595,
     "end_time": "2022-12-15T17:32:07.974261",
     "exception": false,
     "start_time": "2022-12-15T17:32:07.965666",
     "status": "completed"
    },
    "tags": []
   },
   "source": [
    "It takes TWAS results and verifies that the QQ-plots look fine (without inflation)."
   ]
  },
  {
   "cell_type": "markdown",
   "id": "c91719ea-48d3-477d-a3a3-863b2650c1dc",
   "metadata": {
    "papermill": {
     "duration": 0.007833,
     "end_time": "2022-12-15T17:32:07.990016",
     "exception": false,
     "start_time": "2022-12-15T17:32:07.982183",
     "status": "completed"
    },
    "tags": []
   },
   "source": [
    "# Modules"
   ]
  },
  {
   "cell_type": "code",
   "execution_count": 2,
   "id": "9f0ffe4b-c8ce-4277-8cc4-5c949130e273",
   "metadata": {
    "execution": {
     "iopub.execute_input": "2022-12-15T17:32:08.041764Z",
     "iopub.status.busy": "2022-12-15T17:32:08.006889Z",
     "iopub.status.idle": "2022-12-15T17:32:08.796824Z",
     "shell.execute_reply": "2022-12-15T17:32:08.795836Z"
    },
    "papermill": {
     "duration": 0.800401,
     "end_time": "2022-12-15T17:32:08.798284",
     "exception": false,
     "start_time": "2022-12-15T17:32:07.997883",
     "status": "completed"
    },
    "tags": []
   },
   "outputs": [
    {
     "name": "stderr",
     "output_type": "stream",
     "text": [
      "── \u001b[1mAttaching packages\u001b[22m ──────────────────────────────────────────────────────────────────────────────────────────────────────────────────────────────────────────────────── tidyverse 1.3.2 ──\n",
      "\u001b[32m✔\u001b[39m \u001b[34mggplot2\u001b[39m 3.4.0      \u001b[32m✔\u001b[39m \u001b[34mpurrr  \u001b[39m 0.3.5 \n",
      "\u001b[32m✔\u001b[39m \u001b[34mtibble \u001b[39m 3.1.8      \u001b[32m✔\u001b[39m \u001b[34mdplyr  \u001b[39m 1.0.10\n",
      "\u001b[32m✔\u001b[39m \u001b[34mtidyr  \u001b[39m 1.2.1      \u001b[32m✔\u001b[39m \u001b[34mstringr\u001b[39m 1.4.1 \n",
      "\u001b[32m✔\u001b[39m \u001b[34mreadr  \u001b[39m 2.1.3      \u001b[32m✔\u001b[39m \u001b[34mforcats\u001b[39m 0.5.2 \n",
      "── \u001b[1mConflicts\u001b[22m ─────────────────────────────────────────────────────────────────────────────────────────────────────────────────────────────────────────────────────── tidyverse_conflicts() ──\n",
      "\u001b[31m✖\u001b[39m \u001b[34mdplyr\u001b[39m::\u001b[32mfilter()\u001b[39m masks \u001b[34mstats\u001b[39m::filter()\n",
      "\u001b[31m✖\u001b[39m \u001b[34mdplyr\u001b[39m::\u001b[32mlag()\u001b[39m    masks \u001b[34mstats\u001b[39m::lag()\n"
     ]
    }
   ],
   "source": [
    "library(tidyverse)"
   ]
  },
  {
   "cell_type": "code",
   "execution_count": 3,
   "id": "820c8290-25d5-446b-9f33-7e13e962bb7d",
   "metadata": {
    "execution": {
     "iopub.execute_input": "2022-12-15T17:32:08.819367Z",
     "iopub.status.busy": "2022-12-15T17:32:08.818474Z",
     "iopub.status.idle": "2022-12-15T17:32:08.852119Z",
     "shell.execute_reply": "2022-12-15T17:32:08.851174Z"
    },
    "papermill": {
     "duration": 0.046282,
     "end_time": "2022-12-15T17:32:08.853483",
     "exception": false,
     "start_time": "2022-12-15T17:32:08.807201",
     "status": "completed"
    },
    "tags": []
   },
   "outputs": [
    {
     "name": "stderr",
     "output_type": "stream",
     "text": [
      "\n",
      "\n",
      "For example usage please run: vignette('qqman')\n",
      "\n",
      "\n",
      "\n",
      "Citation appreciated but not required:\n",
      "\n",
      "Turner, (2018). qqman: an R package for visualizing GWAS results using Q-Q and manhattan plots. Journal of Open Source Software, 3(25), 731, https://doi.org/10.21105/joss.00731.\n",
      "\n",
      "\n",
      "\n"
     ]
    }
   ],
   "source": [
    "library(qqman)"
   ]
  },
  {
   "cell_type": "markdown",
   "id": "bc9c7d76-6758-4189-bbc8-a36d1dcc967d",
   "metadata": {
    "papermill": {
     "duration": 0.008465,
     "end_time": "2022-12-15T17:32:08.870658",
     "exception": false,
     "start_time": "2022-12-15T17:32:08.862193",
     "status": "completed"
    },
    "tags": []
   },
   "source": [
    "# Paths"
   ]
  },
  {
   "cell_type": "code",
   "execution_count": 4,
   "id": "27efc190-a0f0-4334-9573-45fbd4fc387c",
   "metadata": {
    "execution": {
     "iopub.execute_input": "2022-12-15T17:32:08.889024Z",
     "iopub.status.busy": "2022-12-15T17:32:08.888307Z",
     "iopub.status.idle": "2022-12-15T17:32:08.894215Z",
     "shell.execute_reply": "2022-12-15T17:32:08.893338Z"
    },
    "papermill": {
     "duration": 0.016325,
     "end_time": "2022-12-15T17:32:08.895512",
     "exception": false,
     "start_time": "2022-12-15T17:32:08.879187",
     "status": "completed"
    },
    "tags": []
   },
   "outputs": [],
   "source": [
    "BASE_DIR <- Sys.getenv(\"PHENOPLIER_PROJECTS_ASTHMA_COPD_RESULTS_DIR\")"
   ]
  },
  {
   "cell_type": "code",
   "execution_count": 5,
   "id": "ba2ad481-2574-4a3d-9582-9e6b65215f71",
   "metadata": {
    "execution": {
     "iopub.execute_input": "2022-12-15T17:32:08.914634Z",
     "iopub.status.busy": "2022-12-15T17:32:08.913938Z",
     "iopub.status.idle": "2022-12-15T17:32:08.979865Z",
     "shell.execute_reply": "2022-12-15T17:32:08.978406Z"
    },
    "papermill": {
     "duration": 0.077074,
     "end_time": "2022-12-15T17:32:08.981151",
     "exception": false,
     "start_time": "2022-12-15T17:32:08.904077",
     "status": "completed"
    },
    "tags": []
   },
   "outputs": [
    {
     "data": {
      "text/html": [
       "'/opt/data/projects/asthma-copd/results'"
      ],
      "text/latex": [
       "'/opt/data/projects/asthma-copd/results'"
      ],
      "text/markdown": [
       "'/opt/data/projects/asthma-copd/results'"
      ],
      "text/plain": [
       "[1] \"/opt/data/projects/asthma-copd/results\""
      ]
     },
     "metadata": {},
     "output_type": "display_data"
    }
   ],
   "source": [
    "BASE_DIR"
   ]
  },
  {
   "cell_type": "code",
   "execution_count": 6,
   "id": "c0a7faf5-d213-4af7-a7f7-668fd6e999b5",
   "metadata": {
    "execution": {
     "iopub.execute_input": "2022-12-15T17:32:08.999979Z",
     "iopub.status.busy": "2022-12-15T17:32:08.999323Z",
     "iopub.status.idle": "2022-12-15T17:32:09.005059Z",
     "shell.execute_reply": "2022-12-15T17:32:09.004233Z"
    },
    "papermill": {
     "duration": 0.016378,
     "end_time": "2022-12-15T17:32:09.006330",
     "exception": false,
     "start_time": "2022-12-15T17:32:08.989952",
     "status": "completed"
    },
    "tags": []
   },
   "outputs": [],
   "source": [
    "SPREDIXCAN_DIR <- file.path(BASE_DIR, \"twas\", \"spredixcan\")"
   ]
  },
  {
   "cell_type": "code",
   "execution_count": 7,
   "id": "846c98c3-ea79-444d-99f5-351bf12f1d06",
   "metadata": {
    "execution": {
     "iopub.execute_input": "2022-12-15T17:32:09.025837Z",
     "iopub.status.busy": "2022-12-15T17:32:09.025153Z",
     "iopub.status.idle": "2022-12-15T17:32:09.031949Z",
     "shell.execute_reply": "2022-12-15T17:32:09.031119Z"
    },
    "papermill": {
     "duration": 0.018113,
     "end_time": "2022-12-15T17:32:09.033220",
     "exception": false,
     "start_time": "2022-12-15T17:32:09.015107",
     "status": "completed"
    },
    "tags": []
   },
   "outputs": [
    {
     "data": {
      "text/html": [
       "'/opt/data/projects/asthma-copd/results/twas/spredixcan'"
      ],
      "text/latex": [
       "'/opt/data/projects/asthma-copd/results/twas/spredixcan'"
      ],
      "text/markdown": [
       "'/opt/data/projects/asthma-copd/results/twas/spredixcan'"
      ],
      "text/plain": [
       "[1] \"/opt/data/projects/asthma-copd/results/twas/spredixcan\""
      ]
     },
     "metadata": {},
     "output_type": "display_data"
    }
   ],
   "source": [
    "SPREDIXCAN_DIR"
   ]
  },
  {
   "cell_type": "code",
   "execution_count": 8,
   "id": "fdfc8c65-7abf-41f7-8cb6-5b29a88e6d93",
   "metadata": {
    "execution": {
     "iopub.execute_input": "2022-12-15T17:32:09.052305Z",
     "iopub.status.busy": "2022-12-15T17:32:09.051627Z",
     "iopub.status.idle": "2022-12-15T17:32:09.057157Z",
     "shell.execute_reply": "2022-12-15T17:32:09.056344Z"
    },
    "papermill": {
     "duration": 0.016219,
     "end_time": "2022-12-15T17:32:09.058428",
     "exception": false,
     "start_time": "2022-12-15T17:32:09.042209",
     "status": "completed"
    },
    "tags": []
   },
   "outputs": [],
   "source": [
    "SMULTIXCAN_DIR <- file.path(BASE_DIR, \"twas\", \"smultixcan\")"
   ]
  },
  {
   "cell_type": "code",
   "execution_count": 9,
   "id": "01a107bf-de41-4d4f-8971-6414257ce9c8",
   "metadata": {
    "execution": {
     "iopub.execute_input": "2022-12-15T17:32:09.077736Z",
     "iopub.status.busy": "2022-12-15T17:32:09.077038Z",
     "iopub.status.idle": "2022-12-15T17:32:09.084024Z",
     "shell.execute_reply": "2022-12-15T17:32:09.083218Z"
    },
    "papermill": {
     "duration": 0.017807,
     "end_time": "2022-12-15T17:32:09.085286",
     "exception": false,
     "start_time": "2022-12-15T17:32:09.067479",
     "status": "completed"
    },
    "tags": []
   },
   "outputs": [
    {
     "data": {
      "text/html": [
       "'/opt/data/projects/asthma-copd/results/twas/smultixcan'"
      ],
      "text/latex": [
       "'/opt/data/projects/asthma-copd/results/twas/smultixcan'"
      ],
      "text/markdown": [
       "'/opt/data/projects/asthma-copd/results/twas/smultixcan'"
      ],
      "text/plain": [
       "[1] \"/opt/data/projects/asthma-copd/results/twas/smultixcan\""
      ]
     },
     "metadata": {},
     "output_type": "display_data"
    }
   ],
   "source": [
    "SMULTIXCAN_DIR"
   ]
  },
  {
   "cell_type": "markdown",
   "id": "90a9127a-3ed4-43cb-bafd-6f24d21f07cd",
   "metadata": {
    "papermill": {
     "duration": 0.008981,
     "end_time": "2022-12-15T17:32:09.103801",
     "exception": false,
     "start_time": "2022-12-15T17:32:09.094820",
     "status": "completed"
    },
    "tags": []
   },
   "source": [
    "# Asthma only"
   ]
  },
  {
   "cell_type": "code",
   "execution_count": 10,
   "id": "ff0720c4-fee7-4ebc-a9a4-96017e4302fd",
   "metadata": {
    "execution": {
     "iopub.execute_input": "2022-12-15T17:32:09.116604Z",
     "iopub.status.busy": "2022-12-15T17:32:09.115796Z",
     "iopub.status.idle": "2022-12-15T17:32:09.122699Z",
     "shell.execute_reply": "2022-12-15T17:32:09.121659Z"
    },
    "papermill": {
     "duration": 0.013257,
     "end_time": "2022-12-15T17:32:09.123839",
     "exception": false,
     "start_time": "2022-12-15T17:32:09.110582",
     "status": "completed"
    },
    "tags": []
   },
   "outputs": [],
   "source": [
    "gwas_title <- \"Asthma only (imputed)\""
   ]
  },
  {
   "cell_type": "markdown",
   "id": "0ad173bb-e817-4f95-b79e-52a08cfcd2fe",
   "metadata": {
    "papermill": {
     "duration": 0.004932,
     "end_time": "2022-12-15T17:32:09.133486",
     "exception": false,
     "start_time": "2022-12-15T17:32:09.128554",
     "status": "completed"
    },
    "tags": []
   },
   "source": [
    "## S-PrediXcan"
   ]
  },
  {
   "cell_type": "markdown",
   "id": "63524bcb-d873-4670-9cae-caf3545f5309",
   "metadata": {
    "papermill": {
     "duration": 0.004792,
     "end_time": "2022-12-15T17:32:09.142986",
     "exception": false,
     "start_time": "2022-12-15T17:32:09.138194",
     "status": "completed"
    },
    "tags": []
   },
   "source": [
    "### Load data"
   ]
  },
  {
   "cell_type": "code",
   "execution_count": 11,
   "id": "3beed1d1-5f4d-4588-b9f1-95c99e4b991a",
   "metadata": {
    "execution": {
     "iopub.execute_input": "2022-12-15T17:32:09.154406Z",
     "iopub.status.busy": "2022-12-15T17:32:09.153219Z",
     "iopub.status.idle": "2022-12-15T17:32:09.346755Z",
     "shell.execute_reply": "2022-12-15T17:32:09.345897Z"
    },
    "papermill": {
     "duration": 0.200315,
     "end_time": "2022-12-15T17:32:09.348033",
     "exception": false,
     "start_time": "2022-12-15T17:32:09.147718",
     "status": "completed"
    },
    "tags": []
   },
   "outputs": [
    {
     "name": "stderr",
     "output_type": "stream",
     "text": [
      "\u001b[1mRows: \u001b[22m\u001b[34m12187\u001b[39m \u001b[1mColumns: \u001b[22m\u001b[34m14\u001b[39m\n",
      "\u001b[36m──\u001b[39m \u001b[1mColumn specification\u001b[22m \u001b[36m─────────────────────────────────────────────────────────────────────────────────────────────────────────────────────────────────────────────────────────────────────\u001b[39m\n",
      "\u001b[1mDelimiter:\u001b[22m \",\"\n",
      "\u001b[31mchr\u001b[39m (2): gene, gene_name\n",
      "\u001b[32mdbl\u001b[39m (8): zscore, pvalue, var_g, n_snps_used, n_snps_in_cov, n_snps_in_model,...\n",
      "\u001b[33mlgl\u001b[39m (4): effect_size, pred_perf_r2, pred_perf_pval, pred_perf_qval\n",
      "\n",
      "\u001b[36mℹ\u001b[39m Use `spec()` to retrieve the full column specification for this data.\n",
      "\u001b[36mℹ\u001b[39m Specify the column types or set `show_col_types = FALSE` to quiet this message.\n"
     ]
    }
   ],
   "source": [
    "twas <- as.data.frame(read_csv(file.path(SPREDIXCAN_DIR, \"GWAS_Asthma_only_GLM_SNPs_info0.7-gtex_v8-mashr-Whole_Blood.csv\")))"
   ]
  },
  {
   "cell_type": "code",
   "execution_count": 12,
   "id": "66ec44f1-b2b0-4c7e-8aad-81aaa6612b71",
   "metadata": {
    "execution": {
     "iopub.execute_input": "2022-12-15T17:32:09.368944Z",
     "iopub.status.busy": "2022-12-15T17:32:09.368243Z",
     "iopub.status.idle": "2022-12-15T17:32:09.375746Z",
     "shell.execute_reply": "2022-12-15T17:32:09.374949Z"
    },
    "papermill": {
     "duration": 0.019451,
     "end_time": "2022-12-15T17:32:09.377010",
     "exception": false,
     "start_time": "2022-12-15T17:32:09.357559",
     "status": "completed"
    },
    "tags": []
   },
   "outputs": [
    {
     "data": {
      "text/html": [
       "<style>\n",
       ".list-inline {list-style: none; margin:0; padding: 0}\n",
       ".list-inline>li {display: inline-block}\n",
       ".list-inline>li:not(:last-child)::after {content: \"\\00b7\"; padding: 0 .5ex}\n",
       "</style>\n",
       "<ol class=list-inline><li>12187</li><li>14</li></ol>\n"
      ],
      "text/latex": [
       "\\begin{enumerate*}\n",
       "\\item 12187\n",
       "\\item 14\n",
       "\\end{enumerate*}\n"
      ],
      "text/markdown": [
       "1. 12187\n",
       "2. 14\n",
       "\n",
       "\n"
      ],
      "text/plain": [
       "[1] 12187    14"
      ]
     },
     "metadata": {},
     "output_type": "display_data"
    }
   ],
   "source": [
    "dim(twas)"
   ]
  },
  {
   "cell_type": "code",
   "execution_count": 13,
   "id": "d92e3b57-390f-4a55-bfc4-c3bf08ff1af0",
   "metadata": {
    "execution": {
     "iopub.execute_input": "2022-12-15T17:32:09.397457Z",
     "iopub.status.busy": "2022-12-15T17:32:09.396763Z",
     "iopub.status.idle": "2022-12-15T17:32:09.414007Z",
     "shell.execute_reply": "2022-12-15T17:32:09.413164Z"
    },
    "papermill": {
     "duration": 0.028608,
     "end_time": "2022-12-15T17:32:09.415259",
     "exception": false,
     "start_time": "2022-12-15T17:32:09.386651",
     "status": "completed"
    },
    "tags": []
   },
   "outputs": [
    {
     "data": {
      "text/html": [
       "<table class=\"dataframe\">\n",
       "<caption>A data.frame: 6 × 14</caption>\n",
       "<thead>\n",
       "\t<tr><th></th><th scope=col>gene</th><th scope=col>gene_name</th><th scope=col>zscore</th><th scope=col>effect_size</th><th scope=col>pvalue</th><th scope=col>var_g</th><th scope=col>pred_perf_r2</th><th scope=col>pred_perf_pval</th><th scope=col>pred_perf_qval</th><th scope=col>n_snps_used</th><th scope=col>n_snps_in_cov</th><th scope=col>n_snps_in_model</th><th scope=col>best_gwas_p</th><th scope=col>largest_weight</th></tr>\n",
       "\t<tr><th></th><th scope=col>&lt;chr&gt;</th><th scope=col>&lt;chr&gt;</th><th scope=col>&lt;dbl&gt;</th><th scope=col>&lt;lgl&gt;</th><th scope=col>&lt;dbl&gt;</th><th scope=col>&lt;dbl&gt;</th><th scope=col>&lt;lgl&gt;</th><th scope=col>&lt;lgl&gt;</th><th scope=col>&lt;lgl&gt;</th><th scope=col>&lt;dbl&gt;</th><th scope=col>&lt;dbl&gt;</th><th scope=col>&lt;dbl&gt;</th><th scope=col>&lt;dbl&gt;</th><th scope=col>&lt;dbl&gt;</th></tr>\n",
       "</thead>\n",
       "<tbody>\n",
       "\t<tr><th scope=row>1</th><td>ENSG00000179344.16</td><td>HLA-DQB1</td><td>-12.301224</td><td>NA</td><td>8.921179e-35</td><td>0.283759131</td><td>NA</td><td>NA</td><td>NA</td><td>3</td><td>3</td><td>3</td><td>4.004190e-34</td><td>0.77233233</td></tr>\n",
       "\t<tr><th scope=row>2</th><td>ENSG00000232629.8 </td><td>HLA-DQB2</td><td> 11.907670</td><td>NA</td><td>1.079511e-32</td><td>1.363601315</td><td>NA</td><td>NA</td><td>NA</td><td>2</td><td>3</td><td>3</td><td>1.761500e-32</td><td>0.97203257</td></tr>\n",
       "\t<tr><th scope=row>3</th><td>ENSG00000237541.3 </td><td>HLA-DQA2</td><td> 10.481759</td><td>NA</td><td>1.047767e-25</td><td>0.118802786</td><td>NA</td><td>NA</td><td>NA</td><td>2</td><td>4</td><td>4</td><td>4.049999e-21</td><td>0.48657435</td></tr>\n",
       "\t<tr><th scope=row>4</th><td>ENSG00000161405.16</td><td>IKZF3   </td><td> -9.524108</td><td>NA</td><td>1.664654e-21</td><td>0.002610898</td><td>NA</td><td>NA</td><td>NA</td><td>1</td><td>1</td><td>1</td><td>1.664654e-21</td><td>0.07394038</td></tr>\n",
       "\t<tr><th scope=row>5</th><td>ENSG00000073605.18</td><td>GSDMB   </td><td>  8.267584</td><td>NA</td><td>1.367011e-16</td><td>0.098071716</td><td>NA</td><td>NA</td><td>NA</td><td>3</td><td>3</td><td>3</td><td>5.762121e-21</td><td>0.33883423</td></tr>\n",
       "\t<tr><th scope=row>6</th><td>ENSG00000172057.9 </td><td>ORMDL3  </td><td>  7.826190</td><td>NA</td><td>5.028774e-15</td><td>0.137414366</td><td>NA</td><td>NA</td><td>NA</td><td>2</td><td>2</td><td>2</td><td>1.070319e-18</td><td>0.39775212</td></tr>\n",
       "</tbody>\n",
       "</table>\n"
      ],
      "text/latex": [
       "A data.frame: 6 × 14\n",
       "\\begin{tabular}{r|llllllllllllll}\n",
       "  & gene & gene\\_name & zscore & effect\\_size & pvalue & var\\_g & pred\\_perf\\_r2 & pred\\_perf\\_pval & pred\\_perf\\_qval & n\\_snps\\_used & n\\_snps\\_in\\_cov & n\\_snps\\_in\\_model & best\\_gwas\\_p & largest\\_weight\\\\\n",
       "  & <chr> & <chr> & <dbl> & <lgl> & <dbl> & <dbl> & <lgl> & <lgl> & <lgl> & <dbl> & <dbl> & <dbl> & <dbl> & <dbl>\\\\\n",
       "\\hline\n",
       "\t1 & ENSG00000179344.16 & HLA-DQB1 & -12.301224 & NA & 8.921179e-35 & 0.283759131 & NA & NA & NA & 3 & 3 & 3 & 4.004190e-34 & 0.77233233\\\\\n",
       "\t2 & ENSG00000232629.8  & HLA-DQB2 &  11.907670 & NA & 1.079511e-32 & 1.363601315 & NA & NA & NA & 2 & 3 & 3 & 1.761500e-32 & 0.97203257\\\\\n",
       "\t3 & ENSG00000237541.3  & HLA-DQA2 &  10.481759 & NA & 1.047767e-25 & 0.118802786 & NA & NA & NA & 2 & 4 & 4 & 4.049999e-21 & 0.48657435\\\\\n",
       "\t4 & ENSG00000161405.16 & IKZF3    &  -9.524108 & NA & 1.664654e-21 & 0.002610898 & NA & NA & NA & 1 & 1 & 1 & 1.664654e-21 & 0.07394038\\\\\n",
       "\t5 & ENSG00000073605.18 & GSDMB    &   8.267584 & NA & 1.367011e-16 & 0.098071716 & NA & NA & NA & 3 & 3 & 3 & 5.762121e-21 & 0.33883423\\\\\n",
       "\t6 & ENSG00000172057.9  & ORMDL3   &   7.826190 & NA & 5.028774e-15 & 0.137414366 & NA & NA & NA & 2 & 2 & 2 & 1.070319e-18 & 0.39775212\\\\\n",
       "\\end{tabular}\n"
      ],
      "text/markdown": [
       "\n",
       "A data.frame: 6 × 14\n",
       "\n",
       "| <!--/--> | gene &lt;chr&gt; | gene_name &lt;chr&gt; | zscore &lt;dbl&gt; | effect_size &lt;lgl&gt; | pvalue &lt;dbl&gt; | var_g &lt;dbl&gt; | pred_perf_r2 &lt;lgl&gt; | pred_perf_pval &lt;lgl&gt; | pred_perf_qval &lt;lgl&gt; | n_snps_used &lt;dbl&gt; | n_snps_in_cov &lt;dbl&gt; | n_snps_in_model &lt;dbl&gt; | best_gwas_p &lt;dbl&gt; | largest_weight &lt;dbl&gt; |\n",
       "|---|---|---|---|---|---|---|---|---|---|---|---|---|---|---|\n",
       "| 1 | ENSG00000179344.16 | HLA-DQB1 | -12.301224 | NA | 8.921179e-35 | 0.283759131 | NA | NA | NA | 3 | 3 | 3 | 4.004190e-34 | 0.77233233 |\n",
       "| 2 | ENSG00000232629.8  | HLA-DQB2 |  11.907670 | NA | 1.079511e-32 | 1.363601315 | NA | NA | NA | 2 | 3 | 3 | 1.761500e-32 | 0.97203257 |\n",
       "| 3 | ENSG00000237541.3  | HLA-DQA2 |  10.481759 | NA | 1.047767e-25 | 0.118802786 | NA | NA | NA | 2 | 4 | 4 | 4.049999e-21 | 0.48657435 |\n",
       "| 4 | ENSG00000161405.16 | IKZF3    |  -9.524108 | NA | 1.664654e-21 | 0.002610898 | NA | NA | NA | 1 | 1 | 1 | 1.664654e-21 | 0.07394038 |\n",
       "| 5 | ENSG00000073605.18 | GSDMB    |   8.267584 | NA | 1.367011e-16 | 0.098071716 | NA | NA | NA | 3 | 3 | 3 | 5.762121e-21 | 0.33883423 |\n",
       "| 6 | ENSG00000172057.9  | ORMDL3   |   7.826190 | NA | 5.028774e-15 | 0.137414366 | NA | NA | NA | 2 | 2 | 2 | 1.070319e-18 | 0.39775212 |\n",
       "\n"
      ],
      "text/plain": [
       "  gene               gene_name zscore     effect_size pvalue       var_g      \n",
       "1 ENSG00000179344.16 HLA-DQB1  -12.301224 NA          8.921179e-35 0.283759131\n",
       "2 ENSG00000232629.8  HLA-DQB2   11.907670 NA          1.079511e-32 1.363601315\n",
       "3 ENSG00000237541.3  HLA-DQA2   10.481759 NA          1.047767e-25 0.118802786\n",
       "4 ENSG00000161405.16 IKZF3      -9.524108 NA          1.664654e-21 0.002610898\n",
       "5 ENSG00000073605.18 GSDMB       8.267584 NA          1.367011e-16 0.098071716\n",
       "6 ENSG00000172057.9  ORMDL3      7.826190 NA          5.028774e-15 0.137414366\n",
       "  pred_perf_r2 pred_perf_pval pred_perf_qval n_snps_used n_snps_in_cov\n",
       "1 NA           NA             NA             3           3            \n",
       "2 NA           NA             NA             2           3            \n",
       "3 NA           NA             NA             2           4            \n",
       "4 NA           NA             NA             1           1            \n",
       "5 NA           NA             NA             3           3            \n",
       "6 NA           NA             NA             2           2            \n",
       "  n_snps_in_model best_gwas_p  largest_weight\n",
       "1 3               4.004190e-34 0.77233233    \n",
       "2 3               1.761500e-32 0.97203257    \n",
       "3 4               4.049999e-21 0.48657435    \n",
       "4 1               1.664654e-21 0.07394038    \n",
       "5 3               5.762121e-21 0.33883423    \n",
       "6 2               1.070319e-18 0.39775212    "
      ]
     },
     "metadata": {},
     "output_type": "display_data"
    }
   ],
   "source": [
    "head(twas)"
   ]
  },
  {
   "cell_type": "markdown",
   "id": "3e576b71-c4a9-4dbb-a46d-375957ab6e6f",
   "metadata": {
    "papermill": {
     "duration": 0.009974,
     "end_time": "2022-12-15T17:32:09.435148",
     "exception": false,
     "start_time": "2022-12-15T17:32:09.425174",
     "status": "completed"
    },
    "tags": []
   },
   "source": [
    "### QQ-plot"
   ]
  },
  {
   "cell_type": "code",
   "execution_count": 14,
   "id": "aeef8821-518f-40c0-b486-b0c16490220a",
   "metadata": {
    "execution": {
     "iopub.execute_input": "2022-12-15T17:32:09.455991Z",
     "iopub.status.busy": "2022-12-15T17:32:09.455315Z",
     "iopub.status.idle": "2022-12-15T17:32:09.769425Z",
     "shell.execute_reply": "2022-12-15T17:32:09.768600Z"
    },
    "papermill": {
     "duration": 0.326659,
     "end_time": "2022-12-15T17:32:09.771577",
     "exception": false,
     "start_time": "2022-12-15T17:32:09.444918",
     "status": "completed"
    },
    "tags": []
   },
   "outputs": [
    {
     "data": {
      "image/png": "[encoded data removed]",
      "text/plain": [
       "Plot with title “Q-Q plot of S-PrediXcan for Asthma only (imputed)”"
      ]
     },
     "metadata": {
      "image/png": {
       "height": 600,
       "width": 600
      }
     },
     "output_type": "display_data"
    }
   ],
   "source": [
    "options(repr.plot.width = 10, repr.plot.height = 10)\n",
    "\n",
    "qq(twas$pvalue, main = paste0(\"Q-Q plot of S-PrediXcan for \", gwas_title))"
   ]
  },
  {
   "cell_type": "markdown",
   "id": "64fe38d3-87d9-4353-9a71-9ea4d7909a16",
   "metadata": {
    "papermill": {
     "duration": 0.010839,
     "end_time": "2022-12-15T17:32:09.794095",
     "exception": false,
     "start_time": "2022-12-15T17:32:09.783256",
     "status": "completed"
    },
    "tags": []
   },
   "source": [
    "## S-MultiXcan"
   ]
  },
  {
   "cell_type": "markdown",
   "id": "f09b116e-a113-4206-938a-ff38ed9b4b49",
   "metadata": {
    "papermill": {
     "duration": 0.010755,
     "end_time": "2022-12-15T17:32:09.815758",
     "exception": false,
     "start_time": "2022-12-15T17:32:09.805003",
     "status": "completed"
    },
    "tags": []
   },
   "source": [
    "### Load data"
   ]
  },
  {
   "cell_type": "code",
   "execution_count": 15,
   "id": "bccf3ce7-f587-4886-838f-f5dbd9e821f6",
   "metadata": {
    "execution": {
     "iopub.execute_input": "2022-12-15T17:32:09.838550Z",
     "iopub.status.busy": "2022-12-15T17:32:09.837861Z",
     "iopub.status.idle": "2022-12-15T17:32:09.918199Z",
     "shell.execute_reply": "2022-12-15T17:32:09.917241Z"
    },
    "papermill": {
     "duration": 0.093092,
     "end_time": "2022-12-15T17:32:09.919487",
     "exception": false,
     "start_time": "2022-12-15T17:32:09.826395",
     "status": "completed"
    },
    "tags": []
   },
   "outputs": [
    {
     "name": "stderr",
     "output_type": "stream",
     "text": [
      "\n",
      "\u001b[36m──\u001b[39m \u001b[1mColumn specification\u001b[22m \u001b[36m─────────────────────────────────────────────────────────────────────────────────────────────────────────────────────────────────────────────────────────────────────\u001b[39m\n",
      "cols(\n",
      "  gene = \u001b[31mcol_character()\u001b[39m,\n",
      "  gene_name = \u001b[31mcol_character()\u001b[39m,\n",
      "  pvalue = \u001b[32mcol_double()\u001b[39m,\n",
      "  n = \u001b[32mcol_double()\u001b[39m,\n",
      "  n_indep = \u001b[32mcol_double()\u001b[39m,\n",
      "  p_i_best = \u001b[32mcol_double()\u001b[39m,\n",
      "  t_i_best = \u001b[31mcol_character()\u001b[39m,\n",
      "  p_i_worst = \u001b[32mcol_double()\u001b[39m,\n",
      "  t_i_worst = \u001b[31mcol_character()\u001b[39m,\n",
      "  eigen_max = \u001b[32mcol_double()\u001b[39m,\n",
      "  eigen_min = \u001b[32mcol_double()\u001b[39m,\n",
      "  eigen_min_kept = \u001b[32mcol_double()\u001b[39m,\n",
      "  z_min = \u001b[32mcol_double()\u001b[39m,\n",
      "  z_max = \u001b[32mcol_double()\u001b[39m,\n",
      "  z_mean = \u001b[32mcol_double()\u001b[39m,\n",
      "  z_sd = \u001b[32mcol_double()\u001b[39m,\n",
      "  tmi = \u001b[32mcol_double()\u001b[39m,\n",
      "  status = \u001b[32mcol_double()\u001b[39m\n",
      ")\n",
      "\n"
     ]
    }
   ],
   "source": [
    "twas <- as.data.frame(read_table(file.path(SMULTIXCAN_DIR, \"GWAS_Asthma_only_GLM_SNPs_info0.7-gtex_v8-mashr-smultixcan.txt\")))"
   ]
  },
  {
   "cell_type": "code",
   "execution_count": 16,
   "id": "b9e51545-904d-4412-90e5-08d574a80440",
   "metadata": {
    "execution": {
     "iopub.execute_input": "2022-12-15T17:32:09.942886Z",
     "iopub.status.busy": "2022-12-15T17:32:09.942212Z",
     "iopub.status.idle": "2022-12-15T17:32:09.949402Z",
     "shell.execute_reply": "2022-12-15T17:32:09.948613Z"
    },
    "papermill": {
     "duration": 0.020255,
     "end_time": "2022-12-15T17:32:09.950657",
     "exception": false,
     "start_time": "2022-12-15T17:32:09.930402",
     "status": "completed"
    },
    "tags": []
   },
   "outputs": [
    {
     "data": {
      "text/html": [
       "<style>\n",
       ".list-inline {list-style: none; margin:0; padding: 0}\n",
       ".list-inline>li {display: inline-block}\n",
       ".list-inline>li:not(:last-child)::after {content: \"\\00b7\"; padding: 0 .5ex}\n",
       "</style>\n",
       "<ol class=list-inline><li>22314</li><li>18</li></ol>\n"
      ],
      "text/latex": [
       "\\begin{enumerate*}\n",
       "\\item 22314\n",
       "\\item 18\n",
       "\\end{enumerate*}\n"
      ],
      "text/markdown": [
       "1. 22314\n",
       "2. 18\n",
       "\n",
       "\n"
      ],
      "text/plain": [
       "[1] 22314    18"
      ]
     },
     "metadata": {},
     "output_type": "display_data"
    }
   ],
   "source": [
    "dim(twas)"
   ]
  },
  {
   "cell_type": "code",
   "execution_count": 17,
   "id": "4fce3b3a-bb7b-45d6-a5d7-1d57f1d86b9e",
   "metadata": {
    "execution": {
     "iopub.execute_input": "2022-12-15T17:32:09.974217Z",
     "iopub.status.busy": "2022-12-15T17:32:09.973553Z",
     "iopub.status.idle": "2022-12-15T17:32:09.991025Z",
     "shell.execute_reply": "2022-12-15T17:32:09.990185Z"
    },
    "papermill": {
     "duration": 0.030364,
     "end_time": "2022-12-15T17:32:09.992329",
     "exception": false,
     "start_time": "2022-12-15T17:32:09.961965",
     "status": "completed"
    },
    "tags": []
   },
   "outputs": [
    {
     "data": {
      "text/html": [
       "<table class=\"dataframe\">\n",
       "<caption>A data.frame: 6 × 18</caption>\n",
       "<thead>\n",
       "\t<tr><th></th><th scope=col>gene</th><th scope=col>gene_name</th><th scope=col>pvalue</th><th scope=col>n</th><th scope=col>n_indep</th><th scope=col>p_i_best</th><th scope=col>t_i_best</th><th scope=col>p_i_worst</th><th scope=col>t_i_worst</th><th scope=col>eigen_max</th><th scope=col>eigen_min</th><th scope=col>eigen_min_kept</th><th scope=col>z_min</th><th scope=col>z_max</th><th scope=col>z_mean</th><th scope=col>z_sd</th><th scope=col>tmi</th><th scope=col>status</th></tr>\n",
       "\t<tr><th></th><th scope=col>&lt;chr&gt;</th><th scope=col>&lt;chr&gt;</th><th scope=col>&lt;dbl&gt;</th><th scope=col>&lt;dbl&gt;</th><th scope=col>&lt;dbl&gt;</th><th scope=col>&lt;dbl&gt;</th><th scope=col>&lt;chr&gt;</th><th scope=col>&lt;dbl&gt;</th><th scope=col>&lt;chr&gt;</th><th scope=col>&lt;dbl&gt;</th><th scope=col>&lt;dbl&gt;</th><th scope=col>&lt;dbl&gt;</th><th scope=col>&lt;dbl&gt;</th><th scope=col>&lt;dbl&gt;</th><th scope=col>&lt;dbl&gt;</th><th scope=col>&lt;dbl&gt;</th><th scope=col>&lt;dbl&gt;</th><th scope=col>&lt;dbl&gt;</th></tr>\n",
       "</thead>\n",
       "<tbody>\n",
       "\t<tr><th scope=row>1</th><td>ENSG00000196735.11</td><td>HLA-DQA1</td><td>7.348761e-41</td><td>44</td><td> 6</td><td>9.592643e-43</td><td>Adipose_Subcutaneous    </td><td>1.609915e-01</td><td>Liver                     </td><td>28.204735</td><td>2.729601e-15</td><td>0.9619905</td><td>-13.704118</td><td> 4.770396</td><td> -8.595632</td><td>4.503510</td><td> 6</td><td>0</td></tr>\n",
       "\t<tr><th scope=row>2</th><td>ENSG00000204290.10</td><td>BTNL2   </td><td>1.946528e-35</td><td>21</td><td>10</td><td>9.033026e-34</td><td>Brain_Cerebellum        </td><td>9.478300e-01</td><td>Spleen                    </td><td> 6.638123</td><td>3.961112e-17</td><td>0.2530003</td><td>-12.112823</td><td> 9.268516</td><td> -1.785955</td><td>5.342915</td><td>10</td><td>0</td></tr>\n",
       "\t<tr><th scope=row>3</th><td>ENSG00000204287.13</td><td>HLA-DRA </td><td>1.368742e-34</td><td>31</td><td> 6</td><td>3.519801e-16</td><td>Liver                   </td><td>2.968206e-01</td><td>Uterus                    </td><td>13.206309</td><td>1.090915e-15</td><td>0.8755279</td><td> -8.154035</td><td> 5.484352</td><td> -2.356741</td><td>4.415696</td><td> 6</td><td>0</td></tr>\n",
       "\t<tr><th scope=row>4</th><td>ENSG00000237541.3 </td><td>HLA-DQA2</td><td>1.435612e-33</td><td>45</td><td> 5</td><td>1.423904e-43</td><td>Adipose_Visceral_Omentum</td><td>6.029583e-05</td><td>Kidney_Cortex             </td><td>29.469983</td><td>2.851292e-15</td><td>1.1347679</td><td>  4.011650</td><td>13.841901</td><td>  9.785267</td><td>1.782440</td><td> 5</td><td>0</td></tr>\n",
       "\t<tr><th scope=row>5</th><td>ENSG00000179344.16</td><td>HLA-DQB1</td><td>5.862907e-33</td><td>49</td><td> 3</td><td>6.301083e-36</td><td>Adipose_Visceral_Omentum</td><td>1.061761e-03</td><td>Cells_Cultured_fibroblasts</td><td>43.187142</td><td>4.265176e-15</td><td>1.4925449</td><td>-12.513469</td><td>-3.273628</td><td>-10.685931</td><td>1.933292</td><td> 3</td><td>0</td></tr>\n",
       "\t<tr><th scope=row>6</th><td>ENSG00000232629.8 </td><td>HLA-DQB2</td><td>9.179742e-31</td><td>41</td><td> 3</td><td>4.004190e-34</td><td>Brain_Frontal_Cortex_BA9</td><td>1.555482e-01</td><td>Skin_Sun_Exposed_Lower_leg</td><td>31.641709</td><td>3.098713e-15</td><td>2.4323223</td><td> -1.420204</td><td>12.179358</td><td>  9.984867</td><td>2.771756</td><td> 3</td><td>0</td></tr>\n",
       "</tbody>\n",
       "</table>\n"
      ],
      "text/latex": [
       "A data.frame: 6 × 18\n",
       "\\begin{tabular}{r|llllllllllllllllll}\n",
       "  & gene & gene\\_name & pvalue & n & n\\_indep & p\\_i\\_best & t\\_i\\_best & p\\_i\\_worst & t\\_i\\_worst & eigen\\_max & eigen\\_min & eigen\\_min\\_kept & z\\_min & z\\_max & z\\_mean & z\\_sd & tmi & status\\\\\n",
       "  & <chr> & <chr> & <dbl> & <dbl> & <dbl> & <dbl> & <chr> & <dbl> & <chr> & <dbl> & <dbl> & <dbl> & <dbl> & <dbl> & <dbl> & <dbl> & <dbl> & <dbl>\\\\\n",
       "\\hline\n",
       "\t1 & ENSG00000196735.11 & HLA-DQA1 & 7.348761e-41 & 44 &  6 & 9.592643e-43 & Adipose\\_Subcutaneous     & 1.609915e-01 & Liver                      & 28.204735 & 2.729601e-15 & 0.9619905 & -13.704118 &  4.770396 &  -8.595632 & 4.503510 &  6 & 0\\\\\n",
       "\t2 & ENSG00000204290.10 & BTNL2    & 1.946528e-35 & 21 & 10 & 9.033026e-34 & Brain\\_Cerebellum         & 9.478300e-01 & Spleen                     &  6.638123 & 3.961112e-17 & 0.2530003 & -12.112823 &  9.268516 &  -1.785955 & 5.342915 & 10 & 0\\\\\n",
       "\t3 & ENSG00000204287.13 & HLA-DRA  & 1.368742e-34 & 31 &  6 & 3.519801e-16 & Liver                    & 2.968206e-01 & Uterus                     & 13.206309 & 1.090915e-15 & 0.8755279 &  -8.154035 &  5.484352 &  -2.356741 & 4.415696 &  6 & 0\\\\\n",
       "\t4 & ENSG00000237541.3  & HLA-DQA2 & 1.435612e-33 & 45 &  5 & 1.423904e-43 & Adipose\\_Visceral\\_Omentum & 6.029583e-05 & Kidney\\_Cortex              & 29.469983 & 2.851292e-15 & 1.1347679 &   4.011650 & 13.841901 &   9.785267 & 1.782440 &  5 & 0\\\\\n",
       "\t5 & ENSG00000179344.16 & HLA-DQB1 & 5.862907e-33 & 49 &  3 & 6.301083e-36 & Adipose\\_Visceral\\_Omentum & 1.061761e-03 & Cells\\_Cultured\\_fibroblasts & 43.187142 & 4.265176e-15 & 1.4925449 & -12.513469 & -3.273628 & -10.685931 & 1.933292 &  3 & 0\\\\\n",
       "\t6 & ENSG00000232629.8  & HLA-DQB2 & 9.179742e-31 & 41 &  3 & 4.004190e-34 & Brain\\_Frontal\\_Cortex\\_BA9 & 1.555482e-01 & Skin\\_Sun\\_Exposed\\_Lower\\_leg & 31.641709 & 3.098713e-15 & 2.4323223 &  -1.420204 & 12.179358 &   9.984867 & 2.771756 &  3 & 0\\\\\n",
       "\\end{tabular}\n"
      ],
      "text/markdown": [
       "\n",
       "A data.frame: 6 × 18\n",
       "\n",
       "| <!--/--> | gene &lt;chr&gt; | gene_name &lt;chr&gt; | pvalue &lt;dbl&gt; | n &lt;dbl&gt; | n_indep &lt;dbl&gt; | p_i_best &lt;dbl&gt; | t_i_best &lt;chr&gt; | p_i_worst &lt;dbl&gt; | t_i_worst &lt;chr&gt; | eigen_max &lt;dbl&gt; | eigen_min &lt;dbl&gt; | eigen_min_kept &lt;dbl&gt; | z_min &lt;dbl&gt; | z_max &lt;dbl&gt; | z_mean &lt;dbl&gt; | z_sd &lt;dbl&gt; | tmi &lt;dbl&gt; | status &lt;dbl&gt; |\n",
       "|---|---|---|---|---|---|---|---|---|---|---|---|---|---|---|---|---|---|---|\n",
       "| 1 | ENSG00000196735.11 | HLA-DQA1 | 7.348761e-41 | 44 |  6 | 9.592643e-43 | Adipose_Subcutaneous     | 1.609915e-01 | Liver                      | 28.204735 | 2.729601e-15 | 0.9619905 | -13.704118 |  4.770396 |  -8.595632 | 4.503510 |  6 | 0 |\n",
       "| 2 | ENSG00000204290.10 | BTNL2    | 1.946528e-35 | 21 | 10 | 9.033026e-34 | Brain_Cerebellum         | 9.478300e-01 | Spleen                     |  6.638123 | 3.961112e-17 | 0.2530003 | -12.112823 |  9.268516 |  -1.785955 | 5.342915 | 10 | 0 |\n",
       "| 3 | ENSG00000204287.13 | HLA-DRA  | 1.368742e-34 | 31 |  6 | 3.519801e-16 | Liver                    | 2.968206e-01 | Uterus                     | 13.206309 | 1.090915e-15 | 0.8755279 |  -8.154035 |  5.484352 |  -2.356741 | 4.415696 |  6 | 0 |\n",
       "| 4 | ENSG00000237541.3  | HLA-DQA2 | 1.435612e-33 | 45 |  5 | 1.423904e-43 | Adipose_Visceral_Omentum | 6.029583e-05 | Kidney_Cortex              | 29.469983 | 2.851292e-15 | 1.1347679 |   4.011650 | 13.841901 |   9.785267 | 1.782440 |  5 | 0 |\n",
       "| 5 | ENSG00000179344.16 | HLA-DQB1 | 5.862907e-33 | 49 |  3 | 6.301083e-36 | Adipose_Visceral_Omentum | 1.061761e-03 | Cells_Cultured_fibroblasts | 43.187142 | 4.265176e-15 | 1.4925449 | -12.513469 | -3.273628 | -10.685931 | 1.933292 |  3 | 0 |\n",
       "| 6 | ENSG00000232629.8  | HLA-DQB2 | 9.179742e-31 | 41 |  3 | 4.004190e-34 | Brain_Frontal_Cortex_BA9 | 1.555482e-01 | Skin_Sun_Exposed_Lower_leg | 31.641709 | 3.098713e-15 | 2.4323223 |  -1.420204 | 12.179358 |   9.984867 | 2.771756 |  3 | 0 |\n",
       "\n"
      ],
      "text/plain": [
       "  gene               gene_name pvalue       n  n_indep p_i_best    \n",
       "1 ENSG00000196735.11 HLA-DQA1  7.348761e-41 44  6      9.592643e-43\n",
       "2 ENSG00000204290.10 BTNL2     1.946528e-35 21 10      9.033026e-34\n",
       "3 ENSG00000204287.13 HLA-DRA   1.368742e-34 31  6      3.519801e-16\n",
       "4 ENSG00000237541.3  HLA-DQA2  1.435612e-33 45  5      1.423904e-43\n",
       "5 ENSG00000179344.16 HLA-DQB1  5.862907e-33 49  3      6.301083e-36\n",
       "6 ENSG00000232629.8  HLA-DQB2  9.179742e-31 41  3      4.004190e-34\n",
       "  t_i_best                 p_i_worst    t_i_worst                  eigen_max\n",
       "1 Adipose_Subcutaneous     1.609915e-01 Liver                      28.204735\n",
       "2 Brain_Cerebellum         9.478300e-01 Spleen                      6.638123\n",
       "3 Liver                    2.968206e-01 Uterus                     13.206309\n",
       "4 Adipose_Visceral_Omentum 6.029583e-05 Kidney_Cortex              29.469983\n",
       "5 Adipose_Visceral_Omentum 1.061761e-03 Cells_Cultured_fibroblasts 43.187142\n",
       "6 Brain_Frontal_Cortex_BA9 1.555482e-01 Skin_Sun_Exposed_Lower_leg 31.641709\n",
       "  eigen_min    eigen_min_kept z_min      z_max     z_mean     z_sd     tmi\n",
       "1 2.729601e-15 0.9619905      -13.704118  4.770396  -8.595632 4.503510  6 \n",
       "2 3.961112e-17 0.2530003      -12.112823  9.268516  -1.785955 5.342915 10 \n",
       "3 1.090915e-15 0.8755279       -8.154035  5.484352  -2.356741 4.415696  6 \n",
       "4 2.851292e-15 1.1347679        4.011650 13.841901   9.785267 1.782440  5 \n",
       "5 4.265176e-15 1.4925449      -12.513469 -3.273628 -10.685931 1.933292  3 \n",
       "6 3.098713e-15 2.4323223       -1.420204 12.179358   9.984867 2.771756  3 \n",
       "  status\n",
       "1 0     \n",
       "2 0     \n",
       "3 0     \n",
       "4 0     \n",
       "5 0     \n",
       "6 0     "
      ]
     },
     "metadata": {},
     "output_type": "display_data"
    }
   ],
   "source": [
    "head(twas)"
   ]
  },
  {
   "cell_type": "markdown",
   "id": "481d9699-39f7-473a-ab1d-fa1cd77dacb5",
   "metadata": {
    "papermill": {
     "duration": 0.01133,
     "end_time": "2022-12-15T17:32:10.015351",
     "exception": false,
     "start_time": "2022-12-15T17:32:10.004021",
     "status": "completed"
    },
    "tags": []
   },
   "source": [
    "### QQ-plot"
   ]
  },
  {
   "cell_type": "code",
   "execution_count": 18,
   "id": "5fc76ac3-885a-47c8-8c7b-70ad918749c0",
   "metadata": {
    "execution": {
     "iopub.execute_input": "2022-12-15T17:32:10.039470Z",
     "iopub.status.busy": "2022-12-15T17:32:10.038696Z",
     "iopub.status.idle": "2022-12-15T17:32:10.481275Z",
     "shell.execute_reply": "2022-12-15T17:32:10.480439Z"
    },
    "papermill": {
     "duration": 0.456507,
     "end_time": "2022-12-15T17:32:10.483111",
     "exception": false,
     "start_time": "2022-12-15T17:32:10.026604",
     "status": "completed"
    },
    "tags": []
   },
   "outputs": [
    {
     "data": {
      "image/png": "[encoded data removed]",
      "text/plain": [
       "Plot with title “Q-Q plot of S-MultiXcan for Asthma only (imputed)”"
      ]
     },
     "metadata": {
      "image/png": {
       "height": 600,
       "width": 600
      }
     },
     "output_type": "display_data"
    }
   ],
   "source": [
    "options(repr.plot.width = 10, repr.plot.height = 10)\n",
    "\n",
    "qq(twas$pvalue, main = paste0(\"Q-Q plot of S-MultiXcan for \", gwas_title))"
   ]
  },
  {
   "cell_type": "markdown",
   "id": "77559fb3-353a-4edf-a0bf-7d04d969b521",
   "metadata": {
    "papermill": {
     "duration": 0.010143,
     "end_time": "2022-12-15T17:32:10.514992",
     "exception": false,
     "start_time": "2022-12-15T17:32:10.504849",
     "status": "completed"
    },
    "tags": []
   },
   "source": [
    "# COPD only"
   ]
  },
  {
   "cell_type": "code",
   "execution_count": 19,
   "id": "a383a897-0cd2-4131-b569-60768a15b6cf",
   "metadata": {
    "execution": {
     "iopub.execute_input": "2022-12-15T17:32:10.529378Z",
     "iopub.status.busy": "2022-12-15T17:32:10.528594Z",
     "iopub.status.idle": "2022-12-15T17:32:10.534614Z",
     "shell.execute_reply": "2022-12-15T17:32:10.533795Z"
    },
    "papermill": {
     "duration": 0.014177,
     "end_time": "2022-12-15T17:32:10.535675",
     "exception": false,
     "start_time": "2022-12-15T17:32:10.521498",
     "status": "completed"
    },
    "tags": []
   },
   "outputs": [],
   "source": [
    "gwas_title <- \"COPD only (imputed)\""
   ]
  },
  {
   "cell_type": "markdown",
   "id": "6bbf0088-d396-4c3e-a972-3a1768aea2ec",
   "metadata": {
    "papermill": {
     "duration": 0.006402,
     "end_time": "2022-12-15T17:32:10.548625",
     "exception": false,
     "start_time": "2022-12-15T17:32:10.542223",
     "status": "completed"
    },
    "tags": []
   },
   "source": [
    "## S-PrediXcan"
   ]
  },
  {
   "cell_type": "markdown",
   "id": "57fb2d2c-2263-4c72-8a5e-19e9ac98a879",
   "metadata": {
    "papermill": {
     "duration": 0.006356,
     "end_time": "2022-12-15T17:32:10.561393",
     "exception": false,
     "start_time": "2022-12-15T17:32:10.555037",
     "status": "completed"
    },
    "tags": []
   },
   "source": [
    "### Load data"
   ]
  },
  {
   "cell_type": "code",
   "execution_count": 20,
   "id": "19b282d8-5aba-4b33-9f74-57ab61c8dc11",
   "metadata": {
    "execution": {
     "iopub.execute_input": "2022-12-15T17:32:10.575596Z",
     "iopub.status.busy": "2022-12-15T17:32:10.574845Z",
     "iopub.status.idle": "2022-12-15T17:32:10.639253Z",
     "shell.execute_reply": "2022-12-15T17:32:10.638394Z"
    },
    "papermill": {
     "duration": 0.072688,
     "end_time": "2022-12-15T17:32:10.640472",
     "exception": false,
     "start_time": "2022-12-15T17:32:10.567784",
     "status": "completed"
    },
    "tags": []
   },
   "outputs": [
    {
     "name": "stderr",
     "output_type": "stream",
     "text": [
      "\u001b[1mRows: \u001b[22m\u001b[34m12197\u001b[39m \u001b[1mColumns: \u001b[22m\u001b[34m14\u001b[39m\n",
      "\u001b[36m──\u001b[39m \u001b[1mColumn specification\u001b[22m \u001b[36m─────────────────────────────────────────────────────────────────────────────────────────────────────────────────────────────────────────────────────────────────────\u001b[39m\n",
      "\u001b[1mDelimiter:\u001b[22m \",\"\n",
      "\u001b[31mchr\u001b[39m (2): gene, gene_name\n",
      "\u001b[32mdbl\u001b[39m (8): zscore, pvalue, var_g, n_snps_used, n_snps_in_cov, n_snps_in_model,...\n",
      "\u001b[33mlgl\u001b[39m (4): effect_size, pred_perf_r2, pred_perf_pval, pred_perf_qval\n",
      "\n",
      "\u001b[36mℹ\u001b[39m Use `spec()` to retrieve the full column specification for this data.\n",
      "\u001b[36mℹ\u001b[39m Specify the column types or set `show_col_types = FALSE` to quiet this message.\n"
     ]
    }
   ],
   "source": [
    "twas <- as.data.frame(read_csv(file.path(SPREDIXCAN_DIR, \"GWAS_COPD_only_GLM_SNPs_info0.7-gtex_v8-mashr-Whole_Blood.csv\")))"
   ]
  },
  {
   "cell_type": "code",
   "execution_count": 21,
   "id": "947e7ec9-43c7-406a-affa-3d6cb3edd4ec",
   "metadata": {
    "execution": {
     "iopub.execute_input": "2022-12-15T17:32:10.672898Z",
     "iopub.status.busy": "2022-12-15T17:32:10.666720Z",
     "iopub.status.idle": "2022-12-15T17:32:10.679481Z",
     "shell.execute_reply": "2022-12-15T17:32:10.678686Z"
    },
    "papermill": {
     "duration": 0.027438,
     "end_time": "2022-12-15T17:32:10.680739",
     "exception": false,
     "start_time": "2022-12-15T17:32:10.653301",
     "status": "completed"
    },
    "tags": []
   },
   "outputs": [
    {
     "data": {
      "text/html": [
       "<style>\n",
       ".list-inline {list-style: none; margin:0; padding: 0}\n",
       ".list-inline>li {display: inline-block}\n",
       ".list-inline>li:not(:last-child)::after {content: \"\\00b7\"; padding: 0 .5ex}\n",
       "</style>\n",
       "<ol class=list-inline><li>12197</li><li>14</li></ol>\n"
      ],
      "text/latex": [
       "\\begin{enumerate*}\n",
       "\\item 12197\n",
       "\\item 14\n",
       "\\end{enumerate*}\n"
      ],
      "text/markdown": [
       "1. 12197\n",
       "2. 14\n",
       "\n",
       "\n"
      ],
      "text/plain": [
       "[1] 12197    14"
      ]
     },
     "metadata": {},
     "output_type": "display_data"
    }
   ],
   "source": [
    "dim(twas)"
   ]
  },
  {
   "cell_type": "code",
   "execution_count": 22,
   "id": "fa030b0b-605c-45ec-a419-7029e8ff9946",
   "metadata": {
    "execution": {
     "iopub.execute_input": "2022-12-15T17:32:10.707992Z",
     "iopub.status.busy": "2022-12-15T17:32:10.707308Z",
     "iopub.status.idle": "2022-12-15T17:32:10.722594Z",
     "shell.execute_reply": "2022-12-15T17:32:10.721773Z"
    },
    "papermill": {
     "duration": 0.02995,
     "end_time": "2022-12-15T17:32:10.723866",
     "exception": false,
     "start_time": "2022-12-15T17:32:10.693916",
     "status": "completed"
    },
    "tags": []
   },
   "outputs": [
    {
     "data": {
      "text/html": [
       "<table class=\"dataframe\">\n",
       "<caption>A data.frame: 6 × 14</caption>\n",
       "<thead>\n",
       "\t<tr><th></th><th scope=col>gene</th><th scope=col>gene_name</th><th scope=col>zscore</th><th scope=col>effect_size</th><th scope=col>pvalue</th><th scope=col>var_g</th><th scope=col>pred_perf_r2</th><th scope=col>pred_perf_pval</th><th scope=col>pred_perf_qval</th><th scope=col>n_snps_used</th><th scope=col>n_snps_in_cov</th><th scope=col>n_snps_in_model</th><th scope=col>best_gwas_p</th><th scope=col>largest_weight</th></tr>\n",
       "\t<tr><th></th><th scope=col>&lt;chr&gt;</th><th scope=col>&lt;chr&gt;</th><th scope=col>&lt;dbl&gt;</th><th scope=col>&lt;lgl&gt;</th><th scope=col>&lt;dbl&gt;</th><th scope=col>&lt;dbl&gt;</th><th scope=col>&lt;lgl&gt;</th><th scope=col>&lt;lgl&gt;</th><th scope=col>&lt;lgl&gt;</th><th scope=col>&lt;dbl&gt;</th><th scope=col>&lt;dbl&gt;</th><th scope=col>&lt;dbl&gt;</th><th scope=col>&lt;dbl&gt;</th><th scope=col>&lt;dbl&gt;</th></tr>\n",
       "</thead>\n",
       "<tbody>\n",
       "\t<tr><th scope=row>1</th><td>ENSG00000188266.13</td><td>HYKK  </td><td>-7.977829</td><td>NA</td><td>1.489290e-15</td><td>0.002663041</td><td>NA</td><td>NA</td><td>NA</td><td>1</td><td>1</td><td>1</td><td>1.489290e-15</td><td>0.07687678</td></tr>\n",
       "\t<tr><th scope=row>2</th><td>ENSG00000041357.15</td><td>PSMA4 </td><td> 7.580813</td><td>NA</td><td>3.433968e-14</td><td>0.006042843</td><td>NA</td><td>NA</td><td>NA</td><td>3</td><td>3</td><td>3</td><td>1.884797e-15</td><td>0.16117561</td></tr>\n",
       "\t<tr><th scope=row>3</th><td>ENSG00000183049.12</td><td>CAMK1D</td><td> 6.846095</td><td>NA</td><td>7.589322e-12</td><td>0.059838781</td><td>NA</td><td>NA</td><td>NA</td><td>2</td><td>2</td><td>2</td><td>2.814849e-11</td><td>0.27717279</td></tr>\n",
       "\t<tr><th scope=row>4</th><td>ENSG00000165609.12</td><td>NUDT5 </td><td> 5.826954</td><td>NA</td><td>5.644804e-09</td><td>0.005000704</td><td>NA</td><td>NA</td><td>NA</td><td>1</td><td>1</td><td>1</td><td>5.644804e-09</td><td>0.10294340</td></tr>\n",
       "\t<tr><th scope=row>5</th><td>ENSG00000198624.12</td><td>CCDC69</td><td>-5.352389</td><td>NA</td><td>8.680055e-08</td><td>0.028808092</td><td>NA</td><td>NA</td><td>NA</td><td>4</td><td>4</td><td>4</td><td>1.032419e-07</td><td>0.17067329</td></tr>\n",
       "\t<tr><th scope=row>6</th><td>ENSG00000135074.15</td><td>ADAM19</td><td> 5.149474</td><td>NA</td><td>2.612179e-07</td><td>0.019394628</td><td>NA</td><td>NA</td><td>NA</td><td>3</td><td>3</td><td>3</td><td>2.718047e-07</td><td>0.15259514</td></tr>\n",
       "</tbody>\n",
       "</table>\n"
      ],
      "text/latex": [
       "A data.frame: 6 × 14\n",
       "\\begin{tabular}{r|llllllllllllll}\n",
       "  & gene & gene\\_name & zscore & effect\\_size & pvalue & var\\_g & pred\\_perf\\_r2 & pred\\_perf\\_pval & pred\\_perf\\_qval & n\\_snps\\_used & n\\_snps\\_in\\_cov & n\\_snps\\_in\\_model & best\\_gwas\\_p & largest\\_weight\\\\\n",
       "  & <chr> & <chr> & <dbl> & <lgl> & <dbl> & <dbl> & <lgl> & <lgl> & <lgl> & <dbl> & <dbl> & <dbl> & <dbl> & <dbl>\\\\\n",
       "\\hline\n",
       "\t1 & ENSG00000188266.13 & HYKK   & -7.977829 & NA & 1.489290e-15 & 0.002663041 & NA & NA & NA & 1 & 1 & 1 & 1.489290e-15 & 0.07687678\\\\\n",
       "\t2 & ENSG00000041357.15 & PSMA4  &  7.580813 & NA & 3.433968e-14 & 0.006042843 & NA & NA & NA & 3 & 3 & 3 & 1.884797e-15 & 0.16117561\\\\\n",
       "\t3 & ENSG00000183049.12 & CAMK1D &  6.846095 & NA & 7.589322e-12 & 0.059838781 & NA & NA & NA & 2 & 2 & 2 & 2.814849e-11 & 0.27717279\\\\\n",
       "\t4 & ENSG00000165609.12 & NUDT5  &  5.826954 & NA & 5.644804e-09 & 0.005000704 & NA & NA & NA & 1 & 1 & 1 & 5.644804e-09 & 0.10294340\\\\\n",
       "\t5 & ENSG00000198624.12 & CCDC69 & -5.352389 & NA & 8.680055e-08 & 0.028808092 & NA & NA & NA & 4 & 4 & 4 & 1.032419e-07 & 0.17067329\\\\\n",
       "\t6 & ENSG00000135074.15 & ADAM19 &  5.149474 & NA & 2.612179e-07 & 0.019394628 & NA & NA & NA & 3 & 3 & 3 & 2.718047e-07 & 0.15259514\\\\\n",
       "\\end{tabular}\n"
      ],
      "text/markdown": [
       "\n",
       "A data.frame: 6 × 14\n",
       "\n",
       "| <!--/--> | gene &lt;chr&gt; | gene_name &lt;chr&gt; | zscore &lt;dbl&gt; | effect_size &lt;lgl&gt; | pvalue &lt;dbl&gt; | var_g &lt;dbl&gt; | pred_perf_r2 &lt;lgl&gt; | pred_perf_pval &lt;lgl&gt; | pred_perf_qval &lt;lgl&gt; | n_snps_used &lt;dbl&gt; | n_snps_in_cov &lt;dbl&gt; | n_snps_in_model &lt;dbl&gt; | best_gwas_p &lt;dbl&gt; | largest_weight &lt;dbl&gt; |\n",
       "|---|---|---|---|---|---|---|---|---|---|---|---|---|---|---|\n",
       "| 1 | ENSG00000188266.13 | HYKK   | -7.977829 | NA | 1.489290e-15 | 0.002663041 | NA | NA | NA | 1 | 1 | 1 | 1.489290e-15 | 0.07687678 |\n",
       "| 2 | ENSG00000041357.15 | PSMA4  |  7.580813 | NA | 3.433968e-14 | 0.006042843 | NA | NA | NA | 3 | 3 | 3 | 1.884797e-15 | 0.16117561 |\n",
       "| 3 | ENSG00000183049.12 | CAMK1D |  6.846095 | NA | 7.589322e-12 | 0.059838781 | NA | NA | NA | 2 | 2 | 2 | 2.814849e-11 | 0.27717279 |\n",
       "| 4 | ENSG00000165609.12 | NUDT5  |  5.826954 | NA | 5.644804e-09 | 0.005000704 | NA | NA | NA | 1 | 1 | 1 | 5.644804e-09 | 0.10294340 |\n",
       "| 5 | ENSG00000198624.12 | CCDC69 | -5.352389 | NA | 8.680055e-08 | 0.028808092 | NA | NA | NA | 4 | 4 | 4 | 1.032419e-07 | 0.17067329 |\n",
       "| 6 | ENSG00000135074.15 | ADAM19 |  5.149474 | NA | 2.612179e-07 | 0.019394628 | NA | NA | NA | 3 | 3 | 3 | 2.718047e-07 | 0.15259514 |\n",
       "\n"
      ],
      "text/plain": [
       "  gene               gene_name zscore    effect_size pvalue       var_g      \n",
       "1 ENSG00000188266.13 HYKK      -7.977829 NA          1.489290e-15 0.002663041\n",
       "2 ENSG00000041357.15 PSMA4      7.580813 NA          3.433968e-14 0.006042843\n",
       "3 ENSG00000183049.12 CAMK1D     6.846095 NA          7.589322e-12 0.059838781\n",
       "4 ENSG00000165609.12 NUDT5      5.826954 NA          5.644804e-09 0.005000704\n",
       "5 ENSG00000198624.12 CCDC69    -5.352389 NA          8.680055e-08 0.028808092\n",
       "6 ENSG00000135074.15 ADAM19     5.149474 NA          2.612179e-07 0.019394628\n",
       "  pred_perf_r2 pred_perf_pval pred_perf_qval n_snps_used n_snps_in_cov\n",
       "1 NA           NA             NA             1           1            \n",
       "2 NA           NA             NA             3           3            \n",
       "3 NA           NA             NA             2           2            \n",
       "4 NA           NA             NA             1           1            \n",
       "5 NA           NA             NA             4           4            \n",
       "6 NA           NA             NA             3           3            \n",
       "  n_snps_in_model best_gwas_p  largest_weight\n",
       "1 1               1.489290e-15 0.07687678    \n",
       "2 3               1.884797e-15 0.16117561    \n",
       "3 2               2.814849e-11 0.27717279    \n",
       "4 1               5.644804e-09 0.10294340    \n",
       "5 4               1.032419e-07 0.17067329    \n",
       "6 3               2.718047e-07 0.15259514    "
      ]
     },
     "metadata": {},
     "output_type": "display_data"
    }
   ],
   "source": [
    "head(twas)"
   ]
  },
  {
   "cell_type": "markdown",
   "id": "08a4bd62-0123-4b64-a637-f4777ddec42e",
   "metadata": {
    "papermill": {
     "duration": 0.012973,
     "end_time": "2022-12-15T17:32:10.750273",
     "exception": false,
     "start_time": "2022-12-15T17:32:10.737300",
     "status": "completed"
    },
    "tags": []
   },
   "source": [
    "### QQ-plot"
   ]
  },
  {
   "cell_type": "code",
   "execution_count": 23,
   "id": "2e56105f-14e6-4465-b02c-6949a2cd26d2",
   "metadata": {
    "execution": {
     "iopub.execute_input": "2022-12-15T17:32:10.774012Z",
     "iopub.status.busy": "2022-12-15T17:32:10.773262Z",
     "iopub.status.idle": "2022-12-15T17:32:11.043698Z",
     "shell.execute_reply": "2022-12-15T17:32:11.042866Z"
    },
    "papermill": {
     "duration": 0.281794,
     "end_time": "2022-12-15T17:32:11.045245",
     "exception": false,
     "start_time": "2022-12-15T17:32:10.763451",
     "status": "completed"
    },
    "tags": []
   },
   "outputs": [
    {
     "data": {
      "image/png": "[encoded data removed]",
      "text/plain": [
       "Plot with title “Q-Q plot of S-PrediXcan for COPD only (imputed)”"
      ]
     },
     "metadata": {
      "image/png": {
       "height": 600,
       "width": 600
      }
     },
     "output_type": "display_data"
    }
   ],
   "source": [
    "options(repr.plot.width = 10, repr.plot.height = 10)\n",
    "\n",
    "qq(twas$pvalue, main = paste0(\"Q-Q plot of S-PrediXcan for \", gwas_title))"
   ]
  },
  {
   "cell_type": "markdown",
   "id": "75fdea4d-0047-4b72-ad67-812a3a9c803a",
   "metadata": {
    "papermill": {
     "duration": 0.010357,
     "end_time": "2022-12-15T17:32:11.063209",
     "exception": false,
     "start_time": "2022-12-15T17:32:11.052852",
     "status": "completed"
    },
    "tags": []
   },
   "source": [
    "## S-MultiXcan"
   ]
  },
  {
   "cell_type": "markdown",
   "id": "eb08e3cb-d070-4ce7-bf2e-bf0cbf7ffc46",
   "metadata": {
    "papermill": {
     "duration": 0.007239,
     "end_time": "2022-12-15T17:32:11.077812",
     "exception": false,
     "start_time": "2022-12-15T17:32:11.070573",
     "status": "completed"
    },
    "tags": []
   },
   "source": [
    "### Load data"
   ]
  },
  {
   "cell_type": "code",
   "execution_count": 24,
   "id": "642daee7-9144-4153-b2fd-75631d3bb334",
   "metadata": {
    "execution": {
     "iopub.execute_input": "2022-12-15T17:32:11.093855Z",
     "iopub.status.busy": "2022-12-15T17:32:11.093150Z",
     "iopub.status.idle": "2022-12-15T17:32:11.163008Z",
     "shell.execute_reply": "2022-12-15T17:32:11.162043Z"
    },
    "papermill": {
     "duration": 0.079223,
     "end_time": "2022-12-15T17:32:11.164323",
     "exception": false,
     "start_time": "2022-12-15T17:32:11.085100",
     "status": "completed"
    },
    "tags": []
   },
   "outputs": [
    {
     "name": "stderr",
     "output_type": "stream",
     "text": [
      "\n",
      "\u001b[36m──\u001b[39m \u001b[1mColumn specification\u001b[22m \u001b[36m─────────────────────────────────────────────────────────────────────────────────────────────────────────────────────────────────────────────────────────────────────\u001b[39m\n",
      "cols(\n",
      "  gene = \u001b[31mcol_character()\u001b[39m,\n",
      "  gene_name = \u001b[31mcol_character()\u001b[39m,\n",
      "  pvalue = \u001b[32mcol_double()\u001b[39m,\n",
      "  n = \u001b[32mcol_double()\u001b[39m,\n",
      "  n_indep = \u001b[32mcol_double()\u001b[39m,\n",
      "  p_i_best = \u001b[32mcol_double()\u001b[39m,\n",
      "  t_i_best = \u001b[31mcol_character()\u001b[39m,\n",
      "  p_i_worst = \u001b[32mcol_double()\u001b[39m,\n",
      "  t_i_worst = \u001b[31mcol_character()\u001b[39m,\n",
      "  eigen_max = \u001b[32mcol_double()\u001b[39m,\n",
      "  eigen_min = \u001b[32mcol_double()\u001b[39m,\n",
      "  eigen_min_kept = \u001b[32mcol_double()\u001b[39m,\n",
      "  z_min = \u001b[32mcol_double()\u001b[39m,\n",
      "  z_max = \u001b[32mcol_double()\u001b[39m,\n",
      "  z_mean = \u001b[32mcol_double()\u001b[39m,\n",
      "  z_sd = \u001b[32mcol_double()\u001b[39m,\n",
      "  tmi = \u001b[32mcol_double()\u001b[39m,\n",
      "  status = \u001b[32mcol_double()\u001b[39m\n",
      ")\n",
      "\n"
     ]
    }
   ],
   "source": [
    "twas <- as.data.frame(read_table(file.path(SMULTIXCAN_DIR, \"GWAS_COPD_only_GLM_SNPs_info0.7-gtex_v8-mashr-smultixcan.txt\")))"
   ]
  },
  {
   "cell_type": "code",
   "execution_count": 25,
   "id": "94f55b92-9954-48e3-8ebb-4bcc9c9df466",
   "metadata": {
    "execution": {
     "iopub.execute_input": "2022-12-15T17:32:11.194778Z",
     "iopub.status.busy": "2022-12-15T17:32:11.194084Z",
     "iopub.status.idle": "2022-12-15T17:32:11.201379Z",
     "shell.execute_reply": "2022-12-15T17:32:11.200558Z"
    },
    "papermill": {
     "duration": 0.023571,
     "end_time": "2022-12-15T17:32:11.202646",
     "exception": false,
     "start_time": "2022-12-15T17:32:11.179075",
     "status": "completed"
    },
    "tags": []
   },
   "outputs": [
    {
     "data": {
      "text/html": [
       "<style>\n",
       ".list-inline {list-style: none; margin:0; padding: 0}\n",
       ".list-inline>li {display: inline-block}\n",
       ".list-inline>li:not(:last-child)::after {content: \"\\00b7\"; padding: 0 .5ex}\n",
       "</style>\n",
       "<ol class=list-inline><li>22329</li><li>18</li></ol>\n"
      ],
      "text/latex": [
       "\\begin{enumerate*}\n",
       "\\item 22329\n",
       "\\item 18\n",
       "\\end{enumerate*}\n"
      ],
      "text/markdown": [
       "1. 22329\n",
       "2. 18\n",
       "\n",
       "\n"
      ],
      "text/plain": [
       "[1] 22329    18"
      ]
     },
     "metadata": {},
     "output_type": "display_data"
    }
   ],
   "source": [
    "dim(twas)"
   ]
  },
  {
   "cell_type": "code",
   "execution_count": 26,
   "id": "999ba3a8-3df0-4bb4-89a7-1773772c91ce",
   "metadata": {
    "execution": {
     "iopub.execute_input": "2022-12-15T17:32:11.233379Z",
     "iopub.status.busy": "2022-12-15T17:32:11.232672Z",
     "iopub.status.idle": "2022-12-15T17:32:11.250391Z",
     "shell.execute_reply": "2022-12-15T17:32:11.249556Z"
    },
    "papermill": {
     "duration": 0.034462,
     "end_time": "2022-12-15T17:32:11.251645",
     "exception": false,
     "start_time": "2022-12-15T17:32:11.217183",
     "status": "completed"
    },
    "tags": []
   },
   "outputs": [
    {
     "data": {
      "text/html": [
       "<table class=\"dataframe\">\n",
       "<caption>A data.frame: 6 × 18</caption>\n",
       "<thead>\n",
       "\t<tr><th></th><th scope=col>gene</th><th scope=col>gene_name</th><th scope=col>pvalue</th><th scope=col>n</th><th scope=col>n_indep</th><th scope=col>p_i_best</th><th scope=col>t_i_best</th><th scope=col>p_i_worst</th><th scope=col>t_i_worst</th><th scope=col>eigen_max</th><th scope=col>eigen_min</th><th scope=col>eigen_min_kept</th><th scope=col>z_min</th><th scope=col>z_max</th><th scope=col>z_mean</th><th scope=col>z_sd</th><th scope=col>tmi</th><th scope=col>status</th></tr>\n",
       "\t<tr><th></th><th scope=col>&lt;chr&gt;</th><th scope=col>&lt;chr&gt;</th><th scope=col>&lt;dbl&gt;</th><th scope=col>&lt;dbl&gt;</th><th scope=col>&lt;dbl&gt;</th><th scope=col>&lt;dbl&gt;</th><th scope=col>&lt;chr&gt;</th><th scope=col>&lt;dbl&gt;</th><th scope=col>&lt;chr&gt;</th><th scope=col>&lt;dbl&gt;</th><th scope=col>&lt;dbl&gt;</th><th scope=col>&lt;dbl&gt;</th><th scope=col>&lt;dbl&gt;</th><th scope=col>&lt;dbl&gt;</th><th scope=col>&lt;dbl&gt;</th><th scope=col>&lt;dbl&gt;</th><th scope=col>&lt;dbl&gt;</th><th scope=col>&lt;dbl&gt;</th></tr>\n",
       "</thead>\n",
       "<tbody>\n",
       "\t<tr><th scope=row>1</th><td>ENSG00000041357.15</td><td>PSMA4 </td><td>1.536671e-22</td><td>49</td><td>4</td><td>3.091840e-18</td><td>Brain_Hypothalamus                 </td><td>0.9619185</td><td>Skin_Not_Sun_Exposed_Suprapubic</td><td>35.84134</td><td>1.065043e-15</td><td>1.2682287</td><td> -8.038637</td><td>8.7080364</td><td> 2.77421795</td><td>3.471912</td><td>4</td><td>0</td></tr>\n",
       "\t<tr><th scope=row>2</th><td>ENSG00000168743.12</td><td>NPNT  </td><td>1.710790e-22</td><td>49</td><td>5</td><td>2.520164e-25</td><td>Adipose_Visceral_Omentum           </td><td>0.7604612</td><td>Esophagus_Muscularis           </td><td>21.85090</td><td>9.655151e-16</td><td>1.0609712</td><td>-10.398443</td><td>4.7210526</td><td>-3.56596683</td><td>4.670617</td><td>5</td><td>0</td></tr>\n",
       "\t<tr><th scope=row>3</th><td>ENSG00000080644.15</td><td>CHRNA3</td><td>2.757816e-21</td><td>19</td><td>4</td><td>3.864274e-19</td><td>Esophagus_Gastroesophageal_Junction</td><td>0.2264615</td><td>Testis                         </td><td>10.49051</td><td>1.805447e-17</td><td>0.5072113</td><td> -8.940782</td><td>7.9233007</td><td>-4.65672015</td><td>4.678252</td><td>4</td><td>0</td></tr>\n",
       "\t<tr><th scope=row>4</th><td>ENSG00000169684.13</td><td>CHRNA5</td><td>1.915449e-20</td><td>46</td><td>3</td><td>5.095762e-19</td><td>Prostate                           </td><td>0.7150760</td><td>Stomach                        </td><td>39.87148</td><td>9.416138e-16</td><td>2.2838000</td><td> -8.910163</td><td>5.5496129</td><td>-3.15237152</td><td>2.750570</td><td>3</td><td>0</td></tr>\n",
       "\t<tr><th scope=row>5</th><td>ENSG00000188266.13</td><td>HYKK  </td><td>7.494625e-20</td><td>34</td><td>5</td><td>1.489290e-15</td><td>Whole_Blood                        </td><td>0.3847420</td><td>Adipose_Subcutaneous           </td><td>17.16289</td><td>5.991654e-16</td><td>0.9659782</td><td> -7.977829</td><td>2.3858542</td><td> 0.09463334</td><td>3.164331</td><td>5</td><td>0</td></tr>\n",
       "\t<tr><th scope=row>6</th><td>ENSG00000136381.12</td><td>IREB2 </td><td>2.123870e-17</td><td>45</td><td>3</td><td>3.861465e-13</td><td>Adrenal_Gland                      </td><td>0.7748960</td><td>Colon_Sigmoid                  </td><td>36.33522</td><td>1.009791e-15</td><td>3.2094249</td><td> -7.260330</td><td>0.9231483</td><td>-4.81611871</td><td>2.692266</td><td>3</td><td>0</td></tr>\n",
       "</tbody>\n",
       "</table>\n"
      ],
      "text/latex": [
       "A data.frame: 6 × 18\n",
       "\\begin{tabular}{r|llllllllllllllllll}\n",
       "  & gene & gene\\_name & pvalue & n & n\\_indep & p\\_i\\_best & t\\_i\\_best & p\\_i\\_worst & t\\_i\\_worst & eigen\\_max & eigen\\_min & eigen\\_min\\_kept & z\\_min & z\\_max & z\\_mean & z\\_sd & tmi & status\\\\\n",
       "  & <chr> & <chr> & <dbl> & <dbl> & <dbl> & <dbl> & <chr> & <dbl> & <chr> & <dbl> & <dbl> & <dbl> & <dbl> & <dbl> & <dbl> & <dbl> & <dbl> & <dbl>\\\\\n",
       "\\hline\n",
       "\t1 & ENSG00000041357.15 & PSMA4  & 1.536671e-22 & 49 & 4 & 3.091840e-18 & Brain\\_Hypothalamus                  & 0.9619185 & Skin\\_Not\\_Sun\\_Exposed\\_Suprapubic & 35.84134 & 1.065043e-15 & 1.2682287 &  -8.038637 & 8.7080364 &  2.77421795 & 3.471912 & 4 & 0\\\\\n",
       "\t2 & ENSG00000168743.12 & NPNT   & 1.710790e-22 & 49 & 5 & 2.520164e-25 & Adipose\\_Visceral\\_Omentum            & 0.7604612 & Esophagus\\_Muscularis            & 21.85090 & 9.655151e-16 & 1.0609712 & -10.398443 & 4.7210526 & -3.56596683 & 4.670617 & 5 & 0\\\\\n",
       "\t3 & ENSG00000080644.15 & CHRNA3 & 2.757816e-21 & 19 & 4 & 3.864274e-19 & Esophagus\\_Gastroesophageal\\_Junction & 0.2264615 & Testis                          & 10.49051 & 1.805447e-17 & 0.5072113 &  -8.940782 & 7.9233007 & -4.65672015 & 4.678252 & 4 & 0\\\\\n",
       "\t4 & ENSG00000169684.13 & CHRNA5 & 1.915449e-20 & 46 & 3 & 5.095762e-19 & Prostate                            & 0.7150760 & Stomach                         & 39.87148 & 9.416138e-16 & 2.2838000 &  -8.910163 & 5.5496129 & -3.15237152 & 2.750570 & 3 & 0\\\\\n",
       "\t5 & ENSG00000188266.13 & HYKK   & 7.494625e-20 & 34 & 5 & 1.489290e-15 & Whole\\_Blood                         & 0.3847420 & Adipose\\_Subcutaneous            & 17.16289 & 5.991654e-16 & 0.9659782 &  -7.977829 & 2.3858542 &  0.09463334 & 3.164331 & 5 & 0\\\\\n",
       "\t6 & ENSG00000136381.12 & IREB2  & 2.123870e-17 & 45 & 3 & 3.861465e-13 & Adrenal\\_Gland                       & 0.7748960 & Colon\\_Sigmoid                   & 36.33522 & 1.009791e-15 & 3.2094249 &  -7.260330 & 0.9231483 & -4.81611871 & 2.692266 & 3 & 0\\\\\n",
       "\\end{tabular}\n"
      ],
      "text/markdown": [
       "\n",
       "A data.frame: 6 × 18\n",
       "\n",
       "| <!--/--> | gene &lt;chr&gt; | gene_name &lt;chr&gt; | pvalue &lt;dbl&gt; | n &lt;dbl&gt; | n_indep &lt;dbl&gt; | p_i_best &lt;dbl&gt; | t_i_best &lt;chr&gt; | p_i_worst &lt;dbl&gt; | t_i_worst &lt;chr&gt; | eigen_max &lt;dbl&gt; | eigen_min &lt;dbl&gt; | eigen_min_kept &lt;dbl&gt; | z_min &lt;dbl&gt; | z_max &lt;dbl&gt; | z_mean &lt;dbl&gt; | z_sd &lt;dbl&gt; | tmi &lt;dbl&gt; | status &lt;dbl&gt; |\n",
       "|---|---|---|---|---|---|---|---|---|---|---|---|---|---|---|---|---|---|---|\n",
       "| 1 | ENSG00000041357.15 | PSMA4  | 1.536671e-22 | 49 | 4 | 3.091840e-18 | Brain_Hypothalamus                  | 0.9619185 | Skin_Not_Sun_Exposed_Suprapubic | 35.84134 | 1.065043e-15 | 1.2682287 |  -8.038637 | 8.7080364 |  2.77421795 | 3.471912 | 4 | 0 |\n",
       "| 2 | ENSG00000168743.12 | NPNT   | 1.710790e-22 | 49 | 5 | 2.520164e-25 | Adipose_Visceral_Omentum            | 0.7604612 | Esophagus_Muscularis            | 21.85090 | 9.655151e-16 | 1.0609712 | -10.398443 | 4.7210526 | -3.56596683 | 4.670617 | 5 | 0 |\n",
       "| 3 | ENSG00000080644.15 | CHRNA3 | 2.757816e-21 | 19 | 4 | 3.864274e-19 | Esophagus_Gastroesophageal_Junction | 0.2264615 | Testis                          | 10.49051 | 1.805447e-17 | 0.5072113 |  -8.940782 | 7.9233007 | -4.65672015 | 4.678252 | 4 | 0 |\n",
       "| 4 | ENSG00000169684.13 | CHRNA5 | 1.915449e-20 | 46 | 3 | 5.095762e-19 | Prostate                            | 0.7150760 | Stomach                         | 39.87148 | 9.416138e-16 | 2.2838000 |  -8.910163 | 5.5496129 | -3.15237152 | 2.750570 | 3 | 0 |\n",
       "| 5 | ENSG00000188266.13 | HYKK   | 7.494625e-20 | 34 | 5 | 1.489290e-15 | Whole_Blood                         | 0.3847420 | Adipose_Subcutaneous            | 17.16289 | 5.991654e-16 | 0.9659782 |  -7.977829 | 2.3858542 |  0.09463334 | 3.164331 | 5 | 0 |\n",
       "| 6 | ENSG00000136381.12 | IREB2  | 2.123870e-17 | 45 | 3 | 3.861465e-13 | Adrenal_Gland                       | 0.7748960 | Colon_Sigmoid                   | 36.33522 | 1.009791e-15 | 3.2094249 |  -7.260330 | 0.9231483 | -4.81611871 | 2.692266 | 3 | 0 |\n",
       "\n"
      ],
      "text/plain": [
       "  gene               gene_name pvalue       n  n_indep p_i_best    \n",
       "1 ENSG00000041357.15 PSMA4     1.536671e-22 49 4       3.091840e-18\n",
       "2 ENSG00000168743.12 NPNT      1.710790e-22 49 5       2.520164e-25\n",
       "3 ENSG00000080644.15 CHRNA3    2.757816e-21 19 4       3.864274e-19\n",
       "4 ENSG00000169684.13 CHRNA5    1.915449e-20 46 3       5.095762e-19\n",
       "5 ENSG00000188266.13 HYKK      7.494625e-20 34 5       1.489290e-15\n",
       "6 ENSG00000136381.12 IREB2     2.123870e-17 45 3       3.861465e-13\n",
       "  t_i_best                            p_i_worst t_i_worst                      \n",
       "1 Brain_Hypothalamus                  0.9619185 Skin_Not_Sun_Exposed_Suprapubic\n",
       "2 Adipose_Visceral_Omentum            0.7604612 Esophagus_Muscularis           \n",
       "3 Esophagus_Gastroesophageal_Junction 0.2264615 Testis                         \n",
       "4 Prostate                            0.7150760 Stomach                        \n",
       "5 Whole_Blood                         0.3847420 Adipose_Subcutaneous           \n",
       "6 Adrenal_Gland                       0.7748960 Colon_Sigmoid                  \n",
       "  eigen_max eigen_min    eigen_min_kept z_min      z_max     z_mean     \n",
       "1 35.84134  1.065043e-15 1.2682287       -8.038637 8.7080364  2.77421795\n",
       "2 21.85090  9.655151e-16 1.0609712      -10.398443 4.7210526 -3.56596683\n",
       "3 10.49051  1.805447e-17 0.5072113       -8.940782 7.9233007 -4.65672015\n",
       "4 39.87148  9.416138e-16 2.2838000       -8.910163 5.5496129 -3.15237152\n",
       "5 17.16289  5.991654e-16 0.9659782       -7.977829 2.3858542  0.09463334\n",
       "6 36.33522  1.009791e-15 3.2094249       -7.260330 0.9231483 -4.81611871\n",
       "  z_sd     tmi status\n",
       "1 3.471912 4   0     \n",
       "2 4.670617 5   0     \n",
       "3 4.678252 4   0     \n",
       "4 2.750570 3   0     \n",
       "5 3.164331 5   0     \n",
       "6 2.692266 3   0     "
      ]
     },
     "metadata": {},
     "output_type": "display_data"
    }
   ],
   "source": [
    "head(twas)"
   ]
  },
  {
   "cell_type": "markdown",
   "id": "59fae3a5-518c-41a3-babf-3bb6be213157",
   "metadata": {
    "papermill": {
     "duration": 0.014596,
     "end_time": "2022-12-15T17:32:11.281145",
     "exception": false,
     "start_time": "2022-12-15T17:32:11.266549",
     "status": "completed"
    },
    "tags": []
   },
   "source": [
    "### QQ-plot"
   ]
  },
  {
   "cell_type": "code",
   "execution_count": 27,
   "id": "76e6b701-044f-48bd-9215-4988abb38212",
   "metadata": {
    "execution": {
     "iopub.execute_input": "2022-12-15T17:32:11.304952Z",
     "iopub.status.busy": "2022-12-15T17:32:11.304233Z",
     "iopub.status.idle": "2022-12-15T17:32:11.742969Z",
     "shell.execute_reply": "2022-12-15T17:32:11.742140Z"
    },
    "papermill": {
     "duration": 0.449326,
     "end_time": "2022-12-15T17:32:11.744619",
     "exception": false,
     "start_time": "2022-12-15T17:32:11.295293",
     "status": "completed"
    },
    "tags": []
   },
   "outputs": [
    {
     "data": {
      "image/png": "[encoded data removed]",
      "text/plain": [
       "Plot with title “Q-Q plot of S-MultiXcan for COPD only (imputed)”"
      ]
     },
     "metadata": {
      "image/png": {
       "height": 600,
       "width": 600
      }
     },
     "output_type": "display_data"
    }
   ],
   "source": [
    "options(repr.plot.width = 10, repr.plot.height = 10)\n",
    "\n",
    "qq(twas$pvalue, main = paste0(\"Q-Q plot of S-MultiXcan for \", gwas_title))"
   ]
  },
  {
   "cell_type": "markdown",
   "id": "93fad5e5-fe1c-404e-985b-df547226c0dd",
   "metadata": {
    "papermill": {
     "duration": 0.010714,
     "end_time": "2022-12-15T17:32:11.764180",
     "exception": false,
     "start_time": "2022-12-15T17:32:11.753466",
     "status": "completed"
    },
    "tags": []
   },
   "source": [
    "# Asthma-COPD Overlap Syndrome (ACOS)"
   ]
  },
  {
   "cell_type": "code",
   "execution_count": 28,
   "id": "7cfe1849-7ddd-4d53-94dc-3790c4026bcc",
   "metadata": {
    "execution": {
     "iopub.execute_input": "2022-12-15T17:32:11.782041Z",
     "iopub.status.busy": "2022-12-15T17:32:11.781312Z",
     "iopub.status.idle": "2022-12-15T17:32:11.792827Z",
     "shell.execute_reply": "2022-12-15T17:32:11.791975Z"
    },
    "papermill": {
     "duration": 0.021374,
     "end_time": "2022-12-15T17:32:11.793808",
     "exception": false,
     "start_time": "2022-12-15T17:32:11.772434",
     "status": "completed"
    },
    "tags": []
   },
   "outputs": [],
   "source": [
    "gwas_title <- \"ACOS (imputed)\""
   ]
  },
  {
   "cell_type": "markdown",
   "id": "d53a323d-626b-4f5d-96f0-f0f3d03d3e54",
   "metadata": {
    "papermill": {
     "duration": 0.008237,
     "end_time": "2022-12-15T17:32:11.810484",
     "exception": false,
     "start_time": "2022-12-15T17:32:11.802247",
     "status": "completed"
    },
    "tags": []
   },
   "source": [
    "## S-PrediXcan"
   ]
  },
  {
   "cell_type": "markdown",
   "id": "bbb036da-3b47-4f7c-a4df-a4cf68ff317d",
   "metadata": {
    "papermill": {
     "duration": 0.008301,
     "end_time": "2022-12-15T17:32:11.827104",
     "exception": false,
     "start_time": "2022-12-15T17:32:11.818803",
     "status": "completed"
    },
    "tags": []
   },
   "source": [
    "### Load data"
   ]
  },
  {
   "cell_type": "code",
   "execution_count": 29,
   "id": "d1d3bfff-bd11-45c0-9596-8af4f9ee1358",
   "metadata": {
    "execution": {
     "iopub.execute_input": "2022-12-15T17:32:11.844930Z",
     "iopub.status.busy": "2022-12-15T17:32:11.844190Z",
     "iopub.status.idle": "2022-12-15T17:32:11.908756Z",
     "shell.execute_reply": "2022-12-15T17:32:11.907901Z"
    },
    "papermill": {
     "duration": 0.074647,
     "end_time": "2022-12-15T17:32:11.909932",
     "exception": false,
     "start_time": "2022-12-15T17:32:11.835285",
     "status": "completed"
    },
    "tags": []
   },
   "outputs": [
    {
     "name": "stderr",
     "output_type": "stream",
     "text": [
      "\u001b[1mRows: \u001b[22m\u001b[34m12184\u001b[39m \u001b[1mColumns: \u001b[22m\u001b[34m14\u001b[39m\n",
      "\u001b[36m──\u001b[39m \u001b[1mColumn specification\u001b[22m \u001b[36m─────────────────────────────────────────────────────────────────────────────────────────────────────────────────────────────────────────────────────────────────────\u001b[39m\n",
      "\u001b[1mDelimiter:\u001b[22m \",\"\n",
      "\u001b[31mchr\u001b[39m (2): gene, gene_name\n",
      "\u001b[32mdbl\u001b[39m (8): zscore, pvalue, var_g, n_snps_used, n_snps_in_cov, n_snps_in_model,...\n",
      "\u001b[33mlgl\u001b[39m (4): effect_size, pred_perf_r2, pred_perf_pval, pred_perf_qval\n",
      "\n",
      "\u001b[36mℹ\u001b[39m Use `spec()` to retrieve the full column specification for this data.\n",
      "\u001b[36mℹ\u001b[39m Specify the column types or set `show_col_types = FALSE` to quiet this message.\n"
     ]
    }
   ],
   "source": [
    "twas <- as.data.frame(read_csv(file.path(SPREDIXCAN_DIR, \"GWAS_ACO_GLM_SNPs_info0.7-gtex_v8-mashr-Whole_Blood.csv\")))"
   ]
  },
  {
   "cell_type": "code",
   "execution_count": 30,
   "id": "18b6084a-1266-477f-83b3-0d8d2e789c7f",
   "metadata": {
    "execution": {
     "iopub.execute_input": "2022-12-15T17:32:11.944020Z",
     "iopub.status.busy": "2022-12-15T17:32:11.943244Z",
     "iopub.status.idle": "2022-12-15T17:32:11.950453Z",
     "shell.execute_reply": "2022-12-15T17:32:11.949646Z"
    },
    "papermill": {
     "duration": 0.025236,
     "end_time": "2022-12-15T17:32:11.951710",
     "exception": false,
     "start_time": "2022-12-15T17:32:11.926474",
     "status": "completed"
    },
    "tags": []
   },
   "outputs": [
    {
     "data": {
      "text/html": [
       "<style>\n",
       ".list-inline {list-style: none; margin:0; padding: 0}\n",
       ".list-inline>li {display: inline-block}\n",
       ".list-inline>li:not(:last-child)::after {content: \"\\00b7\"; padding: 0 .5ex}\n",
       "</style>\n",
       "<ol class=list-inline><li>12184</li><li>14</li></ol>\n"
      ],
      "text/latex": [
       "\\begin{enumerate*}\n",
       "\\item 12184\n",
       "\\item 14\n",
       "\\end{enumerate*}\n"
      ],
      "text/markdown": [
       "1. 12184\n",
       "2. 14\n",
       "\n",
       "\n"
      ],
      "text/plain": [
       "[1] 12184    14"
      ]
     },
     "metadata": {},
     "output_type": "display_data"
    }
   ],
   "source": [
    "dim(twas)"
   ]
  },
  {
   "cell_type": "code",
   "execution_count": 31,
   "id": "0f7683fe-33f2-46ed-951b-8beb2b7a6df2",
   "metadata": {
    "execution": {
     "iopub.execute_input": "2022-12-15T17:32:11.985446Z",
     "iopub.status.busy": "2022-12-15T17:32:11.984760Z",
     "iopub.status.idle": "2022-12-15T17:32:12.000166Z",
     "shell.execute_reply": "2022-12-15T17:32:11.999335Z"
    },
    "papermill": {
     "duration": 0.033529,
     "end_time": "2022-12-15T17:32:12.001452",
     "exception": false,
     "start_time": "2022-12-15T17:32:11.967923",
     "status": "completed"
    },
    "tags": []
   },
   "outputs": [
    {
     "data": {
      "text/html": [
       "<table class=\"dataframe\">\n",
       "<caption>A data.frame: 6 × 14</caption>\n",
       "<thead>\n",
       "\t<tr><th></th><th scope=col>gene</th><th scope=col>gene_name</th><th scope=col>zscore</th><th scope=col>effect_size</th><th scope=col>pvalue</th><th scope=col>var_g</th><th scope=col>pred_perf_r2</th><th scope=col>pred_perf_pval</th><th scope=col>pred_perf_qval</th><th scope=col>n_snps_used</th><th scope=col>n_snps_in_cov</th><th scope=col>n_snps_in_model</th><th scope=col>best_gwas_p</th><th scope=col>largest_weight</th></tr>\n",
       "\t<tr><th></th><th scope=col>&lt;chr&gt;</th><th scope=col>&lt;chr&gt;</th><th scope=col>&lt;dbl&gt;</th><th scope=col>&lt;lgl&gt;</th><th scope=col>&lt;dbl&gt;</th><th scope=col>&lt;dbl&gt;</th><th scope=col>&lt;lgl&gt;</th><th scope=col>&lt;lgl&gt;</th><th scope=col>&lt;lgl&gt;</th><th scope=col>&lt;dbl&gt;</th><th scope=col>&lt;dbl&gt;</th><th scope=col>&lt;dbl&gt;</th><th scope=col>&lt;dbl&gt;</th><th scope=col>&lt;dbl&gt;</th></tr>\n",
       "</thead>\n",
       "<tbody>\n",
       "\t<tr><th scope=row>1</th><td>ENSG00000179344.16</td><td>HLA-DQB1</td><td>-11.510273</td><td>NA</td><td>1.171072e-30</td><td>0.28375913</td><td>NA</td><td>NA</td><td>NA</td><td>3</td><td>3</td><td>3</td><td>9.769960e-28</td><td>0.7723323</td></tr>\n",
       "\t<tr><th scope=row>2</th><td>ENSG00000232629.8 </td><td>HLA-DQB2</td><td> 10.404492</td><td>NA</td><td>2.365140e-25</td><td>1.36360132</td><td>NA</td><td>NA</td><td>NA</td><td>2</td><td>3</td><td>3</td><td>3.571353e-25</td><td>0.9720326</td></tr>\n",
       "\t<tr><th scope=row>3</th><td>ENSG00000237541.3 </td><td>HLA-DQA2</td><td>  7.419567</td><td>NA</td><td>1.175039e-13</td><td>0.11880279</td><td>NA</td><td>NA</td><td>NA</td><td>2</td><td>4</td><td>4</td><td>7.045886e-16</td><td>0.4865744</td></tr>\n",
       "\t<tr><th scope=row>4</th><td>ENSG00000172057.9 </td><td>ORMDL3  </td><td>  7.301199</td><td>NA</td><td>2.852135e-13</td><td>0.13741437</td><td>NA</td><td>NA</td><td>NA</td><td>2</td><td>2</td><td>2</td><td>7.949287e-15</td><td>0.3977521</td></tr>\n",
       "\t<tr><th scope=row>5</th><td>ENSG00000224389.8 </td><td>C4B     </td><td>  7.229532</td><td>NA</td><td>4.846619e-13</td><td>0.19807481</td><td>NA</td><td>NA</td><td>NA</td><td>2</td><td>2</td><td>2</td><td>6.175598e-12</td><td>1.1014810</td></tr>\n",
       "\t<tr><th scope=row>6</th><td>ENSG00000196735.11</td><td>HLA-DQA1</td><td> -7.106145</td><td>NA</td><td>1.193286e-12</td><td>0.02677445</td><td>NA</td><td>NA</td><td>NA</td><td>2</td><td>3</td><td>3</td><td>5.641805e-12</td><td>0.3833632</td></tr>\n",
       "</tbody>\n",
       "</table>\n"
      ],
      "text/latex": [
       "A data.frame: 6 × 14\n",
       "\\begin{tabular}{r|llllllllllllll}\n",
       "  & gene & gene\\_name & zscore & effect\\_size & pvalue & var\\_g & pred\\_perf\\_r2 & pred\\_perf\\_pval & pred\\_perf\\_qval & n\\_snps\\_used & n\\_snps\\_in\\_cov & n\\_snps\\_in\\_model & best\\_gwas\\_p & largest\\_weight\\\\\n",
       "  & <chr> & <chr> & <dbl> & <lgl> & <dbl> & <dbl> & <lgl> & <lgl> & <lgl> & <dbl> & <dbl> & <dbl> & <dbl> & <dbl>\\\\\n",
       "\\hline\n",
       "\t1 & ENSG00000179344.16 & HLA-DQB1 & -11.510273 & NA & 1.171072e-30 & 0.28375913 & NA & NA & NA & 3 & 3 & 3 & 9.769960e-28 & 0.7723323\\\\\n",
       "\t2 & ENSG00000232629.8  & HLA-DQB2 &  10.404492 & NA & 2.365140e-25 & 1.36360132 & NA & NA & NA & 2 & 3 & 3 & 3.571353e-25 & 0.9720326\\\\\n",
       "\t3 & ENSG00000237541.3  & HLA-DQA2 &   7.419567 & NA & 1.175039e-13 & 0.11880279 & NA & NA & NA & 2 & 4 & 4 & 7.045886e-16 & 0.4865744\\\\\n",
       "\t4 & ENSG00000172057.9  & ORMDL3   &   7.301199 & NA & 2.852135e-13 & 0.13741437 & NA & NA & NA & 2 & 2 & 2 & 7.949287e-15 & 0.3977521\\\\\n",
       "\t5 & ENSG00000224389.8  & C4B      &   7.229532 & NA & 4.846619e-13 & 0.19807481 & NA & NA & NA & 2 & 2 & 2 & 6.175598e-12 & 1.1014810\\\\\n",
       "\t6 & ENSG00000196735.11 & HLA-DQA1 &  -7.106145 & NA & 1.193286e-12 & 0.02677445 & NA & NA & NA & 2 & 3 & 3 & 5.641805e-12 & 0.3833632\\\\\n",
       "\\end{tabular}\n"
      ],
      "text/markdown": [
       "\n",
       "A data.frame: 6 × 14\n",
       "\n",
       "| <!--/--> | gene &lt;chr&gt; | gene_name &lt;chr&gt; | zscore &lt;dbl&gt; | effect_size &lt;lgl&gt; | pvalue &lt;dbl&gt; | var_g &lt;dbl&gt; | pred_perf_r2 &lt;lgl&gt; | pred_perf_pval &lt;lgl&gt; | pred_perf_qval &lt;lgl&gt; | n_snps_used &lt;dbl&gt; | n_snps_in_cov &lt;dbl&gt; | n_snps_in_model &lt;dbl&gt; | best_gwas_p &lt;dbl&gt; | largest_weight &lt;dbl&gt; |\n",
       "|---|---|---|---|---|---|---|---|---|---|---|---|---|---|---|\n",
       "| 1 | ENSG00000179344.16 | HLA-DQB1 | -11.510273 | NA | 1.171072e-30 | 0.28375913 | NA | NA | NA | 3 | 3 | 3 | 9.769960e-28 | 0.7723323 |\n",
       "| 2 | ENSG00000232629.8  | HLA-DQB2 |  10.404492 | NA | 2.365140e-25 | 1.36360132 | NA | NA | NA | 2 | 3 | 3 | 3.571353e-25 | 0.9720326 |\n",
       "| 3 | ENSG00000237541.3  | HLA-DQA2 |   7.419567 | NA | 1.175039e-13 | 0.11880279 | NA | NA | NA | 2 | 4 | 4 | 7.045886e-16 | 0.4865744 |\n",
       "| 4 | ENSG00000172057.9  | ORMDL3   |   7.301199 | NA | 2.852135e-13 | 0.13741437 | NA | NA | NA | 2 | 2 | 2 | 7.949287e-15 | 0.3977521 |\n",
       "| 5 | ENSG00000224389.8  | C4B      |   7.229532 | NA | 4.846619e-13 | 0.19807481 | NA | NA | NA | 2 | 2 | 2 | 6.175598e-12 | 1.1014810 |\n",
       "| 6 | ENSG00000196735.11 | HLA-DQA1 |  -7.106145 | NA | 1.193286e-12 | 0.02677445 | NA | NA | NA | 2 | 3 | 3 | 5.641805e-12 | 0.3833632 |\n",
       "\n"
      ],
      "text/plain": [
       "  gene               gene_name zscore     effect_size pvalue       var_g     \n",
       "1 ENSG00000179344.16 HLA-DQB1  -11.510273 NA          1.171072e-30 0.28375913\n",
       "2 ENSG00000232629.8  HLA-DQB2   10.404492 NA          2.365140e-25 1.36360132\n",
       "3 ENSG00000237541.3  HLA-DQA2    7.419567 NA          1.175039e-13 0.11880279\n",
       "4 ENSG00000172057.9  ORMDL3      7.301199 NA          2.852135e-13 0.13741437\n",
       "5 ENSG00000224389.8  C4B         7.229532 NA          4.846619e-13 0.19807481\n",
       "6 ENSG00000196735.11 HLA-DQA1   -7.106145 NA          1.193286e-12 0.02677445\n",
       "  pred_perf_r2 pred_perf_pval pred_perf_qval n_snps_used n_snps_in_cov\n",
       "1 NA           NA             NA             3           3            \n",
       "2 NA           NA             NA             2           3            \n",
       "3 NA           NA             NA             2           4            \n",
       "4 NA           NA             NA             2           2            \n",
       "5 NA           NA             NA             2           2            \n",
       "6 NA           NA             NA             2           3            \n",
       "  n_snps_in_model best_gwas_p  largest_weight\n",
       "1 3               9.769960e-28 0.7723323     \n",
       "2 3               3.571353e-25 0.9720326     \n",
       "3 4               7.045886e-16 0.4865744     \n",
       "4 2               7.949287e-15 0.3977521     \n",
       "5 2               6.175598e-12 1.1014810     \n",
       "6 3               5.641805e-12 0.3833632     "
      ]
     },
     "metadata": {},
     "output_type": "display_data"
    }
   ],
   "source": [
    "head(twas)"
   ]
  },
  {
   "cell_type": "markdown",
   "id": "b29519ab-70eb-47c6-8503-cbfd7213f81b",
   "metadata": {
    "papermill": {
     "duration": 0.016342,
     "end_time": "2022-12-15T17:32:12.034343",
     "exception": false,
     "start_time": "2022-12-15T17:32:12.018001",
     "status": "completed"
    },
    "tags": []
   },
   "source": [
    "### QQ-plot"
   ]
  },
  {
   "cell_type": "code",
   "execution_count": 32,
   "id": "325ca864-9761-479e-adfd-5f0e899d6a93",
   "metadata": {
    "execution": {
     "iopub.execute_input": "2022-12-15T17:32:12.055469Z",
     "iopub.status.busy": "2022-12-15T17:32:12.054725Z",
     "iopub.status.idle": "2022-12-15T17:32:12.335731Z",
     "shell.execute_reply": "2022-12-15T17:32:12.334907Z"
    },
    "papermill": {
     "duration": 0.291681,
     "end_time": "2022-12-15T17:32:12.337270",
     "exception": false,
     "start_time": "2022-12-15T17:32:12.045589",
     "status": "completed"
    },
    "tags": []
   },
   "outputs": [
    {
     "data": {
      "image/png": "[encoded data removed]",
      "text/plain": [
       "Plot with title “Q-Q plot of S-PrediXcan for ACOS (imputed)”"
      ]
     },
     "metadata": {
      "image/png": {
       "height": 600,
       "width": 600
      }
     },
     "output_type": "display_data"
    }
   ],
   "source": [
    "options(repr.plot.width = 10, repr.plot.height = 10)\n",
    "\n",
    "qq(twas$pvalue, main = paste0(\"Q-Q plot of S-PrediXcan for \", gwas_title))"
   ]
  },
  {
   "cell_type": "markdown",
   "id": "d012f131-74eb-40ec-b405-ee196230e2b9",
   "metadata": {
    "papermill": {
     "duration": 0.010876,
     "end_time": "2022-12-15T17:32:12.357753",
     "exception": false,
     "start_time": "2022-12-15T17:32:12.346877",
     "status": "completed"
    },
    "tags": []
   },
   "source": [
    "## S-MultiXcan"
   ]
  },
  {
   "cell_type": "markdown",
   "id": "97fde3cd-73c2-4b5c-b394-085cafab3091",
   "metadata": {
    "papermill": {
     "duration": 0.009042,
     "end_time": "2022-12-15T17:32:12.375823",
     "exception": false,
     "start_time": "2022-12-15T17:32:12.366781",
     "status": "completed"
    },
    "tags": []
   },
   "source": [
    "### Load data"
   ]
  },
  {
   "cell_type": "code",
   "execution_count": 33,
   "id": "fb84d3c5-c97e-499c-8a44-c9cbb1d1bea3",
   "metadata": {
    "execution": {
     "iopub.execute_input": "2022-12-15T17:32:12.395283Z",
     "iopub.status.busy": "2022-12-15T17:32:12.394569Z",
     "iopub.status.idle": "2022-12-15T17:32:12.469716Z",
     "shell.execute_reply": "2022-12-15T17:32:12.462687Z"
    },
    "papermill": {
     "duration": 0.085964,
     "end_time": "2022-12-15T17:32:12.470795",
     "exception": false,
     "start_time": "2022-12-15T17:32:12.384831",
     "status": "completed"
    },
    "tags": []
   },
   "outputs": [
    {
     "name": "stderr",
     "output_type": "stream",
     "text": [
      "\n",
      "\u001b[36m──\u001b[39m \u001b[1mColumn specification\u001b[22m \u001b[36m─────────────────────────────────────────────────────────────────────────────────────────────────────────────────────────────────────────────────────────────────────\u001b[39m\n",
      "cols(\n",
      "  gene = \u001b[31mcol_character()\u001b[39m,\n",
      "  gene_name = \u001b[31mcol_character()\u001b[39m,\n",
      "  pvalue = \u001b[32mcol_double()\u001b[39m,\n",
      "  n = \u001b[32mcol_double()\u001b[39m,\n",
      "  n_indep = \u001b[32mcol_double()\u001b[39m,\n",
      "  p_i_best = \u001b[32mcol_double()\u001b[39m,\n",
      "  t_i_best = \u001b[31mcol_character()\u001b[39m,\n",
      "  p_i_worst = \u001b[32mcol_double()\u001b[39m,\n",
      "  t_i_worst = \u001b[31mcol_character()\u001b[39m,\n",
      "  eigen_max = \u001b[32mcol_double()\u001b[39m,\n",
      "  eigen_min = \u001b[32mcol_double()\u001b[39m,\n",
      "  eigen_min_kept = \u001b[32mcol_double()\u001b[39m,\n",
      "  z_min = \u001b[32mcol_double()\u001b[39m,\n",
      "  z_max = \u001b[32mcol_double()\u001b[39m,\n",
      "  z_mean = \u001b[32mcol_double()\u001b[39m,\n",
      "  z_sd = \u001b[32mcol_double()\u001b[39m,\n",
      "  tmi = \u001b[32mcol_double()\u001b[39m,\n",
      "  status = \u001b[32mcol_double()\u001b[39m\n",
      ")\n",
      "\n"
     ]
    }
   ],
   "source": [
    "twas <- as.data.frame(read_table(file.path(SMULTIXCAN_DIR, \"GWAS_ACO_GLM_SNPs_info0.7-gtex_v8-mashr-smultixcan.txt\")))"
   ]
  },
  {
   "cell_type": "code",
   "execution_count": 34,
   "id": "6511b216-3a98-473d-a1d2-b84c8e5f3aae",
   "metadata": {
    "execution": {
     "iopub.execute_input": "2022-12-15T17:32:12.498842Z",
     "iopub.status.busy": "2022-12-15T17:32:12.498175Z",
     "iopub.status.idle": "2022-12-15T17:32:12.505370Z",
     "shell.execute_reply": "2022-12-15T17:32:12.504562Z"
    },
    "papermill": {
     "duration": 0.022731,
     "end_time": "2022-12-15T17:32:12.506476",
     "exception": false,
     "start_time": "2022-12-15T17:32:12.483745",
     "status": "completed"
    },
    "tags": []
   },
   "outputs": [
    {
     "data": {
      "text/html": [
       "<style>\n",
       ".list-inline {list-style: none; margin:0; padding: 0}\n",
       ".list-inline>li {display: inline-block}\n",
       ".list-inline>li:not(:last-child)::after {content: \"\\00b7\"; padding: 0 .5ex}\n",
       "</style>\n",
       "<ol class=list-inline><li>22321</li><li>18</li></ol>\n"
      ],
      "text/latex": [
       "\\begin{enumerate*}\n",
       "\\item 22321\n",
       "\\item 18\n",
       "\\end{enumerate*}\n"
      ],
      "text/markdown": [
       "1. 22321\n",
       "2. 18\n",
       "\n",
       "\n"
      ],
      "text/plain": [
       "[1] 22321    18"
      ]
     },
     "metadata": {},
     "output_type": "display_data"
    }
   ],
   "source": [
    "dim(twas)"
   ]
  },
  {
   "cell_type": "code",
   "execution_count": 35,
   "id": "e996aff1-30ab-48a9-a8a5-cef92ea35451",
   "metadata": {
    "execution": {
     "iopub.execute_input": "2022-12-15T17:32:12.535530Z",
     "iopub.status.busy": "2022-12-15T17:32:12.534832Z",
     "iopub.status.idle": "2022-12-15T17:32:12.552077Z",
     "shell.execute_reply": "2022-12-15T17:32:12.551228Z"
    },
    "papermill": {
     "duration": 0.032794,
     "end_time": "2022-12-15T17:32:12.553222",
     "exception": false,
     "start_time": "2022-12-15T17:32:12.520428",
     "status": "completed"
    },
    "tags": []
   },
   "outputs": [
    {
     "data": {
      "text/html": [
       "<table class=\"dataframe\">\n",
       "<caption>A data.frame: 6 × 18</caption>\n",
       "<thead>\n",
       "\t<tr><th></th><th scope=col>gene</th><th scope=col>gene_name</th><th scope=col>pvalue</th><th scope=col>n</th><th scope=col>n_indep</th><th scope=col>p_i_best</th><th scope=col>t_i_best</th><th scope=col>p_i_worst</th><th scope=col>t_i_worst</th><th scope=col>eigen_max</th><th scope=col>eigen_min</th><th scope=col>eigen_min_kept</th><th scope=col>z_min</th><th scope=col>z_max</th><th scope=col>z_mean</th><th scope=col>z_sd</th><th scope=col>tmi</th><th scope=col>status</th></tr>\n",
       "\t<tr><th></th><th scope=col>&lt;chr&gt;</th><th scope=col>&lt;chr&gt;</th><th scope=col>&lt;dbl&gt;</th><th scope=col>&lt;dbl&gt;</th><th scope=col>&lt;dbl&gt;</th><th scope=col>&lt;dbl&gt;</th><th scope=col>&lt;chr&gt;</th><th scope=col>&lt;dbl&gt;</th><th scope=col>&lt;chr&gt;</th><th scope=col>&lt;dbl&gt;</th><th scope=col>&lt;dbl&gt;</th><th scope=col>&lt;dbl&gt;</th><th scope=col>&lt;dbl&gt;</th><th scope=col>&lt;dbl&gt;</th><th scope=col>&lt;dbl&gt;</th><th scope=col>&lt;dbl&gt;</th><th scope=col>&lt;dbl&gt;</th><th scope=col>&lt;dbl&gt;</th></tr>\n",
       "</thead>\n",
       "<tbody>\n",
       "\t<tr><th scope=row>1</th><td>ENSG00000237541.3 </td><td>HLA-DQA2</td><td>1.692207e-33</td><td>45</td><td> 5</td><td>4.191940e-33</td><td>Liver                                </td><td>0.000226044</td><td>Brain_Putamen_basal_ganglia</td><td>29.469983</td><td>2.851292e-15</td><td>1.1347679</td><td>  3.687977</td><td>11.986304</td><td>  8.0842186</td><td>1.641249</td><td> 5</td><td>0</td></tr>\n",
       "\t<tr><th scope=row>2</th><td>ENSG00000179344.16</td><td>HLA-DQB1</td><td>5.343156e-29</td><td>49</td><td> 3</td><td>4.216780e-36</td><td>Brain_Nucleus_accumbens_basal_ganglia</td><td>0.004164294</td><td>Cells_Cultured_fibroblasts </td><td>43.187142</td><td>4.265176e-15</td><td>1.4925449</td><td>-12.545326</td><td>-2.865441</td><td>-10.1816352</td><td>1.375576</td><td> 3</td><td>0</td></tr>\n",
       "\t<tr><th scope=row>3</th><td>ENSG00000196735.11</td><td>HLA-DQA1</td><td>1.919708e-28</td><td>44</td><td> 6</td><td>2.858217e-31</td><td>Colon_Transverse                     </td><td>0.491725010</td><td>Brain_Hippocampus          </td><td>28.204735</td><td>2.729601e-15</td><td>0.9619905</td><td>-11.631267</td><td> 7.325217</td><td> -7.3273160</td><td>4.235066</td><td> 6</td><td>0</td></tr>\n",
       "\t<tr><th scope=row>4</th><td>ENSG00000204290.10</td><td>BTNL2   </td><td>1.414254e-27</td><td>21</td><td>10</td><td>5.427037e-18</td><td>Brain_Cerebellum                     </td><td>0.859539320</td><td>Brain_Hippocampus          </td><td> 6.638123</td><td>3.961112e-17</td><td>0.2530003</td><td> -8.644017</td><td> 4.644585</td><td> -0.4653209</td><td>4.224798</td><td>10</td><td>0</td></tr>\n",
       "\t<tr><th scope=row>5</th><td>ENSG00000232629.8 </td><td>HLA-DQB2</td><td>1.371715e-24</td><td>41</td><td> 3</td><td>3.379941e-30</td><td>Adipose_Subcutaneous                 </td><td>0.240848049</td><td>Skin_Sun_Exposed_Lower_leg </td><td>31.641709</td><td>3.098713e-15</td><td>2.4323223</td><td>  1.172870</td><td>11.418506</td><td>  8.6220052</td><td>2.811247</td><td> 3</td><td>0</td></tr>\n",
       "\t<tr><th scope=row>6</th><td>ENSG00000196126.11</td><td>HLA-DRB1</td><td>3.737973e-23</td><td>30</td><td> 7</td><td>2.308368e-13</td><td>Spleen                               </td><td>0.416881293</td><td>Lung                       </td><td>15.533256</td><td>1.498518e-15</td><td>0.5618739</td><td> -6.748695</td><td> 7.329602</td><td> -2.8008473</td><td>3.157541</td><td> 7</td><td>0</td></tr>\n",
       "</tbody>\n",
       "</table>\n"
      ],
      "text/latex": [
       "A data.frame: 6 × 18\n",
       "\\begin{tabular}{r|llllllllllllllllll}\n",
       "  & gene & gene\\_name & pvalue & n & n\\_indep & p\\_i\\_best & t\\_i\\_best & p\\_i\\_worst & t\\_i\\_worst & eigen\\_max & eigen\\_min & eigen\\_min\\_kept & z\\_min & z\\_max & z\\_mean & z\\_sd & tmi & status\\\\\n",
       "  & <chr> & <chr> & <dbl> & <dbl> & <dbl> & <dbl> & <chr> & <dbl> & <chr> & <dbl> & <dbl> & <dbl> & <dbl> & <dbl> & <dbl> & <dbl> & <dbl> & <dbl>\\\\\n",
       "\\hline\n",
       "\t1 & ENSG00000237541.3  & HLA-DQA2 & 1.692207e-33 & 45 &  5 & 4.191940e-33 & Liver                                 & 0.000226044 & Brain\\_Putamen\\_basal\\_ganglia & 29.469983 & 2.851292e-15 & 1.1347679 &   3.687977 & 11.986304 &   8.0842186 & 1.641249 &  5 & 0\\\\\n",
       "\t2 & ENSG00000179344.16 & HLA-DQB1 & 5.343156e-29 & 49 &  3 & 4.216780e-36 & Brain\\_Nucleus\\_accumbens\\_basal\\_ganglia & 0.004164294 & Cells\\_Cultured\\_fibroblasts  & 43.187142 & 4.265176e-15 & 1.4925449 & -12.545326 & -2.865441 & -10.1816352 & 1.375576 &  3 & 0\\\\\n",
       "\t3 & ENSG00000196735.11 & HLA-DQA1 & 1.919708e-28 & 44 &  6 & 2.858217e-31 & Colon\\_Transverse                      & 0.491725010 & Brain\\_Hippocampus           & 28.204735 & 2.729601e-15 & 0.9619905 & -11.631267 &  7.325217 &  -7.3273160 & 4.235066 &  6 & 0\\\\\n",
       "\t4 & ENSG00000204290.10 & BTNL2    & 1.414254e-27 & 21 & 10 & 5.427037e-18 & Brain\\_Cerebellum                      & 0.859539320 & Brain\\_Hippocampus           &  6.638123 & 3.961112e-17 & 0.2530003 &  -8.644017 &  4.644585 &  -0.4653209 & 4.224798 & 10 & 0\\\\\n",
       "\t5 & ENSG00000232629.8  & HLA-DQB2 & 1.371715e-24 & 41 &  3 & 3.379941e-30 & Adipose\\_Subcutaneous                  & 0.240848049 & Skin\\_Sun\\_Exposed\\_Lower\\_leg  & 31.641709 & 3.098713e-15 & 2.4323223 &   1.172870 & 11.418506 &   8.6220052 & 2.811247 &  3 & 0\\\\\n",
       "\t6 & ENSG00000196126.11 & HLA-DRB1 & 3.737973e-23 & 30 &  7 & 2.308368e-13 & Spleen                                & 0.416881293 & Lung                        & 15.533256 & 1.498518e-15 & 0.5618739 &  -6.748695 &  7.329602 &  -2.8008473 & 3.157541 &  7 & 0\\\\\n",
       "\\end{tabular}\n"
      ],
      "text/markdown": [
       "\n",
       "A data.frame: 6 × 18\n",
       "\n",
       "| <!--/--> | gene &lt;chr&gt; | gene_name &lt;chr&gt; | pvalue &lt;dbl&gt; | n &lt;dbl&gt; | n_indep &lt;dbl&gt; | p_i_best &lt;dbl&gt; | t_i_best &lt;chr&gt; | p_i_worst &lt;dbl&gt; | t_i_worst &lt;chr&gt; | eigen_max &lt;dbl&gt; | eigen_min &lt;dbl&gt; | eigen_min_kept &lt;dbl&gt; | z_min &lt;dbl&gt; | z_max &lt;dbl&gt; | z_mean &lt;dbl&gt; | z_sd &lt;dbl&gt; | tmi &lt;dbl&gt; | status &lt;dbl&gt; |\n",
       "|---|---|---|---|---|---|---|---|---|---|---|---|---|---|---|---|---|---|---|\n",
       "| 1 | ENSG00000237541.3  | HLA-DQA2 | 1.692207e-33 | 45 |  5 | 4.191940e-33 | Liver                                 | 0.000226044 | Brain_Putamen_basal_ganglia | 29.469983 | 2.851292e-15 | 1.1347679 |   3.687977 | 11.986304 |   8.0842186 | 1.641249 |  5 | 0 |\n",
       "| 2 | ENSG00000179344.16 | HLA-DQB1 | 5.343156e-29 | 49 |  3 | 4.216780e-36 | Brain_Nucleus_accumbens_basal_ganglia | 0.004164294 | Cells_Cultured_fibroblasts  | 43.187142 | 4.265176e-15 | 1.4925449 | -12.545326 | -2.865441 | -10.1816352 | 1.375576 |  3 | 0 |\n",
       "| 3 | ENSG00000196735.11 | HLA-DQA1 | 1.919708e-28 | 44 |  6 | 2.858217e-31 | Colon_Transverse                      | 0.491725010 | Brain_Hippocampus           | 28.204735 | 2.729601e-15 | 0.9619905 | -11.631267 |  7.325217 |  -7.3273160 | 4.235066 |  6 | 0 |\n",
       "| 4 | ENSG00000204290.10 | BTNL2    | 1.414254e-27 | 21 | 10 | 5.427037e-18 | Brain_Cerebellum                      | 0.859539320 | Brain_Hippocampus           |  6.638123 | 3.961112e-17 | 0.2530003 |  -8.644017 |  4.644585 |  -0.4653209 | 4.224798 | 10 | 0 |\n",
       "| 5 | ENSG00000232629.8  | HLA-DQB2 | 1.371715e-24 | 41 |  3 | 3.379941e-30 | Adipose_Subcutaneous                  | 0.240848049 | Skin_Sun_Exposed_Lower_leg  | 31.641709 | 3.098713e-15 | 2.4323223 |   1.172870 | 11.418506 |   8.6220052 | 2.811247 |  3 | 0 |\n",
       "| 6 | ENSG00000196126.11 | HLA-DRB1 | 3.737973e-23 | 30 |  7 | 2.308368e-13 | Spleen                                | 0.416881293 | Lung                        | 15.533256 | 1.498518e-15 | 0.5618739 |  -6.748695 |  7.329602 |  -2.8008473 | 3.157541 |  7 | 0 |\n",
       "\n"
      ],
      "text/plain": [
       "  gene               gene_name pvalue       n  n_indep p_i_best    \n",
       "1 ENSG00000237541.3  HLA-DQA2  1.692207e-33 45  5      4.191940e-33\n",
       "2 ENSG00000179344.16 HLA-DQB1  5.343156e-29 49  3      4.216780e-36\n",
       "3 ENSG00000196735.11 HLA-DQA1  1.919708e-28 44  6      2.858217e-31\n",
       "4 ENSG00000204290.10 BTNL2     1.414254e-27 21 10      5.427037e-18\n",
       "5 ENSG00000232629.8  HLA-DQB2  1.371715e-24 41  3      3.379941e-30\n",
       "6 ENSG00000196126.11 HLA-DRB1  3.737973e-23 30  7      2.308368e-13\n",
       "  t_i_best                              p_i_worst   t_i_worst                  \n",
       "1 Liver                                 0.000226044 Brain_Putamen_basal_ganglia\n",
       "2 Brain_Nucleus_accumbens_basal_ganglia 0.004164294 Cells_Cultured_fibroblasts \n",
       "3 Colon_Transverse                      0.491725010 Brain_Hippocampus          \n",
       "4 Brain_Cerebellum                      0.859539320 Brain_Hippocampus          \n",
       "5 Adipose_Subcutaneous                  0.240848049 Skin_Sun_Exposed_Lower_leg \n",
       "6 Spleen                                0.416881293 Lung                       \n",
       "  eigen_max eigen_min    eigen_min_kept z_min      z_max     z_mean     \n",
       "1 29.469983 2.851292e-15 1.1347679        3.687977 11.986304   8.0842186\n",
       "2 43.187142 4.265176e-15 1.4925449      -12.545326 -2.865441 -10.1816352\n",
       "3 28.204735 2.729601e-15 0.9619905      -11.631267  7.325217  -7.3273160\n",
       "4  6.638123 3.961112e-17 0.2530003       -8.644017  4.644585  -0.4653209\n",
       "5 31.641709 3.098713e-15 2.4323223        1.172870 11.418506   8.6220052\n",
       "6 15.533256 1.498518e-15 0.5618739       -6.748695  7.329602  -2.8008473\n",
       "  z_sd     tmi status\n",
       "1 1.641249  5  0     \n",
       "2 1.375576  3  0     \n",
       "3 4.235066  6  0     \n",
       "4 4.224798 10  0     \n",
       "5 2.811247  3  0     \n",
       "6 3.157541  7  0     "
      ]
     },
     "metadata": {},
     "output_type": "display_data"
    }
   ],
   "source": [
    "head(twas)"
   ]
  },
  {
   "cell_type": "markdown",
   "id": "4b01a01f-8563-4ae1-a917-a0f536bc4bde",
   "metadata": {
    "papermill": {
     "duration": 0.014104,
     "end_time": "2022-12-15T17:32:12.581747",
     "exception": false,
     "start_time": "2022-12-15T17:32:12.567643",
     "status": "completed"
    },
    "tags": []
   },
   "source": [
    "### QQ-plot"
   ]
  },
  {
   "cell_type": "code",
   "execution_count": 36,
   "id": "6ecfda39-6cec-41f8-b852-134120d1d6b8",
   "metadata": {
    "execution": {
     "iopub.execute_input": "2022-12-15T17:32:12.606837Z",
     "iopub.status.busy": "2022-12-15T17:32:12.606152Z",
     "iopub.status.idle": "2022-12-15T17:32:13.036671Z",
     "shell.execute_reply": "2022-12-15T17:32:13.035843Z"
    },
    "papermill": {
     "duration": 0.442299,
     "end_time": "2022-12-15T17:32:13.038184",
     "exception": false,
     "start_time": "2022-12-15T17:32:12.595885",
     "status": "completed"
    },
    "tags": []
   },
   "outputs": [
    {
     "data": {
      "image/png": "[encoded data removed]",
      "text/plain": [
       "Plot with title “Q-Q plot of S-MultiXcan for ACOS (imputed)”"
      ]
     },
     "metadata": {
      "image/png": {
       "height": 600,
       "width": 600
      }
     },
     "output_type": "display_data"
    }
   ],
   "source": [
    "options(repr.plot.width = 10, repr.plot.height = 10)\n",
    "\n",
    "qq(twas$pvalue, main = paste0(\"Q-Q plot of S-MultiXcan for \", gwas_title))"
   ]
  },
  {
   "cell_type": "code",
   "execution_count": null,
   "id": "8dd5b850-f19c-43a3-a4be-4c11fd047f68",
   "metadata": {
    "papermill": {
     "duration": 0.011216,
     "end_time": "2022-12-15T17:32:13.060630",
     "exception": false,
     "start_time": "2022-12-15T17:32:13.049414",
     "status": "completed"
    },
    "tags": []
   },
   "outputs": [],
   "source": []
  }
 ],
 "metadata": {
  "jupytext": {
   "cell_metadata_filter": "all,-execution,-papermill,-trusted"
  },
  "kernelspec": {
   "display_name": "R",
   "language": "R",
   "name": "ir"
  },
  "language_info": {
   "codemirror_mode": "r",
   "file_extension": ".r",
   "mimetype": "text/x-r-source",
   "name": "R",
   "pygments_lexer": "r",
   "version": "4.2.2"
  },
  "papermill": {
   "default_parameters": {},
   "duration": 6.106552,
   "end_time": "2022-12-15T17:32:13.185999",
   "environment_variables": {},
   "exception": null,
   "input_path": "projects/asthma-copd/nbs/15_twas/10-twas-qqplot.ipynb",
   "output_path": "projects/asthma-copd/nbs/15_twas/10-twas-qqplot.run.ipynb",
   "parameters": {
    "PHENOPLIER_NOTEBOOK_FILEPATH": "projects/asthma-copd/nbs/15_twas/10-twas-qqplot.ipynb"
   },
   "start_time": "2022-12-15T17:32:07.079447",
   "version": "2.3.4"
  },
  "toc-autonumbering": true
 },
 "nbformat": 4,
 "nbformat_minor": 5
}
