{
 "cells": [
  {
   "cell_type": "markdown",
   "id": "c935aa7e-fde1-4d1c-b2d7-8c7ee611b1ed",
   "metadata": {
    "papermill": {
     "duration": 0.004217,
     "end_time": "2022-12-15T17:03:25.860705",
     "exception": false,
     "start_time": "2022-12-15T17:03:25.856488",
     "status": "completed"
    },
    "tags": []
   },
   "source": [
    "# Description"
   ]
  },
  {
   "cell_type": "markdown",
   "id": "f66770f7-0585-480b-8daa-1483bc37b494",
   "metadata": {
    "papermill": {
     "duration": 0.002973,
     "end_time": "2022-12-15T17:03:25.873165",
     "exception": false,
     "start_time": "2022-12-15T17:03:25.870192",
     "status": "completed"
    },
    "tags": []
   },
   "source": [
    "Runs S-PrediXcan on a set of traits."
   ]
  },
  {
   "cell_type": "markdown",
   "id": "d389dd7b-20d8-44ed-8053-6e2cd8efea2e",
   "metadata": {
    "papermill": {
     "duration": 0.002957,
     "end_time": "2022-12-15T17:03:25.879148",
     "exception": false,
     "start_time": "2022-12-15T17:03:25.876191",
     "status": "completed"
    },
    "tags": []
   },
   "source": [
    "# Modules"
   ]
  },
  {
   "cell_type": "code",
   "execution_count": 1,
   "id": "69797656-0db2-41d5-b4d6-63c24d47ad38",
   "metadata": {
    "execution": {
     "iopub.execute_input": "2022-12-15T17:03:25.886420Z",
     "iopub.status.busy": "2022-12-15T17:03:25.886179Z",
     "iopub.status.idle": "2022-12-15T17:03:25.922021Z",
     "shell.execute_reply": "2022-12-15T17:03:25.921413Z"
    },
    "papermill": {
     "duration": 0.041202,
     "end_time": "2022-12-15T17:03:25.923524",
     "exception": false,
     "start_time": "2022-12-15T17:03:25.882322",
     "status": "completed"
    },
    "tags": []
   },
   "outputs": [],
   "source": [
    "import os\n",
    "from glob import glob\n",
    "from pathlib import Path\n",
    "\n",
    "from utils import read_log_file_and_check_line_exists\n",
    "import conf"
   ]
  },
  {
   "cell_type": "markdown",
   "id": "dd17aa24-a692-4f62-ac69-c270447c7729",
   "metadata": {
    "papermill": {
     "duration": 0.002965,
     "end_time": "2022-12-15T17:03:25.929553",
     "exception": false,
     "start_time": "2022-12-15T17:03:25.926588",
     "status": "completed"
    },
    "tags": []
   },
   "source": [
    "# Settings"
   ]
  },
  {
   "cell_type": "markdown",
   "id": "3829ee6c-68b6-445e-adce-aa7a6280a56c",
   "metadata": {
    "papermill": {
     "duration": 0.003355,
     "end_time": "2022-12-15T17:03:25.936048",
     "exception": false,
     "start_time": "2022-12-15T17:03:25.932693",
     "status": "completed"
    },
    "tags": []
   },
   "source": [
    "Apparently, there is no easy way to get the parent directory of\n",
    "a notebook in Jupyter, so here I get that information either from\n",
    "the parameter sent by `nbs/run_nbs.sh` (if called from command-line) or\n",
    "from `os.getcwd()` (if called from browser)."
   ]
  },
  {
   "cell_type": "code",
   "execution_count": 2,
   "id": "e8f8093f-7738-448a-b29d-e9059684fcd1",
   "metadata": {
    "execution": {
     "iopub.execute_input": "2022-12-15T17:03:25.942895Z",
     "iopub.status.busy": "2022-12-15T17:03:25.942741Z",
     "iopub.status.idle": "2022-12-15T17:03:25.945703Z",
     "shell.execute_reply": "2022-12-15T17:03:25.945179Z"
    },
    "papermill": {
     "duration": 0.008051,
     "end_time": "2022-12-15T17:03:25.947127",
     "exception": false,
     "start_time": "2022-12-15T17:03:25.939076",
     "status": "completed"
    },
    "tags": [
     "parameters"
    ]
   },
   "outputs": [],
   "source": [
    "PHENOPLIER_NOTEBOOK_FILEPATH = None\n",
    "PHENOPLIER_NOTEBOOK_DIR = os.getcwd()"
   ]
  },
  {
   "cell_type": "code",
   "execution_count": 3,
   "id": "cec374f7",
   "metadata": {
    "execution": {
     "iopub.execute_input": "2022-12-15T17:03:25.954434Z",
     "iopub.status.busy": "2022-12-15T17:03:25.954041Z",
     "iopub.status.idle": "2022-12-15T17:03:25.956873Z",
     "shell.execute_reply": "2022-12-15T17:03:25.956355Z"
    },
    "lines_to_next_cell": 2,
    "papermill": {
     "duration": 0.007849,
     "end_time": "2022-12-15T17:03:25.958195",
     "exception": false,
     "start_time": "2022-12-15T17:03:25.950346",
     "status": "completed"
    },
    "tags": [
     "injected-parameters"
    ]
   },
   "outputs": [],
   "source": [
    "# Parameters\n",
    "PHENOPLIER_NOTEBOOK_FILEPATH = (\n",
    "    \"projects/asthma-copd/nbs/15_twas/01-run_spredixcan.ipynb\"\n",
    ")"
   ]
  },
  {
   "cell_type": "code",
   "execution_count": 4,
   "id": "80437810-fd28-40ba-8dab-f60424764bfd",
   "metadata": {
    "execution": {
     "iopub.execute_input": "2022-12-15T17:03:25.965393Z",
     "iopub.status.busy": "2022-12-15T17:03:25.964994Z",
     "iopub.status.idle": "2022-12-15T17:03:25.974412Z",
     "shell.execute_reply": "2022-12-15T17:03:25.973888Z"
    },
    "papermill": {
     "duration": 0.014639,
     "end_time": "2022-12-15T17:03:25.975915",
     "exception": false,
     "start_time": "2022-12-15T17:03:25.961276",
     "status": "completed"
    },
    "tags": []
   },
   "outputs": [
    {
     "data": {
      "text/plain": [
       "'projects/asthma-copd/nbs/15_twas'"
      ]
     },
     "metadata": {},
     "output_type": "display_data"
    }
   ],
   "source": [
    "if PHENOPLIER_NOTEBOOK_FILEPATH is not None:\n",
    "    PHENOPLIER_NOTEBOOK_DIR = str(Path(PHENOPLIER_NOTEBOOK_FILEPATH).parent)\n",
    "\n",
    "display(PHENOPLIER_NOTEBOOK_DIR)"
   ]
  },
  {
   "cell_type": "code",
   "execution_count": 5,
   "id": "f4601810-04cf-44cc-a27b-c85724827b11",
   "metadata": {
    "execution": {
     "iopub.execute_input": "2022-12-15T17:03:25.983623Z",
     "iopub.status.busy": "2022-12-15T17:03:25.983240Z",
     "iopub.status.idle": "2022-12-15T17:03:25.988629Z",
     "shell.execute_reply": "2022-12-15T17:03:25.988081Z"
    },
    "papermill": {
     "duration": 0.010678,
     "end_time": "2022-12-15T17:03:25.990063",
     "exception": false,
     "start_time": "2022-12-15T17:03:25.979385",
     "status": "completed"
    },
    "tags": []
   },
   "outputs": [
    {
     "data": {
      "text/plain": [
       "PosixPath('/opt/data/projects/asthma-copd/results/twas/spredixcan')"
      ]
     },
     "metadata": {},
     "output_type": "display_data"
    },
    {
     "data": {
      "text/plain": [
       "'/opt/data/projects/asthma-copd/results/twas/spredixcan'"
      ]
     },
     "metadata": {},
     "output_type": "display_data"
    }
   ],
   "source": [
    "OUTPUT_DIR = conf.PROJECTS[\"ASTHMA_COPD\"][\"RESULTS_DIR\"] / \"twas\" / \"spredixcan\"\n",
    "display(OUTPUT_DIR)\n",
    "\n",
    "OUTPUT_DIR_STR = str(OUTPUT_DIR)\n",
    "display(OUTPUT_DIR_STR)"
   ]
  },
  {
   "cell_type": "markdown",
   "id": "3a558eec-2251-4be7-a754-1f98adde3aec",
   "metadata": {
    "papermill": {
     "duration": 0.003337,
     "end_time": "2022-12-15T17:03:25.996772",
     "exception": false,
     "start_time": "2022-12-15T17:03:25.993435",
     "status": "completed"
    },
    "tags": []
   },
   "source": [
    "# Run"
   ]
  },
  {
   "cell_type": "code",
   "execution_count": 6,
   "id": "0c0cd3d9-b032-4f03-82eb-0017a0ef1cca",
   "metadata": {
    "execution": {
     "iopub.execute_input": "2022-12-15T17:03:26.005293Z",
     "iopub.status.busy": "2022-12-15T17:03:26.004953Z",
     "iopub.status.idle": "2022-12-15T17:05:54.699309Z",
     "shell.execute_reply": "2022-12-15T17:05:54.698633Z"
    },
    "papermill": {
     "duration": 148.700047,
     "end_time": "2022-12-15T17:05:54.700825",
     "exception": false,
     "start_time": "2022-12-15T17:03:26.000778",
     "status": "completed"
    },
    "tags": []
   },
   "outputs": [
    {
     "name": "stdout",
     "output_type": "stream",
     "text": [
      "Running for asthma_only, Thyroid\n",
      "Saving results in /opt/data/projects/asthma-copd/results/twas/spredixcan\n"
     ]
    },
    {
     "name": "stderr",
     "output_type": "stream",
     "text": [
      "+ /opt/data/software/conda_envs/metaxcan/bin/python /opt/data/software/metaxcan/software/SPrediXcan.py --model_db_path /opt/data/data/phenomexcan/prediction_models/mashr/mashr_Thyroid.db --covariance /opt/data/data/phenomexcan/prediction_models/mashr/mashr_Thyroid.txt.gz --gwas_file /opt/data/projects/asthma-copd/results/final_imputed_gwas/GWAS_Asthma_only_GLM_SNPs_info0.7-harmonized-imputed.txt.gz --separator '\t' --non_effect_allele_column non_effect_allele --effect_allele_column effect_allele --snp_column panel_variant_id --zscore_column zscore --keep_non_rsid --additional_output --model_db_snp_key varID --throw --output_file /opt/data/projects/asthma-copd/results/twas/spredixcan/GWAS_Asthma_only_GLM_SNPs_info0.7-gtex_v8-mashr-Thyroid.csv\n"
     ]
    },
    {
     "name": "stdout",
     "output_type": "stream",
     "text": [
      "WARNING - Some GWAS snp zscores are not finite.\n",
      "\n"
     ]
    },
    {
     "name": "stderr",
     "output_type": "stream",
     "text": [
      "+ set +x\n"
     ]
    },
    {
     "name": "stdout",
     "output_type": "stream",
     "text": [
      "Running for asthma_only, Artery_Aorta\n",
      "Saving results in /opt/data/projects/asthma-copd/results/twas/spredixcan\n",
      "WARNING - Some GWAS snp zscores are not finite.\n",
      "\n"
     ]
    },
    {
     "name": "stderr",
     "output_type": "stream",
     "text": [
      "+ /opt/data/software/conda_envs/metaxcan/bin/python /opt/data/software/metaxcan/software/SPrediXcan.py --model_db_path /opt/data/data/phenomexcan/prediction_models/mashr/mashr_Artery_Aorta.db --covariance /opt/data/data/phenomexcan/prediction_models/mashr/mashr_Artery_Aorta.txt.gz --gwas_file /opt/data/projects/asthma-copd/results/final_imputed_gwas/GWAS_Asthma_only_GLM_SNPs_info0.7-harmonized-imputed.txt.gz --separator '\t' --non_effect_allele_column non_effect_allele --effect_allele_column effect_allele --snp_column panel_variant_id --zscore_column zscore --keep_non_rsid --additional_output --model_db_snp_key varID --throw --output_file /opt/data/projects/asthma-copd/results/twas/spredixcan/GWAS_Asthma_only_GLM_SNPs_info0.7-gtex_v8-mashr-Artery_Aorta.csv\n",
      "+ set +x\n",
      "+ /opt/data/software/conda_envs/metaxcan/bin/python /opt/data/software/metaxcan/software/SPrediXcan.py --model_db_path /opt/data/data/phenomexcan/prediction_models/mashr/mashr_Heart_Atrial_Appendage.db --covariance /opt/data/data/phenomexcan/prediction_models/mashr/mashr_Heart_Atrial_Appendage.txt.gz --gwas_file /opt/data/projects/asthma-copd/results/final_imputed_gwas/GWAS_Asthma_only_GLM_SNPs_info0.7-harmonized-imputed.txt.gz --separator '\t' --non_effect_allele_column non_effect_allele --effect_allele_column effect_allele --snp_column panel_variant_id --zscore_column zscore --keep_non_rsid --additional_output --model_db_snp_key varID --throw --output_file /opt/data/projects/asthma-copd/results/twas/spredixcan/GWAS_Asthma_only_GLM_SNPs_info0.7-gtex_v8-mashr-Heart_Atrial_Appendage.csv\n",
      "+ set +x\n",
      "+ /opt/data/software/conda_envs/metaxcan/bin/python /opt/data/software/metaxcan/software/SPrediXcan.py --model_db_path /opt/data/data/phenomexcan/prediction_models/mashr/mashr_Liver.db --covariance /opt/data/data/phenomexcan/prediction_models/mashr/mashr_Liver.txt.gz --gwas_file /opt/data/projects/asthma-copd/results/final_imputed_gwas/GWAS_Asthma_only_GLM_SNPs_info0.7-harmonized-imputed.txt.gz --separator '\t' --non_effect_allele_column non_effect_allele --effect_allele_column effect_allele --snp_column panel_variant_id --zscore_column zscore --keep_non_rsid --additional_output --model_db_snp_key varID --throw --output_file /opt/data/projects/asthma-copd/results/twas/spredixcan/GWAS_Asthma_only_GLM_SNPs_info0.7-gtex_v8-mashr-Liver.csv\n",
      "+ set +x\n",
      "+ /opt/data/software/conda_envs/metaxcan/bin/python /opt/data/software/metaxcan/software/SPrediXcan.py --model_db_path /opt/data/data/phenomexcan/prediction_models/mashr/mashr_Heart_Left_Ventricle.db --covariance /opt/data/data/phenomexcan/prediction_models/mashr/mashr_Heart_Left_Ventricle.txt.gz --gwas_file /opt/data/projects/asthma-copd/results/final_imputed_gwas/GWAS_Asthma_only_GLM_SNPs_info0.7-harmonized-imputed.txt.gz --separator '\t' --non_effect_allele_column non_effect_allele --effect_allele_column effect_allele --snp_column panel_variant_id --zscore_column zscore --keep_non_rsid --additional_output --model_db_snp_key varID --throw --output_file /opt/data/projects/asthma-copd/results/twas/spredixcan/GWAS_Asthma_only_GLM_SNPs_info0.7-gtex_v8-mashr-Heart_Left_Ventricle.csv\n",
      "+ set +x\n",
      "+ /opt/data/software/conda_envs/metaxcan/bin/python /opt/data/software/metaxcan/software/SPrediXcan.py --model_db_path /opt/data/data/phenomexcan/prediction_models/mashr/mashr_Brain_Hippocampus.db --covariance /opt/data/data/phenomexcan/prediction_models/mashr/mashr_Brain_Hippocampus.txt.gz --gwas_file /opt/data/projects/asthma-copd/results/final_imputed_gwas/GWAS_Asthma_only_GLM_SNPs_info0.7-harmonized-imputed.txt.gz --separator '\t' --non_effect_allele_column non_effect_allele --effect_allele_column effect_allele --snp_column panel_variant_id --zscore_column zscore --keep_non_rsid --additional_output --model_db_snp_key varID --throw --output_file /opt/data/projects/asthma-copd/results/twas/spredixcan/GWAS_Asthma_only_GLM_SNPs_info0.7-gtex_v8-mashr-Brain_Hippocampus.csv\n",
      "+ set +x\n",
      "+ /opt/data/software/conda_envs/metaxcan/bin/python /opt/data/software/metaxcan/software/SPrediXcan.py --model_db_path /opt/data/data/phenomexcan/prediction_models/mashr/mashr_Testis.db --covariance /opt/data/data/phenomexcan/prediction_models/mashr/mashr_Testis.txt.gz --gwas_file /opt/data/projects/asthma-copd/results/final_imputed_gwas/GWAS_Asthma_only_GLM_SNPs_info0.7-harmonized-imputed.txt.gz --separator '\t' --non_effect_allele_column non_effect_allele --effect_allele_column effect_allele --snp_column panel_variant_id --zscore_column zscore --keep_non_rsid --additional_output --model_db_snp_key varID --throw --output_file /opt/data/projects/asthma-copd/results/twas/spredixcan/GWAS_Asthma_only_GLM_SNPs_info0.7-gtex_v8-mashr-Testis.csv\n"
     ]
    },
    {
     "name": "stdout",
     "output_type": "stream",
     "text": [
      "Running for asthma_only, Heart_Atrial_Appendage\n",
      "Saving results in /opt/data/projects/asthma-copd/results/twas/spredixcan\n",
      "WARNING - Some GWAS snp zscores are not finite.\n",
      "\n",
      "Running for asthma_only, Liver\n",
      "Saving results in /opt/data/projects/asthma-copd/results/twas/spredixcan\n",
      "WARNING - Some GWAS snp zscores are not finite.\n",
      "\n",
      "Running for asthma_only, Heart_Left_Ventricle\n",
      "Saving results in /opt/data/projects/asthma-copd/results/twas/spredixcan\n",
      "WARNING - Some GWAS snp zscores are not finite.\n",
      "\n",
      "Running for asthma_only, Brain_Hippocampus\n",
      "Saving results in /opt/data/projects/asthma-copd/results/twas/spredixcan\n",
      "WARNING - Some GWAS snp zscores are not finite.\n",
      "\n",
      "Running for asthma_only, Testis\n",
      "Saving results in /opt/data/projects/asthma-copd/results/twas/spredixcan\n",
      "WARNING - Some GWAS snp zscores are not finite.\n",
      "\n"
     ]
    },
    {
     "name": "stderr",
     "output_type": "stream",
     "text": [
      "+ set +x\n"
     ]
    },
    {
     "name": "stdout",
     "output_type": "stream",
     "text": [
      "Running for asthma_only, Uterus\n",
      "Saving results in /opt/data/projects/asthma-copd/results/twas/spredixcan\n",
      "WARNING - Some GWAS snp zscores are not finite.\n",
      "\n"
     ]
    },
    {
     "name": "stderr",
     "output_type": "stream",
     "text": [
      "+ /opt/data/software/conda_envs/metaxcan/bin/python /opt/data/software/metaxcan/software/SPrediXcan.py --model_db_path /opt/data/data/phenomexcan/prediction_models/mashr/mashr_Uterus.db --covariance /opt/data/data/phenomexcan/prediction_models/mashr/mashr_Uterus.txt.gz --gwas_file /opt/data/projects/asthma-copd/results/final_imputed_gwas/GWAS_Asthma_only_GLM_SNPs_info0.7-harmonized-imputed.txt.gz --separator '\t' --non_effect_allele_column non_effect_allele --effect_allele_column effect_allele --snp_column panel_variant_id --zscore_column zscore --keep_non_rsid --additional_output --model_db_snp_key varID --throw --output_file /opt/data/projects/asthma-copd/results/twas/spredixcan/GWAS_Asthma_only_GLM_SNPs_info0.7-gtex_v8-mashr-Uterus.csv\n",
      "+ set +x\n",
      "+ /opt/data/software/conda_envs/metaxcan/bin/python /opt/data/software/metaxcan/software/SPrediXcan.py --model_db_path /opt/data/data/phenomexcan/prediction_models/mashr/mashr_Adipose_Subcutaneous.db --covariance /opt/data/data/phenomexcan/prediction_models/mashr/mashr_Adipose_Subcutaneous.txt.gz --gwas_file /opt/data/projects/asthma-copd/results/final_imputed_gwas/GWAS_Asthma_only_GLM_SNPs_info0.7-harmonized-imputed.txt.gz --separator '\t' --non_effect_allele_column non_effect_allele --effect_allele_column effect_allele --snp_column panel_variant_id --zscore_column zscore --keep_non_rsid --additional_output --model_db_snp_key varID --throw --output_file /opt/data/projects/asthma-copd/results/twas/spredixcan/GWAS_Asthma_only_GLM_SNPs_info0.7-gtex_v8-mashr-Adipose_Subcutaneous.csv\n",
      "+ set +x\n",
      "+ /opt/data/software/conda_envs/metaxcan/bin/python /opt/data/software/metaxcan/software/SPrediXcan.py --model_db_path /opt/data/data/phenomexcan/prediction_models/mashr/mashr_Artery_Tibial.db --covariance /opt/data/data/phenomexcan/prediction_models/mashr/mashr_Artery_Tibial.txt.gz --gwas_file /opt/data/projects/asthma-copd/results/final_imputed_gwas/GWAS_Asthma_only_GLM_SNPs_info0.7-harmonized-imputed.txt.gz --separator '\t' --non_effect_allele_column non_effect_allele --effect_allele_column effect_allele --snp_column panel_variant_id --zscore_column zscore --keep_non_rsid --additional_output --model_db_snp_key varID --throw --output_file /opt/data/projects/asthma-copd/results/twas/spredixcan/GWAS_Asthma_only_GLM_SNPs_info0.7-gtex_v8-mashr-Artery_Tibial.csv\n",
      "+ set +x\n",
      "+ /opt/data/software/conda_envs/metaxcan/bin/python /opt/data/software/metaxcan/software/SPrediXcan.py --model_db_path /opt/data/data/phenomexcan/prediction_models/mashr/mashr_Esophagus_Gastroesophageal_Junction.db --covariance /opt/data/data/phenomexcan/prediction_models/mashr/mashr_Esophagus_Gastroesophageal_Junction.txt.gz --gwas_file /opt/data/projects/asthma-copd/results/final_imputed_gwas/GWAS_Asthma_only_GLM_SNPs_info0.7-harmonized-imputed.txt.gz --separator '\t' --non_effect_allele_column non_effect_allele --effect_allele_column effect_allele --snp_column panel_variant_id --zscore_column zscore --keep_non_rsid --additional_output --model_db_snp_key varID --throw --output_file /opt/data/projects/asthma-copd/results/twas/spredixcan/GWAS_Asthma_only_GLM_SNPs_info0.7-gtex_v8-mashr-Esophagus_Gastroesophageal_Junction.csv\n",
      "+ set +x\n",
      "+ /opt/data/software/conda_envs/metaxcan/bin/python /opt/data/software/metaxcan/software/SPrediXcan.py --model_db_path /opt/data/data/phenomexcan/prediction_models/mashr/mashr_Prostate.db --covariance /opt/data/data/phenomexcan/prediction_models/mashr/mashr_Prostate.txt.gz --gwas_file /opt/data/projects/asthma-copd/results/final_imputed_gwas/GWAS_Asthma_only_GLM_SNPs_info0.7-harmonized-imputed.txt.gz --separator '\t' --non_effect_allele_column non_effect_allele --effect_allele_column effect_allele --snp_column panel_variant_id --zscore_column zscore --keep_non_rsid --additional_output --model_db_snp_key varID --throw --output_file /opt/data/projects/asthma-copd/results/twas/spredixcan/GWAS_Asthma_only_GLM_SNPs_info0.7-gtex_v8-mashr-Prostate.csv\n",
      "+ set +x\n",
      "+ /opt/data/software/conda_envs/metaxcan/bin/python /opt/data/software/metaxcan/software/SPrediXcan.py --model_db_path /opt/data/data/phenomexcan/prediction_models/mashr/mashr_Muscle_Skeletal.db --covariance /opt/data/data/phenomexcan/prediction_models/mashr/mashr_Muscle_Skeletal.txt.gz --gwas_file /opt/data/projects/asthma-copd/results/final_imputed_gwas/GWAS_Asthma_only_GLM_SNPs_info0.7-harmonized-imputed.txt.gz --separator '\t' --non_effect_allele_column non_effect_allele --effect_allele_column effect_allele --snp_column panel_variant_id --zscore_column zscore --keep_non_rsid --additional_output --model_db_snp_key varID --throw --output_file /opt/data/projects/asthma-copd/results/twas/spredixcan/GWAS_Asthma_only_GLM_SNPs_info0.7-gtex_v8-mashr-Muscle_Skeletal.csv\n",
      "+ set +x\n",
      "+ /opt/data/software/conda_envs/metaxcan/bin/python /opt/data/software/metaxcan/software/SPrediXcan.py --model_db_path /opt/data/data/phenomexcan/prediction_models/mashr/mashr_Brain_Frontal_Cortex_BA9.db --covariance /opt/data/data/phenomexcan/prediction_models/mashr/mashr_Brain_Frontal_Cortex_BA9.txt.gz --gwas_file /opt/data/projects/asthma-copd/results/final_imputed_gwas/GWAS_Asthma_only_GLM_SNPs_info0.7-harmonized-imputed.txt.gz --separator '\t' --non_effect_allele_column non_effect_allele --effect_allele_column effect_allele --snp_column panel_variant_id --zscore_column zscore --keep_non_rsid --additional_output --model_db_snp_key varID --throw --output_file /opt/data/projects/asthma-copd/results/twas/spredixcan/GWAS_Asthma_only_GLM_SNPs_info0.7-gtex_v8-mashr-Brain_Frontal_Cortex_BA9.csv\n",
      "+ set +x\n",
      "+ /opt/data/software/conda_envs/metaxcan/bin/python /opt/data/software/metaxcan/software/SPrediXcan.py --model_db_path /opt/data/data/phenomexcan/prediction_models/mashr/mashr_Whole_Blood.db --covariance /opt/data/data/phenomexcan/prediction_models/mashr/mashr_Whole_Blood.txt.gz --gwas_file /opt/data/projects/asthma-copd/results/final_imputed_gwas/GWAS_Asthma_only_GLM_SNPs_info0.7-harmonized-imputed.txt.gz --separator '\t' --non_effect_allele_column non_effect_allele --effect_allele_column effect_allele --snp_column panel_variant_id --zscore_column zscore --keep_non_rsid --additional_output --model_db_snp_key varID --throw --output_file /opt/data/projects/asthma-copd/results/twas/spredixcan/GWAS_Asthma_only_GLM_SNPs_info0.7-gtex_v8-mashr-Whole_Blood.csv\n",
      "+ set +x\n",
      "+ /opt/data/software/conda_envs/metaxcan/bin/python /opt/data/software/metaxcan/software/SPrediXcan.py --model_db_path /opt/data/data/phenomexcan/prediction_models/mashr/mashr_Artery_Coronary.db --covariance /opt/data/data/phenomexcan/prediction_models/mashr/mashr_Artery_Coronary.txt.gz --gwas_file /opt/data/projects/asthma-copd/results/final_imputed_gwas/GWAS_Asthma_only_GLM_SNPs_info0.7-harmonized-imputed.txt.gz --separator '\t' --non_effect_allele_column non_effect_allele --effect_allele_column effect_allele --snp_column panel_variant_id --zscore_column zscore --keep_non_rsid --additional_output --model_db_snp_key varID --throw --output_file /opt/data/projects/asthma-copd/results/twas/spredixcan/GWAS_Asthma_only_GLM_SNPs_info0.7-gtex_v8-mashr-Artery_Coronary.csv\n",
      "+ set +x\n",
      "+ /opt/data/software/conda_envs/metaxcan/bin/python /opt/data/software/metaxcan/software/SPrediXcan.py --model_db_path /opt/data/data/phenomexcan/prediction_models/mashr/mashr_Brain_Cerebellum.db --covariance /opt/data/data/phenomexcan/prediction_models/mashr/mashr_Brain_Cerebellum.txt.gz --gwas_file /opt/data/projects/asthma-copd/results/final_imputed_gwas/GWAS_Asthma_only_GLM_SNPs_info0.7-harmonized-imputed.txt.gz --separator '\t' --non_effect_allele_column non_effect_allele --effect_allele_column effect_allele --snp_column panel_variant_id --zscore_column zscore --keep_non_rsid --additional_output --model_db_snp_key varID --throw --output_file /opt/data/projects/asthma-copd/results/twas/spredixcan/GWAS_Asthma_only_GLM_SNPs_info0.7-gtex_v8-mashr-Brain_Cerebellum.csv\n",
      "+ set +x\n"
     ]
    },
    {
     "name": "stdout",
     "output_type": "stream",
     "text": [
      "Running for asthma_only, Adipose_Subcutaneous\n",
      "Saving results in /opt/data/projects/asthma-copd/results/twas/spredixcan\n",
      "WARNING - Some GWAS snp zscores are not finite.\n",
      "\n",
      "Running for asthma_only, Artery_Tibial\n",
      "Saving results in /opt/data/projects/asthma-copd/results/twas/spredixcan\n",
      "WARNING - Some GWAS snp zscores are not finite.\n",
      "\n",
      "Running for asthma_only, Esophagus_Gastroesophageal_Junction\n",
      "Saving results in /opt/data/projects/asthma-copd/results/twas/spredixcan\n",
      "WARNING - Some GWAS snp zscores are not finite.\n",
      "\n",
      "Running for asthma_only, Prostate\n",
      "Saving results in /opt/data/projects/asthma-copd/results/twas/spredixcan\n",
      "WARNING - Some GWAS snp zscores are not finite.\n",
      "\n",
      "Running for asthma_only, Muscle_Skeletal\n",
      "Saving results in /opt/data/projects/asthma-copd/results/twas/spredixcan\n",
      "WARNING - Some GWAS snp zscores are not finite.\n",
      "\n",
      "Running for asthma_only, Brain_Frontal_Cortex_BA9\n",
      "Saving results in /opt/data/projects/asthma-copd/results/twas/spredixcan\n",
      "WARNING - Some GWAS snp zscores are not finite.\n",
      "\n",
      "Running for asthma_only, Whole_Blood\n",
      "Saving results in /opt/data/projects/asthma-copd/results/twas/spredixcan\n",
      "WARNING - Some GWAS snp zscores are not finite.\n",
      "\n",
      "Running for asthma_only, Artery_Coronary\n",
      "Saving results in /opt/data/projects/asthma-copd/results/twas/spredixcan\n",
      "WARNING - Some GWAS snp zscores are not finite.\n",
      "\n",
      "Running for asthma_only, Brain_Cerebellum\n",
      "Saving results in /opt/data/projects/asthma-copd/results/twas/spredixcan\n",
      "WARNING - Some GWAS snp zscores are not finite.\n",
      "\n",
      "Running for asthma_only, Small_Intestine_Terminal_Ileum\n",
      "Saving results in /opt/data/projects/asthma-copd/results/twas/spredixcan\n",
      "WARNING - Some GWAS snp zscores are not finite.\n",
      "\n",
      "Running for asthma_only, Stomach\n",
      "Saving results in /opt/data/projects/asthma-copd/results/twas/spredixcan\n",
      "WARNING - Some GWAS snp zscores are not finite.\n",
      "\n",
      "Running for asthma_only, Brain_Amygdala\n",
      "Saving results in /opt/data/projects/asthma-copd/results/twas/spredixcan\n",
      "WARNING - Some GWAS snp zscores are not finite.\n",
      "\n",
      "Running for asthma_only, Minor_Salivary_Gland\n",
      "Saving results in /opt/data/projects/asthma-copd/results/twas/spredixcan\n"
     ]
    },
    {
     "name": "stderr",
     "output_type": "stream",
     "text": [
      "+ /opt/data/software/conda_envs/metaxcan/bin/python /opt/data/software/metaxcan/software/SPrediXcan.py --model_db_path /opt/data/data/phenomexcan/prediction_models/mashr/mashr_Small_Intestine_Terminal_Ileum.db --covariance /opt/data/data/phenomexcan/prediction_models/mashr/mashr_Small_Intestine_Terminal_Ileum.txt.gz --gwas_file /opt/data/projects/asthma-copd/results/final_imputed_gwas/GWAS_Asthma_only_GLM_SNPs_info0.7-harmonized-imputed.txt.gz --separator '\t' --non_effect_allele_column non_effect_allele --effect_allele_column effect_allele --snp_column panel_variant_id --zscore_column zscore --keep_non_rsid --additional_output --model_db_snp_key varID --throw --output_file /opt/data/projects/asthma-copd/results/twas/spredixcan/GWAS_Asthma_only_GLM_SNPs_info0.7-gtex_v8-mashr-Small_Intestine_Terminal_Ileum.csv\n",
      "+ set +x\n",
      "+ /opt/data/software/conda_envs/metaxcan/bin/python /opt/data/software/metaxcan/software/SPrediXcan.py --model_db_path /opt/data/data/phenomexcan/prediction_models/mashr/mashr_Stomach.db --covariance /opt/data/data/phenomexcan/prediction_models/mashr/mashr_Stomach.txt.gz --gwas_file /opt/data/projects/asthma-copd/results/final_imputed_gwas/GWAS_Asthma_only_GLM_SNPs_info0.7-harmonized-imputed.txt.gz --separator '\t' --non_effect_allele_column non_effect_allele --effect_allele_column effect_allele --snp_column panel_variant_id --zscore_column zscore --keep_non_rsid --additional_output --model_db_snp_key varID --throw --output_file /opt/data/projects/asthma-copd/results/twas/spredixcan/GWAS_Asthma_only_GLM_SNPs_info0.7-gtex_v8-mashr-Stomach.csv\n",
      "+ set +x\n",
      "+ /opt/data/software/conda_envs/metaxcan/bin/python /opt/data/software/metaxcan/software/SPrediXcan.py --model_db_path /opt/data/data/phenomexcan/prediction_models/mashr/mashr_Brain_Amygdala.db --covariance /opt/data/data/phenomexcan/prediction_models/mashr/mashr_Brain_Amygdala.txt.gz --gwas_file /opt/data/projects/asthma-copd/results/final_imputed_gwas/GWAS_Asthma_only_GLM_SNPs_info0.7-harmonized-imputed.txt.gz --separator '\t' --non_effect_allele_column non_effect_allele --effect_allele_column effect_allele --snp_column panel_variant_id --zscore_column zscore --keep_non_rsid --additional_output --model_db_snp_key varID --throw --output_file /opt/data/projects/asthma-copd/results/twas/spredixcan/GWAS_Asthma_only_GLM_SNPs_info0.7-gtex_v8-mashr-Brain_Amygdala.csv\n",
      "+ set +x\n",
      "+ /opt/data/software/conda_envs/metaxcan/bin/python /opt/data/software/metaxcan/software/SPrediXcan.py --model_db_path /opt/data/data/phenomexcan/prediction_models/mashr/mashr_Minor_Salivary_Gland.db --covariance /opt/data/data/phenomexcan/prediction_models/mashr/mashr_Minor_Salivary_Gland.txt.gz --gwas_file /opt/data/projects/asthma-copd/results/final_imputed_gwas/GWAS_Asthma_only_GLM_SNPs_info0.7-harmonized-imputed.txt.gz --separator '\t' --non_effect_allele_column non_effect_allele --effect_allele_column effect_allele --snp_column panel_variant_id --zscore_column zscore --keep_non_rsid --additional_output --model_db_snp_key varID --throw --output_file /opt/data/projects/asthma-copd/results/twas/spredixcan/GWAS_Asthma_only_GLM_SNPs_info0.7-gtex_v8-mashr-Minor_Salivary_Gland.csv\n"
     ]
    },
    {
     "name": "stdout",
     "output_type": "stream",
     "text": [
      "WARNING - Some GWAS snp zscores are not finite.\n",
      "\n"
     ]
    },
    {
     "name": "stderr",
     "output_type": "stream",
     "text": [
      "+ set +x\n"
     ]
    },
    {
     "name": "stdout",
     "output_type": "stream",
     "text": [
      "Running for asthma_only, Brain_Putamen_basal_ganglia\n",
      "Saving results in /opt/data/projects/asthma-copd/results/twas/spredixcan\n"
     ]
    },
    {
     "name": "stderr",
     "output_type": "stream",
     "text": [
      "+ /opt/data/software/conda_envs/metaxcan/bin/python /opt/data/software/metaxcan/software/SPrediXcan.py --model_db_path /opt/data/data/phenomexcan/prediction_models/mashr/mashr_Brain_Putamen_basal_ganglia.db --covariance /opt/data/data/phenomexcan/prediction_models/mashr/mashr_Brain_Putamen_basal_ganglia.txt.gz --gwas_file /opt/data/projects/asthma-copd/results/final_imputed_gwas/GWAS_Asthma_only_GLM_SNPs_info0.7-harmonized-imputed.txt.gz --separator '\t' --non_effect_allele_column non_effect_allele --effect_allele_column effect_allele --snp_column panel_variant_id --zscore_column zscore --keep_non_rsid --additional_output --model_db_snp_key varID --throw --output_file /opt/data/projects/asthma-copd/results/twas/spredixcan/GWAS_Asthma_only_GLM_SNPs_info0.7-gtex_v8-mashr-Brain_Putamen_basal_ganglia.csv\n"
     ]
    },
    {
     "name": "stdout",
     "output_type": "stream",
     "text": [
      "WARNING - Some GWAS snp zscores are not finite.\n",
      "\n"
     ]
    },
    {
     "name": "stderr",
     "output_type": "stream",
     "text": [
      "+ set +x\n"
     ]
    },
    {
     "name": "stdout",
     "output_type": "stream",
     "text": [
      "Running for asthma_only, Breast_Mammary_Tissue\n",
      "Saving results in /opt/data/projects/asthma-copd/results/twas/spredixcan\n"
     ]
    },
    {
     "name": "stderr",
     "output_type": "stream",
     "text": [
      "+ /opt/data/software/conda_envs/metaxcan/bin/python /opt/data/software/metaxcan/software/SPrediXcan.py --model_db_path /opt/data/data/phenomexcan/prediction_models/mashr/mashr_Breast_Mammary_Tissue.db --covariance /opt/data/data/phenomexcan/prediction_models/mashr/mashr_Breast_Mammary_Tissue.txt.gz --gwas_file /opt/data/projects/asthma-copd/results/final_imputed_gwas/GWAS_Asthma_only_GLM_SNPs_info0.7-harmonized-imputed.txt.gz --separator '\t' --non_effect_allele_column non_effect_allele --effect_allele_column effect_allele --snp_column panel_variant_id --zscore_column zscore --keep_non_rsid --additional_output --model_db_snp_key varID --throw --output_file /opt/data/projects/asthma-copd/results/twas/spredixcan/GWAS_Asthma_only_GLM_SNPs_info0.7-gtex_v8-mashr-Breast_Mammary_Tissue.csv\n",
      "+ set +x\n"
     ]
    },
    {
     "name": "stdout",
     "output_type": "stream",
     "text": [
      "WARNING - Some GWAS snp zscores are not finite.\n",
      "\n",
      "Running for asthma_only, Adipose_Visceral_Omentum\n",
      "Saving results in /opt/data/projects/asthma-copd/results/twas/spredixcan\n"
     ]
    },
    {
     "name": "stderr",
     "output_type": "stream",
     "text": [
      "+ /opt/data/software/conda_envs/metaxcan/bin/python /opt/data/software/metaxcan/software/SPrediXcan.py --model_db_path /opt/data/data/phenomexcan/prediction_models/mashr/mashr_Adipose_Visceral_Omentum.db --covariance /opt/data/data/phenomexcan/prediction_models/mashr/mashr_Adipose_Visceral_Omentum.txt.gz --gwas_file /opt/data/projects/asthma-copd/results/final_imputed_gwas/GWAS_Asthma_only_GLM_SNPs_info0.7-harmonized-imputed.txt.gz --separator '\t' --non_effect_allele_column non_effect_allele --effect_allele_column effect_allele --snp_column panel_variant_id --zscore_column zscore --keep_non_rsid --additional_output --model_db_snp_key varID --throw --output_file /opt/data/projects/asthma-copd/results/twas/spredixcan/GWAS_Asthma_only_GLM_SNPs_info0.7-gtex_v8-mashr-Adipose_Visceral_Omentum.csv\n"
     ]
    },
    {
     "name": "stdout",
     "output_type": "stream",
     "text": [
      "WARNING - Some GWAS snp zscores are not finite.\n",
      "\n"
     ]
    },
    {
     "name": "stderr",
     "output_type": "stream",
     "text": [
      "+ set +x\n"
     ]
    },
    {
     "name": "stdout",
     "output_type": "stream",
     "text": [
      "Running for asthma_only, Brain_Hypothalamus\n",
      "Saving results in /opt/data/projects/asthma-copd/results/twas/spredixcan\n",
      "WARNING - Some GWAS snp zscores are not finite.\n",
      "\n",
      "Running for asthma_only, Brain_Cerebellar_Hemisphere\n",
      "Saving results in /opt/data/projects/asthma-copd/results/twas/spredixcan\n",
      "WARNING - Some GWAS snp zscores are not finite.\n",
      "\n"
     ]
    },
    {
     "name": "stderr",
     "output_type": "stream",
     "text": [
      "+ /opt/data/software/conda_envs/metaxcan/bin/python /opt/data/software/metaxcan/software/SPrediXcan.py --model_db_path /opt/data/data/phenomexcan/prediction_models/mashr/mashr_Brain_Hypothalamus.db --covariance /opt/data/data/phenomexcan/prediction_models/mashr/mashr_Brain_Hypothalamus.txt.gz --gwas_file /opt/data/projects/asthma-copd/results/final_imputed_gwas/GWAS_Asthma_only_GLM_SNPs_info0.7-harmonized-imputed.txt.gz --separator '\t' --non_effect_allele_column non_effect_allele --effect_allele_column effect_allele --snp_column panel_variant_id --zscore_column zscore --keep_non_rsid --additional_output --model_db_snp_key varID --throw --output_file /opt/data/projects/asthma-copd/results/twas/spredixcan/GWAS_Asthma_only_GLM_SNPs_info0.7-gtex_v8-mashr-Brain_Hypothalamus.csv\n",
      "+ set +x\n",
      "+ /opt/data/software/conda_envs/metaxcan/bin/python /opt/data/software/metaxcan/software/SPrediXcan.py --model_db_path /opt/data/data/phenomexcan/prediction_models/mashr/mashr_Brain_Cerebellar_Hemisphere.db --covariance /opt/data/data/phenomexcan/prediction_models/mashr/mashr_Brain_Cerebellar_Hemisphere.txt.gz --gwas_file /opt/data/projects/asthma-copd/results/final_imputed_gwas/GWAS_Asthma_only_GLM_SNPs_info0.7-harmonized-imputed.txt.gz --separator '\t' --non_effect_allele_column non_effect_allele --effect_allele_column effect_allele --snp_column panel_variant_id --zscore_column zscore --keep_non_rsid --additional_output --model_db_snp_key varID --throw --output_file /opt/data/projects/asthma-copd/results/twas/spredixcan/GWAS_Asthma_only_GLM_SNPs_info0.7-gtex_v8-mashr-Brain_Cerebellar_Hemisphere.csv\n",
      "+ set +x\n"
     ]
    },
    {
     "name": "stdout",
     "output_type": "stream",
     "text": [
      "Running for asthma_only, Brain_Anterior_cingulate_cortex_BA24\n",
      "Saving results in /opt/data/projects/asthma-copd/results/twas/spredixcan\n",
      "WARNING - Some GWAS snp zscores are not finite.\n",
      "\n",
      "Running for asthma_only, Brain_Cortex\n",
      "Saving results in /opt/data/projects/asthma-copd/results/twas/spredixcan\n",
      "WARNING - Some GWAS snp zscores are not finite.\n",
      "\n",
      "Running for asthma_only, Nerve_Tibial\n",
      "Saving results in /opt/data/projects/asthma-copd/results/twas/spredixcan\n"
     ]
    },
    {
     "name": "stderr",
     "output_type": "stream",
     "text": [
      "+ /opt/data/software/conda_envs/metaxcan/bin/python /opt/data/software/metaxcan/software/SPrediXcan.py --model_db_path /opt/data/data/phenomexcan/prediction_models/mashr/mashr_Brain_Anterior_cingulate_cortex_BA24.db --covariance /opt/data/data/phenomexcan/prediction_models/mashr/mashr_Brain_Anterior_cingulate_cortex_BA24.txt.gz --gwas_file /opt/data/projects/asthma-copd/results/final_imputed_gwas/GWAS_Asthma_only_GLM_SNPs_info0.7-harmonized-imputed.txt.gz --separator '\t' --non_effect_allele_column non_effect_allele --effect_allele_column effect_allele --snp_column panel_variant_id --zscore_column zscore --keep_non_rsid --additional_output --model_db_snp_key varID --throw --output_file /opt/data/projects/asthma-copd/results/twas/spredixcan/GWAS_Asthma_only_GLM_SNPs_info0.7-gtex_v8-mashr-Brain_Anterior_cingulate_cortex_BA24.csv\n",
      "+ set +x\n",
      "+ /opt/data/software/conda_envs/metaxcan/bin/python /opt/data/software/metaxcan/software/SPrediXcan.py --model_db_path /opt/data/data/phenomexcan/prediction_models/mashr/mashr_Brain_Cortex.db --covariance /opt/data/data/phenomexcan/prediction_models/mashr/mashr_Brain_Cortex.txt.gz --gwas_file /opt/data/projects/asthma-copd/results/final_imputed_gwas/GWAS_Asthma_only_GLM_SNPs_info0.7-harmonized-imputed.txt.gz --separator '\t' --non_effect_allele_column non_effect_allele --effect_allele_column effect_allele --snp_column panel_variant_id --zscore_column zscore --keep_non_rsid --additional_output --model_db_snp_key varID --throw --output_file /opt/data/projects/asthma-copd/results/twas/spredixcan/GWAS_Asthma_only_GLM_SNPs_info0.7-gtex_v8-mashr-Brain_Cortex.csv\n",
      "+ set +x\n",
      "+ /opt/data/software/conda_envs/metaxcan/bin/python /opt/data/software/metaxcan/software/SPrediXcan.py --model_db_path /opt/data/data/phenomexcan/prediction_models/mashr/mashr_Nerve_Tibial.db --covariance /opt/data/data/phenomexcan/prediction_models/mashr/mashr_Nerve_Tibial.txt.gz --gwas_file /opt/data/projects/asthma-copd/results/final_imputed_gwas/GWAS_Asthma_only_GLM_SNPs_info0.7-harmonized-imputed.txt.gz --separator '\t' --non_effect_allele_column non_effect_allele --effect_allele_column effect_allele --snp_column panel_variant_id --zscore_column zscore --keep_non_rsid --additional_output --model_db_snp_key varID --throw --output_file /opt/data/projects/asthma-copd/results/twas/spredixcan/GWAS_Asthma_only_GLM_SNPs_info0.7-gtex_v8-mashr-Nerve_Tibial.csv\n"
     ]
    },
    {
     "name": "stdout",
     "output_type": "stream",
     "text": [
      "WARNING - Some GWAS snp zscores are not finite.\n",
      "\n"
     ]
    },
    {
     "name": "stderr",
     "output_type": "stream",
     "text": [
      "+ set +x\n"
     ]
    },
    {
     "name": "stdout",
     "output_type": "stream",
     "text": [
      "Running for asthma_only, Pancreas\n",
      "Saving results in /opt/data/projects/asthma-copd/results/twas/spredixcan\n",
      "WARNING - Some GWAS snp zscores are not finite.\n",
      "\n",
      "Running for asthma_only, Esophagus_Muscularis\n",
      "Saving results in /opt/data/projects/asthma-copd/results/twas/spredixcan\n",
      "WARNING - Some GWAS snp zscores are not finite.\n",
      "\n",
      "Running for asthma_only, Brain_Substantia_nigra\n",
      "Saving results in /opt/data/projects/asthma-copd/results/twas/spredixcan\n",
      "WARNING - Some GWAS snp zscores are not finite.\n",
      "\n",
      "Running for asthma_only, Skin_Sun_Exposed_Lower_leg\n",
      "Saving results in /opt/data/projects/asthma-copd/results/twas/spredixcan\n",
      "WARNING - Some GWAS snp zscores are not finite.\n",
      "\n"
     ]
    },
    {
     "name": "stderr",
     "output_type": "stream",
     "text": [
      "+ /opt/data/software/conda_envs/metaxcan/bin/python /opt/data/software/metaxcan/software/SPrediXcan.py --model_db_path /opt/data/data/phenomexcan/prediction_models/mashr/mashr_Pancreas.db --covariance /opt/data/data/phenomexcan/prediction_models/mashr/mashr_Pancreas.txt.gz --gwas_file /opt/data/projects/asthma-copd/results/final_imputed_gwas/GWAS_Asthma_only_GLM_SNPs_info0.7-harmonized-imputed.txt.gz --separator '\t' --non_effect_allele_column non_effect_allele --effect_allele_column effect_allele --snp_column panel_variant_id --zscore_column zscore --keep_non_rsid --additional_output --model_db_snp_key varID --throw --output_file /opt/data/projects/asthma-copd/results/twas/spredixcan/GWAS_Asthma_only_GLM_SNPs_info0.7-gtex_v8-mashr-Pancreas.csv\n",
      "+ set +x\n",
      "+ /opt/data/software/conda_envs/metaxcan/bin/python /opt/data/software/metaxcan/software/SPrediXcan.py --model_db_path /opt/data/data/phenomexcan/prediction_models/mashr/mashr_Esophagus_Muscularis.db --covariance /opt/data/data/phenomexcan/prediction_models/mashr/mashr_Esophagus_Muscularis.txt.gz --gwas_file /opt/data/projects/asthma-copd/results/final_imputed_gwas/GWAS_Asthma_only_GLM_SNPs_info0.7-harmonized-imputed.txt.gz --separator '\t' --non_effect_allele_column non_effect_allele --effect_allele_column effect_allele --snp_column panel_variant_id --zscore_column zscore --keep_non_rsid --additional_output --model_db_snp_key varID --throw --output_file /opt/data/projects/asthma-copd/results/twas/spredixcan/GWAS_Asthma_only_GLM_SNPs_info0.7-gtex_v8-mashr-Esophagus_Muscularis.csv\n",
      "+ set +x\n",
      "+ /opt/data/software/conda_envs/metaxcan/bin/python /opt/data/software/metaxcan/software/SPrediXcan.py --model_db_path /opt/data/data/phenomexcan/prediction_models/mashr/mashr_Brain_Substantia_nigra.db --covariance /opt/data/data/phenomexcan/prediction_models/mashr/mashr_Brain_Substantia_nigra.txt.gz --gwas_file /opt/data/projects/asthma-copd/results/final_imputed_gwas/GWAS_Asthma_only_GLM_SNPs_info0.7-harmonized-imputed.txt.gz --separator '\t' --non_effect_allele_column non_effect_allele --effect_allele_column effect_allele --snp_column panel_variant_id --zscore_column zscore --keep_non_rsid --additional_output --model_db_snp_key varID --throw --output_file /opt/data/projects/asthma-copd/results/twas/spredixcan/GWAS_Asthma_only_GLM_SNPs_info0.7-gtex_v8-mashr-Brain_Substantia_nigra.csv\n",
      "+ set +x\n",
      "+ /opt/data/software/conda_envs/metaxcan/bin/python /opt/data/software/metaxcan/software/SPrediXcan.py --model_db_path /opt/data/data/phenomexcan/prediction_models/mashr/mashr_Skin_Sun_Exposed_Lower_leg.db --covariance /opt/data/data/phenomexcan/prediction_models/mashr/mashr_Skin_Sun_Exposed_Lower_leg.txt.gz --gwas_file /opt/data/projects/asthma-copd/results/final_imputed_gwas/GWAS_Asthma_only_GLM_SNPs_info0.7-harmonized-imputed.txt.gz --separator '\t' --non_effect_allele_column non_effect_allele --effect_allele_column effect_allele --snp_column panel_variant_id --zscore_column zscore --keep_non_rsid --additional_output --model_db_snp_key varID --throw --output_file /opt/data/projects/asthma-copd/results/twas/spredixcan/GWAS_Asthma_only_GLM_SNPs_info0.7-gtex_v8-mashr-Skin_Sun_Exposed_Lower_leg.csv\n",
      "+ set +x\n"
     ]
    },
    {
     "name": "stdout",
     "output_type": "stream",
     "text": [
      "Running for asthma_only, Skin_Not_Sun_Exposed_Suprapubic\n",
      "Saving results in /opt/data/projects/asthma-copd/results/twas/spredixcan\n",
      "WARNING - Some GWAS snp zscores are not finite.\n",
      "\n"
     ]
    },
    {
     "name": "stderr",
     "output_type": "stream",
     "text": [
      "+ /opt/data/software/conda_envs/metaxcan/bin/python /opt/data/software/metaxcan/software/SPrediXcan.py --model_db_path /opt/data/data/phenomexcan/prediction_models/mashr/mashr_Skin_Not_Sun_Exposed_Suprapubic.db --covariance /opt/data/data/phenomexcan/prediction_models/mashr/mashr_Skin_Not_Sun_Exposed_Suprapubic.txt.gz --gwas_file /opt/data/projects/asthma-copd/results/final_imputed_gwas/GWAS_Asthma_only_GLM_SNPs_info0.7-harmonized-imputed.txt.gz --separator '\t' --non_effect_allele_column non_effect_allele --effect_allele_column effect_allele --snp_column panel_variant_id --zscore_column zscore --keep_non_rsid --additional_output --model_db_snp_key varID --throw --output_file /opt/data/projects/asthma-copd/results/twas/spredixcan/GWAS_Asthma_only_GLM_SNPs_info0.7-gtex_v8-mashr-Skin_Not_Sun_Exposed_Suprapubic.csv\n",
      "+ set +x\n",
      "+ /opt/data/software/conda_envs/metaxcan/bin/python /opt/data/software/metaxcan/software/SPrediXcan.py --model_db_path /opt/data/data/phenomexcan/prediction_models/mashr/mashr_Brain_Spinal_cord_cervical_c-1.db --covariance /opt/data/data/phenomexcan/prediction_models/mashr/mashr_Brain_Spinal_cord_cervical_c-1.txt.gz --gwas_file /opt/data/projects/asthma-copd/results/final_imputed_gwas/GWAS_Asthma_only_GLM_SNPs_info0.7-harmonized-imputed.txt.gz --separator '\t' --non_effect_allele_column non_effect_allele --effect_allele_column effect_allele --snp_column panel_variant_id --zscore_column zscore --keep_non_rsid --additional_output --model_db_snp_key varID --throw --output_file /opt/data/projects/asthma-copd/results/twas/spredixcan/GWAS_Asthma_only_GLM_SNPs_info0.7-gtex_v8-mashr-Brain_Spinal_cord_cervical_c-1.csv\n",
      "+ set +x\n",
      "+ /opt/data/software/conda_envs/metaxcan/bin/python /opt/data/software/metaxcan/software/SPrediXcan.py --model_db_path /opt/data/data/phenomexcan/prediction_models/mashr/mashr_Spleen.db --covariance /opt/data/data/phenomexcan/prediction_models/mashr/mashr_Spleen.txt.gz --gwas_file /opt/data/projects/asthma-copd/results/final_imputed_gwas/GWAS_Asthma_only_GLM_SNPs_info0.7-harmonized-imputed.txt.gz --separator '\t' --non_effect_allele_column non_effect_allele --effect_allele_column effect_allele --snp_column panel_variant_id --zscore_column zscore --keep_non_rsid --additional_output --model_db_snp_key varID --throw --output_file /opt/data/projects/asthma-copd/results/twas/spredixcan/GWAS_Asthma_only_GLM_SNPs_info0.7-gtex_v8-mashr-Spleen.csv\n",
      "+ set +x\n",
      "+ /opt/data/software/conda_envs/metaxcan/bin/python /opt/data/software/metaxcan/software/SPrediXcan.py --model_db_path /opt/data/data/phenomexcan/prediction_models/mashr/mashr_Cells_EBV-transformed_lymphocytes.db --covariance /opt/data/data/phenomexcan/prediction_models/mashr/mashr_Cells_EBV-transformed_lymphocytes.txt.gz --gwas_file /opt/data/projects/asthma-copd/results/final_imputed_gwas/GWAS_Asthma_only_GLM_SNPs_info0.7-harmonized-imputed.txt.gz --separator '\t' --non_effect_allele_column non_effect_allele --effect_allele_column effect_allele --snp_column panel_variant_id --zscore_column zscore --keep_non_rsid --additional_output --model_db_snp_key varID --throw --output_file /opt/data/projects/asthma-copd/results/twas/spredixcan/GWAS_Asthma_only_GLM_SNPs_info0.7-gtex_v8-mashr-Cells_EBV-transformed_lymphocytes.csv\n",
      "+ set +x\n",
      "+ /opt/data/software/conda_envs/metaxcan/bin/python /opt/data/software/metaxcan/software/SPrediXcan.py --model_db_path /opt/data/data/phenomexcan/prediction_models/mashr/mashr_Vagina.db --covariance /opt/data/data/phenomexcan/prediction_models/mashr/mashr_Vagina.txt.gz --gwas_file /opt/data/projects/asthma-copd/results/final_imputed_gwas/GWAS_Asthma_only_GLM_SNPs_info0.7-harmonized-imputed.txt.gz --separator '\t' --non_effect_allele_column non_effect_allele --effect_allele_column effect_allele --snp_column panel_variant_id --zscore_column zscore --keep_non_rsid --additional_output --model_db_snp_key varID --throw --output_file /opt/data/projects/asthma-copd/results/twas/spredixcan/GWAS_Asthma_only_GLM_SNPs_info0.7-gtex_v8-mashr-Vagina.csv\n",
      "+ set +x\n",
      "+ /opt/data/software/conda_envs/metaxcan/bin/python /opt/data/software/metaxcan/software/SPrediXcan.py --model_db_path /opt/data/data/phenomexcan/prediction_models/mashr/mashr_Colon_Sigmoid.db --covariance /opt/data/data/phenomexcan/prediction_models/mashr/mashr_Colon_Sigmoid.txt.gz --gwas_file /opt/data/projects/asthma-copd/results/final_imputed_gwas/GWAS_Asthma_only_GLM_SNPs_info0.7-harmonized-imputed.txt.gz --separator '\t' --non_effect_allele_column non_effect_allele --effect_allele_column effect_allele --snp_column panel_variant_id --zscore_column zscore --keep_non_rsid --additional_output --model_db_snp_key varID --throw --output_file /opt/data/projects/asthma-copd/results/twas/spredixcan/GWAS_Asthma_only_GLM_SNPs_info0.7-gtex_v8-mashr-Colon_Sigmoid.csv\n",
      "+ set +x\n",
      "+ /opt/data/software/conda_envs/metaxcan/bin/python /opt/data/software/metaxcan/software/SPrediXcan.py --model_db_path /opt/data/data/phenomexcan/prediction_models/mashr/mashr_Brain_Caudate_basal_ganglia.db --covariance /opt/data/data/phenomexcan/prediction_models/mashr/mashr_Brain_Caudate_basal_ganglia.txt.gz --gwas_file /opt/data/projects/asthma-copd/results/final_imputed_gwas/GWAS_Asthma_only_GLM_SNPs_info0.7-harmonized-imputed.txt.gz --separator '\t' --non_effect_allele_column non_effect_allele --effect_allele_column effect_allele --snp_column panel_variant_id --zscore_column zscore --keep_non_rsid --additional_output --model_db_snp_key varID --throw --output_file /opt/data/projects/asthma-copd/results/twas/spredixcan/GWAS_Asthma_only_GLM_SNPs_info0.7-gtex_v8-mashr-Brain_Caudate_basal_ganglia.csv\n"
     ]
    },
    {
     "name": "stdout",
     "output_type": "stream",
     "text": [
      "Running for asthma_only, Brain_Spinal_cord_cervical_c-1\n",
      "Saving results in /opt/data/projects/asthma-copd/results/twas/spredixcan\n",
      "WARNING - Some GWAS snp zscores are not finite.\n",
      "\n",
      "Running for asthma_only, Spleen\n",
      "Saving results in /opt/data/projects/asthma-copd/results/twas/spredixcan\n",
      "WARNING - Some GWAS snp zscores are not finite.\n",
      "\n",
      "Running for asthma_only, Cells_EBV-transformed_lymphocytes\n",
      "Saving results in /opt/data/projects/asthma-copd/results/twas/spredixcan\n",
      "WARNING - Some GWAS snp zscores are not finite.\n",
      "\n",
      "Running for asthma_only, Vagina\n",
      "Saving results in /opt/data/projects/asthma-copd/results/twas/spredixcan\n",
      "WARNING - Some GWAS snp zscores are not finite.\n",
      "\n",
      "Running for asthma_only, Colon_Sigmoid\n",
      "Saving results in /opt/data/projects/asthma-copd/results/twas/spredixcan\n",
      "WARNING - Some GWAS snp zscores are not finite.\n",
      "\n",
      "Running for asthma_only, Brain_Caudate_basal_ganglia\n",
      "Saving results in /opt/data/projects/asthma-copd/results/twas/spredixcan\n",
      "WARNING - Some GWAS snp zscores are not finite.\n",
      "\n"
     ]
    },
    {
     "name": "stderr",
     "output_type": "stream",
     "text": [
      "+ set +x\n"
     ]
    },
    {
     "name": "stdout",
     "output_type": "stream",
     "text": [
      "Running for asthma_only, Brain_Nucleus_accumbens_basal_ganglia\n",
      "Saving results in /opt/data/projects/asthma-copd/results/twas/spredixcan\n"
     ]
    },
    {
     "name": "stderr",
     "output_type": "stream",
     "text": [
      "+ /opt/data/software/conda_envs/metaxcan/bin/python /opt/data/software/metaxcan/software/SPrediXcan.py --model_db_path /opt/data/data/phenomexcan/prediction_models/mashr/mashr_Brain_Nucleus_accumbens_basal_ganglia.db --covariance /opt/data/data/phenomexcan/prediction_models/mashr/mashr_Brain_Nucleus_accumbens_basal_ganglia.txt.gz --gwas_file /opt/data/projects/asthma-copd/results/final_imputed_gwas/GWAS_Asthma_only_GLM_SNPs_info0.7-harmonized-imputed.txt.gz --separator '\t' --non_effect_allele_column non_effect_allele --effect_allele_column effect_allele --snp_column panel_variant_id --zscore_column zscore --keep_non_rsid --additional_output --model_db_snp_key varID --throw --output_file /opt/data/projects/asthma-copd/results/twas/spredixcan/GWAS_Asthma_only_GLM_SNPs_info0.7-gtex_v8-mashr-Brain_Nucleus_accumbens_basal_ganglia.csv\n"
     ]
    },
    {
     "name": "stdout",
     "output_type": "stream",
     "text": [
      "WARNING - Some GWAS snp zscores are not finite.\n",
      "\n"
     ]
    },
    {
     "name": "stderr",
     "output_type": "stream",
     "text": [
      "+ set +x\n"
     ]
    },
    {
     "name": "stdout",
     "output_type": "stream",
     "text": [
      "Running for asthma_only, Esophagus_Mucosa\n",
      "Saving results in /opt/data/projects/asthma-copd/results/twas/spredixcan\n"
     ]
    },
    {
     "name": "stderr",
     "output_type": "stream",
     "text": [
      "+ /opt/data/software/conda_envs/metaxcan/bin/python /opt/data/software/metaxcan/software/SPrediXcan.py --model_db_path /opt/data/data/phenomexcan/prediction_models/mashr/mashr_Esophagus_Mucosa.db --covariance /opt/data/data/phenomexcan/prediction_models/mashr/mashr_Esophagus_Mucosa.txt.gz --gwas_file /opt/data/projects/asthma-copd/results/final_imputed_gwas/GWAS_Asthma_only_GLM_SNPs_info0.7-harmonized-imputed.txt.gz --separator '\t' --non_effect_allele_column non_effect_allele --effect_allele_column effect_allele --snp_column panel_variant_id --zscore_column zscore --keep_non_rsid --additional_output --model_db_snp_key varID --throw --output_file /opt/data/projects/asthma-copd/results/twas/spredixcan/GWAS_Asthma_only_GLM_SNPs_info0.7-gtex_v8-mashr-Esophagus_Mucosa.csv\n"
     ]
    },
    {
     "name": "stdout",
     "output_type": "stream",
     "text": [
      "WARNING - Some GWAS snp zscores are not finite.\n",
      "\n"
     ]
    },
    {
     "name": "stderr",
     "output_type": "stream",
     "text": [
      "+ set +x\n"
     ]
    },
    {
     "name": "stdout",
     "output_type": "stream",
     "text": [
      "Running for asthma_only, Colon_Transverse\n",
      "Saving results in /opt/data/projects/asthma-copd/results/twas/spredixcan\n"
     ]
    },
    {
     "name": "stderr",
     "output_type": "stream",
     "text": [
      "+ /opt/data/software/conda_envs/metaxcan/bin/python /opt/data/software/metaxcan/software/SPrediXcan.py --model_db_path /opt/data/data/phenomexcan/prediction_models/mashr/mashr_Colon_Transverse.db --covariance /opt/data/data/phenomexcan/prediction_models/mashr/mashr_Colon_Transverse.txt.gz --gwas_file /opt/data/projects/asthma-copd/results/final_imputed_gwas/GWAS_Asthma_only_GLM_SNPs_info0.7-harmonized-imputed.txt.gz --separator '\t' --non_effect_allele_column non_effect_allele --effect_allele_column effect_allele --snp_column panel_variant_id --zscore_column zscore --keep_non_rsid --additional_output --model_db_snp_key varID --throw --output_file /opt/data/projects/asthma-copd/results/twas/spredixcan/GWAS_Asthma_only_GLM_SNPs_info0.7-gtex_v8-mashr-Colon_Transverse.csv\n"
     ]
    },
    {
     "name": "stdout",
     "output_type": "stream",
     "text": [
      "WARNING - Some GWAS snp zscores are not finite.\n",
      "\n"
     ]
    },
    {
     "name": "stderr",
     "output_type": "stream",
     "text": [
      "+ set +x\n"
     ]
    },
    {
     "name": "stdout",
     "output_type": "stream",
     "text": [
      "Running for asthma_only, Adrenal_Gland\n",
      "Saving results in /opt/data/projects/asthma-copd/results/twas/spredixcan\n",
      "WARNING - Some GWAS snp zscores are not finite.\n",
      "\n"
     ]
    },
    {
     "name": "stderr",
     "output_type": "stream",
     "text": [
      "+ /opt/data/software/conda_envs/metaxcan/bin/python /opt/data/software/metaxcan/software/SPrediXcan.py --model_db_path /opt/data/data/phenomexcan/prediction_models/mashr/mashr_Adrenal_Gland.db --covariance /opt/data/data/phenomexcan/prediction_models/mashr/mashr_Adrenal_Gland.txt.gz --gwas_file /opt/data/projects/asthma-copd/results/final_imputed_gwas/GWAS_Asthma_only_GLM_SNPs_info0.7-harmonized-imputed.txt.gz --separator '\t' --non_effect_allele_column non_effect_allele --effect_allele_column effect_allele --snp_column panel_variant_id --zscore_column zscore --keep_non_rsid --additional_output --model_db_snp_key varID --throw --output_file /opt/data/projects/asthma-copd/results/twas/spredixcan/GWAS_Asthma_only_GLM_SNPs_info0.7-gtex_v8-mashr-Adrenal_Gland.csv\n",
      "+ set +x\n",
      "+ /opt/data/software/conda_envs/metaxcan/bin/python /opt/data/software/metaxcan/software/SPrediXcan.py --model_db_path /opt/data/data/phenomexcan/prediction_models/mashr/mashr_Lung.db --covariance /opt/data/data/phenomexcan/prediction_models/mashr/mashr_Lung.txt.gz --gwas_file /opt/data/projects/asthma-copd/results/final_imputed_gwas/GWAS_Asthma_only_GLM_SNPs_info0.7-harmonized-imputed.txt.gz --separator '\t' --non_effect_allele_column non_effect_allele --effect_allele_column effect_allele --snp_column panel_variant_id --zscore_column zscore --keep_non_rsid --additional_output --model_db_snp_key varID --throw --output_file /opt/data/projects/asthma-copd/results/twas/spredixcan/GWAS_Asthma_only_GLM_SNPs_info0.7-gtex_v8-mashr-Lung.csv\n"
     ]
    },
    {
     "name": "stdout",
     "output_type": "stream",
     "text": [
      "Running for asthma_only, Lung\n",
      "Saving results in /opt/data/projects/asthma-copd/results/twas/spredixcan\n",
      "WARNING - Some GWAS snp zscores are not finite.\n",
      "\n"
     ]
    },
    {
     "name": "stderr",
     "output_type": "stream",
     "text": [
      "+ set +x\n"
     ]
    },
    {
     "name": "stdout",
     "output_type": "stream",
     "text": [
      "Running for asthma_only, Ovary\n",
      "Saving results in /opt/data/projects/asthma-copd/results/twas/spredixcan\n",
      "WARNING - Some GWAS snp zscores are not finite.\n",
      "\n"
     ]
    },
    {
     "name": "stderr",
     "output_type": "stream",
     "text": [
      "+ /opt/data/software/conda_envs/metaxcan/bin/python /opt/data/software/metaxcan/software/SPrediXcan.py --model_db_path /opt/data/data/phenomexcan/prediction_models/mashr/mashr_Ovary.db --covariance /opt/data/data/phenomexcan/prediction_models/mashr/mashr_Ovary.txt.gz --gwas_file /opt/data/projects/asthma-copd/results/final_imputed_gwas/GWAS_Asthma_only_GLM_SNPs_info0.7-harmonized-imputed.txt.gz --separator '\t' --non_effect_allele_column non_effect_allele --effect_allele_column effect_allele --snp_column panel_variant_id --zscore_column zscore --keep_non_rsid --additional_output --model_db_snp_key varID --throw --output_file /opt/data/projects/asthma-copd/results/twas/spredixcan/GWAS_Asthma_only_GLM_SNPs_info0.7-gtex_v8-mashr-Ovary.csv\n",
      "+ set +x\n"
     ]
    },
    {
     "name": "stdout",
     "output_type": "stream",
     "text": [
      "Running for asthma_only, Cells_Cultured_fibroblasts\n",
      "Saving results in /opt/data/projects/asthma-copd/results/twas/spredixcan\n"
     ]
    },
    {
     "name": "stderr",
     "output_type": "stream",
     "text": [
      "+ /opt/data/software/conda_envs/metaxcan/bin/python /opt/data/software/metaxcan/software/SPrediXcan.py --model_db_path /opt/data/data/phenomexcan/prediction_models/mashr/mashr_Cells_Cultured_fibroblasts.db --covariance /opt/data/data/phenomexcan/prediction_models/mashr/mashr_Cells_Cultured_fibroblasts.txt.gz --gwas_file /opt/data/projects/asthma-copd/results/final_imputed_gwas/GWAS_Asthma_only_GLM_SNPs_info0.7-harmonized-imputed.txt.gz --separator '\t' --non_effect_allele_column non_effect_allele --effect_allele_column effect_allele --snp_column panel_variant_id --zscore_column zscore --keep_non_rsid --additional_output --model_db_snp_key varID --throw --output_file /opt/data/projects/asthma-copd/results/twas/spredixcan/GWAS_Asthma_only_GLM_SNPs_info0.7-gtex_v8-mashr-Cells_Cultured_fibroblasts.csv\n"
     ]
    },
    {
     "name": "stdout",
     "output_type": "stream",
     "text": [
      "WARNING - Some GWAS snp zscores are not finite.\n",
      "\n"
     ]
    },
    {
     "name": "stderr",
     "output_type": "stream",
     "text": [
      "+ set +x\n"
     ]
    },
    {
     "name": "stdout",
     "output_type": "stream",
     "text": [
      "Running for asthma_only, Pituitary\n",
      "Saving results in /opt/data/projects/asthma-copd/results/twas/spredixcan\n",
      "WARNING - Some GWAS snp zscores are not finite.\n",
      "\n",
      "Running for asthma_only, Kidney_Cortex\n",
      "Saving results in /opt/data/projects/asthma-copd/results/twas/spredixcan\n",
      "WARNING - Some GWAS snp zscores are not finite.\n",
      "\n",
      "Running for copd_only, Thyroid\n",
      "Saving results in /opt/data/projects/asthma-copd/results/twas/spredixcan\n"
     ]
    },
    {
     "name": "stderr",
     "output_type": "stream",
     "text": [
      "+ /opt/data/software/conda_envs/metaxcan/bin/python /opt/data/software/metaxcan/software/SPrediXcan.py --model_db_path /opt/data/data/phenomexcan/prediction_models/mashr/mashr_Pituitary.db --covariance /opt/data/data/phenomexcan/prediction_models/mashr/mashr_Pituitary.txt.gz --gwas_file /opt/data/projects/asthma-copd/results/final_imputed_gwas/GWAS_Asthma_only_GLM_SNPs_info0.7-harmonized-imputed.txt.gz --separator '\t' --non_effect_allele_column non_effect_allele --effect_allele_column effect_allele --snp_column panel_variant_id --zscore_column zscore --keep_non_rsid --additional_output --model_db_snp_key varID --throw --output_file /opt/data/projects/asthma-copd/results/twas/spredixcan/GWAS_Asthma_only_GLM_SNPs_info0.7-gtex_v8-mashr-Pituitary.csv\n",
      "+ set +x\n",
      "+ /opt/data/software/conda_envs/metaxcan/bin/python /opt/data/software/metaxcan/software/SPrediXcan.py --model_db_path /opt/data/data/phenomexcan/prediction_models/mashr/mashr_Kidney_Cortex.db --covariance /opt/data/data/phenomexcan/prediction_models/mashr/mashr_Kidney_Cortex.txt.gz --gwas_file /opt/data/projects/asthma-copd/results/final_imputed_gwas/GWAS_Asthma_only_GLM_SNPs_info0.7-harmonized-imputed.txt.gz --separator '\t' --non_effect_allele_column non_effect_allele --effect_allele_column effect_allele --snp_column panel_variant_id --zscore_column zscore --keep_non_rsid --additional_output --model_db_snp_key varID --throw --output_file /opt/data/projects/asthma-copd/results/twas/spredixcan/GWAS_Asthma_only_GLM_SNPs_info0.7-gtex_v8-mashr-Kidney_Cortex.csv\n",
      "+ set +x\n",
      "+ /opt/data/software/conda_envs/metaxcan/bin/python /opt/data/software/metaxcan/software/SPrediXcan.py --model_db_path /opt/data/data/phenomexcan/prediction_models/mashr/mashr_Thyroid.db --covariance /opt/data/data/phenomexcan/prediction_models/mashr/mashr_Thyroid.txt.gz --gwas_file /opt/data/projects/asthma-copd/results/final_imputed_gwas/GWAS_COPD_only_GLM_SNPs_info0.7-harmonized-imputed.txt.gz --separator '\t' --non_effect_allele_column non_effect_allele --effect_allele_column effect_allele --snp_column panel_variant_id --zscore_column zscore --keep_non_rsid --additional_output --model_db_snp_key varID --throw --output_file /opt/data/projects/asthma-copd/results/twas/spredixcan/GWAS_COPD_only_GLM_SNPs_info0.7-gtex_v8-mashr-Thyroid.csv\n"
     ]
    },
    {
     "name": "stdout",
     "output_type": "stream",
     "text": [
      "WARNING - Some GWAS snp zscores are not finite.\n",
      "\n"
     ]
    },
    {
     "name": "stderr",
     "output_type": "stream",
     "text": [
      "+ set +x\n"
     ]
    },
    {
     "name": "stdout",
     "output_type": "stream",
     "text": [
      "Running for copd_only, Artery_Aorta\n",
      "Saving results in /opt/data/projects/asthma-copd/results/twas/spredixcan\n",
      "WARNING - Some GWAS snp zscores are not finite.\n",
      "\n",
      "Running for copd_only, Heart_Atrial_Appendage\n",
      "Saving results in /opt/data/projects/asthma-copd/results/twas/spredixcan\n",
      "WARNING - Some GWAS snp zscores are not finite.\n",
      "\n",
      "Running for copd_only, Liver\n",
      "Saving results in /opt/data/projects/asthma-copd/results/twas/spredixcan\n",
      "WARNING - Some GWAS snp zscores are not finite.\n",
      "\n"
     ]
    },
    {
     "name": "stderr",
     "output_type": "stream",
     "text": [
      "+ /opt/data/software/conda_envs/metaxcan/bin/python /opt/data/software/metaxcan/software/SPrediXcan.py --model_db_path /opt/data/data/phenomexcan/prediction_models/mashr/mashr_Artery_Aorta.db --covariance /opt/data/data/phenomexcan/prediction_models/mashr/mashr_Artery_Aorta.txt.gz --gwas_file /opt/data/projects/asthma-copd/results/final_imputed_gwas/GWAS_COPD_only_GLM_SNPs_info0.7-harmonized-imputed.txt.gz --separator '\t' --non_effect_allele_column non_effect_allele --effect_allele_column effect_allele --snp_column panel_variant_id --zscore_column zscore --keep_non_rsid --additional_output --model_db_snp_key varID --throw --output_file /opt/data/projects/asthma-copd/results/twas/spredixcan/GWAS_COPD_only_GLM_SNPs_info0.7-gtex_v8-mashr-Artery_Aorta.csv\n",
      "+ set +x\n",
      "+ /opt/data/software/conda_envs/metaxcan/bin/python /opt/data/software/metaxcan/software/SPrediXcan.py --model_db_path /opt/data/data/phenomexcan/prediction_models/mashr/mashr_Heart_Atrial_Appendage.db --covariance /opt/data/data/phenomexcan/prediction_models/mashr/mashr_Heart_Atrial_Appendage.txt.gz --gwas_file /opt/data/projects/asthma-copd/results/final_imputed_gwas/GWAS_COPD_only_GLM_SNPs_info0.7-harmonized-imputed.txt.gz --separator '\t' --non_effect_allele_column non_effect_allele --effect_allele_column effect_allele --snp_column panel_variant_id --zscore_column zscore --keep_non_rsid --additional_output --model_db_snp_key varID --throw --output_file /opt/data/projects/asthma-copd/results/twas/spredixcan/GWAS_COPD_only_GLM_SNPs_info0.7-gtex_v8-mashr-Heart_Atrial_Appendage.csv\n",
      "+ set +x\n",
      "+ /opt/data/software/conda_envs/metaxcan/bin/python /opt/data/software/metaxcan/software/SPrediXcan.py --model_db_path /opt/data/data/phenomexcan/prediction_models/mashr/mashr_Liver.db --covariance /opt/data/data/phenomexcan/prediction_models/mashr/mashr_Liver.txt.gz --gwas_file /opt/data/projects/asthma-copd/results/final_imputed_gwas/GWAS_COPD_only_GLM_SNPs_info0.7-harmonized-imputed.txt.gz --separator '\t' --non_effect_allele_column non_effect_allele --effect_allele_column effect_allele --snp_column panel_variant_id --zscore_column zscore --keep_non_rsid --additional_output --model_db_snp_key varID --throw --output_file /opt/data/projects/asthma-copd/results/twas/spredixcan/GWAS_COPD_only_GLM_SNPs_info0.7-gtex_v8-mashr-Liver.csv\n",
      "+ set +x\n"
     ]
    },
    {
     "name": "stdout",
     "output_type": "stream",
     "text": [
      "Running for copd_only, Heart_Left_Ventricle\n",
      "Saving results in /opt/data/projects/asthma-copd/results/twas/spredixcan\n",
      "WARNING - Some GWAS snp zscores are not finite.\n",
      "\n",
      "Running for copd_only, Brain_Hippocampus\n",
      "Saving results in /opt/data/projects/asthma-copd/results/twas/spredixcan\n",
      "WARNING - Some GWAS snp zscores are not finite.\n",
      "\n",
      "Running for copd_only, Testis\n",
      "Saving results in /opt/data/projects/asthma-copd/results/twas/spredixcan\n"
     ]
    },
    {
     "name": "stderr",
     "output_type": "stream",
     "text": [
      "+ /opt/data/software/conda_envs/metaxcan/bin/python /opt/data/software/metaxcan/software/SPrediXcan.py --model_db_path /opt/data/data/phenomexcan/prediction_models/mashr/mashr_Heart_Left_Ventricle.db --covariance /opt/data/data/phenomexcan/prediction_models/mashr/mashr_Heart_Left_Ventricle.txt.gz --gwas_file /opt/data/projects/asthma-copd/results/final_imputed_gwas/GWAS_COPD_only_GLM_SNPs_info0.7-harmonized-imputed.txt.gz --separator '\t' --non_effect_allele_column non_effect_allele --effect_allele_column effect_allele --snp_column panel_variant_id --zscore_column zscore --keep_non_rsid --additional_output --model_db_snp_key varID --throw --output_file /opt/data/projects/asthma-copd/results/twas/spredixcan/GWAS_COPD_only_GLM_SNPs_info0.7-gtex_v8-mashr-Heart_Left_Ventricle.csv\n",
      "+ set +x\n",
      "+ /opt/data/software/conda_envs/metaxcan/bin/python /opt/data/software/metaxcan/software/SPrediXcan.py --model_db_path /opt/data/data/phenomexcan/prediction_models/mashr/mashr_Brain_Hippocampus.db --covariance /opt/data/data/phenomexcan/prediction_models/mashr/mashr_Brain_Hippocampus.txt.gz --gwas_file /opt/data/projects/asthma-copd/results/final_imputed_gwas/GWAS_COPD_only_GLM_SNPs_info0.7-harmonized-imputed.txt.gz --separator '\t' --non_effect_allele_column non_effect_allele --effect_allele_column effect_allele --snp_column panel_variant_id --zscore_column zscore --keep_non_rsid --additional_output --model_db_snp_key varID --throw --output_file /opt/data/projects/asthma-copd/results/twas/spredixcan/GWAS_COPD_only_GLM_SNPs_info0.7-gtex_v8-mashr-Brain_Hippocampus.csv\n",
      "+ set +x\n",
      "+ /opt/data/software/conda_envs/metaxcan/bin/python /opt/data/software/metaxcan/software/SPrediXcan.py --model_db_path /opt/data/data/phenomexcan/prediction_models/mashr/mashr_Testis.db --covariance /opt/data/data/phenomexcan/prediction_models/mashr/mashr_Testis.txt.gz --gwas_file /opt/data/projects/asthma-copd/results/final_imputed_gwas/GWAS_COPD_only_GLM_SNPs_info0.7-harmonized-imputed.txt.gz --separator '\t' --non_effect_allele_column non_effect_allele --effect_allele_column effect_allele --snp_column panel_variant_id --zscore_column zscore --keep_non_rsid --additional_output --model_db_snp_key varID --throw --output_file /opt/data/projects/asthma-copd/results/twas/spredixcan/GWAS_COPD_only_GLM_SNPs_info0.7-gtex_v8-mashr-Testis.csv\n",
      "+ set +x\n"
     ]
    },
    {
     "name": "stdout",
     "output_type": "stream",
     "text": [
      "WARNING - Some GWAS snp zscores are not finite.\n",
      "\n",
      "Running for copd_only, Uterus\n",
      "Saving results in /opt/data/projects/asthma-copd/results/twas/spredixcan\n",
      "WARNING - Some GWAS snp zscores are not finite.\n",
      "\n"
     ]
    },
    {
     "name": "stderr",
     "output_type": "stream",
     "text": [
      "+ /opt/data/software/conda_envs/metaxcan/bin/python /opt/data/software/metaxcan/software/SPrediXcan.py --model_db_path /opt/data/data/phenomexcan/prediction_models/mashr/mashr_Uterus.db --covariance /opt/data/data/phenomexcan/prediction_models/mashr/mashr_Uterus.txt.gz --gwas_file /opt/data/projects/asthma-copd/results/final_imputed_gwas/GWAS_COPD_only_GLM_SNPs_info0.7-harmonized-imputed.txt.gz --separator '\t' --non_effect_allele_column non_effect_allele --effect_allele_column effect_allele --snp_column panel_variant_id --zscore_column zscore --keep_non_rsid --additional_output --model_db_snp_key varID --throw --output_file /opt/data/projects/asthma-copd/results/twas/spredixcan/GWAS_COPD_only_GLM_SNPs_info0.7-gtex_v8-mashr-Uterus.csv\n",
      "+ set +x\n"
     ]
    },
    {
     "name": "stdout",
     "output_type": "stream",
     "text": [
      "Running for copd_only, Adipose_Subcutaneous\n",
      "Saving results in /opt/data/projects/asthma-copd/results/twas/spredixcan\n",
      "WARNING - Some GWAS snp zscores are not finite.\n",
      "\n",
      "Running for copd_only, Artery_Tibial\n",
      "Saving results in /opt/data/projects/asthma-copd/results/twas/spredixcan\n",
      "WARNING - Some GWAS snp zscores are not finite.\n",
      "\n",
      "Running for copd_only, Esophagus_Gastroesophageal_Junction\n",
      "Saving results in /opt/data/projects/asthma-copd/results/twas/spredixcan\n",
      "WARNING - Some GWAS snp zscores are not finite.\n",
      "\n",
      "Running for copd_only, Prostate\n",
      "Saving results in /opt/data/projects/asthma-copd/results/twas/spredixcan\n"
     ]
    },
    {
     "name": "stderr",
     "output_type": "stream",
     "text": [
      "+ /opt/data/software/conda_envs/metaxcan/bin/python /opt/data/software/metaxcan/software/SPrediXcan.py --model_db_path /opt/data/data/phenomexcan/prediction_models/mashr/mashr_Adipose_Subcutaneous.db --covariance /opt/data/data/phenomexcan/prediction_models/mashr/mashr_Adipose_Subcutaneous.txt.gz --gwas_file /opt/data/projects/asthma-copd/results/final_imputed_gwas/GWAS_COPD_only_GLM_SNPs_info0.7-harmonized-imputed.txt.gz --separator '\t' --non_effect_allele_column non_effect_allele --effect_allele_column effect_allele --snp_column panel_variant_id --zscore_column zscore --keep_non_rsid --additional_output --model_db_snp_key varID --throw --output_file /opt/data/projects/asthma-copd/results/twas/spredixcan/GWAS_COPD_only_GLM_SNPs_info0.7-gtex_v8-mashr-Adipose_Subcutaneous.csv\n",
      "+ set +x\n",
      "+ /opt/data/software/conda_envs/metaxcan/bin/python /opt/data/software/metaxcan/software/SPrediXcan.py --model_db_path /opt/data/data/phenomexcan/prediction_models/mashr/mashr_Artery_Tibial.db --covariance /opt/data/data/phenomexcan/prediction_models/mashr/mashr_Artery_Tibial.txt.gz --gwas_file /opt/data/projects/asthma-copd/results/final_imputed_gwas/GWAS_COPD_only_GLM_SNPs_info0.7-harmonized-imputed.txt.gz --separator '\t' --non_effect_allele_column non_effect_allele --effect_allele_column effect_allele --snp_column panel_variant_id --zscore_column zscore --keep_non_rsid --additional_output --model_db_snp_key varID --throw --output_file /opt/data/projects/asthma-copd/results/twas/spredixcan/GWAS_COPD_only_GLM_SNPs_info0.7-gtex_v8-mashr-Artery_Tibial.csv\n",
      "+ set +x\n",
      "+ /opt/data/software/conda_envs/metaxcan/bin/python /opt/data/software/metaxcan/software/SPrediXcan.py --model_db_path /opt/data/data/phenomexcan/prediction_models/mashr/mashr_Esophagus_Gastroesophageal_Junction.db --covariance /opt/data/data/phenomexcan/prediction_models/mashr/mashr_Esophagus_Gastroesophageal_Junction.txt.gz --gwas_file /opt/data/projects/asthma-copd/results/final_imputed_gwas/GWAS_COPD_only_GLM_SNPs_info0.7-harmonized-imputed.txt.gz --separator '\t' --non_effect_allele_column non_effect_allele --effect_allele_column effect_allele --snp_column panel_variant_id --zscore_column zscore --keep_non_rsid --additional_output --model_db_snp_key varID --throw --output_file /opt/data/projects/asthma-copd/results/twas/spredixcan/GWAS_COPD_only_GLM_SNPs_info0.7-gtex_v8-mashr-Esophagus_Gastroesophageal_Junction.csv\n",
      "+ set +x\n",
      "+ /opt/data/software/conda_envs/metaxcan/bin/python /opt/data/software/metaxcan/software/SPrediXcan.py --model_db_path /opt/data/data/phenomexcan/prediction_models/mashr/mashr_Prostate.db --covariance /opt/data/data/phenomexcan/prediction_models/mashr/mashr_Prostate.txt.gz --gwas_file /opt/data/projects/asthma-copd/results/final_imputed_gwas/GWAS_COPD_only_GLM_SNPs_info0.7-harmonized-imputed.txt.gz --separator '\t' --non_effect_allele_column non_effect_allele --effect_allele_column effect_allele --snp_column panel_variant_id --zscore_column zscore --keep_non_rsid --additional_output --model_db_snp_key varID --throw --output_file /opt/data/projects/asthma-copd/results/twas/spredixcan/GWAS_COPD_only_GLM_SNPs_info0.7-gtex_v8-mashr-Prostate.csv\n"
     ]
    },
    {
     "name": "stdout",
     "output_type": "stream",
     "text": [
      "WARNING - Some GWAS snp zscores are not finite.\n",
      "\n"
     ]
    },
    {
     "name": "stderr",
     "output_type": "stream",
     "text": [
      "+ set +x\n"
     ]
    },
    {
     "name": "stdout",
     "output_type": "stream",
     "text": [
      "Running for copd_only, Muscle_Skeletal\n",
      "Saving results in /opt/data/projects/asthma-copd/results/twas/spredixcan\n"
     ]
    },
    {
     "name": "stderr",
     "output_type": "stream",
     "text": [
      "+ /opt/data/software/conda_envs/metaxcan/bin/python /opt/data/software/metaxcan/software/SPrediXcan.py --model_db_path /opt/data/data/phenomexcan/prediction_models/mashr/mashr_Muscle_Skeletal.db --covariance /opt/data/data/phenomexcan/prediction_models/mashr/mashr_Muscle_Skeletal.txt.gz --gwas_file /opt/data/projects/asthma-copd/results/final_imputed_gwas/GWAS_COPD_only_GLM_SNPs_info0.7-harmonized-imputed.txt.gz --separator '\t' --non_effect_allele_column non_effect_allele --effect_allele_column effect_allele --snp_column panel_variant_id --zscore_column zscore --keep_non_rsid --additional_output --model_db_snp_key varID --throw --output_file /opt/data/projects/asthma-copd/results/twas/spredixcan/GWAS_COPD_only_GLM_SNPs_info0.7-gtex_v8-mashr-Muscle_Skeletal.csv\n"
     ]
    },
    {
     "name": "stdout",
     "output_type": "stream",
     "text": [
      "WARNING - Some GWAS snp zscores are not finite.\n",
      "\n"
     ]
    },
    {
     "name": "stderr",
     "output_type": "stream",
     "text": [
      "+ set +x\n"
     ]
    },
    {
     "name": "stdout",
     "output_type": "stream",
     "text": [
      "Running for copd_only, Brain_Frontal_Cortex_BA9\n",
      "Saving results in /opt/data/projects/asthma-copd/results/twas/spredixcan\n"
     ]
    },
    {
     "name": "stderr",
     "output_type": "stream",
     "text": [
      "+ /opt/data/software/conda_envs/metaxcan/bin/python /opt/data/software/metaxcan/software/SPrediXcan.py --model_db_path /opt/data/data/phenomexcan/prediction_models/mashr/mashr_Brain_Frontal_Cortex_BA9.db --covariance /opt/data/data/phenomexcan/prediction_models/mashr/mashr_Brain_Frontal_Cortex_BA9.txt.gz --gwas_file /opt/data/projects/asthma-copd/results/final_imputed_gwas/GWAS_COPD_only_GLM_SNPs_info0.7-harmonized-imputed.txt.gz --separator '\t' --non_effect_allele_column non_effect_allele --effect_allele_column effect_allele --snp_column panel_variant_id --zscore_column zscore --keep_non_rsid --additional_output --model_db_snp_key varID --throw --output_file /opt/data/projects/asthma-copd/results/twas/spredixcan/GWAS_COPD_only_GLM_SNPs_info0.7-gtex_v8-mashr-Brain_Frontal_Cortex_BA9.csv\n"
     ]
    },
    {
     "name": "stdout",
     "output_type": "stream",
     "text": [
      "WARNING - Some GWAS snp zscores are not finite.\n",
      "\n"
     ]
    },
    {
     "name": "stderr",
     "output_type": "stream",
     "text": [
      "+ set +x\n"
     ]
    },
    {
     "name": "stdout",
     "output_type": "stream",
     "text": [
      "Running for copd_only, Whole_Blood\n",
      "Saving results in /opt/data/projects/asthma-copd/results/twas/spredixcan\n",
      "WARNING - Some GWAS snp zscores are not finite.\n",
      "\n",
      "Running for copd_only, Artery_Coronary\n",
      "Saving results in /opt/data/projects/asthma-copd/results/twas/spredixcan\n"
     ]
    },
    {
     "name": "stderr",
     "output_type": "stream",
     "text": [
      "+ /opt/data/software/conda_envs/metaxcan/bin/python /opt/data/software/metaxcan/software/SPrediXcan.py --model_db_path /opt/data/data/phenomexcan/prediction_models/mashr/mashr_Whole_Blood.db --covariance /opt/data/data/phenomexcan/prediction_models/mashr/mashr_Whole_Blood.txt.gz --gwas_file /opt/data/projects/asthma-copd/results/final_imputed_gwas/GWAS_COPD_only_GLM_SNPs_info0.7-harmonized-imputed.txt.gz --separator '\t' --non_effect_allele_column non_effect_allele --effect_allele_column effect_allele --snp_column panel_variant_id --zscore_column zscore --keep_non_rsid --additional_output --model_db_snp_key varID --throw --output_file /opt/data/projects/asthma-copd/results/twas/spredixcan/GWAS_COPD_only_GLM_SNPs_info0.7-gtex_v8-mashr-Whole_Blood.csv\n",
      "+ set +x\n",
      "+ /opt/data/software/conda_envs/metaxcan/bin/python /opt/data/software/metaxcan/software/SPrediXcan.py --model_db_path /opt/data/data/phenomexcan/prediction_models/mashr/mashr_Artery_Coronary.db --covariance /opt/data/data/phenomexcan/prediction_models/mashr/mashr_Artery_Coronary.txt.gz --gwas_file /opt/data/projects/asthma-copd/results/final_imputed_gwas/GWAS_COPD_only_GLM_SNPs_info0.7-harmonized-imputed.txt.gz --separator '\t' --non_effect_allele_column non_effect_allele --effect_allele_column effect_allele --snp_column panel_variant_id --zscore_column zscore --keep_non_rsid --additional_output --model_db_snp_key varID --throw --output_file /opt/data/projects/asthma-copd/results/twas/spredixcan/GWAS_COPD_only_GLM_SNPs_info0.7-gtex_v8-mashr-Artery_Coronary.csv\n"
     ]
    },
    {
     "name": "stdout",
     "output_type": "stream",
     "text": [
      "WARNING - Some GWAS snp zscores are not finite.\n",
      "\n"
     ]
    },
    {
     "name": "stderr",
     "output_type": "stream",
     "text": [
      "+ set +x\n"
     ]
    },
    {
     "name": "stdout",
     "output_type": "stream",
     "text": [
      "Running for copd_only, Brain_Cerebellum\n",
      "Saving results in /opt/data/projects/asthma-copd/results/twas/spredixcan\n",
      "WARNING - Some GWAS snp zscores are not finite.\n",
      "\n",
      "Running for copd_only, Small_Intestine_Terminal_Ileum\n",
      "Saving results in /opt/data/projects/asthma-copd/results/twas/spredixcan\n",
      "WARNING - Some GWAS snp zscores are not finite.\n",
      "\n",
      "Running for copd_only, Stomach\n",
      "Saving results in /opt/data/projects/asthma-copd/results/twas/spredixcan\n"
     ]
    },
    {
     "name": "stderr",
     "output_type": "stream",
     "text": [
      "+ /opt/data/software/conda_envs/metaxcan/bin/python /opt/data/software/metaxcan/software/SPrediXcan.py --model_db_path /opt/data/data/phenomexcan/prediction_models/mashr/mashr_Brain_Cerebellum.db --covariance /opt/data/data/phenomexcan/prediction_models/mashr/mashr_Brain_Cerebellum.txt.gz --gwas_file /opt/data/projects/asthma-copd/results/final_imputed_gwas/GWAS_COPD_only_GLM_SNPs_info0.7-harmonized-imputed.txt.gz --separator '\t' --non_effect_allele_column non_effect_allele --effect_allele_column effect_allele --snp_column panel_variant_id --zscore_column zscore --keep_non_rsid --additional_output --model_db_snp_key varID --throw --output_file /opt/data/projects/asthma-copd/results/twas/spredixcan/GWAS_COPD_only_GLM_SNPs_info0.7-gtex_v8-mashr-Brain_Cerebellum.csv\n",
      "+ set +x\n",
      "+ /opt/data/software/conda_envs/metaxcan/bin/python /opt/data/software/metaxcan/software/SPrediXcan.py --model_db_path /opt/data/data/phenomexcan/prediction_models/mashr/mashr_Small_Intestine_Terminal_Ileum.db --covariance /opt/data/data/phenomexcan/prediction_models/mashr/mashr_Small_Intestine_Terminal_Ileum.txt.gz --gwas_file /opt/data/projects/asthma-copd/results/final_imputed_gwas/GWAS_COPD_only_GLM_SNPs_info0.7-harmonized-imputed.txt.gz --separator '\t' --non_effect_allele_column non_effect_allele --effect_allele_column effect_allele --snp_column panel_variant_id --zscore_column zscore --keep_non_rsid --additional_output --model_db_snp_key varID --throw --output_file /opt/data/projects/asthma-copd/results/twas/spredixcan/GWAS_COPD_only_GLM_SNPs_info0.7-gtex_v8-mashr-Small_Intestine_Terminal_Ileum.csv\n",
      "+ set +x\n",
      "+ /opt/data/software/conda_envs/metaxcan/bin/python /opt/data/software/metaxcan/software/SPrediXcan.py --model_db_path /opt/data/data/phenomexcan/prediction_models/mashr/mashr_Stomach.db --covariance /opt/data/data/phenomexcan/prediction_models/mashr/mashr_Stomach.txt.gz --gwas_file /opt/data/projects/asthma-copd/results/final_imputed_gwas/GWAS_COPD_only_GLM_SNPs_info0.7-harmonized-imputed.txt.gz --separator '\t' --non_effect_allele_column non_effect_allele --effect_allele_column effect_allele --snp_column panel_variant_id --zscore_column zscore --keep_non_rsid --additional_output --model_db_snp_key varID --throw --output_file /opt/data/projects/asthma-copd/results/twas/spredixcan/GWAS_COPD_only_GLM_SNPs_info0.7-gtex_v8-mashr-Stomach.csv\n"
     ]
    },
    {
     "name": "stdout",
     "output_type": "stream",
     "text": [
      "WARNING - Some GWAS snp zscores are not finite.\n",
      "\n"
     ]
    },
    {
     "name": "stderr",
     "output_type": "stream",
     "text": [
      "+ set +x\n"
     ]
    },
    {
     "name": "stdout",
     "output_type": "stream",
     "text": [
      "Running for copd_only, Brain_Amygdala\n",
      "Saving results in /opt/data/projects/asthma-copd/results/twas/spredixcan\n",
      "WARNING - Some GWAS snp zscores are not finite.\n",
      "\n"
     ]
    },
    {
     "name": "stderr",
     "output_type": "stream",
     "text": [
      "+ /opt/data/software/conda_envs/metaxcan/bin/python /opt/data/software/metaxcan/software/SPrediXcan.py --model_db_path /opt/data/data/phenomexcan/prediction_models/mashr/mashr_Brain_Amygdala.db --covariance /opt/data/data/phenomexcan/prediction_models/mashr/mashr_Brain_Amygdala.txt.gz --gwas_file /opt/data/projects/asthma-copd/results/final_imputed_gwas/GWAS_COPD_only_GLM_SNPs_info0.7-harmonized-imputed.txt.gz --separator '\t' --non_effect_allele_column non_effect_allele --effect_allele_column effect_allele --snp_column panel_variant_id --zscore_column zscore --keep_non_rsid --additional_output --model_db_snp_key varID --throw --output_file /opt/data/projects/asthma-copd/results/twas/spredixcan/GWAS_COPD_only_GLM_SNPs_info0.7-gtex_v8-mashr-Brain_Amygdala.csv\n",
      "+ set +x\n",
      "+ /opt/data/software/conda_envs/metaxcan/bin/python /opt/data/software/metaxcan/software/SPrediXcan.py --model_db_path /opt/data/data/phenomexcan/prediction_models/mashr/mashr_Minor_Salivary_Gland.db --covariance /opt/data/data/phenomexcan/prediction_models/mashr/mashr_Minor_Salivary_Gland.txt.gz --gwas_file /opt/data/projects/asthma-copd/results/final_imputed_gwas/GWAS_COPD_only_GLM_SNPs_info0.7-harmonized-imputed.txt.gz --separator '\t' --non_effect_allele_column non_effect_allele --effect_allele_column effect_allele --snp_column panel_variant_id --zscore_column zscore --keep_non_rsid --additional_output --model_db_snp_key varID --throw --output_file /opt/data/projects/asthma-copd/results/twas/spredixcan/GWAS_COPD_only_GLM_SNPs_info0.7-gtex_v8-mashr-Minor_Salivary_Gland.csv\n",
      "+ set +x\n",
      "+ /opt/data/software/conda_envs/metaxcan/bin/python /opt/data/software/metaxcan/software/SPrediXcan.py --model_db_path /opt/data/data/phenomexcan/prediction_models/mashr/mashr_Brain_Putamen_basal_ganglia.db --covariance /opt/data/data/phenomexcan/prediction_models/mashr/mashr_Brain_Putamen_basal_ganglia.txt.gz --gwas_file /opt/data/projects/asthma-copd/results/final_imputed_gwas/GWAS_COPD_only_GLM_SNPs_info0.7-harmonized-imputed.txt.gz --separator '\t' --non_effect_allele_column non_effect_allele --effect_allele_column effect_allele --snp_column panel_variant_id --zscore_column zscore --keep_non_rsid --additional_output --model_db_snp_key varID --throw --output_file /opt/data/projects/asthma-copd/results/twas/spredixcan/GWAS_COPD_only_GLM_SNPs_info0.7-gtex_v8-mashr-Brain_Putamen_basal_ganglia.csv\n"
     ]
    },
    {
     "name": "stdout",
     "output_type": "stream",
     "text": [
      "Running for copd_only, Minor_Salivary_Gland\n",
      "Saving results in /opt/data/projects/asthma-copd/results/twas/spredixcan\n",
      "WARNING - Some GWAS snp zscores are not finite.\n",
      "\n",
      "Running for copd_only, Brain_Putamen_basal_ganglia\n",
      "Saving results in /opt/data/projects/asthma-copd/results/twas/spredixcan\n",
      "WARNING - Some GWAS snp zscores are not finite.\n",
      "\n"
     ]
    },
    {
     "name": "stderr",
     "output_type": "stream",
     "text": [
      "+ set +x\n"
     ]
    },
    {
     "name": "stdout",
     "output_type": "stream",
     "text": [
      "Running for copd_only, Breast_Mammary_Tissue\n",
      "Saving results in /opt/data/projects/asthma-copd/results/twas/spredixcan\n"
     ]
    },
    {
     "name": "stderr",
     "output_type": "stream",
     "text": [
      "+ /opt/data/software/conda_envs/metaxcan/bin/python /opt/data/software/metaxcan/software/SPrediXcan.py --model_db_path /opt/data/data/phenomexcan/prediction_models/mashr/mashr_Breast_Mammary_Tissue.db --covariance /opt/data/data/phenomexcan/prediction_models/mashr/mashr_Breast_Mammary_Tissue.txt.gz --gwas_file /opt/data/projects/asthma-copd/results/final_imputed_gwas/GWAS_COPD_only_GLM_SNPs_info0.7-harmonized-imputed.txt.gz --separator '\t' --non_effect_allele_column non_effect_allele --effect_allele_column effect_allele --snp_column panel_variant_id --zscore_column zscore --keep_non_rsid --additional_output --model_db_snp_key varID --throw --output_file /opt/data/projects/asthma-copd/results/twas/spredixcan/GWAS_COPD_only_GLM_SNPs_info0.7-gtex_v8-mashr-Breast_Mammary_Tissue.csv\n",
      "+ set +x\n"
     ]
    },
    {
     "name": "stdout",
     "output_type": "stream",
     "text": [
      "WARNING - Some GWAS snp zscores are not finite.\n",
      "\n",
      "Running for copd_only, Adipose_Visceral_Omentum\n",
      "Saving results in /opt/data/projects/asthma-copd/results/twas/spredixcan\n"
     ]
    },
    {
     "name": "stderr",
     "output_type": "stream",
     "text": [
      "+ /opt/data/software/conda_envs/metaxcan/bin/python /opt/data/software/metaxcan/software/SPrediXcan.py --model_db_path /opt/data/data/phenomexcan/prediction_models/mashr/mashr_Adipose_Visceral_Omentum.db --covariance /opt/data/data/phenomexcan/prediction_models/mashr/mashr_Adipose_Visceral_Omentum.txt.gz --gwas_file /opt/data/projects/asthma-copd/results/final_imputed_gwas/GWAS_COPD_only_GLM_SNPs_info0.7-harmonized-imputed.txt.gz --separator '\t' --non_effect_allele_column non_effect_allele --effect_allele_column effect_allele --snp_column panel_variant_id --zscore_column zscore --keep_non_rsid --additional_output --model_db_snp_key varID --throw --output_file /opt/data/projects/asthma-copd/results/twas/spredixcan/GWAS_COPD_only_GLM_SNPs_info0.7-gtex_v8-mashr-Adipose_Visceral_Omentum.csv\n",
      "+ set +x\n"
     ]
    },
    {
     "name": "stdout",
     "output_type": "stream",
     "text": [
      "WARNING - Some GWAS snp zscores are not finite.\n",
      "\n",
      "Running for copd_only, Brain_Hypothalamus\n",
      "Saving results in /opt/data/projects/asthma-copd/results/twas/spredixcan\n",
      "WARNING - Some GWAS snp zscores are not finite.\n",
      "\n"
     ]
    },
    {
     "name": "stderr",
     "output_type": "stream",
     "text": [
      "+ /opt/data/software/conda_envs/metaxcan/bin/python /opt/data/software/metaxcan/software/SPrediXcan.py --model_db_path /opt/data/data/phenomexcan/prediction_models/mashr/mashr_Brain_Hypothalamus.db --covariance /opt/data/data/phenomexcan/prediction_models/mashr/mashr_Brain_Hypothalamus.txt.gz --gwas_file /opt/data/projects/asthma-copd/results/final_imputed_gwas/GWAS_COPD_only_GLM_SNPs_info0.7-harmonized-imputed.txt.gz --separator '\t' --non_effect_allele_column non_effect_allele --effect_allele_column effect_allele --snp_column panel_variant_id --zscore_column zscore --keep_non_rsid --additional_output --model_db_snp_key varID --throw --output_file /opt/data/projects/asthma-copd/results/twas/spredixcan/GWAS_COPD_only_GLM_SNPs_info0.7-gtex_v8-mashr-Brain_Hypothalamus.csv\n",
      "+ set +x\n",
      "+ /opt/data/software/conda_envs/metaxcan/bin/python /opt/data/software/metaxcan/software/SPrediXcan.py --model_db_path /opt/data/data/phenomexcan/prediction_models/mashr/mashr_Brain_Cerebellar_Hemisphere.db --covariance /opt/data/data/phenomexcan/prediction_models/mashr/mashr_Brain_Cerebellar_Hemisphere.txt.gz --gwas_file /opt/data/projects/asthma-copd/results/final_imputed_gwas/GWAS_COPD_only_GLM_SNPs_info0.7-harmonized-imputed.txt.gz --separator '\t' --non_effect_allele_column non_effect_allele --effect_allele_column effect_allele --snp_column panel_variant_id --zscore_column zscore --keep_non_rsid --additional_output --model_db_snp_key varID --throw --output_file /opt/data/projects/asthma-copd/results/twas/spredixcan/GWAS_COPD_only_GLM_SNPs_info0.7-gtex_v8-mashr-Brain_Cerebellar_Hemisphere.csv\n",
      "+ set +x\n",
      "+ /opt/data/software/conda_envs/metaxcan/bin/python /opt/data/software/metaxcan/software/SPrediXcan.py --model_db_path /opt/data/data/phenomexcan/prediction_models/mashr/mashr_Brain_Anterior_cingulate_cortex_BA24.db --covariance /opt/data/data/phenomexcan/prediction_models/mashr/mashr_Brain_Anterior_cingulate_cortex_BA24.txt.gz --gwas_file /opt/data/projects/asthma-copd/results/final_imputed_gwas/GWAS_COPD_only_GLM_SNPs_info0.7-harmonized-imputed.txt.gz --separator '\t' --non_effect_allele_column non_effect_allele --effect_allele_column effect_allele --snp_column panel_variant_id --zscore_column zscore --keep_non_rsid --additional_output --model_db_snp_key varID --throw --output_file /opt/data/projects/asthma-copd/results/twas/spredixcan/GWAS_COPD_only_GLM_SNPs_info0.7-gtex_v8-mashr-Brain_Anterior_cingulate_cortex_BA24.csv\n"
     ]
    },
    {
     "name": "stdout",
     "output_type": "stream",
     "text": [
      "Running for copd_only, Brain_Cerebellar_Hemisphere\n",
      "Saving results in /opt/data/projects/asthma-copd/results/twas/spredixcan\n",
      "WARNING - Some GWAS snp zscores are not finite.\n",
      "\n",
      "Running for copd_only, Brain_Anterior_cingulate_cortex_BA24\n",
      "Saving results in /opt/data/projects/asthma-copd/results/twas/spredixcan\n",
      "WARNING - Some GWAS snp zscores are not finite.\n",
      "\n"
     ]
    },
    {
     "name": "stderr",
     "output_type": "stream",
     "text": [
      "+ set +x\n"
     ]
    },
    {
     "name": "stdout",
     "output_type": "stream",
     "text": [
      "Running for copd_only, Brain_Cortex\n",
      "Saving results in /opt/data/projects/asthma-copd/results/twas/spredixcan\n"
     ]
    },
    {
     "name": "stderr",
     "output_type": "stream",
     "text": [
      "+ /opt/data/software/conda_envs/metaxcan/bin/python /opt/data/software/metaxcan/software/SPrediXcan.py --model_db_path /opt/data/data/phenomexcan/prediction_models/mashr/mashr_Brain_Cortex.db --covariance /opt/data/data/phenomexcan/prediction_models/mashr/mashr_Brain_Cortex.txt.gz --gwas_file /opt/data/projects/asthma-copd/results/final_imputed_gwas/GWAS_COPD_only_GLM_SNPs_info0.7-harmonized-imputed.txt.gz --separator '\t' --non_effect_allele_column non_effect_allele --effect_allele_column effect_allele --snp_column panel_variant_id --zscore_column zscore --keep_non_rsid --additional_output --model_db_snp_key varID --throw --output_file /opt/data/projects/asthma-copd/results/twas/spredixcan/GWAS_COPD_only_GLM_SNPs_info0.7-gtex_v8-mashr-Brain_Cortex.csv\n"
     ]
    },
    {
     "name": "stdout",
     "output_type": "stream",
     "text": [
      "WARNING - Some GWAS snp zscores are not finite.\n",
      "\n"
     ]
    },
    {
     "name": "stderr",
     "output_type": "stream",
     "text": [
      "+ set +x\n"
     ]
    },
    {
     "name": "stdout",
     "output_type": "stream",
     "text": [
      "Running for copd_only, Nerve_Tibial\n",
      "Saving results in /opt/data/projects/asthma-copd/results/twas/spredixcan\n"
     ]
    },
    {
     "name": "stderr",
     "output_type": "stream",
     "text": [
      "+ /opt/data/software/conda_envs/metaxcan/bin/python /opt/data/software/metaxcan/software/SPrediXcan.py --model_db_path /opt/data/data/phenomexcan/prediction_models/mashr/mashr_Nerve_Tibial.db --covariance /opt/data/data/phenomexcan/prediction_models/mashr/mashr_Nerve_Tibial.txt.gz --gwas_file /opt/data/projects/asthma-copd/results/final_imputed_gwas/GWAS_COPD_only_GLM_SNPs_info0.7-harmonized-imputed.txt.gz --separator '\t' --non_effect_allele_column non_effect_allele --effect_allele_column effect_allele --snp_column panel_variant_id --zscore_column zscore --keep_non_rsid --additional_output --model_db_snp_key varID --throw --output_file /opt/data/projects/asthma-copd/results/twas/spredixcan/GWAS_COPD_only_GLM_SNPs_info0.7-gtex_v8-mashr-Nerve_Tibial.csv\n"
     ]
    },
    {
     "name": "stdout",
     "output_type": "stream",
     "text": [
      "WARNING - Some GWAS snp zscores are not finite.\n",
      "\n"
     ]
    },
    {
     "name": "stderr",
     "output_type": "stream",
     "text": [
      "+ set +x\n"
     ]
    },
    {
     "name": "stdout",
     "output_type": "stream",
     "text": [
      "Running for copd_only, Pancreas\n",
      "Saving results in /opt/data/projects/asthma-copd/results/twas/spredixcan\n",
      "WARNING - Some GWAS snp zscores are not finite.\n",
      "\n",
      "Running for copd_only, Esophagus_Muscularis\n",
      "Saving results in /opt/data/projects/asthma-copd/results/twas/spredixcan\n"
     ]
    },
    {
     "name": "stderr",
     "output_type": "stream",
     "text": [
      "+ /opt/data/software/conda_envs/metaxcan/bin/python /opt/data/software/metaxcan/software/SPrediXcan.py --model_db_path /opt/data/data/phenomexcan/prediction_models/mashr/mashr_Pancreas.db --covariance /opt/data/data/phenomexcan/prediction_models/mashr/mashr_Pancreas.txt.gz --gwas_file /opt/data/projects/asthma-copd/results/final_imputed_gwas/GWAS_COPD_only_GLM_SNPs_info0.7-harmonized-imputed.txt.gz --separator '\t' --non_effect_allele_column non_effect_allele --effect_allele_column effect_allele --snp_column panel_variant_id --zscore_column zscore --keep_non_rsid --additional_output --model_db_snp_key varID --throw --output_file /opt/data/projects/asthma-copd/results/twas/spredixcan/GWAS_COPD_only_GLM_SNPs_info0.7-gtex_v8-mashr-Pancreas.csv\n",
      "+ set +x\n",
      "+ /opt/data/software/conda_envs/metaxcan/bin/python /opt/data/software/metaxcan/software/SPrediXcan.py --model_db_path /opt/data/data/phenomexcan/prediction_models/mashr/mashr_Esophagus_Muscularis.db --covariance /opt/data/data/phenomexcan/prediction_models/mashr/mashr_Esophagus_Muscularis.txt.gz --gwas_file /opt/data/projects/asthma-copd/results/final_imputed_gwas/GWAS_COPD_only_GLM_SNPs_info0.7-harmonized-imputed.txt.gz --separator '\t' --non_effect_allele_column non_effect_allele --effect_allele_column effect_allele --snp_column panel_variant_id --zscore_column zscore --keep_non_rsid --additional_output --model_db_snp_key varID --throw --output_file /opt/data/projects/asthma-copd/results/twas/spredixcan/GWAS_COPD_only_GLM_SNPs_info0.7-gtex_v8-mashr-Esophagus_Muscularis.csv\n"
     ]
    },
    {
     "name": "stdout",
     "output_type": "stream",
     "text": [
      "WARNING - Some GWAS snp zscores are not finite.\n",
      "\n"
     ]
    },
    {
     "name": "stderr",
     "output_type": "stream",
     "text": [
      "+ set +x\n"
     ]
    },
    {
     "name": "stdout",
     "output_type": "stream",
     "text": [
      "Running for copd_only, Brain_Substantia_nigra\n",
      "Saving results in /opt/data/projects/asthma-copd/results/twas/spredixcan\n"
     ]
    },
    {
     "name": "stderr",
     "output_type": "stream",
     "text": [
      "+ /opt/data/software/conda_envs/metaxcan/bin/python /opt/data/software/metaxcan/software/SPrediXcan.py --model_db_path /opt/data/data/phenomexcan/prediction_models/mashr/mashr_Brain_Substantia_nigra.db --covariance /opt/data/data/phenomexcan/prediction_models/mashr/mashr_Brain_Substantia_nigra.txt.gz --gwas_file /opt/data/projects/asthma-copd/results/final_imputed_gwas/GWAS_COPD_only_GLM_SNPs_info0.7-harmonized-imputed.txt.gz --separator '\t' --non_effect_allele_column non_effect_allele --effect_allele_column effect_allele --snp_column panel_variant_id --zscore_column zscore --keep_non_rsid --additional_output --model_db_snp_key varID --throw --output_file /opt/data/projects/asthma-copd/results/twas/spredixcan/GWAS_COPD_only_GLM_SNPs_info0.7-gtex_v8-mashr-Brain_Substantia_nigra.csv\n"
     ]
    },
    {
     "name": "stdout",
     "output_type": "stream",
     "text": [
      "WARNING - Some GWAS snp zscores are not finite.\n",
      "\n"
     ]
    },
    {
     "name": "stderr",
     "output_type": "stream",
     "text": [
      "+ set +x\n"
     ]
    },
    {
     "name": "stdout",
     "output_type": "stream",
     "text": [
      "Running for copd_only, Skin_Sun_Exposed_Lower_leg\n",
      "Saving results in /opt/data/projects/asthma-copd/results/twas/spredixcan\n"
     ]
    },
    {
     "name": "stderr",
     "output_type": "stream",
     "text": [
      "+ /opt/data/software/conda_envs/metaxcan/bin/python /opt/data/software/metaxcan/software/SPrediXcan.py --model_db_path /opt/data/data/phenomexcan/prediction_models/mashr/mashr_Skin_Sun_Exposed_Lower_leg.db --covariance /opt/data/data/phenomexcan/prediction_models/mashr/mashr_Skin_Sun_Exposed_Lower_leg.txt.gz --gwas_file /opt/data/projects/asthma-copd/results/final_imputed_gwas/GWAS_COPD_only_GLM_SNPs_info0.7-harmonized-imputed.txt.gz --separator '\t' --non_effect_allele_column non_effect_allele --effect_allele_column effect_allele --snp_column panel_variant_id --zscore_column zscore --keep_non_rsid --additional_output --model_db_snp_key varID --throw --output_file /opt/data/projects/asthma-copd/results/twas/spredixcan/GWAS_COPD_only_GLM_SNPs_info0.7-gtex_v8-mashr-Skin_Sun_Exposed_Lower_leg.csv\n"
     ]
    },
    {
     "name": "stdout",
     "output_type": "stream",
     "text": [
      "WARNING - Some GWAS snp zscores are not finite.\n",
      "\n"
     ]
    },
    {
     "name": "stderr",
     "output_type": "stream",
     "text": [
      "+ set +x\n"
     ]
    },
    {
     "name": "stdout",
     "output_type": "stream",
     "text": [
      "Running for copd_only, Skin_Not_Sun_Exposed_Suprapubic\n",
      "Saving results in /opt/data/projects/asthma-copd/results/twas/spredixcan\n"
     ]
    },
    {
     "name": "stderr",
     "output_type": "stream",
     "text": [
      "+ /opt/data/software/conda_envs/metaxcan/bin/python /opt/data/software/metaxcan/software/SPrediXcan.py --model_db_path /opt/data/data/phenomexcan/prediction_models/mashr/mashr_Skin_Not_Sun_Exposed_Suprapubic.db --covariance /opt/data/data/phenomexcan/prediction_models/mashr/mashr_Skin_Not_Sun_Exposed_Suprapubic.txt.gz --gwas_file /opt/data/projects/asthma-copd/results/final_imputed_gwas/GWAS_COPD_only_GLM_SNPs_info0.7-harmonized-imputed.txt.gz --separator '\t' --non_effect_allele_column non_effect_allele --effect_allele_column effect_allele --snp_column panel_variant_id --zscore_column zscore --keep_non_rsid --additional_output --model_db_snp_key varID --throw --output_file /opt/data/projects/asthma-copd/results/twas/spredixcan/GWAS_COPD_only_GLM_SNPs_info0.7-gtex_v8-mashr-Skin_Not_Sun_Exposed_Suprapubic.csv\n"
     ]
    },
    {
     "name": "stdout",
     "output_type": "stream",
     "text": [
      "WARNING - Some GWAS snp zscores are not finite.\n",
      "\n"
     ]
    },
    {
     "name": "stderr",
     "output_type": "stream",
     "text": [
      "+ set +x\n"
     ]
    },
    {
     "name": "stdout",
     "output_type": "stream",
     "text": [
      "Running for copd_only, Brain_Spinal_cord_cervical_c-1\n",
      "Saving results in /opt/data/projects/asthma-copd/results/twas/spredixcan\n",
      "WARNING - Some GWAS snp zscores are not finite.\n",
      "\n"
     ]
    },
    {
     "name": "stderr",
     "output_type": "stream",
     "text": [
      "+ /opt/data/software/conda_envs/metaxcan/bin/python /opt/data/software/metaxcan/software/SPrediXcan.py --model_db_path /opt/data/data/phenomexcan/prediction_models/mashr/mashr_Brain_Spinal_cord_cervical_c-1.db --covariance /opt/data/data/phenomexcan/prediction_models/mashr/mashr_Brain_Spinal_cord_cervical_c-1.txt.gz --gwas_file /opt/data/projects/asthma-copd/results/final_imputed_gwas/GWAS_COPD_only_GLM_SNPs_info0.7-harmonized-imputed.txt.gz --separator '\t' --non_effect_allele_column non_effect_allele --effect_allele_column effect_allele --snp_column panel_variant_id --zscore_column zscore --keep_non_rsid --additional_output --model_db_snp_key varID --throw --output_file /opt/data/projects/asthma-copd/results/twas/spredixcan/GWAS_COPD_only_GLM_SNPs_info0.7-gtex_v8-mashr-Brain_Spinal_cord_cervical_c-1.csv\n",
      "+ set +x\n",
      "+ /opt/data/software/conda_envs/metaxcan/bin/python /opt/data/software/metaxcan/software/SPrediXcan.py --model_db_path /opt/data/data/phenomexcan/prediction_models/mashr/mashr_Spleen.db --covariance /opt/data/data/phenomexcan/prediction_models/mashr/mashr_Spleen.txt.gz --gwas_file /opt/data/projects/asthma-copd/results/final_imputed_gwas/GWAS_COPD_only_GLM_SNPs_info0.7-harmonized-imputed.txt.gz --separator '\t' --non_effect_allele_column non_effect_allele --effect_allele_column effect_allele --snp_column panel_variant_id --zscore_column zscore --keep_non_rsid --additional_output --model_db_snp_key varID --throw --output_file /opt/data/projects/asthma-copd/results/twas/spredixcan/GWAS_COPD_only_GLM_SNPs_info0.7-gtex_v8-mashr-Spleen.csv\n",
      "+ set +x\n",
      "+ /opt/data/software/conda_envs/metaxcan/bin/python /opt/data/software/metaxcan/software/SPrediXcan.py --model_db_path /opt/data/data/phenomexcan/prediction_models/mashr/mashr_Cells_EBV-transformed_lymphocytes.db --covariance /opt/data/data/phenomexcan/prediction_models/mashr/mashr_Cells_EBV-transformed_lymphocytes.txt.gz --gwas_file /opt/data/projects/asthma-copd/results/final_imputed_gwas/GWAS_COPD_only_GLM_SNPs_info0.7-harmonized-imputed.txt.gz --separator '\t' --non_effect_allele_column non_effect_allele --effect_allele_column effect_allele --snp_column panel_variant_id --zscore_column zscore --keep_non_rsid --additional_output --model_db_snp_key varID --throw --output_file /opt/data/projects/asthma-copd/results/twas/spredixcan/GWAS_COPD_only_GLM_SNPs_info0.7-gtex_v8-mashr-Cells_EBV-transformed_lymphocytes.csv\n",
      "+ set +x\n",
      "+ /opt/data/software/conda_envs/metaxcan/bin/python /opt/data/software/metaxcan/software/SPrediXcan.py --model_db_path /opt/data/data/phenomexcan/prediction_models/mashr/mashr_Vagina.db --covariance /opt/data/data/phenomexcan/prediction_models/mashr/mashr_Vagina.txt.gz --gwas_file /opt/data/projects/asthma-copd/results/final_imputed_gwas/GWAS_COPD_only_GLM_SNPs_info0.7-harmonized-imputed.txt.gz --separator '\t' --non_effect_allele_column non_effect_allele --effect_allele_column effect_allele --snp_column panel_variant_id --zscore_column zscore --keep_non_rsid --additional_output --model_db_snp_key varID --throw --output_file /opt/data/projects/asthma-copd/results/twas/spredixcan/GWAS_COPD_only_GLM_SNPs_info0.7-gtex_v8-mashr-Vagina.csv\n",
      "+ set +x\n",
      "+ /opt/data/software/conda_envs/metaxcan/bin/python /opt/data/software/metaxcan/software/SPrediXcan.py --model_db_path /opt/data/data/phenomexcan/prediction_models/mashr/mashr_Colon_Sigmoid.db --covariance /opt/data/data/phenomexcan/prediction_models/mashr/mashr_Colon_Sigmoid.txt.gz --gwas_file /opt/data/projects/asthma-copd/results/final_imputed_gwas/GWAS_COPD_only_GLM_SNPs_info0.7-harmonized-imputed.txt.gz --separator '\t' --non_effect_allele_column non_effect_allele --effect_allele_column effect_allele --snp_column panel_variant_id --zscore_column zscore --keep_non_rsid --additional_output --model_db_snp_key varID --throw --output_file /opt/data/projects/asthma-copd/results/twas/spredixcan/GWAS_COPD_only_GLM_SNPs_info0.7-gtex_v8-mashr-Colon_Sigmoid.csv\n"
     ]
    },
    {
     "name": "stdout",
     "output_type": "stream",
     "text": [
      "Running for copd_only, Spleen\n",
      "Saving results in /opt/data/projects/asthma-copd/results/twas/spredixcan\n",
      "WARNING - Some GWAS snp zscores are not finite.\n",
      "\n",
      "Running for copd_only, Cells_EBV-transformed_lymphocytes\n",
      "Saving results in /opt/data/projects/asthma-copd/results/twas/spredixcan\n",
      "WARNING - Some GWAS snp zscores are not finite.\n",
      "\n",
      "Running for copd_only, Vagina\n",
      "Saving results in /opt/data/projects/asthma-copd/results/twas/spredixcan\n",
      "WARNING - Some GWAS snp zscores are not finite.\n",
      "\n",
      "Running for copd_only, Colon_Sigmoid\n",
      "Saving results in /opt/data/projects/asthma-copd/results/twas/spredixcan\n",
      "WARNING - Some GWAS snp zscores are not finite.\n",
      "\n"
     ]
    },
    {
     "name": "stderr",
     "output_type": "stream",
     "text": [
      "+ set +x\n"
     ]
    },
    {
     "name": "stdout",
     "output_type": "stream",
     "text": [
      "Running for copd_only, Brain_Caudate_basal_ganglia\n",
      "Saving results in /opt/data/projects/asthma-copd/results/twas/spredixcan\n",
      "WARNING - Some GWAS snp zscores are not finite.\n",
      "\n"
     ]
    },
    {
     "name": "stderr",
     "output_type": "stream",
     "text": [
      "+ /opt/data/software/conda_envs/metaxcan/bin/python /opt/data/software/metaxcan/software/SPrediXcan.py --model_db_path /opt/data/data/phenomexcan/prediction_models/mashr/mashr_Brain_Caudate_basal_ganglia.db --covariance /opt/data/data/phenomexcan/prediction_models/mashr/mashr_Brain_Caudate_basal_ganglia.txt.gz --gwas_file /opt/data/projects/asthma-copd/results/final_imputed_gwas/GWAS_COPD_only_GLM_SNPs_info0.7-harmonized-imputed.txt.gz --separator '\t' --non_effect_allele_column non_effect_allele --effect_allele_column effect_allele --snp_column panel_variant_id --zscore_column zscore --keep_non_rsid --additional_output --model_db_snp_key varID --throw --output_file /opt/data/projects/asthma-copd/results/twas/spredixcan/GWAS_COPD_only_GLM_SNPs_info0.7-gtex_v8-mashr-Brain_Caudate_basal_ganglia.csv\n",
      "+ set +x\n",
      "+ /opt/data/software/conda_envs/metaxcan/bin/python /opt/data/software/metaxcan/software/SPrediXcan.py --model_db_path /opt/data/data/phenomexcan/prediction_models/mashr/mashr_Brain_Nucleus_accumbens_basal_ganglia.db --covariance /opt/data/data/phenomexcan/prediction_models/mashr/mashr_Brain_Nucleus_accumbens_basal_ganglia.txt.gz --gwas_file /opt/data/projects/asthma-copd/results/final_imputed_gwas/GWAS_COPD_only_GLM_SNPs_info0.7-harmonized-imputed.txt.gz --separator '\t' --non_effect_allele_column non_effect_allele --effect_allele_column effect_allele --snp_column panel_variant_id --zscore_column zscore --keep_non_rsid --additional_output --model_db_snp_key varID --throw --output_file /opt/data/projects/asthma-copd/results/twas/spredixcan/GWAS_COPD_only_GLM_SNPs_info0.7-gtex_v8-mashr-Brain_Nucleus_accumbens_basal_ganglia.csv\n"
     ]
    },
    {
     "name": "stdout",
     "output_type": "stream",
     "text": [
      "Running for copd_only, Brain_Nucleus_accumbens_basal_ganglia\n",
      "Saving results in /opt/data/projects/asthma-copd/results/twas/spredixcan\n",
      "WARNING - Some GWAS snp zscores are not finite.\n",
      "\n"
     ]
    },
    {
     "name": "stderr",
     "output_type": "stream",
     "text": [
      "+ set +x\n"
     ]
    },
    {
     "name": "stdout",
     "output_type": "stream",
     "text": [
      "Running for copd_only, Esophagus_Mucosa\n",
      "Saving results in /opt/data/projects/asthma-copd/results/twas/spredixcan\n"
     ]
    },
    {
     "name": "stderr",
     "output_type": "stream",
     "text": [
      "+ /opt/data/software/conda_envs/metaxcan/bin/python /opt/data/software/metaxcan/software/SPrediXcan.py --model_db_path /opt/data/data/phenomexcan/prediction_models/mashr/mashr_Esophagus_Mucosa.db --covariance /opt/data/data/phenomexcan/prediction_models/mashr/mashr_Esophagus_Mucosa.txt.gz --gwas_file /opt/data/projects/asthma-copd/results/final_imputed_gwas/GWAS_COPD_only_GLM_SNPs_info0.7-harmonized-imputed.txt.gz --separator '\t' --non_effect_allele_column non_effect_allele --effect_allele_column effect_allele --snp_column panel_variant_id --zscore_column zscore --keep_non_rsid --additional_output --model_db_snp_key varID --throw --output_file /opt/data/projects/asthma-copd/results/twas/spredixcan/GWAS_COPD_only_GLM_SNPs_info0.7-gtex_v8-mashr-Esophagus_Mucosa.csv\n"
     ]
    },
    {
     "name": "stdout",
     "output_type": "stream",
     "text": [
      "WARNING - Some GWAS snp zscores are not finite.\n",
      "\n"
     ]
    },
    {
     "name": "stderr",
     "output_type": "stream",
     "text": [
      "+ set +x\n"
     ]
    },
    {
     "name": "stdout",
     "output_type": "stream",
     "text": [
      "Running for copd_only, Colon_Transverse\n",
      "Saving results in /opt/data/projects/asthma-copd/results/twas/spredixcan\n",
      "WARNING - Some GWAS snp zscores are not finite.\n",
      "\n"
     ]
    },
    {
     "name": "stderr",
     "output_type": "stream",
     "text": [
      "+ /opt/data/software/conda_envs/metaxcan/bin/python /opt/data/software/metaxcan/software/SPrediXcan.py --model_db_path /opt/data/data/phenomexcan/prediction_models/mashr/mashr_Colon_Transverse.db --covariance /opt/data/data/phenomexcan/prediction_models/mashr/mashr_Colon_Transverse.txt.gz --gwas_file /opt/data/projects/asthma-copd/results/final_imputed_gwas/GWAS_COPD_only_GLM_SNPs_info0.7-harmonized-imputed.txt.gz --separator '\t' --non_effect_allele_column non_effect_allele --effect_allele_column effect_allele --snp_column panel_variant_id --zscore_column zscore --keep_non_rsid --additional_output --model_db_snp_key varID --throw --output_file /opt/data/projects/asthma-copd/results/twas/spredixcan/GWAS_COPD_only_GLM_SNPs_info0.7-gtex_v8-mashr-Colon_Transverse.csv\n",
      "+ set +x\n"
     ]
    },
    {
     "name": "stdout",
     "output_type": "stream",
     "text": [
      "Running for copd_only, Adrenal_Gland\n",
      "Saving results in /opt/data/projects/asthma-copd/results/twas/spredixcan\n",
      "WARNING - Some GWAS snp zscores are not finite.\n",
      "\n",
      "Running for copd_only, Lung\n",
      "Saving results in /opt/data/projects/asthma-copd/results/twas/spredixcan\n"
     ]
    },
    {
     "name": "stderr",
     "output_type": "stream",
     "text": [
      "+ /opt/data/software/conda_envs/metaxcan/bin/python /opt/data/software/metaxcan/software/SPrediXcan.py --model_db_path /opt/data/data/phenomexcan/prediction_models/mashr/mashr_Adrenal_Gland.db --covariance /opt/data/data/phenomexcan/prediction_models/mashr/mashr_Adrenal_Gland.txt.gz --gwas_file /opt/data/projects/asthma-copd/results/final_imputed_gwas/GWAS_COPD_only_GLM_SNPs_info0.7-harmonized-imputed.txt.gz --separator '\t' --non_effect_allele_column non_effect_allele --effect_allele_column effect_allele --snp_column panel_variant_id --zscore_column zscore --keep_non_rsid --additional_output --model_db_snp_key varID --throw --output_file /opt/data/projects/asthma-copd/results/twas/spredixcan/GWAS_COPD_only_GLM_SNPs_info0.7-gtex_v8-mashr-Adrenal_Gland.csv\n",
      "+ set +x\n",
      "+ /opt/data/software/conda_envs/metaxcan/bin/python /opt/data/software/metaxcan/software/SPrediXcan.py --model_db_path /opt/data/data/phenomexcan/prediction_models/mashr/mashr_Lung.db --covariance /opt/data/data/phenomexcan/prediction_models/mashr/mashr_Lung.txt.gz --gwas_file /opt/data/projects/asthma-copd/results/final_imputed_gwas/GWAS_COPD_only_GLM_SNPs_info0.7-harmonized-imputed.txt.gz --separator '\t' --non_effect_allele_column non_effect_allele --effect_allele_column effect_allele --snp_column panel_variant_id --zscore_column zscore --keep_non_rsid --additional_output --model_db_snp_key varID --throw --output_file /opt/data/projects/asthma-copd/results/twas/spredixcan/GWAS_COPD_only_GLM_SNPs_info0.7-gtex_v8-mashr-Lung.csv\n"
     ]
    },
    {
     "name": "stdout",
     "output_type": "stream",
     "text": [
      "WARNING - Some GWAS snp zscores are not finite.\n",
      "\n"
     ]
    },
    {
     "name": "stderr",
     "output_type": "stream",
     "text": [
      "+ set +x\n"
     ]
    },
    {
     "name": "stdout",
     "output_type": "stream",
     "text": [
      "Running for copd_only, Ovary\n",
      "Saving results in /opt/data/projects/asthma-copd/results/twas/spredixcan\n",
      "WARNING - Some GWAS snp zscores are not finite.\n",
      "\n"
     ]
    },
    {
     "name": "stderr",
     "output_type": "stream",
     "text": [
      "+ /opt/data/software/conda_envs/metaxcan/bin/python /opt/data/software/metaxcan/software/SPrediXcan.py --model_db_path /opt/data/data/phenomexcan/prediction_models/mashr/mashr_Ovary.db --covariance /opt/data/data/phenomexcan/prediction_models/mashr/mashr_Ovary.txt.gz --gwas_file /opt/data/projects/asthma-copd/results/final_imputed_gwas/GWAS_COPD_only_GLM_SNPs_info0.7-harmonized-imputed.txt.gz --separator '\t' --non_effect_allele_column non_effect_allele --effect_allele_column effect_allele --snp_column panel_variant_id --zscore_column zscore --keep_non_rsid --additional_output --model_db_snp_key varID --throw --output_file /opt/data/projects/asthma-copd/results/twas/spredixcan/GWAS_COPD_only_GLM_SNPs_info0.7-gtex_v8-mashr-Ovary.csv\n",
      "+ set +x\n",
      "+ /opt/data/software/conda_envs/metaxcan/bin/python /opt/data/software/metaxcan/software/SPrediXcan.py --model_db_path /opt/data/data/phenomexcan/prediction_models/mashr/mashr_Cells_Cultured_fibroblasts.db --covariance /opt/data/data/phenomexcan/prediction_models/mashr/mashr_Cells_Cultured_fibroblasts.txt.gz --gwas_file /opt/data/projects/asthma-copd/results/final_imputed_gwas/GWAS_COPD_only_GLM_SNPs_info0.7-harmonized-imputed.txt.gz --separator '\t' --non_effect_allele_column non_effect_allele --effect_allele_column effect_allele --snp_column panel_variant_id --zscore_column zscore --keep_non_rsid --additional_output --model_db_snp_key varID --throw --output_file /opt/data/projects/asthma-copd/results/twas/spredixcan/GWAS_COPD_only_GLM_SNPs_info0.7-gtex_v8-mashr-Cells_Cultured_fibroblasts.csv\n",
      "+ set +x\n",
      "+ /opt/data/software/conda_envs/metaxcan/bin/python /opt/data/software/metaxcan/software/SPrediXcan.py --model_db_path /opt/data/data/phenomexcan/prediction_models/mashr/mashr_Pituitary.db --covariance /opt/data/data/phenomexcan/prediction_models/mashr/mashr_Pituitary.txt.gz --gwas_file /opt/data/projects/asthma-copd/results/final_imputed_gwas/GWAS_COPD_only_GLM_SNPs_info0.7-harmonized-imputed.txt.gz --separator '\t' --non_effect_allele_column non_effect_allele --effect_allele_column effect_allele --snp_column panel_variant_id --zscore_column zscore --keep_non_rsid --additional_output --model_db_snp_key varID --throw --output_file /opt/data/projects/asthma-copd/results/twas/spredixcan/GWAS_COPD_only_GLM_SNPs_info0.7-gtex_v8-mashr-Pituitary.csv\n"
     ]
    },
    {
     "name": "stdout",
     "output_type": "stream",
     "text": [
      "Running for copd_only, Cells_Cultured_fibroblasts\n",
      "Saving results in /opt/data/projects/asthma-copd/results/twas/spredixcan\n",
      "WARNING - Some GWAS snp zscores are not finite.\n",
      "\n",
      "Running for copd_only, Pituitary\n",
      "Saving results in /opt/data/projects/asthma-copd/results/twas/spredixcan\n",
      "WARNING - Some GWAS snp zscores are not finite.\n",
      "\n"
     ]
    },
    {
     "name": "stderr",
     "output_type": "stream",
     "text": [
      "+ set +x\n"
     ]
    },
    {
     "name": "stdout",
     "output_type": "stream",
     "text": [
      "Running for copd_only, Kidney_Cortex\n",
      "Saving results in /opt/data/projects/asthma-copd/results/twas/spredixcan\n",
      "WARNING - Some GWAS snp zscores are not finite.\n",
      "\n"
     ]
    },
    {
     "name": "stderr",
     "output_type": "stream",
     "text": [
      "+ /opt/data/software/conda_envs/metaxcan/bin/python /opt/data/software/metaxcan/software/SPrediXcan.py --model_db_path /opt/data/data/phenomexcan/prediction_models/mashr/mashr_Kidney_Cortex.db --covariance /opt/data/data/phenomexcan/prediction_models/mashr/mashr_Kidney_Cortex.txt.gz --gwas_file /opt/data/projects/asthma-copd/results/final_imputed_gwas/GWAS_COPD_only_GLM_SNPs_info0.7-harmonized-imputed.txt.gz --separator '\t' --non_effect_allele_column non_effect_allele --effect_allele_column effect_allele --snp_column panel_variant_id --zscore_column zscore --keep_non_rsid --additional_output --model_db_snp_key varID --throw --output_file /opt/data/projects/asthma-copd/results/twas/spredixcan/GWAS_COPD_only_GLM_SNPs_info0.7-gtex_v8-mashr-Kidney_Cortex.csv\n",
      "+ set +x\n"
     ]
    },
    {
     "name": "stdout",
     "output_type": "stream",
     "text": [
      "Running for aco, Thyroid\n",
      "Saving results in /opt/data/projects/asthma-copd/results/twas/spredixcan\n"
     ]
    },
    {
     "name": "stderr",
     "output_type": "stream",
     "text": [
      "+ /opt/data/software/conda_envs/metaxcan/bin/python /opt/data/software/metaxcan/software/SPrediXcan.py --model_db_path /opt/data/data/phenomexcan/prediction_models/mashr/mashr_Thyroid.db --covariance /opt/data/data/phenomexcan/prediction_models/mashr/mashr_Thyroid.txt.gz --gwas_file /opt/data/projects/asthma-copd/results/final_imputed_gwas/GWAS_ACO_GLM_SNPs_info0.7-harmonized-imputed.txt.gz --separator '\t' --non_effect_allele_column non_effect_allele --effect_allele_column effect_allele --snp_column panel_variant_id --zscore_column zscore --keep_non_rsid --additional_output --model_db_snp_key varID --throw --output_file /opt/data/projects/asthma-copd/results/twas/spredixcan/GWAS_ACO_GLM_SNPs_info0.7-gtex_v8-mashr-Thyroid.csv\n"
     ]
    },
    {
     "name": "stdout",
     "output_type": "stream",
     "text": [
      "WARNING - Some GWAS snp zscores are not finite.\n",
      "\n"
     ]
    },
    {
     "name": "stderr",
     "output_type": "stream",
     "text": [
      "+ set +x\n"
     ]
    },
    {
     "name": "stdout",
     "output_type": "stream",
     "text": [
      "Running for aco, Artery_Aorta\n",
      "Saving results in /opt/data/projects/asthma-copd/results/twas/spredixcan\n",
      "WARNING - Some GWAS snp zscores are not finite.\n",
      "\n"
     ]
    },
    {
     "name": "stderr",
     "output_type": "stream",
     "text": [
      "+ /opt/data/software/conda_envs/metaxcan/bin/python /opt/data/software/metaxcan/software/SPrediXcan.py --model_db_path /opt/data/data/phenomexcan/prediction_models/mashr/mashr_Artery_Aorta.db --covariance /opt/data/data/phenomexcan/prediction_models/mashr/mashr_Artery_Aorta.txt.gz --gwas_file /opt/data/projects/asthma-copd/results/final_imputed_gwas/GWAS_ACO_GLM_SNPs_info0.7-harmonized-imputed.txt.gz --separator '\t' --non_effect_allele_column non_effect_allele --effect_allele_column effect_allele --snp_column panel_variant_id --zscore_column zscore --keep_non_rsid --additional_output --model_db_snp_key varID --throw --output_file /opt/data/projects/asthma-copd/results/twas/spredixcan/GWAS_ACO_GLM_SNPs_info0.7-gtex_v8-mashr-Artery_Aorta.csv\n",
      "+ set +x\n",
      "+ /opt/data/software/conda_envs/metaxcan/bin/python /opt/data/software/metaxcan/software/SPrediXcan.py --model_db_path /opt/data/data/phenomexcan/prediction_models/mashr/mashr_Heart_Atrial_Appendage.db --covariance /opt/data/data/phenomexcan/prediction_models/mashr/mashr_Heart_Atrial_Appendage.txt.gz --gwas_file /opt/data/projects/asthma-copd/results/final_imputed_gwas/GWAS_ACO_GLM_SNPs_info0.7-harmonized-imputed.txt.gz --separator '\t' --non_effect_allele_column non_effect_allele --effect_allele_column effect_allele --snp_column panel_variant_id --zscore_column zscore --keep_non_rsid --additional_output --model_db_snp_key varID --throw --output_file /opt/data/projects/asthma-copd/results/twas/spredixcan/GWAS_ACO_GLM_SNPs_info0.7-gtex_v8-mashr-Heart_Atrial_Appendage.csv\n"
     ]
    },
    {
     "name": "stdout",
     "output_type": "stream",
     "text": [
      "Running for aco, Heart_Atrial_Appendage\n",
      "Saving results in /opt/data/projects/asthma-copd/results/twas/spredixcan\n",
      "WARNING - Some GWAS snp zscores are not finite.\n",
      "\n"
     ]
    },
    {
     "name": "stderr",
     "output_type": "stream",
     "text": [
      "+ set +x\n"
     ]
    },
    {
     "name": "stdout",
     "output_type": "stream",
     "text": [
      "Running for aco, Liver\n",
      "Saving results in /opt/data/projects/asthma-copd/results/twas/spredixcan\n"
     ]
    },
    {
     "name": "stderr",
     "output_type": "stream",
     "text": [
      "+ /opt/data/software/conda_envs/metaxcan/bin/python /opt/data/software/metaxcan/software/SPrediXcan.py --model_db_path /opt/data/data/phenomexcan/prediction_models/mashr/mashr_Liver.db --covariance /opt/data/data/phenomexcan/prediction_models/mashr/mashr_Liver.txt.gz --gwas_file /opt/data/projects/asthma-copd/results/final_imputed_gwas/GWAS_ACO_GLM_SNPs_info0.7-harmonized-imputed.txt.gz --separator '\t' --non_effect_allele_column non_effect_allele --effect_allele_column effect_allele --snp_column panel_variant_id --zscore_column zscore --keep_non_rsid --additional_output --model_db_snp_key varID --throw --output_file /opt/data/projects/asthma-copd/results/twas/spredixcan/GWAS_ACO_GLM_SNPs_info0.7-gtex_v8-mashr-Liver.csv\n"
     ]
    },
    {
     "name": "stdout",
     "output_type": "stream",
     "text": [
      "WARNING - Some GWAS snp zscores are not finite.\n",
      "\n"
     ]
    },
    {
     "name": "stderr",
     "output_type": "stream",
     "text": [
      "+ set +x\n"
     ]
    },
    {
     "name": "stdout",
     "output_type": "stream",
     "text": [
      "Running for aco, Heart_Left_Ventricle\n",
      "Saving results in /opt/data/projects/asthma-copd/results/twas/spredixcan\n"
     ]
    },
    {
     "name": "stderr",
     "output_type": "stream",
     "text": [
      "+ /opt/data/software/conda_envs/metaxcan/bin/python /opt/data/software/metaxcan/software/SPrediXcan.py --model_db_path /opt/data/data/phenomexcan/prediction_models/mashr/mashr_Heart_Left_Ventricle.db --covariance /opt/data/data/phenomexcan/prediction_models/mashr/mashr_Heart_Left_Ventricle.txt.gz --gwas_file /opt/data/projects/asthma-copd/results/final_imputed_gwas/GWAS_ACO_GLM_SNPs_info0.7-harmonized-imputed.txt.gz --separator '\t' --non_effect_allele_column non_effect_allele --effect_allele_column effect_allele --snp_column panel_variant_id --zscore_column zscore --keep_non_rsid --additional_output --model_db_snp_key varID --throw --output_file /opt/data/projects/asthma-copd/results/twas/spredixcan/GWAS_ACO_GLM_SNPs_info0.7-gtex_v8-mashr-Heart_Left_Ventricle.csv\n"
     ]
    },
    {
     "name": "stdout",
     "output_type": "stream",
     "text": [
      "WARNING - Some GWAS snp zscores are not finite.\n",
      "\n"
     ]
    },
    {
     "name": "stderr",
     "output_type": "stream",
     "text": [
      "+ set +x\n"
     ]
    },
    {
     "name": "stdout",
     "output_type": "stream",
     "text": [
      "Running for aco, Brain_Hippocampus\n",
      "Saving results in /opt/data/projects/asthma-copd/results/twas/spredixcan\n",
      "WARNING - Some GWAS snp zscores are not finite.\n",
      "\n"
     ]
    },
    {
     "name": "stderr",
     "output_type": "stream",
     "text": [
      "+ /opt/data/software/conda_envs/metaxcan/bin/python /opt/data/software/metaxcan/software/SPrediXcan.py --model_db_path /opt/data/data/phenomexcan/prediction_models/mashr/mashr_Brain_Hippocampus.db --covariance /opt/data/data/phenomexcan/prediction_models/mashr/mashr_Brain_Hippocampus.txt.gz --gwas_file /opt/data/projects/asthma-copd/results/final_imputed_gwas/GWAS_ACO_GLM_SNPs_info0.7-harmonized-imputed.txt.gz --separator '\t' --non_effect_allele_column non_effect_allele --effect_allele_column effect_allele --snp_column panel_variant_id --zscore_column zscore --keep_non_rsid --additional_output --model_db_snp_key varID --throw --output_file /opt/data/projects/asthma-copd/results/twas/spredixcan/GWAS_ACO_GLM_SNPs_info0.7-gtex_v8-mashr-Brain_Hippocampus.csv\n",
      "+ set +x\n",
      "+ /opt/data/software/conda_envs/metaxcan/bin/python /opt/data/software/metaxcan/software/SPrediXcan.py --model_db_path /opt/data/data/phenomexcan/prediction_models/mashr/mashr_Testis.db --covariance /opt/data/data/phenomexcan/prediction_models/mashr/mashr_Testis.txt.gz --gwas_file /opt/data/projects/asthma-copd/results/final_imputed_gwas/GWAS_ACO_GLM_SNPs_info0.7-harmonized-imputed.txt.gz --separator '\t' --non_effect_allele_column non_effect_allele --effect_allele_column effect_allele --snp_column panel_variant_id --zscore_column zscore --keep_non_rsid --additional_output --model_db_snp_key varID --throw --output_file /opt/data/projects/asthma-copd/results/twas/spredixcan/GWAS_ACO_GLM_SNPs_info0.7-gtex_v8-mashr-Testis.csv\n"
     ]
    },
    {
     "name": "stdout",
     "output_type": "stream",
     "text": [
      "Running for aco, Testis\n",
      "Saving results in /opt/data/projects/asthma-copd/results/twas/spredixcan\n",
      "WARNING - Some GWAS snp zscores are not finite.\n",
      "\n"
     ]
    },
    {
     "name": "stderr",
     "output_type": "stream",
     "text": [
      "+ set +x\n"
     ]
    },
    {
     "name": "stdout",
     "output_type": "stream",
     "text": [
      "Running for aco, Uterus\n",
      "Saving results in /opt/data/projects/asthma-copd/results/twas/spredixcan\n",
      "WARNING - Some GWAS snp zscores are not finite.\n",
      "\n"
     ]
    },
    {
     "name": "stderr",
     "output_type": "stream",
     "text": [
      "+ /opt/data/software/conda_envs/metaxcan/bin/python /opt/data/software/metaxcan/software/SPrediXcan.py --model_db_path /opt/data/data/phenomexcan/prediction_models/mashr/mashr_Uterus.db --covariance /opt/data/data/phenomexcan/prediction_models/mashr/mashr_Uterus.txt.gz --gwas_file /opt/data/projects/asthma-copd/results/final_imputed_gwas/GWAS_ACO_GLM_SNPs_info0.7-harmonized-imputed.txt.gz --separator '\t' --non_effect_allele_column non_effect_allele --effect_allele_column effect_allele --snp_column panel_variant_id --zscore_column zscore --keep_non_rsid --additional_output --model_db_snp_key varID --throw --output_file /opt/data/projects/asthma-copd/results/twas/spredixcan/GWAS_ACO_GLM_SNPs_info0.7-gtex_v8-mashr-Uterus.csv\n",
      "+ set +x\n",
      "+ /opt/data/software/conda_envs/metaxcan/bin/python /opt/data/software/metaxcan/software/SPrediXcan.py --model_db_path /opt/data/data/phenomexcan/prediction_models/mashr/mashr_Adipose_Subcutaneous.db --covariance /opt/data/data/phenomexcan/prediction_models/mashr/mashr_Adipose_Subcutaneous.txt.gz --gwas_file /opt/data/projects/asthma-copd/results/final_imputed_gwas/GWAS_ACO_GLM_SNPs_info0.7-harmonized-imputed.txt.gz --separator '\t' --non_effect_allele_column non_effect_allele --effect_allele_column effect_allele --snp_column panel_variant_id --zscore_column zscore --keep_non_rsid --additional_output --model_db_snp_key varID --throw --output_file /opt/data/projects/asthma-copd/results/twas/spredixcan/GWAS_ACO_GLM_SNPs_info0.7-gtex_v8-mashr-Adipose_Subcutaneous.csv\n",
      "+ set +x\n",
      "+ /opt/data/software/conda_envs/metaxcan/bin/python /opt/data/software/metaxcan/software/SPrediXcan.py --model_db_path /opt/data/data/phenomexcan/prediction_models/mashr/mashr_Artery_Tibial.db --covariance /opt/data/data/phenomexcan/prediction_models/mashr/mashr_Artery_Tibial.txt.gz --gwas_file /opt/data/projects/asthma-copd/results/final_imputed_gwas/GWAS_ACO_GLM_SNPs_info0.7-harmonized-imputed.txt.gz --separator '\t' --non_effect_allele_column non_effect_allele --effect_allele_column effect_allele --snp_column panel_variant_id --zscore_column zscore --keep_non_rsid --additional_output --model_db_snp_key varID --throw --output_file /opt/data/projects/asthma-copd/results/twas/spredixcan/GWAS_ACO_GLM_SNPs_info0.7-gtex_v8-mashr-Artery_Tibial.csv\n",
      "+ set +x\n",
      "+ /opt/data/software/conda_envs/metaxcan/bin/python /opt/data/software/metaxcan/software/SPrediXcan.py --model_db_path /opt/data/data/phenomexcan/prediction_models/mashr/mashr_Esophagus_Gastroesophageal_Junction.db --covariance /opt/data/data/phenomexcan/prediction_models/mashr/mashr_Esophagus_Gastroesophageal_Junction.txt.gz --gwas_file /opt/data/projects/asthma-copd/results/final_imputed_gwas/GWAS_ACO_GLM_SNPs_info0.7-harmonized-imputed.txt.gz --separator '\t' --non_effect_allele_column non_effect_allele --effect_allele_column effect_allele --snp_column panel_variant_id --zscore_column zscore --keep_non_rsid --additional_output --model_db_snp_key varID --throw --output_file /opt/data/projects/asthma-copd/results/twas/spredixcan/GWAS_ACO_GLM_SNPs_info0.7-gtex_v8-mashr-Esophagus_Gastroesophageal_Junction.csv\n",
      "+ set +x\n",
      "+ /opt/data/software/conda_envs/metaxcan/bin/python /opt/data/software/metaxcan/software/SPrediXcan.py --model_db_path /opt/data/data/phenomexcan/prediction_models/mashr/mashr_Prostate.db --covariance /opt/data/data/phenomexcan/prediction_models/mashr/mashr_Prostate.txt.gz --gwas_file /opt/data/projects/asthma-copd/results/final_imputed_gwas/GWAS_ACO_GLM_SNPs_info0.7-harmonized-imputed.txt.gz --separator '\t' --non_effect_allele_column non_effect_allele --effect_allele_column effect_allele --snp_column panel_variant_id --zscore_column zscore --keep_non_rsid --additional_output --model_db_snp_key varID --throw --output_file /opt/data/projects/asthma-copd/results/twas/spredixcan/GWAS_ACO_GLM_SNPs_info0.7-gtex_v8-mashr-Prostate.csv\n",
      "+ set +x\n",
      "+ /opt/data/software/conda_envs/metaxcan/bin/python /opt/data/software/metaxcan/software/SPrediXcan.py --model_db_path /opt/data/data/phenomexcan/prediction_models/mashr/mashr_Muscle_Skeletal.db --covariance /opt/data/data/phenomexcan/prediction_models/mashr/mashr_Muscle_Skeletal.txt.gz --gwas_file /opt/data/projects/asthma-copd/results/final_imputed_gwas/GWAS_ACO_GLM_SNPs_info0.7-harmonized-imputed.txt.gz --separator '\t' --non_effect_allele_column non_effect_allele --effect_allele_column effect_allele --snp_column panel_variant_id --zscore_column zscore --keep_non_rsid --additional_output --model_db_snp_key varID --throw --output_file /opt/data/projects/asthma-copd/results/twas/spredixcan/GWAS_ACO_GLM_SNPs_info0.7-gtex_v8-mashr-Muscle_Skeletal.csv\n",
      "+ set +x\n",
      "+ /opt/data/software/conda_envs/metaxcan/bin/python /opt/data/software/metaxcan/software/SPrediXcan.py --model_db_path /opt/data/data/phenomexcan/prediction_models/mashr/mashr_Brain_Frontal_Cortex_BA9.db --covariance /opt/data/data/phenomexcan/prediction_models/mashr/mashr_Brain_Frontal_Cortex_BA9.txt.gz --gwas_file /opt/data/projects/asthma-copd/results/final_imputed_gwas/GWAS_ACO_GLM_SNPs_info0.7-harmonized-imputed.txt.gz --separator '\t' --non_effect_allele_column non_effect_allele --effect_allele_column effect_allele --snp_column panel_variant_id --zscore_column zscore --keep_non_rsid --additional_output --model_db_snp_key varID --throw --output_file /opt/data/projects/asthma-copd/results/twas/spredixcan/GWAS_ACO_GLM_SNPs_info0.7-gtex_v8-mashr-Brain_Frontal_Cortex_BA9.csv\n",
      "+ set +x\n",
      "+ /opt/data/software/conda_envs/metaxcan/bin/python /opt/data/software/metaxcan/software/SPrediXcan.py --model_db_path /opt/data/data/phenomexcan/prediction_models/mashr/mashr_Whole_Blood.db --covariance /opt/data/data/phenomexcan/prediction_models/mashr/mashr_Whole_Blood.txt.gz --gwas_file /opt/data/projects/asthma-copd/results/final_imputed_gwas/GWAS_ACO_GLM_SNPs_info0.7-harmonized-imputed.txt.gz --separator '\t' --non_effect_allele_column non_effect_allele --effect_allele_column effect_allele --snp_column panel_variant_id --zscore_column zscore --keep_non_rsid --additional_output --model_db_snp_key varID --throw --output_file /opt/data/projects/asthma-copd/results/twas/spredixcan/GWAS_ACO_GLM_SNPs_info0.7-gtex_v8-mashr-Whole_Blood.csv\n",
      "+ set +x\n"
     ]
    },
    {
     "name": "stdout",
     "output_type": "stream",
     "text": [
      "Running for aco, Adipose_Subcutaneous\n",
      "Saving results in /opt/data/projects/asthma-copd/results/twas/spredixcan\n",
      "WARNING - Some GWAS snp zscores are not finite.\n",
      "\n",
      "Running for aco, Artery_Tibial\n",
      "Saving results in /opt/data/projects/asthma-copd/results/twas/spredixcan\n",
      "WARNING - Some GWAS snp zscores are not finite.\n",
      "\n",
      "Running for aco, Esophagus_Gastroesophageal_Junction\n",
      "Saving results in /opt/data/projects/asthma-copd/results/twas/spredixcan\n",
      "WARNING - Some GWAS snp zscores are not finite.\n",
      "\n",
      "Running for aco, Prostate\n",
      "Saving results in /opt/data/projects/asthma-copd/results/twas/spredixcan\n",
      "WARNING - Some GWAS snp zscores are not finite.\n",
      "\n",
      "Running for aco, Muscle_Skeletal\n",
      "Saving results in /opt/data/projects/asthma-copd/results/twas/spredixcan\n",
      "WARNING - Some GWAS snp zscores are not finite.\n",
      "\n",
      "Running for aco, Brain_Frontal_Cortex_BA9\n",
      "Saving results in /opt/data/projects/asthma-copd/results/twas/spredixcan\n",
      "WARNING - Some GWAS snp zscores are not finite.\n",
      "\n",
      "Running for aco, Whole_Blood\n",
      "Saving results in /opt/data/projects/asthma-copd/results/twas/spredixcan\n",
      "WARNING - Some GWAS snp zscores are not finite.\n",
      "\n",
      "Running for aco, Artery_Coronary\n",
      "Saving results in /opt/data/projects/asthma-copd/results/twas/spredixcan\n",
      "WARNING - Some GWAS snp zscores are not finite.\n",
      "\n",
      "Running for aco, Brain_Cerebellum\n",
      "Saving results in /opt/data/projects/asthma-copd/results/twas/spredixcan\n",
      "WARNING - Some GWAS snp zscores are not finite.\n",
      "\n",
      "Running for aco, Small_Intestine_Terminal_Ileum\n",
      "Saving results in /opt/data/projects/asthma-copd/results/twas/spredixcan\n",
      "WARNING - Some GWAS snp zscores are not finite.\n",
      "\n"
     ]
    },
    {
     "name": "stderr",
     "output_type": "stream",
     "text": [
      "+ /opt/data/software/conda_envs/metaxcan/bin/python /opt/data/software/metaxcan/software/SPrediXcan.py --model_db_path /opt/data/data/phenomexcan/prediction_models/mashr/mashr_Artery_Coronary.db --covariance /opt/data/data/phenomexcan/prediction_models/mashr/mashr_Artery_Coronary.txt.gz --gwas_file /opt/data/projects/asthma-copd/results/final_imputed_gwas/GWAS_ACO_GLM_SNPs_info0.7-harmonized-imputed.txt.gz --separator '\t' --non_effect_allele_column non_effect_allele --effect_allele_column effect_allele --snp_column panel_variant_id --zscore_column zscore --keep_non_rsid --additional_output --model_db_snp_key varID --throw --output_file /opt/data/projects/asthma-copd/results/twas/spredixcan/GWAS_ACO_GLM_SNPs_info0.7-gtex_v8-mashr-Artery_Coronary.csv\n",
      "+ set +x\n",
      "+ /opt/data/software/conda_envs/metaxcan/bin/python /opt/data/software/metaxcan/software/SPrediXcan.py --model_db_path /opt/data/data/phenomexcan/prediction_models/mashr/mashr_Brain_Cerebellum.db --covariance /opt/data/data/phenomexcan/prediction_models/mashr/mashr_Brain_Cerebellum.txt.gz --gwas_file /opt/data/projects/asthma-copd/results/final_imputed_gwas/GWAS_ACO_GLM_SNPs_info0.7-harmonized-imputed.txt.gz --separator '\t' --non_effect_allele_column non_effect_allele --effect_allele_column effect_allele --snp_column panel_variant_id --zscore_column zscore --keep_non_rsid --additional_output --model_db_snp_key varID --throw --output_file /opt/data/projects/asthma-copd/results/twas/spredixcan/GWAS_ACO_GLM_SNPs_info0.7-gtex_v8-mashr-Brain_Cerebellum.csv\n",
      "+ set +x\n",
      "+ /opt/data/software/conda_envs/metaxcan/bin/python /opt/data/software/metaxcan/software/SPrediXcan.py --model_db_path /opt/data/data/phenomexcan/prediction_models/mashr/mashr_Small_Intestine_Terminal_Ileum.db --covariance /opt/data/data/phenomexcan/prediction_models/mashr/mashr_Small_Intestine_Terminal_Ileum.txt.gz --gwas_file /opt/data/projects/asthma-copd/results/final_imputed_gwas/GWAS_ACO_GLM_SNPs_info0.7-harmonized-imputed.txt.gz --separator '\t' --non_effect_allele_column non_effect_allele --effect_allele_column effect_allele --snp_column panel_variant_id --zscore_column zscore --keep_non_rsid --additional_output --model_db_snp_key varID --throw --output_file /opt/data/projects/asthma-copd/results/twas/spredixcan/GWAS_ACO_GLM_SNPs_info0.7-gtex_v8-mashr-Small_Intestine_Terminal_Ileum.csv\n",
      "+ set +x\n"
     ]
    },
    {
     "name": "stdout",
     "output_type": "stream",
     "text": [
      "Running for aco, Stomach\n",
      "Saving results in /opt/data/projects/asthma-copd/results/twas/spredixcan\n",
      "WARNING - Some GWAS snp zscores are not finite.\n",
      "\n",
      "Running for aco, Brain_Amygdala\n",
      "Saving results in /opt/data/projects/asthma-copd/results/twas/spredixcan\n"
     ]
    },
    {
     "name": "stderr",
     "output_type": "stream",
     "text": [
      "+ /opt/data/software/conda_envs/metaxcan/bin/python /opt/data/software/metaxcan/software/SPrediXcan.py --model_db_path /opt/data/data/phenomexcan/prediction_models/mashr/mashr_Stomach.db --covariance /opt/data/data/phenomexcan/prediction_models/mashr/mashr_Stomach.txt.gz --gwas_file /opt/data/projects/asthma-copd/results/final_imputed_gwas/GWAS_ACO_GLM_SNPs_info0.7-harmonized-imputed.txt.gz --separator '\t' --non_effect_allele_column non_effect_allele --effect_allele_column effect_allele --snp_column panel_variant_id --zscore_column zscore --keep_non_rsid --additional_output --model_db_snp_key varID --throw --output_file /opt/data/projects/asthma-copd/results/twas/spredixcan/GWAS_ACO_GLM_SNPs_info0.7-gtex_v8-mashr-Stomach.csv\n",
      "+ set +x\n",
      "+ /opt/data/software/conda_envs/metaxcan/bin/python /opt/data/software/metaxcan/software/SPrediXcan.py --model_db_path /opt/data/data/phenomexcan/prediction_models/mashr/mashr_Brain_Amygdala.db --covariance /opt/data/data/phenomexcan/prediction_models/mashr/mashr_Brain_Amygdala.txt.gz --gwas_file /opt/data/projects/asthma-copd/results/final_imputed_gwas/GWAS_ACO_GLM_SNPs_info0.7-harmonized-imputed.txt.gz --separator '\t' --non_effect_allele_column non_effect_allele --effect_allele_column effect_allele --snp_column panel_variant_id --zscore_column zscore --keep_non_rsid --additional_output --model_db_snp_key varID --throw --output_file /opt/data/projects/asthma-copd/results/twas/spredixcan/GWAS_ACO_GLM_SNPs_info0.7-gtex_v8-mashr-Brain_Amygdala.csv\n"
     ]
    },
    {
     "name": "stdout",
     "output_type": "stream",
     "text": [
      "WARNING - Some GWAS snp zscores are not finite.\n",
      "\n"
     ]
    },
    {
     "name": "stderr",
     "output_type": "stream",
     "text": [
      "+ set +x\n"
     ]
    },
    {
     "name": "stdout",
     "output_type": "stream",
     "text": [
      "Running for aco, Minor_Salivary_Gland\n",
      "Saving results in /opt/data/projects/asthma-copd/results/twas/spredixcan\n"
     ]
    },
    {
     "name": "stderr",
     "output_type": "stream",
     "text": [
      "+ /opt/data/software/conda_envs/metaxcan/bin/python /opt/data/software/metaxcan/software/SPrediXcan.py --model_db_path /opt/data/data/phenomexcan/prediction_models/mashr/mashr_Minor_Salivary_Gland.db --covariance /opt/data/data/phenomexcan/prediction_models/mashr/mashr_Minor_Salivary_Gland.txt.gz --gwas_file /opt/data/projects/asthma-copd/results/final_imputed_gwas/GWAS_ACO_GLM_SNPs_info0.7-harmonized-imputed.txt.gz --separator '\t' --non_effect_allele_column non_effect_allele --effect_allele_column effect_allele --snp_column panel_variant_id --zscore_column zscore --keep_non_rsid --additional_output --model_db_snp_key varID --throw --output_file /opt/data/projects/asthma-copd/results/twas/spredixcan/GWAS_ACO_GLM_SNPs_info0.7-gtex_v8-mashr-Minor_Salivary_Gland.csv\n"
     ]
    },
    {
     "name": "stdout",
     "output_type": "stream",
     "text": [
      "WARNING - Some GWAS snp zscores are not finite.\n",
      "\n"
     ]
    },
    {
     "name": "stderr",
     "output_type": "stream",
     "text": [
      "+ set +x\n"
     ]
    },
    {
     "name": "stdout",
     "output_type": "stream",
     "text": [
      "Running for aco, Brain_Putamen_basal_ganglia\n",
      "Saving results in /opt/data/projects/asthma-copd/results/twas/spredixcan\n"
     ]
    },
    {
     "name": "stderr",
     "output_type": "stream",
     "text": [
      "+ /opt/data/software/conda_envs/metaxcan/bin/python /opt/data/software/metaxcan/software/SPrediXcan.py --model_db_path /opt/data/data/phenomexcan/prediction_models/mashr/mashr_Brain_Putamen_basal_ganglia.db --covariance /opt/data/data/phenomexcan/prediction_models/mashr/mashr_Brain_Putamen_basal_ganglia.txt.gz --gwas_file /opt/data/projects/asthma-copd/results/final_imputed_gwas/GWAS_ACO_GLM_SNPs_info0.7-harmonized-imputed.txt.gz --separator '\t' --non_effect_allele_column non_effect_allele --effect_allele_column effect_allele --snp_column panel_variant_id --zscore_column zscore --keep_non_rsid --additional_output --model_db_snp_key varID --throw --output_file /opt/data/projects/asthma-copd/results/twas/spredixcan/GWAS_ACO_GLM_SNPs_info0.7-gtex_v8-mashr-Brain_Putamen_basal_ganglia.csv\n"
     ]
    },
    {
     "name": "stdout",
     "output_type": "stream",
     "text": [
      "WARNING - Some GWAS snp zscores are not finite.\n",
      "\n"
     ]
    },
    {
     "name": "stderr",
     "output_type": "stream",
     "text": [
      "+ set +x\n"
     ]
    },
    {
     "name": "stdout",
     "output_type": "stream",
     "text": [
      "Running for aco, Breast_Mammary_Tissue\n",
      "Saving results in /opt/data/projects/asthma-copd/results/twas/spredixcan\n"
     ]
    },
    {
     "name": "stderr",
     "output_type": "stream",
     "text": [
      "+ /opt/data/software/conda_envs/metaxcan/bin/python /opt/data/software/metaxcan/software/SPrediXcan.py --model_db_path /opt/data/data/phenomexcan/prediction_models/mashr/mashr_Breast_Mammary_Tissue.db --covariance /opt/data/data/phenomexcan/prediction_models/mashr/mashr_Breast_Mammary_Tissue.txt.gz --gwas_file /opt/data/projects/asthma-copd/results/final_imputed_gwas/GWAS_ACO_GLM_SNPs_info0.7-harmonized-imputed.txt.gz --separator '\t' --non_effect_allele_column non_effect_allele --effect_allele_column effect_allele --snp_column panel_variant_id --zscore_column zscore --keep_non_rsid --additional_output --model_db_snp_key varID --throw --output_file /opt/data/projects/asthma-copd/results/twas/spredixcan/GWAS_ACO_GLM_SNPs_info0.7-gtex_v8-mashr-Breast_Mammary_Tissue.csv\n"
     ]
    },
    {
     "name": "stdout",
     "output_type": "stream",
     "text": [
      "WARNING - Some GWAS snp zscores are not finite.\n",
      "\n"
     ]
    },
    {
     "name": "stderr",
     "output_type": "stream",
     "text": [
      "+ set +x\n"
     ]
    },
    {
     "name": "stdout",
     "output_type": "stream",
     "text": [
      "Running for aco, Adipose_Visceral_Omentum\n",
      "Saving results in /opt/data/projects/asthma-copd/results/twas/spredixcan\n"
     ]
    },
    {
     "name": "stderr",
     "output_type": "stream",
     "text": [
      "+ /opt/data/software/conda_envs/metaxcan/bin/python /opt/data/software/metaxcan/software/SPrediXcan.py --model_db_path /opt/data/data/phenomexcan/prediction_models/mashr/mashr_Adipose_Visceral_Omentum.db --covariance /opt/data/data/phenomexcan/prediction_models/mashr/mashr_Adipose_Visceral_Omentum.txt.gz --gwas_file /opt/data/projects/asthma-copd/results/final_imputed_gwas/GWAS_ACO_GLM_SNPs_info0.7-harmonized-imputed.txt.gz --separator '\t' --non_effect_allele_column non_effect_allele --effect_allele_column effect_allele --snp_column panel_variant_id --zscore_column zscore --keep_non_rsid --additional_output --model_db_snp_key varID --throw --output_file /opt/data/projects/asthma-copd/results/twas/spredixcan/GWAS_ACO_GLM_SNPs_info0.7-gtex_v8-mashr-Adipose_Visceral_Omentum.csv\n"
     ]
    },
    {
     "name": "stdout",
     "output_type": "stream",
     "text": [
      "WARNING - Some GWAS snp zscores are not finite.\n",
      "\n"
     ]
    },
    {
     "name": "stderr",
     "output_type": "stream",
     "text": [
      "+ set +x\n"
     ]
    },
    {
     "name": "stdout",
     "output_type": "stream",
     "text": [
      "Running for aco, Brain_Hypothalamus\n",
      "Saving results in /opt/data/projects/asthma-copd/results/twas/spredixcan\n"
     ]
    },
    {
     "name": "stderr",
     "output_type": "stream",
     "text": [
      "+ /opt/data/software/conda_envs/metaxcan/bin/python /opt/data/software/metaxcan/software/SPrediXcan.py --model_db_path /opt/data/data/phenomexcan/prediction_models/mashr/mashr_Brain_Hypothalamus.db --covariance /opt/data/data/phenomexcan/prediction_models/mashr/mashr_Brain_Hypothalamus.txt.gz --gwas_file /opt/data/projects/asthma-copd/results/final_imputed_gwas/GWAS_ACO_GLM_SNPs_info0.7-harmonized-imputed.txt.gz --separator '\t' --non_effect_allele_column non_effect_allele --effect_allele_column effect_allele --snp_column panel_variant_id --zscore_column zscore --keep_non_rsid --additional_output --model_db_snp_key varID --throw --output_file /opt/data/projects/asthma-copd/results/twas/spredixcan/GWAS_ACO_GLM_SNPs_info0.7-gtex_v8-mashr-Brain_Hypothalamus.csv\n"
     ]
    },
    {
     "name": "stdout",
     "output_type": "stream",
     "text": [
      "WARNING - Some GWAS snp zscores are not finite.\n",
      "\n"
     ]
    },
    {
     "name": "stderr",
     "output_type": "stream",
     "text": [
      "+ set +x\n"
     ]
    },
    {
     "name": "stdout",
     "output_type": "stream",
     "text": [
      "Running for aco, Brain_Cerebellar_Hemisphere\n",
      "Saving results in /opt/data/projects/asthma-copd/results/twas/spredixcan\n"
     ]
    },
    {
     "name": "stderr",
     "output_type": "stream",
     "text": [
      "+ /opt/data/software/conda_envs/metaxcan/bin/python /opt/data/software/metaxcan/software/SPrediXcan.py --model_db_path /opt/data/data/phenomexcan/prediction_models/mashr/mashr_Brain_Cerebellar_Hemisphere.db --covariance /opt/data/data/phenomexcan/prediction_models/mashr/mashr_Brain_Cerebellar_Hemisphere.txt.gz --gwas_file /opt/data/projects/asthma-copd/results/final_imputed_gwas/GWAS_ACO_GLM_SNPs_info0.7-harmonized-imputed.txt.gz --separator '\t' --non_effect_allele_column non_effect_allele --effect_allele_column effect_allele --snp_column panel_variant_id --zscore_column zscore --keep_non_rsid --additional_output --model_db_snp_key varID --throw --output_file /opt/data/projects/asthma-copd/results/twas/spredixcan/GWAS_ACO_GLM_SNPs_info0.7-gtex_v8-mashr-Brain_Cerebellar_Hemisphere.csv\n"
     ]
    },
    {
     "name": "stdout",
     "output_type": "stream",
     "text": [
      "WARNING - Some GWAS snp zscores are not finite.\n",
      "\n"
     ]
    },
    {
     "name": "stderr",
     "output_type": "stream",
     "text": [
      "+ set +x\n"
     ]
    },
    {
     "name": "stdout",
     "output_type": "stream",
     "text": [
      "Running for aco, Brain_Anterior_cingulate_cortex_BA24\n",
      "Saving results in /opt/data/projects/asthma-copd/results/twas/spredixcan\n"
     ]
    },
    {
     "name": "stderr",
     "output_type": "stream",
     "text": [
      "+ /opt/data/software/conda_envs/metaxcan/bin/python /opt/data/software/metaxcan/software/SPrediXcan.py --model_db_path /opt/data/data/phenomexcan/prediction_models/mashr/mashr_Brain_Anterior_cingulate_cortex_BA24.db --covariance /opt/data/data/phenomexcan/prediction_models/mashr/mashr_Brain_Anterior_cingulate_cortex_BA24.txt.gz --gwas_file /opt/data/projects/asthma-copd/results/final_imputed_gwas/GWAS_ACO_GLM_SNPs_info0.7-harmonized-imputed.txt.gz --separator '\t' --non_effect_allele_column non_effect_allele --effect_allele_column effect_allele --snp_column panel_variant_id --zscore_column zscore --keep_non_rsid --additional_output --model_db_snp_key varID --throw --output_file /opt/data/projects/asthma-copd/results/twas/spredixcan/GWAS_ACO_GLM_SNPs_info0.7-gtex_v8-mashr-Brain_Anterior_cingulate_cortex_BA24.csv\n"
     ]
    },
    {
     "name": "stdout",
     "output_type": "stream",
     "text": [
      "WARNING - Some GWAS snp zscores are not finite.\n",
      "\n"
     ]
    },
    {
     "name": "stderr",
     "output_type": "stream",
     "text": [
      "+ set +x\n"
     ]
    },
    {
     "name": "stdout",
     "output_type": "stream",
     "text": [
      "Running for aco, Brain_Cortex\n",
      "Saving results in /opt/data/projects/asthma-copd/results/twas/spredixcan\n"
     ]
    },
    {
     "name": "stderr",
     "output_type": "stream",
     "text": [
      "+ /opt/data/software/conda_envs/metaxcan/bin/python /opt/data/software/metaxcan/software/SPrediXcan.py --model_db_path /opt/data/data/phenomexcan/prediction_models/mashr/mashr_Brain_Cortex.db --covariance /opt/data/data/phenomexcan/prediction_models/mashr/mashr_Brain_Cortex.txt.gz --gwas_file /opt/data/projects/asthma-copd/results/final_imputed_gwas/GWAS_ACO_GLM_SNPs_info0.7-harmonized-imputed.txt.gz --separator '\t' --non_effect_allele_column non_effect_allele --effect_allele_column effect_allele --snp_column panel_variant_id --zscore_column zscore --keep_non_rsid --additional_output --model_db_snp_key varID --throw --output_file /opt/data/projects/asthma-copd/results/twas/spredixcan/GWAS_ACO_GLM_SNPs_info0.7-gtex_v8-mashr-Brain_Cortex.csv\n"
     ]
    },
    {
     "name": "stdout",
     "output_type": "stream",
     "text": [
      "WARNING - Some GWAS snp zscores are not finite.\n",
      "\n"
     ]
    },
    {
     "name": "stderr",
     "output_type": "stream",
     "text": [
      "+ set +x\n"
     ]
    },
    {
     "name": "stdout",
     "output_type": "stream",
     "text": [
      "Running for aco, Nerve_Tibial\n",
      "Saving results in /opt/data/projects/asthma-copd/results/twas/spredixcan\n"
     ]
    },
    {
     "name": "stderr",
     "output_type": "stream",
     "text": [
      "+ /opt/data/software/conda_envs/metaxcan/bin/python /opt/data/software/metaxcan/software/SPrediXcan.py --model_db_path /opt/data/data/phenomexcan/prediction_models/mashr/mashr_Nerve_Tibial.db --covariance /opt/data/data/phenomexcan/prediction_models/mashr/mashr_Nerve_Tibial.txt.gz --gwas_file /opt/data/projects/asthma-copd/results/final_imputed_gwas/GWAS_ACO_GLM_SNPs_info0.7-harmonized-imputed.txt.gz --separator '\t' --non_effect_allele_column non_effect_allele --effect_allele_column effect_allele --snp_column panel_variant_id --zscore_column zscore --keep_non_rsid --additional_output --model_db_snp_key varID --throw --output_file /opt/data/projects/asthma-copd/results/twas/spredixcan/GWAS_ACO_GLM_SNPs_info0.7-gtex_v8-mashr-Nerve_Tibial.csv\n"
     ]
    },
    {
     "name": "stdout",
     "output_type": "stream",
     "text": [
      "WARNING - Some GWAS snp zscores are not finite.\n",
      "\n"
     ]
    },
    {
     "name": "stderr",
     "output_type": "stream",
     "text": [
      "+ set +x\n"
     ]
    },
    {
     "name": "stdout",
     "output_type": "stream",
     "text": [
      "Running for aco, Pancreas\n",
      "Saving results in /opt/data/projects/asthma-copd/results/twas/spredixcan\n",
      "WARNING - Some GWAS snp zscores are not finite.\n",
      "\n",
      "Running for aco, Esophagus_Muscularis\n",
      "Saving results in /opt/data/projects/asthma-copd/results/twas/spredixcan\n",
      "WARNING - Some GWAS snp zscores are not finite.\n",
      "\n",
      "Running for aco, Brain_Substantia_nigra\n",
      "Saving results in /opt/data/projects/asthma-copd/results/twas/spredixcan\n",
      "WARNING - Some GWAS snp zscores are not finite.\n",
      "\n",
      "Running for aco, Skin_Sun_Exposed_Lower_leg\n",
      "Saving results in /opt/data/projects/asthma-copd/results/twas/spredixcan\n"
     ]
    },
    {
     "name": "stderr",
     "output_type": "stream",
     "text": [
      "+ /opt/data/software/conda_envs/metaxcan/bin/python /opt/data/software/metaxcan/software/SPrediXcan.py --model_db_path /opt/data/data/phenomexcan/prediction_models/mashr/mashr_Pancreas.db --covariance /opt/data/data/phenomexcan/prediction_models/mashr/mashr_Pancreas.txt.gz --gwas_file /opt/data/projects/asthma-copd/results/final_imputed_gwas/GWAS_ACO_GLM_SNPs_info0.7-harmonized-imputed.txt.gz --separator '\t' --non_effect_allele_column non_effect_allele --effect_allele_column effect_allele --snp_column panel_variant_id --zscore_column zscore --keep_non_rsid --additional_output --model_db_snp_key varID --throw --output_file /opt/data/projects/asthma-copd/results/twas/spredixcan/GWAS_ACO_GLM_SNPs_info0.7-gtex_v8-mashr-Pancreas.csv\n",
      "+ set +x\n",
      "+ /opt/data/software/conda_envs/metaxcan/bin/python /opt/data/software/metaxcan/software/SPrediXcan.py --model_db_path /opt/data/data/phenomexcan/prediction_models/mashr/mashr_Esophagus_Muscularis.db --covariance /opt/data/data/phenomexcan/prediction_models/mashr/mashr_Esophagus_Muscularis.txt.gz --gwas_file /opt/data/projects/asthma-copd/results/final_imputed_gwas/GWAS_ACO_GLM_SNPs_info0.7-harmonized-imputed.txt.gz --separator '\t' --non_effect_allele_column non_effect_allele --effect_allele_column effect_allele --snp_column panel_variant_id --zscore_column zscore --keep_non_rsid --additional_output --model_db_snp_key varID --throw --output_file /opt/data/projects/asthma-copd/results/twas/spredixcan/GWAS_ACO_GLM_SNPs_info0.7-gtex_v8-mashr-Esophagus_Muscularis.csv\n",
      "+ set +x\n",
      "+ /opt/data/software/conda_envs/metaxcan/bin/python /opt/data/software/metaxcan/software/SPrediXcan.py --model_db_path /opt/data/data/phenomexcan/prediction_models/mashr/mashr_Brain_Substantia_nigra.db --covariance /opt/data/data/phenomexcan/prediction_models/mashr/mashr_Brain_Substantia_nigra.txt.gz --gwas_file /opt/data/projects/asthma-copd/results/final_imputed_gwas/GWAS_ACO_GLM_SNPs_info0.7-harmonized-imputed.txt.gz --separator '\t' --non_effect_allele_column non_effect_allele --effect_allele_column effect_allele --snp_column panel_variant_id --zscore_column zscore --keep_non_rsid --additional_output --model_db_snp_key varID --throw --output_file /opt/data/projects/asthma-copd/results/twas/spredixcan/GWAS_ACO_GLM_SNPs_info0.7-gtex_v8-mashr-Brain_Substantia_nigra.csv\n",
      "+ set +x\n",
      "+ /opt/data/software/conda_envs/metaxcan/bin/python /opt/data/software/metaxcan/software/SPrediXcan.py --model_db_path /opt/data/data/phenomexcan/prediction_models/mashr/mashr_Skin_Sun_Exposed_Lower_leg.db --covariance /opt/data/data/phenomexcan/prediction_models/mashr/mashr_Skin_Sun_Exposed_Lower_leg.txt.gz --gwas_file /opt/data/projects/asthma-copd/results/final_imputed_gwas/GWAS_ACO_GLM_SNPs_info0.7-harmonized-imputed.txt.gz --separator '\t' --non_effect_allele_column non_effect_allele --effect_allele_column effect_allele --snp_column panel_variant_id --zscore_column zscore --keep_non_rsid --additional_output --model_db_snp_key varID --throw --output_file /opt/data/projects/asthma-copd/results/twas/spredixcan/GWAS_ACO_GLM_SNPs_info0.7-gtex_v8-mashr-Skin_Sun_Exposed_Lower_leg.csv\n"
     ]
    },
    {
     "name": "stdout",
     "output_type": "stream",
     "text": [
      "WARNING - Some GWAS snp zscores are not finite.\n",
      "\n"
     ]
    },
    {
     "name": "stderr",
     "output_type": "stream",
     "text": [
      "+ set +x\n"
     ]
    },
    {
     "name": "stdout",
     "output_type": "stream",
     "text": [
      "Running for aco, Skin_Not_Sun_Exposed_Suprapubic\n",
      "Saving results in /opt/data/projects/asthma-copd/results/twas/spredixcan\n",
      "WARNING - Some GWAS snp zscores are not finite.\n",
      "\n",
      "Running for aco, Brain_Spinal_cord_cervical_c-1\n",
      "Saving results in /opt/data/projects/asthma-copd/results/twas/spredixcan\n",
      "WARNING - Some GWAS snp zscores are not finite.\n",
      "\n",
      "Running for aco, Spleen\n",
      "Saving results in /opt/data/projects/asthma-copd/results/twas/spredixcan\n",
      "WARNING - Some GWAS snp zscores are not finite.\n",
      "\n"
     ]
    },
    {
     "name": "stderr",
     "output_type": "stream",
     "text": [
      "+ /opt/data/software/conda_envs/metaxcan/bin/python /opt/data/software/metaxcan/software/SPrediXcan.py --model_db_path /opt/data/data/phenomexcan/prediction_models/mashr/mashr_Skin_Not_Sun_Exposed_Suprapubic.db --covariance /opt/data/data/phenomexcan/prediction_models/mashr/mashr_Skin_Not_Sun_Exposed_Suprapubic.txt.gz --gwas_file /opt/data/projects/asthma-copd/results/final_imputed_gwas/GWAS_ACO_GLM_SNPs_info0.7-harmonized-imputed.txt.gz --separator '\t' --non_effect_allele_column non_effect_allele --effect_allele_column effect_allele --snp_column panel_variant_id --zscore_column zscore --keep_non_rsid --additional_output --model_db_snp_key varID --throw --output_file /opt/data/projects/asthma-copd/results/twas/spredixcan/GWAS_ACO_GLM_SNPs_info0.7-gtex_v8-mashr-Skin_Not_Sun_Exposed_Suprapubic.csv\n",
      "+ set +x\n",
      "+ /opt/data/software/conda_envs/metaxcan/bin/python /opt/data/software/metaxcan/software/SPrediXcan.py --model_db_path /opt/data/data/phenomexcan/prediction_models/mashr/mashr_Brain_Spinal_cord_cervical_c-1.db --covariance /opt/data/data/phenomexcan/prediction_models/mashr/mashr_Brain_Spinal_cord_cervical_c-1.txt.gz --gwas_file /opt/data/projects/asthma-copd/results/final_imputed_gwas/GWAS_ACO_GLM_SNPs_info0.7-harmonized-imputed.txt.gz --separator '\t' --non_effect_allele_column non_effect_allele --effect_allele_column effect_allele --snp_column panel_variant_id --zscore_column zscore --keep_non_rsid --additional_output --model_db_snp_key varID --throw --output_file /opt/data/projects/asthma-copd/results/twas/spredixcan/GWAS_ACO_GLM_SNPs_info0.7-gtex_v8-mashr-Brain_Spinal_cord_cervical_c-1.csv\n",
      "+ set +x\n",
      "+ /opt/data/software/conda_envs/metaxcan/bin/python /opt/data/software/metaxcan/software/SPrediXcan.py --model_db_path /opt/data/data/phenomexcan/prediction_models/mashr/mashr_Spleen.db --covariance /opt/data/data/phenomexcan/prediction_models/mashr/mashr_Spleen.txt.gz --gwas_file /opt/data/projects/asthma-copd/results/final_imputed_gwas/GWAS_ACO_GLM_SNPs_info0.7-harmonized-imputed.txt.gz --separator '\t' --non_effect_allele_column non_effect_allele --effect_allele_column effect_allele --snp_column panel_variant_id --zscore_column zscore --keep_non_rsid --additional_output --model_db_snp_key varID --throw --output_file /opt/data/projects/asthma-copd/results/twas/spredixcan/GWAS_ACO_GLM_SNPs_info0.7-gtex_v8-mashr-Spleen.csv\n",
      "+ set +x\n"
     ]
    },
    {
     "name": "stdout",
     "output_type": "stream",
     "text": [
      "Running for aco, Cells_EBV-transformed_lymphocytes\n",
      "Saving results in /opt/data/projects/asthma-copd/results/twas/spredixcan\n",
      "WARNING - Some GWAS snp zscores are not finite.\n",
      "\n",
      "Running for aco, Vagina\n",
      "Saving results in /opt/data/projects/asthma-copd/results/twas/spredixcan\n",
      "WARNING - Some GWAS snp zscores are not finite.\n",
      "\n",
      "Running for aco, Colon_Sigmoid\n",
      "Saving results in /opt/data/projects/asthma-copd/results/twas/spredixcan\n",
      "WARNING - Some GWAS snp zscores are not finite.\n",
      "\n",
      "Running for aco, Brain_Caudate_basal_ganglia\n",
      "Saving results in /opt/data/projects/asthma-copd/results/twas/spredixcan\n",
      "WARNING - Some GWAS snp zscores are not finite.\n",
      "\n",
      "Running for aco, Brain_Nucleus_accumbens_basal_ganglia\n",
      "Saving results in /opt/data/projects/asthma-copd/results/twas/spredixcan\n"
     ]
    },
    {
     "name": "stderr",
     "output_type": "stream",
     "text": [
      "+ /opt/data/software/conda_envs/metaxcan/bin/python /opt/data/software/metaxcan/software/SPrediXcan.py --model_db_path /opt/data/data/phenomexcan/prediction_models/mashr/mashr_Cells_EBV-transformed_lymphocytes.db --covariance /opt/data/data/phenomexcan/prediction_models/mashr/mashr_Cells_EBV-transformed_lymphocytes.txt.gz --gwas_file /opt/data/projects/asthma-copd/results/final_imputed_gwas/GWAS_ACO_GLM_SNPs_info0.7-harmonized-imputed.txt.gz --separator '\t' --non_effect_allele_column non_effect_allele --effect_allele_column effect_allele --snp_column panel_variant_id --zscore_column zscore --keep_non_rsid --additional_output --model_db_snp_key varID --throw --output_file /opt/data/projects/asthma-copd/results/twas/spredixcan/GWAS_ACO_GLM_SNPs_info0.7-gtex_v8-mashr-Cells_EBV-transformed_lymphocytes.csv\n",
      "+ set +x\n",
      "+ /opt/data/software/conda_envs/metaxcan/bin/python /opt/data/software/metaxcan/software/SPrediXcan.py --model_db_path /opt/data/data/phenomexcan/prediction_models/mashr/mashr_Vagina.db --covariance /opt/data/data/phenomexcan/prediction_models/mashr/mashr_Vagina.txt.gz --gwas_file /opt/data/projects/asthma-copd/results/final_imputed_gwas/GWAS_ACO_GLM_SNPs_info0.7-harmonized-imputed.txt.gz --separator '\t' --non_effect_allele_column non_effect_allele --effect_allele_column effect_allele --snp_column panel_variant_id --zscore_column zscore --keep_non_rsid --additional_output --model_db_snp_key varID --throw --output_file /opt/data/projects/asthma-copd/results/twas/spredixcan/GWAS_ACO_GLM_SNPs_info0.7-gtex_v8-mashr-Vagina.csv\n",
      "+ set +x\n",
      "+ /opt/data/software/conda_envs/metaxcan/bin/python /opt/data/software/metaxcan/software/SPrediXcan.py --model_db_path /opt/data/data/phenomexcan/prediction_models/mashr/mashr_Colon_Sigmoid.db --covariance /opt/data/data/phenomexcan/prediction_models/mashr/mashr_Colon_Sigmoid.txt.gz --gwas_file /opt/data/projects/asthma-copd/results/final_imputed_gwas/GWAS_ACO_GLM_SNPs_info0.7-harmonized-imputed.txt.gz --separator '\t' --non_effect_allele_column non_effect_allele --effect_allele_column effect_allele --snp_column panel_variant_id --zscore_column zscore --keep_non_rsid --additional_output --model_db_snp_key varID --throw --output_file /opt/data/projects/asthma-copd/results/twas/spredixcan/GWAS_ACO_GLM_SNPs_info0.7-gtex_v8-mashr-Colon_Sigmoid.csv\n",
      "+ set +x\n",
      "+ /opt/data/software/conda_envs/metaxcan/bin/python /opt/data/software/metaxcan/software/SPrediXcan.py --model_db_path /opt/data/data/phenomexcan/prediction_models/mashr/mashr_Brain_Caudate_basal_ganglia.db --covariance /opt/data/data/phenomexcan/prediction_models/mashr/mashr_Brain_Caudate_basal_ganglia.txt.gz --gwas_file /opt/data/projects/asthma-copd/results/final_imputed_gwas/GWAS_ACO_GLM_SNPs_info0.7-harmonized-imputed.txt.gz --separator '\t' --non_effect_allele_column non_effect_allele --effect_allele_column effect_allele --snp_column panel_variant_id --zscore_column zscore --keep_non_rsid --additional_output --model_db_snp_key varID --throw --output_file /opt/data/projects/asthma-copd/results/twas/spredixcan/GWAS_ACO_GLM_SNPs_info0.7-gtex_v8-mashr-Brain_Caudate_basal_ganglia.csv\n",
      "+ set +x\n",
      "+ /opt/data/software/conda_envs/metaxcan/bin/python /opt/data/software/metaxcan/software/SPrediXcan.py --model_db_path /opt/data/data/phenomexcan/prediction_models/mashr/mashr_Brain_Nucleus_accumbens_basal_ganglia.db --covariance /opt/data/data/phenomexcan/prediction_models/mashr/mashr_Brain_Nucleus_accumbens_basal_ganglia.txt.gz --gwas_file /opt/data/projects/asthma-copd/results/final_imputed_gwas/GWAS_ACO_GLM_SNPs_info0.7-harmonized-imputed.txt.gz --separator '\t' --non_effect_allele_column non_effect_allele --effect_allele_column effect_allele --snp_column panel_variant_id --zscore_column zscore --keep_non_rsid --additional_output --model_db_snp_key varID --throw --output_file /opt/data/projects/asthma-copd/results/twas/spredixcan/GWAS_ACO_GLM_SNPs_info0.7-gtex_v8-mashr-Brain_Nucleus_accumbens_basal_ganglia.csv\n"
     ]
    },
    {
     "name": "stdout",
     "output_type": "stream",
     "text": [
      "WARNING - Some GWAS snp zscores are not finite.\n",
      "\n"
     ]
    },
    {
     "name": "stderr",
     "output_type": "stream",
     "text": [
      "+ set +x\n"
     ]
    },
    {
     "name": "stdout",
     "output_type": "stream",
     "text": [
      "Running for aco, Esophagus_Mucosa\n",
      "Saving results in /opt/data/projects/asthma-copd/results/twas/spredixcan\n"
     ]
    },
    {
     "name": "stderr",
     "output_type": "stream",
     "text": [
      "+ /opt/data/software/conda_envs/metaxcan/bin/python /opt/data/software/metaxcan/software/SPrediXcan.py --model_db_path /opt/data/data/phenomexcan/prediction_models/mashr/mashr_Esophagus_Mucosa.db --covariance /opt/data/data/phenomexcan/prediction_models/mashr/mashr_Esophagus_Mucosa.txt.gz --gwas_file /opt/data/projects/asthma-copd/results/final_imputed_gwas/GWAS_ACO_GLM_SNPs_info0.7-harmonized-imputed.txt.gz --separator '\t' --non_effect_allele_column non_effect_allele --effect_allele_column effect_allele --snp_column panel_variant_id --zscore_column zscore --keep_non_rsid --additional_output --model_db_snp_key varID --throw --output_file /opt/data/projects/asthma-copd/results/twas/spredixcan/GWAS_ACO_GLM_SNPs_info0.7-gtex_v8-mashr-Esophagus_Mucosa.csv\n"
     ]
    },
    {
     "name": "stdout",
     "output_type": "stream",
     "text": [
      "WARNING - Some GWAS snp zscores are not finite.\n",
      "\n"
     ]
    },
    {
     "name": "stderr",
     "output_type": "stream",
     "text": [
      "+ set +x\n"
     ]
    },
    {
     "name": "stdout",
     "output_type": "stream",
     "text": [
      "Running for aco, Colon_Transverse\n",
      "Saving results in /opt/data/projects/asthma-copd/results/twas/spredixcan\n"
     ]
    },
    {
     "name": "stderr",
     "output_type": "stream",
     "text": [
      "+ /opt/data/software/conda_envs/metaxcan/bin/python /opt/data/software/metaxcan/software/SPrediXcan.py --model_db_path /opt/data/data/phenomexcan/prediction_models/mashr/mashr_Colon_Transverse.db --covariance /opt/data/data/phenomexcan/prediction_models/mashr/mashr_Colon_Transverse.txt.gz --gwas_file /opt/data/projects/asthma-copd/results/final_imputed_gwas/GWAS_ACO_GLM_SNPs_info0.7-harmonized-imputed.txt.gz --separator '\t' --non_effect_allele_column non_effect_allele --effect_allele_column effect_allele --snp_column panel_variant_id --zscore_column zscore --keep_non_rsid --additional_output --model_db_snp_key varID --throw --output_file /opt/data/projects/asthma-copd/results/twas/spredixcan/GWAS_ACO_GLM_SNPs_info0.7-gtex_v8-mashr-Colon_Transverse.csv\n"
     ]
    },
    {
     "name": "stdout",
     "output_type": "stream",
     "text": [
      "WARNING - Some GWAS snp zscores are not finite.\n",
      "\n"
     ]
    },
    {
     "name": "stderr",
     "output_type": "stream",
     "text": [
      "+ set +x\n"
     ]
    },
    {
     "name": "stdout",
     "output_type": "stream",
     "text": [
      "Running for aco, Adrenal_Gland\n",
      "Saving results in /opt/data/projects/asthma-copd/results/twas/spredixcan\n",
      "WARNING - Some GWAS snp zscores are not finite.\n",
      "\n",
      "Running for aco, Lung\n",
      "Saving results in /opt/data/projects/asthma-copd/results/twas/spredixcan\n"
     ]
    },
    {
     "name": "stderr",
     "output_type": "stream",
     "text": [
      "+ /opt/data/software/conda_envs/metaxcan/bin/python /opt/data/software/metaxcan/software/SPrediXcan.py --model_db_path /opt/data/data/phenomexcan/prediction_models/mashr/mashr_Adrenal_Gland.db --covariance /opt/data/data/phenomexcan/prediction_models/mashr/mashr_Adrenal_Gland.txt.gz --gwas_file /opt/data/projects/asthma-copd/results/final_imputed_gwas/GWAS_ACO_GLM_SNPs_info0.7-harmonized-imputed.txt.gz --separator '\t' --non_effect_allele_column non_effect_allele --effect_allele_column effect_allele --snp_column panel_variant_id --zscore_column zscore --keep_non_rsid --additional_output --model_db_snp_key varID --throw --output_file /opt/data/projects/asthma-copd/results/twas/spredixcan/GWAS_ACO_GLM_SNPs_info0.7-gtex_v8-mashr-Adrenal_Gland.csv\n",
      "+ set +x\n",
      "+ /opt/data/software/conda_envs/metaxcan/bin/python /opt/data/software/metaxcan/software/SPrediXcan.py --model_db_path /opt/data/data/phenomexcan/prediction_models/mashr/mashr_Lung.db --covariance /opt/data/data/phenomexcan/prediction_models/mashr/mashr_Lung.txt.gz --gwas_file /opt/data/projects/asthma-copd/results/final_imputed_gwas/GWAS_ACO_GLM_SNPs_info0.7-harmonized-imputed.txt.gz --separator '\t' --non_effect_allele_column non_effect_allele --effect_allele_column effect_allele --snp_column panel_variant_id --zscore_column zscore --keep_non_rsid --additional_output --model_db_snp_key varID --throw --output_file /opt/data/projects/asthma-copd/results/twas/spredixcan/GWAS_ACO_GLM_SNPs_info0.7-gtex_v8-mashr-Lung.csv\n"
     ]
    },
    {
     "name": "stdout",
     "output_type": "stream",
     "text": [
      "WARNING - Some GWAS snp zscores are not finite.\n",
      "\n"
     ]
    },
    {
     "name": "stderr",
     "output_type": "stream",
     "text": [
      "+ set +x\n"
     ]
    },
    {
     "name": "stdout",
     "output_type": "stream",
     "text": [
      "Running for aco, Ovary\n",
      "Saving results in /opt/data/projects/asthma-copd/results/twas/spredixcan\n",
      "WARNING - Some GWAS snp zscores are not finite.\n",
      "\n"
     ]
    },
    {
     "name": "stderr",
     "output_type": "stream",
     "text": [
      "+ /opt/data/software/conda_envs/metaxcan/bin/python /opt/data/software/metaxcan/software/SPrediXcan.py --model_db_path /opt/data/data/phenomexcan/prediction_models/mashr/mashr_Ovary.db --covariance /opt/data/data/phenomexcan/prediction_models/mashr/mashr_Ovary.txt.gz --gwas_file /opt/data/projects/asthma-copd/results/final_imputed_gwas/GWAS_ACO_GLM_SNPs_info0.7-harmonized-imputed.txt.gz --separator '\t' --non_effect_allele_column non_effect_allele --effect_allele_column effect_allele --snp_column panel_variant_id --zscore_column zscore --keep_non_rsid --additional_output --model_db_snp_key varID --throw --output_file /opt/data/projects/asthma-copd/results/twas/spredixcan/GWAS_ACO_GLM_SNPs_info0.7-gtex_v8-mashr-Ovary.csv\n",
      "+ set +x\n"
     ]
    },
    {
     "name": "stdout",
     "output_type": "stream",
     "text": [
      "Running for aco, Cells_Cultured_fibroblasts\n",
      "Saving results in /opt/data/projects/asthma-copd/results/twas/spredixcan\n"
     ]
    },
    {
     "name": "stderr",
     "output_type": "stream",
     "text": [
      "+ /opt/data/software/conda_envs/metaxcan/bin/python /opt/data/software/metaxcan/software/SPrediXcan.py --model_db_path /opt/data/data/phenomexcan/prediction_models/mashr/mashr_Cells_Cultured_fibroblasts.db --covariance /opt/data/data/phenomexcan/prediction_models/mashr/mashr_Cells_Cultured_fibroblasts.txt.gz --gwas_file /opt/data/projects/asthma-copd/results/final_imputed_gwas/GWAS_ACO_GLM_SNPs_info0.7-harmonized-imputed.txt.gz --separator '\t' --non_effect_allele_column non_effect_allele --effect_allele_column effect_allele --snp_column panel_variant_id --zscore_column zscore --keep_non_rsid --additional_output --model_db_snp_key varID --throw --output_file /opt/data/projects/asthma-copd/results/twas/spredixcan/GWAS_ACO_GLM_SNPs_info0.7-gtex_v8-mashr-Cells_Cultured_fibroblasts.csv\n"
     ]
    },
    {
     "name": "stdout",
     "output_type": "stream",
     "text": [
      "WARNING - Some GWAS snp zscores are not finite.\n",
      "\n"
     ]
    },
    {
     "name": "stderr",
     "output_type": "stream",
     "text": [
      "+ set +x\n"
     ]
    },
    {
     "name": "stdout",
     "output_type": "stream",
     "text": [
      "Running for aco, Pituitary\n",
      "Saving results in /opt/data/projects/asthma-copd/results/twas/spredixcan\n"
     ]
    },
    {
     "name": "stderr",
     "output_type": "stream",
     "text": [
      "+ /opt/data/software/conda_envs/metaxcan/bin/python /opt/data/software/metaxcan/software/SPrediXcan.py --model_db_path /opt/data/data/phenomexcan/prediction_models/mashr/mashr_Pituitary.db --covariance /opt/data/data/phenomexcan/prediction_models/mashr/mashr_Pituitary.txt.gz --gwas_file /opt/data/projects/asthma-copd/results/final_imputed_gwas/GWAS_ACO_GLM_SNPs_info0.7-harmonized-imputed.txt.gz --separator '\t' --non_effect_allele_column non_effect_allele --effect_allele_column effect_allele --snp_column panel_variant_id --zscore_column zscore --keep_non_rsid --additional_output --model_db_snp_key varID --throw --output_file /opt/data/projects/asthma-copd/results/twas/spredixcan/GWAS_ACO_GLM_SNPs_info0.7-gtex_v8-mashr-Pituitary.csv\n"
     ]
    },
    {
     "name": "stdout",
     "output_type": "stream",
     "text": [
      "WARNING - Some GWAS snp zscores are not finite.\n",
      "\n"
     ]
    },
    {
     "name": "stderr",
     "output_type": "stream",
     "text": [
      "+ set +x\n"
     ]
    },
    {
     "name": "stdout",
     "output_type": "stream",
     "text": [
      "Running for aco, Kidney_Cortex\n",
      "Saving results in /opt/data/projects/asthma-copd/results/twas/spredixcan\n",
      "WARNING - Some GWAS snp zscores are not finite.\n",
      "\n"
     ]
    },
    {
     "name": "stderr",
     "output_type": "stream",
     "text": [
      "+ /opt/data/software/conda_envs/metaxcan/bin/python /opt/data/software/metaxcan/software/SPrediXcan.py --model_db_path /opt/data/data/phenomexcan/prediction_models/mashr/mashr_Kidney_Cortex.db --covariance /opt/data/data/phenomexcan/prediction_models/mashr/mashr_Kidney_Cortex.txt.gz --gwas_file /opt/data/projects/asthma-copd/results/final_imputed_gwas/GWAS_ACO_GLM_SNPs_info0.7-harmonized-imputed.txt.gz --separator '\t' --non_effect_allele_column non_effect_allele --effect_allele_column effect_allele --snp_column panel_variant_id --zscore_column zscore --keep_non_rsid --additional_output --model_db_snp_key varID --throw --output_file /opt/data/projects/asthma-copd/results/twas/spredixcan/GWAS_ACO_GLM_SNPs_info0.7-gtex_v8-mashr-Kidney_Cortex.csv\n",
      "+ set +x\n"
     ]
    }
   ],
   "source": [
    "%%bash -s \"$PHENOPLIER_NOTEBOOK_DIR\" \"$OUTPUT_DIR_STR\"\n",
    "set -euo pipefail\n",
    "# IFS=$'\\n\\t'\n",
    "\n",
    "# read the notebook directory parameter and remove $1\n",
    "export PHENOPLIER_NOTEBOOK_DIR=\"${PHENOPLIER_CODE_DIR}/$1\"\n",
    "shift\n",
    "\n",
    "# read output dir\n",
    "export OUTPUT_DIR=\"$1\"\n",
    "shift\n",
    "\n",
    "run_job () {\n",
    "    # run_job is a standard function name that performs a particular job\n",
    "    # depending on the context. It will be called by GNU Parallel below.\n",
    "    #\n",
    "    # The implementation here runs the GLS model of PhenoPLIER on a trait.\n",
    "\n",
    "    # read trait information\n",
    "    # the first parameter to this function is a string with values separated by\n",
    "    # commas (,). So here I split those into different variables.\n",
    "    IFS=',' read -r pheno_id file sample_size n_cases tissue <<< \"$1\"\n",
    "\n",
    "    INPUT_FILENAME=${file%.*}\n",
    "\n",
    "    # get input GWAS file, there should be a single file\n",
    "    # here I make sure that there are no other files in the folder that\n",
    "    # match this phenotype/trait filename prefix\n",
    "    GWAS_DIR=\"${PHENOPLIER_PROJECTS_ASTHMA_COPD_RESULTS_DIR}/final_imputed_gwas\"\n",
    "    N_GWAS_FILES=$(ls ${GWAS_DIR}/${INPUT_FILENAME}*.txt.gz | wc -l)\n",
    "    if [ \"${N_GWAS_FILES}\" != \"1\" ]; then\n",
    "        echo \"ERROR: found ${N_GWAS_FILES} GWAS files instead of one\"\n",
    "        exit 1\n",
    "    fi\n",
    "    INPUT_GWAS_FILEPATH=$(ls ${GWAS_DIR}/${INPUT_FILENAME}*.txt.gz)\n",
    "\n",
    "    mkdir -p \"${OUTPUT_DIR}\"\n",
    "\n",
    "    # make sure we are not also parallelizing within numpy, etc\n",
    "    export NUMBA_NUM_THREADS=1\n",
    "    export MKL_NUM_THREADS=1\n",
    "    export OPEN_BLAS_NUM_THREADS=1\n",
    "    export NUMEXPR_NUM_THREADS=1\n",
    "    export OMP_NUM_THREADS=1\n",
    "\n",
    "    echo \"Running for $pheno_id, $tissue\"\n",
    "    echo \"Saving results in ${OUTPUT_DIR}\"\n",
    "\n",
    "    bash \"${PHENOPLIER_CODE_DIR}/scripts/twas_spredixcan.sh\" \\\n",
    "        --input-gwas-file \"${INPUT_GWAS_FILEPATH}\" \\\n",
    "        --phenotype-name \"${INPUT_FILENAME}\" \\\n",
    "        --tissue \"${tissue}\" \\\n",
    "        --output-dir \"${OUTPUT_DIR}\"\n",
    "\n",
    "    # print errors here in the notebook\n",
    "    # first, look for the log file for this trait\n",
    "    pattern=\"${OUTPUT_DIR}/${INPUT_FILENAME}-gtex_v8-mashr-${tissue}*.log\"\n",
    "\n",
    "    N_LOG_FILES=$(ls ${pattern} | wc -l)\n",
    "    if [ \"${N_LOG_FILES}\" != \"1\" ]; then\n",
    "        echo \"ERROR: found ${N_LOG_FILES} log files instead of one\"\n",
    "        exit 1\n",
    "    fi\n",
    "    LOG_FILE=$(ls ${pattern})\n",
    "\n",
    "    cat \"${LOG_FILE}\" | grep -iE \"warning|error\"\n",
    "\n",
    "    echo\n",
    "}\n",
    "\n",
    "# export function so GNU Parallel can see it\n",
    "export -f run_job\n",
    "\n",
    "# generate a list of run_job calls for GNU Parallel\n",
    "# here I read a file with information about traits (one trait per line)\n",
    "while IFS= read -r line; do\n",
    "    for tissue in ${PHENOPLIER_PHENOMEXCAN_PREDICTION_MODELS_MASHR_TISSUES}; do\n",
    "        echo run_job \"${line},${tissue}\"\n",
    "    done\n",
    "done < <(tail -n \"+2\" \"${PHENOPLIER_PROJECTS_ASTHMA_COPD_TRAITS_INFO_FILE}\") |\n",
    "    parallel -k --lb --halt 2 -j${PHENOPLIER_GENERAL_N_JOBS}"
   ]
  },
  {
   "cell_type": "markdown",
   "id": "b9de8ab0-1d95-4d08-82bb-376e704fd0df",
   "metadata": {
    "papermill": {
     "duration": 0.023779,
     "end_time": "2022-12-15T17:05:54.753793",
     "exception": false,
     "start_time": "2022-12-15T17:05:54.730014",
     "status": "completed"
    },
    "tags": []
   },
   "source": [
    "# Perform some checks in output and log files"
   ]
  },
  {
   "cell_type": "code",
   "execution_count": 7,
   "id": "a48b5427-95ab-4d89-9b09-ea9f2344a6af",
   "metadata": {
    "execution": {
     "iopub.execute_input": "2022-12-15T17:05:54.801733Z",
     "iopub.status.busy": "2022-12-15T17:05:54.801575Z",
     "iopub.status.idle": "2022-12-15T17:05:54.804978Z",
     "shell.execute_reply": "2022-12-15T17:05:54.804427Z"
    },
    "papermill": {
     "duration": 0.028527,
     "end_time": "2022-12-15T17:05:54.805882",
     "exception": false,
     "start_time": "2022-12-15T17:05:54.777355",
     "status": "completed"
    },
    "tags": []
   },
   "outputs": [],
   "source": [
    "assert OUTPUT_DIR.exists()"
   ]
  },
  {
   "cell_type": "code",
   "execution_count": 8,
   "id": "6d2b50d0-fc92-46fd-a48c-8748ad04d014",
   "metadata": {
    "execution": {
     "iopub.execute_input": "2022-12-15T17:05:54.853793Z",
     "iopub.status.busy": "2022-12-15T17:05:54.853637Z",
     "iopub.status.idle": "2022-12-15T17:05:54.856609Z",
     "shell.execute_reply": "2022-12-15T17:05:54.856053Z"
    },
    "papermill": {
     "duration": 0.028172,
     "end_time": "2022-12-15T17:05:54.857517",
     "exception": false,
     "start_time": "2022-12-15T17:05:54.829345",
     "status": "completed"
    },
    "tags": []
   },
   "outputs": [],
   "source": [
    "log_files = OUTPUT_DIR.glob(\"*.log\")"
   ]
  },
  {
   "cell_type": "code",
   "execution_count": 9,
   "id": "01b58633-03fd-48c3-b95d-d1d37f19bd9c",
   "metadata": {
    "execution": {
     "iopub.execute_input": "2022-12-15T17:05:54.907840Z",
     "iopub.status.busy": "2022-12-15T17:05:54.907367Z",
     "iopub.status.idle": "2022-12-15T17:05:54.917089Z",
     "shell.execute_reply": "2022-12-15T17:05:54.916551Z"
    },
    "papermill": {
     "duration": 0.035667,
     "end_time": "2022-12-15T17:05:54.917948",
     "exception": false,
     "start_time": "2022-12-15T17:05:54.882281",
     "status": "completed"
    },
    "tags": []
   },
   "outputs": [],
   "source": [
    "for f in log_files:\n",
    "    read_log_file_and_check_line_exists(\n",
    "        f,\n",
    "        [\n",
    "            \"INFO - 90 % of model's snps found\",\n",
    "            \"INFO - Sucessfully processed metaxcan association\",\n",
    "        ],\n",
    "    )"
   ]
  }
 ],
 "metadata": {
  "jupytext": {
   "cell_metadata_filter": "all,-execution,-papermill,-trusted"
  },
  "kernelspec": {
   "display_name": "Python 3 (ipykernel)",
   "language": "python",
   "name": "python3"
  },
  "language_info": {
   "codemirror_mode": {
    "name": "ipython",
    "version": 3
   },
   "file_extension": ".py",
   "mimetype": "text/x-python",
   "name": "python",
   "nbconvert_exporter": "python",
   "pygments_lexer": "ipython3",
   "version": "3.10.6"
  },
  "papermill": {
   "default_parameters": {},
   "duration": 150.279464,
   "end_time": "2022-12-15T17:05:55.157134",
   "environment_variables": {},
   "exception": null,
   "input_path": "projects/asthma-copd/nbs/15_twas/01-run_spredixcan.ipynb",
   "output_path": "projects/asthma-copd/nbs/15_twas/01-run_spredixcan.run.ipynb",
   "parameters": {
    "PHENOPLIER_NOTEBOOK_FILEPATH": "projects/asthma-copd/nbs/15_twas/01-run_spredixcan.ipynb"
   },
   "start_time": "2022-12-15T17:03:24.877670",
   "version": "2.3.4"
  }
 },
 "nbformat": 4,
 "nbformat_minor": 5
}
