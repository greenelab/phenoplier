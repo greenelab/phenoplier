{
 "cells": [
  {
   "cell_type": "markdown",
   "id": "c935aa7e-fde1-4d1c-b2d7-8c7ee611b1ed",
   "metadata": {
    "papermill": {
     "duration": 0.003641,
     "end_time": "2022-12-13T15:54:53.001108",
     "exception": false,
     "start_time": "2022-12-13T15:54:52.997467",
     "status": "completed"
    },
    "tags": []
   },
   "source": [
    "# Description"
   ]
  },
  {
   "cell_type": "markdown",
   "id": "f66770f7-0585-480b-8daa-1483bc37b494",
   "metadata": {
    "papermill": {
     "duration": 0.003767,
     "end_time": "2022-12-13T15:54:53.014295",
     "exception": false,
     "start_time": "2022-12-13T15:54:53.010528",
     "status": "completed"
    },
    "tags": []
   },
   "source": [
    "**TODO: UPDATE**\n",
    "\n",
    "It read all gene-gene correlation matrices across chromosomes, performs some tests and saves a final, singla gene-gene correlation matrix."
   ]
  },
  {
   "cell_type": "markdown",
   "id": "d389dd7b-20d8-44ed-8053-6e2cd8efea2e",
   "metadata": {
    "papermill": {
     "duration": 0.002743,
     "end_time": "2022-12-13T15:54:53.019930",
     "exception": false,
     "start_time": "2022-12-13T15:54:53.017187",
     "status": "completed"
    },
    "tags": []
   },
   "source": [
    "# Modules"
   ]
  },
  {
   "cell_type": "code",
   "execution_count": 1,
   "id": "69797656-0db2-41d5-b4d6-63c24d47ad38",
   "metadata": {
    "execution": {
     "iopub.execute_input": "2022-12-13T15:54:53.027328Z",
     "iopub.status.busy": "2022-12-13T15:54:53.026879Z",
     "iopub.status.idle": "2022-12-13T15:54:53.061714Z",
     "shell.execute_reply": "2022-12-13T15:54:53.061129Z"
    },
    "papermill": {
     "duration": 0.040452,
     "end_time": "2022-12-13T15:54:53.063244",
     "exception": false,
     "start_time": "2022-12-13T15:54:53.022792",
     "status": "completed"
    },
    "tags": []
   },
   "outputs": [],
   "source": [
    "import os\n",
    "from glob import glob\n",
    "from pathlib import Path\n",
    "\n",
    "from utils import read_log_file_and_check_line_exists\n",
    "import conf"
   ]
  },
  {
   "cell_type": "markdown",
   "id": "dd17aa24-a692-4f62-ac69-c270447c7729",
   "metadata": {
    "papermill": {
     "duration": 0.00287,
     "end_time": "2022-12-13T15:54:53.069201",
     "exception": false,
     "start_time": "2022-12-13T15:54:53.066331",
     "status": "completed"
    },
    "tags": []
   },
   "source": [
    "# Settings"
   ]
  },
  {
   "cell_type": "markdown",
   "id": "3829ee6c-68b6-445e-adce-aa7a6280a56c",
   "metadata": {
    "papermill": {
     "duration": 0.002775,
     "end_time": "2022-12-13T15:54:53.074896",
     "exception": false,
     "start_time": "2022-12-13T15:54:53.072121",
     "status": "completed"
    },
    "tags": []
   },
   "source": [
    "Apparently, there is no easy way to get the parent directory of\n",
    "a notebook in Jupyter, so here I get that information either from\n",
    "the parameter sent by `nbs/run_nbs.sh` (if called from command-line) or\n",
    "from `os.getcwd()` (if called from browser)."
   ]
  },
  {
   "cell_type": "code",
   "execution_count": 2,
   "id": "e8f8093f-7738-448a-b29d-e9059684fcd1",
   "metadata": {
    "execution": {
     "iopub.execute_input": "2022-12-13T15:54:53.082253Z",
     "iopub.status.busy": "2022-12-13T15:54:53.081780Z",
     "iopub.status.idle": "2022-12-13T15:54:53.084913Z",
     "shell.execute_reply": "2022-12-13T15:54:53.084369Z"
    },
    "papermill": {
     "duration": 0.008394,
     "end_time": "2022-12-13T15:54:53.086296",
     "exception": false,
     "start_time": "2022-12-13T15:54:53.077902",
     "status": "completed"
    },
    "tags": [
     "parameters"
    ]
   },
   "outputs": [],
   "source": [
    "PHENOPLIER_NOTEBOOK_FILEPATH = None\n",
    "PHENOPLIER_NOTEBOOK_DIR = os.getcwd()"
   ]
  },
  {
   "cell_type": "code",
   "execution_count": 3,
   "id": "54b3bb31",
   "metadata": {
    "execution": {
     "iopub.execute_input": "2022-12-13T15:54:53.093877Z",
     "iopub.status.busy": "2022-12-13T15:54:53.093430Z",
     "iopub.status.idle": "2022-12-13T15:54:53.096381Z",
     "shell.execute_reply": "2022-12-13T15:54:53.095841Z"
    },
    "lines_to_next_cell": 2,
    "papermill": {
     "duration": 0.008468,
     "end_time": "2022-12-13T15:54:53.097769",
     "exception": false,
     "start_time": "2022-12-13T15:54:53.089301",
     "status": "completed"
    },
    "tags": [
     "injected-parameters"
    ]
   },
   "outputs": [],
   "source": [
    "# Parameters\n",
    "PHENOPLIER_NOTEBOOK_FILEPATH = (\n",
    "    \"projects/asthma-copd/nbs/15_twas/05-run_smultixcan.ipynb\"\n",
    ")"
   ]
  },
  {
   "cell_type": "code",
   "execution_count": 4,
   "id": "80437810-fd28-40ba-8dab-f60424764bfd",
   "metadata": {
    "execution": {
     "iopub.execute_input": "2022-12-13T15:54:53.105449Z",
     "iopub.status.busy": "2022-12-13T15:54:53.105074Z",
     "iopub.status.idle": "2022-12-13T15:54:53.114960Z",
     "shell.execute_reply": "2022-12-13T15:54:53.114406Z"
    },
    "papermill": {
     "duration": 0.014992,
     "end_time": "2022-12-13T15:54:53.116386",
     "exception": false,
     "start_time": "2022-12-13T15:54:53.101394",
     "status": "completed"
    },
    "tags": []
   },
   "outputs": [
    {
     "data": {
      "text/plain": [
       "'projects/asthma-copd/nbs/15_twas'"
      ]
     },
     "metadata": {},
     "output_type": "display_data"
    }
   ],
   "source": [
    "if PHENOPLIER_NOTEBOOK_FILEPATH is not None:\n",
    "    PHENOPLIER_NOTEBOOK_DIR = str(Path(PHENOPLIER_NOTEBOOK_FILEPATH).parent)\n",
    "\n",
    "display(PHENOPLIER_NOTEBOOK_DIR)"
   ]
  },
  {
   "cell_type": "code",
   "execution_count": 5,
   "id": "f4601810-04cf-44cc-a27b-c85724827b11",
   "metadata": {
    "execution": {
     "iopub.execute_input": "2022-12-13T15:54:53.124116Z",
     "iopub.status.busy": "2022-12-13T15:54:53.123596Z",
     "iopub.status.idle": "2022-12-13T15:54:53.129617Z",
     "shell.execute_reply": "2022-12-13T15:54:53.129067Z"
    },
    "papermill": {
     "duration": 0.011316,
     "end_time": "2022-12-13T15:54:53.130943",
     "exception": false,
     "start_time": "2022-12-13T15:54:53.119627",
     "status": "completed"
    },
    "tags": []
   },
   "outputs": [
    {
     "data": {
      "text/plain": [
       "PosixPath('/opt/data/projects/asthma-copd/results/twas/spredixcan')"
      ]
     },
     "metadata": {},
     "output_type": "display_data"
    },
    {
     "data": {
      "text/plain": [
       "'/opt/data/projects/asthma-copd/results/twas/spredixcan'"
      ]
     },
     "metadata": {},
     "output_type": "display_data"
    }
   ],
   "source": [
    "SPREDIXCAN_DIR = conf.PROJECTS[\"ASTHMA_COPD\"][\"RESULTS_DIR\"] / \"twas\" / \"spredixcan\"\n",
    "display(SPREDIXCAN_DIR)\n",
    "assert SPREDIXCAN_DIR.exists()\n",
    "\n",
    "SPREDIXCAN_DIR_STR = str(SPREDIXCAN_DIR)\n",
    "display(SPREDIXCAN_DIR_STR)"
   ]
  },
  {
   "cell_type": "code",
   "execution_count": 6,
   "id": "7614a44c-cbef-48f5-a011-0876875d20eb",
   "metadata": {
    "execution": {
     "iopub.execute_input": "2022-12-13T15:54:53.139188Z",
     "iopub.status.busy": "2022-12-13T15:54:53.138761Z",
     "iopub.status.idle": "2022-12-13T15:54:53.144216Z",
     "shell.execute_reply": "2022-12-13T15:54:53.143691Z"
    },
    "papermill": {
     "duration": 0.011079,
     "end_time": "2022-12-13T15:54:53.145626",
     "exception": false,
     "start_time": "2022-12-13T15:54:53.134547",
     "status": "completed"
    },
    "tags": []
   },
   "outputs": [
    {
     "data": {
      "text/plain": [
       "PosixPath('/opt/data/projects/asthma-copd/results/twas/smultixcan')"
      ]
     },
     "metadata": {},
     "output_type": "display_data"
    },
    {
     "data": {
      "text/plain": [
       "'/opt/data/projects/asthma-copd/results/twas/smultixcan'"
      ]
     },
     "metadata": {},
     "output_type": "display_data"
    }
   ],
   "source": [
    "OUTPUT_DIR = conf.PROJECTS[\"ASTHMA_COPD\"][\"RESULTS_DIR\"] / \"twas\" / \"smultixcan\"\n",
    "display(OUTPUT_DIR)\n",
    "\n",
    "OUTPUT_DIR_STR = str(OUTPUT_DIR)\n",
    "display(OUTPUT_DIR_STR)"
   ]
  },
  {
   "cell_type": "markdown",
   "id": "3a558eec-2251-4be7-a754-1f98adde3aec",
   "metadata": {
    "papermill": {
     "duration": 0.003588,
     "end_time": "2022-12-13T15:54:53.152766",
     "exception": false,
     "start_time": "2022-12-13T15:54:53.149178",
     "status": "completed"
    },
    "tags": []
   },
   "source": [
    "# Run"
   ]
  },
  {
   "cell_type": "code",
   "execution_count": 7,
   "id": "0c0cd3d9-b032-4f03-82eb-0017a0ef1cca",
   "metadata": {
    "execution": {
     "iopub.execute_input": "2022-12-13T15:54:53.161592Z",
     "iopub.status.busy": "2022-12-13T15:54:53.161064Z",
     "iopub.status.idle": "2022-12-13T16:06:57.977794Z",
     "shell.execute_reply": "2022-12-13T16:06:57.977145Z"
    },
    "papermill": {
     "duration": 724.82283,
     "end_time": "2022-12-13T16:06:57.979422",
     "exception": false,
     "start_time": "2022-12-13T15:54:53.156592",
     "status": "completed"
    },
    "tags": []
   },
   "outputs": [
    {
     "name": "stdout",
     "output_type": "stream",
     "text": [
      "Running for asthma_only\n",
      "Saving results in /opt/data/projects/asthma-copd/results/twas/smultixcan\n",
      "WARNING - Some GWAS snp zscores are not finite.\n",
      "\n",
      "Running for copd_only\n",
      "Saving results in /opt/data/projects/asthma-copd/results/twas/smultixcan\n",
      "WARNING - Some GWAS snp zscores are not finite.\n",
      "\n",
      "Running for aco\n",
      "Saving results in /opt/data/projects/asthma-copd/results/twas/smultixcan\n",
      "WARNING - Some GWAS snp zscores are not finite.\n",
      "\n"
     ]
    }
   ],
   "source": [
    "%%bash -s \"$PHENOPLIER_NOTEBOOK_DIR\" \"$SPREDIXCAN_DIR_STR\" \"$OUTPUT_DIR_STR\"\n",
    "set -euo pipefail\n",
    "# IFS=$'\\n\\t'\n",
    "\n",
    "# read the notebook directory parameter and remove $1\n",
    "export PHENOPLIER_NOTEBOOK_DIR=\"${PHENOPLIER_CODE_DIR}/$1\"\n",
    "shift\n",
    "\n",
    "# read S-PrediXcan input dir\n",
    "export SPREDIXCAN_DIR=\"$1\"\n",
    "shift\n",
    "\n",
    "# read output dir\n",
    "export OUTPUT_DIR=\"$1\"\n",
    "shift\n",
    "\n",
    "run_job () {\n",
    "    # run_job is a standard function name that performs a particular job\n",
    "    # depending on the context. It will be called by GNU Parallel below.\n",
    "    #\n",
    "    # The implementation here runs the GLS model of PhenoPLIER on a trait.\n",
    "\n",
    "    # read trait information\n",
    "    # the first parameter to this function is a string with values separated by\n",
    "    # commas (,). So here I split those into different variables.\n",
    "    IFS=',' read -r pheno_id file sample_size n_cases <<< \"$1\"\n",
    "\n",
    "    INPUT_FILENAME=${file%.*}\n",
    "\n",
    "    # get input GWAS file, there should be a single file\n",
    "    # here I make sure that there are no other files in the folder that\n",
    "    # match this phenotype/trait filename prefix\n",
    "    GWAS_DIR=\"${PHENOPLIER_PROJECTS_ASTHMA_COPD_RESULTS_DIR}/final_imputed_gwas\"\n",
    "    N_GWAS_FILES=$(ls ${GWAS_DIR}/${INPUT_FILENAME}* | wc -l)\n",
    "    if [ \"${N_GWAS_FILES}\" != \"1\" ]; then\n",
    "        echo \"ERROR: found ${N_GWAS_FILES} GWAS files instead of one\"\n",
    "        exit 1\n",
    "    fi\n",
    "    INPUT_GWAS_FILEPATH=$(ls ${GWAS_DIR}/${INPUT_FILENAME}*)\n",
    "\n",
    "    # OUTPUT_DIR=\"${PHENOPLIER_PROJECTS_ASTHMA_COPD_RESULTS_DIR}/twas/spredixcan\"\n",
    "    mkdir -p \"${OUTPUT_DIR}\"\n",
    "\n",
    "    # make sure we are not also parallelizing within numpy, etc\n",
    "    export NUMBA_NUM_THREADS=1\n",
    "    export MKL_NUM_THREADS=1\n",
    "    export OPEN_BLAS_NUM_THREADS=1\n",
    "    export NUMEXPR_NUM_THREADS=1\n",
    "    export OMP_NUM_THREADS=1\n",
    "\n",
    "    echo \"Running for $pheno_id\"\n",
    "    echo \"Saving results in ${OUTPUT_DIR}\"\n",
    "\n",
    "    bash \"${PHENOPLIER_CODE_DIR}/scripts/smultixcan.sh\" \\\n",
    "        --input-gwas-file \"${INPUT_GWAS_FILEPATH}\" \\\n",
    "        --spredixcan-folder \"${SPREDIXCAN_DIR}\" \\\n",
    "        --phenotype-name \"${INPUT_FILENAME}\" \\\n",
    "        --output-dir \"${OUTPUT_DIR}\" \\\n",
    "    | grep -iE \"warning|error\"\n",
    "\n",
    "    echo\n",
    "}\n",
    "\n",
    "# export function so GNU Parallel can see it\n",
    "export -f run_job\n",
    "\n",
    "# generate a list of run_job calls for GNU Parallel\n",
    "# here I read a file with information about traits (one trait per line)\n",
    "while IFS= read -r line; do\n",
    "    echo run_job \"${line}\"\n",
    "done < <(tail -n \"+2\" \"${PHENOPLIER_PROJECTS_ASTHMA_COPD_TRAITS_INFO_FILE}\") |\n",
    "    parallel -k --group --halt 2 -j${PHENOPLIER_GENERAL_N_JOBS}"
   ]
  },
  {
   "cell_type": "markdown",
   "id": "b9de8ab0-1d95-4d08-82bb-376e704fd0df",
   "metadata": {
    "papermill": {
     "duration": 0.009804,
     "end_time": "2022-12-13T16:06:57.993676",
     "exception": false,
     "start_time": "2022-12-13T16:06:57.983872",
     "status": "completed"
    },
    "tags": []
   },
   "source": [
    "# Perform some checks in output and log files"
   ]
  },
  {
   "cell_type": "code",
   "execution_count": 8,
   "id": "a48b5427-95ab-4d89-9b09-ea9f2344a6af",
   "metadata": {
    "execution": {
     "iopub.execute_input": "2022-12-13T16:06:58.003781Z",
     "iopub.status.busy": "2022-12-13T16:06:58.003306Z",
     "iopub.status.idle": "2022-12-13T16:06:58.007102Z",
     "shell.execute_reply": "2022-12-13T16:06:58.006526Z"
    },
    "papermill": {
     "duration": 0.010622,
     "end_time": "2022-12-13T16:06:58.008669",
     "exception": false,
     "start_time": "2022-12-13T16:06:57.998047",
     "status": "completed"
    },
    "tags": []
   },
   "outputs": [],
   "source": [
    "assert OUTPUT_DIR.exists()"
   ]
  },
  {
   "cell_type": "code",
   "execution_count": 9,
   "id": "6d2b50d0-fc92-46fd-a48c-8748ad04d014",
   "metadata": {
    "execution": {
     "iopub.execute_input": "2022-12-13T16:06:58.019043Z",
     "iopub.status.busy": "2022-12-13T16:06:58.018585Z",
     "iopub.status.idle": "2022-12-13T16:06:58.022252Z",
     "shell.execute_reply": "2022-12-13T16:06:58.021667Z"
    },
    "papermill": {
     "duration": 0.010957,
     "end_time": "2022-12-13T16:06:58.024013",
     "exception": false,
     "start_time": "2022-12-13T16:06:58.013056",
     "status": "completed"
    },
    "tags": []
   },
   "outputs": [],
   "source": [
    "log_files = OUTPUT_DIR.glob(\"*.log\")"
   ]
  },
  {
   "cell_type": "code",
   "execution_count": 10,
   "id": "01b58633-03fd-48c3-b95d-d1d37f19bd9c",
   "metadata": {
    "execution": {
     "iopub.execute_input": "2022-12-13T16:06:58.035813Z",
     "iopub.status.busy": "2022-12-13T16:06:58.035375Z",
     "iopub.status.idle": "2022-12-13T16:06:58.055781Z",
     "shell.execute_reply": "2022-12-13T16:06:58.055142Z"
    },
    "papermill": {
     "duration": 0.027979,
     "end_time": "2022-12-13T16:06:58.057628",
     "exception": false,
     "start_time": "2022-12-13T16:06:58.029649",
     "status": "completed"
    },
    "tags": []
   },
   "outputs": [],
   "source": [
    "for f in log_files:\n",
    "    read_log_file_and_check_line_exists(\n",
    "        f,\n",
    "        [\n",
    "            \"INFO - Ran multi tissue in\",\n",
    "        ],\n",
    "    )"
   ]
  }
 ],
 "metadata": {
  "jupytext": {
   "cell_metadata_filter": "all,-execution,-papermill,-trusted"
  },
  "kernelspec": {
   "display_name": "Python 3 (ipykernel)",
   "language": "python",
   "name": "python3"
  },
  "language_info": {
   "codemirror_mode": {
    "name": "ipython",
    "version": 3
   },
   "file_extension": ".py",
   "mimetype": "text/x-python",
   "name": "python",
   "nbconvert_exporter": "python",
   "pygments_lexer": "ipython3",
   "version": "3.10.6"
  },
  "papermill": {
   "default_parameters": {},
   "duration": 726.160893,
   "end_time": "2022-12-13T16:06:58.279534",
   "environment_variables": {},
   "exception": null,
   "input_path": "projects/asthma-copd/nbs/15_twas/05-run_smultixcan.ipynb",
   "output_path": "projects/asthma-copd/nbs/15_twas/05-run_smultixcan.run.ipynb",
   "parameters": {
    "PHENOPLIER_NOTEBOOK_FILEPATH": "projects/asthma-copd/nbs/15_twas/05-run_smultixcan.ipynb"
   },
   "start_time": "2022-12-13T15:54:52.118641",
   "version": "2.3.4"
  }
 },
 "nbformat": 4,
 "nbformat_minor": 5
}
