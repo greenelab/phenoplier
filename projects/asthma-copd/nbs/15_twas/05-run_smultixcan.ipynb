{
 "cells": [
  {
   "cell_type": "markdown",
   "id": "c935aa7e-fde1-4d1c-b2d7-8c7ee611b1ed",
   "metadata": {
    "papermill": {
     "duration": 0.003747,
     "end_time": "2022-12-15T17:18:32.481664",
     "exception": false,
     "start_time": "2022-12-15T17:18:32.477917",
     "status": "completed"
    },
    "tags": []
   },
   "source": [
    "# Description"
   ]
  },
  {
   "cell_type": "markdown",
   "id": "6c4c5039-03f9-4fdc-8d1f-7983e5bf79d6",
   "metadata": {
    "papermill": {
     "duration": 0.003174,
     "end_time": "2022-12-15T17:18:32.494302",
     "exception": false,
     "start_time": "2022-12-15T17:18:32.491128",
     "status": "completed"
    },
    "tags": []
   },
   "source": [
    "Runs S-MultiXcan on a set of traits."
   ]
  },
  {
   "cell_type": "markdown",
   "id": "d389dd7b-20d8-44ed-8053-6e2cd8efea2e",
   "metadata": {
    "papermill": {
     "duration": 0.003167,
     "end_time": "2022-12-15T17:18:32.500703",
     "exception": false,
     "start_time": "2022-12-15T17:18:32.497536",
     "status": "completed"
    },
    "tags": []
   },
   "source": [
    "# Modules"
   ]
  },
  {
   "cell_type": "code",
   "execution_count": 1,
   "id": "69797656-0db2-41d5-b4d6-63c24d47ad38",
   "metadata": {
    "execution": {
     "iopub.execute_input": "2022-12-15T17:18:32.508664Z",
     "iopub.status.busy": "2022-12-15T17:18:32.508104Z",
     "iopub.status.idle": "2022-12-15T17:18:32.542228Z",
     "shell.execute_reply": "2022-12-15T17:18:32.541687Z"
    },
    "papermill": {
     "duration": 0.039682,
     "end_time": "2022-12-15T17:18:32.543739",
     "exception": false,
     "start_time": "2022-12-15T17:18:32.504057",
     "status": "completed"
    },
    "tags": []
   },
   "outputs": [],
   "source": [
    "import os\n",
    "from glob import glob\n",
    "from pathlib import Path\n",
    "\n",
    "from utils import read_log_file_and_check_line_exists\n",
    "import conf"
   ]
  },
  {
   "cell_type": "markdown",
   "id": "dd17aa24-a692-4f62-ac69-c270447c7729",
   "metadata": {
    "papermill": {
     "duration": 0.003194,
     "end_time": "2022-12-15T17:18:32.550236",
     "exception": false,
     "start_time": "2022-12-15T17:18:32.547042",
     "status": "completed"
    },
    "tags": []
   },
   "source": [
    "# Settings"
   ]
  },
  {
   "cell_type": "markdown",
   "id": "3829ee6c-68b6-445e-adce-aa7a6280a56c",
   "metadata": {
    "papermill": {
     "duration": 0.003182,
     "end_time": "2022-12-15T17:18:32.557618",
     "exception": false,
     "start_time": "2022-12-15T17:18:32.554436",
     "status": "completed"
    },
    "tags": []
   },
   "source": [
    "Apparently, there is no easy way to get the parent directory of\n",
    "a notebook in Jupyter, so here I get that information either from\n",
    "the parameter sent by `nbs/run_nbs.sh` (if called from command-line) or\n",
    "from `os.getcwd()` (if called from browser)."
   ]
  },
  {
   "cell_type": "code",
   "execution_count": 2,
   "id": "e8f8093f-7738-448a-b29d-e9059684fcd1",
   "metadata": {
    "execution": {
     "iopub.execute_input": "2022-12-15T17:18:32.564832Z",
     "iopub.status.busy": "2022-12-15T17:18:32.564673Z",
     "iopub.status.idle": "2022-12-15T17:18:32.567603Z",
     "shell.execute_reply": "2022-12-15T17:18:32.567098Z"
    },
    "papermill": {
     "duration": 0.008183,
     "end_time": "2022-12-15T17:18:32.568998",
     "exception": false,
     "start_time": "2022-12-15T17:18:32.560815",
     "status": "completed"
    },
    "tags": [
     "parameters"
    ]
   },
   "outputs": [],
   "source": [
    "PHENOPLIER_NOTEBOOK_FILEPATH = None\n",
    "PHENOPLIER_NOTEBOOK_DIR = os.getcwd()"
   ]
  },
  {
   "cell_type": "code",
   "execution_count": 3,
   "id": "73b8148f",
   "metadata": {
    "execution": {
     "iopub.execute_input": "2022-12-15T17:18:32.576439Z",
     "iopub.status.busy": "2022-12-15T17:18:32.576295Z",
     "iopub.status.idle": "2022-12-15T17:18:32.579071Z",
     "shell.execute_reply": "2022-12-15T17:18:32.578570Z"
    },
    "lines_to_next_cell": 2,
    "papermill": {
     "duration": 0.007943,
     "end_time": "2022-12-15T17:18:32.580388",
     "exception": false,
     "start_time": "2022-12-15T17:18:32.572445",
     "status": "completed"
    },
    "tags": [
     "injected-parameters"
    ]
   },
   "outputs": [],
   "source": [
    "# Parameters\n",
    "PHENOPLIER_NOTEBOOK_FILEPATH = (\n",
    "    \"projects/asthma-copd/nbs/15_twas/05-run_smultixcan.ipynb\"\n",
    ")"
   ]
  },
  {
   "cell_type": "code",
   "execution_count": 4,
   "id": "80437810-fd28-40ba-8dab-f60424764bfd",
   "metadata": {
    "execution": {
     "iopub.execute_input": "2022-12-15T17:18:32.587857Z",
     "iopub.status.busy": "2022-12-15T17:18:32.587540Z",
     "iopub.status.idle": "2022-12-15T17:18:32.596870Z",
     "shell.execute_reply": "2022-12-15T17:18:32.596358Z"
    },
    "papermill": {
     "duration": 0.01464,
     "end_time": "2022-12-15T17:18:32.598297",
     "exception": false,
     "start_time": "2022-12-15T17:18:32.583657",
     "status": "completed"
    },
    "tags": []
   },
   "outputs": [
    {
     "data": {
      "text/plain": [
       "'projects/asthma-copd/nbs/15_twas'"
      ]
     },
     "metadata": {},
     "output_type": "display_data"
    }
   ],
   "source": [
    "if PHENOPLIER_NOTEBOOK_FILEPATH is not None:\n",
    "    PHENOPLIER_NOTEBOOK_DIR = str(Path(PHENOPLIER_NOTEBOOK_FILEPATH).parent)\n",
    "\n",
    "display(PHENOPLIER_NOTEBOOK_DIR)"
   ]
  },
  {
   "cell_type": "code",
   "execution_count": 5,
   "id": "f4601810-04cf-44cc-a27b-c85724827b11",
   "metadata": {
    "execution": {
     "iopub.execute_input": "2022-12-15T17:18:32.606163Z",
     "iopub.status.busy": "2022-12-15T17:18:32.606021Z",
     "iopub.status.idle": "2022-12-15T17:18:32.611336Z",
     "shell.execute_reply": "2022-12-15T17:18:32.610827Z"
    },
    "papermill": {
     "duration": 0.010821,
     "end_time": "2022-12-15T17:18:32.612751",
     "exception": false,
     "start_time": "2022-12-15T17:18:32.601930",
     "status": "completed"
    },
    "tags": []
   },
   "outputs": [
    {
     "data": {
      "text/plain": [
       "PosixPath('/opt/data/projects/asthma-copd/results/twas/spredixcan')"
      ]
     },
     "metadata": {},
     "output_type": "display_data"
    },
    {
     "data": {
      "text/plain": [
       "'/opt/data/projects/asthma-copd/results/twas/spredixcan'"
      ]
     },
     "metadata": {},
     "output_type": "display_data"
    }
   ],
   "source": [
    "SPREDIXCAN_DIR = conf.PROJECTS[\"ASTHMA_COPD\"][\"RESULTS_DIR\"] / \"twas\" / \"spredixcan\"\n",
    "display(SPREDIXCAN_DIR)\n",
    "assert SPREDIXCAN_DIR.exists()\n",
    "\n",
    "SPREDIXCAN_DIR_STR = str(SPREDIXCAN_DIR)\n",
    "display(SPREDIXCAN_DIR_STR)"
   ]
  },
  {
   "cell_type": "code",
   "execution_count": 6,
   "id": "7614a44c-cbef-48f5-a011-0876875d20eb",
   "metadata": {
    "execution": {
     "iopub.execute_input": "2022-12-15T17:18:32.621067Z",
     "iopub.status.busy": "2022-12-15T17:18:32.620828Z",
     "iopub.status.idle": "2022-12-15T17:18:32.625779Z",
     "shell.execute_reply": "2022-12-15T17:18:32.625263Z"
    },
    "papermill": {
     "duration": 0.010856,
     "end_time": "2022-12-15T17:18:32.627191",
     "exception": false,
     "start_time": "2022-12-15T17:18:32.616335",
     "status": "completed"
    },
    "tags": []
   },
   "outputs": [
    {
     "data": {
      "text/plain": [
       "PosixPath('/opt/data/projects/asthma-copd/results/twas/smultixcan')"
      ]
     },
     "metadata": {},
     "output_type": "display_data"
    },
    {
     "data": {
      "text/plain": [
       "'/opt/data/projects/asthma-copd/results/twas/smultixcan'"
      ]
     },
     "metadata": {},
     "output_type": "display_data"
    }
   ],
   "source": [
    "OUTPUT_DIR = conf.PROJECTS[\"ASTHMA_COPD\"][\"RESULTS_DIR\"] / \"twas\" / \"smultixcan\"\n",
    "display(OUTPUT_DIR)\n",
    "\n",
    "OUTPUT_DIR_STR = str(OUTPUT_DIR)\n",
    "display(OUTPUT_DIR_STR)"
   ]
  },
  {
   "cell_type": "markdown",
   "id": "3a558eec-2251-4be7-a754-1f98adde3aec",
   "metadata": {
    "papermill": {
     "duration": 0.00369,
     "end_time": "2022-12-15T17:18:32.634843",
     "exception": false,
     "start_time": "2022-12-15T17:18:32.631153",
     "status": "completed"
    },
    "tags": []
   },
   "source": [
    "# Run"
   ]
  },
  {
   "cell_type": "code",
   "execution_count": 7,
   "id": "0c0cd3d9-b032-4f03-82eb-0017a0ef1cca",
   "metadata": {
    "execution": {
     "iopub.execute_input": "2022-12-15T17:18:32.643339Z",
     "iopub.status.busy": "2022-12-15T17:18:32.643096Z",
     "iopub.status.idle": "2022-12-15T17:30:34.106587Z",
     "shell.execute_reply": "2022-12-15T17:30:34.105936Z"
    },
    "papermill": {
     "duration": 721.469455,
     "end_time": "2022-12-15T17:30:34.108069",
     "exception": false,
     "start_time": "2022-12-15T17:18:32.638614",
     "status": "completed"
    },
    "tags": []
   },
   "outputs": [
    {
     "name": "stdout",
     "output_type": "stream",
     "text": [
      "Running for asthma_only\n",
      "Saving results in /opt/data/projects/asthma-copd/results/twas/smultixcan\n"
     ]
    },
    {
     "name": "stderr",
     "output_type": "stream",
     "text": [
      "+ /opt/data/software/conda_envs/metaxcan/bin/python /opt/data/software/metaxcan/software/SMulTiXcan.py --models_folder /opt/data/data/phenomexcan/prediction_models/mashr --models_name_pattern 'mashr_(.*).db' --snp_covariance /opt/data/data/phenomexcan/prediction_models/gtex_v8_expression_mashr_snp_covariance.txt.gz --metaxcan_folder /opt/data/projects/asthma-copd/results/twas/spredixcan --metaxcan_filter 'GWAS_Asthma_only_GLM_SNPs_info0.7\\-.*csv' --metaxcan_file_name_parse_pattern '(.*)\\-gtex_v8\\-mashr\\-(.*).csv' --gwas_file /opt/data/projects/asthma-copd/results/final_imputed_gwas/GWAS_Asthma_only_GLM_SNPs_info0.7-harmonized-imputed.txt.gz --snp_column panel_variant_id --effect_allele_column effect_allele --non_effect_allele_column non_effect_allele --zscore_column zscore --keep_non_rsid --model_db_snp_key varID --cutoff_condition_number 30 --verbosity 7 --throw --output /opt/data/projects/asthma-copd/results/twas/smultixcan/GWAS_Asthma_only_GLM_SNPs_info0.7-gtex_v8-mashr-smultixcan.txt\n"
     ]
    },
    {
     "name": "stdout",
     "output_type": "stream",
     "text": [
      "WARNING - Some GWAS snp zscores are not finite.\n",
      "\n"
     ]
    },
    {
     "name": "stderr",
     "output_type": "stream",
     "text": [
      "+ set +x\n"
     ]
    },
    {
     "name": "stdout",
     "output_type": "stream",
     "text": [
      "Running for copd_only\n",
      "Saving results in /opt/data/projects/asthma-copd/results/twas/smultixcan\n"
     ]
    },
    {
     "name": "stderr",
     "output_type": "stream",
     "text": [
      "+ /opt/data/software/conda_envs/metaxcan/bin/python /opt/data/software/metaxcan/software/SMulTiXcan.py --models_folder /opt/data/data/phenomexcan/prediction_models/mashr --models_name_pattern 'mashr_(.*).db' --snp_covariance /opt/data/data/phenomexcan/prediction_models/gtex_v8_expression_mashr_snp_covariance.txt.gz --metaxcan_folder /opt/data/projects/asthma-copd/results/twas/spredixcan --metaxcan_filter 'GWAS_COPD_only_GLM_SNPs_info0.7\\-.*csv' --metaxcan_file_name_parse_pattern '(.*)\\-gtex_v8\\-mashr\\-(.*).csv' --gwas_file /opt/data/projects/asthma-copd/results/final_imputed_gwas/GWAS_COPD_only_GLM_SNPs_info0.7-harmonized-imputed.txt.gz --snp_column panel_variant_id --effect_allele_column effect_allele --non_effect_allele_column non_effect_allele --zscore_column zscore --keep_non_rsid --model_db_snp_key varID --cutoff_condition_number 30 --verbosity 7 --throw --output /opt/data/projects/asthma-copd/results/twas/smultixcan/GWAS_COPD_only_GLM_SNPs_info0.7-gtex_v8-mashr-smultixcan.txt\n"
     ]
    },
    {
     "name": "stdout",
     "output_type": "stream",
     "text": [
      "WARNING - Some GWAS snp zscores are not finite.\n",
      "\n"
     ]
    },
    {
     "name": "stderr",
     "output_type": "stream",
     "text": [
      "+ set +x\n"
     ]
    },
    {
     "name": "stdout",
     "output_type": "stream",
     "text": [
      "Running for aco\n",
      "Saving results in /opt/data/projects/asthma-copd/results/twas/smultixcan\n",
      "WARNING - Some GWAS snp zscores are not finite.\n",
      "\n"
     ]
    },
    {
     "name": "stderr",
     "output_type": "stream",
     "text": [
      "+ /opt/data/software/conda_envs/metaxcan/bin/python /opt/data/software/metaxcan/software/SMulTiXcan.py --models_folder /opt/data/data/phenomexcan/prediction_models/mashr --models_name_pattern 'mashr_(.*).db' --snp_covariance /opt/data/data/phenomexcan/prediction_models/gtex_v8_expression_mashr_snp_covariance.txt.gz --metaxcan_folder /opt/data/projects/asthma-copd/results/twas/spredixcan --metaxcan_filter 'GWAS_ACO_GLM_SNPs_info0.7\\-.*csv' --metaxcan_file_name_parse_pattern '(.*)\\-gtex_v8\\-mashr\\-(.*).csv' --gwas_file /opt/data/projects/asthma-copd/results/final_imputed_gwas/GWAS_ACO_GLM_SNPs_info0.7-harmonized-imputed.txt.gz --snp_column panel_variant_id --effect_allele_column effect_allele --non_effect_allele_column non_effect_allele --zscore_column zscore --keep_non_rsid --model_db_snp_key varID --cutoff_condition_number 30 --verbosity 7 --throw --output /opt/data/projects/asthma-copd/results/twas/smultixcan/GWAS_ACO_GLM_SNPs_info0.7-gtex_v8-mashr-smultixcan.txt\n",
      "+ set +x\n"
     ]
    }
   ],
   "source": [
    "%%bash -s \"$PHENOPLIER_NOTEBOOK_DIR\" \"$SPREDIXCAN_DIR_STR\" \"$OUTPUT_DIR_STR\"\n",
    "set -euo pipefail\n",
    "# IFS=$'\\n\\t'\n",
    "\n",
    "# read the notebook directory parameter and remove $1\n",
    "export PHENOPLIER_NOTEBOOK_DIR=\"${PHENOPLIER_CODE_DIR}/$1\"\n",
    "shift\n",
    "\n",
    "# read S-PrediXcan input dir\n",
    "export SPREDIXCAN_DIR=\"$1\"\n",
    "shift\n",
    "\n",
    "# read output dir\n",
    "export OUTPUT_DIR=\"$1\"\n",
    "shift\n",
    "\n",
    "run_job () {\n",
    "    # run_job is a standard function name that performs a particular job\n",
    "    # depending on the context. It will be called by GNU Parallel below.\n",
    "    #\n",
    "    # The implementation here runs the GLS model of PhenoPLIER on a trait.\n",
    "\n",
    "    # read trait information\n",
    "    # the first parameter to this function is a string with values separated by\n",
    "    # commas (,). So here I split those into different variables.\n",
    "    IFS=',' read -r pheno_id file sample_size n_cases <<< \"$1\"\n",
    "\n",
    "    INPUT_FILENAME=${file%.*}\n",
    "\n",
    "    # get input GWAS file, there should be a single file\n",
    "    # here I make sure that there are no other files in the folder that\n",
    "    # match this phenotype/trait filename prefix\n",
    "    GWAS_DIR=\"${PHENOPLIER_PROJECTS_ASTHMA_COPD_RESULTS_DIR}/final_imputed_gwas\"\n",
    "    N_GWAS_FILES=$(ls ${GWAS_DIR}/${INPUT_FILENAME}*.txt.gz | wc -l)\n",
    "    if [ \"${N_GWAS_FILES}\" != \"1\" ]; then\n",
    "        echo \"ERROR: found ${N_GWAS_FILES} GWAS files instead of one\"\n",
    "        exit 1\n",
    "    fi\n",
    "    INPUT_GWAS_FILEPATH=$(ls ${GWAS_DIR}/${INPUT_FILENAME}*.txt.gz)\n",
    "\n",
    "    mkdir -p \"${OUTPUT_DIR}\"\n",
    "\n",
    "    # make sure we are not also parallelizing within numpy, etc\n",
    "    export NUMBA_NUM_THREADS=1\n",
    "    export MKL_NUM_THREADS=1\n",
    "    export OPEN_BLAS_NUM_THREADS=1\n",
    "    export NUMEXPR_NUM_THREADS=1\n",
    "    export OMP_NUM_THREADS=1\n",
    "\n",
    "    echo \"Running for $pheno_id\"\n",
    "    echo \"Saving results in ${OUTPUT_DIR}\"\n",
    "\n",
    "    bash \"${PHENOPLIER_CODE_DIR}/scripts/twas_smultixcan.sh\" \\\n",
    "        --input-gwas-file \"${INPUT_GWAS_FILEPATH}\" \\\n",
    "        --spredixcan-folder \"${SPREDIXCAN_DIR}\" \\\n",
    "        --phenotype-name \"${INPUT_FILENAME}\" \\\n",
    "        --output-dir \"${OUTPUT_DIR}\"\n",
    "\n",
    "    # print errors here in the notebook\n",
    "    # first, look for the log file for this trait\n",
    "    pattern=\"${OUTPUT_DIR}/${INPUT_FILENAME}*-gtex_v8-mashr-smultixcan*.log\"\n",
    "\n",
    "    N_LOG_FILES=$(ls ${pattern} | wc -l)\n",
    "    if [ \"${N_LOG_FILES}\" != \"1\" ]; then\n",
    "        echo \"ERROR: found ${N_LOG_FILES} log files instead of one\"\n",
    "        exit 1\n",
    "    fi\n",
    "    LOG_FILE=$(ls ${pattern})\n",
    "\n",
    "    cat \"${LOG_FILE}\" | grep -iE \"warning|error\"\n",
    "\n",
    "    echo\n",
    "}\n",
    "\n",
    "# export function so GNU Parallel can see it\n",
    "export -f run_job\n",
    "\n",
    "# generate a list of run_job calls for GNU Parallel\n",
    "# here I read a file with information about traits (one trait per line)\n",
    "while IFS= read -r line; do\n",
    "    echo run_job \"${line}\"\n",
    "done < <(tail -n \"+2\" \"${PHENOPLIER_PROJECTS_ASTHMA_COPD_TRAITS_INFO_FILE}\") |\n",
    "    parallel -k --lb --halt 2 -j${PHENOPLIER_GENERAL_N_JOBS}"
   ]
  },
  {
   "cell_type": "markdown",
   "id": "b9de8ab0-1d95-4d08-82bb-376e704fd0df",
   "metadata": {
    "papermill": {
     "duration": 0.010528,
     "end_time": "2022-12-15T17:30:34.123408",
     "exception": false,
     "start_time": "2022-12-15T17:30:34.112880",
     "status": "completed"
    },
    "tags": []
   },
   "source": [
    "# Perform some checks in output and log files"
   ]
  },
  {
   "cell_type": "code",
   "execution_count": 8,
   "id": "a48b5427-95ab-4d89-9b09-ea9f2344a6af",
   "metadata": {
    "execution": {
     "iopub.execute_input": "2022-12-15T17:30:34.133637Z",
     "iopub.status.busy": "2022-12-15T17:30:34.133481Z",
     "iopub.status.idle": "2022-12-15T17:30:34.136642Z",
     "shell.execute_reply": "2022-12-15T17:30:34.136105Z"
    },
    "papermill": {
     "duration": 0.009961,
     "end_time": "2022-12-15T17:30:34.138021",
     "exception": false,
     "start_time": "2022-12-15T17:30:34.128060",
     "status": "completed"
    },
    "tags": []
   },
   "outputs": [],
   "source": [
    "assert OUTPUT_DIR.exists()"
   ]
  },
  {
   "cell_type": "code",
   "execution_count": 9,
   "id": "6d2b50d0-fc92-46fd-a48c-8748ad04d014",
   "metadata": {
    "execution": {
     "iopub.execute_input": "2022-12-15T17:30:34.148596Z",
     "iopub.status.busy": "2022-12-15T17:30:34.148200Z",
     "iopub.status.idle": "2022-12-15T17:30:34.150983Z",
     "shell.execute_reply": "2022-12-15T17:30:34.150466Z"
    },
    "papermill": {
     "duration": 0.009659,
     "end_time": "2022-12-15T17:30:34.152520",
     "exception": false,
     "start_time": "2022-12-15T17:30:34.142861",
     "status": "completed"
    },
    "tags": []
   },
   "outputs": [],
   "source": [
    "log_files = OUTPUT_DIR.glob(\"*.log\")"
   ]
  },
  {
   "cell_type": "code",
   "execution_count": 10,
   "id": "01b58633-03fd-48c3-b95d-d1d37f19bd9c",
   "metadata": {
    "execution": {
     "iopub.execute_input": "2022-12-15T17:30:34.162731Z",
     "iopub.status.busy": "2022-12-15T17:30:34.162578Z",
     "iopub.status.idle": "2022-12-15T17:30:34.181548Z",
     "shell.execute_reply": "2022-12-15T17:30:34.181009Z"
    },
    "papermill": {
     "duration": 0.025731,
     "end_time": "2022-12-15T17:30:34.182888",
     "exception": false,
     "start_time": "2022-12-15T17:30:34.157157",
     "status": "completed"
    },
    "tags": []
   },
   "outputs": [],
   "source": [
    "for f in log_files:\n",
    "    read_log_file_and_check_line_exists(\n",
    "        f,\n",
    "        [\n",
    "            \"INFO - Ran multi tissue in\",\n",
    "        ],\n",
    "    )"
   ]
  }
 ],
 "metadata": {
  "jupytext": {
   "cell_metadata_filter": "all,-execution,-papermill,-trusted"
  },
  "kernelspec": {
   "display_name": "Python 3 (ipykernel)",
   "language": "python",
   "name": "python3"
  },
  "language_info": {
   "codemirror_mode": {
    "name": "ipython",
    "version": 3
   },
   "file_extension": ".py",
   "mimetype": "text/x-python",
   "name": "python",
   "nbconvert_exporter": "python",
   "pygments_lexer": "ipython3",
   "version": "3.10.6"
  },
  "papermill": {
   "default_parameters": {},
   "duration": 722.907088,
   "end_time": "2022-12-15T17:30:34.404403",
   "environment_variables": {},
   "exception": null,
   "input_path": "projects/asthma-copd/nbs/15_twas/05-run_smultixcan.ipynb",
   "output_path": "projects/asthma-copd/nbs/15_twas/05-run_smultixcan.run.ipynb",
   "parameters": {
    "PHENOPLIER_NOTEBOOK_FILEPATH": "projects/asthma-copd/nbs/15_twas/05-run_smultixcan.ipynb"
   },
   "start_time": "2022-12-15T17:18:31.497315",
   "version": "2.3.4"
  }
 },
 "nbformat": 4,
 "nbformat_minor": 5
}
