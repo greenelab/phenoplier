{
 "cells": [
  {
   "cell_type": "markdown",
   "id": "c935aa7e-fde1-4d1c-b2d7-8c7ee611b1ed",
   "metadata": {
    "papermill": {
     "duration": 0.003205,
     "end_time": "2022-12-01T22:32:03.119546",
     "exception": false,
     "start_time": "2022-12-01T22:32:03.116341",
     "status": "completed"
    },
    "tags": []
   },
   "source": [
    "# Description"
   ]
  },
  {
   "cell_type": "code",
   "execution_count": null,
   "id": "6ea077d3-5512-4692-bfac-006ba01a91ec",
   "metadata": {
    "papermill": {
     "duration": 0.002563,
     "end_time": "2022-12-01T22:32:03.131523",
     "exception": false,
     "start_time": "2022-12-01T22:32:03.128960",
     "status": "completed"
    },
    "tags": []
   },
   "outputs": [],
   "source": []
  },
  {
   "cell_type": "markdown",
   "id": "d389dd7b-20d8-44ed-8053-6e2cd8efea2e",
   "metadata": {
    "papermill": {
     "duration": 0.002465,
     "end_time": "2022-12-01T22:32:03.136556",
     "exception": false,
     "start_time": "2022-12-01T22:32:03.134091",
     "status": "completed"
    },
    "tags": []
   },
   "source": [
    "# Modules"
   ]
  },
  {
   "cell_type": "code",
   "execution_count": 1,
   "id": "69797656-0db2-41d5-b4d6-63c24d47ad38",
   "metadata": {
    "execution": {
     "iopub.execute_input": "2022-12-01T22:32:03.144903Z",
     "iopub.status.busy": "2022-12-01T22:32:03.144144Z",
     "iopub.status.idle": "2022-12-01T22:32:03.151939Z",
     "shell.execute_reply": "2022-12-01T22:32:03.151304Z"
    },
    "papermill": {
     "duration": 0.014356,
     "end_time": "2022-12-01T22:32:03.153465",
     "exception": false,
     "start_time": "2022-12-01T22:32:03.139109",
     "status": "completed"
    },
    "tags": []
   },
   "outputs": [],
   "source": [
    "import os\n",
    "from pathlib import Path"
   ]
  },
  {
   "cell_type": "markdown",
   "id": "dd17aa24-a692-4f62-ac69-c270447c7729",
   "metadata": {
    "papermill": {
     "duration": 0.002568,
     "end_time": "2022-12-01T22:32:03.158869",
     "exception": false,
     "start_time": "2022-12-01T22:32:03.156301",
     "status": "completed"
    },
    "tags": []
   },
   "source": [
    "# Settings"
   ]
  },
  {
   "cell_type": "code",
   "execution_count": 2,
   "id": "9146ad80-8c12-4e0f-a713-84e02c9ecefa",
   "metadata": {
    "execution": {
     "iopub.execute_input": "2022-12-01T22:32:03.165237Z",
     "iopub.status.busy": "2022-12-01T22:32:03.164812Z",
     "iopub.status.idle": "2022-12-01T22:32:03.167909Z",
     "shell.execute_reply": "2022-12-01T22:32:03.167299Z"
    },
    "papermill": {
     "duration": 0.007964,
     "end_time": "2022-12-01T22:32:03.169421",
     "exception": false,
     "start_time": "2022-12-01T22:32:03.161457",
     "status": "completed"
    },
    "tags": [
     "parameters"
    ]
   },
   "outputs": [],
   "source": [
    "PHENOPLIER_NOTEBOOK_FILEPATH = None\n",
    "PHENOPLIER_NOTEBOOK_DIR = os.getcwd()"
   ]
  },
  {
   "cell_type": "code",
   "execution_count": 3,
   "id": "db02e4f4",
   "metadata": {
    "execution": {
     "iopub.execute_input": "2022-12-01T22:32:03.176060Z",
     "iopub.status.busy": "2022-12-01T22:32:03.175513Z",
     "iopub.status.idle": "2022-12-01T22:32:03.178483Z",
     "shell.execute_reply": "2022-12-01T22:32:03.177930Z"
    },
    "lines_to_next_cell": 2,
    "papermill": {
     "duration": 0.007891,
     "end_time": "2022-12-01T22:32:03.179893",
     "exception": false,
     "start_time": "2022-12-01T22:32:03.172002",
     "status": "completed"
    },
    "tags": [
     "injected-parameters"
    ]
   },
   "outputs": [],
   "source": [
    "# Parameters\n",
    "PHENOPLIER_NOTEBOOK_FILEPATH = (\n",
    "    \"projects/asthma-copd/nbs/30_gls_phenoplier/01-run_gls_phenoplier.ipynb\"\n",
    ")"
   ]
  },
  {
   "cell_type": "code",
   "execution_count": 4,
   "id": "75423a5f-486f-4df2-9c9b-57c6001502b3",
   "metadata": {
    "execution": {
     "iopub.execute_input": "2022-12-01T22:32:03.186350Z",
     "iopub.status.busy": "2022-12-01T22:32:03.185945Z",
     "iopub.status.idle": "2022-12-01T22:32:03.188896Z",
     "shell.execute_reply": "2022-12-01T22:32:03.188339Z"
    },
    "papermill": {
     "duration": 0.007769,
     "end_time": "2022-12-01T22:32:03.190307",
     "exception": false,
     "start_time": "2022-12-01T22:32:03.182538",
     "status": "completed"
    },
    "tags": []
   },
   "outputs": [],
   "source": [
    "INPUT_NOTEBOOK_FILENAME = \"07-compile_gwas_snps_and_twas_genes.ipynb\"\n",
    "OUTPUT_NOTEBOOK_FILENAME = \"07-compile_gwas_snps_and_twas_genes.run.ipynb\""
   ]
  },
  {
   "cell_type": "code",
   "execution_count": 5,
   "id": "b16398ff-9374-4cf3-9e03-663147be0817",
   "metadata": {
    "execution": {
     "iopub.execute_input": "2022-12-01T22:32:03.197033Z",
     "iopub.status.busy": "2022-12-01T22:32:03.196529Z",
     "iopub.status.idle": "2022-12-01T22:32:03.206008Z",
     "shell.execute_reply": "2022-12-01T22:32:03.205392Z"
    },
    "papermill": {
     "duration": 0.014451,
     "end_time": "2022-12-01T22:32:03.207413",
     "exception": false,
     "start_time": "2022-12-01T22:32:03.192962",
     "status": "completed"
    },
    "tags": []
   },
   "outputs": [
    {
     "data": {
      "text/plain": [
       "'projects/asthma-copd/nbs/30_gls_phenoplier'"
      ]
     },
     "metadata": {},
     "output_type": "display_data"
    }
   ],
   "source": [
    "if PHENOPLIER_NOTEBOOK_FILEPATH is not None:\n",
    "    PHENOPLIER_NOTEBOOK_DIR = str(Path(PHENOPLIER_NOTEBOOK_FILEPATH).parent)\n",
    "\n",
    "display(PHENOPLIER_NOTEBOOK_DIR)"
   ]
  },
  {
   "cell_type": "markdown",
   "id": "3a558eec-2251-4be7-a754-1f98adde3aec",
   "metadata": {
    "papermill": {
     "duration": 0.002688,
     "end_time": "2022-12-01T22:32:03.212884",
     "exception": false,
     "start_time": "2022-12-01T22:32:03.210196",
     "status": "completed"
    },
    "tags": []
   },
   "source": [
    "# Run"
   ]
  },
  {
   "cell_type": "code",
   "execution_count": 6,
   "id": "15a32979-7277-4624-830a-1a94157a8e06",
   "metadata": {
    "execution": {
     "iopub.execute_input": "2022-12-01T22:32:03.219959Z",
     "iopub.status.busy": "2022-12-01T22:32:03.219396Z",
     "iopub.status.idle": "2022-12-01T22:32:03.223734Z",
     "shell.execute_reply": "2022-12-01T22:32:03.222969Z"
    },
    "papermill": {
     "duration": 0.009659,
     "end_time": "2022-12-01T22:32:03.225259",
     "exception": false,
     "start_time": "2022-12-01T22:32:03.215600",
     "status": "completed"
    },
    "tags": []
   },
   "outputs": [
    {
     "name": "stdout",
     "output_type": "stream",
     "text": [
      "env: PHENOPLIER_NOTEBOOK_DIR=projects/asthma-copd/nbs/30_gls_phenoplier\n"
     ]
    }
   ],
   "source": [
    "%env PHENOPLIER_NOTEBOOK_DIR=$PHENOPLIER_NOTEBOOK_DIR"
   ]
  },
  {
   "cell_type": "code",
   "execution_count": 7,
   "id": "0c0cd3d9-b032-4f03-82eb-0017a0ef1cca",
   "metadata": {
    "execution": {
     "iopub.execute_input": "2022-12-01T22:32:03.231947Z",
     "iopub.status.busy": "2022-12-01T22:32:03.231606Z",
     "iopub.status.idle": "2022-12-01T22:33:36.579426Z",
     "shell.execute_reply": "2022-12-01T22:33:36.578671Z"
    },
    "papermill": {
     "duration": 93.353034,
     "end_time": "2022-12-01T22:33:36.581114",
     "exception": false,
     "start_time": "2022-12-01T22:32:03.228080",
     "status": "completed"
    },
    "tags": []
   },
   "outputs": [
    {
     "name": "stdout",
     "output_type": "stream",
     "text": [
      "Running for asthma_only\n",
      "Saving results in /opt/data/projects/asthma-copd/results/gls_phenoplier/gls/GWAS_Asthma_only_GLM_SNPs_info0.7-gls_phenoplier.tsv.gz\n",
      "Saving logs in projects/asthma-copd/nbs/30_gls_phenoplier/jobs_output/GWAS_Asthma_only_GLM_SNPs_info0.7-gls_phenoplier.log\n",
      "\n",
      "Running for copd_only\n",
      "Saving results in /opt/data/projects/asthma-copd/results/gls_phenoplier/gls/GWAS_COPD_only_GLM_SNPs_info0.7-gls_phenoplier.tsv.gz\n",
      "Saving logs in projects/asthma-copd/nbs/30_gls_phenoplier/jobs_output/GWAS_COPD_only_GLM_SNPs_info0.7-gls_phenoplier.log\n",
      "\n",
      "Running for aco\n",
      "Saving results in /opt/data/projects/asthma-copd/results/gls_phenoplier/gls/GWAS_ACO_GLM_SNPs_info0.7-gls_phenoplier.tsv.gz\n",
      "Saving logs in projects/asthma-copd/nbs/30_gls_phenoplier/jobs_output/GWAS_ACO_GLM_SNPs_info0.7-gls_phenoplier.log\n",
      "\n"
     ]
    }
   ],
   "source": [
    "%%bash\n",
    "run_job () {\n",
    "  # read trait information\n",
    "  IFS=',' read -r pheno_id desc file sample_size n_cases <<< \"$1\"\n",
    "\n",
    "  # CODE_RELATIVE_DIR=\"$1\"\n",
    "  CODE_DIR=\"${PHENOPLIER_NOTEBOOK_DIR}\"\n",
    "\n",
    "  # GWAS_DIR=${PHENOPLIER_PROJECTS_ASTHMA_COPD_RESULTS_DIR}/final_imputed_gwas\n",
    "  INPUT_FILENAME=${file%.*}\n",
    "  GENE_CORR_FILE=\"${PHENOPLIER_PROJECTS_ASTHMA_COPD_RESULTS_DIR}/gls_phenoplier/gene_corrs/${pheno_id}/gene_corrs-symbols.per_lv\"\n",
    "\n",
    "  SMULTIXCAN_DIR=\"${PHENOPLIER_PROJECTS_ASTHMA_COPD_RESULTS_DIR}/twas/smultixcan\"\n",
    "  SMULTIXCAN_FILE=\"${SMULTIXCAN_DIR}/${INPUT_FILENAME}-gtex_v8-mashr-smultixcan.txt\"\n",
    "\n",
    "  OUTPUT_DIR=\"${PHENOPLIER_PROJECTS_ASTHMA_COPD_RESULTS_DIR}/gls_phenoplier/gls\"\n",
    "  mkdir -p \"${OUTPUT_DIR}\"\n",
    "\n",
    "  OUTPUT_FILENAME_BASE=\"${INPUT_FILENAME}-gls_phenoplier\"\n",
    "\n",
    "  LOGS_DIR=\"${CODE_DIR}/jobs_output\"\n",
    "  mkdir -p \"${LOGS_DIR}\"\n",
    "\n",
    "  # make sure we are not also parallelizing within numpy, etc\n",
    "  export NUMBA_NUM_THREADS=1\n",
    "  export MKL_NUM_THREADS=1\n",
    "  export OPEN_BLAS_NUM_THREADS=1\n",
    "  export NUMEXPR_NUM_THREADS=1\n",
    "  export OMP_NUM_THREADS=1\n",
    "\n",
    "  echo \"Running for $pheno_id\"\n",
    "  echo \"Saving results in ${OUTPUT_DIR}/${OUTPUT_FILENAME_BASE}.tsv.gz\"\n",
    "  echo \"Saving logs in ${LOGS_DIR}/${OUTPUT_FILENAME_BASE}.log\"\n",
    "\n",
    "  bash \"${PHENOPLIER_CODE_DIR}/scripts/gls_phenoplier.sh\" \\\n",
    "    --input-file \"${SMULTIXCAN_FILE}\" \\\n",
    "    --gene-corr-file \"${GENE_CORR_FILE}\" \\\n",
    "    --covars \"gene_size gene_size_log gene_density gene_density_log\" \\\n",
    "    --debug-use-sub-gene-corr 1 \\\n",
    "    --output-file \"${OUTPUT_DIR}/${OUTPUT_FILENAME_BASE}.tsv.gz\" > \"${LOGS_DIR}/${OUTPUT_FILENAME_BASE}.log\" 2>&1\n",
    "\n",
    "  echo\n",
    "}\n",
    "\n",
    "# export function so GNU Parallel can see it\n",
    "export -f run_job\n",
    "\n",
    "# generate a list of run_job calls for GNU Parallel\n",
    "while IFS= read -r line; do\n",
    "    echo run_job \"${line}\"\n",
    "done < <(tail -n \"+2\" \"${PHENOPLIER_PROJECTS_ASTHMA_COPD_DATA_DIR}/traits_info.csv\") |\n",
    "    parallel -k --lb --halt 2 -j${PHENOPLIER_GENERAL_N_JOBS}"
   ]
  },
  {
   "cell_type": "code",
   "execution_count": null,
   "id": "4c85b633-88a5-4623-b105-42c38208109e",
   "metadata": {
    "papermill": {
     "duration": 0.003427,
     "end_time": "2022-12-01T22:33:36.588811",
     "exception": false,
     "start_time": "2022-12-01T22:33:36.585384",
     "status": "completed"
    },
    "tags": []
   },
   "outputs": [],
   "source": []
  }
 ],
 "metadata": {
  "jupytext": {
   "cell_metadata_filter": "all,-execution,-papermill,-trusted"
  },
  "kernelspec": {
   "display_name": "Python 3 (ipykernel)",
   "language": "python",
   "name": "python3"
  },
  "language_info": {
   "codemirror_mode": {
    "name": "ipython",
    "version": 3
   },
   "file_extension": ".py",
   "mimetype": "text/x-python",
   "name": "python",
   "nbconvert_exporter": "python",
   "pygments_lexer": "ipython3",
   "version": "3.10.6"
  },
  "papermill": {
   "default_parameters": {},
   "duration": 94.675174,
   "end_time": "2022-12-01T22:33:36.809120",
   "environment_variables": {},
   "exception": null,
   "input_path": "projects/asthma-copd/nbs/30_gls_phenoplier/01-run_gls_phenoplier.ipynb",
   "output_path": "projects/asthma-copd/nbs/30_gls_phenoplier/01-run_gls_phenoplier.run.ipynb",
   "parameters": {
    "PHENOPLIER_NOTEBOOK_FILEPATH": "projects/asthma-copd/nbs/30_gls_phenoplier/01-run_gls_phenoplier.ipynb"
   },
   "start_time": "2022-12-01T22:32:02.133946",
   "version": "2.3.4"
  }
 },
 "nbformat": 4,
 "nbformat_minor": 5
}
