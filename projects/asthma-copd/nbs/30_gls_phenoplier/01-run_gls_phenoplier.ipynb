{
 "cells": [
  {
   "cell_type": "markdown",
   "id": "c935aa7e-fde1-4d1c-b2d7-8c7ee611b1ed",
   "metadata": {
    "papermill": {
     "duration": 0.002907,
     "end_time": "2022-12-02T20:16:24.443721",
     "exception": false,
     "start_time": "2022-12-02T20:16:24.440814",
     "status": "completed"
    },
    "tags": []
   },
   "source": [
    "# Description"
   ]
  },
  {
   "cell_type": "markdown",
   "id": "8a5a655a-0628-49c1-99a3-f17d9969ac65",
   "metadata": {
    "papermill": {
     "duration": 0.002192,
     "end_time": "2022-12-02T20:16:24.455326",
     "exception": false,
     "start_time": "2022-12-02T20:16:24.453134",
     "status": "completed"
    },
    "tags": []
   },
   "source": [
    "It runs the GLS model (regression) of PhenoPLIER on a set of traits."
   ]
  },
  {
   "cell_type": "markdown",
   "id": "d389dd7b-20d8-44ed-8053-6e2cd8efea2e",
   "metadata": {
    "papermill": {
     "duration": 0.002144,
     "end_time": "2022-12-02T20:16:24.459902",
     "exception": false,
     "start_time": "2022-12-02T20:16:24.457758",
     "status": "completed"
    },
    "tags": []
   },
   "source": [
    "# Modules"
   ]
  },
  {
   "cell_type": "code",
   "execution_count": 1,
   "id": "69797656-0db2-41d5-b4d6-63c24d47ad38",
   "metadata": {
    "execution": {
     "iopub.execute_input": "2022-12-02T20:16:24.465744Z",
     "iopub.status.busy": "2022-12-02T20:16:24.465141Z",
     "iopub.status.idle": "2022-12-02T20:16:24.472606Z",
     "shell.execute_reply": "2022-12-02T20:16:24.472038Z"
    },
    "papermill": {
     "duration": 0.011883,
     "end_time": "2022-12-02T20:16:24.474019",
     "exception": false,
     "start_time": "2022-12-02T20:16:24.462136",
     "status": "completed"
    },
    "tags": []
   },
   "outputs": [],
   "source": [
    "import os\n",
    "from pathlib import Path"
   ]
  },
  {
   "cell_type": "markdown",
   "id": "dd17aa24-a692-4f62-ac69-c270447c7729",
   "metadata": {
    "papermill": {
     "duration": 0.002388,
     "end_time": "2022-12-02T20:16:24.478731",
     "exception": false,
     "start_time": "2022-12-02T20:16:24.476343",
     "status": "completed"
    },
    "tags": []
   },
   "source": [
    "# Settings"
   ]
  },
  {
   "cell_type": "markdown",
   "id": "d1271b94-ca31-4887-bd49-914be78efd94",
   "metadata": {
    "papermill": {
     "duration": 0.002215,
     "end_time": "2022-12-02T20:16:24.484002",
     "exception": false,
     "start_time": "2022-12-02T20:16:24.481787",
     "status": "completed"
    },
    "tags": []
   },
   "source": [
    "Apparently, there is no easy way to get the parent directory of\n",
    "a notebook in Jupyter, so here I get that information either from\n",
    "the parameter sent by `nbs/run_nbs.sh` (if called from command-line) or\n",
    "from `os.getcwd()` (if called from browser)."
   ]
  },
  {
   "cell_type": "code",
   "execution_count": 2,
   "id": "9146ad80-8c12-4e0f-a713-84e02c9ecefa",
   "metadata": {
    "execution": {
     "iopub.execute_input": "2022-12-02T20:16:24.489390Z",
     "iopub.status.busy": "2022-12-02T20:16:24.489191Z",
     "iopub.status.idle": "2022-12-02T20:16:24.492221Z",
     "shell.execute_reply": "2022-12-02T20:16:24.491663Z"
    },
    "papermill": {
     "duration": 0.007363,
     "end_time": "2022-12-02T20:16:24.493651",
     "exception": false,
     "start_time": "2022-12-02T20:16:24.486288",
     "status": "completed"
    },
    "tags": [
     "parameters"
    ]
   },
   "outputs": [],
   "source": [
    "PHENOPLIER_NOTEBOOK_FILEPATH = None\n",
    "PHENOPLIER_NOTEBOOK_DIR = os.getcwd()"
   ]
  },
  {
   "cell_type": "code",
   "execution_count": 3,
   "id": "e6434007",
   "metadata": {
    "execution": {
     "iopub.execute_input": "2022-12-02T20:16:24.499687Z",
     "iopub.status.busy": "2022-12-02T20:16:24.499258Z",
     "iopub.status.idle": "2022-12-02T20:16:24.502278Z",
     "shell.execute_reply": "2022-12-02T20:16:24.501665Z"
    },
    "lines_to_next_cell": 2,
    "papermill": {
     "duration": 0.007404,
     "end_time": "2022-12-02T20:16:24.503597",
     "exception": false,
     "start_time": "2022-12-02T20:16:24.496193",
     "status": "completed"
    },
    "tags": [
     "injected-parameters"
    ]
   },
   "outputs": [],
   "source": [
    "# Parameters\n",
    "PHENOPLIER_NOTEBOOK_FILEPATH = (\n",
    "    \"projects/asthma-copd/nbs/30_gls_phenoplier/01-run_gls_phenoplier.ipynb\"\n",
    ")"
   ]
  },
  {
   "cell_type": "code",
   "execution_count": 4,
   "id": "b16398ff-9374-4cf3-9e03-663147be0817",
   "metadata": {
    "execution": {
     "iopub.execute_input": "2022-12-02T20:16:24.509225Z",
     "iopub.status.busy": "2022-12-02T20:16:24.509025Z",
     "iopub.status.idle": "2022-12-02T20:16:24.518588Z",
     "shell.execute_reply": "2022-12-02T20:16:24.517960Z"
    },
    "papermill": {
     "duration": 0.014025,
     "end_time": "2022-12-02T20:16:24.520027",
     "exception": false,
     "start_time": "2022-12-02T20:16:24.506002",
     "status": "completed"
    },
    "tags": []
   },
   "outputs": [
    {
     "data": {
      "text/plain": [
       "'projects/asthma-copd/nbs/30_gls_phenoplier'"
      ]
     },
     "metadata": {},
     "output_type": "display_data"
    }
   ],
   "source": [
    "if PHENOPLIER_NOTEBOOK_FILEPATH is not None:\n",
    "    PHENOPLIER_NOTEBOOK_DIR = str(Path(PHENOPLIER_NOTEBOOK_FILEPATH).parent)\n",
    "\n",
    "display(PHENOPLIER_NOTEBOOK_DIR)"
   ]
  },
  {
   "cell_type": "markdown",
   "id": "3a558eec-2251-4be7-a754-1f98adde3aec",
   "metadata": {
    "papermill": {
     "duration": 0.00267,
     "end_time": "2022-12-02T20:16:24.525270",
     "exception": false,
     "start_time": "2022-12-02T20:16:24.522600",
     "status": "completed"
    },
    "tags": []
   },
   "source": [
    "# Run"
   ]
  },
  {
   "cell_type": "code",
   "execution_count": 5,
   "id": "0c0cd3d9-b032-4f03-82eb-0017a0ef1cca",
   "metadata": {
    "execution": {
     "iopub.execute_input": "2022-12-02T20:16:24.531482Z",
     "iopub.status.busy": "2022-12-02T20:16:24.531012Z",
     "iopub.status.idle": "2022-12-02T20:17:57.982898Z",
     "shell.execute_reply": "2022-12-02T20:17:57.982190Z"
    },
    "papermill": {
     "duration": 93.45658,
     "end_time": "2022-12-02T20:17:57.984368",
     "exception": false,
     "start_time": "2022-12-02T20:16:24.527788",
     "status": "completed"
    },
    "tags": []
   },
   "outputs": [
    {
     "name": "stdout",
     "output_type": "stream",
     "text": [
      "Running for asthma_only\n",
      "Saving results in /opt/data/projects/asthma-copd/results/gls_phenoplier/gls/GWAS_Asthma_only_GLM_SNPs_info0.7-gls_phenoplier.tsv.gz\n",
      "[2022-12-02 20:16:26,359] WARNING: 3 genes with missing values have been removed\n",
      "[2022-12-02 20:16:26,362] WARNING: 22305 genes in phenotype associations, but only 6445 were found in LV models\n",
      "\n",
      "Running for copd_only\n",
      "Saving results in /opt/data/projects/asthma-copd/results/gls_phenoplier/gls/GWAS_COPD_only_GLM_SNPs_info0.7-gls_phenoplier.tsv.gz\n",
      "[2022-12-02 20:16:26,376] WARNING: 3 genes with missing values have been removed\n",
      "[2022-12-02 20:16:26,380] WARNING: 22320 genes in phenotype associations, but only 6445 were found in LV models\n",
      "\n",
      "Running for aco\n",
      "Saving results in /opt/data/projects/asthma-copd/results/gls_phenoplier/gls/GWAS_ACO_GLM_SNPs_info0.7-gls_phenoplier.tsv.gz\n",
      "[2022-12-02 20:16:26,333] WARNING: 3 genes with missing values have been removed\n",
      "[2022-12-02 20:16:26,337] WARNING: 22312 genes in phenotype associations, but only 6444 were found in LV models\n",
      "\n"
     ]
    }
   ],
   "source": [
    "%%bash -s \"$PHENOPLIER_NOTEBOOK_DIR\"\n",
    "set -euo pipefail\n",
    "IFS=$'\\n\\t'\n",
    "\n",
    "# read the notebook directory parameter and remove $1\n",
    "export PHENOPLIER_NOTEBOOK_DIR=\"${PHENOPLIER_CODE_DIR}/$1\"\n",
    "shift\n",
    "\n",
    "run_job () {\n",
    "    # run_job is a standard function name that performs a particular job\n",
    "    # depending on the context. It will be called by GNU Parallel below.\n",
    "    #\n",
    "    # The implementation here runs the GLS model of PhenoPLIER on a trait.\n",
    "\n",
    "    # read trait information\n",
    "    # the first parameter to this function is a string with values separated by\n",
    "    # commas (,). So here I split those into different variables.\n",
    "    IFS=',' read -r pheno_id file sample_size n_cases <<< \"$1\"\n",
    "\n",
    "    INPUT_FILENAME=${file%.*}\n",
    "    GENE_CORR_FILE=\"${PHENOPLIER_PROJECTS_ASTHMA_COPD_RESULTS_DIR}/gls_phenoplier/gene_corrs/${pheno_id}/gene_corrs-symbols.per_lv\"\n",
    "\n",
    "    SMULTIXCAN_DIR=\"${PHENOPLIER_PROJECTS_ASTHMA_COPD_RESULTS_DIR}/twas/smultixcan\"\n",
    "    SMULTIXCAN_FILE=\"${SMULTIXCAN_DIR}/${INPUT_FILENAME}-gtex_v8-mashr-smultixcan.txt\"\n",
    "\n",
    "    OUTPUT_DIR=\"${PHENOPLIER_PROJECTS_ASTHMA_COPD_RESULTS_DIR}/gls_phenoplier/gls\"\n",
    "    mkdir -p \"${OUTPUT_DIR}\"\n",
    "\n",
    "    OUTPUT_FILENAME_BASE=\"${INPUT_FILENAME}-gls_phenoplier\"\n",
    "\n",
    "    LOG_FILE=\"${OUTPUT_DIR}/${OUTPUT_FILENAME_BASE}.log\"\n",
    "\n",
    "    # make sure we are not also parallelizing within numpy, etc\n",
    "    export NUMBA_NUM_THREADS=1\n",
    "    export MKL_NUM_THREADS=1\n",
    "    export OPEN_BLAS_NUM_THREADS=1\n",
    "    export NUMEXPR_NUM_THREADS=1\n",
    "    export OMP_NUM_THREADS=1\n",
    "\n",
    "    echo \"Running for $pheno_id\"\n",
    "    echo \"Saving results in ${OUTPUT_DIR}/${OUTPUT_FILENAME_BASE}.tsv.gz\"\n",
    "\n",
    "    bash \"${PHENOPLIER_CODE_DIR}/scripts/gls_phenoplier.sh\" \\\n",
    "        --input-file \"${SMULTIXCAN_FILE}\" \\\n",
    "        --gene-corr-file \"${GENE_CORR_FILE}\" \\\n",
    "        --covars \"gene_size gene_size_log gene_density gene_density_log\" \\\n",
    "        --output-file \"${OUTPUT_DIR}/${OUTPUT_FILENAME_BASE}.tsv.gz\" \\\n",
    "    >\"${LOG_FILE}\" 2>&1\n",
    "\n",
    "    # print errors here in the notebook\n",
    "    cat \"${LOG_FILE}\" | grep -iE \"warning|error\"\n",
    "\n",
    "    echo\n",
    "}\n",
    "\n",
    "# export function so GNU Parallel can see it\n",
    "export -f run_job\n",
    "\n",
    "# generate a list of run_job calls for GNU Parallel\n",
    "# here I read a file with information about traits (one trait per line)\n",
    "while IFS= read -r line; do\n",
    "    echo run_job \"${line}\"\n",
    "done < <(tail -n \"+2\" \"${PHENOPLIER_PROJECTS_ASTHMA_COPD_TRAITS_INFO_FILE}\") |\n",
    "    parallel -k --group --halt 2 -j${PHENOPLIER_GENERAL_N_JOBS}"
   ]
  },
  {
   "cell_type": "code",
   "execution_count": null,
   "id": "4c85b633-88a5-4623-b105-42c38208109e",
   "metadata": {
    "papermill": {
     "duration": 0.003279,
     "end_time": "2022-12-02T20:17:57.991042",
     "exception": false,
     "start_time": "2022-12-02T20:17:57.987763",
     "status": "completed"
    },
    "tags": []
   },
   "outputs": [],
   "source": []
  }
 ],
 "metadata": {
  "jupytext": {
   "cell_metadata_filter": "all,-execution,-papermill,-trusted"
  },
  "kernelspec": {
   "display_name": "Python 3 (ipykernel)",
   "language": "python",
   "name": "python3"
  },
  "language_info": {
   "codemirror_mode": {
    "name": "ipython",
    "version": 3
   },
   "file_extension": ".py",
   "mimetype": "text/x-python",
   "name": "python",
   "nbconvert_exporter": "python",
   "pygments_lexer": "ipython3",
   "version": "3.10.6"
  },
  "papermill": {
   "default_parameters": {},
   "duration": 94.646065,
   "end_time": "2022-12-02T20:17:58.210958",
   "environment_variables": {},
   "exception": null,
   "input_path": "projects/asthma-copd/nbs/30_gls_phenoplier/01-run_gls_phenoplier.ipynb",
   "output_path": "projects/asthma-copd/nbs/30_gls_phenoplier/01-run_gls_phenoplier.run.ipynb",
   "parameters": {
    "PHENOPLIER_NOTEBOOK_FILEPATH": "projects/asthma-copd/nbs/30_gls_phenoplier/01-run_gls_phenoplier.ipynb"
   },
   "start_time": "2022-12-02T20:16:23.564893",
   "version": "2.3.4"
  }
 },
 "nbformat": 4,
 "nbformat_minor": 5
}
