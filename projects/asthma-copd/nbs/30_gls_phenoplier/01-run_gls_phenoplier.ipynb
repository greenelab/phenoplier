{
 "cells": [
  {
   "cell_type": "markdown",
   "id": "c935aa7e-fde1-4d1c-b2d7-8c7ee611b1ed",
   "metadata": {
    "papermill": {
     "duration": 0.002998,
     "end_time": "2022-12-02T19:38:10.711473",
     "exception": false,
     "start_time": "2022-12-02T19:38:10.708475",
     "status": "completed"
    },
    "tags": []
   },
   "source": [
    "# Description"
   ]
  },
  {
   "cell_type": "markdown",
   "id": "8a5a655a-0628-49c1-99a3-f17d9969ac65",
   "metadata": {
    "papermill": {
     "duration": 0.002658,
     "end_time": "2022-12-02T19:38:10.723567",
     "exception": false,
     "start_time": "2022-12-02T19:38:10.720909",
     "status": "completed"
    },
    "tags": []
   },
   "source": [
    "It runs the GLS model (regression) of PhenoPLIER on a set of traits."
   ]
  },
  {
   "cell_type": "markdown",
   "id": "d389dd7b-20d8-44ed-8053-6e2cd8efea2e",
   "metadata": {
    "papermill": {
     "duration": 0.002635,
     "end_time": "2022-12-02T19:38:10.729043",
     "exception": false,
     "start_time": "2022-12-02T19:38:10.726408",
     "status": "completed"
    },
    "tags": []
   },
   "source": [
    "# Modules"
   ]
  },
  {
   "cell_type": "code",
   "execution_count": 1,
   "id": "69797656-0db2-41d5-b4d6-63c24d47ad38",
   "metadata": {
    "execution": {
     "iopub.execute_input": "2022-12-02T19:38:10.735748Z",
     "iopub.status.busy": "2022-12-02T19:38:10.735448Z",
     "iopub.status.idle": "2022-12-02T19:38:10.743071Z",
     "shell.execute_reply": "2022-12-02T19:38:10.742487Z"
    },
    "papermill": {
     "duration": 0.012791,
     "end_time": "2022-12-02T19:38:10.744533",
     "exception": false,
     "start_time": "2022-12-02T19:38:10.731742",
     "status": "completed"
    },
    "tags": []
   },
   "outputs": [],
   "source": [
    "import os\n",
    "from pathlib import Path"
   ]
  },
  {
   "cell_type": "markdown",
   "id": "dd17aa24-a692-4f62-ac69-c270447c7729",
   "metadata": {
    "papermill": {
     "duration": 0.003421,
     "end_time": "2022-12-02T19:38:10.750803",
     "exception": false,
     "start_time": "2022-12-02T19:38:10.747382",
     "status": "completed"
    },
    "tags": []
   },
   "source": [
    "# Settings"
   ]
  },
  {
   "cell_type": "markdown",
   "id": "d1271b94-ca31-4887-bd49-914be78efd94",
   "metadata": {
    "papermill": {
     "duration": 0.002304,
     "end_time": "2022-12-02T19:38:10.755576",
     "exception": false,
     "start_time": "2022-12-02T19:38:10.753272",
     "status": "completed"
    },
    "tags": []
   },
   "source": [
    "Apparently, there is no easy way to get the parent directory of\n",
    "a notebook in Jupyter, so here I get that information either from\n",
    "the parameter sent by `nbs/run_nbs.sh` (if called from command-line) or\n",
    "from `os.getcwd()` (if called from browser)."
   ]
  },
  {
   "cell_type": "code",
   "execution_count": 2,
   "id": "9146ad80-8c12-4e0f-a713-84e02c9ecefa",
   "metadata": {
    "execution": {
     "iopub.execute_input": "2022-12-02T19:38:10.761712Z",
     "iopub.status.busy": "2022-12-02T19:38:10.761179Z",
     "iopub.status.idle": "2022-12-02T19:38:10.764655Z",
     "shell.execute_reply": "2022-12-02T19:38:10.764044Z"
    },
    "papermill": {
     "duration": 0.008113,
     "end_time": "2022-12-02T19:38:10.766126",
     "exception": false,
     "start_time": "2022-12-02T19:38:10.758013",
     "status": "completed"
    },
    "tags": [
     "parameters"
    ]
   },
   "outputs": [],
   "source": [
    "PHENOPLIER_NOTEBOOK_FILEPATH = None\n",
    "PHENOPLIER_NOTEBOOK_DIR = os.getcwd()"
   ]
  },
  {
   "cell_type": "code",
   "execution_count": 3,
   "id": "daebbf1c",
   "metadata": {
    "execution": {
     "iopub.execute_input": "2022-12-02T19:38:10.772247Z",
     "iopub.status.busy": "2022-12-02T19:38:10.771843Z",
     "iopub.status.idle": "2022-12-02T19:38:10.775153Z",
     "shell.execute_reply": "2022-12-02T19:38:10.774544Z"
    },
    "lines_to_next_cell": 2,
    "papermill": {
     "duration": 0.007912,
     "end_time": "2022-12-02T19:38:10.776654",
     "exception": false,
     "start_time": "2022-12-02T19:38:10.768742",
     "status": "completed"
    },
    "tags": [
     "injected-parameters"
    ]
   },
   "outputs": [],
   "source": [
    "# Parameters\n",
    "PHENOPLIER_NOTEBOOK_FILEPATH = (\n",
    "    \"projects/asthma-copd/nbs/30_gls_phenoplier/01-run_gls_phenoplier.ipynb\"\n",
    ")"
   ]
  },
  {
   "cell_type": "code",
   "execution_count": 4,
   "id": "b16398ff-9374-4cf3-9e03-663147be0817",
   "metadata": {
    "execution": {
     "iopub.execute_input": "2022-12-02T19:38:10.782860Z",
     "iopub.status.busy": "2022-12-02T19:38:10.782290Z",
     "iopub.status.idle": "2022-12-02T19:38:10.792396Z",
     "shell.execute_reply": "2022-12-02T19:38:10.791761Z"
    },
    "papermill": {
     "duration": 0.014853,
     "end_time": "2022-12-02T19:38:10.794007",
     "exception": false,
     "start_time": "2022-12-02T19:38:10.779154",
     "status": "completed"
    },
    "tags": []
   },
   "outputs": [
    {
     "data": {
      "text/plain": [
       "'projects/asthma-copd/nbs/30_gls_phenoplier'"
      ]
     },
     "metadata": {},
     "output_type": "display_data"
    }
   ],
   "source": [
    "if PHENOPLIER_NOTEBOOK_FILEPATH is not None:\n",
    "    PHENOPLIER_NOTEBOOK_DIR = str(Path(PHENOPLIER_NOTEBOOK_FILEPATH).parent)\n",
    "\n",
    "display(PHENOPLIER_NOTEBOOK_DIR)"
   ]
  },
  {
   "cell_type": "markdown",
   "id": "3a558eec-2251-4be7-a754-1f98adde3aec",
   "metadata": {
    "papermill": {
     "duration": 0.002547,
     "end_time": "2022-12-02T19:38:10.799300",
     "exception": false,
     "start_time": "2022-12-02T19:38:10.796753",
     "status": "completed"
    },
    "tags": []
   },
   "source": [
    "# Run"
   ]
  },
  {
   "cell_type": "code",
   "execution_count": 5,
   "id": "0c0cd3d9-b032-4f03-82eb-0017a0ef1cca",
   "metadata": {
    "execution": {
     "iopub.execute_input": "2022-12-02T19:38:10.805841Z",
     "iopub.status.busy": "2022-12-02T19:38:10.805161Z",
     "iopub.status.idle": "2022-12-02T19:39:44.777750Z",
     "shell.execute_reply": "2022-12-02T19:39:44.777047Z"
    },
    "papermill": {
     "duration": 93.976919,
     "end_time": "2022-12-02T19:39:44.778746",
     "exception": false,
     "start_time": "2022-12-02T19:38:10.801827",
     "status": "completed"
    },
    "tags": []
   },
   "outputs": [
    {
     "name": "stdout",
     "output_type": "stream",
     "text": [
      "Running for asthma_only\n",
      "Saving results in /opt/data/projects/asthma-copd/results/gls_phenoplier/gls/GWAS_Asthma_only_GLM_SNPs_info0.7-gls_phenoplier.tsv.gz\n",
      "[2022-12-02 19:38:12,656] WARNING: 3 genes with missing values have been removed\n",
      "[2022-12-02 19:38:12,659] WARNING: 22305 genes in phenotype associations, but only 6445 were found in LV models\n",
      "\n",
      "Running for copd_only\n",
      "Saving results in /opt/data/projects/asthma-copd/results/gls_phenoplier/gls/GWAS_COPD_only_GLM_SNPs_info0.7-gls_phenoplier.tsv.gz\n",
      "[2022-12-02 19:38:12,626] WARNING: 3 genes with missing values have been removed\n",
      "[2022-12-02 19:38:12,630] WARNING: 22320 genes in phenotype associations, but only 6445 were found in LV models\n",
      "\n",
      "Running for aco\n",
      "Saving results in /opt/data/projects/asthma-copd/results/gls_phenoplier/gls/GWAS_ACO_GLM_SNPs_info0.7-gls_phenoplier.tsv.gz\n",
      "[2022-12-02 19:38:12,643] WARNING: 3 genes with missing values have been removed\n",
      "[2022-12-02 19:38:12,647] WARNING: 22312 genes in phenotype associations, but only 6444 were found in LV models\n",
      "\n"
     ]
    }
   ],
   "source": [
    "%%bash -s \"$PHENOPLIER_NOTEBOOK_DIR\"\n",
    "set -euo pipefail\n",
    "IFS=$'\\n\\t'\n",
    "\n",
    "# read the notebook directory parameter and remove $1\n",
    "export PHENOPLIER_NOTEBOOK_DIR=\"${PHENOPLIER_CODE_DIR}/$1\"\n",
    "shift\n",
    "\n",
    "run_job () {\n",
    "    # run_job is a standard function name that performs a particular job\n",
    "    # depending on the context. It will be called by GNU Parallel below.\n",
    "    #\n",
    "    # The implementation here runs the GLS model of PhenoPLIER on a trait.\n",
    "\n",
    "    # read trait information\n",
    "    # the first parameter to this function is a string with values separated by\n",
    "    # commas (,). So here I split those into different variables.\n",
    "    IFS=',' read -r pheno_id desc file sample_size n_cases <<< \"$1\"\n",
    "\n",
    "    INPUT_FILENAME=${file%.*}\n",
    "    GENE_CORR_FILE=\"${PHENOPLIER_PROJECTS_ASTHMA_COPD_RESULTS_DIR}/gls_phenoplier/gene_corrs/${pheno_id}/gene_corrs-symbols.per_lv\"\n",
    "\n",
    "    SMULTIXCAN_DIR=\"${PHENOPLIER_PROJECTS_ASTHMA_COPD_RESULTS_DIR}/twas/smultixcan\"\n",
    "    SMULTIXCAN_FILE=\"${SMULTIXCAN_DIR}/${INPUT_FILENAME}-gtex_v8-mashr-smultixcan.txt\"\n",
    "\n",
    "    OUTPUT_DIR=\"${PHENOPLIER_PROJECTS_ASTHMA_COPD_RESULTS_DIR}/gls_phenoplier/gls\"\n",
    "    mkdir -p \"${OUTPUT_DIR}\"\n",
    "\n",
    "    OUTPUT_FILENAME_BASE=\"${INPUT_FILENAME}-gls_phenoplier\"\n",
    "\n",
    "    LOG_FILE=\"${OUTPUT_DIR}/${OUTPUT_FILENAME_BASE}.log\"\n",
    "\n",
    "    # make sure we are not also parallelizing within numpy, etc\n",
    "    export NUMBA_NUM_THREADS=1\n",
    "    export MKL_NUM_THREADS=1\n",
    "    export OPEN_BLAS_NUM_THREADS=1\n",
    "    export NUMEXPR_NUM_THREADS=1\n",
    "    export OMP_NUM_THREADS=1\n",
    "\n",
    "    echo \"Running for $pheno_id\"\n",
    "    echo \"Saving results in ${OUTPUT_DIR}/${OUTPUT_FILENAME_BASE}.tsv.gz\"\n",
    "\n",
    "    bash \"${PHENOPLIER_CODE_DIR}/scripts/gls_phenoplier.sh\" \\\n",
    "        --input-file \"${SMULTIXCAN_FILE}\" \\\n",
    "        --gene-corr-file \"${GENE_CORR_FILE}\" \\\n",
    "        --covars \"gene_size gene_size_log gene_density gene_density_log\" \\\n",
    "        --output-file \"${OUTPUT_DIR}/${OUTPUT_FILENAME_BASE}.tsv.gz\" \\\n",
    "    >\"${LOG_FILE}\" 2>&1\n",
    "\n",
    "    # print errors here in the notebook\n",
    "    cat \"${LOG_FILE}\" | grep -iE \"warning|error\"\n",
    "\n",
    "    echo\n",
    "}\n",
    "\n",
    "# export function so GNU Parallel can see it\n",
    "export -f run_job\n",
    "\n",
    "# generate a list of run_job calls for GNU Parallel\n",
    "# here I read a file with information about traits (one trait per line)\n",
    "while IFS= read -r line; do\n",
    "    echo run_job \"${line}\"\n",
    "done < <(tail -n \"+2\" \"${PHENOPLIER_PROJECTS_ASTHMA_COPD_DATA_DIR}/traits_info.csv\") |\n",
    "    parallel -k --group --halt 2 -j${PHENOPLIER_GENERAL_N_JOBS}"
   ]
  },
  {
   "cell_type": "code",
   "execution_count": null,
   "id": "4c85b633-88a5-4623-b105-42c38208109e",
   "metadata": {
    "papermill": {
     "duration": 0.001815,
     "end_time": "2022-12-02T19:39:44.782895",
     "exception": false,
     "start_time": "2022-12-02T19:39:44.781080",
     "status": "completed"
    },
    "tags": []
   },
   "outputs": [],
   "source": []
  }
 ],
 "metadata": {
  "jupytext": {
   "cell_metadata_filter": "all,-execution,-papermill,-trusted"
  },
  "kernelspec": {
   "display_name": "Python 3 (ipykernel)",
   "language": "python",
   "name": "python3"
  },
  "language_info": {
   "codemirror_mode": {
    "name": "ipython",
    "version": 3
   },
   "file_extension": ".py",
   "mimetype": "text/x-python",
   "name": "python",
   "nbconvert_exporter": "python",
   "pygments_lexer": "ipython3",
   "version": "3.10.6"
  },
  "papermill": {
   "default_parameters": {},
   "duration": 95.170765,
   "end_time": "2022-12-02T19:39:45.000931",
   "environment_variables": {},
   "exception": null,
   "input_path": "projects/asthma-copd/nbs/30_gls_phenoplier/01-run_gls_phenoplier.ipynb",
   "output_path": "projects/asthma-copd/nbs/30_gls_phenoplier/01-run_gls_phenoplier.run.ipynb",
   "parameters": {
    "PHENOPLIER_NOTEBOOK_FILEPATH": "projects/asthma-copd/nbs/30_gls_phenoplier/01-run_gls_phenoplier.ipynb"
   },
   "start_time": "2022-12-02T19:38:09.830166",
   "version": "2.3.4"
  }
 },
 "nbformat": 4,
 "nbformat_minor": 5
}
