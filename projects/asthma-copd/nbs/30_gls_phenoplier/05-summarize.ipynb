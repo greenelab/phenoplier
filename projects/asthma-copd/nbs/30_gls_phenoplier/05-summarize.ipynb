{
 "cells": [
  {
   "cell_type": "markdown",
   "id": "b7acf0c2",
   "metadata": {
    "papermill": {
     "duration": 0.008433,
     "end_time": "2022-12-02T20:36:16.609825",
     "exception": false,
     "start_time": "2022-12-02T20:36:16.601392",
     "status": "completed"
    },
    "tags": []
   },
   "source": [
    "# Description"
   ]
  },
  {
   "cell_type": "markdown",
   "id": "2653adfb",
   "metadata": {
    "papermill": {
     "duration": 0.008366,
     "end_time": "2022-12-02T20:36:16.627620",
     "exception": false,
     "start_time": "2022-12-02T20:36:16.619254",
     "status": "completed"
    },
    "tags": []
   },
   "source": [
    "It summarizes the GLS (Generalized Least Squares) results, adjusting pvalues using FDR, and saving the final results to a pickle file for later use."
   ]
  },
  {
   "cell_type": "markdown",
   "id": "fb645f46",
   "metadata": {
    "papermill": {
     "duration": 0.007543,
     "end_time": "2022-12-02T20:36:16.642818",
     "exception": false,
     "start_time": "2022-12-02T20:36:16.635275",
     "status": "completed"
    },
    "tags": []
   },
   "source": [
    "# Modules"
   ]
  },
  {
   "cell_type": "code",
   "execution_count": 1,
   "id": "7ce51c68",
   "metadata": {
    "papermill": {
     "duration": 0.604052,
     "end_time": "2022-12-02T20:36:17.255207",
     "exception": false,
     "start_time": "2022-12-02T20:36:16.651155",
     "status": "completed"
    },
    "tags": []
   },
   "outputs": [],
   "source": [
    "from pathlib import Path\n",
    "\n",
    "import numpy as np\n",
    "import pandas as pd\n",
    "from statsmodels.stats.multitest import multipletests\n",
    "import matplotlib.pyplot as plt\n",
    "import matplotlib as mpl\n",
    "import seaborn as sns\n",
    "\n",
    "import conf\n",
    "from phenoplier_plots import qqplot"
   ]
  },
  {
   "cell_type": "markdown",
   "id": "654985a3",
   "metadata": {
    "papermill": {
     "duration": 0.009974,
     "end_time": "2022-12-02T20:36:17.272991",
     "exception": false,
     "start_time": "2022-12-02T20:36:17.263017",
     "status": "completed"
    },
    "tags": []
   },
   "source": [
    "# Settings"
   ]
  },
  {
   "cell_type": "code",
   "execution_count": 2,
   "id": "d4e1bf58-d0ac-455a-97d8-1d892b4a38d6",
   "metadata": {
    "papermill": {
     "duration": 0.011961,
     "end_time": "2022-12-02T20:36:17.292590",
     "exception": false,
     "start_time": "2022-12-02T20:36:17.280629",
     "status": "completed"
    },
    "tags": [
     "parameters"
    ]
   },
   "outputs": [],
   "source": [
    "N_PHENOTYPES = 3\n",
    "N_LVS = 987"
   ]
  },
  {
   "cell_type": "code",
   "execution_count": 3,
   "id": "abed77a6",
   "metadata": {
    "lines_to_next_cell": 2,
    "papermill": {
     "duration": 0.011776,
     "end_time": "2022-12-02T20:36:17.312052",
     "exception": false,
     "start_time": "2022-12-02T20:36:17.300276",
     "status": "completed"
    },
    "tags": [
     "injected-parameters"
    ]
   },
   "outputs": [],
   "source": [
    "# Parameters\n",
    "PHENOPLIER_NOTEBOOK_FILEPATH = (\n",
    "    \"projects/asthma-copd/nbs/30_gls_phenoplier/05-summarize.ipynb\"\n",
    ")"
   ]
  },
  {
   "cell_type": "code",
   "execution_count": 4,
   "id": "9ba4e01c",
   "metadata": {
    "papermill": {
     "duration": 0.02002,
     "end_time": "2022-12-02T20:36:17.340337",
     "exception": false,
     "start_time": "2022-12-02T20:36:17.320317",
     "status": "completed"
    },
    "tags": []
   },
   "outputs": [
    {
     "data": {
      "text/plain": [
       "PosixPath('/opt/data/projects/asthma-copd/results/gls_phenoplier/gls')"
      ]
     },
     "metadata": {},
     "output_type": "display_data"
    },
    {
     "data": {
      "text/plain": [
       "'*.tsv.gz'"
      ]
     },
     "metadata": {},
     "output_type": "display_data"
    }
   ],
   "source": [
    "INPUT_DIR = conf.PROJECTS[\"ASTHMA_COPD\"][\"RESULTS_DIR\"] / \"gls_phenoplier\" / \"gls\"\n",
    "display(INPUT_DIR)\n",
    "assert INPUT_DIR.exists()\n",
    "\n",
    "INPUT_PATTERN = \"*.tsv.gz\"\n",
    "display(INPUT_PATTERN)"
   ]
  },
  {
   "cell_type": "code",
   "execution_count": 5,
   "id": "3f0ceee7-2e59-493d-845c-35d131159f4b",
   "metadata": {
    "papermill": {
     "duration": 0.013097,
     "end_time": "2022-12-02T20:36:17.361407",
     "exception": false,
     "start_time": "2022-12-02T20:36:17.348310",
     "status": "completed"
    },
    "tags": []
   },
   "outputs": [],
   "source": [
    "PVALUE_COLUMN = \"pvalue\""
   ]
  },
  {
   "cell_type": "code",
   "execution_count": 6,
   "id": "9b6901c2-e3c5-4dfc-8ff3-b8fdeb12e3fd",
   "metadata": {
    "papermill": {
     "duration": 0.014396,
     "end_time": "2022-12-02T20:36:17.383750",
     "exception": false,
     "start_time": "2022-12-02T20:36:17.369354",
     "status": "completed"
    },
    "tags": []
   },
   "outputs": [
    {
     "data": {
      "text/plain": [
       "PosixPath('/opt/data/projects/asthma-copd/results/gls_phenoplier')"
      ]
     },
     "metadata": {},
     "output_type": "display_data"
    }
   ],
   "source": [
    "OUTPUT_DIR = conf.PROJECTS[\"ASTHMA_COPD\"][\"RESULTS_DIR\"] / \"gls_phenoplier\"\n",
    "display(OUTPUT_DIR)\n",
    "OUTPUT_DIR.mkdir(exist_ok=True, parents=True)"
   ]
  },
  {
   "cell_type": "markdown",
   "id": "5f2c6f72-9a30-4ced-bc9a-04b6b3b21384",
   "metadata": {
    "papermill": {
     "duration": 0.00609,
     "end_time": "2022-12-02T20:36:17.398265",
     "exception": false,
     "start_time": "2022-12-02T20:36:17.392175",
     "status": "completed"
    },
    "tags": []
   },
   "source": [
    "# Load data"
   ]
  },
  {
   "cell_type": "markdown",
   "id": "1d14b0b8-7358-4c0a-934c-2298b0436f02",
   "metadata": {
    "papermill": {
     "duration": 0.003956,
     "end_time": "2022-12-02T20:36:17.406240",
     "exception": false,
     "start_time": "2022-12-02T20:36:17.402284",
     "status": "completed"
    },
    "tags": []
   },
   "source": [
    "## Phenotype info"
   ]
  },
  {
   "cell_type": "code",
   "execution_count": 7,
   "id": "55a31713-f6d3-4639-a8a9-642e7d4e8bf7",
   "metadata": {
    "papermill": {
     "duration": 0.011253,
     "end_time": "2022-12-02T20:36:17.421681",
     "exception": false,
     "start_time": "2022-12-02T20:36:17.410428",
     "status": "completed"
    },
    "tags": []
   },
   "outputs": [],
   "source": [
    "pheno_info = pd.read_csv(conf.PROJECTS[\"ASTHMA_COPD\"][\"TRAITS_INFO_FILE\"])"
   ]
  },
  {
   "cell_type": "code",
   "execution_count": 8,
   "id": "0cb2c235-1b72-498a-8d98-80950fc48faa",
   "metadata": {
    "papermill": {
     "duration": 0.009783,
     "end_time": "2022-12-02T20:36:17.435571",
     "exception": false,
     "start_time": "2022-12-02T20:36:17.425788",
     "status": "completed"
    },
    "tags": []
   },
   "outputs": [
    {
     "data": {
      "text/plain": [
       "(3, 4)"
      ]
     },
     "execution_count": 8,
     "metadata": {},
     "output_type": "execute_result"
    }
   ],
   "source": [
    "pheno_info.shape"
   ]
  },
  {
   "cell_type": "code",
   "execution_count": 9,
   "id": "c286789f-6d0a-4162-bf8d-7bcf82d9089d",
   "metadata": {
    "papermill": {
     "duration": 0.013559,
     "end_time": "2022-12-02T20:36:17.453318",
     "exception": false,
     "start_time": "2022-12-02T20:36:17.439759",
     "status": "completed"
    },
    "tags": []
   },
   "outputs": [
    {
     "data": {
      "text/html": [
       "<div>\n",
       "<style scoped>\n",
       "    .dataframe tbody tr th:only-of-type {\n",
       "        vertical-align: middle;\n",
       "    }\n",
       "\n",
       "    .dataframe tbody tr th {\n",
       "        vertical-align: top;\n",
       "    }\n",
       "\n",
       "    .dataframe thead th {\n",
       "        text-align: right;\n",
       "    }\n",
       "</style>\n",
       "<table border=\"1\" class=\"dataframe\">\n",
       "  <thead>\n",
       "    <tr style=\"text-align: right;\">\n",
       "      <th></th>\n",
       "      <th>id</th>\n",
       "      <th>gwas_file</th>\n",
       "      <th>sample_size</th>\n",
       "      <th>n_cases</th>\n",
       "    </tr>\n",
       "  </thead>\n",
       "  <tbody>\n",
       "    <tr>\n",
       "      <th>0</th>\n",
       "      <td>asthma_only</td>\n",
       "      <td>GWAS_Asthma_only_GLM_SNPs_info0.7.txt</td>\n",
       "      <td>181862</td>\n",
       "      <td>19217</td>\n",
       "    </tr>\n",
       "    <tr>\n",
       "      <th>1</th>\n",
       "      <td>copd_only</td>\n",
       "      <td>GWAS_COPD_only_GLM_SNPs_info0.7.txt</td>\n",
       "      <td>175700</td>\n",
       "      <td>13055</td>\n",
       "    </tr>\n",
       "    <tr>\n",
       "      <th>2</th>\n",
       "      <td>aco</td>\n",
       "      <td>GWAS_ACO_GLM_SNPs_info0.7.txt</td>\n",
       "      <td>169680</td>\n",
       "      <td>7035</td>\n",
       "    </tr>\n",
       "  </tbody>\n",
       "</table>\n",
       "</div>"
      ],
      "text/plain": [
       "            id                              gwas_file  sample_size  n_cases\n",
       "0  asthma_only  GWAS_Asthma_only_GLM_SNPs_info0.7.txt       181862    19217\n",
       "1    copd_only    GWAS_COPD_only_GLM_SNPs_info0.7.txt       175700    13055\n",
       "2          aco          GWAS_ACO_GLM_SNPs_info0.7.txt       169680     7035"
      ]
     },
     "execution_count": 9,
     "metadata": {},
     "output_type": "execute_result"
    }
   ],
   "source": [
    "pheno_info.head()"
   ]
  },
  {
   "cell_type": "code",
   "execution_count": 10,
   "id": "3c97a69a-a6fa-4868-a20e-88bdb4636641",
   "metadata": {
    "papermill": {
     "duration": 0.008919,
     "end_time": "2022-12-02T20:36:17.466758",
     "exception": false,
     "start_time": "2022-12-02T20:36:17.457839",
     "status": "completed"
    },
    "tags": []
   },
   "outputs": [],
   "source": [
    "assert pheno_info[\"id\"].is_unique"
   ]
  },
  {
   "cell_type": "code",
   "execution_count": 11,
   "id": "aa15fe3b-cd3c-45c1-ad4e-29b5bc8aa5f9",
   "metadata": {
    "papermill": {
     "duration": 0.008634,
     "end_time": "2022-12-02T20:36:17.479641",
     "exception": false,
     "start_time": "2022-12-02T20:36:17.471007",
     "status": "completed"
    },
    "tags": []
   },
   "outputs": [],
   "source": [
    "# pheno_code_to_desc_map = pheno_info.set_index(\"short_code\")[\n",
    "#     \"unique_description\"\n",
    "# ].to_dict()"
   ]
  },
  {
   "cell_type": "markdown",
   "id": "d8e6a40d-2049-4bd7-a5e4-77e45723da4f",
   "metadata": {
    "papermill": {
     "duration": 0.004402,
     "end_time": "2022-12-02T20:36:17.488323",
     "exception": false,
     "start_time": "2022-12-02T20:36:17.483921",
     "status": "completed"
    },
    "tags": []
   },
   "source": [
    "## GLS results"
   ]
  },
  {
   "cell_type": "markdown",
   "id": "0b8c03b8-78d5-4cbe-b9f2-7c9be063c483",
   "metadata": {
    "papermill": {
     "duration": 0.004227,
     "end_time": "2022-12-02T20:36:17.496822",
     "exception": false,
     "start_time": "2022-12-02T20:36:17.492595",
     "status": "completed"
    },
    "tags": []
   },
   "source": [
    "### Get files list"
   ]
  },
  {
   "cell_type": "code",
   "execution_count": 12,
   "id": "f920bc02-8297-4bd9-8601-665f079cbf91",
   "metadata": {
    "papermill": {
     "duration": 0.010234,
     "end_time": "2022-12-02T20:36:17.511391",
     "exception": false,
     "start_time": "2022-12-02T20:36:17.501157",
     "status": "completed"
    },
    "tags": []
   },
   "outputs": [
    {
     "data": {
      "text/plain": [
       "[PosixPath('/opt/data/projects/asthma-copd/results/gls_phenoplier/gls/GWAS_COPD_only_GLM_SNPs_info0.7-gls_phenoplier.tsv.gz'),\n",
       " PosixPath('/opt/data/projects/asthma-copd/results/gls_phenoplier/gls/GWAS_Asthma_only_GLM_SNPs_info0.7-gls_phenoplier.tsv.gz'),\n",
       " PosixPath('/opt/data/projects/asthma-copd/results/gls_phenoplier/gls/GWAS_ACO_GLM_SNPs_info0.7-gls_phenoplier.tsv.gz')]"
      ]
     },
     "metadata": {},
     "output_type": "display_data"
    }
   ],
   "source": [
    "INPUT_FILES = list(INPUT_DIR.glob(INPUT_PATTERN))\n",
    "display(INPUT_FILES[:5])"
   ]
  },
  {
   "cell_type": "code",
   "execution_count": 13,
   "id": "78294bb3-db99-45ae-8c98-44b74737b56d",
   "metadata": {
    "papermill": {
     "duration": 0.009852,
     "end_time": "2022-12-02T20:36:17.525752",
     "exception": false,
     "start_time": "2022-12-02T20:36:17.515900",
     "status": "completed"
    },
    "tags": []
   },
   "outputs": [
    {
     "data": {
      "text/plain": [
       "3"
      ]
     },
     "metadata": {},
     "output_type": "display_data"
    }
   ],
   "source": [
    "_tmp = len(INPUT_FILES)\n",
    "display(_tmp)\n",
    "assert _tmp == N_PHENOTYPES"
   ]
  },
  {
   "cell_type": "markdown",
   "id": "b582e77d-0f1d-4659-a5fd-d963904931cb",
   "metadata": {
    "papermill": {
     "duration": 0.004299,
     "end_time": "2022-12-02T20:36:17.534423",
     "exception": false,
     "start_time": "2022-12-02T20:36:17.530124",
     "status": "completed"
    },
    "tags": []
   },
   "source": [
    "### Read results"
   ]
  },
  {
   "cell_type": "code",
   "execution_count": 14,
   "id": "a082aeb1-c444-41f1-9f7e-d935c84cda8c",
   "metadata": {
    "papermill": {
     "duration": 0.010048,
     "end_time": "2022-12-02T20:36:17.548816",
     "exception": false,
     "start_time": "2022-12-02T20:36:17.538768",
     "status": "completed"
    },
    "tags": []
   },
   "outputs": [
    {
     "data": {
      "text/plain": [
       "'GWAS_COPD_only_GLM_SNPs_info0.7-'"
      ]
     },
     "execution_count": 14,
     "metadata": {},
     "output_type": "execute_result"
    }
   ],
   "source": [
    "INPUT_FILES[0].name.split(\"gls_phenoplier.\")[0]"
   ]
  },
  {
   "cell_type": "code",
   "execution_count": 15,
   "id": "18ebfb6c",
   "metadata": {
    "papermill": {
     "duration": 0.023312,
     "end_time": "2022-12-02T20:36:17.576561",
     "exception": false,
     "start_time": "2022-12-02T20:36:17.553249",
     "status": "completed"
    },
    "tags": []
   },
   "outputs": [],
   "source": [
    "dfs = [\n",
    "    pd.read_csv(\n",
    "        f, sep=\"\\t\", usecols=[\"lv\", \"beta\", \"beta_se\", \"pvalue_onesided\"]\n",
    "    ).assign(phenotype=f.name.split(\"gls_phenoplier.\")[0])\n",
    "    for f in INPUT_FILES\n",
    "]"
   ]
  },
  {
   "cell_type": "code",
   "execution_count": 16,
   "id": "ac3b6041",
   "metadata": {
    "papermill": {
     "duration": 0.010127,
     "end_time": "2022-12-02T20:36:17.591128",
     "exception": false,
     "start_time": "2022-12-02T20:36:17.581001",
     "status": "completed"
    },
    "tags": []
   },
   "outputs": [
    {
     "data": {
      "text/plain": [
       "3"
      ]
     },
     "metadata": {},
     "output_type": "display_data"
    }
   ],
   "source": [
    "display(len(dfs))\n",
    "assert len(dfs) == N_PHENOTYPES"
   ]
  },
  {
   "cell_type": "code",
   "execution_count": 17,
   "id": "d15f7346",
   "metadata": {
    "papermill": {
     "duration": 0.010614,
     "end_time": "2022-12-02T20:36:17.606636",
     "exception": false,
     "start_time": "2022-12-02T20:36:17.596022",
     "status": "completed"
    },
    "tags": []
   },
   "outputs": [],
   "source": [
    "dfs = pd.concat(dfs, axis=0, ignore_index=True).rename(\n",
    "    columns={\"pvalue_onesided\": PVALUE_COLUMN}\n",
    ")"
   ]
  },
  {
   "cell_type": "code",
   "execution_count": 18,
   "id": "7405b07c-b71a-4a8f-924b-f9ffc7a0b13a",
   "metadata": {
    "papermill": {
     "duration": 0.010147,
     "end_time": "2022-12-02T20:36:17.621243",
     "exception": false,
     "start_time": "2022-12-02T20:36:17.611096",
     "status": "completed"
    },
    "tags": []
   },
   "outputs": [
    {
     "data": {
      "text/plain": [
       "(2961, 5)"
      ]
     },
     "metadata": {},
     "output_type": "display_data"
    }
   ],
   "source": [
    "display(dfs.shape)\n",
    "assert dfs.shape[0] == N_PHENOTYPES * N_LVS"
   ]
  },
  {
   "cell_type": "code",
   "execution_count": 19,
   "id": "921c9f6b-69e2-46ba-9dcd-bce387c6aabc",
   "metadata": {
    "papermill": {
     "duration": 0.008911,
     "end_time": "2022-12-02T20:36:17.634870",
     "exception": false,
     "start_time": "2022-12-02T20:36:17.625959",
     "status": "completed"
    },
    "tags": []
   },
   "outputs": [],
   "source": [
    "# # add phenotype description\n",
    "# dfs = dfs.assign(\n",
    "#     phenotype_desc=dfs[\"phenotype\"].apply(lambda x: pheno_code_to_desc_map[x])\n",
    "# )\n",
    "# dfs = dfs[[\"phenotype\", \"phenotype_desc\", \"lv\", \"pvalue\"]]"
   ]
  },
  {
   "cell_type": "code",
   "execution_count": 20,
   "id": "228787ad-0cbb-4f3b-b964-0bc148a1a305",
   "metadata": {
    "papermill": {
     "duration": 0.014452,
     "end_time": "2022-12-02T20:36:17.653856",
     "exception": false,
     "start_time": "2022-12-02T20:36:17.639404",
     "status": "completed"
    },
    "tags": []
   },
   "outputs": [
    {
     "data": {
      "text/html": [
       "<div>\n",
       "<style scoped>\n",
       "    .dataframe tbody tr th:only-of-type {\n",
       "        vertical-align: middle;\n",
       "    }\n",
       "\n",
       "    .dataframe tbody tr th {\n",
       "        vertical-align: top;\n",
       "    }\n",
       "\n",
       "    .dataframe thead th {\n",
       "        text-align: right;\n",
       "    }\n",
       "</style>\n",
       "<table border=\"1\" class=\"dataframe\">\n",
       "  <thead>\n",
       "    <tr style=\"text-align: right;\">\n",
       "      <th></th>\n",
       "      <th>lv</th>\n",
       "      <th>beta</th>\n",
       "      <th>beta_se</th>\n",
       "      <th>pvalue</th>\n",
       "      <th>phenotype</th>\n",
       "    </tr>\n",
       "  </thead>\n",
       "  <tbody>\n",
       "    <tr>\n",
       "      <th>0</th>\n",
       "      <td>LV247</td>\n",
       "      <td>0.668154</td>\n",
       "      <td>0.127605</td>\n",
       "      <td>8.460145e-08</td>\n",
       "      <td>GWAS_COPD_only_GLM_SNPs_info0.7-</td>\n",
       "    </tr>\n",
       "    <tr>\n",
       "      <th>1</th>\n",
       "      <td>LV300</td>\n",
       "      <td>0.628306</td>\n",
       "      <td>0.126767</td>\n",
       "      <td>3.682449e-07</td>\n",
       "      <td>GWAS_COPD_only_GLM_SNPs_info0.7-</td>\n",
       "    </tr>\n",
       "    <tr>\n",
       "      <th>2</th>\n",
       "      <td>LV180</td>\n",
       "      <td>0.599514</td>\n",
       "      <td>0.127593</td>\n",
       "      <td>1.336798e-06</td>\n",
       "      <td>GWAS_COPD_only_GLM_SNPs_info0.7-</td>\n",
       "    </tr>\n",
       "    <tr>\n",
       "      <th>3</th>\n",
       "      <td>LV696</td>\n",
       "      <td>0.498067</td>\n",
       "      <td>0.126198</td>\n",
       "      <td>4.003842e-05</td>\n",
       "      <td>GWAS_COPD_only_GLM_SNPs_info0.7-</td>\n",
       "    </tr>\n",
       "    <tr>\n",
       "      <th>4</th>\n",
       "      <td>LV504</td>\n",
       "      <td>0.481447</td>\n",
       "      <td>0.127898</td>\n",
       "      <td>8.425287e-05</td>\n",
       "      <td>GWAS_COPD_only_GLM_SNPs_info0.7-</td>\n",
       "    </tr>\n",
       "  </tbody>\n",
       "</table>\n",
       "</div>"
      ],
      "text/plain": [
       "      lv      beta   beta_se        pvalue                         phenotype\n",
       "0  LV247  0.668154  0.127605  8.460145e-08  GWAS_COPD_only_GLM_SNPs_info0.7-\n",
       "1  LV300  0.628306  0.126767  3.682449e-07  GWAS_COPD_only_GLM_SNPs_info0.7-\n",
       "2  LV180  0.599514  0.127593  1.336798e-06  GWAS_COPD_only_GLM_SNPs_info0.7-\n",
       "3  LV696  0.498067  0.126198  4.003842e-05  GWAS_COPD_only_GLM_SNPs_info0.7-\n",
       "4  LV504  0.481447  0.127898  8.425287e-05  GWAS_COPD_only_GLM_SNPs_info0.7-"
      ]
     },
     "execution_count": 20,
     "metadata": {},
     "output_type": "execute_result"
    }
   ],
   "source": [
    "dfs.head()"
   ]
  },
  {
   "cell_type": "code",
   "execution_count": 21,
   "id": "97764d1b-af87-46a2-ab78-53df39b0dde3",
   "metadata": {
    "papermill": {
     "duration": 0.011319,
     "end_time": "2022-12-02T20:36:17.669836",
     "exception": false,
     "start_time": "2022-12-02T20:36:17.658517",
     "status": "completed"
    },
    "tags": []
   },
   "outputs": [],
   "source": [
    "_tmp = dfs.groupby(\"phenotype\")[\"lv\"].nunique().unique()\n",
    "assert _tmp.shape[0] == 1\n",
    "assert _tmp[0] == N_LVS"
   ]
  },
  {
   "cell_type": "markdown",
   "id": "f5310838-2f3e-4f4d-b32a-904cefde6a6a",
   "metadata": {
    "papermill": {
     "duration": 0.004533,
     "end_time": "2022-12-02T20:36:17.679038",
     "exception": false,
     "start_time": "2022-12-02T20:36:17.674505",
     "status": "completed"
    },
    "tags": []
   },
   "source": [
    "### FDR adjust"
   ]
  },
  {
   "cell_type": "code",
   "execution_count": 22,
   "id": "d7e8301f-3cbe-4fe9-973f-cd26f74c2164",
   "metadata": {
    "papermill": {
     "duration": 0.01038,
     "end_time": "2022-12-02T20:36:17.694141",
     "exception": false,
     "start_time": "2022-12-02T20:36:17.683761",
     "status": "completed"
    },
    "tags": []
   },
   "outputs": [],
   "source": [
    "adj_pval = multipletests(dfs[PVALUE_COLUMN], alpha=0.05, method=\"fdr_bh\")\n",
    "dfs = dfs.assign(fdr=adj_pval[1])"
   ]
  },
  {
   "cell_type": "code",
   "execution_count": 23,
   "id": "5878bb72-b4b7-4c8a-9494-f5e9e191b638",
   "metadata": {
    "papermill": {
     "duration": 0.010026,
     "end_time": "2022-12-02T20:36:17.708804",
     "exception": false,
     "start_time": "2022-12-02T20:36:17.698778",
     "status": "completed"
    },
    "tags": []
   },
   "outputs": [
    {
     "data": {
      "text/plain": [
       "(2961, 6)"
      ]
     },
     "execution_count": 23,
     "metadata": {},
     "output_type": "execute_result"
    }
   ],
   "source": [
    "dfs.shape"
   ]
  },
  {
   "cell_type": "code",
   "execution_count": 24,
   "id": "0623dadc-a934-4ae2-b514-8029fd8fbed2",
   "metadata": {
    "papermill": {
     "duration": 0.015091,
     "end_time": "2022-12-02T20:36:17.728582",
     "exception": false,
     "start_time": "2022-12-02T20:36:17.713491",
     "status": "completed"
    },
    "tags": []
   },
   "outputs": [
    {
     "data": {
      "text/html": [
       "<div>\n",
       "<style scoped>\n",
       "    .dataframe tbody tr th:only-of-type {\n",
       "        vertical-align: middle;\n",
       "    }\n",
       "\n",
       "    .dataframe tbody tr th {\n",
       "        vertical-align: top;\n",
       "    }\n",
       "\n",
       "    .dataframe thead th {\n",
       "        text-align: right;\n",
       "    }\n",
       "</style>\n",
       "<table border=\"1\" class=\"dataframe\">\n",
       "  <thead>\n",
       "    <tr style=\"text-align: right;\">\n",
       "      <th></th>\n",
       "      <th>lv</th>\n",
       "      <th>beta</th>\n",
       "      <th>beta_se</th>\n",
       "      <th>pvalue</th>\n",
       "      <th>phenotype</th>\n",
       "      <th>fdr</th>\n",
       "    </tr>\n",
       "  </thead>\n",
       "  <tbody>\n",
       "    <tr>\n",
       "      <th>0</th>\n",
       "      <td>LV247</td>\n",
       "      <td>0.668154</td>\n",
       "      <td>0.127605</td>\n",
       "      <td>8.460145e-08</td>\n",
       "      <td>GWAS_COPD_only_GLM_SNPs_info0.7-</td>\n",
       "      <td>0.000125</td>\n",
       "    </tr>\n",
       "    <tr>\n",
       "      <th>1</th>\n",
       "      <td>LV300</td>\n",
       "      <td>0.628306</td>\n",
       "      <td>0.126767</td>\n",
       "      <td>3.682449e-07</td>\n",
       "      <td>GWAS_COPD_only_GLM_SNPs_info0.7-</td>\n",
       "      <td>0.000259</td>\n",
       "    </tr>\n",
       "    <tr>\n",
       "      <th>2</th>\n",
       "      <td>LV180</td>\n",
       "      <td>0.599514</td>\n",
       "      <td>0.127593</td>\n",
       "      <td>1.336798e-06</td>\n",
       "      <td>GWAS_COPD_only_GLM_SNPs_info0.7-</td>\n",
       "      <td>0.000565</td>\n",
       "    </tr>\n",
       "    <tr>\n",
       "      <th>3</th>\n",
       "      <td>LV696</td>\n",
       "      <td>0.498067</td>\n",
       "      <td>0.126198</td>\n",
       "      <td>4.003842e-05</td>\n",
       "      <td>GWAS_COPD_only_GLM_SNPs_info0.7-</td>\n",
       "      <td>0.010573</td>\n",
       "    </tr>\n",
       "    <tr>\n",
       "      <th>4</th>\n",
       "      <td>LV504</td>\n",
       "      <td>0.481447</td>\n",
       "      <td>0.127898</td>\n",
       "      <td>8.425287e-05</td>\n",
       "      <td>GWAS_COPD_only_GLM_SNPs_info0.7-</td>\n",
       "      <td>0.017819</td>\n",
       "    </tr>\n",
       "  </tbody>\n",
       "</table>\n",
       "</div>"
      ],
      "text/plain": [
       "      lv      beta   beta_se        pvalue                         phenotype  \\\n",
       "0  LV247  0.668154  0.127605  8.460145e-08  GWAS_COPD_only_GLM_SNPs_info0.7-   \n",
       "1  LV300  0.628306  0.126767  3.682449e-07  GWAS_COPD_only_GLM_SNPs_info0.7-   \n",
       "2  LV180  0.599514  0.127593  1.336798e-06  GWAS_COPD_only_GLM_SNPs_info0.7-   \n",
       "3  LV696  0.498067  0.126198  4.003842e-05  GWAS_COPD_only_GLM_SNPs_info0.7-   \n",
       "4  LV504  0.481447  0.127898  8.425287e-05  GWAS_COPD_only_GLM_SNPs_info0.7-   \n",
       "\n",
       "        fdr  \n",
       "0  0.000125  \n",
       "1  0.000259  \n",
       "2  0.000565  \n",
       "3  0.010573  \n",
       "4  0.017819  "
      ]
     },
     "execution_count": 24,
     "metadata": {},
     "output_type": "execute_result"
    }
   ],
   "source": [
    "dfs.head()"
   ]
  },
  {
   "cell_type": "markdown",
   "id": "ec45e443-0a39-46a7-85c7-540193a15f25",
   "metadata": {
    "papermill": {
     "duration": 0.004678,
     "end_time": "2022-12-02T20:36:17.738054",
     "exception": false,
     "start_time": "2022-12-02T20:36:17.733376",
     "status": "completed"
    },
    "tags": []
   },
   "source": [
    "# QQ-plot"
   ]
  },
  {
   "cell_type": "code",
   "execution_count": 25,
   "id": "de7de0f0-493d-4426-aa14-a330f612407f",
   "metadata": {
    "papermill": {
     "duration": 0.227761,
     "end_time": "2022-12-02T20:36:17.970494",
     "exception": false,
     "start_time": "2022-12-02T20:36:17.742733",
     "status": "completed"
    },
    "tags": []
   },
   "outputs": [
    {
     "data": {
      "image/png": "[encoded data removed]",
      "text/plain": [
       "<Figure size 800x800 with 1 Axes>"
      ]
     },
     "metadata": {},
     "output_type": "display_data"
    }
   ],
   "source": [
    "with sns.plotting_context(\"paper\", font_scale=1.8), mpl.rc_context(\n",
    "    {\"lines.markersize\": 3}\n",
    "):\n",
    "    fig, ax = qqplot(dfs[\"pvalue\"])\n",
    "    ax.set_title(f\"PhenomeXcan - {N_PHENOTYPES} traits\")"
   ]
  },
  {
   "cell_type": "markdown",
   "id": "44f26913-0b71-44ba-a884-3a83d221c748",
   "metadata": {
    "papermill": {
     "duration": 0.010087,
     "end_time": "2022-12-02T20:36:17.991287",
     "exception": false,
     "start_time": "2022-12-02T20:36:17.981200",
     "status": "completed"
    },
    "tags": []
   },
   "source": [
    "# Top hits"
   ]
  },
  {
   "cell_type": "code",
   "execution_count": 26,
   "id": "d4731278-0adc-47f1-ba18-556e37472026",
   "metadata": {
    "papermill": {
     "duration": 0.021337,
     "end_time": "2022-12-02T20:36:18.022567",
     "exception": false,
     "start_time": "2022-12-02T20:36:18.001230",
     "status": "completed"
    },
    "tags": []
   },
   "outputs": [
    {
     "data": {
      "text/html": [
       "<div>\n",
       "<style scoped>\n",
       "    .dataframe tbody tr th:only-of-type {\n",
       "        vertical-align: middle;\n",
       "    }\n",
       "\n",
       "    .dataframe tbody tr th {\n",
       "        vertical-align: top;\n",
       "    }\n",
       "\n",
       "    .dataframe thead th {\n",
       "        text-align: right;\n",
       "    }\n",
       "</style>\n",
       "<table border=\"1\" class=\"dataframe\">\n",
       "  <thead>\n",
       "    <tr style=\"text-align: right;\">\n",
       "      <th></th>\n",
       "      <th>lv</th>\n",
       "      <th>beta</th>\n",
       "      <th>beta_se</th>\n",
       "      <th>pvalue</th>\n",
       "      <th>phenotype</th>\n",
       "      <th>fdr</th>\n",
       "    </tr>\n",
       "  </thead>\n",
       "  <tbody>\n",
       "    <tr>\n",
       "      <th>987</th>\n",
       "      <td>LV101</td>\n",
       "      <td>0.725992</td>\n",
       "      <td>0.128741</td>\n",
       "      <td>8.907101e-09</td>\n",
       "      <td>GWAS_Asthma_only_GLM_SNPs_info0.7-</td>\n",
       "      <td>0.000026</td>\n",
       "    </tr>\n",
       "    <tr>\n",
       "      <th>0</th>\n",
       "      <td>LV247</td>\n",
       "      <td>0.668154</td>\n",
       "      <td>0.127605</td>\n",
       "      <td>8.460145e-08</td>\n",
       "      <td>GWAS_COPD_only_GLM_SNPs_info0.7-</td>\n",
       "      <td>0.000125</td>\n",
       "    </tr>\n",
       "    <tr>\n",
       "      <th>1</th>\n",
       "      <td>LV300</td>\n",
       "      <td>0.628306</td>\n",
       "      <td>0.126767</td>\n",
       "      <td>3.682449e-07</td>\n",
       "      <td>GWAS_COPD_only_GLM_SNPs_info0.7-</td>\n",
       "      <td>0.000259</td>\n",
       "    </tr>\n",
       "    <tr>\n",
       "      <th>989</th>\n",
       "      <td>LV444</td>\n",
       "      <td>0.620238</td>\n",
       "      <td>0.125985</td>\n",
       "      <td>4.365147e-07</td>\n",
       "      <td>GWAS_Asthma_only_GLM_SNPs_info0.7-</td>\n",
       "      <td>0.000259</td>\n",
       "    </tr>\n",
       "    <tr>\n",
       "      <th>988</th>\n",
       "      <td>LV17</td>\n",
       "      <td>0.660268</td>\n",
       "      <td>0.131656</td>\n",
       "      <td>2.721347e-07</td>\n",
       "      <td>GWAS_Asthma_only_GLM_SNPs_info0.7-</td>\n",
       "      <td>0.000259</td>\n",
       "    </tr>\n",
       "    <tr>\n",
       "      <th>1974</th>\n",
       "      <td>LV101</td>\n",
       "      <td>0.620680</td>\n",
       "      <td>0.130264</td>\n",
       "      <td>9.659719e-07</td>\n",
       "      <td>GWAS_ACO_GLM_SNPs_info0.7-</td>\n",
       "      <td>0.000477</td>\n",
       "    </tr>\n",
       "    <tr>\n",
       "      <th>2</th>\n",
       "      <td>LV180</td>\n",
       "      <td>0.599514</td>\n",
       "      <td>0.127593</td>\n",
       "      <td>1.336798e-06</td>\n",
       "      <td>GWAS_COPD_only_GLM_SNPs_info0.7-</td>\n",
       "      <td>0.000565</td>\n",
       "    </tr>\n",
       "    <tr>\n",
       "      <th>990</th>\n",
       "      <td>LV61</td>\n",
       "      <td>0.589310</td>\n",
       "      <td>0.127014</td>\n",
       "      <td>1.778786e-06</td>\n",
       "      <td>GWAS_Asthma_only_GLM_SNPs_info0.7-</td>\n",
       "      <td>0.000658</td>\n",
       "    </tr>\n",
       "    <tr>\n",
       "      <th>991</th>\n",
       "      <td>LV705</td>\n",
       "      <td>0.575243</td>\n",
       "      <td>0.126015</td>\n",
       "      <td>2.545457e-06</td>\n",
       "      <td>GWAS_Asthma_only_GLM_SNPs_info0.7-</td>\n",
       "      <td>0.000837</td>\n",
       "    </tr>\n",
       "    <tr>\n",
       "      <th>992</th>\n",
       "      <td>LV948</td>\n",
       "      <td>0.576992</td>\n",
       "      <td>0.127031</td>\n",
       "      <td>2.835023e-06</td>\n",
       "      <td>GWAS_Asthma_only_GLM_SNPs_info0.7-</td>\n",
       "      <td>0.000839</td>\n",
       "    </tr>\n",
       "    <tr>\n",
       "      <th>3</th>\n",
       "      <td>LV696</td>\n",
       "      <td>0.498067</td>\n",
       "      <td>0.126198</td>\n",
       "      <td>4.003842e-05</td>\n",
       "      <td>GWAS_COPD_only_GLM_SNPs_info0.7-</td>\n",
       "      <td>0.010573</td>\n",
       "    </tr>\n",
       "    <tr>\n",
       "      <th>1975</th>\n",
       "      <td>LV948</td>\n",
       "      <td>0.502150</td>\n",
       "      <td>0.127761</td>\n",
       "      <td>4.284976e-05</td>\n",
       "      <td>GWAS_ACO_GLM_SNPs_info0.7-</td>\n",
       "      <td>0.010573</td>\n",
       "    </tr>\n",
       "    <tr>\n",
       "      <th>993</th>\n",
       "      <td>LV96</td>\n",
       "      <td>0.495428</td>\n",
       "      <td>0.128257</td>\n",
       "      <td>5.660682e-05</td>\n",
       "      <td>GWAS_Asthma_only_GLM_SNPs_info0.7-</td>\n",
       "      <td>0.012893</td>\n",
       "    </tr>\n",
       "    <tr>\n",
       "      <th>4</th>\n",
       "      <td>LV504</td>\n",
       "      <td>0.481447</td>\n",
       "      <td>0.127898</td>\n",
       "      <td>8.425287e-05</td>\n",
       "      <td>GWAS_COPD_only_GLM_SNPs_info0.7-</td>\n",
       "      <td>0.017819</td>\n",
       "    </tr>\n",
       "    <tr>\n",
       "      <th>995</th>\n",
       "      <td>LV70</td>\n",
       "      <td>0.467664</td>\n",
       "      <td>0.126909</td>\n",
       "      <td>1.152817e-04</td>\n",
       "      <td>GWAS_Asthma_only_GLM_SNPs_info0.7-</td>\n",
       "      <td>0.020079</td>\n",
       "    </tr>\n",
       "    <tr>\n",
       "      <th>994</th>\n",
       "      <td>LV844</td>\n",
       "      <td>0.494538</td>\n",
       "      <td>0.134060</td>\n",
       "      <td>1.135308e-04</td>\n",
       "      <td>GWAS_Asthma_only_GLM_SNPs_info0.7-</td>\n",
       "      <td>0.020079</td>\n",
       "    </tr>\n",
       "    <tr>\n",
       "      <th>1976</th>\n",
       "      <td>LV705</td>\n",
       "      <td>0.473858</td>\n",
       "      <td>0.127495</td>\n",
       "      <td>1.017838e-04</td>\n",
       "      <td>GWAS_ACO_GLM_SNPs_info0.7-</td>\n",
       "      <td>0.020079</td>\n",
       "    </tr>\n",
       "    <tr>\n",
       "      <th>5</th>\n",
       "      <td>LV70</td>\n",
       "      <td>0.466954</td>\n",
       "      <td>0.128176</td>\n",
       "      <td>1.357660e-04</td>\n",
       "      <td>GWAS_COPD_only_GLM_SNPs_info0.7-</td>\n",
       "      <td>0.022334</td>\n",
       "    </tr>\n",
       "    <tr>\n",
       "      <th>6</th>\n",
       "      <td>LV455</td>\n",
       "      <td>0.450082</td>\n",
       "      <td>0.125062</td>\n",
       "      <td>1.609913e-04</td>\n",
       "      <td>GWAS_COPD_only_GLM_SNPs_info0.7-</td>\n",
       "      <td>0.025089</td>\n",
       "    </tr>\n",
       "    <tr>\n",
       "      <th>996</th>\n",
       "      <td>LV207</td>\n",
       "      <td>0.461960</td>\n",
       "      <td>0.131329</td>\n",
       "      <td>2.192580e-04</td>\n",
       "      <td>GWAS_Asthma_only_GLM_SNPs_info0.7-</td>\n",
       "      <td>0.032461</td>\n",
       "    </tr>\n",
       "    <tr>\n",
       "      <th>7</th>\n",
       "      <td>LV149</td>\n",
       "      <td>0.438636</td>\n",
       "      <td>0.125714</td>\n",
       "      <td>2.439043e-04</td>\n",
       "      <td>GWAS_COPD_only_GLM_SNPs_info0.7-</td>\n",
       "      <td>0.034062</td>\n",
       "    </tr>\n",
       "    <tr>\n",
       "      <th>997</th>\n",
       "      <td>LV506</td>\n",
       "      <td>0.444380</td>\n",
       "      <td>0.127723</td>\n",
       "      <td>2.530801e-04</td>\n",
       "      <td>GWAS_Asthma_only_GLM_SNPs_info0.7-</td>\n",
       "      <td>0.034062</td>\n",
       "    </tr>\n",
       "    <tr>\n",
       "      <th>9</th>\n",
       "      <td>LV214</td>\n",
       "      <td>0.430924</td>\n",
       "      <td>0.126579</td>\n",
       "      <td>3.335700e-04</td>\n",
       "      <td>GWAS_COPD_only_GLM_SNPs_info0.7-</td>\n",
       "      <td>0.036782</td>\n",
       "    </tr>\n",
       "    <tr>\n",
       "      <th>8</th>\n",
       "      <td>LV799</td>\n",
       "      <td>0.440835</td>\n",
       "      <td>0.127936</td>\n",
       "      <td>2.865562e-04</td>\n",
       "      <td>GWAS_COPD_only_GLM_SNPs_info0.7-</td>\n",
       "      <td>0.036782</td>\n",
       "    </tr>\n",
       "    <tr>\n",
       "      <th>998</th>\n",
       "      <td>LV140</td>\n",
       "      <td>0.449471</td>\n",
       "      <td>0.131277</td>\n",
       "      <td>3.106430e-04</td>\n",
       "      <td>GWAS_Asthma_only_GLM_SNPs_info0.7-</td>\n",
       "      <td>0.036782</td>\n",
       "    </tr>\n",
       "    <tr>\n",
       "      <th>1978</th>\n",
       "      <td>LV563</td>\n",
       "      <td>0.443282</td>\n",
       "      <td>0.130266</td>\n",
       "      <td>3.353991e-04</td>\n",
       "      <td>GWAS_ACO_GLM_SNPs_info0.7-</td>\n",
       "      <td>0.036782</td>\n",
       "    </tr>\n",
       "    <tr>\n",
       "      <th>1977</th>\n",
       "      <td>LV504</td>\n",
       "      <td>0.437090</td>\n",
       "      <td>0.127547</td>\n",
       "      <td>3.071593e-04</td>\n",
       "      <td>GWAS_ACO_GLM_SNPs_info0.7-</td>\n",
       "      <td>0.036782</td>\n",
       "    </tr>\n",
       "    <tr>\n",
       "      <th>10</th>\n",
       "      <td>LV383</td>\n",
       "      <td>0.422786</td>\n",
       "      <td>0.125858</td>\n",
       "      <td>3.930845e-04</td>\n",
       "      <td>GWAS_COPD_only_GLM_SNPs_info0.7-</td>\n",
       "      <td>0.041569</td>\n",
       "    </tr>\n",
       "    <tr>\n",
       "      <th>999</th>\n",
       "      <td>LV803</td>\n",
       "      <td>0.418395</td>\n",
       "      <td>0.126723</td>\n",
       "      <td>4.832180e-04</td>\n",
       "      <td>GWAS_Asthma_only_GLM_SNPs_info0.7-</td>\n",
       "      <td>0.049338</td>\n",
       "    </tr>\n",
       "  </tbody>\n",
       "</table>\n",
       "</div>"
      ],
      "text/plain": [
       "         lv      beta   beta_se        pvalue  \\\n",
       "987   LV101  0.725992  0.128741  8.907101e-09   \n",
       "0     LV247  0.668154  0.127605  8.460145e-08   \n",
       "1     LV300  0.628306  0.126767  3.682449e-07   \n",
       "989   LV444  0.620238  0.125985  4.365147e-07   \n",
       "988    LV17  0.660268  0.131656  2.721347e-07   \n",
       "1974  LV101  0.620680  0.130264  9.659719e-07   \n",
       "2     LV180  0.599514  0.127593  1.336798e-06   \n",
       "990    LV61  0.589310  0.127014  1.778786e-06   \n",
       "991   LV705  0.575243  0.126015  2.545457e-06   \n",
       "992   LV948  0.576992  0.127031  2.835023e-06   \n",
       "3     LV696  0.498067  0.126198  4.003842e-05   \n",
       "1975  LV948  0.502150  0.127761  4.284976e-05   \n",
       "993    LV96  0.495428  0.128257  5.660682e-05   \n",
       "4     LV504  0.481447  0.127898  8.425287e-05   \n",
       "995    LV70  0.467664  0.126909  1.152817e-04   \n",
       "994   LV844  0.494538  0.134060  1.135308e-04   \n",
       "1976  LV705  0.473858  0.127495  1.017838e-04   \n",
       "5      LV70  0.466954  0.128176  1.357660e-04   \n",
       "6     LV455  0.450082  0.125062  1.609913e-04   \n",
       "996   LV207  0.461960  0.131329  2.192580e-04   \n",
       "7     LV149  0.438636  0.125714  2.439043e-04   \n",
       "997   LV506  0.444380  0.127723  2.530801e-04   \n",
       "9     LV214  0.430924  0.126579  3.335700e-04   \n",
       "8     LV799  0.440835  0.127936  2.865562e-04   \n",
       "998   LV140  0.449471  0.131277  3.106430e-04   \n",
       "1978  LV563  0.443282  0.130266  3.353991e-04   \n",
       "1977  LV504  0.437090  0.127547  3.071593e-04   \n",
       "10    LV383  0.422786  0.125858  3.930845e-04   \n",
       "999   LV803  0.418395  0.126723  4.832180e-04   \n",
       "\n",
       "                               phenotype       fdr  \n",
       "987   GWAS_Asthma_only_GLM_SNPs_info0.7-  0.000026  \n",
       "0       GWAS_COPD_only_GLM_SNPs_info0.7-  0.000125  \n",
       "1       GWAS_COPD_only_GLM_SNPs_info0.7-  0.000259  \n",
       "989   GWAS_Asthma_only_GLM_SNPs_info0.7-  0.000259  \n",
       "988   GWAS_Asthma_only_GLM_SNPs_info0.7-  0.000259  \n",
       "1974          GWAS_ACO_GLM_SNPs_info0.7-  0.000477  \n",
       "2       GWAS_COPD_only_GLM_SNPs_info0.7-  0.000565  \n",
       "990   GWAS_Asthma_only_GLM_SNPs_info0.7-  0.000658  \n",
       "991   GWAS_Asthma_only_GLM_SNPs_info0.7-  0.000837  \n",
       "992   GWAS_Asthma_only_GLM_SNPs_info0.7-  0.000839  \n",
       "3       GWAS_COPD_only_GLM_SNPs_info0.7-  0.010573  \n",
       "1975          GWAS_ACO_GLM_SNPs_info0.7-  0.010573  \n",
       "993   GWAS_Asthma_only_GLM_SNPs_info0.7-  0.012893  \n",
       "4       GWAS_COPD_only_GLM_SNPs_info0.7-  0.017819  \n",
       "995   GWAS_Asthma_only_GLM_SNPs_info0.7-  0.020079  \n",
       "994   GWAS_Asthma_only_GLM_SNPs_info0.7-  0.020079  \n",
       "1976          GWAS_ACO_GLM_SNPs_info0.7-  0.020079  \n",
       "5       GWAS_COPD_only_GLM_SNPs_info0.7-  0.022334  \n",
       "6       GWAS_COPD_only_GLM_SNPs_info0.7-  0.025089  \n",
       "996   GWAS_Asthma_only_GLM_SNPs_info0.7-  0.032461  \n",
       "7       GWAS_COPD_only_GLM_SNPs_info0.7-  0.034062  \n",
       "997   GWAS_Asthma_only_GLM_SNPs_info0.7-  0.034062  \n",
       "9       GWAS_COPD_only_GLM_SNPs_info0.7-  0.036782  \n",
       "8       GWAS_COPD_only_GLM_SNPs_info0.7-  0.036782  \n",
       "998   GWAS_Asthma_only_GLM_SNPs_info0.7-  0.036782  \n",
       "1978          GWAS_ACO_GLM_SNPs_info0.7-  0.036782  \n",
       "1977          GWAS_ACO_GLM_SNPs_info0.7-  0.036782  \n",
       "10      GWAS_COPD_only_GLM_SNPs_info0.7-  0.041569  \n",
       "999   GWAS_Asthma_only_GLM_SNPs_info0.7-  0.049338  "
      ]
     },
     "metadata": {},
     "output_type": "display_data"
    }
   ],
   "source": [
    "with pd.option_context(\"display.max_columns\", None, \"display.max_colwidth\", None):\n",
    "    _tmp = dfs.sort_values(\"fdr\")  # .drop(columns=\"phenotype\")\n",
    "    _tmp = _tmp[_tmp[\"fdr\"] < 0.05]\n",
    "    display(_tmp.head(50))"
   ]
  },
  {
   "cell_type": "markdown",
   "id": "4584fb22-976b-4994-bb78-9c81019058c3",
   "metadata": {
    "papermill": {
     "duration": 0.010449,
     "end_time": "2022-12-02T20:36:18.043441",
     "exception": false,
     "start_time": "2022-12-02T20:36:18.032992",
     "status": "completed"
    },
    "tags": []
   },
   "source": [
    "# Optimize data types"
   ]
  },
  {
   "cell_type": "code",
   "execution_count": 27,
   "id": "39b4a3da-9372-492b-b239-fc2d1273ade4",
   "metadata": {
    "papermill": {
     "duration": 0.019181,
     "end_time": "2022-12-02T20:36:18.072973",
     "exception": false,
     "start_time": "2022-12-02T20:36:18.053792",
     "status": "completed"
    },
    "tags": []
   },
   "outputs": [
    {
     "data": {
      "text/html": [
       "<div>\n",
       "<style scoped>\n",
       "    .dataframe tbody tr th:only-of-type {\n",
       "        vertical-align: middle;\n",
       "    }\n",
       "\n",
       "    .dataframe tbody tr th {\n",
       "        vertical-align: top;\n",
       "    }\n",
       "\n",
       "    .dataframe thead th {\n",
       "        text-align: right;\n",
       "    }\n",
       "</style>\n",
       "<table border=\"1\" class=\"dataframe\">\n",
       "  <thead>\n",
       "    <tr style=\"text-align: right;\">\n",
       "      <th></th>\n",
       "      <th>lv</th>\n",
       "      <th>beta</th>\n",
       "      <th>beta_se</th>\n",
       "      <th>pvalue</th>\n",
       "      <th>phenotype</th>\n",
       "      <th>fdr</th>\n",
       "    </tr>\n",
       "  </thead>\n",
       "  <tbody>\n",
       "    <tr>\n",
       "      <th>0</th>\n",
       "      <td>LV247</td>\n",
       "      <td>0.668154</td>\n",
       "      <td>0.127605</td>\n",
       "      <td>8.460145e-08</td>\n",
       "      <td>GWAS_COPD_only_GLM_SNPs_info0.7-</td>\n",
       "      <td>0.000125</td>\n",
       "    </tr>\n",
       "    <tr>\n",
       "      <th>1</th>\n",
       "      <td>LV300</td>\n",
       "      <td>0.628306</td>\n",
       "      <td>0.126767</td>\n",
       "      <td>3.682449e-07</td>\n",
       "      <td>GWAS_COPD_only_GLM_SNPs_info0.7-</td>\n",
       "      <td>0.000259</td>\n",
       "    </tr>\n",
       "    <tr>\n",
       "      <th>2</th>\n",
       "      <td>LV180</td>\n",
       "      <td>0.599514</td>\n",
       "      <td>0.127593</td>\n",
       "      <td>1.336798e-06</td>\n",
       "      <td>GWAS_COPD_only_GLM_SNPs_info0.7-</td>\n",
       "      <td>0.000565</td>\n",
       "    </tr>\n",
       "    <tr>\n",
       "      <th>3</th>\n",
       "      <td>LV696</td>\n",
       "      <td>0.498067</td>\n",
       "      <td>0.126198</td>\n",
       "      <td>4.003842e-05</td>\n",
       "      <td>GWAS_COPD_only_GLM_SNPs_info0.7-</td>\n",
       "      <td>0.010573</td>\n",
       "    </tr>\n",
       "    <tr>\n",
       "      <th>4</th>\n",
       "      <td>LV504</td>\n",
       "      <td>0.481447</td>\n",
       "      <td>0.127898</td>\n",
       "      <td>8.425287e-05</td>\n",
       "      <td>GWAS_COPD_only_GLM_SNPs_info0.7-</td>\n",
       "      <td>0.017819</td>\n",
       "    </tr>\n",
       "  </tbody>\n",
       "</table>\n",
       "</div>"
      ],
      "text/plain": [
       "      lv      beta   beta_se        pvalue                         phenotype  \\\n",
       "0  LV247  0.668154  0.127605  8.460145e-08  GWAS_COPD_only_GLM_SNPs_info0.7-   \n",
       "1  LV300  0.628306  0.126767  3.682449e-07  GWAS_COPD_only_GLM_SNPs_info0.7-   \n",
       "2  LV180  0.599514  0.127593  1.336798e-06  GWAS_COPD_only_GLM_SNPs_info0.7-   \n",
       "3  LV696  0.498067  0.126198  4.003842e-05  GWAS_COPD_only_GLM_SNPs_info0.7-   \n",
       "4  LV504  0.481447  0.127898  8.425287e-05  GWAS_COPD_only_GLM_SNPs_info0.7-   \n",
       "\n",
       "        fdr  \n",
       "0  0.000125  \n",
       "1  0.000259  \n",
       "2  0.000565  \n",
       "3  0.010573  \n",
       "4  0.017819  "
      ]
     },
     "execution_count": 27,
     "metadata": {},
     "output_type": "execute_result"
    }
   ],
   "source": [
    "dfs.head()"
   ]
  },
  {
   "cell_type": "code",
   "execution_count": 28,
   "id": "72a2c594-ccee-4460-898b-e2d4a079ec98",
   "metadata": {
    "papermill": {
     "duration": 0.019181,
     "end_time": "2022-12-02T20:36:18.072973",
     "exception": false,
     "start_time": "2022-12-02T20:36:18.053792",
     "status": "completed"
    },
    "tags": []
   },
   "outputs": [
    {
     "data": {
      "text/plain": [
       "lv            object\n",
       "beta         float64\n",
       "beta_se      float64\n",
       "pvalue       float64\n",
       "phenotype     object\n",
       "fdr          float64\n",
       "dtype: object"
      ]
     },
     "execution_count": 28,
     "metadata": {},
     "output_type": "execute_result"
    }
   ],
   "source": [
    "dfs.dtypes"
   ]
  },
  {
   "cell_type": "code",
   "execution_count": 29,
   "id": "1fa4ab15-9fe9-467a-a365-66d2b591a455",
   "metadata": {
    "papermill": {
     "duration": 0.0117,
     "end_time": "2022-12-02T20:36:18.090249",
     "exception": false,
     "start_time": "2022-12-02T20:36:18.078549",
     "status": "completed"
    },
    "tags": []
   },
   "outputs": [
    {
     "data": {
      "text/plain": [
       "Index          128\n",
       "lv           23688\n",
       "beta         23688\n",
       "beta_se      23688\n",
       "pvalue       23688\n",
       "phenotype    23688\n",
       "fdr          23688\n",
       "dtype: int64"
      ]
     },
     "execution_count": 29,
     "metadata": {},
     "output_type": "execute_result"
    }
   ],
   "source": [
    "dfs.memory_usage()"
   ]
  },
  {
   "cell_type": "code",
   "execution_count": 30,
   "id": "9e651ad8-6f66-4189-a07a-4967891600c4",
   "metadata": {
    "papermill": {
     "duration": 0.012725,
     "end_time": "2022-12-02T20:36:18.108442",
     "exception": false,
     "start_time": "2022-12-02T20:36:18.095717",
     "status": "completed"
    },
    "tags": []
   },
   "outputs": [],
   "source": [
    "dfs[\"phenotype\"] = dfs[\"phenotype\"].astype(\"category\")\n",
    "# dfs[\"phenotype_desc\"] = dfs[\"phenotype_desc\"].astype(\"category\")\n",
    "dfs[\"lv\"] = dfs[\"lv\"].astype(\"category\")"
   ]
  },
  {
   "cell_type": "code",
   "execution_count": 31,
   "id": "84001a8d-d406-470e-9746-9454602e8871",
   "metadata": {
    "papermill": {
     "duration": 0.016679,
     "end_time": "2022-12-02T20:36:18.130758",
     "exception": false,
     "start_time": "2022-12-02T20:36:18.114079",
     "status": "completed"
    },
    "tags": []
   },
   "outputs": [
    {
     "data": {
      "text/html": [
       "<div>\n",
       "<style scoped>\n",
       "    .dataframe tbody tr th:only-of-type {\n",
       "        vertical-align: middle;\n",
       "    }\n",
       "\n",
       "    .dataframe tbody tr th {\n",
       "        vertical-align: top;\n",
       "    }\n",
       "\n",
       "    .dataframe thead th {\n",
       "        text-align: right;\n",
       "    }\n",
       "</style>\n",
       "<table border=\"1\" class=\"dataframe\">\n",
       "  <thead>\n",
       "    <tr style=\"text-align: right;\">\n",
       "      <th></th>\n",
       "      <th>lv</th>\n",
       "      <th>beta</th>\n",
       "      <th>beta_se</th>\n",
       "      <th>pvalue</th>\n",
       "      <th>phenotype</th>\n",
       "      <th>fdr</th>\n",
       "    </tr>\n",
       "  </thead>\n",
       "  <tbody>\n",
       "    <tr>\n",
       "      <th>0</th>\n",
       "      <td>LV247</td>\n",
       "      <td>0.668154</td>\n",
       "      <td>0.127605</td>\n",
       "      <td>8.460145e-08</td>\n",
       "      <td>GWAS_COPD_only_GLM_SNPs_info0.7-</td>\n",
       "      <td>0.000125</td>\n",
       "    </tr>\n",
       "    <tr>\n",
       "      <th>1</th>\n",
       "      <td>LV300</td>\n",
       "      <td>0.628306</td>\n",
       "      <td>0.126767</td>\n",
       "      <td>3.682449e-07</td>\n",
       "      <td>GWAS_COPD_only_GLM_SNPs_info0.7-</td>\n",
       "      <td>0.000259</td>\n",
       "    </tr>\n",
       "    <tr>\n",
       "      <th>2</th>\n",
       "      <td>LV180</td>\n",
       "      <td>0.599514</td>\n",
       "      <td>0.127593</td>\n",
       "      <td>1.336798e-06</td>\n",
       "      <td>GWAS_COPD_only_GLM_SNPs_info0.7-</td>\n",
       "      <td>0.000565</td>\n",
       "    </tr>\n",
       "    <tr>\n",
       "      <th>3</th>\n",
       "      <td>LV696</td>\n",
       "      <td>0.498067</td>\n",
       "      <td>0.126198</td>\n",
       "      <td>4.003842e-05</td>\n",
       "      <td>GWAS_COPD_only_GLM_SNPs_info0.7-</td>\n",
       "      <td>0.010573</td>\n",
       "    </tr>\n",
       "    <tr>\n",
       "      <th>4</th>\n",
       "      <td>LV504</td>\n",
       "      <td>0.481447</td>\n",
       "      <td>0.127898</td>\n",
       "      <td>8.425287e-05</td>\n",
       "      <td>GWAS_COPD_only_GLM_SNPs_info0.7-</td>\n",
       "      <td>0.017819</td>\n",
       "    </tr>\n",
       "  </tbody>\n",
       "</table>\n",
       "</div>"
      ],
      "text/plain": [
       "      lv      beta   beta_se        pvalue                         phenotype  \\\n",
       "0  LV247  0.668154  0.127605  8.460145e-08  GWAS_COPD_only_GLM_SNPs_info0.7-   \n",
       "1  LV300  0.628306  0.126767  3.682449e-07  GWAS_COPD_only_GLM_SNPs_info0.7-   \n",
       "2  LV180  0.599514  0.127593  1.336798e-06  GWAS_COPD_only_GLM_SNPs_info0.7-   \n",
       "3  LV696  0.498067  0.126198  4.003842e-05  GWAS_COPD_only_GLM_SNPs_info0.7-   \n",
       "4  LV504  0.481447  0.127898  8.425287e-05  GWAS_COPD_only_GLM_SNPs_info0.7-   \n",
       "\n",
       "        fdr  \n",
       "0  0.000125  \n",
       "1  0.000259  \n",
       "2  0.000565  \n",
       "3  0.010573  \n",
       "4  0.017819  "
      ]
     },
     "execution_count": 31,
     "metadata": {},
     "output_type": "execute_result"
    }
   ],
   "source": [
    "dfs.head()"
   ]
  },
  {
   "cell_type": "code",
   "execution_count": 32,
   "id": "bc9910a0-35fb-409c-828f-b283d3d0d6d6",
   "metadata": {
    "papermill": {
     "duration": 0.013108,
     "end_time": "2022-12-02T20:36:18.149994",
     "exception": false,
     "start_time": "2022-12-02T20:36:18.136886",
     "status": "completed"
    },
    "tags": []
   },
   "outputs": [
    {
     "data": {
      "text/plain": [
       "Index          128\n",
       "lv           46882\n",
       "beta         23688\n",
       "beta_se      23688\n",
       "pvalue       23688\n",
       "phenotype     3093\n",
       "fdr          23688\n",
       "dtype: int64"
      ]
     },
     "execution_count": 32,
     "metadata": {},
     "output_type": "execute_result"
    }
   ],
   "source": [
    "dfs.memory_usage()"
   ]
  },
  {
   "cell_type": "markdown",
   "id": "3b38c985-e1e2-4f14-bc6b-ac23d0e8a87a",
   "metadata": {
    "papermill": {
     "duration": 0.005734,
     "end_time": "2022-12-02T20:36:18.161383",
     "exception": false,
     "start_time": "2022-12-02T20:36:18.155649",
     "status": "completed"
    },
    "tags": []
   },
   "source": [
    "# Save"
   ]
  },
  {
   "cell_type": "code",
   "execution_count": 33,
   "id": "34f2e127-317c-45c3-99ce-c5f539057153",
   "metadata": {
    "papermill": {
     "duration": 0.011241,
     "end_time": "2022-12-02T20:36:18.178326",
     "exception": false,
     "start_time": "2022-12-02T20:36:18.167085",
     "status": "completed"
    },
    "tags": []
   },
   "outputs": [
    {
     "data": {
      "text/plain": [
       "PosixPath('/opt/data/projects/asthma-copd/results/gls_phenoplier/gls-summary.pkl.gz')"
      ]
     },
     "metadata": {},
     "output_type": "display_data"
    }
   ],
   "source": [
    "output_file = OUTPUT_DIR / \"gls-summary.pkl.gz\"\n",
    "display(output_file)"
   ]
  },
  {
   "cell_type": "code",
   "execution_count": 34,
   "id": "0e32637a-d3fb-4833-93d3-7d680ee8bdbe",
   "metadata": {
    "papermill": {
     "duration": 0.016891,
     "end_time": "2022-12-02T20:36:18.201056",
     "exception": false,
     "start_time": "2022-12-02T20:36:18.184165",
     "status": "completed"
    },
    "tags": []
   },
   "outputs": [],
   "source": [
    "dfs.to_pickle(output_file)"
   ]
  },
  {
   "cell_type": "code",
   "execution_count": null,
   "id": "9aff4c2e-cfc7-4313-b5b2-30e59ee5f12b",
   "metadata": {
    "papermill": {
     "duration": 0.005646,
     "end_time": "2022-12-02T20:36:18.212701",
     "exception": false,
     "start_time": "2022-12-02T20:36:18.207055",
     "status": "completed"
    },
    "tags": []
   },
   "outputs": [],
   "source": []
  }
 ],
 "metadata": {
  "jupytext": {
   "cell_metadata_filter": "all,-execution,-papermill,-trusted",
   "formats": "ipynb,py//py:percent"
  },
  "kernelspec": {
   "display_name": "Python 3 (ipykernel)",
   "language": "python",
   "name": "python3"
  },
  "language_info": {
   "codemirror_mode": {
    "name": "ipython",
    "version": 3
   },
   "file_extension": ".py",
   "mimetype": "text/x-python",
   "name": "python",
   "nbconvert_exporter": "python",
   "pygments_lexer": "ipython3",
   "version": "3.10.6"
  },
  "papermill": {
   "default_parameters": {},
   "duration": 2.893604,
   "end_time": "2022-12-02T20:36:18.535273",
   "environment_variables": {},
   "exception": null,
   "input_path": "projects/asthma-copd/nbs/30_gls_phenoplier/05-summarize.ipynb",
   "output_path": "projects/asthma-copd/nbs/30_gls_phenoplier/05-summarize.run.ipynb",
   "parameters": {
    "PHENOPLIER_NOTEBOOK_FILEPATH": "projects/asthma-copd/nbs/30_gls_phenoplier/05-summarize.ipynb"
   },
   "start_time": "2022-12-02T20:36:15.641669",
   "version": "2.2.2"
  },
  "toc-autonumbering": true
 },
 "nbformat": 4,
 "nbformat_minor": 5
}
