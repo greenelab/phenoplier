{
 "cells": [
  {
   "cell_type": "markdown",
   "id": "b7acf0c2",
   "metadata": {
    "papermill": {
     "duration": 0.009282,
     "end_time": "2022-12-15T20:50:16.266116",
     "exception": false,
     "start_time": "2022-12-15T20:50:16.256834",
     "status": "completed"
    },
    "tags": []
   },
   "source": [
    "# Description"
   ]
  },
  {
   "cell_type": "markdown",
   "id": "2653adfb",
   "metadata": {
    "papermill": {
     "duration": 0.009441,
     "end_time": "2022-12-15T20:50:16.284060",
     "exception": false,
     "start_time": "2022-12-15T20:50:16.274619",
     "status": "completed"
    },
    "tags": []
   },
   "source": [
    "It summarizes the GLS (Generalized Least Squares) results, adjusting pvalues using FDR, and saving the final results to a pickle file for later use."
   ]
  },
  {
   "cell_type": "markdown",
   "id": "fb645f46",
   "metadata": {
    "papermill": {
     "duration": 0.009434,
     "end_time": "2022-12-15T20:50:16.302212",
     "exception": false,
     "start_time": "2022-12-15T20:50:16.292778",
     "status": "completed"
    },
    "tags": []
   },
   "source": [
    "# Modules"
   ]
  },
  {
   "cell_type": "code",
   "execution_count": 1,
   "id": "7ce51c68",
   "metadata": {
    "execution": {
     "iopub.execute_input": "2022-12-15T20:50:16.321654Z",
     "iopub.status.busy": "2022-12-15T20:50:16.320804Z",
     "iopub.status.idle": "2022-12-15T20:50:16.924708Z",
     "shell.execute_reply": "2022-12-15T20:50:16.924151Z"
    },
    "papermill": {
     "duration": 0.615704,
     "end_time": "2022-12-15T20:50:16.926520",
     "exception": false,
     "start_time": "2022-12-15T20:50:16.310816",
     "status": "completed"
    },
    "tags": []
   },
   "outputs": [],
   "source": [
    "from pathlib import Path\n",
    "\n",
    "import numpy as np\n",
    "import pandas as pd\n",
    "from statsmodels.stats.multitest import multipletests\n",
    "import matplotlib.pyplot as plt\n",
    "import matplotlib as mpl\n",
    "import seaborn as sns\n",
    "\n",
    "import conf\n",
    "from phenoplier_plots import qqplot"
   ]
  },
  {
   "cell_type": "markdown",
   "id": "654985a3",
   "metadata": {
    "papermill": {
     "duration": 0.009421,
     "end_time": "2022-12-15T20:50:16.945167",
     "exception": false,
     "start_time": "2022-12-15T20:50:16.935746",
     "status": "completed"
    },
    "tags": []
   },
   "source": [
    "# Settings"
   ]
  },
  {
   "cell_type": "code",
   "execution_count": 2,
   "id": "d4e1bf58-d0ac-455a-97d8-1d892b4a38d6",
   "metadata": {
    "execution": {
     "iopub.execute_input": "2022-12-15T20:50:16.964305Z",
     "iopub.status.busy": "2022-12-15T20:50:16.964001Z",
     "iopub.status.idle": "2022-12-15T20:50:16.966593Z",
     "shell.execute_reply": "2022-12-15T20:50:16.966146Z"
    },
    "papermill": {
     "duration": 0.013915,
     "end_time": "2022-12-15T20:50:16.967923",
     "exception": false,
     "start_time": "2022-12-15T20:50:16.954008",
     "status": "completed"
    },
    "tags": [
     "parameters"
    ]
   },
   "outputs": [],
   "source": [
    "N_PHENOTYPES = 3\n",
    "N_LVS = 987"
   ]
  },
  {
   "cell_type": "code",
   "execution_count": 3,
   "id": "158c6314",
   "metadata": {
    "execution": {
     "iopub.execute_input": "2022-12-15T20:50:16.986398Z",
     "iopub.status.busy": "2022-12-15T20:50:16.985941Z",
     "iopub.status.idle": "2022-12-15T20:50:16.988916Z",
     "shell.execute_reply": "2022-12-15T20:50:16.988348Z"
    },
    "lines_to_next_cell": 2,
    "papermill": {
     "duration": 0.013673,
     "end_time": "2022-12-15T20:50:16.990344",
     "exception": false,
     "start_time": "2022-12-15T20:50:16.976671",
     "status": "completed"
    },
    "tags": [
     "injected-parameters"
    ]
   },
   "outputs": [],
   "source": [
    "# Parameters\n",
    "PHENOPLIER_NOTEBOOK_FILEPATH = (\n",
    "    \"projects/asthma-copd/nbs/30_gls_phenoplier/05-summarize.ipynb\"\n",
    ")"
   ]
  },
  {
   "cell_type": "code",
   "execution_count": 4,
   "id": "9ba4e01c",
   "metadata": {
    "execution": {
     "iopub.execute_input": "2022-12-15T20:50:17.008936Z",
     "iopub.status.busy": "2022-12-15T20:50:17.008479Z",
     "iopub.status.idle": "2022-12-15T20:50:17.020661Z",
     "shell.execute_reply": "2022-12-15T20:50:17.020058Z"
    },
    "papermill": {
     "duration": 0.022731,
     "end_time": "2022-12-15T20:50:17.022058",
     "exception": false,
     "start_time": "2022-12-15T20:50:16.999327",
     "status": "completed"
    },
    "tags": []
   },
   "outputs": [
    {
     "data": {
      "text/plain": [
       "PosixPath('/opt/data/projects/asthma-copd/results/gls_phenoplier/gls')"
      ]
     },
     "metadata": {},
     "output_type": "display_data"
    },
    {
     "data": {
      "text/plain": [
       "'*.tsv.gz'"
      ]
     },
     "metadata": {},
     "output_type": "display_data"
    }
   ],
   "source": [
    "INPUT_DIR = conf.PROJECTS[\"ASTHMA_COPD\"][\"RESULTS_DIR\"] / \"gls_phenoplier\" / \"gls\"\n",
    "display(INPUT_DIR)\n",
    "assert INPUT_DIR.exists()\n",
    "\n",
    "INPUT_PATTERN = \"*.tsv.gz\"\n",
    "display(INPUT_PATTERN)"
   ]
  },
  {
   "cell_type": "code",
   "execution_count": 5,
   "id": "3f0ceee7-2e59-493d-845c-35d131159f4b",
   "metadata": {
    "execution": {
     "iopub.execute_input": "2022-12-15T20:50:17.040920Z",
     "iopub.status.busy": "2022-12-15T20:50:17.040605Z",
     "iopub.status.idle": "2022-12-15T20:50:17.043826Z",
     "shell.execute_reply": "2022-12-15T20:50:17.043163Z"
    },
    "papermill": {
     "duration": 0.014285,
     "end_time": "2022-12-15T20:50:17.045188",
     "exception": false,
     "start_time": "2022-12-15T20:50:17.030903",
     "status": "completed"
    },
    "tags": []
   },
   "outputs": [],
   "source": [
    "PVALUE_COLUMN = \"pvalue\""
   ]
  },
  {
   "cell_type": "code",
   "execution_count": 6,
   "id": "9b6901c2-e3c5-4dfc-8ff3-b8fdeb12e3fd",
   "metadata": {
    "execution": {
     "iopub.execute_input": "2022-12-15T20:50:17.064027Z",
     "iopub.status.busy": "2022-12-15T20:50:17.063549Z",
     "iopub.status.idle": "2022-12-15T20:50:17.068111Z",
     "shell.execute_reply": "2022-12-15T20:50:17.067553Z"
    },
    "papermill": {
     "duration": 0.015094,
     "end_time": "2022-12-15T20:50:17.069054",
     "exception": false,
     "start_time": "2022-12-15T20:50:17.053960",
     "status": "completed"
    },
    "tags": []
   },
   "outputs": [
    {
     "data": {
      "text/plain": [
       "PosixPath('/opt/data/projects/asthma-copd/results/gls_phenoplier')"
      ]
     },
     "metadata": {},
     "output_type": "display_data"
    }
   ],
   "source": [
    "OUTPUT_DIR = conf.PROJECTS[\"ASTHMA_COPD\"][\"RESULTS_DIR\"] / \"gls_phenoplier\"\n",
    "display(OUTPUT_DIR)\n",
    "OUTPUT_DIR.mkdir(exist_ok=True, parents=True)"
   ]
  },
  {
   "cell_type": "markdown",
   "id": "5f2c6f72-9a30-4ced-bc9a-04b6b3b21384",
   "metadata": {
    "papermill": {
     "duration": 0.004503,
     "end_time": "2022-12-15T20:50:17.078160",
     "exception": false,
     "start_time": "2022-12-15T20:50:17.073657",
     "status": "completed"
    },
    "tags": []
   },
   "source": [
    "# Load data"
   ]
  },
  {
   "cell_type": "markdown",
   "id": "1d14b0b8-7358-4c0a-934c-2298b0436f02",
   "metadata": {
    "papermill": {
     "duration": 0.004575,
     "end_time": "2022-12-15T20:50:17.087329",
     "exception": false,
     "start_time": "2022-12-15T20:50:17.082754",
     "status": "completed"
    },
    "tags": []
   },
   "source": [
    "## Phenotype info"
   ]
  },
  {
   "cell_type": "code",
   "execution_count": 7,
   "id": "55a31713-f6d3-4639-a8a9-642e7d4e8bf7",
   "metadata": {
    "execution": {
     "iopub.execute_input": "2022-12-15T20:50:17.097941Z",
     "iopub.status.busy": "2022-12-15T20:50:17.097481Z",
     "iopub.status.idle": "2022-12-15T20:50:17.103080Z",
     "shell.execute_reply": "2022-12-15T20:50:17.102497Z"
    },
    "papermill": {
     "duration": 0.011848,
     "end_time": "2022-12-15T20:50:17.104069",
     "exception": false,
     "start_time": "2022-12-15T20:50:17.092221",
     "status": "completed"
    },
    "tags": []
   },
   "outputs": [],
   "source": [
    "pheno_info = pd.read_csv(conf.PROJECTS[\"ASTHMA_COPD\"][\"TRAITS_INFO_FILE\"])"
   ]
  },
  {
   "cell_type": "code",
   "execution_count": 8,
   "id": "0cb2c235-1b72-498a-8d98-80950fc48faa",
   "metadata": {
    "execution": {
     "iopub.execute_input": "2022-12-15T20:50:17.114375Z",
     "iopub.status.busy": "2022-12-15T20:50:17.113934Z",
     "iopub.status.idle": "2022-12-15T20:50:17.118160Z",
     "shell.execute_reply": "2022-12-15T20:50:17.117585Z"
    },
    "papermill": {
     "duration": 0.010267,
     "end_time": "2022-12-15T20:50:17.119019",
     "exception": false,
     "start_time": "2022-12-15T20:50:17.108752",
     "status": "completed"
    },
    "tags": []
   },
   "outputs": [
    {
     "data": {
      "text/plain": [
       "(3, 4)"
      ]
     },
     "execution_count": 8,
     "metadata": {},
     "output_type": "execute_result"
    }
   ],
   "source": [
    "pheno_info.shape"
   ]
  },
  {
   "cell_type": "code",
   "execution_count": 9,
   "id": "c286789f-6d0a-4162-bf8d-7bcf82d9089d",
   "metadata": {
    "execution": {
     "iopub.execute_input": "2022-12-15T20:50:17.129486Z",
     "iopub.status.busy": "2022-12-15T20:50:17.129056Z",
     "iopub.status.idle": "2022-12-15T20:50:17.137172Z",
     "shell.execute_reply": "2022-12-15T20:50:17.136600Z"
    },
    "papermill": {
     "duration": 0.014465,
     "end_time": "2022-12-15T20:50:17.138119",
     "exception": false,
     "start_time": "2022-12-15T20:50:17.123654",
     "status": "completed"
    },
    "tags": []
   },
   "outputs": [
    {
     "data": {
      "text/html": [
       "<div>\n",
       "<style scoped>\n",
       "    .dataframe tbody tr th:only-of-type {\n",
       "        vertical-align: middle;\n",
       "    }\n",
       "\n",
       "    .dataframe tbody tr th {\n",
       "        vertical-align: top;\n",
       "    }\n",
       "\n",
       "    .dataframe thead th {\n",
       "        text-align: right;\n",
       "    }\n",
       "</style>\n",
       "<table border=\"1\" class=\"dataframe\">\n",
       "  <thead>\n",
       "    <tr style=\"text-align: right;\">\n",
       "      <th></th>\n",
       "      <th>id</th>\n",
       "      <th>gwas_file</th>\n",
       "      <th>sample_size</th>\n",
       "      <th>n_cases</th>\n",
       "    </tr>\n",
       "  </thead>\n",
       "  <tbody>\n",
       "    <tr>\n",
       "      <th>0</th>\n",
       "      <td>asthma_only</td>\n",
       "      <td>GWAS_Asthma_only_GLM_SNPs_info0.7.txt</td>\n",
       "      <td>181862</td>\n",
       "      <td>19217</td>\n",
       "    </tr>\n",
       "    <tr>\n",
       "      <th>1</th>\n",
       "      <td>copd_only</td>\n",
       "      <td>GWAS_COPD_only_GLM_SNPs_info0.7.txt</td>\n",
       "      <td>175700</td>\n",
       "      <td>13055</td>\n",
       "    </tr>\n",
       "    <tr>\n",
       "      <th>2</th>\n",
       "      <td>aco</td>\n",
       "      <td>GWAS_ACO_GLM_SNPs_info0.7.txt</td>\n",
       "      <td>169680</td>\n",
       "      <td>7035</td>\n",
       "    </tr>\n",
       "  </tbody>\n",
       "</table>\n",
       "</div>"
      ],
      "text/plain": [
       "            id                              gwas_file  sample_size  n_cases\n",
       "0  asthma_only  GWAS_Asthma_only_GLM_SNPs_info0.7.txt       181862    19217\n",
       "1    copd_only    GWAS_COPD_only_GLM_SNPs_info0.7.txt       175700    13055\n",
       "2          aco          GWAS_ACO_GLM_SNPs_info0.7.txt       169680     7035"
      ]
     },
     "execution_count": 9,
     "metadata": {},
     "output_type": "execute_result"
    }
   ],
   "source": [
    "pheno_info.head()"
   ]
  },
  {
   "cell_type": "code",
   "execution_count": 10,
   "id": "3c97a69a-a6fa-4868-a20e-88bdb4636641",
   "metadata": {
    "execution": {
     "iopub.execute_input": "2022-12-15T20:50:17.149121Z",
     "iopub.status.busy": "2022-12-15T20:50:17.148681Z",
     "iopub.status.idle": "2022-12-15T20:50:17.151967Z",
     "shell.execute_reply": "2022-12-15T20:50:17.151395Z"
    },
    "papermill": {
     "duration": 0.009718,
     "end_time": "2022-12-15T20:50:17.152975",
     "exception": false,
     "start_time": "2022-12-15T20:50:17.143257",
     "status": "completed"
    },
    "tags": []
   },
   "outputs": [],
   "source": [
    "assert pheno_info[\"id\"].is_unique"
   ]
  },
  {
   "cell_type": "code",
   "execution_count": 11,
   "id": "aa15fe3b-cd3c-45c1-ad4e-29b5bc8aa5f9",
   "metadata": {
    "execution": {
     "iopub.execute_input": "2022-12-15T20:50:17.163538Z",
     "iopub.status.busy": "2022-12-15T20:50:17.163096Z",
     "iopub.status.idle": "2022-12-15T20:50:17.165933Z",
     "shell.execute_reply": "2022-12-15T20:50:17.165349Z"
    },
    "papermill": {
     "duration": 0.009117,
     "end_time": "2022-12-15T20:50:17.166859",
     "exception": false,
     "start_time": "2022-12-15T20:50:17.157742",
     "status": "completed"
    },
    "tags": []
   },
   "outputs": [],
   "source": [
    "# pheno_code_to_desc_map = pheno_info.set_index(\"short_code\")[\n",
    "#     \"unique_description\"\n",
    "# ].to_dict()"
   ]
  },
  {
   "cell_type": "markdown",
   "id": "d8e6a40d-2049-4bd7-a5e4-77e45723da4f",
   "metadata": {
    "papermill": {
     "duration": 0.004691,
     "end_time": "2022-12-15T20:50:17.176638",
     "exception": false,
     "start_time": "2022-12-15T20:50:17.171947",
     "status": "completed"
    },
    "tags": []
   },
   "source": [
    "## GLS results"
   ]
  },
  {
   "cell_type": "markdown",
   "id": "0b8c03b8-78d5-4cbe-b9f2-7c9be063c483",
   "metadata": {
    "papermill": {
     "duration": 0.004633,
     "end_time": "2022-12-15T20:50:17.186052",
     "exception": false,
     "start_time": "2022-12-15T20:50:17.181419",
     "status": "completed"
    },
    "tags": []
   },
   "source": [
    "### Get files list"
   ]
  },
  {
   "cell_type": "code",
   "execution_count": 12,
   "id": "f920bc02-8297-4bd9-8601-665f079cbf91",
   "metadata": {
    "execution": {
     "iopub.execute_input": "2022-12-15T20:50:17.196842Z",
     "iopub.status.busy": "2022-12-15T20:50:17.196354Z",
     "iopub.status.idle": "2022-12-15T20:50:17.201035Z",
     "shell.execute_reply": "2022-12-15T20:50:17.200466Z"
    },
    "papermill": {
     "duration": 0.011241,
     "end_time": "2022-12-15T20:50:17.201959",
     "exception": false,
     "start_time": "2022-12-15T20:50:17.190718",
     "status": "completed"
    },
    "tags": []
   },
   "outputs": [
    {
     "data": {
      "text/plain": [
       "[PosixPath('/opt/data/projects/asthma-copd/results/gls_phenoplier/gls/GWAS_COPD_only_GLM_SNPs_info0.7-gls_phenoplier.tsv.gz'),\n",
       " PosixPath('/opt/data/projects/asthma-copd/results/gls_phenoplier/gls/GWAS_Asthma_only_GLM_SNPs_info0.7-gls_phenoplier.tsv.gz'),\n",
       " PosixPath('/opt/data/projects/asthma-copd/results/gls_phenoplier/gls/GWAS_ACO_GLM_SNPs_info0.7-gls_phenoplier.tsv.gz')]"
      ]
     },
     "metadata": {},
     "output_type": "display_data"
    }
   ],
   "source": [
    "INPUT_FILES = list(INPUT_DIR.glob(INPUT_PATTERN))\n",
    "display(INPUT_FILES[:5])"
   ]
  },
  {
   "cell_type": "code",
   "execution_count": 13,
   "id": "78294bb3-db99-45ae-8c98-44b74737b56d",
   "metadata": {
    "execution": {
     "iopub.execute_input": "2022-12-15T20:50:17.212772Z",
     "iopub.status.busy": "2022-12-15T20:50:17.212351Z",
     "iopub.status.idle": "2022-12-15T20:50:17.216477Z",
     "shell.execute_reply": "2022-12-15T20:50:17.215899Z"
    },
    "papermill": {
     "duration": 0.010636,
     "end_time": "2022-12-15T20:50:17.217413",
     "exception": false,
     "start_time": "2022-12-15T20:50:17.206777",
     "status": "completed"
    },
    "tags": []
   },
   "outputs": [
    {
     "data": {
      "text/plain": [
       "3"
      ]
     },
     "metadata": {},
     "output_type": "display_data"
    }
   ],
   "source": [
    "_tmp = len(INPUT_FILES)\n",
    "display(_tmp)\n",
    "assert _tmp == N_PHENOTYPES"
   ]
  },
  {
   "cell_type": "markdown",
   "id": "b582e77d-0f1d-4659-a5fd-d963904931cb",
   "metadata": {
    "papermill": {
     "duration": 0.004726,
     "end_time": "2022-12-15T20:50:17.227016",
     "exception": false,
     "start_time": "2022-12-15T20:50:17.222290",
     "status": "completed"
    },
    "tags": []
   },
   "source": [
    "### Read results"
   ]
  },
  {
   "cell_type": "code",
   "execution_count": 14,
   "id": "a082aeb1-c444-41f1-9f7e-d935c84cda8c",
   "metadata": {
    "execution": {
     "iopub.execute_input": "2022-12-15T20:50:17.238193Z",
     "iopub.status.busy": "2022-12-15T20:50:17.237751Z",
     "iopub.status.idle": "2022-12-15T20:50:17.241974Z",
     "shell.execute_reply": "2022-12-15T20:50:17.241404Z"
    },
    "papermill": {
     "duration": 0.010846,
     "end_time": "2022-12-15T20:50:17.243005",
     "exception": false,
     "start_time": "2022-12-15T20:50:17.232159",
     "status": "completed"
    },
    "tags": []
   },
   "outputs": [
    {
     "data": {
      "text/plain": [
       "'GWAS_COPD_only_GLM_SNPs_info0.7-'"
      ]
     },
     "execution_count": 14,
     "metadata": {},
     "output_type": "execute_result"
    }
   ],
   "source": [
    "INPUT_FILES[0].name.split(\"gls_phenoplier.\")[0]"
   ]
  },
  {
   "cell_type": "code",
   "execution_count": 15,
   "id": "18ebfb6c",
   "metadata": {
    "execution": {
     "iopub.execute_input": "2022-12-15T20:50:17.253886Z",
     "iopub.status.busy": "2022-12-15T20:50:17.253455Z",
     "iopub.status.idle": "2022-12-15T20:50:17.271492Z",
     "shell.execute_reply": "2022-12-15T20:50:17.270892Z"
    },
    "papermill": {
     "duration": 0.024589,
     "end_time": "2022-12-15T20:50:17.272570",
     "exception": false,
     "start_time": "2022-12-15T20:50:17.247981",
     "status": "completed"
    },
    "tags": []
   },
   "outputs": [],
   "source": [
    "dfs = [\n",
    "    pd.read_csv(\n",
    "        f, sep=\"\\t\", usecols=[\"lv\", \"beta\", \"beta_se\", \"pvalue_onesided\"]\n",
    "    ).assign(phenotype=f.name.split(\"gls_phenoplier.\")[0])\n",
    "    for f in INPUT_FILES\n",
    "]"
   ]
  },
  {
   "cell_type": "code",
   "execution_count": 16,
   "id": "ac3b6041",
   "metadata": {
    "execution": {
     "iopub.execute_input": "2022-12-15T20:50:17.284021Z",
     "iopub.status.busy": "2022-12-15T20:50:17.283557Z",
     "iopub.status.idle": "2022-12-15T20:50:17.287761Z",
     "shell.execute_reply": "2022-12-15T20:50:17.287184Z"
    },
    "papermill": {
     "duration": 0.010682,
     "end_time": "2022-12-15T20:50:17.288722",
     "exception": false,
     "start_time": "2022-12-15T20:50:17.278040",
     "status": "completed"
    },
    "tags": []
   },
   "outputs": [
    {
     "data": {
      "text/plain": [
       "3"
      ]
     },
     "metadata": {},
     "output_type": "display_data"
    }
   ],
   "source": [
    "display(len(dfs))\n",
    "assert len(dfs) == N_PHENOTYPES"
   ]
  },
  {
   "cell_type": "code",
   "execution_count": 17,
   "id": "d15f7346",
   "metadata": {
    "execution": {
     "iopub.execute_input": "2022-12-15T20:50:17.299658Z",
     "iopub.status.busy": "2022-12-15T20:50:17.299227Z",
     "iopub.status.idle": "2022-12-15T20:50:17.304010Z",
     "shell.execute_reply": "2022-12-15T20:50:17.303431Z"
    },
    "papermill": {
     "duration": 0.011277,
     "end_time": "2022-12-15T20:50:17.304975",
     "exception": false,
     "start_time": "2022-12-15T20:50:17.293698",
     "status": "completed"
    },
    "tags": []
   },
   "outputs": [],
   "source": [
    "dfs = pd.concat(dfs, axis=0, ignore_index=True).rename(\n",
    "    columns={\"pvalue_onesided\": PVALUE_COLUMN}\n",
    ")"
   ]
  },
  {
   "cell_type": "code",
   "execution_count": 18,
   "id": "7405b07c-b71a-4a8f-924b-f9ffc7a0b13a",
   "metadata": {
    "execution": {
     "iopub.execute_input": "2022-12-15T20:50:17.316464Z",
     "iopub.status.busy": "2022-12-15T20:50:17.316021Z",
     "iopub.status.idle": "2022-12-15T20:50:17.320241Z",
     "shell.execute_reply": "2022-12-15T20:50:17.319673Z"
    },
    "papermill": {
     "duration": 0.011217,
     "end_time": "2022-12-15T20:50:17.321191",
     "exception": false,
     "start_time": "2022-12-15T20:50:17.309974",
     "status": "completed"
    },
    "tags": []
   },
   "outputs": [
    {
     "data": {
      "text/plain": [
       "(2961, 5)"
      ]
     },
     "metadata": {},
     "output_type": "display_data"
    }
   ],
   "source": [
    "display(dfs.shape)\n",
    "assert dfs.shape[0] == N_PHENOTYPES * N_LVS"
   ]
  },
  {
   "cell_type": "code",
   "execution_count": 19,
   "id": "921c9f6b-69e2-46ba-9dcd-bce387c6aabc",
   "metadata": {
    "execution": {
     "iopub.execute_input": "2022-12-15T20:50:17.332342Z",
     "iopub.status.busy": "2022-12-15T20:50:17.331904Z",
     "iopub.status.idle": "2022-12-15T20:50:17.334736Z",
     "shell.execute_reply": "2022-12-15T20:50:17.334182Z"
    },
    "papermill": {
     "duration": 0.009353,
     "end_time": "2022-12-15T20:50:17.335628",
     "exception": false,
     "start_time": "2022-12-15T20:50:17.326275",
     "status": "completed"
    },
    "tags": []
   },
   "outputs": [],
   "source": [
    "# # add phenotype description\n",
    "# dfs = dfs.assign(\n",
    "#     phenotype_desc=dfs[\"phenotype\"].apply(lambda x: pheno_code_to_desc_map[x])\n",
    "# )\n",
    "# dfs = dfs[[\"phenotype\", \"phenotype_desc\", \"lv\", \"pvalue\"]]"
   ]
  },
  {
   "cell_type": "code",
   "execution_count": 20,
   "id": "228787ad-0cbb-4f3b-b964-0bc148a1a305",
   "metadata": {
    "execution": {
     "iopub.execute_input": "2022-12-15T20:50:17.346670Z",
     "iopub.status.busy": "2022-12-15T20:50:17.346234Z",
     "iopub.status.idle": "2022-12-15T20:50:17.355052Z",
     "shell.execute_reply": "2022-12-15T20:50:17.354477Z"
    },
    "papermill": {
     "duration": 0.01532,
     "end_time": "2022-12-15T20:50:17.355990",
     "exception": false,
     "start_time": "2022-12-15T20:50:17.340670",
     "status": "completed"
    },
    "tags": []
   },
   "outputs": [
    {
     "data": {
      "text/html": [
       "<div>\n",
       "<style scoped>\n",
       "    .dataframe tbody tr th:only-of-type {\n",
       "        vertical-align: middle;\n",
       "    }\n",
       "\n",
       "    .dataframe tbody tr th {\n",
       "        vertical-align: top;\n",
       "    }\n",
       "\n",
       "    .dataframe thead th {\n",
       "        text-align: right;\n",
       "    }\n",
       "</style>\n",
       "<table border=\"1\" class=\"dataframe\">\n",
       "  <thead>\n",
       "    <tr style=\"text-align: right;\">\n",
       "      <th></th>\n",
       "      <th>lv</th>\n",
       "      <th>beta</th>\n",
       "      <th>beta_se</th>\n",
       "      <th>pvalue</th>\n",
       "      <th>phenotype</th>\n",
       "    </tr>\n",
       "  </thead>\n",
       "  <tbody>\n",
       "    <tr>\n",
       "      <th>0</th>\n",
       "      <td>LV247</td>\n",
       "      <td>0.667501</td>\n",
       "      <td>0.126759</td>\n",
       "      <td>7.200244e-08</td>\n",
       "      <td>GWAS_COPD_only_GLM_SNPs_info0.7-</td>\n",
       "    </tr>\n",
       "    <tr>\n",
       "      <th>1</th>\n",
       "      <td>LV300</td>\n",
       "      <td>0.620979</td>\n",
       "      <td>0.125634</td>\n",
       "      <td>3.948175e-07</td>\n",
       "      <td>GWAS_COPD_only_GLM_SNPs_info0.7-</td>\n",
       "    </tr>\n",
       "    <tr>\n",
       "      <th>2</th>\n",
       "      <td>LV180</td>\n",
       "      <td>0.590544</td>\n",
       "      <td>0.126656</td>\n",
       "      <td>1.592848e-06</td>\n",
       "      <td>GWAS_COPD_only_GLM_SNPs_info0.7-</td>\n",
       "    </tr>\n",
       "    <tr>\n",
       "      <th>3</th>\n",
       "      <td>LV696</td>\n",
       "      <td>0.497310</td>\n",
       "      <td>0.125236</td>\n",
       "      <td>3.617882e-05</td>\n",
       "      <td>GWAS_COPD_only_GLM_SNPs_info0.7-</td>\n",
       "    </tr>\n",
       "    <tr>\n",
       "      <th>4</th>\n",
       "      <td>LV504</td>\n",
       "      <td>0.478885</td>\n",
       "      <td>0.126907</td>\n",
       "      <td>8.120896e-05</td>\n",
       "      <td>GWAS_COPD_only_GLM_SNPs_info0.7-</td>\n",
       "    </tr>\n",
       "  </tbody>\n",
       "</table>\n",
       "</div>"
      ],
      "text/plain": [
       "      lv      beta   beta_se        pvalue                         phenotype\n",
       "0  LV247  0.667501  0.126759  7.200244e-08  GWAS_COPD_only_GLM_SNPs_info0.7-\n",
       "1  LV300  0.620979  0.125634  3.948175e-07  GWAS_COPD_only_GLM_SNPs_info0.7-\n",
       "2  LV180  0.590544  0.126656  1.592848e-06  GWAS_COPD_only_GLM_SNPs_info0.7-\n",
       "3  LV696  0.497310  0.125236  3.617882e-05  GWAS_COPD_only_GLM_SNPs_info0.7-\n",
       "4  LV504  0.478885  0.126907  8.120896e-05  GWAS_COPD_only_GLM_SNPs_info0.7-"
      ]
     },
     "execution_count": 20,
     "metadata": {},
     "output_type": "execute_result"
    }
   ],
   "source": [
    "dfs.head()"
   ]
  },
  {
   "cell_type": "code",
   "execution_count": 21,
   "id": "97764d1b-af87-46a2-ab78-53df39b0dde3",
   "metadata": {
    "execution": {
     "iopub.execute_input": "2022-12-15T20:50:17.367886Z",
     "iopub.status.busy": "2022-12-15T20:50:17.367434Z",
     "iopub.status.idle": "2022-12-15T20:50:17.372627Z",
     "shell.execute_reply": "2022-12-15T20:50:17.371982Z"
    },
    "papermill": {
     "duration": 0.012025,
     "end_time": "2022-12-15T20:50:17.373617",
     "exception": false,
     "start_time": "2022-12-15T20:50:17.361592",
     "status": "completed"
    },
    "tags": []
   },
   "outputs": [],
   "source": [
    "_tmp = dfs.groupby(\"phenotype\")[\"lv\"].nunique().unique()\n",
    "assert _tmp.shape[0] == 1\n",
    "assert _tmp[0] == N_LVS"
   ]
  },
  {
   "cell_type": "markdown",
   "id": "f5310838-2f3e-4f4d-b32a-904cefde6a6a",
   "metadata": {
    "papermill": {
     "duration": 0.00511,
     "end_time": "2022-12-15T20:50:17.383956",
     "exception": false,
     "start_time": "2022-12-15T20:50:17.378846",
     "status": "completed"
    },
    "tags": []
   },
   "source": [
    "### FDR adjust"
   ]
  },
  {
   "cell_type": "code",
   "execution_count": 22,
   "id": "d7e8301f-3cbe-4fe9-973f-cd26f74c2164",
   "metadata": {
    "execution": {
     "iopub.execute_input": "2022-12-15T20:50:17.395624Z",
     "iopub.status.busy": "2022-12-15T20:50:17.395107Z",
     "iopub.status.idle": "2022-12-15T20:50:17.399266Z",
     "shell.execute_reply": "2022-12-15T20:50:17.398691Z"
    },
    "papermill": {
     "duration": 0.010791,
     "end_time": "2022-12-15T20:50:17.400157",
     "exception": false,
     "start_time": "2022-12-15T20:50:17.389366",
     "status": "completed"
    },
    "tags": []
   },
   "outputs": [],
   "source": [
    "adj_pval = multipletests(dfs[PVALUE_COLUMN], alpha=0.05, method=\"fdr_bh\")\n",
    "dfs = dfs.assign(fdr=adj_pval[1])"
   ]
  },
  {
   "cell_type": "code",
   "execution_count": 23,
   "id": "5878bb72-b4b7-4c8a-9494-f5e9e191b638",
   "metadata": {
    "execution": {
     "iopub.execute_input": "2022-12-15T20:50:17.411762Z",
     "iopub.status.busy": "2022-12-15T20:50:17.411327Z",
     "iopub.status.idle": "2022-12-15T20:50:17.415359Z",
     "shell.execute_reply": "2022-12-15T20:50:17.414784Z"
    },
    "papermill": {
     "duration": 0.010853,
     "end_time": "2022-12-15T20:50:17.416293",
     "exception": false,
     "start_time": "2022-12-15T20:50:17.405440",
     "status": "completed"
    },
    "tags": []
   },
   "outputs": [
    {
     "data": {
      "text/plain": [
       "(2961, 6)"
      ]
     },
     "execution_count": 23,
     "metadata": {},
     "output_type": "execute_result"
    }
   ],
   "source": [
    "dfs.shape"
   ]
  },
  {
   "cell_type": "code",
   "execution_count": 24,
   "id": "0623dadc-a934-4ae2-b514-8029fd8fbed2",
   "metadata": {
    "execution": {
     "iopub.execute_input": "2022-12-15T20:50:17.427863Z",
     "iopub.status.busy": "2022-12-15T20:50:17.427441Z",
     "iopub.status.idle": "2022-12-15T20:50:17.436577Z",
     "shell.execute_reply": "2022-12-15T20:50:17.435992Z"
    },
    "papermill": {
     "duration": 0.015758,
     "end_time": "2022-12-15T20:50:17.437511",
     "exception": false,
     "start_time": "2022-12-15T20:50:17.421753",
     "status": "completed"
    },
    "tags": []
   },
   "outputs": [
    {
     "data": {
      "text/html": [
       "<div>\n",
       "<style scoped>\n",
       "    .dataframe tbody tr th:only-of-type {\n",
       "        vertical-align: middle;\n",
       "    }\n",
       "\n",
       "    .dataframe tbody tr th {\n",
       "        vertical-align: top;\n",
       "    }\n",
       "\n",
       "    .dataframe thead th {\n",
       "        text-align: right;\n",
       "    }\n",
       "</style>\n",
       "<table border=\"1\" class=\"dataframe\">\n",
       "  <thead>\n",
       "    <tr style=\"text-align: right;\">\n",
       "      <th></th>\n",
       "      <th>lv</th>\n",
       "      <th>beta</th>\n",
       "      <th>beta_se</th>\n",
       "      <th>pvalue</th>\n",
       "      <th>phenotype</th>\n",
       "      <th>fdr</th>\n",
       "    </tr>\n",
       "  </thead>\n",
       "  <tbody>\n",
       "    <tr>\n",
       "      <th>0</th>\n",
       "      <td>LV247</td>\n",
       "      <td>0.667501</td>\n",
       "      <td>0.126759</td>\n",
       "      <td>7.200244e-08</td>\n",
       "      <td>GWAS_COPD_only_GLM_SNPs_info0.7-</td>\n",
       "      <td>0.000107</td>\n",
       "    </tr>\n",
       "    <tr>\n",
       "      <th>1</th>\n",
       "      <td>LV300</td>\n",
       "      <td>0.620979</td>\n",
       "      <td>0.125634</td>\n",
       "      <td>3.948175e-07</td>\n",
       "      <td>GWAS_COPD_only_GLM_SNPs_info0.7-</td>\n",
       "      <td>0.000234</td>\n",
       "    </tr>\n",
       "    <tr>\n",
       "      <th>2</th>\n",
       "      <td>LV180</td>\n",
       "      <td>0.590544</td>\n",
       "      <td>0.126656</td>\n",
       "      <td>1.592848e-06</td>\n",
       "      <td>GWAS_COPD_only_GLM_SNPs_info0.7-</td>\n",
       "      <td>0.000619</td>\n",
       "    </tr>\n",
       "    <tr>\n",
       "      <th>3</th>\n",
       "      <td>LV696</td>\n",
       "      <td>0.497310</td>\n",
       "      <td>0.125236</td>\n",
       "      <td>3.617882e-05</td>\n",
       "      <td>GWAS_COPD_only_GLM_SNPs_info0.7-</td>\n",
       "      <td>0.008927</td>\n",
       "    </tr>\n",
       "    <tr>\n",
       "      <th>4</th>\n",
       "      <td>LV504</td>\n",
       "      <td>0.478885</td>\n",
       "      <td>0.126907</td>\n",
       "      <td>8.120896e-05</td>\n",
       "      <td>GWAS_COPD_only_GLM_SNPs_info0.7-</td>\n",
       "      <td>0.017176</td>\n",
       "    </tr>\n",
       "  </tbody>\n",
       "</table>\n",
       "</div>"
      ],
      "text/plain": [
       "      lv      beta   beta_se        pvalue                         phenotype  \\\n",
       "0  LV247  0.667501  0.126759  7.200244e-08  GWAS_COPD_only_GLM_SNPs_info0.7-   \n",
       "1  LV300  0.620979  0.125634  3.948175e-07  GWAS_COPD_only_GLM_SNPs_info0.7-   \n",
       "2  LV180  0.590544  0.126656  1.592848e-06  GWAS_COPD_only_GLM_SNPs_info0.7-   \n",
       "3  LV696  0.497310  0.125236  3.617882e-05  GWAS_COPD_only_GLM_SNPs_info0.7-   \n",
       "4  LV504  0.478885  0.126907  8.120896e-05  GWAS_COPD_only_GLM_SNPs_info0.7-   \n",
       "\n",
       "        fdr  \n",
       "0  0.000107  \n",
       "1  0.000234  \n",
       "2  0.000619  \n",
       "3  0.008927  \n",
       "4  0.017176  "
      ]
     },
     "execution_count": 24,
     "metadata": {},
     "output_type": "execute_result"
    }
   ],
   "source": [
    "dfs.head()"
   ]
  },
  {
   "cell_type": "markdown",
   "id": "ec45e443-0a39-46a7-85c7-540193a15f25",
   "metadata": {
    "papermill": {
     "duration": 0.005108,
     "end_time": "2022-12-15T20:50:17.447943",
     "exception": false,
     "start_time": "2022-12-15T20:50:17.442835",
     "status": "completed"
    },
    "tags": []
   },
   "source": [
    "# QQ-plot"
   ]
  },
  {
   "cell_type": "code",
   "execution_count": 25,
   "id": "de7de0f0-493d-4426-aa14-a330f612407f",
   "metadata": {
    "execution": {
     "iopub.execute_input": "2022-12-15T20:50:17.459930Z",
     "iopub.status.busy": "2022-12-15T20:50:17.459481Z",
     "iopub.status.idle": "2022-12-15T20:50:17.672956Z",
     "shell.execute_reply": "2022-12-15T20:50:17.672469Z"
    },
    "papermill": {
     "duration": 0.221075,
     "end_time": "2022-12-15T20:50:17.674571",
     "exception": false,
     "start_time": "2022-12-15T20:50:17.453496",
     "status": "completed"
    },
    "tags": []
   },
   "outputs": [
    {
     "data": {
      "image/png": "[encoded data removed]",
      "text/plain": [
       "<Figure size 800x800 with 1 Axes>"
      ]
     },
     "metadata": {},
     "output_type": "display_data"
    }
   ],
   "source": [
    "with sns.plotting_context(\"paper\", font_scale=1.8), mpl.rc_context(\n",
    "    {\"lines.markersize\": 3}\n",
    "):\n",
    "    fig, ax = qqplot(dfs[\"pvalue\"])\n",
    "    ax.set_title(f\"PhenomeXcan - {N_PHENOTYPES} traits\")"
   ]
  },
  {
   "cell_type": "markdown",
   "id": "44f26913-0b71-44ba-a884-3a83d221c748",
   "metadata": {
    "papermill": {
     "duration": 0.011899,
     "end_time": "2022-12-15T20:50:17.697811",
     "exception": false,
     "start_time": "2022-12-15T20:50:17.685912",
     "status": "completed"
    },
    "tags": []
   },
   "source": [
    "# Top hits"
   ]
  },
  {
   "cell_type": "code",
   "execution_count": 26,
   "id": "d4731278-0adc-47f1-ba18-556e37472026",
   "metadata": {
    "execution": {
     "iopub.execute_input": "2022-12-15T20:50:17.721141Z",
     "iopub.status.busy": "2022-12-15T20:50:17.721004Z",
     "iopub.status.idle": "2022-12-15T20:50:17.735105Z",
     "shell.execute_reply": "2022-12-15T20:50:17.734500Z"
    },
    "papermill": {
     "duration": 0.027352,
     "end_time": "2022-12-15T20:50:17.736622",
     "exception": false,
     "start_time": "2022-12-15T20:50:17.709270",
     "status": "completed"
    },
    "tags": []
   },
   "outputs": [
    {
     "data": {
      "text/html": [
       "<div>\n",
       "<style scoped>\n",
       "    .dataframe tbody tr th:only-of-type {\n",
       "        vertical-align: middle;\n",
       "    }\n",
       "\n",
       "    .dataframe tbody tr th {\n",
       "        vertical-align: top;\n",
       "    }\n",
       "\n",
       "    .dataframe thead th {\n",
       "        text-align: right;\n",
       "    }\n",
       "</style>\n",
       "<table border=\"1\" class=\"dataframe\">\n",
       "  <thead>\n",
       "    <tr style=\"text-align: right;\">\n",
       "      <th></th>\n",
       "      <th>lv</th>\n",
       "      <th>beta</th>\n",
       "      <th>beta_se</th>\n",
       "      <th>pvalue</th>\n",
       "      <th>phenotype</th>\n",
       "      <th>fdr</th>\n",
       "    </tr>\n",
       "  </thead>\n",
       "  <tbody>\n",
       "    <tr>\n",
       "      <th>987</th>\n",
       "      <td>LV101</td>\n",
       "      <td>0.725541</td>\n",
       "      <td>0.126975</td>\n",
       "      <td>5.763470e-09</td>\n",
       "      <td>GWAS_Asthma_only_GLM_SNPs_info0.7-</td>\n",
       "      <td>0.000017</td>\n",
       "    </tr>\n",
       "    <tr>\n",
       "      <th>0</th>\n",
       "      <td>LV247</td>\n",
       "      <td>0.667501</td>\n",
       "      <td>0.126759</td>\n",
       "      <td>7.200244e-08</td>\n",
       "      <td>GWAS_COPD_only_GLM_SNPs_info0.7-</td>\n",
       "      <td>0.000107</td>\n",
       "    </tr>\n",
       "    <tr>\n",
       "      <th>989</th>\n",
       "      <td>LV17</td>\n",
       "      <td>0.651945</td>\n",
       "      <td>0.130076</td>\n",
       "      <td>2.764702e-07</td>\n",
       "      <td>GWAS_Asthma_only_GLM_SNPs_info0.7-</td>\n",
       "      <td>0.000205</td>\n",
       "    </tr>\n",
       "    <tr>\n",
       "      <th>988</th>\n",
       "      <td>LV444</td>\n",
       "      <td>0.626413</td>\n",
       "      <td>0.124808</td>\n",
       "      <td>2.666571e-07</td>\n",
       "      <td>GWAS_Asthma_only_GLM_SNPs_info0.7-</td>\n",
       "      <td>0.000205</td>\n",
       "    </tr>\n",
       "    <tr>\n",
       "      <th>1</th>\n",
       "      <td>LV300</td>\n",
       "      <td>0.620979</td>\n",
       "      <td>0.125634</td>\n",
       "      <td>3.948175e-07</td>\n",
       "      <td>GWAS_COPD_only_GLM_SNPs_info0.7-</td>\n",
       "      <td>0.000234</td>\n",
       "    </tr>\n",
       "    <tr>\n",
       "      <th>1974</th>\n",
       "      <td>LV101</td>\n",
       "      <td>0.617122</td>\n",
       "      <td>0.128485</td>\n",
       "      <td>7.989790e-07</td>\n",
       "      <td>GWAS_ACO_GLM_SNPs_info0.7-</td>\n",
       "      <td>0.000394</td>\n",
       "    </tr>\n",
       "    <tr>\n",
       "      <th>2</th>\n",
       "      <td>LV180</td>\n",
       "      <td>0.590544</td>\n",
       "      <td>0.126656</td>\n",
       "      <td>1.592848e-06</td>\n",
       "      <td>GWAS_COPD_only_GLM_SNPs_info0.7-</td>\n",
       "      <td>0.000619</td>\n",
       "    </tr>\n",
       "    <tr>\n",
       "      <th>991</th>\n",
       "      <td>LV61</td>\n",
       "      <td>0.580480</td>\n",
       "      <td>0.125812</td>\n",
       "      <td>2.014374e-06</td>\n",
       "      <td>GWAS_Asthma_only_GLM_SNPs_info0.7-</td>\n",
       "      <td>0.000619</td>\n",
       "    </tr>\n",
       "    <tr>\n",
       "      <th>990</th>\n",
       "      <td>LV948</td>\n",
       "      <td>0.581716</td>\n",
       "      <td>0.125679</td>\n",
       "      <td>1.876877e-06</td>\n",
       "      <td>GWAS_Asthma_only_GLM_SNPs_info0.7-</td>\n",
       "      <td>0.000619</td>\n",
       "    </tr>\n",
       "    <tr>\n",
       "      <th>992</th>\n",
       "      <td>LV705</td>\n",
       "      <td>0.573511</td>\n",
       "      <td>0.124509</td>\n",
       "      <td>2.090083e-06</td>\n",
       "      <td>GWAS_Asthma_only_GLM_SNPs_info0.7-</td>\n",
       "      <td>0.000619</td>\n",
       "    </tr>\n",
       "    <tr>\n",
       "      <th>1975</th>\n",
       "      <td>LV948</td>\n",
       "      <td>0.503273</td>\n",
       "      <td>0.126410</td>\n",
       "      <td>3.464972e-05</td>\n",
       "      <td>GWAS_ACO_GLM_SNPs_info0.7-</td>\n",
       "      <td>0.008927</td>\n",
       "    </tr>\n",
       "    <tr>\n",
       "      <th>3</th>\n",
       "      <td>LV696</td>\n",
       "      <td>0.497310</td>\n",
       "      <td>0.125236</td>\n",
       "      <td>3.617882e-05</td>\n",
       "      <td>GWAS_COPD_only_GLM_SNPs_info0.7-</td>\n",
       "      <td>0.008927</td>\n",
       "    </tr>\n",
       "    <tr>\n",
       "      <th>993</th>\n",
       "      <td>LV96</td>\n",
       "      <td>0.499062</td>\n",
       "      <td>0.127083</td>\n",
       "      <td>4.344623e-05</td>\n",
       "      <td>GWAS_Asthma_only_GLM_SNPs_info0.7-</td>\n",
       "      <td>0.009896</td>\n",
       "    </tr>\n",
       "    <tr>\n",
       "      <th>4</th>\n",
       "      <td>LV504</td>\n",
       "      <td>0.478885</td>\n",
       "      <td>0.126907</td>\n",
       "      <td>8.120896e-05</td>\n",
       "      <td>GWAS_COPD_only_GLM_SNPs_info0.7-</td>\n",
       "      <td>0.017176</td>\n",
       "    </tr>\n",
       "    <tr>\n",
       "      <th>994</th>\n",
       "      <td>LV70</td>\n",
       "      <td>0.467698</td>\n",
       "      <td>0.125898</td>\n",
       "      <td>1.025075e-04</td>\n",
       "      <td>GWAS_Asthma_only_GLM_SNPs_info0.7-</td>\n",
       "      <td>0.018951</td>\n",
       "    </tr>\n",
       "    <tr>\n",
       "      <th>995</th>\n",
       "      <td>LV844</td>\n",
       "      <td>0.491428</td>\n",
       "      <td>0.132480</td>\n",
       "      <td>1.047248e-04</td>\n",
       "      <td>GWAS_Asthma_only_GLM_SNPs_info0.7-</td>\n",
       "      <td>0.018951</td>\n",
       "    </tr>\n",
       "    <tr>\n",
       "      <th>1976</th>\n",
       "      <td>LV705</td>\n",
       "      <td>0.466074</td>\n",
       "      <td>0.125974</td>\n",
       "      <td>1.088037e-04</td>\n",
       "      <td>GWAS_ACO_GLM_SNPs_info0.7-</td>\n",
       "      <td>0.018951</td>\n",
       "    </tr>\n",
       "    <tr>\n",
       "      <th>5</th>\n",
       "      <td>LV70</td>\n",
       "      <td>0.462430</td>\n",
       "      <td>0.127150</td>\n",
       "      <td>1.390485e-04</td>\n",
       "      <td>GWAS_COPD_only_GLM_SNPs_info0.7-</td>\n",
       "      <td>0.022873</td>\n",
       "    </tr>\n",
       "    <tr>\n",
       "      <th>996</th>\n",
       "      <td>LV207</td>\n",
       "      <td>0.465095</td>\n",
       "      <td>0.129773</td>\n",
       "      <td>1.705030e-04</td>\n",
       "      <td>GWAS_Asthma_only_GLM_SNPs_info0.7-</td>\n",
       "      <td>0.026477</td>\n",
       "    </tr>\n",
       "    <tr>\n",
       "      <th>6</th>\n",
       "      <td>LV455</td>\n",
       "      <td>0.442878</td>\n",
       "      <td>0.124007</td>\n",
       "      <td>1.788404e-04</td>\n",
       "      <td>GWAS_COPD_only_GLM_SNPs_info0.7-</td>\n",
       "      <td>0.026477</td>\n",
       "    </tr>\n",
       "    <tr>\n",
       "      <th>1977</th>\n",
       "      <td>LV504</td>\n",
       "      <td>0.442245</td>\n",
       "      <td>0.126605</td>\n",
       "      <td>2.403098e-04</td>\n",
       "      <td>GWAS_ACO_GLM_SNPs_info0.7-</td>\n",
       "      <td>0.033884</td>\n",
       "    </tr>\n",
       "    <tr>\n",
       "      <th>8</th>\n",
       "      <td>LV799</td>\n",
       "      <td>0.437309</td>\n",
       "      <td>0.126230</td>\n",
       "      <td>2.674683e-04</td>\n",
       "      <td>GWAS_COPD_only_GLM_SNPs_info0.7-</td>\n",
       "      <td>0.034434</td>\n",
       "    </tr>\n",
       "    <tr>\n",
       "      <th>7</th>\n",
       "      <td>LV149</td>\n",
       "      <td>0.433460</td>\n",
       "      <td>0.124817</td>\n",
       "      <td>2.592485e-04</td>\n",
       "      <td>GWAS_COPD_only_GLM_SNPs_info0.7-</td>\n",
       "      <td>0.034434</td>\n",
       "    </tr>\n",
       "    <tr>\n",
       "      <th>997</th>\n",
       "      <td>LV506</td>\n",
       "      <td>0.436873</td>\n",
       "      <td>0.126588</td>\n",
       "      <td>2.809040e-04</td>\n",
       "      <td>GWAS_Asthma_only_GLM_SNPs_info0.7-</td>\n",
       "      <td>0.034657</td>\n",
       "    </tr>\n",
       "    <tr>\n",
       "      <th>1978</th>\n",
       "      <td>LV563</td>\n",
       "      <td>0.441458</td>\n",
       "      <td>0.129181</td>\n",
       "      <td>3.181143e-04</td>\n",
       "      <td>GWAS_ACO_GLM_SNPs_info0.7-</td>\n",
       "      <td>0.036405</td>\n",
       "    </tr>\n",
       "    <tr>\n",
       "      <th>9</th>\n",
       "      <td>LV214</td>\n",
       "      <td>0.428885</td>\n",
       "      <td>0.125550</td>\n",
       "      <td>3.196640e-04</td>\n",
       "      <td>GWAS_COPD_only_GLM_SNPs_info0.7-</td>\n",
       "      <td>0.036405</td>\n",
       "    </tr>\n",
       "    <tr>\n",
       "      <th>998</th>\n",
       "      <td>LV140</td>\n",
       "      <td>0.443362</td>\n",
       "      <td>0.130312</td>\n",
       "      <td>3.361241e-04</td>\n",
       "      <td>GWAS_Asthma_only_GLM_SNPs_info0.7-</td>\n",
       "      <td>0.036862</td>\n",
       "    </tr>\n",
       "    <tr>\n",
       "      <th>999</th>\n",
       "      <td>LV803</td>\n",
       "      <td>0.422627</td>\n",
       "      <td>0.125527</td>\n",
       "      <td>3.824215e-04</td>\n",
       "      <td>GWAS_Asthma_only_GLM_SNPs_info0.7-</td>\n",
       "      <td>0.039047</td>\n",
       "    </tr>\n",
       "    <tr>\n",
       "      <th>10</th>\n",
       "      <td>LV383</td>\n",
       "      <td>0.420065</td>\n",
       "      <td>0.124709</td>\n",
       "      <td>3.803017e-04</td>\n",
       "      <td>GWAS_COPD_only_GLM_SNPs_info0.7-</td>\n",
       "      <td>0.039047</td>\n",
       "    </tr>\n",
       "  </tbody>\n",
       "</table>\n",
       "</div>"
      ],
      "text/plain": [
       "         lv      beta   beta_se        pvalue  \\\n",
       "987   LV101  0.725541  0.126975  5.763470e-09   \n",
       "0     LV247  0.667501  0.126759  7.200244e-08   \n",
       "989    LV17  0.651945  0.130076  2.764702e-07   \n",
       "988   LV444  0.626413  0.124808  2.666571e-07   \n",
       "1     LV300  0.620979  0.125634  3.948175e-07   \n",
       "1974  LV101  0.617122  0.128485  7.989790e-07   \n",
       "2     LV180  0.590544  0.126656  1.592848e-06   \n",
       "991    LV61  0.580480  0.125812  2.014374e-06   \n",
       "990   LV948  0.581716  0.125679  1.876877e-06   \n",
       "992   LV705  0.573511  0.124509  2.090083e-06   \n",
       "1975  LV948  0.503273  0.126410  3.464972e-05   \n",
       "3     LV696  0.497310  0.125236  3.617882e-05   \n",
       "993    LV96  0.499062  0.127083  4.344623e-05   \n",
       "4     LV504  0.478885  0.126907  8.120896e-05   \n",
       "994    LV70  0.467698  0.125898  1.025075e-04   \n",
       "995   LV844  0.491428  0.132480  1.047248e-04   \n",
       "1976  LV705  0.466074  0.125974  1.088037e-04   \n",
       "5      LV70  0.462430  0.127150  1.390485e-04   \n",
       "996   LV207  0.465095  0.129773  1.705030e-04   \n",
       "6     LV455  0.442878  0.124007  1.788404e-04   \n",
       "1977  LV504  0.442245  0.126605  2.403098e-04   \n",
       "8     LV799  0.437309  0.126230  2.674683e-04   \n",
       "7     LV149  0.433460  0.124817  2.592485e-04   \n",
       "997   LV506  0.436873  0.126588  2.809040e-04   \n",
       "1978  LV563  0.441458  0.129181  3.181143e-04   \n",
       "9     LV214  0.428885  0.125550  3.196640e-04   \n",
       "998   LV140  0.443362  0.130312  3.361241e-04   \n",
       "999   LV803  0.422627  0.125527  3.824215e-04   \n",
       "10    LV383  0.420065  0.124709  3.803017e-04   \n",
       "\n",
       "                               phenotype       fdr  \n",
       "987   GWAS_Asthma_only_GLM_SNPs_info0.7-  0.000017  \n",
       "0       GWAS_COPD_only_GLM_SNPs_info0.7-  0.000107  \n",
       "989   GWAS_Asthma_only_GLM_SNPs_info0.7-  0.000205  \n",
       "988   GWAS_Asthma_only_GLM_SNPs_info0.7-  0.000205  \n",
       "1       GWAS_COPD_only_GLM_SNPs_info0.7-  0.000234  \n",
       "1974          GWAS_ACO_GLM_SNPs_info0.7-  0.000394  \n",
       "2       GWAS_COPD_only_GLM_SNPs_info0.7-  0.000619  \n",
       "991   GWAS_Asthma_only_GLM_SNPs_info0.7-  0.000619  \n",
       "990   GWAS_Asthma_only_GLM_SNPs_info0.7-  0.000619  \n",
       "992   GWAS_Asthma_only_GLM_SNPs_info0.7-  0.000619  \n",
       "1975          GWAS_ACO_GLM_SNPs_info0.7-  0.008927  \n",
       "3       GWAS_COPD_only_GLM_SNPs_info0.7-  0.008927  \n",
       "993   GWAS_Asthma_only_GLM_SNPs_info0.7-  0.009896  \n",
       "4       GWAS_COPD_only_GLM_SNPs_info0.7-  0.017176  \n",
       "994   GWAS_Asthma_only_GLM_SNPs_info0.7-  0.018951  \n",
       "995   GWAS_Asthma_only_GLM_SNPs_info0.7-  0.018951  \n",
       "1976          GWAS_ACO_GLM_SNPs_info0.7-  0.018951  \n",
       "5       GWAS_COPD_only_GLM_SNPs_info0.7-  0.022873  \n",
       "996   GWAS_Asthma_only_GLM_SNPs_info0.7-  0.026477  \n",
       "6       GWAS_COPD_only_GLM_SNPs_info0.7-  0.026477  \n",
       "1977          GWAS_ACO_GLM_SNPs_info0.7-  0.033884  \n",
       "8       GWAS_COPD_only_GLM_SNPs_info0.7-  0.034434  \n",
       "7       GWAS_COPD_only_GLM_SNPs_info0.7-  0.034434  \n",
       "997   GWAS_Asthma_only_GLM_SNPs_info0.7-  0.034657  \n",
       "1978          GWAS_ACO_GLM_SNPs_info0.7-  0.036405  \n",
       "9       GWAS_COPD_only_GLM_SNPs_info0.7-  0.036405  \n",
       "998   GWAS_Asthma_only_GLM_SNPs_info0.7-  0.036862  \n",
       "999   GWAS_Asthma_only_GLM_SNPs_info0.7-  0.039047  \n",
       "10      GWAS_COPD_only_GLM_SNPs_info0.7-  0.039047  "
      ]
     },
     "metadata": {},
     "output_type": "display_data"
    }
   ],
   "source": [
    "with pd.option_context(\"display.max_columns\", None, \"display.max_colwidth\", None):\n",
    "    _tmp = dfs.sort_values(\"fdr\")  # .drop(columns=\"phenotype\")\n",
    "    _tmp = _tmp[_tmp[\"fdr\"] < 0.05]\n",
    "    display(_tmp.head(50))"
   ]
  },
  {
   "cell_type": "markdown",
   "id": "4584fb22-976b-4994-bb78-9c81019058c3",
   "metadata": {
    "papermill": {
     "duration": 0.011548,
     "end_time": "2022-12-15T20:50:17.759934",
     "exception": false,
     "start_time": "2022-12-15T20:50:17.748386",
     "status": "completed"
    },
    "tags": []
   },
   "source": [
    "# Optimize data types"
   ]
  },
  {
   "cell_type": "code",
   "execution_count": 27,
   "id": "39b4a3da-9372-492b-b239-fc2d1273ade4",
   "metadata": {
    "execution": {
     "iopub.execute_input": "2022-12-15T20:50:17.783310Z",
     "iopub.status.busy": "2022-12-15T20:50:17.782768Z",
     "iopub.status.idle": "2022-12-15T20:50:17.791966Z",
     "shell.execute_reply": "2022-12-15T20:50:17.791397Z"
    },
    "papermill": {
     "duration": 0.021899,
     "end_time": "2022-12-15T20:50:17.792898",
     "exception": false,
     "start_time": "2022-12-15T20:50:17.770999",
     "status": "completed"
    },
    "tags": []
   },
   "outputs": [
    {
     "data": {
      "text/html": [
       "<div>\n",
       "<style scoped>\n",
       "    .dataframe tbody tr th:only-of-type {\n",
       "        vertical-align: middle;\n",
       "    }\n",
       "\n",
       "    .dataframe tbody tr th {\n",
       "        vertical-align: top;\n",
       "    }\n",
       "\n",
       "    .dataframe thead th {\n",
       "        text-align: right;\n",
       "    }\n",
       "</style>\n",
       "<table border=\"1\" class=\"dataframe\">\n",
       "  <thead>\n",
       "    <tr style=\"text-align: right;\">\n",
       "      <th></th>\n",
       "      <th>lv</th>\n",
       "      <th>beta</th>\n",
       "      <th>beta_se</th>\n",
       "      <th>pvalue</th>\n",
       "      <th>phenotype</th>\n",
       "      <th>fdr</th>\n",
       "    </tr>\n",
       "  </thead>\n",
       "  <tbody>\n",
       "    <tr>\n",
       "      <th>0</th>\n",
       "      <td>LV247</td>\n",
       "      <td>0.667501</td>\n",
       "      <td>0.126759</td>\n",
       "      <td>7.200244e-08</td>\n",
       "      <td>GWAS_COPD_only_GLM_SNPs_info0.7-</td>\n",
       "      <td>0.000107</td>\n",
       "    </tr>\n",
       "    <tr>\n",
       "      <th>1</th>\n",
       "      <td>LV300</td>\n",
       "      <td>0.620979</td>\n",
       "      <td>0.125634</td>\n",
       "      <td>3.948175e-07</td>\n",
       "      <td>GWAS_COPD_only_GLM_SNPs_info0.7-</td>\n",
       "      <td>0.000234</td>\n",
       "    </tr>\n",
       "    <tr>\n",
       "      <th>2</th>\n",
       "      <td>LV180</td>\n",
       "      <td>0.590544</td>\n",
       "      <td>0.126656</td>\n",
       "      <td>1.592848e-06</td>\n",
       "      <td>GWAS_COPD_only_GLM_SNPs_info0.7-</td>\n",
       "      <td>0.000619</td>\n",
       "    </tr>\n",
       "    <tr>\n",
       "      <th>3</th>\n",
       "      <td>LV696</td>\n",
       "      <td>0.497310</td>\n",
       "      <td>0.125236</td>\n",
       "      <td>3.617882e-05</td>\n",
       "      <td>GWAS_COPD_only_GLM_SNPs_info0.7-</td>\n",
       "      <td>0.008927</td>\n",
       "    </tr>\n",
       "    <tr>\n",
       "      <th>4</th>\n",
       "      <td>LV504</td>\n",
       "      <td>0.478885</td>\n",
       "      <td>0.126907</td>\n",
       "      <td>8.120896e-05</td>\n",
       "      <td>GWAS_COPD_only_GLM_SNPs_info0.7-</td>\n",
       "      <td>0.017176</td>\n",
       "    </tr>\n",
       "  </tbody>\n",
       "</table>\n",
       "</div>"
      ],
      "text/plain": [
       "      lv      beta   beta_se        pvalue                         phenotype  \\\n",
       "0  LV247  0.667501  0.126759  7.200244e-08  GWAS_COPD_only_GLM_SNPs_info0.7-   \n",
       "1  LV300  0.620979  0.125634  3.948175e-07  GWAS_COPD_only_GLM_SNPs_info0.7-   \n",
       "2  LV180  0.590544  0.126656  1.592848e-06  GWAS_COPD_only_GLM_SNPs_info0.7-   \n",
       "3  LV696  0.497310  0.125236  3.617882e-05  GWAS_COPD_only_GLM_SNPs_info0.7-   \n",
       "4  LV504  0.478885  0.126907  8.120896e-05  GWAS_COPD_only_GLM_SNPs_info0.7-   \n",
       "\n",
       "        fdr  \n",
       "0  0.000107  \n",
       "1  0.000234  \n",
       "2  0.000619  \n",
       "3  0.008927  \n",
       "4  0.017176  "
      ]
     },
     "execution_count": 27,
     "metadata": {},
     "output_type": "execute_result"
    }
   ],
   "source": [
    "dfs.head()"
   ]
  },
  {
   "cell_type": "code",
   "execution_count": 28,
   "id": "72a2c594-ccee-4460-898b-e2d4a079ec98",
   "metadata": {
    "execution": {
     "iopub.execute_input": "2022-12-15T20:50:17.806124Z",
     "iopub.status.busy": "2022-12-15T20:50:17.805681Z",
     "iopub.status.idle": "2022-12-15T20:50:17.810632Z",
     "shell.execute_reply": "2022-12-15T20:50:17.810056Z"
    },
    "papermill": {
     "duration": 0.012349,
     "end_time": "2022-12-15T20:50:17.811490",
     "exception": false,
     "start_time": "2022-12-15T20:50:17.799141",
     "status": "completed"
    },
    "tags": []
   },
   "outputs": [
    {
     "data": {
      "text/plain": [
       "lv            object\n",
       "beta         float64\n",
       "beta_se      float64\n",
       "pvalue       float64\n",
       "phenotype     object\n",
       "fdr          float64\n",
       "dtype: object"
      ]
     },
     "execution_count": 28,
     "metadata": {},
     "output_type": "execute_result"
    }
   ],
   "source": [
    "dfs.dtypes"
   ]
  },
  {
   "cell_type": "code",
   "execution_count": 29,
   "id": "1fa4ab15-9fe9-467a-a365-66d2b591a455",
   "metadata": {
    "execution": {
     "iopub.execute_input": "2022-12-15T20:50:17.824939Z",
     "iopub.status.busy": "2022-12-15T20:50:17.824509Z",
     "iopub.status.idle": "2022-12-15T20:50:17.830111Z",
     "shell.execute_reply": "2022-12-15T20:50:17.829543Z"
    },
    "papermill": {
     "duration": 0.013227,
     "end_time": "2022-12-15T20:50:17.830978",
     "exception": false,
     "start_time": "2022-12-15T20:50:17.817751",
     "status": "completed"
    },
    "tags": []
   },
   "outputs": [
    {
     "data": {
      "text/plain": [
       "Index          128\n",
       "lv           23688\n",
       "beta         23688\n",
       "beta_se      23688\n",
       "pvalue       23688\n",
       "phenotype    23688\n",
       "fdr          23688\n",
       "dtype: int64"
      ]
     },
     "execution_count": 29,
     "metadata": {},
     "output_type": "execute_result"
    }
   ],
   "source": [
    "dfs.memory_usage()"
   ]
  },
  {
   "cell_type": "code",
   "execution_count": 30,
   "id": "9e651ad8-6f66-4189-a07a-4967891600c4",
   "metadata": {
    "execution": {
     "iopub.execute_input": "2022-12-15T20:50:17.844472Z",
     "iopub.status.busy": "2022-12-15T20:50:17.844032Z",
     "iopub.status.idle": "2022-12-15T20:50:17.849713Z",
     "shell.execute_reply": "2022-12-15T20:50:17.849137Z"
    },
    "papermill": {
     "duration": 0.013517,
     "end_time": "2022-12-15T20:50:17.850629",
     "exception": false,
     "start_time": "2022-12-15T20:50:17.837112",
     "status": "completed"
    },
    "tags": []
   },
   "outputs": [],
   "source": [
    "dfs[\"phenotype\"] = dfs[\"phenotype\"].astype(\"category\")\n",
    "dfs[\"lv\"] = dfs[\"lv\"].astype(\"category\")"
   ]
  },
  {
   "cell_type": "code",
   "execution_count": 31,
   "id": "84001a8d-d406-470e-9746-9454602e8871",
   "metadata": {
    "execution": {
     "iopub.execute_input": "2022-12-15T20:50:17.864163Z",
     "iopub.status.busy": "2022-12-15T20:50:17.863706Z",
     "iopub.status.idle": "2022-12-15T20:50:17.873216Z",
     "shell.execute_reply": "2022-12-15T20:50:17.872638Z"
    },
    "papermill": {
     "duration": 0.017054,
     "end_time": "2022-12-15T20:50:17.874089",
     "exception": false,
     "start_time": "2022-12-15T20:50:17.857035",
     "status": "completed"
    },
    "tags": []
   },
   "outputs": [
    {
     "data": {
      "text/html": [
       "<div>\n",
       "<style scoped>\n",
       "    .dataframe tbody tr th:only-of-type {\n",
       "        vertical-align: middle;\n",
       "    }\n",
       "\n",
       "    .dataframe tbody tr th {\n",
       "        vertical-align: top;\n",
       "    }\n",
       "\n",
       "    .dataframe thead th {\n",
       "        text-align: right;\n",
       "    }\n",
       "</style>\n",
       "<table border=\"1\" class=\"dataframe\">\n",
       "  <thead>\n",
       "    <tr style=\"text-align: right;\">\n",
       "      <th></th>\n",
       "      <th>lv</th>\n",
       "      <th>beta</th>\n",
       "      <th>beta_se</th>\n",
       "      <th>pvalue</th>\n",
       "      <th>phenotype</th>\n",
       "      <th>fdr</th>\n",
       "    </tr>\n",
       "  </thead>\n",
       "  <tbody>\n",
       "    <tr>\n",
       "      <th>0</th>\n",
       "      <td>LV247</td>\n",
       "      <td>0.667501</td>\n",
       "      <td>0.126759</td>\n",
       "      <td>7.200244e-08</td>\n",
       "      <td>GWAS_COPD_only_GLM_SNPs_info0.7-</td>\n",
       "      <td>0.000107</td>\n",
       "    </tr>\n",
       "    <tr>\n",
       "      <th>1</th>\n",
       "      <td>LV300</td>\n",
       "      <td>0.620979</td>\n",
       "      <td>0.125634</td>\n",
       "      <td>3.948175e-07</td>\n",
       "      <td>GWAS_COPD_only_GLM_SNPs_info0.7-</td>\n",
       "      <td>0.000234</td>\n",
       "    </tr>\n",
       "    <tr>\n",
       "      <th>2</th>\n",
       "      <td>LV180</td>\n",
       "      <td>0.590544</td>\n",
       "      <td>0.126656</td>\n",
       "      <td>1.592848e-06</td>\n",
       "      <td>GWAS_COPD_only_GLM_SNPs_info0.7-</td>\n",
       "      <td>0.000619</td>\n",
       "    </tr>\n",
       "    <tr>\n",
       "      <th>3</th>\n",
       "      <td>LV696</td>\n",
       "      <td>0.497310</td>\n",
       "      <td>0.125236</td>\n",
       "      <td>3.617882e-05</td>\n",
       "      <td>GWAS_COPD_only_GLM_SNPs_info0.7-</td>\n",
       "      <td>0.008927</td>\n",
       "    </tr>\n",
       "    <tr>\n",
       "      <th>4</th>\n",
       "      <td>LV504</td>\n",
       "      <td>0.478885</td>\n",
       "      <td>0.126907</td>\n",
       "      <td>8.120896e-05</td>\n",
       "      <td>GWAS_COPD_only_GLM_SNPs_info0.7-</td>\n",
       "      <td>0.017176</td>\n",
       "    </tr>\n",
       "  </tbody>\n",
       "</table>\n",
       "</div>"
      ],
      "text/plain": [
       "      lv      beta   beta_se        pvalue                         phenotype  \\\n",
       "0  LV247  0.667501  0.126759  7.200244e-08  GWAS_COPD_only_GLM_SNPs_info0.7-   \n",
       "1  LV300  0.620979  0.125634  3.948175e-07  GWAS_COPD_only_GLM_SNPs_info0.7-   \n",
       "2  LV180  0.590544  0.126656  1.592848e-06  GWAS_COPD_only_GLM_SNPs_info0.7-   \n",
       "3  LV696  0.497310  0.125236  3.617882e-05  GWAS_COPD_only_GLM_SNPs_info0.7-   \n",
       "4  LV504  0.478885  0.126907  8.120896e-05  GWAS_COPD_only_GLM_SNPs_info0.7-   \n",
       "\n",
       "        fdr  \n",
       "0  0.000107  \n",
       "1  0.000234  \n",
       "2  0.000619  \n",
       "3  0.008927  \n",
       "4  0.017176  "
      ]
     },
     "execution_count": 31,
     "metadata": {},
     "output_type": "execute_result"
    }
   ],
   "source": [
    "dfs.head()"
   ]
  },
  {
   "cell_type": "code",
   "execution_count": 32,
   "id": "bc9910a0-35fb-409c-828f-b283d3d0d6d6",
   "metadata": {
    "execution": {
     "iopub.execute_input": "2022-12-15T20:50:17.888009Z",
     "iopub.status.busy": "2022-12-15T20:50:17.887579Z",
     "iopub.status.idle": "2022-12-15T20:50:17.893202Z",
     "shell.execute_reply": "2022-12-15T20:50:17.892630Z"
    },
    "papermill": {
     "duration": 0.013533,
     "end_time": "2022-12-15T20:50:17.894120",
     "exception": false,
     "start_time": "2022-12-15T20:50:17.880587",
     "status": "completed"
    },
    "tags": []
   },
   "outputs": [
    {
     "data": {
      "text/plain": [
       "Index          128\n",
       "lv           46882\n",
       "beta         23688\n",
       "beta_se      23688\n",
       "pvalue       23688\n",
       "phenotype     3093\n",
       "fdr          23688\n",
       "dtype: int64"
      ]
     },
     "execution_count": 32,
     "metadata": {},
     "output_type": "execute_result"
    }
   ],
   "source": [
    "dfs.memory_usage()"
   ]
  },
  {
   "cell_type": "markdown",
   "id": "3b38c985-e1e2-4f14-bc6b-ac23d0e8a87a",
   "metadata": {
    "papermill": {
     "duration": 0.006681,
     "end_time": "2022-12-15T20:50:17.907243",
     "exception": false,
     "start_time": "2022-12-15T20:50:17.900562",
     "status": "completed"
    },
    "tags": []
   },
   "source": [
    "# Save"
   ]
  },
  {
   "cell_type": "markdown",
   "id": "feacdd84-ca62-4e84-b2e9-e29faf713e8a",
   "metadata": {
    "papermill": {
     "duration": 0.006308,
     "end_time": "2022-12-15T20:50:17.919945",
     "exception": false,
     "start_time": "2022-12-15T20:50:17.913637",
     "status": "completed"
    },
    "tags": []
   },
   "source": [
    "## Pickle"
   ]
  },
  {
   "cell_type": "code",
   "execution_count": 33,
   "id": "34f2e127-317c-45c3-99ce-c5f539057153",
   "metadata": {
    "execution": {
     "iopub.execute_input": "2022-12-15T20:50:17.934148Z",
     "iopub.status.busy": "2022-12-15T20:50:17.933550Z",
     "iopub.status.idle": "2022-12-15T20:50:17.937947Z",
     "shell.execute_reply": "2022-12-15T20:50:17.937366Z"
    },
    "papermill": {
     "duration": 0.012673,
     "end_time": "2022-12-15T20:50:17.938832",
     "exception": false,
     "start_time": "2022-12-15T20:50:17.926159",
     "status": "completed"
    },
    "tags": []
   },
   "outputs": [
    {
     "data": {
      "text/plain": [
       "PosixPath('/opt/data/projects/asthma-copd/results/gls_phenoplier/gls-summary.pkl.gz')"
      ]
     },
     "metadata": {},
     "output_type": "display_data"
    }
   ],
   "source": [
    "output_file = OUTPUT_DIR / \"gls-summary.pkl.gz\"\n",
    "display(output_file)"
   ]
  },
  {
   "cell_type": "code",
   "execution_count": 34,
   "id": "0e32637a-d3fb-4833-93d3-7d680ee8bdbe",
   "metadata": {
    "execution": {
     "iopub.execute_input": "2022-12-15T20:50:17.953106Z",
     "iopub.status.busy": "2022-12-15T20:50:17.952699Z",
     "iopub.status.idle": "2022-12-15T20:50:17.962970Z",
     "shell.execute_reply": "2022-12-15T20:50:17.962316Z"
    },
    "papermill": {
     "duration": 0.018301,
     "end_time": "2022-12-15T20:50:17.963950",
     "exception": false,
     "start_time": "2022-12-15T20:50:17.945649",
     "status": "completed"
    },
    "tags": []
   },
   "outputs": [],
   "source": [
    "dfs.to_pickle(output_file)"
   ]
  },
  {
   "cell_type": "markdown",
   "id": "38c40f4d-8636-4742-8c85-3d7d9c017bd0",
   "metadata": {
    "papermill": {
     "duration": 0.006709,
     "end_time": "2022-12-15T20:50:17.977406",
     "exception": false,
     "start_time": "2022-12-15T20:50:17.970697",
     "status": "completed"
    },
    "tags": []
   },
   "source": [
    "## Text"
   ]
  },
  {
   "cell_type": "code",
   "execution_count": 35,
   "id": "20db7750-df38-463e-b446-f41ecb15ddb5",
   "metadata": {
    "execution": {
     "iopub.execute_input": "2022-12-15T20:50:17.991559Z",
     "iopub.status.busy": "2022-12-15T20:50:17.991133Z",
     "iopub.status.idle": "2022-12-15T20:50:17.995421Z",
     "shell.execute_reply": "2022-12-15T20:50:17.994843Z"
    },
    "papermill": {
     "duration": 0.012582,
     "end_time": "2022-12-15T20:50:17.996391",
     "exception": false,
     "start_time": "2022-12-15T20:50:17.983809",
     "status": "completed"
    },
    "tags": []
   },
   "outputs": [
    {
     "data": {
      "text/plain": [
       "PosixPath('/opt/data/projects/asthma-copd/results/gls_phenoplier/gls-summary.tsv.gz')"
      ]
     },
     "metadata": {},
     "output_type": "display_data"
    }
   ],
   "source": [
    "output_file = OUTPUT_DIR / \"gls-summary.tsv.gz\"\n",
    "display(output_file)"
   ]
  },
  {
   "cell_type": "code",
   "execution_count": 36,
   "id": "39eb3761-67d1-4b8e-a8ff-56d0392ca4d6",
   "metadata": {
    "execution": {
     "iopub.execute_input": "2022-12-15T20:50:18.011376Z",
     "iopub.status.busy": "2022-12-15T20:50:18.010877Z",
     "iopub.status.idle": "2022-12-15T20:50:18.081364Z",
     "shell.execute_reply": "2022-12-15T20:50:18.080691Z"
    },
    "papermill": {
     "duration": 0.079458,
     "end_time": "2022-12-15T20:50:18.082947",
     "exception": false,
     "start_time": "2022-12-15T20:50:18.003489",
     "status": "completed"
    },
    "tags": []
   },
   "outputs": [],
   "source": [
    "dfs.to_csv(output_file, sep=\"\\t\", index=False)"
   ]
  },
  {
   "cell_type": "code",
   "execution_count": null,
   "id": "9aff4c2e-cfc7-4313-b5b2-30e59ee5f12b",
   "metadata": {
    "papermill": {
     "duration": 0.006872,
     "end_time": "2022-12-15T20:50:18.097110",
     "exception": false,
     "start_time": "2022-12-15T20:50:18.090238",
     "status": "completed"
    },
    "tags": []
   },
   "outputs": [],
   "source": []
  }
 ],
 "metadata": {
  "jupytext": {
   "cell_metadata_filter": "all,-execution,-papermill,-trusted",
   "formats": "ipynb,py//py:percent"
  },
  "kernelspec": {
   "display_name": "Python 3 (ipykernel)",
   "language": "python",
   "name": "python3"
  },
  "language_info": {
   "codemirror_mode": {
    "name": "ipython",
    "version": 3
   },
   "file_extension": ".py",
   "mimetype": "text/x-python",
   "name": "python",
   "nbconvert_exporter": "python",
   "pygments_lexer": "ipython3",
   "version": "3.10.6"
  },
  "papermill": {
   "default_parameters": {},
   "duration": 3.044017,
   "end_time": "2022-12-15T20:50:18.420068",
   "environment_variables": {},
   "exception": null,
   "input_path": "projects/asthma-copd/nbs/30_gls_phenoplier/05-summarize.ipynb",
   "output_path": "projects/asthma-copd/nbs/30_gls_phenoplier/05-summarize.run.ipynb",
   "parameters": {
    "PHENOPLIER_NOTEBOOK_FILEPATH": "projects/asthma-copd/nbs/30_gls_phenoplier/05-summarize.ipynb"
   },
   "start_time": "2022-12-15T20:50:15.376051",
   "version": "2.2.2"
  },
  "toc-autonumbering": true
 },
 "nbformat": 4,
 "nbformat_minor": 5
}
