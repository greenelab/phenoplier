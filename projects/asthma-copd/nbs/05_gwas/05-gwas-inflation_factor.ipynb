{
 "cells": [
  {
   "cell_type": "markdown",
   "id": "0cfc647f-0ac4-43b1-b80b-1468c3223332",
   "metadata": {
    "papermill": {
     "duration": 0.006499,
     "end_time": "2022-11-23T21:22:14.543461",
     "exception": false,
     "start_time": "2022-11-23T21:22:14.536962",
     "status": "completed"
    },
    "tags": []
   },
   "source": [
    "# Description"
   ]
  },
  {
   "cell_type": "markdown",
   "id": "dd6ced0f-9243-46aa-a390-1868e1a24b39",
   "metadata": {
    "papermill": {
     "duration": 0.004832,
     "end_time": "2022-11-23T21:22:14.557661",
     "exception": false,
     "start_time": "2022-11-23T21:22:14.552829",
     "status": "completed"
    },
    "tags": []
   },
   "source": [
    "It runs PLINK2 on GWAS files to check that the genomic inflation factor is withint acceptable limits (around `1.0`)."
   ]
  },
  {
   "cell_type": "markdown",
   "id": "41d0fadb-850a-486a-822f-844e25e2df3c",
   "metadata": {
    "papermill": {
     "duration": 0.004767,
     "end_time": "2022-11-23T21:22:14.567292",
     "exception": false,
     "start_time": "2022-11-23T21:22:14.562525",
     "status": "completed"
    },
    "tags": []
   },
   "source": [
    "# Modules"
   ]
  },
  {
   "cell_type": "code",
   "execution_count": 1,
   "id": "51c7f21f-6578-4fed-bab7-5b7ec93aee12",
   "metadata": {
    "execution": {
     "iopub.execute_input": "2022-11-23T21:22:14.578635Z",
     "iopub.status.busy": "2022-11-23T21:22:14.577991Z",
     "iopub.status.idle": "2022-11-23T21:22:14.786946Z",
     "shell.execute_reply": "2022-11-23T21:22:14.786359Z"
    },
    "papermill": {
     "duration": 0.216321,
     "end_time": "2022-11-23T21:22:14.788483",
     "exception": false,
     "start_time": "2022-11-23T21:22:14.572162",
     "status": "completed"
    },
    "tags": []
   },
   "outputs": [],
   "source": [
    "import re\n",
    "import subprocess\n",
    "from pathlib import Path\n",
    "import tempfile\n",
    "import shutil\n",
    "from concurrent.futures import ProcessPoolExecutor, as_completed\n",
    "\n",
    "import numpy as np\n",
    "import pandas as pd\n",
    "\n",
    "import conf\n",
    "from utils import chunker"
   ]
  },
  {
   "cell_type": "markdown",
   "id": "87debc89-f58c-4f2f-9dca-9fb2ea8c9240",
   "metadata": {
    "papermill": {
     "duration": 0.009573,
     "end_time": "2022-11-23T21:22:14.803204",
     "exception": false,
     "start_time": "2022-11-23T21:22:14.793631",
     "status": "completed"
    },
    "tags": []
   },
   "source": [
    "# Paths"
   ]
  },
  {
   "cell_type": "code",
   "execution_count": 2,
   "id": "53e10c21-6544-4918-9bd4-4891a8215d93",
   "metadata": {
    "execution": {
     "iopub.execute_input": "2022-11-23T21:22:14.814754Z",
     "iopub.status.busy": "2022-11-23T21:22:14.814665Z",
     "iopub.status.idle": "2022-11-23T21:22:14.820841Z",
     "shell.execute_reply": "2022-11-23T21:22:14.820396Z"
    },
    "papermill": {
     "duration": 0.014085,
     "end_time": "2022-11-23T21:22:14.822673",
     "exception": false,
     "start_time": "2022-11-23T21:22:14.808588",
     "status": "completed"
    },
    "tags": []
   },
   "outputs": [
    {
     "data": {
      "text/plain": [
       "PosixPath('/opt/data/projects/asthma-copd/data/gwas')"
      ]
     },
     "metadata": {},
     "output_type": "display_data"
    }
   ],
   "source": [
    "INPUT_GWAS_DIR = conf.PROJECTS[\"ASTHMA_COPD\"][\"DATA_DIR\"] / \"gwas\"\n",
    "display(INPUT_GWAS_DIR)\n",
    "assert INPUT_GWAS_DIR.exists()"
   ]
  },
  {
   "cell_type": "code",
   "execution_count": 3,
   "id": "9586ae85-09a5-4568-b41f-beeb19538bf3",
   "metadata": {
    "execution": {
     "iopub.execute_input": "2022-11-23T21:22:14.833893Z",
     "iopub.status.busy": "2022-11-23T21:22:14.833811Z",
     "iopub.status.idle": "2022-11-23T21:22:14.837200Z",
     "shell.execute_reply": "2022-11-23T21:22:14.836658Z"
    },
    "papermill": {
     "duration": 0.010316,
     "end_time": "2022-11-23T21:22:14.838549",
     "exception": false,
     "start_time": "2022-11-23T21:22:14.828233",
     "status": "completed"
    },
    "tags": []
   },
   "outputs": [
    {
     "data": {
      "text/plain": [
       "PosixPath('/opt/data/software/plink/plink2')"
      ]
     },
     "metadata": {},
     "output_type": "display_data"
    }
   ],
   "source": [
    "PLINK2 = conf.PLINK[\"EXECUTABLE_VERSION_2\"]\n",
    "display(PLINK2)\n",
    "assert PLINK2.exists()"
   ]
  },
  {
   "cell_type": "markdown",
   "id": "026381fc-1e42-48f6-a098-46861bda2bd8",
   "metadata": {
    "papermill": {
     "duration": 0.004873,
     "end_time": "2022-11-23T21:22:14.848365",
     "exception": false,
     "start_time": "2022-11-23T21:22:14.843492",
     "status": "completed"
    },
    "tags": []
   },
   "source": [
    "# GWAS results files"
   ]
  },
  {
   "cell_type": "code",
   "execution_count": 4,
   "id": "d6517519-2bbd-49a4-8499-9a429935acfb",
   "metadata": {
    "execution": {
     "iopub.execute_input": "2022-11-23T21:22:14.860763Z",
     "iopub.status.busy": "2022-11-23T21:22:14.860279Z",
     "iopub.status.idle": "2022-11-23T21:22:14.865952Z",
     "shell.execute_reply": "2022-11-23T21:22:14.865394Z"
    },
    "papermill": {
     "duration": 0.013492,
     "end_time": "2022-11-23T21:22:14.867515",
     "exception": false,
     "start_time": "2022-11-23T21:22:14.854023",
     "status": "completed"
    },
    "tags": []
   },
   "outputs": [
    {
     "data": {
      "text/plain": [
       "3"
      ]
     },
     "metadata": {},
     "output_type": "display_data"
    },
    {
     "data": {
      "text/plain": [
       "[PosixPath('/opt/data/projects/asthma-copd/data/gwas/GWAS_ACO_GLM_SNPs_info0.7.txt'),\n",
       " PosixPath('/opt/data/projects/asthma-copd/data/gwas/GWAS_Asthma_only_GLM_SNPs_info0.7.txt'),\n",
       " PosixPath('/opt/data/projects/asthma-copd/data/gwas/GWAS_COPD_only_GLM_SNPs_info0.7.txt')]"
      ]
     },
     "metadata": {},
     "output_type": "display_data"
    }
   ],
   "source": [
    "gwas_files = sorted(list(INPUT_GWAS_DIR.glob(\"*_info0.7.txt\")))\n",
    "display(len(gwas_files))\n",
    "display(gwas_files[:10])"
   ]
  },
  {
   "cell_type": "markdown",
   "id": "ede5d5fc-3c7d-40c6-b21f-24624f503d88",
   "metadata": {
    "papermill": {
     "duration": 0.005217,
     "end_time": "2022-11-23T21:22:14.879479",
     "exception": false,
     "start_time": "2022-11-23T21:22:14.874262",
     "status": "completed"
    },
    "tags": []
   },
   "source": [
    "# Check inflation factor"
   ]
  },
  {
   "cell_type": "code",
   "execution_count": 5,
   "id": "d808fd2b-e71f-493e-848a-8b2c64636fa0",
   "metadata": {
    "execution": {
     "iopub.execute_input": "2022-11-23T21:22:14.891144Z",
     "iopub.status.busy": "2022-11-23T21:22:14.890646Z",
     "iopub.status.idle": "2022-11-23T21:22:14.893840Z",
     "shell.execute_reply": "2022-11-23T21:22:14.893302Z"
    },
    "papermill": {
     "duration": 0.010352,
     "end_time": "2022-11-23T21:22:14.895102",
     "exception": false,
     "start_time": "2022-11-23T21:22:14.884750",
     "status": "completed"
    },
    "tags": []
   },
   "outputs": [],
   "source": [
    "PAT = re.compile(\n",
    "    r\"Genomic inflation est\\. lambda \\(based on median chisq\\) = (?P<inf_factor>[0-9\\.]+)\\.\"\n",
    ")"
   ]
  },
  {
   "cell_type": "code",
   "execution_count": 6,
   "id": "7a89c1ab-d70c-4df6-8a37-d17dfe403375",
   "metadata": {
    "execution": {
     "iopub.execute_input": "2022-11-23T21:22:14.923306Z",
     "iopub.status.busy": "2022-11-23T21:22:14.922832Z",
     "iopub.status.idle": "2022-11-23T21:22:14.926574Z",
     "shell.execute_reply": "2022-11-23T21:22:14.926056Z"
    },
    "papermill": {
     "duration": 0.008144,
     "end_time": "2022-11-23T21:22:14.927570",
     "exception": false,
     "start_time": "2022-11-23T21:22:14.919426",
     "status": "completed"
    },
    "tags": []
   },
   "outputs": [],
   "source": [
    "# testing\n",
    "input_text = \"\"\"\n",
    "PLINK v2.00a3LM 64-bit Intel (26 Apr 2022)     www.cog-genomics.org/plink/2.0/\n",
    "(C) 2005-2022 Shaun Purcell, Christopher Chang   GNU General Public License v3\n",
    "Logging to plink2.log.\n",
    "Options in effect:\n",
    "  --adjust-file /opt/data/data/1000g/genotypes/gwas/random.pheno0.glm.linear test=ADD\n",
    "\n",
    "Start time: Fri Apr 29 16:12:24 2022\n",
    "64185 MiB RAM detected; reserving 32092 MiB for main workspace.\n",
    "Using up to 4 compute threads.\n",
    "--adjust: Genomic inflation est. lambda (based on median chisq) = 1.00316.\n",
    "--adjust-file values (5923554 tests) written to plink2.adjusted .\n",
    "End time: Fri Apr 29 16:12:33 2022\n",
    "\"\"\"\n",
    "\n",
    "m = PAT.search(input_text)\n",
    "assert m.group(\"inf_factor\") == \"1.00316\""
   ]
  },
  {
   "cell_type": "code",
   "execution_count": 7,
   "id": "f12e2b07-712c-48e0-b51d-0c8923967ba8",
   "metadata": {
    "execution": {
     "iopub.execute_input": "2022-11-23T21:22:14.934413Z",
     "iopub.status.busy": "2022-11-23T21:22:14.933991Z",
     "iopub.status.idle": "2022-11-23T21:22:14.938833Z",
     "shell.execute_reply": "2022-11-23T21:22:14.938310Z"
    },
    "papermill": {
     "duration": 0.009888,
     "end_time": "2022-11-23T21:22:14.940218",
     "exception": false,
     "start_time": "2022-11-23T21:22:14.930330",
     "status": "completed"
    },
    "tags": []
   },
   "outputs": [
    {
     "data": {
      "text/plain": [
       "'1'"
      ]
     },
     "metadata": {},
     "output_type": "display_data"
    }
   ],
   "source": [
    "# testing\n",
    "input_text = \"\"\"\n",
    "PLINK v2.00a3LM 64-bit Intel (26 Apr 2022)     www.cog-genomics.org/plink/2.0/\n",
    "(C) 2005-2022 Shaun Purcell, Christopher Chang   GNU General Public License v3\n",
    "Logging to plink2.log.\n",
    "Options in effect:\n",
    "  --adjust-file base/data/1000g/genotypes/gwas/random.pheno1.glm.linear test=ADD\n",
    "\n",
    "Start time: Fri Apr 29 12:19:51 2022\n",
    "64185 MiB RAM detected; reserving 32092 MiB for main workspace.\n",
    "Using up to 4 compute threads.\n",
    "--adjust: Genomic inflation est. lambda (based on median chisq) = 1.\n",
    "--adjust-file values (5923554 tests) written to plink2.adjusted .\n",
    "End time: Fri Apr 29 12:19:59 2022\n",
    "\"\"\"\n",
    "\n",
    "m = PAT.search(input_text)\n",
    "display(m.group(\"inf_factor\"))\n",
    "assert m.group(\"inf_factor\") == \"1\""
   ]
  },
  {
   "cell_type": "code",
   "execution_count": 8,
   "id": "71014ff7-11cd-4167-a5af-c07256f7ff84",
   "metadata": {
    "execution": {
     "iopub.execute_input": "2022-11-23T21:22:14.947334Z",
     "iopub.status.busy": "2022-11-23T21:22:14.946918Z",
     "iopub.status.idle": "2022-11-23T21:22:14.952467Z",
     "shell.execute_reply": "2022-11-23T21:22:14.951955Z"
    },
    "papermill": {
     "duration": 0.00996,
     "end_time": "2022-11-23T21:22:14.953282",
     "exception": false,
     "start_time": "2022-11-23T21:22:14.943322",
     "status": "completed"
    },
    "tags": []
   },
   "outputs": [],
   "source": [
    "def _compute_inflation_factor(gwas_files_group):\n",
    "    res = {}\n",
    "    for gwas_file in gwas_files_group:\n",
    "        output_dir = Path(tempfile.mkdtemp(prefix=\"plink-adjust-\"))\n",
    "        output_file = output_dir / \"outfile\"\n",
    "        result = subprocess.run(\n",
    "            [\n",
    "                PLINK2,\n",
    "                \"--adjust-file\",\n",
    "                str(gwas_file),\n",
    "                \"test=ADD\",\n",
    "                \"--threads\",\n",
    "                str(conf.GENERAL[\"N_JOBS\"]),\n",
    "                \"--out\",\n",
    "                str(output_file),\n",
    "            ],\n",
    "            stdout=subprocess.PIPE,\n",
    "        )\n",
    "\n",
    "        assert result.returncode == 0\n",
    "\n",
    "        result_output = result.stdout.decode(\"utf-8\")\n",
    "        inf_factor = float(PAT.search(result_output).group(\"inf_factor\"))\n",
    "        res[gwas_file.name] = inf_factor\n",
    "\n",
    "        # delete temporary folder\n",
    "        shutil.rmtree(output_dir)\n",
    "\n",
    "    return res"
   ]
  },
  {
   "cell_type": "code",
   "execution_count": 9,
   "id": "b203ea4e-6930-4f7a-98ed-11830bd32f07",
   "metadata": {
    "execution": {
     "iopub.execute_input": "2022-11-23T21:22:14.959645Z",
     "iopub.status.busy": "2022-11-23T21:22:14.959313Z",
     "iopub.status.idle": "2022-11-23T21:22:14.962422Z",
     "shell.execute_reply": "2022-11-23T21:22:14.961971Z"
    },
    "papermill": {
     "duration": 0.007183,
     "end_time": "2022-11-23T21:22:14.963233",
     "exception": false,
     "start_time": "2022-11-23T21:22:14.956050",
     "status": "completed"
    },
    "tags": []
   },
   "outputs": [],
   "source": [
    "gwas_files_chunks = list(\n",
    "    chunker(\n",
    "        gwas_files,\n",
    "        int(min(10, max(len(gwas_files) / conf.GENERAL[\"N_JOBS\"], 1))),\n",
    "    )\n",
    ")"
   ]
  },
  {
   "cell_type": "code",
   "execution_count": 10,
   "id": "781867e0-8be1-48ba-a176-19d60449f4b1",
   "metadata": {
    "execution": {
     "iopub.execute_input": "2022-11-23T21:22:14.969996Z",
     "iopub.status.busy": "2022-11-23T21:22:14.969658Z",
     "iopub.status.idle": "2022-11-23T21:22:14.973567Z",
     "shell.execute_reply": "2022-11-23T21:22:14.973125Z"
    },
    "papermill": {
     "duration": 0.008018,
     "end_time": "2022-11-23T21:22:14.974382",
     "exception": false,
     "start_time": "2022-11-23T21:22:14.966364",
     "status": "completed"
    },
    "tags": []
   },
   "outputs": [
    {
     "data": {
      "text/plain": [
       "3"
      ]
     },
     "execution_count": 10,
     "metadata": {},
     "output_type": "execute_result"
    }
   ],
   "source": [
    "len(gwas_files_chunks)"
   ]
  },
  {
   "cell_type": "code",
   "execution_count": 11,
   "id": "6290a832-c114-408f-ba86-934afdfae71b",
   "metadata": {
    "execution": {
     "iopub.execute_input": "2022-11-23T21:22:14.980901Z",
     "iopub.status.busy": "2022-11-23T21:22:14.980495Z",
     "iopub.status.idle": "2022-11-23T21:22:23.961324Z",
     "shell.execute_reply": "2022-11-23T21:22:23.960677Z"
    },
    "papermill": {
     "duration": 8.985944,
     "end_time": "2022-11-23T21:22:23.963154",
     "exception": false,
     "start_time": "2022-11-23T21:22:14.977210",
     "status": "completed"
    },
    "tags": []
   },
   "outputs": [],
   "source": [
    "all_results = {}\n",
    "\n",
    "with ProcessPoolExecutor(max_workers=conf.GENERAL[\"N_JOBS\"]) as executor:\n",
    "    tasks = [\n",
    "        executor.submit(_compute_inflation_factor, chunk) for chunk in gwas_files_chunks\n",
    "    ]\n",
    "    for future in as_completed(tasks):\n",
    "        res = future.result()\n",
    "        all_results.update(res)"
   ]
  },
  {
   "cell_type": "code",
   "execution_count": 12,
   "id": "4bd2773c-e8e2-4ba0-9d85-3d3bc1a8465b",
   "metadata": {
    "execution": {
     "iopub.execute_input": "2022-11-23T21:22:23.975961Z",
     "iopub.status.busy": "2022-11-23T21:22:23.975789Z",
     "iopub.status.idle": "2022-11-23T21:22:23.979064Z",
     "shell.execute_reply": "2022-11-23T21:22:23.978608Z"
    },
    "papermill": {
     "duration": 0.011304,
     "end_time": "2022-11-23T21:22:23.980409",
     "exception": false,
     "start_time": "2022-11-23T21:22:23.969105",
     "status": "completed"
    },
    "tags": []
   },
   "outputs": [],
   "source": [
    "assert len(all_results) == len(gwas_files)"
   ]
  },
  {
   "cell_type": "markdown",
   "id": "1e6e8c3b-0f42-4af0-95c5-2522db481682",
   "metadata": {
    "papermill": {
     "duration": 0.006103,
     "end_time": "2022-11-23T21:22:23.992240",
     "exception": false,
     "start_time": "2022-11-23T21:22:23.986137",
     "status": "completed"
    },
    "tags": []
   },
   "source": [
    "# Create dataframe"
   ]
  },
  {
   "cell_type": "code",
   "execution_count": 13,
   "id": "e39ffd98-bcfd-4bc4-901d-1ed3837d092c",
   "metadata": {
    "execution": {
     "iopub.execute_input": "2022-11-23T21:22:24.004160Z",
     "iopub.status.busy": "2022-11-23T21:22:24.004004Z",
     "iopub.status.idle": "2022-11-23T21:22:24.008140Z",
     "shell.execute_reply": "2022-11-23T21:22:24.007670Z"
    },
    "papermill": {
     "duration": 0.011909,
     "end_time": "2022-11-23T21:22:24.009607",
     "exception": false,
     "start_time": "2022-11-23T21:22:23.997698",
     "status": "completed"
    },
    "tags": []
   },
   "outputs": [],
   "source": [
    "all_results_df = pd.Series(all_results, name=\"inflation_factor\").rename_axis(\n",
    "    \"phenotype_code\"\n",
    ")"
   ]
  },
  {
   "cell_type": "code",
   "execution_count": 14,
   "id": "4220f35a-be09-4792-86f2-3dab78ec5478",
   "metadata": {
    "execution": {
     "iopub.execute_input": "2022-11-23T21:22:24.023123Z",
     "iopub.status.busy": "2022-11-23T21:22:24.022761Z",
     "iopub.status.idle": "2022-11-23T21:22:24.026553Z",
     "shell.execute_reply": "2022-11-23T21:22:24.026105Z"
    },
    "papermill": {
     "duration": 0.012225,
     "end_time": "2022-11-23T21:22:24.027920",
     "exception": false,
     "start_time": "2022-11-23T21:22:24.015695",
     "status": "completed"
    },
    "tags": []
   },
   "outputs": [
    {
     "data": {
      "text/plain": [
       "(3,)"
      ]
     },
     "execution_count": 14,
     "metadata": {},
     "output_type": "execute_result"
    }
   ],
   "source": [
    "all_results_df.shape"
   ]
  },
  {
   "cell_type": "code",
   "execution_count": 15,
   "id": "209dd76c-ae3c-4742-8f96-797ef569ec43",
   "metadata": {
    "execution": {
     "iopub.execute_input": "2022-11-23T21:22:24.039558Z",
     "iopub.status.busy": "2022-11-23T21:22:24.039196Z",
     "iopub.status.idle": "2022-11-23T21:22:24.044408Z",
     "shell.execute_reply": "2022-11-23T21:22:24.043955Z"
    },
    "papermill": {
     "duration": 0.012715,
     "end_time": "2022-11-23T21:22:24.045894",
     "exception": false,
     "start_time": "2022-11-23T21:22:24.033179",
     "status": "completed"
    },
    "tags": []
   },
   "outputs": [
    {
     "data": {
      "text/plain": [
       "phenotype_code\n",
       "GWAS_ACO_GLM_SNPs_info0.7.txt            1.12746\n",
       "GWAS_Asthma_only_GLM_SNPs_info0.7.txt    1.10134\n",
       "GWAS_COPD_only_GLM_SNPs_info0.7.txt      1.13074\n",
       "Name: inflation_factor, dtype: float64"
      ]
     },
     "execution_count": 15,
     "metadata": {},
     "output_type": "execute_result"
    }
   ],
   "source": [
    "all_results_df.head()"
   ]
  },
  {
   "cell_type": "markdown",
   "id": "ef8c1077-67b4-4a68-9856-17ebc6c6b2ae",
   "metadata": {
    "papermill": {
     "duration": 0.006395,
     "end_time": "2022-11-23T21:22:24.059550",
     "exception": false,
     "start_time": "2022-11-23T21:22:24.053155",
     "status": "completed"
    },
    "tags": []
   },
   "source": [
    "# Checks"
   ]
  },
  {
   "cell_type": "code",
   "execution_count": 16,
   "id": "bf2ce932-98c2-4aca-8198-2c07bab3ff6a",
   "metadata": {
    "execution": {
     "iopub.execute_input": "2022-11-23T21:22:24.071925Z",
     "iopub.status.busy": "2022-11-23T21:22:24.071771Z",
     "iopub.status.idle": "2022-11-23T21:22:24.078642Z",
     "shell.execute_reply": "2022-11-23T21:22:24.078195Z"
    },
    "papermill": {
     "duration": 0.013618,
     "end_time": "2022-11-23T21:22:24.079454",
     "exception": false,
     "start_time": "2022-11-23T21:22:24.065836",
     "status": "completed"
    },
    "tags": []
   },
   "outputs": [
    {
     "data": {
      "text/plain": [
       "count    3.000000\n",
       "mean     1.119847\n",
       "std      0.016111\n",
       "min      1.101340\n",
       "25%      1.114400\n",
       "50%      1.127460\n",
       "75%      1.129100\n",
       "max      1.130740\n",
       "Name: inflation_factor, dtype: float64"
      ]
     },
     "execution_count": 16,
     "metadata": {},
     "output_type": "execute_result"
    }
   ],
   "source": [
    "all_results_df.describe()"
   ]
  },
  {
   "cell_type": "code",
   "execution_count": 17,
   "id": "30b016e6-081f-40b1-9d60-426009d10191",
   "metadata": {
    "execution": {
     "iopub.execute_input": "2022-11-23T21:22:24.086171Z",
     "iopub.status.busy": "2022-11-23T21:22:24.086021Z",
     "iopub.status.idle": "2022-11-23T21:22:24.089038Z",
     "shell.execute_reply": "2022-11-23T21:22:24.088580Z"
    },
    "papermill": {
     "duration": 0.007384,
     "end_time": "2022-11-23T21:22:24.089853",
     "exception": false,
     "start_time": "2022-11-23T21:22:24.082469",
     "status": "completed"
    },
    "tags": []
   },
   "outputs": [],
   "source": [
    "assert all_results_df.min() >= 1.10\n",
    "assert all_results_df.max() <= 1.14"
   ]
  },
  {
   "cell_type": "code",
   "execution_count": 18,
   "id": "46db0556-1e81-4330-9cbd-0b233aa49099",
   "metadata": {
    "execution": {
     "iopub.execute_input": "2022-11-23T21:22:24.097647Z",
     "iopub.status.busy": "2022-11-23T21:22:24.097300Z",
     "iopub.status.idle": "2022-11-23T21:22:24.102235Z",
     "shell.execute_reply": "2022-11-23T21:22:24.101783Z"
    },
    "papermill": {
     "duration": 0.01006,
     "end_time": "2022-11-23T21:22:24.103039",
     "exception": false,
     "start_time": "2022-11-23T21:22:24.092979",
     "status": "completed"
    },
    "tags": []
   },
   "outputs": [
    {
     "data": {
      "text/plain": [
       "phenotype_code\n",
       "GWAS_COPD_only_GLM_SNPs_info0.7.txt      1.13074\n",
       "GWAS_ACO_GLM_SNPs_info0.7.txt            1.12746\n",
       "GWAS_Asthma_only_GLM_SNPs_info0.7.txt    1.10134\n",
       "Name: inflation_factor, dtype: float64"
      ]
     },
     "execution_count": 18,
     "metadata": {},
     "output_type": "execute_result"
    }
   ],
   "source": [
    "all_results_df.sort_values(ascending=False).head(20)"
   ]
  },
  {
   "cell_type": "code",
   "execution_count": null,
   "id": "a0988b12-f554-4e5d-a6aa-f1b6d67e3225",
   "metadata": {
    "papermill": {
     "duration": 0.002887,
     "end_time": "2022-11-23T21:22:24.108881",
     "exception": false,
     "start_time": "2022-11-23T21:22:24.105994",
     "status": "completed"
    },
    "tags": []
   },
   "outputs": [],
   "source": []
  }
 ],
 "metadata": {
  "jupytext": {
   "cell_metadata_filter": "all,-execution,-papermill,-trusted"
  },
  "kernelspec": {
   "display_name": "Python 3 (ipykernel)",
   "language": "python",
   "name": "python3"
  },
  "language_info": {
   "codemirror_mode": {
    "name": "ipython",
    "version": 3
   },
   "file_extension": ".py",
   "mimetype": "text/x-python",
   "name": "python",
   "nbconvert_exporter": "python",
   "pygments_lexer": "ipython3",
   "version": "3.10.6"
  },
  "papermill": {
   "default_parameters": {},
   "duration": 10.651653,
   "end_time": "2022-11-23T21:22:24.327627",
   "environment_variables": {},
   "exception": null,
   "input_path": "projects/asthma-copd/nbs/05_gwas/05-gwas-inflation_factor.ipynb",
   "output_path": "projects/asthma-copd/nbs/05_gwas/05-gwas-inflation_factor.run.ipynb",
   "parameters": {},
   "start_time": "2022-11-23T21:22:13.675974",
   "version": "2.3.4"
  }
 },
 "nbformat": 4,
 "nbformat_minor": 5
}
