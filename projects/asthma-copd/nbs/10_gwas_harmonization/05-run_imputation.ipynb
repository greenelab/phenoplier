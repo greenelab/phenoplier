{
 "cells": [
  {
   "cell_type": "markdown",
   "id": "c935aa7e-fde1-4d1c-b2d7-8c7ee611b1ed",
   "metadata": {
    "papermill": {
     "duration": 0.003441,
     "end_time": "2022-12-14T21:34:49.339874",
     "exception": false,
     "start_time": "2022-12-14T21:34:49.336433",
     "status": "completed"
    },
    "tags": []
   },
   "source": [
    "# Description"
   ]
  },
  {
   "cell_type": "markdown",
   "id": "f66770f7-0585-480b-8daa-1483bc37b494",
   "metadata": {
    "papermill": {
     "duration": 0.002789,
     "end_time": "2022-12-14T21:34:49.353114",
     "exception": false,
     "start_time": "2022-12-14T21:34:49.350325",
     "status": "completed"
    },
    "tags": []
   },
   "source": [
    "It runs the GWAS imputation step from the script in: https://github.com/hakyimlab/summary-gwas-imputation"
   ]
  },
  {
   "cell_type": "markdown",
   "id": "d389dd7b-20d8-44ed-8053-6e2cd8efea2e",
   "metadata": {
    "papermill": {
     "duration": 0.00267,
     "end_time": "2022-12-14T21:34:49.358572",
     "exception": false,
     "start_time": "2022-12-14T21:34:49.355902",
     "status": "completed"
    },
    "tags": []
   },
   "source": [
    "# Modules"
   ]
  },
  {
   "cell_type": "code",
   "execution_count": 1,
   "id": "69797656-0db2-41d5-b4d6-63c24d47ad38",
   "metadata": {
    "execution": {
     "iopub.execute_input": "2022-12-14T21:34:49.365290Z",
     "iopub.status.busy": "2022-12-14T21:34:49.365001Z",
     "iopub.status.idle": "2022-12-14T21:34:49.400149Z",
     "shell.execute_reply": "2022-12-14T21:34:49.399504Z"
    },
    "papermill": {
     "duration": 0.040589,
     "end_time": "2022-12-14T21:34:49.401908",
     "exception": false,
     "start_time": "2022-12-14T21:34:49.361319",
     "status": "completed"
    },
    "tags": []
   },
   "outputs": [],
   "source": [
    "import os\n",
    "from glob import glob\n",
    "from pathlib import Path\n",
    "\n",
    "from utils import read_log_file_and_check_line_exists\n",
    "import conf"
   ]
  },
  {
   "cell_type": "markdown",
   "id": "dd17aa24-a692-4f62-ac69-c270447c7729",
   "metadata": {
    "papermill": {
     "duration": 0.002769,
     "end_time": "2022-12-14T21:34:49.407906",
     "exception": false,
     "start_time": "2022-12-14T21:34:49.405137",
     "status": "completed"
    },
    "tags": []
   },
   "source": [
    "# Settings"
   ]
  },
  {
   "cell_type": "markdown",
   "id": "3829ee6c-68b6-445e-adce-aa7a6280a56c",
   "metadata": {
    "papermill": {
     "duration": 0.002733,
     "end_time": "2022-12-14T21:34:49.413438",
     "exception": false,
     "start_time": "2022-12-14T21:34:49.410705",
     "status": "completed"
    },
    "tags": []
   },
   "source": [
    "Apparently, there is no easy way to get the parent directory of\n",
    "a notebook in Jupyter, so here I get that information either from\n",
    "the parameter sent by `nbs/run_nbs.sh` (if called from command-line) or\n",
    "from `os.getcwd()` (if called from browser)."
   ]
  },
  {
   "cell_type": "code",
   "execution_count": 2,
   "id": "e8f8093f-7738-448a-b29d-e9059684fcd1",
   "metadata": {
    "execution": {
     "iopub.execute_input": "2022-12-14T21:34:49.420203Z",
     "iopub.status.busy": "2022-12-14T21:34:49.419923Z",
     "iopub.status.idle": "2022-12-14T21:34:49.423021Z",
     "shell.execute_reply": "2022-12-14T21:34:49.422504Z"
    },
    "papermill": {
     "duration": 0.008035,
     "end_time": "2022-12-14T21:34:49.424403",
     "exception": false,
     "start_time": "2022-12-14T21:34:49.416368",
     "status": "completed"
    },
    "tags": [
     "parameters"
    ]
   },
   "outputs": [],
   "source": [
    "PHENOPLIER_NOTEBOOK_FILEPATH = None\n",
    "PHENOPLIER_NOTEBOOK_DIR = os.getcwd()"
   ]
  },
  {
   "cell_type": "code",
   "execution_count": 3,
   "id": "265571a7",
   "metadata": {
    "execution": {
     "iopub.execute_input": "2022-12-14T21:34:49.432217Z",
     "iopub.status.busy": "2022-12-14T21:34:49.431869Z",
     "iopub.status.idle": "2022-12-14T21:34:49.434745Z",
     "shell.execute_reply": "2022-12-14T21:34:49.434230Z"
    },
    "lines_to_next_cell": 2,
    "papermill": {
     "duration": 0.008742,
     "end_time": "2022-12-14T21:34:49.436132",
     "exception": false,
     "start_time": "2022-12-14T21:34:49.427390",
     "status": "completed"
    },
    "tags": [
     "injected-parameters"
    ]
   },
   "outputs": [],
   "source": [
    "# Parameters\n",
    "PHENOPLIER_NOTEBOOK_FILEPATH = (\n",
    "    \"projects/asthma-copd/nbs/10_gwas_harmonization/05-run_imputation.ipynb\"\n",
    ")"
   ]
  },
  {
   "cell_type": "code",
   "execution_count": 4,
   "id": "80437810-fd28-40ba-8dab-f60424764bfd",
   "metadata": {
    "execution": {
     "iopub.execute_input": "2022-12-14T21:34:49.443410Z",
     "iopub.status.busy": "2022-12-14T21:34:49.442977Z",
     "iopub.status.idle": "2022-12-14T21:34:49.452500Z",
     "shell.execute_reply": "2022-12-14T21:34:49.451941Z"
    },
    "papermill": {
     "duration": 0.014568,
     "end_time": "2022-12-14T21:34:49.453887",
     "exception": false,
     "start_time": "2022-12-14T21:34:49.439319",
     "status": "completed"
    },
    "tags": []
   },
   "outputs": [
    {
     "data": {
      "text/plain": [
       "'projects/asthma-copd/nbs/10_gwas_harmonization'"
      ]
     },
     "metadata": {},
     "output_type": "display_data"
    }
   ],
   "source": [
    "if PHENOPLIER_NOTEBOOK_FILEPATH is not None:\n",
    "    PHENOPLIER_NOTEBOOK_DIR = str(Path(PHENOPLIER_NOTEBOOK_FILEPATH).parent)\n",
    "\n",
    "display(PHENOPLIER_NOTEBOOK_DIR)"
   ]
  },
  {
   "cell_type": "code",
   "execution_count": 5,
   "id": "7614a44c-cbef-48f5-a011-0876875d20eb",
   "metadata": {
    "execution": {
     "iopub.execute_input": "2022-12-14T21:34:49.460889Z",
     "iopub.status.busy": "2022-12-14T21:34:49.460563Z",
     "iopub.status.idle": "2022-12-14T21:34:49.465688Z",
     "shell.execute_reply": "2022-12-14T21:34:49.465172Z"
    },
    "papermill": {
     "duration": 0.01004,
     "end_time": "2022-12-14T21:34:49.466990",
     "exception": false,
     "start_time": "2022-12-14T21:34:49.456950",
     "status": "completed"
    },
    "tags": []
   },
   "outputs": [
    {
     "data": {
      "text/plain": [
       "PosixPath('/opt/data/projects/asthma-copd/results/imputed_gwas')"
      ]
     },
     "metadata": {},
     "output_type": "display_data"
    },
    {
     "data": {
      "text/plain": [
       "'/opt/data/projects/asthma-copd/results/imputed_gwas'"
      ]
     },
     "metadata": {},
     "output_type": "display_data"
    }
   ],
   "source": [
    "OUTPUT_DIR = conf.PROJECTS[\"ASTHMA_COPD\"][\"RESULTS_DIR\"] / \"imputed_gwas\"\n",
    "display(OUTPUT_DIR)\n",
    "\n",
    "OUTPUT_DIR_STR = str(OUTPUT_DIR)\n",
    "display(OUTPUT_DIR_STR)"
   ]
  },
  {
   "cell_type": "markdown",
   "id": "3a558eec-2251-4be7-a754-1f98adde3aec",
   "metadata": {
    "papermill": {
     "duration": 0.003257,
     "end_time": "2022-12-14T21:34:49.473733",
     "exception": false,
     "start_time": "2022-12-14T21:34:49.470476",
     "status": "completed"
    },
    "tags": []
   },
   "source": [
    "# Run"
   ]
  },
  {
   "cell_type": "code",
   "execution_count": 6,
   "id": "0c0cd3d9-b032-4f03-82eb-0017a0ef1cca",
   "metadata": {
    "execution": {
     "iopub.execute_input": "2022-12-14T21:34:49.481723Z",
     "iopub.status.busy": "2022-12-14T21:34:49.481352Z",
     "iopub.status.idle": "2022-12-15T05:17:44.324816Z",
     "shell.execute_reply": "2022-12-15T05:17:44.324151Z"
    },
    "papermill": {
     "duration": 27774.976429,
     "end_time": "2022-12-15T05:17:44.453386",
     "exception": false,
     "start_time": "2022-12-14T21:34:49.476957",
     "status": "completed"
    },
    "tags": []
   },
   "outputs": [
    {
     "name": "stdout",
     "output_type": "stream",
     "text": [
      "Running for asthma_only, 1, 0\n",
      "Saving results in /opt/data/projects/asthma-copd/results/imputed_gwas\n"
     ]
    },
    {
     "name": "stderr",
     "output_type": "stream",
     "text": [
      "+ /opt/data/software/conda_envs/summary_gwas_imputation/bin/python /opt/data/software/summary-gwas-imputation/src/gwas_summary_imputation.py -by_region_file /opt/data/data/eur_ld.bed.gz -gwas_file /opt/data/projects/asthma-copd/results/harmonized_gwas/GWAS_Asthma_only_GLM_SNPs_info0.7-harmonized.txt -parquet_genotype /opt/data/data/phenomexcan/ld_blocks/reference_panel_1000G/chr1.variants.parquet -parquet_genotype_metadata /opt/data/data/phenomexcan/ld_blocks/reference_panel_1000G/variant_metadata.parquet -window 100000 -parsimony 7 -chromosome 1 -regularization 0.1 -frequency_filter 0.01 -sub_batches 10 -sub_batch 0 --standardise_dosages -output /opt/data/projects/asthma-copd/results/imputed_gwas/GWAS_Asthma_only_GLM_SNPs_info0.7-harmonized-imputed-chr1-batch0_10.txt\n"
     ]
    },
    {
     "name": "stdout",
     "output_type": "stream",
     "text": [
      "/opt/data/software/conda_envs/summary_gwas_imputation/lib/python3.7/site-packages/pyarrow/pandas_compat.py:752: FutureWarning: .labels was deprecated in version 0.24.0. Use .codes instead.\n",
      "\n"
     ]
    },
    {
     "name": "stderr",
     "output_type": "stream",
     "text": [
      "+ set +x\n"
     ]
    },
    {
     "name": "stdout",
     "output_type": "stream",
     "text": [
      "Running for asthma_only, 1, 1\n",
      "Saving results in /opt/data/projects/asthma-copd/results/imputed_gwas\n",
      "/opt/data/software/conda_envs/summary_gwas_imputation/lib/python3.7/site-packages/pyarrow/pandas_compat.py:752: FutureWarning: .labels was deprecated in version 0.24.0. Use .codes instead.\n",
      "INFO - Error for region (1,34334157.0,37083582.0): LinAlgError('SVD did not converge')\n",
      "\n"
     ]
    },
    {
     "name": "stderr",
     "output_type": "stream",
     "text": [
      "+ /opt/data/software/conda_envs/summary_gwas_imputation/bin/python /opt/data/software/summary-gwas-imputation/src/gwas_summary_imputation.py -by_region_file /opt/data/data/eur_ld.bed.gz -gwas_file /opt/data/projects/asthma-copd/results/harmonized_gwas/GWAS_Asthma_only_GLM_SNPs_info0.7-harmonized.txt -parquet_genotype /opt/data/data/phenomexcan/ld_blocks/reference_panel_1000G/chr1.variants.parquet -parquet_genotype_metadata /opt/data/data/phenomexcan/ld_blocks/reference_panel_1000G/variant_metadata.parquet -window 100000 -parsimony 7 -chromosome 1 -regularization 0.1 -frequency_filter 0.01 -sub_batches 10 -sub_batch 1 --standardise_dosages -output /opt/data/projects/asthma-copd/results/imputed_gwas/GWAS_Asthma_only_GLM_SNPs_info0.7-harmonized-imputed-chr1-batch1_10.txt\n",
      "+ set +x\n"
     ]
    },
    {
     "name": "stdout",
     "output_type": "stream",
     "text": [
      "Running for asthma_only, 1, 2\n",
      "Saving results in /opt/data/projects/asthma-copd/results/imputed_gwas\n",
      "/opt/data/software/conda_envs/summary_gwas_imputation/lib/python3.7/site-packages/pyarrow/pandas_compat.py:752: FutureWarning: .labels was deprecated in version 0.24.0. Use .codes instead.\n",
      "\n",
      "Running for asthma_only, 1, 3\n",
      "Saving results in /opt/data/projects/asthma-copd/results/imputed_gwas\n"
     ]
    },
    {
     "name": "stderr",
     "output_type": "stream",
     "text": [
      "+ /opt/data/software/conda_envs/summary_gwas_imputation/bin/python /opt/data/software/summary-gwas-imputation/src/gwas_summary_imputation.py -by_region_file /opt/data/data/eur_ld.bed.gz -gwas_file /opt/data/projects/asthma-copd/results/harmonized_gwas/GWAS_Asthma_only_GLM_SNPs_info0.7-harmonized.txt -parquet_genotype /opt/data/data/phenomexcan/ld_blocks/reference_panel_1000G/chr1.variants.parquet -parquet_genotype_metadata /opt/data/data/phenomexcan/ld_blocks/reference_panel_1000G/variant_metadata.parquet -window 100000 -parsimony 7 -chromosome 1 -regularization 0.1 -frequency_filter 0.01 -sub_batches 10 -sub_batch 2 --standardise_dosages -output /opt/data/projects/asthma-copd/results/imputed_gwas/GWAS_Asthma_only_GLM_SNPs_info0.7-harmonized-imputed-chr1-batch2_10.txt\n",
      "+ set +x\n",
      "+ /opt/data/software/conda_envs/summary_gwas_imputation/bin/python /opt/data/software/summary-gwas-imputation/src/gwas_summary_imputation.py -by_region_file /opt/data/data/eur_ld.bed.gz -gwas_file /opt/data/projects/asthma-copd/results/harmonized_gwas/GWAS_Asthma_only_GLM_SNPs_info0.7-harmonized.txt -parquet_genotype /opt/data/data/phenomexcan/ld_blocks/reference_panel_1000G/chr1.variants.parquet -parquet_genotype_metadata /opt/data/data/phenomexcan/ld_blocks/reference_panel_1000G/variant_metadata.parquet -window 100000 -parsimony 7 -chromosome 1 -regularization 0.1 -frequency_filter 0.01 -sub_batches 10 -sub_batch 3 --standardise_dosages -output /opt/data/projects/asthma-copd/results/imputed_gwas/GWAS_Asthma_only_GLM_SNPs_info0.7-harmonized-imputed-chr1-batch3_10.txt\n"
     ]
    },
    {
     "name": "stdout",
     "output_type": "stream",
     "text": [
      "/opt/data/software/conda_envs/summary_gwas_imputation/lib/python3.7/site-packages/pyarrow/pandas_compat.py:752: FutureWarning: .labels was deprecated in version 0.24.0. Use .codes instead.\n",
      "\n"
     ]
    },
    {
     "name": "stderr",
     "output_type": "stream",
     "text": [
      "+ set +x\n"
     ]
    },
    {
     "name": "stdout",
     "output_type": "stream",
     "text": [
      "Running for asthma_only, 1, 4\n",
      "Saving results in /opt/data/projects/asthma-copd/results/imputed_gwas\n",
      "/opt/data/software/conda_envs/summary_gwas_imputation/lib/python3.7/site-packages/pyarrow/pandas_compat.py:752: FutureWarning: .labels was deprecated in version 0.24.0. Use .codes instead.\n",
      "\n"
     ]
    },
    {
     "name": "stderr",
     "output_type": "stream",
     "text": [
      "+ /opt/data/software/conda_envs/summary_gwas_imputation/bin/python /opt/data/software/summary-gwas-imputation/src/gwas_summary_imputation.py -by_region_file /opt/data/data/eur_ld.bed.gz -gwas_file /opt/data/projects/asthma-copd/results/harmonized_gwas/GWAS_Asthma_only_GLM_SNPs_info0.7-harmonized.txt -parquet_genotype /opt/data/data/phenomexcan/ld_blocks/reference_panel_1000G/chr1.variants.parquet -parquet_genotype_metadata /opt/data/data/phenomexcan/ld_blocks/reference_panel_1000G/variant_metadata.parquet -window 100000 -parsimony 7 -chromosome 1 -regularization 0.1 -frequency_filter 0.01 -sub_batches 10 -sub_batch 4 --standardise_dosages -output /opt/data/projects/asthma-copd/results/imputed_gwas/GWAS_Asthma_only_GLM_SNPs_info0.7-harmonized-imputed-chr1-batch4_10.txt\n",
      "+ set +x\n"
     ]
    },
    {
     "name": "stdout",
     "output_type": "stream",
     "text": [
      "Running for asthma_only, 1, 5\n",
      "Saving results in /opt/data/projects/asthma-copd/results/imputed_gwas\n",
      "/opt/data/software/conda_envs/summary_gwas_imputation/lib/python3.7/site-packages/pyarrow/pandas_compat.py:752: FutureWarning: .labels was deprecated in version 0.24.0. Use .codes instead.\n",
      "\n",
      "Running for asthma_only, 1, 6\n",
      "Saving results in /opt/data/projects/asthma-copd/results/imputed_gwas\n"
     ]
    },
    {
     "name": "stderr",
     "output_type": "stream",
     "text": [
      "+ /opt/data/software/conda_envs/summary_gwas_imputation/bin/python /opt/data/software/summary-gwas-imputation/src/gwas_summary_imputation.py -by_region_file /opt/data/data/eur_ld.bed.gz -gwas_file /opt/data/projects/asthma-copd/results/harmonized_gwas/GWAS_Asthma_only_GLM_SNPs_info0.7-harmonized.txt -parquet_genotype /opt/data/data/phenomexcan/ld_blocks/reference_panel_1000G/chr1.variants.parquet -parquet_genotype_metadata /opt/data/data/phenomexcan/ld_blocks/reference_panel_1000G/variant_metadata.parquet -window 100000 -parsimony 7 -chromosome 1 -regularization 0.1 -frequency_filter 0.01 -sub_batches 10 -sub_batch 5 --standardise_dosages -output /opt/data/projects/asthma-copd/results/imputed_gwas/GWAS_Asthma_only_GLM_SNPs_info0.7-harmonized-imputed-chr1-batch5_10.txt\n",
      "+ set +x\n",
      "+ /opt/data/software/conda_envs/summary_gwas_imputation/bin/python /opt/data/software/summary-gwas-imputation/src/gwas_summary_imputation.py -by_region_file /opt/data/data/eur_ld.bed.gz -gwas_file /opt/data/projects/asthma-copd/results/harmonized_gwas/GWAS_Asthma_only_GLM_SNPs_info0.7-harmonized.txt -parquet_genotype /opt/data/data/phenomexcan/ld_blocks/reference_panel_1000G/chr1.variants.parquet -parquet_genotype_metadata /opt/data/data/phenomexcan/ld_blocks/reference_panel_1000G/variant_metadata.parquet -window 100000 -parsimony 7 -chromosome 1 -regularization 0.1 -frequency_filter 0.01 -sub_batches 10 -sub_batch 6 --standardise_dosages -output /opt/data/projects/asthma-copd/results/imputed_gwas/GWAS_Asthma_only_GLM_SNPs_info0.7-harmonized-imputed-chr1-batch6_10.txt\n"
     ]
    },
    {
     "name": "stdout",
     "output_type": "stream",
     "text": [
      "/opt/data/software/conda_envs/summary_gwas_imputation/lib/python3.7/site-packages/pyarrow/pandas_compat.py:752: FutureWarning: .labels was deprecated in version 0.24.0. Use .codes instead.\n",
      "\n"
     ]
    },
    {
     "name": "stderr",
     "output_type": "stream",
     "text": [
      "+ set +x\n"
     ]
    },
    {
     "name": "stdout",
     "output_type": "stream",
     "text": [
      "Running for asthma_only, 1, 7\n",
      "Saving results in /opt/data/projects/asthma-copd/results/imputed_gwas\n",
      "/opt/data/software/conda_envs/summary_gwas_imputation/lib/python3.7/site-packages/pyarrow/pandas_compat.py:752: FutureWarning: .labels was deprecated in version 0.24.0. Use .codes instead.\n",
      "\n"
     ]
    },
    {
     "name": "stderr",
     "output_type": "stream",
     "text": [
      "+ /opt/data/software/conda_envs/summary_gwas_imputation/bin/python /opt/data/software/summary-gwas-imputation/src/gwas_summary_imputation.py -by_region_file /opt/data/data/eur_ld.bed.gz -gwas_file /opt/data/projects/asthma-copd/results/harmonized_gwas/GWAS_Asthma_only_GLM_SNPs_info0.7-harmonized.txt -parquet_genotype /opt/data/data/phenomexcan/ld_blocks/reference_panel_1000G/chr1.variants.parquet -parquet_genotype_metadata /opt/data/data/phenomexcan/ld_blocks/reference_panel_1000G/variant_metadata.parquet -window 100000 -parsimony 7 -chromosome 1 -regularization 0.1 -frequency_filter 0.01 -sub_batches 10 -sub_batch 7 --standardise_dosages -output /opt/data/projects/asthma-copd/results/imputed_gwas/GWAS_Asthma_only_GLM_SNPs_info0.7-harmonized-imputed-chr1-batch7_10.txt\n",
      "+ set +x\n"
     ]
    },
    {
     "name": "stdout",
     "output_type": "stream",
     "text": [
      "Running for asthma_only, 1, 8\n",
      "Saving results in /opt/data/projects/asthma-copd/results/imputed_gwas\n",
      "/opt/data/software/conda_envs/summary_gwas_imputation/lib/python3.7/site-packages/pyarrow/pandas_compat.py:752: FutureWarning: .labels was deprecated in version 0.24.0. Use .codes instead.\n",
      "\n",
      "Running for asthma_only, 1, 9\n",
      "Saving results in /opt/data/projects/asthma-copd/results/imputed_gwas\n",
      "/opt/data/software/conda_envs/summary_gwas_imputation/lib/python3.7/site-packages/pyarrow/pandas_compat.py:752: FutureWarning: .labels was deprecated in version 0.24.0. Use .codes instead.\n",
      "\n",
      "Running for asthma_only, 2, 0\n",
      "Saving results in /opt/data/projects/asthma-copd/results/imputed_gwas\n"
     ]
    },
    {
     "name": "stderr",
     "output_type": "stream",
     "text": [
      "+ /opt/data/software/conda_envs/summary_gwas_imputation/bin/python /opt/data/software/summary-gwas-imputation/src/gwas_summary_imputation.py -by_region_file /opt/data/data/eur_ld.bed.gz -gwas_file /opt/data/projects/asthma-copd/results/harmonized_gwas/GWAS_Asthma_only_GLM_SNPs_info0.7-harmonized.txt -parquet_genotype /opt/data/data/phenomexcan/ld_blocks/reference_panel_1000G/chr1.variants.parquet -parquet_genotype_metadata /opt/data/data/phenomexcan/ld_blocks/reference_panel_1000G/variant_metadata.parquet -window 100000 -parsimony 7 -chromosome 1 -regularization 0.1 -frequency_filter 0.01 -sub_batches 10 -sub_batch 8 --standardise_dosages -output /opt/data/projects/asthma-copd/results/imputed_gwas/GWAS_Asthma_only_GLM_SNPs_info0.7-harmonized-imputed-chr1-batch8_10.txt\n",
      "+ set +x\n",
      "+ /opt/data/software/conda_envs/summary_gwas_imputation/bin/python /opt/data/software/summary-gwas-imputation/src/gwas_summary_imputation.py -by_region_file /opt/data/data/eur_ld.bed.gz -gwas_file /opt/data/projects/asthma-copd/results/harmonized_gwas/GWAS_Asthma_only_GLM_SNPs_info0.7-harmonized.txt -parquet_genotype /opt/data/data/phenomexcan/ld_blocks/reference_panel_1000G/chr1.variants.parquet -parquet_genotype_metadata /opt/data/data/phenomexcan/ld_blocks/reference_panel_1000G/variant_metadata.parquet -window 100000 -parsimony 7 -chromosome 1 -regularization 0.1 -frequency_filter 0.01 -sub_batches 10 -sub_batch 9 --standardise_dosages -output /opt/data/projects/asthma-copd/results/imputed_gwas/GWAS_Asthma_only_GLM_SNPs_info0.7-harmonized-imputed-chr1-batch9_10.txt\n",
      "+ set +x\n",
      "+ /opt/data/software/conda_envs/summary_gwas_imputation/bin/python /opt/data/software/summary-gwas-imputation/src/gwas_summary_imputation.py -by_region_file /opt/data/data/eur_ld.bed.gz -gwas_file /opt/data/projects/asthma-copd/results/harmonized_gwas/GWAS_Asthma_only_GLM_SNPs_info0.7-harmonized.txt -parquet_genotype /opt/data/data/phenomexcan/ld_blocks/reference_panel_1000G/chr2.variants.parquet -parquet_genotype_metadata /opt/data/data/phenomexcan/ld_blocks/reference_panel_1000G/variant_metadata.parquet -window 100000 -parsimony 7 -chromosome 2 -regularization 0.1 -frequency_filter 0.01 -sub_batches 10 -sub_batch 0 --standardise_dosages -output /opt/data/projects/asthma-copd/results/imputed_gwas/GWAS_Asthma_only_GLM_SNPs_info0.7-harmonized-imputed-chr2-batch0_10.txt\n"
     ]
    },
    {
     "name": "stdout",
     "output_type": "stream",
     "text": [
      "/opt/data/software/conda_envs/summary_gwas_imputation/lib/python3.7/site-packages/pyarrow/pandas_compat.py:752: FutureWarning: .labels was deprecated in version 0.24.0. Use .codes instead.\n",
      "\n"
     ]
    },
    {
     "name": "stderr",
     "output_type": "stream",
     "text": [
      "+ set +x\n"
     ]
    },
    {
     "name": "stdout",
     "output_type": "stream",
     "text": [
      "Running for asthma_only, 2, 1\n",
      "Saving results in /opt/data/projects/asthma-copd/results/imputed_gwas\n",
      "/opt/data/software/conda_envs/summary_gwas_imputation/lib/python3.7/site-packages/pyarrow/pandas_compat.py:752: FutureWarning: .labels was deprecated in version 0.24.0. Use .codes instead.\n",
      "INFO - Error for region (2,40054343.0,43082452.0): LinAlgError('SVD did not converge')\n",
      "INFO - Error for region (2,44086664.0,46255495.0): LinAlgError('SVD did not converge')\n",
      "\n",
      "Running for asthma_only, 2, 2\n",
      "Saving results in /opt/data/projects/asthma-copd/results/imputed_gwas\n",
      "/opt/data/software/conda_envs/summary_gwas_imputation/lib/python3.7/site-packages/pyarrow/pandas_compat.py:752: FutureWarning: .labels was deprecated in version 0.24.0. Use .codes instead.\n",
      "\n",
      "Running for asthma_only, 2, 3\n",
      "Saving results in /opt/data/projects/asthma-copd/results/imputed_gwas\n",
      "/opt/data/software/conda_envs/summary_gwas_imputation/lib/python3.7/site-packages/pyarrow/pandas_compat.py:752: FutureWarning: .labels was deprecated in version 0.24.0. Use .codes instead.\n",
      "\n",
      "Running for asthma_only, 2, 4\n",
      "Saving results in /opt/data/projects/asthma-copd/results/imputed_gwas\n",
      "/opt/data/software/conda_envs/summary_gwas_imputation/lib/python3.7/site-packages/pyarrow/pandas_compat.py:752: FutureWarning: .labels was deprecated in version 0.24.0. Use .codes instead.\n",
      "\n"
     ]
    },
    {
     "name": "stderr",
     "output_type": "stream",
     "text": [
      "+ /opt/data/software/conda_envs/summary_gwas_imputation/bin/python /opt/data/software/summary-gwas-imputation/src/gwas_summary_imputation.py -by_region_file /opt/data/data/eur_ld.bed.gz -gwas_file /opt/data/projects/asthma-copd/results/harmonized_gwas/GWAS_Asthma_only_GLM_SNPs_info0.7-harmonized.txt -parquet_genotype /opt/data/data/phenomexcan/ld_blocks/reference_panel_1000G/chr2.variants.parquet -parquet_genotype_metadata /opt/data/data/phenomexcan/ld_blocks/reference_panel_1000G/variant_metadata.parquet -window 100000 -parsimony 7 -chromosome 2 -regularization 0.1 -frequency_filter 0.01 -sub_batches 10 -sub_batch 1 --standardise_dosages -output /opt/data/projects/asthma-copd/results/imputed_gwas/GWAS_Asthma_only_GLM_SNPs_info0.7-harmonized-imputed-chr2-batch1_10.txt\n",
      "+ set +x\n",
      "+ /opt/data/software/conda_envs/summary_gwas_imputation/bin/python /opt/data/software/summary-gwas-imputation/src/gwas_summary_imputation.py -by_region_file /opt/data/data/eur_ld.bed.gz -gwas_file /opt/data/projects/asthma-copd/results/harmonized_gwas/GWAS_Asthma_only_GLM_SNPs_info0.7-harmonized.txt -parquet_genotype /opt/data/data/phenomexcan/ld_blocks/reference_panel_1000G/chr2.variants.parquet -parquet_genotype_metadata /opt/data/data/phenomexcan/ld_blocks/reference_panel_1000G/variant_metadata.parquet -window 100000 -parsimony 7 -chromosome 2 -regularization 0.1 -frequency_filter 0.01 -sub_batches 10 -sub_batch 2 --standardise_dosages -output /opt/data/projects/asthma-copd/results/imputed_gwas/GWAS_Asthma_only_GLM_SNPs_info0.7-harmonized-imputed-chr2-batch2_10.txt\n",
      "+ set +x\n",
      "+ /opt/data/software/conda_envs/summary_gwas_imputation/bin/python /opt/data/software/summary-gwas-imputation/src/gwas_summary_imputation.py -by_region_file /opt/data/data/eur_ld.bed.gz -gwas_file /opt/data/projects/asthma-copd/results/harmonized_gwas/GWAS_Asthma_only_GLM_SNPs_info0.7-harmonized.txt -parquet_genotype /opt/data/data/phenomexcan/ld_blocks/reference_panel_1000G/chr2.variants.parquet -parquet_genotype_metadata /opt/data/data/phenomexcan/ld_blocks/reference_panel_1000G/variant_metadata.parquet -window 100000 -parsimony 7 -chromosome 2 -regularization 0.1 -frequency_filter 0.01 -sub_batches 10 -sub_batch 3 --standardise_dosages -output /opt/data/projects/asthma-copd/results/imputed_gwas/GWAS_Asthma_only_GLM_SNPs_info0.7-harmonized-imputed-chr2-batch3_10.txt\n",
      "+ set +x\n",
      "+ /opt/data/software/conda_envs/summary_gwas_imputation/bin/python /opt/data/software/summary-gwas-imputation/src/gwas_summary_imputation.py -by_region_file /opt/data/data/eur_ld.bed.gz -gwas_file /opt/data/projects/asthma-copd/results/harmonized_gwas/GWAS_Asthma_only_GLM_SNPs_info0.7-harmonized.txt -parquet_genotype /opt/data/data/phenomexcan/ld_blocks/reference_panel_1000G/chr2.variants.parquet -parquet_genotype_metadata /opt/data/data/phenomexcan/ld_blocks/reference_panel_1000G/variant_metadata.parquet -window 100000 -parsimony 7 -chromosome 2 -regularization 0.1 -frequency_filter 0.01 -sub_batches 10 -sub_batch 4 --standardise_dosages -output /opt/data/projects/asthma-copd/results/imputed_gwas/GWAS_Asthma_only_GLM_SNPs_info0.7-harmonized-imputed-chr2-batch4_10.txt\n",
      "+ set +x\n"
     ]
    },
    {
     "name": "stdout",
     "output_type": "stream",
     "text": [
      "Running for asthma_only, 2, 5\n",
      "Saving results in /opt/data/projects/asthma-copd/results/imputed_gwas\n",
      "/opt/data/software/conda_envs/summary_gwas_imputation/lib/python3.7/site-packages/pyarrow/pandas_compat.py:752: FutureWarning: .labels was deprecated in version 0.24.0. Use .codes instead.\n",
      "\n",
      "Running for asthma_only, 2, 6\n",
      "Saving results in /opt/data/projects/asthma-copd/results/imputed_gwas\n",
      "/opt/data/software/conda_envs/summary_gwas_imputation/lib/python3.7/site-packages/pyarrow/pandas_compat.py:752: FutureWarning: .labels was deprecated in version 0.24.0. Use .codes instead.\n",
      "\n",
      "Running for asthma_only, 2, 7\n",
      "Saving results in /opt/data/projects/asthma-copd/results/imputed_gwas\n",
      "/opt/data/software/conda_envs/summary_gwas_imputation/lib/python3.7/site-packages/pyarrow/pandas_compat.py:752: FutureWarning: .labels was deprecated in version 0.24.0. Use .codes instead.\n",
      "INFO - Error for region (2,172274177.0,174724201.0): LinAlgError('SVD did not converge')\n",
      "\n",
      "Running for asthma_only, 2, 8\n",
      "Saving results in /opt/data/projects/asthma-copd/results/imputed_gwas\n",
      "/opt/data/software/conda_envs/summary_gwas_imputation/lib/python3.7/site-packages/pyarrow/pandas_compat.py:752: FutureWarning: .labels was deprecated in version 0.24.0. Use .codes instead.\n",
      "\n",
      "Running for asthma_only, 2, 9\n",
      "Saving results in /opt/data/projects/asthma-copd/results/imputed_gwas\n",
      "/opt/data/software/conda_envs/summary_gwas_imputation/lib/python3.7/site-packages/pyarrow/pandas_compat.py:752: FutureWarning: .labels was deprecated in version 0.24.0. Use .codes instead.\n",
      "\n",
      "Running for asthma_only, 3, 0\n",
      "Saving results in /opt/data/projects/asthma-copd/results/imputed_gwas\n"
     ]
    },
    {
     "name": "stderr",
     "output_type": "stream",
     "text": [
      "+ /opt/data/software/conda_envs/summary_gwas_imputation/bin/python /opt/data/software/summary-gwas-imputation/src/gwas_summary_imputation.py -by_region_file /opt/data/data/eur_ld.bed.gz -gwas_file /opt/data/projects/asthma-copd/results/harmonized_gwas/GWAS_Asthma_only_GLM_SNPs_info0.7-harmonized.txt -parquet_genotype /opt/data/data/phenomexcan/ld_blocks/reference_panel_1000G/chr2.variants.parquet -parquet_genotype_metadata /opt/data/data/phenomexcan/ld_blocks/reference_panel_1000G/variant_metadata.parquet -window 100000 -parsimony 7 -chromosome 2 -regularization 0.1 -frequency_filter 0.01 -sub_batches 10 -sub_batch 5 --standardise_dosages -output /opt/data/projects/asthma-copd/results/imputed_gwas/GWAS_Asthma_only_GLM_SNPs_info0.7-harmonized-imputed-chr2-batch5_10.txt\n",
      "+ set +x\n",
      "+ /opt/data/software/conda_envs/summary_gwas_imputation/bin/python /opt/data/software/summary-gwas-imputation/src/gwas_summary_imputation.py -by_region_file /opt/data/data/eur_ld.bed.gz -gwas_file /opt/data/projects/asthma-copd/results/harmonized_gwas/GWAS_Asthma_only_GLM_SNPs_info0.7-harmonized.txt -parquet_genotype /opt/data/data/phenomexcan/ld_blocks/reference_panel_1000G/chr2.variants.parquet -parquet_genotype_metadata /opt/data/data/phenomexcan/ld_blocks/reference_panel_1000G/variant_metadata.parquet -window 100000 -parsimony 7 -chromosome 2 -regularization 0.1 -frequency_filter 0.01 -sub_batches 10 -sub_batch 6 --standardise_dosages -output /opt/data/projects/asthma-copd/results/imputed_gwas/GWAS_Asthma_only_GLM_SNPs_info0.7-harmonized-imputed-chr2-batch6_10.txt\n",
      "+ set +x\n",
      "+ /opt/data/software/conda_envs/summary_gwas_imputation/bin/python /opt/data/software/summary-gwas-imputation/src/gwas_summary_imputation.py -by_region_file /opt/data/data/eur_ld.bed.gz -gwas_file /opt/data/projects/asthma-copd/results/harmonized_gwas/GWAS_Asthma_only_GLM_SNPs_info0.7-harmonized.txt -parquet_genotype /opt/data/data/phenomexcan/ld_blocks/reference_panel_1000G/chr2.variants.parquet -parquet_genotype_metadata /opt/data/data/phenomexcan/ld_blocks/reference_panel_1000G/variant_metadata.parquet -window 100000 -parsimony 7 -chromosome 2 -regularization 0.1 -frequency_filter 0.01 -sub_batches 10 -sub_batch 7 --standardise_dosages -output /opt/data/projects/asthma-copd/results/imputed_gwas/GWAS_Asthma_only_GLM_SNPs_info0.7-harmonized-imputed-chr2-batch7_10.txt\n",
      "+ set +x\n",
      "+ /opt/data/software/conda_envs/summary_gwas_imputation/bin/python /opt/data/software/summary-gwas-imputation/src/gwas_summary_imputation.py -by_region_file /opt/data/data/eur_ld.bed.gz -gwas_file /opt/data/projects/asthma-copd/results/harmonized_gwas/GWAS_Asthma_only_GLM_SNPs_info0.7-harmonized.txt -parquet_genotype /opt/data/data/phenomexcan/ld_blocks/reference_panel_1000G/chr2.variants.parquet -parquet_genotype_metadata /opt/data/data/phenomexcan/ld_blocks/reference_panel_1000G/variant_metadata.parquet -window 100000 -parsimony 7 -chromosome 2 -regularization 0.1 -frequency_filter 0.01 -sub_batches 10 -sub_batch 8 --standardise_dosages -output /opt/data/projects/asthma-copd/results/imputed_gwas/GWAS_Asthma_only_GLM_SNPs_info0.7-harmonized-imputed-chr2-batch8_10.txt\n",
      "+ set +x\n",
      "+ /opt/data/software/conda_envs/summary_gwas_imputation/bin/python /opt/data/software/summary-gwas-imputation/src/gwas_summary_imputation.py -by_region_file /opt/data/data/eur_ld.bed.gz -gwas_file /opt/data/projects/asthma-copd/results/harmonized_gwas/GWAS_Asthma_only_GLM_SNPs_info0.7-harmonized.txt -parquet_genotype /opt/data/data/phenomexcan/ld_blocks/reference_panel_1000G/chr2.variants.parquet -parquet_genotype_metadata /opt/data/data/phenomexcan/ld_blocks/reference_panel_1000G/variant_metadata.parquet -window 100000 -parsimony 7 -chromosome 2 -regularization 0.1 -frequency_filter 0.01 -sub_batches 10 -sub_batch 9 --standardise_dosages -output /opt/data/projects/asthma-copd/results/imputed_gwas/GWAS_Asthma_only_GLM_SNPs_info0.7-harmonized-imputed-chr2-batch9_10.txt\n",
      "+ set +x\n",
      "+ /opt/data/software/conda_envs/summary_gwas_imputation/bin/python /opt/data/software/summary-gwas-imputation/src/gwas_summary_imputation.py -by_region_file /opt/data/data/eur_ld.bed.gz -gwas_file /opt/data/projects/asthma-copd/results/harmonized_gwas/GWAS_Asthma_only_GLM_SNPs_info0.7-harmonized.txt -parquet_genotype /opt/data/data/phenomexcan/ld_blocks/reference_panel_1000G/chr3.variants.parquet -parquet_genotype_metadata /opt/data/data/phenomexcan/ld_blocks/reference_panel_1000G/variant_metadata.parquet -window 100000 -parsimony 7 -chromosome 3 -regularization 0.1 -frequency_filter 0.01 -sub_batches 10 -sub_batch 0 --standardise_dosages -output /opt/data/projects/asthma-copd/results/imputed_gwas/GWAS_Asthma_only_GLM_SNPs_info0.7-harmonized-imputed-chr3-batch0_10.txt\n"
     ]
    },
    {
     "name": "stdout",
     "output_type": "stream",
     "text": [
      "/opt/data/software/conda_envs/summary_gwas_imputation/lib/python3.7/site-packages/pyarrow/pandas_compat.py:752: FutureWarning: .labels was deprecated in version 0.24.0. Use .codes instead.\n",
      "INFO - Error for region (3,18479.0,1400095.0): LinAlgError('SVD did not converge')\n",
      "\n"
     ]
    },
    {
     "name": "stderr",
     "output_type": "stream",
     "text": [
      "+ set +x\n"
     ]
    },
    {
     "name": "stdout",
     "output_type": "stream",
     "text": [
      "Running for asthma_only, 3, 1\n",
      "Saving results in /opt/data/projects/asthma-copd/results/imputed_gwas\n",
      "/opt/data/software/conda_envs/summary_gwas_imputation/lib/python3.7/site-packages/pyarrow/pandas_compat.py:752: FutureWarning: .labels was deprecated in version 0.24.0. Use .codes instead.\n",
      "\n",
      "Running for asthma_only, 3, 2\n",
      "Saving results in /opt/data/projects/asthma-copd/results/imputed_gwas\n",
      "/opt/data/software/conda_envs/summary_gwas_imputation/lib/python3.7/site-packages/pyarrow/pandas_compat.py:752: FutureWarning: .labels was deprecated in version 0.24.0. Use .codes instead.\n",
      "\n",
      "Running for asthma_only, 3, 3\n",
      "Saving results in /opt/data/projects/asthma-copd/results/imputed_gwas\n"
     ]
    },
    {
     "name": "stderr",
     "output_type": "stream",
     "text": [
      "+ /opt/data/software/conda_envs/summary_gwas_imputation/bin/python /opt/data/software/summary-gwas-imputation/src/gwas_summary_imputation.py -by_region_file /opt/data/data/eur_ld.bed.gz -gwas_file /opt/data/projects/asthma-copd/results/harmonized_gwas/GWAS_Asthma_only_GLM_SNPs_info0.7-harmonized.txt -parquet_genotype /opt/data/data/phenomexcan/ld_blocks/reference_panel_1000G/chr3.variants.parquet -parquet_genotype_metadata /opt/data/data/phenomexcan/ld_blocks/reference_panel_1000G/variant_metadata.parquet -window 100000 -parsimony 7 -chromosome 3 -regularization 0.1 -frequency_filter 0.01 -sub_batches 10 -sub_batch 1 --standardise_dosages -output /opt/data/projects/asthma-copd/results/imputed_gwas/GWAS_Asthma_only_GLM_SNPs_info0.7-harmonized-imputed-chr3-batch1_10.txt\n",
      "+ set +x\n",
      "+ /opt/data/software/conda_envs/summary_gwas_imputation/bin/python /opt/data/software/summary-gwas-imputation/src/gwas_summary_imputation.py -by_region_file /opt/data/data/eur_ld.bed.gz -gwas_file /opt/data/projects/asthma-copd/results/harmonized_gwas/GWAS_Asthma_only_GLM_SNPs_info0.7-harmonized.txt -parquet_genotype /opt/data/data/phenomexcan/ld_blocks/reference_panel_1000G/chr3.variants.parquet -parquet_genotype_metadata /opt/data/data/phenomexcan/ld_blocks/reference_panel_1000G/variant_metadata.parquet -window 100000 -parsimony 7 -chromosome 3 -regularization 0.1 -frequency_filter 0.01 -sub_batches 10 -sub_batch 2 --standardise_dosages -output /opt/data/projects/asthma-copd/results/imputed_gwas/GWAS_Asthma_only_GLM_SNPs_info0.7-harmonized-imputed-chr3-batch2_10.txt\n",
      "+ set +x\n",
      "+ /opt/data/software/conda_envs/summary_gwas_imputation/bin/python /opt/data/software/summary-gwas-imputation/src/gwas_summary_imputation.py -by_region_file /opt/data/data/eur_ld.bed.gz -gwas_file /opt/data/projects/asthma-copd/results/harmonized_gwas/GWAS_Asthma_only_GLM_SNPs_info0.7-harmonized.txt -parquet_genotype /opt/data/data/phenomexcan/ld_blocks/reference_panel_1000G/chr3.variants.parquet -parquet_genotype_metadata /opt/data/data/phenomexcan/ld_blocks/reference_panel_1000G/variant_metadata.parquet -window 100000 -parsimony 7 -chromosome 3 -regularization 0.1 -frequency_filter 0.01 -sub_batches 10 -sub_batch 3 --standardise_dosages -output /opt/data/projects/asthma-copd/results/imputed_gwas/GWAS_Asthma_only_GLM_SNPs_info0.7-harmonized-imputed-chr3-batch3_10.txt\n"
     ]
    },
    {
     "name": "stdout",
     "output_type": "stream",
     "text": [
      "/opt/data/software/conda_envs/summary_gwas_imputation/lib/python3.7/site-packages/pyarrow/pandas_compat.py:752: FutureWarning: .labels was deprecated in version 0.24.0. Use .codes instead.\n",
      "\n"
     ]
    },
    {
     "name": "stderr",
     "output_type": "stream",
     "text": [
      "+ set +x\n"
     ]
    },
    {
     "name": "stdout",
     "output_type": "stream",
     "text": [
      "Running for asthma_only, 3, 4\n",
      "Saving results in /opt/data/projects/asthma-copd/results/imputed_gwas\n",
      "/opt/data/software/conda_envs/summary_gwas_imputation/lib/python3.7/site-packages/pyarrow/pandas_compat.py:752: FutureWarning: .labels was deprecated in version 0.24.0. Use .codes instead.\n",
      "\n",
      "Running for asthma_only, 3, 5\n",
      "Saving results in /opt/data/projects/asthma-copd/results/imputed_gwas\n"
     ]
    },
    {
     "name": "stderr",
     "output_type": "stream",
     "text": [
      "+ /opt/data/software/conda_envs/summary_gwas_imputation/bin/python /opt/data/software/summary-gwas-imputation/src/gwas_summary_imputation.py -by_region_file /opt/data/data/eur_ld.bed.gz -gwas_file /opt/data/projects/asthma-copd/results/harmonized_gwas/GWAS_Asthma_only_GLM_SNPs_info0.7-harmonized.txt -parquet_genotype /opt/data/data/phenomexcan/ld_blocks/reference_panel_1000G/chr3.variants.parquet -parquet_genotype_metadata /opt/data/data/phenomexcan/ld_blocks/reference_panel_1000G/variant_metadata.parquet -window 100000 -parsimony 7 -chromosome 3 -regularization 0.1 -frequency_filter 0.01 -sub_batches 10 -sub_batch 4 --standardise_dosages -output /opt/data/projects/asthma-copd/results/imputed_gwas/GWAS_Asthma_only_GLM_SNPs_info0.7-harmonized-imputed-chr3-batch4_10.txt\n",
      "+ set +x\n",
      "+ /opt/data/software/conda_envs/summary_gwas_imputation/bin/python /opt/data/software/summary-gwas-imputation/src/gwas_summary_imputation.py -by_region_file /opt/data/data/eur_ld.bed.gz -gwas_file /opt/data/projects/asthma-copd/results/harmonized_gwas/GWAS_Asthma_only_GLM_SNPs_info0.7-harmonized.txt -parquet_genotype /opt/data/data/phenomexcan/ld_blocks/reference_panel_1000G/chr3.variants.parquet -parquet_genotype_metadata /opt/data/data/phenomexcan/ld_blocks/reference_panel_1000G/variant_metadata.parquet -window 100000 -parsimony 7 -chromosome 3 -regularization 0.1 -frequency_filter 0.01 -sub_batches 10 -sub_batch 5 --standardise_dosages -output /opt/data/projects/asthma-copd/results/imputed_gwas/GWAS_Asthma_only_GLM_SNPs_info0.7-harmonized-imputed-chr3-batch5_10.txt\n"
     ]
    },
    {
     "name": "stdout",
     "output_type": "stream",
     "text": [
      "/opt/data/software/conda_envs/summary_gwas_imputation/lib/python3.7/site-packages/pyarrow/pandas_compat.py:752: FutureWarning: .labels was deprecated in version 0.24.0. Use .codes instead.\n",
      "\n"
     ]
    },
    {
     "name": "stderr",
     "output_type": "stream",
     "text": [
      "+ set +x\n"
     ]
    },
    {
     "name": "stdout",
     "output_type": "stream",
     "text": [
      "Running for asthma_only, 3, 6\n",
      "Saving results in /opt/data/projects/asthma-copd/results/imputed_gwas\n",
      "/opt/data/software/conda_envs/summary_gwas_imputation/lib/python3.7/site-packages/pyarrow/pandas_compat.py:752: FutureWarning: .labels was deprecated in version 0.24.0. Use .codes instead.\n",
      "\n",
      "Running for asthma_only, 3, 7\n",
      "Saving results in /opt/data/projects/asthma-copd/results/imputed_gwas\n",
      "/opt/data/software/conda_envs/summary_gwas_imputation/lib/python3.7/site-packages/pyarrow/pandas_compat.py:752: FutureWarning: .labels was deprecated in version 0.24.0. Use .codes instead.\n",
      "\n",
      "Running for asthma_only, 3, 8\n",
      "Saving results in /opt/data/projects/asthma-copd/results/imputed_gwas\n"
     ]
    },
    {
     "name": "stderr",
     "output_type": "stream",
     "text": [
      "+ /opt/data/software/conda_envs/summary_gwas_imputation/bin/python /opt/data/software/summary-gwas-imputation/src/gwas_summary_imputation.py -by_region_file /opt/data/data/eur_ld.bed.gz -gwas_file /opt/data/projects/asthma-copd/results/harmonized_gwas/GWAS_Asthma_only_GLM_SNPs_info0.7-harmonized.txt -parquet_genotype /opt/data/data/phenomexcan/ld_blocks/reference_panel_1000G/chr3.variants.parquet -parquet_genotype_metadata /opt/data/data/phenomexcan/ld_blocks/reference_panel_1000G/variant_metadata.parquet -window 100000 -parsimony 7 -chromosome 3 -regularization 0.1 -frequency_filter 0.01 -sub_batches 10 -sub_batch 6 --standardise_dosages -output /opt/data/projects/asthma-copd/results/imputed_gwas/GWAS_Asthma_only_GLM_SNPs_info0.7-harmonized-imputed-chr3-batch6_10.txt\n",
      "+ set +x\n",
      "+ /opt/data/software/conda_envs/summary_gwas_imputation/bin/python /opt/data/software/summary-gwas-imputation/src/gwas_summary_imputation.py -by_region_file /opt/data/data/eur_ld.bed.gz -gwas_file /opt/data/projects/asthma-copd/results/harmonized_gwas/GWAS_Asthma_only_GLM_SNPs_info0.7-harmonized.txt -parquet_genotype /opt/data/data/phenomexcan/ld_blocks/reference_panel_1000G/chr3.variants.parquet -parquet_genotype_metadata /opt/data/data/phenomexcan/ld_blocks/reference_panel_1000G/variant_metadata.parquet -window 100000 -parsimony 7 -chromosome 3 -regularization 0.1 -frequency_filter 0.01 -sub_batches 10 -sub_batch 7 --standardise_dosages -output /opt/data/projects/asthma-copd/results/imputed_gwas/GWAS_Asthma_only_GLM_SNPs_info0.7-harmonized-imputed-chr3-batch7_10.txt\n",
      "+ set +x\n",
      "+ /opt/data/software/conda_envs/summary_gwas_imputation/bin/python /opt/data/software/summary-gwas-imputation/src/gwas_summary_imputation.py -by_region_file /opt/data/data/eur_ld.bed.gz -gwas_file /opt/data/projects/asthma-copd/results/harmonized_gwas/GWAS_Asthma_only_GLM_SNPs_info0.7-harmonized.txt -parquet_genotype /opt/data/data/phenomexcan/ld_blocks/reference_panel_1000G/chr3.variants.parquet -parquet_genotype_metadata /opt/data/data/phenomexcan/ld_blocks/reference_panel_1000G/variant_metadata.parquet -window 100000 -parsimony 7 -chromosome 3 -regularization 0.1 -frequency_filter 0.01 -sub_batches 10 -sub_batch 8 --standardise_dosages -output /opt/data/projects/asthma-copd/results/imputed_gwas/GWAS_Asthma_only_GLM_SNPs_info0.7-harmonized-imputed-chr3-batch8_10.txt\n"
     ]
    },
    {
     "name": "stdout",
     "output_type": "stream",
     "text": [
      "/opt/data/software/conda_envs/summary_gwas_imputation/lib/python3.7/site-packages/pyarrow/pandas_compat.py:752: FutureWarning: .labels was deprecated in version 0.24.0. Use .codes instead.\n",
      "\n"
     ]
    },
    {
     "name": "stderr",
     "output_type": "stream",
     "text": [
      "+ set +x\n"
     ]
    },
    {
     "name": "stdout",
     "output_type": "stream",
     "text": [
      "Running for asthma_only, 3, 9\n",
      "Saving results in /opt/data/projects/asthma-copd/results/imputed_gwas\n",
      "/opt/data/software/conda_envs/summary_gwas_imputation/lib/python3.7/site-packages/pyarrow/pandas_compat.py:752: FutureWarning: .labels was deprecated in version 0.24.0. Use .codes instead.\n",
      "\n",
      "Running for asthma_only, 4, 0\n",
      "Saving results in /opt/data/projects/asthma-copd/results/imputed_gwas\n",
      "/opt/data/software/conda_envs/summary_gwas_imputation/lib/python3.7/site-packages/pyarrow/pandas_compat.py:752: FutureWarning: .labels was deprecated in version 0.24.0. Use .codes instead.\n",
      "\n"
     ]
    },
    {
     "name": "stderr",
     "output_type": "stream",
     "text": [
      "+ /opt/data/software/conda_envs/summary_gwas_imputation/bin/python /opt/data/software/summary-gwas-imputation/src/gwas_summary_imputation.py -by_region_file /opt/data/data/eur_ld.bed.gz -gwas_file /opt/data/projects/asthma-copd/results/harmonized_gwas/GWAS_Asthma_only_GLM_SNPs_info0.7-harmonized.txt -parquet_genotype /opt/data/data/phenomexcan/ld_blocks/reference_panel_1000G/chr3.variants.parquet -parquet_genotype_metadata /opt/data/data/phenomexcan/ld_blocks/reference_panel_1000G/variant_metadata.parquet -window 100000 -parsimony 7 -chromosome 3 -regularization 0.1 -frequency_filter 0.01 -sub_batches 10 -sub_batch 9 --standardise_dosages -output /opt/data/projects/asthma-copd/results/imputed_gwas/GWAS_Asthma_only_GLM_SNPs_info0.7-harmonized-imputed-chr3-batch9_10.txt\n",
      "+ set +x\n",
      "+ /opt/data/software/conda_envs/summary_gwas_imputation/bin/python /opt/data/software/summary-gwas-imputation/src/gwas_summary_imputation.py -by_region_file /opt/data/data/eur_ld.bed.gz -gwas_file /opt/data/projects/asthma-copd/results/harmonized_gwas/GWAS_Asthma_only_GLM_SNPs_info0.7-harmonized.txt -parquet_genotype /opt/data/data/phenomexcan/ld_blocks/reference_panel_1000G/chr4.variants.parquet -parquet_genotype_metadata /opt/data/data/phenomexcan/ld_blocks/reference_panel_1000G/variant_metadata.parquet -window 100000 -parsimony 7 -chromosome 4 -regularization 0.1 -frequency_filter 0.01 -sub_batches 10 -sub_batch 0 --standardise_dosages -output /opt/data/projects/asthma-copd/results/imputed_gwas/GWAS_Asthma_only_GLM_SNPs_info0.7-harmonized-imputed-chr4-batch0_10.txt\n",
      "+ set +x\n"
     ]
    },
    {
     "name": "stdout",
     "output_type": "stream",
     "text": [
      "Running for asthma_only, 4, 1\n",
      "Saving results in /opt/data/projects/asthma-copd/results/imputed_gwas\n",
      "/opt/data/software/conda_envs/summary_gwas_imputation/lib/python3.7/site-packages/pyarrow/pandas_compat.py:752: FutureWarning: .labels was deprecated in version 0.24.0. Use .codes instead.\n",
      "\n",
      "Running for asthma_only, 4, 2\n",
      "Saving results in /opt/data/projects/asthma-copd/results/imputed_gwas\n"
     ]
    },
    {
     "name": "stderr",
     "output_type": "stream",
     "text": [
      "+ /opt/data/software/conda_envs/summary_gwas_imputation/bin/python /opt/data/software/summary-gwas-imputation/src/gwas_summary_imputation.py -by_region_file /opt/data/data/eur_ld.bed.gz -gwas_file /opt/data/projects/asthma-copd/results/harmonized_gwas/GWAS_Asthma_only_GLM_SNPs_info0.7-harmonized.txt -parquet_genotype /opt/data/data/phenomexcan/ld_blocks/reference_panel_1000G/chr4.variants.parquet -parquet_genotype_metadata /opt/data/data/phenomexcan/ld_blocks/reference_panel_1000G/variant_metadata.parquet -window 100000 -parsimony 7 -chromosome 4 -regularization 0.1 -frequency_filter 0.01 -sub_batches 10 -sub_batch 1 --standardise_dosages -output /opt/data/projects/asthma-copd/results/imputed_gwas/GWAS_Asthma_only_GLM_SNPs_info0.7-harmonized-imputed-chr4-batch1_10.txt\n",
      "+ set +x\n",
      "+ /opt/data/software/conda_envs/summary_gwas_imputation/bin/python /opt/data/software/summary-gwas-imputation/src/gwas_summary_imputation.py -by_region_file /opt/data/data/eur_ld.bed.gz -gwas_file /opt/data/projects/asthma-copd/results/harmonized_gwas/GWAS_Asthma_only_GLM_SNPs_info0.7-harmonized.txt -parquet_genotype /opt/data/data/phenomexcan/ld_blocks/reference_panel_1000G/chr4.variants.parquet -parquet_genotype_metadata /opt/data/data/phenomexcan/ld_blocks/reference_panel_1000G/variant_metadata.parquet -window 100000 -parsimony 7 -chromosome 4 -regularization 0.1 -frequency_filter 0.01 -sub_batches 10 -sub_batch 2 --standardise_dosages -output /opt/data/projects/asthma-copd/results/imputed_gwas/GWAS_Asthma_only_GLM_SNPs_info0.7-harmonized-imputed-chr4-batch2_10.txt\n"
     ]
    },
    {
     "name": "stdout",
     "output_type": "stream",
     "text": [
      "/opt/data/software/conda_envs/summary_gwas_imputation/lib/python3.7/site-packages/pyarrow/pandas_compat.py:752: FutureWarning: .labels was deprecated in version 0.24.0. Use .codes instead.\n",
      "\n"
     ]
    },
    {
     "name": "stderr",
     "output_type": "stream",
     "text": [
      "+ set +x\n"
     ]
    },
    {
     "name": "stdout",
     "output_type": "stream",
     "text": [
      "Running for asthma_only, 4, 3\n",
      "Saving results in /opt/data/projects/asthma-copd/results/imputed_gwas\n"
     ]
    },
    {
     "name": "stderr",
     "output_type": "stream",
     "text": [
      "+ /opt/data/software/conda_envs/summary_gwas_imputation/bin/python /opt/data/software/summary-gwas-imputation/src/gwas_summary_imputation.py -by_region_file /opt/data/data/eur_ld.bed.gz -gwas_file /opt/data/projects/asthma-copd/results/harmonized_gwas/GWAS_Asthma_only_GLM_SNPs_info0.7-harmonized.txt -parquet_genotype /opt/data/data/phenomexcan/ld_blocks/reference_panel_1000G/chr4.variants.parquet -parquet_genotype_metadata /opt/data/data/phenomexcan/ld_blocks/reference_panel_1000G/variant_metadata.parquet -window 100000 -parsimony 7 -chromosome 4 -regularization 0.1 -frequency_filter 0.01 -sub_batches 10 -sub_batch 3 --standardise_dosages -output /opt/data/projects/asthma-copd/results/imputed_gwas/GWAS_Asthma_only_GLM_SNPs_info0.7-harmonized-imputed-chr4-batch3_10.txt\n"
     ]
    },
    {
     "name": "stdout",
     "output_type": "stream",
     "text": [
      "/opt/data/software/conda_envs/summary_gwas_imputation/lib/python3.7/site-packages/pyarrow/pandas_compat.py:752: FutureWarning: .labels was deprecated in version 0.24.0. Use .codes instead.\n",
      "\n"
     ]
    },
    {
     "name": "stderr",
     "output_type": "stream",
     "text": [
      "+ set +x\n"
     ]
    },
    {
     "name": "stdout",
     "output_type": "stream",
     "text": [
      "Running for asthma_only, 4, 4\n",
      "Saving results in /opt/data/projects/asthma-copd/results/imputed_gwas\n",
      "/opt/data/software/conda_envs/summary_gwas_imputation/lib/python3.7/site-packages/pyarrow/pandas_compat.py:752: FutureWarning: .labels was deprecated in version 0.24.0. Use .codes instead.\n",
      "\n"
     ]
    },
    {
     "name": "stderr",
     "output_type": "stream",
     "text": [
      "+ /opt/data/software/conda_envs/summary_gwas_imputation/bin/python /opt/data/software/summary-gwas-imputation/src/gwas_summary_imputation.py -by_region_file /opt/data/data/eur_ld.bed.gz -gwas_file /opt/data/projects/asthma-copd/results/harmonized_gwas/GWAS_Asthma_only_GLM_SNPs_info0.7-harmonized.txt -parquet_genotype /opt/data/data/phenomexcan/ld_blocks/reference_panel_1000G/chr4.variants.parquet -parquet_genotype_metadata /opt/data/data/phenomexcan/ld_blocks/reference_panel_1000G/variant_metadata.parquet -window 100000 -parsimony 7 -chromosome 4 -regularization 0.1 -frequency_filter 0.01 -sub_batches 10 -sub_batch 4 --standardise_dosages -output /opt/data/projects/asthma-copd/results/imputed_gwas/GWAS_Asthma_only_GLM_SNPs_info0.7-harmonized-imputed-chr4-batch4_10.txt\n",
      "+ set +x\n"
     ]
    },
    {
     "name": "stdout",
     "output_type": "stream",
     "text": [
      "Running for asthma_only, 4, 5\n",
      "Saving results in /opt/data/projects/asthma-copd/results/imputed_gwas\n",
      "/opt/data/software/conda_envs/summary_gwas_imputation/lib/python3.7/site-packages/pyarrow/pandas_compat.py:752: FutureWarning: .labels was deprecated in version 0.24.0. Use .codes instead.\n",
      "\n",
      "Running for asthma_only, 4, 6\n",
      "Saving results in /opt/data/projects/asthma-copd/results/imputed_gwas\n",
      "/opt/data/software/conda_envs/summary_gwas_imputation/lib/python3.7/site-packages/pyarrow/pandas_compat.py:752: FutureWarning: .labels was deprecated in version 0.24.0. Use .codes instead.\n",
      "\n",
      "Running for asthma_only, 4, 7\n",
      "Saving results in /opt/data/projects/asthma-copd/results/imputed_gwas\n",
      "/opt/data/software/conda_envs/summary_gwas_imputation/lib/python3.7/site-packages/pyarrow/pandas_compat.py:752: FutureWarning: .labels was deprecated in version 0.24.0. Use .codes instead.\n",
      "\n"
     ]
    },
    {
     "name": "stderr",
     "output_type": "stream",
     "text": [
      "+ /opt/data/software/conda_envs/summary_gwas_imputation/bin/python /opt/data/software/summary-gwas-imputation/src/gwas_summary_imputation.py -by_region_file /opt/data/data/eur_ld.bed.gz -gwas_file /opt/data/projects/asthma-copd/results/harmonized_gwas/GWAS_Asthma_only_GLM_SNPs_info0.7-harmonized.txt -parquet_genotype /opt/data/data/phenomexcan/ld_blocks/reference_panel_1000G/chr4.variants.parquet -parquet_genotype_metadata /opt/data/data/phenomexcan/ld_blocks/reference_panel_1000G/variant_metadata.parquet -window 100000 -parsimony 7 -chromosome 4 -regularization 0.1 -frequency_filter 0.01 -sub_batches 10 -sub_batch 5 --standardise_dosages -output /opt/data/projects/asthma-copd/results/imputed_gwas/GWAS_Asthma_only_GLM_SNPs_info0.7-harmonized-imputed-chr4-batch5_10.txt\n",
      "+ set +x\n",
      "+ /opt/data/software/conda_envs/summary_gwas_imputation/bin/python /opt/data/software/summary-gwas-imputation/src/gwas_summary_imputation.py -by_region_file /opt/data/data/eur_ld.bed.gz -gwas_file /opt/data/projects/asthma-copd/results/harmonized_gwas/GWAS_Asthma_only_GLM_SNPs_info0.7-harmonized.txt -parquet_genotype /opt/data/data/phenomexcan/ld_blocks/reference_panel_1000G/chr4.variants.parquet -parquet_genotype_metadata /opt/data/data/phenomexcan/ld_blocks/reference_panel_1000G/variant_metadata.parquet -window 100000 -parsimony 7 -chromosome 4 -regularization 0.1 -frequency_filter 0.01 -sub_batches 10 -sub_batch 6 --standardise_dosages -output /opt/data/projects/asthma-copd/results/imputed_gwas/GWAS_Asthma_only_GLM_SNPs_info0.7-harmonized-imputed-chr4-batch6_10.txt\n",
      "+ set +x\n",
      "+ /opt/data/software/conda_envs/summary_gwas_imputation/bin/python /opt/data/software/summary-gwas-imputation/src/gwas_summary_imputation.py -by_region_file /opt/data/data/eur_ld.bed.gz -gwas_file /opt/data/projects/asthma-copd/results/harmonized_gwas/GWAS_Asthma_only_GLM_SNPs_info0.7-harmonized.txt -parquet_genotype /opt/data/data/phenomexcan/ld_blocks/reference_panel_1000G/chr4.variants.parquet -parquet_genotype_metadata /opt/data/data/phenomexcan/ld_blocks/reference_panel_1000G/variant_metadata.parquet -window 100000 -parsimony 7 -chromosome 4 -regularization 0.1 -frequency_filter 0.01 -sub_batches 10 -sub_batch 7 --standardise_dosages -output /opt/data/projects/asthma-copd/results/imputed_gwas/GWAS_Asthma_only_GLM_SNPs_info0.7-harmonized-imputed-chr4-batch7_10.txt\n",
      "+ set +x\n",
      "+ /opt/data/software/conda_envs/summary_gwas_imputation/bin/python /opt/data/software/summary-gwas-imputation/src/gwas_summary_imputation.py -by_region_file /opt/data/data/eur_ld.bed.gz -gwas_file /opt/data/projects/asthma-copd/results/harmonized_gwas/GWAS_Asthma_only_GLM_SNPs_info0.7-harmonized.txt -parquet_genotype /opt/data/data/phenomexcan/ld_blocks/reference_panel_1000G/chr4.variants.parquet -parquet_genotype_metadata /opt/data/data/phenomexcan/ld_blocks/reference_panel_1000G/variant_metadata.parquet -window 100000 -parsimony 7 -chromosome 4 -regularization 0.1 -frequency_filter 0.01 -sub_batches 10 -sub_batch 8 --standardise_dosages -output /opt/data/projects/asthma-copd/results/imputed_gwas/GWAS_Asthma_only_GLM_SNPs_info0.7-harmonized-imputed-chr4-batch8_10.txt\n",
      "+ set +x\n"
     ]
    },
    {
     "name": "stdout",
     "output_type": "stream",
     "text": [
      "Running for asthma_only, 4, 8\n",
      "Saving results in /opt/data/projects/asthma-copd/results/imputed_gwas\n",
      "/opt/data/software/conda_envs/summary_gwas_imputation/lib/python3.7/site-packages/pyarrow/pandas_compat.py:752: FutureWarning: .labels was deprecated in version 0.24.0. Use .codes instead.\n",
      "\n",
      "Running for asthma_only, 4, 9\n",
      "Saving results in /opt/data/projects/asthma-copd/results/imputed_gwas\n"
     ]
    },
    {
     "name": "stderr",
     "output_type": "stream",
     "text": [
      "+ /opt/data/software/conda_envs/summary_gwas_imputation/bin/python /opt/data/software/summary-gwas-imputation/src/gwas_summary_imputation.py -by_region_file /opt/data/data/eur_ld.bed.gz -gwas_file /opt/data/projects/asthma-copd/results/harmonized_gwas/GWAS_Asthma_only_GLM_SNPs_info0.7-harmonized.txt -parquet_genotype /opt/data/data/phenomexcan/ld_blocks/reference_panel_1000G/chr4.variants.parquet -parquet_genotype_metadata /opt/data/data/phenomexcan/ld_blocks/reference_panel_1000G/variant_metadata.parquet -window 100000 -parsimony 7 -chromosome 4 -regularization 0.1 -frequency_filter 0.01 -sub_batches 10 -sub_batch 9 --standardise_dosages -output /opt/data/projects/asthma-copd/results/imputed_gwas/GWAS_Asthma_only_GLM_SNPs_info0.7-harmonized-imputed-chr4-batch9_10.txt\n"
     ]
    },
    {
     "name": "stdout",
     "output_type": "stream",
     "text": [
      "/opt/data/software/conda_envs/summary_gwas_imputation/lib/python3.7/site-packages/pyarrow/pandas_compat.py:752: FutureWarning: .labels was deprecated in version 0.24.0. Use .codes instead.\n",
      "\n"
     ]
    },
    {
     "name": "stderr",
     "output_type": "stream",
     "text": [
      "+ set +x\n"
     ]
    },
    {
     "name": "stdout",
     "output_type": "stream",
     "text": [
      "Running for asthma_only, 5, 0\n",
      "Saving results in /opt/data/projects/asthma-copd/results/imputed_gwas\n",
      "/opt/data/software/conda_envs/summary_gwas_imputation/lib/python3.7/site-packages/pyarrow/pandas_compat.py:752: FutureWarning: .labels was deprecated in version 0.24.0. Use .codes instead.\n",
      "\n"
     ]
    },
    {
     "name": "stderr",
     "output_type": "stream",
     "text": [
      "+ /opt/data/software/conda_envs/summary_gwas_imputation/bin/python /opt/data/software/summary-gwas-imputation/src/gwas_summary_imputation.py -by_region_file /opt/data/data/eur_ld.bed.gz -gwas_file /opt/data/projects/asthma-copd/results/harmonized_gwas/GWAS_Asthma_only_GLM_SNPs_info0.7-harmonized.txt -parquet_genotype /opt/data/data/phenomexcan/ld_blocks/reference_panel_1000G/chr5.variants.parquet -parquet_genotype_metadata /opt/data/data/phenomexcan/ld_blocks/reference_panel_1000G/variant_metadata.parquet -window 100000 -parsimony 7 -chromosome 5 -regularization 0.1 -frequency_filter 0.01 -sub_batches 10 -sub_batch 0 --standardise_dosages -output /opt/data/projects/asthma-copd/results/imputed_gwas/GWAS_Asthma_only_GLM_SNPs_info0.7-harmonized-imputed-chr5-batch0_10.txt\n",
      "+ set +x\n"
     ]
    },
    {
     "name": "stdout",
     "output_type": "stream",
     "text": [
      "Running for asthma_only, 5, 1\n",
      "Saving results in /opt/data/projects/asthma-copd/results/imputed_gwas\n",
      "/opt/data/software/conda_envs/summary_gwas_imputation/lib/python3.7/site-packages/pyarrow/pandas_compat.py:752: FutureWarning: .labels was deprecated in version 0.24.0. Use .codes instead.\n",
      "INFO - Error for region (5,31390142.0,33500075.0): LinAlgError('SVD did not converge')\n",
      "\n",
      "Running for asthma_only, 5, 2\n",
      "Saving results in /opt/data/projects/asthma-copd/results/imputed_gwas\n",
      "/opt/data/software/conda_envs/summary_gwas_imputation/lib/python3.7/site-packages/pyarrow/pandas_compat.py:752: FutureWarning: .labels was deprecated in version 0.24.0. Use .codes instead.\n",
      "\n",
      "Running for asthma_only, 5, 3\n",
      "Saving results in /opt/data/projects/asthma-copd/results/imputed_gwas\n",
      "/opt/data/software/conda_envs/summary_gwas_imputation/lib/python3.7/site-packages/pyarrow/pandas_compat.py:752: FutureWarning: .labels was deprecated in version 0.24.0. Use .codes instead.\n",
      "\n",
      "Running for asthma_only, 5, 4\n",
      "Saving results in /opt/data/projects/asthma-copd/results/imputed_gwas\n",
      "/opt/data/software/conda_envs/summary_gwas_imputation/lib/python3.7/site-packages/pyarrow/pandas_compat.py:752: FutureWarning: .labels was deprecated in version 0.24.0. Use .codes instead.\n",
      "\n",
      "Running for asthma_only, 5, 5\n",
      "Saving results in /opt/data/projects/asthma-copd/results/imputed_gwas\n",
      "/opt/data/software/conda_envs/summary_gwas_imputation/lib/python3.7/site-packages/pyarrow/pandas_compat.py:752: FutureWarning: .labels was deprecated in version 0.24.0. Use .codes instead.\n",
      "\n",
      "Running for asthma_only, 5, 6\n",
      "Saving results in /opt/data/projects/asthma-copd/results/imputed_gwas\n",
      "/opt/data/software/conda_envs/summary_gwas_imputation/lib/python3.7/site-packages/pyarrow/pandas_compat.py:752: FutureWarning: .labels was deprecated in version 0.24.0. Use .codes instead.\n",
      "\n",
      "Running for asthma_only, 5, 7\n",
      "Saving results in /opt/data/projects/asthma-copd/results/imputed_gwas\n",
      "/opt/data/software/conda_envs/summary_gwas_imputation/lib/python3.7/site-packages/pyarrow/pandas_compat.py:752: FutureWarning: .labels was deprecated in version 0.24.0. Use .codes instead.\n",
      "\n",
      "Running for asthma_only, 5, 8\n",
      "Saving results in /opt/data/projects/asthma-copd/results/imputed_gwas\n",
      "/opt/data/software/conda_envs/summary_gwas_imputation/lib/python3.7/site-packages/pyarrow/pandas_compat.py:752: FutureWarning: .labels was deprecated in version 0.24.0. Use .codes instead.\n",
      "\n",
      "Running for asthma_only, 5, 9\n",
      "Saving results in /opt/data/projects/asthma-copd/results/imputed_gwas\n",
      "/opt/data/software/conda_envs/summary_gwas_imputation/lib/python3.7/site-packages/pyarrow/pandas_compat.py:752: FutureWarning: .labels was deprecated in version 0.24.0. Use .codes instead.\n",
      "\n",
      "Running for asthma_only, 6, 0\n",
      "Saving results in /opt/data/projects/asthma-copd/results/imputed_gwas\n",
      "/opt/data/software/conda_envs/summary_gwas_imputation/lib/python3.7/site-packages/pyarrow/pandas_compat.py:752: FutureWarning: .labels was deprecated in version 0.24.0. Use .codes instead.\n",
      "\n"
     ]
    },
    {
     "name": "stderr",
     "output_type": "stream",
     "text": [
      "+ /opt/data/software/conda_envs/summary_gwas_imputation/bin/python /opt/data/software/summary-gwas-imputation/src/gwas_summary_imputation.py -by_region_file /opt/data/data/eur_ld.bed.gz -gwas_file /opt/data/projects/asthma-copd/results/harmonized_gwas/GWAS_Asthma_only_GLM_SNPs_info0.7-harmonized.txt -parquet_genotype /opt/data/data/phenomexcan/ld_blocks/reference_panel_1000G/chr5.variants.parquet -parquet_genotype_metadata /opt/data/data/phenomexcan/ld_blocks/reference_panel_1000G/variant_metadata.parquet -window 100000 -parsimony 7 -chromosome 5 -regularization 0.1 -frequency_filter 0.01 -sub_batches 10 -sub_batch 1 --standardise_dosages -output /opt/data/projects/asthma-copd/results/imputed_gwas/GWAS_Asthma_only_GLM_SNPs_info0.7-harmonized-imputed-chr5-batch1_10.txt\n",
      "+ set +x\n",
      "+ /opt/data/software/conda_envs/summary_gwas_imputation/bin/python /opt/data/software/summary-gwas-imputation/src/gwas_summary_imputation.py -by_region_file /opt/data/data/eur_ld.bed.gz -gwas_file /opt/data/projects/asthma-copd/results/harmonized_gwas/GWAS_Asthma_only_GLM_SNPs_info0.7-harmonized.txt -parquet_genotype /opt/data/data/phenomexcan/ld_blocks/reference_panel_1000G/chr5.variants.parquet -parquet_genotype_metadata /opt/data/data/phenomexcan/ld_blocks/reference_panel_1000G/variant_metadata.parquet -window 100000 -parsimony 7 -chromosome 5 -regularization 0.1 -frequency_filter 0.01 -sub_batches 10 -sub_batch 2 --standardise_dosages -output /opt/data/projects/asthma-copd/results/imputed_gwas/GWAS_Asthma_only_GLM_SNPs_info0.7-harmonized-imputed-chr5-batch2_10.txt\n",
      "+ set +x\n",
      "+ /opt/data/software/conda_envs/summary_gwas_imputation/bin/python /opt/data/software/summary-gwas-imputation/src/gwas_summary_imputation.py -by_region_file /opt/data/data/eur_ld.bed.gz -gwas_file /opt/data/projects/asthma-copd/results/harmonized_gwas/GWAS_Asthma_only_GLM_SNPs_info0.7-harmonized.txt -parquet_genotype /opt/data/data/phenomexcan/ld_blocks/reference_panel_1000G/chr5.variants.parquet -parquet_genotype_metadata /opt/data/data/phenomexcan/ld_blocks/reference_panel_1000G/variant_metadata.parquet -window 100000 -parsimony 7 -chromosome 5 -regularization 0.1 -frequency_filter 0.01 -sub_batches 10 -sub_batch 3 --standardise_dosages -output /opt/data/projects/asthma-copd/results/imputed_gwas/GWAS_Asthma_only_GLM_SNPs_info0.7-harmonized-imputed-chr5-batch3_10.txt\n",
      "+ set +x\n",
      "+ /opt/data/software/conda_envs/summary_gwas_imputation/bin/python /opt/data/software/summary-gwas-imputation/src/gwas_summary_imputation.py -by_region_file /opt/data/data/eur_ld.bed.gz -gwas_file /opt/data/projects/asthma-copd/results/harmonized_gwas/GWAS_Asthma_only_GLM_SNPs_info0.7-harmonized.txt -parquet_genotype /opt/data/data/phenomexcan/ld_blocks/reference_panel_1000G/chr5.variants.parquet -parquet_genotype_metadata /opt/data/data/phenomexcan/ld_blocks/reference_panel_1000G/variant_metadata.parquet -window 100000 -parsimony 7 -chromosome 5 -regularization 0.1 -frequency_filter 0.01 -sub_batches 10 -sub_batch 4 --standardise_dosages -output /opt/data/projects/asthma-copd/results/imputed_gwas/GWAS_Asthma_only_GLM_SNPs_info0.7-harmonized-imputed-chr5-batch4_10.txt\n",
      "+ set +x\n",
      "+ /opt/data/software/conda_envs/summary_gwas_imputation/bin/python /opt/data/software/summary-gwas-imputation/src/gwas_summary_imputation.py -by_region_file /opt/data/data/eur_ld.bed.gz -gwas_file /opt/data/projects/asthma-copd/results/harmonized_gwas/GWAS_Asthma_only_GLM_SNPs_info0.7-harmonized.txt -parquet_genotype /opt/data/data/phenomexcan/ld_blocks/reference_panel_1000G/chr5.variants.parquet -parquet_genotype_metadata /opt/data/data/phenomexcan/ld_blocks/reference_panel_1000G/variant_metadata.parquet -window 100000 -parsimony 7 -chromosome 5 -regularization 0.1 -frequency_filter 0.01 -sub_batches 10 -sub_batch 5 --standardise_dosages -output /opt/data/projects/asthma-copd/results/imputed_gwas/GWAS_Asthma_only_GLM_SNPs_info0.7-harmonized-imputed-chr5-batch5_10.txt\n",
      "+ set +x\n",
      "+ /opt/data/software/conda_envs/summary_gwas_imputation/bin/python /opt/data/software/summary-gwas-imputation/src/gwas_summary_imputation.py -by_region_file /opt/data/data/eur_ld.bed.gz -gwas_file /opt/data/projects/asthma-copd/results/harmonized_gwas/GWAS_Asthma_only_GLM_SNPs_info0.7-harmonized.txt -parquet_genotype /opt/data/data/phenomexcan/ld_blocks/reference_panel_1000G/chr5.variants.parquet -parquet_genotype_metadata /opt/data/data/phenomexcan/ld_blocks/reference_panel_1000G/variant_metadata.parquet -window 100000 -parsimony 7 -chromosome 5 -regularization 0.1 -frequency_filter 0.01 -sub_batches 10 -sub_batch 6 --standardise_dosages -output /opt/data/projects/asthma-copd/results/imputed_gwas/GWAS_Asthma_only_GLM_SNPs_info0.7-harmonized-imputed-chr5-batch6_10.txt\n",
      "+ set +x\n",
      "+ /opt/data/software/conda_envs/summary_gwas_imputation/bin/python /opt/data/software/summary-gwas-imputation/src/gwas_summary_imputation.py -by_region_file /opt/data/data/eur_ld.bed.gz -gwas_file /opt/data/projects/asthma-copd/results/harmonized_gwas/GWAS_Asthma_only_GLM_SNPs_info0.7-harmonized.txt -parquet_genotype /opt/data/data/phenomexcan/ld_blocks/reference_panel_1000G/chr5.variants.parquet -parquet_genotype_metadata /opt/data/data/phenomexcan/ld_blocks/reference_panel_1000G/variant_metadata.parquet -window 100000 -parsimony 7 -chromosome 5 -regularization 0.1 -frequency_filter 0.01 -sub_batches 10 -sub_batch 7 --standardise_dosages -output /opt/data/projects/asthma-copd/results/imputed_gwas/GWAS_Asthma_only_GLM_SNPs_info0.7-harmonized-imputed-chr5-batch7_10.txt\n",
      "+ set +x\n",
      "+ /opt/data/software/conda_envs/summary_gwas_imputation/bin/python /opt/data/software/summary-gwas-imputation/src/gwas_summary_imputation.py -by_region_file /opt/data/data/eur_ld.bed.gz -gwas_file /opt/data/projects/asthma-copd/results/harmonized_gwas/GWAS_Asthma_only_GLM_SNPs_info0.7-harmonized.txt -parquet_genotype /opt/data/data/phenomexcan/ld_blocks/reference_panel_1000G/chr5.variants.parquet -parquet_genotype_metadata /opt/data/data/phenomexcan/ld_blocks/reference_panel_1000G/variant_metadata.parquet -window 100000 -parsimony 7 -chromosome 5 -regularization 0.1 -frequency_filter 0.01 -sub_batches 10 -sub_batch 8 --standardise_dosages -output /opt/data/projects/asthma-copd/results/imputed_gwas/GWAS_Asthma_only_GLM_SNPs_info0.7-harmonized-imputed-chr5-batch8_10.txt\n",
      "+ set +x\n",
      "+ /opt/data/software/conda_envs/summary_gwas_imputation/bin/python /opt/data/software/summary-gwas-imputation/src/gwas_summary_imputation.py -by_region_file /opt/data/data/eur_ld.bed.gz -gwas_file /opt/data/projects/asthma-copd/results/harmonized_gwas/GWAS_Asthma_only_GLM_SNPs_info0.7-harmonized.txt -parquet_genotype /opt/data/data/phenomexcan/ld_blocks/reference_panel_1000G/chr5.variants.parquet -parquet_genotype_metadata /opt/data/data/phenomexcan/ld_blocks/reference_panel_1000G/variant_metadata.parquet -window 100000 -parsimony 7 -chromosome 5 -regularization 0.1 -frequency_filter 0.01 -sub_batches 10 -sub_batch 9 --standardise_dosages -output /opt/data/projects/asthma-copd/results/imputed_gwas/GWAS_Asthma_only_GLM_SNPs_info0.7-harmonized-imputed-chr5-batch9_10.txt\n",
      "+ set +x\n",
      "+ /opt/data/software/conda_envs/summary_gwas_imputation/bin/python /opt/data/software/summary-gwas-imputation/src/gwas_summary_imputation.py -by_region_file /opt/data/data/eur_ld.bed.gz -gwas_file /opt/data/projects/asthma-copd/results/harmonized_gwas/GWAS_Asthma_only_GLM_SNPs_info0.7-harmonized.txt -parquet_genotype /opt/data/data/phenomexcan/ld_blocks/reference_panel_1000G/chr6.variants.parquet -parquet_genotype_metadata /opt/data/data/phenomexcan/ld_blocks/reference_panel_1000G/variant_metadata.parquet -window 100000 -parsimony 7 -chromosome 6 -regularization 0.1 -frequency_filter 0.01 -sub_batches 10 -sub_batch 0 --standardise_dosages -output /opt/data/projects/asthma-copd/results/imputed_gwas/GWAS_Asthma_only_GLM_SNPs_info0.7-harmonized-imputed-chr6-batch0_10.txt\n",
      "+ set +x\n"
     ]
    },
    {
     "name": "stdout",
     "output_type": "stream",
     "text": [
      "Running for asthma_only, 6, 1\n",
      "Saving results in /opt/data/projects/asthma-copd/results/imputed_gwas\n"
     ]
    },
    {
     "name": "stderr",
     "output_type": "stream",
     "text": [
      "+ /opt/data/software/conda_envs/summary_gwas_imputation/bin/python /opt/data/software/summary-gwas-imputation/src/gwas_summary_imputation.py -by_region_file /opt/data/data/eur_ld.bed.gz -gwas_file /opt/data/projects/asthma-copd/results/harmonized_gwas/GWAS_Asthma_only_GLM_SNPs_info0.7-harmonized.txt -parquet_genotype /opt/data/data/phenomexcan/ld_blocks/reference_panel_1000G/chr6.variants.parquet -parquet_genotype_metadata /opt/data/data/phenomexcan/ld_blocks/reference_panel_1000G/variant_metadata.parquet -window 100000 -parsimony 7 -chromosome 6 -regularization 0.1 -frequency_filter 0.01 -sub_batches 10 -sub_batch 1 --standardise_dosages -output /opt/data/projects/asthma-copd/results/imputed_gwas/GWAS_Asthma_only_GLM_SNPs_info0.7-harmonized-imputed-chr6-batch1_10.txt\n"
     ]
    },
    {
     "name": "stdout",
     "output_type": "stream",
     "text": [
      "/opt/data/software/conda_envs/summary_gwas_imputation/lib/python3.7/site-packages/pyarrow/pandas_compat.py:752: FutureWarning: .labels was deprecated in version 0.24.0. Use .codes instead.\n",
      "\n"
     ]
    },
    {
     "name": "stderr",
     "output_type": "stream",
     "text": [
      "+ set +x\n"
     ]
    },
    {
     "name": "stdout",
     "output_type": "stream",
     "text": [
      "Running for asthma_only, 6, 2\n",
      "Saving results in /opt/data/projects/asthma-copd/results/imputed_gwas\n"
     ]
    },
    {
     "name": "stderr",
     "output_type": "stream",
     "text": [
      "+ /opt/data/software/conda_envs/summary_gwas_imputation/bin/python /opt/data/software/summary-gwas-imputation/src/gwas_summary_imputation.py -by_region_file /opt/data/data/eur_ld.bed.gz -gwas_file /opt/data/projects/asthma-copd/results/harmonized_gwas/GWAS_Asthma_only_GLM_SNPs_info0.7-harmonized.txt -parquet_genotype /opt/data/data/phenomexcan/ld_blocks/reference_panel_1000G/chr6.variants.parquet -parquet_genotype_metadata /opt/data/data/phenomexcan/ld_blocks/reference_panel_1000G/variant_metadata.parquet -window 100000 -parsimony 7 -chromosome 6 -regularization 0.1 -frequency_filter 0.01 -sub_batches 10 -sub_batch 2 --standardise_dosages -output /opt/data/projects/asthma-copd/results/imputed_gwas/GWAS_Asthma_only_GLM_SNPs_info0.7-harmonized-imputed-chr6-batch2_10.txt\n"
     ]
    },
    {
     "name": "stdout",
     "output_type": "stream",
     "text": [
      "/opt/data/software/conda_envs/summary_gwas_imputation/lib/python3.7/site-packages/pyarrow/pandas_compat.py:752: FutureWarning: .labels was deprecated in version 0.24.0. Use .codes instead.\n",
      "\n"
     ]
    },
    {
     "name": "stderr",
     "output_type": "stream",
     "text": [
      "+ set +x\n"
     ]
    },
    {
     "name": "stdout",
     "output_type": "stream",
     "text": [
      "Running for asthma_only, 6, 3\n",
      "Saving results in /opt/data/projects/asthma-copd/results/imputed_gwas\n",
      "/opt/data/software/conda_envs/summary_gwas_imputation/lib/python3.7/site-packages/pyarrow/pandas_compat.py:752: FutureWarning: .labels was deprecated in version 0.24.0. Use .codes instead.\n",
      "\n",
      "Running for asthma_only, 6, 4\n",
      "Saving results in /opt/data/projects/asthma-copd/results/imputed_gwas\n",
      "/opt/data/software/conda_envs/summary_gwas_imputation/lib/python3.7/site-packages/pyarrow/pandas_compat.py:752: FutureWarning: .labels was deprecated in version 0.24.0. Use .codes instead.\n",
      "\n",
      "Running for asthma_only, 6, 5\n",
      "Saving results in /opt/data/projects/asthma-copd/results/imputed_gwas\n",
      "/opt/data/software/conda_envs/summary_gwas_imputation/lib/python3.7/site-packages/pyarrow/pandas_compat.py:752: FutureWarning: .labels was deprecated in version 0.24.0. Use .codes instead.\n",
      "\n",
      "Running for asthma_only, 6, 6\n",
      "Saving results in /opt/data/projects/asthma-copd/results/imputed_gwas\n",
      "/opt/data/software/conda_envs/summary_gwas_imputation/lib/python3.7/site-packages/pyarrow/pandas_compat.py:752: FutureWarning: .labels was deprecated in version 0.24.0. Use .codes instead.\n",
      "\n",
      "Running for asthma_only, 6, 7\n",
      "Saving results in /opt/data/projects/asthma-copd/results/imputed_gwas\n",
      "/opt/data/software/conda_envs/summary_gwas_imputation/lib/python3.7/site-packages/pyarrow/pandas_compat.py:752: FutureWarning: .labels was deprecated in version 0.24.0. Use .codes instead.\n",
      "\n"
     ]
    },
    {
     "name": "stderr",
     "output_type": "stream",
     "text": [
      "+ /opt/data/software/conda_envs/summary_gwas_imputation/bin/python /opt/data/software/summary-gwas-imputation/src/gwas_summary_imputation.py -by_region_file /opt/data/data/eur_ld.bed.gz -gwas_file /opt/data/projects/asthma-copd/results/harmonized_gwas/GWAS_Asthma_only_GLM_SNPs_info0.7-harmonized.txt -parquet_genotype /opt/data/data/phenomexcan/ld_blocks/reference_panel_1000G/chr6.variants.parquet -parquet_genotype_metadata /opt/data/data/phenomexcan/ld_blocks/reference_panel_1000G/variant_metadata.parquet -window 100000 -parsimony 7 -chromosome 6 -regularization 0.1 -frequency_filter 0.01 -sub_batches 10 -sub_batch 3 --standardise_dosages -output /opt/data/projects/asthma-copd/results/imputed_gwas/GWAS_Asthma_only_GLM_SNPs_info0.7-harmonized-imputed-chr6-batch3_10.txt\n",
      "+ set +x\n",
      "+ /opt/data/software/conda_envs/summary_gwas_imputation/bin/python /opt/data/software/summary-gwas-imputation/src/gwas_summary_imputation.py -by_region_file /opt/data/data/eur_ld.bed.gz -gwas_file /opt/data/projects/asthma-copd/results/harmonized_gwas/GWAS_Asthma_only_GLM_SNPs_info0.7-harmonized.txt -parquet_genotype /opt/data/data/phenomexcan/ld_blocks/reference_panel_1000G/chr6.variants.parquet -parquet_genotype_metadata /opt/data/data/phenomexcan/ld_blocks/reference_panel_1000G/variant_metadata.parquet -window 100000 -parsimony 7 -chromosome 6 -regularization 0.1 -frequency_filter 0.01 -sub_batches 10 -sub_batch 4 --standardise_dosages -output /opt/data/projects/asthma-copd/results/imputed_gwas/GWAS_Asthma_only_GLM_SNPs_info0.7-harmonized-imputed-chr6-batch4_10.txt\n",
      "+ set +x\n",
      "+ /opt/data/software/conda_envs/summary_gwas_imputation/bin/python /opt/data/software/summary-gwas-imputation/src/gwas_summary_imputation.py -by_region_file /opt/data/data/eur_ld.bed.gz -gwas_file /opt/data/projects/asthma-copd/results/harmonized_gwas/GWAS_Asthma_only_GLM_SNPs_info0.7-harmonized.txt -parquet_genotype /opt/data/data/phenomexcan/ld_blocks/reference_panel_1000G/chr6.variants.parquet -parquet_genotype_metadata /opt/data/data/phenomexcan/ld_blocks/reference_panel_1000G/variant_metadata.parquet -window 100000 -parsimony 7 -chromosome 6 -regularization 0.1 -frequency_filter 0.01 -sub_batches 10 -sub_batch 5 --standardise_dosages -output /opt/data/projects/asthma-copd/results/imputed_gwas/GWAS_Asthma_only_GLM_SNPs_info0.7-harmonized-imputed-chr6-batch5_10.txt\n",
      "+ set +x\n",
      "+ /opt/data/software/conda_envs/summary_gwas_imputation/bin/python /opt/data/software/summary-gwas-imputation/src/gwas_summary_imputation.py -by_region_file /opt/data/data/eur_ld.bed.gz -gwas_file /opt/data/projects/asthma-copd/results/harmonized_gwas/GWAS_Asthma_only_GLM_SNPs_info0.7-harmonized.txt -parquet_genotype /opt/data/data/phenomexcan/ld_blocks/reference_panel_1000G/chr6.variants.parquet -parquet_genotype_metadata /opt/data/data/phenomexcan/ld_blocks/reference_panel_1000G/variant_metadata.parquet -window 100000 -parsimony 7 -chromosome 6 -regularization 0.1 -frequency_filter 0.01 -sub_batches 10 -sub_batch 6 --standardise_dosages -output /opt/data/projects/asthma-copd/results/imputed_gwas/GWAS_Asthma_only_GLM_SNPs_info0.7-harmonized-imputed-chr6-batch6_10.txt\n",
      "+ set +x\n",
      "+ /opt/data/software/conda_envs/summary_gwas_imputation/bin/python /opt/data/software/summary-gwas-imputation/src/gwas_summary_imputation.py -by_region_file /opt/data/data/eur_ld.bed.gz -gwas_file /opt/data/projects/asthma-copd/results/harmonized_gwas/GWAS_Asthma_only_GLM_SNPs_info0.7-harmonized.txt -parquet_genotype /opt/data/data/phenomexcan/ld_blocks/reference_panel_1000G/chr6.variants.parquet -parquet_genotype_metadata /opt/data/data/phenomexcan/ld_blocks/reference_panel_1000G/variant_metadata.parquet -window 100000 -parsimony 7 -chromosome 6 -regularization 0.1 -frequency_filter 0.01 -sub_batches 10 -sub_batch 7 --standardise_dosages -output /opt/data/projects/asthma-copd/results/imputed_gwas/GWAS_Asthma_only_GLM_SNPs_info0.7-harmonized-imputed-chr6-batch7_10.txt\n",
      "+ set +x\n"
     ]
    },
    {
     "name": "stdout",
     "output_type": "stream",
     "text": [
      "Running for asthma_only, 6, 8\n",
      "Saving results in /opt/data/projects/asthma-copd/results/imputed_gwas\n",
      "/opt/data/software/conda_envs/summary_gwas_imputation/lib/python3.7/site-packages/pyarrow/pandas_compat.py:752: FutureWarning: .labels was deprecated in version 0.24.0. Use .codes instead.\n",
      "\n",
      "Running for asthma_only, 6, 9\n",
      "Saving results in /opt/data/projects/asthma-copd/results/imputed_gwas\n",
      "/opt/data/software/conda_envs/summary_gwas_imputation/lib/python3.7/site-packages/pyarrow/pandas_compat.py:752: FutureWarning: .labels was deprecated in version 0.24.0. Use .codes instead.\n",
      "\n",
      "Running for asthma_only, 7, 0\n",
      "Saving results in /opt/data/projects/asthma-copd/results/imputed_gwas\n",
      "/opt/data/software/conda_envs/summary_gwas_imputation/lib/python3.7/site-packages/pyarrow/pandas_compat.py:752: FutureWarning: .labels was deprecated in version 0.24.0. Use .codes instead.\n",
      "\n",
      "Running for asthma_only, 7, 1\n",
      "Saving results in /opt/data/projects/asthma-copd/results/imputed_gwas\n",
      "/opt/data/software/conda_envs/summary_gwas_imputation/lib/python3.7/site-packages/pyarrow/pandas_compat.py:752: FutureWarning: .labels was deprecated in version 0.24.0. Use .codes instead.\n",
      "\n",
      "Running for asthma_only, 7, 2\n",
      "Saving results in /opt/data/projects/asthma-copd/results/imputed_gwas\n",
      "/opt/data/software/conda_envs/summary_gwas_imputation/lib/python3.7/site-packages/pyarrow/pandas_compat.py:752: FutureWarning: .labels was deprecated in version 0.24.0. Use .codes instead.\n",
      "\n",
      "Running for asthma_only, 7, 3\n",
      "Saving results in /opt/data/projects/asthma-copd/results/imputed_gwas\n",
      "/opt/data/software/conda_envs/summary_gwas_imputation/lib/python3.7/site-packages/pyarrow/pandas_compat.py:752: FutureWarning: .labels was deprecated in version 0.24.0. Use .codes instead.\n",
      "\n",
      "Running for asthma_only, 7, 4\n",
      "Saving results in /opt/data/projects/asthma-copd/results/imputed_gwas\n",
      "/opt/data/software/conda_envs/summary_gwas_imputation/lib/python3.7/site-packages/pyarrow/pandas_compat.py:752: FutureWarning: .labels was deprecated in version 0.24.0. Use .codes instead.\n",
      "\n",
      "Running for asthma_only, 7, 5\n",
      "Saving results in /opt/data/projects/asthma-copd/results/imputed_gwas\n",
      "/opt/data/software/conda_envs/summary_gwas_imputation/lib/python3.7/site-packages/pyarrow/pandas_compat.py:752: FutureWarning: .labels was deprecated in version 0.24.0. Use .codes instead.\n",
      "\n",
      "Running for asthma_only, 7, 6\n",
      "Saving results in /opt/data/projects/asthma-copd/results/imputed_gwas\n",
      "/opt/data/software/conda_envs/summary_gwas_imputation/lib/python3.7/site-packages/pyarrow/pandas_compat.py:752: FutureWarning: .labels was deprecated in version 0.24.0. Use .codes instead.\n",
      "\n",
      "Running for asthma_only, 7, 7\n",
      "Saving results in /opt/data/projects/asthma-copd/results/imputed_gwas\n",
      "/opt/data/software/conda_envs/summary_gwas_imputation/lib/python3.7/site-packages/pyarrow/pandas_compat.py:752: FutureWarning: .labels was deprecated in version 0.24.0. Use .codes instead.\n",
      "\n",
      "Running for asthma_only, 7, 8\n",
      "Saving results in /opt/data/projects/asthma-copd/results/imputed_gwas\n",
      "/opt/data/software/conda_envs/summary_gwas_imputation/lib/python3.7/site-packages/pyarrow/pandas_compat.py:752: FutureWarning: .labels was deprecated in version 0.24.0. Use .codes instead.\n",
      "\n",
      "Running for asthma_only, 7, 9\n",
      "Saving results in /opt/data/projects/asthma-copd/results/imputed_gwas\n",
      "/opt/data/software/conda_envs/summary_gwas_imputation/lib/python3.7/site-packages/pyarrow/pandas_compat.py:752: FutureWarning: .labels was deprecated in version 0.24.0. Use .codes instead.\n",
      "\n",
      "Running for asthma_only, 8, 0\n",
      "Saving results in /opt/data/projects/asthma-copd/results/imputed_gwas\n",
      "/opt/data/software/conda_envs/summary_gwas_imputation/lib/python3.7/site-packages/pyarrow/pandas_compat.py:752: FutureWarning: .labels was deprecated in version 0.24.0. Use .codes instead.\n",
      "\n",
      "Running for asthma_only, 8, 1\n",
      "Saving results in /opt/data/projects/asthma-copd/results/imputed_gwas\n",
      "/opt/data/software/conda_envs/summary_gwas_imputation/lib/python3.7/site-packages/pyarrow/pandas_compat.py:752: FutureWarning: .labels was deprecated in version 0.24.0. Use .codes instead.\n",
      "\n",
      "Running for asthma_only, 8, 2\n",
      "Saving results in /opt/data/projects/asthma-copd/results/imputed_gwas\n",
      "/opt/data/software/conda_envs/summary_gwas_imputation/lib/python3.7/site-packages/pyarrow/pandas_compat.py:752: FutureWarning: .labels was deprecated in version 0.24.0. Use .codes instead.\n",
      "\n",
      "Running for asthma_only, 8, 3\n",
      "Saving results in /opt/data/projects/asthma-copd/results/imputed_gwas\n",
      "/opt/data/software/conda_envs/summary_gwas_imputation/lib/python3.7/site-packages/pyarrow/pandas_compat.py:752: FutureWarning: .labels was deprecated in version 0.24.0. Use .codes instead.\n",
      "\n",
      "Running for asthma_only, 8, 4\n",
      "Saving results in /opt/data/projects/asthma-copd/results/imputed_gwas\n",
      "/opt/data/software/conda_envs/summary_gwas_imputation/lib/python3.7/site-packages/pyarrow/pandas_compat.py:752: FutureWarning: .labels was deprecated in version 0.24.0. Use .codes instead.\n",
      "\n",
      "Running for asthma_only, 8, 5\n",
      "Saving results in /opt/data/projects/asthma-copd/results/imputed_gwas\n",
      "/opt/data/software/conda_envs/summary_gwas_imputation/lib/python3.7/site-packages/pyarrow/pandas_compat.py:752: FutureWarning: .labels was deprecated in version 0.24.0. Use .codes instead.\n",
      "\n",
      "Running for asthma_only, 8, 6\n",
      "Saving results in /opt/data/projects/asthma-copd/results/imputed_gwas\n",
      "/opt/data/software/conda_envs/summary_gwas_imputation/lib/python3.7/site-packages/pyarrow/pandas_compat.py:752: FutureWarning: .labels was deprecated in version 0.24.0. Use .codes instead.\n",
      "INFO - Error for region (8,95522578.0,98389353.0): LinAlgError('SVD did not converge')\n",
      "\n",
      "Running for asthma_only, 8, 7\n",
      "Saving results in /opt/data/projects/asthma-copd/results/imputed_gwas\n",
      "/opt/data/software/conda_envs/summary_gwas_imputation/lib/python3.7/site-packages/pyarrow/pandas_compat.py:752: FutureWarning: .labels was deprecated in version 0.24.0. Use .codes instead.\n",
      "\n",
      "Running for asthma_only, 8, 8\n",
      "Saving results in /opt/data/projects/asthma-copd/results/imputed_gwas\n"
     ]
    },
    {
     "name": "stderr",
     "output_type": "stream",
     "text": [
      "+ /opt/data/software/conda_envs/summary_gwas_imputation/bin/python /opt/data/software/summary-gwas-imputation/src/gwas_summary_imputation.py -by_region_file /opt/data/data/eur_ld.bed.gz -gwas_file /opt/data/projects/asthma-copd/results/harmonized_gwas/GWAS_Asthma_only_GLM_SNPs_info0.7-harmonized.txt -parquet_genotype /opt/data/data/phenomexcan/ld_blocks/reference_panel_1000G/chr6.variants.parquet -parquet_genotype_metadata /opt/data/data/phenomexcan/ld_blocks/reference_panel_1000G/variant_metadata.parquet -window 100000 -parsimony 7 -chromosome 6 -regularization 0.1 -frequency_filter 0.01 -sub_batches 10 -sub_batch 8 --standardise_dosages -output /opt/data/projects/asthma-copd/results/imputed_gwas/GWAS_Asthma_only_GLM_SNPs_info0.7-harmonized-imputed-chr6-batch8_10.txt\n",
      "+ set +x\n",
      "+ /opt/data/software/conda_envs/summary_gwas_imputation/bin/python /opt/data/software/summary-gwas-imputation/src/gwas_summary_imputation.py -by_region_file /opt/data/data/eur_ld.bed.gz -gwas_file /opt/data/projects/asthma-copd/results/harmonized_gwas/GWAS_Asthma_only_GLM_SNPs_info0.7-harmonized.txt -parquet_genotype /opt/data/data/phenomexcan/ld_blocks/reference_panel_1000G/chr6.variants.parquet -parquet_genotype_metadata /opt/data/data/phenomexcan/ld_blocks/reference_panel_1000G/variant_metadata.parquet -window 100000 -parsimony 7 -chromosome 6 -regularization 0.1 -frequency_filter 0.01 -sub_batches 10 -sub_batch 9 --standardise_dosages -output /opt/data/projects/asthma-copd/results/imputed_gwas/GWAS_Asthma_only_GLM_SNPs_info0.7-harmonized-imputed-chr6-batch9_10.txt\n",
      "+ set +x\n",
      "+ /opt/data/software/conda_envs/summary_gwas_imputation/bin/python /opt/data/software/summary-gwas-imputation/src/gwas_summary_imputation.py -by_region_file /opt/data/data/eur_ld.bed.gz -gwas_file /opt/data/projects/asthma-copd/results/harmonized_gwas/GWAS_Asthma_only_GLM_SNPs_info0.7-harmonized.txt -parquet_genotype /opt/data/data/phenomexcan/ld_blocks/reference_panel_1000G/chr7.variants.parquet -parquet_genotype_metadata /opt/data/data/phenomexcan/ld_blocks/reference_panel_1000G/variant_metadata.parquet -window 100000 -parsimony 7 -chromosome 7 -regularization 0.1 -frequency_filter 0.01 -sub_batches 10 -sub_batch 0 --standardise_dosages -output /opt/data/projects/asthma-copd/results/imputed_gwas/GWAS_Asthma_only_GLM_SNPs_info0.7-harmonized-imputed-chr7-batch0_10.txt\n",
      "+ set +x\n",
      "+ /opt/data/software/conda_envs/summary_gwas_imputation/bin/python /opt/data/software/summary-gwas-imputation/src/gwas_summary_imputation.py -by_region_file /opt/data/data/eur_ld.bed.gz -gwas_file /opt/data/projects/asthma-copd/results/harmonized_gwas/GWAS_Asthma_only_GLM_SNPs_info0.7-harmonized.txt -parquet_genotype /opt/data/data/phenomexcan/ld_blocks/reference_panel_1000G/chr7.variants.parquet -parquet_genotype_metadata /opt/data/data/phenomexcan/ld_blocks/reference_panel_1000G/variant_metadata.parquet -window 100000 -parsimony 7 -chromosome 7 -regularization 0.1 -frequency_filter 0.01 -sub_batches 10 -sub_batch 1 --standardise_dosages -output /opt/data/projects/asthma-copd/results/imputed_gwas/GWAS_Asthma_only_GLM_SNPs_info0.7-harmonized-imputed-chr7-batch1_10.txt\n",
      "+ set +x\n",
      "+ /opt/data/software/conda_envs/summary_gwas_imputation/bin/python /opt/data/software/summary-gwas-imputation/src/gwas_summary_imputation.py -by_region_file /opt/data/data/eur_ld.bed.gz -gwas_file /opt/data/projects/asthma-copd/results/harmonized_gwas/GWAS_Asthma_only_GLM_SNPs_info0.7-harmonized.txt -parquet_genotype /opt/data/data/phenomexcan/ld_blocks/reference_panel_1000G/chr7.variants.parquet -parquet_genotype_metadata /opt/data/data/phenomexcan/ld_blocks/reference_panel_1000G/variant_metadata.parquet -window 100000 -parsimony 7 -chromosome 7 -regularization 0.1 -frequency_filter 0.01 -sub_batches 10 -sub_batch 2 --standardise_dosages -output /opt/data/projects/asthma-copd/results/imputed_gwas/GWAS_Asthma_only_GLM_SNPs_info0.7-harmonized-imputed-chr7-batch2_10.txt\n",
      "+ set +x\n",
      "+ /opt/data/software/conda_envs/summary_gwas_imputation/bin/python /opt/data/software/summary-gwas-imputation/src/gwas_summary_imputation.py -by_region_file /opt/data/data/eur_ld.bed.gz -gwas_file /opt/data/projects/asthma-copd/results/harmonized_gwas/GWAS_Asthma_only_GLM_SNPs_info0.7-harmonized.txt -parquet_genotype /opt/data/data/phenomexcan/ld_blocks/reference_panel_1000G/chr7.variants.parquet -parquet_genotype_metadata /opt/data/data/phenomexcan/ld_blocks/reference_panel_1000G/variant_metadata.parquet -window 100000 -parsimony 7 -chromosome 7 -regularization 0.1 -frequency_filter 0.01 -sub_batches 10 -sub_batch 3 --standardise_dosages -output /opt/data/projects/asthma-copd/results/imputed_gwas/GWAS_Asthma_only_GLM_SNPs_info0.7-harmonized-imputed-chr7-batch3_10.txt\n",
      "+ set +x\n",
      "+ /opt/data/software/conda_envs/summary_gwas_imputation/bin/python /opt/data/software/summary-gwas-imputation/src/gwas_summary_imputation.py -by_region_file /opt/data/data/eur_ld.bed.gz -gwas_file /opt/data/projects/asthma-copd/results/harmonized_gwas/GWAS_Asthma_only_GLM_SNPs_info0.7-harmonized.txt -parquet_genotype /opt/data/data/phenomexcan/ld_blocks/reference_panel_1000G/chr7.variants.parquet -parquet_genotype_metadata /opt/data/data/phenomexcan/ld_blocks/reference_panel_1000G/variant_metadata.parquet -window 100000 -parsimony 7 -chromosome 7 -regularization 0.1 -frequency_filter 0.01 -sub_batches 10 -sub_batch 4 --standardise_dosages -output /opt/data/projects/asthma-copd/results/imputed_gwas/GWAS_Asthma_only_GLM_SNPs_info0.7-harmonized-imputed-chr7-batch4_10.txt\n",
      "+ set +x\n",
      "+ /opt/data/software/conda_envs/summary_gwas_imputation/bin/python /opt/data/software/summary-gwas-imputation/src/gwas_summary_imputation.py -by_region_file /opt/data/data/eur_ld.bed.gz -gwas_file /opt/data/projects/asthma-copd/results/harmonized_gwas/GWAS_Asthma_only_GLM_SNPs_info0.7-harmonized.txt -parquet_genotype /opt/data/data/phenomexcan/ld_blocks/reference_panel_1000G/chr7.variants.parquet -parquet_genotype_metadata /opt/data/data/phenomexcan/ld_blocks/reference_panel_1000G/variant_metadata.parquet -window 100000 -parsimony 7 -chromosome 7 -regularization 0.1 -frequency_filter 0.01 -sub_batches 10 -sub_batch 5 --standardise_dosages -output /opt/data/projects/asthma-copd/results/imputed_gwas/GWAS_Asthma_only_GLM_SNPs_info0.7-harmonized-imputed-chr7-batch5_10.txt\n",
      "+ set +x\n",
      "+ /opt/data/software/conda_envs/summary_gwas_imputation/bin/python /opt/data/software/summary-gwas-imputation/src/gwas_summary_imputation.py -by_region_file /opt/data/data/eur_ld.bed.gz -gwas_file /opt/data/projects/asthma-copd/results/harmonized_gwas/GWAS_Asthma_only_GLM_SNPs_info0.7-harmonized.txt -parquet_genotype /opt/data/data/phenomexcan/ld_blocks/reference_panel_1000G/chr7.variants.parquet -parquet_genotype_metadata /opt/data/data/phenomexcan/ld_blocks/reference_panel_1000G/variant_metadata.parquet -window 100000 -parsimony 7 -chromosome 7 -regularization 0.1 -frequency_filter 0.01 -sub_batches 10 -sub_batch 6 --standardise_dosages -output /opt/data/projects/asthma-copd/results/imputed_gwas/GWAS_Asthma_only_GLM_SNPs_info0.7-harmonized-imputed-chr7-batch6_10.txt\n",
      "+ set +x\n",
      "+ /opt/data/software/conda_envs/summary_gwas_imputation/bin/python /opt/data/software/summary-gwas-imputation/src/gwas_summary_imputation.py -by_region_file /opt/data/data/eur_ld.bed.gz -gwas_file /opt/data/projects/asthma-copd/results/harmonized_gwas/GWAS_Asthma_only_GLM_SNPs_info0.7-harmonized.txt -parquet_genotype /opt/data/data/phenomexcan/ld_blocks/reference_panel_1000G/chr7.variants.parquet -parquet_genotype_metadata /opt/data/data/phenomexcan/ld_blocks/reference_panel_1000G/variant_metadata.parquet -window 100000 -parsimony 7 -chromosome 7 -regularization 0.1 -frequency_filter 0.01 -sub_batches 10 -sub_batch 7 --standardise_dosages -output /opt/data/projects/asthma-copd/results/imputed_gwas/GWAS_Asthma_only_GLM_SNPs_info0.7-harmonized-imputed-chr7-batch7_10.txt\n",
      "+ set +x\n",
      "+ /opt/data/software/conda_envs/summary_gwas_imputation/bin/python /opt/data/software/summary-gwas-imputation/src/gwas_summary_imputation.py -by_region_file /opt/data/data/eur_ld.bed.gz -gwas_file /opt/data/projects/asthma-copd/results/harmonized_gwas/GWAS_Asthma_only_GLM_SNPs_info0.7-harmonized.txt -parquet_genotype /opt/data/data/phenomexcan/ld_blocks/reference_panel_1000G/chr7.variants.parquet -parquet_genotype_metadata /opt/data/data/phenomexcan/ld_blocks/reference_panel_1000G/variant_metadata.parquet -window 100000 -parsimony 7 -chromosome 7 -regularization 0.1 -frequency_filter 0.01 -sub_batches 10 -sub_batch 8 --standardise_dosages -output /opt/data/projects/asthma-copd/results/imputed_gwas/GWAS_Asthma_only_GLM_SNPs_info0.7-harmonized-imputed-chr7-batch8_10.txt\n",
      "+ set +x\n",
      "+ /opt/data/software/conda_envs/summary_gwas_imputation/bin/python /opt/data/software/summary-gwas-imputation/src/gwas_summary_imputation.py -by_region_file /opt/data/data/eur_ld.bed.gz -gwas_file /opt/data/projects/asthma-copd/results/harmonized_gwas/GWAS_Asthma_only_GLM_SNPs_info0.7-harmonized.txt -parquet_genotype /opt/data/data/phenomexcan/ld_blocks/reference_panel_1000G/chr7.variants.parquet -parquet_genotype_metadata /opt/data/data/phenomexcan/ld_blocks/reference_panel_1000G/variant_metadata.parquet -window 100000 -parsimony 7 -chromosome 7 -regularization 0.1 -frequency_filter 0.01 -sub_batches 10 -sub_batch 9 --standardise_dosages -output /opt/data/projects/asthma-copd/results/imputed_gwas/GWAS_Asthma_only_GLM_SNPs_info0.7-harmonized-imputed-chr7-batch9_10.txt\n",
      "+ set +x\n",
      "+ /opt/data/software/conda_envs/summary_gwas_imputation/bin/python /opt/data/software/summary-gwas-imputation/src/gwas_summary_imputation.py -by_region_file /opt/data/data/eur_ld.bed.gz -gwas_file /opt/data/projects/asthma-copd/results/harmonized_gwas/GWAS_Asthma_only_GLM_SNPs_info0.7-harmonized.txt -parquet_genotype /opt/data/data/phenomexcan/ld_blocks/reference_panel_1000G/chr8.variants.parquet -parquet_genotype_metadata /opt/data/data/phenomexcan/ld_blocks/reference_panel_1000G/variant_metadata.parquet -window 100000 -parsimony 7 -chromosome 8 -regularization 0.1 -frequency_filter 0.01 -sub_batches 10 -sub_batch 0 --standardise_dosages -output /opt/data/projects/asthma-copd/results/imputed_gwas/GWAS_Asthma_only_GLM_SNPs_info0.7-harmonized-imputed-chr8-batch0_10.txt\n",
      "+ set +x\n",
      "+ /opt/data/software/conda_envs/summary_gwas_imputation/bin/python /opt/data/software/summary-gwas-imputation/src/gwas_summary_imputation.py -by_region_file /opt/data/data/eur_ld.bed.gz -gwas_file /opt/data/projects/asthma-copd/results/harmonized_gwas/GWAS_Asthma_only_GLM_SNPs_info0.7-harmonized.txt -parquet_genotype /opt/data/data/phenomexcan/ld_blocks/reference_panel_1000G/chr8.variants.parquet -parquet_genotype_metadata /opt/data/data/phenomexcan/ld_blocks/reference_panel_1000G/variant_metadata.parquet -window 100000 -parsimony 7 -chromosome 8 -regularization 0.1 -frequency_filter 0.01 -sub_batches 10 -sub_batch 1 --standardise_dosages -output /opt/data/projects/asthma-copd/results/imputed_gwas/GWAS_Asthma_only_GLM_SNPs_info0.7-harmonized-imputed-chr8-batch1_10.txt\n",
      "+ set +x\n",
      "+ /opt/data/software/conda_envs/summary_gwas_imputation/bin/python /opt/data/software/summary-gwas-imputation/src/gwas_summary_imputation.py -by_region_file /opt/data/data/eur_ld.bed.gz -gwas_file /opt/data/projects/asthma-copd/results/harmonized_gwas/GWAS_Asthma_only_GLM_SNPs_info0.7-harmonized.txt -parquet_genotype /opt/data/data/phenomexcan/ld_blocks/reference_panel_1000G/chr8.variants.parquet -parquet_genotype_metadata /opt/data/data/phenomexcan/ld_blocks/reference_panel_1000G/variant_metadata.parquet -window 100000 -parsimony 7 -chromosome 8 -regularization 0.1 -frequency_filter 0.01 -sub_batches 10 -sub_batch 2 --standardise_dosages -output /opt/data/projects/asthma-copd/results/imputed_gwas/GWAS_Asthma_only_GLM_SNPs_info0.7-harmonized-imputed-chr8-batch2_10.txt\n",
      "+ set +x\n",
      "+ /opt/data/software/conda_envs/summary_gwas_imputation/bin/python /opt/data/software/summary-gwas-imputation/src/gwas_summary_imputation.py -by_region_file /opt/data/data/eur_ld.bed.gz -gwas_file /opt/data/projects/asthma-copd/results/harmonized_gwas/GWAS_Asthma_only_GLM_SNPs_info0.7-harmonized.txt -parquet_genotype /opt/data/data/phenomexcan/ld_blocks/reference_panel_1000G/chr8.variants.parquet -parquet_genotype_metadata /opt/data/data/phenomexcan/ld_blocks/reference_panel_1000G/variant_metadata.parquet -window 100000 -parsimony 7 -chromosome 8 -regularization 0.1 -frequency_filter 0.01 -sub_batches 10 -sub_batch 3 --standardise_dosages -output /opt/data/projects/asthma-copd/results/imputed_gwas/GWAS_Asthma_only_GLM_SNPs_info0.7-harmonized-imputed-chr8-batch3_10.txt\n",
      "+ set +x\n",
      "+ /opt/data/software/conda_envs/summary_gwas_imputation/bin/python /opt/data/software/summary-gwas-imputation/src/gwas_summary_imputation.py -by_region_file /opt/data/data/eur_ld.bed.gz -gwas_file /opt/data/projects/asthma-copd/results/harmonized_gwas/GWAS_Asthma_only_GLM_SNPs_info0.7-harmonized.txt -parquet_genotype /opt/data/data/phenomexcan/ld_blocks/reference_panel_1000G/chr8.variants.parquet -parquet_genotype_metadata /opt/data/data/phenomexcan/ld_blocks/reference_panel_1000G/variant_metadata.parquet -window 100000 -parsimony 7 -chromosome 8 -regularization 0.1 -frequency_filter 0.01 -sub_batches 10 -sub_batch 4 --standardise_dosages -output /opt/data/projects/asthma-copd/results/imputed_gwas/GWAS_Asthma_only_GLM_SNPs_info0.7-harmonized-imputed-chr8-batch4_10.txt\n",
      "+ set +x\n",
      "+ /opt/data/software/conda_envs/summary_gwas_imputation/bin/python /opt/data/software/summary-gwas-imputation/src/gwas_summary_imputation.py -by_region_file /opt/data/data/eur_ld.bed.gz -gwas_file /opt/data/projects/asthma-copd/results/harmonized_gwas/GWAS_Asthma_only_GLM_SNPs_info0.7-harmonized.txt -parquet_genotype /opt/data/data/phenomexcan/ld_blocks/reference_panel_1000G/chr8.variants.parquet -parquet_genotype_metadata /opt/data/data/phenomexcan/ld_blocks/reference_panel_1000G/variant_metadata.parquet -window 100000 -parsimony 7 -chromosome 8 -regularization 0.1 -frequency_filter 0.01 -sub_batches 10 -sub_batch 5 --standardise_dosages -output /opt/data/projects/asthma-copd/results/imputed_gwas/GWAS_Asthma_only_GLM_SNPs_info0.7-harmonized-imputed-chr8-batch5_10.txt\n",
      "+ set +x\n",
      "+ /opt/data/software/conda_envs/summary_gwas_imputation/bin/python /opt/data/software/summary-gwas-imputation/src/gwas_summary_imputation.py -by_region_file /opt/data/data/eur_ld.bed.gz -gwas_file /opt/data/projects/asthma-copd/results/harmonized_gwas/GWAS_Asthma_only_GLM_SNPs_info0.7-harmonized.txt -parquet_genotype /opt/data/data/phenomexcan/ld_blocks/reference_panel_1000G/chr8.variants.parquet -parquet_genotype_metadata /opt/data/data/phenomexcan/ld_blocks/reference_panel_1000G/variant_metadata.parquet -window 100000 -parsimony 7 -chromosome 8 -regularization 0.1 -frequency_filter 0.01 -sub_batches 10 -sub_batch 6 --standardise_dosages -output /opt/data/projects/asthma-copd/results/imputed_gwas/GWAS_Asthma_only_GLM_SNPs_info0.7-harmonized-imputed-chr8-batch6_10.txt\n",
      "+ set +x\n",
      "+ /opt/data/software/conda_envs/summary_gwas_imputation/bin/python /opt/data/software/summary-gwas-imputation/src/gwas_summary_imputation.py -by_region_file /opt/data/data/eur_ld.bed.gz -gwas_file /opt/data/projects/asthma-copd/results/harmonized_gwas/GWAS_Asthma_only_GLM_SNPs_info0.7-harmonized.txt -parquet_genotype /opt/data/data/phenomexcan/ld_blocks/reference_panel_1000G/chr8.variants.parquet -parquet_genotype_metadata /opt/data/data/phenomexcan/ld_blocks/reference_panel_1000G/variant_metadata.parquet -window 100000 -parsimony 7 -chromosome 8 -regularization 0.1 -frequency_filter 0.01 -sub_batches 10 -sub_batch 7 --standardise_dosages -output /opt/data/projects/asthma-copd/results/imputed_gwas/GWAS_Asthma_only_GLM_SNPs_info0.7-harmonized-imputed-chr8-batch7_10.txt\n",
      "+ set +x\n",
      "+ /opt/data/software/conda_envs/summary_gwas_imputation/bin/python /opt/data/software/summary-gwas-imputation/src/gwas_summary_imputation.py -by_region_file /opt/data/data/eur_ld.bed.gz -gwas_file /opt/data/projects/asthma-copd/results/harmonized_gwas/GWAS_Asthma_only_GLM_SNPs_info0.7-harmonized.txt -parquet_genotype /opt/data/data/phenomexcan/ld_blocks/reference_panel_1000G/chr8.variants.parquet -parquet_genotype_metadata /opt/data/data/phenomexcan/ld_blocks/reference_panel_1000G/variant_metadata.parquet -window 100000 -parsimony 7 -chromosome 8 -regularization 0.1 -frequency_filter 0.01 -sub_batches 10 -sub_batch 8 --standardise_dosages -output /opt/data/projects/asthma-copd/results/imputed_gwas/GWAS_Asthma_only_GLM_SNPs_info0.7-harmonized-imputed-chr8-batch8_10.txt\n"
     ]
    },
    {
     "name": "stdout",
     "output_type": "stream",
     "text": [
      "/opt/data/software/conda_envs/summary_gwas_imputation/lib/python3.7/site-packages/pyarrow/pandas_compat.py:752: FutureWarning: .labels was deprecated in version 0.24.0. Use .codes instead.\n",
      "INFO - Error for region (8,125398675.0,127646866.0): LinAlgError('SVD did not converge')\n",
      "\n"
     ]
    },
    {
     "name": "stderr",
     "output_type": "stream",
     "text": [
      "+ set +x\n"
     ]
    },
    {
     "name": "stdout",
     "output_type": "stream",
     "text": [
      "Running for asthma_only, 8, 9\n",
      "Saving results in /opt/data/projects/asthma-copd/results/imputed_gwas\n",
      "/opt/data/software/conda_envs/summary_gwas_imputation/lib/python3.7/site-packages/pyarrow/pandas_compat.py:752: FutureWarning: .labels was deprecated in version 0.24.0. Use .codes instead.\n",
      "\n",
      "Running for asthma_only, 9, 0\n",
      "Saving results in /opt/data/projects/asthma-copd/results/imputed_gwas\n",
      "/opt/data/software/conda_envs/summary_gwas_imputation/lib/python3.7/site-packages/pyarrow/pandas_compat.py:752: FutureWarning: .labels was deprecated in version 0.24.0. Use .codes instead.\n",
      "\n",
      "Running for asthma_only, 9, 1\n",
      "Saving results in /opt/data/projects/asthma-copd/results/imputed_gwas\n",
      "/opt/data/software/conda_envs/summary_gwas_imputation/lib/python3.7/site-packages/pyarrow/pandas_compat.py:752: FutureWarning: .labels was deprecated in version 0.24.0. Use .codes instead.\n",
      "\n",
      "Running for asthma_only, 9, 2\n",
      "Saving results in /opt/data/projects/asthma-copd/results/imputed_gwas\n",
      "/opt/data/software/conda_envs/summary_gwas_imputation/lib/python3.7/site-packages/pyarrow/pandas_compat.py:752: FutureWarning: .labels was deprecated in version 0.24.0. Use .codes instead.\n",
      "\n",
      "Running for asthma_only, 9, 3\n",
      "Saving results in /opt/data/projects/asthma-copd/results/imputed_gwas\n",
      "/opt/data/software/conda_envs/summary_gwas_imputation/lib/python3.7/site-packages/pyarrow/pandas_compat.py:752: FutureWarning: .labels was deprecated in version 0.24.0. Use .codes instead.\n",
      "\n",
      "Running for asthma_only, 9, 4\n",
      "Saving results in /opt/data/projects/asthma-copd/results/imputed_gwas\n",
      "/opt/data/software/conda_envs/summary_gwas_imputation/lib/python3.7/site-packages/pyarrow/pandas_compat.py:752: FutureWarning: .labels was deprecated in version 0.24.0. Use .codes instead.\n",
      "\n"
     ]
    },
    {
     "name": "stderr",
     "output_type": "stream",
     "text": [
      "+ /opt/data/software/conda_envs/summary_gwas_imputation/bin/python /opt/data/software/summary-gwas-imputation/src/gwas_summary_imputation.py -by_region_file /opt/data/data/eur_ld.bed.gz -gwas_file /opt/data/projects/asthma-copd/results/harmonized_gwas/GWAS_Asthma_only_GLM_SNPs_info0.7-harmonized.txt -parquet_genotype /opt/data/data/phenomexcan/ld_blocks/reference_panel_1000G/chr8.variants.parquet -parquet_genotype_metadata /opt/data/data/phenomexcan/ld_blocks/reference_panel_1000G/variant_metadata.parquet -window 100000 -parsimony 7 -chromosome 8 -regularization 0.1 -frequency_filter 0.01 -sub_batches 10 -sub_batch 9 --standardise_dosages -output /opt/data/projects/asthma-copd/results/imputed_gwas/GWAS_Asthma_only_GLM_SNPs_info0.7-harmonized-imputed-chr8-batch9_10.txt\n",
      "+ set +x\n",
      "+ /opt/data/software/conda_envs/summary_gwas_imputation/bin/python /opt/data/software/summary-gwas-imputation/src/gwas_summary_imputation.py -by_region_file /opt/data/data/eur_ld.bed.gz -gwas_file /opt/data/projects/asthma-copd/results/harmonized_gwas/GWAS_Asthma_only_GLM_SNPs_info0.7-harmonized.txt -parquet_genotype /opt/data/data/phenomexcan/ld_blocks/reference_panel_1000G/chr9.variants.parquet -parquet_genotype_metadata /opt/data/data/phenomexcan/ld_blocks/reference_panel_1000G/variant_metadata.parquet -window 100000 -parsimony 7 -chromosome 9 -regularization 0.1 -frequency_filter 0.01 -sub_batches 10 -sub_batch 0 --standardise_dosages -output /opt/data/projects/asthma-copd/results/imputed_gwas/GWAS_Asthma_only_GLM_SNPs_info0.7-harmonized-imputed-chr9-batch0_10.txt\n",
      "+ set +x\n",
      "+ /opt/data/software/conda_envs/summary_gwas_imputation/bin/python /opt/data/software/summary-gwas-imputation/src/gwas_summary_imputation.py -by_region_file /opt/data/data/eur_ld.bed.gz -gwas_file /opt/data/projects/asthma-copd/results/harmonized_gwas/GWAS_Asthma_only_GLM_SNPs_info0.7-harmonized.txt -parquet_genotype /opt/data/data/phenomexcan/ld_blocks/reference_panel_1000G/chr9.variants.parquet -parquet_genotype_metadata /opt/data/data/phenomexcan/ld_blocks/reference_panel_1000G/variant_metadata.parquet -window 100000 -parsimony 7 -chromosome 9 -regularization 0.1 -frequency_filter 0.01 -sub_batches 10 -sub_batch 1 --standardise_dosages -output /opt/data/projects/asthma-copd/results/imputed_gwas/GWAS_Asthma_only_GLM_SNPs_info0.7-harmonized-imputed-chr9-batch1_10.txt\n",
      "+ set +x\n",
      "+ /opt/data/software/conda_envs/summary_gwas_imputation/bin/python /opt/data/software/summary-gwas-imputation/src/gwas_summary_imputation.py -by_region_file /opt/data/data/eur_ld.bed.gz -gwas_file /opt/data/projects/asthma-copd/results/harmonized_gwas/GWAS_Asthma_only_GLM_SNPs_info0.7-harmonized.txt -parquet_genotype /opt/data/data/phenomexcan/ld_blocks/reference_panel_1000G/chr9.variants.parquet -parquet_genotype_metadata /opt/data/data/phenomexcan/ld_blocks/reference_panel_1000G/variant_metadata.parquet -window 100000 -parsimony 7 -chromosome 9 -regularization 0.1 -frequency_filter 0.01 -sub_batches 10 -sub_batch 2 --standardise_dosages -output /opt/data/projects/asthma-copd/results/imputed_gwas/GWAS_Asthma_only_GLM_SNPs_info0.7-harmonized-imputed-chr9-batch2_10.txt\n",
      "+ set +x\n",
      "+ /opt/data/software/conda_envs/summary_gwas_imputation/bin/python /opt/data/software/summary-gwas-imputation/src/gwas_summary_imputation.py -by_region_file /opt/data/data/eur_ld.bed.gz -gwas_file /opt/data/projects/asthma-copd/results/harmonized_gwas/GWAS_Asthma_only_GLM_SNPs_info0.7-harmonized.txt -parquet_genotype /opt/data/data/phenomexcan/ld_blocks/reference_panel_1000G/chr9.variants.parquet -parquet_genotype_metadata /opt/data/data/phenomexcan/ld_blocks/reference_panel_1000G/variant_metadata.parquet -window 100000 -parsimony 7 -chromosome 9 -regularization 0.1 -frequency_filter 0.01 -sub_batches 10 -sub_batch 3 --standardise_dosages -output /opt/data/projects/asthma-copd/results/imputed_gwas/GWAS_Asthma_only_GLM_SNPs_info0.7-harmonized-imputed-chr9-batch3_10.txt\n",
      "+ set +x\n",
      "+ /opt/data/software/conda_envs/summary_gwas_imputation/bin/python /opt/data/software/summary-gwas-imputation/src/gwas_summary_imputation.py -by_region_file /opt/data/data/eur_ld.bed.gz -gwas_file /opt/data/projects/asthma-copd/results/harmonized_gwas/GWAS_Asthma_only_GLM_SNPs_info0.7-harmonized.txt -parquet_genotype /opt/data/data/phenomexcan/ld_blocks/reference_panel_1000G/chr9.variants.parquet -parquet_genotype_metadata /opt/data/data/phenomexcan/ld_blocks/reference_panel_1000G/variant_metadata.parquet -window 100000 -parsimony 7 -chromosome 9 -regularization 0.1 -frequency_filter 0.01 -sub_batches 10 -sub_batch 4 --standardise_dosages -output /opt/data/projects/asthma-copd/results/imputed_gwas/GWAS_Asthma_only_GLM_SNPs_info0.7-harmonized-imputed-chr9-batch4_10.txt\n",
      "+ set +x\n"
     ]
    },
    {
     "name": "stdout",
     "output_type": "stream",
     "text": [
      "Running for asthma_only, 9, 5\n",
      "Saving results in /opt/data/projects/asthma-copd/results/imputed_gwas\n",
      "/opt/data/software/conda_envs/summary_gwas_imputation/lib/python3.7/site-packages/pyarrow/pandas_compat.py:752: FutureWarning: .labels was deprecated in version 0.24.0. Use .codes instead.\n",
      "\n"
     ]
    },
    {
     "name": "stderr",
     "output_type": "stream",
     "text": [
      "+ /opt/data/software/conda_envs/summary_gwas_imputation/bin/python /opt/data/software/summary-gwas-imputation/src/gwas_summary_imputation.py -by_region_file /opt/data/data/eur_ld.bed.gz -gwas_file /opt/data/projects/asthma-copd/results/harmonized_gwas/GWAS_Asthma_only_GLM_SNPs_info0.7-harmonized.txt -parquet_genotype /opt/data/data/phenomexcan/ld_blocks/reference_panel_1000G/chr9.variants.parquet -parquet_genotype_metadata /opt/data/data/phenomexcan/ld_blocks/reference_panel_1000G/variant_metadata.parquet -window 100000 -parsimony 7 -chromosome 9 -regularization 0.1 -frequency_filter 0.01 -sub_batches 10 -sub_batch 5 --standardise_dosages -output /opt/data/projects/asthma-copd/results/imputed_gwas/GWAS_Asthma_only_GLM_SNPs_info0.7-harmonized-imputed-chr9-batch5_10.txt\n",
      "+ set +x\n",
      "+ /opt/data/software/conda_envs/summary_gwas_imputation/bin/python /opt/data/software/summary-gwas-imputation/src/gwas_summary_imputation.py -by_region_file /opt/data/data/eur_ld.bed.gz -gwas_file /opt/data/projects/asthma-copd/results/harmonized_gwas/GWAS_Asthma_only_GLM_SNPs_info0.7-harmonized.txt -parquet_genotype /opt/data/data/phenomexcan/ld_blocks/reference_panel_1000G/chr9.variants.parquet -parquet_genotype_metadata /opt/data/data/phenomexcan/ld_blocks/reference_panel_1000G/variant_metadata.parquet -window 100000 -parsimony 7 -chromosome 9 -regularization 0.1 -frequency_filter 0.01 -sub_batches 10 -sub_batch 6 --standardise_dosages -output /opt/data/projects/asthma-copd/results/imputed_gwas/GWAS_Asthma_only_GLM_SNPs_info0.7-harmonized-imputed-chr9-batch6_10.txt\n",
      "+ set +x\n",
      "+ /opt/data/software/conda_envs/summary_gwas_imputation/bin/python /opt/data/software/summary-gwas-imputation/src/gwas_summary_imputation.py -by_region_file /opt/data/data/eur_ld.bed.gz -gwas_file /opt/data/projects/asthma-copd/results/harmonized_gwas/GWAS_Asthma_only_GLM_SNPs_info0.7-harmonized.txt -parquet_genotype /opt/data/data/phenomexcan/ld_blocks/reference_panel_1000G/chr9.variants.parquet -parquet_genotype_metadata /opt/data/data/phenomexcan/ld_blocks/reference_panel_1000G/variant_metadata.parquet -window 100000 -parsimony 7 -chromosome 9 -regularization 0.1 -frequency_filter 0.01 -sub_batches 10 -sub_batch 7 --standardise_dosages -output /opt/data/projects/asthma-copd/results/imputed_gwas/GWAS_Asthma_only_GLM_SNPs_info0.7-harmonized-imputed-chr9-batch7_10.txt\n",
      "+ set +x\n",
      "+ /opt/data/software/conda_envs/summary_gwas_imputation/bin/python /opt/data/software/summary-gwas-imputation/src/gwas_summary_imputation.py -by_region_file /opt/data/data/eur_ld.bed.gz -gwas_file /opt/data/projects/asthma-copd/results/harmonized_gwas/GWAS_Asthma_only_GLM_SNPs_info0.7-harmonized.txt -parquet_genotype /opt/data/data/phenomexcan/ld_blocks/reference_panel_1000G/chr9.variants.parquet -parquet_genotype_metadata /opt/data/data/phenomexcan/ld_blocks/reference_panel_1000G/variant_metadata.parquet -window 100000 -parsimony 7 -chromosome 9 -regularization 0.1 -frequency_filter 0.01 -sub_batches 10 -sub_batch 8 --standardise_dosages -output /opt/data/projects/asthma-copd/results/imputed_gwas/GWAS_Asthma_only_GLM_SNPs_info0.7-harmonized-imputed-chr9-batch8_10.txt\n",
      "+ set +x\n",
      "+ /opt/data/software/conda_envs/summary_gwas_imputation/bin/python /opt/data/software/summary-gwas-imputation/src/gwas_summary_imputation.py -by_region_file /opt/data/data/eur_ld.bed.gz -gwas_file /opt/data/projects/asthma-copd/results/harmonized_gwas/GWAS_Asthma_only_GLM_SNPs_info0.7-harmonized.txt -parquet_genotype /opt/data/data/phenomexcan/ld_blocks/reference_panel_1000G/chr9.variants.parquet -parquet_genotype_metadata /opt/data/data/phenomexcan/ld_blocks/reference_panel_1000G/variant_metadata.parquet -window 100000 -parsimony 7 -chromosome 9 -regularization 0.1 -frequency_filter 0.01 -sub_batches 10 -sub_batch 9 --standardise_dosages -output /opt/data/projects/asthma-copd/results/imputed_gwas/GWAS_Asthma_only_GLM_SNPs_info0.7-harmonized-imputed-chr9-batch9_10.txt\n",
      "+ set +x\n",
      "+ /opt/data/software/conda_envs/summary_gwas_imputation/bin/python /opt/data/software/summary-gwas-imputation/src/gwas_summary_imputation.py -by_region_file /opt/data/data/eur_ld.bed.gz -gwas_file /opt/data/projects/asthma-copd/results/harmonized_gwas/GWAS_Asthma_only_GLM_SNPs_info0.7-harmonized.txt -parquet_genotype /opt/data/data/phenomexcan/ld_blocks/reference_panel_1000G/chr10.variants.parquet -parquet_genotype_metadata /opt/data/data/phenomexcan/ld_blocks/reference_panel_1000G/variant_metadata.parquet -window 100000 -parsimony 7 -chromosome 10 -regularization 0.1 -frequency_filter 0.01 -sub_batches 10 -sub_batch 0 --standardise_dosages -output /opt/data/projects/asthma-copd/results/imputed_gwas/GWAS_Asthma_only_GLM_SNPs_info0.7-harmonized-imputed-chr10-batch0_10.txt\n",
      "+ set +x\n",
      "+ /opt/data/software/conda_envs/summary_gwas_imputation/bin/python /opt/data/software/summary-gwas-imputation/src/gwas_summary_imputation.py -by_region_file /opt/data/data/eur_ld.bed.gz -gwas_file /opt/data/projects/asthma-copd/results/harmonized_gwas/GWAS_Asthma_only_GLM_SNPs_info0.7-harmonized.txt -parquet_genotype /opt/data/data/phenomexcan/ld_blocks/reference_panel_1000G/chr10.variants.parquet -parquet_genotype_metadata /opt/data/data/phenomexcan/ld_blocks/reference_panel_1000G/variant_metadata.parquet -window 100000 -parsimony 7 -chromosome 10 -regularization 0.1 -frequency_filter 0.01 -sub_batches 10 -sub_batch 1 --standardise_dosages -output /opt/data/projects/asthma-copd/results/imputed_gwas/GWAS_Asthma_only_GLM_SNPs_info0.7-harmonized-imputed-chr10-batch1_10.txt\n"
     ]
    },
    {
     "name": "stdout",
     "output_type": "stream",
     "text": [
      "Running for asthma_only, 9, 6\n",
      "Saving results in /opt/data/projects/asthma-copd/results/imputed_gwas\n",
      "/opt/data/software/conda_envs/summary_gwas_imputation/lib/python3.7/site-packages/pyarrow/pandas_compat.py:752: FutureWarning: .labels was deprecated in version 0.24.0. Use .codes instead.\n",
      "INFO - Error for region (9,96159758.0,98830577.0): LinAlgError('SVD did not converge')\n",
      "\n",
      "Running for asthma_only, 9, 7\n",
      "Saving results in /opt/data/projects/asthma-copd/results/imputed_gwas\n",
      "/opt/data/software/conda_envs/summary_gwas_imputation/lib/python3.7/site-packages/pyarrow/pandas_compat.py:752: FutureWarning: .labels was deprecated in version 0.24.0. Use .codes instead.\n",
      "\n",
      "Running for asthma_only, 9, 8\n",
      "Saving results in /opt/data/projects/asthma-copd/results/imputed_gwas\n",
      "/opt/data/software/conda_envs/summary_gwas_imputation/lib/python3.7/site-packages/pyarrow/pandas_compat.py:752: FutureWarning: .labels was deprecated in version 0.24.0. Use .codes instead.\n",
      "\n",
      "Running for asthma_only, 9, 9\n",
      "Saving results in /opt/data/projects/asthma-copd/results/imputed_gwas\n",
      "/opt/data/software/conda_envs/summary_gwas_imputation/lib/python3.7/site-packages/pyarrow/pandas_compat.py:752: FutureWarning: .labels was deprecated in version 0.24.0. Use .codes instead.\n",
      "\n",
      "Running for asthma_only, 10, 0\n",
      "Saving results in /opt/data/projects/asthma-copd/results/imputed_gwas\n",
      "/opt/data/software/conda_envs/summary_gwas_imputation/lib/python3.7/site-packages/pyarrow/pandas_compat.py:752: FutureWarning: .labels was deprecated in version 0.24.0. Use .codes instead.\n",
      "\n",
      "Running for asthma_only, 10, 1\n",
      "Saving results in /opt/data/projects/asthma-copd/results/imputed_gwas\n",
      "/opt/data/software/conda_envs/summary_gwas_imputation/lib/python3.7/site-packages/pyarrow/pandas_compat.py:752: FutureWarning: .labels was deprecated in version 0.24.0. Use .codes instead.\n",
      "\n"
     ]
    },
    {
     "name": "stderr",
     "output_type": "stream",
     "text": [
      "+ set +x\n"
     ]
    },
    {
     "name": "stdout",
     "output_type": "stream",
     "text": [
      "Running for asthma_only, 10, 2\n",
      "Saving results in /opt/data/projects/asthma-copd/results/imputed_gwas\n",
      "/opt/data/software/conda_envs/summary_gwas_imputation/lib/python3.7/site-packages/pyarrow/pandas_compat.py:752: FutureWarning: .labels was deprecated in version 0.24.0. Use .codes instead.\n",
      "\n",
      "Running for asthma_only, 10, 3\n",
      "Saving results in /opt/data/projects/asthma-copd/results/imputed_gwas\n",
      "/opt/data/software/conda_envs/summary_gwas_imputation/lib/python3.7/site-packages/pyarrow/pandas_compat.py:752: FutureWarning: .labels was deprecated in version 0.24.0. Use .codes instead.\n",
      "\n",
      "Running for asthma_only, 10, 4\n",
      "Saving results in /opt/data/projects/asthma-copd/results/imputed_gwas\n",
      "/opt/data/software/conda_envs/summary_gwas_imputation/lib/python3.7/site-packages/pyarrow/pandas_compat.py:752: FutureWarning: .labels was deprecated in version 0.24.0. Use .codes instead.\n",
      "\n",
      "Running for asthma_only, 10, 5\n",
      "Saving results in /opt/data/projects/asthma-copd/results/imputed_gwas\n",
      "/opt/data/software/conda_envs/summary_gwas_imputation/lib/python3.7/site-packages/pyarrow/pandas_compat.py:752: FutureWarning: .labels was deprecated in version 0.24.0. Use .codes instead.\n",
      "\n",
      "Running for asthma_only, 10, 6\n",
      "Saving results in /opt/data/projects/asthma-copd/results/imputed_gwas\n",
      "/opt/data/software/conda_envs/summary_gwas_imputation/lib/python3.7/site-packages/pyarrow/pandas_compat.py:752: FutureWarning: .labels was deprecated in version 0.24.0. Use .codes instead.\n",
      "\n",
      "Running for asthma_only, 10, 7\n",
      "Saving results in /opt/data/projects/asthma-copd/results/imputed_gwas\n",
      "/opt/data/software/conda_envs/summary_gwas_imputation/lib/python3.7/site-packages/pyarrow/pandas_compat.py:752: FutureWarning: .labels was deprecated in version 0.24.0. Use .codes instead.\n",
      "INFO - Error for region (10,96062600.0,98481545.0): LinAlgError('SVD did not converge')\n",
      "\n"
     ]
    },
    {
     "name": "stderr",
     "output_type": "stream",
     "text": [
      "+ /opt/data/software/conda_envs/summary_gwas_imputation/bin/python /opt/data/software/summary-gwas-imputation/src/gwas_summary_imputation.py -by_region_file /opt/data/data/eur_ld.bed.gz -gwas_file /opt/data/projects/asthma-copd/results/harmonized_gwas/GWAS_Asthma_only_GLM_SNPs_info0.7-harmonized.txt -parquet_genotype /opt/data/data/phenomexcan/ld_blocks/reference_panel_1000G/chr10.variants.parquet -parquet_genotype_metadata /opt/data/data/phenomexcan/ld_blocks/reference_panel_1000G/variant_metadata.parquet -window 100000 -parsimony 7 -chromosome 10 -regularization 0.1 -frequency_filter 0.01 -sub_batches 10 -sub_batch 2 --standardise_dosages -output /opt/data/projects/asthma-copd/results/imputed_gwas/GWAS_Asthma_only_GLM_SNPs_info0.7-harmonized-imputed-chr10-batch2_10.txt\n",
      "+ set +x\n",
      "+ /opt/data/software/conda_envs/summary_gwas_imputation/bin/python /opt/data/software/summary-gwas-imputation/src/gwas_summary_imputation.py -by_region_file /opt/data/data/eur_ld.bed.gz -gwas_file /opt/data/projects/asthma-copd/results/harmonized_gwas/GWAS_Asthma_only_GLM_SNPs_info0.7-harmonized.txt -parquet_genotype /opt/data/data/phenomexcan/ld_blocks/reference_panel_1000G/chr10.variants.parquet -parquet_genotype_metadata /opt/data/data/phenomexcan/ld_blocks/reference_panel_1000G/variant_metadata.parquet -window 100000 -parsimony 7 -chromosome 10 -regularization 0.1 -frequency_filter 0.01 -sub_batches 10 -sub_batch 3 --standardise_dosages -output /opt/data/projects/asthma-copd/results/imputed_gwas/GWAS_Asthma_only_GLM_SNPs_info0.7-harmonized-imputed-chr10-batch3_10.txt\n",
      "+ set +x\n",
      "+ /opt/data/software/conda_envs/summary_gwas_imputation/bin/python /opt/data/software/summary-gwas-imputation/src/gwas_summary_imputation.py -by_region_file /opt/data/data/eur_ld.bed.gz -gwas_file /opt/data/projects/asthma-copd/results/harmonized_gwas/GWAS_Asthma_only_GLM_SNPs_info0.7-harmonized.txt -parquet_genotype /opt/data/data/phenomexcan/ld_blocks/reference_panel_1000G/chr10.variants.parquet -parquet_genotype_metadata /opt/data/data/phenomexcan/ld_blocks/reference_panel_1000G/variant_metadata.parquet -window 100000 -parsimony 7 -chromosome 10 -regularization 0.1 -frequency_filter 0.01 -sub_batches 10 -sub_batch 4 --standardise_dosages -output /opt/data/projects/asthma-copd/results/imputed_gwas/GWAS_Asthma_only_GLM_SNPs_info0.7-harmonized-imputed-chr10-batch4_10.txt\n",
      "+ set +x\n",
      "+ /opt/data/software/conda_envs/summary_gwas_imputation/bin/python /opt/data/software/summary-gwas-imputation/src/gwas_summary_imputation.py -by_region_file /opt/data/data/eur_ld.bed.gz -gwas_file /opt/data/projects/asthma-copd/results/harmonized_gwas/GWAS_Asthma_only_GLM_SNPs_info0.7-harmonized.txt -parquet_genotype /opt/data/data/phenomexcan/ld_blocks/reference_panel_1000G/chr10.variants.parquet -parquet_genotype_metadata /opt/data/data/phenomexcan/ld_blocks/reference_panel_1000G/variant_metadata.parquet -window 100000 -parsimony 7 -chromosome 10 -regularization 0.1 -frequency_filter 0.01 -sub_batches 10 -sub_batch 5 --standardise_dosages -output /opt/data/projects/asthma-copd/results/imputed_gwas/GWAS_Asthma_only_GLM_SNPs_info0.7-harmonized-imputed-chr10-batch5_10.txt\n",
      "+ set +x\n",
      "+ /opt/data/software/conda_envs/summary_gwas_imputation/bin/python /opt/data/software/summary-gwas-imputation/src/gwas_summary_imputation.py -by_region_file /opt/data/data/eur_ld.bed.gz -gwas_file /opt/data/projects/asthma-copd/results/harmonized_gwas/GWAS_Asthma_only_GLM_SNPs_info0.7-harmonized.txt -parquet_genotype /opt/data/data/phenomexcan/ld_blocks/reference_panel_1000G/chr10.variants.parquet -parquet_genotype_metadata /opt/data/data/phenomexcan/ld_blocks/reference_panel_1000G/variant_metadata.parquet -window 100000 -parsimony 7 -chromosome 10 -regularization 0.1 -frequency_filter 0.01 -sub_batches 10 -sub_batch 6 --standardise_dosages -output /opt/data/projects/asthma-copd/results/imputed_gwas/GWAS_Asthma_only_GLM_SNPs_info0.7-harmonized-imputed-chr10-batch6_10.txt\n",
      "+ set +x\n",
      "+ /opt/data/software/conda_envs/summary_gwas_imputation/bin/python /opt/data/software/summary-gwas-imputation/src/gwas_summary_imputation.py -by_region_file /opt/data/data/eur_ld.bed.gz -gwas_file /opt/data/projects/asthma-copd/results/harmonized_gwas/GWAS_Asthma_only_GLM_SNPs_info0.7-harmonized.txt -parquet_genotype /opt/data/data/phenomexcan/ld_blocks/reference_panel_1000G/chr10.variants.parquet -parquet_genotype_metadata /opt/data/data/phenomexcan/ld_blocks/reference_panel_1000G/variant_metadata.parquet -window 100000 -parsimony 7 -chromosome 10 -regularization 0.1 -frequency_filter 0.01 -sub_batches 10 -sub_batch 7 --standardise_dosages -output /opt/data/projects/asthma-copd/results/imputed_gwas/GWAS_Asthma_only_GLM_SNPs_info0.7-harmonized-imputed-chr10-batch7_10.txt\n",
      "+ set +x\n"
     ]
    },
    {
     "name": "stdout",
     "output_type": "stream",
     "text": [
      "Running for asthma_only, 10, 8\n",
      "Saving results in /opt/data/projects/asthma-copd/results/imputed_gwas\n",
      "/opt/data/software/conda_envs/summary_gwas_imputation/lib/python3.7/site-packages/pyarrow/pandas_compat.py:752: FutureWarning: .labels was deprecated in version 0.24.0. Use .codes instead.\n",
      "\n"
     ]
    },
    {
     "name": "stderr",
     "output_type": "stream",
     "text": [
      "+ /opt/data/software/conda_envs/summary_gwas_imputation/bin/python /opt/data/software/summary-gwas-imputation/src/gwas_summary_imputation.py -by_region_file /opt/data/data/eur_ld.bed.gz -gwas_file /opt/data/projects/asthma-copd/results/harmonized_gwas/GWAS_Asthma_only_GLM_SNPs_info0.7-harmonized.txt -parquet_genotype /opt/data/data/phenomexcan/ld_blocks/reference_panel_1000G/chr10.variants.parquet -parquet_genotype_metadata /opt/data/data/phenomexcan/ld_blocks/reference_panel_1000G/variant_metadata.parquet -window 100000 -parsimony 7 -chromosome 10 -regularization 0.1 -frequency_filter 0.01 -sub_batches 10 -sub_batch 8 --standardise_dosages -output /opt/data/projects/asthma-copd/results/imputed_gwas/GWAS_Asthma_only_GLM_SNPs_info0.7-harmonized-imputed-chr10-batch8_10.txt\n",
      "+ set +x\n"
     ]
    },
    {
     "name": "stdout",
     "output_type": "stream",
     "text": [
      "Running for asthma_only, 10, 9\n",
      "Saving results in /opt/data/projects/asthma-copd/results/imputed_gwas\n",
      "/opt/data/software/conda_envs/summary_gwas_imputation/lib/python3.7/site-packages/pyarrow/pandas_compat.py:752: FutureWarning: .labels was deprecated in version 0.24.0. Use .codes instead.\n",
      "INFO - Error for region (10,127356098.0,129046020.0): LinAlgError('SVD did not converge')\n",
      "\n",
      "Running for asthma_only, 11, 0\n",
      "Saving results in /opt/data/projects/asthma-copd/results/imputed_gwas\n",
      "/opt/data/software/conda_envs/summary_gwas_imputation/lib/python3.7/site-packages/pyarrow/pandas_compat.py:752: FutureWarning: .labels was deprecated in version 0.24.0. Use .codes instead.\n",
      "\n",
      "Running for asthma_only, 11, 1\n",
      "Saving results in /opt/data/projects/asthma-copd/results/imputed_gwas\n",
      "/opt/data/software/conda_envs/summary_gwas_imputation/lib/python3.7/site-packages/pyarrow/pandas_compat.py:752: FutureWarning: .labels was deprecated in version 0.24.0. Use .codes instead.\n",
      "\n",
      "Running for asthma_only, 11, 2\n",
      "Saving results in /opt/data/projects/asthma-copd/results/imputed_gwas\n"
     ]
    },
    {
     "name": "stderr",
     "output_type": "stream",
     "text": [
      "+ /opt/data/software/conda_envs/summary_gwas_imputation/bin/python /opt/data/software/summary-gwas-imputation/src/gwas_summary_imputation.py -by_region_file /opt/data/data/eur_ld.bed.gz -gwas_file /opt/data/projects/asthma-copd/results/harmonized_gwas/GWAS_Asthma_only_GLM_SNPs_info0.7-harmonized.txt -parquet_genotype /opt/data/data/phenomexcan/ld_blocks/reference_panel_1000G/chr10.variants.parquet -parquet_genotype_metadata /opt/data/data/phenomexcan/ld_blocks/reference_panel_1000G/variant_metadata.parquet -window 100000 -parsimony 7 -chromosome 10 -regularization 0.1 -frequency_filter 0.01 -sub_batches 10 -sub_batch 9 --standardise_dosages -output /opt/data/projects/asthma-copd/results/imputed_gwas/GWAS_Asthma_only_GLM_SNPs_info0.7-harmonized-imputed-chr10-batch9_10.txt\n",
      "+ set +x\n",
      "+ /opt/data/software/conda_envs/summary_gwas_imputation/bin/python /opt/data/software/summary-gwas-imputation/src/gwas_summary_imputation.py -by_region_file /opt/data/data/eur_ld.bed.gz -gwas_file /opt/data/projects/asthma-copd/results/harmonized_gwas/GWAS_Asthma_only_GLM_SNPs_info0.7-harmonized.txt -parquet_genotype /opt/data/data/phenomexcan/ld_blocks/reference_panel_1000G/chr11.variants.parquet -parquet_genotype_metadata /opt/data/data/phenomexcan/ld_blocks/reference_panel_1000G/variant_metadata.parquet -window 100000 -parsimony 7 -chromosome 11 -regularization 0.1 -frequency_filter 0.01 -sub_batches 10 -sub_batch 0 --standardise_dosages -output /opt/data/projects/asthma-copd/results/imputed_gwas/GWAS_Asthma_only_GLM_SNPs_info0.7-harmonized-imputed-chr11-batch0_10.txt\n",
      "+ set +x\n",
      "+ /opt/data/software/conda_envs/summary_gwas_imputation/bin/python /opt/data/software/summary-gwas-imputation/src/gwas_summary_imputation.py -by_region_file /opt/data/data/eur_ld.bed.gz -gwas_file /opt/data/projects/asthma-copd/results/harmonized_gwas/GWAS_Asthma_only_GLM_SNPs_info0.7-harmonized.txt -parquet_genotype /opt/data/data/phenomexcan/ld_blocks/reference_panel_1000G/chr11.variants.parquet -parquet_genotype_metadata /opt/data/data/phenomexcan/ld_blocks/reference_panel_1000G/variant_metadata.parquet -window 100000 -parsimony 7 -chromosome 11 -regularization 0.1 -frequency_filter 0.01 -sub_batches 10 -sub_batch 1 --standardise_dosages -output /opt/data/projects/asthma-copd/results/imputed_gwas/GWAS_Asthma_only_GLM_SNPs_info0.7-harmonized-imputed-chr11-batch1_10.txt\n",
      "+ set +x\n",
      "+ /opt/data/software/conda_envs/summary_gwas_imputation/bin/python /opt/data/software/summary-gwas-imputation/src/gwas_summary_imputation.py -by_region_file /opt/data/data/eur_ld.bed.gz -gwas_file /opt/data/projects/asthma-copd/results/harmonized_gwas/GWAS_Asthma_only_GLM_SNPs_info0.7-harmonized.txt -parquet_genotype /opt/data/data/phenomexcan/ld_blocks/reference_panel_1000G/chr11.variants.parquet -parquet_genotype_metadata /opt/data/data/phenomexcan/ld_blocks/reference_panel_1000G/variant_metadata.parquet -window 100000 -parsimony 7 -chromosome 11 -regularization 0.1 -frequency_filter 0.01 -sub_batches 10 -sub_batch 2 --standardise_dosages -output /opt/data/projects/asthma-copd/results/imputed_gwas/GWAS_Asthma_only_GLM_SNPs_info0.7-harmonized-imputed-chr11-batch2_10.txt\n"
     ]
    },
    {
     "name": "stdout",
     "output_type": "stream",
     "text": [
      "/opt/data/software/conda_envs/summary_gwas_imputation/lib/python3.7/site-packages/pyarrow/pandas_compat.py:752: FutureWarning: .labels was deprecated in version 0.24.0. Use .codes instead.\n",
      "\n"
     ]
    },
    {
     "name": "stderr",
     "output_type": "stream",
     "text": [
      "+ set +x\n"
     ]
    },
    {
     "name": "stdout",
     "output_type": "stream",
     "text": [
      "Running for asthma_only, 11, 3\n",
      "Saving results in /opt/data/projects/asthma-copd/results/imputed_gwas\n"
     ]
    },
    {
     "name": "stderr",
     "output_type": "stream",
     "text": [
      "+ /opt/data/software/conda_envs/summary_gwas_imputation/bin/python /opt/data/software/summary-gwas-imputation/src/gwas_summary_imputation.py -by_region_file /opt/data/data/eur_ld.bed.gz -gwas_file /opt/data/projects/asthma-copd/results/harmonized_gwas/GWAS_Asthma_only_GLM_SNPs_info0.7-harmonized.txt -parquet_genotype /opt/data/data/phenomexcan/ld_blocks/reference_panel_1000G/chr11.variants.parquet -parquet_genotype_metadata /opt/data/data/phenomexcan/ld_blocks/reference_panel_1000G/variant_metadata.parquet -window 100000 -parsimony 7 -chromosome 11 -regularization 0.1 -frequency_filter 0.01 -sub_batches 10 -sub_batch 3 --standardise_dosages -output /opt/data/projects/asthma-copd/results/imputed_gwas/GWAS_Asthma_only_GLM_SNPs_info0.7-harmonized-imputed-chr11-batch3_10.txt\n"
     ]
    },
    {
     "name": "stdout",
     "output_type": "stream",
     "text": [
      "/opt/data/software/conda_envs/summary_gwas_imputation/lib/python3.7/site-packages/pyarrow/pandas_compat.py:752: FutureWarning: .labels was deprecated in version 0.24.0. Use .codes instead.\n",
      "\n"
     ]
    },
    {
     "name": "stderr",
     "output_type": "stream",
     "text": [
      "+ set +x\n"
     ]
    },
    {
     "name": "stdout",
     "output_type": "stream",
     "text": [
      "Running for asthma_only, 11, 4\n",
      "Saving results in /opt/data/projects/asthma-copd/results/imputed_gwas\n",
      "/opt/data/software/conda_envs/summary_gwas_imputation/lib/python3.7/site-packages/pyarrow/pandas_compat.py:752: FutureWarning: .labels was deprecated in version 0.24.0. Use .codes instead.\n",
      "\n"
     ]
    },
    {
     "name": "stderr",
     "output_type": "stream",
     "text": [
      "+ /opt/data/software/conda_envs/summary_gwas_imputation/bin/python /opt/data/software/summary-gwas-imputation/src/gwas_summary_imputation.py -by_region_file /opt/data/data/eur_ld.bed.gz -gwas_file /opt/data/projects/asthma-copd/results/harmonized_gwas/GWAS_Asthma_only_GLM_SNPs_info0.7-harmonized.txt -parquet_genotype /opt/data/data/phenomexcan/ld_blocks/reference_panel_1000G/chr11.variants.parquet -parquet_genotype_metadata /opt/data/data/phenomexcan/ld_blocks/reference_panel_1000G/variant_metadata.parquet -window 100000 -parsimony 7 -chromosome 11 -regularization 0.1 -frequency_filter 0.01 -sub_batches 10 -sub_batch 4 --standardise_dosages -output /opt/data/projects/asthma-copd/results/imputed_gwas/GWAS_Asthma_only_GLM_SNPs_info0.7-harmonized-imputed-chr11-batch4_10.txt\n",
      "+ set +x\n"
     ]
    },
    {
     "name": "stdout",
     "output_type": "stream",
     "text": [
      "Running for asthma_only, 11, 5\n",
      "Saving results in /opt/data/projects/asthma-copd/results/imputed_gwas\n",
      "/opt/data/software/conda_envs/summary_gwas_imputation/lib/python3.7/site-packages/pyarrow/pandas_compat.py:752: FutureWarning: .labels was deprecated in version 0.24.0. Use .codes instead.\n",
      "\n",
      "Running for asthma_only, 11, 6\n",
      "Saving results in /opt/data/projects/asthma-copd/results/imputed_gwas\n",
      "/opt/data/software/conda_envs/summary_gwas_imputation/lib/python3.7/site-packages/pyarrow/pandas_compat.py:752: FutureWarning: .labels was deprecated in version 0.24.0. Use .codes instead.\n",
      "\n",
      "Running for asthma_only, 11, 7\n",
      "Saving results in /opt/data/projects/asthma-copd/results/imputed_gwas\n",
      "/opt/data/software/conda_envs/summary_gwas_imputation/lib/python3.7/site-packages/pyarrow/pandas_compat.py:752: FutureWarning: .labels was deprecated in version 0.24.0. Use .codes instead.\n",
      "\n",
      "Running for asthma_only, 11, 8\n",
      "Saving results in /opt/data/projects/asthma-copd/results/imputed_gwas\n",
      "/opt/data/software/conda_envs/summary_gwas_imputation/lib/python3.7/site-packages/pyarrow/pandas_compat.py:752: FutureWarning: .labels was deprecated in version 0.24.0. Use .codes instead.\n",
      "\n"
     ]
    },
    {
     "name": "stderr",
     "output_type": "stream",
     "text": [
      "+ /opt/data/software/conda_envs/summary_gwas_imputation/bin/python /opt/data/software/summary-gwas-imputation/src/gwas_summary_imputation.py -by_region_file /opt/data/data/eur_ld.bed.gz -gwas_file /opt/data/projects/asthma-copd/results/harmonized_gwas/GWAS_Asthma_only_GLM_SNPs_info0.7-harmonized.txt -parquet_genotype /opt/data/data/phenomexcan/ld_blocks/reference_panel_1000G/chr11.variants.parquet -parquet_genotype_metadata /opt/data/data/phenomexcan/ld_blocks/reference_panel_1000G/variant_metadata.parquet -window 100000 -parsimony 7 -chromosome 11 -regularization 0.1 -frequency_filter 0.01 -sub_batches 10 -sub_batch 5 --standardise_dosages -output /opt/data/projects/asthma-copd/results/imputed_gwas/GWAS_Asthma_only_GLM_SNPs_info0.7-harmonized-imputed-chr11-batch5_10.txt\n",
      "+ set +x\n",
      "+ /opt/data/software/conda_envs/summary_gwas_imputation/bin/python /opt/data/software/summary-gwas-imputation/src/gwas_summary_imputation.py -by_region_file /opt/data/data/eur_ld.bed.gz -gwas_file /opt/data/projects/asthma-copd/results/harmonized_gwas/GWAS_Asthma_only_GLM_SNPs_info0.7-harmonized.txt -parquet_genotype /opt/data/data/phenomexcan/ld_blocks/reference_panel_1000G/chr11.variants.parquet -parquet_genotype_metadata /opt/data/data/phenomexcan/ld_blocks/reference_panel_1000G/variant_metadata.parquet -window 100000 -parsimony 7 -chromosome 11 -regularization 0.1 -frequency_filter 0.01 -sub_batches 10 -sub_batch 6 --standardise_dosages -output /opt/data/projects/asthma-copd/results/imputed_gwas/GWAS_Asthma_only_GLM_SNPs_info0.7-harmonized-imputed-chr11-batch6_10.txt\n",
      "+ set +x\n",
      "+ /opt/data/software/conda_envs/summary_gwas_imputation/bin/python /opt/data/software/summary-gwas-imputation/src/gwas_summary_imputation.py -by_region_file /opt/data/data/eur_ld.bed.gz -gwas_file /opt/data/projects/asthma-copd/results/harmonized_gwas/GWAS_Asthma_only_GLM_SNPs_info0.7-harmonized.txt -parquet_genotype /opt/data/data/phenomexcan/ld_blocks/reference_panel_1000G/chr11.variants.parquet -parquet_genotype_metadata /opt/data/data/phenomexcan/ld_blocks/reference_panel_1000G/variant_metadata.parquet -window 100000 -parsimony 7 -chromosome 11 -regularization 0.1 -frequency_filter 0.01 -sub_batches 10 -sub_batch 7 --standardise_dosages -output /opt/data/projects/asthma-copd/results/imputed_gwas/GWAS_Asthma_only_GLM_SNPs_info0.7-harmonized-imputed-chr11-batch7_10.txt\n",
      "+ set +x\n",
      "+ /opt/data/software/conda_envs/summary_gwas_imputation/bin/python /opt/data/software/summary-gwas-imputation/src/gwas_summary_imputation.py -by_region_file /opt/data/data/eur_ld.bed.gz -gwas_file /opt/data/projects/asthma-copd/results/harmonized_gwas/GWAS_Asthma_only_GLM_SNPs_info0.7-harmonized.txt -parquet_genotype /opt/data/data/phenomexcan/ld_blocks/reference_panel_1000G/chr11.variants.parquet -parquet_genotype_metadata /opt/data/data/phenomexcan/ld_blocks/reference_panel_1000G/variant_metadata.parquet -window 100000 -parsimony 7 -chromosome 11 -regularization 0.1 -frequency_filter 0.01 -sub_batches 10 -sub_batch 8 --standardise_dosages -output /opt/data/projects/asthma-copd/results/imputed_gwas/GWAS_Asthma_only_GLM_SNPs_info0.7-harmonized-imputed-chr11-batch8_10.txt\n",
      "+ set +x\n",
      "+ /opt/data/software/conda_envs/summary_gwas_imputation/bin/python /opt/data/software/summary-gwas-imputation/src/gwas_summary_imputation.py -by_region_file /opt/data/data/eur_ld.bed.gz -gwas_file /opt/data/projects/asthma-copd/results/harmonized_gwas/GWAS_Asthma_only_GLM_SNPs_info0.7-harmonized.txt -parquet_genotype /opt/data/data/phenomexcan/ld_blocks/reference_panel_1000G/chr11.variants.parquet -parquet_genotype_metadata /opt/data/data/phenomexcan/ld_blocks/reference_panel_1000G/variant_metadata.parquet -window 100000 -parsimony 7 -chromosome 11 -regularization 0.1 -frequency_filter 0.01 -sub_batches 10 -sub_batch 9 --standardise_dosages -output /opt/data/projects/asthma-copd/results/imputed_gwas/GWAS_Asthma_only_GLM_SNPs_info0.7-harmonized-imputed-chr11-batch9_10.txt\n",
      "+ set +x\n"
     ]
    },
    {
     "name": "stdout",
     "output_type": "stream",
     "text": [
      "Running for asthma_only, 11, 9\n",
      "Saving results in /opt/data/projects/asthma-copd/results/imputed_gwas\n",
      "/opt/data/software/conda_envs/summary_gwas_imputation/lib/python3.7/site-packages/pyarrow/pandas_compat.py:752: FutureWarning: .labels was deprecated in version 0.24.0. Use .codes instead.\n",
      "\n",
      "Running for asthma_only, 12, 0\n",
      "Saving results in /opt/data/projects/asthma-copd/results/imputed_gwas\n",
      "/opt/data/software/conda_envs/summary_gwas_imputation/lib/python3.7/site-packages/pyarrow/pandas_compat.py:752: FutureWarning: .labels was deprecated in version 0.24.0. Use .codes instead.\n",
      "\n",
      "Running for asthma_only, 12, 1\n",
      "Saving results in /opt/data/projects/asthma-copd/results/imputed_gwas\n"
     ]
    },
    {
     "name": "stderr",
     "output_type": "stream",
     "text": [
      "+ /opt/data/software/conda_envs/summary_gwas_imputation/bin/python /opt/data/software/summary-gwas-imputation/src/gwas_summary_imputation.py -by_region_file /opt/data/data/eur_ld.bed.gz -gwas_file /opt/data/projects/asthma-copd/results/harmonized_gwas/GWAS_Asthma_only_GLM_SNPs_info0.7-harmonized.txt -parquet_genotype /opt/data/data/phenomexcan/ld_blocks/reference_panel_1000G/chr12.variants.parquet -parquet_genotype_metadata /opt/data/data/phenomexcan/ld_blocks/reference_panel_1000G/variant_metadata.parquet -window 100000 -parsimony 7 -chromosome 12 -regularization 0.1 -frequency_filter 0.01 -sub_batches 10 -sub_batch 0 --standardise_dosages -output /opt/data/projects/asthma-copd/results/imputed_gwas/GWAS_Asthma_only_GLM_SNPs_info0.7-harmonized-imputed-chr12-batch0_10.txt\n",
      "+ set +x\n",
      "+ /opt/data/software/conda_envs/summary_gwas_imputation/bin/python /opt/data/software/summary-gwas-imputation/src/gwas_summary_imputation.py -by_region_file /opt/data/data/eur_ld.bed.gz -gwas_file /opt/data/projects/asthma-copd/results/harmonized_gwas/GWAS_Asthma_only_GLM_SNPs_info0.7-harmonized.txt -parquet_genotype /opt/data/data/phenomexcan/ld_blocks/reference_panel_1000G/chr12.variants.parquet -parquet_genotype_metadata /opt/data/data/phenomexcan/ld_blocks/reference_panel_1000G/variant_metadata.parquet -window 100000 -parsimony 7 -chromosome 12 -regularization 0.1 -frequency_filter 0.01 -sub_batches 10 -sub_batch 1 --standardise_dosages -output /opt/data/projects/asthma-copd/results/imputed_gwas/GWAS_Asthma_only_GLM_SNPs_info0.7-harmonized-imputed-chr12-batch1_10.txt\n"
     ]
    },
    {
     "name": "stdout",
     "output_type": "stream",
     "text": [
      "/opt/data/software/conda_envs/summary_gwas_imputation/lib/python3.7/site-packages/pyarrow/pandas_compat.py:752: FutureWarning: .labels was deprecated in version 0.24.0. Use .codes instead.\n",
      "\n"
     ]
    },
    {
     "name": "stderr",
     "output_type": "stream",
     "text": [
      "+ set +x\n"
     ]
    },
    {
     "name": "stdout",
     "output_type": "stream",
     "text": [
      "Running for asthma_only, 12, 2\n",
      "Saving results in /opt/data/projects/asthma-copd/results/imputed_gwas\n",
      "/opt/data/software/conda_envs/summary_gwas_imputation/lib/python3.7/site-packages/pyarrow/pandas_compat.py:752: FutureWarning: .labels was deprecated in version 0.24.0. Use .codes instead.\n",
      "\n",
      "Running for asthma_only, 12, 3\n",
      "Saving results in /opt/data/projects/asthma-copd/results/imputed_gwas\n",
      "/opt/data/software/conda_envs/summary_gwas_imputation/lib/python3.7/site-packages/pyarrow/pandas_compat.py:752: FutureWarning: .labels was deprecated in version 0.24.0. Use .codes instead.\n",
      "\n",
      "Running for asthma_only, 12, 4\n",
      "Saving results in /opt/data/projects/asthma-copd/results/imputed_gwas\n",
      "/opt/data/software/conda_envs/summary_gwas_imputation/lib/python3.7/site-packages/pyarrow/pandas_compat.py:752: FutureWarning: .labels was deprecated in version 0.24.0. Use .codes instead.\n",
      "\n",
      "Running for asthma_only, 12, 5\n",
      "Saving results in /opt/data/projects/asthma-copd/results/imputed_gwas\n",
      "/opt/data/software/conda_envs/summary_gwas_imputation/lib/python3.7/site-packages/pyarrow/pandas_compat.py:752: FutureWarning: .labels was deprecated in version 0.24.0. Use .codes instead.\n",
      "\n",
      "Running for asthma_only, 12, 6\n",
      "Saving results in /opt/data/projects/asthma-copd/results/imputed_gwas\n",
      "/opt/data/software/conda_envs/summary_gwas_imputation/lib/python3.7/site-packages/pyarrow/pandas_compat.py:752: FutureWarning: .labels was deprecated in version 0.24.0. Use .codes instead.\n",
      "\n"
     ]
    },
    {
     "name": "stderr",
     "output_type": "stream",
     "text": [
      "+ /opt/data/software/conda_envs/summary_gwas_imputation/bin/python /opt/data/software/summary-gwas-imputation/src/gwas_summary_imputation.py -by_region_file /opt/data/data/eur_ld.bed.gz -gwas_file /opt/data/projects/asthma-copd/results/harmonized_gwas/GWAS_Asthma_only_GLM_SNPs_info0.7-harmonized.txt -parquet_genotype /opt/data/data/phenomexcan/ld_blocks/reference_panel_1000G/chr12.variants.parquet -parquet_genotype_metadata /opt/data/data/phenomexcan/ld_blocks/reference_panel_1000G/variant_metadata.parquet -window 100000 -parsimony 7 -chromosome 12 -regularization 0.1 -frequency_filter 0.01 -sub_batches 10 -sub_batch 2 --standardise_dosages -output /opt/data/projects/asthma-copd/results/imputed_gwas/GWAS_Asthma_only_GLM_SNPs_info0.7-harmonized-imputed-chr12-batch2_10.txt\n",
      "+ set +x\n",
      "+ /opt/data/software/conda_envs/summary_gwas_imputation/bin/python /opt/data/software/summary-gwas-imputation/src/gwas_summary_imputation.py -by_region_file /opt/data/data/eur_ld.bed.gz -gwas_file /opt/data/projects/asthma-copd/results/harmonized_gwas/GWAS_Asthma_only_GLM_SNPs_info0.7-harmonized.txt -parquet_genotype /opt/data/data/phenomexcan/ld_blocks/reference_panel_1000G/chr12.variants.parquet -parquet_genotype_metadata /opt/data/data/phenomexcan/ld_blocks/reference_panel_1000G/variant_metadata.parquet -window 100000 -parsimony 7 -chromosome 12 -regularization 0.1 -frequency_filter 0.01 -sub_batches 10 -sub_batch 3 --standardise_dosages -output /opt/data/projects/asthma-copd/results/imputed_gwas/GWAS_Asthma_only_GLM_SNPs_info0.7-harmonized-imputed-chr12-batch3_10.txt\n",
      "+ set +x\n",
      "+ /opt/data/software/conda_envs/summary_gwas_imputation/bin/python /opt/data/software/summary-gwas-imputation/src/gwas_summary_imputation.py -by_region_file /opt/data/data/eur_ld.bed.gz -gwas_file /opt/data/projects/asthma-copd/results/harmonized_gwas/GWAS_Asthma_only_GLM_SNPs_info0.7-harmonized.txt -parquet_genotype /opt/data/data/phenomexcan/ld_blocks/reference_panel_1000G/chr12.variants.parquet -parquet_genotype_metadata /opt/data/data/phenomexcan/ld_blocks/reference_panel_1000G/variant_metadata.parquet -window 100000 -parsimony 7 -chromosome 12 -regularization 0.1 -frequency_filter 0.01 -sub_batches 10 -sub_batch 4 --standardise_dosages -output /opt/data/projects/asthma-copd/results/imputed_gwas/GWAS_Asthma_only_GLM_SNPs_info0.7-harmonized-imputed-chr12-batch4_10.txt\n",
      "+ set +x\n",
      "+ /opt/data/software/conda_envs/summary_gwas_imputation/bin/python /opt/data/software/summary-gwas-imputation/src/gwas_summary_imputation.py -by_region_file /opt/data/data/eur_ld.bed.gz -gwas_file /opt/data/projects/asthma-copd/results/harmonized_gwas/GWAS_Asthma_only_GLM_SNPs_info0.7-harmonized.txt -parquet_genotype /opt/data/data/phenomexcan/ld_blocks/reference_panel_1000G/chr12.variants.parquet -parquet_genotype_metadata /opt/data/data/phenomexcan/ld_blocks/reference_panel_1000G/variant_metadata.parquet -window 100000 -parsimony 7 -chromosome 12 -regularization 0.1 -frequency_filter 0.01 -sub_batches 10 -sub_batch 5 --standardise_dosages -output /opt/data/projects/asthma-copd/results/imputed_gwas/GWAS_Asthma_only_GLM_SNPs_info0.7-harmonized-imputed-chr12-batch5_10.txt\n",
      "+ set +x\n",
      "+ /opt/data/software/conda_envs/summary_gwas_imputation/bin/python /opt/data/software/summary-gwas-imputation/src/gwas_summary_imputation.py -by_region_file /opt/data/data/eur_ld.bed.gz -gwas_file /opt/data/projects/asthma-copd/results/harmonized_gwas/GWAS_Asthma_only_GLM_SNPs_info0.7-harmonized.txt -parquet_genotype /opt/data/data/phenomexcan/ld_blocks/reference_panel_1000G/chr12.variants.parquet -parquet_genotype_metadata /opt/data/data/phenomexcan/ld_blocks/reference_panel_1000G/variant_metadata.parquet -window 100000 -parsimony 7 -chromosome 12 -regularization 0.1 -frequency_filter 0.01 -sub_batches 10 -sub_batch 6 --standardise_dosages -output /opt/data/projects/asthma-copd/results/imputed_gwas/GWAS_Asthma_only_GLM_SNPs_info0.7-harmonized-imputed-chr12-batch6_10.txt\n",
      "+ set +x\n",
      "+ /opt/data/software/conda_envs/summary_gwas_imputation/bin/python /opt/data/software/summary-gwas-imputation/src/gwas_summary_imputation.py -by_region_file /opt/data/data/eur_ld.bed.gz -gwas_file /opt/data/projects/asthma-copd/results/harmonized_gwas/GWAS_Asthma_only_GLM_SNPs_info0.7-harmonized.txt -parquet_genotype /opt/data/data/phenomexcan/ld_blocks/reference_panel_1000G/chr12.variants.parquet -parquet_genotype_metadata /opt/data/data/phenomexcan/ld_blocks/reference_panel_1000G/variant_metadata.parquet -window 100000 -parsimony 7 -chromosome 12 -regularization 0.1 -frequency_filter 0.01 -sub_batches 10 -sub_batch 7 --standardise_dosages -output /opt/data/projects/asthma-copd/results/imputed_gwas/GWAS_Asthma_only_GLM_SNPs_info0.7-harmonized-imputed-chr12-batch7_10.txt\n",
      "+ set +x\n",
      "+ /opt/data/software/conda_envs/summary_gwas_imputation/bin/python /opt/data/software/summary-gwas-imputation/src/gwas_summary_imputation.py -by_region_file /opt/data/data/eur_ld.bed.gz -gwas_file /opt/data/projects/asthma-copd/results/harmonized_gwas/GWAS_Asthma_only_GLM_SNPs_info0.7-harmonized.txt -parquet_genotype /opt/data/data/phenomexcan/ld_blocks/reference_panel_1000G/chr12.variants.parquet -parquet_genotype_metadata /opt/data/data/phenomexcan/ld_blocks/reference_panel_1000G/variant_metadata.parquet -window 100000 -parsimony 7 -chromosome 12 -regularization 0.1 -frequency_filter 0.01 -sub_batches 10 -sub_batch 8 --standardise_dosages -output /opt/data/projects/asthma-copd/results/imputed_gwas/GWAS_Asthma_only_GLM_SNPs_info0.7-harmonized-imputed-chr12-batch8_10.txt\n",
      "+ set +x\n",
      "+ /opt/data/software/conda_envs/summary_gwas_imputation/bin/python /opt/data/software/summary-gwas-imputation/src/gwas_summary_imputation.py -by_region_file /opt/data/data/eur_ld.bed.gz -gwas_file /opt/data/projects/asthma-copd/results/harmonized_gwas/GWAS_Asthma_only_GLM_SNPs_info0.7-harmonized.txt -parquet_genotype /opt/data/data/phenomexcan/ld_blocks/reference_panel_1000G/chr12.variants.parquet -parquet_genotype_metadata /opt/data/data/phenomexcan/ld_blocks/reference_panel_1000G/variant_metadata.parquet -window 100000 -parsimony 7 -chromosome 12 -regularization 0.1 -frequency_filter 0.01 -sub_batches 10 -sub_batch 9 --standardise_dosages -output /opt/data/projects/asthma-copd/results/imputed_gwas/GWAS_Asthma_only_GLM_SNPs_info0.7-harmonized-imputed-chr12-batch9_10.txt\n",
      "+ set +x\n",
      "+ /opt/data/software/conda_envs/summary_gwas_imputation/bin/python /opt/data/software/summary-gwas-imputation/src/gwas_summary_imputation.py -by_region_file /opt/data/data/eur_ld.bed.gz -gwas_file /opt/data/projects/asthma-copd/results/harmonized_gwas/GWAS_Asthma_only_GLM_SNPs_info0.7-harmonized.txt -parquet_genotype /opt/data/data/phenomexcan/ld_blocks/reference_panel_1000G/chr13.variants.parquet -parquet_genotype_metadata /opt/data/data/phenomexcan/ld_blocks/reference_panel_1000G/variant_metadata.parquet -window 100000 -parsimony 7 -chromosome 13 -regularization 0.1 -frequency_filter 0.01 -sub_batches 10 -sub_batch 0 --standardise_dosages -output /opt/data/projects/asthma-copd/results/imputed_gwas/GWAS_Asthma_only_GLM_SNPs_info0.7-harmonized-imputed-chr13-batch0_10.txt\n",
      "+ set +x\n",
      "+ /opt/data/software/conda_envs/summary_gwas_imputation/bin/python /opt/data/software/summary-gwas-imputation/src/gwas_summary_imputation.py -by_region_file /opt/data/data/eur_ld.bed.gz -gwas_file /opt/data/projects/asthma-copd/results/harmonized_gwas/GWAS_Asthma_only_GLM_SNPs_info0.7-harmonized.txt -parquet_genotype /opt/data/data/phenomexcan/ld_blocks/reference_panel_1000G/chr13.variants.parquet -parquet_genotype_metadata /opt/data/data/phenomexcan/ld_blocks/reference_panel_1000G/variant_metadata.parquet -window 100000 -parsimony 7 -chromosome 13 -regularization 0.1 -frequency_filter 0.01 -sub_batches 10 -sub_batch 1 --standardise_dosages -output /opt/data/projects/asthma-copd/results/imputed_gwas/GWAS_Asthma_only_GLM_SNPs_info0.7-harmonized-imputed-chr13-batch1_10.txt\n",
      "+ set +x\n",
      "+ /opt/data/software/conda_envs/summary_gwas_imputation/bin/python /opt/data/software/summary-gwas-imputation/src/gwas_summary_imputation.py -by_region_file /opt/data/data/eur_ld.bed.gz -gwas_file /opt/data/projects/asthma-copd/results/harmonized_gwas/GWAS_Asthma_only_GLM_SNPs_info0.7-harmonized.txt -parquet_genotype /opt/data/data/phenomexcan/ld_blocks/reference_panel_1000G/chr13.variants.parquet -parquet_genotype_metadata /opt/data/data/phenomexcan/ld_blocks/reference_panel_1000G/variant_metadata.parquet -window 100000 -parsimony 7 -chromosome 13 -regularization 0.1 -frequency_filter 0.01 -sub_batches 10 -sub_batch 2 --standardise_dosages -output /opt/data/projects/asthma-copd/results/imputed_gwas/GWAS_Asthma_only_GLM_SNPs_info0.7-harmonized-imputed-chr13-batch2_10.txt\n",
      "+ set +x\n",
      "+ /opt/data/software/conda_envs/summary_gwas_imputation/bin/python /opt/data/software/summary-gwas-imputation/src/gwas_summary_imputation.py -by_region_file /opt/data/data/eur_ld.bed.gz -gwas_file /opt/data/projects/asthma-copd/results/harmonized_gwas/GWAS_Asthma_only_GLM_SNPs_info0.7-harmonized.txt -parquet_genotype /opt/data/data/phenomexcan/ld_blocks/reference_panel_1000G/chr13.variants.parquet -parquet_genotype_metadata /opt/data/data/phenomexcan/ld_blocks/reference_panel_1000G/variant_metadata.parquet -window 100000 -parsimony 7 -chromosome 13 -regularization 0.1 -frequency_filter 0.01 -sub_batches 10 -sub_batch 3 --standardise_dosages -output /opt/data/projects/asthma-copd/results/imputed_gwas/GWAS_Asthma_only_GLM_SNPs_info0.7-harmonized-imputed-chr13-batch3_10.txt\n",
      "+ set +x\n",
      "+ /opt/data/software/conda_envs/summary_gwas_imputation/bin/python /opt/data/software/summary-gwas-imputation/src/gwas_summary_imputation.py -by_region_file /opt/data/data/eur_ld.bed.gz -gwas_file /opt/data/projects/asthma-copd/results/harmonized_gwas/GWAS_Asthma_only_GLM_SNPs_info0.7-harmonized.txt -parquet_genotype /opt/data/data/phenomexcan/ld_blocks/reference_panel_1000G/chr13.variants.parquet -parquet_genotype_metadata /opt/data/data/phenomexcan/ld_blocks/reference_panel_1000G/variant_metadata.parquet -window 100000 -parsimony 7 -chromosome 13 -regularization 0.1 -frequency_filter 0.01 -sub_batches 10 -sub_batch 4 --standardise_dosages -output /opt/data/projects/asthma-copd/results/imputed_gwas/GWAS_Asthma_only_GLM_SNPs_info0.7-harmonized-imputed-chr13-batch4_10.txt\n",
      "+ set +x\n",
      "+ /opt/data/software/conda_envs/summary_gwas_imputation/bin/python /opt/data/software/summary-gwas-imputation/src/gwas_summary_imputation.py -by_region_file /opt/data/data/eur_ld.bed.gz -gwas_file /opt/data/projects/asthma-copd/results/harmonized_gwas/GWAS_Asthma_only_GLM_SNPs_info0.7-harmonized.txt -parquet_genotype /opt/data/data/phenomexcan/ld_blocks/reference_panel_1000G/chr13.variants.parquet -parquet_genotype_metadata /opt/data/data/phenomexcan/ld_blocks/reference_panel_1000G/variant_metadata.parquet -window 100000 -parsimony 7 -chromosome 13 -regularization 0.1 -frequency_filter 0.01 -sub_batches 10 -sub_batch 5 --standardise_dosages -output /opt/data/projects/asthma-copd/results/imputed_gwas/GWAS_Asthma_only_GLM_SNPs_info0.7-harmonized-imputed-chr13-batch5_10.txt\n",
      "+ set +x\n",
      "+ /opt/data/software/conda_envs/summary_gwas_imputation/bin/python /opt/data/software/summary-gwas-imputation/src/gwas_summary_imputation.py -by_region_file /opt/data/data/eur_ld.bed.gz -gwas_file /opt/data/projects/asthma-copd/results/harmonized_gwas/GWAS_Asthma_only_GLM_SNPs_info0.7-harmonized.txt -parquet_genotype /opt/data/data/phenomexcan/ld_blocks/reference_panel_1000G/chr13.variants.parquet -parquet_genotype_metadata /opt/data/data/phenomexcan/ld_blocks/reference_panel_1000G/variant_metadata.parquet -window 100000 -parsimony 7 -chromosome 13 -regularization 0.1 -frequency_filter 0.01 -sub_batches 10 -sub_batch 6 --standardise_dosages -output /opt/data/projects/asthma-copd/results/imputed_gwas/GWAS_Asthma_only_GLM_SNPs_info0.7-harmonized-imputed-chr13-batch6_10.txt\n",
      "+ set +x\n",
      "+ /opt/data/software/conda_envs/summary_gwas_imputation/bin/python /opt/data/software/summary-gwas-imputation/src/gwas_summary_imputation.py -by_region_file /opt/data/data/eur_ld.bed.gz -gwas_file /opt/data/projects/asthma-copd/results/harmonized_gwas/GWAS_Asthma_only_GLM_SNPs_info0.7-harmonized.txt -parquet_genotype /opt/data/data/phenomexcan/ld_blocks/reference_panel_1000G/chr13.variants.parquet -parquet_genotype_metadata /opt/data/data/phenomexcan/ld_blocks/reference_panel_1000G/variant_metadata.parquet -window 100000 -parsimony 7 -chromosome 13 -regularization 0.1 -frequency_filter 0.01 -sub_batches 10 -sub_batch 7 --standardise_dosages -output /opt/data/projects/asthma-copd/results/imputed_gwas/GWAS_Asthma_only_GLM_SNPs_info0.7-harmonized-imputed-chr13-batch7_10.txt\n",
      "+ set +x\n",
      "+ /opt/data/software/conda_envs/summary_gwas_imputation/bin/python /opt/data/software/summary-gwas-imputation/src/gwas_summary_imputation.py -by_region_file /opt/data/data/eur_ld.bed.gz -gwas_file /opt/data/projects/asthma-copd/results/harmonized_gwas/GWAS_Asthma_only_GLM_SNPs_info0.7-harmonized.txt -parquet_genotype /opt/data/data/phenomexcan/ld_blocks/reference_panel_1000G/chr13.variants.parquet -parquet_genotype_metadata /opt/data/data/phenomexcan/ld_blocks/reference_panel_1000G/variant_metadata.parquet -window 100000 -parsimony 7 -chromosome 13 -regularization 0.1 -frequency_filter 0.01 -sub_batches 10 -sub_batch 8 --standardise_dosages -output /opt/data/projects/asthma-copd/results/imputed_gwas/GWAS_Asthma_only_GLM_SNPs_info0.7-harmonized-imputed-chr13-batch8_10.txt\n",
      "+ set +x\n",
      "+ /opt/data/software/conda_envs/summary_gwas_imputation/bin/python /opt/data/software/summary-gwas-imputation/src/gwas_summary_imputation.py -by_region_file /opt/data/data/eur_ld.bed.gz -gwas_file /opt/data/projects/asthma-copd/results/harmonized_gwas/GWAS_Asthma_only_GLM_SNPs_info0.7-harmonized.txt -parquet_genotype /opt/data/data/phenomexcan/ld_blocks/reference_panel_1000G/chr13.variants.parquet -parquet_genotype_metadata /opt/data/data/phenomexcan/ld_blocks/reference_panel_1000G/variant_metadata.parquet -window 100000 -parsimony 7 -chromosome 13 -regularization 0.1 -frequency_filter 0.01 -sub_batches 10 -sub_batch 9 --standardise_dosages -output /opt/data/projects/asthma-copd/results/imputed_gwas/GWAS_Asthma_only_GLM_SNPs_info0.7-harmonized-imputed-chr13-batch9_10.txt\n",
      "+ set +x\n",
      "+ /opt/data/software/conda_envs/summary_gwas_imputation/bin/python /opt/data/software/summary-gwas-imputation/src/gwas_summary_imputation.py -by_region_file /opt/data/data/eur_ld.bed.gz -gwas_file /opt/data/projects/asthma-copd/results/harmonized_gwas/GWAS_Asthma_only_GLM_SNPs_info0.7-harmonized.txt -parquet_genotype /opt/data/data/phenomexcan/ld_blocks/reference_panel_1000G/chr14.variants.parquet -parquet_genotype_metadata /opt/data/data/phenomexcan/ld_blocks/reference_panel_1000G/variant_metadata.parquet -window 100000 -parsimony 7 -chromosome 14 -regularization 0.1 -frequency_filter 0.01 -sub_batches 10 -sub_batch 0 --standardise_dosages -output /opt/data/projects/asthma-copd/results/imputed_gwas/GWAS_Asthma_only_GLM_SNPs_info0.7-harmonized-imputed-chr14-batch0_10.txt\n",
      "+ set +x\n",
      "+ /opt/data/software/conda_envs/summary_gwas_imputation/bin/python /opt/data/software/summary-gwas-imputation/src/gwas_summary_imputation.py -by_region_file /opt/data/data/eur_ld.bed.gz -gwas_file /opt/data/projects/asthma-copd/results/harmonized_gwas/GWAS_Asthma_only_GLM_SNPs_info0.7-harmonized.txt -parquet_genotype /opt/data/data/phenomexcan/ld_blocks/reference_panel_1000G/chr14.variants.parquet -parquet_genotype_metadata /opt/data/data/phenomexcan/ld_blocks/reference_panel_1000G/variant_metadata.parquet -window 100000 -parsimony 7 -chromosome 14 -regularization 0.1 -frequency_filter 0.01 -sub_batches 10 -sub_batch 1 --standardise_dosages -output /opt/data/projects/asthma-copd/results/imputed_gwas/GWAS_Asthma_only_GLM_SNPs_info0.7-harmonized-imputed-chr14-batch1_10.txt\n",
      "+ set +x\n",
      "+ /opt/data/software/conda_envs/summary_gwas_imputation/bin/python /opt/data/software/summary-gwas-imputation/src/gwas_summary_imputation.py -by_region_file /opt/data/data/eur_ld.bed.gz -gwas_file /opt/data/projects/asthma-copd/results/harmonized_gwas/GWAS_Asthma_only_GLM_SNPs_info0.7-harmonized.txt -parquet_genotype /opt/data/data/phenomexcan/ld_blocks/reference_panel_1000G/chr14.variants.parquet -parquet_genotype_metadata /opt/data/data/phenomexcan/ld_blocks/reference_panel_1000G/variant_metadata.parquet -window 100000 -parsimony 7 -chromosome 14 -regularization 0.1 -frequency_filter 0.01 -sub_batches 10 -sub_batch 2 --standardise_dosages -output /opt/data/projects/asthma-copd/results/imputed_gwas/GWAS_Asthma_only_GLM_SNPs_info0.7-harmonized-imputed-chr14-batch2_10.txt\n",
      "+ set +x\n",
      "+ /opt/data/software/conda_envs/summary_gwas_imputation/bin/python /opt/data/software/summary-gwas-imputation/src/gwas_summary_imputation.py -by_region_file /opt/data/data/eur_ld.bed.gz -gwas_file /opt/data/projects/asthma-copd/results/harmonized_gwas/GWAS_Asthma_only_GLM_SNPs_info0.7-harmonized.txt -parquet_genotype /opt/data/data/phenomexcan/ld_blocks/reference_panel_1000G/chr14.variants.parquet -parquet_genotype_metadata /opt/data/data/phenomexcan/ld_blocks/reference_panel_1000G/variant_metadata.parquet -window 100000 -parsimony 7 -chromosome 14 -regularization 0.1 -frequency_filter 0.01 -sub_batches 10 -sub_batch 3 --standardise_dosages -output /opt/data/projects/asthma-copd/results/imputed_gwas/GWAS_Asthma_only_GLM_SNPs_info0.7-harmonized-imputed-chr14-batch3_10.txt\n",
      "+ set +x\n",
      "+ /opt/data/software/conda_envs/summary_gwas_imputation/bin/python /opt/data/software/summary-gwas-imputation/src/gwas_summary_imputation.py -by_region_file /opt/data/data/eur_ld.bed.gz -gwas_file /opt/data/projects/asthma-copd/results/harmonized_gwas/GWAS_Asthma_only_GLM_SNPs_info0.7-harmonized.txt -parquet_genotype /opt/data/data/phenomexcan/ld_blocks/reference_panel_1000G/chr14.variants.parquet -parquet_genotype_metadata /opt/data/data/phenomexcan/ld_blocks/reference_panel_1000G/variant_metadata.parquet -window 100000 -parsimony 7 -chromosome 14 -regularization 0.1 -frequency_filter 0.01 -sub_batches 10 -sub_batch 4 --standardise_dosages -output /opt/data/projects/asthma-copd/results/imputed_gwas/GWAS_Asthma_only_GLM_SNPs_info0.7-harmonized-imputed-chr14-batch4_10.txt\n",
      "+ set +x\n",
      "+ /opt/data/software/conda_envs/summary_gwas_imputation/bin/python /opt/data/software/summary-gwas-imputation/src/gwas_summary_imputation.py -by_region_file /opt/data/data/eur_ld.bed.gz -gwas_file /opt/data/projects/asthma-copd/results/harmonized_gwas/GWAS_Asthma_only_GLM_SNPs_info0.7-harmonized.txt -parquet_genotype /opt/data/data/phenomexcan/ld_blocks/reference_panel_1000G/chr14.variants.parquet -parquet_genotype_metadata /opt/data/data/phenomexcan/ld_blocks/reference_panel_1000G/variant_metadata.parquet -window 100000 -parsimony 7 -chromosome 14 -regularization 0.1 -frequency_filter 0.01 -sub_batches 10 -sub_batch 5 --standardise_dosages -output /opt/data/projects/asthma-copd/results/imputed_gwas/GWAS_Asthma_only_GLM_SNPs_info0.7-harmonized-imputed-chr14-batch5_10.txt\n"
     ]
    },
    {
     "name": "stdout",
     "output_type": "stream",
     "text": [
      "Running for asthma_only, 12, 7\n",
      "Saving results in /opt/data/projects/asthma-copd/results/imputed_gwas\n",
      "/opt/data/software/conda_envs/summary_gwas_imputation/lib/python3.7/site-packages/pyarrow/pandas_compat.py:752: FutureWarning: .labels was deprecated in version 0.24.0. Use .codes instead.\n",
      "\n",
      "Running for asthma_only, 12, 8\n",
      "Saving results in /opt/data/projects/asthma-copd/results/imputed_gwas\n",
      "/opt/data/software/conda_envs/summary_gwas_imputation/lib/python3.7/site-packages/pyarrow/pandas_compat.py:752: FutureWarning: .labels was deprecated in version 0.24.0. Use .codes instead.\n",
      "\n",
      "Running for asthma_only, 12, 9\n",
      "Saving results in /opt/data/projects/asthma-copd/results/imputed_gwas\n",
      "/opt/data/software/conda_envs/summary_gwas_imputation/lib/python3.7/site-packages/pyarrow/pandas_compat.py:752: FutureWarning: .labels was deprecated in version 0.24.0. Use .codes instead.\n",
      "\n",
      "Running for asthma_only, 13, 0\n",
      "Saving results in /opt/data/projects/asthma-copd/results/imputed_gwas\n",
      "/opt/data/software/conda_envs/summary_gwas_imputation/lib/python3.7/site-packages/pyarrow/pandas_compat.py:752: FutureWarning: .labels was deprecated in version 0.24.0. Use .codes instead.\n",
      "\n",
      "Running for asthma_only, 13, 1\n",
      "Saving results in /opt/data/projects/asthma-copd/results/imputed_gwas\n",
      "/opt/data/software/conda_envs/summary_gwas_imputation/lib/python3.7/site-packages/pyarrow/pandas_compat.py:752: FutureWarning: .labels was deprecated in version 0.24.0. Use .codes instead.\n",
      "\n",
      "Running for asthma_only, 13, 2\n",
      "Saving results in /opt/data/projects/asthma-copd/results/imputed_gwas\n",
      "/opt/data/software/conda_envs/summary_gwas_imputation/lib/python3.7/site-packages/pyarrow/pandas_compat.py:752: FutureWarning: .labels was deprecated in version 0.24.0. Use .codes instead.\n",
      "\n",
      "Running for asthma_only, 13, 3\n",
      "Saving results in /opt/data/projects/asthma-copd/results/imputed_gwas\n",
      "/opt/data/software/conda_envs/summary_gwas_imputation/lib/python3.7/site-packages/pyarrow/pandas_compat.py:752: FutureWarning: .labels was deprecated in version 0.24.0. Use .codes instead.\n",
      "\n",
      "Running for asthma_only, 13, 4\n",
      "Saving results in /opt/data/projects/asthma-copd/results/imputed_gwas\n",
      "/opt/data/software/conda_envs/summary_gwas_imputation/lib/python3.7/site-packages/pyarrow/pandas_compat.py:752: FutureWarning: .labels was deprecated in version 0.24.0. Use .codes instead.\n",
      "\n",
      "Running for asthma_only, 13, 5\n",
      "Saving results in /opt/data/projects/asthma-copd/results/imputed_gwas\n",
      "/opt/data/software/conda_envs/summary_gwas_imputation/lib/python3.7/site-packages/pyarrow/pandas_compat.py:752: FutureWarning: .labels was deprecated in version 0.24.0. Use .codes instead.\n",
      "\n",
      "Running for asthma_only, 13, 6\n",
      "Saving results in /opt/data/projects/asthma-copd/results/imputed_gwas\n",
      "/opt/data/software/conda_envs/summary_gwas_imputation/lib/python3.7/site-packages/pyarrow/pandas_compat.py:752: FutureWarning: .labels was deprecated in version 0.24.0. Use .codes instead.\n",
      "\n",
      "Running for asthma_only, 13, 7\n",
      "Saving results in /opt/data/projects/asthma-copd/results/imputed_gwas\n",
      "/opt/data/software/conda_envs/summary_gwas_imputation/lib/python3.7/site-packages/pyarrow/pandas_compat.py:752: FutureWarning: .labels was deprecated in version 0.24.0. Use .codes instead.\n",
      "\n",
      "Running for asthma_only, 13, 8\n",
      "Saving results in /opt/data/projects/asthma-copd/results/imputed_gwas\n",
      "/opt/data/software/conda_envs/summary_gwas_imputation/lib/python3.7/site-packages/pyarrow/pandas_compat.py:752: FutureWarning: .labels was deprecated in version 0.24.0. Use .codes instead.\n",
      "\n",
      "Running for asthma_only, 13, 9\n",
      "Saving results in /opt/data/projects/asthma-copd/results/imputed_gwas\n",
      "/opt/data/software/conda_envs/summary_gwas_imputation/lib/python3.7/site-packages/pyarrow/pandas_compat.py:752: FutureWarning: .labels was deprecated in version 0.24.0. Use .codes instead.\n",
      "\n",
      "Running for asthma_only, 14, 0\n",
      "Saving results in /opt/data/projects/asthma-copd/results/imputed_gwas\n",
      "/opt/data/software/conda_envs/summary_gwas_imputation/lib/python3.7/site-packages/pyarrow/pandas_compat.py:752: FutureWarning: .labels was deprecated in version 0.24.0. Use .codes instead.\n",
      "INFO - Error for region (14,25666480.0,27997327.0): LinAlgError('SVD did not converge')\n",
      "\n",
      "Running for asthma_only, 14, 1\n",
      "Saving results in /opt/data/projects/asthma-copd/results/imputed_gwas\n",
      "/opt/data/software/conda_envs/summary_gwas_imputation/lib/python3.7/site-packages/pyarrow/pandas_compat.py:752: FutureWarning: .labels was deprecated in version 0.24.0. Use .codes instead.\n",
      "\n",
      "Running for asthma_only, 14, 2\n",
      "Saving results in /opt/data/projects/asthma-copd/results/imputed_gwas\n",
      "/opt/data/software/conda_envs/summary_gwas_imputation/lib/python3.7/site-packages/pyarrow/pandas_compat.py:752: FutureWarning: .labels was deprecated in version 0.24.0. Use .codes instead.\n",
      "\n",
      "Running for asthma_only, 14, 3\n",
      "Saving results in /opt/data/projects/asthma-copd/results/imputed_gwas\n",
      "/opt/data/software/conda_envs/summary_gwas_imputation/lib/python3.7/site-packages/pyarrow/pandas_compat.py:752: FutureWarning: .labels was deprecated in version 0.24.0. Use .codes instead.\n",
      "\n",
      "Running for asthma_only, 14, 4\n",
      "Saving results in /opt/data/projects/asthma-copd/results/imputed_gwas\n",
      "/opt/data/software/conda_envs/summary_gwas_imputation/lib/python3.7/site-packages/pyarrow/pandas_compat.py:752: FutureWarning: .labels was deprecated in version 0.24.0. Use .codes instead.\n",
      "\n",
      "Running for asthma_only, 14, 5\n",
      "Saving results in /opt/data/projects/asthma-copd/results/imputed_gwas\n",
      "/opt/data/software/conda_envs/summary_gwas_imputation/lib/python3.7/site-packages/pyarrow/pandas_compat.py:752: FutureWarning: .labels was deprecated in version 0.24.0. Use .codes instead.\n",
      "\n"
     ]
    },
    {
     "name": "stderr",
     "output_type": "stream",
     "text": [
      "+ set +x\n"
     ]
    },
    {
     "name": "stdout",
     "output_type": "stream",
     "text": [
      "Running for asthma_only, 14, 6\n",
      "Saving results in /opt/data/projects/asthma-copd/results/imputed_gwas\n",
      "/opt/data/software/conda_envs/summary_gwas_imputation/lib/python3.7/site-packages/pyarrow/pandas_compat.py:752: FutureWarning: .labels was deprecated in version 0.24.0. Use .codes instead.\n",
      "\n"
     ]
    },
    {
     "name": "stderr",
     "output_type": "stream",
     "text": [
      "+ /opt/data/software/conda_envs/summary_gwas_imputation/bin/python /opt/data/software/summary-gwas-imputation/src/gwas_summary_imputation.py -by_region_file /opt/data/data/eur_ld.bed.gz -gwas_file /opt/data/projects/asthma-copd/results/harmonized_gwas/GWAS_Asthma_only_GLM_SNPs_info0.7-harmonized.txt -parquet_genotype /opt/data/data/phenomexcan/ld_blocks/reference_panel_1000G/chr14.variants.parquet -parquet_genotype_metadata /opt/data/data/phenomexcan/ld_blocks/reference_panel_1000G/variant_metadata.parquet -window 100000 -parsimony 7 -chromosome 14 -regularization 0.1 -frequency_filter 0.01 -sub_batches 10 -sub_batch 6 --standardise_dosages -output /opt/data/projects/asthma-copd/results/imputed_gwas/GWAS_Asthma_only_GLM_SNPs_info0.7-harmonized-imputed-chr14-batch6_10.txt\n",
      "+ set +x\n"
     ]
    },
    {
     "name": "stdout",
     "output_type": "stream",
     "text": [
      "Running for asthma_only, 14, 7\n",
      "Saving results in /opt/data/projects/asthma-copd/results/imputed_gwas\n",
      "/opt/data/software/conda_envs/summary_gwas_imputation/lib/python3.7/site-packages/pyarrow/pandas_compat.py:752: FutureWarning: .labels was deprecated in version 0.24.0. Use .codes instead.\n",
      "\n",
      "Running for asthma_only, 14, 8\n",
      "Saving results in /opt/data/projects/asthma-copd/results/imputed_gwas\n",
      "/opt/data/software/conda_envs/summary_gwas_imputation/lib/python3.7/site-packages/pyarrow/pandas_compat.py:752: FutureWarning: .labels was deprecated in version 0.24.0. Use .codes instead.\n",
      "\n",
      "Running for asthma_only, 14, 9\n",
      "Saving results in /opt/data/projects/asthma-copd/results/imputed_gwas\n",
      "/opt/data/software/conda_envs/summary_gwas_imputation/lib/python3.7/site-packages/pyarrow/pandas_compat.py:752: FutureWarning: .labels was deprecated in version 0.24.0. Use .codes instead.\n",
      "\n",
      "Running for asthma_only, 15, 0\n",
      "Saving results in /opt/data/projects/asthma-copd/results/imputed_gwas\n",
      "/opt/data/software/conda_envs/summary_gwas_imputation/lib/python3.7/site-packages/pyarrow/pandas_compat.py:752: FutureWarning: .labels was deprecated in version 0.24.0. Use .codes instead.\n",
      "\n",
      "Running for asthma_only, 15, 1\n",
      "Saving results in /opt/data/projects/asthma-copd/results/imputed_gwas\n",
      "/opt/data/software/conda_envs/summary_gwas_imputation/lib/python3.7/site-packages/pyarrow/pandas_compat.py:752: FutureWarning: .labels was deprecated in version 0.24.0. Use .codes instead.\n",
      "\n",
      "Running for asthma_only, 15, 2\n",
      "Saving results in /opt/data/projects/asthma-copd/results/imputed_gwas\n",
      "/opt/data/software/conda_envs/summary_gwas_imputation/lib/python3.7/site-packages/pyarrow/pandas_compat.py:752: FutureWarning: .labels was deprecated in version 0.24.0. Use .codes instead.\n",
      "\n",
      "Running for asthma_only, 15, 3\n",
      "Saving results in /opt/data/projects/asthma-copd/results/imputed_gwas\n",
      "/opt/data/software/conda_envs/summary_gwas_imputation/lib/python3.7/site-packages/pyarrow/pandas_compat.py:752: FutureWarning: .labels was deprecated in version 0.24.0. Use .codes instead.\n",
      "\n"
     ]
    },
    {
     "name": "stderr",
     "output_type": "stream",
     "text": [
      "+ /opt/data/software/conda_envs/summary_gwas_imputation/bin/python /opt/data/software/summary-gwas-imputation/src/gwas_summary_imputation.py -by_region_file /opt/data/data/eur_ld.bed.gz -gwas_file /opt/data/projects/asthma-copd/results/harmonized_gwas/GWAS_Asthma_only_GLM_SNPs_info0.7-harmonized.txt -parquet_genotype /opt/data/data/phenomexcan/ld_blocks/reference_panel_1000G/chr14.variants.parquet -parquet_genotype_metadata /opt/data/data/phenomexcan/ld_blocks/reference_panel_1000G/variant_metadata.parquet -window 100000 -parsimony 7 -chromosome 14 -regularization 0.1 -frequency_filter 0.01 -sub_batches 10 -sub_batch 7 --standardise_dosages -output /opt/data/projects/asthma-copd/results/imputed_gwas/GWAS_Asthma_only_GLM_SNPs_info0.7-harmonized-imputed-chr14-batch7_10.txt\n",
      "+ set +x\n",
      "+ /opt/data/software/conda_envs/summary_gwas_imputation/bin/python /opt/data/software/summary-gwas-imputation/src/gwas_summary_imputation.py -by_region_file /opt/data/data/eur_ld.bed.gz -gwas_file /opt/data/projects/asthma-copd/results/harmonized_gwas/GWAS_Asthma_only_GLM_SNPs_info0.7-harmonized.txt -parquet_genotype /opt/data/data/phenomexcan/ld_blocks/reference_panel_1000G/chr14.variants.parquet -parquet_genotype_metadata /opt/data/data/phenomexcan/ld_blocks/reference_panel_1000G/variant_metadata.parquet -window 100000 -parsimony 7 -chromosome 14 -regularization 0.1 -frequency_filter 0.01 -sub_batches 10 -sub_batch 8 --standardise_dosages -output /opt/data/projects/asthma-copd/results/imputed_gwas/GWAS_Asthma_only_GLM_SNPs_info0.7-harmonized-imputed-chr14-batch8_10.txt\n",
      "+ set +x\n",
      "+ /opt/data/software/conda_envs/summary_gwas_imputation/bin/python /opt/data/software/summary-gwas-imputation/src/gwas_summary_imputation.py -by_region_file /opt/data/data/eur_ld.bed.gz -gwas_file /opt/data/projects/asthma-copd/results/harmonized_gwas/GWAS_Asthma_only_GLM_SNPs_info0.7-harmonized.txt -parquet_genotype /opt/data/data/phenomexcan/ld_blocks/reference_panel_1000G/chr14.variants.parquet -parquet_genotype_metadata /opt/data/data/phenomexcan/ld_blocks/reference_panel_1000G/variant_metadata.parquet -window 100000 -parsimony 7 -chromosome 14 -regularization 0.1 -frequency_filter 0.01 -sub_batches 10 -sub_batch 9 --standardise_dosages -output /opt/data/projects/asthma-copd/results/imputed_gwas/GWAS_Asthma_only_GLM_SNPs_info0.7-harmonized-imputed-chr14-batch9_10.txt\n",
      "+ set +x\n",
      "+ /opt/data/software/conda_envs/summary_gwas_imputation/bin/python /opt/data/software/summary-gwas-imputation/src/gwas_summary_imputation.py -by_region_file /opt/data/data/eur_ld.bed.gz -gwas_file /opt/data/projects/asthma-copd/results/harmonized_gwas/GWAS_Asthma_only_GLM_SNPs_info0.7-harmonized.txt -parquet_genotype /opt/data/data/phenomexcan/ld_blocks/reference_panel_1000G/chr15.variants.parquet -parquet_genotype_metadata /opt/data/data/phenomexcan/ld_blocks/reference_panel_1000G/variant_metadata.parquet -window 100000 -parsimony 7 -chromosome 15 -regularization 0.1 -frequency_filter 0.01 -sub_batches 10 -sub_batch 0 --standardise_dosages -output /opt/data/projects/asthma-copd/results/imputed_gwas/GWAS_Asthma_only_GLM_SNPs_info0.7-harmonized-imputed-chr15-batch0_10.txt\n",
      "+ set +x\n",
      "+ /opt/data/software/conda_envs/summary_gwas_imputation/bin/python /opt/data/software/summary-gwas-imputation/src/gwas_summary_imputation.py -by_region_file /opt/data/data/eur_ld.bed.gz -gwas_file /opt/data/projects/asthma-copd/results/harmonized_gwas/GWAS_Asthma_only_GLM_SNPs_info0.7-harmonized.txt -parquet_genotype /opt/data/data/phenomexcan/ld_blocks/reference_panel_1000G/chr15.variants.parquet -parquet_genotype_metadata /opt/data/data/phenomexcan/ld_blocks/reference_panel_1000G/variant_metadata.parquet -window 100000 -parsimony 7 -chromosome 15 -regularization 0.1 -frequency_filter 0.01 -sub_batches 10 -sub_batch 1 --standardise_dosages -output /opt/data/projects/asthma-copd/results/imputed_gwas/GWAS_Asthma_only_GLM_SNPs_info0.7-harmonized-imputed-chr15-batch1_10.txt\n",
      "+ set +x\n",
      "+ /opt/data/software/conda_envs/summary_gwas_imputation/bin/python /opt/data/software/summary-gwas-imputation/src/gwas_summary_imputation.py -by_region_file /opt/data/data/eur_ld.bed.gz -gwas_file /opt/data/projects/asthma-copd/results/harmonized_gwas/GWAS_Asthma_only_GLM_SNPs_info0.7-harmonized.txt -parquet_genotype /opt/data/data/phenomexcan/ld_blocks/reference_panel_1000G/chr15.variants.parquet -parquet_genotype_metadata /opt/data/data/phenomexcan/ld_blocks/reference_panel_1000G/variant_metadata.parquet -window 100000 -parsimony 7 -chromosome 15 -regularization 0.1 -frequency_filter 0.01 -sub_batches 10 -sub_batch 2 --standardise_dosages -output /opt/data/projects/asthma-copd/results/imputed_gwas/GWAS_Asthma_only_GLM_SNPs_info0.7-harmonized-imputed-chr15-batch2_10.txt\n",
      "+ set +x\n"
     ]
    },
    {
     "name": "stdout",
     "output_type": "stream",
     "text": [
      "Running for asthma_only, 15, 4\n",
      "Saving results in /opt/data/projects/asthma-copd/results/imputed_gwas\n",
      "/opt/data/software/conda_envs/summary_gwas_imputation/lib/python3.7/site-packages/pyarrow/pandas_compat.py:752: FutureWarning: .labels was deprecated in version 0.24.0. Use .codes instead.\n",
      "\n",
      "Running for asthma_only, 15, 5\n",
      "Saving results in /opt/data/projects/asthma-copd/results/imputed_gwas\n",
      "/opt/data/software/conda_envs/summary_gwas_imputation/lib/python3.7/site-packages/pyarrow/pandas_compat.py:752: FutureWarning: .labels was deprecated in version 0.24.0. Use .codes instead.\n",
      "\n"
     ]
    },
    {
     "name": "stderr",
     "output_type": "stream",
     "text": [
      "+ /opt/data/software/conda_envs/summary_gwas_imputation/bin/python /opt/data/software/summary-gwas-imputation/src/gwas_summary_imputation.py -by_region_file /opt/data/data/eur_ld.bed.gz -gwas_file /opt/data/projects/asthma-copd/results/harmonized_gwas/GWAS_Asthma_only_GLM_SNPs_info0.7-harmonized.txt -parquet_genotype /opt/data/data/phenomexcan/ld_blocks/reference_panel_1000G/chr15.variants.parquet -parquet_genotype_metadata /opt/data/data/phenomexcan/ld_blocks/reference_panel_1000G/variant_metadata.parquet -window 100000 -parsimony 7 -chromosome 15 -regularization 0.1 -frequency_filter 0.01 -sub_batches 10 -sub_batch 3 --standardise_dosages -output /opt/data/projects/asthma-copd/results/imputed_gwas/GWAS_Asthma_only_GLM_SNPs_info0.7-harmonized-imputed-chr15-batch3_10.txt\n",
      "+ set +x\n",
      "+ /opt/data/software/conda_envs/summary_gwas_imputation/bin/python /opt/data/software/summary-gwas-imputation/src/gwas_summary_imputation.py -by_region_file /opt/data/data/eur_ld.bed.gz -gwas_file /opt/data/projects/asthma-copd/results/harmonized_gwas/GWAS_Asthma_only_GLM_SNPs_info0.7-harmonized.txt -parquet_genotype /opt/data/data/phenomexcan/ld_blocks/reference_panel_1000G/chr15.variants.parquet -parquet_genotype_metadata /opt/data/data/phenomexcan/ld_blocks/reference_panel_1000G/variant_metadata.parquet -window 100000 -parsimony 7 -chromosome 15 -regularization 0.1 -frequency_filter 0.01 -sub_batches 10 -sub_batch 4 --standardise_dosages -output /opt/data/projects/asthma-copd/results/imputed_gwas/GWAS_Asthma_only_GLM_SNPs_info0.7-harmonized-imputed-chr15-batch4_10.txt\n",
      "+ set +x\n",
      "+ /opt/data/software/conda_envs/summary_gwas_imputation/bin/python /opt/data/software/summary-gwas-imputation/src/gwas_summary_imputation.py -by_region_file /opt/data/data/eur_ld.bed.gz -gwas_file /opt/data/projects/asthma-copd/results/harmonized_gwas/GWAS_Asthma_only_GLM_SNPs_info0.7-harmonized.txt -parquet_genotype /opt/data/data/phenomexcan/ld_blocks/reference_panel_1000G/chr15.variants.parquet -parquet_genotype_metadata /opt/data/data/phenomexcan/ld_blocks/reference_panel_1000G/variant_metadata.parquet -window 100000 -parsimony 7 -chromosome 15 -regularization 0.1 -frequency_filter 0.01 -sub_batches 10 -sub_batch 5 --standardise_dosages -output /opt/data/projects/asthma-copd/results/imputed_gwas/GWAS_Asthma_only_GLM_SNPs_info0.7-harmonized-imputed-chr15-batch5_10.txt\n",
      "+ set +x\n",
      "+ /opt/data/software/conda_envs/summary_gwas_imputation/bin/python /opt/data/software/summary-gwas-imputation/src/gwas_summary_imputation.py -by_region_file /opt/data/data/eur_ld.bed.gz -gwas_file /opt/data/projects/asthma-copd/results/harmonized_gwas/GWAS_Asthma_only_GLM_SNPs_info0.7-harmonized.txt -parquet_genotype /opt/data/data/phenomexcan/ld_blocks/reference_panel_1000G/chr15.variants.parquet -parquet_genotype_metadata /opt/data/data/phenomexcan/ld_blocks/reference_panel_1000G/variant_metadata.parquet -window 100000 -parsimony 7 -chromosome 15 -regularization 0.1 -frequency_filter 0.01 -sub_batches 10 -sub_batch 6 --standardise_dosages -output /opt/data/projects/asthma-copd/results/imputed_gwas/GWAS_Asthma_only_GLM_SNPs_info0.7-harmonized-imputed-chr15-batch6_10.txt\n",
      "+ set +x\n",
      "+ /opt/data/software/conda_envs/summary_gwas_imputation/bin/python /opt/data/software/summary-gwas-imputation/src/gwas_summary_imputation.py -by_region_file /opt/data/data/eur_ld.bed.gz -gwas_file /opt/data/projects/asthma-copd/results/harmonized_gwas/GWAS_Asthma_only_GLM_SNPs_info0.7-harmonized.txt -parquet_genotype /opt/data/data/phenomexcan/ld_blocks/reference_panel_1000G/chr15.variants.parquet -parquet_genotype_metadata /opt/data/data/phenomexcan/ld_blocks/reference_panel_1000G/variant_metadata.parquet -window 100000 -parsimony 7 -chromosome 15 -regularization 0.1 -frequency_filter 0.01 -sub_batches 10 -sub_batch 7 --standardise_dosages -output /opt/data/projects/asthma-copd/results/imputed_gwas/GWAS_Asthma_only_GLM_SNPs_info0.7-harmonized-imputed-chr15-batch7_10.txt\n"
     ]
    },
    {
     "name": "stdout",
     "output_type": "stream",
     "text": [
      "Running for asthma_only, 15, 6\n",
      "Saving results in /opt/data/projects/asthma-copd/results/imputed_gwas\n",
      "/opt/data/software/conda_envs/summary_gwas_imputation/lib/python3.7/site-packages/pyarrow/pandas_compat.py:752: FutureWarning: .labels was deprecated in version 0.24.0. Use .codes instead.\n",
      "\n",
      "Running for asthma_only, 15, 7\n",
      "Saving results in /opt/data/projects/asthma-copd/results/imputed_gwas\n",
      "/opt/data/software/conda_envs/summary_gwas_imputation/lib/python3.7/site-packages/pyarrow/pandas_compat.py:752: FutureWarning: .labels was deprecated in version 0.24.0. Use .codes instead.\n",
      "\n"
     ]
    },
    {
     "name": "stderr",
     "output_type": "stream",
     "text": [
      "+ set +x\n"
     ]
    },
    {
     "name": "stdout",
     "output_type": "stream",
     "text": [
      "Running for asthma_only, 15, 8\n",
      "Saving results in /opt/data/projects/asthma-copd/results/imputed_gwas\n",
      "/opt/data/software/conda_envs/summary_gwas_imputation/lib/python3.7/site-packages/pyarrow/pandas_compat.py:752: FutureWarning: .labels was deprecated in version 0.24.0. Use .codes instead.\n",
      "\n"
     ]
    },
    {
     "name": "stderr",
     "output_type": "stream",
     "text": [
      "+ /opt/data/software/conda_envs/summary_gwas_imputation/bin/python /opt/data/software/summary-gwas-imputation/src/gwas_summary_imputation.py -by_region_file /opt/data/data/eur_ld.bed.gz -gwas_file /opt/data/projects/asthma-copd/results/harmonized_gwas/GWAS_Asthma_only_GLM_SNPs_info0.7-harmonized.txt -parquet_genotype /opt/data/data/phenomexcan/ld_blocks/reference_panel_1000G/chr15.variants.parquet -parquet_genotype_metadata /opt/data/data/phenomexcan/ld_blocks/reference_panel_1000G/variant_metadata.parquet -window 100000 -parsimony 7 -chromosome 15 -regularization 0.1 -frequency_filter 0.01 -sub_batches 10 -sub_batch 8 --standardise_dosages -output /opt/data/projects/asthma-copd/results/imputed_gwas/GWAS_Asthma_only_GLM_SNPs_info0.7-harmonized-imputed-chr15-batch8_10.txt\n",
      "+ set +x\n"
     ]
    },
    {
     "name": "stdout",
     "output_type": "stream",
     "text": [
      "Running for asthma_only, 15, 9\n",
      "Saving results in /opt/data/projects/asthma-copd/results/imputed_gwas\n",
      "/opt/data/software/conda_envs/summary_gwas_imputation/lib/python3.7/site-packages/pyarrow/pandas_compat.py:752: FutureWarning: .labels was deprecated in version 0.24.0. Use .codes instead.\n",
      "\n",
      "Running for asthma_only, 16, 0\n",
      "Saving results in /opt/data/projects/asthma-copd/results/imputed_gwas\n",
      "/opt/data/software/conda_envs/summary_gwas_imputation/lib/python3.7/site-packages/pyarrow/pandas_compat.py:752: FutureWarning: .labels was deprecated in version 0.24.0. Use .codes instead.\n",
      "\n",
      "Running for asthma_only, 16, 1\n",
      "Saving results in /opt/data/projects/asthma-copd/results/imputed_gwas\n",
      "/opt/data/software/conda_envs/summary_gwas_imputation/lib/python3.7/site-packages/pyarrow/pandas_compat.py:752: FutureWarning: .labels was deprecated in version 0.24.0. Use .codes instead.\n",
      "\n",
      "Running for asthma_only, 16, 2\n",
      "Saving results in /opt/data/projects/asthma-copd/results/imputed_gwas\n",
      "/opt/data/software/conda_envs/summary_gwas_imputation/lib/python3.7/site-packages/pyarrow/pandas_compat.py:752: FutureWarning: .labels was deprecated in version 0.24.0. Use .codes instead.\n",
      "\n",
      "Running for asthma_only, 16, 3\n",
      "Saving results in /opt/data/projects/asthma-copd/results/imputed_gwas\n",
      "/opt/data/software/conda_envs/summary_gwas_imputation/lib/python3.7/site-packages/pyarrow/pandas_compat.py:752: FutureWarning: .labels was deprecated in version 0.24.0. Use .codes instead.\n",
      "\n",
      "Running for asthma_only, 16, 4\n",
      "Saving results in /opt/data/projects/asthma-copd/results/imputed_gwas\n"
     ]
    },
    {
     "name": "stderr",
     "output_type": "stream",
     "text": [
      "+ /opt/data/software/conda_envs/summary_gwas_imputation/bin/python /opt/data/software/summary-gwas-imputation/src/gwas_summary_imputation.py -by_region_file /opt/data/data/eur_ld.bed.gz -gwas_file /opt/data/projects/asthma-copd/results/harmonized_gwas/GWAS_Asthma_only_GLM_SNPs_info0.7-harmonized.txt -parquet_genotype /opt/data/data/phenomexcan/ld_blocks/reference_panel_1000G/chr15.variants.parquet -parquet_genotype_metadata /opt/data/data/phenomexcan/ld_blocks/reference_panel_1000G/variant_metadata.parquet -window 100000 -parsimony 7 -chromosome 15 -regularization 0.1 -frequency_filter 0.01 -sub_batches 10 -sub_batch 9 --standardise_dosages -output /opt/data/projects/asthma-copd/results/imputed_gwas/GWAS_Asthma_only_GLM_SNPs_info0.7-harmonized-imputed-chr15-batch9_10.txt\n",
      "+ set +x\n",
      "+ /opt/data/software/conda_envs/summary_gwas_imputation/bin/python /opt/data/software/summary-gwas-imputation/src/gwas_summary_imputation.py -by_region_file /opt/data/data/eur_ld.bed.gz -gwas_file /opt/data/projects/asthma-copd/results/harmonized_gwas/GWAS_Asthma_only_GLM_SNPs_info0.7-harmonized.txt -parquet_genotype /opt/data/data/phenomexcan/ld_blocks/reference_panel_1000G/chr16.variants.parquet -parquet_genotype_metadata /opt/data/data/phenomexcan/ld_blocks/reference_panel_1000G/variant_metadata.parquet -window 100000 -parsimony 7 -chromosome 16 -regularization 0.1 -frequency_filter 0.01 -sub_batches 10 -sub_batch 0 --standardise_dosages -output /opt/data/projects/asthma-copd/results/imputed_gwas/GWAS_Asthma_only_GLM_SNPs_info0.7-harmonized-imputed-chr16-batch0_10.txt\n",
      "+ set +x\n",
      "+ /opt/data/software/conda_envs/summary_gwas_imputation/bin/python /opt/data/software/summary-gwas-imputation/src/gwas_summary_imputation.py -by_region_file /opt/data/data/eur_ld.bed.gz -gwas_file /opt/data/projects/asthma-copd/results/harmonized_gwas/GWAS_Asthma_only_GLM_SNPs_info0.7-harmonized.txt -parquet_genotype /opt/data/data/phenomexcan/ld_blocks/reference_panel_1000G/chr16.variants.parquet -parquet_genotype_metadata /opt/data/data/phenomexcan/ld_blocks/reference_panel_1000G/variant_metadata.parquet -window 100000 -parsimony 7 -chromosome 16 -regularization 0.1 -frequency_filter 0.01 -sub_batches 10 -sub_batch 1 --standardise_dosages -output /opt/data/projects/asthma-copd/results/imputed_gwas/GWAS_Asthma_only_GLM_SNPs_info0.7-harmonized-imputed-chr16-batch1_10.txt\n",
      "+ set +x\n",
      "+ /opt/data/software/conda_envs/summary_gwas_imputation/bin/python /opt/data/software/summary-gwas-imputation/src/gwas_summary_imputation.py -by_region_file /opt/data/data/eur_ld.bed.gz -gwas_file /opt/data/projects/asthma-copd/results/harmonized_gwas/GWAS_Asthma_only_GLM_SNPs_info0.7-harmonized.txt -parquet_genotype /opt/data/data/phenomexcan/ld_blocks/reference_panel_1000G/chr16.variants.parquet -parquet_genotype_metadata /opt/data/data/phenomexcan/ld_blocks/reference_panel_1000G/variant_metadata.parquet -window 100000 -parsimony 7 -chromosome 16 -regularization 0.1 -frequency_filter 0.01 -sub_batches 10 -sub_batch 2 --standardise_dosages -output /opt/data/projects/asthma-copd/results/imputed_gwas/GWAS_Asthma_only_GLM_SNPs_info0.7-harmonized-imputed-chr16-batch2_10.txt\n",
      "+ set +x\n",
      "+ /opt/data/software/conda_envs/summary_gwas_imputation/bin/python /opt/data/software/summary-gwas-imputation/src/gwas_summary_imputation.py -by_region_file /opt/data/data/eur_ld.bed.gz -gwas_file /opt/data/projects/asthma-copd/results/harmonized_gwas/GWAS_Asthma_only_GLM_SNPs_info0.7-harmonized.txt -parquet_genotype /opt/data/data/phenomexcan/ld_blocks/reference_panel_1000G/chr16.variants.parquet -parquet_genotype_metadata /opt/data/data/phenomexcan/ld_blocks/reference_panel_1000G/variant_metadata.parquet -window 100000 -parsimony 7 -chromosome 16 -regularization 0.1 -frequency_filter 0.01 -sub_batches 10 -sub_batch 3 --standardise_dosages -output /opt/data/projects/asthma-copd/results/imputed_gwas/GWAS_Asthma_only_GLM_SNPs_info0.7-harmonized-imputed-chr16-batch3_10.txt\n",
      "+ set +x\n",
      "+ /opt/data/software/conda_envs/summary_gwas_imputation/bin/python /opt/data/software/summary-gwas-imputation/src/gwas_summary_imputation.py -by_region_file /opt/data/data/eur_ld.bed.gz -gwas_file /opt/data/projects/asthma-copd/results/harmonized_gwas/GWAS_Asthma_only_GLM_SNPs_info0.7-harmonized.txt -parquet_genotype /opt/data/data/phenomexcan/ld_blocks/reference_panel_1000G/chr16.variants.parquet -parquet_genotype_metadata /opt/data/data/phenomexcan/ld_blocks/reference_panel_1000G/variant_metadata.parquet -window 100000 -parsimony 7 -chromosome 16 -regularization 0.1 -frequency_filter 0.01 -sub_batches 10 -sub_batch 4 --standardise_dosages -output /opt/data/projects/asthma-copd/results/imputed_gwas/GWAS_Asthma_only_GLM_SNPs_info0.7-harmonized-imputed-chr16-batch4_10.txt\n"
     ]
    },
    {
     "name": "stdout",
     "output_type": "stream",
     "text": [
      "/opt/data/software/conda_envs/summary_gwas_imputation/lib/python3.7/site-packages/pyarrow/pandas_compat.py:752: FutureWarning: .labels was deprecated in version 0.24.0. Use .codes instead.\n",
      "\n"
     ]
    },
    {
     "name": "stderr",
     "output_type": "stream",
     "text": [
      "+ set +x\n"
     ]
    },
    {
     "name": "stdout",
     "output_type": "stream",
     "text": [
      "Running for asthma_only, 16, 5\n",
      "Saving results in /opt/data/projects/asthma-copd/results/imputed_gwas\n",
      "/opt/data/software/conda_envs/summary_gwas_imputation/lib/python3.7/site-packages/pyarrow/pandas_compat.py:752: FutureWarning: .labels was deprecated in version 0.24.0. Use .codes instead.\n",
      "\n"
     ]
    },
    {
     "name": "stderr",
     "output_type": "stream",
     "text": [
      "+ /opt/data/software/conda_envs/summary_gwas_imputation/bin/python /opt/data/software/summary-gwas-imputation/src/gwas_summary_imputation.py -by_region_file /opt/data/data/eur_ld.bed.gz -gwas_file /opt/data/projects/asthma-copd/results/harmonized_gwas/GWAS_Asthma_only_GLM_SNPs_info0.7-harmonized.txt -parquet_genotype /opt/data/data/phenomexcan/ld_blocks/reference_panel_1000G/chr16.variants.parquet -parquet_genotype_metadata /opt/data/data/phenomexcan/ld_blocks/reference_panel_1000G/variant_metadata.parquet -window 100000 -parsimony 7 -chromosome 16 -regularization 0.1 -frequency_filter 0.01 -sub_batches 10 -sub_batch 5 --standardise_dosages -output /opt/data/projects/asthma-copd/results/imputed_gwas/GWAS_Asthma_only_GLM_SNPs_info0.7-harmonized-imputed-chr16-batch5_10.txt\n",
      "+ set +x\n",
      "+ /opt/data/software/conda_envs/summary_gwas_imputation/bin/python /opt/data/software/summary-gwas-imputation/src/gwas_summary_imputation.py -by_region_file /opt/data/data/eur_ld.bed.gz -gwas_file /opt/data/projects/asthma-copd/results/harmonized_gwas/GWAS_Asthma_only_GLM_SNPs_info0.7-harmonized.txt -parquet_genotype /opt/data/data/phenomexcan/ld_blocks/reference_panel_1000G/chr16.variants.parquet -parquet_genotype_metadata /opt/data/data/phenomexcan/ld_blocks/reference_panel_1000G/variant_metadata.parquet -window 100000 -parsimony 7 -chromosome 16 -regularization 0.1 -frequency_filter 0.01 -sub_batches 10 -sub_batch 6 --standardise_dosages -output /opt/data/projects/asthma-copd/results/imputed_gwas/GWAS_Asthma_only_GLM_SNPs_info0.7-harmonized-imputed-chr16-batch6_10.txt\n",
      "+ set +x\n",
      "+ /opt/data/software/conda_envs/summary_gwas_imputation/bin/python /opt/data/software/summary-gwas-imputation/src/gwas_summary_imputation.py -by_region_file /opt/data/data/eur_ld.bed.gz -gwas_file /opt/data/projects/asthma-copd/results/harmonized_gwas/GWAS_Asthma_only_GLM_SNPs_info0.7-harmonized.txt -parquet_genotype /opt/data/data/phenomexcan/ld_blocks/reference_panel_1000G/chr16.variants.parquet -parquet_genotype_metadata /opt/data/data/phenomexcan/ld_blocks/reference_panel_1000G/variant_metadata.parquet -window 100000 -parsimony 7 -chromosome 16 -regularization 0.1 -frequency_filter 0.01 -sub_batches 10 -sub_batch 7 --standardise_dosages -output /opt/data/projects/asthma-copd/results/imputed_gwas/GWAS_Asthma_only_GLM_SNPs_info0.7-harmonized-imputed-chr16-batch7_10.txt\n",
      "+ set +x\n"
     ]
    },
    {
     "name": "stdout",
     "output_type": "stream",
     "text": [
      "Running for asthma_only, 16, 6\n",
      "Saving results in /opt/data/projects/asthma-copd/results/imputed_gwas\n",
      "/opt/data/software/conda_envs/summary_gwas_imputation/lib/python3.7/site-packages/pyarrow/pandas_compat.py:752: FutureWarning: .labels was deprecated in version 0.24.0. Use .codes instead.\n",
      "\n",
      "Running for asthma_only, 16, 7\n",
      "Saving results in /opt/data/projects/asthma-copd/results/imputed_gwas\n",
      "/opt/data/software/conda_envs/summary_gwas_imputation/lib/python3.7/site-packages/pyarrow/pandas_compat.py:752: FutureWarning: .labels was deprecated in version 0.24.0. Use .codes instead.\n",
      "\n",
      "Running for asthma_only, 16, 8\n",
      "Saving results in /opt/data/projects/asthma-copd/results/imputed_gwas\n",
      "/opt/data/software/conda_envs/summary_gwas_imputation/lib/python3.7/site-packages/pyarrow/pandas_compat.py:752: FutureWarning: .labels was deprecated in version 0.24.0. Use .codes instead.\n",
      "\n",
      "Running for asthma_only, 16, 9\n",
      "Saving results in /opt/data/projects/asthma-copd/results/imputed_gwas\n",
      "/opt/data/software/conda_envs/summary_gwas_imputation/lib/python3.7/site-packages/pyarrow/pandas_compat.py:752: FutureWarning: .labels was deprecated in version 0.24.0. Use .codes instead.\n",
      "INFO - Error for region (16,85115079.0,86122993.0): LinAlgError('SVD did not converge')\n",
      "\n",
      "Running for asthma_only, 17, 0\n",
      "Saving results in /opt/data/projects/asthma-copd/results/imputed_gwas\n",
      "/opt/data/software/conda_envs/summary_gwas_imputation/lib/python3.7/site-packages/pyarrow/pandas_compat.py:752: FutureWarning: .labels was deprecated in version 0.24.0. Use .codes instead.\n",
      "\n",
      "Running for asthma_only, 17, 1\n",
      "Saving results in /opt/data/projects/asthma-copd/results/imputed_gwas\n",
      "/opt/data/software/conda_envs/summary_gwas_imputation/lib/python3.7/site-packages/pyarrow/pandas_compat.py:752: FutureWarning: .labels was deprecated in version 0.24.0. Use .codes instead.\n",
      "INFO - Error for region (17,8403107.0,10062604.0): LinAlgError('SVD did not converge')\n",
      "\n",
      "Running for asthma_only, 17, 2\n",
      "Saving results in /opt/data/projects/asthma-copd/results/imputed_gwas\n",
      "/opt/data/software/conda_envs/summary_gwas_imputation/lib/python3.7/site-packages/pyarrow/pandas_compat.py:752: FutureWarning: .labels was deprecated in version 0.24.0. Use .codes instead.\n",
      "\n",
      "Running for asthma_only, 17, 3\n",
      "Saving results in /opt/data/projects/asthma-copd/results/imputed_gwas\n",
      "/opt/data/software/conda_envs/summary_gwas_imputation/lib/python3.7/site-packages/pyarrow/pandas_compat.py:752: FutureWarning: .labels was deprecated in version 0.24.0. Use .codes instead.\n",
      "\n",
      "Running for asthma_only, 17, 4\n",
      "Saving results in /opt/data/projects/asthma-copd/results/imputed_gwas\n",
      "/opt/data/software/conda_envs/summary_gwas_imputation/lib/python3.7/site-packages/pyarrow/pandas_compat.py:752: FutureWarning: .labels was deprecated in version 0.24.0. Use .codes instead.\n",
      "\n",
      "Running for asthma_only, 17, 5\n",
      "Saving results in /opt/data/projects/asthma-copd/results/imputed_gwas\n",
      "/opt/data/software/conda_envs/summary_gwas_imputation/lib/python3.7/site-packages/pyarrow/pandas_compat.py:752: FutureWarning: .labels was deprecated in version 0.24.0. Use .codes instead.\n",
      "\n",
      "Running for asthma_only, 17, 6\n",
      "Saving results in /opt/data/projects/asthma-copd/results/imputed_gwas\n",
      "/opt/data/software/conda_envs/summary_gwas_imputation/lib/python3.7/site-packages/pyarrow/pandas_compat.py:752: FutureWarning: .labels was deprecated in version 0.24.0. Use .codes instead.\n",
      "\n",
      "Running for asthma_only, 17, 7\n",
      "Saving results in /opt/data/projects/asthma-copd/results/imputed_gwas\n",
      "/opt/data/software/conda_envs/summary_gwas_imputation/lib/python3.7/site-packages/pyarrow/pandas_compat.py:752: FutureWarning: .labels was deprecated in version 0.24.0. Use .codes instead.\n",
      "\n",
      "Running for asthma_only, 17, 8\n",
      "Saving results in /opt/data/projects/asthma-copd/results/imputed_gwas\n"
     ]
    },
    {
     "name": "stderr",
     "output_type": "stream",
     "text": [
      "+ /opt/data/software/conda_envs/summary_gwas_imputation/bin/python /opt/data/software/summary-gwas-imputation/src/gwas_summary_imputation.py -by_region_file /opt/data/data/eur_ld.bed.gz -gwas_file /opt/data/projects/asthma-copd/results/harmonized_gwas/GWAS_Asthma_only_GLM_SNPs_info0.7-harmonized.txt -parquet_genotype /opt/data/data/phenomexcan/ld_blocks/reference_panel_1000G/chr16.variants.parquet -parquet_genotype_metadata /opt/data/data/phenomexcan/ld_blocks/reference_panel_1000G/variant_metadata.parquet -window 100000 -parsimony 7 -chromosome 16 -regularization 0.1 -frequency_filter 0.01 -sub_batches 10 -sub_batch 8 --standardise_dosages -output /opt/data/projects/asthma-copd/results/imputed_gwas/GWAS_Asthma_only_GLM_SNPs_info0.7-harmonized-imputed-chr16-batch8_10.txt\n",
      "+ set +x\n",
      "+ /opt/data/software/conda_envs/summary_gwas_imputation/bin/python /opt/data/software/summary-gwas-imputation/src/gwas_summary_imputation.py -by_region_file /opt/data/data/eur_ld.bed.gz -gwas_file /opt/data/projects/asthma-copd/results/harmonized_gwas/GWAS_Asthma_only_GLM_SNPs_info0.7-harmonized.txt -parquet_genotype /opt/data/data/phenomexcan/ld_blocks/reference_panel_1000G/chr16.variants.parquet -parquet_genotype_metadata /opt/data/data/phenomexcan/ld_blocks/reference_panel_1000G/variant_metadata.parquet -window 100000 -parsimony 7 -chromosome 16 -regularization 0.1 -frequency_filter 0.01 -sub_batches 10 -sub_batch 9 --standardise_dosages -output /opt/data/projects/asthma-copd/results/imputed_gwas/GWAS_Asthma_only_GLM_SNPs_info0.7-harmonized-imputed-chr16-batch9_10.txt\n",
      "+ set +x\n",
      "+ /opt/data/software/conda_envs/summary_gwas_imputation/bin/python /opt/data/software/summary-gwas-imputation/src/gwas_summary_imputation.py -by_region_file /opt/data/data/eur_ld.bed.gz -gwas_file /opt/data/projects/asthma-copd/results/harmonized_gwas/GWAS_Asthma_only_GLM_SNPs_info0.7-harmonized.txt -parquet_genotype /opt/data/data/phenomexcan/ld_blocks/reference_panel_1000G/chr17.variants.parquet -parquet_genotype_metadata /opt/data/data/phenomexcan/ld_blocks/reference_panel_1000G/variant_metadata.parquet -window 100000 -parsimony 7 -chromosome 17 -regularization 0.1 -frequency_filter 0.01 -sub_batches 10 -sub_batch 0 --standardise_dosages -output /opt/data/projects/asthma-copd/results/imputed_gwas/GWAS_Asthma_only_GLM_SNPs_info0.7-harmonized-imputed-chr17-batch0_10.txt\n",
      "+ set +x\n",
      "+ /opt/data/software/conda_envs/summary_gwas_imputation/bin/python /opt/data/software/summary-gwas-imputation/src/gwas_summary_imputation.py -by_region_file /opt/data/data/eur_ld.bed.gz -gwas_file /opt/data/projects/asthma-copd/results/harmonized_gwas/GWAS_Asthma_only_GLM_SNPs_info0.7-harmonized.txt -parquet_genotype /opt/data/data/phenomexcan/ld_blocks/reference_panel_1000G/chr17.variants.parquet -parquet_genotype_metadata /opt/data/data/phenomexcan/ld_blocks/reference_panel_1000G/variant_metadata.parquet -window 100000 -parsimony 7 -chromosome 17 -regularization 0.1 -frequency_filter 0.01 -sub_batches 10 -sub_batch 1 --standardise_dosages -output /opt/data/projects/asthma-copd/results/imputed_gwas/GWAS_Asthma_only_GLM_SNPs_info0.7-harmonized-imputed-chr17-batch1_10.txt\n",
      "+ set +x\n",
      "+ /opt/data/software/conda_envs/summary_gwas_imputation/bin/python /opt/data/software/summary-gwas-imputation/src/gwas_summary_imputation.py -by_region_file /opt/data/data/eur_ld.bed.gz -gwas_file /opt/data/projects/asthma-copd/results/harmonized_gwas/GWAS_Asthma_only_GLM_SNPs_info0.7-harmonized.txt -parquet_genotype /opt/data/data/phenomexcan/ld_blocks/reference_panel_1000G/chr17.variants.parquet -parquet_genotype_metadata /opt/data/data/phenomexcan/ld_blocks/reference_panel_1000G/variant_metadata.parquet -window 100000 -parsimony 7 -chromosome 17 -regularization 0.1 -frequency_filter 0.01 -sub_batches 10 -sub_batch 2 --standardise_dosages -output /opt/data/projects/asthma-copd/results/imputed_gwas/GWAS_Asthma_only_GLM_SNPs_info0.7-harmonized-imputed-chr17-batch2_10.txt\n",
      "+ set +x\n",
      "+ /opt/data/software/conda_envs/summary_gwas_imputation/bin/python /opt/data/software/summary-gwas-imputation/src/gwas_summary_imputation.py -by_region_file /opt/data/data/eur_ld.bed.gz -gwas_file /opt/data/projects/asthma-copd/results/harmonized_gwas/GWAS_Asthma_only_GLM_SNPs_info0.7-harmonized.txt -parquet_genotype /opt/data/data/phenomexcan/ld_blocks/reference_panel_1000G/chr17.variants.parquet -parquet_genotype_metadata /opt/data/data/phenomexcan/ld_blocks/reference_panel_1000G/variant_metadata.parquet -window 100000 -parsimony 7 -chromosome 17 -regularization 0.1 -frequency_filter 0.01 -sub_batches 10 -sub_batch 3 --standardise_dosages -output /opt/data/projects/asthma-copd/results/imputed_gwas/GWAS_Asthma_only_GLM_SNPs_info0.7-harmonized-imputed-chr17-batch3_10.txt\n",
      "+ set +x\n",
      "+ /opt/data/software/conda_envs/summary_gwas_imputation/bin/python /opt/data/software/summary-gwas-imputation/src/gwas_summary_imputation.py -by_region_file /opt/data/data/eur_ld.bed.gz -gwas_file /opt/data/projects/asthma-copd/results/harmonized_gwas/GWAS_Asthma_only_GLM_SNPs_info0.7-harmonized.txt -parquet_genotype /opt/data/data/phenomexcan/ld_blocks/reference_panel_1000G/chr17.variants.parquet -parquet_genotype_metadata /opt/data/data/phenomexcan/ld_blocks/reference_panel_1000G/variant_metadata.parquet -window 100000 -parsimony 7 -chromosome 17 -regularization 0.1 -frequency_filter 0.01 -sub_batches 10 -sub_batch 4 --standardise_dosages -output /opt/data/projects/asthma-copd/results/imputed_gwas/GWAS_Asthma_only_GLM_SNPs_info0.7-harmonized-imputed-chr17-batch4_10.txt\n",
      "+ set +x\n",
      "+ /opt/data/software/conda_envs/summary_gwas_imputation/bin/python /opt/data/software/summary-gwas-imputation/src/gwas_summary_imputation.py -by_region_file /opt/data/data/eur_ld.bed.gz -gwas_file /opt/data/projects/asthma-copd/results/harmonized_gwas/GWAS_Asthma_only_GLM_SNPs_info0.7-harmonized.txt -parquet_genotype /opt/data/data/phenomexcan/ld_blocks/reference_panel_1000G/chr17.variants.parquet -parquet_genotype_metadata /opt/data/data/phenomexcan/ld_blocks/reference_panel_1000G/variant_metadata.parquet -window 100000 -parsimony 7 -chromosome 17 -regularization 0.1 -frequency_filter 0.01 -sub_batches 10 -sub_batch 5 --standardise_dosages -output /opt/data/projects/asthma-copd/results/imputed_gwas/GWAS_Asthma_only_GLM_SNPs_info0.7-harmonized-imputed-chr17-batch5_10.txt\n",
      "+ set +x\n",
      "+ /opt/data/software/conda_envs/summary_gwas_imputation/bin/python /opt/data/software/summary-gwas-imputation/src/gwas_summary_imputation.py -by_region_file /opt/data/data/eur_ld.bed.gz -gwas_file /opt/data/projects/asthma-copd/results/harmonized_gwas/GWAS_Asthma_only_GLM_SNPs_info0.7-harmonized.txt -parquet_genotype /opt/data/data/phenomexcan/ld_blocks/reference_panel_1000G/chr17.variants.parquet -parquet_genotype_metadata /opt/data/data/phenomexcan/ld_blocks/reference_panel_1000G/variant_metadata.parquet -window 100000 -parsimony 7 -chromosome 17 -regularization 0.1 -frequency_filter 0.01 -sub_batches 10 -sub_batch 6 --standardise_dosages -output /opt/data/projects/asthma-copd/results/imputed_gwas/GWAS_Asthma_only_GLM_SNPs_info0.7-harmonized-imputed-chr17-batch6_10.txt\n",
      "+ set +x\n",
      "+ /opt/data/software/conda_envs/summary_gwas_imputation/bin/python /opt/data/software/summary-gwas-imputation/src/gwas_summary_imputation.py -by_region_file /opt/data/data/eur_ld.bed.gz -gwas_file /opt/data/projects/asthma-copd/results/harmonized_gwas/GWAS_Asthma_only_GLM_SNPs_info0.7-harmonized.txt -parquet_genotype /opt/data/data/phenomexcan/ld_blocks/reference_panel_1000G/chr17.variants.parquet -parquet_genotype_metadata /opt/data/data/phenomexcan/ld_blocks/reference_panel_1000G/variant_metadata.parquet -window 100000 -parsimony 7 -chromosome 17 -regularization 0.1 -frequency_filter 0.01 -sub_batches 10 -sub_batch 7 --standardise_dosages -output /opt/data/projects/asthma-copd/results/imputed_gwas/GWAS_Asthma_only_GLM_SNPs_info0.7-harmonized-imputed-chr17-batch7_10.txt\n",
      "+ set +x\n",
      "+ /opt/data/software/conda_envs/summary_gwas_imputation/bin/python /opt/data/software/summary-gwas-imputation/src/gwas_summary_imputation.py -by_region_file /opt/data/data/eur_ld.bed.gz -gwas_file /opt/data/projects/asthma-copd/results/harmonized_gwas/GWAS_Asthma_only_GLM_SNPs_info0.7-harmonized.txt -parquet_genotype /opt/data/data/phenomexcan/ld_blocks/reference_panel_1000G/chr17.variants.parquet -parquet_genotype_metadata /opt/data/data/phenomexcan/ld_blocks/reference_panel_1000G/variant_metadata.parquet -window 100000 -parsimony 7 -chromosome 17 -regularization 0.1 -frequency_filter 0.01 -sub_batches 10 -sub_batch 8 --standardise_dosages -output /opt/data/projects/asthma-copd/results/imputed_gwas/GWAS_Asthma_only_GLM_SNPs_info0.7-harmonized-imputed-chr17-batch8_10.txt\n"
     ]
    },
    {
     "name": "stdout",
     "output_type": "stream",
     "text": [
      "/opt/data/software/conda_envs/summary_gwas_imputation/lib/python3.7/site-packages/pyarrow/pandas_compat.py:752: FutureWarning: .labels was deprecated in version 0.24.0. Use .codes instead.\n",
      "\n"
     ]
    },
    {
     "name": "stderr",
     "output_type": "stream",
     "text": [
      "+ set +x\n"
     ]
    },
    {
     "name": "stdout",
     "output_type": "stream",
     "text": [
      "Running for asthma_only, 17, 9\n",
      "Saving results in /opt/data/projects/asthma-copd/results/imputed_gwas\n",
      "/opt/data/software/conda_envs/summary_gwas_imputation/lib/python3.7/site-packages/pyarrow/pandas_compat.py:752: FutureWarning: .labels was deprecated in version 0.24.0. Use .codes instead.\n",
      "\n"
     ]
    },
    {
     "name": "stderr",
     "output_type": "stream",
     "text": [
      "+ /opt/data/software/conda_envs/summary_gwas_imputation/bin/python /opt/data/software/summary-gwas-imputation/src/gwas_summary_imputation.py -by_region_file /opt/data/data/eur_ld.bed.gz -gwas_file /opt/data/projects/asthma-copd/results/harmonized_gwas/GWAS_Asthma_only_GLM_SNPs_info0.7-harmonized.txt -parquet_genotype /opt/data/data/phenomexcan/ld_blocks/reference_panel_1000G/chr17.variants.parquet -parquet_genotype_metadata /opt/data/data/phenomexcan/ld_blocks/reference_panel_1000G/variant_metadata.parquet -window 100000 -parsimony 7 -chromosome 17 -regularization 0.1 -frequency_filter 0.01 -sub_batches 10 -sub_batch 9 --standardise_dosages -output /opt/data/projects/asthma-copd/results/imputed_gwas/GWAS_Asthma_only_GLM_SNPs_info0.7-harmonized-imputed-chr17-batch9_10.txt\n",
      "+ set +x\n"
     ]
    },
    {
     "name": "stdout",
     "output_type": "stream",
     "text": [
      "Running for asthma_only, 18, 0\n",
      "Saving results in /opt/data/projects/asthma-copd/results/imputed_gwas\n",
      "/opt/data/software/conda_envs/summary_gwas_imputation/lib/python3.7/site-packages/pyarrow/pandas_compat.py:752: FutureWarning: .labels was deprecated in version 0.24.0. Use .codes instead.\n",
      "\n",
      "Running for asthma_only, 18, 1\n",
      "Saving results in /opt/data/projects/asthma-copd/results/imputed_gwas\n"
     ]
    },
    {
     "name": "stderr",
     "output_type": "stream",
     "text": [
      "+ /opt/data/software/conda_envs/summary_gwas_imputation/bin/python /opt/data/software/summary-gwas-imputation/src/gwas_summary_imputation.py -by_region_file /opt/data/data/eur_ld.bed.gz -gwas_file /opt/data/projects/asthma-copd/results/harmonized_gwas/GWAS_Asthma_only_GLM_SNPs_info0.7-harmonized.txt -parquet_genotype /opt/data/data/phenomexcan/ld_blocks/reference_panel_1000G/chr18.variants.parquet -parquet_genotype_metadata /opt/data/data/phenomexcan/ld_blocks/reference_panel_1000G/variant_metadata.parquet -window 100000 -parsimony 7 -chromosome 18 -regularization 0.1 -frequency_filter 0.01 -sub_batches 10 -sub_batch 0 --standardise_dosages -output /opt/data/projects/asthma-copd/results/imputed_gwas/GWAS_Asthma_only_GLM_SNPs_info0.7-harmonized-imputed-chr18-batch0_10.txt\n",
      "+ set +x\n",
      "+ /opt/data/software/conda_envs/summary_gwas_imputation/bin/python /opt/data/software/summary-gwas-imputation/src/gwas_summary_imputation.py -by_region_file /opt/data/data/eur_ld.bed.gz -gwas_file /opt/data/projects/asthma-copd/results/harmonized_gwas/GWAS_Asthma_only_GLM_SNPs_info0.7-harmonized.txt -parquet_genotype /opt/data/data/phenomexcan/ld_blocks/reference_panel_1000G/chr18.variants.parquet -parquet_genotype_metadata /opt/data/data/phenomexcan/ld_blocks/reference_panel_1000G/variant_metadata.parquet -window 100000 -parsimony 7 -chromosome 18 -regularization 0.1 -frequency_filter 0.01 -sub_batches 10 -sub_batch 1 --standardise_dosages -output /opt/data/projects/asthma-copd/results/imputed_gwas/GWAS_Asthma_only_GLM_SNPs_info0.7-harmonized-imputed-chr18-batch1_10.txt\n"
     ]
    },
    {
     "name": "stdout",
     "output_type": "stream",
     "text": [
      "/opt/data/software/conda_envs/summary_gwas_imputation/lib/python3.7/site-packages/pyarrow/pandas_compat.py:752: FutureWarning: .labels was deprecated in version 0.24.0. Use .codes instead.\n",
      "\n"
     ]
    },
    {
     "name": "stderr",
     "output_type": "stream",
     "text": [
      "+ set +x\n"
     ]
    },
    {
     "name": "stdout",
     "output_type": "stream",
     "text": [
      "Running for asthma_only, 18, 2\n",
      "Saving results in /opt/data/projects/asthma-copd/results/imputed_gwas\n",
      "/opt/data/software/conda_envs/summary_gwas_imputation/lib/python3.7/site-packages/pyarrow/pandas_compat.py:752: FutureWarning: .labels was deprecated in version 0.24.0. Use .codes instead.\n",
      "\n",
      "Running for asthma_only, 18, 3\n",
      "Saving results in /opt/data/projects/asthma-copd/results/imputed_gwas\n",
      "/opt/data/software/conda_envs/summary_gwas_imputation/lib/python3.7/site-packages/pyarrow/pandas_compat.py:752: FutureWarning: .labels was deprecated in version 0.24.0. Use .codes instead.\n",
      "\n",
      "Running for asthma_only, 18, 4\n",
      "Saving results in /opt/data/projects/asthma-copd/results/imputed_gwas\n",
      "/opt/data/software/conda_envs/summary_gwas_imputation/lib/python3.7/site-packages/pyarrow/pandas_compat.py:752: FutureWarning: .labels was deprecated in version 0.24.0. Use .codes instead.\n",
      "\n",
      "Running for asthma_only, 18, 5\n",
      "Saving results in /opt/data/projects/asthma-copd/results/imputed_gwas\n"
     ]
    },
    {
     "name": "stderr",
     "output_type": "stream",
     "text": [
      "+ /opt/data/software/conda_envs/summary_gwas_imputation/bin/python /opt/data/software/summary-gwas-imputation/src/gwas_summary_imputation.py -by_region_file /opt/data/data/eur_ld.bed.gz -gwas_file /opt/data/projects/asthma-copd/results/harmonized_gwas/GWAS_Asthma_only_GLM_SNPs_info0.7-harmonized.txt -parquet_genotype /opt/data/data/phenomexcan/ld_blocks/reference_panel_1000G/chr18.variants.parquet -parquet_genotype_metadata /opt/data/data/phenomexcan/ld_blocks/reference_panel_1000G/variant_metadata.parquet -window 100000 -parsimony 7 -chromosome 18 -regularization 0.1 -frequency_filter 0.01 -sub_batches 10 -sub_batch 2 --standardise_dosages -output /opt/data/projects/asthma-copd/results/imputed_gwas/GWAS_Asthma_only_GLM_SNPs_info0.7-harmonized-imputed-chr18-batch2_10.txt\n",
      "+ set +x\n",
      "+ /opt/data/software/conda_envs/summary_gwas_imputation/bin/python /opt/data/software/summary-gwas-imputation/src/gwas_summary_imputation.py -by_region_file /opt/data/data/eur_ld.bed.gz -gwas_file /opt/data/projects/asthma-copd/results/harmonized_gwas/GWAS_Asthma_only_GLM_SNPs_info0.7-harmonized.txt -parquet_genotype /opt/data/data/phenomexcan/ld_blocks/reference_panel_1000G/chr18.variants.parquet -parquet_genotype_metadata /opt/data/data/phenomexcan/ld_blocks/reference_panel_1000G/variant_metadata.parquet -window 100000 -parsimony 7 -chromosome 18 -regularization 0.1 -frequency_filter 0.01 -sub_batches 10 -sub_batch 3 --standardise_dosages -output /opt/data/projects/asthma-copd/results/imputed_gwas/GWAS_Asthma_only_GLM_SNPs_info0.7-harmonized-imputed-chr18-batch3_10.txt\n",
      "+ set +x\n",
      "+ /opt/data/software/conda_envs/summary_gwas_imputation/bin/python /opt/data/software/summary-gwas-imputation/src/gwas_summary_imputation.py -by_region_file /opt/data/data/eur_ld.bed.gz -gwas_file /opt/data/projects/asthma-copd/results/harmonized_gwas/GWAS_Asthma_only_GLM_SNPs_info0.7-harmonized.txt -parquet_genotype /opt/data/data/phenomexcan/ld_blocks/reference_panel_1000G/chr18.variants.parquet -parquet_genotype_metadata /opt/data/data/phenomexcan/ld_blocks/reference_panel_1000G/variant_metadata.parquet -window 100000 -parsimony 7 -chromosome 18 -regularization 0.1 -frequency_filter 0.01 -sub_batches 10 -sub_batch 4 --standardise_dosages -output /opt/data/projects/asthma-copd/results/imputed_gwas/GWAS_Asthma_only_GLM_SNPs_info0.7-harmonized-imputed-chr18-batch4_10.txt\n",
      "+ set +x\n",
      "+ /opt/data/software/conda_envs/summary_gwas_imputation/bin/python /opt/data/software/summary-gwas-imputation/src/gwas_summary_imputation.py -by_region_file /opt/data/data/eur_ld.bed.gz -gwas_file /opt/data/projects/asthma-copd/results/harmonized_gwas/GWAS_Asthma_only_GLM_SNPs_info0.7-harmonized.txt -parquet_genotype /opt/data/data/phenomexcan/ld_blocks/reference_panel_1000G/chr18.variants.parquet -parquet_genotype_metadata /opt/data/data/phenomexcan/ld_blocks/reference_panel_1000G/variant_metadata.parquet -window 100000 -parsimony 7 -chromosome 18 -regularization 0.1 -frequency_filter 0.01 -sub_batches 10 -sub_batch 5 --standardise_dosages -output /opt/data/projects/asthma-copd/results/imputed_gwas/GWAS_Asthma_only_GLM_SNPs_info0.7-harmonized-imputed-chr18-batch5_10.txt\n"
     ]
    },
    {
     "name": "stdout",
     "output_type": "stream",
     "text": [
      "/opt/data/software/conda_envs/summary_gwas_imputation/lib/python3.7/site-packages/pyarrow/pandas_compat.py:752: FutureWarning: .labels was deprecated in version 0.24.0. Use .codes instead.\n",
      "\n"
     ]
    },
    {
     "name": "stderr",
     "output_type": "stream",
     "text": [
      "+ set +x\n"
     ]
    },
    {
     "name": "stdout",
     "output_type": "stream",
     "text": [
      "Running for asthma_only, 18, 6\n",
      "Saving results in /opt/data/projects/asthma-copd/results/imputed_gwas\n",
      "/opt/data/software/conda_envs/summary_gwas_imputation/lib/python3.7/site-packages/pyarrow/pandas_compat.py:752: FutureWarning: .labels was deprecated in version 0.24.0. Use .codes instead.\n",
      "\n",
      "Running for asthma_only, 18, 7\n",
      "Saving results in /opt/data/projects/asthma-copd/results/imputed_gwas\n",
      "/opt/data/software/conda_envs/summary_gwas_imputation/lib/python3.7/site-packages/pyarrow/pandas_compat.py:752: FutureWarning: .labels was deprecated in version 0.24.0. Use .codes instead.\n",
      "INFO - Error for region (18,66585564.0,68458580.0): LinAlgError('SVD did not converge')\n",
      "\n",
      "Running for asthma_only, 18, 8\n",
      "Saving results in /opt/data/projects/asthma-copd/results/imputed_gwas\n",
      "/opt/data/software/conda_envs/summary_gwas_imputation/lib/python3.7/site-packages/pyarrow/pandas_compat.py:752: FutureWarning: .labels was deprecated in version 0.24.0. Use .codes instead.\n",
      "INFO - Error for region (18,71954382.0,73371239.0): LinAlgError('SVD did not converge')\n",
      "\n",
      "Running for asthma_only, 18, 9\n",
      "Saving results in /opt/data/projects/asthma-copd/results/imputed_gwas\n",
      "/opt/data/software/conda_envs/summary_gwas_imputation/lib/python3.7/site-packages/pyarrow/pandas_compat.py:752: FutureWarning: .labels was deprecated in version 0.24.0. Use .codes instead.\n",
      "\n",
      "Running for asthma_only, 19, 0\n",
      "Saving results in /opt/data/projects/asthma-copd/results/imputed_gwas\n",
      "/opt/data/software/conda_envs/summary_gwas_imputation/lib/python3.7/site-packages/pyarrow/pandas_compat.py:752: FutureWarning: .labels was deprecated in version 0.24.0. Use .codes instead.\n",
      "\n",
      "Running for asthma_only, 19, 1\n",
      "Saving results in /opt/data/projects/asthma-copd/results/imputed_gwas\n",
      "/opt/data/software/conda_envs/summary_gwas_imputation/lib/python3.7/site-packages/pyarrow/pandas_compat.py:752: FutureWarning: .labels was deprecated in version 0.24.0. Use .codes instead.\n",
      "\n",
      "Running for asthma_only, 19, 2\n",
      "Saving results in /opt/data/projects/asthma-copd/results/imputed_gwas\n",
      "/opt/data/software/conda_envs/summary_gwas_imputation/lib/python3.7/site-packages/pyarrow/pandas_compat.py:752: FutureWarning: .labels was deprecated in version 0.24.0. Use .codes instead.\n",
      "\n",
      "Running for asthma_only, 19, 3\n",
      "Saving results in /opt/data/projects/asthma-copd/results/imputed_gwas\n",
      "/opt/data/software/conda_envs/summary_gwas_imputation/lib/python3.7/site-packages/pyarrow/pandas_compat.py:752: FutureWarning: .labels was deprecated in version 0.24.0. Use .codes instead.\n",
      "\n",
      "Running for asthma_only, 19, 4\n",
      "Saving results in /opt/data/projects/asthma-copd/results/imputed_gwas\n",
      "/opt/data/software/conda_envs/summary_gwas_imputation/lib/python3.7/site-packages/pyarrow/pandas_compat.py:752: FutureWarning: .labels was deprecated in version 0.24.0. Use .codes instead.\n",
      "\n",
      "Running for asthma_only, 19, 5\n",
      "Saving results in /opt/data/projects/asthma-copd/results/imputed_gwas\n",
      "/opt/data/software/conda_envs/summary_gwas_imputation/lib/python3.7/site-packages/pyarrow/pandas_compat.py:752: FutureWarning: .labels was deprecated in version 0.24.0. Use .codes instead.\n",
      "\n"
     ]
    },
    {
     "name": "stderr",
     "output_type": "stream",
     "text": [
      "+ /opt/data/software/conda_envs/summary_gwas_imputation/bin/python /opt/data/software/summary-gwas-imputation/src/gwas_summary_imputation.py -by_region_file /opt/data/data/eur_ld.bed.gz -gwas_file /opt/data/projects/asthma-copd/results/harmonized_gwas/GWAS_Asthma_only_GLM_SNPs_info0.7-harmonized.txt -parquet_genotype /opt/data/data/phenomexcan/ld_blocks/reference_panel_1000G/chr18.variants.parquet -parquet_genotype_metadata /opt/data/data/phenomexcan/ld_blocks/reference_panel_1000G/variant_metadata.parquet -window 100000 -parsimony 7 -chromosome 18 -regularization 0.1 -frequency_filter 0.01 -sub_batches 10 -sub_batch 6 --standardise_dosages -output /opt/data/projects/asthma-copd/results/imputed_gwas/GWAS_Asthma_only_GLM_SNPs_info0.7-harmonized-imputed-chr18-batch6_10.txt\n",
      "+ set +x\n",
      "+ /opt/data/software/conda_envs/summary_gwas_imputation/bin/python /opt/data/software/summary-gwas-imputation/src/gwas_summary_imputation.py -by_region_file /opt/data/data/eur_ld.bed.gz -gwas_file /opt/data/projects/asthma-copd/results/harmonized_gwas/GWAS_Asthma_only_GLM_SNPs_info0.7-harmonized.txt -parquet_genotype /opt/data/data/phenomexcan/ld_blocks/reference_panel_1000G/chr18.variants.parquet -parquet_genotype_metadata /opt/data/data/phenomexcan/ld_blocks/reference_panel_1000G/variant_metadata.parquet -window 100000 -parsimony 7 -chromosome 18 -regularization 0.1 -frequency_filter 0.01 -sub_batches 10 -sub_batch 7 --standardise_dosages -output /opt/data/projects/asthma-copd/results/imputed_gwas/GWAS_Asthma_only_GLM_SNPs_info0.7-harmonized-imputed-chr18-batch7_10.txt\n",
      "+ set +x\n",
      "+ /opt/data/software/conda_envs/summary_gwas_imputation/bin/python /opt/data/software/summary-gwas-imputation/src/gwas_summary_imputation.py -by_region_file /opt/data/data/eur_ld.bed.gz -gwas_file /opt/data/projects/asthma-copd/results/harmonized_gwas/GWAS_Asthma_only_GLM_SNPs_info0.7-harmonized.txt -parquet_genotype /opt/data/data/phenomexcan/ld_blocks/reference_panel_1000G/chr18.variants.parquet -parquet_genotype_metadata /opt/data/data/phenomexcan/ld_blocks/reference_panel_1000G/variant_metadata.parquet -window 100000 -parsimony 7 -chromosome 18 -regularization 0.1 -frequency_filter 0.01 -sub_batches 10 -sub_batch 8 --standardise_dosages -output /opt/data/projects/asthma-copd/results/imputed_gwas/GWAS_Asthma_only_GLM_SNPs_info0.7-harmonized-imputed-chr18-batch8_10.txt\n",
      "+ set +x\n",
      "+ /opt/data/software/conda_envs/summary_gwas_imputation/bin/python /opt/data/software/summary-gwas-imputation/src/gwas_summary_imputation.py -by_region_file /opt/data/data/eur_ld.bed.gz -gwas_file /opt/data/projects/asthma-copd/results/harmonized_gwas/GWAS_Asthma_only_GLM_SNPs_info0.7-harmonized.txt -parquet_genotype /opt/data/data/phenomexcan/ld_blocks/reference_panel_1000G/chr18.variants.parquet -parquet_genotype_metadata /opt/data/data/phenomexcan/ld_blocks/reference_panel_1000G/variant_metadata.parquet -window 100000 -parsimony 7 -chromosome 18 -regularization 0.1 -frequency_filter 0.01 -sub_batches 10 -sub_batch 9 --standardise_dosages -output /opt/data/projects/asthma-copd/results/imputed_gwas/GWAS_Asthma_only_GLM_SNPs_info0.7-harmonized-imputed-chr18-batch9_10.txt\n",
      "+ set +x\n",
      "+ /opt/data/software/conda_envs/summary_gwas_imputation/bin/python /opt/data/software/summary-gwas-imputation/src/gwas_summary_imputation.py -by_region_file /opt/data/data/eur_ld.bed.gz -gwas_file /opt/data/projects/asthma-copd/results/harmonized_gwas/GWAS_Asthma_only_GLM_SNPs_info0.7-harmonized.txt -parquet_genotype /opt/data/data/phenomexcan/ld_blocks/reference_panel_1000G/chr19.variants.parquet -parquet_genotype_metadata /opt/data/data/phenomexcan/ld_blocks/reference_panel_1000G/variant_metadata.parquet -window 100000 -parsimony 7 -chromosome 19 -regularization 0.1 -frequency_filter 0.01 -sub_batches 10 -sub_batch 0 --standardise_dosages -output /opt/data/projects/asthma-copd/results/imputed_gwas/GWAS_Asthma_only_GLM_SNPs_info0.7-harmonized-imputed-chr19-batch0_10.txt\n",
      "+ set +x\n",
      "+ /opt/data/software/conda_envs/summary_gwas_imputation/bin/python /opt/data/software/summary-gwas-imputation/src/gwas_summary_imputation.py -by_region_file /opt/data/data/eur_ld.bed.gz -gwas_file /opt/data/projects/asthma-copd/results/harmonized_gwas/GWAS_Asthma_only_GLM_SNPs_info0.7-harmonized.txt -parquet_genotype /opt/data/data/phenomexcan/ld_blocks/reference_panel_1000G/chr19.variants.parquet -parquet_genotype_metadata /opt/data/data/phenomexcan/ld_blocks/reference_panel_1000G/variant_metadata.parquet -window 100000 -parsimony 7 -chromosome 19 -regularization 0.1 -frequency_filter 0.01 -sub_batches 10 -sub_batch 1 --standardise_dosages -output /opt/data/projects/asthma-copd/results/imputed_gwas/GWAS_Asthma_only_GLM_SNPs_info0.7-harmonized-imputed-chr19-batch1_10.txt\n",
      "+ set +x\n",
      "+ /opt/data/software/conda_envs/summary_gwas_imputation/bin/python /opt/data/software/summary-gwas-imputation/src/gwas_summary_imputation.py -by_region_file /opt/data/data/eur_ld.bed.gz -gwas_file /opt/data/projects/asthma-copd/results/harmonized_gwas/GWAS_Asthma_only_GLM_SNPs_info0.7-harmonized.txt -parquet_genotype /opt/data/data/phenomexcan/ld_blocks/reference_panel_1000G/chr19.variants.parquet -parquet_genotype_metadata /opt/data/data/phenomexcan/ld_blocks/reference_panel_1000G/variant_metadata.parquet -window 100000 -parsimony 7 -chromosome 19 -regularization 0.1 -frequency_filter 0.01 -sub_batches 10 -sub_batch 2 --standardise_dosages -output /opt/data/projects/asthma-copd/results/imputed_gwas/GWAS_Asthma_only_GLM_SNPs_info0.7-harmonized-imputed-chr19-batch2_10.txt\n",
      "+ set +x\n",
      "+ /opt/data/software/conda_envs/summary_gwas_imputation/bin/python /opt/data/software/summary-gwas-imputation/src/gwas_summary_imputation.py -by_region_file /opt/data/data/eur_ld.bed.gz -gwas_file /opt/data/projects/asthma-copd/results/harmonized_gwas/GWAS_Asthma_only_GLM_SNPs_info0.7-harmonized.txt -parquet_genotype /opt/data/data/phenomexcan/ld_blocks/reference_panel_1000G/chr19.variants.parquet -parquet_genotype_metadata /opt/data/data/phenomexcan/ld_blocks/reference_panel_1000G/variant_metadata.parquet -window 100000 -parsimony 7 -chromosome 19 -regularization 0.1 -frequency_filter 0.01 -sub_batches 10 -sub_batch 3 --standardise_dosages -output /opt/data/projects/asthma-copd/results/imputed_gwas/GWAS_Asthma_only_GLM_SNPs_info0.7-harmonized-imputed-chr19-batch3_10.txt\n",
      "+ set +x\n",
      "+ /opt/data/software/conda_envs/summary_gwas_imputation/bin/python /opt/data/software/summary-gwas-imputation/src/gwas_summary_imputation.py -by_region_file /opt/data/data/eur_ld.bed.gz -gwas_file /opt/data/projects/asthma-copd/results/harmonized_gwas/GWAS_Asthma_only_GLM_SNPs_info0.7-harmonized.txt -parquet_genotype /opt/data/data/phenomexcan/ld_blocks/reference_panel_1000G/chr19.variants.parquet -parquet_genotype_metadata /opt/data/data/phenomexcan/ld_blocks/reference_panel_1000G/variant_metadata.parquet -window 100000 -parsimony 7 -chromosome 19 -regularization 0.1 -frequency_filter 0.01 -sub_batches 10 -sub_batch 4 --standardise_dosages -output /opt/data/projects/asthma-copd/results/imputed_gwas/GWAS_Asthma_only_GLM_SNPs_info0.7-harmonized-imputed-chr19-batch4_10.txt\n",
      "+ set +x\n",
      "+ /opt/data/software/conda_envs/summary_gwas_imputation/bin/python /opt/data/software/summary-gwas-imputation/src/gwas_summary_imputation.py -by_region_file /opt/data/data/eur_ld.bed.gz -gwas_file /opt/data/projects/asthma-copd/results/harmonized_gwas/GWAS_Asthma_only_GLM_SNPs_info0.7-harmonized.txt -parquet_genotype /opt/data/data/phenomexcan/ld_blocks/reference_panel_1000G/chr19.variants.parquet -parquet_genotype_metadata /opt/data/data/phenomexcan/ld_blocks/reference_panel_1000G/variant_metadata.parquet -window 100000 -parsimony 7 -chromosome 19 -regularization 0.1 -frequency_filter 0.01 -sub_batches 10 -sub_batch 5 --standardise_dosages -output /opt/data/projects/asthma-copd/results/imputed_gwas/GWAS_Asthma_only_GLM_SNPs_info0.7-harmonized-imputed-chr19-batch5_10.txt\n",
      "+ set +x\n"
     ]
    },
    {
     "name": "stdout",
     "output_type": "stream",
     "text": [
      "Running for asthma_only, 19, 6\n",
      "Saving results in /opt/data/projects/asthma-copd/results/imputed_gwas\n",
      "/opt/data/software/conda_envs/summary_gwas_imputation/lib/python3.7/site-packages/pyarrow/pandas_compat.py:752: FutureWarning: .labels was deprecated in version 0.24.0. Use .codes instead.\n",
      "\n"
     ]
    },
    {
     "name": "stderr",
     "output_type": "stream",
     "text": [
      "+ /opt/data/software/conda_envs/summary_gwas_imputation/bin/python /opt/data/software/summary-gwas-imputation/src/gwas_summary_imputation.py -by_region_file /opt/data/data/eur_ld.bed.gz -gwas_file /opt/data/projects/asthma-copd/results/harmonized_gwas/GWAS_Asthma_only_GLM_SNPs_info0.7-harmonized.txt -parquet_genotype /opt/data/data/phenomexcan/ld_blocks/reference_panel_1000G/chr19.variants.parquet -parquet_genotype_metadata /opt/data/data/phenomexcan/ld_blocks/reference_panel_1000G/variant_metadata.parquet -window 100000 -parsimony 7 -chromosome 19 -regularization 0.1 -frequency_filter 0.01 -sub_batches 10 -sub_batch 6 --standardise_dosages -output /opt/data/projects/asthma-copd/results/imputed_gwas/GWAS_Asthma_only_GLM_SNPs_info0.7-harmonized-imputed-chr19-batch6_10.txt\n",
      "+ set +x\n"
     ]
    },
    {
     "name": "stdout",
     "output_type": "stream",
     "text": [
      "Running for asthma_only, 19, 7\n",
      "Saving results in /opt/data/projects/asthma-copd/results/imputed_gwas\n",
      "/opt/data/software/conda_envs/summary_gwas_imputation/lib/python3.7/site-packages/pyarrow/pandas_compat.py:752: FutureWarning: .labels was deprecated in version 0.24.0. Use .codes instead.\n",
      "\n",
      "Running for asthma_only, 19, 8\n",
      "Saving results in /opt/data/projects/asthma-copd/results/imputed_gwas\n",
      "/opt/data/software/conda_envs/summary_gwas_imputation/lib/python3.7/site-packages/pyarrow/pandas_compat.py:752: FutureWarning: .labels was deprecated in version 0.24.0. Use .codes instead.\n",
      "\n",
      "Running for asthma_only, 19, 9\n",
      "Saving results in /opt/data/projects/asthma-copd/results/imputed_gwas\n",
      "/opt/data/software/conda_envs/summary_gwas_imputation/lib/python3.7/site-packages/pyarrow/pandas_compat.py:752: FutureWarning: .labels was deprecated in version 0.24.0. Use .codes instead.\n",
      "\n",
      "Running for asthma_only, 20, 0\n",
      "Saving results in /opt/data/projects/asthma-copd/results/imputed_gwas\n",
      "/opt/data/software/conda_envs/summary_gwas_imputation/lib/python3.7/site-packages/pyarrow/pandas_compat.py:752: FutureWarning: .labels was deprecated in version 0.24.0. Use .codes instead.\n",
      "INFO - Error for region (20,79838.0,716956.0): LinAlgError('SVD did not converge')\n",
      "\n",
      "Running for asthma_only, 20, 1\n",
      "Saving results in /opt/data/projects/asthma-copd/results/imputed_gwas\n",
      "/opt/data/software/conda_envs/summary_gwas_imputation/lib/python3.7/site-packages/pyarrow/pandas_compat.py:752: FutureWarning: .labels was deprecated in version 0.24.0. Use .codes instead.\n",
      "\n",
      "Running for asthma_only, 20, 2\n",
      "Saving results in /opt/data/projects/asthma-copd/results/imputed_gwas\n",
      "/opt/data/software/conda_envs/summary_gwas_imputation/lib/python3.7/site-packages/pyarrow/pandas_compat.py:752: FutureWarning: .labels was deprecated in version 0.24.0. Use .codes instead.\n",
      "\n",
      "Running for asthma_only, 20, 3\n",
      "Saving results in /opt/data/projects/asthma-copd/results/imputed_gwas\n",
      "/opt/data/software/conda_envs/summary_gwas_imputation/lib/python3.7/site-packages/pyarrow/pandas_compat.py:752: FutureWarning: .labels was deprecated in version 0.24.0. Use .codes instead.\n",
      "\n",
      "Running for asthma_only, 20, 4\n",
      "Saving results in /opt/data/projects/asthma-copd/results/imputed_gwas\n",
      "/opt/data/software/conda_envs/summary_gwas_imputation/lib/python3.7/site-packages/pyarrow/pandas_compat.py:752: FutureWarning: .labels was deprecated in version 0.24.0. Use .codes instead.\n",
      "INFO - Error for region (20,25363595.0,33027017.0): TypeError(\"unsupported operand type(s) for +: 'float' and 'NoneType'\")\n",
      "\n",
      "Running for asthma_only, 20, 5\n",
      "Saving results in /opt/data/projects/asthma-copd/results/imputed_gwas\n",
      "/opt/data/software/conda_envs/summary_gwas_imputation/lib/python3.7/site-packages/pyarrow/pandas_compat.py:752: FutureWarning: .labels was deprecated in version 0.24.0. Use .codes instead.\n",
      "\n",
      "Running for asthma_only, 20, 6\n",
      "Saving results in /opt/data/projects/asthma-copd/results/imputed_gwas\n",
      "/opt/data/software/conda_envs/summary_gwas_imputation/lib/python3.7/site-packages/pyarrow/pandas_compat.py:752: FutureWarning: .labels was deprecated in version 0.24.0. Use .codes instead.\n",
      "\n",
      "Running for asthma_only, 20, 7\n",
      "Saving results in /opt/data/projects/asthma-copd/results/imputed_gwas\n"
     ]
    },
    {
     "name": "stderr",
     "output_type": "stream",
     "text": [
      "+ /opt/data/software/conda_envs/summary_gwas_imputation/bin/python /opt/data/software/summary-gwas-imputation/src/gwas_summary_imputation.py -by_region_file /opt/data/data/eur_ld.bed.gz -gwas_file /opt/data/projects/asthma-copd/results/harmonized_gwas/GWAS_Asthma_only_GLM_SNPs_info0.7-harmonized.txt -parquet_genotype /opt/data/data/phenomexcan/ld_blocks/reference_panel_1000G/chr19.variants.parquet -parquet_genotype_metadata /opt/data/data/phenomexcan/ld_blocks/reference_panel_1000G/variant_metadata.parquet -window 100000 -parsimony 7 -chromosome 19 -regularization 0.1 -frequency_filter 0.01 -sub_batches 10 -sub_batch 7 --standardise_dosages -output /opt/data/projects/asthma-copd/results/imputed_gwas/GWAS_Asthma_only_GLM_SNPs_info0.7-harmonized-imputed-chr19-batch7_10.txt\n",
      "+ set +x\n",
      "+ /opt/data/software/conda_envs/summary_gwas_imputation/bin/python /opt/data/software/summary-gwas-imputation/src/gwas_summary_imputation.py -by_region_file /opt/data/data/eur_ld.bed.gz -gwas_file /opt/data/projects/asthma-copd/results/harmonized_gwas/GWAS_Asthma_only_GLM_SNPs_info0.7-harmonized.txt -parquet_genotype /opt/data/data/phenomexcan/ld_blocks/reference_panel_1000G/chr19.variants.parquet -parquet_genotype_metadata /opt/data/data/phenomexcan/ld_blocks/reference_panel_1000G/variant_metadata.parquet -window 100000 -parsimony 7 -chromosome 19 -regularization 0.1 -frequency_filter 0.01 -sub_batches 10 -sub_batch 8 --standardise_dosages -output /opt/data/projects/asthma-copd/results/imputed_gwas/GWAS_Asthma_only_GLM_SNPs_info0.7-harmonized-imputed-chr19-batch8_10.txt\n",
      "+ set +x\n",
      "+ /opt/data/software/conda_envs/summary_gwas_imputation/bin/python /opt/data/software/summary-gwas-imputation/src/gwas_summary_imputation.py -by_region_file /opt/data/data/eur_ld.bed.gz -gwas_file /opt/data/projects/asthma-copd/results/harmonized_gwas/GWAS_Asthma_only_GLM_SNPs_info0.7-harmonized.txt -parquet_genotype /opt/data/data/phenomexcan/ld_blocks/reference_panel_1000G/chr19.variants.parquet -parquet_genotype_metadata /opt/data/data/phenomexcan/ld_blocks/reference_panel_1000G/variant_metadata.parquet -window 100000 -parsimony 7 -chromosome 19 -regularization 0.1 -frequency_filter 0.01 -sub_batches 10 -sub_batch 9 --standardise_dosages -output /opt/data/projects/asthma-copd/results/imputed_gwas/GWAS_Asthma_only_GLM_SNPs_info0.7-harmonized-imputed-chr19-batch9_10.txt\n",
      "+ set +x\n",
      "+ /opt/data/software/conda_envs/summary_gwas_imputation/bin/python /opt/data/software/summary-gwas-imputation/src/gwas_summary_imputation.py -by_region_file /opt/data/data/eur_ld.bed.gz -gwas_file /opt/data/projects/asthma-copd/results/harmonized_gwas/GWAS_Asthma_only_GLM_SNPs_info0.7-harmonized.txt -parquet_genotype /opt/data/data/phenomexcan/ld_blocks/reference_panel_1000G/chr20.variants.parquet -parquet_genotype_metadata /opt/data/data/phenomexcan/ld_blocks/reference_panel_1000G/variant_metadata.parquet -window 100000 -parsimony 7 -chromosome 20 -regularization 0.1 -frequency_filter 0.01 -sub_batches 10 -sub_batch 0 --standardise_dosages -output /opt/data/projects/asthma-copd/results/imputed_gwas/GWAS_Asthma_only_GLM_SNPs_info0.7-harmonized-imputed-chr20-batch0_10.txt\n",
      "+ set +x\n",
      "+ /opt/data/software/conda_envs/summary_gwas_imputation/bin/python /opt/data/software/summary-gwas-imputation/src/gwas_summary_imputation.py -by_region_file /opt/data/data/eur_ld.bed.gz -gwas_file /opt/data/projects/asthma-copd/results/harmonized_gwas/GWAS_Asthma_only_GLM_SNPs_info0.7-harmonized.txt -parquet_genotype /opt/data/data/phenomexcan/ld_blocks/reference_panel_1000G/chr20.variants.parquet -parquet_genotype_metadata /opt/data/data/phenomexcan/ld_blocks/reference_panel_1000G/variant_metadata.parquet -window 100000 -parsimony 7 -chromosome 20 -regularization 0.1 -frequency_filter 0.01 -sub_batches 10 -sub_batch 1 --standardise_dosages -output /opt/data/projects/asthma-copd/results/imputed_gwas/GWAS_Asthma_only_GLM_SNPs_info0.7-harmonized-imputed-chr20-batch1_10.txt\n",
      "+ set +x\n",
      "+ /opt/data/software/conda_envs/summary_gwas_imputation/bin/python /opt/data/software/summary-gwas-imputation/src/gwas_summary_imputation.py -by_region_file /opt/data/data/eur_ld.bed.gz -gwas_file /opt/data/projects/asthma-copd/results/harmonized_gwas/GWAS_Asthma_only_GLM_SNPs_info0.7-harmonized.txt -parquet_genotype /opt/data/data/phenomexcan/ld_blocks/reference_panel_1000G/chr20.variants.parquet -parquet_genotype_metadata /opt/data/data/phenomexcan/ld_blocks/reference_panel_1000G/variant_metadata.parquet -window 100000 -parsimony 7 -chromosome 20 -regularization 0.1 -frequency_filter 0.01 -sub_batches 10 -sub_batch 2 --standardise_dosages -output /opt/data/projects/asthma-copd/results/imputed_gwas/GWAS_Asthma_only_GLM_SNPs_info0.7-harmonized-imputed-chr20-batch2_10.txt\n",
      "+ set +x\n",
      "+ /opt/data/software/conda_envs/summary_gwas_imputation/bin/python /opt/data/software/summary-gwas-imputation/src/gwas_summary_imputation.py -by_region_file /opt/data/data/eur_ld.bed.gz -gwas_file /opt/data/projects/asthma-copd/results/harmonized_gwas/GWAS_Asthma_only_GLM_SNPs_info0.7-harmonized.txt -parquet_genotype /opt/data/data/phenomexcan/ld_blocks/reference_panel_1000G/chr20.variants.parquet -parquet_genotype_metadata /opt/data/data/phenomexcan/ld_blocks/reference_panel_1000G/variant_metadata.parquet -window 100000 -parsimony 7 -chromosome 20 -regularization 0.1 -frequency_filter 0.01 -sub_batches 10 -sub_batch 3 --standardise_dosages -output /opt/data/projects/asthma-copd/results/imputed_gwas/GWAS_Asthma_only_GLM_SNPs_info0.7-harmonized-imputed-chr20-batch3_10.txt\n",
      "+ set +x\n",
      "+ /opt/data/software/conda_envs/summary_gwas_imputation/bin/python /opt/data/software/summary-gwas-imputation/src/gwas_summary_imputation.py -by_region_file /opt/data/data/eur_ld.bed.gz -gwas_file /opt/data/projects/asthma-copd/results/harmonized_gwas/GWAS_Asthma_only_GLM_SNPs_info0.7-harmonized.txt -parquet_genotype /opt/data/data/phenomexcan/ld_blocks/reference_panel_1000G/chr20.variants.parquet -parquet_genotype_metadata /opt/data/data/phenomexcan/ld_blocks/reference_panel_1000G/variant_metadata.parquet -window 100000 -parsimony 7 -chromosome 20 -regularization 0.1 -frequency_filter 0.01 -sub_batches 10 -sub_batch 4 --standardise_dosages -output /opt/data/projects/asthma-copd/results/imputed_gwas/GWAS_Asthma_only_GLM_SNPs_info0.7-harmonized-imputed-chr20-batch4_10.txt\n",
      "+ set +x\n",
      "+ /opt/data/software/conda_envs/summary_gwas_imputation/bin/python /opt/data/software/summary-gwas-imputation/src/gwas_summary_imputation.py -by_region_file /opt/data/data/eur_ld.bed.gz -gwas_file /opt/data/projects/asthma-copd/results/harmonized_gwas/GWAS_Asthma_only_GLM_SNPs_info0.7-harmonized.txt -parquet_genotype /opt/data/data/phenomexcan/ld_blocks/reference_panel_1000G/chr20.variants.parquet -parquet_genotype_metadata /opt/data/data/phenomexcan/ld_blocks/reference_panel_1000G/variant_metadata.parquet -window 100000 -parsimony 7 -chromosome 20 -regularization 0.1 -frequency_filter 0.01 -sub_batches 10 -sub_batch 5 --standardise_dosages -output /opt/data/projects/asthma-copd/results/imputed_gwas/GWAS_Asthma_only_GLM_SNPs_info0.7-harmonized-imputed-chr20-batch5_10.txt\n",
      "+ set +x\n",
      "+ /opt/data/software/conda_envs/summary_gwas_imputation/bin/python /opt/data/software/summary-gwas-imputation/src/gwas_summary_imputation.py -by_region_file /opt/data/data/eur_ld.bed.gz -gwas_file /opt/data/projects/asthma-copd/results/harmonized_gwas/GWAS_Asthma_only_GLM_SNPs_info0.7-harmonized.txt -parquet_genotype /opt/data/data/phenomexcan/ld_blocks/reference_panel_1000G/chr20.variants.parquet -parquet_genotype_metadata /opt/data/data/phenomexcan/ld_blocks/reference_panel_1000G/variant_metadata.parquet -window 100000 -parsimony 7 -chromosome 20 -regularization 0.1 -frequency_filter 0.01 -sub_batches 10 -sub_batch 6 --standardise_dosages -output /opt/data/projects/asthma-copd/results/imputed_gwas/GWAS_Asthma_only_GLM_SNPs_info0.7-harmonized-imputed-chr20-batch6_10.txt\n",
      "+ set +x\n",
      "+ /opt/data/software/conda_envs/summary_gwas_imputation/bin/python /opt/data/software/summary-gwas-imputation/src/gwas_summary_imputation.py -by_region_file /opt/data/data/eur_ld.bed.gz -gwas_file /opt/data/projects/asthma-copd/results/harmonized_gwas/GWAS_Asthma_only_GLM_SNPs_info0.7-harmonized.txt -parquet_genotype /opt/data/data/phenomexcan/ld_blocks/reference_panel_1000G/chr20.variants.parquet -parquet_genotype_metadata /opt/data/data/phenomexcan/ld_blocks/reference_panel_1000G/variant_metadata.parquet -window 100000 -parsimony 7 -chromosome 20 -regularization 0.1 -frequency_filter 0.01 -sub_batches 10 -sub_batch 7 --standardise_dosages -output /opt/data/projects/asthma-copd/results/imputed_gwas/GWAS_Asthma_only_GLM_SNPs_info0.7-harmonized-imputed-chr20-batch7_10.txt\n"
     ]
    },
    {
     "name": "stdout",
     "output_type": "stream",
     "text": [
      "/opt/data/software/conda_envs/summary_gwas_imputation/lib/python3.7/site-packages/pyarrow/pandas_compat.py:752: FutureWarning: .labels was deprecated in version 0.24.0. Use .codes instead.\n",
      "\n"
     ]
    },
    {
     "name": "stderr",
     "output_type": "stream",
     "text": [
      "+ set +x\n"
     ]
    },
    {
     "name": "stdout",
     "output_type": "stream",
     "text": [
      "Running for asthma_only, 20, 8\n",
      "Saving results in /opt/data/projects/asthma-copd/results/imputed_gwas\n",
      "/opt/data/software/conda_envs/summary_gwas_imputation/lib/python3.7/site-packages/pyarrow/pandas_compat.py:752: FutureWarning: .labels was deprecated in version 0.24.0. Use .codes instead.\n",
      "\n",
      "Running for asthma_only, 20, 9\n",
      "Saving results in /opt/data/projects/asthma-copd/results/imputed_gwas\n",
      "/opt/data/software/conda_envs/summary_gwas_imputation/lib/python3.7/site-packages/pyarrow/pandas_compat.py:752: FutureWarning: .labels was deprecated in version 0.24.0. Use .codes instead.\n",
      "\n",
      "Running for asthma_only, 21, 0\n",
      "Saving results in /opt/data/projects/asthma-copd/results/imputed_gwas\n",
      "/opt/data/software/conda_envs/summary_gwas_imputation/lib/python3.7/site-packages/pyarrow/pandas_compat.py:752: FutureWarning: .labels was deprecated in version 0.24.0. Use .codes instead.\n",
      "\n",
      "Running for asthma_only, 21, 1\n",
      "Saving results in /opt/data/projects/asthma-copd/results/imputed_gwas\n",
      "/opt/data/software/conda_envs/summary_gwas_imputation/lib/python3.7/site-packages/pyarrow/pandas_compat.py:752: FutureWarning: .labels was deprecated in version 0.24.0. Use .codes instead.\n",
      "\n",
      "Running for asthma_only, 21, 2\n",
      "Saving results in /opt/data/projects/asthma-copd/results/imputed_gwas\n",
      "/opt/data/software/conda_envs/summary_gwas_imputation/lib/python3.7/site-packages/pyarrow/pandas_compat.py:752: FutureWarning: .labels was deprecated in version 0.24.0. Use .codes instead.\n",
      "\n",
      "Running for asthma_only, 21, 3\n",
      "Saving results in /opt/data/projects/asthma-copd/results/imputed_gwas\n",
      "/opt/data/software/conda_envs/summary_gwas_imputation/lib/python3.7/site-packages/pyarrow/pandas_compat.py:752: FutureWarning: .labels was deprecated in version 0.24.0. Use .codes instead.\n",
      "\n",
      "Running for asthma_only, 21, 4\n",
      "Saving results in /opt/data/projects/asthma-copd/results/imputed_gwas\n",
      "/opt/data/software/conda_envs/summary_gwas_imputation/lib/python3.7/site-packages/pyarrow/pandas_compat.py:752: FutureWarning: .labels was deprecated in version 0.24.0. Use .codes instead.\n",
      "\n",
      "Running for asthma_only, 21, 5\n",
      "Saving results in /opt/data/projects/asthma-copd/results/imputed_gwas\n",
      "/opt/data/software/conda_envs/summary_gwas_imputation/lib/python3.7/site-packages/pyarrow/pandas_compat.py:752: FutureWarning: .labels was deprecated in version 0.24.0. Use .codes instead.\n",
      "\n",
      "Running for asthma_only, 21, 6\n",
      "Saving results in /opt/data/projects/asthma-copd/results/imputed_gwas\n",
      "/opt/data/software/conda_envs/summary_gwas_imputation/lib/python3.7/site-packages/pyarrow/pandas_compat.py:752: FutureWarning: .labels was deprecated in version 0.24.0. Use .codes instead.\n",
      "\n",
      "Running for asthma_only, 21, 7\n",
      "Saving results in /opt/data/projects/asthma-copd/results/imputed_gwas\n",
      "/opt/data/software/conda_envs/summary_gwas_imputation/lib/python3.7/site-packages/pyarrow/pandas_compat.py:752: FutureWarning: .labels was deprecated in version 0.24.0. Use .codes instead.\n",
      "\n",
      "Running for asthma_only, 21, 8\n",
      "Saving results in /opt/data/projects/asthma-copd/results/imputed_gwas\n",
      "/opt/data/software/conda_envs/summary_gwas_imputation/lib/python3.7/site-packages/pyarrow/pandas_compat.py:752: FutureWarning: .labels was deprecated in version 0.24.0. Use .codes instead.\n",
      "\n",
      "Running for asthma_only, 21, 9\n",
      "Saving results in /opt/data/projects/asthma-copd/results/imputed_gwas\n",
      "/opt/data/software/conda_envs/summary_gwas_imputation/lib/python3.7/site-packages/pyarrow/pandas_compat.py:752: FutureWarning: .labels was deprecated in version 0.24.0. Use .codes instead.\n",
      "\n",
      "Running for asthma_only, 22, 0\n",
      "Saving results in /opt/data/projects/asthma-copd/results/imputed_gwas\n",
      "/opt/data/software/conda_envs/summary_gwas_imputation/lib/python3.7/site-packages/pyarrow/pandas_compat.py:752: FutureWarning: .labels was deprecated in version 0.24.0. Use .codes instead.\n",
      "\n",
      "Running for asthma_only, 22, 1\n",
      "Saving results in /opt/data/projects/asthma-copd/results/imputed_gwas\n",
      "/opt/data/software/conda_envs/summary_gwas_imputation/lib/python3.7/site-packages/pyarrow/pandas_compat.py:752: FutureWarning: .labels was deprecated in version 0.24.0. Use .codes instead.\n",
      "\n",
      "Running for asthma_only, 22, 2\n",
      "Saving results in /opt/data/projects/asthma-copd/results/imputed_gwas\n",
      "/opt/data/software/conda_envs/summary_gwas_imputation/lib/python3.7/site-packages/pyarrow/pandas_compat.py:752: FutureWarning: .labels was deprecated in version 0.24.0. Use .codes instead.\n",
      "Intel MKL ERROR: Parameter 4 was incorrect on entry to DLASCL.\n",
      "\n",
      "Running for asthma_only, 22, 3\n",
      "Saving results in /opt/data/projects/asthma-copd/results/imputed_gwas\n",
      "/opt/data/software/conda_envs/summary_gwas_imputation/lib/python3.7/site-packages/pyarrow/pandas_compat.py:752: FutureWarning: .labels was deprecated in version 0.24.0. Use .codes instead.\n",
      "\n",
      "Running for asthma_only, 22, 4\n",
      "Saving results in /opt/data/projects/asthma-copd/results/imputed_gwas\n",
      "/opt/data/software/conda_envs/summary_gwas_imputation/lib/python3.7/site-packages/pyarrow/pandas_compat.py:752: FutureWarning: .labels was deprecated in version 0.24.0. Use .codes instead.\n",
      "\n",
      "Running for asthma_only, 22, 5\n",
      "Saving results in /opt/data/projects/asthma-copd/results/imputed_gwas\n",
      "/opt/data/software/conda_envs/summary_gwas_imputation/lib/python3.7/site-packages/pyarrow/pandas_compat.py:752: FutureWarning: .labels was deprecated in version 0.24.0. Use .codes instead.\n",
      "\n",
      "Running for asthma_only, 22, 6\n",
      "Saving results in /opt/data/projects/asthma-copd/results/imputed_gwas\n",
      "/opt/data/software/conda_envs/summary_gwas_imputation/lib/python3.7/site-packages/pyarrow/pandas_compat.py:752: FutureWarning: .labels was deprecated in version 0.24.0. Use .codes instead.\n",
      "\n"
     ]
    },
    {
     "name": "stderr",
     "output_type": "stream",
     "text": [
      "+ /opt/data/software/conda_envs/summary_gwas_imputation/bin/python /opt/data/software/summary-gwas-imputation/src/gwas_summary_imputation.py -by_region_file /opt/data/data/eur_ld.bed.gz -gwas_file /opt/data/projects/asthma-copd/results/harmonized_gwas/GWAS_Asthma_only_GLM_SNPs_info0.7-harmonized.txt -parquet_genotype /opt/data/data/phenomexcan/ld_blocks/reference_panel_1000G/chr20.variants.parquet -parquet_genotype_metadata /opt/data/data/phenomexcan/ld_blocks/reference_panel_1000G/variant_metadata.parquet -window 100000 -parsimony 7 -chromosome 20 -regularization 0.1 -frequency_filter 0.01 -sub_batches 10 -sub_batch 8 --standardise_dosages -output /opt/data/projects/asthma-copd/results/imputed_gwas/GWAS_Asthma_only_GLM_SNPs_info0.7-harmonized-imputed-chr20-batch8_10.txt\n",
      "+ set +x\n",
      "+ /opt/data/software/conda_envs/summary_gwas_imputation/bin/python /opt/data/software/summary-gwas-imputation/src/gwas_summary_imputation.py -by_region_file /opt/data/data/eur_ld.bed.gz -gwas_file /opt/data/projects/asthma-copd/results/harmonized_gwas/GWAS_Asthma_only_GLM_SNPs_info0.7-harmonized.txt -parquet_genotype /opt/data/data/phenomexcan/ld_blocks/reference_panel_1000G/chr20.variants.parquet -parquet_genotype_metadata /opt/data/data/phenomexcan/ld_blocks/reference_panel_1000G/variant_metadata.parquet -window 100000 -parsimony 7 -chromosome 20 -regularization 0.1 -frequency_filter 0.01 -sub_batches 10 -sub_batch 9 --standardise_dosages -output /opt/data/projects/asthma-copd/results/imputed_gwas/GWAS_Asthma_only_GLM_SNPs_info0.7-harmonized-imputed-chr20-batch9_10.txt\n",
      "+ set +x\n",
      "+ /opt/data/software/conda_envs/summary_gwas_imputation/bin/python /opt/data/software/summary-gwas-imputation/src/gwas_summary_imputation.py -by_region_file /opt/data/data/eur_ld.bed.gz -gwas_file /opt/data/projects/asthma-copd/results/harmonized_gwas/GWAS_Asthma_only_GLM_SNPs_info0.7-harmonized.txt -parquet_genotype /opt/data/data/phenomexcan/ld_blocks/reference_panel_1000G/chr21.variants.parquet -parquet_genotype_metadata /opt/data/data/phenomexcan/ld_blocks/reference_panel_1000G/variant_metadata.parquet -window 100000 -parsimony 7 -chromosome 21 -regularization 0.1 -frequency_filter 0.01 -sub_batches 10 -sub_batch 0 --standardise_dosages -output /opt/data/projects/asthma-copd/results/imputed_gwas/GWAS_Asthma_only_GLM_SNPs_info0.7-harmonized-imputed-chr21-batch0_10.txt\n",
      "+ set +x\n",
      "+ /opt/data/software/conda_envs/summary_gwas_imputation/bin/python /opt/data/software/summary-gwas-imputation/src/gwas_summary_imputation.py -by_region_file /opt/data/data/eur_ld.bed.gz -gwas_file /opt/data/projects/asthma-copd/results/harmonized_gwas/GWAS_Asthma_only_GLM_SNPs_info0.7-harmonized.txt -parquet_genotype /opt/data/data/phenomexcan/ld_blocks/reference_panel_1000G/chr21.variants.parquet -parquet_genotype_metadata /opt/data/data/phenomexcan/ld_blocks/reference_panel_1000G/variant_metadata.parquet -window 100000 -parsimony 7 -chromosome 21 -regularization 0.1 -frequency_filter 0.01 -sub_batches 10 -sub_batch 1 --standardise_dosages -output /opt/data/projects/asthma-copd/results/imputed_gwas/GWAS_Asthma_only_GLM_SNPs_info0.7-harmonized-imputed-chr21-batch1_10.txt\n",
      "+ set +x\n",
      "+ /opt/data/software/conda_envs/summary_gwas_imputation/bin/python /opt/data/software/summary-gwas-imputation/src/gwas_summary_imputation.py -by_region_file /opt/data/data/eur_ld.bed.gz -gwas_file /opt/data/projects/asthma-copd/results/harmonized_gwas/GWAS_Asthma_only_GLM_SNPs_info0.7-harmonized.txt -parquet_genotype /opt/data/data/phenomexcan/ld_blocks/reference_panel_1000G/chr21.variants.parquet -parquet_genotype_metadata /opt/data/data/phenomexcan/ld_blocks/reference_panel_1000G/variant_metadata.parquet -window 100000 -parsimony 7 -chromosome 21 -regularization 0.1 -frequency_filter 0.01 -sub_batches 10 -sub_batch 2 --standardise_dosages -output /opt/data/projects/asthma-copd/results/imputed_gwas/GWAS_Asthma_only_GLM_SNPs_info0.7-harmonized-imputed-chr21-batch2_10.txt\n",
      "+ set +x\n",
      "+ /opt/data/software/conda_envs/summary_gwas_imputation/bin/python /opt/data/software/summary-gwas-imputation/src/gwas_summary_imputation.py -by_region_file /opt/data/data/eur_ld.bed.gz -gwas_file /opt/data/projects/asthma-copd/results/harmonized_gwas/GWAS_Asthma_only_GLM_SNPs_info0.7-harmonized.txt -parquet_genotype /opt/data/data/phenomexcan/ld_blocks/reference_panel_1000G/chr21.variants.parquet -parquet_genotype_metadata /opt/data/data/phenomexcan/ld_blocks/reference_panel_1000G/variant_metadata.parquet -window 100000 -parsimony 7 -chromosome 21 -regularization 0.1 -frequency_filter 0.01 -sub_batches 10 -sub_batch 3 --standardise_dosages -output /opt/data/projects/asthma-copd/results/imputed_gwas/GWAS_Asthma_only_GLM_SNPs_info0.7-harmonized-imputed-chr21-batch3_10.txt\n",
      "+ set +x\n",
      "+ /opt/data/software/conda_envs/summary_gwas_imputation/bin/python /opt/data/software/summary-gwas-imputation/src/gwas_summary_imputation.py -by_region_file /opt/data/data/eur_ld.bed.gz -gwas_file /opt/data/projects/asthma-copd/results/harmonized_gwas/GWAS_Asthma_only_GLM_SNPs_info0.7-harmonized.txt -parquet_genotype /opt/data/data/phenomexcan/ld_blocks/reference_panel_1000G/chr21.variants.parquet -parquet_genotype_metadata /opt/data/data/phenomexcan/ld_blocks/reference_panel_1000G/variant_metadata.parquet -window 100000 -parsimony 7 -chromosome 21 -regularization 0.1 -frequency_filter 0.01 -sub_batches 10 -sub_batch 4 --standardise_dosages -output /opt/data/projects/asthma-copd/results/imputed_gwas/GWAS_Asthma_only_GLM_SNPs_info0.7-harmonized-imputed-chr21-batch4_10.txt\n",
      "+ set +x\n",
      "+ /opt/data/software/conda_envs/summary_gwas_imputation/bin/python /opt/data/software/summary-gwas-imputation/src/gwas_summary_imputation.py -by_region_file /opt/data/data/eur_ld.bed.gz -gwas_file /opt/data/projects/asthma-copd/results/harmonized_gwas/GWAS_Asthma_only_GLM_SNPs_info0.7-harmonized.txt -parquet_genotype /opt/data/data/phenomexcan/ld_blocks/reference_panel_1000G/chr21.variants.parquet -parquet_genotype_metadata /opt/data/data/phenomexcan/ld_blocks/reference_panel_1000G/variant_metadata.parquet -window 100000 -parsimony 7 -chromosome 21 -regularization 0.1 -frequency_filter 0.01 -sub_batches 10 -sub_batch 5 --standardise_dosages -output /opt/data/projects/asthma-copd/results/imputed_gwas/GWAS_Asthma_only_GLM_SNPs_info0.7-harmonized-imputed-chr21-batch5_10.txt\n",
      "+ set +x\n",
      "+ /opt/data/software/conda_envs/summary_gwas_imputation/bin/python /opt/data/software/summary-gwas-imputation/src/gwas_summary_imputation.py -by_region_file /opt/data/data/eur_ld.bed.gz -gwas_file /opt/data/projects/asthma-copd/results/harmonized_gwas/GWAS_Asthma_only_GLM_SNPs_info0.7-harmonized.txt -parquet_genotype /opt/data/data/phenomexcan/ld_blocks/reference_panel_1000G/chr21.variants.parquet -parquet_genotype_metadata /opt/data/data/phenomexcan/ld_blocks/reference_panel_1000G/variant_metadata.parquet -window 100000 -parsimony 7 -chromosome 21 -regularization 0.1 -frequency_filter 0.01 -sub_batches 10 -sub_batch 6 --standardise_dosages -output /opt/data/projects/asthma-copd/results/imputed_gwas/GWAS_Asthma_only_GLM_SNPs_info0.7-harmonized-imputed-chr21-batch6_10.txt\n",
      "+ set +x\n",
      "+ /opt/data/software/conda_envs/summary_gwas_imputation/bin/python /opt/data/software/summary-gwas-imputation/src/gwas_summary_imputation.py -by_region_file /opt/data/data/eur_ld.bed.gz -gwas_file /opt/data/projects/asthma-copd/results/harmonized_gwas/GWAS_Asthma_only_GLM_SNPs_info0.7-harmonized.txt -parquet_genotype /opt/data/data/phenomexcan/ld_blocks/reference_panel_1000G/chr21.variants.parquet -parquet_genotype_metadata /opt/data/data/phenomexcan/ld_blocks/reference_panel_1000G/variant_metadata.parquet -window 100000 -parsimony 7 -chromosome 21 -regularization 0.1 -frequency_filter 0.01 -sub_batches 10 -sub_batch 7 --standardise_dosages -output /opt/data/projects/asthma-copd/results/imputed_gwas/GWAS_Asthma_only_GLM_SNPs_info0.7-harmonized-imputed-chr21-batch7_10.txt\n",
      "+ set +x\n",
      "+ /opt/data/software/conda_envs/summary_gwas_imputation/bin/python /opt/data/software/summary-gwas-imputation/src/gwas_summary_imputation.py -by_region_file /opt/data/data/eur_ld.bed.gz -gwas_file /opt/data/projects/asthma-copd/results/harmonized_gwas/GWAS_Asthma_only_GLM_SNPs_info0.7-harmonized.txt -parquet_genotype /opt/data/data/phenomexcan/ld_blocks/reference_panel_1000G/chr21.variants.parquet -parquet_genotype_metadata /opt/data/data/phenomexcan/ld_blocks/reference_panel_1000G/variant_metadata.parquet -window 100000 -parsimony 7 -chromosome 21 -regularization 0.1 -frequency_filter 0.01 -sub_batches 10 -sub_batch 8 --standardise_dosages -output /opt/data/projects/asthma-copd/results/imputed_gwas/GWAS_Asthma_only_GLM_SNPs_info0.7-harmonized-imputed-chr21-batch8_10.txt\n",
      "+ set +x\n",
      "+ /opt/data/software/conda_envs/summary_gwas_imputation/bin/python /opt/data/software/summary-gwas-imputation/src/gwas_summary_imputation.py -by_region_file /opt/data/data/eur_ld.bed.gz -gwas_file /opt/data/projects/asthma-copd/results/harmonized_gwas/GWAS_Asthma_only_GLM_SNPs_info0.7-harmonized.txt -parquet_genotype /opt/data/data/phenomexcan/ld_blocks/reference_panel_1000G/chr21.variants.parquet -parquet_genotype_metadata /opt/data/data/phenomexcan/ld_blocks/reference_panel_1000G/variant_metadata.parquet -window 100000 -parsimony 7 -chromosome 21 -regularization 0.1 -frequency_filter 0.01 -sub_batches 10 -sub_batch 9 --standardise_dosages -output /opt/data/projects/asthma-copd/results/imputed_gwas/GWAS_Asthma_only_GLM_SNPs_info0.7-harmonized-imputed-chr21-batch9_10.txt\n",
      "+ set +x\n",
      "+ /opt/data/software/conda_envs/summary_gwas_imputation/bin/python /opt/data/software/summary-gwas-imputation/src/gwas_summary_imputation.py -by_region_file /opt/data/data/eur_ld.bed.gz -gwas_file /opt/data/projects/asthma-copd/results/harmonized_gwas/GWAS_Asthma_only_GLM_SNPs_info0.7-harmonized.txt -parquet_genotype /opt/data/data/phenomexcan/ld_blocks/reference_panel_1000G/chr22.variants.parquet -parquet_genotype_metadata /opt/data/data/phenomexcan/ld_blocks/reference_panel_1000G/variant_metadata.parquet -window 100000 -parsimony 7 -chromosome 22 -regularization 0.1 -frequency_filter 0.01 -sub_batches 10 -sub_batch 0 --standardise_dosages -output /opt/data/projects/asthma-copd/results/imputed_gwas/GWAS_Asthma_only_GLM_SNPs_info0.7-harmonized-imputed-chr22-batch0_10.txt\n",
      "+ set +x\n",
      "+ /opt/data/software/conda_envs/summary_gwas_imputation/bin/python /opt/data/software/summary-gwas-imputation/src/gwas_summary_imputation.py -by_region_file /opt/data/data/eur_ld.bed.gz -gwas_file /opt/data/projects/asthma-copd/results/harmonized_gwas/GWAS_Asthma_only_GLM_SNPs_info0.7-harmonized.txt -parquet_genotype /opt/data/data/phenomexcan/ld_blocks/reference_panel_1000G/chr22.variants.parquet -parquet_genotype_metadata /opt/data/data/phenomexcan/ld_blocks/reference_panel_1000G/variant_metadata.parquet -window 100000 -parsimony 7 -chromosome 22 -regularization 0.1 -frequency_filter 0.01 -sub_batches 10 -sub_batch 1 --standardise_dosages -output /opt/data/projects/asthma-copd/results/imputed_gwas/GWAS_Asthma_only_GLM_SNPs_info0.7-harmonized-imputed-chr22-batch1_10.txt\n",
      "+ set +x\n",
      "+ /opt/data/software/conda_envs/summary_gwas_imputation/bin/python /opt/data/software/summary-gwas-imputation/src/gwas_summary_imputation.py -by_region_file /opt/data/data/eur_ld.bed.gz -gwas_file /opt/data/projects/asthma-copd/results/harmonized_gwas/GWAS_Asthma_only_GLM_SNPs_info0.7-harmonized.txt -parquet_genotype /opt/data/data/phenomexcan/ld_blocks/reference_panel_1000G/chr22.variants.parquet -parquet_genotype_metadata /opt/data/data/phenomexcan/ld_blocks/reference_panel_1000G/variant_metadata.parquet -window 100000 -parsimony 7 -chromosome 22 -regularization 0.1 -frequency_filter 0.01 -sub_batches 10 -sub_batch 2 --standardise_dosages -output /opt/data/projects/asthma-copd/results/imputed_gwas/GWAS_Asthma_only_GLM_SNPs_info0.7-harmonized-imputed-chr22-batch2_10.txt\n",
      "+ set +x\n",
      "+ /opt/data/software/conda_envs/summary_gwas_imputation/bin/python /opt/data/software/summary-gwas-imputation/src/gwas_summary_imputation.py -by_region_file /opt/data/data/eur_ld.bed.gz -gwas_file /opt/data/projects/asthma-copd/results/harmonized_gwas/GWAS_Asthma_only_GLM_SNPs_info0.7-harmonized.txt -parquet_genotype /opt/data/data/phenomexcan/ld_blocks/reference_panel_1000G/chr22.variants.parquet -parquet_genotype_metadata /opt/data/data/phenomexcan/ld_blocks/reference_panel_1000G/variant_metadata.parquet -window 100000 -parsimony 7 -chromosome 22 -regularization 0.1 -frequency_filter 0.01 -sub_batches 10 -sub_batch 3 --standardise_dosages -output /opt/data/projects/asthma-copd/results/imputed_gwas/GWAS_Asthma_only_GLM_SNPs_info0.7-harmonized-imputed-chr22-batch3_10.txt\n",
      "+ set +x\n",
      "+ /opt/data/software/conda_envs/summary_gwas_imputation/bin/python /opt/data/software/summary-gwas-imputation/src/gwas_summary_imputation.py -by_region_file /opt/data/data/eur_ld.bed.gz -gwas_file /opt/data/projects/asthma-copd/results/harmonized_gwas/GWAS_Asthma_only_GLM_SNPs_info0.7-harmonized.txt -parquet_genotype /opt/data/data/phenomexcan/ld_blocks/reference_panel_1000G/chr22.variants.parquet -parquet_genotype_metadata /opt/data/data/phenomexcan/ld_blocks/reference_panel_1000G/variant_metadata.parquet -window 100000 -parsimony 7 -chromosome 22 -regularization 0.1 -frequency_filter 0.01 -sub_batches 10 -sub_batch 4 --standardise_dosages -output /opt/data/projects/asthma-copd/results/imputed_gwas/GWAS_Asthma_only_GLM_SNPs_info0.7-harmonized-imputed-chr22-batch4_10.txt\n",
      "+ set +x\n",
      "+ /opt/data/software/conda_envs/summary_gwas_imputation/bin/python /opt/data/software/summary-gwas-imputation/src/gwas_summary_imputation.py -by_region_file /opt/data/data/eur_ld.bed.gz -gwas_file /opt/data/projects/asthma-copd/results/harmonized_gwas/GWAS_Asthma_only_GLM_SNPs_info0.7-harmonized.txt -parquet_genotype /opt/data/data/phenomexcan/ld_blocks/reference_panel_1000G/chr22.variants.parquet -parquet_genotype_metadata /opt/data/data/phenomexcan/ld_blocks/reference_panel_1000G/variant_metadata.parquet -window 100000 -parsimony 7 -chromosome 22 -regularization 0.1 -frequency_filter 0.01 -sub_batches 10 -sub_batch 5 --standardise_dosages -output /opt/data/projects/asthma-copd/results/imputed_gwas/GWAS_Asthma_only_GLM_SNPs_info0.7-harmonized-imputed-chr22-batch5_10.txt\n",
      "+ set +x\n",
      "+ /opt/data/software/conda_envs/summary_gwas_imputation/bin/python /opt/data/software/summary-gwas-imputation/src/gwas_summary_imputation.py -by_region_file /opt/data/data/eur_ld.bed.gz -gwas_file /opt/data/projects/asthma-copd/results/harmonized_gwas/GWAS_Asthma_only_GLM_SNPs_info0.7-harmonized.txt -parquet_genotype /opt/data/data/phenomexcan/ld_blocks/reference_panel_1000G/chr22.variants.parquet -parquet_genotype_metadata /opt/data/data/phenomexcan/ld_blocks/reference_panel_1000G/variant_metadata.parquet -window 100000 -parsimony 7 -chromosome 22 -regularization 0.1 -frequency_filter 0.01 -sub_batches 10 -sub_batch 6 --standardise_dosages -output /opt/data/projects/asthma-copd/results/imputed_gwas/GWAS_Asthma_only_GLM_SNPs_info0.7-harmonized-imputed-chr22-batch6_10.txt\n",
      "+ set +x\n",
      "+ /opt/data/software/conda_envs/summary_gwas_imputation/bin/python /opt/data/software/summary-gwas-imputation/src/gwas_summary_imputation.py -by_region_file /opt/data/data/eur_ld.bed.gz -gwas_file /opt/data/projects/asthma-copd/results/harmonized_gwas/GWAS_Asthma_only_GLM_SNPs_info0.7-harmonized.txt -parquet_genotype /opt/data/data/phenomexcan/ld_blocks/reference_panel_1000G/chr22.variants.parquet -parquet_genotype_metadata /opt/data/data/phenomexcan/ld_blocks/reference_panel_1000G/variant_metadata.parquet -window 100000 -parsimony 7 -chromosome 22 -regularization 0.1 -frequency_filter 0.01 -sub_batches 10 -sub_batch 7 --standardise_dosages -output /opt/data/projects/asthma-copd/results/imputed_gwas/GWAS_Asthma_only_GLM_SNPs_info0.7-harmonized-imputed-chr22-batch7_10.txt\n",
      "+ set +x\n",
      "+ /opt/data/software/conda_envs/summary_gwas_imputation/bin/python /opt/data/software/summary-gwas-imputation/src/gwas_summary_imputation.py -by_region_file /opt/data/data/eur_ld.bed.gz -gwas_file /opt/data/projects/asthma-copd/results/harmonized_gwas/GWAS_Asthma_only_GLM_SNPs_info0.7-harmonized.txt -parquet_genotype /opt/data/data/phenomexcan/ld_blocks/reference_panel_1000G/chr22.variants.parquet -parquet_genotype_metadata /opt/data/data/phenomexcan/ld_blocks/reference_panel_1000G/variant_metadata.parquet -window 100000 -parsimony 7 -chromosome 22 -regularization 0.1 -frequency_filter 0.01 -sub_batches 10 -sub_batch 8 --standardise_dosages -output /opt/data/projects/asthma-copd/results/imputed_gwas/GWAS_Asthma_only_GLM_SNPs_info0.7-harmonized-imputed-chr22-batch8_10.txt\n",
      "+ set +x\n",
      "+ /opt/data/software/conda_envs/summary_gwas_imputation/bin/python /opt/data/software/summary-gwas-imputation/src/gwas_summary_imputation.py -by_region_file /opt/data/data/eur_ld.bed.gz -gwas_file /opt/data/projects/asthma-copd/results/harmonized_gwas/GWAS_Asthma_only_GLM_SNPs_info0.7-harmonized.txt -parquet_genotype /opt/data/data/phenomexcan/ld_blocks/reference_panel_1000G/chr22.variants.parquet -parquet_genotype_metadata /opt/data/data/phenomexcan/ld_blocks/reference_panel_1000G/variant_metadata.parquet -window 100000 -parsimony 7 -chromosome 22 -regularization 0.1 -frequency_filter 0.01 -sub_batches 10 -sub_batch 9 --standardise_dosages -output /opt/data/projects/asthma-copd/results/imputed_gwas/GWAS_Asthma_only_GLM_SNPs_info0.7-harmonized-imputed-chr22-batch9_10.txt\n",
      "+ set +x\n",
      "+ /opt/data/software/conda_envs/summary_gwas_imputation/bin/python /opt/data/software/summary-gwas-imputation/src/gwas_summary_imputation.py -by_region_file /opt/data/data/eur_ld.bed.gz -gwas_file /opt/data/projects/asthma-copd/results/harmonized_gwas/GWAS_COPD_only_GLM_SNPs_info0.7-harmonized.txt -parquet_genotype /opt/data/data/phenomexcan/ld_blocks/reference_panel_1000G/chr1.variants.parquet -parquet_genotype_metadata /opt/data/data/phenomexcan/ld_blocks/reference_panel_1000G/variant_metadata.parquet -window 100000 -parsimony 7 -chromosome 1 -regularization 0.1 -frequency_filter 0.01 -sub_batches 10 -sub_batch 0 --standardise_dosages -output /opt/data/projects/asthma-copd/results/imputed_gwas/GWAS_COPD_only_GLM_SNPs_info0.7-harmonized-imputed-chr1-batch0_10.txt\n"
     ]
    },
    {
     "name": "stdout",
     "output_type": "stream",
     "text": [
      "Running for asthma_only, 22, 7\n",
      "Saving results in /opt/data/projects/asthma-copd/results/imputed_gwas\n",
      "/opt/data/software/conda_envs/summary_gwas_imputation/lib/python3.7/site-packages/pyarrow/pandas_compat.py:752: FutureWarning: .labels was deprecated in version 0.24.0. Use .codes instead.\n",
      "\n",
      "Running for asthma_only, 22, 8\n",
      "Saving results in /opt/data/projects/asthma-copd/results/imputed_gwas\n",
      "/opt/data/software/conda_envs/summary_gwas_imputation/lib/python3.7/site-packages/pyarrow/pandas_compat.py:752: FutureWarning: .labels was deprecated in version 0.24.0. Use .codes instead.\n",
      "\n",
      "Running for asthma_only, 22, 9\n",
      "Saving results in /opt/data/projects/asthma-copd/results/imputed_gwas\n",
      "/opt/data/software/conda_envs/summary_gwas_imputation/lib/python3.7/site-packages/pyarrow/pandas_compat.py:752: FutureWarning: .labels was deprecated in version 0.24.0. Use .codes instead.\n",
      "\n",
      "Running for copd_only, 1, 0\n",
      "Saving results in /opt/data/projects/asthma-copd/results/imputed_gwas\n",
      "/opt/data/software/conda_envs/summary_gwas_imputation/lib/python3.7/site-packages/pyarrow/pandas_compat.py:752: FutureWarning: .labels was deprecated in version 0.24.0. Use .codes instead.\n",
      "\n"
     ]
    },
    {
     "name": "stderr",
     "output_type": "stream",
     "text": [
      "+ set +x\n"
     ]
    },
    {
     "name": "stdout",
     "output_type": "stream",
     "text": [
      "Running for copd_only, 1, 1\n",
      "Saving results in /opt/data/projects/asthma-copd/results/imputed_gwas\n",
      "/opt/data/software/conda_envs/summary_gwas_imputation/lib/python3.7/site-packages/pyarrow/pandas_compat.py:752: FutureWarning: .labels was deprecated in version 0.24.0. Use .codes instead.\n",
      "\n"
     ]
    },
    {
     "name": "stderr",
     "output_type": "stream",
     "text": [
      "+ /opt/data/software/conda_envs/summary_gwas_imputation/bin/python /opt/data/software/summary-gwas-imputation/src/gwas_summary_imputation.py -by_region_file /opt/data/data/eur_ld.bed.gz -gwas_file /opt/data/projects/asthma-copd/results/harmonized_gwas/GWAS_COPD_only_GLM_SNPs_info0.7-harmonized.txt -parquet_genotype /opt/data/data/phenomexcan/ld_blocks/reference_panel_1000G/chr1.variants.parquet -parquet_genotype_metadata /opt/data/data/phenomexcan/ld_blocks/reference_panel_1000G/variant_metadata.parquet -window 100000 -parsimony 7 -chromosome 1 -regularization 0.1 -frequency_filter 0.01 -sub_batches 10 -sub_batch 1 --standardise_dosages -output /opt/data/projects/asthma-copd/results/imputed_gwas/GWAS_COPD_only_GLM_SNPs_info0.7-harmonized-imputed-chr1-batch1_10.txt\n",
      "+ set +x\n"
     ]
    },
    {
     "name": "stdout",
     "output_type": "stream",
     "text": [
      "Running for copd_only, 1, 2\n",
      "Saving results in /opt/data/projects/asthma-copd/results/imputed_gwas\n",
      "/opt/data/software/conda_envs/summary_gwas_imputation/lib/python3.7/site-packages/pyarrow/pandas_compat.py:752: FutureWarning: .labels was deprecated in version 0.24.0. Use .codes instead.\n",
      "\n",
      "Running for copd_only, 1, 3\n",
      "Saving results in /opt/data/projects/asthma-copd/results/imputed_gwas\n"
     ]
    },
    {
     "name": "stderr",
     "output_type": "stream",
     "text": [
      "+ /opt/data/software/conda_envs/summary_gwas_imputation/bin/python /opt/data/software/summary-gwas-imputation/src/gwas_summary_imputation.py -by_region_file /opt/data/data/eur_ld.bed.gz -gwas_file /opt/data/projects/asthma-copd/results/harmonized_gwas/GWAS_COPD_only_GLM_SNPs_info0.7-harmonized.txt -parquet_genotype /opt/data/data/phenomexcan/ld_blocks/reference_panel_1000G/chr1.variants.parquet -parquet_genotype_metadata /opt/data/data/phenomexcan/ld_blocks/reference_panel_1000G/variant_metadata.parquet -window 100000 -parsimony 7 -chromosome 1 -regularization 0.1 -frequency_filter 0.01 -sub_batches 10 -sub_batch 2 --standardise_dosages -output /opt/data/projects/asthma-copd/results/imputed_gwas/GWAS_COPD_only_GLM_SNPs_info0.7-harmonized-imputed-chr1-batch2_10.txt\n",
      "+ set +x\n",
      "+ /opt/data/software/conda_envs/summary_gwas_imputation/bin/python /opt/data/software/summary-gwas-imputation/src/gwas_summary_imputation.py -by_region_file /opt/data/data/eur_ld.bed.gz -gwas_file /opt/data/projects/asthma-copd/results/harmonized_gwas/GWAS_COPD_only_GLM_SNPs_info0.7-harmonized.txt -parquet_genotype /opt/data/data/phenomexcan/ld_blocks/reference_panel_1000G/chr1.variants.parquet -parquet_genotype_metadata /opt/data/data/phenomexcan/ld_blocks/reference_panel_1000G/variant_metadata.parquet -window 100000 -parsimony 7 -chromosome 1 -regularization 0.1 -frequency_filter 0.01 -sub_batches 10 -sub_batch 3 --standardise_dosages -output /opt/data/projects/asthma-copd/results/imputed_gwas/GWAS_COPD_only_GLM_SNPs_info0.7-harmonized-imputed-chr1-batch3_10.txt\n"
     ]
    },
    {
     "name": "stdout",
     "output_type": "stream",
     "text": [
      "/opt/data/software/conda_envs/summary_gwas_imputation/lib/python3.7/site-packages/pyarrow/pandas_compat.py:752: FutureWarning: .labels was deprecated in version 0.24.0. Use .codes instead.\n",
      "\n"
     ]
    },
    {
     "name": "stderr",
     "output_type": "stream",
     "text": [
      "+ set +x\n"
     ]
    },
    {
     "name": "stdout",
     "output_type": "stream",
     "text": [
      "Running for copd_only, 1, 4\n",
      "Saving results in /opt/data/projects/asthma-copd/results/imputed_gwas\n",
      "/opt/data/software/conda_envs/summary_gwas_imputation/lib/python3.7/site-packages/pyarrow/pandas_compat.py:752: FutureWarning: .labels was deprecated in version 0.24.0. Use .codes instead.\n",
      "\n",
      "Running for copd_only, 1, 5\n",
      "Saving results in /opt/data/projects/asthma-copd/results/imputed_gwas\n",
      "/opt/data/software/conda_envs/summary_gwas_imputation/lib/python3.7/site-packages/pyarrow/pandas_compat.py:752: FutureWarning: .labels was deprecated in version 0.24.0. Use .codes instead.\n",
      "\n",
      "Running for copd_only, 1, 6\n",
      "Saving results in /opt/data/projects/asthma-copd/results/imputed_gwas\n"
     ]
    },
    {
     "name": "stderr",
     "output_type": "stream",
     "text": [
      "+ /opt/data/software/conda_envs/summary_gwas_imputation/bin/python /opt/data/software/summary-gwas-imputation/src/gwas_summary_imputation.py -by_region_file /opt/data/data/eur_ld.bed.gz -gwas_file /opt/data/projects/asthma-copd/results/harmonized_gwas/GWAS_COPD_only_GLM_SNPs_info0.7-harmonized.txt -parquet_genotype /opt/data/data/phenomexcan/ld_blocks/reference_panel_1000G/chr1.variants.parquet -parquet_genotype_metadata /opt/data/data/phenomexcan/ld_blocks/reference_panel_1000G/variant_metadata.parquet -window 100000 -parsimony 7 -chromosome 1 -regularization 0.1 -frequency_filter 0.01 -sub_batches 10 -sub_batch 4 --standardise_dosages -output /opt/data/projects/asthma-copd/results/imputed_gwas/GWAS_COPD_only_GLM_SNPs_info0.7-harmonized-imputed-chr1-batch4_10.txt\n",
      "+ set +x\n",
      "+ /opt/data/software/conda_envs/summary_gwas_imputation/bin/python /opt/data/software/summary-gwas-imputation/src/gwas_summary_imputation.py -by_region_file /opt/data/data/eur_ld.bed.gz -gwas_file /opt/data/projects/asthma-copd/results/harmonized_gwas/GWAS_COPD_only_GLM_SNPs_info0.7-harmonized.txt -parquet_genotype /opt/data/data/phenomexcan/ld_blocks/reference_panel_1000G/chr1.variants.parquet -parquet_genotype_metadata /opt/data/data/phenomexcan/ld_blocks/reference_panel_1000G/variant_metadata.parquet -window 100000 -parsimony 7 -chromosome 1 -regularization 0.1 -frequency_filter 0.01 -sub_batches 10 -sub_batch 5 --standardise_dosages -output /opt/data/projects/asthma-copd/results/imputed_gwas/GWAS_COPD_only_GLM_SNPs_info0.7-harmonized-imputed-chr1-batch5_10.txt\n",
      "+ set +x\n",
      "+ /opt/data/software/conda_envs/summary_gwas_imputation/bin/python /opt/data/software/summary-gwas-imputation/src/gwas_summary_imputation.py -by_region_file /opt/data/data/eur_ld.bed.gz -gwas_file /opt/data/projects/asthma-copd/results/harmonized_gwas/GWAS_COPD_only_GLM_SNPs_info0.7-harmonized.txt -parquet_genotype /opt/data/data/phenomexcan/ld_blocks/reference_panel_1000G/chr1.variants.parquet -parquet_genotype_metadata /opt/data/data/phenomexcan/ld_blocks/reference_panel_1000G/variant_metadata.parquet -window 100000 -parsimony 7 -chromosome 1 -regularization 0.1 -frequency_filter 0.01 -sub_batches 10 -sub_batch 6 --standardise_dosages -output /opt/data/projects/asthma-copd/results/imputed_gwas/GWAS_COPD_only_GLM_SNPs_info0.7-harmonized-imputed-chr1-batch6_10.txt\n"
     ]
    },
    {
     "name": "stdout",
     "output_type": "stream",
     "text": [
      "/opt/data/software/conda_envs/summary_gwas_imputation/lib/python3.7/site-packages/pyarrow/pandas_compat.py:752: FutureWarning: .labels was deprecated in version 0.24.0. Use .codes instead.\n",
      "\n"
     ]
    },
    {
     "name": "stderr",
     "output_type": "stream",
     "text": [
      "+ set +x\n"
     ]
    },
    {
     "name": "stdout",
     "output_type": "stream",
     "text": [
      "Running for copd_only, 1, 7\n",
      "Saving results in /opt/data/projects/asthma-copd/results/imputed_gwas\n",
      "/opt/data/software/conda_envs/summary_gwas_imputation/lib/python3.7/site-packages/pyarrow/pandas_compat.py:752: FutureWarning: .labels was deprecated in version 0.24.0. Use .codes instead.\n",
      "\n"
     ]
    },
    {
     "name": "stderr",
     "output_type": "stream",
     "text": [
      "+ /opt/data/software/conda_envs/summary_gwas_imputation/bin/python /opt/data/software/summary-gwas-imputation/src/gwas_summary_imputation.py -by_region_file /opt/data/data/eur_ld.bed.gz -gwas_file /opt/data/projects/asthma-copd/results/harmonized_gwas/GWAS_COPD_only_GLM_SNPs_info0.7-harmonized.txt -parquet_genotype /opt/data/data/phenomexcan/ld_blocks/reference_panel_1000G/chr1.variants.parquet -parquet_genotype_metadata /opt/data/data/phenomexcan/ld_blocks/reference_panel_1000G/variant_metadata.parquet -window 100000 -parsimony 7 -chromosome 1 -regularization 0.1 -frequency_filter 0.01 -sub_batches 10 -sub_batch 7 --standardise_dosages -output /opt/data/projects/asthma-copd/results/imputed_gwas/GWAS_COPD_only_GLM_SNPs_info0.7-harmonized-imputed-chr1-batch7_10.txt\n",
      "+ set +x\n"
     ]
    },
    {
     "name": "stdout",
     "output_type": "stream",
     "text": [
      "Running for copd_only, 1, 8\n",
      "Saving results in /opt/data/projects/asthma-copd/results/imputed_gwas\n",
      "/opt/data/software/conda_envs/summary_gwas_imputation/lib/python3.7/site-packages/pyarrow/pandas_compat.py:752: FutureWarning: .labels was deprecated in version 0.24.0. Use .codes instead.\n",
      "\n",
      "Running for copd_only, 1, 9\n",
      "Saving results in /opt/data/projects/asthma-copd/results/imputed_gwas\n",
      "/opt/data/software/conda_envs/summary_gwas_imputation/lib/python3.7/site-packages/pyarrow/pandas_compat.py:752: FutureWarning: .labels was deprecated in version 0.24.0. Use .codes instead.\n",
      "\n",
      "Running for copd_only, 2, 0\n",
      "Saving results in /opt/data/projects/asthma-copd/results/imputed_gwas\n"
     ]
    },
    {
     "name": "stderr",
     "output_type": "stream",
     "text": [
      "+ /opt/data/software/conda_envs/summary_gwas_imputation/bin/python /opt/data/software/summary-gwas-imputation/src/gwas_summary_imputation.py -by_region_file /opt/data/data/eur_ld.bed.gz -gwas_file /opt/data/projects/asthma-copd/results/harmonized_gwas/GWAS_COPD_only_GLM_SNPs_info0.7-harmonized.txt -parquet_genotype /opt/data/data/phenomexcan/ld_blocks/reference_panel_1000G/chr1.variants.parquet -parquet_genotype_metadata /opt/data/data/phenomexcan/ld_blocks/reference_panel_1000G/variant_metadata.parquet -window 100000 -parsimony 7 -chromosome 1 -regularization 0.1 -frequency_filter 0.01 -sub_batches 10 -sub_batch 8 --standardise_dosages -output /opt/data/projects/asthma-copd/results/imputed_gwas/GWAS_COPD_only_GLM_SNPs_info0.7-harmonized-imputed-chr1-batch8_10.txt\n",
      "+ set +x\n",
      "+ /opt/data/software/conda_envs/summary_gwas_imputation/bin/python /opt/data/software/summary-gwas-imputation/src/gwas_summary_imputation.py -by_region_file /opt/data/data/eur_ld.bed.gz -gwas_file /opt/data/projects/asthma-copd/results/harmonized_gwas/GWAS_COPD_only_GLM_SNPs_info0.7-harmonized.txt -parquet_genotype /opt/data/data/phenomexcan/ld_blocks/reference_panel_1000G/chr1.variants.parquet -parquet_genotype_metadata /opt/data/data/phenomexcan/ld_blocks/reference_panel_1000G/variant_metadata.parquet -window 100000 -parsimony 7 -chromosome 1 -regularization 0.1 -frequency_filter 0.01 -sub_batches 10 -sub_batch 9 --standardise_dosages -output /opt/data/projects/asthma-copd/results/imputed_gwas/GWAS_COPD_only_GLM_SNPs_info0.7-harmonized-imputed-chr1-batch9_10.txt\n",
      "+ set +x\n",
      "+ /opt/data/software/conda_envs/summary_gwas_imputation/bin/python /opt/data/software/summary-gwas-imputation/src/gwas_summary_imputation.py -by_region_file /opt/data/data/eur_ld.bed.gz -gwas_file /opt/data/projects/asthma-copd/results/harmonized_gwas/GWAS_COPD_only_GLM_SNPs_info0.7-harmonized.txt -parquet_genotype /opt/data/data/phenomexcan/ld_blocks/reference_panel_1000G/chr2.variants.parquet -parquet_genotype_metadata /opt/data/data/phenomexcan/ld_blocks/reference_panel_1000G/variant_metadata.parquet -window 100000 -parsimony 7 -chromosome 2 -regularization 0.1 -frequency_filter 0.01 -sub_batches 10 -sub_batch 0 --standardise_dosages -output /opt/data/projects/asthma-copd/results/imputed_gwas/GWAS_COPD_only_GLM_SNPs_info0.7-harmonized-imputed-chr2-batch0_10.txt\n"
     ]
    },
    {
     "name": "stdout",
     "output_type": "stream",
     "text": [
      "/opt/data/software/conda_envs/summary_gwas_imputation/lib/python3.7/site-packages/pyarrow/pandas_compat.py:752: FutureWarning: .labels was deprecated in version 0.24.0. Use .codes instead.\n",
      "\n"
     ]
    },
    {
     "name": "stderr",
     "output_type": "stream",
     "text": [
      "+ set +x\n"
     ]
    },
    {
     "name": "stdout",
     "output_type": "stream",
     "text": [
      "Running for copd_only, 2, 1\n",
      "Saving results in /opt/data/projects/asthma-copd/results/imputed_gwas\n",
      "/opt/data/software/conda_envs/summary_gwas_imputation/lib/python3.7/site-packages/pyarrow/pandas_compat.py:752: FutureWarning: .labels was deprecated in version 0.24.0. Use .codes instead.\n",
      "Intel MKL ERROR: Parameter 4 was incorrect on entry to DLASCL.\n",
      "\n",
      "Running for copd_only, 2, 2\n",
      "Saving results in /opt/data/projects/asthma-copd/results/imputed_gwas\n",
      "/opt/data/software/conda_envs/summary_gwas_imputation/lib/python3.7/site-packages/pyarrow/pandas_compat.py:752: FutureWarning: .labels was deprecated in version 0.24.0. Use .codes instead.\n",
      "INFO - Error for region (2,58070180.0,60064865.0): LinAlgError('SVD did not converge')\n",
      "\n",
      "Running for copd_only, 2, 3\n",
      "Saving results in /opt/data/projects/asthma-copd/results/imputed_gwas\n",
      "/opt/data/software/conda_envs/summary_gwas_imputation/lib/python3.7/site-packages/pyarrow/pandas_compat.py:752: FutureWarning: .labels was deprecated in version 0.24.0. Use .codes instead.\n",
      "\n",
      "Running for copd_only, 2, 4\n",
      "Saving results in /opt/data/projects/asthma-copd/results/imputed_gwas\n",
      "/opt/data/software/conda_envs/summary_gwas_imputation/lib/python3.7/site-packages/pyarrow/pandas_compat.py:752: FutureWarning: .labels was deprecated in version 0.24.0. Use .codes instead.\n",
      "\n",
      "Running for copd_only, 2, 5\n",
      "Saving results in /opt/data/projects/asthma-copd/results/imputed_gwas\n",
      "/opt/data/software/conda_envs/summary_gwas_imputation/lib/python3.7/site-packages/pyarrow/pandas_compat.py:752: FutureWarning: .labels was deprecated in version 0.24.0. Use .codes instead.\n",
      "\n",
      "Running for copd_only, 2, 6\n",
      "Saving results in /opt/data/projects/asthma-copd/results/imputed_gwas\n",
      "/opt/data/software/conda_envs/summary_gwas_imputation/lib/python3.7/site-packages/pyarrow/pandas_compat.py:752: FutureWarning: .labels was deprecated in version 0.24.0. Use .codes instead.\n",
      "\n",
      "Running for copd_only, 2, 7\n",
      "Saving results in /opt/data/projects/asthma-copd/results/imputed_gwas\n"
     ]
    },
    {
     "name": "stderr",
     "output_type": "stream",
     "text": [
      "+ /opt/data/software/conda_envs/summary_gwas_imputation/bin/python /opt/data/software/summary-gwas-imputation/src/gwas_summary_imputation.py -by_region_file /opt/data/data/eur_ld.bed.gz -gwas_file /opt/data/projects/asthma-copd/results/harmonized_gwas/GWAS_COPD_only_GLM_SNPs_info0.7-harmonized.txt -parquet_genotype /opt/data/data/phenomexcan/ld_blocks/reference_panel_1000G/chr2.variants.parquet -parquet_genotype_metadata /opt/data/data/phenomexcan/ld_blocks/reference_panel_1000G/variant_metadata.parquet -window 100000 -parsimony 7 -chromosome 2 -regularization 0.1 -frequency_filter 0.01 -sub_batches 10 -sub_batch 1 --standardise_dosages -output /opt/data/projects/asthma-copd/results/imputed_gwas/GWAS_COPD_only_GLM_SNPs_info0.7-harmonized-imputed-chr2-batch1_10.txt\n",
      "+ set +x\n",
      "+ /opt/data/software/conda_envs/summary_gwas_imputation/bin/python /opt/data/software/summary-gwas-imputation/src/gwas_summary_imputation.py -by_region_file /opt/data/data/eur_ld.bed.gz -gwas_file /opt/data/projects/asthma-copd/results/harmonized_gwas/GWAS_COPD_only_GLM_SNPs_info0.7-harmonized.txt -parquet_genotype /opt/data/data/phenomexcan/ld_blocks/reference_panel_1000G/chr2.variants.parquet -parquet_genotype_metadata /opt/data/data/phenomexcan/ld_blocks/reference_panel_1000G/variant_metadata.parquet -window 100000 -parsimony 7 -chromosome 2 -regularization 0.1 -frequency_filter 0.01 -sub_batches 10 -sub_batch 2 --standardise_dosages -output /opt/data/projects/asthma-copd/results/imputed_gwas/GWAS_COPD_only_GLM_SNPs_info0.7-harmonized-imputed-chr2-batch2_10.txt\n",
      "+ set +x\n",
      "+ /opt/data/software/conda_envs/summary_gwas_imputation/bin/python /opt/data/software/summary-gwas-imputation/src/gwas_summary_imputation.py -by_region_file /opt/data/data/eur_ld.bed.gz -gwas_file /opt/data/projects/asthma-copd/results/harmonized_gwas/GWAS_COPD_only_GLM_SNPs_info0.7-harmonized.txt -parquet_genotype /opt/data/data/phenomexcan/ld_blocks/reference_panel_1000G/chr2.variants.parquet -parquet_genotype_metadata /opt/data/data/phenomexcan/ld_blocks/reference_panel_1000G/variant_metadata.parquet -window 100000 -parsimony 7 -chromosome 2 -regularization 0.1 -frequency_filter 0.01 -sub_batches 10 -sub_batch 3 --standardise_dosages -output /opt/data/projects/asthma-copd/results/imputed_gwas/GWAS_COPD_only_GLM_SNPs_info0.7-harmonized-imputed-chr2-batch3_10.txt\n",
      "+ set +x\n",
      "+ /opt/data/software/conda_envs/summary_gwas_imputation/bin/python /opt/data/software/summary-gwas-imputation/src/gwas_summary_imputation.py -by_region_file /opt/data/data/eur_ld.bed.gz -gwas_file /opt/data/projects/asthma-copd/results/harmonized_gwas/GWAS_COPD_only_GLM_SNPs_info0.7-harmonized.txt -parquet_genotype /opt/data/data/phenomexcan/ld_blocks/reference_panel_1000G/chr2.variants.parquet -parquet_genotype_metadata /opt/data/data/phenomexcan/ld_blocks/reference_panel_1000G/variant_metadata.parquet -window 100000 -parsimony 7 -chromosome 2 -regularization 0.1 -frequency_filter 0.01 -sub_batches 10 -sub_batch 4 --standardise_dosages -output /opt/data/projects/asthma-copd/results/imputed_gwas/GWAS_COPD_only_GLM_SNPs_info0.7-harmonized-imputed-chr2-batch4_10.txt\n",
      "+ set +x\n",
      "+ /opt/data/software/conda_envs/summary_gwas_imputation/bin/python /opt/data/software/summary-gwas-imputation/src/gwas_summary_imputation.py -by_region_file /opt/data/data/eur_ld.bed.gz -gwas_file /opt/data/projects/asthma-copd/results/harmonized_gwas/GWAS_COPD_only_GLM_SNPs_info0.7-harmonized.txt -parquet_genotype /opt/data/data/phenomexcan/ld_blocks/reference_panel_1000G/chr2.variants.parquet -parquet_genotype_metadata /opt/data/data/phenomexcan/ld_blocks/reference_panel_1000G/variant_metadata.parquet -window 100000 -parsimony 7 -chromosome 2 -regularization 0.1 -frequency_filter 0.01 -sub_batches 10 -sub_batch 5 --standardise_dosages -output /opt/data/projects/asthma-copd/results/imputed_gwas/GWAS_COPD_only_GLM_SNPs_info0.7-harmonized-imputed-chr2-batch5_10.txt\n",
      "+ set +x\n",
      "+ /opt/data/software/conda_envs/summary_gwas_imputation/bin/python /opt/data/software/summary-gwas-imputation/src/gwas_summary_imputation.py -by_region_file /opt/data/data/eur_ld.bed.gz -gwas_file /opt/data/projects/asthma-copd/results/harmonized_gwas/GWAS_COPD_only_GLM_SNPs_info0.7-harmonized.txt -parquet_genotype /opt/data/data/phenomexcan/ld_blocks/reference_panel_1000G/chr2.variants.parquet -parquet_genotype_metadata /opt/data/data/phenomexcan/ld_blocks/reference_panel_1000G/variant_metadata.parquet -window 100000 -parsimony 7 -chromosome 2 -regularization 0.1 -frequency_filter 0.01 -sub_batches 10 -sub_batch 6 --standardise_dosages -output /opt/data/projects/asthma-copd/results/imputed_gwas/GWAS_COPD_only_GLM_SNPs_info0.7-harmonized-imputed-chr2-batch6_10.txt\n",
      "+ set +x\n",
      "+ /opt/data/software/conda_envs/summary_gwas_imputation/bin/python /opt/data/software/summary-gwas-imputation/src/gwas_summary_imputation.py -by_region_file /opt/data/data/eur_ld.bed.gz -gwas_file /opt/data/projects/asthma-copd/results/harmonized_gwas/GWAS_COPD_only_GLM_SNPs_info0.7-harmonized.txt -parquet_genotype /opt/data/data/phenomexcan/ld_blocks/reference_panel_1000G/chr2.variants.parquet -parquet_genotype_metadata /opt/data/data/phenomexcan/ld_blocks/reference_panel_1000G/variant_metadata.parquet -window 100000 -parsimony 7 -chromosome 2 -regularization 0.1 -frequency_filter 0.01 -sub_batches 10 -sub_batch 7 --standardise_dosages -output /opt/data/projects/asthma-copd/results/imputed_gwas/GWAS_COPD_only_GLM_SNPs_info0.7-harmonized-imputed-chr2-batch7_10.txt\n"
     ]
    },
    {
     "name": "stdout",
     "output_type": "stream",
     "text": [
      "/opt/data/software/conda_envs/summary_gwas_imputation/lib/python3.7/site-packages/pyarrow/pandas_compat.py:752: FutureWarning: .labels was deprecated in version 0.24.0. Use .codes instead.\n",
      "\n"
     ]
    },
    {
     "name": "stderr",
     "output_type": "stream",
     "text": [
      "+ set +x\n"
     ]
    },
    {
     "name": "stdout",
     "output_type": "stream",
     "text": [
      "Running for copd_only, 2, 8\n",
      "Saving results in /opt/data/projects/asthma-copd/results/imputed_gwas\n",
      "/opt/data/software/conda_envs/summary_gwas_imputation/lib/python3.7/site-packages/pyarrow/pandas_compat.py:752: FutureWarning: .labels was deprecated in version 0.24.0. Use .codes instead.\n",
      "\n"
     ]
    },
    {
     "name": "stderr",
     "output_type": "stream",
     "text": [
      "+ /opt/data/software/conda_envs/summary_gwas_imputation/bin/python /opt/data/software/summary-gwas-imputation/src/gwas_summary_imputation.py -by_region_file /opt/data/data/eur_ld.bed.gz -gwas_file /opt/data/projects/asthma-copd/results/harmonized_gwas/GWAS_COPD_only_GLM_SNPs_info0.7-harmonized.txt -parquet_genotype /opt/data/data/phenomexcan/ld_blocks/reference_panel_1000G/chr2.variants.parquet -parquet_genotype_metadata /opt/data/data/phenomexcan/ld_blocks/reference_panel_1000G/variant_metadata.parquet -window 100000 -parsimony 7 -chromosome 2 -regularization 0.1 -frequency_filter 0.01 -sub_batches 10 -sub_batch 8 --standardise_dosages -output /opt/data/projects/asthma-copd/results/imputed_gwas/GWAS_COPD_only_GLM_SNPs_info0.7-harmonized-imputed-chr2-batch8_10.txt\n",
      "+ set +x\n",
      "+ /opt/data/software/conda_envs/summary_gwas_imputation/bin/python /opt/data/software/summary-gwas-imputation/src/gwas_summary_imputation.py -by_region_file /opt/data/data/eur_ld.bed.gz -gwas_file /opt/data/projects/asthma-copd/results/harmonized_gwas/GWAS_COPD_only_GLM_SNPs_info0.7-harmonized.txt -parquet_genotype /opt/data/data/phenomexcan/ld_blocks/reference_panel_1000G/chr2.variants.parquet -parquet_genotype_metadata /opt/data/data/phenomexcan/ld_blocks/reference_panel_1000G/variant_metadata.parquet -window 100000 -parsimony 7 -chromosome 2 -regularization 0.1 -frequency_filter 0.01 -sub_batches 10 -sub_batch 9 --standardise_dosages -output /opt/data/projects/asthma-copd/results/imputed_gwas/GWAS_COPD_only_GLM_SNPs_info0.7-harmonized-imputed-chr2-batch9_10.txt\n",
      "+ set +x\n",
      "+ /opt/data/software/conda_envs/summary_gwas_imputation/bin/python /opt/data/software/summary-gwas-imputation/src/gwas_summary_imputation.py -by_region_file /opt/data/data/eur_ld.bed.gz -gwas_file /opt/data/projects/asthma-copd/results/harmonized_gwas/GWAS_COPD_only_GLM_SNPs_info0.7-harmonized.txt -parquet_genotype /opt/data/data/phenomexcan/ld_blocks/reference_panel_1000G/chr3.variants.parquet -parquet_genotype_metadata /opt/data/data/phenomexcan/ld_blocks/reference_panel_1000G/variant_metadata.parquet -window 100000 -parsimony 7 -chromosome 3 -regularization 0.1 -frequency_filter 0.01 -sub_batches 10 -sub_batch 0 --standardise_dosages -output /opt/data/projects/asthma-copd/results/imputed_gwas/GWAS_COPD_only_GLM_SNPs_info0.7-harmonized-imputed-chr3-batch0_10.txt\n"
     ]
    },
    {
     "name": "stdout",
     "output_type": "stream",
     "text": [
      "Running for copd_only, 2, 9\n",
      "Saving results in /opt/data/projects/asthma-copd/results/imputed_gwas\n",
      "/opt/data/software/conda_envs/summary_gwas_imputation/lib/python3.7/site-packages/pyarrow/pandas_compat.py:752: FutureWarning: .labels was deprecated in version 0.24.0. Use .codes instead.\n",
      "INFO - Error for region (2,232685293.0,234242343.0): LinAlgError('SVD did not converge')\n",
      "\n",
      "Running for copd_only, 3, 0\n",
      "Saving results in /opt/data/projects/asthma-copd/results/imputed_gwas\n",
      "/opt/data/software/conda_envs/summary_gwas_imputation/lib/python3.7/site-packages/pyarrow/pandas_compat.py:752: FutureWarning: .labels was deprecated in version 0.24.0. Use .codes instead.\n",
      "\n"
     ]
    },
    {
     "name": "stderr",
     "output_type": "stream",
     "text": [
      "+ set +x\n"
     ]
    },
    {
     "name": "stdout",
     "output_type": "stream",
     "text": [
      "Running for copd_only, 3, 1\n",
      "Saving results in /opt/data/projects/asthma-copd/results/imputed_gwas\n",
      "/opt/data/software/conda_envs/summary_gwas_imputation/lib/python3.7/site-packages/pyarrow/pandas_compat.py:752: FutureWarning: .labels was deprecated in version 0.24.0. Use .codes instead.\n",
      "\n",
      "Running for copd_only, 3, 2\n",
      "Saving results in /opt/data/projects/asthma-copd/results/imputed_gwas\n",
      "/opt/data/software/conda_envs/summary_gwas_imputation/lib/python3.7/site-packages/pyarrow/pandas_compat.py:752: FutureWarning: .labels was deprecated in version 0.24.0. Use .codes instead.\n",
      "\n"
     ]
    },
    {
     "name": "stderr",
     "output_type": "stream",
     "text": [
      "+ /opt/data/software/conda_envs/summary_gwas_imputation/bin/python /opt/data/software/summary-gwas-imputation/src/gwas_summary_imputation.py -by_region_file /opt/data/data/eur_ld.bed.gz -gwas_file /opt/data/projects/asthma-copd/results/harmonized_gwas/GWAS_COPD_only_GLM_SNPs_info0.7-harmonized.txt -parquet_genotype /opt/data/data/phenomexcan/ld_blocks/reference_panel_1000G/chr3.variants.parquet -parquet_genotype_metadata /opt/data/data/phenomexcan/ld_blocks/reference_panel_1000G/variant_metadata.parquet -window 100000 -parsimony 7 -chromosome 3 -regularization 0.1 -frequency_filter 0.01 -sub_batches 10 -sub_batch 1 --standardise_dosages -output /opt/data/projects/asthma-copd/results/imputed_gwas/GWAS_COPD_only_GLM_SNPs_info0.7-harmonized-imputed-chr3-batch1_10.txt\n",
      "+ set +x\n",
      "+ /opt/data/software/conda_envs/summary_gwas_imputation/bin/python /opt/data/software/summary-gwas-imputation/src/gwas_summary_imputation.py -by_region_file /opt/data/data/eur_ld.bed.gz -gwas_file /opt/data/projects/asthma-copd/results/harmonized_gwas/GWAS_COPD_only_GLM_SNPs_info0.7-harmonized.txt -parquet_genotype /opt/data/data/phenomexcan/ld_blocks/reference_panel_1000G/chr3.variants.parquet -parquet_genotype_metadata /opt/data/data/phenomexcan/ld_blocks/reference_panel_1000G/variant_metadata.parquet -window 100000 -parsimony 7 -chromosome 3 -regularization 0.1 -frequency_filter 0.01 -sub_batches 10 -sub_batch 2 --standardise_dosages -output /opt/data/projects/asthma-copd/results/imputed_gwas/GWAS_COPD_only_GLM_SNPs_info0.7-harmonized-imputed-chr3-batch2_10.txt\n",
      "+ set +x\n",
      "+ /opt/data/software/conda_envs/summary_gwas_imputation/bin/python /opt/data/software/summary-gwas-imputation/src/gwas_summary_imputation.py -by_region_file /opt/data/data/eur_ld.bed.gz -gwas_file /opt/data/projects/asthma-copd/results/harmonized_gwas/GWAS_COPD_only_GLM_SNPs_info0.7-harmonized.txt -parquet_genotype /opt/data/data/phenomexcan/ld_blocks/reference_panel_1000G/chr3.variants.parquet -parquet_genotype_metadata /opt/data/data/phenomexcan/ld_blocks/reference_panel_1000G/variant_metadata.parquet -window 100000 -parsimony 7 -chromosome 3 -regularization 0.1 -frequency_filter 0.01 -sub_batches 10 -sub_batch 3 --standardise_dosages -output /opt/data/projects/asthma-copd/results/imputed_gwas/GWAS_COPD_only_GLM_SNPs_info0.7-harmonized-imputed-chr3-batch3_10.txt\n",
      "+ set +x\n"
     ]
    },
    {
     "name": "stdout",
     "output_type": "stream",
     "text": [
      "Running for copd_only, 3, 3\n",
      "Saving results in /opt/data/projects/asthma-copd/results/imputed_gwas\n",
      "/opt/data/software/conda_envs/summary_gwas_imputation/lib/python3.7/site-packages/pyarrow/pandas_compat.py:752: FutureWarning: .labels was deprecated in version 0.24.0. Use .codes instead.\n",
      "\n",
      "Running for copd_only, 3, 4\n",
      "Saving results in /opt/data/projects/asthma-copd/results/imputed_gwas\n",
      "/opt/data/software/conda_envs/summary_gwas_imputation/lib/python3.7/site-packages/pyarrow/pandas_compat.py:752: FutureWarning: .labels was deprecated in version 0.24.0. Use .codes instead.\n",
      "\n"
     ]
    },
    {
     "name": "stderr",
     "output_type": "stream",
     "text": [
      "+ /opt/data/software/conda_envs/summary_gwas_imputation/bin/python /opt/data/software/summary-gwas-imputation/src/gwas_summary_imputation.py -by_region_file /opt/data/data/eur_ld.bed.gz -gwas_file /opt/data/projects/asthma-copd/results/harmonized_gwas/GWAS_COPD_only_GLM_SNPs_info0.7-harmonized.txt -parquet_genotype /opt/data/data/phenomexcan/ld_blocks/reference_panel_1000G/chr3.variants.parquet -parquet_genotype_metadata /opt/data/data/phenomexcan/ld_blocks/reference_panel_1000G/variant_metadata.parquet -window 100000 -parsimony 7 -chromosome 3 -regularization 0.1 -frequency_filter 0.01 -sub_batches 10 -sub_batch 4 --standardise_dosages -output /opt/data/projects/asthma-copd/results/imputed_gwas/GWAS_COPD_only_GLM_SNPs_info0.7-harmonized-imputed-chr3-batch4_10.txt\n",
      "+ set +x\n",
      "+ /opt/data/software/conda_envs/summary_gwas_imputation/bin/python /opt/data/software/summary-gwas-imputation/src/gwas_summary_imputation.py -by_region_file /opt/data/data/eur_ld.bed.gz -gwas_file /opt/data/projects/asthma-copd/results/harmonized_gwas/GWAS_COPD_only_GLM_SNPs_info0.7-harmonized.txt -parquet_genotype /opt/data/data/phenomexcan/ld_blocks/reference_panel_1000G/chr3.variants.parquet -parquet_genotype_metadata /opt/data/data/phenomexcan/ld_blocks/reference_panel_1000G/variant_metadata.parquet -window 100000 -parsimony 7 -chromosome 3 -regularization 0.1 -frequency_filter 0.01 -sub_batches 10 -sub_batch 5 --standardise_dosages -output /opt/data/projects/asthma-copd/results/imputed_gwas/GWAS_COPD_only_GLM_SNPs_info0.7-harmonized-imputed-chr3-batch5_10.txt\n"
     ]
    },
    {
     "name": "stdout",
     "output_type": "stream",
     "text": [
      "Running for copd_only, 3, 5\n",
      "Saving results in /opt/data/projects/asthma-copd/results/imputed_gwas\n",
      "/opt/data/software/conda_envs/summary_gwas_imputation/lib/python3.7/site-packages/pyarrow/pandas_compat.py:752: FutureWarning: .labels was deprecated in version 0.24.0. Use .codes instead.\n",
      "\n"
     ]
    },
    {
     "name": "stderr",
     "output_type": "stream",
     "text": [
      "+ set +x\n"
     ]
    },
    {
     "name": "stdout",
     "output_type": "stream",
     "text": [
      "Running for copd_only, 3, 6\n",
      "Saving results in /opt/data/projects/asthma-copd/results/imputed_gwas\n",
      "/opt/data/software/conda_envs/summary_gwas_imputation/lib/python3.7/site-packages/pyarrow/pandas_compat.py:752: FutureWarning: .labels was deprecated in version 0.24.0. Use .codes instead.\n",
      "\n"
     ]
    },
    {
     "name": "stderr",
     "output_type": "stream",
     "text": [
      "+ /opt/data/software/conda_envs/summary_gwas_imputation/bin/python /opt/data/software/summary-gwas-imputation/src/gwas_summary_imputation.py -by_region_file /opt/data/data/eur_ld.bed.gz -gwas_file /opt/data/projects/asthma-copd/results/harmonized_gwas/GWAS_COPD_only_GLM_SNPs_info0.7-harmonized.txt -parquet_genotype /opt/data/data/phenomexcan/ld_blocks/reference_panel_1000G/chr3.variants.parquet -parquet_genotype_metadata /opt/data/data/phenomexcan/ld_blocks/reference_panel_1000G/variant_metadata.parquet -window 100000 -parsimony 7 -chromosome 3 -regularization 0.1 -frequency_filter 0.01 -sub_batches 10 -sub_batch 6 --standardise_dosages -output /opt/data/projects/asthma-copd/results/imputed_gwas/GWAS_COPD_only_GLM_SNPs_info0.7-harmonized-imputed-chr3-batch6_10.txt\n",
      "+ set +x\n"
     ]
    },
    {
     "name": "stdout",
     "output_type": "stream",
     "text": [
      "Running for copd_only, 3, 7\n",
      "Saving results in /opt/data/projects/asthma-copd/results/imputed_gwas\n",
      "/opt/data/software/conda_envs/summary_gwas_imputation/lib/python3.7/site-packages/pyarrow/pandas_compat.py:752: FutureWarning: .labels was deprecated in version 0.24.0. Use .codes instead.\n",
      "\n",
      "Running for copd_only, 3, 8\n",
      "Saving results in /opt/data/projects/asthma-copd/results/imputed_gwas\n"
     ]
    },
    {
     "name": "stderr",
     "output_type": "stream",
     "text": [
      "+ /opt/data/software/conda_envs/summary_gwas_imputation/bin/python /opt/data/software/summary-gwas-imputation/src/gwas_summary_imputation.py -by_region_file /opt/data/data/eur_ld.bed.gz -gwas_file /opt/data/projects/asthma-copd/results/harmonized_gwas/GWAS_COPD_only_GLM_SNPs_info0.7-harmonized.txt -parquet_genotype /opt/data/data/phenomexcan/ld_blocks/reference_panel_1000G/chr3.variants.parquet -parquet_genotype_metadata /opt/data/data/phenomexcan/ld_blocks/reference_panel_1000G/variant_metadata.parquet -window 100000 -parsimony 7 -chromosome 3 -regularization 0.1 -frequency_filter 0.01 -sub_batches 10 -sub_batch 7 --standardise_dosages -output /opt/data/projects/asthma-copd/results/imputed_gwas/GWAS_COPD_only_GLM_SNPs_info0.7-harmonized-imputed-chr3-batch7_10.txt\n",
      "+ set +x\n",
      "+ /opt/data/software/conda_envs/summary_gwas_imputation/bin/python /opt/data/software/summary-gwas-imputation/src/gwas_summary_imputation.py -by_region_file /opt/data/data/eur_ld.bed.gz -gwas_file /opt/data/projects/asthma-copd/results/harmonized_gwas/GWAS_COPD_only_GLM_SNPs_info0.7-harmonized.txt -parquet_genotype /opt/data/data/phenomexcan/ld_blocks/reference_panel_1000G/chr3.variants.parquet -parquet_genotype_metadata /opt/data/data/phenomexcan/ld_blocks/reference_panel_1000G/variant_metadata.parquet -window 100000 -parsimony 7 -chromosome 3 -regularization 0.1 -frequency_filter 0.01 -sub_batches 10 -sub_batch 8 --standardise_dosages -output /opt/data/projects/asthma-copd/results/imputed_gwas/GWAS_COPD_only_GLM_SNPs_info0.7-harmonized-imputed-chr3-batch8_10.txt\n"
     ]
    },
    {
     "name": "stdout",
     "output_type": "stream",
     "text": [
      "/opt/data/software/conda_envs/summary_gwas_imputation/lib/python3.7/site-packages/pyarrow/pandas_compat.py:752: FutureWarning: .labels was deprecated in version 0.24.0. Use .codes instead.\n",
      "\n"
     ]
    },
    {
     "name": "stderr",
     "output_type": "stream",
     "text": [
      "+ set +x\n"
     ]
    },
    {
     "name": "stdout",
     "output_type": "stream",
     "text": [
      "Running for copd_only, 3, 9\n",
      "Saving results in /opt/data/projects/asthma-copd/results/imputed_gwas\n",
      "/opt/data/software/conda_envs/summary_gwas_imputation/lib/python3.7/site-packages/pyarrow/pandas_compat.py:752: FutureWarning: .labels was deprecated in version 0.24.0. Use .codes instead.\n",
      "\n"
     ]
    },
    {
     "name": "stderr",
     "output_type": "stream",
     "text": [
      "+ /opt/data/software/conda_envs/summary_gwas_imputation/bin/python /opt/data/software/summary-gwas-imputation/src/gwas_summary_imputation.py -by_region_file /opt/data/data/eur_ld.bed.gz -gwas_file /opt/data/projects/asthma-copd/results/harmonized_gwas/GWAS_COPD_only_GLM_SNPs_info0.7-harmonized.txt -parquet_genotype /opt/data/data/phenomexcan/ld_blocks/reference_panel_1000G/chr3.variants.parquet -parquet_genotype_metadata /opt/data/data/phenomexcan/ld_blocks/reference_panel_1000G/variant_metadata.parquet -window 100000 -parsimony 7 -chromosome 3 -regularization 0.1 -frequency_filter 0.01 -sub_batches 10 -sub_batch 9 --standardise_dosages -output /opt/data/projects/asthma-copd/results/imputed_gwas/GWAS_COPD_only_GLM_SNPs_info0.7-harmonized-imputed-chr3-batch9_10.txt\n",
      "+ set +x\n"
     ]
    },
    {
     "name": "stdout",
     "output_type": "stream",
     "text": [
      "Running for copd_only, 4, 0\n",
      "Saving results in /opt/data/projects/asthma-copd/results/imputed_gwas\n",
      "/opt/data/software/conda_envs/summary_gwas_imputation/lib/python3.7/site-packages/pyarrow/pandas_compat.py:752: FutureWarning: .labels was deprecated in version 0.24.0. Use .codes instead.\n",
      "\n",
      "Running for copd_only, 4, 1\n",
      "Saving results in /opt/data/projects/asthma-copd/results/imputed_gwas\n",
      "/opt/data/software/conda_envs/summary_gwas_imputation/lib/python3.7/site-packages/pyarrow/pandas_compat.py:752: FutureWarning: .labels was deprecated in version 0.24.0. Use .codes instead.\n",
      "\n",
      "Running for copd_only, 4, 2\n",
      "Saving results in /opt/data/projects/asthma-copd/results/imputed_gwas\n"
     ]
    },
    {
     "name": "stderr",
     "output_type": "stream",
     "text": [
      "+ /opt/data/software/conda_envs/summary_gwas_imputation/bin/python /opt/data/software/summary-gwas-imputation/src/gwas_summary_imputation.py -by_region_file /opt/data/data/eur_ld.bed.gz -gwas_file /opt/data/projects/asthma-copd/results/harmonized_gwas/GWAS_COPD_only_GLM_SNPs_info0.7-harmonized.txt -parquet_genotype /opt/data/data/phenomexcan/ld_blocks/reference_panel_1000G/chr4.variants.parquet -parquet_genotype_metadata /opt/data/data/phenomexcan/ld_blocks/reference_panel_1000G/variant_metadata.parquet -window 100000 -parsimony 7 -chromosome 4 -regularization 0.1 -frequency_filter 0.01 -sub_batches 10 -sub_batch 0 --standardise_dosages -output /opt/data/projects/asthma-copd/results/imputed_gwas/GWAS_COPD_only_GLM_SNPs_info0.7-harmonized-imputed-chr4-batch0_10.txt\n",
      "+ set +x\n",
      "+ /opt/data/software/conda_envs/summary_gwas_imputation/bin/python /opt/data/software/summary-gwas-imputation/src/gwas_summary_imputation.py -by_region_file /opt/data/data/eur_ld.bed.gz -gwas_file /opt/data/projects/asthma-copd/results/harmonized_gwas/GWAS_COPD_only_GLM_SNPs_info0.7-harmonized.txt -parquet_genotype /opt/data/data/phenomexcan/ld_blocks/reference_panel_1000G/chr4.variants.parquet -parquet_genotype_metadata /opt/data/data/phenomexcan/ld_blocks/reference_panel_1000G/variant_metadata.parquet -window 100000 -parsimony 7 -chromosome 4 -regularization 0.1 -frequency_filter 0.01 -sub_batches 10 -sub_batch 1 --standardise_dosages -output /opt/data/projects/asthma-copd/results/imputed_gwas/GWAS_COPD_only_GLM_SNPs_info0.7-harmonized-imputed-chr4-batch1_10.txt\n",
      "+ set +x\n",
      "+ /opt/data/software/conda_envs/summary_gwas_imputation/bin/python /opt/data/software/summary-gwas-imputation/src/gwas_summary_imputation.py -by_region_file /opt/data/data/eur_ld.bed.gz -gwas_file /opt/data/projects/asthma-copd/results/harmonized_gwas/GWAS_COPD_only_GLM_SNPs_info0.7-harmonized.txt -parquet_genotype /opt/data/data/phenomexcan/ld_blocks/reference_panel_1000G/chr4.variants.parquet -parquet_genotype_metadata /opt/data/data/phenomexcan/ld_blocks/reference_panel_1000G/variant_metadata.parquet -window 100000 -parsimony 7 -chromosome 4 -regularization 0.1 -frequency_filter 0.01 -sub_batches 10 -sub_batch 2 --standardise_dosages -output /opt/data/projects/asthma-copd/results/imputed_gwas/GWAS_COPD_only_GLM_SNPs_info0.7-harmonized-imputed-chr4-batch2_10.txt\n"
     ]
    },
    {
     "name": "stdout",
     "output_type": "stream",
     "text": [
      "/opt/data/software/conda_envs/summary_gwas_imputation/lib/python3.7/site-packages/pyarrow/pandas_compat.py:752: FutureWarning: .labels was deprecated in version 0.24.0. Use .codes instead.\n",
      "\n"
     ]
    },
    {
     "name": "stderr",
     "output_type": "stream",
     "text": [
      "+ set +x\n"
     ]
    },
    {
     "name": "stdout",
     "output_type": "stream",
     "text": [
      "Running for copd_only, 4, 3\n",
      "Saving results in /opt/data/projects/asthma-copd/results/imputed_gwas\n"
     ]
    },
    {
     "name": "stderr",
     "output_type": "stream",
     "text": [
      "+ /opt/data/software/conda_envs/summary_gwas_imputation/bin/python /opt/data/software/summary-gwas-imputation/src/gwas_summary_imputation.py -by_region_file /opt/data/data/eur_ld.bed.gz -gwas_file /opt/data/projects/asthma-copd/results/harmonized_gwas/GWAS_COPD_only_GLM_SNPs_info0.7-harmonized.txt -parquet_genotype /opt/data/data/phenomexcan/ld_blocks/reference_panel_1000G/chr4.variants.parquet -parquet_genotype_metadata /opt/data/data/phenomexcan/ld_blocks/reference_panel_1000G/variant_metadata.parquet -window 100000 -parsimony 7 -chromosome 4 -regularization 0.1 -frequency_filter 0.01 -sub_batches 10 -sub_batch 3 --standardise_dosages -output /opt/data/projects/asthma-copd/results/imputed_gwas/GWAS_COPD_only_GLM_SNPs_info0.7-harmonized-imputed-chr4-batch3_10.txt\n"
     ]
    },
    {
     "name": "stdout",
     "output_type": "stream",
     "text": [
      "/opt/data/software/conda_envs/summary_gwas_imputation/lib/python3.7/site-packages/pyarrow/pandas_compat.py:752: FutureWarning: .labels was deprecated in version 0.24.0. Use .codes instead.\n",
      "\n"
     ]
    },
    {
     "name": "stderr",
     "output_type": "stream",
     "text": [
      "+ set +x\n"
     ]
    },
    {
     "name": "stdout",
     "output_type": "stream",
     "text": [
      "Running for copd_only, 4, 4\n",
      "Saving results in /opt/data/projects/asthma-copd/results/imputed_gwas\n",
      "/opt/data/software/conda_envs/summary_gwas_imputation/lib/python3.7/site-packages/pyarrow/pandas_compat.py:752: FutureWarning: .labels was deprecated in version 0.24.0. Use .codes instead.\n",
      "\n"
     ]
    },
    {
     "name": "stderr",
     "output_type": "stream",
     "text": [
      "+ /opt/data/software/conda_envs/summary_gwas_imputation/bin/python /opt/data/software/summary-gwas-imputation/src/gwas_summary_imputation.py -by_region_file /opt/data/data/eur_ld.bed.gz -gwas_file /opt/data/projects/asthma-copd/results/harmonized_gwas/GWAS_COPD_only_GLM_SNPs_info0.7-harmonized.txt -parquet_genotype /opt/data/data/phenomexcan/ld_blocks/reference_panel_1000G/chr4.variants.parquet -parquet_genotype_metadata /opt/data/data/phenomexcan/ld_blocks/reference_panel_1000G/variant_metadata.parquet -window 100000 -parsimony 7 -chromosome 4 -regularization 0.1 -frequency_filter 0.01 -sub_batches 10 -sub_batch 4 --standardise_dosages -output /opt/data/projects/asthma-copd/results/imputed_gwas/GWAS_COPD_only_GLM_SNPs_info0.7-harmonized-imputed-chr4-batch4_10.txt\n",
      "+ set +x\n"
     ]
    },
    {
     "name": "stdout",
     "output_type": "stream",
     "text": [
      "Running for copd_only, 4, 5\n",
      "Saving results in /opt/data/projects/asthma-copd/results/imputed_gwas\n",
      "/opt/data/software/conda_envs/summary_gwas_imputation/lib/python3.7/site-packages/pyarrow/pandas_compat.py:752: FutureWarning: .labels was deprecated in version 0.24.0. Use .codes instead.\n",
      "INFO - Error for region (4,107894192.0,110335411.0): LinAlgError('SVD did not converge')\n",
      "\n",
      "Running for copd_only, 4, 6\n",
      "Saving results in /opt/data/projects/asthma-copd/results/imputed_gwas\n",
      "/opt/data/software/conda_envs/summary_gwas_imputation/lib/python3.7/site-packages/pyarrow/pandas_compat.py:752: FutureWarning: .labels was deprecated in version 0.24.0. Use .codes instead.\n",
      "\n",
      "Running for copd_only, 4, 7\n",
      "Saving results in /opt/data/projects/asthma-copd/results/imputed_gwas\n",
      "/opt/data/software/conda_envs/summary_gwas_imputation/lib/python3.7/site-packages/pyarrow/pandas_compat.py:752: FutureWarning: .labels was deprecated in version 0.24.0. Use .codes instead.\n",
      "\n",
      "Running for copd_only, 4, 8\n",
      "Saving results in /opt/data/projects/asthma-copd/results/imputed_gwas\n",
      "/opt/data/software/conda_envs/summary_gwas_imputation/lib/python3.7/site-packages/pyarrow/pandas_compat.py:752: FutureWarning: .labels was deprecated in version 0.24.0. Use .codes instead.\n",
      "\n",
      "Running for copd_only, 4, 9\n",
      "Saving results in /opt/data/projects/asthma-copd/results/imputed_gwas\n"
     ]
    },
    {
     "name": "stderr",
     "output_type": "stream",
     "text": [
      "+ /opt/data/software/conda_envs/summary_gwas_imputation/bin/python /opt/data/software/summary-gwas-imputation/src/gwas_summary_imputation.py -by_region_file /opt/data/data/eur_ld.bed.gz -gwas_file /opt/data/projects/asthma-copd/results/harmonized_gwas/GWAS_COPD_only_GLM_SNPs_info0.7-harmonized.txt -parquet_genotype /opt/data/data/phenomexcan/ld_blocks/reference_panel_1000G/chr4.variants.parquet -parquet_genotype_metadata /opt/data/data/phenomexcan/ld_blocks/reference_panel_1000G/variant_metadata.parquet -window 100000 -parsimony 7 -chromosome 4 -regularization 0.1 -frequency_filter 0.01 -sub_batches 10 -sub_batch 5 --standardise_dosages -output /opt/data/projects/asthma-copd/results/imputed_gwas/GWAS_COPD_only_GLM_SNPs_info0.7-harmonized-imputed-chr4-batch5_10.txt\n",
      "+ set +x\n",
      "+ /opt/data/software/conda_envs/summary_gwas_imputation/bin/python /opt/data/software/summary-gwas-imputation/src/gwas_summary_imputation.py -by_region_file /opt/data/data/eur_ld.bed.gz -gwas_file /opt/data/projects/asthma-copd/results/harmonized_gwas/GWAS_COPD_only_GLM_SNPs_info0.7-harmonized.txt -parquet_genotype /opt/data/data/phenomexcan/ld_blocks/reference_panel_1000G/chr4.variants.parquet -parquet_genotype_metadata /opt/data/data/phenomexcan/ld_blocks/reference_panel_1000G/variant_metadata.parquet -window 100000 -parsimony 7 -chromosome 4 -regularization 0.1 -frequency_filter 0.01 -sub_batches 10 -sub_batch 6 --standardise_dosages -output /opt/data/projects/asthma-copd/results/imputed_gwas/GWAS_COPD_only_GLM_SNPs_info0.7-harmonized-imputed-chr4-batch6_10.txt\n",
      "+ set +x\n",
      "+ /opt/data/software/conda_envs/summary_gwas_imputation/bin/python /opt/data/software/summary-gwas-imputation/src/gwas_summary_imputation.py -by_region_file /opt/data/data/eur_ld.bed.gz -gwas_file /opt/data/projects/asthma-copd/results/harmonized_gwas/GWAS_COPD_only_GLM_SNPs_info0.7-harmonized.txt -parquet_genotype /opt/data/data/phenomexcan/ld_blocks/reference_panel_1000G/chr4.variants.parquet -parquet_genotype_metadata /opt/data/data/phenomexcan/ld_blocks/reference_panel_1000G/variant_metadata.parquet -window 100000 -parsimony 7 -chromosome 4 -regularization 0.1 -frequency_filter 0.01 -sub_batches 10 -sub_batch 7 --standardise_dosages -output /opt/data/projects/asthma-copd/results/imputed_gwas/GWAS_COPD_only_GLM_SNPs_info0.7-harmonized-imputed-chr4-batch7_10.txt\n",
      "+ set +x\n",
      "+ /opt/data/software/conda_envs/summary_gwas_imputation/bin/python /opt/data/software/summary-gwas-imputation/src/gwas_summary_imputation.py -by_region_file /opt/data/data/eur_ld.bed.gz -gwas_file /opt/data/projects/asthma-copd/results/harmonized_gwas/GWAS_COPD_only_GLM_SNPs_info0.7-harmonized.txt -parquet_genotype /opt/data/data/phenomexcan/ld_blocks/reference_panel_1000G/chr4.variants.parquet -parquet_genotype_metadata /opt/data/data/phenomexcan/ld_blocks/reference_panel_1000G/variant_metadata.parquet -window 100000 -parsimony 7 -chromosome 4 -regularization 0.1 -frequency_filter 0.01 -sub_batches 10 -sub_batch 8 --standardise_dosages -output /opt/data/projects/asthma-copd/results/imputed_gwas/GWAS_COPD_only_GLM_SNPs_info0.7-harmonized-imputed-chr4-batch8_10.txt\n",
      "+ set +x\n",
      "+ /opt/data/software/conda_envs/summary_gwas_imputation/bin/python /opt/data/software/summary-gwas-imputation/src/gwas_summary_imputation.py -by_region_file /opt/data/data/eur_ld.bed.gz -gwas_file /opt/data/projects/asthma-copd/results/harmonized_gwas/GWAS_COPD_only_GLM_SNPs_info0.7-harmonized.txt -parquet_genotype /opt/data/data/phenomexcan/ld_blocks/reference_panel_1000G/chr4.variants.parquet -parquet_genotype_metadata /opt/data/data/phenomexcan/ld_blocks/reference_panel_1000G/variant_metadata.parquet -window 100000 -parsimony 7 -chromosome 4 -regularization 0.1 -frequency_filter 0.01 -sub_batches 10 -sub_batch 9 --standardise_dosages -output /opt/data/projects/asthma-copd/results/imputed_gwas/GWAS_COPD_only_GLM_SNPs_info0.7-harmonized-imputed-chr4-batch9_10.txt\n"
     ]
    },
    {
     "name": "stdout",
     "output_type": "stream",
     "text": [
      "/opt/data/software/conda_envs/summary_gwas_imputation/lib/python3.7/site-packages/pyarrow/pandas_compat.py:752: FutureWarning: .labels was deprecated in version 0.24.0. Use .codes instead.\n",
      "\n"
     ]
    },
    {
     "name": "stderr",
     "output_type": "stream",
     "text": [
      "+ set +x\n"
     ]
    },
    {
     "name": "stdout",
     "output_type": "stream",
     "text": [
      "Running for copd_only, 5, 0\n",
      "Saving results in /opt/data/projects/asthma-copd/results/imputed_gwas\n",
      "/opt/data/software/conda_envs/summary_gwas_imputation/lib/python3.7/site-packages/pyarrow/pandas_compat.py:752: FutureWarning: .labels was deprecated in version 0.24.0. Use .codes instead.\n",
      "\n"
     ]
    },
    {
     "name": "stderr",
     "output_type": "stream",
     "text": [
      "+ /opt/data/software/conda_envs/summary_gwas_imputation/bin/python /opt/data/software/summary-gwas-imputation/src/gwas_summary_imputation.py -by_region_file /opt/data/data/eur_ld.bed.gz -gwas_file /opt/data/projects/asthma-copd/results/harmonized_gwas/GWAS_COPD_only_GLM_SNPs_info0.7-harmonized.txt -parquet_genotype /opt/data/data/phenomexcan/ld_blocks/reference_panel_1000G/chr5.variants.parquet -parquet_genotype_metadata /opt/data/data/phenomexcan/ld_blocks/reference_panel_1000G/variant_metadata.parquet -window 100000 -parsimony 7 -chromosome 5 -regularization 0.1 -frequency_filter 0.01 -sub_batches 10 -sub_batch 0 --standardise_dosages -output /opt/data/projects/asthma-copd/results/imputed_gwas/GWAS_COPD_only_GLM_SNPs_info0.7-harmonized-imputed-chr5-batch0_10.txt\n",
      "+ set +x\n"
     ]
    },
    {
     "name": "stdout",
     "output_type": "stream",
     "text": [
      "Running for copd_only, 5, 1\n",
      "Saving results in /opt/data/projects/asthma-copd/results/imputed_gwas\n",
      "/opt/data/software/conda_envs/summary_gwas_imputation/lib/python3.7/site-packages/pyarrow/pandas_compat.py:752: FutureWarning: .labels was deprecated in version 0.24.0. Use .codes instead.\n",
      "\n",
      "Running for copd_only, 5, 2\n",
      "Saving results in /opt/data/projects/asthma-copd/results/imputed_gwas\n",
      "/opt/data/software/conda_envs/summary_gwas_imputation/lib/python3.7/site-packages/pyarrow/pandas_compat.py:752: FutureWarning: .labels was deprecated in version 0.24.0. Use .codes instead.\n",
      "\n",
      "Running for copd_only, 5, 3\n",
      "Saving results in /opt/data/projects/asthma-copd/results/imputed_gwas\n",
      "/opt/data/software/conda_envs/summary_gwas_imputation/lib/python3.7/site-packages/pyarrow/pandas_compat.py:752: FutureWarning: .labels was deprecated in version 0.24.0. Use .codes instead.\n",
      "\n",
      "Running for copd_only, 5, 4\n",
      "Saving results in /opt/data/projects/asthma-copd/results/imputed_gwas\n",
      "/opt/data/software/conda_envs/summary_gwas_imputation/lib/python3.7/site-packages/pyarrow/pandas_compat.py:752: FutureWarning: .labels was deprecated in version 0.24.0. Use .codes instead.\n",
      "\n",
      "Running for copd_only, 5, 5\n",
      "Saving results in /opt/data/projects/asthma-copd/results/imputed_gwas\n",
      "/opt/data/software/conda_envs/summary_gwas_imputation/lib/python3.7/site-packages/pyarrow/pandas_compat.py:752: FutureWarning: .labels was deprecated in version 0.24.0. Use .codes instead.\n",
      "\n",
      "Running for copd_only, 5, 6\n",
      "Saving results in /opt/data/projects/asthma-copd/results/imputed_gwas\n",
      "/opt/data/software/conda_envs/summary_gwas_imputation/lib/python3.7/site-packages/pyarrow/pandas_compat.py:752: FutureWarning: .labels was deprecated in version 0.24.0. Use .codes instead.\n",
      "\n",
      "Running for copd_only, 5, 7\n",
      "Saving results in /opt/data/projects/asthma-copd/results/imputed_gwas\n",
      "/opt/data/software/conda_envs/summary_gwas_imputation/lib/python3.7/site-packages/pyarrow/pandas_compat.py:752: FutureWarning: .labels was deprecated in version 0.24.0. Use .codes instead.\n",
      "\n",
      "Running for copd_only, 5, 8\n",
      "Saving results in /opt/data/projects/asthma-copd/results/imputed_gwas\n",
      "/opt/data/software/conda_envs/summary_gwas_imputation/lib/python3.7/site-packages/pyarrow/pandas_compat.py:752: FutureWarning: .labels was deprecated in version 0.24.0. Use .codes instead.\n",
      "\n",
      "Running for copd_only, 5, 9\n",
      "Saving results in /opt/data/projects/asthma-copd/results/imputed_gwas\n",
      "/opt/data/software/conda_envs/summary_gwas_imputation/lib/python3.7/site-packages/pyarrow/pandas_compat.py:752: FutureWarning: .labels was deprecated in version 0.24.0. Use .codes instead.\n",
      "\n",
      "Running for copd_only, 6, 0\n",
      "Saving results in /opt/data/projects/asthma-copd/results/imputed_gwas\n",
      "/opt/data/software/conda_envs/summary_gwas_imputation/lib/python3.7/site-packages/pyarrow/pandas_compat.py:752: FutureWarning: .labels was deprecated in version 0.24.0. Use .codes instead.\n",
      "\n",
      "Running for copd_only, 6, 1\n",
      "Saving results in /opt/data/projects/asthma-copd/results/imputed_gwas\n"
     ]
    },
    {
     "name": "stderr",
     "output_type": "stream",
     "text": [
      "+ /opt/data/software/conda_envs/summary_gwas_imputation/bin/python /opt/data/software/summary-gwas-imputation/src/gwas_summary_imputation.py -by_region_file /opt/data/data/eur_ld.bed.gz -gwas_file /opt/data/projects/asthma-copd/results/harmonized_gwas/GWAS_COPD_only_GLM_SNPs_info0.7-harmonized.txt -parquet_genotype /opt/data/data/phenomexcan/ld_blocks/reference_panel_1000G/chr5.variants.parquet -parquet_genotype_metadata /opt/data/data/phenomexcan/ld_blocks/reference_panel_1000G/variant_metadata.parquet -window 100000 -parsimony 7 -chromosome 5 -regularization 0.1 -frequency_filter 0.01 -sub_batches 10 -sub_batch 1 --standardise_dosages -output /opt/data/projects/asthma-copd/results/imputed_gwas/GWAS_COPD_only_GLM_SNPs_info0.7-harmonized-imputed-chr5-batch1_10.txt\n",
      "+ set +x\n",
      "+ /opt/data/software/conda_envs/summary_gwas_imputation/bin/python /opt/data/software/summary-gwas-imputation/src/gwas_summary_imputation.py -by_region_file /opt/data/data/eur_ld.bed.gz -gwas_file /opt/data/projects/asthma-copd/results/harmonized_gwas/GWAS_COPD_only_GLM_SNPs_info0.7-harmonized.txt -parquet_genotype /opt/data/data/phenomexcan/ld_blocks/reference_panel_1000G/chr5.variants.parquet -parquet_genotype_metadata /opt/data/data/phenomexcan/ld_blocks/reference_panel_1000G/variant_metadata.parquet -window 100000 -parsimony 7 -chromosome 5 -regularization 0.1 -frequency_filter 0.01 -sub_batches 10 -sub_batch 2 --standardise_dosages -output /opt/data/projects/asthma-copd/results/imputed_gwas/GWAS_COPD_only_GLM_SNPs_info0.7-harmonized-imputed-chr5-batch2_10.txt\n",
      "+ set +x\n",
      "+ /opt/data/software/conda_envs/summary_gwas_imputation/bin/python /opt/data/software/summary-gwas-imputation/src/gwas_summary_imputation.py -by_region_file /opt/data/data/eur_ld.bed.gz -gwas_file /opt/data/projects/asthma-copd/results/harmonized_gwas/GWAS_COPD_only_GLM_SNPs_info0.7-harmonized.txt -parquet_genotype /opt/data/data/phenomexcan/ld_blocks/reference_panel_1000G/chr5.variants.parquet -parquet_genotype_metadata /opt/data/data/phenomexcan/ld_blocks/reference_panel_1000G/variant_metadata.parquet -window 100000 -parsimony 7 -chromosome 5 -regularization 0.1 -frequency_filter 0.01 -sub_batches 10 -sub_batch 3 --standardise_dosages -output /opt/data/projects/asthma-copd/results/imputed_gwas/GWAS_COPD_only_GLM_SNPs_info0.7-harmonized-imputed-chr5-batch3_10.txt\n",
      "+ set +x\n",
      "+ /opt/data/software/conda_envs/summary_gwas_imputation/bin/python /opt/data/software/summary-gwas-imputation/src/gwas_summary_imputation.py -by_region_file /opt/data/data/eur_ld.bed.gz -gwas_file /opt/data/projects/asthma-copd/results/harmonized_gwas/GWAS_COPD_only_GLM_SNPs_info0.7-harmonized.txt -parquet_genotype /opt/data/data/phenomexcan/ld_blocks/reference_panel_1000G/chr5.variants.parquet -parquet_genotype_metadata /opt/data/data/phenomexcan/ld_blocks/reference_panel_1000G/variant_metadata.parquet -window 100000 -parsimony 7 -chromosome 5 -regularization 0.1 -frequency_filter 0.01 -sub_batches 10 -sub_batch 4 --standardise_dosages -output /opt/data/projects/asthma-copd/results/imputed_gwas/GWAS_COPD_only_GLM_SNPs_info0.7-harmonized-imputed-chr5-batch4_10.txt\n",
      "+ set +x\n",
      "+ /opt/data/software/conda_envs/summary_gwas_imputation/bin/python /opt/data/software/summary-gwas-imputation/src/gwas_summary_imputation.py -by_region_file /opt/data/data/eur_ld.bed.gz -gwas_file /opt/data/projects/asthma-copd/results/harmonized_gwas/GWAS_COPD_only_GLM_SNPs_info0.7-harmonized.txt -parquet_genotype /opt/data/data/phenomexcan/ld_blocks/reference_panel_1000G/chr5.variants.parquet -parquet_genotype_metadata /opt/data/data/phenomexcan/ld_blocks/reference_panel_1000G/variant_metadata.parquet -window 100000 -parsimony 7 -chromosome 5 -regularization 0.1 -frequency_filter 0.01 -sub_batches 10 -sub_batch 5 --standardise_dosages -output /opt/data/projects/asthma-copd/results/imputed_gwas/GWAS_COPD_only_GLM_SNPs_info0.7-harmonized-imputed-chr5-batch5_10.txt\n",
      "+ set +x\n",
      "+ /opt/data/software/conda_envs/summary_gwas_imputation/bin/python /opt/data/software/summary-gwas-imputation/src/gwas_summary_imputation.py -by_region_file /opt/data/data/eur_ld.bed.gz -gwas_file /opt/data/projects/asthma-copd/results/harmonized_gwas/GWAS_COPD_only_GLM_SNPs_info0.7-harmonized.txt -parquet_genotype /opt/data/data/phenomexcan/ld_blocks/reference_panel_1000G/chr5.variants.parquet -parquet_genotype_metadata /opt/data/data/phenomexcan/ld_blocks/reference_panel_1000G/variant_metadata.parquet -window 100000 -parsimony 7 -chromosome 5 -regularization 0.1 -frequency_filter 0.01 -sub_batches 10 -sub_batch 6 --standardise_dosages -output /opt/data/projects/asthma-copd/results/imputed_gwas/GWAS_COPD_only_GLM_SNPs_info0.7-harmonized-imputed-chr5-batch6_10.txt\n",
      "+ set +x\n",
      "+ /opt/data/software/conda_envs/summary_gwas_imputation/bin/python /opt/data/software/summary-gwas-imputation/src/gwas_summary_imputation.py -by_region_file /opt/data/data/eur_ld.bed.gz -gwas_file /opt/data/projects/asthma-copd/results/harmonized_gwas/GWAS_COPD_only_GLM_SNPs_info0.7-harmonized.txt -parquet_genotype /opt/data/data/phenomexcan/ld_blocks/reference_panel_1000G/chr5.variants.parquet -parquet_genotype_metadata /opt/data/data/phenomexcan/ld_blocks/reference_panel_1000G/variant_metadata.parquet -window 100000 -parsimony 7 -chromosome 5 -regularization 0.1 -frequency_filter 0.01 -sub_batches 10 -sub_batch 7 --standardise_dosages -output /opt/data/projects/asthma-copd/results/imputed_gwas/GWAS_COPD_only_GLM_SNPs_info0.7-harmonized-imputed-chr5-batch7_10.txt\n",
      "+ set +x\n",
      "+ /opt/data/software/conda_envs/summary_gwas_imputation/bin/python /opt/data/software/summary-gwas-imputation/src/gwas_summary_imputation.py -by_region_file /opt/data/data/eur_ld.bed.gz -gwas_file /opt/data/projects/asthma-copd/results/harmonized_gwas/GWAS_COPD_only_GLM_SNPs_info0.7-harmonized.txt -parquet_genotype /opt/data/data/phenomexcan/ld_blocks/reference_panel_1000G/chr5.variants.parquet -parquet_genotype_metadata /opt/data/data/phenomexcan/ld_blocks/reference_panel_1000G/variant_metadata.parquet -window 100000 -parsimony 7 -chromosome 5 -regularization 0.1 -frequency_filter 0.01 -sub_batches 10 -sub_batch 8 --standardise_dosages -output /opt/data/projects/asthma-copd/results/imputed_gwas/GWAS_COPD_only_GLM_SNPs_info0.7-harmonized-imputed-chr5-batch8_10.txt\n",
      "+ set +x\n",
      "+ /opt/data/software/conda_envs/summary_gwas_imputation/bin/python /opt/data/software/summary-gwas-imputation/src/gwas_summary_imputation.py -by_region_file /opt/data/data/eur_ld.bed.gz -gwas_file /opt/data/projects/asthma-copd/results/harmonized_gwas/GWAS_COPD_only_GLM_SNPs_info0.7-harmonized.txt -parquet_genotype /opt/data/data/phenomexcan/ld_blocks/reference_panel_1000G/chr5.variants.parquet -parquet_genotype_metadata /opt/data/data/phenomexcan/ld_blocks/reference_panel_1000G/variant_metadata.parquet -window 100000 -parsimony 7 -chromosome 5 -regularization 0.1 -frequency_filter 0.01 -sub_batches 10 -sub_batch 9 --standardise_dosages -output /opt/data/projects/asthma-copd/results/imputed_gwas/GWAS_COPD_only_GLM_SNPs_info0.7-harmonized-imputed-chr5-batch9_10.txt\n",
      "+ set +x\n",
      "+ /opt/data/software/conda_envs/summary_gwas_imputation/bin/python /opt/data/software/summary-gwas-imputation/src/gwas_summary_imputation.py -by_region_file /opt/data/data/eur_ld.bed.gz -gwas_file /opt/data/projects/asthma-copd/results/harmonized_gwas/GWAS_COPD_only_GLM_SNPs_info0.7-harmonized.txt -parquet_genotype /opt/data/data/phenomexcan/ld_blocks/reference_panel_1000G/chr6.variants.parquet -parquet_genotype_metadata /opt/data/data/phenomexcan/ld_blocks/reference_panel_1000G/variant_metadata.parquet -window 100000 -parsimony 7 -chromosome 6 -regularization 0.1 -frequency_filter 0.01 -sub_batches 10 -sub_batch 0 --standardise_dosages -output /opt/data/projects/asthma-copd/results/imputed_gwas/GWAS_COPD_only_GLM_SNPs_info0.7-harmonized-imputed-chr6-batch0_10.txt\n",
      "+ set +x\n",
      "+ /opt/data/software/conda_envs/summary_gwas_imputation/bin/python /opt/data/software/summary-gwas-imputation/src/gwas_summary_imputation.py -by_region_file /opt/data/data/eur_ld.bed.gz -gwas_file /opt/data/projects/asthma-copd/results/harmonized_gwas/GWAS_COPD_only_GLM_SNPs_info0.7-harmonized.txt -parquet_genotype /opt/data/data/phenomexcan/ld_blocks/reference_panel_1000G/chr6.variants.parquet -parquet_genotype_metadata /opt/data/data/phenomexcan/ld_blocks/reference_panel_1000G/variant_metadata.parquet -window 100000 -parsimony 7 -chromosome 6 -regularization 0.1 -frequency_filter 0.01 -sub_batches 10 -sub_batch 1 --standardise_dosages -output /opt/data/projects/asthma-copd/results/imputed_gwas/GWAS_COPD_only_GLM_SNPs_info0.7-harmonized-imputed-chr6-batch1_10.txt\n"
     ]
    },
    {
     "name": "stdout",
     "output_type": "stream",
     "text": [
      "/opt/data/software/conda_envs/summary_gwas_imputation/lib/python3.7/site-packages/pyarrow/pandas_compat.py:752: FutureWarning: .labels was deprecated in version 0.24.0. Use .codes instead.\n",
      "\n"
     ]
    },
    {
     "name": "stderr",
     "output_type": "stream",
     "text": [
      "+ set +x\n"
     ]
    },
    {
     "name": "stdout",
     "output_type": "stream",
     "text": [
      "Running for copd_only, 6, 2\n",
      "Saving results in /opt/data/projects/asthma-copd/results/imputed_gwas\n"
     ]
    },
    {
     "name": "stderr",
     "output_type": "stream",
     "text": [
      "+ /opt/data/software/conda_envs/summary_gwas_imputation/bin/python /opt/data/software/summary-gwas-imputation/src/gwas_summary_imputation.py -by_region_file /opt/data/data/eur_ld.bed.gz -gwas_file /opt/data/projects/asthma-copd/results/harmonized_gwas/GWAS_COPD_only_GLM_SNPs_info0.7-harmonized.txt -parquet_genotype /opt/data/data/phenomexcan/ld_blocks/reference_panel_1000G/chr6.variants.parquet -parquet_genotype_metadata /opt/data/data/phenomexcan/ld_blocks/reference_panel_1000G/variant_metadata.parquet -window 100000 -parsimony 7 -chromosome 6 -regularization 0.1 -frequency_filter 0.01 -sub_batches 10 -sub_batch 2 --standardise_dosages -output /opt/data/projects/asthma-copd/results/imputed_gwas/GWAS_COPD_only_GLM_SNPs_info0.7-harmonized-imputed-chr6-batch2_10.txt\n"
     ]
    },
    {
     "name": "stdout",
     "output_type": "stream",
     "text": [
      "/opt/data/software/conda_envs/summary_gwas_imputation/lib/python3.7/site-packages/pyarrow/pandas_compat.py:752: FutureWarning: .labels was deprecated in version 0.24.0. Use .codes instead.\n",
      "\n"
     ]
    },
    {
     "name": "stderr",
     "output_type": "stream",
     "text": [
      "+ set +x\n"
     ]
    },
    {
     "name": "stdout",
     "output_type": "stream",
     "text": [
      "Running for copd_only, 6, 3\n",
      "Saving results in /opt/data/projects/asthma-copd/results/imputed_gwas\n",
      "/opt/data/software/conda_envs/summary_gwas_imputation/lib/python3.7/site-packages/pyarrow/pandas_compat.py:752: FutureWarning: .labels was deprecated in version 0.24.0. Use .codes instead.\n",
      "\n"
     ]
    },
    {
     "name": "stderr",
     "output_type": "stream",
     "text": [
      "+ /opt/data/software/conda_envs/summary_gwas_imputation/bin/python /opt/data/software/summary-gwas-imputation/src/gwas_summary_imputation.py -by_region_file /opt/data/data/eur_ld.bed.gz -gwas_file /opt/data/projects/asthma-copd/results/harmonized_gwas/GWAS_COPD_only_GLM_SNPs_info0.7-harmonized.txt -parquet_genotype /opt/data/data/phenomexcan/ld_blocks/reference_panel_1000G/chr6.variants.parquet -parquet_genotype_metadata /opt/data/data/phenomexcan/ld_blocks/reference_panel_1000G/variant_metadata.parquet -window 100000 -parsimony 7 -chromosome 6 -regularization 0.1 -frequency_filter 0.01 -sub_batches 10 -sub_batch 3 --standardise_dosages -output /opt/data/projects/asthma-copd/results/imputed_gwas/GWAS_COPD_only_GLM_SNPs_info0.7-harmonized-imputed-chr6-batch3_10.txt\n",
      "+ set +x\n"
     ]
    },
    {
     "name": "stdout",
     "output_type": "stream",
     "text": [
      "Running for copd_only, 6, 4\n",
      "Saving results in /opt/data/projects/asthma-copd/results/imputed_gwas\n",
      "/opt/data/software/conda_envs/summary_gwas_imputation/lib/python3.7/site-packages/pyarrow/pandas_compat.py:752: FutureWarning: .labels was deprecated in version 0.24.0. Use .codes instead.\n",
      "\n",
      "Running for copd_only, 6, 5\n",
      "Saving results in /opt/data/projects/asthma-copd/results/imputed_gwas\n",
      "/opt/data/software/conda_envs/summary_gwas_imputation/lib/python3.7/site-packages/pyarrow/pandas_compat.py:752: FutureWarning: .labels was deprecated in version 0.24.0. Use .codes instead.\n",
      "\n",
      "Running for copd_only, 6, 6\n",
      "Saving results in /opt/data/projects/asthma-copd/results/imputed_gwas\n",
      "/opt/data/software/conda_envs/summary_gwas_imputation/lib/python3.7/site-packages/pyarrow/pandas_compat.py:752: FutureWarning: .labels was deprecated in version 0.24.0. Use .codes instead.\n",
      "\n",
      "Running for copd_only, 6, 7\n",
      "Saving results in /opt/data/projects/asthma-copd/results/imputed_gwas\n",
      "/opt/data/software/conda_envs/summary_gwas_imputation/lib/python3.7/site-packages/pyarrow/pandas_compat.py:752: FutureWarning: .labels was deprecated in version 0.24.0. Use .codes instead.\n",
      "\n",
      "Running for copd_only, 6, 8\n",
      "Saving results in /opt/data/projects/asthma-copd/results/imputed_gwas\n",
      "/opt/data/software/conda_envs/summary_gwas_imputation/lib/python3.7/site-packages/pyarrow/pandas_compat.py:752: FutureWarning: .labels was deprecated in version 0.24.0. Use .codes instead.\n",
      "\n",
      "Running for copd_only, 6, 9\n",
      "Saving results in /opt/data/projects/asthma-copd/results/imputed_gwas\n",
      "/opt/data/software/conda_envs/summary_gwas_imputation/lib/python3.7/site-packages/pyarrow/pandas_compat.py:752: FutureWarning: .labels was deprecated in version 0.24.0. Use .codes instead.\n",
      "\n",
      "Running for copd_only, 7, 0\n",
      "Saving results in /opt/data/projects/asthma-copd/results/imputed_gwas\n",
      "/opt/data/software/conda_envs/summary_gwas_imputation/lib/python3.7/site-packages/pyarrow/pandas_compat.py:752: FutureWarning: .labels was deprecated in version 0.24.0. Use .codes instead.\n",
      "\n",
      "Running for copd_only, 7, 1\n",
      "Saving results in /opt/data/projects/asthma-copd/results/imputed_gwas\n",
      "/opt/data/software/conda_envs/summary_gwas_imputation/lib/python3.7/site-packages/pyarrow/pandas_compat.py:752: FutureWarning: .labels was deprecated in version 0.24.0. Use .codes instead.\n",
      "\n",
      "Running for copd_only, 7, 2\n",
      "Saving results in /opt/data/projects/asthma-copd/results/imputed_gwas\n",
      "/opt/data/software/conda_envs/summary_gwas_imputation/lib/python3.7/site-packages/pyarrow/pandas_compat.py:752: FutureWarning: .labels was deprecated in version 0.24.0. Use .codes instead.\n",
      "\n",
      "Running for copd_only, 7, 3\n",
      "Saving results in /opt/data/projects/asthma-copd/results/imputed_gwas\n",
      "/opt/data/software/conda_envs/summary_gwas_imputation/lib/python3.7/site-packages/pyarrow/pandas_compat.py:752: FutureWarning: .labels was deprecated in version 0.24.0. Use .codes instead.\n",
      "\n",
      "Running for copd_only, 7, 4\n",
      "Saving results in /opt/data/projects/asthma-copd/results/imputed_gwas\n",
      "/opt/data/software/conda_envs/summary_gwas_imputation/lib/python3.7/site-packages/pyarrow/pandas_compat.py:752: FutureWarning: .labels was deprecated in version 0.24.0. Use .codes instead.\n",
      "\n",
      "Running for copd_only, 7, 5\n",
      "Saving results in /opt/data/projects/asthma-copd/results/imputed_gwas\n",
      "/opt/data/software/conda_envs/summary_gwas_imputation/lib/python3.7/site-packages/pyarrow/pandas_compat.py:752: FutureWarning: .labels was deprecated in version 0.24.0. Use .codes instead.\n",
      "\n",
      "Running for copd_only, 7, 6\n",
      "Saving results in /opt/data/projects/asthma-copd/results/imputed_gwas\n",
      "/opt/data/software/conda_envs/summary_gwas_imputation/lib/python3.7/site-packages/pyarrow/pandas_compat.py:752: FutureWarning: .labels was deprecated in version 0.24.0. Use .codes instead.\n",
      "\n"
     ]
    },
    {
     "name": "stderr",
     "output_type": "stream",
     "text": [
      "+ /opt/data/software/conda_envs/summary_gwas_imputation/bin/python /opt/data/software/summary-gwas-imputation/src/gwas_summary_imputation.py -by_region_file /opt/data/data/eur_ld.bed.gz -gwas_file /opt/data/projects/asthma-copd/results/harmonized_gwas/GWAS_COPD_only_GLM_SNPs_info0.7-harmonized.txt -parquet_genotype /opt/data/data/phenomexcan/ld_blocks/reference_panel_1000G/chr6.variants.parquet -parquet_genotype_metadata /opt/data/data/phenomexcan/ld_blocks/reference_panel_1000G/variant_metadata.parquet -window 100000 -parsimony 7 -chromosome 6 -regularization 0.1 -frequency_filter 0.01 -sub_batches 10 -sub_batch 4 --standardise_dosages -output /opt/data/projects/asthma-copd/results/imputed_gwas/GWAS_COPD_only_GLM_SNPs_info0.7-harmonized-imputed-chr6-batch4_10.txt\n",
      "+ set +x\n",
      "+ /opt/data/software/conda_envs/summary_gwas_imputation/bin/python /opt/data/software/summary-gwas-imputation/src/gwas_summary_imputation.py -by_region_file /opt/data/data/eur_ld.bed.gz -gwas_file /opt/data/projects/asthma-copd/results/harmonized_gwas/GWAS_COPD_only_GLM_SNPs_info0.7-harmonized.txt -parquet_genotype /opt/data/data/phenomexcan/ld_blocks/reference_panel_1000G/chr6.variants.parquet -parquet_genotype_metadata /opt/data/data/phenomexcan/ld_blocks/reference_panel_1000G/variant_metadata.parquet -window 100000 -parsimony 7 -chromosome 6 -regularization 0.1 -frequency_filter 0.01 -sub_batches 10 -sub_batch 5 --standardise_dosages -output /opt/data/projects/asthma-copd/results/imputed_gwas/GWAS_COPD_only_GLM_SNPs_info0.7-harmonized-imputed-chr6-batch5_10.txt\n",
      "+ set +x\n",
      "+ /opt/data/software/conda_envs/summary_gwas_imputation/bin/python /opt/data/software/summary-gwas-imputation/src/gwas_summary_imputation.py -by_region_file /opt/data/data/eur_ld.bed.gz -gwas_file /opt/data/projects/asthma-copd/results/harmonized_gwas/GWAS_COPD_only_GLM_SNPs_info0.7-harmonized.txt -parquet_genotype /opt/data/data/phenomexcan/ld_blocks/reference_panel_1000G/chr6.variants.parquet -parquet_genotype_metadata /opt/data/data/phenomexcan/ld_blocks/reference_panel_1000G/variant_metadata.parquet -window 100000 -parsimony 7 -chromosome 6 -regularization 0.1 -frequency_filter 0.01 -sub_batches 10 -sub_batch 6 --standardise_dosages -output /opt/data/projects/asthma-copd/results/imputed_gwas/GWAS_COPD_only_GLM_SNPs_info0.7-harmonized-imputed-chr6-batch6_10.txt\n",
      "+ set +x\n",
      "+ /opt/data/software/conda_envs/summary_gwas_imputation/bin/python /opt/data/software/summary-gwas-imputation/src/gwas_summary_imputation.py -by_region_file /opt/data/data/eur_ld.bed.gz -gwas_file /opt/data/projects/asthma-copd/results/harmonized_gwas/GWAS_COPD_only_GLM_SNPs_info0.7-harmonized.txt -parquet_genotype /opt/data/data/phenomexcan/ld_blocks/reference_panel_1000G/chr6.variants.parquet -parquet_genotype_metadata /opt/data/data/phenomexcan/ld_blocks/reference_panel_1000G/variant_metadata.parquet -window 100000 -parsimony 7 -chromosome 6 -regularization 0.1 -frequency_filter 0.01 -sub_batches 10 -sub_batch 7 --standardise_dosages -output /opt/data/projects/asthma-copd/results/imputed_gwas/GWAS_COPD_only_GLM_SNPs_info0.7-harmonized-imputed-chr6-batch7_10.txt\n",
      "+ set +x\n",
      "+ /opt/data/software/conda_envs/summary_gwas_imputation/bin/python /opt/data/software/summary-gwas-imputation/src/gwas_summary_imputation.py -by_region_file /opt/data/data/eur_ld.bed.gz -gwas_file /opt/data/projects/asthma-copd/results/harmonized_gwas/GWAS_COPD_only_GLM_SNPs_info0.7-harmonized.txt -parquet_genotype /opt/data/data/phenomexcan/ld_blocks/reference_panel_1000G/chr6.variants.parquet -parquet_genotype_metadata /opt/data/data/phenomexcan/ld_blocks/reference_panel_1000G/variant_metadata.parquet -window 100000 -parsimony 7 -chromosome 6 -regularization 0.1 -frequency_filter 0.01 -sub_batches 10 -sub_batch 8 --standardise_dosages -output /opt/data/projects/asthma-copd/results/imputed_gwas/GWAS_COPD_only_GLM_SNPs_info0.7-harmonized-imputed-chr6-batch8_10.txt\n",
      "+ set +x\n",
      "+ /opt/data/software/conda_envs/summary_gwas_imputation/bin/python /opt/data/software/summary-gwas-imputation/src/gwas_summary_imputation.py -by_region_file /opt/data/data/eur_ld.bed.gz -gwas_file /opt/data/projects/asthma-copd/results/harmonized_gwas/GWAS_COPD_only_GLM_SNPs_info0.7-harmonized.txt -parquet_genotype /opt/data/data/phenomexcan/ld_blocks/reference_panel_1000G/chr6.variants.parquet -parquet_genotype_metadata /opt/data/data/phenomexcan/ld_blocks/reference_panel_1000G/variant_metadata.parquet -window 100000 -parsimony 7 -chromosome 6 -regularization 0.1 -frequency_filter 0.01 -sub_batches 10 -sub_batch 9 --standardise_dosages -output /opt/data/projects/asthma-copd/results/imputed_gwas/GWAS_COPD_only_GLM_SNPs_info0.7-harmonized-imputed-chr6-batch9_10.txt\n",
      "+ set +x\n",
      "+ /opt/data/software/conda_envs/summary_gwas_imputation/bin/python /opt/data/software/summary-gwas-imputation/src/gwas_summary_imputation.py -by_region_file /opt/data/data/eur_ld.bed.gz -gwas_file /opt/data/projects/asthma-copd/results/harmonized_gwas/GWAS_COPD_only_GLM_SNPs_info0.7-harmonized.txt -parquet_genotype /opt/data/data/phenomexcan/ld_blocks/reference_panel_1000G/chr7.variants.parquet -parquet_genotype_metadata /opt/data/data/phenomexcan/ld_blocks/reference_panel_1000G/variant_metadata.parquet -window 100000 -parsimony 7 -chromosome 7 -regularization 0.1 -frequency_filter 0.01 -sub_batches 10 -sub_batch 0 --standardise_dosages -output /opt/data/projects/asthma-copd/results/imputed_gwas/GWAS_COPD_only_GLM_SNPs_info0.7-harmonized-imputed-chr7-batch0_10.txt\n",
      "+ set +x\n",
      "+ /opt/data/software/conda_envs/summary_gwas_imputation/bin/python /opt/data/software/summary-gwas-imputation/src/gwas_summary_imputation.py -by_region_file /opt/data/data/eur_ld.bed.gz -gwas_file /opt/data/projects/asthma-copd/results/harmonized_gwas/GWAS_COPD_only_GLM_SNPs_info0.7-harmonized.txt -parquet_genotype /opt/data/data/phenomexcan/ld_blocks/reference_panel_1000G/chr7.variants.parquet -parquet_genotype_metadata /opt/data/data/phenomexcan/ld_blocks/reference_panel_1000G/variant_metadata.parquet -window 100000 -parsimony 7 -chromosome 7 -regularization 0.1 -frequency_filter 0.01 -sub_batches 10 -sub_batch 1 --standardise_dosages -output /opt/data/projects/asthma-copd/results/imputed_gwas/GWAS_COPD_only_GLM_SNPs_info0.7-harmonized-imputed-chr7-batch1_10.txt\n",
      "+ set +x\n",
      "+ /opt/data/software/conda_envs/summary_gwas_imputation/bin/python /opt/data/software/summary-gwas-imputation/src/gwas_summary_imputation.py -by_region_file /opt/data/data/eur_ld.bed.gz -gwas_file /opt/data/projects/asthma-copd/results/harmonized_gwas/GWAS_COPD_only_GLM_SNPs_info0.7-harmonized.txt -parquet_genotype /opt/data/data/phenomexcan/ld_blocks/reference_panel_1000G/chr7.variants.parquet -parquet_genotype_metadata /opt/data/data/phenomexcan/ld_blocks/reference_panel_1000G/variant_metadata.parquet -window 100000 -parsimony 7 -chromosome 7 -regularization 0.1 -frequency_filter 0.01 -sub_batches 10 -sub_batch 2 --standardise_dosages -output /opt/data/projects/asthma-copd/results/imputed_gwas/GWAS_COPD_only_GLM_SNPs_info0.7-harmonized-imputed-chr7-batch2_10.txt\n",
      "+ set +x\n",
      "+ /opt/data/software/conda_envs/summary_gwas_imputation/bin/python /opt/data/software/summary-gwas-imputation/src/gwas_summary_imputation.py -by_region_file /opt/data/data/eur_ld.bed.gz -gwas_file /opt/data/projects/asthma-copd/results/harmonized_gwas/GWAS_COPD_only_GLM_SNPs_info0.7-harmonized.txt -parquet_genotype /opt/data/data/phenomexcan/ld_blocks/reference_panel_1000G/chr7.variants.parquet -parquet_genotype_metadata /opt/data/data/phenomexcan/ld_blocks/reference_panel_1000G/variant_metadata.parquet -window 100000 -parsimony 7 -chromosome 7 -regularization 0.1 -frequency_filter 0.01 -sub_batches 10 -sub_batch 3 --standardise_dosages -output /opt/data/projects/asthma-copd/results/imputed_gwas/GWAS_COPD_only_GLM_SNPs_info0.7-harmonized-imputed-chr7-batch3_10.txt\n",
      "+ set +x\n",
      "+ /opt/data/software/conda_envs/summary_gwas_imputation/bin/python /opt/data/software/summary-gwas-imputation/src/gwas_summary_imputation.py -by_region_file /opt/data/data/eur_ld.bed.gz -gwas_file /opt/data/projects/asthma-copd/results/harmonized_gwas/GWAS_COPD_only_GLM_SNPs_info0.7-harmonized.txt -parquet_genotype /opt/data/data/phenomexcan/ld_blocks/reference_panel_1000G/chr7.variants.parquet -parquet_genotype_metadata /opt/data/data/phenomexcan/ld_blocks/reference_panel_1000G/variant_metadata.parquet -window 100000 -parsimony 7 -chromosome 7 -regularization 0.1 -frequency_filter 0.01 -sub_batches 10 -sub_batch 4 --standardise_dosages -output /opt/data/projects/asthma-copd/results/imputed_gwas/GWAS_COPD_only_GLM_SNPs_info0.7-harmonized-imputed-chr7-batch4_10.txt\n",
      "+ set +x\n",
      "+ /opt/data/software/conda_envs/summary_gwas_imputation/bin/python /opt/data/software/summary-gwas-imputation/src/gwas_summary_imputation.py -by_region_file /opt/data/data/eur_ld.bed.gz -gwas_file /opt/data/projects/asthma-copd/results/harmonized_gwas/GWAS_COPD_only_GLM_SNPs_info0.7-harmonized.txt -parquet_genotype /opt/data/data/phenomexcan/ld_blocks/reference_panel_1000G/chr7.variants.parquet -parquet_genotype_metadata /opt/data/data/phenomexcan/ld_blocks/reference_panel_1000G/variant_metadata.parquet -window 100000 -parsimony 7 -chromosome 7 -regularization 0.1 -frequency_filter 0.01 -sub_batches 10 -sub_batch 5 --standardise_dosages -output /opt/data/projects/asthma-copd/results/imputed_gwas/GWAS_COPD_only_GLM_SNPs_info0.7-harmonized-imputed-chr7-batch5_10.txt\n",
      "+ set +x\n",
      "+ /opt/data/software/conda_envs/summary_gwas_imputation/bin/python /opt/data/software/summary-gwas-imputation/src/gwas_summary_imputation.py -by_region_file /opt/data/data/eur_ld.bed.gz -gwas_file /opt/data/projects/asthma-copd/results/harmonized_gwas/GWAS_COPD_only_GLM_SNPs_info0.7-harmonized.txt -parquet_genotype /opt/data/data/phenomexcan/ld_blocks/reference_panel_1000G/chr7.variants.parquet -parquet_genotype_metadata /opt/data/data/phenomexcan/ld_blocks/reference_panel_1000G/variant_metadata.parquet -window 100000 -parsimony 7 -chromosome 7 -regularization 0.1 -frequency_filter 0.01 -sub_batches 10 -sub_batch 6 --standardise_dosages -output /opt/data/projects/asthma-copd/results/imputed_gwas/GWAS_COPD_only_GLM_SNPs_info0.7-harmonized-imputed-chr7-batch6_10.txt\n",
      "+ set +x\n",
      "+ /opt/data/software/conda_envs/summary_gwas_imputation/bin/python /opt/data/software/summary-gwas-imputation/src/gwas_summary_imputation.py -by_region_file /opt/data/data/eur_ld.bed.gz -gwas_file /opt/data/projects/asthma-copd/results/harmonized_gwas/GWAS_COPD_only_GLM_SNPs_info0.7-harmonized.txt -parquet_genotype /opt/data/data/phenomexcan/ld_blocks/reference_panel_1000G/chr7.variants.parquet -parquet_genotype_metadata /opt/data/data/phenomexcan/ld_blocks/reference_panel_1000G/variant_metadata.parquet -window 100000 -parsimony 7 -chromosome 7 -regularization 0.1 -frequency_filter 0.01 -sub_batches 10 -sub_batch 7 --standardise_dosages -output /opt/data/projects/asthma-copd/results/imputed_gwas/GWAS_COPD_only_GLM_SNPs_info0.7-harmonized-imputed-chr7-batch7_10.txt\n",
      "+ set +x\n"
     ]
    },
    {
     "name": "stdout",
     "output_type": "stream",
     "text": [
      "Running for copd_only, 7, 7\n",
      "Saving results in /opt/data/projects/asthma-copd/results/imputed_gwas\n",
      "/opt/data/software/conda_envs/summary_gwas_imputation/lib/python3.7/site-packages/pyarrow/pandas_compat.py:752: FutureWarning: .labels was deprecated in version 0.24.0. Use .codes instead.\n",
      "\n",
      "Running for copd_only, 7, 8\n",
      "Saving results in /opt/data/projects/asthma-copd/results/imputed_gwas\n",
      "/opt/data/software/conda_envs/summary_gwas_imputation/lib/python3.7/site-packages/pyarrow/pandas_compat.py:752: FutureWarning: .labels was deprecated in version 0.24.0. Use .codes instead.\n",
      "\n"
     ]
    },
    {
     "name": "stderr",
     "output_type": "stream",
     "text": [
      "+ /opt/data/software/conda_envs/summary_gwas_imputation/bin/python /opt/data/software/summary-gwas-imputation/src/gwas_summary_imputation.py -by_region_file /opt/data/data/eur_ld.bed.gz -gwas_file /opt/data/projects/asthma-copd/results/harmonized_gwas/GWAS_COPD_only_GLM_SNPs_info0.7-harmonized.txt -parquet_genotype /opt/data/data/phenomexcan/ld_blocks/reference_panel_1000G/chr7.variants.parquet -parquet_genotype_metadata /opt/data/data/phenomexcan/ld_blocks/reference_panel_1000G/variant_metadata.parquet -window 100000 -parsimony 7 -chromosome 7 -regularization 0.1 -frequency_filter 0.01 -sub_batches 10 -sub_batch 8 --standardise_dosages -output /opt/data/projects/asthma-copd/results/imputed_gwas/GWAS_COPD_only_GLM_SNPs_info0.7-harmonized-imputed-chr7-batch8_10.txt\n",
      "+ set +x\n"
     ]
    },
    {
     "name": "stdout",
     "output_type": "stream",
     "text": [
      "Running for copd_only, 7, 9\n",
      "Saving results in /opt/data/projects/asthma-copd/results/imputed_gwas\n",
      "/opt/data/software/conda_envs/summary_gwas_imputation/lib/python3.7/site-packages/pyarrow/pandas_compat.py:752: FutureWarning: .labels was deprecated in version 0.24.0. Use .codes instead.\n",
      "\n",
      "Running for copd_only, 8, 0\n",
      "Saving results in /opt/data/projects/asthma-copd/results/imputed_gwas\n",
      "/opt/data/software/conda_envs/summary_gwas_imputation/lib/python3.7/site-packages/pyarrow/pandas_compat.py:752: FutureWarning: .labels was deprecated in version 0.24.0. Use .codes instead.\n",
      "\n",
      "Running for copd_only, 8, 1\n",
      "Saving results in /opt/data/projects/asthma-copd/results/imputed_gwas\n"
     ]
    },
    {
     "name": "stderr",
     "output_type": "stream",
     "text": [
      "+ /opt/data/software/conda_envs/summary_gwas_imputation/bin/python /opt/data/software/summary-gwas-imputation/src/gwas_summary_imputation.py -by_region_file /opt/data/data/eur_ld.bed.gz -gwas_file /opt/data/projects/asthma-copd/results/harmonized_gwas/GWAS_COPD_only_GLM_SNPs_info0.7-harmonized.txt -parquet_genotype /opt/data/data/phenomexcan/ld_blocks/reference_panel_1000G/chr7.variants.parquet -parquet_genotype_metadata /opt/data/data/phenomexcan/ld_blocks/reference_panel_1000G/variant_metadata.parquet -window 100000 -parsimony 7 -chromosome 7 -regularization 0.1 -frequency_filter 0.01 -sub_batches 10 -sub_batch 9 --standardise_dosages -output /opt/data/projects/asthma-copd/results/imputed_gwas/GWAS_COPD_only_GLM_SNPs_info0.7-harmonized-imputed-chr7-batch9_10.txt\n",
      "+ set +x\n",
      "+ /opt/data/software/conda_envs/summary_gwas_imputation/bin/python /opt/data/software/summary-gwas-imputation/src/gwas_summary_imputation.py -by_region_file /opt/data/data/eur_ld.bed.gz -gwas_file /opt/data/projects/asthma-copd/results/harmonized_gwas/GWAS_COPD_only_GLM_SNPs_info0.7-harmonized.txt -parquet_genotype /opt/data/data/phenomexcan/ld_blocks/reference_panel_1000G/chr8.variants.parquet -parquet_genotype_metadata /opt/data/data/phenomexcan/ld_blocks/reference_panel_1000G/variant_metadata.parquet -window 100000 -parsimony 7 -chromosome 8 -regularization 0.1 -frequency_filter 0.01 -sub_batches 10 -sub_batch 0 --standardise_dosages -output /opt/data/projects/asthma-copd/results/imputed_gwas/GWAS_COPD_only_GLM_SNPs_info0.7-harmonized-imputed-chr8-batch0_10.txt\n",
      "+ set +x\n",
      "+ /opt/data/software/conda_envs/summary_gwas_imputation/bin/python /opt/data/software/summary-gwas-imputation/src/gwas_summary_imputation.py -by_region_file /opt/data/data/eur_ld.bed.gz -gwas_file /opt/data/projects/asthma-copd/results/harmonized_gwas/GWAS_COPD_only_GLM_SNPs_info0.7-harmonized.txt -parquet_genotype /opt/data/data/phenomexcan/ld_blocks/reference_panel_1000G/chr8.variants.parquet -parquet_genotype_metadata /opt/data/data/phenomexcan/ld_blocks/reference_panel_1000G/variant_metadata.parquet -window 100000 -parsimony 7 -chromosome 8 -regularization 0.1 -frequency_filter 0.01 -sub_batches 10 -sub_batch 1 --standardise_dosages -output /opt/data/projects/asthma-copd/results/imputed_gwas/GWAS_COPD_only_GLM_SNPs_info0.7-harmonized-imputed-chr8-batch1_10.txt\n"
     ]
    },
    {
     "name": "stdout",
     "output_type": "stream",
     "text": [
      "/opt/data/software/conda_envs/summary_gwas_imputation/lib/python3.7/site-packages/pyarrow/pandas_compat.py:752: FutureWarning: .labels was deprecated in version 0.24.0. Use .codes instead.\n",
      "\n"
     ]
    },
    {
     "name": "stderr",
     "output_type": "stream",
     "text": [
      "+ set +x\n"
     ]
    },
    {
     "name": "stdout",
     "output_type": "stream",
     "text": [
      "Running for copd_only, 8, 2\n",
      "Saving results in /opt/data/projects/asthma-copd/results/imputed_gwas\n",
      "/opt/data/software/conda_envs/summary_gwas_imputation/lib/python3.7/site-packages/pyarrow/pandas_compat.py:752: FutureWarning: .labels was deprecated in version 0.24.0. Use .codes instead.\n",
      "\n",
      "Running for copd_only, 8, 3\n",
      "Saving results in /opt/data/projects/asthma-copd/results/imputed_gwas\n",
      "/opt/data/software/conda_envs/summary_gwas_imputation/lib/python3.7/site-packages/pyarrow/pandas_compat.py:752: FutureWarning: .labels was deprecated in version 0.24.0. Use .codes instead.\n",
      "\n",
      "Running for copd_only, 8, 4\n",
      "Saving results in /opt/data/projects/asthma-copd/results/imputed_gwas\n",
      "/opt/data/software/conda_envs/summary_gwas_imputation/lib/python3.7/site-packages/pyarrow/pandas_compat.py:752: FutureWarning: .labels was deprecated in version 0.24.0. Use .codes instead.\n",
      "\n",
      "Running for copd_only, 8, 5\n",
      "Saving results in /opt/data/projects/asthma-copd/results/imputed_gwas\n",
      "/opt/data/software/conda_envs/summary_gwas_imputation/lib/python3.7/site-packages/pyarrow/pandas_compat.py:752: FutureWarning: .labels was deprecated in version 0.24.0. Use .codes instead.\n",
      "\n",
      "Running for copd_only, 8, 6\n",
      "Saving results in /opt/data/projects/asthma-copd/results/imputed_gwas\n",
      "/opt/data/software/conda_envs/summary_gwas_imputation/lib/python3.7/site-packages/pyarrow/pandas_compat.py:752: FutureWarning: .labels was deprecated in version 0.24.0. Use .codes instead.\n",
      "\n",
      "Running for copd_only, 8, 7\n",
      "Saving results in /opt/data/projects/asthma-copd/results/imputed_gwas\n",
      "/opt/data/software/conda_envs/summary_gwas_imputation/lib/python3.7/site-packages/pyarrow/pandas_compat.py:752: FutureWarning: .labels was deprecated in version 0.24.0. Use .codes instead.\n",
      "\n"
     ]
    },
    {
     "name": "stderr",
     "output_type": "stream",
     "text": [
      "+ /opt/data/software/conda_envs/summary_gwas_imputation/bin/python /opt/data/software/summary-gwas-imputation/src/gwas_summary_imputation.py -by_region_file /opt/data/data/eur_ld.bed.gz -gwas_file /opt/data/projects/asthma-copd/results/harmonized_gwas/GWAS_COPD_only_GLM_SNPs_info0.7-harmonized.txt -parquet_genotype /opt/data/data/phenomexcan/ld_blocks/reference_panel_1000G/chr8.variants.parquet -parquet_genotype_metadata /opt/data/data/phenomexcan/ld_blocks/reference_panel_1000G/variant_metadata.parquet -window 100000 -parsimony 7 -chromosome 8 -regularization 0.1 -frequency_filter 0.01 -sub_batches 10 -sub_batch 2 --standardise_dosages -output /opt/data/projects/asthma-copd/results/imputed_gwas/GWAS_COPD_only_GLM_SNPs_info0.7-harmonized-imputed-chr8-batch2_10.txt\n",
      "+ set +x\n",
      "+ /opt/data/software/conda_envs/summary_gwas_imputation/bin/python /opt/data/software/summary-gwas-imputation/src/gwas_summary_imputation.py -by_region_file /opt/data/data/eur_ld.bed.gz -gwas_file /opt/data/projects/asthma-copd/results/harmonized_gwas/GWAS_COPD_only_GLM_SNPs_info0.7-harmonized.txt -parquet_genotype /opt/data/data/phenomexcan/ld_blocks/reference_panel_1000G/chr8.variants.parquet -parquet_genotype_metadata /opt/data/data/phenomexcan/ld_blocks/reference_panel_1000G/variant_metadata.parquet -window 100000 -parsimony 7 -chromosome 8 -regularization 0.1 -frequency_filter 0.01 -sub_batches 10 -sub_batch 3 --standardise_dosages -output /opt/data/projects/asthma-copd/results/imputed_gwas/GWAS_COPD_only_GLM_SNPs_info0.7-harmonized-imputed-chr8-batch3_10.txt\n",
      "+ set +x\n",
      "+ /opt/data/software/conda_envs/summary_gwas_imputation/bin/python /opt/data/software/summary-gwas-imputation/src/gwas_summary_imputation.py -by_region_file /opt/data/data/eur_ld.bed.gz -gwas_file /opt/data/projects/asthma-copd/results/harmonized_gwas/GWAS_COPD_only_GLM_SNPs_info0.7-harmonized.txt -parquet_genotype /opt/data/data/phenomexcan/ld_blocks/reference_panel_1000G/chr8.variants.parquet -parquet_genotype_metadata /opt/data/data/phenomexcan/ld_blocks/reference_panel_1000G/variant_metadata.parquet -window 100000 -parsimony 7 -chromosome 8 -regularization 0.1 -frequency_filter 0.01 -sub_batches 10 -sub_batch 4 --standardise_dosages -output /opt/data/projects/asthma-copd/results/imputed_gwas/GWAS_COPD_only_GLM_SNPs_info0.7-harmonized-imputed-chr8-batch4_10.txt\n",
      "+ set +x\n",
      "+ /opt/data/software/conda_envs/summary_gwas_imputation/bin/python /opt/data/software/summary-gwas-imputation/src/gwas_summary_imputation.py -by_region_file /opt/data/data/eur_ld.bed.gz -gwas_file /opt/data/projects/asthma-copd/results/harmonized_gwas/GWAS_COPD_only_GLM_SNPs_info0.7-harmonized.txt -parquet_genotype /opt/data/data/phenomexcan/ld_blocks/reference_panel_1000G/chr8.variants.parquet -parquet_genotype_metadata /opt/data/data/phenomexcan/ld_blocks/reference_panel_1000G/variant_metadata.parquet -window 100000 -parsimony 7 -chromosome 8 -regularization 0.1 -frequency_filter 0.01 -sub_batches 10 -sub_batch 5 --standardise_dosages -output /opt/data/projects/asthma-copd/results/imputed_gwas/GWAS_COPD_only_GLM_SNPs_info0.7-harmonized-imputed-chr8-batch5_10.txt\n",
      "+ set +x\n",
      "+ /opt/data/software/conda_envs/summary_gwas_imputation/bin/python /opt/data/software/summary-gwas-imputation/src/gwas_summary_imputation.py -by_region_file /opt/data/data/eur_ld.bed.gz -gwas_file /opt/data/projects/asthma-copd/results/harmonized_gwas/GWAS_COPD_only_GLM_SNPs_info0.7-harmonized.txt -parquet_genotype /opt/data/data/phenomexcan/ld_blocks/reference_panel_1000G/chr8.variants.parquet -parquet_genotype_metadata /opt/data/data/phenomexcan/ld_blocks/reference_panel_1000G/variant_metadata.parquet -window 100000 -parsimony 7 -chromosome 8 -regularization 0.1 -frequency_filter 0.01 -sub_batches 10 -sub_batch 6 --standardise_dosages -output /opt/data/projects/asthma-copd/results/imputed_gwas/GWAS_COPD_only_GLM_SNPs_info0.7-harmonized-imputed-chr8-batch6_10.txt\n",
      "+ set +x\n",
      "+ /opt/data/software/conda_envs/summary_gwas_imputation/bin/python /opt/data/software/summary-gwas-imputation/src/gwas_summary_imputation.py -by_region_file /opt/data/data/eur_ld.bed.gz -gwas_file /opt/data/projects/asthma-copd/results/harmonized_gwas/GWAS_COPD_only_GLM_SNPs_info0.7-harmonized.txt -parquet_genotype /opt/data/data/phenomexcan/ld_blocks/reference_panel_1000G/chr8.variants.parquet -parquet_genotype_metadata /opt/data/data/phenomexcan/ld_blocks/reference_panel_1000G/variant_metadata.parquet -window 100000 -parsimony 7 -chromosome 8 -regularization 0.1 -frequency_filter 0.01 -sub_batches 10 -sub_batch 7 --standardise_dosages -output /opt/data/projects/asthma-copd/results/imputed_gwas/GWAS_COPD_only_GLM_SNPs_info0.7-harmonized-imputed-chr8-batch7_10.txt\n",
      "+ set +x\n"
     ]
    },
    {
     "name": "stdout",
     "output_type": "stream",
     "text": [
      "Running for copd_only, 8, 8\n",
      "Saving results in /opt/data/projects/asthma-copd/results/imputed_gwas\n"
     ]
    },
    {
     "name": "stderr",
     "output_type": "stream",
     "text": [
      "+ /opt/data/software/conda_envs/summary_gwas_imputation/bin/python /opt/data/software/summary-gwas-imputation/src/gwas_summary_imputation.py -by_region_file /opt/data/data/eur_ld.bed.gz -gwas_file /opt/data/projects/asthma-copd/results/harmonized_gwas/GWAS_COPD_only_GLM_SNPs_info0.7-harmonized.txt -parquet_genotype /opt/data/data/phenomexcan/ld_blocks/reference_panel_1000G/chr8.variants.parquet -parquet_genotype_metadata /opt/data/data/phenomexcan/ld_blocks/reference_panel_1000G/variant_metadata.parquet -window 100000 -parsimony 7 -chromosome 8 -regularization 0.1 -frequency_filter 0.01 -sub_batches 10 -sub_batch 8 --standardise_dosages -output /opt/data/projects/asthma-copd/results/imputed_gwas/GWAS_COPD_only_GLM_SNPs_info0.7-harmonized-imputed-chr8-batch8_10.txt\n"
     ]
    },
    {
     "name": "stdout",
     "output_type": "stream",
     "text": [
      "/opt/data/software/conda_envs/summary_gwas_imputation/lib/python3.7/site-packages/pyarrow/pandas_compat.py:752: FutureWarning: .labels was deprecated in version 0.24.0. Use .codes instead.\n",
      "\n"
     ]
    },
    {
     "name": "stderr",
     "output_type": "stream",
     "text": [
      "+ set +x\n"
     ]
    },
    {
     "name": "stdout",
     "output_type": "stream",
     "text": [
      "Running for copd_only, 8, 9\n",
      "Saving results in /opt/data/projects/asthma-copd/results/imputed_gwas\n",
      "/opt/data/software/conda_envs/summary_gwas_imputation/lib/python3.7/site-packages/pyarrow/pandas_compat.py:752: FutureWarning: .labels was deprecated in version 0.24.0. Use .codes instead.\n",
      "\n"
     ]
    },
    {
     "name": "stderr",
     "output_type": "stream",
     "text": [
      "+ /opt/data/software/conda_envs/summary_gwas_imputation/bin/python /opt/data/software/summary-gwas-imputation/src/gwas_summary_imputation.py -by_region_file /opt/data/data/eur_ld.bed.gz -gwas_file /opt/data/projects/asthma-copd/results/harmonized_gwas/GWAS_COPD_only_GLM_SNPs_info0.7-harmonized.txt -parquet_genotype /opt/data/data/phenomexcan/ld_blocks/reference_panel_1000G/chr8.variants.parquet -parquet_genotype_metadata /opt/data/data/phenomexcan/ld_blocks/reference_panel_1000G/variant_metadata.parquet -window 100000 -parsimony 7 -chromosome 8 -regularization 0.1 -frequency_filter 0.01 -sub_batches 10 -sub_batch 9 --standardise_dosages -output /opt/data/projects/asthma-copd/results/imputed_gwas/GWAS_COPD_only_GLM_SNPs_info0.7-harmonized-imputed-chr8-batch9_10.txt\n",
      "+ set +x\n"
     ]
    },
    {
     "name": "stdout",
     "output_type": "stream",
     "text": [
      "Running for copd_only, 9, 0\n",
      "Saving results in /opt/data/projects/asthma-copd/results/imputed_gwas\n",
      "/opt/data/software/conda_envs/summary_gwas_imputation/lib/python3.7/site-packages/pyarrow/pandas_compat.py:752: FutureWarning: .labels was deprecated in version 0.24.0. Use .codes instead.\n",
      "\n",
      "Running for copd_only, 9, 1\n",
      "Saving results in /opt/data/projects/asthma-copd/results/imputed_gwas\n",
      "/opt/data/software/conda_envs/summary_gwas_imputation/lib/python3.7/site-packages/pyarrow/pandas_compat.py:752: FutureWarning: .labels was deprecated in version 0.24.0. Use .codes instead.\n",
      "\n",
      "Running for copd_only, 9, 2\n",
      "Saving results in /opt/data/projects/asthma-copd/results/imputed_gwas\n",
      "/opt/data/software/conda_envs/summary_gwas_imputation/lib/python3.7/site-packages/pyarrow/pandas_compat.py:752: FutureWarning: .labels was deprecated in version 0.24.0. Use .codes instead.\n",
      "\n",
      "Running for copd_only, 9, 3\n",
      "Saving results in /opt/data/projects/asthma-copd/results/imputed_gwas\n",
      "/opt/data/software/conda_envs/summary_gwas_imputation/lib/python3.7/site-packages/pyarrow/pandas_compat.py:752: FutureWarning: .labels was deprecated in version 0.24.0. Use .codes instead.\n",
      "\n",
      "Running for copd_only, 9, 4\n",
      "Saving results in /opt/data/projects/asthma-copd/results/imputed_gwas\n",
      "/opt/data/software/conda_envs/summary_gwas_imputation/lib/python3.7/site-packages/pyarrow/pandas_compat.py:752: FutureWarning: .labels was deprecated in version 0.24.0. Use .codes instead.\n",
      "\n",
      "Running for copd_only, 9, 5\n",
      "Saving results in /opt/data/projects/asthma-copd/results/imputed_gwas\n",
      "/opt/data/software/conda_envs/summary_gwas_imputation/lib/python3.7/site-packages/pyarrow/pandas_compat.py:752: FutureWarning: .labels was deprecated in version 0.24.0. Use .codes instead.\n",
      "\n",
      "Running for copd_only, 9, 6\n",
      "Saving results in /opt/data/projects/asthma-copd/results/imputed_gwas\n"
     ]
    },
    {
     "name": "stderr",
     "output_type": "stream",
     "text": [
      "+ /opt/data/software/conda_envs/summary_gwas_imputation/bin/python /opt/data/software/summary-gwas-imputation/src/gwas_summary_imputation.py -by_region_file /opt/data/data/eur_ld.bed.gz -gwas_file /opt/data/projects/asthma-copd/results/harmonized_gwas/GWAS_COPD_only_GLM_SNPs_info0.7-harmonized.txt -parquet_genotype /opt/data/data/phenomexcan/ld_blocks/reference_panel_1000G/chr9.variants.parquet -parquet_genotype_metadata /opt/data/data/phenomexcan/ld_blocks/reference_panel_1000G/variant_metadata.parquet -window 100000 -parsimony 7 -chromosome 9 -regularization 0.1 -frequency_filter 0.01 -sub_batches 10 -sub_batch 0 --standardise_dosages -output /opt/data/projects/asthma-copd/results/imputed_gwas/GWAS_COPD_only_GLM_SNPs_info0.7-harmonized-imputed-chr9-batch0_10.txt\n",
      "+ set +x\n",
      "+ /opt/data/software/conda_envs/summary_gwas_imputation/bin/python /opt/data/software/summary-gwas-imputation/src/gwas_summary_imputation.py -by_region_file /opt/data/data/eur_ld.bed.gz -gwas_file /opt/data/projects/asthma-copd/results/harmonized_gwas/GWAS_COPD_only_GLM_SNPs_info0.7-harmonized.txt -parquet_genotype /opt/data/data/phenomexcan/ld_blocks/reference_panel_1000G/chr9.variants.parquet -parquet_genotype_metadata /opt/data/data/phenomexcan/ld_blocks/reference_panel_1000G/variant_metadata.parquet -window 100000 -parsimony 7 -chromosome 9 -regularization 0.1 -frequency_filter 0.01 -sub_batches 10 -sub_batch 1 --standardise_dosages -output /opt/data/projects/asthma-copd/results/imputed_gwas/GWAS_COPD_only_GLM_SNPs_info0.7-harmonized-imputed-chr9-batch1_10.txt\n",
      "+ set +x\n",
      "+ /opt/data/software/conda_envs/summary_gwas_imputation/bin/python /opt/data/software/summary-gwas-imputation/src/gwas_summary_imputation.py -by_region_file /opt/data/data/eur_ld.bed.gz -gwas_file /opt/data/projects/asthma-copd/results/harmonized_gwas/GWAS_COPD_only_GLM_SNPs_info0.7-harmonized.txt -parquet_genotype /opt/data/data/phenomexcan/ld_blocks/reference_panel_1000G/chr9.variants.parquet -parquet_genotype_metadata /opt/data/data/phenomexcan/ld_blocks/reference_panel_1000G/variant_metadata.parquet -window 100000 -parsimony 7 -chromosome 9 -regularization 0.1 -frequency_filter 0.01 -sub_batches 10 -sub_batch 2 --standardise_dosages -output /opt/data/projects/asthma-copd/results/imputed_gwas/GWAS_COPD_only_GLM_SNPs_info0.7-harmonized-imputed-chr9-batch2_10.txt\n",
      "+ set +x\n",
      "+ /opt/data/software/conda_envs/summary_gwas_imputation/bin/python /opt/data/software/summary-gwas-imputation/src/gwas_summary_imputation.py -by_region_file /opt/data/data/eur_ld.bed.gz -gwas_file /opt/data/projects/asthma-copd/results/harmonized_gwas/GWAS_COPD_only_GLM_SNPs_info0.7-harmonized.txt -parquet_genotype /opt/data/data/phenomexcan/ld_blocks/reference_panel_1000G/chr9.variants.parquet -parquet_genotype_metadata /opt/data/data/phenomexcan/ld_blocks/reference_panel_1000G/variant_metadata.parquet -window 100000 -parsimony 7 -chromosome 9 -regularization 0.1 -frequency_filter 0.01 -sub_batches 10 -sub_batch 3 --standardise_dosages -output /opt/data/projects/asthma-copd/results/imputed_gwas/GWAS_COPD_only_GLM_SNPs_info0.7-harmonized-imputed-chr9-batch3_10.txt\n",
      "+ set +x\n",
      "+ /opt/data/software/conda_envs/summary_gwas_imputation/bin/python /opt/data/software/summary-gwas-imputation/src/gwas_summary_imputation.py -by_region_file /opt/data/data/eur_ld.bed.gz -gwas_file /opt/data/projects/asthma-copd/results/harmonized_gwas/GWAS_COPD_only_GLM_SNPs_info0.7-harmonized.txt -parquet_genotype /opt/data/data/phenomexcan/ld_blocks/reference_panel_1000G/chr9.variants.parquet -parquet_genotype_metadata /opt/data/data/phenomexcan/ld_blocks/reference_panel_1000G/variant_metadata.parquet -window 100000 -parsimony 7 -chromosome 9 -regularization 0.1 -frequency_filter 0.01 -sub_batches 10 -sub_batch 4 --standardise_dosages -output /opt/data/projects/asthma-copd/results/imputed_gwas/GWAS_COPD_only_GLM_SNPs_info0.7-harmonized-imputed-chr9-batch4_10.txt\n",
      "+ set +x\n",
      "+ /opt/data/software/conda_envs/summary_gwas_imputation/bin/python /opt/data/software/summary-gwas-imputation/src/gwas_summary_imputation.py -by_region_file /opt/data/data/eur_ld.bed.gz -gwas_file /opt/data/projects/asthma-copd/results/harmonized_gwas/GWAS_COPD_only_GLM_SNPs_info0.7-harmonized.txt -parquet_genotype /opt/data/data/phenomexcan/ld_blocks/reference_panel_1000G/chr9.variants.parquet -parquet_genotype_metadata /opt/data/data/phenomexcan/ld_blocks/reference_panel_1000G/variant_metadata.parquet -window 100000 -parsimony 7 -chromosome 9 -regularization 0.1 -frequency_filter 0.01 -sub_batches 10 -sub_batch 5 --standardise_dosages -output /opt/data/projects/asthma-copd/results/imputed_gwas/GWAS_COPD_only_GLM_SNPs_info0.7-harmonized-imputed-chr9-batch5_10.txt\n",
      "+ set +x\n",
      "+ /opt/data/software/conda_envs/summary_gwas_imputation/bin/python /opt/data/software/summary-gwas-imputation/src/gwas_summary_imputation.py -by_region_file /opt/data/data/eur_ld.bed.gz -gwas_file /opt/data/projects/asthma-copd/results/harmonized_gwas/GWAS_COPD_only_GLM_SNPs_info0.7-harmonized.txt -parquet_genotype /opt/data/data/phenomexcan/ld_blocks/reference_panel_1000G/chr9.variants.parquet -parquet_genotype_metadata /opt/data/data/phenomexcan/ld_blocks/reference_panel_1000G/variant_metadata.parquet -window 100000 -parsimony 7 -chromosome 9 -regularization 0.1 -frequency_filter 0.01 -sub_batches 10 -sub_batch 6 --standardise_dosages -output /opt/data/projects/asthma-copd/results/imputed_gwas/GWAS_COPD_only_GLM_SNPs_info0.7-harmonized-imputed-chr9-batch6_10.txt\n"
     ]
    },
    {
     "name": "stdout",
     "output_type": "stream",
     "text": [
      "/opt/data/software/conda_envs/summary_gwas_imputation/lib/python3.7/site-packages/pyarrow/pandas_compat.py:752: FutureWarning: .labels was deprecated in version 0.24.0. Use .codes instead.\n",
      "INFO - Error for region (9,93909416.0,96159758.0): LinAlgError('SVD did not converge')\n",
      "\n"
     ]
    },
    {
     "name": "stderr",
     "output_type": "stream",
     "text": [
      "+ set +x\n"
     ]
    },
    {
     "name": "stdout",
     "output_type": "stream",
     "text": [
      "Running for copd_only, 9, 7\n",
      "Saving results in /opt/data/projects/asthma-copd/results/imputed_gwas\n",
      "/opt/data/software/conda_envs/summary_gwas_imputation/lib/python3.7/site-packages/pyarrow/pandas_compat.py:752: FutureWarning: .labels was deprecated in version 0.24.0. Use .codes instead.\n",
      "\n",
      "Running for copd_only, 9, 8\n",
      "Saving results in /opt/data/projects/asthma-copd/results/imputed_gwas\n",
      "/opt/data/software/conda_envs/summary_gwas_imputation/lib/python3.7/site-packages/pyarrow/pandas_compat.py:752: FutureWarning: .labels was deprecated in version 0.24.0. Use .codes instead.\n",
      "\n",
      "Running for copd_only, 9, 9\n",
      "Saving results in /opt/data/projects/asthma-copd/results/imputed_gwas\n",
      "/opt/data/software/conda_envs/summary_gwas_imputation/lib/python3.7/site-packages/pyarrow/pandas_compat.py:752: FutureWarning: .labels was deprecated in version 0.24.0. Use .codes instead.\n",
      "\n",
      "Running for copd_only, 10, 0\n",
      "Saving results in /opt/data/projects/asthma-copd/results/imputed_gwas\n",
      "/opt/data/software/conda_envs/summary_gwas_imputation/lib/python3.7/site-packages/pyarrow/pandas_compat.py:752: FutureWarning: .labels was deprecated in version 0.24.0. Use .codes instead.\n",
      "\n"
     ]
    },
    {
     "name": "stderr",
     "output_type": "stream",
     "text": [
      "+ /opt/data/software/conda_envs/summary_gwas_imputation/bin/python /opt/data/software/summary-gwas-imputation/src/gwas_summary_imputation.py -by_region_file /opt/data/data/eur_ld.bed.gz -gwas_file /opt/data/projects/asthma-copd/results/harmonized_gwas/GWAS_COPD_only_GLM_SNPs_info0.7-harmonized.txt -parquet_genotype /opt/data/data/phenomexcan/ld_blocks/reference_panel_1000G/chr9.variants.parquet -parquet_genotype_metadata /opt/data/data/phenomexcan/ld_blocks/reference_panel_1000G/variant_metadata.parquet -window 100000 -parsimony 7 -chromosome 9 -regularization 0.1 -frequency_filter 0.01 -sub_batches 10 -sub_batch 7 --standardise_dosages -output /opt/data/projects/asthma-copd/results/imputed_gwas/GWAS_COPD_only_GLM_SNPs_info0.7-harmonized-imputed-chr9-batch7_10.txt\n",
      "+ set +x\n",
      "+ /opt/data/software/conda_envs/summary_gwas_imputation/bin/python /opt/data/software/summary-gwas-imputation/src/gwas_summary_imputation.py -by_region_file /opt/data/data/eur_ld.bed.gz -gwas_file /opt/data/projects/asthma-copd/results/harmonized_gwas/GWAS_COPD_only_GLM_SNPs_info0.7-harmonized.txt -parquet_genotype /opt/data/data/phenomexcan/ld_blocks/reference_panel_1000G/chr9.variants.parquet -parquet_genotype_metadata /opt/data/data/phenomexcan/ld_blocks/reference_panel_1000G/variant_metadata.parquet -window 100000 -parsimony 7 -chromosome 9 -regularization 0.1 -frequency_filter 0.01 -sub_batches 10 -sub_batch 8 --standardise_dosages -output /opt/data/projects/asthma-copd/results/imputed_gwas/GWAS_COPD_only_GLM_SNPs_info0.7-harmonized-imputed-chr9-batch8_10.txt\n",
      "+ set +x\n",
      "+ /opt/data/software/conda_envs/summary_gwas_imputation/bin/python /opt/data/software/summary-gwas-imputation/src/gwas_summary_imputation.py -by_region_file /opt/data/data/eur_ld.bed.gz -gwas_file /opt/data/projects/asthma-copd/results/harmonized_gwas/GWAS_COPD_only_GLM_SNPs_info0.7-harmonized.txt -parquet_genotype /opt/data/data/phenomexcan/ld_blocks/reference_panel_1000G/chr9.variants.parquet -parquet_genotype_metadata /opt/data/data/phenomexcan/ld_blocks/reference_panel_1000G/variant_metadata.parquet -window 100000 -parsimony 7 -chromosome 9 -regularization 0.1 -frequency_filter 0.01 -sub_batches 10 -sub_batch 9 --standardise_dosages -output /opt/data/projects/asthma-copd/results/imputed_gwas/GWAS_COPD_only_GLM_SNPs_info0.7-harmonized-imputed-chr9-batch9_10.txt\n",
      "+ set +x\n",
      "+ /opt/data/software/conda_envs/summary_gwas_imputation/bin/python /opt/data/software/summary-gwas-imputation/src/gwas_summary_imputation.py -by_region_file /opt/data/data/eur_ld.bed.gz -gwas_file /opt/data/projects/asthma-copd/results/harmonized_gwas/GWAS_COPD_only_GLM_SNPs_info0.7-harmonized.txt -parquet_genotype /opt/data/data/phenomexcan/ld_blocks/reference_panel_1000G/chr10.variants.parquet -parquet_genotype_metadata /opt/data/data/phenomexcan/ld_blocks/reference_panel_1000G/variant_metadata.parquet -window 100000 -parsimony 7 -chromosome 10 -regularization 0.1 -frequency_filter 0.01 -sub_batches 10 -sub_batch 0 --standardise_dosages -output /opt/data/projects/asthma-copd/results/imputed_gwas/GWAS_COPD_only_GLM_SNPs_info0.7-harmonized-imputed-chr10-batch0_10.txt\n",
      "+ set +x\n"
     ]
    },
    {
     "name": "stdout",
     "output_type": "stream",
     "text": [
      "Running for copd_only, 10, 1\n",
      "Saving results in /opt/data/projects/asthma-copd/results/imputed_gwas\n"
     ]
    },
    {
     "name": "stderr",
     "output_type": "stream",
     "text": [
      "+ /opt/data/software/conda_envs/summary_gwas_imputation/bin/python /opt/data/software/summary-gwas-imputation/src/gwas_summary_imputation.py -by_region_file /opt/data/data/eur_ld.bed.gz -gwas_file /opt/data/projects/asthma-copd/results/harmonized_gwas/GWAS_COPD_only_GLM_SNPs_info0.7-harmonized.txt -parquet_genotype /opt/data/data/phenomexcan/ld_blocks/reference_panel_1000G/chr10.variants.parquet -parquet_genotype_metadata /opt/data/data/phenomexcan/ld_blocks/reference_panel_1000G/variant_metadata.parquet -window 100000 -parsimony 7 -chromosome 10 -regularization 0.1 -frequency_filter 0.01 -sub_batches 10 -sub_batch 1 --standardise_dosages -output /opt/data/projects/asthma-copd/results/imputed_gwas/GWAS_COPD_only_GLM_SNPs_info0.7-harmonized-imputed-chr10-batch1_10.txt\n"
     ]
    },
    {
     "name": "stdout",
     "output_type": "stream",
     "text": [
      "/opt/data/software/conda_envs/summary_gwas_imputation/lib/python3.7/site-packages/pyarrow/pandas_compat.py:752: FutureWarning: .labels was deprecated in version 0.24.0. Use .codes instead.\n",
      "\n"
     ]
    },
    {
     "name": "stderr",
     "output_type": "stream",
     "text": [
      "+ set +x\n"
     ]
    },
    {
     "name": "stdout",
     "output_type": "stream",
     "text": [
      "Running for copd_only, 10, 2\n",
      "Saving results in /opt/data/projects/asthma-copd/results/imputed_gwas\n",
      "/opt/data/software/conda_envs/summary_gwas_imputation/lib/python3.7/site-packages/pyarrow/pandas_compat.py:752: FutureWarning: .labels was deprecated in version 0.24.0. Use .codes instead.\n",
      "\n"
     ]
    },
    {
     "name": "stderr",
     "output_type": "stream",
     "text": [
      "+ /opt/data/software/conda_envs/summary_gwas_imputation/bin/python /opt/data/software/summary-gwas-imputation/src/gwas_summary_imputation.py -by_region_file /opt/data/data/eur_ld.bed.gz -gwas_file /opt/data/projects/asthma-copd/results/harmonized_gwas/GWAS_COPD_only_GLM_SNPs_info0.7-harmonized.txt -parquet_genotype /opt/data/data/phenomexcan/ld_blocks/reference_panel_1000G/chr10.variants.parquet -parquet_genotype_metadata /opt/data/data/phenomexcan/ld_blocks/reference_panel_1000G/variant_metadata.parquet -window 100000 -parsimony 7 -chromosome 10 -regularization 0.1 -frequency_filter 0.01 -sub_batches 10 -sub_batch 2 --standardise_dosages -output /opt/data/projects/asthma-copd/results/imputed_gwas/GWAS_COPD_only_GLM_SNPs_info0.7-harmonized-imputed-chr10-batch2_10.txt\n",
      "+ set +x\n",
      "+ /opt/data/software/conda_envs/summary_gwas_imputation/bin/python /opt/data/software/summary-gwas-imputation/src/gwas_summary_imputation.py -by_region_file /opt/data/data/eur_ld.bed.gz -gwas_file /opt/data/projects/asthma-copd/results/harmonized_gwas/GWAS_COPD_only_GLM_SNPs_info0.7-harmonized.txt -parquet_genotype /opt/data/data/phenomexcan/ld_blocks/reference_panel_1000G/chr10.variants.parquet -parquet_genotype_metadata /opt/data/data/phenomexcan/ld_blocks/reference_panel_1000G/variant_metadata.parquet -window 100000 -parsimony 7 -chromosome 10 -regularization 0.1 -frequency_filter 0.01 -sub_batches 10 -sub_batch 3 --standardise_dosages -output /opt/data/projects/asthma-copd/results/imputed_gwas/GWAS_COPD_only_GLM_SNPs_info0.7-harmonized-imputed-chr10-batch3_10.txt\n",
      "+ set +x\n",
      "+ /opt/data/software/conda_envs/summary_gwas_imputation/bin/python /opt/data/software/summary-gwas-imputation/src/gwas_summary_imputation.py -by_region_file /opt/data/data/eur_ld.bed.gz -gwas_file /opt/data/projects/asthma-copd/results/harmonized_gwas/GWAS_COPD_only_GLM_SNPs_info0.7-harmonized.txt -parquet_genotype /opt/data/data/phenomexcan/ld_blocks/reference_panel_1000G/chr10.variants.parquet -parquet_genotype_metadata /opt/data/data/phenomexcan/ld_blocks/reference_panel_1000G/variant_metadata.parquet -window 100000 -parsimony 7 -chromosome 10 -regularization 0.1 -frequency_filter 0.01 -sub_batches 10 -sub_batch 4 --standardise_dosages -output /opt/data/projects/asthma-copd/results/imputed_gwas/GWAS_COPD_only_GLM_SNPs_info0.7-harmonized-imputed-chr10-batch4_10.txt\n",
      "+ set +x\n",
      "+ /opt/data/software/conda_envs/summary_gwas_imputation/bin/python /opt/data/software/summary-gwas-imputation/src/gwas_summary_imputation.py -by_region_file /opt/data/data/eur_ld.bed.gz -gwas_file /opt/data/projects/asthma-copd/results/harmonized_gwas/GWAS_COPD_only_GLM_SNPs_info0.7-harmonized.txt -parquet_genotype /opt/data/data/phenomexcan/ld_blocks/reference_panel_1000G/chr10.variants.parquet -parquet_genotype_metadata /opt/data/data/phenomexcan/ld_blocks/reference_panel_1000G/variant_metadata.parquet -window 100000 -parsimony 7 -chromosome 10 -regularization 0.1 -frequency_filter 0.01 -sub_batches 10 -sub_batch 5 --standardise_dosages -output /opt/data/projects/asthma-copd/results/imputed_gwas/GWAS_COPD_only_GLM_SNPs_info0.7-harmonized-imputed-chr10-batch5_10.txt\n",
      "+ set +x\n",
      "+ /opt/data/software/conda_envs/summary_gwas_imputation/bin/python /opt/data/software/summary-gwas-imputation/src/gwas_summary_imputation.py -by_region_file /opt/data/data/eur_ld.bed.gz -gwas_file /opt/data/projects/asthma-copd/results/harmonized_gwas/GWAS_COPD_only_GLM_SNPs_info0.7-harmonized.txt -parquet_genotype /opt/data/data/phenomexcan/ld_blocks/reference_panel_1000G/chr10.variants.parquet -parquet_genotype_metadata /opt/data/data/phenomexcan/ld_blocks/reference_panel_1000G/variant_metadata.parquet -window 100000 -parsimony 7 -chromosome 10 -regularization 0.1 -frequency_filter 0.01 -sub_batches 10 -sub_batch 6 --standardise_dosages -output /opt/data/projects/asthma-copd/results/imputed_gwas/GWAS_COPD_only_GLM_SNPs_info0.7-harmonized-imputed-chr10-batch6_10.txt\n",
      "+ set +x\n",
      "+ /opt/data/software/conda_envs/summary_gwas_imputation/bin/python /opt/data/software/summary-gwas-imputation/src/gwas_summary_imputation.py -by_region_file /opt/data/data/eur_ld.bed.gz -gwas_file /opt/data/projects/asthma-copd/results/harmonized_gwas/GWAS_COPD_only_GLM_SNPs_info0.7-harmonized.txt -parquet_genotype /opt/data/data/phenomexcan/ld_blocks/reference_panel_1000G/chr10.variants.parquet -parquet_genotype_metadata /opt/data/data/phenomexcan/ld_blocks/reference_panel_1000G/variant_metadata.parquet -window 100000 -parsimony 7 -chromosome 10 -regularization 0.1 -frequency_filter 0.01 -sub_batches 10 -sub_batch 7 --standardise_dosages -output /opt/data/projects/asthma-copd/results/imputed_gwas/GWAS_COPD_only_GLM_SNPs_info0.7-harmonized-imputed-chr10-batch7_10.txt\n",
      "+ set +x\n"
     ]
    },
    {
     "name": "stdout",
     "output_type": "stream",
     "text": [
      "Running for copd_only, 10, 3\n",
      "Saving results in /opt/data/projects/asthma-copd/results/imputed_gwas\n",
      "/opt/data/software/conda_envs/summary_gwas_imputation/lib/python3.7/site-packages/pyarrow/pandas_compat.py:752: FutureWarning: .labels was deprecated in version 0.24.0. Use .codes instead.\n",
      "\n",
      "Running for copd_only, 10, 4\n",
      "Saving results in /opt/data/projects/asthma-copd/results/imputed_gwas\n",
      "/opt/data/software/conda_envs/summary_gwas_imputation/lib/python3.7/site-packages/pyarrow/pandas_compat.py:752: FutureWarning: .labels was deprecated in version 0.24.0. Use .codes instead.\n",
      "\n",
      "Running for copd_only, 10, 5\n",
      "Saving results in /opt/data/projects/asthma-copd/results/imputed_gwas\n",
      "/opt/data/software/conda_envs/summary_gwas_imputation/lib/python3.7/site-packages/pyarrow/pandas_compat.py:752: FutureWarning: .labels was deprecated in version 0.24.0. Use .codes instead.\n",
      "\n",
      "Running for copd_only, 10, 6\n",
      "Saving results in /opt/data/projects/asthma-copd/results/imputed_gwas\n",
      "/opt/data/software/conda_envs/summary_gwas_imputation/lib/python3.7/site-packages/pyarrow/pandas_compat.py:752: FutureWarning: .labels was deprecated in version 0.24.0. Use .codes instead.\n",
      "\n",
      "Running for copd_only, 10, 7\n",
      "Saving results in /opt/data/projects/asthma-copd/results/imputed_gwas\n",
      "/opt/data/software/conda_envs/summary_gwas_imputation/lib/python3.7/site-packages/pyarrow/pandas_compat.py:752: FutureWarning: .labels was deprecated in version 0.24.0. Use .codes instead.\n",
      "\n",
      "Running for copd_only, 10, 8\n",
      "Saving results in /opt/data/projects/asthma-copd/results/imputed_gwas\n",
      "/opt/data/software/conda_envs/summary_gwas_imputation/lib/python3.7/site-packages/pyarrow/pandas_compat.py:752: FutureWarning: .labels was deprecated in version 0.24.0. Use .codes instead.\n",
      "\n",
      "Running for copd_only, 10, 9\n",
      "Saving results in /opt/data/projects/asthma-copd/results/imputed_gwas\n",
      "/opt/data/software/conda_envs/summary_gwas_imputation/lib/python3.7/site-packages/pyarrow/pandas_compat.py:752: FutureWarning: .labels was deprecated in version 0.24.0. Use .codes instead.\n",
      "INFO - Error for region (10,127356098.0,129046020.0): LinAlgError('SVD did not converge')\n",
      "\n",
      "Running for copd_only, 11, 0\n",
      "Saving results in /opt/data/projects/asthma-copd/results/imputed_gwas\n",
      "/opt/data/software/conda_envs/summary_gwas_imputation/lib/python3.7/site-packages/pyarrow/pandas_compat.py:752: FutureWarning: .labels was deprecated in version 0.24.0. Use .codes instead.\n",
      "\n",
      "Running for copd_only, 11, 1\n",
      "Saving results in /opt/data/projects/asthma-copd/results/imputed_gwas\n",
      "/opt/data/software/conda_envs/summary_gwas_imputation/lib/python3.7/site-packages/pyarrow/pandas_compat.py:752: FutureWarning: .labels was deprecated in version 0.24.0. Use .codes instead.\n",
      "\n",
      "Running for copd_only, 11, 2\n",
      "Saving results in /opt/data/projects/asthma-copd/results/imputed_gwas\n"
     ]
    },
    {
     "name": "stderr",
     "output_type": "stream",
     "text": [
      "+ /opt/data/software/conda_envs/summary_gwas_imputation/bin/python /opt/data/software/summary-gwas-imputation/src/gwas_summary_imputation.py -by_region_file /opt/data/data/eur_ld.bed.gz -gwas_file /opt/data/projects/asthma-copd/results/harmonized_gwas/GWAS_COPD_only_GLM_SNPs_info0.7-harmonized.txt -parquet_genotype /opt/data/data/phenomexcan/ld_blocks/reference_panel_1000G/chr10.variants.parquet -parquet_genotype_metadata /opt/data/data/phenomexcan/ld_blocks/reference_panel_1000G/variant_metadata.parquet -window 100000 -parsimony 7 -chromosome 10 -regularization 0.1 -frequency_filter 0.01 -sub_batches 10 -sub_batch 8 --standardise_dosages -output /opt/data/projects/asthma-copd/results/imputed_gwas/GWAS_COPD_only_GLM_SNPs_info0.7-harmonized-imputed-chr10-batch8_10.txt\n",
      "+ set +x\n",
      "+ /opt/data/software/conda_envs/summary_gwas_imputation/bin/python /opt/data/software/summary-gwas-imputation/src/gwas_summary_imputation.py -by_region_file /opt/data/data/eur_ld.bed.gz -gwas_file /opt/data/projects/asthma-copd/results/harmonized_gwas/GWAS_COPD_only_GLM_SNPs_info0.7-harmonized.txt -parquet_genotype /opt/data/data/phenomexcan/ld_blocks/reference_panel_1000G/chr10.variants.parquet -parquet_genotype_metadata /opt/data/data/phenomexcan/ld_blocks/reference_panel_1000G/variant_metadata.parquet -window 100000 -parsimony 7 -chromosome 10 -regularization 0.1 -frequency_filter 0.01 -sub_batches 10 -sub_batch 9 --standardise_dosages -output /opt/data/projects/asthma-copd/results/imputed_gwas/GWAS_COPD_only_GLM_SNPs_info0.7-harmonized-imputed-chr10-batch9_10.txt\n",
      "+ set +x\n",
      "+ /opt/data/software/conda_envs/summary_gwas_imputation/bin/python /opt/data/software/summary-gwas-imputation/src/gwas_summary_imputation.py -by_region_file /opt/data/data/eur_ld.bed.gz -gwas_file /opt/data/projects/asthma-copd/results/harmonized_gwas/GWAS_COPD_only_GLM_SNPs_info0.7-harmonized.txt -parquet_genotype /opt/data/data/phenomexcan/ld_blocks/reference_panel_1000G/chr11.variants.parquet -parquet_genotype_metadata /opt/data/data/phenomexcan/ld_blocks/reference_panel_1000G/variant_metadata.parquet -window 100000 -parsimony 7 -chromosome 11 -regularization 0.1 -frequency_filter 0.01 -sub_batches 10 -sub_batch 0 --standardise_dosages -output /opt/data/projects/asthma-copd/results/imputed_gwas/GWAS_COPD_only_GLM_SNPs_info0.7-harmonized-imputed-chr11-batch0_10.txt\n",
      "+ set +x\n",
      "+ /opt/data/software/conda_envs/summary_gwas_imputation/bin/python /opt/data/software/summary-gwas-imputation/src/gwas_summary_imputation.py -by_region_file /opt/data/data/eur_ld.bed.gz -gwas_file /opt/data/projects/asthma-copd/results/harmonized_gwas/GWAS_COPD_only_GLM_SNPs_info0.7-harmonized.txt -parquet_genotype /opt/data/data/phenomexcan/ld_blocks/reference_panel_1000G/chr11.variants.parquet -parquet_genotype_metadata /opt/data/data/phenomexcan/ld_blocks/reference_panel_1000G/variant_metadata.parquet -window 100000 -parsimony 7 -chromosome 11 -regularization 0.1 -frequency_filter 0.01 -sub_batches 10 -sub_batch 1 --standardise_dosages -output /opt/data/projects/asthma-copd/results/imputed_gwas/GWAS_COPD_only_GLM_SNPs_info0.7-harmonized-imputed-chr11-batch1_10.txt\n",
      "+ set +x\n",
      "+ /opt/data/software/conda_envs/summary_gwas_imputation/bin/python /opt/data/software/summary-gwas-imputation/src/gwas_summary_imputation.py -by_region_file /opt/data/data/eur_ld.bed.gz -gwas_file /opt/data/projects/asthma-copd/results/harmonized_gwas/GWAS_COPD_only_GLM_SNPs_info0.7-harmonized.txt -parquet_genotype /opt/data/data/phenomexcan/ld_blocks/reference_panel_1000G/chr11.variants.parquet -parquet_genotype_metadata /opt/data/data/phenomexcan/ld_blocks/reference_panel_1000G/variant_metadata.parquet -window 100000 -parsimony 7 -chromosome 11 -regularization 0.1 -frequency_filter 0.01 -sub_batches 10 -sub_batch 2 --standardise_dosages -output /opt/data/projects/asthma-copd/results/imputed_gwas/GWAS_COPD_only_GLM_SNPs_info0.7-harmonized-imputed-chr11-batch2_10.txt\n"
     ]
    },
    {
     "name": "stdout",
     "output_type": "stream",
     "text": [
      "/opt/data/software/conda_envs/summary_gwas_imputation/lib/python3.7/site-packages/pyarrow/pandas_compat.py:752: FutureWarning: .labels was deprecated in version 0.24.0. Use .codes instead.\n",
      "\n"
     ]
    },
    {
     "name": "stderr",
     "output_type": "stream",
     "text": [
      "+ set +x\n"
     ]
    },
    {
     "name": "stdout",
     "output_type": "stream",
     "text": [
      "Running for copd_only, 11, 3\n",
      "Saving results in /opt/data/projects/asthma-copd/results/imputed_gwas\n"
     ]
    },
    {
     "name": "stderr",
     "output_type": "stream",
     "text": [
      "+ /opt/data/software/conda_envs/summary_gwas_imputation/bin/python /opt/data/software/summary-gwas-imputation/src/gwas_summary_imputation.py -by_region_file /opt/data/data/eur_ld.bed.gz -gwas_file /opt/data/projects/asthma-copd/results/harmonized_gwas/GWAS_COPD_only_GLM_SNPs_info0.7-harmonized.txt -parquet_genotype /opt/data/data/phenomexcan/ld_blocks/reference_panel_1000G/chr11.variants.parquet -parquet_genotype_metadata /opt/data/data/phenomexcan/ld_blocks/reference_panel_1000G/variant_metadata.parquet -window 100000 -parsimony 7 -chromosome 11 -regularization 0.1 -frequency_filter 0.01 -sub_batches 10 -sub_batch 3 --standardise_dosages -output /opt/data/projects/asthma-copd/results/imputed_gwas/GWAS_COPD_only_GLM_SNPs_info0.7-harmonized-imputed-chr11-batch3_10.txt\n"
     ]
    },
    {
     "name": "stdout",
     "output_type": "stream",
     "text": [
      "/opt/data/software/conda_envs/summary_gwas_imputation/lib/python3.7/site-packages/pyarrow/pandas_compat.py:752: FutureWarning: .labels was deprecated in version 0.24.0. Use .codes instead.\n",
      "\n"
     ]
    },
    {
     "name": "stderr",
     "output_type": "stream",
     "text": [
      "+ set +x\n"
     ]
    },
    {
     "name": "stdout",
     "output_type": "stream",
     "text": [
      "Running for copd_only, 11, 4\n",
      "Saving results in /opt/data/projects/asthma-copd/results/imputed_gwas\n",
      "/opt/data/software/conda_envs/summary_gwas_imputation/lib/python3.7/site-packages/pyarrow/pandas_compat.py:752: FutureWarning: .labels was deprecated in version 0.24.0. Use .codes instead.\n",
      "\n"
     ]
    },
    {
     "name": "stderr",
     "output_type": "stream",
     "text": [
      "+ /opt/data/software/conda_envs/summary_gwas_imputation/bin/python /opt/data/software/summary-gwas-imputation/src/gwas_summary_imputation.py -by_region_file /opt/data/data/eur_ld.bed.gz -gwas_file /opt/data/projects/asthma-copd/results/harmonized_gwas/GWAS_COPD_only_GLM_SNPs_info0.7-harmonized.txt -parquet_genotype /opt/data/data/phenomexcan/ld_blocks/reference_panel_1000G/chr11.variants.parquet -parquet_genotype_metadata /opt/data/data/phenomexcan/ld_blocks/reference_panel_1000G/variant_metadata.parquet -window 100000 -parsimony 7 -chromosome 11 -regularization 0.1 -frequency_filter 0.01 -sub_batches 10 -sub_batch 4 --standardise_dosages -output /opt/data/projects/asthma-copd/results/imputed_gwas/GWAS_COPD_only_GLM_SNPs_info0.7-harmonized-imputed-chr11-batch4_10.txt\n",
      "+ set +x\n",
      "+ /opt/data/software/conda_envs/summary_gwas_imputation/bin/python /opt/data/software/summary-gwas-imputation/src/gwas_summary_imputation.py -by_region_file /opt/data/data/eur_ld.bed.gz -gwas_file /opt/data/projects/asthma-copd/results/harmonized_gwas/GWAS_COPD_only_GLM_SNPs_info0.7-harmonized.txt -parquet_genotype /opt/data/data/phenomexcan/ld_blocks/reference_panel_1000G/chr11.variants.parquet -parquet_genotype_metadata /opt/data/data/phenomexcan/ld_blocks/reference_panel_1000G/variant_metadata.parquet -window 100000 -parsimony 7 -chromosome 11 -regularization 0.1 -frequency_filter 0.01 -sub_batches 10 -sub_batch 5 --standardise_dosages -output /opt/data/projects/asthma-copd/results/imputed_gwas/GWAS_COPD_only_GLM_SNPs_info0.7-harmonized-imputed-chr11-batch5_10.txt\n",
      "+ set +x\n",
      "+ /opt/data/software/conda_envs/summary_gwas_imputation/bin/python /opt/data/software/summary-gwas-imputation/src/gwas_summary_imputation.py -by_region_file /opt/data/data/eur_ld.bed.gz -gwas_file /opt/data/projects/asthma-copd/results/harmonized_gwas/GWAS_COPD_only_GLM_SNPs_info0.7-harmonized.txt -parquet_genotype /opt/data/data/phenomexcan/ld_blocks/reference_panel_1000G/chr11.variants.parquet -parquet_genotype_metadata /opt/data/data/phenomexcan/ld_blocks/reference_panel_1000G/variant_metadata.parquet -window 100000 -parsimony 7 -chromosome 11 -regularization 0.1 -frequency_filter 0.01 -sub_batches 10 -sub_batch 6 --standardise_dosages -output /opt/data/projects/asthma-copd/results/imputed_gwas/GWAS_COPD_only_GLM_SNPs_info0.7-harmonized-imputed-chr11-batch6_10.txt\n",
      "+ set +x\n",
      "+ /opt/data/software/conda_envs/summary_gwas_imputation/bin/python /opt/data/software/summary-gwas-imputation/src/gwas_summary_imputation.py -by_region_file /opt/data/data/eur_ld.bed.gz -gwas_file /opt/data/projects/asthma-copd/results/harmonized_gwas/GWAS_COPD_only_GLM_SNPs_info0.7-harmonized.txt -parquet_genotype /opt/data/data/phenomexcan/ld_blocks/reference_panel_1000G/chr11.variants.parquet -parquet_genotype_metadata /opt/data/data/phenomexcan/ld_blocks/reference_panel_1000G/variant_metadata.parquet -window 100000 -parsimony 7 -chromosome 11 -regularization 0.1 -frequency_filter 0.01 -sub_batches 10 -sub_batch 7 --standardise_dosages -output /opt/data/projects/asthma-copd/results/imputed_gwas/GWAS_COPD_only_GLM_SNPs_info0.7-harmonized-imputed-chr11-batch7_10.txt\n",
      "+ set +x\n"
     ]
    },
    {
     "name": "stdout",
     "output_type": "stream",
     "text": [
      "Running for copd_only, 11, 5\n",
      "Saving results in /opt/data/projects/asthma-copd/results/imputed_gwas\n",
      "/opt/data/software/conda_envs/summary_gwas_imputation/lib/python3.7/site-packages/pyarrow/pandas_compat.py:752: FutureWarning: .labels was deprecated in version 0.24.0. Use .codes instead.\n",
      "\n",
      "Running for copd_only, 11, 6\n",
      "Saving results in /opt/data/projects/asthma-copd/results/imputed_gwas\n",
      "/opt/data/software/conda_envs/summary_gwas_imputation/lib/python3.7/site-packages/pyarrow/pandas_compat.py:752: FutureWarning: .labels was deprecated in version 0.24.0. Use .codes instead.\n",
      "\n",
      "Running for copd_only, 11, 7\n",
      "Saving results in /opt/data/projects/asthma-copd/results/imputed_gwas\n",
      "/opt/data/software/conda_envs/summary_gwas_imputation/lib/python3.7/site-packages/pyarrow/pandas_compat.py:752: FutureWarning: .labels was deprecated in version 0.24.0. Use .codes instead.\n",
      "\n",
      "Running for copd_only, 11, 8\n",
      "Saving results in /opt/data/projects/asthma-copd/results/imputed_gwas\n",
      "/opt/data/software/conda_envs/summary_gwas_imputation/lib/python3.7/site-packages/pyarrow/pandas_compat.py:752: FutureWarning: .labels was deprecated in version 0.24.0. Use .codes instead.\n",
      "\n"
     ]
    },
    {
     "name": "stderr",
     "output_type": "stream",
     "text": [
      "+ /opt/data/software/conda_envs/summary_gwas_imputation/bin/python /opt/data/software/summary-gwas-imputation/src/gwas_summary_imputation.py -by_region_file /opt/data/data/eur_ld.bed.gz -gwas_file /opt/data/projects/asthma-copd/results/harmonized_gwas/GWAS_COPD_only_GLM_SNPs_info0.7-harmonized.txt -parquet_genotype /opt/data/data/phenomexcan/ld_blocks/reference_panel_1000G/chr11.variants.parquet -parquet_genotype_metadata /opt/data/data/phenomexcan/ld_blocks/reference_panel_1000G/variant_metadata.parquet -window 100000 -parsimony 7 -chromosome 11 -regularization 0.1 -frequency_filter 0.01 -sub_batches 10 -sub_batch 8 --standardise_dosages -output /opt/data/projects/asthma-copd/results/imputed_gwas/GWAS_COPD_only_GLM_SNPs_info0.7-harmonized-imputed-chr11-batch8_10.txt\n",
      "+ set +x\n",
      "+ /opt/data/software/conda_envs/summary_gwas_imputation/bin/python /opt/data/software/summary-gwas-imputation/src/gwas_summary_imputation.py -by_region_file /opt/data/data/eur_ld.bed.gz -gwas_file /opt/data/projects/asthma-copd/results/harmonized_gwas/GWAS_COPD_only_GLM_SNPs_info0.7-harmonized.txt -parquet_genotype /opt/data/data/phenomexcan/ld_blocks/reference_panel_1000G/chr11.variants.parquet -parquet_genotype_metadata /opt/data/data/phenomexcan/ld_blocks/reference_panel_1000G/variant_metadata.parquet -window 100000 -parsimony 7 -chromosome 11 -regularization 0.1 -frequency_filter 0.01 -sub_batches 10 -sub_batch 9 --standardise_dosages -output /opt/data/projects/asthma-copd/results/imputed_gwas/GWAS_COPD_only_GLM_SNPs_info0.7-harmonized-imputed-chr11-batch9_10.txt\n",
      "+ set +x\n",
      "+ /opt/data/software/conda_envs/summary_gwas_imputation/bin/python /opt/data/software/summary-gwas-imputation/src/gwas_summary_imputation.py -by_region_file /opt/data/data/eur_ld.bed.gz -gwas_file /opt/data/projects/asthma-copd/results/harmonized_gwas/GWAS_COPD_only_GLM_SNPs_info0.7-harmonized.txt -parquet_genotype /opt/data/data/phenomexcan/ld_blocks/reference_panel_1000G/chr12.variants.parquet -parquet_genotype_metadata /opt/data/data/phenomexcan/ld_blocks/reference_panel_1000G/variant_metadata.parquet -window 100000 -parsimony 7 -chromosome 12 -regularization 0.1 -frequency_filter 0.01 -sub_batches 10 -sub_batch 0 --standardise_dosages -output /opt/data/projects/asthma-copd/results/imputed_gwas/GWAS_COPD_only_GLM_SNPs_info0.7-harmonized-imputed-chr12-batch0_10.txt\n",
      "+ set +x\n",
      "+ /opt/data/software/conda_envs/summary_gwas_imputation/bin/python /opt/data/software/summary-gwas-imputation/src/gwas_summary_imputation.py -by_region_file /opt/data/data/eur_ld.bed.gz -gwas_file /opt/data/projects/asthma-copd/results/harmonized_gwas/GWAS_COPD_only_GLM_SNPs_info0.7-harmonized.txt -parquet_genotype /opt/data/data/phenomexcan/ld_blocks/reference_panel_1000G/chr12.variants.parquet -parquet_genotype_metadata /opt/data/data/phenomexcan/ld_blocks/reference_panel_1000G/variant_metadata.parquet -window 100000 -parsimony 7 -chromosome 12 -regularization 0.1 -frequency_filter 0.01 -sub_batches 10 -sub_batch 1 --standardise_dosages -output /opt/data/projects/asthma-copd/results/imputed_gwas/GWAS_COPD_only_GLM_SNPs_info0.7-harmonized-imputed-chr12-batch1_10.txt\n"
     ]
    },
    {
     "name": "stdout",
     "output_type": "stream",
     "text": [
      "Running for copd_only, 11, 9\n",
      "Saving results in /opt/data/projects/asthma-copd/results/imputed_gwas\n",
      "/opt/data/software/conda_envs/summary_gwas_imputation/lib/python3.7/site-packages/pyarrow/pandas_compat.py:752: FutureWarning: .labels was deprecated in version 0.24.0. Use .codes instead.\n",
      "\n",
      "Running for copd_only, 12, 0\n",
      "Saving results in /opt/data/projects/asthma-copd/results/imputed_gwas\n",
      "/opt/data/software/conda_envs/summary_gwas_imputation/lib/python3.7/site-packages/pyarrow/pandas_compat.py:752: FutureWarning: .labels was deprecated in version 0.24.0. Use .codes instead.\n",
      "\n",
      "Running for copd_only, 12, 1\n",
      "Saving results in /opt/data/projects/asthma-copd/results/imputed_gwas\n",
      "/opt/data/software/conda_envs/summary_gwas_imputation/lib/python3.7/site-packages/pyarrow/pandas_compat.py:752: FutureWarning: .labels was deprecated in version 0.24.0. Use .codes instead.\n",
      "\n"
     ]
    },
    {
     "name": "stderr",
     "output_type": "stream",
     "text": [
      "+ set +x\n"
     ]
    },
    {
     "name": "stdout",
     "output_type": "stream",
     "text": [
      "Running for copd_only, 12, 2\n",
      "Saving results in /opt/data/projects/asthma-copd/results/imputed_gwas\n",
      "/opt/data/software/conda_envs/summary_gwas_imputation/lib/python3.7/site-packages/pyarrow/pandas_compat.py:752: FutureWarning: .labels was deprecated in version 0.24.0. Use .codes instead.\n",
      "\n"
     ]
    },
    {
     "name": "stderr",
     "output_type": "stream",
     "text": [
      "+ /opt/data/software/conda_envs/summary_gwas_imputation/bin/python /opt/data/software/summary-gwas-imputation/src/gwas_summary_imputation.py -by_region_file /opt/data/data/eur_ld.bed.gz -gwas_file /opt/data/projects/asthma-copd/results/harmonized_gwas/GWAS_COPD_only_GLM_SNPs_info0.7-harmonized.txt -parquet_genotype /opt/data/data/phenomexcan/ld_blocks/reference_panel_1000G/chr12.variants.parquet -parquet_genotype_metadata /opt/data/data/phenomexcan/ld_blocks/reference_panel_1000G/variant_metadata.parquet -window 100000 -parsimony 7 -chromosome 12 -regularization 0.1 -frequency_filter 0.01 -sub_batches 10 -sub_batch 2 --standardise_dosages -output /opt/data/projects/asthma-copd/results/imputed_gwas/GWAS_COPD_only_GLM_SNPs_info0.7-harmonized-imputed-chr12-batch2_10.txt\n",
      "+ set +x\n"
     ]
    },
    {
     "name": "stdout",
     "output_type": "stream",
     "text": [
      "Running for copd_only, 12, 3\n",
      "Saving results in /opt/data/projects/asthma-copd/results/imputed_gwas\n",
      "/opt/data/software/conda_envs/summary_gwas_imputation/lib/python3.7/site-packages/pyarrow/pandas_compat.py:752: FutureWarning: .labels was deprecated in version 0.24.0. Use .codes instead.\n",
      "\n",
      "Running for copd_only, 12, 4\n",
      "Saving results in /opt/data/projects/asthma-copd/results/imputed_gwas\n",
      "/opt/data/software/conda_envs/summary_gwas_imputation/lib/python3.7/site-packages/pyarrow/pandas_compat.py:752: FutureWarning: .labels was deprecated in version 0.24.0. Use .codes instead.\n",
      "\n",
      "Running for copd_only, 12, 5\n",
      "Saving results in /opt/data/projects/asthma-copd/results/imputed_gwas\n",
      "/opt/data/software/conda_envs/summary_gwas_imputation/lib/python3.7/site-packages/pyarrow/pandas_compat.py:752: FutureWarning: .labels was deprecated in version 0.24.0. Use .codes instead.\n",
      "\n"
     ]
    },
    {
     "name": "stderr",
     "output_type": "stream",
     "text": [
      "+ /opt/data/software/conda_envs/summary_gwas_imputation/bin/python /opt/data/software/summary-gwas-imputation/src/gwas_summary_imputation.py -by_region_file /opt/data/data/eur_ld.bed.gz -gwas_file /opt/data/projects/asthma-copd/results/harmonized_gwas/GWAS_COPD_only_GLM_SNPs_info0.7-harmonized.txt -parquet_genotype /opt/data/data/phenomexcan/ld_blocks/reference_panel_1000G/chr12.variants.parquet -parquet_genotype_metadata /opt/data/data/phenomexcan/ld_blocks/reference_panel_1000G/variant_metadata.parquet -window 100000 -parsimony 7 -chromosome 12 -regularization 0.1 -frequency_filter 0.01 -sub_batches 10 -sub_batch 3 --standardise_dosages -output /opt/data/projects/asthma-copd/results/imputed_gwas/GWAS_COPD_only_GLM_SNPs_info0.7-harmonized-imputed-chr12-batch3_10.txt\n",
      "+ set +x\n",
      "+ /opt/data/software/conda_envs/summary_gwas_imputation/bin/python /opt/data/software/summary-gwas-imputation/src/gwas_summary_imputation.py -by_region_file /opt/data/data/eur_ld.bed.gz -gwas_file /opt/data/projects/asthma-copd/results/harmonized_gwas/GWAS_COPD_only_GLM_SNPs_info0.7-harmonized.txt -parquet_genotype /opt/data/data/phenomexcan/ld_blocks/reference_panel_1000G/chr12.variants.parquet -parquet_genotype_metadata /opt/data/data/phenomexcan/ld_blocks/reference_panel_1000G/variant_metadata.parquet -window 100000 -parsimony 7 -chromosome 12 -regularization 0.1 -frequency_filter 0.01 -sub_batches 10 -sub_batch 4 --standardise_dosages -output /opt/data/projects/asthma-copd/results/imputed_gwas/GWAS_COPD_only_GLM_SNPs_info0.7-harmonized-imputed-chr12-batch4_10.txt\n",
      "+ set +x\n",
      "+ /opt/data/software/conda_envs/summary_gwas_imputation/bin/python /opt/data/software/summary-gwas-imputation/src/gwas_summary_imputation.py -by_region_file /opt/data/data/eur_ld.bed.gz -gwas_file /opt/data/projects/asthma-copd/results/harmonized_gwas/GWAS_COPD_only_GLM_SNPs_info0.7-harmonized.txt -parquet_genotype /opt/data/data/phenomexcan/ld_blocks/reference_panel_1000G/chr12.variants.parquet -parquet_genotype_metadata /opt/data/data/phenomexcan/ld_blocks/reference_panel_1000G/variant_metadata.parquet -window 100000 -parsimony 7 -chromosome 12 -regularization 0.1 -frequency_filter 0.01 -sub_batches 10 -sub_batch 5 --standardise_dosages -output /opt/data/projects/asthma-copd/results/imputed_gwas/GWAS_COPD_only_GLM_SNPs_info0.7-harmonized-imputed-chr12-batch5_10.txt\n",
      "+ set +x\n"
     ]
    },
    {
     "name": "stdout",
     "output_type": "stream",
     "text": [
      "Running for copd_only, 12, 6\n",
      "Saving results in /opt/data/projects/asthma-copd/results/imputed_gwas\n",
      "/opt/data/software/conda_envs/summary_gwas_imputation/lib/python3.7/site-packages/pyarrow/pandas_compat.py:752: FutureWarning: .labels was deprecated in version 0.24.0. Use .codes instead.\n",
      "\n",
      "Running for copd_only, 12, 7\n",
      "Saving results in /opt/data/projects/asthma-copd/results/imputed_gwas\n",
      "/opt/data/software/conda_envs/summary_gwas_imputation/lib/python3.7/site-packages/pyarrow/pandas_compat.py:752: FutureWarning: .labels was deprecated in version 0.24.0. Use .codes instead.\n",
      "\n",
      "Running for copd_only, 12, 8\n",
      "Saving results in /opt/data/projects/asthma-copd/results/imputed_gwas\n",
      "/opt/data/software/conda_envs/summary_gwas_imputation/lib/python3.7/site-packages/pyarrow/pandas_compat.py:752: FutureWarning: .labels was deprecated in version 0.24.0. Use .codes instead.\n",
      "\n",
      "Running for copd_only, 12, 9\n",
      "Saving results in /opt/data/projects/asthma-copd/results/imputed_gwas\n",
      "/opt/data/software/conda_envs/summary_gwas_imputation/lib/python3.7/site-packages/pyarrow/pandas_compat.py:752: FutureWarning: .labels was deprecated in version 0.24.0. Use .codes instead.\n",
      "\n",
      "Running for copd_only, 13, 0\n",
      "Saving results in /opt/data/projects/asthma-copd/results/imputed_gwas\n",
      "/opt/data/software/conda_envs/summary_gwas_imputation/lib/python3.7/site-packages/pyarrow/pandas_compat.py:752: FutureWarning: .labels was deprecated in version 0.24.0. Use .codes instead.\n",
      "\n",
      "Running for copd_only, 13, 1\n",
      "Saving results in /opt/data/projects/asthma-copd/results/imputed_gwas\n",
      "/opt/data/software/conda_envs/summary_gwas_imputation/lib/python3.7/site-packages/pyarrow/pandas_compat.py:752: FutureWarning: .labels was deprecated in version 0.24.0. Use .codes instead.\n",
      "\n",
      "Running for copd_only, 13, 2\n",
      "Saving results in /opt/data/projects/asthma-copd/results/imputed_gwas\n",
      "/opt/data/software/conda_envs/summary_gwas_imputation/lib/python3.7/site-packages/pyarrow/pandas_compat.py:752: FutureWarning: .labels was deprecated in version 0.24.0. Use .codes instead.\n",
      "\n",
      "Running for copd_only, 13, 3\n",
      "Saving results in /opt/data/projects/asthma-copd/results/imputed_gwas\n",
      "/opt/data/software/conda_envs/summary_gwas_imputation/lib/python3.7/site-packages/pyarrow/pandas_compat.py:752: FutureWarning: .labels was deprecated in version 0.24.0. Use .codes instead.\n",
      "\n",
      "Running for copd_only, 13, 4\n",
      "Saving results in /opt/data/projects/asthma-copd/results/imputed_gwas\n",
      "/opt/data/software/conda_envs/summary_gwas_imputation/lib/python3.7/site-packages/pyarrow/pandas_compat.py:752: FutureWarning: .labels was deprecated in version 0.24.0. Use .codes instead.\n",
      "\n",
      "Running for copd_only, 13, 5\n",
      "Saving results in /opt/data/projects/asthma-copd/results/imputed_gwas\n",
      "/opt/data/software/conda_envs/summary_gwas_imputation/lib/python3.7/site-packages/pyarrow/pandas_compat.py:752: FutureWarning: .labels was deprecated in version 0.24.0. Use .codes instead.\n",
      "\n",
      "Running for copd_only, 13, 6\n",
      "Saving results in /opt/data/projects/asthma-copd/results/imputed_gwas\n",
      "/opt/data/software/conda_envs/summary_gwas_imputation/lib/python3.7/site-packages/pyarrow/pandas_compat.py:752: FutureWarning: .labels was deprecated in version 0.24.0. Use .codes instead.\n",
      "\n",
      "Running for copd_only, 13, 7\n",
      "Saving results in /opt/data/projects/asthma-copd/results/imputed_gwas\n",
      "/opt/data/software/conda_envs/summary_gwas_imputation/lib/python3.7/site-packages/pyarrow/pandas_compat.py:752: FutureWarning: .labels was deprecated in version 0.24.0. Use .codes instead.\n",
      "\n",
      "Running for copd_only, 13, 8\n",
      "Saving results in /opt/data/projects/asthma-copd/results/imputed_gwas\n",
      "/opt/data/software/conda_envs/summary_gwas_imputation/lib/python3.7/site-packages/pyarrow/pandas_compat.py:752: FutureWarning: .labels was deprecated in version 0.24.0. Use .codes instead.\n",
      "\n",
      "Running for copd_only, 13, 9\n",
      "Saving results in /opt/data/projects/asthma-copd/results/imputed_gwas\n",
      "/opt/data/software/conda_envs/summary_gwas_imputation/lib/python3.7/site-packages/pyarrow/pandas_compat.py:752: FutureWarning: .labels was deprecated in version 0.24.0. Use .codes instead.\n",
      "\n"
     ]
    },
    {
     "name": "stderr",
     "output_type": "stream",
     "text": [
      "+ /opt/data/software/conda_envs/summary_gwas_imputation/bin/python /opt/data/software/summary-gwas-imputation/src/gwas_summary_imputation.py -by_region_file /opt/data/data/eur_ld.bed.gz -gwas_file /opt/data/projects/asthma-copd/results/harmonized_gwas/GWAS_COPD_only_GLM_SNPs_info0.7-harmonized.txt -parquet_genotype /opt/data/data/phenomexcan/ld_blocks/reference_panel_1000G/chr12.variants.parquet -parquet_genotype_metadata /opt/data/data/phenomexcan/ld_blocks/reference_panel_1000G/variant_metadata.parquet -window 100000 -parsimony 7 -chromosome 12 -regularization 0.1 -frequency_filter 0.01 -sub_batches 10 -sub_batch 6 --standardise_dosages -output /opt/data/projects/asthma-copd/results/imputed_gwas/GWAS_COPD_only_GLM_SNPs_info0.7-harmonized-imputed-chr12-batch6_10.txt\n",
      "+ set +x\n",
      "+ /opt/data/software/conda_envs/summary_gwas_imputation/bin/python /opt/data/software/summary-gwas-imputation/src/gwas_summary_imputation.py -by_region_file /opt/data/data/eur_ld.bed.gz -gwas_file /opt/data/projects/asthma-copd/results/harmonized_gwas/GWAS_COPD_only_GLM_SNPs_info0.7-harmonized.txt -parquet_genotype /opt/data/data/phenomexcan/ld_blocks/reference_panel_1000G/chr12.variants.parquet -parquet_genotype_metadata /opt/data/data/phenomexcan/ld_blocks/reference_panel_1000G/variant_metadata.parquet -window 100000 -parsimony 7 -chromosome 12 -regularization 0.1 -frequency_filter 0.01 -sub_batches 10 -sub_batch 7 --standardise_dosages -output /opt/data/projects/asthma-copd/results/imputed_gwas/GWAS_COPD_only_GLM_SNPs_info0.7-harmonized-imputed-chr12-batch7_10.txt\n",
      "+ set +x\n",
      "+ /opt/data/software/conda_envs/summary_gwas_imputation/bin/python /opt/data/software/summary-gwas-imputation/src/gwas_summary_imputation.py -by_region_file /opt/data/data/eur_ld.bed.gz -gwas_file /opt/data/projects/asthma-copd/results/harmonized_gwas/GWAS_COPD_only_GLM_SNPs_info0.7-harmonized.txt -parquet_genotype /opt/data/data/phenomexcan/ld_blocks/reference_panel_1000G/chr12.variants.parquet -parquet_genotype_metadata /opt/data/data/phenomexcan/ld_blocks/reference_panel_1000G/variant_metadata.parquet -window 100000 -parsimony 7 -chromosome 12 -regularization 0.1 -frequency_filter 0.01 -sub_batches 10 -sub_batch 8 --standardise_dosages -output /opt/data/projects/asthma-copd/results/imputed_gwas/GWAS_COPD_only_GLM_SNPs_info0.7-harmonized-imputed-chr12-batch8_10.txt\n",
      "+ set +x\n",
      "+ /opt/data/software/conda_envs/summary_gwas_imputation/bin/python /opt/data/software/summary-gwas-imputation/src/gwas_summary_imputation.py -by_region_file /opt/data/data/eur_ld.bed.gz -gwas_file /opt/data/projects/asthma-copd/results/harmonized_gwas/GWAS_COPD_only_GLM_SNPs_info0.7-harmonized.txt -parquet_genotype /opt/data/data/phenomexcan/ld_blocks/reference_panel_1000G/chr12.variants.parquet -parquet_genotype_metadata /opt/data/data/phenomexcan/ld_blocks/reference_panel_1000G/variant_metadata.parquet -window 100000 -parsimony 7 -chromosome 12 -regularization 0.1 -frequency_filter 0.01 -sub_batches 10 -sub_batch 9 --standardise_dosages -output /opt/data/projects/asthma-copd/results/imputed_gwas/GWAS_COPD_only_GLM_SNPs_info0.7-harmonized-imputed-chr12-batch9_10.txt\n",
      "+ set +x\n",
      "+ /opt/data/software/conda_envs/summary_gwas_imputation/bin/python /opt/data/software/summary-gwas-imputation/src/gwas_summary_imputation.py -by_region_file /opt/data/data/eur_ld.bed.gz -gwas_file /opt/data/projects/asthma-copd/results/harmonized_gwas/GWAS_COPD_only_GLM_SNPs_info0.7-harmonized.txt -parquet_genotype /opt/data/data/phenomexcan/ld_blocks/reference_panel_1000G/chr13.variants.parquet -parquet_genotype_metadata /opt/data/data/phenomexcan/ld_blocks/reference_panel_1000G/variant_metadata.parquet -window 100000 -parsimony 7 -chromosome 13 -regularization 0.1 -frequency_filter 0.01 -sub_batches 10 -sub_batch 0 --standardise_dosages -output /opt/data/projects/asthma-copd/results/imputed_gwas/GWAS_COPD_only_GLM_SNPs_info0.7-harmonized-imputed-chr13-batch0_10.txt\n",
      "+ set +x\n",
      "+ /opt/data/software/conda_envs/summary_gwas_imputation/bin/python /opt/data/software/summary-gwas-imputation/src/gwas_summary_imputation.py -by_region_file /opt/data/data/eur_ld.bed.gz -gwas_file /opt/data/projects/asthma-copd/results/harmonized_gwas/GWAS_COPD_only_GLM_SNPs_info0.7-harmonized.txt -parquet_genotype /opt/data/data/phenomexcan/ld_blocks/reference_panel_1000G/chr13.variants.parquet -parquet_genotype_metadata /opt/data/data/phenomexcan/ld_blocks/reference_panel_1000G/variant_metadata.parquet -window 100000 -parsimony 7 -chromosome 13 -regularization 0.1 -frequency_filter 0.01 -sub_batches 10 -sub_batch 1 --standardise_dosages -output /opt/data/projects/asthma-copd/results/imputed_gwas/GWAS_COPD_only_GLM_SNPs_info0.7-harmonized-imputed-chr13-batch1_10.txt\n",
      "+ set +x\n",
      "+ /opt/data/software/conda_envs/summary_gwas_imputation/bin/python /opt/data/software/summary-gwas-imputation/src/gwas_summary_imputation.py -by_region_file /opt/data/data/eur_ld.bed.gz -gwas_file /opt/data/projects/asthma-copd/results/harmonized_gwas/GWAS_COPD_only_GLM_SNPs_info0.7-harmonized.txt -parquet_genotype /opt/data/data/phenomexcan/ld_blocks/reference_panel_1000G/chr13.variants.parquet -parquet_genotype_metadata /opt/data/data/phenomexcan/ld_blocks/reference_panel_1000G/variant_metadata.parquet -window 100000 -parsimony 7 -chromosome 13 -regularization 0.1 -frequency_filter 0.01 -sub_batches 10 -sub_batch 2 --standardise_dosages -output /opt/data/projects/asthma-copd/results/imputed_gwas/GWAS_COPD_only_GLM_SNPs_info0.7-harmonized-imputed-chr13-batch2_10.txt\n",
      "+ set +x\n",
      "+ /opt/data/software/conda_envs/summary_gwas_imputation/bin/python /opt/data/software/summary-gwas-imputation/src/gwas_summary_imputation.py -by_region_file /opt/data/data/eur_ld.bed.gz -gwas_file /opt/data/projects/asthma-copd/results/harmonized_gwas/GWAS_COPD_only_GLM_SNPs_info0.7-harmonized.txt -parquet_genotype /opt/data/data/phenomexcan/ld_blocks/reference_panel_1000G/chr13.variants.parquet -parquet_genotype_metadata /opt/data/data/phenomexcan/ld_blocks/reference_panel_1000G/variant_metadata.parquet -window 100000 -parsimony 7 -chromosome 13 -regularization 0.1 -frequency_filter 0.01 -sub_batches 10 -sub_batch 3 --standardise_dosages -output /opt/data/projects/asthma-copd/results/imputed_gwas/GWAS_COPD_only_GLM_SNPs_info0.7-harmonized-imputed-chr13-batch3_10.txt\n",
      "+ set +x\n",
      "+ /opt/data/software/conda_envs/summary_gwas_imputation/bin/python /opt/data/software/summary-gwas-imputation/src/gwas_summary_imputation.py -by_region_file /opt/data/data/eur_ld.bed.gz -gwas_file /opt/data/projects/asthma-copd/results/harmonized_gwas/GWAS_COPD_only_GLM_SNPs_info0.7-harmonized.txt -parquet_genotype /opt/data/data/phenomexcan/ld_blocks/reference_panel_1000G/chr13.variants.parquet -parquet_genotype_metadata /opt/data/data/phenomexcan/ld_blocks/reference_panel_1000G/variant_metadata.parquet -window 100000 -parsimony 7 -chromosome 13 -regularization 0.1 -frequency_filter 0.01 -sub_batches 10 -sub_batch 4 --standardise_dosages -output /opt/data/projects/asthma-copd/results/imputed_gwas/GWAS_COPD_only_GLM_SNPs_info0.7-harmonized-imputed-chr13-batch4_10.txt\n",
      "+ set +x\n",
      "+ /opt/data/software/conda_envs/summary_gwas_imputation/bin/python /opt/data/software/summary-gwas-imputation/src/gwas_summary_imputation.py -by_region_file /opt/data/data/eur_ld.bed.gz -gwas_file /opt/data/projects/asthma-copd/results/harmonized_gwas/GWAS_COPD_only_GLM_SNPs_info0.7-harmonized.txt -parquet_genotype /opt/data/data/phenomexcan/ld_blocks/reference_panel_1000G/chr13.variants.parquet -parquet_genotype_metadata /opt/data/data/phenomexcan/ld_blocks/reference_panel_1000G/variant_metadata.parquet -window 100000 -parsimony 7 -chromosome 13 -regularization 0.1 -frequency_filter 0.01 -sub_batches 10 -sub_batch 5 --standardise_dosages -output /opt/data/projects/asthma-copd/results/imputed_gwas/GWAS_COPD_only_GLM_SNPs_info0.7-harmonized-imputed-chr13-batch5_10.txt\n",
      "+ set +x\n",
      "+ /opt/data/software/conda_envs/summary_gwas_imputation/bin/python /opt/data/software/summary-gwas-imputation/src/gwas_summary_imputation.py -by_region_file /opt/data/data/eur_ld.bed.gz -gwas_file /opt/data/projects/asthma-copd/results/harmonized_gwas/GWAS_COPD_only_GLM_SNPs_info0.7-harmonized.txt -parquet_genotype /opt/data/data/phenomexcan/ld_blocks/reference_panel_1000G/chr13.variants.parquet -parquet_genotype_metadata /opt/data/data/phenomexcan/ld_blocks/reference_panel_1000G/variant_metadata.parquet -window 100000 -parsimony 7 -chromosome 13 -regularization 0.1 -frequency_filter 0.01 -sub_batches 10 -sub_batch 6 --standardise_dosages -output /opt/data/projects/asthma-copd/results/imputed_gwas/GWAS_COPD_only_GLM_SNPs_info0.7-harmonized-imputed-chr13-batch6_10.txt\n",
      "+ set +x\n",
      "+ /opt/data/software/conda_envs/summary_gwas_imputation/bin/python /opt/data/software/summary-gwas-imputation/src/gwas_summary_imputation.py -by_region_file /opt/data/data/eur_ld.bed.gz -gwas_file /opt/data/projects/asthma-copd/results/harmonized_gwas/GWAS_COPD_only_GLM_SNPs_info0.7-harmonized.txt -parquet_genotype /opt/data/data/phenomexcan/ld_blocks/reference_panel_1000G/chr13.variants.parquet -parquet_genotype_metadata /opt/data/data/phenomexcan/ld_blocks/reference_panel_1000G/variant_metadata.parquet -window 100000 -parsimony 7 -chromosome 13 -regularization 0.1 -frequency_filter 0.01 -sub_batches 10 -sub_batch 7 --standardise_dosages -output /opt/data/projects/asthma-copd/results/imputed_gwas/GWAS_COPD_only_GLM_SNPs_info0.7-harmonized-imputed-chr13-batch7_10.txt\n",
      "+ set +x\n",
      "+ /opt/data/software/conda_envs/summary_gwas_imputation/bin/python /opt/data/software/summary-gwas-imputation/src/gwas_summary_imputation.py -by_region_file /opt/data/data/eur_ld.bed.gz -gwas_file /opt/data/projects/asthma-copd/results/harmonized_gwas/GWAS_COPD_only_GLM_SNPs_info0.7-harmonized.txt -parquet_genotype /opt/data/data/phenomexcan/ld_blocks/reference_panel_1000G/chr13.variants.parquet -parquet_genotype_metadata /opt/data/data/phenomexcan/ld_blocks/reference_panel_1000G/variant_metadata.parquet -window 100000 -parsimony 7 -chromosome 13 -regularization 0.1 -frequency_filter 0.01 -sub_batches 10 -sub_batch 8 --standardise_dosages -output /opt/data/projects/asthma-copd/results/imputed_gwas/GWAS_COPD_only_GLM_SNPs_info0.7-harmonized-imputed-chr13-batch8_10.txt\n",
      "+ set +x\n",
      "+ /opt/data/software/conda_envs/summary_gwas_imputation/bin/python /opt/data/software/summary-gwas-imputation/src/gwas_summary_imputation.py -by_region_file /opt/data/data/eur_ld.bed.gz -gwas_file /opt/data/projects/asthma-copd/results/harmonized_gwas/GWAS_COPD_only_GLM_SNPs_info0.7-harmonized.txt -parquet_genotype /opt/data/data/phenomexcan/ld_blocks/reference_panel_1000G/chr13.variants.parquet -parquet_genotype_metadata /opt/data/data/phenomexcan/ld_blocks/reference_panel_1000G/variant_metadata.parquet -window 100000 -parsimony 7 -chromosome 13 -regularization 0.1 -frequency_filter 0.01 -sub_batches 10 -sub_batch 9 --standardise_dosages -output /opt/data/projects/asthma-copd/results/imputed_gwas/GWAS_COPD_only_GLM_SNPs_info0.7-harmonized-imputed-chr13-batch9_10.txt\n",
      "+ set +x\n"
     ]
    },
    {
     "name": "stdout",
     "output_type": "stream",
     "text": [
      "Running for copd_only, 14, 0\n",
      "Saving results in /opt/data/projects/asthma-copd/results/imputed_gwas\n",
      "/opt/data/software/conda_envs/summary_gwas_imputation/lib/python3.7/site-packages/pyarrow/pandas_compat.py:752: FutureWarning: .labels was deprecated in version 0.24.0. Use .codes instead.\n",
      "\n",
      "Running for copd_only, 14, 1\n",
      "Saving results in /opt/data/projects/asthma-copd/results/imputed_gwas\n"
     ]
    },
    {
     "name": "stderr",
     "output_type": "stream",
     "text": [
      "+ /opt/data/software/conda_envs/summary_gwas_imputation/bin/python /opt/data/software/summary-gwas-imputation/src/gwas_summary_imputation.py -by_region_file /opt/data/data/eur_ld.bed.gz -gwas_file /opt/data/projects/asthma-copd/results/harmonized_gwas/GWAS_COPD_only_GLM_SNPs_info0.7-harmonized.txt -parquet_genotype /opt/data/data/phenomexcan/ld_blocks/reference_panel_1000G/chr14.variants.parquet -parquet_genotype_metadata /opt/data/data/phenomexcan/ld_blocks/reference_panel_1000G/variant_metadata.parquet -window 100000 -parsimony 7 -chromosome 14 -regularization 0.1 -frequency_filter 0.01 -sub_batches 10 -sub_batch 0 --standardise_dosages -output /opt/data/projects/asthma-copd/results/imputed_gwas/GWAS_COPD_only_GLM_SNPs_info0.7-harmonized-imputed-chr14-batch0_10.txt\n",
      "+ set +x\n",
      "+ /opt/data/software/conda_envs/summary_gwas_imputation/bin/python /opt/data/software/summary-gwas-imputation/src/gwas_summary_imputation.py -by_region_file /opt/data/data/eur_ld.bed.gz -gwas_file /opt/data/projects/asthma-copd/results/harmonized_gwas/GWAS_COPD_only_GLM_SNPs_info0.7-harmonized.txt -parquet_genotype /opt/data/data/phenomexcan/ld_blocks/reference_panel_1000G/chr14.variants.parquet -parquet_genotype_metadata /opt/data/data/phenomexcan/ld_blocks/reference_panel_1000G/variant_metadata.parquet -window 100000 -parsimony 7 -chromosome 14 -regularization 0.1 -frequency_filter 0.01 -sub_batches 10 -sub_batch 1 --standardise_dosages -output /opt/data/projects/asthma-copd/results/imputed_gwas/GWAS_COPD_only_GLM_SNPs_info0.7-harmonized-imputed-chr14-batch1_10.txt\n"
     ]
    },
    {
     "name": "stdout",
     "output_type": "stream",
     "text": [
      "/opt/data/software/conda_envs/summary_gwas_imputation/lib/python3.7/site-packages/pyarrow/pandas_compat.py:752: FutureWarning: .labels was deprecated in version 0.24.0. Use .codes instead.\n",
      "\n"
     ]
    },
    {
     "name": "stderr",
     "output_type": "stream",
     "text": [
      "+ set +x\n"
     ]
    },
    {
     "name": "stdout",
     "output_type": "stream",
     "text": [
      "Running for copd_only, 14, 2\n",
      "Saving results in /opt/data/projects/asthma-copd/results/imputed_gwas\n",
      "/opt/data/software/conda_envs/summary_gwas_imputation/lib/python3.7/site-packages/pyarrow/pandas_compat.py:752: FutureWarning: .labels was deprecated in version 0.24.0. Use .codes instead.\n",
      "\n"
     ]
    },
    {
     "name": "stderr",
     "output_type": "stream",
     "text": [
      "+ /opt/data/software/conda_envs/summary_gwas_imputation/bin/python /opt/data/software/summary-gwas-imputation/src/gwas_summary_imputation.py -by_region_file /opt/data/data/eur_ld.bed.gz -gwas_file /opt/data/projects/asthma-copd/results/harmonized_gwas/GWAS_COPD_only_GLM_SNPs_info0.7-harmonized.txt -parquet_genotype /opt/data/data/phenomexcan/ld_blocks/reference_panel_1000G/chr14.variants.parquet -parquet_genotype_metadata /opt/data/data/phenomexcan/ld_blocks/reference_panel_1000G/variant_metadata.parquet -window 100000 -parsimony 7 -chromosome 14 -regularization 0.1 -frequency_filter 0.01 -sub_batches 10 -sub_batch 2 --standardise_dosages -output /opt/data/projects/asthma-copd/results/imputed_gwas/GWAS_COPD_only_GLM_SNPs_info0.7-harmonized-imputed-chr14-batch2_10.txt\n",
      "+ set +x\n"
     ]
    },
    {
     "name": "stdout",
     "output_type": "stream",
     "text": [
      "Running for copd_only, 14, 3\n",
      "Saving results in /opt/data/projects/asthma-copd/results/imputed_gwas\n",
      "/opt/data/software/conda_envs/summary_gwas_imputation/lib/python3.7/site-packages/pyarrow/pandas_compat.py:752: FutureWarning: .labels was deprecated in version 0.24.0. Use .codes instead.\n",
      "\n",
      "Running for copd_only, 14, 4\n",
      "Saving results in /opt/data/projects/asthma-copd/results/imputed_gwas\n",
      "/opt/data/software/conda_envs/summary_gwas_imputation/lib/python3.7/site-packages/pyarrow/pandas_compat.py:752: FutureWarning: .labels was deprecated in version 0.24.0. Use .codes instead.\n",
      "\n",
      "Running for copd_only, 14, 5\n",
      "Saving results in /opt/data/projects/asthma-copd/results/imputed_gwas\n"
     ]
    },
    {
     "name": "stderr",
     "output_type": "stream",
     "text": [
      "+ /opt/data/software/conda_envs/summary_gwas_imputation/bin/python /opt/data/software/summary-gwas-imputation/src/gwas_summary_imputation.py -by_region_file /opt/data/data/eur_ld.bed.gz -gwas_file /opt/data/projects/asthma-copd/results/harmonized_gwas/GWAS_COPD_only_GLM_SNPs_info0.7-harmonized.txt -parquet_genotype /opt/data/data/phenomexcan/ld_blocks/reference_panel_1000G/chr14.variants.parquet -parquet_genotype_metadata /opt/data/data/phenomexcan/ld_blocks/reference_panel_1000G/variant_metadata.parquet -window 100000 -parsimony 7 -chromosome 14 -regularization 0.1 -frequency_filter 0.01 -sub_batches 10 -sub_batch 3 --standardise_dosages -output /opt/data/projects/asthma-copd/results/imputed_gwas/GWAS_COPD_only_GLM_SNPs_info0.7-harmonized-imputed-chr14-batch3_10.txt\n",
      "+ set +x\n",
      "+ /opt/data/software/conda_envs/summary_gwas_imputation/bin/python /opt/data/software/summary-gwas-imputation/src/gwas_summary_imputation.py -by_region_file /opt/data/data/eur_ld.bed.gz -gwas_file /opt/data/projects/asthma-copd/results/harmonized_gwas/GWAS_COPD_only_GLM_SNPs_info0.7-harmonized.txt -parquet_genotype /opt/data/data/phenomexcan/ld_blocks/reference_panel_1000G/chr14.variants.parquet -parquet_genotype_metadata /opt/data/data/phenomexcan/ld_blocks/reference_panel_1000G/variant_metadata.parquet -window 100000 -parsimony 7 -chromosome 14 -regularization 0.1 -frequency_filter 0.01 -sub_batches 10 -sub_batch 4 --standardise_dosages -output /opt/data/projects/asthma-copd/results/imputed_gwas/GWAS_COPD_only_GLM_SNPs_info0.7-harmonized-imputed-chr14-batch4_10.txt\n",
      "+ set +x\n",
      "+ /opt/data/software/conda_envs/summary_gwas_imputation/bin/python /opt/data/software/summary-gwas-imputation/src/gwas_summary_imputation.py -by_region_file /opt/data/data/eur_ld.bed.gz -gwas_file /opt/data/projects/asthma-copd/results/harmonized_gwas/GWAS_COPD_only_GLM_SNPs_info0.7-harmonized.txt -parquet_genotype /opt/data/data/phenomexcan/ld_blocks/reference_panel_1000G/chr14.variants.parquet -parquet_genotype_metadata /opt/data/data/phenomexcan/ld_blocks/reference_panel_1000G/variant_metadata.parquet -window 100000 -parsimony 7 -chromosome 14 -regularization 0.1 -frequency_filter 0.01 -sub_batches 10 -sub_batch 5 --standardise_dosages -output /opt/data/projects/asthma-copd/results/imputed_gwas/GWAS_COPD_only_GLM_SNPs_info0.7-harmonized-imputed-chr14-batch5_10.txt\n",
      "+ set +x\n"
     ]
    },
    {
     "name": "stdout",
     "output_type": "stream",
     "text": [
      "/opt/data/software/conda_envs/summary_gwas_imputation/lib/python3.7/site-packages/pyarrow/pandas_compat.py:752: FutureWarning: .labels was deprecated in version 0.24.0. Use .codes instead.\n",
      "\n",
      "Running for copd_only, 14, 6\n",
      "Saving results in /opt/data/projects/asthma-copd/results/imputed_gwas\n",
      "/opt/data/software/conda_envs/summary_gwas_imputation/lib/python3.7/site-packages/pyarrow/pandas_compat.py:752: FutureWarning: .labels was deprecated in version 0.24.0. Use .codes instead.\n",
      "\n",
      "Running for copd_only, 14, 7\n",
      "Saving results in /opt/data/projects/asthma-copd/results/imputed_gwas\n",
      "/opt/data/software/conda_envs/summary_gwas_imputation/lib/python3.7/site-packages/pyarrow/pandas_compat.py:752: FutureWarning: .labels was deprecated in version 0.24.0. Use .codes instead.\n",
      "\n",
      "Running for copd_only, 14, 8\n",
      "Saving results in /opt/data/projects/asthma-copd/results/imputed_gwas\n",
      "/opt/data/software/conda_envs/summary_gwas_imputation/lib/python3.7/site-packages/pyarrow/pandas_compat.py:752: FutureWarning: .labels was deprecated in version 0.24.0. Use .codes instead.\n",
      "\n",
      "Running for copd_only, 14, 9\n",
      "Saving results in /opt/data/projects/asthma-copd/results/imputed_gwas\n",
      "/opt/data/software/conda_envs/summary_gwas_imputation/lib/python3.7/site-packages/pyarrow/pandas_compat.py:752: FutureWarning: .labels was deprecated in version 0.24.0. Use .codes instead.\n",
      "\n"
     ]
    },
    {
     "name": "stderr",
     "output_type": "stream",
     "text": [
      "+ /opt/data/software/conda_envs/summary_gwas_imputation/bin/python /opt/data/software/summary-gwas-imputation/src/gwas_summary_imputation.py -by_region_file /opt/data/data/eur_ld.bed.gz -gwas_file /opt/data/projects/asthma-copd/results/harmonized_gwas/GWAS_COPD_only_GLM_SNPs_info0.7-harmonized.txt -parquet_genotype /opt/data/data/phenomexcan/ld_blocks/reference_panel_1000G/chr14.variants.parquet -parquet_genotype_metadata /opt/data/data/phenomexcan/ld_blocks/reference_panel_1000G/variant_metadata.parquet -window 100000 -parsimony 7 -chromosome 14 -regularization 0.1 -frequency_filter 0.01 -sub_batches 10 -sub_batch 6 --standardise_dosages -output /opt/data/projects/asthma-copd/results/imputed_gwas/GWAS_COPD_only_GLM_SNPs_info0.7-harmonized-imputed-chr14-batch6_10.txt\n",
      "+ set +x\n",
      "+ /opt/data/software/conda_envs/summary_gwas_imputation/bin/python /opt/data/software/summary-gwas-imputation/src/gwas_summary_imputation.py -by_region_file /opt/data/data/eur_ld.bed.gz -gwas_file /opt/data/projects/asthma-copd/results/harmonized_gwas/GWAS_COPD_only_GLM_SNPs_info0.7-harmonized.txt -parquet_genotype /opt/data/data/phenomexcan/ld_blocks/reference_panel_1000G/chr14.variants.parquet -parquet_genotype_metadata /opt/data/data/phenomexcan/ld_blocks/reference_panel_1000G/variant_metadata.parquet -window 100000 -parsimony 7 -chromosome 14 -regularization 0.1 -frequency_filter 0.01 -sub_batches 10 -sub_batch 7 --standardise_dosages -output /opt/data/projects/asthma-copd/results/imputed_gwas/GWAS_COPD_only_GLM_SNPs_info0.7-harmonized-imputed-chr14-batch7_10.txt\n",
      "+ set +x\n",
      "+ /opt/data/software/conda_envs/summary_gwas_imputation/bin/python /opt/data/software/summary-gwas-imputation/src/gwas_summary_imputation.py -by_region_file /opt/data/data/eur_ld.bed.gz -gwas_file /opt/data/projects/asthma-copd/results/harmonized_gwas/GWAS_COPD_only_GLM_SNPs_info0.7-harmonized.txt -parquet_genotype /opt/data/data/phenomexcan/ld_blocks/reference_panel_1000G/chr14.variants.parquet -parquet_genotype_metadata /opt/data/data/phenomexcan/ld_blocks/reference_panel_1000G/variant_metadata.parquet -window 100000 -parsimony 7 -chromosome 14 -regularization 0.1 -frequency_filter 0.01 -sub_batches 10 -sub_batch 8 --standardise_dosages -output /opt/data/projects/asthma-copd/results/imputed_gwas/GWAS_COPD_only_GLM_SNPs_info0.7-harmonized-imputed-chr14-batch8_10.txt\n",
      "+ set +x\n",
      "+ /opt/data/software/conda_envs/summary_gwas_imputation/bin/python /opt/data/software/summary-gwas-imputation/src/gwas_summary_imputation.py -by_region_file /opt/data/data/eur_ld.bed.gz -gwas_file /opt/data/projects/asthma-copd/results/harmonized_gwas/GWAS_COPD_only_GLM_SNPs_info0.7-harmonized.txt -parquet_genotype /opt/data/data/phenomexcan/ld_blocks/reference_panel_1000G/chr14.variants.parquet -parquet_genotype_metadata /opt/data/data/phenomexcan/ld_blocks/reference_panel_1000G/variant_metadata.parquet -window 100000 -parsimony 7 -chromosome 14 -regularization 0.1 -frequency_filter 0.01 -sub_batches 10 -sub_batch 9 --standardise_dosages -output /opt/data/projects/asthma-copd/results/imputed_gwas/GWAS_COPD_only_GLM_SNPs_info0.7-harmonized-imputed-chr14-batch9_10.txt\n",
      "+ set +x\n",
      "+ /opt/data/software/conda_envs/summary_gwas_imputation/bin/python /opt/data/software/summary-gwas-imputation/src/gwas_summary_imputation.py -by_region_file /opt/data/data/eur_ld.bed.gz -gwas_file /opt/data/projects/asthma-copd/results/harmonized_gwas/GWAS_COPD_only_GLM_SNPs_info0.7-harmonized.txt -parquet_genotype /opt/data/data/phenomexcan/ld_blocks/reference_panel_1000G/chr15.variants.parquet -parquet_genotype_metadata /opt/data/data/phenomexcan/ld_blocks/reference_panel_1000G/variant_metadata.parquet -window 100000 -parsimony 7 -chromosome 15 -regularization 0.1 -frequency_filter 0.01 -sub_batches 10 -sub_batch 0 --standardise_dosages -output /opt/data/projects/asthma-copd/results/imputed_gwas/GWAS_COPD_only_GLM_SNPs_info0.7-harmonized-imputed-chr15-batch0_10.txt\n",
      "+ set +x\n",
      "+ /opt/data/software/conda_envs/summary_gwas_imputation/bin/python /opt/data/software/summary-gwas-imputation/src/gwas_summary_imputation.py -by_region_file /opt/data/data/eur_ld.bed.gz -gwas_file /opt/data/projects/asthma-copd/results/harmonized_gwas/GWAS_COPD_only_GLM_SNPs_info0.7-harmonized.txt -parquet_genotype /opt/data/data/phenomexcan/ld_blocks/reference_panel_1000G/chr15.variants.parquet -parquet_genotype_metadata /opt/data/data/phenomexcan/ld_blocks/reference_panel_1000G/variant_metadata.parquet -window 100000 -parsimony 7 -chromosome 15 -regularization 0.1 -frequency_filter 0.01 -sub_batches 10 -sub_batch 1 --standardise_dosages -output /opt/data/projects/asthma-copd/results/imputed_gwas/GWAS_COPD_only_GLM_SNPs_info0.7-harmonized-imputed-chr15-batch1_10.txt\n",
      "+ set +x\n"
     ]
    },
    {
     "name": "stdout",
     "output_type": "stream",
     "text": [
      "Running for copd_only, 15, 0\n",
      "Saving results in /opt/data/projects/asthma-copd/results/imputed_gwas\n",
      "/opt/data/software/conda_envs/summary_gwas_imputation/lib/python3.7/site-packages/pyarrow/pandas_compat.py:752: FutureWarning: .labels was deprecated in version 0.24.0. Use .codes instead.\n",
      "\n",
      "Running for copd_only, 15, 1\n",
      "Saving results in /opt/data/projects/asthma-copd/results/imputed_gwas\n",
      "/opt/data/software/conda_envs/summary_gwas_imputation/lib/python3.7/site-packages/pyarrow/pandas_compat.py:752: FutureWarning: .labels was deprecated in version 0.24.0. Use .codes instead.\n",
      "\n",
      "Running for copd_only, 15, 2\n",
      "Saving results in /opt/data/projects/asthma-copd/results/imputed_gwas\n",
      "/opt/data/software/conda_envs/summary_gwas_imputation/lib/python3.7/site-packages/pyarrow/pandas_compat.py:752: FutureWarning: .labels was deprecated in version 0.24.0. Use .codes instead.\n",
      "\n"
     ]
    },
    {
     "name": "stderr",
     "output_type": "stream",
     "text": [
      "+ /opt/data/software/conda_envs/summary_gwas_imputation/bin/python /opt/data/software/summary-gwas-imputation/src/gwas_summary_imputation.py -by_region_file /opt/data/data/eur_ld.bed.gz -gwas_file /opt/data/projects/asthma-copd/results/harmonized_gwas/GWAS_COPD_only_GLM_SNPs_info0.7-harmonized.txt -parquet_genotype /opt/data/data/phenomexcan/ld_blocks/reference_panel_1000G/chr15.variants.parquet -parquet_genotype_metadata /opt/data/data/phenomexcan/ld_blocks/reference_panel_1000G/variant_metadata.parquet -window 100000 -parsimony 7 -chromosome 15 -regularization 0.1 -frequency_filter 0.01 -sub_batches 10 -sub_batch 2 --standardise_dosages -output /opt/data/projects/asthma-copd/results/imputed_gwas/GWAS_COPD_only_GLM_SNPs_info0.7-harmonized-imputed-chr15-batch2_10.txt\n",
      "+ set +x\n"
     ]
    },
    {
     "name": "stdout",
     "output_type": "stream",
     "text": [
      "Running for copd_only, 15, 3\n",
      "Saving results in /opt/data/projects/asthma-copd/results/imputed_gwas\n",
      "/opt/data/software/conda_envs/summary_gwas_imputation/lib/python3.7/site-packages/pyarrow/pandas_compat.py:752: FutureWarning: .labels was deprecated in version 0.24.0. Use .codes instead.\n",
      "\n",
      "Running for copd_only, 15, 4\n",
      "Saving results in /opt/data/projects/asthma-copd/results/imputed_gwas\n",
      "/opt/data/software/conda_envs/summary_gwas_imputation/lib/python3.7/site-packages/pyarrow/pandas_compat.py:752: FutureWarning: .labels was deprecated in version 0.24.0. Use .codes instead.\n",
      "\n",
      "Running for copd_only, 15, 5\n",
      "Saving results in /opt/data/projects/asthma-copd/results/imputed_gwas\n",
      "/opt/data/software/conda_envs/summary_gwas_imputation/lib/python3.7/site-packages/pyarrow/pandas_compat.py:752: FutureWarning: .labels was deprecated in version 0.24.0. Use .codes instead.\n",
      "\n",
      "Running for copd_only, 15, 6\n",
      "Saving results in /opt/data/projects/asthma-copd/results/imputed_gwas\n",
      "/opt/data/software/conda_envs/summary_gwas_imputation/lib/python3.7/site-packages/pyarrow/pandas_compat.py:752: FutureWarning: .labels was deprecated in version 0.24.0. Use .codes instead.\n",
      "\n",
      "Running for copd_only, 15, 7\n",
      "Saving results in /opt/data/projects/asthma-copd/results/imputed_gwas\n",
      "/opt/data/software/conda_envs/summary_gwas_imputation/lib/python3.7/site-packages/pyarrow/pandas_compat.py:752: FutureWarning: .labels was deprecated in version 0.24.0. Use .codes instead.\n",
      "\n",
      "Running for copd_only, 15, 8\n",
      "Saving results in /opt/data/projects/asthma-copd/results/imputed_gwas\n",
      "/opt/data/software/conda_envs/summary_gwas_imputation/lib/python3.7/site-packages/pyarrow/pandas_compat.py:752: FutureWarning: .labels was deprecated in version 0.24.0. Use .codes instead.\n",
      "\n",
      "Running for copd_only, 15, 9\n",
      "Saving results in /opt/data/projects/asthma-copd/results/imputed_gwas\n",
      "/opt/data/software/conda_envs/summary_gwas_imputation/lib/python3.7/site-packages/pyarrow/pandas_compat.py:752: FutureWarning: .labels was deprecated in version 0.24.0. Use .codes instead.\n",
      "\n",
      "Running for copd_only, 16, 0\n",
      "Saving results in /opt/data/projects/asthma-copd/results/imputed_gwas\n",
      "/opt/data/software/conda_envs/summary_gwas_imputation/lib/python3.7/site-packages/pyarrow/pandas_compat.py:752: FutureWarning: .labels was deprecated in version 0.24.0. Use .codes instead.\n",
      "\n",
      "Running for copd_only, 16, 1\n",
      "Saving results in /opt/data/projects/asthma-copd/results/imputed_gwas\n",
      "/opt/data/software/conda_envs/summary_gwas_imputation/lib/python3.7/site-packages/pyarrow/pandas_compat.py:752: FutureWarning: .labels was deprecated in version 0.24.0. Use .codes instead.\n",
      "\n",
      "Running for copd_only, 16, 2\n",
      "Saving results in /opt/data/projects/asthma-copd/results/imputed_gwas\n",
      "/opt/data/software/conda_envs/summary_gwas_imputation/lib/python3.7/site-packages/pyarrow/pandas_compat.py:752: FutureWarning: .labels was deprecated in version 0.24.0. Use .codes instead.\n",
      "\n",
      "Running for copd_only, 16, 3\n",
      "Saving results in /opt/data/projects/asthma-copd/results/imputed_gwas\n",
      "/opt/data/software/conda_envs/summary_gwas_imputation/lib/python3.7/site-packages/pyarrow/pandas_compat.py:752: FutureWarning: .labels was deprecated in version 0.24.0. Use .codes instead.\n",
      "\n",
      "Running for copd_only, 16, 4\n",
      "Saving results in /opt/data/projects/asthma-copd/results/imputed_gwas\n"
     ]
    },
    {
     "name": "stderr",
     "output_type": "stream",
     "text": [
      "+ /opt/data/software/conda_envs/summary_gwas_imputation/bin/python /opt/data/software/summary-gwas-imputation/src/gwas_summary_imputation.py -by_region_file /opt/data/data/eur_ld.bed.gz -gwas_file /opt/data/projects/asthma-copd/results/harmonized_gwas/GWAS_COPD_only_GLM_SNPs_info0.7-harmonized.txt -parquet_genotype /opt/data/data/phenomexcan/ld_blocks/reference_panel_1000G/chr15.variants.parquet -parquet_genotype_metadata /opt/data/data/phenomexcan/ld_blocks/reference_panel_1000G/variant_metadata.parquet -window 100000 -parsimony 7 -chromosome 15 -regularization 0.1 -frequency_filter 0.01 -sub_batches 10 -sub_batch 3 --standardise_dosages -output /opt/data/projects/asthma-copd/results/imputed_gwas/GWAS_COPD_only_GLM_SNPs_info0.7-harmonized-imputed-chr15-batch3_10.txt\n",
      "+ set +x\n",
      "+ /opt/data/software/conda_envs/summary_gwas_imputation/bin/python /opt/data/software/summary-gwas-imputation/src/gwas_summary_imputation.py -by_region_file /opt/data/data/eur_ld.bed.gz -gwas_file /opt/data/projects/asthma-copd/results/harmonized_gwas/GWAS_COPD_only_GLM_SNPs_info0.7-harmonized.txt -parquet_genotype /opt/data/data/phenomexcan/ld_blocks/reference_panel_1000G/chr15.variants.parquet -parquet_genotype_metadata /opt/data/data/phenomexcan/ld_blocks/reference_panel_1000G/variant_metadata.parquet -window 100000 -parsimony 7 -chromosome 15 -regularization 0.1 -frequency_filter 0.01 -sub_batches 10 -sub_batch 4 --standardise_dosages -output /opt/data/projects/asthma-copd/results/imputed_gwas/GWAS_COPD_only_GLM_SNPs_info0.7-harmonized-imputed-chr15-batch4_10.txt\n",
      "+ set +x\n",
      "+ /opt/data/software/conda_envs/summary_gwas_imputation/bin/python /opt/data/software/summary-gwas-imputation/src/gwas_summary_imputation.py -by_region_file /opt/data/data/eur_ld.bed.gz -gwas_file /opt/data/projects/asthma-copd/results/harmonized_gwas/GWAS_COPD_only_GLM_SNPs_info0.7-harmonized.txt -parquet_genotype /opt/data/data/phenomexcan/ld_blocks/reference_panel_1000G/chr15.variants.parquet -parquet_genotype_metadata /opt/data/data/phenomexcan/ld_blocks/reference_panel_1000G/variant_metadata.parquet -window 100000 -parsimony 7 -chromosome 15 -regularization 0.1 -frequency_filter 0.01 -sub_batches 10 -sub_batch 5 --standardise_dosages -output /opt/data/projects/asthma-copd/results/imputed_gwas/GWAS_COPD_only_GLM_SNPs_info0.7-harmonized-imputed-chr15-batch5_10.txt\n",
      "+ set +x\n",
      "+ /opt/data/software/conda_envs/summary_gwas_imputation/bin/python /opt/data/software/summary-gwas-imputation/src/gwas_summary_imputation.py -by_region_file /opt/data/data/eur_ld.bed.gz -gwas_file /opt/data/projects/asthma-copd/results/harmonized_gwas/GWAS_COPD_only_GLM_SNPs_info0.7-harmonized.txt -parquet_genotype /opt/data/data/phenomexcan/ld_blocks/reference_panel_1000G/chr15.variants.parquet -parquet_genotype_metadata /opt/data/data/phenomexcan/ld_blocks/reference_panel_1000G/variant_metadata.parquet -window 100000 -parsimony 7 -chromosome 15 -regularization 0.1 -frequency_filter 0.01 -sub_batches 10 -sub_batch 6 --standardise_dosages -output /opt/data/projects/asthma-copd/results/imputed_gwas/GWAS_COPD_only_GLM_SNPs_info0.7-harmonized-imputed-chr15-batch6_10.txt\n",
      "+ set +x\n",
      "+ /opt/data/software/conda_envs/summary_gwas_imputation/bin/python /opt/data/software/summary-gwas-imputation/src/gwas_summary_imputation.py -by_region_file /opt/data/data/eur_ld.bed.gz -gwas_file /opt/data/projects/asthma-copd/results/harmonized_gwas/GWAS_COPD_only_GLM_SNPs_info0.7-harmonized.txt -parquet_genotype /opt/data/data/phenomexcan/ld_blocks/reference_panel_1000G/chr15.variants.parquet -parquet_genotype_metadata /opt/data/data/phenomexcan/ld_blocks/reference_panel_1000G/variant_metadata.parquet -window 100000 -parsimony 7 -chromosome 15 -regularization 0.1 -frequency_filter 0.01 -sub_batches 10 -sub_batch 7 --standardise_dosages -output /opt/data/projects/asthma-copd/results/imputed_gwas/GWAS_COPD_only_GLM_SNPs_info0.7-harmonized-imputed-chr15-batch7_10.txt\n",
      "+ set +x\n",
      "+ /opt/data/software/conda_envs/summary_gwas_imputation/bin/python /opt/data/software/summary-gwas-imputation/src/gwas_summary_imputation.py -by_region_file /opt/data/data/eur_ld.bed.gz -gwas_file /opt/data/projects/asthma-copd/results/harmonized_gwas/GWAS_COPD_only_GLM_SNPs_info0.7-harmonized.txt -parquet_genotype /opt/data/data/phenomexcan/ld_blocks/reference_panel_1000G/chr15.variants.parquet -parquet_genotype_metadata /opt/data/data/phenomexcan/ld_blocks/reference_panel_1000G/variant_metadata.parquet -window 100000 -parsimony 7 -chromosome 15 -regularization 0.1 -frequency_filter 0.01 -sub_batches 10 -sub_batch 8 --standardise_dosages -output /opt/data/projects/asthma-copd/results/imputed_gwas/GWAS_COPD_only_GLM_SNPs_info0.7-harmonized-imputed-chr15-batch8_10.txt\n",
      "+ set +x\n",
      "+ /opt/data/software/conda_envs/summary_gwas_imputation/bin/python /opt/data/software/summary-gwas-imputation/src/gwas_summary_imputation.py -by_region_file /opt/data/data/eur_ld.bed.gz -gwas_file /opt/data/projects/asthma-copd/results/harmonized_gwas/GWAS_COPD_only_GLM_SNPs_info0.7-harmonized.txt -parquet_genotype /opt/data/data/phenomexcan/ld_blocks/reference_panel_1000G/chr15.variants.parquet -parquet_genotype_metadata /opt/data/data/phenomexcan/ld_blocks/reference_panel_1000G/variant_metadata.parquet -window 100000 -parsimony 7 -chromosome 15 -regularization 0.1 -frequency_filter 0.01 -sub_batches 10 -sub_batch 9 --standardise_dosages -output /opt/data/projects/asthma-copd/results/imputed_gwas/GWAS_COPD_only_GLM_SNPs_info0.7-harmonized-imputed-chr15-batch9_10.txt\n",
      "+ set +x\n",
      "+ /opt/data/software/conda_envs/summary_gwas_imputation/bin/python /opt/data/software/summary-gwas-imputation/src/gwas_summary_imputation.py -by_region_file /opt/data/data/eur_ld.bed.gz -gwas_file /opt/data/projects/asthma-copd/results/harmonized_gwas/GWAS_COPD_only_GLM_SNPs_info0.7-harmonized.txt -parquet_genotype /opt/data/data/phenomexcan/ld_blocks/reference_panel_1000G/chr16.variants.parquet -parquet_genotype_metadata /opt/data/data/phenomexcan/ld_blocks/reference_panel_1000G/variant_metadata.parquet -window 100000 -parsimony 7 -chromosome 16 -regularization 0.1 -frequency_filter 0.01 -sub_batches 10 -sub_batch 0 --standardise_dosages -output /opt/data/projects/asthma-copd/results/imputed_gwas/GWAS_COPD_only_GLM_SNPs_info0.7-harmonized-imputed-chr16-batch0_10.txt\n",
      "+ set +x\n",
      "+ /opt/data/software/conda_envs/summary_gwas_imputation/bin/python /opt/data/software/summary-gwas-imputation/src/gwas_summary_imputation.py -by_region_file /opt/data/data/eur_ld.bed.gz -gwas_file /opt/data/projects/asthma-copd/results/harmonized_gwas/GWAS_COPD_only_GLM_SNPs_info0.7-harmonized.txt -parquet_genotype /opt/data/data/phenomexcan/ld_blocks/reference_panel_1000G/chr16.variants.parquet -parquet_genotype_metadata /opt/data/data/phenomexcan/ld_blocks/reference_panel_1000G/variant_metadata.parquet -window 100000 -parsimony 7 -chromosome 16 -regularization 0.1 -frequency_filter 0.01 -sub_batches 10 -sub_batch 1 --standardise_dosages -output /opt/data/projects/asthma-copd/results/imputed_gwas/GWAS_COPD_only_GLM_SNPs_info0.7-harmonized-imputed-chr16-batch1_10.txt\n",
      "+ set +x\n",
      "+ /opt/data/software/conda_envs/summary_gwas_imputation/bin/python /opt/data/software/summary-gwas-imputation/src/gwas_summary_imputation.py -by_region_file /opt/data/data/eur_ld.bed.gz -gwas_file /opt/data/projects/asthma-copd/results/harmonized_gwas/GWAS_COPD_only_GLM_SNPs_info0.7-harmonized.txt -parquet_genotype /opt/data/data/phenomexcan/ld_blocks/reference_panel_1000G/chr16.variants.parquet -parquet_genotype_metadata /opt/data/data/phenomexcan/ld_blocks/reference_panel_1000G/variant_metadata.parquet -window 100000 -parsimony 7 -chromosome 16 -regularization 0.1 -frequency_filter 0.01 -sub_batches 10 -sub_batch 2 --standardise_dosages -output /opt/data/projects/asthma-copd/results/imputed_gwas/GWAS_COPD_only_GLM_SNPs_info0.7-harmonized-imputed-chr16-batch2_10.txt\n",
      "+ set +x\n",
      "+ /opt/data/software/conda_envs/summary_gwas_imputation/bin/python /opt/data/software/summary-gwas-imputation/src/gwas_summary_imputation.py -by_region_file /opt/data/data/eur_ld.bed.gz -gwas_file /opt/data/projects/asthma-copd/results/harmonized_gwas/GWAS_COPD_only_GLM_SNPs_info0.7-harmonized.txt -parquet_genotype /opt/data/data/phenomexcan/ld_blocks/reference_panel_1000G/chr16.variants.parquet -parquet_genotype_metadata /opt/data/data/phenomexcan/ld_blocks/reference_panel_1000G/variant_metadata.parquet -window 100000 -parsimony 7 -chromosome 16 -regularization 0.1 -frequency_filter 0.01 -sub_batches 10 -sub_batch 3 --standardise_dosages -output /opt/data/projects/asthma-copd/results/imputed_gwas/GWAS_COPD_only_GLM_SNPs_info0.7-harmonized-imputed-chr16-batch3_10.txt\n",
      "+ set +x\n",
      "+ /opt/data/software/conda_envs/summary_gwas_imputation/bin/python /opt/data/software/summary-gwas-imputation/src/gwas_summary_imputation.py -by_region_file /opt/data/data/eur_ld.bed.gz -gwas_file /opt/data/projects/asthma-copd/results/harmonized_gwas/GWAS_COPD_only_GLM_SNPs_info0.7-harmonized.txt -parquet_genotype /opt/data/data/phenomexcan/ld_blocks/reference_panel_1000G/chr16.variants.parquet -parquet_genotype_metadata /opt/data/data/phenomexcan/ld_blocks/reference_panel_1000G/variant_metadata.parquet -window 100000 -parsimony 7 -chromosome 16 -regularization 0.1 -frequency_filter 0.01 -sub_batches 10 -sub_batch 4 --standardise_dosages -output /opt/data/projects/asthma-copd/results/imputed_gwas/GWAS_COPD_only_GLM_SNPs_info0.7-harmonized-imputed-chr16-batch4_10.txt\n"
     ]
    },
    {
     "name": "stdout",
     "output_type": "stream",
     "text": [
      "/opt/data/software/conda_envs/summary_gwas_imputation/lib/python3.7/site-packages/pyarrow/pandas_compat.py:752: FutureWarning: .labels was deprecated in version 0.24.0. Use .codes instead.\n",
      "\n"
     ]
    },
    {
     "name": "stderr",
     "output_type": "stream",
     "text": [
      "+ set +x\n"
     ]
    },
    {
     "name": "stdout",
     "output_type": "stream",
     "text": [
      "Running for copd_only, 16, 5\n",
      "Saving results in /opt/data/projects/asthma-copd/results/imputed_gwas\n",
      "/opt/data/software/conda_envs/summary_gwas_imputation/lib/python3.7/site-packages/pyarrow/pandas_compat.py:752: FutureWarning: .labels was deprecated in version 0.24.0. Use .codes instead.\n",
      "INFO - Error for region (16,59011501.0,60711790.0): LinAlgError('SVD did not converge')\n",
      "\n"
     ]
    },
    {
     "name": "stderr",
     "output_type": "stream",
     "text": [
      "+ /opt/data/software/conda_envs/summary_gwas_imputation/bin/python /opt/data/software/summary-gwas-imputation/src/gwas_summary_imputation.py -by_region_file /opt/data/data/eur_ld.bed.gz -gwas_file /opt/data/projects/asthma-copd/results/harmonized_gwas/GWAS_COPD_only_GLM_SNPs_info0.7-harmonized.txt -parquet_genotype /opt/data/data/phenomexcan/ld_blocks/reference_panel_1000G/chr16.variants.parquet -parquet_genotype_metadata /opt/data/data/phenomexcan/ld_blocks/reference_panel_1000G/variant_metadata.parquet -window 100000 -parsimony 7 -chromosome 16 -regularization 0.1 -frequency_filter 0.01 -sub_batches 10 -sub_batch 5 --standardise_dosages -output /opt/data/projects/asthma-copd/results/imputed_gwas/GWAS_COPD_only_GLM_SNPs_info0.7-harmonized-imputed-chr16-batch5_10.txt\n",
      "+ set +x\n"
     ]
    },
    {
     "name": "stdout",
     "output_type": "stream",
     "text": [
      "Running for copd_only, 16, 6\n",
      "Saving results in /opt/data/projects/asthma-copd/results/imputed_gwas\n",
      "/opt/data/software/conda_envs/summary_gwas_imputation/lib/python3.7/site-packages/pyarrow/pandas_compat.py:752: FutureWarning: .labels was deprecated in version 0.24.0. Use .codes instead.\n",
      "INFO - Error for region (16,72901251.0,74937605.0): LinAlgError('SVD did not converge')\n",
      "\n",
      "Running for copd_only, 16, 7\n",
      "Saving results in /opt/data/projects/asthma-copd/results/imputed_gwas\n",
      "/opt/data/software/conda_envs/summary_gwas_imputation/lib/python3.7/site-packages/pyarrow/pandas_compat.py:752: FutureWarning: .labels was deprecated in version 0.24.0. Use .codes instead.\n",
      "\n",
      "Running for copd_only, 16, 8\n",
      "Saving results in /opt/data/projects/asthma-copd/results/imputed_gwas\n",
      "/opt/data/software/conda_envs/summary_gwas_imputation/lib/python3.7/site-packages/pyarrow/pandas_compat.py:752: FutureWarning: .labels was deprecated in version 0.24.0. Use .codes instead.\n",
      "INFO - Error for region (16,83443603.0,84412277.0): LinAlgError('SVD did not converge')\n",
      "\n",
      "Running for copd_only, 16, 9\n",
      "Saving results in /opt/data/projects/asthma-copd/results/imputed_gwas\n",
      "/opt/data/software/conda_envs/summary_gwas_imputation/lib/python3.7/site-packages/pyarrow/pandas_compat.py:752: FutureWarning: .labels was deprecated in version 0.24.0. Use .codes instead.\n",
      "\n",
      "Running for copd_only, 17, 0\n",
      "Saving results in /opt/data/projects/asthma-copd/results/imputed_gwas\n",
      "/opt/data/software/conda_envs/summary_gwas_imputation/lib/python3.7/site-packages/pyarrow/pandas_compat.py:752: FutureWarning: .labels was deprecated in version 0.24.0. Use .codes instead.\n",
      "\n",
      "Running for copd_only, 17, 1\n",
      "Saving results in /opt/data/projects/asthma-copd/results/imputed_gwas\n",
      "/opt/data/software/conda_envs/summary_gwas_imputation/lib/python3.7/site-packages/pyarrow/pandas_compat.py:752: FutureWarning: .labels was deprecated in version 0.24.0. Use .codes instead.\n",
      "INFO - Error for region (17,8403107.0,10062604.0): LinAlgError('SVD did not converge')\n",
      "\n",
      "Running for copd_only, 17, 2\n",
      "Saving results in /opt/data/projects/asthma-copd/results/imputed_gwas\n",
      "/opt/data/software/conda_envs/summary_gwas_imputation/lib/python3.7/site-packages/pyarrow/pandas_compat.py:752: FutureWarning: .labels was deprecated in version 0.24.0. Use .codes instead.\n",
      "\n",
      "Running for copd_only, 17, 3\n",
      "Saving results in /opt/data/projects/asthma-copd/results/imputed_gwas\n",
      "/opt/data/software/conda_envs/summary_gwas_imputation/lib/python3.7/site-packages/pyarrow/pandas_compat.py:752: FutureWarning: .labels was deprecated in version 0.24.0. Use .codes instead.\n",
      "\n",
      "Running for copd_only, 17, 4\n",
      "Saving results in /opt/data/projects/asthma-copd/results/imputed_gwas\n",
      "/opt/data/software/conda_envs/summary_gwas_imputation/lib/python3.7/site-packages/pyarrow/pandas_compat.py:752: FutureWarning: .labels was deprecated in version 0.24.0. Use .codes instead.\n",
      "\n",
      "Running for copd_only, 17, 5\n",
      "Saving results in /opt/data/projects/asthma-copd/results/imputed_gwas\n",
      "/opt/data/software/conda_envs/summary_gwas_imputation/lib/python3.7/site-packages/pyarrow/pandas_compat.py:752: FutureWarning: .labels was deprecated in version 0.24.0. Use .codes instead.\n",
      "\n"
     ]
    },
    {
     "name": "stderr",
     "output_type": "stream",
     "text": [
      "+ /opt/data/software/conda_envs/summary_gwas_imputation/bin/python /opt/data/software/summary-gwas-imputation/src/gwas_summary_imputation.py -by_region_file /opt/data/data/eur_ld.bed.gz -gwas_file /opt/data/projects/asthma-copd/results/harmonized_gwas/GWAS_COPD_only_GLM_SNPs_info0.7-harmonized.txt -parquet_genotype /opt/data/data/phenomexcan/ld_blocks/reference_panel_1000G/chr16.variants.parquet -parquet_genotype_metadata /opt/data/data/phenomexcan/ld_blocks/reference_panel_1000G/variant_metadata.parquet -window 100000 -parsimony 7 -chromosome 16 -regularization 0.1 -frequency_filter 0.01 -sub_batches 10 -sub_batch 6 --standardise_dosages -output /opt/data/projects/asthma-copd/results/imputed_gwas/GWAS_COPD_only_GLM_SNPs_info0.7-harmonized-imputed-chr16-batch6_10.txt\n",
      "+ set +x\n",
      "+ /opt/data/software/conda_envs/summary_gwas_imputation/bin/python /opt/data/software/summary-gwas-imputation/src/gwas_summary_imputation.py -by_region_file /opt/data/data/eur_ld.bed.gz -gwas_file /opt/data/projects/asthma-copd/results/harmonized_gwas/GWAS_COPD_only_GLM_SNPs_info0.7-harmonized.txt -parquet_genotype /opt/data/data/phenomexcan/ld_blocks/reference_panel_1000G/chr16.variants.parquet -parquet_genotype_metadata /opt/data/data/phenomexcan/ld_blocks/reference_panel_1000G/variant_metadata.parquet -window 100000 -parsimony 7 -chromosome 16 -regularization 0.1 -frequency_filter 0.01 -sub_batches 10 -sub_batch 7 --standardise_dosages -output /opt/data/projects/asthma-copd/results/imputed_gwas/GWAS_COPD_only_GLM_SNPs_info0.7-harmonized-imputed-chr16-batch7_10.txt\n",
      "+ set +x\n",
      "+ /opt/data/software/conda_envs/summary_gwas_imputation/bin/python /opt/data/software/summary-gwas-imputation/src/gwas_summary_imputation.py -by_region_file /opt/data/data/eur_ld.bed.gz -gwas_file /opt/data/projects/asthma-copd/results/harmonized_gwas/GWAS_COPD_only_GLM_SNPs_info0.7-harmonized.txt -parquet_genotype /opt/data/data/phenomexcan/ld_blocks/reference_panel_1000G/chr16.variants.parquet -parquet_genotype_metadata /opt/data/data/phenomexcan/ld_blocks/reference_panel_1000G/variant_metadata.parquet -window 100000 -parsimony 7 -chromosome 16 -regularization 0.1 -frequency_filter 0.01 -sub_batches 10 -sub_batch 8 --standardise_dosages -output /opt/data/projects/asthma-copd/results/imputed_gwas/GWAS_COPD_only_GLM_SNPs_info0.7-harmonized-imputed-chr16-batch8_10.txt\n",
      "+ set +x\n",
      "+ /opt/data/software/conda_envs/summary_gwas_imputation/bin/python /opt/data/software/summary-gwas-imputation/src/gwas_summary_imputation.py -by_region_file /opt/data/data/eur_ld.bed.gz -gwas_file /opt/data/projects/asthma-copd/results/harmonized_gwas/GWAS_COPD_only_GLM_SNPs_info0.7-harmonized.txt -parquet_genotype /opt/data/data/phenomexcan/ld_blocks/reference_panel_1000G/chr16.variants.parquet -parquet_genotype_metadata /opt/data/data/phenomexcan/ld_blocks/reference_panel_1000G/variant_metadata.parquet -window 100000 -parsimony 7 -chromosome 16 -regularization 0.1 -frequency_filter 0.01 -sub_batches 10 -sub_batch 9 --standardise_dosages -output /opt/data/projects/asthma-copd/results/imputed_gwas/GWAS_COPD_only_GLM_SNPs_info0.7-harmonized-imputed-chr16-batch9_10.txt\n",
      "+ set +x\n",
      "+ /opt/data/software/conda_envs/summary_gwas_imputation/bin/python /opt/data/software/summary-gwas-imputation/src/gwas_summary_imputation.py -by_region_file /opt/data/data/eur_ld.bed.gz -gwas_file /opt/data/projects/asthma-copd/results/harmonized_gwas/GWAS_COPD_only_GLM_SNPs_info0.7-harmonized.txt -parquet_genotype /opt/data/data/phenomexcan/ld_blocks/reference_panel_1000G/chr17.variants.parquet -parquet_genotype_metadata /opt/data/data/phenomexcan/ld_blocks/reference_panel_1000G/variant_metadata.parquet -window 100000 -parsimony 7 -chromosome 17 -regularization 0.1 -frequency_filter 0.01 -sub_batches 10 -sub_batch 0 --standardise_dosages -output /opt/data/projects/asthma-copd/results/imputed_gwas/GWAS_COPD_only_GLM_SNPs_info0.7-harmonized-imputed-chr17-batch0_10.txt\n",
      "+ set +x\n",
      "+ /opt/data/software/conda_envs/summary_gwas_imputation/bin/python /opt/data/software/summary-gwas-imputation/src/gwas_summary_imputation.py -by_region_file /opt/data/data/eur_ld.bed.gz -gwas_file /opt/data/projects/asthma-copd/results/harmonized_gwas/GWAS_COPD_only_GLM_SNPs_info0.7-harmonized.txt -parquet_genotype /opt/data/data/phenomexcan/ld_blocks/reference_panel_1000G/chr17.variants.parquet -parquet_genotype_metadata /opt/data/data/phenomexcan/ld_blocks/reference_panel_1000G/variant_metadata.parquet -window 100000 -parsimony 7 -chromosome 17 -regularization 0.1 -frequency_filter 0.01 -sub_batches 10 -sub_batch 1 --standardise_dosages -output /opt/data/projects/asthma-copd/results/imputed_gwas/GWAS_COPD_only_GLM_SNPs_info0.7-harmonized-imputed-chr17-batch1_10.txt\n",
      "+ set +x\n",
      "+ /opt/data/software/conda_envs/summary_gwas_imputation/bin/python /opt/data/software/summary-gwas-imputation/src/gwas_summary_imputation.py -by_region_file /opt/data/data/eur_ld.bed.gz -gwas_file /opt/data/projects/asthma-copd/results/harmonized_gwas/GWAS_COPD_only_GLM_SNPs_info0.7-harmonized.txt -parquet_genotype /opt/data/data/phenomexcan/ld_blocks/reference_panel_1000G/chr17.variants.parquet -parquet_genotype_metadata /opt/data/data/phenomexcan/ld_blocks/reference_panel_1000G/variant_metadata.parquet -window 100000 -parsimony 7 -chromosome 17 -regularization 0.1 -frequency_filter 0.01 -sub_batches 10 -sub_batch 2 --standardise_dosages -output /opt/data/projects/asthma-copd/results/imputed_gwas/GWAS_COPD_only_GLM_SNPs_info0.7-harmonized-imputed-chr17-batch2_10.txt\n",
      "+ set +x\n",
      "+ /opt/data/software/conda_envs/summary_gwas_imputation/bin/python /opt/data/software/summary-gwas-imputation/src/gwas_summary_imputation.py -by_region_file /opt/data/data/eur_ld.bed.gz -gwas_file /opt/data/projects/asthma-copd/results/harmonized_gwas/GWAS_COPD_only_GLM_SNPs_info0.7-harmonized.txt -parquet_genotype /opt/data/data/phenomexcan/ld_blocks/reference_panel_1000G/chr17.variants.parquet -parquet_genotype_metadata /opt/data/data/phenomexcan/ld_blocks/reference_panel_1000G/variant_metadata.parquet -window 100000 -parsimony 7 -chromosome 17 -regularization 0.1 -frequency_filter 0.01 -sub_batches 10 -sub_batch 3 --standardise_dosages -output /opt/data/projects/asthma-copd/results/imputed_gwas/GWAS_COPD_only_GLM_SNPs_info0.7-harmonized-imputed-chr17-batch3_10.txt\n",
      "+ set +x\n",
      "+ /opt/data/software/conda_envs/summary_gwas_imputation/bin/python /opt/data/software/summary-gwas-imputation/src/gwas_summary_imputation.py -by_region_file /opt/data/data/eur_ld.bed.gz -gwas_file /opt/data/projects/asthma-copd/results/harmonized_gwas/GWAS_COPD_only_GLM_SNPs_info0.7-harmonized.txt -parquet_genotype /opt/data/data/phenomexcan/ld_blocks/reference_panel_1000G/chr17.variants.parquet -parquet_genotype_metadata /opt/data/data/phenomexcan/ld_blocks/reference_panel_1000G/variant_metadata.parquet -window 100000 -parsimony 7 -chromosome 17 -regularization 0.1 -frequency_filter 0.01 -sub_batches 10 -sub_batch 4 --standardise_dosages -output /opt/data/projects/asthma-copd/results/imputed_gwas/GWAS_COPD_only_GLM_SNPs_info0.7-harmonized-imputed-chr17-batch4_10.txt\n",
      "+ set +x\n",
      "+ /opt/data/software/conda_envs/summary_gwas_imputation/bin/python /opt/data/software/summary-gwas-imputation/src/gwas_summary_imputation.py -by_region_file /opt/data/data/eur_ld.bed.gz -gwas_file /opt/data/projects/asthma-copd/results/harmonized_gwas/GWAS_COPD_only_GLM_SNPs_info0.7-harmonized.txt -parquet_genotype /opt/data/data/phenomexcan/ld_blocks/reference_panel_1000G/chr17.variants.parquet -parquet_genotype_metadata /opt/data/data/phenomexcan/ld_blocks/reference_panel_1000G/variant_metadata.parquet -window 100000 -parsimony 7 -chromosome 17 -regularization 0.1 -frequency_filter 0.01 -sub_batches 10 -sub_batch 5 --standardise_dosages -output /opt/data/projects/asthma-copd/results/imputed_gwas/GWAS_COPD_only_GLM_SNPs_info0.7-harmonized-imputed-chr17-batch5_10.txt\n",
      "+ set +x\n"
     ]
    },
    {
     "name": "stdout",
     "output_type": "stream",
     "text": [
      "Running for copd_only, 17, 6\n",
      "Saving results in /opt/data/projects/asthma-copd/results/imputed_gwas\n",
      "/opt/data/software/conda_envs/summary_gwas_imputation/lib/python3.7/site-packages/pyarrow/pandas_compat.py:752: FutureWarning: .labels was deprecated in version 0.24.0. Use .codes instead.\n",
      "\n",
      "Running for copd_only, 17, 7\n",
      "Saving results in /opt/data/projects/asthma-copd/results/imputed_gwas\n"
     ]
    },
    {
     "name": "stderr",
     "output_type": "stream",
     "text": [
      "+ /opt/data/software/conda_envs/summary_gwas_imputation/bin/python /opt/data/software/summary-gwas-imputation/src/gwas_summary_imputation.py -by_region_file /opt/data/data/eur_ld.bed.gz -gwas_file /opt/data/projects/asthma-copd/results/harmonized_gwas/GWAS_COPD_only_GLM_SNPs_info0.7-harmonized.txt -parquet_genotype /opt/data/data/phenomexcan/ld_blocks/reference_panel_1000G/chr17.variants.parquet -parquet_genotype_metadata /opt/data/data/phenomexcan/ld_blocks/reference_panel_1000G/variant_metadata.parquet -window 100000 -parsimony 7 -chromosome 17 -regularization 0.1 -frequency_filter 0.01 -sub_batches 10 -sub_batch 6 --standardise_dosages -output /opt/data/projects/asthma-copd/results/imputed_gwas/GWAS_COPD_only_GLM_SNPs_info0.7-harmonized-imputed-chr17-batch6_10.txt\n",
      "+ set +x\n",
      "+ /opt/data/software/conda_envs/summary_gwas_imputation/bin/python /opt/data/software/summary-gwas-imputation/src/gwas_summary_imputation.py -by_region_file /opt/data/data/eur_ld.bed.gz -gwas_file /opt/data/projects/asthma-copd/results/harmonized_gwas/GWAS_COPD_only_GLM_SNPs_info0.7-harmonized.txt -parquet_genotype /opt/data/data/phenomexcan/ld_blocks/reference_panel_1000G/chr17.variants.parquet -parquet_genotype_metadata /opt/data/data/phenomexcan/ld_blocks/reference_panel_1000G/variant_metadata.parquet -window 100000 -parsimony 7 -chromosome 17 -regularization 0.1 -frequency_filter 0.01 -sub_batches 10 -sub_batch 7 --standardise_dosages -output /opt/data/projects/asthma-copd/results/imputed_gwas/GWAS_COPD_only_GLM_SNPs_info0.7-harmonized-imputed-chr17-batch7_10.txt\n"
     ]
    },
    {
     "name": "stdout",
     "output_type": "stream",
     "text": [
      "/opt/data/software/conda_envs/summary_gwas_imputation/lib/python3.7/site-packages/pyarrow/pandas_compat.py:752: FutureWarning: .labels was deprecated in version 0.24.0. Use .codes instead.\n",
      "\n"
     ]
    },
    {
     "name": "stderr",
     "output_type": "stream",
     "text": [
      "+ set +x\n"
     ]
    },
    {
     "name": "stdout",
     "output_type": "stream",
     "text": [
      "Running for copd_only, 17, 8\n",
      "Saving results in /opt/data/projects/asthma-copd/results/imputed_gwas\n"
     ]
    },
    {
     "name": "stderr",
     "output_type": "stream",
     "text": [
      "+ /opt/data/software/conda_envs/summary_gwas_imputation/bin/python /opt/data/software/summary-gwas-imputation/src/gwas_summary_imputation.py -by_region_file /opt/data/data/eur_ld.bed.gz -gwas_file /opt/data/projects/asthma-copd/results/harmonized_gwas/GWAS_COPD_only_GLM_SNPs_info0.7-harmonized.txt -parquet_genotype /opt/data/data/phenomexcan/ld_blocks/reference_panel_1000G/chr17.variants.parquet -parquet_genotype_metadata /opt/data/data/phenomexcan/ld_blocks/reference_panel_1000G/variant_metadata.parquet -window 100000 -parsimony 7 -chromosome 17 -regularization 0.1 -frequency_filter 0.01 -sub_batches 10 -sub_batch 8 --standardise_dosages -output /opt/data/projects/asthma-copd/results/imputed_gwas/GWAS_COPD_only_GLM_SNPs_info0.7-harmonized-imputed-chr17-batch8_10.txt\n"
     ]
    },
    {
     "name": "stdout",
     "output_type": "stream",
     "text": [
      "/opt/data/software/conda_envs/summary_gwas_imputation/lib/python3.7/site-packages/pyarrow/pandas_compat.py:752: FutureWarning: .labels was deprecated in version 0.24.0. Use .codes instead.\n",
      "\n"
     ]
    },
    {
     "name": "stderr",
     "output_type": "stream",
     "text": [
      "+ set +x\n"
     ]
    },
    {
     "name": "stdout",
     "output_type": "stream",
     "text": [
      "Running for copd_only, 17, 9\n",
      "Saving results in /opt/data/projects/asthma-copd/results/imputed_gwas\n",
      "/opt/data/software/conda_envs/summary_gwas_imputation/lib/python3.7/site-packages/pyarrow/pandas_compat.py:752: FutureWarning: .labels was deprecated in version 0.24.0. Use .codes instead.\n",
      "\n"
     ]
    },
    {
     "name": "stderr",
     "output_type": "stream",
     "text": [
      "+ /opt/data/software/conda_envs/summary_gwas_imputation/bin/python /opt/data/software/summary-gwas-imputation/src/gwas_summary_imputation.py -by_region_file /opt/data/data/eur_ld.bed.gz -gwas_file /opt/data/projects/asthma-copd/results/harmonized_gwas/GWAS_COPD_only_GLM_SNPs_info0.7-harmonized.txt -parquet_genotype /opt/data/data/phenomexcan/ld_blocks/reference_panel_1000G/chr17.variants.parquet -parquet_genotype_metadata /opt/data/data/phenomexcan/ld_blocks/reference_panel_1000G/variant_metadata.parquet -window 100000 -parsimony 7 -chromosome 17 -regularization 0.1 -frequency_filter 0.01 -sub_batches 10 -sub_batch 9 --standardise_dosages -output /opt/data/projects/asthma-copd/results/imputed_gwas/GWAS_COPD_only_GLM_SNPs_info0.7-harmonized-imputed-chr17-batch9_10.txt\n",
      "+ set +x\n"
     ]
    },
    {
     "name": "stdout",
     "output_type": "stream",
     "text": [
      "Running for copd_only, 18, 0\n",
      "Saving results in /opt/data/projects/asthma-copd/results/imputed_gwas\n",
      "/opt/data/software/conda_envs/summary_gwas_imputation/lib/python3.7/site-packages/pyarrow/pandas_compat.py:752: FutureWarning: .labels was deprecated in version 0.24.0. Use .codes instead.\n",
      "\n",
      "Running for copd_only, 18, 1\n",
      "Saving results in /opt/data/projects/asthma-copd/results/imputed_gwas\n"
     ]
    },
    {
     "name": "stderr",
     "output_type": "stream",
     "text": [
      "+ /opt/data/software/conda_envs/summary_gwas_imputation/bin/python /opt/data/software/summary-gwas-imputation/src/gwas_summary_imputation.py -by_region_file /opt/data/data/eur_ld.bed.gz -gwas_file /opt/data/projects/asthma-copd/results/harmonized_gwas/GWAS_COPD_only_GLM_SNPs_info0.7-harmonized.txt -parquet_genotype /opt/data/data/phenomexcan/ld_blocks/reference_panel_1000G/chr18.variants.parquet -parquet_genotype_metadata /opt/data/data/phenomexcan/ld_blocks/reference_panel_1000G/variant_metadata.parquet -window 100000 -parsimony 7 -chromosome 18 -regularization 0.1 -frequency_filter 0.01 -sub_batches 10 -sub_batch 0 --standardise_dosages -output /opt/data/projects/asthma-copd/results/imputed_gwas/GWAS_COPD_only_GLM_SNPs_info0.7-harmonized-imputed-chr18-batch0_10.txt\n",
      "+ set +x\n",
      "+ /opt/data/software/conda_envs/summary_gwas_imputation/bin/python /opt/data/software/summary-gwas-imputation/src/gwas_summary_imputation.py -by_region_file /opt/data/data/eur_ld.bed.gz -gwas_file /opt/data/projects/asthma-copd/results/harmonized_gwas/GWAS_COPD_only_GLM_SNPs_info0.7-harmonized.txt -parquet_genotype /opt/data/data/phenomexcan/ld_blocks/reference_panel_1000G/chr18.variants.parquet -parquet_genotype_metadata /opt/data/data/phenomexcan/ld_blocks/reference_panel_1000G/variant_metadata.parquet -window 100000 -parsimony 7 -chromosome 18 -regularization 0.1 -frequency_filter 0.01 -sub_batches 10 -sub_batch 1 --standardise_dosages -output /opt/data/projects/asthma-copd/results/imputed_gwas/GWAS_COPD_only_GLM_SNPs_info0.7-harmonized-imputed-chr18-batch1_10.txt\n"
     ]
    },
    {
     "name": "stdout",
     "output_type": "stream",
     "text": [
      "/opt/data/software/conda_envs/summary_gwas_imputation/lib/python3.7/site-packages/pyarrow/pandas_compat.py:752: FutureWarning: .labels was deprecated in version 0.24.0. Use .codes instead.\n",
      "\n"
     ]
    },
    {
     "name": "stderr",
     "output_type": "stream",
     "text": [
      "+ set +x\n"
     ]
    },
    {
     "name": "stdout",
     "output_type": "stream",
     "text": [
      "Running for copd_only, 18, 2\n",
      "Saving results in /opt/data/projects/asthma-copd/results/imputed_gwas\n",
      "/opt/data/software/conda_envs/summary_gwas_imputation/lib/python3.7/site-packages/pyarrow/pandas_compat.py:752: FutureWarning: .labels was deprecated in version 0.24.0. Use .codes instead.\n",
      "\n"
     ]
    },
    {
     "name": "stderr",
     "output_type": "stream",
     "text": [
      "+ /opt/data/software/conda_envs/summary_gwas_imputation/bin/python /opt/data/software/summary-gwas-imputation/src/gwas_summary_imputation.py -by_region_file /opt/data/data/eur_ld.bed.gz -gwas_file /opt/data/projects/asthma-copd/results/harmonized_gwas/GWAS_COPD_only_GLM_SNPs_info0.7-harmonized.txt -parquet_genotype /opt/data/data/phenomexcan/ld_blocks/reference_panel_1000G/chr18.variants.parquet -parquet_genotype_metadata /opt/data/data/phenomexcan/ld_blocks/reference_panel_1000G/variant_metadata.parquet -window 100000 -parsimony 7 -chromosome 18 -regularization 0.1 -frequency_filter 0.01 -sub_batches 10 -sub_batch 2 --standardise_dosages -output /opt/data/projects/asthma-copd/results/imputed_gwas/GWAS_COPD_only_GLM_SNPs_info0.7-harmonized-imputed-chr18-batch2_10.txt\n",
      "+ set +x\n"
     ]
    },
    {
     "name": "stdout",
     "output_type": "stream",
     "text": [
      "Running for copd_only, 18, 3\n",
      "Saving results in /opt/data/projects/asthma-copd/results/imputed_gwas\n",
      "/opt/data/software/conda_envs/summary_gwas_imputation/lib/python3.7/site-packages/pyarrow/pandas_compat.py:752: FutureWarning: .labels was deprecated in version 0.24.0. Use .codes instead.\n",
      "\n",
      "Running for copd_only, 18, 4\n",
      "Saving results in /opt/data/projects/asthma-copd/results/imputed_gwas\n",
      "/opt/data/software/conda_envs/summary_gwas_imputation/lib/python3.7/site-packages/pyarrow/pandas_compat.py:752: FutureWarning: .labels was deprecated in version 0.24.0. Use .codes instead.\n",
      "\n",
      "Running for copd_only, 18, 5\n",
      "Saving results in /opt/data/projects/asthma-copd/results/imputed_gwas\n"
     ]
    },
    {
     "name": "stderr",
     "output_type": "stream",
     "text": [
      "+ /opt/data/software/conda_envs/summary_gwas_imputation/bin/python /opt/data/software/summary-gwas-imputation/src/gwas_summary_imputation.py -by_region_file /opt/data/data/eur_ld.bed.gz -gwas_file /opt/data/projects/asthma-copd/results/harmonized_gwas/GWAS_COPD_only_GLM_SNPs_info0.7-harmonized.txt -parquet_genotype /opt/data/data/phenomexcan/ld_blocks/reference_panel_1000G/chr18.variants.parquet -parquet_genotype_metadata /opt/data/data/phenomexcan/ld_blocks/reference_panel_1000G/variant_metadata.parquet -window 100000 -parsimony 7 -chromosome 18 -regularization 0.1 -frequency_filter 0.01 -sub_batches 10 -sub_batch 3 --standardise_dosages -output /opt/data/projects/asthma-copd/results/imputed_gwas/GWAS_COPD_only_GLM_SNPs_info0.7-harmonized-imputed-chr18-batch3_10.txt\n",
      "+ set +x\n",
      "+ /opt/data/software/conda_envs/summary_gwas_imputation/bin/python /opt/data/software/summary-gwas-imputation/src/gwas_summary_imputation.py -by_region_file /opt/data/data/eur_ld.bed.gz -gwas_file /opt/data/projects/asthma-copd/results/harmonized_gwas/GWAS_COPD_only_GLM_SNPs_info0.7-harmonized.txt -parquet_genotype /opt/data/data/phenomexcan/ld_blocks/reference_panel_1000G/chr18.variants.parquet -parquet_genotype_metadata /opt/data/data/phenomexcan/ld_blocks/reference_panel_1000G/variant_metadata.parquet -window 100000 -parsimony 7 -chromosome 18 -regularization 0.1 -frequency_filter 0.01 -sub_batches 10 -sub_batch 4 --standardise_dosages -output /opt/data/projects/asthma-copd/results/imputed_gwas/GWAS_COPD_only_GLM_SNPs_info0.7-harmonized-imputed-chr18-batch4_10.txt\n",
      "+ set +x\n",
      "+ /opt/data/software/conda_envs/summary_gwas_imputation/bin/python /opt/data/software/summary-gwas-imputation/src/gwas_summary_imputation.py -by_region_file /opt/data/data/eur_ld.bed.gz -gwas_file /opt/data/projects/asthma-copd/results/harmonized_gwas/GWAS_COPD_only_GLM_SNPs_info0.7-harmonized.txt -parquet_genotype /opt/data/data/phenomexcan/ld_blocks/reference_panel_1000G/chr18.variants.parquet -parquet_genotype_metadata /opt/data/data/phenomexcan/ld_blocks/reference_panel_1000G/variant_metadata.parquet -window 100000 -parsimony 7 -chromosome 18 -regularization 0.1 -frequency_filter 0.01 -sub_batches 10 -sub_batch 5 --standardise_dosages -output /opt/data/projects/asthma-copd/results/imputed_gwas/GWAS_COPD_only_GLM_SNPs_info0.7-harmonized-imputed-chr18-batch5_10.txt\n"
     ]
    },
    {
     "name": "stdout",
     "output_type": "stream",
     "text": [
      "/opt/data/software/conda_envs/summary_gwas_imputation/lib/python3.7/site-packages/pyarrow/pandas_compat.py:752: FutureWarning: .labels was deprecated in version 0.24.0. Use .codes instead.\n",
      "\n"
     ]
    },
    {
     "name": "stderr",
     "output_type": "stream",
     "text": [
      "+ set +x\n"
     ]
    },
    {
     "name": "stdout",
     "output_type": "stream",
     "text": [
      "Running for copd_only, 18, 6\n",
      "Saving results in /opt/data/projects/asthma-copd/results/imputed_gwas\n",
      "/opt/data/software/conda_envs/summary_gwas_imputation/lib/python3.7/site-packages/pyarrow/pandas_compat.py:752: FutureWarning: .labels was deprecated in version 0.24.0. Use .codes instead.\n",
      "\n",
      "Running for copd_only, 18, 7\n",
      "Saving results in /opt/data/projects/asthma-copd/results/imputed_gwas\n",
      "/opt/data/software/conda_envs/summary_gwas_imputation/lib/python3.7/site-packages/pyarrow/pandas_compat.py:752: FutureWarning: .labels was deprecated in version 0.24.0. Use .codes instead.\n",
      "\n"
     ]
    },
    {
     "name": "stderr",
     "output_type": "stream",
     "text": [
      "+ /opt/data/software/conda_envs/summary_gwas_imputation/bin/python /opt/data/software/summary-gwas-imputation/src/gwas_summary_imputation.py -by_region_file /opt/data/data/eur_ld.bed.gz -gwas_file /opt/data/projects/asthma-copd/results/harmonized_gwas/GWAS_COPD_only_GLM_SNPs_info0.7-harmonized.txt -parquet_genotype /opt/data/data/phenomexcan/ld_blocks/reference_panel_1000G/chr18.variants.parquet -parquet_genotype_metadata /opt/data/data/phenomexcan/ld_blocks/reference_panel_1000G/variant_metadata.parquet -window 100000 -parsimony 7 -chromosome 18 -regularization 0.1 -frequency_filter 0.01 -sub_batches 10 -sub_batch 6 --standardise_dosages -output /opt/data/projects/asthma-copd/results/imputed_gwas/GWAS_COPD_only_GLM_SNPs_info0.7-harmonized-imputed-chr18-batch6_10.txt\n",
      "+ set +x\n",
      "+ /opt/data/software/conda_envs/summary_gwas_imputation/bin/python /opt/data/software/summary-gwas-imputation/src/gwas_summary_imputation.py -by_region_file /opt/data/data/eur_ld.bed.gz -gwas_file /opt/data/projects/asthma-copd/results/harmonized_gwas/GWAS_COPD_only_GLM_SNPs_info0.7-harmonized.txt -parquet_genotype /opt/data/data/phenomexcan/ld_blocks/reference_panel_1000G/chr18.variants.parquet -parquet_genotype_metadata /opt/data/data/phenomexcan/ld_blocks/reference_panel_1000G/variant_metadata.parquet -window 100000 -parsimony 7 -chromosome 18 -regularization 0.1 -frequency_filter 0.01 -sub_batches 10 -sub_batch 7 --standardise_dosages -output /opt/data/projects/asthma-copd/results/imputed_gwas/GWAS_COPD_only_GLM_SNPs_info0.7-harmonized-imputed-chr18-batch7_10.txt\n",
      "+ set +x\n",
      "+ /opt/data/software/conda_envs/summary_gwas_imputation/bin/python /opt/data/software/summary-gwas-imputation/src/gwas_summary_imputation.py -by_region_file /opt/data/data/eur_ld.bed.gz -gwas_file /opt/data/projects/asthma-copd/results/harmonized_gwas/GWAS_COPD_only_GLM_SNPs_info0.7-harmonized.txt -parquet_genotype /opt/data/data/phenomexcan/ld_blocks/reference_panel_1000G/chr18.variants.parquet -parquet_genotype_metadata /opt/data/data/phenomexcan/ld_blocks/reference_panel_1000G/variant_metadata.parquet -window 100000 -parsimony 7 -chromosome 18 -regularization 0.1 -frequency_filter 0.01 -sub_batches 10 -sub_batch 8 --standardise_dosages -output /opt/data/projects/asthma-copd/results/imputed_gwas/GWAS_COPD_only_GLM_SNPs_info0.7-harmonized-imputed-chr18-batch8_10.txt\n",
      "+ set +x\n"
     ]
    },
    {
     "name": "stdout",
     "output_type": "stream",
     "text": [
      "Running for copd_only, 18, 8\n",
      "Saving results in /opt/data/projects/asthma-copd/results/imputed_gwas\n",
      "/opt/data/software/conda_envs/summary_gwas_imputation/lib/python3.7/site-packages/pyarrow/pandas_compat.py:752: FutureWarning: .labels was deprecated in version 0.24.0. Use .codes instead.\n",
      "\n",
      "Running for copd_only, 18, 9\n",
      "Saving results in /opt/data/projects/asthma-copd/results/imputed_gwas\n",
      "/opt/data/software/conda_envs/summary_gwas_imputation/lib/python3.7/site-packages/pyarrow/pandas_compat.py:752: FutureWarning: .labels was deprecated in version 0.24.0. Use .codes instead.\n",
      "\n"
     ]
    },
    {
     "name": "stderr",
     "output_type": "stream",
     "text": [
      "+ /opt/data/software/conda_envs/summary_gwas_imputation/bin/python /opt/data/software/summary-gwas-imputation/src/gwas_summary_imputation.py -by_region_file /opt/data/data/eur_ld.bed.gz -gwas_file /opt/data/projects/asthma-copd/results/harmonized_gwas/GWAS_COPD_only_GLM_SNPs_info0.7-harmonized.txt -parquet_genotype /opt/data/data/phenomexcan/ld_blocks/reference_panel_1000G/chr18.variants.parquet -parquet_genotype_metadata /opt/data/data/phenomexcan/ld_blocks/reference_panel_1000G/variant_metadata.parquet -window 100000 -parsimony 7 -chromosome 18 -regularization 0.1 -frequency_filter 0.01 -sub_batches 10 -sub_batch 9 --standardise_dosages -output /opt/data/projects/asthma-copd/results/imputed_gwas/GWAS_COPD_only_GLM_SNPs_info0.7-harmonized-imputed-chr18-batch9_10.txt\n",
      "+ set +x\n",
      "+ /opt/data/software/conda_envs/summary_gwas_imputation/bin/python /opt/data/software/summary-gwas-imputation/src/gwas_summary_imputation.py -by_region_file /opt/data/data/eur_ld.bed.gz -gwas_file /opt/data/projects/asthma-copd/results/harmonized_gwas/GWAS_COPD_only_GLM_SNPs_info0.7-harmonized.txt -parquet_genotype /opt/data/data/phenomexcan/ld_blocks/reference_panel_1000G/chr19.variants.parquet -parquet_genotype_metadata /opt/data/data/phenomexcan/ld_blocks/reference_panel_1000G/variant_metadata.parquet -window 100000 -parsimony 7 -chromosome 19 -regularization 0.1 -frequency_filter 0.01 -sub_batches 10 -sub_batch 0 --standardise_dosages -output /opt/data/projects/asthma-copd/results/imputed_gwas/GWAS_COPD_only_GLM_SNPs_info0.7-harmonized-imputed-chr19-batch0_10.txt\n",
      "+ set +x\n",
      "+ /opt/data/software/conda_envs/summary_gwas_imputation/bin/python /opt/data/software/summary-gwas-imputation/src/gwas_summary_imputation.py -by_region_file /opt/data/data/eur_ld.bed.gz -gwas_file /opt/data/projects/asthma-copd/results/harmonized_gwas/GWAS_COPD_only_GLM_SNPs_info0.7-harmonized.txt -parquet_genotype /opt/data/data/phenomexcan/ld_blocks/reference_panel_1000G/chr19.variants.parquet -parquet_genotype_metadata /opt/data/data/phenomexcan/ld_blocks/reference_panel_1000G/variant_metadata.parquet -window 100000 -parsimony 7 -chromosome 19 -regularization 0.1 -frequency_filter 0.01 -sub_batches 10 -sub_batch 1 --standardise_dosages -output /opt/data/projects/asthma-copd/results/imputed_gwas/GWAS_COPD_only_GLM_SNPs_info0.7-harmonized-imputed-chr19-batch1_10.txt\n",
      "+ set +x\n",
      "+ /opt/data/software/conda_envs/summary_gwas_imputation/bin/python /opt/data/software/summary-gwas-imputation/src/gwas_summary_imputation.py -by_region_file /opt/data/data/eur_ld.bed.gz -gwas_file /opt/data/projects/asthma-copd/results/harmonized_gwas/GWAS_COPD_only_GLM_SNPs_info0.7-harmonized.txt -parquet_genotype /opt/data/data/phenomexcan/ld_blocks/reference_panel_1000G/chr19.variants.parquet -parquet_genotype_metadata /opt/data/data/phenomexcan/ld_blocks/reference_panel_1000G/variant_metadata.parquet -window 100000 -parsimony 7 -chromosome 19 -regularization 0.1 -frequency_filter 0.01 -sub_batches 10 -sub_batch 2 --standardise_dosages -output /opt/data/projects/asthma-copd/results/imputed_gwas/GWAS_COPD_only_GLM_SNPs_info0.7-harmonized-imputed-chr19-batch2_10.txt\n",
      "+ set +x\n",
      "+ /opt/data/software/conda_envs/summary_gwas_imputation/bin/python /opt/data/software/summary-gwas-imputation/src/gwas_summary_imputation.py -by_region_file /opt/data/data/eur_ld.bed.gz -gwas_file /opt/data/projects/asthma-copd/results/harmonized_gwas/GWAS_COPD_only_GLM_SNPs_info0.7-harmonized.txt -parquet_genotype /opt/data/data/phenomexcan/ld_blocks/reference_panel_1000G/chr19.variants.parquet -parquet_genotype_metadata /opt/data/data/phenomexcan/ld_blocks/reference_panel_1000G/variant_metadata.parquet -window 100000 -parsimony 7 -chromosome 19 -regularization 0.1 -frequency_filter 0.01 -sub_batches 10 -sub_batch 3 --standardise_dosages -output /opt/data/projects/asthma-copd/results/imputed_gwas/GWAS_COPD_only_GLM_SNPs_info0.7-harmonized-imputed-chr19-batch3_10.txt\n",
      "+ set +x\n",
      "+ /opt/data/software/conda_envs/summary_gwas_imputation/bin/python /opt/data/software/summary-gwas-imputation/src/gwas_summary_imputation.py -by_region_file /opt/data/data/eur_ld.bed.gz -gwas_file /opt/data/projects/asthma-copd/results/harmonized_gwas/GWAS_COPD_only_GLM_SNPs_info0.7-harmonized.txt -parquet_genotype /opt/data/data/phenomexcan/ld_blocks/reference_panel_1000G/chr19.variants.parquet -parquet_genotype_metadata /opt/data/data/phenomexcan/ld_blocks/reference_panel_1000G/variant_metadata.parquet -window 100000 -parsimony 7 -chromosome 19 -regularization 0.1 -frequency_filter 0.01 -sub_batches 10 -sub_batch 4 --standardise_dosages -output /opt/data/projects/asthma-copd/results/imputed_gwas/GWAS_COPD_only_GLM_SNPs_info0.7-harmonized-imputed-chr19-batch4_10.txt\n",
      "+ set +x\n",
      "+ /opt/data/software/conda_envs/summary_gwas_imputation/bin/python /opt/data/software/summary-gwas-imputation/src/gwas_summary_imputation.py -by_region_file /opt/data/data/eur_ld.bed.gz -gwas_file /opt/data/projects/asthma-copd/results/harmonized_gwas/GWAS_COPD_only_GLM_SNPs_info0.7-harmonized.txt -parquet_genotype /opt/data/data/phenomexcan/ld_blocks/reference_panel_1000G/chr19.variants.parquet -parquet_genotype_metadata /opt/data/data/phenomexcan/ld_blocks/reference_panel_1000G/variant_metadata.parquet -window 100000 -parsimony 7 -chromosome 19 -regularization 0.1 -frequency_filter 0.01 -sub_batches 10 -sub_batch 5 --standardise_dosages -output /opt/data/projects/asthma-copd/results/imputed_gwas/GWAS_COPD_only_GLM_SNPs_info0.7-harmonized-imputed-chr19-batch5_10.txt\n",
      "+ set +x\n",
      "+ /opt/data/software/conda_envs/summary_gwas_imputation/bin/python /opt/data/software/summary-gwas-imputation/src/gwas_summary_imputation.py -by_region_file /opt/data/data/eur_ld.bed.gz -gwas_file /opt/data/projects/asthma-copd/results/harmonized_gwas/GWAS_COPD_only_GLM_SNPs_info0.7-harmonized.txt -parquet_genotype /opt/data/data/phenomexcan/ld_blocks/reference_panel_1000G/chr19.variants.parquet -parquet_genotype_metadata /opt/data/data/phenomexcan/ld_blocks/reference_panel_1000G/variant_metadata.parquet -window 100000 -parsimony 7 -chromosome 19 -regularization 0.1 -frequency_filter 0.01 -sub_batches 10 -sub_batch 6 --standardise_dosages -output /opt/data/projects/asthma-copd/results/imputed_gwas/GWAS_COPD_only_GLM_SNPs_info0.7-harmonized-imputed-chr19-batch6_10.txt\n",
      "+ set +x\n",
      "+ /opt/data/software/conda_envs/summary_gwas_imputation/bin/python /opt/data/software/summary-gwas-imputation/src/gwas_summary_imputation.py -by_region_file /opt/data/data/eur_ld.bed.gz -gwas_file /opt/data/projects/asthma-copd/results/harmonized_gwas/GWAS_COPD_only_GLM_SNPs_info0.7-harmonized.txt -parquet_genotype /opt/data/data/phenomexcan/ld_blocks/reference_panel_1000G/chr19.variants.parquet -parquet_genotype_metadata /opt/data/data/phenomexcan/ld_blocks/reference_panel_1000G/variant_metadata.parquet -window 100000 -parsimony 7 -chromosome 19 -regularization 0.1 -frequency_filter 0.01 -sub_batches 10 -sub_batch 7 --standardise_dosages -output /opt/data/projects/asthma-copd/results/imputed_gwas/GWAS_COPD_only_GLM_SNPs_info0.7-harmonized-imputed-chr19-batch7_10.txt\n",
      "+ set +x\n",
      "+ /opt/data/software/conda_envs/summary_gwas_imputation/bin/python /opt/data/software/summary-gwas-imputation/src/gwas_summary_imputation.py -by_region_file /opt/data/data/eur_ld.bed.gz -gwas_file /opt/data/projects/asthma-copd/results/harmonized_gwas/GWAS_COPD_only_GLM_SNPs_info0.7-harmonized.txt -parquet_genotype /opt/data/data/phenomexcan/ld_blocks/reference_panel_1000G/chr19.variants.parquet -parquet_genotype_metadata /opt/data/data/phenomexcan/ld_blocks/reference_panel_1000G/variant_metadata.parquet -window 100000 -parsimony 7 -chromosome 19 -regularization 0.1 -frequency_filter 0.01 -sub_batches 10 -sub_batch 8 --standardise_dosages -output /opt/data/projects/asthma-copd/results/imputed_gwas/GWAS_COPD_only_GLM_SNPs_info0.7-harmonized-imputed-chr19-batch8_10.txt\n",
      "+ set +x\n",
      "+ /opt/data/software/conda_envs/summary_gwas_imputation/bin/python /opt/data/software/summary-gwas-imputation/src/gwas_summary_imputation.py -by_region_file /opt/data/data/eur_ld.bed.gz -gwas_file /opt/data/projects/asthma-copd/results/harmonized_gwas/GWAS_COPD_only_GLM_SNPs_info0.7-harmonized.txt -parquet_genotype /opt/data/data/phenomexcan/ld_blocks/reference_panel_1000G/chr19.variants.parquet -parquet_genotype_metadata /opt/data/data/phenomexcan/ld_blocks/reference_panel_1000G/variant_metadata.parquet -window 100000 -parsimony 7 -chromosome 19 -regularization 0.1 -frequency_filter 0.01 -sub_batches 10 -sub_batch 9 --standardise_dosages -output /opt/data/projects/asthma-copd/results/imputed_gwas/GWAS_COPD_only_GLM_SNPs_info0.7-harmonized-imputed-chr19-batch9_10.txt\n",
      "+ set +x\n",
      "+ /opt/data/software/conda_envs/summary_gwas_imputation/bin/python /opt/data/software/summary-gwas-imputation/src/gwas_summary_imputation.py -by_region_file /opt/data/data/eur_ld.bed.gz -gwas_file /opt/data/projects/asthma-copd/results/harmonized_gwas/GWAS_COPD_only_GLM_SNPs_info0.7-harmonized.txt -parquet_genotype /opt/data/data/phenomexcan/ld_blocks/reference_panel_1000G/chr20.variants.parquet -parquet_genotype_metadata /opt/data/data/phenomexcan/ld_blocks/reference_panel_1000G/variant_metadata.parquet -window 100000 -parsimony 7 -chromosome 20 -regularization 0.1 -frequency_filter 0.01 -sub_batches 10 -sub_batch 0 --standardise_dosages -output /opt/data/projects/asthma-copd/results/imputed_gwas/GWAS_COPD_only_GLM_SNPs_info0.7-harmonized-imputed-chr20-batch0_10.txt\n",
      "+ set +x\n",
      "+ /opt/data/software/conda_envs/summary_gwas_imputation/bin/python /opt/data/software/summary-gwas-imputation/src/gwas_summary_imputation.py -by_region_file /opt/data/data/eur_ld.bed.gz -gwas_file /opt/data/projects/asthma-copd/results/harmonized_gwas/GWAS_COPD_only_GLM_SNPs_info0.7-harmonized.txt -parquet_genotype /opt/data/data/phenomexcan/ld_blocks/reference_panel_1000G/chr20.variants.parquet -parquet_genotype_metadata /opt/data/data/phenomexcan/ld_blocks/reference_panel_1000G/variant_metadata.parquet -window 100000 -parsimony 7 -chromosome 20 -regularization 0.1 -frequency_filter 0.01 -sub_batches 10 -sub_batch 1 --standardise_dosages -output /opt/data/projects/asthma-copd/results/imputed_gwas/GWAS_COPD_only_GLM_SNPs_info0.7-harmonized-imputed-chr20-batch1_10.txt\n",
      "+ set +x\n",
      "+ /opt/data/software/conda_envs/summary_gwas_imputation/bin/python /opt/data/software/summary-gwas-imputation/src/gwas_summary_imputation.py -by_region_file /opt/data/data/eur_ld.bed.gz -gwas_file /opt/data/projects/asthma-copd/results/harmonized_gwas/GWAS_COPD_only_GLM_SNPs_info0.7-harmonized.txt -parquet_genotype /opt/data/data/phenomexcan/ld_blocks/reference_panel_1000G/chr20.variants.parquet -parquet_genotype_metadata /opt/data/data/phenomexcan/ld_blocks/reference_panel_1000G/variant_metadata.parquet -window 100000 -parsimony 7 -chromosome 20 -regularization 0.1 -frequency_filter 0.01 -sub_batches 10 -sub_batch 2 --standardise_dosages -output /opt/data/projects/asthma-copd/results/imputed_gwas/GWAS_COPD_only_GLM_SNPs_info0.7-harmonized-imputed-chr20-batch2_10.txt\n",
      "+ set +x\n",
      "+ /opt/data/software/conda_envs/summary_gwas_imputation/bin/python /opt/data/software/summary-gwas-imputation/src/gwas_summary_imputation.py -by_region_file /opt/data/data/eur_ld.bed.gz -gwas_file /opt/data/projects/asthma-copd/results/harmonized_gwas/GWAS_COPD_only_GLM_SNPs_info0.7-harmonized.txt -parquet_genotype /opt/data/data/phenomexcan/ld_blocks/reference_panel_1000G/chr20.variants.parquet -parquet_genotype_metadata /opt/data/data/phenomexcan/ld_blocks/reference_panel_1000G/variant_metadata.parquet -window 100000 -parsimony 7 -chromosome 20 -regularization 0.1 -frequency_filter 0.01 -sub_batches 10 -sub_batch 3 --standardise_dosages -output /opt/data/projects/asthma-copd/results/imputed_gwas/GWAS_COPD_only_GLM_SNPs_info0.7-harmonized-imputed-chr20-batch3_10.txt\n",
      "+ set +x\n",
      "+ /opt/data/software/conda_envs/summary_gwas_imputation/bin/python /opt/data/software/summary-gwas-imputation/src/gwas_summary_imputation.py -by_region_file /opt/data/data/eur_ld.bed.gz -gwas_file /opt/data/projects/asthma-copd/results/harmonized_gwas/GWAS_COPD_only_GLM_SNPs_info0.7-harmonized.txt -parquet_genotype /opt/data/data/phenomexcan/ld_blocks/reference_panel_1000G/chr20.variants.parquet -parquet_genotype_metadata /opt/data/data/phenomexcan/ld_blocks/reference_panel_1000G/variant_metadata.parquet -window 100000 -parsimony 7 -chromosome 20 -regularization 0.1 -frequency_filter 0.01 -sub_batches 10 -sub_batch 4 --standardise_dosages -output /opt/data/projects/asthma-copd/results/imputed_gwas/GWAS_COPD_only_GLM_SNPs_info0.7-harmonized-imputed-chr20-batch4_10.txt\n",
      "+ set +x\n",
      "+ /opt/data/software/conda_envs/summary_gwas_imputation/bin/python /opt/data/software/summary-gwas-imputation/src/gwas_summary_imputation.py -by_region_file /opt/data/data/eur_ld.bed.gz -gwas_file /opt/data/projects/asthma-copd/results/harmonized_gwas/GWAS_COPD_only_GLM_SNPs_info0.7-harmonized.txt -parquet_genotype /opt/data/data/phenomexcan/ld_blocks/reference_panel_1000G/chr20.variants.parquet -parquet_genotype_metadata /opt/data/data/phenomexcan/ld_blocks/reference_panel_1000G/variant_metadata.parquet -window 100000 -parsimony 7 -chromosome 20 -regularization 0.1 -frequency_filter 0.01 -sub_batches 10 -sub_batch 5 --standardise_dosages -output /opt/data/projects/asthma-copd/results/imputed_gwas/GWAS_COPD_only_GLM_SNPs_info0.7-harmonized-imputed-chr20-batch5_10.txt\n",
      "+ set +x\n",
      "+ /opt/data/software/conda_envs/summary_gwas_imputation/bin/python /opt/data/software/summary-gwas-imputation/src/gwas_summary_imputation.py -by_region_file /opt/data/data/eur_ld.bed.gz -gwas_file /opt/data/projects/asthma-copd/results/harmonized_gwas/GWAS_COPD_only_GLM_SNPs_info0.7-harmonized.txt -parquet_genotype /opt/data/data/phenomexcan/ld_blocks/reference_panel_1000G/chr20.variants.parquet -parquet_genotype_metadata /opt/data/data/phenomexcan/ld_blocks/reference_panel_1000G/variant_metadata.parquet -window 100000 -parsimony 7 -chromosome 20 -regularization 0.1 -frequency_filter 0.01 -sub_batches 10 -sub_batch 6 --standardise_dosages -output /opt/data/projects/asthma-copd/results/imputed_gwas/GWAS_COPD_only_GLM_SNPs_info0.7-harmonized-imputed-chr20-batch6_10.txt\n",
      "+ set +x\n",
      "+ /opt/data/software/conda_envs/summary_gwas_imputation/bin/python /opt/data/software/summary-gwas-imputation/src/gwas_summary_imputation.py -by_region_file /opt/data/data/eur_ld.bed.gz -gwas_file /opt/data/projects/asthma-copd/results/harmonized_gwas/GWAS_COPD_only_GLM_SNPs_info0.7-harmonized.txt -parquet_genotype /opt/data/data/phenomexcan/ld_blocks/reference_panel_1000G/chr20.variants.parquet -parquet_genotype_metadata /opt/data/data/phenomexcan/ld_blocks/reference_panel_1000G/variant_metadata.parquet -window 100000 -parsimony 7 -chromosome 20 -regularization 0.1 -frequency_filter 0.01 -sub_batches 10 -sub_batch 7 --standardise_dosages -output /opt/data/projects/asthma-copd/results/imputed_gwas/GWAS_COPD_only_GLM_SNPs_info0.7-harmonized-imputed-chr20-batch7_10.txt\n"
     ]
    },
    {
     "name": "stdout",
     "output_type": "stream",
     "text": [
      "Running for copd_only, 19, 0\n",
      "Saving results in /opt/data/projects/asthma-copd/results/imputed_gwas\n",
      "/opt/data/software/conda_envs/summary_gwas_imputation/lib/python3.7/site-packages/pyarrow/pandas_compat.py:752: FutureWarning: .labels was deprecated in version 0.24.0. Use .codes instead.\n",
      "\n",
      "Running for copd_only, 19, 1\n",
      "Saving results in /opt/data/projects/asthma-copd/results/imputed_gwas\n",
      "/opt/data/software/conda_envs/summary_gwas_imputation/lib/python3.7/site-packages/pyarrow/pandas_compat.py:752: FutureWarning: .labels was deprecated in version 0.24.0. Use .codes instead.\n",
      "\n",
      "Running for copd_only, 19, 2\n",
      "Saving results in /opt/data/projects/asthma-copd/results/imputed_gwas\n",
      "/opt/data/software/conda_envs/summary_gwas_imputation/lib/python3.7/site-packages/pyarrow/pandas_compat.py:752: FutureWarning: .labels was deprecated in version 0.24.0. Use .codes instead.\n",
      "\n",
      "Running for copd_only, 19, 3\n",
      "Saving results in /opt/data/projects/asthma-copd/results/imputed_gwas\n",
      "/opt/data/software/conda_envs/summary_gwas_imputation/lib/python3.7/site-packages/pyarrow/pandas_compat.py:752: FutureWarning: .labels was deprecated in version 0.24.0. Use .codes instead.\n",
      "\n",
      "Running for copd_only, 19, 4\n",
      "Saving results in /opt/data/projects/asthma-copd/results/imputed_gwas\n",
      "/opt/data/software/conda_envs/summary_gwas_imputation/lib/python3.7/site-packages/pyarrow/pandas_compat.py:752: FutureWarning: .labels was deprecated in version 0.24.0. Use .codes instead.\n",
      "\n",
      "Running for copd_only, 19, 5\n",
      "Saving results in /opt/data/projects/asthma-copd/results/imputed_gwas\n",
      "/opt/data/software/conda_envs/summary_gwas_imputation/lib/python3.7/site-packages/pyarrow/pandas_compat.py:752: FutureWarning: .labels was deprecated in version 0.24.0. Use .codes instead.\n",
      "\n",
      "Running for copd_only, 19, 6\n",
      "Saving results in /opt/data/projects/asthma-copd/results/imputed_gwas\n",
      "/opt/data/software/conda_envs/summary_gwas_imputation/lib/python3.7/site-packages/pyarrow/pandas_compat.py:752: FutureWarning: .labels was deprecated in version 0.24.0. Use .codes instead.\n",
      "\n",
      "Running for copd_only, 19, 7\n",
      "Saving results in /opt/data/projects/asthma-copd/results/imputed_gwas\n",
      "/opt/data/software/conda_envs/summary_gwas_imputation/lib/python3.7/site-packages/pyarrow/pandas_compat.py:752: FutureWarning: .labels was deprecated in version 0.24.0. Use .codes instead.\n",
      "\n",
      "Running for copd_only, 19, 8\n",
      "Saving results in /opt/data/projects/asthma-copd/results/imputed_gwas\n",
      "/opt/data/software/conda_envs/summary_gwas_imputation/lib/python3.7/site-packages/pyarrow/pandas_compat.py:752: FutureWarning: .labels was deprecated in version 0.24.0. Use .codes instead.\n",
      "\n",
      "Running for copd_only, 19, 9\n",
      "Saving results in /opt/data/projects/asthma-copd/results/imputed_gwas\n",
      "/opt/data/software/conda_envs/summary_gwas_imputation/lib/python3.7/site-packages/pyarrow/pandas_compat.py:752: FutureWarning: .labels was deprecated in version 0.24.0. Use .codes instead.\n",
      "\n",
      "Running for copd_only, 20, 0\n",
      "Saving results in /opt/data/projects/asthma-copd/results/imputed_gwas\n",
      "/opt/data/software/conda_envs/summary_gwas_imputation/lib/python3.7/site-packages/pyarrow/pandas_compat.py:752: FutureWarning: .labels was deprecated in version 0.24.0. Use .codes instead.\n",
      "INFO - Error for region (20,79838.0,716956.0): LinAlgError('SVD did not converge')\n",
      "\n",
      "Running for copd_only, 20, 1\n",
      "Saving results in /opt/data/projects/asthma-copd/results/imputed_gwas\n",
      "/opt/data/software/conda_envs/summary_gwas_imputation/lib/python3.7/site-packages/pyarrow/pandas_compat.py:752: FutureWarning: .labels was deprecated in version 0.24.0. Use .codes instead.\n",
      "\n",
      "Running for copd_only, 20, 2\n",
      "Saving results in /opt/data/projects/asthma-copd/results/imputed_gwas\n",
      "/opt/data/software/conda_envs/summary_gwas_imputation/lib/python3.7/site-packages/pyarrow/pandas_compat.py:752: FutureWarning: .labels was deprecated in version 0.24.0. Use .codes instead.\n",
      "\n",
      "Running for copd_only, 20, 3\n",
      "Saving results in /opt/data/projects/asthma-copd/results/imputed_gwas\n",
      "/opt/data/software/conda_envs/summary_gwas_imputation/lib/python3.7/site-packages/pyarrow/pandas_compat.py:752: FutureWarning: .labels was deprecated in version 0.24.0. Use .codes instead.\n",
      "\n",
      "Running for copd_only, 20, 4\n",
      "Saving results in /opt/data/projects/asthma-copd/results/imputed_gwas\n",
      "/opt/data/software/conda_envs/summary_gwas_imputation/lib/python3.7/site-packages/pyarrow/pandas_compat.py:752: FutureWarning: .labels was deprecated in version 0.24.0. Use .codes instead.\n",
      "INFO - Error for region (20,25363595.0,33027017.0): TypeError(\"unsupported operand type(s) for +: 'float' and 'NoneType'\")\n",
      "\n",
      "Running for copd_only, 20, 5\n",
      "Saving results in /opt/data/projects/asthma-copd/results/imputed_gwas\n",
      "/opt/data/software/conda_envs/summary_gwas_imputation/lib/python3.7/site-packages/pyarrow/pandas_compat.py:752: FutureWarning: .labels was deprecated in version 0.24.0. Use .codes instead.\n",
      "\n",
      "Running for copd_only, 20, 6\n",
      "Saving results in /opt/data/projects/asthma-copd/results/imputed_gwas\n",
      "/opt/data/software/conda_envs/summary_gwas_imputation/lib/python3.7/site-packages/pyarrow/pandas_compat.py:752: FutureWarning: .labels was deprecated in version 0.24.0. Use .codes instead.\n",
      "\n",
      "Running for copd_only, 20, 7\n",
      "Saving results in /opt/data/projects/asthma-copd/results/imputed_gwas\n",
      "/opt/data/software/conda_envs/summary_gwas_imputation/lib/python3.7/site-packages/pyarrow/pandas_compat.py:752: FutureWarning: .labels was deprecated in version 0.24.0. Use .codes instead.\n",
      "\n"
     ]
    },
    {
     "name": "stderr",
     "output_type": "stream",
     "text": [
      "+ set +x\n"
     ]
    },
    {
     "name": "stdout",
     "output_type": "stream",
     "text": [
      "Running for copd_only, 20, 8\n",
      "Saving results in /opt/data/projects/asthma-copd/results/imputed_gwas\n",
      "/opt/data/software/conda_envs/summary_gwas_imputation/lib/python3.7/site-packages/pyarrow/pandas_compat.py:752: FutureWarning: .labels was deprecated in version 0.24.0. Use .codes instead.\n",
      "\n",
      "Running for copd_only, 20, 9\n",
      "Saving results in /opt/data/projects/asthma-copd/results/imputed_gwas\n",
      "/opt/data/software/conda_envs/summary_gwas_imputation/lib/python3.7/site-packages/pyarrow/pandas_compat.py:752: FutureWarning: .labels was deprecated in version 0.24.0. Use .codes instead.\n",
      "\n",
      "Running for copd_only, 21, 0\n",
      "Saving results in /opt/data/projects/asthma-copd/results/imputed_gwas\n",
      "/opt/data/software/conda_envs/summary_gwas_imputation/lib/python3.7/site-packages/pyarrow/pandas_compat.py:752: FutureWarning: .labels was deprecated in version 0.24.0. Use .codes instead.\n",
      "\n",
      "Running for copd_only, 21, 1\n",
      "Saving results in /opt/data/projects/asthma-copd/results/imputed_gwas\n",
      "/opt/data/software/conda_envs/summary_gwas_imputation/lib/python3.7/site-packages/pyarrow/pandas_compat.py:752: FutureWarning: .labels was deprecated in version 0.24.0. Use .codes instead.\n",
      "\n",
      "Running for copd_only, 21, 2\n",
      "Saving results in /opt/data/projects/asthma-copd/results/imputed_gwas\n",
      "/opt/data/software/conda_envs/summary_gwas_imputation/lib/python3.7/site-packages/pyarrow/pandas_compat.py:752: FutureWarning: .labels was deprecated in version 0.24.0. Use .codes instead.\n",
      "\n",
      "Running for copd_only, 21, 3\n",
      "Saving results in /opt/data/projects/asthma-copd/results/imputed_gwas\n",
      "/opt/data/software/conda_envs/summary_gwas_imputation/lib/python3.7/site-packages/pyarrow/pandas_compat.py:752: FutureWarning: .labels was deprecated in version 0.24.0. Use .codes instead.\n",
      "INFO - Error for region (21,25898707.0,27752907.0): LinAlgError('SVD did not converge')\n",
      "\n",
      "Running for copd_only, 21, 4\n",
      "Saving results in /opt/data/projects/asthma-copd/results/imputed_gwas\n",
      "/opt/data/software/conda_envs/summary_gwas_imputation/lib/python3.7/site-packages/pyarrow/pandas_compat.py:752: FutureWarning: .labels was deprecated in version 0.24.0. Use .codes instead.\n",
      "\n",
      "Running for copd_only, 21, 5\n",
      "Saving results in /opt/data/projects/asthma-copd/results/imputed_gwas\n",
      "/opt/data/software/conda_envs/summary_gwas_imputation/lib/python3.7/site-packages/pyarrow/pandas_compat.py:752: FutureWarning: .labels was deprecated in version 0.24.0. Use .codes instead.\n",
      "\n",
      "Running for copd_only, 21, 6\n",
      "Saving results in /opt/data/projects/asthma-copd/results/imputed_gwas\n",
      "/opt/data/software/conda_envs/summary_gwas_imputation/lib/python3.7/site-packages/pyarrow/pandas_compat.py:752: FutureWarning: .labels was deprecated in version 0.24.0. Use .codes instead.\n",
      "\n",
      "Running for copd_only, 21, 7\n",
      "Saving results in /opt/data/projects/asthma-copd/results/imputed_gwas\n",
      "/opt/data/software/conda_envs/summary_gwas_imputation/lib/python3.7/site-packages/pyarrow/pandas_compat.py:752: FutureWarning: .labels was deprecated in version 0.24.0. Use .codes instead.\n",
      "\n",
      "Running for copd_only, 21, 8\n",
      "Saving results in /opt/data/projects/asthma-copd/results/imputed_gwas\n",
      "/opt/data/software/conda_envs/summary_gwas_imputation/lib/python3.7/site-packages/pyarrow/pandas_compat.py:752: FutureWarning: .labels was deprecated in version 0.24.0. Use .codes instead.\n",
      "\n",
      "Running for copd_only, 21, 9\n",
      "Saving results in /opt/data/projects/asthma-copd/results/imputed_gwas\n",
      "/opt/data/software/conda_envs/summary_gwas_imputation/lib/python3.7/site-packages/pyarrow/pandas_compat.py:752: FutureWarning: .labels was deprecated in version 0.24.0. Use .codes instead.\n",
      "\n"
     ]
    },
    {
     "name": "stderr",
     "output_type": "stream",
     "text": [
      "+ /opt/data/software/conda_envs/summary_gwas_imputation/bin/python /opt/data/software/summary-gwas-imputation/src/gwas_summary_imputation.py -by_region_file /opt/data/data/eur_ld.bed.gz -gwas_file /opt/data/projects/asthma-copd/results/harmonized_gwas/GWAS_COPD_only_GLM_SNPs_info0.7-harmonized.txt -parquet_genotype /opt/data/data/phenomexcan/ld_blocks/reference_panel_1000G/chr20.variants.parquet -parquet_genotype_metadata /opt/data/data/phenomexcan/ld_blocks/reference_panel_1000G/variant_metadata.parquet -window 100000 -parsimony 7 -chromosome 20 -regularization 0.1 -frequency_filter 0.01 -sub_batches 10 -sub_batch 8 --standardise_dosages -output /opt/data/projects/asthma-copd/results/imputed_gwas/GWAS_COPD_only_GLM_SNPs_info0.7-harmonized-imputed-chr20-batch8_10.txt\n",
      "+ set +x\n",
      "+ /opt/data/software/conda_envs/summary_gwas_imputation/bin/python /opt/data/software/summary-gwas-imputation/src/gwas_summary_imputation.py -by_region_file /opt/data/data/eur_ld.bed.gz -gwas_file /opt/data/projects/asthma-copd/results/harmonized_gwas/GWAS_COPD_only_GLM_SNPs_info0.7-harmonized.txt -parquet_genotype /opt/data/data/phenomexcan/ld_blocks/reference_panel_1000G/chr20.variants.parquet -parquet_genotype_metadata /opt/data/data/phenomexcan/ld_blocks/reference_panel_1000G/variant_metadata.parquet -window 100000 -parsimony 7 -chromosome 20 -regularization 0.1 -frequency_filter 0.01 -sub_batches 10 -sub_batch 9 --standardise_dosages -output /opt/data/projects/asthma-copd/results/imputed_gwas/GWAS_COPD_only_GLM_SNPs_info0.7-harmonized-imputed-chr20-batch9_10.txt\n",
      "+ set +x\n",
      "+ /opt/data/software/conda_envs/summary_gwas_imputation/bin/python /opt/data/software/summary-gwas-imputation/src/gwas_summary_imputation.py -by_region_file /opt/data/data/eur_ld.bed.gz -gwas_file /opt/data/projects/asthma-copd/results/harmonized_gwas/GWAS_COPD_only_GLM_SNPs_info0.7-harmonized.txt -parquet_genotype /opt/data/data/phenomexcan/ld_blocks/reference_panel_1000G/chr21.variants.parquet -parquet_genotype_metadata /opt/data/data/phenomexcan/ld_blocks/reference_panel_1000G/variant_metadata.parquet -window 100000 -parsimony 7 -chromosome 21 -regularization 0.1 -frequency_filter 0.01 -sub_batches 10 -sub_batch 0 --standardise_dosages -output /opt/data/projects/asthma-copd/results/imputed_gwas/GWAS_COPD_only_GLM_SNPs_info0.7-harmonized-imputed-chr21-batch0_10.txt\n",
      "+ set +x\n",
      "+ /opt/data/software/conda_envs/summary_gwas_imputation/bin/python /opt/data/software/summary-gwas-imputation/src/gwas_summary_imputation.py -by_region_file /opt/data/data/eur_ld.bed.gz -gwas_file /opt/data/projects/asthma-copd/results/harmonized_gwas/GWAS_COPD_only_GLM_SNPs_info0.7-harmonized.txt -parquet_genotype /opt/data/data/phenomexcan/ld_blocks/reference_panel_1000G/chr21.variants.parquet -parquet_genotype_metadata /opt/data/data/phenomexcan/ld_blocks/reference_panel_1000G/variant_metadata.parquet -window 100000 -parsimony 7 -chromosome 21 -regularization 0.1 -frequency_filter 0.01 -sub_batches 10 -sub_batch 1 --standardise_dosages -output /opt/data/projects/asthma-copd/results/imputed_gwas/GWAS_COPD_only_GLM_SNPs_info0.7-harmonized-imputed-chr21-batch1_10.txt\n",
      "+ set +x\n",
      "+ /opt/data/software/conda_envs/summary_gwas_imputation/bin/python /opt/data/software/summary-gwas-imputation/src/gwas_summary_imputation.py -by_region_file /opt/data/data/eur_ld.bed.gz -gwas_file /opt/data/projects/asthma-copd/results/harmonized_gwas/GWAS_COPD_only_GLM_SNPs_info0.7-harmonized.txt -parquet_genotype /opt/data/data/phenomexcan/ld_blocks/reference_panel_1000G/chr21.variants.parquet -parquet_genotype_metadata /opt/data/data/phenomexcan/ld_blocks/reference_panel_1000G/variant_metadata.parquet -window 100000 -parsimony 7 -chromosome 21 -regularization 0.1 -frequency_filter 0.01 -sub_batches 10 -sub_batch 2 --standardise_dosages -output /opt/data/projects/asthma-copd/results/imputed_gwas/GWAS_COPD_only_GLM_SNPs_info0.7-harmonized-imputed-chr21-batch2_10.txt\n",
      "+ set +x\n",
      "+ /opt/data/software/conda_envs/summary_gwas_imputation/bin/python /opt/data/software/summary-gwas-imputation/src/gwas_summary_imputation.py -by_region_file /opt/data/data/eur_ld.bed.gz -gwas_file /opt/data/projects/asthma-copd/results/harmonized_gwas/GWAS_COPD_only_GLM_SNPs_info0.7-harmonized.txt -parquet_genotype /opt/data/data/phenomexcan/ld_blocks/reference_panel_1000G/chr21.variants.parquet -parquet_genotype_metadata /opt/data/data/phenomexcan/ld_blocks/reference_panel_1000G/variant_metadata.parquet -window 100000 -parsimony 7 -chromosome 21 -regularization 0.1 -frequency_filter 0.01 -sub_batches 10 -sub_batch 3 --standardise_dosages -output /opt/data/projects/asthma-copd/results/imputed_gwas/GWAS_COPD_only_GLM_SNPs_info0.7-harmonized-imputed-chr21-batch3_10.txt\n",
      "+ set +x\n",
      "+ /opt/data/software/conda_envs/summary_gwas_imputation/bin/python /opt/data/software/summary-gwas-imputation/src/gwas_summary_imputation.py -by_region_file /opt/data/data/eur_ld.bed.gz -gwas_file /opt/data/projects/asthma-copd/results/harmonized_gwas/GWAS_COPD_only_GLM_SNPs_info0.7-harmonized.txt -parquet_genotype /opt/data/data/phenomexcan/ld_blocks/reference_panel_1000G/chr21.variants.parquet -parquet_genotype_metadata /opt/data/data/phenomexcan/ld_blocks/reference_panel_1000G/variant_metadata.parquet -window 100000 -parsimony 7 -chromosome 21 -regularization 0.1 -frequency_filter 0.01 -sub_batches 10 -sub_batch 4 --standardise_dosages -output /opt/data/projects/asthma-copd/results/imputed_gwas/GWAS_COPD_only_GLM_SNPs_info0.7-harmonized-imputed-chr21-batch4_10.txt\n",
      "+ set +x\n",
      "+ /opt/data/software/conda_envs/summary_gwas_imputation/bin/python /opt/data/software/summary-gwas-imputation/src/gwas_summary_imputation.py -by_region_file /opt/data/data/eur_ld.bed.gz -gwas_file /opt/data/projects/asthma-copd/results/harmonized_gwas/GWAS_COPD_only_GLM_SNPs_info0.7-harmonized.txt -parquet_genotype /opt/data/data/phenomexcan/ld_blocks/reference_panel_1000G/chr21.variants.parquet -parquet_genotype_metadata /opt/data/data/phenomexcan/ld_blocks/reference_panel_1000G/variant_metadata.parquet -window 100000 -parsimony 7 -chromosome 21 -regularization 0.1 -frequency_filter 0.01 -sub_batches 10 -sub_batch 5 --standardise_dosages -output /opt/data/projects/asthma-copd/results/imputed_gwas/GWAS_COPD_only_GLM_SNPs_info0.7-harmonized-imputed-chr21-batch5_10.txt\n",
      "+ set +x\n",
      "+ /opt/data/software/conda_envs/summary_gwas_imputation/bin/python /opt/data/software/summary-gwas-imputation/src/gwas_summary_imputation.py -by_region_file /opt/data/data/eur_ld.bed.gz -gwas_file /opt/data/projects/asthma-copd/results/harmonized_gwas/GWAS_COPD_only_GLM_SNPs_info0.7-harmonized.txt -parquet_genotype /opt/data/data/phenomexcan/ld_blocks/reference_panel_1000G/chr21.variants.parquet -parquet_genotype_metadata /opt/data/data/phenomexcan/ld_blocks/reference_panel_1000G/variant_metadata.parquet -window 100000 -parsimony 7 -chromosome 21 -regularization 0.1 -frequency_filter 0.01 -sub_batches 10 -sub_batch 6 --standardise_dosages -output /opt/data/projects/asthma-copd/results/imputed_gwas/GWAS_COPD_only_GLM_SNPs_info0.7-harmonized-imputed-chr21-batch6_10.txt\n",
      "+ set +x\n",
      "+ /opt/data/software/conda_envs/summary_gwas_imputation/bin/python /opt/data/software/summary-gwas-imputation/src/gwas_summary_imputation.py -by_region_file /opt/data/data/eur_ld.bed.gz -gwas_file /opt/data/projects/asthma-copd/results/harmonized_gwas/GWAS_COPD_only_GLM_SNPs_info0.7-harmonized.txt -parquet_genotype /opt/data/data/phenomexcan/ld_blocks/reference_panel_1000G/chr21.variants.parquet -parquet_genotype_metadata /opt/data/data/phenomexcan/ld_blocks/reference_panel_1000G/variant_metadata.parquet -window 100000 -parsimony 7 -chromosome 21 -regularization 0.1 -frequency_filter 0.01 -sub_batches 10 -sub_batch 7 --standardise_dosages -output /opt/data/projects/asthma-copd/results/imputed_gwas/GWAS_COPD_only_GLM_SNPs_info0.7-harmonized-imputed-chr21-batch7_10.txt\n",
      "+ set +x\n",
      "+ /opt/data/software/conda_envs/summary_gwas_imputation/bin/python /opt/data/software/summary-gwas-imputation/src/gwas_summary_imputation.py -by_region_file /opt/data/data/eur_ld.bed.gz -gwas_file /opt/data/projects/asthma-copd/results/harmonized_gwas/GWAS_COPD_only_GLM_SNPs_info0.7-harmonized.txt -parquet_genotype /opt/data/data/phenomexcan/ld_blocks/reference_panel_1000G/chr21.variants.parquet -parquet_genotype_metadata /opt/data/data/phenomexcan/ld_blocks/reference_panel_1000G/variant_metadata.parquet -window 100000 -parsimony 7 -chromosome 21 -regularization 0.1 -frequency_filter 0.01 -sub_batches 10 -sub_batch 8 --standardise_dosages -output /opt/data/projects/asthma-copd/results/imputed_gwas/GWAS_COPD_only_GLM_SNPs_info0.7-harmonized-imputed-chr21-batch8_10.txt\n",
      "+ set +x\n",
      "+ /opt/data/software/conda_envs/summary_gwas_imputation/bin/python /opt/data/software/summary-gwas-imputation/src/gwas_summary_imputation.py -by_region_file /opt/data/data/eur_ld.bed.gz -gwas_file /opt/data/projects/asthma-copd/results/harmonized_gwas/GWAS_COPD_only_GLM_SNPs_info0.7-harmonized.txt -parquet_genotype /opt/data/data/phenomexcan/ld_blocks/reference_panel_1000G/chr21.variants.parquet -parquet_genotype_metadata /opt/data/data/phenomexcan/ld_blocks/reference_panel_1000G/variant_metadata.parquet -window 100000 -parsimony 7 -chromosome 21 -regularization 0.1 -frequency_filter 0.01 -sub_batches 10 -sub_batch 9 --standardise_dosages -output /opt/data/projects/asthma-copd/results/imputed_gwas/GWAS_COPD_only_GLM_SNPs_info0.7-harmonized-imputed-chr21-batch9_10.txt\n",
      "+ set +x\n"
     ]
    },
    {
     "name": "stdout",
     "output_type": "stream",
     "text": [
      "Running for copd_only, 22, 0\n",
      "Saving results in /opt/data/projects/asthma-copd/results/imputed_gwas\n",
      "/opt/data/software/conda_envs/summary_gwas_imputation/lib/python3.7/site-packages/pyarrow/pandas_compat.py:752: FutureWarning: .labels was deprecated in version 0.24.0. Use .codes instead.\n",
      "\n",
      "Running for copd_only, 22, 1\n",
      "Saving results in /opt/data/projects/asthma-copd/results/imputed_gwas\n",
      "/opt/data/software/conda_envs/summary_gwas_imputation/lib/python3.7/site-packages/pyarrow/pandas_compat.py:752: FutureWarning: .labels was deprecated in version 0.24.0. Use .codes instead.\n",
      "\n",
      "Running for copd_only, 22, 2\n",
      "Saving results in /opt/data/projects/asthma-copd/results/imputed_gwas\n",
      "/opt/data/software/conda_envs/summary_gwas_imputation/lib/python3.7/site-packages/pyarrow/pandas_compat.py:752: FutureWarning: .labels was deprecated in version 0.24.0. Use .codes instead.\n",
      "\n",
      "Running for copd_only, 22, 3\n",
      "Saving results in /opt/data/projects/asthma-copd/results/imputed_gwas\n",
      "/opt/data/software/conda_envs/summary_gwas_imputation/lib/python3.7/site-packages/pyarrow/pandas_compat.py:752: FutureWarning: .labels was deprecated in version 0.24.0. Use .codes instead.\n",
      "INFO - Error for region (22,32268999.0,34098925.0): LinAlgError('SVD did not converge')\n",
      "\n",
      "Running for copd_only, 22, 4\n",
      "Saving results in /opt/data/projects/asthma-copd/results/imputed_gwas\n",
      "/opt/data/software/conda_envs/summary_gwas_imputation/lib/python3.7/site-packages/pyarrow/pandas_compat.py:752: FutureWarning: .labels was deprecated in version 0.24.0. Use .codes instead.\n",
      "\n",
      "Running for copd_only, 22, 5\n",
      "Saving results in /opt/data/projects/asthma-copd/results/imputed_gwas\n",
      "/opt/data/software/conda_envs/summary_gwas_imputation/lib/python3.7/site-packages/pyarrow/pandas_compat.py:752: FutureWarning: .labels was deprecated in version 0.24.0. Use .codes instead.\n",
      "\n",
      "Running for copd_only, 22, 6\n",
      "Saving results in /opt/data/projects/asthma-copd/results/imputed_gwas\n",
      "/opt/data/software/conda_envs/summary_gwas_imputation/lib/python3.7/site-packages/pyarrow/pandas_compat.py:752: FutureWarning: .labels was deprecated in version 0.24.0. Use .codes instead.\n",
      "\n",
      "Running for copd_only, 22, 7\n",
      "Saving results in /opt/data/projects/asthma-copd/results/imputed_gwas\n",
      "/opt/data/software/conda_envs/summary_gwas_imputation/lib/python3.7/site-packages/pyarrow/pandas_compat.py:752: FutureWarning: .labels was deprecated in version 0.24.0. Use .codes instead.\n",
      "\n",
      "Running for copd_only, 22, 8\n",
      "Saving results in /opt/data/projects/asthma-copd/results/imputed_gwas\n",
      "/opt/data/software/conda_envs/summary_gwas_imputation/lib/python3.7/site-packages/pyarrow/pandas_compat.py:752: FutureWarning: .labels was deprecated in version 0.24.0. Use .codes instead.\n",
      "\n",
      "Running for copd_only, 22, 9\n",
      "Saving results in /opt/data/projects/asthma-copd/results/imputed_gwas\n",
      "/opt/data/software/conda_envs/summary_gwas_imputation/lib/python3.7/site-packages/pyarrow/pandas_compat.py:752: FutureWarning: .labels was deprecated in version 0.24.0. Use .codes instead.\n",
      "INFO - Error for region (22,48507891.0,49430885.0): LinAlgError('SVD did not converge')\n",
      "\n",
      "Running for aco, 1, 0\n",
      "Saving results in /opt/data/projects/asthma-copd/results/imputed_gwas\n"
     ]
    },
    {
     "name": "stderr",
     "output_type": "stream",
     "text": [
      "+ /opt/data/software/conda_envs/summary_gwas_imputation/bin/python /opt/data/software/summary-gwas-imputation/src/gwas_summary_imputation.py -by_region_file /opt/data/data/eur_ld.bed.gz -gwas_file /opt/data/projects/asthma-copd/results/harmonized_gwas/GWAS_COPD_only_GLM_SNPs_info0.7-harmonized.txt -parquet_genotype /opt/data/data/phenomexcan/ld_blocks/reference_panel_1000G/chr22.variants.parquet -parquet_genotype_metadata /opt/data/data/phenomexcan/ld_blocks/reference_panel_1000G/variant_metadata.parquet -window 100000 -parsimony 7 -chromosome 22 -regularization 0.1 -frequency_filter 0.01 -sub_batches 10 -sub_batch 0 --standardise_dosages -output /opt/data/projects/asthma-copd/results/imputed_gwas/GWAS_COPD_only_GLM_SNPs_info0.7-harmonized-imputed-chr22-batch0_10.txt\n",
      "+ set +x\n",
      "+ /opt/data/software/conda_envs/summary_gwas_imputation/bin/python /opt/data/software/summary-gwas-imputation/src/gwas_summary_imputation.py -by_region_file /opt/data/data/eur_ld.bed.gz -gwas_file /opt/data/projects/asthma-copd/results/harmonized_gwas/GWAS_COPD_only_GLM_SNPs_info0.7-harmonized.txt -parquet_genotype /opt/data/data/phenomexcan/ld_blocks/reference_panel_1000G/chr22.variants.parquet -parquet_genotype_metadata /opt/data/data/phenomexcan/ld_blocks/reference_panel_1000G/variant_metadata.parquet -window 100000 -parsimony 7 -chromosome 22 -regularization 0.1 -frequency_filter 0.01 -sub_batches 10 -sub_batch 1 --standardise_dosages -output /opt/data/projects/asthma-copd/results/imputed_gwas/GWAS_COPD_only_GLM_SNPs_info0.7-harmonized-imputed-chr22-batch1_10.txt\n",
      "+ set +x\n",
      "+ /opt/data/software/conda_envs/summary_gwas_imputation/bin/python /opt/data/software/summary-gwas-imputation/src/gwas_summary_imputation.py -by_region_file /opt/data/data/eur_ld.bed.gz -gwas_file /opt/data/projects/asthma-copd/results/harmonized_gwas/GWAS_COPD_only_GLM_SNPs_info0.7-harmonized.txt -parquet_genotype /opt/data/data/phenomexcan/ld_blocks/reference_panel_1000G/chr22.variants.parquet -parquet_genotype_metadata /opt/data/data/phenomexcan/ld_blocks/reference_panel_1000G/variant_metadata.parquet -window 100000 -parsimony 7 -chromosome 22 -regularization 0.1 -frequency_filter 0.01 -sub_batches 10 -sub_batch 2 --standardise_dosages -output /opt/data/projects/asthma-copd/results/imputed_gwas/GWAS_COPD_only_GLM_SNPs_info0.7-harmonized-imputed-chr22-batch2_10.txt\n",
      "+ set +x\n",
      "+ /opt/data/software/conda_envs/summary_gwas_imputation/bin/python /opt/data/software/summary-gwas-imputation/src/gwas_summary_imputation.py -by_region_file /opt/data/data/eur_ld.bed.gz -gwas_file /opt/data/projects/asthma-copd/results/harmonized_gwas/GWAS_COPD_only_GLM_SNPs_info0.7-harmonized.txt -parquet_genotype /opt/data/data/phenomexcan/ld_blocks/reference_panel_1000G/chr22.variants.parquet -parquet_genotype_metadata /opt/data/data/phenomexcan/ld_blocks/reference_panel_1000G/variant_metadata.parquet -window 100000 -parsimony 7 -chromosome 22 -regularization 0.1 -frequency_filter 0.01 -sub_batches 10 -sub_batch 3 --standardise_dosages -output /opt/data/projects/asthma-copd/results/imputed_gwas/GWAS_COPD_only_GLM_SNPs_info0.7-harmonized-imputed-chr22-batch3_10.txt\n",
      "+ set +x\n",
      "+ /opt/data/software/conda_envs/summary_gwas_imputation/bin/python /opt/data/software/summary-gwas-imputation/src/gwas_summary_imputation.py -by_region_file /opt/data/data/eur_ld.bed.gz -gwas_file /opt/data/projects/asthma-copd/results/harmonized_gwas/GWAS_COPD_only_GLM_SNPs_info0.7-harmonized.txt -parquet_genotype /opt/data/data/phenomexcan/ld_blocks/reference_panel_1000G/chr22.variants.parquet -parquet_genotype_metadata /opt/data/data/phenomexcan/ld_blocks/reference_panel_1000G/variant_metadata.parquet -window 100000 -parsimony 7 -chromosome 22 -regularization 0.1 -frequency_filter 0.01 -sub_batches 10 -sub_batch 4 --standardise_dosages -output /opt/data/projects/asthma-copd/results/imputed_gwas/GWAS_COPD_only_GLM_SNPs_info0.7-harmonized-imputed-chr22-batch4_10.txt\n",
      "+ set +x\n",
      "+ /opt/data/software/conda_envs/summary_gwas_imputation/bin/python /opt/data/software/summary-gwas-imputation/src/gwas_summary_imputation.py -by_region_file /opt/data/data/eur_ld.bed.gz -gwas_file /opt/data/projects/asthma-copd/results/harmonized_gwas/GWAS_COPD_only_GLM_SNPs_info0.7-harmonized.txt -parquet_genotype /opt/data/data/phenomexcan/ld_blocks/reference_panel_1000G/chr22.variants.parquet -parquet_genotype_metadata /opt/data/data/phenomexcan/ld_blocks/reference_panel_1000G/variant_metadata.parquet -window 100000 -parsimony 7 -chromosome 22 -regularization 0.1 -frequency_filter 0.01 -sub_batches 10 -sub_batch 5 --standardise_dosages -output /opt/data/projects/asthma-copd/results/imputed_gwas/GWAS_COPD_only_GLM_SNPs_info0.7-harmonized-imputed-chr22-batch5_10.txt\n",
      "+ set +x\n",
      "+ /opt/data/software/conda_envs/summary_gwas_imputation/bin/python /opt/data/software/summary-gwas-imputation/src/gwas_summary_imputation.py -by_region_file /opt/data/data/eur_ld.bed.gz -gwas_file /opt/data/projects/asthma-copd/results/harmonized_gwas/GWAS_COPD_only_GLM_SNPs_info0.7-harmonized.txt -parquet_genotype /opt/data/data/phenomexcan/ld_blocks/reference_panel_1000G/chr22.variants.parquet -parquet_genotype_metadata /opt/data/data/phenomexcan/ld_blocks/reference_panel_1000G/variant_metadata.parquet -window 100000 -parsimony 7 -chromosome 22 -regularization 0.1 -frequency_filter 0.01 -sub_batches 10 -sub_batch 6 --standardise_dosages -output /opt/data/projects/asthma-copd/results/imputed_gwas/GWAS_COPD_only_GLM_SNPs_info0.7-harmonized-imputed-chr22-batch6_10.txt\n",
      "+ set +x\n",
      "+ /opt/data/software/conda_envs/summary_gwas_imputation/bin/python /opt/data/software/summary-gwas-imputation/src/gwas_summary_imputation.py -by_region_file /opt/data/data/eur_ld.bed.gz -gwas_file /opt/data/projects/asthma-copd/results/harmonized_gwas/GWAS_COPD_only_GLM_SNPs_info0.7-harmonized.txt -parquet_genotype /opt/data/data/phenomexcan/ld_blocks/reference_panel_1000G/chr22.variants.parquet -parquet_genotype_metadata /opt/data/data/phenomexcan/ld_blocks/reference_panel_1000G/variant_metadata.parquet -window 100000 -parsimony 7 -chromosome 22 -regularization 0.1 -frequency_filter 0.01 -sub_batches 10 -sub_batch 7 --standardise_dosages -output /opt/data/projects/asthma-copd/results/imputed_gwas/GWAS_COPD_only_GLM_SNPs_info0.7-harmonized-imputed-chr22-batch7_10.txt\n",
      "+ set +x\n",
      "+ /opt/data/software/conda_envs/summary_gwas_imputation/bin/python /opt/data/software/summary-gwas-imputation/src/gwas_summary_imputation.py -by_region_file /opt/data/data/eur_ld.bed.gz -gwas_file /opt/data/projects/asthma-copd/results/harmonized_gwas/GWAS_COPD_only_GLM_SNPs_info0.7-harmonized.txt -parquet_genotype /opt/data/data/phenomexcan/ld_blocks/reference_panel_1000G/chr22.variants.parquet -parquet_genotype_metadata /opt/data/data/phenomexcan/ld_blocks/reference_panel_1000G/variant_metadata.parquet -window 100000 -parsimony 7 -chromosome 22 -regularization 0.1 -frequency_filter 0.01 -sub_batches 10 -sub_batch 8 --standardise_dosages -output /opt/data/projects/asthma-copd/results/imputed_gwas/GWAS_COPD_only_GLM_SNPs_info0.7-harmonized-imputed-chr22-batch8_10.txt\n",
      "+ set +x\n",
      "+ /opt/data/software/conda_envs/summary_gwas_imputation/bin/python /opt/data/software/summary-gwas-imputation/src/gwas_summary_imputation.py -by_region_file /opt/data/data/eur_ld.bed.gz -gwas_file /opt/data/projects/asthma-copd/results/harmonized_gwas/GWAS_COPD_only_GLM_SNPs_info0.7-harmonized.txt -parquet_genotype /opt/data/data/phenomexcan/ld_blocks/reference_panel_1000G/chr22.variants.parquet -parquet_genotype_metadata /opt/data/data/phenomexcan/ld_blocks/reference_panel_1000G/variant_metadata.parquet -window 100000 -parsimony 7 -chromosome 22 -regularization 0.1 -frequency_filter 0.01 -sub_batches 10 -sub_batch 9 --standardise_dosages -output /opt/data/projects/asthma-copd/results/imputed_gwas/GWAS_COPD_only_GLM_SNPs_info0.7-harmonized-imputed-chr22-batch9_10.txt\n",
      "+ set +x\n",
      "+ /opt/data/software/conda_envs/summary_gwas_imputation/bin/python /opt/data/software/summary-gwas-imputation/src/gwas_summary_imputation.py -by_region_file /opt/data/data/eur_ld.bed.gz -gwas_file /opt/data/projects/asthma-copd/results/harmonized_gwas/GWAS_ACO_GLM_SNPs_info0.7-harmonized.txt -parquet_genotype /opt/data/data/phenomexcan/ld_blocks/reference_panel_1000G/chr1.variants.parquet -parquet_genotype_metadata /opt/data/data/phenomexcan/ld_blocks/reference_panel_1000G/variant_metadata.parquet -window 100000 -parsimony 7 -chromosome 1 -regularization 0.1 -frequency_filter 0.01 -sub_batches 10 -sub_batch 0 --standardise_dosages -output /opt/data/projects/asthma-copd/results/imputed_gwas/GWAS_ACO_GLM_SNPs_info0.7-harmonized-imputed-chr1-batch0_10.txt\n"
     ]
    },
    {
     "name": "stdout",
     "output_type": "stream",
     "text": [
      "/opt/data/software/conda_envs/summary_gwas_imputation/lib/python3.7/site-packages/pyarrow/pandas_compat.py:752: FutureWarning: .labels was deprecated in version 0.24.0. Use .codes instead.\n",
      "\n"
     ]
    },
    {
     "name": "stderr",
     "output_type": "stream",
     "text": [
      "+ set +x\n"
     ]
    },
    {
     "name": "stdout",
     "output_type": "stream",
     "text": [
      "Running for aco, 1, 1\n",
      "Saving results in /opt/data/projects/asthma-copd/results/imputed_gwas\n",
      "/opt/data/software/conda_envs/summary_gwas_imputation/lib/python3.7/site-packages/pyarrow/pandas_compat.py:752: FutureWarning: .labels was deprecated in version 0.24.0. Use .codes instead.\n",
      "\n"
     ]
    },
    {
     "name": "stderr",
     "output_type": "stream",
     "text": [
      "+ /opt/data/software/conda_envs/summary_gwas_imputation/bin/python /opt/data/software/summary-gwas-imputation/src/gwas_summary_imputation.py -by_region_file /opt/data/data/eur_ld.bed.gz -gwas_file /opt/data/projects/asthma-copd/results/harmonized_gwas/GWAS_ACO_GLM_SNPs_info0.7-harmonized.txt -parquet_genotype /opt/data/data/phenomexcan/ld_blocks/reference_panel_1000G/chr1.variants.parquet -parquet_genotype_metadata /opt/data/data/phenomexcan/ld_blocks/reference_panel_1000G/variant_metadata.parquet -window 100000 -parsimony 7 -chromosome 1 -regularization 0.1 -frequency_filter 0.01 -sub_batches 10 -sub_batch 1 --standardise_dosages -output /opt/data/projects/asthma-copd/results/imputed_gwas/GWAS_ACO_GLM_SNPs_info0.7-harmonized-imputed-chr1-batch1_10.txt\n",
      "+ set +x\n"
     ]
    },
    {
     "name": "stdout",
     "output_type": "stream",
     "text": [
      "Running for aco, 1, 2\n",
      "Saving results in /opt/data/projects/asthma-copd/results/imputed_gwas\n",
      "/opt/data/software/conda_envs/summary_gwas_imputation/lib/python3.7/site-packages/pyarrow/pandas_compat.py:752: FutureWarning: .labels was deprecated in version 0.24.0. Use .codes instead.\n",
      "INFO - Error for region (1,53760589.0,55947444.0): LinAlgError('SVD did not converge')\n",
      "\n",
      "Running for aco, 1, 3\n",
      "Saving results in /opt/data/projects/asthma-copd/results/imputed_gwas\n"
     ]
    },
    {
     "name": "stderr",
     "output_type": "stream",
     "text": [
      "+ /opt/data/software/conda_envs/summary_gwas_imputation/bin/python /opt/data/software/summary-gwas-imputation/src/gwas_summary_imputation.py -by_region_file /opt/data/data/eur_ld.bed.gz -gwas_file /opt/data/projects/asthma-copd/results/harmonized_gwas/GWAS_ACO_GLM_SNPs_info0.7-harmonized.txt -parquet_genotype /opt/data/data/phenomexcan/ld_blocks/reference_panel_1000G/chr1.variants.parquet -parquet_genotype_metadata /opt/data/data/phenomexcan/ld_blocks/reference_panel_1000G/variant_metadata.parquet -window 100000 -parsimony 7 -chromosome 1 -regularization 0.1 -frequency_filter 0.01 -sub_batches 10 -sub_batch 2 --standardise_dosages -output /opt/data/projects/asthma-copd/results/imputed_gwas/GWAS_ACO_GLM_SNPs_info0.7-harmonized-imputed-chr1-batch2_10.txt\n",
      "+ set +x\n",
      "+ /opt/data/software/conda_envs/summary_gwas_imputation/bin/python /opt/data/software/summary-gwas-imputation/src/gwas_summary_imputation.py -by_region_file /opt/data/data/eur_ld.bed.gz -gwas_file /opt/data/projects/asthma-copd/results/harmonized_gwas/GWAS_ACO_GLM_SNPs_info0.7-harmonized.txt -parquet_genotype /opt/data/data/phenomexcan/ld_blocks/reference_panel_1000G/chr1.variants.parquet -parquet_genotype_metadata /opt/data/data/phenomexcan/ld_blocks/reference_panel_1000G/variant_metadata.parquet -window 100000 -parsimony 7 -chromosome 1 -regularization 0.1 -frequency_filter 0.01 -sub_batches 10 -sub_batch 3 --standardise_dosages -output /opt/data/projects/asthma-copd/results/imputed_gwas/GWAS_ACO_GLM_SNPs_info0.7-harmonized-imputed-chr1-batch3_10.txt\n"
     ]
    },
    {
     "name": "stdout",
     "output_type": "stream",
     "text": [
      "/opt/data/software/conda_envs/summary_gwas_imputation/lib/python3.7/site-packages/pyarrow/pandas_compat.py:752: FutureWarning: .labels was deprecated in version 0.24.0. Use .codes instead.\n",
      "\n"
     ]
    },
    {
     "name": "stderr",
     "output_type": "stream",
     "text": [
      "+ set +x\n"
     ]
    },
    {
     "name": "stdout",
     "output_type": "stream",
     "text": [
      "Running for aco, 1, 4\n",
      "Saving results in /opt/data/projects/asthma-copd/results/imputed_gwas\n",
      "/opt/data/software/conda_envs/summary_gwas_imputation/lib/python3.7/site-packages/pyarrow/pandas_compat.py:752: FutureWarning: .labels was deprecated in version 0.24.0. Use .codes instead.\n",
      "\n",
      "Running for aco, 1, 5\n",
      "Saving results in /opt/data/projects/asthma-copd/results/imputed_gwas\n",
      "/opt/data/software/conda_envs/summary_gwas_imputation/lib/python3.7/site-packages/pyarrow/pandas_compat.py:752: FutureWarning: .labels was deprecated in version 0.24.0. Use .codes instead.\n",
      "\n",
      "Running for aco, 1, 6\n",
      "Saving results in /opt/data/projects/asthma-copd/results/imputed_gwas\n"
     ]
    },
    {
     "name": "stderr",
     "output_type": "stream",
     "text": [
      "+ /opt/data/software/conda_envs/summary_gwas_imputation/bin/python /opt/data/software/summary-gwas-imputation/src/gwas_summary_imputation.py -by_region_file /opt/data/data/eur_ld.bed.gz -gwas_file /opt/data/projects/asthma-copd/results/harmonized_gwas/GWAS_ACO_GLM_SNPs_info0.7-harmonized.txt -parquet_genotype /opt/data/data/phenomexcan/ld_blocks/reference_panel_1000G/chr1.variants.parquet -parquet_genotype_metadata /opt/data/data/phenomexcan/ld_blocks/reference_panel_1000G/variant_metadata.parquet -window 100000 -parsimony 7 -chromosome 1 -regularization 0.1 -frequency_filter 0.01 -sub_batches 10 -sub_batch 4 --standardise_dosages -output /opt/data/projects/asthma-copd/results/imputed_gwas/GWAS_ACO_GLM_SNPs_info0.7-harmonized-imputed-chr1-batch4_10.txt\n",
      "+ set +x\n",
      "+ /opt/data/software/conda_envs/summary_gwas_imputation/bin/python /opt/data/software/summary-gwas-imputation/src/gwas_summary_imputation.py -by_region_file /opt/data/data/eur_ld.bed.gz -gwas_file /opt/data/projects/asthma-copd/results/harmonized_gwas/GWAS_ACO_GLM_SNPs_info0.7-harmonized.txt -parquet_genotype /opt/data/data/phenomexcan/ld_blocks/reference_panel_1000G/chr1.variants.parquet -parquet_genotype_metadata /opt/data/data/phenomexcan/ld_blocks/reference_panel_1000G/variant_metadata.parquet -window 100000 -parsimony 7 -chromosome 1 -regularization 0.1 -frequency_filter 0.01 -sub_batches 10 -sub_batch 5 --standardise_dosages -output /opt/data/projects/asthma-copd/results/imputed_gwas/GWAS_ACO_GLM_SNPs_info0.7-harmonized-imputed-chr1-batch5_10.txt\n",
      "+ set +x\n",
      "+ /opt/data/software/conda_envs/summary_gwas_imputation/bin/python /opt/data/software/summary-gwas-imputation/src/gwas_summary_imputation.py -by_region_file /opt/data/data/eur_ld.bed.gz -gwas_file /opt/data/projects/asthma-copd/results/harmonized_gwas/GWAS_ACO_GLM_SNPs_info0.7-harmonized.txt -parquet_genotype /opt/data/data/phenomexcan/ld_blocks/reference_panel_1000G/chr1.variants.parquet -parquet_genotype_metadata /opt/data/data/phenomexcan/ld_blocks/reference_panel_1000G/variant_metadata.parquet -window 100000 -parsimony 7 -chromosome 1 -regularization 0.1 -frequency_filter 0.01 -sub_batches 10 -sub_batch 6 --standardise_dosages -output /opt/data/projects/asthma-copd/results/imputed_gwas/GWAS_ACO_GLM_SNPs_info0.7-harmonized-imputed-chr1-batch6_10.txt\n"
     ]
    },
    {
     "name": "stdout",
     "output_type": "stream",
     "text": [
      "/opt/data/software/conda_envs/summary_gwas_imputation/lib/python3.7/site-packages/pyarrow/pandas_compat.py:752: FutureWarning: .labels was deprecated in version 0.24.0. Use .codes instead.\n",
      "\n"
     ]
    },
    {
     "name": "stderr",
     "output_type": "stream",
     "text": [
      "+ set +x\n"
     ]
    },
    {
     "name": "stdout",
     "output_type": "stream",
     "text": [
      "Running for aco, 1, 7\n",
      "Saving results in /opt/data/projects/asthma-copd/results/imputed_gwas\n",
      "/opt/data/software/conda_envs/summary_gwas_imputation/lib/python3.7/site-packages/pyarrow/pandas_compat.py:752: FutureWarning: .labels was deprecated in version 0.24.0. Use .codes instead.\n",
      "\n",
      "Running for aco, 1, 8\n",
      "Saving results in /opt/data/projects/asthma-copd/results/imputed_gwas\n"
     ]
    },
    {
     "name": "stderr",
     "output_type": "stream",
     "text": [
      "+ /opt/data/software/conda_envs/summary_gwas_imputation/bin/python /opt/data/software/summary-gwas-imputation/src/gwas_summary_imputation.py -by_region_file /opt/data/data/eur_ld.bed.gz -gwas_file /opt/data/projects/asthma-copd/results/harmonized_gwas/GWAS_ACO_GLM_SNPs_info0.7-harmonized.txt -parquet_genotype /opt/data/data/phenomexcan/ld_blocks/reference_panel_1000G/chr1.variants.parquet -parquet_genotype_metadata /opt/data/data/phenomexcan/ld_blocks/reference_panel_1000G/variant_metadata.parquet -window 100000 -parsimony 7 -chromosome 1 -regularization 0.1 -frequency_filter 0.01 -sub_batches 10 -sub_batch 7 --standardise_dosages -output /opt/data/projects/asthma-copd/results/imputed_gwas/GWAS_ACO_GLM_SNPs_info0.7-harmonized-imputed-chr1-batch7_10.txt\n",
      "+ set +x\n",
      "+ /opt/data/software/conda_envs/summary_gwas_imputation/bin/python /opt/data/software/summary-gwas-imputation/src/gwas_summary_imputation.py -by_region_file /opt/data/data/eur_ld.bed.gz -gwas_file /opt/data/projects/asthma-copd/results/harmonized_gwas/GWAS_ACO_GLM_SNPs_info0.7-harmonized.txt -parquet_genotype /opt/data/data/phenomexcan/ld_blocks/reference_panel_1000G/chr1.variants.parquet -parquet_genotype_metadata /opt/data/data/phenomexcan/ld_blocks/reference_panel_1000G/variant_metadata.parquet -window 100000 -parsimony 7 -chromosome 1 -regularization 0.1 -frequency_filter 0.01 -sub_batches 10 -sub_batch 8 --standardise_dosages -output /opt/data/projects/asthma-copd/results/imputed_gwas/GWAS_ACO_GLM_SNPs_info0.7-harmonized-imputed-chr1-batch8_10.txt\n"
     ]
    },
    {
     "name": "stdout",
     "output_type": "stream",
     "text": [
      "/opt/data/software/conda_envs/summary_gwas_imputation/lib/python3.7/site-packages/pyarrow/pandas_compat.py:752: FutureWarning: .labels was deprecated in version 0.24.0. Use .codes instead.\n",
      "INFO - Error for region (1,222056878.0,224750818.0): LinAlgError('SVD did not converge')\n",
      "\n"
     ]
    },
    {
     "name": "stderr",
     "output_type": "stream",
     "text": [
      "+ set +x\n"
     ]
    },
    {
     "name": "stdout",
     "output_type": "stream",
     "text": [
      "Running for aco, 1, 9\n",
      "Saving results in /opt/data/projects/asthma-copd/results/imputed_gwas\n",
      "/opt/data/software/conda_envs/summary_gwas_imputation/lib/python3.7/site-packages/pyarrow/pandas_compat.py:752: FutureWarning: .labels was deprecated in version 0.24.0. Use .codes instead.\n",
      "\n",
      "Running for aco, 2, 0\n",
      "Saving results in /opt/data/projects/asthma-copd/results/imputed_gwas\n"
     ]
    },
    {
     "name": "stderr",
     "output_type": "stream",
     "text": [
      "+ /opt/data/software/conda_envs/summary_gwas_imputation/bin/python /opt/data/software/summary-gwas-imputation/src/gwas_summary_imputation.py -by_region_file /opt/data/data/eur_ld.bed.gz -gwas_file /opt/data/projects/asthma-copd/results/harmonized_gwas/GWAS_ACO_GLM_SNPs_info0.7-harmonized.txt -parquet_genotype /opt/data/data/phenomexcan/ld_blocks/reference_panel_1000G/chr1.variants.parquet -parquet_genotype_metadata /opt/data/data/phenomexcan/ld_blocks/reference_panel_1000G/variant_metadata.parquet -window 100000 -parsimony 7 -chromosome 1 -regularization 0.1 -frequency_filter 0.01 -sub_batches 10 -sub_batch 9 --standardise_dosages -output /opt/data/projects/asthma-copd/results/imputed_gwas/GWAS_ACO_GLM_SNPs_info0.7-harmonized-imputed-chr1-batch9_10.txt\n",
      "+ set +x\n",
      "+ /opt/data/software/conda_envs/summary_gwas_imputation/bin/python /opt/data/software/summary-gwas-imputation/src/gwas_summary_imputation.py -by_region_file /opt/data/data/eur_ld.bed.gz -gwas_file /opt/data/projects/asthma-copd/results/harmonized_gwas/GWAS_ACO_GLM_SNPs_info0.7-harmonized.txt -parquet_genotype /opt/data/data/phenomexcan/ld_blocks/reference_panel_1000G/chr2.variants.parquet -parquet_genotype_metadata /opt/data/data/phenomexcan/ld_blocks/reference_panel_1000G/variant_metadata.parquet -window 100000 -parsimony 7 -chromosome 2 -regularization 0.1 -frequency_filter 0.01 -sub_batches 10 -sub_batch 0 --standardise_dosages -output /opt/data/projects/asthma-copd/results/imputed_gwas/GWAS_ACO_GLM_SNPs_info0.7-harmonized-imputed-chr2-batch0_10.txt\n"
     ]
    },
    {
     "name": "stdout",
     "output_type": "stream",
     "text": [
      "/opt/data/software/conda_envs/summary_gwas_imputation/lib/python3.7/site-packages/pyarrow/pandas_compat.py:752: FutureWarning: .labels was deprecated in version 0.24.0. Use .codes instead.\n",
      "\n"
     ]
    },
    {
     "name": "stderr",
     "output_type": "stream",
     "text": [
      "+ set +x\n"
     ]
    },
    {
     "name": "stdout",
     "output_type": "stream",
     "text": [
      "Running for aco, 2, 1\n",
      "Saving results in /opt/data/projects/asthma-copd/results/imputed_gwas\n",
      "/opt/data/software/conda_envs/summary_gwas_imputation/lib/python3.7/site-packages/pyarrow/pandas_compat.py:752: FutureWarning: .labels was deprecated in version 0.24.0. Use .codes instead.\n",
      "Intel MKL ERROR: Parameter 4 was incorrect on entry to DLASCL.\n",
      "\n",
      "Running for aco, 2, 2\n",
      "Saving results in /opt/data/projects/asthma-copd/results/imputed_gwas\n",
      "/opt/data/software/conda_envs/summary_gwas_imputation/lib/python3.7/site-packages/pyarrow/pandas_compat.py:752: FutureWarning: .labels was deprecated in version 0.24.0. Use .codes instead.\n",
      "INFO - Error for region (2,58070180.0,60064865.0): LinAlgError('SVD did not converge')\n",
      "\n",
      "Running for aco, 2, 3\n",
      "Saving results in /opt/data/projects/asthma-copd/results/imputed_gwas\n",
      "/opt/data/software/conda_envs/summary_gwas_imputation/lib/python3.7/site-packages/pyarrow/pandas_compat.py:752: FutureWarning: .labels was deprecated in version 0.24.0. Use .codes instead.\n",
      "\n",
      "Running for aco, 2, 4\n",
      "Saving results in /opt/data/projects/asthma-copd/results/imputed_gwas\n",
      "/opt/data/software/conda_envs/summary_gwas_imputation/lib/python3.7/site-packages/pyarrow/pandas_compat.py:752: FutureWarning: .labels was deprecated in version 0.24.0. Use .codes instead.\n",
      "\n",
      "Running for aco, 2, 5\n",
      "Saving results in /opt/data/projects/asthma-copd/results/imputed_gwas\n",
      "/opt/data/software/conda_envs/summary_gwas_imputation/lib/python3.7/site-packages/pyarrow/pandas_compat.py:752: FutureWarning: .labels was deprecated in version 0.24.0. Use .codes instead.\n",
      "\n",
      "Running for aco, 2, 6\n",
      "Saving results in /opt/data/projects/asthma-copd/results/imputed_gwas\n",
      "/opt/data/software/conda_envs/summary_gwas_imputation/lib/python3.7/site-packages/pyarrow/pandas_compat.py:752: FutureWarning: .labels was deprecated in version 0.24.0. Use .codes instead.\n",
      "\n",
      "Running for aco, 2, 7\n",
      "Saving results in /opt/data/projects/asthma-copd/results/imputed_gwas\n"
     ]
    },
    {
     "name": "stderr",
     "output_type": "stream",
     "text": [
      "+ /opt/data/software/conda_envs/summary_gwas_imputation/bin/python /opt/data/software/summary-gwas-imputation/src/gwas_summary_imputation.py -by_region_file /opt/data/data/eur_ld.bed.gz -gwas_file /opt/data/projects/asthma-copd/results/harmonized_gwas/GWAS_ACO_GLM_SNPs_info0.7-harmonized.txt -parquet_genotype /opt/data/data/phenomexcan/ld_blocks/reference_panel_1000G/chr2.variants.parquet -parquet_genotype_metadata /opt/data/data/phenomexcan/ld_blocks/reference_panel_1000G/variant_metadata.parquet -window 100000 -parsimony 7 -chromosome 2 -regularization 0.1 -frequency_filter 0.01 -sub_batches 10 -sub_batch 1 --standardise_dosages -output /opt/data/projects/asthma-copd/results/imputed_gwas/GWAS_ACO_GLM_SNPs_info0.7-harmonized-imputed-chr2-batch1_10.txt\n",
      "+ set +x\n",
      "+ /opt/data/software/conda_envs/summary_gwas_imputation/bin/python /opt/data/software/summary-gwas-imputation/src/gwas_summary_imputation.py -by_region_file /opt/data/data/eur_ld.bed.gz -gwas_file /opt/data/projects/asthma-copd/results/harmonized_gwas/GWAS_ACO_GLM_SNPs_info0.7-harmonized.txt -parquet_genotype /opt/data/data/phenomexcan/ld_blocks/reference_panel_1000G/chr2.variants.parquet -parquet_genotype_metadata /opt/data/data/phenomexcan/ld_blocks/reference_panel_1000G/variant_metadata.parquet -window 100000 -parsimony 7 -chromosome 2 -regularization 0.1 -frequency_filter 0.01 -sub_batches 10 -sub_batch 2 --standardise_dosages -output /opt/data/projects/asthma-copd/results/imputed_gwas/GWAS_ACO_GLM_SNPs_info0.7-harmonized-imputed-chr2-batch2_10.txt\n",
      "+ set +x\n",
      "+ /opt/data/software/conda_envs/summary_gwas_imputation/bin/python /opt/data/software/summary-gwas-imputation/src/gwas_summary_imputation.py -by_region_file /opt/data/data/eur_ld.bed.gz -gwas_file /opt/data/projects/asthma-copd/results/harmonized_gwas/GWAS_ACO_GLM_SNPs_info0.7-harmonized.txt -parquet_genotype /opt/data/data/phenomexcan/ld_blocks/reference_panel_1000G/chr2.variants.parquet -parquet_genotype_metadata /opt/data/data/phenomexcan/ld_blocks/reference_panel_1000G/variant_metadata.parquet -window 100000 -parsimony 7 -chromosome 2 -regularization 0.1 -frequency_filter 0.01 -sub_batches 10 -sub_batch 3 --standardise_dosages -output /opt/data/projects/asthma-copd/results/imputed_gwas/GWAS_ACO_GLM_SNPs_info0.7-harmonized-imputed-chr2-batch3_10.txt\n",
      "+ set +x\n",
      "+ /opt/data/software/conda_envs/summary_gwas_imputation/bin/python /opt/data/software/summary-gwas-imputation/src/gwas_summary_imputation.py -by_region_file /opt/data/data/eur_ld.bed.gz -gwas_file /opt/data/projects/asthma-copd/results/harmonized_gwas/GWAS_ACO_GLM_SNPs_info0.7-harmonized.txt -parquet_genotype /opt/data/data/phenomexcan/ld_blocks/reference_panel_1000G/chr2.variants.parquet -parquet_genotype_metadata /opt/data/data/phenomexcan/ld_blocks/reference_panel_1000G/variant_metadata.parquet -window 100000 -parsimony 7 -chromosome 2 -regularization 0.1 -frequency_filter 0.01 -sub_batches 10 -sub_batch 4 --standardise_dosages -output /opt/data/projects/asthma-copd/results/imputed_gwas/GWAS_ACO_GLM_SNPs_info0.7-harmonized-imputed-chr2-batch4_10.txt\n",
      "+ set +x\n",
      "+ /opt/data/software/conda_envs/summary_gwas_imputation/bin/python /opt/data/software/summary-gwas-imputation/src/gwas_summary_imputation.py -by_region_file /opt/data/data/eur_ld.bed.gz -gwas_file /opt/data/projects/asthma-copd/results/harmonized_gwas/GWAS_ACO_GLM_SNPs_info0.7-harmonized.txt -parquet_genotype /opt/data/data/phenomexcan/ld_blocks/reference_panel_1000G/chr2.variants.parquet -parquet_genotype_metadata /opt/data/data/phenomexcan/ld_blocks/reference_panel_1000G/variant_metadata.parquet -window 100000 -parsimony 7 -chromosome 2 -regularization 0.1 -frequency_filter 0.01 -sub_batches 10 -sub_batch 5 --standardise_dosages -output /opt/data/projects/asthma-copd/results/imputed_gwas/GWAS_ACO_GLM_SNPs_info0.7-harmonized-imputed-chr2-batch5_10.txt\n",
      "+ set +x\n",
      "+ /opt/data/software/conda_envs/summary_gwas_imputation/bin/python /opt/data/software/summary-gwas-imputation/src/gwas_summary_imputation.py -by_region_file /opt/data/data/eur_ld.bed.gz -gwas_file /opt/data/projects/asthma-copd/results/harmonized_gwas/GWAS_ACO_GLM_SNPs_info0.7-harmonized.txt -parquet_genotype /opt/data/data/phenomexcan/ld_blocks/reference_panel_1000G/chr2.variants.parquet -parquet_genotype_metadata /opt/data/data/phenomexcan/ld_blocks/reference_panel_1000G/variant_metadata.parquet -window 100000 -parsimony 7 -chromosome 2 -regularization 0.1 -frequency_filter 0.01 -sub_batches 10 -sub_batch 6 --standardise_dosages -output /opt/data/projects/asthma-copd/results/imputed_gwas/GWAS_ACO_GLM_SNPs_info0.7-harmonized-imputed-chr2-batch6_10.txt\n",
      "+ set +x\n",
      "+ /opt/data/software/conda_envs/summary_gwas_imputation/bin/python /opt/data/software/summary-gwas-imputation/src/gwas_summary_imputation.py -by_region_file /opt/data/data/eur_ld.bed.gz -gwas_file /opt/data/projects/asthma-copd/results/harmonized_gwas/GWAS_ACO_GLM_SNPs_info0.7-harmonized.txt -parquet_genotype /opt/data/data/phenomexcan/ld_blocks/reference_panel_1000G/chr2.variants.parquet -parquet_genotype_metadata /opt/data/data/phenomexcan/ld_blocks/reference_panel_1000G/variant_metadata.parquet -window 100000 -parsimony 7 -chromosome 2 -regularization 0.1 -frequency_filter 0.01 -sub_batches 10 -sub_batch 7 --standardise_dosages -output /opt/data/projects/asthma-copd/results/imputed_gwas/GWAS_ACO_GLM_SNPs_info0.7-harmonized-imputed-chr2-batch7_10.txt\n"
     ]
    },
    {
     "name": "stdout",
     "output_type": "stream",
     "text": [
      "/opt/data/software/conda_envs/summary_gwas_imputation/lib/python3.7/site-packages/pyarrow/pandas_compat.py:752: FutureWarning: .labels was deprecated in version 0.24.0. Use .codes instead.\n",
      "\n"
     ]
    },
    {
     "name": "stderr",
     "output_type": "stream",
     "text": [
      "+ set +x\n"
     ]
    },
    {
     "name": "stdout",
     "output_type": "stream",
     "text": [
      "Running for aco, 2, 8\n",
      "Saving results in /opt/data/projects/asthma-copd/results/imputed_gwas\n",
      "/opt/data/software/conda_envs/summary_gwas_imputation/lib/python3.7/site-packages/pyarrow/pandas_compat.py:752: FutureWarning: .labels was deprecated in version 0.24.0. Use .codes instead.\n",
      "\n"
     ]
    },
    {
     "name": "stderr",
     "output_type": "stream",
     "text": [
      "+ /opt/data/software/conda_envs/summary_gwas_imputation/bin/python /opt/data/software/summary-gwas-imputation/src/gwas_summary_imputation.py -by_region_file /opt/data/data/eur_ld.bed.gz -gwas_file /opt/data/projects/asthma-copd/results/harmonized_gwas/GWAS_ACO_GLM_SNPs_info0.7-harmonized.txt -parquet_genotype /opt/data/data/phenomexcan/ld_blocks/reference_panel_1000G/chr2.variants.parquet -parquet_genotype_metadata /opt/data/data/phenomexcan/ld_blocks/reference_panel_1000G/variant_metadata.parquet -window 100000 -parsimony 7 -chromosome 2 -regularization 0.1 -frequency_filter 0.01 -sub_batches 10 -sub_batch 8 --standardise_dosages -output /opt/data/projects/asthma-copd/results/imputed_gwas/GWAS_ACO_GLM_SNPs_info0.7-harmonized-imputed-chr2-batch8_10.txt\n",
      "+ set +x\n"
     ]
    },
    {
     "name": "stdout",
     "output_type": "stream",
     "text": [
      "Running for aco, 2, 9\n",
      "Saving results in /opt/data/projects/asthma-copd/results/imputed_gwas\n",
      "/opt/data/software/conda_envs/summary_gwas_imputation/lib/python3.7/site-packages/pyarrow/pandas_compat.py:752: FutureWarning: .labels was deprecated in version 0.24.0. Use .codes instead.\n",
      "INFO - Error for region (2,232685293.0,234242343.0): LinAlgError('SVD did not converge')\n",
      "\n",
      "Running for aco, 3, 0\n",
      "Saving results in /opt/data/projects/asthma-copd/results/imputed_gwas\n",
      "/opt/data/software/conda_envs/summary_gwas_imputation/lib/python3.7/site-packages/pyarrow/pandas_compat.py:752: FutureWarning: .labels was deprecated in version 0.24.0. Use .codes instead.\n",
      "\n",
      "Running for aco, 3, 1\n",
      "Saving results in /opt/data/projects/asthma-copd/results/imputed_gwas\n",
      "/opt/data/software/conda_envs/summary_gwas_imputation/lib/python3.7/site-packages/pyarrow/pandas_compat.py:752: FutureWarning: .labels was deprecated in version 0.24.0. Use .codes instead.\n",
      "\n",
      "Running for aco, 3, 2\n",
      "Saving results in /opt/data/projects/asthma-copd/results/imputed_gwas\n",
      "/opt/data/software/conda_envs/summary_gwas_imputation/lib/python3.7/site-packages/pyarrow/pandas_compat.py:752: FutureWarning: .labels was deprecated in version 0.24.0. Use .codes instead.\n",
      "\n",
      "Running for aco, 3, 3\n",
      "Saving results in /opt/data/projects/asthma-copd/results/imputed_gwas\n",
      "/opt/data/software/conda_envs/summary_gwas_imputation/lib/python3.7/site-packages/pyarrow/pandas_compat.py:752: FutureWarning: .labels was deprecated in version 0.24.0. Use .codes instead.\n",
      "\n",
      "Running for aco, 3, 4\n",
      "Saving results in /opt/data/projects/asthma-copd/results/imputed_gwas\n",
      "/opt/data/software/conda_envs/summary_gwas_imputation/lib/python3.7/site-packages/pyarrow/pandas_compat.py:752: FutureWarning: .labels was deprecated in version 0.24.0. Use .codes instead.\n",
      "\n"
     ]
    },
    {
     "name": "stderr",
     "output_type": "stream",
     "text": [
      "+ /opt/data/software/conda_envs/summary_gwas_imputation/bin/python /opt/data/software/summary-gwas-imputation/src/gwas_summary_imputation.py -by_region_file /opt/data/data/eur_ld.bed.gz -gwas_file /opt/data/projects/asthma-copd/results/harmonized_gwas/GWAS_ACO_GLM_SNPs_info0.7-harmonized.txt -parquet_genotype /opt/data/data/phenomexcan/ld_blocks/reference_panel_1000G/chr2.variants.parquet -parquet_genotype_metadata /opt/data/data/phenomexcan/ld_blocks/reference_panel_1000G/variant_metadata.parquet -window 100000 -parsimony 7 -chromosome 2 -regularization 0.1 -frequency_filter 0.01 -sub_batches 10 -sub_batch 9 --standardise_dosages -output /opt/data/projects/asthma-copd/results/imputed_gwas/GWAS_ACO_GLM_SNPs_info0.7-harmonized-imputed-chr2-batch9_10.txt\n",
      "+ set +x\n",
      "+ /opt/data/software/conda_envs/summary_gwas_imputation/bin/python /opt/data/software/summary-gwas-imputation/src/gwas_summary_imputation.py -by_region_file /opt/data/data/eur_ld.bed.gz -gwas_file /opt/data/projects/asthma-copd/results/harmonized_gwas/GWAS_ACO_GLM_SNPs_info0.7-harmonized.txt -parquet_genotype /opt/data/data/phenomexcan/ld_blocks/reference_panel_1000G/chr3.variants.parquet -parquet_genotype_metadata /opt/data/data/phenomexcan/ld_blocks/reference_panel_1000G/variant_metadata.parquet -window 100000 -parsimony 7 -chromosome 3 -regularization 0.1 -frequency_filter 0.01 -sub_batches 10 -sub_batch 0 --standardise_dosages -output /opt/data/projects/asthma-copd/results/imputed_gwas/GWAS_ACO_GLM_SNPs_info0.7-harmonized-imputed-chr3-batch0_10.txt\n",
      "+ set +x\n",
      "+ /opt/data/software/conda_envs/summary_gwas_imputation/bin/python /opt/data/software/summary-gwas-imputation/src/gwas_summary_imputation.py -by_region_file /opt/data/data/eur_ld.bed.gz -gwas_file /opt/data/projects/asthma-copd/results/harmonized_gwas/GWAS_ACO_GLM_SNPs_info0.7-harmonized.txt -parquet_genotype /opt/data/data/phenomexcan/ld_blocks/reference_panel_1000G/chr3.variants.parquet -parquet_genotype_metadata /opt/data/data/phenomexcan/ld_blocks/reference_panel_1000G/variant_metadata.parquet -window 100000 -parsimony 7 -chromosome 3 -regularization 0.1 -frequency_filter 0.01 -sub_batches 10 -sub_batch 1 --standardise_dosages -output /opt/data/projects/asthma-copd/results/imputed_gwas/GWAS_ACO_GLM_SNPs_info0.7-harmonized-imputed-chr3-batch1_10.txt\n",
      "+ set +x\n",
      "+ /opt/data/software/conda_envs/summary_gwas_imputation/bin/python /opt/data/software/summary-gwas-imputation/src/gwas_summary_imputation.py -by_region_file /opt/data/data/eur_ld.bed.gz -gwas_file /opt/data/projects/asthma-copd/results/harmonized_gwas/GWAS_ACO_GLM_SNPs_info0.7-harmonized.txt -parquet_genotype /opt/data/data/phenomexcan/ld_blocks/reference_panel_1000G/chr3.variants.parquet -parquet_genotype_metadata /opt/data/data/phenomexcan/ld_blocks/reference_panel_1000G/variant_metadata.parquet -window 100000 -parsimony 7 -chromosome 3 -regularization 0.1 -frequency_filter 0.01 -sub_batches 10 -sub_batch 2 --standardise_dosages -output /opt/data/projects/asthma-copd/results/imputed_gwas/GWAS_ACO_GLM_SNPs_info0.7-harmonized-imputed-chr3-batch2_10.txt\n",
      "+ set +x\n",
      "+ /opt/data/software/conda_envs/summary_gwas_imputation/bin/python /opt/data/software/summary-gwas-imputation/src/gwas_summary_imputation.py -by_region_file /opt/data/data/eur_ld.bed.gz -gwas_file /opt/data/projects/asthma-copd/results/harmonized_gwas/GWAS_ACO_GLM_SNPs_info0.7-harmonized.txt -parquet_genotype /opt/data/data/phenomexcan/ld_blocks/reference_panel_1000G/chr3.variants.parquet -parquet_genotype_metadata /opt/data/data/phenomexcan/ld_blocks/reference_panel_1000G/variant_metadata.parquet -window 100000 -parsimony 7 -chromosome 3 -regularization 0.1 -frequency_filter 0.01 -sub_batches 10 -sub_batch 3 --standardise_dosages -output /opt/data/projects/asthma-copd/results/imputed_gwas/GWAS_ACO_GLM_SNPs_info0.7-harmonized-imputed-chr3-batch3_10.txt\n",
      "+ set +x\n",
      "+ /opt/data/software/conda_envs/summary_gwas_imputation/bin/python /opt/data/software/summary-gwas-imputation/src/gwas_summary_imputation.py -by_region_file /opt/data/data/eur_ld.bed.gz -gwas_file /opt/data/projects/asthma-copd/results/harmonized_gwas/GWAS_ACO_GLM_SNPs_info0.7-harmonized.txt -parquet_genotype /opt/data/data/phenomexcan/ld_blocks/reference_panel_1000G/chr3.variants.parquet -parquet_genotype_metadata /opt/data/data/phenomexcan/ld_blocks/reference_panel_1000G/variant_metadata.parquet -window 100000 -parsimony 7 -chromosome 3 -regularization 0.1 -frequency_filter 0.01 -sub_batches 10 -sub_batch 4 --standardise_dosages -output /opt/data/projects/asthma-copd/results/imputed_gwas/GWAS_ACO_GLM_SNPs_info0.7-harmonized-imputed-chr3-batch4_10.txt\n",
      "+ set +x\n",
      "+ /opt/data/software/conda_envs/summary_gwas_imputation/bin/python /opt/data/software/summary-gwas-imputation/src/gwas_summary_imputation.py -by_region_file /opt/data/data/eur_ld.bed.gz -gwas_file /opt/data/projects/asthma-copd/results/harmonized_gwas/GWAS_ACO_GLM_SNPs_info0.7-harmonized.txt -parquet_genotype /opt/data/data/phenomexcan/ld_blocks/reference_panel_1000G/chr3.variants.parquet -parquet_genotype_metadata /opt/data/data/phenomexcan/ld_blocks/reference_panel_1000G/variant_metadata.parquet -window 100000 -parsimony 7 -chromosome 3 -regularization 0.1 -frequency_filter 0.01 -sub_batches 10 -sub_batch 5 --standardise_dosages -output /opt/data/projects/asthma-copd/results/imputed_gwas/GWAS_ACO_GLM_SNPs_info0.7-harmonized-imputed-chr3-batch5_10.txt\n",
      "+ set +x\n",
      "+ /opt/data/software/conda_envs/summary_gwas_imputation/bin/python /opt/data/software/summary-gwas-imputation/src/gwas_summary_imputation.py -by_region_file /opt/data/data/eur_ld.bed.gz -gwas_file /opt/data/projects/asthma-copd/results/harmonized_gwas/GWAS_ACO_GLM_SNPs_info0.7-harmonized.txt -parquet_genotype /opt/data/data/phenomexcan/ld_blocks/reference_panel_1000G/chr3.variants.parquet -parquet_genotype_metadata /opt/data/data/phenomexcan/ld_blocks/reference_panel_1000G/variant_metadata.parquet -window 100000 -parsimony 7 -chromosome 3 -regularization 0.1 -frequency_filter 0.01 -sub_batches 10 -sub_batch 6 --standardise_dosages -output /opt/data/projects/asthma-copd/results/imputed_gwas/GWAS_ACO_GLM_SNPs_info0.7-harmonized-imputed-chr3-batch6_10.txt\n",
      "+ set +x\n"
     ]
    },
    {
     "name": "stdout",
     "output_type": "stream",
     "text": [
      "Running for aco, 3, 5\n",
      "Saving results in /opt/data/projects/asthma-copd/results/imputed_gwas\n",
      "/opt/data/software/conda_envs/summary_gwas_imputation/lib/python3.7/site-packages/pyarrow/pandas_compat.py:752: FutureWarning: .labels was deprecated in version 0.24.0. Use .codes instead.\n",
      "\n",
      "Running for aco, 3, 6\n",
      "Saving results in /opt/data/projects/asthma-copd/results/imputed_gwas\n",
      "/opt/data/software/conda_envs/summary_gwas_imputation/lib/python3.7/site-packages/pyarrow/pandas_compat.py:752: FutureWarning: .labels was deprecated in version 0.24.0. Use .codes instead.\n",
      "\n",
      "Running for aco, 3, 7\n",
      "Saving results in /opt/data/projects/asthma-copd/results/imputed_gwas\n",
      "/opt/data/software/conda_envs/summary_gwas_imputation/lib/python3.7/site-packages/pyarrow/pandas_compat.py:752: FutureWarning: .labels was deprecated in version 0.24.0. Use .codes instead.\n",
      "\n",
      "Running for aco, 3, 8\n",
      "Saving results in /opt/data/projects/asthma-copd/results/imputed_gwas\n",
      "/opt/data/software/conda_envs/summary_gwas_imputation/lib/python3.7/site-packages/pyarrow/pandas_compat.py:752: FutureWarning: .labels was deprecated in version 0.24.0. Use .codes instead.\n",
      "INFO - Error for region (3,173759495.0,175398750.0): LinAlgError('SVD did not converge')\n",
      "\n",
      "Running for aco, 3, 9\n",
      "Saving results in /opt/data/projects/asthma-copd/results/imputed_gwas\n",
      "/opt/data/software/conda_envs/summary_gwas_imputation/lib/python3.7/site-packages/pyarrow/pandas_compat.py:752: FutureWarning: .labels was deprecated in version 0.24.0. Use .codes instead.\n",
      "\n",
      "Running for aco, 4, 0\n",
      "Saving results in /opt/data/projects/asthma-copd/results/imputed_gwas\n",
      "/opt/data/software/conda_envs/summary_gwas_imputation/lib/python3.7/site-packages/pyarrow/pandas_compat.py:752: FutureWarning: .labels was deprecated in version 0.24.0. Use .codes instead.\n",
      "\n",
      "Running for aco, 4, 1\n",
      "Saving results in /opt/data/projects/asthma-copd/results/imputed_gwas\n",
      "/opt/data/software/conda_envs/summary_gwas_imputation/lib/python3.7/site-packages/pyarrow/pandas_compat.py:752: FutureWarning: .labels was deprecated in version 0.24.0. Use .codes instead.\n",
      "\n",
      "Running for aco, 4, 2\n",
      "Saving results in /opt/data/projects/asthma-copd/results/imputed_gwas\n"
     ]
    },
    {
     "name": "stderr",
     "output_type": "stream",
     "text": [
      "+ /opt/data/software/conda_envs/summary_gwas_imputation/bin/python /opt/data/software/summary-gwas-imputation/src/gwas_summary_imputation.py -by_region_file /opt/data/data/eur_ld.bed.gz -gwas_file /opt/data/projects/asthma-copd/results/harmonized_gwas/GWAS_ACO_GLM_SNPs_info0.7-harmonized.txt -parquet_genotype /opt/data/data/phenomexcan/ld_blocks/reference_panel_1000G/chr3.variants.parquet -parquet_genotype_metadata /opt/data/data/phenomexcan/ld_blocks/reference_panel_1000G/variant_metadata.parquet -window 100000 -parsimony 7 -chromosome 3 -regularization 0.1 -frequency_filter 0.01 -sub_batches 10 -sub_batch 7 --standardise_dosages -output /opt/data/projects/asthma-copd/results/imputed_gwas/GWAS_ACO_GLM_SNPs_info0.7-harmonized-imputed-chr3-batch7_10.txt\n",
      "+ set +x\n",
      "+ /opt/data/software/conda_envs/summary_gwas_imputation/bin/python /opt/data/software/summary-gwas-imputation/src/gwas_summary_imputation.py -by_region_file /opt/data/data/eur_ld.bed.gz -gwas_file /opt/data/projects/asthma-copd/results/harmonized_gwas/GWAS_ACO_GLM_SNPs_info0.7-harmonized.txt -parquet_genotype /opt/data/data/phenomexcan/ld_blocks/reference_panel_1000G/chr3.variants.parquet -parquet_genotype_metadata /opt/data/data/phenomexcan/ld_blocks/reference_panel_1000G/variant_metadata.parquet -window 100000 -parsimony 7 -chromosome 3 -regularization 0.1 -frequency_filter 0.01 -sub_batches 10 -sub_batch 8 --standardise_dosages -output /opt/data/projects/asthma-copd/results/imputed_gwas/GWAS_ACO_GLM_SNPs_info0.7-harmonized-imputed-chr3-batch8_10.txt\n",
      "+ set +x\n",
      "+ /opt/data/software/conda_envs/summary_gwas_imputation/bin/python /opt/data/software/summary-gwas-imputation/src/gwas_summary_imputation.py -by_region_file /opt/data/data/eur_ld.bed.gz -gwas_file /opt/data/projects/asthma-copd/results/harmonized_gwas/GWAS_ACO_GLM_SNPs_info0.7-harmonized.txt -parquet_genotype /opt/data/data/phenomexcan/ld_blocks/reference_panel_1000G/chr3.variants.parquet -parquet_genotype_metadata /opt/data/data/phenomexcan/ld_blocks/reference_panel_1000G/variant_metadata.parquet -window 100000 -parsimony 7 -chromosome 3 -regularization 0.1 -frequency_filter 0.01 -sub_batches 10 -sub_batch 9 --standardise_dosages -output /opt/data/projects/asthma-copd/results/imputed_gwas/GWAS_ACO_GLM_SNPs_info0.7-harmonized-imputed-chr3-batch9_10.txt\n",
      "+ set +x\n",
      "+ /opt/data/software/conda_envs/summary_gwas_imputation/bin/python /opt/data/software/summary-gwas-imputation/src/gwas_summary_imputation.py -by_region_file /opt/data/data/eur_ld.bed.gz -gwas_file /opt/data/projects/asthma-copd/results/harmonized_gwas/GWAS_ACO_GLM_SNPs_info0.7-harmonized.txt -parquet_genotype /opt/data/data/phenomexcan/ld_blocks/reference_panel_1000G/chr4.variants.parquet -parquet_genotype_metadata /opt/data/data/phenomexcan/ld_blocks/reference_panel_1000G/variant_metadata.parquet -window 100000 -parsimony 7 -chromosome 4 -regularization 0.1 -frequency_filter 0.01 -sub_batches 10 -sub_batch 0 --standardise_dosages -output /opt/data/projects/asthma-copd/results/imputed_gwas/GWAS_ACO_GLM_SNPs_info0.7-harmonized-imputed-chr4-batch0_10.txt\n",
      "+ set +x\n",
      "+ /opt/data/software/conda_envs/summary_gwas_imputation/bin/python /opt/data/software/summary-gwas-imputation/src/gwas_summary_imputation.py -by_region_file /opt/data/data/eur_ld.bed.gz -gwas_file /opt/data/projects/asthma-copd/results/harmonized_gwas/GWAS_ACO_GLM_SNPs_info0.7-harmonized.txt -parquet_genotype /opt/data/data/phenomexcan/ld_blocks/reference_panel_1000G/chr4.variants.parquet -parquet_genotype_metadata /opt/data/data/phenomexcan/ld_blocks/reference_panel_1000G/variant_metadata.parquet -window 100000 -parsimony 7 -chromosome 4 -regularization 0.1 -frequency_filter 0.01 -sub_batches 10 -sub_batch 1 --standardise_dosages -output /opt/data/projects/asthma-copd/results/imputed_gwas/GWAS_ACO_GLM_SNPs_info0.7-harmonized-imputed-chr4-batch1_10.txt\n",
      "+ set +x\n",
      "+ /opt/data/software/conda_envs/summary_gwas_imputation/bin/python /opt/data/software/summary-gwas-imputation/src/gwas_summary_imputation.py -by_region_file /opt/data/data/eur_ld.bed.gz -gwas_file /opt/data/projects/asthma-copd/results/harmonized_gwas/GWAS_ACO_GLM_SNPs_info0.7-harmonized.txt -parquet_genotype /opt/data/data/phenomexcan/ld_blocks/reference_panel_1000G/chr4.variants.parquet -parquet_genotype_metadata /opt/data/data/phenomexcan/ld_blocks/reference_panel_1000G/variant_metadata.parquet -window 100000 -parsimony 7 -chromosome 4 -regularization 0.1 -frequency_filter 0.01 -sub_batches 10 -sub_batch 2 --standardise_dosages -output /opt/data/projects/asthma-copd/results/imputed_gwas/GWAS_ACO_GLM_SNPs_info0.7-harmonized-imputed-chr4-batch2_10.txt\n"
     ]
    },
    {
     "name": "stdout",
     "output_type": "stream",
     "text": [
      "/opt/data/software/conda_envs/summary_gwas_imputation/lib/python3.7/site-packages/pyarrow/pandas_compat.py:752: FutureWarning: .labels was deprecated in version 0.24.0. Use .codes instead.\n",
      "INFO - Error for region (4,37253425.0,38905401.0): LinAlgError('SVD did not converge')\n",
      "\n"
     ]
    },
    {
     "name": "stderr",
     "output_type": "stream",
     "text": [
      "+ set +x\n"
     ]
    },
    {
     "name": "stdout",
     "output_type": "stream",
     "text": [
      "Running for aco, 4, 3\n",
      "Saving results in /opt/data/projects/asthma-copd/results/imputed_gwas\n"
     ]
    },
    {
     "name": "stderr",
     "output_type": "stream",
     "text": [
      "+ /opt/data/software/conda_envs/summary_gwas_imputation/bin/python /opt/data/software/summary-gwas-imputation/src/gwas_summary_imputation.py -by_region_file /opt/data/data/eur_ld.bed.gz -gwas_file /opt/data/projects/asthma-copd/results/harmonized_gwas/GWAS_ACO_GLM_SNPs_info0.7-harmonized.txt -parquet_genotype /opt/data/data/phenomexcan/ld_blocks/reference_panel_1000G/chr4.variants.parquet -parquet_genotype_metadata /opt/data/data/phenomexcan/ld_blocks/reference_panel_1000G/variant_metadata.parquet -window 100000 -parsimony 7 -chromosome 4 -regularization 0.1 -frequency_filter 0.01 -sub_batches 10 -sub_batch 3 --standardise_dosages -output /opt/data/projects/asthma-copd/results/imputed_gwas/GWAS_ACO_GLM_SNPs_info0.7-harmonized-imputed-chr4-batch3_10.txt\n"
     ]
    },
    {
     "name": "stdout",
     "output_type": "stream",
     "text": [
      "/opt/data/software/conda_envs/summary_gwas_imputation/lib/python3.7/site-packages/pyarrow/pandas_compat.py:752: FutureWarning: .labels was deprecated in version 0.24.0. Use .codes instead.\n",
      "\n"
     ]
    },
    {
     "name": "stderr",
     "output_type": "stream",
     "text": [
      "+ set +x\n"
     ]
    },
    {
     "name": "stdout",
     "output_type": "stream",
     "text": [
      "Running for aco, 4, 4\n",
      "Saving results in /opt/data/projects/asthma-copd/results/imputed_gwas\n",
      "/opt/data/software/conda_envs/summary_gwas_imputation/lib/python3.7/site-packages/pyarrow/pandas_compat.py:752: FutureWarning: .labels was deprecated in version 0.24.0. Use .codes instead.\n",
      "\n"
     ]
    },
    {
     "name": "stderr",
     "output_type": "stream",
     "text": [
      "+ /opt/data/software/conda_envs/summary_gwas_imputation/bin/python /opt/data/software/summary-gwas-imputation/src/gwas_summary_imputation.py -by_region_file /opt/data/data/eur_ld.bed.gz -gwas_file /opt/data/projects/asthma-copd/results/harmonized_gwas/GWAS_ACO_GLM_SNPs_info0.7-harmonized.txt -parquet_genotype /opt/data/data/phenomexcan/ld_blocks/reference_panel_1000G/chr4.variants.parquet -parquet_genotype_metadata /opt/data/data/phenomexcan/ld_blocks/reference_panel_1000G/variant_metadata.parquet -window 100000 -parsimony 7 -chromosome 4 -regularization 0.1 -frequency_filter 0.01 -sub_batches 10 -sub_batch 4 --standardise_dosages -output /opt/data/projects/asthma-copd/results/imputed_gwas/GWAS_ACO_GLM_SNPs_info0.7-harmonized-imputed-chr4-batch4_10.txt\n",
      "+ set +x\n",
      "+ /opt/data/software/conda_envs/summary_gwas_imputation/bin/python /opt/data/software/summary-gwas-imputation/src/gwas_summary_imputation.py -by_region_file /opt/data/data/eur_ld.bed.gz -gwas_file /opt/data/projects/asthma-copd/results/harmonized_gwas/GWAS_ACO_GLM_SNPs_info0.7-harmonized.txt -parquet_genotype /opt/data/data/phenomexcan/ld_blocks/reference_panel_1000G/chr4.variants.parquet -parquet_genotype_metadata /opt/data/data/phenomexcan/ld_blocks/reference_panel_1000G/variant_metadata.parquet -window 100000 -parsimony 7 -chromosome 4 -regularization 0.1 -frequency_filter 0.01 -sub_batches 10 -sub_batch 5 --standardise_dosages -output /opt/data/projects/asthma-copd/results/imputed_gwas/GWAS_ACO_GLM_SNPs_info0.7-harmonized-imputed-chr4-batch5_10.txt\n",
      "+ set +x\n"
     ]
    },
    {
     "name": "stdout",
     "output_type": "stream",
     "text": [
      "Running for aco, 4, 5\n",
      "Saving results in /opt/data/projects/asthma-copd/results/imputed_gwas\n",
      "/opt/data/software/conda_envs/summary_gwas_imputation/lib/python3.7/site-packages/pyarrow/pandas_compat.py:752: FutureWarning: .labels was deprecated in version 0.24.0. Use .codes instead.\n",
      "INFO - Error for region (4,107894192.0,110335411.0): LinAlgError('SVD did not converge')\n",
      "\n",
      "Running for aco, 4, 6\n",
      "Saving results in /opt/data/projects/asthma-copd/results/imputed_gwas\n",
      "/opt/data/software/conda_envs/summary_gwas_imputation/lib/python3.7/site-packages/pyarrow/pandas_compat.py:752: FutureWarning: .labels was deprecated in version 0.24.0. Use .codes instead.\n",
      "\n"
     ]
    },
    {
     "name": "stderr",
     "output_type": "stream",
     "text": [
      "+ /opt/data/software/conda_envs/summary_gwas_imputation/bin/python /opt/data/software/summary-gwas-imputation/src/gwas_summary_imputation.py -by_region_file /opt/data/data/eur_ld.bed.gz -gwas_file /opt/data/projects/asthma-copd/results/harmonized_gwas/GWAS_ACO_GLM_SNPs_info0.7-harmonized.txt -parquet_genotype /opt/data/data/phenomexcan/ld_blocks/reference_panel_1000G/chr4.variants.parquet -parquet_genotype_metadata /opt/data/data/phenomexcan/ld_blocks/reference_panel_1000G/variant_metadata.parquet -window 100000 -parsimony 7 -chromosome 4 -regularization 0.1 -frequency_filter 0.01 -sub_batches 10 -sub_batch 6 --standardise_dosages -output /opt/data/projects/asthma-copd/results/imputed_gwas/GWAS_ACO_GLM_SNPs_info0.7-harmonized-imputed-chr4-batch6_10.txt\n",
      "+ set +x\n"
     ]
    },
    {
     "name": "stdout",
     "output_type": "stream",
     "text": [
      "Running for aco, 4, 7\n",
      "Saving results in /opt/data/projects/asthma-copd/results/imputed_gwas\n",
      "/opt/data/software/conda_envs/summary_gwas_imputation/lib/python3.7/site-packages/pyarrow/pandas_compat.py:752: FutureWarning: .labels was deprecated in version 0.24.0. Use .codes instead.\n",
      "\n",
      "Running for aco, 4, 8\n",
      "Saving results in /opt/data/projects/asthma-copd/results/imputed_gwas\n",
      "/opt/data/software/conda_envs/summary_gwas_imputation/lib/python3.7/site-packages/pyarrow/pandas_compat.py:752: FutureWarning: .labels was deprecated in version 0.24.0. Use .codes instead.\n",
      "\n",
      "Running for aco, 4, 9\n",
      "Saving results in /opt/data/projects/asthma-copd/results/imputed_gwas\n"
     ]
    },
    {
     "name": "stderr",
     "output_type": "stream",
     "text": [
      "+ /opt/data/software/conda_envs/summary_gwas_imputation/bin/python /opt/data/software/summary-gwas-imputation/src/gwas_summary_imputation.py -by_region_file /opt/data/data/eur_ld.bed.gz -gwas_file /opt/data/projects/asthma-copd/results/harmonized_gwas/GWAS_ACO_GLM_SNPs_info0.7-harmonized.txt -parquet_genotype /opt/data/data/phenomexcan/ld_blocks/reference_panel_1000G/chr4.variants.parquet -parquet_genotype_metadata /opt/data/data/phenomexcan/ld_blocks/reference_panel_1000G/variant_metadata.parquet -window 100000 -parsimony 7 -chromosome 4 -regularization 0.1 -frequency_filter 0.01 -sub_batches 10 -sub_batch 7 --standardise_dosages -output /opt/data/projects/asthma-copd/results/imputed_gwas/GWAS_ACO_GLM_SNPs_info0.7-harmonized-imputed-chr4-batch7_10.txt\n",
      "+ set +x\n",
      "+ /opt/data/software/conda_envs/summary_gwas_imputation/bin/python /opt/data/software/summary-gwas-imputation/src/gwas_summary_imputation.py -by_region_file /opt/data/data/eur_ld.bed.gz -gwas_file /opt/data/projects/asthma-copd/results/harmonized_gwas/GWAS_ACO_GLM_SNPs_info0.7-harmonized.txt -parquet_genotype /opt/data/data/phenomexcan/ld_blocks/reference_panel_1000G/chr4.variants.parquet -parquet_genotype_metadata /opt/data/data/phenomexcan/ld_blocks/reference_panel_1000G/variant_metadata.parquet -window 100000 -parsimony 7 -chromosome 4 -regularization 0.1 -frequency_filter 0.01 -sub_batches 10 -sub_batch 8 --standardise_dosages -output /opt/data/projects/asthma-copd/results/imputed_gwas/GWAS_ACO_GLM_SNPs_info0.7-harmonized-imputed-chr4-batch8_10.txt\n",
      "+ set +x\n",
      "+ /opt/data/software/conda_envs/summary_gwas_imputation/bin/python /opt/data/software/summary-gwas-imputation/src/gwas_summary_imputation.py -by_region_file /opt/data/data/eur_ld.bed.gz -gwas_file /opt/data/projects/asthma-copd/results/harmonized_gwas/GWAS_ACO_GLM_SNPs_info0.7-harmonized.txt -parquet_genotype /opt/data/data/phenomexcan/ld_blocks/reference_panel_1000G/chr4.variants.parquet -parquet_genotype_metadata /opt/data/data/phenomexcan/ld_blocks/reference_panel_1000G/variant_metadata.parquet -window 100000 -parsimony 7 -chromosome 4 -regularization 0.1 -frequency_filter 0.01 -sub_batches 10 -sub_batch 9 --standardise_dosages -output /opt/data/projects/asthma-copd/results/imputed_gwas/GWAS_ACO_GLM_SNPs_info0.7-harmonized-imputed-chr4-batch9_10.txt\n"
     ]
    },
    {
     "name": "stdout",
     "output_type": "stream",
     "text": [
      "/opt/data/software/conda_envs/summary_gwas_imputation/lib/python3.7/site-packages/pyarrow/pandas_compat.py:752: FutureWarning: .labels was deprecated in version 0.24.0. Use .codes instead.\n",
      "INFO - Error for region (4,175649565.0,178070756.0): LinAlgError('SVD did not converge')\n",
      "INFO - Error for region (4,185987936.0,187551827.0): LinAlgError('SVD did not converge')\n",
      "\n"
     ]
    },
    {
     "name": "stderr",
     "output_type": "stream",
     "text": [
      "+ set +x\n"
     ]
    },
    {
     "name": "stdout",
     "output_type": "stream",
     "text": [
      "Running for aco, 5, 0\n",
      "Saving results in /opt/data/projects/asthma-copd/results/imputed_gwas\n",
      "/opt/data/software/conda_envs/summary_gwas_imputation/lib/python3.7/site-packages/pyarrow/pandas_compat.py:752: FutureWarning: .labels was deprecated in version 0.24.0. Use .codes instead.\n",
      "\n",
      "Running for aco, 5, 1\n",
      "Saving results in /opt/data/projects/asthma-copd/results/imputed_gwas\n",
      "/opt/data/software/conda_envs/summary_gwas_imputation/lib/python3.7/site-packages/pyarrow/pandas_compat.py:752: FutureWarning: .labels was deprecated in version 0.24.0. Use .codes instead.\n",
      "\n",
      "Running for aco, 5, 2\n",
      "Saving results in /opt/data/projects/asthma-copd/results/imputed_gwas\n",
      "/opt/data/software/conda_envs/summary_gwas_imputation/lib/python3.7/site-packages/pyarrow/pandas_compat.py:752: FutureWarning: .labels was deprecated in version 0.24.0. Use .codes instead.\n",
      "\n",
      "Running for aco, 5, 3\n",
      "Saving results in /opt/data/projects/asthma-copd/results/imputed_gwas\n",
      "/opt/data/software/conda_envs/summary_gwas_imputation/lib/python3.7/site-packages/pyarrow/pandas_compat.py:752: FutureWarning: .labels was deprecated in version 0.24.0. Use .codes instead.\n",
      "\n",
      "Running for aco, 5, 4\n",
      "Saving results in /opt/data/projects/asthma-copd/results/imputed_gwas\n",
      "/opt/data/software/conda_envs/summary_gwas_imputation/lib/python3.7/site-packages/pyarrow/pandas_compat.py:752: FutureWarning: .labels was deprecated in version 0.24.0. Use .codes instead.\n",
      "\n",
      "Running for aco, 5, 5\n",
      "Saving results in /opt/data/projects/asthma-copd/results/imputed_gwas\n",
      "/opt/data/software/conda_envs/summary_gwas_imputation/lib/python3.7/site-packages/pyarrow/pandas_compat.py:752: FutureWarning: .labels was deprecated in version 0.24.0. Use .codes instead.\n",
      "INFO - Error for region (5,94474279.0,96627815.0): LinAlgError('SVD did not converge')\n",
      "\n",
      "Running for aco, 5, 6\n",
      "Saving results in /opt/data/projects/asthma-copd/results/imputed_gwas\n",
      "/opt/data/software/conda_envs/summary_gwas_imputation/lib/python3.7/site-packages/pyarrow/pandas_compat.py:752: FutureWarning: .labels was deprecated in version 0.24.0. Use .codes instead.\n",
      "\n",
      "Running for aco, 5, 7\n",
      "Saving results in /opt/data/projects/asthma-copd/results/imputed_gwas\n",
      "/opt/data/software/conda_envs/summary_gwas_imputation/lib/python3.7/site-packages/pyarrow/pandas_compat.py:752: FutureWarning: .labels was deprecated in version 0.24.0. Use .codes instead.\n",
      "\n",
      "Running for aco, 5, 8\n",
      "Saving results in /opt/data/projects/asthma-copd/results/imputed_gwas\n",
      "/opt/data/software/conda_envs/summary_gwas_imputation/lib/python3.7/site-packages/pyarrow/pandas_compat.py:752: FutureWarning: .labels was deprecated in version 0.24.0. Use .codes instead.\n",
      "\n"
     ]
    },
    {
     "name": "stderr",
     "output_type": "stream",
     "text": [
      "+ /opt/data/software/conda_envs/summary_gwas_imputation/bin/python /opt/data/software/summary-gwas-imputation/src/gwas_summary_imputation.py -by_region_file /opt/data/data/eur_ld.bed.gz -gwas_file /opt/data/projects/asthma-copd/results/harmonized_gwas/GWAS_ACO_GLM_SNPs_info0.7-harmonized.txt -parquet_genotype /opt/data/data/phenomexcan/ld_blocks/reference_panel_1000G/chr5.variants.parquet -parquet_genotype_metadata /opt/data/data/phenomexcan/ld_blocks/reference_panel_1000G/variant_metadata.parquet -window 100000 -parsimony 7 -chromosome 5 -regularization 0.1 -frequency_filter 0.01 -sub_batches 10 -sub_batch 0 --standardise_dosages -output /opt/data/projects/asthma-copd/results/imputed_gwas/GWAS_ACO_GLM_SNPs_info0.7-harmonized-imputed-chr5-batch0_10.txt\n",
      "+ set +x\n",
      "+ /opt/data/software/conda_envs/summary_gwas_imputation/bin/python /opt/data/software/summary-gwas-imputation/src/gwas_summary_imputation.py -by_region_file /opt/data/data/eur_ld.bed.gz -gwas_file /opt/data/projects/asthma-copd/results/harmonized_gwas/GWAS_ACO_GLM_SNPs_info0.7-harmonized.txt -parquet_genotype /opt/data/data/phenomexcan/ld_blocks/reference_panel_1000G/chr5.variants.parquet -parquet_genotype_metadata /opt/data/data/phenomexcan/ld_blocks/reference_panel_1000G/variant_metadata.parquet -window 100000 -parsimony 7 -chromosome 5 -regularization 0.1 -frequency_filter 0.01 -sub_batches 10 -sub_batch 1 --standardise_dosages -output /opt/data/projects/asthma-copd/results/imputed_gwas/GWAS_ACO_GLM_SNPs_info0.7-harmonized-imputed-chr5-batch1_10.txt\n",
      "+ set +x\n",
      "+ /opt/data/software/conda_envs/summary_gwas_imputation/bin/python /opt/data/software/summary-gwas-imputation/src/gwas_summary_imputation.py -by_region_file /opt/data/data/eur_ld.bed.gz -gwas_file /opt/data/projects/asthma-copd/results/harmonized_gwas/GWAS_ACO_GLM_SNPs_info0.7-harmonized.txt -parquet_genotype /opt/data/data/phenomexcan/ld_blocks/reference_panel_1000G/chr5.variants.parquet -parquet_genotype_metadata /opt/data/data/phenomexcan/ld_blocks/reference_panel_1000G/variant_metadata.parquet -window 100000 -parsimony 7 -chromosome 5 -regularization 0.1 -frequency_filter 0.01 -sub_batches 10 -sub_batch 2 --standardise_dosages -output /opt/data/projects/asthma-copd/results/imputed_gwas/GWAS_ACO_GLM_SNPs_info0.7-harmonized-imputed-chr5-batch2_10.txt\n",
      "+ set +x\n",
      "+ /opt/data/software/conda_envs/summary_gwas_imputation/bin/python /opt/data/software/summary-gwas-imputation/src/gwas_summary_imputation.py -by_region_file /opt/data/data/eur_ld.bed.gz -gwas_file /opt/data/projects/asthma-copd/results/harmonized_gwas/GWAS_ACO_GLM_SNPs_info0.7-harmonized.txt -parquet_genotype /opt/data/data/phenomexcan/ld_blocks/reference_panel_1000G/chr5.variants.parquet -parquet_genotype_metadata /opt/data/data/phenomexcan/ld_blocks/reference_panel_1000G/variant_metadata.parquet -window 100000 -parsimony 7 -chromosome 5 -regularization 0.1 -frequency_filter 0.01 -sub_batches 10 -sub_batch 3 --standardise_dosages -output /opt/data/projects/asthma-copd/results/imputed_gwas/GWAS_ACO_GLM_SNPs_info0.7-harmonized-imputed-chr5-batch3_10.txt\n",
      "+ set +x\n",
      "+ /opt/data/software/conda_envs/summary_gwas_imputation/bin/python /opt/data/software/summary-gwas-imputation/src/gwas_summary_imputation.py -by_region_file /opt/data/data/eur_ld.bed.gz -gwas_file /opt/data/projects/asthma-copd/results/harmonized_gwas/GWAS_ACO_GLM_SNPs_info0.7-harmonized.txt -parquet_genotype /opt/data/data/phenomexcan/ld_blocks/reference_panel_1000G/chr5.variants.parquet -parquet_genotype_metadata /opt/data/data/phenomexcan/ld_blocks/reference_panel_1000G/variant_metadata.parquet -window 100000 -parsimony 7 -chromosome 5 -regularization 0.1 -frequency_filter 0.01 -sub_batches 10 -sub_batch 4 --standardise_dosages -output /opt/data/projects/asthma-copd/results/imputed_gwas/GWAS_ACO_GLM_SNPs_info0.7-harmonized-imputed-chr5-batch4_10.txt\n",
      "+ set +x\n",
      "+ /opt/data/software/conda_envs/summary_gwas_imputation/bin/python /opt/data/software/summary-gwas-imputation/src/gwas_summary_imputation.py -by_region_file /opt/data/data/eur_ld.bed.gz -gwas_file /opt/data/projects/asthma-copd/results/harmonized_gwas/GWAS_ACO_GLM_SNPs_info0.7-harmonized.txt -parquet_genotype /opt/data/data/phenomexcan/ld_blocks/reference_panel_1000G/chr5.variants.parquet -parquet_genotype_metadata /opt/data/data/phenomexcan/ld_blocks/reference_panel_1000G/variant_metadata.parquet -window 100000 -parsimony 7 -chromosome 5 -regularization 0.1 -frequency_filter 0.01 -sub_batches 10 -sub_batch 5 --standardise_dosages -output /opt/data/projects/asthma-copd/results/imputed_gwas/GWAS_ACO_GLM_SNPs_info0.7-harmonized-imputed-chr5-batch5_10.txt\n",
      "+ set +x\n",
      "+ /opt/data/software/conda_envs/summary_gwas_imputation/bin/python /opt/data/software/summary-gwas-imputation/src/gwas_summary_imputation.py -by_region_file /opt/data/data/eur_ld.bed.gz -gwas_file /opt/data/projects/asthma-copd/results/harmonized_gwas/GWAS_ACO_GLM_SNPs_info0.7-harmonized.txt -parquet_genotype /opt/data/data/phenomexcan/ld_blocks/reference_panel_1000G/chr5.variants.parquet -parquet_genotype_metadata /opt/data/data/phenomexcan/ld_blocks/reference_panel_1000G/variant_metadata.parquet -window 100000 -parsimony 7 -chromosome 5 -regularization 0.1 -frequency_filter 0.01 -sub_batches 10 -sub_batch 6 --standardise_dosages -output /opt/data/projects/asthma-copd/results/imputed_gwas/GWAS_ACO_GLM_SNPs_info0.7-harmonized-imputed-chr5-batch6_10.txt\n",
      "+ set +x\n",
      "+ /opt/data/software/conda_envs/summary_gwas_imputation/bin/python /opt/data/software/summary-gwas-imputation/src/gwas_summary_imputation.py -by_region_file /opt/data/data/eur_ld.bed.gz -gwas_file /opt/data/projects/asthma-copd/results/harmonized_gwas/GWAS_ACO_GLM_SNPs_info0.7-harmonized.txt -parquet_genotype /opt/data/data/phenomexcan/ld_blocks/reference_panel_1000G/chr5.variants.parquet -parquet_genotype_metadata /opt/data/data/phenomexcan/ld_blocks/reference_panel_1000G/variant_metadata.parquet -window 100000 -parsimony 7 -chromosome 5 -regularization 0.1 -frequency_filter 0.01 -sub_batches 10 -sub_batch 7 --standardise_dosages -output /opt/data/projects/asthma-copd/results/imputed_gwas/GWAS_ACO_GLM_SNPs_info0.7-harmonized-imputed-chr5-batch7_10.txt\n",
      "+ set +x\n",
      "+ /opt/data/software/conda_envs/summary_gwas_imputation/bin/python /opt/data/software/summary-gwas-imputation/src/gwas_summary_imputation.py -by_region_file /opt/data/data/eur_ld.bed.gz -gwas_file /opt/data/projects/asthma-copd/results/harmonized_gwas/GWAS_ACO_GLM_SNPs_info0.7-harmonized.txt -parquet_genotype /opt/data/data/phenomexcan/ld_blocks/reference_panel_1000G/chr5.variants.parquet -parquet_genotype_metadata /opt/data/data/phenomexcan/ld_blocks/reference_panel_1000G/variant_metadata.parquet -window 100000 -parsimony 7 -chromosome 5 -regularization 0.1 -frequency_filter 0.01 -sub_batches 10 -sub_batch 8 --standardise_dosages -output /opt/data/projects/asthma-copd/results/imputed_gwas/GWAS_ACO_GLM_SNPs_info0.7-harmonized-imputed-chr5-batch8_10.txt\n",
      "+ set +x\n",
      "+ /opt/data/software/conda_envs/summary_gwas_imputation/bin/python /opt/data/software/summary-gwas-imputation/src/gwas_summary_imputation.py -by_region_file /opt/data/data/eur_ld.bed.gz -gwas_file /opt/data/projects/asthma-copd/results/harmonized_gwas/GWAS_ACO_GLM_SNPs_info0.7-harmonized.txt -parquet_genotype /opt/data/data/phenomexcan/ld_blocks/reference_panel_1000G/chr5.variants.parquet -parquet_genotype_metadata /opt/data/data/phenomexcan/ld_blocks/reference_panel_1000G/variant_metadata.parquet -window 100000 -parsimony 7 -chromosome 5 -regularization 0.1 -frequency_filter 0.01 -sub_batches 10 -sub_batch 9 --standardise_dosages -output /opt/data/projects/asthma-copd/results/imputed_gwas/GWAS_ACO_GLM_SNPs_info0.7-harmonized-imputed-chr5-batch9_10.txt\n",
      "+ set +x\n"
     ]
    },
    {
     "name": "stdout",
     "output_type": "stream",
     "text": [
      "Running for aco, 5, 9\n",
      "Saving results in /opt/data/projects/asthma-copd/results/imputed_gwas\n",
      "/opt/data/software/conda_envs/summary_gwas_imputation/lib/python3.7/site-packages/pyarrow/pandas_compat.py:752: FutureWarning: .labels was deprecated in version 0.24.0. Use .codes instead.\n",
      "\n",
      "Running for aco, 6, 0\n",
      "Saving results in /opt/data/projects/asthma-copd/results/imputed_gwas\n",
      "/opt/data/software/conda_envs/summary_gwas_imputation/lib/python3.7/site-packages/pyarrow/pandas_compat.py:752: FutureWarning: .labels was deprecated in version 0.24.0. Use .codes instead.\n",
      "Intel MKL ERROR: Parameter 4 was incorrect on entry to DLASCL.\n",
      "\n",
      "Running for aco, 6, 1\n",
      "Saving results in /opt/data/projects/asthma-copd/results/imputed_gwas\n"
     ]
    },
    {
     "name": "stderr",
     "output_type": "stream",
     "text": [
      "+ /opt/data/software/conda_envs/summary_gwas_imputation/bin/python /opt/data/software/summary-gwas-imputation/src/gwas_summary_imputation.py -by_region_file /opt/data/data/eur_ld.bed.gz -gwas_file /opt/data/projects/asthma-copd/results/harmonized_gwas/GWAS_ACO_GLM_SNPs_info0.7-harmonized.txt -parquet_genotype /opt/data/data/phenomexcan/ld_blocks/reference_panel_1000G/chr6.variants.parquet -parquet_genotype_metadata /opt/data/data/phenomexcan/ld_blocks/reference_panel_1000G/variant_metadata.parquet -window 100000 -parsimony 7 -chromosome 6 -regularization 0.1 -frequency_filter 0.01 -sub_batches 10 -sub_batch 0 --standardise_dosages -output /opt/data/projects/asthma-copd/results/imputed_gwas/GWAS_ACO_GLM_SNPs_info0.7-harmonized-imputed-chr6-batch0_10.txt\n",
      "+ set +x\n",
      "+ /opt/data/software/conda_envs/summary_gwas_imputation/bin/python /opt/data/software/summary-gwas-imputation/src/gwas_summary_imputation.py -by_region_file /opt/data/data/eur_ld.bed.gz -gwas_file /opt/data/projects/asthma-copd/results/harmonized_gwas/GWAS_ACO_GLM_SNPs_info0.7-harmonized.txt -parquet_genotype /opt/data/data/phenomexcan/ld_blocks/reference_panel_1000G/chr6.variants.parquet -parquet_genotype_metadata /opt/data/data/phenomexcan/ld_blocks/reference_panel_1000G/variant_metadata.parquet -window 100000 -parsimony 7 -chromosome 6 -regularization 0.1 -frequency_filter 0.01 -sub_batches 10 -sub_batch 1 --standardise_dosages -output /opt/data/projects/asthma-copd/results/imputed_gwas/GWAS_ACO_GLM_SNPs_info0.7-harmonized-imputed-chr6-batch1_10.txt\n"
     ]
    },
    {
     "name": "stdout",
     "output_type": "stream",
     "text": [
      "/opt/data/software/conda_envs/summary_gwas_imputation/lib/python3.7/site-packages/pyarrow/pandas_compat.py:752: FutureWarning: .labels was deprecated in version 0.24.0. Use .codes instead.\n",
      "\n"
     ]
    },
    {
     "name": "stderr",
     "output_type": "stream",
     "text": [
      "+ set +x\n"
     ]
    },
    {
     "name": "stdout",
     "output_type": "stream",
     "text": [
      "Running for aco, 6, 2\n",
      "Saving results in /opt/data/projects/asthma-copd/results/imputed_gwas\n"
     ]
    },
    {
     "name": "stderr",
     "output_type": "stream",
     "text": [
      "+ /opt/data/software/conda_envs/summary_gwas_imputation/bin/python /opt/data/software/summary-gwas-imputation/src/gwas_summary_imputation.py -by_region_file /opt/data/data/eur_ld.bed.gz -gwas_file /opt/data/projects/asthma-copd/results/harmonized_gwas/GWAS_ACO_GLM_SNPs_info0.7-harmonized.txt -parquet_genotype /opt/data/data/phenomexcan/ld_blocks/reference_panel_1000G/chr6.variants.parquet -parquet_genotype_metadata /opt/data/data/phenomexcan/ld_blocks/reference_panel_1000G/variant_metadata.parquet -window 100000 -parsimony 7 -chromosome 6 -regularization 0.1 -frequency_filter 0.01 -sub_batches 10 -sub_batch 2 --standardise_dosages -output /opt/data/projects/asthma-copd/results/imputed_gwas/GWAS_ACO_GLM_SNPs_info0.7-harmonized-imputed-chr6-batch2_10.txt\n"
     ]
    },
    {
     "name": "stdout",
     "output_type": "stream",
     "text": [
      "/opt/data/software/conda_envs/summary_gwas_imputation/lib/python3.7/site-packages/pyarrow/pandas_compat.py:752: FutureWarning: .labels was deprecated in version 0.24.0. Use .codes instead.\n",
      "\n"
     ]
    },
    {
     "name": "stderr",
     "output_type": "stream",
     "text": [
      "+ set +x\n"
     ]
    },
    {
     "name": "stdout",
     "output_type": "stream",
     "text": [
      "Running for aco, 6, 3\n",
      "Saving results in /opt/data/projects/asthma-copd/results/imputed_gwas\n",
      "/opt/data/software/conda_envs/summary_gwas_imputation/lib/python3.7/site-packages/pyarrow/pandas_compat.py:752: FutureWarning: .labels was deprecated in version 0.24.0. Use .codes instead.\n",
      "\n"
     ]
    },
    {
     "name": "stderr",
     "output_type": "stream",
     "text": [
      "+ /opt/data/software/conda_envs/summary_gwas_imputation/bin/python /opt/data/software/summary-gwas-imputation/src/gwas_summary_imputation.py -by_region_file /opt/data/data/eur_ld.bed.gz -gwas_file /opt/data/projects/asthma-copd/results/harmonized_gwas/GWAS_ACO_GLM_SNPs_info0.7-harmonized.txt -parquet_genotype /opt/data/data/phenomexcan/ld_blocks/reference_panel_1000G/chr6.variants.parquet -parquet_genotype_metadata /opt/data/data/phenomexcan/ld_blocks/reference_panel_1000G/variant_metadata.parquet -window 100000 -parsimony 7 -chromosome 6 -regularization 0.1 -frequency_filter 0.01 -sub_batches 10 -sub_batch 3 --standardise_dosages -output /opt/data/projects/asthma-copd/results/imputed_gwas/GWAS_ACO_GLM_SNPs_info0.7-harmonized-imputed-chr6-batch3_10.txt\n",
      "+ set +x\n"
     ]
    },
    {
     "name": "stdout",
     "output_type": "stream",
     "text": [
      "Running for aco, 6, 4\n",
      "Saving results in /opt/data/projects/asthma-copd/results/imputed_gwas\n",
      "/opt/data/software/conda_envs/summary_gwas_imputation/lib/python3.7/site-packages/pyarrow/pandas_compat.py:752: FutureWarning: .labels was deprecated in version 0.24.0. Use .codes instead.\n",
      "\n",
      "Running for aco, 6, 5\n",
      "Saving results in /opt/data/projects/asthma-copd/results/imputed_gwas\n",
      "/opt/data/software/conda_envs/summary_gwas_imputation/lib/python3.7/site-packages/pyarrow/pandas_compat.py:752: FutureWarning: .labels was deprecated in version 0.24.0. Use .codes instead.\n",
      "\n",
      "Running for aco, 6, 6\n",
      "Saving results in /opt/data/projects/asthma-copd/results/imputed_gwas\n",
      "/opt/data/software/conda_envs/summary_gwas_imputation/lib/python3.7/site-packages/pyarrow/pandas_compat.py:752: FutureWarning: .labels was deprecated in version 0.24.0. Use .codes instead.\n",
      "\n",
      "Running for aco, 6, 7\n",
      "Saving results in /opt/data/projects/asthma-copd/results/imputed_gwas\n",
      "/opt/data/software/conda_envs/summary_gwas_imputation/lib/python3.7/site-packages/pyarrow/pandas_compat.py:752: FutureWarning: .labels was deprecated in version 0.24.0. Use .codes instead.\n",
      "\n",
      "Running for aco, 6, 8\n",
      "Saving results in /opt/data/projects/asthma-copd/results/imputed_gwas\n",
      "/opt/data/software/conda_envs/summary_gwas_imputation/lib/python3.7/site-packages/pyarrow/pandas_compat.py:752: FutureWarning: .labels was deprecated in version 0.24.0. Use .codes instead.\n",
      "INFO - Error for region (6,146344288.0,148599216.0): LinAlgError('SVD did not converge')\n",
      "\n",
      "Running for aco, 6, 9\n",
      "Saving results in /opt/data/projects/asthma-copd/results/imputed_gwas\n",
      "/opt/data/software/conda_envs/summary_gwas_imputation/lib/python3.7/site-packages/pyarrow/pandas_compat.py:752: FutureWarning: .labels was deprecated in version 0.24.0. Use .codes instead.\n",
      "\n",
      "Running for aco, 7, 0\n",
      "Saving results in /opt/data/projects/asthma-copd/results/imputed_gwas\n",
      "/opt/data/software/conda_envs/summary_gwas_imputation/lib/python3.7/site-packages/pyarrow/pandas_compat.py:752: FutureWarning: .labels was deprecated in version 0.24.0. Use .codes instead.\n",
      "\n",
      "Running for aco, 7, 1\n",
      "Saving results in /opt/data/projects/asthma-copd/results/imputed_gwas\n",
      "/opt/data/software/conda_envs/summary_gwas_imputation/lib/python3.7/site-packages/pyarrow/pandas_compat.py:752: FutureWarning: .labels was deprecated in version 0.24.0. Use .codes instead.\n",
      "\n",
      "Running for aco, 7, 2\n",
      "Saving results in /opt/data/projects/asthma-copd/results/imputed_gwas\n",
      "/opt/data/software/conda_envs/summary_gwas_imputation/lib/python3.7/site-packages/pyarrow/pandas_compat.py:752: FutureWarning: .labels was deprecated in version 0.24.0. Use .codes instead.\n",
      "\n",
      "Running for aco, 7, 3\n",
      "Saving results in /opt/data/projects/asthma-copd/results/imputed_gwas\n",
      "/opt/data/software/conda_envs/summary_gwas_imputation/lib/python3.7/site-packages/pyarrow/pandas_compat.py:752: FutureWarning: .labels was deprecated in version 0.24.0. Use .codes instead.\n",
      "\n",
      "Running for aco, 7, 4\n",
      "Saving results in /opt/data/projects/asthma-copd/results/imputed_gwas\n",
      "/opt/data/software/conda_envs/summary_gwas_imputation/lib/python3.7/site-packages/pyarrow/pandas_compat.py:752: FutureWarning: .labels was deprecated in version 0.24.0. Use .codes instead.\n",
      "\n"
     ]
    },
    {
     "name": "stderr",
     "output_type": "stream",
     "text": [
      "+ /opt/data/software/conda_envs/summary_gwas_imputation/bin/python /opt/data/software/summary-gwas-imputation/src/gwas_summary_imputation.py -by_region_file /opt/data/data/eur_ld.bed.gz -gwas_file /opt/data/projects/asthma-copd/results/harmonized_gwas/GWAS_ACO_GLM_SNPs_info0.7-harmonized.txt -parquet_genotype /opt/data/data/phenomexcan/ld_blocks/reference_panel_1000G/chr6.variants.parquet -parquet_genotype_metadata /opt/data/data/phenomexcan/ld_blocks/reference_panel_1000G/variant_metadata.parquet -window 100000 -parsimony 7 -chromosome 6 -regularization 0.1 -frequency_filter 0.01 -sub_batches 10 -sub_batch 4 --standardise_dosages -output /opt/data/projects/asthma-copd/results/imputed_gwas/GWAS_ACO_GLM_SNPs_info0.7-harmonized-imputed-chr6-batch4_10.txt\n",
      "+ set +x\n",
      "+ /opt/data/software/conda_envs/summary_gwas_imputation/bin/python /opt/data/software/summary-gwas-imputation/src/gwas_summary_imputation.py -by_region_file /opt/data/data/eur_ld.bed.gz -gwas_file /opt/data/projects/asthma-copd/results/harmonized_gwas/GWAS_ACO_GLM_SNPs_info0.7-harmonized.txt -parquet_genotype /opt/data/data/phenomexcan/ld_blocks/reference_panel_1000G/chr6.variants.parquet -parquet_genotype_metadata /opt/data/data/phenomexcan/ld_blocks/reference_panel_1000G/variant_metadata.parquet -window 100000 -parsimony 7 -chromosome 6 -regularization 0.1 -frequency_filter 0.01 -sub_batches 10 -sub_batch 5 --standardise_dosages -output /opt/data/projects/asthma-copd/results/imputed_gwas/GWAS_ACO_GLM_SNPs_info0.7-harmonized-imputed-chr6-batch5_10.txt\n",
      "+ set +x\n",
      "+ /opt/data/software/conda_envs/summary_gwas_imputation/bin/python /opt/data/software/summary-gwas-imputation/src/gwas_summary_imputation.py -by_region_file /opt/data/data/eur_ld.bed.gz -gwas_file /opt/data/projects/asthma-copd/results/harmonized_gwas/GWAS_ACO_GLM_SNPs_info0.7-harmonized.txt -parquet_genotype /opt/data/data/phenomexcan/ld_blocks/reference_panel_1000G/chr6.variants.parquet -parquet_genotype_metadata /opt/data/data/phenomexcan/ld_blocks/reference_panel_1000G/variant_metadata.parquet -window 100000 -parsimony 7 -chromosome 6 -regularization 0.1 -frequency_filter 0.01 -sub_batches 10 -sub_batch 6 --standardise_dosages -output /opt/data/projects/asthma-copd/results/imputed_gwas/GWAS_ACO_GLM_SNPs_info0.7-harmonized-imputed-chr6-batch6_10.txt\n",
      "+ set +x\n",
      "+ /opt/data/software/conda_envs/summary_gwas_imputation/bin/python /opt/data/software/summary-gwas-imputation/src/gwas_summary_imputation.py -by_region_file /opt/data/data/eur_ld.bed.gz -gwas_file /opt/data/projects/asthma-copd/results/harmonized_gwas/GWAS_ACO_GLM_SNPs_info0.7-harmonized.txt -parquet_genotype /opt/data/data/phenomexcan/ld_blocks/reference_panel_1000G/chr6.variants.parquet -parquet_genotype_metadata /opt/data/data/phenomexcan/ld_blocks/reference_panel_1000G/variant_metadata.parquet -window 100000 -parsimony 7 -chromosome 6 -regularization 0.1 -frequency_filter 0.01 -sub_batches 10 -sub_batch 7 --standardise_dosages -output /opt/data/projects/asthma-copd/results/imputed_gwas/GWAS_ACO_GLM_SNPs_info0.7-harmonized-imputed-chr6-batch7_10.txt\n",
      "+ set +x\n",
      "+ /opt/data/software/conda_envs/summary_gwas_imputation/bin/python /opt/data/software/summary-gwas-imputation/src/gwas_summary_imputation.py -by_region_file /opt/data/data/eur_ld.bed.gz -gwas_file /opt/data/projects/asthma-copd/results/harmonized_gwas/GWAS_ACO_GLM_SNPs_info0.7-harmonized.txt -parquet_genotype /opt/data/data/phenomexcan/ld_blocks/reference_panel_1000G/chr6.variants.parquet -parquet_genotype_metadata /opt/data/data/phenomexcan/ld_blocks/reference_panel_1000G/variant_metadata.parquet -window 100000 -parsimony 7 -chromosome 6 -regularization 0.1 -frequency_filter 0.01 -sub_batches 10 -sub_batch 8 --standardise_dosages -output /opt/data/projects/asthma-copd/results/imputed_gwas/GWAS_ACO_GLM_SNPs_info0.7-harmonized-imputed-chr6-batch8_10.txt\n",
      "+ set +x\n",
      "+ /opt/data/software/conda_envs/summary_gwas_imputation/bin/python /opt/data/software/summary-gwas-imputation/src/gwas_summary_imputation.py -by_region_file /opt/data/data/eur_ld.bed.gz -gwas_file /opt/data/projects/asthma-copd/results/harmonized_gwas/GWAS_ACO_GLM_SNPs_info0.7-harmonized.txt -parquet_genotype /opt/data/data/phenomexcan/ld_blocks/reference_panel_1000G/chr6.variants.parquet -parquet_genotype_metadata /opt/data/data/phenomexcan/ld_blocks/reference_panel_1000G/variant_metadata.parquet -window 100000 -parsimony 7 -chromosome 6 -regularization 0.1 -frequency_filter 0.01 -sub_batches 10 -sub_batch 9 --standardise_dosages -output /opt/data/projects/asthma-copd/results/imputed_gwas/GWAS_ACO_GLM_SNPs_info0.7-harmonized-imputed-chr6-batch9_10.txt\n",
      "+ set +x\n",
      "+ /opt/data/software/conda_envs/summary_gwas_imputation/bin/python /opt/data/software/summary-gwas-imputation/src/gwas_summary_imputation.py -by_region_file /opt/data/data/eur_ld.bed.gz -gwas_file /opt/data/projects/asthma-copd/results/harmonized_gwas/GWAS_ACO_GLM_SNPs_info0.7-harmonized.txt -parquet_genotype /opt/data/data/phenomexcan/ld_blocks/reference_panel_1000G/chr7.variants.parquet -parquet_genotype_metadata /opt/data/data/phenomexcan/ld_blocks/reference_panel_1000G/variant_metadata.parquet -window 100000 -parsimony 7 -chromosome 7 -regularization 0.1 -frequency_filter 0.01 -sub_batches 10 -sub_batch 0 --standardise_dosages -output /opt/data/projects/asthma-copd/results/imputed_gwas/GWAS_ACO_GLM_SNPs_info0.7-harmonized-imputed-chr7-batch0_10.txt\n",
      "+ set +x\n",
      "+ /opt/data/software/conda_envs/summary_gwas_imputation/bin/python /opt/data/software/summary-gwas-imputation/src/gwas_summary_imputation.py -by_region_file /opt/data/data/eur_ld.bed.gz -gwas_file /opt/data/projects/asthma-copd/results/harmonized_gwas/GWAS_ACO_GLM_SNPs_info0.7-harmonized.txt -parquet_genotype /opt/data/data/phenomexcan/ld_blocks/reference_panel_1000G/chr7.variants.parquet -parquet_genotype_metadata /opt/data/data/phenomexcan/ld_blocks/reference_panel_1000G/variant_metadata.parquet -window 100000 -parsimony 7 -chromosome 7 -regularization 0.1 -frequency_filter 0.01 -sub_batches 10 -sub_batch 1 --standardise_dosages -output /opt/data/projects/asthma-copd/results/imputed_gwas/GWAS_ACO_GLM_SNPs_info0.7-harmonized-imputed-chr7-batch1_10.txt\n",
      "+ set +x\n",
      "+ /opt/data/software/conda_envs/summary_gwas_imputation/bin/python /opt/data/software/summary-gwas-imputation/src/gwas_summary_imputation.py -by_region_file /opt/data/data/eur_ld.bed.gz -gwas_file /opt/data/projects/asthma-copd/results/harmonized_gwas/GWAS_ACO_GLM_SNPs_info0.7-harmonized.txt -parquet_genotype /opt/data/data/phenomexcan/ld_blocks/reference_panel_1000G/chr7.variants.parquet -parquet_genotype_metadata /opt/data/data/phenomexcan/ld_blocks/reference_panel_1000G/variant_metadata.parquet -window 100000 -parsimony 7 -chromosome 7 -regularization 0.1 -frequency_filter 0.01 -sub_batches 10 -sub_batch 2 --standardise_dosages -output /opt/data/projects/asthma-copd/results/imputed_gwas/GWAS_ACO_GLM_SNPs_info0.7-harmonized-imputed-chr7-batch2_10.txt\n",
      "+ set +x\n",
      "+ /opt/data/software/conda_envs/summary_gwas_imputation/bin/python /opt/data/software/summary-gwas-imputation/src/gwas_summary_imputation.py -by_region_file /opt/data/data/eur_ld.bed.gz -gwas_file /opt/data/projects/asthma-copd/results/harmonized_gwas/GWAS_ACO_GLM_SNPs_info0.7-harmonized.txt -parquet_genotype /opt/data/data/phenomexcan/ld_blocks/reference_panel_1000G/chr7.variants.parquet -parquet_genotype_metadata /opt/data/data/phenomexcan/ld_blocks/reference_panel_1000G/variant_metadata.parquet -window 100000 -parsimony 7 -chromosome 7 -regularization 0.1 -frequency_filter 0.01 -sub_batches 10 -sub_batch 3 --standardise_dosages -output /opt/data/projects/asthma-copd/results/imputed_gwas/GWAS_ACO_GLM_SNPs_info0.7-harmonized-imputed-chr7-batch3_10.txt\n",
      "+ set +x\n",
      "+ /opt/data/software/conda_envs/summary_gwas_imputation/bin/python /opt/data/software/summary-gwas-imputation/src/gwas_summary_imputation.py -by_region_file /opt/data/data/eur_ld.bed.gz -gwas_file /opt/data/projects/asthma-copd/results/harmonized_gwas/GWAS_ACO_GLM_SNPs_info0.7-harmonized.txt -parquet_genotype /opt/data/data/phenomexcan/ld_blocks/reference_panel_1000G/chr7.variants.parquet -parquet_genotype_metadata /opt/data/data/phenomexcan/ld_blocks/reference_panel_1000G/variant_metadata.parquet -window 100000 -parsimony 7 -chromosome 7 -regularization 0.1 -frequency_filter 0.01 -sub_batches 10 -sub_batch 4 --standardise_dosages -output /opt/data/projects/asthma-copd/results/imputed_gwas/GWAS_ACO_GLM_SNPs_info0.7-harmonized-imputed-chr7-batch4_10.txt\n",
      "+ set +x\n",
      "+ /opt/data/software/conda_envs/summary_gwas_imputation/bin/python /opt/data/software/summary-gwas-imputation/src/gwas_summary_imputation.py -by_region_file /opt/data/data/eur_ld.bed.gz -gwas_file /opt/data/projects/asthma-copd/results/harmonized_gwas/GWAS_ACO_GLM_SNPs_info0.7-harmonized.txt -parquet_genotype /opt/data/data/phenomexcan/ld_blocks/reference_panel_1000G/chr7.variants.parquet -parquet_genotype_metadata /opt/data/data/phenomexcan/ld_blocks/reference_panel_1000G/variant_metadata.parquet -window 100000 -parsimony 7 -chromosome 7 -regularization 0.1 -frequency_filter 0.01 -sub_batches 10 -sub_batch 5 --standardise_dosages -output /opt/data/projects/asthma-copd/results/imputed_gwas/GWAS_ACO_GLM_SNPs_info0.7-harmonized-imputed-chr7-batch5_10.txt\n",
      "+ set +x\n",
      "+ /opt/data/software/conda_envs/summary_gwas_imputation/bin/python /opt/data/software/summary-gwas-imputation/src/gwas_summary_imputation.py -by_region_file /opt/data/data/eur_ld.bed.gz -gwas_file /opt/data/projects/asthma-copd/results/harmonized_gwas/GWAS_ACO_GLM_SNPs_info0.7-harmonized.txt -parquet_genotype /opt/data/data/phenomexcan/ld_blocks/reference_panel_1000G/chr7.variants.parquet -parquet_genotype_metadata /opt/data/data/phenomexcan/ld_blocks/reference_panel_1000G/variant_metadata.parquet -window 100000 -parsimony 7 -chromosome 7 -regularization 0.1 -frequency_filter 0.01 -sub_batches 10 -sub_batch 6 --standardise_dosages -output /opt/data/projects/asthma-copd/results/imputed_gwas/GWAS_ACO_GLM_SNPs_info0.7-harmonized-imputed-chr7-batch6_10.txt\n",
      "+ set +x\n",
      "+ /opt/data/software/conda_envs/summary_gwas_imputation/bin/python /opt/data/software/summary-gwas-imputation/src/gwas_summary_imputation.py -by_region_file /opt/data/data/eur_ld.bed.gz -gwas_file /opt/data/projects/asthma-copd/results/harmonized_gwas/GWAS_ACO_GLM_SNPs_info0.7-harmonized.txt -parquet_genotype /opt/data/data/phenomexcan/ld_blocks/reference_panel_1000G/chr7.variants.parquet -parquet_genotype_metadata /opt/data/data/phenomexcan/ld_blocks/reference_panel_1000G/variant_metadata.parquet -window 100000 -parsimony 7 -chromosome 7 -regularization 0.1 -frequency_filter 0.01 -sub_batches 10 -sub_batch 7 --standardise_dosages -output /opt/data/projects/asthma-copd/results/imputed_gwas/GWAS_ACO_GLM_SNPs_info0.7-harmonized-imputed-chr7-batch7_10.txt\n",
      "+ set +x\n",
      "+ /opt/data/software/conda_envs/summary_gwas_imputation/bin/python /opt/data/software/summary-gwas-imputation/src/gwas_summary_imputation.py -by_region_file /opt/data/data/eur_ld.bed.gz -gwas_file /opt/data/projects/asthma-copd/results/harmonized_gwas/GWAS_ACO_GLM_SNPs_info0.7-harmonized.txt -parquet_genotype /opt/data/data/phenomexcan/ld_blocks/reference_panel_1000G/chr7.variants.parquet -parquet_genotype_metadata /opt/data/data/phenomexcan/ld_blocks/reference_panel_1000G/variant_metadata.parquet -window 100000 -parsimony 7 -chromosome 7 -regularization 0.1 -frequency_filter 0.01 -sub_batches 10 -sub_batch 8 --standardise_dosages -output /opt/data/projects/asthma-copd/results/imputed_gwas/GWAS_ACO_GLM_SNPs_info0.7-harmonized-imputed-chr7-batch8_10.txt\n",
      "+ set +x\n",
      "+ /opt/data/software/conda_envs/summary_gwas_imputation/bin/python /opt/data/software/summary-gwas-imputation/src/gwas_summary_imputation.py -by_region_file /opt/data/data/eur_ld.bed.gz -gwas_file /opt/data/projects/asthma-copd/results/harmonized_gwas/GWAS_ACO_GLM_SNPs_info0.7-harmonized.txt -parquet_genotype /opt/data/data/phenomexcan/ld_blocks/reference_panel_1000G/chr7.variants.parquet -parquet_genotype_metadata /opt/data/data/phenomexcan/ld_blocks/reference_panel_1000G/variant_metadata.parquet -window 100000 -parsimony 7 -chromosome 7 -regularization 0.1 -frequency_filter 0.01 -sub_batches 10 -sub_batch 9 --standardise_dosages -output /opt/data/projects/asthma-copd/results/imputed_gwas/GWAS_ACO_GLM_SNPs_info0.7-harmonized-imputed-chr7-batch9_10.txt\n",
      "+ set +x\n",
      "+ /opt/data/software/conda_envs/summary_gwas_imputation/bin/python /opt/data/software/summary-gwas-imputation/src/gwas_summary_imputation.py -by_region_file /opt/data/data/eur_ld.bed.gz -gwas_file /opt/data/projects/asthma-copd/results/harmonized_gwas/GWAS_ACO_GLM_SNPs_info0.7-harmonized.txt -parquet_genotype /opt/data/data/phenomexcan/ld_blocks/reference_panel_1000G/chr8.variants.parquet -parquet_genotype_metadata /opt/data/data/phenomexcan/ld_blocks/reference_panel_1000G/variant_metadata.parquet -window 100000 -parsimony 7 -chromosome 8 -regularization 0.1 -frequency_filter 0.01 -sub_batches 10 -sub_batch 0 --standardise_dosages -output /opt/data/projects/asthma-copd/results/imputed_gwas/GWAS_ACO_GLM_SNPs_info0.7-harmonized-imputed-chr8-batch0_10.txt\n",
      "+ set +x\n",
      "+ /opt/data/software/conda_envs/summary_gwas_imputation/bin/python /opt/data/software/summary-gwas-imputation/src/gwas_summary_imputation.py -by_region_file /opt/data/data/eur_ld.bed.gz -gwas_file /opt/data/projects/asthma-copd/results/harmonized_gwas/GWAS_ACO_GLM_SNPs_info0.7-harmonized.txt -parquet_genotype /opt/data/data/phenomexcan/ld_blocks/reference_panel_1000G/chr8.variants.parquet -parquet_genotype_metadata /opt/data/data/phenomexcan/ld_blocks/reference_panel_1000G/variant_metadata.parquet -window 100000 -parsimony 7 -chromosome 8 -regularization 0.1 -frequency_filter 0.01 -sub_batches 10 -sub_batch 1 --standardise_dosages -output /opt/data/projects/asthma-copd/results/imputed_gwas/GWAS_ACO_GLM_SNPs_info0.7-harmonized-imputed-chr8-batch1_10.txt\n",
      "+ set +x\n",
      "+ /opt/data/software/conda_envs/summary_gwas_imputation/bin/python /opt/data/software/summary-gwas-imputation/src/gwas_summary_imputation.py -by_region_file /opt/data/data/eur_ld.bed.gz -gwas_file /opt/data/projects/asthma-copd/results/harmonized_gwas/GWAS_ACO_GLM_SNPs_info0.7-harmonized.txt -parquet_genotype /opt/data/data/phenomexcan/ld_blocks/reference_panel_1000G/chr8.variants.parquet -parquet_genotype_metadata /opt/data/data/phenomexcan/ld_blocks/reference_panel_1000G/variant_metadata.parquet -window 100000 -parsimony 7 -chromosome 8 -regularization 0.1 -frequency_filter 0.01 -sub_batches 10 -sub_batch 2 --standardise_dosages -output /opt/data/projects/asthma-copd/results/imputed_gwas/GWAS_ACO_GLM_SNPs_info0.7-harmonized-imputed-chr8-batch2_10.txt\n",
      "+ set +x\n",
      "+ /opt/data/software/conda_envs/summary_gwas_imputation/bin/python /opt/data/software/summary-gwas-imputation/src/gwas_summary_imputation.py -by_region_file /opt/data/data/eur_ld.bed.gz -gwas_file /opt/data/projects/asthma-copd/results/harmonized_gwas/GWAS_ACO_GLM_SNPs_info0.7-harmonized.txt -parquet_genotype /opt/data/data/phenomexcan/ld_blocks/reference_panel_1000G/chr8.variants.parquet -parquet_genotype_metadata /opt/data/data/phenomexcan/ld_blocks/reference_panel_1000G/variant_metadata.parquet -window 100000 -parsimony 7 -chromosome 8 -regularization 0.1 -frequency_filter 0.01 -sub_batches 10 -sub_batch 3 --standardise_dosages -output /opt/data/projects/asthma-copd/results/imputed_gwas/GWAS_ACO_GLM_SNPs_info0.7-harmonized-imputed-chr8-batch3_10.txt\n",
      "+ set +x\n",
      "+ /opt/data/software/conda_envs/summary_gwas_imputation/bin/python /opt/data/software/summary-gwas-imputation/src/gwas_summary_imputation.py -by_region_file /opt/data/data/eur_ld.bed.gz -gwas_file /opt/data/projects/asthma-copd/results/harmonized_gwas/GWAS_ACO_GLM_SNPs_info0.7-harmonized.txt -parquet_genotype /opt/data/data/phenomexcan/ld_blocks/reference_panel_1000G/chr8.variants.parquet -parquet_genotype_metadata /opt/data/data/phenomexcan/ld_blocks/reference_panel_1000G/variant_metadata.parquet -window 100000 -parsimony 7 -chromosome 8 -regularization 0.1 -frequency_filter 0.01 -sub_batches 10 -sub_batch 4 --standardise_dosages -output /opt/data/projects/asthma-copd/results/imputed_gwas/GWAS_ACO_GLM_SNPs_info0.7-harmonized-imputed-chr8-batch4_10.txt\n",
      "+ set +x\n",
      "+ /opt/data/software/conda_envs/summary_gwas_imputation/bin/python /opt/data/software/summary-gwas-imputation/src/gwas_summary_imputation.py -by_region_file /opt/data/data/eur_ld.bed.gz -gwas_file /opt/data/projects/asthma-copd/results/harmonized_gwas/GWAS_ACO_GLM_SNPs_info0.7-harmonized.txt -parquet_genotype /opt/data/data/phenomexcan/ld_blocks/reference_panel_1000G/chr8.variants.parquet -parquet_genotype_metadata /opt/data/data/phenomexcan/ld_blocks/reference_panel_1000G/variant_metadata.parquet -window 100000 -parsimony 7 -chromosome 8 -regularization 0.1 -frequency_filter 0.01 -sub_batches 10 -sub_batch 5 --standardise_dosages -output /opt/data/projects/asthma-copd/results/imputed_gwas/GWAS_ACO_GLM_SNPs_info0.7-harmonized-imputed-chr8-batch5_10.txt\n",
      "+ set +x\n",
      "+ /opt/data/software/conda_envs/summary_gwas_imputation/bin/python /opt/data/software/summary-gwas-imputation/src/gwas_summary_imputation.py -by_region_file /opt/data/data/eur_ld.bed.gz -gwas_file /opt/data/projects/asthma-copd/results/harmonized_gwas/GWAS_ACO_GLM_SNPs_info0.7-harmonized.txt -parquet_genotype /opt/data/data/phenomexcan/ld_blocks/reference_panel_1000G/chr8.variants.parquet -parquet_genotype_metadata /opt/data/data/phenomexcan/ld_blocks/reference_panel_1000G/variant_metadata.parquet -window 100000 -parsimony 7 -chromosome 8 -regularization 0.1 -frequency_filter 0.01 -sub_batches 10 -sub_batch 6 --standardise_dosages -output /opt/data/projects/asthma-copd/results/imputed_gwas/GWAS_ACO_GLM_SNPs_info0.7-harmonized-imputed-chr8-batch6_10.txt\n",
      "+ set +x\n",
      "+ /opt/data/software/conda_envs/summary_gwas_imputation/bin/python /opt/data/software/summary-gwas-imputation/src/gwas_summary_imputation.py -by_region_file /opt/data/data/eur_ld.bed.gz -gwas_file /opt/data/projects/asthma-copd/results/harmonized_gwas/GWAS_ACO_GLM_SNPs_info0.7-harmonized.txt -parquet_genotype /opt/data/data/phenomexcan/ld_blocks/reference_panel_1000G/chr8.variants.parquet -parquet_genotype_metadata /opt/data/data/phenomexcan/ld_blocks/reference_panel_1000G/variant_metadata.parquet -window 100000 -parsimony 7 -chromosome 8 -regularization 0.1 -frequency_filter 0.01 -sub_batches 10 -sub_batch 7 --standardise_dosages -output /opt/data/projects/asthma-copd/results/imputed_gwas/GWAS_ACO_GLM_SNPs_info0.7-harmonized-imputed-chr8-batch7_10.txt\n",
      "+ set +x\n",
      "+ /opt/data/software/conda_envs/summary_gwas_imputation/bin/python /opt/data/software/summary-gwas-imputation/src/gwas_summary_imputation.py -by_region_file /opt/data/data/eur_ld.bed.gz -gwas_file /opt/data/projects/asthma-copd/results/harmonized_gwas/GWAS_ACO_GLM_SNPs_info0.7-harmonized.txt -parquet_genotype /opt/data/data/phenomexcan/ld_blocks/reference_panel_1000G/chr8.variants.parquet -parquet_genotype_metadata /opt/data/data/phenomexcan/ld_blocks/reference_panel_1000G/variant_metadata.parquet -window 100000 -parsimony 7 -chromosome 8 -regularization 0.1 -frequency_filter 0.01 -sub_batches 10 -sub_batch 8 --standardise_dosages -output /opt/data/projects/asthma-copd/results/imputed_gwas/GWAS_ACO_GLM_SNPs_info0.7-harmonized-imputed-chr8-batch8_10.txt\n"
     ]
    },
    {
     "name": "stdout",
     "output_type": "stream",
     "text": [
      "Running for aco, 7, 5\n",
      "Saving results in /opt/data/projects/asthma-copd/results/imputed_gwas\n",
      "/opt/data/software/conda_envs/summary_gwas_imputation/lib/python3.7/site-packages/pyarrow/pandas_compat.py:752: FutureWarning: .labels was deprecated in version 0.24.0. Use .codes instead.\n",
      "\n",
      "Running for aco, 7, 6\n",
      "Saving results in /opt/data/projects/asthma-copd/results/imputed_gwas\n",
      "/opt/data/software/conda_envs/summary_gwas_imputation/lib/python3.7/site-packages/pyarrow/pandas_compat.py:752: FutureWarning: .labels was deprecated in version 0.24.0. Use .codes instead.\n",
      "INFO - Error for region (7,114072332.0,117140124.0): LinAlgError('SVD did not converge')\n",
      "\n",
      "Running for aco, 7, 7\n",
      "Saving results in /opt/data/projects/asthma-copd/results/imputed_gwas\n",
      "/opt/data/software/conda_envs/summary_gwas_imputation/lib/python3.7/site-packages/pyarrow/pandas_compat.py:752: FutureWarning: .labels was deprecated in version 0.24.0. Use .codes instead.\n",
      "\n",
      "Running for aco, 7, 8\n",
      "Saving results in /opt/data/projects/asthma-copd/results/imputed_gwas\n",
      "/opt/data/software/conda_envs/summary_gwas_imputation/lib/python3.7/site-packages/pyarrow/pandas_compat.py:752: FutureWarning: .labels was deprecated in version 0.24.0. Use .codes instead.\n",
      "\n",
      "Running for aco, 7, 9\n",
      "Saving results in /opt/data/projects/asthma-copd/results/imputed_gwas\n",
      "/opt/data/software/conda_envs/summary_gwas_imputation/lib/python3.7/site-packages/pyarrow/pandas_compat.py:752: FutureWarning: .labels was deprecated in version 0.24.0. Use .codes instead.\n",
      "\n",
      "Running for aco, 8, 0\n",
      "Saving results in /opt/data/projects/asthma-copd/results/imputed_gwas\n",
      "/opt/data/software/conda_envs/summary_gwas_imputation/lib/python3.7/site-packages/pyarrow/pandas_compat.py:752: FutureWarning: .labels was deprecated in version 0.24.0. Use .codes instead.\n",
      "\n",
      "Running for aco, 8, 1\n",
      "Saving results in /opt/data/projects/asthma-copd/results/imputed_gwas\n",
      "/opt/data/software/conda_envs/summary_gwas_imputation/lib/python3.7/site-packages/pyarrow/pandas_compat.py:752: FutureWarning: .labels was deprecated in version 0.24.0. Use .codes instead.\n",
      "\n",
      "Running for aco, 8, 2\n",
      "Saving results in /opt/data/projects/asthma-copd/results/imputed_gwas\n",
      "/opt/data/software/conda_envs/summary_gwas_imputation/lib/python3.7/site-packages/pyarrow/pandas_compat.py:752: FutureWarning: .labels was deprecated in version 0.24.0. Use .codes instead.\n",
      "\n",
      "Running for aco, 8, 3\n",
      "Saving results in /opt/data/projects/asthma-copd/results/imputed_gwas\n",
      "/opt/data/software/conda_envs/summary_gwas_imputation/lib/python3.7/site-packages/pyarrow/pandas_compat.py:752: FutureWarning: .labels was deprecated in version 0.24.0. Use .codes instead.\n",
      "\n",
      "Running for aco, 8, 4\n",
      "Saving results in /opt/data/projects/asthma-copd/results/imputed_gwas\n",
      "/opt/data/software/conda_envs/summary_gwas_imputation/lib/python3.7/site-packages/pyarrow/pandas_compat.py:752: FutureWarning: .labels was deprecated in version 0.24.0. Use .codes instead.\n",
      "\n",
      "Running for aco, 8, 5\n",
      "Saving results in /opt/data/projects/asthma-copd/results/imputed_gwas\n",
      "/opt/data/software/conda_envs/summary_gwas_imputation/lib/python3.7/site-packages/pyarrow/pandas_compat.py:752: FutureWarning: .labels was deprecated in version 0.24.0. Use .codes instead.\n",
      "INFO - Error for region (8,68950822.0,69955744.0): LinAlgError('SVD did not converge')\n",
      "\n",
      "Running for aco, 8, 6\n",
      "Saving results in /opt/data/projects/asthma-copd/results/imputed_gwas\n",
      "/opt/data/software/conda_envs/summary_gwas_imputation/lib/python3.7/site-packages/pyarrow/pandas_compat.py:752: FutureWarning: .labels was deprecated in version 0.24.0. Use .codes instead.\n",
      "INFO - Error for region (8,95522578.0,98389353.0): LinAlgError('SVD did not converge')\n",
      "\n",
      "Running for aco, 8, 7\n",
      "Saving results in /opt/data/projects/asthma-copd/results/imputed_gwas\n",
      "/opt/data/software/conda_envs/summary_gwas_imputation/lib/python3.7/site-packages/pyarrow/pandas_compat.py:752: FutureWarning: .labels was deprecated in version 0.24.0. Use .codes instead.\n",
      "\n",
      "Running for aco, 8, 8\n",
      "Saving results in /opt/data/projects/asthma-copd/results/imputed_gwas\n",
      "/opt/data/software/conda_envs/summary_gwas_imputation/lib/python3.7/site-packages/pyarrow/pandas_compat.py:752: FutureWarning: .labels was deprecated in version 0.24.0. Use .codes instead.\n",
      "\n"
     ]
    },
    {
     "name": "stderr",
     "output_type": "stream",
     "text": [
      "+ set +x\n"
     ]
    },
    {
     "name": "stdout",
     "output_type": "stream",
     "text": [
      "Running for aco, 8, 9\n",
      "Saving results in /opt/data/projects/asthma-copd/results/imputed_gwas\n",
      "/opt/data/software/conda_envs/summary_gwas_imputation/lib/python3.7/site-packages/pyarrow/pandas_compat.py:752: FutureWarning: .labels was deprecated in version 0.24.0. Use .codes instead.\n",
      "\n",
      "Running for aco, 9, 0\n",
      "Saving results in /opt/data/projects/asthma-copd/results/imputed_gwas\n",
      "/opt/data/software/conda_envs/summary_gwas_imputation/lib/python3.7/site-packages/pyarrow/pandas_compat.py:752: FutureWarning: .labels was deprecated in version 0.24.0. Use .codes instead.\n",
      "INFO - Error for region (9,7154923.0,8456299.0): LinAlgError('SVD did not converge')\n",
      "\n",
      "Running for aco, 9, 1\n",
      "Saving results in /opt/data/projects/asthma-copd/results/imputed_gwas\n",
      "/opt/data/software/conda_envs/summary_gwas_imputation/lib/python3.7/site-packages/pyarrow/pandas_compat.py:752: FutureWarning: .labels was deprecated in version 0.24.0. Use .codes instead.\n",
      "\n",
      "Running for aco, 9, 2\n",
      "Saving results in /opt/data/projects/asthma-copd/results/imputed_gwas\n",
      "/opt/data/software/conda_envs/summary_gwas_imputation/lib/python3.7/site-packages/pyarrow/pandas_compat.py:752: FutureWarning: .labels was deprecated in version 0.24.0. Use .codes instead.\n",
      "\n",
      "Running for aco, 9, 3\n",
      "Saving results in /opt/data/projects/asthma-copd/results/imputed_gwas\n",
      "/opt/data/software/conda_envs/summary_gwas_imputation/lib/python3.7/site-packages/pyarrow/pandas_compat.py:752: FutureWarning: .labels was deprecated in version 0.24.0. Use .codes instead.\n",
      "\n",
      "Running for aco, 9, 4\n",
      "Saving results in /opt/data/projects/asthma-copd/results/imputed_gwas\n",
      "/opt/data/software/conda_envs/summary_gwas_imputation/lib/python3.7/site-packages/pyarrow/pandas_compat.py:752: FutureWarning: .labels was deprecated in version 0.24.0. Use .codes instead.\n",
      "\n",
      "Running for aco, 9, 5\n",
      "Saving results in /opt/data/projects/asthma-copd/results/imputed_gwas\n",
      "/opt/data/software/conda_envs/summary_gwas_imputation/lib/python3.7/site-packages/pyarrow/pandas_compat.py:752: FutureWarning: .labels was deprecated in version 0.24.0. Use .codes instead.\n",
      "\n",
      "Running for aco, 9, 6\n",
      "Saving results in /opt/data/projects/asthma-copd/results/imputed_gwas\n",
      "/opt/data/software/conda_envs/summary_gwas_imputation/lib/python3.7/site-packages/pyarrow/pandas_compat.py:752: FutureWarning: .labels was deprecated in version 0.24.0. Use .codes instead.\n",
      "\n",
      "Running for aco, 9, 7\n",
      "Saving results in /opt/data/projects/asthma-copd/results/imputed_gwas\n",
      "/opt/data/software/conda_envs/summary_gwas_imputation/lib/python3.7/site-packages/pyarrow/pandas_compat.py:752: FutureWarning: .labels was deprecated in version 0.24.0. Use .codes instead.\n",
      "\n"
     ]
    },
    {
     "name": "stderr",
     "output_type": "stream",
     "text": [
      "+ /opt/data/software/conda_envs/summary_gwas_imputation/bin/python /opt/data/software/summary-gwas-imputation/src/gwas_summary_imputation.py -by_region_file /opt/data/data/eur_ld.bed.gz -gwas_file /opt/data/projects/asthma-copd/results/harmonized_gwas/GWAS_ACO_GLM_SNPs_info0.7-harmonized.txt -parquet_genotype /opt/data/data/phenomexcan/ld_blocks/reference_panel_1000G/chr8.variants.parquet -parquet_genotype_metadata /opt/data/data/phenomexcan/ld_blocks/reference_panel_1000G/variant_metadata.parquet -window 100000 -parsimony 7 -chromosome 8 -regularization 0.1 -frequency_filter 0.01 -sub_batches 10 -sub_batch 9 --standardise_dosages -output /opt/data/projects/asthma-copd/results/imputed_gwas/GWAS_ACO_GLM_SNPs_info0.7-harmonized-imputed-chr8-batch9_10.txt\n",
      "+ set +x\n",
      "+ /opt/data/software/conda_envs/summary_gwas_imputation/bin/python /opt/data/software/summary-gwas-imputation/src/gwas_summary_imputation.py -by_region_file /opt/data/data/eur_ld.bed.gz -gwas_file /opt/data/projects/asthma-copd/results/harmonized_gwas/GWAS_ACO_GLM_SNPs_info0.7-harmonized.txt -parquet_genotype /opt/data/data/phenomexcan/ld_blocks/reference_panel_1000G/chr9.variants.parquet -parquet_genotype_metadata /opt/data/data/phenomexcan/ld_blocks/reference_panel_1000G/variant_metadata.parquet -window 100000 -parsimony 7 -chromosome 9 -regularization 0.1 -frequency_filter 0.01 -sub_batches 10 -sub_batch 0 --standardise_dosages -output /opt/data/projects/asthma-copd/results/imputed_gwas/GWAS_ACO_GLM_SNPs_info0.7-harmonized-imputed-chr9-batch0_10.txt\n",
      "+ set +x\n",
      "+ /opt/data/software/conda_envs/summary_gwas_imputation/bin/python /opt/data/software/summary-gwas-imputation/src/gwas_summary_imputation.py -by_region_file /opt/data/data/eur_ld.bed.gz -gwas_file /opt/data/projects/asthma-copd/results/harmonized_gwas/GWAS_ACO_GLM_SNPs_info0.7-harmonized.txt -parquet_genotype /opt/data/data/phenomexcan/ld_blocks/reference_panel_1000G/chr9.variants.parquet -parquet_genotype_metadata /opt/data/data/phenomexcan/ld_blocks/reference_panel_1000G/variant_metadata.parquet -window 100000 -parsimony 7 -chromosome 9 -regularization 0.1 -frequency_filter 0.01 -sub_batches 10 -sub_batch 1 --standardise_dosages -output /opt/data/projects/asthma-copd/results/imputed_gwas/GWAS_ACO_GLM_SNPs_info0.7-harmonized-imputed-chr9-batch1_10.txt\n",
      "+ set +x\n",
      "+ /opt/data/software/conda_envs/summary_gwas_imputation/bin/python /opt/data/software/summary-gwas-imputation/src/gwas_summary_imputation.py -by_region_file /opt/data/data/eur_ld.bed.gz -gwas_file /opt/data/projects/asthma-copd/results/harmonized_gwas/GWAS_ACO_GLM_SNPs_info0.7-harmonized.txt -parquet_genotype /opt/data/data/phenomexcan/ld_blocks/reference_panel_1000G/chr9.variants.parquet -parquet_genotype_metadata /opt/data/data/phenomexcan/ld_blocks/reference_panel_1000G/variant_metadata.parquet -window 100000 -parsimony 7 -chromosome 9 -regularization 0.1 -frequency_filter 0.01 -sub_batches 10 -sub_batch 2 --standardise_dosages -output /opt/data/projects/asthma-copd/results/imputed_gwas/GWAS_ACO_GLM_SNPs_info0.7-harmonized-imputed-chr9-batch2_10.txt\n",
      "+ set +x\n",
      "+ /opt/data/software/conda_envs/summary_gwas_imputation/bin/python /opt/data/software/summary-gwas-imputation/src/gwas_summary_imputation.py -by_region_file /opt/data/data/eur_ld.bed.gz -gwas_file /opt/data/projects/asthma-copd/results/harmonized_gwas/GWAS_ACO_GLM_SNPs_info0.7-harmonized.txt -parquet_genotype /opt/data/data/phenomexcan/ld_blocks/reference_panel_1000G/chr9.variants.parquet -parquet_genotype_metadata /opt/data/data/phenomexcan/ld_blocks/reference_panel_1000G/variant_metadata.parquet -window 100000 -parsimony 7 -chromosome 9 -regularization 0.1 -frequency_filter 0.01 -sub_batches 10 -sub_batch 3 --standardise_dosages -output /opt/data/projects/asthma-copd/results/imputed_gwas/GWAS_ACO_GLM_SNPs_info0.7-harmonized-imputed-chr9-batch3_10.txt\n",
      "+ set +x\n",
      "+ /opt/data/software/conda_envs/summary_gwas_imputation/bin/python /opt/data/software/summary-gwas-imputation/src/gwas_summary_imputation.py -by_region_file /opt/data/data/eur_ld.bed.gz -gwas_file /opt/data/projects/asthma-copd/results/harmonized_gwas/GWAS_ACO_GLM_SNPs_info0.7-harmonized.txt -parquet_genotype /opt/data/data/phenomexcan/ld_blocks/reference_panel_1000G/chr9.variants.parquet -parquet_genotype_metadata /opt/data/data/phenomexcan/ld_blocks/reference_panel_1000G/variant_metadata.parquet -window 100000 -parsimony 7 -chromosome 9 -regularization 0.1 -frequency_filter 0.01 -sub_batches 10 -sub_batch 4 --standardise_dosages -output /opt/data/projects/asthma-copd/results/imputed_gwas/GWAS_ACO_GLM_SNPs_info0.7-harmonized-imputed-chr9-batch4_10.txt\n",
      "+ set +x\n",
      "+ /opt/data/software/conda_envs/summary_gwas_imputation/bin/python /opt/data/software/summary-gwas-imputation/src/gwas_summary_imputation.py -by_region_file /opt/data/data/eur_ld.bed.gz -gwas_file /opt/data/projects/asthma-copd/results/harmonized_gwas/GWAS_ACO_GLM_SNPs_info0.7-harmonized.txt -parquet_genotype /opt/data/data/phenomexcan/ld_blocks/reference_panel_1000G/chr9.variants.parquet -parquet_genotype_metadata /opt/data/data/phenomexcan/ld_blocks/reference_panel_1000G/variant_metadata.parquet -window 100000 -parsimony 7 -chromosome 9 -regularization 0.1 -frequency_filter 0.01 -sub_batches 10 -sub_batch 5 --standardise_dosages -output /opt/data/projects/asthma-copd/results/imputed_gwas/GWAS_ACO_GLM_SNPs_info0.7-harmonized-imputed-chr9-batch5_10.txt\n",
      "+ set +x\n",
      "+ /opt/data/software/conda_envs/summary_gwas_imputation/bin/python /opt/data/software/summary-gwas-imputation/src/gwas_summary_imputation.py -by_region_file /opt/data/data/eur_ld.bed.gz -gwas_file /opt/data/projects/asthma-copd/results/harmonized_gwas/GWAS_ACO_GLM_SNPs_info0.7-harmonized.txt -parquet_genotype /opt/data/data/phenomexcan/ld_blocks/reference_panel_1000G/chr9.variants.parquet -parquet_genotype_metadata /opt/data/data/phenomexcan/ld_blocks/reference_panel_1000G/variant_metadata.parquet -window 100000 -parsimony 7 -chromosome 9 -regularization 0.1 -frequency_filter 0.01 -sub_batches 10 -sub_batch 6 --standardise_dosages -output /opt/data/projects/asthma-copd/results/imputed_gwas/GWAS_ACO_GLM_SNPs_info0.7-harmonized-imputed-chr9-batch6_10.txt\n",
      "+ set +x\n",
      "+ /opt/data/software/conda_envs/summary_gwas_imputation/bin/python /opt/data/software/summary-gwas-imputation/src/gwas_summary_imputation.py -by_region_file /opt/data/data/eur_ld.bed.gz -gwas_file /opt/data/projects/asthma-copd/results/harmonized_gwas/GWAS_ACO_GLM_SNPs_info0.7-harmonized.txt -parquet_genotype /opt/data/data/phenomexcan/ld_blocks/reference_panel_1000G/chr9.variants.parquet -parquet_genotype_metadata /opt/data/data/phenomexcan/ld_blocks/reference_panel_1000G/variant_metadata.parquet -window 100000 -parsimony 7 -chromosome 9 -regularization 0.1 -frequency_filter 0.01 -sub_batches 10 -sub_batch 7 --standardise_dosages -output /opt/data/projects/asthma-copd/results/imputed_gwas/GWAS_ACO_GLM_SNPs_info0.7-harmonized-imputed-chr9-batch7_10.txt\n",
      "+ set +x\n"
     ]
    },
    {
     "name": "stdout",
     "output_type": "stream",
     "text": [
      "Running for aco, 9, 8\n",
      "Saving results in /opt/data/projects/asthma-copd/results/imputed_gwas\n",
      "/opt/data/software/conda_envs/summary_gwas_imputation/lib/python3.7/site-packages/pyarrow/pandas_compat.py:752: FutureWarning: .labels was deprecated in version 0.24.0. Use .codes instead.\n",
      "\n",
      "Running for aco, 9, 9\n",
      "Saving results in /opt/data/projects/asthma-copd/results/imputed_gwas\n",
      "/opt/data/software/conda_envs/summary_gwas_imputation/lib/python3.7/site-packages/pyarrow/pandas_compat.py:752: FutureWarning: .labels was deprecated in version 0.24.0. Use .codes instead.\n",
      "\n",
      "Running for aco, 10, 0\n",
      "Saving results in /opt/data/projects/asthma-copd/results/imputed_gwas\n",
      "/opt/data/software/conda_envs/summary_gwas_imputation/lib/python3.7/site-packages/pyarrow/pandas_compat.py:752: FutureWarning: .labels was deprecated in version 0.24.0. Use .codes instead.\n",
      "\n",
      "Running for aco, 10, 1\n",
      "Saving results in /opt/data/projects/asthma-copd/results/imputed_gwas\n"
     ]
    },
    {
     "name": "stderr",
     "output_type": "stream",
     "text": [
      "+ /opt/data/software/conda_envs/summary_gwas_imputation/bin/python /opt/data/software/summary-gwas-imputation/src/gwas_summary_imputation.py -by_region_file /opt/data/data/eur_ld.bed.gz -gwas_file /opt/data/projects/asthma-copd/results/harmonized_gwas/GWAS_ACO_GLM_SNPs_info0.7-harmonized.txt -parquet_genotype /opt/data/data/phenomexcan/ld_blocks/reference_panel_1000G/chr9.variants.parquet -parquet_genotype_metadata /opt/data/data/phenomexcan/ld_blocks/reference_panel_1000G/variant_metadata.parquet -window 100000 -parsimony 7 -chromosome 9 -regularization 0.1 -frequency_filter 0.01 -sub_batches 10 -sub_batch 8 --standardise_dosages -output /opt/data/projects/asthma-copd/results/imputed_gwas/GWAS_ACO_GLM_SNPs_info0.7-harmonized-imputed-chr9-batch8_10.txt\n",
      "+ set +x\n",
      "+ /opt/data/software/conda_envs/summary_gwas_imputation/bin/python /opt/data/software/summary-gwas-imputation/src/gwas_summary_imputation.py -by_region_file /opt/data/data/eur_ld.bed.gz -gwas_file /opt/data/projects/asthma-copd/results/harmonized_gwas/GWAS_ACO_GLM_SNPs_info0.7-harmonized.txt -parquet_genotype /opt/data/data/phenomexcan/ld_blocks/reference_panel_1000G/chr9.variants.parquet -parquet_genotype_metadata /opt/data/data/phenomexcan/ld_blocks/reference_panel_1000G/variant_metadata.parquet -window 100000 -parsimony 7 -chromosome 9 -regularization 0.1 -frequency_filter 0.01 -sub_batches 10 -sub_batch 9 --standardise_dosages -output /opt/data/projects/asthma-copd/results/imputed_gwas/GWAS_ACO_GLM_SNPs_info0.7-harmonized-imputed-chr9-batch9_10.txt\n",
      "+ set +x\n",
      "+ /opt/data/software/conda_envs/summary_gwas_imputation/bin/python /opt/data/software/summary-gwas-imputation/src/gwas_summary_imputation.py -by_region_file /opt/data/data/eur_ld.bed.gz -gwas_file /opt/data/projects/asthma-copd/results/harmonized_gwas/GWAS_ACO_GLM_SNPs_info0.7-harmonized.txt -parquet_genotype /opt/data/data/phenomexcan/ld_blocks/reference_panel_1000G/chr10.variants.parquet -parquet_genotype_metadata /opt/data/data/phenomexcan/ld_blocks/reference_panel_1000G/variant_metadata.parquet -window 100000 -parsimony 7 -chromosome 10 -regularization 0.1 -frequency_filter 0.01 -sub_batches 10 -sub_batch 0 --standardise_dosages -output /opt/data/projects/asthma-copd/results/imputed_gwas/GWAS_ACO_GLM_SNPs_info0.7-harmonized-imputed-chr10-batch0_10.txt\n",
      "+ set +x\n",
      "+ /opt/data/software/conda_envs/summary_gwas_imputation/bin/python /opt/data/software/summary-gwas-imputation/src/gwas_summary_imputation.py -by_region_file /opt/data/data/eur_ld.bed.gz -gwas_file /opt/data/projects/asthma-copd/results/harmonized_gwas/GWAS_ACO_GLM_SNPs_info0.7-harmonized.txt -parquet_genotype /opt/data/data/phenomexcan/ld_blocks/reference_panel_1000G/chr10.variants.parquet -parquet_genotype_metadata /opt/data/data/phenomexcan/ld_blocks/reference_panel_1000G/variant_metadata.parquet -window 100000 -parsimony 7 -chromosome 10 -regularization 0.1 -frequency_filter 0.01 -sub_batches 10 -sub_batch 1 --standardise_dosages -output /opt/data/projects/asthma-copd/results/imputed_gwas/GWAS_ACO_GLM_SNPs_info0.7-harmonized-imputed-chr10-batch1_10.txt\n"
     ]
    },
    {
     "name": "stdout",
     "output_type": "stream",
     "text": [
      "/opt/data/software/conda_envs/summary_gwas_imputation/lib/python3.7/site-packages/pyarrow/pandas_compat.py:752: FutureWarning: .labels was deprecated in version 0.24.0. Use .codes instead.\n",
      "\n"
     ]
    },
    {
     "name": "stderr",
     "output_type": "stream",
     "text": [
      "+ set +x\n"
     ]
    },
    {
     "name": "stdout",
     "output_type": "stream",
     "text": [
      "Running for aco, 10, 2\n",
      "Saving results in /opt/data/projects/asthma-copd/results/imputed_gwas\n",
      "/opt/data/software/conda_envs/summary_gwas_imputation/lib/python3.7/site-packages/pyarrow/pandas_compat.py:752: FutureWarning: .labels was deprecated in version 0.24.0. Use .codes instead.\n",
      "\n"
     ]
    },
    {
     "name": "stderr",
     "output_type": "stream",
     "text": [
      "+ /opt/data/software/conda_envs/summary_gwas_imputation/bin/python /opt/data/software/summary-gwas-imputation/src/gwas_summary_imputation.py -by_region_file /opt/data/data/eur_ld.bed.gz -gwas_file /opt/data/projects/asthma-copd/results/harmonized_gwas/GWAS_ACO_GLM_SNPs_info0.7-harmonized.txt -parquet_genotype /opt/data/data/phenomexcan/ld_blocks/reference_panel_1000G/chr10.variants.parquet -parquet_genotype_metadata /opt/data/data/phenomexcan/ld_blocks/reference_panel_1000G/variant_metadata.parquet -window 100000 -parsimony 7 -chromosome 10 -regularization 0.1 -frequency_filter 0.01 -sub_batches 10 -sub_batch 2 --standardise_dosages -output /opt/data/projects/asthma-copd/results/imputed_gwas/GWAS_ACO_GLM_SNPs_info0.7-harmonized-imputed-chr10-batch2_10.txt\n",
      "+ set +x\n"
     ]
    },
    {
     "name": "stdout",
     "output_type": "stream",
     "text": [
      "Running for aco, 10, 3\n",
      "Saving results in /opt/data/projects/asthma-copd/results/imputed_gwas\n",
      "/opt/data/software/conda_envs/summary_gwas_imputation/lib/python3.7/site-packages/pyarrow/pandas_compat.py:752: FutureWarning: .labels was deprecated in version 0.24.0. Use .codes instead.\n",
      "\n",
      "Running for aco, 10, 4\n",
      "Saving results in /opt/data/projects/asthma-copd/results/imputed_gwas\n",
      "/opt/data/software/conda_envs/summary_gwas_imputation/lib/python3.7/site-packages/pyarrow/pandas_compat.py:752: FutureWarning: .labels was deprecated in version 0.24.0. Use .codes instead.\n",
      "\n",
      "Running for aco, 10, 5\n",
      "Saving results in /opt/data/projects/asthma-copd/results/imputed_gwas\n",
      "/opt/data/software/conda_envs/summary_gwas_imputation/lib/python3.7/site-packages/pyarrow/pandas_compat.py:752: FutureWarning: .labels was deprecated in version 0.24.0. Use .codes instead.\n",
      "\n",
      "Running for aco, 10, 6\n",
      "Saving results in /opt/data/projects/asthma-copd/results/imputed_gwas\n",
      "/opt/data/software/conda_envs/summary_gwas_imputation/lib/python3.7/site-packages/pyarrow/pandas_compat.py:752: FutureWarning: .labels was deprecated in version 0.24.0. Use .codes instead.\n",
      "\n",
      "Running for aco, 10, 7\n",
      "Saving results in /opt/data/projects/asthma-copd/results/imputed_gwas\n",
      "/opt/data/software/conda_envs/summary_gwas_imputation/lib/python3.7/site-packages/pyarrow/pandas_compat.py:752: FutureWarning: .labels was deprecated in version 0.24.0. Use .codes instead.\n",
      "\n",
      "Running for aco, 10, 8\n",
      "Saving results in /opt/data/projects/asthma-copd/results/imputed_gwas\n",
      "/opt/data/software/conda_envs/summary_gwas_imputation/lib/python3.7/site-packages/pyarrow/pandas_compat.py:752: FutureWarning: .labels was deprecated in version 0.24.0. Use .codes instead.\n",
      "\n",
      "Running for aco, 10, 9\n",
      "Saving results in /opt/data/projects/asthma-copd/results/imputed_gwas\n",
      "/opt/data/software/conda_envs/summary_gwas_imputation/lib/python3.7/site-packages/pyarrow/pandas_compat.py:752: FutureWarning: .labels was deprecated in version 0.24.0. Use .codes instead.\n",
      "INFO - Error for region (10,127356098.0,129046020.0): LinAlgError('SVD did not converge')\n",
      "\n",
      "Running for aco, 11, 0\n",
      "Saving results in /opt/data/projects/asthma-copd/results/imputed_gwas\n"
     ]
    },
    {
     "name": "stderr",
     "output_type": "stream",
     "text": [
      "+ /opt/data/software/conda_envs/summary_gwas_imputation/bin/python /opt/data/software/summary-gwas-imputation/src/gwas_summary_imputation.py -by_region_file /opt/data/data/eur_ld.bed.gz -gwas_file /opt/data/projects/asthma-copd/results/harmonized_gwas/GWAS_ACO_GLM_SNPs_info0.7-harmonized.txt -parquet_genotype /opt/data/data/phenomexcan/ld_blocks/reference_panel_1000G/chr10.variants.parquet -parquet_genotype_metadata /opt/data/data/phenomexcan/ld_blocks/reference_panel_1000G/variant_metadata.parquet -window 100000 -parsimony 7 -chromosome 10 -regularization 0.1 -frequency_filter 0.01 -sub_batches 10 -sub_batch 3 --standardise_dosages -output /opt/data/projects/asthma-copd/results/imputed_gwas/GWAS_ACO_GLM_SNPs_info0.7-harmonized-imputed-chr10-batch3_10.txt\n",
      "+ set +x\n",
      "+ /opt/data/software/conda_envs/summary_gwas_imputation/bin/python /opt/data/software/summary-gwas-imputation/src/gwas_summary_imputation.py -by_region_file /opt/data/data/eur_ld.bed.gz -gwas_file /opt/data/projects/asthma-copd/results/harmonized_gwas/GWAS_ACO_GLM_SNPs_info0.7-harmonized.txt -parquet_genotype /opt/data/data/phenomexcan/ld_blocks/reference_panel_1000G/chr10.variants.parquet -parquet_genotype_metadata /opt/data/data/phenomexcan/ld_blocks/reference_panel_1000G/variant_metadata.parquet -window 100000 -parsimony 7 -chromosome 10 -regularization 0.1 -frequency_filter 0.01 -sub_batches 10 -sub_batch 4 --standardise_dosages -output /opt/data/projects/asthma-copd/results/imputed_gwas/GWAS_ACO_GLM_SNPs_info0.7-harmonized-imputed-chr10-batch4_10.txt\n",
      "+ set +x\n",
      "+ /opt/data/software/conda_envs/summary_gwas_imputation/bin/python /opt/data/software/summary-gwas-imputation/src/gwas_summary_imputation.py -by_region_file /opt/data/data/eur_ld.bed.gz -gwas_file /opt/data/projects/asthma-copd/results/harmonized_gwas/GWAS_ACO_GLM_SNPs_info0.7-harmonized.txt -parquet_genotype /opt/data/data/phenomexcan/ld_blocks/reference_panel_1000G/chr10.variants.parquet -parquet_genotype_metadata /opt/data/data/phenomexcan/ld_blocks/reference_panel_1000G/variant_metadata.parquet -window 100000 -parsimony 7 -chromosome 10 -regularization 0.1 -frequency_filter 0.01 -sub_batches 10 -sub_batch 5 --standardise_dosages -output /opt/data/projects/asthma-copd/results/imputed_gwas/GWAS_ACO_GLM_SNPs_info0.7-harmonized-imputed-chr10-batch5_10.txt\n",
      "+ set +x\n",
      "+ /opt/data/software/conda_envs/summary_gwas_imputation/bin/python /opt/data/software/summary-gwas-imputation/src/gwas_summary_imputation.py -by_region_file /opt/data/data/eur_ld.bed.gz -gwas_file /opt/data/projects/asthma-copd/results/harmonized_gwas/GWAS_ACO_GLM_SNPs_info0.7-harmonized.txt -parquet_genotype /opt/data/data/phenomexcan/ld_blocks/reference_panel_1000G/chr10.variants.parquet -parquet_genotype_metadata /opt/data/data/phenomexcan/ld_blocks/reference_panel_1000G/variant_metadata.parquet -window 100000 -parsimony 7 -chromosome 10 -regularization 0.1 -frequency_filter 0.01 -sub_batches 10 -sub_batch 6 --standardise_dosages -output /opt/data/projects/asthma-copd/results/imputed_gwas/GWAS_ACO_GLM_SNPs_info0.7-harmonized-imputed-chr10-batch6_10.txt\n",
      "+ set +x\n",
      "+ /opt/data/software/conda_envs/summary_gwas_imputation/bin/python /opt/data/software/summary-gwas-imputation/src/gwas_summary_imputation.py -by_region_file /opt/data/data/eur_ld.bed.gz -gwas_file /opt/data/projects/asthma-copd/results/harmonized_gwas/GWAS_ACO_GLM_SNPs_info0.7-harmonized.txt -parquet_genotype /opt/data/data/phenomexcan/ld_blocks/reference_panel_1000G/chr10.variants.parquet -parquet_genotype_metadata /opt/data/data/phenomexcan/ld_blocks/reference_panel_1000G/variant_metadata.parquet -window 100000 -parsimony 7 -chromosome 10 -regularization 0.1 -frequency_filter 0.01 -sub_batches 10 -sub_batch 7 --standardise_dosages -output /opt/data/projects/asthma-copd/results/imputed_gwas/GWAS_ACO_GLM_SNPs_info0.7-harmonized-imputed-chr10-batch7_10.txt\n",
      "+ set +x\n",
      "+ /opt/data/software/conda_envs/summary_gwas_imputation/bin/python /opt/data/software/summary-gwas-imputation/src/gwas_summary_imputation.py -by_region_file /opt/data/data/eur_ld.bed.gz -gwas_file /opt/data/projects/asthma-copd/results/harmonized_gwas/GWAS_ACO_GLM_SNPs_info0.7-harmonized.txt -parquet_genotype /opt/data/data/phenomexcan/ld_blocks/reference_panel_1000G/chr10.variants.parquet -parquet_genotype_metadata /opt/data/data/phenomexcan/ld_blocks/reference_panel_1000G/variant_metadata.parquet -window 100000 -parsimony 7 -chromosome 10 -regularization 0.1 -frequency_filter 0.01 -sub_batches 10 -sub_batch 8 --standardise_dosages -output /opt/data/projects/asthma-copd/results/imputed_gwas/GWAS_ACO_GLM_SNPs_info0.7-harmonized-imputed-chr10-batch8_10.txt\n",
      "+ set +x\n",
      "+ /opt/data/software/conda_envs/summary_gwas_imputation/bin/python /opt/data/software/summary-gwas-imputation/src/gwas_summary_imputation.py -by_region_file /opt/data/data/eur_ld.bed.gz -gwas_file /opt/data/projects/asthma-copd/results/harmonized_gwas/GWAS_ACO_GLM_SNPs_info0.7-harmonized.txt -parquet_genotype /opt/data/data/phenomexcan/ld_blocks/reference_panel_1000G/chr10.variants.parquet -parquet_genotype_metadata /opt/data/data/phenomexcan/ld_blocks/reference_panel_1000G/variant_metadata.parquet -window 100000 -parsimony 7 -chromosome 10 -regularization 0.1 -frequency_filter 0.01 -sub_batches 10 -sub_batch 9 --standardise_dosages -output /opt/data/projects/asthma-copd/results/imputed_gwas/GWAS_ACO_GLM_SNPs_info0.7-harmonized-imputed-chr10-batch9_10.txt\n",
      "+ set +x\n",
      "+ /opt/data/software/conda_envs/summary_gwas_imputation/bin/python /opt/data/software/summary-gwas-imputation/src/gwas_summary_imputation.py -by_region_file /opt/data/data/eur_ld.bed.gz -gwas_file /opt/data/projects/asthma-copd/results/harmonized_gwas/GWAS_ACO_GLM_SNPs_info0.7-harmonized.txt -parquet_genotype /opt/data/data/phenomexcan/ld_blocks/reference_panel_1000G/chr11.variants.parquet -parquet_genotype_metadata /opt/data/data/phenomexcan/ld_blocks/reference_panel_1000G/variant_metadata.parquet -window 100000 -parsimony 7 -chromosome 11 -regularization 0.1 -frequency_filter 0.01 -sub_batches 10 -sub_batch 0 --standardise_dosages -output /opt/data/projects/asthma-copd/results/imputed_gwas/GWAS_ACO_GLM_SNPs_info0.7-harmonized-imputed-chr11-batch0_10.txt\n"
     ]
    },
    {
     "name": "stdout",
     "output_type": "stream",
     "text": [
      "/opt/data/software/conda_envs/summary_gwas_imputation/lib/python3.7/site-packages/pyarrow/pandas_compat.py:752: FutureWarning: .labels was deprecated in version 0.24.0. Use .codes instead.\n",
      "\n"
     ]
    },
    {
     "name": "stderr",
     "output_type": "stream",
     "text": [
      "+ set +x\n"
     ]
    },
    {
     "name": "stdout",
     "output_type": "stream",
     "text": [
      "Running for aco, 11, 1\n",
      "Saving results in /opt/data/projects/asthma-copd/results/imputed_gwas\n",
      "/opt/data/software/conda_envs/summary_gwas_imputation/lib/python3.7/site-packages/pyarrow/pandas_compat.py:752: FutureWarning: .labels was deprecated in version 0.24.0. Use .codes instead.\n",
      "\n"
     ]
    },
    {
     "name": "stderr",
     "output_type": "stream",
     "text": [
      "+ /opt/data/software/conda_envs/summary_gwas_imputation/bin/python /opt/data/software/summary-gwas-imputation/src/gwas_summary_imputation.py -by_region_file /opt/data/data/eur_ld.bed.gz -gwas_file /opt/data/projects/asthma-copd/results/harmonized_gwas/GWAS_ACO_GLM_SNPs_info0.7-harmonized.txt -parquet_genotype /opt/data/data/phenomexcan/ld_blocks/reference_panel_1000G/chr11.variants.parquet -parquet_genotype_metadata /opt/data/data/phenomexcan/ld_blocks/reference_panel_1000G/variant_metadata.parquet -window 100000 -parsimony 7 -chromosome 11 -regularization 0.1 -frequency_filter 0.01 -sub_batches 10 -sub_batch 1 --standardise_dosages -output /opt/data/projects/asthma-copd/results/imputed_gwas/GWAS_ACO_GLM_SNPs_info0.7-harmonized-imputed-chr11-batch1_10.txt\n",
      "+ set +x\n"
     ]
    },
    {
     "name": "stdout",
     "output_type": "stream",
     "text": [
      "Running for aco, 11, 2\n",
      "Saving results in /opt/data/projects/asthma-copd/results/imputed_gwas\n"
     ]
    },
    {
     "name": "stderr",
     "output_type": "stream",
     "text": [
      "+ /opt/data/software/conda_envs/summary_gwas_imputation/bin/python /opt/data/software/summary-gwas-imputation/src/gwas_summary_imputation.py -by_region_file /opt/data/data/eur_ld.bed.gz -gwas_file /opt/data/projects/asthma-copd/results/harmonized_gwas/GWAS_ACO_GLM_SNPs_info0.7-harmonized.txt -parquet_genotype /opt/data/data/phenomexcan/ld_blocks/reference_panel_1000G/chr11.variants.parquet -parquet_genotype_metadata /opt/data/data/phenomexcan/ld_blocks/reference_panel_1000G/variant_metadata.parquet -window 100000 -parsimony 7 -chromosome 11 -regularization 0.1 -frequency_filter 0.01 -sub_batches 10 -sub_batch 2 --standardise_dosages -output /opt/data/projects/asthma-copd/results/imputed_gwas/GWAS_ACO_GLM_SNPs_info0.7-harmonized-imputed-chr11-batch2_10.txt\n"
     ]
    },
    {
     "name": "stdout",
     "output_type": "stream",
     "text": [
      "/opt/data/software/conda_envs/summary_gwas_imputation/lib/python3.7/site-packages/pyarrow/pandas_compat.py:752: FutureWarning: .labels was deprecated in version 0.24.0. Use .codes instead.\n",
      "\n"
     ]
    },
    {
     "name": "stderr",
     "output_type": "stream",
     "text": [
      "+ set +x\n"
     ]
    },
    {
     "name": "stdout",
     "output_type": "stream",
     "text": [
      "Running for aco, 11, 3\n",
      "Saving results in /opt/data/projects/asthma-copd/results/imputed_gwas\n"
     ]
    },
    {
     "name": "stderr",
     "output_type": "stream",
     "text": [
      "+ /opt/data/software/conda_envs/summary_gwas_imputation/bin/python /opt/data/software/summary-gwas-imputation/src/gwas_summary_imputation.py -by_region_file /opt/data/data/eur_ld.bed.gz -gwas_file /opt/data/projects/asthma-copd/results/harmonized_gwas/GWAS_ACO_GLM_SNPs_info0.7-harmonized.txt -parquet_genotype /opt/data/data/phenomexcan/ld_blocks/reference_panel_1000G/chr11.variants.parquet -parquet_genotype_metadata /opt/data/data/phenomexcan/ld_blocks/reference_panel_1000G/variant_metadata.parquet -window 100000 -parsimony 7 -chromosome 11 -regularization 0.1 -frequency_filter 0.01 -sub_batches 10 -sub_batch 3 --standardise_dosages -output /opt/data/projects/asthma-copd/results/imputed_gwas/GWAS_ACO_GLM_SNPs_info0.7-harmonized-imputed-chr11-batch3_10.txt\n"
     ]
    },
    {
     "name": "stdout",
     "output_type": "stream",
     "text": [
      "/opt/data/software/conda_envs/summary_gwas_imputation/lib/python3.7/site-packages/pyarrow/pandas_compat.py:752: FutureWarning: .labels was deprecated in version 0.24.0. Use .codes instead.\n",
      "\n"
     ]
    },
    {
     "name": "stderr",
     "output_type": "stream",
     "text": [
      "+ set +x\n"
     ]
    },
    {
     "name": "stdout",
     "output_type": "stream",
     "text": [
      "Running for aco, 11, 4\n",
      "Saving results in /opt/data/projects/asthma-copd/results/imputed_gwas\n",
      "/opt/data/software/conda_envs/summary_gwas_imputation/lib/python3.7/site-packages/pyarrow/pandas_compat.py:752: FutureWarning: .labels was deprecated in version 0.24.0. Use .codes instead.\n",
      "\n"
     ]
    },
    {
     "name": "stderr",
     "output_type": "stream",
     "text": [
      "+ /opt/data/software/conda_envs/summary_gwas_imputation/bin/python /opt/data/software/summary-gwas-imputation/src/gwas_summary_imputation.py -by_region_file /opt/data/data/eur_ld.bed.gz -gwas_file /opt/data/projects/asthma-copd/results/harmonized_gwas/GWAS_ACO_GLM_SNPs_info0.7-harmonized.txt -parquet_genotype /opt/data/data/phenomexcan/ld_blocks/reference_panel_1000G/chr11.variants.parquet -parquet_genotype_metadata /opt/data/data/phenomexcan/ld_blocks/reference_panel_1000G/variant_metadata.parquet -window 100000 -parsimony 7 -chromosome 11 -regularization 0.1 -frequency_filter 0.01 -sub_batches 10 -sub_batch 4 --standardise_dosages -output /opt/data/projects/asthma-copd/results/imputed_gwas/GWAS_ACO_GLM_SNPs_info0.7-harmonized-imputed-chr11-batch4_10.txt\n",
      "+ set +x\n"
     ]
    },
    {
     "name": "stdout",
     "output_type": "stream",
     "text": [
      "Running for aco, 11, 5\n",
      "Saving results in /opt/data/projects/asthma-copd/results/imputed_gwas\n",
      "/opt/data/software/conda_envs/summary_gwas_imputation/lib/python3.7/site-packages/pyarrow/pandas_compat.py:752: FutureWarning: .labels was deprecated in version 0.24.0. Use .codes instead.\n",
      "\n",
      "Running for aco, 11, 6\n",
      "Saving results in /opt/data/projects/asthma-copd/results/imputed_gwas\n",
      "/opt/data/software/conda_envs/summary_gwas_imputation/lib/python3.7/site-packages/pyarrow/pandas_compat.py:752: FutureWarning: .labels was deprecated in version 0.24.0. Use .codes instead.\n",
      "\n",
      "Running for aco, 11, 7\n",
      "Saving results in /opt/data/projects/asthma-copd/results/imputed_gwas\n",
      "/opt/data/software/conda_envs/summary_gwas_imputation/lib/python3.7/site-packages/pyarrow/pandas_compat.py:752: FutureWarning: .labels was deprecated in version 0.24.0. Use .codes instead.\n",
      "\n",
      "Running for aco, 11, 8\n",
      "Saving results in /opt/data/projects/asthma-copd/results/imputed_gwas\n",
      "/opt/data/software/conda_envs/summary_gwas_imputation/lib/python3.7/site-packages/pyarrow/pandas_compat.py:752: FutureWarning: .labels was deprecated in version 0.24.0. Use .codes instead.\n",
      "\n",
      "Running for aco, 11, 9\n",
      "Saving results in /opt/data/projects/asthma-copd/results/imputed_gwas\n",
      "/opt/data/software/conda_envs/summary_gwas_imputation/lib/python3.7/site-packages/pyarrow/pandas_compat.py:752: FutureWarning: .labels was deprecated in version 0.24.0. Use .codes instead.\n",
      "\n",
      "Running for aco, 12, 0\n",
      "Saving results in /opt/data/projects/asthma-copd/results/imputed_gwas\n",
      "/opt/data/software/conda_envs/summary_gwas_imputation/lib/python3.7/site-packages/pyarrow/pandas_compat.py:752: FutureWarning: .labels was deprecated in version 0.24.0. Use .codes instead.\n",
      "\n",
      "Running for aco, 12, 1\n",
      "Saving results in /opt/data/projects/asthma-copd/results/imputed_gwas\n"
     ]
    },
    {
     "name": "stderr",
     "output_type": "stream",
     "text": [
      "+ /opt/data/software/conda_envs/summary_gwas_imputation/bin/python /opt/data/software/summary-gwas-imputation/src/gwas_summary_imputation.py -by_region_file /opt/data/data/eur_ld.bed.gz -gwas_file /opt/data/projects/asthma-copd/results/harmonized_gwas/GWAS_ACO_GLM_SNPs_info0.7-harmonized.txt -parquet_genotype /opt/data/data/phenomexcan/ld_blocks/reference_panel_1000G/chr11.variants.parquet -parquet_genotype_metadata /opt/data/data/phenomexcan/ld_blocks/reference_panel_1000G/variant_metadata.parquet -window 100000 -parsimony 7 -chromosome 11 -regularization 0.1 -frequency_filter 0.01 -sub_batches 10 -sub_batch 5 --standardise_dosages -output /opt/data/projects/asthma-copd/results/imputed_gwas/GWAS_ACO_GLM_SNPs_info0.7-harmonized-imputed-chr11-batch5_10.txt\n",
      "+ set +x\n",
      "+ /opt/data/software/conda_envs/summary_gwas_imputation/bin/python /opt/data/software/summary-gwas-imputation/src/gwas_summary_imputation.py -by_region_file /opt/data/data/eur_ld.bed.gz -gwas_file /opt/data/projects/asthma-copd/results/harmonized_gwas/GWAS_ACO_GLM_SNPs_info0.7-harmonized.txt -parquet_genotype /opt/data/data/phenomexcan/ld_blocks/reference_panel_1000G/chr11.variants.parquet -parquet_genotype_metadata /opt/data/data/phenomexcan/ld_blocks/reference_panel_1000G/variant_metadata.parquet -window 100000 -parsimony 7 -chromosome 11 -regularization 0.1 -frequency_filter 0.01 -sub_batches 10 -sub_batch 6 --standardise_dosages -output /opt/data/projects/asthma-copd/results/imputed_gwas/GWAS_ACO_GLM_SNPs_info0.7-harmonized-imputed-chr11-batch6_10.txt\n",
      "+ set +x\n",
      "+ /opt/data/software/conda_envs/summary_gwas_imputation/bin/python /opt/data/software/summary-gwas-imputation/src/gwas_summary_imputation.py -by_region_file /opt/data/data/eur_ld.bed.gz -gwas_file /opt/data/projects/asthma-copd/results/harmonized_gwas/GWAS_ACO_GLM_SNPs_info0.7-harmonized.txt -parquet_genotype /opt/data/data/phenomexcan/ld_blocks/reference_panel_1000G/chr11.variants.parquet -parquet_genotype_metadata /opt/data/data/phenomexcan/ld_blocks/reference_panel_1000G/variant_metadata.parquet -window 100000 -parsimony 7 -chromosome 11 -regularization 0.1 -frequency_filter 0.01 -sub_batches 10 -sub_batch 7 --standardise_dosages -output /opt/data/projects/asthma-copd/results/imputed_gwas/GWAS_ACO_GLM_SNPs_info0.7-harmonized-imputed-chr11-batch7_10.txt\n",
      "+ set +x\n",
      "+ /opt/data/software/conda_envs/summary_gwas_imputation/bin/python /opt/data/software/summary-gwas-imputation/src/gwas_summary_imputation.py -by_region_file /opt/data/data/eur_ld.bed.gz -gwas_file /opt/data/projects/asthma-copd/results/harmonized_gwas/GWAS_ACO_GLM_SNPs_info0.7-harmonized.txt -parquet_genotype /opt/data/data/phenomexcan/ld_blocks/reference_panel_1000G/chr11.variants.parquet -parquet_genotype_metadata /opt/data/data/phenomexcan/ld_blocks/reference_panel_1000G/variant_metadata.parquet -window 100000 -parsimony 7 -chromosome 11 -regularization 0.1 -frequency_filter 0.01 -sub_batches 10 -sub_batch 8 --standardise_dosages -output /opt/data/projects/asthma-copd/results/imputed_gwas/GWAS_ACO_GLM_SNPs_info0.7-harmonized-imputed-chr11-batch8_10.txt\n",
      "+ set +x\n",
      "+ /opt/data/software/conda_envs/summary_gwas_imputation/bin/python /opt/data/software/summary-gwas-imputation/src/gwas_summary_imputation.py -by_region_file /opt/data/data/eur_ld.bed.gz -gwas_file /opt/data/projects/asthma-copd/results/harmonized_gwas/GWAS_ACO_GLM_SNPs_info0.7-harmonized.txt -parquet_genotype /opt/data/data/phenomexcan/ld_blocks/reference_panel_1000G/chr11.variants.parquet -parquet_genotype_metadata /opt/data/data/phenomexcan/ld_blocks/reference_panel_1000G/variant_metadata.parquet -window 100000 -parsimony 7 -chromosome 11 -regularization 0.1 -frequency_filter 0.01 -sub_batches 10 -sub_batch 9 --standardise_dosages -output /opt/data/projects/asthma-copd/results/imputed_gwas/GWAS_ACO_GLM_SNPs_info0.7-harmonized-imputed-chr11-batch9_10.txt\n",
      "+ set +x\n",
      "+ /opt/data/software/conda_envs/summary_gwas_imputation/bin/python /opt/data/software/summary-gwas-imputation/src/gwas_summary_imputation.py -by_region_file /opt/data/data/eur_ld.bed.gz -gwas_file /opt/data/projects/asthma-copd/results/harmonized_gwas/GWAS_ACO_GLM_SNPs_info0.7-harmonized.txt -parquet_genotype /opt/data/data/phenomexcan/ld_blocks/reference_panel_1000G/chr12.variants.parquet -parquet_genotype_metadata /opt/data/data/phenomexcan/ld_blocks/reference_panel_1000G/variant_metadata.parquet -window 100000 -parsimony 7 -chromosome 12 -regularization 0.1 -frequency_filter 0.01 -sub_batches 10 -sub_batch 0 --standardise_dosages -output /opt/data/projects/asthma-copd/results/imputed_gwas/GWAS_ACO_GLM_SNPs_info0.7-harmonized-imputed-chr12-batch0_10.txt\n",
      "+ set +x\n",
      "+ /opt/data/software/conda_envs/summary_gwas_imputation/bin/python /opt/data/software/summary-gwas-imputation/src/gwas_summary_imputation.py -by_region_file /opt/data/data/eur_ld.bed.gz -gwas_file /opt/data/projects/asthma-copd/results/harmonized_gwas/GWAS_ACO_GLM_SNPs_info0.7-harmonized.txt -parquet_genotype /opt/data/data/phenomexcan/ld_blocks/reference_panel_1000G/chr12.variants.parquet -parquet_genotype_metadata /opt/data/data/phenomexcan/ld_blocks/reference_panel_1000G/variant_metadata.parquet -window 100000 -parsimony 7 -chromosome 12 -regularization 0.1 -frequency_filter 0.01 -sub_batches 10 -sub_batch 1 --standardise_dosages -output /opt/data/projects/asthma-copd/results/imputed_gwas/GWAS_ACO_GLM_SNPs_info0.7-harmonized-imputed-chr12-batch1_10.txt\n"
     ]
    },
    {
     "name": "stdout",
     "output_type": "stream",
     "text": [
      "/opt/data/software/conda_envs/summary_gwas_imputation/lib/python3.7/site-packages/pyarrow/pandas_compat.py:752: FutureWarning: .labels was deprecated in version 0.24.0. Use .codes instead.\n",
      "\n"
     ]
    },
    {
     "name": "stderr",
     "output_type": "stream",
     "text": [
      "+ set +x\n"
     ]
    },
    {
     "name": "stdout",
     "output_type": "stream",
     "text": [
      "Running for aco, 12, 2\n",
      "Saving results in /opt/data/projects/asthma-copd/results/imputed_gwas\n",
      "/opt/data/software/conda_envs/summary_gwas_imputation/lib/python3.7/site-packages/pyarrow/pandas_compat.py:752: FutureWarning: .labels was deprecated in version 0.24.0. Use .codes instead.\n",
      "\n"
     ]
    },
    {
     "name": "stderr",
     "output_type": "stream",
     "text": [
      "+ /opt/data/software/conda_envs/summary_gwas_imputation/bin/python /opt/data/software/summary-gwas-imputation/src/gwas_summary_imputation.py -by_region_file /opt/data/data/eur_ld.bed.gz -gwas_file /opt/data/projects/asthma-copd/results/harmonized_gwas/GWAS_ACO_GLM_SNPs_info0.7-harmonized.txt -parquet_genotype /opt/data/data/phenomexcan/ld_blocks/reference_panel_1000G/chr12.variants.parquet -parquet_genotype_metadata /opt/data/data/phenomexcan/ld_blocks/reference_panel_1000G/variant_metadata.parquet -window 100000 -parsimony 7 -chromosome 12 -regularization 0.1 -frequency_filter 0.01 -sub_batches 10 -sub_batch 2 --standardise_dosages -output /opt/data/projects/asthma-copd/results/imputed_gwas/GWAS_ACO_GLM_SNPs_info0.7-harmonized-imputed-chr12-batch2_10.txt\n",
      "+ set +x\n"
     ]
    },
    {
     "name": "stdout",
     "output_type": "stream",
     "text": [
      "Running for aco, 12, 3\n",
      "Saving results in /opt/data/projects/asthma-copd/results/imputed_gwas\n",
      "/opt/data/software/conda_envs/summary_gwas_imputation/lib/python3.7/site-packages/pyarrow/pandas_compat.py:752: FutureWarning: .labels was deprecated in version 0.24.0. Use .codes instead.\n",
      "\n",
      "Running for aco, 12, 4\n",
      "Saving results in /opt/data/projects/asthma-copd/results/imputed_gwas\n",
      "/opt/data/software/conda_envs/summary_gwas_imputation/lib/python3.7/site-packages/pyarrow/pandas_compat.py:752: FutureWarning: .labels was deprecated in version 0.24.0. Use .codes instead.\n",
      "\n",
      "Running for aco, 12, 5\n",
      "Saving results in /opt/data/projects/asthma-copd/results/imputed_gwas\n",
      "/opt/data/software/conda_envs/summary_gwas_imputation/lib/python3.7/site-packages/pyarrow/pandas_compat.py:752: FutureWarning: .labels was deprecated in version 0.24.0. Use .codes instead.\n",
      "\n",
      "Running for aco, 12, 6\n",
      "Saving results in /opt/data/projects/asthma-copd/results/imputed_gwas\n",
      "/opt/data/software/conda_envs/summary_gwas_imputation/lib/python3.7/site-packages/pyarrow/pandas_compat.py:752: FutureWarning: .labels was deprecated in version 0.24.0. Use .codes instead.\n",
      "\n",
      "Running for aco, 12, 7\n",
      "Saving results in /opt/data/projects/asthma-copd/results/imputed_gwas\n",
      "/opt/data/software/conda_envs/summary_gwas_imputation/lib/python3.7/site-packages/pyarrow/pandas_compat.py:752: FutureWarning: .labels was deprecated in version 0.24.0. Use .codes instead.\n",
      "\n",
      "Running for aco, 12, 8\n",
      "Saving results in /opt/data/projects/asthma-copd/results/imputed_gwas\n",
      "/opt/data/software/conda_envs/summary_gwas_imputation/lib/python3.7/site-packages/pyarrow/pandas_compat.py:752: FutureWarning: .labels was deprecated in version 0.24.0. Use .codes instead.\n",
      "\n",
      "Running for aco, 12, 9\n",
      "Saving results in /opt/data/projects/asthma-copd/results/imputed_gwas\n",
      "/opt/data/software/conda_envs/summary_gwas_imputation/lib/python3.7/site-packages/pyarrow/pandas_compat.py:752: FutureWarning: .labels was deprecated in version 0.24.0. Use .codes instead.\n",
      "INFO - Error for region (12,124493434.0,125960959.0): LinAlgError('SVD did not converge')\n",
      "\n",
      "Running for aco, 13, 0\n",
      "Saving results in /opt/data/projects/asthma-copd/results/imputed_gwas\n",
      "/opt/data/software/conda_envs/summary_gwas_imputation/lib/python3.7/site-packages/pyarrow/pandas_compat.py:752: FutureWarning: .labels was deprecated in version 0.24.0. Use .codes instead.\n",
      "\n",
      "Running for aco, 13, 1\n",
      "Saving results in /opt/data/projects/asthma-copd/results/imputed_gwas\n",
      "/opt/data/software/conda_envs/summary_gwas_imputation/lib/python3.7/site-packages/pyarrow/pandas_compat.py:752: FutureWarning: .labels was deprecated in version 0.24.0. Use .codes instead.\n",
      "\n"
     ]
    },
    {
     "name": "stderr",
     "output_type": "stream",
     "text": [
      "+ /opt/data/software/conda_envs/summary_gwas_imputation/bin/python /opt/data/software/summary-gwas-imputation/src/gwas_summary_imputation.py -by_region_file /opt/data/data/eur_ld.bed.gz -gwas_file /opt/data/projects/asthma-copd/results/harmonized_gwas/GWAS_ACO_GLM_SNPs_info0.7-harmonized.txt -parquet_genotype /opt/data/data/phenomexcan/ld_blocks/reference_panel_1000G/chr12.variants.parquet -parquet_genotype_metadata /opt/data/data/phenomexcan/ld_blocks/reference_panel_1000G/variant_metadata.parquet -window 100000 -parsimony 7 -chromosome 12 -regularization 0.1 -frequency_filter 0.01 -sub_batches 10 -sub_batch 3 --standardise_dosages -output /opt/data/projects/asthma-copd/results/imputed_gwas/GWAS_ACO_GLM_SNPs_info0.7-harmonized-imputed-chr12-batch3_10.txt\n",
      "+ set +x\n",
      "+ /opt/data/software/conda_envs/summary_gwas_imputation/bin/python /opt/data/software/summary-gwas-imputation/src/gwas_summary_imputation.py -by_region_file /opt/data/data/eur_ld.bed.gz -gwas_file /opt/data/projects/asthma-copd/results/harmonized_gwas/GWAS_ACO_GLM_SNPs_info0.7-harmonized.txt -parquet_genotype /opt/data/data/phenomexcan/ld_blocks/reference_panel_1000G/chr12.variants.parquet -parquet_genotype_metadata /opt/data/data/phenomexcan/ld_blocks/reference_panel_1000G/variant_metadata.parquet -window 100000 -parsimony 7 -chromosome 12 -regularization 0.1 -frequency_filter 0.01 -sub_batches 10 -sub_batch 4 --standardise_dosages -output /opt/data/projects/asthma-copd/results/imputed_gwas/GWAS_ACO_GLM_SNPs_info0.7-harmonized-imputed-chr12-batch4_10.txt\n",
      "+ set +x\n",
      "+ /opt/data/software/conda_envs/summary_gwas_imputation/bin/python /opt/data/software/summary-gwas-imputation/src/gwas_summary_imputation.py -by_region_file /opt/data/data/eur_ld.bed.gz -gwas_file /opt/data/projects/asthma-copd/results/harmonized_gwas/GWAS_ACO_GLM_SNPs_info0.7-harmonized.txt -parquet_genotype /opt/data/data/phenomexcan/ld_blocks/reference_panel_1000G/chr12.variants.parquet -parquet_genotype_metadata /opt/data/data/phenomexcan/ld_blocks/reference_panel_1000G/variant_metadata.parquet -window 100000 -parsimony 7 -chromosome 12 -regularization 0.1 -frequency_filter 0.01 -sub_batches 10 -sub_batch 5 --standardise_dosages -output /opt/data/projects/asthma-copd/results/imputed_gwas/GWAS_ACO_GLM_SNPs_info0.7-harmonized-imputed-chr12-batch5_10.txt\n",
      "+ set +x\n",
      "+ /opt/data/software/conda_envs/summary_gwas_imputation/bin/python /opt/data/software/summary-gwas-imputation/src/gwas_summary_imputation.py -by_region_file /opt/data/data/eur_ld.bed.gz -gwas_file /opt/data/projects/asthma-copd/results/harmonized_gwas/GWAS_ACO_GLM_SNPs_info0.7-harmonized.txt -parquet_genotype /opt/data/data/phenomexcan/ld_blocks/reference_panel_1000G/chr12.variants.parquet -parquet_genotype_metadata /opt/data/data/phenomexcan/ld_blocks/reference_panel_1000G/variant_metadata.parquet -window 100000 -parsimony 7 -chromosome 12 -regularization 0.1 -frequency_filter 0.01 -sub_batches 10 -sub_batch 6 --standardise_dosages -output /opt/data/projects/asthma-copd/results/imputed_gwas/GWAS_ACO_GLM_SNPs_info0.7-harmonized-imputed-chr12-batch6_10.txt\n",
      "+ set +x\n",
      "+ /opt/data/software/conda_envs/summary_gwas_imputation/bin/python /opt/data/software/summary-gwas-imputation/src/gwas_summary_imputation.py -by_region_file /opt/data/data/eur_ld.bed.gz -gwas_file /opt/data/projects/asthma-copd/results/harmonized_gwas/GWAS_ACO_GLM_SNPs_info0.7-harmonized.txt -parquet_genotype /opt/data/data/phenomexcan/ld_blocks/reference_panel_1000G/chr12.variants.parquet -parquet_genotype_metadata /opt/data/data/phenomexcan/ld_blocks/reference_panel_1000G/variant_metadata.parquet -window 100000 -parsimony 7 -chromosome 12 -regularization 0.1 -frequency_filter 0.01 -sub_batches 10 -sub_batch 7 --standardise_dosages -output /opt/data/projects/asthma-copd/results/imputed_gwas/GWAS_ACO_GLM_SNPs_info0.7-harmonized-imputed-chr12-batch7_10.txt\n",
      "+ set +x\n",
      "+ /opt/data/software/conda_envs/summary_gwas_imputation/bin/python /opt/data/software/summary-gwas-imputation/src/gwas_summary_imputation.py -by_region_file /opt/data/data/eur_ld.bed.gz -gwas_file /opt/data/projects/asthma-copd/results/harmonized_gwas/GWAS_ACO_GLM_SNPs_info0.7-harmonized.txt -parquet_genotype /opt/data/data/phenomexcan/ld_blocks/reference_panel_1000G/chr12.variants.parquet -parquet_genotype_metadata /opt/data/data/phenomexcan/ld_blocks/reference_panel_1000G/variant_metadata.parquet -window 100000 -parsimony 7 -chromosome 12 -regularization 0.1 -frequency_filter 0.01 -sub_batches 10 -sub_batch 8 --standardise_dosages -output /opt/data/projects/asthma-copd/results/imputed_gwas/GWAS_ACO_GLM_SNPs_info0.7-harmonized-imputed-chr12-batch8_10.txt\n",
      "+ set +x\n",
      "+ /opt/data/software/conda_envs/summary_gwas_imputation/bin/python /opt/data/software/summary-gwas-imputation/src/gwas_summary_imputation.py -by_region_file /opt/data/data/eur_ld.bed.gz -gwas_file /opt/data/projects/asthma-copd/results/harmonized_gwas/GWAS_ACO_GLM_SNPs_info0.7-harmonized.txt -parquet_genotype /opt/data/data/phenomexcan/ld_blocks/reference_panel_1000G/chr12.variants.parquet -parquet_genotype_metadata /opt/data/data/phenomexcan/ld_blocks/reference_panel_1000G/variant_metadata.parquet -window 100000 -parsimony 7 -chromosome 12 -regularization 0.1 -frequency_filter 0.01 -sub_batches 10 -sub_batch 9 --standardise_dosages -output /opt/data/projects/asthma-copd/results/imputed_gwas/GWAS_ACO_GLM_SNPs_info0.7-harmonized-imputed-chr12-batch9_10.txt\n",
      "+ set +x\n",
      "+ /opt/data/software/conda_envs/summary_gwas_imputation/bin/python /opt/data/software/summary-gwas-imputation/src/gwas_summary_imputation.py -by_region_file /opt/data/data/eur_ld.bed.gz -gwas_file /opt/data/projects/asthma-copd/results/harmonized_gwas/GWAS_ACO_GLM_SNPs_info0.7-harmonized.txt -parquet_genotype /opt/data/data/phenomexcan/ld_blocks/reference_panel_1000G/chr13.variants.parquet -parquet_genotype_metadata /opt/data/data/phenomexcan/ld_blocks/reference_panel_1000G/variant_metadata.parquet -window 100000 -parsimony 7 -chromosome 13 -regularization 0.1 -frequency_filter 0.01 -sub_batches 10 -sub_batch 0 --standardise_dosages -output /opt/data/projects/asthma-copd/results/imputed_gwas/GWAS_ACO_GLM_SNPs_info0.7-harmonized-imputed-chr13-batch0_10.txt\n",
      "+ set +x\n",
      "+ /opt/data/software/conda_envs/summary_gwas_imputation/bin/python /opt/data/software/summary-gwas-imputation/src/gwas_summary_imputation.py -by_region_file /opt/data/data/eur_ld.bed.gz -gwas_file /opt/data/projects/asthma-copd/results/harmonized_gwas/GWAS_ACO_GLM_SNPs_info0.7-harmonized.txt -parquet_genotype /opt/data/data/phenomexcan/ld_blocks/reference_panel_1000G/chr13.variants.parquet -parquet_genotype_metadata /opt/data/data/phenomexcan/ld_blocks/reference_panel_1000G/variant_metadata.parquet -window 100000 -parsimony 7 -chromosome 13 -regularization 0.1 -frequency_filter 0.01 -sub_batches 10 -sub_batch 1 --standardise_dosages -output /opt/data/projects/asthma-copd/results/imputed_gwas/GWAS_ACO_GLM_SNPs_info0.7-harmonized-imputed-chr13-batch1_10.txt\n",
      "+ set +x\n",
      "+ /opt/data/software/conda_envs/summary_gwas_imputation/bin/python /opt/data/software/summary-gwas-imputation/src/gwas_summary_imputation.py -by_region_file /opt/data/data/eur_ld.bed.gz -gwas_file /opt/data/projects/asthma-copd/results/harmonized_gwas/GWAS_ACO_GLM_SNPs_info0.7-harmonized.txt -parquet_genotype /opt/data/data/phenomexcan/ld_blocks/reference_panel_1000G/chr13.variants.parquet -parquet_genotype_metadata /opt/data/data/phenomexcan/ld_blocks/reference_panel_1000G/variant_metadata.parquet -window 100000 -parsimony 7 -chromosome 13 -regularization 0.1 -frequency_filter 0.01 -sub_batches 10 -sub_batch 2 --standardise_dosages -output /opt/data/projects/asthma-copd/results/imputed_gwas/GWAS_ACO_GLM_SNPs_info0.7-harmonized-imputed-chr13-batch2_10.txt\n",
      "+ set +x\n",
      "+ /opt/data/software/conda_envs/summary_gwas_imputation/bin/python /opt/data/software/summary-gwas-imputation/src/gwas_summary_imputation.py -by_region_file /opt/data/data/eur_ld.bed.gz -gwas_file /opt/data/projects/asthma-copd/results/harmonized_gwas/GWAS_ACO_GLM_SNPs_info0.7-harmonized.txt -parquet_genotype /opt/data/data/phenomexcan/ld_blocks/reference_panel_1000G/chr13.variants.parquet -parquet_genotype_metadata /opt/data/data/phenomexcan/ld_blocks/reference_panel_1000G/variant_metadata.parquet -window 100000 -parsimony 7 -chromosome 13 -regularization 0.1 -frequency_filter 0.01 -sub_batches 10 -sub_batch 3 --standardise_dosages -output /opt/data/projects/asthma-copd/results/imputed_gwas/GWAS_ACO_GLM_SNPs_info0.7-harmonized-imputed-chr13-batch3_10.txt\n",
      "+ set +x\n"
     ]
    },
    {
     "name": "stdout",
     "output_type": "stream",
     "text": [
      "Running for aco, 13, 2\n",
      "Saving results in /opt/data/projects/asthma-copd/results/imputed_gwas\n",
      "/opt/data/software/conda_envs/summary_gwas_imputation/lib/python3.7/site-packages/pyarrow/pandas_compat.py:752: FutureWarning: .labels was deprecated in version 0.24.0. Use .codes instead.\n",
      "\n",
      "Running for aco, 13, 3\n",
      "Saving results in /opt/data/projects/asthma-copd/results/imputed_gwas\n",
      "/opt/data/software/conda_envs/summary_gwas_imputation/lib/python3.7/site-packages/pyarrow/pandas_compat.py:752: FutureWarning: .labels was deprecated in version 0.24.0. Use .codes instead.\n",
      "\n",
      "Running for aco, 13, 4\n",
      "Saving results in /opt/data/projects/asthma-copd/results/imputed_gwas\n",
      "/opt/data/software/conda_envs/summary_gwas_imputation/lib/python3.7/site-packages/pyarrow/pandas_compat.py:752: FutureWarning: .labels was deprecated in version 0.24.0. Use .codes instead.\n",
      "\n"
     ]
    },
    {
     "name": "stderr",
     "output_type": "stream",
     "text": [
      "+ /opt/data/software/conda_envs/summary_gwas_imputation/bin/python /opt/data/software/summary-gwas-imputation/src/gwas_summary_imputation.py -by_region_file /opt/data/data/eur_ld.bed.gz -gwas_file /opt/data/projects/asthma-copd/results/harmonized_gwas/GWAS_ACO_GLM_SNPs_info0.7-harmonized.txt -parquet_genotype /opt/data/data/phenomexcan/ld_blocks/reference_panel_1000G/chr13.variants.parquet -parquet_genotype_metadata /opt/data/data/phenomexcan/ld_blocks/reference_panel_1000G/variant_metadata.parquet -window 100000 -parsimony 7 -chromosome 13 -regularization 0.1 -frequency_filter 0.01 -sub_batches 10 -sub_batch 4 --standardise_dosages -output /opt/data/projects/asthma-copd/results/imputed_gwas/GWAS_ACO_GLM_SNPs_info0.7-harmonized-imputed-chr13-batch4_10.txt\n",
      "+ set +x\n",
      "+ /opt/data/software/conda_envs/summary_gwas_imputation/bin/python /opt/data/software/summary-gwas-imputation/src/gwas_summary_imputation.py -by_region_file /opt/data/data/eur_ld.bed.gz -gwas_file /opt/data/projects/asthma-copd/results/harmonized_gwas/GWAS_ACO_GLM_SNPs_info0.7-harmonized.txt -parquet_genotype /opt/data/data/phenomexcan/ld_blocks/reference_panel_1000G/chr13.variants.parquet -parquet_genotype_metadata /opt/data/data/phenomexcan/ld_blocks/reference_panel_1000G/variant_metadata.parquet -window 100000 -parsimony 7 -chromosome 13 -regularization 0.1 -frequency_filter 0.01 -sub_batches 10 -sub_batch 5 --standardise_dosages -output /opt/data/projects/asthma-copd/results/imputed_gwas/GWAS_ACO_GLM_SNPs_info0.7-harmonized-imputed-chr13-batch5_10.txt\n",
      "+ set +x\n",
      "+ /opt/data/software/conda_envs/summary_gwas_imputation/bin/python /opt/data/software/summary-gwas-imputation/src/gwas_summary_imputation.py -by_region_file /opt/data/data/eur_ld.bed.gz -gwas_file /opt/data/projects/asthma-copd/results/harmonized_gwas/GWAS_ACO_GLM_SNPs_info0.7-harmonized.txt -parquet_genotype /opt/data/data/phenomexcan/ld_blocks/reference_panel_1000G/chr13.variants.parquet -parquet_genotype_metadata /opt/data/data/phenomexcan/ld_blocks/reference_panel_1000G/variant_metadata.parquet -window 100000 -parsimony 7 -chromosome 13 -regularization 0.1 -frequency_filter 0.01 -sub_batches 10 -sub_batch 6 --standardise_dosages -output /opt/data/projects/asthma-copd/results/imputed_gwas/GWAS_ACO_GLM_SNPs_info0.7-harmonized-imputed-chr13-batch6_10.txt\n",
      "+ set +x\n",
      "+ /opt/data/software/conda_envs/summary_gwas_imputation/bin/python /opt/data/software/summary-gwas-imputation/src/gwas_summary_imputation.py -by_region_file /opt/data/data/eur_ld.bed.gz -gwas_file /opt/data/projects/asthma-copd/results/harmonized_gwas/GWAS_ACO_GLM_SNPs_info0.7-harmonized.txt -parquet_genotype /opt/data/data/phenomexcan/ld_blocks/reference_panel_1000G/chr13.variants.parquet -parquet_genotype_metadata /opt/data/data/phenomexcan/ld_blocks/reference_panel_1000G/variant_metadata.parquet -window 100000 -parsimony 7 -chromosome 13 -regularization 0.1 -frequency_filter 0.01 -sub_batches 10 -sub_batch 7 --standardise_dosages -output /opt/data/projects/asthma-copd/results/imputed_gwas/GWAS_ACO_GLM_SNPs_info0.7-harmonized-imputed-chr13-batch7_10.txt\n",
      "+ set +x\n",
      "+ /opt/data/software/conda_envs/summary_gwas_imputation/bin/python /opt/data/software/summary-gwas-imputation/src/gwas_summary_imputation.py -by_region_file /opt/data/data/eur_ld.bed.gz -gwas_file /opt/data/projects/asthma-copd/results/harmonized_gwas/GWAS_ACO_GLM_SNPs_info0.7-harmonized.txt -parquet_genotype /opt/data/data/phenomexcan/ld_blocks/reference_panel_1000G/chr13.variants.parquet -parquet_genotype_metadata /opt/data/data/phenomexcan/ld_blocks/reference_panel_1000G/variant_metadata.parquet -window 100000 -parsimony 7 -chromosome 13 -regularization 0.1 -frequency_filter 0.01 -sub_batches 10 -sub_batch 8 --standardise_dosages -output /opt/data/projects/asthma-copd/results/imputed_gwas/GWAS_ACO_GLM_SNPs_info0.7-harmonized-imputed-chr13-batch8_10.txt\n",
      "+ set +x\n",
      "+ /opt/data/software/conda_envs/summary_gwas_imputation/bin/python /opt/data/software/summary-gwas-imputation/src/gwas_summary_imputation.py -by_region_file /opt/data/data/eur_ld.bed.gz -gwas_file /opt/data/projects/asthma-copd/results/harmonized_gwas/GWAS_ACO_GLM_SNPs_info0.7-harmonized.txt -parquet_genotype /opt/data/data/phenomexcan/ld_blocks/reference_panel_1000G/chr13.variants.parquet -parquet_genotype_metadata /opt/data/data/phenomexcan/ld_blocks/reference_panel_1000G/variant_metadata.parquet -window 100000 -parsimony 7 -chromosome 13 -regularization 0.1 -frequency_filter 0.01 -sub_batches 10 -sub_batch 9 --standardise_dosages -output /opt/data/projects/asthma-copd/results/imputed_gwas/GWAS_ACO_GLM_SNPs_info0.7-harmonized-imputed-chr13-batch9_10.txt\n",
      "+ set +x\n",
      "+ /opt/data/software/conda_envs/summary_gwas_imputation/bin/python /opt/data/software/summary-gwas-imputation/src/gwas_summary_imputation.py -by_region_file /opt/data/data/eur_ld.bed.gz -gwas_file /opt/data/projects/asthma-copd/results/harmonized_gwas/GWAS_ACO_GLM_SNPs_info0.7-harmonized.txt -parquet_genotype /opt/data/data/phenomexcan/ld_blocks/reference_panel_1000G/chr14.variants.parquet -parquet_genotype_metadata /opt/data/data/phenomexcan/ld_blocks/reference_panel_1000G/variant_metadata.parquet -window 100000 -parsimony 7 -chromosome 14 -regularization 0.1 -frequency_filter 0.01 -sub_batches 10 -sub_batch 0 --standardise_dosages -output /opt/data/projects/asthma-copd/results/imputed_gwas/GWAS_ACO_GLM_SNPs_info0.7-harmonized-imputed-chr14-batch0_10.txt\n",
      "+ set +x\n",
      "+ /opt/data/software/conda_envs/summary_gwas_imputation/bin/python /opt/data/software/summary-gwas-imputation/src/gwas_summary_imputation.py -by_region_file /opt/data/data/eur_ld.bed.gz -gwas_file /opt/data/projects/asthma-copd/results/harmonized_gwas/GWAS_ACO_GLM_SNPs_info0.7-harmonized.txt -parquet_genotype /opt/data/data/phenomexcan/ld_blocks/reference_panel_1000G/chr14.variants.parquet -parquet_genotype_metadata /opt/data/data/phenomexcan/ld_blocks/reference_panel_1000G/variant_metadata.parquet -window 100000 -parsimony 7 -chromosome 14 -regularization 0.1 -frequency_filter 0.01 -sub_batches 10 -sub_batch 1 --standardise_dosages -output /opt/data/projects/asthma-copd/results/imputed_gwas/GWAS_ACO_GLM_SNPs_info0.7-harmonized-imputed-chr14-batch1_10.txt\n"
     ]
    },
    {
     "name": "stdout",
     "output_type": "stream",
     "text": [
      "Running for aco, 13, 5\n",
      "Saving results in /opt/data/projects/asthma-copd/results/imputed_gwas\n",
      "/opt/data/software/conda_envs/summary_gwas_imputation/lib/python3.7/site-packages/pyarrow/pandas_compat.py:752: FutureWarning: .labels was deprecated in version 0.24.0. Use .codes instead.\n",
      "\n",
      "Running for aco, 13, 6\n",
      "Saving results in /opt/data/projects/asthma-copd/results/imputed_gwas\n",
      "/opt/data/software/conda_envs/summary_gwas_imputation/lib/python3.7/site-packages/pyarrow/pandas_compat.py:752: FutureWarning: .labels was deprecated in version 0.24.0. Use .codes instead.\n",
      "\n",
      "Running for aco, 13, 7\n",
      "Saving results in /opt/data/projects/asthma-copd/results/imputed_gwas\n",
      "/opt/data/software/conda_envs/summary_gwas_imputation/lib/python3.7/site-packages/pyarrow/pandas_compat.py:752: FutureWarning: .labels was deprecated in version 0.24.0. Use .codes instead.\n",
      "\n",
      "Running for aco, 13, 8\n",
      "Saving results in /opt/data/projects/asthma-copd/results/imputed_gwas\n",
      "/opt/data/software/conda_envs/summary_gwas_imputation/lib/python3.7/site-packages/pyarrow/pandas_compat.py:752: FutureWarning: .labels was deprecated in version 0.24.0. Use .codes instead.\n",
      "\n",
      "Running for aco, 13, 9\n",
      "Saving results in /opt/data/projects/asthma-copd/results/imputed_gwas\n",
      "/opt/data/software/conda_envs/summary_gwas_imputation/lib/python3.7/site-packages/pyarrow/pandas_compat.py:752: FutureWarning: .labels was deprecated in version 0.24.0. Use .codes instead.\n",
      "INFO - Error for region (13,107537529.0,108468862.0): LinAlgError('SVD did not converge')\n",
      "\n",
      "Running for aco, 14, 0\n",
      "Saving results in /opt/data/projects/asthma-copd/results/imputed_gwas\n",
      "/opt/data/software/conda_envs/summary_gwas_imputation/lib/python3.7/site-packages/pyarrow/pandas_compat.py:752: FutureWarning: .labels was deprecated in version 0.24.0. Use .codes instead.\n",
      "\n",
      "Running for aco, 14, 1\n",
      "Saving results in /opt/data/projects/asthma-copd/results/imputed_gwas\n",
      "/opt/data/software/conda_envs/summary_gwas_imputation/lib/python3.7/site-packages/pyarrow/pandas_compat.py:752: FutureWarning: .labels was deprecated in version 0.24.0. Use .codes instead.\n",
      "\n"
     ]
    },
    {
     "name": "stderr",
     "output_type": "stream",
     "text": [
      "+ set +x\n"
     ]
    },
    {
     "name": "stdout",
     "output_type": "stream",
     "text": [
      "Running for aco, 14, 2\n",
      "Saving results in /opt/data/projects/asthma-copd/results/imputed_gwas\n",
      "/opt/data/software/conda_envs/summary_gwas_imputation/lib/python3.7/site-packages/pyarrow/pandas_compat.py:752: FutureWarning: .labels was deprecated in version 0.24.0. Use .codes instead.\n",
      "\n",
      "Running for aco, 14, 3\n",
      "Saving results in /opt/data/projects/asthma-copd/results/imputed_gwas\n",
      "/opt/data/software/conda_envs/summary_gwas_imputation/lib/python3.7/site-packages/pyarrow/pandas_compat.py:752: FutureWarning: .labels was deprecated in version 0.24.0. Use .codes instead.\n",
      "\n",
      "Running for aco, 14, 4\n",
      "Saving results in /opt/data/projects/asthma-copd/results/imputed_gwas\n",
      "/opt/data/software/conda_envs/summary_gwas_imputation/lib/python3.7/site-packages/pyarrow/pandas_compat.py:752: FutureWarning: .labels was deprecated in version 0.24.0. Use .codes instead.\n",
      "\n",
      "Running for aco, 14, 5\n",
      "Saving results in /opt/data/projects/asthma-copd/results/imputed_gwas\n"
     ]
    },
    {
     "name": "stderr",
     "output_type": "stream",
     "text": [
      "+ /opt/data/software/conda_envs/summary_gwas_imputation/bin/python /opt/data/software/summary-gwas-imputation/src/gwas_summary_imputation.py -by_region_file /opt/data/data/eur_ld.bed.gz -gwas_file /opt/data/projects/asthma-copd/results/harmonized_gwas/GWAS_ACO_GLM_SNPs_info0.7-harmonized.txt -parquet_genotype /opt/data/data/phenomexcan/ld_blocks/reference_panel_1000G/chr14.variants.parquet -parquet_genotype_metadata /opt/data/data/phenomexcan/ld_blocks/reference_panel_1000G/variant_metadata.parquet -window 100000 -parsimony 7 -chromosome 14 -regularization 0.1 -frequency_filter 0.01 -sub_batches 10 -sub_batch 2 --standardise_dosages -output /opt/data/projects/asthma-copd/results/imputed_gwas/GWAS_ACO_GLM_SNPs_info0.7-harmonized-imputed-chr14-batch2_10.txt\n",
      "+ set +x\n",
      "+ /opt/data/software/conda_envs/summary_gwas_imputation/bin/python /opt/data/software/summary-gwas-imputation/src/gwas_summary_imputation.py -by_region_file /opt/data/data/eur_ld.bed.gz -gwas_file /opt/data/projects/asthma-copd/results/harmonized_gwas/GWAS_ACO_GLM_SNPs_info0.7-harmonized.txt -parquet_genotype /opt/data/data/phenomexcan/ld_blocks/reference_panel_1000G/chr14.variants.parquet -parquet_genotype_metadata /opt/data/data/phenomexcan/ld_blocks/reference_panel_1000G/variant_metadata.parquet -window 100000 -parsimony 7 -chromosome 14 -regularization 0.1 -frequency_filter 0.01 -sub_batches 10 -sub_batch 3 --standardise_dosages -output /opt/data/projects/asthma-copd/results/imputed_gwas/GWAS_ACO_GLM_SNPs_info0.7-harmonized-imputed-chr14-batch3_10.txt\n",
      "+ set +x\n",
      "+ /opt/data/software/conda_envs/summary_gwas_imputation/bin/python /opt/data/software/summary-gwas-imputation/src/gwas_summary_imputation.py -by_region_file /opt/data/data/eur_ld.bed.gz -gwas_file /opt/data/projects/asthma-copd/results/harmonized_gwas/GWAS_ACO_GLM_SNPs_info0.7-harmonized.txt -parquet_genotype /opt/data/data/phenomexcan/ld_blocks/reference_panel_1000G/chr14.variants.parquet -parquet_genotype_metadata /opt/data/data/phenomexcan/ld_blocks/reference_panel_1000G/variant_metadata.parquet -window 100000 -parsimony 7 -chromosome 14 -regularization 0.1 -frequency_filter 0.01 -sub_batches 10 -sub_batch 4 --standardise_dosages -output /opt/data/projects/asthma-copd/results/imputed_gwas/GWAS_ACO_GLM_SNPs_info0.7-harmonized-imputed-chr14-batch4_10.txt\n",
      "+ set +x\n",
      "+ /opt/data/software/conda_envs/summary_gwas_imputation/bin/python /opt/data/software/summary-gwas-imputation/src/gwas_summary_imputation.py -by_region_file /opt/data/data/eur_ld.bed.gz -gwas_file /opt/data/projects/asthma-copd/results/harmonized_gwas/GWAS_ACO_GLM_SNPs_info0.7-harmonized.txt -parquet_genotype /opt/data/data/phenomexcan/ld_blocks/reference_panel_1000G/chr14.variants.parquet -parquet_genotype_metadata /opt/data/data/phenomexcan/ld_blocks/reference_panel_1000G/variant_metadata.parquet -window 100000 -parsimony 7 -chromosome 14 -regularization 0.1 -frequency_filter 0.01 -sub_batches 10 -sub_batch 5 --standardise_dosages -output /opt/data/projects/asthma-copd/results/imputed_gwas/GWAS_ACO_GLM_SNPs_info0.7-harmonized-imputed-chr14-batch5_10.txt\n",
      "+ set +x\n"
     ]
    },
    {
     "name": "stdout",
     "output_type": "stream",
     "text": [
      "/opt/data/software/conda_envs/summary_gwas_imputation/lib/python3.7/site-packages/pyarrow/pandas_compat.py:752: FutureWarning: .labels was deprecated in version 0.24.0. Use .codes instead.\n",
      "\n",
      "Running for aco, 14, 6\n",
      "Saving results in /opt/data/projects/asthma-copd/results/imputed_gwas\n",
      "/opt/data/software/conda_envs/summary_gwas_imputation/lib/python3.7/site-packages/pyarrow/pandas_compat.py:752: FutureWarning: .labels was deprecated in version 0.24.0. Use .codes instead.\n",
      "\n"
     ]
    },
    {
     "name": "stderr",
     "output_type": "stream",
     "text": [
      "+ /opt/data/software/conda_envs/summary_gwas_imputation/bin/python /opt/data/software/summary-gwas-imputation/src/gwas_summary_imputation.py -by_region_file /opt/data/data/eur_ld.bed.gz -gwas_file /opt/data/projects/asthma-copd/results/harmonized_gwas/GWAS_ACO_GLM_SNPs_info0.7-harmonized.txt -parquet_genotype /opt/data/data/phenomexcan/ld_blocks/reference_panel_1000G/chr14.variants.parquet -parquet_genotype_metadata /opt/data/data/phenomexcan/ld_blocks/reference_panel_1000G/variant_metadata.parquet -window 100000 -parsimony 7 -chromosome 14 -regularization 0.1 -frequency_filter 0.01 -sub_batches 10 -sub_batch 6 --standardise_dosages -output /opt/data/projects/asthma-copd/results/imputed_gwas/GWAS_ACO_GLM_SNPs_info0.7-harmonized-imputed-chr14-batch6_10.txt\n",
      "+ set +x\n"
     ]
    },
    {
     "name": "stdout",
     "output_type": "stream",
     "text": [
      "Running for aco, 14, 7\n",
      "Saving results in /opt/data/projects/asthma-copd/results/imputed_gwas\n",
      "/opt/data/software/conda_envs/summary_gwas_imputation/lib/python3.7/site-packages/pyarrow/pandas_compat.py:752: FutureWarning: .labels was deprecated in version 0.24.0. Use .codes instead.\n",
      "\n",
      "Running for aco, 14, 8\n",
      "Saving results in /opt/data/projects/asthma-copd/results/imputed_gwas\n",
      "/opt/data/software/conda_envs/summary_gwas_imputation/lib/python3.7/site-packages/pyarrow/pandas_compat.py:752: FutureWarning: .labels was deprecated in version 0.24.0. Use .codes instead.\n",
      "\n",
      "Running for aco, 14, 9\n",
      "Saving results in /opt/data/projects/asthma-copd/results/imputed_gwas\n",
      "/opt/data/software/conda_envs/summary_gwas_imputation/lib/python3.7/site-packages/pyarrow/pandas_compat.py:752: FutureWarning: .labels was deprecated in version 0.24.0. Use .codes instead.\n",
      "\n",
      "Running for aco, 15, 0\n",
      "Saving results in /opt/data/projects/asthma-copd/results/imputed_gwas\n",
      "/opt/data/software/conda_envs/summary_gwas_imputation/lib/python3.7/site-packages/pyarrow/pandas_compat.py:752: FutureWarning: .labels was deprecated in version 0.24.0. Use .codes instead.\n",
      "INFO - Error for region (15,24863443.0,27052965.0): LinAlgError('SVD did not converge')\n",
      "\n",
      "Running for aco, 15, 1\n",
      "Saving results in /opt/data/projects/asthma-copd/results/imputed_gwas\n",
      "/opt/data/software/conda_envs/summary_gwas_imputation/lib/python3.7/site-packages/pyarrow/pandas_compat.py:752: FutureWarning: .labels was deprecated in version 0.24.0. Use .codes instead.\n",
      "\n",
      "Running for aco, 15, 2\n",
      "Saving results in /opt/data/projects/asthma-copd/results/imputed_gwas\n",
      "/opt/data/software/conda_envs/summary_gwas_imputation/lib/python3.7/site-packages/pyarrow/pandas_compat.py:752: FutureWarning: .labels was deprecated in version 0.24.0. Use .codes instead.\n",
      "\n",
      "Running for aco, 15, 3\n",
      "Saving results in /opt/data/projects/asthma-copd/results/imputed_gwas\n",
      "/opt/data/software/conda_envs/summary_gwas_imputation/lib/python3.7/site-packages/pyarrow/pandas_compat.py:752: FutureWarning: .labels was deprecated in version 0.24.0. Use .codes instead.\n",
      "\n",
      "Running for aco, 15, 4\n",
      "Saving results in /opt/data/projects/asthma-copd/results/imputed_gwas\n",
      "/opt/data/software/conda_envs/summary_gwas_imputation/lib/python3.7/site-packages/pyarrow/pandas_compat.py:752: FutureWarning: .labels was deprecated in version 0.24.0. Use .codes instead.\n",
      "\n",
      "Running for aco, 15, 5\n",
      "Saving results in /opt/data/projects/asthma-copd/results/imputed_gwas\n",
      "/opt/data/software/conda_envs/summary_gwas_imputation/lib/python3.7/site-packages/pyarrow/pandas_compat.py:752: FutureWarning: .labels was deprecated in version 0.24.0. Use .codes instead.\n",
      "\n",
      "Running for aco, 15, 6\n",
      "Saving results in /opt/data/projects/asthma-copd/results/imputed_gwas\n",
      "/opt/data/software/conda_envs/summary_gwas_imputation/lib/python3.7/site-packages/pyarrow/pandas_compat.py:752: FutureWarning: .labels was deprecated in version 0.24.0. Use .codes instead.\n",
      "\n",
      "Running for aco, 15, 7\n",
      "Saving results in /opt/data/projects/asthma-copd/results/imputed_gwas\n"
     ]
    },
    {
     "name": "stderr",
     "output_type": "stream",
     "text": [
      "+ /opt/data/software/conda_envs/summary_gwas_imputation/bin/python /opt/data/software/summary-gwas-imputation/src/gwas_summary_imputation.py -by_region_file /opt/data/data/eur_ld.bed.gz -gwas_file /opt/data/projects/asthma-copd/results/harmonized_gwas/GWAS_ACO_GLM_SNPs_info0.7-harmonized.txt -parquet_genotype /opt/data/data/phenomexcan/ld_blocks/reference_panel_1000G/chr14.variants.parquet -parquet_genotype_metadata /opt/data/data/phenomexcan/ld_blocks/reference_panel_1000G/variant_metadata.parquet -window 100000 -parsimony 7 -chromosome 14 -regularization 0.1 -frequency_filter 0.01 -sub_batches 10 -sub_batch 7 --standardise_dosages -output /opt/data/projects/asthma-copd/results/imputed_gwas/GWAS_ACO_GLM_SNPs_info0.7-harmonized-imputed-chr14-batch7_10.txt\n",
      "+ set +x\n",
      "+ /opt/data/software/conda_envs/summary_gwas_imputation/bin/python /opt/data/software/summary-gwas-imputation/src/gwas_summary_imputation.py -by_region_file /opt/data/data/eur_ld.bed.gz -gwas_file /opt/data/projects/asthma-copd/results/harmonized_gwas/GWAS_ACO_GLM_SNPs_info0.7-harmonized.txt -parquet_genotype /opt/data/data/phenomexcan/ld_blocks/reference_panel_1000G/chr14.variants.parquet -parquet_genotype_metadata /opt/data/data/phenomexcan/ld_blocks/reference_panel_1000G/variant_metadata.parquet -window 100000 -parsimony 7 -chromosome 14 -regularization 0.1 -frequency_filter 0.01 -sub_batches 10 -sub_batch 8 --standardise_dosages -output /opt/data/projects/asthma-copd/results/imputed_gwas/GWAS_ACO_GLM_SNPs_info0.7-harmonized-imputed-chr14-batch8_10.txt\n",
      "+ set +x\n",
      "+ /opt/data/software/conda_envs/summary_gwas_imputation/bin/python /opt/data/software/summary-gwas-imputation/src/gwas_summary_imputation.py -by_region_file /opt/data/data/eur_ld.bed.gz -gwas_file /opt/data/projects/asthma-copd/results/harmonized_gwas/GWAS_ACO_GLM_SNPs_info0.7-harmonized.txt -parquet_genotype /opt/data/data/phenomexcan/ld_blocks/reference_panel_1000G/chr14.variants.parquet -parquet_genotype_metadata /opt/data/data/phenomexcan/ld_blocks/reference_panel_1000G/variant_metadata.parquet -window 100000 -parsimony 7 -chromosome 14 -regularization 0.1 -frequency_filter 0.01 -sub_batches 10 -sub_batch 9 --standardise_dosages -output /opt/data/projects/asthma-copd/results/imputed_gwas/GWAS_ACO_GLM_SNPs_info0.7-harmonized-imputed-chr14-batch9_10.txt\n",
      "+ set +x\n",
      "+ /opt/data/software/conda_envs/summary_gwas_imputation/bin/python /opt/data/software/summary-gwas-imputation/src/gwas_summary_imputation.py -by_region_file /opt/data/data/eur_ld.bed.gz -gwas_file /opt/data/projects/asthma-copd/results/harmonized_gwas/GWAS_ACO_GLM_SNPs_info0.7-harmonized.txt -parquet_genotype /opt/data/data/phenomexcan/ld_blocks/reference_panel_1000G/chr15.variants.parquet -parquet_genotype_metadata /opt/data/data/phenomexcan/ld_blocks/reference_panel_1000G/variant_metadata.parquet -window 100000 -parsimony 7 -chromosome 15 -regularization 0.1 -frequency_filter 0.01 -sub_batches 10 -sub_batch 0 --standardise_dosages -output /opt/data/projects/asthma-copd/results/imputed_gwas/GWAS_ACO_GLM_SNPs_info0.7-harmonized-imputed-chr15-batch0_10.txt\n",
      "+ set +x\n",
      "+ /opt/data/software/conda_envs/summary_gwas_imputation/bin/python /opt/data/software/summary-gwas-imputation/src/gwas_summary_imputation.py -by_region_file /opt/data/data/eur_ld.bed.gz -gwas_file /opt/data/projects/asthma-copd/results/harmonized_gwas/GWAS_ACO_GLM_SNPs_info0.7-harmonized.txt -parquet_genotype /opt/data/data/phenomexcan/ld_blocks/reference_panel_1000G/chr15.variants.parquet -parquet_genotype_metadata /opt/data/data/phenomexcan/ld_blocks/reference_panel_1000G/variant_metadata.parquet -window 100000 -parsimony 7 -chromosome 15 -regularization 0.1 -frequency_filter 0.01 -sub_batches 10 -sub_batch 1 --standardise_dosages -output /opt/data/projects/asthma-copd/results/imputed_gwas/GWAS_ACO_GLM_SNPs_info0.7-harmonized-imputed-chr15-batch1_10.txt\n",
      "+ set +x\n",
      "+ /opt/data/software/conda_envs/summary_gwas_imputation/bin/python /opt/data/software/summary-gwas-imputation/src/gwas_summary_imputation.py -by_region_file /opt/data/data/eur_ld.bed.gz -gwas_file /opt/data/projects/asthma-copd/results/harmonized_gwas/GWAS_ACO_GLM_SNPs_info0.7-harmonized.txt -parquet_genotype /opt/data/data/phenomexcan/ld_blocks/reference_panel_1000G/chr15.variants.parquet -parquet_genotype_metadata /opt/data/data/phenomexcan/ld_blocks/reference_panel_1000G/variant_metadata.parquet -window 100000 -parsimony 7 -chromosome 15 -regularization 0.1 -frequency_filter 0.01 -sub_batches 10 -sub_batch 2 --standardise_dosages -output /opt/data/projects/asthma-copd/results/imputed_gwas/GWAS_ACO_GLM_SNPs_info0.7-harmonized-imputed-chr15-batch2_10.txt\n",
      "+ set +x\n",
      "+ /opt/data/software/conda_envs/summary_gwas_imputation/bin/python /opt/data/software/summary-gwas-imputation/src/gwas_summary_imputation.py -by_region_file /opt/data/data/eur_ld.bed.gz -gwas_file /opt/data/projects/asthma-copd/results/harmonized_gwas/GWAS_ACO_GLM_SNPs_info0.7-harmonized.txt -parquet_genotype /opt/data/data/phenomexcan/ld_blocks/reference_panel_1000G/chr15.variants.parquet -parquet_genotype_metadata /opt/data/data/phenomexcan/ld_blocks/reference_panel_1000G/variant_metadata.parquet -window 100000 -parsimony 7 -chromosome 15 -regularization 0.1 -frequency_filter 0.01 -sub_batches 10 -sub_batch 3 --standardise_dosages -output /opt/data/projects/asthma-copd/results/imputed_gwas/GWAS_ACO_GLM_SNPs_info0.7-harmonized-imputed-chr15-batch3_10.txt\n",
      "+ set +x\n",
      "+ /opt/data/software/conda_envs/summary_gwas_imputation/bin/python /opt/data/software/summary-gwas-imputation/src/gwas_summary_imputation.py -by_region_file /opt/data/data/eur_ld.bed.gz -gwas_file /opt/data/projects/asthma-copd/results/harmonized_gwas/GWAS_ACO_GLM_SNPs_info0.7-harmonized.txt -parquet_genotype /opt/data/data/phenomexcan/ld_blocks/reference_panel_1000G/chr15.variants.parquet -parquet_genotype_metadata /opt/data/data/phenomexcan/ld_blocks/reference_panel_1000G/variant_metadata.parquet -window 100000 -parsimony 7 -chromosome 15 -regularization 0.1 -frequency_filter 0.01 -sub_batches 10 -sub_batch 4 --standardise_dosages -output /opt/data/projects/asthma-copd/results/imputed_gwas/GWAS_ACO_GLM_SNPs_info0.7-harmonized-imputed-chr15-batch4_10.txt\n",
      "+ set +x\n",
      "+ /opt/data/software/conda_envs/summary_gwas_imputation/bin/python /opt/data/software/summary-gwas-imputation/src/gwas_summary_imputation.py -by_region_file /opt/data/data/eur_ld.bed.gz -gwas_file /opt/data/projects/asthma-copd/results/harmonized_gwas/GWAS_ACO_GLM_SNPs_info0.7-harmonized.txt -parquet_genotype /opt/data/data/phenomexcan/ld_blocks/reference_panel_1000G/chr15.variants.parquet -parquet_genotype_metadata /opt/data/data/phenomexcan/ld_blocks/reference_panel_1000G/variant_metadata.parquet -window 100000 -parsimony 7 -chromosome 15 -regularization 0.1 -frequency_filter 0.01 -sub_batches 10 -sub_batch 5 --standardise_dosages -output /opt/data/projects/asthma-copd/results/imputed_gwas/GWAS_ACO_GLM_SNPs_info0.7-harmonized-imputed-chr15-batch5_10.txt\n",
      "+ set +x\n",
      "+ /opt/data/software/conda_envs/summary_gwas_imputation/bin/python /opt/data/software/summary-gwas-imputation/src/gwas_summary_imputation.py -by_region_file /opt/data/data/eur_ld.bed.gz -gwas_file /opt/data/projects/asthma-copd/results/harmonized_gwas/GWAS_ACO_GLM_SNPs_info0.7-harmonized.txt -parquet_genotype /opt/data/data/phenomexcan/ld_blocks/reference_panel_1000G/chr15.variants.parquet -parquet_genotype_metadata /opt/data/data/phenomexcan/ld_blocks/reference_panel_1000G/variant_metadata.parquet -window 100000 -parsimony 7 -chromosome 15 -regularization 0.1 -frequency_filter 0.01 -sub_batches 10 -sub_batch 6 --standardise_dosages -output /opt/data/projects/asthma-copd/results/imputed_gwas/GWAS_ACO_GLM_SNPs_info0.7-harmonized-imputed-chr15-batch6_10.txt\n",
      "+ set +x\n",
      "+ /opt/data/software/conda_envs/summary_gwas_imputation/bin/python /opt/data/software/summary-gwas-imputation/src/gwas_summary_imputation.py -by_region_file /opt/data/data/eur_ld.bed.gz -gwas_file /opt/data/projects/asthma-copd/results/harmonized_gwas/GWAS_ACO_GLM_SNPs_info0.7-harmonized.txt -parquet_genotype /opt/data/data/phenomexcan/ld_blocks/reference_panel_1000G/chr15.variants.parquet -parquet_genotype_metadata /opt/data/data/phenomexcan/ld_blocks/reference_panel_1000G/variant_metadata.parquet -window 100000 -parsimony 7 -chromosome 15 -regularization 0.1 -frequency_filter 0.01 -sub_batches 10 -sub_batch 7 --standardise_dosages -output /opt/data/projects/asthma-copd/results/imputed_gwas/GWAS_ACO_GLM_SNPs_info0.7-harmonized-imputed-chr15-batch7_10.txt\n"
     ]
    },
    {
     "name": "stdout",
     "output_type": "stream",
     "text": [
      "/opt/data/software/conda_envs/summary_gwas_imputation/lib/python3.7/site-packages/pyarrow/pandas_compat.py:752: FutureWarning: .labels was deprecated in version 0.24.0. Use .codes instead.\n",
      "\n"
     ]
    },
    {
     "name": "stderr",
     "output_type": "stream",
     "text": [
      "+ set +x\n"
     ]
    },
    {
     "name": "stdout",
     "output_type": "stream",
     "text": [
      "Running for aco, 15, 8\n",
      "Saving results in /opt/data/projects/asthma-copd/results/imputed_gwas\n",
      "/opt/data/software/conda_envs/summary_gwas_imputation/lib/python3.7/site-packages/pyarrow/pandas_compat.py:752: FutureWarning: .labels was deprecated in version 0.24.0. Use .codes instead.\n",
      "\n",
      "Running for aco, 15, 9\n",
      "Saving results in /opt/data/projects/asthma-copd/results/imputed_gwas\n",
      "/opt/data/software/conda_envs/summary_gwas_imputation/lib/python3.7/site-packages/pyarrow/pandas_compat.py:752: FutureWarning: .labels was deprecated in version 0.24.0. Use .codes instead.\n",
      "\n",
      "Running for aco, 16, 0\n",
      "Saving results in /opt/data/projects/asthma-copd/results/imputed_gwas\n",
      "/opt/data/software/conda_envs/summary_gwas_imputation/lib/python3.7/site-packages/pyarrow/pandas_compat.py:752: FutureWarning: .labels was deprecated in version 0.24.0. Use .codes instead.\n",
      "\n",
      "Running for aco, 16, 1\n",
      "Saving results in /opt/data/projects/asthma-copd/results/imputed_gwas\n",
      "/opt/data/software/conda_envs/summary_gwas_imputation/lib/python3.7/site-packages/pyarrow/pandas_compat.py:752: FutureWarning: .labels was deprecated in version 0.24.0. Use .codes instead.\n",
      "\n",
      "Running for aco, 16, 2\n",
      "Saving results in /opt/data/projects/asthma-copd/results/imputed_gwas\n",
      "/opt/data/software/conda_envs/summary_gwas_imputation/lib/python3.7/site-packages/pyarrow/pandas_compat.py:752: FutureWarning: .labels was deprecated in version 0.24.0. Use .codes instead.\n",
      "\n",
      "Running for aco, 16, 3\n",
      "Saving results in /opt/data/projects/asthma-copd/results/imputed_gwas\n",
      "/opt/data/software/conda_envs/summary_gwas_imputation/lib/python3.7/site-packages/pyarrow/pandas_compat.py:752: FutureWarning: .labels was deprecated in version 0.24.0. Use .codes instead.\n",
      "\n"
     ]
    },
    {
     "name": "stderr",
     "output_type": "stream",
     "text": [
      "+ /opt/data/software/conda_envs/summary_gwas_imputation/bin/python /opt/data/software/summary-gwas-imputation/src/gwas_summary_imputation.py -by_region_file /opt/data/data/eur_ld.bed.gz -gwas_file /opt/data/projects/asthma-copd/results/harmonized_gwas/GWAS_ACO_GLM_SNPs_info0.7-harmonized.txt -parquet_genotype /opt/data/data/phenomexcan/ld_blocks/reference_panel_1000G/chr15.variants.parquet -parquet_genotype_metadata /opt/data/data/phenomexcan/ld_blocks/reference_panel_1000G/variant_metadata.parquet -window 100000 -parsimony 7 -chromosome 15 -regularization 0.1 -frequency_filter 0.01 -sub_batches 10 -sub_batch 8 --standardise_dosages -output /opt/data/projects/asthma-copd/results/imputed_gwas/GWAS_ACO_GLM_SNPs_info0.7-harmonized-imputed-chr15-batch8_10.txt\n",
      "+ set +x\n",
      "+ /opt/data/software/conda_envs/summary_gwas_imputation/bin/python /opt/data/software/summary-gwas-imputation/src/gwas_summary_imputation.py -by_region_file /opt/data/data/eur_ld.bed.gz -gwas_file /opt/data/projects/asthma-copd/results/harmonized_gwas/GWAS_ACO_GLM_SNPs_info0.7-harmonized.txt -parquet_genotype /opt/data/data/phenomexcan/ld_blocks/reference_panel_1000G/chr15.variants.parquet -parquet_genotype_metadata /opt/data/data/phenomexcan/ld_blocks/reference_panel_1000G/variant_metadata.parquet -window 100000 -parsimony 7 -chromosome 15 -regularization 0.1 -frequency_filter 0.01 -sub_batches 10 -sub_batch 9 --standardise_dosages -output /opt/data/projects/asthma-copd/results/imputed_gwas/GWAS_ACO_GLM_SNPs_info0.7-harmonized-imputed-chr15-batch9_10.txt\n",
      "+ set +x\n",
      "+ /opt/data/software/conda_envs/summary_gwas_imputation/bin/python /opt/data/software/summary-gwas-imputation/src/gwas_summary_imputation.py -by_region_file /opt/data/data/eur_ld.bed.gz -gwas_file /opt/data/projects/asthma-copd/results/harmonized_gwas/GWAS_ACO_GLM_SNPs_info0.7-harmonized.txt -parquet_genotype /opt/data/data/phenomexcan/ld_blocks/reference_panel_1000G/chr16.variants.parquet -parquet_genotype_metadata /opt/data/data/phenomexcan/ld_blocks/reference_panel_1000G/variant_metadata.parquet -window 100000 -parsimony 7 -chromosome 16 -regularization 0.1 -frequency_filter 0.01 -sub_batches 10 -sub_batch 0 --standardise_dosages -output /opt/data/projects/asthma-copd/results/imputed_gwas/GWAS_ACO_GLM_SNPs_info0.7-harmonized-imputed-chr16-batch0_10.txt\n",
      "+ set +x\n",
      "+ /opt/data/software/conda_envs/summary_gwas_imputation/bin/python /opt/data/software/summary-gwas-imputation/src/gwas_summary_imputation.py -by_region_file /opt/data/data/eur_ld.bed.gz -gwas_file /opt/data/projects/asthma-copd/results/harmonized_gwas/GWAS_ACO_GLM_SNPs_info0.7-harmonized.txt -parquet_genotype /opt/data/data/phenomexcan/ld_blocks/reference_panel_1000G/chr16.variants.parquet -parquet_genotype_metadata /opt/data/data/phenomexcan/ld_blocks/reference_panel_1000G/variant_metadata.parquet -window 100000 -parsimony 7 -chromosome 16 -regularization 0.1 -frequency_filter 0.01 -sub_batches 10 -sub_batch 1 --standardise_dosages -output /opt/data/projects/asthma-copd/results/imputed_gwas/GWAS_ACO_GLM_SNPs_info0.7-harmonized-imputed-chr16-batch1_10.txt\n",
      "+ set +x\n",
      "+ /opt/data/software/conda_envs/summary_gwas_imputation/bin/python /opt/data/software/summary-gwas-imputation/src/gwas_summary_imputation.py -by_region_file /opt/data/data/eur_ld.bed.gz -gwas_file /opt/data/projects/asthma-copd/results/harmonized_gwas/GWAS_ACO_GLM_SNPs_info0.7-harmonized.txt -parquet_genotype /opt/data/data/phenomexcan/ld_blocks/reference_panel_1000G/chr16.variants.parquet -parquet_genotype_metadata /opt/data/data/phenomexcan/ld_blocks/reference_panel_1000G/variant_metadata.parquet -window 100000 -parsimony 7 -chromosome 16 -regularization 0.1 -frequency_filter 0.01 -sub_batches 10 -sub_batch 2 --standardise_dosages -output /opt/data/projects/asthma-copd/results/imputed_gwas/GWAS_ACO_GLM_SNPs_info0.7-harmonized-imputed-chr16-batch2_10.txt\n",
      "+ set +x\n",
      "+ /opt/data/software/conda_envs/summary_gwas_imputation/bin/python /opt/data/software/summary-gwas-imputation/src/gwas_summary_imputation.py -by_region_file /opt/data/data/eur_ld.bed.gz -gwas_file /opt/data/projects/asthma-copd/results/harmonized_gwas/GWAS_ACO_GLM_SNPs_info0.7-harmonized.txt -parquet_genotype /opt/data/data/phenomexcan/ld_blocks/reference_panel_1000G/chr16.variants.parquet -parquet_genotype_metadata /opt/data/data/phenomexcan/ld_blocks/reference_panel_1000G/variant_metadata.parquet -window 100000 -parsimony 7 -chromosome 16 -regularization 0.1 -frequency_filter 0.01 -sub_batches 10 -sub_batch 3 --standardise_dosages -output /opt/data/projects/asthma-copd/results/imputed_gwas/GWAS_ACO_GLM_SNPs_info0.7-harmonized-imputed-chr16-batch3_10.txt\n",
      "+ set +x\n",
      "+ /opt/data/software/conda_envs/summary_gwas_imputation/bin/python /opt/data/software/summary-gwas-imputation/src/gwas_summary_imputation.py -by_region_file /opt/data/data/eur_ld.bed.gz -gwas_file /opt/data/projects/asthma-copd/results/harmonized_gwas/GWAS_ACO_GLM_SNPs_info0.7-harmonized.txt -parquet_genotype /opt/data/data/phenomexcan/ld_blocks/reference_panel_1000G/chr16.variants.parquet -parquet_genotype_metadata /opt/data/data/phenomexcan/ld_blocks/reference_panel_1000G/variant_metadata.parquet -window 100000 -parsimony 7 -chromosome 16 -regularization 0.1 -frequency_filter 0.01 -sub_batches 10 -sub_batch 4 --standardise_dosages -output /opt/data/projects/asthma-copd/results/imputed_gwas/GWAS_ACO_GLM_SNPs_info0.7-harmonized-imputed-chr16-batch4_10.txt\n"
     ]
    },
    {
     "name": "stdout",
     "output_type": "stream",
     "text": [
      "Running for aco, 16, 4\n",
      "Saving results in /opt/data/projects/asthma-copd/results/imputed_gwas\n",
      "/opt/data/software/conda_envs/summary_gwas_imputation/lib/python3.7/site-packages/pyarrow/pandas_compat.py:752: FutureWarning: .labels was deprecated in version 0.24.0. Use .codes instead.\n",
      "INFO - Error for region (16,48974015.0,52001911.0): LinAlgError('SVD did not converge')\n",
      "\n"
     ]
    },
    {
     "name": "stderr",
     "output_type": "stream",
     "text": [
      "+ set +x\n"
     ]
    },
    {
     "name": "stdout",
     "output_type": "stream",
     "text": [
      "Running for aco, 16, 5\n",
      "Saving results in /opt/data/projects/asthma-copd/results/imputed_gwas\n",
      "/opt/data/software/conda_envs/summary_gwas_imputation/lib/python3.7/site-packages/pyarrow/pandas_compat.py:752: FutureWarning: .labels was deprecated in version 0.24.0. Use .codes instead.\n",
      "\n"
     ]
    },
    {
     "name": "stderr",
     "output_type": "stream",
     "text": [
      "+ /opt/data/software/conda_envs/summary_gwas_imputation/bin/python /opt/data/software/summary-gwas-imputation/src/gwas_summary_imputation.py -by_region_file /opt/data/data/eur_ld.bed.gz -gwas_file /opt/data/projects/asthma-copd/results/harmonized_gwas/GWAS_ACO_GLM_SNPs_info0.7-harmonized.txt -parquet_genotype /opt/data/data/phenomexcan/ld_blocks/reference_panel_1000G/chr16.variants.parquet -parquet_genotype_metadata /opt/data/data/phenomexcan/ld_blocks/reference_panel_1000G/variant_metadata.parquet -window 100000 -parsimony 7 -chromosome 16 -regularization 0.1 -frequency_filter 0.01 -sub_batches 10 -sub_batch 5 --standardise_dosages -output /opt/data/projects/asthma-copd/results/imputed_gwas/GWAS_ACO_GLM_SNPs_info0.7-harmonized-imputed-chr16-batch5_10.txt\n",
      "+ set +x\n"
     ]
    },
    {
     "name": "stdout",
     "output_type": "stream",
     "text": [
      "Running for aco, 16, 6\n",
      "Saving results in /opt/data/projects/asthma-copd/results/imputed_gwas\n",
      "/opt/data/software/conda_envs/summary_gwas_imputation/lib/python3.7/site-packages/pyarrow/pandas_compat.py:752: FutureWarning: .labels was deprecated in version 0.24.0. Use .codes instead.\n",
      "\n",
      "Running for aco, 16, 7\n",
      "Saving results in /opt/data/projects/asthma-copd/results/imputed_gwas\n",
      "/opt/data/software/conda_envs/summary_gwas_imputation/lib/python3.7/site-packages/pyarrow/pandas_compat.py:752: FutureWarning: .labels was deprecated in version 0.24.0. Use .codes instead.\n",
      "\n",
      "Running for aco, 16, 8\n",
      "Saving results in /opt/data/projects/asthma-copd/results/imputed_gwas\n",
      "/opt/data/software/conda_envs/summary_gwas_imputation/lib/python3.7/site-packages/pyarrow/pandas_compat.py:752: FutureWarning: .labels was deprecated in version 0.24.0. Use .codes instead.\n",
      "\n",
      "Running for aco, 16, 9\n",
      "Saving results in /opt/data/projects/asthma-copd/results/imputed_gwas\n",
      "/opt/data/software/conda_envs/summary_gwas_imputation/lib/python3.7/site-packages/pyarrow/pandas_compat.py:752: FutureWarning: .labels was deprecated in version 0.24.0. Use .codes instead.\n",
      "\n",
      "Running for aco, 17, 0\n",
      "Saving results in /opt/data/projects/asthma-copd/results/imputed_gwas\n",
      "/opt/data/software/conda_envs/summary_gwas_imputation/lib/python3.7/site-packages/pyarrow/pandas_compat.py:752: FutureWarning: .labels was deprecated in version 0.24.0. Use .codes instead.\n",
      "INFO - Error for region (17,150263.0,1269105.0): LinAlgError('SVD did not converge')\n",
      "\n",
      "Running for aco, 17, 1\n",
      "Saving results in /opt/data/projects/asthma-copd/results/imputed_gwas\n",
      "/opt/data/software/conda_envs/summary_gwas_imputation/lib/python3.7/site-packages/pyarrow/pandas_compat.py:752: FutureWarning: .labels was deprecated in version 0.24.0. Use .codes instead.\n",
      "INFO - Error for region (17,8403107.0,10062604.0): LinAlgError('SVD did not converge')\n",
      "\n",
      "Running for aco, 17, 2\n",
      "Saving results in /opt/data/projects/asthma-copd/results/imputed_gwas\n",
      "/opt/data/software/conda_envs/summary_gwas_imputation/lib/python3.7/site-packages/pyarrow/pandas_compat.py:752: FutureWarning: .labels was deprecated in version 0.24.0. Use .codes instead.\n",
      "\n",
      "Running for aco, 17, 3\n",
      "Saving results in /opt/data/projects/asthma-copd/results/imputed_gwas\n",
      "/opt/data/software/conda_envs/summary_gwas_imputation/lib/python3.7/site-packages/pyarrow/pandas_compat.py:752: FutureWarning: .labels was deprecated in version 0.24.0. Use .codes instead.\n",
      "\n",
      "Running for aco, 17, 4\n",
      "Saving results in /opt/data/projects/asthma-copd/results/imputed_gwas\n",
      "/opt/data/software/conda_envs/summary_gwas_imputation/lib/python3.7/site-packages/pyarrow/pandas_compat.py:752: FutureWarning: .labels was deprecated in version 0.24.0. Use .codes instead.\n",
      "\n",
      "Running for aco, 17, 5\n",
      "Saving results in /opt/data/projects/asthma-copd/results/imputed_gwas\n",
      "/opt/data/software/conda_envs/summary_gwas_imputation/lib/python3.7/site-packages/pyarrow/pandas_compat.py:752: FutureWarning: .labels was deprecated in version 0.24.0. Use .codes instead.\n",
      "\n",
      "Running for aco, 17, 6\n",
      "Saving results in /opt/data/projects/asthma-copd/results/imputed_gwas\n",
      "/opt/data/software/conda_envs/summary_gwas_imputation/lib/python3.7/site-packages/pyarrow/pandas_compat.py:752: FutureWarning: .labels was deprecated in version 0.24.0. Use .codes instead.\n",
      "\n",
      "Running for aco, 17, 7\n",
      "Saving results in /opt/data/projects/asthma-copd/results/imputed_gwas\n"
     ]
    },
    {
     "name": "stderr",
     "output_type": "stream",
     "text": [
      "+ /opt/data/software/conda_envs/summary_gwas_imputation/bin/python /opt/data/software/summary-gwas-imputation/src/gwas_summary_imputation.py -by_region_file /opt/data/data/eur_ld.bed.gz -gwas_file /opt/data/projects/asthma-copd/results/harmonized_gwas/GWAS_ACO_GLM_SNPs_info0.7-harmonized.txt -parquet_genotype /opt/data/data/phenomexcan/ld_blocks/reference_panel_1000G/chr16.variants.parquet -parquet_genotype_metadata /opt/data/data/phenomexcan/ld_blocks/reference_panel_1000G/variant_metadata.parquet -window 100000 -parsimony 7 -chromosome 16 -regularization 0.1 -frequency_filter 0.01 -sub_batches 10 -sub_batch 6 --standardise_dosages -output /opt/data/projects/asthma-copd/results/imputed_gwas/GWAS_ACO_GLM_SNPs_info0.7-harmonized-imputed-chr16-batch6_10.txt\n",
      "+ set +x\n",
      "+ /opt/data/software/conda_envs/summary_gwas_imputation/bin/python /opt/data/software/summary-gwas-imputation/src/gwas_summary_imputation.py -by_region_file /opt/data/data/eur_ld.bed.gz -gwas_file /opt/data/projects/asthma-copd/results/harmonized_gwas/GWAS_ACO_GLM_SNPs_info0.7-harmonized.txt -parquet_genotype /opt/data/data/phenomexcan/ld_blocks/reference_panel_1000G/chr16.variants.parquet -parquet_genotype_metadata /opt/data/data/phenomexcan/ld_blocks/reference_panel_1000G/variant_metadata.parquet -window 100000 -parsimony 7 -chromosome 16 -regularization 0.1 -frequency_filter 0.01 -sub_batches 10 -sub_batch 7 --standardise_dosages -output /opt/data/projects/asthma-copd/results/imputed_gwas/GWAS_ACO_GLM_SNPs_info0.7-harmonized-imputed-chr16-batch7_10.txt\n",
      "+ set +x\n",
      "+ /opt/data/software/conda_envs/summary_gwas_imputation/bin/python /opt/data/software/summary-gwas-imputation/src/gwas_summary_imputation.py -by_region_file /opt/data/data/eur_ld.bed.gz -gwas_file /opt/data/projects/asthma-copd/results/harmonized_gwas/GWAS_ACO_GLM_SNPs_info0.7-harmonized.txt -parquet_genotype /opt/data/data/phenomexcan/ld_blocks/reference_panel_1000G/chr16.variants.parquet -parquet_genotype_metadata /opt/data/data/phenomexcan/ld_blocks/reference_panel_1000G/variant_metadata.parquet -window 100000 -parsimony 7 -chromosome 16 -regularization 0.1 -frequency_filter 0.01 -sub_batches 10 -sub_batch 8 --standardise_dosages -output /opt/data/projects/asthma-copd/results/imputed_gwas/GWAS_ACO_GLM_SNPs_info0.7-harmonized-imputed-chr16-batch8_10.txt\n",
      "+ set +x\n",
      "+ /opt/data/software/conda_envs/summary_gwas_imputation/bin/python /opt/data/software/summary-gwas-imputation/src/gwas_summary_imputation.py -by_region_file /opt/data/data/eur_ld.bed.gz -gwas_file /opt/data/projects/asthma-copd/results/harmonized_gwas/GWAS_ACO_GLM_SNPs_info0.7-harmonized.txt -parquet_genotype /opt/data/data/phenomexcan/ld_blocks/reference_panel_1000G/chr16.variants.parquet -parquet_genotype_metadata /opt/data/data/phenomexcan/ld_blocks/reference_panel_1000G/variant_metadata.parquet -window 100000 -parsimony 7 -chromosome 16 -regularization 0.1 -frequency_filter 0.01 -sub_batches 10 -sub_batch 9 --standardise_dosages -output /opt/data/projects/asthma-copd/results/imputed_gwas/GWAS_ACO_GLM_SNPs_info0.7-harmonized-imputed-chr16-batch9_10.txt\n",
      "+ set +x\n",
      "+ /opt/data/software/conda_envs/summary_gwas_imputation/bin/python /opt/data/software/summary-gwas-imputation/src/gwas_summary_imputation.py -by_region_file /opt/data/data/eur_ld.bed.gz -gwas_file /opt/data/projects/asthma-copd/results/harmonized_gwas/GWAS_ACO_GLM_SNPs_info0.7-harmonized.txt -parquet_genotype /opt/data/data/phenomexcan/ld_blocks/reference_panel_1000G/chr17.variants.parquet -parquet_genotype_metadata /opt/data/data/phenomexcan/ld_blocks/reference_panel_1000G/variant_metadata.parquet -window 100000 -parsimony 7 -chromosome 17 -regularization 0.1 -frequency_filter 0.01 -sub_batches 10 -sub_batch 0 --standardise_dosages -output /opt/data/projects/asthma-copd/results/imputed_gwas/GWAS_ACO_GLM_SNPs_info0.7-harmonized-imputed-chr17-batch0_10.txt\n",
      "+ set +x\n",
      "+ /opt/data/software/conda_envs/summary_gwas_imputation/bin/python /opt/data/software/summary-gwas-imputation/src/gwas_summary_imputation.py -by_region_file /opt/data/data/eur_ld.bed.gz -gwas_file /opt/data/projects/asthma-copd/results/harmonized_gwas/GWAS_ACO_GLM_SNPs_info0.7-harmonized.txt -parquet_genotype /opt/data/data/phenomexcan/ld_blocks/reference_panel_1000G/chr17.variants.parquet -parquet_genotype_metadata /opt/data/data/phenomexcan/ld_blocks/reference_panel_1000G/variant_metadata.parquet -window 100000 -parsimony 7 -chromosome 17 -regularization 0.1 -frequency_filter 0.01 -sub_batches 10 -sub_batch 1 --standardise_dosages -output /opt/data/projects/asthma-copd/results/imputed_gwas/GWAS_ACO_GLM_SNPs_info0.7-harmonized-imputed-chr17-batch1_10.txt\n",
      "+ set +x\n",
      "+ /opt/data/software/conda_envs/summary_gwas_imputation/bin/python /opt/data/software/summary-gwas-imputation/src/gwas_summary_imputation.py -by_region_file /opt/data/data/eur_ld.bed.gz -gwas_file /opt/data/projects/asthma-copd/results/harmonized_gwas/GWAS_ACO_GLM_SNPs_info0.7-harmonized.txt -parquet_genotype /opt/data/data/phenomexcan/ld_blocks/reference_panel_1000G/chr17.variants.parquet -parquet_genotype_metadata /opt/data/data/phenomexcan/ld_blocks/reference_panel_1000G/variant_metadata.parquet -window 100000 -parsimony 7 -chromosome 17 -regularization 0.1 -frequency_filter 0.01 -sub_batches 10 -sub_batch 2 --standardise_dosages -output /opt/data/projects/asthma-copd/results/imputed_gwas/GWAS_ACO_GLM_SNPs_info0.7-harmonized-imputed-chr17-batch2_10.txt\n",
      "+ set +x\n",
      "+ /opt/data/software/conda_envs/summary_gwas_imputation/bin/python /opt/data/software/summary-gwas-imputation/src/gwas_summary_imputation.py -by_region_file /opt/data/data/eur_ld.bed.gz -gwas_file /opt/data/projects/asthma-copd/results/harmonized_gwas/GWAS_ACO_GLM_SNPs_info0.7-harmonized.txt -parquet_genotype /opt/data/data/phenomexcan/ld_blocks/reference_panel_1000G/chr17.variants.parquet -parquet_genotype_metadata /opt/data/data/phenomexcan/ld_blocks/reference_panel_1000G/variant_metadata.parquet -window 100000 -parsimony 7 -chromosome 17 -regularization 0.1 -frequency_filter 0.01 -sub_batches 10 -sub_batch 3 --standardise_dosages -output /opt/data/projects/asthma-copd/results/imputed_gwas/GWAS_ACO_GLM_SNPs_info0.7-harmonized-imputed-chr17-batch3_10.txt\n",
      "+ set +x\n",
      "+ /opt/data/software/conda_envs/summary_gwas_imputation/bin/python /opt/data/software/summary-gwas-imputation/src/gwas_summary_imputation.py -by_region_file /opt/data/data/eur_ld.bed.gz -gwas_file /opt/data/projects/asthma-copd/results/harmonized_gwas/GWAS_ACO_GLM_SNPs_info0.7-harmonized.txt -parquet_genotype /opt/data/data/phenomexcan/ld_blocks/reference_panel_1000G/chr17.variants.parquet -parquet_genotype_metadata /opt/data/data/phenomexcan/ld_blocks/reference_panel_1000G/variant_metadata.parquet -window 100000 -parsimony 7 -chromosome 17 -regularization 0.1 -frequency_filter 0.01 -sub_batches 10 -sub_batch 4 --standardise_dosages -output /opt/data/projects/asthma-copd/results/imputed_gwas/GWAS_ACO_GLM_SNPs_info0.7-harmonized-imputed-chr17-batch4_10.txt\n",
      "+ set +x\n",
      "+ /opt/data/software/conda_envs/summary_gwas_imputation/bin/python /opt/data/software/summary-gwas-imputation/src/gwas_summary_imputation.py -by_region_file /opt/data/data/eur_ld.bed.gz -gwas_file /opt/data/projects/asthma-copd/results/harmonized_gwas/GWAS_ACO_GLM_SNPs_info0.7-harmonized.txt -parquet_genotype /opt/data/data/phenomexcan/ld_blocks/reference_panel_1000G/chr17.variants.parquet -parquet_genotype_metadata /opt/data/data/phenomexcan/ld_blocks/reference_panel_1000G/variant_metadata.parquet -window 100000 -parsimony 7 -chromosome 17 -regularization 0.1 -frequency_filter 0.01 -sub_batches 10 -sub_batch 5 --standardise_dosages -output /opt/data/projects/asthma-copd/results/imputed_gwas/GWAS_ACO_GLM_SNPs_info0.7-harmonized-imputed-chr17-batch5_10.txt\n",
      "+ set +x\n",
      "+ /opt/data/software/conda_envs/summary_gwas_imputation/bin/python /opt/data/software/summary-gwas-imputation/src/gwas_summary_imputation.py -by_region_file /opt/data/data/eur_ld.bed.gz -gwas_file /opt/data/projects/asthma-copd/results/harmonized_gwas/GWAS_ACO_GLM_SNPs_info0.7-harmonized.txt -parquet_genotype /opt/data/data/phenomexcan/ld_blocks/reference_panel_1000G/chr17.variants.parquet -parquet_genotype_metadata /opt/data/data/phenomexcan/ld_blocks/reference_panel_1000G/variant_metadata.parquet -window 100000 -parsimony 7 -chromosome 17 -regularization 0.1 -frequency_filter 0.01 -sub_batches 10 -sub_batch 6 --standardise_dosages -output /opt/data/projects/asthma-copd/results/imputed_gwas/GWAS_ACO_GLM_SNPs_info0.7-harmonized-imputed-chr17-batch6_10.txt\n",
      "+ set +x\n",
      "+ /opt/data/software/conda_envs/summary_gwas_imputation/bin/python /opt/data/software/summary-gwas-imputation/src/gwas_summary_imputation.py -by_region_file /opt/data/data/eur_ld.bed.gz -gwas_file /opt/data/projects/asthma-copd/results/harmonized_gwas/GWAS_ACO_GLM_SNPs_info0.7-harmonized.txt -parquet_genotype /opt/data/data/phenomexcan/ld_blocks/reference_panel_1000G/chr17.variants.parquet -parquet_genotype_metadata /opt/data/data/phenomexcan/ld_blocks/reference_panel_1000G/variant_metadata.parquet -window 100000 -parsimony 7 -chromosome 17 -regularization 0.1 -frequency_filter 0.01 -sub_batches 10 -sub_batch 7 --standardise_dosages -output /opt/data/projects/asthma-copd/results/imputed_gwas/GWAS_ACO_GLM_SNPs_info0.7-harmonized-imputed-chr17-batch7_10.txt\n"
     ]
    },
    {
     "name": "stdout",
     "output_type": "stream",
     "text": [
      "/opt/data/software/conda_envs/summary_gwas_imputation/lib/python3.7/site-packages/pyarrow/pandas_compat.py:752: FutureWarning: .labels was deprecated in version 0.24.0. Use .codes instead.\n",
      "\n"
     ]
    },
    {
     "name": "stderr",
     "output_type": "stream",
     "text": [
      "+ set +x\n"
     ]
    },
    {
     "name": "stdout",
     "output_type": "stream",
     "text": [
      "Running for aco, 17, 8\n",
      "Saving results in /opt/data/projects/asthma-copd/results/imputed_gwas\n"
     ]
    },
    {
     "name": "stderr",
     "output_type": "stream",
     "text": [
      "+ /opt/data/software/conda_envs/summary_gwas_imputation/bin/python /opt/data/software/summary-gwas-imputation/src/gwas_summary_imputation.py -by_region_file /opt/data/data/eur_ld.bed.gz -gwas_file /opt/data/projects/asthma-copd/results/harmonized_gwas/GWAS_ACO_GLM_SNPs_info0.7-harmonized.txt -parquet_genotype /opt/data/data/phenomexcan/ld_blocks/reference_panel_1000G/chr17.variants.parquet -parquet_genotype_metadata /opt/data/data/phenomexcan/ld_blocks/reference_panel_1000G/variant_metadata.parquet -window 100000 -parsimony 7 -chromosome 17 -regularization 0.1 -frequency_filter 0.01 -sub_batches 10 -sub_batch 8 --standardise_dosages -output /opt/data/projects/asthma-copd/results/imputed_gwas/GWAS_ACO_GLM_SNPs_info0.7-harmonized-imputed-chr17-batch8_10.txt\n"
     ]
    },
    {
     "name": "stdout",
     "output_type": "stream",
     "text": [
      "/opt/data/software/conda_envs/summary_gwas_imputation/lib/python3.7/site-packages/pyarrow/pandas_compat.py:752: FutureWarning: .labels was deprecated in version 0.24.0. Use .codes instead.\n",
      "\n"
     ]
    },
    {
     "name": "stderr",
     "output_type": "stream",
     "text": [
      "+ set +x\n"
     ]
    },
    {
     "name": "stdout",
     "output_type": "stream",
     "text": [
      "Running for aco, 17, 9\n",
      "Saving results in /opt/data/projects/asthma-copd/results/imputed_gwas\n",
      "/opt/data/software/conda_envs/summary_gwas_imputation/lib/python3.7/site-packages/pyarrow/pandas_compat.py:752: FutureWarning: .labels was deprecated in version 0.24.0. Use .codes instead.\n",
      "\n"
     ]
    },
    {
     "name": "stderr",
     "output_type": "stream",
     "text": [
      "+ /opt/data/software/conda_envs/summary_gwas_imputation/bin/python /opt/data/software/summary-gwas-imputation/src/gwas_summary_imputation.py -by_region_file /opt/data/data/eur_ld.bed.gz -gwas_file /opt/data/projects/asthma-copd/results/harmonized_gwas/GWAS_ACO_GLM_SNPs_info0.7-harmonized.txt -parquet_genotype /opt/data/data/phenomexcan/ld_blocks/reference_panel_1000G/chr17.variants.parquet -parquet_genotype_metadata /opt/data/data/phenomexcan/ld_blocks/reference_panel_1000G/variant_metadata.parquet -window 100000 -parsimony 7 -chromosome 17 -regularization 0.1 -frequency_filter 0.01 -sub_batches 10 -sub_batch 9 --standardise_dosages -output /opt/data/projects/asthma-copd/results/imputed_gwas/GWAS_ACO_GLM_SNPs_info0.7-harmonized-imputed-chr17-batch9_10.txt\n",
      "+ set +x\n"
     ]
    },
    {
     "name": "stdout",
     "output_type": "stream",
     "text": [
      "Running for aco, 18, 0\n",
      "Saving results in /opt/data/projects/asthma-copd/results/imputed_gwas\n",
      "/opt/data/software/conda_envs/summary_gwas_imputation/lib/python3.7/site-packages/pyarrow/pandas_compat.py:752: FutureWarning: .labels was deprecated in version 0.24.0. Use .codes instead.\n",
      "\n",
      "Running for aco, 18, 1\n",
      "Saving results in /opt/data/projects/asthma-copd/results/imputed_gwas\n"
     ]
    },
    {
     "name": "stderr",
     "output_type": "stream",
     "text": [
      "+ /opt/data/software/conda_envs/summary_gwas_imputation/bin/python /opt/data/software/summary-gwas-imputation/src/gwas_summary_imputation.py -by_region_file /opt/data/data/eur_ld.bed.gz -gwas_file /opt/data/projects/asthma-copd/results/harmonized_gwas/GWAS_ACO_GLM_SNPs_info0.7-harmonized.txt -parquet_genotype /opt/data/data/phenomexcan/ld_blocks/reference_panel_1000G/chr18.variants.parquet -parquet_genotype_metadata /opt/data/data/phenomexcan/ld_blocks/reference_panel_1000G/variant_metadata.parquet -window 100000 -parsimony 7 -chromosome 18 -regularization 0.1 -frequency_filter 0.01 -sub_batches 10 -sub_batch 0 --standardise_dosages -output /opt/data/projects/asthma-copd/results/imputed_gwas/GWAS_ACO_GLM_SNPs_info0.7-harmonized-imputed-chr18-batch0_10.txt\n",
      "+ set +x\n",
      "+ /opt/data/software/conda_envs/summary_gwas_imputation/bin/python /opt/data/software/summary-gwas-imputation/src/gwas_summary_imputation.py -by_region_file /opt/data/data/eur_ld.bed.gz -gwas_file /opt/data/projects/asthma-copd/results/harmonized_gwas/GWAS_ACO_GLM_SNPs_info0.7-harmonized.txt -parquet_genotype /opt/data/data/phenomexcan/ld_blocks/reference_panel_1000G/chr18.variants.parquet -parquet_genotype_metadata /opt/data/data/phenomexcan/ld_blocks/reference_panel_1000G/variant_metadata.parquet -window 100000 -parsimony 7 -chromosome 18 -regularization 0.1 -frequency_filter 0.01 -sub_batches 10 -sub_batch 1 --standardise_dosages -output /opt/data/projects/asthma-copd/results/imputed_gwas/GWAS_ACO_GLM_SNPs_info0.7-harmonized-imputed-chr18-batch1_10.txt\n"
     ]
    },
    {
     "name": "stdout",
     "output_type": "stream",
     "text": [
      "/opt/data/software/conda_envs/summary_gwas_imputation/lib/python3.7/site-packages/pyarrow/pandas_compat.py:752: FutureWarning: .labels was deprecated in version 0.24.0. Use .codes instead.\n",
      "\n"
     ]
    },
    {
     "name": "stderr",
     "output_type": "stream",
     "text": [
      "+ set +x\n"
     ]
    },
    {
     "name": "stdout",
     "output_type": "stream",
     "text": [
      "Running for aco, 18, 2\n",
      "Saving results in /opt/data/projects/asthma-copd/results/imputed_gwas\n",
      "/opt/data/software/conda_envs/summary_gwas_imputation/lib/python3.7/site-packages/pyarrow/pandas_compat.py:752: FutureWarning: .labels was deprecated in version 0.24.0. Use .codes instead.\n",
      "\n",
      "Running for aco, 18, 3\n",
      "Saving results in /opt/data/projects/asthma-copd/results/imputed_gwas\n",
      "/opt/data/software/conda_envs/summary_gwas_imputation/lib/python3.7/site-packages/pyarrow/pandas_compat.py:752: FutureWarning: .labels was deprecated in version 0.24.0. Use .codes instead.\n",
      "\n",
      "Running for aco, 18, 4\n",
      "Saving results in /opt/data/projects/asthma-copd/results/imputed_gwas\n",
      "/opt/data/software/conda_envs/summary_gwas_imputation/lib/python3.7/site-packages/pyarrow/pandas_compat.py:752: FutureWarning: .labels was deprecated in version 0.24.0. Use .codes instead.\n",
      "\n",
      "Running for aco, 18, 5\n",
      "Saving results in /opt/data/projects/asthma-copd/results/imputed_gwas\n"
     ]
    },
    {
     "name": "stderr",
     "output_type": "stream",
     "text": [
      "+ /opt/data/software/conda_envs/summary_gwas_imputation/bin/python /opt/data/software/summary-gwas-imputation/src/gwas_summary_imputation.py -by_region_file /opt/data/data/eur_ld.bed.gz -gwas_file /opt/data/projects/asthma-copd/results/harmonized_gwas/GWAS_ACO_GLM_SNPs_info0.7-harmonized.txt -parquet_genotype /opt/data/data/phenomexcan/ld_blocks/reference_panel_1000G/chr18.variants.parquet -parquet_genotype_metadata /opt/data/data/phenomexcan/ld_blocks/reference_panel_1000G/variant_metadata.parquet -window 100000 -parsimony 7 -chromosome 18 -regularization 0.1 -frequency_filter 0.01 -sub_batches 10 -sub_batch 2 --standardise_dosages -output /opt/data/projects/asthma-copd/results/imputed_gwas/GWAS_ACO_GLM_SNPs_info0.7-harmonized-imputed-chr18-batch2_10.txt\n",
      "+ set +x\n",
      "+ /opt/data/software/conda_envs/summary_gwas_imputation/bin/python /opt/data/software/summary-gwas-imputation/src/gwas_summary_imputation.py -by_region_file /opt/data/data/eur_ld.bed.gz -gwas_file /opt/data/projects/asthma-copd/results/harmonized_gwas/GWAS_ACO_GLM_SNPs_info0.7-harmonized.txt -parquet_genotype /opt/data/data/phenomexcan/ld_blocks/reference_panel_1000G/chr18.variants.parquet -parquet_genotype_metadata /opt/data/data/phenomexcan/ld_blocks/reference_panel_1000G/variant_metadata.parquet -window 100000 -parsimony 7 -chromosome 18 -regularization 0.1 -frequency_filter 0.01 -sub_batches 10 -sub_batch 3 --standardise_dosages -output /opt/data/projects/asthma-copd/results/imputed_gwas/GWAS_ACO_GLM_SNPs_info0.7-harmonized-imputed-chr18-batch3_10.txt\n",
      "+ set +x\n",
      "+ /opt/data/software/conda_envs/summary_gwas_imputation/bin/python /opt/data/software/summary-gwas-imputation/src/gwas_summary_imputation.py -by_region_file /opt/data/data/eur_ld.bed.gz -gwas_file /opt/data/projects/asthma-copd/results/harmonized_gwas/GWAS_ACO_GLM_SNPs_info0.7-harmonized.txt -parquet_genotype /opt/data/data/phenomexcan/ld_blocks/reference_panel_1000G/chr18.variants.parquet -parquet_genotype_metadata /opt/data/data/phenomexcan/ld_blocks/reference_panel_1000G/variant_metadata.parquet -window 100000 -parsimony 7 -chromosome 18 -regularization 0.1 -frequency_filter 0.01 -sub_batches 10 -sub_batch 4 --standardise_dosages -output /opt/data/projects/asthma-copd/results/imputed_gwas/GWAS_ACO_GLM_SNPs_info0.7-harmonized-imputed-chr18-batch4_10.txt\n",
      "+ set +x\n",
      "+ /opt/data/software/conda_envs/summary_gwas_imputation/bin/python /opt/data/software/summary-gwas-imputation/src/gwas_summary_imputation.py -by_region_file /opt/data/data/eur_ld.bed.gz -gwas_file /opt/data/projects/asthma-copd/results/harmonized_gwas/GWAS_ACO_GLM_SNPs_info0.7-harmonized.txt -parquet_genotype /opt/data/data/phenomexcan/ld_blocks/reference_panel_1000G/chr18.variants.parquet -parquet_genotype_metadata /opt/data/data/phenomexcan/ld_blocks/reference_panel_1000G/variant_metadata.parquet -window 100000 -parsimony 7 -chromosome 18 -regularization 0.1 -frequency_filter 0.01 -sub_batches 10 -sub_batch 5 --standardise_dosages -output /opt/data/projects/asthma-copd/results/imputed_gwas/GWAS_ACO_GLM_SNPs_info0.7-harmonized-imputed-chr18-batch5_10.txt\n"
     ]
    },
    {
     "name": "stdout",
     "output_type": "stream",
     "text": [
      "/opt/data/software/conda_envs/summary_gwas_imputation/lib/python3.7/site-packages/pyarrow/pandas_compat.py:752: FutureWarning: .labels was deprecated in version 0.24.0. Use .codes instead.\n",
      "\n"
     ]
    },
    {
     "name": "stderr",
     "output_type": "stream",
     "text": [
      "+ set +x\n"
     ]
    },
    {
     "name": "stdout",
     "output_type": "stream",
     "text": [
      "Running for aco, 18, 6\n",
      "Saving results in /opt/data/projects/asthma-copd/results/imputed_gwas\n",
      "/opt/data/software/conda_envs/summary_gwas_imputation/lib/python3.7/site-packages/pyarrow/pandas_compat.py:752: FutureWarning: .labels was deprecated in version 0.24.0. Use .codes instead.\n",
      "\n",
      "Running for aco, 18, 7\n",
      "Saving results in /opt/data/projects/asthma-copd/results/imputed_gwas\n",
      "/opt/data/software/conda_envs/summary_gwas_imputation/lib/python3.7/site-packages/pyarrow/pandas_compat.py:752: FutureWarning: .labels was deprecated in version 0.24.0. Use .codes instead.\n",
      "\n",
      "Running for aco, 18, 8\n",
      "Saving results in /opt/data/projects/asthma-copd/results/imputed_gwas\n",
      "/opt/data/software/conda_envs/summary_gwas_imputation/lib/python3.7/site-packages/pyarrow/pandas_compat.py:752: FutureWarning: .labels was deprecated in version 0.24.0. Use .codes instead.\n",
      "\n",
      "Running for aco, 18, 9\n",
      "Saving results in /opt/data/projects/asthma-copd/results/imputed_gwas\n",
      "/opt/data/software/conda_envs/summary_gwas_imputation/lib/python3.7/site-packages/pyarrow/pandas_compat.py:752: FutureWarning: .labels was deprecated in version 0.24.0. Use .codes instead.\n",
      "Intel MKL ERROR: Parameter 4 was incorrect on entry to DLASCL.\n",
      "\n",
      "Running for aco, 19, 0\n",
      "Saving results in /opt/data/projects/asthma-copd/results/imputed_gwas\n",
      "/opt/data/software/conda_envs/summary_gwas_imputation/lib/python3.7/site-packages/pyarrow/pandas_compat.py:752: FutureWarning: .labels was deprecated in version 0.24.0. Use .codes instead.\n",
      "\n",
      "Running for aco, 19, 1\n",
      "Saving results in /opt/data/projects/asthma-copd/results/imputed_gwas\n",
      "/opt/data/software/conda_envs/summary_gwas_imputation/lib/python3.7/site-packages/pyarrow/pandas_compat.py:752: FutureWarning: .labels was deprecated in version 0.24.0. Use .codes instead.\n",
      "\n",
      "Running for aco, 19, 2\n",
      "Saving results in /opt/data/projects/asthma-copd/results/imputed_gwas\n",
      "/opt/data/software/conda_envs/summary_gwas_imputation/lib/python3.7/site-packages/pyarrow/pandas_compat.py:752: FutureWarning: .labels was deprecated in version 0.24.0. Use .codes instead.\n",
      "\n"
     ]
    },
    {
     "name": "stderr",
     "output_type": "stream",
     "text": [
      "+ /opt/data/software/conda_envs/summary_gwas_imputation/bin/python /opt/data/software/summary-gwas-imputation/src/gwas_summary_imputation.py -by_region_file /opt/data/data/eur_ld.bed.gz -gwas_file /opt/data/projects/asthma-copd/results/harmonized_gwas/GWAS_ACO_GLM_SNPs_info0.7-harmonized.txt -parquet_genotype /opt/data/data/phenomexcan/ld_blocks/reference_panel_1000G/chr18.variants.parquet -parquet_genotype_metadata /opt/data/data/phenomexcan/ld_blocks/reference_panel_1000G/variant_metadata.parquet -window 100000 -parsimony 7 -chromosome 18 -regularization 0.1 -frequency_filter 0.01 -sub_batches 10 -sub_batch 6 --standardise_dosages -output /opt/data/projects/asthma-copd/results/imputed_gwas/GWAS_ACO_GLM_SNPs_info0.7-harmonized-imputed-chr18-batch6_10.txt\n",
      "+ set +x\n",
      "+ /opt/data/software/conda_envs/summary_gwas_imputation/bin/python /opt/data/software/summary-gwas-imputation/src/gwas_summary_imputation.py -by_region_file /opt/data/data/eur_ld.bed.gz -gwas_file /opt/data/projects/asthma-copd/results/harmonized_gwas/GWAS_ACO_GLM_SNPs_info0.7-harmonized.txt -parquet_genotype /opt/data/data/phenomexcan/ld_blocks/reference_panel_1000G/chr18.variants.parquet -parquet_genotype_metadata /opt/data/data/phenomexcan/ld_blocks/reference_panel_1000G/variant_metadata.parquet -window 100000 -parsimony 7 -chromosome 18 -regularization 0.1 -frequency_filter 0.01 -sub_batches 10 -sub_batch 7 --standardise_dosages -output /opt/data/projects/asthma-copd/results/imputed_gwas/GWAS_ACO_GLM_SNPs_info0.7-harmonized-imputed-chr18-batch7_10.txt\n",
      "+ set +x\n",
      "+ /opt/data/software/conda_envs/summary_gwas_imputation/bin/python /opt/data/software/summary-gwas-imputation/src/gwas_summary_imputation.py -by_region_file /opt/data/data/eur_ld.bed.gz -gwas_file /opt/data/projects/asthma-copd/results/harmonized_gwas/GWAS_ACO_GLM_SNPs_info0.7-harmonized.txt -parquet_genotype /opt/data/data/phenomexcan/ld_blocks/reference_panel_1000G/chr18.variants.parquet -parquet_genotype_metadata /opt/data/data/phenomexcan/ld_blocks/reference_panel_1000G/variant_metadata.parquet -window 100000 -parsimony 7 -chromosome 18 -regularization 0.1 -frequency_filter 0.01 -sub_batches 10 -sub_batch 8 --standardise_dosages -output /opt/data/projects/asthma-copd/results/imputed_gwas/GWAS_ACO_GLM_SNPs_info0.7-harmonized-imputed-chr18-batch8_10.txt\n",
      "+ set +x\n",
      "+ /opt/data/software/conda_envs/summary_gwas_imputation/bin/python /opt/data/software/summary-gwas-imputation/src/gwas_summary_imputation.py -by_region_file /opt/data/data/eur_ld.bed.gz -gwas_file /opt/data/projects/asthma-copd/results/harmonized_gwas/GWAS_ACO_GLM_SNPs_info0.7-harmonized.txt -parquet_genotype /opt/data/data/phenomexcan/ld_blocks/reference_panel_1000G/chr18.variants.parquet -parquet_genotype_metadata /opt/data/data/phenomexcan/ld_blocks/reference_panel_1000G/variant_metadata.parquet -window 100000 -parsimony 7 -chromosome 18 -regularization 0.1 -frequency_filter 0.01 -sub_batches 10 -sub_batch 9 --standardise_dosages -output /opt/data/projects/asthma-copd/results/imputed_gwas/GWAS_ACO_GLM_SNPs_info0.7-harmonized-imputed-chr18-batch9_10.txt\n",
      "+ set +x\n",
      "+ /opt/data/software/conda_envs/summary_gwas_imputation/bin/python /opt/data/software/summary-gwas-imputation/src/gwas_summary_imputation.py -by_region_file /opt/data/data/eur_ld.bed.gz -gwas_file /opt/data/projects/asthma-copd/results/harmonized_gwas/GWAS_ACO_GLM_SNPs_info0.7-harmonized.txt -parquet_genotype /opt/data/data/phenomexcan/ld_blocks/reference_panel_1000G/chr19.variants.parquet -parquet_genotype_metadata /opt/data/data/phenomexcan/ld_blocks/reference_panel_1000G/variant_metadata.parquet -window 100000 -parsimony 7 -chromosome 19 -regularization 0.1 -frequency_filter 0.01 -sub_batches 10 -sub_batch 0 --standardise_dosages -output /opt/data/projects/asthma-copd/results/imputed_gwas/GWAS_ACO_GLM_SNPs_info0.7-harmonized-imputed-chr19-batch0_10.txt\n",
      "+ set +x\n",
      "+ /opt/data/software/conda_envs/summary_gwas_imputation/bin/python /opt/data/software/summary-gwas-imputation/src/gwas_summary_imputation.py -by_region_file /opt/data/data/eur_ld.bed.gz -gwas_file /opt/data/projects/asthma-copd/results/harmonized_gwas/GWAS_ACO_GLM_SNPs_info0.7-harmonized.txt -parquet_genotype /opt/data/data/phenomexcan/ld_blocks/reference_panel_1000G/chr19.variants.parquet -parquet_genotype_metadata /opt/data/data/phenomexcan/ld_blocks/reference_panel_1000G/variant_metadata.parquet -window 100000 -parsimony 7 -chromosome 19 -regularization 0.1 -frequency_filter 0.01 -sub_batches 10 -sub_batch 1 --standardise_dosages -output /opt/data/projects/asthma-copd/results/imputed_gwas/GWAS_ACO_GLM_SNPs_info0.7-harmonized-imputed-chr19-batch1_10.txt\n",
      "+ set +x\n",
      "+ /opt/data/software/conda_envs/summary_gwas_imputation/bin/python /opt/data/software/summary-gwas-imputation/src/gwas_summary_imputation.py -by_region_file /opt/data/data/eur_ld.bed.gz -gwas_file /opt/data/projects/asthma-copd/results/harmonized_gwas/GWAS_ACO_GLM_SNPs_info0.7-harmonized.txt -parquet_genotype /opt/data/data/phenomexcan/ld_blocks/reference_panel_1000G/chr19.variants.parquet -parquet_genotype_metadata /opt/data/data/phenomexcan/ld_blocks/reference_panel_1000G/variant_metadata.parquet -window 100000 -parsimony 7 -chromosome 19 -regularization 0.1 -frequency_filter 0.01 -sub_batches 10 -sub_batch 2 --standardise_dosages -output /opt/data/projects/asthma-copd/results/imputed_gwas/GWAS_ACO_GLM_SNPs_info0.7-harmonized-imputed-chr19-batch2_10.txt\n",
      "+ set +x\n"
     ]
    },
    {
     "name": "stdout",
     "output_type": "stream",
     "text": [
      "Running for aco, 19, 3\n",
      "Saving results in /opt/data/projects/asthma-copd/results/imputed_gwas\n",
      "/opt/data/software/conda_envs/summary_gwas_imputation/lib/python3.7/site-packages/pyarrow/pandas_compat.py:752: FutureWarning: .labels was deprecated in version 0.24.0. Use .codes instead.\n",
      "\n",
      "Running for aco, 19, 4\n",
      "Saving results in /opt/data/projects/asthma-copd/results/imputed_gwas\n",
      "/opt/data/software/conda_envs/summary_gwas_imputation/lib/python3.7/site-packages/pyarrow/pandas_compat.py:752: FutureWarning: .labels was deprecated in version 0.24.0. Use .codes instead.\n",
      "\n",
      "Running for aco, 19, 5\n",
      "Saving results in /opt/data/projects/asthma-copd/results/imputed_gwas\n",
      "/opt/data/software/conda_envs/summary_gwas_imputation/lib/python3.7/site-packages/pyarrow/pandas_compat.py:752: FutureWarning: .labels was deprecated in version 0.24.0. Use .codes instead.\n",
      "\n"
     ]
    },
    {
     "name": "stderr",
     "output_type": "stream",
     "text": [
      "+ /opt/data/software/conda_envs/summary_gwas_imputation/bin/python /opt/data/software/summary-gwas-imputation/src/gwas_summary_imputation.py -by_region_file /opt/data/data/eur_ld.bed.gz -gwas_file /opt/data/projects/asthma-copd/results/harmonized_gwas/GWAS_ACO_GLM_SNPs_info0.7-harmonized.txt -parquet_genotype /opt/data/data/phenomexcan/ld_blocks/reference_panel_1000G/chr19.variants.parquet -parquet_genotype_metadata /opt/data/data/phenomexcan/ld_blocks/reference_panel_1000G/variant_metadata.parquet -window 100000 -parsimony 7 -chromosome 19 -regularization 0.1 -frequency_filter 0.01 -sub_batches 10 -sub_batch 3 --standardise_dosages -output /opt/data/projects/asthma-copd/results/imputed_gwas/GWAS_ACO_GLM_SNPs_info0.7-harmonized-imputed-chr19-batch3_10.txt\n",
      "+ set +x\n",
      "+ /opt/data/software/conda_envs/summary_gwas_imputation/bin/python /opt/data/software/summary-gwas-imputation/src/gwas_summary_imputation.py -by_region_file /opt/data/data/eur_ld.bed.gz -gwas_file /opt/data/projects/asthma-copd/results/harmonized_gwas/GWAS_ACO_GLM_SNPs_info0.7-harmonized.txt -parquet_genotype /opt/data/data/phenomexcan/ld_blocks/reference_panel_1000G/chr19.variants.parquet -parquet_genotype_metadata /opt/data/data/phenomexcan/ld_blocks/reference_panel_1000G/variant_metadata.parquet -window 100000 -parsimony 7 -chromosome 19 -regularization 0.1 -frequency_filter 0.01 -sub_batches 10 -sub_batch 4 --standardise_dosages -output /opt/data/projects/asthma-copd/results/imputed_gwas/GWAS_ACO_GLM_SNPs_info0.7-harmonized-imputed-chr19-batch4_10.txt\n",
      "+ set +x\n",
      "+ /opt/data/software/conda_envs/summary_gwas_imputation/bin/python /opt/data/software/summary-gwas-imputation/src/gwas_summary_imputation.py -by_region_file /opt/data/data/eur_ld.bed.gz -gwas_file /opt/data/projects/asthma-copd/results/harmonized_gwas/GWAS_ACO_GLM_SNPs_info0.7-harmonized.txt -parquet_genotype /opt/data/data/phenomexcan/ld_blocks/reference_panel_1000G/chr19.variants.parquet -parquet_genotype_metadata /opt/data/data/phenomexcan/ld_blocks/reference_panel_1000G/variant_metadata.parquet -window 100000 -parsimony 7 -chromosome 19 -regularization 0.1 -frequency_filter 0.01 -sub_batches 10 -sub_batch 5 --standardise_dosages -output /opt/data/projects/asthma-copd/results/imputed_gwas/GWAS_ACO_GLM_SNPs_info0.7-harmonized-imputed-chr19-batch5_10.txt\n",
      "+ set +x\n"
     ]
    },
    {
     "name": "stdout",
     "output_type": "stream",
     "text": [
      "Running for aco, 19, 6\n",
      "Saving results in /opt/data/projects/asthma-copd/results/imputed_gwas\n",
      "/opt/data/software/conda_envs/summary_gwas_imputation/lib/python3.7/site-packages/pyarrow/pandas_compat.py:752: FutureWarning: .labels was deprecated in version 0.24.0. Use .codes instead.\n",
      "\n",
      "Running for aco, 19, 7\n",
      "Saving results in /opt/data/projects/asthma-copd/results/imputed_gwas\n",
      "/opt/data/software/conda_envs/summary_gwas_imputation/lib/python3.7/site-packages/pyarrow/pandas_compat.py:752: FutureWarning: .labels was deprecated in version 0.24.0. Use .codes instead.\n",
      "\n",
      "Running for aco, 19, 8\n",
      "Saving results in /opt/data/projects/asthma-copd/results/imputed_gwas\n",
      "/opt/data/software/conda_envs/summary_gwas_imputation/lib/python3.7/site-packages/pyarrow/pandas_compat.py:752: FutureWarning: .labels was deprecated in version 0.24.0. Use .codes instead.\n",
      "INFO - Error for region (19,52482037.0,54099074.0): LinAlgError('SVD did not converge')\n",
      "\n",
      "Running for aco, 19, 9\n",
      "Saving results in /opt/data/projects/asthma-copd/results/imputed_gwas\n",
      "/opt/data/software/conda_envs/summary_gwas_imputation/lib/python3.7/site-packages/pyarrow/pandas_compat.py:752: FutureWarning: .labels was deprecated in version 0.24.0. Use .codes instead.\n",
      "\n",
      "Running for aco, 20, 0\n",
      "Saving results in /opt/data/projects/asthma-copd/results/imputed_gwas\n",
      "/opt/data/software/conda_envs/summary_gwas_imputation/lib/python3.7/site-packages/pyarrow/pandas_compat.py:752: FutureWarning: .labels was deprecated in version 0.24.0. Use .codes instead.\n",
      "INFO - Error for region (20,79838.0,716956.0): LinAlgError('SVD did not converge')\n",
      "\n",
      "Running for aco, 20, 1\n",
      "Saving results in /opt/data/projects/asthma-copd/results/imputed_gwas\n",
      "/opt/data/software/conda_envs/summary_gwas_imputation/lib/python3.7/site-packages/pyarrow/pandas_compat.py:752: FutureWarning: .labels was deprecated in version 0.24.0. Use .codes instead.\n",
      "\n",
      "Running for aco, 20, 2\n",
      "Saving results in /opt/data/projects/asthma-copd/results/imputed_gwas\n",
      "/opt/data/software/conda_envs/summary_gwas_imputation/lib/python3.7/site-packages/pyarrow/pandas_compat.py:752: FutureWarning: .labels was deprecated in version 0.24.0. Use .codes instead.\n",
      "\n",
      "Running for aco, 20, 3\n",
      "Saving results in /opt/data/projects/asthma-copd/results/imputed_gwas\n",
      "/opt/data/software/conda_envs/summary_gwas_imputation/lib/python3.7/site-packages/pyarrow/pandas_compat.py:752: FutureWarning: .labels was deprecated in version 0.24.0. Use .codes instead.\n",
      "\n",
      "Running for aco, 20, 4\n",
      "Saving results in /opt/data/projects/asthma-copd/results/imputed_gwas\n",
      "/opt/data/software/conda_envs/summary_gwas_imputation/lib/python3.7/site-packages/pyarrow/pandas_compat.py:752: FutureWarning: .labels was deprecated in version 0.24.0. Use .codes instead.\n",
      "INFO - Error for region (20,25363595.0,33027017.0): TypeError(\"unsupported operand type(s) for +: 'float' and 'NoneType'\")\n",
      "\n",
      "Running for aco, 20, 5\n",
      "Saving results in /opt/data/projects/asthma-copd/results/imputed_gwas\n",
      "/opt/data/software/conda_envs/summary_gwas_imputation/lib/python3.7/site-packages/pyarrow/pandas_compat.py:752: FutureWarning: .labels was deprecated in version 0.24.0. Use .codes instead.\n",
      "\n",
      "Running for aco, 20, 6\n",
      "Saving results in /opt/data/projects/asthma-copd/results/imputed_gwas\n",
      "/opt/data/software/conda_envs/summary_gwas_imputation/lib/python3.7/site-packages/pyarrow/pandas_compat.py:752: FutureWarning: .labels was deprecated in version 0.24.0. Use .codes instead.\n",
      "\n",
      "Running for aco, 20, 7\n",
      "Saving results in /opt/data/projects/asthma-copd/results/imputed_gwas\n"
     ]
    },
    {
     "name": "stderr",
     "output_type": "stream",
     "text": [
      "+ /opt/data/software/conda_envs/summary_gwas_imputation/bin/python /opt/data/software/summary-gwas-imputation/src/gwas_summary_imputation.py -by_region_file /opt/data/data/eur_ld.bed.gz -gwas_file /opt/data/projects/asthma-copd/results/harmonized_gwas/GWAS_ACO_GLM_SNPs_info0.7-harmonized.txt -parquet_genotype /opt/data/data/phenomexcan/ld_blocks/reference_panel_1000G/chr19.variants.parquet -parquet_genotype_metadata /opt/data/data/phenomexcan/ld_blocks/reference_panel_1000G/variant_metadata.parquet -window 100000 -parsimony 7 -chromosome 19 -regularization 0.1 -frequency_filter 0.01 -sub_batches 10 -sub_batch 6 --standardise_dosages -output /opt/data/projects/asthma-copd/results/imputed_gwas/GWAS_ACO_GLM_SNPs_info0.7-harmonized-imputed-chr19-batch6_10.txt\n",
      "+ set +x\n",
      "+ /opt/data/software/conda_envs/summary_gwas_imputation/bin/python /opt/data/software/summary-gwas-imputation/src/gwas_summary_imputation.py -by_region_file /opt/data/data/eur_ld.bed.gz -gwas_file /opt/data/projects/asthma-copd/results/harmonized_gwas/GWAS_ACO_GLM_SNPs_info0.7-harmonized.txt -parquet_genotype /opt/data/data/phenomexcan/ld_blocks/reference_panel_1000G/chr19.variants.parquet -parquet_genotype_metadata /opt/data/data/phenomexcan/ld_blocks/reference_panel_1000G/variant_metadata.parquet -window 100000 -parsimony 7 -chromosome 19 -regularization 0.1 -frequency_filter 0.01 -sub_batches 10 -sub_batch 7 --standardise_dosages -output /opt/data/projects/asthma-copd/results/imputed_gwas/GWAS_ACO_GLM_SNPs_info0.7-harmonized-imputed-chr19-batch7_10.txt\n",
      "+ set +x\n",
      "+ /opt/data/software/conda_envs/summary_gwas_imputation/bin/python /opt/data/software/summary-gwas-imputation/src/gwas_summary_imputation.py -by_region_file /opt/data/data/eur_ld.bed.gz -gwas_file /opt/data/projects/asthma-copd/results/harmonized_gwas/GWAS_ACO_GLM_SNPs_info0.7-harmonized.txt -parquet_genotype /opt/data/data/phenomexcan/ld_blocks/reference_panel_1000G/chr19.variants.parquet -parquet_genotype_metadata /opt/data/data/phenomexcan/ld_blocks/reference_panel_1000G/variant_metadata.parquet -window 100000 -parsimony 7 -chromosome 19 -regularization 0.1 -frequency_filter 0.01 -sub_batches 10 -sub_batch 8 --standardise_dosages -output /opt/data/projects/asthma-copd/results/imputed_gwas/GWAS_ACO_GLM_SNPs_info0.7-harmonized-imputed-chr19-batch8_10.txt\n",
      "+ set +x\n",
      "+ /opt/data/software/conda_envs/summary_gwas_imputation/bin/python /opt/data/software/summary-gwas-imputation/src/gwas_summary_imputation.py -by_region_file /opt/data/data/eur_ld.bed.gz -gwas_file /opt/data/projects/asthma-copd/results/harmonized_gwas/GWAS_ACO_GLM_SNPs_info0.7-harmonized.txt -parquet_genotype /opt/data/data/phenomexcan/ld_blocks/reference_panel_1000G/chr19.variants.parquet -parquet_genotype_metadata /opt/data/data/phenomexcan/ld_blocks/reference_panel_1000G/variant_metadata.parquet -window 100000 -parsimony 7 -chromosome 19 -regularization 0.1 -frequency_filter 0.01 -sub_batches 10 -sub_batch 9 --standardise_dosages -output /opt/data/projects/asthma-copd/results/imputed_gwas/GWAS_ACO_GLM_SNPs_info0.7-harmonized-imputed-chr19-batch9_10.txt\n",
      "+ set +x\n",
      "+ /opt/data/software/conda_envs/summary_gwas_imputation/bin/python /opt/data/software/summary-gwas-imputation/src/gwas_summary_imputation.py -by_region_file /opt/data/data/eur_ld.bed.gz -gwas_file /opt/data/projects/asthma-copd/results/harmonized_gwas/GWAS_ACO_GLM_SNPs_info0.7-harmonized.txt -parquet_genotype /opt/data/data/phenomexcan/ld_blocks/reference_panel_1000G/chr20.variants.parquet -parquet_genotype_metadata /opt/data/data/phenomexcan/ld_blocks/reference_panel_1000G/variant_metadata.parquet -window 100000 -parsimony 7 -chromosome 20 -regularization 0.1 -frequency_filter 0.01 -sub_batches 10 -sub_batch 0 --standardise_dosages -output /opt/data/projects/asthma-copd/results/imputed_gwas/GWAS_ACO_GLM_SNPs_info0.7-harmonized-imputed-chr20-batch0_10.txt\n",
      "+ set +x\n",
      "+ /opt/data/software/conda_envs/summary_gwas_imputation/bin/python /opt/data/software/summary-gwas-imputation/src/gwas_summary_imputation.py -by_region_file /opt/data/data/eur_ld.bed.gz -gwas_file /opt/data/projects/asthma-copd/results/harmonized_gwas/GWAS_ACO_GLM_SNPs_info0.7-harmonized.txt -parquet_genotype /opt/data/data/phenomexcan/ld_blocks/reference_panel_1000G/chr20.variants.parquet -parquet_genotype_metadata /opt/data/data/phenomexcan/ld_blocks/reference_panel_1000G/variant_metadata.parquet -window 100000 -parsimony 7 -chromosome 20 -regularization 0.1 -frequency_filter 0.01 -sub_batches 10 -sub_batch 1 --standardise_dosages -output /opt/data/projects/asthma-copd/results/imputed_gwas/GWAS_ACO_GLM_SNPs_info0.7-harmonized-imputed-chr20-batch1_10.txt\n",
      "+ set +x\n",
      "+ /opt/data/software/conda_envs/summary_gwas_imputation/bin/python /opt/data/software/summary-gwas-imputation/src/gwas_summary_imputation.py -by_region_file /opt/data/data/eur_ld.bed.gz -gwas_file /opt/data/projects/asthma-copd/results/harmonized_gwas/GWAS_ACO_GLM_SNPs_info0.7-harmonized.txt -parquet_genotype /opt/data/data/phenomexcan/ld_blocks/reference_panel_1000G/chr20.variants.parquet -parquet_genotype_metadata /opt/data/data/phenomexcan/ld_blocks/reference_panel_1000G/variant_metadata.parquet -window 100000 -parsimony 7 -chromosome 20 -regularization 0.1 -frequency_filter 0.01 -sub_batches 10 -sub_batch 2 --standardise_dosages -output /opt/data/projects/asthma-copd/results/imputed_gwas/GWAS_ACO_GLM_SNPs_info0.7-harmonized-imputed-chr20-batch2_10.txt\n",
      "+ set +x\n",
      "+ /opt/data/software/conda_envs/summary_gwas_imputation/bin/python /opt/data/software/summary-gwas-imputation/src/gwas_summary_imputation.py -by_region_file /opt/data/data/eur_ld.bed.gz -gwas_file /opt/data/projects/asthma-copd/results/harmonized_gwas/GWAS_ACO_GLM_SNPs_info0.7-harmonized.txt -parquet_genotype /opt/data/data/phenomexcan/ld_blocks/reference_panel_1000G/chr20.variants.parquet -parquet_genotype_metadata /opt/data/data/phenomexcan/ld_blocks/reference_panel_1000G/variant_metadata.parquet -window 100000 -parsimony 7 -chromosome 20 -regularization 0.1 -frequency_filter 0.01 -sub_batches 10 -sub_batch 3 --standardise_dosages -output /opt/data/projects/asthma-copd/results/imputed_gwas/GWAS_ACO_GLM_SNPs_info0.7-harmonized-imputed-chr20-batch3_10.txt\n",
      "+ set +x\n",
      "+ /opt/data/software/conda_envs/summary_gwas_imputation/bin/python /opt/data/software/summary-gwas-imputation/src/gwas_summary_imputation.py -by_region_file /opt/data/data/eur_ld.bed.gz -gwas_file /opt/data/projects/asthma-copd/results/harmonized_gwas/GWAS_ACO_GLM_SNPs_info0.7-harmonized.txt -parquet_genotype /opt/data/data/phenomexcan/ld_blocks/reference_panel_1000G/chr20.variants.parquet -parquet_genotype_metadata /opt/data/data/phenomexcan/ld_blocks/reference_panel_1000G/variant_metadata.parquet -window 100000 -parsimony 7 -chromosome 20 -regularization 0.1 -frequency_filter 0.01 -sub_batches 10 -sub_batch 4 --standardise_dosages -output /opt/data/projects/asthma-copd/results/imputed_gwas/GWAS_ACO_GLM_SNPs_info0.7-harmonized-imputed-chr20-batch4_10.txt\n",
      "+ set +x\n",
      "+ /opt/data/software/conda_envs/summary_gwas_imputation/bin/python /opt/data/software/summary-gwas-imputation/src/gwas_summary_imputation.py -by_region_file /opt/data/data/eur_ld.bed.gz -gwas_file /opt/data/projects/asthma-copd/results/harmonized_gwas/GWAS_ACO_GLM_SNPs_info0.7-harmonized.txt -parquet_genotype /opt/data/data/phenomexcan/ld_blocks/reference_panel_1000G/chr20.variants.parquet -parquet_genotype_metadata /opt/data/data/phenomexcan/ld_blocks/reference_panel_1000G/variant_metadata.parquet -window 100000 -parsimony 7 -chromosome 20 -regularization 0.1 -frequency_filter 0.01 -sub_batches 10 -sub_batch 5 --standardise_dosages -output /opt/data/projects/asthma-copd/results/imputed_gwas/GWAS_ACO_GLM_SNPs_info0.7-harmonized-imputed-chr20-batch5_10.txt\n",
      "+ set +x\n",
      "+ /opt/data/software/conda_envs/summary_gwas_imputation/bin/python /opt/data/software/summary-gwas-imputation/src/gwas_summary_imputation.py -by_region_file /opt/data/data/eur_ld.bed.gz -gwas_file /opt/data/projects/asthma-copd/results/harmonized_gwas/GWAS_ACO_GLM_SNPs_info0.7-harmonized.txt -parquet_genotype /opt/data/data/phenomexcan/ld_blocks/reference_panel_1000G/chr20.variants.parquet -parquet_genotype_metadata /opt/data/data/phenomexcan/ld_blocks/reference_panel_1000G/variant_metadata.parquet -window 100000 -parsimony 7 -chromosome 20 -regularization 0.1 -frequency_filter 0.01 -sub_batches 10 -sub_batch 6 --standardise_dosages -output /opt/data/projects/asthma-copd/results/imputed_gwas/GWAS_ACO_GLM_SNPs_info0.7-harmonized-imputed-chr20-batch6_10.txt\n",
      "+ set +x\n",
      "+ /opt/data/software/conda_envs/summary_gwas_imputation/bin/python /opt/data/software/summary-gwas-imputation/src/gwas_summary_imputation.py -by_region_file /opt/data/data/eur_ld.bed.gz -gwas_file /opt/data/projects/asthma-copd/results/harmonized_gwas/GWAS_ACO_GLM_SNPs_info0.7-harmonized.txt -parquet_genotype /opt/data/data/phenomexcan/ld_blocks/reference_panel_1000G/chr20.variants.parquet -parquet_genotype_metadata /opt/data/data/phenomexcan/ld_blocks/reference_panel_1000G/variant_metadata.parquet -window 100000 -parsimony 7 -chromosome 20 -regularization 0.1 -frequency_filter 0.01 -sub_batches 10 -sub_batch 7 --standardise_dosages -output /opt/data/projects/asthma-copd/results/imputed_gwas/GWAS_ACO_GLM_SNPs_info0.7-harmonized-imputed-chr20-batch7_10.txt\n"
     ]
    },
    {
     "name": "stdout",
     "output_type": "stream",
     "text": [
      "/opt/data/software/conda_envs/summary_gwas_imputation/lib/python3.7/site-packages/pyarrow/pandas_compat.py:752: FutureWarning: .labels was deprecated in version 0.24.0. Use .codes instead.\n",
      "\n"
     ]
    },
    {
     "name": "stderr",
     "output_type": "stream",
     "text": [
      "+ set +x\n"
     ]
    },
    {
     "name": "stdout",
     "output_type": "stream",
     "text": [
      "Running for aco, 20, 8\n",
      "Saving results in /opt/data/projects/asthma-copd/results/imputed_gwas\n",
      "/opt/data/software/conda_envs/summary_gwas_imputation/lib/python3.7/site-packages/pyarrow/pandas_compat.py:752: FutureWarning: .labels was deprecated in version 0.24.0. Use .codes instead.\n",
      "\n",
      "Running for aco, 20, 9\n",
      "Saving results in /opt/data/projects/asthma-copd/results/imputed_gwas\n",
      "/opt/data/software/conda_envs/summary_gwas_imputation/lib/python3.7/site-packages/pyarrow/pandas_compat.py:752: FutureWarning: .labels was deprecated in version 0.24.0. Use .codes instead.\n",
      "\n",
      "Running for aco, 21, 0\n",
      "Saving results in /opt/data/projects/asthma-copd/results/imputed_gwas\n",
      "/opt/data/software/conda_envs/summary_gwas_imputation/lib/python3.7/site-packages/pyarrow/pandas_compat.py:752: FutureWarning: .labels was deprecated in version 0.24.0. Use .codes instead.\n",
      "\n",
      "Running for aco, 21, 1\n",
      "Saving results in /opt/data/projects/asthma-copd/results/imputed_gwas\n",
      "/opt/data/software/conda_envs/summary_gwas_imputation/lib/python3.7/site-packages/pyarrow/pandas_compat.py:752: FutureWarning: .labels was deprecated in version 0.24.0. Use .codes instead.\n",
      "\n",
      "Running for aco, 21, 2\n",
      "Saving results in /opt/data/projects/asthma-copd/results/imputed_gwas\n",
      "/opt/data/software/conda_envs/summary_gwas_imputation/lib/python3.7/site-packages/pyarrow/pandas_compat.py:752: FutureWarning: .labels was deprecated in version 0.24.0. Use .codes instead.\n",
      "\n",
      "Running for aco, 21, 3\n",
      "Saving results in /opt/data/projects/asthma-copd/results/imputed_gwas\n",
      "/opt/data/software/conda_envs/summary_gwas_imputation/lib/python3.7/site-packages/pyarrow/pandas_compat.py:752: FutureWarning: .labels was deprecated in version 0.24.0. Use .codes instead.\n",
      "\n",
      "Running for aco, 21, 4\n",
      "Saving results in /opt/data/projects/asthma-copd/results/imputed_gwas\n",
      "/opt/data/software/conda_envs/summary_gwas_imputation/lib/python3.7/site-packages/pyarrow/pandas_compat.py:752: FutureWarning: .labels was deprecated in version 0.24.0. Use .codes instead.\n",
      "\n"
     ]
    },
    {
     "name": "stderr",
     "output_type": "stream",
     "text": [
      "+ /opt/data/software/conda_envs/summary_gwas_imputation/bin/python /opt/data/software/summary-gwas-imputation/src/gwas_summary_imputation.py -by_region_file /opt/data/data/eur_ld.bed.gz -gwas_file /opt/data/projects/asthma-copd/results/harmonized_gwas/GWAS_ACO_GLM_SNPs_info0.7-harmonized.txt -parquet_genotype /opt/data/data/phenomexcan/ld_blocks/reference_panel_1000G/chr20.variants.parquet -parquet_genotype_metadata /opt/data/data/phenomexcan/ld_blocks/reference_panel_1000G/variant_metadata.parquet -window 100000 -parsimony 7 -chromosome 20 -regularization 0.1 -frequency_filter 0.01 -sub_batches 10 -sub_batch 8 --standardise_dosages -output /opt/data/projects/asthma-copd/results/imputed_gwas/GWAS_ACO_GLM_SNPs_info0.7-harmonized-imputed-chr20-batch8_10.txt\n",
      "+ set +x\n",
      "+ /opt/data/software/conda_envs/summary_gwas_imputation/bin/python /opt/data/software/summary-gwas-imputation/src/gwas_summary_imputation.py -by_region_file /opt/data/data/eur_ld.bed.gz -gwas_file /opt/data/projects/asthma-copd/results/harmonized_gwas/GWAS_ACO_GLM_SNPs_info0.7-harmonized.txt -parquet_genotype /opt/data/data/phenomexcan/ld_blocks/reference_panel_1000G/chr20.variants.parquet -parquet_genotype_metadata /opt/data/data/phenomexcan/ld_blocks/reference_panel_1000G/variant_metadata.parquet -window 100000 -parsimony 7 -chromosome 20 -regularization 0.1 -frequency_filter 0.01 -sub_batches 10 -sub_batch 9 --standardise_dosages -output /opt/data/projects/asthma-copd/results/imputed_gwas/GWAS_ACO_GLM_SNPs_info0.7-harmonized-imputed-chr20-batch9_10.txt\n",
      "+ set +x\n",
      "+ /opt/data/software/conda_envs/summary_gwas_imputation/bin/python /opt/data/software/summary-gwas-imputation/src/gwas_summary_imputation.py -by_region_file /opt/data/data/eur_ld.bed.gz -gwas_file /opt/data/projects/asthma-copd/results/harmonized_gwas/GWAS_ACO_GLM_SNPs_info0.7-harmonized.txt -parquet_genotype /opt/data/data/phenomexcan/ld_blocks/reference_panel_1000G/chr21.variants.parquet -parquet_genotype_metadata /opt/data/data/phenomexcan/ld_blocks/reference_panel_1000G/variant_metadata.parquet -window 100000 -parsimony 7 -chromosome 21 -regularization 0.1 -frequency_filter 0.01 -sub_batches 10 -sub_batch 0 --standardise_dosages -output /opt/data/projects/asthma-copd/results/imputed_gwas/GWAS_ACO_GLM_SNPs_info0.7-harmonized-imputed-chr21-batch0_10.txt\n",
      "+ set +x\n",
      "+ /opt/data/software/conda_envs/summary_gwas_imputation/bin/python /opt/data/software/summary-gwas-imputation/src/gwas_summary_imputation.py -by_region_file /opt/data/data/eur_ld.bed.gz -gwas_file /opt/data/projects/asthma-copd/results/harmonized_gwas/GWAS_ACO_GLM_SNPs_info0.7-harmonized.txt -parquet_genotype /opt/data/data/phenomexcan/ld_blocks/reference_panel_1000G/chr21.variants.parquet -parquet_genotype_metadata /opt/data/data/phenomexcan/ld_blocks/reference_panel_1000G/variant_metadata.parquet -window 100000 -parsimony 7 -chromosome 21 -regularization 0.1 -frequency_filter 0.01 -sub_batches 10 -sub_batch 1 --standardise_dosages -output /opt/data/projects/asthma-copd/results/imputed_gwas/GWAS_ACO_GLM_SNPs_info0.7-harmonized-imputed-chr21-batch1_10.txt\n",
      "+ set +x\n",
      "+ /opt/data/software/conda_envs/summary_gwas_imputation/bin/python /opt/data/software/summary-gwas-imputation/src/gwas_summary_imputation.py -by_region_file /opt/data/data/eur_ld.bed.gz -gwas_file /opt/data/projects/asthma-copd/results/harmonized_gwas/GWAS_ACO_GLM_SNPs_info0.7-harmonized.txt -parquet_genotype /opt/data/data/phenomexcan/ld_blocks/reference_panel_1000G/chr21.variants.parquet -parquet_genotype_metadata /opt/data/data/phenomexcan/ld_blocks/reference_panel_1000G/variant_metadata.parquet -window 100000 -parsimony 7 -chromosome 21 -regularization 0.1 -frequency_filter 0.01 -sub_batches 10 -sub_batch 2 --standardise_dosages -output /opt/data/projects/asthma-copd/results/imputed_gwas/GWAS_ACO_GLM_SNPs_info0.7-harmonized-imputed-chr21-batch2_10.txt\n",
      "+ set +x\n",
      "+ /opt/data/software/conda_envs/summary_gwas_imputation/bin/python /opt/data/software/summary-gwas-imputation/src/gwas_summary_imputation.py -by_region_file /opt/data/data/eur_ld.bed.gz -gwas_file /opt/data/projects/asthma-copd/results/harmonized_gwas/GWAS_ACO_GLM_SNPs_info0.7-harmonized.txt -parquet_genotype /opt/data/data/phenomexcan/ld_blocks/reference_panel_1000G/chr21.variants.parquet -parquet_genotype_metadata /opt/data/data/phenomexcan/ld_blocks/reference_panel_1000G/variant_metadata.parquet -window 100000 -parsimony 7 -chromosome 21 -regularization 0.1 -frequency_filter 0.01 -sub_batches 10 -sub_batch 3 --standardise_dosages -output /opt/data/projects/asthma-copd/results/imputed_gwas/GWAS_ACO_GLM_SNPs_info0.7-harmonized-imputed-chr21-batch3_10.txt\n",
      "+ set +x\n",
      "+ /opt/data/software/conda_envs/summary_gwas_imputation/bin/python /opt/data/software/summary-gwas-imputation/src/gwas_summary_imputation.py -by_region_file /opt/data/data/eur_ld.bed.gz -gwas_file /opt/data/projects/asthma-copd/results/harmonized_gwas/GWAS_ACO_GLM_SNPs_info0.7-harmonized.txt -parquet_genotype /opt/data/data/phenomexcan/ld_blocks/reference_panel_1000G/chr21.variants.parquet -parquet_genotype_metadata /opt/data/data/phenomexcan/ld_blocks/reference_panel_1000G/variant_metadata.parquet -window 100000 -parsimony 7 -chromosome 21 -regularization 0.1 -frequency_filter 0.01 -sub_batches 10 -sub_batch 4 --standardise_dosages -output /opt/data/projects/asthma-copd/results/imputed_gwas/GWAS_ACO_GLM_SNPs_info0.7-harmonized-imputed-chr21-batch4_10.txt\n",
      "+ set +x\n"
     ]
    },
    {
     "name": "stdout",
     "output_type": "stream",
     "text": [
      "Running for aco, 21, 5\n",
      "Saving results in /opt/data/projects/asthma-copd/results/imputed_gwas\n",
      "/opt/data/software/conda_envs/summary_gwas_imputation/lib/python3.7/site-packages/pyarrow/pandas_compat.py:752: FutureWarning: .labels was deprecated in version 0.24.0. Use .codes instead.\n",
      "\n",
      "Running for aco, 21, 6\n",
      "Saving results in /opt/data/projects/asthma-copd/results/imputed_gwas\n",
      "/opt/data/software/conda_envs/summary_gwas_imputation/lib/python3.7/site-packages/pyarrow/pandas_compat.py:752: FutureWarning: .labels was deprecated in version 0.24.0. Use .codes instead.\n",
      "\n",
      "Running for aco, 21, 7\n",
      "Saving results in /opt/data/projects/asthma-copd/results/imputed_gwas\n",
      "/opt/data/software/conda_envs/summary_gwas_imputation/lib/python3.7/site-packages/pyarrow/pandas_compat.py:752: FutureWarning: .labels was deprecated in version 0.24.0. Use .codes instead.\n",
      "\n",
      "Running for aco, 21, 8\n",
      "Saving results in /opt/data/projects/asthma-copd/results/imputed_gwas\n",
      "/opt/data/software/conda_envs/summary_gwas_imputation/lib/python3.7/site-packages/pyarrow/pandas_compat.py:752: FutureWarning: .labels was deprecated in version 0.24.0. Use .codes instead.\n",
      "\n",
      "Running for aco, 21, 9\n",
      "Saving results in /opt/data/projects/asthma-copd/results/imputed_gwas\n",
      "/opt/data/software/conda_envs/summary_gwas_imputation/lib/python3.7/site-packages/pyarrow/pandas_compat.py:752: FutureWarning: .labels was deprecated in version 0.24.0. Use .codes instead.\n",
      "\n",
      "Running for aco, 22, 0\n",
      "Saving results in /opt/data/projects/asthma-copd/results/imputed_gwas\n",
      "/opt/data/software/conda_envs/summary_gwas_imputation/lib/python3.7/site-packages/pyarrow/pandas_compat.py:752: FutureWarning: .labels was deprecated in version 0.24.0. Use .codes instead.\n",
      "\n",
      "Running for aco, 22, 1\n",
      "Saving results in /opt/data/projects/asthma-copd/results/imputed_gwas\n",
      "/opt/data/software/conda_envs/summary_gwas_imputation/lib/python3.7/site-packages/pyarrow/pandas_compat.py:752: FutureWarning: .labels was deprecated in version 0.24.0. Use .codes instead.\n",
      "\n",
      "Running for aco, 22, 2\n",
      "Saving results in /opt/data/projects/asthma-copd/results/imputed_gwas\n",
      "/opt/data/software/conda_envs/summary_gwas_imputation/lib/python3.7/site-packages/pyarrow/pandas_compat.py:752: FutureWarning: .labels was deprecated in version 0.24.0. Use .codes instead.\n",
      "\n",
      "Running for aco, 22, 3\n",
      "Saving results in /opt/data/projects/asthma-copd/results/imputed_gwas\n",
      "/opt/data/software/conda_envs/summary_gwas_imputation/lib/python3.7/site-packages/pyarrow/pandas_compat.py:752: FutureWarning: .labels was deprecated in version 0.24.0. Use .codes instead.\n",
      "\n",
      "Running for aco, 22, 4\n",
      "Saving results in /opt/data/projects/asthma-copd/results/imputed_gwas\n",
      "/opt/data/software/conda_envs/summary_gwas_imputation/lib/python3.7/site-packages/pyarrow/pandas_compat.py:752: FutureWarning: .labels was deprecated in version 0.24.0. Use .codes instead.\n",
      "\n",
      "Running for aco, 22, 5\n",
      "Saving results in /opt/data/projects/asthma-copd/results/imputed_gwas\n",
      "/opt/data/software/conda_envs/summary_gwas_imputation/lib/python3.7/site-packages/pyarrow/pandas_compat.py:752: FutureWarning: .labels was deprecated in version 0.24.0. Use .codes instead.\n",
      "\n",
      "Running for aco, 22, 6\n",
      "Saving results in /opt/data/projects/asthma-copd/results/imputed_gwas\n",
      "/opt/data/software/conda_envs/summary_gwas_imputation/lib/python3.7/site-packages/pyarrow/pandas_compat.py:752: FutureWarning: .labels was deprecated in version 0.24.0. Use .codes instead.\n",
      "\n",
      "Running for aco, 22, 7\n",
      "Saving results in /opt/data/projects/asthma-copd/results/imputed_gwas\n",
      "/opt/data/software/conda_envs/summary_gwas_imputation/lib/python3.7/site-packages/pyarrow/pandas_compat.py:752: FutureWarning: .labels was deprecated in version 0.24.0. Use .codes instead.\n",
      "\n",
      "Running for aco, 22, 8\n",
      "Saving results in /opt/data/projects/asthma-copd/results/imputed_gwas\n",
      "/opt/data/software/conda_envs/summary_gwas_imputation/lib/python3.7/site-packages/pyarrow/pandas_compat.py:752: FutureWarning: .labels was deprecated in version 0.24.0. Use .codes instead.\n",
      "\n",
      "Running for aco, 22, 9\n",
      "Saving results in /opt/data/projects/asthma-copd/results/imputed_gwas\n",
      "/opt/data/software/conda_envs/summary_gwas_imputation/lib/python3.7/site-packages/pyarrow/pandas_compat.py:752: FutureWarning: .labels was deprecated in version 0.24.0. Use .codes instead.\n",
      "INFO - Error for region (22,48507891.0,49430885.0): LinAlgError('SVD did not converge')\n",
      "\n"
     ]
    },
    {
     "name": "stderr",
     "output_type": "stream",
     "text": [
      "+ /opt/data/software/conda_envs/summary_gwas_imputation/bin/python /opt/data/software/summary-gwas-imputation/src/gwas_summary_imputation.py -by_region_file /opt/data/data/eur_ld.bed.gz -gwas_file /opt/data/projects/asthma-copd/results/harmonized_gwas/GWAS_ACO_GLM_SNPs_info0.7-harmonized.txt -parquet_genotype /opt/data/data/phenomexcan/ld_blocks/reference_panel_1000G/chr21.variants.parquet -parquet_genotype_metadata /opt/data/data/phenomexcan/ld_blocks/reference_panel_1000G/variant_metadata.parquet -window 100000 -parsimony 7 -chromosome 21 -regularization 0.1 -frequency_filter 0.01 -sub_batches 10 -sub_batch 5 --standardise_dosages -output /opt/data/projects/asthma-copd/results/imputed_gwas/GWAS_ACO_GLM_SNPs_info0.7-harmonized-imputed-chr21-batch5_10.txt\n",
      "+ set +x\n",
      "+ /opt/data/software/conda_envs/summary_gwas_imputation/bin/python /opt/data/software/summary-gwas-imputation/src/gwas_summary_imputation.py -by_region_file /opt/data/data/eur_ld.bed.gz -gwas_file /opt/data/projects/asthma-copd/results/harmonized_gwas/GWAS_ACO_GLM_SNPs_info0.7-harmonized.txt -parquet_genotype /opt/data/data/phenomexcan/ld_blocks/reference_panel_1000G/chr21.variants.parquet -parquet_genotype_metadata /opt/data/data/phenomexcan/ld_blocks/reference_panel_1000G/variant_metadata.parquet -window 100000 -parsimony 7 -chromosome 21 -regularization 0.1 -frequency_filter 0.01 -sub_batches 10 -sub_batch 6 --standardise_dosages -output /opt/data/projects/asthma-copd/results/imputed_gwas/GWAS_ACO_GLM_SNPs_info0.7-harmonized-imputed-chr21-batch6_10.txt\n",
      "+ set +x\n",
      "+ /opt/data/software/conda_envs/summary_gwas_imputation/bin/python /opt/data/software/summary-gwas-imputation/src/gwas_summary_imputation.py -by_region_file /opt/data/data/eur_ld.bed.gz -gwas_file /opt/data/projects/asthma-copd/results/harmonized_gwas/GWAS_ACO_GLM_SNPs_info0.7-harmonized.txt -parquet_genotype /opt/data/data/phenomexcan/ld_blocks/reference_panel_1000G/chr21.variants.parquet -parquet_genotype_metadata /opt/data/data/phenomexcan/ld_blocks/reference_panel_1000G/variant_metadata.parquet -window 100000 -parsimony 7 -chromosome 21 -regularization 0.1 -frequency_filter 0.01 -sub_batches 10 -sub_batch 7 --standardise_dosages -output /opt/data/projects/asthma-copd/results/imputed_gwas/GWAS_ACO_GLM_SNPs_info0.7-harmonized-imputed-chr21-batch7_10.txt\n",
      "+ set +x\n",
      "+ /opt/data/software/conda_envs/summary_gwas_imputation/bin/python /opt/data/software/summary-gwas-imputation/src/gwas_summary_imputation.py -by_region_file /opt/data/data/eur_ld.bed.gz -gwas_file /opt/data/projects/asthma-copd/results/harmonized_gwas/GWAS_ACO_GLM_SNPs_info0.7-harmonized.txt -parquet_genotype /opt/data/data/phenomexcan/ld_blocks/reference_panel_1000G/chr21.variants.parquet -parquet_genotype_metadata /opt/data/data/phenomexcan/ld_blocks/reference_panel_1000G/variant_metadata.parquet -window 100000 -parsimony 7 -chromosome 21 -regularization 0.1 -frequency_filter 0.01 -sub_batches 10 -sub_batch 8 --standardise_dosages -output /opt/data/projects/asthma-copd/results/imputed_gwas/GWAS_ACO_GLM_SNPs_info0.7-harmonized-imputed-chr21-batch8_10.txt\n",
      "+ set +x\n",
      "+ /opt/data/software/conda_envs/summary_gwas_imputation/bin/python /opt/data/software/summary-gwas-imputation/src/gwas_summary_imputation.py -by_region_file /opt/data/data/eur_ld.bed.gz -gwas_file /opt/data/projects/asthma-copd/results/harmonized_gwas/GWAS_ACO_GLM_SNPs_info0.7-harmonized.txt -parquet_genotype /opt/data/data/phenomexcan/ld_blocks/reference_panel_1000G/chr21.variants.parquet -parquet_genotype_metadata /opt/data/data/phenomexcan/ld_blocks/reference_panel_1000G/variant_metadata.parquet -window 100000 -parsimony 7 -chromosome 21 -regularization 0.1 -frequency_filter 0.01 -sub_batches 10 -sub_batch 9 --standardise_dosages -output /opt/data/projects/asthma-copd/results/imputed_gwas/GWAS_ACO_GLM_SNPs_info0.7-harmonized-imputed-chr21-batch9_10.txt\n",
      "+ set +x\n",
      "+ /opt/data/software/conda_envs/summary_gwas_imputation/bin/python /opt/data/software/summary-gwas-imputation/src/gwas_summary_imputation.py -by_region_file /opt/data/data/eur_ld.bed.gz -gwas_file /opt/data/projects/asthma-copd/results/harmonized_gwas/GWAS_ACO_GLM_SNPs_info0.7-harmonized.txt -parquet_genotype /opt/data/data/phenomexcan/ld_blocks/reference_panel_1000G/chr22.variants.parquet -parquet_genotype_metadata /opt/data/data/phenomexcan/ld_blocks/reference_panel_1000G/variant_metadata.parquet -window 100000 -parsimony 7 -chromosome 22 -regularization 0.1 -frequency_filter 0.01 -sub_batches 10 -sub_batch 0 --standardise_dosages -output /opt/data/projects/asthma-copd/results/imputed_gwas/GWAS_ACO_GLM_SNPs_info0.7-harmonized-imputed-chr22-batch0_10.txt\n",
      "+ set +x\n",
      "+ /opt/data/software/conda_envs/summary_gwas_imputation/bin/python /opt/data/software/summary-gwas-imputation/src/gwas_summary_imputation.py -by_region_file /opt/data/data/eur_ld.bed.gz -gwas_file /opt/data/projects/asthma-copd/results/harmonized_gwas/GWAS_ACO_GLM_SNPs_info0.7-harmonized.txt -parquet_genotype /opt/data/data/phenomexcan/ld_blocks/reference_panel_1000G/chr22.variants.parquet -parquet_genotype_metadata /opt/data/data/phenomexcan/ld_blocks/reference_panel_1000G/variant_metadata.parquet -window 100000 -parsimony 7 -chromosome 22 -regularization 0.1 -frequency_filter 0.01 -sub_batches 10 -sub_batch 1 --standardise_dosages -output /opt/data/projects/asthma-copd/results/imputed_gwas/GWAS_ACO_GLM_SNPs_info0.7-harmonized-imputed-chr22-batch1_10.txt\n",
      "+ set +x\n",
      "+ /opt/data/software/conda_envs/summary_gwas_imputation/bin/python /opt/data/software/summary-gwas-imputation/src/gwas_summary_imputation.py -by_region_file /opt/data/data/eur_ld.bed.gz -gwas_file /opt/data/projects/asthma-copd/results/harmonized_gwas/GWAS_ACO_GLM_SNPs_info0.7-harmonized.txt -parquet_genotype /opt/data/data/phenomexcan/ld_blocks/reference_panel_1000G/chr22.variants.parquet -parquet_genotype_metadata /opt/data/data/phenomexcan/ld_blocks/reference_panel_1000G/variant_metadata.parquet -window 100000 -parsimony 7 -chromosome 22 -regularization 0.1 -frequency_filter 0.01 -sub_batches 10 -sub_batch 2 --standardise_dosages -output /opt/data/projects/asthma-copd/results/imputed_gwas/GWAS_ACO_GLM_SNPs_info0.7-harmonized-imputed-chr22-batch2_10.txt\n",
      "+ set +x\n",
      "+ /opt/data/software/conda_envs/summary_gwas_imputation/bin/python /opt/data/software/summary-gwas-imputation/src/gwas_summary_imputation.py -by_region_file /opt/data/data/eur_ld.bed.gz -gwas_file /opt/data/projects/asthma-copd/results/harmonized_gwas/GWAS_ACO_GLM_SNPs_info0.7-harmonized.txt -parquet_genotype /opt/data/data/phenomexcan/ld_blocks/reference_panel_1000G/chr22.variants.parquet -parquet_genotype_metadata /opt/data/data/phenomexcan/ld_blocks/reference_panel_1000G/variant_metadata.parquet -window 100000 -parsimony 7 -chromosome 22 -regularization 0.1 -frequency_filter 0.01 -sub_batches 10 -sub_batch 3 --standardise_dosages -output /opt/data/projects/asthma-copd/results/imputed_gwas/GWAS_ACO_GLM_SNPs_info0.7-harmonized-imputed-chr22-batch3_10.txt\n",
      "+ set +x\n",
      "+ /opt/data/software/conda_envs/summary_gwas_imputation/bin/python /opt/data/software/summary-gwas-imputation/src/gwas_summary_imputation.py -by_region_file /opt/data/data/eur_ld.bed.gz -gwas_file /opt/data/projects/asthma-copd/results/harmonized_gwas/GWAS_ACO_GLM_SNPs_info0.7-harmonized.txt -parquet_genotype /opt/data/data/phenomexcan/ld_blocks/reference_panel_1000G/chr22.variants.parquet -parquet_genotype_metadata /opt/data/data/phenomexcan/ld_blocks/reference_panel_1000G/variant_metadata.parquet -window 100000 -parsimony 7 -chromosome 22 -regularization 0.1 -frequency_filter 0.01 -sub_batches 10 -sub_batch 4 --standardise_dosages -output /opt/data/projects/asthma-copd/results/imputed_gwas/GWAS_ACO_GLM_SNPs_info0.7-harmonized-imputed-chr22-batch4_10.txt\n",
      "+ set +x\n",
      "+ /opt/data/software/conda_envs/summary_gwas_imputation/bin/python /opt/data/software/summary-gwas-imputation/src/gwas_summary_imputation.py -by_region_file /opt/data/data/eur_ld.bed.gz -gwas_file /opt/data/projects/asthma-copd/results/harmonized_gwas/GWAS_ACO_GLM_SNPs_info0.7-harmonized.txt -parquet_genotype /opt/data/data/phenomexcan/ld_blocks/reference_panel_1000G/chr22.variants.parquet -parquet_genotype_metadata /opt/data/data/phenomexcan/ld_blocks/reference_panel_1000G/variant_metadata.parquet -window 100000 -parsimony 7 -chromosome 22 -regularization 0.1 -frequency_filter 0.01 -sub_batches 10 -sub_batch 5 --standardise_dosages -output /opt/data/projects/asthma-copd/results/imputed_gwas/GWAS_ACO_GLM_SNPs_info0.7-harmonized-imputed-chr22-batch5_10.txt\n",
      "+ set +x\n",
      "+ /opt/data/software/conda_envs/summary_gwas_imputation/bin/python /opt/data/software/summary-gwas-imputation/src/gwas_summary_imputation.py -by_region_file /opt/data/data/eur_ld.bed.gz -gwas_file /opt/data/projects/asthma-copd/results/harmonized_gwas/GWAS_ACO_GLM_SNPs_info0.7-harmonized.txt -parquet_genotype /opt/data/data/phenomexcan/ld_blocks/reference_panel_1000G/chr22.variants.parquet -parquet_genotype_metadata /opt/data/data/phenomexcan/ld_blocks/reference_panel_1000G/variant_metadata.parquet -window 100000 -parsimony 7 -chromosome 22 -regularization 0.1 -frequency_filter 0.01 -sub_batches 10 -sub_batch 6 --standardise_dosages -output /opt/data/projects/asthma-copd/results/imputed_gwas/GWAS_ACO_GLM_SNPs_info0.7-harmonized-imputed-chr22-batch6_10.txt\n",
      "+ set +x\n",
      "+ /opt/data/software/conda_envs/summary_gwas_imputation/bin/python /opt/data/software/summary-gwas-imputation/src/gwas_summary_imputation.py -by_region_file /opt/data/data/eur_ld.bed.gz -gwas_file /opt/data/projects/asthma-copd/results/harmonized_gwas/GWAS_ACO_GLM_SNPs_info0.7-harmonized.txt -parquet_genotype /opt/data/data/phenomexcan/ld_blocks/reference_panel_1000G/chr22.variants.parquet -parquet_genotype_metadata /opt/data/data/phenomexcan/ld_blocks/reference_panel_1000G/variant_metadata.parquet -window 100000 -parsimony 7 -chromosome 22 -regularization 0.1 -frequency_filter 0.01 -sub_batches 10 -sub_batch 7 --standardise_dosages -output /opt/data/projects/asthma-copd/results/imputed_gwas/GWAS_ACO_GLM_SNPs_info0.7-harmonized-imputed-chr22-batch7_10.txt\n",
      "+ set +x\n",
      "+ /opt/data/software/conda_envs/summary_gwas_imputation/bin/python /opt/data/software/summary-gwas-imputation/src/gwas_summary_imputation.py -by_region_file /opt/data/data/eur_ld.bed.gz -gwas_file /opt/data/projects/asthma-copd/results/harmonized_gwas/GWAS_ACO_GLM_SNPs_info0.7-harmonized.txt -parquet_genotype /opt/data/data/phenomexcan/ld_blocks/reference_panel_1000G/chr22.variants.parquet -parquet_genotype_metadata /opt/data/data/phenomexcan/ld_blocks/reference_panel_1000G/variant_metadata.parquet -window 100000 -parsimony 7 -chromosome 22 -regularization 0.1 -frequency_filter 0.01 -sub_batches 10 -sub_batch 8 --standardise_dosages -output /opt/data/projects/asthma-copd/results/imputed_gwas/GWAS_ACO_GLM_SNPs_info0.7-harmonized-imputed-chr22-batch8_10.txt\n",
      "+ set +x\n",
      "+ /opt/data/software/conda_envs/summary_gwas_imputation/bin/python /opt/data/software/summary-gwas-imputation/src/gwas_summary_imputation.py -by_region_file /opt/data/data/eur_ld.bed.gz -gwas_file /opt/data/projects/asthma-copd/results/harmonized_gwas/GWAS_ACO_GLM_SNPs_info0.7-harmonized.txt -parquet_genotype /opt/data/data/phenomexcan/ld_blocks/reference_panel_1000G/chr22.variants.parquet -parquet_genotype_metadata /opt/data/data/phenomexcan/ld_blocks/reference_panel_1000G/variant_metadata.parquet -window 100000 -parsimony 7 -chromosome 22 -regularization 0.1 -frequency_filter 0.01 -sub_batches 10 -sub_batch 9 --standardise_dosages -output /opt/data/projects/asthma-copd/results/imputed_gwas/GWAS_ACO_GLM_SNPs_info0.7-harmonized-imputed-chr22-batch9_10.txt\n",
      "+ set +x\n"
     ]
    }
   ],
   "source": [
    "%%bash -s \"$PHENOPLIER_NOTEBOOK_DIR\" \"$OUTPUT_DIR_STR\"\n",
    "set -euo pipefail\n",
    "# IFS=$'\\n\\t'\n",
    "\n",
    "# read the notebook directory parameter and remove $1\n",
    "export PHENOPLIER_NOTEBOOK_DIR=\"${PHENOPLIER_CODE_DIR}/$1\"\n",
    "shift\n",
    "\n",
    "# read output dir\n",
    "export OUTPUT_DIR=\"$1\"\n",
    "shift\n",
    "\n",
    "run_job () {\n",
    "    # run_job is a standard function name that performs a particular job\n",
    "    # depending on the context. It will be called by GNU Parallel below.\n",
    "    #\n",
    "    # The implementation here runs the GLS model of PhenoPLIER on a trait.\n",
    "\n",
    "    # read trait information\n",
    "    # the first parameter to this function is a string with values separated by\n",
    "    # commas (,). So here I split those into different variables.\n",
    "    IFS=',' read -r pheno_id file sample_size n_cases chromosome batch_id <<< \"$1\"\n",
    "\n",
    "    INPUT_FILENAME=\"${file%.*}\"\n",
    "\n",
    "    N_BATCHES=10\n",
    "\n",
    "    # IMPUTED_GWAS_DIR=\"${PHENOPLIER_PROJECTS_ASTHMA_COPD_RESULTS_DIR}/imputed_gwas\"\n",
    "    # INPUTED_GWAS_FILE_PATTERN=\"${INPUT_FILENAME}-harmonized\"\n",
    "\n",
    "    # get input GWAS file, there should be a single file\n",
    "    # here I make sure that there are no other files in the folder that\n",
    "    # match this phenotype/trait filename prefix\n",
    "    GWAS_DIR=\"${PHENOPLIER_PROJECTS_ASTHMA_COPD_RESULTS_DIR}/harmonized_gwas\"\n",
    "    N_GWAS_FILES=$(ls ${GWAS_DIR}/${INPUT_FILENAME}*.txt | wc -l)\n",
    "    if [ \"${N_GWAS_FILES}\" != \"1\" ]; then\n",
    "        echo \"ERROR: found ${N_GWAS_FILES} GWAS files instead of one\"\n",
    "        exit 1\n",
    "    fi\n",
    "    INPUT_GWAS_FILEPATH=$(ls ${GWAS_DIR}/${INPUT_FILENAME}*.txt)\n",
    "\n",
    "    mkdir -p \"${OUTPUT_DIR}\"\n",
    "\n",
    "    # make sure we are not also parallelizing within numpy, etc\n",
    "    export NUMBA_NUM_THREADS=1\n",
    "    export MKL_NUM_THREADS=1\n",
    "    export OPEN_BLAS_NUM_THREADS=1\n",
    "    export NUMEXPR_NUM_THREADS=1\n",
    "    export OMP_NUM_THREADS=1\n",
    "\n",
    "    echo \"Running for $pheno_id, $chromosome, $batch_id\"\n",
    "    echo \"Saving results in ${OUTPUT_DIR}\"\n",
    "\n",
    "    bash \"${PHENOPLIER_CODE_DIR}/scripts/gwas_impute.sh\" \\\n",
    "        --input-gwas-file \"${INPUT_GWAS_FILEPATH}\" \\\n",
    "        --chromosome \"${chromosome}\" \\\n",
    "        --n-batches \"${N_BATCHES}\" \\\n",
    "        --batch-id \"${batch_id}\" \\\n",
    "        --output-dir \"${OUTPUT_DIR}\"\n",
    "\n",
    "    # print errors here in the notebook\n",
    "    # first, look for the log file for this trait\n",
    "    pattern=\"${OUTPUT_DIR}/${INPUT_FILENAME}*-chr${chromosome}-batch${batch_id}_${N_BATCHES}*.log\"\n",
    "\n",
    "    N_LOG_FILES=$(ls ${pattern} | wc -l)\n",
    "    if [ \"${N_LOG_FILES}\" != \"1\" ]; then\n",
    "        echo \"ERROR: found ${N_LOG_FILES} log files instead of one\"\n",
    "        exit 1\n",
    "    fi\n",
    "    LOG_FILE=$(ls ${pattern})\n",
    "\n",
    "    cat \"${LOG_FILE}\" | grep -iE \"warning|error\"\n",
    "\n",
    "    echo\n",
    "}\n",
    "\n",
    "# export function so GNU Parallel can see it\n",
    "export -f run_job\n",
    "\n",
    "# generate a list of run_job calls for GNU Parallel\n",
    "# here I read a file with information about traits (one trait per line)\n",
    "while IFS= read -r line; do\n",
    "    for chromosome in {1..22}; do\n",
    "        for batch_id in {0..9}; do\n",
    "            echo run_job \"${line},${chromosome},${batch_id}\"\n",
    "            # echo run_job \"${line},1,2\"\n",
    "            # break\n",
    "        done\n",
    "        # break\n",
    "    done\n",
    "done < <(tail -n \"+2\" \"${PHENOPLIER_PROJECTS_ASTHMA_COPD_TRAITS_INFO_FILE}\") |\n",
    "    parallel -k --lb --halt 2 -j${PHENOPLIER_GENERAL_N_JOBS}"
   ]
  },
  {
   "cell_type": "markdown",
   "id": "b9de8ab0-1d95-4d08-82bb-376e704fd0df",
   "metadata": {
    "papermill": {
     "duration": 0.108142,
     "end_time": "2022-12-15T05:17:44.668377",
     "exception": false,
     "start_time": "2022-12-15T05:17:44.560235",
     "status": "completed"
    },
    "tags": []
   },
   "source": [
    "# Perform some checks in output and log files"
   ]
  },
  {
   "cell_type": "code",
   "execution_count": 7,
   "id": "a48b5427-95ab-4d89-9b09-ea9f2344a6af",
   "metadata": {
    "execution": {
     "iopub.execute_input": "2022-12-15T05:17:44.882334Z",
     "iopub.status.busy": "2022-12-15T05:17:44.882023Z",
     "iopub.status.idle": "2022-12-15T05:17:44.885450Z",
     "shell.execute_reply": "2022-12-15T05:17:44.884854Z"
    },
    "papermill": {
     "duration": 0.111686,
     "end_time": "2022-12-15T05:17:44.886366",
     "exception": false,
     "start_time": "2022-12-15T05:17:44.774680",
     "status": "completed"
    },
    "tags": []
   },
   "outputs": [],
   "source": [
    "assert OUTPUT_DIR.exists()"
   ]
  },
  {
   "cell_type": "code",
   "execution_count": 8,
   "id": "6d2b50d0-fc92-46fd-a48c-8748ad04d014",
   "metadata": {
    "execution": {
     "iopub.execute_input": "2022-12-15T05:17:45.101399Z",
     "iopub.status.busy": "2022-12-15T05:17:45.100772Z",
     "iopub.status.idle": "2022-12-15T05:17:45.103893Z",
     "shell.execute_reply": "2022-12-15T05:17:45.103364Z"
    },
    "papermill": {
     "duration": 0.111319,
     "end_time": "2022-12-15T05:17:45.104799",
     "exception": false,
     "start_time": "2022-12-15T05:17:44.993480",
     "status": "completed"
    },
    "tags": []
   },
   "outputs": [],
   "source": [
    "log_files = OUTPUT_DIR.glob(\"*.log\")"
   ]
  },
  {
   "cell_type": "code",
   "execution_count": 9,
   "id": "01b58633-03fd-48c3-b95d-d1d37f19bd9c",
   "metadata": {
    "execution": {
     "iopub.execute_input": "2022-12-15T05:17:45.366320Z",
     "iopub.status.busy": "2022-12-15T05:17:45.366040Z",
     "iopub.status.idle": "2022-12-15T05:17:45.398503Z",
     "shell.execute_reply": "2022-12-15T05:17:45.397914Z"
    },
    "papermill": {
     "duration": 0.187749,
     "end_time": "2022-12-15T05:17:45.399497",
     "exception": false,
     "start_time": "2022-12-15T05:17:45.211748",
     "status": "completed"
    },
    "tags": []
   },
   "outputs": [],
   "source": [
    "for f in log_files:\n",
    "    read_log_file_and_check_line_exists(\n",
    "        f,\n",
    "        [\n",
    "            \"INFO - Finished in\",\n",
    "        ],\n",
    "    )"
   ]
  }
 ],
 "metadata": {
  "jupytext": {
   "cell_metadata_filter": "all,-execution,-papermill,-trusted"
  },
  "kernelspec": {
   "display_name": "Python 3 (ipykernel)",
   "language": "python",
   "name": "python3"
  },
  "language_info": {
   "codemirror_mode": {
    "name": "ipython",
    "version": 3
   },
   "file_extension": ".py",
   "mimetype": "text/x-python",
   "name": "python",
   "nbconvert_exporter": "python",
   "pygments_lexer": "ipython3",
   "version": "3.10.6"
  },
  "papermill": {
   "default_parameters": {},
   "duration": 27777.276047,
   "end_time": "2022-12-15T05:17:45.730877",
   "environment_variables": {},
   "exception": null,
   "input_path": "projects/asthma-copd/nbs/10_gwas_harmonization/05-run_imputation.ipynb",
   "output_path": "projects/asthma-copd/nbs/10_gwas_harmonization/05-run_imputation.run.ipynb",
   "parameters": {
    "PHENOPLIER_NOTEBOOK_FILEPATH": "projects/asthma-copd/nbs/10_gwas_harmonization/05-run_imputation.ipynb"
   },
   "start_time": "2022-12-14T21:34:48.454830",
   "version": "2.3.4"
  }
 },
 "nbformat": 4,
 "nbformat_minor": 5
}
