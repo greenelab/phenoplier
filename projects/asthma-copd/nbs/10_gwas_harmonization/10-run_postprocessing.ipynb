{
 "cells": [
  {
   "cell_type": "markdown",
   "id": "c935aa7e-fde1-4d1c-b2d7-8c7ee611b1ed",
   "metadata": {
    "papermill": {
     "duration": 0.00381,
     "end_time": "2022-12-15T06:17:14.400030",
     "exception": false,
     "start_time": "2022-12-15T06:17:14.396220",
     "status": "completed"
    },
    "tags": []
   },
   "source": [
    "# Description"
   ]
  },
  {
   "cell_type": "markdown",
   "id": "f66770f7-0585-480b-8daa-1483bc37b494",
   "metadata": {
    "papermill": {
     "duration": 0.00301,
     "end_time": "2022-12-15T06:17:14.412510",
     "exception": false,
     "start_time": "2022-12-15T06:17:14.409500",
     "status": "completed"
    },
    "tags": []
   },
   "source": [
    "It runs the GWAS postprocessing step from the script in: https://github.com/hakyimlab/summary-gwas-imputation"
   ]
  },
  {
   "cell_type": "markdown",
   "id": "d389dd7b-20d8-44ed-8053-6e2cd8efea2e",
   "metadata": {
    "papermill": {
     "duration": 0.002991,
     "end_time": "2022-12-15T06:17:14.418556",
     "exception": false,
     "start_time": "2022-12-15T06:17:14.415565",
     "status": "completed"
    },
    "tags": []
   },
   "source": [
    "# Modules"
   ]
  },
  {
   "cell_type": "code",
   "execution_count": 1,
   "id": "69797656-0db2-41d5-b4d6-63c24d47ad38",
   "metadata": {
    "execution": {
     "iopub.execute_input": "2022-12-15T06:17:14.425852Z",
     "iopub.status.busy": "2022-12-15T06:17:14.425618Z",
     "iopub.status.idle": "2022-12-15T06:17:14.459984Z",
     "shell.execute_reply": "2022-12-15T06:17:14.459376Z"
    },
    "papermill": {
     "duration": 0.03983,
     "end_time": "2022-12-15T06:17:14.461561",
     "exception": false,
     "start_time": "2022-12-15T06:17:14.421731",
     "status": "completed"
    },
    "tags": []
   },
   "outputs": [],
   "source": [
    "import os\n",
    "from glob import glob\n",
    "from pathlib import Path\n",
    "\n",
    "from utils import read_log_file_and_check_line_exists\n",
    "import conf"
   ]
  },
  {
   "cell_type": "markdown",
   "id": "dd17aa24-a692-4f62-ac69-c270447c7729",
   "metadata": {
    "papermill": {
     "duration": 0.002988,
     "end_time": "2022-12-15T06:17:14.467715",
     "exception": false,
     "start_time": "2022-12-15T06:17:14.464727",
     "status": "completed"
    },
    "tags": []
   },
   "source": [
    "# Settings"
   ]
  },
  {
   "cell_type": "markdown",
   "id": "3829ee6c-68b6-445e-adce-aa7a6280a56c",
   "metadata": {
    "papermill": {
     "duration": 0.003745,
     "end_time": "2022-12-15T06:17:14.474621",
     "exception": false,
     "start_time": "2022-12-15T06:17:14.470876",
     "status": "completed"
    },
    "tags": []
   },
   "source": [
    "Apparently, there is no easy way to get the parent directory of\n",
    "a notebook in Jupyter, so here I get that information either from\n",
    "the parameter sent by `nbs/run_nbs.sh` (if called from command-line) or\n",
    "from `os.getcwd()` (if called from browser)."
   ]
  },
  {
   "cell_type": "code",
   "execution_count": 2,
   "id": "e8f8093f-7738-448a-b29d-e9059684fcd1",
   "metadata": {
    "execution": {
     "iopub.execute_input": "2022-12-15T06:17:14.481877Z",
     "iopub.status.busy": "2022-12-15T06:17:14.481684Z",
     "iopub.status.idle": "2022-12-15T06:17:14.484897Z",
     "shell.execute_reply": "2022-12-15T06:17:14.484342Z"
    },
    "papermill": {
     "duration": 0.008685,
     "end_time": "2022-12-15T06:17:14.486344",
     "exception": false,
     "start_time": "2022-12-15T06:17:14.477659",
     "status": "completed"
    },
    "tags": [
     "parameters"
    ]
   },
   "outputs": [],
   "source": [
    "PHENOPLIER_NOTEBOOK_FILEPATH = None\n",
    "PHENOPLIER_NOTEBOOK_DIR = os.getcwd()"
   ]
  },
  {
   "cell_type": "code",
   "execution_count": 3,
   "id": "96d3d47a",
   "metadata": {
    "execution": {
     "iopub.execute_input": "2022-12-15T06:17:14.493745Z",
     "iopub.status.busy": "2022-12-15T06:17:14.493317Z",
     "iopub.status.idle": "2022-12-15T06:17:14.496256Z",
     "shell.execute_reply": "2022-12-15T06:17:14.495730Z"
    },
    "lines_to_next_cell": 2,
    "papermill": {
     "duration": 0.008136,
     "end_time": "2022-12-15T06:17:14.497720",
     "exception": false,
     "start_time": "2022-12-15T06:17:14.489584",
     "status": "completed"
    },
    "tags": [
     "injected-parameters"
    ]
   },
   "outputs": [],
   "source": [
    "# Parameters\n",
    "PHENOPLIER_NOTEBOOK_FILEPATH = (\n",
    "    \"projects/asthma-copd/nbs/10_gwas_harmonization/10-run_postprocessing.ipynb\"\n",
    ")"
   ]
  },
  {
   "cell_type": "code",
   "execution_count": 4,
   "id": "80437810-fd28-40ba-8dab-f60424764bfd",
   "metadata": {
    "execution": {
     "iopub.execute_input": "2022-12-15T06:17:14.504974Z",
     "iopub.status.busy": "2022-12-15T06:17:14.504566Z",
     "iopub.status.idle": "2022-12-15T06:17:14.513965Z",
     "shell.execute_reply": "2022-12-15T06:17:14.513426Z"
    },
    "papermill": {
     "duration": 0.014634,
     "end_time": "2022-12-15T06:17:14.515451",
     "exception": false,
     "start_time": "2022-12-15T06:17:14.500817",
     "status": "completed"
    },
    "tags": []
   },
   "outputs": [
    {
     "data": {
      "text/plain": [
       "'projects/asthma-copd/nbs/10_gwas_harmonization'"
      ]
     },
     "metadata": {},
     "output_type": "display_data"
    }
   ],
   "source": [
    "if PHENOPLIER_NOTEBOOK_FILEPATH is not None:\n",
    "    PHENOPLIER_NOTEBOOK_DIR = str(Path(PHENOPLIER_NOTEBOOK_FILEPATH).parent)\n",
    "\n",
    "display(PHENOPLIER_NOTEBOOK_DIR)"
   ]
  },
  {
   "cell_type": "code",
   "execution_count": 5,
   "id": "7614a44c-cbef-48f5-a011-0876875d20eb",
   "metadata": {
    "execution": {
     "iopub.execute_input": "2022-12-15T06:17:14.523223Z",
     "iopub.status.busy": "2022-12-15T06:17:14.522757Z",
     "iopub.status.idle": "2022-12-15T06:17:14.528037Z",
     "shell.execute_reply": "2022-12-15T06:17:14.527525Z"
    },
    "papermill": {
     "duration": 0.010529,
     "end_time": "2022-12-15T06:17:14.529425",
     "exception": false,
     "start_time": "2022-12-15T06:17:14.518896",
     "status": "completed"
    },
    "tags": []
   },
   "outputs": [
    {
     "data": {
      "text/plain": [
       "PosixPath('/opt/data/projects/asthma-copd/results/final_imputed_gwas')"
      ]
     },
     "metadata": {},
     "output_type": "display_data"
    },
    {
     "data": {
      "text/plain": [
       "'/opt/data/projects/asthma-copd/results/final_imputed_gwas'"
      ]
     },
     "metadata": {},
     "output_type": "display_data"
    }
   ],
   "source": [
    "OUTPUT_DIR = conf.PROJECTS[\"ASTHMA_COPD\"][\"RESULTS_DIR\"] / \"final_imputed_gwas\"\n",
    "display(OUTPUT_DIR)\n",
    "\n",
    "OUTPUT_DIR_STR = str(OUTPUT_DIR)\n",
    "display(OUTPUT_DIR_STR)"
   ]
  },
  {
   "cell_type": "markdown",
   "id": "3a558eec-2251-4be7-a754-1f98adde3aec",
   "metadata": {
    "papermill": {
     "duration": 0.003672,
     "end_time": "2022-12-15T06:17:14.536482",
     "exception": false,
     "start_time": "2022-12-15T06:17:14.532810",
     "status": "completed"
    },
    "tags": []
   },
   "source": [
    "# Run"
   ]
  },
  {
   "cell_type": "code",
   "execution_count": 6,
   "id": "0c0cd3d9-b032-4f03-82eb-0017a0ef1cca",
   "metadata": {
    "execution": {
     "iopub.execute_input": "2022-12-15T06:17:14.544545Z",
     "iopub.status.busy": "2022-12-15T06:17:14.544119Z",
     "iopub.status.idle": "2022-12-15T06:20:10.003791Z",
     "shell.execute_reply": "2022-12-15T06:20:10.003139Z"
    },
    "papermill": {
     "duration": 175.473156,
     "end_time": "2022-12-15T06:20:10.013148",
     "exception": false,
     "start_time": "2022-12-15T06:17:14.539992",
     "status": "completed"
    },
    "tags": []
   },
   "outputs": [
    {
     "name": "stdout",
     "output_type": "stream",
     "text": [
      "Running for asthma_only\n",
      "Saving results in /opt/data/projects/asthma-copd/results/final_imputed_gwas\n"
     ]
    },
    {
     "name": "stderr",
     "output_type": "stream",
     "text": [
      "+ /opt/data/software/conda_envs/summary_gwas_imputation/bin/python /opt/data/software/summary-gwas-imputation/src/gwas_summary_imputation_postprocess.py -gwas_file /opt/data/projects/asthma-copd/results/harmonized_gwas/GWAS_Asthma_only_GLM_SNPs_info0.7-harmonized.txt -folder /opt/data/projects/asthma-copd/results/imputed_gwas -pattern 'GWAS_Asthma_only_GLM_SNPs_info0.7-harmonized.*\\.txt' -parsimony 7 -output /opt/data/projects/asthma-copd/results/final_imputed_gwas/GWAS_Asthma_only_GLM_SNPs_info0.7-harmonized-imputed.txt.gz\n"
     ]
    },
    {
     "name": "stdout",
     "output_type": "stream",
     "text": [
      "/opt/data/software/conda_envs/summary_gwas_imputation/lib/python3.7/site-packages/scipy/stats/_distn_infrastructure.py:903: RuntimeWarning: invalid value encountered in greater\n",
      "/opt/data/software/conda_envs/summary_gwas_imputation/lib/python3.7/site-packages/scipy/stats/_distn_infrastructure.py:903: RuntimeWarning: invalid value encountered in less\n",
      "/opt/data/software/conda_envs/summary_gwas_imputation/lib/python3.7/site-packages/scipy/stats/_distn_infrastructure.py:1912: RuntimeWarning: invalid value encountered in less_equal\n",
      "\n"
     ]
    },
    {
     "name": "stderr",
     "output_type": "stream",
     "text": [
      "+ set +x\n"
     ]
    },
    {
     "name": "stdout",
     "output_type": "stream",
     "text": [
      "Running for copd_only\n",
      "Saving results in /opt/data/projects/asthma-copd/results/final_imputed_gwas\n",
      "/opt/data/software/conda_envs/summary_gwas_imputation/lib/python3.7/site-packages/scipy/stats/_distn_infrastructure.py:903: RuntimeWarning: invalid value encountered in greater\n",
      "/opt/data/software/conda_envs/summary_gwas_imputation/lib/python3.7/site-packages/scipy/stats/_distn_infrastructure.py:903: RuntimeWarning: invalid value encountered in less\n",
      "/opt/data/software/conda_envs/summary_gwas_imputation/lib/python3.7/site-packages/scipy/stats/_distn_infrastructure.py:1912: RuntimeWarning: invalid value encountered in less_equal\n",
      "\n",
      "Running for aco\n",
      "Saving results in /opt/data/projects/asthma-copd/results/final_imputed_gwas\n",
      "/opt/data/software/conda_envs/summary_gwas_imputation/lib/python3.7/site-packages/scipy/stats/_distn_infrastructure.py:903: RuntimeWarning: invalid value encountered in greater\n",
      "/opt/data/software/conda_envs/summary_gwas_imputation/lib/python3.7/site-packages/scipy/stats/_distn_infrastructure.py:903: RuntimeWarning: invalid value encountered in less\n",
      "/opt/data/software/conda_envs/summary_gwas_imputation/lib/python3.7/site-packages/scipy/stats/_distn_infrastructure.py:1912: RuntimeWarning: invalid value encountered in less_equal\n",
      "\n"
     ]
    },
    {
     "name": "stderr",
     "output_type": "stream",
     "text": [
      "+ /opt/data/software/conda_envs/summary_gwas_imputation/bin/python /opt/data/software/summary-gwas-imputation/src/gwas_summary_imputation_postprocess.py -gwas_file /opt/data/projects/asthma-copd/results/harmonized_gwas/GWAS_COPD_only_GLM_SNPs_info0.7-harmonized.txt -folder /opt/data/projects/asthma-copd/results/imputed_gwas -pattern 'GWAS_COPD_only_GLM_SNPs_info0.7-harmonized.*\\.txt' -parsimony 7 -output /opt/data/projects/asthma-copd/results/final_imputed_gwas/GWAS_COPD_only_GLM_SNPs_info0.7-harmonized-imputed.txt.gz\n",
      "+ set +x\n",
      "+ /opt/data/software/conda_envs/summary_gwas_imputation/bin/python /opt/data/software/summary-gwas-imputation/src/gwas_summary_imputation_postprocess.py -gwas_file /opt/data/projects/asthma-copd/results/harmonized_gwas/GWAS_ACO_GLM_SNPs_info0.7-harmonized.txt -folder /opt/data/projects/asthma-copd/results/imputed_gwas -pattern 'GWAS_ACO_GLM_SNPs_info0.7-harmonized.*\\.txt' -parsimony 7 -output /opt/data/projects/asthma-copd/results/final_imputed_gwas/GWAS_ACO_GLM_SNPs_info0.7-harmonized-imputed.txt.gz\n",
      "+ set +x\n"
     ]
    }
   ],
   "source": [
    "%%bash -s \"$PHENOPLIER_NOTEBOOK_DIR\" \"$OUTPUT_DIR_STR\"\n",
    "set -euo pipefail\n",
    "# IFS=$'\\n\\t'\n",
    "\n",
    "# read the notebook directory parameter and remove $1\n",
    "export PHENOPLIER_NOTEBOOK_DIR=\"${PHENOPLIER_CODE_DIR}/$1\"\n",
    "shift\n",
    "\n",
    "# read output dir\n",
    "export OUTPUT_DIR=\"$1\"\n",
    "shift\n",
    "\n",
    "run_job () {\n",
    "    # run_job is a standard function name that performs a particular job\n",
    "    # depending on the context. It will be called by GNU Parallel below.\n",
    "    #\n",
    "    # The implementation here runs the GLS model of PhenoPLIER on a trait.\n",
    "\n",
    "    # read trait information\n",
    "    # the first parameter to this function is a string with values separated by\n",
    "    # commas (,). So here I split those into different variables.\n",
    "    IFS=',' read -r pheno_id file sample_size n_cases <<< \"$1\"\n",
    "\n",
    "    INPUT_FILENAME=\"${file%.*}\"\n",
    "\n",
    "    IMPUTED_GWAS_DIR=\"${PHENOPLIER_PROJECTS_ASTHMA_COPD_RESULTS_DIR}/imputed_gwas\"\n",
    "    INPUTED_GWAS_FILE_PATTERN=\"${INPUT_FILENAME}-harmonized\"\n",
    "\n",
    "    # get input GWAS file, there should be a single file\n",
    "    # here I make sure that there are no other files in the folder that\n",
    "    # match this phenotype/trait filename prefix\n",
    "    GWAS_DIR=\"${PHENOPLIER_PROJECTS_ASTHMA_COPD_RESULTS_DIR}/harmonized_gwas\"\n",
    "    N_GWAS_FILES=$(ls ${GWAS_DIR}/${INPUT_FILENAME}*.txt | wc -l)\n",
    "    if [ \"${N_GWAS_FILES}\" != \"1\" ]; then\n",
    "        echo \"ERROR: found ${N_GWAS_FILES} GWAS files instead of one\"\n",
    "        exit 1\n",
    "    fi\n",
    "    INPUT_GWAS_FILEPATH=$(ls ${GWAS_DIR}/${INPUT_FILENAME}*.txt)\n",
    "\n",
    "    mkdir -p \"${OUTPUT_DIR}\"\n",
    "\n",
    "    # make sure we are not also parallelizing within numpy, etc\n",
    "    export NUMBA_NUM_THREADS=1\n",
    "    export MKL_NUM_THREADS=1\n",
    "    export OPEN_BLAS_NUM_THREADS=1\n",
    "    export NUMEXPR_NUM_THREADS=1\n",
    "    export OMP_NUM_THREADS=1\n",
    "\n",
    "    echo \"Running for $pheno_id\"\n",
    "    echo \"Saving results in ${OUTPUT_DIR}\"\n",
    "\n",
    "    bash \"${PHENOPLIER_CODE_DIR}/scripts/gwas_postprocess.sh\" \\\n",
    "        --input-gwas-file \"${INPUT_GWAS_FILEPATH}\" \\\n",
    "        --imputed-gwas-folder \"${IMPUTED_GWAS_DIR}\" \\\n",
    "        --phenotype-name \"${INPUTED_GWAS_FILE_PATTERN}\" \\\n",
    "        --output-dir \"${OUTPUT_DIR}\"\n",
    "\n",
    "    # print errors here in the notebook\n",
    "    # first, look for the log file for this trait\n",
    "    pattern=\"${OUTPUT_DIR}/${INPUT_FILENAME}*.log\"\n",
    "\n",
    "    N_LOG_FILES=$(ls ${pattern} | wc -l)\n",
    "    if [ \"${N_LOG_FILES}\" != \"1\" ]; then\n",
    "        echo \"ERROR: found ${N_LOG_FILES} log files instead of one\"\n",
    "        exit 1\n",
    "    fi\n",
    "    LOG_FILE=$(ls ${pattern})\n",
    "\n",
    "    cat \"${LOG_FILE}\" | grep -iE \"warning|error\"\n",
    "\n",
    "    echo\n",
    "}\n",
    "\n",
    "# export function so GNU Parallel can see it\n",
    "export -f run_job\n",
    "\n",
    "# generate a list of run_job calls for GNU Parallel\n",
    "# here I read a file with information about traits (one trait per line)\n",
    "while IFS= read -r line; do\n",
    "    echo run_job \"${line}\"\n",
    "done < <(tail -n \"+2\" \"${PHENOPLIER_PROJECTS_ASTHMA_COPD_TRAITS_INFO_FILE}\") |\n",
    "    parallel -k --lb --halt 2 -j${PHENOPLIER_GENERAL_N_JOBS}"
   ]
  },
  {
   "cell_type": "markdown",
   "id": "b9de8ab0-1d95-4d08-82bb-376e704fd0df",
   "metadata": {
    "papermill": {
     "duration": 0.00457,
     "end_time": "2022-12-15T06:20:10.022489",
     "exception": false,
     "start_time": "2022-12-15T06:20:10.017919",
     "status": "completed"
    },
    "tags": []
   },
   "source": [
    "# Perform some checks in output and log files"
   ]
  },
  {
   "cell_type": "code",
   "execution_count": 7,
   "id": "a48b5427-95ab-4d89-9b09-ea9f2344a6af",
   "metadata": {
    "execution": {
     "iopub.execute_input": "2022-12-15T06:20:10.033299Z",
     "iopub.status.busy": "2022-12-15T06:20:10.033144Z",
     "iopub.status.idle": "2022-12-15T06:20:10.036428Z",
     "shell.execute_reply": "2022-12-15T06:20:10.035887Z"
    },
    "papermill": {
     "duration": 0.010608,
     "end_time": "2022-12-15T06:20:10.037793",
     "exception": false,
     "start_time": "2022-12-15T06:20:10.027185",
     "status": "completed"
    },
    "tags": []
   },
   "outputs": [],
   "source": [
    "assert OUTPUT_DIR.exists()"
   ]
  },
  {
   "cell_type": "code",
   "execution_count": 8,
   "id": "6d2b50d0-fc92-46fd-a48c-8748ad04d014",
   "metadata": {
    "execution": {
     "iopub.execute_input": "2022-12-15T06:20:10.048281Z",
     "iopub.status.busy": "2022-12-15T06:20:10.047866Z",
     "iopub.status.idle": "2022-12-15T06:20:10.050868Z",
     "shell.execute_reply": "2022-12-15T06:20:10.050336Z"
    },
    "papermill": {
     "duration": 0.009858,
     "end_time": "2022-12-15T06:20:10.052282",
     "exception": false,
     "start_time": "2022-12-15T06:20:10.042424",
     "status": "completed"
    },
    "tags": []
   },
   "outputs": [],
   "source": [
    "log_files = OUTPUT_DIR.glob(\"*.log\")"
   ]
  },
  {
   "cell_type": "code",
   "execution_count": 9,
   "id": "01b58633-03fd-48c3-b95d-d1d37f19bd9c",
   "metadata": {
    "execution": {
     "iopub.execute_input": "2022-12-15T06:20:10.062449Z",
     "iopub.status.busy": "2022-12-15T06:20:10.062185Z",
     "iopub.status.idle": "2022-12-15T06:20:10.065992Z",
     "shell.execute_reply": "2022-12-15T06:20:10.065471Z"
    },
    "papermill": {
     "duration": 0.01036,
     "end_time": "2022-12-15T06:20:10.067374",
     "exception": false,
     "start_time": "2022-12-15T06:20:10.057014",
     "status": "completed"
    },
    "tags": []
   },
   "outputs": [],
   "source": [
    "for f in log_files:\n",
    "    read_log_file_and_check_line_exists(\n",
    "        f,\n",
    "        [\n",
    "            \"INFO - Finished in\",\n",
    "        ],\n",
    "    )"
   ]
  }
 ],
 "metadata": {
  "jupytext": {
   "cell_metadata_filter": "all,-execution,-papermill,-trusted"
  },
  "kernelspec": {
   "display_name": "Python 3 (ipykernel)",
   "language": "python",
   "name": "python3"
  },
  "language_info": {
   "codemirror_mode": {
    "name": "ipython",
    "version": 3
   },
   "file_extension": ".py",
   "mimetype": "text/x-python",
   "name": "python",
   "nbconvert_exporter": "python",
   "pygments_lexer": "ipython3",
   "version": "3.10.6"
  },
  "papermill": {
   "default_parameters": {},
   "duration": 176.764945,
   "end_time": "2022-12-15T06:20:10.288169",
   "environment_variables": {},
   "exception": null,
   "input_path": "projects/asthma-copd/nbs/10_gwas_harmonization/10-run_postprocessing.ipynb",
   "output_path": "projects/asthma-copd/nbs/10_gwas_harmonization/10-run_postprocessing.run.ipynb",
   "parameters": {
    "PHENOPLIER_NOTEBOOK_FILEPATH": "projects/asthma-copd/nbs/10_gwas_harmonization/10-run_postprocessing.ipynb"
   },
   "start_time": "2022-12-15T06:17:13.523224",
   "version": "2.3.4"
  }
 },
 "nbformat": 4,
 "nbformat_minor": 5
}
