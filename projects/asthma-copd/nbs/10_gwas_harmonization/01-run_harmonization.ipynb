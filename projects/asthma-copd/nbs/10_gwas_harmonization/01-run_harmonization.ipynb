{
 "cells": [
  {
   "cell_type": "markdown",
   "id": "c935aa7e-fde1-4d1c-b2d7-8c7ee611b1ed",
   "metadata": {
    "papermill": {
     "duration": 0.003782,
     "end_time": "2022-12-14T19:08:18.837778",
     "exception": false,
     "start_time": "2022-12-14T19:08:18.833996",
     "status": "completed"
    },
    "tags": []
   },
   "source": [
    "# Description"
   ]
  },
  {
   "cell_type": "markdown",
   "id": "f66770f7-0585-480b-8daa-1483bc37b494",
   "metadata": {
    "papermill": {
     "duration": 0.003037,
     "end_time": "2022-12-14T19:08:18.850278",
     "exception": false,
     "start_time": "2022-12-14T19:08:18.847241",
     "status": "completed"
    },
    "tags": []
   },
   "source": [
    "It runs the GWAS harmonization step from the script in: https://github.com/hakyimlab/summary-gwas-imputation"
   ]
  },
  {
   "cell_type": "markdown",
   "id": "d389dd7b-20d8-44ed-8053-6e2cd8efea2e",
   "metadata": {
    "papermill": {
     "duration": 0.002985,
     "end_time": "2022-12-14T19:08:18.856348",
     "exception": false,
     "start_time": "2022-12-14T19:08:18.853363",
     "status": "completed"
    },
    "tags": []
   },
   "source": [
    "# Modules"
   ]
  },
  {
   "cell_type": "code",
   "execution_count": 1,
   "id": "69797656-0db2-41d5-b4d6-63c24d47ad38",
   "metadata": {
    "execution": {
     "iopub.execute_input": "2022-12-14T19:08:18.864353Z",
     "iopub.status.busy": "2022-12-14T19:08:18.863664Z",
     "iopub.status.idle": "2022-12-14T19:08:18.898160Z",
     "shell.execute_reply": "2022-12-14T19:08:18.897616Z"
    },
    "papermill": {
     "duration": 0.040052,
     "end_time": "2022-12-14T19:08:18.899631",
     "exception": false,
     "start_time": "2022-12-14T19:08:18.859579",
     "status": "completed"
    },
    "tags": []
   },
   "outputs": [],
   "source": [
    "import os\n",
    "from glob import glob\n",
    "from pathlib import Path\n",
    "\n",
    "from utils import read_log_file_and_check_line_exists\n",
    "import conf"
   ]
  },
  {
   "cell_type": "markdown",
   "id": "dd17aa24-a692-4f62-ac69-c270447c7729",
   "metadata": {
    "papermill": {
     "duration": 0.003012,
     "end_time": "2022-12-14T19:08:18.905778",
     "exception": false,
     "start_time": "2022-12-14T19:08:18.902766",
     "status": "completed"
    },
    "tags": []
   },
   "source": [
    "# Settings"
   ]
  },
  {
   "cell_type": "markdown",
   "id": "3829ee6c-68b6-445e-adce-aa7a6280a56c",
   "metadata": {
    "papermill": {
     "duration": 0.003741,
     "end_time": "2022-12-14T19:08:18.912713",
     "exception": false,
     "start_time": "2022-12-14T19:08:18.908972",
     "status": "completed"
    },
    "tags": []
   },
   "source": [
    "Apparently, there is no easy way to get the parent directory of\n",
    "a notebook in Jupyter, so here I get that information either from\n",
    "the parameter sent by `nbs/run_nbs.sh` (if called from command-line) or\n",
    "from `os.getcwd()` (if called from browser)."
   ]
  },
  {
   "cell_type": "code",
   "execution_count": 2,
   "id": "e8f8093f-7738-448a-b29d-e9059684fcd1",
   "metadata": {
    "execution": {
     "iopub.execute_input": "2022-12-14T19:08:18.920138Z",
     "iopub.status.busy": "2022-12-14T19:08:18.919730Z",
     "iopub.status.idle": "2022-12-14T19:08:18.922899Z",
     "shell.execute_reply": "2022-12-14T19:08:18.922369Z"
    },
    "papermill": {
     "duration": 0.008394,
     "end_time": "2022-12-14T19:08:18.924196",
     "exception": false,
     "start_time": "2022-12-14T19:08:18.915802",
     "status": "completed"
    },
    "tags": [
     "parameters"
    ]
   },
   "outputs": [],
   "source": [
    "PHENOPLIER_NOTEBOOK_FILEPATH = None\n",
    "PHENOPLIER_NOTEBOOK_DIR = os.getcwd()"
   ]
  },
  {
   "cell_type": "code",
   "execution_count": 3,
   "id": "4b2ccc9a",
   "metadata": {
    "execution": {
     "iopub.execute_input": "2022-12-14T19:08:18.931503Z",
     "iopub.status.busy": "2022-12-14T19:08:18.931215Z",
     "iopub.status.idle": "2022-12-14T19:08:18.933929Z",
     "shell.execute_reply": "2022-12-14T19:08:18.933415Z"
    },
    "lines_to_next_cell": 2,
    "papermill": {
     "duration": 0.00785,
     "end_time": "2022-12-14T19:08:18.935329",
     "exception": false,
     "start_time": "2022-12-14T19:08:18.927479",
     "status": "completed"
    },
    "tags": [
     "injected-parameters"
    ]
   },
   "outputs": [],
   "source": [
    "# Parameters\n",
    "PHENOPLIER_NOTEBOOK_FILEPATH = (\n",
    "    \"projects/asthma-copd/nbs/10_gwas_harmonization/01-run_harmonization.ipynb\"\n",
    ")"
   ]
  },
  {
   "cell_type": "code",
   "execution_count": 4,
   "id": "80437810-fd28-40ba-8dab-f60424764bfd",
   "metadata": {
    "execution": {
     "iopub.execute_input": "2022-12-14T19:08:18.942756Z",
     "iopub.status.busy": "2022-12-14T19:08:18.942238Z",
     "iopub.status.idle": "2022-12-14T19:08:18.951642Z",
     "shell.execute_reply": "2022-12-14T19:08:18.951115Z"
    },
    "papermill": {
     "duration": 0.014573,
     "end_time": "2022-12-14T19:08:18.953057",
     "exception": false,
     "start_time": "2022-12-14T19:08:18.938484",
     "status": "completed"
    },
    "tags": []
   },
   "outputs": [
    {
     "data": {
      "text/plain": [
       "'projects/asthma-copd/nbs/10_gwas_harmonization'"
      ]
     },
     "metadata": {},
     "output_type": "display_data"
    }
   ],
   "source": [
    "if PHENOPLIER_NOTEBOOK_FILEPATH is not None:\n",
    "    PHENOPLIER_NOTEBOOK_DIR = str(Path(PHENOPLIER_NOTEBOOK_FILEPATH).parent)\n",
    "\n",
    "display(PHENOPLIER_NOTEBOOK_DIR)"
   ]
  },
  {
   "cell_type": "code",
   "execution_count": 5,
   "id": "7614a44c-cbef-48f5-a011-0876875d20eb",
   "metadata": {
    "execution": {
     "iopub.execute_input": "2022-12-14T19:08:18.960770Z",
     "iopub.status.busy": "2022-12-14T19:08:18.960331Z",
     "iopub.status.idle": "2022-12-14T19:08:18.965487Z",
     "shell.execute_reply": "2022-12-14T19:08:18.964982Z"
    },
    "papermill": {
     "duration": 0.010351,
     "end_time": "2022-12-14T19:08:18.966862",
     "exception": false,
     "start_time": "2022-12-14T19:08:18.956511",
     "status": "completed"
    },
    "tags": []
   },
   "outputs": [
    {
     "data": {
      "text/plain": [
       "PosixPath('/opt/data/projects/asthma-copd/results/harmonized_gwas')"
      ]
     },
     "metadata": {},
     "output_type": "display_data"
    },
    {
     "data": {
      "text/plain": [
       "'/opt/data/projects/asthma-copd/results/harmonized_gwas'"
      ]
     },
     "metadata": {},
     "output_type": "display_data"
    }
   ],
   "source": [
    "OUTPUT_DIR = conf.PROJECTS[\"ASTHMA_COPD\"][\"RESULTS_DIR\"] / \"harmonized_gwas\"\n",
    "display(OUTPUT_DIR)\n",
    "\n",
    "OUTPUT_DIR_STR = str(OUTPUT_DIR)\n",
    "display(OUTPUT_DIR_STR)"
   ]
  },
  {
   "cell_type": "markdown",
   "id": "3a558eec-2251-4be7-a754-1f98adde3aec",
   "metadata": {
    "papermill": {
     "duration": 0.00374,
     "end_time": "2022-12-14T19:08:18.974053",
     "exception": false,
     "start_time": "2022-12-14T19:08:18.970313",
     "status": "completed"
    },
    "tags": []
   },
   "source": [
    "# Run"
   ]
  },
  {
   "cell_type": "code",
   "execution_count": 6,
   "id": "0c0cd3d9-b032-4f03-82eb-0017a0ef1cca",
   "metadata": {
    "execution": {
     "iopub.execute_input": "2022-12-14T19:08:18.982085Z",
     "iopub.status.busy": "2022-12-14T19:08:18.981644Z",
     "iopub.status.idle": "2022-12-14T19:12:43.547187Z",
     "shell.execute_reply": "2022-12-14T19:12:43.546615Z"
    },
    "papermill": {
     "duration": 264.577965,
     "end_time": "2022-12-14T19:12:43.555531",
     "exception": false,
     "start_time": "2022-12-14T19:08:18.977566",
     "status": "completed"
    },
    "tags": []
   },
   "outputs": [
    {
     "name": "stdout",
     "output_type": "stream",
     "text": [
      "Running for asthma_only\n",
      "Saving results in /opt/data/projects/asthma-copd/results/harmonized_gwas\n"
     ]
    },
    {
     "name": "stderr",
     "output_type": "stream",
     "text": [
      "+ /opt/data/software/conda_envs/summary_gwas_imputation/bin/python /opt/data/software/summary-gwas-imputation/src/gwas_parsing.py -gwas_file /opt/data/projects/asthma-copd/data/gwas/GWAS_Asthma_only_GLM_SNPs_info0.7.txt -separator '\t' -snp_reference_metadata /opt/data/data/phenomexcan/ld_blocks/reference_panel_1000G/variant_metadata.txt.gz METADATA --chromosome_format -output_column_map '#CHROM' chromosome -output_column_map ID variant_id -output_column_map A1 effect_allele -output_column_map REF non_effect_allele -output_column_map OR or -output_column_map 'LOG(OR)_SE' standard_error -output_column_map P pvalue -output_column_map POS position -output_column_map OBS_CT sample_size --insert_value n_cases 19217 -output_order variant_id panel_variant_id chromosome position effect_allele non_effect_allele frequency pvalue zscore effect_size standard_error sample_size n_cases -liftover /opt/data/data/liftover/chains/hg19ToHg38.over.chain.gz -output /opt/data/projects/asthma-copd/results/harmonized_gwas/GWAS_Asthma_only_GLM_SNPs_info0.7-harmonized.txt\n"
     ]
    },
    {
     "name": "stdout",
     "output_type": "stream",
     "text": [
      "\n"
     ]
    },
    {
     "name": "stderr",
     "output_type": "stream",
     "text": [
      "+ set +x\n"
     ]
    },
    {
     "name": "stdout",
     "output_type": "stream",
     "text": [
      "Running for copd_only\n",
      "Saving results in /opt/data/projects/asthma-copd/results/harmonized_gwas\n",
      "\n",
      "Running for aco\n",
      "Saving results in /opt/data/projects/asthma-copd/results/harmonized_gwas\n",
      "\n"
     ]
    },
    {
     "name": "stderr",
     "output_type": "stream",
     "text": [
      "+ /opt/data/software/conda_envs/summary_gwas_imputation/bin/python /opt/data/software/summary-gwas-imputation/src/gwas_parsing.py -gwas_file /opt/data/projects/asthma-copd/data/gwas/GWAS_COPD_only_GLM_SNPs_info0.7.txt -separator '\t' -snp_reference_metadata /opt/data/data/phenomexcan/ld_blocks/reference_panel_1000G/variant_metadata.txt.gz METADATA --chromosome_format -output_column_map '#CHROM' chromosome -output_column_map ID variant_id -output_column_map A1 effect_allele -output_column_map REF non_effect_allele -output_column_map OR or -output_column_map 'LOG(OR)_SE' standard_error -output_column_map P pvalue -output_column_map POS position -output_column_map OBS_CT sample_size --insert_value n_cases 13055 -output_order variant_id panel_variant_id chromosome position effect_allele non_effect_allele frequency pvalue zscore effect_size standard_error sample_size n_cases -liftover /opt/data/data/liftover/chains/hg19ToHg38.over.chain.gz -output /opt/data/projects/asthma-copd/results/harmonized_gwas/GWAS_COPD_only_GLM_SNPs_info0.7-harmonized.txt\n",
      "+ set +x\n",
      "+ /opt/data/software/conda_envs/summary_gwas_imputation/bin/python /opt/data/software/summary-gwas-imputation/src/gwas_parsing.py -gwas_file /opt/data/projects/asthma-copd/data/gwas/GWAS_ACO_GLM_SNPs_info0.7.txt -separator '\t' -snp_reference_metadata /opt/data/data/phenomexcan/ld_blocks/reference_panel_1000G/variant_metadata.txt.gz METADATA --chromosome_format -output_column_map '#CHROM' chromosome -output_column_map ID variant_id -output_column_map A1 effect_allele -output_column_map REF non_effect_allele -output_column_map OR or -output_column_map 'LOG(OR)_SE' standard_error -output_column_map P pvalue -output_column_map POS position -output_column_map OBS_CT sample_size --insert_value n_cases 7035 -output_order variant_id panel_variant_id chromosome position effect_allele non_effect_allele frequency pvalue zscore effect_size standard_error sample_size n_cases -liftover /opt/data/data/liftover/chains/hg19ToHg38.over.chain.gz -output /opt/data/projects/asthma-copd/results/harmonized_gwas/GWAS_ACO_GLM_SNPs_info0.7-harmonized.txt\n",
      "+ set +x\n"
     ]
    }
   ],
   "source": [
    "%%bash -s \"$PHENOPLIER_NOTEBOOK_DIR\" \"$OUTPUT_DIR_STR\"\n",
    "set -euo pipefail\n",
    "# IFS=$'\\n\\t'\n",
    "\n",
    "# read the notebook directory parameter and remove $1\n",
    "export PHENOPLIER_NOTEBOOK_DIR=\"${PHENOPLIER_CODE_DIR}/$1\"\n",
    "shift\n",
    "\n",
    "# read output dir\n",
    "export OUTPUT_DIR=\"$1\"\n",
    "shift\n",
    "\n",
    "run_job () {\n",
    "    # run_job is a standard function name that performs a particular job\n",
    "    # depending on the context. It will be called by GNU Parallel below.\n",
    "    #\n",
    "    # The implementation here runs the GLS model of PhenoPLIER on a trait.\n",
    "\n",
    "    # read trait information\n",
    "    # the first parameter to this function is a string with values separated by\n",
    "    # commas (,). So here I split those into different variables.\n",
    "    IFS=',' read -r pheno_id file sample_size n_cases <<< \"$1\"\n",
    "\n",
    "    INPUT_FILENAME=\"${file%.*}\"\n",
    "\n",
    "    # get input GWAS file, there should be a single file\n",
    "    # here I make sure that there are no other files in the folder that\n",
    "    # match this phenotype/trait filename prefix\n",
    "    GWAS_DIR=\"${PHENOPLIER_PROJECTS_ASTHMA_COPD_DATA_DIR}/gwas\"\n",
    "    N_GWAS_FILES=$(ls ${GWAS_DIR}/${INPUT_FILENAME}* | wc -l)\n",
    "    if [ \"${N_GWAS_FILES}\" != \"1\" ]; then\n",
    "        echo \"ERROR: found ${N_GWAS_FILES} GWAS files instead of one\"\n",
    "        exit 1\n",
    "    fi\n",
    "    INPUT_GWAS_FILEPATH=$(ls ${GWAS_DIR}/${INPUT_FILENAME}*)\n",
    "\n",
    "    mkdir -p \"${OUTPUT_DIR}\"\n",
    "\n",
    "    # make sure we are not also parallelizing within numpy, etc\n",
    "    export NUMBA_NUM_THREADS=1\n",
    "    export MKL_NUM_THREADS=1\n",
    "    export OPEN_BLAS_NUM_THREADS=1\n",
    "    export NUMEXPR_NUM_THREADS=1\n",
    "    export OMP_NUM_THREADS=1\n",
    "\n",
    "    echo \"Running for $pheno_id\"\n",
    "    echo \"Saving results in ${OUTPUT_DIR}\"\n",
    "\n",
    "    bash \"${PHENOPLIER_CODE_DIR}/scripts/gwas_harmonize.sh\" \\\n",
    "        --input-gwas-file \"${INPUT_GWAS_FILEPATH}\" \\\n",
    "        --samples-n-cases \"${n_cases}\" \\\n",
    "        --liftover-chain-file \"${PHENOPLIER_GENERAL_LIFTOVER_HG19_TO_HG38}\" \\\n",
    "        --output-dir \"${OUTPUT_DIR}\"\n",
    "\n",
    "    # print errors here in the notebook\n",
    "    # first, look for the log file for this trait\n",
    "    pattern=\"${OUTPUT_DIR}/${INPUT_FILENAME}*.log\"\n",
    "\n",
    "    N_LOG_FILES=$(ls ${pattern} | wc -l)\n",
    "    if [ \"${N_LOG_FILES}\" != \"1\" ]; then\n",
    "        echo \"ERROR: found ${N_LOG_FILES} log files instead of one\"\n",
    "        exit 1\n",
    "    fi\n",
    "    LOG_FILE=$(ls ${pattern})\n",
    "\n",
    "    cat \"${LOG_FILE}\" | grep -iE \"warning|error\"\n",
    "\n",
    "    echo\n",
    "}\n",
    "\n",
    "# export function so GNU Parallel can see it\n",
    "export -f run_job\n",
    "\n",
    "# generate a list of run_job calls for GNU Parallel\n",
    "# here I read a file with information about traits (one trait per line)\n",
    "while IFS= read -r line; do\n",
    "    echo run_job \"${line}\"\n",
    "done < <(tail -n \"+2\" \"${PHENOPLIER_PROJECTS_ASTHMA_COPD_TRAITS_INFO_FILE}\") |\n",
    "    parallel -k --lb --halt 2 -j${PHENOPLIER_GENERAL_N_JOBS}"
   ]
  },
  {
   "cell_type": "markdown",
   "id": "b9de8ab0-1d95-4d08-82bb-376e704fd0df",
   "metadata": {
    "papermill": {
     "duration": 0.004235,
     "end_time": "2022-12-14T19:12:43.563982",
     "exception": false,
     "start_time": "2022-12-14T19:12:43.559747",
     "status": "completed"
    },
    "tags": []
   },
   "source": [
    "# Perform some checks in output and log files"
   ]
  },
  {
   "cell_type": "code",
   "execution_count": 7,
   "id": "a48b5427-95ab-4d89-9b09-ea9f2344a6af",
   "metadata": {
    "execution": {
     "iopub.execute_input": "2022-12-14T19:12:43.573607Z",
     "iopub.status.busy": "2022-12-14T19:12:43.573083Z",
     "iopub.status.idle": "2022-12-14T19:12:43.576367Z",
     "shell.execute_reply": "2022-12-14T19:12:43.575866Z"
    },
    "papermill": {
     "duration": 0.009614,
     "end_time": "2022-12-14T19:12:43.577747",
     "exception": false,
     "start_time": "2022-12-14T19:12:43.568133",
     "status": "completed"
    },
    "tags": []
   },
   "outputs": [],
   "source": [
    "assert OUTPUT_DIR.exists()"
   ]
  },
  {
   "cell_type": "code",
   "execution_count": 8,
   "id": "6d2b50d0-fc92-46fd-a48c-8748ad04d014",
   "metadata": {
    "execution": {
     "iopub.execute_input": "2022-12-14T19:12:43.587704Z",
     "iopub.status.busy": "2022-12-14T19:12:43.587362Z",
     "iopub.status.idle": "2022-12-14T19:12:43.589975Z",
     "shell.execute_reply": "2022-12-14T19:12:43.589548Z"
    },
    "papermill": {
     "duration": 0.009208,
     "end_time": "2022-12-14T19:12:43.591333",
     "exception": false,
     "start_time": "2022-12-14T19:12:43.582125",
     "status": "completed"
    },
    "tags": []
   },
   "outputs": [],
   "source": [
    "log_files = OUTPUT_DIR.glob(\"*.log\")"
   ]
  },
  {
   "cell_type": "code",
   "execution_count": 9,
   "id": "01b58633-03fd-48c3-b95d-d1d37f19bd9c",
   "metadata": {
    "execution": {
     "iopub.execute_input": "2022-12-14T19:12:43.600728Z",
     "iopub.status.busy": "2022-12-14T19:12:43.600377Z",
     "iopub.status.idle": "2022-12-14T19:12:43.603580Z",
     "shell.execute_reply": "2022-12-14T19:12:43.603160Z"
    },
    "papermill": {
     "duration": 0.009392,
     "end_time": "2022-12-14T19:12:43.604910",
     "exception": false,
     "start_time": "2022-12-14T19:12:43.595518",
     "status": "completed"
    },
    "tags": []
   },
   "outputs": [],
   "source": [
    "for f in log_files:\n",
    "    read_log_file_and_check_line_exists(\n",
    "        f,\n",
    "        [\n",
    "            \"INFO - Finished converting GWAS in\",\n",
    "        ],\n",
    "    )"
   ]
  }
 ],
 "metadata": {
  "jupytext": {
   "cell_metadata_filter": "all,-execution,-papermill,-trusted"
  },
  "kernelspec": {
   "display_name": "Python 3 (ipykernel)",
   "language": "python",
   "name": "python3"
  },
  "language_info": {
   "codemirror_mode": {
    "name": "ipython",
    "version": 3
   },
   "file_extension": ".py",
   "mimetype": "text/x-python",
   "name": "python",
   "nbconvert_exporter": "python",
   "pygments_lexer": "ipython3",
   "version": "3.10.6"
  },
  "papermill": {
   "default_parameters": {},
   "duration": 265.865249,
   "end_time": "2022-12-14T19:12:43.825564",
   "environment_variables": {},
   "exception": null,
   "input_path": "projects/asthma-copd/nbs/10_gwas_harmonization/01-run_harmonization.ipynb",
   "output_path": "projects/asthma-copd/nbs/10_gwas_harmonization/01-run_harmonization.run.ipynb",
   "parameters": {
    "PHENOPLIER_NOTEBOOK_FILEPATH": "projects/asthma-copd/nbs/10_gwas_harmonization/01-run_harmonization.ipynb"
   },
   "start_time": "2022-12-14T19:08:17.960315",
   "version": "2.3.4"
  }
 },
 "nbformat": 4,
 "nbformat_minor": 5
}
