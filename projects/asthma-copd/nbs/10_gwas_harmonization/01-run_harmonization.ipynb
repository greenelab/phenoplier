{
 "cells": [
  {
   "cell_type": "markdown",
   "id": "c935aa7e-fde1-4d1c-b2d7-8c7ee611b1ed",
   "metadata": {
    "papermill": {
     "duration": 0.003462,
     "end_time": "2022-12-13T16:58:37.358877",
     "exception": false,
     "start_time": "2022-12-13T16:58:37.355415",
     "status": "completed"
    },
    "tags": []
   },
   "source": [
    "# Description"
   ]
  },
  {
   "cell_type": "markdown",
   "id": "f66770f7-0585-480b-8daa-1483bc37b494",
   "metadata": {
    "papermill": {
     "duration": 0.003132,
     "end_time": "2022-12-13T16:58:37.371417",
     "exception": false,
     "start_time": "2022-12-13T16:58:37.368285",
     "status": "completed"
    },
    "tags": []
   },
   "source": [
    "It runs the GWAS harmonization step from the script in: https://github.com/hakyimlab/summary-gwas-imputation"
   ]
  },
  {
   "cell_type": "markdown",
   "id": "d389dd7b-20d8-44ed-8053-6e2cd8efea2e",
   "metadata": {
    "papermill": {
     "duration": 0.002652,
     "end_time": "2022-12-13T16:58:37.376855",
     "exception": false,
     "start_time": "2022-12-13T16:58:37.374203",
     "status": "completed"
    },
    "tags": []
   },
   "source": [
    "# Modules"
   ]
  },
  {
   "cell_type": "code",
   "execution_count": 1,
   "id": "69797656-0db2-41d5-b4d6-63c24d47ad38",
   "metadata": {
    "execution": {
     "iopub.execute_input": "2022-12-13T16:58:37.383745Z",
     "iopub.status.busy": "2022-12-13T16:58:37.383333Z",
     "iopub.status.idle": "2022-12-13T16:58:37.419813Z",
     "shell.execute_reply": "2022-12-13T16:58:37.419218Z"
    },
    "papermill": {
     "duration": 0.041826,
     "end_time": "2022-12-13T16:58:37.421396",
     "exception": false,
     "start_time": "2022-12-13T16:58:37.379570",
     "status": "completed"
    },
    "tags": []
   },
   "outputs": [],
   "source": [
    "import os\n",
    "from glob import glob\n",
    "from pathlib import Path\n",
    "\n",
    "from utils import read_log_file_and_check_line_exists\n",
    "import conf"
   ]
  },
  {
   "cell_type": "markdown",
   "id": "dd17aa24-a692-4f62-ac69-c270447c7729",
   "metadata": {
    "papermill": {
     "duration": 0.002675,
     "end_time": "2022-12-13T16:58:37.427089",
     "exception": false,
     "start_time": "2022-12-13T16:58:37.424414",
     "status": "completed"
    },
    "tags": []
   },
   "source": [
    "# Settings"
   ]
  },
  {
   "cell_type": "markdown",
   "id": "3829ee6c-68b6-445e-adce-aa7a6280a56c",
   "metadata": {
    "papermill": {
     "duration": 0.002642,
     "end_time": "2022-12-13T16:58:37.432453",
     "exception": false,
     "start_time": "2022-12-13T16:58:37.429811",
     "status": "completed"
    },
    "tags": []
   },
   "source": [
    "Apparently, there is no easy way to get the parent directory of\n",
    "a notebook in Jupyter, so here I get that information either from\n",
    "the parameter sent by `nbs/run_nbs.sh` (if called from command-line) or\n",
    "from `os.getcwd()` (if called from browser)."
   ]
  },
  {
   "cell_type": "code",
   "execution_count": 2,
   "id": "e8f8093f-7738-448a-b29d-e9059684fcd1",
   "metadata": {
    "execution": {
     "iopub.execute_input": "2022-12-13T16:58:37.440080Z",
     "iopub.status.busy": "2022-12-13T16:58:37.439356Z",
     "iopub.status.idle": "2022-12-13T16:58:37.443950Z",
     "shell.execute_reply": "2022-12-13T16:58:37.443143Z"
    },
    "papermill": {
     "duration": 0.010177,
     "end_time": "2022-12-13T16:58:37.445491",
     "exception": false,
     "start_time": "2022-12-13T16:58:37.435314",
     "status": "completed"
    },
    "tags": [
     "parameters"
    ]
   },
   "outputs": [],
   "source": [
    "PHENOPLIER_NOTEBOOK_FILEPATH = None\n",
    "PHENOPLIER_NOTEBOOK_DIR = os.getcwd()"
   ]
  },
  {
   "cell_type": "code",
   "execution_count": 3,
   "id": "c9f245f0",
   "metadata": {
    "execution": {
     "iopub.execute_input": "2022-12-13T16:58:37.452447Z",
     "iopub.status.busy": "2022-12-13T16:58:37.452028Z",
     "iopub.status.idle": "2022-12-13T16:58:37.455056Z",
     "shell.execute_reply": "2022-12-13T16:58:37.454550Z"
    },
    "lines_to_next_cell": 2,
    "papermill": {
     "duration": 0.008016,
     "end_time": "2022-12-13T16:58:37.456388",
     "exception": false,
     "start_time": "2022-12-13T16:58:37.448372",
     "status": "completed"
    },
    "tags": [
     "injected-parameters"
    ]
   },
   "outputs": [],
   "source": [
    "# Parameters\n",
    "PHENOPLIER_NOTEBOOK_FILEPATH = (\n",
    "    \"projects/asthma-copd/nbs/10_gwas_harmonization/01-run_harmonization.ipynb\"\n",
    ")"
   ]
  },
  {
   "cell_type": "code",
   "execution_count": 4,
   "id": "80437810-fd28-40ba-8dab-f60424764bfd",
   "metadata": {
    "execution": {
     "iopub.execute_input": "2022-12-13T16:58:37.464015Z",
     "iopub.status.busy": "2022-12-13T16:58:37.463620Z",
     "iopub.status.idle": "2022-12-13T16:58:37.473078Z",
     "shell.execute_reply": "2022-12-13T16:58:37.472478Z"
    },
    "papermill": {
     "duration": 0.015045,
     "end_time": "2022-12-13T16:58:37.474492",
     "exception": false,
     "start_time": "2022-12-13T16:58:37.459447",
     "status": "completed"
    },
    "tags": []
   },
   "outputs": [
    {
     "data": {
      "text/plain": [
       "'projects/asthma-copd/nbs/10_gwas_harmonization'"
      ]
     },
     "metadata": {},
     "output_type": "display_data"
    }
   ],
   "source": [
    "if PHENOPLIER_NOTEBOOK_FILEPATH is not None:\n",
    "    PHENOPLIER_NOTEBOOK_DIR = str(Path(PHENOPLIER_NOTEBOOK_FILEPATH).parent)\n",
    "\n",
    "display(PHENOPLIER_NOTEBOOK_DIR)"
   ]
  },
  {
   "cell_type": "code",
   "execution_count": 5,
   "id": "7614a44c-cbef-48f5-a011-0876875d20eb",
   "metadata": {
    "execution": {
     "iopub.execute_input": "2022-12-13T16:58:37.482335Z",
     "iopub.status.busy": "2022-12-13T16:58:37.481875Z",
     "iopub.status.idle": "2022-12-13T16:58:37.487803Z",
     "shell.execute_reply": "2022-12-13T16:58:37.487288Z"
    },
    "papermill": {
     "duration": 0.011253,
     "end_time": "2022-12-13T16:58:37.489186",
     "exception": false,
     "start_time": "2022-12-13T16:58:37.477933",
     "status": "completed"
    },
    "tags": []
   },
   "outputs": [
    {
     "data": {
      "text/plain": [
       "PosixPath('/opt/data/projects/asthma-copd/results/harmonized_gwas')"
      ]
     },
     "metadata": {},
     "output_type": "display_data"
    },
    {
     "data": {
      "text/plain": [
       "'/opt/data/projects/asthma-copd/results/harmonized_gwas'"
      ]
     },
     "metadata": {},
     "output_type": "display_data"
    }
   ],
   "source": [
    "OUTPUT_DIR = conf.PROJECTS[\"ASTHMA_COPD\"][\"RESULTS_DIR\"] / \"harmonized_gwas\"\n",
    "display(OUTPUT_DIR)\n",
    "\n",
    "OUTPUT_DIR_STR = str(OUTPUT_DIR)\n",
    "display(OUTPUT_DIR_STR)"
   ]
  },
  {
   "cell_type": "markdown",
   "id": "3a558eec-2251-4be7-a754-1f98adde3aec",
   "metadata": {
    "papermill": {
     "duration": 0.003116,
     "end_time": "2022-12-13T16:58:37.495717",
     "exception": false,
     "start_time": "2022-12-13T16:58:37.492601",
     "status": "completed"
    },
    "tags": []
   },
   "source": [
    "# Run"
   ]
  },
  {
   "cell_type": "code",
   "execution_count": 6,
   "id": "0c0cd3d9-b032-4f03-82eb-0017a0ef1cca",
   "metadata": {
    "execution": {
     "iopub.execute_input": "2022-12-13T16:58:37.503157Z",
     "iopub.status.busy": "2022-12-13T16:58:37.502770Z",
     "iopub.status.idle": "2022-12-13T17:00:20.028194Z",
     "shell.execute_reply": "2022-12-13T17:00:20.027697Z"
    },
    "papermill": {
     "duration": 102.535696,
     "end_time": "2022-12-13T17:00:20.034556",
     "exception": false,
     "start_time": "2022-12-13T16:58:37.498860",
     "status": "completed"
    },
    "tags": []
   },
   "outputs": [
    {
     "name": "stdout",
     "output_type": "stream",
     "text": [
      "Running for asthma_only\n",
      "Saving results in /opt/data/projects/asthma-copd/results/harmonized_gwas\n",
      "\n",
      "Running for copd_only\n",
      "Saving results in /opt/data/projects/asthma-copd/results/harmonized_gwas\n",
      "\n",
      "Running for aco\n",
      "Saving results in /opt/data/projects/asthma-copd/results/harmonized_gwas\n",
      "\n"
     ]
    }
   ],
   "source": [
    "%%bash -s \"$PHENOPLIER_NOTEBOOK_DIR\" \"$OUTPUT_DIR_STR\"\n",
    "set -euo pipefail\n",
    "# IFS=$'\\n\\t'\n",
    "\n",
    "# read the notebook directory parameter and remove $1\n",
    "export PHENOPLIER_NOTEBOOK_DIR=\"${PHENOPLIER_CODE_DIR}/$1\"\n",
    "shift\n",
    "\n",
    "# read output dir\n",
    "export OUTPUT_DIR=\"$1\"\n",
    "shift\n",
    "\n",
    "run_job () {\n",
    "    # run_job is a standard function name that performs a particular job\n",
    "    # depending on the context. It will be called by GNU Parallel below.\n",
    "    #\n",
    "    # The implementation here runs the GLS model of PhenoPLIER on a trait.\n",
    "\n",
    "    # read trait information\n",
    "    # the first parameter to this function is a string with values separated by\n",
    "    # commas (,). So here I split those into different variables.\n",
    "    IFS=',' read -r pheno_id file sample_size n_cases <<< \"$1\"\n",
    "\n",
    "    INPUT_FILENAME=${file%.*}\n",
    "\n",
    "    LIFTOVER_CHAIN_FILE_PATH=\"${PHENOPLIER_GENERAL_LIFTOVER_HG19_TO_HG38}\"\n",
    "\n",
    "    # get input GWAS file, there should be a single file\n",
    "    # here I make sure that there are no other files in the folder that\n",
    "    # match this phenotype/trait filename prefix\n",
    "    GWAS_DIR=\"${PHENOPLIER_PROJECTS_ASTHMA_COPD_DATA_DIR}/gwas\"\n",
    "    N_GWAS_FILES=$(ls ${GWAS_DIR}/${INPUT_FILENAME}* | wc -l)\n",
    "    if [ \"${N_GWAS_FILES}\" != \"1\" ]; then\n",
    "        echo \"ERROR: found ${N_GWAS_FILES} GWAS files instead of one\"\n",
    "        exit 1\n",
    "    fi\n",
    "    INPUT_GWAS_FILEPATH=$(ls ${GWAS_DIR}/${INPUT_FILENAME}*)\n",
    "\n",
    "    mkdir -p \"${OUTPUT_DIR}\"\n",
    "\n",
    "    OUTPUT_FILENAME_BASE=\"${INPUT_FILENAME}-harmonized\"\n",
    "\n",
    "    LOG_FILE=\"${OUTPUT_DIR}/${OUTPUT_FILENAME_BASE}.log\"\n",
    "\n",
    "    # make sure we are not also parallelizing within numpy, etc\n",
    "    export NUMBA_NUM_THREADS=1\n",
    "    export MKL_NUM_THREADS=1\n",
    "    export OPEN_BLAS_NUM_THREADS=1\n",
    "    export NUMEXPR_NUM_THREADS=1\n",
    "    export OMP_NUM_THREADS=1\n",
    "\n",
    "    echo \"Running for $pheno_id\"\n",
    "    echo \"Saving results in ${OUTPUT_DIR}\"\n",
    "\n",
    "    bash \"${PHENOPLIER_CODE_DIR}/scripts/harmonize.sh\" \\\n",
    "        --input-gwas-file \"${INPUT_GWAS_FILEPATH}\" \\\n",
    "        --samples-n-cases ${n_cases} \\\n",
    "        --liftover-chain-file \"${LIFTOVER_CHAIN_FILE_PATH}\" \\\n",
    "        --output-dir \"${OUTPUT_DIR}\" \\\n",
    "    >\"${LOG_FILE}\" 2>&1\n",
    "\n",
    "    # print errors here in the notebook\n",
    "    cat \"${LOG_FILE}\" | grep -iE \"warning|error\"\n",
    "\n",
    "    echo\n",
    "}\n",
    "\n",
    "# export function so GNU Parallel can see it\n",
    "export -f run_job\n",
    "\n",
    "# generate a list of run_job calls for GNU Parallel\n",
    "# here I read a file with information about traits (one trait per line)\n",
    "while IFS= read -r line; do\n",
    "    echo run_job \"${line}\"\n",
    "done < <(tail -n \"+2\" \"${PHENOPLIER_PROJECTS_ASTHMA_COPD_TRAITS_INFO_FILE}\") |\n",
    "    parallel -k --lb --halt 2 -j${PHENOPLIER_GENERAL_N_JOBS}"
   ]
  },
  {
   "cell_type": "markdown",
   "id": "b9de8ab0-1d95-4d08-82bb-376e704fd0df",
   "metadata": {
    "papermill": {
     "duration": 0.005505,
     "end_time": "2022-12-13T17:00:20.044797",
     "exception": false,
     "start_time": "2022-12-13T17:00:20.039292",
     "status": "completed"
    },
    "tags": []
   },
   "source": [
    "# Perform some checks in output and log files"
   ]
  },
  {
   "cell_type": "code",
   "execution_count": 7,
   "id": "a48b5427-95ab-4d89-9b09-ea9f2344a6af",
   "metadata": {
    "execution": {
     "iopub.execute_input": "2022-12-13T17:00:20.053310Z",
     "iopub.status.busy": "2022-12-13T17:00:20.053094Z",
     "iopub.status.idle": "2022-12-13T17:00:20.055830Z",
     "shell.execute_reply": "2022-12-13T17:00:20.055274Z"
    },
    "papermill": {
     "duration": 0.00903,
     "end_time": "2022-12-13T17:00:20.057615",
     "exception": false,
     "start_time": "2022-12-13T17:00:20.048585",
     "status": "completed"
    },
    "tags": []
   },
   "outputs": [],
   "source": [
    "assert OUTPUT_DIR.exists()"
   ]
  },
  {
   "cell_type": "code",
   "execution_count": 8,
   "id": "6d2b50d0-fc92-46fd-a48c-8748ad04d014",
   "metadata": {
    "execution": {
     "iopub.execute_input": "2022-12-13T17:00:20.067130Z",
     "iopub.status.busy": "2022-12-13T17:00:20.066644Z",
     "iopub.status.idle": "2022-12-13T17:00:20.069724Z",
     "shell.execute_reply": "2022-12-13T17:00:20.069172Z"
    },
    "papermill": {
     "duration": 0.009828,
     "end_time": "2022-12-13T17:00:20.071847",
     "exception": false,
     "start_time": "2022-12-13T17:00:20.062019",
     "status": "completed"
    },
    "tags": []
   },
   "outputs": [],
   "source": [
    "log_files = OUTPUT_DIR.glob(\"*.log\")"
   ]
  },
  {
   "cell_type": "code",
   "execution_count": 9,
   "id": "01b58633-03fd-48c3-b95d-d1d37f19bd9c",
   "metadata": {
    "execution": {
     "iopub.execute_input": "2022-12-13T17:00:20.083467Z",
     "iopub.status.busy": "2022-12-13T17:00:20.083064Z",
     "iopub.status.idle": "2022-12-13T17:00:20.086697Z",
     "shell.execute_reply": "2022-12-13T17:00:20.086169Z"
    },
    "papermill": {
     "duration": 0.010547,
     "end_time": "2022-12-13T17:00:20.088326",
     "exception": false,
     "start_time": "2022-12-13T17:00:20.077779",
     "status": "completed"
    },
    "tags": []
   },
   "outputs": [],
   "source": [
    "for f in log_files:\n",
    "    read_log_file_and_check_line_exists(\n",
    "        f,\n",
    "        [\n",
    "            \"INFO - Finished converting GWAS in\",\n",
    "        ],\n",
    "    )"
   ]
  }
 ],
 "metadata": {
  "jupytext": {
   "cell_metadata_filter": "all,-execution,-papermill,-trusted"
  },
  "kernelspec": {
   "display_name": "Python 3 (ipykernel)",
   "language": "python",
   "name": "python3"
  },
  "language_info": {
   "codemirror_mode": {
    "name": "ipython",
    "version": 3
   },
   "file_extension": ".py",
   "mimetype": "text/x-python",
   "name": "python",
   "nbconvert_exporter": "python",
   "pygments_lexer": "ipython3",
   "version": "3.10.6"
  },
  "papermill": {
   "default_parameters": {},
   "duration": 103.839784,
   "end_time": "2022-12-13T17:00:20.311517",
   "environment_variables": {},
   "exception": null,
   "input_path": "projects/asthma-copd/nbs/10_gwas_harmonization/01-run_harmonization.ipynb",
   "output_path": "projects/asthma-copd/nbs/10_gwas_harmonization/01-run_harmonization.run.ipynb",
   "parameters": {
    "PHENOPLIER_NOTEBOOK_FILEPATH": "projects/asthma-copd/nbs/10_gwas_harmonization/01-run_harmonization.ipynb"
   },
   "start_time": "2022-12-13T16:58:36.471733",
   "version": "2.3.4"
  }
 },
 "nbformat": 4,
 "nbformat_minor": 5
}
