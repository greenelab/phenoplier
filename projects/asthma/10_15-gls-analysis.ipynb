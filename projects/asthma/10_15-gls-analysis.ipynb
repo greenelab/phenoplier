{
 "cells": [
  {
   "cell_type": "markdown",
   "id": "conventional-diabetes",
   "metadata": {
    "papermill": {
     "duration": 0.009833,
     "end_time": "2021-07-23T17:25:55.954498",
     "exception": false,
     "start_time": "2021-07-23T17:25:55.944665",
     "status": "completed"
    },
    "tags": []
   },
   "source": [
    "# Description"
   ]
  },
  {
   "cell_type": "markdown",
   "id": "printable-matrix",
   "metadata": {
    "papermill": {
     "duration": 0.005707,
     "end_time": "2021-07-23T17:25:55.966328",
     "exception": false,
     "start_time": "2021-07-23T17:25:55.960621",
     "status": "completed"
    },
    "tags": []
   },
   "source": [
    "TODO"
   ]
  },
  {
   "cell_type": "markdown",
   "id": "norwegian-arnold",
   "metadata": {
    "papermill": {
     "duration": 0.005793,
     "end_time": "2021-07-23T17:25:55.978150",
     "exception": false,
     "start_time": "2021-07-23T17:25:55.972357",
     "status": "completed"
    },
    "tags": []
   },
   "source": [
    "# Environment variables"
   ]
  },
  {
   "cell_type": "code",
   "execution_count": 1,
   "id": "certified-rehabilitation",
   "metadata": {
    "papermill": {
     "duration": 0.020318,
     "end_time": "2021-07-23T17:25:56.004379",
     "exception": false,
     "start_time": "2021-07-23T17:25:55.984061",
     "status": "completed"
    },
    "tags": []
   },
   "outputs": [],
   "source": [
    "%load_ext autoreload\n",
    "%autoreload 2"
   ]
  },
  {
   "cell_type": "code",
   "execution_count": 2,
   "id": "pretty-castle",
   "metadata": {
    "papermill": {
     "duration": 0.018095,
     "end_time": "2021-07-23T17:25:56.028679",
     "exception": false,
     "start_time": "2021-07-23T17:25:56.010584",
     "status": "completed"
    },
    "tags": []
   },
   "outputs": [],
   "source": [
    "import conf"
   ]
  },
  {
   "cell_type": "code",
   "execution_count": 3,
   "id": "becoming-ultimate",
   "metadata": {
    "papermill": {
     "duration": 0.018378,
     "end_time": "2021-07-23T17:25:56.053394",
     "exception": false,
     "start_time": "2021-07-23T17:25:56.035016",
     "status": "completed"
    },
    "tags": []
   },
   "outputs": [
    {
     "data": {
      "text/plain": [
       "2"
      ]
     },
     "metadata": {},
     "output_type": "display_data"
    }
   ],
   "source": [
    "N_JOBS = conf.GENERAL[\"N_JOBS\"]\n",
    "display(N_JOBS)"
   ]
  },
  {
   "cell_type": "code",
   "execution_count": 4,
   "id": "earned-birthday",
   "metadata": {
    "papermill": {
     "duration": 0.016606,
     "end_time": "2021-07-23T17:25:56.076874",
     "exception": false,
     "start_time": "2021-07-23T17:25:56.060268",
     "status": "completed"
    },
    "tags": []
   },
   "outputs": [
    {
     "name": "stdout",
     "output_type": "stream",
     "text": [
      "env: MKL_NUM_THREADS=2\n",
      "env: OPEN_BLAS_NUM_THREADS=2\n",
      "env: NUMEXPR_NUM_THREADS=2\n",
      "env: OMP_NUM_THREADS=2\n"
     ]
    }
   ],
   "source": [
    "%env MKL_NUM_THREADS=$N_JOBS\n",
    "%env OPEN_BLAS_NUM_THREADS=$N_JOBS\n",
    "%env NUMEXPR_NUM_THREADS=$N_JOBS\n",
    "%env OMP_NUM_THREADS=$N_JOBS"
   ]
  },
  {
   "cell_type": "markdown",
   "id": "excessive-nashville",
   "metadata": {
    "papermill": {
     "duration": 0.006813,
     "end_time": "2021-07-23T17:25:56.090647",
     "exception": false,
     "start_time": "2021-07-23T17:25:56.083834",
     "status": "completed"
    },
    "tags": []
   },
   "source": [
    "# Modules"
   ]
  },
  {
   "cell_type": "code",
   "execution_count": 5,
   "id": "protected-somewhere",
   "metadata": {
    "papermill": {
     "duration": 0.778949,
     "end_time": "2021-07-23T17:25:56.876453",
     "exception": false,
     "start_time": "2021-07-23T17:25:56.097504",
     "status": "completed"
    },
    "tags": []
   },
   "outputs": [],
   "source": [
    "import warnings\n",
    "from pathlib import Path\n",
    "\n",
    "# import statsmodels.api as sm\n",
    "# from statsmodels.stats.multitest import multipletests\n",
    "import numpy as np\n",
    "import pandas as pd\n",
    "\n",
    "# from sklearn.preprocessing import scale\n",
    "# from tqdm import tqdm\n",
    "\n",
    "# from gls import GLSPhenoplier"
   ]
  },
  {
   "cell_type": "markdown",
   "id": "particular-drink",
   "metadata": {
    "papermill": {
     "duration": 0.006703,
     "end_time": "2021-07-23T17:25:56.890565",
     "exception": false,
     "start_time": "2021-07-23T17:25:56.883862",
     "status": "completed"
    },
    "tags": []
   },
   "source": [
    "# Settings"
   ]
  },
  {
   "cell_type": "code",
   "execution_count": 6,
   "id": "biological-wholesale",
   "metadata": {
    "papermill": {
     "duration": 0.019873,
     "end_time": "2021-07-23T17:25:56.916952",
     "exception": false,
     "start_time": "2021-07-23T17:25:56.897079",
     "status": "completed"
    },
    "tags": []
   },
   "outputs": [
    {
     "data": {
      "text/plain": [
       "PosixPath('/home/miltondp/projects/labs/greenelab/phenoplier/bases/phenoplier_asthma/results/gls')"
      ]
     },
     "metadata": {},
     "output_type": "display_data"
    }
   ],
   "source": [
    "OUTPUT_DIR = conf.RESULTS[\"GLS\"]\n",
    "display(OUTPUT_DIR)\n",
    "\n",
    "assert OUTPUT_DIR.exists()"
   ]
  },
  {
   "cell_type": "markdown",
   "id": "needed-washington",
   "metadata": {
    "papermill": {
     "duration": 0.007055,
     "end_time": "2021-07-23T17:25:56.931254",
     "exception": false,
     "start_time": "2021-07-23T17:25:56.924199",
     "status": "completed"
    },
    "tags": []
   },
   "source": [
    "# Get results files"
   ]
  },
  {
   "cell_type": "code",
   "execution_count": 9,
   "id": "played-cholesterol",
   "metadata": {
    "papermill": {
     "duration": 0.020631,
     "end_time": "2021-07-23T17:25:56.958932",
     "exception": false,
     "start_time": "2021-07-23T17:25:56.938301",
     "status": "completed"
    },
    "tags": []
   },
   "outputs": [],
   "source": [
    "INPUT_FILES_PER_COHORT = {\n",
    "    \"phenomexcan\": list(OUTPUT_DIR.glob(\"gls_phenotypes*combined*phenomexcan*.pkl\")),\n",
    "    \"emerge\": list(OUTPUT_DIR.glob(\"gls_phenotypes*combined*emerge*.pkl\")),\n",
    "}"
   ]
  },
  {
   "cell_type": "code",
   "execution_count": 10,
   "id": "favorite-music",
   "metadata": {
    "papermill": {
     "duration": 0.021133,
     "end_time": "2021-07-23T17:25:56.987356",
     "exception": false,
     "start_time": "2021-07-23T17:25:56.966223",
     "status": "completed"
    },
    "tags": []
   },
   "outputs": [
    {
     "data": {
      "text/plain": [
       "{'phenomexcan': [PosixPath('/home/miltondp/projects/labs/greenelab/phenoplier/bases/phenoplier_asthma/results/gls/gls_phenotypes-combined-phenomexcan.pkl')],\n",
       " 'emerge': [PosixPath('/home/miltondp/projects/labs/greenelab/phenoplier/bases/phenoplier_asthma/results/gls/gls_phenotypes-combined-emerge.pkl')]}"
      ]
     },
     "metadata": {},
     "output_type": "display_data"
    }
   ],
   "source": [
    "display(INPUT_FILES_PER_COHORT)"
   ]
  },
  {
   "cell_type": "markdown",
   "id": "adopted-locator",
   "metadata": {
    "papermill": {
     "duration": 0.007348,
     "end_time": "2021-07-23T17:25:57.002214",
     "exception": false,
     "start_time": "2021-07-23T17:25:56.994866",
     "status": "completed"
    },
    "tags": []
   },
   "source": [
    "# PhenomeXcan"
   ]
  },
  {
   "cell_type": "code",
   "execution_count": 12,
   "id": "nearby-guide",
   "metadata": {
    "papermill": {
     "duration": 0.009776,
     "end_time": "2021-07-23T17:26:04.937423",
     "exception": false,
     "start_time": "2021-07-23T17:26:04.927647",
     "status": "completed"
    },
    "tags": []
   },
   "outputs": [],
   "source": [
    "phenomexcan_df = pd.read_pickle(INPUT_FILES_PER_COHORT[\"phenomexcan\"][0]).drop(\n",
    "    columns=[\"pvalue_twosided\", \"part_k\", \"cluster_id\"]\n",
    ")"
   ]
  },
  {
   "cell_type": "code",
   "execution_count": 13,
   "id": "declared-algeria",
   "metadata": {},
   "outputs": [
    {
     "data": {
      "text/plain": [
       "(100, 5)"
      ]
     },
     "execution_count": 13,
     "metadata": {},
     "output_type": "execute_result"
    }
   ],
   "source": [
    "phenomexcan_df.shape"
   ]
  },
  {
   "cell_type": "code",
   "execution_count": 14,
   "id": "subjective-passing",
   "metadata": {},
   "outputs": [],
   "source": [
    "phenomexcan_df = phenomexcan_df.replace(\n",
    "    {\n",
    "        \"phenotype\": {\n",
    "            \"6152_100-Blood_clot_DVT_bronchitis_emphysema_asthma_rhinitis_eczema_allergy_diagnosed_by_doctor_None_of_the_above\": \"Asthma/allergic rhinitis/atopic dermatitis\",\n",
    "            \"6152_8-Blood_clot_DVT_bronchitis_emphysema_asthma_rhinitis_eczema_allergy_diagnosed_by_doctor_Asthma\": \"Doctor diagnosed asthma\",\n",
    "            \"6152_9-Blood_clot_DVT_bronchitis_emphysema_asthma_rhinitis_eczema_allergy_diagnosed_by_doctor_Hayfever_allergic_rhinitis_or_eczema\": \"Doctor diagnosed allergic rhinitis or atopic dermatitis\",\n",
    "        }\n",
    "    }\n",
    ")"
   ]
  },
  {
   "cell_type": "code",
   "execution_count": 20,
   "id": "foster-screw",
   "metadata": {},
   "outputs": [
    {
     "data": {
      "text/html": [
       "<div>\n",
       "<style scoped>\n",
       "    .dataframe tbody tr th:only-of-type {\n",
       "        vertical-align: middle;\n",
       "    }\n",
       "\n",
       "    .dataframe tbody tr th {\n",
       "        vertical-align: top;\n",
       "    }\n",
       "\n",
       "    .dataframe thead th {\n",
       "        text-align: right;\n",
       "    }\n",
       "</style>\n",
       "<table border=\"1\" class=\"dataframe\">\n",
       "  <thead>\n",
       "    <tr style=\"text-align: right;\">\n",
       "      <th></th>\n",
       "      <th>phenotype</th>\n",
       "      <th>lv</th>\n",
       "      <th>coef</th>\n",
       "      <th>pvalue</th>\n",
       "      <th>fdr</th>\n",
       "    </tr>\n",
       "  </thead>\n",
       "  <tbody>\n",
       "    <tr>\n",
       "      <th>36</th>\n",
       "      <td>Asthma/allergic rhinitis/atopic dermatitis</td>\n",
       "      <td>LV948</td>\n",
       "      <td>0.086323</td>\n",
       "      <td>3.299886e-12</td>\n",
       "      <td>2.753432e-10</td>\n",
       "    </tr>\n",
       "    <tr>\n",
       "      <th>34</th>\n",
       "      <td>Asthma/allergic rhinitis/atopic dermatitis</td>\n",
       "      <td>LV96</td>\n",
       "      <td>0.085516</td>\n",
       "      <td>5.506865e-12</td>\n",
       "      <td>2.753432e-10</td>\n",
       "    </tr>\n",
       "    <tr>\n",
       "      <th>80</th>\n",
       "      <td>asthma</td>\n",
       "      <td>LV207</td>\n",
       "      <td>0.084608</td>\n",
       "      <td>1.191771e-11</td>\n",
       "      <td>3.972569e-10</td>\n",
       "    </tr>\n",
       "    <tr>\n",
       "      <th>49</th>\n",
       "      <td>Doctor diagnosed asthma</td>\n",
       "      <td>LV207</td>\n",
       "      <td>0.083574</td>\n",
       "      <td>2.052668e-11</td>\n",
       "      <td>5.073843e-10</td>\n",
       "    </tr>\n",
       "    <tr>\n",
       "      <th>73</th>\n",
       "      <td>Doctor diagnosed allergic rhinitis or atopic dermatitis</td>\n",
       "      <td>LV948</td>\n",
       "      <td>0.082493</td>\n",
       "      <td>2.536922e-11</td>\n",
       "      <td>5.073843e-10</td>\n",
       "    </tr>\n",
       "    <tr>\n",
       "      <th>94</th>\n",
       "      <td>asthma</td>\n",
       "      <td>LV948</td>\n",
       "      <td>0.076148</td>\n",
       "      <td>1.011494e-09</td>\n",
       "      <td>1.685824e-08</td>\n",
       "    </tr>\n",
       "    <tr>\n",
       "      <th>92</th>\n",
       "      <td>asthma</td>\n",
       "      <td>LV96</td>\n",
       "      <td>0.074659</td>\n",
       "      <td>2.171634e-09</td>\n",
       "      <td>3.102334e-08</td>\n",
       "    </tr>\n",
       "    <tr>\n",
       "      <th>30</th>\n",
       "      <td>Asthma/allergic rhinitis/atopic dermatitis</td>\n",
       "      <td>LV942</td>\n",
       "      <td>0.072792</td>\n",
       "      <td>3.880992e-09</td>\n",
       "      <td>4.851240e-08</td>\n",
       "    </tr>\n",
       "    <tr>\n",
       "      <th>77</th>\n",
       "      <td>Doctor diagnosed allergic rhinitis or atopic dermatitis</td>\n",
       "      <td>LV96</td>\n",
       "      <td>0.072162</td>\n",
       "      <td>4.840323e-09</td>\n",
       "      <td>5.378137e-08</td>\n",
       "    </tr>\n",
       "    <tr>\n",
       "      <th>53</th>\n",
       "      <td>Doctor diagnosed asthma</td>\n",
       "      <td>LV948</td>\n",
       "      <td>0.071636</td>\n",
       "      <td>8.440642e-09</td>\n",
       "      <td>8.440642e-08</td>\n",
       "    </tr>\n",
       "    <tr>\n",
       "      <th>76</th>\n",
       "      <td>Doctor diagnosed allergic rhinitis or atopic dermatitis</td>\n",
       "      <td>LV942</td>\n",
       "      <td>0.069717</td>\n",
       "      <td>1.546292e-08</td>\n",
       "      <td>1.405720e-07</td>\n",
       "    </tr>\n",
       "    <tr>\n",
       "      <th>28</th>\n",
       "      <td>Asthma/allergic rhinitis/atopic dermatitis</td>\n",
       "      <td>LV705</td>\n",
       "      <td>0.068230</td>\n",
       "      <td>1.754761e-08</td>\n",
       "      <td>1.462301e-07</td>\n",
       "    </tr>\n",
       "    <tr>\n",
       "      <th>56</th>\n",
       "      <td>Doctor diagnosed asthma</td>\n",
       "      <td>LV96</td>\n",
       "      <td>0.069187</td>\n",
       "      <td>2.652870e-08</td>\n",
       "      <td>1.935969e-07</td>\n",
       "    </tr>\n",
       "    <tr>\n",
       "      <th>26</th>\n",
       "      <td>Asthma/allergic rhinitis/atopic dermatitis</td>\n",
       "      <td>LV34</td>\n",
       "      <td>0.067080</td>\n",
       "      <td>2.710356e-08</td>\n",
       "      <td>1.935969e-07</td>\n",
       "    </tr>\n",
       "    <tr>\n",
       "      <th>64</th>\n",
       "      <td>Doctor diagnosed allergic rhinitis or atopic dermatitis</td>\n",
       "      <td>LV705</td>\n",
       "      <td>0.064599</td>\n",
       "      <td>8.637089e-08</td>\n",
       "      <td>5.398181e-07</td>\n",
       "    </tr>\n",
       "    <tr>\n",
       "      <th>93</th>\n",
       "      <td>asthma</td>\n",
       "      <td>LV525</td>\n",
       "      <td>0.064483</td>\n",
       "      <td>8.399860e-08</td>\n",
       "      <td>5.398181e-07</td>\n",
       "    </tr>\n",
       "    <tr>\n",
       "      <th>48</th>\n",
       "      <td>Doctor diagnosed asthma</td>\n",
       "      <td>LV705</td>\n",
       "      <td>0.064225</td>\n",
       "      <td>1.366395e-07</td>\n",
       "      <td>8.037620e-07</td>\n",
       "    </tr>\n",
       "    <tr>\n",
       "      <th>54</th>\n",
       "      <td>Doctor diagnosed asthma</td>\n",
       "      <td>LV525</td>\n",
       "      <td>0.061727</td>\n",
       "      <td>2.737078e-07</td>\n",
       "      <td>1.520599e-06</td>\n",
       "    </tr>\n",
       "    <tr>\n",
       "      <th>75</th>\n",
       "      <td>Doctor diagnosed allergic rhinitis or atopic dermatitis</td>\n",
       "      <td>LV644</td>\n",
       "      <td>0.060368</td>\n",
       "      <td>3.541650e-07</td>\n",
       "      <td>1.864026e-06</td>\n",
       "    </tr>\n",
       "    <tr>\n",
       "      <th>14</th>\n",
       "      <td>30120_raw-Lymphocyte_count</td>\n",
       "      <td>LV96</td>\n",
       "      <td>0.064273</td>\n",
       "      <td>4.387845e-07</td>\n",
       "      <td>2.193923e-06</td>\n",
       "    </tr>\n",
       "  </tbody>\n",
       "</table>\n",
       "</div>"
      ],
      "text/plain": [
       "                                                  phenotype     lv      coef  \\\n",
       "36               Asthma/allergic rhinitis/atopic dermatitis  LV948  0.086323   \n",
       "34               Asthma/allergic rhinitis/atopic dermatitis   LV96  0.085516   \n",
       "80                                                   asthma  LV207  0.084608   \n",
       "49                                  Doctor diagnosed asthma  LV207  0.083574   \n",
       "73  Doctor diagnosed allergic rhinitis or atopic dermatitis  LV948  0.082493   \n",
       "94                                                   asthma  LV948  0.076148   \n",
       "92                                                   asthma   LV96  0.074659   \n",
       "30               Asthma/allergic rhinitis/atopic dermatitis  LV942  0.072792   \n",
       "77  Doctor diagnosed allergic rhinitis or atopic dermatitis   LV96  0.072162   \n",
       "53                                  Doctor diagnosed asthma  LV948  0.071636   \n",
       "76  Doctor diagnosed allergic rhinitis or atopic dermatitis  LV942  0.069717   \n",
       "28               Asthma/allergic rhinitis/atopic dermatitis  LV705  0.068230   \n",
       "56                                  Doctor diagnosed asthma   LV96  0.069187   \n",
       "26               Asthma/allergic rhinitis/atopic dermatitis   LV34  0.067080   \n",
       "64  Doctor diagnosed allergic rhinitis or atopic dermatitis  LV705  0.064599   \n",
       "93                                                   asthma  LV525  0.064483   \n",
       "48                                  Doctor diagnosed asthma  LV705  0.064225   \n",
       "54                                  Doctor diagnosed asthma  LV525  0.061727   \n",
       "75  Doctor diagnosed allergic rhinitis or atopic dermatitis  LV644  0.060368   \n",
       "14                               30120_raw-Lymphocyte_count   LV96  0.064273   \n",
       "\n",
       "          pvalue           fdr  \n",
       "36  3.299886e-12  2.753432e-10  \n",
       "34  5.506865e-12  2.753432e-10  \n",
       "80  1.191771e-11  3.972569e-10  \n",
       "49  2.052668e-11  5.073843e-10  \n",
       "73  2.536922e-11  5.073843e-10  \n",
       "94  1.011494e-09  1.685824e-08  \n",
       "92  2.171634e-09  3.102334e-08  \n",
       "30  3.880992e-09  4.851240e-08  \n",
       "77  4.840323e-09  5.378137e-08  \n",
       "53  8.440642e-09  8.440642e-08  \n",
       "76  1.546292e-08  1.405720e-07  \n",
       "28  1.754761e-08  1.462301e-07  \n",
       "56  2.652870e-08  1.935969e-07  \n",
       "26  2.710356e-08  1.935969e-07  \n",
       "64  8.637089e-08  5.398181e-07  \n",
       "93  8.399860e-08  5.398181e-07  \n",
       "48  1.366395e-07  8.037620e-07  \n",
       "54  2.737078e-07  1.520599e-06  \n",
       "75  3.541650e-07  1.864026e-06  \n",
       "14  4.387845e-07  2.193923e-06  "
      ]
     },
     "metadata": {},
     "output_type": "display_data"
    }
   ],
   "source": [
    "with pd.option_context(\n",
    "    \"display.max_rows\", None, \"display.max_columns\", None, \"display.max_colwidth\", None\n",
    "):\n",
    "    tmp = phenomexcan_df.sort_values(\"fdr\").head(20)\n",
    "    display(tmp)"
   ]
  },
  {
   "cell_type": "markdown",
   "id": "brilliant-broadcast",
   "metadata": {
    "papermill": {
     "duration": 0.007348,
     "end_time": "2021-07-23T17:25:57.002214",
     "exception": false,
     "start_time": "2021-07-23T17:25:56.994866",
     "status": "completed"
    },
    "tags": []
   },
   "source": [
    "# eMERGE"
   ]
  },
  {
   "cell_type": "markdown",
   "id": "organic-berkeley",
   "metadata": {},
   "source": [
    "## Trait info"
   ]
  },
  {
   "cell_type": "code",
   "execution_count": 25,
   "id": "athletic-duplicate",
   "metadata": {},
   "outputs": [
    {
     "data": {
      "text/plain": [
       "PosixPath('/home/miltondp/projects/labs/greenelab/phenoplier/bases/phenoplier/data/emerge/eMERGE_III_PMBB_GSA_v2_2020_phecode_AFR_EUR_cc50_counts_w_dictionary.txt')"
      ]
     },
     "metadata": {},
     "output_type": "display_data"
    }
   ],
   "source": [
    "input_filepath = conf.EMERGE[\"DESC_FILE_WITH_SAMPLE_SIZE\"]\n",
    "display(input_filepath)"
   ]
  },
  {
   "cell_type": "code",
   "execution_count": 38,
   "id": "matched-result",
   "metadata": {},
   "outputs": [],
   "source": [
    "emerge_traits_df = pd.read_csv(\n",
    "    input_filepath,\n",
    "    sep=\"\\t\",\n",
    "    dtype={\"phecode\": str},\n",
    "    usecols=[\"phecode\", \"phenotype\", \"category\"],\n",
    ")"
   ]
  },
  {
   "cell_type": "code",
   "execution_count": 39,
   "id": "empty-charity",
   "metadata": {},
   "outputs": [],
   "source": [
    "emerge_traits_df = emerge_traits_df.rename(\n",
    "    columns={\n",
    "        \"phenotype\": \"phecode_phenotype\",\n",
    "        \"category\": \"phecode_category\",\n",
    "    }\n",
    ")"
   ]
  },
  {
   "cell_type": "code",
   "execution_count": 43,
   "id": "native-neutral",
   "metadata": {},
   "outputs": [],
   "source": [
    "assert emerge_traits_df[\"phecode\"].is_unique\n",
    "emerge_traits_df = emerge_traits_df.set_index(\"phecode\")"
   ]
  },
  {
   "cell_type": "code",
   "execution_count": 44,
   "id": "fabulous-jacksonville",
   "metadata": {},
   "outputs": [
    {
     "data": {
      "text/plain": [
       "(309, 2)"
      ]
     },
     "execution_count": 44,
     "metadata": {},
     "output_type": "execute_result"
    }
   ],
   "source": [
    "emerge_traits_df.shape"
   ]
  },
  {
   "cell_type": "code",
   "execution_count": 45,
   "id": "acting-tokyo",
   "metadata": {},
   "outputs": [
    {
     "data": {
      "text/html": [
       "<div>\n",
       "<style scoped>\n",
       "    .dataframe tbody tr th:only-of-type {\n",
       "        vertical-align: middle;\n",
       "    }\n",
       "\n",
       "    .dataframe tbody tr th {\n",
       "        vertical-align: top;\n",
       "    }\n",
       "\n",
       "    .dataframe thead th {\n",
       "        text-align: right;\n",
       "    }\n",
       "</style>\n",
       "<table border=\"1\" class=\"dataframe\">\n",
       "  <thead>\n",
       "    <tr style=\"text-align: right;\">\n",
       "      <th></th>\n",
       "      <th>phecode_phenotype</th>\n",
       "      <th>phecode_category</th>\n",
       "    </tr>\n",
       "    <tr>\n",
       "      <th>phecode</th>\n",
       "      <th></th>\n",
       "      <th></th>\n",
       "    </tr>\n",
       "  </thead>\n",
       "  <tbody>\n",
       "    <tr>\n",
       "      <th>008</th>\n",
       "      <td>Intestinal infection</td>\n",
       "      <td>infectious diseases</td>\n",
       "    </tr>\n",
       "    <tr>\n",
       "      <th>008.5</th>\n",
       "      <td>Bacterial enteritis</td>\n",
       "      <td>infectious diseases</td>\n",
       "    </tr>\n",
       "    <tr>\n",
       "      <th>008.52</th>\n",
       "      <td>Intestinal infection due to C. difficile</td>\n",
       "      <td>infectious diseases</td>\n",
       "    </tr>\n",
       "    <tr>\n",
       "      <th>038</th>\n",
       "      <td>Septicemia</td>\n",
       "      <td>infectious diseases</td>\n",
       "    </tr>\n",
       "    <tr>\n",
       "      <th>038.3</th>\n",
       "      <td>Bacteremia</td>\n",
       "      <td>infectious diseases</td>\n",
       "    </tr>\n",
       "  </tbody>\n",
       "</table>\n",
       "</div>"
      ],
      "text/plain": [
       "                                phecode_phenotype     phecode_category\n",
       "phecode                                                               \n",
       "008                          Intestinal infection  infectious diseases\n",
       "008.5                         Bacterial enteritis  infectious diseases\n",
       "008.52   Intestinal infection due to C. difficile  infectious diseases\n",
       "038                                    Septicemia  infectious diseases\n",
       "038.3                                  Bacteremia  infectious diseases"
      ]
     },
     "execution_count": 45,
     "metadata": {},
     "output_type": "execute_result"
    }
   ],
   "source": [
    "emerge_traits_df.head()"
   ]
  },
  {
   "cell_type": "code",
   "execution_count": 46,
   "id": "prescription-switzerland",
   "metadata": {},
   "outputs": [],
   "source": [
    "emerge_code_desc_map = emerge_traits_df[\"phecode_phenotype\"].to_dict()"
   ]
  },
  {
   "cell_type": "code",
   "execution_count": 66,
   "id": "czech-estate",
   "metadata": {},
   "outputs": [],
   "source": [
    "emerge_code_category_map = emerge_traits_df[\"phecode_category\"].to_dict()"
   ]
  },
  {
   "cell_type": "markdown",
   "id": "behind-framework",
   "metadata": {},
   "source": [
    "## Association results"
   ]
  },
  {
   "cell_type": "code",
   "execution_count": 71,
   "id": "removable-premises",
   "metadata": {
    "papermill": {
     "duration": 0.009776,
     "end_time": "2021-07-23T17:26:04.937423",
     "exception": false,
     "start_time": "2021-07-23T17:26:04.927647",
     "status": "completed"
    },
    "tags": []
   },
   "outputs": [],
   "source": [
    "emerge_df = pd.read_pickle(INPUT_FILES_PER_COHORT[\"emerge\"][0]).drop(\n",
    "    columns=[\"pvalue_twosided\"]\n",
    ")"
   ]
  },
  {
   "cell_type": "code",
   "execution_count": 72,
   "id": "complete-prime",
   "metadata": {},
   "outputs": [],
   "source": [
    "emerge_df.insert(\n",
    "    1, \"phenotype_desc\", emerge_df[\"phenotype\"].apply(lambda x: emerge_code_desc_map[x])\n",
    ")\n",
    "emerge_df.insert(\n",
    "    2,\n",
    "    \"phenotype_category\",\n",
    "    emerge_df[\"phenotype\"].apply(lambda x: emerge_code_category_map[x]),\n",
    ")"
   ]
  },
  {
   "cell_type": "code",
   "execution_count": 73,
   "id": "handed-writer",
   "metadata": {},
   "outputs": [
    {
     "data": {
      "text/plain": [
       "(6180, 7)"
      ]
     },
     "execution_count": 73,
     "metadata": {},
     "output_type": "execute_result"
    }
   ],
   "source": [
    "emerge_df.shape"
   ]
  },
  {
   "cell_type": "code",
   "execution_count": 74,
   "id": "green-farming",
   "metadata": {},
   "outputs": [
    {
     "data": {
      "text/html": [
       "<div>\n",
       "<style scoped>\n",
       "    .dataframe tbody tr th:only-of-type {\n",
       "        vertical-align: middle;\n",
       "    }\n",
       "\n",
       "    .dataframe tbody tr th {\n",
       "        vertical-align: top;\n",
       "    }\n",
       "\n",
       "    .dataframe thead th {\n",
       "        text-align: right;\n",
       "    }\n",
       "</style>\n",
       "<table border=\"1\" class=\"dataframe\">\n",
       "  <thead>\n",
       "    <tr style=\"text-align: right;\">\n",
       "      <th></th>\n",
       "      <th>phenotype</th>\n",
       "      <th>phenotype_desc</th>\n",
       "      <th>phenotype_category</th>\n",
       "      <th>lv</th>\n",
       "      <th>coef</th>\n",
       "      <th>pvalue</th>\n",
       "      <th>fdr</th>\n",
       "    </tr>\n",
       "  </thead>\n",
       "  <tbody>\n",
       "    <tr>\n",
       "      <th>0</th>\n",
       "      <td>008</td>\n",
       "      <td>Intestinal infection</td>\n",
       "      <td>infectious diseases</td>\n",
       "      <td>LV948</td>\n",
       "      <td>-0.010377</td>\n",
       "      <td>0.791969</td>\n",
       "      <td>0.998269</td>\n",
       "    </tr>\n",
       "    <tr>\n",
       "      <th>1</th>\n",
       "      <td>008</td>\n",
       "      <td>Intestinal infection</td>\n",
       "      <td>infectious diseases</td>\n",
       "      <td>LV96</td>\n",
       "      <td>-0.011360</td>\n",
       "      <td>0.813072</td>\n",
       "      <td>0.998269</td>\n",
       "    </tr>\n",
       "    <tr>\n",
       "      <th>2</th>\n",
       "      <td>008</td>\n",
       "      <td>Intestinal infection</td>\n",
       "      <td>infectious diseases</td>\n",
       "      <td>LV335</td>\n",
       "      <td>0.004037</td>\n",
       "      <td>0.375220</td>\n",
       "      <td>0.998269</td>\n",
       "    </tr>\n",
       "    <tr>\n",
       "      <th>3</th>\n",
       "      <td>008</td>\n",
       "      <td>Intestinal infection</td>\n",
       "      <td>infectious diseases</td>\n",
       "      <td>LV679</td>\n",
       "      <td>-0.016359</td>\n",
       "      <td>0.906661</td>\n",
       "      <td>0.998269</td>\n",
       "    </tr>\n",
       "    <tr>\n",
       "      <th>4</th>\n",
       "      <td>008</td>\n",
       "      <td>Intestinal infection</td>\n",
       "      <td>infectious diseases</td>\n",
       "      <td>LV207</td>\n",
       "      <td>0.010934</td>\n",
       "      <td>0.195141</td>\n",
       "      <td>0.975890</td>\n",
       "    </tr>\n",
       "  </tbody>\n",
       "</table>\n",
       "</div>"
      ],
      "text/plain": [
       "  phenotype        phenotype_desc   phenotype_category     lv      coef  \\\n",
       "0       008  Intestinal infection  infectious diseases  LV948 -0.010377   \n",
       "1       008  Intestinal infection  infectious diseases   LV96 -0.011360   \n",
       "2       008  Intestinal infection  infectious diseases  LV335  0.004037   \n",
       "3       008  Intestinal infection  infectious diseases  LV679 -0.016359   \n",
       "4       008  Intestinal infection  infectious diseases  LV207  0.010934   \n",
       "\n",
       "     pvalue       fdr  \n",
       "0  0.791969  0.998269  \n",
       "1  0.813072  0.998269  \n",
       "2  0.375220  0.998269  \n",
       "3  0.906661  0.998269  \n",
       "4  0.195141  0.975890  "
      ]
     },
     "execution_count": 74,
     "metadata": {},
     "output_type": "execute_result"
    }
   ],
   "source": [
    "emerge_df.head()"
   ]
  },
  {
   "cell_type": "code",
   "execution_count": 75,
   "id": "lesbian-amber",
   "metadata": {},
   "outputs": [],
   "source": [
    "# phenomexcan_df = phenomexcan_df.replace(\n",
    "#     {\n",
    "#         \"phenotype\": {\n",
    "#             \"6152_100-Blood_clot_DVT_bronchitis_emphysema_asthma_rhinitis_eczema_allergy_diagnosed_by_doctor_None_of_the_above\": \"Asthma/allergic rhinitis/atopic dermatitis\",\n",
    "#             \"6152_8-Blood_clot_DVT_bronchitis_emphysema_asthma_rhinitis_eczema_allergy_diagnosed_by_doctor_Asthma\": \"Doctor diagnosed asthma\",\n",
    "#             \"6152_9-Blood_clot_DVT_bronchitis_emphysema_asthma_rhinitis_eczema_allergy_diagnosed_by_doctor_Hayfever_allergic_rhinitis_or_eczema\": \"Doctor diagnosed allergic rhinitis or atopic dermatitis\",\n",
    "#         }\n",
    "#     }\n",
    "# )"
   ]
  },
  {
   "cell_type": "code",
   "execution_count": 76,
   "id": "strange-telescope",
   "metadata": {},
   "outputs": [
    {
     "data": {
      "text/html": [
       "<div>\n",
       "<style scoped>\n",
       "    .dataframe tbody tr th:only-of-type {\n",
       "        vertical-align: middle;\n",
       "    }\n",
       "\n",
       "    .dataframe tbody tr th {\n",
       "        vertical-align: top;\n",
       "    }\n",
       "\n",
       "    .dataframe thead th {\n",
       "        text-align: right;\n",
       "    }\n",
       "</style>\n",
       "<table border=\"1\" class=\"dataframe\">\n",
       "  <thead>\n",
       "    <tr style=\"text-align: right;\">\n",
       "      <th></th>\n",
       "      <th>phenotype</th>\n",
       "      <th>phenotype_desc</th>\n",
       "      <th>phenotype_category</th>\n",
       "      <th>lv</th>\n",
       "      <th>coef</th>\n",
       "      <th>pvalue</th>\n",
       "      <th>fdr</th>\n",
       "    </tr>\n",
       "  </thead>\n",
       "  <tbody>\n",
       "    <tr>\n",
       "      <th>4225</th>\n",
       "      <td>509</td>\n",
       "      <td>Respiratory failure, insufficiency, arrest</td>\n",
       "      <td>respiratory</td>\n",
       "      <td>LV207</td>\n",
       "      <td>0.059579</td>\n",
       "      <td>0.000001</td>\n",
       "      <td>0.008138</td>\n",
       "    </tr>\n",
       "    <tr>\n",
       "      <th>3371</th>\n",
       "      <td>429</td>\n",
       "      <td>Ill-defined descriptions and complications of heart disease</td>\n",
       "      <td>circulatory system</td>\n",
       "      <td>LV444</td>\n",
       "      <td>0.051574</td>\n",
       "      <td>0.000015</td>\n",
       "      <td>0.044697</td>\n",
       "    </tr>\n",
       "    <tr>\n",
       "      <th>5212</th>\n",
       "      <td>591</td>\n",
       "      <td>Urinary tract infection</td>\n",
       "      <td>genitourinary</td>\n",
       "      <td>LV564</td>\n",
       "      <td>0.051078</td>\n",
       "      <td>0.000022</td>\n",
       "      <td>0.044697</td>\n",
       "    </tr>\n",
       "    <tr>\n",
       "      <th>3319</th>\n",
       "      <td>428.2</td>\n",
       "      <td>Heart failure NOS</td>\n",
       "      <td>circulatory system</td>\n",
       "      <td>LV390</td>\n",
       "      <td>0.047641</td>\n",
       "      <td>0.000077</td>\n",
       "      <td>0.059729</td>\n",
       "    </tr>\n",
       "    <tr>\n",
       "      <th>3716</th>\n",
       "      <td>443.9</td>\n",
       "      <td>Peripheral vascular disease, unspecified</td>\n",
       "      <td>circulatory system</td>\n",
       "      <td>LV644</td>\n",
       "      <td>0.047482</td>\n",
       "      <td>0.000066</td>\n",
       "      <td>0.059729</td>\n",
       "    </tr>\n",
       "    <tr>\n",
       "      <th>4031</th>\n",
       "      <td>480</td>\n",
       "      <td>Pneumonia</td>\n",
       "      <td>respiratory</td>\n",
       "      <td>LV882</td>\n",
       "      <td>0.045475</td>\n",
       "      <td>0.000069</td>\n",
       "      <td>0.059729</td>\n",
       "    </tr>\n",
       "    <tr>\n",
       "      <th>4072</th>\n",
       "      <td>483</td>\n",
       "      <td>Acute bronchitis and bronchiolitis</td>\n",
       "      <td>respiratory</td>\n",
       "      <td>LV882</td>\n",
       "      <td>0.046222</td>\n",
       "      <td>0.000059</td>\n",
       "      <td>0.059729</td>\n",
       "    </tr>\n",
       "    <tr>\n",
       "      <th>4681</th>\n",
       "      <td>564</td>\n",
       "      <td>Functional digestive disorders</td>\n",
       "      <td>digestive</td>\n",
       "      <td>LV882</td>\n",
       "      <td>0.046387</td>\n",
       "      <td>0.000051</td>\n",
       "      <td>0.059729</td>\n",
       "    </tr>\n",
       "    <tr>\n",
       "      <th>589</th>\n",
       "      <td>244</td>\n",
       "      <td>Hypothyroidism</td>\n",
       "      <td>endocrine/metabolic</td>\n",
       "      <td>LV948</td>\n",
       "      <td>0.047649</td>\n",
       "      <td>0.000113</td>\n",
       "      <td>0.065554</td>\n",
       "    </tr>\n",
       "    <tr>\n",
       "      <th>3076</th>\n",
       "      <td>427.11</td>\n",
       "      <td>Paroxysmal supraventricular tachycardia</td>\n",
       "      <td>circulatory system</td>\n",
       "      <td>LV948</td>\n",
       "      <td>0.046780</td>\n",
       "      <td>0.000113</td>\n",
       "      <td>0.065554</td>\n",
       "    </tr>\n",
       "    <tr>\n",
       "      <th>4055</th>\n",
       "      <td>480.1</td>\n",
       "      <td>Bacterial pneumonia</td>\n",
       "      <td>respiratory</td>\n",
       "      <td>LV941</td>\n",
       "      <td>0.047452</td>\n",
       "      <td>0.000117</td>\n",
       "      <td>0.065554</td>\n",
       "    </tr>\n",
       "    <tr>\n",
       "      <th>2039</th>\n",
       "      <td>366.2</td>\n",
       "      <td>Senile cataract</td>\n",
       "      <td>sense organs</td>\n",
       "      <td>LV941</td>\n",
       "      <td>0.046051</td>\n",
       "      <td>0.000159</td>\n",
       "      <td>0.075474</td>\n",
       "    </tr>\n",
       "    <tr>\n",
       "      <th>3674</th>\n",
       "      <td>442.11</td>\n",
       "      <td>Abdominal aortic aneurysm</td>\n",
       "      <td>circulatory system</td>\n",
       "      <td>LV644</td>\n",
       "      <td>0.044667</td>\n",
       "      <td>0.000158</td>\n",
       "      <td>0.075474</td>\n",
       "    </tr>\n",
       "    <tr>\n",
       "      <th>75</th>\n",
       "      <td>038</td>\n",
       "      <td>Septicemia</td>\n",
       "      <td>infectious diseases</td>\n",
       "      <td>LV335</td>\n",
       "      <td>0.045394</td>\n",
       "      <td>0.000191</td>\n",
       "      <td>0.080244</td>\n",
       "    </tr>\n",
       "    <tr>\n",
       "      <th>3422</th>\n",
       "      <td>429.3</td>\n",
       "      <td>Symptoms involving cardiovascular system</td>\n",
       "      <td>circulatory system</td>\n",
       "      <td>LV444</td>\n",
       "      <td>0.044109</td>\n",
       "      <td>0.000195</td>\n",
       "      <td>0.080244</td>\n",
       "    </tr>\n",
       "  </tbody>\n",
       "</table>\n",
       "</div>"
      ],
      "text/plain": [
       "     phenotype                                               phenotype_desc  \\\n",
       "4225       509                   Respiratory failure, insufficiency, arrest   \n",
       "3371       429  Ill-defined descriptions and complications of heart disease   \n",
       "5212       591                                      Urinary tract infection   \n",
       "3319     428.2                                            Heart failure NOS   \n",
       "3716     443.9                     Peripheral vascular disease, unspecified   \n",
       "4031       480                                                    Pneumonia   \n",
       "4072       483                           Acute bronchitis and bronchiolitis   \n",
       "4681       564                               Functional digestive disorders   \n",
       "589        244                                               Hypothyroidism   \n",
       "3076    427.11                      Paroxysmal supraventricular tachycardia   \n",
       "4055     480.1                                          Bacterial pneumonia   \n",
       "2039     366.2                                              Senile cataract   \n",
       "3674    442.11                                    Abdominal aortic aneurysm   \n",
       "75         038                                                   Septicemia   \n",
       "3422     429.3                     Symptoms involving cardiovascular system   \n",
       "\n",
       "       phenotype_category     lv      coef    pvalue       fdr  \n",
       "4225          respiratory  LV207  0.059579  0.000001  0.008138  \n",
       "3371   circulatory system  LV444  0.051574  0.000015  0.044697  \n",
       "5212        genitourinary  LV564  0.051078  0.000022  0.044697  \n",
       "3319   circulatory system  LV390  0.047641  0.000077  0.059729  \n",
       "3716   circulatory system  LV644  0.047482  0.000066  0.059729  \n",
       "4031          respiratory  LV882  0.045475  0.000069  0.059729  \n",
       "4072          respiratory  LV882  0.046222  0.000059  0.059729  \n",
       "4681            digestive  LV882  0.046387  0.000051  0.059729  \n",
       "589   endocrine/metabolic  LV948  0.047649  0.000113  0.065554  \n",
       "3076   circulatory system  LV948  0.046780  0.000113  0.065554  \n",
       "4055          respiratory  LV941  0.047452  0.000117  0.065554  \n",
       "2039         sense organs  LV941  0.046051  0.000159  0.075474  \n",
       "3674   circulatory system  LV644  0.044667  0.000158  0.075474  \n",
       "75    infectious diseases  LV335  0.045394  0.000191  0.080244  \n",
       "3422   circulatory system  LV444  0.044109  0.000195  0.080244  "
      ]
     },
     "metadata": {},
     "output_type": "display_data"
    }
   ],
   "source": [
    "with pd.option_context(\n",
    "    \"display.max_rows\", None, \"display.max_columns\", None, \"display.max_colwidth\", None\n",
    "):\n",
    "    tmp = emerge_df[emerge_df.fdr < 0.10]\n",
    "    tmp = tmp.sort_values(\"fdr\").head(20)\n",
    "    display(tmp)"
   ]
  },
  {
   "cell_type": "code",
   "execution_count": null,
   "id": "existing-artwork",
   "metadata": {},
   "outputs": [],
   "source": []
  }
 ],
 "metadata": {
  "jupytext": {
   "cell_metadata_filter": "all,-execution,-papermill,-trusted",
   "formats": "ipynb,py//py:percent"
  },
  "kernelspec": {
   "display_name": "Python 3",
   "language": "python",
   "name": "python3"
  },
  "language_info": {
   "codemirror_mode": {
    "name": "ipython",
    "version": 3
   },
   "file_extension": ".py",
   "mimetype": "text/x-python",
   "name": "python",
   "nbconvert_exporter": "python",
   "pygments_lexer": "ipython3",
   "version": "3.8.8"
  },
  "papermill": {
   "default_parameters": {},
   "duration": 11.07736,
   "end_time": "2021-07-23T17:26:06.055665",
   "environment_variables": {},
   "exception": null,
   "input_path": "08_gsa_gls/50-gls-fdr.ipynb",
   "output_path": "08_gsa_gls/50-gls-fdr.run.ipynb",
   "parameters": {},
   "start_time": "2021-07-23T17:25:54.978305",
   "version": "2.2.2"
  }
 },
 "nbformat": 4,
 "nbformat_minor": 5
}
