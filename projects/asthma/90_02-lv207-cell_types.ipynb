{
 "cells": [
  {
   "cell_type": "markdown",
   "id": "wrong-range",
   "metadata": {
    "papermill": {
     "duration": 0.006593,
     "end_time": "2021-05-11T19:09:55.733221",
     "exception": false,
     "start_time": "2021-05-11T19:09:55.726628",
     "status": "completed"
    },
    "tags": []
   },
   "source": [
    "# Description"
   ]
  },
  {
   "cell_type": "markdown",
   "id": "listed-there",
   "metadata": {
    "papermill": {
     "duration": 0.00668,
     "end_time": "2021-05-11T19:09:55.745410",
     "exception": false,
     "start_time": "2021-05-11T19:09:55.738730",
     "status": "completed"
    },
    "tags": []
   },
   "source": [
    "Generates the figure for top cell types for a specified LV (in Settings section below)."
   ]
  },
  {
   "cell_type": "markdown",
   "id": "internal-choir",
   "metadata": {
    "papermill": {
     "duration": 0.006223,
     "end_time": "2021-05-11T19:09:55.756959",
     "exception": false,
     "start_time": "2021-05-11T19:09:55.750736",
     "status": "completed"
    },
    "tags": []
   },
   "source": [
    "# Modules loading"
   ]
  },
  {
   "cell_type": "code",
   "execution_count": 1,
   "id": "sought-sheep",
   "metadata": {
    "papermill": {
     "duration": 0.01906,
     "end_time": "2021-05-11T19:09:55.781515",
     "exception": false,
     "start_time": "2021-05-11T19:09:55.762455",
     "status": "completed"
    },
    "tags": []
   },
   "outputs": [],
   "source": [
    "%load_ext autoreload\n",
    "%autoreload 2"
   ]
  },
  {
   "cell_type": "code",
   "execution_count": 2,
   "id": "indirect-stomach",
   "metadata": {
    "papermill": {
     "duration": 0.993432,
     "end_time": "2021-05-11T19:09:56.780403",
     "exception": false,
     "start_time": "2021-05-11T19:09:55.786971",
     "status": "completed"
    },
    "tags": []
   },
   "outputs": [],
   "source": [
    "import re\n",
    "from pathlib import Path\n",
    "\n",
    "import pandas as pd\n",
    "import matplotlib.pyplot as plt\n",
    "import seaborn as sns\n",
    "\n",
    "from data.recount2 import LVAnalysis\n",
    "from utils import chunker\n",
    "import conf"
   ]
  },
  {
   "cell_type": "markdown",
   "id": "inner-civilian",
   "metadata": {
    "papermill": {
     "duration": 0.005973,
     "end_time": "2021-05-11T19:09:56.792495",
     "exception": false,
     "start_time": "2021-05-11T19:09:56.786522",
     "status": "completed"
    },
    "tags": []
   },
   "source": [
    "# Settings"
   ]
  },
  {
   "cell_type": "code",
   "execution_count": 3,
   "id": "secondary-arabic",
   "metadata": {
    "papermill": {
     "duration": 0.019548,
     "end_time": "2021-05-11T19:09:56.817689",
     "exception": false,
     "start_time": "2021-05-11T19:09:56.798141",
     "status": "completed"
    },
    "tags": [
     "parameters"
    ]
   },
   "outputs": [],
   "source": [
    "LV_NAME = \"LV207\""
   ]
  },
  {
   "cell_type": "code",
   "execution_count": 4,
   "id": "false-swaziland",
   "metadata": {},
   "outputs": [],
   "source": [
    "LV_AXIS_THRESHOLD = 3.0\n",
    "N_TOP_SAMPLES = 400\n",
    "N_TOP_ATTRS = 15"
   ]
  },
  {
   "cell_type": "code",
   "execution_count": 5,
   "id": "rising-dream",
   "metadata": {},
   "outputs": [],
   "source": [
    "# OUTPUT_FIGURES_DIR = Path(\n",
    "#     conf.MANUSCRIPT[\"FIGURES_DIR\"], \"lvs_analysis\", f\"{LV_NAME.lower()}\"\n",
    "# ).resolve()\n",
    "# display(OUTPUT_FIGURES_DIR)\n",
    "# OUTPUT_FIGURES_DIR.mkdir(parents=True, exist_ok=True)"
   ]
  },
  {
   "cell_type": "code",
   "execution_count": 6,
   "id": "stylish-patio",
   "metadata": {},
   "outputs": [],
   "source": [
    "# OUTPUT_CELL_TYPE_FILEPATH = OUTPUT_FIGURES_DIR / f\"{LV_NAME.lower()}-cell_types.svg\"\n",
    "# display(OUTPUT_CELL_TYPE_FILEPATH)"
   ]
  },
  {
   "cell_type": "markdown",
   "id": "advanced-dublin",
   "metadata": {
    "papermill": {
     "duration": 0.005592,
     "end_time": "2021-05-11T19:09:56.854406",
     "exception": false,
     "start_time": "2021-05-11T19:09:56.848814",
     "status": "completed"
    },
    "tags": []
   },
   "source": [
    "# Load MultiPLIER summary"
   ]
  },
  {
   "cell_type": "code",
   "execution_count": 7,
   "id": "acknowledged-decimal",
   "metadata": {
    "papermill": {
     "duration": 0.020251,
     "end_time": "2021-05-11T19:09:56.880435",
     "exception": false,
     "start_time": "2021-05-11T19:09:56.860184",
     "status": "completed"
    },
    "tags": []
   },
   "outputs": [],
   "source": [
    "multiplier_model_summary = pd.read_pickle(conf.MULTIPLIER[\"MODEL_SUMMARY_FILE\"])"
   ]
  },
  {
   "cell_type": "code",
   "execution_count": 8,
   "id": "surrounded-herald",
   "metadata": {
    "papermill": {
     "duration": 0.02062,
     "end_time": "2021-05-11T19:09:56.906744",
     "exception": false,
     "start_time": "2021-05-11T19:09:56.886124",
     "status": "completed"
    },
    "tags": []
   },
   "outputs": [
    {
     "data": {
      "text/plain": [
       "(2157, 5)"
      ]
     },
     "execution_count": 8,
     "metadata": {},
     "output_type": "execute_result"
    }
   ],
   "source": [
    "multiplier_model_summary.shape"
   ]
  },
  {
   "cell_type": "code",
   "execution_count": 9,
   "id": "running-indian",
   "metadata": {
    "papermill": {
     "duration": 0.024737,
     "end_time": "2021-05-11T19:09:56.937493",
     "exception": false,
     "start_time": "2021-05-11T19:09:56.912756",
     "status": "completed"
    },
    "tags": []
   },
   "outputs": [
    {
     "data": {
      "text/html": [
       "<div>\n",
       "<style scoped>\n",
       "    .dataframe tbody tr th:only-of-type {\n",
       "        vertical-align: middle;\n",
       "    }\n",
       "\n",
       "    .dataframe tbody tr th {\n",
       "        vertical-align: top;\n",
       "    }\n",
       "\n",
       "    .dataframe thead th {\n",
       "        text-align: right;\n",
       "    }\n",
       "</style>\n",
       "<table border=\"1\" class=\"dataframe\">\n",
       "  <thead>\n",
       "    <tr style=\"text-align: right;\">\n",
       "      <th></th>\n",
       "      <th>pathway</th>\n",
       "      <th>LV index</th>\n",
       "      <th>AUC</th>\n",
       "      <th>p-value</th>\n",
       "      <th>FDR</th>\n",
       "    </tr>\n",
       "  </thead>\n",
       "  <tbody>\n",
       "    <tr>\n",
       "      <th>1</th>\n",
       "      <td>KEGG_LYSINE_DEGRADATION</td>\n",
       "      <td>1</td>\n",
       "      <td>0.388059</td>\n",
       "      <td>0.866078</td>\n",
       "      <td>0.956005</td>\n",
       "    </tr>\n",
       "    <tr>\n",
       "      <th>2</th>\n",
       "      <td>REACTOME_MRNA_SPLICING</td>\n",
       "      <td>1</td>\n",
       "      <td>0.733057</td>\n",
       "      <td>0.000048</td>\n",
       "      <td>0.000582</td>\n",
       "    </tr>\n",
       "    <tr>\n",
       "      <th>3</th>\n",
       "      <td>MIPS_NOP56P_ASSOCIATED_PRE_RRNA_COMPLEX</td>\n",
       "      <td>1</td>\n",
       "      <td>0.680555</td>\n",
       "      <td>0.001628</td>\n",
       "      <td>0.011366</td>\n",
       "    </tr>\n",
       "    <tr>\n",
       "      <th>4</th>\n",
       "      <td>KEGG_DNA_REPLICATION</td>\n",
       "      <td>1</td>\n",
       "      <td>0.549473</td>\n",
       "      <td>0.312155</td>\n",
       "      <td>0.539951</td>\n",
       "    </tr>\n",
       "    <tr>\n",
       "      <th>5</th>\n",
       "      <td>PID_MYC_ACTIVPATHWAY</td>\n",
       "      <td>1</td>\n",
       "      <td>0.639303</td>\n",
       "      <td>0.021702</td>\n",
       "      <td>0.083739</td>\n",
       "    </tr>\n",
       "  </tbody>\n",
       "</table>\n",
       "</div>"
      ],
      "text/plain": [
       "                                   pathway LV index       AUC   p-value  \\\n",
       "1                  KEGG_LYSINE_DEGRADATION        1  0.388059  0.866078   \n",
       "2                   REACTOME_MRNA_SPLICING        1  0.733057  0.000048   \n",
       "3  MIPS_NOP56P_ASSOCIATED_PRE_RRNA_COMPLEX        1  0.680555  0.001628   \n",
       "4                     KEGG_DNA_REPLICATION        1  0.549473  0.312155   \n",
       "5                     PID_MYC_ACTIVPATHWAY        1  0.639303  0.021702   \n",
       "\n",
       "        FDR  \n",
       "1  0.956005  \n",
       "2  0.000582  \n",
       "3  0.011366  \n",
       "4  0.539951  \n",
       "5  0.083739  "
      ]
     },
     "execution_count": 9,
     "metadata": {},
     "output_type": "execute_result"
    }
   ],
   "source": [
    "multiplier_model_summary.head()"
   ]
  },
  {
   "cell_type": "markdown",
   "id": "distributed-opportunity",
   "metadata": {
    "papermill": {
     "duration": 0.006007,
     "end_time": "2021-05-11T19:09:56.949763",
     "exception": false,
     "start_time": "2021-05-11T19:09:56.943756",
     "status": "completed"
    },
    "tags": []
   },
   "source": [
    "# Load data"
   ]
  },
  {
   "cell_type": "markdown",
   "id": "packed-madrid",
   "metadata": {
    "papermill": {
     "duration": 0.005873,
     "end_time": "2021-05-11T19:09:56.961602",
     "exception": false,
     "start_time": "2021-05-11T19:09:56.955729",
     "status": "completed"
    },
    "tags": []
   },
   "source": [
    "## Original data"
   ]
  },
  {
   "cell_type": "code",
   "execution_count": 10,
   "id": "moving-lodge",
   "metadata": {
    "papermill": {
     "duration": 0.019571,
     "end_time": "2021-05-11T19:09:56.987255",
     "exception": false,
     "start_time": "2021-05-11T19:09:56.967684",
     "status": "completed"
    },
    "tags": []
   },
   "outputs": [],
   "source": [
    "INPUT_SUBSET = \"z_score_std\""
   ]
  },
  {
   "cell_type": "code",
   "execution_count": 11,
   "id": "pursuant-smile",
   "metadata": {
    "papermill": {
     "duration": 0.019175,
     "end_time": "2021-05-11T19:09:57.025099",
     "exception": false,
     "start_time": "2021-05-11T19:09:57.005924",
     "status": "completed"
    },
    "tags": []
   },
   "outputs": [],
   "source": [
    "INPUT_STEM = \"projection-smultixcan-efo_partial-mashr-zscores\""
   ]
  },
  {
   "cell_type": "code",
   "execution_count": 12,
   "id": "collaborative-liquid",
   "metadata": {
    "papermill": {
     "duration": 0.020992,
     "end_time": "2021-05-11T19:09:57.052255",
     "exception": false,
     "start_time": "2021-05-11T19:09:57.031263",
     "status": "completed"
    },
    "tags": []
   },
   "outputs": [
    {
     "data": {
      "text/plain": [
       "PosixPath('/home/miltondp/projects/labs/greenelab/phenoplier/bases/phenoplier/results/data_transformations/z_score_std/z_score_std-projection-smultixcan-efo_partial-mashr-zscores.pkl')"
      ]
     },
     "metadata": {},
     "output_type": "display_data"
    },
    {
     "data": {
      "text/plain": [
       "'z_score_std-projection-smultixcan-efo_partial-mashr-zscores'"
      ]
     },
     "metadata": {},
     "output_type": "display_data"
    }
   ],
   "source": [
    "input_filepath = Path(\n",
    "    conf.RESULTS[\"DATA_TRANSFORMATIONS_DIR\"],\n",
    "    INPUT_SUBSET,\n",
    "    f\"{INPUT_SUBSET}-{INPUT_STEM}.pkl\",\n",
    ").resolve()\n",
    "display(input_filepath)\n",
    "\n",
    "assert input_filepath.exists(), \"Input file does not exist\"\n",
    "\n",
    "input_filepath_stem = input_filepath.stem\n",
    "display(input_filepath_stem)"
   ]
  },
  {
   "cell_type": "code",
   "execution_count": 13,
   "id": "attempted-sarah",
   "metadata": {
    "papermill": {
     "duration": 0.032337,
     "end_time": "2021-05-11T19:09:57.090585",
     "exception": false,
     "start_time": "2021-05-11T19:09:57.058248",
     "status": "completed"
    },
    "tags": []
   },
   "outputs": [],
   "source": [
    "data = pd.read_pickle(input_filepath)"
   ]
  },
  {
   "cell_type": "code",
   "execution_count": 14,
   "id": "executive-irrigation",
   "metadata": {
    "papermill": {
     "duration": 0.01967,
     "end_time": "2021-05-11T19:09:57.116292",
     "exception": false,
     "start_time": "2021-05-11T19:09:57.096622",
     "status": "completed"
    },
    "tags": []
   },
   "outputs": [
    {
     "data": {
      "text/plain": [
       "(3752, 987)"
      ]
     },
     "execution_count": 14,
     "metadata": {},
     "output_type": "execute_result"
    }
   ],
   "source": [
    "data.shape"
   ]
  },
  {
   "cell_type": "code",
   "execution_count": 15,
   "id": "plain-brunswick",
   "metadata": {
    "papermill": {
     "duration": 0.031843,
     "end_time": "2021-05-11T19:09:57.154356",
     "exception": false,
     "start_time": "2021-05-11T19:09:57.122513",
     "status": "completed"
    },
    "tags": []
   },
   "outputs": [
    {
     "data": {
      "text/html": [
       "<div>\n",
       "<style scoped>\n",
       "    .dataframe tbody tr th:only-of-type {\n",
       "        vertical-align: middle;\n",
       "    }\n",
       "\n",
       "    .dataframe tbody tr th {\n",
       "        vertical-align: top;\n",
       "    }\n",
       "\n",
       "    .dataframe thead th {\n",
       "        text-align: right;\n",
       "    }\n",
       "</style>\n",
       "<table border=\"1\" class=\"dataframe\">\n",
       "  <thead>\n",
       "    <tr style=\"text-align: right;\">\n",
       "      <th></th>\n",
       "      <th>LV1</th>\n",
       "      <th>LV2</th>\n",
       "      <th>LV3</th>\n",
       "      <th>LV4</th>\n",
       "      <th>LV5</th>\n",
       "      <th>LV6</th>\n",
       "      <th>LV7</th>\n",
       "      <th>LV8</th>\n",
       "      <th>LV9</th>\n",
       "      <th>LV10</th>\n",
       "      <th>...</th>\n",
       "      <th>LV978</th>\n",
       "      <th>LV979</th>\n",
       "      <th>LV980</th>\n",
       "      <th>LV981</th>\n",
       "      <th>LV982</th>\n",
       "      <th>LV983</th>\n",
       "      <th>LV984</th>\n",
       "      <th>LV985</th>\n",
       "      <th>LV986</th>\n",
       "      <th>LV987</th>\n",
       "    </tr>\n",
       "  </thead>\n",
       "  <tbody>\n",
       "    <tr>\n",
       "      <th>100001_raw-Food_weight</th>\n",
       "      <td>-0.695006</td>\n",
       "      <td>1.962565</td>\n",
       "      <td>0.057683</td>\n",
       "      <td>0.878731</td>\n",
       "      <td>-0.539977</td>\n",
       "      <td>1.481272</td>\n",
       "      <td>-0.396422</td>\n",
       "      <td>1.090180</td>\n",
       "      <td>0.759223</td>\n",
       "      <td>0.931395</td>\n",
       "      <td>...</td>\n",
       "      <td>1.129784</td>\n",
       "      <td>1.752343</td>\n",
       "      <td>-1.411403</td>\n",
       "      <td>2.823863</td>\n",
       "      <td>0.931116</td>\n",
       "      <td>-1.054519</td>\n",
       "      <td>0.432982</td>\n",
       "      <td>-0.633597</td>\n",
       "      <td>0.554279</td>\n",
       "      <td>-0.642479</td>\n",
       "    </tr>\n",
       "    <tr>\n",
       "      <th>100002_raw-Energy</th>\n",
       "      <td>-1.528127</td>\n",
       "      <td>-0.345309</td>\n",
       "      <td>-0.148953</td>\n",
       "      <td>-0.242060</td>\n",
       "      <td>0.373427</td>\n",
       "      <td>0.791092</td>\n",
       "      <td>0.263477</td>\n",
       "      <td>0.987702</td>\n",
       "      <td>0.354391</td>\n",
       "      <td>1.416059</td>\n",
       "      <td>...</td>\n",
       "      <td>0.224604</td>\n",
       "      <td>0.769882</td>\n",
       "      <td>-0.509482</td>\n",
       "      <td>0.091153</td>\n",
       "      <td>2.286789</td>\n",
       "      <td>-1.008256</td>\n",
       "      <td>-0.029764</td>\n",
       "      <td>1.737229</td>\n",
       "      <td>-0.272107</td>\n",
       "      <td>-0.526125</td>\n",
       "    </tr>\n",
       "    <tr>\n",
       "      <th>100003_raw-Protein</th>\n",
       "      <td>-0.704572</td>\n",
       "      <td>-1.011299</td>\n",
       "      <td>0.671420</td>\n",
       "      <td>0.143991</td>\n",
       "      <td>0.615212</td>\n",
       "      <td>0.874212</td>\n",
       "      <td>-0.040998</td>\n",
       "      <td>0.915170</td>\n",
       "      <td>0.254369</td>\n",
       "      <td>-0.084237</td>\n",
       "      <td>...</td>\n",
       "      <td>1.003019</td>\n",
       "      <td>1.044314</td>\n",
       "      <td>-2.376108</td>\n",
       "      <td>0.004778</td>\n",
       "      <td>0.053714</td>\n",
       "      <td>-0.892447</td>\n",
       "      <td>-0.183800</td>\n",
       "      <td>1.377991</td>\n",
       "      <td>-0.278794</td>\n",
       "      <td>-0.419733</td>\n",
       "    </tr>\n",
       "    <tr>\n",
       "      <th>100004_raw-Fat</th>\n",
       "      <td>-0.989832</td>\n",
       "      <td>-1.875490</td>\n",
       "      <td>0.261555</td>\n",
       "      <td>-1.420719</td>\n",
       "      <td>0.366238</td>\n",
       "      <td>1.167049</td>\n",
       "      <td>0.257387</td>\n",
       "      <td>0.717674</td>\n",
       "      <td>-0.997664</td>\n",
       "      <td>0.969825</td>\n",
       "      <td>...</td>\n",
       "      <td>0.585913</td>\n",
       "      <td>0.638314</td>\n",
       "      <td>0.119139</td>\n",
       "      <td>-0.140204</td>\n",
       "      <td>1.394326</td>\n",
       "      <td>-1.173402</td>\n",
       "      <td>0.555058</td>\n",
       "      <td>1.013982</td>\n",
       "      <td>-0.544506</td>\n",
       "      <td>-0.064061</td>\n",
       "    </tr>\n",
       "    <tr>\n",
       "      <th>100005_raw-Carbohydrate</th>\n",
       "      <td>-0.580143</td>\n",
       "      <td>0.243335</td>\n",
       "      <td>0.158966</td>\n",
       "      <td>-0.036558</td>\n",
       "      <td>0.068176</td>\n",
       "      <td>-0.202639</td>\n",
       "      <td>1.101281</td>\n",
       "      <td>0.675227</td>\n",
       "      <td>1.463432</td>\n",
       "      <td>1.010078</td>\n",
       "      <td>...</td>\n",
       "      <td>-0.249108</td>\n",
       "      <td>-0.026814</td>\n",
       "      <td>0.232713</td>\n",
       "      <td>0.323682</td>\n",
       "      <td>1.168642</td>\n",
       "      <td>-0.282935</td>\n",
       "      <td>0.653105</td>\n",
       "      <td>1.909526</td>\n",
       "      <td>0.199997</td>\n",
       "      <td>-1.656894</td>\n",
       "    </tr>\n",
       "  </tbody>\n",
       "</table>\n",
       "<p>5 rows × 987 columns</p>\n",
       "</div>"
      ],
      "text/plain": [
       "                              LV1       LV2       LV3       LV4       LV5  \\\n",
       "100001_raw-Food_weight  -0.695006  1.962565  0.057683  0.878731 -0.539977   \n",
       "100002_raw-Energy       -1.528127 -0.345309 -0.148953 -0.242060  0.373427   \n",
       "100003_raw-Protein      -0.704572 -1.011299  0.671420  0.143991  0.615212   \n",
       "100004_raw-Fat          -0.989832 -1.875490  0.261555 -1.420719  0.366238   \n",
       "100005_raw-Carbohydrate -0.580143  0.243335  0.158966 -0.036558  0.068176   \n",
       "\n",
       "                              LV6       LV7       LV8       LV9      LV10  \\\n",
       "100001_raw-Food_weight   1.481272 -0.396422  1.090180  0.759223  0.931395   \n",
       "100002_raw-Energy        0.791092  0.263477  0.987702  0.354391  1.416059   \n",
       "100003_raw-Protein       0.874212 -0.040998  0.915170  0.254369 -0.084237   \n",
       "100004_raw-Fat           1.167049  0.257387  0.717674 -0.997664  0.969825   \n",
       "100005_raw-Carbohydrate -0.202639  1.101281  0.675227  1.463432  1.010078   \n",
       "\n",
       "                         ...     LV978     LV979     LV980     LV981  \\\n",
       "100001_raw-Food_weight   ...  1.129784  1.752343 -1.411403  2.823863   \n",
       "100002_raw-Energy        ...  0.224604  0.769882 -0.509482  0.091153   \n",
       "100003_raw-Protein       ...  1.003019  1.044314 -2.376108  0.004778   \n",
       "100004_raw-Fat           ...  0.585913  0.638314  0.119139 -0.140204   \n",
       "100005_raw-Carbohydrate  ... -0.249108 -0.026814  0.232713  0.323682   \n",
       "\n",
       "                            LV982     LV983     LV984     LV985     LV986  \\\n",
       "100001_raw-Food_weight   0.931116 -1.054519  0.432982 -0.633597  0.554279   \n",
       "100002_raw-Energy        2.286789 -1.008256 -0.029764  1.737229 -0.272107   \n",
       "100003_raw-Protein       0.053714 -0.892447 -0.183800  1.377991 -0.278794   \n",
       "100004_raw-Fat           1.394326 -1.173402  0.555058  1.013982 -0.544506   \n",
       "100005_raw-Carbohydrate  1.168642 -0.282935  0.653105  1.909526  0.199997   \n",
       "\n",
       "                            LV987  \n",
       "100001_raw-Food_weight  -0.642479  \n",
       "100002_raw-Energy       -0.526125  \n",
       "100003_raw-Protein      -0.419733  \n",
       "100004_raw-Fat          -0.064061  \n",
       "100005_raw-Carbohydrate -1.656894  \n",
       "\n",
       "[5 rows x 987 columns]"
      ]
     },
     "execution_count": 15,
     "metadata": {},
     "output_type": "execute_result"
    }
   ],
   "source": [
    "data.head()"
   ]
  },
  {
   "cell_type": "markdown",
   "id": "pleasant-court",
   "metadata": {},
   "source": [
    "## LV data"
   ]
  },
  {
   "cell_type": "code",
   "execution_count": 16,
   "id": "brown-faith",
   "metadata": {},
   "outputs": [],
   "source": [
    "lv_obj = LVAnalysis(LV_NAME, data)"
   ]
  },
  {
   "cell_type": "code",
   "execution_count": 44,
   "id": "unique-pierre",
   "metadata": {},
   "outputs": [
    {
     "data": {
      "text/html": [
       "<div>\n",
       "<style scoped>\n",
       "    .dataframe tbody tr th:only-of-type {\n",
       "        vertical-align: middle;\n",
       "    }\n",
       "\n",
       "    .dataframe tbody tr th {\n",
       "        vertical-align: top;\n",
       "    }\n",
       "\n",
       "    .dataframe thead th {\n",
       "        text-align: right;\n",
       "    }\n",
       "</style>\n",
       "<table border=\"1\" class=\"dataframe\">\n",
       "  <thead>\n",
       "    <tr style=\"text-align: right;\">\n",
       "      <th></th>\n",
       "      <th>gene_name</th>\n",
       "      <th>LV207</th>\n",
       "      <th>gene_band</th>\n",
       "    </tr>\n",
       "  </thead>\n",
       "  <tbody>\n",
       "    <tr>\n",
       "      <th>0</th>\n",
       "      <td>ERBB2</td>\n",
       "      <td>5.307980</td>\n",
       "      <td>17q12</td>\n",
       "    </tr>\n",
       "    <tr>\n",
       "      <th>1</th>\n",
       "      <td>PSMD3</td>\n",
       "      <td>2.495105</td>\n",
       "      <td>17q21.1</td>\n",
       "    </tr>\n",
       "    <tr>\n",
       "      <th>2</th>\n",
       "      <td>LLGL2</td>\n",
       "      <td>2.293986</td>\n",
       "      <td>17q25.1</td>\n",
       "    </tr>\n",
       "    <tr>\n",
       "      <th>3</th>\n",
       "      <td>CRABP2</td>\n",
       "      <td>2.173649</td>\n",
       "      <td>1q23.1</td>\n",
       "    </tr>\n",
       "    <tr>\n",
       "      <th>4</th>\n",
       "      <td>FGFR4</td>\n",
       "      <td>2.132309</td>\n",
       "      <td>5q35.2</td>\n",
       "    </tr>\n",
       "    <tr>\n",
       "      <th>5</th>\n",
       "      <td>PPP1R1B</td>\n",
       "      <td>2.118459</td>\n",
       "      <td>17q12</td>\n",
       "    </tr>\n",
       "    <tr>\n",
       "      <th>6</th>\n",
       "      <td>GALNT6</td>\n",
       "      <td>2.083479</td>\n",
       "      <td>12q13.13</td>\n",
       "    </tr>\n",
       "    <tr>\n",
       "      <th>7</th>\n",
       "      <td>INHBB</td>\n",
       "      <td>2.021482</td>\n",
       "      <td>2q14.2</td>\n",
       "    </tr>\n",
       "    <tr>\n",
       "      <th>8</th>\n",
       "      <td>G6PD</td>\n",
       "      <td>1.691048</td>\n",
       "      <td>NaN</td>\n",
       "    </tr>\n",
       "    <tr>\n",
       "      <th>9</th>\n",
       "      <td>P2RY6</td>\n",
       "      <td>1.672677</td>\n",
       "      <td>11q13.4</td>\n",
       "    </tr>\n",
       "    <tr>\n",
       "      <th>10</th>\n",
       "      <td>PNMT</td>\n",
       "      <td>1.606705</td>\n",
       "      <td>17q12</td>\n",
       "    </tr>\n",
       "    <tr>\n",
       "      <th>11</th>\n",
       "      <td>TRIB3</td>\n",
       "      <td>1.574345</td>\n",
       "      <td>20p13</td>\n",
       "    </tr>\n",
       "    <tr>\n",
       "      <th>12</th>\n",
       "      <td>KRT8</td>\n",
       "      <td>1.552124</td>\n",
       "      <td>12q13.13</td>\n",
       "    </tr>\n",
       "    <tr>\n",
       "      <th>13</th>\n",
       "      <td>PRODH</td>\n",
       "      <td>1.541866</td>\n",
       "      <td>22q11.21</td>\n",
       "    </tr>\n",
       "    <tr>\n",
       "      <th>14</th>\n",
       "      <td>SPINT1</td>\n",
       "      <td>1.508643</td>\n",
       "      <td>15q15.1</td>\n",
       "    </tr>\n",
       "    <tr>\n",
       "      <th>15</th>\n",
       "      <td>ALDH3B2</td>\n",
       "      <td>1.503479</td>\n",
       "      <td>11q13.2</td>\n",
       "    </tr>\n",
       "    <tr>\n",
       "      <th>16</th>\n",
       "      <td>SLC6A9</td>\n",
       "      <td>1.448900</td>\n",
       "      <td>1p34.1</td>\n",
       "    </tr>\n",
       "    <tr>\n",
       "      <th>17</th>\n",
       "      <td>TJP3</td>\n",
       "      <td>1.434742</td>\n",
       "      <td>19p13.3</td>\n",
       "    </tr>\n",
       "    <tr>\n",
       "      <th>18</th>\n",
       "      <td>SLC9A3R1</td>\n",
       "      <td>1.420458</td>\n",
       "      <td>17q25.1</td>\n",
       "    </tr>\n",
       "    <tr>\n",
       "      <th>19</th>\n",
       "      <td>SCNN1A</td>\n",
       "      <td>1.418427</td>\n",
       "      <td>12p13.31</td>\n",
       "    </tr>\n",
       "  </tbody>\n",
       "</table>\n",
       "</div>"
      ],
      "text/plain": [
       "   gene_name     LV207 gene_band\n",
       "0      ERBB2  5.307980     17q12\n",
       "1      PSMD3  2.495105   17q21.1\n",
       "2      LLGL2  2.293986   17q25.1\n",
       "3     CRABP2  2.173649    1q23.1\n",
       "4      FGFR4  2.132309    5q35.2\n",
       "5    PPP1R1B  2.118459     17q12\n",
       "6     GALNT6  2.083479  12q13.13\n",
       "7      INHBB  2.021482    2q14.2\n",
       "8       G6PD  1.691048       NaN\n",
       "9      P2RY6  1.672677   11q13.4\n",
       "10      PNMT  1.606705     17q12\n",
       "11     TRIB3  1.574345     20p13\n",
       "12      KRT8  1.552124  12q13.13\n",
       "13     PRODH  1.541866  22q11.21\n",
       "14    SPINT1  1.508643   15q15.1\n",
       "15   ALDH3B2  1.503479   11q13.2\n",
       "16    SLC6A9  1.448900    1p34.1\n",
       "17      TJP3  1.434742   19p13.3\n",
       "18  SLC9A3R1  1.420458   17q25.1\n",
       "19    SCNN1A  1.418427  12p13.31"
      ]
     },
     "execution_count": 44,
     "metadata": {},
     "output_type": "execute_result"
    }
   ],
   "source": [
    "lv_obj.lv_genes.head(20)"
   ]
  },
  {
   "cell_type": "code",
   "execution_count": 17,
   "id": "upper-style",
   "metadata": {},
   "outputs": [
    {
     "name": "stderr",
     "output_type": "stream",
     "text": [
      "[2021-09-29 10:45:26,068 - numexpr.utils] INFO: NumExpr defaulting to 8 threads.\n"
     ]
    },
    {
     "data": {
      "text/html": [
       "<div>\n",
       "<style scoped>\n",
       "    .dataframe tbody tr th:only-of-type {\n",
       "        vertical-align: middle;\n",
       "    }\n",
       "\n",
       "    .dataframe tbody tr th {\n",
       "        vertical-align: top;\n",
       "    }\n",
       "\n",
       "    .dataframe thead th {\n",
       "        text-align: right;\n",
       "    }\n",
       "</style>\n",
       "<table border=\"1\" class=\"dataframe\">\n",
       "  <thead>\n",
       "    <tr style=\"text-align: right;\">\n",
       "      <th></th>\n",
       "      <th>pathway</th>\n",
       "      <th>LV index</th>\n",
       "      <th>AUC</th>\n",
       "      <th>p-value</th>\n",
       "      <th>FDR</th>\n",
       "    </tr>\n",
       "  </thead>\n",
       "  <tbody>\n",
       "  </tbody>\n",
       "</table>\n",
       "</div>"
      ],
      "text/plain": [
       "Empty DataFrame\n",
       "Columns: [pathway, LV index, AUC, p-value, FDR]\n",
       "Index: []"
      ]
     },
     "execution_count": 17,
     "metadata": {},
     "output_type": "execute_result"
    }
   ],
   "source": [
    "multiplier_model_summary[\n",
    "    multiplier_model_summary[\"LV index\"].isin((LV_NAME[2:],))\n",
    "    & (\n",
    "        (multiplier_model_summary[\"FDR\"] < 0.05)\n",
    "        | (multiplier_model_summary[\"AUC\"] >= 0.75)\n",
    "    )\n",
    "]"
   ]
  },
  {
   "cell_type": "code",
   "execution_count": 18,
   "id": "acknowledged-extraction",
   "metadata": {},
   "outputs": [
    {
     "name": "stdout",
     "output_type": "stream",
     "text": [
      "SRP026537, SRP064259, SRP042620, SRP011974, SRP006575, SRP030475, SRP049500, SRP019207, SRP037775, SRP023262, SRP049507, SRP058571, SRP050365, SRP019498, SRP006726, SRP055512, SRP065202, SRP063620, SRP044611, SRP049988, SRP043320, SRP048536, SRP062287, SRP020493, SRP030401, SRP004847, SRP033250, SRP066956, SRP044917, SRP014027, SRP004637, SRP019936, SRP061241, SRP058722, SRP052950, SRP040505, SRP048664, SRP034528, SRP040998, SRP065559, SRP009862, SRP043593, SRP029207, SRP034657, SRP028887, SRP006719, SRP051544, SRP042616, SRP009266, SRP049713, SRP040418, "
     ]
    },
    {
     "name": "stderr",
     "output_type": "stream",
     "text": [
      "/home/miltondp/projects/labs/greenelab/phenoplier/libs/data/recount2.py:323: UserWarning: Not all experiments data could be loaded (48 != 51)\n",
      "  warnings.warn(\n"
     ]
    }
   ],
   "source": [
    "lv_data = lv_obj.get_experiments_data()"
   ]
  },
  {
   "cell_type": "code",
   "execution_count": 19,
   "id": "arabic-bowling",
   "metadata": {},
   "outputs": [
    {
     "data": {
      "text/plain": [
       "(1215, 73)"
      ]
     },
     "execution_count": 19,
     "metadata": {},
     "output_type": "execute_result"
    }
   ],
   "source": [
    "lv_data.shape"
   ]
  },
  {
   "cell_type": "code",
   "execution_count": 20,
   "id": "offensive-blank",
   "metadata": {},
   "outputs": [
    {
     "data": {
      "text/html": [
       "<div>\n",
       "<style scoped>\n",
       "    .dataframe tbody tr th:only-of-type {\n",
       "        vertical-align: middle;\n",
       "    }\n",
       "\n",
       "    .dataframe tbody tr th {\n",
       "        vertical-align: top;\n",
       "    }\n",
       "\n",
       "    .dataframe thead th {\n",
       "        text-align: right;\n",
       "    }\n",
       "</style>\n",
       "<table border=\"1\" class=\"dataframe\">\n",
       "  <thead>\n",
       "    <tr style=\"text-align: right;\">\n",
       "      <th></th>\n",
       "      <th></th>\n",
       "      <th>cell line</th>\n",
       "      <th>cell type</th>\n",
       "      <th>subtype</th>\n",
       "      <th>tissue</th>\n",
       "      <th>disease status</th>\n",
       "      <th>Stage</th>\n",
       "      <th>developmental stage</th>\n",
       "      <th>tissue archive method</th>\n",
       "      <th>genotype</th>\n",
       "      <th>experimental set</th>\n",
       "      <th>...</th>\n",
       "      <th>rna prep</th>\n",
       "      <th>purification</th>\n",
       "      <th>read length</th>\n",
       "      <th>group_tag</th>\n",
       "      <th>cell</th>\n",
       "      <th>cell subtype</th>\n",
       "      <th>Sex</th>\n",
       "      <th>culture collection</th>\n",
       "      <th>biomaterial provider</th>\n",
       "      <th>LV207</th>\n",
       "    </tr>\n",
       "    <tr>\n",
       "      <th>project</th>\n",
       "      <th>run</th>\n",
       "      <th></th>\n",
       "      <th></th>\n",
       "      <th></th>\n",
       "      <th></th>\n",
       "      <th></th>\n",
       "      <th></th>\n",
       "      <th></th>\n",
       "      <th></th>\n",
       "      <th></th>\n",
       "      <th></th>\n",
       "      <th></th>\n",
       "      <th></th>\n",
       "      <th></th>\n",
       "      <th></th>\n",
       "      <th></th>\n",
       "      <th></th>\n",
       "      <th></th>\n",
       "      <th></th>\n",
       "      <th></th>\n",
       "      <th></th>\n",
       "      <th></th>\n",
       "    </tr>\n",
       "  </thead>\n",
       "  <tbody>\n",
       "    <tr>\n",
       "      <th rowspan=\"5\" valign=\"top\">SRP026537</th>\n",
       "      <th>SRR925687</th>\n",
       "      <td>184A1</td>\n",
       "      <td>breast cancer</td>\n",
       "      <td>Non-malignant</td>\n",
       "      <td>NaN</td>\n",
       "      <td>NaN</td>\n",
       "      <td>NaN</td>\n",
       "      <td>NaN</td>\n",
       "      <td>NaN</td>\n",
       "      <td>NaN</td>\n",
       "      <td>NaN</td>\n",
       "      <td>...</td>\n",
       "      <td>NaN</td>\n",
       "      <td>NaN</td>\n",
       "      <td>NaN</td>\n",
       "      <td>NaN</td>\n",
       "      <td>NaN</td>\n",
       "      <td>NaN</td>\n",
       "      <td>NaN</td>\n",
       "      <td>NaN</td>\n",
       "      <td>NaN</td>\n",
       "      <td>0.066890</td>\n",
       "    </tr>\n",
       "    <tr>\n",
       "      <th>SRR925688</th>\n",
       "      <td>184B5</td>\n",
       "      <td>breast cancer</td>\n",
       "      <td>Non-malignant</td>\n",
       "      <td>NaN</td>\n",
       "      <td>NaN</td>\n",
       "      <td>NaN</td>\n",
       "      <td>NaN</td>\n",
       "      <td>NaN</td>\n",
       "      <td>NaN</td>\n",
       "      <td>NaN</td>\n",
       "      <td>...</td>\n",
       "      <td>NaN</td>\n",
       "      <td>NaN</td>\n",
       "      <td>NaN</td>\n",
       "      <td>NaN</td>\n",
       "      <td>NaN</td>\n",
       "      <td>NaN</td>\n",
       "      <td>NaN</td>\n",
       "      <td>NaN</td>\n",
       "      <td>NaN</td>\n",
       "      <td>0.114638</td>\n",
       "    </tr>\n",
       "    <tr>\n",
       "      <th>SRR925689</th>\n",
       "      <td>21MT1</td>\n",
       "      <td>breast cancer</td>\n",
       "      <td>Basal</td>\n",
       "      <td>NaN</td>\n",
       "      <td>NaN</td>\n",
       "      <td>NaN</td>\n",
       "      <td>NaN</td>\n",
       "      <td>NaN</td>\n",
       "      <td>NaN</td>\n",
       "      <td>NaN</td>\n",
       "      <td>...</td>\n",
       "      <td>NaN</td>\n",
       "      <td>NaN</td>\n",
       "      <td>NaN</td>\n",
       "      <td>NaN</td>\n",
       "      <td>NaN</td>\n",
       "      <td>NaN</td>\n",
       "      <td>NaN</td>\n",
       "      <td>NaN</td>\n",
       "      <td>NaN</td>\n",
       "      <td>0.294262</td>\n",
       "    </tr>\n",
       "    <tr>\n",
       "      <th>SRR925690</th>\n",
       "      <td>21MT2</td>\n",
       "      <td>breast cancer</td>\n",
       "      <td>Basal</td>\n",
       "      <td>NaN</td>\n",
       "      <td>NaN</td>\n",
       "      <td>NaN</td>\n",
       "      <td>NaN</td>\n",
       "      <td>NaN</td>\n",
       "      <td>NaN</td>\n",
       "      <td>NaN</td>\n",
       "      <td>...</td>\n",
       "      <td>NaN</td>\n",
       "      <td>NaN</td>\n",
       "      <td>NaN</td>\n",
       "      <td>NaN</td>\n",
       "      <td>NaN</td>\n",
       "      <td>NaN</td>\n",
       "      <td>NaN</td>\n",
       "      <td>NaN</td>\n",
       "      <td>NaN</td>\n",
       "      <td>0.238002</td>\n",
       "    </tr>\n",
       "    <tr>\n",
       "      <th>SRR925691</th>\n",
       "      <td>21NT</td>\n",
       "      <td>breast cancer</td>\n",
       "      <td>Basal</td>\n",
       "      <td>NaN</td>\n",
       "      <td>NaN</td>\n",
       "      <td>NaN</td>\n",
       "      <td>NaN</td>\n",
       "      <td>NaN</td>\n",
       "      <td>NaN</td>\n",
       "      <td>NaN</td>\n",
       "      <td>...</td>\n",
       "      <td>NaN</td>\n",
       "      <td>NaN</td>\n",
       "      <td>NaN</td>\n",
       "      <td>NaN</td>\n",
       "      <td>NaN</td>\n",
       "      <td>NaN</td>\n",
       "      <td>NaN</td>\n",
       "      <td>NaN</td>\n",
       "      <td>NaN</td>\n",
       "      <td>0.267479</td>\n",
       "    </tr>\n",
       "  </tbody>\n",
       "</table>\n",
       "<p>5 rows × 73 columns</p>\n",
       "</div>"
      ],
      "text/plain": [
       "                    cell line      cell type        subtype tissue  \\\n",
       "project   run                                                        \n",
       "SRP026537 SRR925687     184A1  breast cancer  Non-malignant    NaN   \n",
       "          SRR925688     184B5  breast cancer  Non-malignant    NaN   \n",
       "          SRR925689     21MT1  breast cancer          Basal    NaN   \n",
       "          SRR925690     21MT2  breast cancer          Basal    NaN   \n",
       "          SRR925691      21NT  breast cancer          Basal    NaN   \n",
       "\n",
       "                    disease status Stage developmental stage  \\\n",
       "project   run                                                  \n",
       "SRP026537 SRR925687            NaN   NaN                 NaN   \n",
       "          SRR925688            NaN   NaN                 NaN   \n",
       "          SRR925689            NaN   NaN                 NaN   \n",
       "          SRR925690            NaN   NaN                 NaN   \n",
       "          SRR925691            NaN   NaN                 NaN   \n",
       "\n",
       "                    tissue archive method genotype experimental set  ...  \\\n",
       "project   run                                                        ...   \n",
       "SRP026537 SRR925687                   NaN      NaN              NaN  ...   \n",
       "          SRR925688                   NaN      NaN              NaN  ...   \n",
       "          SRR925689                   NaN      NaN              NaN  ...   \n",
       "          SRR925690                   NaN      NaN              NaN  ...   \n",
       "          SRR925691                   NaN      NaN              NaN  ...   \n",
       "\n",
       "                    rna prep purification read length group_tag cell  \\\n",
       "project   run                                                          \n",
       "SRP026537 SRR925687      NaN          NaN         NaN       NaN  NaN   \n",
       "          SRR925688      NaN          NaN         NaN       NaN  NaN   \n",
       "          SRR925689      NaN          NaN         NaN       NaN  NaN   \n",
       "          SRR925690      NaN          NaN         NaN       NaN  NaN   \n",
       "          SRR925691      NaN          NaN         NaN       NaN  NaN   \n",
       "\n",
       "                    cell subtype  Sex culture collection biomaterial provider  \\\n",
       "project   run                                                                   \n",
       "SRP026537 SRR925687          NaN  NaN                NaN                  NaN   \n",
       "          SRR925688          NaN  NaN                NaN                  NaN   \n",
       "          SRR925689          NaN  NaN                NaN                  NaN   \n",
       "          SRR925690          NaN  NaN                NaN                  NaN   \n",
       "          SRR925691          NaN  NaN                NaN                  NaN   \n",
       "\n",
       "                        LV207  \n",
       "project   run                  \n",
       "SRP026537 SRR925687  0.066890  \n",
       "          SRR925688  0.114638  \n",
       "          SRR925689  0.294262  \n",
       "          SRR925690  0.238002  \n",
       "          SRR925691  0.267479  \n",
       "\n",
       "[5 rows x 73 columns]"
      ]
     },
     "execution_count": 20,
     "metadata": {},
     "output_type": "execute_result"
    }
   ],
   "source": [
    "lv_data.head()"
   ]
  },
  {
   "cell_type": "markdown",
   "id": "grateful-makeup",
   "metadata": {},
   "source": [
    "# LV cell types analysis"
   ]
  },
  {
   "cell_type": "markdown",
   "id": "driven-sheriff",
   "metadata": {},
   "source": [
    "## Get top attributes"
   ]
  },
  {
   "cell_type": "code",
   "execution_count": 21,
   "id": "knowing-government",
   "metadata": {},
   "outputs": [
    {
     "data": {
      "text/plain": [
       "Stage                                     0.194573\n",
       "subtype                                   0.173657\n",
       "cancer subtype                            0.104108\n",
       "gender                                    0.099090\n",
       "genotype                                  0.094710\n",
       "culture condition                         0.086972\n",
       "type of cd24                              0.086972\n",
       "knock down                                0.086972\n",
       "cell type                                 0.082257\n",
       "disease status                            0.072713\n",
       "cell line                                 0.072321\n",
       "resistance                                0.061725\n",
       "drug treatment                            0.060558\n",
       "passage                                   0.029558\n",
       "growth media                              0.028352\n",
       "sample molecule                           0.025782\n",
       "tissue                                    0.024319\n",
       "individual                                0.024039\n",
       "treatment- reagent                        0.020809\n",
       "treatment- knockdown v. overexpression    0.020809\n",
       "dtype: float64"
      ]
     },
     "metadata": {},
     "output_type": "display_data"
    }
   ],
   "source": [
    "lv_attrs = lv_obj.get_attributes_variation_score()\n",
    "display(lv_attrs.head(20))"
   ]
  },
  {
   "cell_type": "code",
   "execution_count": 22,
   "id": "static-mainstream",
   "metadata": {},
   "outputs": [
    {
     "data": {
      "text/plain": [
       "cell type       0.082257\n",
       "tissue          0.024319\n",
       "tissue type     0.008734\n",
       "cell subtype    0.002559\n",
       "dtype: float64"
      ]
     },
     "execution_count": 22,
     "metadata": {},
     "output_type": "execute_result"
    }
   ],
   "source": [
    "# show those with cell type or tissue in their name\n",
    "_tmp = pd.Series(lv_attrs.index)\n",
    "lv_attrs[\n",
    "    _tmp.str.match(\n",
    "        \"(?:cell.+type$)|(?:tissue$)|(?:tissue.+type$)\",\n",
    "        case=False,\n",
    "        flags=re.IGNORECASE,\n",
    "    ).values\n",
    "].sort_values(ascending=False)"
   ]
  },
  {
   "cell_type": "code",
   "execution_count": 23,
   "id": "significant-charter",
   "metadata": {},
   "outputs": [],
   "source": [
    "_tmp = lv_data.loc[\n",
    "    :,\n",
    "    [\n",
    "        \"cell type\",\n",
    "        \"tissue\",\n",
    "        \"tissue type\",\n",
    "        \"cell subtype\",\n",
    "        LV_NAME,\n",
    "    ],\n",
    "]"
   ]
  },
  {
   "cell_type": "code",
   "execution_count": 24,
   "id": "underlying-stretch",
   "metadata": {},
   "outputs": [],
   "source": [
    "_tmp_seq = list(chunker(_tmp.sort_values(LV_NAME, ascending=False), 25))"
   ]
  },
  {
   "cell_type": "code",
   "execution_count": 25,
   "id": "educational-avenue",
   "metadata": {},
   "outputs": [
    {
     "data": {
      "text/html": [
       "<div>\n",
       "<style scoped>\n",
       "    .dataframe tbody tr th:only-of-type {\n",
       "        vertical-align: middle;\n",
       "    }\n",
       "\n",
       "    .dataframe tbody tr th {\n",
       "        vertical-align: top;\n",
       "    }\n",
       "\n",
       "    .dataframe thead th {\n",
       "        text-align: right;\n",
       "    }\n",
       "</style>\n",
       "<table border=\"1\" class=\"dataframe\">\n",
       "  <thead>\n",
       "    <tr style=\"text-align: right;\">\n",
       "      <th></th>\n",
       "      <th></th>\n",
       "      <th>cell type</th>\n",
       "      <th>tissue</th>\n",
       "      <th>tissue type</th>\n",
       "      <th>cell subtype</th>\n",
       "      <th>LV207</th>\n",
       "    </tr>\n",
       "    <tr>\n",
       "      <th>project</th>\n",
       "      <th>run</th>\n",
       "      <th></th>\n",
       "      <th></th>\n",
       "      <th></th>\n",
       "      <th></th>\n",
       "      <th></th>\n",
       "    </tr>\n",
       "  </thead>\n",
       "  <tbody>\n",
       "    <tr>\n",
       "      <th rowspan=\"13\" valign=\"top\">SRP037775</th>\n",
       "      <th>SRR1168737</th>\n",
       "      <td>HER2-positive breast cancer</td>\n",
       "      <td>NaN</td>\n",
       "      <td>NaN</td>\n",
       "      <td>NaN</td>\n",
       "      <td>0.770692</td>\n",
       "    </tr>\n",
       "    <tr>\n",
       "      <th>SRR1168743</th>\n",
       "      <td>HER2-positive breast cancer</td>\n",
       "      <td>NaN</td>\n",
       "      <td>NaN</td>\n",
       "      <td>NaN</td>\n",
       "      <td>0.769183</td>\n",
       "    </tr>\n",
       "    <tr>\n",
       "      <th>SRR1168733</th>\n",
       "      <td>HER2-positive breast cancer</td>\n",
       "      <td>NaN</td>\n",
       "      <td>NaN</td>\n",
       "      <td>NaN</td>\n",
       "      <td>0.767733</td>\n",
       "    </tr>\n",
       "    <tr>\n",
       "      <th>SRR1168735</th>\n",
       "      <td>HER2-positive breast cancer</td>\n",
       "      <td>NaN</td>\n",
       "      <td>NaN</td>\n",
       "      <td>NaN</td>\n",
       "      <td>0.766716</td>\n",
       "    </tr>\n",
       "    <tr>\n",
       "      <th>SRR1168740</th>\n",
       "      <td>HER2-positive breast cancer</td>\n",
       "      <td>NaN</td>\n",
       "      <td>NaN</td>\n",
       "      <td>NaN</td>\n",
       "      <td>0.766085</td>\n",
       "    </tr>\n",
       "    <tr>\n",
       "      <th>SRR1168741</th>\n",
       "      <td>HER2-positive breast cancer</td>\n",
       "      <td>NaN</td>\n",
       "      <td>NaN</td>\n",
       "      <td>NaN</td>\n",
       "      <td>0.765746</td>\n",
       "    </tr>\n",
       "    <tr>\n",
       "      <th>SRR1168734</th>\n",
       "      <td>HER2-positive breast cancer</td>\n",
       "      <td>NaN</td>\n",
       "      <td>NaN</td>\n",
       "      <td>NaN</td>\n",
       "      <td>0.764671</td>\n",
       "    </tr>\n",
       "    <tr>\n",
       "      <th>SRR1168746</th>\n",
       "      <td>HER2-positive breast cancer</td>\n",
       "      <td>NaN</td>\n",
       "      <td>NaN</td>\n",
       "      <td>NaN</td>\n",
       "      <td>0.762963</td>\n",
       "    </tr>\n",
       "    <tr>\n",
       "      <th>SRR1168742</th>\n",
       "      <td>HER2-positive breast cancer</td>\n",
       "      <td>NaN</td>\n",
       "      <td>NaN</td>\n",
       "      <td>NaN</td>\n",
       "      <td>0.762198</td>\n",
       "    </tr>\n",
       "    <tr>\n",
       "      <th>SRR1168736</th>\n",
       "      <td>HER2-positive breast cancer</td>\n",
       "      <td>NaN</td>\n",
       "      <td>NaN</td>\n",
       "      <td>NaN</td>\n",
       "      <td>0.759725</td>\n",
       "    </tr>\n",
       "    <tr>\n",
       "      <th>SRR1168739</th>\n",
       "      <td>HER2-positive breast cancer</td>\n",
       "      <td>NaN</td>\n",
       "      <td>NaN</td>\n",
       "      <td>NaN</td>\n",
       "      <td>0.759019</td>\n",
       "    </tr>\n",
       "    <tr>\n",
       "      <th>SRR1168744</th>\n",
       "      <td>HER2-positive breast cancer</td>\n",
       "      <td>NaN</td>\n",
       "      <td>NaN</td>\n",
       "      <td>NaN</td>\n",
       "      <td>0.757797</td>\n",
       "    </tr>\n",
       "    <tr>\n",
       "      <th>SRR1168738</th>\n",
       "      <td>HER2-positive breast cancer</td>\n",
       "      <td>NaN</td>\n",
       "      <td>NaN</td>\n",
       "      <td>NaN</td>\n",
       "      <td>0.756271</td>\n",
       "    </tr>\n",
       "    <tr>\n",
       "      <th>SRP023262</th>\n",
       "      <th>SRR868863</th>\n",
       "      <td>NaN</td>\n",
       "      <td>breast</td>\n",
       "      <td>NaN</td>\n",
       "      <td>NaN</td>\n",
       "      <td>0.734824</td>\n",
       "    </tr>\n",
       "    <tr>\n",
       "      <th>SRP064259</th>\n",
       "      <th>SRR2532318</th>\n",
       "      <td>breast cancer cell line</td>\n",
       "      <td>NaN</td>\n",
       "      <td>NaN</td>\n",
       "      <td>NaN</td>\n",
       "      <td>0.728098</td>\n",
       "    </tr>\n",
       "    <tr>\n",
       "      <th>SRP042620</th>\n",
       "      <th>SRR1313079</th>\n",
       "      <td>NaN</td>\n",
       "      <td>Breast Cancer Cell Line</td>\n",
       "      <td>NaN</td>\n",
       "      <td>NaN</td>\n",
       "      <td>0.701796</td>\n",
       "    </tr>\n",
       "    <tr>\n",
       "      <th>SRP049500</th>\n",
       "      <th>SRR1639638</th>\n",
       "      <td>Breast Cancer cell line</td>\n",
       "      <td>NaN</td>\n",
       "      <td>NaN</td>\n",
       "      <td>NaN</td>\n",
       "      <td>0.693834</td>\n",
       "    </tr>\n",
       "    <tr>\n",
       "      <th>SRP064259</th>\n",
       "      <th>SRR2532392</th>\n",
       "      <td>breast cancer cell line</td>\n",
       "      <td>NaN</td>\n",
       "      <td>NaN</td>\n",
       "      <td>NaN</td>\n",
       "      <td>0.675326</td>\n",
       "    </tr>\n",
       "    <tr>\n",
       "      <th>SRP049507</th>\n",
       "      <th>SRR1639743</th>\n",
       "      <td>HER2+</td>\n",
       "      <td>NaN</td>\n",
       "      <td>NaN</td>\n",
       "      <td>NaN</td>\n",
       "      <td>0.668840</td>\n",
       "    </tr>\n",
       "    <tr>\n",
       "      <th rowspan=\"2\" valign=\"top\">SRP064259</th>\n",
       "      <th>SRR2532384</th>\n",
       "      <td>breast cancer cell line</td>\n",
       "      <td>NaN</td>\n",
       "      <td>NaN</td>\n",
       "      <td>NaN</td>\n",
       "      <td>0.655314</td>\n",
       "    </tr>\n",
       "    <tr>\n",
       "      <th>SRR2532376</th>\n",
       "      <td>breast cancer cell line</td>\n",
       "      <td>NaN</td>\n",
       "      <td>NaN</td>\n",
       "      <td>NaN</td>\n",
       "      <td>0.647641</td>\n",
       "    </tr>\n",
       "    <tr>\n",
       "      <th>SRP026537</th>\n",
       "      <th>SRR925700</th>\n",
       "      <td>breast cancer</td>\n",
       "      <td>NaN</td>\n",
       "      <td>NaN</td>\n",
       "      <td>NaN</td>\n",
       "      <td>0.638597</td>\n",
       "    </tr>\n",
       "    <tr>\n",
       "      <th>SRP006575</th>\n",
       "      <th>SRR537132</th>\n",
       "      <td>breast cancer cells</td>\n",
       "      <td>NaN</td>\n",
       "      <td>NaN</td>\n",
       "      <td>NaN</td>\n",
       "      <td>0.633632</td>\n",
       "    </tr>\n",
       "    <tr>\n",
       "      <th>SRP064259</th>\n",
       "      <th>SRR2532344</th>\n",
       "      <td>breast cancer cell line</td>\n",
       "      <td>NaN</td>\n",
       "      <td>NaN</td>\n",
       "      <td>NaN</td>\n",
       "      <td>0.620003</td>\n",
       "    </tr>\n",
       "    <tr>\n",
       "      <th>SRP006575</th>\n",
       "      <th>SRR537130</th>\n",
       "      <td>breast cancer cells</td>\n",
       "      <td>NaN</td>\n",
       "      <td>NaN</td>\n",
       "      <td>NaN</td>\n",
       "      <td>0.607542</td>\n",
       "    </tr>\n",
       "  </tbody>\n",
       "</table>\n",
       "</div>"
      ],
      "text/plain": [
       "                                        cell type                   tissue  \\\n",
       "project   run                                                                \n",
       "SRP037775 SRR1168737  HER2-positive breast cancer                      NaN   \n",
       "          SRR1168743  HER2-positive breast cancer                      NaN   \n",
       "          SRR1168733  HER2-positive breast cancer                      NaN   \n",
       "          SRR1168735  HER2-positive breast cancer                      NaN   \n",
       "          SRR1168740  HER2-positive breast cancer                      NaN   \n",
       "          SRR1168741  HER2-positive breast cancer                      NaN   \n",
       "          SRR1168734  HER2-positive breast cancer                      NaN   \n",
       "          SRR1168746  HER2-positive breast cancer                      NaN   \n",
       "          SRR1168742  HER2-positive breast cancer                      NaN   \n",
       "          SRR1168736  HER2-positive breast cancer                      NaN   \n",
       "          SRR1168739  HER2-positive breast cancer                      NaN   \n",
       "          SRR1168744  HER2-positive breast cancer                      NaN   \n",
       "          SRR1168738  HER2-positive breast cancer                      NaN   \n",
       "SRP023262 SRR868863                           NaN                   breast   \n",
       "SRP064259 SRR2532318      breast cancer cell line                      NaN   \n",
       "SRP042620 SRR1313079                          NaN  Breast Cancer Cell Line   \n",
       "SRP049500 SRR1639638      Breast Cancer cell line                      NaN   \n",
       "SRP064259 SRR2532392      breast cancer cell line                      NaN   \n",
       "SRP049507 SRR1639743                        HER2+                      NaN   \n",
       "SRP064259 SRR2532384      breast cancer cell line                      NaN   \n",
       "          SRR2532376      breast cancer cell line                      NaN   \n",
       "SRP026537 SRR925700                 breast cancer                      NaN   \n",
       "SRP006575 SRR537132           breast cancer cells                      NaN   \n",
       "SRP064259 SRR2532344      breast cancer cell line                      NaN   \n",
       "SRP006575 SRR537130           breast cancer cells                      NaN   \n",
       "\n",
       "                     tissue type cell subtype     LV207  \n",
       "project   run                                            \n",
       "SRP037775 SRR1168737         NaN          NaN  0.770692  \n",
       "          SRR1168743         NaN          NaN  0.769183  \n",
       "          SRR1168733         NaN          NaN  0.767733  \n",
       "          SRR1168735         NaN          NaN  0.766716  \n",
       "          SRR1168740         NaN          NaN  0.766085  \n",
       "          SRR1168741         NaN          NaN  0.765746  \n",
       "          SRR1168734         NaN          NaN  0.764671  \n",
       "          SRR1168746         NaN          NaN  0.762963  \n",
       "          SRR1168742         NaN          NaN  0.762198  \n",
       "          SRR1168736         NaN          NaN  0.759725  \n",
       "          SRR1168739         NaN          NaN  0.759019  \n",
       "          SRR1168744         NaN          NaN  0.757797  \n",
       "          SRR1168738         NaN          NaN  0.756271  \n",
       "SRP023262 SRR868863          NaN          NaN  0.734824  \n",
       "SRP064259 SRR2532318         NaN          NaN  0.728098  \n",
       "SRP042620 SRR1313079         NaN          NaN  0.701796  \n",
       "SRP049500 SRR1639638         NaN          NaN  0.693834  \n",
       "SRP064259 SRR2532392         NaN          NaN  0.675326  \n",
       "SRP049507 SRR1639743         NaN          NaN  0.668840  \n",
       "SRP064259 SRR2532384         NaN          NaN  0.655314  \n",
       "          SRR2532376         NaN          NaN  0.647641  \n",
       "SRP026537 SRR925700          NaN          NaN  0.638597  \n",
       "SRP006575 SRR537132          NaN          NaN  0.633632  \n",
       "SRP064259 SRR2532344         NaN          NaN  0.620003  \n",
       "SRP006575 SRR537130          NaN          NaN  0.607542  "
      ]
     },
     "execution_count": 25,
     "metadata": {},
     "output_type": "execute_result"
    }
   ],
   "source": [
    "_tmp_seq[2]"
   ]
  },
  {
   "cell_type": "code",
   "execution_count": 26,
   "id": "marine-chassis",
   "metadata": {},
   "outputs": [],
   "source": [
    "# # what is there in these projects?\n",
    "# lv_data.loc[[\"SRP007412\"]].dropna(how=\"all\", axis=1).sort_values(\n",
    "#     LV_NAME, ascending=False\n",
    "# ).sort_values(LV_NAME, ascending=False).head(10)"
   ]
  },
  {
   "cell_type": "markdown",
   "id": "domestic-better",
   "metadata": {},
   "source": [
    "**No cell types/tissues/cell lines** so not very interesting"
   ]
  },
  {
   "cell_type": "code",
   "execution_count": 27,
   "id": "linear-disposition",
   "metadata": {},
   "outputs": [],
   "source": [
    "SELECTED_ATTRIBUTE = \"cell type\""
   ]
  },
  {
   "cell_type": "code",
   "execution_count": 28,
   "id": "cultural-arbor",
   "metadata": {},
   "outputs": [],
   "source": [
    "# it has to be in the order desired for filling nans in the SELECTED_ATTRIBUTE\n",
    "SECOND_ATTRIBUTES = [\n",
    "    \"tissue\",\n",
    "    #     \"tissue subtype\"\n",
    "]"
   ]
  },
  {
   "cell_type": "markdown",
   "id": "annoying-revolution",
   "metadata": {},
   "source": [
    "## Get plot data"
   ]
  },
  {
   "cell_type": "code",
   "execution_count": 29,
   "id": "suspended-beaver",
   "metadata": {},
   "outputs": [],
   "source": [
    "plot_data = lv_data.loc[:, [SELECTED_ATTRIBUTE] + SECOND_ATTRIBUTES + [LV_NAME]]"
   ]
  },
  {
   "cell_type": "code",
   "execution_count": 30,
   "id": "amazing-bracelet",
   "metadata": {},
   "outputs": [],
   "source": [
    "# if blank/nan, fill cell type column with tissue content\n",
    "_new_column = plot_data[[SELECTED_ATTRIBUTE] + SECOND_ATTRIBUTES].fillna(\n",
    "    method=\"backfill\", axis=1\n",
    ")[SELECTED_ATTRIBUTE]\n",
    "plot_data[SELECTED_ATTRIBUTE] = _new_column\n",
    "plot_data = plot_data.drop(columns=SECOND_ATTRIBUTES)\n",
    "plot_data = plot_data.fillna({SELECTED_ATTRIBUTE: \"NOT CATEGORIZED\"})\n",
    "# plot_data = plot_data.dropna(subset=[SELECTED_ATTRIBUTE])"
   ]
  },
  {
   "cell_type": "code",
   "execution_count": 31,
   "id": "diagnostic-silver",
   "metadata": {},
   "outputs": [],
   "source": [
    "plot_data = plot_data.sort_values(LV_NAME, ascending=False)"
   ]
  },
  {
   "cell_type": "code",
   "execution_count": 32,
   "id": "renewable-image",
   "metadata": {},
   "outputs": [
    {
     "data": {
      "text/html": [
       "<div>\n",
       "<style scoped>\n",
       "    .dataframe tbody tr th:only-of-type {\n",
       "        vertical-align: middle;\n",
       "    }\n",
       "\n",
       "    .dataframe tbody tr th {\n",
       "        vertical-align: top;\n",
       "    }\n",
       "\n",
       "    .dataframe thead th {\n",
       "        text-align: right;\n",
       "    }\n",
       "</style>\n",
       "<table border=\"1\" class=\"dataframe\">\n",
       "  <thead>\n",
       "    <tr style=\"text-align: right;\">\n",
       "      <th></th>\n",
       "      <th></th>\n",
       "      <th>cell type</th>\n",
       "      <th>LV207</th>\n",
       "    </tr>\n",
       "    <tr>\n",
       "      <th>project</th>\n",
       "      <th>run</th>\n",
       "      <th></th>\n",
       "      <th></th>\n",
       "    </tr>\n",
       "  </thead>\n",
       "  <tbody>\n",
       "    <tr>\n",
       "      <th rowspan=\"2\" valign=\"top\">SRP026537</th>\n",
       "      <th>SRR934645</th>\n",
       "      <td>breast cancer</td>\n",
       "      <td>1.976458</td>\n",
       "    </tr>\n",
       "    <tr>\n",
       "      <th>SRR934644</th>\n",
       "      <td>breast cancer</td>\n",
       "      <td>1.750343</td>\n",
       "    </tr>\n",
       "    <tr>\n",
       "      <th>SRP064259</th>\n",
       "      <th>SRR2532393</th>\n",
       "      <td>breast cancer cell line</td>\n",
       "      <td>1.682502</td>\n",
       "    </tr>\n",
       "    <tr>\n",
       "      <th>SRP042620</th>\n",
       "      <th>SRR1313098</th>\n",
       "      <td>ER+ Breast Cancer Primary Tumor</td>\n",
       "      <td>1.455198</td>\n",
       "    </tr>\n",
       "    <tr>\n",
       "      <th rowspan=\"7\" valign=\"top\">SRP026537</th>\n",
       "      <th>SRR934640</th>\n",
       "      <td>breast cancer</td>\n",
       "      <td>1.318931</td>\n",
       "    </tr>\n",
       "    <tr>\n",
       "      <th>SRR925694</th>\n",
       "      <td>breast cancer</td>\n",
       "      <td>1.308988</td>\n",
       "    </tr>\n",
       "    <tr>\n",
       "      <th>SRR934641</th>\n",
       "      <td>breast cancer</td>\n",
       "      <td>1.286711</td>\n",
       "    </tr>\n",
       "    <tr>\n",
       "      <th>SRR934642</th>\n",
       "      <td>breast cancer</td>\n",
       "      <td>1.221695</td>\n",
       "    </tr>\n",
       "    <tr>\n",
       "      <th>SRR934632</th>\n",
       "      <td>breast cancer</td>\n",
       "      <td>1.175718</td>\n",
       "    </tr>\n",
       "    <tr>\n",
       "      <th>SRR934631</th>\n",
       "      <td>breast cancer</td>\n",
       "      <td>1.155347</td>\n",
       "    </tr>\n",
       "    <tr>\n",
       "      <th>SRR934643</th>\n",
       "      <td>breast cancer</td>\n",
       "      <td>1.116380</td>\n",
       "    </tr>\n",
       "    <tr>\n",
       "      <th rowspan=\"2\" valign=\"top\">SRP011974</th>\n",
       "      <th>SRR449336</th>\n",
       "      <td>NOT CATEGORIZED</td>\n",
       "      <td>1.114806</td>\n",
       "    </tr>\n",
       "    <tr>\n",
       "      <th>SRR449337</th>\n",
       "      <td>NOT CATEGORIZED</td>\n",
       "      <td>1.100648</td>\n",
       "    </tr>\n",
       "    <tr>\n",
       "      <th>SRP006575</th>\n",
       "      <th>SRR537128</th>\n",
       "      <td>breast cancer cells</td>\n",
       "      <td>1.070650</td>\n",
       "    </tr>\n",
       "    <tr>\n",
       "      <th>SRP042620</th>\n",
       "      <th>SRR1313081</th>\n",
       "      <td>Breast Cancer Cell Line</td>\n",
       "      <td>1.013607</td>\n",
       "    </tr>\n",
       "    <tr>\n",
       "      <th>SRP026537</th>\n",
       "      <th>SRR1283038</th>\n",
       "      <td>breast cancer cell line</td>\n",
       "      <td>0.993671</td>\n",
       "    </tr>\n",
       "    <tr>\n",
       "      <th>SRP006575</th>\n",
       "      <th>SRR537131</th>\n",
       "      <td>breast cancer cells</td>\n",
       "      <td>0.991355</td>\n",
       "    </tr>\n",
       "    <tr>\n",
       "      <th>SRP026537</th>\n",
       "      <th>SRR925704</th>\n",
       "      <td>breast cancer</td>\n",
       "      <td>0.978535</td>\n",
       "    </tr>\n",
       "    <tr>\n",
       "      <th>SRP030475</th>\n",
       "      <th>SRR1002999</th>\n",
       "      <td>NOT CATEGORIZED</td>\n",
       "      <td>0.928411</td>\n",
       "    </tr>\n",
       "    <tr>\n",
       "      <th>SRP026537</th>\n",
       "      <th>SRR925699</th>\n",
       "      <td>breast cancer</td>\n",
       "      <td>0.922048</td>\n",
       "    </tr>\n",
       "  </tbody>\n",
       "</table>\n",
       "</div>"
      ],
      "text/plain": [
       "                                            cell type     LV207\n",
       "project   run                                                  \n",
       "SRP026537 SRR934645                     breast cancer  1.976458\n",
       "          SRR934644                     breast cancer  1.750343\n",
       "SRP064259 SRR2532393          breast cancer cell line  1.682502\n",
       "SRP042620 SRR1313098  ER+ Breast Cancer Primary Tumor  1.455198\n",
       "SRP026537 SRR934640                     breast cancer  1.318931\n",
       "          SRR925694                     breast cancer  1.308988\n",
       "          SRR934641                     breast cancer  1.286711\n",
       "          SRR934642                     breast cancer  1.221695\n",
       "          SRR934632                     breast cancer  1.175718\n",
       "          SRR934631                     breast cancer  1.155347\n",
       "          SRR934643                     breast cancer  1.116380\n",
       "SRP011974 SRR449336                   NOT CATEGORIZED  1.114806\n",
       "          SRR449337                   NOT CATEGORIZED  1.100648\n",
       "SRP006575 SRR537128               breast cancer cells  1.070650\n",
       "SRP042620 SRR1313081          Breast Cancer Cell Line  1.013607\n",
       "SRP026537 SRR1283038          breast cancer cell line  0.993671\n",
       "SRP006575 SRR537131               breast cancer cells  0.991355\n",
       "SRP026537 SRR925704                     breast cancer  0.978535\n",
       "SRP030475 SRR1002999                  NOT CATEGORIZED  0.928411\n",
       "SRP026537 SRR925699                     breast cancer  0.922048"
      ]
     },
     "execution_count": 32,
     "metadata": {},
     "output_type": "execute_result"
    }
   ],
   "source": [
    "plot_data.head(20)"
   ]
  },
  {
   "cell_type": "markdown",
   "id": "french-advisory",
   "metadata": {},
   "source": [
    "## Customize x-axis values"
   ]
  },
  {
   "cell_type": "markdown",
   "id": "hungry-authorization",
   "metadata": {},
   "source": [
    "When cell type values are not very clear, customize their names by looking at their specific studies to know exactly what the authors meant."
   ]
  },
  {
   "cell_type": "code",
   "execution_count": 33,
   "id": "damaged-secretariat",
   "metadata": {},
   "outputs": [],
   "source": [
    "final_plot_data = plot_data.replace(\n",
    "    {\n",
    "        SELECTED_ATTRIBUTE: {\n",
    "            #             \"normal skin\": \"Skin\",\n",
    "            #             \"liver\": \"Liver\",\n",
    "            #             \"Human Skeletal Muscle Myoblasts (HSMM)\": \"Skeletal muscle myoblasts\",\n",
    "            #             \"astrocytes\": \"Astrocytes\",\n",
    "            #             \"mixture of U87 human glioma cells and WI-38 human lung fibroblast cells\": \"Glioma cells + lung fibroblast cells\",\n",
    "            #             \"functional hepatocytes generated by lineage reprogramming\": \"Hepatocytes\",\n",
    "            #             \"human adipose-derived stem cells\": \"Adipose-derived stem cells\",\n",
    "            #             \"adipose\": \"Adipose\",\n",
    "            #             \"embryonic stem cells\": \"Embryonic stem cells\",\n",
    "            #             \"primary keratinocytes\": \"Primary keratinocytes\",\n",
    "            #             \"fetal liver\": \"Fetal liver\",\n",
    "            #             \"in vitro differentiated erythroid cells\": \"Erythroid cells\",\n",
    "            #             \"WAT\": \"White adipose tissue\",\n",
    "            #             \"BAT\": \"Brown adipose tissue\",\n",
    "            #             \"Uninvolved Breast Tissue Adjacent to ER+ Primary Tumor\": \"Breast tissue adjacent to ER+ tumor\",\n",
    "            #             \"ovarian granulosa cells\": \"Ovarian granulosa cells\",\n",
    "            \"mixture of U87 human glioma cells and MCF10a human breast cancer cells\": \"glioma cells + breast cancer cells\",\n",
    "        }\n",
    "    }\n",
    ")"
   ]
  },
  {
   "cell_type": "code",
   "execution_count": 34,
   "id": "three-relationship",
   "metadata": {},
   "outputs": [],
   "source": [
    "# # add also tissue information to these projects\n",
    "# _srp_code = \"SRP057196\"\n",
    "# _tmp = final_plot_data.loc[(_srp_code,)].apply(\n",
    "#     lambda x: x[SELECTED_ATTRIBUTE]\n",
    "#     + f\" ({lv_data.loc[(_srp_code, x.name), 'tissue']})\",\n",
    "#     axis=1,\n",
    "# )\n",
    "# final_plot_data.loc[(_srp_code, _tmp.index), SELECTED_ATTRIBUTE] = _tmp.values"
   ]
  },
  {
   "cell_type": "code",
   "execution_count": 35,
   "id": "engaged-closure",
   "metadata": {},
   "outputs": [],
   "source": [
    "# take the top samples only\n",
    "final_plot_data = final_plot_data.sort_values(LV_NAME, ascending=False)[:N_TOP_SAMPLES]"
   ]
  },
  {
   "cell_type": "markdown",
   "id": "adapted-wednesday",
   "metadata": {},
   "source": [
    "## Threshold LV values"
   ]
  },
  {
   "cell_type": "code",
   "execution_count": 36,
   "id": "nervous-approval",
   "metadata": {},
   "outputs": [],
   "source": [
    "final_plot_data.loc[\n",
    "    final_plot_data[LV_NAME] > LV_AXIS_THRESHOLD, LV_NAME\n",
    "] = LV_AXIS_THRESHOLD"
   ]
  },
  {
   "cell_type": "markdown",
   "id": "sound-federation",
   "metadata": {},
   "source": [
    "## Delete samples with no tissue/cell type information"
   ]
  },
  {
   "cell_type": "code",
   "execution_count": 37,
   "id": "rational-baking",
   "metadata": {},
   "outputs": [],
   "source": [
    "final_plot_data = final_plot_data[\n",
    "    final_plot_data[SELECTED_ATTRIBUTE] != \"NOT CATEGORIZED\"\n",
    "]"
   ]
  },
  {
   "cell_type": "markdown",
   "id": "alike-paraguay",
   "metadata": {},
   "source": [
    "## Set x-axis order"
   ]
  },
  {
   "cell_type": "code",
   "execution_count": 38,
   "id": "quiet-narrative",
   "metadata": {},
   "outputs": [],
   "source": [
    "attr_order = (\n",
    "    final_plot_data.groupby(SELECTED_ATTRIBUTE)\n",
    "    .max()\n",
    "    .sort_values(LV_NAME, ascending=False)\n",
    "    .index[:N_TOP_ATTRS]\n",
    "    .tolist()\n",
    ")"
   ]
  },
  {
   "cell_type": "code",
   "execution_count": 39,
   "id": "obvious-comparative",
   "metadata": {},
   "outputs": [
    {
     "data": {
      "text/plain": [
       "15"
      ]
     },
     "execution_count": 39,
     "metadata": {},
     "output_type": "execute_result"
    }
   ],
   "source": [
    "len(attr_order)"
   ]
  },
  {
   "cell_type": "code",
   "execution_count": 40,
   "id": "revised-basis",
   "metadata": {},
   "outputs": [
    {
     "data": {
      "text/plain": [
       "['breast cancer',\n",
       " 'breast cancer cell line',\n",
       " 'ER+ Breast Cancer Primary Tumor',\n",
       " 'breast cancer cells',\n",
       " 'Breast Cancer Cell Line']"
      ]
     },
     "execution_count": 40,
     "metadata": {},
     "output_type": "execute_result"
    }
   ],
   "source": [
    "attr_order[:5]"
   ]
  },
  {
   "cell_type": "markdown",
   "id": "falling-settlement",
   "metadata": {},
   "source": [
    "## Plot"
   ]
  },
  {
   "cell_type": "code",
   "execution_count": 41,
   "id": "dominant-general",
   "metadata": {},
   "outputs": [
    {
     "data": {
      "image/png": "[encoded data removed]",
      "text/plain": [
       "<Figure size 900x360 with 1 Axes>"
      ]
     },
     "metadata": {},
     "output_type": "display_data"
    }
   ],
   "source": [
    "with sns.plotting_context(\"paper\", font_scale=2.5), sns.axes_style(\"whitegrid\"):\n",
    "    g = sns.catplot(\n",
    "        data=final_plot_data,\n",
    "        y=LV_NAME,\n",
    "        x=SELECTED_ATTRIBUTE,\n",
    "        order=attr_order,\n",
    "        kind=\"strip\",\n",
    "        height=5,\n",
    "        aspect=2.5,\n",
    "    )\n",
    "    plt.xticks(rotation=45, horizontalalignment=\"right\")\n",
    "    plt.xlabel(\"\")\n",
    "\n",
    "#     plt.savefig(\n",
    "#         OUTPUT_CELL_TYPE_FILEPATH,\n",
    "#         bbox_inches=\"tight\",\n",
    "#         facecolor=\"white\",\n",
    "#     )"
   ]
  },
  {
   "cell_type": "markdown",
   "id": "settled-modern",
   "metadata": {},
   "source": [
    "# Debug"
   ]
  },
  {
   "cell_type": "code",
   "execution_count": 42,
   "id": "czech-turtle",
   "metadata": {},
   "outputs": [
    {
     "data": {
      "text/html": [
       "<div>\n",
       "<style scoped>\n",
       "    .dataframe tbody tr th:only-of-type {\n",
       "        vertical-align: middle;\n",
       "    }\n",
       "\n",
       "    .dataframe tbody tr th {\n",
       "        vertical-align: top;\n",
       "    }\n",
       "\n",
       "    .dataframe thead th {\n",
       "        text-align: right;\n",
       "    }\n",
       "</style>\n",
       "<table border=\"1\" class=\"dataframe\">\n",
       "  <thead>\n",
       "    <tr style=\"text-align: right;\">\n",
       "      <th></th>\n",
       "      <th></th>\n",
       "      <th>cell type</th>\n",
       "      <th>LV207</th>\n",
       "    </tr>\n",
       "    <tr>\n",
       "      <th>project</th>\n",
       "      <th>run</th>\n",
       "      <th></th>\n",
       "      <th></th>\n",
       "    </tr>\n",
       "  </thead>\n",
       "  <tbody>\n",
       "  </tbody>\n",
       "</table>\n",
       "</div>"
      ],
      "text/plain": [
       "Empty DataFrame\n",
       "Columns: [cell type, LV207]\n",
       "Index: []"
      ]
     },
     "metadata": {},
     "output_type": "display_data"
    }
   ],
   "source": [
    "with pd.option_context(\n",
    "    \"display.max_rows\", None, \"display.max_columns\", None, \"display.max_colwidth\", None\n",
    "):\n",
    "    _tmp = final_plot_data[final_plot_data[SELECTED_ATTRIBUTE].str.contains(\"NOT CAT\")]\n",
    "    display(_tmp.head(20))"
   ]
  },
  {
   "cell_type": "code",
   "execution_count": 43,
   "id": "mighty-amber",
   "metadata": {},
   "outputs": [],
   "source": [
    "# # what is there in these projects?\n",
    "# lv_data.loc[[\"SRP056041\"]].dropna(how=\"all\", axis=1).sort_values(\n",
    "#     LV_NAME, ascending=False\n",
    "# ).head(60)"
   ]
  },
  {
   "cell_type": "code",
   "execution_count": null,
   "id": "numeric-receiver",
   "metadata": {},
   "outputs": [],
   "source": []
  }
 ],
 "metadata": {
  "jupytext": {
   "cell_metadata_filter": "all,-execution,-papermill,-trusted",
   "formats": "ipynb,py//py:percent"
  },
  "kernelspec": {
   "display_name": "Python 3",
   "language": "python",
   "name": "python3"
  },
  "language_info": {
   "codemirror_mode": {
    "name": "ipython",
    "version": 3
   },
   "file_extension": ".py",
   "mimetype": "text/x-python",
   "name": "python",
   "nbconvert_exporter": "python",
   "pygments_lexer": "ipython3",
   "version": "3.8.8"
  }
 },
 "nbformat": 4,
 "nbformat_minor": 5
}
