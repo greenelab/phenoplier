{
 "cells": [
  {
   "cell_type": "markdown",
   "id": "regular-leone",
   "metadata": {
    "papermill": {
     "duration": 0.006593,
     "end_time": "2021-05-11T19:09:55.733221",
     "exception": false,
     "start_time": "2021-05-11T19:09:55.726628",
     "status": "completed"
    },
    "tags": []
   },
   "source": [
    "# Description"
   ]
  },
  {
   "cell_type": "markdown",
   "id": "large-trouble",
   "metadata": {
    "papermill": {
     "duration": 0.00668,
     "end_time": "2021-05-11T19:09:55.745410",
     "exception": false,
     "start_time": "2021-05-11T19:09:55.738730",
     "status": "completed"
    },
    "tags": []
   },
   "source": [
    "Generates the figure for top cell types for a specified LV (in Settings section below)."
   ]
  },
  {
   "cell_type": "markdown",
   "id": "killing-evening",
   "metadata": {
    "papermill": {
     "duration": 0.006223,
     "end_time": "2021-05-11T19:09:55.756959",
     "exception": false,
     "start_time": "2021-05-11T19:09:55.750736",
     "status": "completed"
    },
    "tags": []
   },
   "source": [
    "# Modules loading"
   ]
  },
  {
   "cell_type": "code",
   "execution_count": 1,
   "id": "bottom-convergence",
   "metadata": {
    "papermill": {
     "duration": 0.01906,
     "end_time": "2021-05-11T19:09:55.781515",
     "exception": false,
     "start_time": "2021-05-11T19:09:55.762455",
     "status": "completed"
    },
    "tags": []
   },
   "outputs": [],
   "source": [
    "%load_ext autoreload\n",
    "%autoreload 2"
   ]
  },
  {
   "cell_type": "code",
   "execution_count": 2,
   "id": "reserved-instruction",
   "metadata": {
    "papermill": {
     "duration": 0.993432,
     "end_time": "2021-05-11T19:09:56.780403",
     "exception": false,
     "start_time": "2021-05-11T19:09:55.786971",
     "status": "completed"
    },
    "tags": []
   },
   "outputs": [],
   "source": [
    "import re\n",
    "from pathlib import Path\n",
    "\n",
    "import pandas as pd\n",
    "import matplotlib.pyplot as plt\n",
    "import seaborn as sns\n",
    "\n",
    "from data.recount2 import LVAnalysis\n",
    "from utils import chunker\n",
    "import conf"
   ]
  },
  {
   "cell_type": "markdown",
   "id": "immediate-benefit",
   "metadata": {
    "papermill": {
     "duration": 0.005973,
     "end_time": "2021-05-11T19:09:56.792495",
     "exception": false,
     "start_time": "2021-05-11T19:09:56.786522",
     "status": "completed"
    },
    "tags": []
   },
   "source": [
    "# Settings"
   ]
  },
  {
   "cell_type": "code",
   "execution_count": 3,
   "id": "political-holmes",
   "metadata": {
    "papermill": {
     "duration": 0.019548,
     "end_time": "2021-05-11T19:09:56.817689",
     "exception": false,
     "start_time": "2021-05-11T19:09:56.798141",
     "status": "completed"
    },
    "tags": [
     "parameters"
    ]
   },
   "outputs": [],
   "source": [
    "LV_NAME = \"LV942\""
   ]
  },
  {
   "cell_type": "code",
   "execution_count": 4,
   "id": "compatible-rocket",
   "metadata": {},
   "outputs": [],
   "source": [
    "LV_AXIS_THRESHOLD = 3.0\n",
    "N_TOP_SAMPLES = 400\n",
    "N_TOP_ATTRS = 15"
   ]
  },
  {
   "cell_type": "code",
   "execution_count": 5,
   "id": "exceptional-damage",
   "metadata": {},
   "outputs": [],
   "source": [
    "# OUTPUT_FIGURES_DIR = Path(\n",
    "#     conf.MANUSCRIPT[\"FIGURES_DIR\"], \"lvs_analysis\", f\"{LV_NAME.lower()}\"\n",
    "# ).resolve()\n",
    "# display(OUTPUT_FIGURES_DIR)\n",
    "# OUTPUT_FIGURES_DIR.mkdir(parents=True, exist_ok=True)"
   ]
  },
  {
   "cell_type": "code",
   "execution_count": 6,
   "id": "higher-accreditation",
   "metadata": {},
   "outputs": [],
   "source": [
    "# OUTPUT_CELL_TYPE_FILEPATH = OUTPUT_FIGURES_DIR / f\"{LV_NAME.lower()}-cell_types.svg\"\n",
    "# display(OUTPUT_CELL_TYPE_FILEPATH)"
   ]
  },
  {
   "cell_type": "markdown",
   "id": "identical-smoke",
   "metadata": {
    "papermill": {
     "duration": 0.005592,
     "end_time": "2021-05-11T19:09:56.854406",
     "exception": false,
     "start_time": "2021-05-11T19:09:56.848814",
     "status": "completed"
    },
    "tags": []
   },
   "source": [
    "# Load MultiPLIER summary"
   ]
  },
  {
   "cell_type": "code",
   "execution_count": 7,
   "id": "dried-invention",
   "metadata": {
    "papermill": {
     "duration": 0.020251,
     "end_time": "2021-05-11T19:09:56.880435",
     "exception": false,
     "start_time": "2021-05-11T19:09:56.860184",
     "status": "completed"
    },
    "tags": []
   },
   "outputs": [],
   "source": [
    "multiplier_model_summary = pd.read_pickle(conf.MULTIPLIER[\"MODEL_SUMMARY_FILE\"])"
   ]
  },
  {
   "cell_type": "code",
   "execution_count": 8,
   "id": "outside-direction",
   "metadata": {
    "papermill": {
     "duration": 0.02062,
     "end_time": "2021-05-11T19:09:56.906744",
     "exception": false,
     "start_time": "2021-05-11T19:09:56.886124",
     "status": "completed"
    },
    "tags": []
   },
   "outputs": [
    {
     "data": {
      "text/plain": [
       "(2157, 5)"
      ]
     },
     "execution_count": 8,
     "metadata": {},
     "output_type": "execute_result"
    }
   ],
   "source": [
    "multiplier_model_summary.shape"
   ]
  },
  {
   "cell_type": "code",
   "execution_count": 9,
   "id": "reliable-bumper",
   "metadata": {
    "papermill": {
     "duration": 0.024737,
     "end_time": "2021-05-11T19:09:56.937493",
     "exception": false,
     "start_time": "2021-05-11T19:09:56.912756",
     "status": "completed"
    },
    "tags": []
   },
   "outputs": [
    {
     "data": {
      "text/html": [
       "<div>\n",
       "<style scoped>\n",
       "    .dataframe tbody tr th:only-of-type {\n",
       "        vertical-align: middle;\n",
       "    }\n",
       "\n",
       "    .dataframe tbody tr th {\n",
       "        vertical-align: top;\n",
       "    }\n",
       "\n",
       "    .dataframe thead th {\n",
       "        text-align: right;\n",
       "    }\n",
       "</style>\n",
       "<table border=\"1\" class=\"dataframe\">\n",
       "  <thead>\n",
       "    <tr style=\"text-align: right;\">\n",
       "      <th></th>\n",
       "      <th>pathway</th>\n",
       "      <th>LV index</th>\n",
       "      <th>AUC</th>\n",
       "      <th>p-value</th>\n",
       "      <th>FDR</th>\n",
       "    </tr>\n",
       "  </thead>\n",
       "  <tbody>\n",
       "    <tr>\n",
       "      <th>1</th>\n",
       "      <td>KEGG_LYSINE_DEGRADATION</td>\n",
       "      <td>1</td>\n",
       "      <td>0.388059</td>\n",
       "      <td>0.866078</td>\n",
       "      <td>0.956005</td>\n",
       "    </tr>\n",
       "    <tr>\n",
       "      <th>2</th>\n",
       "      <td>REACTOME_MRNA_SPLICING</td>\n",
       "      <td>1</td>\n",
       "      <td>0.733057</td>\n",
       "      <td>0.000048</td>\n",
       "      <td>0.000582</td>\n",
       "    </tr>\n",
       "    <tr>\n",
       "      <th>3</th>\n",
       "      <td>MIPS_NOP56P_ASSOCIATED_PRE_RRNA_COMPLEX</td>\n",
       "      <td>1</td>\n",
       "      <td>0.680555</td>\n",
       "      <td>0.001628</td>\n",
       "      <td>0.011366</td>\n",
       "    </tr>\n",
       "    <tr>\n",
       "      <th>4</th>\n",
       "      <td>KEGG_DNA_REPLICATION</td>\n",
       "      <td>1</td>\n",
       "      <td>0.549473</td>\n",
       "      <td>0.312155</td>\n",
       "      <td>0.539951</td>\n",
       "    </tr>\n",
       "    <tr>\n",
       "      <th>5</th>\n",
       "      <td>PID_MYC_ACTIVPATHWAY</td>\n",
       "      <td>1</td>\n",
       "      <td>0.639303</td>\n",
       "      <td>0.021702</td>\n",
       "      <td>0.083739</td>\n",
       "    </tr>\n",
       "  </tbody>\n",
       "</table>\n",
       "</div>"
      ],
      "text/plain": [
       "                                   pathway LV index       AUC   p-value  \\\n",
       "1                  KEGG_LYSINE_DEGRADATION        1  0.388059  0.866078   \n",
       "2                   REACTOME_MRNA_SPLICING        1  0.733057  0.000048   \n",
       "3  MIPS_NOP56P_ASSOCIATED_PRE_RRNA_COMPLEX        1  0.680555  0.001628   \n",
       "4                     KEGG_DNA_REPLICATION        1  0.549473  0.312155   \n",
       "5                     PID_MYC_ACTIVPATHWAY        1  0.639303  0.021702   \n",
       "\n",
       "        FDR  \n",
       "1  0.956005  \n",
       "2  0.000582  \n",
       "3  0.011366  \n",
       "4  0.539951  \n",
       "5  0.083739  "
      ]
     },
     "execution_count": 9,
     "metadata": {},
     "output_type": "execute_result"
    }
   ],
   "source": [
    "multiplier_model_summary.head()"
   ]
  },
  {
   "cell_type": "markdown",
   "id": "interested-fireplace",
   "metadata": {
    "papermill": {
     "duration": 0.006007,
     "end_time": "2021-05-11T19:09:56.949763",
     "exception": false,
     "start_time": "2021-05-11T19:09:56.943756",
     "status": "completed"
    },
    "tags": []
   },
   "source": [
    "# Load data"
   ]
  },
  {
   "cell_type": "markdown",
   "id": "accompanied-sheet",
   "metadata": {
    "papermill": {
     "duration": 0.005873,
     "end_time": "2021-05-11T19:09:56.961602",
     "exception": false,
     "start_time": "2021-05-11T19:09:56.955729",
     "status": "completed"
    },
    "tags": []
   },
   "source": [
    "## Original data"
   ]
  },
  {
   "cell_type": "code",
   "execution_count": 10,
   "id": "standard-george",
   "metadata": {
    "papermill": {
     "duration": 0.019571,
     "end_time": "2021-05-11T19:09:56.987255",
     "exception": false,
     "start_time": "2021-05-11T19:09:56.967684",
     "status": "completed"
    },
    "tags": []
   },
   "outputs": [],
   "source": [
    "INPUT_SUBSET = \"z_score_std\""
   ]
  },
  {
   "cell_type": "code",
   "execution_count": 11,
   "id": "fifteen-subcommittee",
   "metadata": {
    "papermill": {
     "duration": 0.019175,
     "end_time": "2021-05-11T19:09:57.025099",
     "exception": false,
     "start_time": "2021-05-11T19:09:57.005924",
     "status": "completed"
    },
    "tags": []
   },
   "outputs": [],
   "source": [
    "INPUT_STEM = \"projection-smultixcan-efo_partial-mashr-zscores\""
   ]
  },
  {
   "cell_type": "code",
   "execution_count": 12,
   "id": "played-chick",
   "metadata": {
    "papermill": {
     "duration": 0.020992,
     "end_time": "2021-05-11T19:09:57.052255",
     "exception": false,
     "start_time": "2021-05-11T19:09:57.031263",
     "status": "completed"
    },
    "tags": []
   },
   "outputs": [
    {
     "data": {
      "text/plain": [
       "PosixPath('/home/miltondp/projects/labs/greenelab/phenoplier/bases/phenoplier/results/data_transformations/z_score_std/z_score_std-projection-smultixcan-efo_partial-mashr-zscores.pkl')"
      ]
     },
     "metadata": {},
     "output_type": "display_data"
    },
    {
     "data": {
      "text/plain": [
       "'z_score_std-projection-smultixcan-efo_partial-mashr-zscores'"
      ]
     },
     "metadata": {},
     "output_type": "display_data"
    }
   ],
   "source": [
    "input_filepath = Path(\n",
    "    conf.RESULTS[\"DATA_TRANSFORMATIONS_DIR\"],\n",
    "    INPUT_SUBSET,\n",
    "    f\"{INPUT_SUBSET}-{INPUT_STEM}.pkl\",\n",
    ").resolve()\n",
    "display(input_filepath)\n",
    "\n",
    "assert input_filepath.exists(), \"Input file does not exist\"\n",
    "\n",
    "input_filepath_stem = input_filepath.stem\n",
    "display(input_filepath_stem)"
   ]
  },
  {
   "cell_type": "code",
   "execution_count": 13,
   "id": "fitted-diesel",
   "metadata": {
    "papermill": {
     "duration": 0.032337,
     "end_time": "2021-05-11T19:09:57.090585",
     "exception": false,
     "start_time": "2021-05-11T19:09:57.058248",
     "status": "completed"
    },
    "tags": []
   },
   "outputs": [],
   "source": [
    "data = pd.read_pickle(input_filepath)"
   ]
  },
  {
   "cell_type": "code",
   "execution_count": 14,
   "id": "domestic-episode",
   "metadata": {
    "papermill": {
     "duration": 0.01967,
     "end_time": "2021-05-11T19:09:57.116292",
     "exception": false,
     "start_time": "2021-05-11T19:09:57.096622",
     "status": "completed"
    },
    "tags": []
   },
   "outputs": [
    {
     "data": {
      "text/plain": [
       "(3752, 987)"
      ]
     },
     "execution_count": 14,
     "metadata": {},
     "output_type": "execute_result"
    }
   ],
   "source": [
    "data.shape"
   ]
  },
  {
   "cell_type": "code",
   "execution_count": 15,
   "id": "precious-maryland",
   "metadata": {
    "papermill": {
     "duration": 0.031843,
     "end_time": "2021-05-11T19:09:57.154356",
     "exception": false,
     "start_time": "2021-05-11T19:09:57.122513",
     "status": "completed"
    },
    "tags": []
   },
   "outputs": [
    {
     "data": {
      "text/html": [
       "<div>\n",
       "<style scoped>\n",
       "    .dataframe tbody tr th:only-of-type {\n",
       "        vertical-align: middle;\n",
       "    }\n",
       "\n",
       "    .dataframe tbody tr th {\n",
       "        vertical-align: top;\n",
       "    }\n",
       "\n",
       "    .dataframe thead th {\n",
       "        text-align: right;\n",
       "    }\n",
       "</style>\n",
       "<table border=\"1\" class=\"dataframe\">\n",
       "  <thead>\n",
       "    <tr style=\"text-align: right;\">\n",
       "      <th></th>\n",
       "      <th>LV1</th>\n",
       "      <th>LV2</th>\n",
       "      <th>LV3</th>\n",
       "      <th>LV4</th>\n",
       "      <th>LV5</th>\n",
       "      <th>LV6</th>\n",
       "      <th>LV7</th>\n",
       "      <th>LV8</th>\n",
       "      <th>LV9</th>\n",
       "      <th>LV10</th>\n",
       "      <th>...</th>\n",
       "      <th>LV978</th>\n",
       "      <th>LV979</th>\n",
       "      <th>LV980</th>\n",
       "      <th>LV981</th>\n",
       "      <th>LV982</th>\n",
       "      <th>LV983</th>\n",
       "      <th>LV984</th>\n",
       "      <th>LV985</th>\n",
       "      <th>LV986</th>\n",
       "      <th>LV987</th>\n",
       "    </tr>\n",
       "  </thead>\n",
       "  <tbody>\n",
       "    <tr>\n",
       "      <th>100001_raw-Food_weight</th>\n",
       "      <td>-0.695006</td>\n",
       "      <td>1.962565</td>\n",
       "      <td>0.057683</td>\n",
       "      <td>0.878731</td>\n",
       "      <td>-0.539977</td>\n",
       "      <td>1.481272</td>\n",
       "      <td>-0.396422</td>\n",
       "      <td>1.090180</td>\n",
       "      <td>0.759223</td>\n",
       "      <td>0.931395</td>\n",
       "      <td>...</td>\n",
       "      <td>1.129784</td>\n",
       "      <td>1.752343</td>\n",
       "      <td>-1.411403</td>\n",
       "      <td>2.823863</td>\n",
       "      <td>0.931116</td>\n",
       "      <td>-1.054519</td>\n",
       "      <td>0.432982</td>\n",
       "      <td>-0.633597</td>\n",
       "      <td>0.554279</td>\n",
       "      <td>-0.642479</td>\n",
       "    </tr>\n",
       "    <tr>\n",
       "      <th>100002_raw-Energy</th>\n",
       "      <td>-1.528127</td>\n",
       "      <td>-0.345309</td>\n",
       "      <td>-0.148953</td>\n",
       "      <td>-0.242060</td>\n",
       "      <td>0.373427</td>\n",
       "      <td>0.791092</td>\n",
       "      <td>0.263477</td>\n",
       "      <td>0.987702</td>\n",
       "      <td>0.354391</td>\n",
       "      <td>1.416059</td>\n",
       "      <td>...</td>\n",
       "      <td>0.224604</td>\n",
       "      <td>0.769882</td>\n",
       "      <td>-0.509482</td>\n",
       "      <td>0.091153</td>\n",
       "      <td>2.286789</td>\n",
       "      <td>-1.008256</td>\n",
       "      <td>-0.029764</td>\n",
       "      <td>1.737229</td>\n",
       "      <td>-0.272107</td>\n",
       "      <td>-0.526125</td>\n",
       "    </tr>\n",
       "    <tr>\n",
       "      <th>100003_raw-Protein</th>\n",
       "      <td>-0.704572</td>\n",
       "      <td>-1.011299</td>\n",
       "      <td>0.671420</td>\n",
       "      <td>0.143991</td>\n",
       "      <td>0.615212</td>\n",
       "      <td>0.874212</td>\n",
       "      <td>-0.040998</td>\n",
       "      <td>0.915170</td>\n",
       "      <td>0.254369</td>\n",
       "      <td>-0.084237</td>\n",
       "      <td>...</td>\n",
       "      <td>1.003019</td>\n",
       "      <td>1.044314</td>\n",
       "      <td>-2.376108</td>\n",
       "      <td>0.004778</td>\n",
       "      <td>0.053714</td>\n",
       "      <td>-0.892447</td>\n",
       "      <td>-0.183800</td>\n",
       "      <td>1.377991</td>\n",
       "      <td>-0.278794</td>\n",
       "      <td>-0.419733</td>\n",
       "    </tr>\n",
       "    <tr>\n",
       "      <th>100004_raw-Fat</th>\n",
       "      <td>-0.989832</td>\n",
       "      <td>-1.875490</td>\n",
       "      <td>0.261555</td>\n",
       "      <td>-1.420719</td>\n",
       "      <td>0.366238</td>\n",
       "      <td>1.167049</td>\n",
       "      <td>0.257387</td>\n",
       "      <td>0.717674</td>\n",
       "      <td>-0.997664</td>\n",
       "      <td>0.969825</td>\n",
       "      <td>...</td>\n",
       "      <td>0.585913</td>\n",
       "      <td>0.638314</td>\n",
       "      <td>0.119139</td>\n",
       "      <td>-0.140204</td>\n",
       "      <td>1.394326</td>\n",
       "      <td>-1.173402</td>\n",
       "      <td>0.555058</td>\n",
       "      <td>1.013982</td>\n",
       "      <td>-0.544506</td>\n",
       "      <td>-0.064061</td>\n",
       "    </tr>\n",
       "    <tr>\n",
       "      <th>100005_raw-Carbohydrate</th>\n",
       "      <td>-0.580143</td>\n",
       "      <td>0.243335</td>\n",
       "      <td>0.158966</td>\n",
       "      <td>-0.036558</td>\n",
       "      <td>0.068176</td>\n",
       "      <td>-0.202639</td>\n",
       "      <td>1.101281</td>\n",
       "      <td>0.675227</td>\n",
       "      <td>1.463432</td>\n",
       "      <td>1.010078</td>\n",
       "      <td>...</td>\n",
       "      <td>-0.249108</td>\n",
       "      <td>-0.026814</td>\n",
       "      <td>0.232713</td>\n",
       "      <td>0.323682</td>\n",
       "      <td>1.168642</td>\n",
       "      <td>-0.282935</td>\n",
       "      <td>0.653105</td>\n",
       "      <td>1.909526</td>\n",
       "      <td>0.199997</td>\n",
       "      <td>-1.656894</td>\n",
       "    </tr>\n",
       "  </tbody>\n",
       "</table>\n",
       "<p>5 rows × 987 columns</p>\n",
       "</div>"
      ],
      "text/plain": [
       "                              LV1       LV2       LV3       LV4       LV5  \\\n",
       "100001_raw-Food_weight  -0.695006  1.962565  0.057683  0.878731 -0.539977   \n",
       "100002_raw-Energy       -1.528127 -0.345309 -0.148953 -0.242060  0.373427   \n",
       "100003_raw-Protein      -0.704572 -1.011299  0.671420  0.143991  0.615212   \n",
       "100004_raw-Fat          -0.989832 -1.875490  0.261555 -1.420719  0.366238   \n",
       "100005_raw-Carbohydrate -0.580143  0.243335  0.158966 -0.036558  0.068176   \n",
       "\n",
       "                              LV6       LV7       LV8       LV9      LV10  \\\n",
       "100001_raw-Food_weight   1.481272 -0.396422  1.090180  0.759223  0.931395   \n",
       "100002_raw-Energy        0.791092  0.263477  0.987702  0.354391  1.416059   \n",
       "100003_raw-Protein       0.874212 -0.040998  0.915170  0.254369 -0.084237   \n",
       "100004_raw-Fat           1.167049  0.257387  0.717674 -0.997664  0.969825   \n",
       "100005_raw-Carbohydrate -0.202639  1.101281  0.675227  1.463432  1.010078   \n",
       "\n",
       "                         ...     LV978     LV979     LV980     LV981  \\\n",
       "100001_raw-Food_weight   ...  1.129784  1.752343 -1.411403  2.823863   \n",
       "100002_raw-Energy        ...  0.224604  0.769882 -0.509482  0.091153   \n",
       "100003_raw-Protein       ...  1.003019  1.044314 -2.376108  0.004778   \n",
       "100004_raw-Fat           ...  0.585913  0.638314  0.119139 -0.140204   \n",
       "100005_raw-Carbohydrate  ... -0.249108 -0.026814  0.232713  0.323682   \n",
       "\n",
       "                            LV982     LV983     LV984     LV985     LV986  \\\n",
       "100001_raw-Food_weight   0.931116 -1.054519  0.432982 -0.633597  0.554279   \n",
       "100002_raw-Energy        2.286789 -1.008256 -0.029764  1.737229 -0.272107   \n",
       "100003_raw-Protein       0.053714 -0.892447 -0.183800  1.377991 -0.278794   \n",
       "100004_raw-Fat           1.394326 -1.173402  0.555058  1.013982 -0.544506   \n",
       "100005_raw-Carbohydrate  1.168642 -0.282935  0.653105  1.909526  0.199997   \n",
       "\n",
       "                            LV987  \n",
       "100001_raw-Food_weight  -0.642479  \n",
       "100002_raw-Energy       -0.526125  \n",
       "100003_raw-Protein      -0.419733  \n",
       "100004_raw-Fat          -0.064061  \n",
       "100005_raw-Carbohydrate -1.656894  \n",
       "\n",
       "[5 rows x 987 columns]"
      ]
     },
     "execution_count": 15,
     "metadata": {},
     "output_type": "execute_result"
    }
   ],
   "source": [
    "data.head()"
   ]
  },
  {
   "cell_type": "markdown",
   "id": "wooden-necklace",
   "metadata": {},
   "source": [
    "## LV data"
   ]
  },
  {
   "cell_type": "code",
   "execution_count": 16,
   "id": "emotional-exclusive",
   "metadata": {},
   "outputs": [],
   "source": [
    "lv_obj = LVAnalysis(LV_NAME, data)"
   ]
  },
  {
   "cell_type": "code",
   "execution_count": 17,
   "id": "temporal-immunology",
   "metadata": {},
   "outputs": [
    {
     "name": "stderr",
     "output_type": "stream",
     "text": [
      "[2021-09-29 14:49:24,626 - numexpr.utils] INFO: NumExpr defaulting to 8 threads.\n"
     ]
    },
    {
     "data": {
      "text/html": [
       "<div>\n",
       "<style scoped>\n",
       "    .dataframe tbody tr th:only-of-type {\n",
       "        vertical-align: middle;\n",
       "    }\n",
       "\n",
       "    .dataframe tbody tr th {\n",
       "        vertical-align: top;\n",
       "    }\n",
       "\n",
       "    .dataframe thead th {\n",
       "        text-align: right;\n",
       "    }\n",
       "</style>\n",
       "<table border=\"1\" class=\"dataframe\">\n",
       "  <thead>\n",
       "    <tr style=\"text-align: right;\">\n",
       "      <th></th>\n",
       "      <th>pathway</th>\n",
       "      <th>LV index</th>\n",
       "      <th>AUC</th>\n",
       "      <th>p-value</th>\n",
       "      <th>FDR</th>\n",
       "    </tr>\n",
       "  </thead>\n",
       "  <tbody>\n",
       "    <tr>\n",
       "      <th>2071</th>\n",
       "      <td>Custom_Treg</td>\n",
       "      <td>942</td>\n",
       "      <td>0.998441</td>\n",
       "      <td>0.002270</td>\n",
       "      <td>0.014751</td>\n",
       "    </tr>\n",
       "    <tr>\n",
       "      <th>2073</th>\n",
       "      <td>SVM T cells CD4 memory activated</td>\n",
       "      <td>942</td>\n",
       "      <td>0.878270</td>\n",
       "      <td>0.000008</td>\n",
       "      <td>0.000121</td>\n",
       "    </tr>\n",
       "    <tr>\n",
       "      <th>2076</th>\n",
       "      <td>PID_NFAT_TFPATHWAY</td>\n",
       "      <td>942</td>\n",
       "      <td>0.802124</td>\n",
       "      <td>0.000290</td>\n",
       "      <td>0.002656</td>\n",
       "    </tr>\n",
       "  </tbody>\n",
       "</table>\n",
       "</div>"
      ],
      "text/plain": [
       "                               pathway LV index       AUC   p-value       FDR\n",
       "2071                       Custom_Treg      942  0.998441  0.002270  0.014751\n",
       "2073  SVM T cells CD4 memory activated      942  0.878270  0.000008  0.000121\n",
       "2076                PID_NFAT_TFPATHWAY      942  0.802124  0.000290  0.002656"
      ]
     },
     "execution_count": 17,
     "metadata": {},
     "output_type": "execute_result"
    }
   ],
   "source": [
    "multiplier_model_summary[\n",
    "    multiplier_model_summary[\"LV index\"].isin((LV_NAME[2:],))\n",
    "    & (\n",
    "        (multiplier_model_summary[\"FDR\"] < 0.05)\n",
    "        | (multiplier_model_summary[\"AUC\"] >= 0.75)\n",
    "    )\n",
    "]"
   ]
  },
  {
   "cell_type": "code",
   "execution_count": 18,
   "id": "confirmed-korean",
   "metadata": {},
   "outputs": [
    {
     "name": "stdout",
     "output_type": "stream",
     "text": [
      "SRP059057, SRP060416, SRP049462, SRP061932, SRP053186, SRP056049, SRP055675, SRP055569, SRP043339, SRP061881, SRP055474, SRP033466, SRP045570, SRP045052, SRP010644, SRP051736, SRP044286, SRP058719, SRP037735, SRP042161, SRP053046, SRP065988, SRP057196, SRP039591, SRP050499, SRP009105, SRP051737, SRP045569, SRP045500, SRP007947, SRP062958, SRP048971, SRP042218, SRP040328, SRP003901, SRP064464, SRP043080, SRP066834, "
     ]
    }
   ],
   "source": [
    "lv_data = lv_obj.get_experiments_data()"
   ]
  },
  {
   "cell_type": "code",
   "execution_count": 19,
   "id": "upset-excitement",
   "metadata": {},
   "outputs": [
    {
     "data": {
      "text/plain": [
       "(4386, 70)"
      ]
     },
     "execution_count": 19,
     "metadata": {},
     "output_type": "execute_result"
    }
   ],
   "source": [
    "lv_data.shape"
   ]
  },
  {
   "cell_type": "code",
   "execution_count": 20,
   "id": "laden-liberia",
   "metadata": {},
   "outputs": [
    {
     "data": {
      "text/html": [
       "<div>\n",
       "<style scoped>\n",
       "    .dataframe tbody tr th:only-of-type {\n",
       "        vertical-align: middle;\n",
       "    }\n",
       "\n",
       "    .dataframe tbody tr th {\n",
       "        vertical-align: top;\n",
       "    }\n",
       "\n",
       "    .dataframe thead th {\n",
       "        text-align: right;\n",
       "    }\n",
       "</style>\n",
       "<table border=\"1\" class=\"dataframe\">\n",
       "  <thead>\n",
       "    <tr style=\"text-align: right;\">\n",
       "      <th></th>\n",
       "      <th></th>\n",
       "      <th>cell stimulation</th>\n",
       "      <th>phenotype</th>\n",
       "      <th>tonsil donor</th>\n",
       "      <th>facs gating</th>\n",
       "      <th>cell type</th>\n",
       "      <th>activation</th>\n",
       "      <th>passages</th>\n",
       "      <th>bardcode</th>\n",
       "      <th>tissue</th>\n",
       "      <th>culture condition</th>\n",
       "      <th>...</th>\n",
       "      <th>tumor stage</th>\n",
       "      <th>assigned cell type</th>\n",
       "      <th>qc pass</th>\n",
       "      <th>cell count</th>\n",
       "      <th>ercc_mix</th>\n",
       "      <th>ercc_dilution</th>\n",
       "      <th>donor</th>\n",
       "      <th>time</th>\n",
       "      <th>Stage</th>\n",
       "      <th>LV942</th>\n",
       "    </tr>\n",
       "    <tr>\n",
       "      <th>project</th>\n",
       "      <th>run</th>\n",
       "      <th></th>\n",
       "      <th></th>\n",
       "      <th></th>\n",
       "      <th></th>\n",
       "      <th></th>\n",
       "      <th></th>\n",
       "      <th></th>\n",
       "      <th></th>\n",
       "      <th></th>\n",
       "      <th></th>\n",
       "      <th></th>\n",
       "      <th></th>\n",
       "      <th></th>\n",
       "      <th></th>\n",
       "      <th></th>\n",
       "      <th></th>\n",
       "      <th></th>\n",
       "      <th></th>\n",
       "      <th></th>\n",
       "      <th></th>\n",
       "      <th></th>\n",
       "    </tr>\n",
       "  </thead>\n",
       "  <tbody>\n",
       "    <tr>\n",
       "      <th rowspan=\"5\" valign=\"top\">SRP059057</th>\n",
       "      <th>SRR2050410</th>\n",
       "      <td>Unstimulated</td>\n",
       "      <td>Coeliac Individual</td>\n",
       "      <td>NaN</td>\n",
       "      <td>NaN</td>\n",
       "      <td>NaN</td>\n",
       "      <td>NaN</td>\n",
       "      <td>NaN</td>\n",
       "      <td>NaN</td>\n",
       "      <td>NaN</td>\n",
       "      <td>NaN</td>\n",
       "      <td>...</td>\n",
       "      <td>NaN</td>\n",
       "      <td>NaN</td>\n",
       "      <td>NaN</td>\n",
       "      <td>NaN</td>\n",
       "      <td>NaN</td>\n",
       "      <td>NaN</td>\n",
       "      <td>NaN</td>\n",
       "      <td>NaN</td>\n",
       "      <td>NaN</td>\n",
       "      <td>0.324439</td>\n",
       "    </tr>\n",
       "    <tr>\n",
       "      <th>SRR2050427</th>\n",
       "      <td>Phorbal myristate acetate (PMA) stimulation</td>\n",
       "      <td>Coeliac Individual</td>\n",
       "      <td>NaN</td>\n",
       "      <td>NaN</td>\n",
       "      <td>NaN</td>\n",
       "      <td>NaN</td>\n",
       "      <td>NaN</td>\n",
       "      <td>NaN</td>\n",
       "      <td>NaN</td>\n",
       "      <td>NaN</td>\n",
       "      <td>...</td>\n",
       "      <td>NaN</td>\n",
       "      <td>NaN</td>\n",
       "      <td>NaN</td>\n",
       "      <td>NaN</td>\n",
       "      <td>NaN</td>\n",
       "      <td>NaN</td>\n",
       "      <td>NaN</td>\n",
       "      <td>NaN</td>\n",
       "      <td>NaN</td>\n",
       "      <td>1.097670</td>\n",
       "    </tr>\n",
       "    <tr>\n",
       "      <th>SRR2050426</th>\n",
       "      <td>anti-CD3/anti-CD28 stimulation</td>\n",
       "      <td>Coeliac Individual</td>\n",
       "      <td>NaN</td>\n",
       "      <td>NaN</td>\n",
       "      <td>NaN</td>\n",
       "      <td>NaN</td>\n",
       "      <td>NaN</td>\n",
       "      <td>NaN</td>\n",
       "      <td>NaN</td>\n",
       "      <td>NaN</td>\n",
       "      <td>...</td>\n",
       "      <td>NaN</td>\n",
       "      <td>NaN</td>\n",
       "      <td>NaN</td>\n",
       "      <td>NaN</td>\n",
       "      <td>NaN</td>\n",
       "      <td>NaN</td>\n",
       "      <td>NaN</td>\n",
       "      <td>NaN</td>\n",
       "      <td>NaN</td>\n",
       "      <td>0.608384</td>\n",
       "    </tr>\n",
       "    <tr>\n",
       "      <th>SRR2050425</th>\n",
       "      <td>Unstimulated</td>\n",
       "      <td>Coeliac Individual</td>\n",
       "      <td>NaN</td>\n",
       "      <td>NaN</td>\n",
       "      <td>NaN</td>\n",
       "      <td>NaN</td>\n",
       "      <td>NaN</td>\n",
       "      <td>NaN</td>\n",
       "      <td>NaN</td>\n",
       "      <td>NaN</td>\n",
       "      <td>...</td>\n",
       "      <td>NaN</td>\n",
       "      <td>NaN</td>\n",
       "      <td>NaN</td>\n",
       "      <td>NaN</td>\n",
       "      <td>NaN</td>\n",
       "      <td>NaN</td>\n",
       "      <td>NaN</td>\n",
       "      <td>NaN</td>\n",
       "      <td>NaN</td>\n",
       "      <td>0.338935</td>\n",
       "    </tr>\n",
       "    <tr>\n",
       "      <th>SRR2050424</th>\n",
       "      <td>Phorbal myristate acetate (PMA) stimulation</td>\n",
       "      <td>Coeliac Individual</td>\n",
       "      <td>NaN</td>\n",
       "      <td>NaN</td>\n",
       "      <td>NaN</td>\n",
       "      <td>NaN</td>\n",
       "      <td>NaN</td>\n",
       "      <td>NaN</td>\n",
       "      <td>NaN</td>\n",
       "      <td>NaN</td>\n",
       "      <td>...</td>\n",
       "      <td>NaN</td>\n",
       "      <td>NaN</td>\n",
       "      <td>NaN</td>\n",
       "      <td>NaN</td>\n",
       "      <td>NaN</td>\n",
       "      <td>NaN</td>\n",
       "      <td>NaN</td>\n",
       "      <td>NaN</td>\n",
       "      <td>NaN</td>\n",
       "      <td>1.510119</td>\n",
       "    </tr>\n",
       "  </tbody>\n",
       "</table>\n",
       "<p>5 rows × 70 columns</p>\n",
       "</div>"
      ],
      "text/plain": [
       "                                                 cell stimulation  \\\n",
       "project   run                                                       \n",
       "SRP059057 SRR2050410                                 Unstimulated   \n",
       "          SRR2050427  Phorbal myristate acetate (PMA) stimulation   \n",
       "          SRR2050426               anti-CD3/anti-CD28 stimulation   \n",
       "          SRR2050425                                 Unstimulated   \n",
       "          SRR2050424  Phorbal myristate acetate (PMA) stimulation   \n",
       "\n",
       "                               phenotype tonsil donor facs gating cell type  \\\n",
       "project   run                                                                 \n",
       "SRP059057 SRR2050410  Coeliac Individual          NaN         NaN       NaN   \n",
       "          SRR2050427  Coeliac Individual          NaN         NaN       NaN   \n",
       "          SRR2050426  Coeliac Individual          NaN         NaN       NaN   \n",
       "          SRR2050425  Coeliac Individual          NaN         NaN       NaN   \n",
       "          SRR2050424  Coeliac Individual          NaN         NaN       NaN   \n",
       "\n",
       "                     activation passages bardcode tissue culture condition  \\\n",
       "project   run                                                                \n",
       "SRP059057 SRR2050410        NaN      NaN      NaN    NaN               NaN   \n",
       "          SRR2050427        NaN      NaN      NaN    NaN               NaN   \n",
       "          SRR2050426        NaN      NaN      NaN    NaN               NaN   \n",
       "          SRR2050425        NaN      NaN      NaN    NaN               NaN   \n",
       "          SRR2050424        NaN      NaN      NaN    NaN               NaN   \n",
       "\n",
       "                      ... tumor stage assigned cell type qc pass cell count  \\\n",
       "project   run         ...                                                     \n",
       "SRP059057 SRR2050410  ...         NaN                NaN     NaN        NaN   \n",
       "          SRR2050427  ...         NaN                NaN     NaN        NaN   \n",
       "          SRR2050426  ...         NaN                NaN     NaN        NaN   \n",
       "          SRR2050425  ...         NaN                NaN     NaN        NaN   \n",
       "          SRR2050424  ...         NaN                NaN     NaN        NaN   \n",
       "\n",
       "                     ercc_mix ercc_dilution donor time Stage     LV942  \n",
       "project   run                                                           \n",
       "SRP059057 SRR2050410      NaN           NaN   NaN  NaN   NaN  0.324439  \n",
       "          SRR2050427      NaN           NaN   NaN  NaN   NaN  1.097670  \n",
       "          SRR2050426      NaN           NaN   NaN  NaN   NaN  0.608384  \n",
       "          SRR2050425      NaN           NaN   NaN  NaN   NaN  0.338935  \n",
       "          SRR2050424      NaN           NaN   NaN  NaN   NaN  1.510119  \n",
       "\n",
       "[5 rows x 70 columns]"
      ]
     },
     "execution_count": 20,
     "metadata": {},
     "output_type": "execute_result"
    }
   ],
   "source": [
    "lv_data.head()"
   ]
  },
  {
   "cell_type": "markdown",
   "id": "limiting-following",
   "metadata": {},
   "source": [
    "# LV cell types analysis"
   ]
  },
  {
   "cell_type": "markdown",
   "id": "olympic-facility",
   "metadata": {},
   "source": [
    "## Get top attributes"
   ]
  },
  {
   "cell_type": "code",
   "execution_count": 21,
   "id": "grand-flush",
   "metadata": {},
   "outputs": [
    {
     "data": {
      "text/plain": [
       "cell stimulation         0.258165\n",
       "phenotype                0.258165\n",
       "activation               0.052328\n",
       "passages                 0.048801\n",
       "bardcode                 0.048801\n",
       "cell-culture-batch       0.040878\n",
       "group                    0.040878\n",
       "cell population          0.039936\n",
       "p/i stimulation          0.033345\n",
       "ectopic expression       0.033345\n",
       "overexpression           0.031896\n",
       "genotype                 0.027888\n",
       "diagnosis                0.024438\n",
       "treatment                0.024233\n",
       "antibody                 0.020791\n",
       "differentiation stage    0.020791\n",
       "t cell type              0.018811\n",
       "cell surface markers     0.018811\n",
       "cell line                0.015834\n",
       "facs gating              0.015281\n",
       "dtype: float64"
      ]
     },
     "metadata": {},
     "output_type": "display_data"
    }
   ],
   "source": [
    "lv_attrs = lv_obj.get_attributes_variation_score()\n",
    "display(lv_attrs.head(20))"
   ]
  },
  {
   "cell_type": "code",
   "execution_count": 26,
   "id": "instant-specific",
   "metadata": {},
   "outputs": [
    {
     "data": {
      "text/plain": [
       "cell stimulation        0.258165\n",
       "cell-culture-batch      0.040878\n",
       "cell population         0.039936\n",
       "cell surface markers    0.018811\n",
       "cell line               0.015834\n",
       "cell markers            0.013589\n",
       "tissue                  0.012158\n",
       "cell type               0.011742\n",
       "celltype                0.007628\n",
       "cellcount               0.006609\n",
       "cell state              0.002567\n",
       "cell count              0.001148\n",
       "dtype: float64"
      ]
     },
     "execution_count": 26,
     "metadata": {},
     "output_type": "execute_result"
    }
   ],
   "source": [
    "# show those with cell type or tissue in their name\n",
    "_tmp = pd.Series(lv_attrs.index)\n",
    "lv_attrs[\n",
    "    _tmp.str.match(\n",
    "        \"(?:cell.+type$)|(?:cell.+$)|(?:tissue$)|(?:tissue.+type$)\",\n",
    "        case=False,\n",
    "        flags=re.IGNORECASE,\n",
    "    ).values\n",
    "].sort_values(ascending=False)"
   ]
  },
  {
   "cell_type": "code",
   "execution_count": 27,
   "id": "universal-nickname",
   "metadata": {},
   "outputs": [],
   "source": [
    "_tmp = lv_data.loc[\n",
    "    :,\n",
    "    [\n",
    "        \"cell stimulation\",\n",
    "        \"cell line\",\n",
    "        \"tissue\",\n",
    "        \"cell type\",\n",
    "        LV_NAME,\n",
    "    ],\n",
    "]"
   ]
  },
  {
   "cell_type": "code",
   "execution_count": 28,
   "id": "mobile-module",
   "metadata": {},
   "outputs": [],
   "source": [
    "_tmp_seq = list(chunker(_tmp.sort_values(LV_NAME, ascending=False), 25))"
   ]
  },
  {
   "cell_type": "code",
   "execution_count": 37,
   "id": "disabled-watershed",
   "metadata": {},
   "outputs": [
    {
     "data": {
      "text/html": [
       "<div>\n",
       "<style scoped>\n",
       "    .dataframe tbody tr th:only-of-type {\n",
       "        vertical-align: middle;\n",
       "    }\n",
       "\n",
       "    .dataframe tbody tr th {\n",
       "        vertical-align: top;\n",
       "    }\n",
       "\n",
       "    .dataframe thead th {\n",
       "        text-align: right;\n",
       "    }\n",
       "</style>\n",
       "<table border=\"1\" class=\"dataframe\">\n",
       "  <thead>\n",
       "    <tr style=\"text-align: right;\">\n",
       "      <th></th>\n",
       "      <th></th>\n",
       "      <th>cell stimulation</th>\n",
       "      <th>cell line</th>\n",
       "      <th>tissue</th>\n",
       "      <th>cell type</th>\n",
       "      <th>LV942</th>\n",
       "    </tr>\n",
       "    <tr>\n",
       "      <th>project</th>\n",
       "      <th>run</th>\n",
       "      <th></th>\n",
       "      <th></th>\n",
       "      <th></th>\n",
       "      <th></th>\n",
       "      <th></th>\n",
       "    </tr>\n",
       "  </thead>\n",
       "  <tbody>\n",
       "    <tr>\n",
       "      <th>SRP059057</th>\n",
       "      <th>SRR2050417</th>\n",
       "      <td>anti-CD3/anti-CD28 stimulation</td>\n",
       "      <td>NaN</td>\n",
       "      <td>NaN</td>\n",
       "      <td>NaN</td>\n",
       "      <td>0.680807</td>\n",
       "    </tr>\n",
       "    <tr>\n",
       "      <th>SRP053186</th>\n",
       "      <th>SRR1786593</th>\n",
       "      <td>NaN</td>\n",
       "      <td>NaN</td>\n",
       "      <td>NaN</td>\n",
       "      <td>NaN</td>\n",
       "      <td>0.676540</td>\n",
       "    </tr>\n",
       "    <tr>\n",
       "      <th>SRP055675</th>\n",
       "      <th>SRR1822125</th>\n",
       "      <td>NaN</td>\n",
       "      <td>NaN</td>\n",
       "      <td>NaN</td>\n",
       "      <td>regulatory T cells</td>\n",
       "      <td>0.668097</td>\n",
       "    </tr>\n",
       "    <tr>\n",
       "      <th>SRP053186</th>\n",
       "      <th>SRR1786590</th>\n",
       "      <td>NaN</td>\n",
       "      <td>NaN</td>\n",
       "      <td>NaN</td>\n",
       "      <td>NaN</td>\n",
       "      <td>0.645509</td>\n",
       "    </tr>\n",
       "    <tr>\n",
       "      <th rowspan=\"3\" valign=\"top\">SRP059057</th>\n",
       "      <th>SRR2050420</th>\n",
       "      <td>anti-CD3/anti-CD28 stimulation</td>\n",
       "      <td>NaN</td>\n",
       "      <td>NaN</td>\n",
       "      <td>NaN</td>\n",
       "      <td>0.642065</td>\n",
       "    </tr>\n",
       "    <tr>\n",
       "      <th>SRR2050439</th>\n",
       "      <td>Unstimulated</td>\n",
       "      <td>NaN</td>\n",
       "      <td>NaN</td>\n",
       "      <td>NaN</td>\n",
       "      <td>0.641908</td>\n",
       "    </tr>\n",
       "    <tr>\n",
       "      <th>SRR2050403</th>\n",
       "      <td>anti-CD3/anti-CD28 stimulation</td>\n",
       "      <td>NaN</td>\n",
       "      <td>NaN</td>\n",
       "      <td>NaN</td>\n",
       "      <td>0.639303</td>\n",
       "    </tr>\n",
       "    <tr>\n",
       "      <th>SRP053186</th>\n",
       "      <th>SRR1786607</th>\n",
       "      <td>NaN</td>\n",
       "      <td>NaN</td>\n",
       "      <td>NaN</td>\n",
       "      <td>NaN</td>\n",
       "      <td>0.633646</td>\n",
       "    </tr>\n",
       "    <tr>\n",
       "      <th rowspan=\"3\" valign=\"top\">SRP061932</th>\n",
       "      <th>SRR2141378</th>\n",
       "      <td>NaN</td>\n",
       "      <td>NaN</td>\n",
       "      <td>cord blood</td>\n",
       "      <td>CD4+ T cells</td>\n",
       "      <td>0.631952</td>\n",
       "    </tr>\n",
       "    <tr>\n",
       "      <th>SRR2141380</th>\n",
       "      <td>NaN</td>\n",
       "      <td>NaN</td>\n",
       "      <td>cord blood</td>\n",
       "      <td>CD4+ T cells</td>\n",
       "      <td>0.622499</td>\n",
       "    </tr>\n",
       "    <tr>\n",
       "      <th>SRR2141381</th>\n",
       "      <td>NaN</td>\n",
       "      <td>NaN</td>\n",
       "      <td>cord blood</td>\n",
       "      <td>CD4+ T cells</td>\n",
       "      <td>0.620982</td>\n",
       "    </tr>\n",
       "    <tr>\n",
       "      <th rowspan=\"3\" valign=\"top\">SRP053186</th>\n",
       "      <th>SRR1786597</th>\n",
       "      <td>NaN</td>\n",
       "      <td>NaN</td>\n",
       "      <td>NaN</td>\n",
       "      <td>NaN</td>\n",
       "      <td>0.615740</td>\n",
       "    </tr>\n",
       "    <tr>\n",
       "      <th>SRR1786591</th>\n",
       "      <td>NaN</td>\n",
       "      <td>NaN</td>\n",
       "      <td>NaN</td>\n",
       "      <td>NaN</td>\n",
       "      <td>0.614710</td>\n",
       "    </tr>\n",
       "    <tr>\n",
       "      <th>SRR1786598</th>\n",
       "      <td>NaN</td>\n",
       "      <td>NaN</td>\n",
       "      <td>NaN</td>\n",
       "      <td>NaN</td>\n",
       "      <td>0.614401</td>\n",
       "    </tr>\n",
       "    <tr>\n",
       "      <th>SRP061932</th>\n",
       "      <th>SRR2141377</th>\n",
       "      <td>NaN</td>\n",
       "      <td>NaN</td>\n",
       "      <td>cord blood</td>\n",
       "      <td>CD4+ T cells</td>\n",
       "      <td>0.612238</td>\n",
       "    </tr>\n",
       "    <tr>\n",
       "      <th>SRP053186</th>\n",
       "      <th>SRR1786584</th>\n",
       "      <td>NaN</td>\n",
       "      <td>NaN</td>\n",
       "      <td>NaN</td>\n",
       "      <td>NaN</td>\n",
       "      <td>0.609222</td>\n",
       "    </tr>\n",
       "    <tr>\n",
       "      <th rowspan=\"2\" valign=\"top\">SRP059057</th>\n",
       "      <th>SRR2050426</th>\n",
       "      <td>anti-CD3/anti-CD28 stimulation</td>\n",
       "      <td>NaN</td>\n",
       "      <td>NaN</td>\n",
       "      <td>NaN</td>\n",
       "      <td>0.608384</td>\n",
       "    </tr>\n",
       "    <tr>\n",
       "      <th>SRR2050434</th>\n",
       "      <td>anti-CD3/anti-CD28 stimulation</td>\n",
       "      <td>NaN</td>\n",
       "      <td>NaN</td>\n",
       "      <td>NaN</td>\n",
       "      <td>0.604377</td>\n",
       "    </tr>\n",
       "    <tr>\n",
       "      <th>SRP061932</th>\n",
       "      <th>SRR2141379</th>\n",
       "      <td>NaN</td>\n",
       "      <td>NaN</td>\n",
       "      <td>cord blood</td>\n",
       "      <td>CD4+ T cells</td>\n",
       "      <td>0.603915</td>\n",
       "    </tr>\n",
       "    <tr>\n",
       "      <th>SRP055675</th>\n",
       "      <th>SRR1822126</th>\n",
       "      <td>NaN</td>\n",
       "      <td>NaN</td>\n",
       "      <td>NaN</td>\n",
       "      <td>regulatory T cells</td>\n",
       "      <td>0.603421</td>\n",
       "    </tr>\n",
       "    <tr>\n",
       "      <th rowspan=\"2\" valign=\"top\">SRP053186</th>\n",
       "      <th>SRR1786603</th>\n",
       "      <td>NaN</td>\n",
       "      <td>NaN</td>\n",
       "      <td>NaN</td>\n",
       "      <td>NaN</td>\n",
       "      <td>0.601418</td>\n",
       "    </tr>\n",
       "    <tr>\n",
       "      <th>SRR1786594</th>\n",
       "      <td>NaN</td>\n",
       "      <td>NaN</td>\n",
       "      <td>NaN</td>\n",
       "      <td>NaN</td>\n",
       "      <td>0.595905</td>\n",
       "    </tr>\n",
       "    <tr>\n",
       "      <th>SRP055675</th>\n",
       "      <th>SRR1822123</th>\n",
       "      <td>NaN</td>\n",
       "      <td>NaN</td>\n",
       "      <td>NaN</td>\n",
       "      <td>regulatory T cells</td>\n",
       "      <td>0.592451</td>\n",
       "    </tr>\n",
       "    <tr>\n",
       "      <th>SRP061932</th>\n",
       "      <th>SRR2141376</th>\n",
       "      <td>NaN</td>\n",
       "      <td>NaN</td>\n",
       "      <td>cord blood</td>\n",
       "      <td>CD4+ T cells</td>\n",
       "      <td>0.584977</td>\n",
       "    </tr>\n",
       "    <tr>\n",
       "      <th>SRP055569</th>\n",
       "      <th>SRR1821557</th>\n",
       "      <td>NaN</td>\n",
       "      <td>NaN</td>\n",
       "      <td>NaN</td>\n",
       "      <td>mixture of U87 human glioma cells and MCF10a h...</td>\n",
       "      <td>0.584809</td>\n",
       "    </tr>\n",
       "  </tbody>\n",
       "</table>\n",
       "</div>"
      ],
      "text/plain": [
       "                                    cell stimulation cell line      tissue  \\\n",
       "project   run                                                                \n",
       "SRP059057 SRR2050417  anti-CD3/anti-CD28 stimulation       NaN         NaN   \n",
       "SRP053186 SRR1786593                             NaN       NaN         NaN   \n",
       "SRP055675 SRR1822125                             NaN       NaN         NaN   \n",
       "SRP053186 SRR1786590                             NaN       NaN         NaN   \n",
       "SRP059057 SRR2050420  anti-CD3/anti-CD28 stimulation       NaN         NaN   \n",
       "          SRR2050439                    Unstimulated       NaN         NaN   \n",
       "          SRR2050403  anti-CD3/anti-CD28 stimulation       NaN         NaN   \n",
       "SRP053186 SRR1786607                             NaN       NaN         NaN   \n",
       "SRP061932 SRR2141378                             NaN       NaN  cord blood   \n",
       "          SRR2141380                             NaN       NaN  cord blood   \n",
       "          SRR2141381                             NaN       NaN  cord blood   \n",
       "SRP053186 SRR1786597                             NaN       NaN         NaN   \n",
       "          SRR1786591                             NaN       NaN         NaN   \n",
       "          SRR1786598                             NaN       NaN         NaN   \n",
       "SRP061932 SRR2141377                             NaN       NaN  cord blood   \n",
       "SRP053186 SRR1786584                             NaN       NaN         NaN   \n",
       "SRP059057 SRR2050426  anti-CD3/anti-CD28 stimulation       NaN         NaN   \n",
       "          SRR2050434  anti-CD3/anti-CD28 stimulation       NaN         NaN   \n",
       "SRP061932 SRR2141379                             NaN       NaN  cord blood   \n",
       "SRP055675 SRR1822126                             NaN       NaN         NaN   \n",
       "SRP053186 SRR1786603                             NaN       NaN         NaN   \n",
       "          SRR1786594                             NaN       NaN         NaN   \n",
       "SRP055675 SRR1822123                             NaN       NaN         NaN   \n",
       "SRP061932 SRR2141376                             NaN       NaN  cord blood   \n",
       "SRP055569 SRR1821557                             NaN       NaN         NaN   \n",
       "\n",
       "                                                              cell type  \\\n",
       "project   run                                                             \n",
       "SRP059057 SRR2050417                                                NaN   \n",
       "SRP053186 SRR1786593                                                NaN   \n",
       "SRP055675 SRR1822125                                 regulatory T cells   \n",
       "SRP053186 SRR1786590                                                NaN   \n",
       "SRP059057 SRR2050420                                                NaN   \n",
       "          SRR2050439                                                NaN   \n",
       "          SRR2050403                                                NaN   \n",
       "SRP053186 SRR1786607                                                NaN   \n",
       "SRP061932 SRR2141378                                       CD4+ T cells   \n",
       "          SRR2141380                                       CD4+ T cells   \n",
       "          SRR2141381                                       CD4+ T cells   \n",
       "SRP053186 SRR1786597                                                NaN   \n",
       "          SRR1786591                                                NaN   \n",
       "          SRR1786598                                                NaN   \n",
       "SRP061932 SRR2141377                                       CD4+ T cells   \n",
       "SRP053186 SRR1786584                                                NaN   \n",
       "SRP059057 SRR2050426                                                NaN   \n",
       "          SRR2050434                                                NaN   \n",
       "SRP061932 SRR2141379                                       CD4+ T cells   \n",
       "SRP055675 SRR1822126                                 regulatory T cells   \n",
       "SRP053186 SRR1786603                                                NaN   \n",
       "          SRR1786594                                                NaN   \n",
       "SRP055675 SRR1822123                                 regulatory T cells   \n",
       "SRP061932 SRR2141376                                       CD4+ T cells   \n",
       "SRP055569 SRR1821557  mixture of U87 human glioma cells and MCF10a h...   \n",
       "\n",
       "                         LV942  \n",
       "project   run                   \n",
       "SRP059057 SRR2050417  0.680807  \n",
       "SRP053186 SRR1786593  0.676540  \n",
       "SRP055675 SRR1822125  0.668097  \n",
       "SRP053186 SRR1786590  0.645509  \n",
       "SRP059057 SRR2050420  0.642065  \n",
       "          SRR2050439  0.641908  \n",
       "          SRR2050403  0.639303  \n",
       "SRP053186 SRR1786607  0.633646  \n",
       "SRP061932 SRR2141378  0.631952  \n",
       "          SRR2141380  0.622499  \n",
       "          SRR2141381  0.620982  \n",
       "SRP053186 SRR1786597  0.615740  \n",
       "          SRR1786591  0.614710  \n",
       "          SRR1786598  0.614401  \n",
       "SRP061932 SRR2141377  0.612238  \n",
       "SRP053186 SRR1786584  0.609222  \n",
       "SRP059057 SRR2050426  0.608384  \n",
       "          SRR2050434  0.604377  \n",
       "SRP061932 SRR2141379  0.603915  \n",
       "SRP055675 SRR1822126  0.603421  \n",
       "SRP053186 SRR1786603  0.601418  \n",
       "          SRR1786594  0.595905  \n",
       "SRP055675 SRR1822123  0.592451  \n",
       "SRP061932 SRR2141376  0.584977  \n",
       "SRP055569 SRR1821557  0.584809  "
      ]
     },
     "execution_count": 37,
     "metadata": {},
     "output_type": "execute_result"
    }
   ],
   "source": [
    "_tmp_seq[2]"
   ]
  },
  {
   "cell_type": "code",
   "execution_count": 40,
   "id": "promotional-apache",
   "metadata": {},
   "outputs": [
    {
     "data": {
      "text/html": [
       "<div>\n",
       "<style scoped>\n",
       "    .dataframe tbody tr th:only-of-type {\n",
       "        vertical-align: middle;\n",
       "    }\n",
       "\n",
       "    .dataframe tbody tr th {\n",
       "        vertical-align: top;\n",
       "    }\n",
       "\n",
       "    .dataframe thead th {\n",
       "        text-align: right;\n",
       "    }\n",
       "</style>\n",
       "<table border=\"1\" class=\"dataframe\">\n",
       "  <thead>\n",
       "    <tr style=\"text-align: right;\">\n",
       "      <th></th>\n",
       "      <th></th>\n",
       "      <th>culture condition</th>\n",
       "      <th>genotype</th>\n",
       "      <th>lab data id</th>\n",
       "      <th>LV942</th>\n",
       "    </tr>\n",
       "    <tr>\n",
       "      <th>project</th>\n",
       "      <th>run</th>\n",
       "      <th></th>\n",
       "      <th></th>\n",
       "      <th></th>\n",
       "      <th></th>\n",
       "    </tr>\n",
       "  </thead>\n",
       "  <tbody>\n",
       "    <tr>\n",
       "      <th rowspan=\"20\" valign=\"top\">SRP053186</th>\n",
       "      <th>SRR1786604</th>\n",
       "      <td>3 day in vitro culture for Th0, treatment (IL27)</td>\n",
       "      <td>STAT1 GOF patient 4</td>\n",
       "      <td>843</td>\n",
       "      <td>0.711629</td>\n",
       "    </tr>\n",
       "    <tr>\n",
       "      <th>SRR1786593</th>\n",
       "      <td>3 day in vitro culture for Th0</td>\n",
       "      <td>STAT1 GOF patient 1</td>\n",
       "      <td>621</td>\n",
       "      <td>0.676540</td>\n",
       "    </tr>\n",
       "    <tr>\n",
       "      <th>SRR1786590</th>\n",
       "      <td>3 day in vitro culture for Th0</td>\n",
       "      <td>healthy control 4</td>\n",
       "      <td>835</td>\n",
       "      <td>0.645509</td>\n",
       "    </tr>\n",
       "    <tr>\n",
       "      <th>SRR1786607</th>\n",
       "      <td>3 day in vitro culture for Th0, treatment (IL27)</td>\n",
       "      <td>STAT1 GOF patient 5</td>\n",
       "      <td>846</td>\n",
       "      <td>0.633646</td>\n",
       "    </tr>\n",
       "    <tr>\n",
       "      <th>SRR1786597</th>\n",
       "      <td>3 day in vitro culture for Th0, treatment (IL6)</td>\n",
       "      <td>STAT1 GOF patient 2</td>\n",
       "      <td>796</td>\n",
       "      <td>0.615740</td>\n",
       "    </tr>\n",
       "    <tr>\n",
       "      <th>SRR1786591</th>\n",
       "      <td>3 day in vitro culture for Th0, treatment (IL6)</td>\n",
       "      <td>healthy control 4</td>\n",
       "      <td>836</td>\n",
       "      <td>0.614710</td>\n",
       "    </tr>\n",
       "    <tr>\n",
       "      <th>SRR1786598</th>\n",
       "      <td>3 day in vitro culture for Th0, treatment (IL27)</td>\n",
       "      <td>STAT1 GOF patient 2</td>\n",
       "      <td>797</td>\n",
       "      <td>0.614401</td>\n",
       "    </tr>\n",
       "    <tr>\n",
       "      <th>SRR1786584</th>\n",
       "      <td>3 day in vitro culture for Th0</td>\n",
       "      <td>healthy control 2</td>\n",
       "      <td>786</td>\n",
       "      <td>0.609222</td>\n",
       "    </tr>\n",
       "    <tr>\n",
       "      <th>SRR1786603</th>\n",
       "      <td>3 day in vitro culture for Th0, treatment (IL6)</td>\n",
       "      <td>STAT1 GOF patient 4</td>\n",
       "      <td>842</td>\n",
       "      <td>0.601418</td>\n",
       "    </tr>\n",
       "    <tr>\n",
       "      <th>SRR1786594</th>\n",
       "      <td>3 day in vitro culture for Th0, treatment (IL6)</td>\n",
       "      <td>STAT1 GOF patient 1</td>\n",
       "      <td>622</td>\n",
       "      <td>0.595905</td>\n",
       "    </tr>\n",
       "    <tr>\n",
       "      <th>SRR1786602</th>\n",
       "      <td>3 day in vitro culture for Th0</td>\n",
       "      <td>STAT1 GOF patient 4</td>\n",
       "      <td>841</td>\n",
       "      <td>0.567252</td>\n",
       "    </tr>\n",
       "    <tr>\n",
       "      <th>SRR1786592</th>\n",
       "      <td>3 day in vitro culture for Th0, treatment (IL27)</td>\n",
       "      <td>healthy control 4</td>\n",
       "      <td>837</td>\n",
       "      <td>0.566773</td>\n",
       "    </tr>\n",
       "    <tr>\n",
       "      <th>SRR1786583</th>\n",
       "      <td>3 day in vitro culture for Th0, treatment (IL27)</td>\n",
       "      <td>healthy control 1</td>\n",
       "      <td>695</td>\n",
       "      <td>0.561507</td>\n",
       "    </tr>\n",
       "    <tr>\n",
       "      <th>SRR1786606</th>\n",
       "      <td>3 day in vitro culture for Th0, treatment (IL6)</td>\n",
       "      <td>STAT1 GOF patient 5</td>\n",
       "      <td>845</td>\n",
       "      <td>0.550902</td>\n",
       "    </tr>\n",
       "    <tr>\n",
       "      <th>SRR1786605</th>\n",
       "      <td>3 day in vitro culture for Th0</td>\n",
       "      <td>STAT1 GOF patient 5</td>\n",
       "      <td>844</td>\n",
       "      <td>0.525266</td>\n",
       "    </tr>\n",
       "    <tr>\n",
       "      <th>SRR1786596</th>\n",
       "      <td>3 day in vitro culture for Th0</td>\n",
       "      <td>STAT1 GOF patient 2</td>\n",
       "      <td>795</td>\n",
       "      <td>0.524128</td>\n",
       "    </tr>\n",
       "    <tr>\n",
       "      <th>SRR1786601</th>\n",
       "      <td>3 day in vitro culture for Th0, treatment (IL27)</td>\n",
       "      <td>STAT1 GOF patient 3</td>\n",
       "      <td>840</td>\n",
       "      <td>0.523570</td>\n",
       "    </tr>\n",
       "    <tr>\n",
       "      <th>SRR1786581</th>\n",
       "      <td>3 day in vitro culture for Th0</td>\n",
       "      <td>healthy control 1</td>\n",
       "      <td>693</td>\n",
       "      <td>0.518721</td>\n",
       "    </tr>\n",
       "    <tr>\n",
       "      <th>SRR1786585</th>\n",
       "      <td>3 day in vitro culture for Th0, treatment (IL6)</td>\n",
       "      <td>healthy control 2</td>\n",
       "      <td>787</td>\n",
       "      <td>0.516283</td>\n",
       "    </tr>\n",
       "    <tr>\n",
       "      <th>SRR1786582</th>\n",
       "      <td>3 day in vitro culture for Th0, treatment (IL6)</td>\n",
       "      <td>healthy control 1</td>\n",
       "      <td>694</td>\n",
       "      <td>0.507402</td>\n",
       "    </tr>\n",
       "  </tbody>\n",
       "</table>\n",
       "</div>"
      ],
      "text/plain": [
       "                                                     culture condition  \\\n",
       "project   run                                                            \n",
       "SRP053186 SRR1786604  3 day in vitro culture for Th0, treatment (IL27)   \n",
       "          SRR1786593                    3 day in vitro culture for Th0   \n",
       "          SRR1786590                    3 day in vitro culture for Th0   \n",
       "          SRR1786607  3 day in vitro culture for Th0, treatment (IL27)   \n",
       "          SRR1786597   3 day in vitro culture for Th0, treatment (IL6)   \n",
       "          SRR1786591   3 day in vitro culture for Th0, treatment (IL6)   \n",
       "          SRR1786598  3 day in vitro culture for Th0, treatment (IL27)   \n",
       "          SRR1786584                    3 day in vitro culture for Th0   \n",
       "          SRR1786603   3 day in vitro culture for Th0, treatment (IL6)   \n",
       "          SRR1786594   3 day in vitro culture for Th0, treatment (IL6)   \n",
       "          SRR1786602                    3 day in vitro culture for Th0   \n",
       "          SRR1786592  3 day in vitro culture for Th0, treatment (IL27)   \n",
       "          SRR1786583  3 day in vitro culture for Th0, treatment (IL27)   \n",
       "          SRR1786606   3 day in vitro culture for Th0, treatment (IL6)   \n",
       "          SRR1786605                    3 day in vitro culture for Th0   \n",
       "          SRR1786596                    3 day in vitro culture for Th0   \n",
       "          SRR1786601  3 day in vitro culture for Th0, treatment (IL27)   \n",
       "          SRR1786581                    3 day in vitro culture for Th0   \n",
       "          SRR1786585   3 day in vitro culture for Th0, treatment (IL6)   \n",
       "          SRR1786582   3 day in vitro culture for Th0, treatment (IL6)   \n",
       "\n",
       "                                 genotype lab data id     LV942  \n",
       "project   run                                                    \n",
       "SRP053186 SRR1786604  STAT1 GOF patient 4         843  0.711629  \n",
       "          SRR1786593  STAT1 GOF patient 1         621  0.676540  \n",
       "          SRR1786590    healthy control 4         835  0.645509  \n",
       "          SRR1786607  STAT1 GOF patient 5         846  0.633646  \n",
       "          SRR1786597  STAT1 GOF patient 2         796  0.615740  \n",
       "          SRR1786591    healthy control 4         836  0.614710  \n",
       "          SRR1786598  STAT1 GOF patient 2         797  0.614401  \n",
       "          SRR1786584    healthy control 2         786  0.609222  \n",
       "          SRR1786603  STAT1 GOF patient 4         842  0.601418  \n",
       "          SRR1786594  STAT1 GOF patient 1         622  0.595905  \n",
       "          SRR1786602  STAT1 GOF patient 4         841  0.567252  \n",
       "          SRR1786592    healthy control 4         837  0.566773  \n",
       "          SRR1786583    healthy control 1         695  0.561507  \n",
       "          SRR1786606  STAT1 GOF patient 5         845  0.550902  \n",
       "          SRR1786605  STAT1 GOF patient 5         844  0.525266  \n",
       "          SRR1786596  STAT1 GOF patient 2         795  0.524128  \n",
       "          SRR1786601  STAT1 GOF patient 3         840  0.523570  \n",
       "          SRR1786581    healthy control 1         693  0.518721  \n",
       "          SRR1786585    healthy control 2         787  0.516283  \n",
       "          SRR1786582    healthy control 1         694  0.507402  "
      ]
     },
     "execution_count": 40,
     "metadata": {},
     "output_type": "execute_result"
    }
   ],
   "source": [
    "# what is there in these projects?\n",
    "lv_data.loc[[\"SRP053186\"]].dropna(how=\"all\", axis=1).sort_values(\n",
    "    LV_NAME, ascending=False\n",
    ").sort_values(LV_NAME, ascending=False).head(20)"
   ]
  },
  {
   "cell_type": "markdown",
   "id": "preceding-regular",
   "metadata": {},
   "source": [
    "**No cell types/tissues/cell lines** so not very interesting"
   ]
  },
  {
   "cell_type": "code",
   "execution_count": 41,
   "id": "comfortable-haven",
   "metadata": {},
   "outputs": [],
   "source": [
    "SELECTED_ATTRIBUTE = \"cell type\""
   ]
  },
  {
   "cell_type": "code",
   "execution_count": 42,
   "id": "gothic-burden",
   "metadata": {},
   "outputs": [],
   "source": [
    "# it has to be in the order desired for filling nans in the SELECTED_ATTRIBUTE\n",
    "SECOND_ATTRIBUTES = [\n",
    "    \"tissue\",\n",
    "    #     \"tissue subtype\"\n",
    "]"
   ]
  },
  {
   "cell_type": "markdown",
   "id": "played-integration",
   "metadata": {},
   "source": [
    "## Get plot data"
   ]
  },
  {
   "cell_type": "code",
   "execution_count": 56,
   "id": "chief-politics",
   "metadata": {},
   "outputs": [],
   "source": [
    "plot_data = lv_data.loc[:, [SELECTED_ATTRIBUTE] + SECOND_ATTRIBUTES + [LV_NAME]]"
   ]
  },
  {
   "cell_type": "code",
   "execution_count": 57,
   "id": "experimental-breakfast",
   "metadata": {},
   "outputs": [],
   "source": [
    "# if blank/nan, fill cell type column with tissue content\n",
    "_new_column = plot_data[[SELECTED_ATTRIBUTE] + SECOND_ATTRIBUTES].fillna(\n",
    "    method=\"backfill\", axis=1\n",
    ")[SELECTED_ATTRIBUTE]\n",
    "plot_data[SELECTED_ATTRIBUTE] = _new_column\n",
    "plot_data = plot_data.drop(columns=SECOND_ATTRIBUTES)\n",
    "plot_data = plot_data.fillna({SELECTED_ATTRIBUTE: \"NOT CATEGORIZED\"})\n",
    "# plot_data = plot_data.dropna(subset=[SELECTED_ATTRIBUTE])"
   ]
  },
  {
   "cell_type": "code",
   "execution_count": 58,
   "id": "alternative-leone",
   "metadata": {},
   "outputs": [],
   "source": [
    "plot_data = plot_data.sort_values(LV_NAME, ascending=False)"
   ]
  },
  {
   "cell_type": "code",
   "execution_count": 59,
   "id": "thorough-fifth",
   "metadata": {},
   "outputs": [
    {
     "data": {
      "text/html": [
       "<div>\n",
       "<style scoped>\n",
       "    .dataframe tbody tr th:only-of-type {\n",
       "        vertical-align: middle;\n",
       "    }\n",
       "\n",
       "    .dataframe tbody tr th {\n",
       "        vertical-align: top;\n",
       "    }\n",
       "\n",
       "    .dataframe thead th {\n",
       "        text-align: right;\n",
       "    }\n",
       "</style>\n",
       "<table border=\"1\" class=\"dataframe\">\n",
       "  <thead>\n",
       "    <tr style=\"text-align: right;\">\n",
       "      <th></th>\n",
       "      <th></th>\n",
       "      <th>cell type</th>\n",
       "      <th>LV942</th>\n",
       "    </tr>\n",
       "    <tr>\n",
       "      <th>project</th>\n",
       "      <th>run</th>\n",
       "      <th></th>\n",
       "      <th></th>\n",
       "    </tr>\n",
       "  </thead>\n",
       "  <tbody>\n",
       "    <tr>\n",
       "      <th rowspan=\"20\" valign=\"top\">SRP059057</th>\n",
       "      <th>SRR2050415</th>\n",
       "      <td>NOT CATEGORIZED</td>\n",
       "      <td>1.849199</td>\n",
       "    </tr>\n",
       "    <tr>\n",
       "      <th>SRR2050461</th>\n",
       "      <td>NOT CATEGORIZED</td>\n",
       "      <td>1.847688</td>\n",
       "    </tr>\n",
       "    <tr>\n",
       "      <th>SRR2050449</th>\n",
       "      <td>NOT CATEGORIZED</td>\n",
       "      <td>1.844982</td>\n",
       "    </tr>\n",
       "    <tr>\n",
       "      <th>SRR2050452</th>\n",
       "      <td>NOT CATEGORIZED</td>\n",
       "      <td>1.832411</td>\n",
       "    </tr>\n",
       "    <tr>\n",
       "      <th>SRR2050406</th>\n",
       "      <td>NOT CATEGORIZED</td>\n",
       "      <td>1.793885</td>\n",
       "    </tr>\n",
       "    <tr>\n",
       "      <th>SRR2050447</th>\n",
       "      <td>NOT CATEGORIZED</td>\n",
       "      <td>1.788836</td>\n",
       "    </tr>\n",
       "    <tr>\n",
       "      <th>SRR2050455</th>\n",
       "      <td>NOT CATEGORIZED</td>\n",
       "      <td>1.737083</td>\n",
       "    </tr>\n",
       "    <tr>\n",
       "      <th>SRR2050464</th>\n",
       "      <td>NOT CATEGORIZED</td>\n",
       "      <td>1.702467</td>\n",
       "    </tr>\n",
       "    <tr>\n",
       "      <th>SRR2050396</th>\n",
       "      <td>NOT CATEGORIZED</td>\n",
       "      <td>1.684699</td>\n",
       "    </tr>\n",
       "    <tr>\n",
       "      <th>SRR2050458</th>\n",
       "      <td>NOT CATEGORIZED</td>\n",
       "      <td>1.677156</td>\n",
       "    </tr>\n",
       "    <tr>\n",
       "      <th>SRR2050393</th>\n",
       "      <td>NOT CATEGORIZED</td>\n",
       "      <td>1.607259</td>\n",
       "    </tr>\n",
       "    <tr>\n",
       "      <th>SRR2050435</th>\n",
       "      <td>NOT CATEGORIZED</td>\n",
       "      <td>1.529873</td>\n",
       "    </tr>\n",
       "    <tr>\n",
       "      <th>SRR2050418</th>\n",
       "      <td>NOT CATEGORIZED</td>\n",
       "      <td>1.518384</td>\n",
       "    </tr>\n",
       "    <tr>\n",
       "      <th>SRR2050444</th>\n",
       "      <td>NOT CATEGORIZED</td>\n",
       "      <td>1.511733</td>\n",
       "    </tr>\n",
       "    <tr>\n",
       "      <th>SRR2050424</th>\n",
       "      <td>NOT CATEGORIZED</td>\n",
       "      <td>1.510119</td>\n",
       "    </tr>\n",
       "    <tr>\n",
       "      <th>SRR2050438</th>\n",
       "      <td>NOT CATEGORIZED</td>\n",
       "      <td>1.467431</td>\n",
       "    </tr>\n",
       "    <tr>\n",
       "      <th>SRR2050430</th>\n",
       "      <td>NOT CATEGORIZED</td>\n",
       "      <td>1.429509</td>\n",
       "    </tr>\n",
       "    <tr>\n",
       "      <th>SRR2050401</th>\n",
       "      <td>NOT CATEGORIZED</td>\n",
       "      <td>1.371346</td>\n",
       "    </tr>\n",
       "    <tr>\n",
       "      <th>SRR2050398</th>\n",
       "      <td>NOT CATEGORIZED</td>\n",
       "      <td>1.363229</td>\n",
       "    </tr>\n",
       "    <tr>\n",
       "      <th>SRR2050412</th>\n",
       "      <td>NOT CATEGORIZED</td>\n",
       "      <td>1.311291</td>\n",
       "    </tr>\n",
       "  </tbody>\n",
       "</table>\n",
       "</div>"
      ],
      "text/plain": [
       "                            cell type     LV942\n",
       "project   run                                  \n",
       "SRP059057 SRR2050415  NOT CATEGORIZED  1.849199\n",
       "          SRR2050461  NOT CATEGORIZED  1.847688\n",
       "          SRR2050449  NOT CATEGORIZED  1.844982\n",
       "          SRR2050452  NOT CATEGORIZED  1.832411\n",
       "          SRR2050406  NOT CATEGORIZED  1.793885\n",
       "          SRR2050447  NOT CATEGORIZED  1.788836\n",
       "          SRR2050455  NOT CATEGORIZED  1.737083\n",
       "          SRR2050464  NOT CATEGORIZED  1.702467\n",
       "          SRR2050396  NOT CATEGORIZED  1.684699\n",
       "          SRR2050458  NOT CATEGORIZED  1.677156\n",
       "          SRR2050393  NOT CATEGORIZED  1.607259\n",
       "          SRR2050435  NOT CATEGORIZED  1.529873\n",
       "          SRR2050418  NOT CATEGORIZED  1.518384\n",
       "          SRR2050444  NOT CATEGORIZED  1.511733\n",
       "          SRR2050424  NOT CATEGORIZED  1.510119\n",
       "          SRR2050438  NOT CATEGORIZED  1.467431\n",
       "          SRR2050430  NOT CATEGORIZED  1.429509\n",
       "          SRR2050401  NOT CATEGORIZED  1.371346\n",
       "          SRR2050398  NOT CATEGORIZED  1.363229\n",
       "          SRR2050412  NOT CATEGORIZED  1.311291"
      ]
     },
     "execution_count": 59,
     "metadata": {},
     "output_type": "execute_result"
    }
   ],
   "source": [
    "plot_data.head(20)"
   ]
  },
  {
   "cell_type": "markdown",
   "id": "permanent-lincoln",
   "metadata": {},
   "source": [
    "## Customize x-axis values"
   ]
  },
  {
   "cell_type": "markdown",
   "id": "judicial-thriller",
   "metadata": {},
   "source": [
    "When cell type values are not very clear, customize their names by looking at their specific studies to know exactly what the authors meant."
   ]
  },
  {
   "cell_type": "code",
   "execution_count": 60,
   "id": "occupational-porter",
   "metadata": {},
   "outputs": [],
   "source": [
    "final_plot_data = plot_data.replace(\n",
    "    {\n",
    "        SELECTED_ATTRIBUTE: {\n",
    "            #             \"normal skin\": \"Skin\",\n",
    "            #             \"liver\": \"Liver\",\n",
    "            #             \"Human Skeletal Muscle Myoblasts (HSMM)\": \"Skeletal muscle myoblasts\",\n",
    "            #             \"astrocytes\": \"Astrocytes\",\n",
    "            #             \"mixture of U87 human glioma cells and WI-38 human lung fibroblast cells\": \"Glioma cells + lung fibroblast cells\",\n",
    "            #             \"functional hepatocytes generated by lineage reprogramming\": \"Hepatocytes\",\n",
    "            #             \"human adipose-derived stem cells\": \"Adipose-derived stem cells\",\n",
    "            #             \"adipose\": \"Adipose\",\n",
    "            #             \"embryonic stem cells\": \"Embryonic stem cells\",\n",
    "            #             \"primary keratinocytes\": \"Primary keratinocytes\",\n",
    "            #             \"fetal liver\": \"Fetal liver\",\n",
    "            #             \"in vitro differentiated erythroid cells\": \"Erythroid cells\",\n",
    "            #             \"WAT\": \"White adipose tissue\",\n",
    "            #             \"BAT\": \"Brown adipose tissue\",\n",
    "            #             \"Uninvolved Breast Tissue Adjacent to ER+ Primary Tumor\": \"Breast tissue adjacent to ER+ tumor\",\n",
    "            #             \"ovarian granulosa cells\": \"Ovarian granulosa cells\",\n",
    "            \"mixture of U87 human glioma cells and MCF10a human breast cancer cells\": \"glioma cells + breast cancer cells\",\n",
    "        }\n",
    "    }\n",
    ")"
   ]
  },
  {
   "cell_type": "code",
   "execution_count": 61,
   "id": "minor-scanning",
   "metadata": {},
   "outputs": [
    {
     "name": "stderr",
     "output_type": "stream",
     "text": [
      "<ipython-input-61-1acc3eb2eb18>:3: PerformanceWarning: indexing past lexsort depth may impact performance.\n",
      "  _tmp = final_plot_data.loc[(_srp_code,)].apply(\n",
      "<ipython-input-61-1acc3eb2eb18>:12: PerformanceWarning: indexing past lexsort depth may impact performance.\n",
      "  _tmp = final_plot_data.loc[(_srp_code,)].apply(\n"
     ]
    }
   ],
   "source": [
    "# add also tissue information to these projects\n",
    "_srp_code = \"SRP059057\"\n",
    "_tmp = final_plot_data.loc[(_srp_code,)].apply(\n",
    "    lambda x: \"CD4+ T cells\"\n",
    "    + f\" ({lv_data.loc[(_srp_code, x.name), 'cell stimulation']})\",\n",
    "    #     + f\" ({lv_data.loc[(_srp_code, x.name), 'phenotype']})\",\n",
    "    axis=1,\n",
    ")\n",
    "final_plot_data.loc[(_srp_code, _tmp.index), SELECTED_ATTRIBUTE] = _tmp.values\n",
    "\n",
    "_srp_code = \"SRP053186\"\n",
    "_tmp = final_plot_data.loc[(_srp_code,)].apply(\n",
    "    lambda x: \"CD4+ T cells\",\n",
    "    axis=1,\n",
    ")\n",
    "final_plot_data.loc[(_srp_code, _tmp.index), SELECTED_ATTRIBUTE] = _tmp.values"
   ]
  },
  {
   "cell_type": "code",
   "execution_count": 62,
   "id": "computational-height",
   "metadata": {},
   "outputs": [],
   "source": [
    "# take the top samples only\n",
    "final_plot_data = final_plot_data.sort_values(LV_NAME, ascending=False)[:N_TOP_SAMPLES]"
   ]
  },
  {
   "cell_type": "markdown",
   "id": "recreational-lawyer",
   "metadata": {},
   "source": [
    "## Threshold LV values"
   ]
  },
  {
   "cell_type": "code",
   "execution_count": 63,
   "id": "stable-peripheral",
   "metadata": {},
   "outputs": [],
   "source": [
    "final_plot_data.loc[\n",
    "    final_plot_data[LV_NAME] > LV_AXIS_THRESHOLD, LV_NAME\n",
    "] = LV_AXIS_THRESHOLD"
   ]
  },
  {
   "cell_type": "markdown",
   "id": "affiliated-person",
   "metadata": {},
   "source": [
    "## Delete samples with no tissue/cell type information"
   ]
  },
  {
   "cell_type": "code",
   "execution_count": 64,
   "id": "automotive-horse",
   "metadata": {},
   "outputs": [],
   "source": [
    "final_plot_data = final_plot_data[\n",
    "    final_plot_data[SELECTED_ATTRIBUTE] != \"NOT CATEGORIZED\"\n",
    "]"
   ]
  },
  {
   "cell_type": "markdown",
   "id": "developmental-edinburgh",
   "metadata": {},
   "source": [
    "## Set x-axis order"
   ]
  },
  {
   "cell_type": "code",
   "execution_count": 65,
   "id": "alternative-point",
   "metadata": {},
   "outputs": [],
   "source": [
    "attr_order = (\n",
    "    final_plot_data.groupby(SELECTED_ATTRIBUTE)\n",
    "    .max()\n",
    "    .sort_values(LV_NAME, ascending=False)\n",
    "    .index[:N_TOP_ATTRS]\n",
    "    .tolist()\n",
    ")"
   ]
  },
  {
   "cell_type": "code",
   "execution_count": 66,
   "id": "palestinian-reservoir",
   "metadata": {},
   "outputs": [
    {
     "data": {
      "text/plain": [
       "15"
      ]
     },
     "execution_count": 66,
     "metadata": {},
     "output_type": "execute_result"
    }
   ],
   "source": [
    "len(attr_order)"
   ]
  },
  {
   "cell_type": "code",
   "execution_count": 67,
   "id": "looking-seven",
   "metadata": {},
   "outputs": [
    {
     "data": {
      "text/plain": [
       "['CD4+ T cells (Phorbal myristate acetate (PMA) stimulation)',\n",
       " 'tonsil Innate lymphoid cells',\n",
       " 'CD4+ T cells (anti-CD3/anti-CD28 stimulation)',\n",
       " 'CD4+ T cells',\n",
       " 'regulatory T cells']"
      ]
     },
     "execution_count": 67,
     "metadata": {},
     "output_type": "execute_result"
    }
   ],
   "source": [
    "attr_order[:5]"
   ]
  },
  {
   "cell_type": "markdown",
   "id": "toxic-shower",
   "metadata": {},
   "source": [
    "## Plot"
   ]
  },
  {
   "cell_type": "code",
   "execution_count": 72,
   "id": "conservative-static",
   "metadata": {},
   "outputs": [
    {
     "data": {
      "image/png": "[encoded data removed]",
      "text/plain": [
       "<Figure size 1260x360 with 1 Axes>"
      ]
     },
     "metadata": {},
     "output_type": "display_data"
    }
   ],
   "source": [
    "with sns.plotting_context(\"paper\", font_scale=2.5), sns.axes_style(\"whitegrid\"):\n",
    "    g = sns.catplot(\n",
    "        data=final_plot_data,\n",
    "        y=LV_NAME,\n",
    "        x=SELECTED_ATTRIBUTE,\n",
    "        order=attr_order,\n",
    "        kind=\"strip\",\n",
    "        height=5,\n",
    "        aspect=3.5,\n",
    "    )\n",
    "    plt.xticks(rotation=45, horizontalalignment=\"right\")\n",
    "    plt.xlabel(\"\")\n",
    "\n",
    "#     plt.savefig(\n",
    "#         OUTPUT_CELL_TYPE_FILEPATH,\n",
    "#         bbox_inches=\"tight\",\n",
    "#         facecolor=\"white\",\n",
    "#     )"
   ]
  },
  {
   "cell_type": "markdown",
   "id": "geographic-nelson",
   "metadata": {},
   "source": [
    "# Debug"
   ]
  },
  {
   "cell_type": "code",
   "execution_count": 69,
   "id": "built-pricing",
   "metadata": {},
   "outputs": [
    {
     "data": {
      "text/html": [
       "<div>\n",
       "<style scoped>\n",
       "    .dataframe tbody tr th:only-of-type {\n",
       "        vertical-align: middle;\n",
       "    }\n",
       "\n",
       "    .dataframe tbody tr th {\n",
       "        vertical-align: top;\n",
       "    }\n",
       "\n",
       "    .dataframe thead th {\n",
       "        text-align: right;\n",
       "    }\n",
       "</style>\n",
       "<table border=\"1\" class=\"dataframe\">\n",
       "  <thead>\n",
       "    <tr style=\"text-align: right;\">\n",
       "      <th></th>\n",
       "      <th></th>\n",
       "      <th>cell type</th>\n",
       "      <th>LV942</th>\n",
       "    </tr>\n",
       "    <tr>\n",
       "      <th>project</th>\n",
       "      <th>run</th>\n",
       "      <th></th>\n",
       "      <th></th>\n",
       "    </tr>\n",
       "  </thead>\n",
       "  <tbody>\n",
       "  </tbody>\n",
       "</table>\n",
       "</div>"
      ],
      "text/plain": [
       "Empty DataFrame\n",
       "Columns: [cell type, LV942]\n",
       "Index: []"
      ]
     },
     "metadata": {},
     "output_type": "display_data"
    }
   ],
   "source": [
    "# with pd.option_context(\n",
    "#     \"display.max_rows\", None, \"display.max_columns\", None, \"display.max_colwidth\", None\n",
    "# ):\n",
    "#     _tmp = final_plot_data[final_plot_data[SELECTED_ATTRIBUTE].str.contains(\"NOT CAT\")]\n",
    "#     display(_tmp.head(20))"
   ]
  },
  {
   "cell_type": "code",
   "execution_count": 70,
   "id": "victorian-oxford",
   "metadata": {},
   "outputs": [],
   "source": [
    "# # what is there in these projects?\n",
    "# lv_data.loc[[\"SRP056041\"]].dropna(how=\"all\", axis=1).sort_values(\n",
    "#     LV_NAME, ascending=False\n",
    "# ).head(60)"
   ]
  },
  {
   "cell_type": "code",
   "execution_count": null,
   "id": "objective-jungle",
   "metadata": {},
   "outputs": [],
   "source": []
  }
 ],
 "metadata": {
  "jupytext": {
   "cell_metadata_filter": "all,-execution,-papermill,-trusted",
   "formats": "ipynb,py//py:percent"
  },
  "kernelspec": {
   "display_name": "Python 3",
   "language": "python",
   "name": "python3"
  },
  "language_info": {
   "codemirror_mode": {
    "name": "ipython",
    "version": 3
   },
   "file_extension": ".py",
   "mimetype": "text/x-python",
   "name": "python",
   "nbconvert_exporter": "python",
   "pygments_lexer": "ipython3",
   "version": "3.8.8"
  }
 },
 "nbformat": 4,
 "nbformat_minor": 5
}
